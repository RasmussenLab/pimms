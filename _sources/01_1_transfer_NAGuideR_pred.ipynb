{
 "cells": [
  {
   "cell_type": "markdown",
   "id": "a75efcbe-2ae0-4609-872a-759fb5c80af1",
   "metadata": {
    "papermill": {
     "duration": 0.003503,
     "end_time": "2024-05-31T10:05:43.500938",
     "exception": false,
     "start_time": "2024-05-31T10:05:43.497435",
     "status": "completed"
    },
    "tags": []
   },
   "source": [
    "# Transfer predictions from NAGuideR\n"
   ]
  },
  {
   "cell_type": "code",
   "execution_count": 1,
   "id": "f29b93d1",
   "metadata": {
    "execution": {
     "iopub.execute_input": "2024-05-31T10:05:43.507344Z",
     "iopub.status.busy": "2024-05-31T10:05:43.507139Z",
     "iopub.status.idle": "2024-05-31T10:05:45.658671Z",
     "shell.execute_reply": "2024-05-31T10:05:45.658069Z"
    },
    "papermill": {
     "duration": 2.156465,
     "end_time": "2024-05-31T10:05:45.660231",
     "exception": false,
     "start_time": "2024-05-31T10:05:43.503766",
     "status": "completed"
    },
    "tags": [
     "hide-input"
    ]
   },
   "outputs": [],
   "source": [
    "import logging\n",
    "from pathlib import Path\n",
    "\n",
    "import matplotlib.pyplot as plt\n",
    "import pandas as pd\n",
    "\n",
    "import vaep\n",
    "import vaep.models\n",
    "import vaep.pandas\n",
    "from vaep.io import datasplits\n",
    "\n",
    "vaep.plotting.make_large_descriptors(5)\n",
    "\n",
    "logger = vaep.logging.setup_logger(logging.getLogger('vaep'))"
   ]
  },
  {
   "cell_type": "code",
   "execution_count": 2,
   "id": "cbf23f02",
   "metadata": {
    "execution": {
     "iopub.execute_input": "2024-05-31T10:05:45.667181Z",
     "iopub.status.busy": "2024-05-31T10:05:45.666860Z",
     "iopub.status.idle": "2024-05-31T10:05:45.669661Z",
     "shell.execute_reply": "2024-05-31T10:05:45.669172Z"
    },
    "papermill": {
     "duration": 0.007491,
     "end_time": "2024-05-31T10:05:45.670743",
     "exception": false,
     "start_time": "2024-05-31T10:05:45.663252",
     "status": "completed"
    },
    "tags": [
     "hide-input"
    ]
   },
   "outputs": [],
   "source": [
    "# catch passed parameters\n",
    "args = None\n",
    "args = dict(globals()).keys()"
   ]
  },
  {
   "cell_type": "markdown",
   "id": "8b02b864",
   "metadata": {
    "papermill": {
     "duration": 0.002733,
     "end_time": "2024-05-31T10:05:45.676152",
     "exception": false,
     "start_time": "2024-05-31T10:05:45.673419",
     "status": "completed"
    },
    "tags": []
   },
   "source": [
    "Papermill script parameters:"
   ]
  },
  {
   "cell_type": "code",
   "execution_count": 3,
   "id": "a08a34aa",
   "metadata": {
    "execution": {
     "iopub.execute_input": "2024-05-31T10:05:45.682530Z",
     "iopub.status.busy": "2024-05-31T10:05:45.682341Z",
     "iopub.status.idle": "2024-05-31T10:05:45.685395Z",
     "shell.execute_reply": "2024-05-31T10:05:45.684851Z"
    },
    "papermill": {
     "duration": 0.007718,
     "end_time": "2024-05-31T10:05:45.686630",
     "exception": false,
     "start_time": "2024-05-31T10:05:45.678912",
     "status": "completed"
    },
    "tags": [
     "parameters"
    ]
   },
   "outputs": [],
   "source": [
    "# files and folders\n",
    "# Datasplit folder with data for experiment\n",
    "folder_experiment: str = 'runs/example'\n",
    "folder_data: str = ''  # specify data directory if needed\n",
    "file_format: str = 'csv'  # file format of create splits, default pickle (csv)\n",
    "identifer_str: str = '_all_'  # identifier for prediction files to be filtered\n",
    "dumps: list = None  # list of dumps to be used"
   ]
  },
  {
   "cell_type": "code",
   "execution_count": 4,
   "id": "700fdff4",
   "metadata": {
    "execution": {
     "iopub.execute_input": "2024-05-31T10:05:45.694019Z",
     "iopub.status.busy": "2024-05-31T10:05:45.693639Z",
     "iopub.status.idle": "2024-05-31T10:05:45.696589Z",
     "shell.execute_reply": "2024-05-31T10:05:45.696029Z"
    },
    "papermill": {
     "duration": 0.007443,
     "end_time": "2024-05-31T10:05:45.697714",
     "exception": false,
     "start_time": "2024-05-31T10:05:45.690271",
     "status": "completed"
    },
    "tags": [
     "injected-parameters"
    ]
   },
   "outputs": [],
   "source": [
    "# Parameters\n",
    "dumps = \"runs/alzheimer_study/preds/pred_all_BPCA.csv,runs/alzheimer_study/preds/pred_all_COLMEDIAN.csv,runs/alzheimer_study/preds/pred_all_IMPSEQ.csv,runs/alzheimer_study/preds/pred_all_IMPSEQROB.csv,runs/alzheimer_study/preds/pred_all_IRM.csv,runs/alzheimer_study/preds/pred_all_KNN_IMPUTE.csv,runs/alzheimer_study/preds/pred_all_LLS.csv,runs/alzheimer_study/preds/pred_all_MINDET.csv,runs/alzheimer_study/preds/pred_all_MINIMUM.csv,runs/alzheimer_study/preds/pred_all_MINPROB.csv,runs/alzheimer_study/preds/pred_all_MLE.csv,runs/alzheimer_study/preds/pred_all_MSIMPUTE.csv,runs/alzheimer_study/preds/pred_all_MSIMPUTE_MNAR.csv,runs/alzheimer_study/preds/pred_all_PI.csv,runs/alzheimer_study/preds/pred_all_QRILC.csv,runs/alzheimer_study/preds/pred_all_RF.csv,runs/alzheimer_study/preds/pred_all_ROWMEDIAN.csv,runs/alzheimer_study/preds/pred_all_SVDMETHOD.csv,runs/alzheimer_study/preds/pred_all_TRKNN.csv,runs/alzheimer_study/preds/pred_all_ZERO.csv\"\n",
    "folder_experiment = \"runs/alzheimer_study\"\n"
   ]
  },
  {
   "cell_type": "markdown",
   "id": "26815da7",
   "metadata": {
    "lines_to_next_cell": 2,
    "papermill": {
     "duration": 0.002849,
     "end_time": "2024-05-31T10:05:45.703381",
     "exception": false,
     "start_time": "2024-05-31T10:05:45.700532",
     "status": "completed"
    },
    "tags": []
   },
   "source": [
    "Some argument transformations"
   ]
  },
  {
   "cell_type": "code",
   "execution_count": 5,
   "id": "3d5c476b",
   "metadata": {
    "execution": {
     "iopub.execute_input": "2024-05-31T10:05:45.709929Z",
     "iopub.status.busy": "2024-05-31T10:05:45.709562Z",
     "iopub.status.idle": "2024-05-31T10:05:45.716467Z",
     "shell.execute_reply": "2024-05-31T10:05:45.715921Z"
    },
    "papermill": {
     "duration": 0.011371,
     "end_time": "2024-05-31T10:05:45.717561",
     "exception": false,
     "start_time": "2024-05-31T10:05:45.706190",
     "status": "completed"
    },
    "tags": [
     "hide-input"
    ]
   },
   "outputs": [
    {
     "data": {
      "text/plain": [
       "{'data': Path('runs/alzheimer_study/data'),\n",
       " 'dumps': 'runs/alzheimer_study/preds/pred_all_BPCA.csv,runs/alzheimer_study/preds/pred_all_COLMEDIAN.csv,runs/alzheimer_study/preds/pred_all_IMPSEQ.csv,runs/alzheimer_study/preds/pred_all_IMPSEQROB.csv,runs/alzheimer_study/preds/pred_all_IRM.csv,runs/alzheimer_study/preds/pred_all_KNN_IMPUTE.csv,runs/alzheimer_study/preds/pred_all_LLS.csv,runs/alzheimer_study/preds/pred_all_MINDET.csv,runs/alzheimer_study/preds/pred_all_MINIMUM.csv,runs/alzheimer_study/preds/pred_all_MINPROB.csv,runs/alzheimer_study/preds/pred_all_MLE.csv,runs/alzheimer_study/preds/pred_all_MSIMPUTE.csv,runs/alzheimer_study/preds/pred_all_MSIMPUTE_MNAR.csv,runs/alzheimer_study/preds/pred_all_PI.csv,runs/alzheimer_study/preds/pred_all_QRILC.csv,runs/alzheimer_study/preds/pred_all_RF.csv,runs/alzheimer_study/preds/pred_all_ROWMEDIAN.csv,runs/alzheimer_study/preds/pred_all_SVDMETHOD.csv,runs/alzheimer_study/preds/pred_all_TRKNN.csv,runs/alzheimer_study/preds/pred_all_ZERO.csv',\n",
       " 'file_format': 'csv',\n",
       " 'folder_data': '',\n",
       " 'folder_experiment': Path('runs/alzheimer_study'),\n",
       " 'identifer_str': '_all_',\n",
       " 'out_figures': Path('runs/alzheimer_study/figures'),\n",
       " 'out_folder': Path('runs/alzheimer_study'),\n",
       " 'out_metrics': Path('runs/alzheimer_study'),\n",
       " 'out_models': Path('runs/alzheimer_study'),\n",
       " 'out_preds': Path('runs/alzheimer_study/preds')}"
      ]
     },
     "execution_count": 5,
     "metadata": {},
     "output_type": "execute_result"
    }
   ],
   "source": [
    "args = vaep.nb.get_params(args, globals=globals())\n",
    "args = vaep.nb.args_from_dict(args)\n",
    "args"
   ]
  },
  {
   "cell_type": "code",
   "execution_count": 6,
   "id": "ba3513a7",
   "metadata": {
    "execution": {
     "iopub.execute_input": "2024-05-31T10:05:45.724398Z",
     "iopub.status.busy": "2024-05-31T10:05:45.724052Z",
     "iopub.status.idle": "2024-05-31T10:05:45.726576Z",
     "shell.execute_reply": "2024-05-31T10:05:45.726049Z"
    },
    "papermill": {
     "duration": 0.007077,
     "end_time": "2024-05-31T10:05:45.727676",
     "exception": false,
     "start_time": "2024-05-31T10:05:45.720599",
     "status": "completed"
    },
    "tags": [
     "hide-input"
    ]
   },
   "outputs": [],
   "source": [
    "files_out = {}"
   ]
  },
  {
   "cell_type": "markdown",
   "id": "ba15118b",
   "metadata": {
    "papermill": {
     "duration": 0.002878,
     "end_time": "2024-05-31T10:05:45.733840",
     "exception": false,
     "start_time": "2024-05-31T10:05:45.730962",
     "status": "completed"
    },
    "tags": []
   },
   "source": [
    "load data splits"
   ]
  },
  {
   "cell_type": "code",
   "execution_count": 7,
   "id": "75341d2b",
   "metadata": {
    "execution": {
     "iopub.execute_input": "2024-05-31T10:05:45.740608Z",
     "iopub.status.busy": "2024-05-31T10:05:45.740198Z",
     "iopub.status.idle": "2024-05-31T10:05:45.876539Z",
     "shell.execute_reply": "2024-05-31T10:05:45.875979Z"
    },
    "lines_to_next_cell": 2,
    "papermill": {
     "duration": 0.140942,
     "end_time": "2024-05-31T10:05:45.877684",
     "exception": false,
     "start_time": "2024-05-31T10:05:45.736742",
     "status": "completed"
    },
    "tags": [
     "hide-input"
    ]
   },
   "outputs": [
    {
     "name": "stdout",
     "output_type": "stream",
     "text": [
      "vaep.io.datasplits - INFO     Loaded 'train_X' from file: runs/alzheimer_study/data/train_X.csv\n"
     ]
    },
    {
     "name": "stdout",
     "output_type": "stream",
     "text": [
      "vaep.io.datasplits - INFO     Loaded 'val_y' from file: runs/alzheimer_study/data/val_y.csv\n"
     ]
    },
    {
     "name": "stdout",
     "output_type": "stream",
     "text": [
      "vaep.io.datasplits - INFO     Loaded 'test_y' from file: runs/alzheimer_study/data/test_y.csv\n"
     ]
    }
   ],
   "source": [
    "data = datasplits.DataSplits.from_folder(\n",
    "    args.data, file_format=args.file_format)"
   ]
  },
  {
   "cell_type": "markdown",
   "id": "dbef8da3",
   "metadata": {
    "papermill": {
     "duration": 0.003143,
     "end_time": "2024-05-31T10:05:45.884262",
     "exception": false,
     "start_time": "2024-05-31T10:05:45.881119",
     "status": "completed"
    },
    "tags": []
   },
   "source": [
    "Validation and test data split of simulated missing values"
   ]
  },
  {
   "cell_type": "code",
   "execution_count": 8,
   "id": "723eacd2",
   "metadata": {
    "execution": {
     "iopub.execute_input": "2024-05-31T10:05:45.891342Z",
     "iopub.status.busy": "2024-05-31T10:05:45.891004Z",
     "iopub.status.idle": "2024-05-31T10:05:45.900035Z",
     "shell.execute_reply": "2024-05-31T10:05:45.899488Z"
    },
    "papermill": {
     "duration": 0.013912,
     "end_time": "2024-05-31T10:05:45.901207",
     "exception": false,
     "start_time": "2024-05-31T10:05:45.887295",
     "status": "completed"
    },
    "tags": [
     "hide-input"
    ]
   },
   "outputs": [
    {
     "data": {
      "text/html": [
       "<div>\n",
       "<style scoped>\n",
       "    .dataframe tbody tr th:only-of-type {\n",
       "        vertical-align: middle;\n",
       "    }\n",
       "\n",
       "    .dataframe tbody tr th {\n",
       "        vertical-align: top;\n",
       "    }\n",
       "\n",
       "    .dataframe thead th {\n",
       "        text-align: right;\n",
       "    }\n",
       "</style>\n",
       "<table border=\"1\" class=\"dataframe\">\n",
       "  <thead>\n",
       "    <tr style=\"text-align: right;\">\n",
       "      <th></th>\n",
       "      <th></th>\n",
       "      <th>observed</th>\n",
       "    </tr>\n",
       "    <tr>\n",
       "      <th>Sample ID</th>\n",
       "      <th>protein groups</th>\n",
       "      <th></th>\n",
       "    </tr>\n",
       "  </thead>\n",
       "  <tbody>\n",
       "    <tr>\n",
       "      <th>Sample_158</th>\n",
       "      <th>Q9UN70;Q9UN70-2</th>\n",
       "      <td>14.630</td>\n",
       "    </tr>\n",
       "    <tr>\n",
       "      <th>Sample_050</th>\n",
       "      <th>Q9Y287</th>\n",
       "      <td>15.755</td>\n",
       "    </tr>\n",
       "    <tr>\n",
       "      <th>Sample_107</th>\n",
       "      <th>Q8N475;Q8N475-2</th>\n",
       "      <td>15.029</td>\n",
       "    </tr>\n",
       "    <tr>\n",
       "      <th>Sample_199</th>\n",
       "      <th>P06307</th>\n",
       "      <td>19.376</td>\n",
       "    </tr>\n",
       "    <tr>\n",
       "      <th>Sample_067</th>\n",
       "      <th>Q5VUB5</th>\n",
       "      <td>15.309</td>\n",
       "    </tr>\n",
       "    <tr>\n",
       "      <th>...</th>\n",
       "      <th>...</th>\n",
       "      <td>...</td>\n",
       "    </tr>\n",
       "    <tr>\n",
       "      <th>Sample_111</th>\n",
       "      <th>F6SYF8;Q9UBP4</th>\n",
       "      <td>22.822</td>\n",
       "    </tr>\n",
       "    <tr>\n",
       "      <th>Sample_002</th>\n",
       "      <th>A0A0A0MT36</th>\n",
       "      <td>18.165</td>\n",
       "    </tr>\n",
       "    <tr>\n",
       "      <th>Sample_049</th>\n",
       "      <th>Q8WY21;Q8WY21-2;Q8WY21-3;Q8WY21-4</th>\n",
       "      <td>15.525</td>\n",
       "    </tr>\n",
       "    <tr>\n",
       "      <th>Sample_182</th>\n",
       "      <th>Q8NFT8</th>\n",
       "      <td>14.379</td>\n",
       "    </tr>\n",
       "    <tr>\n",
       "      <th>Sample_123</th>\n",
       "      <th>Q16853;Q16853-2</th>\n",
       "      <td>14.504</td>\n",
       "    </tr>\n",
       "  </tbody>\n",
       "</table>\n",
       "<p>12600 rows × 1 columns</p>\n",
       "</div>"
      ],
      "text/plain": [
       "                                              observed\n",
       "Sample ID  protein groups                             \n",
       "Sample_158 Q9UN70;Q9UN70-2                      14.630\n",
       "Sample_050 Q9Y287                               15.755\n",
       "Sample_107 Q8N475;Q8N475-2                      15.029\n",
       "Sample_199 P06307                               19.376\n",
       "Sample_067 Q5VUB5                               15.309\n",
       "...                                                ...\n",
       "Sample_111 F6SYF8;Q9UBP4                        22.822\n",
       "Sample_002 A0A0A0MT36                           18.165\n",
       "Sample_049 Q8WY21;Q8WY21-2;Q8WY21-3;Q8WY21-4    15.525\n",
       "Sample_182 Q8NFT8                               14.379\n",
       "Sample_123 Q16853;Q16853-2                      14.504\n",
       "\n",
       "[12600 rows x 1 columns]"
      ]
     },
     "execution_count": 8,
     "metadata": {},
     "output_type": "execute_result"
    }
   ],
   "source": [
    "val_pred_fake_na = data.val_y.to_frame(name='observed')\n",
    "val_pred_fake_na"
   ]
  },
  {
   "cell_type": "code",
   "execution_count": 9,
   "id": "514d193f",
   "metadata": {
    "execution": {
     "iopub.execute_input": "2024-05-31T10:05:45.911318Z",
     "iopub.status.busy": "2024-05-31T10:05:45.911133Z",
     "iopub.status.idle": "2024-05-31T10:05:45.919361Z",
     "shell.execute_reply": "2024-05-31T10:05:45.918820Z"
    },
    "papermill": {
     "duration": 0.015316,
     "end_time": "2024-05-31T10:05:45.920486",
     "exception": false,
     "start_time": "2024-05-31T10:05:45.905170",
     "status": "completed"
    },
    "tags": [
     "hide-input"
    ]
   },
   "outputs": [
    {
     "data": {
      "text/html": [
       "<div>\n",
       "<style scoped>\n",
       "    .dataframe tbody tr th:only-of-type {\n",
       "        vertical-align: middle;\n",
       "    }\n",
       "\n",
       "    .dataframe tbody tr th {\n",
       "        vertical-align: top;\n",
       "    }\n",
       "\n",
       "    .dataframe thead th {\n",
       "        text-align: right;\n",
       "    }\n",
       "</style>\n",
       "<table border=\"1\" class=\"dataframe\">\n",
       "  <thead>\n",
       "    <tr style=\"text-align: right;\">\n",
       "      <th></th>\n",
       "      <th>observed</th>\n",
       "    </tr>\n",
       "  </thead>\n",
       "  <tbody>\n",
       "    <tr>\n",
       "      <th>count</th>\n",
       "      <td>12,600.000</td>\n",
       "    </tr>\n",
       "    <tr>\n",
       "      <th>mean</th>\n",
       "      <td>16.339</td>\n",
       "    </tr>\n",
       "    <tr>\n",
       "      <th>std</th>\n",
       "      <td>2.741</td>\n",
       "    </tr>\n",
       "    <tr>\n",
       "      <th>min</th>\n",
       "      <td>7.209</td>\n",
       "    </tr>\n",
       "    <tr>\n",
       "      <th>25%</th>\n",
       "      <td>14.412</td>\n",
       "    </tr>\n",
       "    <tr>\n",
       "      <th>50%</th>\n",
       "      <td>15.935</td>\n",
       "    </tr>\n",
       "    <tr>\n",
       "      <th>75%</th>\n",
       "      <td>17.910</td>\n",
       "    </tr>\n",
       "    <tr>\n",
       "      <th>max</th>\n",
       "      <td>30.140</td>\n",
       "    </tr>\n",
       "  </tbody>\n",
       "</table>\n",
       "</div>"
      ],
      "text/plain": [
       "        observed\n",
       "count 12,600.000\n",
       "mean      16.339\n",
       "std        2.741\n",
       "min        7.209\n",
       "25%       14.412\n",
       "50%       15.935\n",
       "75%       17.910\n",
       "max       30.140"
      ]
     },
     "execution_count": 9,
     "metadata": {},
     "output_type": "execute_result"
    }
   ],
   "source": [
    "test_pred_fake_na = data.test_y.to_frame(name='observed')\n",
    "test_pred_fake_na.describe()"
   ]
  },
  {
   "cell_type": "code",
   "execution_count": 10,
   "id": "204838b7",
   "metadata": {
    "execution": {
     "iopub.execute_input": "2024-05-31T10:05:45.928425Z",
     "iopub.status.busy": "2024-05-31T10:05:45.928237Z",
     "iopub.status.idle": "2024-05-31T10:05:45.930881Z",
     "shell.execute_reply": "2024-05-31T10:05:45.930401Z"
    },
    "papermill": {
     "duration": 0.007756,
     "end_time": "2024-05-31T10:05:45.932036",
     "exception": false,
     "start_time": "2024-05-31T10:05:45.924280",
     "status": "completed"
    },
    "tags": [
     "hide-input"
    ]
   },
   "outputs": [],
   "source": [
    "# Find and load prediction files, filter for validation and test data"
   ]
  },
  {
   "cell_type": "code",
   "execution_count": 11,
   "id": "c06dcd14",
   "metadata": {
    "execution": {
     "iopub.execute_input": "2024-05-31T10:05:45.939773Z",
     "iopub.status.busy": "2024-05-31T10:05:45.939417Z",
     "iopub.status.idle": "2024-05-31T10:05:45.944318Z",
     "shell.execute_reply": "2024-05-31T10:05:45.943779Z"
    },
    "papermill": {
     "duration": 0.009971,
     "end_time": "2024-05-31T10:05:45.945502",
     "exception": false,
     "start_time": "2024-05-31T10:05:45.935531",
     "status": "completed"
    },
    "tags": [
     "hide-input"
    ]
   },
   "outputs": [
    {
     "data": {
      "text/plain": [
       "[Path('runs/alzheimer_study/preds/pred_all_BPCA.csv'),\n",
       " Path('runs/alzheimer_study/preds/pred_all_COLMEDIAN.csv'),\n",
       " Path('runs/alzheimer_study/preds/pred_all_IMPSEQ.csv'),\n",
       " Path('runs/alzheimer_study/preds/pred_all_IMPSEQROB.csv'),\n",
       " Path('runs/alzheimer_study/preds/pred_all_IRM.csv'),\n",
       " Path('runs/alzheimer_study/preds/pred_all_KNN_IMPUTE.csv'),\n",
       " Path('runs/alzheimer_study/preds/pred_all_LLS.csv'),\n",
       " Path('runs/alzheimer_study/preds/pred_all_MINDET.csv'),\n",
       " Path('runs/alzheimer_study/preds/pred_all_MINIMUM.csv'),\n",
       " Path('runs/alzheimer_study/preds/pred_all_MINPROB.csv'),\n",
       " Path('runs/alzheimer_study/preds/pred_all_MLE.csv'),\n",
       " Path('runs/alzheimer_study/preds/pred_all_MSIMPUTE.csv'),\n",
       " Path('runs/alzheimer_study/preds/pred_all_MSIMPUTE_MNAR.csv'),\n",
       " Path('runs/alzheimer_study/preds/pred_all_PI.csv'),\n",
       " Path('runs/alzheimer_study/preds/pred_all_QRILC.csv'),\n",
       " Path('runs/alzheimer_study/preds/pred_all_RF.csv'),\n",
       " Path('runs/alzheimer_study/preds/pred_all_ROWMEDIAN.csv'),\n",
       " Path('runs/alzheimer_study/preds/pred_all_SVDMETHOD.csv'),\n",
       " Path('runs/alzheimer_study/preds/pred_all_TRKNN.csv'),\n",
       " Path('runs/alzheimer_study/preds/pred_all_ZERO.csv')]"
      ]
     },
     "execution_count": 11,
     "metadata": {},
     "output_type": "execute_result"
    }
   ],
   "source": [
    "if args.dumps is not None:\n",
    "    entire_pred = [Path(s) for s in args.dumps.split(',')]\n",
    "else:\n",
    "    entire_pred = list(file for file in args.out_preds.iterdir()\n",
    "                       if '_all_' in str(file))\n",
    "entire_pred"
   ]
  },
  {
   "cell_type": "code",
   "execution_count": 12,
   "id": "4a9e66bc",
   "metadata": {
    "execution": {
     "iopub.execute_input": "2024-05-31T10:05:45.953445Z",
     "iopub.status.busy": "2024-05-31T10:05:45.953058Z",
     "iopub.status.idle": "2024-05-31T10:05:50.973697Z",
     "shell.execute_reply": "2024-05-31T10:05:50.973210Z"
    },
    "lines_to_next_cell": 0,
    "papermill": {
     "duration": 5.025959,
     "end_time": "2024-05-31T10:05:50.974953",
     "exception": false,
     "start_time": "2024-05-31T10:05:45.948994",
     "status": "completed"
    },
    "tags": [
     "hide-input"
    ]
   },
   "outputs": [
    {
     "name": "stdout",
     "output_type": "stream",
     "text": [
      "vaep - INFO     Load fpath = Path('runs/alzheimer_study/preds/pred_all_BPCA.csv')\n"
     ]
    },
    {
     "name": "stdout",
     "output_type": "stream",
     "text": [
      "vaep - INFO     Save fname = Path('runs/alzheimer_study/preds/pred_val_BPCA.csv')\n"
     ]
    },
    {
     "name": "stdout",
     "output_type": "stream",
     "text": [
      "vaep - INFO     Save fname = Path('runs/alzheimer_study/preds/pred_test_BPCA.csv')\n"
     ]
    },
    {
     "name": "stdout",
     "output_type": "stream",
     "text": [
      "vaep - INFO     Save fname = Path('runs/alzheimer_study/preds/pred_real_na_BPCA.csv')\n"
     ]
    },
    {
     "name": "stdout",
     "output_type": "stream",
     "text": [
      "vaep - INFO     Load fpath = Path('runs/alzheimer_study/preds/pred_all_COLMEDIAN.csv')\n"
     ]
    },
    {
     "name": "stdout",
     "output_type": "stream",
     "text": [
      "vaep - INFO     Save fname = Path('runs/alzheimer_study/preds/pred_val_COLMEDIAN.csv')\n"
     ]
    },
    {
     "name": "stdout",
     "output_type": "stream",
     "text": [
      "vaep - INFO     Save fname = Path('runs/alzheimer_study/preds/pred_test_COLMEDIAN.csv')\n"
     ]
    },
    {
     "name": "stdout",
     "output_type": "stream",
     "text": [
      "vaep - INFO     Save fname = Path('runs/alzheimer_study/preds/pred_real_na_COLMEDIAN.csv')\n"
     ]
    },
    {
     "name": "stdout",
     "output_type": "stream",
     "text": [
      "vaep - INFO     Load fpath = Path('runs/alzheimer_study/preds/pred_all_IMPSEQ.csv')\n"
     ]
    },
    {
     "name": "stdout",
     "output_type": "stream",
     "text": [
      "vaep - INFO     Save fname = Path('runs/alzheimer_study/preds/pred_val_IMPSEQ.csv')\n"
     ]
    },
    {
     "name": "stdout",
     "output_type": "stream",
     "text": [
      "vaep - INFO     Save fname = Path('runs/alzheimer_study/preds/pred_test_IMPSEQ.csv')\n"
     ]
    },
    {
     "name": "stdout",
     "output_type": "stream",
     "text": [
      "vaep - INFO     Save fname = Path('runs/alzheimer_study/preds/pred_real_na_IMPSEQ.csv')\n"
     ]
    },
    {
     "name": "stdout",
     "output_type": "stream",
     "text": [
      "vaep - INFO     Load fpath = Path('runs/alzheimer_study/preds/pred_all_IMPSEQROB.csv')\n"
     ]
    },
    {
     "name": "stdout",
     "output_type": "stream",
     "text": [
      "vaep - INFO     Save fname = Path('runs/alzheimer_study/preds/pred_val_IMPSEQROB.csv')\n"
     ]
    },
    {
     "name": "stdout",
     "output_type": "stream",
     "text": [
      "vaep - INFO     Save fname = Path('runs/alzheimer_study/preds/pred_test_IMPSEQROB.csv')\n"
     ]
    },
    {
     "name": "stdout",
     "output_type": "stream",
     "text": [
      "vaep - INFO     Save fname = Path('runs/alzheimer_study/preds/pred_real_na_IMPSEQROB.csv')\n"
     ]
    },
    {
     "name": "stdout",
     "output_type": "stream",
     "text": [
      "vaep - INFO     Load fpath = Path('runs/alzheimer_study/preds/pred_all_IRM.csv')\n"
     ]
    },
    {
     "name": "stdout",
     "output_type": "stream",
     "text": [
      "vaep - INFO     Save fname = Path('runs/alzheimer_study/preds/pred_val_IRM.csv')\n"
     ]
    },
    {
     "name": "stdout",
     "output_type": "stream",
     "text": [
      "vaep - INFO     Save fname = Path('runs/alzheimer_study/preds/pred_test_IRM.csv')\n"
     ]
    },
    {
     "name": "stdout",
     "output_type": "stream",
     "text": [
      "vaep - INFO     Save fname = Path('runs/alzheimer_study/preds/pred_real_na_IRM.csv')\n"
     ]
    },
    {
     "name": "stdout",
     "output_type": "stream",
     "text": [
      "vaep - INFO     Load fpath = Path('runs/alzheimer_study/preds/pred_all_KNN_IMPUTE.csv')\n"
     ]
    },
    {
     "name": "stdout",
     "output_type": "stream",
     "text": [
      "vaep - INFO     Save fname = Path('runs/alzheimer_study/preds/pred_val_KNN_IMPUTE.csv')\n"
     ]
    },
    {
     "name": "stdout",
     "output_type": "stream",
     "text": [
      "vaep - INFO     Save fname = Path('runs/alzheimer_study/preds/pred_test_KNN_IMPUTE.csv')\n"
     ]
    },
    {
     "name": "stdout",
     "output_type": "stream",
     "text": [
      "vaep - INFO     Save fname = Path('runs/alzheimer_study/preds/pred_real_na_KNN_IMPUTE.csv')\n"
     ]
    },
    {
     "name": "stdout",
     "output_type": "stream",
     "text": [
      "vaep - INFO     Load fpath = Path('runs/alzheimer_study/preds/pred_all_LLS.csv')\n"
     ]
    },
    {
     "name": "stdout",
     "output_type": "stream",
     "text": [
      "vaep - INFO     Save fname = Path('runs/alzheimer_study/preds/pred_val_LLS.csv')\n"
     ]
    },
    {
     "name": "stdout",
     "output_type": "stream",
     "text": [
      "vaep - INFO     Save fname = Path('runs/alzheimer_study/preds/pred_test_LLS.csv')\n"
     ]
    },
    {
     "name": "stdout",
     "output_type": "stream",
     "text": [
      "vaep - INFO     Save fname = Path('runs/alzheimer_study/preds/pred_real_na_LLS.csv')\n"
     ]
    },
    {
     "name": "stdout",
     "output_type": "stream",
     "text": [
      "vaep - INFO     Load fpath = Path('runs/alzheimer_study/preds/pred_all_MINDET.csv')\n"
     ]
    },
    {
     "name": "stdout",
     "output_type": "stream",
     "text": [
      "vaep - INFO     Save fname = Path('runs/alzheimer_study/preds/pred_val_MINDET.csv')\n"
     ]
    },
    {
     "name": "stdout",
     "output_type": "stream",
     "text": [
      "vaep - INFO     Save fname = Path('runs/alzheimer_study/preds/pred_test_MINDET.csv')\n"
     ]
    },
    {
     "name": "stdout",
     "output_type": "stream",
     "text": [
      "vaep - INFO     Save fname = Path('runs/alzheimer_study/preds/pred_real_na_MINDET.csv')\n"
     ]
    },
    {
     "name": "stdout",
     "output_type": "stream",
     "text": [
      "vaep - INFO     Load fpath = Path('runs/alzheimer_study/preds/pred_all_MINIMUM.csv')\n"
     ]
    },
    {
     "name": "stdout",
     "output_type": "stream",
     "text": [
      "vaep - INFO     Save fname = Path('runs/alzheimer_study/preds/pred_val_MINIMUM.csv')\n"
     ]
    },
    {
     "name": "stdout",
     "output_type": "stream",
     "text": [
      "vaep - INFO     Save fname = Path('runs/alzheimer_study/preds/pred_test_MINIMUM.csv')\n"
     ]
    },
    {
     "name": "stdout",
     "output_type": "stream",
     "text": [
      "vaep - INFO     Save fname = Path('runs/alzheimer_study/preds/pred_real_na_MINIMUM.csv')\n"
     ]
    },
    {
     "name": "stdout",
     "output_type": "stream",
     "text": [
      "vaep - INFO     Load fpath = Path('runs/alzheimer_study/preds/pred_all_MINPROB.csv')\n"
     ]
    },
    {
     "name": "stdout",
     "output_type": "stream",
     "text": [
      "vaep - INFO     Save fname = Path('runs/alzheimer_study/preds/pred_val_MINPROB.csv')\n"
     ]
    },
    {
     "name": "stdout",
     "output_type": "stream",
     "text": [
      "vaep - INFO     Save fname = Path('runs/alzheimer_study/preds/pred_test_MINPROB.csv')\n"
     ]
    },
    {
     "name": "stdout",
     "output_type": "stream",
     "text": [
      "vaep - INFO     Save fname = Path('runs/alzheimer_study/preds/pred_real_na_MINPROB.csv')\n"
     ]
    },
    {
     "name": "stdout",
     "output_type": "stream",
     "text": [
      "vaep - INFO     Load fpath = Path('runs/alzheimer_study/preds/pred_all_MLE.csv')\n"
     ]
    },
    {
     "name": "stdout",
     "output_type": "stream",
     "text": [
      "vaep - INFO     Save fname = Path('runs/alzheimer_study/preds/pred_val_MLE.csv')\n"
     ]
    },
    {
     "name": "stdout",
     "output_type": "stream",
     "text": [
      "vaep - INFO     Save fname = Path('runs/alzheimer_study/preds/pred_test_MLE.csv')\n"
     ]
    },
    {
     "name": "stdout",
     "output_type": "stream",
     "text": [
      "vaep - INFO     Save fname = Path('runs/alzheimer_study/preds/pred_real_na_MLE.csv')\n"
     ]
    },
    {
     "name": "stdout",
     "output_type": "stream",
     "text": [
      "vaep - INFO     Load fpath = Path('runs/alzheimer_study/preds/pred_all_MSIMPUTE.csv')\n"
     ]
    },
    {
     "name": "stdout",
     "output_type": "stream",
     "text": [
      "vaep - INFO     Save fname = Path('runs/alzheimer_study/preds/pred_val_MSIMPUTE.csv')\n"
     ]
    },
    {
     "name": "stdout",
     "output_type": "stream",
     "text": [
      "vaep - INFO     Save fname = Path('runs/alzheimer_study/preds/pred_test_MSIMPUTE.csv')\n"
     ]
    },
    {
     "name": "stdout",
     "output_type": "stream",
     "text": [
      "vaep - INFO     Save fname = Path('runs/alzheimer_study/preds/pred_real_na_MSIMPUTE.csv')\n"
     ]
    },
    {
     "name": "stdout",
     "output_type": "stream",
     "text": [
      "vaep - INFO     Load fpath = Path('runs/alzheimer_study/preds/pred_all_MSIMPUTE_MNAR.csv')\n"
     ]
    },
    {
     "name": "stdout",
     "output_type": "stream",
     "text": [
      "vaep - INFO     Save fname = Path('runs/alzheimer_study/preds/pred_val_MSIMPUTE_MNAR.csv')\n"
     ]
    },
    {
     "name": "stdout",
     "output_type": "stream",
     "text": [
      "vaep - INFO     Save fname = Path('runs/alzheimer_study/preds/pred_test_MSIMPUTE_MNAR.csv')\n"
     ]
    },
    {
     "name": "stdout",
     "output_type": "stream",
     "text": [
      "vaep - INFO     Save fname = Path('runs/alzheimer_study/preds/pred_real_na_MSIMPUTE_MNAR.csv')\n"
     ]
    },
    {
     "name": "stdout",
     "output_type": "stream",
     "text": [
      "vaep - INFO     Load fpath = Path('runs/alzheimer_study/preds/pred_all_PI.csv')\n"
     ]
    },
    {
     "name": "stdout",
     "output_type": "stream",
     "text": [
      "vaep - INFO     Save fname = Path('runs/alzheimer_study/preds/pred_val_PI.csv')\n"
     ]
    },
    {
     "name": "stdout",
     "output_type": "stream",
     "text": [
      "vaep - INFO     Save fname = Path('runs/alzheimer_study/preds/pred_test_PI.csv')\n"
     ]
    },
    {
     "name": "stdout",
     "output_type": "stream",
     "text": [
      "vaep - INFO     Save fname = Path('runs/alzheimer_study/preds/pred_real_na_PI.csv')\n"
     ]
    },
    {
     "name": "stdout",
     "output_type": "stream",
     "text": [
      "vaep - INFO     Load fpath = Path('runs/alzheimer_study/preds/pred_all_QRILC.csv')\n"
     ]
    },
    {
     "name": "stdout",
     "output_type": "stream",
     "text": [
      "vaep - INFO     Save fname = Path('runs/alzheimer_study/preds/pred_val_QRILC.csv')\n"
     ]
    },
    {
     "name": "stdout",
     "output_type": "stream",
     "text": [
      "vaep - INFO     Save fname = Path('runs/alzheimer_study/preds/pred_test_QRILC.csv')\n"
     ]
    },
    {
     "name": "stdout",
     "output_type": "stream",
     "text": [
      "vaep - INFO     Save fname = Path('runs/alzheimer_study/preds/pred_real_na_QRILC.csv')\n"
     ]
    },
    {
     "name": "stdout",
     "output_type": "stream",
     "text": [
      "vaep - INFO     Load fpath = Path('runs/alzheimer_study/preds/pred_all_RF.csv')\n"
     ]
    },
    {
     "name": "stdout",
     "output_type": "stream",
     "text": [
      "vaep - INFO     Save fname = Path('runs/alzheimer_study/preds/pred_val_RF.csv')\n"
     ]
    },
    {
     "name": "stdout",
     "output_type": "stream",
     "text": [
      "vaep - INFO     Save fname = Path('runs/alzheimer_study/preds/pred_test_RF.csv')\n"
     ]
    },
    {
     "name": "stdout",
     "output_type": "stream",
     "text": [
      "vaep - INFO     Save fname = Path('runs/alzheimer_study/preds/pred_real_na_RF.csv')\n"
     ]
    },
    {
     "name": "stdout",
     "output_type": "stream",
     "text": [
      "vaep - INFO     Load fpath = Path('runs/alzheimer_study/preds/pred_all_ROWMEDIAN.csv')\n"
     ]
    },
    {
     "name": "stdout",
     "output_type": "stream",
     "text": [
      "vaep - INFO     Save fname = Path('runs/alzheimer_study/preds/pred_val_ROWMEDIAN.csv')\n"
     ]
    },
    {
     "name": "stdout",
     "output_type": "stream",
     "text": [
      "vaep - INFO     Save fname = Path('runs/alzheimer_study/preds/pred_test_ROWMEDIAN.csv')\n"
     ]
    },
    {
     "name": "stdout",
     "output_type": "stream",
     "text": [
      "vaep - INFO     Save fname = Path('runs/alzheimer_study/preds/pred_real_na_ROWMEDIAN.csv')\n"
     ]
    },
    {
     "name": "stdout",
     "output_type": "stream",
     "text": [
      "vaep - INFO     Load fpath = Path('runs/alzheimer_study/preds/pred_all_SVDMETHOD.csv')\n"
     ]
    },
    {
     "name": "stdout",
     "output_type": "stream",
     "text": [
      "vaep - INFO     Save fname = Path('runs/alzheimer_study/preds/pred_val_SVDMETHOD.csv')\n"
     ]
    },
    {
     "name": "stdout",
     "output_type": "stream",
     "text": [
      "vaep - INFO     Save fname = Path('runs/alzheimer_study/preds/pred_test_SVDMETHOD.csv')\n"
     ]
    },
    {
     "name": "stdout",
     "output_type": "stream",
     "text": [
      "vaep - INFO     Save fname = Path('runs/alzheimer_study/preds/pred_real_na_SVDMETHOD.csv')\n"
     ]
    },
    {
     "name": "stdout",
     "output_type": "stream",
     "text": [
      "vaep - INFO     Load fpath = Path('runs/alzheimer_study/preds/pred_all_TRKNN.csv')\n"
     ]
    },
    {
     "name": "stdout",
     "output_type": "stream",
     "text": [
      "vaep - INFO     Save fname = Path('runs/alzheimer_study/preds/pred_val_TRKNN.csv')\n"
     ]
    },
    {
     "name": "stdout",
     "output_type": "stream",
     "text": [
      "vaep - INFO     Save fname = Path('runs/alzheimer_study/preds/pred_test_TRKNN.csv')\n"
     ]
    },
    {
     "name": "stdout",
     "output_type": "stream",
     "text": [
      "vaep - INFO     Save fname = Path('runs/alzheimer_study/preds/pred_real_na_TRKNN.csv')\n"
     ]
    },
    {
     "name": "stdout",
     "output_type": "stream",
     "text": [
      "vaep - INFO     Load fpath = Path('runs/alzheimer_study/preds/pred_all_ZERO.csv')\n"
     ]
    },
    {
     "name": "stdout",
     "output_type": "stream",
     "text": [
      "vaep - INFO     Save fname = Path('runs/alzheimer_study/preds/pred_val_ZERO.csv')\n"
     ]
    },
    {
     "name": "stdout",
     "output_type": "stream",
     "text": [
      "vaep - INFO     Save fname = Path('runs/alzheimer_study/preds/pred_test_ZERO.csv')\n"
     ]
    },
    {
     "name": "stdout",
     "output_type": "stream",
     "text": [
      "vaep - INFO     Save fname = Path('runs/alzheimer_study/preds/pred_real_na_ZERO.csv')\n"
     ]
    }
   ],
   "source": [
    "mask = data.train_X.unstack().isna().stack()\n",
    "idx_real_na = mask.index[mask]\n",
    "idx_real_na = (idx_real_na\n",
    "               .drop(val_pred_fake_na.index)\n",
    "               .drop(test_pred_fake_na.index))\n",
    "\n",
    "for fpath in entire_pred:\n",
    "    logger.info(f\"Load {fpath = }\")\n",
    "    col_name = fpath.stem.split('_all_')[-1]\n",
    "    pred = pd.read_csv(fpath, index_col=[1, 0])\n",
    "    val_pred_fake_na[col_name] = pred\n",
    "    fname = args.out_preds / f'pred_val_{col_name}.csv'\n",
    "    files_out[fname.name] = fname.as_posix()\n",
    "    val_pred_fake_na[['observed', col_name]].to_csv(fname)\n",
    "    logger.info(f\"Save {fname = }\")\n",
    "\n",
    "    test_pred_fake_na[col_name] = pred\n",
    "    fname = args.out_preds / f'pred_test_{col_name}.csv'\n",
    "    files_out[fname.name] = fname.as_posix()\n",
    "    test_pred_fake_na[['observed', col_name]].to_csv(fname)\n",
    "    logger.info(f\"Save {fname = }\")\n",
    "    # hacky, but works:\n",
    "    pred_real_na = (pd.Series(0, index=idx_real_na, name='placeholder')\n",
    "                    .to_frame()\n",
    "                    .join(pred, how='left')\n",
    "                    .drop('placeholder', axis=1))\n",
    "    # pred_real_na.name = 'intensity'\n",
    "    fname = args.out_preds / f'pred_real_na_{col_name}.csv'\n",
    "    files_out[fname.name] = fname.as_posix()\n",
    "    pred_real_na.to_csv(fname)\n",
    "    logger.info(f\"Save {fname = }\")\n",
    "\n",
    "# del pred"
   ]
  },
  {
   "cell_type": "code",
   "execution_count": 13,
   "id": "72adc8ec",
   "metadata": {
    "execution": {
     "iopub.execute_input": "2024-05-31T10:05:50.989226Z",
     "iopub.status.busy": "2024-05-31T10:05:50.988740Z",
     "iopub.status.idle": "2024-05-31T10:05:51.006514Z",
     "shell.execute_reply": "2024-05-31T10:05:51.005906Z"
    },
    "papermill": {
     "duration": 0.025993,
     "end_time": "2024-05-31T10:05:51.007630",
     "exception": false,
     "start_time": "2024-05-31T10:05:50.981637",
     "status": "completed"
    },
    "tags": [
     "hide-input"
    ]
   },
   "outputs": [
    {
     "data": {
      "text/html": [
       "<div>\n",
       "<style scoped>\n",
       "    .dataframe tbody tr th:only-of-type {\n",
       "        vertical-align: middle;\n",
       "    }\n",
       "\n",
       "    .dataframe tbody tr th {\n",
       "        vertical-align: top;\n",
       "    }\n",
       "\n",
       "    .dataframe thead th {\n",
       "        text-align: right;\n",
       "    }\n",
       "</style>\n",
       "<table border=\"1\" class=\"dataframe\">\n",
       "  <thead>\n",
       "    <tr style=\"text-align: right;\">\n",
       "      <th></th>\n",
       "      <th></th>\n",
       "      <th>observed</th>\n",
       "      <th>BPCA</th>\n",
       "      <th>COLMEDIAN</th>\n",
       "      <th>IMPSEQ</th>\n",
       "      <th>IMPSEQROB</th>\n",
       "      <th>IRM</th>\n",
       "      <th>KNN_IMPUTE</th>\n",
       "      <th>LLS</th>\n",
       "      <th>MINDET</th>\n",
       "      <th>MINIMUM</th>\n",
       "      <th>...</th>\n",
       "      <th>MLE</th>\n",
       "      <th>MSIMPUTE</th>\n",
       "      <th>MSIMPUTE_MNAR</th>\n",
       "      <th>PI</th>\n",
       "      <th>QRILC</th>\n",
       "      <th>RF</th>\n",
       "      <th>ROWMEDIAN</th>\n",
       "      <th>SVDMETHOD</th>\n",
       "      <th>TRKNN</th>\n",
       "      <th>ZERO</th>\n",
       "    </tr>\n",
       "    <tr>\n",
       "      <th>Sample ID</th>\n",
       "      <th>protein groups</th>\n",
       "      <th></th>\n",
       "      <th></th>\n",
       "      <th></th>\n",
       "      <th></th>\n",
       "      <th></th>\n",
       "      <th></th>\n",
       "      <th></th>\n",
       "      <th></th>\n",
       "      <th></th>\n",
       "      <th></th>\n",
       "      <th></th>\n",
       "      <th></th>\n",
       "      <th></th>\n",
       "      <th></th>\n",
       "      <th></th>\n",
       "      <th></th>\n",
       "      <th></th>\n",
       "      <th></th>\n",
       "      <th></th>\n",
       "      <th></th>\n",
       "      <th></th>\n",
       "    </tr>\n",
       "  </thead>\n",
       "  <tbody>\n",
       "    <tr>\n",
       "      <th>Sample_158</th>\n",
       "      <th>Q9UN70;Q9UN70-2</th>\n",
       "      <td>14.630</td>\n",
       "      <td>15.469</td>\n",
       "      <td>16.800</td>\n",
       "      <td>NaN</td>\n",
       "      <td>NaN</td>\n",
       "      <td>15.871</td>\n",
       "      <td>15.937</td>\n",
       "      <td>15.858</td>\n",
       "      <td>11.916</td>\n",
       "      <td>7.068</td>\n",
       "      <td>...</td>\n",
       "      <td>2,513.638</td>\n",
       "      <td>7.043</td>\n",
       "      <td>7.973</td>\n",
       "      <td>12.043</td>\n",
       "      <td>14.872</td>\n",
       "      <td>15.503</td>\n",
       "      <td>15.752</td>\n",
       "      <td>17.206</td>\n",
       "      <td>15.700</td>\n",
       "      <td>0</td>\n",
       "    </tr>\n",
       "    <tr>\n",
       "      <th>Sample_050</th>\n",
       "      <th>Q9Y287</th>\n",
       "      <td>15.755</td>\n",
       "      <td>16.453</td>\n",
       "      <td>17.288</td>\n",
       "      <td>NaN</td>\n",
       "      <td>16.106</td>\n",
       "      <td>17.472</td>\n",
       "      <td>16.961</td>\n",
       "      <td>17.058</td>\n",
       "      <td>12.900</td>\n",
       "      <td>7.068</td>\n",
       "      <td>...</td>\n",
       "      <td>19.829</td>\n",
       "      <td>7.222</td>\n",
       "      <td>8.033</td>\n",
       "      <td>12.060</td>\n",
       "      <td>15.396</td>\n",
       "      <td>17.119</td>\n",
       "      <td>17.221</td>\n",
       "      <td>17.807</td>\n",
       "      <td>16.738</td>\n",
       "      <td>0</td>\n",
       "    </tr>\n",
       "    <tr>\n",
       "      <th>Sample_107</th>\n",
       "      <th>Q8N475;Q8N475-2</th>\n",
       "      <td>15.029</td>\n",
       "      <td>13.110</td>\n",
       "      <td>17.187</td>\n",
       "      <td>NaN</td>\n",
       "      <td>2,582.130</td>\n",
       "      <td>12.680</td>\n",
       "      <td>15.437</td>\n",
       "      <td>14.397</td>\n",
       "      <td>12.313</td>\n",
       "      <td>7.068</td>\n",
       "      <td>...</td>\n",
       "      <td>2,582.130</td>\n",
       "      <td>6.225</td>\n",
       "      <td>7.542</td>\n",
       "      <td>13.050</td>\n",
       "      <td>13.428</td>\n",
       "      <td>14.655</td>\n",
       "      <td>14.846</td>\n",
       "      <td>17.434</td>\n",
       "      <td>13.776</td>\n",
       "      <td>0</td>\n",
       "    </tr>\n",
       "    <tr>\n",
       "      <th>Sample_199</th>\n",
       "      <th>P06307</th>\n",
       "      <td>19.376</td>\n",
       "      <td>19.639</td>\n",
       "      <td>16.711</td>\n",
       "      <td>NaN</td>\n",
       "      <td>NaN</td>\n",
       "      <td>19.632</td>\n",
       "      <td>18.861</td>\n",
       "      <td>19.005</td>\n",
       "      <td>12.285</td>\n",
       "      <td>7.068</td>\n",
       "      <td>...</td>\n",
       "      <td>2,483.120</td>\n",
       "      <td>8.694</td>\n",
       "      <td>9.236</td>\n",
       "      <td>12.107</td>\n",
       "      <td>17.281</td>\n",
       "      <td>19.076</td>\n",
       "      <td>18.973</td>\n",
       "      <td>17.111</td>\n",
       "      <td>19.015</td>\n",
       "      <td>0</td>\n",
       "    </tr>\n",
       "    <tr>\n",
       "      <th>Sample_067</th>\n",
       "      <th>Q5VUB5</th>\n",
       "      <td>15.309</td>\n",
       "      <td>15.465</td>\n",
       "      <td>16.743</td>\n",
       "      <td>NaN</td>\n",
       "      <td>NaN</td>\n",
       "      <td>15.976</td>\n",
       "      <td>15.079</td>\n",
       "      <td>15.104</td>\n",
       "      <td>11.827</td>\n",
       "      <td>7.068</td>\n",
       "      <td>...</td>\n",
       "      <td>2,569.564</td>\n",
       "      <td>6.384</td>\n",
       "      <td>7.701</td>\n",
       "      <td>13.288</td>\n",
       "      <td>13.549</td>\n",
       "      <td>15.079</td>\n",
       "      <td>14.726</td>\n",
       "      <td>17.031</td>\n",
       "      <td>14.699</td>\n",
       "      <td>0</td>\n",
       "    </tr>\n",
       "    <tr>\n",
       "      <th>...</th>\n",
       "      <th>...</th>\n",
       "      <td>...</td>\n",
       "      <td>...</td>\n",
       "      <td>...</td>\n",
       "      <td>...</td>\n",
       "      <td>...</td>\n",
       "      <td>...</td>\n",
       "      <td>...</td>\n",
       "      <td>...</td>\n",
       "      <td>...</td>\n",
       "      <td>...</td>\n",
       "      <td>...</td>\n",
       "      <td>...</td>\n",
       "      <td>...</td>\n",
       "      <td>...</td>\n",
       "      <td>...</td>\n",
       "      <td>...</td>\n",
       "      <td>...</td>\n",
       "      <td>...</td>\n",
       "      <td>...</td>\n",
       "      <td>...</td>\n",
       "      <td>...</td>\n",
       "    </tr>\n",
       "    <tr>\n",
       "      <th>Sample_111</th>\n",
       "      <th>F6SYF8;Q9UBP4</th>\n",
       "      <td>22.822</td>\n",
       "      <td>22.994</td>\n",
       "      <td>17.042</td>\n",
       "      <td>NaN</td>\n",
       "      <td>2,634.108</td>\n",
       "      <td>22.983</td>\n",
       "      <td>22.837</td>\n",
       "      <td>22.836</td>\n",
       "      <td>12.161</td>\n",
       "      <td>7.068</td>\n",
       "      <td>...</td>\n",
       "      <td>2,634.108</td>\n",
       "      <td>10.576</td>\n",
       "      <td>10.796</td>\n",
       "      <td>13.004</td>\n",
       "      <td>21.934</td>\n",
       "      <td>22.911</td>\n",
       "      <td>22.918</td>\n",
       "      <td>17.330</td>\n",
       "      <td>22.872</td>\n",
       "      <td>0</td>\n",
       "    </tr>\n",
       "    <tr>\n",
       "      <th>Sample_002</th>\n",
       "      <th>A0A0A0MT36</th>\n",
       "      <td>18.165</td>\n",
       "      <td>15.882</td>\n",
       "      <td>16.792</td>\n",
       "      <td>NaN</td>\n",
       "      <td>NaN</td>\n",
       "      <td>17.237</td>\n",
       "      <td>15.446</td>\n",
       "      <td>15.579</td>\n",
       "      <td>12.586</td>\n",
       "      <td>7.068</td>\n",
       "      <td>...</td>\n",
       "      <td>2,448.503</td>\n",
       "      <td>6.517</td>\n",
       "      <td>7.608</td>\n",
       "      <td>13.260</td>\n",
       "      <td>13.265</td>\n",
       "      <td>15.898</td>\n",
       "      <td>15.877</td>\n",
       "      <td>16.879</td>\n",
       "      <td>15.671</td>\n",
       "      <td>0</td>\n",
       "    </tr>\n",
       "    <tr>\n",
       "      <th>Sample_049</th>\n",
       "      <th>Q8WY21;Q8WY21-2;Q8WY21-3;Q8WY21-4</th>\n",
       "      <td>15.525</td>\n",
       "      <td>15.406</td>\n",
       "      <td>17.032</td>\n",
       "      <td>NaN</td>\n",
       "      <td>2,487.550</td>\n",
       "      <td>15.313</td>\n",
       "      <td>15.995</td>\n",
       "      <td>15.903</td>\n",
       "      <td>12.352</td>\n",
       "      <td>7.068</td>\n",
       "      <td>...</td>\n",
       "      <td>2,487.550</td>\n",
       "      <td>6.409</td>\n",
       "      <td>7.637</td>\n",
       "      <td>13.003</td>\n",
       "      <td>14.887</td>\n",
       "      <td>15.760</td>\n",
       "      <td>16.278</td>\n",
       "      <td>17.215</td>\n",
       "      <td>15.574</td>\n",
       "      <td>0</td>\n",
       "    </tr>\n",
       "    <tr>\n",
       "      <th>Sample_182</th>\n",
       "      <th>Q8NFT8</th>\n",
       "      <td>14.379</td>\n",
       "      <td>14.322</td>\n",
       "      <td>16.764</td>\n",
       "      <td>NaN</td>\n",
       "      <td>NaN</td>\n",
       "      <td>14.873</td>\n",
       "      <td>14.675</td>\n",
       "      <td>13.456</td>\n",
       "      <td>12.504</td>\n",
       "      <td>7.068</td>\n",
       "      <td>...</td>\n",
       "      <td>2,426.191</td>\n",
       "      <td>4.557</td>\n",
       "      <td>6.045</td>\n",
       "      <td>12.454</td>\n",
       "      <td>11.789</td>\n",
       "      <td>13.510</td>\n",
       "      <td>13.995</td>\n",
       "      <td>17.125</td>\n",
       "      <td>14.518</td>\n",
       "      <td>0</td>\n",
       "    </tr>\n",
       "    <tr>\n",
       "      <th>Sample_123</th>\n",
       "      <th>Q16853;Q16853-2</th>\n",
       "      <td>14.504</td>\n",
       "      <td>14.582</td>\n",
       "      <td>16.686</td>\n",
       "      <td>NaN</td>\n",
       "      <td>NaN</td>\n",
       "      <td>14.748</td>\n",
       "      <td>14.824</td>\n",
       "      <td>14.931</td>\n",
       "      <td>12.689</td>\n",
       "      <td>7.068</td>\n",
       "      <td>...</td>\n",
       "      <td>2,461.806</td>\n",
       "      <td>6.402</td>\n",
       "      <td>7.187</td>\n",
       "      <td>13.227</td>\n",
       "      <td>14.026</td>\n",
       "      <td>14.713</td>\n",
       "      <td>14.849</td>\n",
       "      <td>16.981</td>\n",
       "      <td>14.485</td>\n",
       "      <td>0</td>\n",
       "    </tr>\n",
       "  </tbody>\n",
       "</table>\n",
       "<p>12600 rows × 21 columns</p>\n",
       "</div>"
      ],
      "text/plain": [
       "                                              observed   BPCA  COLMEDIAN  \\\n",
       "Sample ID  protein groups                                                  \n",
       "Sample_158 Q9UN70;Q9UN70-2                      14.630 15.469     16.800   \n",
       "Sample_050 Q9Y287                               15.755 16.453     17.288   \n",
       "Sample_107 Q8N475;Q8N475-2                      15.029 13.110     17.187   \n",
       "Sample_199 P06307                               19.376 19.639     16.711   \n",
       "Sample_067 Q5VUB5                               15.309 15.465     16.743   \n",
       "...                                                ...    ...        ...   \n",
       "Sample_111 F6SYF8;Q9UBP4                        22.822 22.994     17.042   \n",
       "Sample_002 A0A0A0MT36                           18.165 15.882     16.792   \n",
       "Sample_049 Q8WY21;Q8WY21-2;Q8WY21-3;Q8WY21-4    15.525 15.406     17.032   \n",
       "Sample_182 Q8NFT8                               14.379 14.322     16.764   \n",
       "Sample_123 Q16853;Q16853-2                      14.504 14.582     16.686   \n",
       "\n",
       "                                              IMPSEQ  IMPSEQROB    IRM  \\\n",
       "Sample ID  protein groups                                                \n",
       "Sample_158 Q9UN70;Q9UN70-2                       NaN        NaN 15.871   \n",
       "Sample_050 Q9Y287                                NaN     16.106 17.472   \n",
       "Sample_107 Q8N475;Q8N475-2                       NaN  2,582.130 12.680   \n",
       "Sample_199 P06307                                NaN        NaN 19.632   \n",
       "Sample_067 Q5VUB5                                NaN        NaN 15.976   \n",
       "...                                              ...        ...    ...   \n",
       "Sample_111 F6SYF8;Q9UBP4                         NaN  2,634.108 22.983   \n",
       "Sample_002 A0A0A0MT36                            NaN        NaN 17.237   \n",
       "Sample_049 Q8WY21;Q8WY21-2;Q8WY21-3;Q8WY21-4     NaN  2,487.550 15.313   \n",
       "Sample_182 Q8NFT8                                NaN        NaN 14.873   \n",
       "Sample_123 Q16853;Q16853-2                       NaN        NaN 14.748   \n",
       "\n",
       "                                              KNN_IMPUTE    LLS  MINDET  \\\n",
       "Sample ID  protein groups                                                 \n",
       "Sample_158 Q9UN70;Q9UN70-2                        15.937 15.858  11.916   \n",
       "Sample_050 Q9Y287                                 16.961 17.058  12.900   \n",
       "Sample_107 Q8N475;Q8N475-2                        15.437 14.397  12.313   \n",
       "Sample_199 P06307                                 18.861 19.005  12.285   \n",
       "Sample_067 Q5VUB5                                 15.079 15.104  11.827   \n",
       "...                                                  ...    ...     ...   \n",
       "Sample_111 F6SYF8;Q9UBP4                          22.837 22.836  12.161   \n",
       "Sample_002 A0A0A0MT36                             15.446 15.579  12.586   \n",
       "Sample_049 Q8WY21;Q8WY21-2;Q8WY21-3;Q8WY21-4      15.995 15.903  12.352   \n",
       "Sample_182 Q8NFT8                                 14.675 13.456  12.504   \n",
       "Sample_123 Q16853;Q16853-2                        14.824 14.931  12.689   \n",
       "\n",
       "                                              MINIMUM  ...       MLE  \\\n",
       "Sample ID  protein groups                              ...             \n",
       "Sample_158 Q9UN70;Q9UN70-2                      7.068  ... 2,513.638   \n",
       "Sample_050 Q9Y287                               7.068  ...    19.829   \n",
       "Sample_107 Q8N475;Q8N475-2                      7.068  ... 2,582.130   \n",
       "Sample_199 P06307                               7.068  ... 2,483.120   \n",
       "Sample_067 Q5VUB5                               7.068  ... 2,569.564   \n",
       "...                                               ...  ...       ...   \n",
       "Sample_111 F6SYF8;Q9UBP4                        7.068  ... 2,634.108   \n",
       "Sample_002 A0A0A0MT36                           7.068  ... 2,448.503   \n",
       "Sample_049 Q8WY21;Q8WY21-2;Q8WY21-3;Q8WY21-4    7.068  ... 2,487.550   \n",
       "Sample_182 Q8NFT8                               7.068  ... 2,426.191   \n",
       "Sample_123 Q16853;Q16853-2                      7.068  ... 2,461.806   \n",
       "\n",
       "                                              MSIMPUTE  MSIMPUTE_MNAR     PI  \\\n",
       "Sample ID  protein groups                                                      \n",
       "Sample_158 Q9UN70;Q9UN70-2                       7.043          7.973 12.043   \n",
       "Sample_050 Q9Y287                                7.222          8.033 12.060   \n",
       "Sample_107 Q8N475;Q8N475-2                       6.225          7.542 13.050   \n",
       "Sample_199 P06307                                8.694          9.236 12.107   \n",
       "Sample_067 Q5VUB5                                6.384          7.701 13.288   \n",
       "...                                                ...            ...    ...   \n",
       "Sample_111 F6SYF8;Q9UBP4                        10.576         10.796 13.004   \n",
       "Sample_002 A0A0A0MT36                            6.517          7.608 13.260   \n",
       "Sample_049 Q8WY21;Q8WY21-2;Q8WY21-3;Q8WY21-4     6.409          7.637 13.003   \n",
       "Sample_182 Q8NFT8                                4.557          6.045 12.454   \n",
       "Sample_123 Q16853;Q16853-2                       6.402          7.187 13.227   \n",
       "\n",
       "                                              QRILC     RF  ROWMEDIAN  \\\n",
       "Sample ID  protein groups                                               \n",
       "Sample_158 Q9UN70;Q9UN70-2                   14.872 15.503     15.752   \n",
       "Sample_050 Q9Y287                            15.396 17.119     17.221   \n",
       "Sample_107 Q8N475;Q8N475-2                   13.428 14.655     14.846   \n",
       "Sample_199 P06307                            17.281 19.076     18.973   \n",
       "Sample_067 Q5VUB5                            13.549 15.079     14.726   \n",
       "...                                             ...    ...        ...   \n",
       "Sample_111 F6SYF8;Q9UBP4                     21.934 22.911     22.918   \n",
       "Sample_002 A0A0A0MT36                        13.265 15.898     15.877   \n",
       "Sample_049 Q8WY21;Q8WY21-2;Q8WY21-3;Q8WY21-4 14.887 15.760     16.278   \n",
       "Sample_182 Q8NFT8                            11.789 13.510     13.995   \n",
       "Sample_123 Q16853;Q16853-2                   14.026 14.713     14.849   \n",
       "\n",
       "                                              SVDMETHOD  TRKNN  ZERO  \n",
       "Sample ID  protein groups                                             \n",
       "Sample_158 Q9UN70;Q9UN70-2                       17.206 15.700     0  \n",
       "Sample_050 Q9Y287                                17.807 16.738     0  \n",
       "Sample_107 Q8N475;Q8N475-2                       17.434 13.776     0  \n",
       "Sample_199 P06307                                17.111 19.015     0  \n",
       "Sample_067 Q5VUB5                                17.031 14.699     0  \n",
       "...                                                 ...    ...   ...  \n",
       "Sample_111 F6SYF8;Q9UBP4                         17.330 22.872     0  \n",
       "Sample_002 A0A0A0MT36                            16.879 15.671     0  \n",
       "Sample_049 Q8WY21;Q8WY21-2;Q8WY21-3;Q8WY21-4     17.215 15.574     0  \n",
       "Sample_182 Q8NFT8                                17.125 14.518     0  \n",
       "Sample_123 Q16853;Q16853-2                       16.981 14.485     0  \n",
       "\n",
       "[12600 rows x 21 columns]"
      ]
     },
     "execution_count": 13,
     "metadata": {},
     "output_type": "execute_result"
    }
   ],
   "source": [
    "val_pred_fake_na"
   ]
  },
  {
   "cell_type": "markdown",
   "id": "655364c4",
   "metadata": {
    "papermill": {
     "duration": 0.006609,
     "end_time": "2024-05-31T10:05:51.020978",
     "exception": false,
     "start_time": "2024-05-31T10:05:51.014369",
     "status": "completed"
    },
    "tags": []
   },
   "source": [
    "Metrics for simulated missing values (NA)"
   ]
  },
  {
   "cell_type": "code",
   "execution_count": 14,
   "id": "d7c5dab0",
   "metadata": {
    "execution": {
     "iopub.execute_input": "2024-05-31T10:05:51.035320Z",
     "iopub.status.busy": "2024-05-31T10:05:51.034978Z",
     "iopub.status.idle": "2024-05-31T10:05:51.037656Z",
     "shell.execute_reply": "2024-05-31T10:05:51.037096Z"
    },
    "papermill": {
     "duration": 0.011194,
     "end_time": "2024-05-31T10:05:51.038786",
     "exception": false,
     "start_time": "2024-05-31T10:05:51.027592",
     "status": "completed"
    },
    "tags": [
     "hide-input"
    ]
   },
   "outputs": [],
   "source": [
    "# papermill_description=metrics\n",
    "d_metrics = vaep.models.Metrics()"
   ]
  },
  {
   "cell_type": "code",
   "execution_count": 15,
   "id": "773dcbbe",
   "metadata": {
    "execution": {
     "iopub.execute_input": "2024-05-31T10:05:51.052764Z",
     "iopub.status.busy": "2024-05-31T10:05:51.052580Z",
     "iopub.status.idle": "2024-05-31T10:05:51.122158Z",
     "shell.execute_reply": "2024-05-31T10:05:51.121549Z"
    },
    "papermill": {
     "duration": 0.077929,
     "end_time": "2024-05-31T10:05:51.123327",
     "exception": false,
     "start_time": "2024-05-31T10:05:51.045398",
     "status": "completed"
    },
    "tags": [
     "hide-input"
    ]
   },
   "outputs": [
    {
     "name": "stdout",
     "output_type": "stream",
     "text": [
      "Selected as truth to compare to: observed\n"
     ]
    },
    {
     "data": {
      "text/html": [
       "<div>\n",
       "<style scoped>\n",
       "    .dataframe tbody tr th:only-of-type {\n",
       "        vertical-align: middle;\n",
       "    }\n",
       "\n",
       "    .dataframe tbody tr th {\n",
       "        vertical-align: top;\n",
       "    }\n",
       "\n",
       "    .dataframe thead th {\n",
       "        text-align: right;\n",
       "    }\n",
       "</style>\n",
       "<table border=\"1\" class=\"dataframe\">\n",
       "  <thead>\n",
       "    <tr style=\"text-align: right;\">\n",
       "      <th></th>\n",
       "      <th>BPCA</th>\n",
       "      <th>COLMEDIAN</th>\n",
       "      <th>IMPSEQROB</th>\n",
       "      <th>IRM</th>\n",
       "      <th>KNN_IMPUTE</th>\n",
       "      <th>LLS</th>\n",
       "      <th>MINDET</th>\n",
       "      <th>MINIMUM</th>\n",
       "      <th>MINPROB</th>\n",
       "      <th>MLE</th>\n",
       "      <th>MSIMPUTE</th>\n",
       "      <th>MSIMPUTE_MNAR</th>\n",
       "      <th>PI</th>\n",
       "      <th>QRILC</th>\n",
       "      <th>RF</th>\n",
       "      <th>ROWMEDIAN</th>\n",
       "      <th>SVDMETHOD</th>\n",
       "      <th>TRKNN</th>\n",
       "      <th>ZERO</th>\n",
       "    </tr>\n",
       "  </thead>\n",
       "  <tbody>\n",
       "    <tr>\n",
       "      <th>MSE</th>\n",
       "      <td>0.388</td>\n",
       "      <td>7.712</td>\n",
       "      <td>6,179,879.361</td>\n",
       "      <td>0.709</td>\n",
       "      <td>0.702</td>\n",
       "      <td>108.639</td>\n",
       "      <td>25.619</td>\n",
       "      <td>97.284</td>\n",
       "      <td>25.838</td>\n",
       "      <td>5,393,471.689</td>\n",
       "      <td>94.670</td>\n",
       "      <td>77.084</td>\n",
       "      <td>23.157</td>\n",
       "      <td>4.260</td>\n",
       "      <td>0.447</td>\n",
       "      <td>0.695</td>\n",
       "      <td>8.040</td>\n",
       "      <td>0.426</td>\n",
       "      <td>281.082</td>\n",
       "    </tr>\n",
       "    <tr>\n",
       "      <th>MAE</th>\n",
       "      <td>0.406</td>\n",
       "      <td>2.204</td>\n",
       "      <td>2,433.435</td>\n",
       "      <td>0.575</td>\n",
       "      <td>0.535</td>\n",
       "      <td>0.695</td>\n",
       "      <td>4.267</td>\n",
       "      <td>9.468</td>\n",
       "      <td>4.275</td>\n",
       "      <td>2,132.119</td>\n",
       "      <td>9.625</td>\n",
       "      <td>8.628</td>\n",
       "      <td>3.976</td>\n",
       "      <td>1.620</td>\n",
       "      <td>0.444</td>\n",
       "      <td>0.580</td>\n",
       "      <td>2.283</td>\n",
       "      <td>0.436</td>\n",
       "      <td>16.536</td>\n",
       "    </tr>\n",
       "    <tr>\n",
       "      <th>N</th>\n",
       "      <td>2,892.000</td>\n",
       "      <td>2,892.000</td>\n",
       "      <td>2,892.000</td>\n",
       "      <td>2,892.000</td>\n",
       "      <td>2,892.000</td>\n",
       "      <td>2,892.000</td>\n",
       "      <td>2,892.000</td>\n",
       "      <td>2,892.000</td>\n",
       "      <td>2,892.000</td>\n",
       "      <td>2,892.000</td>\n",
       "      <td>2,892.000</td>\n",
       "      <td>2,892.000</td>\n",
       "      <td>2,892.000</td>\n",
       "      <td>2,892.000</td>\n",
       "      <td>2,892.000</td>\n",
       "      <td>2,892.000</td>\n",
       "      <td>2,892.000</td>\n",
       "      <td>2,892.000</td>\n",
       "      <td>2,892.000</td>\n",
       "    </tr>\n",
       "    <tr>\n",
       "      <th>prop</th>\n",
       "      <td>1.000</td>\n",
       "      <td>1.000</td>\n",
       "      <td>1.000</td>\n",
       "      <td>1.000</td>\n",
       "      <td>1.000</td>\n",
       "      <td>1.000</td>\n",
       "      <td>1.000</td>\n",
       "      <td>1.000</td>\n",
       "      <td>1.000</td>\n",
       "      <td>1.000</td>\n",
       "      <td>1.000</td>\n",
       "      <td>1.000</td>\n",
       "      <td>1.000</td>\n",
       "      <td>1.000</td>\n",
       "      <td>1.000</td>\n",
       "      <td>1.000</td>\n",
       "      <td>1.000</td>\n",
       "      <td>1.000</td>\n",
       "      <td>1.000</td>\n",
       "    </tr>\n",
       "  </tbody>\n",
       "</table>\n",
       "</div>"
      ],
      "text/plain": [
       "          BPCA  COLMEDIAN     IMPSEQROB       IRM  KNN_IMPUTE       LLS  \\\n",
       "MSE      0.388      7.712 6,179,879.361     0.709       0.702   108.639   \n",
       "MAE      0.406      2.204     2,433.435     0.575       0.535     0.695   \n",
       "N    2,892.000  2,892.000     2,892.000 2,892.000   2,892.000 2,892.000   \n",
       "prop     1.000      1.000         1.000     1.000       1.000     1.000   \n",
       "\n",
       "        MINDET   MINIMUM   MINPROB           MLE  MSIMPUTE  MSIMPUTE_MNAR  \\\n",
       "MSE     25.619    97.284    25.838 5,393,471.689    94.670         77.084   \n",
       "MAE      4.267     9.468     4.275     2,132.119     9.625          8.628   \n",
       "N    2,892.000 2,892.000 2,892.000     2,892.000 2,892.000      2,892.000   \n",
       "prop     1.000     1.000     1.000         1.000     1.000          1.000   \n",
       "\n",
       "            PI     QRILC        RF  ROWMEDIAN  SVDMETHOD     TRKNN      ZERO  \n",
       "MSE     23.157     4.260     0.447      0.695      8.040     0.426   281.082  \n",
       "MAE      3.976     1.620     0.444      0.580      2.283     0.436    16.536  \n",
       "N    2,892.000 2,892.000 2,892.000  2,892.000  2,892.000 2,892.000 2,892.000  \n",
       "prop     1.000     1.000     1.000      1.000      1.000     1.000     1.000  "
      ]
     },
     "execution_count": 15,
     "metadata": {},
     "output_type": "execute_result"
    }
   ],
   "source": [
    "added_metrics = d_metrics.add_metrics(val_pred_fake_na.dropna(how='all', axis=1), 'valid_fake_na')\n",
    "pd.DataFrame(added_metrics)"
   ]
  },
  {
   "cell_type": "markdown",
   "id": "33fde68c",
   "metadata": {
    "papermill": {
     "duration": 0.006805,
     "end_time": "2024-05-31T10:05:51.137284",
     "exception": false,
     "start_time": "2024-05-31T10:05:51.130479",
     "status": "completed"
    },
    "tags": []
   },
   "source": [
    "## Test Datasplit"
   ]
  },
  {
   "cell_type": "code",
   "execution_count": 16,
   "id": "065e1e62",
   "metadata": {
    "execution": {
     "iopub.execute_input": "2024-05-31T10:05:51.151854Z",
     "iopub.status.busy": "2024-05-31T10:05:51.151319Z",
     "iopub.status.idle": "2024-05-31T10:05:51.220959Z",
     "shell.execute_reply": "2024-05-31T10:05:51.220439Z"
    },
    "papermill": {
     "duration": 0.078047,
     "end_time": "2024-05-31T10:05:51.222126",
     "exception": false,
     "start_time": "2024-05-31T10:05:51.144079",
     "status": "completed"
    },
    "tags": [
     "hide-input"
    ]
   },
   "outputs": [
    {
     "name": "stdout",
     "output_type": "stream",
     "text": [
      "Selected as truth to compare to: observed\n"
     ]
    },
    {
     "data": {
      "text/html": [
       "<div>\n",
       "<style scoped>\n",
       "    .dataframe tbody tr th:only-of-type {\n",
       "        vertical-align: middle;\n",
       "    }\n",
       "\n",
       "    .dataframe tbody tr th {\n",
       "        vertical-align: top;\n",
       "    }\n",
       "\n",
       "    .dataframe thead th {\n",
       "        text-align: right;\n",
       "    }\n",
       "</style>\n",
       "<table border=\"1\" class=\"dataframe\">\n",
       "  <thead>\n",
       "    <tr style=\"text-align: right;\">\n",
       "      <th></th>\n",
       "      <th>BPCA</th>\n",
       "      <th>COLMEDIAN</th>\n",
       "      <th>IMPSEQROB</th>\n",
       "      <th>IRM</th>\n",
       "      <th>KNN_IMPUTE</th>\n",
       "      <th>LLS</th>\n",
       "      <th>MINDET</th>\n",
       "      <th>MINIMUM</th>\n",
       "      <th>MINPROB</th>\n",
       "      <th>MLE</th>\n",
       "      <th>MSIMPUTE</th>\n",
       "      <th>MSIMPUTE_MNAR</th>\n",
       "      <th>PI</th>\n",
       "      <th>QRILC</th>\n",
       "      <th>RF</th>\n",
       "      <th>ROWMEDIAN</th>\n",
       "      <th>SVDMETHOD</th>\n",
       "      <th>TRKNN</th>\n",
       "      <th>ZERO</th>\n",
       "    </tr>\n",
       "  </thead>\n",
       "  <tbody>\n",
       "    <tr>\n",
       "      <th>MSE</th>\n",
       "      <td>0.557</td>\n",
       "      <td>7.941</td>\n",
       "      <td>6,227,545.432</td>\n",
       "      <td>0.834</td>\n",
       "      <td>0.870</td>\n",
       "      <td>0.688</td>\n",
       "      <td>24.975</td>\n",
       "      <td>95.562</td>\n",
       "      <td>25.347</td>\n",
       "      <td>5,505,296.129</td>\n",
       "      <td>93.951</td>\n",
       "      <td>76.327</td>\n",
       "      <td>22.751</td>\n",
       "      <td>4.298</td>\n",
       "      <td>0.574</td>\n",
       "      <td>0.843</td>\n",
       "      <td>8.370</td>\n",
       "      <td>0.562</td>\n",
       "      <td>277.956</td>\n",
       "    </tr>\n",
       "    <tr>\n",
       "      <th>MAE</th>\n",
       "      <td>0.453</td>\n",
       "      <td>2.217</td>\n",
       "      <td>2,451.991</td>\n",
       "      <td>0.597</td>\n",
       "      <td>0.578</td>\n",
       "      <td>0.524</td>\n",
       "      <td>4.190</td>\n",
       "      <td>9.369</td>\n",
       "      <td>4.209</td>\n",
       "      <td>2,175.538</td>\n",
       "      <td>9.580</td>\n",
       "      <td>8.575</td>\n",
       "      <td>3.909</td>\n",
       "      <td>1.640</td>\n",
       "      <td>0.484</td>\n",
       "      <td>0.624</td>\n",
       "      <td>2.314</td>\n",
       "      <td>0.470</td>\n",
       "      <td>16.437</td>\n",
       "    </tr>\n",
       "    <tr>\n",
       "      <th>N</th>\n",
       "      <td>2,976.000</td>\n",
       "      <td>2,976.000</td>\n",
       "      <td>2,976.000</td>\n",
       "      <td>2,976.000</td>\n",
       "      <td>2,976.000</td>\n",
       "      <td>2,976.000</td>\n",
       "      <td>2,976.000</td>\n",
       "      <td>2,976.000</td>\n",
       "      <td>2,976.000</td>\n",
       "      <td>2,976.000</td>\n",
       "      <td>2,976.000</td>\n",
       "      <td>2,976.000</td>\n",
       "      <td>2,976.000</td>\n",
       "      <td>2,976.000</td>\n",
       "      <td>2,976.000</td>\n",
       "      <td>2,976.000</td>\n",
       "      <td>2,976.000</td>\n",
       "      <td>2,976.000</td>\n",
       "      <td>2,976.000</td>\n",
       "    </tr>\n",
       "    <tr>\n",
       "      <th>prop</th>\n",
       "      <td>1.000</td>\n",
       "      <td>1.000</td>\n",
       "      <td>1.000</td>\n",
       "      <td>1.000</td>\n",
       "      <td>1.000</td>\n",
       "      <td>1.000</td>\n",
       "      <td>1.000</td>\n",
       "      <td>1.000</td>\n",
       "      <td>1.000</td>\n",
       "      <td>1.000</td>\n",
       "      <td>1.000</td>\n",
       "      <td>1.000</td>\n",
       "      <td>1.000</td>\n",
       "      <td>1.000</td>\n",
       "      <td>1.000</td>\n",
       "      <td>1.000</td>\n",
       "      <td>1.000</td>\n",
       "      <td>1.000</td>\n",
       "      <td>1.000</td>\n",
       "    </tr>\n",
       "  </tbody>\n",
       "</table>\n",
       "</div>"
      ],
      "text/plain": [
       "          BPCA  COLMEDIAN     IMPSEQROB       IRM  KNN_IMPUTE       LLS  \\\n",
       "MSE      0.557      7.941 6,227,545.432     0.834       0.870     0.688   \n",
       "MAE      0.453      2.217     2,451.991     0.597       0.578     0.524   \n",
       "N    2,976.000  2,976.000     2,976.000 2,976.000   2,976.000 2,976.000   \n",
       "prop     1.000      1.000         1.000     1.000       1.000     1.000   \n",
       "\n",
       "        MINDET   MINIMUM   MINPROB           MLE  MSIMPUTE  MSIMPUTE_MNAR  \\\n",
       "MSE     24.975    95.562    25.347 5,505,296.129    93.951         76.327   \n",
       "MAE      4.190     9.369     4.209     2,175.538     9.580          8.575   \n",
       "N    2,976.000 2,976.000 2,976.000     2,976.000 2,976.000      2,976.000   \n",
       "prop     1.000     1.000     1.000         1.000     1.000          1.000   \n",
       "\n",
       "            PI     QRILC        RF  ROWMEDIAN  SVDMETHOD     TRKNN      ZERO  \n",
       "MSE     22.751     4.298     0.574      0.843      8.370     0.562   277.956  \n",
       "MAE      3.909     1.640     0.484      0.624      2.314     0.470    16.437  \n",
       "N    2,976.000 2,976.000 2,976.000  2,976.000  2,976.000 2,976.000 2,976.000  \n",
       "prop     1.000     1.000     1.000      1.000      1.000     1.000     1.000  "
      ]
     },
     "execution_count": 16,
     "metadata": {},
     "output_type": "execute_result"
    }
   ],
   "source": [
    "added_metrics = d_metrics.add_metrics(test_pred_fake_na.dropna(how='all', axis=1), 'test_fake_na')\n",
    "pd.DataFrame(added_metrics)"
   ]
  },
  {
   "cell_type": "code",
   "execution_count": 17,
   "id": "37e8e515",
   "metadata": {
    "execution": {
     "iopub.execute_input": "2024-05-31T10:05:51.236944Z",
     "iopub.status.busy": "2024-05-31T10:05:51.236518Z",
     "iopub.status.idle": "2024-05-31T10:05:51.247548Z",
     "shell.execute_reply": "2024-05-31T10:05:51.247068Z"
    },
    "papermill": {
     "duration": 0.019623,
     "end_time": "2024-05-31T10:05:51.248676",
     "exception": false,
     "start_time": "2024-05-31T10:05:51.229053",
     "status": "completed"
    },
    "tags": [
     "hide-input"
    ]
   },
   "outputs": [
    {
     "data": {
      "text/html": [
       "<div>\n",
       "<style scoped>\n",
       "    .dataframe tbody tr th:only-of-type {\n",
       "        vertical-align: middle;\n",
       "    }\n",
       "\n",
       "    .dataframe tbody tr th {\n",
       "        vertical-align: top;\n",
       "    }\n",
       "\n",
       "    .dataframe thead th {\n",
       "        text-align: right;\n",
       "    }\n",
       "</style>\n",
       "<table border=\"1\" class=\"dataframe\">\n",
       "  <thead>\n",
       "    <tr style=\"text-align: right;\">\n",
       "      <th></th>\n",
       "      <th>subset</th>\n",
       "      <th>valid_fake_na</th>\n",
       "      <th>test_fake_na</th>\n",
       "    </tr>\n",
       "    <tr>\n",
       "      <th>model</th>\n",
       "      <th>metric_name</th>\n",
       "      <th></th>\n",
       "      <th></th>\n",
       "    </tr>\n",
       "  </thead>\n",
       "  <tbody>\n",
       "    <tr>\n",
       "      <th rowspan=\"4\" valign=\"top\">BPCA</th>\n",
       "      <th>MSE</th>\n",
       "      <td>0.388</td>\n",
       "      <td>0.557</td>\n",
       "    </tr>\n",
       "    <tr>\n",
       "      <th>MAE</th>\n",
       "      <td>0.406</td>\n",
       "      <td>0.453</td>\n",
       "    </tr>\n",
       "    <tr>\n",
       "      <th>N</th>\n",
       "      <td>2,892.000</td>\n",
       "      <td>2,976.000</td>\n",
       "    </tr>\n",
       "    <tr>\n",
       "      <th>prop</th>\n",
       "      <td>1.000</td>\n",
       "      <td>1.000</td>\n",
       "    </tr>\n",
       "    <tr>\n",
       "      <th>COLMEDIAN</th>\n",
       "      <th>MSE</th>\n",
       "      <td>7.712</td>\n",
       "      <td>7.941</td>\n",
       "    </tr>\n",
       "    <tr>\n",
       "      <th>...</th>\n",
       "      <th>...</th>\n",
       "      <td>...</td>\n",
       "      <td>...</td>\n",
       "    </tr>\n",
       "    <tr>\n",
       "      <th>TRKNN</th>\n",
       "      <th>prop</th>\n",
       "      <td>1.000</td>\n",
       "      <td>1.000</td>\n",
       "    </tr>\n",
       "    <tr>\n",
       "      <th rowspan=\"4\" valign=\"top\">ZERO</th>\n",
       "      <th>MSE</th>\n",
       "      <td>281.082</td>\n",
       "      <td>277.956</td>\n",
       "    </tr>\n",
       "    <tr>\n",
       "      <th>MAE</th>\n",
       "      <td>16.536</td>\n",
       "      <td>16.437</td>\n",
       "    </tr>\n",
       "    <tr>\n",
       "      <th>N</th>\n",
       "      <td>2,892.000</td>\n",
       "      <td>2,976.000</td>\n",
       "    </tr>\n",
       "    <tr>\n",
       "      <th>prop</th>\n",
       "      <td>1.000</td>\n",
       "      <td>1.000</td>\n",
       "    </tr>\n",
       "  </tbody>\n",
       "</table>\n",
       "<p>76 rows × 2 columns</p>\n",
       "</div>"
      ],
      "text/plain": [
       "subset                 valid_fake_na  test_fake_na\n",
       "model     metric_name                             \n",
       "BPCA      MSE                  0.388         0.557\n",
       "          MAE                  0.406         0.453\n",
       "          N                2,892.000     2,976.000\n",
       "          prop                 1.000         1.000\n",
       "COLMEDIAN MSE                  7.712         7.941\n",
       "...                              ...           ...\n",
       "TRKNN     prop                 1.000         1.000\n",
       "ZERO      MSE                281.082       277.956\n",
       "          MAE                 16.536        16.437\n",
       "          N                2,892.000     2,976.000\n",
       "          prop                 1.000         1.000\n",
       "\n",
       "[76 rows x 2 columns]"
      ]
     },
     "execution_count": 17,
     "metadata": {},
     "output_type": "execute_result"
    }
   ],
   "source": [
    "metrics_df = vaep.models.get_df_from_nested_dict(\n",
    "    d_metrics.metrics, column_levels=['model', 'metric_name']).T\n",
    "metrics_df"
   ]
  },
  {
   "cell_type": "code",
   "execution_count": 18,
   "id": "f1f0d12c",
   "metadata": {
    "execution": {
     "iopub.execute_input": "2024-05-31T10:05:51.263628Z",
     "iopub.status.busy": "2024-05-31T10:05:51.263443Z",
     "iopub.status.idle": "2024-05-31T10:05:51.268632Z",
     "shell.execute_reply": "2024-05-31T10:05:51.268082Z"
    },
    "papermill": {
     "duration": 0.013984,
     "end_time": "2024-05-31T10:05:51.269788",
     "exception": false,
     "start_time": "2024-05-31T10:05:51.255804",
     "status": "completed"
    },
    "tags": [
     "hide-input"
    ]
   },
   "outputs": [
    {
     "data": {
      "text/plain": [
       "model          metric_name\n",
       "BPCA           MAE               0.406\n",
       "TRKNN          MAE               0.436\n",
       "RF             MAE               0.444\n",
       "KNN_IMPUTE     MAE               0.535\n",
       "IRM            MAE               0.575\n",
       "ROWMEDIAN      MAE               0.580\n",
       "LLS            MAE               0.695\n",
       "QRILC          MAE               1.620\n",
       "COLMEDIAN      MAE               2.204\n",
       "SVDMETHOD      MAE               2.283\n",
       "PI             MAE               3.976\n",
       "MINDET         MAE               4.267\n",
       "MINPROB        MAE               4.275\n",
       "MSIMPUTE_MNAR  MAE               8.628\n",
       "MINIMUM        MAE               9.468\n",
       "MSIMPUTE       MAE               9.625\n",
       "ZERO           MAE              16.536\n",
       "MLE            MAE           2,132.119\n",
       "IMPSEQROB      MAE           2,433.435\n",
       "Name: valid_fake_na, dtype: float64"
      ]
     },
     "execution_count": 18,
     "metadata": {},
     "output_type": "execute_result"
    }
   ],
   "source": [
    "order_methods = metrics_df.loc[pd.IndexSlice[:,\n",
    "                                             'MAE'], 'valid_fake_na'].sort_values()\n",
    "order_methods"
   ]
  },
  {
   "cell_type": "code",
   "execution_count": 19,
   "id": "a0f8ce7c",
   "metadata": {
    "execution": {
     "iopub.execute_input": "2024-05-31T10:05:51.284862Z",
     "iopub.status.busy": "2024-05-31T10:05:51.284677Z",
     "iopub.status.idle": "2024-05-31T10:05:51.288667Z",
     "shell.execute_reply": "2024-05-31T10:05:51.288135Z"
    },
    "papermill": {
     "duration": 0.012897,
     "end_time": "2024-05-31T10:05:51.289881",
     "exception": false,
     "start_time": "2024-05-31T10:05:51.276984",
     "status": "completed"
    },
    "tags": [
     "hide-input"
    ]
   },
   "outputs": [
    {
     "data": {
      "text/plain": [
       "['observed', 'BPCA', 'TRKNN', 'RF', 'KNN_IMPUTE', 'IRM', 'ROWMEDIAN']"
      ]
     },
     "execution_count": 19,
     "metadata": {},
     "output_type": "execute_result"
    }
   ],
   "source": [
    "top_5 = ['observed', *order_methods.droplevel(-1).index[:6]]\n",
    "top_5"
   ]
  },
  {
   "cell_type": "code",
   "execution_count": 20,
   "id": "7e041594",
   "metadata": {
    "execution": {
     "iopub.execute_input": "2024-05-31T10:05:51.305478Z",
     "iopub.status.busy": "2024-05-31T10:05:51.305077Z",
     "iopub.status.idle": "2024-05-31T10:05:55.437760Z",
     "shell.execute_reply": "2024-05-31T10:05:55.437148Z"
    },
    "papermill": {
     "duration": 4.14179,
     "end_time": "2024-05-31T10:05:55.438978",
     "exception": false,
     "start_time": "2024-05-31T10:05:51.297188",
     "status": "completed"
    },
    "tags": [
     "hide-input"
    ]
   },
   "outputs": [
    {
     "name": "stdout",
     "output_type": "stream",
     "text": [
      "vaep.plotting - INFO     Saved Figures to runs/alzheimer_study/figures/NAGuideR_errors_per_bin_val.png\n"
     ]
    },
    {
     "data": {
      "image/png": "[encoded data removed]",
      "text/plain": [
       "<Figure size 1176x294 with 1 Axes>"
      ]
     },
     "metadata": {},
     "output_type": "display_data"
    }
   ],
   "source": [
    "fig, ax = plt.subplots(figsize=(8, 2))\n",
    "ax, errors_bind = vaep.plotting.errors.plot_errors_binned(\n",
    "    val_pred_fake_na[top_5],\n",
    "    ax=ax,\n",
    ")\n",
    "fname = args.out_figures / 'NAGuideR_errors_per_bin_val.png'\n",
    "files_out[fname.name] = fname.as_posix()\n",
    "vaep.savefig(ax.get_figure(), fname)"
   ]
  },
  {
   "cell_type": "code",
   "execution_count": 21,
   "id": "77b1b792",
   "metadata": {
    "execution": {
     "iopub.execute_input": "2024-05-31T10:05:55.455747Z",
     "iopub.status.busy": "2024-05-31T10:05:55.455388Z",
     "iopub.status.idle": "2024-05-31T10:05:55.460169Z",
     "shell.execute_reply": "2024-05-31T10:05:55.459698Z"
    },
    "papermill": {
     "duration": 0.01436,
     "end_time": "2024-05-31T10:05:55.461264",
     "exception": false,
     "start_time": "2024-05-31T10:05:55.446904",
     "status": "completed"
    },
    "tags": [
     "hide-input"
    ]
   },
   "outputs": [
    {
     "data": {
      "text/plain": [
       "{'pred_val_BPCA.csv': 'runs/alzheimer_study/preds/pred_val_BPCA.csv',\n",
       " 'pred_test_BPCA.csv': 'runs/alzheimer_study/preds/pred_test_BPCA.csv',\n",
       " 'pred_real_na_BPCA.csv': 'runs/alzheimer_study/preds/pred_real_na_BPCA.csv',\n",
       " 'pred_val_COLMEDIAN.csv': 'runs/alzheimer_study/preds/pred_val_COLMEDIAN.csv',\n",
       " 'pred_test_COLMEDIAN.csv': 'runs/alzheimer_study/preds/pred_test_COLMEDIAN.csv',\n",
       " 'pred_real_na_COLMEDIAN.csv': 'runs/alzheimer_study/preds/pred_real_na_COLMEDIAN.csv',\n",
       " 'pred_val_IMPSEQ.csv': 'runs/alzheimer_study/preds/pred_val_IMPSEQ.csv',\n",
       " 'pred_test_IMPSEQ.csv': 'runs/alzheimer_study/preds/pred_test_IMPSEQ.csv',\n",
       " 'pred_real_na_IMPSEQ.csv': 'runs/alzheimer_study/preds/pred_real_na_IMPSEQ.csv',\n",
       " 'pred_val_IMPSEQROB.csv': 'runs/alzheimer_study/preds/pred_val_IMPSEQROB.csv',\n",
       " 'pred_test_IMPSEQROB.csv': 'runs/alzheimer_study/preds/pred_test_IMPSEQROB.csv',\n",
       " 'pred_real_na_IMPSEQROB.csv': 'runs/alzheimer_study/preds/pred_real_na_IMPSEQROB.csv',\n",
       " 'pred_val_IRM.csv': 'runs/alzheimer_study/preds/pred_val_IRM.csv',\n",
       " 'pred_test_IRM.csv': 'runs/alzheimer_study/preds/pred_test_IRM.csv',\n",
       " 'pred_real_na_IRM.csv': 'runs/alzheimer_study/preds/pred_real_na_IRM.csv',\n",
       " 'pred_val_KNN_IMPUTE.csv': 'runs/alzheimer_study/preds/pred_val_KNN_IMPUTE.csv',\n",
       " 'pred_test_KNN_IMPUTE.csv': 'runs/alzheimer_study/preds/pred_test_KNN_IMPUTE.csv',\n",
       " 'pred_real_na_KNN_IMPUTE.csv': 'runs/alzheimer_study/preds/pred_real_na_KNN_IMPUTE.csv',\n",
       " 'pred_val_LLS.csv': 'runs/alzheimer_study/preds/pred_val_LLS.csv',\n",
       " 'pred_test_LLS.csv': 'runs/alzheimer_study/preds/pred_test_LLS.csv',\n",
       " 'pred_real_na_LLS.csv': 'runs/alzheimer_study/preds/pred_real_na_LLS.csv',\n",
       " 'pred_val_MINDET.csv': 'runs/alzheimer_study/preds/pred_val_MINDET.csv',\n",
       " 'pred_test_MINDET.csv': 'runs/alzheimer_study/preds/pred_test_MINDET.csv',\n",
       " 'pred_real_na_MINDET.csv': 'runs/alzheimer_study/preds/pred_real_na_MINDET.csv',\n",
       " 'pred_val_MINIMUM.csv': 'runs/alzheimer_study/preds/pred_val_MINIMUM.csv',\n",
       " 'pred_test_MINIMUM.csv': 'runs/alzheimer_study/preds/pred_test_MINIMUM.csv',\n",
       " 'pred_real_na_MINIMUM.csv': 'runs/alzheimer_study/preds/pred_real_na_MINIMUM.csv',\n",
       " 'pred_val_MINPROB.csv': 'runs/alzheimer_study/preds/pred_val_MINPROB.csv',\n",
       " 'pred_test_MINPROB.csv': 'runs/alzheimer_study/preds/pred_test_MINPROB.csv',\n",
       " 'pred_real_na_MINPROB.csv': 'runs/alzheimer_study/preds/pred_real_na_MINPROB.csv',\n",
       " 'pred_val_MLE.csv': 'runs/alzheimer_study/preds/pred_val_MLE.csv',\n",
       " 'pred_test_MLE.csv': 'runs/alzheimer_study/preds/pred_test_MLE.csv',\n",
       " 'pred_real_na_MLE.csv': 'runs/alzheimer_study/preds/pred_real_na_MLE.csv',\n",
       " 'pred_val_MSIMPUTE.csv': 'runs/alzheimer_study/preds/pred_val_MSIMPUTE.csv',\n",
       " 'pred_test_MSIMPUTE.csv': 'runs/alzheimer_study/preds/pred_test_MSIMPUTE.csv',\n",
       " 'pred_real_na_MSIMPUTE.csv': 'runs/alzheimer_study/preds/pred_real_na_MSIMPUTE.csv',\n",
       " 'pred_val_MSIMPUTE_MNAR.csv': 'runs/alzheimer_study/preds/pred_val_MSIMPUTE_MNAR.csv',\n",
       " 'pred_test_MSIMPUTE_MNAR.csv': 'runs/alzheimer_study/preds/pred_test_MSIMPUTE_MNAR.csv',\n",
       " 'pred_real_na_MSIMPUTE_MNAR.csv': 'runs/alzheimer_study/preds/pred_real_na_MSIMPUTE_MNAR.csv',\n",
       " 'pred_val_PI.csv': 'runs/alzheimer_study/preds/pred_val_PI.csv',\n",
       " 'pred_test_PI.csv': 'runs/alzheimer_study/preds/pred_test_PI.csv',\n",
       " 'pred_real_na_PI.csv': 'runs/alzheimer_study/preds/pred_real_na_PI.csv',\n",
       " 'pred_val_QRILC.csv': 'runs/alzheimer_study/preds/pred_val_QRILC.csv',\n",
       " 'pred_test_QRILC.csv': 'runs/alzheimer_study/preds/pred_test_QRILC.csv',\n",
       " 'pred_real_na_QRILC.csv': 'runs/alzheimer_study/preds/pred_real_na_QRILC.csv',\n",
       " 'pred_val_RF.csv': 'runs/alzheimer_study/preds/pred_val_RF.csv',\n",
       " 'pred_test_RF.csv': 'runs/alzheimer_study/preds/pred_test_RF.csv',\n",
       " 'pred_real_na_RF.csv': 'runs/alzheimer_study/preds/pred_real_na_RF.csv',\n",
       " 'pred_val_ROWMEDIAN.csv': 'runs/alzheimer_study/preds/pred_val_ROWMEDIAN.csv',\n",
       " 'pred_test_ROWMEDIAN.csv': 'runs/alzheimer_study/preds/pred_test_ROWMEDIAN.csv',\n",
       " 'pred_real_na_ROWMEDIAN.csv': 'runs/alzheimer_study/preds/pred_real_na_ROWMEDIAN.csv',\n",
       " 'pred_val_SVDMETHOD.csv': 'runs/alzheimer_study/preds/pred_val_SVDMETHOD.csv',\n",
       " 'pred_test_SVDMETHOD.csv': 'runs/alzheimer_study/preds/pred_test_SVDMETHOD.csv',\n",
       " 'pred_real_na_SVDMETHOD.csv': 'runs/alzheimer_study/preds/pred_real_na_SVDMETHOD.csv',\n",
       " 'pred_val_TRKNN.csv': 'runs/alzheimer_study/preds/pred_val_TRKNN.csv',\n",
       " 'pred_test_TRKNN.csv': 'runs/alzheimer_study/preds/pred_test_TRKNN.csv',\n",
       " 'pred_real_na_TRKNN.csv': 'runs/alzheimer_study/preds/pred_real_na_TRKNN.csv',\n",
       " 'pred_val_ZERO.csv': 'runs/alzheimer_study/preds/pred_val_ZERO.csv',\n",
       " 'pred_test_ZERO.csv': 'runs/alzheimer_study/preds/pred_test_ZERO.csv',\n",
       " 'pred_real_na_ZERO.csv': 'runs/alzheimer_study/preds/pred_real_na_ZERO.csv',\n",
       " 'NAGuideR_errors_per_bin_val.png': 'runs/alzheimer_study/figures/NAGuideR_errors_per_bin_val.png'}"
      ]
     },
     "execution_count": 21,
     "metadata": {},
     "output_type": "execute_result"
    }
   ],
   "source": [
    "files_out"
   ]
  }
 ],
 "metadata": {
  "jupytext": {
   "cell_metadata_filter": "title,tags,-all"
  },
  "kernelspec": {
   "display_name": "Python 3",
   "language": "python",
   "name": "python3"
  },
  "language_info": {
   "codemirror_mode": {
    "name": "ipython",
    "version": 3
   },
   "file_extension": ".py",
   "mimetype": "text/x-python",
   "name": "python",
   "nbconvert_exporter": "python",
   "pygments_lexer": "ipython3",
   "version": "3.8.19"
  },
  "papermill": {
   "default_parameters": {},
   "duration": 13.407278,
   "end_time": "2024-05-31T10:05:56.086109",
   "environment_variables": {},
   "exception": null,
   "input_path": "01_1_transfer_NAGuideR_pred.ipynb",
   "output_path": "runs/alzheimer_study/01_1_transfer_NAGuideR_pred.ipynb",
   "parameters": {
    "dumps": "runs/alzheimer_study/preds/pred_all_BPCA.csv,runs/alzheimer_study/preds/pred_all_COLMEDIAN.csv,runs/alzheimer_study/preds/pred_all_IMPSEQ.csv,runs/alzheimer_study/preds/pred_all_IMPSEQROB.csv,runs/alzheimer_study/preds/pred_all_IRM.csv,runs/alzheimer_study/preds/pred_all_KNN_IMPUTE.csv,runs/alzheimer_study/preds/pred_all_LLS.csv,runs/alzheimer_study/preds/pred_all_MINDET.csv,runs/alzheimer_study/preds/pred_all_MINIMUM.csv,runs/alzheimer_study/preds/pred_all_MINPROB.csv,runs/alzheimer_study/preds/pred_all_MLE.csv,runs/alzheimer_study/preds/pred_all_MSIMPUTE.csv,runs/alzheimer_study/preds/pred_all_MSIMPUTE_MNAR.csv,runs/alzheimer_study/preds/pred_all_PI.csv,runs/alzheimer_study/preds/pred_all_QRILC.csv,runs/alzheimer_study/preds/pred_all_RF.csv,runs/alzheimer_study/preds/pred_all_ROWMEDIAN.csv,runs/alzheimer_study/preds/pred_all_SVDMETHOD.csv,runs/alzheimer_study/preds/pred_all_TRKNN.csv,runs/alzheimer_study/preds/pred_all_ZERO.csv",
    "folder_experiment": "runs/alzheimer_study"
   },
   "start_time": "2024-05-31T10:05:42.678831",
   "version": "2.6.0"
  }
 },
 "nbformat": 4,
 "nbformat_minor": 5
}