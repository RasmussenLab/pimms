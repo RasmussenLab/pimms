{
 "cells": [
  {
   "cell_type": "markdown",
   "id": "a75efcbe-2ae0-4609-872a-759fb5c80af1",
   "metadata": {
    "papermill": {
     "duration": 0.004357,
     "end_time": "2024-05-01T15:17:02.464756",
     "exception": false,
     "start_time": "2024-05-01T15:17:02.460399",
     "status": "completed"
    },
    "tags": []
   },
   "source": [
    "# Transfer predictions from NAGuideR"
   ]
  },
  {
   "cell_type": "code",
   "execution_count": 1,
   "id": "f29b93d1",
   "metadata": {
    "execution": {
     "iopub.execute_input": "2024-05-01T15:17:02.471079Z",
     "iopub.status.busy": "2024-05-01T15:17:02.470889Z",
     "iopub.status.idle": "2024-05-01T15:17:03.973977Z",
     "shell.execute_reply": "2024-05-01T15:17:03.973338Z"
    },
    "papermill": {
     "duration": 1.508073,
     "end_time": "2024-05-01T15:17:03.975621",
     "exception": false,
     "start_time": "2024-05-01T15:17:02.467548",
     "status": "completed"
    },
    "tags": []
   },
   "outputs": [],
   "source": [
    "from pathlib import Path\n",
    "import logging\n",
    "import pandas as pd\n",
    "import matplotlib.pyplot as plt\n",
    "\n",
    "import vaep\n",
    "import vaep.models\n",
    "from vaep.io import datasplits\n",
    "import vaep.pandas\n",
    "\n",
    "vaep.plotting.make_large_descriptors(5)\n",
    "\n",
    "logger = vaep.logging.setup_logger(logging.getLogger('vaep'))"
   ]
  },
  {
   "cell_type": "code",
   "execution_count": 2,
   "id": "cbf23f02",
   "metadata": {
    "execution": {
     "iopub.execute_input": "2024-05-01T15:17:03.982542Z",
     "iopub.status.busy": "2024-05-01T15:17:03.981942Z",
     "iopub.status.idle": "2024-05-01T15:17:03.984875Z",
     "shell.execute_reply": "2024-05-01T15:17:03.984390Z"
    },
    "papermill": {
     "duration": 0.007501,
     "end_time": "2024-05-01T15:17:03.986010",
     "exception": false,
     "start_time": "2024-05-01T15:17:03.978509",
     "status": "completed"
    },
    "tags": []
   },
   "outputs": [],
   "source": [
    "# catch passed parameters\n",
    "args = None\n",
    "args = dict(globals()).keys()"
   ]
  },
  {
   "cell_type": "markdown",
   "id": "8b02b864",
   "metadata": {
    "papermill": {
     "duration": 0.002642,
     "end_time": "2024-05-01T15:17:03.991405",
     "exception": false,
     "start_time": "2024-05-01T15:17:03.988763",
     "status": "completed"
    },
    "tags": []
   },
   "source": [
    "Papermill script parameters:"
   ]
  },
  {
   "cell_type": "code",
   "execution_count": 3,
   "id": "a08a34aa",
   "metadata": {
    "execution": {
     "iopub.execute_input": "2024-05-01T15:17:03.997914Z",
     "iopub.status.busy": "2024-05-01T15:17:03.997399Z",
     "iopub.status.idle": "2024-05-01T15:17:04.000623Z",
     "shell.execute_reply": "2024-05-01T15:17:04.000038Z"
    },
    "papermill": {
     "duration": 0.00782,
     "end_time": "2024-05-01T15:17:04.001870",
     "exception": false,
     "start_time": "2024-05-01T15:17:03.994050",
     "status": "completed"
    },
    "tags": [
     "parameters"
    ]
   },
   "outputs": [],
   "source": [
    "# files and folders\n",
    "# Datasplit folder with data for experiment\n",
    "folder_experiment: str = 'runs/example'\n",
    "folder_data: str = ''  # specify data directory if needed\n",
    "file_format: str = 'csv'  # file format of create splits, default pickle (csv)\n",
    "identifer_str: str = '_all_'  # identifier for prediction files to be filtered\n",
    "dumps: list = None  # list of dumps to be used"
   ]
  },
  {
   "cell_type": "code",
   "execution_count": 4,
   "id": "40f9c1b8",
   "metadata": {
    "execution": {
     "iopub.execute_input": "2024-05-01T15:17:04.008082Z",
     "iopub.status.busy": "2024-05-01T15:17:04.007744Z",
     "iopub.status.idle": "2024-05-01T15:17:04.010333Z",
     "shell.execute_reply": "2024-05-01T15:17:04.009853Z"
    },
    "papermill": {
     "duration": 0.006896,
     "end_time": "2024-05-01T15:17:04.011473",
     "exception": false,
     "start_time": "2024-05-01T15:17:04.004577",
     "status": "completed"
    },
    "tags": [
     "injected-parameters"
    ]
   },
   "outputs": [],
   "source": [
    "# Parameters\n",
    "dumps = \"runs/example/preds/pred_all_ROWMEDIAN.csv,runs/example/preds/pred_all_KNN_IMPUTE.csv,runs/example/preds/pred_all_SEQKNN.csv,runs/example/preds/pred_all_RF.csv,runs/example/preds/pred_all_IMPSEQ.csv,runs/example/preds/pred_all_QRILC.csv,runs/example/preds/pred_all_SVDMETHOD.csv,runs/example/preds/pred_all_MICE-NORM.csv,runs/example/preds/pred_all_MLE.csv,runs/example/preds/pred_all_IRM.csv,runs/example/preds/pred_all_TRKNN.csv,runs/example/preds/pred_all_MSIMPUTE_MNAR.csv,runs/example/preds/pred_all_GSIMP.csv\"\n",
    "folder_experiment = \"runs/example\"\n"
   ]
  },
  {
   "cell_type": "markdown",
   "id": "26815da7",
   "metadata": {
    "lines_to_next_cell": 2,
    "papermill": {
     "duration": 0.002643,
     "end_time": "2024-05-01T15:17:04.016808",
     "exception": false,
     "start_time": "2024-05-01T15:17:04.014165",
     "status": "completed"
    },
    "tags": []
   },
   "source": [
    "Some argument transformations"
   ]
  },
  {
   "cell_type": "code",
   "execution_count": 5,
   "id": "3d5c476b",
   "metadata": {
    "execution": {
     "iopub.execute_input": "2024-05-01T15:17:04.023723Z",
     "iopub.status.busy": "2024-05-01T15:17:04.023383Z",
     "iopub.status.idle": "2024-05-01T15:17:04.030129Z",
     "shell.execute_reply": "2024-05-01T15:17:04.029555Z"
    },
    "papermill": {
     "duration": 0.01185,
     "end_time": "2024-05-01T15:17:04.031326",
     "exception": false,
     "start_time": "2024-05-01T15:17:04.019476",
     "status": "completed"
    },
    "tags": []
   },
   "outputs": [
    {
     "data": {
      "text/plain": [
       "{'data': Path('runs/example/data'),\n",
       " 'dumps': 'runs/example/preds/pred_all_ROWMEDIAN.csv,runs/example/preds/pred_all_KNN_IMPUTE.csv,runs/example/preds/pred_all_SEQKNN.csv,runs/example/preds/pred_all_RF.csv,runs/example/preds/pred_all_IMPSEQ.csv,runs/example/preds/pred_all_QRILC.csv,runs/example/preds/pred_all_SVDMETHOD.csv,runs/example/preds/pred_all_MICE-NORM.csv,runs/example/preds/pred_all_MLE.csv,runs/example/preds/pred_all_IRM.csv,runs/example/preds/pred_all_TRKNN.csv,runs/example/preds/pred_all_MSIMPUTE_MNAR.csv,runs/example/preds/pred_all_GSIMP.csv',\n",
       " 'file_format': 'csv',\n",
       " 'folder_data': '',\n",
       " 'folder_experiment': Path('runs/example'),\n",
       " 'identifer_str': '_all_',\n",
       " 'out_figures': Path('runs/example/figures'),\n",
       " 'out_folder': Path('runs/example'),\n",
       " 'out_metrics': Path('runs/example'),\n",
       " 'out_models': Path('runs/example'),\n",
       " 'out_preds': Path('runs/example/preds')}"
      ]
     },
     "execution_count": 5,
     "metadata": {},
     "output_type": "execute_result"
    }
   ],
   "source": [
    "args = vaep.nb.get_params(args, globals=globals())\n",
    "args = vaep.nb.args_from_dict(args)\n",
    "args"
   ]
  },
  {
   "cell_type": "code",
   "execution_count": 6,
   "id": "ba3513a7",
   "metadata": {
    "execution": {
     "iopub.execute_input": "2024-05-01T15:17:04.037830Z",
     "iopub.status.busy": "2024-05-01T15:17:04.037647Z",
     "iopub.status.idle": "2024-05-01T15:17:04.040084Z",
     "shell.execute_reply": "2024-05-01T15:17:04.039616Z"
    },
    "papermill": {
     "duration": 0.007022,
     "end_time": "2024-05-01T15:17:04.041206",
     "exception": false,
     "start_time": "2024-05-01T15:17:04.034184",
     "status": "completed"
    },
    "tags": []
   },
   "outputs": [],
   "source": [
    "files_out = {}"
   ]
  },
  {
   "cell_type": "markdown",
   "id": "ba15118b",
   "metadata": {
    "papermill": {
     "duration": 0.002804,
     "end_time": "2024-05-01T15:17:04.046957",
     "exception": false,
     "start_time": "2024-05-01T15:17:04.044153",
     "status": "completed"
    },
    "tags": []
   },
   "source": [
    "load data splits"
   ]
  },
  {
   "cell_type": "code",
   "execution_count": 7,
   "id": "75341d2b",
   "metadata": {
    "execution": {
     "iopub.execute_input": "2024-05-01T15:17:04.053589Z",
     "iopub.status.busy": "2024-05-01T15:17:04.053233Z",
     "iopub.status.idle": "2024-05-01T15:17:04.079367Z",
     "shell.execute_reply": "2024-05-01T15:17:04.078900Z"
    },
    "lines_to_next_cell": 2,
    "papermill": {
     "duration": 0.030768,
     "end_time": "2024-05-01T15:17:04.080557",
     "exception": false,
     "start_time": "2024-05-01T15:17:04.049789",
     "status": "completed"
    },
    "tags": []
   },
   "outputs": [
    {
     "name": "stdout",
     "output_type": "stream",
     "text": [
      "vaep.io.datasplits - INFO     Loaded 'train_X' from file: runs/example/data/train_X.csv\n"
     ]
    },
    {
     "name": "stdout",
     "output_type": "stream",
     "text": [
      "vaep.io.datasplits - INFO     Loaded 'val_y' from file: runs/example/data/val_y.csv\n"
     ]
    },
    {
     "name": "stdout",
     "output_type": "stream",
     "text": [
      "vaep.io.datasplits - INFO     Loaded 'test_y' from file: runs/example/data/test_y.csv\n"
     ]
    }
   ],
   "source": [
    "data = datasplits.DataSplits.from_folder(\n",
    "    args.data, file_format=args.file_format)"
   ]
  },
  {
   "cell_type": "markdown",
   "id": "dbef8da3",
   "metadata": {
    "papermill": {
     "duration": 0.003086,
     "end_time": "2024-05-01T15:17:04.086924",
     "exception": false,
     "start_time": "2024-05-01T15:17:04.083838",
     "status": "completed"
    },
    "tags": []
   },
   "source": [
    "Validation and test data split of simulated missing values"
   ]
  },
  {
   "cell_type": "code",
   "execution_count": 8,
   "id": "723eacd2",
   "metadata": {
    "execution": {
     "iopub.execute_input": "2024-05-01T15:17:04.093893Z",
     "iopub.status.busy": "2024-05-01T15:17:04.093665Z",
     "iopub.status.idle": "2024-05-01T15:17:04.102780Z",
     "shell.execute_reply": "2024-05-01T15:17:04.102266Z"
    },
    "papermill": {
     "duration": 0.014083,
     "end_time": "2024-05-01T15:17:04.103979",
     "exception": false,
     "start_time": "2024-05-01T15:17:04.089896",
     "status": "completed"
    },
    "tags": []
   },
   "outputs": [
    {
     "data": {
      "text/html": [
       "<div>\n",
       "<style scoped>\n",
       "    .dataframe tbody tr th:only-of-type {\n",
       "        vertical-align: middle;\n",
       "    }\n",
       "\n",
       "    .dataframe tbody tr th {\n",
       "        vertical-align: top;\n",
       "    }\n",
       "\n",
       "    .dataframe thead th {\n",
       "        text-align: right;\n",
       "    }\n",
       "</style>\n",
       "<table border=\"1\" class=\"dataframe\">\n",
       "  <thead>\n",
       "    <tr style=\"text-align: right;\">\n",
       "      <th></th>\n",
       "      <th></th>\n",
       "      <th>observed</th>\n",
       "    </tr>\n",
       "    <tr>\n",
       "      <th>Sample ID</th>\n",
       "      <th>Gene Names</th>\n",
       "      <th></th>\n",
       "    </tr>\n",
       "  </thead>\n",
       "  <tbody>\n",
       "    <tr>\n",
       "      <th>2019_12_18_14_35_Q-Exactive-HF-X-Orbitrap_6070</th>\n",
       "      <th>GEMIN5</th>\n",
       "      <td>30.946</td>\n",
       "    </tr>\n",
       "    <tr>\n",
       "      <th>2020_02_28_12_27_Q-Exactive-HF-X-Orbitrap_6070</th>\n",
       "      <th>AAR2</th>\n",
       "      <td>27.248</td>\n",
       "    </tr>\n",
       "    <tr>\n",
       "      <th>2020_02_13_03_11_Q-Exactive-HF-X-Orbitrap_6070</th>\n",
       "      <th>ADAM10</th>\n",
       "      <td>29.310</td>\n",
       "    </tr>\n",
       "    <tr>\n",
       "      <th>2020_01_04_14_59_Q-Exactive-HF-X-Orbitrap_6070</th>\n",
       "      <th>NDUFAF4</th>\n",
       "      <td>24.352</td>\n",
       "    </tr>\n",
       "    <tr>\n",
       "      <th>2020_05_27_13_57_Q-Exactive-HF-X-Orbitrap_6070</th>\n",
       "      <th>EPN1</th>\n",
       "      <td>29.250</td>\n",
       "    </tr>\n",
       "    <tr>\n",
       "      <th>...</th>\n",
       "      <th>...</th>\n",
       "      <td>...</td>\n",
       "    </tr>\n",
       "    <tr>\n",
       "      <th>2020_03_01_23_00_Q-Exactive-HF-X-Orbitrap_6070</th>\n",
       "      <th>PRRC2B</th>\n",
       "      <td>24.294</td>\n",
       "    </tr>\n",
       "    <tr>\n",
       "      <th>2020_01_04_04_23_Q-Exactive-HF-X-Orbitrap_6070</th>\n",
       "      <th>ARGLU1</th>\n",
       "      <td>28.471</td>\n",
       "    </tr>\n",
       "    <tr>\n",
       "      <th>2020_02_18_18_55_Q-Exactive-HF-X-Orbitrap_6070</th>\n",
       "      <th>GBF1</th>\n",
       "      <td>29.470</td>\n",
       "    </tr>\n",
       "    <tr>\n",
       "      <th>2019_12_18_14_35_Q-Exactive-HF-X-Orbitrap_6070</th>\n",
       "      <th>DENR</th>\n",
       "      <td>27.902</td>\n",
       "    </tr>\n",
       "    <tr>\n",
       "      <th>2020_05_12_21_07_Q-Exactive-HF-X-Orbitrap_6070</th>\n",
       "      <th>SNRPF</th>\n",
       "      <td>27.487</td>\n",
       "    </tr>\n",
       "  </tbody>\n",
       "</table>\n",
       "<p>859 rows × 1 columns</p>\n",
       "</div>"
      ],
      "text/plain": [
       "                                                           observed\n",
       "Sample ID                                      Gene Names          \n",
       "2019_12_18_14_35_Q-Exactive-HF-X-Orbitrap_6070 GEMIN5        30.946\n",
       "2020_02_28_12_27_Q-Exactive-HF-X-Orbitrap_6070 AAR2          27.248\n",
       "2020_02_13_03_11_Q-Exactive-HF-X-Orbitrap_6070 ADAM10        29.310\n",
       "2020_01_04_14_59_Q-Exactive-HF-X-Orbitrap_6070 NDUFAF4       24.352\n",
       "2020_05_27_13_57_Q-Exactive-HF-X-Orbitrap_6070 EPN1          29.250\n",
       "...                                                             ...\n",
       "2020_03_01_23_00_Q-Exactive-HF-X-Orbitrap_6070 PRRC2B        24.294\n",
       "2020_01_04_04_23_Q-Exactive-HF-X-Orbitrap_6070 ARGLU1        28.471\n",
       "2020_02_18_18_55_Q-Exactive-HF-X-Orbitrap_6070 GBF1          29.470\n",
       "2019_12_18_14_35_Q-Exactive-HF-X-Orbitrap_6070 DENR          27.902\n",
       "2020_05_12_21_07_Q-Exactive-HF-X-Orbitrap_6070 SNRPF         27.487\n",
       "\n",
       "[859 rows x 1 columns]"
      ]
     },
     "execution_count": 8,
     "metadata": {},
     "output_type": "execute_result"
    }
   ],
   "source": [
    "val_pred_fake_na = data.val_y.to_frame(name='observed')\n",
    "val_pred_fake_na"
   ]
  },
  {
   "cell_type": "code",
   "execution_count": 9,
   "id": "514d193f",
   "metadata": {
    "execution": {
     "iopub.execute_input": "2024-05-01T15:17:04.114156Z",
     "iopub.status.busy": "2024-05-01T15:17:04.113969Z",
     "iopub.status.idle": "2024-05-01T15:17:04.121927Z",
     "shell.execute_reply": "2024-05-01T15:17:04.121437Z"
    },
    "papermill": {
     "duration": 0.014435,
     "end_time": "2024-05-01T15:17:04.123088",
     "exception": false,
     "start_time": "2024-05-01T15:17:04.108653",
     "status": "completed"
    },
    "tags": []
   },
   "outputs": [
    {
     "data": {
      "text/html": [
       "<div>\n",
       "<style scoped>\n",
       "    .dataframe tbody tr th:only-of-type {\n",
       "        vertical-align: middle;\n",
       "    }\n",
       "\n",
       "    .dataframe tbody tr th {\n",
       "        vertical-align: top;\n",
       "    }\n",
       "\n",
       "    .dataframe thead th {\n",
       "        text-align: right;\n",
       "    }\n",
       "</style>\n",
       "<table border=\"1\" class=\"dataframe\">\n",
       "  <thead>\n",
       "    <tr style=\"text-align: right;\">\n",
       "      <th></th>\n",
       "      <th>observed</th>\n",
       "    </tr>\n",
       "  </thead>\n",
       "  <tbody>\n",
       "    <tr>\n",
       "      <th>count</th>\n",
       "      <td>859.000</td>\n",
       "    </tr>\n",
       "    <tr>\n",
       "      <th>mean</th>\n",
       "      <td>28.270</td>\n",
       "    </tr>\n",
       "    <tr>\n",
       "      <th>std</th>\n",
       "      <td>2.543</td>\n",
       "    </tr>\n",
       "    <tr>\n",
       "      <th>min</th>\n",
       "      <td>22.254</td>\n",
       "    </tr>\n",
       "    <tr>\n",
       "      <th>25%</th>\n",
       "      <td>26.477</td>\n",
       "    </tr>\n",
       "    <tr>\n",
       "      <th>50%</th>\n",
       "      <td>28.068</td>\n",
       "    </tr>\n",
       "    <tr>\n",
       "      <th>75%</th>\n",
       "      <td>30.064</td>\n",
       "    </tr>\n",
       "    <tr>\n",
       "      <th>max</th>\n",
       "      <td>35.919</td>\n",
       "    </tr>\n",
       "  </tbody>\n",
       "</table>\n",
       "</div>"
      ],
      "text/plain": [
       "       observed\n",
       "count   859.000\n",
       "mean     28.270\n",
       "std       2.543\n",
       "min      22.254\n",
       "25%      26.477\n",
       "50%      28.068\n",
       "75%      30.064\n",
       "max      35.919"
      ]
     },
     "execution_count": 9,
     "metadata": {},
     "output_type": "execute_result"
    }
   ],
   "source": [
    "test_pred_fake_na = data.test_y.to_frame(name='observed')\n",
    "test_pred_fake_na.describe()"
   ]
  },
  {
   "cell_type": "code",
   "execution_count": 10,
   "id": "204838b7",
   "metadata": {
    "execution": {
     "iopub.execute_input": "2024-05-01T15:17:04.130879Z",
     "iopub.status.busy": "2024-05-01T15:17:04.130516Z",
     "iopub.status.idle": "2024-05-01T15:17:04.133183Z",
     "shell.execute_reply": "2024-05-01T15:17:04.132613Z"
    },
    "papermill": {
     "duration": 0.00781,
     "end_time": "2024-05-01T15:17:04.134256",
     "exception": false,
     "start_time": "2024-05-01T15:17:04.126446",
     "status": "completed"
    },
    "tags": []
   },
   "outputs": [],
   "source": [
    "# Find and load prediction files, filter for validation and test data"
   ]
  },
  {
   "cell_type": "code",
   "execution_count": 11,
   "id": "c06dcd14",
   "metadata": {
    "execution": {
     "iopub.execute_input": "2024-05-01T15:17:04.141803Z",
     "iopub.status.busy": "2024-05-01T15:17:04.141622Z",
     "iopub.status.idle": "2024-05-01T15:17:04.146207Z",
     "shell.execute_reply": "2024-05-01T15:17:04.145666Z"
    },
    "papermill": {
     "duration": 0.009731,
     "end_time": "2024-05-01T15:17:04.147385",
     "exception": false,
     "start_time": "2024-05-01T15:17:04.137654",
     "status": "completed"
    },
    "tags": []
   },
   "outputs": [
    {
     "data": {
      "text/plain": [
       "[Path('runs/example/preds/pred_all_ROWMEDIAN.csv'),\n",
       " Path('runs/example/preds/pred_all_KNN_IMPUTE.csv'),\n",
       " Path('runs/example/preds/pred_all_SEQKNN.csv'),\n",
       " Path('runs/example/preds/pred_all_RF.csv'),\n",
       " Path('runs/example/preds/pred_all_IMPSEQ.csv'),\n",
       " Path('runs/example/preds/pred_all_QRILC.csv'),\n",
       " Path('runs/example/preds/pred_all_SVDMETHOD.csv'),\n",
       " Path('runs/example/preds/pred_all_MICE-NORM.csv'),\n",
       " Path('runs/example/preds/pred_all_MLE.csv'),\n",
       " Path('runs/example/preds/pred_all_IRM.csv'),\n",
       " Path('runs/example/preds/pred_all_TRKNN.csv'),\n",
       " Path('runs/example/preds/pred_all_MSIMPUTE_MNAR.csv'),\n",
       " Path('runs/example/preds/pred_all_GSIMP.csv')]"
      ]
     },
     "execution_count": 11,
     "metadata": {},
     "output_type": "execute_result"
    }
   ],
   "source": [
    "if args.dumps is not None:\n",
    "    entire_pred = [Path(s) for s in args.dumps.split(',')]\n",
    "else:\n",
    "    entire_pred = list(file for file in args.out_preds.iterdir()\n",
    "                       if '_all_' in str(file))\n",
    "entire_pred"
   ]
  },
  {
   "cell_type": "code",
   "execution_count": 12,
   "id": "4a9e66bc",
   "metadata": {
    "execution": {
     "iopub.execute_input": "2024-05-01T15:17:04.155072Z",
     "iopub.status.busy": "2024-05-01T15:17:04.154857Z",
     "iopub.status.idle": "2024-05-01T15:17:04.472153Z",
     "shell.execute_reply": "2024-05-01T15:17:04.471662Z"
    },
    "lines_to_next_cell": 0,
    "papermill": {
     "duration": 0.322589,
     "end_time": "2024-05-01T15:17:04.473398",
     "exception": false,
     "start_time": "2024-05-01T15:17:04.150809",
     "status": "completed"
    },
    "tags": []
   },
   "outputs": [
    {
     "name": "stdout",
     "output_type": "stream",
     "text": [
      "vaep - INFO     Load fpath = Path('runs/example/preds/pred_all_ROWMEDIAN.csv')\n"
     ]
    },
    {
     "name": "stdout",
     "output_type": "stream",
     "text": [
      "vaep - INFO     Save fname = Path('runs/example/preds/pred_val_ROWMEDIAN.csv')\n"
     ]
    },
    {
     "name": "stdout",
     "output_type": "stream",
     "text": [
      "vaep - INFO     Save fname = Path('runs/example/preds/pred_test_ROWMEDIAN.csv')\n"
     ]
    },
    {
     "name": "stdout",
     "output_type": "stream",
     "text": [
      "vaep - INFO     Save fname = Path('runs/example/preds/pred_real_na_ROWMEDIAN.csv')\n"
     ]
    },
    {
     "name": "stdout",
     "output_type": "stream",
     "text": [
      "vaep - INFO     Load fpath = Path('runs/example/preds/pred_all_KNN_IMPUTE.csv')\n"
     ]
    },
    {
     "name": "stdout",
     "output_type": "stream",
     "text": [
      "vaep - INFO     Save fname = Path('runs/example/preds/pred_val_KNN_IMPUTE.csv')\n"
     ]
    },
    {
     "name": "stdout",
     "output_type": "stream",
     "text": [
      "vaep - INFO     Save fname = Path('runs/example/preds/pred_test_KNN_IMPUTE.csv')\n"
     ]
    },
    {
     "name": "stdout",
     "output_type": "stream",
     "text": [
      "vaep - INFO     Save fname = Path('runs/example/preds/pred_real_na_KNN_IMPUTE.csv')\n"
     ]
    },
    {
     "name": "stdout",
     "output_type": "stream",
     "text": [
      "vaep - INFO     Load fpath = Path('runs/example/preds/pred_all_SEQKNN.csv')\n"
     ]
    },
    {
     "name": "stdout",
     "output_type": "stream",
     "text": [
      "vaep - INFO     Save fname = Path('runs/example/preds/pred_val_SEQKNN.csv')\n"
     ]
    },
    {
     "name": "stdout",
     "output_type": "stream",
     "text": [
      "vaep - INFO     Save fname = Path('runs/example/preds/pred_test_SEQKNN.csv')\n"
     ]
    },
    {
     "name": "stdout",
     "output_type": "stream",
     "text": [
      "vaep - INFO     Save fname = Path('runs/example/preds/pred_real_na_SEQKNN.csv')\n"
     ]
    },
    {
     "name": "stdout",
     "output_type": "stream",
     "text": [
      "vaep - INFO     Load fpath = Path('runs/example/preds/pred_all_RF.csv')\n"
     ]
    },
    {
     "name": "stdout",
     "output_type": "stream",
     "text": [
      "vaep - INFO     Save fname = Path('runs/example/preds/pred_val_RF.csv')\n"
     ]
    },
    {
     "name": "stdout",
     "output_type": "stream",
     "text": [
      "vaep - INFO     Save fname = Path('runs/example/preds/pred_test_RF.csv')\n"
     ]
    },
    {
     "name": "stdout",
     "output_type": "stream",
     "text": [
      "vaep - INFO     Save fname = Path('runs/example/preds/pred_real_na_RF.csv')\n"
     ]
    },
    {
     "name": "stdout",
     "output_type": "stream",
     "text": [
      "vaep - INFO     Load fpath = Path('runs/example/preds/pred_all_IMPSEQ.csv')\n"
     ]
    },
    {
     "name": "stdout",
     "output_type": "stream",
     "text": [
      "vaep - INFO     Save fname = Path('runs/example/preds/pred_val_IMPSEQ.csv')\n"
     ]
    },
    {
     "name": "stdout",
     "output_type": "stream",
     "text": [
      "vaep - INFO     Save fname = Path('runs/example/preds/pred_test_IMPSEQ.csv')\n"
     ]
    },
    {
     "name": "stdout",
     "output_type": "stream",
     "text": [
      "vaep - INFO     Save fname = Path('runs/example/preds/pred_real_na_IMPSEQ.csv')\n"
     ]
    },
    {
     "name": "stdout",
     "output_type": "stream",
     "text": [
      "vaep - INFO     Load fpath = Path('runs/example/preds/pred_all_QRILC.csv')\n"
     ]
    },
    {
     "name": "stdout",
     "output_type": "stream",
     "text": [
      "vaep - INFO     Save fname = Path('runs/example/preds/pred_val_QRILC.csv')\n"
     ]
    },
    {
     "name": "stdout",
     "output_type": "stream",
     "text": [
      "vaep - INFO     Save fname = Path('runs/example/preds/pred_test_QRILC.csv')\n"
     ]
    },
    {
     "name": "stdout",
     "output_type": "stream",
     "text": [
      "vaep - INFO     Save fname = Path('runs/example/preds/pred_real_na_QRILC.csv')\n"
     ]
    },
    {
     "name": "stdout",
     "output_type": "stream",
     "text": [
      "vaep - INFO     Load fpath = Path('runs/example/preds/pred_all_SVDMETHOD.csv')\n"
     ]
    },
    {
     "name": "stdout",
     "output_type": "stream",
     "text": [
      "vaep - INFO     Save fname = Path('runs/example/preds/pred_val_SVDMETHOD.csv')\n"
     ]
    },
    {
     "name": "stdout",
     "output_type": "stream",
     "text": [
      "vaep - INFO     Save fname = Path('runs/example/preds/pred_test_SVDMETHOD.csv')\n"
     ]
    },
    {
     "name": "stdout",
     "output_type": "stream",
     "text": [
      "vaep - INFO     Save fname = Path('runs/example/preds/pred_real_na_SVDMETHOD.csv')\n"
     ]
    },
    {
     "name": "stdout",
     "output_type": "stream",
     "text": [
      "vaep - INFO     Load fpath = Path('runs/example/preds/pred_all_MICE-NORM.csv')\n"
     ]
    },
    {
     "name": "stdout",
     "output_type": "stream",
     "text": [
      "vaep - INFO     Save fname = Path('runs/example/preds/pred_val_MICE-NORM.csv')\n"
     ]
    },
    {
     "name": "stdout",
     "output_type": "stream",
     "text": [
      "vaep - INFO     Save fname = Path('runs/example/preds/pred_test_MICE-NORM.csv')\n"
     ]
    },
    {
     "name": "stdout",
     "output_type": "stream",
     "text": [
      "vaep - INFO     Save fname = Path('runs/example/preds/pred_real_na_MICE-NORM.csv')\n"
     ]
    },
    {
     "name": "stdout",
     "output_type": "stream",
     "text": [
      "vaep - INFO     Load fpath = Path('runs/example/preds/pred_all_MLE.csv')\n"
     ]
    },
    {
     "name": "stdout",
     "output_type": "stream",
     "text": [
      "vaep - INFO     Save fname = Path('runs/example/preds/pred_val_MLE.csv')\n"
     ]
    },
    {
     "name": "stdout",
     "output_type": "stream",
     "text": [
      "vaep - INFO     Save fname = Path('runs/example/preds/pred_test_MLE.csv')\n"
     ]
    },
    {
     "name": "stdout",
     "output_type": "stream",
     "text": [
      "vaep - INFO     Save fname = Path('runs/example/preds/pred_real_na_MLE.csv')\n"
     ]
    },
    {
     "name": "stdout",
     "output_type": "stream",
     "text": [
      "vaep - INFO     Load fpath = Path('runs/example/preds/pred_all_IRM.csv')\n"
     ]
    },
    {
     "name": "stdout",
     "output_type": "stream",
     "text": [
      "vaep - INFO     Save fname = Path('runs/example/preds/pred_val_IRM.csv')\n"
     ]
    },
    {
     "name": "stdout",
     "output_type": "stream",
     "text": [
      "vaep - INFO     Save fname = Path('runs/example/preds/pred_test_IRM.csv')\n"
     ]
    },
    {
     "name": "stdout",
     "output_type": "stream",
     "text": [
      "vaep - INFO     Save fname = Path('runs/example/preds/pred_real_na_IRM.csv')\n"
     ]
    },
    {
     "name": "stdout",
     "output_type": "stream",
     "text": [
      "vaep - INFO     Load fpath = Path('runs/example/preds/pred_all_TRKNN.csv')\n"
     ]
    },
    {
     "name": "stdout",
     "output_type": "stream",
     "text": [
      "vaep - INFO     Save fname = Path('runs/example/preds/pred_val_TRKNN.csv')\n"
     ]
    },
    {
     "name": "stdout",
     "output_type": "stream",
     "text": [
      "vaep - INFO     Save fname = Path('runs/example/preds/pred_test_TRKNN.csv')\n"
     ]
    },
    {
     "name": "stdout",
     "output_type": "stream",
     "text": [
      "vaep - INFO     Save fname = Path('runs/example/preds/pred_real_na_TRKNN.csv')\n"
     ]
    },
    {
     "name": "stdout",
     "output_type": "stream",
     "text": [
      "vaep - INFO     Load fpath = Path('runs/example/preds/pred_all_MSIMPUTE_MNAR.csv')\n"
     ]
    },
    {
     "name": "stdout",
     "output_type": "stream",
     "text": [
      "vaep - INFO     Save fname = Path('runs/example/preds/pred_val_MSIMPUTE_MNAR.csv')\n"
     ]
    },
    {
     "name": "stdout",
     "output_type": "stream",
     "text": [
      "vaep - INFO     Save fname = Path('runs/example/preds/pred_test_MSIMPUTE_MNAR.csv')\n"
     ]
    },
    {
     "name": "stdout",
     "output_type": "stream",
     "text": [
      "vaep - INFO     Save fname = Path('runs/example/preds/pred_real_na_MSIMPUTE_MNAR.csv')\n"
     ]
    },
    {
     "name": "stdout",
     "output_type": "stream",
     "text": [
      "vaep - INFO     Load fpath = Path('runs/example/preds/pred_all_GSIMP.csv')\n"
     ]
    },
    {
     "name": "stdout",
     "output_type": "stream",
     "text": [
      "vaep - INFO     Save fname = Path('runs/example/preds/pred_val_GSIMP.csv')\n"
     ]
    },
    {
     "name": "stdout",
     "output_type": "stream",
     "text": [
      "vaep - INFO     Save fname = Path('runs/example/preds/pred_test_GSIMP.csv')\n"
     ]
    },
    {
     "name": "stdout",
     "output_type": "stream",
     "text": [
      "vaep - INFO     Save fname = Path('runs/example/preds/pred_real_na_GSIMP.csv')\n"
     ]
    }
   ],
   "source": [
    "mask = data.train_X.unstack().isna().stack()\n",
    "idx_real_na = mask.index[mask]\n",
    "idx_real_na = (idx_real_na\n",
    "               .drop(val_pred_fake_na.index)\n",
    "               .drop(test_pred_fake_na.index))\n",
    "\n",
    "for fpath in entire_pred:\n",
    "    logger.info(f\"Load {fpath = }\")\n",
    "    col_name = fpath.stem.split('_all_')[-1]\n",
    "    pred = pd.read_csv(fpath, index_col=[1, 0])\n",
    "    val_pred_fake_na[col_name] = pred\n",
    "    fname = args.out_preds / f'pred_val_{col_name}.csv'\n",
    "    files_out[fname.name] = fname.as_posix()\n",
    "    val_pred_fake_na[['observed', col_name]].to_csv(fname)\n",
    "    logger.info(f\"Save {fname = }\")\n",
    "\n",
    "    test_pred_fake_na[col_name] = pred\n",
    "    fname = args.out_preds / f'pred_test_{col_name}.csv'\n",
    "    files_out[fname.name] = fname.as_posix()\n",
    "    test_pred_fake_na[['observed', col_name]].to_csv(fname)\n",
    "    logger.info(f\"Save {fname = }\")\n",
    "    # hacky, but works:\n",
    "    pred_real_na = (pd.Series(0, index=idx_real_na, name='placeholder')\n",
    "                    .to_frame()\n",
    "                    .join(pred, how='left')\n",
    "                    .drop('placeholder', axis=1))\n",
    "    # pred_real_na.name = 'intensity'\n",
    "    fname = args.out_preds / f'pred_real_na_{col_name}.csv'\n",
    "    files_out[fname.name] = fname.as_posix()\n",
    "    pred_real_na.to_csv(fname)\n",
    "    logger.info(f\"Save {fname = }\")\n",
    "\n",
    "# del pred"
   ]
  },
  {
   "cell_type": "code",
   "execution_count": 13,
   "id": "72adc8ec",
   "metadata": {
    "execution": {
     "iopub.execute_input": "2024-05-01T15:17:04.485376Z",
     "iopub.status.busy": "2024-05-01T15:17:04.485041Z",
     "iopub.status.idle": "2024-05-01T15:17:04.497329Z",
     "shell.execute_reply": "2024-05-01T15:17:04.496832Z"
    },
    "papermill": {
     "duration": 0.019519,
     "end_time": "2024-05-01T15:17:04.498504",
     "exception": false,
     "start_time": "2024-05-01T15:17:04.478985",
     "status": "completed"
    },
    "tags": []
   },
   "outputs": [
    {
     "data": {
      "text/html": [
       "<div>\n",
       "<style scoped>\n",
       "    .dataframe tbody tr th:only-of-type {\n",
       "        vertical-align: middle;\n",
       "    }\n",
       "\n",
       "    .dataframe tbody tr th {\n",
       "        vertical-align: top;\n",
       "    }\n",
       "\n",
       "    .dataframe thead th {\n",
       "        text-align: right;\n",
       "    }\n",
       "</style>\n",
       "<table border=\"1\" class=\"dataframe\">\n",
       "  <thead>\n",
       "    <tr style=\"text-align: right;\">\n",
       "      <th></th>\n",
       "      <th></th>\n",
       "      <th>observed</th>\n",
       "      <th>ROWMEDIAN</th>\n",
       "      <th>KNN_IMPUTE</th>\n",
       "      <th>SEQKNN</th>\n",
       "      <th>RF</th>\n",
       "      <th>IMPSEQ</th>\n",
       "      <th>QRILC</th>\n",
       "      <th>SVDMETHOD</th>\n",
       "      <th>MICE-NORM</th>\n",
       "      <th>MLE</th>\n",
       "      <th>IRM</th>\n",
       "      <th>TRKNN</th>\n",
       "      <th>MSIMPUTE_MNAR</th>\n",
       "      <th>GSIMP</th>\n",
       "    </tr>\n",
       "    <tr>\n",
       "      <th>Sample ID</th>\n",
       "      <th>Gene Names</th>\n",
       "      <th></th>\n",
       "      <th></th>\n",
       "      <th></th>\n",
       "      <th></th>\n",
       "      <th></th>\n",
       "      <th></th>\n",
       "      <th></th>\n",
       "      <th></th>\n",
       "      <th></th>\n",
       "      <th></th>\n",
       "      <th></th>\n",
       "      <th></th>\n",
       "      <th></th>\n",
       "      <th></th>\n",
       "    </tr>\n",
       "  </thead>\n",
       "  <tbody>\n",
       "    <tr>\n",
       "      <th>2019_12_18_14_35_Q-Exactive-HF-X-Orbitrap_6070</th>\n",
       "      <th>GEMIN5</th>\n",
       "      <td>30.946</td>\n",
       "      <td>30.547</td>\n",
       "      <td>30.783</td>\n",
       "      <td>30.551</td>\n",
       "      <td>30.576</td>\n",
       "      <td>29.521</td>\n",
       "      <td>28.055</td>\n",
       "      <td>28.035</td>\n",
       "      <td>30.902</td>\n",
       "      <td>2,355.271</td>\n",
       "      <td>30.825</td>\n",
       "      <td>30.756</td>\n",
       "      <td>27.635</td>\n",
       "      <td>27.353</td>\n",
       "    </tr>\n",
       "    <tr>\n",
       "      <th>2020_02_28_12_27_Q-Exactive-HF-X-Orbitrap_6070</th>\n",
       "      <th>AAR2</th>\n",
       "      <td>27.248</td>\n",
       "      <td>26.880</td>\n",
       "      <td>26.674</td>\n",
       "      <td>26.599</td>\n",
       "      <td>26.795</td>\n",
       "      <td>26.302</td>\n",
       "      <td>23.624</td>\n",
       "      <td>27.960</td>\n",
       "      <td>26.823</td>\n",
       "      <td>26.870</td>\n",
       "      <td>26.917</td>\n",
       "      <td>26.961</td>\n",
       "      <td>24.500</td>\n",
       "      <td>23.891</td>\n",
       "    </tr>\n",
       "    <tr>\n",
       "      <th>2020_02_13_03_11_Q-Exactive-HF-X-Orbitrap_6070</th>\n",
       "      <th>ADAM10</th>\n",
       "      <td>29.310</td>\n",
       "      <td>26.528</td>\n",
       "      <td>28.596</td>\n",
       "      <td>28.428</td>\n",
       "      <td>28.733</td>\n",
       "      <td>29.055</td>\n",
       "      <td>21.555</td>\n",
       "      <td>29.658</td>\n",
       "      <td>28.842</td>\n",
       "      <td>2,348.865</td>\n",
       "      <td>29.337</td>\n",
       "      <td>28.814</td>\n",
       "      <td>25.745</td>\n",
       "      <td>22.384</td>\n",
       "    </tr>\n",
       "    <tr>\n",
       "      <th>2020_01_04_14_59_Q-Exactive-HF-X-Orbitrap_6070</th>\n",
       "      <th>NDUFAF4</th>\n",
       "      <td>24.352</td>\n",
       "      <td>27.521</td>\n",
       "      <td>24.573</td>\n",
       "      <td>25.095</td>\n",
       "      <td>26.352</td>\n",
       "      <td>23.806</td>\n",
       "      <td>24.992</td>\n",
       "      <td>27.192</td>\n",
       "      <td>25.472</td>\n",
       "      <td>27.860</td>\n",
       "      <td>26.003</td>\n",
       "      <td>25.077</td>\n",
       "      <td>23.474</td>\n",
       "      <td>25.395</td>\n",
       "    </tr>\n",
       "    <tr>\n",
       "      <th>2020_05_27_13_57_Q-Exactive-HF-X-Orbitrap_6070</th>\n",
       "      <th>EPN1</th>\n",
       "      <td>29.250</td>\n",
       "      <td>26.839</td>\n",
       "      <td>28.883</td>\n",
       "      <td>28.931</td>\n",
       "      <td>29.019</td>\n",
       "      <td>28.563</td>\n",
       "      <td>23.654</td>\n",
       "      <td>29.782</td>\n",
       "      <td>28.702</td>\n",
       "      <td>2,288.717</td>\n",
       "      <td>28.720</td>\n",
       "      <td>29.564</td>\n",
       "      <td>26.330</td>\n",
       "      <td>22.678</td>\n",
       "    </tr>\n",
       "    <tr>\n",
       "      <th>...</th>\n",
       "      <th>...</th>\n",
       "      <td>...</td>\n",
       "      <td>...</td>\n",
       "      <td>...</td>\n",
       "      <td>...</td>\n",
       "      <td>...</td>\n",
       "      <td>...</td>\n",
       "      <td>...</td>\n",
       "      <td>...</td>\n",
       "      <td>...</td>\n",
       "      <td>...</td>\n",
       "      <td>...</td>\n",
       "      <td>...</td>\n",
       "      <td>...</td>\n",
       "      <td>...</td>\n",
       "    </tr>\n",
       "    <tr>\n",
       "      <th>2020_03_01_23_00_Q-Exactive-HF-X-Orbitrap_6070</th>\n",
       "      <th>PRRC2B</th>\n",
       "      <td>24.294</td>\n",
       "      <td>25.077</td>\n",
       "      <td>24.958</td>\n",
       "      <td>25.168</td>\n",
       "      <td>24.386</td>\n",
       "      <td>23.614</td>\n",
       "      <td>21.728</td>\n",
       "      <td>28.481</td>\n",
       "      <td>24.419</td>\n",
       "      <td>2,418.402</td>\n",
       "      <td>23.747</td>\n",
       "      <td>24.058</td>\n",
       "      <td>22.365</td>\n",
       "      <td>22.208</td>\n",
       "    </tr>\n",
       "    <tr>\n",
       "      <th>2020_01_04_04_23_Q-Exactive-HF-X-Orbitrap_6070</th>\n",
       "      <th>ARGLU1</th>\n",
       "      <td>28.471</td>\n",
       "      <td>27.816</td>\n",
       "      <td>28.949</td>\n",
       "      <td>28.965</td>\n",
       "      <td>28.587</td>\n",
       "      <td>28.680</td>\n",
       "      <td>24.214</td>\n",
       "      <td>28.633</td>\n",
       "      <td>29.740</td>\n",
       "      <td>2,523.064</td>\n",
       "      <td>29.089</td>\n",
       "      <td>29.097</td>\n",
       "      <td>25.545</td>\n",
       "      <td>24.790</td>\n",
       "    </tr>\n",
       "    <tr>\n",
       "      <th>2020_02_18_18_55_Q-Exactive-HF-X-Orbitrap_6070</th>\n",
       "      <th>GBF1</th>\n",
       "      <td>29.470</td>\n",
       "      <td>28.381</td>\n",
       "      <td>28.976</td>\n",
       "      <td>29.058</td>\n",
       "      <td>29.041</td>\n",
       "      <td>28.880</td>\n",
       "      <td>24.238</td>\n",
       "      <td>28.893</td>\n",
       "      <td>29.235</td>\n",
       "      <td>-719.987</td>\n",
       "      <td>28.882</td>\n",
       "      <td>29.213</td>\n",
       "      <td>26.188</td>\n",
       "      <td>24.476</td>\n",
       "    </tr>\n",
       "    <tr>\n",
       "      <th>2019_12_18_14_35_Q-Exactive-HF-X-Orbitrap_6070</th>\n",
       "      <th>DENR</th>\n",
       "      <td>27.902</td>\n",
       "      <td>27.380</td>\n",
       "      <td>27.377</td>\n",
       "      <td>27.731</td>\n",
       "      <td>27.279</td>\n",
       "      <td>27.311</td>\n",
       "      <td>24.809</td>\n",
       "      <td>28.033</td>\n",
       "      <td>26.679</td>\n",
       "      <td>2,355.271</td>\n",
       "      <td>27.432</td>\n",
       "      <td>27.107</td>\n",
       "      <td>24.910</td>\n",
       "      <td>23.819</td>\n",
       "    </tr>\n",
       "    <tr>\n",
       "      <th>2020_05_12_21_07_Q-Exactive-HF-X-Orbitrap_6070</th>\n",
       "      <th>SNRPF</th>\n",
       "      <td>27.487</td>\n",
       "      <td>29.669</td>\n",
       "      <td>28.076</td>\n",
       "      <td>28.127</td>\n",
       "      <td>27.766</td>\n",
       "      <td>27.666</td>\n",
       "      <td>27.157</td>\n",
       "      <td>26.690</td>\n",
       "      <td>27.380</td>\n",
       "      <td>26.635</td>\n",
       "      <td>27.579</td>\n",
       "      <td>27.898</td>\n",
       "      <td>25.378</td>\n",
       "      <td>26.995</td>\n",
       "    </tr>\n",
       "  </tbody>\n",
       "</table>\n",
       "<p>859 rows × 14 columns</p>\n",
       "</div>"
      ],
      "text/plain": [
       "                                                           observed  \\\n",
       "Sample ID                                      Gene Names             \n",
       "2019_12_18_14_35_Q-Exactive-HF-X-Orbitrap_6070 GEMIN5        30.946   \n",
       "2020_02_28_12_27_Q-Exactive-HF-X-Orbitrap_6070 AAR2          27.248   \n",
       "2020_02_13_03_11_Q-Exactive-HF-X-Orbitrap_6070 ADAM10        29.310   \n",
       "2020_01_04_14_59_Q-Exactive-HF-X-Orbitrap_6070 NDUFAF4       24.352   \n",
       "2020_05_27_13_57_Q-Exactive-HF-X-Orbitrap_6070 EPN1          29.250   \n",
       "...                                                             ...   \n",
       "2020_03_01_23_00_Q-Exactive-HF-X-Orbitrap_6070 PRRC2B        24.294   \n",
       "2020_01_04_04_23_Q-Exactive-HF-X-Orbitrap_6070 ARGLU1        28.471   \n",
       "2020_02_18_18_55_Q-Exactive-HF-X-Orbitrap_6070 GBF1          29.470   \n",
       "2019_12_18_14_35_Q-Exactive-HF-X-Orbitrap_6070 DENR          27.902   \n",
       "2020_05_12_21_07_Q-Exactive-HF-X-Orbitrap_6070 SNRPF         27.487   \n",
       "\n",
       "                                                           ROWMEDIAN  \\\n",
       "Sample ID                                      Gene Names              \n",
       "2019_12_18_14_35_Q-Exactive-HF-X-Orbitrap_6070 GEMIN5         30.547   \n",
       "2020_02_28_12_27_Q-Exactive-HF-X-Orbitrap_6070 AAR2           26.880   \n",
       "2020_02_13_03_11_Q-Exactive-HF-X-Orbitrap_6070 ADAM10         26.528   \n",
       "2020_01_04_14_59_Q-Exactive-HF-X-Orbitrap_6070 NDUFAF4        27.521   \n",
       "2020_05_27_13_57_Q-Exactive-HF-X-Orbitrap_6070 EPN1           26.839   \n",
       "...                                                              ...   \n",
       "2020_03_01_23_00_Q-Exactive-HF-X-Orbitrap_6070 PRRC2B         25.077   \n",
       "2020_01_04_04_23_Q-Exactive-HF-X-Orbitrap_6070 ARGLU1         27.816   \n",
       "2020_02_18_18_55_Q-Exactive-HF-X-Orbitrap_6070 GBF1           28.381   \n",
       "2019_12_18_14_35_Q-Exactive-HF-X-Orbitrap_6070 DENR           27.380   \n",
       "2020_05_12_21_07_Q-Exactive-HF-X-Orbitrap_6070 SNRPF          29.669   \n",
       "\n",
       "                                                           KNN_IMPUTE  SEQKNN  \\\n",
       "Sample ID                                      Gene Names                       \n",
       "2019_12_18_14_35_Q-Exactive-HF-X-Orbitrap_6070 GEMIN5          30.783  30.551   \n",
       "2020_02_28_12_27_Q-Exactive-HF-X-Orbitrap_6070 AAR2            26.674  26.599   \n",
       "2020_02_13_03_11_Q-Exactive-HF-X-Orbitrap_6070 ADAM10          28.596  28.428   \n",
       "2020_01_04_14_59_Q-Exactive-HF-X-Orbitrap_6070 NDUFAF4         24.573  25.095   \n",
       "2020_05_27_13_57_Q-Exactive-HF-X-Orbitrap_6070 EPN1            28.883  28.931   \n",
       "...                                                               ...     ...   \n",
       "2020_03_01_23_00_Q-Exactive-HF-X-Orbitrap_6070 PRRC2B          24.958  25.168   \n",
       "2020_01_04_04_23_Q-Exactive-HF-X-Orbitrap_6070 ARGLU1          28.949  28.965   \n",
       "2020_02_18_18_55_Q-Exactive-HF-X-Orbitrap_6070 GBF1            28.976  29.058   \n",
       "2019_12_18_14_35_Q-Exactive-HF-X-Orbitrap_6070 DENR            27.377  27.731   \n",
       "2020_05_12_21_07_Q-Exactive-HF-X-Orbitrap_6070 SNRPF           28.076  28.127   \n",
       "\n",
       "                                                              RF  IMPSEQ  \\\n",
       "Sample ID                                      Gene Names                  \n",
       "2019_12_18_14_35_Q-Exactive-HF-X-Orbitrap_6070 GEMIN5     30.576  29.521   \n",
       "2020_02_28_12_27_Q-Exactive-HF-X-Orbitrap_6070 AAR2       26.795  26.302   \n",
       "2020_02_13_03_11_Q-Exactive-HF-X-Orbitrap_6070 ADAM10     28.733  29.055   \n",
       "2020_01_04_14_59_Q-Exactive-HF-X-Orbitrap_6070 NDUFAF4    26.352  23.806   \n",
       "2020_05_27_13_57_Q-Exactive-HF-X-Orbitrap_6070 EPN1       29.019  28.563   \n",
       "...                                                          ...     ...   \n",
       "2020_03_01_23_00_Q-Exactive-HF-X-Orbitrap_6070 PRRC2B     24.386  23.614   \n",
       "2020_01_04_04_23_Q-Exactive-HF-X-Orbitrap_6070 ARGLU1     28.587  28.680   \n",
       "2020_02_18_18_55_Q-Exactive-HF-X-Orbitrap_6070 GBF1       29.041  28.880   \n",
       "2019_12_18_14_35_Q-Exactive-HF-X-Orbitrap_6070 DENR       27.279  27.311   \n",
       "2020_05_12_21_07_Q-Exactive-HF-X-Orbitrap_6070 SNRPF      27.766  27.666   \n",
       "\n",
       "                                                           QRILC  SVDMETHOD  \\\n",
       "Sample ID                                      Gene Names                     \n",
       "2019_12_18_14_35_Q-Exactive-HF-X-Orbitrap_6070 GEMIN5     28.055     28.035   \n",
       "2020_02_28_12_27_Q-Exactive-HF-X-Orbitrap_6070 AAR2       23.624     27.960   \n",
       "2020_02_13_03_11_Q-Exactive-HF-X-Orbitrap_6070 ADAM10     21.555     29.658   \n",
       "2020_01_04_14_59_Q-Exactive-HF-X-Orbitrap_6070 NDUFAF4    24.992     27.192   \n",
       "2020_05_27_13_57_Q-Exactive-HF-X-Orbitrap_6070 EPN1       23.654     29.782   \n",
       "...                                                          ...        ...   \n",
       "2020_03_01_23_00_Q-Exactive-HF-X-Orbitrap_6070 PRRC2B     21.728     28.481   \n",
       "2020_01_04_04_23_Q-Exactive-HF-X-Orbitrap_6070 ARGLU1     24.214     28.633   \n",
       "2020_02_18_18_55_Q-Exactive-HF-X-Orbitrap_6070 GBF1       24.238     28.893   \n",
       "2019_12_18_14_35_Q-Exactive-HF-X-Orbitrap_6070 DENR       24.809     28.033   \n",
       "2020_05_12_21_07_Q-Exactive-HF-X-Orbitrap_6070 SNRPF      27.157     26.690   \n",
       "\n",
       "                                                           MICE-NORM  \\\n",
       "Sample ID                                      Gene Names              \n",
       "2019_12_18_14_35_Q-Exactive-HF-X-Orbitrap_6070 GEMIN5         30.902   \n",
       "2020_02_28_12_27_Q-Exactive-HF-X-Orbitrap_6070 AAR2           26.823   \n",
       "2020_02_13_03_11_Q-Exactive-HF-X-Orbitrap_6070 ADAM10         28.842   \n",
       "2020_01_04_14_59_Q-Exactive-HF-X-Orbitrap_6070 NDUFAF4        25.472   \n",
       "2020_05_27_13_57_Q-Exactive-HF-X-Orbitrap_6070 EPN1           28.702   \n",
       "...                                                              ...   \n",
       "2020_03_01_23_00_Q-Exactive-HF-X-Orbitrap_6070 PRRC2B         24.419   \n",
       "2020_01_04_04_23_Q-Exactive-HF-X-Orbitrap_6070 ARGLU1         29.740   \n",
       "2020_02_18_18_55_Q-Exactive-HF-X-Orbitrap_6070 GBF1           29.235   \n",
       "2019_12_18_14_35_Q-Exactive-HF-X-Orbitrap_6070 DENR           26.679   \n",
       "2020_05_12_21_07_Q-Exactive-HF-X-Orbitrap_6070 SNRPF          27.380   \n",
       "\n",
       "                                                                MLE    IRM  \\\n",
       "Sample ID                                      Gene Names                    \n",
       "2019_12_18_14_35_Q-Exactive-HF-X-Orbitrap_6070 GEMIN5     2,355.271 30.825   \n",
       "2020_02_28_12_27_Q-Exactive-HF-X-Orbitrap_6070 AAR2          26.870 26.917   \n",
       "2020_02_13_03_11_Q-Exactive-HF-X-Orbitrap_6070 ADAM10     2,348.865 29.337   \n",
       "2020_01_04_14_59_Q-Exactive-HF-X-Orbitrap_6070 NDUFAF4       27.860 26.003   \n",
       "2020_05_27_13_57_Q-Exactive-HF-X-Orbitrap_6070 EPN1       2,288.717 28.720   \n",
       "...                                                             ...    ...   \n",
       "2020_03_01_23_00_Q-Exactive-HF-X-Orbitrap_6070 PRRC2B     2,418.402 23.747   \n",
       "2020_01_04_04_23_Q-Exactive-HF-X-Orbitrap_6070 ARGLU1     2,523.064 29.089   \n",
       "2020_02_18_18_55_Q-Exactive-HF-X-Orbitrap_6070 GBF1        -719.987 28.882   \n",
       "2019_12_18_14_35_Q-Exactive-HF-X-Orbitrap_6070 DENR       2,355.271 27.432   \n",
       "2020_05_12_21_07_Q-Exactive-HF-X-Orbitrap_6070 SNRPF         26.635 27.579   \n",
       "\n",
       "                                                           TRKNN  \\\n",
       "Sample ID                                      Gene Names          \n",
       "2019_12_18_14_35_Q-Exactive-HF-X-Orbitrap_6070 GEMIN5     30.756   \n",
       "2020_02_28_12_27_Q-Exactive-HF-X-Orbitrap_6070 AAR2       26.961   \n",
       "2020_02_13_03_11_Q-Exactive-HF-X-Orbitrap_6070 ADAM10     28.814   \n",
       "2020_01_04_14_59_Q-Exactive-HF-X-Orbitrap_6070 NDUFAF4    25.077   \n",
       "2020_05_27_13_57_Q-Exactive-HF-X-Orbitrap_6070 EPN1       29.564   \n",
       "...                                                          ...   \n",
       "2020_03_01_23_00_Q-Exactive-HF-X-Orbitrap_6070 PRRC2B     24.058   \n",
       "2020_01_04_04_23_Q-Exactive-HF-X-Orbitrap_6070 ARGLU1     29.097   \n",
       "2020_02_18_18_55_Q-Exactive-HF-X-Orbitrap_6070 GBF1       29.213   \n",
       "2019_12_18_14_35_Q-Exactive-HF-X-Orbitrap_6070 DENR       27.107   \n",
       "2020_05_12_21_07_Q-Exactive-HF-X-Orbitrap_6070 SNRPF      27.898   \n",
       "\n",
       "                                                           MSIMPUTE_MNAR  \\\n",
       "Sample ID                                      Gene Names                  \n",
       "2019_12_18_14_35_Q-Exactive-HF-X-Orbitrap_6070 GEMIN5             27.635   \n",
       "2020_02_28_12_27_Q-Exactive-HF-X-Orbitrap_6070 AAR2               24.500   \n",
       "2020_02_13_03_11_Q-Exactive-HF-X-Orbitrap_6070 ADAM10             25.745   \n",
       "2020_01_04_14_59_Q-Exactive-HF-X-Orbitrap_6070 NDUFAF4            23.474   \n",
       "2020_05_27_13_57_Q-Exactive-HF-X-Orbitrap_6070 EPN1               26.330   \n",
       "...                                                                  ...   \n",
       "2020_03_01_23_00_Q-Exactive-HF-X-Orbitrap_6070 PRRC2B             22.365   \n",
       "2020_01_04_04_23_Q-Exactive-HF-X-Orbitrap_6070 ARGLU1             25.545   \n",
       "2020_02_18_18_55_Q-Exactive-HF-X-Orbitrap_6070 GBF1               26.188   \n",
       "2019_12_18_14_35_Q-Exactive-HF-X-Orbitrap_6070 DENR               24.910   \n",
       "2020_05_12_21_07_Q-Exactive-HF-X-Orbitrap_6070 SNRPF              25.378   \n",
       "\n",
       "                                                           GSIMP  \n",
       "Sample ID                                      Gene Names         \n",
       "2019_12_18_14_35_Q-Exactive-HF-X-Orbitrap_6070 GEMIN5     27.353  \n",
       "2020_02_28_12_27_Q-Exactive-HF-X-Orbitrap_6070 AAR2       23.891  \n",
       "2020_02_13_03_11_Q-Exactive-HF-X-Orbitrap_6070 ADAM10     22.384  \n",
       "2020_01_04_14_59_Q-Exactive-HF-X-Orbitrap_6070 NDUFAF4    25.395  \n",
       "2020_05_27_13_57_Q-Exactive-HF-X-Orbitrap_6070 EPN1       22.678  \n",
       "...                                                          ...  \n",
       "2020_03_01_23_00_Q-Exactive-HF-X-Orbitrap_6070 PRRC2B     22.208  \n",
       "2020_01_04_04_23_Q-Exactive-HF-X-Orbitrap_6070 ARGLU1     24.790  \n",
       "2020_02_18_18_55_Q-Exactive-HF-X-Orbitrap_6070 GBF1       24.476  \n",
       "2019_12_18_14_35_Q-Exactive-HF-X-Orbitrap_6070 DENR       23.819  \n",
       "2020_05_12_21_07_Q-Exactive-HF-X-Orbitrap_6070 SNRPF      26.995  \n",
       "\n",
       "[859 rows x 14 columns]"
      ]
     },
     "execution_count": 13,
     "metadata": {},
     "output_type": "execute_result"
    }
   ],
   "source": [
    "val_pred_fake_na"
   ]
  },
  {
   "cell_type": "markdown",
   "id": "655364c4",
   "metadata": {
    "papermill": {
     "duration": 0.005455,
     "end_time": "2024-05-01T15:17:04.509590",
     "exception": false,
     "start_time": "2024-05-01T15:17:04.504135",
     "status": "completed"
    },
    "tags": []
   },
   "source": [
    "Metrics for simulated missing values (NA)"
   ]
  },
  {
   "cell_type": "code",
   "execution_count": 14,
   "id": "d7c5dab0",
   "metadata": {
    "execution": {
     "iopub.execute_input": "2024-05-01T15:17:04.521919Z",
     "iopub.status.busy": "2024-05-01T15:17:04.521387Z",
     "iopub.status.idle": "2024-05-01T15:17:04.524272Z",
     "shell.execute_reply": "2024-05-01T15:17:04.523719Z"
    },
    "papermill": {
     "duration": 0.010198,
     "end_time": "2024-05-01T15:17:04.525354",
     "exception": false,
     "start_time": "2024-05-01T15:17:04.515156",
     "status": "completed"
    },
    "tags": []
   },
   "outputs": [],
   "source": [
    "# papermill_description=metrics\n",
    "d_metrics = vaep.models.Metrics()"
   ]
  },
  {
   "cell_type": "code",
   "execution_count": 15,
   "id": "773dcbbe",
   "metadata": {
    "execution": {
     "iopub.execute_input": "2024-05-01T15:17:04.537536Z",
     "iopub.status.busy": "2024-05-01T15:17:04.537188Z",
     "iopub.status.idle": "2024-05-01T15:17:04.573706Z",
     "shell.execute_reply": "2024-05-01T15:17:04.573118Z"
    },
    "papermill": {
     "duration": 0.044109,
     "end_time": "2024-05-01T15:17:04.575019",
     "exception": false,
     "start_time": "2024-05-01T15:17:04.530910",
     "status": "completed"
    },
    "tags": []
   },
   "outputs": [
    {
     "name": "stdout",
     "output_type": "stream",
     "text": [
      "Selected as truth to compare to: observed\n"
     ]
    },
    {
     "data": {
      "text/html": [
       "<div>\n",
       "<style scoped>\n",
       "    .dataframe tbody tr th:only-of-type {\n",
       "        vertical-align: middle;\n",
       "    }\n",
       "\n",
       "    .dataframe tbody tr th {\n",
       "        vertical-align: top;\n",
       "    }\n",
       "\n",
       "    .dataframe thead th {\n",
       "        text-align: right;\n",
       "    }\n",
       "</style>\n",
       "<table border=\"1\" class=\"dataframe\">\n",
       "  <thead>\n",
       "    <tr style=\"text-align: right;\">\n",
       "      <th></th>\n",
       "      <th>ROWMEDIAN</th>\n",
       "      <th>KNN_IMPUTE</th>\n",
       "      <th>SEQKNN</th>\n",
       "      <th>RF</th>\n",
       "      <th>IMPSEQ</th>\n",
       "      <th>QRILC</th>\n",
       "      <th>SVDMETHOD</th>\n",
       "      <th>MICE-NORM</th>\n",
       "      <th>MLE</th>\n",
       "      <th>IRM</th>\n",
       "      <th>TRKNN</th>\n",
       "      <th>MSIMPUTE_MNAR</th>\n",
       "      <th>GSIMP</th>\n",
       "    </tr>\n",
       "  </thead>\n",
       "  <tbody>\n",
       "    <tr>\n",
       "      <th>MSE</th>\n",
       "      <td>1.766</td>\n",
       "      <td>0.695</td>\n",
       "      <td>0.778</td>\n",
       "      <td>0.677</td>\n",
       "      <td>1.910</td>\n",
       "      <td>10.321</td>\n",
       "      <td>5.059</td>\n",
       "      <td>0.774</td>\n",
       "      <td>4,519,870.934</td>\n",
       "      <td>0.880</td>\n",
       "      <td>0.626</td>\n",
       "      <td>8.134</td>\n",
       "      <td>11.434</td>\n",
       "    </tr>\n",
       "    <tr>\n",
       "      <th>MAE</th>\n",
       "      <td>1.028</td>\n",
       "      <td>0.554</td>\n",
       "      <td>0.580</td>\n",
       "      <td>0.545</td>\n",
       "      <td>0.914</td>\n",
       "      <td>2.780</td>\n",
       "      <td>1.763</td>\n",
       "      <td>0.593</td>\n",
       "      <td>1,893.032</td>\n",
       "      <td>0.646</td>\n",
       "      <td>0.511</td>\n",
       "      <td>2.671</td>\n",
       "      <td>2.993</td>\n",
       "    </tr>\n",
       "    <tr>\n",
       "      <th>N</th>\n",
       "      <td>859.000</td>\n",
       "      <td>859.000</td>\n",
       "      <td>859.000</td>\n",
       "      <td>859.000</td>\n",
       "      <td>859.000</td>\n",
       "      <td>859.000</td>\n",
       "      <td>859.000</td>\n",
       "      <td>859.000</td>\n",
       "      <td>859.000</td>\n",
       "      <td>859.000</td>\n",
       "      <td>859.000</td>\n",
       "      <td>859.000</td>\n",
       "      <td>859.000</td>\n",
       "    </tr>\n",
       "    <tr>\n",
       "      <th>prop</th>\n",
       "      <td>1.000</td>\n",
       "      <td>1.000</td>\n",
       "      <td>1.000</td>\n",
       "      <td>1.000</td>\n",
       "      <td>1.000</td>\n",
       "      <td>1.000</td>\n",
       "      <td>1.000</td>\n",
       "      <td>1.000</td>\n",
       "      <td>1.000</td>\n",
       "      <td>1.000</td>\n",
       "      <td>1.000</td>\n",
       "      <td>1.000</td>\n",
       "      <td>1.000</td>\n",
       "    </tr>\n",
       "  </tbody>\n",
       "</table>\n",
       "</div>"
      ],
      "text/plain": [
       "      ROWMEDIAN  KNN_IMPUTE  SEQKNN      RF  IMPSEQ   QRILC  SVDMETHOD  \\\n",
       "MSE       1.766       0.695   0.778   0.677   1.910  10.321      5.059   \n",
       "MAE       1.028       0.554   0.580   0.545   0.914   2.780      1.763   \n",
       "N       859.000     859.000 859.000 859.000 859.000 859.000    859.000   \n",
       "prop      1.000       1.000   1.000   1.000   1.000   1.000      1.000   \n",
       "\n",
       "      MICE-NORM           MLE     IRM   TRKNN  MSIMPUTE_MNAR   GSIMP  \n",
       "MSE       0.774 4,519,870.934   0.880   0.626          8.134  11.434  \n",
       "MAE       0.593     1,893.032   0.646   0.511          2.671   2.993  \n",
       "N       859.000       859.000 859.000 859.000        859.000 859.000  \n",
       "prop      1.000         1.000   1.000   1.000          1.000   1.000  "
      ]
     },
     "execution_count": 15,
     "metadata": {},
     "output_type": "execute_result"
    }
   ],
   "source": [
    "added_metrics = d_metrics.add_metrics(val_pred_fake_na.dropna(how='all', axis=1), 'valid_fake_na')\n",
    "pd.DataFrame(added_metrics)"
   ]
  },
  {
   "cell_type": "markdown",
   "id": "33fde68c",
   "metadata": {
    "papermill": {
     "duration": 0.005821,
     "end_time": "2024-05-01T15:17:04.587002",
     "exception": false,
     "start_time": "2024-05-01T15:17:04.581181",
     "status": "completed"
    },
    "tags": []
   },
   "source": [
    "## Test Datasplit"
   ]
  },
  {
   "cell_type": "code",
   "execution_count": 16,
   "id": "065e1e62",
   "metadata": {
    "execution": {
     "iopub.execute_input": "2024-05-01T15:17:04.599568Z",
     "iopub.status.busy": "2024-05-01T15:17:04.599249Z",
     "iopub.status.idle": "2024-05-01T15:17:04.634400Z",
     "shell.execute_reply": "2024-05-01T15:17:04.633864Z"
    },
    "papermill": {
     "duration": 0.042852,
     "end_time": "2024-05-01T15:17:04.635618",
     "exception": false,
     "start_time": "2024-05-01T15:17:04.592766",
     "status": "completed"
    },
    "tags": []
   },
   "outputs": [
    {
     "name": "stdout",
     "output_type": "stream",
     "text": [
      "Selected as truth to compare to: observed\n"
     ]
    },
    {
     "data": {
      "text/html": [
       "<div>\n",
       "<style scoped>\n",
       "    .dataframe tbody tr th:only-of-type {\n",
       "        vertical-align: middle;\n",
       "    }\n",
       "\n",
       "    .dataframe tbody tr th {\n",
       "        vertical-align: top;\n",
       "    }\n",
       "\n",
       "    .dataframe thead th {\n",
       "        text-align: right;\n",
       "    }\n",
       "</style>\n",
       "<table border=\"1\" class=\"dataframe\">\n",
       "  <thead>\n",
       "    <tr style=\"text-align: right;\">\n",
       "      <th></th>\n",
       "      <th>ROWMEDIAN</th>\n",
       "      <th>KNN_IMPUTE</th>\n",
       "      <th>SEQKNN</th>\n",
       "      <th>RF</th>\n",
       "      <th>IMPSEQ</th>\n",
       "      <th>QRILC</th>\n",
       "      <th>SVDMETHOD</th>\n",
       "      <th>MICE-NORM</th>\n",
       "      <th>MLE</th>\n",
       "      <th>IRM</th>\n",
       "      <th>TRKNN</th>\n",
       "      <th>MSIMPUTE_MNAR</th>\n",
       "      <th>GSIMP</th>\n",
       "    </tr>\n",
       "  </thead>\n",
       "  <tbody>\n",
       "    <tr>\n",
       "      <th>MSE</th>\n",
       "      <td>1.760</td>\n",
       "      <td>0.534</td>\n",
       "      <td>0.559</td>\n",
       "      <td>0.504</td>\n",
       "      <td>1.829</td>\n",
       "      <td>9.640</td>\n",
       "      <td>5.293</td>\n",
       "      <td>0.586</td>\n",
       "      <td>4,482,158.000</td>\n",
       "      <td>0.690</td>\n",
       "      <td>0.507</td>\n",
       "      <td>7.900</td>\n",
       "      <td>11.458</td>\n",
       "    </tr>\n",
       "    <tr>\n",
       "      <th>MAE</th>\n",
       "      <td>1.040</td>\n",
       "      <td>0.506</td>\n",
       "      <td>0.524</td>\n",
       "      <td>0.494</td>\n",
       "      <td>0.850</td>\n",
       "      <td>2.697</td>\n",
       "      <td>1.829</td>\n",
       "      <td>0.543</td>\n",
       "      <td>1,890.152</td>\n",
       "      <td>0.598</td>\n",
       "      <td>0.474</td>\n",
       "      <td>2.636</td>\n",
       "      <td>2.985</td>\n",
       "    </tr>\n",
       "    <tr>\n",
       "      <th>N</th>\n",
       "      <td>859.000</td>\n",
       "      <td>859.000</td>\n",
       "      <td>859.000</td>\n",
       "      <td>859.000</td>\n",
       "      <td>859.000</td>\n",
       "      <td>859.000</td>\n",
       "      <td>859.000</td>\n",
       "      <td>859.000</td>\n",
       "      <td>859.000</td>\n",
       "      <td>859.000</td>\n",
       "      <td>859.000</td>\n",
       "      <td>859.000</td>\n",
       "      <td>859.000</td>\n",
       "    </tr>\n",
       "    <tr>\n",
       "      <th>prop</th>\n",
       "      <td>1.000</td>\n",
       "      <td>1.000</td>\n",
       "      <td>1.000</td>\n",
       "      <td>1.000</td>\n",
       "      <td>1.000</td>\n",
       "      <td>1.000</td>\n",
       "      <td>1.000</td>\n",
       "      <td>1.000</td>\n",
       "      <td>1.000</td>\n",
       "      <td>1.000</td>\n",
       "      <td>1.000</td>\n",
       "      <td>1.000</td>\n",
       "      <td>1.000</td>\n",
       "    </tr>\n",
       "  </tbody>\n",
       "</table>\n",
       "</div>"
      ],
      "text/plain": [
       "      ROWMEDIAN  KNN_IMPUTE  SEQKNN      RF  IMPSEQ   QRILC  SVDMETHOD  \\\n",
       "MSE       1.760       0.534   0.559   0.504   1.829   9.640      5.293   \n",
       "MAE       1.040       0.506   0.524   0.494   0.850   2.697      1.829   \n",
       "N       859.000     859.000 859.000 859.000 859.000 859.000    859.000   \n",
       "prop      1.000       1.000   1.000   1.000   1.000   1.000      1.000   \n",
       "\n",
       "      MICE-NORM           MLE     IRM   TRKNN  MSIMPUTE_MNAR   GSIMP  \n",
       "MSE       0.586 4,482,158.000   0.690   0.507          7.900  11.458  \n",
       "MAE       0.543     1,890.152   0.598   0.474          2.636   2.985  \n",
       "N       859.000       859.000 859.000 859.000        859.000 859.000  \n",
       "prop      1.000         1.000   1.000   1.000          1.000   1.000  "
      ]
     },
     "execution_count": 16,
     "metadata": {},
     "output_type": "execute_result"
    }
   ],
   "source": [
    "added_metrics = d_metrics.add_metrics(test_pred_fake_na.dropna(how='all', axis=1), 'test_fake_na')\n",
    "pd.DataFrame(added_metrics)"
   ]
  },
  {
   "cell_type": "code",
   "execution_count": 17,
   "id": "37e8e515",
   "metadata": {
    "execution": {
     "iopub.execute_input": "2024-05-01T15:17:04.648268Z",
     "iopub.status.busy": "2024-05-01T15:17:04.648076Z",
     "iopub.status.idle": "2024-05-01T15:17:04.658464Z",
     "shell.execute_reply": "2024-05-01T15:17:04.657901Z"
    },
    "papermill": {
     "duration": 0.018081,
     "end_time": "2024-05-01T15:17:04.659675",
     "exception": false,
     "start_time": "2024-05-01T15:17:04.641594",
     "status": "completed"
    },
    "tags": []
   },
   "outputs": [
    {
     "data": {
      "text/html": [
       "<div>\n",
       "<style scoped>\n",
       "    .dataframe tbody tr th:only-of-type {\n",
       "        vertical-align: middle;\n",
       "    }\n",
       "\n",
       "    .dataframe tbody tr th {\n",
       "        vertical-align: top;\n",
       "    }\n",
       "\n",
       "    .dataframe thead th {\n",
       "        text-align: right;\n",
       "    }\n",
       "</style>\n",
       "<table border=\"1\" class=\"dataframe\">\n",
       "  <thead>\n",
       "    <tr style=\"text-align: right;\">\n",
       "      <th></th>\n",
       "      <th>subset</th>\n",
       "      <th>valid_fake_na</th>\n",
       "      <th>test_fake_na</th>\n",
       "    </tr>\n",
       "    <tr>\n",
       "      <th>model</th>\n",
       "      <th>metric_name</th>\n",
       "      <th></th>\n",
       "      <th></th>\n",
       "    </tr>\n",
       "  </thead>\n",
       "  <tbody>\n",
       "    <tr>\n",
       "      <th rowspan=\"4\" valign=\"top\">ROWMEDIAN</th>\n",
       "      <th>MSE</th>\n",
       "      <td>1.766</td>\n",
       "      <td>1.760</td>\n",
       "    </tr>\n",
       "    <tr>\n",
       "      <th>MAE</th>\n",
       "      <td>1.028</td>\n",
       "      <td>1.040</td>\n",
       "    </tr>\n",
       "    <tr>\n",
       "      <th>N</th>\n",
       "      <td>859.000</td>\n",
       "      <td>859.000</td>\n",
       "    </tr>\n",
       "    <tr>\n",
       "      <th>prop</th>\n",
       "      <td>1.000</td>\n",
       "      <td>1.000</td>\n",
       "    </tr>\n",
       "    <tr>\n",
       "      <th rowspan=\"4\" valign=\"top\">KNN_IMPUTE</th>\n",
       "      <th>MSE</th>\n",
       "      <td>0.695</td>\n",
       "      <td>0.534</td>\n",
       "    </tr>\n",
       "    <tr>\n",
       "      <th>MAE</th>\n",
       "      <td>0.554</td>\n",
       "      <td>0.506</td>\n",
       "    </tr>\n",
       "    <tr>\n",
       "      <th>N</th>\n",
       "      <td>859.000</td>\n",
       "      <td>859.000</td>\n",
       "    </tr>\n",
       "    <tr>\n",
       "      <th>prop</th>\n",
       "      <td>1.000</td>\n",
       "      <td>1.000</td>\n",
       "    </tr>\n",
       "    <tr>\n",
       "      <th rowspan=\"4\" valign=\"top\">SEQKNN</th>\n",
       "      <th>MSE</th>\n",
       "      <td>0.778</td>\n",
       "      <td>0.559</td>\n",
       "    </tr>\n",
       "    <tr>\n",
       "      <th>MAE</th>\n",
       "      <td>0.580</td>\n",
       "      <td>0.524</td>\n",
       "    </tr>\n",
       "    <tr>\n",
       "      <th>N</th>\n",
       "      <td>859.000</td>\n",
       "      <td>859.000</td>\n",
       "    </tr>\n",
       "    <tr>\n",
       "      <th>prop</th>\n",
       "      <td>1.000</td>\n",
       "      <td>1.000</td>\n",
       "    </tr>\n",
       "    <tr>\n",
       "      <th rowspan=\"4\" valign=\"top\">RF</th>\n",
       "      <th>MSE</th>\n",
       "      <td>0.677</td>\n",
       "      <td>0.504</td>\n",
       "    </tr>\n",
       "    <tr>\n",
       "      <th>MAE</th>\n",
       "      <td>0.545</td>\n",
       "      <td>0.494</td>\n",
       "    </tr>\n",
       "    <tr>\n",
       "      <th>N</th>\n",
       "      <td>859.000</td>\n",
       "      <td>859.000</td>\n",
       "    </tr>\n",
       "    <tr>\n",
       "      <th>prop</th>\n",
       "      <td>1.000</td>\n",
       "      <td>1.000</td>\n",
       "    </tr>\n",
       "    <tr>\n",
       "      <th rowspan=\"4\" valign=\"top\">IMPSEQ</th>\n",
       "      <th>MSE</th>\n",
       "      <td>1.910</td>\n",
       "      <td>1.829</td>\n",
       "    </tr>\n",
       "    <tr>\n",
       "      <th>MAE</th>\n",
       "      <td>0.914</td>\n",
       "      <td>0.850</td>\n",
       "    </tr>\n",
       "    <tr>\n",
       "      <th>N</th>\n",
       "      <td>859.000</td>\n",
       "      <td>859.000</td>\n",
       "    </tr>\n",
       "    <tr>\n",
       "      <th>prop</th>\n",
       "      <td>1.000</td>\n",
       "      <td>1.000</td>\n",
       "    </tr>\n",
       "    <tr>\n",
       "      <th rowspan=\"4\" valign=\"top\">QRILC</th>\n",
       "      <th>MSE</th>\n",
       "      <td>10.321</td>\n",
       "      <td>9.640</td>\n",
       "    </tr>\n",
       "    <tr>\n",
       "      <th>MAE</th>\n",
       "      <td>2.780</td>\n",
       "      <td>2.697</td>\n",
       "    </tr>\n",
       "    <tr>\n",
       "      <th>N</th>\n",
       "      <td>859.000</td>\n",
       "      <td>859.000</td>\n",
       "    </tr>\n",
       "    <tr>\n",
       "      <th>prop</th>\n",
       "      <td>1.000</td>\n",
       "      <td>1.000</td>\n",
       "    </tr>\n",
       "    <tr>\n",
       "      <th rowspan=\"4\" valign=\"top\">SVDMETHOD</th>\n",
       "      <th>MSE</th>\n",
       "      <td>5.059</td>\n",
       "      <td>5.293</td>\n",
       "    </tr>\n",
       "    <tr>\n",
       "      <th>MAE</th>\n",
       "      <td>1.763</td>\n",
       "      <td>1.829</td>\n",
       "    </tr>\n",
       "    <tr>\n",
       "      <th>N</th>\n",
       "      <td>859.000</td>\n",
       "      <td>859.000</td>\n",
       "    </tr>\n",
       "    <tr>\n",
       "      <th>prop</th>\n",
       "      <td>1.000</td>\n",
       "      <td>1.000</td>\n",
       "    </tr>\n",
       "    <tr>\n",
       "      <th rowspan=\"4\" valign=\"top\">MICE-NORM</th>\n",
       "      <th>MSE</th>\n",
       "      <td>0.774</td>\n",
       "      <td>0.586</td>\n",
       "    </tr>\n",
       "    <tr>\n",
       "      <th>MAE</th>\n",
       "      <td>0.593</td>\n",
       "      <td>0.543</td>\n",
       "    </tr>\n",
       "    <tr>\n",
       "      <th>N</th>\n",
       "      <td>859.000</td>\n",
       "      <td>859.000</td>\n",
       "    </tr>\n",
       "    <tr>\n",
       "      <th>prop</th>\n",
       "      <td>1.000</td>\n",
       "      <td>1.000</td>\n",
       "    </tr>\n",
       "    <tr>\n",
       "      <th rowspan=\"4\" valign=\"top\">MLE</th>\n",
       "      <th>MSE</th>\n",
       "      <td>4,519,870.934</td>\n",
       "      <td>4,482,158.000</td>\n",
       "    </tr>\n",
       "    <tr>\n",
       "      <th>MAE</th>\n",
       "      <td>1,893.032</td>\n",
       "      <td>1,890.152</td>\n",
       "    </tr>\n",
       "    <tr>\n",
       "      <th>N</th>\n",
       "      <td>859.000</td>\n",
       "      <td>859.000</td>\n",
       "    </tr>\n",
       "    <tr>\n",
       "      <th>prop</th>\n",
       "      <td>1.000</td>\n",
       "      <td>1.000</td>\n",
       "    </tr>\n",
       "    <tr>\n",
       "      <th rowspan=\"4\" valign=\"top\">IRM</th>\n",
       "      <th>MSE</th>\n",
       "      <td>0.880</td>\n",
       "      <td>0.690</td>\n",
       "    </tr>\n",
       "    <tr>\n",
       "      <th>MAE</th>\n",
       "      <td>0.646</td>\n",
       "      <td>0.598</td>\n",
       "    </tr>\n",
       "    <tr>\n",
       "      <th>N</th>\n",
       "      <td>859.000</td>\n",
       "      <td>859.000</td>\n",
       "    </tr>\n",
       "    <tr>\n",
       "      <th>prop</th>\n",
       "      <td>1.000</td>\n",
       "      <td>1.000</td>\n",
       "    </tr>\n",
       "    <tr>\n",
       "      <th rowspan=\"4\" valign=\"top\">TRKNN</th>\n",
       "      <th>MSE</th>\n",
       "      <td>0.626</td>\n",
       "      <td>0.507</td>\n",
       "    </tr>\n",
       "    <tr>\n",
       "      <th>MAE</th>\n",
       "      <td>0.511</td>\n",
       "      <td>0.474</td>\n",
       "    </tr>\n",
       "    <tr>\n",
       "      <th>N</th>\n",
       "      <td>859.000</td>\n",
       "      <td>859.000</td>\n",
       "    </tr>\n",
       "    <tr>\n",
       "      <th>prop</th>\n",
       "      <td>1.000</td>\n",
       "      <td>1.000</td>\n",
       "    </tr>\n",
       "    <tr>\n",
       "      <th rowspan=\"4\" valign=\"top\">MSIMPUTE_MNAR</th>\n",
       "      <th>MSE</th>\n",
       "      <td>8.134</td>\n",
       "      <td>7.900</td>\n",
       "    </tr>\n",
       "    <tr>\n",
       "      <th>MAE</th>\n",
       "      <td>2.671</td>\n",
       "      <td>2.636</td>\n",
       "    </tr>\n",
       "    <tr>\n",
       "      <th>N</th>\n",
       "      <td>859.000</td>\n",
       "      <td>859.000</td>\n",
       "    </tr>\n",
       "    <tr>\n",
       "      <th>prop</th>\n",
       "      <td>1.000</td>\n",
       "      <td>1.000</td>\n",
       "    </tr>\n",
       "    <tr>\n",
       "      <th rowspan=\"4\" valign=\"top\">GSIMP</th>\n",
       "      <th>MSE</th>\n",
       "      <td>11.434</td>\n",
       "      <td>11.458</td>\n",
       "    </tr>\n",
       "    <tr>\n",
       "      <th>MAE</th>\n",
       "      <td>2.993</td>\n",
       "      <td>2.985</td>\n",
       "    </tr>\n",
       "    <tr>\n",
       "      <th>N</th>\n",
       "      <td>859.000</td>\n",
       "      <td>859.000</td>\n",
       "    </tr>\n",
       "    <tr>\n",
       "      <th>prop</th>\n",
       "      <td>1.000</td>\n",
       "      <td>1.000</td>\n",
       "    </tr>\n",
       "  </tbody>\n",
       "</table>\n",
       "</div>"
      ],
      "text/plain": [
       "subset                     valid_fake_na  test_fake_na\n",
       "model         metric_name                             \n",
       "ROWMEDIAN     MSE                  1.766         1.760\n",
       "              MAE                  1.028         1.040\n",
       "              N                  859.000       859.000\n",
       "              prop                 1.000         1.000\n",
       "KNN_IMPUTE    MSE                  0.695         0.534\n",
       "              MAE                  0.554         0.506\n",
       "              N                  859.000       859.000\n",
       "              prop                 1.000         1.000\n",
       "SEQKNN        MSE                  0.778         0.559\n",
       "              MAE                  0.580         0.524\n",
       "              N                  859.000       859.000\n",
       "              prop                 1.000         1.000\n",
       "RF            MSE                  0.677         0.504\n",
       "              MAE                  0.545         0.494\n",
       "              N                  859.000       859.000\n",
       "              prop                 1.000         1.000\n",
       "IMPSEQ        MSE                  1.910         1.829\n",
       "              MAE                  0.914         0.850\n",
       "              N                  859.000       859.000\n",
       "              prop                 1.000         1.000\n",
       "QRILC         MSE                 10.321         9.640\n",
       "              MAE                  2.780         2.697\n",
       "              N                  859.000       859.000\n",
       "              prop                 1.000         1.000\n",
       "SVDMETHOD     MSE                  5.059         5.293\n",
       "              MAE                  1.763         1.829\n",
       "              N                  859.000       859.000\n",
       "              prop                 1.000         1.000\n",
       "MICE-NORM     MSE                  0.774         0.586\n",
       "              MAE                  0.593         0.543\n",
       "              N                  859.000       859.000\n",
       "              prop                 1.000         1.000\n",
       "MLE           MSE          4,519,870.934 4,482,158.000\n",
       "              MAE              1,893.032     1,890.152\n",
       "              N                  859.000       859.000\n",
       "              prop                 1.000         1.000\n",
       "IRM           MSE                  0.880         0.690\n",
       "              MAE                  0.646         0.598\n",
       "              N                  859.000       859.000\n",
       "              prop                 1.000         1.000\n",
       "TRKNN         MSE                  0.626         0.507\n",
       "              MAE                  0.511         0.474\n",
       "              N                  859.000       859.000\n",
       "              prop                 1.000         1.000\n",
       "MSIMPUTE_MNAR MSE                  8.134         7.900\n",
       "              MAE                  2.671         2.636\n",
       "              N                  859.000       859.000\n",
       "              prop                 1.000         1.000\n",
       "GSIMP         MSE                 11.434        11.458\n",
       "              MAE                  2.993         2.985\n",
       "              N                  859.000       859.000\n",
       "              prop                 1.000         1.000"
      ]
     },
     "execution_count": 17,
     "metadata": {},
     "output_type": "execute_result"
    }
   ],
   "source": [
    "metrics_df = vaep.models.get_df_from_nested_dict(\n",
    "    d_metrics.metrics, column_levels=['model', 'metric_name']).T\n",
    "metrics_df"
   ]
  },
  {
   "cell_type": "code",
   "execution_count": 18,
   "id": "f1f0d12c",
   "metadata": {
    "execution": {
     "iopub.execute_input": "2024-05-01T15:17:04.673289Z",
     "iopub.status.busy": "2024-05-01T15:17:04.672928Z",
     "iopub.status.idle": "2024-05-01T15:17:04.678501Z",
     "shell.execute_reply": "2024-05-01T15:17:04.677943Z"
    },
    "papermill": {
     "duration": 0.013709,
     "end_time": "2024-05-01T15:17:04.679697",
     "exception": false,
     "start_time": "2024-05-01T15:17:04.665988",
     "status": "completed"
    },
    "tags": []
   },
   "outputs": [
    {
     "data": {
      "text/plain": [
       "model          metric_name\n",
       "TRKNN          MAE               0.511\n",
       "RF             MAE               0.545\n",
       "KNN_IMPUTE     MAE               0.554\n",
       "SEQKNN         MAE               0.580\n",
       "MICE-NORM      MAE               0.593\n",
       "IRM            MAE               0.646\n",
       "IMPSEQ         MAE               0.914\n",
       "ROWMEDIAN      MAE               1.028\n",
       "SVDMETHOD      MAE               1.763\n",
       "MSIMPUTE_MNAR  MAE               2.671\n",
       "QRILC          MAE               2.780\n",
       "GSIMP          MAE               2.993\n",
       "MLE            MAE           1,893.032\n",
       "Name: valid_fake_na, dtype: float64"
      ]
     },
     "execution_count": 18,
     "metadata": {},
     "output_type": "execute_result"
    }
   ],
   "source": [
    "order_methods = metrics_df.loc[pd.IndexSlice[:,\n",
    "                                             'MAE'], 'valid_fake_na'].sort_values()\n",
    "order_methods"
   ]
  },
  {
   "cell_type": "code",
   "execution_count": 19,
   "id": "a0f8ce7c",
   "metadata": {
    "execution": {
     "iopub.execute_input": "2024-05-01T15:17:04.693533Z",
     "iopub.status.busy": "2024-05-01T15:17:04.693158Z",
     "iopub.status.idle": "2024-05-01T15:17:04.697347Z",
     "shell.execute_reply": "2024-05-01T15:17:04.696877Z"
    },
    "papermill": {
     "duration": 0.012341,
     "end_time": "2024-05-01T15:17:04.698493",
     "exception": false,
     "start_time": "2024-05-01T15:17:04.686152",
     "status": "completed"
    },
    "tags": []
   },
   "outputs": [
    {
     "data": {
      "text/plain": [
       "['observed', 'TRKNN', 'RF', 'KNN_IMPUTE', 'SEQKNN', 'MICE-NORM', 'IRM']"
      ]
     },
     "execution_count": 19,
     "metadata": {},
     "output_type": "execute_result"
    }
   ],
   "source": [
    "top_5 = ['observed', *order_methods.droplevel(-1).index[:6]]\n",
    "top_5"
   ]
  },
  {
   "cell_type": "code",
   "execution_count": 20,
   "id": "7e041594",
   "metadata": {
    "execution": {
     "iopub.execute_input": "2024-05-01T15:17:04.712237Z",
     "iopub.status.busy": "2024-05-01T15:17:04.711888Z",
     "iopub.status.idle": "2024-05-01T15:17:06.896021Z",
     "shell.execute_reply": "2024-05-01T15:17:06.895408Z"
    },
    "papermill": {
     "duration": 2.192308,
     "end_time": "2024-05-01T15:17:06.897221",
     "exception": false,
     "start_time": "2024-05-01T15:17:04.704913",
     "status": "completed"
    },
    "tags": []
   },
   "outputs": [
    {
     "name": "stdout",
     "output_type": "stream",
     "text": [
      "vaep.plotting - INFO     Saved Figures to runs/example/figures/NAGuideR_errors_per_bin_val.png\n"
     ]
    },
    {
     "data": {
      "image/png": "[encoded data removed]",
      "text/plain": [
       "<Figure size 1176x294 with 1 Axes>"
      ]
     },
     "metadata": {},
     "output_type": "display_data"
    }
   ],
   "source": [
    "fig, ax = plt.subplots(figsize=(8, 2))\n",
    "ax, errors_bind = vaep.plotting.errors.plot_errors_binned(\n",
    "    val_pred_fake_na[top_5],\n",
    "    ax=ax,\n",
    ")\n",
    "fname = args.out_figures / 'NAGuideR_errors_per_bin_val.png'\n",
    "files_out[fname.name] = fname.as_posix()\n",
    "vaep.savefig(ax.get_figure(), fname)"
   ]
  },
  {
   "cell_type": "code",
   "execution_count": 21,
   "id": "77b1b792",
   "metadata": {
    "execution": {
     "iopub.execute_input": "2024-05-01T15:17:06.912041Z",
     "iopub.status.busy": "2024-05-01T15:17:06.911472Z",
     "iopub.status.idle": "2024-05-01T15:17:06.916011Z",
     "shell.execute_reply": "2024-05-01T15:17:06.915560Z"
    },
    "papermill": {
     "duration": 0.012987,
     "end_time": "2024-05-01T15:17:06.917139",
     "exception": false,
     "start_time": "2024-05-01T15:17:06.904152",
     "status": "completed"
    },
    "tags": []
   },
   "outputs": [
    {
     "data": {
      "text/plain": [
       "{'pred_val_ROWMEDIAN.csv': 'runs/example/preds/pred_val_ROWMEDIAN.csv',\n",
       " 'pred_test_ROWMEDIAN.csv': 'runs/example/preds/pred_test_ROWMEDIAN.csv',\n",
       " 'pred_real_na_ROWMEDIAN.csv': 'runs/example/preds/pred_real_na_ROWMEDIAN.csv',\n",
       " 'pred_val_KNN_IMPUTE.csv': 'runs/example/preds/pred_val_KNN_IMPUTE.csv',\n",
       " 'pred_test_KNN_IMPUTE.csv': 'runs/example/preds/pred_test_KNN_IMPUTE.csv',\n",
       " 'pred_real_na_KNN_IMPUTE.csv': 'runs/example/preds/pred_real_na_KNN_IMPUTE.csv',\n",
       " 'pred_val_SEQKNN.csv': 'runs/example/preds/pred_val_SEQKNN.csv',\n",
       " 'pred_test_SEQKNN.csv': 'runs/example/preds/pred_test_SEQKNN.csv',\n",
       " 'pred_real_na_SEQKNN.csv': 'runs/example/preds/pred_real_na_SEQKNN.csv',\n",
       " 'pred_val_RF.csv': 'runs/example/preds/pred_val_RF.csv',\n",
       " 'pred_test_RF.csv': 'runs/example/preds/pred_test_RF.csv',\n",
       " 'pred_real_na_RF.csv': 'runs/example/preds/pred_real_na_RF.csv',\n",
       " 'pred_val_IMPSEQ.csv': 'runs/example/preds/pred_val_IMPSEQ.csv',\n",
       " 'pred_test_IMPSEQ.csv': 'runs/example/preds/pred_test_IMPSEQ.csv',\n",
       " 'pred_real_na_IMPSEQ.csv': 'runs/example/preds/pred_real_na_IMPSEQ.csv',\n",
       " 'pred_val_QRILC.csv': 'runs/example/preds/pred_val_QRILC.csv',\n",
       " 'pred_test_QRILC.csv': 'runs/example/preds/pred_test_QRILC.csv',\n",
       " 'pred_real_na_QRILC.csv': 'runs/example/preds/pred_real_na_QRILC.csv',\n",
       " 'pred_val_SVDMETHOD.csv': 'runs/example/preds/pred_val_SVDMETHOD.csv',\n",
       " 'pred_test_SVDMETHOD.csv': 'runs/example/preds/pred_test_SVDMETHOD.csv',\n",
       " 'pred_real_na_SVDMETHOD.csv': 'runs/example/preds/pred_real_na_SVDMETHOD.csv',\n",
       " 'pred_val_MICE-NORM.csv': 'runs/example/preds/pred_val_MICE-NORM.csv',\n",
       " 'pred_test_MICE-NORM.csv': 'runs/example/preds/pred_test_MICE-NORM.csv',\n",
       " 'pred_real_na_MICE-NORM.csv': 'runs/example/preds/pred_real_na_MICE-NORM.csv',\n",
       " 'pred_val_MLE.csv': 'runs/example/preds/pred_val_MLE.csv',\n",
       " 'pred_test_MLE.csv': 'runs/example/preds/pred_test_MLE.csv',\n",
       " 'pred_real_na_MLE.csv': 'runs/example/preds/pred_real_na_MLE.csv',\n",
       " 'pred_val_IRM.csv': 'runs/example/preds/pred_val_IRM.csv',\n",
       " 'pred_test_IRM.csv': 'runs/example/preds/pred_test_IRM.csv',\n",
       " 'pred_real_na_IRM.csv': 'runs/example/preds/pred_real_na_IRM.csv',\n",
       " 'pred_val_TRKNN.csv': 'runs/example/preds/pred_val_TRKNN.csv',\n",
       " 'pred_test_TRKNN.csv': 'runs/example/preds/pred_test_TRKNN.csv',\n",
       " 'pred_real_na_TRKNN.csv': 'runs/example/preds/pred_real_na_TRKNN.csv',\n",
       " 'pred_val_MSIMPUTE_MNAR.csv': 'runs/example/preds/pred_val_MSIMPUTE_MNAR.csv',\n",
       " 'pred_test_MSIMPUTE_MNAR.csv': 'runs/example/preds/pred_test_MSIMPUTE_MNAR.csv',\n",
       " 'pred_real_na_MSIMPUTE_MNAR.csv': 'runs/example/preds/pred_real_na_MSIMPUTE_MNAR.csv',\n",
       " 'pred_val_GSIMP.csv': 'runs/example/preds/pred_val_GSIMP.csv',\n",
       " 'pred_test_GSIMP.csv': 'runs/example/preds/pred_test_GSIMP.csv',\n",
       " 'pred_real_na_GSIMP.csv': 'runs/example/preds/pred_real_na_GSIMP.csv',\n",
       " 'NAGuideR_errors_per_bin_val.png': 'runs/example/figures/NAGuideR_errors_per_bin_val.png'}"
      ]
     },
     "execution_count": 21,
     "metadata": {},
     "output_type": "execute_result"
    }
   ],
   "source": [
    "files_out"
   ]
  }
 ],
 "metadata": {
  "jupytext": {
   "cell_metadata_filter": "title,tags,-all"
  },
  "kernelspec": {
   "display_name": "Python 3",
   "language": "python",
   "name": "python3"
  },
  "language_info": {
   "codemirror_mode": {
    "name": "ipython",
    "version": 3
   },
   "file_extension": ".py",
   "mimetype": "text/x-python",
   "name": "python",
   "nbconvert_exporter": "python",
   "pygments_lexer": "ipython3",
   "version": "3.8.19"
  },
  "papermill": {
   "default_parameters": {},
   "duration": 5.797593,
   "end_time": "2024-05-01T15:17:07.440049",
   "environment_variables": {},
   "exception": null,
   "input_path": "01_1_transfer_NAGuideR_pred.ipynb",
   "output_path": "runs/example/01_1_transfer_NAGuideR_pred.ipynb",
   "parameters": {
    "dumps": "runs/example/preds/pred_all_ROWMEDIAN.csv,runs/example/preds/pred_all_KNN_IMPUTE.csv,runs/example/preds/pred_all_SEQKNN.csv,runs/example/preds/pred_all_RF.csv,runs/example/preds/pred_all_IMPSEQ.csv,runs/example/preds/pred_all_QRILC.csv,runs/example/preds/pred_all_SVDMETHOD.csv,runs/example/preds/pred_all_MICE-NORM.csv,runs/example/preds/pred_all_MLE.csv,runs/example/preds/pred_all_IRM.csv,runs/example/preds/pred_all_TRKNN.csv,runs/example/preds/pred_all_MSIMPUTE_MNAR.csv,runs/example/preds/pred_all_GSIMP.csv",
    "folder_experiment": "runs/example"
   },
   "start_time": "2024-05-01T15:17:01.642456",
   "version": "2.6.0"
  }
 },
 "nbformat": 4,
 "nbformat_minor": 5
}