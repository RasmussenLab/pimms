{
 "cells": [
  {
   "cell_type": "markdown",
   "id": "a75efcbe-2ae0-4609-872a-759fb5c80af1",
   "metadata": {
    "papermill": {
     "duration": 0.003481,
     "end_time": "2024-05-06T09:33:15.300225",
     "exception": false,
     "start_time": "2024-05-06T09:33:15.296744",
     "status": "completed"
    },
    "tags": []
   },
   "source": [
    "# Transfer predictions from NAGuideR"
   ]
  },
  {
   "cell_type": "code",
   "execution_count": 1,
   "id": "f29b93d1",
   "metadata": {
    "execution": {
     "iopub.execute_input": "2024-05-06T09:33:15.306841Z",
     "iopub.status.busy": "2024-05-06T09:33:15.306591Z",
     "iopub.status.idle": "2024-05-06T09:33:17.142829Z",
     "shell.execute_reply": "2024-05-06T09:33:17.142204Z"
    },
    "papermill": {
     "duration": 1.841357,
     "end_time": "2024-05-06T09:33:17.144368",
     "exception": false,
     "start_time": "2024-05-06T09:33:15.303011",
     "status": "completed"
    },
    "tags": []
   },
   "outputs": [],
   "source": [
    "from pathlib import Path\n",
    "import logging\n",
    "import pandas as pd\n",
    "import matplotlib.pyplot as plt\n",
    "\n",
    "import vaep\n",
    "import vaep.models\n",
    "from vaep.io import datasplits\n",
    "import vaep.pandas\n",
    "\n",
    "vaep.plotting.make_large_descriptors(5)\n",
    "\n",
    "logger = vaep.logging.setup_logger(logging.getLogger('vaep'))"
   ]
  },
  {
   "cell_type": "code",
   "execution_count": 2,
   "id": "cbf23f02",
   "metadata": {
    "execution": {
     "iopub.execute_input": "2024-05-06T09:33:17.151647Z",
     "iopub.status.busy": "2024-05-06T09:33:17.150991Z",
     "iopub.status.idle": "2024-05-06T09:33:17.154150Z",
     "shell.execute_reply": "2024-05-06T09:33:17.153591Z"
    },
    "papermill": {
     "duration": 0.008013,
     "end_time": "2024-05-06T09:33:17.155378",
     "exception": false,
     "start_time": "2024-05-06T09:33:17.147365",
     "status": "completed"
    },
    "tags": []
   },
   "outputs": [],
   "source": [
    "# catch passed parameters\n",
    "args = None\n",
    "args = dict(globals()).keys()"
   ]
  },
  {
   "cell_type": "markdown",
   "id": "8b02b864",
   "metadata": {
    "papermill": {
     "duration": 0.002647,
     "end_time": "2024-05-06T09:33:17.160799",
     "exception": false,
     "start_time": "2024-05-06T09:33:17.158152",
     "status": "completed"
    },
    "tags": []
   },
   "source": [
    "Papermill script parameters:"
   ]
  },
  {
   "cell_type": "code",
   "execution_count": 3,
   "id": "a08a34aa",
   "metadata": {
    "execution": {
     "iopub.execute_input": "2024-05-06T09:33:17.167196Z",
     "iopub.status.busy": "2024-05-06T09:33:17.166822Z",
     "iopub.status.idle": "2024-05-06T09:33:17.169951Z",
     "shell.execute_reply": "2024-05-06T09:33:17.169404Z"
    },
    "papermill": {
     "duration": 0.007676,
     "end_time": "2024-05-06T09:33:17.171150",
     "exception": false,
     "start_time": "2024-05-06T09:33:17.163474",
     "status": "completed"
    },
    "tags": [
     "parameters"
    ]
   },
   "outputs": [],
   "source": [
    "# files and folders\n",
    "# Datasplit folder with data for experiment\n",
    "folder_experiment: str = 'runs/example'\n",
    "folder_data: str = ''  # specify data directory if needed\n",
    "file_format: str = 'csv'  # file format of create splits, default pickle (csv)\n",
    "identifer_str: str = '_all_'  # identifier for prediction files to be filtered\n",
    "dumps: list = None  # list of dumps to be used"
   ]
  },
  {
   "cell_type": "code",
   "execution_count": 4,
   "id": "e56e0b68",
   "metadata": {
    "execution": {
     "iopub.execute_input": "2024-05-06T09:33:17.177229Z",
     "iopub.status.busy": "2024-05-06T09:33:17.177044Z",
     "iopub.status.idle": "2024-05-06T09:33:17.179908Z",
     "shell.execute_reply": "2024-05-06T09:33:17.179418Z"
    },
    "papermill": {
     "duration": 0.007258,
     "end_time": "2024-05-06T09:33:17.181051",
     "exception": false,
     "start_time": "2024-05-06T09:33:17.173793",
     "status": "completed"
    },
    "tags": [
     "injected-parameters"
    ]
   },
   "outputs": [],
   "source": [
    "# Parameters\n",
    "dumps = \"runs/dev_dataset_small/proteinGroups_N50/preds/pred_all_BPCA.csv,runs/dev_dataset_small/proteinGroups_N50/preds/pred_all_COLMEDIAN.csv,runs/dev_dataset_small/proteinGroups_N50/preds/pred_all_IMPSEQ.csv,runs/dev_dataset_small/proteinGroups_N50/preds/pred_all_IMPSEQROB.csv,runs/dev_dataset_small/proteinGroups_N50/preds/pred_all_IRM.csv,runs/dev_dataset_small/proteinGroups_N50/preds/pred_all_KNN_IMPUTE.csv,runs/dev_dataset_small/proteinGroups_N50/preds/pred_all_LLS.csv,runs/dev_dataset_small/proteinGroups_N50/preds/pred_all_MICE-CART.csv,runs/dev_dataset_small/proteinGroups_N50/preds/pred_all_MICE-NORM.csv,runs/dev_dataset_small/proteinGroups_N50/preds/pred_all_MINDET.csv,runs/dev_dataset_small/proteinGroups_N50/preds/pred_all_MINIMUM.csv,runs/dev_dataset_small/proteinGroups_N50/preds/pred_all_MINPROB.csv,runs/dev_dataset_small/proteinGroups_N50/preds/pred_all_MLE.csv,runs/dev_dataset_small/proteinGroups_N50/preds/pred_all_MSIMPUTE.csv,runs/dev_dataset_small/proteinGroups_N50/preds/pred_all_PI.csv,runs/dev_dataset_small/proteinGroups_N50/preds/pred_all_QRILC.csv,runs/dev_dataset_small/proteinGroups_N50/preds/pred_all_RF.csv,runs/dev_dataset_small/proteinGroups_N50/preds/pred_all_ROWMEDIAN.csv,runs/dev_dataset_small/proteinGroups_N50/preds/pred_all_SEQKNN.csv,runs/dev_dataset_small/proteinGroups_N50/preds/pred_all_SVDMETHOD.csv,runs/dev_dataset_small/proteinGroups_N50/preds/pred_all_TRKNN.csv,runs/dev_dataset_small/proteinGroups_N50/preds/pred_all_ZERO.csv\"\n",
    "folder_experiment = \"runs/dev_dataset_small/proteinGroups_N50\"\n"
   ]
  },
  {
   "cell_type": "markdown",
   "id": "26815da7",
   "metadata": {
    "lines_to_next_cell": 2,
    "papermill": {
     "duration": 0.002689,
     "end_time": "2024-05-06T09:33:17.186576",
     "exception": false,
     "start_time": "2024-05-06T09:33:17.183887",
     "status": "completed"
    },
    "tags": []
   },
   "source": [
    "Some argument transformations"
   ]
  },
  {
   "cell_type": "code",
   "execution_count": 5,
   "id": "3d5c476b",
   "metadata": {
    "execution": {
     "iopub.execute_input": "2024-05-06T09:33:17.193740Z",
     "iopub.status.busy": "2024-05-06T09:33:17.193300Z",
     "iopub.status.idle": "2024-05-06T09:33:17.199977Z",
     "shell.execute_reply": "2024-05-06T09:33:17.199397Z"
    },
    "papermill": {
     "duration": 0.011732,
     "end_time": "2024-05-06T09:33:17.201121",
     "exception": false,
     "start_time": "2024-05-06T09:33:17.189389",
     "status": "completed"
    },
    "tags": []
   },
   "outputs": [
    {
     "data": {
      "text/plain": [
       "{'data': Path('runs/dev_dataset_small/proteinGroups_N50/data'),\n",
       " 'dumps': 'runs/dev_dataset_small/proteinGroups_N50/preds/pred_all_BPCA.csv,runs/dev_dataset_small/proteinGroups_N50/preds/pred_all_COLMEDIAN.csv,runs/dev_dataset_small/proteinGroups_N50/preds/pred_all_IMPSEQ.csv,runs/dev_dataset_small/proteinGroups_N50/preds/pred_all_IMPSEQROB.csv,runs/dev_dataset_small/proteinGroups_N50/preds/pred_all_IRM.csv,runs/dev_dataset_small/proteinGroups_N50/preds/pred_all_KNN_IMPUTE.csv,runs/dev_dataset_small/proteinGroups_N50/preds/pred_all_LLS.csv,runs/dev_dataset_small/proteinGroups_N50/preds/pred_all_MICE-CART.csv,runs/dev_dataset_small/proteinGroups_N50/preds/pred_all_MICE-NORM.csv,runs/dev_dataset_small/proteinGroups_N50/preds/pred_all_MINDET.csv,runs/dev_dataset_small/proteinGroups_N50/preds/pred_all_MINIMUM.csv,runs/dev_dataset_small/proteinGroups_N50/preds/pred_all_MINPROB.csv,runs/dev_dataset_small/proteinGroups_N50/preds/pred_all_MLE.csv,runs/dev_dataset_small/proteinGroups_N50/preds/pred_all_MSIMPUTE.csv,runs/dev_dataset_small/proteinGroups_N50/preds/pred_all_PI.csv,runs/dev_dataset_small/proteinGroups_N50/preds/pred_all_QRILC.csv,runs/dev_dataset_small/proteinGroups_N50/preds/pred_all_RF.csv,runs/dev_dataset_small/proteinGroups_N50/preds/pred_all_ROWMEDIAN.csv,runs/dev_dataset_small/proteinGroups_N50/preds/pred_all_SEQKNN.csv,runs/dev_dataset_small/proteinGroups_N50/preds/pred_all_SVDMETHOD.csv,runs/dev_dataset_small/proteinGroups_N50/preds/pred_all_TRKNN.csv,runs/dev_dataset_small/proteinGroups_N50/preds/pred_all_ZERO.csv',\n",
       " 'file_format': 'csv',\n",
       " 'folder_data': '',\n",
       " 'folder_experiment': Path('runs/dev_dataset_small/proteinGroups_N50'),\n",
       " 'identifer_str': '_all_',\n",
       " 'out_figures': Path('runs/dev_dataset_small/proteinGroups_N50/figures'),\n",
       " 'out_folder': Path('runs/dev_dataset_small/proteinGroups_N50'),\n",
       " 'out_metrics': Path('runs/dev_dataset_small/proteinGroups_N50'),\n",
       " 'out_models': Path('runs/dev_dataset_small/proteinGroups_N50'),\n",
       " 'out_preds': Path('runs/dev_dataset_small/proteinGroups_N50/preds')}"
      ]
     },
     "execution_count": 5,
     "metadata": {},
     "output_type": "execute_result"
    }
   ],
   "source": [
    "args = vaep.nb.get_params(args, globals=globals())\n",
    "args = vaep.nb.args_from_dict(args)\n",
    "args"
   ]
  },
  {
   "cell_type": "code",
   "execution_count": 6,
   "id": "ba3513a7",
   "metadata": {
    "execution": {
     "iopub.execute_input": "2024-05-06T09:33:17.208262Z",
     "iopub.status.busy": "2024-05-06T09:33:17.207905Z",
     "iopub.status.idle": "2024-05-06T09:33:17.210568Z",
     "shell.execute_reply": "2024-05-06T09:33:17.210071Z"
    },
    "papermill": {
     "duration": 0.007539,
     "end_time": "2024-05-06T09:33:17.211691",
     "exception": false,
     "start_time": "2024-05-06T09:33:17.204152",
     "status": "completed"
    },
    "tags": []
   },
   "outputs": [],
   "source": [
    "files_out = {}"
   ]
  },
  {
   "cell_type": "markdown",
   "id": "ba15118b",
   "metadata": {
    "papermill": {
     "duration": 0.002968,
     "end_time": "2024-05-06T09:33:17.217726",
     "exception": false,
     "start_time": "2024-05-06T09:33:17.214758",
     "status": "completed"
    },
    "tags": []
   },
   "source": [
    "load data splits"
   ]
  },
  {
   "cell_type": "code",
   "execution_count": 7,
   "id": "75341d2b",
   "metadata": {
    "execution": {
     "iopub.execute_input": "2024-05-06T09:33:17.224767Z",
     "iopub.status.busy": "2024-05-06T09:33:17.224193Z",
     "iopub.status.idle": "2024-05-06T09:33:17.365251Z",
     "shell.execute_reply": "2024-05-06T09:33:17.364700Z"
    },
    "lines_to_next_cell": 2,
    "papermill": {
     "duration": 0.145903,
     "end_time": "2024-05-06T09:33:17.366534",
     "exception": false,
     "start_time": "2024-05-06T09:33:17.220631",
     "status": "completed"
    },
    "tags": []
   },
   "outputs": [
    {
     "name": "stdout",
     "output_type": "stream",
     "text": [
      "vaep.io.datasplits - INFO     Loaded 'train_X' from file: runs/dev_dataset_small/proteinGroups_N50/data/train_X.csv\n"
     ]
    },
    {
     "name": "stdout",
     "output_type": "stream",
     "text": [
      "vaep.io.datasplits - INFO     Loaded 'val_y' from file: runs/dev_dataset_small/proteinGroups_N50/data/val_y.csv\n"
     ]
    },
    {
     "name": "stdout",
     "output_type": "stream",
     "text": [
      "vaep.io.datasplits - INFO     Loaded 'test_y' from file: runs/dev_dataset_small/proteinGroups_N50/data/test_y.csv\n"
     ]
    }
   ],
   "source": [
    "data = datasplits.DataSplits.from_folder(\n",
    "    args.data, file_format=args.file_format)"
   ]
  },
  {
   "cell_type": "markdown",
   "id": "dbef8da3",
   "metadata": {
    "papermill": {
     "duration": 0.003066,
     "end_time": "2024-05-06T09:33:17.373074",
     "exception": false,
     "start_time": "2024-05-06T09:33:17.370008",
     "status": "completed"
    },
    "tags": []
   },
   "source": [
    "Validation and test data split of simulated missing values"
   ]
  },
  {
   "cell_type": "code",
   "execution_count": 8,
   "id": "723eacd2",
   "metadata": {
    "execution": {
     "iopub.execute_input": "2024-05-06T09:33:17.380317Z",
     "iopub.status.busy": "2024-05-06T09:33:17.379974Z",
     "iopub.status.idle": "2024-05-06T09:33:17.389438Z",
     "shell.execute_reply": "2024-05-06T09:33:17.388865Z"
    },
    "papermill": {
     "duration": 0.014445,
     "end_time": "2024-05-06T09:33:17.390566",
     "exception": false,
     "start_time": "2024-05-06T09:33:17.376121",
     "status": "completed"
    },
    "tags": []
   },
   "outputs": [
    {
     "data": {
      "text/html": [
       "<div>\n",
       "<style scoped>\n",
       "    .dataframe tbody tr th:only-of-type {\n",
       "        vertical-align: middle;\n",
       "    }\n",
       "\n",
       "    .dataframe tbody tr th {\n",
       "        vertical-align: top;\n",
       "    }\n",
       "\n",
       "    .dataframe thead th {\n",
       "        text-align: right;\n",
       "    }\n",
       "</style>\n",
       "<table border=\"1\" class=\"dataframe\">\n",
       "  <thead>\n",
       "    <tr style=\"text-align: right;\">\n",
       "      <th></th>\n",
       "      <th></th>\n",
       "      <th>observed</th>\n",
       "    </tr>\n",
       "    <tr>\n",
       "      <th>Sample ID</th>\n",
       "      <th>Gene Names</th>\n",
       "      <th></th>\n",
       "    </tr>\n",
       "  </thead>\n",
       "  <tbody>\n",
       "    <tr>\n",
       "      <th>2020_01_15_13_56_Q-Exactive-HF-X-Orbitrap_6070</th>\n",
       "      <th>SEH1L</th>\n",
       "      <td>27.180</td>\n",
       "    </tr>\n",
       "    <tr>\n",
       "      <th>2020_01_04_10_03_Q-Exactive-HF-X-Orbitrap_6070</th>\n",
       "      <th>SLC9A3R1</th>\n",
       "      <td>30.259</td>\n",
       "    </tr>\n",
       "    <tr>\n",
       "      <th>2020_05_20_15_35_Q-Exactive-HF-X-Orbitrap_6070</th>\n",
       "      <th>KYNU</th>\n",
       "      <td>30.629</td>\n",
       "    </tr>\n",
       "    <tr>\n",
       "      <th>2020_01_03_11_17_Q-Exactive-HF-X-Orbitrap_6070</th>\n",
       "      <th>ADD3</th>\n",
       "      <td>24.541</td>\n",
       "    </tr>\n",
       "    <tr>\n",
       "      <th>2020_02_05_20_55_Q-Exactive-HF-X-Orbitrap_6070</th>\n",
       "      <th>CALM2;CALM1</th>\n",
       "      <td>33.934</td>\n",
       "    </tr>\n",
       "    <tr>\n",
       "      <th>...</th>\n",
       "      <th>...</th>\n",
       "      <td>...</td>\n",
       "    </tr>\n",
       "    <tr>\n",
       "      <th>2020_05_20_15_35_Q-Exactive-HF-X-Orbitrap_6070</th>\n",
       "      <th>PPP2R4;DKFZp781M17165</th>\n",
       "      <td>28.717</td>\n",
       "    </tr>\n",
       "    <tr>\n",
       "      <th>2020_03_11_11_25_Q-Exactive-HF-X-Orbitrap_6070</th>\n",
       "      <th>MED23</th>\n",
       "      <td>24.966</td>\n",
       "    </tr>\n",
       "    <tr>\n",
       "      <th>2020_03_07_18_15_Q-Exactive-HF-X-Orbitrap_6070</th>\n",
       "      <th>RBMXL1</th>\n",
       "      <td>26.654</td>\n",
       "    </tr>\n",
       "    <tr>\n",
       "      <th>2020_01_03_16_58_Q-Exactive-HF-X-Orbitrap_6070</th>\n",
       "      <th>SMARCA1</th>\n",
       "      <td>27.917</td>\n",
       "    </tr>\n",
       "    <tr>\n",
       "      <th>2020_05_20_12_33_Q-Exactive-HF-X-Orbitrap_6070</th>\n",
       "      <th>RGPD3;RGPD4</th>\n",
       "      <td>24.289</td>\n",
       "    </tr>\n",
       "  </tbody>\n",
       "</table>\n",
       "<p>9327 rows × 1 columns</p>\n",
       "</div>"
      ],
      "text/plain": [
       "                                                                      observed\n",
       "Sample ID                                      Gene Names                     \n",
       "2020_01_15_13_56_Q-Exactive-HF-X-Orbitrap_6070 SEH1L                    27.180\n",
       "2020_01_04_10_03_Q-Exactive-HF-X-Orbitrap_6070 SLC9A3R1                 30.259\n",
       "2020_05_20_15_35_Q-Exactive-HF-X-Orbitrap_6070 KYNU                     30.629\n",
       "2020_01_03_11_17_Q-Exactive-HF-X-Orbitrap_6070 ADD3                     24.541\n",
       "2020_02_05_20_55_Q-Exactive-HF-X-Orbitrap_6070 CALM2;CALM1              33.934\n",
       "...                                                                        ...\n",
       "2020_05_20_15_35_Q-Exactive-HF-X-Orbitrap_6070 PPP2R4;DKFZp781M17165    28.717\n",
       "2020_03_11_11_25_Q-Exactive-HF-X-Orbitrap_6070 MED23                    24.966\n",
       "2020_03_07_18_15_Q-Exactive-HF-X-Orbitrap_6070 RBMXL1                   26.654\n",
       "2020_01_03_16_58_Q-Exactive-HF-X-Orbitrap_6070 SMARCA1                  27.917\n",
       "2020_05_20_12_33_Q-Exactive-HF-X-Orbitrap_6070 RGPD3;RGPD4              24.289\n",
       "\n",
       "[9327 rows x 1 columns]"
      ]
     },
     "execution_count": 8,
     "metadata": {},
     "output_type": "execute_result"
    }
   ],
   "source": [
    "val_pred_fake_na = data.val_y.to_frame(name='observed')\n",
    "val_pred_fake_na"
   ]
  },
  {
   "cell_type": "code",
   "execution_count": 9,
   "id": "514d193f",
   "metadata": {
    "execution": {
     "iopub.execute_input": "2024-05-06T09:33:17.398049Z",
     "iopub.status.busy": "2024-05-06T09:33:17.397698Z",
     "iopub.status.idle": "2024-05-06T09:33:17.405572Z",
     "shell.execute_reply": "2024-05-06T09:33:17.405061Z"
    },
    "papermill": {
     "duration": 0.01291,
     "end_time": "2024-05-06T09:33:17.406747",
     "exception": false,
     "start_time": "2024-05-06T09:33:17.393837",
     "status": "completed"
    },
    "tags": []
   },
   "outputs": [
    {
     "data": {
      "text/html": [
       "<div>\n",
       "<style scoped>\n",
       "    .dataframe tbody tr th:only-of-type {\n",
       "        vertical-align: middle;\n",
       "    }\n",
       "\n",
       "    .dataframe tbody tr th {\n",
       "        vertical-align: top;\n",
       "    }\n",
       "\n",
       "    .dataframe thead th {\n",
       "        text-align: right;\n",
       "    }\n",
       "</style>\n",
       "<table border=\"1\" class=\"dataframe\">\n",
       "  <thead>\n",
       "    <tr style=\"text-align: right;\">\n",
       "      <th></th>\n",
       "      <th>observed</th>\n",
       "    </tr>\n",
       "  </thead>\n",
       "  <tbody>\n",
       "    <tr>\n",
       "      <th>count</th>\n",
       "      <td>9,327.000</td>\n",
       "    </tr>\n",
       "    <tr>\n",
       "      <th>mean</th>\n",
       "      <td>27.230</td>\n",
       "    </tr>\n",
       "    <tr>\n",
       "      <th>std</th>\n",
       "      <td>2.888</td>\n",
       "    </tr>\n",
       "    <tr>\n",
       "      <th>min</th>\n",
       "      <td>19.974</td>\n",
       "    </tr>\n",
       "    <tr>\n",
       "      <th>25%</th>\n",
       "      <td>24.905</td>\n",
       "    </tr>\n",
       "    <tr>\n",
       "      <th>50%</th>\n",
       "      <td>26.929</td>\n",
       "    </tr>\n",
       "    <tr>\n",
       "      <th>75%</th>\n",
       "      <td>29.174</td>\n",
       "    </tr>\n",
       "    <tr>\n",
       "      <th>max</th>\n",
       "      <td>37.689</td>\n",
       "    </tr>\n",
       "  </tbody>\n",
       "</table>\n",
       "</div>"
      ],
      "text/plain": [
       "       observed\n",
       "count 9,327.000\n",
       "mean     27.230\n",
       "std       2.888\n",
       "min      19.974\n",
       "25%      24.905\n",
       "50%      26.929\n",
       "75%      29.174\n",
       "max      37.689"
      ]
     },
     "execution_count": 9,
     "metadata": {},
     "output_type": "execute_result"
    }
   ],
   "source": [
    "test_pred_fake_na = data.test_y.to_frame(name='observed')\n",
    "test_pred_fake_na.describe()"
   ]
  },
  {
   "cell_type": "code",
   "execution_count": 10,
   "id": "204838b7",
   "metadata": {
    "execution": {
     "iopub.execute_input": "2024-05-06T09:33:17.414652Z",
     "iopub.status.busy": "2024-05-06T09:33:17.414263Z",
     "iopub.status.idle": "2024-05-06T09:33:17.416897Z",
     "shell.execute_reply": "2024-05-06T09:33:17.416413Z"
    },
    "papermill": {
     "duration": 0.007719,
     "end_time": "2024-05-06T09:33:17.417986",
     "exception": false,
     "start_time": "2024-05-06T09:33:17.410267",
     "status": "completed"
    },
    "tags": []
   },
   "outputs": [],
   "source": [
    "# Find and load prediction files, filter for validation and test data"
   ]
  },
  {
   "cell_type": "code",
   "execution_count": 11,
   "id": "c06dcd14",
   "metadata": {
    "execution": {
     "iopub.execute_input": "2024-05-06T09:33:17.425483Z",
     "iopub.status.busy": "2024-05-06T09:33:17.425312Z",
     "iopub.status.idle": "2024-05-06T09:33:17.430366Z",
     "shell.execute_reply": "2024-05-06T09:33:17.429772Z"
    },
    "papermill": {
     "duration": 0.010213,
     "end_time": "2024-05-06T09:33:17.431582",
     "exception": false,
     "start_time": "2024-05-06T09:33:17.421369",
     "status": "completed"
    },
    "tags": []
   },
   "outputs": [
    {
     "data": {
      "text/plain": [
       "[Path('runs/dev_dataset_small/proteinGroups_N50/preds/pred_all_BPCA.csv'),\n",
       " Path('runs/dev_dataset_small/proteinGroups_N50/preds/pred_all_COLMEDIAN.csv'),\n",
       " Path('runs/dev_dataset_small/proteinGroups_N50/preds/pred_all_IMPSEQ.csv'),\n",
       " Path('runs/dev_dataset_small/proteinGroups_N50/preds/pred_all_IMPSEQROB.csv'),\n",
       " Path('runs/dev_dataset_small/proteinGroups_N50/preds/pred_all_IRM.csv'),\n",
       " Path('runs/dev_dataset_small/proteinGroups_N50/preds/pred_all_KNN_IMPUTE.csv'),\n",
       " Path('runs/dev_dataset_small/proteinGroups_N50/preds/pred_all_LLS.csv'),\n",
       " Path('runs/dev_dataset_small/proteinGroups_N50/preds/pred_all_MICE-CART.csv'),\n",
       " Path('runs/dev_dataset_small/proteinGroups_N50/preds/pred_all_MICE-NORM.csv'),\n",
       " Path('runs/dev_dataset_small/proteinGroups_N50/preds/pred_all_MINDET.csv'),\n",
       " Path('runs/dev_dataset_small/proteinGroups_N50/preds/pred_all_MINIMUM.csv'),\n",
       " Path('runs/dev_dataset_small/proteinGroups_N50/preds/pred_all_MINPROB.csv'),\n",
       " Path('runs/dev_dataset_small/proteinGroups_N50/preds/pred_all_MLE.csv'),\n",
       " Path('runs/dev_dataset_small/proteinGroups_N50/preds/pred_all_MSIMPUTE.csv'),\n",
       " Path('runs/dev_dataset_small/proteinGroups_N50/preds/pred_all_PI.csv'),\n",
       " Path('runs/dev_dataset_small/proteinGroups_N50/preds/pred_all_QRILC.csv'),\n",
       " Path('runs/dev_dataset_small/proteinGroups_N50/preds/pred_all_RF.csv'),\n",
       " Path('runs/dev_dataset_small/proteinGroups_N50/preds/pred_all_ROWMEDIAN.csv'),\n",
       " Path('runs/dev_dataset_small/proteinGroups_N50/preds/pred_all_SEQKNN.csv'),\n",
       " Path('runs/dev_dataset_small/proteinGroups_N50/preds/pred_all_SVDMETHOD.csv'),\n",
       " Path('runs/dev_dataset_small/proteinGroups_N50/preds/pred_all_TRKNN.csv'),\n",
       " Path('runs/dev_dataset_small/proteinGroups_N50/preds/pred_all_ZERO.csv')]"
      ]
     },
     "execution_count": 11,
     "metadata": {},
     "output_type": "execute_result"
    }
   ],
   "source": [
    "if args.dumps is not None:\n",
    "    entire_pred = [Path(s) for s in args.dumps.split(',')]\n",
    "else:\n",
    "    entire_pred = list(file for file in args.out_preds.iterdir()\n",
    "                       if '_all_' in str(file))\n",
    "entire_pred"
   ]
  },
  {
   "cell_type": "code",
   "execution_count": 12,
   "id": "4a9e66bc",
   "metadata": {
    "execution": {
     "iopub.execute_input": "2024-05-06T09:33:17.439592Z",
     "iopub.status.busy": "2024-05-06T09:33:17.439119Z",
     "iopub.status.idle": "2024-05-06T09:33:23.421928Z",
     "shell.execute_reply": "2024-05-06T09:33:23.421429Z"
    },
    "lines_to_next_cell": 0,
    "papermill": {
     "duration": 5.988026,
     "end_time": "2024-05-06T09:33:23.423048",
     "exception": false,
     "start_time": "2024-05-06T09:33:17.435022",
     "status": "completed"
    },
    "tags": []
   },
   "outputs": [
    {
     "name": "stdout",
     "output_type": "stream",
     "text": [
      "vaep - INFO     Load fpath = Path('runs/dev_dataset_small/proteinGroups_N50/preds/pred_all_BPCA.csv')\n"
     ]
    },
    {
     "name": "stdout",
     "output_type": "stream",
     "text": [
      "vaep - INFO     Save fname = Path('runs/dev_dataset_small/proteinGroups_N50/preds/pred_val_BPCA.csv')\n"
     ]
    },
    {
     "name": "stdout",
     "output_type": "stream",
     "text": [
      "vaep - INFO     Save fname = Path('runs/dev_dataset_small/proteinGroups_N50/preds/pred_test_BPCA.csv')\n"
     ]
    },
    {
     "name": "stdout",
     "output_type": "stream",
     "text": [
      "vaep - INFO     Save fname = Path('runs/dev_dataset_small/proteinGroups_N50/preds/pred_real_na_BPCA.csv')\n"
     ]
    },
    {
     "name": "stdout",
     "output_type": "stream",
     "text": [
      "vaep - INFO     Load fpath = Path('runs/dev_dataset_small/proteinGroups_N50/preds/pred_all_COLMEDIAN.csv')\n"
     ]
    },
    {
     "name": "stdout",
     "output_type": "stream",
     "text": [
      "vaep - INFO     Save fname = Path('runs/dev_dataset_small/proteinGroups_N50/preds/pred_val_COLMEDIAN.csv')\n"
     ]
    },
    {
     "name": "stdout",
     "output_type": "stream",
     "text": [
      "vaep - INFO     Save fname = Path('runs/dev_dataset_small/proteinGroups_N50/preds/pred_test_COLMEDIAN.csv')\n"
     ]
    },
    {
     "name": "stdout",
     "output_type": "stream",
     "text": [
      "vaep - INFO     Save fname = Path('runs/dev_dataset_small/proteinGroups_N50/preds/pred_real_na_COLMEDIAN.csv')\n"
     ]
    },
    {
     "name": "stdout",
     "output_type": "stream",
     "text": [
      "vaep - INFO     Load fpath = Path('runs/dev_dataset_small/proteinGroups_N50/preds/pred_all_IMPSEQ.csv')\n"
     ]
    },
    {
     "name": "stdout",
     "output_type": "stream",
     "text": [
      "vaep - INFO     Save fname = Path('runs/dev_dataset_small/proteinGroups_N50/preds/pred_val_IMPSEQ.csv')\n"
     ]
    },
    {
     "name": "stdout",
     "output_type": "stream",
     "text": [
      "vaep - INFO     Save fname = Path('runs/dev_dataset_small/proteinGroups_N50/preds/pred_test_IMPSEQ.csv')\n"
     ]
    },
    {
     "name": "stdout",
     "output_type": "stream",
     "text": [
      "vaep - INFO     Save fname = Path('runs/dev_dataset_small/proteinGroups_N50/preds/pred_real_na_IMPSEQ.csv')\n"
     ]
    },
    {
     "name": "stdout",
     "output_type": "stream",
     "text": [
      "vaep - INFO     Load fpath = Path('runs/dev_dataset_small/proteinGroups_N50/preds/pred_all_IMPSEQROB.csv')\n"
     ]
    },
    {
     "name": "stdout",
     "output_type": "stream",
     "text": [
      "vaep - INFO     Save fname = Path('runs/dev_dataset_small/proteinGroups_N50/preds/pred_val_IMPSEQROB.csv')\n"
     ]
    },
    {
     "name": "stdout",
     "output_type": "stream",
     "text": [
      "vaep - INFO     Save fname = Path('runs/dev_dataset_small/proteinGroups_N50/preds/pred_test_IMPSEQROB.csv')\n"
     ]
    },
    {
     "name": "stdout",
     "output_type": "stream",
     "text": [
      "vaep - INFO     Save fname = Path('runs/dev_dataset_small/proteinGroups_N50/preds/pred_real_na_IMPSEQROB.csv')\n"
     ]
    },
    {
     "name": "stdout",
     "output_type": "stream",
     "text": [
      "vaep - INFO     Load fpath = Path('runs/dev_dataset_small/proteinGroups_N50/preds/pred_all_IRM.csv')\n"
     ]
    },
    {
     "name": "stdout",
     "output_type": "stream",
     "text": [
      "vaep - INFO     Save fname = Path('runs/dev_dataset_small/proteinGroups_N50/preds/pred_val_IRM.csv')\n"
     ]
    },
    {
     "name": "stdout",
     "output_type": "stream",
     "text": [
      "vaep - INFO     Save fname = Path('runs/dev_dataset_small/proteinGroups_N50/preds/pred_test_IRM.csv')\n"
     ]
    },
    {
     "name": "stdout",
     "output_type": "stream",
     "text": [
      "vaep - INFO     Save fname = Path('runs/dev_dataset_small/proteinGroups_N50/preds/pred_real_na_IRM.csv')\n"
     ]
    },
    {
     "name": "stdout",
     "output_type": "stream",
     "text": [
      "vaep - INFO     Load fpath = Path('runs/dev_dataset_small/proteinGroups_N50/preds/pred_all_KNN_IMPUTE.csv')\n"
     ]
    },
    {
     "name": "stdout",
     "output_type": "stream",
     "text": [
      "vaep - INFO     Save fname = Path('runs/dev_dataset_small/proteinGroups_N50/preds/pred_val_KNN_IMPUTE.csv')\n"
     ]
    },
    {
     "name": "stdout",
     "output_type": "stream",
     "text": [
      "vaep - INFO     Save fname = Path('runs/dev_dataset_small/proteinGroups_N50/preds/pred_test_KNN_IMPUTE.csv')\n"
     ]
    },
    {
     "name": "stdout",
     "output_type": "stream",
     "text": [
      "vaep - INFO     Save fname = Path('runs/dev_dataset_small/proteinGroups_N50/preds/pred_real_na_KNN_IMPUTE.csv')\n"
     ]
    },
    {
     "name": "stdout",
     "output_type": "stream",
     "text": [
      "vaep - INFO     Load fpath = Path('runs/dev_dataset_small/proteinGroups_N50/preds/pred_all_LLS.csv')\n"
     ]
    },
    {
     "name": "stdout",
     "output_type": "stream",
     "text": [
      "vaep - INFO     Save fname = Path('runs/dev_dataset_small/proteinGroups_N50/preds/pred_val_LLS.csv')\n"
     ]
    },
    {
     "name": "stdout",
     "output_type": "stream",
     "text": [
      "vaep - INFO     Save fname = Path('runs/dev_dataset_small/proteinGroups_N50/preds/pred_test_LLS.csv')\n"
     ]
    },
    {
     "name": "stdout",
     "output_type": "stream",
     "text": [
      "vaep - INFO     Save fname = Path('runs/dev_dataset_small/proteinGroups_N50/preds/pred_real_na_LLS.csv')\n"
     ]
    },
    {
     "name": "stdout",
     "output_type": "stream",
     "text": [
      "vaep - INFO     Load fpath = Path('runs/dev_dataset_small/proteinGroups_N50/preds/pred_all_MICE-CART.csv')\n"
     ]
    },
    {
     "name": "stdout",
     "output_type": "stream",
     "text": [
      "vaep - INFO     Save fname = Path('runs/dev_dataset_small/proteinGroups_N50/preds/pred_val_MICE-CART.csv')\n"
     ]
    },
    {
     "name": "stdout",
     "output_type": "stream",
     "text": [
      "vaep - INFO     Save fname = Path('runs/dev_dataset_small/proteinGroups_N50/preds/pred_test_MICE-CART.csv')\n"
     ]
    },
    {
     "name": "stdout",
     "output_type": "stream",
     "text": [
      "vaep - INFO     Save fname = Path('runs/dev_dataset_small/proteinGroups_N50/preds/pred_real_na_MICE-CART.csv')\n"
     ]
    },
    {
     "name": "stdout",
     "output_type": "stream",
     "text": [
      "vaep - INFO     Load fpath = Path('runs/dev_dataset_small/proteinGroups_N50/preds/pred_all_MICE-NORM.csv')\n"
     ]
    },
    {
     "name": "stdout",
     "output_type": "stream",
     "text": [
      "vaep - INFO     Save fname = Path('runs/dev_dataset_small/proteinGroups_N50/preds/pred_val_MICE-NORM.csv')\n"
     ]
    },
    {
     "name": "stdout",
     "output_type": "stream",
     "text": [
      "vaep - INFO     Save fname = Path('runs/dev_dataset_small/proteinGroups_N50/preds/pred_test_MICE-NORM.csv')\n"
     ]
    },
    {
     "name": "stdout",
     "output_type": "stream",
     "text": [
      "vaep - INFO     Save fname = Path('runs/dev_dataset_small/proteinGroups_N50/preds/pred_real_na_MICE-NORM.csv')\n"
     ]
    },
    {
     "name": "stdout",
     "output_type": "stream",
     "text": [
      "vaep - INFO     Load fpath = Path('runs/dev_dataset_small/proteinGroups_N50/preds/pred_all_MINDET.csv')\n"
     ]
    },
    {
     "name": "stdout",
     "output_type": "stream",
     "text": [
      "vaep - INFO     Save fname = Path('runs/dev_dataset_small/proteinGroups_N50/preds/pred_val_MINDET.csv')\n"
     ]
    },
    {
     "name": "stdout",
     "output_type": "stream",
     "text": [
      "vaep - INFO     Save fname = Path('runs/dev_dataset_small/proteinGroups_N50/preds/pred_test_MINDET.csv')\n"
     ]
    },
    {
     "name": "stdout",
     "output_type": "stream",
     "text": [
      "vaep - INFO     Save fname = Path('runs/dev_dataset_small/proteinGroups_N50/preds/pred_real_na_MINDET.csv')\n"
     ]
    },
    {
     "name": "stdout",
     "output_type": "stream",
     "text": [
      "vaep - INFO     Load fpath = Path('runs/dev_dataset_small/proteinGroups_N50/preds/pred_all_MINIMUM.csv')\n"
     ]
    },
    {
     "name": "stdout",
     "output_type": "stream",
     "text": [
      "vaep - INFO     Save fname = Path('runs/dev_dataset_small/proteinGroups_N50/preds/pred_val_MINIMUM.csv')\n"
     ]
    },
    {
     "name": "stdout",
     "output_type": "stream",
     "text": [
      "vaep - INFO     Save fname = Path('runs/dev_dataset_small/proteinGroups_N50/preds/pred_test_MINIMUM.csv')\n"
     ]
    },
    {
     "name": "stdout",
     "output_type": "stream",
     "text": [
      "vaep - INFO     Save fname = Path('runs/dev_dataset_small/proteinGroups_N50/preds/pred_real_na_MINIMUM.csv')\n"
     ]
    },
    {
     "name": "stdout",
     "output_type": "stream",
     "text": [
      "vaep - INFO     Load fpath = Path('runs/dev_dataset_small/proteinGroups_N50/preds/pred_all_MINPROB.csv')\n"
     ]
    },
    {
     "name": "stdout",
     "output_type": "stream",
     "text": [
      "vaep - INFO     Save fname = Path('runs/dev_dataset_small/proteinGroups_N50/preds/pred_val_MINPROB.csv')\n"
     ]
    },
    {
     "name": "stdout",
     "output_type": "stream",
     "text": [
      "vaep - INFO     Save fname = Path('runs/dev_dataset_small/proteinGroups_N50/preds/pred_test_MINPROB.csv')\n"
     ]
    },
    {
     "name": "stdout",
     "output_type": "stream",
     "text": [
      "vaep - INFO     Save fname = Path('runs/dev_dataset_small/proteinGroups_N50/preds/pred_real_na_MINPROB.csv')\n"
     ]
    },
    {
     "name": "stdout",
     "output_type": "stream",
     "text": [
      "vaep - INFO     Load fpath = Path('runs/dev_dataset_small/proteinGroups_N50/preds/pred_all_MLE.csv')\n"
     ]
    },
    {
     "name": "stdout",
     "output_type": "stream",
     "text": [
      "vaep - INFO     Save fname = Path('runs/dev_dataset_small/proteinGroups_N50/preds/pred_val_MLE.csv')\n"
     ]
    },
    {
     "name": "stdout",
     "output_type": "stream",
     "text": [
      "vaep - INFO     Save fname = Path('runs/dev_dataset_small/proteinGroups_N50/preds/pred_test_MLE.csv')\n"
     ]
    },
    {
     "name": "stdout",
     "output_type": "stream",
     "text": [
      "vaep - INFO     Save fname = Path('runs/dev_dataset_small/proteinGroups_N50/preds/pred_real_na_MLE.csv')\n"
     ]
    },
    {
     "name": "stdout",
     "output_type": "stream",
     "text": [
      "vaep - INFO     Load fpath = Path('runs/dev_dataset_small/proteinGroups_N50/preds/pred_all_MSIMPUTE.csv')\n"
     ]
    },
    {
     "name": "stdout",
     "output_type": "stream",
     "text": [
      "vaep - INFO     Save fname = Path('runs/dev_dataset_small/proteinGroups_N50/preds/pred_val_MSIMPUTE.csv')\n"
     ]
    },
    {
     "name": "stdout",
     "output_type": "stream",
     "text": [
      "vaep - INFO     Save fname = Path('runs/dev_dataset_small/proteinGroups_N50/preds/pred_test_MSIMPUTE.csv')\n"
     ]
    },
    {
     "name": "stdout",
     "output_type": "stream",
     "text": [
      "vaep - INFO     Save fname = Path('runs/dev_dataset_small/proteinGroups_N50/preds/pred_real_na_MSIMPUTE.csv')\n"
     ]
    },
    {
     "name": "stdout",
     "output_type": "stream",
     "text": [
      "vaep - INFO     Load fpath = Path('runs/dev_dataset_small/proteinGroups_N50/preds/pred_all_PI.csv')\n"
     ]
    },
    {
     "name": "stdout",
     "output_type": "stream",
     "text": [
      "vaep - INFO     Save fname = Path('runs/dev_dataset_small/proteinGroups_N50/preds/pred_val_PI.csv')\n"
     ]
    },
    {
     "name": "stdout",
     "output_type": "stream",
     "text": [
      "vaep - INFO     Save fname = Path('runs/dev_dataset_small/proteinGroups_N50/preds/pred_test_PI.csv')\n"
     ]
    },
    {
     "name": "stdout",
     "output_type": "stream",
     "text": [
      "vaep - INFO     Save fname = Path('runs/dev_dataset_small/proteinGroups_N50/preds/pred_real_na_PI.csv')\n"
     ]
    },
    {
     "name": "stdout",
     "output_type": "stream",
     "text": [
      "vaep - INFO     Load fpath = Path('runs/dev_dataset_small/proteinGroups_N50/preds/pred_all_QRILC.csv')\n"
     ]
    },
    {
     "name": "stdout",
     "output_type": "stream",
     "text": [
      "vaep - INFO     Save fname = Path('runs/dev_dataset_small/proteinGroups_N50/preds/pred_val_QRILC.csv')\n"
     ]
    },
    {
     "name": "stdout",
     "output_type": "stream",
     "text": [
      "vaep - INFO     Save fname = Path('runs/dev_dataset_small/proteinGroups_N50/preds/pred_test_QRILC.csv')\n"
     ]
    },
    {
     "name": "stdout",
     "output_type": "stream",
     "text": [
      "vaep - INFO     Save fname = Path('runs/dev_dataset_small/proteinGroups_N50/preds/pred_real_na_QRILC.csv')\n"
     ]
    },
    {
     "name": "stdout",
     "output_type": "stream",
     "text": [
      "vaep - INFO     Load fpath = Path('runs/dev_dataset_small/proteinGroups_N50/preds/pred_all_RF.csv')\n"
     ]
    },
    {
     "name": "stdout",
     "output_type": "stream",
     "text": [
      "vaep - INFO     Save fname = Path('runs/dev_dataset_small/proteinGroups_N50/preds/pred_val_RF.csv')\n"
     ]
    },
    {
     "name": "stdout",
     "output_type": "stream",
     "text": [
      "vaep - INFO     Save fname = Path('runs/dev_dataset_small/proteinGroups_N50/preds/pred_test_RF.csv')\n"
     ]
    },
    {
     "name": "stdout",
     "output_type": "stream",
     "text": [
      "vaep - INFO     Save fname = Path('runs/dev_dataset_small/proteinGroups_N50/preds/pred_real_na_RF.csv')\n"
     ]
    },
    {
     "name": "stdout",
     "output_type": "stream",
     "text": [
      "vaep - INFO     Load fpath = Path('runs/dev_dataset_small/proteinGroups_N50/preds/pred_all_ROWMEDIAN.csv')\n"
     ]
    },
    {
     "name": "stdout",
     "output_type": "stream",
     "text": [
      "vaep - INFO     Save fname = Path('runs/dev_dataset_small/proteinGroups_N50/preds/pred_val_ROWMEDIAN.csv')\n"
     ]
    },
    {
     "name": "stdout",
     "output_type": "stream",
     "text": [
      "vaep - INFO     Save fname = Path('runs/dev_dataset_small/proteinGroups_N50/preds/pred_test_ROWMEDIAN.csv')\n"
     ]
    },
    {
     "name": "stdout",
     "output_type": "stream",
     "text": [
      "vaep - INFO     Save fname = Path('runs/dev_dataset_small/proteinGroups_N50/preds/pred_real_na_ROWMEDIAN.csv')\n"
     ]
    },
    {
     "name": "stdout",
     "output_type": "stream",
     "text": [
      "vaep - INFO     Load fpath = Path('runs/dev_dataset_small/proteinGroups_N50/preds/pred_all_SEQKNN.csv')\n"
     ]
    },
    {
     "name": "stdout",
     "output_type": "stream",
     "text": [
      "vaep - INFO     Save fname = Path('runs/dev_dataset_small/proteinGroups_N50/preds/pred_val_SEQKNN.csv')\n"
     ]
    },
    {
     "name": "stdout",
     "output_type": "stream",
     "text": [
      "vaep - INFO     Save fname = Path('runs/dev_dataset_small/proteinGroups_N50/preds/pred_test_SEQKNN.csv')\n"
     ]
    },
    {
     "name": "stdout",
     "output_type": "stream",
     "text": [
      "vaep - INFO     Save fname = Path('runs/dev_dataset_small/proteinGroups_N50/preds/pred_real_na_SEQKNN.csv')\n"
     ]
    },
    {
     "name": "stdout",
     "output_type": "stream",
     "text": [
      "vaep - INFO     Load fpath = Path('runs/dev_dataset_small/proteinGroups_N50/preds/pred_all_SVDMETHOD.csv')\n"
     ]
    },
    {
     "name": "stdout",
     "output_type": "stream",
     "text": [
      "vaep - INFO     Save fname = Path('runs/dev_dataset_small/proteinGroups_N50/preds/pred_val_SVDMETHOD.csv')\n"
     ]
    },
    {
     "name": "stdout",
     "output_type": "stream",
     "text": [
      "vaep - INFO     Save fname = Path('runs/dev_dataset_small/proteinGroups_N50/preds/pred_test_SVDMETHOD.csv')\n"
     ]
    },
    {
     "name": "stdout",
     "output_type": "stream",
     "text": [
      "vaep - INFO     Save fname = Path('runs/dev_dataset_small/proteinGroups_N50/preds/pred_real_na_SVDMETHOD.csv')\n"
     ]
    },
    {
     "name": "stdout",
     "output_type": "stream",
     "text": [
      "vaep - INFO     Load fpath = Path('runs/dev_dataset_small/proteinGroups_N50/preds/pred_all_TRKNN.csv')\n"
     ]
    },
    {
     "name": "stdout",
     "output_type": "stream",
     "text": [
      "vaep - INFO     Save fname = Path('runs/dev_dataset_small/proteinGroups_N50/preds/pred_val_TRKNN.csv')\n"
     ]
    },
    {
     "name": "stdout",
     "output_type": "stream",
     "text": [
      "vaep - INFO     Save fname = Path('runs/dev_dataset_small/proteinGroups_N50/preds/pred_test_TRKNN.csv')\n"
     ]
    },
    {
     "name": "stdout",
     "output_type": "stream",
     "text": [
      "vaep - INFO     Save fname = Path('runs/dev_dataset_small/proteinGroups_N50/preds/pred_real_na_TRKNN.csv')\n"
     ]
    },
    {
     "name": "stdout",
     "output_type": "stream",
     "text": [
      "vaep - INFO     Load fpath = Path('runs/dev_dataset_small/proteinGroups_N50/preds/pred_all_ZERO.csv')\n"
     ]
    },
    {
     "name": "stdout",
     "output_type": "stream",
     "text": [
      "vaep - INFO     Save fname = Path('runs/dev_dataset_small/proteinGroups_N50/preds/pred_val_ZERO.csv')\n"
     ]
    },
    {
     "name": "stdout",
     "output_type": "stream",
     "text": [
      "vaep - INFO     Save fname = Path('runs/dev_dataset_small/proteinGroups_N50/preds/pred_test_ZERO.csv')\n"
     ]
    },
    {
     "name": "stdout",
     "output_type": "stream",
     "text": [
      "vaep - INFO     Save fname = Path('runs/dev_dataset_small/proteinGroups_N50/preds/pred_real_na_ZERO.csv')\n"
     ]
    }
   ],
   "source": [
    "mask = data.train_X.unstack().isna().stack()\n",
    "idx_real_na = mask.index[mask]\n",
    "idx_real_na = (idx_real_na\n",
    "               .drop(val_pred_fake_na.index)\n",
    "               .drop(test_pred_fake_na.index))\n",
    "\n",
    "for fpath in entire_pred:\n",
    "    logger.info(f\"Load {fpath = }\")\n",
    "    col_name = fpath.stem.split('_all_')[-1]\n",
    "    pred = pd.read_csv(fpath, index_col=[1, 0])\n",
    "    val_pred_fake_na[col_name] = pred\n",
    "    fname = args.out_preds / f'pred_val_{col_name}.csv'\n",
    "    files_out[fname.name] = fname.as_posix()\n",
    "    val_pred_fake_na[['observed', col_name]].to_csv(fname)\n",
    "    logger.info(f\"Save {fname = }\")\n",
    "\n",
    "    test_pred_fake_na[col_name] = pred\n",
    "    fname = args.out_preds / f'pred_test_{col_name}.csv'\n",
    "    files_out[fname.name] = fname.as_posix()\n",
    "    test_pred_fake_na[['observed', col_name]].to_csv(fname)\n",
    "    logger.info(f\"Save {fname = }\")\n",
    "    # hacky, but works:\n",
    "    pred_real_na = (pd.Series(0, index=idx_real_na, name='placeholder')\n",
    "                    .to_frame()\n",
    "                    .join(pred, how='left')\n",
    "                    .drop('placeholder', axis=1))\n",
    "    # pred_real_na.name = 'intensity'\n",
    "    fname = args.out_preds / f'pred_real_na_{col_name}.csv'\n",
    "    files_out[fname.name] = fname.as_posix()\n",
    "    pred_real_na.to_csv(fname)\n",
    "    logger.info(f\"Save {fname = }\")\n",
    "\n",
    "# del pred"
   ]
  },
  {
   "cell_type": "code",
   "execution_count": 13,
   "id": "72adc8ec",
   "metadata": {
    "execution": {
     "iopub.execute_input": "2024-05-06T09:33:23.437476Z",
     "iopub.status.busy": "2024-05-06T09:33:23.437110Z",
     "iopub.status.idle": "2024-05-06T09:33:23.453014Z",
     "shell.execute_reply": "2024-05-06T09:33:23.452453Z"
    },
    "papermill": {
     "duration": 0.024164,
     "end_time": "2024-05-06T09:33:23.454144",
     "exception": false,
     "start_time": "2024-05-06T09:33:23.429980",
     "status": "completed"
    },
    "tags": []
   },
   "outputs": [
    {
     "data": {
      "text/html": [
       "<div>\n",
       "<style scoped>\n",
       "    .dataframe tbody tr th:only-of-type {\n",
       "        vertical-align: middle;\n",
       "    }\n",
       "\n",
       "    .dataframe tbody tr th {\n",
       "        vertical-align: top;\n",
       "    }\n",
       "\n",
       "    .dataframe thead th {\n",
       "        text-align: right;\n",
       "    }\n",
       "</style>\n",
       "<table border=\"1\" class=\"dataframe\">\n",
       "  <thead>\n",
       "    <tr style=\"text-align: right;\">\n",
       "      <th></th>\n",
       "      <th></th>\n",
       "      <th>observed</th>\n",
       "      <th>BPCA</th>\n",
       "      <th>COLMEDIAN</th>\n",
       "      <th>IMPSEQ</th>\n",
       "      <th>IMPSEQROB</th>\n",
       "      <th>IRM</th>\n",
       "      <th>KNN_IMPUTE</th>\n",
       "      <th>LLS</th>\n",
       "      <th>MICE-CART</th>\n",
       "      <th>MICE-NORM</th>\n",
       "      <th>...</th>\n",
       "      <th>MLE</th>\n",
       "      <th>MSIMPUTE</th>\n",
       "      <th>PI</th>\n",
       "      <th>QRILC</th>\n",
       "      <th>RF</th>\n",
       "      <th>ROWMEDIAN</th>\n",
       "      <th>SEQKNN</th>\n",
       "      <th>SVDMETHOD</th>\n",
       "      <th>TRKNN</th>\n",
       "      <th>ZERO</th>\n",
       "    </tr>\n",
       "    <tr>\n",
       "      <th>Sample ID</th>\n",
       "      <th>Gene Names</th>\n",
       "      <th></th>\n",
       "      <th></th>\n",
       "      <th></th>\n",
       "      <th></th>\n",
       "      <th></th>\n",
       "      <th></th>\n",
       "      <th></th>\n",
       "      <th></th>\n",
       "      <th></th>\n",
       "      <th></th>\n",
       "      <th></th>\n",
       "      <th></th>\n",
       "      <th></th>\n",
       "      <th></th>\n",
       "      <th></th>\n",
       "      <th></th>\n",
       "      <th></th>\n",
       "      <th></th>\n",
       "      <th></th>\n",
       "      <th></th>\n",
       "      <th></th>\n",
       "    </tr>\n",
       "  </thead>\n",
       "  <tbody>\n",
       "    <tr>\n",
       "      <th>2020_01_15_13_56_Q-Exactive-HF-X-Orbitrap_6070</th>\n",
       "      <th>SEH1L</th>\n",
       "      <td>27.180</td>\n",
       "      <td>26.560</td>\n",
       "      <td>26.936</td>\n",
       "      <td>26.530</td>\n",
       "      <td>2,489.427</td>\n",
       "      <td>26.193</td>\n",
       "      <td>26.198</td>\n",
       "      <td>26.976</td>\n",
       "      <td>25.002</td>\n",
       "      <td>26.340</td>\n",
       "      <td>...</td>\n",
       "      <td>2,489.427</td>\n",
       "      <td>26.243</td>\n",
       "      <td>23.525</td>\n",
       "      <td>26.139</td>\n",
       "      <td>26.721</td>\n",
       "      <td>28.397</td>\n",
       "      <td>26.395</td>\n",
       "      <td>27.094</td>\n",
       "      <td>26.818</td>\n",
       "      <td>0</td>\n",
       "    </tr>\n",
       "    <tr>\n",
       "      <th>2020_01_04_10_03_Q-Exactive-HF-X-Orbitrap_6070</th>\n",
       "      <th>SLC9A3R1</th>\n",
       "      <td>30.259</td>\n",
       "      <td>28.092</td>\n",
       "      <td>26.764</td>\n",
       "      <td>28.323</td>\n",
       "      <td>2,655.110</td>\n",
       "      <td>27.631</td>\n",
       "      <td>27.482</td>\n",
       "      <td>27.612</td>\n",
       "      <td>27.842</td>\n",
       "      <td>28.726</td>\n",
       "      <td>...</td>\n",
       "      <td>27.270</td>\n",
       "      <td>26.741</td>\n",
       "      <td>21.566</td>\n",
       "      <td>27.784</td>\n",
       "      <td>28.852</td>\n",
       "      <td>30.188</td>\n",
       "      <td>27.484</td>\n",
       "      <td>27.021</td>\n",
       "      <td>28.079</td>\n",
       "      <td>0</td>\n",
       "    </tr>\n",
       "    <tr>\n",
       "      <th>2020_05_20_15_35_Q-Exactive-HF-X-Orbitrap_6070</th>\n",
       "      <th>KYNU</th>\n",
       "      <td>30.629</td>\n",
       "      <td>30.857</td>\n",
       "      <td>27.666</td>\n",
       "      <td>31.074</td>\n",
       "      <td>NaN</td>\n",
       "      <td>30.699</td>\n",
       "      <td>30.769</td>\n",
       "      <td>31.011</td>\n",
       "      <td>31.042</td>\n",
       "      <td>30.953</td>\n",
       "      <td>...</td>\n",
       "      <td>2,411.950</td>\n",
       "      <td>29.974</td>\n",
       "      <td>23.854</td>\n",
       "      <td>28.602</td>\n",
       "      <td>30.883</td>\n",
       "      <td>30.994</td>\n",
       "      <td>30.890</td>\n",
       "      <td>27.938</td>\n",
       "      <td>30.934</td>\n",
       "      <td>0</td>\n",
       "    </tr>\n",
       "    <tr>\n",
       "      <th>2020_01_03_11_17_Q-Exactive-HF-X-Orbitrap_6070</th>\n",
       "      <th>ADD3</th>\n",
       "      <td>24.541</td>\n",
       "      <td>26.012</td>\n",
       "      <td>27.883</td>\n",
       "      <td>26.199</td>\n",
       "      <td>NaN</td>\n",
       "      <td>25.992</td>\n",
       "      <td>25.867</td>\n",
       "      <td>26.651</td>\n",
       "      <td>25.208</td>\n",
       "      <td>26.056</td>\n",
       "      <td>...</td>\n",
       "      <td>31.437</td>\n",
       "      <td>24.470</td>\n",
       "      <td>23.185</td>\n",
       "      <td>23.494</td>\n",
       "      <td>25.711</td>\n",
       "      <td>26.171</td>\n",
       "      <td>26.139</td>\n",
       "      <td>28.211</td>\n",
       "      <td>26.198</td>\n",
       "      <td>0</td>\n",
       "    </tr>\n",
       "    <tr>\n",
       "      <th>2020_02_05_20_55_Q-Exactive-HF-X-Orbitrap_6070</th>\n",
       "      <th>CALM2;CALM1</th>\n",
       "      <td>33.934</td>\n",
       "      <td>33.543</td>\n",
       "      <td>28.877</td>\n",
       "      <td>33.720</td>\n",
       "      <td>NaN</td>\n",
       "      <td>33.908</td>\n",
       "      <td>33.929</td>\n",
       "      <td>32.876</td>\n",
       "      <td>33.767</td>\n",
       "      <td>33.854</td>\n",
       "      <td>...</td>\n",
       "      <td>2,560.813</td>\n",
       "      <td>31.476</td>\n",
       "      <td>23.559</td>\n",
       "      <td>30.839</td>\n",
       "      <td>33.451</td>\n",
       "      <td>32.923</td>\n",
       "      <td>33.711</td>\n",
       "      <td>29.077</td>\n",
       "      <td>31.534</td>\n",
       "      <td>0</td>\n",
       "    </tr>\n",
       "    <tr>\n",
       "      <th>...</th>\n",
       "      <th>...</th>\n",
       "      <td>...</td>\n",
       "      <td>...</td>\n",
       "      <td>...</td>\n",
       "      <td>...</td>\n",
       "      <td>...</td>\n",
       "      <td>...</td>\n",
       "      <td>...</td>\n",
       "      <td>...</td>\n",
       "      <td>...</td>\n",
       "      <td>...</td>\n",
       "      <td>...</td>\n",
       "      <td>...</td>\n",
       "      <td>...</td>\n",
       "      <td>...</td>\n",
       "      <td>...</td>\n",
       "      <td>...</td>\n",
       "      <td>...</td>\n",
       "      <td>...</td>\n",
       "      <td>...</td>\n",
       "      <td>...</td>\n",
       "      <td>...</td>\n",
       "    </tr>\n",
       "    <tr>\n",
       "      <th>2020_05_20_15_35_Q-Exactive-HF-X-Orbitrap_6070</th>\n",
       "      <th>PPP2R4;DKFZp781M17165</th>\n",
       "      <td>28.717</td>\n",
       "      <td>28.356</td>\n",
       "      <td>27.666</td>\n",
       "      <td>28.360</td>\n",
       "      <td>NaN</td>\n",
       "      <td>28.937</td>\n",
       "      <td>28.674</td>\n",
       "      <td>27.554</td>\n",
       "      <td>28.054</td>\n",
       "      <td>28.250</td>\n",
       "      <td>...</td>\n",
       "      <td>2,411.950</td>\n",
       "      <td>27.191</td>\n",
       "      <td>24.335</td>\n",
       "      <td>25.578</td>\n",
       "      <td>28.438</td>\n",
       "      <td>28.379</td>\n",
       "      <td>28.348</td>\n",
       "      <td>27.877</td>\n",
       "      <td>27.833</td>\n",
       "      <td>0</td>\n",
       "    </tr>\n",
       "    <tr>\n",
       "      <th>2020_03_11_11_25_Q-Exactive-HF-X-Orbitrap_6070</th>\n",
       "      <th>MED23</th>\n",
       "      <td>24.966</td>\n",
       "      <td>24.068</td>\n",
       "      <td>28.024</td>\n",
       "      <td>24.065</td>\n",
       "      <td>NaN</td>\n",
       "      <td>24.089</td>\n",
       "      <td>24.429</td>\n",
       "      <td>23.591</td>\n",
       "      <td>23.557</td>\n",
       "      <td>24.237</td>\n",
       "      <td>...</td>\n",
       "      <td>2,405.878</td>\n",
       "      <td>23.280</td>\n",
       "      <td>23.653</td>\n",
       "      <td>18.582</td>\n",
       "      <td>24.222</td>\n",
       "      <td>24.092</td>\n",
       "      <td>24.284</td>\n",
       "      <td>28.370</td>\n",
       "      <td>24.326</td>\n",
       "      <td>0</td>\n",
       "    </tr>\n",
       "    <tr>\n",
       "      <th>2020_03_07_18_15_Q-Exactive-HF-X-Orbitrap_6070</th>\n",
       "      <th>RBMXL1</th>\n",
       "      <td>26.654</td>\n",
       "      <td>25.310</td>\n",
       "      <td>27.899</td>\n",
       "      <td>25.713</td>\n",
       "      <td>NaN</td>\n",
       "      <td>25.304</td>\n",
       "      <td>24.439</td>\n",
       "      <td>25.663</td>\n",
       "      <td>25.427</td>\n",
       "      <td>25.111</td>\n",
       "      <td>...</td>\n",
       "      <td>2,561.146</td>\n",
       "      <td>23.272</td>\n",
       "      <td>23.603</td>\n",
       "      <td>22.483</td>\n",
       "      <td>24.328</td>\n",
       "      <td>24.882</td>\n",
       "      <td>24.804</td>\n",
       "      <td>28.146</td>\n",
       "      <td>24.912</td>\n",
       "      <td>0</td>\n",
       "    </tr>\n",
       "    <tr>\n",
       "      <th>2020_01_03_16_58_Q-Exactive-HF-X-Orbitrap_6070</th>\n",
       "      <th>SMARCA1</th>\n",
       "      <td>27.917</td>\n",
       "      <td>27.982</td>\n",
       "      <td>28.072</td>\n",
       "      <td>27.953</td>\n",
       "      <td>2,580.391</td>\n",
       "      <td>28.013</td>\n",
       "      <td>28.126</td>\n",
       "      <td>28.426</td>\n",
       "      <td>27.909</td>\n",
       "      <td>27.918</td>\n",
       "      <td>...</td>\n",
       "      <td>2,580.391</td>\n",
       "      <td>25.044</td>\n",
       "      <td>24.132</td>\n",
       "      <td>24.113</td>\n",
       "      <td>27.937</td>\n",
       "      <td>28.194</td>\n",
       "      <td>27.996</td>\n",
       "      <td>28.322</td>\n",
       "      <td>27.329</td>\n",
       "      <td>0</td>\n",
       "    </tr>\n",
       "    <tr>\n",
       "      <th>2020_05_20_12_33_Q-Exactive-HF-X-Orbitrap_6070</th>\n",
       "      <th>RGPD3;RGPD4</th>\n",
       "      <td>24.289</td>\n",
       "      <td>24.521</td>\n",
       "      <td>27.366</td>\n",
       "      <td>24.485</td>\n",
       "      <td>2,510.969</td>\n",
       "      <td>24.233</td>\n",
       "      <td>24.216</td>\n",
       "      <td>24.342</td>\n",
       "      <td>23.946</td>\n",
       "      <td>25.137</td>\n",
       "      <td>...</td>\n",
       "      <td>2,510.969</td>\n",
       "      <td>23.768</td>\n",
       "      <td>24.610</td>\n",
       "      <td>23.051</td>\n",
       "      <td>24.762</td>\n",
       "      <td>25.215</td>\n",
       "      <td>24.095</td>\n",
       "      <td>27.520</td>\n",
       "      <td>24.876</td>\n",
       "      <td>0</td>\n",
       "    </tr>\n",
       "  </tbody>\n",
       "</table>\n",
       "<p>9327 rows × 23 columns</p>\n",
       "</div>"
      ],
      "text/plain": [
       "                                                                      observed  \\\n",
       "Sample ID                                      Gene Names                        \n",
       "2020_01_15_13_56_Q-Exactive-HF-X-Orbitrap_6070 SEH1L                    27.180   \n",
       "2020_01_04_10_03_Q-Exactive-HF-X-Orbitrap_6070 SLC9A3R1                 30.259   \n",
       "2020_05_20_15_35_Q-Exactive-HF-X-Orbitrap_6070 KYNU                     30.629   \n",
       "2020_01_03_11_17_Q-Exactive-HF-X-Orbitrap_6070 ADD3                     24.541   \n",
       "2020_02_05_20_55_Q-Exactive-HF-X-Orbitrap_6070 CALM2;CALM1              33.934   \n",
       "...                                                                        ...   \n",
       "2020_05_20_15_35_Q-Exactive-HF-X-Orbitrap_6070 PPP2R4;DKFZp781M17165    28.717   \n",
       "2020_03_11_11_25_Q-Exactive-HF-X-Orbitrap_6070 MED23                    24.966   \n",
       "2020_03_07_18_15_Q-Exactive-HF-X-Orbitrap_6070 RBMXL1                   26.654   \n",
       "2020_01_03_16_58_Q-Exactive-HF-X-Orbitrap_6070 SMARCA1                  27.917   \n",
       "2020_05_20_12_33_Q-Exactive-HF-X-Orbitrap_6070 RGPD3;RGPD4              24.289   \n",
       "\n",
       "                                                                       BPCA  \\\n",
       "Sample ID                                      Gene Names                     \n",
       "2020_01_15_13_56_Q-Exactive-HF-X-Orbitrap_6070 SEH1L                 26.560   \n",
       "2020_01_04_10_03_Q-Exactive-HF-X-Orbitrap_6070 SLC9A3R1              28.092   \n",
       "2020_05_20_15_35_Q-Exactive-HF-X-Orbitrap_6070 KYNU                  30.857   \n",
       "2020_01_03_11_17_Q-Exactive-HF-X-Orbitrap_6070 ADD3                  26.012   \n",
       "2020_02_05_20_55_Q-Exactive-HF-X-Orbitrap_6070 CALM2;CALM1           33.543   \n",
       "...                                                                     ...   \n",
       "2020_05_20_15_35_Q-Exactive-HF-X-Orbitrap_6070 PPP2R4;DKFZp781M17165 28.356   \n",
       "2020_03_11_11_25_Q-Exactive-HF-X-Orbitrap_6070 MED23                 24.068   \n",
       "2020_03_07_18_15_Q-Exactive-HF-X-Orbitrap_6070 RBMXL1                25.310   \n",
       "2020_01_03_16_58_Q-Exactive-HF-X-Orbitrap_6070 SMARCA1               27.982   \n",
       "2020_05_20_12_33_Q-Exactive-HF-X-Orbitrap_6070 RGPD3;RGPD4           24.521   \n",
       "\n",
       "                                                                      COLMEDIAN  \\\n",
       "Sample ID                                      Gene Names                         \n",
       "2020_01_15_13_56_Q-Exactive-HF-X-Orbitrap_6070 SEH1L                     26.936   \n",
       "2020_01_04_10_03_Q-Exactive-HF-X-Orbitrap_6070 SLC9A3R1                  26.764   \n",
       "2020_05_20_15_35_Q-Exactive-HF-X-Orbitrap_6070 KYNU                      27.666   \n",
       "2020_01_03_11_17_Q-Exactive-HF-X-Orbitrap_6070 ADD3                      27.883   \n",
       "2020_02_05_20_55_Q-Exactive-HF-X-Orbitrap_6070 CALM2;CALM1               28.877   \n",
       "...                                                                         ...   \n",
       "2020_05_20_15_35_Q-Exactive-HF-X-Orbitrap_6070 PPP2R4;DKFZp781M17165     27.666   \n",
       "2020_03_11_11_25_Q-Exactive-HF-X-Orbitrap_6070 MED23                     28.024   \n",
       "2020_03_07_18_15_Q-Exactive-HF-X-Orbitrap_6070 RBMXL1                    27.899   \n",
       "2020_01_03_16_58_Q-Exactive-HF-X-Orbitrap_6070 SMARCA1                   28.072   \n",
       "2020_05_20_12_33_Q-Exactive-HF-X-Orbitrap_6070 RGPD3;RGPD4               27.366   \n",
       "\n",
       "                                                                      IMPSEQ  \\\n",
       "Sample ID                                      Gene Names                      \n",
       "2020_01_15_13_56_Q-Exactive-HF-X-Orbitrap_6070 SEH1L                  26.530   \n",
       "2020_01_04_10_03_Q-Exactive-HF-X-Orbitrap_6070 SLC9A3R1               28.323   \n",
       "2020_05_20_15_35_Q-Exactive-HF-X-Orbitrap_6070 KYNU                   31.074   \n",
       "2020_01_03_11_17_Q-Exactive-HF-X-Orbitrap_6070 ADD3                   26.199   \n",
       "2020_02_05_20_55_Q-Exactive-HF-X-Orbitrap_6070 CALM2;CALM1            33.720   \n",
       "...                                                                      ...   \n",
       "2020_05_20_15_35_Q-Exactive-HF-X-Orbitrap_6070 PPP2R4;DKFZp781M17165  28.360   \n",
       "2020_03_11_11_25_Q-Exactive-HF-X-Orbitrap_6070 MED23                  24.065   \n",
       "2020_03_07_18_15_Q-Exactive-HF-X-Orbitrap_6070 RBMXL1                 25.713   \n",
       "2020_01_03_16_58_Q-Exactive-HF-X-Orbitrap_6070 SMARCA1                27.953   \n",
       "2020_05_20_12_33_Q-Exactive-HF-X-Orbitrap_6070 RGPD3;RGPD4            24.485   \n",
       "\n",
       "                                                                      IMPSEQROB  \\\n",
       "Sample ID                                      Gene Names                         \n",
       "2020_01_15_13_56_Q-Exactive-HF-X-Orbitrap_6070 SEH1L                  2,489.427   \n",
       "2020_01_04_10_03_Q-Exactive-HF-X-Orbitrap_6070 SLC9A3R1               2,655.110   \n",
       "2020_05_20_15_35_Q-Exactive-HF-X-Orbitrap_6070 KYNU                         NaN   \n",
       "2020_01_03_11_17_Q-Exactive-HF-X-Orbitrap_6070 ADD3                         NaN   \n",
       "2020_02_05_20_55_Q-Exactive-HF-X-Orbitrap_6070 CALM2;CALM1                  NaN   \n",
       "...                                                                         ...   \n",
       "2020_05_20_15_35_Q-Exactive-HF-X-Orbitrap_6070 PPP2R4;DKFZp781M17165        NaN   \n",
       "2020_03_11_11_25_Q-Exactive-HF-X-Orbitrap_6070 MED23                        NaN   \n",
       "2020_03_07_18_15_Q-Exactive-HF-X-Orbitrap_6070 RBMXL1                       NaN   \n",
       "2020_01_03_16_58_Q-Exactive-HF-X-Orbitrap_6070 SMARCA1                2,580.391   \n",
       "2020_05_20_12_33_Q-Exactive-HF-X-Orbitrap_6070 RGPD3;RGPD4            2,510.969   \n",
       "\n",
       "                                                                        IRM  \\\n",
       "Sample ID                                      Gene Names                     \n",
       "2020_01_15_13_56_Q-Exactive-HF-X-Orbitrap_6070 SEH1L                 26.193   \n",
       "2020_01_04_10_03_Q-Exactive-HF-X-Orbitrap_6070 SLC9A3R1              27.631   \n",
       "2020_05_20_15_35_Q-Exactive-HF-X-Orbitrap_6070 KYNU                  30.699   \n",
       "2020_01_03_11_17_Q-Exactive-HF-X-Orbitrap_6070 ADD3                  25.992   \n",
       "2020_02_05_20_55_Q-Exactive-HF-X-Orbitrap_6070 CALM2;CALM1           33.908   \n",
       "...                                                                     ...   \n",
       "2020_05_20_15_35_Q-Exactive-HF-X-Orbitrap_6070 PPP2R4;DKFZp781M17165 28.937   \n",
       "2020_03_11_11_25_Q-Exactive-HF-X-Orbitrap_6070 MED23                 24.089   \n",
       "2020_03_07_18_15_Q-Exactive-HF-X-Orbitrap_6070 RBMXL1                25.304   \n",
       "2020_01_03_16_58_Q-Exactive-HF-X-Orbitrap_6070 SMARCA1               28.013   \n",
       "2020_05_20_12_33_Q-Exactive-HF-X-Orbitrap_6070 RGPD3;RGPD4           24.233   \n",
       "\n",
       "                                                                      KNN_IMPUTE  \\\n",
       "Sample ID                                      Gene Names                          \n",
       "2020_01_15_13_56_Q-Exactive-HF-X-Orbitrap_6070 SEH1L                      26.198   \n",
       "2020_01_04_10_03_Q-Exactive-HF-X-Orbitrap_6070 SLC9A3R1                   27.482   \n",
       "2020_05_20_15_35_Q-Exactive-HF-X-Orbitrap_6070 KYNU                       30.769   \n",
       "2020_01_03_11_17_Q-Exactive-HF-X-Orbitrap_6070 ADD3                       25.867   \n",
       "2020_02_05_20_55_Q-Exactive-HF-X-Orbitrap_6070 CALM2;CALM1                33.929   \n",
       "...                                                                          ...   \n",
       "2020_05_20_15_35_Q-Exactive-HF-X-Orbitrap_6070 PPP2R4;DKFZp781M17165      28.674   \n",
       "2020_03_11_11_25_Q-Exactive-HF-X-Orbitrap_6070 MED23                      24.429   \n",
       "2020_03_07_18_15_Q-Exactive-HF-X-Orbitrap_6070 RBMXL1                     24.439   \n",
       "2020_01_03_16_58_Q-Exactive-HF-X-Orbitrap_6070 SMARCA1                    28.126   \n",
       "2020_05_20_12_33_Q-Exactive-HF-X-Orbitrap_6070 RGPD3;RGPD4                24.216   \n",
       "\n",
       "                                                                        LLS  \\\n",
       "Sample ID                                      Gene Names                     \n",
       "2020_01_15_13_56_Q-Exactive-HF-X-Orbitrap_6070 SEH1L                 26.976   \n",
       "2020_01_04_10_03_Q-Exactive-HF-X-Orbitrap_6070 SLC9A3R1              27.612   \n",
       "2020_05_20_15_35_Q-Exactive-HF-X-Orbitrap_6070 KYNU                  31.011   \n",
       "2020_01_03_11_17_Q-Exactive-HF-X-Orbitrap_6070 ADD3                  26.651   \n",
       "2020_02_05_20_55_Q-Exactive-HF-X-Orbitrap_6070 CALM2;CALM1           32.876   \n",
       "...                                                                     ...   \n",
       "2020_05_20_15_35_Q-Exactive-HF-X-Orbitrap_6070 PPP2R4;DKFZp781M17165 27.554   \n",
       "2020_03_11_11_25_Q-Exactive-HF-X-Orbitrap_6070 MED23                 23.591   \n",
       "2020_03_07_18_15_Q-Exactive-HF-X-Orbitrap_6070 RBMXL1                25.663   \n",
       "2020_01_03_16_58_Q-Exactive-HF-X-Orbitrap_6070 SMARCA1               28.426   \n",
       "2020_05_20_12_33_Q-Exactive-HF-X-Orbitrap_6070 RGPD3;RGPD4           24.342   \n",
       "\n",
       "                                                                      MICE-CART  \\\n",
       "Sample ID                                      Gene Names                         \n",
       "2020_01_15_13_56_Q-Exactive-HF-X-Orbitrap_6070 SEH1L                     25.002   \n",
       "2020_01_04_10_03_Q-Exactive-HF-X-Orbitrap_6070 SLC9A3R1                  27.842   \n",
       "2020_05_20_15_35_Q-Exactive-HF-X-Orbitrap_6070 KYNU                      31.042   \n",
       "2020_01_03_11_17_Q-Exactive-HF-X-Orbitrap_6070 ADD3                      25.208   \n",
       "2020_02_05_20_55_Q-Exactive-HF-X-Orbitrap_6070 CALM2;CALM1               33.767   \n",
       "...                                                                         ...   \n",
       "2020_05_20_15_35_Q-Exactive-HF-X-Orbitrap_6070 PPP2R4;DKFZp781M17165     28.054   \n",
       "2020_03_11_11_25_Q-Exactive-HF-X-Orbitrap_6070 MED23                     23.557   \n",
       "2020_03_07_18_15_Q-Exactive-HF-X-Orbitrap_6070 RBMXL1                    25.427   \n",
       "2020_01_03_16_58_Q-Exactive-HF-X-Orbitrap_6070 SMARCA1                   27.909   \n",
       "2020_05_20_12_33_Q-Exactive-HF-X-Orbitrap_6070 RGPD3;RGPD4               23.946   \n",
       "\n",
       "                                                                      MICE-NORM  \\\n",
       "Sample ID                                      Gene Names                         \n",
       "2020_01_15_13_56_Q-Exactive-HF-X-Orbitrap_6070 SEH1L                     26.340   \n",
       "2020_01_04_10_03_Q-Exactive-HF-X-Orbitrap_6070 SLC9A3R1                  28.726   \n",
       "2020_05_20_15_35_Q-Exactive-HF-X-Orbitrap_6070 KYNU                      30.953   \n",
       "2020_01_03_11_17_Q-Exactive-HF-X-Orbitrap_6070 ADD3                      26.056   \n",
       "2020_02_05_20_55_Q-Exactive-HF-X-Orbitrap_6070 CALM2;CALM1               33.854   \n",
       "...                                                                         ...   \n",
       "2020_05_20_15_35_Q-Exactive-HF-X-Orbitrap_6070 PPP2R4;DKFZp781M17165     28.250   \n",
       "2020_03_11_11_25_Q-Exactive-HF-X-Orbitrap_6070 MED23                     24.237   \n",
       "2020_03_07_18_15_Q-Exactive-HF-X-Orbitrap_6070 RBMXL1                    25.111   \n",
       "2020_01_03_16_58_Q-Exactive-HF-X-Orbitrap_6070 SMARCA1                   27.918   \n",
       "2020_05_20_12_33_Q-Exactive-HF-X-Orbitrap_6070 RGPD3;RGPD4               25.137   \n",
       "\n",
       "                                                                      ...  \\\n",
       "Sample ID                                      Gene Names             ...   \n",
       "2020_01_15_13_56_Q-Exactive-HF-X-Orbitrap_6070 SEH1L                  ...   \n",
       "2020_01_04_10_03_Q-Exactive-HF-X-Orbitrap_6070 SLC9A3R1               ...   \n",
       "2020_05_20_15_35_Q-Exactive-HF-X-Orbitrap_6070 KYNU                   ...   \n",
       "2020_01_03_11_17_Q-Exactive-HF-X-Orbitrap_6070 ADD3                   ...   \n",
       "2020_02_05_20_55_Q-Exactive-HF-X-Orbitrap_6070 CALM2;CALM1            ...   \n",
       "...                                                                   ...   \n",
       "2020_05_20_15_35_Q-Exactive-HF-X-Orbitrap_6070 PPP2R4;DKFZp781M17165  ...   \n",
       "2020_03_11_11_25_Q-Exactive-HF-X-Orbitrap_6070 MED23                  ...   \n",
       "2020_03_07_18_15_Q-Exactive-HF-X-Orbitrap_6070 RBMXL1                 ...   \n",
       "2020_01_03_16_58_Q-Exactive-HF-X-Orbitrap_6070 SMARCA1                ...   \n",
       "2020_05_20_12_33_Q-Exactive-HF-X-Orbitrap_6070 RGPD3;RGPD4            ...   \n",
       "\n",
       "                                                                           MLE  \\\n",
       "Sample ID                                      Gene Names                        \n",
       "2020_01_15_13_56_Q-Exactive-HF-X-Orbitrap_6070 SEH1L                 2,489.427   \n",
       "2020_01_04_10_03_Q-Exactive-HF-X-Orbitrap_6070 SLC9A3R1                 27.270   \n",
       "2020_05_20_15_35_Q-Exactive-HF-X-Orbitrap_6070 KYNU                  2,411.950   \n",
       "2020_01_03_11_17_Q-Exactive-HF-X-Orbitrap_6070 ADD3                     31.437   \n",
       "2020_02_05_20_55_Q-Exactive-HF-X-Orbitrap_6070 CALM2;CALM1           2,560.813   \n",
       "...                                                                        ...   \n",
       "2020_05_20_15_35_Q-Exactive-HF-X-Orbitrap_6070 PPP2R4;DKFZp781M17165 2,411.950   \n",
       "2020_03_11_11_25_Q-Exactive-HF-X-Orbitrap_6070 MED23                 2,405.878   \n",
       "2020_03_07_18_15_Q-Exactive-HF-X-Orbitrap_6070 RBMXL1                2,561.146   \n",
       "2020_01_03_16_58_Q-Exactive-HF-X-Orbitrap_6070 SMARCA1               2,580.391   \n",
       "2020_05_20_12_33_Q-Exactive-HF-X-Orbitrap_6070 RGPD3;RGPD4           2,510.969   \n",
       "\n",
       "                                                                      MSIMPUTE  \\\n",
       "Sample ID                                      Gene Names                        \n",
       "2020_01_15_13_56_Q-Exactive-HF-X-Orbitrap_6070 SEH1L                    26.243   \n",
       "2020_01_04_10_03_Q-Exactive-HF-X-Orbitrap_6070 SLC9A3R1                 26.741   \n",
       "2020_05_20_15_35_Q-Exactive-HF-X-Orbitrap_6070 KYNU                     29.974   \n",
       "2020_01_03_11_17_Q-Exactive-HF-X-Orbitrap_6070 ADD3                     24.470   \n",
       "2020_02_05_20_55_Q-Exactive-HF-X-Orbitrap_6070 CALM2;CALM1              31.476   \n",
       "...                                                                        ...   \n",
       "2020_05_20_15_35_Q-Exactive-HF-X-Orbitrap_6070 PPP2R4;DKFZp781M17165    27.191   \n",
       "2020_03_11_11_25_Q-Exactive-HF-X-Orbitrap_6070 MED23                    23.280   \n",
       "2020_03_07_18_15_Q-Exactive-HF-X-Orbitrap_6070 RBMXL1                   23.272   \n",
       "2020_01_03_16_58_Q-Exactive-HF-X-Orbitrap_6070 SMARCA1                  25.044   \n",
       "2020_05_20_12_33_Q-Exactive-HF-X-Orbitrap_6070 RGPD3;RGPD4              23.768   \n",
       "\n",
       "                                                                         PI  \\\n",
       "Sample ID                                      Gene Names                     \n",
       "2020_01_15_13_56_Q-Exactive-HF-X-Orbitrap_6070 SEH1L                 23.525   \n",
       "2020_01_04_10_03_Q-Exactive-HF-X-Orbitrap_6070 SLC9A3R1              21.566   \n",
       "2020_05_20_15_35_Q-Exactive-HF-X-Orbitrap_6070 KYNU                  23.854   \n",
       "2020_01_03_11_17_Q-Exactive-HF-X-Orbitrap_6070 ADD3                  23.185   \n",
       "2020_02_05_20_55_Q-Exactive-HF-X-Orbitrap_6070 CALM2;CALM1           23.559   \n",
       "...                                                                     ...   \n",
       "2020_05_20_15_35_Q-Exactive-HF-X-Orbitrap_6070 PPP2R4;DKFZp781M17165 24.335   \n",
       "2020_03_11_11_25_Q-Exactive-HF-X-Orbitrap_6070 MED23                 23.653   \n",
       "2020_03_07_18_15_Q-Exactive-HF-X-Orbitrap_6070 RBMXL1                23.603   \n",
       "2020_01_03_16_58_Q-Exactive-HF-X-Orbitrap_6070 SMARCA1               24.132   \n",
       "2020_05_20_12_33_Q-Exactive-HF-X-Orbitrap_6070 RGPD3;RGPD4           24.610   \n",
       "\n",
       "                                                                      QRILC  \\\n",
       "Sample ID                                      Gene Names                     \n",
       "2020_01_15_13_56_Q-Exactive-HF-X-Orbitrap_6070 SEH1L                 26.139   \n",
       "2020_01_04_10_03_Q-Exactive-HF-X-Orbitrap_6070 SLC9A3R1              27.784   \n",
       "2020_05_20_15_35_Q-Exactive-HF-X-Orbitrap_6070 KYNU                  28.602   \n",
       "2020_01_03_11_17_Q-Exactive-HF-X-Orbitrap_6070 ADD3                  23.494   \n",
       "2020_02_05_20_55_Q-Exactive-HF-X-Orbitrap_6070 CALM2;CALM1           30.839   \n",
       "...                                                                     ...   \n",
       "2020_05_20_15_35_Q-Exactive-HF-X-Orbitrap_6070 PPP2R4;DKFZp781M17165 25.578   \n",
       "2020_03_11_11_25_Q-Exactive-HF-X-Orbitrap_6070 MED23                 18.582   \n",
       "2020_03_07_18_15_Q-Exactive-HF-X-Orbitrap_6070 RBMXL1                22.483   \n",
       "2020_01_03_16_58_Q-Exactive-HF-X-Orbitrap_6070 SMARCA1               24.113   \n",
       "2020_05_20_12_33_Q-Exactive-HF-X-Orbitrap_6070 RGPD3;RGPD4           23.051   \n",
       "\n",
       "                                                                         RF  \\\n",
       "Sample ID                                      Gene Names                     \n",
       "2020_01_15_13_56_Q-Exactive-HF-X-Orbitrap_6070 SEH1L                 26.721   \n",
       "2020_01_04_10_03_Q-Exactive-HF-X-Orbitrap_6070 SLC9A3R1              28.852   \n",
       "2020_05_20_15_35_Q-Exactive-HF-X-Orbitrap_6070 KYNU                  30.883   \n",
       "2020_01_03_11_17_Q-Exactive-HF-X-Orbitrap_6070 ADD3                  25.711   \n",
       "2020_02_05_20_55_Q-Exactive-HF-X-Orbitrap_6070 CALM2;CALM1           33.451   \n",
       "...                                                                     ...   \n",
       "2020_05_20_15_35_Q-Exactive-HF-X-Orbitrap_6070 PPP2R4;DKFZp781M17165 28.438   \n",
       "2020_03_11_11_25_Q-Exactive-HF-X-Orbitrap_6070 MED23                 24.222   \n",
       "2020_03_07_18_15_Q-Exactive-HF-X-Orbitrap_6070 RBMXL1                24.328   \n",
       "2020_01_03_16_58_Q-Exactive-HF-X-Orbitrap_6070 SMARCA1               27.937   \n",
       "2020_05_20_12_33_Q-Exactive-HF-X-Orbitrap_6070 RGPD3;RGPD4           24.762   \n",
       "\n",
       "                                                                      ROWMEDIAN  \\\n",
       "Sample ID                                      Gene Names                         \n",
       "2020_01_15_13_56_Q-Exactive-HF-X-Orbitrap_6070 SEH1L                     28.397   \n",
       "2020_01_04_10_03_Q-Exactive-HF-X-Orbitrap_6070 SLC9A3R1                  30.188   \n",
       "2020_05_20_15_35_Q-Exactive-HF-X-Orbitrap_6070 KYNU                      30.994   \n",
       "2020_01_03_11_17_Q-Exactive-HF-X-Orbitrap_6070 ADD3                      26.171   \n",
       "2020_02_05_20_55_Q-Exactive-HF-X-Orbitrap_6070 CALM2;CALM1               32.923   \n",
       "...                                                                         ...   \n",
       "2020_05_20_15_35_Q-Exactive-HF-X-Orbitrap_6070 PPP2R4;DKFZp781M17165     28.379   \n",
       "2020_03_11_11_25_Q-Exactive-HF-X-Orbitrap_6070 MED23                     24.092   \n",
       "2020_03_07_18_15_Q-Exactive-HF-X-Orbitrap_6070 RBMXL1                    24.882   \n",
       "2020_01_03_16_58_Q-Exactive-HF-X-Orbitrap_6070 SMARCA1                   28.194   \n",
       "2020_05_20_12_33_Q-Exactive-HF-X-Orbitrap_6070 RGPD3;RGPD4               25.215   \n",
       "\n",
       "                                                                      SEQKNN  \\\n",
       "Sample ID                                      Gene Names                      \n",
       "2020_01_15_13_56_Q-Exactive-HF-X-Orbitrap_6070 SEH1L                  26.395   \n",
       "2020_01_04_10_03_Q-Exactive-HF-X-Orbitrap_6070 SLC9A3R1               27.484   \n",
       "2020_05_20_15_35_Q-Exactive-HF-X-Orbitrap_6070 KYNU                   30.890   \n",
       "2020_01_03_11_17_Q-Exactive-HF-X-Orbitrap_6070 ADD3                   26.139   \n",
       "2020_02_05_20_55_Q-Exactive-HF-X-Orbitrap_6070 CALM2;CALM1            33.711   \n",
       "...                                                                      ...   \n",
       "2020_05_20_15_35_Q-Exactive-HF-X-Orbitrap_6070 PPP2R4;DKFZp781M17165  28.348   \n",
       "2020_03_11_11_25_Q-Exactive-HF-X-Orbitrap_6070 MED23                  24.284   \n",
       "2020_03_07_18_15_Q-Exactive-HF-X-Orbitrap_6070 RBMXL1                 24.804   \n",
       "2020_01_03_16_58_Q-Exactive-HF-X-Orbitrap_6070 SMARCA1                27.996   \n",
       "2020_05_20_12_33_Q-Exactive-HF-X-Orbitrap_6070 RGPD3;RGPD4            24.095   \n",
       "\n",
       "                                                                      SVDMETHOD  \\\n",
       "Sample ID                                      Gene Names                         \n",
       "2020_01_15_13_56_Q-Exactive-HF-X-Orbitrap_6070 SEH1L                     27.094   \n",
       "2020_01_04_10_03_Q-Exactive-HF-X-Orbitrap_6070 SLC9A3R1                  27.021   \n",
       "2020_05_20_15_35_Q-Exactive-HF-X-Orbitrap_6070 KYNU                      27.938   \n",
       "2020_01_03_11_17_Q-Exactive-HF-X-Orbitrap_6070 ADD3                      28.211   \n",
       "2020_02_05_20_55_Q-Exactive-HF-X-Orbitrap_6070 CALM2;CALM1               29.077   \n",
       "...                                                                         ...   \n",
       "2020_05_20_15_35_Q-Exactive-HF-X-Orbitrap_6070 PPP2R4;DKFZp781M17165     27.877   \n",
       "2020_03_11_11_25_Q-Exactive-HF-X-Orbitrap_6070 MED23                     28.370   \n",
       "2020_03_07_18_15_Q-Exactive-HF-X-Orbitrap_6070 RBMXL1                    28.146   \n",
       "2020_01_03_16_58_Q-Exactive-HF-X-Orbitrap_6070 SMARCA1                   28.322   \n",
       "2020_05_20_12_33_Q-Exactive-HF-X-Orbitrap_6070 RGPD3;RGPD4               27.520   \n",
       "\n",
       "                                                                      TRKNN  \\\n",
       "Sample ID                                      Gene Names                     \n",
       "2020_01_15_13_56_Q-Exactive-HF-X-Orbitrap_6070 SEH1L                 26.818   \n",
       "2020_01_04_10_03_Q-Exactive-HF-X-Orbitrap_6070 SLC9A3R1              28.079   \n",
       "2020_05_20_15_35_Q-Exactive-HF-X-Orbitrap_6070 KYNU                  30.934   \n",
       "2020_01_03_11_17_Q-Exactive-HF-X-Orbitrap_6070 ADD3                  26.198   \n",
       "2020_02_05_20_55_Q-Exactive-HF-X-Orbitrap_6070 CALM2;CALM1           31.534   \n",
       "...                                                                     ...   \n",
       "2020_05_20_15_35_Q-Exactive-HF-X-Orbitrap_6070 PPP2R4;DKFZp781M17165 27.833   \n",
       "2020_03_11_11_25_Q-Exactive-HF-X-Orbitrap_6070 MED23                 24.326   \n",
       "2020_03_07_18_15_Q-Exactive-HF-X-Orbitrap_6070 RBMXL1                24.912   \n",
       "2020_01_03_16_58_Q-Exactive-HF-X-Orbitrap_6070 SMARCA1               27.329   \n",
       "2020_05_20_12_33_Q-Exactive-HF-X-Orbitrap_6070 RGPD3;RGPD4           24.876   \n",
       "\n",
       "                                                                      ZERO  \n",
       "Sample ID                                      Gene Names                   \n",
       "2020_01_15_13_56_Q-Exactive-HF-X-Orbitrap_6070 SEH1L                     0  \n",
       "2020_01_04_10_03_Q-Exactive-HF-X-Orbitrap_6070 SLC9A3R1                  0  \n",
       "2020_05_20_15_35_Q-Exactive-HF-X-Orbitrap_6070 KYNU                      0  \n",
       "2020_01_03_11_17_Q-Exactive-HF-X-Orbitrap_6070 ADD3                      0  \n",
       "2020_02_05_20_55_Q-Exactive-HF-X-Orbitrap_6070 CALM2;CALM1               0  \n",
       "...                                                                    ...  \n",
       "2020_05_20_15_35_Q-Exactive-HF-X-Orbitrap_6070 PPP2R4;DKFZp781M17165     0  \n",
       "2020_03_11_11_25_Q-Exactive-HF-X-Orbitrap_6070 MED23                     0  \n",
       "2020_03_07_18_15_Q-Exactive-HF-X-Orbitrap_6070 RBMXL1                    0  \n",
       "2020_01_03_16_58_Q-Exactive-HF-X-Orbitrap_6070 SMARCA1                   0  \n",
       "2020_05_20_12_33_Q-Exactive-HF-X-Orbitrap_6070 RGPD3;RGPD4               0  \n",
       "\n",
       "[9327 rows x 23 columns]"
      ]
     },
     "execution_count": 13,
     "metadata": {},
     "output_type": "execute_result"
    }
   ],
   "source": [
    "val_pred_fake_na"
   ]
  },
  {
   "cell_type": "markdown",
   "id": "655364c4",
   "metadata": {
    "papermill": {
     "duration": 0.006873,
     "end_time": "2024-05-06T09:33:23.468066",
     "exception": false,
     "start_time": "2024-05-06T09:33:23.461193",
     "status": "completed"
    },
    "tags": []
   },
   "source": [
    "Metrics for simulated missing values (NA)"
   ]
  },
  {
   "cell_type": "code",
   "execution_count": 14,
   "id": "d7c5dab0",
   "metadata": {
    "execution": {
     "iopub.execute_input": "2024-05-06T09:33:23.483269Z",
     "iopub.status.busy": "2024-05-06T09:33:23.482743Z",
     "iopub.status.idle": "2024-05-06T09:33:23.485717Z",
     "shell.execute_reply": "2024-05-06T09:33:23.485161Z"
    },
    "papermill": {
     "duration": 0.011826,
     "end_time": "2024-05-06T09:33:23.486836",
     "exception": false,
     "start_time": "2024-05-06T09:33:23.475010",
     "status": "completed"
    },
    "tags": []
   },
   "outputs": [],
   "source": [
    "# papermill_description=metrics\n",
    "d_metrics = vaep.models.Metrics()"
   ]
  },
  {
   "cell_type": "code",
   "execution_count": 15,
   "id": "773dcbbe",
   "metadata": {
    "execution": {
     "iopub.execute_input": "2024-05-06T09:33:23.501660Z",
     "iopub.status.busy": "2024-05-06T09:33:23.501319Z",
     "iopub.status.idle": "2024-05-06T09:33:23.667356Z",
     "shell.execute_reply": "2024-05-06T09:33:23.666746Z"
    },
    "papermill": {
     "duration": 0.174798,
     "end_time": "2024-05-06T09:33:23.668626",
     "exception": false,
     "start_time": "2024-05-06T09:33:23.493828",
     "status": "completed"
    },
    "tags": []
   },
   "outputs": [
    {
     "name": "stdout",
     "output_type": "stream",
     "text": [
      "Selected as truth to compare to: observed\n"
     ]
    },
    {
     "data": {
      "text/html": [
       "<div>\n",
       "<style scoped>\n",
       "    .dataframe tbody tr th:only-of-type {\n",
       "        vertical-align: middle;\n",
       "    }\n",
       "\n",
       "    .dataframe tbody tr th {\n",
       "        vertical-align: top;\n",
       "    }\n",
       "\n",
       "    .dataframe thead th {\n",
       "        text-align: right;\n",
       "    }\n",
       "</style>\n",
       "<table border=\"1\" class=\"dataframe\">\n",
       "  <thead>\n",
       "    <tr style=\"text-align: right;\">\n",
       "      <th></th>\n",
       "      <th>BPCA</th>\n",
       "      <th>COLMEDIAN</th>\n",
       "      <th>IMPSEQ</th>\n",
       "      <th>IMPSEQROB</th>\n",
       "      <th>IRM</th>\n",
       "      <th>KNN_IMPUTE</th>\n",
       "      <th>LLS</th>\n",
       "      <th>MICE-CART</th>\n",
       "      <th>MICE-NORM</th>\n",
       "      <th>MINDET</th>\n",
       "      <th>...</th>\n",
       "      <th>MLE</th>\n",
       "      <th>MSIMPUTE</th>\n",
       "      <th>PI</th>\n",
       "      <th>QRILC</th>\n",
       "      <th>RF</th>\n",
       "      <th>ROWMEDIAN</th>\n",
       "      <th>SEQKNN</th>\n",
       "      <th>SVDMETHOD</th>\n",
       "      <th>TRKNN</th>\n",
       "      <th>ZERO</th>\n",
       "    </tr>\n",
       "  </thead>\n",
       "  <tbody>\n",
       "    <tr>\n",
       "      <th>MSE</th>\n",
       "      <td>0.720</td>\n",
       "      <td>7.387</td>\n",
       "      <td>0.710</td>\n",
       "      <td>5,675,240.507</td>\n",
       "      <td>1.073</td>\n",
       "      <td>1.223</td>\n",
       "      <td>4.003</td>\n",
       "      <td>0.876</td>\n",
       "      <td>0.834</td>\n",
       "      <td>22.039</td>\n",
       "      <td>...</td>\n",
       "      <td>3,929,184.222</td>\n",
       "      <td>1.794</td>\n",
       "      <td>19.918</td>\n",
       "      <td>8.714</td>\n",
       "      <td>0.944</td>\n",
       "      <td>2.645</td>\n",
       "      <td>0.812</td>\n",
       "      <td>7.472</td>\n",
       "      <td>1.195</td>\n",
       "      <td>739.006</td>\n",
       "    </tr>\n",
       "    <tr>\n",
       "      <th>MAE</th>\n",
       "      <td>0.574</td>\n",
       "      <td>2.286</td>\n",
       "      <td>0.568</td>\n",
       "      <td>2,309.433</td>\n",
       "      <td>0.774</td>\n",
       "      <td>0.733</td>\n",
       "      <td>0.834</td>\n",
       "      <td>0.640</td>\n",
       "      <td>0.638</td>\n",
       "      <td>3.928</td>\n",
       "      <td>...</td>\n",
       "      <td>1,619.653</td>\n",
       "      <td>1.063</td>\n",
       "      <td>3.645</td>\n",
       "      <td>2.419</td>\n",
       "      <td>0.672</td>\n",
       "      <td>1.253</td>\n",
       "      <td>0.629</td>\n",
       "      <td>2.282</td>\n",
       "      <td>0.728</td>\n",
       "      <td>27.041</td>\n",
       "    </tr>\n",
       "    <tr>\n",
       "      <th>N</th>\n",
       "      <td>2,195.000</td>\n",
       "      <td>2,195.000</td>\n",
       "      <td>2,195.000</td>\n",
       "      <td>2,195.000</td>\n",
       "      <td>2,195.000</td>\n",
       "      <td>2,195.000</td>\n",
       "      <td>2,195.000</td>\n",
       "      <td>2,195.000</td>\n",
       "      <td>2,195.000</td>\n",
       "      <td>2,195.000</td>\n",
       "      <td>...</td>\n",
       "      <td>2,195.000</td>\n",
       "      <td>2,195.000</td>\n",
       "      <td>2,195.000</td>\n",
       "      <td>2,195.000</td>\n",
       "      <td>2,195.000</td>\n",
       "      <td>2,195.000</td>\n",
       "      <td>2,195.000</td>\n",
       "      <td>2,195.000</td>\n",
       "      <td>2,195.000</td>\n",
       "      <td>2,195.000</td>\n",
       "    </tr>\n",
       "    <tr>\n",
       "      <th>prop</th>\n",
       "      <td>1.000</td>\n",
       "      <td>1.000</td>\n",
       "      <td>1.000</td>\n",
       "      <td>1.000</td>\n",
       "      <td>1.000</td>\n",
       "      <td>1.000</td>\n",
       "      <td>1.000</td>\n",
       "      <td>1.000</td>\n",
       "      <td>1.000</td>\n",
       "      <td>1.000</td>\n",
       "      <td>...</td>\n",
       "      <td>1.000</td>\n",
       "      <td>1.000</td>\n",
       "      <td>1.000</td>\n",
       "      <td>1.000</td>\n",
       "      <td>1.000</td>\n",
       "      <td>1.000</td>\n",
       "      <td>1.000</td>\n",
       "      <td>1.000</td>\n",
       "      <td>1.000</td>\n",
       "      <td>1.000</td>\n",
       "    </tr>\n",
       "  </tbody>\n",
       "</table>\n",
       "<p>4 rows × 22 columns</p>\n",
       "</div>"
      ],
      "text/plain": [
       "          BPCA  COLMEDIAN    IMPSEQ     IMPSEQROB       IRM  KNN_IMPUTE  \\\n",
       "MSE      0.720      7.387     0.710 5,675,240.507     1.073       1.223   \n",
       "MAE      0.574      2.286     0.568     2,309.433     0.774       0.733   \n",
       "N    2,195.000  2,195.000 2,195.000     2,195.000 2,195.000   2,195.000   \n",
       "prop     1.000      1.000     1.000         1.000     1.000       1.000   \n",
       "\n",
       "           LLS  MICE-CART  MICE-NORM    MINDET  ...           MLE  MSIMPUTE  \\\n",
       "MSE      4.003      0.876      0.834    22.039  ... 3,929,184.222     1.794   \n",
       "MAE      0.834      0.640      0.638     3.928  ...     1,619.653     1.063   \n",
       "N    2,195.000  2,195.000  2,195.000 2,195.000  ...     2,195.000 2,195.000   \n",
       "prop     1.000      1.000      1.000     1.000  ...         1.000     1.000   \n",
       "\n",
       "            PI     QRILC        RF  ROWMEDIAN    SEQKNN  SVDMETHOD     TRKNN  \\\n",
       "MSE     19.918     8.714     0.944      2.645     0.812      7.472     1.195   \n",
       "MAE      3.645     2.419     0.672      1.253     0.629      2.282     0.728   \n",
       "N    2,195.000 2,195.000 2,195.000  2,195.000 2,195.000  2,195.000 2,195.000   \n",
       "prop     1.000     1.000     1.000      1.000     1.000      1.000     1.000   \n",
       "\n",
       "          ZERO  \n",
       "MSE    739.006  \n",
       "MAE     27.041  \n",
       "N    2,195.000  \n",
       "prop     1.000  \n",
       "\n",
       "[4 rows x 22 columns]"
      ]
     },
     "execution_count": 15,
     "metadata": {},
     "output_type": "execute_result"
    }
   ],
   "source": [
    "added_metrics = d_metrics.add_metrics(val_pred_fake_na.dropna(how='all', axis=1), 'valid_fake_na')\n",
    "pd.DataFrame(added_metrics)"
   ]
  },
  {
   "cell_type": "markdown",
   "id": "33fde68c",
   "metadata": {
    "papermill": {
     "duration": 0.007221,
     "end_time": "2024-05-06T09:33:23.683682",
     "exception": false,
     "start_time": "2024-05-06T09:33:23.676461",
     "status": "completed"
    },
    "tags": []
   },
   "source": [
    "## Test Datasplit"
   ]
  },
  {
   "cell_type": "code",
   "execution_count": 16,
   "id": "065e1e62",
   "metadata": {
    "execution": {
     "iopub.execute_input": "2024-05-06T09:33:23.699229Z",
     "iopub.status.busy": "2024-05-06T09:33:23.698792Z",
     "iopub.status.idle": "2024-05-06T09:33:23.771179Z",
     "shell.execute_reply": "2024-05-06T09:33:23.770603Z"
    },
    "papermill": {
     "duration": 0.081597,
     "end_time": "2024-05-06T09:33:23.772433",
     "exception": false,
     "start_time": "2024-05-06T09:33:23.690836",
     "status": "completed"
    },
    "tags": []
   },
   "outputs": [
    {
     "name": "stdout",
     "output_type": "stream",
     "text": [
      "Selected as truth to compare to: observed\n"
     ]
    },
    {
     "data": {
      "text/html": [
       "<div>\n",
       "<style scoped>\n",
       "    .dataframe tbody tr th:only-of-type {\n",
       "        vertical-align: middle;\n",
       "    }\n",
       "\n",
       "    .dataframe tbody tr th {\n",
       "        vertical-align: top;\n",
       "    }\n",
       "\n",
       "    .dataframe thead th {\n",
       "        text-align: right;\n",
       "    }\n",
       "</style>\n",
       "<table border=\"1\" class=\"dataframe\">\n",
       "  <thead>\n",
       "    <tr style=\"text-align: right;\">\n",
       "      <th></th>\n",
       "      <th>BPCA</th>\n",
       "      <th>COLMEDIAN</th>\n",
       "      <th>IMPSEQ</th>\n",
       "      <th>IMPSEQROB</th>\n",
       "      <th>IRM</th>\n",
       "      <th>KNN_IMPUTE</th>\n",
       "      <th>LLS</th>\n",
       "      <th>MICE-CART</th>\n",
       "      <th>MICE-NORM</th>\n",
       "      <th>MINDET</th>\n",
       "      <th>...</th>\n",
       "      <th>MLE</th>\n",
       "      <th>MSIMPUTE</th>\n",
       "      <th>PI</th>\n",
       "      <th>QRILC</th>\n",
       "      <th>RF</th>\n",
       "      <th>ROWMEDIAN</th>\n",
       "      <th>SEQKNN</th>\n",
       "      <th>SVDMETHOD</th>\n",
       "      <th>TRKNN</th>\n",
       "      <th>ZERO</th>\n",
       "    </tr>\n",
       "  </thead>\n",
       "  <tbody>\n",
       "    <tr>\n",
       "      <th>MSE</th>\n",
       "      <td>0.821</td>\n",
       "      <td>7.904</td>\n",
       "      <td>0.799</td>\n",
       "      <td>5,664,599.976</td>\n",
       "      <td>1.144</td>\n",
       "      <td>1.274</td>\n",
       "      <td>3.339</td>\n",
       "      <td>0.951</td>\n",
       "      <td>0.891</td>\n",
       "      <td>21.700</td>\n",
       "      <td>...</td>\n",
       "      <td>3,921,428.382</td>\n",
       "      <td>1.841</td>\n",
       "      <td>19.605</td>\n",
       "      <td>9.372</td>\n",
       "      <td>1.031</td>\n",
       "      <td>2.860</td>\n",
       "      <td>0.869</td>\n",
       "      <td>8.023</td>\n",
       "      <td>1.225</td>\n",
       "      <td>736.164</td>\n",
       "    </tr>\n",
       "    <tr>\n",
       "      <th>MAE</th>\n",
       "      <td>0.607</td>\n",
       "      <td>2.363</td>\n",
       "      <td>0.598</td>\n",
       "      <td>2,309.947</td>\n",
       "      <td>0.804</td>\n",
       "      <td>0.729</td>\n",
       "      <td>0.856</td>\n",
       "      <td>0.665</td>\n",
       "      <td>0.655</td>\n",
       "      <td>3.850</td>\n",
       "      <td>...</td>\n",
       "      <td>1,621.030</td>\n",
       "      <td>1.063</td>\n",
       "      <td>3.569</td>\n",
       "      <td>2.493</td>\n",
       "      <td>0.693</td>\n",
       "      <td>1.314</td>\n",
       "      <td>0.647</td>\n",
       "      <td>2.367</td>\n",
       "      <td>0.745</td>\n",
       "      <td>26.979</td>\n",
       "    </tr>\n",
       "    <tr>\n",
       "      <th>N</th>\n",
       "      <td>2,207.000</td>\n",
       "      <td>2,207.000</td>\n",
       "      <td>2,207.000</td>\n",
       "      <td>2,207.000</td>\n",
       "      <td>2,207.000</td>\n",
       "      <td>2,207.000</td>\n",
       "      <td>2,207.000</td>\n",
       "      <td>2,207.000</td>\n",
       "      <td>2,207.000</td>\n",
       "      <td>2,207.000</td>\n",
       "      <td>...</td>\n",
       "      <td>2,207.000</td>\n",
       "      <td>2,207.000</td>\n",
       "      <td>2,207.000</td>\n",
       "      <td>2,207.000</td>\n",
       "      <td>2,207.000</td>\n",
       "      <td>2,207.000</td>\n",
       "      <td>2,207.000</td>\n",
       "      <td>2,207.000</td>\n",
       "      <td>2,207.000</td>\n",
       "      <td>2,207.000</td>\n",
       "    </tr>\n",
       "    <tr>\n",
       "      <th>prop</th>\n",
       "      <td>1.000</td>\n",
       "      <td>1.000</td>\n",
       "      <td>1.000</td>\n",
       "      <td>1.000</td>\n",
       "      <td>1.000</td>\n",
       "      <td>1.000</td>\n",
       "      <td>1.000</td>\n",
       "      <td>1.000</td>\n",
       "      <td>1.000</td>\n",
       "      <td>1.000</td>\n",
       "      <td>...</td>\n",
       "      <td>1.000</td>\n",
       "      <td>1.000</td>\n",
       "      <td>1.000</td>\n",
       "      <td>1.000</td>\n",
       "      <td>1.000</td>\n",
       "      <td>1.000</td>\n",
       "      <td>1.000</td>\n",
       "      <td>1.000</td>\n",
       "      <td>1.000</td>\n",
       "      <td>1.000</td>\n",
       "    </tr>\n",
       "  </tbody>\n",
       "</table>\n",
       "<p>4 rows × 22 columns</p>\n",
       "</div>"
      ],
      "text/plain": [
       "          BPCA  COLMEDIAN    IMPSEQ     IMPSEQROB       IRM  KNN_IMPUTE  \\\n",
       "MSE      0.821      7.904     0.799 5,664,599.976     1.144       1.274   \n",
       "MAE      0.607      2.363     0.598     2,309.947     0.804       0.729   \n",
       "N    2,207.000  2,207.000 2,207.000     2,207.000 2,207.000   2,207.000   \n",
       "prop     1.000      1.000     1.000         1.000     1.000       1.000   \n",
       "\n",
       "           LLS  MICE-CART  MICE-NORM    MINDET  ...           MLE  MSIMPUTE  \\\n",
       "MSE      3.339      0.951      0.891    21.700  ... 3,921,428.382     1.841   \n",
       "MAE      0.856      0.665      0.655     3.850  ...     1,621.030     1.063   \n",
       "N    2,207.000  2,207.000  2,207.000 2,207.000  ...     2,207.000 2,207.000   \n",
       "prop     1.000      1.000      1.000     1.000  ...         1.000     1.000   \n",
       "\n",
       "            PI     QRILC        RF  ROWMEDIAN    SEQKNN  SVDMETHOD     TRKNN  \\\n",
       "MSE     19.605     9.372     1.031      2.860     0.869      8.023     1.225   \n",
       "MAE      3.569     2.493     0.693      1.314     0.647      2.367     0.745   \n",
       "N    2,207.000 2,207.000 2,207.000  2,207.000 2,207.000  2,207.000 2,207.000   \n",
       "prop     1.000     1.000     1.000      1.000     1.000      1.000     1.000   \n",
       "\n",
       "          ZERO  \n",
       "MSE    736.164  \n",
       "MAE     26.979  \n",
       "N    2,207.000  \n",
       "prop     1.000  \n",
       "\n",
       "[4 rows x 22 columns]"
      ]
     },
     "execution_count": 16,
     "metadata": {},
     "output_type": "execute_result"
    }
   ],
   "source": [
    "added_metrics = d_metrics.add_metrics(test_pred_fake_na.dropna(how='all', axis=1), 'test_fake_na')\n",
    "pd.DataFrame(added_metrics)"
   ]
  },
  {
   "cell_type": "code",
   "execution_count": 17,
   "id": "37e8e515",
   "metadata": {
    "execution": {
     "iopub.execute_input": "2024-05-06T09:33:23.788856Z",
     "iopub.status.busy": "2024-05-06T09:33:23.788630Z",
     "iopub.status.idle": "2024-05-06T09:33:23.799868Z",
     "shell.execute_reply": "2024-05-06T09:33:23.799376Z"
    },
    "papermill": {
     "duration": 0.020689,
     "end_time": "2024-05-06T09:33:23.800957",
     "exception": false,
     "start_time": "2024-05-06T09:33:23.780268",
     "status": "completed"
    },
    "tags": []
   },
   "outputs": [
    {
     "data": {
      "text/html": [
       "<div>\n",
       "<style scoped>\n",
       "    .dataframe tbody tr th:only-of-type {\n",
       "        vertical-align: middle;\n",
       "    }\n",
       "\n",
       "    .dataframe tbody tr th {\n",
       "        vertical-align: top;\n",
       "    }\n",
       "\n",
       "    .dataframe thead th {\n",
       "        text-align: right;\n",
       "    }\n",
       "</style>\n",
       "<table border=\"1\" class=\"dataframe\">\n",
       "  <thead>\n",
       "    <tr style=\"text-align: right;\">\n",
       "      <th></th>\n",
       "      <th>subset</th>\n",
       "      <th>valid_fake_na</th>\n",
       "      <th>test_fake_na</th>\n",
       "    </tr>\n",
       "    <tr>\n",
       "      <th>model</th>\n",
       "      <th>metric_name</th>\n",
       "      <th></th>\n",
       "      <th></th>\n",
       "    </tr>\n",
       "  </thead>\n",
       "  <tbody>\n",
       "    <tr>\n",
       "      <th rowspan=\"4\" valign=\"top\">BPCA</th>\n",
       "      <th>MSE</th>\n",
       "      <td>0.720</td>\n",
       "      <td>0.821</td>\n",
       "    </tr>\n",
       "    <tr>\n",
       "      <th>MAE</th>\n",
       "      <td>0.574</td>\n",
       "      <td>0.607</td>\n",
       "    </tr>\n",
       "    <tr>\n",
       "      <th>N</th>\n",
       "      <td>2,195.000</td>\n",
       "      <td>2,207.000</td>\n",
       "    </tr>\n",
       "    <tr>\n",
       "      <th>prop</th>\n",
       "      <td>1.000</td>\n",
       "      <td>1.000</td>\n",
       "    </tr>\n",
       "    <tr>\n",
       "      <th>COLMEDIAN</th>\n",
       "      <th>MSE</th>\n",
       "      <td>7.387</td>\n",
       "      <td>7.904</td>\n",
       "    </tr>\n",
       "    <tr>\n",
       "      <th>...</th>\n",
       "      <th>...</th>\n",
       "      <td>...</td>\n",
       "      <td>...</td>\n",
       "    </tr>\n",
       "    <tr>\n",
       "      <th>TRKNN</th>\n",
       "      <th>prop</th>\n",
       "      <td>1.000</td>\n",
       "      <td>1.000</td>\n",
       "    </tr>\n",
       "    <tr>\n",
       "      <th rowspan=\"4\" valign=\"top\">ZERO</th>\n",
       "      <th>MSE</th>\n",
       "      <td>739.006</td>\n",
       "      <td>736.164</td>\n",
       "    </tr>\n",
       "    <tr>\n",
       "      <th>MAE</th>\n",
       "      <td>27.041</td>\n",
       "      <td>26.979</td>\n",
       "    </tr>\n",
       "    <tr>\n",
       "      <th>N</th>\n",
       "      <td>2,195.000</td>\n",
       "      <td>2,207.000</td>\n",
       "    </tr>\n",
       "    <tr>\n",
       "      <th>prop</th>\n",
       "      <td>1.000</td>\n",
       "      <td>1.000</td>\n",
       "    </tr>\n",
       "  </tbody>\n",
       "</table>\n",
       "<p>88 rows × 2 columns</p>\n",
       "</div>"
      ],
      "text/plain": [
       "subset                 valid_fake_na  test_fake_na\n",
       "model     metric_name                             \n",
       "BPCA      MSE                  0.720         0.821\n",
       "          MAE                  0.574         0.607\n",
       "          N                2,195.000     2,207.000\n",
       "          prop                 1.000         1.000\n",
       "COLMEDIAN MSE                  7.387         7.904\n",
       "...                              ...           ...\n",
       "TRKNN     prop                 1.000         1.000\n",
       "ZERO      MSE                739.006       736.164\n",
       "          MAE                 27.041        26.979\n",
       "          N                2,195.000     2,207.000\n",
       "          prop                 1.000         1.000\n",
       "\n",
       "[88 rows x 2 columns]"
      ]
     },
     "execution_count": 17,
     "metadata": {},
     "output_type": "execute_result"
    }
   ],
   "source": [
    "metrics_df = vaep.models.get_df_from_nested_dict(\n",
    "    d_metrics.metrics, column_levels=['model', 'metric_name']).T\n",
    "metrics_df"
   ]
  },
  {
   "cell_type": "code",
   "execution_count": 18,
   "id": "f1f0d12c",
   "metadata": {
    "execution": {
     "iopub.execute_input": "2024-05-06T09:33:23.817405Z",
     "iopub.status.busy": "2024-05-06T09:33:23.816931Z",
     "iopub.status.idle": "2024-05-06T09:33:23.822809Z",
     "shell.execute_reply": "2024-05-06T09:33:23.822239Z"
    },
    "papermill": {
     "duration": 0.015206,
     "end_time": "2024-05-06T09:33:23.823974",
     "exception": false,
     "start_time": "2024-05-06T09:33:23.808768",
     "status": "completed"
    },
    "tags": []
   },
   "outputs": [
    {
     "data": {
      "text/plain": [
       "model       metric_name\n",
       "IMPSEQ      MAE               0.568\n",
       "BPCA        MAE               0.574\n",
       "SEQKNN      MAE               0.629\n",
       "MICE-NORM   MAE               0.638\n",
       "MICE-CART   MAE               0.640\n",
       "RF          MAE               0.672\n",
       "TRKNN       MAE               0.728\n",
       "KNN_IMPUTE  MAE               0.733\n",
       "IRM         MAE               0.774\n",
       "LLS         MAE               0.834\n",
       "MSIMPUTE    MAE               1.063\n",
       "ROWMEDIAN   MAE               1.253\n",
       "SVDMETHOD   MAE               2.282\n",
       "COLMEDIAN   MAE               2.286\n",
       "QRILC       MAE               2.419\n",
       "PI          MAE               3.645\n",
       "MINDET      MAE               3.928\n",
       "MINPROB     MAE               4.054\n",
       "MINIMUM     MAE               6.970\n",
       "ZERO        MAE              27.041\n",
       "MLE         MAE           1,619.653\n",
       "IMPSEQROB   MAE           2,309.433\n",
       "Name: valid_fake_na, dtype: float64"
      ]
     },
     "execution_count": 18,
     "metadata": {},
     "output_type": "execute_result"
    }
   ],
   "source": [
    "order_methods = metrics_df.loc[pd.IndexSlice[:,\n",
    "                                             'MAE'], 'valid_fake_na'].sort_values()\n",
    "order_methods"
   ]
  },
  {
   "cell_type": "code",
   "execution_count": 19,
   "id": "a0f8ce7c",
   "metadata": {
    "execution": {
     "iopub.execute_input": "2024-05-06T09:33:23.840149Z",
     "iopub.status.busy": "2024-05-06T09:33:23.839741Z",
     "iopub.status.idle": "2024-05-06T09:33:23.843799Z",
     "shell.execute_reply": "2024-05-06T09:33:23.843251Z"
    },
    "papermill": {
     "duration": 0.01351,
     "end_time": "2024-05-06T09:33:23.845039",
     "exception": false,
     "start_time": "2024-05-06T09:33:23.831529",
     "status": "completed"
    },
    "tags": []
   },
   "outputs": [
    {
     "data": {
      "text/plain": [
       "['observed', 'IMPSEQ', 'BPCA', 'SEQKNN', 'MICE-NORM', 'MICE-CART', 'RF']"
      ]
     },
     "execution_count": 19,
     "metadata": {},
     "output_type": "execute_result"
    }
   ],
   "source": [
    "top_5 = ['observed', *order_methods.droplevel(-1).index[:6]]\n",
    "top_5"
   ]
  },
  {
   "cell_type": "code",
   "execution_count": 20,
   "id": "7e041594",
   "metadata": {
    "execution": {
     "iopub.execute_input": "2024-05-06T09:33:23.861617Z",
     "iopub.status.busy": "2024-05-06T09:33:23.861156Z",
     "iopub.status.idle": "2024-05-06T09:33:27.103188Z",
     "shell.execute_reply": "2024-05-06T09:33:27.102539Z"
    },
    "papermill": {
     "duration": 3.251635,
     "end_time": "2024-05-06T09:33:27.104528",
     "exception": false,
     "start_time": "2024-05-06T09:33:23.852893",
     "status": "completed"
    },
    "tags": []
   },
   "outputs": [
    {
     "name": "stdout",
     "output_type": "stream",
     "text": [
      "vaep.plotting - INFO     Saved Figures to runs/dev_dataset_small/proteinGroups_N50/figures/NAGuideR_errors_per_bin_val.png\n"
     ]
    },
    {
     "data": {
      "image/png": "[encoded data removed]",
      "text/plain": [
       "<Figure size 1176x294 with 1 Axes>"
      ]
     },
     "metadata": {},
     "output_type": "display_data"
    }
   ],
   "source": [
    "fig, ax = plt.subplots(figsize=(8, 2))\n",
    "ax, errors_bind = vaep.plotting.errors.plot_errors_binned(\n",
    "    val_pred_fake_na[top_5],\n",
    "    ax=ax,\n",
    ")\n",
    "fname = args.out_figures / 'NAGuideR_errors_per_bin_val.png'\n",
    "files_out[fname.name] = fname.as_posix()\n",
    "vaep.savefig(ax.get_figure(), fname)"
   ]
  },
  {
   "cell_type": "code",
   "execution_count": 21,
   "id": "77b1b792",
   "metadata": {
    "execution": {
     "iopub.execute_input": "2024-05-06T09:33:27.122358Z",
     "iopub.status.busy": "2024-05-06T09:33:27.122157Z",
     "iopub.status.idle": "2024-05-06T09:33:27.127067Z",
     "shell.execute_reply": "2024-05-06T09:33:27.126497Z"
    },
    "papermill": {
     "duration": 0.014919,
     "end_time": "2024-05-06T09:33:27.128233",
     "exception": false,
     "start_time": "2024-05-06T09:33:27.113314",
     "status": "completed"
    },
    "tags": []
   },
   "outputs": [
    {
     "data": {
      "text/plain": [
       "{'pred_val_BPCA.csv': 'runs/dev_dataset_small/proteinGroups_N50/preds/pred_val_BPCA.csv',\n",
       " 'pred_test_BPCA.csv': 'runs/dev_dataset_small/proteinGroups_N50/preds/pred_test_BPCA.csv',\n",
       " 'pred_real_na_BPCA.csv': 'runs/dev_dataset_small/proteinGroups_N50/preds/pred_real_na_BPCA.csv',\n",
       " 'pred_val_COLMEDIAN.csv': 'runs/dev_dataset_small/proteinGroups_N50/preds/pred_val_COLMEDIAN.csv',\n",
       " 'pred_test_COLMEDIAN.csv': 'runs/dev_dataset_small/proteinGroups_N50/preds/pred_test_COLMEDIAN.csv',\n",
       " 'pred_real_na_COLMEDIAN.csv': 'runs/dev_dataset_small/proteinGroups_N50/preds/pred_real_na_COLMEDIAN.csv',\n",
       " 'pred_val_IMPSEQ.csv': 'runs/dev_dataset_small/proteinGroups_N50/preds/pred_val_IMPSEQ.csv',\n",
       " 'pred_test_IMPSEQ.csv': 'runs/dev_dataset_small/proteinGroups_N50/preds/pred_test_IMPSEQ.csv',\n",
       " 'pred_real_na_IMPSEQ.csv': 'runs/dev_dataset_small/proteinGroups_N50/preds/pred_real_na_IMPSEQ.csv',\n",
       " 'pred_val_IMPSEQROB.csv': 'runs/dev_dataset_small/proteinGroups_N50/preds/pred_val_IMPSEQROB.csv',\n",
       " 'pred_test_IMPSEQROB.csv': 'runs/dev_dataset_small/proteinGroups_N50/preds/pred_test_IMPSEQROB.csv',\n",
       " 'pred_real_na_IMPSEQROB.csv': 'runs/dev_dataset_small/proteinGroups_N50/preds/pred_real_na_IMPSEQROB.csv',\n",
       " 'pred_val_IRM.csv': 'runs/dev_dataset_small/proteinGroups_N50/preds/pred_val_IRM.csv',\n",
       " 'pred_test_IRM.csv': 'runs/dev_dataset_small/proteinGroups_N50/preds/pred_test_IRM.csv',\n",
       " 'pred_real_na_IRM.csv': 'runs/dev_dataset_small/proteinGroups_N50/preds/pred_real_na_IRM.csv',\n",
       " 'pred_val_KNN_IMPUTE.csv': 'runs/dev_dataset_small/proteinGroups_N50/preds/pred_val_KNN_IMPUTE.csv',\n",
       " 'pred_test_KNN_IMPUTE.csv': 'runs/dev_dataset_small/proteinGroups_N50/preds/pred_test_KNN_IMPUTE.csv',\n",
       " 'pred_real_na_KNN_IMPUTE.csv': 'runs/dev_dataset_small/proteinGroups_N50/preds/pred_real_na_KNN_IMPUTE.csv',\n",
       " 'pred_val_LLS.csv': 'runs/dev_dataset_small/proteinGroups_N50/preds/pred_val_LLS.csv',\n",
       " 'pred_test_LLS.csv': 'runs/dev_dataset_small/proteinGroups_N50/preds/pred_test_LLS.csv',\n",
       " 'pred_real_na_LLS.csv': 'runs/dev_dataset_small/proteinGroups_N50/preds/pred_real_na_LLS.csv',\n",
       " 'pred_val_MICE-CART.csv': 'runs/dev_dataset_small/proteinGroups_N50/preds/pred_val_MICE-CART.csv',\n",
       " 'pred_test_MICE-CART.csv': 'runs/dev_dataset_small/proteinGroups_N50/preds/pred_test_MICE-CART.csv',\n",
       " 'pred_real_na_MICE-CART.csv': 'runs/dev_dataset_small/proteinGroups_N50/preds/pred_real_na_MICE-CART.csv',\n",
       " 'pred_val_MICE-NORM.csv': 'runs/dev_dataset_small/proteinGroups_N50/preds/pred_val_MICE-NORM.csv',\n",
       " 'pred_test_MICE-NORM.csv': 'runs/dev_dataset_small/proteinGroups_N50/preds/pred_test_MICE-NORM.csv',\n",
       " 'pred_real_na_MICE-NORM.csv': 'runs/dev_dataset_small/proteinGroups_N50/preds/pred_real_na_MICE-NORM.csv',\n",
       " 'pred_val_MINDET.csv': 'runs/dev_dataset_small/proteinGroups_N50/preds/pred_val_MINDET.csv',\n",
       " 'pred_test_MINDET.csv': 'runs/dev_dataset_small/proteinGroups_N50/preds/pred_test_MINDET.csv',\n",
       " 'pred_real_na_MINDET.csv': 'runs/dev_dataset_small/proteinGroups_N50/preds/pred_real_na_MINDET.csv',\n",
       " 'pred_val_MINIMUM.csv': 'runs/dev_dataset_small/proteinGroups_N50/preds/pred_val_MINIMUM.csv',\n",
       " 'pred_test_MINIMUM.csv': 'runs/dev_dataset_small/proteinGroups_N50/preds/pred_test_MINIMUM.csv',\n",
       " 'pred_real_na_MINIMUM.csv': 'runs/dev_dataset_small/proteinGroups_N50/preds/pred_real_na_MINIMUM.csv',\n",
       " 'pred_val_MINPROB.csv': 'runs/dev_dataset_small/proteinGroups_N50/preds/pred_val_MINPROB.csv',\n",
       " 'pred_test_MINPROB.csv': 'runs/dev_dataset_small/proteinGroups_N50/preds/pred_test_MINPROB.csv',\n",
       " 'pred_real_na_MINPROB.csv': 'runs/dev_dataset_small/proteinGroups_N50/preds/pred_real_na_MINPROB.csv',\n",
       " 'pred_val_MLE.csv': 'runs/dev_dataset_small/proteinGroups_N50/preds/pred_val_MLE.csv',\n",
       " 'pred_test_MLE.csv': 'runs/dev_dataset_small/proteinGroups_N50/preds/pred_test_MLE.csv',\n",
       " 'pred_real_na_MLE.csv': 'runs/dev_dataset_small/proteinGroups_N50/preds/pred_real_na_MLE.csv',\n",
       " 'pred_val_MSIMPUTE.csv': 'runs/dev_dataset_small/proteinGroups_N50/preds/pred_val_MSIMPUTE.csv',\n",
       " 'pred_test_MSIMPUTE.csv': 'runs/dev_dataset_small/proteinGroups_N50/preds/pred_test_MSIMPUTE.csv',\n",
       " 'pred_real_na_MSIMPUTE.csv': 'runs/dev_dataset_small/proteinGroups_N50/preds/pred_real_na_MSIMPUTE.csv',\n",
       " 'pred_val_PI.csv': 'runs/dev_dataset_small/proteinGroups_N50/preds/pred_val_PI.csv',\n",
       " 'pred_test_PI.csv': 'runs/dev_dataset_small/proteinGroups_N50/preds/pred_test_PI.csv',\n",
       " 'pred_real_na_PI.csv': 'runs/dev_dataset_small/proteinGroups_N50/preds/pred_real_na_PI.csv',\n",
       " 'pred_val_QRILC.csv': 'runs/dev_dataset_small/proteinGroups_N50/preds/pred_val_QRILC.csv',\n",
       " 'pred_test_QRILC.csv': 'runs/dev_dataset_small/proteinGroups_N50/preds/pred_test_QRILC.csv',\n",
       " 'pred_real_na_QRILC.csv': 'runs/dev_dataset_small/proteinGroups_N50/preds/pred_real_na_QRILC.csv',\n",
       " 'pred_val_RF.csv': 'runs/dev_dataset_small/proteinGroups_N50/preds/pred_val_RF.csv',\n",
       " 'pred_test_RF.csv': 'runs/dev_dataset_small/proteinGroups_N50/preds/pred_test_RF.csv',\n",
       " 'pred_real_na_RF.csv': 'runs/dev_dataset_small/proteinGroups_N50/preds/pred_real_na_RF.csv',\n",
       " 'pred_val_ROWMEDIAN.csv': 'runs/dev_dataset_small/proteinGroups_N50/preds/pred_val_ROWMEDIAN.csv',\n",
       " 'pred_test_ROWMEDIAN.csv': 'runs/dev_dataset_small/proteinGroups_N50/preds/pred_test_ROWMEDIAN.csv',\n",
       " 'pred_real_na_ROWMEDIAN.csv': 'runs/dev_dataset_small/proteinGroups_N50/preds/pred_real_na_ROWMEDIAN.csv',\n",
       " 'pred_val_SEQKNN.csv': 'runs/dev_dataset_small/proteinGroups_N50/preds/pred_val_SEQKNN.csv',\n",
       " 'pred_test_SEQKNN.csv': 'runs/dev_dataset_small/proteinGroups_N50/preds/pred_test_SEQKNN.csv',\n",
       " 'pred_real_na_SEQKNN.csv': 'runs/dev_dataset_small/proteinGroups_N50/preds/pred_real_na_SEQKNN.csv',\n",
       " 'pred_val_SVDMETHOD.csv': 'runs/dev_dataset_small/proteinGroups_N50/preds/pred_val_SVDMETHOD.csv',\n",
       " 'pred_test_SVDMETHOD.csv': 'runs/dev_dataset_small/proteinGroups_N50/preds/pred_test_SVDMETHOD.csv',\n",
       " 'pred_real_na_SVDMETHOD.csv': 'runs/dev_dataset_small/proteinGroups_N50/preds/pred_real_na_SVDMETHOD.csv',\n",
       " 'pred_val_TRKNN.csv': 'runs/dev_dataset_small/proteinGroups_N50/preds/pred_val_TRKNN.csv',\n",
       " 'pred_test_TRKNN.csv': 'runs/dev_dataset_small/proteinGroups_N50/preds/pred_test_TRKNN.csv',\n",
       " 'pred_real_na_TRKNN.csv': 'runs/dev_dataset_small/proteinGroups_N50/preds/pred_real_na_TRKNN.csv',\n",
       " 'pred_val_ZERO.csv': 'runs/dev_dataset_small/proteinGroups_N50/preds/pred_val_ZERO.csv',\n",
       " 'pred_test_ZERO.csv': 'runs/dev_dataset_small/proteinGroups_N50/preds/pred_test_ZERO.csv',\n",
       " 'pred_real_na_ZERO.csv': 'runs/dev_dataset_small/proteinGroups_N50/preds/pred_real_na_ZERO.csv',\n",
       " 'NAGuideR_errors_per_bin_val.png': 'runs/dev_dataset_small/proteinGroups_N50/figures/NAGuideR_errors_per_bin_val.png'}"
      ]
     },
     "execution_count": 21,
     "metadata": {},
     "output_type": "execute_result"
    }
   ],
   "source": [
    "files_out"
   ]
  }
 ],
 "metadata": {
  "jupytext": {
   "cell_metadata_filter": "title,tags,-all"
  },
  "kernelspec": {
   "display_name": "Python 3",
   "language": "python",
   "name": "python3"
  },
  "language_info": {
   "codemirror_mode": {
    "name": "ipython",
    "version": 3
   },
   "file_extension": ".py",
   "mimetype": "text/x-python",
   "name": "python",
   "nbconvert_exporter": "python",
   "pygments_lexer": "ipython3",
   "version": "3.8.19"
  },
  "papermill": {
   "default_parameters": {},
   "duration": 13.274465,
   "end_time": "2024-05-06T09:33:27.753646",
   "environment_variables": {},
   "exception": null,
   "input_path": "01_1_transfer_NAGuideR_pred.ipynb",
   "output_path": "runs/dev_dataset_small/proteinGroups_N50/01_1_transfer_NAGuideR_pred.ipynb",
   "parameters": {
    "dumps": "runs/dev_dataset_small/proteinGroups_N50/preds/pred_all_BPCA.csv,runs/dev_dataset_small/proteinGroups_N50/preds/pred_all_COLMEDIAN.csv,runs/dev_dataset_small/proteinGroups_N50/preds/pred_all_IMPSEQ.csv,runs/dev_dataset_small/proteinGroups_N50/preds/pred_all_IMPSEQROB.csv,runs/dev_dataset_small/proteinGroups_N50/preds/pred_all_IRM.csv,runs/dev_dataset_small/proteinGroups_N50/preds/pred_all_KNN_IMPUTE.csv,runs/dev_dataset_small/proteinGroups_N50/preds/pred_all_LLS.csv,runs/dev_dataset_small/proteinGroups_N50/preds/pred_all_MICE-CART.csv,runs/dev_dataset_small/proteinGroups_N50/preds/pred_all_MICE-NORM.csv,runs/dev_dataset_small/proteinGroups_N50/preds/pred_all_MINDET.csv,runs/dev_dataset_small/proteinGroups_N50/preds/pred_all_MINIMUM.csv,runs/dev_dataset_small/proteinGroups_N50/preds/pred_all_MINPROB.csv,runs/dev_dataset_small/proteinGroups_N50/preds/pred_all_MLE.csv,runs/dev_dataset_small/proteinGroups_N50/preds/pred_all_MSIMPUTE.csv,runs/dev_dataset_small/proteinGroups_N50/preds/pred_all_PI.csv,runs/dev_dataset_small/proteinGroups_N50/preds/pred_all_QRILC.csv,runs/dev_dataset_small/proteinGroups_N50/preds/pred_all_RF.csv,runs/dev_dataset_small/proteinGroups_N50/preds/pred_all_ROWMEDIAN.csv,runs/dev_dataset_small/proteinGroups_N50/preds/pred_all_SEQKNN.csv,runs/dev_dataset_small/proteinGroups_N50/preds/pred_all_SVDMETHOD.csv,runs/dev_dataset_small/proteinGroups_N50/preds/pred_all_TRKNN.csv,runs/dev_dataset_small/proteinGroups_N50/preds/pred_all_ZERO.csv",
    "folder_experiment": "runs/dev_dataset_small/proteinGroups_N50"
   },
   "start_time": "2024-05-06T09:33:14.479181",
   "version": "2.6.0"
  }
 },
 "nbformat": 4,
 "nbformat_minor": 5
}