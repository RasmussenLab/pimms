{
 "cells": [
  {
   "cell_type": "markdown",
   "id": "a75efcbe-2ae0-4609-872a-759fb5c80af1",
   "metadata": {
    "papermill": {
     "duration": 0.003624,
     "end_time": "2024-08-30T12:06:06.745350",
     "exception": false,
     "start_time": "2024-08-30T12:06:06.741726",
     "status": "completed"
    },
    "tags": []
   },
   "source": [
    "# Transfer predictions from NAGuideR\n"
   ]
  },
  {
   "cell_type": "code",
   "execution_count": 1,
   "id": "f29b93d1",
   "metadata": {
    "execution": {
     "iopub.execute_input": "2024-08-30T12:06:06.751713Z",
     "iopub.status.busy": "2024-08-30T12:06:06.751482Z",
     "iopub.status.idle": "2024-08-30T12:06:09.168508Z",
     "shell.execute_reply": "2024-08-30T12:06:09.167914Z"
    },
    "papermill": {
     "duration": 2.42192,
     "end_time": "2024-08-30T12:06:09.170082",
     "exception": false,
     "start_time": "2024-08-30T12:06:06.748162",
     "status": "completed"
    },
    "tags": [
     "hide-input"
    ]
   },
   "outputs": [],
   "source": [
    "import logging\n",
    "from pathlib import Path\n",
    "\n",
    "import matplotlib.pyplot as plt\n",
    "import pandas as pd\n",
    "\n",
    "import pimmslearn\n",
    "import pimmslearn.models\n",
    "import pimmslearn.pandas\n",
    "from pimmslearn.io import datasplits\n",
    "\n",
    "pimmslearn.plotting.make_large_descriptors(5)\n",
    "\n",
    "logger = pimmslearn.logging.setup_logger(logging.getLogger('pimmslearn'))"
   ]
  },
  {
   "cell_type": "code",
   "execution_count": 2,
   "id": "cbf23f02",
   "metadata": {
    "execution": {
     "iopub.execute_input": "2024-08-30T12:06:09.176897Z",
     "iopub.status.busy": "2024-08-30T12:06:09.176563Z",
     "iopub.status.idle": "2024-08-30T12:06:09.179355Z",
     "shell.execute_reply": "2024-08-30T12:06:09.178888Z"
    },
    "papermill": {
     "duration": 0.007393,
     "end_time": "2024-08-30T12:06:09.180396",
     "exception": false,
     "start_time": "2024-08-30T12:06:09.173003",
     "status": "completed"
    },
    "tags": [
     "hide-input"
    ]
   },
   "outputs": [],
   "source": [
    "# catch passed parameters\n",
    "args = None\n",
    "args = dict(globals()).keys()"
   ]
  },
  {
   "cell_type": "markdown",
   "id": "8b02b864",
   "metadata": {
    "papermill": {
     "duration": 0.00248,
     "end_time": "2024-08-30T12:06:09.185481",
     "exception": false,
     "start_time": "2024-08-30T12:06:09.183001",
     "status": "completed"
    },
    "tags": []
   },
   "source": [
    "Papermill script parameters:"
   ]
  },
  {
   "cell_type": "code",
   "execution_count": 3,
   "id": "a08a34aa",
   "metadata": {
    "execution": {
     "iopub.execute_input": "2024-08-30T12:06:09.191561Z",
     "iopub.status.busy": "2024-08-30T12:06:09.191181Z",
     "iopub.status.idle": "2024-08-30T12:06:09.193904Z",
     "shell.execute_reply": "2024-08-30T12:06:09.193421Z"
    },
    "papermill": {
     "duration": 0.00682,
     "end_time": "2024-08-30T12:06:09.194879",
     "exception": false,
     "start_time": "2024-08-30T12:06:09.188059",
     "status": "completed"
    },
    "tags": [
     "parameters"
    ]
   },
   "outputs": [],
   "source": [
    "# files and folders\n",
    "# Datasplit folder with data for experiment\n",
    "folder_experiment: str = 'runs/example'\n",
    "folder_data: str = ''  # specify data directory if needed\n",
    "file_format: str = 'csv'  # file format of create splits, default pickle (csv)\n",
    "identifer_str: str = '_all_'  # identifier for prediction files to be filtered\n",
    "dumps: list = None  # list of dumps to be used"
   ]
  },
  {
   "cell_type": "code",
   "execution_count": 4,
   "id": "8ca4e886",
   "metadata": {
    "execution": {
     "iopub.execute_input": "2024-08-30T12:06:09.201088Z",
     "iopub.status.busy": "2024-08-30T12:06:09.200711Z",
     "iopub.status.idle": "2024-08-30T12:06:09.203196Z",
     "shell.execute_reply": "2024-08-30T12:06:09.202842Z"
    },
    "papermill": {
     "duration": 0.006631,
     "end_time": "2024-08-30T12:06:09.204149",
     "exception": false,
     "start_time": "2024-08-30T12:06:09.197518",
     "status": "completed"
    },
    "tags": [
     "injected-parameters"
    ]
   },
   "outputs": [],
   "source": [
    "# Parameters\n",
    "dumps = \"runs/alzheimer_study/preds/pred_all_BPCA.csv,runs/alzheimer_study/preds/pred_all_COLMEDIAN.csv,runs/alzheimer_study/preds/pred_all_IMPSEQ.csv,runs/alzheimer_study/preds/pred_all_IMPSEQROB.csv,runs/alzheimer_study/preds/pred_all_IRM.csv,runs/alzheimer_study/preds/pred_all_KNN_IMPUTE.csv,runs/alzheimer_study/preds/pred_all_LLS.csv,runs/alzheimer_study/preds/pred_all_MINDET.csv,runs/alzheimer_study/preds/pred_all_MINIMUM.csv,runs/alzheimer_study/preds/pred_all_MINPROB.csv,runs/alzheimer_study/preds/pred_all_MLE.csv,runs/alzheimer_study/preds/pred_all_MSIMPUTE.csv,runs/alzheimer_study/preds/pred_all_MSIMPUTE_MNAR.csv,runs/alzheimer_study/preds/pred_all_PI.csv,runs/alzheimer_study/preds/pred_all_QRILC.csv,runs/alzheimer_study/preds/pred_all_RF.csv,runs/alzheimer_study/preds/pred_all_ROWMEDIAN.csv,runs/alzheimer_study/preds/pred_all_SVDMETHOD.csv,runs/alzheimer_study/preds/pred_all_TRKNN.csv,runs/alzheimer_study/preds/pred_all_ZERO.csv\"\n",
    "folder_experiment = \"runs/alzheimer_study\"\n"
   ]
  },
  {
   "cell_type": "markdown",
   "id": "26815da7",
   "metadata": {
    "lines_to_next_cell": 2,
    "papermill": {
     "duration": 0.002564,
     "end_time": "2024-08-30T12:06:09.209371",
     "exception": false,
     "start_time": "2024-08-30T12:06:09.206807",
     "status": "completed"
    },
    "tags": []
   },
   "source": [
    "Some argument transformations"
   ]
  },
  {
   "cell_type": "code",
   "execution_count": 5,
   "id": "3d5c476b",
   "metadata": {
    "execution": {
     "iopub.execute_input": "2024-08-30T12:06:09.216281Z",
     "iopub.status.busy": "2024-08-30T12:06:09.215973Z",
     "iopub.status.idle": "2024-08-30T12:06:09.222041Z",
     "shell.execute_reply": "2024-08-30T12:06:09.221546Z"
    },
    "papermill": {
     "duration": 0.010255,
     "end_time": "2024-08-30T12:06:09.223079",
     "exception": false,
     "start_time": "2024-08-30T12:06:09.212824",
     "status": "completed"
    },
    "tags": [
     "hide-input"
    ]
   },
   "outputs": [
    {
     "data": {
      "text/plain": [
       "{'data': Path('runs/alzheimer_study/data'),\n",
       " 'dumps': 'runs/alzheimer_study/preds/pred_all_BPCA.csv,runs/alzheimer_study/preds/pred_all_COLMEDIAN.csv,runs/alzheimer_study/preds/pred_all_IMPSEQ.csv,runs/alzheimer_study/preds/pred_all_IMPSEQROB.csv,runs/alzheimer_study/preds/pred_all_IRM.csv,runs/alzheimer_study/preds/pred_all_KNN_IMPUTE.csv,runs/alzheimer_study/preds/pred_all_LLS.csv,runs/alzheimer_study/preds/pred_all_MINDET.csv,runs/alzheimer_study/preds/pred_all_MINIMUM.csv,runs/alzheimer_study/preds/pred_all_MINPROB.csv,runs/alzheimer_study/preds/pred_all_MLE.csv,runs/alzheimer_study/preds/pred_all_MSIMPUTE.csv,runs/alzheimer_study/preds/pred_all_MSIMPUTE_MNAR.csv,runs/alzheimer_study/preds/pred_all_PI.csv,runs/alzheimer_study/preds/pred_all_QRILC.csv,runs/alzheimer_study/preds/pred_all_RF.csv,runs/alzheimer_study/preds/pred_all_ROWMEDIAN.csv,runs/alzheimer_study/preds/pred_all_SVDMETHOD.csv,runs/alzheimer_study/preds/pred_all_TRKNN.csv,runs/alzheimer_study/preds/pred_all_ZERO.csv',\n",
       " 'file_format': 'csv',\n",
       " 'folder_data': '',\n",
       " 'folder_experiment': Path('runs/alzheimer_study'),\n",
       " 'identifer_str': '_all_',\n",
       " 'out_figures': Path('runs/alzheimer_study/figures'),\n",
       " 'out_folder': Path('runs/alzheimer_study'),\n",
       " 'out_metrics': Path('runs/alzheimer_study'),\n",
       " 'out_models': Path('runs/alzheimer_study'),\n",
       " 'out_preds': Path('runs/alzheimer_study/preds')}"
      ]
     },
     "execution_count": 5,
     "metadata": {},
     "output_type": "execute_result"
    }
   ],
   "source": [
    "args = pimmslearn.nb.get_params(args, globals=globals())\n",
    "args = pimmslearn.nb.args_from_dict(args)\n",
    "args"
   ]
  },
  {
   "cell_type": "code",
   "execution_count": 6,
   "id": "ba3513a7",
   "metadata": {
    "execution": {
     "iopub.execute_input": "2024-08-30T12:06:09.229595Z",
     "iopub.status.busy": "2024-08-30T12:06:09.229232Z",
     "iopub.status.idle": "2024-08-30T12:06:09.231763Z",
     "shell.execute_reply": "2024-08-30T12:06:09.231290Z"
    },
    "papermill": {
     "duration": 0.006889,
     "end_time": "2024-08-30T12:06:09.232779",
     "exception": false,
     "start_time": "2024-08-30T12:06:09.225890",
     "status": "completed"
    },
    "tags": [
     "hide-input"
    ]
   },
   "outputs": [],
   "source": [
    "files_out = {}"
   ]
  },
  {
   "cell_type": "markdown",
   "id": "ba15118b",
   "metadata": {
    "papermill": {
     "duration": 0.002808,
     "end_time": "2024-08-30T12:06:09.238699",
     "exception": false,
     "start_time": "2024-08-30T12:06:09.235891",
     "status": "completed"
    },
    "tags": []
   },
   "source": [
    "load data splits"
   ]
  },
  {
   "cell_type": "code",
   "execution_count": 7,
   "id": "75341d2b",
   "metadata": {
    "execution": {
     "iopub.execute_input": "2024-08-30T12:06:09.245017Z",
     "iopub.status.busy": "2024-08-30T12:06:09.244707Z",
     "iopub.status.idle": "2024-08-30T12:06:09.387743Z",
     "shell.execute_reply": "2024-08-30T12:06:09.387290Z"
    },
    "lines_to_next_cell": 2,
    "papermill": {
     "duration": 0.147332,
     "end_time": "2024-08-30T12:06:09.388796",
     "exception": false,
     "start_time": "2024-08-30T12:06:09.241464",
     "status": "completed"
    },
    "tags": [
     "hide-input"
    ]
   },
   "outputs": [
    {
     "name": "stdout",
     "output_type": "stream",
     "text": [
      "pimmslearn.io.datasplits - INFO     Loaded 'train_X' from file: runs/alzheimer_study/data/train_X.csv\n"
     ]
    },
    {
     "name": "stdout",
     "output_type": "stream",
     "text": [
      "pimmslearn.io.datasplits - INFO     Loaded 'val_y' from file: runs/alzheimer_study/data/val_y.csv\n"
     ]
    },
    {
     "name": "stdout",
     "output_type": "stream",
     "text": [
      "pimmslearn.io.datasplits - INFO     Loaded 'test_y' from file: runs/alzheimer_study/data/test_y.csv\n"
     ]
    }
   ],
   "source": [
    "data = datasplits.DataSplits.from_folder(\n",
    "    args.data, file_format=args.file_format)"
   ]
  },
  {
   "cell_type": "markdown",
   "id": "dbef8da3",
   "metadata": {
    "papermill": {
     "duration": 0.00307,
     "end_time": "2024-08-30T12:06:09.395147",
     "exception": false,
     "start_time": "2024-08-30T12:06:09.392077",
     "status": "completed"
    },
    "tags": []
   },
   "source": [
    "Validation and test data split of simulated missing values"
   ]
  },
  {
   "cell_type": "code",
   "execution_count": 8,
   "id": "723eacd2",
   "metadata": {
    "execution": {
     "iopub.execute_input": "2024-08-30T12:06:09.402249Z",
     "iopub.status.busy": "2024-08-30T12:06:09.401836Z",
     "iopub.status.idle": "2024-08-30T12:06:09.409356Z",
     "shell.execute_reply": "2024-08-30T12:06:09.408920Z"
    },
    "papermill": {
     "duration": 0.012243,
     "end_time": "2024-08-30T12:06:09.410407",
     "exception": false,
     "start_time": "2024-08-30T12:06:09.398164",
     "status": "completed"
    },
    "tags": [
     "hide-input"
    ]
   },
   "outputs": [
    {
     "data": {
      "text/html": [
       "<div>\n",
       "<style scoped>\n",
       "    .dataframe tbody tr th:only-of-type {\n",
       "        vertical-align: middle;\n",
       "    }\n",
       "\n",
       "    .dataframe tbody tr th {\n",
       "        vertical-align: top;\n",
       "    }\n",
       "\n",
       "    .dataframe thead th {\n",
       "        text-align: right;\n",
       "    }\n",
       "</style>\n",
       "<table border=\"1\" class=\"dataframe\">\n",
       "  <thead>\n",
       "    <tr style=\"text-align: right;\">\n",
       "      <th></th>\n",
       "      <th></th>\n",
       "      <th>observed</th>\n",
       "    </tr>\n",
       "    <tr>\n",
       "      <th>Sample ID</th>\n",
       "      <th>protein groups</th>\n",
       "      <th></th>\n",
       "    </tr>\n",
       "  </thead>\n",
       "  <tbody>\n",
       "    <tr>\n",
       "      <th>Sample_158</th>\n",
       "      <th>Q9UN70;Q9UN70-2</th>\n",
       "      <td>14.630</td>\n",
       "    </tr>\n",
       "    <tr>\n",
       "      <th>Sample_050</th>\n",
       "      <th>Q9Y287</th>\n",
       "      <td>15.755</td>\n",
       "    </tr>\n",
       "    <tr>\n",
       "      <th>Sample_107</th>\n",
       "      <th>Q8N475;Q8N475-2</th>\n",
       "      <td>15.029</td>\n",
       "    </tr>\n",
       "    <tr>\n",
       "      <th>Sample_199</th>\n",
       "      <th>P06307</th>\n",
       "      <td>19.376</td>\n",
       "    </tr>\n",
       "    <tr>\n",
       "      <th>Sample_067</th>\n",
       "      <th>Q5VUB5</th>\n",
       "      <td>15.309</td>\n",
       "    </tr>\n",
       "    <tr>\n",
       "      <th>...</th>\n",
       "      <th>...</th>\n",
       "      <td>...</td>\n",
       "    </tr>\n",
       "    <tr>\n",
       "      <th>Sample_111</th>\n",
       "      <th>F6SYF8;Q9UBP4</th>\n",
       "      <td>22.822</td>\n",
       "    </tr>\n",
       "    <tr>\n",
       "      <th>Sample_002</th>\n",
       "      <th>A0A0A0MT36</th>\n",
       "      <td>18.165</td>\n",
       "    </tr>\n",
       "    <tr>\n",
       "      <th>Sample_049</th>\n",
       "      <th>Q8WY21;Q8WY21-2;Q8WY21-3;Q8WY21-4</th>\n",
       "      <td>15.525</td>\n",
       "    </tr>\n",
       "    <tr>\n",
       "      <th>Sample_182</th>\n",
       "      <th>Q8NFT8</th>\n",
       "      <td>14.379</td>\n",
       "    </tr>\n",
       "    <tr>\n",
       "      <th>Sample_123</th>\n",
       "      <th>Q16853;Q16853-2</th>\n",
       "      <td>14.504</td>\n",
       "    </tr>\n",
       "  </tbody>\n",
       "</table>\n",
       "<p>12600 rows × 1 columns</p>\n",
       "</div>"
      ],
      "text/plain": [
       "                                              observed\n",
       "Sample ID  protein groups                             \n",
       "Sample_158 Q9UN70;Q9UN70-2                      14.630\n",
       "Sample_050 Q9Y287                               15.755\n",
       "Sample_107 Q8N475;Q8N475-2                      15.029\n",
       "Sample_199 P06307                               19.376\n",
       "Sample_067 Q5VUB5                               15.309\n",
       "...                                                ...\n",
       "Sample_111 F6SYF8;Q9UBP4                        22.822\n",
       "Sample_002 A0A0A0MT36                           18.165\n",
       "Sample_049 Q8WY21;Q8WY21-2;Q8WY21-3;Q8WY21-4    15.525\n",
       "Sample_182 Q8NFT8                               14.379\n",
       "Sample_123 Q16853;Q16853-2                      14.504\n",
       "\n",
       "[12600 rows x 1 columns]"
      ]
     },
     "execution_count": 8,
     "metadata": {},
     "output_type": "execute_result"
    }
   ],
   "source": [
    "val_pred_fake_na = data.val_y.to_frame(name='observed')\n",
    "val_pred_fake_na"
   ]
  },
  {
   "cell_type": "code",
   "execution_count": 9,
   "id": "514d193f",
   "metadata": {
    "execution": {
     "iopub.execute_input": "2024-08-30T12:06:09.417561Z",
     "iopub.status.busy": "2024-08-30T12:06:09.417265Z",
     "iopub.status.idle": "2024-08-30T12:06:09.424818Z",
     "shell.execute_reply": "2024-08-30T12:06:09.424337Z"
    },
    "papermill": {
     "duration": 0.01236,
     "end_time": "2024-08-30T12:06:09.425913",
     "exception": false,
     "start_time": "2024-08-30T12:06:09.413553",
     "status": "completed"
    },
    "tags": [
     "hide-input"
    ]
   },
   "outputs": [
    {
     "data": {
      "text/html": [
       "<div>\n",
       "<style scoped>\n",
       "    .dataframe tbody tr th:only-of-type {\n",
       "        vertical-align: middle;\n",
       "    }\n",
       "\n",
       "    .dataframe tbody tr th {\n",
       "        vertical-align: top;\n",
       "    }\n",
       "\n",
       "    .dataframe thead th {\n",
       "        text-align: right;\n",
       "    }\n",
       "</style>\n",
       "<table border=\"1\" class=\"dataframe\">\n",
       "  <thead>\n",
       "    <tr style=\"text-align: right;\">\n",
       "      <th></th>\n",
       "      <th>observed</th>\n",
       "    </tr>\n",
       "  </thead>\n",
       "  <tbody>\n",
       "    <tr>\n",
       "      <th>count</th>\n",
       "      <td>12,600.000</td>\n",
       "    </tr>\n",
       "    <tr>\n",
       "      <th>mean</th>\n",
       "      <td>16.339</td>\n",
       "    </tr>\n",
       "    <tr>\n",
       "      <th>std</th>\n",
       "      <td>2.741</td>\n",
       "    </tr>\n",
       "    <tr>\n",
       "      <th>min</th>\n",
       "      <td>7.209</td>\n",
       "    </tr>\n",
       "    <tr>\n",
       "      <th>25%</th>\n",
       "      <td>14.412</td>\n",
       "    </tr>\n",
       "    <tr>\n",
       "      <th>50%</th>\n",
       "      <td>15.935</td>\n",
       "    </tr>\n",
       "    <tr>\n",
       "      <th>75%</th>\n",
       "      <td>17.910</td>\n",
       "    </tr>\n",
       "    <tr>\n",
       "      <th>max</th>\n",
       "      <td>30.140</td>\n",
       "    </tr>\n",
       "  </tbody>\n",
       "</table>\n",
       "</div>"
      ],
      "text/plain": [
       "        observed\n",
       "count 12,600.000\n",
       "mean      16.339\n",
       "std        2.741\n",
       "min        7.209\n",
       "25%       14.412\n",
       "50%       15.935\n",
       "75%       17.910\n",
       "max       30.140"
      ]
     },
     "execution_count": 9,
     "metadata": {},
     "output_type": "execute_result"
    }
   ],
   "source": [
    "test_pred_fake_na = data.test_y.to_frame(name='observed')\n",
    "test_pred_fake_na.describe()"
   ]
  },
  {
   "cell_type": "code",
   "execution_count": 10,
   "id": "204838b7",
   "metadata": {
    "execution": {
     "iopub.execute_input": "2024-08-30T12:06:09.433250Z",
     "iopub.status.busy": "2024-08-30T12:06:09.432928Z",
     "iopub.status.idle": "2024-08-30T12:06:09.435365Z",
     "shell.execute_reply": "2024-08-30T12:06:09.434878Z"
    },
    "papermill": {
     "duration": 0.007195,
     "end_time": "2024-08-30T12:06:09.436402",
     "exception": false,
     "start_time": "2024-08-30T12:06:09.429207",
     "status": "completed"
    },
    "tags": [
     "hide-input"
    ]
   },
   "outputs": [],
   "source": [
    "# Find and load prediction files, filter for validation and test data"
   ]
  },
  {
   "cell_type": "code",
   "execution_count": 11,
   "id": "c06dcd14",
   "metadata": {
    "execution": {
     "iopub.execute_input": "2024-08-30T12:06:09.443603Z",
     "iopub.status.busy": "2024-08-30T12:06:09.443293Z",
     "iopub.status.idle": "2024-08-30T12:06:09.447633Z",
     "shell.execute_reply": "2024-08-30T12:06:09.447222Z"
    },
    "papermill": {
     "duration": 0.008977,
     "end_time": "2024-08-30T12:06:09.448601",
     "exception": false,
     "start_time": "2024-08-30T12:06:09.439624",
     "status": "completed"
    },
    "tags": [
     "hide-input"
    ]
   },
   "outputs": [
    {
     "data": {
      "text/plain": [
       "[Path('runs/alzheimer_study/preds/pred_all_BPCA.csv'),\n",
       " Path('runs/alzheimer_study/preds/pred_all_COLMEDIAN.csv'),\n",
       " Path('runs/alzheimer_study/preds/pred_all_IMPSEQ.csv'),\n",
       " Path('runs/alzheimer_study/preds/pred_all_IMPSEQROB.csv'),\n",
       " Path('runs/alzheimer_study/preds/pred_all_IRM.csv'),\n",
       " Path('runs/alzheimer_study/preds/pred_all_KNN_IMPUTE.csv'),\n",
       " Path('runs/alzheimer_study/preds/pred_all_LLS.csv'),\n",
       " Path('runs/alzheimer_study/preds/pred_all_MINDET.csv'),\n",
       " Path('runs/alzheimer_study/preds/pred_all_MINIMUM.csv'),\n",
       " Path('runs/alzheimer_study/preds/pred_all_MINPROB.csv'),\n",
       " Path('runs/alzheimer_study/preds/pred_all_MLE.csv'),\n",
       " Path('runs/alzheimer_study/preds/pred_all_MSIMPUTE.csv'),\n",
       " Path('runs/alzheimer_study/preds/pred_all_MSIMPUTE_MNAR.csv'),\n",
       " Path('runs/alzheimer_study/preds/pred_all_PI.csv'),\n",
       " Path('runs/alzheimer_study/preds/pred_all_QRILC.csv'),\n",
       " Path('runs/alzheimer_study/preds/pred_all_RF.csv'),\n",
       " Path('runs/alzheimer_study/preds/pred_all_ROWMEDIAN.csv'),\n",
       " Path('runs/alzheimer_study/preds/pred_all_SVDMETHOD.csv'),\n",
       " Path('runs/alzheimer_study/preds/pred_all_TRKNN.csv'),\n",
       " Path('runs/alzheimer_study/preds/pred_all_ZERO.csv')]"
      ]
     },
     "execution_count": 11,
     "metadata": {},
     "output_type": "execute_result"
    }
   ],
   "source": [
    "if args.dumps is not None:\n",
    "    entire_pred = [Path(s) for s in args.dumps.split(',')]\n",
    "else:\n",
    "    entire_pred = list(file for file in args.out_preds.iterdir()\n",
    "                       if '_all_' in str(file))\n",
    "entire_pred"
   ]
  },
  {
   "cell_type": "code",
   "execution_count": 12,
   "id": "4a9e66bc",
   "metadata": {
    "execution": {
     "iopub.execute_input": "2024-08-30T12:06:09.456208Z",
     "iopub.status.busy": "2024-08-30T12:06:09.455910Z",
     "iopub.status.idle": "2024-08-30T12:06:13.221739Z",
     "shell.execute_reply": "2024-08-30T12:06:13.221336Z"
    },
    "lines_to_next_cell": 0,
    "papermill": {
     "duration": 3.770764,
     "end_time": "2024-08-30T12:06:13.222799",
     "exception": false,
     "start_time": "2024-08-30T12:06:09.452035",
     "status": "completed"
    },
    "tags": [
     "hide-input"
    ]
   },
   "outputs": [
    {
     "name": "stdout",
     "output_type": "stream",
     "text": [
      "pimmslearn - INFO     Load fpath = Path('runs/alzheimer_study/preds/pred_all_BPCA.csv')\n"
     ]
    },
    {
     "name": "stdout",
     "output_type": "stream",
     "text": [
      "pimmslearn - INFO     Save fname = Path('runs/alzheimer_study/preds/pred_val_BPCA.csv')\n"
     ]
    },
    {
     "name": "stdout",
     "output_type": "stream",
     "text": [
      "pimmslearn - INFO     Save fname = Path('runs/alzheimer_study/preds/pred_test_BPCA.csv')\n"
     ]
    },
    {
     "name": "stdout",
     "output_type": "stream",
     "text": [
      "pimmslearn - INFO     Save fname = Path('runs/alzheimer_study/preds/pred_real_na_BPCA.csv')\n"
     ]
    },
    {
     "name": "stdout",
     "output_type": "stream",
     "text": [
      "pimmslearn - INFO     Load fpath = Path('runs/alzheimer_study/preds/pred_all_COLMEDIAN.csv')\n"
     ]
    },
    {
     "name": "stdout",
     "output_type": "stream",
     "text": [
      "pimmslearn - INFO     Save fname = Path('runs/alzheimer_study/preds/pred_val_COLMEDIAN.csv')\n"
     ]
    },
    {
     "name": "stdout",
     "output_type": "stream",
     "text": [
      "pimmslearn - INFO     Save fname = Path('runs/alzheimer_study/preds/pred_test_COLMEDIAN.csv')\n"
     ]
    },
    {
     "name": "stdout",
     "output_type": "stream",
     "text": [
      "pimmslearn - INFO     Save fname = Path('runs/alzheimer_study/preds/pred_real_na_COLMEDIAN.csv')\n"
     ]
    },
    {
     "name": "stdout",
     "output_type": "stream",
     "text": [
      "pimmslearn - INFO     Load fpath = Path('runs/alzheimer_study/preds/pred_all_IMPSEQ.csv')\n"
     ]
    },
    {
     "name": "stdout",
     "output_type": "stream",
     "text": [
      "pimmslearn - INFO     Save fname = Path('runs/alzheimer_study/preds/pred_val_IMPSEQ.csv')\n"
     ]
    },
    {
     "name": "stdout",
     "output_type": "stream",
     "text": [
      "pimmslearn - INFO     Save fname = Path('runs/alzheimer_study/preds/pred_test_IMPSEQ.csv')\n"
     ]
    },
    {
     "name": "stdout",
     "output_type": "stream",
     "text": [
      "pimmslearn - INFO     Save fname = Path('runs/alzheimer_study/preds/pred_real_na_IMPSEQ.csv')\n"
     ]
    },
    {
     "name": "stdout",
     "output_type": "stream",
     "text": [
      "pimmslearn - INFO     Load fpath = Path('runs/alzheimer_study/preds/pred_all_IMPSEQROB.csv')\n"
     ]
    },
    {
     "name": "stdout",
     "output_type": "stream",
     "text": [
      "pimmslearn - INFO     Save fname = Path('runs/alzheimer_study/preds/pred_val_IMPSEQROB.csv')\n"
     ]
    },
    {
     "name": "stdout",
     "output_type": "stream",
     "text": [
      "pimmslearn - INFO     Save fname = Path('runs/alzheimer_study/preds/pred_test_IMPSEQROB.csv')\n"
     ]
    },
    {
     "name": "stdout",
     "output_type": "stream",
     "text": [
      "pimmslearn - INFO     Save fname = Path('runs/alzheimer_study/preds/pred_real_na_IMPSEQROB.csv')\n"
     ]
    },
    {
     "name": "stdout",
     "output_type": "stream",
     "text": [
      "pimmslearn - INFO     Load fpath = Path('runs/alzheimer_study/preds/pred_all_IRM.csv')\n"
     ]
    },
    {
     "name": "stdout",
     "output_type": "stream",
     "text": [
      "pimmslearn - INFO     Save fname = Path('runs/alzheimer_study/preds/pred_val_IRM.csv')\n"
     ]
    },
    {
     "name": "stdout",
     "output_type": "stream",
     "text": [
      "pimmslearn - INFO     Save fname = Path('runs/alzheimer_study/preds/pred_test_IRM.csv')\n"
     ]
    },
    {
     "name": "stdout",
     "output_type": "stream",
     "text": [
      "pimmslearn - INFO     Save fname = Path('runs/alzheimer_study/preds/pred_real_na_IRM.csv')\n"
     ]
    },
    {
     "name": "stdout",
     "output_type": "stream",
     "text": [
      "pimmslearn - INFO     Load fpath = Path('runs/alzheimer_study/preds/pred_all_KNN_IMPUTE.csv')\n"
     ]
    },
    {
     "name": "stdout",
     "output_type": "stream",
     "text": [
      "pimmslearn - INFO     Save fname = Path('runs/alzheimer_study/preds/pred_val_KNN_IMPUTE.csv')\n"
     ]
    },
    {
     "name": "stdout",
     "output_type": "stream",
     "text": [
      "pimmslearn - INFO     Save fname = Path('runs/alzheimer_study/preds/pred_test_KNN_IMPUTE.csv')\n"
     ]
    },
    {
     "name": "stdout",
     "output_type": "stream",
     "text": [
      "pimmslearn - INFO     Save fname = Path('runs/alzheimer_study/preds/pred_real_na_KNN_IMPUTE.csv')\n"
     ]
    },
    {
     "name": "stdout",
     "output_type": "stream",
     "text": [
      "pimmslearn - INFO     Load fpath = Path('runs/alzheimer_study/preds/pred_all_LLS.csv')\n"
     ]
    },
    {
     "name": "stdout",
     "output_type": "stream",
     "text": [
      "pimmslearn - INFO     Save fname = Path('runs/alzheimer_study/preds/pred_val_LLS.csv')\n"
     ]
    },
    {
     "name": "stdout",
     "output_type": "stream",
     "text": [
      "pimmslearn - INFO     Save fname = Path('runs/alzheimer_study/preds/pred_test_LLS.csv')\n"
     ]
    },
    {
     "name": "stdout",
     "output_type": "stream",
     "text": [
      "pimmslearn - INFO     Save fname = Path('runs/alzheimer_study/preds/pred_real_na_LLS.csv')\n"
     ]
    },
    {
     "name": "stdout",
     "output_type": "stream",
     "text": [
      "pimmslearn - INFO     Load fpath = Path('runs/alzheimer_study/preds/pred_all_MINDET.csv')\n"
     ]
    },
    {
     "name": "stdout",
     "output_type": "stream",
     "text": [
      "pimmslearn - INFO     Save fname = Path('runs/alzheimer_study/preds/pred_val_MINDET.csv')\n"
     ]
    },
    {
     "name": "stdout",
     "output_type": "stream",
     "text": [
      "pimmslearn - INFO     Save fname = Path('runs/alzheimer_study/preds/pred_test_MINDET.csv')\n"
     ]
    },
    {
     "name": "stdout",
     "output_type": "stream",
     "text": [
      "pimmslearn - INFO     Save fname = Path('runs/alzheimer_study/preds/pred_real_na_MINDET.csv')\n"
     ]
    },
    {
     "name": "stdout",
     "output_type": "stream",
     "text": [
      "pimmslearn - INFO     Load fpath = Path('runs/alzheimer_study/preds/pred_all_MINIMUM.csv')\n"
     ]
    },
    {
     "name": "stdout",
     "output_type": "stream",
     "text": [
      "pimmslearn - INFO     Save fname = Path('runs/alzheimer_study/preds/pred_val_MINIMUM.csv')\n"
     ]
    },
    {
     "name": "stdout",
     "output_type": "stream",
     "text": [
      "pimmslearn - INFO     Save fname = Path('runs/alzheimer_study/preds/pred_test_MINIMUM.csv')\n"
     ]
    },
    {
     "name": "stdout",
     "output_type": "stream",
     "text": [
      "pimmslearn - INFO     Save fname = Path('runs/alzheimer_study/preds/pred_real_na_MINIMUM.csv')\n"
     ]
    },
    {
     "name": "stdout",
     "output_type": "stream",
     "text": [
      "pimmslearn - INFO     Load fpath = Path('runs/alzheimer_study/preds/pred_all_MINPROB.csv')\n"
     ]
    },
    {
     "name": "stdout",
     "output_type": "stream",
     "text": [
      "pimmslearn - INFO     Save fname = Path('runs/alzheimer_study/preds/pred_val_MINPROB.csv')\n"
     ]
    },
    {
     "name": "stdout",
     "output_type": "stream",
     "text": [
      "pimmslearn - INFO     Save fname = Path('runs/alzheimer_study/preds/pred_test_MINPROB.csv')\n"
     ]
    },
    {
     "name": "stdout",
     "output_type": "stream",
     "text": [
      "pimmslearn - INFO     Save fname = Path('runs/alzheimer_study/preds/pred_real_na_MINPROB.csv')\n"
     ]
    },
    {
     "name": "stdout",
     "output_type": "stream",
     "text": [
      "pimmslearn - INFO     Load fpath = Path('runs/alzheimer_study/preds/pred_all_MLE.csv')\n"
     ]
    },
    {
     "name": "stdout",
     "output_type": "stream",
     "text": [
      "pimmslearn - INFO     Save fname = Path('runs/alzheimer_study/preds/pred_val_MLE.csv')\n"
     ]
    },
    {
     "name": "stdout",
     "output_type": "stream",
     "text": [
      "pimmslearn - INFO     Save fname = Path('runs/alzheimer_study/preds/pred_test_MLE.csv')\n"
     ]
    },
    {
     "name": "stdout",
     "output_type": "stream",
     "text": [
      "pimmslearn - INFO     Save fname = Path('runs/alzheimer_study/preds/pred_real_na_MLE.csv')\n"
     ]
    },
    {
     "name": "stdout",
     "output_type": "stream",
     "text": [
      "pimmslearn - INFO     Load fpath = Path('runs/alzheimer_study/preds/pred_all_MSIMPUTE.csv')\n"
     ]
    },
    {
     "name": "stdout",
     "output_type": "stream",
     "text": [
      "pimmslearn - INFO     Save fname = Path('runs/alzheimer_study/preds/pred_val_MSIMPUTE.csv')\n"
     ]
    },
    {
     "name": "stdout",
     "output_type": "stream",
     "text": [
      "pimmslearn - INFO     Save fname = Path('runs/alzheimer_study/preds/pred_test_MSIMPUTE.csv')\n"
     ]
    },
    {
     "name": "stdout",
     "output_type": "stream",
     "text": [
      "pimmslearn - INFO     Save fname = Path('runs/alzheimer_study/preds/pred_real_na_MSIMPUTE.csv')\n"
     ]
    },
    {
     "name": "stdout",
     "output_type": "stream",
     "text": [
      "pimmslearn - INFO     Load fpath = Path('runs/alzheimer_study/preds/pred_all_MSIMPUTE_MNAR.csv')\n"
     ]
    },
    {
     "name": "stdout",
     "output_type": "stream",
     "text": [
      "pimmslearn - INFO     Save fname = Path('runs/alzheimer_study/preds/pred_val_MSIMPUTE_MNAR.csv')\n"
     ]
    },
    {
     "name": "stdout",
     "output_type": "stream",
     "text": [
      "pimmslearn - INFO     Save fname = Path('runs/alzheimer_study/preds/pred_test_MSIMPUTE_MNAR.csv')\n"
     ]
    },
    {
     "name": "stdout",
     "output_type": "stream",
     "text": [
      "pimmslearn - INFO     Save fname = Path('runs/alzheimer_study/preds/pred_real_na_MSIMPUTE_MNAR.csv')\n"
     ]
    },
    {
     "name": "stdout",
     "output_type": "stream",
     "text": [
      "pimmslearn - INFO     Load fpath = Path('runs/alzheimer_study/preds/pred_all_PI.csv')\n"
     ]
    },
    {
     "name": "stdout",
     "output_type": "stream",
     "text": [
      "pimmslearn - INFO     Save fname = Path('runs/alzheimer_study/preds/pred_val_PI.csv')\n"
     ]
    },
    {
     "name": "stdout",
     "output_type": "stream",
     "text": [
      "pimmslearn - INFO     Save fname = Path('runs/alzheimer_study/preds/pred_test_PI.csv')\n"
     ]
    },
    {
     "name": "stdout",
     "output_type": "stream",
     "text": [
      "pimmslearn - INFO     Save fname = Path('runs/alzheimer_study/preds/pred_real_na_PI.csv')\n"
     ]
    },
    {
     "name": "stdout",
     "output_type": "stream",
     "text": [
      "pimmslearn - INFO     Load fpath = Path('runs/alzheimer_study/preds/pred_all_QRILC.csv')\n"
     ]
    },
    {
     "name": "stdout",
     "output_type": "stream",
     "text": [
      "pimmslearn - INFO     Save fname = Path('runs/alzheimer_study/preds/pred_val_QRILC.csv')\n"
     ]
    },
    {
     "name": "stdout",
     "output_type": "stream",
     "text": [
      "pimmslearn - INFO     Save fname = Path('runs/alzheimer_study/preds/pred_test_QRILC.csv')\n"
     ]
    },
    {
     "name": "stdout",
     "output_type": "stream",
     "text": [
      "pimmslearn - INFO     Save fname = Path('runs/alzheimer_study/preds/pred_real_na_QRILC.csv')\n"
     ]
    },
    {
     "name": "stdout",
     "output_type": "stream",
     "text": [
      "pimmslearn - INFO     Load fpath = Path('runs/alzheimer_study/preds/pred_all_RF.csv')\n"
     ]
    },
    {
     "name": "stdout",
     "output_type": "stream",
     "text": [
      "pimmslearn - INFO     Save fname = Path('runs/alzheimer_study/preds/pred_val_RF.csv')\n"
     ]
    },
    {
     "name": "stdout",
     "output_type": "stream",
     "text": [
      "pimmslearn - INFO     Save fname = Path('runs/alzheimer_study/preds/pred_test_RF.csv')\n"
     ]
    },
    {
     "name": "stdout",
     "output_type": "stream",
     "text": [
      "pimmslearn - INFO     Save fname = Path('runs/alzheimer_study/preds/pred_real_na_RF.csv')\n"
     ]
    },
    {
     "name": "stdout",
     "output_type": "stream",
     "text": [
      "pimmslearn - INFO     Load fpath = Path('runs/alzheimer_study/preds/pred_all_ROWMEDIAN.csv')\n"
     ]
    },
    {
     "name": "stdout",
     "output_type": "stream",
     "text": [
      "pimmslearn - INFO     Save fname = Path('runs/alzheimer_study/preds/pred_val_ROWMEDIAN.csv')\n"
     ]
    },
    {
     "name": "stdout",
     "output_type": "stream",
     "text": [
      "pimmslearn - INFO     Save fname = Path('runs/alzheimer_study/preds/pred_test_ROWMEDIAN.csv')\n"
     ]
    },
    {
     "name": "stdout",
     "output_type": "stream",
     "text": [
      "pimmslearn - INFO     Save fname = Path('runs/alzheimer_study/preds/pred_real_na_ROWMEDIAN.csv')\n"
     ]
    },
    {
     "name": "stdout",
     "output_type": "stream",
     "text": [
      "pimmslearn - INFO     Load fpath = Path('runs/alzheimer_study/preds/pred_all_SVDMETHOD.csv')\n"
     ]
    },
    {
     "name": "stdout",
     "output_type": "stream",
     "text": [
      "pimmslearn - INFO     Save fname = Path('runs/alzheimer_study/preds/pred_val_SVDMETHOD.csv')\n"
     ]
    },
    {
     "name": "stdout",
     "output_type": "stream",
     "text": [
      "pimmslearn - INFO     Save fname = Path('runs/alzheimer_study/preds/pred_test_SVDMETHOD.csv')\n"
     ]
    },
    {
     "name": "stdout",
     "output_type": "stream",
     "text": [
      "pimmslearn - INFO     Save fname = Path('runs/alzheimer_study/preds/pred_real_na_SVDMETHOD.csv')\n"
     ]
    },
    {
     "name": "stdout",
     "output_type": "stream",
     "text": [
      "pimmslearn - INFO     Load fpath = Path('runs/alzheimer_study/preds/pred_all_TRKNN.csv')\n"
     ]
    },
    {
     "name": "stdout",
     "output_type": "stream",
     "text": [
      "pimmslearn - INFO     Save fname = Path('runs/alzheimer_study/preds/pred_val_TRKNN.csv')\n"
     ]
    },
    {
     "name": "stdout",
     "output_type": "stream",
     "text": [
      "pimmslearn - INFO     Save fname = Path('runs/alzheimer_study/preds/pred_test_TRKNN.csv')\n"
     ]
    },
    {
     "name": "stdout",
     "output_type": "stream",
     "text": [
      "pimmslearn - INFO     Save fname = Path('runs/alzheimer_study/preds/pred_real_na_TRKNN.csv')\n"
     ]
    },
    {
     "name": "stdout",
     "output_type": "stream",
     "text": [
      "pimmslearn - INFO     Load fpath = Path('runs/alzheimer_study/preds/pred_all_ZERO.csv')\n"
     ]
    },
    {
     "name": "stdout",
     "output_type": "stream",
     "text": [
      "pimmslearn - INFO     Save fname = Path('runs/alzheimer_study/preds/pred_val_ZERO.csv')\n"
     ]
    },
    {
     "name": "stdout",
     "output_type": "stream",
     "text": [
      "pimmslearn - INFO     Save fname = Path('runs/alzheimer_study/preds/pred_test_ZERO.csv')\n"
     ]
    },
    {
     "name": "stdout",
     "output_type": "stream",
     "text": [
      "pimmslearn - INFO     Save fname = Path('runs/alzheimer_study/preds/pred_real_na_ZERO.csv')\n"
     ]
    }
   ],
   "source": [
    "mask = data.train_X.unstack().isna().stack()\n",
    "idx_real_na = mask.index[mask]\n",
    "idx_real_na = (idx_real_na\n",
    "               .drop(val_pred_fake_na.index)\n",
    "               .drop(test_pred_fake_na.index))\n",
    "\n",
    "for fpath in entire_pred:\n",
    "    logger.info(f\"Load {fpath = }\")\n",
    "    col_name = fpath.stem.split('_all_')[-1]\n",
    "    pred = pd.read_csv(fpath, index_col=[1, 0])\n",
    "    val_pred_fake_na[col_name] = pred\n",
    "    fname = args.out_preds / f'pred_val_{col_name}.csv'\n",
    "    files_out[fname.name] = fname.as_posix()\n",
    "    val_pred_fake_na[['observed', col_name]].to_csv(fname)\n",
    "    logger.info(f\"Save {fname = }\")\n",
    "\n",
    "    test_pred_fake_na[col_name] = pred\n",
    "    fname = args.out_preds / f'pred_test_{col_name}.csv'\n",
    "    files_out[fname.name] = fname.as_posix()\n",
    "    test_pred_fake_na[['observed', col_name]].to_csv(fname)\n",
    "    logger.info(f\"Save {fname = }\")\n",
    "    # hacky, but works:\n",
    "    pred_real_na = (pd.Series(0, index=idx_real_na, name='placeholder')\n",
    "                    .to_frame()\n",
    "                    .join(pred, how='left')\n",
    "                    .drop('placeholder', axis=1))\n",
    "    # pred_real_na.name = 'intensity'\n",
    "    fname = args.out_preds / f'pred_real_na_{col_name}.csv'\n",
    "    files_out[fname.name] = fname.as_posix()\n",
    "    pred_real_na.to_csv(fname)\n",
    "    logger.info(f\"Save {fname = }\")\n",
    "\n",
    "# del pred"
   ]
  },
  {
   "cell_type": "code",
   "execution_count": 13,
   "id": "72adc8ec",
   "metadata": {
    "execution": {
     "iopub.execute_input": "2024-08-30T12:06:13.236277Z",
     "iopub.status.busy": "2024-08-30T12:06:13.236053Z",
     "iopub.status.idle": "2024-08-30T12:06:13.251475Z",
     "shell.execute_reply": "2024-08-30T12:06:13.251011Z"
    },
    "papermill": {
     "duration": 0.023168,
     "end_time": "2024-08-30T12:06:13.252448",
     "exception": false,
     "start_time": "2024-08-30T12:06:13.229280",
     "status": "completed"
    },
    "tags": [
     "hide-input"
    ]
   },
   "outputs": [
    {
     "data": {
      "text/html": [
       "<div>\n",
       "<style scoped>\n",
       "    .dataframe tbody tr th:only-of-type {\n",
       "        vertical-align: middle;\n",
       "    }\n",
       "\n",
       "    .dataframe tbody tr th {\n",
       "        vertical-align: top;\n",
       "    }\n",
       "\n",
       "    .dataframe thead th {\n",
       "        text-align: right;\n",
       "    }\n",
       "</style>\n",
       "<table border=\"1\" class=\"dataframe\">\n",
       "  <thead>\n",
       "    <tr style=\"text-align: right;\">\n",
       "      <th></th>\n",
       "      <th></th>\n",
       "      <th>observed</th>\n",
       "      <th>BPCA</th>\n",
       "      <th>COLMEDIAN</th>\n",
       "      <th>IMPSEQ</th>\n",
       "      <th>IMPSEQROB</th>\n",
       "      <th>IRM</th>\n",
       "      <th>KNN_IMPUTE</th>\n",
       "      <th>LLS</th>\n",
       "      <th>MINDET</th>\n",
       "      <th>MINIMUM</th>\n",
       "      <th>...</th>\n",
       "      <th>MLE</th>\n",
       "      <th>MSIMPUTE</th>\n",
       "      <th>MSIMPUTE_MNAR</th>\n",
       "      <th>PI</th>\n",
       "      <th>QRILC</th>\n",
       "      <th>RF</th>\n",
       "      <th>ROWMEDIAN</th>\n",
       "      <th>SVDMETHOD</th>\n",
       "      <th>TRKNN</th>\n",
       "      <th>ZERO</th>\n",
       "    </tr>\n",
       "    <tr>\n",
       "      <th>Sample ID</th>\n",
       "      <th>protein groups</th>\n",
       "      <th></th>\n",
       "      <th></th>\n",
       "      <th></th>\n",
       "      <th></th>\n",
       "      <th></th>\n",
       "      <th></th>\n",
       "      <th></th>\n",
       "      <th></th>\n",
       "      <th></th>\n",
       "      <th></th>\n",
       "      <th></th>\n",
       "      <th></th>\n",
       "      <th></th>\n",
       "      <th></th>\n",
       "      <th></th>\n",
       "      <th></th>\n",
       "      <th></th>\n",
       "      <th></th>\n",
       "      <th></th>\n",
       "      <th></th>\n",
       "      <th></th>\n",
       "    </tr>\n",
       "  </thead>\n",
       "  <tbody>\n",
       "    <tr>\n",
       "      <th>Sample_158</th>\n",
       "      <th>Q9UN70;Q9UN70-2</th>\n",
       "      <td>14.630</td>\n",
       "      <td>15.469</td>\n",
       "      <td>16.800</td>\n",
       "      <td>NaN</td>\n",
       "      <td>NaN</td>\n",
       "      <td>15.871</td>\n",
       "      <td>15.937</td>\n",
       "      <td>15.858</td>\n",
       "      <td>11.916</td>\n",
       "      <td>7.068</td>\n",
       "      <td>...</td>\n",
       "      <td>2,513.638</td>\n",
       "      <td>7.043</td>\n",
       "      <td>8.369</td>\n",
       "      <td>12.889</td>\n",
       "      <td>14.894</td>\n",
       "      <td>15.716</td>\n",
       "      <td>15.752</td>\n",
       "      <td>17.206</td>\n",
       "      <td>15.700</td>\n",
       "      <td>0</td>\n",
       "    </tr>\n",
       "    <tr>\n",
       "      <th>Sample_050</th>\n",
       "      <th>Q9Y287</th>\n",
       "      <td>15.755</td>\n",
       "      <td>16.453</td>\n",
       "      <td>17.288</td>\n",
       "      <td>NaN</td>\n",
       "      <td>16.106</td>\n",
       "      <td>17.472</td>\n",
       "      <td>16.961</td>\n",
       "      <td>17.058</td>\n",
       "      <td>12.900</td>\n",
       "      <td>7.068</td>\n",
       "      <td>...</td>\n",
       "      <td>19.829</td>\n",
       "      <td>7.222</td>\n",
       "      <td>8.482</td>\n",
       "      <td>12.479</td>\n",
       "      <td>16.175</td>\n",
       "      <td>16.888</td>\n",
       "      <td>17.221</td>\n",
       "      <td>17.807</td>\n",
       "      <td>16.738</td>\n",
       "      <td>0</td>\n",
       "    </tr>\n",
       "    <tr>\n",
       "      <th>Sample_107</th>\n",
       "      <th>Q8N475;Q8N475-2</th>\n",
       "      <td>15.029</td>\n",
       "      <td>13.110</td>\n",
       "      <td>17.187</td>\n",
       "      <td>NaN</td>\n",
       "      <td>2,582.130</td>\n",
       "      <td>12.680</td>\n",
       "      <td>15.437</td>\n",
       "      <td>14.397</td>\n",
       "      <td>12.313</td>\n",
       "      <td>7.068</td>\n",
       "      <td>...</td>\n",
       "      <td>2,582.130</td>\n",
       "      <td>6.225</td>\n",
       "      <td>7.481</td>\n",
       "      <td>10.738</td>\n",
       "      <td>12.374</td>\n",
       "      <td>14.263</td>\n",
       "      <td>14.846</td>\n",
       "      <td>17.434</td>\n",
       "      <td>13.776</td>\n",
       "      <td>0</td>\n",
       "    </tr>\n",
       "    <tr>\n",
       "      <th>Sample_199</th>\n",
       "      <th>P06307</th>\n",
       "      <td>19.376</td>\n",
       "      <td>19.639</td>\n",
       "      <td>16.711</td>\n",
       "      <td>NaN</td>\n",
       "      <td>NaN</td>\n",
       "      <td>19.632</td>\n",
       "      <td>18.861</td>\n",
       "      <td>19.005</td>\n",
       "      <td>12.285</td>\n",
       "      <td>7.068</td>\n",
       "      <td>...</td>\n",
       "      <td>2,483.120</td>\n",
       "      <td>8.694</td>\n",
       "      <td>9.476</td>\n",
       "      <td>12.561</td>\n",
       "      <td>16.976</td>\n",
       "      <td>19.169</td>\n",
       "      <td>18.973</td>\n",
       "      <td>17.111</td>\n",
       "      <td>19.015</td>\n",
       "      <td>0</td>\n",
       "    </tr>\n",
       "    <tr>\n",
       "      <th>Sample_067</th>\n",
       "      <th>Q5VUB5</th>\n",
       "      <td>15.309</td>\n",
       "      <td>15.465</td>\n",
       "      <td>16.743</td>\n",
       "      <td>NaN</td>\n",
       "      <td>NaN</td>\n",
       "      <td>15.976</td>\n",
       "      <td>15.079</td>\n",
       "      <td>15.104</td>\n",
       "      <td>11.827</td>\n",
       "      <td>7.068</td>\n",
       "      <td>...</td>\n",
       "      <td>2,569.564</td>\n",
       "      <td>6.384</td>\n",
       "      <td>7.657</td>\n",
       "      <td>12.556</td>\n",
       "      <td>13.286</td>\n",
       "      <td>14.704</td>\n",
       "      <td>14.726</td>\n",
       "      <td>17.031</td>\n",
       "      <td>14.699</td>\n",
       "      <td>0</td>\n",
       "    </tr>\n",
       "    <tr>\n",
       "      <th>...</th>\n",
       "      <th>...</th>\n",
       "      <td>...</td>\n",
       "      <td>...</td>\n",
       "      <td>...</td>\n",
       "      <td>...</td>\n",
       "      <td>...</td>\n",
       "      <td>...</td>\n",
       "      <td>...</td>\n",
       "      <td>...</td>\n",
       "      <td>...</td>\n",
       "      <td>...</td>\n",
       "      <td>...</td>\n",
       "      <td>...</td>\n",
       "      <td>...</td>\n",
       "      <td>...</td>\n",
       "      <td>...</td>\n",
       "      <td>...</td>\n",
       "      <td>...</td>\n",
       "      <td>...</td>\n",
       "      <td>...</td>\n",
       "      <td>...</td>\n",
       "      <td>...</td>\n",
       "    </tr>\n",
       "    <tr>\n",
       "      <th>Sample_111</th>\n",
       "      <th>F6SYF8;Q9UBP4</th>\n",
       "      <td>22.822</td>\n",
       "      <td>22.994</td>\n",
       "      <td>17.042</td>\n",
       "      <td>NaN</td>\n",
       "      <td>2,634.108</td>\n",
       "      <td>22.983</td>\n",
       "      <td>22.837</td>\n",
       "      <td>22.836</td>\n",
       "      <td>12.161</td>\n",
       "      <td>7.068</td>\n",
       "      <td>...</td>\n",
       "      <td>2,634.108</td>\n",
       "      <td>10.576</td>\n",
       "      <td>10.906</td>\n",
       "      <td>11.527</td>\n",
       "      <td>22.264</td>\n",
       "      <td>22.830</td>\n",
       "      <td>22.918</td>\n",
       "      <td>17.330</td>\n",
       "      <td>22.872</td>\n",
       "      <td>0</td>\n",
       "    </tr>\n",
       "    <tr>\n",
       "      <th>Sample_002</th>\n",
       "      <th>A0A0A0MT36</th>\n",
       "      <td>18.165</td>\n",
       "      <td>15.882</td>\n",
       "      <td>16.792</td>\n",
       "      <td>NaN</td>\n",
       "      <td>NaN</td>\n",
       "      <td>17.237</td>\n",
       "      <td>15.446</td>\n",
       "      <td>15.579</td>\n",
       "      <td>12.586</td>\n",
       "      <td>7.068</td>\n",
       "      <td>...</td>\n",
       "      <td>2,448.503</td>\n",
       "      <td>6.517</td>\n",
       "      <td>7.848</td>\n",
       "      <td>12.288</td>\n",
       "      <td>13.575</td>\n",
       "      <td>15.926</td>\n",
       "      <td>15.877</td>\n",
       "      <td>16.879</td>\n",
       "      <td>15.671</td>\n",
       "      <td>0</td>\n",
       "    </tr>\n",
       "    <tr>\n",
       "      <th>Sample_049</th>\n",
       "      <th>Q8WY21;Q8WY21-2;Q8WY21-3;Q8WY21-4</th>\n",
       "      <td>15.525</td>\n",
       "      <td>15.406</td>\n",
       "      <td>17.032</td>\n",
       "      <td>NaN</td>\n",
       "      <td>2,487.550</td>\n",
       "      <td>15.313</td>\n",
       "      <td>15.995</td>\n",
       "      <td>15.903</td>\n",
       "      <td>12.352</td>\n",
       "      <td>7.068</td>\n",
       "      <td>...</td>\n",
       "      <td>2,487.550</td>\n",
       "      <td>6.409</td>\n",
       "      <td>8.155</td>\n",
       "      <td>14.121</td>\n",
       "      <td>13.879</td>\n",
       "      <td>15.726</td>\n",
       "      <td>16.278</td>\n",
       "      <td>17.215</td>\n",
       "      <td>15.574</td>\n",
       "      <td>0</td>\n",
       "    </tr>\n",
       "    <tr>\n",
       "      <th>Sample_182</th>\n",
       "      <th>Q8NFT8</th>\n",
       "      <td>14.379</td>\n",
       "      <td>14.322</td>\n",
       "      <td>16.764</td>\n",
       "      <td>NaN</td>\n",
       "      <td>NaN</td>\n",
       "      <td>14.873</td>\n",
       "      <td>14.675</td>\n",
       "      <td>13.456</td>\n",
       "      <td>12.504</td>\n",
       "      <td>7.068</td>\n",
       "      <td>...</td>\n",
       "      <td>2,426.191</td>\n",
       "      <td>4.557</td>\n",
       "      <td>6.287</td>\n",
       "      <td>12.218</td>\n",
       "      <td>11.644</td>\n",
       "      <td>13.714</td>\n",
       "      <td>13.995</td>\n",
       "      <td>17.125</td>\n",
       "      <td>14.518</td>\n",
       "      <td>0</td>\n",
       "    </tr>\n",
       "    <tr>\n",
       "      <th>Sample_123</th>\n",
       "      <th>Q16853;Q16853-2</th>\n",
       "      <td>14.504</td>\n",
       "      <td>14.582</td>\n",
       "      <td>16.686</td>\n",
       "      <td>NaN</td>\n",
       "      <td>NaN</td>\n",
       "      <td>14.748</td>\n",
       "      <td>14.824</td>\n",
       "      <td>14.931</td>\n",
       "      <td>12.689</td>\n",
       "      <td>7.068</td>\n",
       "      <td>...</td>\n",
       "      <td>2,461.806</td>\n",
       "      <td>6.402</td>\n",
       "      <td>7.664</td>\n",
       "      <td>10.548</td>\n",
       "      <td>13.641</td>\n",
       "      <td>14.535</td>\n",
       "      <td>14.849</td>\n",
       "      <td>16.981</td>\n",
       "      <td>14.485</td>\n",
       "      <td>0</td>\n",
       "    </tr>\n",
       "  </tbody>\n",
       "</table>\n",
       "<p>12600 rows × 21 columns</p>\n",
       "</div>"
      ],
      "text/plain": [
       "                                              observed   BPCA  COLMEDIAN  \\\n",
       "Sample ID  protein groups                                                  \n",
       "Sample_158 Q9UN70;Q9UN70-2                      14.630 15.469     16.800   \n",
       "Sample_050 Q9Y287                               15.755 16.453     17.288   \n",
       "Sample_107 Q8N475;Q8N475-2                      15.029 13.110     17.187   \n",
       "Sample_199 P06307                               19.376 19.639     16.711   \n",
       "Sample_067 Q5VUB5                               15.309 15.465     16.743   \n",
       "...                                                ...    ...        ...   \n",
       "Sample_111 F6SYF8;Q9UBP4                        22.822 22.994     17.042   \n",
       "Sample_002 A0A0A0MT36                           18.165 15.882     16.792   \n",
       "Sample_049 Q8WY21;Q8WY21-2;Q8WY21-3;Q8WY21-4    15.525 15.406     17.032   \n",
       "Sample_182 Q8NFT8                               14.379 14.322     16.764   \n",
       "Sample_123 Q16853;Q16853-2                      14.504 14.582     16.686   \n",
       "\n",
       "                                              IMPSEQ  IMPSEQROB    IRM  \\\n",
       "Sample ID  protein groups                                                \n",
       "Sample_158 Q9UN70;Q9UN70-2                       NaN        NaN 15.871   \n",
       "Sample_050 Q9Y287                                NaN     16.106 17.472   \n",
       "Sample_107 Q8N475;Q8N475-2                       NaN  2,582.130 12.680   \n",
       "Sample_199 P06307                                NaN        NaN 19.632   \n",
       "Sample_067 Q5VUB5                                NaN        NaN 15.976   \n",
       "...                                              ...        ...    ...   \n",
       "Sample_111 F6SYF8;Q9UBP4                         NaN  2,634.108 22.983   \n",
       "Sample_002 A0A0A0MT36                            NaN        NaN 17.237   \n",
       "Sample_049 Q8WY21;Q8WY21-2;Q8WY21-3;Q8WY21-4     NaN  2,487.550 15.313   \n",
       "Sample_182 Q8NFT8                                NaN        NaN 14.873   \n",
       "Sample_123 Q16853;Q16853-2                       NaN        NaN 14.748   \n",
       "\n",
       "                                              KNN_IMPUTE    LLS  MINDET  \\\n",
       "Sample ID  protein groups                                                 \n",
       "Sample_158 Q9UN70;Q9UN70-2                        15.937 15.858  11.916   \n",
       "Sample_050 Q9Y287                                 16.961 17.058  12.900   \n",
       "Sample_107 Q8N475;Q8N475-2                        15.437 14.397  12.313   \n",
       "Sample_199 P06307                                 18.861 19.005  12.285   \n",
       "Sample_067 Q5VUB5                                 15.079 15.104  11.827   \n",
       "...                                                  ...    ...     ...   \n",
       "Sample_111 F6SYF8;Q9UBP4                          22.837 22.836  12.161   \n",
       "Sample_002 A0A0A0MT36                             15.446 15.579  12.586   \n",
       "Sample_049 Q8WY21;Q8WY21-2;Q8WY21-3;Q8WY21-4      15.995 15.903  12.352   \n",
       "Sample_182 Q8NFT8                                 14.675 13.456  12.504   \n",
       "Sample_123 Q16853;Q16853-2                        14.824 14.931  12.689   \n",
       "\n",
       "                                              MINIMUM  ...       MLE  \\\n",
       "Sample ID  protein groups                              ...             \n",
       "Sample_158 Q9UN70;Q9UN70-2                      7.068  ... 2,513.638   \n",
       "Sample_050 Q9Y287                               7.068  ...    19.829   \n",
       "Sample_107 Q8N475;Q8N475-2                      7.068  ... 2,582.130   \n",
       "Sample_199 P06307                               7.068  ... 2,483.120   \n",
       "Sample_067 Q5VUB5                               7.068  ... 2,569.564   \n",
       "...                                               ...  ...       ...   \n",
       "Sample_111 F6SYF8;Q9UBP4                        7.068  ... 2,634.108   \n",
       "Sample_002 A0A0A0MT36                           7.068  ... 2,448.503   \n",
       "Sample_049 Q8WY21;Q8WY21-2;Q8WY21-3;Q8WY21-4    7.068  ... 2,487.550   \n",
       "Sample_182 Q8NFT8                               7.068  ... 2,426.191   \n",
       "Sample_123 Q16853;Q16853-2                      7.068  ... 2,461.806   \n",
       "\n",
       "                                              MSIMPUTE  MSIMPUTE_MNAR     PI  \\\n",
       "Sample ID  protein groups                                                      \n",
       "Sample_158 Q9UN70;Q9UN70-2                       7.043          8.369 12.889   \n",
       "Sample_050 Q9Y287                                7.222          8.482 12.479   \n",
       "Sample_107 Q8N475;Q8N475-2                       6.225          7.481 10.738   \n",
       "Sample_199 P06307                                8.694          9.476 12.561   \n",
       "Sample_067 Q5VUB5                                6.384          7.657 12.556   \n",
       "...                                                ...            ...    ...   \n",
       "Sample_111 F6SYF8;Q9UBP4                        10.576         10.906 11.527   \n",
       "Sample_002 A0A0A0MT36                            6.517          7.848 12.288   \n",
       "Sample_049 Q8WY21;Q8WY21-2;Q8WY21-3;Q8WY21-4     6.409          8.155 14.121   \n",
       "Sample_182 Q8NFT8                                4.557          6.287 12.218   \n",
       "Sample_123 Q16853;Q16853-2                       6.402          7.664 10.548   \n",
       "\n",
       "                                              QRILC     RF  ROWMEDIAN  \\\n",
       "Sample ID  protein groups                                               \n",
       "Sample_158 Q9UN70;Q9UN70-2                   14.894 15.716     15.752   \n",
       "Sample_050 Q9Y287                            16.175 16.888     17.221   \n",
       "Sample_107 Q8N475;Q8N475-2                   12.374 14.263     14.846   \n",
       "Sample_199 P06307                            16.976 19.169     18.973   \n",
       "Sample_067 Q5VUB5                            13.286 14.704     14.726   \n",
       "...                                             ...    ...        ...   \n",
       "Sample_111 F6SYF8;Q9UBP4                     22.264 22.830     22.918   \n",
       "Sample_002 A0A0A0MT36                        13.575 15.926     15.877   \n",
       "Sample_049 Q8WY21;Q8WY21-2;Q8WY21-3;Q8WY21-4 13.879 15.726     16.278   \n",
       "Sample_182 Q8NFT8                            11.644 13.714     13.995   \n",
       "Sample_123 Q16853;Q16853-2                   13.641 14.535     14.849   \n",
       "\n",
       "                                              SVDMETHOD  TRKNN  ZERO  \n",
       "Sample ID  protein groups                                             \n",
       "Sample_158 Q9UN70;Q9UN70-2                       17.206 15.700     0  \n",
       "Sample_050 Q9Y287                                17.807 16.738     0  \n",
       "Sample_107 Q8N475;Q8N475-2                       17.434 13.776     0  \n",
       "Sample_199 P06307                                17.111 19.015     0  \n",
       "Sample_067 Q5VUB5                                17.031 14.699     0  \n",
       "...                                                 ...    ...   ...  \n",
       "Sample_111 F6SYF8;Q9UBP4                         17.330 22.872     0  \n",
       "Sample_002 A0A0A0MT36                            16.879 15.671     0  \n",
       "Sample_049 Q8WY21;Q8WY21-2;Q8WY21-3;Q8WY21-4     17.215 15.574     0  \n",
       "Sample_182 Q8NFT8                                17.125 14.518     0  \n",
       "Sample_123 Q16853;Q16853-2                       16.981 14.485     0  \n",
       "\n",
       "[12600 rows x 21 columns]"
      ]
     },
     "execution_count": 13,
     "metadata": {},
     "output_type": "execute_result"
    }
   ],
   "source": [
    "val_pred_fake_na"
   ]
  },
  {
   "cell_type": "markdown",
   "id": "655364c4",
   "metadata": {
    "papermill": {
     "duration": 0.006291,
     "end_time": "2024-08-30T12:06:13.265457",
     "exception": false,
     "start_time": "2024-08-30T12:06:13.259166",
     "status": "completed"
    },
    "tags": []
   },
   "source": [
    "Metrics for simulated missing values (NA)"
   ]
  },
  {
   "cell_type": "code",
   "execution_count": 14,
   "id": "d7c5dab0",
   "metadata": {
    "execution": {
     "iopub.execute_input": "2024-08-30T12:06:13.279188Z",
     "iopub.status.busy": "2024-08-30T12:06:13.278981Z",
     "iopub.status.idle": "2024-08-30T12:06:13.281538Z",
     "shell.execute_reply": "2024-08-30T12:06:13.281117Z"
    },
    "papermill": {
     "duration": 0.010726,
     "end_time": "2024-08-30T12:06:13.282531",
     "exception": false,
     "start_time": "2024-08-30T12:06:13.271805",
     "status": "completed"
    },
    "tags": [
     "hide-input"
    ]
   },
   "outputs": [],
   "source": [
    "# papermill_description=metrics\n",
    "d_metrics = pimmslearn.models.Metrics()"
   ]
  },
  {
   "cell_type": "code",
   "execution_count": 15,
   "id": "773dcbbe",
   "metadata": {
    "execution": {
     "iopub.execute_input": "2024-08-30T12:06:13.296250Z",
     "iopub.status.busy": "2024-08-30T12:06:13.295952Z",
     "iopub.status.idle": "2024-08-30T12:06:13.353634Z",
     "shell.execute_reply": "2024-08-30T12:06:13.353144Z"
    },
    "papermill": {
     "duration": 0.065723,
     "end_time": "2024-08-30T12:06:13.354716",
     "exception": false,
     "start_time": "2024-08-30T12:06:13.288993",
     "status": "completed"
    },
    "tags": [
     "hide-input"
    ]
   },
   "outputs": [
    {
     "name": "stdout",
     "output_type": "stream",
     "text": [
      "Selected as truth to compare to: observed\n"
     ]
    },
    {
     "data": {
      "text/html": [
       "<div>\n",
       "<style scoped>\n",
       "    .dataframe tbody tr th:only-of-type {\n",
       "        vertical-align: middle;\n",
       "    }\n",
       "\n",
       "    .dataframe tbody tr th {\n",
       "        vertical-align: top;\n",
       "    }\n",
       "\n",
       "    .dataframe thead th {\n",
       "        text-align: right;\n",
       "    }\n",
       "</style>\n",
       "<table border=\"1\" class=\"dataframe\">\n",
       "  <thead>\n",
       "    <tr style=\"text-align: right;\">\n",
       "      <th></th>\n",
       "      <th>BPCA</th>\n",
       "      <th>COLMEDIAN</th>\n",
       "      <th>IMPSEQROB</th>\n",
       "      <th>IRM</th>\n",
       "      <th>KNN_IMPUTE</th>\n",
       "      <th>LLS</th>\n",
       "      <th>MINDET</th>\n",
       "      <th>MINIMUM</th>\n",
       "      <th>MINPROB</th>\n",
       "      <th>MLE</th>\n",
       "      <th>MSIMPUTE</th>\n",
       "      <th>MSIMPUTE_MNAR</th>\n",
       "      <th>PI</th>\n",
       "      <th>QRILC</th>\n",
       "      <th>RF</th>\n",
       "      <th>ROWMEDIAN</th>\n",
       "      <th>SVDMETHOD</th>\n",
       "      <th>TRKNN</th>\n",
       "      <th>ZERO</th>\n",
       "    </tr>\n",
       "  </thead>\n",
       "  <tbody>\n",
       "    <tr>\n",
       "      <th>MSE</th>\n",
       "      <td>0.388</td>\n",
       "      <td>7.712</td>\n",
       "      <td>6,179,879.361</td>\n",
       "      <td>0.709</td>\n",
       "      <td>0.702</td>\n",
       "      <td>108.639</td>\n",
       "      <td>25.619</td>\n",
       "      <td>97.284</td>\n",
       "      <td>26.038</td>\n",
       "      <td>5,393,471.689</td>\n",
       "      <td>94.670</td>\n",
       "      <td>74.316</td>\n",
       "      <td>23.302</td>\n",
       "      <td>4.251</td>\n",
       "      <td>0.461</td>\n",
       "      <td>0.695</td>\n",
       "      <td>8.040</td>\n",
       "      <td>0.426</td>\n",
       "      <td>281.082</td>\n",
       "    </tr>\n",
       "    <tr>\n",
       "      <th>MAE</th>\n",
       "      <td>0.406</td>\n",
       "      <td>2.204</td>\n",
       "      <td>2,433.435</td>\n",
       "      <td>0.575</td>\n",
       "      <td>0.535</td>\n",
       "      <td>0.695</td>\n",
       "      <td>4.267</td>\n",
       "      <td>9.468</td>\n",
       "      <td>4.293</td>\n",
       "      <td>2,132.119</td>\n",
       "      <td>9.625</td>\n",
       "      <td>8.471</td>\n",
       "      <td>3.975</td>\n",
       "      <td>1.614</td>\n",
       "      <td>0.449</td>\n",
       "      <td>0.580</td>\n",
       "      <td>2.283</td>\n",
       "      <td>0.436</td>\n",
       "      <td>16.536</td>\n",
       "    </tr>\n",
       "    <tr>\n",
       "      <th>N</th>\n",
       "      <td>2,892.000</td>\n",
       "      <td>2,892.000</td>\n",
       "      <td>2,892.000</td>\n",
       "      <td>2,892.000</td>\n",
       "      <td>2,892.000</td>\n",
       "      <td>2,892.000</td>\n",
       "      <td>2,892.000</td>\n",
       "      <td>2,892.000</td>\n",
       "      <td>2,892.000</td>\n",
       "      <td>2,892.000</td>\n",
       "      <td>2,892.000</td>\n",
       "      <td>2,892.000</td>\n",
       "      <td>2,892.000</td>\n",
       "      <td>2,892.000</td>\n",
       "      <td>2,892.000</td>\n",
       "      <td>2,892.000</td>\n",
       "      <td>2,892.000</td>\n",
       "      <td>2,892.000</td>\n",
       "      <td>2,892.000</td>\n",
       "    </tr>\n",
       "    <tr>\n",
       "      <th>prop</th>\n",
       "      <td>1.000</td>\n",
       "      <td>1.000</td>\n",
       "      <td>1.000</td>\n",
       "      <td>1.000</td>\n",
       "      <td>1.000</td>\n",
       "      <td>1.000</td>\n",
       "      <td>1.000</td>\n",
       "      <td>1.000</td>\n",
       "      <td>1.000</td>\n",
       "      <td>1.000</td>\n",
       "      <td>1.000</td>\n",
       "      <td>1.000</td>\n",
       "      <td>1.000</td>\n",
       "      <td>1.000</td>\n",
       "      <td>1.000</td>\n",
       "      <td>1.000</td>\n",
       "      <td>1.000</td>\n",
       "      <td>1.000</td>\n",
       "      <td>1.000</td>\n",
       "    </tr>\n",
       "  </tbody>\n",
       "</table>\n",
       "</div>"
      ],
      "text/plain": [
       "          BPCA  COLMEDIAN     IMPSEQROB       IRM  KNN_IMPUTE       LLS  \\\n",
       "MSE      0.388      7.712 6,179,879.361     0.709       0.702   108.639   \n",
       "MAE      0.406      2.204     2,433.435     0.575       0.535     0.695   \n",
       "N    2,892.000  2,892.000     2,892.000 2,892.000   2,892.000 2,892.000   \n",
       "prop     1.000      1.000         1.000     1.000       1.000     1.000   \n",
       "\n",
       "        MINDET   MINIMUM   MINPROB           MLE  MSIMPUTE  MSIMPUTE_MNAR  \\\n",
       "MSE     25.619    97.284    26.038 5,393,471.689    94.670         74.316   \n",
       "MAE      4.267     9.468     4.293     2,132.119     9.625          8.471   \n",
       "N    2,892.000 2,892.000 2,892.000     2,892.000 2,892.000      2,892.000   \n",
       "prop     1.000     1.000     1.000         1.000     1.000          1.000   \n",
       "\n",
       "            PI     QRILC        RF  ROWMEDIAN  SVDMETHOD     TRKNN      ZERO  \n",
       "MSE     23.302     4.251     0.461      0.695      8.040     0.426   281.082  \n",
       "MAE      3.975     1.614     0.449      0.580      2.283     0.436    16.536  \n",
       "N    2,892.000 2,892.000 2,892.000  2,892.000  2,892.000 2,892.000 2,892.000  \n",
       "prop     1.000     1.000     1.000      1.000      1.000     1.000     1.000  "
      ]
     },
     "execution_count": 15,
     "metadata": {},
     "output_type": "execute_result"
    }
   ],
   "source": [
    "added_metrics = d_metrics.add_metrics(val_pred_fake_na.dropna(how='all', axis=1), 'valid_fake_na')\n",
    "pd.DataFrame(added_metrics)"
   ]
  },
  {
   "cell_type": "markdown",
   "id": "33fde68c",
   "metadata": {
    "papermill": {
     "duration": 0.006585,
     "end_time": "2024-08-30T12:06:13.368313",
     "exception": false,
     "start_time": "2024-08-30T12:06:13.361728",
     "status": "completed"
    },
    "tags": []
   },
   "source": [
    "## Test Datasplit"
   ]
  },
  {
   "cell_type": "code",
   "execution_count": 16,
   "id": "065e1e62",
   "metadata": {
    "execution": {
     "iopub.execute_input": "2024-08-30T12:06:13.382809Z",
     "iopub.status.busy": "2024-08-30T12:06:13.382393Z",
     "iopub.status.idle": "2024-08-30T12:06:13.442134Z",
     "shell.execute_reply": "2024-08-30T12:06:13.441627Z"
    },
    "papermill": {
     "duration": 0.068188,
     "end_time": "2024-08-30T12:06:13.443152",
     "exception": false,
     "start_time": "2024-08-30T12:06:13.374964",
     "status": "completed"
    },
    "tags": [
     "hide-input"
    ]
   },
   "outputs": [
    {
     "name": "stdout",
     "output_type": "stream",
     "text": [
      "Selected as truth to compare to: observed\n"
     ]
    },
    {
     "data": {
      "text/html": [
       "<div>\n",
       "<style scoped>\n",
       "    .dataframe tbody tr th:only-of-type {\n",
       "        vertical-align: middle;\n",
       "    }\n",
       "\n",
       "    .dataframe tbody tr th {\n",
       "        vertical-align: top;\n",
       "    }\n",
       "\n",
       "    .dataframe thead th {\n",
       "        text-align: right;\n",
       "    }\n",
       "</style>\n",
       "<table border=\"1\" class=\"dataframe\">\n",
       "  <thead>\n",
       "    <tr style=\"text-align: right;\">\n",
       "      <th></th>\n",
       "      <th>BPCA</th>\n",
       "      <th>COLMEDIAN</th>\n",
       "      <th>IMPSEQROB</th>\n",
       "      <th>IRM</th>\n",
       "      <th>KNN_IMPUTE</th>\n",
       "      <th>LLS</th>\n",
       "      <th>MINDET</th>\n",
       "      <th>MINIMUM</th>\n",
       "      <th>MINPROB</th>\n",
       "      <th>MLE</th>\n",
       "      <th>MSIMPUTE</th>\n",
       "      <th>MSIMPUTE_MNAR</th>\n",
       "      <th>PI</th>\n",
       "      <th>QRILC</th>\n",
       "      <th>RF</th>\n",
       "      <th>ROWMEDIAN</th>\n",
       "      <th>SVDMETHOD</th>\n",
       "      <th>TRKNN</th>\n",
       "      <th>ZERO</th>\n",
       "    </tr>\n",
       "  </thead>\n",
       "  <tbody>\n",
       "    <tr>\n",
       "      <th>MSE</th>\n",
       "      <td>0.557</td>\n",
       "      <td>7.941</td>\n",
       "      <td>6,227,545.432</td>\n",
       "      <td>0.834</td>\n",
       "      <td>0.870</td>\n",
       "      <td>0.688</td>\n",
       "      <td>24.975</td>\n",
       "      <td>95.562</td>\n",
       "      <td>25.310</td>\n",
       "      <td>5,505,296.129</td>\n",
       "      <td>93.951</td>\n",
       "      <td>73.576</td>\n",
       "      <td>22.855</td>\n",
       "      <td>4.350</td>\n",
       "      <td>0.567</td>\n",
       "      <td>0.843</td>\n",
       "      <td>8.370</td>\n",
       "      <td>0.562</td>\n",
       "      <td>277.956</td>\n",
       "    </tr>\n",
       "    <tr>\n",
       "      <th>MAE</th>\n",
       "      <td>0.453</td>\n",
       "      <td>2.217</td>\n",
       "      <td>2,451.991</td>\n",
       "      <td>0.597</td>\n",
       "      <td>0.578</td>\n",
       "      <td>0.524</td>\n",
       "      <td>4.190</td>\n",
       "      <td>9.369</td>\n",
       "      <td>4.205</td>\n",
       "      <td>2,175.538</td>\n",
       "      <td>9.580</td>\n",
       "      <td>8.417</td>\n",
       "      <td>3.919</td>\n",
       "      <td>1.650</td>\n",
       "      <td>0.484</td>\n",
       "      <td>0.624</td>\n",
       "      <td>2.314</td>\n",
       "      <td>0.470</td>\n",
       "      <td>16.437</td>\n",
       "    </tr>\n",
       "    <tr>\n",
       "      <th>N</th>\n",
       "      <td>2,976.000</td>\n",
       "      <td>2,976.000</td>\n",
       "      <td>2,976.000</td>\n",
       "      <td>2,976.000</td>\n",
       "      <td>2,976.000</td>\n",
       "      <td>2,976.000</td>\n",
       "      <td>2,976.000</td>\n",
       "      <td>2,976.000</td>\n",
       "      <td>2,976.000</td>\n",
       "      <td>2,976.000</td>\n",
       "      <td>2,976.000</td>\n",
       "      <td>2,976.000</td>\n",
       "      <td>2,976.000</td>\n",
       "      <td>2,976.000</td>\n",
       "      <td>2,976.000</td>\n",
       "      <td>2,976.000</td>\n",
       "      <td>2,976.000</td>\n",
       "      <td>2,976.000</td>\n",
       "      <td>2,976.000</td>\n",
       "    </tr>\n",
       "    <tr>\n",
       "      <th>prop</th>\n",
       "      <td>1.000</td>\n",
       "      <td>1.000</td>\n",
       "      <td>1.000</td>\n",
       "      <td>1.000</td>\n",
       "      <td>1.000</td>\n",
       "      <td>1.000</td>\n",
       "      <td>1.000</td>\n",
       "      <td>1.000</td>\n",
       "      <td>1.000</td>\n",
       "      <td>1.000</td>\n",
       "      <td>1.000</td>\n",
       "      <td>1.000</td>\n",
       "      <td>1.000</td>\n",
       "      <td>1.000</td>\n",
       "      <td>1.000</td>\n",
       "      <td>1.000</td>\n",
       "      <td>1.000</td>\n",
       "      <td>1.000</td>\n",
       "      <td>1.000</td>\n",
       "    </tr>\n",
       "  </tbody>\n",
       "</table>\n",
       "</div>"
      ],
      "text/plain": [
       "          BPCA  COLMEDIAN     IMPSEQROB       IRM  KNN_IMPUTE       LLS  \\\n",
       "MSE      0.557      7.941 6,227,545.432     0.834       0.870     0.688   \n",
       "MAE      0.453      2.217     2,451.991     0.597       0.578     0.524   \n",
       "N    2,976.000  2,976.000     2,976.000 2,976.000   2,976.000 2,976.000   \n",
       "prop     1.000      1.000         1.000     1.000       1.000     1.000   \n",
       "\n",
       "        MINDET   MINIMUM   MINPROB           MLE  MSIMPUTE  MSIMPUTE_MNAR  \\\n",
       "MSE     24.975    95.562    25.310 5,505,296.129    93.951         73.576   \n",
       "MAE      4.190     9.369     4.205     2,175.538     9.580          8.417   \n",
       "N    2,976.000 2,976.000 2,976.000     2,976.000 2,976.000      2,976.000   \n",
       "prop     1.000     1.000     1.000         1.000     1.000          1.000   \n",
       "\n",
       "            PI     QRILC        RF  ROWMEDIAN  SVDMETHOD     TRKNN      ZERO  \n",
       "MSE     22.855     4.350     0.567      0.843      8.370     0.562   277.956  \n",
       "MAE      3.919     1.650     0.484      0.624      2.314     0.470    16.437  \n",
       "N    2,976.000 2,976.000 2,976.000  2,976.000  2,976.000 2,976.000 2,976.000  \n",
       "prop     1.000     1.000     1.000      1.000      1.000     1.000     1.000  "
      ]
     },
     "execution_count": 16,
     "metadata": {},
     "output_type": "execute_result"
    }
   ],
   "source": [
    "added_metrics = d_metrics.add_metrics(test_pred_fake_na.dropna(how='all', axis=1), 'test_fake_na')\n",
    "pd.DataFrame(added_metrics)"
   ]
  },
  {
   "cell_type": "code",
   "execution_count": 17,
   "id": "37e8e515",
   "metadata": {
    "execution": {
     "iopub.execute_input": "2024-08-30T12:06:13.458207Z",
     "iopub.status.busy": "2024-08-30T12:06:13.457824Z",
     "iopub.status.idle": "2024-08-30T12:06:13.468099Z",
     "shell.execute_reply": "2024-08-30T12:06:13.467652Z"
    },
    "papermill": {
     "duration": 0.018785,
     "end_time": "2024-08-30T12:06:13.469078",
     "exception": false,
     "start_time": "2024-08-30T12:06:13.450293",
     "status": "completed"
    },
    "tags": [
     "hide-input"
    ]
   },
   "outputs": [
    {
     "data": {
      "text/html": [
       "<div>\n",
       "<style scoped>\n",
       "    .dataframe tbody tr th:only-of-type {\n",
       "        vertical-align: middle;\n",
       "    }\n",
       "\n",
       "    .dataframe tbody tr th {\n",
       "        vertical-align: top;\n",
       "    }\n",
       "\n",
       "    .dataframe thead th {\n",
       "        text-align: right;\n",
       "    }\n",
       "</style>\n",
       "<table border=\"1\" class=\"dataframe\">\n",
       "  <thead>\n",
       "    <tr style=\"text-align: right;\">\n",
       "      <th></th>\n",
       "      <th>subset</th>\n",
       "      <th>valid_fake_na</th>\n",
       "      <th>test_fake_na</th>\n",
       "    </tr>\n",
       "    <tr>\n",
       "      <th>model</th>\n",
       "      <th>metric_name</th>\n",
       "      <th></th>\n",
       "      <th></th>\n",
       "    </tr>\n",
       "  </thead>\n",
       "  <tbody>\n",
       "    <tr>\n",
       "      <th rowspan=\"4\" valign=\"top\">BPCA</th>\n",
       "      <th>MSE</th>\n",
       "      <td>0.388</td>\n",
       "      <td>0.557</td>\n",
       "    </tr>\n",
       "    <tr>\n",
       "      <th>MAE</th>\n",
       "      <td>0.406</td>\n",
       "      <td>0.453</td>\n",
       "    </tr>\n",
       "    <tr>\n",
       "      <th>N</th>\n",
       "      <td>2,892.000</td>\n",
       "      <td>2,976.000</td>\n",
       "    </tr>\n",
       "    <tr>\n",
       "      <th>prop</th>\n",
       "      <td>1.000</td>\n",
       "      <td>1.000</td>\n",
       "    </tr>\n",
       "    <tr>\n",
       "      <th>COLMEDIAN</th>\n",
       "      <th>MSE</th>\n",
       "      <td>7.712</td>\n",
       "      <td>7.941</td>\n",
       "    </tr>\n",
       "    <tr>\n",
       "      <th>...</th>\n",
       "      <th>...</th>\n",
       "      <td>...</td>\n",
       "      <td>...</td>\n",
       "    </tr>\n",
       "    <tr>\n",
       "      <th>TRKNN</th>\n",
       "      <th>prop</th>\n",
       "      <td>1.000</td>\n",
       "      <td>1.000</td>\n",
       "    </tr>\n",
       "    <tr>\n",
       "      <th rowspan=\"4\" valign=\"top\">ZERO</th>\n",
       "      <th>MSE</th>\n",
       "      <td>281.082</td>\n",
       "      <td>277.956</td>\n",
       "    </tr>\n",
       "    <tr>\n",
       "      <th>MAE</th>\n",
       "      <td>16.536</td>\n",
       "      <td>16.437</td>\n",
       "    </tr>\n",
       "    <tr>\n",
       "      <th>N</th>\n",
       "      <td>2,892.000</td>\n",
       "      <td>2,976.000</td>\n",
       "    </tr>\n",
       "    <tr>\n",
       "      <th>prop</th>\n",
       "      <td>1.000</td>\n",
       "      <td>1.000</td>\n",
       "    </tr>\n",
       "  </tbody>\n",
       "</table>\n",
       "<p>76 rows × 2 columns</p>\n",
       "</div>"
      ],
      "text/plain": [
       "subset                 valid_fake_na  test_fake_na\n",
       "model     metric_name                             \n",
       "BPCA      MSE                  0.388         0.557\n",
       "          MAE                  0.406         0.453\n",
       "          N                2,892.000     2,976.000\n",
       "          prop                 1.000         1.000\n",
       "COLMEDIAN MSE                  7.712         7.941\n",
       "...                              ...           ...\n",
       "TRKNN     prop                 1.000         1.000\n",
       "ZERO      MSE                281.082       277.956\n",
       "          MAE                 16.536        16.437\n",
       "          N                2,892.000     2,976.000\n",
       "          prop                 1.000         1.000\n",
       "\n",
       "[76 rows x 2 columns]"
      ]
     },
     "execution_count": 17,
     "metadata": {},
     "output_type": "execute_result"
    }
   ],
   "source": [
    "metrics_df = pimmslearn.models.get_df_from_nested_dict(\n",
    "    d_metrics.metrics, column_levels=['model', 'metric_name']).T\n",
    "metrics_df"
   ]
  },
  {
   "cell_type": "code",
   "execution_count": 18,
   "id": "f1f0d12c",
   "metadata": {
    "execution": {
     "iopub.execute_input": "2024-08-30T12:06:13.484774Z",
     "iopub.status.busy": "2024-08-30T12:06:13.484410Z",
     "iopub.status.idle": "2024-08-30T12:06:13.491298Z",
     "shell.execute_reply": "2024-08-30T12:06:13.490819Z"
    },
    "papermill": {
     "duration": 0.015939,
     "end_time": "2024-08-30T12:06:13.492441",
     "exception": false,
     "start_time": "2024-08-30T12:06:13.476502",
     "status": "completed"
    },
    "tags": [
     "hide-input"
    ]
   },
   "outputs": [
    {
     "data": {
      "text/plain": [
       "model          metric_name\n",
       "BPCA           MAE               0.406\n",
       "TRKNN          MAE               0.436\n",
       "RF             MAE               0.449\n",
       "KNN_IMPUTE     MAE               0.535\n",
       "IRM            MAE               0.575\n",
       "ROWMEDIAN      MAE               0.580\n",
       "LLS            MAE               0.695\n",
       "QRILC          MAE               1.614\n",
       "COLMEDIAN      MAE               2.204\n",
       "SVDMETHOD      MAE               2.283\n",
       "PI             MAE               3.975\n",
       "MINDET         MAE               4.267\n",
       "MINPROB        MAE               4.293\n",
       "MSIMPUTE_MNAR  MAE               8.471\n",
       "MINIMUM        MAE               9.468\n",
       "MSIMPUTE       MAE               9.625\n",
       "ZERO           MAE              16.536\n",
       "MLE            MAE           2,132.119\n",
       "IMPSEQROB      MAE           2,433.435\n",
       "Name: valid_fake_na, dtype: float64"
      ]
     },
     "execution_count": 18,
     "metadata": {},
     "output_type": "execute_result"
    }
   ],
   "source": [
    "order_methods = metrics_df.loc[pd.IndexSlice[:,\n",
    "                                             'MAE'], 'valid_fake_na'].sort_values()\n",
    "order_methods"
   ]
  },
  {
   "cell_type": "code",
   "execution_count": 19,
   "id": "a0f8ce7c",
   "metadata": {
    "execution": {
     "iopub.execute_input": "2024-08-30T12:06:13.512204Z",
     "iopub.status.busy": "2024-08-30T12:06:13.511803Z",
     "iopub.status.idle": "2024-08-30T12:06:13.515790Z",
     "shell.execute_reply": "2024-08-30T12:06:13.515369Z"
    },
    "papermill": {
     "duration": 0.013296,
     "end_time": "2024-08-30T12:06:13.516776",
     "exception": false,
     "start_time": "2024-08-30T12:06:13.503480",
     "status": "completed"
    },
    "tags": [
     "hide-input"
    ]
   },
   "outputs": [
    {
     "data": {
      "text/plain": [
       "['observed', 'BPCA', 'TRKNN', 'RF', 'KNN_IMPUTE', 'IRM', 'ROWMEDIAN']"
      ]
     },
     "execution_count": 19,
     "metadata": {},
     "output_type": "execute_result"
    }
   ],
   "source": [
    "top_5 = ['observed', *order_methods.droplevel(-1).index[:6]]\n",
    "top_5"
   ]
  },
  {
   "cell_type": "code",
   "execution_count": 20,
   "id": "7e041594",
   "metadata": {
    "execution": {
     "iopub.execute_input": "2024-08-30T12:06:13.532213Z",
     "iopub.status.busy": "2024-08-30T12:06:13.531924Z",
     "iopub.status.idle": "2024-08-30T12:06:17.378429Z",
     "shell.execute_reply": "2024-08-30T12:06:17.377885Z"
    },
    "papermill": {
     "duration": 3.855278,
     "end_time": "2024-08-30T12:06:17.379400",
     "exception": false,
     "start_time": "2024-08-30T12:06:13.524122",
     "status": "completed"
    },
    "tags": [
     "hide-input"
    ]
   },
   "outputs": [
    {
     "name": "stderr",
     "output_type": "stream",
     "text": [
      "/home/runner/work/pimms/pimms/project/.snakemake/conda/6715efd991e76280121d63e6ee52e56e_/lib/python3.12/site-packages/seaborn/categorical.py:641: FutureWarning: The default of observed=False is deprecated and will be changed to True in a future version of pandas. Pass observed=False to retain current behavior or observed=True to adopt the future default and silence this warning.\n",
      "  grouped_vals = vals.groupby(grouper)\n",
      "/home/runner/work/pimms/pimms/project/.snakemake/conda/6715efd991e76280121d63e6ee52e56e_/lib/python3.12/site-packages/seaborn/categorical.py:641: FutureWarning: The default of observed=False is deprecated and will be changed to True in a future version of pandas. Pass observed=False to retain current behavior or observed=True to adopt the future default and silence this warning.\n",
      "  grouped_vals = vals.groupby(grouper)\n"
     ]
    },
    {
     "name": "stdout",
     "output_type": "stream",
     "text": [
      "pimmslearn.plotting - INFO     Saved Figures to runs/alzheimer_study/figures/NAGuideR_errors_per_bin_val.png\n"
     ]
    },
    {
     "data": {
      "image/png": "[encoded data removed]",
      "text/plain": [
       "<Figure size 1176x294 with 1 Axes>"
      ]
     },
     "metadata": {},
     "output_type": "display_data"
    }
   ],
   "source": [
    "fig, ax = plt.subplots(figsize=(8, 2))\n",
    "ax, errors_bind = pimmslearn.plotting.errors.plot_errors_binned(\n",
    "    val_pred_fake_na[top_5],\n",
    "    ax=ax,\n",
    ")\n",
    "fname = args.out_figures / 'NAGuideR_errors_per_bin_val.png'\n",
    "files_out[fname.name] = fname.as_posix()\n",
    "pimmslearn.savefig(ax.get_figure(), fname)"
   ]
  },
  {
   "cell_type": "code",
   "execution_count": 21,
   "id": "77b1b792",
   "metadata": {
    "execution": {
     "iopub.execute_input": "2024-08-30T12:06:17.396174Z",
     "iopub.status.busy": "2024-08-30T12:06:17.395751Z",
     "iopub.status.idle": "2024-08-30T12:06:17.400323Z",
     "shell.execute_reply": "2024-08-30T12:06:17.399940Z"
    },
    "papermill": {
     "duration": 0.013988,
     "end_time": "2024-08-30T12:06:17.401316",
     "exception": false,
     "start_time": "2024-08-30T12:06:17.387328",
     "status": "completed"
    },
    "tags": [
     "hide-input"
    ]
   },
   "outputs": [
    {
     "data": {
      "text/plain": [
       "{'pred_val_BPCA.csv': 'runs/alzheimer_study/preds/pred_val_BPCA.csv',\n",
       " 'pred_test_BPCA.csv': 'runs/alzheimer_study/preds/pred_test_BPCA.csv',\n",
       " 'pred_real_na_BPCA.csv': 'runs/alzheimer_study/preds/pred_real_na_BPCA.csv',\n",
       " 'pred_val_COLMEDIAN.csv': 'runs/alzheimer_study/preds/pred_val_COLMEDIAN.csv',\n",
       " 'pred_test_COLMEDIAN.csv': 'runs/alzheimer_study/preds/pred_test_COLMEDIAN.csv',\n",
       " 'pred_real_na_COLMEDIAN.csv': 'runs/alzheimer_study/preds/pred_real_na_COLMEDIAN.csv',\n",
       " 'pred_val_IMPSEQ.csv': 'runs/alzheimer_study/preds/pred_val_IMPSEQ.csv',\n",
       " 'pred_test_IMPSEQ.csv': 'runs/alzheimer_study/preds/pred_test_IMPSEQ.csv',\n",
       " 'pred_real_na_IMPSEQ.csv': 'runs/alzheimer_study/preds/pred_real_na_IMPSEQ.csv',\n",
       " 'pred_val_IMPSEQROB.csv': 'runs/alzheimer_study/preds/pred_val_IMPSEQROB.csv',\n",
       " 'pred_test_IMPSEQROB.csv': 'runs/alzheimer_study/preds/pred_test_IMPSEQROB.csv',\n",
       " 'pred_real_na_IMPSEQROB.csv': 'runs/alzheimer_study/preds/pred_real_na_IMPSEQROB.csv',\n",
       " 'pred_val_IRM.csv': 'runs/alzheimer_study/preds/pred_val_IRM.csv',\n",
       " 'pred_test_IRM.csv': 'runs/alzheimer_study/preds/pred_test_IRM.csv',\n",
       " 'pred_real_na_IRM.csv': 'runs/alzheimer_study/preds/pred_real_na_IRM.csv',\n",
       " 'pred_val_KNN_IMPUTE.csv': 'runs/alzheimer_study/preds/pred_val_KNN_IMPUTE.csv',\n",
       " 'pred_test_KNN_IMPUTE.csv': 'runs/alzheimer_study/preds/pred_test_KNN_IMPUTE.csv',\n",
       " 'pred_real_na_KNN_IMPUTE.csv': 'runs/alzheimer_study/preds/pred_real_na_KNN_IMPUTE.csv',\n",
       " 'pred_val_LLS.csv': 'runs/alzheimer_study/preds/pred_val_LLS.csv',\n",
       " 'pred_test_LLS.csv': 'runs/alzheimer_study/preds/pred_test_LLS.csv',\n",
       " 'pred_real_na_LLS.csv': 'runs/alzheimer_study/preds/pred_real_na_LLS.csv',\n",
       " 'pred_val_MINDET.csv': 'runs/alzheimer_study/preds/pred_val_MINDET.csv',\n",
       " 'pred_test_MINDET.csv': 'runs/alzheimer_study/preds/pred_test_MINDET.csv',\n",
       " 'pred_real_na_MINDET.csv': 'runs/alzheimer_study/preds/pred_real_na_MINDET.csv',\n",
       " 'pred_val_MINIMUM.csv': 'runs/alzheimer_study/preds/pred_val_MINIMUM.csv',\n",
       " 'pred_test_MINIMUM.csv': 'runs/alzheimer_study/preds/pred_test_MINIMUM.csv',\n",
       " 'pred_real_na_MINIMUM.csv': 'runs/alzheimer_study/preds/pred_real_na_MINIMUM.csv',\n",
       " 'pred_val_MINPROB.csv': 'runs/alzheimer_study/preds/pred_val_MINPROB.csv',\n",
       " 'pred_test_MINPROB.csv': 'runs/alzheimer_study/preds/pred_test_MINPROB.csv',\n",
       " 'pred_real_na_MINPROB.csv': 'runs/alzheimer_study/preds/pred_real_na_MINPROB.csv',\n",
       " 'pred_val_MLE.csv': 'runs/alzheimer_study/preds/pred_val_MLE.csv',\n",
       " 'pred_test_MLE.csv': 'runs/alzheimer_study/preds/pred_test_MLE.csv',\n",
       " 'pred_real_na_MLE.csv': 'runs/alzheimer_study/preds/pred_real_na_MLE.csv',\n",
       " 'pred_val_MSIMPUTE.csv': 'runs/alzheimer_study/preds/pred_val_MSIMPUTE.csv',\n",
       " 'pred_test_MSIMPUTE.csv': 'runs/alzheimer_study/preds/pred_test_MSIMPUTE.csv',\n",
       " 'pred_real_na_MSIMPUTE.csv': 'runs/alzheimer_study/preds/pred_real_na_MSIMPUTE.csv',\n",
       " 'pred_val_MSIMPUTE_MNAR.csv': 'runs/alzheimer_study/preds/pred_val_MSIMPUTE_MNAR.csv',\n",
       " 'pred_test_MSIMPUTE_MNAR.csv': 'runs/alzheimer_study/preds/pred_test_MSIMPUTE_MNAR.csv',\n",
       " 'pred_real_na_MSIMPUTE_MNAR.csv': 'runs/alzheimer_study/preds/pred_real_na_MSIMPUTE_MNAR.csv',\n",
       " 'pred_val_PI.csv': 'runs/alzheimer_study/preds/pred_val_PI.csv',\n",
       " 'pred_test_PI.csv': 'runs/alzheimer_study/preds/pred_test_PI.csv',\n",
       " 'pred_real_na_PI.csv': 'runs/alzheimer_study/preds/pred_real_na_PI.csv',\n",
       " 'pred_val_QRILC.csv': 'runs/alzheimer_study/preds/pred_val_QRILC.csv',\n",
       " 'pred_test_QRILC.csv': 'runs/alzheimer_study/preds/pred_test_QRILC.csv',\n",
       " 'pred_real_na_QRILC.csv': 'runs/alzheimer_study/preds/pred_real_na_QRILC.csv',\n",
       " 'pred_val_RF.csv': 'runs/alzheimer_study/preds/pred_val_RF.csv',\n",
       " 'pred_test_RF.csv': 'runs/alzheimer_study/preds/pred_test_RF.csv',\n",
       " 'pred_real_na_RF.csv': 'runs/alzheimer_study/preds/pred_real_na_RF.csv',\n",
       " 'pred_val_ROWMEDIAN.csv': 'runs/alzheimer_study/preds/pred_val_ROWMEDIAN.csv',\n",
       " 'pred_test_ROWMEDIAN.csv': 'runs/alzheimer_study/preds/pred_test_ROWMEDIAN.csv',\n",
       " 'pred_real_na_ROWMEDIAN.csv': 'runs/alzheimer_study/preds/pred_real_na_ROWMEDIAN.csv',\n",
       " 'pred_val_SVDMETHOD.csv': 'runs/alzheimer_study/preds/pred_val_SVDMETHOD.csv',\n",
       " 'pred_test_SVDMETHOD.csv': 'runs/alzheimer_study/preds/pred_test_SVDMETHOD.csv',\n",
       " 'pred_real_na_SVDMETHOD.csv': 'runs/alzheimer_study/preds/pred_real_na_SVDMETHOD.csv',\n",
       " 'pred_val_TRKNN.csv': 'runs/alzheimer_study/preds/pred_val_TRKNN.csv',\n",
       " 'pred_test_TRKNN.csv': 'runs/alzheimer_study/preds/pred_test_TRKNN.csv',\n",
       " 'pred_real_na_TRKNN.csv': 'runs/alzheimer_study/preds/pred_real_na_TRKNN.csv',\n",
       " 'pred_val_ZERO.csv': 'runs/alzheimer_study/preds/pred_val_ZERO.csv',\n",
       " 'pred_test_ZERO.csv': 'runs/alzheimer_study/preds/pred_test_ZERO.csv',\n",
       " 'pred_real_na_ZERO.csv': 'runs/alzheimer_study/preds/pred_real_na_ZERO.csv',\n",
       " 'NAGuideR_errors_per_bin_val.png': 'runs/alzheimer_study/figures/NAGuideR_errors_per_bin_val.png'}"
      ]
     },
     "execution_count": 21,
     "metadata": {},
     "output_type": "execute_result"
    }
   ],
   "source": [
    "files_out"
   ]
  }
 ],
 "metadata": {
  "jupytext": {
   "cell_metadata_filter": "title,tags,-all"
  },
  "kernelspec": {
   "display_name": "Python 3",
   "language": "python",
   "name": "python3"
  },
  "language_info": {
   "codemirror_mode": {
    "name": "ipython",
    "version": 3
   },
   "file_extension": ".py",
   "mimetype": "text/x-python",
   "name": "python",
   "nbconvert_exporter": "python",
   "pygments_lexer": "ipython3",
   "version": "3.12.0"
  },
  "papermill": {
   "default_parameters": {},
   "duration": 12.477352,
   "end_time": "2024-08-30T12:06:18.227812",
   "environment_variables": {},
   "exception": null,
   "input_path": "01_1_transfer_NAGuideR_pred.ipynb",
   "output_path": "runs/alzheimer_study/01_1_transfer_NAGuideR_pred.ipynb",
   "parameters": {
    "dumps": "runs/alzheimer_study/preds/pred_all_BPCA.csv,runs/alzheimer_study/preds/pred_all_COLMEDIAN.csv,runs/alzheimer_study/preds/pred_all_IMPSEQ.csv,runs/alzheimer_study/preds/pred_all_IMPSEQROB.csv,runs/alzheimer_study/preds/pred_all_IRM.csv,runs/alzheimer_study/preds/pred_all_KNN_IMPUTE.csv,runs/alzheimer_study/preds/pred_all_LLS.csv,runs/alzheimer_study/preds/pred_all_MINDET.csv,runs/alzheimer_study/preds/pred_all_MINIMUM.csv,runs/alzheimer_study/preds/pred_all_MINPROB.csv,runs/alzheimer_study/preds/pred_all_MLE.csv,runs/alzheimer_study/preds/pred_all_MSIMPUTE.csv,runs/alzheimer_study/preds/pred_all_MSIMPUTE_MNAR.csv,runs/alzheimer_study/preds/pred_all_PI.csv,runs/alzheimer_study/preds/pred_all_QRILC.csv,runs/alzheimer_study/preds/pred_all_RF.csv,runs/alzheimer_study/preds/pred_all_ROWMEDIAN.csv,runs/alzheimer_study/preds/pred_all_SVDMETHOD.csv,runs/alzheimer_study/preds/pred_all_TRKNN.csv,runs/alzheimer_study/preds/pred_all_ZERO.csv",
    "folder_experiment": "runs/alzheimer_study"
   },
   "start_time": "2024-08-30T12:06:05.750460",
   "version": "2.6.0"
  }
 },
 "nbformat": 4,
 "nbformat_minor": 5
}