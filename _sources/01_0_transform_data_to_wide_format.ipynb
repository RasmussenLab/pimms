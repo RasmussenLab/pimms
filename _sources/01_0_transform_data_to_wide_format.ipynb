{
 "cells": [
  {
   "cell_type": "markdown",
   "id": "0b3a8726",
   "metadata": {
    "papermill": {
     "duration": 0.004063,
     "end_time": "2024-05-27T15:15:12.718216",
     "exception": false,
     "start_time": "2024-05-27T15:15:12.714153",
     "status": "completed"
    },
    "tags": []
   },
   "source": [
    "# Transfer data for NAGuideR format\n"
   ]
  },
  {
   "cell_type": "code",
   "execution_count": 1,
   "id": "9aacaba7",
   "metadata": {
    "execution": {
     "iopub.execute_input": "2024-05-27T15:15:12.726062Z",
     "iopub.status.busy": "2024-05-27T15:15:12.725766Z",
     "iopub.status.idle": "2024-05-27T15:15:16.429333Z",
     "shell.execute_reply": "2024-05-27T15:15:16.428352Z"
    },
    "lines_to_next_cell": 2,
    "papermill": {
     "duration": 3.710088,
     "end_time": "2024-05-27T15:15:16.431705",
     "exception": false,
     "start_time": "2024-05-27T15:15:12.721617",
     "status": "completed"
    },
    "tags": []
   },
   "outputs": [],
   "source": [
    "import pandas as pd\n",
    "\n",
    "import vaep\n",
    "import vaep.models\n",
    "from vaep.io import datasplits"
   ]
  },
  {
   "cell_type": "code",
   "execution_count": 2,
   "id": "d01a155d",
   "metadata": {
    "execution": {
     "iopub.execute_input": "2024-05-27T15:15:16.439570Z",
     "iopub.status.busy": "2024-05-27T15:15:16.439044Z",
     "iopub.status.idle": "2024-05-27T15:15:16.443062Z",
     "shell.execute_reply": "2024-05-27T15:15:16.442382Z"
    },
    "papermill": {
     "duration": 0.011117,
     "end_time": "2024-05-27T15:15:16.445988",
     "exception": false,
     "start_time": "2024-05-27T15:15:16.434871",
     "status": "completed"
    },
    "tags": []
   },
   "outputs": [],
   "source": [
    "# catch passed parameters\n",
    "args = None\n",
    "args = dict(globals()).keys()"
   ]
  },
  {
   "cell_type": "markdown",
   "id": "55e364af",
   "metadata": {
    "papermill": {
     "duration": 0.003,
     "end_time": "2024-05-27T15:15:16.452216",
     "exception": false,
     "start_time": "2024-05-27T15:15:16.449216",
     "status": "completed"
    },
    "tags": []
   },
   "source": [
    "Papermill script parameters:"
   ]
  },
  {
   "cell_type": "code",
   "execution_count": 3,
   "id": "394d0bb1",
   "metadata": {
    "execution": {
     "iopub.execute_input": "2024-05-27T15:15:16.461175Z",
     "iopub.status.busy": "2024-05-27T15:15:16.460832Z",
     "iopub.status.idle": "2024-05-27T15:15:16.465044Z",
     "shell.execute_reply": "2024-05-27T15:15:16.464306Z"
    },
    "papermill": {
     "duration": 0.012946,
     "end_time": "2024-05-27T15:15:16.468058",
     "exception": false,
     "start_time": "2024-05-27T15:15:16.455112",
     "status": "completed"
    },
    "tags": [
     "parameters"
    ]
   },
   "outputs": [],
   "source": [
    "# files and folders\n",
    "# Datasplit folder with data for experiment\n",
    "folder_experiment: str = 'runs/example'\n",
    "folder_data: str = ''  # specify data directory if needed\n",
    "file_format_in: str = 'csv'  # file format of original splits, default pickle (pkl)\n",
    "file_format_out: str = 'csv'  # file format of transformed splits, default csv"
   ]
  },
  {
   "cell_type": "code",
   "execution_count": 4,
   "id": "df39dee2",
   "metadata": {
    "execution": {
     "iopub.execute_input": "2024-05-27T15:15:16.476372Z",
     "iopub.status.busy": "2024-05-27T15:15:16.476100Z",
     "iopub.status.idle": "2024-05-27T15:15:16.479425Z",
     "shell.execute_reply": "2024-05-27T15:15:16.478720Z"
    },
    "papermill": {
     "duration": 0.010921,
     "end_time": "2024-05-27T15:15:16.482487",
     "exception": false,
     "start_time": "2024-05-27T15:15:16.471566",
     "status": "completed"
    },
    "tags": [
     "injected-parameters"
    ]
   },
   "outputs": [],
   "source": [
    "# Parameters\n",
    "folder_experiment = \"runs/alzheimer_study\"\n"
   ]
  },
  {
   "cell_type": "code",
   "execution_count": 5,
   "id": "43ff9ae3",
   "metadata": {
    "execution": {
     "iopub.execute_input": "2024-05-27T15:15:16.490687Z",
     "iopub.status.busy": "2024-05-27T15:15:16.490413Z",
     "iopub.status.idle": "2024-05-27T15:15:16.499313Z",
     "shell.execute_reply": "2024-05-27T15:15:16.498590Z"
    },
    "papermill": {
     "duration": 0.014795,
     "end_time": "2024-05-27T15:15:16.500900",
     "exception": false,
     "start_time": "2024-05-27T15:15:16.486105",
     "status": "completed"
    },
    "tags": []
   },
   "outputs": [
    {
     "data": {
      "text/plain": [
       "{'folder_experiment': 'runs/alzheimer_study',\n",
       " 'folder_data': '',\n",
       " 'file_format_in': 'csv',\n",
       " 'file_format_out': 'csv'}"
      ]
     },
     "execution_count": 5,
     "metadata": {},
     "output_type": "execute_result"
    }
   ],
   "source": [
    "args = vaep.nb.get_params(args, globals=globals())\n",
    "args"
   ]
  },
  {
   "cell_type": "code",
   "execution_count": 6,
   "id": "11e46901",
   "metadata": {
    "execution": {
     "iopub.execute_input": "2024-05-27T15:15:16.511765Z",
     "iopub.status.busy": "2024-05-27T15:15:16.511483Z",
     "iopub.status.idle": "2024-05-27T15:15:16.516469Z",
     "shell.execute_reply": "2024-05-27T15:15:16.515796Z"
    },
    "papermill": {
     "duration": 0.016242,
     "end_time": "2024-05-27T15:15:16.520459",
     "exception": false,
     "start_time": "2024-05-27T15:15:16.504217",
     "status": "completed"
    },
    "tags": []
   },
   "outputs": [
    {
     "data": {
      "text/plain": [
       "{'data': Path('runs/alzheimer_study/data'),\n",
       " 'file_format_in': 'csv',\n",
       " 'file_format_out': 'csv',\n",
       " 'folder_data': '',\n",
       " 'folder_experiment': Path('runs/alzheimer_study'),\n",
       " 'out_figures': Path('runs/alzheimer_study/figures'),\n",
       " 'out_folder': Path('runs/alzheimer_study'),\n",
       " 'out_metrics': Path('runs/alzheimer_study'),\n",
       " 'out_models': Path('runs/alzheimer_study'),\n",
       " 'out_preds': Path('runs/alzheimer_study/preds')}"
      ]
     },
     "execution_count": 6,
     "metadata": {},
     "output_type": "execute_result"
    }
   ],
   "source": [
    "params = vaep.nb.args_from_dict(args)\n",
    "# params = OmegaConf.create(args)\n",
    "params"
   ]
  },
  {
   "cell_type": "code",
   "execution_count": 7,
   "id": "1194de4e",
   "metadata": {
    "execution": {
     "iopub.execute_input": "2024-05-27T15:15:16.529035Z",
     "iopub.status.busy": "2024-05-27T15:15:16.528788Z",
     "iopub.status.idle": "2024-05-27T15:15:16.742595Z",
     "shell.execute_reply": "2024-05-27T15:15:16.741809Z"
    },
    "papermill": {
     "duration": 0.220413,
     "end_time": "2024-05-27T15:15:16.744711",
     "exception": false,
     "start_time": "2024-05-27T15:15:16.524298",
     "status": "completed"
    },
    "tags": []
   },
   "outputs": [],
   "source": [
    "splits = datasplits.DataSplits.from_folder(params.data, file_format=params.file_format_in)"
   ]
  },
  {
   "cell_type": "code",
   "execution_count": 8,
   "id": "197708a1",
   "metadata": {
    "execution": {
     "iopub.execute_input": "2024-05-27T15:15:16.754839Z",
     "iopub.status.busy": "2024-05-27T15:15:16.754517Z",
     "iopub.status.idle": "2024-05-27T15:15:16.806748Z",
     "shell.execute_reply": "2024-05-27T15:15:16.806014Z"
    },
    "lines_to_next_cell": 2,
    "papermill": {
     "duration": 0.058969,
     "end_time": "2024-05-27T15:15:16.808580",
     "exception": false,
     "start_time": "2024-05-27T15:15:16.749611",
     "status": "completed"
    },
    "tags": []
   },
   "outputs": [
    {
     "data": {
      "text/html": [
       "<div>\n",
       "<style scoped>\n",
       "    .dataframe tbody tr th:only-of-type {\n",
       "        vertical-align: middle;\n",
       "    }\n",
       "\n",
       "    .dataframe tbody tr th {\n",
       "        vertical-align: top;\n",
       "    }\n",
       "\n",
       "    .dataframe thead th {\n",
       "        text-align: right;\n",
       "    }\n",
       "</style>\n",
       "<table border=\"1\" class=\"dataframe\">\n",
       "  <thead>\n",
       "    <tr style=\"text-align: right;\">\n",
       "      <th>protein groups</th>\n",
       "      <th>A0A024QZX5;A0A087X1N8;P35237</th>\n",
       "      <th>A0A024R0T9;K7ER74;P02655</th>\n",
       "      <th>A0A024R3W6;A0A024R412;O60462;O60462-2;O60462-3;O60462-4;O60462-5;Q7LBX6;X5D2Q8</th>\n",
       "      <th>A0A024R644;A0A0A0MRU5;A0A1B0GWI2;O75503</th>\n",
       "      <th>A0A075B6H7</th>\n",
       "      <th>A0A075B6H9</th>\n",
       "      <th>A0A075B6I0</th>\n",
       "      <th>A0A075B6I1</th>\n",
       "      <th>A0A075B6I6</th>\n",
       "      <th>A0A075B6I9</th>\n",
       "      <th>...</th>\n",
       "      <th>Q9Y653;Q9Y653-2;Q9Y653-3</th>\n",
       "      <th>Q9Y696</th>\n",
       "      <th>Q9Y6C2</th>\n",
       "      <th>Q9Y6N6</th>\n",
       "      <th>Q9Y6N7;Q9Y6N7-2;Q9Y6N7-4</th>\n",
       "      <th>Q9Y6R7</th>\n",
       "      <th>Q9Y6X5</th>\n",
       "      <th>Q9Y6Y8;Q9Y6Y8-2</th>\n",
       "      <th>Q9Y6Y9</th>\n",
       "      <th>S4R3U6</th>\n",
       "    </tr>\n",
       "    <tr>\n",
       "      <th>Sample ID</th>\n",
       "      <th></th>\n",
       "      <th></th>\n",
       "      <th></th>\n",
       "      <th></th>\n",
       "      <th></th>\n",
       "      <th></th>\n",
       "      <th></th>\n",
       "      <th></th>\n",
       "      <th></th>\n",
       "      <th></th>\n",
       "      <th></th>\n",
       "      <th></th>\n",
       "      <th></th>\n",
       "      <th></th>\n",
       "      <th></th>\n",
       "      <th></th>\n",
       "      <th></th>\n",
       "      <th></th>\n",
       "      <th></th>\n",
       "      <th></th>\n",
       "      <th></th>\n",
       "    </tr>\n",
       "  </thead>\n",
       "  <tbody>\n",
       "    <tr>\n",
       "      <th>Sample_000</th>\n",
       "      <td>15.912</td>\n",
       "      <td>16.852</td>\n",
       "      <td>15.570</td>\n",
       "      <td>16.481</td>\n",
       "      <td>17.301</td>\n",
       "      <td>20.246</td>\n",
       "      <td>16.764</td>\n",
       "      <td>17.584</td>\n",
       "      <td>16.988</td>\n",
       "      <td>20.054</td>\n",
       "      <td>...</td>\n",
       "      <td>16.012</td>\n",
       "      <td>15.178</td>\n",
       "      <td>NaN</td>\n",
       "      <td>15.050</td>\n",
       "      <td>16.842</td>\n",
       "      <td>NaN</td>\n",
       "      <td>NaN</td>\n",
       "      <td>19.563</td>\n",
       "      <td>NaN</td>\n",
       "      <td>12.805</td>\n",
       "    </tr>\n",
       "    <tr>\n",
       "      <th>Sample_001</th>\n",
       "      <td>NaN</td>\n",
       "      <td>16.874</td>\n",
       "      <td>15.519</td>\n",
       "      <td>16.387</td>\n",
       "      <td>NaN</td>\n",
       "      <td>19.941</td>\n",
       "      <td>18.786</td>\n",
       "      <td>17.144</td>\n",
       "      <td>NaN</td>\n",
       "      <td>19.067</td>\n",
       "      <td>...</td>\n",
       "      <td>15.528</td>\n",
       "      <td>15.576</td>\n",
       "      <td>NaN</td>\n",
       "      <td>14.833</td>\n",
       "      <td>16.597</td>\n",
       "      <td>20.299</td>\n",
       "      <td>15.556</td>\n",
       "      <td>19.386</td>\n",
       "      <td>13.970</td>\n",
       "      <td>12.442</td>\n",
       "    </tr>\n",
       "    <tr>\n",
       "      <th>Sample_002</th>\n",
       "      <td>16.111</td>\n",
       "      <td>NaN</td>\n",
       "      <td>15.935</td>\n",
       "      <td>16.416</td>\n",
       "      <td>18.175</td>\n",
       "      <td>19.251</td>\n",
       "      <td>16.832</td>\n",
       "      <td>15.671</td>\n",
       "      <td>17.012</td>\n",
       "      <td>18.569</td>\n",
       "      <td>...</td>\n",
       "      <td>15.229</td>\n",
       "      <td>14.728</td>\n",
       "      <td>13.757</td>\n",
       "      <td>15.118</td>\n",
       "      <td>17.440</td>\n",
       "      <td>19.598</td>\n",
       "      <td>15.735</td>\n",
       "      <td>20.447</td>\n",
       "      <td>12.636</td>\n",
       "      <td>12.505</td>\n",
       "    </tr>\n",
       "    <tr>\n",
       "      <th>Sample_003</th>\n",
       "      <td>16.107</td>\n",
       "      <td>17.032</td>\n",
       "      <td>15.802</td>\n",
       "      <td>16.979</td>\n",
       "      <td>15.963</td>\n",
       "      <td>19.628</td>\n",
       "      <td>17.852</td>\n",
       "      <td>18.877</td>\n",
       "      <td>14.182</td>\n",
       "      <td>18.985</td>\n",
       "      <td>...</td>\n",
       "      <td>15.495</td>\n",
       "      <td>14.590</td>\n",
       "      <td>14.682</td>\n",
       "      <td>15.140</td>\n",
       "      <td>17.356</td>\n",
       "      <td>19.429</td>\n",
       "      <td>NaN</td>\n",
       "      <td>20.216</td>\n",
       "      <td>NaN</td>\n",
       "      <td>12.445</td>\n",
       "    </tr>\n",
       "    <tr>\n",
       "      <th>Sample_004</th>\n",
       "      <td>15.603</td>\n",
       "      <td>15.331</td>\n",
       "      <td>15.375</td>\n",
       "      <td>16.679</td>\n",
       "      <td>NaN</td>\n",
       "      <td>20.450</td>\n",
       "      <td>18.682</td>\n",
       "      <td>17.081</td>\n",
       "      <td>14.140</td>\n",
       "      <td>19.686</td>\n",
       "      <td>...</td>\n",
       "      <td>14.757</td>\n",
       "      <td>NaN</td>\n",
       "      <td>NaN</td>\n",
       "      <td>15.256</td>\n",
       "      <td>17.075</td>\n",
       "      <td>19.582</td>\n",
       "      <td>15.328</td>\n",
       "      <td>NaN</td>\n",
       "      <td>13.145</td>\n",
       "      <td>NaN</td>\n",
       "    </tr>\n",
       "    <tr>\n",
       "      <th>...</th>\n",
       "      <td>...</td>\n",
       "      <td>...</td>\n",
       "      <td>...</td>\n",
       "      <td>...</td>\n",
       "      <td>...</td>\n",
       "      <td>...</td>\n",
       "      <td>...</td>\n",
       "      <td>...</td>\n",
       "      <td>...</td>\n",
       "      <td>...</td>\n",
       "      <td>...</td>\n",
       "      <td>...</td>\n",
       "      <td>...</td>\n",
       "      <td>...</td>\n",
       "      <td>...</td>\n",
       "      <td>...</td>\n",
       "      <td>...</td>\n",
       "      <td>...</td>\n",
       "      <td>...</td>\n",
       "      <td>...</td>\n",
       "      <td>...</td>\n",
       "    </tr>\n",
       "    <tr>\n",
       "      <th>Sample_205</th>\n",
       "      <td>15.682</td>\n",
       "      <td>16.886</td>\n",
       "      <td>14.910</td>\n",
       "      <td>16.482</td>\n",
       "      <td>NaN</td>\n",
       "      <td>17.705</td>\n",
       "      <td>17.039</td>\n",
       "      <td>NaN</td>\n",
       "      <td>16.413</td>\n",
       "      <td>19.102</td>\n",
       "      <td>...</td>\n",
       "      <td>NaN</td>\n",
       "      <td>15.684</td>\n",
       "      <td>14.236</td>\n",
       "      <td>15.415</td>\n",
       "      <td>17.551</td>\n",
       "      <td>17.922</td>\n",
       "      <td>16.340</td>\n",
       "      <td>19.928</td>\n",
       "      <td>12.929</td>\n",
       "      <td>NaN</td>\n",
       "    </tr>\n",
       "    <tr>\n",
       "      <th>Sample_206</th>\n",
       "      <td>15.798</td>\n",
       "      <td>17.554</td>\n",
       "      <td>15.600</td>\n",
       "      <td>15.938</td>\n",
       "      <td>NaN</td>\n",
       "      <td>18.154</td>\n",
       "      <td>18.152</td>\n",
       "      <td>16.503</td>\n",
       "      <td>16.860</td>\n",
       "      <td>18.538</td>\n",
       "      <td>...</td>\n",
       "      <td>15.422</td>\n",
       "      <td>16.106</td>\n",
       "      <td>NaN</td>\n",
       "      <td>15.345</td>\n",
       "      <td>17.084</td>\n",
       "      <td>18.708</td>\n",
       "      <td>NaN</td>\n",
       "      <td>19.433</td>\n",
       "      <td>NaN</td>\n",
       "      <td>NaN</td>\n",
       "    </tr>\n",
       "    <tr>\n",
       "      <th>Sample_207</th>\n",
       "      <td>15.739</td>\n",
       "      <td>NaN</td>\n",
       "      <td>15.469</td>\n",
       "      <td>16.898</td>\n",
       "      <td>NaN</td>\n",
       "      <td>18.636</td>\n",
       "      <td>17.950</td>\n",
       "      <td>16.321</td>\n",
       "      <td>16.401</td>\n",
       "      <td>18.849</td>\n",
       "      <td>...</td>\n",
       "      <td>15.808</td>\n",
       "      <td>16.098</td>\n",
       "      <td>14.403</td>\n",
       "      <td>15.715</td>\n",
       "      <td>NaN</td>\n",
       "      <td>18.725</td>\n",
       "      <td>16.138</td>\n",
       "      <td>19.599</td>\n",
       "      <td>13.637</td>\n",
       "      <td>11.174</td>\n",
       "    </tr>\n",
       "    <tr>\n",
       "      <th>Sample_208</th>\n",
       "      <td>15.477</td>\n",
       "      <td>16.779</td>\n",
       "      <td>14.995</td>\n",
       "      <td>16.132</td>\n",
       "      <td>NaN</td>\n",
       "      <td>14.908</td>\n",
       "      <td>NaN</td>\n",
       "      <td>NaN</td>\n",
       "      <td>16.119</td>\n",
       "      <td>18.368</td>\n",
       "      <td>...</td>\n",
       "      <td>15.157</td>\n",
       "      <td>16.712</td>\n",
       "      <td>NaN</td>\n",
       "      <td>14.640</td>\n",
       "      <td>16.533</td>\n",
       "      <td>19.411</td>\n",
       "      <td>15.807</td>\n",
       "      <td>19.545</td>\n",
       "      <td>NaN</td>\n",
       "      <td>NaN</td>\n",
       "    </tr>\n",
       "    <tr>\n",
       "      <th>Sample_209</th>\n",
       "      <td>NaN</td>\n",
       "      <td>17.261</td>\n",
       "      <td>15.175</td>\n",
       "      <td>16.235</td>\n",
       "      <td>NaN</td>\n",
       "      <td>17.893</td>\n",
       "      <td>17.744</td>\n",
       "      <td>16.371</td>\n",
       "      <td>15.780</td>\n",
       "      <td>18.806</td>\n",
       "      <td>...</td>\n",
       "      <td>15.237</td>\n",
       "      <td>15.652</td>\n",
       "      <td>15.211</td>\n",
       "      <td>14.205</td>\n",
       "      <td>16.749</td>\n",
       "      <td>19.275</td>\n",
       "      <td>15.732</td>\n",
       "      <td>19.577</td>\n",
       "      <td>11.042</td>\n",
       "      <td>11.791</td>\n",
       "    </tr>\n",
       "  </tbody>\n",
       "</table>\n",
       "<p>210 rows × 1421 columns</p>\n",
       "</div>"
      ],
      "text/plain": [
       "protein groups  A0A024QZX5;A0A087X1N8;P35237  A0A024R0T9;K7ER74;P02655  \\\n",
       "Sample ID                                                                \n",
       "Sample_000                            15.912                    16.852   \n",
       "Sample_001                               NaN                    16.874   \n",
       "Sample_002                            16.111                       NaN   \n",
       "Sample_003                            16.107                    17.032   \n",
       "Sample_004                            15.603                    15.331   \n",
       "...                                      ...                       ...   \n",
       "Sample_205                            15.682                    16.886   \n",
       "Sample_206                            15.798                    17.554   \n",
       "Sample_207                            15.739                       NaN   \n",
       "Sample_208                            15.477                    16.779   \n",
       "Sample_209                               NaN                    17.261   \n",
       "\n",
       "protein groups  A0A024R3W6;A0A024R412;O60462;O60462-2;O60462-3;O60462-4;O60462-5;Q7LBX6;X5D2Q8  \\\n",
       "Sample ID                                                                                        \n",
       "Sample_000                                                                              15.570   \n",
       "Sample_001                                                                              15.519   \n",
       "Sample_002                                                                              15.935   \n",
       "Sample_003                                                                              15.802   \n",
       "Sample_004                                                                              15.375   \n",
       "...                                                                                        ...   \n",
       "Sample_205                                                                              14.910   \n",
       "Sample_206                                                                              15.600   \n",
       "Sample_207                                                                              15.469   \n",
       "Sample_208                                                                              14.995   \n",
       "Sample_209                                                                              15.175   \n",
       "\n",
       "protein groups  A0A024R644;A0A0A0MRU5;A0A1B0GWI2;O75503  A0A075B6H7  \\\n",
       "Sample ID                                                             \n",
       "Sample_000                                       16.481      17.301   \n",
       "Sample_001                                       16.387         NaN   \n",
       "Sample_002                                       16.416      18.175   \n",
       "Sample_003                                       16.979      15.963   \n",
       "Sample_004                                       16.679         NaN   \n",
       "...                                                 ...         ...   \n",
       "Sample_205                                       16.482         NaN   \n",
       "Sample_206                                       15.938         NaN   \n",
       "Sample_207                                       16.898         NaN   \n",
       "Sample_208                                       16.132         NaN   \n",
       "Sample_209                                       16.235         NaN   \n",
       "\n",
       "protein groups  A0A075B6H9  A0A075B6I0  A0A075B6I1  A0A075B6I6  A0A075B6I9  \\\n",
       "Sample ID                                                                    \n",
       "Sample_000          20.246      16.764      17.584      16.988      20.054   \n",
       "Sample_001          19.941      18.786      17.144         NaN      19.067   \n",
       "Sample_002          19.251      16.832      15.671      17.012      18.569   \n",
       "Sample_003          19.628      17.852      18.877      14.182      18.985   \n",
       "Sample_004          20.450      18.682      17.081      14.140      19.686   \n",
       "...                    ...         ...         ...         ...         ...   \n",
       "Sample_205          17.705      17.039         NaN      16.413      19.102   \n",
       "Sample_206          18.154      18.152      16.503      16.860      18.538   \n",
       "Sample_207          18.636      17.950      16.321      16.401      18.849   \n",
       "Sample_208          14.908         NaN         NaN      16.119      18.368   \n",
       "Sample_209          17.893      17.744      16.371      15.780      18.806   \n",
       "\n",
       "protein groups  ...  Q9Y653;Q9Y653-2;Q9Y653-3  Q9Y696  Q9Y6C2  Q9Y6N6  \\\n",
       "Sample ID       ...                                                     \n",
       "Sample_000      ...                    16.012  15.178     NaN  15.050   \n",
       "Sample_001      ...                    15.528  15.576     NaN  14.833   \n",
       "Sample_002      ...                    15.229  14.728  13.757  15.118   \n",
       "Sample_003      ...                    15.495  14.590  14.682  15.140   \n",
       "Sample_004      ...                    14.757     NaN     NaN  15.256   \n",
       "...             ...                       ...     ...     ...     ...   \n",
       "Sample_205      ...                       NaN  15.684  14.236  15.415   \n",
       "Sample_206      ...                    15.422  16.106     NaN  15.345   \n",
       "Sample_207      ...                    15.808  16.098  14.403  15.715   \n",
       "Sample_208      ...                    15.157  16.712     NaN  14.640   \n",
       "Sample_209      ...                    15.237  15.652  15.211  14.205   \n",
       "\n",
       "protein groups  Q9Y6N7;Q9Y6N7-2;Q9Y6N7-4  Q9Y6R7  Q9Y6X5  Q9Y6Y8;Q9Y6Y8-2  \\\n",
       "Sample ID                                                                   \n",
       "Sample_000                        16.842     NaN     NaN           19.563   \n",
       "Sample_001                        16.597  20.299  15.556           19.386   \n",
       "Sample_002                        17.440  19.598  15.735           20.447   \n",
       "Sample_003                        17.356  19.429     NaN           20.216   \n",
       "Sample_004                        17.075  19.582  15.328              NaN   \n",
       "...                                  ...     ...     ...              ...   \n",
       "Sample_205                        17.551  17.922  16.340           19.928   \n",
       "Sample_206                        17.084  18.708     NaN           19.433   \n",
       "Sample_207                           NaN  18.725  16.138           19.599   \n",
       "Sample_208                        16.533  19.411  15.807           19.545   \n",
       "Sample_209                        16.749  19.275  15.732           19.577   \n",
       "\n",
       "protein groups  Q9Y6Y9  S4R3U6  \n",
       "Sample ID                       \n",
       "Sample_000         NaN  12.805  \n",
       "Sample_001      13.970  12.442  \n",
       "Sample_002      12.636  12.505  \n",
       "Sample_003         NaN  12.445  \n",
       "Sample_004      13.145     NaN  \n",
       "...                ...     ...  \n",
       "Sample_205      12.929     NaN  \n",
       "Sample_206         NaN     NaN  \n",
       "Sample_207      13.637  11.174  \n",
       "Sample_208         NaN     NaN  \n",
       "Sample_209      11.042  11.791  \n",
       "\n",
       "[210 rows x 1421 columns]"
      ]
     },
     "execution_count": 8,
     "metadata": {},
     "output_type": "execute_result"
    }
   ],
   "source": [
    "train_data = splits.train_X.unstack()\n",
    "train_data"
   ]
  },
  {
   "cell_type": "markdown",
   "id": "6dfbf01a",
   "metadata": {
    "lines_to_next_cell": 2,
    "papermill": {
     "duration": 0.004641,
     "end_time": "2024-05-27T15:15:16.818873",
     "exception": false,
     "start_time": "2024-05-27T15:15:16.814232",
     "status": "completed"
    },
    "tags": []
   },
   "source": [
    "Save placeholder sample annotation for use in NAGuideR app which requires such a file"
   ]
  },
  {
   "cell_type": "code",
   "execution_count": 9,
   "id": "feeae52b",
   "metadata": {
    "execution": {
     "iopub.execute_input": "2024-05-27T15:15:16.829595Z",
     "iopub.status.busy": "2024-05-27T15:15:16.829125Z",
     "iopub.status.idle": "2024-05-27T15:15:16.841796Z",
     "shell.execute_reply": "2024-05-27T15:15:16.841136Z"
    },
    "papermill": {
     "duration": 0.02028,
     "end_time": "2024-05-27T15:15:16.843529",
     "exception": false,
     "start_time": "2024-05-27T15:15:16.823249",
     "status": "completed"
    },
    "tags": []
   },
   "outputs": [
    {
     "data": {
      "text/html": [
       "<div>\n",
       "<style scoped>\n",
       "    .dataframe tbody tr th:only-of-type {\n",
       "        vertical-align: middle;\n",
       "    }\n",
       "\n",
       "    .dataframe tbody tr th {\n",
       "        vertical-align: top;\n",
       "    }\n",
       "\n",
       "    .dataframe thead th {\n",
       "        text-align: right;\n",
       "    }\n",
       "</style>\n",
       "<table border=\"1\" class=\"dataframe\">\n",
       "  <thead>\n",
       "    <tr style=\"text-align: right;\">\n",
       "      <th></th>\n",
       "      <th>group</th>\n",
       "    </tr>\n",
       "    <tr>\n",
       "      <th>Samples</th>\n",
       "      <th></th>\n",
       "    </tr>\n",
       "  </thead>\n",
       "  <tbody>\n",
       "    <tr>\n",
       "      <th>Sample_000</th>\n",
       "      <td>test</td>\n",
       "    </tr>\n",
       "    <tr>\n",
       "      <th>Sample_001</th>\n",
       "      <td>test</td>\n",
       "    </tr>\n",
       "    <tr>\n",
       "      <th>Sample_002</th>\n",
       "      <td>test</td>\n",
       "    </tr>\n",
       "    <tr>\n",
       "      <th>Sample_003</th>\n",
       "      <td>test</td>\n",
       "    </tr>\n",
       "    <tr>\n",
       "      <th>Sample_004</th>\n",
       "      <td>test</td>\n",
       "    </tr>\n",
       "    <tr>\n",
       "      <th>...</th>\n",
       "      <td>...</td>\n",
       "    </tr>\n",
       "    <tr>\n",
       "      <th>Sample_205</th>\n",
       "      <td>test</td>\n",
       "    </tr>\n",
       "    <tr>\n",
       "      <th>Sample_206</th>\n",
       "      <td>test</td>\n",
       "    </tr>\n",
       "    <tr>\n",
       "      <th>Sample_207</th>\n",
       "      <td>test</td>\n",
       "    </tr>\n",
       "    <tr>\n",
       "      <th>Sample_208</th>\n",
       "      <td>test</td>\n",
       "    </tr>\n",
       "    <tr>\n",
       "      <th>Sample_209</th>\n",
       "      <td>test</td>\n",
       "    </tr>\n",
       "  </tbody>\n",
       "</table>\n",
       "<p>210 rows × 1 columns</p>\n",
       "</div>"
      ],
      "text/plain": [
       "           group\n",
       "Samples         \n",
       "Sample_000  test\n",
       "Sample_001  test\n",
       "Sample_002  test\n",
       "Sample_003  test\n",
       "Sample_004  test\n",
       "...          ...\n",
       "Sample_205  test\n",
       "Sample_206  test\n",
       "Sample_207  test\n",
       "Sample_208  test\n",
       "Sample_209  test\n",
       "\n",
       "[210 rows x 1 columns]"
      ]
     },
     "execution_count": 9,
     "metadata": {},
     "output_type": "execute_result"
    }
   ],
   "source": [
    "annotation = pd.Series('test', train_data.index).to_frame('group')\n",
    "annotation.index.name = 'Samples'\n",
    "annotation"
   ]
  },
  {
   "cell_type": "code",
   "execution_count": 10,
   "id": "57546236",
   "metadata": {
    "execution": {
     "iopub.execute_input": "2024-05-27T15:15:16.854495Z",
     "iopub.status.busy": "2024-05-27T15:15:16.854070Z",
     "iopub.status.idle": "2024-05-27T15:15:16.861809Z",
     "shell.execute_reply": "2024-05-27T15:15:16.861079Z"
    },
    "papermill": {
     "duration": 0.017065,
     "end_time": "2024-05-27T15:15:16.865126",
     "exception": false,
     "start_time": "2024-05-27T15:15:16.848061",
     "status": "completed"
    },
    "tags": []
   },
   "outputs": [
    {
     "data": {
      "text/plain": [
       "Path('runs/alzheimer_study/data/sample_annotation_placeholder.csv')"
      ]
     },
     "execution_count": 10,
     "metadata": {},
     "output_type": "execute_result"
    }
   ],
   "source": [
    "fname = params.data / 'sample_annotation_placeholder.csv'\n",
    "annotation.to_csv(fname)\n",
    "fname"
   ]
  },
  {
   "cell_type": "code",
   "execution_count": 11,
   "id": "5de37038",
   "metadata": {
    "execution": {
     "iopub.execute_input": "2024-05-27T15:15:16.877076Z",
     "iopub.status.busy": "2024-05-27T15:15:16.876686Z",
     "iopub.status.idle": "2024-05-27T15:15:16.880272Z",
     "shell.execute_reply": "2024-05-27T15:15:16.879592Z"
    },
    "papermill": {
     "duration": 0.012561,
     "end_time": "2024-05-27T15:15:16.883029",
     "exception": false,
     "start_time": "2024-05-27T15:15:16.870468",
     "status": "completed"
    },
    "tags": [],
    "title": "[markdo]"
   },
   "outputs": [],
   "source": [
    "# Save with samples in columns"
   ]
  },
  {
   "cell_type": "code",
   "execution_count": 12,
   "id": "ce749fdb",
   "metadata": {
    "execution": {
     "iopub.execute_input": "2024-05-27T15:15:16.897750Z",
     "iopub.status.busy": "2024-05-27T15:15:16.897374Z",
     "iopub.status.idle": "2024-05-27T15:15:17.315094Z",
     "shell.execute_reply": "2024-05-27T15:15:17.314298Z"
    },
    "lines_to_next_cell": 2,
    "papermill": {
     "duration": 0.42679,
     "end_time": "2024-05-27T15:15:17.317129",
     "exception": false,
     "start_time": "2024-05-27T15:15:16.890339",
     "status": "completed"
    },
    "tags": []
   },
   "outputs": [
    {
     "data": {
      "text/plain": [
       "Path('runs/alzheimer_study/data/data_wide_sample_cols.csv')"
      ]
     },
     "execution_count": 12,
     "metadata": {},
     "output_type": "execute_result"
    }
   ],
   "source": [
    "fname = params.data / 'data_wide_sample_cols.csv'\n",
    "# fillna('Filtered')\n",
    "train_data.T.to_csv(fname)\n",
    "fname"
   ]
  },
  {
   "cell_type": "code",
   "execution_count": 13,
   "id": "8ce12421",
   "metadata": {
    "execution": {
     "iopub.execute_input": "2024-05-27T15:15:17.329734Z",
     "iopub.status.busy": "2024-05-27T15:15:17.329167Z",
     "iopub.status.idle": "2024-05-27T15:15:17.334001Z",
     "shell.execute_reply": "2024-05-27T15:15:17.333170Z"
    },
    "papermill": {
     "duration": 0.013858,
     "end_time": "2024-05-27T15:15:17.336262",
     "exception": false,
     "start_time": "2024-05-27T15:15:17.322404",
     "status": "completed"
    },
    "tags": []
   },
   "outputs": [],
   "source": [
    "# 'data_wide_sample_cols.csv'"
   ]
  }
 ],
 "metadata": {
  "jupytext": {
   "cell_metadata_filter": "title,tags,-all"
  },
  "kernelspec": {
   "display_name": "Python 3",
   "language": "python",
   "name": "python3"
  },
  "language_info": {
   "codemirror_mode": {
    "name": "ipython",
    "version": 3
   },
   "file_extension": ".py",
   "mimetype": "text/x-python",
   "name": "python",
   "nbconvert_exporter": "python",
   "pygments_lexer": "ipython3",
   "version": "3.8.19"
  },
  "papermill": {
   "default_parameters": {},
   "duration": 6.837229,
   "end_time": "2024-05-27T15:15:18.284365",
   "environment_variables": {},
   "exception": null,
   "input_path": "01_0_transform_data_to_wide_format.ipynb",
   "output_path": "runs/alzheimer_study/01_0_transform_data_to_wide_format.ipynb",
   "parameters": {
    "folder_experiment": "runs/alzheimer_study"
   },
   "start_time": "2024-05-27T15:15:11.447136",
   "version": "2.6.0"
  }
 },
 "nbformat": 4,
 "nbformat_minor": 5
}