{
 "cells": [
  {
   "cell_type": "markdown",
   "id": "0b3a8726",
   "metadata": {
    "papermill": {
     "duration": 0.00255,
     "end_time": "2024-05-22T13:47:45.494788",
     "exception": false,
     "start_time": "2024-05-22T13:47:45.492238",
     "status": "completed"
    },
    "tags": []
   },
   "source": [
    "# Transfer data for NAGuideR format\n"
   ]
  },
  {
   "cell_type": "code",
   "execution_count": 1,
   "id": "9aacaba7",
   "metadata": {
    "execution": {
     "iopub.execute_input": "2024-05-22T13:47:45.500216Z",
     "iopub.status.busy": "2024-05-22T13:47:45.499532Z",
     "iopub.status.idle": "2024-05-22T13:47:48.368016Z",
     "shell.execute_reply": "2024-05-22T13:47:48.367358Z"
    },
    "lines_to_next_cell": 2,
    "papermill": {
     "duration": 2.873044,
     "end_time": "2024-05-22T13:47:48.369852",
     "exception": false,
     "start_time": "2024-05-22T13:47:45.496808",
     "status": "completed"
    },
    "tags": []
   },
   "outputs": [],
   "source": [
    "import pandas as pd\n",
    "\n",
    "import vaep\n",
    "import vaep.models\n",
    "from vaep.io import datasplits"
   ]
  },
  {
   "cell_type": "code",
   "execution_count": 2,
   "id": "d01a155d",
   "metadata": {
    "execution": {
     "iopub.execute_input": "2024-05-22T13:47:48.376903Z",
     "iopub.status.busy": "2024-05-22T13:47:48.376386Z",
     "iopub.status.idle": "2024-05-22T13:47:48.379529Z",
     "shell.execute_reply": "2024-05-22T13:47:48.378965Z"
    },
    "papermill": {
     "duration": 0.007892,
     "end_time": "2024-05-22T13:47:48.380792",
     "exception": false,
     "start_time": "2024-05-22T13:47:48.372900",
     "status": "completed"
    },
    "tags": []
   },
   "outputs": [],
   "source": [
    "# catch passed parameters\n",
    "args = None\n",
    "args = dict(globals()).keys()"
   ]
  },
  {
   "cell_type": "markdown",
   "id": "55e364af",
   "metadata": {
    "papermill": {
     "duration": 0.001783,
     "end_time": "2024-05-22T13:47:48.384334",
     "exception": false,
     "start_time": "2024-05-22T13:47:48.382551",
     "status": "completed"
    },
    "tags": []
   },
   "source": [
    "Papermill script parameters:"
   ]
  },
  {
   "cell_type": "code",
   "execution_count": 3,
   "id": "394d0bb1",
   "metadata": {
    "execution": {
     "iopub.execute_input": "2024-05-22T13:47:48.389011Z",
     "iopub.status.busy": "2024-05-22T13:47:48.388615Z",
     "iopub.status.idle": "2024-05-22T13:47:48.392002Z",
     "shell.execute_reply": "2024-05-22T13:47:48.391380Z"
    },
    "papermill": {
     "duration": 0.007346,
     "end_time": "2024-05-22T13:47:48.393467",
     "exception": false,
     "start_time": "2024-05-22T13:47:48.386121",
     "status": "completed"
    },
    "tags": [
     "parameters"
    ]
   },
   "outputs": [],
   "source": [
    "# files and folders\n",
    "# Datasplit folder with data for experiment\n",
    "folder_experiment: str = 'runs/example'\n",
    "folder_data: str = ''  # specify data directory if needed\n",
    "file_format_in: str = 'csv'  # file format of original splits, default pickle (pkl)\n",
    "file_format_out: str = 'csv'  # file format of transformed splits, default csv"
   ]
  },
  {
   "cell_type": "code",
   "execution_count": 4,
   "id": "46f010e3",
   "metadata": {
    "execution": {
     "iopub.execute_input": "2024-05-22T13:47:48.400508Z",
     "iopub.status.busy": "2024-05-22T13:47:48.400317Z",
     "iopub.status.idle": "2024-05-22T13:47:48.403010Z",
     "shell.execute_reply": "2024-05-22T13:47:48.402463Z"
    },
    "papermill": {
     "duration": 0.00775,
     "end_time": "2024-05-22T13:47:48.404392",
     "exception": false,
     "start_time": "2024-05-22T13:47:48.396642",
     "status": "completed"
    },
    "tags": [
     "injected-parameters"
    ]
   },
   "outputs": [],
   "source": [
    "# Parameters\n",
    "folder_experiment = \"runs/alzheimer_study_2023_11_v2\"\n"
   ]
  },
  {
   "cell_type": "code",
   "execution_count": 5,
   "id": "43ff9ae3",
   "metadata": {
    "execution": {
     "iopub.execute_input": "2024-05-22T13:47:48.410457Z",
     "iopub.status.busy": "2024-05-22T13:47:48.410274Z",
     "iopub.status.idle": "2024-05-22T13:47:48.416303Z",
     "shell.execute_reply": "2024-05-22T13:47:48.415731Z"
    },
    "papermill": {
     "duration": 0.010685,
     "end_time": "2024-05-22T13:47:48.417685",
     "exception": false,
     "start_time": "2024-05-22T13:47:48.407000",
     "status": "completed"
    },
    "tags": []
   },
   "outputs": [
    {
     "data": {
      "text/plain": [
       "{'folder_experiment': 'runs/alzheimer_study_2023_11_v2',\n",
       " 'folder_data': '',\n",
       " 'file_format_in': 'csv',\n",
       " 'file_format_out': 'csv'}"
      ]
     },
     "execution_count": 5,
     "metadata": {},
     "output_type": "execute_result"
    }
   ],
   "source": [
    "args = vaep.nb.get_params(args, globals=globals())\n",
    "args"
   ]
  },
  {
   "cell_type": "code",
   "execution_count": 6,
   "id": "11e46901",
   "metadata": {
    "execution": {
     "iopub.execute_input": "2024-05-22T13:47:48.424599Z",
     "iopub.status.busy": "2024-05-22T13:47:48.424038Z",
     "iopub.status.idle": "2024-05-22T13:47:48.428491Z",
     "shell.execute_reply": "2024-05-22T13:47:48.427927Z"
    },
    "papermill": {
     "duration": 0.009049,
     "end_time": "2024-05-22T13:47:48.429646",
     "exception": false,
     "start_time": "2024-05-22T13:47:48.420597",
     "status": "completed"
    },
    "tags": []
   },
   "outputs": [
    {
     "data": {
      "text/plain": [
       "{'data': Path('runs/alzheimer_study_2023_11_v2/data'),\n",
       " 'file_format_in': 'csv',\n",
       " 'file_format_out': 'csv',\n",
       " 'folder_data': '',\n",
       " 'folder_experiment': Path('runs/alzheimer_study_2023_11_v2'),\n",
       " 'out_figures': Path('runs/alzheimer_study_2023_11_v2/figures'),\n",
       " 'out_folder': Path('runs/alzheimer_study_2023_11_v2'),\n",
       " 'out_metrics': Path('runs/alzheimer_study_2023_11_v2'),\n",
       " 'out_models': Path('runs/alzheimer_study_2023_11_v2'),\n",
       " 'out_preds': Path('runs/alzheimer_study_2023_11_v2/preds')}"
      ]
     },
     "execution_count": 6,
     "metadata": {},
     "output_type": "execute_result"
    }
   ],
   "source": [
    "params = vaep.nb.args_from_dict(args)\n",
    "# params = OmegaConf.create(args)\n",
    "params"
   ]
  },
  {
   "cell_type": "code",
   "execution_count": 7,
   "id": "1194de4e",
   "metadata": {
    "execution": {
     "iopub.execute_input": "2024-05-22T13:47:48.434704Z",
     "iopub.status.busy": "2024-05-22T13:47:48.434286Z",
     "iopub.status.idle": "2024-05-22T13:47:48.589751Z",
     "shell.execute_reply": "2024-05-22T13:47:48.589141Z"
    },
    "papermill": {
     "duration": 0.159559,
     "end_time": "2024-05-22T13:47:48.591218",
     "exception": false,
     "start_time": "2024-05-22T13:47:48.431659",
     "status": "completed"
    },
    "tags": []
   },
   "outputs": [],
   "source": [
    "splits = datasplits.DataSplits.from_folder(params.data, file_format=params.file_format_in)"
   ]
  },
  {
   "cell_type": "code",
   "execution_count": 8,
   "id": "197708a1",
   "metadata": {
    "execution": {
     "iopub.execute_input": "2024-05-22T13:47:48.597949Z",
     "iopub.status.busy": "2024-05-22T13:47:48.597729Z",
     "iopub.status.idle": "2024-05-22T13:47:48.634629Z",
     "shell.execute_reply": "2024-05-22T13:47:48.634016Z"
    },
    "lines_to_next_cell": 2,
    "papermill": {
     "duration": 0.042479,
     "end_time": "2024-05-22T13:47:48.636097",
     "exception": false,
     "start_time": "2024-05-22T13:47:48.593618",
     "status": "completed"
    },
    "tags": []
   },
   "outputs": [
    {
     "data": {
      "text/html": [
       "<div>\n",
       "<style scoped>\n",
       "    .dataframe tbody tr th:only-of-type {\n",
       "        vertical-align: middle;\n",
       "    }\n",
       "\n",
       "    .dataframe tbody tr th {\n",
       "        vertical-align: top;\n",
       "    }\n",
       "\n",
       "    .dataframe thead th {\n",
       "        text-align: right;\n",
       "    }\n",
       "</style>\n",
       "<table border=\"1\" class=\"dataframe\">\n",
       "  <thead>\n",
       "    <tr style=\"text-align: right;\">\n",
       "      <th>protein groups</th>\n",
       "      <th>A0A024QZX5;A0A087X1N8;P35237</th>\n",
       "      <th>A0A024R0T9;K7ER74;P02655</th>\n",
       "      <th>A0A024R3W6;A0A024R412;O60462;O60462-2;O60462-3;O60462-4;O60462-5;Q7LBX6;X5D2Q8</th>\n",
       "      <th>A0A024R644;A0A0A0MRU5;A0A1B0GWI2;O75503</th>\n",
       "      <th>A0A075B6H7</th>\n",
       "      <th>A0A075B6H9</th>\n",
       "      <th>A0A075B6I0</th>\n",
       "      <th>A0A075B6I1</th>\n",
       "      <th>A0A075B6I6</th>\n",
       "      <th>A0A075B6I9</th>\n",
       "      <th>...</th>\n",
       "      <th>Q9Y653;Q9Y653-2;Q9Y653-3</th>\n",
       "      <th>Q9Y696</th>\n",
       "      <th>Q9Y6C2</th>\n",
       "      <th>Q9Y6N6</th>\n",
       "      <th>Q9Y6N7;Q9Y6N7-2;Q9Y6N7-4</th>\n",
       "      <th>Q9Y6R7</th>\n",
       "      <th>Q9Y6X5</th>\n",
       "      <th>Q9Y6Y8;Q9Y6Y8-2</th>\n",
       "      <th>Q9Y6Y9</th>\n",
       "      <th>S4R3U6</th>\n",
       "    </tr>\n",
       "    <tr>\n",
       "      <th>Sample ID</th>\n",
       "      <th></th>\n",
       "      <th></th>\n",
       "      <th></th>\n",
       "      <th></th>\n",
       "      <th></th>\n",
       "      <th></th>\n",
       "      <th></th>\n",
       "      <th></th>\n",
       "      <th></th>\n",
       "      <th></th>\n",
       "      <th></th>\n",
       "      <th></th>\n",
       "      <th></th>\n",
       "      <th></th>\n",
       "      <th></th>\n",
       "      <th></th>\n",
       "      <th></th>\n",
       "      <th></th>\n",
       "      <th></th>\n",
       "      <th></th>\n",
       "      <th></th>\n",
       "    </tr>\n",
       "  </thead>\n",
       "  <tbody>\n",
       "    <tr>\n",
       "      <th>Sample_000</th>\n",
       "      <td>15.912</td>\n",
       "      <td>16.852</td>\n",
       "      <td>15.570</td>\n",
       "      <td>16.481</td>\n",
       "      <td>17.301</td>\n",
       "      <td>20.246</td>\n",
       "      <td>16.764</td>\n",
       "      <td>17.584</td>\n",
       "      <td>16.988</td>\n",
       "      <td>20.054</td>\n",
       "      <td>...</td>\n",
       "      <td>16.012</td>\n",
       "      <td>15.178</td>\n",
       "      <td>NaN</td>\n",
       "      <td>15.050</td>\n",
       "      <td>16.842</td>\n",
       "      <td>NaN</td>\n",
       "      <td>NaN</td>\n",
       "      <td>19.563</td>\n",
       "      <td>NaN</td>\n",
       "      <td>12.805</td>\n",
       "    </tr>\n",
       "    <tr>\n",
       "      <th>Sample_001</th>\n",
       "      <td>NaN</td>\n",
       "      <td>16.874</td>\n",
       "      <td>15.519</td>\n",
       "      <td>16.387</td>\n",
       "      <td>NaN</td>\n",
       "      <td>19.941</td>\n",
       "      <td>18.786</td>\n",
       "      <td>17.144</td>\n",
       "      <td>NaN</td>\n",
       "      <td>19.067</td>\n",
       "      <td>...</td>\n",
       "      <td>15.528</td>\n",
       "      <td>15.576</td>\n",
       "      <td>NaN</td>\n",
       "      <td>14.833</td>\n",
       "      <td>16.597</td>\n",
       "      <td>20.299</td>\n",
       "      <td>15.556</td>\n",
       "      <td>19.386</td>\n",
       "      <td>13.970</td>\n",
       "      <td>12.442</td>\n",
       "    </tr>\n",
       "    <tr>\n",
       "      <th>Sample_002</th>\n",
       "      <td>16.111</td>\n",
       "      <td>NaN</td>\n",
       "      <td>15.935</td>\n",
       "      <td>16.416</td>\n",
       "      <td>18.175</td>\n",
       "      <td>19.251</td>\n",
       "      <td>16.832</td>\n",
       "      <td>15.671</td>\n",
       "      <td>17.012</td>\n",
       "      <td>18.569</td>\n",
       "      <td>...</td>\n",
       "      <td>15.229</td>\n",
       "      <td>14.728</td>\n",
       "      <td>13.757</td>\n",
       "      <td>15.118</td>\n",
       "      <td>17.440</td>\n",
       "      <td>19.598</td>\n",
       "      <td>15.735</td>\n",
       "      <td>20.447</td>\n",
       "      <td>12.636</td>\n",
       "      <td>12.505</td>\n",
       "    </tr>\n",
       "    <tr>\n",
       "      <th>Sample_003</th>\n",
       "      <td>16.107</td>\n",
       "      <td>17.032</td>\n",
       "      <td>15.802</td>\n",
       "      <td>16.979</td>\n",
       "      <td>15.963</td>\n",
       "      <td>19.628</td>\n",
       "      <td>17.852</td>\n",
       "      <td>18.877</td>\n",
       "      <td>14.182</td>\n",
       "      <td>18.985</td>\n",
       "      <td>...</td>\n",
       "      <td>15.495</td>\n",
       "      <td>14.590</td>\n",
       "      <td>14.682</td>\n",
       "      <td>15.140</td>\n",
       "      <td>17.356</td>\n",
       "      <td>19.429</td>\n",
       "      <td>NaN</td>\n",
       "      <td>20.216</td>\n",
       "      <td>NaN</td>\n",
       "      <td>12.445</td>\n",
       "    </tr>\n",
       "    <tr>\n",
       "      <th>Sample_004</th>\n",
       "      <td>15.603</td>\n",
       "      <td>15.331</td>\n",
       "      <td>15.375</td>\n",
       "      <td>16.679</td>\n",
       "      <td>NaN</td>\n",
       "      <td>20.450</td>\n",
       "      <td>18.682</td>\n",
       "      <td>17.081</td>\n",
       "      <td>14.140</td>\n",
       "      <td>19.686</td>\n",
       "      <td>...</td>\n",
       "      <td>14.757</td>\n",
       "      <td>NaN</td>\n",
       "      <td>NaN</td>\n",
       "      <td>15.256</td>\n",
       "      <td>17.075</td>\n",
       "      <td>19.582</td>\n",
       "      <td>15.328</td>\n",
       "      <td>NaN</td>\n",
       "      <td>13.145</td>\n",
       "      <td>NaN</td>\n",
       "    </tr>\n",
       "    <tr>\n",
       "      <th>...</th>\n",
       "      <td>...</td>\n",
       "      <td>...</td>\n",
       "      <td>...</td>\n",
       "      <td>...</td>\n",
       "      <td>...</td>\n",
       "      <td>...</td>\n",
       "      <td>...</td>\n",
       "      <td>...</td>\n",
       "      <td>...</td>\n",
       "      <td>...</td>\n",
       "      <td>...</td>\n",
       "      <td>...</td>\n",
       "      <td>...</td>\n",
       "      <td>...</td>\n",
       "      <td>...</td>\n",
       "      <td>...</td>\n",
       "      <td>...</td>\n",
       "      <td>...</td>\n",
       "      <td>...</td>\n",
       "      <td>...</td>\n",
       "      <td>...</td>\n",
       "    </tr>\n",
       "    <tr>\n",
       "      <th>Sample_205</th>\n",
       "      <td>15.682</td>\n",
       "      <td>16.886</td>\n",
       "      <td>14.910</td>\n",
       "      <td>16.482</td>\n",
       "      <td>NaN</td>\n",
       "      <td>17.705</td>\n",
       "      <td>17.039</td>\n",
       "      <td>NaN</td>\n",
       "      <td>16.413</td>\n",
       "      <td>19.102</td>\n",
       "      <td>...</td>\n",
       "      <td>NaN</td>\n",
       "      <td>15.684</td>\n",
       "      <td>14.236</td>\n",
       "      <td>15.415</td>\n",
       "      <td>17.551</td>\n",
       "      <td>17.922</td>\n",
       "      <td>16.340</td>\n",
       "      <td>19.928</td>\n",
       "      <td>12.929</td>\n",
       "      <td>NaN</td>\n",
       "    </tr>\n",
       "    <tr>\n",
       "      <th>Sample_206</th>\n",
       "      <td>15.798</td>\n",
       "      <td>17.554</td>\n",
       "      <td>15.600</td>\n",
       "      <td>15.938</td>\n",
       "      <td>NaN</td>\n",
       "      <td>18.154</td>\n",
       "      <td>18.152</td>\n",
       "      <td>16.503</td>\n",
       "      <td>16.860</td>\n",
       "      <td>18.538</td>\n",
       "      <td>...</td>\n",
       "      <td>15.422</td>\n",
       "      <td>16.106</td>\n",
       "      <td>NaN</td>\n",
       "      <td>15.345</td>\n",
       "      <td>17.084</td>\n",
       "      <td>18.708</td>\n",
       "      <td>NaN</td>\n",
       "      <td>19.433</td>\n",
       "      <td>NaN</td>\n",
       "      <td>NaN</td>\n",
       "    </tr>\n",
       "    <tr>\n",
       "      <th>Sample_207</th>\n",
       "      <td>15.739</td>\n",
       "      <td>NaN</td>\n",
       "      <td>15.469</td>\n",
       "      <td>16.898</td>\n",
       "      <td>NaN</td>\n",
       "      <td>18.636</td>\n",
       "      <td>17.950</td>\n",
       "      <td>16.321</td>\n",
       "      <td>16.401</td>\n",
       "      <td>18.849</td>\n",
       "      <td>...</td>\n",
       "      <td>15.808</td>\n",
       "      <td>16.098</td>\n",
       "      <td>14.403</td>\n",
       "      <td>15.715</td>\n",
       "      <td>NaN</td>\n",
       "      <td>18.725</td>\n",
       "      <td>16.138</td>\n",
       "      <td>19.599</td>\n",
       "      <td>13.637</td>\n",
       "      <td>11.174</td>\n",
       "    </tr>\n",
       "    <tr>\n",
       "      <th>Sample_208</th>\n",
       "      <td>15.477</td>\n",
       "      <td>16.779</td>\n",
       "      <td>14.995</td>\n",
       "      <td>16.132</td>\n",
       "      <td>NaN</td>\n",
       "      <td>14.908</td>\n",
       "      <td>NaN</td>\n",
       "      <td>NaN</td>\n",
       "      <td>16.119</td>\n",
       "      <td>18.368</td>\n",
       "      <td>...</td>\n",
       "      <td>15.157</td>\n",
       "      <td>16.712</td>\n",
       "      <td>NaN</td>\n",
       "      <td>14.640</td>\n",
       "      <td>16.533</td>\n",
       "      <td>19.411</td>\n",
       "      <td>15.807</td>\n",
       "      <td>19.545</td>\n",
       "      <td>NaN</td>\n",
       "      <td>NaN</td>\n",
       "    </tr>\n",
       "    <tr>\n",
       "      <th>Sample_209</th>\n",
       "      <td>NaN</td>\n",
       "      <td>17.261</td>\n",
       "      <td>15.175</td>\n",
       "      <td>16.235</td>\n",
       "      <td>NaN</td>\n",
       "      <td>17.893</td>\n",
       "      <td>17.744</td>\n",
       "      <td>16.371</td>\n",
       "      <td>15.780</td>\n",
       "      <td>18.806</td>\n",
       "      <td>...</td>\n",
       "      <td>15.237</td>\n",
       "      <td>15.652</td>\n",
       "      <td>15.211</td>\n",
       "      <td>14.205</td>\n",
       "      <td>16.749</td>\n",
       "      <td>19.275</td>\n",
       "      <td>15.732</td>\n",
       "      <td>19.577</td>\n",
       "      <td>11.042</td>\n",
       "      <td>11.791</td>\n",
       "    </tr>\n",
       "  </tbody>\n",
       "</table>\n",
       "<p>210 rows × 1421 columns</p>\n",
       "</div>"
      ],
      "text/plain": [
       "protein groups  A0A024QZX5;A0A087X1N8;P35237  A0A024R0T9;K7ER74;P02655  \\\n",
       "Sample ID                                                                \n",
       "Sample_000                            15.912                    16.852   \n",
       "Sample_001                               NaN                    16.874   \n",
       "Sample_002                            16.111                       NaN   \n",
       "Sample_003                            16.107                    17.032   \n",
       "Sample_004                            15.603                    15.331   \n",
       "...                                      ...                       ...   \n",
       "Sample_205                            15.682                    16.886   \n",
       "Sample_206                            15.798                    17.554   \n",
       "Sample_207                            15.739                       NaN   \n",
       "Sample_208                            15.477                    16.779   \n",
       "Sample_209                               NaN                    17.261   \n",
       "\n",
       "protein groups  A0A024R3W6;A0A024R412;O60462;O60462-2;O60462-3;O60462-4;O60462-5;Q7LBX6;X5D2Q8  \\\n",
       "Sample ID                                                                                        \n",
       "Sample_000                                                                              15.570   \n",
       "Sample_001                                                                              15.519   \n",
       "Sample_002                                                                              15.935   \n",
       "Sample_003                                                                              15.802   \n",
       "Sample_004                                                                              15.375   \n",
       "...                                                                                        ...   \n",
       "Sample_205                                                                              14.910   \n",
       "Sample_206                                                                              15.600   \n",
       "Sample_207                                                                              15.469   \n",
       "Sample_208                                                                              14.995   \n",
       "Sample_209                                                                              15.175   \n",
       "\n",
       "protein groups  A0A024R644;A0A0A0MRU5;A0A1B0GWI2;O75503  A0A075B6H7  \\\n",
       "Sample ID                                                             \n",
       "Sample_000                                       16.481      17.301   \n",
       "Sample_001                                       16.387         NaN   \n",
       "Sample_002                                       16.416      18.175   \n",
       "Sample_003                                       16.979      15.963   \n",
       "Sample_004                                       16.679         NaN   \n",
       "...                                                 ...         ...   \n",
       "Sample_205                                       16.482         NaN   \n",
       "Sample_206                                       15.938         NaN   \n",
       "Sample_207                                       16.898         NaN   \n",
       "Sample_208                                       16.132         NaN   \n",
       "Sample_209                                       16.235         NaN   \n",
       "\n",
       "protein groups  A0A075B6H9  A0A075B6I0  A0A075B6I1  A0A075B6I6  A0A075B6I9  \\\n",
       "Sample ID                                                                    \n",
       "Sample_000          20.246      16.764      17.584      16.988      20.054   \n",
       "Sample_001          19.941      18.786      17.144         NaN      19.067   \n",
       "Sample_002          19.251      16.832      15.671      17.012      18.569   \n",
       "Sample_003          19.628      17.852      18.877      14.182      18.985   \n",
       "Sample_004          20.450      18.682      17.081      14.140      19.686   \n",
       "...                    ...         ...         ...         ...         ...   \n",
       "Sample_205          17.705      17.039         NaN      16.413      19.102   \n",
       "Sample_206          18.154      18.152      16.503      16.860      18.538   \n",
       "Sample_207          18.636      17.950      16.321      16.401      18.849   \n",
       "Sample_208          14.908         NaN         NaN      16.119      18.368   \n",
       "Sample_209          17.893      17.744      16.371      15.780      18.806   \n",
       "\n",
       "protein groups  ...  Q9Y653;Q9Y653-2;Q9Y653-3  Q9Y696  Q9Y6C2  Q9Y6N6  \\\n",
       "Sample ID       ...                                                     \n",
       "Sample_000      ...                    16.012  15.178     NaN  15.050   \n",
       "Sample_001      ...                    15.528  15.576     NaN  14.833   \n",
       "Sample_002      ...                    15.229  14.728  13.757  15.118   \n",
       "Sample_003      ...                    15.495  14.590  14.682  15.140   \n",
       "Sample_004      ...                    14.757     NaN     NaN  15.256   \n",
       "...             ...                       ...     ...     ...     ...   \n",
       "Sample_205      ...                       NaN  15.684  14.236  15.415   \n",
       "Sample_206      ...                    15.422  16.106     NaN  15.345   \n",
       "Sample_207      ...                    15.808  16.098  14.403  15.715   \n",
       "Sample_208      ...                    15.157  16.712     NaN  14.640   \n",
       "Sample_209      ...                    15.237  15.652  15.211  14.205   \n",
       "\n",
       "protein groups  Q9Y6N7;Q9Y6N7-2;Q9Y6N7-4  Q9Y6R7  Q9Y6X5  Q9Y6Y8;Q9Y6Y8-2  \\\n",
       "Sample ID                                                                   \n",
       "Sample_000                        16.842     NaN     NaN           19.563   \n",
       "Sample_001                        16.597  20.299  15.556           19.386   \n",
       "Sample_002                        17.440  19.598  15.735           20.447   \n",
       "Sample_003                        17.356  19.429     NaN           20.216   \n",
       "Sample_004                        17.075  19.582  15.328              NaN   \n",
       "...                                  ...     ...     ...              ...   \n",
       "Sample_205                        17.551  17.922  16.340           19.928   \n",
       "Sample_206                        17.084  18.708     NaN           19.433   \n",
       "Sample_207                           NaN  18.725  16.138           19.599   \n",
       "Sample_208                        16.533  19.411  15.807           19.545   \n",
       "Sample_209                        16.749  19.275  15.732           19.577   \n",
       "\n",
       "protein groups  Q9Y6Y9  S4R3U6  \n",
       "Sample ID                       \n",
       "Sample_000         NaN  12.805  \n",
       "Sample_001      13.970  12.442  \n",
       "Sample_002      12.636  12.505  \n",
       "Sample_003         NaN  12.445  \n",
       "Sample_004      13.145     NaN  \n",
       "...                ...     ...  \n",
       "Sample_205      12.929     NaN  \n",
       "Sample_206         NaN     NaN  \n",
       "Sample_207      13.637  11.174  \n",
       "Sample_208         NaN     NaN  \n",
       "Sample_209      11.042  11.791  \n",
       "\n",
       "[210 rows x 1421 columns]"
      ]
     },
     "execution_count": 8,
     "metadata": {},
     "output_type": "execute_result"
    }
   ],
   "source": [
    "train_data = splits.train_X.unstack()\n",
    "train_data"
   ]
  },
  {
   "cell_type": "markdown",
   "id": "6dfbf01a",
   "metadata": {
    "lines_to_next_cell": 2,
    "papermill": {
     "duration": 0.003758,
     "end_time": "2024-05-22T13:47:48.644827",
     "exception": false,
     "start_time": "2024-05-22T13:47:48.641069",
     "status": "completed"
    },
    "tags": []
   },
   "source": [
    "Save placeholder sample annotation for use in NAGuideR app which requires such a file"
   ]
  },
  {
   "cell_type": "code",
   "execution_count": 9,
   "id": "feeae52b",
   "metadata": {
    "execution": {
     "iopub.execute_input": "2024-05-22T13:47:48.653423Z",
     "iopub.status.busy": "2024-05-22T13:47:48.653154Z",
     "iopub.status.idle": "2024-05-22T13:47:48.660377Z",
     "shell.execute_reply": "2024-05-22T13:47:48.659796Z"
    },
    "papermill": {
     "duration": 0.013755,
     "end_time": "2024-05-22T13:47:48.662269",
     "exception": false,
     "start_time": "2024-05-22T13:47:48.648514",
     "status": "completed"
    },
    "tags": []
   },
   "outputs": [
    {
     "data": {
      "text/html": [
       "<div>\n",
       "<style scoped>\n",
       "    .dataframe tbody tr th:only-of-type {\n",
       "        vertical-align: middle;\n",
       "    }\n",
       "\n",
       "    .dataframe tbody tr th {\n",
       "        vertical-align: top;\n",
       "    }\n",
       "\n",
       "    .dataframe thead th {\n",
       "        text-align: right;\n",
       "    }\n",
       "</style>\n",
       "<table border=\"1\" class=\"dataframe\">\n",
       "  <thead>\n",
       "    <tr style=\"text-align: right;\">\n",
       "      <th></th>\n",
       "      <th>group</th>\n",
       "    </tr>\n",
       "    <tr>\n",
       "      <th>Samples</th>\n",
       "      <th></th>\n",
       "    </tr>\n",
       "  </thead>\n",
       "  <tbody>\n",
       "    <tr>\n",
       "      <th>Sample_000</th>\n",
       "      <td>test</td>\n",
       "    </tr>\n",
       "    <tr>\n",
       "      <th>Sample_001</th>\n",
       "      <td>test</td>\n",
       "    </tr>\n",
       "    <tr>\n",
       "      <th>Sample_002</th>\n",
       "      <td>test</td>\n",
       "    </tr>\n",
       "    <tr>\n",
       "      <th>Sample_003</th>\n",
       "      <td>test</td>\n",
       "    </tr>\n",
       "    <tr>\n",
       "      <th>Sample_004</th>\n",
       "      <td>test</td>\n",
       "    </tr>\n",
       "    <tr>\n",
       "      <th>...</th>\n",
       "      <td>...</td>\n",
       "    </tr>\n",
       "    <tr>\n",
       "      <th>Sample_205</th>\n",
       "      <td>test</td>\n",
       "    </tr>\n",
       "    <tr>\n",
       "      <th>Sample_206</th>\n",
       "      <td>test</td>\n",
       "    </tr>\n",
       "    <tr>\n",
       "      <th>Sample_207</th>\n",
       "      <td>test</td>\n",
       "    </tr>\n",
       "    <tr>\n",
       "      <th>Sample_208</th>\n",
       "      <td>test</td>\n",
       "    </tr>\n",
       "    <tr>\n",
       "      <th>Sample_209</th>\n",
       "      <td>test</td>\n",
       "    </tr>\n",
       "  </tbody>\n",
       "</table>\n",
       "<p>210 rows × 1 columns</p>\n",
       "</div>"
      ],
      "text/plain": [
       "           group\n",
       "Samples         \n",
       "Sample_000  test\n",
       "Sample_001  test\n",
       "Sample_002  test\n",
       "Sample_003  test\n",
       "Sample_004  test\n",
       "...          ...\n",
       "Sample_205  test\n",
       "Sample_206  test\n",
       "Sample_207  test\n",
       "Sample_208  test\n",
       "Sample_209  test\n",
       "\n",
       "[210 rows x 1 columns]"
      ]
     },
     "execution_count": 9,
     "metadata": {},
     "output_type": "execute_result"
    }
   ],
   "source": [
    "annotation = pd.Series('test', train_data.index).to_frame('group')\n",
    "annotation.index.name = 'Samples'\n",
    "annotation"
   ]
  },
  {
   "cell_type": "code",
   "execution_count": 10,
   "id": "57546236",
   "metadata": {
    "execution": {
     "iopub.execute_input": "2024-05-22T13:47:48.672055Z",
     "iopub.status.busy": "2024-05-22T13:47:48.671872Z",
     "iopub.status.idle": "2024-05-22T13:47:48.676966Z",
     "shell.execute_reply": "2024-05-22T13:47:48.676444Z"
    },
    "papermill": {
     "duration": 0.011581,
     "end_time": "2024-05-22T13:47:48.678449",
     "exception": false,
     "start_time": "2024-05-22T13:47:48.666868",
     "status": "completed"
    },
    "tags": []
   },
   "outputs": [
    {
     "data": {
      "text/plain": [
       "Path('runs/alzheimer_study_2023_11_v2/data/sample_annotation_placeholder.csv')"
      ]
     },
     "execution_count": 10,
     "metadata": {},
     "output_type": "execute_result"
    }
   ],
   "source": [
    "fname = params.data / 'sample_annotation_placeholder.csv'\n",
    "annotation.to_csv(fname)\n",
    "fname"
   ]
  },
  {
   "cell_type": "code",
   "execution_count": 11,
   "id": "5de37038",
   "metadata": {
    "execution": {
     "iopub.execute_input": "2024-05-22T13:47:48.688680Z",
     "iopub.status.busy": "2024-05-22T13:47:48.688461Z",
     "iopub.status.idle": "2024-05-22T13:47:48.691145Z",
     "shell.execute_reply": "2024-05-22T13:47:48.690584Z"
    },
    "papermill": {
     "duration": 0.009216,
     "end_time": "2024-05-22T13:47:48.692320",
     "exception": false,
     "start_time": "2024-05-22T13:47:48.683104",
     "status": "completed"
    },
    "tags": [],
    "title": "[markdo]"
   },
   "outputs": [],
   "source": [
    "# Save with samples in columns"
   ]
  },
  {
   "cell_type": "code",
   "execution_count": 12,
   "id": "ce749fdb",
   "metadata": {
    "execution": {
     "iopub.execute_input": "2024-05-22T13:47:48.698801Z",
     "iopub.status.busy": "2024-05-22T13:47:48.698375Z",
     "iopub.status.idle": "2024-05-22T13:47:48.955010Z",
     "shell.execute_reply": "2024-05-22T13:47:48.954289Z"
    },
    "lines_to_next_cell": 2,
    "papermill": {
     "duration": 0.261558,
     "end_time": "2024-05-22T13:47:48.956645",
     "exception": false,
     "start_time": "2024-05-22T13:47:48.695087",
     "status": "completed"
    },
    "tags": []
   },
   "outputs": [
    {
     "data": {
      "text/plain": [
       "Path('runs/alzheimer_study_2023_11_v2/data/data_wide_sample_cols.csv')"
      ]
     },
     "execution_count": 12,
     "metadata": {},
     "output_type": "execute_result"
    }
   ],
   "source": [
    "fname = params.data / 'data_wide_sample_cols.csv'\n",
    "# fillna('Filtered')\n",
    "train_data.T.to_csv(fname)\n",
    "fname"
   ]
  },
  {
   "cell_type": "code",
   "execution_count": 13,
   "id": "8ce12421",
   "metadata": {
    "execution": {
     "iopub.execute_input": "2024-05-22T13:47:48.967124Z",
     "iopub.status.busy": "2024-05-22T13:47:48.966938Z",
     "iopub.status.idle": "2024-05-22T13:47:48.969736Z",
     "shell.execute_reply": "2024-05-22T13:47:48.969153Z"
    },
    "papermill": {
     "duration": 0.009327,
     "end_time": "2024-05-22T13:47:48.970882",
     "exception": false,
     "start_time": "2024-05-22T13:47:48.961555",
     "status": "completed"
    },
    "tags": []
   },
   "outputs": [],
   "source": [
    "# 'data_wide_sample_cols.csv'"
   ]
  }
 ],
 "metadata": {
  "jupytext": {
   "cell_metadata_filter": "title,tags,-all"
  },
  "kernelspec": {
   "display_name": "Python 3",
   "language": "python",
   "name": "python3"
  },
  "language_info": {
   "codemirror_mode": {
    "name": "ipython",
    "version": 3
   },
   "file_extension": ".py",
   "mimetype": "text/x-python",
   "name": "python",
   "nbconvert_exporter": "python",
   "pygments_lexer": "ipython3",
   "version": "3.8.19"
  },
  "papermill": {
   "default_parameters": {},
   "duration": 5.237854,
   "end_time": "2024-05-22T13:47:49.691438",
   "environment_variables": {},
   "exception": null,
   "input_path": "01_0_transform_data_to_wide_format.ipynb",
   "output_path": "runs/alzheimer_study_2023_11_v2/01_0_transform_data_to_wide_format.ipynb",
   "parameters": {
    "folder_experiment": "runs/alzheimer_study_2023_11_v2"
   },
   "start_time": "2024-05-22T13:47:44.453584",
   "version": "2.6.0"
  }
 },
 "nbformat": 4,
 "nbformat_minor": 5
}