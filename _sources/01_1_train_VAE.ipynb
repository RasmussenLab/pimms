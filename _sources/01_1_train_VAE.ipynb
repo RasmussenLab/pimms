{
 "cells": [
  {
   "cell_type": "markdown",
   "id": "f0e1208b-9b36-4294-b3fd-910e05a82f2e",
   "metadata": {
    "papermill": {
     "duration": 0.008813,
     "end_time": "2024-06-13T09:31:16.640733",
     "exception": false,
     "start_time": "2024-06-13T09:31:16.631920",
     "status": "completed"
    },
    "tags": []
   },
   "source": [
    "# Variational Autoencoder"
   ]
  },
  {
   "cell_type": "code",
   "execution_count": 1,
   "id": "18b5d571-2956-4112-b22c-43d6c2146b06",
   "metadata": {
    "execution": {
     "iopub.execute_input": "2024-06-13T09:31:16.656330Z",
     "iopub.status.busy": "2024-06-13T09:31:16.655776Z",
     "iopub.status.idle": "2024-06-13T09:31:19.771385Z",
     "shell.execute_reply": "2024-06-13T09:31:19.770801Z"
    },
    "lines_to_next_cell": 2,
    "papermill": {
     "duration": 3.125138,
     "end_time": "2024-06-13T09:31:19.773053",
     "exception": false,
     "start_time": "2024-06-13T09:31:16.647915",
     "status": "completed"
    },
    "tags": [
     "hide-input"
    ]
   },
   "outputs": [
    {
     "name": "stdout",
     "output_type": "stream",
     "text": [
      "vaep - INFO     Experiment 03 - Analysis of latent spaces and performance comparisions\n"
     ]
    }
   ],
   "source": [
    "\n",
    "import logging\n",
    "from functools import partial\n",
    "\n",
    "import pandas as pd\n",
    "import sklearn\n",
    "import torch\n",
    "from fastai import learner\n",
    "from fastai.basics import *\n",
    "from fastai.callback.all import *\n",
    "from fastai.callback.all import EarlyStoppingCallback\n",
    "from fastai.learner import Learner\n",
    "from fastai.torch_basics import *\n",
    "from IPython.display import display\n",
    "from sklearn.impute import SimpleImputer\n",
    "from sklearn.preprocessing import StandardScaler\n",
    "from torch.nn import Sigmoid\n",
    "\n",
    "import vaep\n",
    "import vaep.model\n",
    "import vaep.models as models\n",
    "import vaep.nb\n",
    "from vaep.analyzers import analyzers\n",
    "from vaep.io import datasplits\n",
    "# overwriting Recorder callback with custom plot_loss\n",
    "from vaep.models import ae, plot_loss\n",
    "\n",
    "learner.Recorder.plot_loss = plot_loss\n",
    "\n",
    "\n",
    "logger = vaep.logging.setup_logger(logging.getLogger('vaep'))\n",
    "logger.info(\n",
    "    \"Experiment 03 - Analysis of latent spaces and performance comparisions\")\n",
    "\n",
    "figures = {}  # collection of ax or figures"
   ]
  },
  {
   "cell_type": "code",
   "execution_count": 2,
   "id": "5dbc8d89",
   "metadata": {
    "execution": {
     "iopub.execute_input": "2024-06-13T09:31:19.801416Z",
     "iopub.status.busy": "2024-06-13T09:31:19.800644Z",
     "iopub.status.idle": "2024-06-13T09:31:19.804437Z",
     "shell.execute_reply": "2024-06-13T09:31:19.803875Z"
    },
    "papermill": {
     "duration": 0.020203,
     "end_time": "2024-06-13T09:31:19.806010",
     "exception": false,
     "start_time": "2024-06-13T09:31:19.785807",
     "status": "completed"
    },
    "tags": [
     "hide-input"
    ]
   },
   "outputs": [],
   "source": [
    "# catch passed parameters\n",
    "args = None\n",
    "args = dict(globals()).keys()"
   ]
  },
  {
   "cell_type": "markdown",
   "id": "43f062bb-8d2c-4afa-8a81-9e2a328050fe",
   "metadata": {
    "papermill": {
     "duration": 0.011172,
     "end_time": "2024-06-13T09:31:19.830442",
     "exception": false,
     "start_time": "2024-06-13T09:31:19.819270",
     "status": "completed"
    },
    "tags": []
   },
   "source": [
    "Papermill script parameters:"
   ]
  },
  {
   "cell_type": "code",
   "execution_count": 3,
   "id": "297f14bc-3c37-43fa-8217-f790f0593d78",
   "metadata": {
    "execution": {
     "iopub.execute_input": "2024-06-13T09:31:19.857268Z",
     "iopub.status.busy": "2024-06-13T09:31:19.856525Z",
     "iopub.status.idle": "2024-06-13T09:31:19.862502Z",
     "shell.execute_reply": "2024-06-13T09:31:19.861946Z"
    },
    "papermill": {
     "duration": 0.020944,
     "end_time": "2024-06-13T09:31:19.864131",
     "exception": false,
     "start_time": "2024-06-13T09:31:19.843187",
     "status": "completed"
    },
    "tags": [
     "parameters"
    ]
   },
   "outputs": [],
   "source": [
    "# files and folders\n",
    "# Datasplit folder with data for experiment\n",
    "folder_experiment: str = 'runs/example'\n",
    "folder_data: str = ''  # specify data directory if needed\n",
    "file_format: str = 'csv'  # file format of create splits, default pickle (pkl)\n",
    "# Machine parsed metadata from rawfile workflow\n",
    "fn_rawfile_metadata: str = 'data/dev_datasets/HeLa_6070/files_selected_metadata_N50.csv'\n",
    "# training\n",
    "epochs_max: int = 50  # Maximum number of epochs\n",
    "batch_size: int = 64  # Batch size for training (and evaluation)\n",
    "cuda: bool = True  # Whether to use a GPU for training\n",
    "# model\n",
    "# Dimensionality of encoding dimension (latent space of model)\n",
    "latent_dim: int = 25\n",
    "# A underscore separated string of layers, '256_128' for the encoder, reverse will be use for decoder\n",
    "hidden_layers: str = '256_128'\n",
    "# force_train:bool = True # Force training when saved model could be used. Per default re-train model\n",
    "patience: int = 50  # Patience for early stopping\n",
    "sample_idx_position: int = 0  # position of index which is sample ID\n",
    "model: str = 'VAE'  # model name\n",
    "model_key: str = 'VAE'  # potentially alternative key for model (grid search)\n",
    "save_pred_real_na: bool = True  # Save all predictions for missing values\n",
    "# metadata -> defaults for metadata extracted from machine data\n",
    "meta_date_col: str = None  # date column in meta data\n",
    "meta_cat_col: str = None  # category column in meta data"
   ]
  },
  {
   "cell_type": "code",
   "execution_count": 4,
   "id": "68ffeed2",
   "metadata": {
    "execution": {
     "iopub.execute_input": "2024-06-13T09:31:19.892765Z",
     "iopub.status.busy": "2024-06-13T09:31:19.892049Z",
     "iopub.status.idle": "2024-06-13T09:31:19.896522Z",
     "shell.execute_reply": "2024-06-13T09:31:19.895780Z"
    },
    "papermill": {
     "duration": 0.020884,
     "end_time": "2024-06-13T09:31:19.898495",
     "exception": false,
     "start_time": "2024-06-13T09:31:19.877611",
     "status": "completed"
    },
    "tags": [
     "injected-parameters"
    ]
   },
   "outputs": [],
   "source": [
    "# Parameters\n",
    "model = \"VAE\"\n",
    "latent_dim = 10\n",
    "batch_size = 64\n",
    "epochs_max = 300\n",
    "hidden_layers = \"64\"\n",
    "sample_idx_position = 0\n",
    "cuda = False\n",
    "save_pred_real_na = True\n",
    "fn_rawfile_metadata = \"https://raw.githubusercontent.com/RasmussenLab/njab/HEAD/docs/tutorial/data/alzheimer/meta.csv\"\n",
    "folder_experiment = \"runs/alzheimer_study\"\n",
    "model_key = \"VAE\"\n"
   ]
  },
  {
   "cell_type": "markdown",
   "id": "1da8e04b-2eb2-4ecb-b1d1-2de871cd0a56",
   "metadata": {
    "lines_to_next_cell": 2,
    "papermill": {
     "duration": 0.012348,
     "end_time": "2024-06-13T09:31:19.924997",
     "exception": false,
     "start_time": "2024-06-13T09:31:19.912649",
     "status": "completed"
    },
    "tags": []
   },
   "source": [
    "Some argument transformations"
   ]
  },
  {
   "cell_type": "code",
   "execution_count": 5,
   "id": "0746e70f-0259-48d5-90ef-25fe4b59f9ac",
   "metadata": {
    "execution": {
     "iopub.execute_input": "2024-06-13T09:31:19.951910Z",
     "iopub.status.busy": "2024-06-13T09:31:19.951531Z",
     "iopub.status.idle": "2024-06-13T09:31:19.973115Z",
     "shell.execute_reply": "2024-06-13T09:31:19.972373Z"
    },
    "papermill": {
     "duration": 0.040749,
     "end_time": "2024-06-13T09:31:19.978374",
     "exception": false,
     "start_time": "2024-06-13T09:31:19.937625",
     "status": "completed"
    },
    "tags": [
     "hide-input"
    ]
   },
   "outputs": [
    {
     "data": {
      "text/plain": [
       "{'folder_experiment': 'runs/alzheimer_study',\n",
       " 'folder_data': '',\n",
       " 'file_format': 'csv',\n",
       " 'fn_rawfile_metadata': 'https://raw.githubusercontent.com/RasmussenLab/njab/HEAD/docs/tutorial/data/alzheimer/meta.csv',\n",
       " 'epochs_max': 300,\n",
       " 'batch_size': 64,\n",
       " 'cuda': False,\n",
       " 'latent_dim': 10,\n",
       " 'hidden_layers': '64',\n",
       " 'patience': 50,\n",
       " 'sample_idx_position': 0,\n",
       " 'model': 'VAE',\n",
       " 'model_key': 'VAE',\n",
       " 'save_pred_real_na': True,\n",
       " 'meta_date_col': None,\n",
       " 'meta_cat_col': None}"
      ]
     },
     "execution_count": 5,
     "metadata": {},
     "output_type": "execute_result"
    }
   ],
   "source": [
    "args = vaep.nb.get_params(args, globals=globals())\n",
    "args"
   ]
  },
  {
   "cell_type": "code",
   "execution_count": 6,
   "id": "8083658b",
   "metadata": {
    "execution": {
     "iopub.execute_input": "2024-06-13T09:31:20.006820Z",
     "iopub.status.busy": "2024-06-13T09:31:20.006058Z",
     "iopub.status.idle": "2024-06-13T09:31:20.013433Z",
     "shell.execute_reply": "2024-06-13T09:31:20.012669Z"
    },
    "lines_to_next_cell": 2,
    "papermill": {
     "duration": 0.023689,
     "end_time": "2024-06-13T09:31:20.016162",
     "exception": false,
     "start_time": "2024-06-13T09:31:19.992473",
     "status": "completed"
    },
    "tags": [
     "hide-input"
    ]
   },
   "outputs": [
    {
     "data": {
      "text/plain": [
       "{'batch_size': 64,\n",
       " 'cuda': False,\n",
       " 'data': Path('runs/alzheimer_study/data'),\n",
       " 'epochs_max': 300,\n",
       " 'file_format': 'csv',\n",
       " 'fn_rawfile_metadata': 'https://raw.githubusercontent.com/RasmussenLab/njab/HEAD/docs/tutorial/data/alzheimer/meta.csv',\n",
       " 'folder_data': '',\n",
       " 'folder_experiment': Path('runs/alzheimer_study'),\n",
       " 'hidden_layers': [64],\n",
       " 'latent_dim': 10,\n",
       " 'meta_cat_col': None,\n",
       " 'meta_date_col': None,\n",
       " 'model': 'VAE',\n",
       " 'model_key': 'VAE',\n",
       " 'out_figures': Path('runs/alzheimer_study/figures'),\n",
       " 'out_folder': Path('runs/alzheimer_study'),\n",
       " 'out_metrics': Path('runs/alzheimer_study'),\n",
       " 'out_models': Path('runs/alzheimer_study'),\n",
       " 'out_preds': Path('runs/alzheimer_study/preds'),\n",
       " 'patience': 50,\n",
       " 'sample_idx_position': 0,\n",
       " 'save_pred_real_na': True}"
      ]
     },
     "execution_count": 6,
     "metadata": {},
     "output_type": "execute_result"
    }
   ],
   "source": [
    "args = vaep.nb.args_from_dict(args)\n",
    "\n",
    "if isinstance(args.hidden_layers, str):\n",
    "    args.overwrite_entry(\"hidden_layers\", [int(x)\n",
    "                         for x in args.hidden_layers.split('_')])\n",
    "else:\n",
    "    raise ValueError(\n",
    "        f\"hidden_layers is of unknown type {type(args.hidden_layers)}\")\n",
    "args"
   ]
  },
  {
   "cell_type": "markdown",
   "id": "3d59f6d8-9cb1-461a-8d62-2ab4458cab60",
   "metadata": {
    "papermill": {
     "duration": 0.012188,
     "end_time": "2024-06-13T09:31:20.041084",
     "exception": false,
     "start_time": "2024-06-13T09:31:20.028896",
     "status": "completed"
    },
    "tags": []
   },
   "source": [
    "Some naming conventions"
   ]
  },
  {
   "cell_type": "code",
   "execution_count": 7,
   "id": "a19fe098-a029-4f71-b7fb-e652a9c16ac7",
   "metadata": {
    "execution": {
     "iopub.execute_input": "2024-06-13T09:31:20.069611Z",
     "iopub.status.busy": "2024-06-13T09:31:20.068938Z",
     "iopub.status.idle": "2024-06-13T09:31:20.072646Z",
     "shell.execute_reply": "2024-06-13T09:31:20.071962Z"
    },
    "papermill": {
     "duration": 0.019913,
     "end_time": "2024-06-13T09:31:20.074841",
     "exception": false,
     "start_time": "2024-06-13T09:31:20.054928",
     "status": "completed"
    },
    "tags": [
     "hide-input"
    ]
   },
   "outputs": [],
   "source": [
    "TEMPLATE_MODEL_PARAMS = 'model_params_{}.json'"
   ]
  },
  {
   "cell_type": "markdown",
   "id": "976cc005-0c5f-4e88-9656-c549e613ca68",
   "metadata": {
    "papermill": {
     "duration": 0.012049,
     "end_time": "2024-06-13T09:31:20.098535",
     "exception": false,
     "start_time": "2024-06-13T09:31:20.086486",
     "status": "completed"
    },
    "tags": []
   },
   "source": [
    "## Load data in long format"
   ]
  },
  {
   "cell_type": "code",
   "execution_count": 8,
   "id": "6d9cc7bd-6b6f-40b9-8db7-c8228e4b03e3",
   "metadata": {
    "execution": {
     "iopub.execute_input": "2024-06-13T09:31:20.122380Z",
     "iopub.status.busy": "2024-06-13T09:31:20.122086Z",
     "iopub.status.idle": "2024-06-13T09:31:20.296292Z",
     "shell.execute_reply": "2024-06-13T09:31:20.295602Z"
    },
    "papermill": {
     "duration": 0.188139,
     "end_time": "2024-06-13T09:31:20.297885",
     "exception": false,
     "start_time": "2024-06-13T09:31:20.109746",
     "status": "completed"
    },
    "tags": [
     "hide-input"
    ]
   },
   "outputs": [
    {
     "name": "stdout",
     "output_type": "stream",
     "text": [
      "vaep.io.datasplits - INFO     Loaded 'train_X' from file: runs/alzheimer_study/data/train_X.csv\n"
     ]
    },
    {
     "name": "stdout",
     "output_type": "stream",
     "text": [
      "vaep.io.datasplits - INFO     Loaded 'val_y' from file: runs/alzheimer_study/data/val_y.csv\n"
     ]
    },
    {
     "name": "stdout",
     "output_type": "stream",
     "text": [
      "vaep.io.datasplits - INFO     Loaded 'test_y' from file: runs/alzheimer_study/data/test_y.csv\n"
     ]
    }
   ],
   "source": [
    "data = datasplits.DataSplits.from_folder(\n",
    "    args.data, file_format=args.file_format)"
   ]
  },
  {
   "cell_type": "markdown",
   "id": "3ca12fc2-bf34-42ac-99b2-a78ff9fe7722",
   "metadata": {
    "papermill": {
     "duration": 0.013025,
     "end_time": "2024-06-13T09:31:20.324439",
     "exception": false,
     "start_time": "2024-06-13T09:31:20.311414",
     "status": "completed"
    },
    "tags": []
   },
   "source": [
    "data is loaded in long format"
   ]
  },
  {
   "cell_type": "code",
   "execution_count": 9,
   "id": "02bb6bf5-0eb1-4c73-9723-414b14eaf7c8",
   "metadata": {
    "execution": {
     "iopub.execute_input": "2024-06-13T09:31:20.350382Z",
     "iopub.status.busy": "2024-06-13T09:31:20.349756Z",
     "iopub.status.idle": "2024-06-13T09:31:20.358587Z",
     "shell.execute_reply": "2024-06-13T09:31:20.357963Z"
    },
    "papermill": {
     "duration": 0.023365,
     "end_time": "2024-06-13T09:31:20.360112",
     "exception": false,
     "start_time": "2024-06-13T09:31:20.336747",
     "status": "completed"
    },
    "tags": [
     "hide-input"
    ]
   },
   "outputs": [
    {
     "data": {
      "text/plain": [
       "Sample ID   protein groups                            \n",
       "Sample_083  P52758                                       14.846\n",
       "Sample_024  Q9Y5F6;Q9Y5F6-2                              17.462\n",
       "Sample_004  Q99519                                       15.613\n",
       "Sample_175  A0A0A0MTH0;Q8N0W4;Q8N0W4-2;Q8NFZ3;Q8NFZ3-2   16.489\n",
       "Sample_007  C9J6G4;Q8TEU8                                20.102\n",
       "Name: intensity, dtype: float64"
      ]
     },
     "execution_count": 9,
     "metadata": {},
     "output_type": "execute_result"
    }
   ],
   "source": [
    "data.train_X.sample(5)"
   ]
  },
  {
   "cell_type": "markdown",
   "id": "6045414b",
   "metadata": {
    "papermill": {
     "duration": 0.007741,
     "end_time": "2024-06-13T09:31:20.379137",
     "exception": false,
     "start_time": "2024-06-13T09:31:20.371396",
     "status": "completed"
    },
    "tags": []
   },
   "source": [
    "Infer index names from long format"
   ]
  },
  {
   "cell_type": "code",
   "execution_count": 10,
   "id": "44958473",
   "metadata": {
    "execution": {
     "iopub.execute_input": "2024-06-13T09:31:20.395591Z",
     "iopub.status.busy": "2024-06-13T09:31:20.395052Z",
     "iopub.status.idle": "2024-06-13T09:31:20.400820Z",
     "shell.execute_reply": "2024-06-13T09:31:20.400183Z"
    },
    "papermill": {
     "duration": 0.015676,
     "end_time": "2024-06-13T09:31:20.402204",
     "exception": false,
     "start_time": "2024-06-13T09:31:20.386528",
     "status": "completed"
    },
    "tags": [
     "hide-input"
    ]
   },
   "outputs": [
    {
     "name": "stdout",
     "output_type": "stream",
     "text": [
      "vaep - INFO     sample_id = 'Sample ID', single feature: index_column = 'protein groups'\n"
     ]
    }
   ],
   "source": [
    "index_columns = list(data.train_X.index.names)\n",
    "sample_id = index_columns.pop(args.sample_idx_position)\n",
    "if len(index_columns) == 1:\n",
    "    index_column = index_columns.pop()\n",
    "    index_columns = None\n",
    "    logger.info(f\"{sample_id = }, single feature: {index_column = }\")\n",
    "else:\n",
    "    logger.info(f\"{sample_id = }, multiple features: {index_columns = }\")\n",
    "\n",
    "if not index_columns:\n",
    "    index_columns = [sample_id, index_column]\n",
    "else:\n",
    "    raise NotImplementedError(\n",
    "        \"More than one feature: Needs to be implemented. see above logging output.\")"
   ]
  },
  {
   "cell_type": "markdown",
   "id": "a94ae06d-64dd-4f4f-abde-8485a8c8458e",
   "metadata": {
    "papermill": {
     "duration": 0.012285,
     "end_time": "2024-06-13T09:31:20.427153",
     "exception": false,
     "start_time": "2024-06-13T09:31:20.414868",
     "status": "completed"
    },
    "tags": []
   },
   "source": [
    "load meta data for splits"
   ]
  },
  {
   "cell_type": "code",
   "execution_count": 11,
   "id": "b5b945aa-9b4e-4487-8b09-dca289e64d9d",
   "metadata": {
    "execution": {
     "iopub.execute_input": "2024-06-13T09:31:20.478782Z",
     "iopub.status.busy": "2024-06-13T09:31:20.478128Z",
     "iopub.status.idle": "2024-06-13T09:31:20.516751Z",
     "shell.execute_reply": "2024-06-13T09:31:20.515955Z"
    },
    "papermill": {
     "duration": 0.079292,
     "end_time": "2024-06-13T09:31:20.518648",
     "exception": false,
     "start_time": "2024-06-13T09:31:20.439356",
     "status": "completed"
    },
    "tags": [
     "hide-input"
    ]
   },
   "outputs": [
    {
     "data": {
      "text/html": [
       "<div>\n",
       "<style scoped>\n",
       "    .dataframe tbody tr th:only-of-type {\n",
       "        vertical-align: middle;\n",
       "    }\n",
       "\n",
       "    .dataframe tbody tr th {\n",
       "        vertical-align: top;\n",
       "    }\n",
       "\n",
       "    .dataframe thead th {\n",
       "        text-align: right;\n",
       "    }\n",
       "</style>\n",
       "<table border=\"1\" class=\"dataframe\">\n",
       "  <thead>\n",
       "    <tr style=\"text-align: right;\">\n",
       "      <th></th>\n",
       "      <th>_collection site</th>\n",
       "      <th>_age at CSF collection</th>\n",
       "      <th>_gender</th>\n",
       "      <th>_t-tau [ng/L]</th>\n",
       "      <th>_p-tau [ng/L]</th>\n",
       "      <th>_Abeta-42 [ng/L]</th>\n",
       "      <th>_Abeta-40 [ng/L]</th>\n",
       "      <th>_Abeta-42/Abeta-40 ratio</th>\n",
       "      <th>_primary biochemical AD classification</th>\n",
       "      <th>_clinical AD diagnosis</th>\n",
       "      <th>_MMSE score</th>\n",
       "    </tr>\n",
       "    <tr>\n",
       "      <th>Sample ID</th>\n",
       "      <th></th>\n",
       "      <th></th>\n",
       "      <th></th>\n",
       "      <th></th>\n",
       "      <th></th>\n",
       "      <th></th>\n",
       "      <th></th>\n",
       "      <th></th>\n",
       "      <th></th>\n",
       "      <th></th>\n",
       "      <th></th>\n",
       "    </tr>\n",
       "  </thead>\n",
       "  <tbody>\n",
       "    <tr>\n",
       "      <th>Sample_000</th>\n",
       "      <td>Sweden</td>\n",
       "      <td>71.000</td>\n",
       "      <td>f</td>\n",
       "      <td>703.000</td>\n",
       "      <td>85.000</td>\n",
       "      <td>562.000</td>\n",
       "      <td>NaN</td>\n",
       "      <td>NaN</td>\n",
       "      <td>biochemical control</td>\n",
       "      <td>NaN</td>\n",
       "      <td>NaN</td>\n",
       "    </tr>\n",
       "    <tr>\n",
       "      <th>Sample_001</th>\n",
       "      <td>Sweden</td>\n",
       "      <td>77.000</td>\n",
       "      <td>m</td>\n",
       "      <td>518.000</td>\n",
       "      <td>91.000</td>\n",
       "      <td>334.000</td>\n",
       "      <td>NaN</td>\n",
       "      <td>NaN</td>\n",
       "      <td>biochemical AD</td>\n",
       "      <td>NaN</td>\n",
       "      <td>NaN</td>\n",
       "    </tr>\n",
       "    <tr>\n",
       "      <th>Sample_002</th>\n",
       "      <td>Sweden</td>\n",
       "      <td>75.000</td>\n",
       "      <td>m</td>\n",
       "      <td>974.000</td>\n",
       "      <td>87.000</td>\n",
       "      <td>515.000</td>\n",
       "      <td>NaN</td>\n",
       "      <td>NaN</td>\n",
       "      <td>biochemical AD</td>\n",
       "      <td>NaN</td>\n",
       "      <td>NaN</td>\n",
       "    </tr>\n",
       "    <tr>\n",
       "      <th>Sample_003</th>\n",
       "      <td>Sweden</td>\n",
       "      <td>72.000</td>\n",
       "      <td>f</td>\n",
       "      <td>950.000</td>\n",
       "      <td>109.000</td>\n",
       "      <td>394.000</td>\n",
       "      <td>NaN</td>\n",
       "      <td>NaN</td>\n",
       "      <td>biochemical AD</td>\n",
       "      <td>NaN</td>\n",
       "      <td>NaN</td>\n",
       "    </tr>\n",
       "    <tr>\n",
       "      <th>Sample_004</th>\n",
       "      <td>Sweden</td>\n",
       "      <td>63.000</td>\n",
       "      <td>f</td>\n",
       "      <td>873.000</td>\n",
       "      <td>88.000</td>\n",
       "      <td>234.000</td>\n",
       "      <td>NaN</td>\n",
       "      <td>NaN</td>\n",
       "      <td>biochemical AD</td>\n",
       "      <td>NaN</td>\n",
       "      <td>NaN</td>\n",
       "    </tr>\n",
       "    <tr>\n",
       "      <th>...</th>\n",
       "      <td>...</td>\n",
       "      <td>...</td>\n",
       "      <td>...</td>\n",
       "      <td>...</td>\n",
       "      <td>...</td>\n",
       "      <td>...</td>\n",
       "      <td>...</td>\n",
       "      <td>...</td>\n",
       "      <td>...</td>\n",
       "      <td>...</td>\n",
       "      <td>...</td>\n",
       "    </tr>\n",
       "    <tr>\n",
       "      <th>Sample_205</th>\n",
       "      <td>Berlin</td>\n",
       "      <td>69.000</td>\n",
       "      <td>f</td>\n",
       "      <td>1,945.000</td>\n",
       "      <td>NaN</td>\n",
       "      <td>699.000</td>\n",
       "      <td>12,140.000</td>\n",
       "      <td>0.058</td>\n",
       "      <td>biochemical AD</td>\n",
       "      <td>AD</td>\n",
       "      <td>17.000</td>\n",
       "    </tr>\n",
       "    <tr>\n",
       "      <th>Sample_206</th>\n",
       "      <td>Berlin</td>\n",
       "      <td>73.000</td>\n",
       "      <td>m</td>\n",
       "      <td>299.000</td>\n",
       "      <td>NaN</td>\n",
       "      <td>1,420.000</td>\n",
       "      <td>16,571.000</td>\n",
       "      <td>0.086</td>\n",
       "      <td>biochemical control</td>\n",
       "      <td>non-AD</td>\n",
       "      <td>28.000</td>\n",
       "    </tr>\n",
       "    <tr>\n",
       "      <th>Sample_207</th>\n",
       "      <td>Berlin</td>\n",
       "      <td>71.000</td>\n",
       "      <td>f</td>\n",
       "      <td>262.000</td>\n",
       "      <td>NaN</td>\n",
       "      <td>639.000</td>\n",
       "      <td>9,663.000</td>\n",
       "      <td>0.066</td>\n",
       "      <td>biochemical control</td>\n",
       "      <td>non-AD</td>\n",
       "      <td>28.000</td>\n",
       "    </tr>\n",
       "    <tr>\n",
       "      <th>Sample_208</th>\n",
       "      <td>Berlin</td>\n",
       "      <td>83.000</td>\n",
       "      <td>m</td>\n",
       "      <td>289.000</td>\n",
       "      <td>NaN</td>\n",
       "      <td>1,436.000</td>\n",
       "      <td>11,285.000</td>\n",
       "      <td>0.127</td>\n",
       "      <td>biochemical control</td>\n",
       "      <td>non-AD</td>\n",
       "      <td>24.000</td>\n",
       "    </tr>\n",
       "    <tr>\n",
       "      <th>Sample_209</th>\n",
       "      <td>Berlin</td>\n",
       "      <td>63.000</td>\n",
       "      <td>f</td>\n",
       "      <td>591.000</td>\n",
       "      <td>NaN</td>\n",
       "      <td>1,299.000</td>\n",
       "      <td>11,232.000</td>\n",
       "      <td>0.116</td>\n",
       "      <td>biochemical control</td>\n",
       "      <td>non-AD</td>\n",
       "      <td>29.000</td>\n",
       "    </tr>\n",
       "  </tbody>\n",
       "</table>\n",
       "<p>210 rows × 11 columns</p>\n",
       "</div>"
      ],
      "text/plain": [
       "           _collection site  _age at CSF collection _gender  _t-tau [ng/L]  \\\n",
       "Sample ID                                                                    \n",
       "Sample_000           Sweden                  71.000       f        703.000   \n",
       "Sample_001           Sweden                  77.000       m        518.000   \n",
       "Sample_002           Sweden                  75.000       m        974.000   \n",
       "Sample_003           Sweden                  72.000       f        950.000   \n",
       "Sample_004           Sweden                  63.000       f        873.000   \n",
       "...                     ...                     ...     ...            ...   \n",
       "Sample_205           Berlin                  69.000       f      1,945.000   \n",
       "Sample_206           Berlin                  73.000       m        299.000   \n",
       "Sample_207           Berlin                  71.000       f        262.000   \n",
       "Sample_208           Berlin                  83.000       m        289.000   \n",
       "Sample_209           Berlin                  63.000       f        591.000   \n",
       "\n",
       "            _p-tau [ng/L]  _Abeta-42 [ng/L]  _Abeta-40 [ng/L]  \\\n",
       "Sample ID                                                       \n",
       "Sample_000         85.000           562.000               NaN   \n",
       "Sample_001         91.000           334.000               NaN   \n",
       "Sample_002         87.000           515.000               NaN   \n",
       "Sample_003        109.000           394.000               NaN   \n",
       "Sample_004         88.000           234.000               NaN   \n",
       "...                   ...               ...               ...   \n",
       "Sample_205            NaN           699.000        12,140.000   \n",
       "Sample_206            NaN         1,420.000        16,571.000   \n",
       "Sample_207            NaN           639.000         9,663.000   \n",
       "Sample_208            NaN         1,436.000        11,285.000   \n",
       "Sample_209            NaN         1,299.000        11,232.000   \n",
       "\n",
       "            _Abeta-42/Abeta-40 ratio _primary biochemical AD classification  \\\n",
       "Sample ID                                                                     \n",
       "Sample_000                       NaN                    biochemical control   \n",
       "Sample_001                       NaN                         biochemical AD   \n",
       "Sample_002                       NaN                         biochemical AD   \n",
       "Sample_003                       NaN                         biochemical AD   \n",
       "Sample_004                       NaN                         biochemical AD   \n",
       "...                              ...                                    ...   \n",
       "Sample_205                     0.058                         biochemical AD   \n",
       "Sample_206                     0.086                    biochemical control   \n",
       "Sample_207                     0.066                    biochemical control   \n",
       "Sample_208                     0.127                    biochemical control   \n",
       "Sample_209                     0.116                    biochemical control   \n",
       "\n",
       "           _clinical AD diagnosis  _MMSE score  \n",
       "Sample ID                                       \n",
       "Sample_000                    NaN          NaN  \n",
       "Sample_001                    NaN          NaN  \n",
       "Sample_002                    NaN          NaN  \n",
       "Sample_003                    NaN          NaN  \n",
       "Sample_004                    NaN          NaN  \n",
       "...                           ...          ...  \n",
       "Sample_205                     AD       17.000  \n",
       "Sample_206                 non-AD       28.000  \n",
       "Sample_207                 non-AD       28.000  \n",
       "Sample_208                 non-AD       24.000  \n",
       "Sample_209                 non-AD       29.000  \n",
       "\n",
       "[210 rows x 11 columns]"
      ]
     },
     "metadata": {},
     "output_type": "display_data"
    }
   ],
   "source": [
    "if args.fn_rawfile_metadata:\n",
    "    df_meta = pd.read_csv(args.fn_rawfile_metadata, index_col=0)\n",
    "    display(df_meta.loc[data.train_X.index.levels[0]])\n",
    "else:\n",
    "    df_meta = None"
   ]
  },
  {
   "cell_type": "markdown",
   "id": "a7ef773a-5588-4b11-9bd7-840b628eeaff",
   "metadata": {
    "papermill": {
     "duration": 0.015025,
     "end_time": "2024-06-13T09:31:20.548297",
     "exception": false,
     "start_time": "2024-06-13T09:31:20.533272",
     "status": "completed"
    },
    "tags": []
   },
   "source": [
    "## Initialize Comparison\n",
    "\n",
    "- replicates idea for truely missing values: Define truth as by using n=3 replicates to impute\n",
    "  each sample\n",
    "- real test data:\n",
    "    - Not used for predictions or early stopping.\n",
    "    - [x] add some additional NAs based on distribution of data"
   ]
  },
  {
   "cell_type": "code",
   "execution_count": 12,
   "id": "98f675b6-e619-45b6-8f04-b75237d212a7",
   "metadata": {
    "execution": {
     "iopub.execute_input": "2024-06-13T09:31:20.580610Z",
     "iopub.status.busy": "2024-06-13T09:31:20.579881Z",
     "iopub.status.idle": "2024-06-13T09:31:20.586598Z",
     "shell.execute_reply": "2024-06-13T09:31:20.586019Z"
    },
    "papermill": {
     "duration": 0.024324,
     "end_time": "2024-06-13T09:31:20.588119",
     "exception": false,
     "start_time": "2024-06-13T09:31:20.563795",
     "status": "completed"
    },
    "tags": [
     "hide-input"
    ]
   },
   "outputs": [
    {
     "data": {
      "text/plain": [
       "protein groups\n",
       "A0A024QZX5;A0A087X1N8;P35237                                                     197\n",
       "A0A024R0T9;K7ER74;P02655                                                         208\n",
       "A0A024R3W6;A0A024R412;O60462;O60462-2;O60462-3;O60462-4;O60462-5;Q7LBX6;X5D2Q8   185\n",
       "A0A024R644;A0A0A0MRU5;A0A1B0GWI2;O75503                                          208\n",
       "A0A075B6H7                                                                        97\n",
       "Name: freq, dtype: int64"
      ]
     },
     "execution_count": 12,
     "metadata": {},
     "output_type": "execute_result"
    }
   ],
   "source": [
    "freq_feat = vaep.io.datasplits.load_freq(args.data)\n",
    "freq_feat.head()  # training data"
   ]
  },
  {
   "cell_type": "markdown",
   "id": "e02afb4e-ee91-4753-a118-7fa20fe621c9",
   "metadata": {
    "papermill": {
     "duration": 0.01552,
     "end_time": "2024-06-13T09:31:20.617533",
     "exception": false,
     "start_time": "2024-06-13T09:31:20.602013",
     "status": "completed"
    },
    "tags": []
   },
   "source": [
    "### Produce some addional simulated samples"
   ]
  },
  {
   "cell_type": "markdown",
   "id": "02d5763b-00fe-44ce-9dfa-b6e506045762",
   "metadata": {
    "papermill": {
     "duration": 0.00895,
     "end_time": "2024-06-13T09:31:20.640509",
     "exception": false,
     "start_time": "2024-06-13T09:31:20.631559",
     "status": "completed"
    },
    "tags": []
   },
   "source": [
    "The validation simulated NA is used to by all models to evaluate training performance."
   ]
  },
  {
   "cell_type": "code",
   "execution_count": 13,
   "id": "19eebaff-0e1e-4e44-ae40-12d2f0e75c74",
   "metadata": {
    "execution": {
     "iopub.execute_input": "2024-06-13T09:31:20.657613Z",
     "iopub.status.busy": "2024-06-13T09:31:20.657096Z",
     "iopub.status.idle": "2024-06-13T09:31:20.667861Z",
     "shell.execute_reply": "2024-06-13T09:31:20.667271Z"
    },
    "papermill": {
     "duration": 0.020884,
     "end_time": "2024-06-13T09:31:20.669158",
     "exception": false,
     "start_time": "2024-06-13T09:31:20.648274",
     "status": "completed"
    },
    "tags": [
     "hide-input"
    ]
   },
   "outputs": [
    {
     "data": {
      "text/html": [
       "<div>\n",
       "<style scoped>\n",
       "    .dataframe tbody tr th:only-of-type {\n",
       "        vertical-align: middle;\n",
       "    }\n",
       "\n",
       "    .dataframe tbody tr th {\n",
       "        vertical-align: top;\n",
       "    }\n",
       "\n",
       "    .dataframe thead th {\n",
       "        text-align: right;\n",
       "    }\n",
       "</style>\n",
       "<table border=\"1\" class=\"dataframe\">\n",
       "  <thead>\n",
       "    <tr style=\"text-align: right;\">\n",
       "      <th></th>\n",
       "      <th></th>\n",
       "      <th>observed</th>\n",
       "    </tr>\n",
       "    <tr>\n",
       "      <th>Sample ID</th>\n",
       "      <th>protein groups</th>\n",
       "      <th></th>\n",
       "    </tr>\n",
       "  </thead>\n",
       "  <tbody>\n",
       "    <tr>\n",
       "      <th>Sample_158</th>\n",
       "      <th>Q9UN70;Q9UN70-2</th>\n",
       "      <td>14.630</td>\n",
       "    </tr>\n",
       "    <tr>\n",
       "      <th>Sample_050</th>\n",
       "      <th>Q9Y287</th>\n",
       "      <td>15.755</td>\n",
       "    </tr>\n",
       "    <tr>\n",
       "      <th>Sample_107</th>\n",
       "      <th>Q8N475;Q8N475-2</th>\n",
       "      <td>15.029</td>\n",
       "    </tr>\n",
       "    <tr>\n",
       "      <th>Sample_199</th>\n",
       "      <th>P06307</th>\n",
       "      <td>19.376</td>\n",
       "    </tr>\n",
       "    <tr>\n",
       "      <th>Sample_067</th>\n",
       "      <th>Q5VUB5</th>\n",
       "      <td>15.309</td>\n",
       "    </tr>\n",
       "    <tr>\n",
       "      <th>...</th>\n",
       "      <th>...</th>\n",
       "      <td>...</td>\n",
       "    </tr>\n",
       "    <tr>\n",
       "      <th>Sample_111</th>\n",
       "      <th>F6SYF8;Q9UBP4</th>\n",
       "      <td>22.822</td>\n",
       "    </tr>\n",
       "    <tr>\n",
       "      <th>Sample_002</th>\n",
       "      <th>A0A0A0MT36</th>\n",
       "      <td>18.165</td>\n",
       "    </tr>\n",
       "    <tr>\n",
       "      <th>Sample_049</th>\n",
       "      <th>Q8WY21;Q8WY21-2;Q8WY21-3;Q8WY21-4</th>\n",
       "      <td>15.525</td>\n",
       "    </tr>\n",
       "    <tr>\n",
       "      <th>Sample_182</th>\n",
       "      <th>Q8NFT8</th>\n",
       "      <td>14.379</td>\n",
       "    </tr>\n",
       "    <tr>\n",
       "      <th>Sample_123</th>\n",
       "      <th>Q16853;Q16853-2</th>\n",
       "      <td>14.504</td>\n",
       "    </tr>\n",
       "  </tbody>\n",
       "</table>\n",
       "<p>12600 rows × 1 columns</p>\n",
       "</div>"
      ],
      "text/plain": [
       "                                              observed\n",
       "Sample ID  protein groups                             \n",
       "Sample_158 Q9UN70;Q9UN70-2                      14.630\n",
       "Sample_050 Q9Y287                               15.755\n",
       "Sample_107 Q8N475;Q8N475-2                      15.029\n",
       "Sample_199 P06307                               19.376\n",
       "Sample_067 Q5VUB5                               15.309\n",
       "...                                                ...\n",
       "Sample_111 F6SYF8;Q9UBP4                        22.822\n",
       "Sample_002 A0A0A0MT36                           18.165\n",
       "Sample_049 Q8WY21;Q8WY21-2;Q8WY21-3;Q8WY21-4    15.525\n",
       "Sample_182 Q8NFT8                               14.379\n",
       "Sample_123 Q16853;Q16853-2                      14.504\n",
       "\n",
       "[12600 rows x 1 columns]"
      ]
     },
     "execution_count": 13,
     "metadata": {},
     "output_type": "execute_result"
    }
   ],
   "source": [
    "val_pred_simulated_na = data.val_y.to_frame(name='observed')\n",
    "val_pred_simulated_na"
   ]
  },
  {
   "cell_type": "code",
   "execution_count": 14,
   "id": "3797a539-84d9-430a-8d16-7cc0eebfe9f5",
   "metadata": {
    "execution": {
     "iopub.execute_input": "2024-06-13T09:31:20.687744Z",
     "iopub.status.busy": "2024-06-13T09:31:20.687222Z",
     "iopub.status.idle": "2024-06-13T09:31:20.697323Z",
     "shell.execute_reply": "2024-06-13T09:31:20.696603Z"
    },
    "lines_to_next_cell": 2,
    "papermill": {
     "duration": 0.020973,
     "end_time": "2024-06-13T09:31:20.698694",
     "exception": false,
     "start_time": "2024-06-13T09:31:20.677721",
     "status": "completed"
    },
    "tags": [
     "hide-input"
    ]
   },
   "outputs": [
    {
     "data": {
      "text/html": [
       "<div>\n",
       "<style scoped>\n",
       "    .dataframe tbody tr th:only-of-type {\n",
       "        vertical-align: middle;\n",
       "    }\n",
       "\n",
       "    .dataframe tbody tr th {\n",
       "        vertical-align: top;\n",
       "    }\n",
       "\n",
       "    .dataframe thead th {\n",
       "        text-align: right;\n",
       "    }\n",
       "</style>\n",
       "<table border=\"1\" class=\"dataframe\">\n",
       "  <thead>\n",
       "    <tr style=\"text-align: right;\">\n",
       "      <th></th>\n",
       "      <th>observed</th>\n",
       "    </tr>\n",
       "  </thead>\n",
       "  <tbody>\n",
       "    <tr>\n",
       "      <th>count</th>\n",
       "      <td>12,600.000</td>\n",
       "    </tr>\n",
       "    <tr>\n",
       "      <th>mean</th>\n",
       "      <td>16.339</td>\n",
       "    </tr>\n",
       "    <tr>\n",
       "      <th>std</th>\n",
       "      <td>2.741</td>\n",
       "    </tr>\n",
       "    <tr>\n",
       "      <th>min</th>\n",
       "      <td>7.209</td>\n",
       "    </tr>\n",
       "    <tr>\n",
       "      <th>25%</th>\n",
       "      <td>14.412</td>\n",
       "    </tr>\n",
       "    <tr>\n",
       "      <th>50%</th>\n",
       "      <td>15.935</td>\n",
       "    </tr>\n",
       "    <tr>\n",
       "      <th>75%</th>\n",
       "      <td>17.910</td>\n",
       "    </tr>\n",
       "    <tr>\n",
       "      <th>max</th>\n",
       "      <td>30.140</td>\n",
       "    </tr>\n",
       "  </tbody>\n",
       "</table>\n",
       "</div>"
      ],
      "text/plain": [
       "        observed\n",
       "count 12,600.000\n",
       "mean      16.339\n",
       "std        2.741\n",
       "min        7.209\n",
       "25%       14.412\n",
       "50%       15.935\n",
       "75%       17.910\n",
       "max       30.140"
      ]
     },
     "execution_count": 14,
     "metadata": {},
     "output_type": "execute_result"
    }
   ],
   "source": [
    "test_pred_simulated_na = data.test_y.to_frame(name='observed')\n",
    "test_pred_simulated_na.describe()"
   ]
  },
  {
   "cell_type": "markdown",
   "id": "49eced7a-6cd7-414e-b974-4bd1dbe3a787",
   "metadata": {
    "papermill": {
     "duration": 0.00804,
     "end_time": "2024-06-13T09:31:20.715148",
     "exception": false,
     "start_time": "2024-06-13T09:31:20.707108",
     "status": "completed"
    },
    "tags": []
   },
   "source": [
    "## Data in wide format\n",
    "\n",
    "- Autoencoder need data in wide format"
   ]
  },
  {
   "cell_type": "code",
   "execution_count": 15,
   "id": "cff8caf4-ccc9-4a36-a992-2cc596abe51a",
   "metadata": {
    "execution": {
     "iopub.execute_input": "2024-06-13T09:31:20.732648Z",
     "iopub.status.busy": "2024-06-13T09:31:20.732034Z",
     "iopub.status.idle": "2024-06-13T09:31:20.774671Z",
     "shell.execute_reply": "2024-06-13T09:31:20.773935Z"
    },
    "papermill": {
     "duration": 0.053112,
     "end_time": "2024-06-13T09:31:20.776301",
     "exception": false,
     "start_time": "2024-06-13T09:31:20.723189",
     "status": "completed"
    },
    "tags": [
     "hide-input"
    ]
   },
   "outputs": [
    {
     "data": {
      "text/html": [
       "<div>\n",
       "<style scoped>\n",
       "    .dataframe tbody tr th:only-of-type {\n",
       "        vertical-align: middle;\n",
       "    }\n",
       "\n",
       "    .dataframe tbody tr th {\n",
       "        vertical-align: top;\n",
       "    }\n",
       "\n",
       "    .dataframe thead th {\n",
       "        text-align: right;\n",
       "    }\n",
       "</style>\n",
       "<table border=\"1\" class=\"dataframe\">\n",
       "  <thead>\n",
       "    <tr style=\"text-align: right;\">\n",
       "      <th>protein groups</th>\n",
       "      <th>A0A024QZX5;A0A087X1N8;P35237</th>\n",
       "      <th>A0A024R0T9;K7ER74;P02655</th>\n",
       "      <th>A0A024R3W6;A0A024R412;O60462;O60462-2;O60462-3;O60462-4;O60462-5;Q7LBX6;X5D2Q8</th>\n",
       "      <th>A0A024R644;A0A0A0MRU5;A0A1B0GWI2;O75503</th>\n",
       "      <th>A0A075B6H7</th>\n",
       "      <th>A0A075B6H9</th>\n",
       "      <th>A0A075B6I0</th>\n",
       "      <th>A0A075B6I1</th>\n",
       "      <th>A0A075B6I6</th>\n",
       "      <th>A0A075B6I9</th>\n",
       "      <th>...</th>\n",
       "      <th>Q9Y653;Q9Y653-2;Q9Y653-3</th>\n",
       "      <th>Q9Y696</th>\n",
       "      <th>Q9Y6C2</th>\n",
       "      <th>Q9Y6N6</th>\n",
       "      <th>Q9Y6N7;Q9Y6N7-2;Q9Y6N7-4</th>\n",
       "      <th>Q9Y6R7</th>\n",
       "      <th>Q9Y6X5</th>\n",
       "      <th>Q9Y6Y8;Q9Y6Y8-2</th>\n",
       "      <th>Q9Y6Y9</th>\n",
       "      <th>S4R3U6</th>\n",
       "    </tr>\n",
       "    <tr>\n",
       "      <th>Sample ID</th>\n",
       "      <th></th>\n",
       "      <th></th>\n",
       "      <th></th>\n",
       "      <th></th>\n",
       "      <th></th>\n",
       "      <th></th>\n",
       "      <th></th>\n",
       "      <th></th>\n",
       "      <th></th>\n",
       "      <th></th>\n",
       "      <th></th>\n",
       "      <th></th>\n",
       "      <th></th>\n",
       "      <th></th>\n",
       "      <th></th>\n",
       "      <th></th>\n",
       "      <th></th>\n",
       "      <th></th>\n",
       "      <th></th>\n",
       "      <th></th>\n",
       "      <th></th>\n",
       "    </tr>\n",
       "  </thead>\n",
       "  <tbody>\n",
       "    <tr>\n",
       "      <th>Sample_000</th>\n",
       "      <td>15.912</td>\n",
       "      <td>16.852</td>\n",
       "      <td>15.570</td>\n",
       "      <td>16.481</td>\n",
       "      <td>17.301</td>\n",
       "      <td>20.246</td>\n",
       "      <td>16.764</td>\n",
       "      <td>17.584</td>\n",
       "      <td>16.988</td>\n",
       "      <td>20.054</td>\n",
       "      <td>...</td>\n",
       "      <td>16.012</td>\n",
       "      <td>15.178</td>\n",
       "      <td>NaN</td>\n",
       "      <td>15.050</td>\n",
       "      <td>16.842</td>\n",
       "      <td>NaN</td>\n",
       "      <td>NaN</td>\n",
       "      <td>19.563</td>\n",
       "      <td>NaN</td>\n",
       "      <td>12.805</td>\n",
       "    </tr>\n",
       "    <tr>\n",
       "      <th>Sample_001</th>\n",
       "      <td>NaN</td>\n",
       "      <td>16.874</td>\n",
       "      <td>15.519</td>\n",
       "      <td>16.387</td>\n",
       "      <td>NaN</td>\n",
       "      <td>19.941</td>\n",
       "      <td>18.786</td>\n",
       "      <td>17.144</td>\n",
       "      <td>NaN</td>\n",
       "      <td>19.067</td>\n",
       "      <td>...</td>\n",
       "      <td>15.528</td>\n",
       "      <td>15.576</td>\n",
       "      <td>NaN</td>\n",
       "      <td>14.833</td>\n",
       "      <td>16.597</td>\n",
       "      <td>20.299</td>\n",
       "      <td>15.556</td>\n",
       "      <td>19.386</td>\n",
       "      <td>13.970</td>\n",
       "      <td>12.442</td>\n",
       "    </tr>\n",
       "    <tr>\n",
       "      <th>Sample_002</th>\n",
       "      <td>16.111</td>\n",
       "      <td>NaN</td>\n",
       "      <td>15.935</td>\n",
       "      <td>16.416</td>\n",
       "      <td>18.175</td>\n",
       "      <td>19.251</td>\n",
       "      <td>16.832</td>\n",
       "      <td>15.671</td>\n",
       "      <td>17.012</td>\n",
       "      <td>18.569</td>\n",
       "      <td>...</td>\n",
       "      <td>15.229</td>\n",
       "      <td>14.728</td>\n",
       "      <td>13.757</td>\n",
       "      <td>15.118</td>\n",
       "      <td>17.440</td>\n",
       "      <td>19.598</td>\n",
       "      <td>15.735</td>\n",
       "      <td>20.447</td>\n",
       "      <td>12.636</td>\n",
       "      <td>12.505</td>\n",
       "    </tr>\n",
       "    <tr>\n",
       "      <th>Sample_003</th>\n",
       "      <td>16.107</td>\n",
       "      <td>17.032</td>\n",
       "      <td>15.802</td>\n",
       "      <td>16.979</td>\n",
       "      <td>15.963</td>\n",
       "      <td>19.628</td>\n",
       "      <td>17.852</td>\n",
       "      <td>18.877</td>\n",
       "      <td>14.182</td>\n",
       "      <td>18.985</td>\n",
       "      <td>...</td>\n",
       "      <td>15.495</td>\n",
       "      <td>14.590</td>\n",
       "      <td>14.682</td>\n",
       "      <td>15.140</td>\n",
       "      <td>17.356</td>\n",
       "      <td>19.429</td>\n",
       "      <td>NaN</td>\n",
       "      <td>20.216</td>\n",
       "      <td>NaN</td>\n",
       "      <td>12.445</td>\n",
       "    </tr>\n",
       "    <tr>\n",
       "      <th>Sample_004</th>\n",
       "      <td>15.603</td>\n",
       "      <td>15.331</td>\n",
       "      <td>15.375</td>\n",
       "      <td>16.679</td>\n",
       "      <td>NaN</td>\n",
       "      <td>20.450</td>\n",
       "      <td>18.682</td>\n",
       "      <td>17.081</td>\n",
       "      <td>14.140</td>\n",
       "      <td>19.686</td>\n",
       "      <td>...</td>\n",
       "      <td>14.757</td>\n",
       "      <td>NaN</td>\n",
       "      <td>NaN</td>\n",
       "      <td>15.256</td>\n",
       "      <td>17.075</td>\n",
       "      <td>19.582</td>\n",
       "      <td>15.328</td>\n",
       "      <td>NaN</td>\n",
       "      <td>13.145</td>\n",
       "      <td>NaN</td>\n",
       "    </tr>\n",
       "  </tbody>\n",
       "</table>\n",
       "<p>5 rows × 1421 columns</p>\n",
       "</div>"
      ],
      "text/plain": [
       "protein groups  A0A024QZX5;A0A087X1N8;P35237  A0A024R0T9;K7ER74;P02655  \\\n",
       "Sample ID                                                                \n",
       "Sample_000                            15.912                    16.852   \n",
       "Sample_001                               NaN                    16.874   \n",
       "Sample_002                            16.111                       NaN   \n",
       "Sample_003                            16.107                    17.032   \n",
       "Sample_004                            15.603                    15.331   \n",
       "\n",
       "protein groups  A0A024R3W6;A0A024R412;O60462;O60462-2;O60462-3;O60462-4;O60462-5;Q7LBX6;X5D2Q8  \\\n",
       "Sample ID                                                                                        \n",
       "Sample_000                                                                              15.570   \n",
       "Sample_001                                                                              15.519   \n",
       "Sample_002                                                                              15.935   \n",
       "Sample_003                                                                              15.802   \n",
       "Sample_004                                                                              15.375   \n",
       "\n",
       "protein groups  A0A024R644;A0A0A0MRU5;A0A1B0GWI2;O75503  A0A075B6H7  \\\n",
       "Sample ID                                                             \n",
       "Sample_000                                       16.481      17.301   \n",
       "Sample_001                                       16.387         NaN   \n",
       "Sample_002                                       16.416      18.175   \n",
       "Sample_003                                       16.979      15.963   \n",
       "Sample_004                                       16.679         NaN   \n",
       "\n",
       "protein groups  A0A075B6H9  A0A075B6I0  A0A075B6I1  A0A075B6I6  A0A075B6I9  \\\n",
       "Sample ID                                                                    \n",
       "Sample_000          20.246      16.764      17.584      16.988      20.054   \n",
       "Sample_001          19.941      18.786      17.144         NaN      19.067   \n",
       "Sample_002          19.251      16.832      15.671      17.012      18.569   \n",
       "Sample_003          19.628      17.852      18.877      14.182      18.985   \n",
       "Sample_004          20.450      18.682      17.081      14.140      19.686   \n",
       "\n",
       "protein groups  ...  Q9Y653;Q9Y653-2;Q9Y653-3  Q9Y696  Q9Y6C2  Q9Y6N6  \\\n",
       "Sample ID       ...                                                     \n",
       "Sample_000      ...                    16.012  15.178     NaN  15.050   \n",
       "Sample_001      ...                    15.528  15.576     NaN  14.833   \n",
       "Sample_002      ...                    15.229  14.728  13.757  15.118   \n",
       "Sample_003      ...                    15.495  14.590  14.682  15.140   \n",
       "Sample_004      ...                    14.757     NaN     NaN  15.256   \n",
       "\n",
       "protein groups  Q9Y6N7;Q9Y6N7-2;Q9Y6N7-4  Q9Y6R7  Q9Y6X5  Q9Y6Y8;Q9Y6Y8-2  \\\n",
       "Sample ID                                                                   \n",
       "Sample_000                        16.842     NaN     NaN           19.563   \n",
       "Sample_001                        16.597  20.299  15.556           19.386   \n",
       "Sample_002                        17.440  19.598  15.735           20.447   \n",
       "Sample_003                        17.356  19.429     NaN           20.216   \n",
       "Sample_004                        17.075  19.582  15.328              NaN   \n",
       "\n",
       "protein groups  Q9Y6Y9  S4R3U6  \n",
       "Sample ID                       \n",
       "Sample_000         NaN  12.805  \n",
       "Sample_001      13.970  12.442  \n",
       "Sample_002      12.636  12.505  \n",
       "Sample_003         NaN  12.445  \n",
       "Sample_004      13.145     NaN  \n",
       "\n",
       "[5 rows x 1421 columns]"
      ]
     },
     "execution_count": 15,
     "metadata": {},
     "output_type": "execute_result"
    }
   ],
   "source": [
    "data.to_wide_format()\n",
    "args.M = data.train_X.shape[-1]\n",
    "data.train_X.head()"
   ]
  },
  {
   "cell_type": "markdown",
   "id": "5cc46767-49c9-487e-bf2d-19aacc9114c3",
   "metadata": {
    "papermill": {
     "duration": 0.013984,
     "end_time": "2024-06-13T09:31:20.804502",
     "exception": false,
     "start_time": "2024-06-13T09:31:20.790518",
     "status": "completed"
    },
    "tags": []
   },
   "source": [
    "### Add interpolation performance"
   ]
  },
  {
   "cell_type": "markdown",
   "id": "21681578-dfc5-4f3c-ac7d-a0758ed5417b",
   "metadata": {
    "papermill": {
     "duration": 0.013598,
     "end_time": "2024-06-13T09:31:20.831649",
     "exception": false,
     "start_time": "2024-06-13T09:31:20.818051",
     "status": "completed"
    },
    "tags": []
   },
   "source": [
    "### Fill Validation data with potentially missing features"
   ]
  },
  {
   "cell_type": "code",
   "execution_count": 16,
   "id": "7952fe13",
   "metadata": {
    "execution": {
     "iopub.execute_input": "2024-06-13T09:31:20.861314Z",
     "iopub.status.busy": "2024-06-13T09:31:20.860981Z",
     "iopub.status.idle": "2024-06-13T09:31:20.881036Z",
     "shell.execute_reply": "2024-06-13T09:31:20.880425Z"
    },
    "papermill": {
     "duration": 0.037031,
     "end_time": "2024-06-13T09:31:20.882476",
     "exception": false,
     "start_time": "2024-06-13T09:31:20.845445",
     "status": "completed"
    },
    "tags": [
     "hide-input"
    ]
   },
   "outputs": [
    {
     "data": {
      "text/html": [
       "<div>\n",
       "<style scoped>\n",
       "    .dataframe tbody tr th:only-of-type {\n",
       "        vertical-align: middle;\n",
       "    }\n",
       "\n",
       "    .dataframe tbody tr th {\n",
       "        vertical-align: top;\n",
       "    }\n",
       "\n",
       "    .dataframe thead th {\n",
       "        text-align: right;\n",
       "    }\n",
       "</style>\n",
       "<table border=\"1\" class=\"dataframe\">\n",
       "  <thead>\n",
       "    <tr style=\"text-align: right;\">\n",
       "      <th>protein groups</th>\n",
       "      <th>A0A024QZX5;A0A087X1N8;P35237</th>\n",
       "      <th>A0A024R0T9;K7ER74;P02655</th>\n",
       "      <th>A0A024R3W6;A0A024R412;O60462;O60462-2;O60462-3;O60462-4;O60462-5;Q7LBX6;X5D2Q8</th>\n",
       "      <th>A0A024R644;A0A0A0MRU5;A0A1B0GWI2;O75503</th>\n",
       "      <th>A0A075B6H7</th>\n",
       "      <th>A0A075B6H9</th>\n",
       "      <th>A0A075B6I0</th>\n",
       "      <th>A0A075B6I1</th>\n",
       "      <th>A0A075B6I6</th>\n",
       "      <th>A0A075B6I9</th>\n",
       "      <th>...</th>\n",
       "      <th>Q9Y653;Q9Y653-2;Q9Y653-3</th>\n",
       "      <th>Q9Y696</th>\n",
       "      <th>Q9Y6C2</th>\n",
       "      <th>Q9Y6N6</th>\n",
       "      <th>Q9Y6N7;Q9Y6N7-2;Q9Y6N7-4</th>\n",
       "      <th>Q9Y6R7</th>\n",
       "      <th>Q9Y6X5</th>\n",
       "      <th>Q9Y6Y8;Q9Y6Y8-2</th>\n",
       "      <th>Q9Y6Y9</th>\n",
       "      <th>S4R3U6</th>\n",
       "    </tr>\n",
       "    <tr>\n",
       "      <th>Sample ID</th>\n",
       "      <th></th>\n",
       "      <th></th>\n",
       "      <th></th>\n",
       "      <th></th>\n",
       "      <th></th>\n",
       "      <th></th>\n",
       "      <th></th>\n",
       "      <th></th>\n",
       "      <th></th>\n",
       "      <th></th>\n",
       "      <th></th>\n",
       "      <th></th>\n",
       "      <th></th>\n",
       "      <th></th>\n",
       "      <th></th>\n",
       "      <th></th>\n",
       "      <th></th>\n",
       "      <th></th>\n",
       "      <th></th>\n",
       "      <th></th>\n",
       "      <th></th>\n",
       "    </tr>\n",
       "  </thead>\n",
       "  <tbody>\n",
       "    <tr>\n",
       "      <th>Sample_000</th>\n",
       "      <td>15.912</td>\n",
       "      <td>16.852</td>\n",
       "      <td>15.570</td>\n",
       "      <td>16.481</td>\n",
       "      <td>17.301</td>\n",
       "      <td>20.246</td>\n",
       "      <td>16.764</td>\n",
       "      <td>17.584</td>\n",
       "      <td>16.988</td>\n",
       "      <td>20.054</td>\n",
       "      <td>...</td>\n",
       "      <td>16.012</td>\n",
       "      <td>15.178</td>\n",
       "      <td>NaN</td>\n",
       "      <td>15.050</td>\n",
       "      <td>16.842</td>\n",
       "      <td>NaN</td>\n",
       "      <td>NaN</td>\n",
       "      <td>19.563</td>\n",
       "      <td>NaN</td>\n",
       "      <td>12.805</td>\n",
       "    </tr>\n",
       "    <tr>\n",
       "      <th>Sample_001</th>\n",
       "      <td>NaN</td>\n",
       "      <td>16.874</td>\n",
       "      <td>15.519</td>\n",
       "      <td>16.387</td>\n",
       "      <td>NaN</td>\n",
       "      <td>19.941</td>\n",
       "      <td>18.786</td>\n",
       "      <td>17.144</td>\n",
       "      <td>NaN</td>\n",
       "      <td>19.067</td>\n",
       "      <td>...</td>\n",
       "      <td>15.528</td>\n",
       "      <td>15.576</td>\n",
       "      <td>NaN</td>\n",
       "      <td>14.833</td>\n",
       "      <td>16.597</td>\n",
       "      <td>20.299</td>\n",
       "      <td>15.556</td>\n",
       "      <td>19.386</td>\n",
       "      <td>13.970</td>\n",
       "      <td>12.442</td>\n",
       "    </tr>\n",
       "    <tr>\n",
       "      <th>Sample_002</th>\n",
       "      <td>16.111</td>\n",
       "      <td>NaN</td>\n",
       "      <td>15.935</td>\n",
       "      <td>16.416</td>\n",
       "      <td>18.175</td>\n",
       "      <td>19.251</td>\n",
       "      <td>16.832</td>\n",
       "      <td>15.671</td>\n",
       "      <td>17.012</td>\n",
       "      <td>18.569</td>\n",
       "      <td>...</td>\n",
       "      <td>15.229</td>\n",
       "      <td>14.728</td>\n",
       "      <td>13.757</td>\n",
       "      <td>15.118</td>\n",
       "      <td>17.440</td>\n",
       "      <td>19.598</td>\n",
       "      <td>15.735</td>\n",
       "      <td>20.447</td>\n",
       "      <td>12.636</td>\n",
       "      <td>12.505</td>\n",
       "    </tr>\n",
       "    <tr>\n",
       "      <th>Sample_003</th>\n",
       "      <td>16.107</td>\n",
       "      <td>17.032</td>\n",
       "      <td>15.802</td>\n",
       "      <td>16.979</td>\n",
       "      <td>15.963</td>\n",
       "      <td>19.628</td>\n",
       "      <td>17.852</td>\n",
       "      <td>18.877</td>\n",
       "      <td>14.182</td>\n",
       "      <td>18.985</td>\n",
       "      <td>...</td>\n",
       "      <td>15.495</td>\n",
       "      <td>14.590</td>\n",
       "      <td>14.682</td>\n",
       "      <td>15.140</td>\n",
       "      <td>17.356</td>\n",
       "      <td>19.429</td>\n",
       "      <td>NaN</td>\n",
       "      <td>20.216</td>\n",
       "      <td>NaN</td>\n",
       "      <td>12.445</td>\n",
       "    </tr>\n",
       "    <tr>\n",
       "      <th>Sample_004</th>\n",
       "      <td>15.603</td>\n",
       "      <td>15.331</td>\n",
       "      <td>15.375</td>\n",
       "      <td>16.679</td>\n",
       "      <td>NaN</td>\n",
       "      <td>20.450</td>\n",
       "      <td>18.682</td>\n",
       "      <td>17.081</td>\n",
       "      <td>14.140</td>\n",
       "      <td>19.686</td>\n",
       "      <td>...</td>\n",
       "      <td>14.757</td>\n",
       "      <td>NaN</td>\n",
       "      <td>NaN</td>\n",
       "      <td>15.256</td>\n",
       "      <td>17.075</td>\n",
       "      <td>19.582</td>\n",
       "      <td>15.328</td>\n",
       "      <td>NaN</td>\n",
       "      <td>13.145</td>\n",
       "      <td>NaN</td>\n",
       "    </tr>\n",
       "    <tr>\n",
       "      <th>...</th>\n",
       "      <td>...</td>\n",
       "      <td>...</td>\n",
       "      <td>...</td>\n",
       "      <td>...</td>\n",
       "      <td>...</td>\n",
       "      <td>...</td>\n",
       "      <td>...</td>\n",
       "      <td>...</td>\n",
       "      <td>...</td>\n",
       "      <td>...</td>\n",
       "      <td>...</td>\n",
       "      <td>...</td>\n",
       "      <td>...</td>\n",
       "      <td>...</td>\n",
       "      <td>...</td>\n",
       "      <td>...</td>\n",
       "      <td>...</td>\n",
       "      <td>...</td>\n",
       "      <td>...</td>\n",
       "      <td>...</td>\n",
       "      <td>...</td>\n",
       "    </tr>\n",
       "    <tr>\n",
       "      <th>Sample_205</th>\n",
       "      <td>15.682</td>\n",
       "      <td>16.886</td>\n",
       "      <td>14.910</td>\n",
       "      <td>16.482</td>\n",
       "      <td>NaN</td>\n",
       "      <td>17.705</td>\n",
       "      <td>17.039</td>\n",
       "      <td>NaN</td>\n",
       "      <td>16.413</td>\n",
       "      <td>19.102</td>\n",
       "      <td>...</td>\n",
       "      <td>NaN</td>\n",
       "      <td>15.684</td>\n",
       "      <td>14.236</td>\n",
       "      <td>15.415</td>\n",
       "      <td>17.551</td>\n",
       "      <td>17.922</td>\n",
       "      <td>16.340</td>\n",
       "      <td>19.928</td>\n",
       "      <td>12.929</td>\n",
       "      <td>NaN</td>\n",
       "    </tr>\n",
       "    <tr>\n",
       "      <th>Sample_206</th>\n",
       "      <td>15.798</td>\n",
       "      <td>17.554</td>\n",
       "      <td>15.600</td>\n",
       "      <td>15.938</td>\n",
       "      <td>NaN</td>\n",
       "      <td>18.154</td>\n",
       "      <td>18.152</td>\n",
       "      <td>16.503</td>\n",
       "      <td>16.860</td>\n",
       "      <td>18.538</td>\n",
       "      <td>...</td>\n",
       "      <td>15.422</td>\n",
       "      <td>16.106</td>\n",
       "      <td>NaN</td>\n",
       "      <td>15.345</td>\n",
       "      <td>17.084</td>\n",
       "      <td>18.708</td>\n",
       "      <td>NaN</td>\n",
       "      <td>19.433</td>\n",
       "      <td>NaN</td>\n",
       "      <td>NaN</td>\n",
       "    </tr>\n",
       "    <tr>\n",
       "      <th>Sample_207</th>\n",
       "      <td>15.739</td>\n",
       "      <td>NaN</td>\n",
       "      <td>15.469</td>\n",
       "      <td>16.898</td>\n",
       "      <td>NaN</td>\n",
       "      <td>18.636</td>\n",
       "      <td>17.950</td>\n",
       "      <td>16.321</td>\n",
       "      <td>16.401</td>\n",
       "      <td>18.849</td>\n",
       "      <td>...</td>\n",
       "      <td>15.808</td>\n",
       "      <td>16.098</td>\n",
       "      <td>14.403</td>\n",
       "      <td>15.715</td>\n",
       "      <td>NaN</td>\n",
       "      <td>18.725</td>\n",
       "      <td>16.138</td>\n",
       "      <td>19.599</td>\n",
       "      <td>13.637</td>\n",
       "      <td>11.174</td>\n",
       "    </tr>\n",
       "    <tr>\n",
       "      <th>Sample_208</th>\n",
       "      <td>15.477</td>\n",
       "      <td>16.779</td>\n",
       "      <td>14.995</td>\n",
       "      <td>16.132</td>\n",
       "      <td>NaN</td>\n",
       "      <td>14.908</td>\n",
       "      <td>NaN</td>\n",
       "      <td>NaN</td>\n",
       "      <td>16.119</td>\n",
       "      <td>18.368</td>\n",
       "      <td>...</td>\n",
       "      <td>15.157</td>\n",
       "      <td>16.712</td>\n",
       "      <td>NaN</td>\n",
       "      <td>14.640</td>\n",
       "      <td>16.533</td>\n",
       "      <td>19.411</td>\n",
       "      <td>15.807</td>\n",
       "      <td>19.545</td>\n",
       "      <td>NaN</td>\n",
       "      <td>NaN</td>\n",
       "    </tr>\n",
       "    <tr>\n",
       "      <th>Sample_209</th>\n",
       "      <td>NaN</td>\n",
       "      <td>17.261</td>\n",
       "      <td>15.175</td>\n",
       "      <td>16.235</td>\n",
       "      <td>NaN</td>\n",
       "      <td>17.893</td>\n",
       "      <td>17.744</td>\n",
       "      <td>16.371</td>\n",
       "      <td>15.780</td>\n",
       "      <td>18.806</td>\n",
       "      <td>...</td>\n",
       "      <td>15.237</td>\n",
       "      <td>15.652</td>\n",
       "      <td>15.211</td>\n",
       "      <td>14.205</td>\n",
       "      <td>16.749</td>\n",
       "      <td>19.275</td>\n",
       "      <td>15.732</td>\n",
       "      <td>19.577</td>\n",
       "      <td>11.042</td>\n",
       "      <td>11.791</td>\n",
       "    </tr>\n",
       "  </tbody>\n",
       "</table>\n",
       "<p>210 rows × 1421 columns</p>\n",
       "</div>"
      ],
      "text/plain": [
       "protein groups  A0A024QZX5;A0A087X1N8;P35237  A0A024R0T9;K7ER74;P02655  \\\n",
       "Sample ID                                                                \n",
       "Sample_000                            15.912                    16.852   \n",
       "Sample_001                               NaN                    16.874   \n",
       "Sample_002                            16.111                       NaN   \n",
       "Sample_003                            16.107                    17.032   \n",
       "Sample_004                            15.603                    15.331   \n",
       "...                                      ...                       ...   \n",
       "Sample_205                            15.682                    16.886   \n",
       "Sample_206                            15.798                    17.554   \n",
       "Sample_207                            15.739                       NaN   \n",
       "Sample_208                            15.477                    16.779   \n",
       "Sample_209                               NaN                    17.261   \n",
       "\n",
       "protein groups  A0A024R3W6;A0A024R412;O60462;O60462-2;O60462-3;O60462-4;O60462-5;Q7LBX6;X5D2Q8  \\\n",
       "Sample ID                                                                                        \n",
       "Sample_000                                                                              15.570   \n",
       "Sample_001                                                                              15.519   \n",
       "Sample_002                                                                              15.935   \n",
       "Sample_003                                                                              15.802   \n",
       "Sample_004                                                                              15.375   \n",
       "...                                                                                        ...   \n",
       "Sample_205                                                                              14.910   \n",
       "Sample_206                                                                              15.600   \n",
       "Sample_207                                                                              15.469   \n",
       "Sample_208                                                                              14.995   \n",
       "Sample_209                                                                              15.175   \n",
       "\n",
       "protein groups  A0A024R644;A0A0A0MRU5;A0A1B0GWI2;O75503  A0A075B6H7  \\\n",
       "Sample ID                                                             \n",
       "Sample_000                                       16.481      17.301   \n",
       "Sample_001                                       16.387         NaN   \n",
       "Sample_002                                       16.416      18.175   \n",
       "Sample_003                                       16.979      15.963   \n",
       "Sample_004                                       16.679         NaN   \n",
       "...                                                 ...         ...   \n",
       "Sample_205                                       16.482         NaN   \n",
       "Sample_206                                       15.938         NaN   \n",
       "Sample_207                                       16.898         NaN   \n",
       "Sample_208                                       16.132         NaN   \n",
       "Sample_209                                       16.235         NaN   \n",
       "\n",
       "protein groups  A0A075B6H9  A0A075B6I0  A0A075B6I1  A0A075B6I6  A0A075B6I9  \\\n",
       "Sample ID                                                                    \n",
       "Sample_000          20.246      16.764      17.584      16.988      20.054   \n",
       "Sample_001          19.941      18.786      17.144         NaN      19.067   \n",
       "Sample_002          19.251      16.832      15.671      17.012      18.569   \n",
       "Sample_003          19.628      17.852      18.877      14.182      18.985   \n",
       "Sample_004          20.450      18.682      17.081      14.140      19.686   \n",
       "...                    ...         ...         ...         ...         ...   \n",
       "Sample_205          17.705      17.039         NaN      16.413      19.102   \n",
       "Sample_206          18.154      18.152      16.503      16.860      18.538   \n",
       "Sample_207          18.636      17.950      16.321      16.401      18.849   \n",
       "Sample_208          14.908         NaN         NaN      16.119      18.368   \n",
       "Sample_209          17.893      17.744      16.371      15.780      18.806   \n",
       "\n",
       "protein groups  ...  Q9Y653;Q9Y653-2;Q9Y653-3  Q9Y696  Q9Y6C2  Q9Y6N6  \\\n",
       "Sample ID       ...                                                     \n",
       "Sample_000      ...                    16.012  15.178     NaN  15.050   \n",
       "Sample_001      ...                    15.528  15.576     NaN  14.833   \n",
       "Sample_002      ...                    15.229  14.728  13.757  15.118   \n",
       "Sample_003      ...                    15.495  14.590  14.682  15.140   \n",
       "Sample_004      ...                    14.757     NaN     NaN  15.256   \n",
       "...             ...                       ...     ...     ...     ...   \n",
       "Sample_205      ...                       NaN  15.684  14.236  15.415   \n",
       "Sample_206      ...                    15.422  16.106     NaN  15.345   \n",
       "Sample_207      ...                    15.808  16.098  14.403  15.715   \n",
       "Sample_208      ...                    15.157  16.712     NaN  14.640   \n",
       "Sample_209      ...                    15.237  15.652  15.211  14.205   \n",
       "\n",
       "protein groups  Q9Y6N7;Q9Y6N7-2;Q9Y6N7-4  Q9Y6R7  Q9Y6X5  Q9Y6Y8;Q9Y6Y8-2  \\\n",
       "Sample ID                                                                   \n",
       "Sample_000                        16.842     NaN     NaN           19.563   \n",
       "Sample_001                        16.597  20.299  15.556           19.386   \n",
       "Sample_002                        17.440  19.598  15.735           20.447   \n",
       "Sample_003                        17.356  19.429     NaN           20.216   \n",
       "Sample_004                        17.075  19.582  15.328              NaN   \n",
       "...                                  ...     ...     ...              ...   \n",
       "Sample_205                        17.551  17.922  16.340           19.928   \n",
       "Sample_206                        17.084  18.708     NaN           19.433   \n",
       "Sample_207                           NaN  18.725  16.138           19.599   \n",
       "Sample_208                        16.533  19.411  15.807           19.545   \n",
       "Sample_209                        16.749  19.275  15.732           19.577   \n",
       "\n",
       "protein groups  Q9Y6Y9  S4R3U6  \n",
       "Sample ID                       \n",
       "Sample_000         NaN  12.805  \n",
       "Sample_001      13.970  12.442  \n",
       "Sample_002      12.636  12.505  \n",
       "Sample_003         NaN  12.445  \n",
       "Sample_004      13.145     NaN  \n",
       "...                ...     ...  \n",
       "Sample_205      12.929     NaN  \n",
       "Sample_206         NaN     NaN  \n",
       "Sample_207      13.637  11.174  \n",
       "Sample_208         NaN     NaN  \n",
       "Sample_209      11.042  11.791  \n",
       "\n",
       "[210 rows x 1421 columns]"
      ]
     },
     "execution_count": 16,
     "metadata": {},
     "output_type": "execute_result"
    }
   ],
   "source": [
    "data.train_X"
   ]
  },
  {
   "cell_type": "code",
   "execution_count": 17,
   "id": "a0a0bcd9-22af-4dd9-af56-b041931ee918",
   "metadata": {
    "execution": {
     "iopub.execute_input": "2024-06-13T09:31:20.916085Z",
     "iopub.status.busy": "2024-06-13T09:31:20.915500Z",
     "iopub.status.idle": "2024-06-13T09:31:20.936577Z",
     "shell.execute_reply": "2024-06-13T09:31:20.935855Z"
    },
    "papermill": {
     "duration": 0.039283,
     "end_time": "2024-06-13T09:31:20.938059",
     "exception": false,
     "start_time": "2024-06-13T09:31:20.898776",
     "status": "completed"
    },
    "tags": [
     "hide-input"
    ]
   },
   "outputs": [
    {
     "data": {
      "text/html": [
       "<div>\n",
       "<style scoped>\n",
       "    .dataframe tbody tr th:only-of-type {\n",
       "        vertical-align: middle;\n",
       "    }\n",
       "\n",
       "    .dataframe tbody tr th {\n",
       "        vertical-align: top;\n",
       "    }\n",
       "\n",
       "    .dataframe thead th {\n",
       "        text-align: right;\n",
       "    }\n",
       "</style>\n",
       "<table border=\"1\" class=\"dataframe\">\n",
       "  <thead>\n",
       "    <tr style=\"text-align: right;\">\n",
       "      <th>protein groups</th>\n",
       "      <th>A0A024QZX5;A0A087X1N8;P35237</th>\n",
       "      <th>A0A024R0T9;K7ER74;P02655</th>\n",
       "      <th>A0A024R3W6;A0A024R412;O60462;O60462-2;O60462-3;O60462-4;O60462-5;Q7LBX6;X5D2Q8</th>\n",
       "      <th>A0A024R644;A0A0A0MRU5;A0A1B0GWI2;O75503</th>\n",
       "      <th>A0A075B6H7</th>\n",
       "      <th>A0A075B6H9</th>\n",
       "      <th>A0A075B6I0</th>\n",
       "      <th>A0A075B6I1</th>\n",
       "      <th>A0A075B6I6</th>\n",
       "      <th>A0A075B6I9</th>\n",
       "      <th>...</th>\n",
       "      <th>Q9Y653;Q9Y653-2;Q9Y653-3</th>\n",
       "      <th>Q9Y696</th>\n",
       "      <th>Q9Y6C2</th>\n",
       "      <th>Q9Y6N6</th>\n",
       "      <th>Q9Y6N7;Q9Y6N7-2;Q9Y6N7-4</th>\n",
       "      <th>Q9Y6R7</th>\n",
       "      <th>Q9Y6X5</th>\n",
       "      <th>Q9Y6Y8;Q9Y6Y8-2</th>\n",
       "      <th>Q9Y6Y9</th>\n",
       "      <th>S4R3U6</th>\n",
       "    </tr>\n",
       "    <tr>\n",
       "      <th>Sample ID</th>\n",
       "      <th></th>\n",
       "      <th></th>\n",
       "      <th></th>\n",
       "      <th></th>\n",
       "      <th></th>\n",
       "      <th></th>\n",
       "      <th></th>\n",
       "      <th></th>\n",
       "      <th></th>\n",
       "      <th></th>\n",
       "      <th></th>\n",
       "      <th></th>\n",
       "      <th></th>\n",
       "      <th></th>\n",
       "      <th></th>\n",
       "      <th></th>\n",
       "      <th></th>\n",
       "      <th></th>\n",
       "      <th></th>\n",
       "      <th></th>\n",
       "      <th></th>\n",
       "    </tr>\n",
       "  </thead>\n",
       "  <tbody>\n",
       "    <tr>\n",
       "      <th>Sample_000</th>\n",
       "      <td>NaN</td>\n",
       "      <td>NaN</td>\n",
       "      <td>NaN</td>\n",
       "      <td>NaN</td>\n",
       "      <td>NaN</td>\n",
       "      <td>NaN</td>\n",
       "      <td>NaN</td>\n",
       "      <td>NaN</td>\n",
       "      <td>NaN</td>\n",
       "      <td>NaN</td>\n",
       "      <td>...</td>\n",
       "      <td>NaN</td>\n",
       "      <td>NaN</td>\n",
       "      <td>NaN</td>\n",
       "      <td>NaN</td>\n",
       "      <td>NaN</td>\n",
       "      <td>19.863</td>\n",
       "      <td>NaN</td>\n",
       "      <td>NaN</td>\n",
       "      <td>NaN</td>\n",
       "      <td>NaN</td>\n",
       "    </tr>\n",
       "    <tr>\n",
       "      <th>Sample_001</th>\n",
       "      <td>NaN</td>\n",
       "      <td>NaN</td>\n",
       "      <td>NaN</td>\n",
       "      <td>NaN</td>\n",
       "      <td>NaN</td>\n",
       "      <td>NaN</td>\n",
       "      <td>NaN</td>\n",
       "      <td>NaN</td>\n",
       "      <td>NaN</td>\n",
       "      <td>NaN</td>\n",
       "      <td>...</td>\n",
       "      <td>NaN</td>\n",
       "      <td>NaN</td>\n",
       "      <td>NaN</td>\n",
       "      <td>NaN</td>\n",
       "      <td>NaN</td>\n",
       "      <td>NaN</td>\n",
       "      <td>NaN</td>\n",
       "      <td>NaN</td>\n",
       "      <td>NaN</td>\n",
       "      <td>NaN</td>\n",
       "    </tr>\n",
       "    <tr>\n",
       "      <th>Sample_002</th>\n",
       "      <td>NaN</td>\n",
       "      <td>14.523</td>\n",
       "      <td>NaN</td>\n",
       "      <td>NaN</td>\n",
       "      <td>NaN</td>\n",
       "      <td>NaN</td>\n",
       "      <td>NaN</td>\n",
       "      <td>NaN</td>\n",
       "      <td>NaN</td>\n",
       "      <td>NaN</td>\n",
       "      <td>...</td>\n",
       "      <td>NaN</td>\n",
       "      <td>NaN</td>\n",
       "      <td>NaN</td>\n",
       "      <td>NaN</td>\n",
       "      <td>NaN</td>\n",
       "      <td>NaN</td>\n",
       "      <td>NaN</td>\n",
       "      <td>NaN</td>\n",
       "      <td>NaN</td>\n",
       "      <td>NaN</td>\n",
       "    </tr>\n",
       "    <tr>\n",
       "      <th>Sample_003</th>\n",
       "      <td>NaN</td>\n",
       "      <td>NaN</td>\n",
       "      <td>NaN</td>\n",
       "      <td>NaN</td>\n",
       "      <td>NaN</td>\n",
       "      <td>NaN</td>\n",
       "      <td>NaN</td>\n",
       "      <td>NaN</td>\n",
       "      <td>NaN</td>\n",
       "      <td>NaN</td>\n",
       "      <td>...</td>\n",
       "      <td>NaN</td>\n",
       "      <td>NaN</td>\n",
       "      <td>NaN</td>\n",
       "      <td>NaN</td>\n",
       "      <td>NaN</td>\n",
       "      <td>NaN</td>\n",
       "      <td>NaN</td>\n",
       "      <td>NaN</td>\n",
       "      <td>NaN</td>\n",
       "      <td>NaN</td>\n",
       "    </tr>\n",
       "    <tr>\n",
       "      <th>Sample_004</th>\n",
       "      <td>NaN</td>\n",
       "      <td>NaN</td>\n",
       "      <td>NaN</td>\n",
       "      <td>NaN</td>\n",
       "      <td>15.473</td>\n",
       "      <td>NaN</td>\n",
       "      <td>NaN</td>\n",
       "      <td>NaN</td>\n",
       "      <td>NaN</td>\n",
       "      <td>NaN</td>\n",
       "      <td>...</td>\n",
       "      <td>NaN</td>\n",
       "      <td>NaN</td>\n",
       "      <td>14.048</td>\n",
       "      <td>NaN</td>\n",
       "      <td>NaN</td>\n",
       "      <td>NaN</td>\n",
       "      <td>NaN</td>\n",
       "      <td>19.867</td>\n",
       "      <td>NaN</td>\n",
       "      <td>12.235</td>\n",
       "    </tr>\n",
       "    <tr>\n",
       "      <th>...</th>\n",
       "      <td>...</td>\n",
       "      <td>...</td>\n",
       "      <td>...</td>\n",
       "      <td>...</td>\n",
       "      <td>...</td>\n",
       "      <td>...</td>\n",
       "      <td>...</td>\n",
       "      <td>...</td>\n",
       "      <td>...</td>\n",
       "      <td>...</td>\n",
       "      <td>...</td>\n",
       "      <td>...</td>\n",
       "      <td>...</td>\n",
       "      <td>...</td>\n",
       "      <td>...</td>\n",
       "      <td>...</td>\n",
       "      <td>...</td>\n",
       "      <td>...</td>\n",
       "      <td>...</td>\n",
       "      <td>...</td>\n",
       "      <td>...</td>\n",
       "    </tr>\n",
       "    <tr>\n",
       "      <th>Sample_205</th>\n",
       "      <td>NaN</td>\n",
       "      <td>NaN</td>\n",
       "      <td>NaN</td>\n",
       "      <td>NaN</td>\n",
       "      <td>NaN</td>\n",
       "      <td>NaN</td>\n",
       "      <td>NaN</td>\n",
       "      <td>NaN</td>\n",
       "      <td>NaN</td>\n",
       "      <td>NaN</td>\n",
       "      <td>...</td>\n",
       "      <td>NaN</td>\n",
       "      <td>NaN</td>\n",
       "      <td>NaN</td>\n",
       "      <td>NaN</td>\n",
       "      <td>NaN</td>\n",
       "      <td>NaN</td>\n",
       "      <td>NaN</td>\n",
       "      <td>NaN</td>\n",
       "      <td>NaN</td>\n",
       "      <td>11.802</td>\n",
       "    </tr>\n",
       "    <tr>\n",
       "      <th>Sample_206</th>\n",
       "      <td>NaN</td>\n",
       "      <td>NaN</td>\n",
       "      <td>NaN</td>\n",
       "      <td>NaN</td>\n",
       "      <td>NaN</td>\n",
       "      <td>NaN</td>\n",
       "      <td>NaN</td>\n",
       "      <td>NaN</td>\n",
       "      <td>NaN</td>\n",
       "      <td>NaN</td>\n",
       "      <td>...</td>\n",
       "      <td>NaN</td>\n",
       "      <td>NaN</td>\n",
       "      <td>NaN</td>\n",
       "      <td>NaN</td>\n",
       "      <td>NaN</td>\n",
       "      <td>NaN</td>\n",
       "      <td>NaN</td>\n",
       "      <td>NaN</td>\n",
       "      <td>NaN</td>\n",
       "      <td>NaN</td>\n",
       "    </tr>\n",
       "    <tr>\n",
       "      <th>Sample_207</th>\n",
       "      <td>NaN</td>\n",
       "      <td>NaN</td>\n",
       "      <td>NaN</td>\n",
       "      <td>NaN</td>\n",
       "      <td>NaN</td>\n",
       "      <td>NaN</td>\n",
       "      <td>NaN</td>\n",
       "      <td>NaN</td>\n",
       "      <td>NaN</td>\n",
       "      <td>NaN</td>\n",
       "      <td>...</td>\n",
       "      <td>NaN</td>\n",
       "      <td>NaN</td>\n",
       "      <td>NaN</td>\n",
       "      <td>NaN</td>\n",
       "      <td>NaN</td>\n",
       "      <td>NaN</td>\n",
       "      <td>NaN</td>\n",
       "      <td>NaN</td>\n",
       "      <td>NaN</td>\n",
       "      <td>NaN</td>\n",
       "    </tr>\n",
       "    <tr>\n",
       "      <th>Sample_208</th>\n",
       "      <td>NaN</td>\n",
       "      <td>NaN</td>\n",
       "      <td>NaN</td>\n",
       "      <td>NaN</td>\n",
       "      <td>NaN</td>\n",
       "      <td>NaN</td>\n",
       "      <td>17.530</td>\n",
       "      <td>NaN</td>\n",
       "      <td>NaN</td>\n",
       "      <td>NaN</td>\n",
       "      <td>...</td>\n",
       "      <td>NaN</td>\n",
       "      <td>NaN</td>\n",
       "      <td>NaN</td>\n",
       "      <td>NaN</td>\n",
       "      <td>NaN</td>\n",
       "      <td>NaN</td>\n",
       "      <td>NaN</td>\n",
       "      <td>NaN</td>\n",
       "      <td>NaN</td>\n",
       "      <td>NaN</td>\n",
       "    </tr>\n",
       "    <tr>\n",
       "      <th>Sample_209</th>\n",
       "      <td>15.727</td>\n",
       "      <td>NaN</td>\n",
       "      <td>NaN</td>\n",
       "      <td>NaN</td>\n",
       "      <td>NaN</td>\n",
       "      <td>NaN</td>\n",
       "      <td>NaN</td>\n",
       "      <td>NaN</td>\n",
       "      <td>NaN</td>\n",
       "      <td>NaN</td>\n",
       "      <td>...</td>\n",
       "      <td>NaN</td>\n",
       "      <td>NaN</td>\n",
       "      <td>NaN</td>\n",
       "      <td>NaN</td>\n",
       "      <td>NaN</td>\n",
       "      <td>NaN</td>\n",
       "      <td>NaN</td>\n",
       "      <td>NaN</td>\n",
       "      <td>NaN</td>\n",
       "      <td>NaN</td>\n",
       "    </tr>\n",
       "  </tbody>\n",
       "</table>\n",
       "<p>210 rows × 1419 columns</p>\n",
       "</div>"
      ],
      "text/plain": [
       "protein groups  A0A024QZX5;A0A087X1N8;P35237  A0A024R0T9;K7ER74;P02655  \\\n",
       "Sample ID                                                                \n",
       "Sample_000                               NaN                       NaN   \n",
       "Sample_001                               NaN                       NaN   \n",
       "Sample_002                               NaN                    14.523   \n",
       "Sample_003                               NaN                       NaN   \n",
       "Sample_004                               NaN                       NaN   \n",
       "...                                      ...                       ...   \n",
       "Sample_205                               NaN                       NaN   \n",
       "Sample_206                               NaN                       NaN   \n",
       "Sample_207                               NaN                       NaN   \n",
       "Sample_208                               NaN                       NaN   \n",
       "Sample_209                            15.727                       NaN   \n",
       "\n",
       "protein groups  A0A024R3W6;A0A024R412;O60462;O60462-2;O60462-3;O60462-4;O60462-5;Q7LBX6;X5D2Q8  \\\n",
       "Sample ID                                                                                        \n",
       "Sample_000                                                                                 NaN   \n",
       "Sample_001                                                                                 NaN   \n",
       "Sample_002                                                                                 NaN   \n",
       "Sample_003                                                                                 NaN   \n",
       "Sample_004                                                                                 NaN   \n",
       "...                                                                                        ...   \n",
       "Sample_205                                                                                 NaN   \n",
       "Sample_206                                                                                 NaN   \n",
       "Sample_207                                                                                 NaN   \n",
       "Sample_208                                                                                 NaN   \n",
       "Sample_209                                                                                 NaN   \n",
       "\n",
       "protein groups  A0A024R644;A0A0A0MRU5;A0A1B0GWI2;O75503  A0A075B6H7  \\\n",
       "Sample ID                                                             \n",
       "Sample_000                                          NaN         NaN   \n",
       "Sample_001                                          NaN         NaN   \n",
       "Sample_002                                          NaN         NaN   \n",
       "Sample_003                                          NaN         NaN   \n",
       "Sample_004                                          NaN      15.473   \n",
       "...                                                 ...         ...   \n",
       "Sample_205                                          NaN         NaN   \n",
       "Sample_206                                          NaN         NaN   \n",
       "Sample_207                                          NaN         NaN   \n",
       "Sample_208                                          NaN         NaN   \n",
       "Sample_209                                          NaN         NaN   \n",
       "\n",
       "protein groups  A0A075B6H9  A0A075B6I0  A0A075B6I1  A0A075B6I6  A0A075B6I9  \\\n",
       "Sample ID                                                                    \n",
       "Sample_000             NaN         NaN         NaN         NaN         NaN   \n",
       "Sample_001             NaN         NaN         NaN         NaN         NaN   \n",
       "Sample_002             NaN         NaN         NaN         NaN         NaN   \n",
       "Sample_003             NaN         NaN         NaN         NaN         NaN   \n",
       "Sample_004             NaN         NaN         NaN         NaN         NaN   \n",
       "...                    ...         ...         ...         ...         ...   \n",
       "Sample_205             NaN         NaN         NaN         NaN         NaN   \n",
       "Sample_206             NaN         NaN         NaN         NaN         NaN   \n",
       "Sample_207             NaN         NaN         NaN         NaN         NaN   \n",
       "Sample_208             NaN      17.530         NaN         NaN         NaN   \n",
       "Sample_209             NaN         NaN         NaN         NaN         NaN   \n",
       "\n",
       "protein groups  ...  Q9Y653;Q9Y653-2;Q9Y653-3  Q9Y696  Q9Y6C2  Q9Y6N6  \\\n",
       "Sample ID       ...                                                     \n",
       "Sample_000      ...                       NaN     NaN     NaN     NaN   \n",
       "Sample_001      ...                       NaN     NaN     NaN     NaN   \n",
       "Sample_002      ...                       NaN     NaN     NaN     NaN   \n",
       "Sample_003      ...                       NaN     NaN     NaN     NaN   \n",
       "Sample_004      ...                       NaN     NaN  14.048     NaN   \n",
       "...             ...                       ...     ...     ...     ...   \n",
       "Sample_205      ...                       NaN     NaN     NaN     NaN   \n",
       "Sample_206      ...                       NaN     NaN     NaN     NaN   \n",
       "Sample_207      ...                       NaN     NaN     NaN     NaN   \n",
       "Sample_208      ...                       NaN     NaN     NaN     NaN   \n",
       "Sample_209      ...                       NaN     NaN     NaN     NaN   \n",
       "\n",
       "protein groups  Q9Y6N7;Q9Y6N7-2;Q9Y6N7-4  Q9Y6R7  Q9Y6X5  Q9Y6Y8;Q9Y6Y8-2  \\\n",
       "Sample ID                                                                   \n",
       "Sample_000                           NaN  19.863     NaN              NaN   \n",
       "Sample_001                           NaN     NaN     NaN              NaN   \n",
       "Sample_002                           NaN     NaN     NaN              NaN   \n",
       "Sample_003                           NaN     NaN     NaN              NaN   \n",
       "Sample_004                           NaN     NaN     NaN           19.867   \n",
       "...                                  ...     ...     ...              ...   \n",
       "Sample_205                           NaN     NaN     NaN              NaN   \n",
       "Sample_206                           NaN     NaN     NaN              NaN   \n",
       "Sample_207                           NaN     NaN     NaN              NaN   \n",
       "Sample_208                           NaN     NaN     NaN              NaN   \n",
       "Sample_209                           NaN     NaN     NaN              NaN   \n",
       "\n",
       "protein groups  Q9Y6Y9  S4R3U6  \n",
       "Sample ID                       \n",
       "Sample_000         NaN     NaN  \n",
       "Sample_001         NaN     NaN  \n",
       "Sample_002         NaN     NaN  \n",
       "Sample_003         NaN     NaN  \n",
       "Sample_004         NaN  12.235  \n",
       "...                ...     ...  \n",
       "Sample_205         NaN  11.802  \n",
       "Sample_206         NaN     NaN  \n",
       "Sample_207         NaN     NaN  \n",
       "Sample_208         NaN     NaN  \n",
       "Sample_209         NaN     NaN  \n",
       "\n",
       "[210 rows x 1419 columns]"
      ]
     },
     "execution_count": 17,
     "metadata": {},
     "output_type": "execute_result"
    }
   ],
   "source": [
    "data.val_y  # potentially has less features"
   ]
  },
  {
   "cell_type": "code",
   "execution_count": 18,
   "id": "9f0826f9",
   "metadata": {
    "execution": {
     "iopub.execute_input": "2024-06-13T09:31:20.971621Z",
     "iopub.status.busy": "2024-06-13T09:31:20.971276Z",
     "iopub.status.idle": "2024-06-13T09:31:21.025017Z",
     "shell.execute_reply": "2024-06-13T09:31:21.024288Z"
    },
    "papermill": {
     "duration": 0.072468,
     "end_time": "2024-06-13T09:31:21.026943",
     "exception": false,
     "start_time": "2024-06-13T09:31:20.954475",
     "status": "completed"
    },
    "tags": [
     "hide-input"
    ]
   },
   "outputs": [
    {
     "data": {
      "text/html": [
       "<div>\n",
       "<style scoped>\n",
       "    .dataframe tbody tr th:only-of-type {\n",
       "        vertical-align: middle;\n",
       "    }\n",
       "\n",
       "    .dataframe tbody tr th {\n",
       "        vertical-align: top;\n",
       "    }\n",
       "\n",
       "    .dataframe thead th {\n",
       "        text-align: right;\n",
       "    }\n",
       "</style>\n",
       "<table border=\"1\" class=\"dataframe\">\n",
       "  <thead>\n",
       "    <tr style=\"text-align: right;\">\n",
       "      <th>protein groups</th>\n",
       "      <th>A0A024QZX5;A0A087X1N8;P35237</th>\n",
       "      <th>A0A024R0T9;K7ER74;P02655</th>\n",
       "      <th>A0A024R3W6;A0A024R412;O60462;O60462-2;O60462-3;O60462-4;O60462-5;Q7LBX6;X5D2Q8</th>\n",
       "      <th>A0A024R644;A0A0A0MRU5;A0A1B0GWI2;O75503</th>\n",
       "      <th>A0A075B6H7</th>\n",
       "      <th>A0A075B6H9</th>\n",
       "      <th>A0A075B6I0</th>\n",
       "      <th>A0A075B6I1</th>\n",
       "      <th>A0A075B6I6</th>\n",
       "      <th>A0A075B6I9</th>\n",
       "      <th>...</th>\n",
       "      <th>Q9Y653;Q9Y653-2;Q9Y653-3</th>\n",
       "      <th>Q9Y696</th>\n",
       "      <th>Q9Y6C2</th>\n",
       "      <th>Q9Y6N6</th>\n",
       "      <th>Q9Y6N7;Q9Y6N7-2;Q9Y6N7-4</th>\n",
       "      <th>Q9Y6R7</th>\n",
       "      <th>Q9Y6X5</th>\n",
       "      <th>Q9Y6Y8;Q9Y6Y8-2</th>\n",
       "      <th>Q9Y6Y9</th>\n",
       "      <th>S4R3U6</th>\n",
       "    </tr>\n",
       "    <tr>\n",
       "      <th>Sample ID</th>\n",
       "      <th></th>\n",
       "      <th></th>\n",
       "      <th></th>\n",
       "      <th></th>\n",
       "      <th></th>\n",
       "      <th></th>\n",
       "      <th></th>\n",
       "      <th></th>\n",
       "      <th></th>\n",
       "      <th></th>\n",
       "      <th></th>\n",
       "      <th></th>\n",
       "      <th></th>\n",
       "      <th></th>\n",
       "      <th></th>\n",
       "      <th></th>\n",
       "      <th></th>\n",
       "      <th></th>\n",
       "      <th></th>\n",
       "      <th></th>\n",
       "      <th></th>\n",
       "    </tr>\n",
       "  </thead>\n",
       "  <tbody>\n",
       "    <tr>\n",
       "      <th>Sample_000</th>\n",
       "      <td>NaN</td>\n",
       "      <td>NaN</td>\n",
       "      <td>NaN</td>\n",
       "      <td>NaN</td>\n",
       "      <td>NaN</td>\n",
       "      <td>NaN</td>\n",
       "      <td>NaN</td>\n",
       "      <td>NaN</td>\n",
       "      <td>NaN</td>\n",
       "      <td>NaN</td>\n",
       "      <td>...</td>\n",
       "      <td>NaN</td>\n",
       "      <td>NaN</td>\n",
       "      <td>NaN</td>\n",
       "      <td>NaN</td>\n",
       "      <td>NaN</td>\n",
       "      <td>19.863</td>\n",
       "      <td>NaN</td>\n",
       "      <td>NaN</td>\n",
       "      <td>NaN</td>\n",
       "      <td>NaN</td>\n",
       "    </tr>\n",
       "    <tr>\n",
       "      <th>Sample_001</th>\n",
       "      <td>NaN</td>\n",
       "      <td>NaN</td>\n",
       "      <td>NaN</td>\n",
       "      <td>NaN</td>\n",
       "      <td>NaN</td>\n",
       "      <td>NaN</td>\n",
       "      <td>NaN</td>\n",
       "      <td>NaN</td>\n",
       "      <td>NaN</td>\n",
       "      <td>NaN</td>\n",
       "      <td>...</td>\n",
       "      <td>NaN</td>\n",
       "      <td>NaN</td>\n",
       "      <td>NaN</td>\n",
       "      <td>NaN</td>\n",
       "      <td>NaN</td>\n",
       "      <td>NaN</td>\n",
       "      <td>NaN</td>\n",
       "      <td>NaN</td>\n",
       "      <td>NaN</td>\n",
       "      <td>NaN</td>\n",
       "    </tr>\n",
       "    <tr>\n",
       "      <th>Sample_002</th>\n",
       "      <td>NaN</td>\n",
       "      <td>14.523</td>\n",
       "      <td>NaN</td>\n",
       "      <td>NaN</td>\n",
       "      <td>NaN</td>\n",
       "      <td>NaN</td>\n",
       "      <td>NaN</td>\n",
       "      <td>NaN</td>\n",
       "      <td>NaN</td>\n",
       "      <td>NaN</td>\n",
       "      <td>...</td>\n",
       "      <td>NaN</td>\n",
       "      <td>NaN</td>\n",
       "      <td>NaN</td>\n",
       "      <td>NaN</td>\n",
       "      <td>NaN</td>\n",
       "      <td>NaN</td>\n",
       "      <td>NaN</td>\n",
       "      <td>NaN</td>\n",
       "      <td>NaN</td>\n",
       "      <td>NaN</td>\n",
       "    </tr>\n",
       "    <tr>\n",
       "      <th>Sample_003</th>\n",
       "      <td>NaN</td>\n",
       "      <td>NaN</td>\n",
       "      <td>NaN</td>\n",
       "      <td>NaN</td>\n",
       "      <td>NaN</td>\n",
       "      <td>NaN</td>\n",
       "      <td>NaN</td>\n",
       "      <td>NaN</td>\n",
       "      <td>NaN</td>\n",
       "      <td>NaN</td>\n",
       "      <td>...</td>\n",
       "      <td>NaN</td>\n",
       "      <td>NaN</td>\n",
       "      <td>NaN</td>\n",
       "      <td>NaN</td>\n",
       "      <td>NaN</td>\n",
       "      <td>NaN</td>\n",
       "      <td>NaN</td>\n",
       "      <td>NaN</td>\n",
       "      <td>NaN</td>\n",
       "      <td>NaN</td>\n",
       "    </tr>\n",
       "    <tr>\n",
       "      <th>Sample_004</th>\n",
       "      <td>NaN</td>\n",
       "      <td>NaN</td>\n",
       "      <td>NaN</td>\n",
       "      <td>NaN</td>\n",
       "      <td>15.473</td>\n",
       "      <td>NaN</td>\n",
       "      <td>NaN</td>\n",
       "      <td>NaN</td>\n",
       "      <td>NaN</td>\n",
       "      <td>NaN</td>\n",
       "      <td>...</td>\n",
       "      <td>NaN</td>\n",
       "      <td>NaN</td>\n",
       "      <td>14.048</td>\n",
       "      <td>NaN</td>\n",
       "      <td>NaN</td>\n",
       "      <td>NaN</td>\n",
       "      <td>NaN</td>\n",
       "      <td>19.867</td>\n",
       "      <td>NaN</td>\n",
       "      <td>12.235</td>\n",
       "    </tr>\n",
       "    <tr>\n",
       "      <th>...</th>\n",
       "      <td>...</td>\n",
       "      <td>...</td>\n",
       "      <td>...</td>\n",
       "      <td>...</td>\n",
       "      <td>...</td>\n",
       "      <td>...</td>\n",
       "      <td>...</td>\n",
       "      <td>...</td>\n",
       "      <td>...</td>\n",
       "      <td>...</td>\n",
       "      <td>...</td>\n",
       "      <td>...</td>\n",
       "      <td>...</td>\n",
       "      <td>...</td>\n",
       "      <td>...</td>\n",
       "      <td>...</td>\n",
       "      <td>...</td>\n",
       "      <td>...</td>\n",
       "      <td>...</td>\n",
       "      <td>...</td>\n",
       "      <td>...</td>\n",
       "    </tr>\n",
       "    <tr>\n",
       "      <th>Sample_205</th>\n",
       "      <td>NaN</td>\n",
       "      <td>NaN</td>\n",
       "      <td>NaN</td>\n",
       "      <td>NaN</td>\n",
       "      <td>NaN</td>\n",
       "      <td>NaN</td>\n",
       "      <td>NaN</td>\n",
       "      <td>NaN</td>\n",
       "      <td>NaN</td>\n",
       "      <td>NaN</td>\n",
       "      <td>...</td>\n",
       "      <td>NaN</td>\n",
       "      <td>NaN</td>\n",
       "      <td>NaN</td>\n",
       "      <td>NaN</td>\n",
       "      <td>NaN</td>\n",
       "      <td>NaN</td>\n",
       "      <td>NaN</td>\n",
       "      <td>NaN</td>\n",
       "      <td>NaN</td>\n",
       "      <td>11.802</td>\n",
       "    </tr>\n",
       "    <tr>\n",
       "      <th>Sample_206</th>\n",
       "      <td>NaN</td>\n",
       "      <td>NaN</td>\n",
       "      <td>NaN</td>\n",
       "      <td>NaN</td>\n",
       "      <td>NaN</td>\n",
       "      <td>NaN</td>\n",
       "      <td>NaN</td>\n",
       "      <td>NaN</td>\n",
       "      <td>NaN</td>\n",
       "      <td>NaN</td>\n",
       "      <td>...</td>\n",
       "      <td>NaN</td>\n",
       "      <td>NaN</td>\n",
       "      <td>NaN</td>\n",
       "      <td>NaN</td>\n",
       "      <td>NaN</td>\n",
       "      <td>NaN</td>\n",
       "      <td>NaN</td>\n",
       "      <td>NaN</td>\n",
       "      <td>NaN</td>\n",
       "      <td>NaN</td>\n",
       "    </tr>\n",
       "    <tr>\n",
       "      <th>Sample_207</th>\n",
       "      <td>NaN</td>\n",
       "      <td>NaN</td>\n",
       "      <td>NaN</td>\n",
       "      <td>NaN</td>\n",
       "      <td>NaN</td>\n",
       "      <td>NaN</td>\n",
       "      <td>NaN</td>\n",
       "      <td>NaN</td>\n",
       "      <td>NaN</td>\n",
       "      <td>NaN</td>\n",
       "      <td>...</td>\n",
       "      <td>NaN</td>\n",
       "      <td>NaN</td>\n",
       "      <td>NaN</td>\n",
       "      <td>NaN</td>\n",
       "      <td>NaN</td>\n",
       "      <td>NaN</td>\n",
       "      <td>NaN</td>\n",
       "      <td>NaN</td>\n",
       "      <td>NaN</td>\n",
       "      <td>NaN</td>\n",
       "    </tr>\n",
       "    <tr>\n",
       "      <th>Sample_208</th>\n",
       "      <td>NaN</td>\n",
       "      <td>NaN</td>\n",
       "      <td>NaN</td>\n",
       "      <td>NaN</td>\n",
       "      <td>NaN</td>\n",
       "      <td>NaN</td>\n",
       "      <td>17.530</td>\n",
       "      <td>NaN</td>\n",
       "      <td>NaN</td>\n",
       "      <td>NaN</td>\n",
       "      <td>...</td>\n",
       "      <td>NaN</td>\n",
       "      <td>NaN</td>\n",
       "      <td>NaN</td>\n",
       "      <td>NaN</td>\n",
       "      <td>NaN</td>\n",
       "      <td>NaN</td>\n",
       "      <td>NaN</td>\n",
       "      <td>NaN</td>\n",
       "      <td>NaN</td>\n",
       "      <td>NaN</td>\n",
       "    </tr>\n",
       "    <tr>\n",
       "      <th>Sample_209</th>\n",
       "      <td>15.727</td>\n",
       "      <td>NaN</td>\n",
       "      <td>NaN</td>\n",
       "      <td>NaN</td>\n",
       "      <td>NaN</td>\n",
       "      <td>NaN</td>\n",
       "      <td>NaN</td>\n",
       "      <td>NaN</td>\n",
       "      <td>NaN</td>\n",
       "      <td>NaN</td>\n",
       "      <td>...</td>\n",
       "      <td>NaN</td>\n",
       "      <td>NaN</td>\n",
       "      <td>NaN</td>\n",
       "      <td>NaN</td>\n",
       "      <td>NaN</td>\n",
       "      <td>NaN</td>\n",
       "      <td>NaN</td>\n",
       "      <td>NaN</td>\n",
       "      <td>NaN</td>\n",
       "      <td>NaN</td>\n",
       "    </tr>\n",
       "  </tbody>\n",
       "</table>\n",
       "<p>210 rows × 1421 columns</p>\n",
       "</div>"
      ],
      "text/plain": [
       "protein groups A0A024QZX5;A0A087X1N8;P35237 A0A024R0T9;K7ER74;P02655  \\\n",
       "Sample ID                                                              \n",
       "Sample_000                              NaN                      NaN   \n",
       "Sample_001                              NaN                      NaN   \n",
       "Sample_002                              NaN                   14.523   \n",
       "Sample_003                              NaN                      NaN   \n",
       "Sample_004                              NaN                      NaN   \n",
       "...                                     ...                      ...   \n",
       "Sample_205                              NaN                      NaN   \n",
       "Sample_206                              NaN                      NaN   \n",
       "Sample_207                              NaN                      NaN   \n",
       "Sample_208                              NaN                      NaN   \n",
       "Sample_209                           15.727                      NaN   \n",
       "\n",
       "protein groups A0A024R3W6;A0A024R412;O60462;O60462-2;O60462-3;O60462-4;O60462-5;Q7LBX6;X5D2Q8  \\\n",
       "Sample ID                                                                                       \n",
       "Sample_000                                                                                NaN   \n",
       "Sample_001                                                                                NaN   \n",
       "Sample_002                                                                                NaN   \n",
       "Sample_003                                                                                NaN   \n",
       "Sample_004                                                                                NaN   \n",
       "...                                                                                       ...   \n",
       "Sample_205                                                                                NaN   \n",
       "Sample_206                                                                                NaN   \n",
       "Sample_207                                                                                NaN   \n",
       "Sample_208                                                                                NaN   \n",
       "Sample_209                                                                                NaN   \n",
       "\n",
       "protein groups A0A024R644;A0A0A0MRU5;A0A1B0GWI2;O75503 A0A075B6H7 A0A075B6H9  \\\n",
       "Sample ID                                                                      \n",
       "Sample_000                                         NaN        NaN        NaN   \n",
       "Sample_001                                         NaN        NaN        NaN   \n",
       "Sample_002                                         NaN        NaN        NaN   \n",
       "Sample_003                                         NaN        NaN        NaN   \n",
       "Sample_004                                         NaN     15.473        NaN   \n",
       "...                                                ...        ...        ...   \n",
       "Sample_205                                         NaN        NaN        NaN   \n",
       "Sample_206                                         NaN        NaN        NaN   \n",
       "Sample_207                                         NaN        NaN        NaN   \n",
       "Sample_208                                         NaN        NaN        NaN   \n",
       "Sample_209                                         NaN        NaN        NaN   \n",
       "\n",
       "protein groups A0A075B6I0 A0A075B6I1 A0A075B6I6 A0A075B6I9  ...  \\\n",
       "Sample ID                                                   ...   \n",
       "Sample_000            NaN        NaN        NaN        NaN  ...   \n",
       "Sample_001            NaN        NaN        NaN        NaN  ...   \n",
       "Sample_002            NaN        NaN        NaN        NaN  ...   \n",
       "Sample_003            NaN        NaN        NaN        NaN  ...   \n",
       "Sample_004            NaN        NaN        NaN        NaN  ...   \n",
       "...                   ...        ...        ...        ...  ...   \n",
       "Sample_205            NaN        NaN        NaN        NaN  ...   \n",
       "Sample_206            NaN        NaN        NaN        NaN  ...   \n",
       "Sample_207            NaN        NaN        NaN        NaN  ...   \n",
       "Sample_208         17.530        NaN        NaN        NaN  ...   \n",
       "Sample_209            NaN        NaN        NaN        NaN  ...   \n",
       "\n",
       "protein groups Q9Y653;Q9Y653-2;Q9Y653-3 Q9Y696 Q9Y6C2 Q9Y6N6  \\\n",
       "Sample ID                                                      \n",
       "Sample_000                          NaN    NaN    NaN    NaN   \n",
       "Sample_001                          NaN    NaN    NaN    NaN   \n",
       "Sample_002                          NaN    NaN    NaN    NaN   \n",
       "Sample_003                          NaN    NaN    NaN    NaN   \n",
       "Sample_004                          NaN    NaN 14.048    NaN   \n",
       "...                                 ...    ...    ...    ...   \n",
       "Sample_205                          NaN    NaN    NaN    NaN   \n",
       "Sample_206                          NaN    NaN    NaN    NaN   \n",
       "Sample_207                          NaN    NaN    NaN    NaN   \n",
       "Sample_208                          NaN    NaN    NaN    NaN   \n",
       "Sample_209                          NaN    NaN    NaN    NaN   \n",
       "\n",
       "protein groups Q9Y6N7;Q9Y6N7-2;Q9Y6N7-4 Q9Y6R7 Q9Y6X5 Q9Y6Y8;Q9Y6Y8-2 Q9Y6Y9  \\\n",
       "Sample ID                                                                      \n",
       "Sample_000                          NaN 19.863    NaN             NaN    NaN   \n",
       "Sample_001                          NaN    NaN    NaN             NaN    NaN   \n",
       "Sample_002                          NaN    NaN    NaN             NaN    NaN   \n",
       "Sample_003                          NaN    NaN    NaN             NaN    NaN   \n",
       "Sample_004                          NaN    NaN    NaN          19.867    NaN   \n",
       "...                                 ...    ...    ...             ...    ...   \n",
       "Sample_205                          NaN    NaN    NaN             NaN    NaN   \n",
       "Sample_206                          NaN    NaN    NaN             NaN    NaN   \n",
       "Sample_207                          NaN    NaN    NaN             NaN    NaN   \n",
       "Sample_208                          NaN    NaN    NaN             NaN    NaN   \n",
       "Sample_209                          NaN    NaN    NaN             NaN    NaN   \n",
       "\n",
       "protein groups S4R3U6  \n",
       "Sample ID              \n",
       "Sample_000        NaN  \n",
       "Sample_001        NaN  \n",
       "Sample_002        NaN  \n",
       "Sample_003        NaN  \n",
       "Sample_004     12.235  \n",
       "...               ...  \n",
       "Sample_205     11.802  \n",
       "Sample_206        NaN  \n",
       "Sample_207        NaN  \n",
       "Sample_208        NaN  \n",
       "Sample_209        NaN  \n",
       "\n",
       "[210 rows x 1421 columns]"
      ]
     },
     "execution_count": 18,
     "metadata": {},
     "output_type": "execute_result"
    }
   ],
   "source": [
    "data.val_y = pd.DataFrame(pd.NA, index=data.train_X.index,\n",
    "                          columns=data.train_X.columns).fillna(data.val_y)\n",
    "data.val_y"
   ]
  },
  {
   "cell_type": "markdown",
   "id": "6de7a68e-34a3-463f-a1b3-7c76a8855ca0",
   "metadata": {
    "papermill": {
     "duration": 0.017844,
     "end_time": "2024-06-13T09:31:21.062112",
     "exception": false,
     "start_time": "2024-06-13T09:31:21.044268",
     "status": "completed"
    },
    "tags": []
   },
   "source": [
    "## Variational Autoencoder"
   ]
  },
  {
   "cell_type": "markdown",
   "id": "7f5c05d4-d0bb-476f-b955-ac5822c38f86",
   "metadata": {
    "papermill": {
     "duration": 0.019035,
     "end_time": "2024-06-13T09:31:21.098788",
     "exception": false,
     "start_time": "2024-06-13T09:31:21.079753",
     "status": "completed"
    },
    "tags": []
   },
   "source": [
    "### Analysis: DataLoaders, Model, transform"
   ]
  },
  {
   "cell_type": "code",
   "execution_count": 19,
   "id": "e0d0d02f",
   "metadata": {
    "execution": {
     "iopub.execute_input": "2024-06-13T09:31:21.135246Z",
     "iopub.status.busy": "2024-06-13T09:31:21.134901Z",
     "iopub.status.idle": "2024-06-13T09:31:21.138799Z",
     "shell.execute_reply": "2024-06-13T09:31:21.138182Z"
    },
    "papermill": {
     "duration": 0.024112,
     "end_time": "2024-06-13T09:31:21.140405",
     "exception": false,
     "start_time": "2024-06-13T09:31:21.116293",
     "status": "completed"
    },
    "tags": [
     "hide-input"
    ]
   },
   "outputs": [],
   "source": [
    "default_pipeline = sklearn.pipeline.Pipeline(\n",
    "    [\n",
    "        ('normalize', StandardScaler()),\n",
    "        ('impute', SimpleImputer(add_indicator=False))\n",
    "    ])"
   ]
  },
  {
   "cell_type": "markdown",
   "id": "ae2f194f-a879-4190-89b9-5b370a827212",
   "metadata": {
    "papermill": {
     "duration": 0.018975,
     "end_time": "2024-06-13T09:31:21.177621",
     "exception": false,
     "start_time": "2024-06-13T09:31:21.158646",
     "status": "completed"
    },
    "tags": []
   },
   "source": [
    "### Analysis: DataLoaders, Model"
   ]
  },
  {
   "cell_type": "code",
   "execution_count": 20,
   "id": "43d49b4a-00ec-4874-8839-28a3cbc0e3b3",
   "metadata": {
    "execution": {
     "iopub.execute_input": "2024-06-13T09:31:21.215975Z",
     "iopub.status.busy": "2024-06-13T09:31:21.215153Z",
     "iopub.status.idle": "2024-06-13T09:31:21.588529Z",
     "shell.execute_reply": "2024-06-13T09:31:21.587789Z"
    },
    "papermill": {
     "duration": 0.3933,
     "end_time": "2024-06-13T09:31:21.590269",
     "exception": false,
     "start_time": "2024-06-13T09:31:21.196969",
     "status": "completed"
    },
    "tags": [
     "hide-input"
    ]
   },
   "outputs": [
    {
     "data": {
      "text/plain": [
       "VAE(\n",
       "  (encoder): Sequential(\n",
       "    (0): Linear(in_features=1421, out_features=64, bias=True)\n",
       "    (1): Dropout(p=0.2, inplace=False)\n",
       "    (2): BatchNorm1d(64, eps=1e-05, momentum=0.1, affine=True, track_running_stats=True)\n",
       "    (3): LeakyReLU(negative_slope=0.1)\n",
       "    (4): Linear(in_features=64, out_features=20, bias=True)\n",
       "  )\n",
       "  (decoder): Sequential(\n",
       "    (0): Linear(in_features=10, out_features=64, bias=True)\n",
       "    (1): Dropout(p=0.2, inplace=False)\n",
       "    (2): BatchNorm1d(64, eps=1e-05, momentum=0.1, affine=True, track_running_stats=True)\n",
       "    (3): LeakyReLU(negative_slope=0.1)\n",
       "    (4): Linear(in_features=64, out_features=2842, bias=True)\n",
       "  )\n",
       ")"
      ]
     },
     "execution_count": 20,
     "metadata": {},
     "output_type": "execute_result"
    }
   ],
   "source": [
    "\n",
    "analysis = ae.AutoEncoderAnalysis(  # datasplits=data,\n",
    "    train_df=data.train_X,\n",
    "    val_df=data.val_y,\n",
    "    model=models.vae.VAE,\n",
    "    model_kwargs=dict(n_features=data.train_X.shape[-1],\n",
    "                      n_neurons=args.hidden_layers,\n",
    "                      # last_encoder_activation=None,\n",
    "                      last_decoder_activation=None,\n",
    "                      dim_latent=args.latent_dim),\n",
    "    transform=default_pipeline,\n",
    "    decode=['normalize'],\n",
    "    bs=args.batch_size)\n",
    "args.n_params = analysis.n_params_ae\n",
    "if args.cuda:\n",
    "    analysis.model = analysis.model.cuda()\n",
    "analysis.model"
   ]
  },
  {
   "cell_type": "markdown",
   "id": "ef5410d9-8b64-45bc-96d3-4b04145043c0",
   "metadata": {
    "papermill": {
     "duration": 0.015422,
     "end_time": "2024-06-13T09:31:21.622435",
     "exception": false,
     "start_time": "2024-06-13T09:31:21.607013",
     "status": "completed"
    },
    "tags": []
   },
   "source": [
    "### Training\n",
    "\n"
   ]
  },
  {
   "cell_type": "code",
   "execution_count": 21,
   "id": "cca0e4a4",
   "metadata": {
    "execution": {
     "iopub.execute_input": "2024-06-13T09:31:21.656120Z",
     "iopub.status.busy": "2024-06-13T09:31:21.655767Z",
     "iopub.status.idle": "2024-06-13T09:31:21.659181Z",
     "shell.execute_reply": "2024-06-13T09:31:21.658589Z"
    },
    "papermill": {
     "duration": 0.022213,
     "end_time": "2024-06-13T09:31:21.660650",
     "exception": false,
     "start_time": "2024-06-13T09:31:21.638437",
     "status": "completed"
    },
    "tags": [
     "hide-input"
    ]
   },
   "outputs": [],
   "source": [
    "results = []\n",
    "loss_fct = partial(models.vae.loss_fct, results=results)"
   ]
  },
  {
   "cell_type": "code",
   "execution_count": 22,
   "id": "9366b06a",
   "metadata": {
    "execution": {
     "iopub.execute_input": "2024-06-13T09:31:21.695823Z",
     "iopub.status.busy": "2024-06-13T09:31:21.695222Z",
     "iopub.status.idle": "2024-06-13T09:31:21.706274Z",
     "shell.execute_reply": "2024-06-13T09:31:21.702681Z"
    },
    "lines_to_next_cell": 0,
    "papermill": {
     "duration": 0.030239,
     "end_time": "2024-06-13T09:31:21.707911",
     "exception": false,
     "start_time": "2024-06-13T09:31:21.677672",
     "status": "completed"
    },
    "tags": [
     "hide-input"
    ]
   },
   "outputs": [
    {
     "name": "stdout",
     "output_type": "stream",
     "text": [
      "Start Fit\n",
      "   - before_fit     : [TrainEvalCallback, Recorder, ProgressCallback, EarlyStoppingCallback]\n",
      "  Start Epoch Loop\n",
      "     - before_epoch   : [Recorder, ProgressCallback]\n",
      "    Start Train\n",
      "       - before_train   : [TrainEvalCallback, Recorder, ProgressCallback]\n",
      "      Start Batch Loop\n",
      "         - before_batch   : [ModelAdapterVAE, CastToTensor]\n",
      "         - after_pred     : [ModelAdapterVAE]\n",
      "         - after_loss     : [ModelAdapterVAE]\n",
      "         - before_backward: []\n",
      "         - before_step    : []\n",
      "         - after_step     : []\n",
      "         - after_cancel_batch: []\n",
      "         - after_batch    : [TrainEvalCallback, Recorder, ProgressCallback]\n",
      "      End Batch Loop\n",
      "    End Train\n",
      "     - after_cancel_train: [Recorder]\n",
      "     - after_train    : [Recorder, ProgressCallback]\n",
      "    Start Valid\n",
      "       - before_validate: [TrainEvalCallback, Recorder, ProgressCallback]\n",
      "      Start Batch Loop\n",
      "         - **CBs same as train batch**: []\n",
      "      End Batch Loop\n",
      "    End Valid\n",
      "     - after_cancel_validate: [Recorder]\n",
      "     - after_validate : [Recorder, ProgressCallback]\n",
      "  End Epoch Loop\n",
      "   - after_cancel_epoch: []\n",
      "   - after_epoch    : [Recorder, EarlyStoppingCallback]\n",
      "End Fit\n",
      " - after_cancel_fit: []\n",
      " - after_fit      : [ProgressCallback, EarlyStoppingCallback]\n"
     ]
    }
   ],
   "source": [
    "analysis.learn = Learner(dls=analysis.dls,\n",
    "                         model=analysis.model,\n",
    "                         loss_func=loss_fct,\n",
    "                         cbs=[ae.ModelAdapterVAE(),\n",
    "                              EarlyStoppingCallback(patience=args.patience)\n",
    "                              ])\n",
    "\n",
    "analysis.learn.show_training_loop()"
   ]
  },
  {
   "cell_type": "markdown",
   "id": "2231b67e",
   "metadata": {
    "papermill": {
     "duration": 0.016061,
     "end_time": "2024-06-13T09:31:21.740103",
     "exception": false,
     "start_time": "2024-06-13T09:31:21.724042",
     "status": "completed"
    },
    "tags": []
   },
   "source": [
    "Adding a `EarlyStoppingCallback` results in an error.  Potential fix in\n",
    "[PR3509](https://github.com/fastai/fastai/pull/3509) is not yet in\n",
    "current version. Try again later"
   ]
  },
  {
   "cell_type": "code",
   "execution_count": 23,
   "id": "f4b0aec2",
   "metadata": {
    "execution": {
     "iopub.execute_input": "2024-06-13T09:31:21.776410Z",
     "iopub.status.busy": "2024-06-13T09:31:21.775997Z",
     "iopub.status.idle": "2024-06-13T09:31:21.779174Z",
     "shell.execute_reply": "2024-06-13T09:31:21.778595Z"
    },
    "papermill": {
     "duration": 0.021335,
     "end_time": "2024-06-13T09:31:21.780633",
     "exception": false,
     "start_time": "2024-06-13T09:31:21.759298",
     "status": "completed"
    },
    "tags": [
     "hide-input"
    ]
   },
   "outputs": [],
   "source": [
    "# learn.summary()"
   ]
  },
  {
   "cell_type": "code",
   "execution_count": 24,
   "id": "563a1e0a",
   "metadata": {
    "execution": {
     "iopub.execute_input": "2024-06-13T09:31:21.815313Z",
     "iopub.status.busy": "2024-06-13T09:31:21.814980Z",
     "iopub.status.idle": "2024-06-13T09:31:24.899607Z",
     "shell.execute_reply": "2024-06-13T09:31:24.898606Z"
    },
    "papermill": {
     "duration": 3.104097,
     "end_time": "2024-06-13T09:31:24.901539",
     "exception": false,
     "start_time": "2024-06-13T09:31:21.797442",
     "status": "completed"
    },
    "tags": [
     "hide-input"
    ]
   },
   "outputs": [
    {
     "data": {
      "text/html": [
       "\n",
       "<style>\n",
       "    /* Turns off some styling */\n",
       "    progress {\n",
       "        /* gets rid of default border in Firefox and Opera. */\n",
       "        border: none;\n",
       "        /* Needs to be in here for Safari polyfill so background images work as expected. */\n",
       "        background-size: auto;\n",
       "    }\n",
       "    progress:not([value]), progress:not([value])::-webkit-progress-bar {\n",
       "        background: repeating-linear-gradient(45deg, #7e7e7e, #7e7e7e 10px, #5c5c5c 10px, #5c5c5c 20px);\n",
       "    }\n",
       "    .progress-bar-interrupted, .progress-bar-interrupted::-webkit-progress-bar {\n",
       "        background: #F44336;\n",
       "    }\n",
       "</style>\n"
      ],
      "text/plain": [
       "<IPython.core.display.HTML object>"
      ]
     },
     "metadata": {},
     "output_type": "display_data"
    },
    {
     "data": {
      "text/html": [],
      "text/plain": [
       "<IPython.core.display.HTML object>"
      ]
     },
     "metadata": {},
     "output_type": "display_data"
    },
    {
     "data": {
      "text/plain": [
       "SuggestedLRs(valley=0.00363078061491251)"
      ]
     },
     "execution_count": 24,
     "metadata": {},
     "output_type": "execute_result"
    },
    {
     "data": {
      "image/png": "[encoded data removed]",
      "text/plain": [
       "<Figure size 2352x1029 with 1 Axes>"
      ]
     },
     "metadata": {},
     "output_type": "display_data"
    }
   ],
   "source": [
    "suggested_lr = analysis.learn.lr_find()\n",
    "analysis.params['suggested_inital_lr'] = suggested_lr.valley\n",
    "suggested_lr"
   ]
  },
  {
   "cell_type": "code",
   "execution_count": 25,
   "id": "468565f5",
   "metadata": {
    "execution": {
     "iopub.execute_input": "2024-06-13T09:31:24.946082Z",
     "iopub.status.busy": "2024-06-13T09:31:24.945801Z",
     "iopub.status.idle": "2024-06-13T09:31:24.949041Z",
     "shell.execute_reply": "2024-06-13T09:31:24.948417Z"
    },
    "papermill": {
     "duration": 0.026896,
     "end_time": "2024-06-13T09:31:24.950687",
     "exception": false,
     "start_time": "2024-06-13T09:31:24.923791",
     "status": "completed"
    },
    "tags": [
     "hide-input"
    ]
   },
   "outputs": [],
   "source": [
    "results.clear()  # reset results"
   ]
  },
  {
   "cell_type": "markdown",
   "id": "c0f4eaee-f308-4081-aa16-0579fe9df7fe",
   "metadata": {
    "papermill": {
     "duration": 0.020936,
     "end_time": "2024-06-13T09:31:24.992555",
     "exception": false,
     "start_time": "2024-06-13T09:31:24.971619",
     "status": "completed"
    },
    "tags": []
   },
   "source": [
    "dump model config"
   ]
  },
  {
   "cell_type": "code",
   "execution_count": 26,
   "id": "ec77d9e5-f619-4355-ab37-2bd44029236d",
   "metadata": {
    "execution": {
     "iopub.execute_input": "2024-06-13T09:31:25.037017Z",
     "iopub.status.busy": "2024-06-13T09:31:25.036286Z",
     "iopub.status.idle": "2024-06-13T09:31:25.062196Z",
     "shell.execute_reply": "2024-06-13T09:31:25.061569Z"
    },
    "papermill": {
     "duration": 0.050062,
     "end_time": "2024-06-13T09:31:25.064013",
     "exception": false,
     "start_time": "2024-06-13T09:31:25.013951",
     "status": "completed"
    },
    "tags": [
     "hide-input"
    ]
   },
   "outputs": [],
   "source": [
    "# needs class as argument, not instance, but serialization needs instance\n",
    "analysis.params['last_decoder_activation'] = Sigmoid()\n",
    "\n",
    "vaep.io.dump_json(\n",
    "    vaep.io.parse_dict(\n",
    "        analysis.params, types=[\n",
    "            (torch.nn.modules.module.Module, lambda m: str(m))\n",
    "        ]),\n",
    "    args.out_models / TEMPLATE_MODEL_PARAMS.format(args.model_key))\n",
    "\n",
    "# restore original value\n",
    "analysis.params['last_decoder_activation'] = Sigmoid"
   ]
  },
  {
   "cell_type": "code",
   "execution_count": 27,
   "id": "43d18ab6",
   "metadata": {
    "execution": {
     "iopub.execute_input": "2024-06-13T09:31:25.101575Z",
     "iopub.status.busy": "2024-06-13T09:31:25.101273Z",
     "iopub.status.idle": "2024-06-13T09:31:32.833014Z",
     "shell.execute_reply": "2024-06-13T09:31:32.832403Z"
    },
    "papermill": {
     "duration": 7.752378,
     "end_time": "2024-06-13T09:31:32.834345",
     "exception": false,
     "start_time": "2024-06-13T09:31:25.081967",
     "status": "completed"
    },
    "tags": [
     "hide-input"
    ]
   },
   "outputs": [
    {
     "data": {
      "text/html": [
       "\n",
       "<style>\n",
       "    /* Turns off some styling */\n",
       "    progress {\n",
       "        /* gets rid of default border in Firefox and Opera. */\n",
       "        border: none;\n",
       "        /* Needs to be in here for Safari polyfill so background images work as expected. */\n",
       "        background-size: auto;\n",
       "    }\n",
       "    progress:not([value]), progress:not([value])::-webkit-progress-bar {\n",
       "        background: repeating-linear-gradient(45deg, #7e7e7e, #7e7e7e 10px, #5c5c5c 10px, #5c5c5c 20px);\n",
       "    }\n",
       "    .progress-bar-interrupted, .progress-bar-interrupted::-webkit-progress-bar {\n",
       "        background: #F44336;\n",
       "    }\n",
       "</style>\n"
      ],
      "text/plain": [
       "<IPython.core.display.HTML object>"
      ]
     },
     "metadata": {},
     "output_type": "display_data"
    },
    {
     "data": {
      "text/html": [
       "<table border=\"1\" class=\"dataframe\">\n",
       "  <thead>\n",
       "    <tr style=\"text-align: left;\">\n",
       "      <th>epoch</th>\n",
       "      <th>train_loss</th>\n",
       "      <th>valid_loss</th>\n",
       "      <th>time</th>\n",
       "    </tr>\n",
       "  </thead>\n",
       "  <tbody>\n",
       "    <tr>\n",
       "      <td>0</td>\n",
       "      <td>1685.125732</td>\n",
       "      <td>92.887169</td>\n",
       "      <td>00:00</td>\n",
       "    </tr>\n",
       "    <tr>\n",
       "      <td>1</td>\n",
       "      <td>1683.214355</td>\n",
       "      <td>93.192223</td>\n",
       "      <td>00:00</td>\n",
       "    </tr>\n",
       "    <tr>\n",
       "      <td>2</td>\n",
       "      <td>1673.030151</td>\n",
       "      <td>93.560898</td>\n",
       "      <td>00:00</td>\n",
       "    </tr>\n",
       "    <tr>\n",
       "      <td>3</td>\n",
       "      <td>1671.067017</td>\n",
       "      <td>93.740097</td>\n",
       "      <td>00:00</td>\n",
       "    </tr>\n",
       "    <tr>\n",
       "      <td>4</td>\n",
       "      <td>1669.835938</td>\n",
       "      <td>94.443130</td>\n",
       "      <td>00:00</td>\n",
       "    </tr>\n",
       "    <tr>\n",
       "      <td>5</td>\n",
       "      <td>1667.594238</td>\n",
       "      <td>94.582962</td>\n",
       "      <td>00:00</td>\n",
       "    </tr>\n",
       "    <tr>\n",
       "      <td>6</td>\n",
       "      <td>1665.441162</td>\n",
       "      <td>94.823868</td>\n",
       "      <td>00:00</td>\n",
       "    </tr>\n",
       "    <tr>\n",
       "      <td>7</td>\n",
       "      <td>1662.111694</td>\n",
       "      <td>95.759567</td>\n",
       "      <td>00:00</td>\n",
       "    </tr>\n",
       "    <tr>\n",
       "      <td>8</td>\n",
       "      <td>1660.550903</td>\n",
       "      <td>95.328598</td>\n",
       "      <td>00:00</td>\n",
       "    </tr>\n",
       "    <tr>\n",
       "      <td>9</td>\n",
       "      <td>1656.964478</td>\n",
       "      <td>95.446754</td>\n",
       "      <td>00:00</td>\n",
       "    </tr>\n",
       "    <tr>\n",
       "      <td>10</td>\n",
       "      <td>1652.905762</td>\n",
       "      <td>95.329140</td>\n",
       "      <td>00:00</td>\n",
       "    </tr>\n",
       "    <tr>\n",
       "      <td>11</td>\n",
       "      <td>1648.653687</td>\n",
       "      <td>95.538330</td>\n",
       "      <td>00:00</td>\n",
       "    </tr>\n",
       "    <tr>\n",
       "      <td>12</td>\n",
       "      <td>1644.720703</td>\n",
       "      <td>94.717735</td>\n",
       "      <td>00:00</td>\n",
       "    </tr>\n",
       "    <tr>\n",
       "      <td>13</td>\n",
       "      <td>1639.496094</td>\n",
       "      <td>94.927132</td>\n",
       "      <td>00:00</td>\n",
       "    </tr>\n",
       "    <tr>\n",
       "      <td>14</td>\n",
       "      <td>1634.259521</td>\n",
       "      <td>95.062286</td>\n",
       "      <td>00:00</td>\n",
       "    </tr>\n",
       "    <tr>\n",
       "      <td>15</td>\n",
       "      <td>1629.371704</td>\n",
       "      <td>94.737892</td>\n",
       "      <td>00:00</td>\n",
       "    </tr>\n",
       "    <tr>\n",
       "      <td>16</td>\n",
       "      <td>1622.433105</td>\n",
       "      <td>94.577827</td>\n",
       "      <td>00:00</td>\n",
       "    </tr>\n",
       "    <tr>\n",
       "      <td>17</td>\n",
       "      <td>1616.707275</td>\n",
       "      <td>94.373726</td>\n",
       "      <td>00:00</td>\n",
       "    </tr>\n",
       "    <tr>\n",
       "      <td>18</td>\n",
       "      <td>1610.541138</td>\n",
       "      <td>93.805153</td>\n",
       "      <td>00:00</td>\n",
       "    </tr>\n",
       "    <tr>\n",
       "      <td>19</td>\n",
       "      <td>1603.162720</td>\n",
       "      <td>93.877968</td>\n",
       "      <td>00:00</td>\n",
       "    </tr>\n",
       "    <tr>\n",
       "      <td>20</td>\n",
       "      <td>1595.396484</td>\n",
       "      <td>93.591576</td>\n",
       "      <td>00:00</td>\n",
       "    </tr>\n",
       "    <tr>\n",
       "      <td>21</td>\n",
       "      <td>1587.534058</td>\n",
       "      <td>93.762566</td>\n",
       "      <td>00:00</td>\n",
       "    </tr>\n",
       "    <tr>\n",
       "      <td>22</td>\n",
       "      <td>1579.441650</td>\n",
       "      <td>93.792191</td>\n",
       "      <td>00:00</td>\n",
       "    </tr>\n",
       "    <tr>\n",
       "      <td>23</td>\n",
       "      <td>1571.713135</td>\n",
       "      <td>93.666733</td>\n",
       "      <td>00:00</td>\n",
       "    </tr>\n",
       "    <tr>\n",
       "      <td>24</td>\n",
       "      <td>1562.525757</td>\n",
       "      <td>93.591515</td>\n",
       "      <td>00:00</td>\n",
       "    </tr>\n",
       "    <tr>\n",
       "      <td>25</td>\n",
       "      <td>1553.476807</td>\n",
       "      <td>93.178360</td>\n",
       "      <td>00:00</td>\n",
       "    </tr>\n",
       "    <tr>\n",
       "      <td>26</td>\n",
       "      <td>1543.761108</td>\n",
       "      <td>93.453072</td>\n",
       "      <td>00:00</td>\n",
       "    </tr>\n",
       "    <tr>\n",
       "      <td>27</td>\n",
       "      <td>1534.315186</td>\n",
       "      <td>93.694626</td>\n",
       "      <td>00:00</td>\n",
       "    </tr>\n",
       "    <tr>\n",
       "      <td>28</td>\n",
       "      <td>1523.247070</td>\n",
       "      <td>93.891724</td>\n",
       "      <td>00:00</td>\n",
       "    </tr>\n",
       "    <tr>\n",
       "      <td>29</td>\n",
       "      <td>1512.258301</td>\n",
       "      <td>93.660934</td>\n",
       "      <td>00:00</td>\n",
       "    </tr>\n",
       "    <tr>\n",
       "      <td>30</td>\n",
       "      <td>1501.040649</td>\n",
       "      <td>93.036385</td>\n",
       "      <td>00:00</td>\n",
       "    </tr>\n",
       "    <tr>\n",
       "      <td>31</td>\n",
       "      <td>1489.803711</td>\n",
       "      <td>93.226959</td>\n",
       "      <td>00:00</td>\n",
       "    </tr>\n",
       "    <tr>\n",
       "      <td>32</td>\n",
       "      <td>1477.870972</td>\n",
       "      <td>93.288132</td>\n",
       "      <td>00:00</td>\n",
       "    </tr>\n",
       "    <tr>\n",
       "      <td>33</td>\n",
       "      <td>1466.476929</td>\n",
       "      <td>93.755127</td>\n",
       "      <td>00:00</td>\n",
       "    </tr>\n",
       "    <tr>\n",
       "      <td>34</td>\n",
       "      <td>1455.592651</td>\n",
       "      <td>93.807182</td>\n",
       "      <td>00:00</td>\n",
       "    </tr>\n",
       "    <tr>\n",
       "      <td>35</td>\n",
       "      <td>1444.052490</td>\n",
       "      <td>94.271599</td>\n",
       "      <td>00:00</td>\n",
       "    </tr>\n",
       "    <tr>\n",
       "      <td>36</td>\n",
       "      <td>1433.578613</td>\n",
       "      <td>94.713028</td>\n",
       "      <td>00:00</td>\n",
       "    </tr>\n",
       "    <tr>\n",
       "      <td>37</td>\n",
       "      <td>1421.898071</td>\n",
       "      <td>94.471413</td>\n",
       "      <td>00:00</td>\n",
       "    </tr>\n",
       "    <tr>\n",
       "      <td>38</td>\n",
       "      <td>1411.737671</td>\n",
       "      <td>95.138290</td>\n",
       "      <td>00:00</td>\n",
       "    </tr>\n",
       "    <tr>\n",
       "      <td>39</td>\n",
       "      <td>1400.859131</td>\n",
       "      <td>94.677216</td>\n",
       "      <td>00:00</td>\n",
       "    </tr>\n",
       "    <tr>\n",
       "      <td>40</td>\n",
       "      <td>1390.645142</td>\n",
       "      <td>94.771156</td>\n",
       "      <td>00:00</td>\n",
       "    </tr>\n",
       "    <tr>\n",
       "      <td>41</td>\n",
       "      <td>1380.790405</td>\n",
       "      <td>94.979225</td>\n",
       "      <td>00:00</td>\n",
       "    </tr>\n",
       "    <tr>\n",
       "      <td>42</td>\n",
       "      <td>1370.568848</td>\n",
       "      <td>95.664963</td>\n",
       "      <td>00:00</td>\n",
       "    </tr>\n",
       "    <tr>\n",
       "      <td>43</td>\n",
       "      <td>1362.352417</td>\n",
       "      <td>95.042107</td>\n",
       "      <td>00:00</td>\n",
       "    </tr>\n",
       "    <tr>\n",
       "      <td>44</td>\n",
       "      <td>1353.698120</td>\n",
       "      <td>94.453583</td>\n",
       "      <td>00:00</td>\n",
       "    </tr>\n",
       "    <tr>\n",
       "      <td>45</td>\n",
       "      <td>1346.310791</td>\n",
       "      <td>94.637054</td>\n",
       "      <td>00:00</td>\n",
       "    </tr>\n",
       "    <tr>\n",
       "      <td>46</td>\n",
       "      <td>1338.100952</td>\n",
       "      <td>94.130127</td>\n",
       "      <td>00:00</td>\n",
       "    </tr>\n",
       "    <tr>\n",
       "      <td>47</td>\n",
       "      <td>1330.714844</td>\n",
       "      <td>93.661232</td>\n",
       "      <td>00:00</td>\n",
       "    </tr>\n",
       "    <tr>\n",
       "      <td>48</td>\n",
       "      <td>1322.137939</td>\n",
       "      <td>93.841965</td>\n",
       "      <td>00:00</td>\n",
       "    </tr>\n",
       "    <tr>\n",
       "      <td>49</td>\n",
       "      <td>1314.449097</td>\n",
       "      <td>93.490166</td>\n",
       "      <td>00:00</td>\n",
       "    </tr>\n",
       "    <tr>\n",
       "      <td>50</td>\n",
       "      <td>1307.406494</td>\n",
       "      <td>93.522308</td>\n",
       "      <td>00:00</td>\n",
       "    </tr>\n",
       "  </tbody>\n",
       "</table>"
      ],
      "text/plain": [
       "<IPython.core.display.HTML object>"
      ]
     },
     "metadata": {},
     "output_type": "display_data"
    },
    {
     "name": "stdout",
     "output_type": "stream",
     "text": [
      "No improvement since epoch 0: early stopping\n"
     ]
    }
   ],
   "source": [
    "# papermill_description=train\n",
    "analysis.learn.fit_one_cycle(args.epochs_max, lr_max=suggested_lr.valley)"
   ]
  },
  {
   "cell_type": "markdown",
   "id": "4f862ba1-7589-4076-9dae-b7e4868f4b8f",
   "metadata": {
    "papermill": {
     "duration": 0.01101,
     "end_time": "2024-06-13T09:31:32.857394",
     "exception": false,
     "start_time": "2024-06-13T09:31:32.846384",
     "status": "completed"
    },
    "tags": []
   },
   "source": [
    "Save number of actually trained epochs"
   ]
  },
  {
   "cell_type": "code",
   "execution_count": 28,
   "id": "079f9743-213c-422c-ba61-919c276fd710",
   "metadata": {
    "execution": {
     "iopub.execute_input": "2024-06-13T09:31:32.881011Z",
     "iopub.status.busy": "2024-06-13T09:31:32.880750Z",
     "iopub.status.idle": "2024-06-13T09:31:32.884965Z",
     "shell.execute_reply": "2024-06-13T09:31:32.884282Z"
    },
    "papermill": {
     "duration": 0.017871,
     "end_time": "2024-06-13T09:31:32.886396",
     "exception": false,
     "start_time": "2024-06-13T09:31:32.868525",
     "status": "completed"
    },
    "tags": [
     "hide-input"
    ]
   },
   "outputs": [
    {
     "data": {
      "text/plain": [
       "51"
      ]
     },
     "execution_count": 28,
     "metadata": {},
     "output_type": "execute_result"
    }
   ],
   "source": [
    "args.epoch_trained = analysis.learn.epoch + 1\n",
    "args.epoch_trained"
   ]
  },
  {
   "cell_type": "markdown",
   "id": "f41e0969",
   "metadata": {
    "papermill": {
     "duration": 0.011096,
     "end_time": "2024-06-13T09:31:32.910883",
     "exception": false,
     "start_time": "2024-06-13T09:31:32.899787",
     "status": "completed"
    },
    "tags": []
   },
   "source": [
    "#### Loss normalized by total number of measurements"
   ]
  },
  {
   "cell_type": "code",
   "execution_count": 29,
   "id": "3a4f91f9-c1a2-40c5-99d4-c289fb89cff8",
   "metadata": {
    "execution": {
     "iopub.execute_input": "2024-06-13T09:31:32.934851Z",
     "iopub.status.busy": "2024-06-13T09:31:32.934515Z",
     "iopub.status.idle": "2024-06-13T09:31:34.459883Z",
     "shell.execute_reply": "2024-06-13T09:31:34.459234Z"
    },
    "papermill": {
     "duration": 1.539342,
     "end_time": "2024-06-13T09:31:34.461642",
     "exception": false,
     "start_time": "2024-06-13T09:31:32.922300",
     "status": "completed"
    },
    "tags": [
     "hide-input"
    ]
   },
   "outputs": [
    {
     "name": "stdout",
     "output_type": "stream",
     "text": [
      "vaep.plotting - INFO     Saved Figures to runs/alzheimer_study/figures/vae_training\n"
     ]
    },
    {
     "data": {
      "image/png": "[encoded data removed]",
      "text/plain": [
       "<Figure size 2205x1176 with 1 Axes>"
      ]
     },
     "metadata": {},
     "output_type": "display_data"
    }
   ],
   "source": [
    "N_train_notna = data.train_X.notna().sum().sum()\n",
    "N_val_notna = data.val_y.notna().sum().sum()\n",
    "fig = models.plot_training_losses(analysis.learn, args.model_key,\n",
    "                                  folder=args.out_figures,\n",
    "                                  norm_factors=[N_train_notna, N_val_notna])"
   ]
  },
  {
   "cell_type": "markdown",
   "id": "9db46826-6ab0-47b5-942c-0edc08a15e35",
   "metadata": {
    "papermill": {
     "duration": 0.01269,
     "end_time": "2024-06-13T09:31:34.487521",
     "exception": false,
     "start_time": "2024-06-13T09:31:34.474831",
     "status": "completed"
    },
    "tags": []
   },
   "source": [
    "### Predictions\n",
    "create predictions and select validation data predictions"
   ]
  },
  {
   "cell_type": "code",
   "execution_count": 30,
   "id": "e73fb4dd-e73a-48df-82b7-b378fd3ee266",
   "metadata": {
    "execution": {
     "iopub.execute_input": "2024-06-13T09:31:34.515403Z",
     "iopub.status.busy": "2024-06-13T09:31:34.514784Z",
     "iopub.status.idle": "2024-06-13T09:31:34.588109Z",
     "shell.execute_reply": "2024-06-13T09:31:34.587447Z"
    },
    "papermill": {
     "duration": 0.088444,
     "end_time": "2024-06-13T09:31:34.589549",
     "exception": false,
     "start_time": "2024-06-13T09:31:34.501105",
     "status": "completed"
    },
    "tags": [
     "hide-input"
    ]
   },
   "outputs": [
    {
     "data": {
      "text/html": [
       "\n",
       "<style>\n",
       "    /* Turns off some styling */\n",
       "    progress {\n",
       "        /* gets rid of default border in Firefox and Opera. */\n",
       "        border: none;\n",
       "        /* Needs to be in here for Safari polyfill so background images work as expected. */\n",
       "        background-size: auto;\n",
       "    }\n",
       "    progress:not([value]), progress:not([value])::-webkit-progress-bar {\n",
       "        background: repeating-linear-gradient(45deg, #7e7e7e, #7e7e7e 10px, #5c5c5c 10px, #5c5c5c 20px);\n",
       "    }\n",
       "    .progress-bar-interrupted, .progress-bar-interrupted::-webkit-progress-bar {\n",
       "        background: #F44336;\n",
       "    }\n",
       "</style>\n"
      ],
      "text/plain": [
       "<IPython.core.display.HTML object>"
      ]
     },
     "metadata": {},
     "output_type": "display_data"
    },
    {
     "data": {
      "text/html": [],
      "text/plain": [
       "<IPython.core.display.HTML object>"
      ]
     },
     "metadata": {},
     "output_type": "display_data"
    },
    {
     "data": {
      "text/plain": [
       "Sample ID   protein groups                                                                \n",
       "Sample_000  A0A024QZX5;A0A087X1N8;P35237                                                     15.992\n",
       "            A0A024R0T9;K7ER74;P02655                                                         16.603\n",
       "            A0A024R3W6;A0A024R412;O60462;O60462-2;O60462-3;O60462-4;O60462-5;Q7LBX6;X5D2Q8   15.810\n",
       "            A0A024R644;A0A0A0MRU5;A0A1B0GWI2;O75503                                          16.436\n",
       "            A0A075B6H7                                                                       17.178\n",
       "                                                                                              ...  \n",
       "Sample_209  Q9Y6R7                                                                           18.973\n",
       "            Q9Y6X5                                                                           15.768\n",
       "            Q9Y6Y8;Q9Y6Y8-2                                                                  19.595\n",
       "            Q9Y6Y9                                                                           12.594\n",
       "            S4R3U6                                                                           11.313\n",
       "Length: 298410, dtype: float32"
      ]
     },
     "execution_count": 30,
     "metadata": {},
     "output_type": "execute_result"
    }
   ],
   "source": [
    "analysis.model.eval()\n",
    "pred, target = res = ae.get_preds_from_df(df=data.train_X, learn=analysis.learn,\n",
    "                                          position_pred_tuple=0,\n",
    "                                          transformer=analysis.transform)\n",
    "pred = pred.stack()\n",
    "pred"
   ]
  },
  {
   "cell_type": "code",
   "execution_count": 31,
   "id": "a9fc0e36",
   "metadata": {
    "execution": {
     "iopub.execute_input": "2024-06-13T09:31:34.617884Z",
     "iopub.status.busy": "2024-06-13T09:31:34.617416Z",
     "iopub.status.idle": "2024-06-13T09:31:34.633508Z",
     "shell.execute_reply": "2024-06-13T09:31:34.632814Z"
    },
    "lines_to_next_cell": 2,
    "papermill": {
     "duration": 0.031748,
     "end_time": "2024-06-13T09:31:34.634785",
     "exception": false,
     "start_time": "2024-06-13T09:31:34.603037",
     "status": "completed"
    },
    "tags": [
     "hide-input"
    ]
   },
   "outputs": [
    {
     "data": {
      "text/html": [
       "<div>\n",
       "<style scoped>\n",
       "    .dataframe tbody tr th:only-of-type {\n",
       "        vertical-align: middle;\n",
       "    }\n",
       "\n",
       "    .dataframe tbody tr th {\n",
       "        vertical-align: top;\n",
       "    }\n",
       "\n",
       "    .dataframe thead th {\n",
       "        text-align: right;\n",
       "    }\n",
       "</style>\n",
       "<table border=\"1\" class=\"dataframe\">\n",
       "  <thead>\n",
       "    <tr style=\"text-align: right;\">\n",
       "      <th></th>\n",
       "      <th></th>\n",
       "      <th>observed</th>\n",
       "      <th>VAE</th>\n",
       "    </tr>\n",
       "    <tr>\n",
       "      <th>Sample ID</th>\n",
       "      <th>protein groups</th>\n",
       "      <th></th>\n",
       "      <th></th>\n",
       "    </tr>\n",
       "  </thead>\n",
       "  <tbody>\n",
       "    <tr>\n",
       "      <th>Sample_158</th>\n",
       "      <th>Q9UN70;Q9UN70-2</th>\n",
       "      <td>14.630</td>\n",
       "      <td>15.659</td>\n",
       "    </tr>\n",
       "    <tr>\n",
       "      <th>Sample_050</th>\n",
       "      <th>Q9Y287</th>\n",
       "      <td>15.755</td>\n",
       "      <td>16.959</td>\n",
       "    </tr>\n",
       "    <tr>\n",
       "      <th>Sample_107</th>\n",
       "      <th>Q8N475;Q8N475-2</th>\n",
       "      <td>15.029</td>\n",
       "      <td>14.933</td>\n",
       "    </tr>\n",
       "    <tr>\n",
       "      <th>Sample_199</th>\n",
       "      <th>P06307</th>\n",
       "      <td>19.376</td>\n",
       "      <td>19.268</td>\n",
       "    </tr>\n",
       "    <tr>\n",
       "      <th>Sample_067</th>\n",
       "      <th>Q5VUB5</th>\n",
       "      <td>15.309</td>\n",
       "      <td>14.875</td>\n",
       "    </tr>\n",
       "    <tr>\n",
       "      <th>...</th>\n",
       "      <th>...</th>\n",
       "      <td>...</td>\n",
       "      <td>...</td>\n",
       "    </tr>\n",
       "    <tr>\n",
       "      <th>Sample_111</th>\n",
       "      <th>F6SYF8;Q9UBP4</th>\n",
       "      <td>22.822</td>\n",
       "      <td>22.810</td>\n",
       "    </tr>\n",
       "    <tr>\n",
       "      <th>Sample_002</th>\n",
       "      <th>A0A0A0MT36</th>\n",
       "      <td>18.165</td>\n",
       "      <td>15.727</td>\n",
       "    </tr>\n",
       "    <tr>\n",
       "      <th>Sample_049</th>\n",
       "      <th>Q8WY21;Q8WY21-2;Q8WY21-3;Q8WY21-4</th>\n",
       "      <td>15.525</td>\n",
       "      <td>15.639</td>\n",
       "    </tr>\n",
       "    <tr>\n",
       "      <th>Sample_182</th>\n",
       "      <th>Q8NFT8</th>\n",
       "      <td>14.379</td>\n",
       "      <td>13.515</td>\n",
       "    </tr>\n",
       "    <tr>\n",
       "      <th>Sample_123</th>\n",
       "      <th>Q16853;Q16853-2</th>\n",
       "      <td>14.504</td>\n",
       "      <td>14.686</td>\n",
       "    </tr>\n",
       "  </tbody>\n",
       "</table>\n",
       "<p>12600 rows × 2 columns</p>\n",
       "</div>"
      ],
      "text/plain": [
       "                                              observed    VAE\n",
       "Sample ID  protein groups                                    \n",
       "Sample_158 Q9UN70;Q9UN70-2                      14.630 15.659\n",
       "Sample_050 Q9Y287                               15.755 16.959\n",
       "Sample_107 Q8N475;Q8N475-2                      15.029 14.933\n",
       "Sample_199 P06307                               19.376 19.268\n",
       "Sample_067 Q5VUB5                               15.309 14.875\n",
       "...                                                ...    ...\n",
       "Sample_111 F6SYF8;Q9UBP4                        22.822 22.810\n",
       "Sample_002 A0A0A0MT36                           18.165 15.727\n",
       "Sample_049 Q8WY21;Q8WY21-2;Q8WY21-3;Q8WY21-4    15.525 15.639\n",
       "Sample_182 Q8NFT8                               14.379 13.515\n",
       "Sample_123 Q16853;Q16853-2                      14.504 14.686\n",
       "\n",
       "[12600 rows x 2 columns]"
      ]
     },
     "execution_count": 31,
     "metadata": {},
     "output_type": "execute_result"
    }
   ],
   "source": [
    "val_pred_simulated_na['VAE'] = pred  # 'model_key' ?\n",
    "val_pred_simulated_na"
   ]
  },
  {
   "cell_type": "code",
   "execution_count": 32,
   "id": "b4d1fd73-9eb7-4f25-ad81-c42c6a840e77",
   "metadata": {
    "execution": {
     "iopub.execute_input": "2024-06-13T09:31:34.662812Z",
     "iopub.status.busy": "2024-06-13T09:31:34.662143Z",
     "iopub.status.idle": "2024-06-13T09:31:34.674442Z",
     "shell.execute_reply": "2024-06-13T09:31:34.673761Z"
    },
    "papermill": {
     "duration": 0.027526,
     "end_time": "2024-06-13T09:31:34.675755",
     "exception": false,
     "start_time": "2024-06-13T09:31:34.648229",
     "status": "completed"
    },
    "tags": [
     "hide-input"
    ]
   },
   "outputs": [
    {
     "data": {
      "text/html": [
       "<div>\n",
       "<style scoped>\n",
       "    .dataframe tbody tr th:only-of-type {\n",
       "        vertical-align: middle;\n",
       "    }\n",
       "\n",
       "    .dataframe tbody tr th {\n",
       "        vertical-align: top;\n",
       "    }\n",
       "\n",
       "    .dataframe thead th {\n",
       "        text-align: right;\n",
       "    }\n",
       "</style>\n",
       "<table border=\"1\" class=\"dataframe\">\n",
       "  <thead>\n",
       "    <tr style=\"text-align: right;\">\n",
       "      <th></th>\n",
       "      <th></th>\n",
       "      <th>observed</th>\n",
       "      <th>VAE</th>\n",
       "    </tr>\n",
       "    <tr>\n",
       "      <th>Sample ID</th>\n",
       "      <th>protein groups</th>\n",
       "      <th></th>\n",
       "      <th></th>\n",
       "    </tr>\n",
       "  </thead>\n",
       "  <tbody>\n",
       "    <tr>\n",
       "      <th rowspan=\"5\" valign=\"top\">Sample_000</th>\n",
       "      <th>A0A075B6P5;P01615</th>\n",
       "      <td>17.016</td>\n",
       "      <td>17.342</td>\n",
       "    </tr>\n",
       "    <tr>\n",
       "      <th>A0A087X089;Q16627;Q16627-2</th>\n",
       "      <td>18.280</td>\n",
       "      <td>17.874</td>\n",
       "    </tr>\n",
       "    <tr>\n",
       "      <th>A0A0B4J2B5;S4R460</th>\n",
       "      <td>21.735</td>\n",
       "      <td>22.328</td>\n",
       "    </tr>\n",
       "    <tr>\n",
       "      <th>A0A140T971;O95865;Q5SRR8;Q5SSV3</th>\n",
       "      <td>14.603</td>\n",
       "      <td>15.345</td>\n",
       "    </tr>\n",
       "    <tr>\n",
       "      <th>A0A140TA33;A0A140TA41;A0A140TA52;P22105;P22105-3;P22105-4</th>\n",
       "      <td>16.143</td>\n",
       "      <td>16.701</td>\n",
       "    </tr>\n",
       "    <tr>\n",
       "      <th>...</th>\n",
       "      <th>...</th>\n",
       "      <td>...</td>\n",
       "      <td>...</td>\n",
       "    </tr>\n",
       "    <tr>\n",
       "      <th rowspan=\"5\" valign=\"top\">Sample_209</th>\n",
       "      <th>Q96ID5</th>\n",
       "      <td>16.074</td>\n",
       "      <td>16.037</td>\n",
       "    </tr>\n",
       "    <tr>\n",
       "      <th>Q9H492;Q9H492-2</th>\n",
       "      <td>13.173</td>\n",
       "      <td>13.338</td>\n",
       "    </tr>\n",
       "    <tr>\n",
       "      <th>Q9HC57</th>\n",
       "      <td>14.207</td>\n",
       "      <td>14.638</td>\n",
       "    </tr>\n",
       "    <tr>\n",
       "      <th>Q9NPH3;Q9NPH3-2;Q9NPH3-5</th>\n",
       "      <td>14.962</td>\n",
       "      <td>15.003</td>\n",
       "    </tr>\n",
       "    <tr>\n",
       "      <th>Q9UGM5;Q9UGM5-2</th>\n",
       "      <td>16.871</td>\n",
       "      <td>16.603</td>\n",
       "    </tr>\n",
       "  </tbody>\n",
       "</table>\n",
       "<p>12600 rows × 2 columns</p>\n",
       "</div>"
      ],
      "text/plain": [
       "                                                                      observed  \\\n",
       "Sample ID  protein groups                                                        \n",
       "Sample_000 A0A075B6P5;P01615                                            17.016   \n",
       "           A0A087X089;Q16627;Q16627-2                                   18.280   \n",
       "           A0A0B4J2B5;S4R460                                            21.735   \n",
       "           A0A140T971;O95865;Q5SRR8;Q5SSV3                              14.603   \n",
       "           A0A140TA33;A0A140TA41;A0A140TA52;P22105;P22105-3;P22105-4    16.143   \n",
       "...                                                                        ...   \n",
       "Sample_209 Q96ID5                                                       16.074   \n",
       "           Q9H492;Q9H492-2                                              13.173   \n",
       "           Q9HC57                                                       14.207   \n",
       "           Q9NPH3;Q9NPH3-2;Q9NPH3-5                                     14.962   \n",
       "           Q9UGM5;Q9UGM5-2                                              16.871   \n",
       "\n",
       "                                                                        VAE  \n",
       "Sample ID  protein groups                                                    \n",
       "Sample_000 A0A075B6P5;P01615                                         17.342  \n",
       "           A0A087X089;Q16627;Q16627-2                                17.874  \n",
       "           A0A0B4J2B5;S4R460                                         22.328  \n",
       "           A0A140T971;O95865;Q5SRR8;Q5SSV3                           15.345  \n",
       "           A0A140TA33;A0A140TA41;A0A140TA52;P22105;P22105-3;P22105-4 16.701  \n",
       "...                                                                     ...  \n",
       "Sample_209 Q96ID5                                                    16.037  \n",
       "           Q9H492;Q9H492-2                                           13.338  \n",
       "           Q9HC57                                                    14.638  \n",
       "           Q9NPH3;Q9NPH3-2;Q9NPH3-5                                  15.003  \n",
       "           Q9UGM5;Q9UGM5-2                                           16.603  \n",
       "\n",
       "[12600 rows x 2 columns]"
      ]
     },
     "execution_count": 32,
     "metadata": {},
     "output_type": "execute_result"
    }
   ],
   "source": [
    "test_pred_simulated_na['VAE'] = pred  # model_key?\n",
    "test_pred_simulated_na"
   ]
  },
  {
   "cell_type": "markdown",
   "id": "733d4cbe",
   "metadata": {
    "papermill": {
     "duration": 0.013299,
     "end_time": "2024-06-13T09:31:34.702954",
     "exception": false,
     "start_time": "2024-06-13T09:31:34.689655",
     "status": "completed"
    },
    "tags": []
   },
   "source": [
    "save missing values predictions"
   ]
  },
  {
   "cell_type": "code",
   "execution_count": 33,
   "id": "c43e401f",
   "metadata": {
    "execution": {
     "iopub.execute_input": "2024-06-13T09:31:34.731876Z",
     "iopub.status.busy": "2024-06-13T09:31:34.731357Z",
     "iopub.status.idle": "2024-06-13T09:31:35.226055Z",
     "shell.execute_reply": "2024-06-13T09:31:35.225323Z"
    },
    "lines_to_next_cell": 2,
    "papermill": {
     "duration": 0.511874,
     "end_time": "2024-06-13T09:31:35.228228",
     "exception": false,
     "start_time": "2024-06-13T09:31:34.716354",
     "status": "completed"
    },
    "tags": [
     "hide-input"
    ]
   },
   "outputs": [
    {
     "data": {
      "text/plain": [
       "Sample ID   protein groups          \n",
       "Sample_000  A0A075B6J9                 15.885\n",
       "            A0A075B6Q5                 15.884\n",
       "            A0A075B6R2                 16.861\n",
       "            A0A075B6S5                 16.488\n",
       "            A0A087WSY4                 16.253\n",
       "                                        ...  \n",
       "Sample_209  Q9P1W8;Q9P1W8-2;Q9P1W8-4   16.130\n",
       "            Q9UI40;Q9UI40-2            16.376\n",
       "            Q9UIW2                     16.210\n",
       "            Q9UMX0;Q9UMX0-2;Q9UMX0-4   13.631\n",
       "            Q9UP79                     15.694\n",
       "Name: intensity, Length: 46401, dtype: float32"
      ]
     },
     "metadata": {},
     "output_type": "display_data"
    }
   ],
   "source": [
    "if args.save_pred_real_na:\n",
    "    pred_real_na = ae.get_missing_values(df_train_wide=data.train_X,\n",
    "                                         val_idx=val_pred_simulated_na.index,\n",
    "                                         test_idx=test_pred_simulated_na.index,\n",
    "                                         pred=pred)\n",
    "    display(pred_real_na)\n",
    "    pred_real_na.to_csv(args.out_preds / f\"pred_real_na_{args.model_key}.csv\")"
   ]
  },
  {
   "cell_type": "markdown",
   "id": "d6c3dd2a-a30c-4e72-b5e8-7de2a7469eb2",
   "metadata": {
    "papermill": {
     "duration": 0.022475,
     "end_time": "2024-06-13T09:31:35.274366",
     "exception": false,
     "start_time": "2024-06-13T09:31:35.251891",
     "status": "completed"
    },
    "tags": []
   },
   "source": [
    "### Plots\n",
    "\n",
    "- validation data"
   ]
  },
  {
   "cell_type": "code",
   "execution_count": 34,
   "id": "7999c89e-65fe-4c00-8e20-cb8ab88d1603",
   "metadata": {
    "execution": {
     "iopub.execute_input": "2024-06-13T09:31:35.320181Z",
     "iopub.status.busy": "2024-06-13T09:31:35.319762Z",
     "iopub.status.idle": "2024-06-13T09:31:35.360829Z",
     "shell.execute_reply": "2024-06-13T09:31:35.360201Z"
    },
    "papermill": {
     "duration": 0.06585,
     "end_time": "2024-06-13T09:31:35.362474",
     "exception": false,
     "start_time": "2024-06-13T09:31:35.296624",
     "status": "completed"
    },
    "tags": [
     "hide-input"
    ]
   },
   "outputs": [
    {
     "data": {
      "text/html": [
       "<div>\n",
       "<style scoped>\n",
       "    .dataframe tbody tr th:only-of-type {\n",
       "        vertical-align: middle;\n",
       "    }\n",
       "\n",
       "    .dataframe tbody tr th {\n",
       "        vertical-align: top;\n",
       "    }\n",
       "\n",
       "    .dataframe thead th {\n",
       "        text-align: right;\n",
       "    }\n",
       "</style>\n",
       "<table border=\"1\" class=\"dataframe\">\n",
       "  <thead>\n",
       "    <tr style=\"text-align: right;\">\n",
       "      <th></th>\n",
       "      <th>latent dimension 1</th>\n",
       "      <th>latent dimension 2</th>\n",
       "      <th>latent dimension 3</th>\n",
       "      <th>latent dimension 4</th>\n",
       "      <th>latent dimension 5</th>\n",
       "      <th>latent dimension 6</th>\n",
       "      <th>latent dimension 7</th>\n",
       "      <th>latent dimension 8</th>\n",
       "      <th>latent dimension 9</th>\n",
       "      <th>latent dimension 10</th>\n",
       "    </tr>\n",
       "    <tr>\n",
       "      <th>Sample ID</th>\n",
       "      <th></th>\n",
       "      <th></th>\n",
       "      <th></th>\n",
       "      <th></th>\n",
       "      <th></th>\n",
       "      <th></th>\n",
       "      <th></th>\n",
       "      <th></th>\n",
       "      <th></th>\n",
       "      <th></th>\n",
       "    </tr>\n",
       "  </thead>\n",
       "  <tbody>\n",
       "    <tr>\n",
       "      <th>Sample_000</th>\n",
       "      <td>3.645</td>\n",
       "      <td>1.779</td>\n",
       "      <td>1.725</td>\n",
       "      <td>-0.083</td>\n",
       "      <td>-0.430</td>\n",
       "      <td>-2.723</td>\n",
       "      <td>-0.913</td>\n",
       "      <td>0.107</td>\n",
       "      <td>-2.018</td>\n",
       "      <td>1.142</td>\n",
       "    </tr>\n",
       "    <tr>\n",
       "      <th>Sample_001</th>\n",
       "      <td>2.656</td>\n",
       "      <td>1.299</td>\n",
       "      <td>1.988</td>\n",
       "      <td>-0.421</td>\n",
       "      <td>-0.917</td>\n",
       "      <td>-2.611</td>\n",
       "      <td>-0.584</td>\n",
       "      <td>-0.880</td>\n",
       "      <td>-0.821</td>\n",
       "      <td>1.341</td>\n",
       "    </tr>\n",
       "    <tr>\n",
       "      <th>Sample_002</th>\n",
       "      <td>3.207</td>\n",
       "      <td>1.831</td>\n",
       "      <td>1.851</td>\n",
       "      <td>-0.375</td>\n",
       "      <td>1.525</td>\n",
       "      <td>-2.201</td>\n",
       "      <td>-1.331</td>\n",
       "      <td>0.481</td>\n",
       "      <td>-1.960</td>\n",
       "      <td>0.463</td>\n",
       "    </tr>\n",
       "    <tr>\n",
       "      <th>Sample_003</th>\n",
       "      <td>3.890</td>\n",
       "      <td>2.222</td>\n",
       "      <td>2.028</td>\n",
       "      <td>-0.439</td>\n",
       "      <td>0.210</td>\n",
       "      <td>-2.902</td>\n",
       "      <td>-1.443</td>\n",
       "      <td>0.865</td>\n",
       "      <td>-2.468</td>\n",
       "      <td>1.031</td>\n",
       "    </tr>\n",
       "    <tr>\n",
       "      <th>Sample_004</th>\n",
       "      <td>2.994</td>\n",
       "      <td>1.273</td>\n",
       "      <td>1.919</td>\n",
       "      <td>-0.744</td>\n",
       "      <td>0.365</td>\n",
       "      <td>-2.660</td>\n",
       "      <td>-0.844</td>\n",
       "      <td>-0.195</td>\n",
       "      <td>-1.306</td>\n",
       "      <td>0.417</td>\n",
       "    </tr>\n",
       "    <tr>\n",
       "      <th>...</th>\n",
       "      <td>...</td>\n",
       "      <td>...</td>\n",
       "      <td>...</td>\n",
       "      <td>...</td>\n",
       "      <td>...</td>\n",
       "      <td>...</td>\n",
       "      <td>...</td>\n",
       "      <td>...</td>\n",
       "      <td>...</td>\n",
       "      <td>...</td>\n",
       "    </tr>\n",
       "    <tr>\n",
       "      <th>Sample_205</th>\n",
       "      <td>0.301</td>\n",
       "      <td>1.079</td>\n",
       "      <td>1.211</td>\n",
       "      <td>-1.417</td>\n",
       "      <td>2.984</td>\n",
       "      <td>0.058</td>\n",
       "      <td>-0.839</td>\n",
       "      <td>0.123</td>\n",
       "      <td>0.087</td>\n",
       "      <td>-2.542</td>\n",
       "    </tr>\n",
       "    <tr>\n",
       "      <th>Sample_206</th>\n",
       "      <td>1.202</td>\n",
       "      <td>0.454</td>\n",
       "      <td>-1.357</td>\n",
       "      <td>0.149</td>\n",
       "      <td>2.576</td>\n",
       "      <td>2.140</td>\n",
       "      <td>1.405</td>\n",
       "      <td>0.374</td>\n",
       "      <td>0.158</td>\n",
       "      <td>-0.975</td>\n",
       "    </tr>\n",
       "    <tr>\n",
       "      <th>Sample_207</th>\n",
       "      <td>1.730</td>\n",
       "      <td>0.329</td>\n",
       "      <td>0.646</td>\n",
       "      <td>-1.775</td>\n",
       "      <td>1.921</td>\n",
       "      <td>0.388</td>\n",
       "      <td>0.886</td>\n",
       "      <td>-0.381</td>\n",
       "      <td>0.240</td>\n",
       "      <td>-2.758</td>\n",
       "    </tr>\n",
       "    <tr>\n",
       "      <th>Sample_208</th>\n",
       "      <td>0.804</td>\n",
       "      <td>-0.313</td>\n",
       "      <td>0.697</td>\n",
       "      <td>-2.061</td>\n",
       "      <td>1.734</td>\n",
       "      <td>-0.274</td>\n",
       "      <td>1.172</td>\n",
       "      <td>-1.776</td>\n",
       "      <td>1.418</td>\n",
       "      <td>-1.220</td>\n",
       "    </tr>\n",
       "    <tr>\n",
       "      <th>Sample_209</th>\n",
       "      <td>1.255</td>\n",
       "      <td>-0.149</td>\n",
       "      <td>0.959</td>\n",
       "      <td>-1.559</td>\n",
       "      <td>2.058</td>\n",
       "      <td>-0.297</td>\n",
       "      <td>0.639</td>\n",
       "      <td>-1.079</td>\n",
       "      <td>0.447</td>\n",
       "      <td>-1.139</td>\n",
       "    </tr>\n",
       "  </tbody>\n",
       "</table>\n",
       "<p>210 rows × 10 columns</p>\n",
       "</div>"
      ],
      "text/plain": [
       "            latent dimension 1  latent dimension 2  latent dimension 3  \\\n",
       "Sample ID                                                                \n",
       "Sample_000               3.645               1.779               1.725   \n",
       "Sample_001               2.656               1.299               1.988   \n",
       "Sample_002               3.207               1.831               1.851   \n",
       "Sample_003               3.890               2.222               2.028   \n",
       "Sample_004               2.994               1.273               1.919   \n",
       "...                        ...                 ...                 ...   \n",
       "Sample_205               0.301               1.079               1.211   \n",
       "Sample_206               1.202               0.454              -1.357   \n",
       "Sample_207               1.730               0.329               0.646   \n",
       "Sample_208               0.804              -0.313               0.697   \n",
       "Sample_209               1.255              -0.149               0.959   \n",
       "\n",
       "            latent dimension 4  latent dimension 5  latent dimension 6  \\\n",
       "Sample ID                                                                \n",
       "Sample_000              -0.083              -0.430              -2.723   \n",
       "Sample_001              -0.421              -0.917              -2.611   \n",
       "Sample_002              -0.375               1.525              -2.201   \n",
       "Sample_003              -0.439               0.210              -2.902   \n",
       "Sample_004              -0.744               0.365              -2.660   \n",
       "...                        ...                 ...                 ...   \n",
       "Sample_205              -1.417               2.984               0.058   \n",
       "Sample_206               0.149               2.576               2.140   \n",
       "Sample_207              -1.775               1.921               0.388   \n",
       "Sample_208              -2.061               1.734              -0.274   \n",
       "Sample_209              -1.559               2.058              -0.297   \n",
       "\n",
       "            latent dimension 7  latent dimension 8  latent dimension 9  \\\n",
       "Sample ID                                                                \n",
       "Sample_000              -0.913               0.107              -2.018   \n",
       "Sample_001              -0.584              -0.880              -0.821   \n",
       "Sample_002              -1.331               0.481              -1.960   \n",
       "Sample_003              -1.443               0.865              -2.468   \n",
       "Sample_004              -0.844              -0.195              -1.306   \n",
       "...                        ...                 ...                 ...   \n",
       "Sample_205              -0.839               0.123               0.087   \n",
       "Sample_206               1.405               0.374               0.158   \n",
       "Sample_207               0.886              -0.381               0.240   \n",
       "Sample_208               1.172              -1.776               1.418   \n",
       "Sample_209               0.639              -1.079               0.447   \n",
       "\n",
       "            latent dimension 10  \n",
       "Sample ID                        \n",
       "Sample_000                1.142  \n",
       "Sample_001                1.341  \n",
       "Sample_002                0.463  \n",
       "Sample_003                1.031  \n",
       "Sample_004                0.417  \n",
       "...                         ...  \n",
       "Sample_205               -2.542  \n",
       "Sample_206               -0.975  \n",
       "Sample_207               -2.758  \n",
       "Sample_208               -1.220  \n",
       "Sample_209               -1.139  \n",
       "\n",
       "[210 rows x 10 columns]"
      ]
     },
     "execution_count": 34,
     "metadata": {},
     "output_type": "execute_result"
    }
   ],
   "source": [
    "analysis.model = analysis.model.cpu()\n",
    "# underlying data is train_X for both\n",
    "# assert analysis.dls.valid.data.equals(analysis.dls.train.data)\n",
    "# Reconstruct DataLoader for case that during training singleton batches were dropped\n",
    "_dl = torch.utils.data.DataLoader(\n",
    "    vaep.io.datasets.DatasetWithTarget(\n",
    "        analysis.dls.valid.data),\n",
    "    batch_size=args.batch_size,\n",
    "    shuffle=False)\n",
    "df_latent = vaep.model.get_latent_space(analysis.model.get_mu_and_logvar,\n",
    "                                        dl=_dl,\n",
    "                                        dl_index=analysis.dls.valid.data.index)\n",
    "df_latent"
   ]
  },
  {
   "cell_type": "code",
   "execution_count": 35,
   "id": "1fdd8f86-639e-4e0e-bb89-466f3ba0ef7b",
   "metadata": {
    "execution": {
     "iopub.execute_input": "2024-06-13T09:31:35.407919Z",
     "iopub.status.busy": "2024-06-13T09:31:35.407603Z",
     "iopub.status.idle": "2024-06-13T09:31:35.413977Z",
     "shell.execute_reply": "2024-06-13T09:31:35.413394Z"
    },
    "papermill": {
     "duration": 0.031898,
     "end_time": "2024-06-13T09:31:35.416361",
     "exception": false,
     "start_time": "2024-06-13T09:31:35.384463",
     "status": "completed"
    },
    "tags": [
     "hide-input"
    ]
   },
   "outputs": [],
   "source": [
    "ana_latent = analyzers.LatentAnalysis(df_latent,\n",
    "                                      df_meta,\n",
    "                                      args.model_key,\n",
    "                                      folder=args.out_figures)\n",
    "if args.meta_date_col and df_meta is not None:\n",
    "    figures[f'latent_{args.model_key}_by_date'], ax = ana_latent.plot_by_date(\n",
    "        args.meta_date_col)"
   ]
  },
  {
   "cell_type": "code",
   "execution_count": 36,
   "id": "763a5633-a9dd-4785-a0c0-91f588346c22",
   "metadata": {
    "execution": {
     "iopub.execute_input": "2024-06-13T09:31:35.463679Z",
     "iopub.status.busy": "2024-06-13T09:31:35.463360Z",
     "iopub.status.idle": "2024-06-13T09:31:35.467719Z",
     "shell.execute_reply": "2024-06-13T09:31:35.467064Z"
    },
    "papermill": {
     "duration": 0.030816,
     "end_time": "2024-06-13T09:31:35.470261",
     "exception": false,
     "start_time": "2024-06-13T09:31:35.439445",
     "status": "completed"
    },
    "tags": [
     "hide-input"
    ]
   },
   "outputs": [],
   "source": [
    "if args.meta_cat_col and df_meta is not None:\n",
    "    figures[f'latent_{args.model_key}_by_{\"_\".join(args.meta_cat_col.split())}'], ax = ana_latent.plot_by_category(\n",
    "        args.meta_cat_col)"
   ]
  },
  {
   "cell_type": "code",
   "execution_count": 37,
   "id": "d3fdd5cb-4038-489f-b4d8-54ec6ea913b5",
   "metadata": {
    "execution": {
     "iopub.execute_input": "2024-06-13T09:31:35.520544Z",
     "iopub.status.busy": "2024-06-13T09:31:35.520190Z",
     "iopub.status.idle": "2024-06-13T09:31:35.757818Z",
     "shell.execute_reply": "2024-06-13T09:31:35.757081Z"
    },
    "papermill": {
     "duration": 0.266469,
     "end_time": "2024-06-13T09:31:35.759628",
     "exception": false,
     "start_time": "2024-06-13T09:31:35.493159",
     "status": "completed"
    },
    "tags": [
     "hide-input"
    ]
   },
   "outputs": [
    {
     "data": {
      "image/png": "[encoded data removed]",
      "text/plain": [
       "<Figure size 2352x1029 with 1 Axes>"
      ]
     },
     "metadata": {},
     "output_type": "display_data"
    }
   ],
   "source": [
    "feat_freq_val = val_pred_simulated_na['observed'].groupby(level=-1).count()\n",
    "feat_freq_val.name = 'freq_val'\n",
    "ax = feat_freq_val.plot.box()"
   ]
  },
  {
   "cell_type": "code",
   "execution_count": 38,
   "id": "446adbaf-81db-4ac5-b041-064744143602",
   "metadata": {
    "execution": {
     "iopub.execute_input": "2024-06-13T09:31:35.809085Z",
     "iopub.status.busy": "2024-06-13T09:31:35.808756Z",
     "iopub.status.idle": "2024-06-13T09:31:35.815192Z",
     "shell.execute_reply": "2024-06-13T09:31:35.814538Z"
    },
    "papermill": {
     "duration": 0.035826,
     "end_time": "2024-06-13T09:31:35.819174",
     "exception": false,
     "start_time": "2024-06-13T09:31:35.783348",
     "status": "completed"
    },
    "tags": [
     "hide-input"
    ]
   },
   "outputs": [
    {
     "data": {
      "text/plain": [
       "freq_val\n",
       "1    12\n",
       "2    18\n",
       "3    50\n",
       "4    82\n",
       "5   108\n",
       "Name: count, dtype: int64"
      ]
     },
     "execution_count": 38,
     "metadata": {},
     "output_type": "execute_result"
    }
   ],
   "source": [
    "feat_freq_val.value_counts().sort_index().head()  # require more than one feat?"
   ]
  },
  {
   "cell_type": "code",
   "execution_count": 39,
   "id": "d408dbfa",
   "metadata": {
    "execution": {
     "iopub.execute_input": "2024-06-13T09:31:35.867864Z",
     "iopub.status.busy": "2024-06-13T09:31:35.867532Z",
     "iopub.status.idle": "2024-06-13T09:31:36.325042Z",
     "shell.execute_reply": "2024-06-13T09:31:36.324374Z"
    },
    "papermill": {
     "duration": 0.483977,
     "end_time": "2024-06-13T09:31:36.326625",
     "exception": false,
     "start_time": "2024-06-13T09:31:35.842648",
     "status": "completed"
    },
    "tags": [
     "hide-input"
    ]
   },
   "outputs": [
    {
     "data": {
      "image/png": "[encoded data removed]",
      "text/plain": [
       "<Figure size 2205x1470 with 1 Axes>"
      ]
     },
     "metadata": {},
     "output_type": "display_data"
    }
   ],
   "source": [
    "errors_val = val_pred_simulated_na.drop('observed', axis=1).sub(\n",
    "    val_pred_simulated_na['observed'], axis=0)\n",
    "errors_val = errors_val.abs().groupby(level=-1).mean()\n",
    "errors_val = errors_val.join(freq_feat).sort_values(by='freq', ascending=True)\n",
    "\n",
    "\n",
    "errors_val_smoothed = errors_val.copy()  # .loc[feat_freq_val > 1]\n",
    "errors_val_smoothed[errors_val.columns[:-1]] = errors_val[errors_val.columns[:-1]\n",
    "                                                          ].rolling(window=200, min_periods=1).mean()\n",
    "ax = errors_val_smoothed.plot(x='freq', figsize=(15, 10))\n",
    "# errors_val_smoothed"
   ]
  },
  {
   "cell_type": "code",
   "execution_count": 40,
   "id": "7e505353-f19e-4961-9279-f1f0f1e4be09",
   "metadata": {
    "execution": {
     "iopub.execute_input": "2024-06-13T09:31:36.376315Z",
     "iopub.status.busy": "2024-06-13T09:31:36.375983Z",
     "iopub.status.idle": "2024-06-13T09:31:36.394930Z",
     "shell.execute_reply": "2024-06-13T09:31:36.394296Z"
    },
    "papermill": {
     "duration": 0.045533,
     "end_time": "2024-06-13T09:31:36.396576",
     "exception": false,
     "start_time": "2024-06-13T09:31:36.351043",
     "status": "completed"
    },
    "tags": [
     "hide-input"
    ]
   },
   "outputs": [
    {
     "data": {
      "text/html": [
       "<div>\n",
       "<style scoped>\n",
       "    .dataframe tbody tr th:only-of-type {\n",
       "        vertical-align: middle;\n",
       "    }\n",
       "\n",
       "    .dataframe tbody tr th {\n",
       "        vertical-align: top;\n",
       "    }\n",
       "\n",
       "    .dataframe thead tr th {\n",
       "        text-align: left;\n",
       "    }\n",
       "\n",
       "    .dataframe thead tr:last-of-type th {\n",
       "        text-align: right;\n",
       "    }\n",
       "</style>\n",
       "<table border=\"1\" class=\"dataframe\">\n",
       "  <thead>\n",
       "    <tr>\n",
       "      <th></th>\n",
       "      <th colspan=\"2\" halign=\"left\">VAE</th>\n",
       "    </tr>\n",
       "    <tr>\n",
       "      <th></th>\n",
       "      <th>mean</th>\n",
       "      <th>count</th>\n",
       "    </tr>\n",
       "    <tr>\n",
       "      <th>protein groups</th>\n",
       "      <th></th>\n",
       "      <th></th>\n",
       "    </tr>\n",
       "  </thead>\n",
       "  <tbody>\n",
       "    <tr>\n",
       "      <th>A0A024QZX5;A0A087X1N8;P35237</th>\n",
       "      <td>0.137</td>\n",
       "      <td>7</td>\n",
       "    </tr>\n",
       "    <tr>\n",
       "      <th>A0A024R0T9;K7ER74;P02655</th>\n",
       "      <td>1.362</td>\n",
       "      <td>4</td>\n",
       "    </tr>\n",
       "    <tr>\n",
       "      <th>A0A024R3W6;A0A024R412;O60462;O60462-2;O60462-3;O60462-4;O60462-5;Q7LBX6;X5D2Q8</th>\n",
       "      <td>0.272</td>\n",
       "      <td>9</td>\n",
       "    </tr>\n",
       "    <tr>\n",
       "      <th>A0A024R644;A0A0A0MRU5;A0A1B0GWI2;O75503</th>\n",
       "      <td>0.376</td>\n",
       "      <td>6</td>\n",
       "    </tr>\n",
       "    <tr>\n",
       "      <th>A0A075B6H7</th>\n",
       "      <td>0.530</td>\n",
       "      <td>6</td>\n",
       "    </tr>\n",
       "    <tr>\n",
       "      <th>...</th>\n",
       "      <td>...</td>\n",
       "      <td>...</td>\n",
       "    </tr>\n",
       "    <tr>\n",
       "      <th>Q9Y6R7</th>\n",
       "      <td>0.448</td>\n",
       "      <td>10</td>\n",
       "    </tr>\n",
       "    <tr>\n",
       "      <th>Q9Y6X5</th>\n",
       "      <td>0.276</td>\n",
       "      <td>7</td>\n",
       "    </tr>\n",
       "    <tr>\n",
       "      <th>Q9Y6Y8;Q9Y6Y8-2</th>\n",
       "      <td>0.345</td>\n",
       "      <td>9</td>\n",
       "    </tr>\n",
       "    <tr>\n",
       "      <th>Q9Y6Y9</th>\n",
       "      <td>0.498</td>\n",
       "      <td>15</td>\n",
       "    </tr>\n",
       "    <tr>\n",
       "      <th>S4R3U6</th>\n",
       "      <td>0.515</td>\n",
       "      <td>24</td>\n",
       "    </tr>\n",
       "  </tbody>\n",
       "</table>\n",
       "<p>1419 rows × 2 columns</p>\n",
       "</div>"
      ],
      "text/plain": [
       "                                                                                 VAE  \\\n",
       "                                                                                mean   \n",
       "protein groups                                                                         \n",
       "A0A024QZX5;A0A087X1N8;P35237                                                   0.137   \n",
       "A0A024R0T9;K7ER74;P02655                                                       1.362   \n",
       "A0A024R3W6;A0A024R412;O60462;O60462-2;O60462-3;O60462-4;O60462-5;Q7LBX6;X5D2Q8 0.272   \n",
       "A0A024R644;A0A0A0MRU5;A0A1B0GWI2;O75503                                        0.376   \n",
       "A0A075B6H7                                                                     0.530   \n",
       "...                                                                              ...   \n",
       "Q9Y6R7                                                                         0.448   \n",
       "Q9Y6X5                                                                         0.276   \n",
       "Q9Y6Y8;Q9Y6Y8-2                                                                0.345   \n",
       "Q9Y6Y9                                                                         0.498   \n",
       "S4R3U6                                                                         0.515   \n",
       "\n",
       "                                                                                      \n",
       "                                                                               count  \n",
       "protein groups                                                                        \n",
       "A0A024QZX5;A0A087X1N8;P35237                                                       7  \n",
       "A0A024R0T9;K7ER74;P02655                                                           4  \n",
       "A0A024R3W6;A0A024R412;O60462;O60462-2;O60462-3;O60462-4;O60462-5;Q7LBX6;X5D2Q8     9  \n",
       "A0A024R644;A0A0A0MRU5;A0A1B0GWI2;O75503                                            6  \n",
       "A0A075B6H7                                                                         6  \n",
       "...                                                                              ...  \n",
       "Q9Y6R7                                                                            10  \n",
       "Q9Y6X5                                                                             7  \n",
       "Q9Y6Y8;Q9Y6Y8-2                                                                    9  \n",
       "Q9Y6Y9                                                                            15  \n",
       "S4R3U6                                                                            24  \n",
       "\n",
       "[1419 rows x 2 columns]"
      ]
     },
     "execution_count": 40,
     "metadata": {},
     "output_type": "execute_result"
    }
   ],
   "source": [
    "errors_val = val_pred_simulated_na.drop('observed', axis=1).sub(\n",
    "    val_pred_simulated_na['observed'], axis=0)\n",
    "errors_val.abs().groupby(level=-1).agg(['mean', 'count'])"
   ]
  },
  {
   "cell_type": "code",
   "execution_count": 41,
   "id": "95022f04-0e0d-47bf-8267-6135a936328f",
   "metadata": {
    "execution": {
     "iopub.execute_input": "2024-06-13T09:31:36.461474Z",
     "iopub.status.busy": "2024-06-13T09:31:36.461123Z",
     "iopub.status.idle": "2024-06-13T09:31:36.476335Z",
     "shell.execute_reply": "2024-06-13T09:31:36.475611Z"
    },
    "papermill": {
     "duration": 0.061134,
     "end_time": "2024-06-13T09:31:36.482603",
     "exception": false,
     "start_time": "2024-06-13T09:31:36.421469",
     "status": "completed"
    },
    "tags": [
     "hide-input"
    ]
   },
   "outputs": [
    {
     "data": {
      "text/html": [
       "<div>\n",
       "<style scoped>\n",
       "    .dataframe tbody tr th:only-of-type {\n",
       "        vertical-align: middle;\n",
       "    }\n",
       "\n",
       "    .dataframe tbody tr th {\n",
       "        vertical-align: top;\n",
       "    }\n",
       "\n",
       "    .dataframe thead th {\n",
       "        text-align: right;\n",
       "    }\n",
       "</style>\n",
       "<table border=\"1\" class=\"dataframe\">\n",
       "  <thead>\n",
       "    <tr style=\"text-align: right;\">\n",
       "      <th></th>\n",
       "      <th></th>\n",
       "      <th>VAE</th>\n",
       "    </tr>\n",
       "    <tr>\n",
       "      <th>Sample ID</th>\n",
       "      <th>protein groups</th>\n",
       "      <th></th>\n",
       "    </tr>\n",
       "  </thead>\n",
       "  <tbody>\n",
       "    <tr>\n",
       "      <th>Sample_158</th>\n",
       "      <th>Q9UN70;Q9UN70-2</th>\n",
       "      <td>1.028</td>\n",
       "    </tr>\n",
       "    <tr>\n",
       "      <th>Sample_050</th>\n",
       "      <th>Q9Y287</th>\n",
       "      <td>1.204</td>\n",
       "    </tr>\n",
       "    <tr>\n",
       "      <th>Sample_107</th>\n",
       "      <th>Q8N475;Q8N475-2</th>\n",
       "      <td>-0.097</td>\n",
       "    </tr>\n",
       "    <tr>\n",
       "      <th>Sample_199</th>\n",
       "      <th>P06307</th>\n",
       "      <td>-0.108</td>\n",
       "    </tr>\n",
       "    <tr>\n",
       "      <th>Sample_067</th>\n",
       "      <th>Q5VUB5</th>\n",
       "      <td>-0.434</td>\n",
       "    </tr>\n",
       "    <tr>\n",
       "      <th>...</th>\n",
       "      <th>...</th>\n",
       "      <td>...</td>\n",
       "    </tr>\n",
       "    <tr>\n",
       "      <th>Sample_111</th>\n",
       "      <th>F6SYF8;Q9UBP4</th>\n",
       "      <td>-0.012</td>\n",
       "    </tr>\n",
       "    <tr>\n",
       "      <th>Sample_002</th>\n",
       "      <th>A0A0A0MT36</th>\n",
       "      <td>-2.438</td>\n",
       "    </tr>\n",
       "    <tr>\n",
       "      <th>Sample_049</th>\n",
       "      <th>Q8WY21;Q8WY21-2;Q8WY21-3;Q8WY21-4</th>\n",
       "      <td>0.113</td>\n",
       "    </tr>\n",
       "    <tr>\n",
       "      <th>Sample_182</th>\n",
       "      <th>Q8NFT8</th>\n",
       "      <td>-0.864</td>\n",
       "    </tr>\n",
       "    <tr>\n",
       "      <th>Sample_123</th>\n",
       "      <th>Q16853;Q16853-2</th>\n",
       "      <td>0.181</td>\n",
       "    </tr>\n",
       "  </tbody>\n",
       "</table>\n",
       "<p>12600 rows × 1 columns</p>\n",
       "</div>"
      ],
      "text/plain": [
       "                                                VAE\n",
       "Sample ID  protein groups                          \n",
       "Sample_158 Q9UN70;Q9UN70-2                    1.028\n",
       "Sample_050 Q9Y287                             1.204\n",
       "Sample_107 Q8N475;Q8N475-2                   -0.097\n",
       "Sample_199 P06307                            -0.108\n",
       "Sample_067 Q5VUB5                            -0.434\n",
       "...                                             ...\n",
       "Sample_111 F6SYF8;Q9UBP4                     -0.012\n",
       "Sample_002 A0A0A0MT36                        -2.438\n",
       "Sample_049 Q8WY21;Q8WY21-2;Q8WY21-3;Q8WY21-4  0.113\n",
       "Sample_182 Q8NFT8                            -0.864\n",
       "Sample_123 Q16853;Q16853-2                    0.181\n",
       "\n",
       "[12600 rows x 1 columns]"
      ]
     },
     "execution_count": 41,
     "metadata": {},
     "output_type": "execute_result"
    }
   ],
   "source": [
    "errors_val"
   ]
  },
  {
   "cell_type": "markdown",
   "id": "29f16d62-f1c8-4447-bdd3-2d3161b6346f",
   "metadata": {
    "papermill": {
     "duration": 0.024203,
     "end_time": "2024-06-13T09:31:36.535395",
     "exception": false,
     "start_time": "2024-06-13T09:31:36.511192",
     "status": "completed"
    },
    "tags": []
   },
   "source": [
    "## Comparisons\n",
    "\n",
    "Simulated NAs : Artificially created NAs. Some data was sampled and set\n",
    "explicitly to misssing before it was fed to the model for\n",
    "reconstruction."
   ]
  },
  {
   "cell_type": "markdown",
   "id": "861b9b3c-11d0-4cda-98c9-fadea16e47c4",
   "metadata": {
    "papermill": {
     "duration": 0.02378,
     "end_time": "2024-06-13T09:31:36.584703",
     "exception": false,
     "start_time": "2024-06-13T09:31:36.560923",
     "status": "completed"
    },
    "tags": []
   },
   "source": [
    "### Validation data\n",
    "\n",
    "- all measured (identified, observed) peptides in validation data"
   ]
  },
  {
   "cell_type": "code",
   "execution_count": 42,
   "id": "d825e38e-f3d6-4bca-b621-150267e7b7bc",
   "metadata": {
    "execution": {
     "iopub.execute_input": "2024-06-13T09:31:36.652428Z",
     "iopub.status.busy": "2024-06-13T09:31:36.652043Z",
     "iopub.status.idle": "2024-06-13T09:31:36.655910Z",
     "shell.execute_reply": "2024-06-13T09:31:36.655195Z"
    },
    "papermill": {
     "duration": 0.049078,
     "end_time": "2024-06-13T09:31:36.658960",
     "exception": false,
     "start_time": "2024-06-13T09:31:36.609882",
     "status": "completed"
    },
    "tags": [
     "hide-input"
    ]
   },
   "outputs": [],
   "source": [
    "# papermill_description=metrics\n",
    "# d_metrics = models.Metrics(no_na_key='NA interpolated', with_na_key='NA not interpolated')\n",
    "d_metrics = models.Metrics()"
   ]
  },
  {
   "cell_type": "markdown",
   "id": "55b9b887-a644-4086-8399-e27b533bd22a",
   "metadata": {
    "papermill": {
     "duration": 0.016601,
     "end_time": "2024-06-13T09:31:36.704037",
     "exception": false,
     "start_time": "2024-06-13T09:31:36.687436",
     "status": "completed"
    },
    "tags": []
   },
   "source": [
    "The simulated NA for the validation step are real test data (not used for training nor early stopping)"
   ]
  },
  {
   "cell_type": "code",
   "execution_count": 43,
   "id": "855a7a6f-93fd-4612-9d8d-96541a2441be",
   "metadata": {
    "execution": {
     "iopub.execute_input": "2024-06-13T09:31:36.736559Z",
     "iopub.status.busy": "2024-06-13T09:31:36.736010Z",
     "iopub.status.idle": "2024-06-13T09:31:36.890762Z",
     "shell.execute_reply": "2024-06-13T09:31:36.890053Z"
    },
    "papermill": {
     "duration": 0.172548,
     "end_time": "2024-06-13T09:31:36.892122",
     "exception": false,
     "start_time": "2024-06-13T09:31:36.719574",
     "status": "completed"
    },
    "tags": [
     "hide-input"
    ]
   },
   "outputs": [
    {
     "name": "stdout",
     "output_type": "stream",
     "text": [
      "Selected as truth to compare to: observed\n"
     ]
    },
    {
     "data": {
      "text/plain": [
       "{'VAE': {'MSE': 0.5041481727309264,\n",
       "  'MAE': 0.46375748728907856,\n",
       "  'N': 12600,\n",
       "  'prop': 1.0}}"
      ]
     },
     "execution_count": 43,
     "metadata": {},
     "output_type": "execute_result"
    }
   ],
   "source": [
    "added_metrics = d_metrics.add_metrics(val_pred_simulated_na, 'valid_simulated_na')\n",
    "added_metrics"
   ]
  },
  {
   "cell_type": "markdown",
   "id": "80fda7f1-3024-46bc-a3c1-17f509016bd4",
   "metadata": {
    "lines_to_next_cell": 2,
    "papermill": {
     "duration": 0.015919,
     "end_time": "2024-06-13T09:31:36.924268",
     "exception": false,
     "start_time": "2024-06-13T09:31:36.908349",
     "status": "completed"
    },
    "tags": []
   },
   "source": [
    "### Test Datasplit\n"
   ]
  },
  {
   "cell_type": "code",
   "execution_count": 44,
   "id": "571ac8d4-bb5d-45db-bba8-59817e476304",
   "metadata": {
    "execution": {
     "iopub.execute_input": "2024-06-13T09:31:36.958153Z",
     "iopub.status.busy": "2024-06-13T09:31:36.957378Z",
     "iopub.status.idle": "2024-06-13T09:31:36.975759Z",
     "shell.execute_reply": "2024-06-13T09:31:36.975068Z"
    },
    "papermill": {
     "duration": 0.037338,
     "end_time": "2024-06-13T09:31:36.977660",
     "exception": false,
     "start_time": "2024-06-13T09:31:36.940322",
     "status": "completed"
    },
    "tags": [
     "hide-input"
    ]
   },
   "outputs": [
    {
     "name": "stdout",
     "output_type": "stream",
     "text": [
      "Selected as truth to compare to: observed\n"
     ]
    },
    {
     "data": {
      "text/plain": [
       "{'VAE': {'MSE': 0.5221617806720349,\n",
       "  'MAE': 0.4657472919766319,\n",
       "  'N': 12600,\n",
       "  'prop': 1.0}}"
      ]
     },
     "execution_count": 44,
     "metadata": {},
     "output_type": "execute_result"
    }
   ],
   "source": [
    "added_metrics = d_metrics.add_metrics(test_pred_simulated_na, 'test_simulated_na')\n",
    "added_metrics"
   ]
  },
  {
   "cell_type": "markdown",
   "id": "b388de9d-0387-486a-9481-d673e0fec88b",
   "metadata": {
    "papermill": {
     "duration": 0.01605,
     "end_time": "2024-06-13T09:31:37.014116",
     "exception": false,
     "start_time": "2024-06-13T09:31:36.998066",
     "status": "completed"
    },
    "tags": []
   },
   "source": [
    "Save all metrics as json"
   ]
  },
  {
   "cell_type": "code",
   "execution_count": 45,
   "id": "87910434-7d07-4e8e-8380-c92fc515bd16",
   "metadata": {
    "execution": {
     "iopub.execute_input": "2024-06-13T09:31:37.048722Z",
     "iopub.status.busy": "2024-06-13T09:31:37.048076Z",
     "iopub.status.idle": "2024-06-13T09:31:37.053907Z",
     "shell.execute_reply": "2024-06-13T09:31:37.053212Z"
    },
    "papermill": {
     "duration": 0.024394,
     "end_time": "2024-06-13T09:31:37.055191",
     "exception": false,
     "start_time": "2024-06-13T09:31:37.030797",
     "status": "completed"
    },
    "tags": [
     "hide-input"
    ]
   },
   "outputs": [
    {
     "data": {
      "text/plain": [
       "{ 'test_simulated_na': { 'VAE': { 'MAE': 0.4657472919766319,\n",
       "                                  'MSE': 0.5221617806720349,\n",
       "                                  'N': 12600,\n",
       "                                  'prop': 1.0}},\n",
       "  'valid_simulated_na': { 'VAE': { 'MAE': 0.46375748728907856,\n",
       "                                   'MSE': 0.5041481727309264,\n",
       "                                   'N': 12600,\n",
       "                                   'prop': 1.0}}}"
      ]
     },
     "execution_count": 45,
     "metadata": {},
     "output_type": "execute_result"
    }
   ],
   "source": [
    "vaep.io.dump_json(d_metrics.metrics, args.out_metrics /\n",
    "                  f'metrics_{args.model_key}.json')\n",
    "d_metrics"
   ]
  },
  {
   "cell_type": "code",
   "execution_count": 46,
   "id": "7d99deb9-9aad-4ba9-b79d-e4b3c6c7f023",
   "metadata": {
    "execution": {
     "iopub.execute_input": "2024-06-13T09:31:37.107709Z",
     "iopub.status.busy": "2024-06-13T09:31:37.107376Z",
     "iopub.status.idle": "2024-06-13T09:31:37.120427Z",
     "shell.execute_reply": "2024-06-13T09:31:37.119715Z"
    },
    "papermill": {
     "duration": 0.041532,
     "end_time": "2024-06-13T09:31:37.121885",
     "exception": false,
     "start_time": "2024-06-13T09:31:37.080353",
     "status": "completed"
    },
    "tags": [
     "hide-input"
    ]
   },
   "outputs": [
    {
     "data": {
      "text/html": [
       "<div>\n",
       "<style scoped>\n",
       "    .dataframe tbody tr th:only-of-type {\n",
       "        vertical-align: middle;\n",
       "    }\n",
       "\n",
       "    .dataframe tbody tr th {\n",
       "        vertical-align: top;\n",
       "    }\n",
       "\n",
       "    .dataframe thead th {\n",
       "        text-align: right;\n",
       "    }\n",
       "</style>\n",
       "<table border=\"1\" class=\"dataframe\">\n",
       "  <thead>\n",
       "    <tr style=\"text-align: right;\">\n",
       "      <th></th>\n",
       "      <th>subset</th>\n",
       "      <th>valid_simulated_na</th>\n",
       "      <th>test_simulated_na</th>\n",
       "    </tr>\n",
       "    <tr>\n",
       "      <th>model</th>\n",
       "      <th>metric_name</th>\n",
       "      <th></th>\n",
       "      <th></th>\n",
       "    </tr>\n",
       "  </thead>\n",
       "  <tbody>\n",
       "    <tr>\n",
       "      <th rowspan=\"4\" valign=\"top\">VAE</th>\n",
       "      <th>MSE</th>\n",
       "      <td>0.504</td>\n",
       "      <td>0.522</td>\n",
       "    </tr>\n",
       "    <tr>\n",
       "      <th>MAE</th>\n",
       "      <td>0.464</td>\n",
       "      <td>0.466</td>\n",
       "    </tr>\n",
       "    <tr>\n",
       "      <th>N</th>\n",
       "      <td>12,600.000</td>\n",
       "      <td>12,600.000</td>\n",
       "    </tr>\n",
       "    <tr>\n",
       "      <th>prop</th>\n",
       "      <td>1.000</td>\n",
       "      <td>1.000</td>\n",
       "    </tr>\n",
       "  </tbody>\n",
       "</table>\n",
       "</div>"
      ],
      "text/plain": [
       "subset             valid_simulated_na  test_simulated_na\n",
       "model metric_name                                       \n",
       "VAE   MSE                       0.504              0.522\n",
       "      MAE                       0.464              0.466\n",
       "      N                    12,600.000         12,600.000\n",
       "      prop                      1.000              1.000"
      ]
     },
     "execution_count": 46,
     "metadata": {},
     "output_type": "execute_result"
    }
   ],
   "source": [
    "metrics_df = models.get_df_from_nested_dict(\n",
    "    d_metrics.metrics, column_levels=['model', 'metric_name']).T\n",
    "metrics_df"
   ]
  },
  {
   "cell_type": "markdown",
   "id": "2b49894b-876e-428b-bbba-18229db8b984",
   "metadata": {
    "papermill": {
     "duration": 0.02651,
     "end_time": "2024-06-13T09:31:37.186429",
     "exception": false,
     "start_time": "2024-06-13T09:31:37.159919",
     "status": "completed"
    },
    "tags": []
   },
   "source": [
    "## Save predictions"
   ]
  },
  {
   "cell_type": "code",
   "execution_count": 47,
   "id": "782636ac-c979-4f8b-9fc0-66fd0c7a3a8b",
   "metadata": {
    "execution": {
     "iopub.execute_input": "2024-06-13T09:31:37.240852Z",
     "iopub.status.busy": "2024-06-13T09:31:37.240478Z",
     "iopub.status.idle": "2024-06-13T09:31:37.342570Z",
     "shell.execute_reply": "2024-06-13T09:31:37.341723Z"
    },
    "papermill": {
     "duration": 0.132471,
     "end_time": "2024-06-13T09:31:37.344550",
     "exception": false,
     "start_time": "2024-06-13T09:31:37.212079",
     "status": "completed"
    },
    "tags": [
     "hide-input"
    ]
   },
   "outputs": [],
   "source": [
    "# save simulated missing values for both splits\n",
    "val_pred_simulated_na.to_csv(args.out_preds / f\"pred_val_{args.model_key}.csv\")\n",
    "test_pred_simulated_na.to_csv(args.out_preds / f\"pred_test_{args.model_key}.csv\")"
   ]
  },
  {
   "cell_type": "markdown",
   "id": "42f2c184-e9ef-42be-ae87-7cbf52a0c0b6",
   "metadata": {
    "papermill": {
     "duration": 0.027083,
     "end_time": "2024-06-13T09:31:37.399326",
     "exception": false,
     "start_time": "2024-06-13T09:31:37.372243",
     "status": "completed"
    },
    "tags": []
   },
   "source": [
    "## Config"
   ]
  },
  {
   "cell_type": "code",
   "execution_count": 48,
   "id": "06e433ec",
   "metadata": {
    "execution": {
     "iopub.execute_input": "2024-06-13T09:31:37.454895Z",
     "iopub.status.busy": "2024-06-13T09:31:37.454507Z",
     "iopub.status.idle": "2024-06-13T09:31:37.459839Z",
     "shell.execute_reply": "2024-06-13T09:31:37.459160Z"
    },
    "papermill": {
     "duration": 0.037772,
     "end_time": "2024-06-13T09:31:37.463966",
     "exception": false,
     "start_time": "2024-06-13T09:31:37.426194",
     "status": "completed"
    },
    "tags": [
     "hide-input"
    ]
   },
   "outputs": [
    {
     "data": {
      "text/plain": [
       "{}"
      ]
     },
     "execution_count": 48,
     "metadata": {},
     "output_type": "execute_result"
    }
   ],
   "source": [
    "figures  # switch to fnames?"
   ]
  },
  {
   "cell_type": "code",
   "execution_count": 49,
   "id": "0f13cb38-abf0-4b56-9399-3d11d32f7fbc",
   "metadata": {
    "execution": {
     "iopub.execute_input": "2024-06-13T09:31:37.526119Z",
     "iopub.status.busy": "2024-06-13T09:31:37.525743Z",
     "iopub.status.idle": "2024-06-13T09:31:37.536877Z",
     "shell.execute_reply": "2024-06-13T09:31:37.536173Z"
    },
    "papermill": {
     "duration": 0.044026,
     "end_time": "2024-06-13T09:31:37.538874",
     "exception": false,
     "start_time": "2024-06-13T09:31:37.494848",
     "status": "completed"
    },
    "tags": [
     "hide-input"
    ]
   },
   "outputs": [
    {
     "data": {
      "text/plain": [
       "{'M': 1421,\n",
       " 'batch_size': 64,\n",
       " 'cuda': False,\n",
       " 'data': Path('runs/alzheimer_study/data'),\n",
       " 'epoch_trained': 51,\n",
       " 'epochs_max': 300,\n",
       " 'file_format': 'csv',\n",
       " 'fn_rawfile_metadata': 'https://raw.githubusercontent.com/RasmussenLab/njab/HEAD/docs/tutorial/data/alzheimer/meta.csv',\n",
       " 'folder_data': '',\n",
       " 'folder_experiment': Path('runs/alzheimer_study'),\n",
       " 'hidden_layers': [64],\n",
       " 'latent_dim': 10,\n",
       " 'meta_cat_col': None,\n",
       " 'meta_date_col': None,\n",
       " 'model': 'VAE',\n",
       " 'model_key': 'VAE',\n",
       " 'n_params': 277998,\n",
       " 'out_figures': Path('runs/alzheimer_study/figures'),\n",
       " 'out_folder': Path('runs/alzheimer_study'),\n",
       " 'out_metrics': Path('runs/alzheimer_study'),\n",
       " 'out_models': Path('runs/alzheimer_study'),\n",
       " 'out_preds': Path('runs/alzheimer_study/preds'),\n",
       " 'patience': 50,\n",
       " 'sample_idx_position': 0,\n",
       " 'save_pred_real_na': True}"
      ]
     },
     "execution_count": 49,
     "metadata": {},
     "output_type": "execute_result"
    }
   ],
   "source": [
    "args.dump(fname=args.out_models / f\"model_config_{args.model_key}.yaml\")\n",
    "args"
   ]
  }
 ],
 "metadata": {
  "interpreter": {
   "hash": "cf83e9cb890c7f96eb0ae04f39a82254555f56a1a0ed2f03b23a8b40fe6cd31c"
  },
  "jupytext": {
   "formats": "ipynb,py:percent"
  },
  "kernelspec": {
   "display_name": "Python 3",
   "language": "python",
   "name": "python3"
  },
  "language_info": {
   "codemirror_mode": {
    "name": "ipython",
    "version": 3
   },
   "file_extension": ".py",
   "mimetype": "text/x-python",
   "name": "python",
   "nbconvert_exporter": "python",
   "pygments_lexer": "ipython3",
   "version": "3.8.19"
  },
  "papermill": {
   "default_parameters": {},
   "duration": 23.345136,
   "end_time": "2024-06-13T09:31:38.693861",
   "environment_variables": {},
   "exception": null,
   "input_path": "01_1_train_VAE.ipynb",
   "output_path": "runs/alzheimer_study/01_1_train_VAE.ipynb",
   "parameters": {
    "batch_size": 64,
    "cuda": false,
    "epochs_max": 300,
    "fn_rawfile_metadata": "https://raw.githubusercontent.com/RasmussenLab/njab/HEAD/docs/tutorial/data/alzheimer/meta.csv",
    "folder_experiment": "runs/alzheimer_study",
    "hidden_layers": "64",
    "latent_dim": 10,
    "model": "VAE",
    "model_key": "VAE",
    "sample_idx_position": 0,
    "save_pred_real_na": true
   },
   "start_time": "2024-06-13T09:31:15.348725",
   "version": "2.6.0"
  },
  "toc-autonumbering": true
 },
 "nbformat": 4,
 "nbformat_minor": 5
}