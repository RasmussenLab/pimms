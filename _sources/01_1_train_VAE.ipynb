{
 "cells": [
  {
   "cell_type": "markdown",
   "id": "f0e1208b-9b36-4294-b3fd-910e05a82f2e",
   "metadata": {
    "papermill": {
     "duration": 0.015122,
     "end_time": "2024-11-06T04:04:53.255790",
     "exception": false,
     "start_time": "2024-11-06T04:04:53.240668",
     "status": "completed"
    },
    "tags": []
   },
   "source": [
    "# Variational Autoencoder"
   ]
  },
  {
   "cell_type": "code",
   "execution_count": 1,
   "id": "18b5d571-2956-4112-b22c-43d6c2146b06",
   "metadata": {
    "execution": {
     "iopub.execute_input": "2024-11-06T04:04:53.283091Z",
     "iopub.status.busy": "2024-11-06T04:04:53.282806Z",
     "iopub.status.idle": "2024-11-06T04:04:57.125115Z",
     "shell.execute_reply": "2024-11-06T04:04:57.124520Z"
    },
    "lines_to_next_cell": 2,
    "papermill": {
     "duration": 3.856671,
     "end_time": "2024-11-06T04:04:57.126408",
     "exception": false,
     "start_time": "2024-11-06T04:04:53.269737",
     "status": "completed"
    },
    "tags": [
     "hide-input"
    ]
   },
   "outputs": [
    {
     "name": "stdout",
     "output_type": "stream",
     "text": [
      "pimmslearn - INFO     Experiment 03 - Analysis of latent spaces and performance comparisions\n"
     ]
    }
   ],
   "source": [
    "\n",
    "import logging\n",
    "from functools import partial\n",
    "\n",
    "import pandas as pd\n",
    "import sklearn\n",
    "import torch\n",
    "from fastai import learner\n",
    "from fastai.basics import *\n",
    "from fastai.callback.all import *\n",
    "from fastai.callback.all import EarlyStoppingCallback\n",
    "from fastai.learner import Learner\n",
    "from fastai.torch_basics import *\n",
    "from IPython.display import display\n",
    "from sklearn.impute import SimpleImputer\n",
    "from sklearn.preprocessing import StandardScaler\n",
    "from torch.nn import Sigmoid\n",
    "\n",
    "import pimmslearn\n",
    "import pimmslearn.model\n",
    "import pimmslearn.models as models\n",
    "import pimmslearn.nb\n",
    "from pimmslearn.analyzers import analyzers\n",
    "from pimmslearn.io import datasplits\n",
    "# overwriting Recorder callback with custom plot_loss\n",
    "from pimmslearn.models import ae, plot_loss\n",
    "\n",
    "learner.Recorder.plot_loss = plot_loss\n",
    "\n",
    "\n",
    "logger = pimmslearn.logging.setup_logger(logging.getLogger('pimmslearn'))\n",
    "logger.info(\n",
    "    \"Experiment 03 - Analysis of latent spaces and performance comparisions\")\n",
    "\n",
    "figures = {}  # collection of ax or figures"
   ]
  },
  {
   "cell_type": "code",
   "execution_count": 2,
   "id": "5dbc8d89",
   "metadata": {
    "execution": {
     "iopub.execute_input": "2024-11-06T04:04:57.153883Z",
     "iopub.status.busy": "2024-11-06T04:04:57.153378Z",
     "iopub.status.idle": "2024-11-06T04:04:57.156904Z",
     "shell.execute_reply": "2024-11-06T04:04:57.156343Z"
    },
    "papermill": {
     "duration": 0.018137,
     "end_time": "2024-11-06T04:04:57.158371",
     "exception": false,
     "start_time": "2024-11-06T04:04:57.140234",
     "status": "completed"
    },
    "tags": [
     "hide-input"
    ]
   },
   "outputs": [],
   "source": [
    "# catch passed parameters\n",
    "args = None\n",
    "args = dict(globals()).keys()"
   ]
  },
  {
   "cell_type": "markdown",
   "id": "43f062bb-8d2c-4afa-8a81-9e2a328050fe",
   "metadata": {
    "papermill": {
     "duration": 0.01189,
     "end_time": "2024-11-06T04:04:57.184028",
     "exception": false,
     "start_time": "2024-11-06T04:04:57.172138",
     "status": "completed"
    },
    "tags": []
   },
   "source": [
    "Papermill script parameters:"
   ]
  },
  {
   "cell_type": "code",
   "execution_count": 3,
   "id": "297f14bc-3c37-43fa-8217-f790f0593d78",
   "metadata": {
    "execution": {
     "iopub.execute_input": "2024-11-06T04:04:57.206198Z",
     "iopub.status.busy": "2024-11-06T04:04:57.205922Z",
     "iopub.status.idle": "2024-11-06T04:04:57.210688Z",
     "shell.execute_reply": "2024-11-06T04:04:57.210208Z"
    },
    "papermill": {
     "duration": 0.017248,
     "end_time": "2024-11-06T04:04:57.212002",
     "exception": false,
     "start_time": "2024-11-06T04:04:57.194754",
     "status": "completed"
    },
    "tags": [
     "parameters"
    ]
   },
   "outputs": [],
   "source": [
    "# files and folders\n",
    "# Datasplit folder with data for experiment\n",
    "folder_experiment: str = 'runs/example'\n",
    "folder_data: str = ''  # specify data directory if needed\n",
    "file_format: str = 'csv'  # file format of create splits, default pickle (pkl)\n",
    "# Machine parsed metadata from rawfile workflow\n",
    "fn_rawfile_metadata: str = 'data/dev_datasets/HeLa_6070/files_selected_metadata_N50.csv'\n",
    "# training\n",
    "epochs_max: int = 50  # Maximum number of epochs\n",
    "batch_size: int = 64  # Batch size for training (and evaluation)\n",
    "cuda: bool = True  # Whether to use a GPU for training\n",
    "# model\n",
    "# Dimensionality of encoding dimension (latent space of model)\n",
    "latent_dim: int = 25\n",
    "# A underscore separated string of layers, '256_128' for the encoder, reverse will be use for decoder\n",
    "hidden_layers: str = '256_128'\n",
    "# force_train:bool = True # Force training when saved model could be used. Per default re-train model\n",
    "patience: int = 50  # Patience for early stopping\n",
    "sample_idx_position: int = 0  # position of index which is sample ID\n",
    "model: str = 'VAE'  # model name\n",
    "model_key: str = 'VAE'  # potentially alternative key for model (grid search)\n",
    "save_pred_real_na: bool = True  # Save all predictions for missing values\n",
    "# metadata -> defaults for metadata extracted from machine data\n",
    "meta_date_col: str = None  # date column in meta data\n",
    "meta_cat_col: str = None  # category column in meta data"
   ]
  },
  {
   "cell_type": "code",
   "execution_count": 4,
   "id": "2a509723",
   "metadata": {
    "execution": {
     "iopub.execute_input": "2024-11-06T04:04:57.235002Z",
     "iopub.status.busy": "2024-11-06T04:04:57.234745Z",
     "iopub.status.idle": "2024-11-06T04:04:57.238091Z",
     "shell.execute_reply": "2024-11-06T04:04:57.237578Z"
    },
    "papermill": {
     "duration": 0.016302,
     "end_time": "2024-11-06T04:04:57.239383",
     "exception": false,
     "start_time": "2024-11-06T04:04:57.223081",
     "status": "completed"
    },
    "tags": [
     "injected-parameters"
    ]
   },
   "outputs": [],
   "source": [
    "# Parameters\n",
    "model = \"VAE\"\n",
    "latent_dim = 10\n",
    "batch_size = 64\n",
    "epochs_max = 300\n",
    "hidden_layers = \"64\"\n",
    "sample_idx_position = 0\n",
    "cuda = False\n",
    "save_pred_real_na = True\n",
    "fn_rawfile_metadata = \"https://raw.githubusercontent.com/RasmussenLab/njab/HEAD/docs/tutorial/data/alzheimer/meta.csv\"\n",
    "folder_experiment = \"runs/alzheimer_study\"\n",
    "model_key = \"VAE\"\n"
   ]
  },
  {
   "cell_type": "markdown",
   "id": "1da8e04b-2eb2-4ecb-b1d1-2de871cd0a56",
   "metadata": {
    "lines_to_next_cell": 2,
    "papermill": {
     "duration": 0.010359,
     "end_time": "2024-11-06T04:04:57.261085",
     "exception": false,
     "start_time": "2024-11-06T04:04:57.250726",
     "status": "completed"
    },
    "tags": []
   },
   "source": [
    "Some argument transformations"
   ]
  },
  {
   "cell_type": "code",
   "execution_count": 5,
   "id": "0746e70f-0259-48d5-90ef-25fe4b59f9ac",
   "metadata": {
    "execution": {
     "iopub.execute_input": "2024-11-06T04:04:57.283262Z",
     "iopub.status.busy": "2024-11-06T04:04:57.282997Z",
     "iopub.status.idle": "2024-11-06T04:04:57.290191Z",
     "shell.execute_reply": "2024-11-06T04:04:57.289686Z"
    },
    "papermill": {
     "duration": 0.020625,
     "end_time": "2024-11-06T04:04:57.292454",
     "exception": false,
     "start_time": "2024-11-06T04:04:57.271829",
     "status": "completed"
    },
    "tags": [
     "hide-input"
    ]
   },
   "outputs": [
    {
     "data": {
      "text/plain": [
       "{'folder_experiment': 'runs/alzheimer_study',\n",
       " 'folder_data': '',\n",
       " 'file_format': 'csv',\n",
       " 'fn_rawfile_metadata': 'https://raw.githubusercontent.com/RasmussenLab/njab/HEAD/docs/tutorial/data/alzheimer/meta.csv',\n",
       " 'epochs_max': 300,\n",
       " 'batch_size': 64,\n",
       " 'cuda': False,\n",
       " 'latent_dim': 10,\n",
       " 'hidden_layers': '64',\n",
       " 'patience': 50,\n",
       " 'sample_idx_position': 0,\n",
       " 'model': 'VAE',\n",
       " 'model_key': 'VAE',\n",
       " 'save_pred_real_na': True,\n",
       " 'meta_date_col': None,\n",
       " 'meta_cat_col': None}"
      ]
     },
     "execution_count": 5,
     "metadata": {},
     "output_type": "execute_result"
    }
   ],
   "source": [
    "args = pimmslearn.nb.get_params(args, globals=globals())\n",
    "args"
   ]
  },
  {
   "cell_type": "code",
   "execution_count": 6,
   "id": "8083658b",
   "metadata": {
    "execution": {
     "iopub.execute_input": "2024-11-06T04:04:57.315957Z",
     "iopub.status.busy": "2024-11-06T04:04:57.315708Z",
     "iopub.status.idle": "2024-11-06T04:04:57.320857Z",
     "shell.execute_reply": "2024-11-06T04:04:57.320389Z"
    },
    "lines_to_next_cell": 2,
    "papermill": {
     "duration": 0.018795,
     "end_time": "2024-11-06T04:04:57.322799",
     "exception": false,
     "start_time": "2024-11-06T04:04:57.304004",
     "status": "completed"
    },
    "tags": [
     "hide-input"
    ]
   },
   "outputs": [
    {
     "data": {
      "text/plain": [
       "{'batch_size': 64,\n",
       " 'cuda': False,\n",
       " 'data': Path('runs/alzheimer_study/data'),\n",
       " 'epochs_max': 300,\n",
       " 'file_format': 'csv',\n",
       " 'fn_rawfile_metadata': 'https://raw.githubusercontent.com/RasmussenLab/njab/HEAD/docs/tutorial/data/alzheimer/meta.csv',\n",
       " 'folder_data': '',\n",
       " 'folder_experiment': Path('runs/alzheimer_study'),\n",
       " 'hidden_layers': [64],\n",
       " 'latent_dim': 10,\n",
       " 'meta_cat_col': None,\n",
       " 'meta_date_col': None,\n",
       " 'model': 'VAE',\n",
       " 'model_key': 'VAE',\n",
       " 'out_figures': Path('runs/alzheimer_study/figures'),\n",
       " 'out_folder': Path('runs/alzheimer_study'),\n",
       " 'out_metrics': Path('runs/alzheimer_study'),\n",
       " 'out_models': Path('runs/alzheimer_study'),\n",
       " 'out_preds': Path('runs/alzheimer_study/preds'),\n",
       " 'patience': 50,\n",
       " 'sample_idx_position': 0,\n",
       " 'save_pred_real_na': True}"
      ]
     },
     "execution_count": 6,
     "metadata": {},
     "output_type": "execute_result"
    }
   ],
   "source": [
    "args = pimmslearn.nb.args_from_dict(args)\n",
    "\n",
    "if isinstance(args.hidden_layers, str):\n",
    "    args.overwrite_entry(\"hidden_layers\", [int(x)\n",
    "                         for x in args.hidden_layers.split('_')])\n",
    "else:\n",
    "    raise ValueError(\n",
    "        f\"hidden_layers is of unknown type {type(args.hidden_layers)}\")\n",
    "args"
   ]
  },
  {
   "cell_type": "markdown",
   "id": "3d59f6d8-9cb1-461a-8d62-2ab4458cab60",
   "metadata": {
    "papermill": {
     "duration": 0.011115,
     "end_time": "2024-11-06T04:04:57.345771",
     "exception": false,
     "start_time": "2024-11-06T04:04:57.334656",
     "status": "completed"
    },
    "tags": []
   },
   "source": [
    "Some naming conventions"
   ]
  },
  {
   "cell_type": "code",
   "execution_count": 7,
   "id": "a19fe098-a029-4f71-b7fb-e652a9c16ac7",
   "metadata": {
    "execution": {
     "iopub.execute_input": "2024-11-06T04:04:57.368375Z",
     "iopub.status.busy": "2024-11-06T04:04:57.368112Z",
     "iopub.status.idle": "2024-11-06T04:04:57.371002Z",
     "shell.execute_reply": "2024-11-06T04:04:57.370505Z"
    },
    "papermill": {
     "duration": 0.015758,
     "end_time": "2024-11-06T04:04:57.372312",
     "exception": false,
     "start_time": "2024-11-06T04:04:57.356554",
     "status": "completed"
    },
    "tags": [
     "hide-input"
    ]
   },
   "outputs": [],
   "source": [
    "TEMPLATE_MODEL_PARAMS = 'model_params_{}.json'"
   ]
  },
  {
   "cell_type": "markdown",
   "id": "976cc005-0c5f-4e88-9656-c549e613ca68",
   "metadata": {
    "papermill": {
     "duration": 0.011826,
     "end_time": "2024-11-06T04:04:57.395439",
     "exception": false,
     "start_time": "2024-11-06T04:04:57.383613",
     "status": "completed"
    },
    "tags": []
   },
   "source": [
    "## Load data in long format"
   ]
  },
  {
   "cell_type": "code",
   "execution_count": 8,
   "id": "6d9cc7bd-6b6f-40b9-8db7-c8228e4b03e3",
   "metadata": {
    "execution": {
     "iopub.execute_input": "2024-11-06T04:04:57.419440Z",
     "iopub.status.busy": "2024-11-06T04:04:57.419148Z",
     "iopub.status.idle": "2024-11-06T04:04:57.644596Z",
     "shell.execute_reply": "2024-11-06T04:04:57.644003Z"
    },
    "papermill": {
     "duration": 0.238576,
     "end_time": "2024-11-06T04:04:57.645860",
     "exception": false,
     "start_time": "2024-11-06T04:04:57.407284",
     "status": "completed"
    },
    "tags": [
     "hide-input"
    ]
   },
   "outputs": [
    {
     "name": "stdout",
     "output_type": "stream",
     "text": [
      "pimmslearn.io.datasplits - INFO     Loaded 'train_X' from file: runs/alzheimer_study/data/train_X.csv\n"
     ]
    },
    {
     "name": "stdout",
     "output_type": "stream",
     "text": [
      "pimmslearn.io.datasplits - INFO     Loaded 'val_y' from file: runs/alzheimer_study/data/val_y.csv\n"
     ]
    },
    {
     "name": "stdout",
     "output_type": "stream",
     "text": [
      "pimmslearn.io.datasplits - INFO     Loaded 'test_y' from file: runs/alzheimer_study/data/test_y.csv\n"
     ]
    }
   ],
   "source": [
    "data = datasplits.DataSplits.from_folder(\n",
    "    args.data, file_format=args.file_format)"
   ]
  },
  {
   "cell_type": "markdown",
   "id": "3ca12fc2-bf34-42ac-99b2-a78ff9fe7722",
   "metadata": {
    "papermill": {
     "duration": 0.011688,
     "end_time": "2024-11-06T04:04:57.671475",
     "exception": false,
     "start_time": "2024-11-06T04:04:57.659787",
     "status": "completed"
    },
    "tags": []
   },
   "source": [
    "data is loaded in long format"
   ]
  },
  {
   "cell_type": "code",
   "execution_count": 9,
   "id": "02bb6bf5-0eb1-4c73-9723-414b14eaf7c8",
   "metadata": {
    "execution": {
     "iopub.execute_input": "2024-11-06T04:04:57.694861Z",
     "iopub.status.busy": "2024-11-06T04:04:57.694593Z",
     "iopub.status.idle": "2024-11-06T04:04:57.706312Z",
     "shell.execute_reply": "2024-11-06T04:04:57.705826Z"
    },
    "papermill": {
     "duration": 0.024594,
     "end_time": "2024-11-06T04:04:57.707359",
     "exception": false,
     "start_time": "2024-11-06T04:04:57.682765",
     "status": "completed"
    },
    "tags": [
     "hide-input"
    ]
   },
   "outputs": [
    {
     "data": {
      "text/plain": [
       "Sample ID   protein groups\n",
       "Sample_090  P01717           17.896\n",
       "Sample_138  P43121           18.318\n",
       "Sample_068  Q6UW01           17.400\n",
       "Sample_090  Q02818           17.180\n",
       "Sample_146  Q9UBG0           15.155\n",
       "Name: intensity, dtype: float64"
      ]
     },
     "execution_count": 9,
     "metadata": {},
     "output_type": "execute_result"
    }
   ],
   "source": [
    "data.train_X.sample(5)"
   ]
  },
  {
   "cell_type": "markdown",
   "id": "6045414b",
   "metadata": {
    "papermill": {
     "duration": 0.012501,
     "end_time": "2024-11-06T04:04:57.731603",
     "exception": false,
     "start_time": "2024-11-06T04:04:57.719102",
     "status": "completed"
    },
    "tags": []
   },
   "source": [
    "Infer index names from long format"
   ]
  },
  {
   "cell_type": "code",
   "execution_count": 10,
   "id": "44958473",
   "metadata": {
    "execution": {
     "iopub.execute_input": "2024-11-06T04:04:57.754848Z",
     "iopub.status.busy": "2024-11-06T04:04:57.754538Z",
     "iopub.status.idle": "2024-11-06T04:04:57.759556Z",
     "shell.execute_reply": "2024-11-06T04:04:57.759042Z"
    },
    "papermill": {
     "duration": 0.018729,
     "end_time": "2024-11-06T04:04:57.761389",
     "exception": false,
     "start_time": "2024-11-06T04:04:57.742660",
     "status": "completed"
    },
    "tags": [
     "hide-input"
    ]
   },
   "outputs": [
    {
     "name": "stdout",
     "output_type": "stream",
     "text": [
      "pimmslearn - INFO     sample_id = 'Sample ID', single feature: index_column = 'protein groups'\n"
     ]
    }
   ],
   "source": [
    "index_columns = list(data.train_X.index.names)\n",
    "sample_id = index_columns.pop(args.sample_idx_position)\n",
    "if len(index_columns) == 1:\n",
    "    index_column = index_columns.pop()\n",
    "    index_columns = None\n",
    "    logger.info(f\"{sample_id = }, single feature: {index_column = }\")\n",
    "else:\n",
    "    logger.info(f\"{sample_id = }, multiple features: {index_columns = }\")\n",
    "\n",
    "if not index_columns:\n",
    "    index_columns = [sample_id, index_column]\n",
    "else:\n",
    "    raise NotImplementedError(\n",
    "        \"More than one feature: Needs to be implemented. see above logging output.\")"
   ]
  },
  {
   "cell_type": "markdown",
   "id": "a94ae06d-64dd-4f4f-abde-8485a8c8458e",
   "metadata": {
    "papermill": {
     "duration": 0.012674,
     "end_time": "2024-11-06T04:04:57.786144",
     "exception": false,
     "start_time": "2024-11-06T04:04:57.773470",
     "status": "completed"
    },
    "tags": []
   },
   "source": [
    "load meta data for splits"
   ]
  },
  {
   "cell_type": "code",
   "execution_count": 11,
   "id": "b5b945aa-9b4e-4487-8b09-dca289e64d9d",
   "metadata": {
    "execution": {
     "iopub.execute_input": "2024-11-06T04:04:57.811326Z",
     "iopub.status.busy": "2024-11-06T04:04:57.811018Z",
     "iopub.status.idle": "2024-11-06T04:04:57.873320Z",
     "shell.execute_reply": "2024-11-06T04:04:57.872791Z"
    },
    "papermill": {
     "duration": 0.07672,
     "end_time": "2024-11-06T04:04:57.874278",
     "exception": false,
     "start_time": "2024-11-06T04:04:57.797558",
     "status": "completed"
    },
    "tags": [
     "hide-input"
    ]
   },
   "outputs": [
    {
     "data": {
      "text/html": [
       "<div>\n",
       "<style scoped>\n",
       "    .dataframe tbody tr th:only-of-type {\n",
       "        vertical-align: middle;\n",
       "    }\n",
       "\n",
       "    .dataframe tbody tr th {\n",
       "        vertical-align: top;\n",
       "    }\n",
       "\n",
       "    .dataframe thead th {\n",
       "        text-align: right;\n",
       "    }\n",
       "</style>\n",
       "<table border=\"1\" class=\"dataframe\">\n",
       "  <thead>\n",
       "    <tr style=\"text-align: right;\">\n",
       "      <th></th>\n",
       "      <th>_collection site</th>\n",
       "      <th>_age at CSF collection</th>\n",
       "      <th>_gender</th>\n",
       "      <th>_t-tau [ng/L]</th>\n",
       "      <th>_p-tau [ng/L]</th>\n",
       "      <th>_Abeta-42 [ng/L]</th>\n",
       "      <th>_Abeta-40 [ng/L]</th>\n",
       "      <th>_Abeta-42/Abeta-40 ratio</th>\n",
       "      <th>_primary biochemical AD classification</th>\n",
       "      <th>_clinical AD diagnosis</th>\n",
       "      <th>_MMSE score</th>\n",
       "    </tr>\n",
       "    <tr>\n",
       "      <th>Sample ID</th>\n",
       "      <th></th>\n",
       "      <th></th>\n",
       "      <th></th>\n",
       "      <th></th>\n",
       "      <th></th>\n",
       "      <th></th>\n",
       "      <th></th>\n",
       "      <th></th>\n",
       "      <th></th>\n",
       "      <th></th>\n",
       "      <th></th>\n",
       "    </tr>\n",
       "  </thead>\n",
       "  <tbody>\n",
       "    <tr>\n",
       "      <th>Sample_000</th>\n",
       "      <td>Sweden</td>\n",
       "      <td>71.000</td>\n",
       "      <td>f</td>\n",
       "      <td>703.000</td>\n",
       "      <td>85.000</td>\n",
       "      <td>562.000</td>\n",
       "      <td>NaN</td>\n",
       "      <td>NaN</td>\n",
       "      <td>biochemical control</td>\n",
       "      <td>NaN</td>\n",
       "      <td>NaN</td>\n",
       "    </tr>\n",
       "    <tr>\n",
       "      <th>Sample_001</th>\n",
       "      <td>Sweden</td>\n",
       "      <td>77.000</td>\n",
       "      <td>m</td>\n",
       "      <td>518.000</td>\n",
       "      <td>91.000</td>\n",
       "      <td>334.000</td>\n",
       "      <td>NaN</td>\n",
       "      <td>NaN</td>\n",
       "      <td>biochemical AD</td>\n",
       "      <td>NaN</td>\n",
       "      <td>NaN</td>\n",
       "    </tr>\n",
       "    <tr>\n",
       "      <th>Sample_002</th>\n",
       "      <td>Sweden</td>\n",
       "      <td>75.000</td>\n",
       "      <td>m</td>\n",
       "      <td>974.000</td>\n",
       "      <td>87.000</td>\n",
       "      <td>515.000</td>\n",
       "      <td>NaN</td>\n",
       "      <td>NaN</td>\n",
       "      <td>biochemical AD</td>\n",
       "      <td>NaN</td>\n",
       "      <td>NaN</td>\n",
       "    </tr>\n",
       "    <tr>\n",
       "      <th>Sample_003</th>\n",
       "      <td>Sweden</td>\n",
       "      <td>72.000</td>\n",
       "      <td>f</td>\n",
       "      <td>950.000</td>\n",
       "      <td>109.000</td>\n",
       "      <td>394.000</td>\n",
       "      <td>NaN</td>\n",
       "      <td>NaN</td>\n",
       "      <td>biochemical AD</td>\n",
       "      <td>NaN</td>\n",
       "      <td>NaN</td>\n",
       "    </tr>\n",
       "    <tr>\n",
       "      <th>Sample_004</th>\n",
       "      <td>Sweden</td>\n",
       "      <td>63.000</td>\n",
       "      <td>f</td>\n",
       "      <td>873.000</td>\n",
       "      <td>88.000</td>\n",
       "      <td>234.000</td>\n",
       "      <td>NaN</td>\n",
       "      <td>NaN</td>\n",
       "      <td>biochemical AD</td>\n",
       "      <td>NaN</td>\n",
       "      <td>NaN</td>\n",
       "    </tr>\n",
       "    <tr>\n",
       "      <th>...</th>\n",
       "      <td>...</td>\n",
       "      <td>...</td>\n",
       "      <td>...</td>\n",
       "      <td>...</td>\n",
       "      <td>...</td>\n",
       "      <td>...</td>\n",
       "      <td>...</td>\n",
       "      <td>...</td>\n",
       "      <td>...</td>\n",
       "      <td>...</td>\n",
       "      <td>...</td>\n",
       "    </tr>\n",
       "    <tr>\n",
       "      <th>Sample_205</th>\n",
       "      <td>Berlin</td>\n",
       "      <td>69.000</td>\n",
       "      <td>f</td>\n",
       "      <td>1,945.000</td>\n",
       "      <td>NaN</td>\n",
       "      <td>699.000</td>\n",
       "      <td>12,140.000</td>\n",
       "      <td>0.058</td>\n",
       "      <td>biochemical AD</td>\n",
       "      <td>AD</td>\n",
       "      <td>17.000</td>\n",
       "    </tr>\n",
       "    <tr>\n",
       "      <th>Sample_206</th>\n",
       "      <td>Berlin</td>\n",
       "      <td>73.000</td>\n",
       "      <td>m</td>\n",
       "      <td>299.000</td>\n",
       "      <td>NaN</td>\n",
       "      <td>1,420.000</td>\n",
       "      <td>16,571.000</td>\n",
       "      <td>0.086</td>\n",
       "      <td>biochemical control</td>\n",
       "      <td>non-AD</td>\n",
       "      <td>28.000</td>\n",
       "    </tr>\n",
       "    <tr>\n",
       "      <th>Sample_207</th>\n",
       "      <td>Berlin</td>\n",
       "      <td>71.000</td>\n",
       "      <td>f</td>\n",
       "      <td>262.000</td>\n",
       "      <td>NaN</td>\n",
       "      <td>639.000</td>\n",
       "      <td>9,663.000</td>\n",
       "      <td>0.066</td>\n",
       "      <td>biochemical control</td>\n",
       "      <td>non-AD</td>\n",
       "      <td>28.000</td>\n",
       "    </tr>\n",
       "    <tr>\n",
       "      <th>Sample_208</th>\n",
       "      <td>Berlin</td>\n",
       "      <td>83.000</td>\n",
       "      <td>m</td>\n",
       "      <td>289.000</td>\n",
       "      <td>NaN</td>\n",
       "      <td>1,436.000</td>\n",
       "      <td>11,285.000</td>\n",
       "      <td>0.127</td>\n",
       "      <td>biochemical control</td>\n",
       "      <td>non-AD</td>\n",
       "      <td>24.000</td>\n",
       "    </tr>\n",
       "    <tr>\n",
       "      <th>Sample_209</th>\n",
       "      <td>Berlin</td>\n",
       "      <td>63.000</td>\n",
       "      <td>f</td>\n",
       "      <td>591.000</td>\n",
       "      <td>NaN</td>\n",
       "      <td>1,299.000</td>\n",
       "      <td>11,232.000</td>\n",
       "      <td>0.116</td>\n",
       "      <td>biochemical control</td>\n",
       "      <td>non-AD</td>\n",
       "      <td>29.000</td>\n",
       "    </tr>\n",
       "  </tbody>\n",
       "</table>\n",
       "<p>210 rows × 11 columns</p>\n",
       "</div>"
      ],
      "text/plain": [
       "           _collection site  _age at CSF collection _gender  _t-tau [ng/L]  \\\n",
       "Sample ID                                                                    \n",
       "Sample_000           Sweden                  71.000       f        703.000   \n",
       "Sample_001           Sweden                  77.000       m        518.000   \n",
       "Sample_002           Sweden                  75.000       m        974.000   \n",
       "Sample_003           Sweden                  72.000       f        950.000   \n",
       "Sample_004           Sweden                  63.000       f        873.000   \n",
       "...                     ...                     ...     ...            ...   \n",
       "Sample_205           Berlin                  69.000       f      1,945.000   \n",
       "Sample_206           Berlin                  73.000       m        299.000   \n",
       "Sample_207           Berlin                  71.000       f        262.000   \n",
       "Sample_208           Berlin                  83.000       m        289.000   \n",
       "Sample_209           Berlin                  63.000       f        591.000   \n",
       "\n",
       "            _p-tau [ng/L]  _Abeta-42 [ng/L]  _Abeta-40 [ng/L]  \\\n",
       "Sample ID                                                       \n",
       "Sample_000         85.000           562.000               NaN   \n",
       "Sample_001         91.000           334.000               NaN   \n",
       "Sample_002         87.000           515.000               NaN   \n",
       "Sample_003        109.000           394.000               NaN   \n",
       "Sample_004         88.000           234.000               NaN   \n",
       "...                   ...               ...               ...   \n",
       "Sample_205            NaN           699.000        12,140.000   \n",
       "Sample_206            NaN         1,420.000        16,571.000   \n",
       "Sample_207            NaN           639.000         9,663.000   \n",
       "Sample_208            NaN         1,436.000        11,285.000   \n",
       "Sample_209            NaN         1,299.000        11,232.000   \n",
       "\n",
       "            _Abeta-42/Abeta-40 ratio _primary biochemical AD classification  \\\n",
       "Sample ID                                                                     \n",
       "Sample_000                       NaN                    biochemical control   \n",
       "Sample_001                       NaN                         biochemical AD   \n",
       "Sample_002                       NaN                         biochemical AD   \n",
       "Sample_003                       NaN                         biochemical AD   \n",
       "Sample_004                       NaN                         biochemical AD   \n",
       "...                              ...                                    ...   \n",
       "Sample_205                     0.058                         biochemical AD   \n",
       "Sample_206                     0.086                    biochemical control   \n",
       "Sample_207                     0.066                    biochemical control   \n",
       "Sample_208                     0.127                    biochemical control   \n",
       "Sample_209                     0.116                    biochemical control   \n",
       "\n",
       "           _clinical AD diagnosis  _MMSE score  \n",
       "Sample ID                                       \n",
       "Sample_000                    NaN          NaN  \n",
       "Sample_001                    NaN          NaN  \n",
       "Sample_002                    NaN          NaN  \n",
       "Sample_003                    NaN          NaN  \n",
       "Sample_004                    NaN          NaN  \n",
       "...                           ...          ...  \n",
       "Sample_205                     AD       17.000  \n",
       "Sample_206                 non-AD       28.000  \n",
       "Sample_207                 non-AD       28.000  \n",
       "Sample_208                 non-AD       24.000  \n",
       "Sample_209                 non-AD       29.000  \n",
       "\n",
       "[210 rows x 11 columns]"
      ]
     },
     "metadata": {},
     "output_type": "display_data"
    }
   ],
   "source": [
    "if args.fn_rawfile_metadata:\n",
    "    df_meta = pd.read_csv(args.fn_rawfile_metadata, index_col=0)\n",
    "    display(df_meta.loc[data.train_X.index.levels[0]])\n",
    "else:\n",
    "    df_meta = None"
   ]
  },
  {
   "cell_type": "markdown",
   "id": "a7ef773a-5588-4b11-9bd7-840b628eeaff",
   "metadata": {
    "papermill": {
     "duration": 0.011419,
     "end_time": "2024-11-06T04:04:57.898718",
     "exception": false,
     "start_time": "2024-11-06T04:04:57.887299",
     "status": "completed"
    },
    "tags": []
   },
   "source": [
    "## Initialize Comparison\n",
    "\n",
    "- replicates idea for truely missing values: Define truth as by using n=3 replicates to impute\n",
    "  each sample\n",
    "- real test data:\n",
    "    - Not used for predictions or early stopping.\n",
    "    - [x] add some additional NAs based on distribution of data"
   ]
  },
  {
   "cell_type": "code",
   "execution_count": 12,
   "id": "98f675b6-e619-45b6-8f04-b75237d212a7",
   "metadata": {
    "execution": {
     "iopub.execute_input": "2024-11-06T04:04:57.925301Z",
     "iopub.status.busy": "2024-11-06T04:04:57.924632Z",
     "iopub.status.idle": "2024-11-06T04:04:57.930475Z",
     "shell.execute_reply": "2024-11-06T04:04:57.929985Z"
    },
    "papermill": {
     "duration": 0.021677,
     "end_time": "2024-11-06T04:04:57.932402",
     "exception": false,
     "start_time": "2024-11-06T04:04:57.910725",
     "status": "completed"
    },
    "tags": [
     "hide-input"
    ]
   },
   "outputs": [
    {
     "data": {
      "text/plain": [
       "protein groups\n",
       "A0A024QZX5;A0A087X1N8;P35237                                                     197\n",
       "A0A024R0T9;K7ER74;P02655                                                         208\n",
       "A0A024R3W6;A0A024R412;O60462;O60462-2;O60462-3;O60462-4;O60462-5;Q7LBX6;X5D2Q8   185\n",
       "A0A024R644;A0A0A0MRU5;A0A1B0GWI2;O75503                                          208\n",
       "A0A075B6H7                                                                        97\n",
       "Name: freq, dtype: int64"
      ]
     },
     "execution_count": 12,
     "metadata": {},
     "output_type": "execute_result"
    }
   ],
   "source": [
    "freq_feat = pimmslearn.io.datasplits.load_freq(args.data)\n",
    "freq_feat.head()  # training data"
   ]
  },
  {
   "cell_type": "markdown",
   "id": "e02afb4e-ee91-4753-a118-7fa20fe621c9",
   "metadata": {
    "papermill": {
     "duration": 0.015261,
     "end_time": "2024-11-06T04:04:57.960778",
     "exception": false,
     "start_time": "2024-11-06T04:04:57.945517",
     "status": "completed"
    },
    "tags": []
   },
   "source": [
    "### Produce some addional simulated samples"
   ]
  },
  {
   "cell_type": "markdown",
   "id": "02d5763b-00fe-44ce-9dfa-b6e506045762",
   "metadata": {
    "papermill": {
     "duration": 0.01411,
     "end_time": "2024-11-06T04:04:57.989621",
     "exception": false,
     "start_time": "2024-11-06T04:04:57.975511",
     "status": "completed"
    },
    "tags": []
   },
   "source": [
    "The validation simulated NA is used to by all models to evaluate training performance."
   ]
  },
  {
   "cell_type": "code",
   "execution_count": 13,
   "id": "19eebaff-0e1e-4e44-ae40-12d2f0e75c74",
   "metadata": {
    "execution": {
     "iopub.execute_input": "2024-11-06T04:04:58.018489Z",
     "iopub.status.busy": "2024-11-06T04:04:58.018206Z",
     "iopub.status.idle": "2024-11-06T04:04:58.028247Z",
     "shell.execute_reply": "2024-11-06T04:04:58.027681Z"
    },
    "papermill": {
     "duration": 0.026123,
     "end_time": "2024-11-06T04:04:58.029495",
     "exception": false,
     "start_time": "2024-11-06T04:04:58.003372",
     "status": "completed"
    },
    "tags": [
     "hide-input"
    ]
   },
   "outputs": [
    {
     "data": {
      "text/html": [
       "<div>\n",
       "<style scoped>\n",
       "    .dataframe tbody tr th:only-of-type {\n",
       "        vertical-align: middle;\n",
       "    }\n",
       "\n",
       "    .dataframe tbody tr th {\n",
       "        vertical-align: top;\n",
       "    }\n",
       "\n",
       "    .dataframe thead th {\n",
       "        text-align: right;\n",
       "    }\n",
       "</style>\n",
       "<table border=\"1\" class=\"dataframe\">\n",
       "  <thead>\n",
       "    <tr style=\"text-align: right;\">\n",
       "      <th></th>\n",
       "      <th></th>\n",
       "      <th>observed</th>\n",
       "    </tr>\n",
       "    <tr>\n",
       "      <th>Sample ID</th>\n",
       "      <th>protein groups</th>\n",
       "      <th></th>\n",
       "    </tr>\n",
       "  </thead>\n",
       "  <tbody>\n",
       "    <tr>\n",
       "      <th>Sample_158</th>\n",
       "      <th>Q9UN70;Q9UN70-2</th>\n",
       "      <td>14.630</td>\n",
       "    </tr>\n",
       "    <tr>\n",
       "      <th>Sample_050</th>\n",
       "      <th>Q9Y287</th>\n",
       "      <td>15.755</td>\n",
       "    </tr>\n",
       "    <tr>\n",
       "      <th>Sample_107</th>\n",
       "      <th>Q8N475;Q8N475-2</th>\n",
       "      <td>15.029</td>\n",
       "    </tr>\n",
       "    <tr>\n",
       "      <th>Sample_199</th>\n",
       "      <th>P06307</th>\n",
       "      <td>19.376</td>\n",
       "    </tr>\n",
       "    <tr>\n",
       "      <th>Sample_067</th>\n",
       "      <th>Q5VUB5</th>\n",
       "      <td>15.309</td>\n",
       "    </tr>\n",
       "    <tr>\n",
       "      <th>...</th>\n",
       "      <th>...</th>\n",
       "      <td>...</td>\n",
       "    </tr>\n",
       "    <tr>\n",
       "      <th>Sample_111</th>\n",
       "      <th>F6SYF8;Q9UBP4</th>\n",
       "      <td>22.822</td>\n",
       "    </tr>\n",
       "    <tr>\n",
       "      <th>Sample_002</th>\n",
       "      <th>A0A0A0MT36</th>\n",
       "      <td>18.165</td>\n",
       "    </tr>\n",
       "    <tr>\n",
       "      <th>Sample_049</th>\n",
       "      <th>Q8WY21;Q8WY21-2;Q8WY21-3;Q8WY21-4</th>\n",
       "      <td>15.525</td>\n",
       "    </tr>\n",
       "    <tr>\n",
       "      <th>Sample_182</th>\n",
       "      <th>Q8NFT8</th>\n",
       "      <td>14.379</td>\n",
       "    </tr>\n",
       "    <tr>\n",
       "      <th>Sample_123</th>\n",
       "      <th>Q16853;Q16853-2</th>\n",
       "      <td>14.504</td>\n",
       "    </tr>\n",
       "  </tbody>\n",
       "</table>\n",
       "<p>12600 rows × 1 columns</p>\n",
       "</div>"
      ],
      "text/plain": [
       "                                              observed\n",
       "Sample ID  protein groups                             \n",
       "Sample_158 Q9UN70;Q9UN70-2                      14.630\n",
       "Sample_050 Q9Y287                               15.755\n",
       "Sample_107 Q8N475;Q8N475-2                      15.029\n",
       "Sample_199 P06307                               19.376\n",
       "Sample_067 Q5VUB5                               15.309\n",
       "...                                                ...\n",
       "Sample_111 F6SYF8;Q9UBP4                        22.822\n",
       "Sample_002 A0A0A0MT36                           18.165\n",
       "Sample_049 Q8WY21;Q8WY21-2;Q8WY21-3;Q8WY21-4    15.525\n",
       "Sample_182 Q8NFT8                               14.379\n",
       "Sample_123 Q16853;Q16853-2                      14.504\n",
       "\n",
       "[12600 rows x 1 columns]"
      ]
     },
     "execution_count": 13,
     "metadata": {},
     "output_type": "execute_result"
    }
   ],
   "source": [
    "val_pred_simulated_na = data.val_y.to_frame(name='observed')\n",
    "val_pred_simulated_na"
   ]
  },
  {
   "cell_type": "code",
   "execution_count": 14,
   "id": "3797a539-84d9-430a-8d16-7cc0eebfe9f5",
   "metadata": {
    "execution": {
     "iopub.execute_input": "2024-11-06T04:04:58.059575Z",
     "iopub.status.busy": "2024-11-06T04:04:58.059288Z",
     "iopub.status.idle": "2024-11-06T04:04:58.069546Z",
     "shell.execute_reply": "2024-11-06T04:04:58.069012Z"
    },
    "lines_to_next_cell": 2,
    "papermill": {
     "duration": 0.026348,
     "end_time": "2024-11-06T04:04:58.070607",
     "exception": false,
     "start_time": "2024-11-06T04:04:58.044259",
     "status": "completed"
    },
    "tags": [
     "hide-input"
    ]
   },
   "outputs": [
    {
     "data": {
      "text/html": [
       "<div>\n",
       "<style scoped>\n",
       "    .dataframe tbody tr th:only-of-type {\n",
       "        vertical-align: middle;\n",
       "    }\n",
       "\n",
       "    .dataframe tbody tr th {\n",
       "        vertical-align: top;\n",
       "    }\n",
       "\n",
       "    .dataframe thead th {\n",
       "        text-align: right;\n",
       "    }\n",
       "</style>\n",
       "<table border=\"1\" class=\"dataframe\">\n",
       "  <thead>\n",
       "    <tr style=\"text-align: right;\">\n",
       "      <th></th>\n",
       "      <th>observed</th>\n",
       "    </tr>\n",
       "  </thead>\n",
       "  <tbody>\n",
       "    <tr>\n",
       "      <th>count</th>\n",
       "      <td>12,600.000</td>\n",
       "    </tr>\n",
       "    <tr>\n",
       "      <th>mean</th>\n",
       "      <td>16.339</td>\n",
       "    </tr>\n",
       "    <tr>\n",
       "      <th>std</th>\n",
       "      <td>2.741</td>\n",
       "    </tr>\n",
       "    <tr>\n",
       "      <th>min</th>\n",
       "      <td>7.209</td>\n",
       "    </tr>\n",
       "    <tr>\n",
       "      <th>25%</th>\n",
       "      <td>14.412</td>\n",
       "    </tr>\n",
       "    <tr>\n",
       "      <th>50%</th>\n",
       "      <td>15.935</td>\n",
       "    </tr>\n",
       "    <tr>\n",
       "      <th>75%</th>\n",
       "      <td>17.910</td>\n",
       "    </tr>\n",
       "    <tr>\n",
       "      <th>max</th>\n",
       "      <td>30.140</td>\n",
       "    </tr>\n",
       "  </tbody>\n",
       "</table>\n",
       "</div>"
      ],
      "text/plain": [
       "        observed\n",
       "count 12,600.000\n",
       "mean      16.339\n",
       "std        2.741\n",
       "min        7.209\n",
       "25%       14.412\n",
       "50%       15.935\n",
       "75%       17.910\n",
       "max       30.140"
      ]
     },
     "execution_count": 14,
     "metadata": {},
     "output_type": "execute_result"
    }
   ],
   "source": [
    "test_pred_simulated_na = data.test_y.to_frame(name='observed')\n",
    "test_pred_simulated_na.describe()"
   ]
  },
  {
   "cell_type": "markdown",
   "id": "49eced7a-6cd7-414e-b974-4bd1dbe3a787",
   "metadata": {
    "papermill": {
     "duration": 0.012736,
     "end_time": "2024-11-06T04:04:58.096368",
     "exception": false,
     "start_time": "2024-11-06T04:04:58.083632",
     "status": "completed"
    },
    "tags": []
   },
   "source": [
    "## Data in wide format\n",
    "\n",
    "- Autoencoder need data in wide format"
   ]
  },
  {
   "cell_type": "code",
   "execution_count": 15,
   "id": "cff8caf4-ccc9-4a36-a992-2cc596abe51a",
   "metadata": {
    "execution": {
     "iopub.execute_input": "2024-11-06T04:04:58.122961Z",
     "iopub.status.busy": "2024-11-06T04:04:58.122715Z",
     "iopub.status.idle": "2024-11-06T04:04:58.162172Z",
     "shell.execute_reply": "2024-11-06T04:04:58.161577Z"
    },
    "papermill": {
     "duration": 0.054182,
     "end_time": "2024-11-06T04:04:58.163380",
     "exception": false,
     "start_time": "2024-11-06T04:04:58.109198",
     "status": "completed"
    },
    "tags": [
     "hide-input"
    ]
   },
   "outputs": [
    {
     "data": {
      "text/html": [
       "<div>\n",
       "<style scoped>\n",
       "    .dataframe tbody tr th:only-of-type {\n",
       "        vertical-align: middle;\n",
       "    }\n",
       "\n",
       "    .dataframe tbody tr th {\n",
       "        vertical-align: top;\n",
       "    }\n",
       "\n",
       "    .dataframe thead th {\n",
       "        text-align: right;\n",
       "    }\n",
       "</style>\n",
       "<table border=\"1\" class=\"dataframe\">\n",
       "  <thead>\n",
       "    <tr style=\"text-align: right;\">\n",
       "      <th>protein groups</th>\n",
       "      <th>A0A024QZX5;A0A087X1N8;P35237</th>\n",
       "      <th>A0A024R0T9;K7ER74;P02655</th>\n",
       "      <th>A0A024R3W6;A0A024R412;O60462;O60462-2;O60462-3;O60462-4;O60462-5;Q7LBX6;X5D2Q8</th>\n",
       "      <th>A0A024R644;A0A0A0MRU5;A0A1B0GWI2;O75503</th>\n",
       "      <th>A0A075B6H7</th>\n",
       "      <th>A0A075B6H9</th>\n",
       "      <th>A0A075B6I0</th>\n",
       "      <th>A0A075B6I1</th>\n",
       "      <th>A0A075B6I6</th>\n",
       "      <th>A0A075B6I9</th>\n",
       "      <th>...</th>\n",
       "      <th>Q9Y653;Q9Y653-2;Q9Y653-3</th>\n",
       "      <th>Q9Y696</th>\n",
       "      <th>Q9Y6C2</th>\n",
       "      <th>Q9Y6N6</th>\n",
       "      <th>Q9Y6N7;Q9Y6N7-2;Q9Y6N7-4</th>\n",
       "      <th>Q9Y6R7</th>\n",
       "      <th>Q9Y6X5</th>\n",
       "      <th>Q9Y6Y8;Q9Y6Y8-2</th>\n",
       "      <th>Q9Y6Y9</th>\n",
       "      <th>S4R3U6</th>\n",
       "    </tr>\n",
       "    <tr>\n",
       "      <th>Sample ID</th>\n",
       "      <th></th>\n",
       "      <th></th>\n",
       "      <th></th>\n",
       "      <th></th>\n",
       "      <th></th>\n",
       "      <th></th>\n",
       "      <th></th>\n",
       "      <th></th>\n",
       "      <th></th>\n",
       "      <th></th>\n",
       "      <th></th>\n",
       "      <th></th>\n",
       "      <th></th>\n",
       "      <th></th>\n",
       "      <th></th>\n",
       "      <th></th>\n",
       "      <th></th>\n",
       "      <th></th>\n",
       "      <th></th>\n",
       "      <th></th>\n",
       "      <th></th>\n",
       "    </tr>\n",
       "  </thead>\n",
       "  <tbody>\n",
       "    <tr>\n",
       "      <th>Sample_000</th>\n",
       "      <td>15.912</td>\n",
       "      <td>16.852</td>\n",
       "      <td>15.570</td>\n",
       "      <td>16.481</td>\n",
       "      <td>17.301</td>\n",
       "      <td>20.246</td>\n",
       "      <td>16.764</td>\n",
       "      <td>17.584</td>\n",
       "      <td>16.988</td>\n",
       "      <td>20.054</td>\n",
       "      <td>...</td>\n",
       "      <td>16.012</td>\n",
       "      <td>15.178</td>\n",
       "      <td>NaN</td>\n",
       "      <td>15.050</td>\n",
       "      <td>16.842</td>\n",
       "      <td>NaN</td>\n",
       "      <td>NaN</td>\n",
       "      <td>19.563</td>\n",
       "      <td>NaN</td>\n",
       "      <td>12.805</td>\n",
       "    </tr>\n",
       "    <tr>\n",
       "      <th>Sample_001</th>\n",
       "      <td>NaN</td>\n",
       "      <td>16.874</td>\n",
       "      <td>15.519</td>\n",
       "      <td>16.387</td>\n",
       "      <td>NaN</td>\n",
       "      <td>19.941</td>\n",
       "      <td>18.786</td>\n",
       "      <td>17.144</td>\n",
       "      <td>NaN</td>\n",
       "      <td>19.067</td>\n",
       "      <td>...</td>\n",
       "      <td>15.528</td>\n",
       "      <td>15.576</td>\n",
       "      <td>NaN</td>\n",
       "      <td>14.833</td>\n",
       "      <td>16.597</td>\n",
       "      <td>20.299</td>\n",
       "      <td>15.556</td>\n",
       "      <td>19.386</td>\n",
       "      <td>13.970</td>\n",
       "      <td>12.442</td>\n",
       "    </tr>\n",
       "    <tr>\n",
       "      <th>Sample_002</th>\n",
       "      <td>16.111</td>\n",
       "      <td>NaN</td>\n",
       "      <td>15.935</td>\n",
       "      <td>16.416</td>\n",
       "      <td>18.175</td>\n",
       "      <td>19.251</td>\n",
       "      <td>16.832</td>\n",
       "      <td>15.671</td>\n",
       "      <td>17.012</td>\n",
       "      <td>18.569</td>\n",
       "      <td>...</td>\n",
       "      <td>15.229</td>\n",
       "      <td>14.728</td>\n",
       "      <td>13.757</td>\n",
       "      <td>15.118</td>\n",
       "      <td>17.440</td>\n",
       "      <td>19.598</td>\n",
       "      <td>15.735</td>\n",
       "      <td>20.447</td>\n",
       "      <td>12.636</td>\n",
       "      <td>12.505</td>\n",
       "    </tr>\n",
       "    <tr>\n",
       "      <th>Sample_003</th>\n",
       "      <td>16.107</td>\n",
       "      <td>17.032</td>\n",
       "      <td>15.802</td>\n",
       "      <td>16.979</td>\n",
       "      <td>15.963</td>\n",
       "      <td>19.628</td>\n",
       "      <td>17.852</td>\n",
       "      <td>18.877</td>\n",
       "      <td>14.182</td>\n",
       "      <td>18.985</td>\n",
       "      <td>...</td>\n",
       "      <td>15.495</td>\n",
       "      <td>14.590</td>\n",
       "      <td>14.682</td>\n",
       "      <td>15.140</td>\n",
       "      <td>17.356</td>\n",
       "      <td>19.429</td>\n",
       "      <td>NaN</td>\n",
       "      <td>20.216</td>\n",
       "      <td>NaN</td>\n",
       "      <td>12.445</td>\n",
       "    </tr>\n",
       "    <tr>\n",
       "      <th>Sample_004</th>\n",
       "      <td>15.603</td>\n",
       "      <td>15.331</td>\n",
       "      <td>15.375</td>\n",
       "      <td>16.679</td>\n",
       "      <td>NaN</td>\n",
       "      <td>20.450</td>\n",
       "      <td>18.682</td>\n",
       "      <td>17.081</td>\n",
       "      <td>14.140</td>\n",
       "      <td>19.686</td>\n",
       "      <td>...</td>\n",
       "      <td>14.757</td>\n",
       "      <td>NaN</td>\n",
       "      <td>NaN</td>\n",
       "      <td>15.256</td>\n",
       "      <td>17.075</td>\n",
       "      <td>19.582</td>\n",
       "      <td>15.328</td>\n",
       "      <td>NaN</td>\n",
       "      <td>13.145</td>\n",
       "      <td>NaN</td>\n",
       "    </tr>\n",
       "  </tbody>\n",
       "</table>\n",
       "<p>5 rows × 1421 columns</p>\n",
       "</div>"
      ],
      "text/plain": [
       "protein groups  A0A024QZX5;A0A087X1N8;P35237  A0A024R0T9;K7ER74;P02655  \\\n",
       "Sample ID                                                                \n",
       "Sample_000                            15.912                    16.852   \n",
       "Sample_001                               NaN                    16.874   \n",
       "Sample_002                            16.111                       NaN   \n",
       "Sample_003                            16.107                    17.032   \n",
       "Sample_004                            15.603                    15.331   \n",
       "\n",
       "protein groups  A0A024R3W6;A0A024R412;O60462;O60462-2;O60462-3;O60462-4;O60462-5;Q7LBX6;X5D2Q8  \\\n",
       "Sample ID                                                                                        \n",
       "Sample_000                                                                              15.570   \n",
       "Sample_001                                                                              15.519   \n",
       "Sample_002                                                                              15.935   \n",
       "Sample_003                                                                              15.802   \n",
       "Sample_004                                                                              15.375   \n",
       "\n",
       "protein groups  A0A024R644;A0A0A0MRU5;A0A1B0GWI2;O75503  A0A075B6H7  \\\n",
       "Sample ID                                                             \n",
       "Sample_000                                       16.481      17.301   \n",
       "Sample_001                                       16.387         NaN   \n",
       "Sample_002                                       16.416      18.175   \n",
       "Sample_003                                       16.979      15.963   \n",
       "Sample_004                                       16.679         NaN   \n",
       "\n",
       "protein groups  A0A075B6H9  A0A075B6I0  A0A075B6I1  A0A075B6I6  A0A075B6I9  \\\n",
       "Sample ID                                                                    \n",
       "Sample_000          20.246      16.764      17.584      16.988      20.054   \n",
       "Sample_001          19.941      18.786      17.144         NaN      19.067   \n",
       "Sample_002          19.251      16.832      15.671      17.012      18.569   \n",
       "Sample_003          19.628      17.852      18.877      14.182      18.985   \n",
       "Sample_004          20.450      18.682      17.081      14.140      19.686   \n",
       "\n",
       "protein groups  ...  Q9Y653;Q9Y653-2;Q9Y653-3  Q9Y696  Q9Y6C2  Q9Y6N6  \\\n",
       "Sample ID       ...                                                     \n",
       "Sample_000      ...                    16.012  15.178     NaN  15.050   \n",
       "Sample_001      ...                    15.528  15.576     NaN  14.833   \n",
       "Sample_002      ...                    15.229  14.728  13.757  15.118   \n",
       "Sample_003      ...                    15.495  14.590  14.682  15.140   \n",
       "Sample_004      ...                    14.757     NaN     NaN  15.256   \n",
       "\n",
       "protein groups  Q9Y6N7;Q9Y6N7-2;Q9Y6N7-4  Q9Y6R7  Q9Y6X5  Q9Y6Y8;Q9Y6Y8-2  \\\n",
       "Sample ID                                                                   \n",
       "Sample_000                        16.842     NaN     NaN           19.563   \n",
       "Sample_001                        16.597  20.299  15.556           19.386   \n",
       "Sample_002                        17.440  19.598  15.735           20.447   \n",
       "Sample_003                        17.356  19.429     NaN           20.216   \n",
       "Sample_004                        17.075  19.582  15.328              NaN   \n",
       "\n",
       "protein groups  Q9Y6Y9  S4R3U6  \n",
       "Sample ID                       \n",
       "Sample_000         NaN  12.805  \n",
       "Sample_001      13.970  12.442  \n",
       "Sample_002      12.636  12.505  \n",
       "Sample_003         NaN  12.445  \n",
       "Sample_004      13.145     NaN  \n",
       "\n",
       "[5 rows x 1421 columns]"
      ]
     },
     "execution_count": 15,
     "metadata": {},
     "output_type": "execute_result"
    }
   ],
   "source": [
    "data.to_wide_format()\n",
    "args.M = data.train_X.shape[-1]\n",
    "data.train_X.head()"
   ]
  },
  {
   "cell_type": "markdown",
   "id": "5cc46767-49c9-487e-bf2d-19aacc9114c3",
   "metadata": {
    "papermill": {
     "duration": 0.015434,
     "end_time": "2024-11-06T04:04:58.195138",
     "exception": false,
     "start_time": "2024-11-06T04:04:58.179704",
     "status": "completed"
    },
    "tags": []
   },
   "source": [
    "### Add interpolation performance"
   ]
  },
  {
   "cell_type": "markdown",
   "id": "21681578-dfc5-4f3c-ac7d-a0758ed5417b",
   "metadata": {
    "papermill": {
     "duration": 0.015735,
     "end_time": "2024-11-06T04:04:58.226604",
     "exception": false,
     "start_time": "2024-11-06T04:04:58.210869",
     "status": "completed"
    },
    "tags": []
   },
   "source": [
    "### Fill Validation data with potentially missing features"
   ]
  },
  {
   "cell_type": "code",
   "execution_count": 16,
   "id": "7952fe13",
   "metadata": {
    "execution": {
     "iopub.execute_input": "2024-11-06T04:04:58.259327Z",
     "iopub.status.busy": "2024-11-06T04:04:58.259041Z",
     "iopub.status.idle": "2024-11-06T04:04:58.280189Z",
     "shell.execute_reply": "2024-11-06T04:04:58.279587Z"
    },
    "papermill": {
     "duration": 0.039206,
     "end_time": "2024-11-06T04:04:58.281499",
     "exception": false,
     "start_time": "2024-11-06T04:04:58.242293",
     "status": "completed"
    },
    "tags": [
     "hide-input"
    ]
   },
   "outputs": [
    {
     "data": {
      "text/html": [
       "<div>\n",
       "<style scoped>\n",
       "    .dataframe tbody tr th:only-of-type {\n",
       "        vertical-align: middle;\n",
       "    }\n",
       "\n",
       "    .dataframe tbody tr th {\n",
       "        vertical-align: top;\n",
       "    }\n",
       "\n",
       "    .dataframe thead th {\n",
       "        text-align: right;\n",
       "    }\n",
       "</style>\n",
       "<table border=\"1\" class=\"dataframe\">\n",
       "  <thead>\n",
       "    <tr style=\"text-align: right;\">\n",
       "      <th>protein groups</th>\n",
       "      <th>A0A024QZX5;A0A087X1N8;P35237</th>\n",
       "      <th>A0A024R0T9;K7ER74;P02655</th>\n",
       "      <th>A0A024R3W6;A0A024R412;O60462;O60462-2;O60462-3;O60462-4;O60462-5;Q7LBX6;X5D2Q8</th>\n",
       "      <th>A0A024R644;A0A0A0MRU5;A0A1B0GWI2;O75503</th>\n",
       "      <th>A0A075B6H7</th>\n",
       "      <th>A0A075B6H9</th>\n",
       "      <th>A0A075B6I0</th>\n",
       "      <th>A0A075B6I1</th>\n",
       "      <th>A0A075B6I6</th>\n",
       "      <th>A0A075B6I9</th>\n",
       "      <th>...</th>\n",
       "      <th>Q9Y653;Q9Y653-2;Q9Y653-3</th>\n",
       "      <th>Q9Y696</th>\n",
       "      <th>Q9Y6C2</th>\n",
       "      <th>Q9Y6N6</th>\n",
       "      <th>Q9Y6N7;Q9Y6N7-2;Q9Y6N7-4</th>\n",
       "      <th>Q9Y6R7</th>\n",
       "      <th>Q9Y6X5</th>\n",
       "      <th>Q9Y6Y8;Q9Y6Y8-2</th>\n",
       "      <th>Q9Y6Y9</th>\n",
       "      <th>S4R3U6</th>\n",
       "    </tr>\n",
       "    <tr>\n",
       "      <th>Sample ID</th>\n",
       "      <th></th>\n",
       "      <th></th>\n",
       "      <th></th>\n",
       "      <th></th>\n",
       "      <th></th>\n",
       "      <th></th>\n",
       "      <th></th>\n",
       "      <th></th>\n",
       "      <th></th>\n",
       "      <th></th>\n",
       "      <th></th>\n",
       "      <th></th>\n",
       "      <th></th>\n",
       "      <th></th>\n",
       "      <th></th>\n",
       "      <th></th>\n",
       "      <th></th>\n",
       "      <th></th>\n",
       "      <th></th>\n",
       "      <th></th>\n",
       "      <th></th>\n",
       "    </tr>\n",
       "  </thead>\n",
       "  <tbody>\n",
       "    <tr>\n",
       "      <th>Sample_000</th>\n",
       "      <td>15.912</td>\n",
       "      <td>16.852</td>\n",
       "      <td>15.570</td>\n",
       "      <td>16.481</td>\n",
       "      <td>17.301</td>\n",
       "      <td>20.246</td>\n",
       "      <td>16.764</td>\n",
       "      <td>17.584</td>\n",
       "      <td>16.988</td>\n",
       "      <td>20.054</td>\n",
       "      <td>...</td>\n",
       "      <td>16.012</td>\n",
       "      <td>15.178</td>\n",
       "      <td>NaN</td>\n",
       "      <td>15.050</td>\n",
       "      <td>16.842</td>\n",
       "      <td>NaN</td>\n",
       "      <td>NaN</td>\n",
       "      <td>19.563</td>\n",
       "      <td>NaN</td>\n",
       "      <td>12.805</td>\n",
       "    </tr>\n",
       "    <tr>\n",
       "      <th>Sample_001</th>\n",
       "      <td>NaN</td>\n",
       "      <td>16.874</td>\n",
       "      <td>15.519</td>\n",
       "      <td>16.387</td>\n",
       "      <td>NaN</td>\n",
       "      <td>19.941</td>\n",
       "      <td>18.786</td>\n",
       "      <td>17.144</td>\n",
       "      <td>NaN</td>\n",
       "      <td>19.067</td>\n",
       "      <td>...</td>\n",
       "      <td>15.528</td>\n",
       "      <td>15.576</td>\n",
       "      <td>NaN</td>\n",
       "      <td>14.833</td>\n",
       "      <td>16.597</td>\n",
       "      <td>20.299</td>\n",
       "      <td>15.556</td>\n",
       "      <td>19.386</td>\n",
       "      <td>13.970</td>\n",
       "      <td>12.442</td>\n",
       "    </tr>\n",
       "    <tr>\n",
       "      <th>Sample_002</th>\n",
       "      <td>16.111</td>\n",
       "      <td>NaN</td>\n",
       "      <td>15.935</td>\n",
       "      <td>16.416</td>\n",
       "      <td>18.175</td>\n",
       "      <td>19.251</td>\n",
       "      <td>16.832</td>\n",
       "      <td>15.671</td>\n",
       "      <td>17.012</td>\n",
       "      <td>18.569</td>\n",
       "      <td>...</td>\n",
       "      <td>15.229</td>\n",
       "      <td>14.728</td>\n",
       "      <td>13.757</td>\n",
       "      <td>15.118</td>\n",
       "      <td>17.440</td>\n",
       "      <td>19.598</td>\n",
       "      <td>15.735</td>\n",
       "      <td>20.447</td>\n",
       "      <td>12.636</td>\n",
       "      <td>12.505</td>\n",
       "    </tr>\n",
       "    <tr>\n",
       "      <th>Sample_003</th>\n",
       "      <td>16.107</td>\n",
       "      <td>17.032</td>\n",
       "      <td>15.802</td>\n",
       "      <td>16.979</td>\n",
       "      <td>15.963</td>\n",
       "      <td>19.628</td>\n",
       "      <td>17.852</td>\n",
       "      <td>18.877</td>\n",
       "      <td>14.182</td>\n",
       "      <td>18.985</td>\n",
       "      <td>...</td>\n",
       "      <td>15.495</td>\n",
       "      <td>14.590</td>\n",
       "      <td>14.682</td>\n",
       "      <td>15.140</td>\n",
       "      <td>17.356</td>\n",
       "      <td>19.429</td>\n",
       "      <td>NaN</td>\n",
       "      <td>20.216</td>\n",
       "      <td>NaN</td>\n",
       "      <td>12.445</td>\n",
       "    </tr>\n",
       "    <tr>\n",
       "      <th>Sample_004</th>\n",
       "      <td>15.603</td>\n",
       "      <td>15.331</td>\n",
       "      <td>15.375</td>\n",
       "      <td>16.679</td>\n",
       "      <td>NaN</td>\n",
       "      <td>20.450</td>\n",
       "      <td>18.682</td>\n",
       "      <td>17.081</td>\n",
       "      <td>14.140</td>\n",
       "      <td>19.686</td>\n",
       "      <td>...</td>\n",
       "      <td>14.757</td>\n",
       "      <td>NaN</td>\n",
       "      <td>NaN</td>\n",
       "      <td>15.256</td>\n",
       "      <td>17.075</td>\n",
       "      <td>19.582</td>\n",
       "      <td>15.328</td>\n",
       "      <td>NaN</td>\n",
       "      <td>13.145</td>\n",
       "      <td>NaN</td>\n",
       "    </tr>\n",
       "    <tr>\n",
       "      <th>...</th>\n",
       "      <td>...</td>\n",
       "      <td>...</td>\n",
       "      <td>...</td>\n",
       "      <td>...</td>\n",
       "      <td>...</td>\n",
       "      <td>...</td>\n",
       "      <td>...</td>\n",
       "      <td>...</td>\n",
       "      <td>...</td>\n",
       "      <td>...</td>\n",
       "      <td>...</td>\n",
       "      <td>...</td>\n",
       "      <td>...</td>\n",
       "      <td>...</td>\n",
       "      <td>...</td>\n",
       "      <td>...</td>\n",
       "      <td>...</td>\n",
       "      <td>...</td>\n",
       "      <td>...</td>\n",
       "      <td>...</td>\n",
       "      <td>...</td>\n",
       "    </tr>\n",
       "    <tr>\n",
       "      <th>Sample_205</th>\n",
       "      <td>15.682</td>\n",
       "      <td>16.886</td>\n",
       "      <td>14.910</td>\n",
       "      <td>16.482</td>\n",
       "      <td>NaN</td>\n",
       "      <td>17.705</td>\n",
       "      <td>17.039</td>\n",
       "      <td>NaN</td>\n",
       "      <td>16.413</td>\n",
       "      <td>19.102</td>\n",
       "      <td>...</td>\n",
       "      <td>NaN</td>\n",
       "      <td>15.684</td>\n",
       "      <td>14.236</td>\n",
       "      <td>15.415</td>\n",
       "      <td>17.551</td>\n",
       "      <td>17.922</td>\n",
       "      <td>16.340</td>\n",
       "      <td>19.928</td>\n",
       "      <td>12.929</td>\n",
       "      <td>NaN</td>\n",
       "    </tr>\n",
       "    <tr>\n",
       "      <th>Sample_206</th>\n",
       "      <td>15.798</td>\n",
       "      <td>17.554</td>\n",
       "      <td>15.600</td>\n",
       "      <td>15.938</td>\n",
       "      <td>NaN</td>\n",
       "      <td>18.154</td>\n",
       "      <td>18.152</td>\n",
       "      <td>16.503</td>\n",
       "      <td>16.860</td>\n",
       "      <td>18.538</td>\n",
       "      <td>...</td>\n",
       "      <td>15.422</td>\n",
       "      <td>16.106</td>\n",
       "      <td>NaN</td>\n",
       "      <td>15.345</td>\n",
       "      <td>17.084</td>\n",
       "      <td>18.708</td>\n",
       "      <td>NaN</td>\n",
       "      <td>19.433</td>\n",
       "      <td>NaN</td>\n",
       "      <td>NaN</td>\n",
       "    </tr>\n",
       "    <tr>\n",
       "      <th>Sample_207</th>\n",
       "      <td>15.739</td>\n",
       "      <td>NaN</td>\n",
       "      <td>15.469</td>\n",
       "      <td>16.898</td>\n",
       "      <td>NaN</td>\n",
       "      <td>18.636</td>\n",
       "      <td>17.950</td>\n",
       "      <td>16.321</td>\n",
       "      <td>16.401</td>\n",
       "      <td>18.849</td>\n",
       "      <td>...</td>\n",
       "      <td>15.808</td>\n",
       "      <td>16.098</td>\n",
       "      <td>14.403</td>\n",
       "      <td>15.715</td>\n",
       "      <td>NaN</td>\n",
       "      <td>18.725</td>\n",
       "      <td>16.138</td>\n",
       "      <td>19.599</td>\n",
       "      <td>13.637</td>\n",
       "      <td>11.174</td>\n",
       "    </tr>\n",
       "    <tr>\n",
       "      <th>Sample_208</th>\n",
       "      <td>15.477</td>\n",
       "      <td>16.779</td>\n",
       "      <td>14.995</td>\n",
       "      <td>16.132</td>\n",
       "      <td>NaN</td>\n",
       "      <td>14.908</td>\n",
       "      <td>NaN</td>\n",
       "      <td>NaN</td>\n",
       "      <td>16.119</td>\n",
       "      <td>18.368</td>\n",
       "      <td>...</td>\n",
       "      <td>15.157</td>\n",
       "      <td>16.712</td>\n",
       "      <td>NaN</td>\n",
       "      <td>14.640</td>\n",
       "      <td>16.533</td>\n",
       "      <td>19.411</td>\n",
       "      <td>15.807</td>\n",
       "      <td>19.545</td>\n",
       "      <td>NaN</td>\n",
       "      <td>NaN</td>\n",
       "    </tr>\n",
       "    <tr>\n",
       "      <th>Sample_209</th>\n",
       "      <td>NaN</td>\n",
       "      <td>17.261</td>\n",
       "      <td>15.175</td>\n",
       "      <td>16.235</td>\n",
       "      <td>NaN</td>\n",
       "      <td>17.893</td>\n",
       "      <td>17.744</td>\n",
       "      <td>16.371</td>\n",
       "      <td>15.780</td>\n",
       "      <td>18.806</td>\n",
       "      <td>...</td>\n",
       "      <td>15.237</td>\n",
       "      <td>15.652</td>\n",
       "      <td>15.211</td>\n",
       "      <td>14.205</td>\n",
       "      <td>16.749</td>\n",
       "      <td>19.275</td>\n",
       "      <td>15.732</td>\n",
       "      <td>19.577</td>\n",
       "      <td>11.042</td>\n",
       "      <td>11.791</td>\n",
       "    </tr>\n",
       "  </tbody>\n",
       "</table>\n",
       "<p>210 rows × 1421 columns</p>\n",
       "</div>"
      ],
      "text/plain": [
       "protein groups  A0A024QZX5;A0A087X1N8;P35237  A0A024R0T9;K7ER74;P02655  \\\n",
       "Sample ID                                                                \n",
       "Sample_000                            15.912                    16.852   \n",
       "Sample_001                               NaN                    16.874   \n",
       "Sample_002                            16.111                       NaN   \n",
       "Sample_003                            16.107                    17.032   \n",
       "Sample_004                            15.603                    15.331   \n",
       "...                                      ...                       ...   \n",
       "Sample_205                            15.682                    16.886   \n",
       "Sample_206                            15.798                    17.554   \n",
       "Sample_207                            15.739                       NaN   \n",
       "Sample_208                            15.477                    16.779   \n",
       "Sample_209                               NaN                    17.261   \n",
       "\n",
       "protein groups  A0A024R3W6;A0A024R412;O60462;O60462-2;O60462-3;O60462-4;O60462-5;Q7LBX6;X5D2Q8  \\\n",
       "Sample ID                                                                                        \n",
       "Sample_000                                                                              15.570   \n",
       "Sample_001                                                                              15.519   \n",
       "Sample_002                                                                              15.935   \n",
       "Sample_003                                                                              15.802   \n",
       "Sample_004                                                                              15.375   \n",
       "...                                                                                        ...   \n",
       "Sample_205                                                                              14.910   \n",
       "Sample_206                                                                              15.600   \n",
       "Sample_207                                                                              15.469   \n",
       "Sample_208                                                                              14.995   \n",
       "Sample_209                                                                              15.175   \n",
       "\n",
       "protein groups  A0A024R644;A0A0A0MRU5;A0A1B0GWI2;O75503  A0A075B6H7  \\\n",
       "Sample ID                                                             \n",
       "Sample_000                                       16.481      17.301   \n",
       "Sample_001                                       16.387         NaN   \n",
       "Sample_002                                       16.416      18.175   \n",
       "Sample_003                                       16.979      15.963   \n",
       "Sample_004                                       16.679         NaN   \n",
       "...                                                 ...         ...   \n",
       "Sample_205                                       16.482         NaN   \n",
       "Sample_206                                       15.938         NaN   \n",
       "Sample_207                                       16.898         NaN   \n",
       "Sample_208                                       16.132         NaN   \n",
       "Sample_209                                       16.235         NaN   \n",
       "\n",
       "protein groups  A0A075B6H9  A0A075B6I0  A0A075B6I1  A0A075B6I6  A0A075B6I9  \\\n",
       "Sample ID                                                                    \n",
       "Sample_000          20.246      16.764      17.584      16.988      20.054   \n",
       "Sample_001          19.941      18.786      17.144         NaN      19.067   \n",
       "Sample_002          19.251      16.832      15.671      17.012      18.569   \n",
       "Sample_003          19.628      17.852      18.877      14.182      18.985   \n",
       "Sample_004          20.450      18.682      17.081      14.140      19.686   \n",
       "...                    ...         ...         ...         ...         ...   \n",
       "Sample_205          17.705      17.039         NaN      16.413      19.102   \n",
       "Sample_206          18.154      18.152      16.503      16.860      18.538   \n",
       "Sample_207          18.636      17.950      16.321      16.401      18.849   \n",
       "Sample_208          14.908         NaN         NaN      16.119      18.368   \n",
       "Sample_209          17.893      17.744      16.371      15.780      18.806   \n",
       "\n",
       "protein groups  ...  Q9Y653;Q9Y653-2;Q9Y653-3  Q9Y696  Q9Y6C2  Q9Y6N6  \\\n",
       "Sample ID       ...                                                     \n",
       "Sample_000      ...                    16.012  15.178     NaN  15.050   \n",
       "Sample_001      ...                    15.528  15.576     NaN  14.833   \n",
       "Sample_002      ...                    15.229  14.728  13.757  15.118   \n",
       "Sample_003      ...                    15.495  14.590  14.682  15.140   \n",
       "Sample_004      ...                    14.757     NaN     NaN  15.256   \n",
       "...             ...                       ...     ...     ...     ...   \n",
       "Sample_205      ...                       NaN  15.684  14.236  15.415   \n",
       "Sample_206      ...                    15.422  16.106     NaN  15.345   \n",
       "Sample_207      ...                    15.808  16.098  14.403  15.715   \n",
       "Sample_208      ...                    15.157  16.712     NaN  14.640   \n",
       "Sample_209      ...                    15.237  15.652  15.211  14.205   \n",
       "\n",
       "protein groups  Q9Y6N7;Q9Y6N7-2;Q9Y6N7-4  Q9Y6R7  Q9Y6X5  Q9Y6Y8;Q9Y6Y8-2  \\\n",
       "Sample ID                                                                   \n",
       "Sample_000                        16.842     NaN     NaN           19.563   \n",
       "Sample_001                        16.597  20.299  15.556           19.386   \n",
       "Sample_002                        17.440  19.598  15.735           20.447   \n",
       "Sample_003                        17.356  19.429     NaN           20.216   \n",
       "Sample_004                        17.075  19.582  15.328              NaN   \n",
       "...                                  ...     ...     ...              ...   \n",
       "Sample_205                        17.551  17.922  16.340           19.928   \n",
       "Sample_206                        17.084  18.708     NaN           19.433   \n",
       "Sample_207                           NaN  18.725  16.138           19.599   \n",
       "Sample_208                        16.533  19.411  15.807           19.545   \n",
       "Sample_209                        16.749  19.275  15.732           19.577   \n",
       "\n",
       "protein groups  Q9Y6Y9  S4R3U6  \n",
       "Sample ID                       \n",
       "Sample_000         NaN  12.805  \n",
       "Sample_001      13.970  12.442  \n",
       "Sample_002      12.636  12.505  \n",
       "Sample_003         NaN  12.445  \n",
       "Sample_004      13.145     NaN  \n",
       "...                ...     ...  \n",
       "Sample_205      12.929     NaN  \n",
       "Sample_206         NaN     NaN  \n",
       "Sample_207      13.637  11.174  \n",
       "Sample_208         NaN     NaN  \n",
       "Sample_209      11.042  11.791  \n",
       "\n",
       "[210 rows x 1421 columns]"
      ]
     },
     "execution_count": 16,
     "metadata": {},
     "output_type": "execute_result"
    }
   ],
   "source": [
    "data.train_X"
   ]
  },
  {
   "cell_type": "code",
   "execution_count": 17,
   "id": "a0a0bcd9-22af-4dd9-af56-b041931ee918",
   "metadata": {
    "execution": {
     "iopub.execute_input": "2024-11-06T04:04:58.349357Z",
     "iopub.status.busy": "2024-11-06T04:04:58.349110Z",
     "iopub.status.idle": "2024-11-06T04:04:58.378648Z",
     "shell.execute_reply": "2024-11-06T04:04:58.377944Z"
    },
    "papermill": {
     "duration": 0.081372,
     "end_time": "2024-11-06T04:04:58.379872",
     "exception": false,
     "start_time": "2024-11-06T04:04:58.298500",
     "status": "completed"
    },
    "tags": [
     "hide-input"
    ]
   },
   "outputs": [
    {
     "data": {
      "text/html": [
       "<div>\n",
       "<style scoped>\n",
       "    .dataframe tbody tr th:only-of-type {\n",
       "        vertical-align: middle;\n",
       "    }\n",
       "\n",
       "    .dataframe tbody tr th {\n",
       "        vertical-align: top;\n",
       "    }\n",
       "\n",
       "    .dataframe thead th {\n",
       "        text-align: right;\n",
       "    }\n",
       "</style>\n",
       "<table border=\"1\" class=\"dataframe\">\n",
       "  <thead>\n",
       "    <tr style=\"text-align: right;\">\n",
       "      <th>protein groups</th>\n",
       "      <th>A0A024QZX5;A0A087X1N8;P35237</th>\n",
       "      <th>A0A024R0T9;K7ER74;P02655</th>\n",
       "      <th>A0A024R3W6;A0A024R412;O60462;O60462-2;O60462-3;O60462-4;O60462-5;Q7LBX6;X5D2Q8</th>\n",
       "      <th>A0A024R644;A0A0A0MRU5;A0A1B0GWI2;O75503</th>\n",
       "      <th>A0A075B6H7</th>\n",
       "      <th>A0A075B6H9</th>\n",
       "      <th>A0A075B6I0</th>\n",
       "      <th>A0A075B6I1</th>\n",
       "      <th>A0A075B6I6</th>\n",
       "      <th>A0A075B6I9</th>\n",
       "      <th>...</th>\n",
       "      <th>Q9Y653;Q9Y653-2;Q9Y653-3</th>\n",
       "      <th>Q9Y696</th>\n",
       "      <th>Q9Y6C2</th>\n",
       "      <th>Q9Y6N6</th>\n",
       "      <th>Q9Y6N7;Q9Y6N7-2;Q9Y6N7-4</th>\n",
       "      <th>Q9Y6R7</th>\n",
       "      <th>Q9Y6X5</th>\n",
       "      <th>Q9Y6Y8;Q9Y6Y8-2</th>\n",
       "      <th>Q9Y6Y9</th>\n",
       "      <th>S4R3U6</th>\n",
       "    </tr>\n",
       "    <tr>\n",
       "      <th>Sample ID</th>\n",
       "      <th></th>\n",
       "      <th></th>\n",
       "      <th></th>\n",
       "      <th></th>\n",
       "      <th></th>\n",
       "      <th></th>\n",
       "      <th></th>\n",
       "      <th></th>\n",
       "      <th></th>\n",
       "      <th></th>\n",
       "      <th></th>\n",
       "      <th></th>\n",
       "      <th></th>\n",
       "      <th></th>\n",
       "      <th></th>\n",
       "      <th></th>\n",
       "      <th></th>\n",
       "      <th></th>\n",
       "      <th></th>\n",
       "      <th></th>\n",
       "      <th></th>\n",
       "    </tr>\n",
       "  </thead>\n",
       "  <tbody>\n",
       "    <tr>\n",
       "      <th>Sample_000</th>\n",
       "      <td>NaN</td>\n",
       "      <td>NaN</td>\n",
       "      <td>NaN</td>\n",
       "      <td>NaN</td>\n",
       "      <td>NaN</td>\n",
       "      <td>NaN</td>\n",
       "      <td>NaN</td>\n",
       "      <td>NaN</td>\n",
       "      <td>NaN</td>\n",
       "      <td>NaN</td>\n",
       "      <td>...</td>\n",
       "      <td>NaN</td>\n",
       "      <td>NaN</td>\n",
       "      <td>NaN</td>\n",
       "      <td>NaN</td>\n",
       "      <td>NaN</td>\n",
       "      <td>19.863</td>\n",
       "      <td>NaN</td>\n",
       "      <td>NaN</td>\n",
       "      <td>NaN</td>\n",
       "      <td>NaN</td>\n",
       "    </tr>\n",
       "    <tr>\n",
       "      <th>Sample_001</th>\n",
       "      <td>NaN</td>\n",
       "      <td>NaN</td>\n",
       "      <td>NaN</td>\n",
       "      <td>NaN</td>\n",
       "      <td>NaN</td>\n",
       "      <td>NaN</td>\n",
       "      <td>NaN</td>\n",
       "      <td>NaN</td>\n",
       "      <td>NaN</td>\n",
       "      <td>NaN</td>\n",
       "      <td>...</td>\n",
       "      <td>NaN</td>\n",
       "      <td>NaN</td>\n",
       "      <td>NaN</td>\n",
       "      <td>NaN</td>\n",
       "      <td>NaN</td>\n",
       "      <td>NaN</td>\n",
       "      <td>NaN</td>\n",
       "      <td>NaN</td>\n",
       "      <td>NaN</td>\n",
       "      <td>NaN</td>\n",
       "    </tr>\n",
       "    <tr>\n",
       "      <th>Sample_002</th>\n",
       "      <td>NaN</td>\n",
       "      <td>14.523</td>\n",
       "      <td>NaN</td>\n",
       "      <td>NaN</td>\n",
       "      <td>NaN</td>\n",
       "      <td>NaN</td>\n",
       "      <td>NaN</td>\n",
       "      <td>NaN</td>\n",
       "      <td>NaN</td>\n",
       "      <td>NaN</td>\n",
       "      <td>...</td>\n",
       "      <td>NaN</td>\n",
       "      <td>NaN</td>\n",
       "      <td>NaN</td>\n",
       "      <td>NaN</td>\n",
       "      <td>NaN</td>\n",
       "      <td>NaN</td>\n",
       "      <td>NaN</td>\n",
       "      <td>NaN</td>\n",
       "      <td>NaN</td>\n",
       "      <td>NaN</td>\n",
       "    </tr>\n",
       "    <tr>\n",
       "      <th>Sample_003</th>\n",
       "      <td>NaN</td>\n",
       "      <td>NaN</td>\n",
       "      <td>NaN</td>\n",
       "      <td>NaN</td>\n",
       "      <td>NaN</td>\n",
       "      <td>NaN</td>\n",
       "      <td>NaN</td>\n",
       "      <td>NaN</td>\n",
       "      <td>NaN</td>\n",
       "      <td>NaN</td>\n",
       "      <td>...</td>\n",
       "      <td>NaN</td>\n",
       "      <td>NaN</td>\n",
       "      <td>NaN</td>\n",
       "      <td>NaN</td>\n",
       "      <td>NaN</td>\n",
       "      <td>NaN</td>\n",
       "      <td>NaN</td>\n",
       "      <td>NaN</td>\n",
       "      <td>NaN</td>\n",
       "      <td>NaN</td>\n",
       "    </tr>\n",
       "    <tr>\n",
       "      <th>Sample_004</th>\n",
       "      <td>NaN</td>\n",
       "      <td>NaN</td>\n",
       "      <td>NaN</td>\n",
       "      <td>NaN</td>\n",
       "      <td>15.473</td>\n",
       "      <td>NaN</td>\n",
       "      <td>NaN</td>\n",
       "      <td>NaN</td>\n",
       "      <td>NaN</td>\n",
       "      <td>NaN</td>\n",
       "      <td>...</td>\n",
       "      <td>NaN</td>\n",
       "      <td>NaN</td>\n",
       "      <td>14.048</td>\n",
       "      <td>NaN</td>\n",
       "      <td>NaN</td>\n",
       "      <td>NaN</td>\n",
       "      <td>NaN</td>\n",
       "      <td>19.867</td>\n",
       "      <td>NaN</td>\n",
       "      <td>12.235</td>\n",
       "    </tr>\n",
       "    <tr>\n",
       "      <th>...</th>\n",
       "      <td>...</td>\n",
       "      <td>...</td>\n",
       "      <td>...</td>\n",
       "      <td>...</td>\n",
       "      <td>...</td>\n",
       "      <td>...</td>\n",
       "      <td>...</td>\n",
       "      <td>...</td>\n",
       "      <td>...</td>\n",
       "      <td>...</td>\n",
       "      <td>...</td>\n",
       "      <td>...</td>\n",
       "      <td>...</td>\n",
       "      <td>...</td>\n",
       "      <td>...</td>\n",
       "      <td>...</td>\n",
       "      <td>...</td>\n",
       "      <td>...</td>\n",
       "      <td>...</td>\n",
       "      <td>...</td>\n",
       "      <td>...</td>\n",
       "    </tr>\n",
       "    <tr>\n",
       "      <th>Sample_205</th>\n",
       "      <td>NaN</td>\n",
       "      <td>NaN</td>\n",
       "      <td>NaN</td>\n",
       "      <td>NaN</td>\n",
       "      <td>NaN</td>\n",
       "      <td>NaN</td>\n",
       "      <td>NaN</td>\n",
       "      <td>NaN</td>\n",
       "      <td>NaN</td>\n",
       "      <td>NaN</td>\n",
       "      <td>...</td>\n",
       "      <td>NaN</td>\n",
       "      <td>NaN</td>\n",
       "      <td>NaN</td>\n",
       "      <td>NaN</td>\n",
       "      <td>NaN</td>\n",
       "      <td>NaN</td>\n",
       "      <td>NaN</td>\n",
       "      <td>NaN</td>\n",
       "      <td>NaN</td>\n",
       "      <td>11.802</td>\n",
       "    </tr>\n",
       "    <tr>\n",
       "      <th>Sample_206</th>\n",
       "      <td>NaN</td>\n",
       "      <td>NaN</td>\n",
       "      <td>NaN</td>\n",
       "      <td>NaN</td>\n",
       "      <td>NaN</td>\n",
       "      <td>NaN</td>\n",
       "      <td>NaN</td>\n",
       "      <td>NaN</td>\n",
       "      <td>NaN</td>\n",
       "      <td>NaN</td>\n",
       "      <td>...</td>\n",
       "      <td>NaN</td>\n",
       "      <td>NaN</td>\n",
       "      <td>NaN</td>\n",
       "      <td>NaN</td>\n",
       "      <td>NaN</td>\n",
       "      <td>NaN</td>\n",
       "      <td>NaN</td>\n",
       "      <td>NaN</td>\n",
       "      <td>NaN</td>\n",
       "      <td>NaN</td>\n",
       "    </tr>\n",
       "    <tr>\n",
       "      <th>Sample_207</th>\n",
       "      <td>NaN</td>\n",
       "      <td>NaN</td>\n",
       "      <td>NaN</td>\n",
       "      <td>NaN</td>\n",
       "      <td>NaN</td>\n",
       "      <td>NaN</td>\n",
       "      <td>NaN</td>\n",
       "      <td>NaN</td>\n",
       "      <td>NaN</td>\n",
       "      <td>NaN</td>\n",
       "      <td>...</td>\n",
       "      <td>NaN</td>\n",
       "      <td>NaN</td>\n",
       "      <td>NaN</td>\n",
       "      <td>NaN</td>\n",
       "      <td>NaN</td>\n",
       "      <td>NaN</td>\n",
       "      <td>NaN</td>\n",
       "      <td>NaN</td>\n",
       "      <td>NaN</td>\n",
       "      <td>NaN</td>\n",
       "    </tr>\n",
       "    <tr>\n",
       "      <th>Sample_208</th>\n",
       "      <td>NaN</td>\n",
       "      <td>NaN</td>\n",
       "      <td>NaN</td>\n",
       "      <td>NaN</td>\n",
       "      <td>NaN</td>\n",
       "      <td>NaN</td>\n",
       "      <td>17.530</td>\n",
       "      <td>NaN</td>\n",
       "      <td>NaN</td>\n",
       "      <td>NaN</td>\n",
       "      <td>...</td>\n",
       "      <td>NaN</td>\n",
       "      <td>NaN</td>\n",
       "      <td>NaN</td>\n",
       "      <td>NaN</td>\n",
       "      <td>NaN</td>\n",
       "      <td>NaN</td>\n",
       "      <td>NaN</td>\n",
       "      <td>NaN</td>\n",
       "      <td>NaN</td>\n",
       "      <td>NaN</td>\n",
       "    </tr>\n",
       "    <tr>\n",
       "      <th>Sample_209</th>\n",
       "      <td>15.727</td>\n",
       "      <td>NaN</td>\n",
       "      <td>NaN</td>\n",
       "      <td>NaN</td>\n",
       "      <td>NaN</td>\n",
       "      <td>NaN</td>\n",
       "      <td>NaN</td>\n",
       "      <td>NaN</td>\n",
       "      <td>NaN</td>\n",
       "      <td>NaN</td>\n",
       "      <td>...</td>\n",
       "      <td>NaN</td>\n",
       "      <td>NaN</td>\n",
       "      <td>NaN</td>\n",
       "      <td>NaN</td>\n",
       "      <td>NaN</td>\n",
       "      <td>NaN</td>\n",
       "      <td>NaN</td>\n",
       "      <td>NaN</td>\n",
       "      <td>NaN</td>\n",
       "      <td>NaN</td>\n",
       "    </tr>\n",
       "  </tbody>\n",
       "</table>\n",
       "<p>210 rows × 1419 columns</p>\n",
       "</div>"
      ],
      "text/plain": [
       "protein groups  A0A024QZX5;A0A087X1N8;P35237  A0A024R0T9;K7ER74;P02655  \\\n",
       "Sample ID                                                                \n",
       "Sample_000                               NaN                       NaN   \n",
       "Sample_001                               NaN                       NaN   \n",
       "Sample_002                               NaN                    14.523   \n",
       "Sample_003                               NaN                       NaN   \n",
       "Sample_004                               NaN                       NaN   \n",
       "...                                      ...                       ...   \n",
       "Sample_205                               NaN                       NaN   \n",
       "Sample_206                               NaN                       NaN   \n",
       "Sample_207                               NaN                       NaN   \n",
       "Sample_208                               NaN                       NaN   \n",
       "Sample_209                            15.727                       NaN   \n",
       "\n",
       "protein groups  A0A024R3W6;A0A024R412;O60462;O60462-2;O60462-3;O60462-4;O60462-5;Q7LBX6;X5D2Q8  \\\n",
       "Sample ID                                                                                        \n",
       "Sample_000                                                                                 NaN   \n",
       "Sample_001                                                                                 NaN   \n",
       "Sample_002                                                                                 NaN   \n",
       "Sample_003                                                                                 NaN   \n",
       "Sample_004                                                                                 NaN   \n",
       "...                                                                                        ...   \n",
       "Sample_205                                                                                 NaN   \n",
       "Sample_206                                                                                 NaN   \n",
       "Sample_207                                                                                 NaN   \n",
       "Sample_208                                                                                 NaN   \n",
       "Sample_209                                                                                 NaN   \n",
       "\n",
       "protein groups  A0A024R644;A0A0A0MRU5;A0A1B0GWI2;O75503  A0A075B6H7  \\\n",
       "Sample ID                                                             \n",
       "Sample_000                                          NaN         NaN   \n",
       "Sample_001                                          NaN         NaN   \n",
       "Sample_002                                          NaN         NaN   \n",
       "Sample_003                                          NaN         NaN   \n",
       "Sample_004                                          NaN      15.473   \n",
       "...                                                 ...         ...   \n",
       "Sample_205                                          NaN         NaN   \n",
       "Sample_206                                          NaN         NaN   \n",
       "Sample_207                                          NaN         NaN   \n",
       "Sample_208                                          NaN         NaN   \n",
       "Sample_209                                          NaN         NaN   \n",
       "\n",
       "protein groups  A0A075B6H9  A0A075B6I0  A0A075B6I1  A0A075B6I6  A0A075B6I9  \\\n",
       "Sample ID                                                                    \n",
       "Sample_000             NaN         NaN         NaN         NaN         NaN   \n",
       "Sample_001             NaN         NaN         NaN         NaN         NaN   \n",
       "Sample_002             NaN         NaN         NaN         NaN         NaN   \n",
       "Sample_003             NaN         NaN         NaN         NaN         NaN   \n",
       "Sample_004             NaN         NaN         NaN         NaN         NaN   \n",
       "...                    ...         ...         ...         ...         ...   \n",
       "Sample_205             NaN         NaN         NaN         NaN         NaN   \n",
       "Sample_206             NaN         NaN         NaN         NaN         NaN   \n",
       "Sample_207             NaN         NaN         NaN         NaN         NaN   \n",
       "Sample_208             NaN      17.530         NaN         NaN         NaN   \n",
       "Sample_209             NaN         NaN         NaN         NaN         NaN   \n",
       "\n",
       "protein groups  ...  Q9Y653;Q9Y653-2;Q9Y653-3  Q9Y696  Q9Y6C2  Q9Y6N6  \\\n",
       "Sample ID       ...                                                     \n",
       "Sample_000      ...                       NaN     NaN     NaN     NaN   \n",
       "Sample_001      ...                       NaN     NaN     NaN     NaN   \n",
       "Sample_002      ...                       NaN     NaN     NaN     NaN   \n",
       "Sample_003      ...                       NaN     NaN     NaN     NaN   \n",
       "Sample_004      ...                       NaN     NaN  14.048     NaN   \n",
       "...             ...                       ...     ...     ...     ...   \n",
       "Sample_205      ...                       NaN     NaN     NaN     NaN   \n",
       "Sample_206      ...                       NaN     NaN     NaN     NaN   \n",
       "Sample_207      ...                       NaN     NaN     NaN     NaN   \n",
       "Sample_208      ...                       NaN     NaN     NaN     NaN   \n",
       "Sample_209      ...                       NaN     NaN     NaN     NaN   \n",
       "\n",
       "protein groups  Q9Y6N7;Q9Y6N7-2;Q9Y6N7-4  Q9Y6R7  Q9Y6X5  Q9Y6Y8;Q9Y6Y8-2  \\\n",
       "Sample ID                                                                   \n",
       "Sample_000                           NaN  19.863     NaN              NaN   \n",
       "Sample_001                           NaN     NaN     NaN              NaN   \n",
       "Sample_002                           NaN     NaN     NaN              NaN   \n",
       "Sample_003                           NaN     NaN     NaN              NaN   \n",
       "Sample_004                           NaN     NaN     NaN           19.867   \n",
       "...                                  ...     ...     ...              ...   \n",
       "Sample_205                           NaN     NaN     NaN              NaN   \n",
       "Sample_206                           NaN     NaN     NaN              NaN   \n",
       "Sample_207                           NaN     NaN     NaN              NaN   \n",
       "Sample_208                           NaN     NaN     NaN              NaN   \n",
       "Sample_209                           NaN     NaN     NaN              NaN   \n",
       "\n",
       "protein groups  Q9Y6Y9  S4R3U6  \n",
       "Sample ID                       \n",
       "Sample_000         NaN     NaN  \n",
       "Sample_001         NaN     NaN  \n",
       "Sample_002         NaN     NaN  \n",
       "Sample_003         NaN     NaN  \n",
       "Sample_004         NaN  12.235  \n",
       "...                ...     ...  \n",
       "Sample_205         NaN  11.802  \n",
       "Sample_206         NaN     NaN  \n",
       "Sample_207         NaN     NaN  \n",
       "Sample_208         NaN     NaN  \n",
       "Sample_209         NaN     NaN  \n",
       "\n",
       "[210 rows x 1419 columns]"
      ]
     },
     "execution_count": 17,
     "metadata": {},
     "output_type": "execute_result"
    }
   ],
   "source": [
    "data.val_y  # potentially has less features"
   ]
  },
  {
   "cell_type": "code",
   "execution_count": 18,
   "id": "9f0826f9",
   "metadata": {
    "execution": {
     "iopub.execute_input": "2024-11-06T04:04:58.415267Z",
     "iopub.status.busy": "2024-11-06T04:04:58.415004Z",
     "iopub.status.idle": "2024-11-06T04:04:58.458253Z",
     "shell.execute_reply": "2024-11-06T04:04:58.457748Z"
    },
    "papermill": {
     "duration": 0.06225,
     "end_time": "2024-11-06T04:04:58.459431",
     "exception": false,
     "start_time": "2024-11-06T04:04:58.397181",
     "status": "completed"
    },
    "tags": [
     "hide-input"
    ]
   },
   "outputs": [
    {
     "data": {
      "text/html": [
       "<div>\n",
       "<style scoped>\n",
       "    .dataframe tbody tr th:only-of-type {\n",
       "        vertical-align: middle;\n",
       "    }\n",
       "\n",
       "    .dataframe tbody tr th {\n",
       "        vertical-align: top;\n",
       "    }\n",
       "\n",
       "    .dataframe thead th {\n",
       "        text-align: right;\n",
       "    }\n",
       "</style>\n",
       "<table border=\"1\" class=\"dataframe\">\n",
       "  <thead>\n",
       "    <tr style=\"text-align: right;\">\n",
       "      <th>protein groups</th>\n",
       "      <th>A0A024QZX5;A0A087X1N8;P35237</th>\n",
       "      <th>A0A024R0T9;K7ER74;P02655</th>\n",
       "      <th>A0A024R3W6;A0A024R412;O60462;O60462-2;O60462-3;O60462-4;O60462-5;Q7LBX6;X5D2Q8</th>\n",
       "      <th>A0A024R644;A0A0A0MRU5;A0A1B0GWI2;O75503</th>\n",
       "      <th>A0A075B6H7</th>\n",
       "      <th>A0A075B6H9</th>\n",
       "      <th>A0A075B6I0</th>\n",
       "      <th>A0A075B6I1</th>\n",
       "      <th>A0A075B6I6</th>\n",
       "      <th>A0A075B6I9</th>\n",
       "      <th>...</th>\n",
       "      <th>Q9Y653;Q9Y653-2;Q9Y653-3</th>\n",
       "      <th>Q9Y696</th>\n",
       "      <th>Q9Y6C2</th>\n",
       "      <th>Q9Y6N6</th>\n",
       "      <th>Q9Y6N7;Q9Y6N7-2;Q9Y6N7-4</th>\n",
       "      <th>Q9Y6R7</th>\n",
       "      <th>Q9Y6X5</th>\n",
       "      <th>Q9Y6Y8;Q9Y6Y8-2</th>\n",
       "      <th>Q9Y6Y9</th>\n",
       "      <th>S4R3U6</th>\n",
       "    </tr>\n",
       "    <tr>\n",
       "      <th>Sample ID</th>\n",
       "      <th></th>\n",
       "      <th></th>\n",
       "      <th></th>\n",
       "      <th></th>\n",
       "      <th></th>\n",
       "      <th></th>\n",
       "      <th></th>\n",
       "      <th></th>\n",
       "      <th></th>\n",
       "      <th></th>\n",
       "      <th></th>\n",
       "      <th></th>\n",
       "      <th></th>\n",
       "      <th></th>\n",
       "      <th></th>\n",
       "      <th></th>\n",
       "      <th></th>\n",
       "      <th></th>\n",
       "      <th></th>\n",
       "      <th></th>\n",
       "      <th></th>\n",
       "    </tr>\n",
       "  </thead>\n",
       "  <tbody>\n",
       "    <tr>\n",
       "      <th>Sample_000</th>\n",
       "      <td>NaN</td>\n",
       "      <td>NaN</td>\n",
       "      <td>NaN</td>\n",
       "      <td>NaN</td>\n",
       "      <td>NaN</td>\n",
       "      <td>NaN</td>\n",
       "      <td>NaN</td>\n",
       "      <td>NaN</td>\n",
       "      <td>NaN</td>\n",
       "      <td>NaN</td>\n",
       "      <td>...</td>\n",
       "      <td>NaN</td>\n",
       "      <td>NaN</td>\n",
       "      <td>NaN</td>\n",
       "      <td>NaN</td>\n",
       "      <td>NaN</td>\n",
       "      <td>19.863</td>\n",
       "      <td>NaN</td>\n",
       "      <td>NaN</td>\n",
       "      <td>NaN</td>\n",
       "      <td>NaN</td>\n",
       "    </tr>\n",
       "    <tr>\n",
       "      <th>Sample_001</th>\n",
       "      <td>NaN</td>\n",
       "      <td>NaN</td>\n",
       "      <td>NaN</td>\n",
       "      <td>NaN</td>\n",
       "      <td>NaN</td>\n",
       "      <td>NaN</td>\n",
       "      <td>NaN</td>\n",
       "      <td>NaN</td>\n",
       "      <td>NaN</td>\n",
       "      <td>NaN</td>\n",
       "      <td>...</td>\n",
       "      <td>NaN</td>\n",
       "      <td>NaN</td>\n",
       "      <td>NaN</td>\n",
       "      <td>NaN</td>\n",
       "      <td>NaN</td>\n",
       "      <td>NaN</td>\n",
       "      <td>NaN</td>\n",
       "      <td>NaN</td>\n",
       "      <td>NaN</td>\n",
       "      <td>NaN</td>\n",
       "    </tr>\n",
       "    <tr>\n",
       "      <th>Sample_002</th>\n",
       "      <td>NaN</td>\n",
       "      <td>14.523</td>\n",
       "      <td>NaN</td>\n",
       "      <td>NaN</td>\n",
       "      <td>NaN</td>\n",
       "      <td>NaN</td>\n",
       "      <td>NaN</td>\n",
       "      <td>NaN</td>\n",
       "      <td>NaN</td>\n",
       "      <td>NaN</td>\n",
       "      <td>...</td>\n",
       "      <td>NaN</td>\n",
       "      <td>NaN</td>\n",
       "      <td>NaN</td>\n",
       "      <td>NaN</td>\n",
       "      <td>NaN</td>\n",
       "      <td>NaN</td>\n",
       "      <td>NaN</td>\n",
       "      <td>NaN</td>\n",
       "      <td>NaN</td>\n",
       "      <td>NaN</td>\n",
       "    </tr>\n",
       "    <tr>\n",
       "      <th>Sample_003</th>\n",
       "      <td>NaN</td>\n",
       "      <td>NaN</td>\n",
       "      <td>NaN</td>\n",
       "      <td>NaN</td>\n",
       "      <td>NaN</td>\n",
       "      <td>NaN</td>\n",
       "      <td>NaN</td>\n",
       "      <td>NaN</td>\n",
       "      <td>NaN</td>\n",
       "      <td>NaN</td>\n",
       "      <td>...</td>\n",
       "      <td>NaN</td>\n",
       "      <td>NaN</td>\n",
       "      <td>NaN</td>\n",
       "      <td>NaN</td>\n",
       "      <td>NaN</td>\n",
       "      <td>NaN</td>\n",
       "      <td>NaN</td>\n",
       "      <td>NaN</td>\n",
       "      <td>NaN</td>\n",
       "      <td>NaN</td>\n",
       "    </tr>\n",
       "    <tr>\n",
       "      <th>Sample_004</th>\n",
       "      <td>NaN</td>\n",
       "      <td>NaN</td>\n",
       "      <td>NaN</td>\n",
       "      <td>NaN</td>\n",
       "      <td>15.473</td>\n",
       "      <td>NaN</td>\n",
       "      <td>NaN</td>\n",
       "      <td>NaN</td>\n",
       "      <td>NaN</td>\n",
       "      <td>NaN</td>\n",
       "      <td>...</td>\n",
       "      <td>NaN</td>\n",
       "      <td>NaN</td>\n",
       "      <td>14.048</td>\n",
       "      <td>NaN</td>\n",
       "      <td>NaN</td>\n",
       "      <td>NaN</td>\n",
       "      <td>NaN</td>\n",
       "      <td>19.867</td>\n",
       "      <td>NaN</td>\n",
       "      <td>12.235</td>\n",
       "    </tr>\n",
       "    <tr>\n",
       "      <th>...</th>\n",
       "      <td>...</td>\n",
       "      <td>...</td>\n",
       "      <td>...</td>\n",
       "      <td>...</td>\n",
       "      <td>...</td>\n",
       "      <td>...</td>\n",
       "      <td>...</td>\n",
       "      <td>...</td>\n",
       "      <td>...</td>\n",
       "      <td>...</td>\n",
       "      <td>...</td>\n",
       "      <td>...</td>\n",
       "      <td>...</td>\n",
       "      <td>...</td>\n",
       "      <td>...</td>\n",
       "      <td>...</td>\n",
       "      <td>...</td>\n",
       "      <td>...</td>\n",
       "      <td>...</td>\n",
       "      <td>...</td>\n",
       "      <td>...</td>\n",
       "    </tr>\n",
       "    <tr>\n",
       "      <th>Sample_205</th>\n",
       "      <td>NaN</td>\n",
       "      <td>NaN</td>\n",
       "      <td>NaN</td>\n",
       "      <td>NaN</td>\n",
       "      <td>NaN</td>\n",
       "      <td>NaN</td>\n",
       "      <td>NaN</td>\n",
       "      <td>NaN</td>\n",
       "      <td>NaN</td>\n",
       "      <td>NaN</td>\n",
       "      <td>...</td>\n",
       "      <td>NaN</td>\n",
       "      <td>NaN</td>\n",
       "      <td>NaN</td>\n",
       "      <td>NaN</td>\n",
       "      <td>NaN</td>\n",
       "      <td>NaN</td>\n",
       "      <td>NaN</td>\n",
       "      <td>NaN</td>\n",
       "      <td>NaN</td>\n",
       "      <td>11.802</td>\n",
       "    </tr>\n",
       "    <tr>\n",
       "      <th>Sample_206</th>\n",
       "      <td>NaN</td>\n",
       "      <td>NaN</td>\n",
       "      <td>NaN</td>\n",
       "      <td>NaN</td>\n",
       "      <td>NaN</td>\n",
       "      <td>NaN</td>\n",
       "      <td>NaN</td>\n",
       "      <td>NaN</td>\n",
       "      <td>NaN</td>\n",
       "      <td>NaN</td>\n",
       "      <td>...</td>\n",
       "      <td>NaN</td>\n",
       "      <td>NaN</td>\n",
       "      <td>NaN</td>\n",
       "      <td>NaN</td>\n",
       "      <td>NaN</td>\n",
       "      <td>NaN</td>\n",
       "      <td>NaN</td>\n",
       "      <td>NaN</td>\n",
       "      <td>NaN</td>\n",
       "      <td>NaN</td>\n",
       "    </tr>\n",
       "    <tr>\n",
       "      <th>Sample_207</th>\n",
       "      <td>NaN</td>\n",
       "      <td>NaN</td>\n",
       "      <td>NaN</td>\n",
       "      <td>NaN</td>\n",
       "      <td>NaN</td>\n",
       "      <td>NaN</td>\n",
       "      <td>NaN</td>\n",
       "      <td>NaN</td>\n",
       "      <td>NaN</td>\n",
       "      <td>NaN</td>\n",
       "      <td>...</td>\n",
       "      <td>NaN</td>\n",
       "      <td>NaN</td>\n",
       "      <td>NaN</td>\n",
       "      <td>NaN</td>\n",
       "      <td>NaN</td>\n",
       "      <td>NaN</td>\n",
       "      <td>NaN</td>\n",
       "      <td>NaN</td>\n",
       "      <td>NaN</td>\n",
       "      <td>NaN</td>\n",
       "    </tr>\n",
       "    <tr>\n",
       "      <th>Sample_208</th>\n",
       "      <td>NaN</td>\n",
       "      <td>NaN</td>\n",
       "      <td>NaN</td>\n",
       "      <td>NaN</td>\n",
       "      <td>NaN</td>\n",
       "      <td>NaN</td>\n",
       "      <td>17.530</td>\n",
       "      <td>NaN</td>\n",
       "      <td>NaN</td>\n",
       "      <td>NaN</td>\n",
       "      <td>...</td>\n",
       "      <td>NaN</td>\n",
       "      <td>NaN</td>\n",
       "      <td>NaN</td>\n",
       "      <td>NaN</td>\n",
       "      <td>NaN</td>\n",
       "      <td>NaN</td>\n",
       "      <td>NaN</td>\n",
       "      <td>NaN</td>\n",
       "      <td>NaN</td>\n",
       "      <td>NaN</td>\n",
       "    </tr>\n",
       "    <tr>\n",
       "      <th>Sample_209</th>\n",
       "      <td>15.727</td>\n",
       "      <td>NaN</td>\n",
       "      <td>NaN</td>\n",
       "      <td>NaN</td>\n",
       "      <td>NaN</td>\n",
       "      <td>NaN</td>\n",
       "      <td>NaN</td>\n",
       "      <td>NaN</td>\n",
       "      <td>NaN</td>\n",
       "      <td>NaN</td>\n",
       "      <td>...</td>\n",
       "      <td>NaN</td>\n",
       "      <td>NaN</td>\n",
       "      <td>NaN</td>\n",
       "      <td>NaN</td>\n",
       "      <td>NaN</td>\n",
       "      <td>NaN</td>\n",
       "      <td>NaN</td>\n",
       "      <td>NaN</td>\n",
       "      <td>NaN</td>\n",
       "      <td>NaN</td>\n",
       "    </tr>\n",
       "  </tbody>\n",
       "</table>\n",
       "<p>210 rows × 1421 columns</p>\n",
       "</div>"
      ],
      "text/plain": [
       "protein groups A0A024QZX5;A0A087X1N8;P35237 A0A024R0T9;K7ER74;P02655  \\\n",
       "Sample ID                                                              \n",
       "Sample_000                              NaN                      NaN   \n",
       "Sample_001                              NaN                      NaN   \n",
       "Sample_002                              NaN                   14.523   \n",
       "Sample_003                              NaN                      NaN   \n",
       "Sample_004                              NaN                      NaN   \n",
       "...                                     ...                      ...   \n",
       "Sample_205                              NaN                      NaN   \n",
       "Sample_206                              NaN                      NaN   \n",
       "Sample_207                              NaN                      NaN   \n",
       "Sample_208                              NaN                      NaN   \n",
       "Sample_209                           15.727                      NaN   \n",
       "\n",
       "protein groups A0A024R3W6;A0A024R412;O60462;O60462-2;O60462-3;O60462-4;O60462-5;Q7LBX6;X5D2Q8  \\\n",
       "Sample ID                                                                                       \n",
       "Sample_000                                                                                NaN   \n",
       "Sample_001                                                                                NaN   \n",
       "Sample_002                                                                                NaN   \n",
       "Sample_003                                                                                NaN   \n",
       "Sample_004                                                                                NaN   \n",
       "...                                                                                       ...   \n",
       "Sample_205                                                                                NaN   \n",
       "Sample_206                                                                                NaN   \n",
       "Sample_207                                                                                NaN   \n",
       "Sample_208                                                                                NaN   \n",
       "Sample_209                                                                                NaN   \n",
       "\n",
       "protein groups A0A024R644;A0A0A0MRU5;A0A1B0GWI2;O75503 A0A075B6H7 A0A075B6H9  \\\n",
       "Sample ID                                                                      \n",
       "Sample_000                                         NaN        NaN        NaN   \n",
       "Sample_001                                         NaN        NaN        NaN   \n",
       "Sample_002                                         NaN        NaN        NaN   \n",
       "Sample_003                                         NaN        NaN        NaN   \n",
       "Sample_004                                         NaN     15.473        NaN   \n",
       "...                                                ...        ...        ...   \n",
       "Sample_205                                         NaN        NaN        NaN   \n",
       "Sample_206                                         NaN        NaN        NaN   \n",
       "Sample_207                                         NaN        NaN        NaN   \n",
       "Sample_208                                         NaN        NaN        NaN   \n",
       "Sample_209                                         NaN        NaN        NaN   \n",
       "\n",
       "protein groups A0A075B6I0 A0A075B6I1 A0A075B6I6 A0A075B6I9  ...  \\\n",
       "Sample ID                                                   ...   \n",
       "Sample_000            NaN        NaN        NaN        NaN  ...   \n",
       "Sample_001            NaN        NaN        NaN        NaN  ...   \n",
       "Sample_002            NaN        NaN        NaN        NaN  ...   \n",
       "Sample_003            NaN        NaN        NaN        NaN  ...   \n",
       "Sample_004            NaN        NaN        NaN        NaN  ...   \n",
       "...                   ...        ...        ...        ...  ...   \n",
       "Sample_205            NaN        NaN        NaN        NaN  ...   \n",
       "Sample_206            NaN        NaN        NaN        NaN  ...   \n",
       "Sample_207            NaN        NaN        NaN        NaN  ...   \n",
       "Sample_208         17.530        NaN        NaN        NaN  ...   \n",
       "Sample_209            NaN        NaN        NaN        NaN  ...   \n",
       "\n",
       "protein groups Q9Y653;Q9Y653-2;Q9Y653-3 Q9Y696 Q9Y6C2 Q9Y6N6  \\\n",
       "Sample ID                                                      \n",
       "Sample_000                          NaN    NaN    NaN    NaN   \n",
       "Sample_001                          NaN    NaN    NaN    NaN   \n",
       "Sample_002                          NaN    NaN    NaN    NaN   \n",
       "Sample_003                          NaN    NaN    NaN    NaN   \n",
       "Sample_004                          NaN    NaN 14.048    NaN   \n",
       "...                                 ...    ...    ...    ...   \n",
       "Sample_205                          NaN    NaN    NaN    NaN   \n",
       "Sample_206                          NaN    NaN    NaN    NaN   \n",
       "Sample_207                          NaN    NaN    NaN    NaN   \n",
       "Sample_208                          NaN    NaN    NaN    NaN   \n",
       "Sample_209                          NaN    NaN    NaN    NaN   \n",
       "\n",
       "protein groups Q9Y6N7;Q9Y6N7-2;Q9Y6N7-4 Q9Y6R7 Q9Y6X5 Q9Y6Y8;Q9Y6Y8-2 Q9Y6Y9  \\\n",
       "Sample ID                                                                      \n",
       "Sample_000                          NaN 19.863    NaN             NaN    NaN   \n",
       "Sample_001                          NaN    NaN    NaN             NaN    NaN   \n",
       "Sample_002                          NaN    NaN    NaN             NaN    NaN   \n",
       "Sample_003                          NaN    NaN    NaN             NaN    NaN   \n",
       "Sample_004                          NaN    NaN    NaN          19.867    NaN   \n",
       "...                                 ...    ...    ...             ...    ...   \n",
       "Sample_205                          NaN    NaN    NaN             NaN    NaN   \n",
       "Sample_206                          NaN    NaN    NaN             NaN    NaN   \n",
       "Sample_207                          NaN    NaN    NaN             NaN    NaN   \n",
       "Sample_208                          NaN    NaN    NaN             NaN    NaN   \n",
       "Sample_209                          NaN    NaN    NaN             NaN    NaN   \n",
       "\n",
       "protein groups S4R3U6  \n",
       "Sample ID              \n",
       "Sample_000        NaN  \n",
       "Sample_001        NaN  \n",
       "Sample_002        NaN  \n",
       "Sample_003        NaN  \n",
       "Sample_004     12.235  \n",
       "...               ...  \n",
       "Sample_205     11.802  \n",
       "Sample_206        NaN  \n",
       "Sample_207        NaN  \n",
       "Sample_208        NaN  \n",
       "Sample_209        NaN  \n",
       "\n",
       "[210 rows x 1421 columns]"
      ]
     },
     "execution_count": 18,
     "metadata": {},
     "output_type": "execute_result"
    }
   ],
   "source": [
    "data.val_y = pd.DataFrame(pd.NA, index=data.train_X.index,\n",
    "                          columns=data.train_X.columns).fillna(data.val_y)\n",
    "data.val_y"
   ]
  },
  {
   "cell_type": "markdown",
   "id": "6de7a68e-34a3-463f-a1b3-7c76a8855ca0",
   "metadata": {
    "papermill": {
     "duration": 0.020631,
     "end_time": "2024-11-06T04:04:58.499034",
     "exception": false,
     "start_time": "2024-11-06T04:04:58.478403",
     "status": "completed"
    },
    "tags": []
   },
   "source": [
    "## Variational Autoencoder"
   ]
  },
  {
   "cell_type": "markdown",
   "id": "7f5c05d4-d0bb-476f-b955-ac5822c38f86",
   "metadata": {
    "papermill": {
     "duration": 0.017656,
     "end_time": "2024-11-06T04:04:58.534444",
     "exception": false,
     "start_time": "2024-11-06T04:04:58.516788",
     "status": "completed"
    },
    "tags": []
   },
   "source": [
    "### Analysis: DataLoaders, Model, transform"
   ]
  },
  {
   "cell_type": "code",
   "execution_count": 19,
   "id": "e0d0d02f",
   "metadata": {
    "execution": {
     "iopub.execute_input": "2024-11-06T04:04:58.571247Z",
     "iopub.status.busy": "2024-11-06T04:04:58.570553Z",
     "iopub.status.idle": "2024-11-06T04:04:58.574293Z",
     "shell.execute_reply": "2024-11-06T04:04:58.573720Z"
    },
    "papermill": {
     "duration": 0.023475,
     "end_time": "2024-11-06T04:04:58.575394",
     "exception": false,
     "start_time": "2024-11-06T04:04:58.551919",
     "status": "completed"
    },
    "tags": [
     "hide-input"
    ]
   },
   "outputs": [],
   "source": [
    "default_pipeline = sklearn.pipeline.Pipeline(\n",
    "    [\n",
    "        ('normalize', StandardScaler()),\n",
    "        ('impute', SimpleImputer(add_indicator=False))\n",
    "    ])"
   ]
  },
  {
   "cell_type": "markdown",
   "id": "ae2f194f-a879-4190-89b9-5b370a827212",
   "metadata": {
    "papermill": {
     "duration": 0.014576,
     "end_time": "2024-11-06T04:04:58.605664",
     "exception": false,
     "start_time": "2024-11-06T04:04:58.591088",
     "status": "completed"
    },
    "tags": []
   },
   "source": [
    "### Analysis: DataLoaders, Model"
   ]
  },
  {
   "cell_type": "code",
   "execution_count": 20,
   "id": "43d49b4a-00ec-4874-8839-28a3cbc0e3b3",
   "metadata": {
    "execution": {
     "iopub.execute_input": "2024-11-06T04:04:58.639952Z",
     "iopub.status.busy": "2024-11-06T04:04:58.639610Z",
     "iopub.status.idle": "2024-11-06T04:04:59.095666Z",
     "shell.execute_reply": "2024-11-06T04:04:59.095032Z"
    },
    "papermill": {
     "duration": 0.474358,
     "end_time": "2024-11-06T04:04:59.096649",
     "exception": false,
     "start_time": "2024-11-06T04:04:58.622291",
     "status": "completed"
    },
    "tags": [
     "hide-input"
    ]
   },
   "outputs": [
    {
     "data": {
      "text/plain": [
       "VAE(\n",
       "  (encoder): Sequential(\n",
       "    (0): Linear(in_features=1421, out_features=64, bias=True)\n",
       "    (1): Dropout(p=0.2, inplace=False)\n",
       "    (2): BatchNorm1d(64, eps=1e-05, momentum=0.1, affine=True, track_running_stats=True)\n",
       "    (3): LeakyReLU(negative_slope=0.1)\n",
       "    (4): Linear(in_features=64, out_features=20, bias=True)\n",
       "  )\n",
       "  (decoder): Sequential(\n",
       "    (0): Linear(in_features=10, out_features=64, bias=True)\n",
       "    (1): Dropout(p=0.2, inplace=False)\n",
       "    (2): BatchNorm1d(64, eps=1e-05, momentum=0.1, affine=True, track_running_stats=True)\n",
       "    (3): LeakyReLU(negative_slope=0.1)\n",
       "    (4): Linear(in_features=64, out_features=2842, bias=True)\n",
       "  )\n",
       ")"
      ]
     },
     "execution_count": 20,
     "metadata": {},
     "output_type": "execute_result"
    }
   ],
   "source": [
    "\n",
    "analysis = ae.AutoEncoderAnalysis(  # datasplits=data,\n",
    "    train_df=data.train_X,\n",
    "    val_df=data.val_y,\n",
    "    model=models.vae.VAE,\n",
    "    model_kwargs=dict(n_features=data.train_X.shape[-1],\n",
    "                      n_neurons=args.hidden_layers,\n",
    "                      # last_encoder_activation=None,\n",
    "                      last_decoder_activation=None,\n",
    "                      dim_latent=args.latent_dim),\n",
    "    transform=default_pipeline,\n",
    "    decode=['normalize'],\n",
    "    bs=args.batch_size)\n",
    "args.n_params = analysis.n_params_ae\n",
    "if args.cuda:\n",
    "    analysis.model = analysis.model.cuda()\n",
    "analysis.model"
   ]
  },
  {
   "cell_type": "markdown",
   "id": "ef5410d9-8b64-45bc-96d3-4b04145043c0",
   "metadata": {
    "papermill": {
     "duration": 0.017734,
     "end_time": "2024-11-06T04:04:59.132547",
     "exception": false,
     "start_time": "2024-11-06T04:04:59.114813",
     "status": "completed"
    },
    "tags": []
   },
   "source": [
    "### Training\n",
    "\n"
   ]
  },
  {
   "cell_type": "code",
   "execution_count": 21,
   "id": "cca0e4a4",
   "metadata": {
    "execution": {
     "iopub.execute_input": "2024-11-06T04:04:59.169600Z",
     "iopub.status.busy": "2024-11-06T04:04:59.169228Z",
     "iopub.status.idle": "2024-11-06T04:04:59.172854Z",
     "shell.execute_reply": "2024-11-06T04:04:59.172190Z"
    },
    "papermill": {
     "duration": 0.023601,
     "end_time": "2024-11-06T04:04:59.174003",
     "exception": false,
     "start_time": "2024-11-06T04:04:59.150402",
     "status": "completed"
    },
    "tags": [
     "hide-input"
    ]
   },
   "outputs": [],
   "source": [
    "results = []\n",
    "loss_fct = partial(models.vae.loss_fct, results=results)"
   ]
  },
  {
   "cell_type": "code",
   "execution_count": 22,
   "id": "9366b06a",
   "metadata": {
    "execution": {
     "iopub.execute_input": "2024-11-06T04:04:59.211661Z",
     "iopub.status.busy": "2024-11-06T04:04:59.210929Z",
     "iopub.status.idle": "2024-11-06T04:04:59.217410Z",
     "shell.execute_reply": "2024-11-06T04:04:59.216788Z"
    },
    "lines_to_next_cell": 0,
    "papermill": {
     "duration": 0.027647,
     "end_time": "2024-11-06T04:04:59.219732",
     "exception": false,
     "start_time": "2024-11-06T04:04:59.192085",
     "status": "completed"
    },
    "tags": [
     "hide-input"
    ]
   },
   "outputs": [
    {
     "name": "stdout",
     "output_type": "stream",
     "text": [
      "Start Fit\n",
      "   - before_fit     : [TrainEvalCallback, Recorder, ProgressCallback, EarlyStoppingCallback]\n",
      "  Start Epoch Loop\n",
      "     - before_epoch   : [Recorder, ProgressCallback]\n",
      "    Start Train\n",
      "       - before_train   : [TrainEvalCallback, Recorder, ProgressCallback]\n",
      "      Start Batch Loop\n",
      "         - before_batch   : [ModelAdapterVAE, CastToTensor]\n",
      "         - after_pred     : [ModelAdapterVAE]\n",
      "         - after_loss     : [ModelAdapterVAE]\n",
      "         - before_backward: []\n",
      "         - before_step    : []\n",
      "         - after_step     : []\n",
      "         - after_cancel_batch: []\n",
      "         - after_batch    : [TrainEvalCallback, Recorder, ProgressCallback]\n",
      "      End Batch Loop\n",
      "    End Train\n",
      "     - after_cancel_train: [Recorder]\n",
      "     - after_train    : [Recorder, ProgressCallback]\n",
      "    Start Valid\n",
      "       - before_validate: [TrainEvalCallback, Recorder, ProgressCallback]\n",
      "      Start Batch Loop\n",
      "         - **CBs same as train batch**: []\n",
      "      End Batch Loop\n",
      "    End Valid\n",
      "     - after_cancel_validate: [Recorder]\n",
      "     - after_validate : [Recorder, ProgressCallback]\n",
      "  End Epoch Loop\n",
      "   - after_cancel_epoch: []\n",
      "   - after_epoch    : [Recorder, EarlyStoppingCallback]\n",
      "End Fit\n",
      " - after_cancel_fit: []\n",
      " - after_fit      : [ProgressCallback, EarlyStoppingCallback]\n"
     ]
    }
   ],
   "source": [
    "analysis.learn = Learner(dls=analysis.dls,\n",
    "                         model=analysis.model,\n",
    "                         loss_func=loss_fct,\n",
    "                         cbs=[ae.ModelAdapterVAE(),\n",
    "                              EarlyStoppingCallback(patience=args.patience)\n",
    "                              ])\n",
    "\n",
    "analysis.learn.show_training_loop()"
   ]
  },
  {
   "cell_type": "markdown",
   "id": "2231b67e",
   "metadata": {
    "papermill": {
     "duration": 0.018118,
     "end_time": "2024-11-06T04:04:59.256068",
     "exception": false,
     "start_time": "2024-11-06T04:04:59.237950",
     "status": "completed"
    },
    "tags": []
   },
   "source": [
    "Adding a `EarlyStoppingCallback` results in an error.  Potential fix in\n",
    "[PR3509](https://github.com/fastai/fastai/pull/3509) is not yet in\n",
    "current version. Try again later"
   ]
  },
  {
   "cell_type": "code",
   "execution_count": 23,
   "id": "f4b0aec2",
   "metadata": {
    "execution": {
     "iopub.execute_input": "2024-11-06T04:04:59.293842Z",
     "iopub.status.busy": "2024-11-06T04:04:59.293534Z",
     "iopub.status.idle": "2024-11-06T04:04:59.296599Z",
     "shell.execute_reply": "2024-11-06T04:04:59.296055Z"
    },
    "papermill": {
     "duration": 0.023634,
     "end_time": "2024-11-06T04:04:59.298285",
     "exception": false,
     "start_time": "2024-11-06T04:04:59.274651",
     "status": "completed"
    },
    "tags": [
     "hide-input"
    ]
   },
   "outputs": [],
   "source": [
    "# learn.summary()"
   ]
  },
  {
   "cell_type": "code",
   "execution_count": 24,
   "id": "563a1e0a",
   "metadata": {
    "execution": {
     "iopub.execute_input": "2024-11-06T04:04:59.336086Z",
     "iopub.status.busy": "2024-11-06T04:04:59.335804Z",
     "iopub.status.idle": "2024-11-06T04:05:02.748246Z",
     "shell.execute_reply": "2024-11-06T04:05:02.747499Z"
    },
    "papermill": {
     "duration": 3.432874,
     "end_time": "2024-11-06T04:05:02.749549",
     "exception": false,
     "start_time": "2024-11-06T04:04:59.316675",
     "status": "completed"
    },
    "tags": [
     "hide-input"
    ]
   },
   "outputs": [
    {
     "data": {
      "text/html": [
       "\n",
       "<style>\n",
       "    /* Turns off some styling */\n",
       "    progress {\n",
       "        /* gets rid of default border in Firefox and Opera. */\n",
       "        border: none;\n",
       "        /* Needs to be in here for Safari polyfill so background images work as expected. */\n",
       "        background-size: auto;\n",
       "    }\n",
       "    progress:not([value]), progress:not([value])::-webkit-progress-bar {\n",
       "        background: repeating-linear-gradient(45deg, #7e7e7e, #7e7e7e 10px, #5c5c5c 10px, #5c5c5c 20px);\n",
       "    }\n",
       "    .progress-bar-interrupted, .progress-bar-interrupted::-webkit-progress-bar {\n",
       "        background: #F44336;\n",
       "    }\n",
       "</style>\n"
      ],
      "text/plain": [
       "<IPython.core.display.HTML object>"
      ]
     },
     "metadata": {},
     "output_type": "display_data"
    },
    {
     "data": {
      "text/html": [],
      "text/plain": [
       "<IPython.core.display.HTML object>"
      ]
     },
     "metadata": {},
     "output_type": "display_data"
    },
    {
     "name": "stderr",
     "output_type": "stream",
     "text": [
      "/home/runner/work/pimms/pimms/project/.snakemake/conda/3fa5fb1d5dd2a817778dc1597a6471cf_/lib/python3.12/site-packages/fastai/learner.py:53: FutureWarning: You are using `torch.load` with `weights_only=False` (the current default value), which uses the default pickle module implicitly. It is possible to construct malicious pickle data which will execute arbitrary code during unpickling (See https://github.com/pytorch/pytorch/blob/main/SECURITY.md#untrusted-models for more details). In a future release, the default value for `weights_only` will be flipped to `True`. This limits the functions that could be executed during unpickling. Arbitrary objects will no longer be allowed to be loaded via this mode unless they are explicitly allowlisted by the user via `torch.serialization.add_safe_globals`. We recommend you start setting `weights_only=True` for any use case where you don't have full control of the loaded file. Please open an issue on GitHub for any issues related to this experimental feature.\n",
      "  state = torch.load(file, map_location=device, **torch_load_kwargs)\n"
     ]
    },
    {
     "data": {
      "text/plain": [
       "SuggestedLRs(valley=0.0063095735386013985)"
      ]
     },
     "execution_count": 24,
     "metadata": {},
     "output_type": "execute_result"
    },
    {
     "data": {
      "image/png": "[encoded data removed]",
      "text/plain": [
       "<Figure size 2352x1029 with 1 Axes>"
      ]
     },
     "metadata": {},
     "output_type": "display_data"
    }
   ],
   "source": [
    "suggested_lr = analysis.learn.lr_find()\n",
    "analysis.params['suggested_inital_lr'] = suggested_lr.valley\n",
    "suggested_lr"
   ]
  },
  {
   "cell_type": "code",
   "execution_count": 25,
   "id": "468565f5",
   "metadata": {
    "execution": {
     "iopub.execute_input": "2024-11-06T04:05:02.797133Z",
     "iopub.status.busy": "2024-11-06T04:05:02.796836Z",
     "iopub.status.idle": "2024-11-06T04:05:02.800219Z",
     "shell.execute_reply": "2024-11-06T04:05:02.799661Z"
    },
    "papermill": {
     "duration": 0.029274,
     "end_time": "2024-11-06T04:05:02.801645",
     "exception": false,
     "start_time": "2024-11-06T04:05:02.772371",
     "status": "completed"
    },
    "tags": [
     "hide-input"
    ]
   },
   "outputs": [],
   "source": [
    "results.clear()  # reset results"
   ]
  },
  {
   "cell_type": "markdown",
   "id": "c0f4eaee-f308-4081-aa16-0579fe9df7fe",
   "metadata": {
    "papermill": {
     "duration": 0.020194,
     "end_time": "2024-11-06T04:05:02.842488",
     "exception": false,
     "start_time": "2024-11-06T04:05:02.822294",
     "status": "completed"
    },
    "tags": []
   },
   "source": [
    "dump model config"
   ]
  },
  {
   "cell_type": "code",
   "execution_count": 26,
   "id": "ec77d9e5-f619-4355-ab37-2bd44029236d",
   "metadata": {
    "execution": {
     "iopub.execute_input": "2024-11-06T04:05:02.884106Z",
     "iopub.status.busy": "2024-11-06T04:05:02.883839Z",
     "iopub.status.idle": "2024-11-06T04:05:02.923995Z",
     "shell.execute_reply": "2024-11-06T04:05:02.923205Z"
    },
    "papermill": {
     "duration": 0.062499,
     "end_time": "2024-11-06T04:05:02.925543",
     "exception": false,
     "start_time": "2024-11-06T04:05:02.863044",
     "status": "completed"
    },
    "tags": [
     "hide-input"
    ]
   },
   "outputs": [],
   "source": [
    "# needs class as argument, not instance, but serialization needs instance\n",
    "analysis.params['last_decoder_activation'] = Sigmoid()\n",
    "\n",
    "pimmslearn.io.dump_json(\n",
    "    pimmslearn.io.parse_dict(\n",
    "        analysis.params, types=[\n",
    "            (torch.nn.modules.module.Module, lambda m: str(m))\n",
    "        ]),\n",
    "    args.out_models / TEMPLATE_MODEL_PARAMS.format(args.model_key))\n",
    "\n",
    "# restore original value\n",
    "analysis.params['last_decoder_activation'] = Sigmoid"
   ]
  },
  {
   "cell_type": "code",
   "execution_count": 27,
   "id": "43d18ab6",
   "metadata": {
    "execution": {
     "iopub.execute_input": "2024-11-06T04:05:02.969565Z",
     "iopub.status.busy": "2024-11-06T04:05:02.969187Z",
     "iopub.status.idle": "2024-11-06T04:05:10.224507Z",
     "shell.execute_reply": "2024-11-06T04:05:10.223990Z"
    },
    "papermill": {
     "duration": 7.278517,
     "end_time": "2024-11-06T04:05:10.225682",
     "exception": false,
     "start_time": "2024-11-06T04:05:02.947165",
     "status": "completed"
    },
    "tags": [
     "hide-input"
    ]
   },
   "outputs": [
    {
     "data": {
      "text/html": [
       "\n",
       "<style>\n",
       "    /* Turns off some styling */\n",
       "    progress {\n",
       "        /* gets rid of default border in Firefox and Opera. */\n",
       "        border: none;\n",
       "        /* Needs to be in here for Safari polyfill so background images work as expected. */\n",
       "        background-size: auto;\n",
       "    }\n",
       "    progress:not([value]), progress:not([value])::-webkit-progress-bar {\n",
       "        background: repeating-linear-gradient(45deg, #7e7e7e, #7e7e7e 10px, #5c5c5c 10px, #5c5c5c 20px);\n",
       "    }\n",
       "    .progress-bar-interrupted, .progress-bar-interrupted::-webkit-progress-bar {\n",
       "        background: #F44336;\n",
       "    }\n",
       "</style>\n"
      ],
      "text/plain": [
       "<IPython.core.display.HTML object>"
      ]
     },
     "metadata": {},
     "output_type": "display_data"
    },
    {
     "data": {
      "text/html": [
       "<table border=\"1\" class=\"dataframe\">\n",
       "  <thead>\n",
       "    <tr style=\"text-align: left;\">\n",
       "      <th>epoch</th>\n",
       "      <th>train_loss</th>\n",
       "      <th>valid_loss</th>\n",
       "      <th>time</th>\n",
       "    </tr>\n",
       "  </thead>\n",
       "  <tbody>\n",
       "    <tr>\n",
       "      <td>0</td>\n",
       "      <td>1687.078979</td>\n",
       "      <td>92.461754</td>\n",
       "      <td>00:00</td>\n",
       "    </tr>\n",
       "    <tr>\n",
       "      <td>1</td>\n",
       "      <td>1677.701050</td>\n",
       "      <td>93.341339</td>\n",
       "      <td>00:00</td>\n",
       "    </tr>\n",
       "    <tr>\n",
       "      <td>2</td>\n",
       "      <td>1669.346436</td>\n",
       "      <td>93.654770</td>\n",
       "      <td>00:00</td>\n",
       "    </tr>\n",
       "    <tr>\n",
       "      <td>3</td>\n",
       "      <td>1664.492554</td>\n",
       "      <td>94.578094</td>\n",
       "      <td>00:00</td>\n",
       "    </tr>\n",
       "    <tr>\n",
       "      <td>4</td>\n",
       "      <td>1659.358154</td>\n",
       "      <td>94.518639</td>\n",
       "      <td>00:00</td>\n",
       "    </tr>\n",
       "    <tr>\n",
       "      <td>5</td>\n",
       "      <td>1654.312134</td>\n",
       "      <td>94.956429</td>\n",
       "      <td>00:00</td>\n",
       "    </tr>\n",
       "    <tr>\n",
       "      <td>6</td>\n",
       "      <td>1648.841797</td>\n",
       "      <td>95.308372</td>\n",
       "      <td>00:00</td>\n",
       "    </tr>\n",
       "    <tr>\n",
       "      <td>7</td>\n",
       "      <td>1644.506958</td>\n",
       "      <td>95.463318</td>\n",
       "      <td>00:00</td>\n",
       "    </tr>\n",
       "    <tr>\n",
       "      <td>8</td>\n",
       "      <td>1639.397339</td>\n",
       "      <td>95.322472</td>\n",
       "      <td>00:00</td>\n",
       "    </tr>\n",
       "    <tr>\n",
       "      <td>9</td>\n",
       "      <td>1634.307861</td>\n",
       "      <td>95.160934</td>\n",
       "      <td>00:00</td>\n",
       "    </tr>\n",
       "    <tr>\n",
       "      <td>10</td>\n",
       "      <td>1629.688232</td>\n",
       "      <td>95.141052</td>\n",
       "      <td>00:00</td>\n",
       "    </tr>\n",
       "    <tr>\n",
       "      <td>11</td>\n",
       "      <td>1623.233154</td>\n",
       "      <td>95.132393</td>\n",
       "      <td>00:00</td>\n",
       "    </tr>\n",
       "    <tr>\n",
       "      <td>12</td>\n",
       "      <td>1616.454224</td>\n",
       "      <td>94.410202</td>\n",
       "      <td>00:00</td>\n",
       "    </tr>\n",
       "    <tr>\n",
       "      <td>13</td>\n",
       "      <td>1609.500732</td>\n",
       "      <td>94.588287</td>\n",
       "      <td>00:00</td>\n",
       "    </tr>\n",
       "    <tr>\n",
       "      <td>14</td>\n",
       "      <td>1600.869141</td>\n",
       "      <td>94.408318</td>\n",
       "      <td>00:00</td>\n",
       "    </tr>\n",
       "    <tr>\n",
       "      <td>15</td>\n",
       "      <td>1592.724121</td>\n",
       "      <td>93.788094</td>\n",
       "      <td>00:00</td>\n",
       "    </tr>\n",
       "    <tr>\n",
       "      <td>16</td>\n",
       "      <td>1583.178711</td>\n",
       "      <td>94.182869</td>\n",
       "      <td>00:00</td>\n",
       "    </tr>\n",
       "    <tr>\n",
       "      <td>17</td>\n",
       "      <td>1573.870605</td>\n",
       "      <td>93.652763</td>\n",
       "      <td>00:00</td>\n",
       "    </tr>\n",
       "    <tr>\n",
       "      <td>18</td>\n",
       "      <td>1564.232178</td>\n",
       "      <td>92.927917</td>\n",
       "      <td>00:00</td>\n",
       "    </tr>\n",
       "    <tr>\n",
       "      <td>19</td>\n",
       "      <td>1553.341919</td>\n",
       "      <td>93.197769</td>\n",
       "      <td>00:00</td>\n",
       "    </tr>\n",
       "    <tr>\n",
       "      <td>20</td>\n",
       "      <td>1542.519043</td>\n",
       "      <td>93.353554</td>\n",
       "      <td>00:00</td>\n",
       "    </tr>\n",
       "    <tr>\n",
       "      <td>21</td>\n",
       "      <td>1530.811401</td>\n",
       "      <td>93.695976</td>\n",
       "      <td>00:00</td>\n",
       "    </tr>\n",
       "    <tr>\n",
       "      <td>22</td>\n",
       "      <td>1518.716553</td>\n",
       "      <td>93.403488</td>\n",
       "      <td>00:00</td>\n",
       "    </tr>\n",
       "    <tr>\n",
       "      <td>23</td>\n",
       "      <td>1506.562500</td>\n",
       "      <td>93.663750</td>\n",
       "      <td>00:00</td>\n",
       "    </tr>\n",
       "    <tr>\n",
       "      <td>24</td>\n",
       "      <td>1495.006470</td>\n",
       "      <td>93.506790</td>\n",
       "      <td>00:00</td>\n",
       "    </tr>\n",
       "    <tr>\n",
       "      <td>25</td>\n",
       "      <td>1482.063354</td>\n",
       "      <td>93.324898</td>\n",
       "      <td>00:00</td>\n",
       "    </tr>\n",
       "    <tr>\n",
       "      <td>26</td>\n",
       "      <td>1470.266479</td>\n",
       "      <td>93.256783</td>\n",
       "      <td>00:00</td>\n",
       "    </tr>\n",
       "    <tr>\n",
       "      <td>27</td>\n",
       "      <td>1458.982544</td>\n",
       "      <td>92.497520</td>\n",
       "      <td>00:00</td>\n",
       "    </tr>\n",
       "    <tr>\n",
       "      <td>28</td>\n",
       "      <td>1446.972168</td>\n",
       "      <td>92.876358</td>\n",
       "      <td>00:00</td>\n",
       "    </tr>\n",
       "    <tr>\n",
       "      <td>29</td>\n",
       "      <td>1435.244141</td>\n",
       "      <td>93.467995</td>\n",
       "      <td>00:00</td>\n",
       "    </tr>\n",
       "    <tr>\n",
       "      <td>30</td>\n",
       "      <td>1422.664917</td>\n",
       "      <td>95.236504</td>\n",
       "      <td>00:00</td>\n",
       "    </tr>\n",
       "    <tr>\n",
       "      <td>31</td>\n",
       "      <td>1411.443604</td>\n",
       "      <td>96.242142</td>\n",
       "      <td>00:00</td>\n",
       "    </tr>\n",
       "    <tr>\n",
       "      <td>32</td>\n",
       "      <td>1400.374023</td>\n",
       "      <td>96.464813</td>\n",
       "      <td>00:00</td>\n",
       "    </tr>\n",
       "    <tr>\n",
       "      <td>33</td>\n",
       "      <td>1388.570068</td>\n",
       "      <td>96.362846</td>\n",
       "      <td>00:00</td>\n",
       "    </tr>\n",
       "    <tr>\n",
       "      <td>34</td>\n",
       "      <td>1380.712769</td>\n",
       "      <td>96.511848</td>\n",
       "      <td>00:00</td>\n",
       "    </tr>\n",
       "    <tr>\n",
       "      <td>35</td>\n",
       "      <td>1369.794312</td>\n",
       "      <td>96.035507</td>\n",
       "      <td>00:00</td>\n",
       "    </tr>\n",
       "    <tr>\n",
       "      <td>36</td>\n",
       "      <td>1359.163818</td>\n",
       "      <td>95.718338</td>\n",
       "      <td>00:00</td>\n",
       "    </tr>\n",
       "    <tr>\n",
       "      <td>37</td>\n",
       "      <td>1350.233643</td>\n",
       "      <td>95.146400</td>\n",
       "      <td>00:00</td>\n",
       "    </tr>\n",
       "    <tr>\n",
       "      <td>38</td>\n",
       "      <td>1340.571655</td>\n",
       "      <td>95.378899</td>\n",
       "      <td>00:00</td>\n",
       "    </tr>\n",
       "    <tr>\n",
       "      <td>39</td>\n",
       "      <td>1331.431152</td>\n",
       "      <td>95.451019</td>\n",
       "      <td>00:00</td>\n",
       "    </tr>\n",
       "    <tr>\n",
       "      <td>40</td>\n",
       "      <td>1323.461670</td>\n",
       "      <td>94.542252</td>\n",
       "      <td>00:00</td>\n",
       "    </tr>\n",
       "    <tr>\n",
       "      <td>41</td>\n",
       "      <td>1313.274658</td>\n",
       "      <td>94.078339</td>\n",
       "      <td>00:00</td>\n",
       "    </tr>\n",
       "    <tr>\n",
       "      <td>42</td>\n",
       "      <td>1306.841431</td>\n",
       "      <td>93.931183</td>\n",
       "      <td>00:00</td>\n",
       "    </tr>\n",
       "    <tr>\n",
       "      <td>43</td>\n",
       "      <td>1298.255127</td>\n",
       "      <td>93.455704</td>\n",
       "      <td>00:00</td>\n",
       "    </tr>\n",
       "    <tr>\n",
       "      <td>44</td>\n",
       "      <td>1289.584351</td>\n",
       "      <td>93.029366</td>\n",
       "      <td>00:00</td>\n",
       "    </tr>\n",
       "    <tr>\n",
       "      <td>45</td>\n",
       "      <td>1282.880005</td>\n",
       "      <td>93.504509</td>\n",
       "      <td>00:00</td>\n",
       "    </tr>\n",
       "    <tr>\n",
       "      <td>46</td>\n",
       "      <td>1274.309448</td>\n",
       "      <td>92.986153</td>\n",
       "      <td>00:00</td>\n",
       "    </tr>\n",
       "    <tr>\n",
       "      <td>47</td>\n",
       "      <td>1267.579590</td>\n",
       "      <td>92.872032</td>\n",
       "      <td>00:00</td>\n",
       "    </tr>\n",
       "    <tr>\n",
       "      <td>48</td>\n",
       "      <td>1259.912964</td>\n",
       "      <td>93.002632</td>\n",
       "      <td>00:00</td>\n",
       "    </tr>\n",
       "    <tr>\n",
       "      <td>49</td>\n",
       "      <td>1252.293579</td>\n",
       "      <td>92.906837</td>\n",
       "      <td>00:00</td>\n",
       "    </tr>\n",
       "    <tr>\n",
       "      <td>50</td>\n",
       "      <td>1245.562622</td>\n",
       "      <td>93.887001</td>\n",
       "      <td>00:00</td>\n",
       "    </tr>\n",
       "  </tbody>\n",
       "</table>"
      ],
      "text/plain": [
       "<IPython.core.display.HTML object>"
      ]
     },
     "metadata": {},
     "output_type": "display_data"
    },
    {
     "name": "stdout",
     "output_type": "stream",
     "text": [
      "No improvement since epoch 0: early stopping\n"
     ]
    }
   ],
   "source": [
    "# papermill_description=train\n",
    "analysis.learn.fit_one_cycle(args.epochs_max, lr_max=suggested_lr.valley)"
   ]
  },
  {
   "cell_type": "markdown",
   "id": "4f862ba1-7589-4076-9dae-b7e4868f4b8f",
   "metadata": {
    "papermill": {
     "duration": 0.02049,
     "end_time": "2024-11-06T04:05:10.267794",
     "exception": false,
     "start_time": "2024-11-06T04:05:10.247304",
     "status": "completed"
    },
    "tags": []
   },
   "source": [
    "Save number of actually trained epochs"
   ]
  },
  {
   "cell_type": "code",
   "execution_count": 28,
   "id": "079f9743-213c-422c-ba61-919c276fd710",
   "metadata": {
    "execution": {
     "iopub.execute_input": "2024-11-06T04:05:10.310550Z",
     "iopub.status.busy": "2024-11-06T04:05:10.310024Z",
     "iopub.status.idle": "2024-11-06T04:05:10.314661Z",
     "shell.execute_reply": "2024-11-06T04:05:10.314089Z"
    },
    "papermill": {
     "duration": 0.028428,
     "end_time": "2024-11-06T04:05:10.317017",
     "exception": false,
     "start_time": "2024-11-06T04:05:10.288589",
     "status": "completed"
    },
    "tags": [
     "hide-input"
    ]
   },
   "outputs": [
    {
     "data": {
      "text/plain": [
       "51"
      ]
     },
     "execution_count": 28,
     "metadata": {},
     "output_type": "execute_result"
    }
   ],
   "source": [
    "args.epoch_trained = analysis.learn.epoch + 1\n",
    "args.epoch_trained"
   ]
  },
  {
   "cell_type": "markdown",
   "id": "f41e0969",
   "metadata": {
    "papermill": {
     "duration": 0.0207,
     "end_time": "2024-11-06T04:05:10.358888",
     "exception": false,
     "start_time": "2024-11-06T04:05:10.338188",
     "status": "completed"
    },
    "tags": []
   },
   "source": [
    "#### Loss normalized by total number of measurements"
   ]
  },
  {
   "cell_type": "code",
   "execution_count": 29,
   "id": "3a4f91f9-c1a2-40c5-99d4-c289fb89cff8",
   "metadata": {
    "execution": {
     "iopub.execute_input": "2024-11-06T04:05:10.409888Z",
     "iopub.status.busy": "2024-11-06T04:05:10.401619Z",
     "iopub.status.idle": "2024-11-06T04:05:12.007091Z",
     "shell.execute_reply": "2024-11-06T04:05:12.006519Z"
    },
    "papermill": {
     "duration": 1.627887,
     "end_time": "2024-11-06T04:05:12.008022",
     "exception": false,
     "start_time": "2024-11-06T04:05:10.380135",
     "status": "completed"
    },
    "tags": [
     "hide-input"
    ]
   },
   "outputs": [
    {
     "name": "stdout",
     "output_type": "stream",
     "text": [
      "pimmslearn.plotting - INFO     Saved Figures to runs/alzheimer_study/figures/vae_training\n"
     ]
    },
    {
     "data": {
      "image/png": "[encoded data removed]",
      "text/plain": [
       "<Figure size 2205x1176 with 1 Axes>"
      ]
     },
     "metadata": {},
     "output_type": "display_data"
    }
   ],
   "source": [
    "N_train_notna = data.train_X.notna().sum().sum()\n",
    "N_val_notna = data.val_y.notna().sum().sum()\n",
    "fig = models.plot_training_losses(analysis.learn, args.model_key,\n",
    "                                  folder=args.out_figures,\n",
    "                                  norm_factors=[N_train_notna, N_val_notna])"
   ]
  },
  {
   "cell_type": "markdown",
   "id": "9db46826-6ab0-47b5-942c-0edc08a15e35",
   "metadata": {
    "papermill": {
     "duration": 0.017649,
     "end_time": "2024-11-06T04:05:12.049195",
     "exception": false,
     "start_time": "2024-11-06T04:05:12.031546",
     "status": "completed"
    },
    "tags": []
   },
   "source": [
    "### Predictions\n",
    "create predictions and select validation data predictions"
   ]
  },
  {
   "cell_type": "code",
   "execution_count": 30,
   "id": "e73fb4dd-e73a-48df-82b7-b378fd3ee266",
   "metadata": {
    "execution": {
     "iopub.execute_input": "2024-11-06T04:05:12.075128Z",
     "iopub.status.busy": "2024-11-06T04:05:12.074700Z",
     "iopub.status.idle": "2024-11-06T04:05:12.153317Z",
     "shell.execute_reply": "2024-11-06T04:05:12.152744Z"
    },
    "papermill": {
     "duration": 0.093324,
     "end_time": "2024-11-06T04:05:12.154548",
     "exception": false,
     "start_time": "2024-11-06T04:05:12.061224",
     "status": "completed"
    },
    "tags": [
     "hide-input"
    ]
   },
   "outputs": [
    {
     "data": {
      "text/html": [
       "\n",
       "<style>\n",
       "    /* Turns off some styling */\n",
       "    progress {\n",
       "        /* gets rid of default border in Firefox and Opera. */\n",
       "        border: none;\n",
       "        /* Needs to be in here for Safari polyfill so background images work as expected. */\n",
       "        background-size: auto;\n",
       "    }\n",
       "    progress:not([value]), progress:not([value])::-webkit-progress-bar {\n",
       "        background: repeating-linear-gradient(45deg, #7e7e7e, #7e7e7e 10px, #5c5c5c 10px, #5c5c5c 20px);\n",
       "    }\n",
       "    .progress-bar-interrupted, .progress-bar-interrupted::-webkit-progress-bar {\n",
       "        background: #F44336;\n",
       "    }\n",
       "</style>\n"
      ],
      "text/plain": [
       "<IPython.core.display.HTML object>"
      ]
     },
     "metadata": {},
     "output_type": "display_data"
    },
    {
     "data": {
      "text/html": [],
      "text/plain": [
       "<IPython.core.display.HTML object>"
      ]
     },
     "metadata": {},
     "output_type": "display_data"
    },
    {
     "data": {
      "text/plain": [
       "Sample ID   protein groups                                                                \n",
       "Sample_000  A0A024QZX5;A0A087X1N8;P35237                                                     15.920\n",
       "            A0A024R0T9;K7ER74;P02655                                                         16.831\n",
       "            A0A024R3W6;A0A024R412;O60462;O60462-2;O60462-3;O60462-4;O60462-5;Q7LBX6;X5D2Q8   15.732\n",
       "            A0A024R644;A0A0A0MRU5;A0A1B0GWI2;O75503                                          16.645\n",
       "            A0A075B6H7                                                                       16.764\n",
       "                                                                                              ...  \n",
       "Sample_209  Q9Y6R7                                                                           18.971\n",
       "            Q9Y6X5                                                                           15.973\n",
       "            Q9Y6Y8;Q9Y6Y8-2                                                                  19.576\n",
       "            Q9Y6Y9                                                                           12.827\n",
       "            S4R3U6                                                                           11.327\n",
       "Length: 298410, dtype: float32"
      ]
     },
     "execution_count": 30,
     "metadata": {},
     "output_type": "execute_result"
    }
   ],
   "source": [
    "analysis.model.eval()\n",
    "pred, target = res = ae.get_preds_from_df(df=data.train_X, learn=analysis.learn,\n",
    "                                          position_pred_tuple=0,\n",
    "                                          transformer=analysis.transform)\n",
    "pred = pred.stack()\n",
    "pred"
   ]
  },
  {
   "cell_type": "code",
   "execution_count": 31,
   "id": "a9fc0e36",
   "metadata": {
    "execution": {
     "iopub.execute_input": "2024-11-06T04:05:12.201466Z",
     "iopub.status.busy": "2024-11-06T04:05:12.201107Z",
     "iopub.status.idle": "2024-11-06T04:05:12.214516Z",
     "shell.execute_reply": "2024-11-06T04:05:12.213973Z"
    },
    "lines_to_next_cell": 2,
    "papermill": {
     "duration": 0.037754,
     "end_time": "2024-11-06T04:05:12.215336",
     "exception": false,
     "start_time": "2024-11-06T04:05:12.177582",
     "status": "completed"
    },
    "tags": [
     "hide-input"
    ]
   },
   "outputs": [
    {
     "data": {
      "text/html": [
       "<div>\n",
       "<style scoped>\n",
       "    .dataframe tbody tr th:only-of-type {\n",
       "        vertical-align: middle;\n",
       "    }\n",
       "\n",
       "    .dataframe tbody tr th {\n",
       "        vertical-align: top;\n",
       "    }\n",
       "\n",
       "    .dataframe thead th {\n",
       "        text-align: right;\n",
       "    }\n",
       "</style>\n",
       "<table border=\"1\" class=\"dataframe\">\n",
       "  <thead>\n",
       "    <tr style=\"text-align: right;\">\n",
       "      <th></th>\n",
       "      <th></th>\n",
       "      <th>observed</th>\n",
       "      <th>VAE</th>\n",
       "    </tr>\n",
       "    <tr>\n",
       "      <th>Sample ID</th>\n",
       "      <th>protein groups</th>\n",
       "      <th></th>\n",
       "      <th></th>\n",
       "    </tr>\n",
       "  </thead>\n",
       "  <tbody>\n",
       "    <tr>\n",
       "      <th>Sample_158</th>\n",
       "      <th>Q9UN70;Q9UN70-2</th>\n",
       "      <td>14.630</td>\n",
       "      <td>15.684</td>\n",
       "    </tr>\n",
       "    <tr>\n",
       "      <th>Sample_050</th>\n",
       "      <th>Q9Y287</th>\n",
       "      <td>15.755</td>\n",
       "      <td>16.774</td>\n",
       "    </tr>\n",
       "    <tr>\n",
       "      <th>Sample_107</th>\n",
       "      <th>Q8N475;Q8N475-2</th>\n",
       "      <td>15.029</td>\n",
       "      <td>14.593</td>\n",
       "    </tr>\n",
       "    <tr>\n",
       "      <th>Sample_199</th>\n",
       "      <th>P06307</th>\n",
       "      <td>19.376</td>\n",
       "      <td>19.150</td>\n",
       "    </tr>\n",
       "    <tr>\n",
       "      <th>Sample_067</th>\n",
       "      <th>Q5VUB5</th>\n",
       "      <td>15.309</td>\n",
       "      <td>14.755</td>\n",
       "    </tr>\n",
       "    <tr>\n",
       "      <th>...</th>\n",
       "      <th>...</th>\n",
       "      <td>...</td>\n",
       "      <td>...</td>\n",
       "    </tr>\n",
       "    <tr>\n",
       "      <th>Sample_111</th>\n",
       "      <th>F6SYF8;Q9UBP4</th>\n",
       "      <td>22.822</td>\n",
       "      <td>22.838</td>\n",
       "    </tr>\n",
       "    <tr>\n",
       "      <th>Sample_002</th>\n",
       "      <th>A0A0A0MT36</th>\n",
       "      <td>18.165</td>\n",
       "      <td>15.810</td>\n",
       "    </tr>\n",
       "    <tr>\n",
       "      <th>Sample_049</th>\n",
       "      <th>Q8WY21;Q8WY21-2;Q8WY21-3;Q8WY21-4</th>\n",
       "      <td>15.525</td>\n",
       "      <td>15.736</td>\n",
       "    </tr>\n",
       "    <tr>\n",
       "      <th>Sample_182</th>\n",
       "      <th>Q8NFT8</th>\n",
       "      <td>14.379</td>\n",
       "      <td>13.559</td>\n",
       "    </tr>\n",
       "    <tr>\n",
       "      <th>Sample_123</th>\n",
       "      <th>Q16853;Q16853-2</th>\n",
       "      <td>14.504</td>\n",
       "      <td>14.468</td>\n",
       "    </tr>\n",
       "  </tbody>\n",
       "</table>\n",
       "<p>12600 rows × 2 columns</p>\n",
       "</div>"
      ],
      "text/plain": [
       "                                              observed    VAE\n",
       "Sample ID  protein groups                                    \n",
       "Sample_158 Q9UN70;Q9UN70-2                      14.630 15.684\n",
       "Sample_050 Q9Y287                               15.755 16.774\n",
       "Sample_107 Q8N475;Q8N475-2                      15.029 14.593\n",
       "Sample_199 P06307                               19.376 19.150\n",
       "Sample_067 Q5VUB5                               15.309 14.755\n",
       "...                                                ...    ...\n",
       "Sample_111 F6SYF8;Q9UBP4                        22.822 22.838\n",
       "Sample_002 A0A0A0MT36                           18.165 15.810\n",
       "Sample_049 Q8WY21;Q8WY21-2;Q8WY21-3;Q8WY21-4    15.525 15.736\n",
       "Sample_182 Q8NFT8                               14.379 13.559\n",
       "Sample_123 Q16853;Q16853-2                      14.504 14.468\n",
       "\n",
       "[12600 rows x 2 columns]"
      ]
     },
     "execution_count": 31,
     "metadata": {},
     "output_type": "execute_result"
    }
   ],
   "source": [
    "val_pred_simulated_na['VAE'] = pred  # 'model_key' ?\n",
    "val_pred_simulated_na"
   ]
  },
  {
   "cell_type": "code",
   "execution_count": 32,
   "id": "b4d1fd73-9eb7-4f25-ad81-c42c6a840e77",
   "metadata": {
    "execution": {
     "iopub.execute_input": "2024-11-06T04:05:12.254298Z",
     "iopub.status.busy": "2024-11-06T04:05:12.253631Z",
     "iopub.status.idle": "2024-11-06T04:05:12.263597Z",
     "shell.execute_reply": "2024-11-06T04:05:12.263102Z"
    },
    "papermill": {
     "duration": 0.033624,
     "end_time": "2024-11-06T04:05:12.264614",
     "exception": false,
     "start_time": "2024-11-06T04:05:12.230990",
     "status": "completed"
    },
    "tags": [
     "hide-input"
    ]
   },
   "outputs": [
    {
     "data": {
      "text/html": [
       "<div>\n",
       "<style scoped>\n",
       "    .dataframe tbody tr th:only-of-type {\n",
       "        vertical-align: middle;\n",
       "    }\n",
       "\n",
       "    .dataframe tbody tr th {\n",
       "        vertical-align: top;\n",
       "    }\n",
       "\n",
       "    .dataframe thead th {\n",
       "        text-align: right;\n",
       "    }\n",
       "</style>\n",
       "<table border=\"1\" class=\"dataframe\">\n",
       "  <thead>\n",
       "    <tr style=\"text-align: right;\">\n",
       "      <th></th>\n",
       "      <th></th>\n",
       "      <th>observed</th>\n",
       "      <th>VAE</th>\n",
       "    </tr>\n",
       "    <tr>\n",
       "      <th>Sample ID</th>\n",
       "      <th>protein groups</th>\n",
       "      <th></th>\n",
       "      <th></th>\n",
       "    </tr>\n",
       "  </thead>\n",
       "  <tbody>\n",
       "    <tr>\n",
       "      <th rowspan=\"5\" valign=\"top\">Sample_000</th>\n",
       "      <th>A0A075B6P5;P01615</th>\n",
       "      <td>17.016</td>\n",
       "      <td>17.432</td>\n",
       "    </tr>\n",
       "    <tr>\n",
       "      <th>A0A087X089;Q16627;Q16627-2</th>\n",
       "      <td>18.280</td>\n",
       "      <td>17.836</td>\n",
       "    </tr>\n",
       "    <tr>\n",
       "      <th>A0A0B4J2B5;S4R460</th>\n",
       "      <td>21.735</td>\n",
       "      <td>22.186</td>\n",
       "    </tr>\n",
       "    <tr>\n",
       "      <th>A0A140T971;O95865;Q5SRR8;Q5SSV3</th>\n",
       "      <td>14.603</td>\n",
       "      <td>15.281</td>\n",
       "    </tr>\n",
       "    <tr>\n",
       "      <th>A0A140TA33;A0A140TA41;A0A140TA52;P22105;P22105-3;P22105-4</th>\n",
       "      <td>16.143</td>\n",
       "      <td>16.711</td>\n",
       "    </tr>\n",
       "    <tr>\n",
       "      <th>...</th>\n",
       "      <th>...</th>\n",
       "      <td>...</td>\n",
       "      <td>...</td>\n",
       "    </tr>\n",
       "    <tr>\n",
       "      <th rowspan=\"5\" valign=\"top\">Sample_209</th>\n",
       "      <th>Q96ID5</th>\n",
       "      <td>16.074</td>\n",
       "      <td>16.063</td>\n",
       "    </tr>\n",
       "    <tr>\n",
       "      <th>Q9H492;Q9H492-2</th>\n",
       "      <td>13.173</td>\n",
       "      <td>13.457</td>\n",
       "    </tr>\n",
       "    <tr>\n",
       "      <th>Q9HC57</th>\n",
       "      <td>14.207</td>\n",
       "      <td>14.708</td>\n",
       "    </tr>\n",
       "    <tr>\n",
       "      <th>Q9NPH3;Q9NPH3-2;Q9NPH3-5</th>\n",
       "      <td>14.962</td>\n",
       "      <td>15.026</td>\n",
       "    </tr>\n",
       "    <tr>\n",
       "      <th>Q9UGM5;Q9UGM5-2</th>\n",
       "      <td>16.871</td>\n",
       "      <td>16.612</td>\n",
       "    </tr>\n",
       "  </tbody>\n",
       "</table>\n",
       "<p>12600 rows × 2 columns</p>\n",
       "</div>"
      ],
      "text/plain": [
       "                                                                      observed  \\\n",
       "Sample ID  protein groups                                                        \n",
       "Sample_000 A0A075B6P5;P01615                                            17.016   \n",
       "           A0A087X089;Q16627;Q16627-2                                   18.280   \n",
       "           A0A0B4J2B5;S4R460                                            21.735   \n",
       "           A0A140T971;O95865;Q5SRR8;Q5SSV3                              14.603   \n",
       "           A0A140TA33;A0A140TA41;A0A140TA52;P22105;P22105-3;P22105-4    16.143   \n",
       "...                                                                        ...   \n",
       "Sample_209 Q96ID5                                                       16.074   \n",
       "           Q9H492;Q9H492-2                                              13.173   \n",
       "           Q9HC57                                                       14.207   \n",
       "           Q9NPH3;Q9NPH3-2;Q9NPH3-5                                     14.962   \n",
       "           Q9UGM5;Q9UGM5-2                                              16.871   \n",
       "\n",
       "                                                                        VAE  \n",
       "Sample ID  protein groups                                                    \n",
       "Sample_000 A0A075B6P5;P01615                                         17.432  \n",
       "           A0A087X089;Q16627;Q16627-2                                17.836  \n",
       "           A0A0B4J2B5;S4R460                                         22.186  \n",
       "           A0A140T971;O95865;Q5SRR8;Q5SSV3                           15.281  \n",
       "           A0A140TA33;A0A140TA41;A0A140TA52;P22105;P22105-3;P22105-4 16.711  \n",
       "...                                                                     ...  \n",
       "Sample_209 Q96ID5                                                    16.063  \n",
       "           Q9H492;Q9H492-2                                           13.457  \n",
       "           Q9HC57                                                    14.708  \n",
       "           Q9NPH3;Q9NPH3-2;Q9NPH3-5                                  15.026  \n",
       "           Q9UGM5;Q9UGM5-2                                           16.612  \n",
       "\n",
       "[12600 rows x 2 columns]"
      ]
     },
     "execution_count": 32,
     "metadata": {},
     "output_type": "execute_result"
    }
   ],
   "source": [
    "test_pred_simulated_na['VAE'] = pred  # model_key?\n",
    "test_pred_simulated_na"
   ]
  },
  {
   "cell_type": "markdown",
   "id": "733d4cbe",
   "metadata": {
    "papermill": {
     "duration": 0.024484,
     "end_time": "2024-11-06T04:05:12.319231",
     "exception": false,
     "start_time": "2024-11-06T04:05:12.294747",
     "status": "completed"
    },
    "tags": []
   },
   "source": [
    "save missing values predictions"
   ]
  },
  {
   "cell_type": "code",
   "execution_count": 33,
   "id": "c43e401f",
   "metadata": {
    "execution": {
     "iopub.execute_input": "2024-11-06T04:05:12.375589Z",
     "iopub.status.busy": "2024-11-06T04:05:12.375103Z",
     "iopub.status.idle": "2024-11-06T04:05:12.742280Z",
     "shell.execute_reply": "2024-11-06T04:05:12.741494Z"
    },
    "lines_to_next_cell": 2,
    "papermill": {
     "duration": 0.398248,
     "end_time": "2024-11-06T04:05:12.743382",
     "exception": false,
     "start_time": "2024-11-06T04:05:12.345134",
     "status": "completed"
    },
    "tags": [
     "hide-input"
    ]
   },
   "outputs": [
    {
     "data": {
      "text/plain": [
       "Sample ID   protein groups          \n",
       "Sample_000  A0A075B6J9                 15.572\n",
       "            A0A075B6Q5                 15.810\n",
       "            A0A075B6R2                 16.609\n",
       "            A0A075B6S5                 16.085\n",
       "            A0A087WSY4                 16.207\n",
       "                                        ...  \n",
       "Sample_209  Q9P1W8;Q9P1W8-2;Q9P1W8-4   16.131\n",
       "            Q9UI40;Q9UI40-2            16.347\n",
       "            Q9UIW2                     16.484\n",
       "            Q9UMX0;Q9UMX0-2;Q9UMX0-4   13.845\n",
       "            Q9UP79                     15.681\n",
       "Name: intensity, Length: 46401, dtype: float32"
      ]
     },
     "metadata": {},
     "output_type": "display_data"
    }
   ],
   "source": [
    "if args.save_pred_real_na:\n",
    "    pred_real_na = ae.get_missing_values(df_train_wide=data.train_X,\n",
    "                                         val_idx=val_pred_simulated_na.index,\n",
    "                                         test_idx=test_pred_simulated_na.index,\n",
    "                                         pred=pred)\n",
    "    display(pred_real_na)\n",
    "    pred_real_na.to_csv(args.out_preds / f\"pred_real_na_{args.model_key}.csv\")"
   ]
  },
  {
   "cell_type": "markdown",
   "id": "d6c3dd2a-a30c-4e72-b5e8-7de2a7469eb2",
   "metadata": {
    "papermill": {
     "duration": 0.024498,
     "end_time": "2024-11-06T04:05:12.793906",
     "exception": false,
     "start_time": "2024-11-06T04:05:12.769408",
     "status": "completed"
    },
    "tags": []
   },
   "source": [
    "### Plots\n",
    "\n",
    "- validation data"
   ]
  },
  {
   "cell_type": "code",
   "execution_count": 34,
   "id": "7999c89e-65fe-4c00-8e20-cb8ab88d1603",
   "metadata": {
    "execution": {
     "iopub.execute_input": "2024-11-06T04:05:12.843409Z",
     "iopub.status.busy": "2024-11-06T04:05:12.843118Z",
     "iopub.status.idle": "2024-11-06T04:05:12.882109Z",
     "shell.execute_reply": "2024-11-06T04:05:12.881502Z"
    },
    "papermill": {
     "duration": 0.065864,
     "end_time": "2024-11-06T04:05:12.883132",
     "exception": false,
     "start_time": "2024-11-06T04:05:12.817268",
     "status": "completed"
    },
    "tags": [
     "hide-input"
    ]
   },
   "outputs": [
    {
     "data": {
      "text/html": [
       "<div>\n",
       "<style scoped>\n",
       "    .dataframe tbody tr th:only-of-type {\n",
       "        vertical-align: middle;\n",
       "    }\n",
       "\n",
       "    .dataframe tbody tr th {\n",
       "        vertical-align: top;\n",
       "    }\n",
       "\n",
       "    .dataframe thead th {\n",
       "        text-align: right;\n",
       "    }\n",
       "</style>\n",
       "<table border=\"1\" class=\"dataframe\">\n",
       "  <thead>\n",
       "    <tr style=\"text-align: right;\">\n",
       "      <th></th>\n",
       "      <th>latent dimension 1</th>\n",
       "      <th>latent dimension 2</th>\n",
       "      <th>latent dimension 3</th>\n",
       "      <th>latent dimension 4</th>\n",
       "      <th>latent dimension 5</th>\n",
       "      <th>latent dimension 6</th>\n",
       "      <th>latent dimension 7</th>\n",
       "      <th>latent dimension 8</th>\n",
       "      <th>latent dimension 9</th>\n",
       "      <th>latent dimension 10</th>\n",
       "    </tr>\n",
       "    <tr>\n",
       "      <th>Sample ID</th>\n",
       "      <th></th>\n",
       "      <th></th>\n",
       "      <th></th>\n",
       "      <th></th>\n",
       "      <th></th>\n",
       "      <th></th>\n",
       "      <th></th>\n",
       "      <th></th>\n",
       "      <th></th>\n",
       "      <th></th>\n",
       "    </tr>\n",
       "  </thead>\n",
       "  <tbody>\n",
       "    <tr>\n",
       "      <th>Sample_000</th>\n",
       "      <td>-0.681</td>\n",
       "      <td>-0.229</td>\n",
       "      <td>0.188</td>\n",
       "      <td>0.204</td>\n",
       "      <td>3.630</td>\n",
       "      <td>0.820</td>\n",
       "      <td>0.752</td>\n",
       "      <td>-0.905</td>\n",
       "      <td>-2.334</td>\n",
       "      <td>-0.223</td>\n",
       "    </tr>\n",
       "    <tr>\n",
       "      <th>Sample_001</th>\n",
       "      <td>0.035</td>\n",
       "      <td>-0.403</td>\n",
       "      <td>-0.004</td>\n",
       "      <td>0.704</td>\n",
       "      <td>3.202</td>\n",
       "      <td>-0.121</td>\n",
       "      <td>1.862</td>\n",
       "      <td>-0.205</td>\n",
       "      <td>-1.923</td>\n",
       "      <td>0.708</td>\n",
       "    </tr>\n",
       "    <tr>\n",
       "      <th>Sample_002</th>\n",
       "      <td>0.415</td>\n",
       "      <td>-0.658</td>\n",
       "      <td>0.501</td>\n",
       "      <td>1.109</td>\n",
       "      <td>4.041</td>\n",
       "      <td>1.842</td>\n",
       "      <td>-0.299</td>\n",
       "      <td>-0.482</td>\n",
       "      <td>-1.153</td>\n",
       "      <td>0.520</td>\n",
       "    </tr>\n",
       "    <tr>\n",
       "      <th>Sample_003</th>\n",
       "      <td>-0.294</td>\n",
       "      <td>-0.392</td>\n",
       "      <td>-0.133</td>\n",
       "      <td>1.366</td>\n",
       "      <td>4.147</td>\n",
       "      <td>1.685</td>\n",
       "      <td>0.196</td>\n",
       "      <td>-0.646</td>\n",
       "      <td>-2.076</td>\n",
       "      <td>0.098</td>\n",
       "    </tr>\n",
       "    <tr>\n",
       "      <th>Sample_004</th>\n",
       "      <td>-0.268</td>\n",
       "      <td>0.148</td>\n",
       "      <td>0.264</td>\n",
       "      <td>0.742</td>\n",
       "      <td>3.604</td>\n",
       "      <td>0.451</td>\n",
       "      <td>1.205</td>\n",
       "      <td>-0.385</td>\n",
       "      <td>-2.171</td>\n",
       "      <td>0.290</td>\n",
       "    </tr>\n",
       "    <tr>\n",
       "      <th>...</th>\n",
       "      <td>...</td>\n",
       "      <td>...</td>\n",
       "      <td>...</td>\n",
       "      <td>...</td>\n",
       "      <td>...</td>\n",
       "      <td>...</td>\n",
       "      <td>...</td>\n",
       "      <td>...</td>\n",
       "      <td>...</td>\n",
       "      <td>...</td>\n",
       "    </tr>\n",
       "    <tr>\n",
       "      <th>Sample_205</th>\n",
       "      <td>1.953</td>\n",
       "      <td>0.976</td>\n",
       "      <td>2.204</td>\n",
       "      <td>0.336</td>\n",
       "      <td>0.574</td>\n",
       "      <td>0.622</td>\n",
       "      <td>-2.018</td>\n",
       "      <td>-1.704</td>\n",
       "      <td>-1.026</td>\n",
       "      <td>1.437</td>\n",
       "    </tr>\n",
       "    <tr>\n",
       "      <th>Sample_206</th>\n",
       "      <td>1.835</td>\n",
       "      <td>-1.002</td>\n",
       "      <td>1.969</td>\n",
       "      <td>-1.604</td>\n",
       "      <td>0.407</td>\n",
       "      <td>0.184</td>\n",
       "      <td>-1.109</td>\n",
       "      <td>-1.143</td>\n",
       "      <td>2.002</td>\n",
       "      <td>-0.518</td>\n",
       "    </tr>\n",
       "    <tr>\n",
       "      <th>Sample_207</th>\n",
       "      <td>0.751</td>\n",
       "      <td>1.239</td>\n",
       "      <td>2.079</td>\n",
       "      <td>-1.382</td>\n",
       "      <td>0.252</td>\n",
       "      <td>-0.044</td>\n",
       "      <td>-0.786</td>\n",
       "      <td>-1.447</td>\n",
       "      <td>-1.760</td>\n",
       "      <td>0.151</td>\n",
       "    </tr>\n",
       "    <tr>\n",
       "      <th>Sample_208</th>\n",
       "      <td>2.362</td>\n",
       "      <td>1.307</td>\n",
       "      <td>3.022</td>\n",
       "      <td>-1.279</td>\n",
       "      <td>0.199</td>\n",
       "      <td>-1.503</td>\n",
       "      <td>0.354</td>\n",
       "      <td>0.184</td>\n",
       "      <td>-0.837</td>\n",
       "      <td>1.143</td>\n",
       "    </tr>\n",
       "    <tr>\n",
       "      <th>Sample_209</th>\n",
       "      <td>1.795</td>\n",
       "      <td>1.095</td>\n",
       "      <td>2.571</td>\n",
       "      <td>-0.534</td>\n",
       "      <td>0.969</td>\n",
       "      <td>-0.385</td>\n",
       "      <td>-0.608</td>\n",
       "      <td>-0.187</td>\n",
       "      <td>-0.161</td>\n",
       "      <td>0.323</td>\n",
       "    </tr>\n",
       "  </tbody>\n",
       "</table>\n",
       "<p>210 rows × 10 columns</p>\n",
       "</div>"
      ],
      "text/plain": [
       "            latent dimension 1  latent dimension 2  latent dimension 3  \\\n",
       "Sample ID                                                                \n",
       "Sample_000              -0.681              -0.229               0.188   \n",
       "Sample_001               0.035              -0.403              -0.004   \n",
       "Sample_002               0.415              -0.658               0.501   \n",
       "Sample_003              -0.294              -0.392              -0.133   \n",
       "Sample_004              -0.268               0.148               0.264   \n",
       "...                        ...                 ...                 ...   \n",
       "Sample_205               1.953               0.976               2.204   \n",
       "Sample_206               1.835              -1.002               1.969   \n",
       "Sample_207               0.751               1.239               2.079   \n",
       "Sample_208               2.362               1.307               3.022   \n",
       "Sample_209               1.795               1.095               2.571   \n",
       "\n",
       "            latent dimension 4  latent dimension 5  latent dimension 6  \\\n",
       "Sample ID                                                                \n",
       "Sample_000               0.204               3.630               0.820   \n",
       "Sample_001               0.704               3.202              -0.121   \n",
       "Sample_002               1.109               4.041               1.842   \n",
       "Sample_003               1.366               4.147               1.685   \n",
       "Sample_004               0.742               3.604               0.451   \n",
       "...                        ...                 ...                 ...   \n",
       "Sample_205               0.336               0.574               0.622   \n",
       "Sample_206              -1.604               0.407               0.184   \n",
       "Sample_207              -1.382               0.252              -0.044   \n",
       "Sample_208              -1.279               0.199              -1.503   \n",
       "Sample_209              -0.534               0.969              -0.385   \n",
       "\n",
       "            latent dimension 7  latent dimension 8  latent dimension 9  \\\n",
       "Sample ID                                                                \n",
       "Sample_000               0.752              -0.905              -2.334   \n",
       "Sample_001               1.862              -0.205              -1.923   \n",
       "Sample_002              -0.299              -0.482              -1.153   \n",
       "Sample_003               0.196              -0.646              -2.076   \n",
       "Sample_004               1.205              -0.385              -2.171   \n",
       "...                        ...                 ...                 ...   \n",
       "Sample_205              -2.018              -1.704              -1.026   \n",
       "Sample_206              -1.109              -1.143               2.002   \n",
       "Sample_207              -0.786              -1.447              -1.760   \n",
       "Sample_208               0.354               0.184              -0.837   \n",
       "Sample_209              -0.608              -0.187              -0.161   \n",
       "\n",
       "            latent dimension 10  \n",
       "Sample ID                        \n",
       "Sample_000               -0.223  \n",
       "Sample_001                0.708  \n",
       "Sample_002                0.520  \n",
       "Sample_003                0.098  \n",
       "Sample_004                0.290  \n",
       "...                         ...  \n",
       "Sample_205                1.437  \n",
       "Sample_206               -0.518  \n",
       "Sample_207                0.151  \n",
       "Sample_208                1.143  \n",
       "Sample_209                0.323  \n",
       "\n",
       "[210 rows x 10 columns]"
      ]
     },
     "execution_count": 34,
     "metadata": {},
     "output_type": "execute_result"
    }
   ],
   "source": [
    "analysis.model = analysis.model.cpu()\n",
    "# underlying data is train_X for both\n",
    "# assert analysis.dls.valid.data.equals(analysis.dls.train.data)\n",
    "# Reconstruct DataLoader for case that during training singleton batches were dropped\n",
    "_dl = torch.utils.data.DataLoader(\n",
    "    pimmslearn.io.datasets.DatasetWithTarget(\n",
    "        analysis.dls.valid.data),\n",
    "    batch_size=args.batch_size,\n",
    "    shuffle=False)\n",
    "df_latent = pimmslearn.model.get_latent_space(analysis.model.get_mu_and_logvar,\n",
    "                                              dl=_dl,\n",
    "                                              dl_index=analysis.dls.valid.data.index)\n",
    "df_latent"
   ]
  },
  {
   "cell_type": "code",
   "execution_count": 35,
   "id": "1fdd8f86-639e-4e0e-bb89-466f3ba0ef7b",
   "metadata": {
    "execution": {
     "iopub.execute_input": "2024-11-06T04:05:12.930328Z",
     "iopub.status.busy": "2024-11-06T04:05:12.930055Z",
     "iopub.status.idle": "2024-11-06T04:05:12.936315Z",
     "shell.execute_reply": "2024-11-06T04:05:12.935730Z"
    },
    "papermill": {
     "duration": 0.030851,
     "end_time": "2024-11-06T04:05:12.937598",
     "exception": false,
     "start_time": "2024-11-06T04:05:12.906747",
     "status": "completed"
    },
    "tags": [
     "hide-input"
    ]
   },
   "outputs": [],
   "source": [
    "ana_latent = analyzers.LatentAnalysis(df_latent,\n",
    "                                      df_meta,\n",
    "                                      args.model_key,\n",
    "                                      folder=args.out_figures)\n",
    "if args.meta_date_col and df_meta is not None:\n",
    "    figures[f'latent_{args.model_key}_by_date'], ax = ana_latent.plot_by_date(\n",
    "        args.meta_date_col)"
   ]
  },
  {
   "cell_type": "code",
   "execution_count": 36,
   "id": "763a5633-a9dd-4785-a0c0-91f588346c22",
   "metadata": {
    "execution": {
     "iopub.execute_input": "2024-11-06T04:05:12.990259Z",
     "iopub.status.busy": "2024-11-06T04:05:12.989403Z",
     "iopub.status.idle": "2024-11-06T04:05:12.993321Z",
     "shell.execute_reply": "2024-11-06T04:05:12.992692Z"
    },
    "papermill": {
     "duration": 0.032532,
     "end_time": "2024-11-06T04:05:12.995332",
     "exception": false,
     "start_time": "2024-11-06T04:05:12.962800",
     "status": "completed"
    },
    "tags": [
     "hide-input"
    ]
   },
   "outputs": [],
   "source": [
    "if args.meta_cat_col and df_meta is not None:\n",
    "    figures[f'latent_{args.model_key}_by_{\"_\".join(args.meta_cat_col.split())}'], ax = ana_latent.plot_by_category(\n",
    "        args.meta_cat_col)"
   ]
  },
  {
   "cell_type": "code",
   "execution_count": 37,
   "id": "d3fdd5cb-4038-489f-b4d8-54ec6ea913b5",
   "metadata": {
    "execution": {
     "iopub.execute_input": "2024-11-06T04:05:13.050115Z",
     "iopub.status.busy": "2024-11-06T04:05:13.049834Z",
     "iopub.status.idle": "2024-11-06T04:05:13.287147Z",
     "shell.execute_reply": "2024-11-06T04:05:13.286424Z"
    },
    "papermill": {
     "duration": 0.265593,
     "end_time": "2024-11-06T04:05:13.288385",
     "exception": false,
     "start_time": "2024-11-06T04:05:13.022792",
     "status": "completed"
    },
    "tags": [
     "hide-input"
    ]
   },
   "outputs": [
    {
     "data": {
      "image/png": "[encoded data removed]",
      "text/plain": [
       "<Figure size 2352x1029 with 1 Axes>"
      ]
     },
     "metadata": {},
     "output_type": "display_data"
    }
   ],
   "source": [
    "feat_freq_val = val_pred_simulated_na['observed'].groupby(level=-1).count()\n",
    "feat_freq_val.name = 'freq_val'\n",
    "ax = feat_freq_val.plot.box()"
   ]
  },
  {
   "cell_type": "code",
   "execution_count": 38,
   "id": "446adbaf-81db-4ac5-b041-064744143602",
   "metadata": {
    "execution": {
     "iopub.execute_input": "2024-11-06T04:05:13.342769Z",
     "iopub.status.busy": "2024-11-06T04:05:13.342095Z",
     "iopub.status.idle": "2024-11-06T04:05:13.348638Z",
     "shell.execute_reply": "2024-11-06T04:05:13.348070Z"
    },
    "papermill": {
     "duration": 0.035871,
     "end_time": "2024-11-06T04:05:13.350978",
     "exception": false,
     "start_time": "2024-11-06T04:05:13.315107",
     "status": "completed"
    },
    "tags": [
     "hide-input"
    ]
   },
   "outputs": [
    {
     "data": {
      "text/plain": [
       "freq_val\n",
       "1    12\n",
       "2    18\n",
       "3    50\n",
       "4    82\n",
       "5   108\n",
       "Name: count, dtype: int64"
      ]
     },
     "execution_count": 38,
     "metadata": {},
     "output_type": "execute_result"
    }
   ],
   "source": [
    "feat_freq_val.value_counts().sort_index().head()  # require more than one feat?"
   ]
  },
  {
   "cell_type": "code",
   "execution_count": 39,
   "id": "d408dbfa",
   "metadata": {
    "execution": {
     "iopub.execute_input": "2024-11-06T04:05:13.404689Z",
     "iopub.status.busy": "2024-11-06T04:05:13.404033Z",
     "iopub.status.idle": "2024-11-06T04:05:13.840577Z",
     "shell.execute_reply": "2024-11-06T04:05:13.839860Z"
    },
    "papermill": {
     "duration": 0.464317,
     "end_time": "2024-11-06T04:05:13.841686",
     "exception": false,
     "start_time": "2024-11-06T04:05:13.377369",
     "status": "completed"
    },
    "tags": [
     "hide-input"
    ]
   },
   "outputs": [
    {
     "data": {
      "image/png": "[encoded data removed]",
      "text/plain": [
       "<Figure size 2205x1470 with 1 Axes>"
      ]
     },
     "metadata": {},
     "output_type": "display_data"
    }
   ],
   "source": [
    "errors_val = val_pred_simulated_na.drop('observed', axis=1).sub(\n",
    "    val_pred_simulated_na['observed'], axis=0)\n",
    "errors_val = errors_val.abs().groupby(level=-1).mean()\n",
    "errors_val = errors_val.join(freq_feat).sort_values(by='freq', ascending=True)\n",
    "\n",
    "\n",
    "errors_val_smoothed = errors_val.copy()  # .loc[feat_freq_val > 1]\n",
    "errors_val_smoothed[errors_val.columns[:-1]] = errors_val[errors_val.columns[:-1]\n",
    "                                                          ].rolling(window=200, min_periods=1).mean()\n",
    "ax = errors_val_smoothed.plot(x='freq', figsize=(15, 10))\n",
    "# errors_val_smoothed"
   ]
  },
  {
   "cell_type": "code",
   "execution_count": 40,
   "id": "7e505353-f19e-4961-9279-f1f0f1e4be09",
   "metadata": {
    "execution": {
     "iopub.execute_input": "2024-11-06T04:05:13.908230Z",
     "iopub.status.busy": "2024-11-06T04:05:13.907978Z",
     "iopub.status.idle": "2024-11-06T04:05:13.925140Z",
     "shell.execute_reply": "2024-11-06T04:05:13.924627Z"
    },
    "papermill": {
     "duration": 0.048827,
     "end_time": "2024-11-06T04:05:13.926252",
     "exception": false,
     "start_time": "2024-11-06T04:05:13.877425",
     "status": "completed"
    },
    "tags": [
     "hide-input"
    ]
   },
   "outputs": [
    {
     "data": {
      "text/html": [
       "<div>\n",
       "<style scoped>\n",
       "    .dataframe tbody tr th:only-of-type {\n",
       "        vertical-align: middle;\n",
       "    }\n",
       "\n",
       "    .dataframe tbody tr th {\n",
       "        vertical-align: top;\n",
       "    }\n",
       "\n",
       "    .dataframe thead tr th {\n",
       "        text-align: left;\n",
       "    }\n",
       "\n",
       "    .dataframe thead tr:last-of-type th {\n",
       "        text-align: right;\n",
       "    }\n",
       "</style>\n",
       "<table border=\"1\" class=\"dataframe\">\n",
       "  <thead>\n",
       "    <tr>\n",
       "      <th></th>\n",
       "      <th colspan=\"2\" halign=\"left\">VAE</th>\n",
       "    </tr>\n",
       "    <tr>\n",
       "      <th></th>\n",
       "      <th>mean</th>\n",
       "      <th>count</th>\n",
       "    </tr>\n",
       "    <tr>\n",
       "      <th>protein groups</th>\n",
       "      <th></th>\n",
       "      <th></th>\n",
       "    </tr>\n",
       "  </thead>\n",
       "  <tbody>\n",
       "    <tr>\n",
       "      <th>A0A024QZX5;A0A087X1N8;P35237</th>\n",
       "      <td>0.151</td>\n",
       "      <td>7</td>\n",
       "    </tr>\n",
       "    <tr>\n",
       "      <th>A0A024R0T9;K7ER74;P02655</th>\n",
       "      <td>1.362</td>\n",
       "      <td>4</td>\n",
       "    </tr>\n",
       "    <tr>\n",
       "      <th>A0A024R3W6;A0A024R412;O60462;O60462-2;O60462-3;O60462-4;O60462-5;Q7LBX6;X5D2Q8</th>\n",
       "      <td>0.248</td>\n",
       "      <td>9</td>\n",
       "    </tr>\n",
       "    <tr>\n",
       "      <th>A0A024R644;A0A0A0MRU5;A0A1B0GWI2;O75503</th>\n",
       "      <td>0.308</td>\n",
       "      <td>6</td>\n",
       "    </tr>\n",
       "    <tr>\n",
       "      <th>A0A075B6H7</th>\n",
       "      <td>0.580</td>\n",
       "      <td>6</td>\n",
       "    </tr>\n",
       "    <tr>\n",
       "      <th>...</th>\n",
       "      <td>...</td>\n",
       "      <td>...</td>\n",
       "    </tr>\n",
       "    <tr>\n",
       "      <th>Q9Y6R7</th>\n",
       "      <td>0.450</td>\n",
       "      <td>10</td>\n",
       "    </tr>\n",
       "    <tr>\n",
       "      <th>Q9Y6X5</th>\n",
       "      <td>0.223</td>\n",
       "      <td>7</td>\n",
       "    </tr>\n",
       "    <tr>\n",
       "      <th>Q9Y6Y8;Q9Y6Y8-2</th>\n",
       "      <td>0.347</td>\n",
       "      <td>9</td>\n",
       "    </tr>\n",
       "    <tr>\n",
       "      <th>Q9Y6Y9</th>\n",
       "      <td>0.492</td>\n",
       "      <td>15</td>\n",
       "    </tr>\n",
       "    <tr>\n",
       "      <th>S4R3U6</th>\n",
       "      <td>0.478</td>\n",
       "      <td>24</td>\n",
       "    </tr>\n",
       "  </tbody>\n",
       "</table>\n",
       "<p>1419 rows × 2 columns</p>\n",
       "</div>"
      ],
      "text/plain": [
       "                                                                                 VAE  \\\n",
       "                                                                                mean   \n",
       "protein groups                                                                         \n",
       "A0A024QZX5;A0A087X1N8;P35237                                                   0.151   \n",
       "A0A024R0T9;K7ER74;P02655                                                       1.362   \n",
       "A0A024R3W6;A0A024R412;O60462;O60462-2;O60462-3;O60462-4;O60462-5;Q7LBX6;X5D2Q8 0.248   \n",
       "A0A024R644;A0A0A0MRU5;A0A1B0GWI2;O75503                                        0.308   \n",
       "A0A075B6H7                                                                     0.580   \n",
       "...                                                                              ...   \n",
       "Q9Y6R7                                                                         0.450   \n",
       "Q9Y6X5                                                                         0.223   \n",
       "Q9Y6Y8;Q9Y6Y8-2                                                                0.347   \n",
       "Q9Y6Y9                                                                         0.492   \n",
       "S4R3U6                                                                         0.478   \n",
       "\n",
       "                                                                                      \n",
       "                                                                               count  \n",
       "protein groups                                                                        \n",
       "A0A024QZX5;A0A087X1N8;P35237                                                       7  \n",
       "A0A024R0T9;K7ER74;P02655                                                           4  \n",
       "A0A024R3W6;A0A024R412;O60462;O60462-2;O60462-3;O60462-4;O60462-5;Q7LBX6;X5D2Q8     9  \n",
       "A0A024R644;A0A0A0MRU5;A0A1B0GWI2;O75503                                            6  \n",
       "A0A075B6H7                                                                         6  \n",
       "...                                                                              ...  \n",
       "Q9Y6R7                                                                            10  \n",
       "Q9Y6X5                                                                             7  \n",
       "Q9Y6Y8;Q9Y6Y8-2                                                                    9  \n",
       "Q9Y6Y9                                                                            15  \n",
       "S4R3U6                                                                            24  \n",
       "\n",
       "[1419 rows x 2 columns]"
      ]
     },
     "execution_count": 40,
     "metadata": {},
     "output_type": "execute_result"
    }
   ],
   "source": [
    "errors_val = val_pred_simulated_na.drop('observed', axis=1).sub(\n",
    "    val_pred_simulated_na['observed'], axis=0)\n",
    "errors_val.abs().groupby(level=-1).agg(['mean', 'count'])"
   ]
  },
  {
   "cell_type": "code",
   "execution_count": 41,
   "id": "95022f04-0e0d-47bf-8267-6135a936328f",
   "metadata": {
    "execution": {
     "iopub.execute_input": "2024-11-06T04:05:13.974726Z",
     "iopub.status.busy": "2024-11-06T04:05:13.974466Z",
     "iopub.status.idle": "2024-11-06T04:05:13.982111Z",
     "shell.execute_reply": "2024-11-06T04:05:13.981566Z"
    },
    "papermill": {
     "duration": 0.034241,
     "end_time": "2024-11-06T04:05:13.984667",
     "exception": false,
     "start_time": "2024-11-06T04:05:13.950426",
     "status": "completed"
    },
    "tags": [
     "hide-input"
    ]
   },
   "outputs": [
    {
     "data": {
      "text/html": [
       "<div>\n",
       "<style scoped>\n",
       "    .dataframe tbody tr th:only-of-type {\n",
       "        vertical-align: middle;\n",
       "    }\n",
       "\n",
       "    .dataframe tbody tr th {\n",
       "        vertical-align: top;\n",
       "    }\n",
       "\n",
       "    .dataframe thead th {\n",
       "        text-align: right;\n",
       "    }\n",
       "</style>\n",
       "<table border=\"1\" class=\"dataframe\">\n",
       "  <thead>\n",
       "    <tr style=\"text-align: right;\">\n",
       "      <th></th>\n",
       "      <th></th>\n",
       "      <th>VAE</th>\n",
       "    </tr>\n",
       "    <tr>\n",
       "      <th>Sample ID</th>\n",
       "      <th>protein groups</th>\n",
       "      <th></th>\n",
       "    </tr>\n",
       "  </thead>\n",
       "  <tbody>\n",
       "    <tr>\n",
       "      <th>Sample_158</th>\n",
       "      <th>Q9UN70;Q9UN70-2</th>\n",
       "      <td>1.053</td>\n",
       "    </tr>\n",
       "    <tr>\n",
       "      <th>Sample_050</th>\n",
       "      <th>Q9Y287</th>\n",
       "      <td>1.019</td>\n",
       "    </tr>\n",
       "    <tr>\n",
       "      <th>Sample_107</th>\n",
       "      <th>Q8N475;Q8N475-2</th>\n",
       "      <td>-0.436</td>\n",
       "    </tr>\n",
       "    <tr>\n",
       "      <th>Sample_199</th>\n",
       "      <th>P06307</th>\n",
       "      <td>-0.226</td>\n",
       "    </tr>\n",
       "    <tr>\n",
       "      <th>Sample_067</th>\n",
       "      <th>Q5VUB5</th>\n",
       "      <td>-0.554</td>\n",
       "    </tr>\n",
       "    <tr>\n",
       "      <th>...</th>\n",
       "      <th>...</th>\n",
       "      <td>...</td>\n",
       "    </tr>\n",
       "    <tr>\n",
       "      <th>Sample_111</th>\n",
       "      <th>F6SYF8;Q9UBP4</th>\n",
       "      <td>0.016</td>\n",
       "    </tr>\n",
       "    <tr>\n",
       "      <th>Sample_002</th>\n",
       "      <th>A0A0A0MT36</th>\n",
       "      <td>-2.355</td>\n",
       "    </tr>\n",
       "    <tr>\n",
       "      <th>Sample_049</th>\n",
       "      <th>Q8WY21;Q8WY21-2;Q8WY21-3;Q8WY21-4</th>\n",
       "      <td>0.211</td>\n",
       "    </tr>\n",
       "    <tr>\n",
       "      <th>Sample_182</th>\n",
       "      <th>Q8NFT8</th>\n",
       "      <td>-0.820</td>\n",
       "    </tr>\n",
       "    <tr>\n",
       "      <th>Sample_123</th>\n",
       "      <th>Q16853;Q16853-2</th>\n",
       "      <td>-0.036</td>\n",
       "    </tr>\n",
       "  </tbody>\n",
       "</table>\n",
       "<p>12600 rows × 1 columns</p>\n",
       "</div>"
      ],
      "text/plain": [
       "                                                VAE\n",
       "Sample ID  protein groups                          \n",
       "Sample_158 Q9UN70;Q9UN70-2                    1.053\n",
       "Sample_050 Q9Y287                             1.019\n",
       "Sample_107 Q8N475;Q8N475-2                   -0.436\n",
       "Sample_199 P06307                            -0.226\n",
       "Sample_067 Q5VUB5                            -0.554\n",
       "...                                             ...\n",
       "Sample_111 F6SYF8;Q9UBP4                      0.016\n",
       "Sample_002 A0A0A0MT36                        -2.355\n",
       "Sample_049 Q8WY21;Q8WY21-2;Q8WY21-3;Q8WY21-4  0.211\n",
       "Sample_182 Q8NFT8                            -0.820\n",
       "Sample_123 Q16853;Q16853-2                   -0.036\n",
       "\n",
       "[12600 rows x 1 columns]"
      ]
     },
     "execution_count": 41,
     "metadata": {},
     "output_type": "execute_result"
    }
   ],
   "source": [
    "errors_val"
   ]
  },
  {
   "cell_type": "markdown",
   "id": "29f16d62-f1c8-4447-bdd3-2d3161b6346f",
   "metadata": {
    "papermill": {
     "duration": 0.027524,
     "end_time": "2024-11-06T04:05:14.039996",
     "exception": false,
     "start_time": "2024-11-06T04:05:14.012472",
     "status": "completed"
    },
    "tags": []
   },
   "source": [
    "## Comparisons\n",
    "\n",
    "Simulated NAs : Artificially created NAs. Some data was sampled and set\n",
    "explicitly to misssing before it was fed to the model for\n",
    "reconstruction."
   ]
  },
  {
   "cell_type": "markdown",
   "id": "861b9b3c-11d0-4cda-98c9-fadea16e47c4",
   "metadata": {
    "papermill": {
     "duration": 0.028266,
     "end_time": "2024-11-06T04:05:14.096868",
     "exception": false,
     "start_time": "2024-11-06T04:05:14.068602",
     "status": "completed"
    },
    "tags": []
   },
   "source": [
    "### Validation data\n",
    "\n",
    "- all measured (identified, observed) peptides in validation data"
   ]
  },
  {
   "cell_type": "code",
   "execution_count": 42,
   "id": "d825e38e-f3d6-4bca-b621-150267e7b7bc",
   "metadata": {
    "execution": {
     "iopub.execute_input": "2024-11-06T04:05:14.153543Z",
     "iopub.status.busy": "2024-11-06T04:05:14.153241Z",
     "iopub.status.idle": "2024-11-06T04:05:14.156442Z",
     "shell.execute_reply": "2024-11-06T04:05:14.155825Z"
    },
    "papermill": {
     "duration": 0.032991,
     "end_time": "2024-11-06T04:05:14.158025",
     "exception": false,
     "start_time": "2024-11-06T04:05:14.125034",
     "status": "completed"
    },
    "tags": [
     "hide-input"
    ]
   },
   "outputs": [],
   "source": [
    "# papermill_description=metrics\n",
    "# d_metrics = models.Metrics(no_na_key='NA interpolated', with_na_key='NA not interpolated')\n",
    "d_metrics = models.Metrics()"
   ]
  },
  {
   "cell_type": "markdown",
   "id": "55b9b887-a644-4086-8399-e27b533bd22a",
   "metadata": {
    "papermill": {
     "duration": 0.0256,
     "end_time": "2024-11-06T04:05:14.210186",
     "exception": false,
     "start_time": "2024-11-06T04:05:14.184586",
     "status": "completed"
    },
    "tags": []
   },
   "source": [
    "The simulated NA for the validation step are real test data (not used for training nor early stopping)"
   ]
  },
  {
   "cell_type": "code",
   "execution_count": 43,
   "id": "855a7a6f-93fd-4612-9d8d-96541a2441be",
   "metadata": {
    "execution": {
     "iopub.execute_input": "2024-11-06T04:05:14.263331Z",
     "iopub.status.busy": "2024-11-06T04:05:14.263045Z",
     "iopub.status.idle": "2024-11-06T04:05:14.282250Z",
     "shell.execute_reply": "2024-11-06T04:05:14.281670Z"
    },
    "papermill": {
     "duration": 0.046419,
     "end_time": "2024-11-06T04:05:14.283426",
     "exception": false,
     "start_time": "2024-11-06T04:05:14.237007",
     "status": "completed"
    },
    "tags": [
     "hide-input"
    ]
   },
   "outputs": [
    {
     "name": "stdout",
     "output_type": "stream",
     "text": [
      "Selected as truth to compare to: observed\n"
     ]
    },
    {
     "data": {
      "text/plain": [
       "{'VAE': {'MSE': 0.4834036082547015,\n",
       "  'MAE': 0.4519006658842337,\n",
       "  'N': 12600,\n",
       "  'prop': 1.0}}"
      ]
     },
     "execution_count": 43,
     "metadata": {},
     "output_type": "execute_result"
    }
   ],
   "source": [
    "added_metrics = d_metrics.add_metrics(val_pred_simulated_na, 'valid_simulated_na')\n",
    "added_metrics"
   ]
  },
  {
   "cell_type": "markdown",
   "id": "80fda7f1-3024-46bc-a3c1-17f509016bd4",
   "metadata": {
    "lines_to_next_cell": 2,
    "papermill": {
     "duration": 0.023769,
     "end_time": "2024-11-06T04:05:14.336023",
     "exception": false,
     "start_time": "2024-11-06T04:05:14.312254",
     "status": "completed"
    },
    "tags": []
   },
   "source": [
    "### Test Datasplit\n"
   ]
  },
  {
   "cell_type": "code",
   "execution_count": 44,
   "id": "571ac8d4-bb5d-45db-bba8-59817e476304",
   "metadata": {
    "execution": {
     "iopub.execute_input": "2024-11-06T04:05:14.387224Z",
     "iopub.status.busy": "2024-11-06T04:05:14.386962Z",
     "iopub.status.idle": "2024-11-06T04:05:14.404664Z",
     "shell.execute_reply": "2024-11-06T04:05:14.404034Z"
    },
    "papermill": {
     "duration": 0.044868,
     "end_time": "2024-11-06T04:05:14.406117",
     "exception": false,
     "start_time": "2024-11-06T04:05:14.361249",
     "status": "completed"
    },
    "tags": [
     "hide-input"
    ]
   },
   "outputs": [
    {
     "name": "stdout",
     "output_type": "stream",
     "text": [
      "Selected as truth to compare to: observed\n"
     ]
    },
    {
     "data": {
      "text/plain": [
       "{'VAE': {'MSE': 0.5061665932934692,\n",
       "  'MAE': 0.4566901637192065,\n",
       "  'N': 12600,\n",
       "  'prop': 1.0}}"
      ]
     },
     "execution_count": 44,
     "metadata": {},
     "output_type": "execute_result"
    }
   ],
   "source": [
    "added_metrics = d_metrics.add_metrics(test_pred_simulated_na, 'test_simulated_na')\n",
    "added_metrics"
   ]
  },
  {
   "cell_type": "markdown",
   "id": "b388de9d-0387-486a-9481-d673e0fec88b",
   "metadata": {
    "papermill": {
     "duration": 0.02561,
     "end_time": "2024-11-06T04:05:14.461030",
     "exception": false,
     "start_time": "2024-11-06T04:05:14.435420",
     "status": "completed"
    },
    "tags": []
   },
   "source": [
    "Save all metrics as json"
   ]
  },
  {
   "cell_type": "code",
   "execution_count": 45,
   "id": "87910434-7d07-4e8e-8380-c92fc515bd16",
   "metadata": {
    "execution": {
     "iopub.execute_input": "2024-11-06T04:05:14.520523Z",
     "iopub.status.busy": "2024-11-06T04:05:14.520252Z",
     "iopub.status.idle": "2024-11-06T04:05:14.525412Z",
     "shell.execute_reply": "2024-11-06T04:05:14.524816Z"
    },
    "papermill": {
     "duration": 0.036787,
     "end_time": "2024-11-06T04:05:14.527735",
     "exception": false,
     "start_time": "2024-11-06T04:05:14.490948",
     "status": "completed"
    },
    "tags": [
     "hide-input"
    ]
   },
   "outputs": [
    {
     "data": {
      "text/plain": [
       "{ 'test_simulated_na': { 'VAE': { 'MAE': 0.4566901637192065,\n",
       "                                  'MSE': 0.5061665932934692,\n",
       "                                  'N': 12600,\n",
       "                                  'prop': 1.0}},\n",
       "  'valid_simulated_na': { 'VAE': { 'MAE': 0.4519006658842337,\n",
       "                                   'MSE': 0.4834036082547015,\n",
       "                                   'N': 12600,\n",
       "                                   'prop': 1.0}}}"
      ]
     },
     "execution_count": 45,
     "metadata": {},
     "output_type": "execute_result"
    }
   ],
   "source": [
    "pimmslearn.io.dump_json(d_metrics.metrics, args.out_metrics /\n",
    "                        f'metrics_{args.model_key}.json')\n",
    "d_metrics"
   ]
  },
  {
   "cell_type": "code",
   "execution_count": 46,
   "id": "7d99deb9-9aad-4ba9-b79d-e4b3c6c7f023",
   "metadata": {
    "execution": {
     "iopub.execute_input": "2024-11-06T04:05:14.586784Z",
     "iopub.status.busy": "2024-11-06T04:05:14.586521Z",
     "iopub.status.idle": "2024-11-06T04:05:14.598225Z",
     "shell.execute_reply": "2024-11-06T04:05:14.597596Z"
    },
    "papermill": {
     "duration": 0.042508,
     "end_time": "2024-11-06T04:05:14.599599",
     "exception": false,
     "start_time": "2024-11-06T04:05:14.557091",
     "status": "completed"
    },
    "tags": [
     "hide-input"
    ]
   },
   "outputs": [
    {
     "data": {
      "text/html": [
       "<div>\n",
       "<style scoped>\n",
       "    .dataframe tbody tr th:only-of-type {\n",
       "        vertical-align: middle;\n",
       "    }\n",
       "\n",
       "    .dataframe tbody tr th {\n",
       "        vertical-align: top;\n",
       "    }\n",
       "\n",
       "    .dataframe thead th {\n",
       "        text-align: right;\n",
       "    }\n",
       "</style>\n",
       "<table border=\"1\" class=\"dataframe\">\n",
       "  <thead>\n",
       "    <tr style=\"text-align: right;\">\n",
       "      <th></th>\n",
       "      <th>subset</th>\n",
       "      <th>valid_simulated_na</th>\n",
       "      <th>test_simulated_na</th>\n",
       "    </tr>\n",
       "    <tr>\n",
       "      <th>model</th>\n",
       "      <th>metric_name</th>\n",
       "      <th></th>\n",
       "      <th></th>\n",
       "    </tr>\n",
       "  </thead>\n",
       "  <tbody>\n",
       "    <tr>\n",
       "      <th rowspan=\"4\" valign=\"top\">VAE</th>\n",
       "      <th>MSE</th>\n",
       "      <td>0.483</td>\n",
       "      <td>0.506</td>\n",
       "    </tr>\n",
       "    <tr>\n",
       "      <th>MAE</th>\n",
       "      <td>0.452</td>\n",
       "      <td>0.457</td>\n",
       "    </tr>\n",
       "    <tr>\n",
       "      <th>N</th>\n",
       "      <td>12,600.000</td>\n",
       "      <td>12,600.000</td>\n",
       "    </tr>\n",
       "    <tr>\n",
       "      <th>prop</th>\n",
       "      <td>1.000</td>\n",
       "      <td>1.000</td>\n",
       "    </tr>\n",
       "  </tbody>\n",
       "</table>\n",
       "</div>"
      ],
      "text/plain": [
       "subset             valid_simulated_na  test_simulated_na\n",
       "model metric_name                                       \n",
       "VAE   MSE                       0.483              0.506\n",
       "      MAE                       0.452              0.457\n",
       "      N                    12,600.000         12,600.000\n",
       "      prop                      1.000              1.000"
      ]
     },
     "execution_count": 46,
     "metadata": {},
     "output_type": "execute_result"
    }
   ],
   "source": [
    "metrics_df = models.get_df_from_nested_dict(\n",
    "    d_metrics.metrics, column_levels=['model', 'metric_name']).T\n",
    "metrics_df"
   ]
  },
  {
   "cell_type": "markdown",
   "id": "2b49894b-876e-428b-bbba-18229db8b984",
   "metadata": {
    "papermill": {
     "duration": 0.029707,
     "end_time": "2024-11-06T04:05:14.657070",
     "exception": false,
     "start_time": "2024-11-06T04:05:14.627363",
     "status": "completed"
    },
    "tags": []
   },
   "source": [
    "## Save predictions"
   ]
  },
  {
   "cell_type": "code",
   "execution_count": 47,
   "id": "782636ac-c979-4f8b-9fc0-66fd0c7a3a8b",
   "metadata": {
    "execution": {
     "iopub.execute_input": "2024-11-06T04:05:14.713244Z",
     "iopub.status.busy": "2024-11-06T04:05:14.712980Z",
     "iopub.status.idle": "2024-11-06T04:05:14.815992Z",
     "shell.execute_reply": "2024-11-06T04:05:14.815275Z"
    },
    "papermill": {
     "duration": 0.133192,
     "end_time": "2024-11-06T04:05:14.817488",
     "exception": false,
     "start_time": "2024-11-06T04:05:14.684296",
     "status": "completed"
    },
    "tags": [
     "hide-input"
    ]
   },
   "outputs": [],
   "source": [
    "# save simulated missing values for both splits\n",
    "val_pred_simulated_na.to_csv(args.out_preds / f\"pred_val_{args.model_key}.csv\")\n",
    "test_pred_simulated_na.to_csv(args.out_preds / f\"pred_test_{args.model_key}.csv\")"
   ]
  },
  {
   "cell_type": "markdown",
   "id": "42f2c184-e9ef-42be-ae87-7cbf52a0c0b6",
   "metadata": {
    "papermill": {
     "duration": 0.024601,
     "end_time": "2024-11-06T04:05:14.880576",
     "exception": false,
     "start_time": "2024-11-06T04:05:14.855975",
     "status": "completed"
    },
    "tags": []
   },
   "source": [
    "## Config"
   ]
  },
  {
   "cell_type": "code",
   "execution_count": 48,
   "id": "06e433ec",
   "metadata": {
    "execution": {
     "iopub.execute_input": "2024-11-06T04:05:14.938714Z",
     "iopub.status.busy": "2024-11-06T04:05:14.938392Z",
     "iopub.status.idle": "2024-11-06T04:05:14.942878Z",
     "shell.execute_reply": "2024-11-06T04:05:14.942293Z"
    },
    "papermill": {
     "duration": 0.036944,
     "end_time": "2024-11-06T04:05:14.945406",
     "exception": false,
     "start_time": "2024-11-06T04:05:14.908462",
     "status": "completed"
    },
    "tags": [
     "hide-input"
    ]
   },
   "outputs": [
    {
     "data": {
      "text/plain": [
       "{}"
      ]
     },
     "execution_count": 48,
     "metadata": {},
     "output_type": "execute_result"
    }
   ],
   "source": [
    "figures  # switch to fnames?"
   ]
  },
  {
   "cell_type": "code",
   "execution_count": 49,
   "id": "0f13cb38-abf0-4b56-9399-3d11d32f7fbc",
   "metadata": {
    "execution": {
     "iopub.execute_input": "2024-11-06T04:05:15.003381Z",
     "iopub.status.busy": "2024-11-06T04:05:15.003131Z",
     "iopub.status.idle": "2024-11-06T04:05:15.010129Z",
     "shell.execute_reply": "2024-11-06T04:05:15.009557Z"
    },
    "papermill": {
     "duration": 0.038172,
     "end_time": "2024-11-06T04:05:15.012586",
     "exception": false,
     "start_time": "2024-11-06T04:05:14.974414",
     "status": "completed"
    },
    "tags": [
     "hide-input"
    ]
   },
   "outputs": [
    {
     "data": {
      "text/plain": [
       "{'M': 1421,\n",
       " 'batch_size': 64,\n",
       " 'cuda': False,\n",
       " 'data': Path('runs/alzheimer_study/data'),\n",
       " 'epoch_trained': 51,\n",
       " 'epochs_max': 300,\n",
       " 'file_format': 'csv',\n",
       " 'fn_rawfile_metadata': 'https://raw.githubusercontent.com/RasmussenLab/njab/HEAD/docs/tutorial/data/alzheimer/meta.csv',\n",
       " 'folder_data': '',\n",
       " 'folder_experiment': Path('runs/alzheimer_study'),\n",
       " 'hidden_layers': [64],\n",
       " 'latent_dim': 10,\n",
       " 'meta_cat_col': None,\n",
       " 'meta_date_col': None,\n",
       " 'model': 'VAE',\n",
       " 'model_key': 'VAE',\n",
       " 'n_params': 277998,\n",
       " 'out_figures': Path('runs/alzheimer_study/figures'),\n",
       " 'out_folder': Path('runs/alzheimer_study'),\n",
       " 'out_metrics': Path('runs/alzheimer_study'),\n",
       " 'out_models': Path('runs/alzheimer_study'),\n",
       " 'out_preds': Path('runs/alzheimer_study/preds'),\n",
       " 'patience': 50,\n",
       " 'sample_idx_position': 0,\n",
       " 'save_pred_real_na': True}"
      ]
     },
     "execution_count": 49,
     "metadata": {},
     "output_type": "execute_result"
    }
   ],
   "source": [
    "args.dump(fname=args.out_models / f\"model_config_{args.model_key}.yaml\")\n",
    "args"
   ]
  }
 ],
 "metadata": {
  "interpreter": {
   "hash": "cf83e9cb890c7f96eb0ae04f39a82254555f56a1a0ed2f03b23a8b40fe6cd31c"
  },
  "jupytext": {
   "formats": "ipynb,py:percent"
  },
  "kernelspec": {
   "display_name": "Python 3",
   "language": "python",
   "name": "python3"
  },
  "language_info": {
   "codemirror_mode": {
    "name": "ipython",
    "version": 3
   },
   "file_extension": ".py",
   "mimetype": "text/x-python",
   "name": "python",
   "nbconvert_exporter": "python",
   "pygments_lexer": "ipython3",
   "version": "3.12.0"
  },
  "papermill": {
   "default_parameters": {},
   "duration": 24.342926,
   "end_time": "2024-11-06T04:05:16.260912",
   "environment_variables": {},
   "exception": null,
   "input_path": "01_1_train_VAE.ipynb",
   "output_path": "runs/alzheimer_study/01_1_train_VAE.ipynb",
   "parameters": {
    "batch_size": 64,
    "cuda": false,
    "epochs_max": 300,
    "fn_rawfile_metadata": "https://raw.githubusercontent.com/RasmussenLab/njab/HEAD/docs/tutorial/data/alzheimer/meta.csv",
    "folder_experiment": "runs/alzheimer_study",
    "hidden_layers": "64",
    "latent_dim": 10,
    "model": "VAE",
    "model_key": "VAE",
    "sample_idx_position": 0,
    "save_pred_real_na": true
   },
   "start_time": "2024-11-06T04:04:51.917986",
   "version": "2.6.0"
  },
  "toc-autonumbering": true
 },
 "nbformat": 4,
 "nbformat_minor": 5
}