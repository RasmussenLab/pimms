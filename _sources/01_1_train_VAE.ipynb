{
 "cells": [
  {
   "cell_type": "markdown",
   "id": "f0e1208b-9b36-4294-b3fd-910e05a82f2e",
   "metadata": {
    "papermill": {
     "duration": 0.014125,
     "end_time": "2024-09-18T04:05:34.043036",
     "exception": false,
     "start_time": "2024-09-18T04:05:34.028911",
     "status": "completed"
    },
    "tags": []
   },
   "source": [
    "# Variational Autoencoder"
   ]
  },
  {
   "cell_type": "code",
   "execution_count": 1,
   "id": "18b5d571-2956-4112-b22c-43d6c2146b06",
   "metadata": {
    "execution": {
     "iopub.execute_input": "2024-09-18T04:05:34.067896Z",
     "iopub.status.busy": "2024-09-18T04:05:34.067559Z",
     "iopub.status.idle": "2024-09-18T04:05:38.078584Z",
     "shell.execute_reply": "2024-09-18T04:05:38.077955Z"
    },
    "lines_to_next_cell": 2,
    "papermill": {
     "duration": 4.024599,
     "end_time": "2024-09-18T04:05:38.079985",
     "exception": false,
     "start_time": "2024-09-18T04:05:34.055386",
     "status": "completed"
    },
    "tags": [
     "hide-input"
    ]
   },
   "outputs": [
    {
     "name": "stdout",
     "output_type": "stream",
     "text": [
      "pimmslearn - INFO     Experiment 03 - Analysis of latent spaces and performance comparisions\n"
     ]
    }
   ],
   "source": [
    "\n",
    "import logging\n",
    "from functools import partial\n",
    "\n",
    "import pandas as pd\n",
    "import sklearn\n",
    "import torch\n",
    "from fastai import learner\n",
    "from fastai.basics import *\n",
    "from fastai.callback.all import *\n",
    "from fastai.callback.all import EarlyStoppingCallback\n",
    "from fastai.learner import Learner\n",
    "from fastai.torch_basics import *\n",
    "from IPython.display import display\n",
    "from sklearn.impute import SimpleImputer\n",
    "from sklearn.preprocessing import StandardScaler\n",
    "from torch.nn import Sigmoid\n",
    "\n",
    "import pimmslearn\n",
    "import pimmslearn.model\n",
    "import pimmslearn.models as models\n",
    "import pimmslearn.nb\n",
    "from pimmslearn.analyzers import analyzers\n",
    "from pimmslearn.io import datasplits\n",
    "# overwriting Recorder callback with custom plot_loss\n",
    "from pimmslearn.models import ae, plot_loss\n",
    "\n",
    "learner.Recorder.plot_loss = plot_loss\n",
    "\n",
    "\n",
    "logger = pimmslearn.logging.setup_logger(logging.getLogger('pimmslearn'))\n",
    "logger.info(\n",
    "    \"Experiment 03 - Analysis of latent spaces and performance comparisions\")\n",
    "\n",
    "figures = {}  # collection of ax or figures"
   ]
  },
  {
   "cell_type": "code",
   "execution_count": 2,
   "id": "5dbc8d89",
   "metadata": {
    "execution": {
     "iopub.execute_input": "2024-09-18T04:05:38.104556Z",
     "iopub.status.busy": "2024-09-18T04:05:38.104042Z",
     "iopub.status.idle": "2024-09-18T04:05:38.107408Z",
     "shell.execute_reply": "2024-09-18T04:05:38.106902Z"
    },
    "papermill": {
     "duration": 0.016978,
     "end_time": "2024-09-18T04:05:38.108641",
     "exception": false,
     "start_time": "2024-09-18T04:05:38.091663",
     "status": "completed"
    },
    "tags": [
     "hide-input"
    ]
   },
   "outputs": [],
   "source": [
    "# catch passed parameters\n",
    "args = None\n",
    "args = dict(globals()).keys()"
   ]
  },
  {
   "cell_type": "markdown",
   "id": "43f062bb-8d2c-4afa-8a81-9e2a328050fe",
   "metadata": {
    "papermill": {
     "duration": 0.010704,
     "end_time": "2024-09-18T04:05:38.130155",
     "exception": false,
     "start_time": "2024-09-18T04:05:38.119451",
     "status": "completed"
    },
    "tags": []
   },
   "source": [
    "Papermill script parameters:"
   ]
  },
  {
   "cell_type": "code",
   "execution_count": 3,
   "id": "297f14bc-3c37-43fa-8217-f790f0593d78",
   "metadata": {
    "execution": {
     "iopub.execute_input": "2024-09-18T04:05:38.153522Z",
     "iopub.status.busy": "2024-09-18T04:05:38.153183Z",
     "iopub.status.idle": "2024-09-18T04:05:38.158364Z",
     "shell.execute_reply": "2024-09-18T04:05:38.157834Z"
    },
    "papermill": {
     "duration": 0.018261,
     "end_time": "2024-09-18T04:05:38.159592",
     "exception": false,
     "start_time": "2024-09-18T04:05:38.141331",
     "status": "completed"
    },
    "tags": [
     "parameters"
    ]
   },
   "outputs": [],
   "source": [
    "# files and folders\n",
    "# Datasplit folder with data for experiment\n",
    "folder_experiment: str = 'runs/example'\n",
    "folder_data: str = ''  # specify data directory if needed\n",
    "file_format: str = 'csv'  # file format of create splits, default pickle (pkl)\n",
    "# Machine parsed metadata from rawfile workflow\n",
    "fn_rawfile_metadata: str = 'data/dev_datasets/HeLa_6070/files_selected_metadata_N50.csv'\n",
    "# training\n",
    "epochs_max: int = 50  # Maximum number of epochs\n",
    "batch_size: int = 64  # Batch size for training (and evaluation)\n",
    "cuda: bool = True  # Whether to use a GPU for training\n",
    "# model\n",
    "# Dimensionality of encoding dimension (latent space of model)\n",
    "latent_dim: int = 25\n",
    "# A underscore separated string of layers, '256_128' for the encoder, reverse will be use for decoder\n",
    "hidden_layers: str = '256_128'\n",
    "# force_train:bool = True # Force training when saved model could be used. Per default re-train model\n",
    "patience: int = 50  # Patience for early stopping\n",
    "sample_idx_position: int = 0  # position of index which is sample ID\n",
    "model: str = 'VAE'  # model name\n",
    "model_key: str = 'VAE'  # potentially alternative key for model (grid search)\n",
    "save_pred_real_na: bool = True  # Save all predictions for missing values\n",
    "# metadata -> defaults for metadata extracted from machine data\n",
    "meta_date_col: str = None  # date column in meta data\n",
    "meta_cat_col: str = None  # category column in meta data"
   ]
  },
  {
   "cell_type": "code",
   "execution_count": 4,
   "id": "1f39b732",
   "metadata": {
    "execution": {
     "iopub.execute_input": "2024-09-18T04:05:38.186580Z",
     "iopub.status.busy": "2024-09-18T04:05:38.186279Z",
     "iopub.status.idle": "2024-09-18T04:05:38.189942Z",
     "shell.execute_reply": "2024-09-18T04:05:38.189430Z"
    },
    "papermill": {
     "duration": 0.016892,
     "end_time": "2024-09-18T04:05:38.191175",
     "exception": false,
     "start_time": "2024-09-18T04:05:38.174283",
     "status": "completed"
    },
    "tags": [
     "injected-parameters"
    ]
   },
   "outputs": [],
   "source": [
    "# Parameters\n",
    "model = \"VAE\"\n",
    "latent_dim = 10\n",
    "batch_size = 64\n",
    "epochs_max = 300\n",
    "hidden_layers = \"64\"\n",
    "sample_idx_position = 0\n",
    "cuda = False\n",
    "save_pred_real_na = True\n",
    "fn_rawfile_metadata = \"https://raw.githubusercontent.com/RasmussenLab/njab/HEAD/docs/tutorial/data/alzheimer/meta.csv\"\n",
    "folder_experiment = \"runs/alzheimer_study\"\n",
    "model_key = \"VAE\"\n"
   ]
  },
  {
   "cell_type": "markdown",
   "id": "1da8e04b-2eb2-4ecb-b1d1-2de871cd0a56",
   "metadata": {
    "lines_to_next_cell": 2,
    "papermill": {
     "duration": 0.012375,
     "end_time": "2024-09-18T04:05:38.215701",
     "exception": false,
     "start_time": "2024-09-18T04:05:38.203326",
     "status": "completed"
    },
    "tags": []
   },
   "source": [
    "Some argument transformations"
   ]
  },
  {
   "cell_type": "code",
   "execution_count": 5,
   "id": "0746e70f-0259-48d5-90ef-25fe4b59f9ac",
   "metadata": {
    "execution": {
     "iopub.execute_input": "2024-09-18T04:05:38.242434Z",
     "iopub.status.busy": "2024-09-18T04:05:38.242134Z",
     "iopub.status.idle": "2024-09-18T04:05:38.250153Z",
     "shell.execute_reply": "2024-09-18T04:05:38.249573Z"
    },
    "papermill": {
     "duration": 0.024495,
     "end_time": "2024-09-18T04:05:38.252874",
     "exception": false,
     "start_time": "2024-09-18T04:05:38.228379",
     "status": "completed"
    },
    "tags": [
     "hide-input"
    ]
   },
   "outputs": [
    {
     "data": {
      "text/plain": [
       "{'folder_experiment': 'runs/alzheimer_study',\n",
       " 'folder_data': '',\n",
       " 'file_format': 'csv',\n",
       " 'fn_rawfile_metadata': 'https://raw.githubusercontent.com/RasmussenLab/njab/HEAD/docs/tutorial/data/alzheimer/meta.csv',\n",
       " 'epochs_max': 300,\n",
       " 'batch_size': 64,\n",
       " 'cuda': False,\n",
       " 'latent_dim': 10,\n",
       " 'hidden_layers': '64',\n",
       " 'patience': 50,\n",
       " 'sample_idx_position': 0,\n",
       " 'model': 'VAE',\n",
       " 'model_key': 'VAE',\n",
       " 'save_pred_real_na': True,\n",
       " 'meta_date_col': None,\n",
       " 'meta_cat_col': None}"
      ]
     },
     "execution_count": 5,
     "metadata": {},
     "output_type": "execute_result"
    }
   ],
   "source": [
    "args = pimmslearn.nb.get_params(args, globals=globals())\n",
    "args"
   ]
  },
  {
   "cell_type": "code",
   "execution_count": 6,
   "id": "8083658b",
   "metadata": {
    "execution": {
     "iopub.execute_input": "2024-09-18T04:05:38.278084Z",
     "iopub.status.busy": "2024-09-18T04:05:38.277774Z",
     "iopub.status.idle": "2024-09-18T04:05:38.284373Z",
     "shell.execute_reply": "2024-09-18T04:05:38.283675Z"
    },
    "lines_to_next_cell": 2,
    "papermill": {
     "duration": 0.022928,
     "end_time": "2024-09-18T04:05:38.288218",
     "exception": false,
     "start_time": "2024-09-18T04:05:38.265290",
     "status": "completed"
    },
    "tags": [
     "hide-input"
    ]
   },
   "outputs": [
    {
     "data": {
      "text/plain": [
       "{'batch_size': 64,\n",
       " 'cuda': False,\n",
       " 'data': Path('runs/alzheimer_study/data'),\n",
       " 'epochs_max': 300,\n",
       " 'file_format': 'csv',\n",
       " 'fn_rawfile_metadata': 'https://raw.githubusercontent.com/RasmussenLab/njab/HEAD/docs/tutorial/data/alzheimer/meta.csv',\n",
       " 'folder_data': '',\n",
       " 'folder_experiment': Path('runs/alzheimer_study'),\n",
       " 'hidden_layers': [64],\n",
       " 'latent_dim': 10,\n",
       " 'meta_cat_col': None,\n",
       " 'meta_date_col': None,\n",
       " 'model': 'VAE',\n",
       " 'model_key': 'VAE',\n",
       " 'out_figures': Path('runs/alzheimer_study/figures'),\n",
       " 'out_folder': Path('runs/alzheimer_study'),\n",
       " 'out_metrics': Path('runs/alzheimer_study'),\n",
       " 'out_models': Path('runs/alzheimer_study'),\n",
       " 'out_preds': Path('runs/alzheimer_study/preds'),\n",
       " 'patience': 50,\n",
       " 'sample_idx_position': 0,\n",
       " 'save_pred_real_na': True}"
      ]
     },
     "execution_count": 6,
     "metadata": {},
     "output_type": "execute_result"
    }
   ],
   "source": [
    "args = pimmslearn.nb.args_from_dict(args)\n",
    "\n",
    "if isinstance(args.hidden_layers, str):\n",
    "    args.overwrite_entry(\"hidden_layers\", [int(x)\n",
    "                         for x in args.hidden_layers.split('_')])\n",
    "else:\n",
    "    raise ValueError(\n",
    "        f\"hidden_layers is of unknown type {type(args.hidden_layers)}\")\n",
    "args"
   ]
  },
  {
   "cell_type": "markdown",
   "id": "3d59f6d8-9cb1-461a-8d62-2ab4458cab60",
   "metadata": {
    "papermill": {
     "duration": 0.013276,
     "end_time": "2024-09-18T04:05:38.313295",
     "exception": false,
     "start_time": "2024-09-18T04:05:38.300019",
     "status": "completed"
    },
    "tags": []
   },
   "source": [
    "Some naming conventions"
   ]
  },
  {
   "cell_type": "code",
   "execution_count": 7,
   "id": "a19fe098-a029-4f71-b7fb-e652a9c16ac7",
   "metadata": {
    "execution": {
     "iopub.execute_input": "2024-09-18T04:05:38.342810Z",
     "iopub.status.busy": "2024-09-18T04:05:38.342511Z",
     "iopub.status.idle": "2024-09-18T04:05:38.345921Z",
     "shell.execute_reply": "2024-09-18T04:05:38.345288Z"
    },
    "papermill": {
     "duration": 0.020044,
     "end_time": "2024-09-18T04:05:38.347496",
     "exception": false,
     "start_time": "2024-09-18T04:05:38.327452",
     "status": "completed"
    },
    "tags": [
     "hide-input"
    ]
   },
   "outputs": [],
   "source": [
    "TEMPLATE_MODEL_PARAMS = 'model_params_{}.json'"
   ]
  },
  {
   "cell_type": "markdown",
   "id": "976cc005-0c5f-4e88-9656-c549e613ca68",
   "metadata": {
    "papermill": {
     "duration": 0.010943,
     "end_time": "2024-09-18T04:05:38.370801",
     "exception": false,
     "start_time": "2024-09-18T04:05:38.359858",
     "status": "completed"
    },
    "tags": []
   },
   "source": [
    "## Load data in long format"
   ]
  },
  {
   "cell_type": "code",
   "execution_count": 8,
   "id": "6d9cc7bd-6b6f-40b9-8db7-c8228e4b03e3",
   "metadata": {
    "execution": {
     "iopub.execute_input": "2024-09-18T04:05:38.403764Z",
     "iopub.status.busy": "2024-09-18T04:05:38.403412Z",
     "iopub.status.idle": "2024-09-18T04:05:38.627148Z",
     "shell.execute_reply": "2024-09-18T04:05:38.626569Z"
    },
    "papermill": {
     "duration": 0.24035,
     "end_time": "2024-09-18T04:05:38.628331",
     "exception": false,
     "start_time": "2024-09-18T04:05:38.387981",
     "status": "completed"
    },
    "tags": [
     "hide-input"
    ]
   },
   "outputs": [
    {
     "name": "stdout",
     "output_type": "stream",
     "text": [
      "pimmslearn.io.datasplits - INFO     Loaded 'train_X' from file: runs/alzheimer_study/data/train_X.csv\n"
     ]
    },
    {
     "name": "stdout",
     "output_type": "stream",
     "text": [
      "pimmslearn.io.datasplits - INFO     Loaded 'val_y' from file: runs/alzheimer_study/data/val_y.csv\n"
     ]
    },
    {
     "name": "stdout",
     "output_type": "stream",
     "text": [
      "pimmslearn.io.datasplits - INFO     Loaded 'test_y' from file: runs/alzheimer_study/data/test_y.csv\n"
     ]
    }
   ],
   "source": [
    "data = datasplits.DataSplits.from_folder(\n",
    "    args.data, file_format=args.file_format)"
   ]
  },
  {
   "cell_type": "markdown",
   "id": "3ca12fc2-bf34-42ac-99b2-a78ff9fe7722",
   "metadata": {
    "papermill": {
     "duration": 0.013672,
     "end_time": "2024-09-18T04:05:38.655739",
     "exception": false,
     "start_time": "2024-09-18T04:05:38.642067",
     "status": "completed"
    },
    "tags": []
   },
   "source": [
    "data is loaded in long format"
   ]
  },
  {
   "cell_type": "code",
   "execution_count": 9,
   "id": "02bb6bf5-0eb1-4c73-9723-414b14eaf7c8",
   "metadata": {
    "execution": {
     "iopub.execute_input": "2024-09-18T04:05:38.681899Z",
     "iopub.status.busy": "2024-09-18T04:05:38.681598Z",
     "iopub.status.idle": "2024-09-18T04:05:38.695793Z",
     "shell.execute_reply": "2024-09-18T04:05:38.695186Z"
    },
    "papermill": {
     "duration": 0.02854,
     "end_time": "2024-09-18T04:05:38.696845",
     "exception": false,
     "start_time": "2024-09-18T04:05:38.668305",
     "status": "completed"
    },
    "tags": [
     "hide-input"
    ]
   },
   "outputs": [
    {
     "data": {
      "text/plain": [
       "Sample ID   protein groups       \n",
       "Sample_123  P01619                  21.576\n",
       "Sample_108  P13521                  19.762\n",
       "Sample_083  Q9ULF5                  17.080\n",
       "Sample_074  P18428                  16.838\n",
       "Sample_117  A0A075B6R9;A0A0C4DH68   19.157\n",
       "Name: intensity, dtype: float64"
      ]
     },
     "execution_count": 9,
     "metadata": {},
     "output_type": "execute_result"
    }
   ],
   "source": [
    "data.train_X.sample(5)"
   ]
  },
  {
   "cell_type": "markdown",
   "id": "6045414b",
   "metadata": {
    "papermill": {
     "duration": 0.010823,
     "end_time": "2024-09-18T04:05:38.718889",
     "exception": false,
     "start_time": "2024-09-18T04:05:38.708066",
     "status": "completed"
    },
    "tags": []
   },
   "source": [
    "Infer index names from long format"
   ]
  },
  {
   "cell_type": "code",
   "execution_count": 10,
   "id": "44958473",
   "metadata": {
    "execution": {
     "iopub.execute_input": "2024-09-18T04:05:38.741451Z",
     "iopub.status.busy": "2024-09-18T04:05:38.741194Z",
     "iopub.status.idle": "2024-09-18T04:05:38.745696Z",
     "shell.execute_reply": "2024-09-18T04:05:38.745235Z"
    },
    "papermill": {
     "duration": 0.017652,
     "end_time": "2024-09-18T04:05:38.747380",
     "exception": false,
     "start_time": "2024-09-18T04:05:38.729728",
     "status": "completed"
    },
    "tags": [
     "hide-input"
    ]
   },
   "outputs": [
    {
     "name": "stdout",
     "output_type": "stream",
     "text": [
      "pimmslearn - INFO     sample_id = 'Sample ID', single feature: index_column = 'protein groups'\n"
     ]
    }
   ],
   "source": [
    "index_columns = list(data.train_X.index.names)\n",
    "sample_id = index_columns.pop(args.sample_idx_position)\n",
    "if len(index_columns) == 1:\n",
    "    index_column = index_columns.pop()\n",
    "    index_columns = None\n",
    "    logger.info(f\"{sample_id = }, single feature: {index_column = }\")\n",
    "else:\n",
    "    logger.info(f\"{sample_id = }, multiple features: {index_columns = }\")\n",
    "\n",
    "if not index_columns:\n",
    "    index_columns = [sample_id, index_column]\n",
    "else:\n",
    "    raise NotImplementedError(\n",
    "        \"More than one feature: Needs to be implemented. see above logging output.\")"
   ]
  },
  {
   "cell_type": "markdown",
   "id": "a94ae06d-64dd-4f4f-abde-8485a8c8458e",
   "metadata": {
    "papermill": {
     "duration": 0.010993,
     "end_time": "2024-09-18T04:05:38.769553",
     "exception": false,
     "start_time": "2024-09-18T04:05:38.758560",
     "status": "completed"
    },
    "tags": []
   },
   "source": [
    "load meta data for splits"
   ]
  },
  {
   "cell_type": "code",
   "execution_count": 11,
   "id": "b5b945aa-9b4e-4487-8b09-dca289e64d9d",
   "metadata": {
    "execution": {
     "iopub.execute_input": "2024-09-18T04:05:38.794871Z",
     "iopub.status.busy": "2024-09-18T04:05:38.794567Z",
     "iopub.status.idle": "2024-09-18T04:05:38.843838Z",
     "shell.execute_reply": "2024-09-18T04:05:38.843198Z"
    },
    "papermill": {
     "duration": 0.064281,
     "end_time": "2024-09-18T04:05:38.844823",
     "exception": false,
     "start_time": "2024-09-18T04:05:38.780542",
     "status": "completed"
    },
    "tags": [
     "hide-input"
    ]
   },
   "outputs": [
    {
     "data": {
      "text/html": [
       "<div>\n",
       "<style scoped>\n",
       "    .dataframe tbody tr th:only-of-type {\n",
       "        vertical-align: middle;\n",
       "    }\n",
       "\n",
       "    .dataframe tbody tr th {\n",
       "        vertical-align: top;\n",
       "    }\n",
       "\n",
       "    .dataframe thead th {\n",
       "        text-align: right;\n",
       "    }\n",
       "</style>\n",
       "<table border=\"1\" class=\"dataframe\">\n",
       "  <thead>\n",
       "    <tr style=\"text-align: right;\">\n",
       "      <th></th>\n",
       "      <th>_collection site</th>\n",
       "      <th>_age at CSF collection</th>\n",
       "      <th>_gender</th>\n",
       "      <th>_t-tau [ng/L]</th>\n",
       "      <th>_p-tau [ng/L]</th>\n",
       "      <th>_Abeta-42 [ng/L]</th>\n",
       "      <th>_Abeta-40 [ng/L]</th>\n",
       "      <th>_Abeta-42/Abeta-40 ratio</th>\n",
       "      <th>_primary biochemical AD classification</th>\n",
       "      <th>_clinical AD diagnosis</th>\n",
       "      <th>_MMSE score</th>\n",
       "    </tr>\n",
       "    <tr>\n",
       "      <th>Sample ID</th>\n",
       "      <th></th>\n",
       "      <th></th>\n",
       "      <th></th>\n",
       "      <th></th>\n",
       "      <th></th>\n",
       "      <th></th>\n",
       "      <th></th>\n",
       "      <th></th>\n",
       "      <th></th>\n",
       "      <th></th>\n",
       "      <th></th>\n",
       "    </tr>\n",
       "  </thead>\n",
       "  <tbody>\n",
       "    <tr>\n",
       "      <th>Sample_000</th>\n",
       "      <td>Sweden</td>\n",
       "      <td>71.000</td>\n",
       "      <td>f</td>\n",
       "      <td>703.000</td>\n",
       "      <td>85.000</td>\n",
       "      <td>562.000</td>\n",
       "      <td>NaN</td>\n",
       "      <td>NaN</td>\n",
       "      <td>biochemical control</td>\n",
       "      <td>NaN</td>\n",
       "      <td>NaN</td>\n",
       "    </tr>\n",
       "    <tr>\n",
       "      <th>Sample_001</th>\n",
       "      <td>Sweden</td>\n",
       "      <td>77.000</td>\n",
       "      <td>m</td>\n",
       "      <td>518.000</td>\n",
       "      <td>91.000</td>\n",
       "      <td>334.000</td>\n",
       "      <td>NaN</td>\n",
       "      <td>NaN</td>\n",
       "      <td>biochemical AD</td>\n",
       "      <td>NaN</td>\n",
       "      <td>NaN</td>\n",
       "    </tr>\n",
       "    <tr>\n",
       "      <th>Sample_002</th>\n",
       "      <td>Sweden</td>\n",
       "      <td>75.000</td>\n",
       "      <td>m</td>\n",
       "      <td>974.000</td>\n",
       "      <td>87.000</td>\n",
       "      <td>515.000</td>\n",
       "      <td>NaN</td>\n",
       "      <td>NaN</td>\n",
       "      <td>biochemical AD</td>\n",
       "      <td>NaN</td>\n",
       "      <td>NaN</td>\n",
       "    </tr>\n",
       "    <tr>\n",
       "      <th>Sample_003</th>\n",
       "      <td>Sweden</td>\n",
       "      <td>72.000</td>\n",
       "      <td>f</td>\n",
       "      <td>950.000</td>\n",
       "      <td>109.000</td>\n",
       "      <td>394.000</td>\n",
       "      <td>NaN</td>\n",
       "      <td>NaN</td>\n",
       "      <td>biochemical AD</td>\n",
       "      <td>NaN</td>\n",
       "      <td>NaN</td>\n",
       "    </tr>\n",
       "    <tr>\n",
       "      <th>Sample_004</th>\n",
       "      <td>Sweden</td>\n",
       "      <td>63.000</td>\n",
       "      <td>f</td>\n",
       "      <td>873.000</td>\n",
       "      <td>88.000</td>\n",
       "      <td>234.000</td>\n",
       "      <td>NaN</td>\n",
       "      <td>NaN</td>\n",
       "      <td>biochemical AD</td>\n",
       "      <td>NaN</td>\n",
       "      <td>NaN</td>\n",
       "    </tr>\n",
       "    <tr>\n",
       "      <th>...</th>\n",
       "      <td>...</td>\n",
       "      <td>...</td>\n",
       "      <td>...</td>\n",
       "      <td>...</td>\n",
       "      <td>...</td>\n",
       "      <td>...</td>\n",
       "      <td>...</td>\n",
       "      <td>...</td>\n",
       "      <td>...</td>\n",
       "      <td>...</td>\n",
       "      <td>...</td>\n",
       "    </tr>\n",
       "    <tr>\n",
       "      <th>Sample_205</th>\n",
       "      <td>Berlin</td>\n",
       "      <td>69.000</td>\n",
       "      <td>f</td>\n",
       "      <td>1,945.000</td>\n",
       "      <td>NaN</td>\n",
       "      <td>699.000</td>\n",
       "      <td>12,140.000</td>\n",
       "      <td>0.058</td>\n",
       "      <td>biochemical AD</td>\n",
       "      <td>AD</td>\n",
       "      <td>17.000</td>\n",
       "    </tr>\n",
       "    <tr>\n",
       "      <th>Sample_206</th>\n",
       "      <td>Berlin</td>\n",
       "      <td>73.000</td>\n",
       "      <td>m</td>\n",
       "      <td>299.000</td>\n",
       "      <td>NaN</td>\n",
       "      <td>1,420.000</td>\n",
       "      <td>16,571.000</td>\n",
       "      <td>0.086</td>\n",
       "      <td>biochemical control</td>\n",
       "      <td>non-AD</td>\n",
       "      <td>28.000</td>\n",
       "    </tr>\n",
       "    <tr>\n",
       "      <th>Sample_207</th>\n",
       "      <td>Berlin</td>\n",
       "      <td>71.000</td>\n",
       "      <td>f</td>\n",
       "      <td>262.000</td>\n",
       "      <td>NaN</td>\n",
       "      <td>639.000</td>\n",
       "      <td>9,663.000</td>\n",
       "      <td>0.066</td>\n",
       "      <td>biochemical control</td>\n",
       "      <td>non-AD</td>\n",
       "      <td>28.000</td>\n",
       "    </tr>\n",
       "    <tr>\n",
       "      <th>Sample_208</th>\n",
       "      <td>Berlin</td>\n",
       "      <td>83.000</td>\n",
       "      <td>m</td>\n",
       "      <td>289.000</td>\n",
       "      <td>NaN</td>\n",
       "      <td>1,436.000</td>\n",
       "      <td>11,285.000</td>\n",
       "      <td>0.127</td>\n",
       "      <td>biochemical control</td>\n",
       "      <td>non-AD</td>\n",
       "      <td>24.000</td>\n",
       "    </tr>\n",
       "    <tr>\n",
       "      <th>Sample_209</th>\n",
       "      <td>Berlin</td>\n",
       "      <td>63.000</td>\n",
       "      <td>f</td>\n",
       "      <td>591.000</td>\n",
       "      <td>NaN</td>\n",
       "      <td>1,299.000</td>\n",
       "      <td>11,232.000</td>\n",
       "      <td>0.116</td>\n",
       "      <td>biochemical control</td>\n",
       "      <td>non-AD</td>\n",
       "      <td>29.000</td>\n",
       "    </tr>\n",
       "  </tbody>\n",
       "</table>\n",
       "<p>210 rows × 11 columns</p>\n",
       "</div>"
      ],
      "text/plain": [
       "           _collection site  _age at CSF collection _gender  _t-tau [ng/L]  \\\n",
       "Sample ID                                                                    \n",
       "Sample_000           Sweden                  71.000       f        703.000   \n",
       "Sample_001           Sweden                  77.000       m        518.000   \n",
       "Sample_002           Sweden                  75.000       m        974.000   \n",
       "Sample_003           Sweden                  72.000       f        950.000   \n",
       "Sample_004           Sweden                  63.000       f        873.000   \n",
       "...                     ...                     ...     ...            ...   \n",
       "Sample_205           Berlin                  69.000       f      1,945.000   \n",
       "Sample_206           Berlin                  73.000       m        299.000   \n",
       "Sample_207           Berlin                  71.000       f        262.000   \n",
       "Sample_208           Berlin                  83.000       m        289.000   \n",
       "Sample_209           Berlin                  63.000       f        591.000   \n",
       "\n",
       "            _p-tau [ng/L]  _Abeta-42 [ng/L]  _Abeta-40 [ng/L]  \\\n",
       "Sample ID                                                       \n",
       "Sample_000         85.000           562.000               NaN   \n",
       "Sample_001         91.000           334.000               NaN   \n",
       "Sample_002         87.000           515.000               NaN   \n",
       "Sample_003        109.000           394.000               NaN   \n",
       "Sample_004         88.000           234.000               NaN   \n",
       "...                   ...               ...               ...   \n",
       "Sample_205            NaN           699.000        12,140.000   \n",
       "Sample_206            NaN         1,420.000        16,571.000   \n",
       "Sample_207            NaN           639.000         9,663.000   \n",
       "Sample_208            NaN         1,436.000        11,285.000   \n",
       "Sample_209            NaN         1,299.000        11,232.000   \n",
       "\n",
       "            _Abeta-42/Abeta-40 ratio _primary biochemical AD classification  \\\n",
       "Sample ID                                                                     \n",
       "Sample_000                       NaN                    biochemical control   \n",
       "Sample_001                       NaN                         biochemical AD   \n",
       "Sample_002                       NaN                         biochemical AD   \n",
       "Sample_003                       NaN                         biochemical AD   \n",
       "Sample_004                       NaN                         biochemical AD   \n",
       "...                              ...                                    ...   \n",
       "Sample_205                     0.058                         biochemical AD   \n",
       "Sample_206                     0.086                    biochemical control   \n",
       "Sample_207                     0.066                    biochemical control   \n",
       "Sample_208                     0.127                    biochemical control   \n",
       "Sample_209                     0.116                    biochemical control   \n",
       "\n",
       "           _clinical AD diagnosis  _MMSE score  \n",
       "Sample ID                                       \n",
       "Sample_000                    NaN          NaN  \n",
       "Sample_001                    NaN          NaN  \n",
       "Sample_002                    NaN          NaN  \n",
       "Sample_003                    NaN          NaN  \n",
       "Sample_004                    NaN          NaN  \n",
       "...                           ...          ...  \n",
       "Sample_205                     AD       17.000  \n",
       "Sample_206                 non-AD       28.000  \n",
       "Sample_207                 non-AD       28.000  \n",
       "Sample_208                 non-AD       24.000  \n",
       "Sample_209                 non-AD       29.000  \n",
       "\n",
       "[210 rows x 11 columns]"
      ]
     },
     "metadata": {},
     "output_type": "display_data"
    }
   ],
   "source": [
    "if args.fn_rawfile_metadata:\n",
    "    df_meta = pd.read_csv(args.fn_rawfile_metadata, index_col=0)\n",
    "    display(df_meta.loc[data.train_X.index.levels[0]])\n",
    "else:\n",
    "    df_meta = None"
   ]
  },
  {
   "cell_type": "markdown",
   "id": "a7ef773a-5588-4b11-9bd7-840b628eeaff",
   "metadata": {
    "papermill": {
     "duration": 0.014577,
     "end_time": "2024-09-18T04:05:38.874389",
     "exception": false,
     "start_time": "2024-09-18T04:05:38.859812",
     "status": "completed"
    },
    "tags": []
   },
   "source": [
    "## Initialize Comparison\n",
    "\n",
    "- replicates idea for truely missing values: Define truth as by using n=3 replicates to impute\n",
    "  each sample\n",
    "- real test data:\n",
    "    - Not used for predictions or early stopping.\n",
    "    - [x] add some additional NAs based on distribution of data"
   ]
  },
  {
   "cell_type": "code",
   "execution_count": 12,
   "id": "98f675b6-e619-45b6-8f04-b75237d212a7",
   "metadata": {
    "execution": {
     "iopub.execute_input": "2024-09-18T04:05:38.901780Z",
     "iopub.status.busy": "2024-09-18T04:05:38.901471Z",
     "iopub.status.idle": "2024-09-18T04:05:38.908149Z",
     "shell.execute_reply": "2024-09-18T04:05:38.907511Z"
    },
    "papermill": {
     "duration": 0.02294,
     "end_time": "2024-09-18T04:05:38.909419",
     "exception": false,
     "start_time": "2024-09-18T04:05:38.886479",
     "status": "completed"
    },
    "tags": [
     "hide-input"
    ]
   },
   "outputs": [
    {
     "data": {
      "text/plain": [
       "protein groups\n",
       "A0A024QZX5;A0A087X1N8;P35237                                                     197\n",
       "A0A024R0T9;K7ER74;P02655                                                         208\n",
       "A0A024R3W6;A0A024R412;O60462;O60462-2;O60462-3;O60462-4;O60462-5;Q7LBX6;X5D2Q8   185\n",
       "A0A024R644;A0A0A0MRU5;A0A1B0GWI2;O75503                                          208\n",
       "A0A075B6H7                                                                        97\n",
       "Name: freq, dtype: int64"
      ]
     },
     "execution_count": 12,
     "metadata": {},
     "output_type": "execute_result"
    }
   ],
   "source": [
    "freq_feat = pimmslearn.io.datasplits.load_freq(args.data)\n",
    "freq_feat.head()  # training data"
   ]
  },
  {
   "cell_type": "markdown",
   "id": "e02afb4e-ee91-4753-a118-7fa20fe621c9",
   "metadata": {
    "papermill": {
     "duration": 0.024281,
     "end_time": "2024-09-18T04:05:38.958087",
     "exception": false,
     "start_time": "2024-09-18T04:05:38.933806",
     "status": "completed"
    },
    "tags": []
   },
   "source": [
    "### Produce some addional simulated samples"
   ]
  },
  {
   "cell_type": "markdown",
   "id": "02d5763b-00fe-44ce-9dfa-b6e506045762",
   "metadata": {
    "papermill": {
     "duration": 0.015909,
     "end_time": "2024-09-18T04:05:38.988571",
     "exception": false,
     "start_time": "2024-09-18T04:05:38.972662",
     "status": "completed"
    },
    "tags": []
   },
   "source": [
    "The validation simulated NA is used to by all models to evaluate training performance."
   ]
  },
  {
   "cell_type": "code",
   "execution_count": 13,
   "id": "19eebaff-0e1e-4e44-ae40-12d2f0e75c74",
   "metadata": {
    "execution": {
     "iopub.execute_input": "2024-09-18T04:05:39.022723Z",
     "iopub.status.busy": "2024-09-18T04:05:39.022407Z",
     "iopub.status.idle": "2024-09-18T04:05:39.033813Z",
     "shell.execute_reply": "2024-09-18T04:05:39.033187Z"
    },
    "papermill": {
     "duration": 0.029846,
     "end_time": "2024-09-18T04:05:39.035149",
     "exception": false,
     "start_time": "2024-09-18T04:05:39.005303",
     "status": "completed"
    },
    "tags": [
     "hide-input"
    ]
   },
   "outputs": [
    {
     "data": {
      "text/html": [
       "<div>\n",
       "<style scoped>\n",
       "    .dataframe tbody tr th:only-of-type {\n",
       "        vertical-align: middle;\n",
       "    }\n",
       "\n",
       "    .dataframe tbody tr th {\n",
       "        vertical-align: top;\n",
       "    }\n",
       "\n",
       "    .dataframe thead th {\n",
       "        text-align: right;\n",
       "    }\n",
       "</style>\n",
       "<table border=\"1\" class=\"dataframe\">\n",
       "  <thead>\n",
       "    <tr style=\"text-align: right;\">\n",
       "      <th></th>\n",
       "      <th></th>\n",
       "      <th>observed</th>\n",
       "    </tr>\n",
       "    <tr>\n",
       "      <th>Sample ID</th>\n",
       "      <th>protein groups</th>\n",
       "      <th></th>\n",
       "    </tr>\n",
       "  </thead>\n",
       "  <tbody>\n",
       "    <tr>\n",
       "      <th>Sample_158</th>\n",
       "      <th>Q9UN70;Q9UN70-2</th>\n",
       "      <td>14.630</td>\n",
       "    </tr>\n",
       "    <tr>\n",
       "      <th>Sample_050</th>\n",
       "      <th>Q9Y287</th>\n",
       "      <td>15.755</td>\n",
       "    </tr>\n",
       "    <tr>\n",
       "      <th>Sample_107</th>\n",
       "      <th>Q8N475;Q8N475-2</th>\n",
       "      <td>15.029</td>\n",
       "    </tr>\n",
       "    <tr>\n",
       "      <th>Sample_199</th>\n",
       "      <th>P06307</th>\n",
       "      <td>19.376</td>\n",
       "    </tr>\n",
       "    <tr>\n",
       "      <th>Sample_067</th>\n",
       "      <th>Q5VUB5</th>\n",
       "      <td>15.309</td>\n",
       "    </tr>\n",
       "    <tr>\n",
       "      <th>...</th>\n",
       "      <th>...</th>\n",
       "      <td>...</td>\n",
       "    </tr>\n",
       "    <tr>\n",
       "      <th>Sample_111</th>\n",
       "      <th>F6SYF8;Q9UBP4</th>\n",
       "      <td>22.822</td>\n",
       "    </tr>\n",
       "    <tr>\n",
       "      <th>Sample_002</th>\n",
       "      <th>A0A0A0MT36</th>\n",
       "      <td>18.165</td>\n",
       "    </tr>\n",
       "    <tr>\n",
       "      <th>Sample_049</th>\n",
       "      <th>Q8WY21;Q8WY21-2;Q8WY21-3;Q8WY21-4</th>\n",
       "      <td>15.525</td>\n",
       "    </tr>\n",
       "    <tr>\n",
       "      <th>Sample_182</th>\n",
       "      <th>Q8NFT8</th>\n",
       "      <td>14.379</td>\n",
       "    </tr>\n",
       "    <tr>\n",
       "      <th>Sample_123</th>\n",
       "      <th>Q16853;Q16853-2</th>\n",
       "      <td>14.504</td>\n",
       "    </tr>\n",
       "  </tbody>\n",
       "</table>\n",
       "<p>12600 rows × 1 columns</p>\n",
       "</div>"
      ],
      "text/plain": [
       "                                              observed\n",
       "Sample ID  protein groups                             \n",
       "Sample_158 Q9UN70;Q9UN70-2                      14.630\n",
       "Sample_050 Q9Y287                               15.755\n",
       "Sample_107 Q8N475;Q8N475-2                      15.029\n",
       "Sample_199 P06307                               19.376\n",
       "Sample_067 Q5VUB5                               15.309\n",
       "...                                                ...\n",
       "Sample_111 F6SYF8;Q9UBP4                        22.822\n",
       "Sample_002 A0A0A0MT36                           18.165\n",
       "Sample_049 Q8WY21;Q8WY21-2;Q8WY21-3;Q8WY21-4    15.525\n",
       "Sample_182 Q8NFT8                               14.379\n",
       "Sample_123 Q16853;Q16853-2                      14.504\n",
       "\n",
       "[12600 rows x 1 columns]"
      ]
     },
     "execution_count": 13,
     "metadata": {},
     "output_type": "execute_result"
    }
   ],
   "source": [
    "val_pred_simulated_na = data.val_y.to_frame(name='observed')\n",
    "val_pred_simulated_na"
   ]
  },
  {
   "cell_type": "code",
   "execution_count": 14,
   "id": "3797a539-84d9-430a-8d16-7cc0eebfe9f5",
   "metadata": {
    "execution": {
     "iopub.execute_input": "2024-09-18T04:05:39.069569Z",
     "iopub.status.busy": "2024-09-18T04:05:39.069248Z",
     "iopub.status.idle": "2024-09-18T04:05:39.081939Z",
     "shell.execute_reply": "2024-09-18T04:05:39.081297Z"
    },
    "lines_to_next_cell": 2,
    "papermill": {
     "duration": 0.031612,
     "end_time": "2024-09-18T04:05:39.083281",
     "exception": false,
     "start_time": "2024-09-18T04:05:39.051669",
     "status": "completed"
    },
    "tags": [
     "hide-input"
    ]
   },
   "outputs": [
    {
     "data": {
      "text/html": [
       "<div>\n",
       "<style scoped>\n",
       "    .dataframe tbody tr th:only-of-type {\n",
       "        vertical-align: middle;\n",
       "    }\n",
       "\n",
       "    .dataframe tbody tr th {\n",
       "        vertical-align: top;\n",
       "    }\n",
       "\n",
       "    .dataframe thead th {\n",
       "        text-align: right;\n",
       "    }\n",
       "</style>\n",
       "<table border=\"1\" class=\"dataframe\">\n",
       "  <thead>\n",
       "    <tr style=\"text-align: right;\">\n",
       "      <th></th>\n",
       "      <th>observed</th>\n",
       "    </tr>\n",
       "  </thead>\n",
       "  <tbody>\n",
       "    <tr>\n",
       "      <th>count</th>\n",
       "      <td>12,600.000</td>\n",
       "    </tr>\n",
       "    <tr>\n",
       "      <th>mean</th>\n",
       "      <td>16.339</td>\n",
       "    </tr>\n",
       "    <tr>\n",
       "      <th>std</th>\n",
       "      <td>2.741</td>\n",
       "    </tr>\n",
       "    <tr>\n",
       "      <th>min</th>\n",
       "      <td>7.209</td>\n",
       "    </tr>\n",
       "    <tr>\n",
       "      <th>25%</th>\n",
       "      <td>14.412</td>\n",
       "    </tr>\n",
       "    <tr>\n",
       "      <th>50%</th>\n",
       "      <td>15.935</td>\n",
       "    </tr>\n",
       "    <tr>\n",
       "      <th>75%</th>\n",
       "      <td>17.910</td>\n",
       "    </tr>\n",
       "    <tr>\n",
       "      <th>max</th>\n",
       "      <td>30.140</td>\n",
       "    </tr>\n",
       "  </tbody>\n",
       "</table>\n",
       "</div>"
      ],
      "text/plain": [
       "        observed\n",
       "count 12,600.000\n",
       "mean      16.339\n",
       "std        2.741\n",
       "min        7.209\n",
       "25%       14.412\n",
       "50%       15.935\n",
       "75%       17.910\n",
       "max       30.140"
      ]
     },
     "execution_count": 14,
     "metadata": {},
     "output_type": "execute_result"
    }
   ],
   "source": [
    "test_pred_simulated_na = data.test_y.to_frame(name='observed')\n",
    "test_pred_simulated_na.describe()"
   ]
  },
  {
   "cell_type": "markdown",
   "id": "49eced7a-6cd7-414e-b974-4bd1dbe3a787",
   "metadata": {
    "papermill": {
     "duration": 0.016403,
     "end_time": "2024-09-18T04:05:39.116614",
     "exception": false,
     "start_time": "2024-09-18T04:05:39.100211",
     "status": "completed"
    },
    "tags": []
   },
   "source": [
    "## Data in wide format\n",
    "\n",
    "- Autoencoder need data in wide format"
   ]
  },
  {
   "cell_type": "code",
   "execution_count": 15,
   "id": "cff8caf4-ccc9-4a36-a992-2cc596abe51a",
   "metadata": {
    "execution": {
     "iopub.execute_input": "2024-09-18T04:05:39.151987Z",
     "iopub.status.busy": "2024-09-18T04:05:39.151619Z",
     "iopub.status.idle": "2024-09-18T04:05:39.193426Z",
     "shell.execute_reply": "2024-09-18T04:05:39.192770Z"
    },
    "papermill": {
     "duration": 0.060915,
     "end_time": "2024-09-18T04:05:39.194781",
     "exception": false,
     "start_time": "2024-09-18T04:05:39.133866",
     "status": "completed"
    },
    "tags": [
     "hide-input"
    ]
   },
   "outputs": [
    {
     "data": {
      "text/html": [
       "<div>\n",
       "<style scoped>\n",
       "    .dataframe tbody tr th:only-of-type {\n",
       "        vertical-align: middle;\n",
       "    }\n",
       "\n",
       "    .dataframe tbody tr th {\n",
       "        vertical-align: top;\n",
       "    }\n",
       "\n",
       "    .dataframe thead th {\n",
       "        text-align: right;\n",
       "    }\n",
       "</style>\n",
       "<table border=\"1\" class=\"dataframe\">\n",
       "  <thead>\n",
       "    <tr style=\"text-align: right;\">\n",
       "      <th>protein groups</th>\n",
       "      <th>A0A024QZX5;A0A087X1N8;P35237</th>\n",
       "      <th>A0A024R0T9;K7ER74;P02655</th>\n",
       "      <th>A0A024R3W6;A0A024R412;O60462;O60462-2;O60462-3;O60462-4;O60462-5;Q7LBX6;X5D2Q8</th>\n",
       "      <th>A0A024R644;A0A0A0MRU5;A0A1B0GWI2;O75503</th>\n",
       "      <th>A0A075B6H7</th>\n",
       "      <th>A0A075B6H9</th>\n",
       "      <th>A0A075B6I0</th>\n",
       "      <th>A0A075B6I1</th>\n",
       "      <th>A0A075B6I6</th>\n",
       "      <th>A0A075B6I9</th>\n",
       "      <th>...</th>\n",
       "      <th>Q9Y653;Q9Y653-2;Q9Y653-3</th>\n",
       "      <th>Q9Y696</th>\n",
       "      <th>Q9Y6C2</th>\n",
       "      <th>Q9Y6N6</th>\n",
       "      <th>Q9Y6N7;Q9Y6N7-2;Q9Y6N7-4</th>\n",
       "      <th>Q9Y6R7</th>\n",
       "      <th>Q9Y6X5</th>\n",
       "      <th>Q9Y6Y8;Q9Y6Y8-2</th>\n",
       "      <th>Q9Y6Y9</th>\n",
       "      <th>S4R3U6</th>\n",
       "    </tr>\n",
       "    <tr>\n",
       "      <th>Sample ID</th>\n",
       "      <th></th>\n",
       "      <th></th>\n",
       "      <th></th>\n",
       "      <th></th>\n",
       "      <th></th>\n",
       "      <th></th>\n",
       "      <th></th>\n",
       "      <th></th>\n",
       "      <th></th>\n",
       "      <th></th>\n",
       "      <th></th>\n",
       "      <th></th>\n",
       "      <th></th>\n",
       "      <th></th>\n",
       "      <th></th>\n",
       "      <th></th>\n",
       "      <th></th>\n",
       "      <th></th>\n",
       "      <th></th>\n",
       "      <th></th>\n",
       "      <th></th>\n",
       "    </tr>\n",
       "  </thead>\n",
       "  <tbody>\n",
       "    <tr>\n",
       "      <th>Sample_000</th>\n",
       "      <td>15.912</td>\n",
       "      <td>16.852</td>\n",
       "      <td>15.570</td>\n",
       "      <td>16.481</td>\n",
       "      <td>17.301</td>\n",
       "      <td>20.246</td>\n",
       "      <td>16.764</td>\n",
       "      <td>17.584</td>\n",
       "      <td>16.988</td>\n",
       "      <td>20.054</td>\n",
       "      <td>...</td>\n",
       "      <td>16.012</td>\n",
       "      <td>15.178</td>\n",
       "      <td>NaN</td>\n",
       "      <td>15.050</td>\n",
       "      <td>16.842</td>\n",
       "      <td>NaN</td>\n",
       "      <td>NaN</td>\n",
       "      <td>19.563</td>\n",
       "      <td>NaN</td>\n",
       "      <td>12.805</td>\n",
       "    </tr>\n",
       "    <tr>\n",
       "      <th>Sample_001</th>\n",
       "      <td>NaN</td>\n",
       "      <td>16.874</td>\n",
       "      <td>15.519</td>\n",
       "      <td>16.387</td>\n",
       "      <td>NaN</td>\n",
       "      <td>19.941</td>\n",
       "      <td>18.786</td>\n",
       "      <td>17.144</td>\n",
       "      <td>NaN</td>\n",
       "      <td>19.067</td>\n",
       "      <td>...</td>\n",
       "      <td>15.528</td>\n",
       "      <td>15.576</td>\n",
       "      <td>NaN</td>\n",
       "      <td>14.833</td>\n",
       "      <td>16.597</td>\n",
       "      <td>20.299</td>\n",
       "      <td>15.556</td>\n",
       "      <td>19.386</td>\n",
       "      <td>13.970</td>\n",
       "      <td>12.442</td>\n",
       "    </tr>\n",
       "    <tr>\n",
       "      <th>Sample_002</th>\n",
       "      <td>16.111</td>\n",
       "      <td>NaN</td>\n",
       "      <td>15.935</td>\n",
       "      <td>16.416</td>\n",
       "      <td>18.175</td>\n",
       "      <td>19.251</td>\n",
       "      <td>16.832</td>\n",
       "      <td>15.671</td>\n",
       "      <td>17.012</td>\n",
       "      <td>18.569</td>\n",
       "      <td>...</td>\n",
       "      <td>15.229</td>\n",
       "      <td>14.728</td>\n",
       "      <td>13.757</td>\n",
       "      <td>15.118</td>\n",
       "      <td>17.440</td>\n",
       "      <td>19.598</td>\n",
       "      <td>15.735</td>\n",
       "      <td>20.447</td>\n",
       "      <td>12.636</td>\n",
       "      <td>12.505</td>\n",
       "    </tr>\n",
       "    <tr>\n",
       "      <th>Sample_003</th>\n",
       "      <td>16.107</td>\n",
       "      <td>17.032</td>\n",
       "      <td>15.802</td>\n",
       "      <td>16.979</td>\n",
       "      <td>15.963</td>\n",
       "      <td>19.628</td>\n",
       "      <td>17.852</td>\n",
       "      <td>18.877</td>\n",
       "      <td>14.182</td>\n",
       "      <td>18.985</td>\n",
       "      <td>...</td>\n",
       "      <td>15.495</td>\n",
       "      <td>14.590</td>\n",
       "      <td>14.682</td>\n",
       "      <td>15.140</td>\n",
       "      <td>17.356</td>\n",
       "      <td>19.429</td>\n",
       "      <td>NaN</td>\n",
       "      <td>20.216</td>\n",
       "      <td>NaN</td>\n",
       "      <td>12.445</td>\n",
       "    </tr>\n",
       "    <tr>\n",
       "      <th>Sample_004</th>\n",
       "      <td>15.603</td>\n",
       "      <td>15.331</td>\n",
       "      <td>15.375</td>\n",
       "      <td>16.679</td>\n",
       "      <td>NaN</td>\n",
       "      <td>20.450</td>\n",
       "      <td>18.682</td>\n",
       "      <td>17.081</td>\n",
       "      <td>14.140</td>\n",
       "      <td>19.686</td>\n",
       "      <td>...</td>\n",
       "      <td>14.757</td>\n",
       "      <td>NaN</td>\n",
       "      <td>NaN</td>\n",
       "      <td>15.256</td>\n",
       "      <td>17.075</td>\n",
       "      <td>19.582</td>\n",
       "      <td>15.328</td>\n",
       "      <td>NaN</td>\n",
       "      <td>13.145</td>\n",
       "      <td>NaN</td>\n",
       "    </tr>\n",
       "  </tbody>\n",
       "</table>\n",
       "<p>5 rows × 1421 columns</p>\n",
       "</div>"
      ],
      "text/plain": [
       "protein groups  A0A024QZX5;A0A087X1N8;P35237  A0A024R0T9;K7ER74;P02655  \\\n",
       "Sample ID                                                                \n",
       "Sample_000                            15.912                    16.852   \n",
       "Sample_001                               NaN                    16.874   \n",
       "Sample_002                            16.111                       NaN   \n",
       "Sample_003                            16.107                    17.032   \n",
       "Sample_004                            15.603                    15.331   \n",
       "\n",
       "protein groups  A0A024R3W6;A0A024R412;O60462;O60462-2;O60462-3;O60462-4;O60462-5;Q7LBX6;X5D2Q8  \\\n",
       "Sample ID                                                                                        \n",
       "Sample_000                                                                              15.570   \n",
       "Sample_001                                                                              15.519   \n",
       "Sample_002                                                                              15.935   \n",
       "Sample_003                                                                              15.802   \n",
       "Sample_004                                                                              15.375   \n",
       "\n",
       "protein groups  A0A024R644;A0A0A0MRU5;A0A1B0GWI2;O75503  A0A075B6H7  \\\n",
       "Sample ID                                                             \n",
       "Sample_000                                       16.481      17.301   \n",
       "Sample_001                                       16.387         NaN   \n",
       "Sample_002                                       16.416      18.175   \n",
       "Sample_003                                       16.979      15.963   \n",
       "Sample_004                                       16.679         NaN   \n",
       "\n",
       "protein groups  A0A075B6H9  A0A075B6I0  A0A075B6I1  A0A075B6I6  A0A075B6I9  \\\n",
       "Sample ID                                                                    \n",
       "Sample_000          20.246      16.764      17.584      16.988      20.054   \n",
       "Sample_001          19.941      18.786      17.144         NaN      19.067   \n",
       "Sample_002          19.251      16.832      15.671      17.012      18.569   \n",
       "Sample_003          19.628      17.852      18.877      14.182      18.985   \n",
       "Sample_004          20.450      18.682      17.081      14.140      19.686   \n",
       "\n",
       "protein groups  ...  Q9Y653;Q9Y653-2;Q9Y653-3  Q9Y696  Q9Y6C2  Q9Y6N6  \\\n",
       "Sample ID       ...                                                     \n",
       "Sample_000      ...                    16.012  15.178     NaN  15.050   \n",
       "Sample_001      ...                    15.528  15.576     NaN  14.833   \n",
       "Sample_002      ...                    15.229  14.728  13.757  15.118   \n",
       "Sample_003      ...                    15.495  14.590  14.682  15.140   \n",
       "Sample_004      ...                    14.757     NaN     NaN  15.256   \n",
       "\n",
       "protein groups  Q9Y6N7;Q9Y6N7-2;Q9Y6N7-4  Q9Y6R7  Q9Y6X5  Q9Y6Y8;Q9Y6Y8-2  \\\n",
       "Sample ID                                                                   \n",
       "Sample_000                        16.842     NaN     NaN           19.563   \n",
       "Sample_001                        16.597  20.299  15.556           19.386   \n",
       "Sample_002                        17.440  19.598  15.735           20.447   \n",
       "Sample_003                        17.356  19.429     NaN           20.216   \n",
       "Sample_004                        17.075  19.582  15.328              NaN   \n",
       "\n",
       "protein groups  Q9Y6Y9  S4R3U6  \n",
       "Sample ID                       \n",
       "Sample_000         NaN  12.805  \n",
       "Sample_001      13.970  12.442  \n",
       "Sample_002      12.636  12.505  \n",
       "Sample_003         NaN  12.445  \n",
       "Sample_004      13.145     NaN  \n",
       "\n",
       "[5 rows x 1421 columns]"
      ]
     },
     "execution_count": 15,
     "metadata": {},
     "output_type": "execute_result"
    }
   ],
   "source": [
    "data.to_wide_format()\n",
    "args.M = data.train_X.shape[-1]\n",
    "data.train_X.head()"
   ]
  },
  {
   "cell_type": "markdown",
   "id": "5cc46767-49c9-487e-bf2d-19aacc9114c3",
   "metadata": {
    "papermill": {
     "duration": 0.017423,
     "end_time": "2024-09-18T04:05:39.230125",
     "exception": false,
     "start_time": "2024-09-18T04:05:39.212702",
     "status": "completed"
    },
    "tags": []
   },
   "source": [
    "### Add interpolation performance"
   ]
  },
  {
   "cell_type": "markdown",
   "id": "21681578-dfc5-4f3c-ac7d-a0758ed5417b",
   "metadata": {
    "papermill": {
     "duration": 0.016914,
     "end_time": "2024-09-18T04:05:39.264278",
     "exception": false,
     "start_time": "2024-09-18T04:05:39.247364",
     "status": "completed"
    },
    "tags": []
   },
   "source": [
    "### Fill Validation data with potentially missing features"
   ]
  },
  {
   "cell_type": "code",
   "execution_count": 16,
   "id": "7952fe13",
   "metadata": {
    "execution": {
     "iopub.execute_input": "2024-09-18T04:05:39.300020Z",
     "iopub.status.busy": "2024-09-18T04:05:39.299695Z",
     "iopub.status.idle": "2024-09-18T04:05:39.328803Z",
     "shell.execute_reply": "2024-09-18T04:05:39.328007Z"
    },
    "papermill": {
     "duration": 0.048683,
     "end_time": "2024-09-18T04:05:39.330326",
     "exception": false,
     "start_time": "2024-09-18T04:05:39.281643",
     "status": "completed"
    },
    "tags": [
     "hide-input"
    ]
   },
   "outputs": [
    {
     "data": {
      "text/html": [
       "<div>\n",
       "<style scoped>\n",
       "    .dataframe tbody tr th:only-of-type {\n",
       "        vertical-align: middle;\n",
       "    }\n",
       "\n",
       "    .dataframe tbody tr th {\n",
       "        vertical-align: top;\n",
       "    }\n",
       "\n",
       "    .dataframe thead th {\n",
       "        text-align: right;\n",
       "    }\n",
       "</style>\n",
       "<table border=\"1\" class=\"dataframe\">\n",
       "  <thead>\n",
       "    <tr style=\"text-align: right;\">\n",
       "      <th>protein groups</th>\n",
       "      <th>A0A024QZX5;A0A087X1N8;P35237</th>\n",
       "      <th>A0A024R0T9;K7ER74;P02655</th>\n",
       "      <th>A0A024R3W6;A0A024R412;O60462;O60462-2;O60462-3;O60462-4;O60462-5;Q7LBX6;X5D2Q8</th>\n",
       "      <th>A0A024R644;A0A0A0MRU5;A0A1B0GWI2;O75503</th>\n",
       "      <th>A0A075B6H7</th>\n",
       "      <th>A0A075B6H9</th>\n",
       "      <th>A0A075B6I0</th>\n",
       "      <th>A0A075B6I1</th>\n",
       "      <th>A0A075B6I6</th>\n",
       "      <th>A0A075B6I9</th>\n",
       "      <th>...</th>\n",
       "      <th>Q9Y653;Q9Y653-2;Q9Y653-3</th>\n",
       "      <th>Q9Y696</th>\n",
       "      <th>Q9Y6C2</th>\n",
       "      <th>Q9Y6N6</th>\n",
       "      <th>Q9Y6N7;Q9Y6N7-2;Q9Y6N7-4</th>\n",
       "      <th>Q9Y6R7</th>\n",
       "      <th>Q9Y6X5</th>\n",
       "      <th>Q9Y6Y8;Q9Y6Y8-2</th>\n",
       "      <th>Q9Y6Y9</th>\n",
       "      <th>S4R3U6</th>\n",
       "    </tr>\n",
       "    <tr>\n",
       "      <th>Sample ID</th>\n",
       "      <th></th>\n",
       "      <th></th>\n",
       "      <th></th>\n",
       "      <th></th>\n",
       "      <th></th>\n",
       "      <th></th>\n",
       "      <th></th>\n",
       "      <th></th>\n",
       "      <th></th>\n",
       "      <th></th>\n",
       "      <th></th>\n",
       "      <th></th>\n",
       "      <th></th>\n",
       "      <th></th>\n",
       "      <th></th>\n",
       "      <th></th>\n",
       "      <th></th>\n",
       "      <th></th>\n",
       "      <th></th>\n",
       "      <th></th>\n",
       "      <th></th>\n",
       "    </tr>\n",
       "  </thead>\n",
       "  <tbody>\n",
       "    <tr>\n",
       "      <th>Sample_000</th>\n",
       "      <td>15.912</td>\n",
       "      <td>16.852</td>\n",
       "      <td>15.570</td>\n",
       "      <td>16.481</td>\n",
       "      <td>17.301</td>\n",
       "      <td>20.246</td>\n",
       "      <td>16.764</td>\n",
       "      <td>17.584</td>\n",
       "      <td>16.988</td>\n",
       "      <td>20.054</td>\n",
       "      <td>...</td>\n",
       "      <td>16.012</td>\n",
       "      <td>15.178</td>\n",
       "      <td>NaN</td>\n",
       "      <td>15.050</td>\n",
       "      <td>16.842</td>\n",
       "      <td>NaN</td>\n",
       "      <td>NaN</td>\n",
       "      <td>19.563</td>\n",
       "      <td>NaN</td>\n",
       "      <td>12.805</td>\n",
       "    </tr>\n",
       "    <tr>\n",
       "      <th>Sample_001</th>\n",
       "      <td>NaN</td>\n",
       "      <td>16.874</td>\n",
       "      <td>15.519</td>\n",
       "      <td>16.387</td>\n",
       "      <td>NaN</td>\n",
       "      <td>19.941</td>\n",
       "      <td>18.786</td>\n",
       "      <td>17.144</td>\n",
       "      <td>NaN</td>\n",
       "      <td>19.067</td>\n",
       "      <td>...</td>\n",
       "      <td>15.528</td>\n",
       "      <td>15.576</td>\n",
       "      <td>NaN</td>\n",
       "      <td>14.833</td>\n",
       "      <td>16.597</td>\n",
       "      <td>20.299</td>\n",
       "      <td>15.556</td>\n",
       "      <td>19.386</td>\n",
       "      <td>13.970</td>\n",
       "      <td>12.442</td>\n",
       "    </tr>\n",
       "    <tr>\n",
       "      <th>Sample_002</th>\n",
       "      <td>16.111</td>\n",
       "      <td>NaN</td>\n",
       "      <td>15.935</td>\n",
       "      <td>16.416</td>\n",
       "      <td>18.175</td>\n",
       "      <td>19.251</td>\n",
       "      <td>16.832</td>\n",
       "      <td>15.671</td>\n",
       "      <td>17.012</td>\n",
       "      <td>18.569</td>\n",
       "      <td>...</td>\n",
       "      <td>15.229</td>\n",
       "      <td>14.728</td>\n",
       "      <td>13.757</td>\n",
       "      <td>15.118</td>\n",
       "      <td>17.440</td>\n",
       "      <td>19.598</td>\n",
       "      <td>15.735</td>\n",
       "      <td>20.447</td>\n",
       "      <td>12.636</td>\n",
       "      <td>12.505</td>\n",
       "    </tr>\n",
       "    <tr>\n",
       "      <th>Sample_003</th>\n",
       "      <td>16.107</td>\n",
       "      <td>17.032</td>\n",
       "      <td>15.802</td>\n",
       "      <td>16.979</td>\n",
       "      <td>15.963</td>\n",
       "      <td>19.628</td>\n",
       "      <td>17.852</td>\n",
       "      <td>18.877</td>\n",
       "      <td>14.182</td>\n",
       "      <td>18.985</td>\n",
       "      <td>...</td>\n",
       "      <td>15.495</td>\n",
       "      <td>14.590</td>\n",
       "      <td>14.682</td>\n",
       "      <td>15.140</td>\n",
       "      <td>17.356</td>\n",
       "      <td>19.429</td>\n",
       "      <td>NaN</td>\n",
       "      <td>20.216</td>\n",
       "      <td>NaN</td>\n",
       "      <td>12.445</td>\n",
       "    </tr>\n",
       "    <tr>\n",
       "      <th>Sample_004</th>\n",
       "      <td>15.603</td>\n",
       "      <td>15.331</td>\n",
       "      <td>15.375</td>\n",
       "      <td>16.679</td>\n",
       "      <td>NaN</td>\n",
       "      <td>20.450</td>\n",
       "      <td>18.682</td>\n",
       "      <td>17.081</td>\n",
       "      <td>14.140</td>\n",
       "      <td>19.686</td>\n",
       "      <td>...</td>\n",
       "      <td>14.757</td>\n",
       "      <td>NaN</td>\n",
       "      <td>NaN</td>\n",
       "      <td>15.256</td>\n",
       "      <td>17.075</td>\n",
       "      <td>19.582</td>\n",
       "      <td>15.328</td>\n",
       "      <td>NaN</td>\n",
       "      <td>13.145</td>\n",
       "      <td>NaN</td>\n",
       "    </tr>\n",
       "    <tr>\n",
       "      <th>...</th>\n",
       "      <td>...</td>\n",
       "      <td>...</td>\n",
       "      <td>...</td>\n",
       "      <td>...</td>\n",
       "      <td>...</td>\n",
       "      <td>...</td>\n",
       "      <td>...</td>\n",
       "      <td>...</td>\n",
       "      <td>...</td>\n",
       "      <td>...</td>\n",
       "      <td>...</td>\n",
       "      <td>...</td>\n",
       "      <td>...</td>\n",
       "      <td>...</td>\n",
       "      <td>...</td>\n",
       "      <td>...</td>\n",
       "      <td>...</td>\n",
       "      <td>...</td>\n",
       "      <td>...</td>\n",
       "      <td>...</td>\n",
       "      <td>...</td>\n",
       "    </tr>\n",
       "    <tr>\n",
       "      <th>Sample_205</th>\n",
       "      <td>15.682</td>\n",
       "      <td>16.886</td>\n",
       "      <td>14.910</td>\n",
       "      <td>16.482</td>\n",
       "      <td>NaN</td>\n",
       "      <td>17.705</td>\n",
       "      <td>17.039</td>\n",
       "      <td>NaN</td>\n",
       "      <td>16.413</td>\n",
       "      <td>19.102</td>\n",
       "      <td>...</td>\n",
       "      <td>NaN</td>\n",
       "      <td>15.684</td>\n",
       "      <td>14.236</td>\n",
       "      <td>15.415</td>\n",
       "      <td>17.551</td>\n",
       "      <td>17.922</td>\n",
       "      <td>16.340</td>\n",
       "      <td>19.928</td>\n",
       "      <td>12.929</td>\n",
       "      <td>NaN</td>\n",
       "    </tr>\n",
       "    <tr>\n",
       "      <th>Sample_206</th>\n",
       "      <td>15.798</td>\n",
       "      <td>17.554</td>\n",
       "      <td>15.600</td>\n",
       "      <td>15.938</td>\n",
       "      <td>NaN</td>\n",
       "      <td>18.154</td>\n",
       "      <td>18.152</td>\n",
       "      <td>16.503</td>\n",
       "      <td>16.860</td>\n",
       "      <td>18.538</td>\n",
       "      <td>...</td>\n",
       "      <td>15.422</td>\n",
       "      <td>16.106</td>\n",
       "      <td>NaN</td>\n",
       "      <td>15.345</td>\n",
       "      <td>17.084</td>\n",
       "      <td>18.708</td>\n",
       "      <td>NaN</td>\n",
       "      <td>19.433</td>\n",
       "      <td>NaN</td>\n",
       "      <td>NaN</td>\n",
       "    </tr>\n",
       "    <tr>\n",
       "      <th>Sample_207</th>\n",
       "      <td>15.739</td>\n",
       "      <td>NaN</td>\n",
       "      <td>15.469</td>\n",
       "      <td>16.898</td>\n",
       "      <td>NaN</td>\n",
       "      <td>18.636</td>\n",
       "      <td>17.950</td>\n",
       "      <td>16.321</td>\n",
       "      <td>16.401</td>\n",
       "      <td>18.849</td>\n",
       "      <td>...</td>\n",
       "      <td>15.808</td>\n",
       "      <td>16.098</td>\n",
       "      <td>14.403</td>\n",
       "      <td>15.715</td>\n",
       "      <td>NaN</td>\n",
       "      <td>18.725</td>\n",
       "      <td>16.138</td>\n",
       "      <td>19.599</td>\n",
       "      <td>13.637</td>\n",
       "      <td>11.174</td>\n",
       "    </tr>\n",
       "    <tr>\n",
       "      <th>Sample_208</th>\n",
       "      <td>15.477</td>\n",
       "      <td>16.779</td>\n",
       "      <td>14.995</td>\n",
       "      <td>16.132</td>\n",
       "      <td>NaN</td>\n",
       "      <td>14.908</td>\n",
       "      <td>NaN</td>\n",
       "      <td>NaN</td>\n",
       "      <td>16.119</td>\n",
       "      <td>18.368</td>\n",
       "      <td>...</td>\n",
       "      <td>15.157</td>\n",
       "      <td>16.712</td>\n",
       "      <td>NaN</td>\n",
       "      <td>14.640</td>\n",
       "      <td>16.533</td>\n",
       "      <td>19.411</td>\n",
       "      <td>15.807</td>\n",
       "      <td>19.545</td>\n",
       "      <td>NaN</td>\n",
       "      <td>NaN</td>\n",
       "    </tr>\n",
       "    <tr>\n",
       "      <th>Sample_209</th>\n",
       "      <td>NaN</td>\n",
       "      <td>17.261</td>\n",
       "      <td>15.175</td>\n",
       "      <td>16.235</td>\n",
       "      <td>NaN</td>\n",
       "      <td>17.893</td>\n",
       "      <td>17.744</td>\n",
       "      <td>16.371</td>\n",
       "      <td>15.780</td>\n",
       "      <td>18.806</td>\n",
       "      <td>...</td>\n",
       "      <td>15.237</td>\n",
       "      <td>15.652</td>\n",
       "      <td>15.211</td>\n",
       "      <td>14.205</td>\n",
       "      <td>16.749</td>\n",
       "      <td>19.275</td>\n",
       "      <td>15.732</td>\n",
       "      <td>19.577</td>\n",
       "      <td>11.042</td>\n",
       "      <td>11.791</td>\n",
       "    </tr>\n",
       "  </tbody>\n",
       "</table>\n",
       "<p>210 rows × 1421 columns</p>\n",
       "</div>"
      ],
      "text/plain": [
       "protein groups  A0A024QZX5;A0A087X1N8;P35237  A0A024R0T9;K7ER74;P02655  \\\n",
       "Sample ID                                                                \n",
       "Sample_000                            15.912                    16.852   \n",
       "Sample_001                               NaN                    16.874   \n",
       "Sample_002                            16.111                       NaN   \n",
       "Sample_003                            16.107                    17.032   \n",
       "Sample_004                            15.603                    15.331   \n",
       "...                                      ...                       ...   \n",
       "Sample_205                            15.682                    16.886   \n",
       "Sample_206                            15.798                    17.554   \n",
       "Sample_207                            15.739                       NaN   \n",
       "Sample_208                            15.477                    16.779   \n",
       "Sample_209                               NaN                    17.261   \n",
       "\n",
       "protein groups  A0A024R3W6;A0A024R412;O60462;O60462-2;O60462-3;O60462-4;O60462-5;Q7LBX6;X5D2Q8  \\\n",
       "Sample ID                                                                                        \n",
       "Sample_000                                                                              15.570   \n",
       "Sample_001                                                                              15.519   \n",
       "Sample_002                                                                              15.935   \n",
       "Sample_003                                                                              15.802   \n",
       "Sample_004                                                                              15.375   \n",
       "...                                                                                        ...   \n",
       "Sample_205                                                                              14.910   \n",
       "Sample_206                                                                              15.600   \n",
       "Sample_207                                                                              15.469   \n",
       "Sample_208                                                                              14.995   \n",
       "Sample_209                                                                              15.175   \n",
       "\n",
       "protein groups  A0A024R644;A0A0A0MRU5;A0A1B0GWI2;O75503  A0A075B6H7  \\\n",
       "Sample ID                                                             \n",
       "Sample_000                                       16.481      17.301   \n",
       "Sample_001                                       16.387         NaN   \n",
       "Sample_002                                       16.416      18.175   \n",
       "Sample_003                                       16.979      15.963   \n",
       "Sample_004                                       16.679         NaN   \n",
       "...                                                 ...         ...   \n",
       "Sample_205                                       16.482         NaN   \n",
       "Sample_206                                       15.938         NaN   \n",
       "Sample_207                                       16.898         NaN   \n",
       "Sample_208                                       16.132         NaN   \n",
       "Sample_209                                       16.235         NaN   \n",
       "\n",
       "protein groups  A0A075B6H9  A0A075B6I0  A0A075B6I1  A0A075B6I6  A0A075B6I9  \\\n",
       "Sample ID                                                                    \n",
       "Sample_000          20.246      16.764      17.584      16.988      20.054   \n",
       "Sample_001          19.941      18.786      17.144         NaN      19.067   \n",
       "Sample_002          19.251      16.832      15.671      17.012      18.569   \n",
       "Sample_003          19.628      17.852      18.877      14.182      18.985   \n",
       "Sample_004          20.450      18.682      17.081      14.140      19.686   \n",
       "...                    ...         ...         ...         ...         ...   \n",
       "Sample_205          17.705      17.039         NaN      16.413      19.102   \n",
       "Sample_206          18.154      18.152      16.503      16.860      18.538   \n",
       "Sample_207          18.636      17.950      16.321      16.401      18.849   \n",
       "Sample_208          14.908         NaN         NaN      16.119      18.368   \n",
       "Sample_209          17.893      17.744      16.371      15.780      18.806   \n",
       "\n",
       "protein groups  ...  Q9Y653;Q9Y653-2;Q9Y653-3  Q9Y696  Q9Y6C2  Q9Y6N6  \\\n",
       "Sample ID       ...                                                     \n",
       "Sample_000      ...                    16.012  15.178     NaN  15.050   \n",
       "Sample_001      ...                    15.528  15.576     NaN  14.833   \n",
       "Sample_002      ...                    15.229  14.728  13.757  15.118   \n",
       "Sample_003      ...                    15.495  14.590  14.682  15.140   \n",
       "Sample_004      ...                    14.757     NaN     NaN  15.256   \n",
       "...             ...                       ...     ...     ...     ...   \n",
       "Sample_205      ...                       NaN  15.684  14.236  15.415   \n",
       "Sample_206      ...                    15.422  16.106     NaN  15.345   \n",
       "Sample_207      ...                    15.808  16.098  14.403  15.715   \n",
       "Sample_208      ...                    15.157  16.712     NaN  14.640   \n",
       "Sample_209      ...                    15.237  15.652  15.211  14.205   \n",
       "\n",
       "protein groups  Q9Y6N7;Q9Y6N7-2;Q9Y6N7-4  Q9Y6R7  Q9Y6X5  Q9Y6Y8;Q9Y6Y8-2  \\\n",
       "Sample ID                                                                   \n",
       "Sample_000                        16.842     NaN     NaN           19.563   \n",
       "Sample_001                        16.597  20.299  15.556           19.386   \n",
       "Sample_002                        17.440  19.598  15.735           20.447   \n",
       "Sample_003                        17.356  19.429     NaN           20.216   \n",
       "Sample_004                        17.075  19.582  15.328              NaN   \n",
       "...                                  ...     ...     ...              ...   \n",
       "Sample_205                        17.551  17.922  16.340           19.928   \n",
       "Sample_206                        17.084  18.708     NaN           19.433   \n",
       "Sample_207                           NaN  18.725  16.138           19.599   \n",
       "Sample_208                        16.533  19.411  15.807           19.545   \n",
       "Sample_209                        16.749  19.275  15.732           19.577   \n",
       "\n",
       "protein groups  Q9Y6Y9  S4R3U6  \n",
       "Sample ID                       \n",
       "Sample_000         NaN  12.805  \n",
       "Sample_001      13.970  12.442  \n",
       "Sample_002      12.636  12.505  \n",
       "Sample_003         NaN  12.445  \n",
       "Sample_004      13.145     NaN  \n",
       "...                ...     ...  \n",
       "Sample_205      12.929     NaN  \n",
       "Sample_206         NaN     NaN  \n",
       "Sample_207      13.637  11.174  \n",
       "Sample_208         NaN     NaN  \n",
       "Sample_209      11.042  11.791  \n",
       "\n",
       "[210 rows x 1421 columns]"
      ]
     },
     "execution_count": 16,
     "metadata": {},
     "output_type": "execute_result"
    }
   ],
   "source": [
    "data.train_X"
   ]
  },
  {
   "cell_type": "code",
   "execution_count": 17,
   "id": "a0a0bcd9-22af-4dd9-af56-b041931ee918",
   "metadata": {
    "execution": {
     "iopub.execute_input": "2024-09-18T04:05:39.404780Z",
     "iopub.status.busy": "2024-09-18T04:05:39.404092Z",
     "iopub.status.idle": "2024-09-18T04:05:39.425797Z",
     "shell.execute_reply": "2024-09-18T04:05:39.425084Z"
    },
    "papermill": {
     "duration": 0.04323,
     "end_time": "2024-09-18T04:05:39.427125",
     "exception": false,
     "start_time": "2024-09-18T04:05:39.383895",
     "status": "completed"
    },
    "tags": [
     "hide-input"
    ]
   },
   "outputs": [
    {
     "data": {
      "text/html": [
       "<div>\n",
       "<style scoped>\n",
       "    .dataframe tbody tr th:only-of-type {\n",
       "        vertical-align: middle;\n",
       "    }\n",
       "\n",
       "    .dataframe tbody tr th {\n",
       "        vertical-align: top;\n",
       "    }\n",
       "\n",
       "    .dataframe thead th {\n",
       "        text-align: right;\n",
       "    }\n",
       "</style>\n",
       "<table border=\"1\" class=\"dataframe\">\n",
       "  <thead>\n",
       "    <tr style=\"text-align: right;\">\n",
       "      <th>protein groups</th>\n",
       "      <th>A0A024QZX5;A0A087X1N8;P35237</th>\n",
       "      <th>A0A024R0T9;K7ER74;P02655</th>\n",
       "      <th>A0A024R3W6;A0A024R412;O60462;O60462-2;O60462-3;O60462-4;O60462-5;Q7LBX6;X5D2Q8</th>\n",
       "      <th>A0A024R644;A0A0A0MRU5;A0A1B0GWI2;O75503</th>\n",
       "      <th>A0A075B6H7</th>\n",
       "      <th>A0A075B6H9</th>\n",
       "      <th>A0A075B6I0</th>\n",
       "      <th>A0A075B6I1</th>\n",
       "      <th>A0A075B6I6</th>\n",
       "      <th>A0A075B6I9</th>\n",
       "      <th>...</th>\n",
       "      <th>Q9Y653;Q9Y653-2;Q9Y653-3</th>\n",
       "      <th>Q9Y696</th>\n",
       "      <th>Q9Y6C2</th>\n",
       "      <th>Q9Y6N6</th>\n",
       "      <th>Q9Y6N7;Q9Y6N7-2;Q9Y6N7-4</th>\n",
       "      <th>Q9Y6R7</th>\n",
       "      <th>Q9Y6X5</th>\n",
       "      <th>Q9Y6Y8;Q9Y6Y8-2</th>\n",
       "      <th>Q9Y6Y9</th>\n",
       "      <th>S4R3U6</th>\n",
       "    </tr>\n",
       "    <tr>\n",
       "      <th>Sample ID</th>\n",
       "      <th></th>\n",
       "      <th></th>\n",
       "      <th></th>\n",
       "      <th></th>\n",
       "      <th></th>\n",
       "      <th></th>\n",
       "      <th></th>\n",
       "      <th></th>\n",
       "      <th></th>\n",
       "      <th></th>\n",
       "      <th></th>\n",
       "      <th></th>\n",
       "      <th></th>\n",
       "      <th></th>\n",
       "      <th></th>\n",
       "      <th></th>\n",
       "      <th></th>\n",
       "      <th></th>\n",
       "      <th></th>\n",
       "      <th></th>\n",
       "      <th></th>\n",
       "    </tr>\n",
       "  </thead>\n",
       "  <tbody>\n",
       "    <tr>\n",
       "      <th>Sample_000</th>\n",
       "      <td>NaN</td>\n",
       "      <td>NaN</td>\n",
       "      <td>NaN</td>\n",
       "      <td>NaN</td>\n",
       "      <td>NaN</td>\n",
       "      <td>NaN</td>\n",
       "      <td>NaN</td>\n",
       "      <td>NaN</td>\n",
       "      <td>NaN</td>\n",
       "      <td>NaN</td>\n",
       "      <td>...</td>\n",
       "      <td>NaN</td>\n",
       "      <td>NaN</td>\n",
       "      <td>NaN</td>\n",
       "      <td>NaN</td>\n",
       "      <td>NaN</td>\n",
       "      <td>19.863</td>\n",
       "      <td>NaN</td>\n",
       "      <td>NaN</td>\n",
       "      <td>NaN</td>\n",
       "      <td>NaN</td>\n",
       "    </tr>\n",
       "    <tr>\n",
       "      <th>Sample_001</th>\n",
       "      <td>NaN</td>\n",
       "      <td>NaN</td>\n",
       "      <td>NaN</td>\n",
       "      <td>NaN</td>\n",
       "      <td>NaN</td>\n",
       "      <td>NaN</td>\n",
       "      <td>NaN</td>\n",
       "      <td>NaN</td>\n",
       "      <td>NaN</td>\n",
       "      <td>NaN</td>\n",
       "      <td>...</td>\n",
       "      <td>NaN</td>\n",
       "      <td>NaN</td>\n",
       "      <td>NaN</td>\n",
       "      <td>NaN</td>\n",
       "      <td>NaN</td>\n",
       "      <td>NaN</td>\n",
       "      <td>NaN</td>\n",
       "      <td>NaN</td>\n",
       "      <td>NaN</td>\n",
       "      <td>NaN</td>\n",
       "    </tr>\n",
       "    <tr>\n",
       "      <th>Sample_002</th>\n",
       "      <td>NaN</td>\n",
       "      <td>14.523</td>\n",
       "      <td>NaN</td>\n",
       "      <td>NaN</td>\n",
       "      <td>NaN</td>\n",
       "      <td>NaN</td>\n",
       "      <td>NaN</td>\n",
       "      <td>NaN</td>\n",
       "      <td>NaN</td>\n",
       "      <td>NaN</td>\n",
       "      <td>...</td>\n",
       "      <td>NaN</td>\n",
       "      <td>NaN</td>\n",
       "      <td>NaN</td>\n",
       "      <td>NaN</td>\n",
       "      <td>NaN</td>\n",
       "      <td>NaN</td>\n",
       "      <td>NaN</td>\n",
       "      <td>NaN</td>\n",
       "      <td>NaN</td>\n",
       "      <td>NaN</td>\n",
       "    </tr>\n",
       "    <tr>\n",
       "      <th>Sample_003</th>\n",
       "      <td>NaN</td>\n",
       "      <td>NaN</td>\n",
       "      <td>NaN</td>\n",
       "      <td>NaN</td>\n",
       "      <td>NaN</td>\n",
       "      <td>NaN</td>\n",
       "      <td>NaN</td>\n",
       "      <td>NaN</td>\n",
       "      <td>NaN</td>\n",
       "      <td>NaN</td>\n",
       "      <td>...</td>\n",
       "      <td>NaN</td>\n",
       "      <td>NaN</td>\n",
       "      <td>NaN</td>\n",
       "      <td>NaN</td>\n",
       "      <td>NaN</td>\n",
       "      <td>NaN</td>\n",
       "      <td>NaN</td>\n",
       "      <td>NaN</td>\n",
       "      <td>NaN</td>\n",
       "      <td>NaN</td>\n",
       "    </tr>\n",
       "    <tr>\n",
       "      <th>Sample_004</th>\n",
       "      <td>NaN</td>\n",
       "      <td>NaN</td>\n",
       "      <td>NaN</td>\n",
       "      <td>NaN</td>\n",
       "      <td>15.473</td>\n",
       "      <td>NaN</td>\n",
       "      <td>NaN</td>\n",
       "      <td>NaN</td>\n",
       "      <td>NaN</td>\n",
       "      <td>NaN</td>\n",
       "      <td>...</td>\n",
       "      <td>NaN</td>\n",
       "      <td>NaN</td>\n",
       "      <td>14.048</td>\n",
       "      <td>NaN</td>\n",
       "      <td>NaN</td>\n",
       "      <td>NaN</td>\n",
       "      <td>NaN</td>\n",
       "      <td>19.867</td>\n",
       "      <td>NaN</td>\n",
       "      <td>12.235</td>\n",
       "    </tr>\n",
       "    <tr>\n",
       "      <th>...</th>\n",
       "      <td>...</td>\n",
       "      <td>...</td>\n",
       "      <td>...</td>\n",
       "      <td>...</td>\n",
       "      <td>...</td>\n",
       "      <td>...</td>\n",
       "      <td>...</td>\n",
       "      <td>...</td>\n",
       "      <td>...</td>\n",
       "      <td>...</td>\n",
       "      <td>...</td>\n",
       "      <td>...</td>\n",
       "      <td>...</td>\n",
       "      <td>...</td>\n",
       "      <td>...</td>\n",
       "      <td>...</td>\n",
       "      <td>...</td>\n",
       "      <td>...</td>\n",
       "      <td>...</td>\n",
       "      <td>...</td>\n",
       "      <td>...</td>\n",
       "    </tr>\n",
       "    <tr>\n",
       "      <th>Sample_205</th>\n",
       "      <td>NaN</td>\n",
       "      <td>NaN</td>\n",
       "      <td>NaN</td>\n",
       "      <td>NaN</td>\n",
       "      <td>NaN</td>\n",
       "      <td>NaN</td>\n",
       "      <td>NaN</td>\n",
       "      <td>NaN</td>\n",
       "      <td>NaN</td>\n",
       "      <td>NaN</td>\n",
       "      <td>...</td>\n",
       "      <td>NaN</td>\n",
       "      <td>NaN</td>\n",
       "      <td>NaN</td>\n",
       "      <td>NaN</td>\n",
       "      <td>NaN</td>\n",
       "      <td>NaN</td>\n",
       "      <td>NaN</td>\n",
       "      <td>NaN</td>\n",
       "      <td>NaN</td>\n",
       "      <td>11.802</td>\n",
       "    </tr>\n",
       "    <tr>\n",
       "      <th>Sample_206</th>\n",
       "      <td>NaN</td>\n",
       "      <td>NaN</td>\n",
       "      <td>NaN</td>\n",
       "      <td>NaN</td>\n",
       "      <td>NaN</td>\n",
       "      <td>NaN</td>\n",
       "      <td>NaN</td>\n",
       "      <td>NaN</td>\n",
       "      <td>NaN</td>\n",
       "      <td>NaN</td>\n",
       "      <td>...</td>\n",
       "      <td>NaN</td>\n",
       "      <td>NaN</td>\n",
       "      <td>NaN</td>\n",
       "      <td>NaN</td>\n",
       "      <td>NaN</td>\n",
       "      <td>NaN</td>\n",
       "      <td>NaN</td>\n",
       "      <td>NaN</td>\n",
       "      <td>NaN</td>\n",
       "      <td>NaN</td>\n",
       "    </tr>\n",
       "    <tr>\n",
       "      <th>Sample_207</th>\n",
       "      <td>NaN</td>\n",
       "      <td>NaN</td>\n",
       "      <td>NaN</td>\n",
       "      <td>NaN</td>\n",
       "      <td>NaN</td>\n",
       "      <td>NaN</td>\n",
       "      <td>NaN</td>\n",
       "      <td>NaN</td>\n",
       "      <td>NaN</td>\n",
       "      <td>NaN</td>\n",
       "      <td>...</td>\n",
       "      <td>NaN</td>\n",
       "      <td>NaN</td>\n",
       "      <td>NaN</td>\n",
       "      <td>NaN</td>\n",
       "      <td>NaN</td>\n",
       "      <td>NaN</td>\n",
       "      <td>NaN</td>\n",
       "      <td>NaN</td>\n",
       "      <td>NaN</td>\n",
       "      <td>NaN</td>\n",
       "    </tr>\n",
       "    <tr>\n",
       "      <th>Sample_208</th>\n",
       "      <td>NaN</td>\n",
       "      <td>NaN</td>\n",
       "      <td>NaN</td>\n",
       "      <td>NaN</td>\n",
       "      <td>NaN</td>\n",
       "      <td>NaN</td>\n",
       "      <td>17.530</td>\n",
       "      <td>NaN</td>\n",
       "      <td>NaN</td>\n",
       "      <td>NaN</td>\n",
       "      <td>...</td>\n",
       "      <td>NaN</td>\n",
       "      <td>NaN</td>\n",
       "      <td>NaN</td>\n",
       "      <td>NaN</td>\n",
       "      <td>NaN</td>\n",
       "      <td>NaN</td>\n",
       "      <td>NaN</td>\n",
       "      <td>NaN</td>\n",
       "      <td>NaN</td>\n",
       "      <td>NaN</td>\n",
       "    </tr>\n",
       "    <tr>\n",
       "      <th>Sample_209</th>\n",
       "      <td>15.727</td>\n",
       "      <td>NaN</td>\n",
       "      <td>NaN</td>\n",
       "      <td>NaN</td>\n",
       "      <td>NaN</td>\n",
       "      <td>NaN</td>\n",
       "      <td>NaN</td>\n",
       "      <td>NaN</td>\n",
       "      <td>NaN</td>\n",
       "      <td>NaN</td>\n",
       "      <td>...</td>\n",
       "      <td>NaN</td>\n",
       "      <td>NaN</td>\n",
       "      <td>NaN</td>\n",
       "      <td>NaN</td>\n",
       "      <td>NaN</td>\n",
       "      <td>NaN</td>\n",
       "      <td>NaN</td>\n",
       "      <td>NaN</td>\n",
       "      <td>NaN</td>\n",
       "      <td>NaN</td>\n",
       "    </tr>\n",
       "  </tbody>\n",
       "</table>\n",
       "<p>210 rows × 1419 columns</p>\n",
       "</div>"
      ],
      "text/plain": [
       "protein groups  A0A024QZX5;A0A087X1N8;P35237  A0A024R0T9;K7ER74;P02655  \\\n",
       "Sample ID                                                                \n",
       "Sample_000                               NaN                       NaN   \n",
       "Sample_001                               NaN                       NaN   \n",
       "Sample_002                               NaN                    14.523   \n",
       "Sample_003                               NaN                       NaN   \n",
       "Sample_004                               NaN                       NaN   \n",
       "...                                      ...                       ...   \n",
       "Sample_205                               NaN                       NaN   \n",
       "Sample_206                               NaN                       NaN   \n",
       "Sample_207                               NaN                       NaN   \n",
       "Sample_208                               NaN                       NaN   \n",
       "Sample_209                            15.727                       NaN   \n",
       "\n",
       "protein groups  A0A024R3W6;A0A024R412;O60462;O60462-2;O60462-3;O60462-4;O60462-5;Q7LBX6;X5D2Q8  \\\n",
       "Sample ID                                                                                        \n",
       "Sample_000                                                                                 NaN   \n",
       "Sample_001                                                                                 NaN   \n",
       "Sample_002                                                                                 NaN   \n",
       "Sample_003                                                                                 NaN   \n",
       "Sample_004                                                                                 NaN   \n",
       "...                                                                                        ...   \n",
       "Sample_205                                                                                 NaN   \n",
       "Sample_206                                                                                 NaN   \n",
       "Sample_207                                                                                 NaN   \n",
       "Sample_208                                                                                 NaN   \n",
       "Sample_209                                                                                 NaN   \n",
       "\n",
       "protein groups  A0A024R644;A0A0A0MRU5;A0A1B0GWI2;O75503  A0A075B6H7  \\\n",
       "Sample ID                                                             \n",
       "Sample_000                                          NaN         NaN   \n",
       "Sample_001                                          NaN         NaN   \n",
       "Sample_002                                          NaN         NaN   \n",
       "Sample_003                                          NaN         NaN   \n",
       "Sample_004                                          NaN      15.473   \n",
       "...                                                 ...         ...   \n",
       "Sample_205                                          NaN         NaN   \n",
       "Sample_206                                          NaN         NaN   \n",
       "Sample_207                                          NaN         NaN   \n",
       "Sample_208                                          NaN         NaN   \n",
       "Sample_209                                          NaN         NaN   \n",
       "\n",
       "protein groups  A0A075B6H9  A0A075B6I0  A0A075B6I1  A0A075B6I6  A0A075B6I9  \\\n",
       "Sample ID                                                                    \n",
       "Sample_000             NaN         NaN         NaN         NaN         NaN   \n",
       "Sample_001             NaN         NaN         NaN         NaN         NaN   \n",
       "Sample_002             NaN         NaN         NaN         NaN         NaN   \n",
       "Sample_003             NaN         NaN         NaN         NaN         NaN   \n",
       "Sample_004             NaN         NaN         NaN         NaN         NaN   \n",
       "...                    ...         ...         ...         ...         ...   \n",
       "Sample_205             NaN         NaN         NaN         NaN         NaN   \n",
       "Sample_206             NaN         NaN         NaN         NaN         NaN   \n",
       "Sample_207             NaN         NaN         NaN         NaN         NaN   \n",
       "Sample_208             NaN      17.530         NaN         NaN         NaN   \n",
       "Sample_209             NaN         NaN         NaN         NaN         NaN   \n",
       "\n",
       "protein groups  ...  Q9Y653;Q9Y653-2;Q9Y653-3  Q9Y696  Q9Y6C2  Q9Y6N6  \\\n",
       "Sample ID       ...                                                     \n",
       "Sample_000      ...                       NaN     NaN     NaN     NaN   \n",
       "Sample_001      ...                       NaN     NaN     NaN     NaN   \n",
       "Sample_002      ...                       NaN     NaN     NaN     NaN   \n",
       "Sample_003      ...                       NaN     NaN     NaN     NaN   \n",
       "Sample_004      ...                       NaN     NaN  14.048     NaN   \n",
       "...             ...                       ...     ...     ...     ...   \n",
       "Sample_205      ...                       NaN     NaN     NaN     NaN   \n",
       "Sample_206      ...                       NaN     NaN     NaN     NaN   \n",
       "Sample_207      ...                       NaN     NaN     NaN     NaN   \n",
       "Sample_208      ...                       NaN     NaN     NaN     NaN   \n",
       "Sample_209      ...                       NaN     NaN     NaN     NaN   \n",
       "\n",
       "protein groups  Q9Y6N7;Q9Y6N7-2;Q9Y6N7-4  Q9Y6R7  Q9Y6X5  Q9Y6Y8;Q9Y6Y8-2  \\\n",
       "Sample ID                                                                   \n",
       "Sample_000                           NaN  19.863     NaN              NaN   \n",
       "Sample_001                           NaN     NaN     NaN              NaN   \n",
       "Sample_002                           NaN     NaN     NaN              NaN   \n",
       "Sample_003                           NaN     NaN     NaN              NaN   \n",
       "Sample_004                           NaN     NaN     NaN           19.867   \n",
       "...                                  ...     ...     ...              ...   \n",
       "Sample_205                           NaN     NaN     NaN              NaN   \n",
       "Sample_206                           NaN     NaN     NaN              NaN   \n",
       "Sample_207                           NaN     NaN     NaN              NaN   \n",
       "Sample_208                           NaN     NaN     NaN              NaN   \n",
       "Sample_209                           NaN     NaN     NaN              NaN   \n",
       "\n",
       "protein groups  Q9Y6Y9  S4R3U6  \n",
       "Sample ID                       \n",
       "Sample_000         NaN     NaN  \n",
       "Sample_001         NaN     NaN  \n",
       "Sample_002         NaN     NaN  \n",
       "Sample_003         NaN     NaN  \n",
       "Sample_004         NaN  12.235  \n",
       "...                ...     ...  \n",
       "Sample_205         NaN  11.802  \n",
       "Sample_206         NaN     NaN  \n",
       "Sample_207         NaN     NaN  \n",
       "Sample_208         NaN     NaN  \n",
       "Sample_209         NaN     NaN  \n",
       "\n",
       "[210 rows x 1419 columns]"
      ]
     },
     "execution_count": 17,
     "metadata": {},
     "output_type": "execute_result"
    }
   ],
   "source": [
    "data.val_y  # potentially has less features"
   ]
  },
  {
   "cell_type": "code",
   "execution_count": 18,
   "id": "9f0826f9",
   "metadata": {
    "execution": {
     "iopub.execute_input": "2024-09-18T04:05:39.463309Z",
     "iopub.status.busy": "2024-09-18T04:05:39.463002Z",
     "iopub.status.idle": "2024-09-18T04:05:39.509344Z",
     "shell.execute_reply": "2024-09-18T04:05:39.508714Z"
    },
    "papermill": {
     "duration": 0.065373,
     "end_time": "2024-09-18T04:05:39.510522",
     "exception": false,
     "start_time": "2024-09-18T04:05:39.445149",
     "status": "completed"
    },
    "tags": [
     "hide-input"
    ]
   },
   "outputs": [
    {
     "data": {
      "text/html": [
       "<div>\n",
       "<style scoped>\n",
       "    .dataframe tbody tr th:only-of-type {\n",
       "        vertical-align: middle;\n",
       "    }\n",
       "\n",
       "    .dataframe tbody tr th {\n",
       "        vertical-align: top;\n",
       "    }\n",
       "\n",
       "    .dataframe thead th {\n",
       "        text-align: right;\n",
       "    }\n",
       "</style>\n",
       "<table border=\"1\" class=\"dataframe\">\n",
       "  <thead>\n",
       "    <tr style=\"text-align: right;\">\n",
       "      <th>protein groups</th>\n",
       "      <th>A0A024QZX5;A0A087X1N8;P35237</th>\n",
       "      <th>A0A024R0T9;K7ER74;P02655</th>\n",
       "      <th>A0A024R3W6;A0A024R412;O60462;O60462-2;O60462-3;O60462-4;O60462-5;Q7LBX6;X5D2Q8</th>\n",
       "      <th>A0A024R644;A0A0A0MRU5;A0A1B0GWI2;O75503</th>\n",
       "      <th>A0A075B6H7</th>\n",
       "      <th>A0A075B6H9</th>\n",
       "      <th>A0A075B6I0</th>\n",
       "      <th>A0A075B6I1</th>\n",
       "      <th>A0A075B6I6</th>\n",
       "      <th>A0A075B6I9</th>\n",
       "      <th>...</th>\n",
       "      <th>Q9Y653;Q9Y653-2;Q9Y653-3</th>\n",
       "      <th>Q9Y696</th>\n",
       "      <th>Q9Y6C2</th>\n",
       "      <th>Q9Y6N6</th>\n",
       "      <th>Q9Y6N7;Q9Y6N7-2;Q9Y6N7-4</th>\n",
       "      <th>Q9Y6R7</th>\n",
       "      <th>Q9Y6X5</th>\n",
       "      <th>Q9Y6Y8;Q9Y6Y8-2</th>\n",
       "      <th>Q9Y6Y9</th>\n",
       "      <th>S4R3U6</th>\n",
       "    </tr>\n",
       "    <tr>\n",
       "      <th>Sample ID</th>\n",
       "      <th></th>\n",
       "      <th></th>\n",
       "      <th></th>\n",
       "      <th></th>\n",
       "      <th></th>\n",
       "      <th></th>\n",
       "      <th></th>\n",
       "      <th></th>\n",
       "      <th></th>\n",
       "      <th></th>\n",
       "      <th></th>\n",
       "      <th></th>\n",
       "      <th></th>\n",
       "      <th></th>\n",
       "      <th></th>\n",
       "      <th></th>\n",
       "      <th></th>\n",
       "      <th></th>\n",
       "      <th></th>\n",
       "      <th></th>\n",
       "      <th></th>\n",
       "    </tr>\n",
       "  </thead>\n",
       "  <tbody>\n",
       "    <tr>\n",
       "      <th>Sample_000</th>\n",
       "      <td>NaN</td>\n",
       "      <td>NaN</td>\n",
       "      <td>NaN</td>\n",
       "      <td>NaN</td>\n",
       "      <td>NaN</td>\n",
       "      <td>NaN</td>\n",
       "      <td>NaN</td>\n",
       "      <td>NaN</td>\n",
       "      <td>NaN</td>\n",
       "      <td>NaN</td>\n",
       "      <td>...</td>\n",
       "      <td>NaN</td>\n",
       "      <td>NaN</td>\n",
       "      <td>NaN</td>\n",
       "      <td>NaN</td>\n",
       "      <td>NaN</td>\n",
       "      <td>19.863</td>\n",
       "      <td>NaN</td>\n",
       "      <td>NaN</td>\n",
       "      <td>NaN</td>\n",
       "      <td>NaN</td>\n",
       "    </tr>\n",
       "    <tr>\n",
       "      <th>Sample_001</th>\n",
       "      <td>NaN</td>\n",
       "      <td>NaN</td>\n",
       "      <td>NaN</td>\n",
       "      <td>NaN</td>\n",
       "      <td>NaN</td>\n",
       "      <td>NaN</td>\n",
       "      <td>NaN</td>\n",
       "      <td>NaN</td>\n",
       "      <td>NaN</td>\n",
       "      <td>NaN</td>\n",
       "      <td>...</td>\n",
       "      <td>NaN</td>\n",
       "      <td>NaN</td>\n",
       "      <td>NaN</td>\n",
       "      <td>NaN</td>\n",
       "      <td>NaN</td>\n",
       "      <td>NaN</td>\n",
       "      <td>NaN</td>\n",
       "      <td>NaN</td>\n",
       "      <td>NaN</td>\n",
       "      <td>NaN</td>\n",
       "    </tr>\n",
       "    <tr>\n",
       "      <th>Sample_002</th>\n",
       "      <td>NaN</td>\n",
       "      <td>14.523</td>\n",
       "      <td>NaN</td>\n",
       "      <td>NaN</td>\n",
       "      <td>NaN</td>\n",
       "      <td>NaN</td>\n",
       "      <td>NaN</td>\n",
       "      <td>NaN</td>\n",
       "      <td>NaN</td>\n",
       "      <td>NaN</td>\n",
       "      <td>...</td>\n",
       "      <td>NaN</td>\n",
       "      <td>NaN</td>\n",
       "      <td>NaN</td>\n",
       "      <td>NaN</td>\n",
       "      <td>NaN</td>\n",
       "      <td>NaN</td>\n",
       "      <td>NaN</td>\n",
       "      <td>NaN</td>\n",
       "      <td>NaN</td>\n",
       "      <td>NaN</td>\n",
       "    </tr>\n",
       "    <tr>\n",
       "      <th>Sample_003</th>\n",
       "      <td>NaN</td>\n",
       "      <td>NaN</td>\n",
       "      <td>NaN</td>\n",
       "      <td>NaN</td>\n",
       "      <td>NaN</td>\n",
       "      <td>NaN</td>\n",
       "      <td>NaN</td>\n",
       "      <td>NaN</td>\n",
       "      <td>NaN</td>\n",
       "      <td>NaN</td>\n",
       "      <td>...</td>\n",
       "      <td>NaN</td>\n",
       "      <td>NaN</td>\n",
       "      <td>NaN</td>\n",
       "      <td>NaN</td>\n",
       "      <td>NaN</td>\n",
       "      <td>NaN</td>\n",
       "      <td>NaN</td>\n",
       "      <td>NaN</td>\n",
       "      <td>NaN</td>\n",
       "      <td>NaN</td>\n",
       "    </tr>\n",
       "    <tr>\n",
       "      <th>Sample_004</th>\n",
       "      <td>NaN</td>\n",
       "      <td>NaN</td>\n",
       "      <td>NaN</td>\n",
       "      <td>NaN</td>\n",
       "      <td>15.473</td>\n",
       "      <td>NaN</td>\n",
       "      <td>NaN</td>\n",
       "      <td>NaN</td>\n",
       "      <td>NaN</td>\n",
       "      <td>NaN</td>\n",
       "      <td>...</td>\n",
       "      <td>NaN</td>\n",
       "      <td>NaN</td>\n",
       "      <td>14.048</td>\n",
       "      <td>NaN</td>\n",
       "      <td>NaN</td>\n",
       "      <td>NaN</td>\n",
       "      <td>NaN</td>\n",
       "      <td>19.867</td>\n",
       "      <td>NaN</td>\n",
       "      <td>12.235</td>\n",
       "    </tr>\n",
       "    <tr>\n",
       "      <th>...</th>\n",
       "      <td>...</td>\n",
       "      <td>...</td>\n",
       "      <td>...</td>\n",
       "      <td>...</td>\n",
       "      <td>...</td>\n",
       "      <td>...</td>\n",
       "      <td>...</td>\n",
       "      <td>...</td>\n",
       "      <td>...</td>\n",
       "      <td>...</td>\n",
       "      <td>...</td>\n",
       "      <td>...</td>\n",
       "      <td>...</td>\n",
       "      <td>...</td>\n",
       "      <td>...</td>\n",
       "      <td>...</td>\n",
       "      <td>...</td>\n",
       "      <td>...</td>\n",
       "      <td>...</td>\n",
       "      <td>...</td>\n",
       "      <td>...</td>\n",
       "    </tr>\n",
       "    <tr>\n",
       "      <th>Sample_205</th>\n",
       "      <td>NaN</td>\n",
       "      <td>NaN</td>\n",
       "      <td>NaN</td>\n",
       "      <td>NaN</td>\n",
       "      <td>NaN</td>\n",
       "      <td>NaN</td>\n",
       "      <td>NaN</td>\n",
       "      <td>NaN</td>\n",
       "      <td>NaN</td>\n",
       "      <td>NaN</td>\n",
       "      <td>...</td>\n",
       "      <td>NaN</td>\n",
       "      <td>NaN</td>\n",
       "      <td>NaN</td>\n",
       "      <td>NaN</td>\n",
       "      <td>NaN</td>\n",
       "      <td>NaN</td>\n",
       "      <td>NaN</td>\n",
       "      <td>NaN</td>\n",
       "      <td>NaN</td>\n",
       "      <td>11.802</td>\n",
       "    </tr>\n",
       "    <tr>\n",
       "      <th>Sample_206</th>\n",
       "      <td>NaN</td>\n",
       "      <td>NaN</td>\n",
       "      <td>NaN</td>\n",
       "      <td>NaN</td>\n",
       "      <td>NaN</td>\n",
       "      <td>NaN</td>\n",
       "      <td>NaN</td>\n",
       "      <td>NaN</td>\n",
       "      <td>NaN</td>\n",
       "      <td>NaN</td>\n",
       "      <td>...</td>\n",
       "      <td>NaN</td>\n",
       "      <td>NaN</td>\n",
       "      <td>NaN</td>\n",
       "      <td>NaN</td>\n",
       "      <td>NaN</td>\n",
       "      <td>NaN</td>\n",
       "      <td>NaN</td>\n",
       "      <td>NaN</td>\n",
       "      <td>NaN</td>\n",
       "      <td>NaN</td>\n",
       "    </tr>\n",
       "    <tr>\n",
       "      <th>Sample_207</th>\n",
       "      <td>NaN</td>\n",
       "      <td>NaN</td>\n",
       "      <td>NaN</td>\n",
       "      <td>NaN</td>\n",
       "      <td>NaN</td>\n",
       "      <td>NaN</td>\n",
       "      <td>NaN</td>\n",
       "      <td>NaN</td>\n",
       "      <td>NaN</td>\n",
       "      <td>NaN</td>\n",
       "      <td>...</td>\n",
       "      <td>NaN</td>\n",
       "      <td>NaN</td>\n",
       "      <td>NaN</td>\n",
       "      <td>NaN</td>\n",
       "      <td>NaN</td>\n",
       "      <td>NaN</td>\n",
       "      <td>NaN</td>\n",
       "      <td>NaN</td>\n",
       "      <td>NaN</td>\n",
       "      <td>NaN</td>\n",
       "    </tr>\n",
       "    <tr>\n",
       "      <th>Sample_208</th>\n",
       "      <td>NaN</td>\n",
       "      <td>NaN</td>\n",
       "      <td>NaN</td>\n",
       "      <td>NaN</td>\n",
       "      <td>NaN</td>\n",
       "      <td>NaN</td>\n",
       "      <td>17.530</td>\n",
       "      <td>NaN</td>\n",
       "      <td>NaN</td>\n",
       "      <td>NaN</td>\n",
       "      <td>...</td>\n",
       "      <td>NaN</td>\n",
       "      <td>NaN</td>\n",
       "      <td>NaN</td>\n",
       "      <td>NaN</td>\n",
       "      <td>NaN</td>\n",
       "      <td>NaN</td>\n",
       "      <td>NaN</td>\n",
       "      <td>NaN</td>\n",
       "      <td>NaN</td>\n",
       "      <td>NaN</td>\n",
       "    </tr>\n",
       "    <tr>\n",
       "      <th>Sample_209</th>\n",
       "      <td>15.727</td>\n",
       "      <td>NaN</td>\n",
       "      <td>NaN</td>\n",
       "      <td>NaN</td>\n",
       "      <td>NaN</td>\n",
       "      <td>NaN</td>\n",
       "      <td>NaN</td>\n",
       "      <td>NaN</td>\n",
       "      <td>NaN</td>\n",
       "      <td>NaN</td>\n",
       "      <td>...</td>\n",
       "      <td>NaN</td>\n",
       "      <td>NaN</td>\n",
       "      <td>NaN</td>\n",
       "      <td>NaN</td>\n",
       "      <td>NaN</td>\n",
       "      <td>NaN</td>\n",
       "      <td>NaN</td>\n",
       "      <td>NaN</td>\n",
       "      <td>NaN</td>\n",
       "      <td>NaN</td>\n",
       "    </tr>\n",
       "  </tbody>\n",
       "</table>\n",
       "<p>210 rows × 1421 columns</p>\n",
       "</div>"
      ],
      "text/plain": [
       "protein groups A0A024QZX5;A0A087X1N8;P35237 A0A024R0T9;K7ER74;P02655  \\\n",
       "Sample ID                                                              \n",
       "Sample_000                              NaN                      NaN   \n",
       "Sample_001                              NaN                      NaN   \n",
       "Sample_002                              NaN                   14.523   \n",
       "Sample_003                              NaN                      NaN   \n",
       "Sample_004                              NaN                      NaN   \n",
       "...                                     ...                      ...   \n",
       "Sample_205                              NaN                      NaN   \n",
       "Sample_206                              NaN                      NaN   \n",
       "Sample_207                              NaN                      NaN   \n",
       "Sample_208                              NaN                      NaN   \n",
       "Sample_209                           15.727                      NaN   \n",
       "\n",
       "protein groups A0A024R3W6;A0A024R412;O60462;O60462-2;O60462-3;O60462-4;O60462-5;Q7LBX6;X5D2Q8  \\\n",
       "Sample ID                                                                                       \n",
       "Sample_000                                                                                NaN   \n",
       "Sample_001                                                                                NaN   \n",
       "Sample_002                                                                                NaN   \n",
       "Sample_003                                                                                NaN   \n",
       "Sample_004                                                                                NaN   \n",
       "...                                                                                       ...   \n",
       "Sample_205                                                                                NaN   \n",
       "Sample_206                                                                                NaN   \n",
       "Sample_207                                                                                NaN   \n",
       "Sample_208                                                                                NaN   \n",
       "Sample_209                                                                                NaN   \n",
       "\n",
       "protein groups A0A024R644;A0A0A0MRU5;A0A1B0GWI2;O75503 A0A075B6H7 A0A075B6H9  \\\n",
       "Sample ID                                                                      \n",
       "Sample_000                                         NaN        NaN        NaN   \n",
       "Sample_001                                         NaN        NaN        NaN   \n",
       "Sample_002                                         NaN        NaN        NaN   \n",
       "Sample_003                                         NaN        NaN        NaN   \n",
       "Sample_004                                         NaN     15.473        NaN   \n",
       "...                                                ...        ...        ...   \n",
       "Sample_205                                         NaN        NaN        NaN   \n",
       "Sample_206                                         NaN        NaN        NaN   \n",
       "Sample_207                                         NaN        NaN        NaN   \n",
       "Sample_208                                         NaN        NaN        NaN   \n",
       "Sample_209                                         NaN        NaN        NaN   \n",
       "\n",
       "protein groups A0A075B6I0 A0A075B6I1 A0A075B6I6 A0A075B6I9  ...  \\\n",
       "Sample ID                                                   ...   \n",
       "Sample_000            NaN        NaN        NaN        NaN  ...   \n",
       "Sample_001            NaN        NaN        NaN        NaN  ...   \n",
       "Sample_002            NaN        NaN        NaN        NaN  ...   \n",
       "Sample_003            NaN        NaN        NaN        NaN  ...   \n",
       "Sample_004            NaN        NaN        NaN        NaN  ...   \n",
       "...                   ...        ...        ...        ...  ...   \n",
       "Sample_205            NaN        NaN        NaN        NaN  ...   \n",
       "Sample_206            NaN        NaN        NaN        NaN  ...   \n",
       "Sample_207            NaN        NaN        NaN        NaN  ...   \n",
       "Sample_208         17.530        NaN        NaN        NaN  ...   \n",
       "Sample_209            NaN        NaN        NaN        NaN  ...   \n",
       "\n",
       "protein groups Q9Y653;Q9Y653-2;Q9Y653-3 Q9Y696 Q9Y6C2 Q9Y6N6  \\\n",
       "Sample ID                                                      \n",
       "Sample_000                          NaN    NaN    NaN    NaN   \n",
       "Sample_001                          NaN    NaN    NaN    NaN   \n",
       "Sample_002                          NaN    NaN    NaN    NaN   \n",
       "Sample_003                          NaN    NaN    NaN    NaN   \n",
       "Sample_004                          NaN    NaN 14.048    NaN   \n",
       "...                                 ...    ...    ...    ...   \n",
       "Sample_205                          NaN    NaN    NaN    NaN   \n",
       "Sample_206                          NaN    NaN    NaN    NaN   \n",
       "Sample_207                          NaN    NaN    NaN    NaN   \n",
       "Sample_208                          NaN    NaN    NaN    NaN   \n",
       "Sample_209                          NaN    NaN    NaN    NaN   \n",
       "\n",
       "protein groups Q9Y6N7;Q9Y6N7-2;Q9Y6N7-4 Q9Y6R7 Q9Y6X5 Q9Y6Y8;Q9Y6Y8-2 Q9Y6Y9  \\\n",
       "Sample ID                                                                      \n",
       "Sample_000                          NaN 19.863    NaN             NaN    NaN   \n",
       "Sample_001                          NaN    NaN    NaN             NaN    NaN   \n",
       "Sample_002                          NaN    NaN    NaN             NaN    NaN   \n",
       "Sample_003                          NaN    NaN    NaN             NaN    NaN   \n",
       "Sample_004                          NaN    NaN    NaN          19.867    NaN   \n",
       "...                                 ...    ...    ...             ...    ...   \n",
       "Sample_205                          NaN    NaN    NaN             NaN    NaN   \n",
       "Sample_206                          NaN    NaN    NaN             NaN    NaN   \n",
       "Sample_207                          NaN    NaN    NaN             NaN    NaN   \n",
       "Sample_208                          NaN    NaN    NaN             NaN    NaN   \n",
       "Sample_209                          NaN    NaN    NaN             NaN    NaN   \n",
       "\n",
       "protein groups S4R3U6  \n",
       "Sample ID              \n",
       "Sample_000        NaN  \n",
       "Sample_001        NaN  \n",
       "Sample_002        NaN  \n",
       "Sample_003        NaN  \n",
       "Sample_004     12.235  \n",
       "...               ...  \n",
       "Sample_205     11.802  \n",
       "Sample_206        NaN  \n",
       "Sample_207        NaN  \n",
       "Sample_208        NaN  \n",
       "Sample_209        NaN  \n",
       "\n",
       "[210 rows x 1421 columns]"
      ]
     },
     "execution_count": 18,
     "metadata": {},
     "output_type": "execute_result"
    }
   ],
   "source": [
    "data.val_y = pd.DataFrame(pd.NA, index=data.train_X.index,\n",
    "                          columns=data.train_X.columns).fillna(data.val_y)\n",
    "data.val_y"
   ]
  },
  {
   "cell_type": "markdown",
   "id": "6de7a68e-34a3-463f-a1b3-7c76a8855ca0",
   "metadata": {
    "papermill": {
     "duration": 0.018468,
     "end_time": "2024-09-18T04:05:39.548061",
     "exception": false,
     "start_time": "2024-09-18T04:05:39.529593",
     "status": "completed"
    },
    "tags": []
   },
   "source": [
    "## Variational Autoencoder"
   ]
  },
  {
   "cell_type": "markdown",
   "id": "7f5c05d4-d0bb-476f-b955-ac5822c38f86",
   "metadata": {
    "papermill": {
     "duration": 0.018125,
     "end_time": "2024-09-18T04:05:39.585136",
     "exception": false,
     "start_time": "2024-09-18T04:05:39.567011",
     "status": "completed"
    },
    "tags": []
   },
   "source": [
    "### Analysis: DataLoaders, Model, transform"
   ]
  },
  {
   "cell_type": "code",
   "execution_count": 19,
   "id": "e0d0d02f",
   "metadata": {
    "execution": {
     "iopub.execute_input": "2024-09-18T04:05:39.621551Z",
     "iopub.status.busy": "2024-09-18T04:05:39.621268Z",
     "iopub.status.idle": "2024-09-18T04:05:39.624585Z",
     "shell.execute_reply": "2024-09-18T04:05:39.624051Z"
    },
    "papermill": {
     "duration": 0.022921,
     "end_time": "2024-09-18T04:05:39.626154",
     "exception": false,
     "start_time": "2024-09-18T04:05:39.603233",
     "status": "completed"
    },
    "tags": [
     "hide-input"
    ]
   },
   "outputs": [],
   "source": [
    "default_pipeline = sklearn.pipeline.Pipeline(\n",
    "    [\n",
    "        ('normalize', StandardScaler()),\n",
    "        ('impute', SimpleImputer(add_indicator=False))\n",
    "    ])"
   ]
  },
  {
   "cell_type": "markdown",
   "id": "ae2f194f-a879-4190-89b9-5b370a827212",
   "metadata": {
    "papermill": {
     "duration": 0.017374,
     "end_time": "2024-09-18T04:05:39.660661",
     "exception": false,
     "start_time": "2024-09-18T04:05:39.643287",
     "status": "completed"
    },
    "tags": []
   },
   "source": [
    "### Analysis: DataLoaders, Model"
   ]
  },
  {
   "cell_type": "code",
   "execution_count": 20,
   "id": "43d49b4a-00ec-4874-8839-28a3cbc0e3b3",
   "metadata": {
    "execution": {
     "iopub.execute_input": "2024-09-18T04:05:39.696481Z",
     "iopub.status.busy": "2024-09-18T04:05:39.696185Z",
     "iopub.status.idle": "2024-09-18T04:05:40.188239Z",
     "shell.execute_reply": "2024-09-18T04:05:40.186906Z"
    },
    "papermill": {
     "duration": 0.51207,
     "end_time": "2024-09-18T04:05:40.189261",
     "exception": false,
     "start_time": "2024-09-18T04:05:39.677191",
     "status": "completed"
    },
    "tags": [
     "hide-input"
    ]
   },
   "outputs": [
    {
     "data": {
      "text/plain": [
       "VAE(\n",
       "  (encoder): Sequential(\n",
       "    (0): Linear(in_features=1421, out_features=64, bias=True)\n",
       "    (1): Dropout(p=0.2, inplace=False)\n",
       "    (2): BatchNorm1d(64, eps=1e-05, momentum=0.1, affine=True, track_running_stats=True)\n",
       "    (3): LeakyReLU(negative_slope=0.1)\n",
       "    (4): Linear(in_features=64, out_features=20, bias=True)\n",
       "  )\n",
       "  (decoder): Sequential(\n",
       "    (0): Linear(in_features=10, out_features=64, bias=True)\n",
       "    (1): Dropout(p=0.2, inplace=False)\n",
       "    (2): BatchNorm1d(64, eps=1e-05, momentum=0.1, affine=True, track_running_stats=True)\n",
       "    (3): LeakyReLU(negative_slope=0.1)\n",
       "    (4): Linear(in_features=64, out_features=2842, bias=True)\n",
       "  )\n",
       ")"
      ]
     },
     "execution_count": 20,
     "metadata": {},
     "output_type": "execute_result"
    }
   ],
   "source": [
    "\n",
    "analysis = ae.AutoEncoderAnalysis(  # datasplits=data,\n",
    "    train_df=data.train_X,\n",
    "    val_df=data.val_y,\n",
    "    model=models.vae.VAE,\n",
    "    model_kwargs=dict(n_features=data.train_X.shape[-1],\n",
    "                      n_neurons=args.hidden_layers,\n",
    "                      # last_encoder_activation=None,\n",
    "                      last_decoder_activation=None,\n",
    "                      dim_latent=args.latent_dim),\n",
    "    transform=default_pipeline,\n",
    "    decode=['normalize'],\n",
    "    bs=args.batch_size)\n",
    "args.n_params = analysis.n_params_ae\n",
    "if args.cuda:\n",
    "    analysis.model = analysis.model.cuda()\n",
    "analysis.model"
   ]
  },
  {
   "cell_type": "markdown",
   "id": "ef5410d9-8b64-45bc-96d3-4b04145043c0",
   "metadata": {
    "papermill": {
     "duration": 0.014682,
     "end_time": "2024-09-18T04:05:40.219377",
     "exception": false,
     "start_time": "2024-09-18T04:05:40.204695",
     "status": "completed"
    },
    "tags": []
   },
   "source": [
    "### Training\n",
    "\n"
   ]
  },
  {
   "cell_type": "code",
   "execution_count": 21,
   "id": "cca0e4a4",
   "metadata": {
    "execution": {
     "iopub.execute_input": "2024-09-18T04:05:40.250363Z",
     "iopub.status.busy": "2024-09-18T04:05:40.250104Z",
     "iopub.status.idle": "2024-09-18T04:05:40.253026Z",
     "shell.execute_reply": "2024-09-18T04:05:40.252548Z"
    },
    "papermill": {
     "duration": 0.019883,
     "end_time": "2024-09-18T04:05:40.254125",
     "exception": false,
     "start_time": "2024-09-18T04:05:40.234242",
     "status": "completed"
    },
    "tags": [
     "hide-input"
    ]
   },
   "outputs": [],
   "source": [
    "results = []\n",
    "loss_fct = partial(models.vae.loss_fct, results=results)"
   ]
  },
  {
   "cell_type": "code",
   "execution_count": 22,
   "id": "9366b06a",
   "metadata": {
    "execution": {
     "iopub.execute_input": "2024-09-18T04:05:40.284056Z",
     "iopub.status.busy": "2024-09-18T04:05:40.283837Z",
     "iopub.status.idle": "2024-09-18T04:05:40.289039Z",
     "shell.execute_reply": "2024-09-18T04:05:40.288577Z"
    },
    "lines_to_next_cell": 0,
    "papermill": {
     "duration": 0.021975,
     "end_time": "2024-09-18T04:05:40.290773",
     "exception": false,
     "start_time": "2024-09-18T04:05:40.268798",
     "status": "completed"
    },
    "tags": [
     "hide-input"
    ]
   },
   "outputs": [
    {
     "name": "stdout",
     "output_type": "stream",
     "text": [
      "Start Fit\n",
      "   - before_fit     : [TrainEvalCallback, Recorder, ProgressCallback, EarlyStoppingCallback]\n",
      "  Start Epoch Loop\n",
      "     - before_epoch   : [Recorder, ProgressCallback]\n",
      "    Start Train\n",
      "       - before_train   : [TrainEvalCallback, Recorder, ProgressCallback]\n",
      "      Start Batch Loop\n",
      "         - before_batch   : [ModelAdapterVAE, CastToTensor]\n",
      "         - after_pred     : [ModelAdapterVAE]\n",
      "         - after_loss     : [ModelAdapterVAE]\n",
      "         - before_backward: []\n",
      "         - before_step    : []\n",
      "         - after_step     : []\n",
      "         - after_cancel_batch: []\n",
      "         - after_batch    : [TrainEvalCallback, Recorder, ProgressCallback]\n",
      "      End Batch Loop\n",
      "    End Train\n",
      "     - after_cancel_train: [Recorder]\n",
      "     - after_train    : [Recorder, ProgressCallback]\n",
      "    Start Valid\n",
      "       - before_validate: [TrainEvalCallback, Recorder, ProgressCallback]\n",
      "      Start Batch Loop\n",
      "         - **CBs same as train batch**: []\n",
      "      End Batch Loop\n",
      "    End Valid\n",
      "     - after_cancel_validate: [Recorder]\n",
      "     - after_validate : [Recorder, ProgressCallback]\n",
      "  End Epoch Loop\n",
      "   - after_cancel_epoch: []\n",
      "   - after_epoch    : [Recorder, EarlyStoppingCallback]\n",
      "End Fit\n",
      " - after_cancel_fit: []\n",
      " - after_fit      : [ProgressCallback, EarlyStoppingCallback]\n"
     ]
    }
   ],
   "source": [
    "analysis.learn = Learner(dls=analysis.dls,\n",
    "                         model=analysis.model,\n",
    "                         loss_func=loss_fct,\n",
    "                         cbs=[ae.ModelAdapterVAE(),\n",
    "                              EarlyStoppingCallback(patience=args.patience)\n",
    "                              ])\n",
    "\n",
    "analysis.learn.show_training_loop()"
   ]
  },
  {
   "cell_type": "markdown",
   "id": "2231b67e",
   "metadata": {
    "papermill": {
     "duration": 0.014601,
     "end_time": "2024-09-18T04:05:40.320894",
     "exception": false,
     "start_time": "2024-09-18T04:05:40.306293",
     "status": "completed"
    },
    "tags": []
   },
   "source": [
    "Adding a `EarlyStoppingCallback` results in an error.  Potential fix in\n",
    "[PR3509](https://github.com/fastai/fastai/pull/3509) is not yet in\n",
    "current version. Try again later"
   ]
  },
  {
   "cell_type": "code",
   "execution_count": 23,
   "id": "f4b0aec2",
   "metadata": {
    "execution": {
     "iopub.execute_input": "2024-09-18T04:05:40.354375Z",
     "iopub.status.busy": "2024-09-18T04:05:40.354107Z",
     "iopub.status.idle": "2024-09-18T04:05:40.356881Z",
     "shell.execute_reply": "2024-09-18T04:05:40.356378Z"
    },
    "papermill": {
     "duration": 0.022056,
     "end_time": "2024-09-18T04:05:40.358141",
     "exception": false,
     "start_time": "2024-09-18T04:05:40.336085",
     "status": "completed"
    },
    "tags": [
     "hide-input"
    ]
   },
   "outputs": [],
   "source": [
    "# learn.summary()"
   ]
  },
  {
   "cell_type": "code",
   "execution_count": 24,
   "id": "563a1e0a",
   "metadata": {
    "execution": {
     "iopub.execute_input": "2024-09-18T04:05:40.412086Z",
     "iopub.status.busy": "2024-09-18T04:05:40.411794Z",
     "iopub.status.idle": "2024-09-18T04:05:43.515071Z",
     "shell.execute_reply": "2024-09-18T04:05:43.514449Z"
    },
    "papermill": {
     "duration": 3.130181,
     "end_time": "2024-09-18T04:05:43.516404",
     "exception": false,
     "start_time": "2024-09-18T04:05:40.386223",
     "status": "completed"
    },
    "tags": [
     "hide-input"
    ]
   },
   "outputs": [
    {
     "data": {
      "text/html": [
       "\n",
       "<style>\n",
       "    /* Turns off some styling */\n",
       "    progress {\n",
       "        /* gets rid of default border in Firefox and Opera. */\n",
       "        border: none;\n",
       "        /* Needs to be in here for Safari polyfill so background images work as expected. */\n",
       "        background-size: auto;\n",
       "    }\n",
       "    progress:not([value]), progress:not([value])::-webkit-progress-bar {\n",
       "        background: repeating-linear-gradient(45deg, #7e7e7e, #7e7e7e 10px, #5c5c5c 10px, #5c5c5c 20px);\n",
       "    }\n",
       "    .progress-bar-interrupted, .progress-bar-interrupted::-webkit-progress-bar {\n",
       "        background: #F44336;\n",
       "    }\n",
       "</style>\n"
      ],
      "text/plain": [
       "<IPython.core.display.HTML object>"
      ]
     },
     "metadata": {},
     "output_type": "display_data"
    },
    {
     "data": {
      "text/html": [],
      "text/plain": [
       "<IPython.core.display.HTML object>"
      ]
     },
     "metadata": {},
     "output_type": "display_data"
    },
    {
     "name": "stderr",
     "output_type": "stream",
     "text": [
      "/home/runner/work/pimms/pimms/project/.snakemake/conda/6192e93206804e092b1c71b91535a817_/lib/python3.12/site-packages/fastai/learner.py:53: FutureWarning: You are using `torch.load` with `weights_only=False` (the current default value), which uses the default pickle module implicitly. It is possible to construct malicious pickle data which will execute arbitrary code during unpickling (See https://github.com/pytorch/pytorch/blob/main/SECURITY.md#untrusted-models for more details). In a future release, the default value for `weights_only` will be flipped to `True`. This limits the functions that could be executed during unpickling. Arbitrary objects will no longer be allowed to be loaded via this mode unless they are explicitly allowlisted by the user via `torch.serialization.add_safe_globals`. We recommend you start setting `weights_only=True` for any use case where you don't have full control of the loaded file. Please open an issue on GitHub for any issues related to this experimental feature.\n",
      "  state = torch.load(file, map_location=device, **torch_load_kwargs)\n"
     ]
    },
    {
     "data": {
      "text/plain": [
       "SuggestedLRs(valley=0.0063095735386013985)"
      ]
     },
     "execution_count": 24,
     "metadata": {},
     "output_type": "execute_result"
    },
    {
     "data": {
      "image/png": "[encoded data removed]",
      "text/plain": [
       "<Figure size 2352x1029 with 1 Axes>"
      ]
     },
     "metadata": {},
     "output_type": "display_data"
    }
   ],
   "source": [
    "suggested_lr = analysis.learn.lr_find()\n",
    "analysis.params['suggested_inital_lr'] = suggested_lr.valley\n",
    "suggested_lr"
   ]
  },
  {
   "cell_type": "code",
   "execution_count": 25,
   "id": "468565f5",
   "metadata": {
    "execution": {
     "iopub.execute_input": "2024-09-18T04:05:43.559922Z",
     "iopub.status.busy": "2024-09-18T04:05:43.559427Z",
     "iopub.status.idle": "2024-09-18T04:05:43.563199Z",
     "shell.execute_reply": "2024-09-18T04:05:43.562576Z"
    },
    "papermill": {
     "duration": 0.026748,
     "end_time": "2024-09-18T04:05:43.564395",
     "exception": false,
     "start_time": "2024-09-18T04:05:43.537647",
     "status": "completed"
    },
    "tags": [
     "hide-input"
    ]
   },
   "outputs": [],
   "source": [
    "results.clear()  # reset results"
   ]
  },
  {
   "cell_type": "markdown",
   "id": "c0f4eaee-f308-4081-aa16-0579fe9df7fe",
   "metadata": {
    "papermill": {
     "duration": 0.020673,
     "end_time": "2024-09-18T04:05:43.626598",
     "exception": false,
     "start_time": "2024-09-18T04:05:43.605925",
     "status": "completed"
    },
    "tags": []
   },
   "source": [
    "dump model config"
   ]
  },
  {
   "cell_type": "code",
   "execution_count": 26,
   "id": "ec77d9e5-f619-4355-ab37-2bd44029236d",
   "metadata": {
    "execution": {
     "iopub.execute_input": "2024-09-18T04:05:43.669487Z",
     "iopub.status.busy": "2024-09-18T04:05:43.669165Z",
     "iopub.status.idle": "2024-09-18T04:05:43.693940Z",
     "shell.execute_reply": "2024-09-18T04:05:43.693290Z"
    },
    "papermill": {
     "duration": 0.047404,
     "end_time": "2024-09-18T04:05:43.695194",
     "exception": false,
     "start_time": "2024-09-18T04:05:43.647790",
     "status": "completed"
    },
    "tags": [
     "hide-input"
    ]
   },
   "outputs": [],
   "source": [
    "# needs class as argument, not instance, but serialization needs instance\n",
    "analysis.params['last_decoder_activation'] = Sigmoid()\n",
    "\n",
    "pimmslearn.io.dump_json(\n",
    "    pimmslearn.io.parse_dict(\n",
    "        analysis.params, types=[\n",
    "            (torch.nn.modules.module.Module, lambda m: str(m))\n",
    "        ]),\n",
    "    args.out_models / TEMPLATE_MODEL_PARAMS.format(args.model_key))\n",
    "\n",
    "# restore original value\n",
    "analysis.params['last_decoder_activation'] = Sigmoid"
   ]
  },
  {
   "cell_type": "code",
   "execution_count": 27,
   "id": "43d18ab6",
   "metadata": {
    "execution": {
     "iopub.execute_input": "2024-09-18T04:05:43.739806Z",
     "iopub.status.busy": "2024-09-18T04:05:43.739405Z",
     "iopub.status.idle": "2024-09-18T04:05:51.200376Z",
     "shell.execute_reply": "2024-09-18T04:05:51.199687Z"
    },
    "papermill": {
     "duration": 7.484319,
     "end_time": "2024-09-18T04:05:51.201521",
     "exception": false,
     "start_time": "2024-09-18T04:05:43.717202",
     "status": "completed"
    },
    "tags": [
     "hide-input"
    ]
   },
   "outputs": [
    {
     "data": {
      "text/html": [
       "\n",
       "<style>\n",
       "    /* Turns off some styling */\n",
       "    progress {\n",
       "        /* gets rid of default border in Firefox and Opera. */\n",
       "        border: none;\n",
       "        /* Needs to be in here for Safari polyfill so background images work as expected. */\n",
       "        background-size: auto;\n",
       "    }\n",
       "    progress:not([value]), progress:not([value])::-webkit-progress-bar {\n",
       "        background: repeating-linear-gradient(45deg, #7e7e7e, #7e7e7e 10px, #5c5c5c 10px, #5c5c5c 20px);\n",
       "    }\n",
       "    .progress-bar-interrupted, .progress-bar-interrupted::-webkit-progress-bar {\n",
       "        background: #F44336;\n",
       "    }\n",
       "</style>\n"
      ],
      "text/plain": [
       "<IPython.core.display.HTML object>"
      ]
     },
     "metadata": {},
     "output_type": "display_data"
    },
    {
     "data": {
      "text/html": [
       "<table border=\"1\" class=\"dataframe\">\n",
       "  <thead>\n",
       "    <tr style=\"text-align: left;\">\n",
       "      <th>epoch</th>\n",
       "      <th>train_loss</th>\n",
       "      <th>valid_loss</th>\n",
       "      <th>time</th>\n",
       "    </tr>\n",
       "  </thead>\n",
       "  <tbody>\n",
       "    <tr>\n",
       "      <td>0</td>\n",
       "      <td>1682.512573</td>\n",
       "      <td>92.091492</td>\n",
       "      <td>00:00</td>\n",
       "    </tr>\n",
       "    <tr>\n",
       "      <td>1</td>\n",
       "      <td>1675.579468</td>\n",
       "      <td>93.035995</td>\n",
       "      <td>00:00</td>\n",
       "    </tr>\n",
       "    <tr>\n",
       "      <td>2</td>\n",
       "      <td>1668.854736</td>\n",
       "      <td>93.803543</td>\n",
       "      <td>00:00</td>\n",
       "    </tr>\n",
       "    <tr>\n",
       "      <td>3</td>\n",
       "      <td>1664.601929</td>\n",
       "      <td>94.160492</td>\n",
       "      <td>00:00</td>\n",
       "    </tr>\n",
       "    <tr>\n",
       "      <td>4</td>\n",
       "      <td>1657.517090</td>\n",
       "      <td>95.197380</td>\n",
       "      <td>00:00</td>\n",
       "    </tr>\n",
       "    <tr>\n",
       "      <td>5</td>\n",
       "      <td>1652.595215</td>\n",
       "      <td>95.479012</td>\n",
       "      <td>00:00</td>\n",
       "    </tr>\n",
       "    <tr>\n",
       "      <td>6</td>\n",
       "      <td>1648.777954</td>\n",
       "      <td>96.466614</td>\n",
       "      <td>00:00</td>\n",
       "    </tr>\n",
       "    <tr>\n",
       "      <td>7</td>\n",
       "      <td>1644.196289</td>\n",
       "      <td>96.134987</td>\n",
       "      <td>00:00</td>\n",
       "    </tr>\n",
       "    <tr>\n",
       "      <td>8</td>\n",
       "      <td>1638.683716</td>\n",
       "      <td>96.420967</td>\n",
       "      <td>00:00</td>\n",
       "    </tr>\n",
       "    <tr>\n",
       "      <td>9</td>\n",
       "      <td>1632.735229</td>\n",
       "      <td>95.492691</td>\n",
       "      <td>00:00</td>\n",
       "    </tr>\n",
       "    <tr>\n",
       "      <td>10</td>\n",
       "      <td>1625.939331</td>\n",
       "      <td>95.582695</td>\n",
       "      <td>00:00</td>\n",
       "    </tr>\n",
       "    <tr>\n",
       "      <td>11</td>\n",
       "      <td>1619.511597</td>\n",
       "      <td>95.304947</td>\n",
       "      <td>00:00</td>\n",
       "    </tr>\n",
       "    <tr>\n",
       "      <td>12</td>\n",
       "      <td>1612.387695</td>\n",
       "      <td>94.957664</td>\n",
       "      <td>00:00</td>\n",
       "    </tr>\n",
       "    <tr>\n",
       "      <td>13</td>\n",
       "      <td>1605.268677</td>\n",
       "      <td>94.923645</td>\n",
       "      <td>00:00</td>\n",
       "    </tr>\n",
       "    <tr>\n",
       "      <td>14</td>\n",
       "      <td>1597.606567</td>\n",
       "      <td>94.611809</td>\n",
       "      <td>00:00</td>\n",
       "    </tr>\n",
       "    <tr>\n",
       "      <td>15</td>\n",
       "      <td>1590.172241</td>\n",
       "      <td>94.399277</td>\n",
       "      <td>00:00</td>\n",
       "    </tr>\n",
       "    <tr>\n",
       "      <td>16</td>\n",
       "      <td>1581.545288</td>\n",
       "      <td>94.171410</td>\n",
       "      <td>00:00</td>\n",
       "    </tr>\n",
       "    <tr>\n",
       "      <td>17</td>\n",
       "      <td>1572.790771</td>\n",
       "      <td>93.978134</td>\n",
       "      <td>00:00</td>\n",
       "    </tr>\n",
       "    <tr>\n",
       "      <td>18</td>\n",
       "      <td>1563.249023</td>\n",
       "      <td>94.174248</td>\n",
       "      <td>00:00</td>\n",
       "    </tr>\n",
       "    <tr>\n",
       "      <td>19</td>\n",
       "      <td>1553.514282</td>\n",
       "      <td>94.210762</td>\n",
       "      <td>00:00</td>\n",
       "    </tr>\n",
       "    <tr>\n",
       "      <td>20</td>\n",
       "      <td>1542.691040</td>\n",
       "      <td>93.794235</td>\n",
       "      <td>00:00</td>\n",
       "    </tr>\n",
       "    <tr>\n",
       "      <td>21</td>\n",
       "      <td>1531.892944</td>\n",
       "      <td>93.573868</td>\n",
       "      <td>00:00</td>\n",
       "    </tr>\n",
       "    <tr>\n",
       "      <td>22</td>\n",
       "      <td>1521.902588</td>\n",
       "      <td>94.254639</td>\n",
       "      <td>00:00</td>\n",
       "    </tr>\n",
       "    <tr>\n",
       "      <td>23</td>\n",
       "      <td>1510.213745</td>\n",
       "      <td>94.816200</td>\n",
       "      <td>00:00</td>\n",
       "    </tr>\n",
       "    <tr>\n",
       "      <td>24</td>\n",
       "      <td>1498.629517</td>\n",
       "      <td>94.462166</td>\n",
       "      <td>00:00</td>\n",
       "    </tr>\n",
       "    <tr>\n",
       "      <td>25</td>\n",
       "      <td>1486.510498</td>\n",
       "      <td>94.844635</td>\n",
       "      <td>00:00</td>\n",
       "    </tr>\n",
       "    <tr>\n",
       "      <td>26</td>\n",
       "      <td>1474.988770</td>\n",
       "      <td>94.235008</td>\n",
       "      <td>00:00</td>\n",
       "    </tr>\n",
       "    <tr>\n",
       "      <td>27</td>\n",
       "      <td>1464.990234</td>\n",
       "      <td>94.205956</td>\n",
       "      <td>00:00</td>\n",
       "    </tr>\n",
       "    <tr>\n",
       "      <td>28</td>\n",
       "      <td>1454.085571</td>\n",
       "      <td>94.313698</td>\n",
       "      <td>00:00</td>\n",
       "    </tr>\n",
       "    <tr>\n",
       "      <td>29</td>\n",
       "      <td>1443.154175</td>\n",
       "      <td>95.294449</td>\n",
       "      <td>00:00</td>\n",
       "    </tr>\n",
       "    <tr>\n",
       "      <td>30</td>\n",
       "      <td>1433.803955</td>\n",
       "      <td>95.446274</td>\n",
       "      <td>00:00</td>\n",
       "    </tr>\n",
       "    <tr>\n",
       "      <td>31</td>\n",
       "      <td>1424.198486</td>\n",
       "      <td>96.326820</td>\n",
       "      <td>00:00</td>\n",
       "    </tr>\n",
       "    <tr>\n",
       "      <td>32</td>\n",
       "      <td>1412.719604</td>\n",
       "      <td>96.149864</td>\n",
       "      <td>00:00</td>\n",
       "    </tr>\n",
       "    <tr>\n",
       "      <td>33</td>\n",
       "      <td>1401.170044</td>\n",
       "      <td>95.830048</td>\n",
       "      <td>00:00</td>\n",
       "    </tr>\n",
       "    <tr>\n",
       "      <td>34</td>\n",
       "      <td>1389.748779</td>\n",
       "      <td>95.566071</td>\n",
       "      <td>00:00</td>\n",
       "    </tr>\n",
       "    <tr>\n",
       "      <td>35</td>\n",
       "      <td>1379.529419</td>\n",
       "      <td>95.677429</td>\n",
       "      <td>00:00</td>\n",
       "    </tr>\n",
       "    <tr>\n",
       "      <td>36</td>\n",
       "      <td>1368.078857</td>\n",
       "      <td>95.347374</td>\n",
       "      <td>00:00</td>\n",
       "    </tr>\n",
       "    <tr>\n",
       "      <td>37</td>\n",
       "      <td>1358.405273</td>\n",
       "      <td>95.259941</td>\n",
       "      <td>00:00</td>\n",
       "    </tr>\n",
       "    <tr>\n",
       "      <td>38</td>\n",
       "      <td>1347.460571</td>\n",
       "      <td>94.505234</td>\n",
       "      <td>00:00</td>\n",
       "    </tr>\n",
       "    <tr>\n",
       "      <td>39</td>\n",
       "      <td>1336.746338</td>\n",
       "      <td>94.149483</td>\n",
       "      <td>00:00</td>\n",
       "    </tr>\n",
       "    <tr>\n",
       "      <td>40</td>\n",
       "      <td>1327.674561</td>\n",
       "      <td>93.841507</td>\n",
       "      <td>00:00</td>\n",
       "    </tr>\n",
       "    <tr>\n",
       "      <td>41</td>\n",
       "      <td>1317.786377</td>\n",
       "      <td>93.883842</td>\n",
       "      <td>00:00</td>\n",
       "    </tr>\n",
       "    <tr>\n",
       "      <td>42</td>\n",
       "      <td>1308.065186</td>\n",
       "      <td>93.013618</td>\n",
       "      <td>00:00</td>\n",
       "    </tr>\n",
       "    <tr>\n",
       "      <td>43</td>\n",
       "      <td>1302.903931</td>\n",
       "      <td>93.114738</td>\n",
       "      <td>00:00</td>\n",
       "    </tr>\n",
       "    <tr>\n",
       "      <td>44</td>\n",
       "      <td>1295.418335</td>\n",
       "      <td>93.426552</td>\n",
       "      <td>00:00</td>\n",
       "    </tr>\n",
       "    <tr>\n",
       "      <td>45</td>\n",
       "      <td>1284.959106</td>\n",
       "      <td>92.904778</td>\n",
       "      <td>00:00</td>\n",
       "    </tr>\n",
       "    <tr>\n",
       "      <td>46</td>\n",
       "      <td>1276.956787</td>\n",
       "      <td>92.830582</td>\n",
       "      <td>00:00</td>\n",
       "    </tr>\n",
       "    <tr>\n",
       "      <td>47</td>\n",
       "      <td>1269.690430</td>\n",
       "      <td>93.139977</td>\n",
       "      <td>00:00</td>\n",
       "    </tr>\n",
       "    <tr>\n",
       "      <td>48</td>\n",
       "      <td>1260.890869</td>\n",
       "      <td>93.394379</td>\n",
       "      <td>00:00</td>\n",
       "    </tr>\n",
       "    <tr>\n",
       "      <td>49</td>\n",
       "      <td>1255.289185</td>\n",
       "      <td>93.505020</td>\n",
       "      <td>00:00</td>\n",
       "    </tr>\n",
       "    <tr>\n",
       "      <td>50</td>\n",
       "      <td>1248.891357</td>\n",
       "      <td>93.441376</td>\n",
       "      <td>00:00</td>\n",
       "    </tr>\n",
       "  </tbody>\n",
       "</table>"
      ],
      "text/plain": [
       "<IPython.core.display.HTML object>"
      ]
     },
     "metadata": {},
     "output_type": "display_data"
    },
    {
     "name": "stdout",
     "output_type": "stream",
     "text": [
      "No improvement since epoch 0: early stopping\n"
     ]
    }
   ],
   "source": [
    "# papermill_description=train\n",
    "analysis.learn.fit_one_cycle(args.epochs_max, lr_max=suggested_lr.valley)"
   ]
  },
  {
   "cell_type": "markdown",
   "id": "4f862ba1-7589-4076-9dae-b7e4868f4b8f",
   "metadata": {
    "papermill": {
     "duration": 0.02108,
     "end_time": "2024-09-18T04:05:51.243079",
     "exception": false,
     "start_time": "2024-09-18T04:05:51.221999",
     "status": "completed"
    },
    "tags": []
   },
   "source": [
    "Save number of actually trained epochs"
   ]
  },
  {
   "cell_type": "code",
   "execution_count": 28,
   "id": "079f9743-213c-422c-ba61-919c276fd710",
   "metadata": {
    "execution": {
     "iopub.execute_input": "2024-09-18T04:05:51.288389Z",
     "iopub.status.busy": "2024-09-18T04:05:51.287977Z",
     "iopub.status.idle": "2024-09-18T04:05:51.292683Z",
     "shell.execute_reply": "2024-09-18T04:05:51.292038Z"
    },
    "papermill": {
     "duration": 0.029434,
     "end_time": "2024-09-18T04:05:51.294245",
     "exception": false,
     "start_time": "2024-09-18T04:05:51.264811",
     "status": "completed"
    },
    "tags": [
     "hide-input"
    ]
   },
   "outputs": [
    {
     "data": {
      "text/plain": [
       "51"
      ]
     },
     "execution_count": 28,
     "metadata": {},
     "output_type": "execute_result"
    }
   ],
   "source": [
    "args.epoch_trained = analysis.learn.epoch + 1\n",
    "args.epoch_trained"
   ]
  },
  {
   "cell_type": "markdown",
   "id": "f41e0969",
   "metadata": {
    "papermill": {
     "duration": 0.020827,
     "end_time": "2024-09-18T04:05:51.336032",
     "exception": false,
     "start_time": "2024-09-18T04:05:51.315205",
     "status": "completed"
    },
    "tags": []
   },
   "source": [
    "#### Loss normalized by total number of measurements"
   ]
  },
  {
   "cell_type": "code",
   "execution_count": 29,
   "id": "3a4f91f9-c1a2-40c5-99d4-c289fb89cff8",
   "metadata": {
    "execution": {
     "iopub.execute_input": "2024-09-18T04:05:51.374950Z",
     "iopub.status.busy": "2024-09-18T04:05:51.374615Z",
     "iopub.status.idle": "2024-09-18T04:05:53.053164Z",
     "shell.execute_reply": "2024-09-18T04:05:53.052498Z"
    },
    "papermill": {
     "duration": 1.698642,
     "end_time": "2024-09-18T04:05:53.054482",
     "exception": false,
     "start_time": "2024-09-18T04:05:51.355840",
     "status": "completed"
    },
    "tags": [
     "hide-input"
    ]
   },
   "outputs": [
    {
     "name": "stdout",
     "output_type": "stream",
     "text": [
      "pimmslearn.plotting - INFO     Saved Figures to runs/alzheimer_study/figures/vae_training\n"
     ]
    },
    {
     "data": {
      "image/png": "[encoded data removed]",
      "text/plain": [
       "<Figure size 2205x1176 with 1 Axes>"
      ]
     },
     "metadata": {},
     "output_type": "display_data"
    }
   ],
   "source": [
    "N_train_notna = data.train_X.notna().sum().sum()\n",
    "N_val_notna = data.val_y.notna().sum().sum()\n",
    "fig = models.plot_training_losses(analysis.learn, args.model_key,\n",
    "                                  folder=args.out_figures,\n",
    "                                  norm_factors=[N_train_notna, N_val_notna])"
   ]
  },
  {
   "cell_type": "markdown",
   "id": "9db46826-6ab0-47b5-942c-0edc08a15e35",
   "metadata": {
    "papermill": {
     "duration": 0.041414,
     "end_time": "2024-09-18T04:05:53.121406",
     "exception": false,
     "start_time": "2024-09-18T04:05:53.079992",
     "status": "completed"
    },
    "tags": []
   },
   "source": [
    "### Predictions\n",
    "create predictions and select validation data predictions"
   ]
  },
  {
   "cell_type": "code",
   "execution_count": 30,
   "id": "e73fb4dd-e73a-48df-82b7-b378fd3ee266",
   "metadata": {
    "execution": {
     "iopub.execute_input": "2024-09-18T04:05:53.169403Z",
     "iopub.status.busy": "2024-09-18T04:05:53.168901Z",
     "iopub.status.idle": "2024-09-18T04:05:53.278014Z",
     "shell.execute_reply": "2024-09-18T04:05:53.277406Z"
    },
    "papermill": {
     "duration": 0.133014,
     "end_time": "2024-09-18T04:05:53.279347",
     "exception": false,
     "start_time": "2024-09-18T04:05:53.146333",
     "status": "completed"
    },
    "tags": [
     "hide-input"
    ]
   },
   "outputs": [
    {
     "data": {
      "text/html": [
       "\n",
       "<style>\n",
       "    /* Turns off some styling */\n",
       "    progress {\n",
       "        /* gets rid of default border in Firefox and Opera. */\n",
       "        border: none;\n",
       "        /* Needs to be in here for Safari polyfill so background images work as expected. */\n",
       "        background-size: auto;\n",
       "    }\n",
       "    progress:not([value]), progress:not([value])::-webkit-progress-bar {\n",
       "        background: repeating-linear-gradient(45deg, #7e7e7e, #7e7e7e 10px, #5c5c5c 10px, #5c5c5c 20px);\n",
       "    }\n",
       "    .progress-bar-interrupted, .progress-bar-interrupted::-webkit-progress-bar {\n",
       "        background: #F44336;\n",
       "    }\n",
       "</style>\n"
      ],
      "text/plain": [
       "<IPython.core.display.HTML object>"
      ]
     },
     "metadata": {},
     "output_type": "display_data"
    },
    {
     "data": {
      "text/html": [],
      "text/plain": [
       "<IPython.core.display.HTML object>"
      ]
     },
     "metadata": {},
     "output_type": "display_data"
    },
    {
     "data": {
      "text/plain": [
       "Sample ID   protein groups                                                                \n",
       "Sample_000  A0A024QZX5;A0A087X1N8;P35237                                                     16.035\n",
       "            A0A024R0T9;K7ER74;P02655                                                         16.385\n",
       "            A0A024R3W6;A0A024R412;O60462;O60462-2;O60462-3;O60462-4;O60462-5;Q7LBX6;X5D2Q8   15.859\n",
       "            A0A024R644;A0A0A0MRU5;A0A1B0GWI2;O75503                                          16.684\n",
       "            A0A075B6H7                                                                       17.136\n",
       "                                                                                              ...  \n",
       "Sample_209  Q9Y6R7                                                                           19.001\n",
       "            Q9Y6X5                                                                           15.772\n",
       "            Q9Y6Y8;Q9Y6Y8-2                                                                  19.612\n",
       "            Q9Y6Y9                                                                           12.716\n",
       "            S4R3U6                                                                           11.372\n",
       "Length: 298410, dtype: float32"
      ]
     },
     "execution_count": 30,
     "metadata": {},
     "output_type": "execute_result"
    }
   ],
   "source": [
    "analysis.model.eval()\n",
    "pred, target = res = ae.get_preds_from_df(df=data.train_X, learn=analysis.learn,\n",
    "                                          position_pred_tuple=0,\n",
    "                                          transformer=analysis.transform)\n",
    "pred = pred.stack()\n",
    "pred"
   ]
  },
  {
   "cell_type": "code",
   "execution_count": 31,
   "id": "a9fc0e36",
   "metadata": {
    "execution": {
     "iopub.execute_input": "2024-09-18T04:05:53.329512Z",
     "iopub.status.busy": "2024-09-18T04:05:53.329188Z",
     "iopub.status.idle": "2024-09-18T04:05:53.350023Z",
     "shell.execute_reply": "2024-09-18T04:05:53.349381Z"
    },
    "lines_to_next_cell": 2,
    "papermill": {
     "duration": 0.046901,
     "end_time": "2024-09-18T04:05:53.351140",
     "exception": false,
     "start_time": "2024-09-18T04:05:53.304239",
     "status": "completed"
    },
    "tags": [
     "hide-input"
    ]
   },
   "outputs": [
    {
     "data": {
      "text/html": [
       "<div>\n",
       "<style scoped>\n",
       "    .dataframe tbody tr th:only-of-type {\n",
       "        vertical-align: middle;\n",
       "    }\n",
       "\n",
       "    .dataframe tbody tr th {\n",
       "        vertical-align: top;\n",
       "    }\n",
       "\n",
       "    .dataframe thead th {\n",
       "        text-align: right;\n",
       "    }\n",
       "</style>\n",
       "<table border=\"1\" class=\"dataframe\">\n",
       "  <thead>\n",
       "    <tr style=\"text-align: right;\">\n",
       "      <th></th>\n",
       "      <th></th>\n",
       "      <th>observed</th>\n",
       "      <th>VAE</th>\n",
       "    </tr>\n",
       "    <tr>\n",
       "      <th>Sample ID</th>\n",
       "      <th>protein groups</th>\n",
       "      <th></th>\n",
       "      <th></th>\n",
       "    </tr>\n",
       "  </thead>\n",
       "  <tbody>\n",
       "    <tr>\n",
       "      <th>Sample_158</th>\n",
       "      <th>Q9UN70;Q9UN70-2</th>\n",
       "      <td>14.630</td>\n",
       "      <td>15.727</td>\n",
       "    </tr>\n",
       "    <tr>\n",
       "      <th>Sample_050</th>\n",
       "      <th>Q9Y287</th>\n",
       "      <td>15.755</td>\n",
       "      <td>16.993</td>\n",
       "    </tr>\n",
       "    <tr>\n",
       "      <th>Sample_107</th>\n",
       "      <th>Q8N475;Q8N475-2</th>\n",
       "      <td>15.029</td>\n",
       "      <td>14.761</td>\n",
       "    </tr>\n",
       "    <tr>\n",
       "      <th>Sample_199</th>\n",
       "      <th>P06307</th>\n",
       "      <td>19.376</td>\n",
       "      <td>18.973</td>\n",
       "    </tr>\n",
       "    <tr>\n",
       "      <th>Sample_067</th>\n",
       "      <th>Q5VUB5</th>\n",
       "      <td>15.309</td>\n",
       "      <td>14.813</td>\n",
       "    </tr>\n",
       "    <tr>\n",
       "      <th>...</th>\n",
       "      <th>...</th>\n",
       "      <td>...</td>\n",
       "      <td>...</td>\n",
       "    </tr>\n",
       "    <tr>\n",
       "      <th>Sample_111</th>\n",
       "      <th>F6SYF8;Q9UBP4</th>\n",
       "      <td>22.822</td>\n",
       "      <td>22.890</td>\n",
       "    </tr>\n",
       "    <tr>\n",
       "      <th>Sample_002</th>\n",
       "      <th>A0A0A0MT36</th>\n",
       "      <td>18.165</td>\n",
       "      <td>16.024</td>\n",
       "    </tr>\n",
       "    <tr>\n",
       "      <th>Sample_049</th>\n",
       "      <th>Q8WY21;Q8WY21-2;Q8WY21-3;Q8WY21-4</th>\n",
       "      <td>15.525</td>\n",
       "      <td>15.636</td>\n",
       "    </tr>\n",
       "    <tr>\n",
       "      <th>Sample_182</th>\n",
       "      <th>Q8NFT8</th>\n",
       "      <td>14.379</td>\n",
       "      <td>13.604</td>\n",
       "    </tr>\n",
       "    <tr>\n",
       "      <th>Sample_123</th>\n",
       "      <th>Q16853;Q16853-2</th>\n",
       "      <td>14.504</td>\n",
       "      <td>14.696</td>\n",
       "    </tr>\n",
       "  </tbody>\n",
       "</table>\n",
       "<p>12600 rows × 2 columns</p>\n",
       "</div>"
      ],
      "text/plain": [
       "                                              observed    VAE\n",
       "Sample ID  protein groups                                    \n",
       "Sample_158 Q9UN70;Q9UN70-2                      14.630 15.727\n",
       "Sample_050 Q9Y287                               15.755 16.993\n",
       "Sample_107 Q8N475;Q8N475-2                      15.029 14.761\n",
       "Sample_199 P06307                               19.376 18.973\n",
       "Sample_067 Q5VUB5                               15.309 14.813\n",
       "...                                                ...    ...\n",
       "Sample_111 F6SYF8;Q9UBP4                        22.822 22.890\n",
       "Sample_002 A0A0A0MT36                           18.165 16.024\n",
       "Sample_049 Q8WY21;Q8WY21-2;Q8WY21-3;Q8WY21-4    15.525 15.636\n",
       "Sample_182 Q8NFT8                               14.379 13.604\n",
       "Sample_123 Q16853;Q16853-2                      14.504 14.696\n",
       "\n",
       "[12600 rows x 2 columns]"
      ]
     },
     "execution_count": 31,
     "metadata": {},
     "output_type": "execute_result"
    }
   ],
   "source": [
    "val_pred_simulated_na['VAE'] = pred  # 'model_key' ?\n",
    "val_pred_simulated_na"
   ]
  },
  {
   "cell_type": "code",
   "execution_count": 32,
   "id": "b4d1fd73-9eb7-4f25-ad81-c42c6a840e77",
   "metadata": {
    "execution": {
     "iopub.execute_input": "2024-09-18T04:05:53.401386Z",
     "iopub.status.busy": "2024-09-18T04:05:53.401086Z",
     "iopub.status.idle": "2024-09-18T04:05:53.414503Z",
     "shell.execute_reply": "2024-09-18T04:05:53.413896Z"
    },
    "papermill": {
     "duration": 0.039798,
     "end_time": "2024-09-18T04:05:53.415736",
     "exception": false,
     "start_time": "2024-09-18T04:05:53.375938",
     "status": "completed"
    },
    "tags": [
     "hide-input"
    ]
   },
   "outputs": [
    {
     "data": {
      "text/html": [
       "<div>\n",
       "<style scoped>\n",
       "    .dataframe tbody tr th:only-of-type {\n",
       "        vertical-align: middle;\n",
       "    }\n",
       "\n",
       "    .dataframe tbody tr th {\n",
       "        vertical-align: top;\n",
       "    }\n",
       "\n",
       "    .dataframe thead th {\n",
       "        text-align: right;\n",
       "    }\n",
       "</style>\n",
       "<table border=\"1\" class=\"dataframe\">\n",
       "  <thead>\n",
       "    <tr style=\"text-align: right;\">\n",
       "      <th></th>\n",
       "      <th></th>\n",
       "      <th>observed</th>\n",
       "      <th>VAE</th>\n",
       "    </tr>\n",
       "    <tr>\n",
       "      <th>Sample ID</th>\n",
       "      <th>protein groups</th>\n",
       "      <th></th>\n",
       "      <th></th>\n",
       "    </tr>\n",
       "  </thead>\n",
       "  <tbody>\n",
       "    <tr>\n",
       "      <th rowspan=\"5\" valign=\"top\">Sample_000</th>\n",
       "      <th>A0A075B6P5;P01615</th>\n",
       "      <td>17.016</td>\n",
       "      <td>17.142</td>\n",
       "    </tr>\n",
       "    <tr>\n",
       "      <th>A0A087X089;Q16627;Q16627-2</th>\n",
       "      <td>18.280</td>\n",
       "      <td>17.833</td>\n",
       "    </tr>\n",
       "    <tr>\n",
       "      <th>A0A0B4J2B5;S4R460</th>\n",
       "      <td>21.735</td>\n",
       "      <td>22.237</td>\n",
       "    </tr>\n",
       "    <tr>\n",
       "      <th>A0A140T971;O95865;Q5SRR8;Q5SSV3</th>\n",
       "      <td>14.603</td>\n",
       "      <td>15.277</td>\n",
       "    </tr>\n",
       "    <tr>\n",
       "      <th>A0A140TA33;A0A140TA41;A0A140TA52;P22105;P22105-3;P22105-4</th>\n",
       "      <td>16.143</td>\n",
       "      <td>16.806</td>\n",
       "    </tr>\n",
       "    <tr>\n",
       "      <th>...</th>\n",
       "      <th>...</th>\n",
       "      <td>...</td>\n",
       "      <td>...</td>\n",
       "    </tr>\n",
       "    <tr>\n",
       "      <th rowspan=\"5\" valign=\"top\">Sample_209</th>\n",
       "      <th>Q96ID5</th>\n",
       "      <td>16.074</td>\n",
       "      <td>16.198</td>\n",
       "    </tr>\n",
       "    <tr>\n",
       "      <th>Q9H492;Q9H492-2</th>\n",
       "      <td>13.173</td>\n",
       "      <td>13.491</td>\n",
       "    </tr>\n",
       "    <tr>\n",
       "      <th>Q9HC57</th>\n",
       "      <td>14.207</td>\n",
       "      <td>14.723</td>\n",
       "    </tr>\n",
       "    <tr>\n",
       "      <th>Q9NPH3;Q9NPH3-2;Q9NPH3-5</th>\n",
       "      <td>14.962</td>\n",
       "      <td>15.019</td>\n",
       "    </tr>\n",
       "    <tr>\n",
       "      <th>Q9UGM5;Q9UGM5-2</th>\n",
       "      <td>16.871</td>\n",
       "      <td>16.460</td>\n",
       "    </tr>\n",
       "  </tbody>\n",
       "</table>\n",
       "<p>12600 rows × 2 columns</p>\n",
       "</div>"
      ],
      "text/plain": [
       "                                                                      observed  \\\n",
       "Sample ID  protein groups                                                        \n",
       "Sample_000 A0A075B6P5;P01615                                            17.016   \n",
       "           A0A087X089;Q16627;Q16627-2                                   18.280   \n",
       "           A0A0B4J2B5;S4R460                                            21.735   \n",
       "           A0A140T971;O95865;Q5SRR8;Q5SSV3                              14.603   \n",
       "           A0A140TA33;A0A140TA41;A0A140TA52;P22105;P22105-3;P22105-4    16.143   \n",
       "...                                                                        ...   \n",
       "Sample_209 Q96ID5                                                       16.074   \n",
       "           Q9H492;Q9H492-2                                              13.173   \n",
       "           Q9HC57                                                       14.207   \n",
       "           Q9NPH3;Q9NPH3-2;Q9NPH3-5                                     14.962   \n",
       "           Q9UGM5;Q9UGM5-2                                              16.871   \n",
       "\n",
       "                                                                        VAE  \n",
       "Sample ID  protein groups                                                    \n",
       "Sample_000 A0A075B6P5;P01615                                         17.142  \n",
       "           A0A087X089;Q16627;Q16627-2                                17.833  \n",
       "           A0A0B4J2B5;S4R460                                         22.237  \n",
       "           A0A140T971;O95865;Q5SRR8;Q5SSV3                           15.277  \n",
       "           A0A140TA33;A0A140TA41;A0A140TA52;P22105;P22105-3;P22105-4 16.806  \n",
       "...                                                                     ...  \n",
       "Sample_209 Q96ID5                                                    16.198  \n",
       "           Q9H492;Q9H492-2                                           13.491  \n",
       "           Q9HC57                                                    14.723  \n",
       "           Q9NPH3;Q9NPH3-2;Q9NPH3-5                                  15.019  \n",
       "           Q9UGM5;Q9UGM5-2                                           16.460  \n",
       "\n",
       "[12600 rows x 2 columns]"
      ]
     },
     "execution_count": 32,
     "metadata": {},
     "output_type": "execute_result"
    }
   ],
   "source": [
    "test_pred_simulated_na['VAE'] = pred  # model_key?\n",
    "test_pred_simulated_na"
   ]
  },
  {
   "cell_type": "markdown",
   "id": "733d4cbe",
   "metadata": {
    "papermill": {
     "duration": 0.024079,
     "end_time": "2024-09-18T04:05:53.464574",
     "exception": false,
     "start_time": "2024-09-18T04:05:53.440495",
     "status": "completed"
    },
    "tags": []
   },
   "source": [
    "save missing values predictions"
   ]
  },
  {
   "cell_type": "code",
   "execution_count": 33,
   "id": "c43e401f",
   "metadata": {
    "execution": {
     "iopub.execute_input": "2024-09-18T04:05:53.525872Z",
     "iopub.status.busy": "2024-09-18T04:05:53.525568Z",
     "iopub.status.idle": "2024-09-18T04:05:54.144794Z",
     "shell.execute_reply": "2024-09-18T04:05:54.144067Z"
    },
    "lines_to_next_cell": 2,
    "papermill": {
     "duration": 0.656565,
     "end_time": "2024-09-18T04:05:54.146290",
     "exception": false,
     "start_time": "2024-09-18T04:05:53.489725",
     "status": "completed"
    },
    "tags": [
     "hide-input"
    ]
   },
   "outputs": [
    {
     "data": {
      "text/plain": [
       "Sample ID   protein groups          \n",
       "Sample_000  A0A075B6J9                 15.495\n",
       "            A0A075B6Q5                 15.840\n",
       "            A0A075B6R2                 16.470\n",
       "            A0A075B6S5                 15.981\n",
       "            A0A087WSY4                 16.475\n",
       "                                        ...  \n",
       "Sample_209  Q9P1W8;Q9P1W8-2;Q9P1W8-4   16.205\n",
       "            Q9UI40;Q9UI40-2            16.121\n",
       "            Q9UIW2                     16.188\n",
       "            Q9UMX0;Q9UMX0-2;Q9UMX0-4   13.964\n",
       "            Q9UP79                     15.778\n",
       "Name: intensity, Length: 46401, dtype: float32"
      ]
     },
     "metadata": {},
     "output_type": "display_data"
    }
   ],
   "source": [
    "if args.save_pred_real_na:\n",
    "    pred_real_na = ae.get_missing_values(df_train_wide=data.train_X,\n",
    "                                         val_idx=val_pred_simulated_na.index,\n",
    "                                         test_idx=test_pred_simulated_na.index,\n",
    "                                         pred=pred)\n",
    "    display(pred_real_na)\n",
    "    pred_real_na.to_csv(args.out_preds / f\"pred_real_na_{args.model_key}.csv\")"
   ]
  },
  {
   "cell_type": "markdown",
   "id": "d6c3dd2a-a30c-4e72-b5e8-7de2a7469eb2",
   "metadata": {
    "papermill": {
     "duration": 0.049235,
     "end_time": "2024-09-18T04:05:54.221198",
     "exception": false,
     "start_time": "2024-09-18T04:05:54.171963",
     "status": "completed"
    },
    "tags": []
   },
   "source": [
    "### Plots\n",
    "\n",
    "- validation data"
   ]
  },
  {
   "cell_type": "code",
   "execution_count": 34,
   "id": "7999c89e-65fe-4c00-8e20-cb8ab88d1603",
   "metadata": {
    "execution": {
     "iopub.execute_input": "2024-09-18T04:05:54.284890Z",
     "iopub.status.busy": "2024-09-18T04:05:54.284560Z",
     "iopub.status.idle": "2024-09-18T04:05:54.324911Z",
     "shell.execute_reply": "2024-09-18T04:05:54.324259Z"
    },
    "papermill": {
     "duration": 0.068164,
     "end_time": "2024-09-18T04:05:54.326288",
     "exception": false,
     "start_time": "2024-09-18T04:05:54.258124",
     "status": "completed"
    },
    "tags": [
     "hide-input"
    ]
   },
   "outputs": [
    {
     "data": {
      "text/html": [
       "<div>\n",
       "<style scoped>\n",
       "    .dataframe tbody tr th:only-of-type {\n",
       "        vertical-align: middle;\n",
       "    }\n",
       "\n",
       "    .dataframe tbody tr th {\n",
       "        vertical-align: top;\n",
       "    }\n",
       "\n",
       "    .dataframe thead th {\n",
       "        text-align: right;\n",
       "    }\n",
       "</style>\n",
       "<table border=\"1\" class=\"dataframe\">\n",
       "  <thead>\n",
       "    <tr style=\"text-align: right;\">\n",
       "      <th></th>\n",
       "      <th>latent dimension 1</th>\n",
       "      <th>latent dimension 2</th>\n",
       "      <th>latent dimension 3</th>\n",
       "      <th>latent dimension 4</th>\n",
       "      <th>latent dimension 5</th>\n",
       "      <th>latent dimension 6</th>\n",
       "      <th>latent dimension 7</th>\n",
       "      <th>latent dimension 8</th>\n",
       "      <th>latent dimension 9</th>\n",
       "      <th>latent dimension 10</th>\n",
       "    </tr>\n",
       "    <tr>\n",
       "      <th>Sample ID</th>\n",
       "      <th></th>\n",
       "      <th></th>\n",
       "      <th></th>\n",
       "      <th></th>\n",
       "      <th></th>\n",
       "      <th></th>\n",
       "      <th></th>\n",
       "      <th></th>\n",
       "      <th></th>\n",
       "      <th></th>\n",
       "    </tr>\n",
       "  </thead>\n",
       "  <tbody>\n",
       "    <tr>\n",
       "      <th>Sample_000</th>\n",
       "      <td>-0.346</td>\n",
       "      <td>1.181</td>\n",
       "      <td>1.765</td>\n",
       "      <td>0.278</td>\n",
       "      <td>-2.484</td>\n",
       "      <td>0.001</td>\n",
       "      <td>-1.104</td>\n",
       "      <td>0.078</td>\n",
       "      <td>0.153</td>\n",
       "      <td>1.201</td>\n",
       "    </tr>\n",
       "    <tr>\n",
       "      <th>Sample_001</th>\n",
       "      <td>-0.129</td>\n",
       "      <td>-0.072</td>\n",
       "      <td>1.220</td>\n",
       "      <td>0.210</td>\n",
       "      <td>-2.436</td>\n",
       "      <td>0.365</td>\n",
       "      <td>0.201</td>\n",
       "      <td>-0.262</td>\n",
       "      <td>-0.589</td>\n",
       "      <td>1.460</td>\n",
       "    </tr>\n",
       "    <tr>\n",
       "      <th>Sample_002</th>\n",
       "      <td>-0.301</td>\n",
       "      <td>1.853</td>\n",
       "      <td>2.157</td>\n",
       "      <td>2.275</td>\n",
       "      <td>-0.842</td>\n",
       "      <td>0.033</td>\n",
       "      <td>0.605</td>\n",
       "      <td>0.453</td>\n",
       "      <td>-1.577</td>\n",
       "      <td>0.953</td>\n",
       "    </tr>\n",
       "    <tr>\n",
       "      <th>Sample_003</th>\n",
       "      <td>0.293</td>\n",
       "      <td>1.722</td>\n",
       "      <td>1.831</td>\n",
       "      <td>1.311</td>\n",
       "      <td>-1.904</td>\n",
       "      <td>-0.150</td>\n",
       "      <td>-0.475</td>\n",
       "      <td>0.681</td>\n",
       "      <td>-0.560</td>\n",
       "      <td>1.128</td>\n",
       "    </tr>\n",
       "    <tr>\n",
       "      <th>Sample_004</th>\n",
       "      <td>-0.147</td>\n",
       "      <td>0.456</td>\n",
       "      <td>1.465</td>\n",
       "      <td>0.742</td>\n",
       "      <td>-2.531</td>\n",
       "      <td>-0.588</td>\n",
       "      <td>-0.543</td>\n",
       "      <td>0.313</td>\n",
       "      <td>-0.473</td>\n",
       "      <td>0.806</td>\n",
       "    </tr>\n",
       "    <tr>\n",
       "      <th>...</th>\n",
       "      <td>...</td>\n",
       "      <td>...</td>\n",
       "      <td>...</td>\n",
       "      <td>...</td>\n",
       "      <td>...</td>\n",
       "      <td>...</td>\n",
       "      <td>...</td>\n",
       "      <td>...</td>\n",
       "      <td>...</td>\n",
       "      <td>...</td>\n",
       "    </tr>\n",
       "    <tr>\n",
       "      <th>Sample_205</th>\n",
       "      <td>-0.731</td>\n",
       "      <td>0.984</td>\n",
       "      <td>-0.178</td>\n",
       "      <td>2.080</td>\n",
       "      <td>-0.620</td>\n",
       "      <td>-1.319</td>\n",
       "      <td>0.886</td>\n",
       "      <td>1.754</td>\n",
       "      <td>-1.132</td>\n",
       "      <td>-1.789</td>\n",
       "    </tr>\n",
       "    <tr>\n",
       "      <th>Sample_206</th>\n",
       "      <td>-2.390</td>\n",
       "      <td>0.502</td>\n",
       "      <td>-1.172</td>\n",
       "      <td>0.361</td>\n",
       "      <td>0.588</td>\n",
       "      <td>1.410</td>\n",
       "      <td>0.572</td>\n",
       "      <td>-1.254</td>\n",
       "      <td>-1.103</td>\n",
       "      <td>-1.818</td>\n",
       "    </tr>\n",
       "    <tr>\n",
       "      <th>Sample_207</th>\n",
       "      <td>-1.068</td>\n",
       "      <td>0.176</td>\n",
       "      <td>-0.547</td>\n",
       "      <td>0.284</td>\n",
       "      <td>-2.049</td>\n",
       "      <td>-1.353</td>\n",
       "      <td>-1.046</td>\n",
       "      <td>0.970</td>\n",
       "      <td>0.460</td>\n",
       "      <td>-2.288</td>\n",
       "    </tr>\n",
       "    <tr>\n",
       "      <th>Sample_208</th>\n",
       "      <td>-1.623</td>\n",
       "      <td>-2.087</td>\n",
       "      <td>-0.045</td>\n",
       "      <td>0.660</td>\n",
       "      <td>-1.234</td>\n",
       "      <td>-0.820</td>\n",
       "      <td>0.751</td>\n",
       "      <td>-0.129</td>\n",
       "      <td>-0.416</td>\n",
       "      <td>-1.400</td>\n",
       "    </tr>\n",
       "    <tr>\n",
       "      <th>Sample_209</th>\n",
       "      <td>-0.888</td>\n",
       "      <td>0.199</td>\n",
       "      <td>0.311</td>\n",
       "      <td>1.476</td>\n",
       "      <td>-0.388</td>\n",
       "      <td>-0.824</td>\n",
       "      <td>0.356</td>\n",
       "      <td>-0.151</td>\n",
       "      <td>-1.125</td>\n",
       "      <td>-0.885</td>\n",
       "    </tr>\n",
       "  </tbody>\n",
       "</table>\n",
       "<p>210 rows × 10 columns</p>\n",
       "</div>"
      ],
      "text/plain": [
       "            latent dimension 1  latent dimension 2  latent dimension 3  \\\n",
       "Sample ID                                                                \n",
       "Sample_000              -0.346               1.181               1.765   \n",
       "Sample_001              -0.129              -0.072               1.220   \n",
       "Sample_002              -0.301               1.853               2.157   \n",
       "Sample_003               0.293               1.722               1.831   \n",
       "Sample_004              -0.147               0.456               1.465   \n",
       "...                        ...                 ...                 ...   \n",
       "Sample_205              -0.731               0.984              -0.178   \n",
       "Sample_206              -2.390               0.502              -1.172   \n",
       "Sample_207              -1.068               0.176              -0.547   \n",
       "Sample_208              -1.623              -2.087              -0.045   \n",
       "Sample_209              -0.888               0.199               0.311   \n",
       "\n",
       "            latent dimension 4  latent dimension 5  latent dimension 6  \\\n",
       "Sample ID                                                                \n",
       "Sample_000               0.278              -2.484               0.001   \n",
       "Sample_001               0.210              -2.436               0.365   \n",
       "Sample_002               2.275              -0.842               0.033   \n",
       "Sample_003               1.311              -1.904              -0.150   \n",
       "Sample_004               0.742              -2.531              -0.588   \n",
       "...                        ...                 ...                 ...   \n",
       "Sample_205               2.080              -0.620              -1.319   \n",
       "Sample_206               0.361               0.588               1.410   \n",
       "Sample_207               0.284              -2.049              -1.353   \n",
       "Sample_208               0.660              -1.234              -0.820   \n",
       "Sample_209               1.476              -0.388              -0.824   \n",
       "\n",
       "            latent dimension 7  latent dimension 8  latent dimension 9  \\\n",
       "Sample ID                                                                \n",
       "Sample_000              -1.104               0.078               0.153   \n",
       "Sample_001               0.201              -0.262              -0.589   \n",
       "Sample_002               0.605               0.453              -1.577   \n",
       "Sample_003              -0.475               0.681              -0.560   \n",
       "Sample_004              -0.543               0.313              -0.473   \n",
       "...                        ...                 ...                 ...   \n",
       "Sample_205               0.886               1.754              -1.132   \n",
       "Sample_206               0.572              -1.254              -1.103   \n",
       "Sample_207              -1.046               0.970               0.460   \n",
       "Sample_208               0.751              -0.129              -0.416   \n",
       "Sample_209               0.356              -0.151              -1.125   \n",
       "\n",
       "            latent dimension 10  \n",
       "Sample ID                        \n",
       "Sample_000                1.201  \n",
       "Sample_001                1.460  \n",
       "Sample_002                0.953  \n",
       "Sample_003                1.128  \n",
       "Sample_004                0.806  \n",
       "...                         ...  \n",
       "Sample_205               -1.789  \n",
       "Sample_206               -1.818  \n",
       "Sample_207               -2.288  \n",
       "Sample_208               -1.400  \n",
       "Sample_209               -0.885  \n",
       "\n",
       "[210 rows x 10 columns]"
      ]
     },
     "execution_count": 34,
     "metadata": {},
     "output_type": "execute_result"
    }
   ],
   "source": [
    "analysis.model = analysis.model.cpu()\n",
    "# underlying data is train_X for both\n",
    "# assert analysis.dls.valid.data.equals(analysis.dls.train.data)\n",
    "# Reconstruct DataLoader for case that during training singleton batches were dropped\n",
    "_dl = torch.utils.data.DataLoader(\n",
    "    pimmslearn.io.datasets.DatasetWithTarget(\n",
    "        analysis.dls.valid.data),\n",
    "    batch_size=args.batch_size,\n",
    "    shuffle=False)\n",
    "df_latent = pimmslearn.model.get_latent_space(analysis.model.get_mu_and_logvar,\n",
    "                                              dl=_dl,\n",
    "                                              dl_index=analysis.dls.valid.data.index)\n",
    "df_latent"
   ]
  },
  {
   "cell_type": "code",
   "execution_count": 35,
   "id": "1fdd8f86-639e-4e0e-bb89-466f3ba0ef7b",
   "metadata": {
    "execution": {
     "iopub.execute_input": "2024-09-18T04:05:54.379348Z",
     "iopub.status.busy": "2024-09-18T04:05:54.379016Z",
     "iopub.status.idle": "2024-09-18T04:05:54.385805Z",
     "shell.execute_reply": "2024-09-18T04:05:54.385182Z"
    },
    "papermill": {
     "duration": 0.035556,
     "end_time": "2024-09-18T04:05:54.387766",
     "exception": false,
     "start_time": "2024-09-18T04:05:54.352210",
     "status": "completed"
    },
    "tags": [
     "hide-input"
    ]
   },
   "outputs": [],
   "source": [
    "ana_latent = analyzers.LatentAnalysis(df_latent,\n",
    "                                      df_meta,\n",
    "                                      args.model_key,\n",
    "                                      folder=args.out_figures)\n",
    "if args.meta_date_col and df_meta is not None:\n",
    "    figures[f'latent_{args.model_key}_by_date'], ax = ana_latent.plot_by_date(\n",
    "        args.meta_date_col)"
   ]
  },
  {
   "cell_type": "code",
   "execution_count": 36,
   "id": "763a5633-a9dd-4785-a0c0-91f588346c22",
   "metadata": {
    "execution": {
     "iopub.execute_input": "2024-09-18T04:05:54.440548Z",
     "iopub.status.busy": "2024-09-18T04:05:54.440218Z",
     "iopub.status.idle": "2024-09-18T04:05:54.444159Z",
     "shell.execute_reply": "2024-09-18T04:05:54.443554Z"
    },
    "papermill": {
     "duration": 0.032734,
     "end_time": "2024-09-18T04:05:54.446053",
     "exception": false,
     "start_time": "2024-09-18T04:05:54.413319",
     "status": "completed"
    },
    "tags": [
     "hide-input"
    ]
   },
   "outputs": [],
   "source": [
    "if args.meta_cat_col and df_meta is not None:\n",
    "    figures[f'latent_{args.model_key}_by_{\"_\".join(args.meta_cat_col.split())}'], ax = ana_latent.plot_by_category(\n",
    "        args.meta_cat_col)"
   ]
  },
  {
   "cell_type": "code",
   "execution_count": 37,
   "id": "d3fdd5cb-4038-489f-b4d8-54ec6ea913b5",
   "metadata": {
    "execution": {
     "iopub.execute_input": "2024-09-18T04:05:54.498914Z",
     "iopub.status.busy": "2024-09-18T04:05:54.498612Z",
     "iopub.status.idle": "2024-09-18T04:05:54.710966Z",
     "shell.execute_reply": "2024-09-18T04:05:54.710308Z"
    },
    "papermill": {
     "duration": 0.240139,
     "end_time": "2024-09-18T04:05:54.712121",
     "exception": false,
     "start_time": "2024-09-18T04:05:54.471982",
     "status": "completed"
    },
    "tags": [
     "hide-input"
    ]
   },
   "outputs": [
    {
     "data": {
      "image/png": "[encoded data removed]",
      "text/plain": [
       "<Figure size 2352x1029 with 1 Axes>"
      ]
     },
     "metadata": {},
     "output_type": "display_data"
    }
   ],
   "source": [
    "feat_freq_val = val_pred_simulated_na['observed'].groupby(level=-1).count()\n",
    "feat_freq_val.name = 'freq_val'\n",
    "ax = feat_freq_val.plot.box()"
   ]
  },
  {
   "cell_type": "code",
   "execution_count": 38,
   "id": "446adbaf-81db-4ac5-b041-064744143602",
   "metadata": {
    "execution": {
     "iopub.execute_input": "2024-09-18T04:05:54.765925Z",
     "iopub.status.busy": "2024-09-18T04:05:54.765590Z",
     "iopub.status.idle": "2024-09-18T04:05:54.772262Z",
     "shell.execute_reply": "2024-09-18T04:05:54.771647Z"
    },
    "papermill": {
     "duration": 0.036466,
     "end_time": "2024-09-18T04:05:54.774924",
     "exception": false,
     "start_time": "2024-09-18T04:05:54.738458",
     "status": "completed"
    },
    "tags": [
     "hide-input"
    ]
   },
   "outputs": [
    {
     "data": {
      "text/plain": [
       "freq_val\n",
       "1    12\n",
       "2    18\n",
       "3    50\n",
       "4    82\n",
       "5   108\n",
       "Name: count, dtype: int64"
      ]
     },
     "execution_count": 38,
     "metadata": {},
     "output_type": "execute_result"
    }
   ],
   "source": [
    "feat_freq_val.value_counts().sort_index().head()  # require more than one feat?"
   ]
  },
  {
   "cell_type": "code",
   "execution_count": 39,
   "id": "d408dbfa",
   "metadata": {
    "execution": {
     "iopub.execute_input": "2024-09-18T04:05:54.829092Z",
     "iopub.status.busy": "2024-09-18T04:05:54.828782Z",
     "iopub.status.idle": "2024-09-18T04:05:55.260032Z",
     "shell.execute_reply": "2024-09-18T04:05:55.259406Z"
    },
    "papermill": {
     "duration": 0.459701,
     "end_time": "2024-09-18T04:05:55.261283",
     "exception": false,
     "start_time": "2024-09-18T04:05:54.801582",
     "status": "completed"
    },
    "tags": [
     "hide-input"
    ]
   },
   "outputs": [
    {
     "data": {
      "image/png": "[encoded data removed]",
      "text/plain": [
       "<Figure size 2205x1470 with 1 Axes>"
      ]
     },
     "metadata": {},
     "output_type": "display_data"
    }
   ],
   "source": [
    "errors_val = val_pred_simulated_na.drop('observed', axis=1).sub(\n",
    "    val_pred_simulated_na['observed'], axis=0)\n",
    "errors_val = errors_val.abs().groupby(level=-1).mean()\n",
    "errors_val = errors_val.join(freq_feat).sort_values(by='freq', ascending=True)\n",
    "\n",
    "\n",
    "errors_val_smoothed = errors_val.copy()  # .loc[feat_freq_val > 1]\n",
    "errors_val_smoothed[errors_val.columns[:-1]] = errors_val[errors_val.columns[:-1]\n",
    "                                                          ].rolling(window=200, min_periods=1).mean()\n",
    "ax = errors_val_smoothed.plot(x='freq', figsize=(15, 10))\n",
    "# errors_val_smoothed"
   ]
  },
  {
   "cell_type": "code",
   "execution_count": 40,
   "id": "7e505353-f19e-4961-9279-f1f0f1e4be09",
   "metadata": {
    "execution": {
     "iopub.execute_input": "2024-09-18T04:05:55.341622Z",
     "iopub.status.busy": "2024-09-18T04:05:55.341321Z",
     "iopub.status.idle": "2024-09-18T04:05:55.360149Z",
     "shell.execute_reply": "2024-09-18T04:05:55.359530Z"
    },
    "papermill": {
     "duration": 0.049391,
     "end_time": "2024-09-18T04:05:55.361427",
     "exception": false,
     "start_time": "2024-09-18T04:05:55.312036",
     "status": "completed"
    },
    "tags": [
     "hide-input"
    ]
   },
   "outputs": [
    {
     "data": {
      "text/html": [
       "<div>\n",
       "<style scoped>\n",
       "    .dataframe tbody tr th:only-of-type {\n",
       "        vertical-align: middle;\n",
       "    }\n",
       "\n",
       "    .dataframe tbody tr th {\n",
       "        vertical-align: top;\n",
       "    }\n",
       "\n",
       "    .dataframe thead tr th {\n",
       "        text-align: left;\n",
       "    }\n",
       "\n",
       "    .dataframe thead tr:last-of-type th {\n",
       "        text-align: right;\n",
       "    }\n",
       "</style>\n",
       "<table border=\"1\" class=\"dataframe\">\n",
       "  <thead>\n",
       "    <tr>\n",
       "      <th></th>\n",
       "      <th colspan=\"2\" halign=\"left\">VAE</th>\n",
       "    </tr>\n",
       "    <tr>\n",
       "      <th></th>\n",
       "      <th>mean</th>\n",
       "      <th>count</th>\n",
       "    </tr>\n",
       "    <tr>\n",
       "      <th>protein groups</th>\n",
       "      <th></th>\n",
       "      <th></th>\n",
       "    </tr>\n",
       "  </thead>\n",
       "  <tbody>\n",
       "    <tr>\n",
       "      <th>A0A024QZX5;A0A087X1N8;P35237</th>\n",
       "      <td>0.118</td>\n",
       "      <td>7</td>\n",
       "    </tr>\n",
       "    <tr>\n",
       "      <th>A0A024R0T9;K7ER74;P02655</th>\n",
       "      <td>1.385</td>\n",
       "      <td>4</td>\n",
       "    </tr>\n",
       "    <tr>\n",
       "      <th>A0A024R3W6;A0A024R412;O60462;O60462-2;O60462-3;O60462-4;O60462-5;Q7LBX6;X5D2Q8</th>\n",
       "      <td>0.266</td>\n",
       "      <td>9</td>\n",
       "    </tr>\n",
       "    <tr>\n",
       "      <th>A0A024R644;A0A0A0MRU5;A0A1B0GWI2;O75503</th>\n",
       "      <td>0.349</td>\n",
       "      <td>6</td>\n",
       "    </tr>\n",
       "    <tr>\n",
       "      <th>A0A075B6H7</th>\n",
       "      <td>0.523</td>\n",
       "      <td>6</td>\n",
       "    </tr>\n",
       "    <tr>\n",
       "      <th>...</th>\n",
       "      <td>...</td>\n",
       "      <td>...</td>\n",
       "    </tr>\n",
       "    <tr>\n",
       "      <th>Q9Y6R7</th>\n",
       "      <td>0.415</td>\n",
       "      <td>10</td>\n",
       "    </tr>\n",
       "    <tr>\n",
       "      <th>Q9Y6X5</th>\n",
       "      <td>0.373</td>\n",
       "      <td>7</td>\n",
       "    </tr>\n",
       "    <tr>\n",
       "      <th>Q9Y6Y8;Q9Y6Y8-2</th>\n",
       "      <td>0.268</td>\n",
       "      <td>9</td>\n",
       "    </tr>\n",
       "    <tr>\n",
       "      <th>Q9Y6Y9</th>\n",
       "      <td>0.418</td>\n",
       "      <td>15</td>\n",
       "    </tr>\n",
       "    <tr>\n",
       "      <th>S4R3U6</th>\n",
       "      <td>0.481</td>\n",
       "      <td>24</td>\n",
       "    </tr>\n",
       "  </tbody>\n",
       "</table>\n",
       "<p>1419 rows × 2 columns</p>\n",
       "</div>"
      ],
      "text/plain": [
       "                                                                                 VAE  \\\n",
       "                                                                                mean   \n",
       "protein groups                                                                         \n",
       "A0A024QZX5;A0A087X1N8;P35237                                                   0.118   \n",
       "A0A024R0T9;K7ER74;P02655                                                       1.385   \n",
       "A0A024R3W6;A0A024R412;O60462;O60462-2;O60462-3;O60462-4;O60462-5;Q7LBX6;X5D2Q8 0.266   \n",
       "A0A024R644;A0A0A0MRU5;A0A1B0GWI2;O75503                                        0.349   \n",
       "A0A075B6H7                                                                     0.523   \n",
       "...                                                                              ...   \n",
       "Q9Y6R7                                                                         0.415   \n",
       "Q9Y6X5                                                                         0.373   \n",
       "Q9Y6Y8;Q9Y6Y8-2                                                                0.268   \n",
       "Q9Y6Y9                                                                         0.418   \n",
       "S4R3U6                                                                         0.481   \n",
       "\n",
       "                                                                                      \n",
       "                                                                               count  \n",
       "protein groups                                                                        \n",
       "A0A024QZX5;A0A087X1N8;P35237                                                       7  \n",
       "A0A024R0T9;K7ER74;P02655                                                           4  \n",
       "A0A024R3W6;A0A024R412;O60462;O60462-2;O60462-3;O60462-4;O60462-5;Q7LBX6;X5D2Q8     9  \n",
       "A0A024R644;A0A0A0MRU5;A0A1B0GWI2;O75503                                            6  \n",
       "A0A075B6H7                                                                         6  \n",
       "...                                                                              ...  \n",
       "Q9Y6R7                                                                            10  \n",
       "Q9Y6X5                                                                             7  \n",
       "Q9Y6Y8;Q9Y6Y8-2                                                                    9  \n",
       "Q9Y6Y9                                                                            15  \n",
       "S4R3U6                                                                            24  \n",
       "\n",
       "[1419 rows x 2 columns]"
      ]
     },
     "execution_count": 40,
     "metadata": {},
     "output_type": "execute_result"
    }
   ],
   "source": [
    "errors_val = val_pred_simulated_na.drop('observed', axis=1).sub(\n",
    "    val_pred_simulated_na['observed'], axis=0)\n",
    "errors_val.abs().groupby(level=-1).agg(['mean', 'count'])"
   ]
  },
  {
   "cell_type": "code",
   "execution_count": 41,
   "id": "95022f04-0e0d-47bf-8267-6135a936328f",
   "metadata": {
    "execution": {
     "iopub.execute_input": "2024-09-18T04:05:55.420079Z",
     "iopub.status.busy": "2024-09-18T04:05:55.419780Z",
     "iopub.status.idle": "2024-09-18T04:05:55.430731Z",
     "shell.execute_reply": "2024-09-18T04:05:55.430128Z"
    },
    "papermill": {
     "duration": 0.041795,
     "end_time": "2024-09-18T04:05:55.432130",
     "exception": false,
     "start_time": "2024-09-18T04:05:55.390335",
     "status": "completed"
    },
    "tags": [
     "hide-input"
    ]
   },
   "outputs": [
    {
     "data": {
      "text/html": [
       "<div>\n",
       "<style scoped>\n",
       "    .dataframe tbody tr th:only-of-type {\n",
       "        vertical-align: middle;\n",
       "    }\n",
       "\n",
       "    .dataframe tbody tr th {\n",
       "        vertical-align: top;\n",
       "    }\n",
       "\n",
       "    .dataframe thead th {\n",
       "        text-align: right;\n",
       "    }\n",
       "</style>\n",
       "<table border=\"1\" class=\"dataframe\">\n",
       "  <thead>\n",
       "    <tr style=\"text-align: right;\">\n",
       "      <th></th>\n",
       "      <th></th>\n",
       "      <th>VAE</th>\n",
       "    </tr>\n",
       "    <tr>\n",
       "      <th>Sample ID</th>\n",
       "      <th>protein groups</th>\n",
       "      <th></th>\n",
       "    </tr>\n",
       "  </thead>\n",
       "  <tbody>\n",
       "    <tr>\n",
       "      <th>Sample_158</th>\n",
       "      <th>Q9UN70;Q9UN70-2</th>\n",
       "      <td>1.096</td>\n",
       "    </tr>\n",
       "    <tr>\n",
       "      <th>Sample_050</th>\n",
       "      <th>Q9Y287</th>\n",
       "      <td>1.238</td>\n",
       "    </tr>\n",
       "    <tr>\n",
       "      <th>Sample_107</th>\n",
       "      <th>Q8N475;Q8N475-2</th>\n",
       "      <td>-0.269</td>\n",
       "    </tr>\n",
       "    <tr>\n",
       "      <th>Sample_199</th>\n",
       "      <th>P06307</th>\n",
       "      <td>-0.403</td>\n",
       "    </tr>\n",
       "    <tr>\n",
       "      <th>Sample_067</th>\n",
       "      <th>Q5VUB5</th>\n",
       "      <td>-0.496</td>\n",
       "    </tr>\n",
       "    <tr>\n",
       "      <th>...</th>\n",
       "      <th>...</th>\n",
       "      <td>...</td>\n",
       "    </tr>\n",
       "    <tr>\n",
       "      <th>Sample_111</th>\n",
       "      <th>F6SYF8;Q9UBP4</th>\n",
       "      <td>0.068</td>\n",
       "    </tr>\n",
       "    <tr>\n",
       "      <th>Sample_002</th>\n",
       "      <th>A0A0A0MT36</th>\n",
       "      <td>-2.141</td>\n",
       "    </tr>\n",
       "    <tr>\n",
       "      <th>Sample_049</th>\n",
       "      <th>Q8WY21;Q8WY21-2;Q8WY21-3;Q8WY21-4</th>\n",
       "      <td>0.111</td>\n",
       "    </tr>\n",
       "    <tr>\n",
       "      <th>Sample_182</th>\n",
       "      <th>Q8NFT8</th>\n",
       "      <td>-0.774</td>\n",
       "    </tr>\n",
       "    <tr>\n",
       "      <th>Sample_123</th>\n",
       "      <th>Q16853;Q16853-2</th>\n",
       "      <td>0.192</td>\n",
       "    </tr>\n",
       "  </tbody>\n",
       "</table>\n",
       "<p>12600 rows × 1 columns</p>\n",
       "</div>"
      ],
      "text/plain": [
       "                                                VAE\n",
       "Sample ID  protein groups                          \n",
       "Sample_158 Q9UN70;Q9UN70-2                    1.096\n",
       "Sample_050 Q9Y287                             1.238\n",
       "Sample_107 Q8N475;Q8N475-2                   -0.269\n",
       "Sample_199 P06307                            -0.403\n",
       "Sample_067 Q5VUB5                            -0.496\n",
       "...                                             ...\n",
       "Sample_111 F6SYF8;Q9UBP4                      0.068\n",
       "Sample_002 A0A0A0MT36                        -2.141\n",
       "Sample_049 Q8WY21;Q8WY21-2;Q8WY21-3;Q8WY21-4  0.111\n",
       "Sample_182 Q8NFT8                            -0.774\n",
       "Sample_123 Q16853;Q16853-2                    0.192\n",
       "\n",
       "[12600 rows x 1 columns]"
      ]
     },
     "execution_count": 41,
     "metadata": {},
     "output_type": "execute_result"
    }
   ],
   "source": [
    "errors_val"
   ]
  },
  {
   "cell_type": "markdown",
   "id": "29f16d62-f1c8-4447-bdd3-2d3161b6346f",
   "metadata": {
    "papermill": {
     "duration": 0.028286,
     "end_time": "2024-09-18T04:05:55.489158",
     "exception": false,
     "start_time": "2024-09-18T04:05:55.460872",
     "status": "completed"
    },
    "tags": []
   },
   "source": [
    "## Comparisons\n",
    "\n",
    "Simulated NAs : Artificially created NAs. Some data was sampled and set\n",
    "explicitly to misssing before it was fed to the model for\n",
    "reconstruction."
   ]
  },
  {
   "cell_type": "markdown",
   "id": "861b9b3c-11d0-4cda-98c9-fadea16e47c4",
   "metadata": {
    "papermill": {
     "duration": 0.030799,
     "end_time": "2024-09-18T04:05:55.548987",
     "exception": false,
     "start_time": "2024-09-18T04:05:55.518188",
     "status": "completed"
    },
    "tags": []
   },
   "source": [
    "### Validation data\n",
    "\n",
    "- all measured (identified, observed) peptides in validation data"
   ]
  },
  {
   "cell_type": "code",
   "execution_count": 42,
   "id": "d825e38e-f3d6-4bca-b621-150267e7b7bc",
   "metadata": {
    "execution": {
     "iopub.execute_input": "2024-09-18T04:05:55.607738Z",
     "iopub.status.busy": "2024-09-18T04:05:55.607393Z",
     "iopub.status.idle": "2024-09-18T04:05:55.610842Z",
     "shell.execute_reply": "2024-09-18T04:05:55.610251Z"
    },
    "papermill": {
     "duration": 0.034955,
     "end_time": "2024-09-18T04:05:55.612686",
     "exception": false,
     "start_time": "2024-09-18T04:05:55.577731",
     "status": "completed"
    },
    "tags": [
     "hide-input"
    ]
   },
   "outputs": [],
   "source": [
    "# papermill_description=metrics\n",
    "# d_metrics = models.Metrics(no_na_key='NA interpolated', with_na_key='NA not interpolated')\n",
    "d_metrics = models.Metrics()"
   ]
  },
  {
   "cell_type": "markdown",
   "id": "55b9b887-a644-4086-8399-e27b533bd22a",
   "metadata": {
    "papermill": {
     "duration": 0.028615,
     "end_time": "2024-09-18T04:05:55.669926",
     "exception": false,
     "start_time": "2024-09-18T04:05:55.641311",
     "status": "completed"
    },
    "tags": []
   },
   "source": [
    "The simulated NA for the validation step are real test data (not used for training nor early stopping)"
   ]
  },
  {
   "cell_type": "code",
   "execution_count": 43,
   "id": "855a7a6f-93fd-4612-9d8d-96541a2441be",
   "metadata": {
    "execution": {
     "iopub.execute_input": "2024-09-18T04:05:55.749090Z",
     "iopub.status.busy": "2024-09-18T04:05:55.748779Z",
     "iopub.status.idle": "2024-09-18T04:05:55.769112Z",
     "shell.execute_reply": "2024-09-18T04:05:55.768510Z"
    },
    "papermill": {
     "duration": 0.051405,
     "end_time": "2024-09-18T04:05:55.770382",
     "exception": false,
     "start_time": "2024-09-18T04:05:55.718977",
     "status": "completed"
    },
    "tags": [
     "hide-input"
    ]
   },
   "outputs": [
    {
     "name": "stdout",
     "output_type": "stream",
     "text": [
      "Selected as truth to compare to: observed\n"
     ]
    },
    {
     "data": {
      "text/plain": [
       "{'VAE': {'MSE': 0.4850403157758049,\n",
       "  'MAE': 0.45162777628235595,\n",
       "  'N': 12600,\n",
       "  'prop': 1.0}}"
      ]
     },
     "execution_count": 43,
     "metadata": {},
     "output_type": "execute_result"
    }
   ],
   "source": [
    "added_metrics = d_metrics.add_metrics(val_pred_simulated_na, 'valid_simulated_na')\n",
    "added_metrics"
   ]
  },
  {
   "cell_type": "markdown",
   "id": "80fda7f1-3024-46bc-a3c1-17f509016bd4",
   "metadata": {
    "lines_to_next_cell": 2,
    "papermill": {
     "duration": 0.028953,
     "end_time": "2024-09-18T04:05:55.828880",
     "exception": false,
     "start_time": "2024-09-18T04:05:55.799927",
     "status": "completed"
    },
    "tags": []
   },
   "source": [
    "### Test Datasplit\n"
   ]
  },
  {
   "cell_type": "code",
   "execution_count": 44,
   "id": "571ac8d4-bb5d-45db-bba8-59817e476304",
   "metadata": {
    "execution": {
     "iopub.execute_input": "2024-09-18T04:05:55.889000Z",
     "iopub.status.busy": "2024-09-18T04:05:55.888704Z",
     "iopub.status.idle": "2024-09-18T04:05:55.909893Z",
     "shell.execute_reply": "2024-09-18T04:05:55.909239Z"
    },
    "papermill": {
     "duration": 0.052696,
     "end_time": "2024-09-18T04:05:55.911208",
     "exception": false,
     "start_time": "2024-09-18T04:05:55.858512",
     "status": "completed"
    },
    "tags": [
     "hide-input"
    ]
   },
   "outputs": [
    {
     "name": "stdout",
     "output_type": "stream",
     "text": [
      "Selected as truth to compare to: observed\n"
     ]
    },
    {
     "data": {
      "text/plain": [
       "{'VAE': {'MSE': 0.5039301407427351,\n",
       "  'MAE': 0.4546051807207291,\n",
       "  'N': 12600,\n",
       "  'prop': 1.0}}"
      ]
     },
     "execution_count": 44,
     "metadata": {},
     "output_type": "execute_result"
    }
   ],
   "source": [
    "added_metrics = d_metrics.add_metrics(test_pred_simulated_na, 'test_simulated_na')\n",
    "added_metrics"
   ]
  },
  {
   "cell_type": "markdown",
   "id": "b388de9d-0387-486a-9481-d673e0fec88b",
   "metadata": {
    "papermill": {
     "duration": 0.029448,
     "end_time": "2024-09-18T04:05:55.970521",
     "exception": false,
     "start_time": "2024-09-18T04:05:55.941073",
     "status": "completed"
    },
    "tags": []
   },
   "source": [
    "Save all metrics as json"
   ]
  },
  {
   "cell_type": "code",
   "execution_count": 45,
   "id": "87910434-7d07-4e8e-8380-c92fc515bd16",
   "metadata": {
    "execution": {
     "iopub.execute_input": "2024-09-18T04:05:56.030675Z",
     "iopub.status.busy": "2024-09-18T04:05:56.030355Z",
     "iopub.status.idle": "2024-09-18T04:05:56.036048Z",
     "shell.execute_reply": "2024-09-18T04:05:56.035490Z"
    },
    "papermill": {
     "duration": 0.038945,
     "end_time": "2024-09-18T04:05:56.038717",
     "exception": false,
     "start_time": "2024-09-18T04:05:55.999772",
     "status": "completed"
    },
    "tags": [
     "hide-input"
    ]
   },
   "outputs": [
    {
     "data": {
      "text/plain": [
       "{ 'test_simulated_na': { 'VAE': { 'MAE': 0.4546051807207291,\n",
       "                                  'MSE': 0.5039301407427351,\n",
       "                                  'N': 12600,\n",
       "                                  'prop': 1.0}},\n",
       "  'valid_simulated_na': { 'VAE': { 'MAE': 0.45162777628235595,\n",
       "                                   'MSE': 0.4850403157758049,\n",
       "                                   'N': 12600,\n",
       "                                   'prop': 1.0}}}"
      ]
     },
     "execution_count": 45,
     "metadata": {},
     "output_type": "execute_result"
    }
   ],
   "source": [
    "pimmslearn.io.dump_json(d_metrics.metrics, args.out_metrics /\n",
    "                        f'metrics_{args.model_key}.json')\n",
    "d_metrics"
   ]
  },
  {
   "cell_type": "code",
   "execution_count": 46,
   "id": "7d99deb9-9aad-4ba9-b79d-e4b3c6c7f023",
   "metadata": {
    "execution": {
     "iopub.execute_input": "2024-09-18T04:05:56.099436Z",
     "iopub.status.busy": "2024-09-18T04:05:56.099103Z",
     "iopub.status.idle": "2024-09-18T04:05:56.111646Z",
     "shell.execute_reply": "2024-09-18T04:05:56.111048Z"
    },
    "papermill": {
     "duration": 0.044561,
     "end_time": "2024-09-18T04:05:56.112947",
     "exception": false,
     "start_time": "2024-09-18T04:05:56.068386",
     "status": "completed"
    },
    "tags": [
     "hide-input"
    ]
   },
   "outputs": [
    {
     "data": {
      "text/html": [
       "<div>\n",
       "<style scoped>\n",
       "    .dataframe tbody tr th:only-of-type {\n",
       "        vertical-align: middle;\n",
       "    }\n",
       "\n",
       "    .dataframe tbody tr th {\n",
       "        vertical-align: top;\n",
       "    }\n",
       "\n",
       "    .dataframe thead th {\n",
       "        text-align: right;\n",
       "    }\n",
       "</style>\n",
       "<table border=\"1\" class=\"dataframe\">\n",
       "  <thead>\n",
       "    <tr style=\"text-align: right;\">\n",
       "      <th></th>\n",
       "      <th>subset</th>\n",
       "      <th>valid_simulated_na</th>\n",
       "      <th>test_simulated_na</th>\n",
       "    </tr>\n",
       "    <tr>\n",
       "      <th>model</th>\n",
       "      <th>metric_name</th>\n",
       "      <th></th>\n",
       "      <th></th>\n",
       "    </tr>\n",
       "  </thead>\n",
       "  <tbody>\n",
       "    <tr>\n",
       "      <th rowspan=\"4\" valign=\"top\">VAE</th>\n",
       "      <th>MSE</th>\n",
       "      <td>0.485</td>\n",
       "      <td>0.504</td>\n",
       "    </tr>\n",
       "    <tr>\n",
       "      <th>MAE</th>\n",
       "      <td>0.452</td>\n",
       "      <td>0.455</td>\n",
       "    </tr>\n",
       "    <tr>\n",
       "      <th>N</th>\n",
       "      <td>12,600.000</td>\n",
       "      <td>12,600.000</td>\n",
       "    </tr>\n",
       "    <tr>\n",
       "      <th>prop</th>\n",
       "      <td>1.000</td>\n",
       "      <td>1.000</td>\n",
       "    </tr>\n",
       "  </tbody>\n",
       "</table>\n",
       "</div>"
      ],
      "text/plain": [
       "subset             valid_simulated_na  test_simulated_na\n",
       "model metric_name                                       \n",
       "VAE   MSE                       0.485              0.504\n",
       "      MAE                       0.452              0.455\n",
       "      N                    12,600.000         12,600.000\n",
       "      prop                      1.000              1.000"
      ]
     },
     "execution_count": 46,
     "metadata": {},
     "output_type": "execute_result"
    }
   ],
   "source": [
    "metrics_df = models.get_df_from_nested_dict(\n",
    "    d_metrics.metrics, column_levels=['model', 'metric_name']).T\n",
    "metrics_df"
   ]
  },
  {
   "cell_type": "markdown",
   "id": "2b49894b-876e-428b-bbba-18229db8b984",
   "metadata": {
    "papermill": {
     "duration": 0.029953,
     "end_time": "2024-09-18T04:05:56.172881",
     "exception": false,
     "start_time": "2024-09-18T04:05:56.142928",
     "status": "completed"
    },
    "tags": []
   },
   "source": [
    "## Save predictions"
   ]
  },
  {
   "cell_type": "code",
   "execution_count": 47,
   "id": "782636ac-c979-4f8b-9fc0-66fd0c7a3a8b",
   "metadata": {
    "execution": {
     "iopub.execute_input": "2024-09-18T04:05:56.243484Z",
     "iopub.status.busy": "2024-09-18T04:05:56.243157Z",
     "iopub.status.idle": "2024-09-18T04:05:56.371962Z",
     "shell.execute_reply": "2024-09-18T04:05:56.371232Z"
    },
    "papermill": {
     "duration": 0.170407,
     "end_time": "2024-09-18T04:05:56.373264",
     "exception": false,
     "start_time": "2024-09-18T04:05:56.202857",
     "status": "completed"
    },
    "tags": [
     "hide-input"
    ]
   },
   "outputs": [],
   "source": [
    "# save simulated missing values for both splits\n",
    "val_pred_simulated_na.to_csv(args.out_preds / f\"pred_val_{args.model_key}.csv\")\n",
    "test_pred_simulated_na.to_csv(args.out_preds / f\"pred_test_{args.model_key}.csv\")"
   ]
  },
  {
   "cell_type": "markdown",
   "id": "42f2c184-e9ef-42be-ae87-7cbf52a0c0b6",
   "metadata": {
    "papermill": {
     "duration": 0.027343,
     "end_time": "2024-09-18T04:05:56.426537",
     "exception": false,
     "start_time": "2024-09-18T04:05:56.399194",
     "status": "completed"
    },
    "tags": []
   },
   "source": [
    "## Config"
   ]
  },
  {
   "cell_type": "code",
   "execution_count": 48,
   "id": "06e433ec",
   "metadata": {
    "execution": {
     "iopub.execute_input": "2024-09-18T04:05:56.485121Z",
     "iopub.status.busy": "2024-09-18T04:05:56.484811Z",
     "iopub.status.idle": "2024-09-18T04:05:56.492309Z",
     "shell.execute_reply": "2024-09-18T04:05:56.491680Z"
    },
    "papermill": {
     "duration": 0.036551,
     "end_time": "2024-09-18T04:05:56.493422",
     "exception": false,
     "start_time": "2024-09-18T04:05:56.456871",
     "status": "completed"
    },
    "tags": [
     "hide-input"
    ]
   },
   "outputs": [
    {
     "data": {
      "text/plain": [
       "{}"
      ]
     },
     "execution_count": 48,
     "metadata": {},
     "output_type": "execute_result"
    }
   ],
   "source": [
    "figures  # switch to fnames?"
   ]
  },
  {
   "cell_type": "code",
   "execution_count": 49,
   "id": "0f13cb38-abf0-4b56-9399-3d11d32f7fbc",
   "metadata": {
    "execution": {
     "iopub.execute_input": "2024-09-18T04:05:56.567347Z",
     "iopub.status.busy": "2024-09-18T04:05:56.567047Z",
     "iopub.status.idle": "2024-09-18T04:05:56.574499Z",
     "shell.execute_reply": "2024-09-18T04:05:56.573939Z"
    },
    "papermill": {
     "duration": 0.039623,
     "end_time": "2024-09-18T04:05:56.575562",
     "exception": false,
     "start_time": "2024-09-18T04:05:56.535939",
     "status": "completed"
    },
    "tags": [
     "hide-input"
    ]
   },
   "outputs": [
    {
     "data": {
      "text/plain": [
       "{'M': 1421,\n",
       " 'batch_size': 64,\n",
       " 'cuda': False,\n",
       " 'data': Path('runs/alzheimer_study/data'),\n",
       " 'epoch_trained': 51,\n",
       " 'epochs_max': 300,\n",
       " 'file_format': 'csv',\n",
       " 'fn_rawfile_metadata': 'https://raw.githubusercontent.com/RasmussenLab/njab/HEAD/docs/tutorial/data/alzheimer/meta.csv',\n",
       " 'folder_data': '',\n",
       " 'folder_experiment': Path('runs/alzheimer_study'),\n",
       " 'hidden_layers': [64],\n",
       " 'latent_dim': 10,\n",
       " 'meta_cat_col': None,\n",
       " 'meta_date_col': None,\n",
       " 'model': 'VAE',\n",
       " 'model_key': 'VAE',\n",
       " 'n_params': 277998,\n",
       " 'out_figures': Path('runs/alzheimer_study/figures'),\n",
       " 'out_folder': Path('runs/alzheimer_study'),\n",
       " 'out_metrics': Path('runs/alzheimer_study'),\n",
       " 'out_models': Path('runs/alzheimer_study'),\n",
       " 'out_preds': Path('runs/alzheimer_study/preds'),\n",
       " 'patience': 50,\n",
       " 'sample_idx_position': 0,\n",
       " 'save_pred_real_na': True}"
      ]
     },
     "execution_count": 49,
     "metadata": {},
     "output_type": "execute_result"
    }
   ],
   "source": [
    "args.dump(fname=args.out_models / f\"model_config_{args.model_key}.yaml\")\n",
    "args"
   ]
  }
 ],
 "metadata": {
  "interpreter": {
   "hash": "cf83e9cb890c7f96eb0ae04f39a82254555f56a1a0ed2f03b23a8b40fe6cd31c"
  },
  "jupytext": {
   "formats": "ipynb,py:percent"
  },
  "kernelspec": {
   "display_name": "Python 3",
   "language": "python",
   "name": "python3"
  },
  "language_info": {
   "codemirror_mode": {
    "name": "ipython",
    "version": 3
   },
   "file_extension": ".py",
   "mimetype": "text/x-python",
   "name": "python",
   "nbconvert_exporter": "python",
   "pygments_lexer": "ipython3",
   "version": "3.12.0"
  },
  "papermill": {
   "default_parameters": {},
   "duration": 25.272131,
   "end_time": "2024-09-18T04:05:57.928804",
   "environment_variables": {},
   "exception": null,
   "input_path": "01_1_train_VAE.ipynb",
   "output_path": "runs/alzheimer_study/01_1_train_VAE.ipynb",
   "parameters": {
    "batch_size": 64,
    "cuda": false,
    "epochs_max": 300,
    "fn_rawfile_metadata": "https://raw.githubusercontent.com/RasmussenLab/njab/HEAD/docs/tutorial/data/alzheimer/meta.csv",
    "folder_experiment": "runs/alzheimer_study",
    "hidden_layers": "64",
    "latent_dim": 10,
    "model": "VAE",
    "model_key": "VAE",
    "sample_idx_position": 0,
    "save_pred_real_na": true
   },
   "start_time": "2024-09-18T04:05:32.656673",
   "version": "2.6.0"
  },
  "toc-autonumbering": true
 },
 "nbformat": 4,
 "nbformat_minor": 5
}