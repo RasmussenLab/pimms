{
 "cells": [
  {
   "cell_type": "markdown",
   "id": "9acfeaca-5f8c-42f3-9a8e-83ed737eb35c",
   "metadata": {
    "papermill": {
     "duration": 0.035718,
     "end_time": "2024-07-13T04:45:30.554784",
     "exception": false,
     "start_time": "2024-07-13T04:45:30.519066",
     "status": "completed"
    },
    "tags": []
   },
   "source": [
    "# Compare outcomes from differential analysis based on different imputation methods\n",
    "\n",
    "- load scores based on `10_1_ald_diff_analysis`"
   ]
  },
  {
   "cell_type": "code",
   "execution_count": 1,
   "id": "eec6f931-c04d-428c-b2b1-0424c50e6cd2",
   "metadata": {
    "execution": {
     "iopub.execute_input": "2024-07-13T04:45:30.651028Z",
     "iopub.status.busy": "2024-07-13T04:45:30.650665Z",
     "iopub.status.idle": "2024-07-13T04:45:32.984323Z",
     "shell.execute_reply": "2024-07-13T04:45:32.983460Z"
    },
    "papermill": {
     "duration": 2.365411,
     "end_time": "2024-07-13T04:45:32.986580",
     "exception": false,
     "start_time": "2024-07-13T04:45:30.621169",
     "status": "completed"
    },
    "tags": [
     "hide-input"
    ]
   },
   "outputs": [],
   "source": [
    "import logging\n",
    "from pathlib import Path\n",
    "\n",
    "import matplotlib.pyplot as plt\n",
    "import pandas as pd\n",
    "import seaborn as sns\n",
    "from IPython.display import display\n",
    "\n",
    "import pimmslearn\n",
    "import pimmslearn.databases.diseases\n",
    "\n",
    "logger = pimmslearn.logging.setup_nb_logger()\n",
    "\n",
    "plt.rcParams['figure.figsize'] = (2, 2)\n",
    "fontsize = 5\n",
    "pimmslearn.plotting.make_large_descriptors(fontsize)\n",
    "logging.getLogger('fontTools').setLevel(logging.ERROR)\n",
    "\n",
    "# catch passed parameters\n",
    "args = None\n",
    "args = dict(globals()).keys()"
   ]
  },
  {
   "cell_type": "markdown",
   "id": "85f5f5d5",
   "metadata": {
    "papermill": {
     "duration": 0.011895,
     "end_time": "2024-07-13T04:45:33.011284",
     "exception": false,
     "start_time": "2024-07-13T04:45:32.999389",
     "status": "completed"
    },
    "tags": []
   },
   "source": [
    "## Parameters\n",
    "Default and set parameters for the notebook."
   ]
  },
  {
   "cell_type": "code",
   "execution_count": 2,
   "id": "f4bf65da-0569-4a21-ba20-9cae7d3679e7",
   "metadata": {
    "execution": {
     "iopub.execute_input": "2024-07-13T04:45:33.036541Z",
     "iopub.status.busy": "2024-07-13T04:45:33.036208Z",
     "iopub.status.idle": "2024-07-13T04:45:33.040846Z",
     "shell.execute_reply": "2024-07-13T04:45:33.040130Z"
    },
    "papermill": {
     "duration": 0.019772,
     "end_time": "2024-07-13T04:45:33.042882",
     "exception": false,
     "start_time": "2024-07-13T04:45:33.023110",
     "status": "completed"
    },
    "tags": [
     "parameters"
    ]
   },
   "outputs": [],
   "source": [
    "folder_experiment = 'runs/appl_ald_data/plasma/proteinGroups'\n",
    "\n",
    "target = 'kleiner'\n",
    "model_key = 'VAE'\n",
    "baseline = 'RSN'\n",
    "out_folder = 'diff_analysis'\n",
    "selected_statistics = ['p-unc', '-Log10 pvalue', 'qvalue', 'rejected']\n",
    "\n",
    "disease_ontology = 5082  # code from https://disease-ontology.org/\n",
    "# split diseases notebook? Query gene names for proteins in file from uniprot?\n",
    "annotaitons_gene_col = 'PG.Genes'"
   ]
  },
  {
   "cell_type": "code",
   "execution_count": 3,
   "id": "bdc7c717",
   "metadata": {
    "execution": {
     "iopub.execute_input": "2024-07-13T04:45:33.068068Z",
     "iopub.status.busy": "2024-07-13T04:45:33.067767Z",
     "iopub.status.idle": "2024-07-13T04:45:33.071794Z",
     "shell.execute_reply": "2024-07-13T04:45:33.071111Z"
    },
    "papermill": {
     "duration": 0.019918,
     "end_time": "2024-07-13T04:45:33.074762",
     "exception": false,
     "start_time": "2024-07-13T04:45:33.054844",
     "status": "completed"
    },
    "tags": [
     "injected-parameters"
    ]
   },
   "outputs": [],
   "source": [
    "# Parameters\n",
    "disease_ontology = 10652\n",
    "folder_experiment = \"runs/alzheimer_study\"\n",
    "target = \"AD\"\n",
    "baseline = \"PI\"\n",
    "model_key = \"CF\"\n",
    "out_folder = \"diff_analysis\"\n",
    "annotaitons_gene_col = \"None\"\n"
   ]
  },
  {
   "cell_type": "markdown",
   "id": "22c645fc-c7eb-4c69-a7aa-084fc733258f",
   "metadata": {
    "papermill": {
     "duration": 0.011856,
     "end_time": "2024-07-13T04:45:33.098454",
     "exception": false,
     "start_time": "2024-07-13T04:45:33.086598",
     "status": "completed"
    },
    "tags": []
   },
   "source": [
    "Add set parameters to configuration"
   ]
  },
  {
   "cell_type": "code",
   "execution_count": 4,
   "id": "978876d0-b3cc-4847-8eab-dc0b89ddbbcd",
   "metadata": {
    "execution": {
     "iopub.execute_input": "2024-07-13T04:45:33.124041Z",
     "iopub.status.busy": "2024-07-13T04:45:33.123735Z",
     "iopub.status.idle": "2024-07-13T04:45:33.151266Z",
     "shell.execute_reply": "2024-07-13T04:45:33.150576Z"
    },
    "papermill": {
     "duration": 0.048618,
     "end_time": "2024-07-13T04:45:33.159516",
     "exception": false,
     "start_time": "2024-07-13T04:45:33.110898",
     "status": "completed"
    },
    "tags": [
     "hide-input"
    ]
   },
   "outputs": [
    {
     "name": "stderr",
     "output_type": "stream",
     "text": [
      "root - INFO     Removed from global namespace: folder_experiment\n"
     ]
    },
    {
     "name": "stderr",
     "output_type": "stream",
     "text": [
      "root - INFO     Removed from global namespace: target\n"
     ]
    },
    {
     "name": "stderr",
     "output_type": "stream",
     "text": [
      "root - INFO     Removed from global namespace: model_key\n"
     ]
    },
    {
     "name": "stderr",
     "output_type": "stream",
     "text": [
      "root - INFO     Removed from global namespace: baseline\n"
     ]
    },
    {
     "name": "stderr",
     "output_type": "stream",
     "text": [
      "root - INFO     Removed from global namespace: out_folder\n"
     ]
    },
    {
     "name": "stderr",
     "output_type": "stream",
     "text": [
      "root - INFO     Removed from global namespace: selected_statistics\n"
     ]
    },
    {
     "name": "stderr",
     "output_type": "stream",
     "text": [
      "root - INFO     Removed from global namespace: disease_ontology\n"
     ]
    },
    {
     "name": "stderr",
     "output_type": "stream",
     "text": [
      "root - INFO     Removed from global namespace: annotaitons_gene_col\n"
     ]
    },
    {
     "name": "stderr",
     "output_type": "stream",
     "text": [
      "root - INFO     Already set attribute: folder_experiment has value runs/alzheimer_study\n"
     ]
    },
    {
     "name": "stderr",
     "output_type": "stream",
     "text": [
      "root - INFO     Already set attribute: out_folder has value diff_analysis\n"
     ]
    },
    {
     "data": {
      "text/plain": [
       "{'annotaitons_gene_col': 'None',\n",
       " 'baseline': 'PI',\n",
       " 'data': PosixPath('runs/alzheimer_study/data'),\n",
       " 'disease_ontology': 10652,\n",
       " 'folder_experiment': PosixPath('runs/alzheimer_study'),\n",
       " 'freq_features_observed': PosixPath('runs/alzheimer_study/freq_features_observed.csv'),\n",
       " 'model_key': 'CF',\n",
       " 'out_figures': PosixPath('runs/alzheimer_study/figures'),\n",
       " 'out_folder': PosixPath('runs/alzheimer_study/diff_analysis/AD/PI_vs_CF'),\n",
       " 'out_metrics': PosixPath('runs/alzheimer_study'),\n",
       " 'out_models': PosixPath('runs/alzheimer_study'),\n",
       " 'out_preds': PosixPath('runs/alzheimer_study/preds'),\n",
       " 'scores_folder': PosixPath('runs/alzheimer_study/diff_analysis/AD/scores'),\n",
       " 'selected_statistics': ['p-unc', '-Log10 pvalue', 'qvalue', 'rejected'],\n",
       " 'target': 'AD'}"
      ]
     },
     "execution_count": 4,
     "metadata": {},
     "output_type": "execute_result"
    }
   ],
   "source": [
    "params = pimmslearn.nb.get_params(args, globals=globals())\n",
    "args = pimmslearn.nb.Config()\n",
    "args.folder_experiment = Path(params[\"folder_experiment\"])\n",
    "args = pimmslearn.nb.add_default_paths(args,\n",
    "                                 out_root=(\n",
    "                                     args.folder_experiment\n",
    "                                     / params[\"out_folder\"]\n",
    "                                     / params[\"target\"]\n",
    "                                     / f\"{params['baseline']}_vs_{params['model_key']}\"))\n",
    "args.update_from_dict(params)\n",
    "args.scores_folder = scores_folder = (args.folder_experiment\n",
    "                                      / params[\"out_folder\"]\n",
    "                                      / params[\"target\"]\n",
    "                                      / 'scores')\n",
    "args.freq_features_observed = args.folder_experiment / 'freq_features_observed.csv'\n",
    "args"
   ]
  },
  {
   "cell_type": "markdown",
   "id": "fc184dea",
   "metadata": {
    "papermill": {
     "duration": 0.023037,
     "end_time": "2024-07-13T04:45:33.207439",
     "exception": false,
     "start_time": "2024-07-13T04:45:33.184402",
     "status": "completed"
    },
    "tags": []
   },
   "source": [
    "### Excel file for exports"
   ]
  },
  {
   "cell_type": "code",
   "execution_count": 5,
   "id": "a8016d79-e41a-40a2-bcbf-e11711c33b7d",
   "metadata": {
    "execution": {
     "iopub.execute_input": "2024-07-13T04:45:33.234994Z",
     "iopub.status.busy": "2024-07-13T04:45:33.234659Z",
     "iopub.status.idle": "2024-07-13T04:45:33.344437Z",
     "shell.execute_reply": "2024-07-13T04:45:33.343687Z"
    },
    "papermill": {
     "duration": 0.125845,
     "end_time": "2024-07-13T04:45:33.346481",
     "exception": false,
     "start_time": "2024-07-13T04:45:33.220636",
     "status": "completed"
    },
    "tags": []
   },
   "outputs": [
    {
     "name": "stderr",
     "output_type": "stream",
     "text": [
      "root - INFO     Writing to excel file: runs/alzheimer_study/diff_analysis/AD/PI_vs_CF/diff_analysis_compare_methods.xlsx\n"
     ]
    }
   ],
   "source": [
    "files_out = dict()\n",
    "writer_args = dict(float_format='%.3f')\n",
    "\n",
    "fname = args.out_folder / 'diff_analysis_compare_methods.xlsx'\n",
    "files_out[fname.name] = fname\n",
    "writer = pd.ExcelWriter(fname)\n",
    "logger.info(\"Writing to excel file: %s\", fname)"
   ]
  },
  {
   "cell_type": "markdown",
   "id": "770d1f76-e86f-4ae3-9d7b-ceef9b9e9a22",
   "metadata": {
    "papermill": {
     "duration": 0.012839,
     "end_time": "2024-07-13T04:45:33.373064",
     "exception": false,
     "start_time": "2024-07-13T04:45:33.360225",
     "status": "completed"
    },
    "tags": []
   },
   "source": [
    "## Load scores"
   ]
  },
  {
   "cell_type": "markdown",
   "id": "6b108869",
   "metadata": {
    "papermill": {
     "duration": 0.013183,
     "end_time": "2024-07-13T04:45:33.399578",
     "exception": false,
     "start_time": "2024-07-13T04:45:33.386395",
     "status": "completed"
    },
    "tags": []
   },
   "source": [
    "### Load baseline model scores\n",
    "Show all statistics, later use selected statistics"
   ]
  },
  {
   "cell_type": "code",
   "execution_count": 6,
   "id": "97221134-5f61-4158-bfc5-ea30077140b8",
   "metadata": {
    "execution": {
     "iopub.execute_input": "2024-07-13T04:45:33.443715Z",
     "iopub.status.busy": "2024-07-13T04:45:33.443274Z",
     "iopub.status.idle": "2024-07-13T04:45:33.481757Z",
     "shell.execute_reply": "2024-07-13T04:45:33.480936Z"
    },
    "papermill": {
     "duration": 0.070868,
     "end_time": "2024-07-13T04:45:33.483655",
     "exception": false,
     "start_time": "2024-07-13T04:45:33.412787",
     "status": "completed"
    },
    "tags": [
     "hide-input"
    ]
   },
   "outputs": [
    {
     "data": {
      "text/html": [
       "<div>\n",
       "<style scoped>\n",
       "    .dataframe tbody tr th:only-of-type {\n",
       "        vertical-align: middle;\n",
       "    }\n",
       "\n",
       "    .dataframe tbody tr th {\n",
       "        vertical-align: top;\n",
       "    }\n",
       "\n",
       "    .dataframe thead tr th {\n",
       "        text-align: left;\n",
       "    }\n",
       "\n",
       "    .dataframe thead tr:last-of-type th {\n",
       "        text-align: right;\n",
       "    }\n",
       "</style>\n",
       "<table border=\"1\" class=\"dataframe\">\n",
       "  <thead>\n",
       "    <tr>\n",
       "      <th></th>\n",
       "      <th>model</th>\n",
       "      <th colspan=\"8\" halign=\"left\">PI</th>\n",
       "    </tr>\n",
       "    <tr>\n",
       "      <th></th>\n",
       "      <th>var</th>\n",
       "      <th>SS</th>\n",
       "      <th>DF</th>\n",
       "      <th>F</th>\n",
       "      <th>p-unc</th>\n",
       "      <th>np2</th>\n",
       "      <th>-Log10 pvalue</th>\n",
       "      <th>qvalue</th>\n",
       "      <th>rejected</th>\n",
       "    </tr>\n",
       "    <tr>\n",
       "      <th>protein groups</th>\n",
       "      <th>Source</th>\n",
       "      <th></th>\n",
       "      <th></th>\n",
       "      <th></th>\n",
       "      <th></th>\n",
       "      <th></th>\n",
       "      <th></th>\n",
       "      <th></th>\n",
       "      <th></th>\n",
       "    </tr>\n",
       "  </thead>\n",
       "  <tbody>\n",
       "    <tr>\n",
       "      <th rowspan=\"5\" valign=\"top\">A0A024QZX5;A0A087X1N8;P35237</th>\n",
       "      <th>AD</th>\n",
       "      <td>0.594</td>\n",
       "      <td>1</td>\n",
       "      <td>0.981</td>\n",
       "      <td>0.323</td>\n",
       "      <td>0.005</td>\n",
       "      <td>0.491</td>\n",
       "      <td>0.485</td>\n",
       "      <td>False</td>\n",
       "    </tr>\n",
       "    <tr>\n",
       "      <th>age</th>\n",
       "      <td>0.113</td>\n",
       "      <td>1</td>\n",
       "      <td>0.187</td>\n",
       "      <td>0.666</td>\n",
       "      <td>0.001</td>\n",
       "      <td>0.176</td>\n",
       "      <td>0.782</td>\n",
       "      <td>False</td>\n",
       "    </tr>\n",
       "    <tr>\n",
       "      <th>Kiel</th>\n",
       "      <td>2.320</td>\n",
       "      <td>1</td>\n",
       "      <td>3.831</td>\n",
       "      <td>0.052</td>\n",
       "      <td>0.020</td>\n",
       "      <td>1.286</td>\n",
       "      <td>0.124</td>\n",
       "      <td>False</td>\n",
       "    </tr>\n",
       "    <tr>\n",
       "      <th>Magdeburg</th>\n",
       "      <td>5.087</td>\n",
       "      <td>1</td>\n",
       "      <td>8.400</td>\n",
       "      <td>0.004</td>\n",
       "      <td>0.042</td>\n",
       "      <td>2.378</td>\n",
       "      <td>0.016</td>\n",
       "      <td>True</td>\n",
       "    </tr>\n",
       "    <tr>\n",
       "      <th>Sweden</th>\n",
       "      <td>8.863</td>\n",
       "      <td>1</td>\n",
       "      <td>14.636</td>\n",
       "      <td>0.000</td>\n",
       "      <td>0.071</td>\n",
       "      <td>3.753</td>\n",
       "      <td>0.001</td>\n",
       "      <td>True</td>\n",
       "    </tr>\n",
       "    <tr>\n",
       "      <th>...</th>\n",
       "      <th>...</th>\n",
       "      <td>...</td>\n",
       "      <td>...</td>\n",
       "      <td>...</td>\n",
       "      <td>...</td>\n",
       "      <td>...</td>\n",
       "      <td>...</td>\n",
       "      <td>...</td>\n",
       "      <td>...</td>\n",
       "    </tr>\n",
       "    <tr>\n",
       "      <th rowspan=\"5\" valign=\"top\">S4R3U6</th>\n",
       "      <th>AD</th>\n",
       "      <td>0.078</td>\n",
       "      <td>1</td>\n",
       "      <td>0.073</td>\n",
       "      <td>0.787</td>\n",
       "      <td>0.000</td>\n",
       "      <td>0.104</td>\n",
       "      <td>0.870</td>\n",
       "      <td>False</td>\n",
       "    </tr>\n",
       "    <tr>\n",
       "      <th>age</th>\n",
       "      <td>0.485</td>\n",
       "      <td>1</td>\n",
       "      <td>0.458</td>\n",
       "      <td>0.500</td>\n",
       "      <td>0.002</td>\n",
       "      <td>0.301</td>\n",
       "      <td>0.651</td>\n",
       "      <td>False</td>\n",
       "    </tr>\n",
       "    <tr>\n",
       "      <th>Kiel</th>\n",
       "      <td>0.132</td>\n",
       "      <td>1</td>\n",
       "      <td>0.124</td>\n",
       "      <td>0.725</td>\n",
       "      <td>0.001</td>\n",
       "      <td>0.140</td>\n",
       "      <td>0.826</td>\n",
       "      <td>False</td>\n",
       "    </tr>\n",
       "    <tr>\n",
       "      <th>Magdeburg</th>\n",
       "      <td>3.694</td>\n",
       "      <td>1</td>\n",
       "      <td>3.483</td>\n",
       "      <td>0.064</td>\n",
       "      <td>0.018</td>\n",
       "      <td>1.197</td>\n",
       "      <td>0.147</td>\n",
       "      <td>False</td>\n",
       "    </tr>\n",
       "    <tr>\n",
       "      <th>Sweden</th>\n",
       "      <td>11.066</td>\n",
       "      <td>1</td>\n",
       "      <td>10.435</td>\n",
       "      <td>0.001</td>\n",
       "      <td>0.052</td>\n",
       "      <td>2.837</td>\n",
       "      <td>0.007</td>\n",
       "      <td>True</td>\n",
       "    </tr>\n",
       "  </tbody>\n",
       "</table>\n",
       "<p>7105 rows × 8 columns</p>\n",
       "</div>"
      ],
      "text/plain": [
       "model                                      PI                        \\\n",
       "var                                        SS DF      F p-unc   np2   \n",
       "protein groups               Source                                   \n",
       "A0A024QZX5;A0A087X1N8;P35237 AD         0.594  1  0.981 0.323 0.005   \n",
       "                             age        0.113  1  0.187 0.666 0.001   \n",
       "                             Kiel       2.320  1  3.831 0.052 0.020   \n",
       "                             Magdeburg  5.087  1  8.400 0.004 0.042   \n",
       "                             Sweden     8.863  1 14.636 0.000 0.071   \n",
       "...                                       ... ..    ...   ...   ...   \n",
       "S4R3U6                       AD         0.078  1  0.073 0.787 0.000   \n",
       "                             age        0.485  1  0.458 0.500 0.002   \n",
       "                             Kiel       0.132  1  0.124 0.725 0.001   \n",
       "                             Magdeburg  3.694  1  3.483 0.064 0.018   \n",
       "                             Sweden    11.066  1 10.435 0.001 0.052   \n",
       "\n",
       "model                                                                 \n",
       "var                                    -Log10 pvalue qvalue rejected  \n",
       "protein groups               Source                                   \n",
       "A0A024QZX5;A0A087X1N8;P35237 AD                0.491  0.485    False  \n",
       "                             age               0.176  0.782    False  \n",
       "                             Kiel              1.286  0.124    False  \n",
       "                             Magdeburg         2.378  0.016     True  \n",
       "                             Sweden            3.753  0.001     True  \n",
       "...                                              ...    ...      ...  \n",
       "S4R3U6                       AD                0.104  0.870    False  \n",
       "                             age               0.301  0.651    False  \n",
       "                             Kiel              0.140  0.826    False  \n",
       "                             Magdeburg         1.197  0.147    False  \n",
       "                             Sweden            2.837  0.007     True  \n",
       "\n",
       "[7105 rows x 8 columns]"
      ]
     },
     "execution_count": 6,
     "metadata": {},
     "output_type": "execute_result"
    }
   ],
   "source": [
    "fname = args.scores_folder / f'diff_analysis_scores_{args.baseline}.pkl'\n",
    "scores_baseline = pd.read_pickle(fname)\n",
    "scores_baseline"
   ]
  },
  {
   "cell_type": "markdown",
   "id": "e49a8da2",
   "metadata": {
    "papermill": {
     "duration": 0.025537,
     "end_time": "2024-07-13T04:45:33.535425",
     "exception": false,
     "start_time": "2024-07-13T04:45:33.509888",
     "status": "completed"
    },
    "tags": []
   },
   "source": [
    "### Load selected comparison model scores"
   ]
  },
  {
   "cell_type": "code",
   "execution_count": 7,
   "id": "f0635e4d",
   "metadata": {
    "execution": {
     "iopub.execute_input": "2024-07-13T04:45:33.587942Z",
     "iopub.status.busy": "2024-07-13T04:45:33.587522Z",
     "iopub.status.idle": "2024-07-13T04:45:33.610931Z",
     "shell.execute_reply": "2024-07-13T04:45:33.610223Z"
    },
    "papermill": {
     "duration": 0.06233,
     "end_time": "2024-07-13T04:45:33.612827",
     "exception": false,
     "start_time": "2024-07-13T04:45:33.550497",
     "status": "completed"
    },
    "tags": [
     "hide-input"
    ]
   },
   "outputs": [
    {
     "data": {
      "text/html": [
       "<div>\n",
       "<style scoped>\n",
       "    .dataframe tbody tr th:only-of-type {\n",
       "        vertical-align: middle;\n",
       "    }\n",
       "\n",
       "    .dataframe tbody tr th {\n",
       "        vertical-align: top;\n",
       "    }\n",
       "\n",
       "    .dataframe thead tr th {\n",
       "        text-align: left;\n",
       "    }\n",
       "\n",
       "    .dataframe thead tr:last-of-type th {\n",
       "        text-align: right;\n",
       "    }\n",
       "</style>\n",
       "<table border=\"1\" class=\"dataframe\">\n",
       "  <thead>\n",
       "    <tr>\n",
       "      <th></th>\n",
       "      <th>model</th>\n",
       "      <th colspan=\"8\" halign=\"left\">CF</th>\n",
       "    </tr>\n",
       "    <tr>\n",
       "      <th></th>\n",
       "      <th>var</th>\n",
       "      <th>SS</th>\n",
       "      <th>DF</th>\n",
       "      <th>F</th>\n",
       "      <th>p-unc</th>\n",
       "      <th>np2</th>\n",
       "      <th>-Log10 pvalue</th>\n",
       "      <th>qvalue</th>\n",
       "      <th>rejected</th>\n",
       "    </tr>\n",
       "    <tr>\n",
       "      <th>protein groups</th>\n",
       "      <th>Source</th>\n",
       "      <th></th>\n",
       "      <th></th>\n",
       "      <th></th>\n",
       "      <th></th>\n",
       "      <th></th>\n",
       "      <th></th>\n",
       "      <th></th>\n",
       "      <th></th>\n",
       "    </tr>\n",
       "  </thead>\n",
       "  <tbody>\n",
       "    <tr>\n",
       "      <th rowspan=\"5\" valign=\"top\">A0A024QZX5;A0A087X1N8;P35237</th>\n",
       "      <th>AD</th>\n",
       "      <td>1.121</td>\n",
       "      <td>1</td>\n",
       "      <td>7.871</td>\n",
       "      <td>0.006</td>\n",
       "      <td>0.040</td>\n",
       "      <td>2.256</td>\n",
       "      <td>0.016</td>\n",
       "      <td>True</td>\n",
       "    </tr>\n",
       "    <tr>\n",
       "      <th>age</th>\n",
       "      <td>0.012</td>\n",
       "      <td>1</td>\n",
       "      <td>0.086</td>\n",
       "      <td>0.770</td>\n",
       "      <td>0.000</td>\n",
       "      <td>0.113</td>\n",
       "      <td>0.843</td>\n",
       "      <td>False</td>\n",
       "    </tr>\n",
       "    <tr>\n",
       "      <th>Kiel</th>\n",
       "      <td>0.311</td>\n",
       "      <td>1</td>\n",
       "      <td>2.184</td>\n",
       "      <td>0.141</td>\n",
       "      <td>0.011</td>\n",
       "      <td>0.850</td>\n",
       "      <td>0.241</td>\n",
       "      <td>False</td>\n",
       "    </tr>\n",
       "    <tr>\n",
       "      <th>Magdeburg</th>\n",
       "      <td>0.477</td>\n",
       "      <td>1</td>\n",
       "      <td>3.347</td>\n",
       "      <td>0.069</td>\n",
       "      <td>0.017</td>\n",
       "      <td>1.162</td>\n",
       "      <td>0.136</td>\n",
       "      <td>False</td>\n",
       "    </tr>\n",
       "    <tr>\n",
       "      <th>Sweden</th>\n",
       "      <td>1.728</td>\n",
       "      <td>1</td>\n",
       "      <td>12.127</td>\n",
       "      <td>0.001</td>\n",
       "      <td>0.060</td>\n",
       "      <td>3.211</td>\n",
       "      <td>0.002</td>\n",
       "      <td>True</td>\n",
       "    </tr>\n",
       "    <tr>\n",
       "      <th>...</th>\n",
       "      <th>...</th>\n",
       "      <td>...</td>\n",
       "      <td>...</td>\n",
       "      <td>...</td>\n",
       "      <td>...</td>\n",
       "      <td>...</td>\n",
       "      <td>...</td>\n",
       "      <td>...</td>\n",
       "      <td>...</td>\n",
       "    </tr>\n",
       "    <tr>\n",
       "      <th rowspan=\"5\" valign=\"top\">S4R3U6</th>\n",
       "      <th>AD</th>\n",
       "      <td>1.530</td>\n",
       "      <td>1</td>\n",
       "      <td>3.036</td>\n",
       "      <td>0.083</td>\n",
       "      <td>0.016</td>\n",
       "      <td>1.081</td>\n",
       "      <td>0.158</td>\n",
       "      <td>False</td>\n",
       "    </tr>\n",
       "    <tr>\n",
       "      <th>age</th>\n",
       "      <td>0.787</td>\n",
       "      <td>1</td>\n",
       "      <td>1.561</td>\n",
       "      <td>0.213</td>\n",
       "      <td>0.008</td>\n",
       "      <td>0.671</td>\n",
       "      <td>0.332</td>\n",
       "      <td>False</td>\n",
       "    </tr>\n",
       "    <tr>\n",
       "      <th>Kiel</th>\n",
       "      <td>2.412</td>\n",
       "      <td>1</td>\n",
       "      <td>4.784</td>\n",
       "      <td>0.030</td>\n",
       "      <td>0.024</td>\n",
       "      <td>1.524</td>\n",
       "      <td>0.068</td>\n",
       "      <td>False</td>\n",
       "    </tr>\n",
       "    <tr>\n",
       "      <th>Magdeburg</th>\n",
       "      <td>2.471</td>\n",
       "      <td>1</td>\n",
       "      <td>4.902</td>\n",
       "      <td>0.028</td>\n",
       "      <td>0.025</td>\n",
       "      <td>1.553</td>\n",
       "      <td>0.065</td>\n",
       "      <td>False</td>\n",
       "    </tr>\n",
       "    <tr>\n",
       "      <th>Sweden</th>\n",
       "      <td>17.882</td>\n",
       "      <td>1</td>\n",
       "      <td>35.472</td>\n",
       "      <td>0.000</td>\n",
       "      <td>0.157</td>\n",
       "      <td>7.913</td>\n",
       "      <td>0.000</td>\n",
       "      <td>True</td>\n",
       "    </tr>\n",
       "  </tbody>\n",
       "</table>\n",
       "<p>7105 rows × 8 columns</p>\n",
       "</div>"
      ],
      "text/plain": [
       "model                                      CF                        \\\n",
       "var                                        SS DF      F p-unc   np2   \n",
       "protein groups               Source                                   \n",
       "A0A024QZX5;A0A087X1N8;P35237 AD         1.121  1  7.871 0.006 0.040   \n",
       "                             age        0.012  1  0.086 0.770 0.000   \n",
       "                             Kiel       0.311  1  2.184 0.141 0.011   \n",
       "                             Magdeburg  0.477  1  3.347 0.069 0.017   \n",
       "                             Sweden     1.728  1 12.127 0.001 0.060   \n",
       "...                                       ... ..    ...   ...   ...   \n",
       "S4R3U6                       AD         1.530  1  3.036 0.083 0.016   \n",
       "                             age        0.787  1  1.561 0.213 0.008   \n",
       "                             Kiel       2.412  1  4.784 0.030 0.024   \n",
       "                             Magdeburg  2.471  1  4.902 0.028 0.025   \n",
       "                             Sweden    17.882  1 35.472 0.000 0.157   \n",
       "\n",
       "model                                                                 \n",
       "var                                    -Log10 pvalue qvalue rejected  \n",
       "protein groups               Source                                   \n",
       "A0A024QZX5;A0A087X1N8;P35237 AD                2.256  0.016     True  \n",
       "                             age               0.113  0.843    False  \n",
       "                             Kiel              0.850  0.241    False  \n",
       "                             Magdeburg         1.162  0.136    False  \n",
       "                             Sweden            3.211  0.002     True  \n",
       "...                                              ...    ...      ...  \n",
       "S4R3U6                       AD                1.081  0.158    False  \n",
       "                             age               0.671  0.332    False  \n",
       "                             Kiel              1.524  0.068    False  \n",
       "                             Magdeburg         1.553  0.065    False  \n",
       "                             Sweden            7.913  0.000     True  \n",
       "\n",
       "[7105 rows x 8 columns]"
      ]
     },
     "execution_count": 7,
     "metadata": {},
     "output_type": "execute_result"
    }
   ],
   "source": [
    "fname = args.scores_folder / f'diff_analysis_scores_{args.model_key}.pkl'\n",
    "scores_model = pd.read_pickle(fname)\n",
    "scores_model"
   ]
  },
  {
   "cell_type": "markdown",
   "id": "06b7e883",
   "metadata": {
    "papermill": {
     "duration": 0.013863,
     "end_time": "2024-07-13T04:45:33.642062",
     "exception": false,
     "start_time": "2024-07-13T04:45:33.628199",
     "status": "completed"
    },
    "tags": []
   },
   "source": [
    "### Combined scores\n",
    "show only selected statistics for comparsion"
   ]
  },
  {
   "cell_type": "code",
   "execution_count": 8,
   "id": "373fdf65",
   "metadata": {
    "execution": {
     "iopub.execute_input": "2024-07-13T04:45:33.670853Z",
     "iopub.status.busy": "2024-07-13T04:45:33.670478Z",
     "iopub.status.idle": "2024-07-13T04:45:33.704090Z",
     "shell.execute_reply": "2024-07-13T04:45:33.703380Z"
    },
    "papermill": {
     "duration": 0.050273,
     "end_time": "2024-07-13T04:45:33.705975",
     "exception": false,
     "start_time": "2024-07-13T04:45:33.655702",
     "status": "completed"
    },
    "tags": [
     "hide-input"
    ]
   },
   "outputs": [
    {
     "data": {
      "text/html": [
       "<div>\n",
       "<style scoped>\n",
       "    .dataframe tbody tr th:only-of-type {\n",
       "        vertical-align: middle;\n",
       "    }\n",
       "\n",
       "    .dataframe tbody tr th {\n",
       "        vertical-align: top;\n",
       "    }\n",
       "\n",
       "    .dataframe thead tr th {\n",
       "        text-align: left;\n",
       "    }\n",
       "\n",
       "    .dataframe thead tr:last-of-type th {\n",
       "        text-align: right;\n",
       "    }\n",
       "</style>\n",
       "<table border=\"1\" class=\"dataframe\">\n",
       "  <thead>\n",
       "    <tr>\n",
       "      <th></th>\n",
       "      <th>model</th>\n",
       "      <th colspan=\"4\" halign=\"left\">CF</th>\n",
       "      <th colspan=\"4\" halign=\"left\">PI</th>\n",
       "    </tr>\n",
       "    <tr>\n",
       "      <th></th>\n",
       "      <th>var</th>\n",
       "      <th>p-unc</th>\n",
       "      <th>-Log10 pvalue</th>\n",
       "      <th>qvalue</th>\n",
       "      <th>rejected</th>\n",
       "      <th>p-unc</th>\n",
       "      <th>-Log10 pvalue</th>\n",
       "      <th>qvalue</th>\n",
       "      <th>rejected</th>\n",
       "    </tr>\n",
       "    <tr>\n",
       "      <th>protein groups</th>\n",
       "      <th>Source</th>\n",
       "      <th></th>\n",
       "      <th></th>\n",
       "      <th></th>\n",
       "      <th></th>\n",
       "      <th></th>\n",
       "      <th></th>\n",
       "      <th></th>\n",
       "      <th></th>\n",
       "    </tr>\n",
       "  </thead>\n",
       "  <tbody>\n",
       "    <tr>\n",
       "      <th rowspan=\"5\" valign=\"top\">A0A024QZX5;A0A087X1N8;P35237</th>\n",
       "      <th>AD</th>\n",
       "      <td>0.006</td>\n",
       "      <td>2.256</td>\n",
       "      <td>0.016</td>\n",
       "      <td>True</td>\n",
       "      <td>0.323</td>\n",
       "      <td>0.491</td>\n",
       "      <td>0.485</td>\n",
       "      <td>False</td>\n",
       "    </tr>\n",
       "    <tr>\n",
       "      <th>age</th>\n",
       "      <td>0.770</td>\n",
       "      <td>0.113</td>\n",
       "      <td>0.843</td>\n",
       "      <td>False</td>\n",
       "      <td>0.666</td>\n",
       "      <td>0.176</td>\n",
       "      <td>0.782</td>\n",
       "      <td>False</td>\n",
       "    </tr>\n",
       "    <tr>\n",
       "      <th>Kiel</th>\n",
       "      <td>0.141</td>\n",
       "      <td>0.850</td>\n",
       "      <td>0.241</td>\n",
       "      <td>False</td>\n",
       "      <td>0.052</td>\n",
       "      <td>1.286</td>\n",
       "      <td>0.124</td>\n",
       "      <td>False</td>\n",
       "    </tr>\n",
       "    <tr>\n",
       "      <th>Magdeburg</th>\n",
       "      <td>0.069</td>\n",
       "      <td>1.162</td>\n",
       "      <td>0.136</td>\n",
       "      <td>False</td>\n",
       "      <td>0.004</td>\n",
       "      <td>2.378</td>\n",
       "      <td>0.016</td>\n",
       "      <td>True</td>\n",
       "    </tr>\n",
       "    <tr>\n",
       "      <th>Sweden</th>\n",
       "      <td>0.001</td>\n",
       "      <td>3.211</td>\n",
       "      <td>0.002</td>\n",
       "      <td>True</td>\n",
       "      <td>0.000</td>\n",
       "      <td>3.753</td>\n",
       "      <td>0.001</td>\n",
       "      <td>True</td>\n",
       "    </tr>\n",
       "    <tr>\n",
       "      <th>...</th>\n",
       "      <th>...</th>\n",
       "      <td>...</td>\n",
       "      <td>...</td>\n",
       "      <td>...</td>\n",
       "      <td>...</td>\n",
       "      <td>...</td>\n",
       "      <td>...</td>\n",
       "      <td>...</td>\n",
       "      <td>...</td>\n",
       "    </tr>\n",
       "    <tr>\n",
       "      <th rowspan=\"5\" valign=\"top\">S4R3U6</th>\n",
       "      <th>AD</th>\n",
       "      <td>0.083</td>\n",
       "      <td>1.081</td>\n",
       "      <td>0.158</td>\n",
       "      <td>False</td>\n",
       "      <td>0.787</td>\n",
       "      <td>0.104</td>\n",
       "      <td>0.870</td>\n",
       "      <td>False</td>\n",
       "    </tr>\n",
       "    <tr>\n",
       "      <th>age</th>\n",
       "      <td>0.213</td>\n",
       "      <td>0.671</td>\n",
       "      <td>0.332</td>\n",
       "      <td>False</td>\n",
       "      <td>0.500</td>\n",
       "      <td>0.301</td>\n",
       "      <td>0.651</td>\n",
       "      <td>False</td>\n",
       "    </tr>\n",
       "    <tr>\n",
       "      <th>Kiel</th>\n",
       "      <td>0.030</td>\n",
       "      <td>1.524</td>\n",
       "      <td>0.068</td>\n",
       "      <td>False</td>\n",
       "      <td>0.725</td>\n",
       "      <td>0.140</td>\n",
       "      <td>0.826</td>\n",
       "      <td>False</td>\n",
       "    </tr>\n",
       "    <tr>\n",
       "      <th>Magdeburg</th>\n",
       "      <td>0.028</td>\n",
       "      <td>1.553</td>\n",
       "      <td>0.065</td>\n",
       "      <td>False</td>\n",
       "      <td>0.064</td>\n",
       "      <td>1.197</td>\n",
       "      <td>0.147</td>\n",
       "      <td>False</td>\n",
       "    </tr>\n",
       "    <tr>\n",
       "      <th>Sweden</th>\n",
       "      <td>0.000</td>\n",
       "      <td>7.913</td>\n",
       "      <td>0.000</td>\n",
       "      <td>True</td>\n",
       "      <td>0.001</td>\n",
       "      <td>2.837</td>\n",
       "      <td>0.007</td>\n",
       "      <td>True</td>\n",
       "    </tr>\n",
       "  </tbody>\n",
       "</table>\n",
       "<p>7105 rows × 8 columns</p>\n",
       "</div>"
      ],
      "text/plain": [
       "model                                     CF                                \\\n",
       "var                                    p-unc -Log10 pvalue qvalue rejected   \n",
       "protein groups               Source                                          \n",
       "A0A024QZX5;A0A087X1N8;P35237 AD        0.006         2.256  0.016     True   \n",
       "                             age       0.770         0.113  0.843    False   \n",
       "                             Kiel      0.141         0.850  0.241    False   \n",
       "                             Magdeburg 0.069         1.162  0.136    False   \n",
       "                             Sweden    0.001         3.211  0.002     True   \n",
       "...                                      ...           ...    ...      ...   \n",
       "S4R3U6                       AD        0.083         1.081  0.158    False   \n",
       "                             age       0.213         0.671  0.332    False   \n",
       "                             Kiel      0.030         1.524  0.068    False   \n",
       "                             Magdeburg 0.028         1.553  0.065    False   \n",
       "                             Sweden    0.000         7.913  0.000     True   \n",
       "\n",
       "model                                     PI                                \n",
       "var                                    p-unc -Log10 pvalue qvalue rejected  \n",
       "protein groups               Source                                         \n",
       "A0A024QZX5;A0A087X1N8;P35237 AD        0.323         0.491  0.485    False  \n",
       "                             age       0.666         0.176  0.782    False  \n",
       "                             Kiel      0.052         1.286  0.124    False  \n",
       "                             Magdeburg 0.004         2.378  0.016     True  \n",
       "                             Sweden    0.000         3.753  0.001     True  \n",
       "...                                      ...           ...    ...      ...  \n",
       "S4R3U6                       AD        0.787         0.104  0.870    False  \n",
       "                             age       0.500         0.301  0.651    False  \n",
       "                             Kiel      0.725         0.140  0.826    False  \n",
       "                             Magdeburg 0.064         1.197  0.147    False  \n",
       "                             Sweden    0.001         2.837  0.007     True  \n",
       "\n",
       "[7105 rows x 8 columns]"
      ]
     },
     "execution_count": 8,
     "metadata": {},
     "output_type": "execute_result"
    }
   ],
   "source": [
    "scores = scores_model.join(scores_baseline, how='outer')[[args.baseline, args.model_key]]\n",
    "scores = scores.loc[:, pd.IndexSlice[scores.columns.levels[0].to_list(),\n",
    "                                     args.selected_statistics]]\n",
    "scores"
   ]
  },
  {
   "cell_type": "markdown",
   "id": "b84a6e5a",
   "metadata": {
    "papermill": {
     "duration": 0.013712,
     "end_time": "2024-07-13T04:45:33.736403",
     "exception": false,
     "start_time": "2024-07-13T04:45:33.722691",
     "status": "completed"
    },
    "tags": []
   },
   "source": [
    "Models in comparison (name mapping)"
   ]
  },
  {
   "cell_type": "code",
   "execution_count": 9,
   "id": "34d243d1-3ab4-40e7-9eb8-f9efc828b82d",
   "metadata": {
    "execution": {
     "iopub.execute_input": "2024-07-13T04:45:33.766579Z",
     "iopub.status.busy": "2024-07-13T04:45:33.766249Z",
     "iopub.status.idle": "2024-07-13T04:45:33.772119Z",
     "shell.execute_reply": "2024-07-13T04:45:33.771418Z"
    },
    "papermill": {
     "duration": 0.024803,
     "end_time": "2024-07-13T04:45:33.776009",
     "exception": false,
     "start_time": "2024-07-13T04:45:33.751206",
     "status": "completed"
    },
    "tags": [
     "hide-input"
    ]
   },
   "outputs": [
    {
     "data": {
      "text/plain": [
       "{'CF': 'CF', 'PI': 'PI'}"
      ]
     },
     "execution_count": 9,
     "metadata": {},
     "output_type": "execute_result"
    }
   ],
   "source": [
    "models = pimmslearn.nb.Config.from_dict(\n",
    "    pimmslearn.pandas.index_to_dict(scores.columns.get_level_values(0)))\n",
    "vars(models)"
   ]
  },
  {
   "cell_type": "markdown",
   "id": "dd7a560d",
   "metadata": {
    "papermill": {
     "duration": 0.014239,
     "end_time": "2024-07-13T04:45:33.804366",
     "exception": false,
     "start_time": "2024-07-13T04:45:33.790127",
     "status": "completed"
    },
    "tags": []
   },
   "source": [
    "## Describe scores"
   ]
  },
  {
   "cell_type": "code",
   "execution_count": 10,
   "id": "0fee8f5d-fa52-4369-a1f9-fcfd518ab6bd",
   "metadata": {
    "execution": {
     "iopub.execute_input": "2024-07-13T04:45:33.860364Z",
     "iopub.status.busy": "2024-07-13T04:45:33.860026Z",
     "iopub.status.idle": "2024-07-13T04:45:33.894428Z",
     "shell.execute_reply": "2024-07-13T04:45:33.893685Z"
    },
    "papermill": {
     "duration": 0.051725,
     "end_time": "2024-07-13T04:45:33.896300",
     "exception": false,
     "start_time": "2024-07-13T04:45:33.844575",
     "status": "completed"
    },
    "tags": [
     "hide-input"
    ]
   },
   "outputs": [
    {
     "data": {
      "text/html": [
       "<div>\n",
       "<style scoped>\n",
       "    .dataframe tbody tr th:only-of-type {\n",
       "        vertical-align: middle;\n",
       "    }\n",
       "\n",
       "    .dataframe tbody tr th {\n",
       "        vertical-align: top;\n",
       "    }\n",
       "\n",
       "    .dataframe thead tr th {\n",
       "        text-align: left;\n",
       "    }\n",
       "</style>\n",
       "<table border=\"1\" class=\"dataframe\">\n",
       "  <thead>\n",
       "    <tr>\n",
       "      <th>model</th>\n",
       "      <th colspan=\"3\" halign=\"left\">CF</th>\n",
       "      <th colspan=\"3\" halign=\"left\">PI</th>\n",
       "    </tr>\n",
       "    <tr>\n",
       "      <th>var</th>\n",
       "      <th>p-unc</th>\n",
       "      <th>-Log10 pvalue</th>\n",
       "      <th>qvalue</th>\n",
       "      <th>p-unc</th>\n",
       "      <th>-Log10 pvalue</th>\n",
       "      <th>qvalue</th>\n",
       "    </tr>\n",
       "  </thead>\n",
       "  <tbody>\n",
       "    <tr>\n",
       "      <th>count</th>\n",
       "      <td>7,105.000</td>\n",
       "      <td>7,105.000</td>\n",
       "      <td>7,105.000</td>\n",
       "      <td>7,105.000</td>\n",
       "      <td>7,105.000</td>\n",
       "      <td>7,105.000</td>\n",
       "    </tr>\n",
       "    <tr>\n",
       "      <th>mean</th>\n",
       "      <td>0.226</td>\n",
       "      <td>3.225</td>\n",
       "      <td>0.280</td>\n",
       "      <td>0.260</td>\n",
       "      <td>2.482</td>\n",
       "      <td>0.336</td>\n",
       "    </tr>\n",
       "    <tr>\n",
       "      <th>std</th>\n",
       "      <td>0.293</td>\n",
       "      <td>6.101</td>\n",
       "      <td>0.319</td>\n",
       "      <td>0.302</td>\n",
       "      <td>5.331</td>\n",
       "      <td>0.330</td>\n",
       "    </tr>\n",
       "    <tr>\n",
       "      <th>min</th>\n",
       "      <td>0.000</td>\n",
       "      <td>0.000</td>\n",
       "      <td>0.000</td>\n",
       "      <td>0.000</td>\n",
       "      <td>0.000</td>\n",
       "      <td>0.000</td>\n",
       "    </tr>\n",
       "    <tr>\n",
       "      <th>25%</th>\n",
       "      <td>0.001</td>\n",
       "      <td>0.407</td>\n",
       "      <td>0.002</td>\n",
       "      <td>0.004</td>\n",
       "      <td>0.334</td>\n",
       "      <td>0.015</td>\n",
       "    </tr>\n",
       "    <tr>\n",
       "      <th>50%</th>\n",
       "      <td>0.064</td>\n",
       "      <td>1.194</td>\n",
       "      <td>0.128</td>\n",
       "      <td>0.119</td>\n",
       "      <td>0.925</td>\n",
       "      <td>0.238</td>\n",
       "    </tr>\n",
       "    <tr>\n",
       "      <th>75%</th>\n",
       "      <td>0.392</td>\n",
       "      <td>3.267</td>\n",
       "      <td>0.523</td>\n",
       "      <td>0.463</td>\n",
       "      <td>2.426</td>\n",
       "      <td>0.618</td>\n",
       "    </tr>\n",
       "    <tr>\n",
       "      <th>max</th>\n",
       "      <td>1.000</td>\n",
       "      <td>86.839</td>\n",
       "      <td>1.000</td>\n",
       "      <td>1.000</td>\n",
       "      <td>147.267</td>\n",
       "      <td>1.000</td>\n",
       "    </tr>\n",
       "  </tbody>\n",
       "</table>\n",
       "</div>"
      ],
      "text/plain": [
       "model        CF                                PI                        \n",
       "var       p-unc -Log10 pvalue    qvalue     p-unc -Log10 pvalue    qvalue\n",
       "count 7,105.000     7,105.000 7,105.000 7,105.000     7,105.000 7,105.000\n",
       "mean      0.226         3.225     0.280     0.260         2.482     0.336\n",
       "std       0.293         6.101     0.319     0.302         5.331     0.330\n",
       "min       0.000         0.000     0.000     0.000         0.000     0.000\n",
       "25%       0.001         0.407     0.002     0.004         0.334     0.015\n",
       "50%       0.064         1.194     0.128     0.119         0.925     0.238\n",
       "75%       0.392         3.267     0.523     0.463         2.426     0.618\n",
       "max       1.000        86.839     1.000     1.000       147.267     1.000"
      ]
     },
     "execution_count": 10,
     "metadata": {},
     "output_type": "execute_result"
    }
   ],
   "source": [
    "scores.describe()"
   ]
  },
  {
   "cell_type": "markdown",
   "id": "52ecc596",
   "metadata": {
    "papermill": {
     "duration": 0.01415,
     "end_time": "2024-07-13T04:45:33.925726",
     "exception": false,
     "start_time": "2024-07-13T04:45:33.911576",
     "status": "completed"
    },
    "tags": []
   },
   "source": [
    "### One to one comparison of by feature:"
   ]
  },
  {
   "cell_type": "code",
   "execution_count": 11,
   "id": "c6e5a0a6-343b-4f07-8d9d-2cd5cf95ae1f",
   "metadata": {
    "execution": {
     "iopub.execute_input": "2024-07-13T04:45:33.956027Z",
     "iopub.status.busy": "2024-07-13T04:45:33.955743Z",
     "iopub.status.idle": "2024-07-13T04:45:34.761951Z",
     "shell.execute_reply": "2024-07-13T04:45:34.761181Z"
    },
    "papermill": {
     "duration": 0.823684,
     "end_time": "2024-07-13T04:45:34.764092",
     "exception": false,
     "start_time": "2024-07-13T04:45:33.940408",
     "status": "completed"
    },
    "tags": [
     "hide-input"
    ]
   },
   "outputs": [
    {
     "data": {
      "text/html": [
       "<div>\n",
       "<style scoped>\n",
       "    .dataframe tbody tr th:only-of-type {\n",
       "        vertical-align: middle;\n",
       "    }\n",
       "\n",
       "    .dataframe tbody tr th {\n",
       "        vertical-align: top;\n",
       "    }\n",
       "\n",
       "    .dataframe thead tr th {\n",
       "        text-align: left;\n",
       "    }\n",
       "\n",
       "    .dataframe thead tr:last-of-type th {\n",
       "        text-align: right;\n",
       "    }\n",
       "</style>\n",
       "<table border=\"1\" class=\"dataframe\">\n",
       "  <thead>\n",
       "    <tr>\n",
       "      <th></th>\n",
       "      <th>model</th>\n",
       "      <th colspan=\"4\" halign=\"left\">CF</th>\n",
       "      <th colspan=\"4\" halign=\"left\">PI</th>\n",
       "    </tr>\n",
       "    <tr>\n",
       "      <th></th>\n",
       "      <th>var</th>\n",
       "      <th>p-unc</th>\n",
       "      <th>-Log10 pvalue</th>\n",
       "      <th>qvalue</th>\n",
       "      <th>rejected</th>\n",
       "      <th>p-unc</th>\n",
       "      <th>-Log10 pvalue</th>\n",
       "      <th>qvalue</th>\n",
       "      <th>rejected</th>\n",
       "    </tr>\n",
       "    <tr>\n",
       "      <th>protein groups</th>\n",
       "      <th>Source</th>\n",
       "      <th></th>\n",
       "      <th></th>\n",
       "      <th></th>\n",
       "      <th></th>\n",
       "      <th></th>\n",
       "      <th></th>\n",
       "      <th></th>\n",
       "      <th></th>\n",
       "    </tr>\n",
       "  </thead>\n",
       "  <tbody>\n",
       "    <tr>\n",
       "      <th>A0A024QZX5;A0A087X1N8;P35237</th>\n",
       "      <th>AD</th>\n",
       "      <td>0.006</td>\n",
       "      <td>2.256</td>\n",
       "      <td>0.016</td>\n",
       "      <td>True</td>\n",
       "      <td>0.323</td>\n",
       "      <td>0.491</td>\n",
       "      <td>0.485</td>\n",
       "      <td>False</td>\n",
       "    </tr>\n",
       "    <tr>\n",
       "      <th>A0A024R0T9;K7ER74;P02655</th>\n",
       "      <th>AD</th>\n",
       "      <td>0.029</td>\n",
       "      <td>1.538</td>\n",
       "      <td>0.067</td>\n",
       "      <td>False</td>\n",
       "      <td>0.043</td>\n",
       "      <td>1.368</td>\n",
       "      <td>0.108</td>\n",
       "      <td>False</td>\n",
       "    </tr>\n",
       "    <tr>\n",
       "      <th>A0A024R3W6;A0A024R412;O60462;O60462-2;O60462-3;O60462-4;O60462-5;Q7LBX6;X5D2Q8</th>\n",
       "      <th>AD</th>\n",
       "      <td>0.174</td>\n",
       "      <td>0.759</td>\n",
       "      <td>0.285</td>\n",
       "      <td>False</td>\n",
       "      <td>0.096</td>\n",
       "      <td>1.020</td>\n",
       "      <td>0.202</td>\n",
       "      <td>False</td>\n",
       "    </tr>\n",
       "    <tr>\n",
       "      <th>A0A024R644;A0A0A0MRU5;A0A1B0GWI2;O75503</th>\n",
       "      <th>AD</th>\n",
       "      <td>0.255</td>\n",
       "      <td>0.593</td>\n",
       "      <td>0.381</td>\n",
       "      <td>False</td>\n",
       "      <td>0.569</td>\n",
       "      <td>0.245</td>\n",
       "      <td>0.707</td>\n",
       "      <td>False</td>\n",
       "    </tr>\n",
       "    <tr>\n",
       "      <th>A0A075B6H7</th>\n",
       "      <th>AD</th>\n",
       "      <td>0.003</td>\n",
       "      <td>2.479</td>\n",
       "      <td>0.011</td>\n",
       "      <td>True</td>\n",
       "      <td>0.132</td>\n",
       "      <td>0.878</td>\n",
       "      <td>0.257</td>\n",
       "      <td>False</td>\n",
       "    </tr>\n",
       "    <tr>\n",
       "      <th>...</th>\n",
       "      <th>...</th>\n",
       "      <td>...</td>\n",
       "      <td>...</td>\n",
       "      <td>...</td>\n",
       "      <td>...</td>\n",
       "      <td>...</td>\n",
       "      <td>...</td>\n",
       "      <td>...</td>\n",
       "      <td>...</td>\n",
       "    </tr>\n",
       "    <tr>\n",
       "      <th>Q9Y6R7</th>\n",
       "      <th>AD</th>\n",
       "      <td>0.175</td>\n",
       "      <td>0.756</td>\n",
       "      <td>0.287</td>\n",
       "      <td>False</td>\n",
       "      <td>0.175</td>\n",
       "      <td>0.756</td>\n",
       "      <td>0.315</td>\n",
       "      <td>False</td>\n",
       "    </tr>\n",
       "    <tr>\n",
       "      <th>Q9Y6X5</th>\n",
       "      <th>AD</th>\n",
       "      <td>0.089</td>\n",
       "      <td>1.049</td>\n",
       "      <td>0.167</td>\n",
       "      <td>False</td>\n",
       "      <td>0.027</td>\n",
       "      <td>1.574</td>\n",
       "      <td>0.075</td>\n",
       "      <td>False</td>\n",
       "    </tr>\n",
       "    <tr>\n",
       "      <th>Q9Y6Y8;Q9Y6Y8-2</th>\n",
       "      <th>AD</th>\n",
       "      <td>0.083</td>\n",
       "      <td>1.079</td>\n",
       "      <td>0.158</td>\n",
       "      <td>False</td>\n",
       "      <td>0.083</td>\n",
       "      <td>1.079</td>\n",
       "      <td>0.181</td>\n",
       "      <td>False</td>\n",
       "    </tr>\n",
       "    <tr>\n",
       "      <th>Q9Y6Y9</th>\n",
       "      <th>AD</th>\n",
       "      <td>0.623</td>\n",
       "      <td>0.206</td>\n",
       "      <td>0.729</td>\n",
       "      <td>False</td>\n",
       "      <td>0.813</td>\n",
       "      <td>0.090</td>\n",
       "      <td>0.888</td>\n",
       "      <td>False</td>\n",
       "    </tr>\n",
       "    <tr>\n",
       "      <th>S4R3U6</th>\n",
       "      <th>AD</th>\n",
       "      <td>0.083</td>\n",
       "      <td>1.081</td>\n",
       "      <td>0.158</td>\n",
       "      <td>False</td>\n",
       "      <td>0.787</td>\n",
       "      <td>0.104</td>\n",
       "      <td>0.870</td>\n",
       "      <td>False</td>\n",
       "    </tr>\n",
       "  </tbody>\n",
       "</table>\n",
       "<p>1421 rows × 8 columns</p>\n",
       "</div>"
      ],
      "text/plain": [
       "model                                                        CF                \\\n",
       "var                                                       p-unc -Log10 pvalue   \n",
       "protein groups                                     Source                       \n",
       "A0A024QZX5;A0A087X1N8;P35237                       AD     0.006         2.256   \n",
       "A0A024R0T9;K7ER74;P02655                           AD     0.029         1.538   \n",
       "A0A024R3W6;A0A024R412;O60462;O60462-2;O60462-3;... AD     0.174         0.759   \n",
       "A0A024R644;A0A0A0MRU5;A0A1B0GWI2;O75503            AD     0.255         0.593   \n",
       "A0A075B6H7                                         AD     0.003         2.479   \n",
       "...                                                         ...           ...   \n",
       "Q9Y6R7                                             AD     0.175         0.756   \n",
       "Q9Y6X5                                             AD     0.089         1.049   \n",
       "Q9Y6Y8;Q9Y6Y8-2                                    AD     0.083         1.079   \n",
       "Q9Y6Y9                                             AD     0.623         0.206   \n",
       "S4R3U6                                             AD     0.083         1.081   \n",
       "\n",
       "model                                                                      \\\n",
       "var                                                       qvalue rejected   \n",
       "protein groups                                     Source                   \n",
       "A0A024QZX5;A0A087X1N8;P35237                       AD      0.016     True   \n",
       "A0A024R0T9;K7ER74;P02655                           AD      0.067    False   \n",
       "A0A024R3W6;A0A024R412;O60462;O60462-2;O60462-3;... AD      0.285    False   \n",
       "A0A024R644;A0A0A0MRU5;A0A1B0GWI2;O75503            AD      0.381    False   \n",
       "A0A075B6H7                                         AD      0.011     True   \n",
       "...                                                          ...      ...   \n",
       "Q9Y6R7                                             AD      0.287    False   \n",
       "Q9Y6X5                                             AD      0.167    False   \n",
       "Q9Y6Y8;Q9Y6Y8-2                                    AD      0.158    False   \n",
       "Q9Y6Y9                                             AD      0.729    False   \n",
       "S4R3U6                                             AD      0.158    False   \n",
       "\n",
       "model                                                        PI                \\\n",
       "var                                                       p-unc -Log10 pvalue   \n",
       "protein groups                                     Source                       \n",
       "A0A024QZX5;A0A087X1N8;P35237                       AD     0.323         0.491   \n",
       "A0A024R0T9;K7ER74;P02655                           AD     0.043         1.368   \n",
       "A0A024R3W6;A0A024R412;O60462;O60462-2;O60462-3;... AD     0.096         1.020   \n",
       "A0A024R644;A0A0A0MRU5;A0A1B0GWI2;O75503            AD     0.569         0.245   \n",
       "A0A075B6H7                                         AD     0.132         0.878   \n",
       "...                                                         ...           ...   \n",
       "Q9Y6R7                                             AD     0.175         0.756   \n",
       "Q9Y6X5                                             AD     0.027         1.574   \n",
       "Q9Y6Y8;Q9Y6Y8-2                                    AD     0.083         1.079   \n",
       "Q9Y6Y9                                             AD     0.813         0.090   \n",
       "S4R3U6                                             AD     0.787         0.104   \n",
       "\n",
       "model                                                                      \n",
       "var                                                       qvalue rejected  \n",
       "protein groups                                     Source                  \n",
       "A0A024QZX5;A0A087X1N8;P35237                       AD      0.485    False  \n",
       "A0A024R0T9;K7ER74;P02655                           AD      0.108    False  \n",
       "A0A024R3W6;A0A024R412;O60462;O60462-2;O60462-3;... AD      0.202    False  \n",
       "A0A024R644;A0A0A0MRU5;A0A1B0GWI2;O75503            AD      0.707    False  \n",
       "A0A075B6H7                                         AD      0.257    False  \n",
       "...                                                          ...      ...  \n",
       "Q9Y6R7                                             AD      0.315    False  \n",
       "Q9Y6X5                                             AD      0.075    False  \n",
       "Q9Y6Y8;Q9Y6Y8-2                                    AD      0.181    False  \n",
       "Q9Y6Y9                                             AD      0.888    False  \n",
       "S4R3U6                                             AD      0.870    False  \n",
       "\n",
       "[1421 rows x 8 columns]"
      ]
     },
     "execution_count": 11,
     "metadata": {},
     "output_type": "execute_result"
    }
   ],
   "source": [
    "scores = scores.loc[pd.IndexSlice[:, args.target], :]\n",
    "scores.to_excel(writer, 'scores', **writer_args)\n",
    "scores"
   ]
  },
  {
   "cell_type": "markdown",
   "id": "36e14580",
   "metadata": {
    "papermill": {
     "duration": 0.030929,
     "end_time": "2024-07-13T04:45:34.821610",
     "exception": false,
     "start_time": "2024-07-13T04:45:34.790681",
     "status": "completed"
    },
    "tags": []
   },
   "source": [
    "And the descriptive statistics\n",
    "of the numeric values:"
   ]
  },
  {
   "cell_type": "code",
   "execution_count": 12,
   "id": "0e45e80a-32d8-4c6c-b0a4-5ce8b7f9e121",
   "metadata": {
    "execution": {
     "iopub.execute_input": "2024-07-13T04:45:34.877649Z",
     "iopub.status.busy": "2024-07-13T04:45:34.876997Z",
     "iopub.status.idle": "2024-07-13T04:45:34.949245Z",
     "shell.execute_reply": "2024-07-13T04:45:34.948455Z"
    },
    "papermill": {
     "duration": 0.102338,
     "end_time": "2024-07-13T04:45:34.951137",
     "exception": false,
     "start_time": "2024-07-13T04:45:34.848799",
     "status": "completed"
    },
    "tags": [
     "hide-input"
    ]
   },
   "outputs": [
    {
     "data": {
      "text/html": [
       "<div>\n",
       "<style scoped>\n",
       "    .dataframe tbody tr th:only-of-type {\n",
       "        vertical-align: middle;\n",
       "    }\n",
       "\n",
       "    .dataframe tbody tr th {\n",
       "        vertical-align: top;\n",
       "    }\n",
       "\n",
       "    .dataframe thead tr th {\n",
       "        text-align: left;\n",
       "    }\n",
       "</style>\n",
       "<table border=\"1\" class=\"dataframe\">\n",
       "  <thead>\n",
       "    <tr>\n",
       "      <th>model</th>\n",
       "      <th colspan=\"3\" halign=\"left\">CF</th>\n",
       "      <th colspan=\"3\" halign=\"left\">PI</th>\n",
       "    </tr>\n",
       "    <tr>\n",
       "      <th>var</th>\n",
       "      <th>p-unc</th>\n",
       "      <th>-Log10 pvalue</th>\n",
       "      <th>qvalue</th>\n",
       "      <th>p-unc</th>\n",
       "      <th>-Log10 pvalue</th>\n",
       "      <th>qvalue</th>\n",
       "    </tr>\n",
       "  </thead>\n",
       "  <tbody>\n",
       "    <tr>\n",
       "      <th>count</th>\n",
       "      <td>1,421.000</td>\n",
       "      <td>1,421.000</td>\n",
       "      <td>1,421.000</td>\n",
       "      <td>1,421.000</td>\n",
       "      <td>1,421.000</td>\n",
       "      <td>1,421.000</td>\n",
       "    </tr>\n",
       "    <tr>\n",
       "      <th>mean</th>\n",
       "      <td>0.234</td>\n",
       "      <td>1.596</td>\n",
       "      <td>0.296</td>\n",
       "      <td>0.253</td>\n",
       "      <td>1.409</td>\n",
       "      <td>0.335</td>\n",
       "    </tr>\n",
       "    <tr>\n",
       "      <th>std</th>\n",
       "      <td>0.285</td>\n",
       "      <td>1.858</td>\n",
       "      <td>0.309</td>\n",
       "      <td>0.290</td>\n",
       "      <td>1.629</td>\n",
       "      <td>0.316</td>\n",
       "    </tr>\n",
       "    <tr>\n",
       "      <th>min</th>\n",
       "      <td>0.000</td>\n",
       "      <td>0.002</td>\n",
       "      <td>0.000</td>\n",
       "      <td>0.000</td>\n",
       "      <td>0.000</td>\n",
       "      <td>0.000</td>\n",
       "    </tr>\n",
       "    <tr>\n",
       "      <th>25%</th>\n",
       "      <td>0.007</td>\n",
       "      <td>0.395</td>\n",
       "      <td>0.020</td>\n",
       "      <td>0.011</td>\n",
       "      <td>0.364</td>\n",
       "      <td>0.037</td>\n",
       "    </tr>\n",
       "    <tr>\n",
       "      <th>50%</th>\n",
       "      <td>0.089</td>\n",
       "      <td>1.049</td>\n",
       "      <td>0.167</td>\n",
       "      <td>0.122</td>\n",
       "      <td>0.913</td>\n",
       "      <td>0.243</td>\n",
       "    </tr>\n",
       "    <tr>\n",
       "      <th>75%</th>\n",
       "      <td>0.402</td>\n",
       "      <td>2.151</td>\n",
       "      <td>0.532</td>\n",
       "      <td>0.432</td>\n",
       "      <td>1.943</td>\n",
       "      <td>0.592</td>\n",
       "    </tr>\n",
       "    <tr>\n",
       "      <th>max</th>\n",
       "      <td>0.995</td>\n",
       "      <td>21.399</td>\n",
       "      <td>0.997</td>\n",
       "      <td>0.999</td>\n",
       "      <td>21.601</td>\n",
       "      <td>0.999</td>\n",
       "    </tr>\n",
       "  </tbody>\n",
       "</table>\n",
       "</div>"
      ],
      "text/plain": [
       "model        CF                                PI                        \n",
       "var       p-unc -Log10 pvalue    qvalue     p-unc -Log10 pvalue    qvalue\n",
       "count 1,421.000     1,421.000 1,421.000 1,421.000     1,421.000 1,421.000\n",
       "mean      0.234         1.596     0.296     0.253         1.409     0.335\n",
       "std       0.285         1.858     0.309     0.290         1.629     0.316\n",
       "min       0.000         0.002     0.000     0.000         0.000     0.000\n",
       "25%       0.007         0.395     0.020     0.011         0.364     0.037\n",
       "50%       0.089         1.049     0.167     0.122         0.913     0.243\n",
       "75%       0.402         2.151     0.532     0.432         1.943     0.592\n",
       "max       0.995        21.399     0.997     0.999        21.601     0.999"
      ]
     },
     "execution_count": 12,
     "metadata": {},
     "output_type": "execute_result"
    }
   ],
   "source": [
    "scores.describe()"
   ]
  },
  {
   "cell_type": "markdown",
   "id": "e520d6dc",
   "metadata": {
    "papermill": {
     "duration": 0.02746,
     "end_time": "2024-07-13T04:45:35.008400",
     "exception": false,
     "start_time": "2024-07-13T04:45:34.980940",
     "status": "completed"
    },
    "tags": []
   },
   "source": [
    "and the boolean decision values"
   ]
  },
  {
   "cell_type": "code",
   "execution_count": 13,
   "id": "53bd5597-221c-4d54-abf2-82956db42594",
   "metadata": {
    "execution": {
     "iopub.execute_input": "2024-07-13T04:45:35.058532Z",
     "iopub.status.busy": "2024-07-13T04:45:35.057797Z",
     "iopub.status.idle": "2024-07-13T04:45:35.087567Z",
     "shell.execute_reply": "2024-07-13T04:45:35.086814Z"
    },
    "lines_to_next_cell": 2,
    "papermill": {
     "duration": 0.053547,
     "end_time": "2024-07-13T04:45:35.089227",
     "exception": false,
     "start_time": "2024-07-13T04:45:35.035680",
     "status": "completed"
    },
    "tags": [
     "hide-input"
    ]
   },
   "outputs": [
    {
     "data": {
      "text/html": [
       "<div>\n",
       "<style scoped>\n",
       "    .dataframe tbody tr th:only-of-type {\n",
       "        vertical-align: middle;\n",
       "    }\n",
       "\n",
       "    .dataframe tbody tr th {\n",
       "        vertical-align: top;\n",
       "    }\n",
       "\n",
       "    .dataframe thead tr th {\n",
       "        text-align: left;\n",
       "    }\n",
       "</style>\n",
       "<table border=\"1\" class=\"dataframe\">\n",
       "  <thead>\n",
       "    <tr>\n",
       "      <th>model</th>\n",
       "      <th>CF</th>\n",
       "      <th>PI</th>\n",
       "    </tr>\n",
       "    <tr>\n",
       "      <th>var</th>\n",
       "      <th>rejected</th>\n",
       "      <th>rejected</th>\n",
       "    </tr>\n",
       "  </thead>\n",
       "  <tbody>\n",
       "    <tr>\n",
       "      <th>count</th>\n",
       "      <td>1421</td>\n",
       "      <td>1421</td>\n",
       "    </tr>\n",
       "    <tr>\n",
       "      <th>unique</th>\n",
       "      <td>2</td>\n",
       "      <td>2</td>\n",
       "    </tr>\n",
       "    <tr>\n",
       "      <th>top</th>\n",
       "      <td>False</td>\n",
       "      <td>False</td>\n",
       "    </tr>\n",
       "    <tr>\n",
       "      <th>freq</th>\n",
       "      <td>946</td>\n",
       "      <td>1031</td>\n",
       "    </tr>\n",
       "  </tbody>\n",
       "</table>\n",
       "</div>"
      ],
      "text/plain": [
       "model        CF       PI\n",
       "var    rejected rejected\n",
       "count      1421     1421\n",
       "unique        2        2\n",
       "top       False    False\n",
       "freq        946     1031"
      ]
     },
     "execution_count": 13,
     "metadata": {},
     "output_type": "execute_result"
    }
   ],
   "source": [
    "scores.describe(include=['bool', 'O'])"
   ]
  },
  {
   "cell_type": "markdown",
   "id": "bef83742-05e5-473b-892e-dd286cb3a31f",
   "metadata": {
    "papermill": {
     "duration": 0.027639,
     "end_time": "2024-07-13T04:45:35.145086",
     "exception": false,
     "start_time": "2024-07-13T04:45:35.117447",
     "status": "completed"
    },
    "tags": []
   },
   "source": [
    "## Load frequencies of observed features"
   ]
  },
  {
   "cell_type": "code",
   "execution_count": 14,
   "id": "2a926ba1-0f3b-4089-a349-b6d66128cf37",
   "metadata": {
    "execution": {
     "iopub.execute_input": "2024-07-13T04:45:35.214834Z",
     "iopub.status.busy": "2024-07-13T04:45:35.214499Z",
     "iopub.status.idle": "2024-07-13T04:45:35.244886Z",
     "shell.execute_reply": "2024-07-13T04:45:35.244069Z"
    },
    "papermill": {
     "duration": 0.065301,
     "end_time": "2024-07-13T04:45:35.246936",
     "exception": false,
     "start_time": "2024-07-13T04:45:35.181635",
     "status": "completed"
    },
    "tags": [
     "hide-input"
    ]
   },
   "outputs": [
    {
     "data": {
      "text/html": [
       "<div>\n",
       "<style scoped>\n",
       "    .dataframe tbody tr th:only-of-type {\n",
       "        vertical-align: middle;\n",
       "    }\n",
       "\n",
       "    .dataframe tbody tr th {\n",
       "        vertical-align: top;\n",
       "    }\n",
       "\n",
       "    .dataframe thead tr th {\n",
       "        text-align: left;\n",
       "    }\n",
       "\n",
       "    .dataframe thead tr:last-of-type th {\n",
       "        text-align: right;\n",
       "    }\n",
       "</style>\n",
       "<table border=\"1\" class=\"dataframe\">\n",
       "  <thead>\n",
       "    <tr>\n",
       "      <th></th>\n",
       "      <th>data</th>\n",
       "    </tr>\n",
       "    <tr>\n",
       "      <th></th>\n",
       "      <th>frequency</th>\n",
       "    </tr>\n",
       "    <tr>\n",
       "      <th>protein groups</th>\n",
       "      <th></th>\n",
       "    </tr>\n",
       "  </thead>\n",
       "  <tbody>\n",
       "    <tr>\n",
       "      <th>A0A024QZX5;A0A087X1N8;P35237</th>\n",
       "      <td>186</td>\n",
       "    </tr>\n",
       "    <tr>\n",
       "      <th>A0A024R0T9;K7ER74;P02655</th>\n",
       "      <td>195</td>\n",
       "    </tr>\n",
       "    <tr>\n",
       "      <th>A0A024R3W6;A0A024R412;O60462;O60462-2;O60462-3;O60462-4;O60462-5;Q7LBX6;X5D2Q8</th>\n",
       "      <td>174</td>\n",
       "    </tr>\n",
       "    <tr>\n",
       "      <th>A0A024R644;A0A0A0MRU5;A0A1B0GWI2;O75503</th>\n",
       "      <td>196</td>\n",
       "    </tr>\n",
       "    <tr>\n",
       "      <th>A0A075B6H7</th>\n",
       "      <td>91</td>\n",
       "    </tr>\n",
       "    <tr>\n",
       "      <th>...</th>\n",
       "      <td>...</td>\n",
       "    </tr>\n",
       "    <tr>\n",
       "      <th>Q9Y6R7</th>\n",
       "      <td>197</td>\n",
       "    </tr>\n",
       "    <tr>\n",
       "      <th>Q9Y6X5</th>\n",
       "      <td>173</td>\n",
       "    </tr>\n",
       "    <tr>\n",
       "      <th>Q9Y6Y8;Q9Y6Y8-2</th>\n",
       "      <td>197</td>\n",
       "    </tr>\n",
       "    <tr>\n",
       "      <th>Q9Y6Y9</th>\n",
       "      <td>119</td>\n",
       "    </tr>\n",
       "    <tr>\n",
       "      <th>S4R3U6</th>\n",
       "      <td>126</td>\n",
       "    </tr>\n",
       "  </tbody>\n",
       "</table>\n",
       "<p>1421 rows × 1 columns</p>\n",
       "</div>"
      ],
      "text/plain": [
       "                                                        data\n",
       "                                                   frequency\n",
       "protein groups                                              \n",
       "A0A024QZX5;A0A087X1N8;P35237                             186\n",
       "A0A024R0T9;K7ER74;P02655                                 195\n",
       "A0A024R3W6;A0A024R412;O60462;O60462-2;O60462-3;...       174\n",
       "A0A024R644;A0A0A0MRU5;A0A1B0GWI2;O75503                  196\n",
       "A0A075B6H7                                                91\n",
       "...                                                      ...\n",
       "Q9Y6R7                                                   197\n",
       "Q9Y6X5                                                   173\n",
       "Q9Y6Y8;Q9Y6Y8-2                                          197\n",
       "Q9Y6Y9                                                   119\n",
       "S4R3U6                                                   126\n",
       "\n",
       "[1421 rows x 1 columns]"
      ]
     },
     "execution_count": 14,
     "metadata": {},
     "output_type": "execute_result"
    }
   ],
   "source": [
    "freq_feat = pd.read_csv(args.freq_features_observed, index_col=0)\n",
    "freq_feat.columns = pd.MultiIndex.from_tuples([('data', 'frequency'),])\n",
    "freq_feat"
   ]
  },
  {
   "cell_type": "markdown",
   "id": "408eacfe-770f-42ff-9057-2a98274e1ae3",
   "metadata": {
    "papermill": {
     "duration": 0.023912,
     "end_time": "2024-07-13T04:45:35.299504",
     "exception": false,
     "start_time": "2024-07-13T04:45:35.275592",
     "status": "completed"
    },
    "tags": []
   },
   "source": [
    "## Compare shared features"
   ]
  },
  {
   "cell_type": "code",
   "execution_count": 15,
   "id": "5b2dfb0f-195b-4044-a228-2d784ea2a458",
   "metadata": {
    "execution": {
     "iopub.execute_input": "2024-07-13T04:45:35.385325Z",
     "iopub.status.busy": "2024-07-13T04:45:35.384885Z",
     "iopub.status.idle": "2024-07-13T04:45:35.433535Z",
     "shell.execute_reply": "2024-07-13T04:45:35.432763Z"
    },
    "papermill": {
     "duration": 0.083709,
     "end_time": "2024-07-13T04:45:35.435565",
     "exception": false,
     "start_time": "2024-07-13T04:45:35.351856",
     "status": "completed"
    },
    "tags": [
     "hide-input"
    ]
   },
   "outputs": [
    {
     "data": {
      "text/html": [
       "<div>\n",
       "<style scoped>\n",
       "    .dataframe tbody tr th:only-of-type {\n",
       "        vertical-align: middle;\n",
       "    }\n",
       "\n",
       "    .dataframe tbody tr th {\n",
       "        vertical-align: top;\n",
       "    }\n",
       "\n",
       "    .dataframe thead tr th {\n",
       "        text-align: left;\n",
       "    }\n",
       "\n",
       "    .dataframe thead tr:last-of-type th {\n",
       "        text-align: right;\n",
       "    }\n",
       "</style>\n",
       "<table border=\"1\" class=\"dataframe\">\n",
       "  <thead>\n",
       "    <tr>\n",
       "      <th></th>\n",
       "      <th colspan=\"4\" halign=\"left\">CF</th>\n",
       "      <th colspan=\"4\" halign=\"left\">PI</th>\n",
       "      <th>data</th>\n",
       "    </tr>\n",
       "    <tr>\n",
       "      <th></th>\n",
       "      <th>p-unc</th>\n",
       "      <th>-Log10 pvalue</th>\n",
       "      <th>qvalue</th>\n",
       "      <th>rejected</th>\n",
       "      <th>p-unc</th>\n",
       "      <th>-Log10 pvalue</th>\n",
       "      <th>qvalue</th>\n",
       "      <th>rejected</th>\n",
       "      <th>frequency</th>\n",
       "    </tr>\n",
       "    <tr>\n",
       "      <th>protein groups</th>\n",
       "      <th></th>\n",
       "      <th></th>\n",
       "      <th></th>\n",
       "      <th></th>\n",
       "      <th></th>\n",
       "      <th></th>\n",
       "      <th></th>\n",
       "      <th></th>\n",
       "      <th></th>\n",
       "    </tr>\n",
       "  </thead>\n",
       "  <tbody>\n",
       "    <tr>\n",
       "      <th>A0A024QZX5;A0A087X1N8;P35237</th>\n",
       "      <td>0.006</td>\n",
       "      <td>2.256</td>\n",
       "      <td>0.016</td>\n",
       "      <td>True</td>\n",
       "      <td>0.323</td>\n",
       "      <td>0.491</td>\n",
       "      <td>0.485</td>\n",
       "      <td>False</td>\n",
       "      <td>186</td>\n",
       "    </tr>\n",
       "    <tr>\n",
       "      <th>A0A024R0T9;K7ER74;P02655</th>\n",
       "      <td>0.029</td>\n",
       "      <td>1.538</td>\n",
       "      <td>0.067</td>\n",
       "      <td>False</td>\n",
       "      <td>0.043</td>\n",
       "      <td>1.368</td>\n",
       "      <td>0.108</td>\n",
       "      <td>False</td>\n",
       "      <td>195</td>\n",
       "    </tr>\n",
       "    <tr>\n",
       "      <th>A0A024R3W6;A0A024R412;O60462;O60462-2;O60462-3;O60462-4;O60462-5;Q7LBX6;X5D2Q8</th>\n",
       "      <td>0.174</td>\n",
       "      <td>0.759</td>\n",
       "      <td>0.285</td>\n",
       "      <td>False</td>\n",
       "      <td>0.096</td>\n",
       "      <td>1.020</td>\n",
       "      <td>0.202</td>\n",
       "      <td>False</td>\n",
       "      <td>174</td>\n",
       "    </tr>\n",
       "    <tr>\n",
       "      <th>A0A024R644;A0A0A0MRU5;A0A1B0GWI2;O75503</th>\n",
       "      <td>0.255</td>\n",
       "      <td>0.593</td>\n",
       "      <td>0.381</td>\n",
       "      <td>False</td>\n",
       "      <td>0.569</td>\n",
       "      <td>0.245</td>\n",
       "      <td>0.707</td>\n",
       "      <td>False</td>\n",
       "      <td>196</td>\n",
       "    </tr>\n",
       "    <tr>\n",
       "      <th>A0A075B6H7</th>\n",
       "      <td>0.003</td>\n",
       "      <td>2.479</td>\n",
       "      <td>0.011</td>\n",
       "      <td>True</td>\n",
       "      <td>0.132</td>\n",
       "      <td>0.878</td>\n",
       "      <td>0.257</td>\n",
       "      <td>False</td>\n",
       "      <td>91</td>\n",
       "    </tr>\n",
       "    <tr>\n",
       "      <th>...</th>\n",
       "      <td>...</td>\n",
       "      <td>...</td>\n",
       "      <td>...</td>\n",
       "      <td>...</td>\n",
       "      <td>...</td>\n",
       "      <td>...</td>\n",
       "      <td>...</td>\n",
       "      <td>...</td>\n",
       "      <td>...</td>\n",
       "    </tr>\n",
       "    <tr>\n",
       "      <th>Q9Y6R7</th>\n",
       "      <td>0.175</td>\n",
       "      <td>0.756</td>\n",
       "      <td>0.287</td>\n",
       "      <td>False</td>\n",
       "      <td>0.175</td>\n",
       "      <td>0.756</td>\n",
       "      <td>0.315</td>\n",
       "      <td>False</td>\n",
       "      <td>197</td>\n",
       "    </tr>\n",
       "    <tr>\n",
       "      <th>Q9Y6X5</th>\n",
       "      <td>0.089</td>\n",
       "      <td>1.049</td>\n",
       "      <td>0.167</td>\n",
       "      <td>False</td>\n",
       "      <td>0.027</td>\n",
       "      <td>1.574</td>\n",
       "      <td>0.075</td>\n",
       "      <td>False</td>\n",
       "      <td>173</td>\n",
       "    </tr>\n",
       "    <tr>\n",
       "      <th>Q9Y6Y8;Q9Y6Y8-2</th>\n",
       "      <td>0.083</td>\n",
       "      <td>1.079</td>\n",
       "      <td>0.158</td>\n",
       "      <td>False</td>\n",
       "      <td>0.083</td>\n",
       "      <td>1.079</td>\n",
       "      <td>0.181</td>\n",
       "      <td>False</td>\n",
       "      <td>197</td>\n",
       "    </tr>\n",
       "    <tr>\n",
       "      <th>Q9Y6Y9</th>\n",
       "      <td>0.623</td>\n",
       "      <td>0.206</td>\n",
       "      <td>0.729</td>\n",
       "      <td>False</td>\n",
       "      <td>0.813</td>\n",
       "      <td>0.090</td>\n",
       "      <td>0.888</td>\n",
       "      <td>False</td>\n",
       "      <td>119</td>\n",
       "    </tr>\n",
       "    <tr>\n",
       "      <th>S4R3U6</th>\n",
       "      <td>0.083</td>\n",
       "      <td>1.081</td>\n",
       "      <td>0.158</td>\n",
       "      <td>False</td>\n",
       "      <td>0.787</td>\n",
       "      <td>0.104</td>\n",
       "      <td>0.870</td>\n",
       "      <td>False</td>\n",
       "      <td>126</td>\n",
       "    </tr>\n",
       "  </tbody>\n",
       "</table>\n",
       "<p>1421 rows × 9 columns</p>\n",
       "</div>"
      ],
      "text/plain": [
       "                                                      CF                       \\\n",
       "                                                   p-unc -Log10 pvalue qvalue   \n",
       "protein groups                                                                  \n",
       "A0A024QZX5;A0A087X1N8;P35237                       0.006         2.256  0.016   \n",
       "A0A024R0T9;K7ER74;P02655                           0.029         1.538  0.067   \n",
       "A0A024R3W6;A0A024R412;O60462;O60462-2;O60462-3;... 0.174         0.759  0.285   \n",
       "A0A024R644;A0A0A0MRU5;A0A1B0GWI2;O75503            0.255         0.593  0.381   \n",
       "A0A075B6H7                                         0.003         2.479  0.011   \n",
       "...                                                  ...           ...    ...   \n",
       "Q9Y6R7                                             0.175         0.756  0.287   \n",
       "Q9Y6X5                                             0.089         1.049  0.167   \n",
       "Q9Y6Y8;Q9Y6Y8-2                                    0.083         1.079  0.158   \n",
       "Q9Y6Y9                                             0.623         0.206  0.729   \n",
       "S4R3U6                                             0.083         1.081  0.158   \n",
       "\n",
       "                                                               PI  \\\n",
       "                                                   rejected p-unc   \n",
       "protein groups                                                      \n",
       "A0A024QZX5;A0A087X1N8;P35237                           True 0.323   \n",
       "A0A024R0T9;K7ER74;P02655                              False 0.043   \n",
       "A0A024R3W6;A0A024R412;O60462;O60462-2;O60462-3;...    False 0.096   \n",
       "A0A024R644;A0A0A0MRU5;A0A1B0GWI2;O75503               False 0.569   \n",
       "A0A075B6H7                                             True 0.132   \n",
       "...                                                     ...   ...   \n",
       "Q9Y6R7                                                False 0.175   \n",
       "Q9Y6X5                                                False 0.027   \n",
       "Q9Y6Y8;Q9Y6Y8-2                                       False 0.083   \n",
       "Q9Y6Y9                                                False 0.813   \n",
       "S4R3U6                                                False 0.787   \n",
       "\n",
       "                                                                         \\\n",
       "                                                   -Log10 pvalue qvalue   \n",
       "protein groups                                                            \n",
       "A0A024QZX5;A0A087X1N8;P35237                               0.491  0.485   \n",
       "A0A024R0T9;K7ER74;P02655                                   1.368  0.108   \n",
       "A0A024R3W6;A0A024R412;O60462;O60462-2;O60462-3;...         1.020  0.202   \n",
       "A0A024R644;A0A0A0MRU5;A0A1B0GWI2;O75503                    0.245  0.707   \n",
       "A0A075B6H7                                                 0.878  0.257   \n",
       "...                                                          ...    ...   \n",
       "Q9Y6R7                                                     0.756  0.315   \n",
       "Q9Y6X5                                                     1.574  0.075   \n",
       "Q9Y6Y8;Q9Y6Y8-2                                            1.079  0.181   \n",
       "Q9Y6Y9                                                     0.090  0.888   \n",
       "S4R3U6                                                     0.104  0.870   \n",
       "\n",
       "                                                                 data  \n",
       "                                                   rejected frequency  \n",
       "protein groups                                                         \n",
       "A0A024QZX5;A0A087X1N8;P35237                          False       186  \n",
       "A0A024R0T9;K7ER74;P02655                              False       195  \n",
       "A0A024R3W6;A0A024R412;O60462;O60462-2;O60462-3;...    False       174  \n",
       "A0A024R644;A0A0A0MRU5;A0A1B0GWI2;O75503               False       196  \n",
       "A0A075B6H7                                            False        91  \n",
       "...                                                     ...       ...  \n",
       "Q9Y6R7                                                False       197  \n",
       "Q9Y6X5                                                False       173  \n",
       "Q9Y6Y8;Q9Y6Y8-2                                       False       197  \n",
       "Q9Y6Y9                                                False       119  \n",
       "S4R3U6                                                False       126  \n",
       "\n",
       "[1421 rows x 9 columns]"
      ]
     },
     "execution_count": 15,
     "metadata": {},
     "output_type": "execute_result"
    }
   ],
   "source": [
    "scores_common = (scores\n",
    "                 .dropna()\n",
    "                 .reset_index(-1, drop=True)\n",
    "                 ).join(\n",
    "    freq_feat, how='left'\n",
    ")\n",
    "scores_common"
   ]
  },
  {
   "cell_type": "markdown",
   "id": "62a9eefd",
   "metadata": {
    "papermill": {
     "duration": 0.028771,
     "end_time": "2024-07-13T04:45:35.497719",
     "exception": false,
     "start_time": "2024-07-13T04:45:35.468948",
     "status": "completed"
    },
    "tags": []
   },
   "source": [
    "### Annotate decisions in Confusion Table style:"
   ]
  },
  {
   "cell_type": "code",
   "execution_count": 16,
   "id": "80cf4145-070d-457a-bb74-ee64299809e7",
   "metadata": {
    "execution": {
     "iopub.execute_input": "2024-07-13T04:45:35.573190Z",
     "iopub.status.busy": "2024-07-13T04:45:35.572806Z",
     "iopub.status.idle": "2024-07-13T04:45:35.598392Z",
     "shell.execute_reply": "2024-07-13T04:45:35.597669Z"
    },
    "papermill": {
     "duration": 0.078085,
     "end_time": "2024-07-13T04:45:35.600552",
     "exception": false,
     "start_time": "2024-07-13T04:45:35.522467",
     "status": "completed"
    },
    "tags": [
     "hide-input"
    ]
   },
   "outputs": [
    {
     "data": {
      "text/plain": [
       "Differential Analysis Comparison\n",
       "CF (no)  - PI (no)    894\n",
       "CF (yes) - PI (yes)   338\n",
       "CF (yes) - PI (no)    137\n",
       "CF (no)  - PI (yes)    52\n",
       "Name: count, dtype: int64"
      ]
     },
     "execution_count": 16,
     "metadata": {},
     "output_type": "execute_result"
    }
   ],
   "source": [
    "def annotate_decision(scores, model, model_column):\n",
    "    return scores[(model_column, 'rejected')].replace({False: f'{model} (no) ', True: f'{model} (yes)'})\n",
    "\n",
    "\n",
    "annotations = None\n",
    "for model, model_column in models.items():\n",
    "    if annotations is not None:\n",
    "        annotations += ' - '\n",
    "        annotations += annotate_decision(scores_common,\n",
    "                                         model=model, model_column=model_column)\n",
    "    else:\n",
    "        annotations = annotate_decision(\n",
    "            scores_common, model=model, model_column=model_column)\n",
    "annotations.name = 'Differential Analysis Comparison'\n",
    "annotations.value_counts()"
   ]
  },
  {
   "cell_type": "markdown",
   "id": "0942d395",
   "metadata": {
    "papermill": {
     "duration": 0.028665,
     "end_time": "2024-07-13T04:45:35.666690",
     "exception": false,
     "start_time": "2024-07-13T04:45:35.638025",
     "status": "completed"
    },
    "tags": []
   },
   "source": [
    "### List different decisions between models"
   ]
  },
  {
   "cell_type": "code",
   "execution_count": 17,
   "id": "cda5ffa4-9a97-4a49-aaba-34e83ef7940a",
   "metadata": {
    "execution": {
     "iopub.execute_input": "2024-07-13T04:45:35.741945Z",
     "iopub.status.busy": "2024-07-13T04:45:35.741600Z",
     "iopub.status.idle": "2024-07-13T04:45:35.895316Z",
     "shell.execute_reply": "2024-07-13T04:45:35.894560Z"
    },
    "papermill": {
     "duration": 0.197548,
     "end_time": "2024-07-13T04:45:35.897268",
     "exception": false,
     "start_time": "2024-07-13T04:45:35.699720",
     "status": "completed"
    },
    "tags": [
     "hide-input"
    ]
   },
   "outputs": [
    {
     "name": "stderr",
     "output_type": "stream",
     "text": [
      "root - INFO     Writen to Excel file under sheet 'differences'.\n"
     ]
    },
    {
     "data": {
      "text/html": [
       "<div>\n",
       "<style scoped>\n",
       "    .dataframe tbody tr th:only-of-type {\n",
       "        vertical-align: middle;\n",
       "    }\n",
       "\n",
       "    .dataframe tbody tr th {\n",
       "        vertical-align: top;\n",
       "    }\n",
       "\n",
       "    .dataframe thead tr th {\n",
       "        text-align: left;\n",
       "    }\n",
       "\n",
       "    .dataframe thead tr:last-of-type th {\n",
       "        text-align: right;\n",
       "    }\n",
       "</style>\n",
       "<table border=\"1\" class=\"dataframe\">\n",
       "  <thead>\n",
       "    <tr>\n",
       "      <th></th>\n",
       "      <th colspan=\"4\" halign=\"left\">CF</th>\n",
       "      <th colspan=\"4\" halign=\"left\">PI</th>\n",
       "      <th>data</th>\n",
       "    </tr>\n",
       "    <tr>\n",
       "      <th></th>\n",
       "      <th>p-unc</th>\n",
       "      <th>-Log10 pvalue</th>\n",
       "      <th>qvalue</th>\n",
       "      <th>rejected</th>\n",
       "      <th>p-unc</th>\n",
       "      <th>-Log10 pvalue</th>\n",
       "      <th>qvalue</th>\n",
       "      <th>rejected</th>\n",
       "      <th>frequency</th>\n",
       "    </tr>\n",
       "    <tr>\n",
       "      <th>protein groups</th>\n",
       "      <th></th>\n",
       "      <th></th>\n",
       "      <th></th>\n",
       "      <th></th>\n",
       "      <th></th>\n",
       "      <th></th>\n",
       "      <th></th>\n",
       "      <th></th>\n",
       "      <th></th>\n",
       "    </tr>\n",
       "  </thead>\n",
       "  <tbody>\n",
       "    <tr>\n",
       "      <th>A0A024QZX5;A0A087X1N8;P35237</th>\n",
       "      <td>0.006</td>\n",
       "      <td>2.256</td>\n",
       "      <td>0.016</td>\n",
       "      <td>True</td>\n",
       "      <td>0.323</td>\n",
       "      <td>0.491</td>\n",
       "      <td>0.485</td>\n",
       "      <td>False</td>\n",
       "      <td>186</td>\n",
       "    </tr>\n",
       "    <tr>\n",
       "      <th>A0A075B6H7</th>\n",
       "      <td>0.003</td>\n",
       "      <td>2.479</td>\n",
       "      <td>0.011</td>\n",
       "      <td>True</td>\n",
       "      <td>0.132</td>\n",
       "      <td>0.878</td>\n",
       "      <td>0.257</td>\n",
       "      <td>False</td>\n",
       "      <td>91</td>\n",
       "    </tr>\n",
       "    <tr>\n",
       "      <th>A0A075B6I0</th>\n",
       "      <td>0.001</td>\n",
       "      <td>3.142</td>\n",
       "      <td>0.003</td>\n",
       "      <td>True</td>\n",
       "      <td>0.023</td>\n",
       "      <td>1.638</td>\n",
       "      <td>0.066</td>\n",
       "      <td>False</td>\n",
       "      <td>194</td>\n",
       "    </tr>\n",
       "    <tr>\n",
       "      <th>A0A075B6J9</th>\n",
       "      <td>0.004</td>\n",
       "      <td>2.367</td>\n",
       "      <td>0.013</td>\n",
       "      <td>True</td>\n",
       "      <td>0.071</td>\n",
       "      <td>1.149</td>\n",
       "      <td>0.160</td>\n",
       "      <td>False</td>\n",
       "      <td>156</td>\n",
       "    </tr>\n",
       "    <tr>\n",
       "      <th>A0A075B6R2</th>\n",
       "      <td>0.002</td>\n",
       "      <td>2.760</td>\n",
       "      <td>0.006</td>\n",
       "      <td>True</td>\n",
       "      <td>0.447</td>\n",
       "      <td>0.349</td>\n",
       "      <td>0.605</td>\n",
       "      <td>False</td>\n",
       "      <td>164</td>\n",
       "    </tr>\n",
       "    <tr>\n",
       "      <th>...</th>\n",
       "      <td>...</td>\n",
       "      <td>...</td>\n",
       "      <td>...</td>\n",
       "      <td>...</td>\n",
       "      <td>...</td>\n",
       "      <td>...</td>\n",
       "      <td>...</td>\n",
       "      <td>...</td>\n",
       "      <td>...</td>\n",
       "    </tr>\n",
       "    <tr>\n",
       "      <th>Q9UIB8;Q9UIB8-2;Q9UIB8-3;Q9UIB8-4;Q9UIB8-5;Q9UIB8-6</th>\n",
       "      <td>0.202</td>\n",
       "      <td>0.695</td>\n",
       "      <td>0.319</td>\n",
       "      <td>False</td>\n",
       "      <td>0.003</td>\n",
       "      <td>2.532</td>\n",
       "      <td>0.012</td>\n",
       "      <td>True</td>\n",
       "      <td>115</td>\n",
       "    </tr>\n",
       "    <tr>\n",
       "      <th>Q9UJ14</th>\n",
       "      <td>0.049</td>\n",
       "      <td>1.313</td>\n",
       "      <td>0.102</td>\n",
       "      <td>False</td>\n",
       "      <td>0.011</td>\n",
       "      <td>1.950</td>\n",
       "      <td>0.037</td>\n",
       "      <td>True</td>\n",
       "      <td>169</td>\n",
       "    </tr>\n",
       "    <tr>\n",
       "      <th>Q9UNW1</th>\n",
       "      <td>0.880</td>\n",
       "      <td>0.055</td>\n",
       "      <td>0.922</td>\n",
       "      <td>False</td>\n",
       "      <td>0.011</td>\n",
       "      <td>1.977</td>\n",
       "      <td>0.035</td>\n",
       "      <td>True</td>\n",
       "      <td>171</td>\n",
       "    </tr>\n",
       "    <tr>\n",
       "      <th>Q9UP79</th>\n",
       "      <td>0.000</td>\n",
       "      <td>4.327</td>\n",
       "      <td>0.000</td>\n",
       "      <td>True</td>\n",
       "      <td>0.772</td>\n",
       "      <td>0.112</td>\n",
       "      <td>0.860</td>\n",
       "      <td>False</td>\n",
       "      <td>135</td>\n",
       "    </tr>\n",
       "    <tr>\n",
       "      <th>Q9UQ52</th>\n",
       "      <td>0.001</td>\n",
       "      <td>2.922</td>\n",
       "      <td>0.004</td>\n",
       "      <td>True</td>\n",
       "      <td>0.046</td>\n",
       "      <td>1.341</td>\n",
       "      <td>0.113</td>\n",
       "      <td>False</td>\n",
       "      <td>188</td>\n",
       "    </tr>\n",
       "  </tbody>\n",
       "</table>\n",
       "<p>189 rows × 9 columns</p>\n",
       "</div>"
      ],
      "text/plain": [
       "                                                      CF                       \\\n",
       "                                                   p-unc -Log10 pvalue qvalue   \n",
       "protein groups                                                                  \n",
       "A0A024QZX5;A0A087X1N8;P35237                       0.006         2.256  0.016   \n",
       "A0A075B6H7                                         0.003         2.479  0.011   \n",
       "A0A075B6I0                                         0.001         3.142  0.003   \n",
       "A0A075B6J9                                         0.004         2.367  0.013   \n",
       "A0A075B6R2                                         0.002         2.760  0.006   \n",
       "...                                                  ...           ...    ...   \n",
       "Q9UIB8;Q9UIB8-2;Q9UIB8-3;Q9UIB8-4;Q9UIB8-5;Q9UI... 0.202         0.695  0.319   \n",
       "Q9UJ14                                             0.049         1.313  0.102   \n",
       "Q9UNW1                                             0.880         0.055  0.922   \n",
       "Q9UP79                                             0.000         4.327  0.000   \n",
       "Q9UQ52                                             0.001         2.922  0.004   \n",
       "\n",
       "                                                               PI  \\\n",
       "                                                   rejected p-unc   \n",
       "protein groups                                                      \n",
       "A0A024QZX5;A0A087X1N8;P35237                           True 0.323   \n",
       "A0A075B6H7                                             True 0.132   \n",
       "A0A075B6I0                                             True 0.023   \n",
       "A0A075B6J9                                             True 0.071   \n",
       "A0A075B6R2                                             True 0.447   \n",
       "...                                                     ...   ...   \n",
       "Q9UIB8;Q9UIB8-2;Q9UIB8-3;Q9UIB8-4;Q9UIB8-5;Q9UI...    False 0.003   \n",
       "Q9UJ14                                                False 0.011   \n",
       "Q9UNW1                                                False 0.011   \n",
       "Q9UP79                                                 True 0.772   \n",
       "Q9UQ52                                                 True 0.046   \n",
       "\n",
       "                                                                         \\\n",
       "                                                   -Log10 pvalue qvalue   \n",
       "protein groups                                                            \n",
       "A0A024QZX5;A0A087X1N8;P35237                               0.491  0.485   \n",
       "A0A075B6H7                                                 0.878  0.257   \n",
       "A0A075B6I0                                                 1.638  0.066   \n",
       "A0A075B6J9                                                 1.149  0.160   \n",
       "A0A075B6R2                                                 0.349  0.605   \n",
       "...                                                          ...    ...   \n",
       "Q9UIB8;Q9UIB8-2;Q9UIB8-3;Q9UIB8-4;Q9UIB8-5;Q9UI...         2.532  0.012   \n",
       "Q9UJ14                                                     1.950  0.037   \n",
       "Q9UNW1                                                     1.977  0.035   \n",
       "Q9UP79                                                     0.112  0.860   \n",
       "Q9UQ52                                                     1.341  0.113   \n",
       "\n",
       "                                                                 data  \n",
       "                                                   rejected frequency  \n",
       "protein groups                                                         \n",
       "A0A024QZX5;A0A087X1N8;P35237                          False       186  \n",
       "A0A075B6H7                                            False        91  \n",
       "A0A075B6I0                                            False       194  \n",
       "A0A075B6J9                                            False       156  \n",
       "A0A075B6R2                                            False       164  \n",
       "...                                                     ...       ...  \n",
       "Q9UIB8;Q9UIB8-2;Q9UIB8-3;Q9UIB8-4;Q9UIB8-5;Q9UI...     True       115  \n",
       "Q9UJ14                                                 True       169  \n",
       "Q9UNW1                                                 True       171  \n",
       "Q9UP79                                                False       135  \n",
       "Q9UQ52                                                False       188  \n",
       "\n",
       "[189 rows x 9 columns]"
      ]
     },
     "execution_count": 17,
     "metadata": {},
     "output_type": "execute_result"
    }
   ],
   "source": [
    "mask_different = (\n",
    "    (scores_common.loc[:, pd.IndexSlice[:, 'rejected']].any(axis=1))\n",
    "    & ~(scores_common.loc[:, pd.IndexSlice[:, 'rejected']].all(axis=1))\n",
    ")\n",
    "_to_write = scores_common.loc[mask_different]\n",
    "_to_write.to_excel(writer, 'differences', **writer_args)\n",
    "logger.info(\"Writen to Excel file under sheet 'differences'.\")\n",
    "_to_write"
   ]
  },
  {
   "cell_type": "markdown",
   "id": "e8832084",
   "metadata": {
    "papermill": {
     "duration": 0.030657,
     "end_time": "2024-07-13T04:45:35.957683",
     "exception": false,
     "start_time": "2024-07-13T04:45:35.927026",
     "status": "completed"
    },
    "tags": []
   },
   "source": [
    "## Plot qvalues of both models with annotated decisions\n",
    "\n",
    "Prepare data for plotting (qvalues)"
   ]
  },
  {
   "cell_type": "code",
   "execution_count": 18,
   "id": "5b2e5341-b054-40c3-b45a-44ae6ca46cfb",
   "metadata": {
    "execution": {
     "iopub.execute_input": "2024-07-13T04:45:36.038340Z",
     "iopub.status.busy": "2024-07-13T04:45:36.037995Z",
     "iopub.status.idle": "2024-07-13T04:45:36.063846Z",
     "shell.execute_reply": "2024-07-13T04:45:36.063067Z"
    },
    "papermill": {
     "duration": 0.074343,
     "end_time": "2024-07-13T04:45:36.065848",
     "exception": false,
     "start_time": "2024-07-13T04:45:35.991505",
     "status": "completed"
    },
    "tags": [
     "hide-input"
    ]
   },
   "outputs": [
    {
     "data": {
      "text/html": [
       "<div>\n",
       "<style scoped>\n",
       "    .dataframe tbody tr th:only-of-type {\n",
       "        vertical-align: middle;\n",
       "    }\n",
       "\n",
       "    .dataframe tbody tr th {\n",
       "        vertical-align: top;\n",
       "    }\n",
       "\n",
       "    .dataframe thead th {\n",
       "        text-align: right;\n",
       "    }\n",
       "</style>\n",
       "<table border=\"1\" class=\"dataframe\">\n",
       "  <thead>\n",
       "    <tr style=\"text-align: right;\">\n",
       "      <th></th>\n",
       "      <th>CF</th>\n",
       "      <th>PI</th>\n",
       "      <th>frequency</th>\n",
       "      <th>Differential Analysis Comparison</th>\n",
       "    </tr>\n",
       "    <tr>\n",
       "      <th>protein groups</th>\n",
       "      <th></th>\n",
       "      <th></th>\n",
       "      <th></th>\n",
       "      <th></th>\n",
       "    </tr>\n",
       "  </thead>\n",
       "  <tbody>\n",
       "    <tr>\n",
       "      <th>A0A024QZX5;A0A087X1N8;P35237</th>\n",
       "      <td>0.016</td>\n",
       "      <td>0.485</td>\n",
       "      <td>186</td>\n",
       "      <td>CF (yes) - PI (no)</td>\n",
       "    </tr>\n",
       "    <tr>\n",
       "      <th>A0A024R0T9;K7ER74;P02655</th>\n",
       "      <td>0.067</td>\n",
       "      <td>0.108</td>\n",
       "      <td>195</td>\n",
       "      <td>CF (no)  - PI (no)</td>\n",
       "    </tr>\n",
       "    <tr>\n",
       "      <th>A0A024R3W6;A0A024R412;O60462;O60462-2;O60462-3;O60462-4;O60462-5;Q7LBX6;X5D2Q8</th>\n",
       "      <td>0.285</td>\n",
       "      <td>0.202</td>\n",
       "      <td>174</td>\n",
       "      <td>CF (no)  - PI (no)</td>\n",
       "    </tr>\n",
       "    <tr>\n",
       "      <th>A0A024R644;A0A0A0MRU5;A0A1B0GWI2;O75503</th>\n",
       "      <td>0.381</td>\n",
       "      <td>0.707</td>\n",
       "      <td>196</td>\n",
       "      <td>CF (no)  - PI (no)</td>\n",
       "    </tr>\n",
       "    <tr>\n",
       "      <th>A0A075B6H7</th>\n",
       "      <td>0.011</td>\n",
       "      <td>0.257</td>\n",
       "      <td>91</td>\n",
       "      <td>CF (yes) - PI (no)</td>\n",
       "    </tr>\n",
       "    <tr>\n",
       "      <th>...</th>\n",
       "      <td>...</td>\n",
       "      <td>...</td>\n",
       "      <td>...</td>\n",
       "      <td>...</td>\n",
       "    </tr>\n",
       "    <tr>\n",
       "      <th>Q9Y6R7</th>\n",
       "      <td>0.287</td>\n",
       "      <td>0.315</td>\n",
       "      <td>197</td>\n",
       "      <td>CF (no)  - PI (no)</td>\n",
       "    </tr>\n",
       "    <tr>\n",
       "      <th>Q9Y6X5</th>\n",
       "      <td>0.167</td>\n",
       "      <td>0.075</td>\n",
       "      <td>173</td>\n",
       "      <td>CF (no)  - PI (no)</td>\n",
       "    </tr>\n",
       "    <tr>\n",
       "      <th>Q9Y6Y8;Q9Y6Y8-2</th>\n",
       "      <td>0.158</td>\n",
       "      <td>0.181</td>\n",
       "      <td>197</td>\n",
       "      <td>CF (no)  - PI (no)</td>\n",
       "    </tr>\n",
       "    <tr>\n",
       "      <th>Q9Y6Y9</th>\n",
       "      <td>0.729</td>\n",
       "      <td>0.888</td>\n",
       "      <td>119</td>\n",
       "      <td>CF (no)  - PI (no)</td>\n",
       "    </tr>\n",
       "    <tr>\n",
       "      <th>S4R3U6</th>\n",
       "      <td>0.158</td>\n",
       "      <td>0.870</td>\n",
       "      <td>126</td>\n",
       "      <td>CF (no)  - PI (no)</td>\n",
       "    </tr>\n",
       "  </tbody>\n",
       "</table>\n",
       "<p>1421 rows × 4 columns</p>\n",
       "</div>"
      ],
      "text/plain": [
       "                                                      CF    PI  frequency  \\\n",
       "protein groups                                                              \n",
       "A0A024QZX5;A0A087X1N8;P35237                       0.016 0.485        186   \n",
       "A0A024R0T9;K7ER74;P02655                           0.067 0.108        195   \n",
       "A0A024R3W6;A0A024R412;O60462;O60462-2;O60462-3;... 0.285 0.202        174   \n",
       "A0A024R644;A0A0A0MRU5;A0A1B0GWI2;O75503            0.381 0.707        196   \n",
       "A0A075B6H7                                         0.011 0.257         91   \n",
       "...                                                  ...   ...        ...   \n",
       "Q9Y6R7                                             0.287 0.315        197   \n",
       "Q9Y6X5                                             0.167 0.075        173   \n",
       "Q9Y6Y8;Q9Y6Y8-2                                    0.158 0.181        197   \n",
       "Q9Y6Y9                                             0.729 0.888        119   \n",
       "S4R3U6                                             0.158 0.870        126   \n",
       "\n",
       "                                                   Differential Analysis Comparison  \n",
       "protein groups                                                                       \n",
       "A0A024QZX5;A0A087X1N8;P35237                                    CF (yes) - PI (no)   \n",
       "A0A024R0T9;K7ER74;P02655                                        CF (no)  - PI (no)   \n",
       "A0A024R3W6;A0A024R412;O60462;O60462-2;O60462-3;...              CF (no)  - PI (no)   \n",
       "A0A024R644;A0A0A0MRU5;A0A1B0GWI2;O75503                         CF (no)  - PI (no)   \n",
       "A0A075B6H7                                                      CF (yes) - PI (no)   \n",
       "...                                                                             ...  \n",
       "Q9Y6R7                                                          CF (no)  - PI (no)   \n",
       "Q9Y6X5                                                          CF (no)  - PI (no)   \n",
       "Q9Y6Y8;Q9Y6Y8-2                                                 CF (no)  - PI (no)   \n",
       "Q9Y6Y9                                                          CF (no)  - PI (no)   \n",
       "S4R3U6                                                          CF (no)  - PI (no)   \n",
       "\n",
       "[1421 rows x 4 columns]"
      ]
     },
     "execution_count": 18,
     "metadata": {},
     "output_type": "execute_result"
    }
   ],
   "source": [
    "var = 'qvalue'\n",
    "to_plot = [scores_common[v][var] for v in models.values()]\n",
    "for s, k in zip(to_plot, models.keys()):\n",
    "    s.name = k.replace('_', ' ')\n",
    "to_plot.append(scores_common['data'])\n",
    "to_plot.append(annotations)\n",
    "to_plot = pd.concat(to_plot, axis=1)\n",
    "to_plot"
   ]
  },
  {
   "cell_type": "markdown",
   "id": "c92517a4-8456-4663-b719-4abd997fbb1c",
   "metadata": {
    "papermill": {
     "duration": 0.029361,
     "end_time": "2024-07-13T04:45:36.126304",
     "exception": false,
     "start_time": "2024-07-13T04:45:36.096943",
     "status": "completed"
    },
    "tags": []
   },
   "source": [
    "List of features with the highest difference in qvalues"
   ]
  },
  {
   "cell_type": "code",
   "execution_count": 19,
   "id": "c7af4a70-aa43-4772-af00-d425f5ed249f",
   "metadata": {
    "execution": {
     "iopub.execute_input": "2024-07-13T04:45:36.162141Z",
     "iopub.status.busy": "2024-07-13T04:45:36.161796Z",
     "iopub.status.idle": "2024-07-13T04:45:36.179485Z",
     "shell.execute_reply": "2024-07-13T04:45:36.178779Z"
    },
    "papermill": {
     "duration": 0.038127,
     "end_time": "2024-07-13T04:45:36.181372",
     "exception": false,
     "start_time": "2024-07-13T04:45:36.143245",
     "status": "completed"
    },
    "tags": [
     "hide-input"
    ]
   },
   "outputs": [
    {
     "data": {
      "text/html": [
       "<div>\n",
       "<style scoped>\n",
       "    .dataframe tbody tr th:only-of-type {\n",
       "        vertical-align: middle;\n",
       "    }\n",
       "\n",
       "    .dataframe tbody tr th {\n",
       "        vertical-align: top;\n",
       "    }\n",
       "\n",
       "    .dataframe thead th {\n",
       "        text-align: right;\n",
       "    }\n",
       "</style>\n",
       "<table border=\"1\" class=\"dataframe\">\n",
       "  <thead>\n",
       "    <tr style=\"text-align: right;\">\n",
       "      <th></th>\n",
       "      <th>CF</th>\n",
       "      <th>PI</th>\n",
       "      <th>frequency</th>\n",
       "      <th>Differential Analysis Comparison</th>\n",
       "      <th>diff_qvalue</th>\n",
       "    </tr>\n",
       "    <tr>\n",
       "      <th>protein groups</th>\n",
       "      <th></th>\n",
       "      <th></th>\n",
       "      <th></th>\n",
       "      <th></th>\n",
       "      <th></th>\n",
       "    </tr>\n",
       "  </thead>\n",
       "  <tbody>\n",
       "    <tr>\n",
       "      <th>P22748</th>\n",
       "      <td>0.029</td>\n",
       "      <td>0.997</td>\n",
       "      <td>159</td>\n",
       "      <td>CF (yes) - PI (no)</td>\n",
       "      <td>0.968</td>\n",
       "    </tr>\n",
       "    <tr>\n",
       "      <th>P52758</th>\n",
       "      <td>0.972</td>\n",
       "      <td>0.009</td>\n",
       "      <td>119</td>\n",
       "      <td>CF (no)  - PI (yes)</td>\n",
       "      <td>0.962</td>\n",
       "    </tr>\n",
       "    <tr>\n",
       "      <th>O15204;O15204-2</th>\n",
       "      <td>0.049</td>\n",
       "      <td>0.991</td>\n",
       "      <td>156</td>\n",
       "      <td>CF (yes) - PI (no)</td>\n",
       "      <td>0.942</td>\n",
       "    </tr>\n",
       "    <tr>\n",
       "      <th>Q9UNW1</th>\n",
       "      <td>0.922</td>\n",
       "      <td>0.035</td>\n",
       "      <td>171</td>\n",
       "      <td>CF (no)  - PI (yes)</td>\n",
       "      <td>0.887</td>\n",
       "    </tr>\n",
       "    <tr>\n",
       "      <th>P22692;P22692-2</th>\n",
       "      <td>0.045</td>\n",
       "      <td>0.928</td>\n",
       "      <td>170</td>\n",
       "      <td>CF (yes) - PI (no)</td>\n",
       "      <td>0.883</td>\n",
       "    </tr>\n",
       "    <tr>\n",
       "      <th>...</th>\n",
       "      <td>...</td>\n",
       "      <td>...</td>\n",
       "      <td>...</td>\n",
       "      <td>...</td>\n",
       "      <td>...</td>\n",
       "    </tr>\n",
       "    <tr>\n",
       "      <th>P13667</th>\n",
       "      <td>0.059</td>\n",
       "      <td>0.049</td>\n",
       "      <td>99</td>\n",
       "      <td>CF (no)  - PI (yes)</td>\n",
       "      <td>0.010</td>\n",
       "    </tr>\n",
       "    <tr>\n",
       "      <th>Q9NX62</th>\n",
       "      <td>0.046</td>\n",
       "      <td>0.055</td>\n",
       "      <td>197</td>\n",
       "      <td>CF (yes) - PI (no)</td>\n",
       "      <td>0.010</td>\n",
       "    </tr>\n",
       "    <tr>\n",
       "      <th>P00740;P00740-2</th>\n",
       "      <td>0.043</td>\n",
       "      <td>0.053</td>\n",
       "      <td>197</td>\n",
       "      <td>CF (yes) - PI (no)</td>\n",
       "      <td>0.009</td>\n",
       "    </tr>\n",
       "    <tr>\n",
       "      <th>K7ERG9;P00746</th>\n",
       "      <td>0.043</td>\n",
       "      <td>0.052</td>\n",
       "      <td>197</td>\n",
       "      <td>CF (yes) - PI (no)</td>\n",
       "      <td>0.009</td>\n",
       "    </tr>\n",
       "    <tr>\n",
       "      <th>Q16706</th>\n",
       "      <td>0.048</td>\n",
       "      <td>0.053</td>\n",
       "      <td>195</td>\n",
       "      <td>CF (yes) - PI (no)</td>\n",
       "      <td>0.004</td>\n",
       "    </tr>\n",
       "  </tbody>\n",
       "</table>\n",
       "<p>189 rows × 5 columns</p>\n",
       "</div>"
      ],
      "text/plain": [
       "                   CF    PI  frequency Differential Analysis Comparison  \\\n",
       "protein groups                                                            \n",
       "P22748          0.029 0.997        159              CF (yes) - PI (no)    \n",
       "P52758          0.972 0.009        119              CF (no)  - PI (yes)   \n",
       "O15204;O15204-2 0.049 0.991        156              CF (yes) - PI (no)    \n",
       "Q9UNW1          0.922 0.035        171              CF (no)  - PI (yes)   \n",
       "P22692;P22692-2 0.045 0.928        170              CF (yes) - PI (no)    \n",
       "...               ...   ...        ...                              ...   \n",
       "P13667          0.059 0.049         99              CF (no)  - PI (yes)   \n",
       "Q9NX62          0.046 0.055        197              CF (yes) - PI (no)    \n",
       "P00740;P00740-2 0.043 0.053        197              CF (yes) - PI (no)    \n",
       "K7ERG9;P00746   0.043 0.052        197              CF (yes) - PI (no)    \n",
       "Q16706          0.048 0.053        195              CF (yes) - PI (no)    \n",
       "\n",
       "                 diff_qvalue  \n",
       "protein groups                \n",
       "P22748                 0.968  \n",
       "P52758                 0.962  \n",
       "O15204;O15204-2        0.942  \n",
       "Q9UNW1                 0.887  \n",
       "P22692;P22692-2        0.883  \n",
       "...                      ...  \n",
       "P13667                 0.010  \n",
       "Q9NX62                 0.010  \n",
       "P00740;P00740-2        0.009  \n",
       "K7ERG9;P00746          0.009  \n",
       "Q16706                 0.004  \n",
       "\n",
       "[189 rows x 5 columns]"
      ]
     },
     "execution_count": 19,
     "metadata": {},
     "output_type": "execute_result"
    }
   ],
   "source": [
    "# should it be possible to run not only RSN?\n",
    "to_plot['diff_qvalue'] = (to_plot[str(args.baseline)] - to_plot[str(args.model_key)]).abs()\n",
    "to_plot.loc[mask_different].sort_values('diff_qvalue', ascending=False)"
   ]
  },
  {
   "cell_type": "markdown",
   "id": "e715954e-2d62-4cd9-b4b0-063524bca495",
   "metadata": {
    "papermill": {
     "duration": 0.01739,
     "end_time": "2024-07-13T04:45:36.216814",
     "exception": false,
     "start_time": "2024-07-13T04:45:36.199424",
     "status": "completed"
    },
    "tags": []
   },
   "source": [
    "### Differences plotted with created annotations"
   ]
  },
  {
   "cell_type": "code",
   "execution_count": 20,
   "id": "a20d356d-c397-4440-b70e-9d899aa200fd",
   "metadata": {
    "execution": {
     "iopub.execute_input": "2024-07-13T04:45:36.254985Z",
     "iopub.status.busy": "2024-07-13T04:45:36.254386Z",
     "iopub.status.idle": "2024-07-13T04:45:38.326851Z",
     "shell.execute_reply": "2024-07-13T04:45:38.326159Z"
    },
    "papermill": {
     "duration": 2.094503,
     "end_time": "2024-07-13T04:45:38.329289",
     "exception": false,
     "start_time": "2024-07-13T04:45:36.234786",
     "status": "completed"
    },
    "tags": [
     "hide-input"
    ]
   },
   "outputs": [
    {
     "name": "stderr",
     "output_type": "stream",
     "text": [
      "pimmslearn.plotting - INFO     Saved Figures to runs/alzheimer_study/diff_analysis/AD/PI_vs_CF/diff_analysis_comparision_1_CF\n"
     ]
    },
    {
     "data": {
      "image/png": "[encoded data removed]",
      "text/plain": [
       "<Figure size 588x588 with 1 Axes>"
      ]
     },
     "metadata": {},
     "output_type": "display_data"
    }
   ],
   "source": [
    "figsize = (4, 4)\n",
    "size = 5\n",
    "fig, ax = plt.subplots(figsize=figsize)\n",
    "x_col = to_plot.columns[0]\n",
    "y_col = to_plot.columns[1]\n",
    "ax = sns.scatterplot(data=to_plot,\n",
    "                     x=x_col,\n",
    "                     y=y_col,\n",
    "                     s=size,\n",
    "                     hue='Differential Analysis Comparison',\n",
    "                     ax=ax)\n",
    "_ = ax.legend(fontsize=fontsize,\n",
    "              title_fontsize=fontsize,\n",
    "              markerscale=0.4,\n",
    "              title='',\n",
    "              )\n",
    "ax.set_xlabel(f\"qvalue for {x_col}\")\n",
    "ax.set_ylabel(f\"qvalue for {y_col}\")\n",
    "ax.hlines(0.05, 0, 1, color='grey', linestyles='dotted')\n",
    "ax.vlines(0.05, 0, 1, color='grey', linestyles='dotted')\n",
    "sns.move_legend(ax, \"upper right\")\n",
    "files_out[f'diff_analysis_comparision_1_{args.model_key}'] = (\n",
    "    args.out_folder /\n",
    "    f'diff_analysis_comparision_1_{args.model_key}')\n",
    "fname = files_out[f'diff_analysis_comparision_1_{args.model_key}']\n",
    "pimmslearn.savefig(fig, name=fname)"
   ]
  },
  {
   "cell_type": "markdown",
   "id": "d8849c76-c5f6-4618-87c0-f2635dc9ac66",
   "metadata": {
    "papermill": {
     "duration": 0.036265,
     "end_time": "2024-07-13T04:45:38.406170",
     "exception": false,
     "start_time": "2024-07-13T04:45:38.369905",
     "status": "completed"
    },
    "tags": []
   },
   "source": [
    "- also showing how many features were measured (\"observed\") by size of circle"
   ]
  },
  {
   "cell_type": "code",
   "execution_count": 21,
   "id": "1cf258f8-9dcb-40bb-af66-b600f8d413f6",
   "metadata": {
    "execution": {
     "iopub.execute_input": "2024-07-13T04:45:38.484134Z",
     "iopub.status.busy": "2024-07-13T04:45:38.483783Z",
     "iopub.status.idle": "2024-07-13T04:45:42.030130Z",
     "shell.execute_reply": "2024-07-13T04:45:42.029283Z"
    },
    "papermill": {
     "duration": 3.586686,
     "end_time": "2024-07-13T04:45:42.032992",
     "exception": false,
     "start_time": "2024-07-13T04:45:38.446306",
     "status": "completed"
    },
    "tags": [
     "hide-input"
    ]
   },
   "outputs": [
    {
     "name": "stderr",
     "output_type": "stream",
     "text": [
      "pimmslearn.plotting - INFO     Saved Figures to runs/alzheimer_study/diff_analysis/AD/PI_vs_CF/diff_analysis_comparision_2_CF\n"
     ]
    },
    {
     "data": {
      "image/png": "[encoded data removed]",
      "text/plain": [
       "<Figure size 588x588 with 1 Axes>"
      ]
     },
     "metadata": {},
     "output_type": "display_data"
    }
   ],
   "source": [
    "fig, ax = plt.subplots(figsize=figsize)\n",
    "ax = sns.scatterplot(data=to_plot,\n",
    "                     x=to_plot.columns[0],\n",
    "                     y=to_plot.columns[1],\n",
    "                     size='frequency',\n",
    "                     s=size,\n",
    "                     sizes=(5, 20),\n",
    "                     hue='Differential Analysis Comparison')\n",
    "_ = ax.legend(fontsize=fontsize,\n",
    "              title_fontsize=fontsize,\n",
    "              markerscale=0.6,\n",
    "              title='',\n",
    "              )\n",
    "ax.set_xlabel(f\"qvalue for {x_col}\")\n",
    "ax.set_ylabel(f\"qvalue for {y_col}\")\n",
    "ax.hlines(0.05, 0, 1, color='grey', linestyles='dotted')\n",
    "ax.vlines(0.05, 0, 1, color='grey', linestyles='dotted')\n",
    "sns.move_legend(ax, \"upper right\")\n",
    "files_out[f'diff_analysis_comparision_2_{args.model_key}'] = (\n",
    "    args.out_folder / f'diff_analysis_comparision_2_{args.model_key}')\n",
    "pimmslearn.savefig(\n",
    "    fig, name=files_out[f'diff_analysis_comparision_2_{args.model_key}'])"
   ]
  },
  {
   "cell_type": "markdown",
   "id": "1fee3a21-d8b3-40c6-aea2-4774dfe855ca",
   "metadata": {
    "papermill": {
     "duration": 0.044913,
     "end_time": "2024-07-13T04:45:42.122575",
     "exception": false,
     "start_time": "2024-07-13T04:45:42.077662",
     "status": "completed"
    },
    "tags": []
   },
   "source": [
    "## Only features contained in model\n",
    "- this block exist due to a specific part in the ALD analysis of the paper"
   ]
  },
  {
   "cell_type": "code",
   "execution_count": 22,
   "id": "c4e23a01-fd37-4496-a518-445a9ef38db1",
   "metadata": {
    "execution": {
     "iopub.execute_input": "2024-07-13T04:45:42.235741Z",
     "iopub.status.busy": "2024-07-13T04:45:42.235099Z",
     "iopub.status.idle": "2024-07-13T04:45:42.247318Z",
     "shell.execute_reply": "2024-07-13T04:45:42.246673Z"
    },
    "papermill": {
     "duration": 0.084796,
     "end_time": "2024-07-13T04:45:42.254328",
     "exception": false,
     "start_time": "2024-07-13T04:45:42.169532",
     "status": "completed"
    },
    "tags": [
     "hide-input"
    ]
   },
   "outputs": [
    {
     "name": "stderr",
     "output_type": "stream",
     "text": [
      "root - INFO     No features only in new comparision model.\n"
     ]
    }
   ],
   "source": [
    "scores_model_only = scores.reset_index(level=-1, drop=True)\n",
    "_diff = scores_model_only.index.difference(scores_common.index)\n",
    "if not _diff.empty:\n",
    "    scores_model_only = (scores_model_only\n",
    "                         .loc[\n",
    "                             _diff,\n",
    "                             args.model_key]\n",
    "                         .sort_values(by='qvalue', ascending=True)\n",
    "                         .join(freq_feat.squeeze().rename(freq_feat.columns.droplevel()[0])\n",
    "                               )\n",
    "                         )\n",
    "    display(scores_model_only)\n",
    "else:\n",
    "    scores_model_only = None\n",
    "    logger.info(\"No features only in new comparision model.\")\n",
    "\n",
    "if not _diff.empty:\n",
    "    scores_model_only.to_excel(writer, 'only_model', **writer_args)\n",
    "    display(scores_model_only.rejected.value_counts())\n",
    "    scores_model_only_rejected = scores_model_only.loc[scores_model_only.rejected]\n",
    "    scores_model_only_rejected.to_excel(\n",
    "        writer, 'only_model_rejected', **writer_args)"
   ]
  },
  {
   "cell_type": "markdown",
   "id": "78b2c336",
   "metadata": {
    "papermill": {
     "duration": 0.055508,
     "end_time": "2024-07-13T04:45:42.385999",
     "exception": false,
     "start_time": "2024-07-13T04:45:42.330491",
     "status": "completed"
    },
    "tags": []
   },
   "source": [
    "## DISEASES DB lookup\n",
    "\n",
    "Query diseases database for gene associations with specified disease ontology id."
   ]
  },
  {
   "cell_type": "code",
   "execution_count": 23,
   "id": "d93a9242-0ef4-4fc7-bd98-226a93639f58",
   "metadata": {
    "execution": {
     "iopub.execute_input": "2024-07-13T04:45:42.518533Z",
     "iopub.status.busy": "2024-07-13T04:45:42.517924Z",
     "iopub.status.idle": "2024-07-13T04:45:43.344089Z",
     "shell.execute_reply": "2024-07-13T04:45:43.343317Z"
    },
    "papermill": {
     "duration": 0.876961,
     "end_time": "2024-07-13T04:45:43.346102",
     "exception": false,
     "start_time": "2024-07-13T04:45:42.469141",
     "status": "completed"
    },
    "tags": [
     "hide-input"
    ]
   },
   "outputs": [
    {
     "data": {
      "text/html": [
       "<div>\n",
       "<style scoped>\n",
       "    .dataframe tbody tr th:only-of-type {\n",
       "        vertical-align: middle;\n",
       "    }\n",
       "\n",
       "    .dataframe tbody tr th {\n",
       "        vertical-align: top;\n",
       "    }\n",
       "\n",
       "    .dataframe thead th {\n",
       "        text-align: right;\n",
       "    }\n",
       "</style>\n",
       "<table border=\"1\" class=\"dataframe\">\n",
       "  <thead>\n",
       "    <tr style=\"text-align: right;\">\n",
       "      <th></th>\n",
       "      <th>ENSP</th>\n",
       "      <th>score</th>\n",
       "    </tr>\n",
       "    <tr>\n",
       "      <th>None</th>\n",
       "      <th></th>\n",
       "      <th></th>\n",
       "    </tr>\n",
       "  </thead>\n",
       "  <tbody>\n",
       "    <tr>\n",
       "      <th>PSEN2</th>\n",
       "      <td>ENSP00000355747</td>\n",
       "      <td>5.000</td>\n",
       "    </tr>\n",
       "    <tr>\n",
       "      <th>APOE</th>\n",
       "      <td>ENSP00000252486</td>\n",
       "      <td>5.000</td>\n",
       "    </tr>\n",
       "    <tr>\n",
       "      <th>PSEN1</th>\n",
       "      <td>ENSP00000326366</td>\n",
       "      <td>5.000</td>\n",
       "    </tr>\n",
       "    <tr>\n",
       "      <th>APP</th>\n",
       "      <td>ENSP00000284981</td>\n",
       "      <td>5.000</td>\n",
       "    </tr>\n",
       "    <tr>\n",
       "      <th>CLU</th>\n",
       "      <td>ENSP00000315130</td>\n",
       "      <td>4.263</td>\n",
       "    </tr>\n",
       "    <tr>\n",
       "      <th>...</th>\n",
       "      <td>...</td>\n",
       "      <td>...</td>\n",
       "    </tr>\n",
       "    <tr>\n",
       "      <th>HBS1L</th>\n",
       "      <td>ENSP00000356811</td>\n",
       "      <td>0.508</td>\n",
       "    </tr>\n",
       "    <tr>\n",
       "      <th>SMAD9</th>\n",
       "      <td>ENSP00000369154</td>\n",
       "      <td>0.506</td>\n",
       "    </tr>\n",
       "    <tr>\n",
       "      <th>ANKRD11</th>\n",
       "      <td>ENSP00000301030</td>\n",
       "      <td>0.505</td>\n",
       "    </tr>\n",
       "    <tr>\n",
       "      <th>TPPP</th>\n",
       "      <td>ENSP00000353785</td>\n",
       "      <td>0.505</td>\n",
       "    </tr>\n",
       "    <tr>\n",
       "      <th>NODAL</th>\n",
       "      <td>ENSP00000287139</td>\n",
       "      <td>0.504</td>\n",
       "    </tr>\n",
       "  </tbody>\n",
       "</table>\n",
       "<p>328 rows × 2 columns</p>\n",
       "</div>"
      ],
      "text/plain": [
       "                    ENSP  score\n",
       "None                           \n",
       "PSEN2    ENSP00000355747  5.000\n",
       "APOE     ENSP00000252486  5.000\n",
       "PSEN1    ENSP00000326366  5.000\n",
       "APP      ENSP00000284981  5.000\n",
       "CLU      ENSP00000315130  4.263\n",
       "...                  ...    ...\n",
       "HBS1L    ENSP00000356811  0.508\n",
       "SMAD9    ENSP00000369154  0.506\n",
       "ANKRD11  ENSP00000301030  0.505\n",
       "TPPP     ENSP00000353785  0.505\n",
       "NODAL    ENSP00000287139  0.504\n",
       "\n",
       "[328 rows x 2 columns]"
      ]
     },
     "execution_count": 23,
     "metadata": {},
     "output_type": "execute_result"
    }
   ],
   "source": [
    "data = pimmslearn.databases.diseases.get_disease_association(\n",
    "    doid=args.disease_ontology, limit=10000)\n",
    "data = pd.DataFrame.from_dict(data, orient='index').rename_axis('ENSP', axis=0)\n",
    "data = data.rename(columns={'name': args.annotaitons_gene_col}).reset_index(\n",
    ").set_index(args.annotaitons_gene_col)\n",
    "data"
   ]
  },
  {
   "cell_type": "markdown",
   "id": "efe22443-2613-46ad-83c2-41048e13dd57",
   "metadata": {
    "papermill": {
     "duration": 0.023264,
     "end_time": "2024-07-13T04:45:43.394140",
     "exception": false,
     "start_time": "2024-07-13T04:45:43.370876",
     "status": "completed"
    },
    "tags": []
   },
   "source": [
    "## Shared features\n",
    "ToDo: new script -> DISEASES DB lookup"
   ]
  },
  {
   "cell_type": "code",
   "execution_count": null,
   "id": "5c26415e",
   "metadata": {
    "papermill": {
     "duration": 0.02297,
     "end_time": "2024-07-13T04:45:43.440590",
     "exception": false,
     "start_time": "2024-07-13T04:45:43.417620",
     "status": "completed"
    },
    "tags": [
     "hide-input"
    ]
   },
   "outputs": [],
   "source": []
  },
  {
   "cell_type": "code",
   "execution_count": 24,
   "id": "b68b43df",
   "metadata": {
    "execution": {
     "iopub.execute_input": "2024-07-13T04:45:43.489071Z",
     "iopub.status.busy": "2024-07-13T04:45:43.488711Z",
     "iopub.status.idle": "2024-07-13T04:45:43.496531Z",
     "shell.execute_reply": "2024-07-13T04:45:43.495549Z"
    },
    "papermill": {
     "duration": 0.038045,
     "end_time": "2024-07-13T04:45:43.502360",
     "exception": true,
     "start_time": "2024-07-13T04:45:43.464315",
     "status": "failed"
    },
    "tags": [
     "hide-input"
    ]
   },
   "outputs": [
    {
     "name": "stderr",
     "output_type": "stream",
     "text": [
      "root - INFO     No gene annotation in scores index:  ['protein groups', 'Source'] Exiting.\n"
     ]
    },
    {
     "ename": "SystemExit",
     "evalue": "0",
     "output_type": "error",
     "traceback": [
      "An exception has occurred, use %tb to see the full traceback.\n",
      "\u001b[0;31mSystemExit\u001b[0m\u001b[0;31m:\u001b[0m 0\n"
     ]
    },
    {
     "name": "stderr",
     "output_type": "stream",
     "text": [
      "/usr/share/miniconda3/envs/pimms/lib/python3.8/site-packages/IPython/core/interactiveshell.py:3516: UserWarning: To exit: use 'exit', 'quit', or Ctrl-D.\n",
      "  warn(\"To exit: use 'exit', 'quit', or Ctrl-D.\", stacklevel=1)\n"
     ]
    }
   ],
   "source": [
    "feat_name = scores.index.names[0]  # first index level is feature name\n",
    "if args.annotaitons_gene_col in scores.index.names:\n",
    "    logger.info(f\"Found gene annotation in scores index:  {scores.index.names}\")\n",
    "else:\n",
    "    logger.info(f\"No gene annotation in scores index:  {scores.index.names}\"\n",
    "                \" Exiting.\")\n",
    "    import sys\n",
    "    sys.exit(0)"
   ]
  },
  {
   "cell_type": "code",
   "execution_count": null,
   "id": "f8d4a74d-5a9b-4d9b-9345-4288bb23e19f",
   "metadata": {
    "papermill": {
     "duration": null,
     "end_time": null,
     "exception": null,
     "start_time": null,
     "status": "pending"
    },
    "tags": [
     "hide-input"
    ]
   },
   "outputs": [],
   "source": [
    "gene_to_PG = (scores.droplevel(\n",
    "    list(set(scores.index.names) - {feat_name, args.annotaitons_gene_col})\n",
    ")\n",
    "    .index\n",
    "    .to_frame()\n",
    "    .reset_index(drop=True)\n",
    "    .set_index(args.annotaitons_gene_col)\n",
    ")\n",
    "gene_to_PG.head()"
   ]
  },
  {
   "cell_type": "code",
   "execution_count": null,
   "id": "d9e76def-b48a-458d-a90b-765e6e70f7a4",
   "metadata": {
    "papermill": {
     "duration": null,
     "end_time": null,
     "exception": null,
     "start_time": null,
     "status": "pending"
    },
    "tags": [
     "hide-input"
    ]
   },
   "outputs": [],
   "source": [
    "disease_associations_all = data.join(\n",
    "    gene_to_PG).dropna().reset_index().set_index(feat_name).join(annotations)\n",
    "disease_associations_all"
   ]
  },
  {
   "cell_type": "markdown",
   "id": "217972a3-ba4a-4f28-ab8f-25dc0f5e9ede",
   "metadata": {
    "papermill": {
     "duration": null,
     "end_time": null,
     "exception": null,
     "start_time": null,
     "status": "pending"
    },
    "tags": []
   },
   "source": [
    "## only by model"
   ]
  },
  {
   "cell_type": "code",
   "execution_count": null,
   "id": "8e9d6944-87ba-4c41-af14-fb5ed93262f0",
   "metadata": {
    "papermill": {
     "duration": null,
     "end_time": null,
     "exception": null,
     "start_time": null,
     "status": "pending"
    },
    "tags": [
     "hide-input"
    ]
   },
   "outputs": [],
   "source": [
    "idx = disease_associations_all.index.intersection(scores_model_only.index)\n",
    "disease_assocications_new = disease_associations_all.loc[idx].sort_values(\n",
    "    'score', ascending=False)\n",
    "disease_assocications_new.head(20)"
   ]
  },
  {
   "cell_type": "code",
   "execution_count": null,
   "id": "ceefc483-b889-4bab-b207-c8d5fd97fa4a",
   "metadata": {
    "papermill": {
     "duration": null,
     "end_time": null,
     "exception": null,
     "start_time": null,
     "status": "pending"
    },
    "tags": [
     "hide-input"
    ]
   },
   "outputs": [],
   "source": [
    "mask = disease_assocications_new.loc[idx, 'score'] >= 2.0\n",
    "disease_assocications_new.loc[idx].loc[mask]"
   ]
  },
  {
   "cell_type": "markdown",
   "id": "f85eede2-7b61-4285-ba8c-745f77f6ab22",
   "metadata": {
    "papermill": {
     "duration": null,
     "end_time": null,
     "exception": null,
     "start_time": null,
     "status": "pending"
    },
    "tags": []
   },
   "source": [
    "## Only by model which were significant"
   ]
  },
  {
   "cell_type": "code",
   "execution_count": null,
   "id": "4644759b-8cc2-4f99-a16c-16419cfb915c",
   "metadata": {
    "papermill": {
     "duration": null,
     "end_time": null,
     "exception": null,
     "start_time": null,
     "status": "pending"
    },
    "tags": [
     "hide-input"
    ]
   },
   "outputs": [],
   "source": [
    "idx = disease_associations_all.index.intersection(\n",
    "    scores_model_only_rejected.index)\n",
    "disease_assocications_new_rejected = disease_associations_all.loc[idx].sort_values(\n",
    "    'score', ascending=False)\n",
    "disease_assocications_new_rejected.head(20)"
   ]
  },
  {
   "cell_type": "code",
   "execution_count": null,
   "id": "365d8641-97a8-464f-b69b-270af9ae6e2d",
   "metadata": {
    "papermill": {
     "duration": null,
     "end_time": null,
     "exception": null,
     "start_time": null,
     "status": "pending"
    },
    "tags": [
     "hide-input"
    ]
   },
   "outputs": [],
   "source": [
    "mask = disease_assocications_new_rejected.loc[idx, 'score'] >= 2.0\n",
    "disease_assocications_new_rejected.loc[idx].loc[mask]"
   ]
  },
  {
   "cell_type": "markdown",
   "id": "4f22614b-e058-4e35-b8a9-141c291a93bc",
   "metadata": {
    "papermill": {
     "duration": null,
     "end_time": null,
     "exception": null,
     "start_time": null,
     "status": "pending"
    },
    "tags": []
   },
   "source": [
    "## Shared which are only significant for by model"
   ]
  },
  {
   "cell_type": "code",
   "execution_count": null,
   "id": "82eb2ba8-4fe7-431d-8095-5be43f7791b7",
   "metadata": {
    "papermill": {
     "duration": null,
     "end_time": null,
     "exception": null,
     "start_time": null,
     "status": "pending"
    },
    "tags": []
   },
   "outputs": [],
   "source": [
    "mask = (scores_common[(str(args.model_key), 'rejected')] & mask_different)\n",
    "mask.sum()"
   ]
  },
  {
   "cell_type": "code",
   "execution_count": null,
   "id": "6416d494-5f3e-4cf4-b766-b1f95e40ae1c",
   "metadata": {
    "papermill": {
     "duration": null,
     "end_time": null,
     "exception": null,
     "start_time": null,
     "status": "pending"
    },
    "tags": [
     "hide-input"
    ]
   },
   "outputs": [],
   "source": [
    "idx = disease_associations_all.index.intersection(mask.index[mask])\n",
    "disease_assocications_shared_rejected_by_model = (disease_associations_all.loc[idx].sort_values(\n",
    "    'score', ascending=False))\n",
    "disease_assocications_shared_rejected_by_model.head(20)"
   ]
  },
  {
   "cell_type": "code",
   "execution_count": null,
   "id": "10899e28-4aee-4d44-a542-e45be6699a1b",
   "metadata": {
    "papermill": {
     "duration": null,
     "end_time": null,
     "exception": null,
     "start_time": null,
     "status": "pending"
    },
    "tags": [
     "hide-input"
    ]
   },
   "outputs": [],
   "source": [
    "mask = disease_assocications_shared_rejected_by_model.loc[idx, 'score'] >= 2.0\n",
    "disease_assocications_shared_rejected_by_model.loc[idx].loc[mask]"
   ]
  },
  {
   "cell_type": "markdown",
   "id": "b6c082ea-7d92-4296-8ec9-d279509142a3",
   "metadata": {
    "papermill": {
     "duration": null,
     "end_time": null,
     "exception": null,
     "start_time": null,
     "status": "pending"
    },
    "tags": []
   },
   "source": [
    "## Only significant by RSN"
   ]
  },
  {
   "cell_type": "code",
   "execution_count": null,
   "id": "c59aae50-6877-47cc-99f6-646862d29121",
   "metadata": {
    "papermill": {
     "duration": null,
     "end_time": null,
     "exception": null,
     "start_time": null,
     "status": "pending"
    },
    "tags": []
   },
   "outputs": [],
   "source": [
    "mask = (scores_common[(str(args.baseline), 'rejected')] & mask_different)\n",
    "mask.sum()"
   ]
  },
  {
   "cell_type": "code",
   "execution_count": null,
   "id": "7780de55-c63b-4028-a6d0-58bce7be81da",
   "metadata": {
    "papermill": {
     "duration": null,
     "end_time": null,
     "exception": null,
     "start_time": null,
     "status": "pending"
    },
    "tags": [
     "hide-input"
    ]
   },
   "outputs": [],
   "source": [
    "idx = disease_associations_all.index.intersection(mask.index[mask])\n",
    "disease_assocications_shared_rejected_by_RSN = (\n",
    "    disease_associations_all\n",
    "    .loc[idx]\n",
    "    .sort_values('score', ascending=False))\n",
    "disease_assocications_shared_rejected_by_RSN.head(20)"
   ]
  },
  {
   "cell_type": "code",
   "execution_count": null,
   "id": "03115c8f-1f20-4b51-a78c-4d7c0317dc33",
   "metadata": {
    "papermill": {
     "duration": null,
     "end_time": null,
     "exception": null,
     "start_time": null,
     "status": "pending"
    },
    "tags": [
     "hide-input"
    ]
   },
   "outputs": [],
   "source": [
    "mask = disease_assocications_shared_rejected_by_RSN.loc[idx, 'score'] >= 2.0\n",
    "disease_assocications_shared_rejected_by_RSN.loc[idx].loc[mask]"
   ]
  },
  {
   "cell_type": "markdown",
   "id": "9d72708d-ad27-435b-b672-7dfe35283601",
   "metadata": {
    "papermill": {
     "duration": null,
     "end_time": null,
     "exception": null,
     "start_time": null,
     "status": "pending"
    },
    "tags": []
   },
   "source": [
    "## Write to excel"
   ]
  },
  {
   "cell_type": "code",
   "execution_count": null,
   "id": "91e7fbb7-69fd-4b4c-9bc2-40e8dd1907b3",
   "metadata": {
    "papermill": {
     "duration": null,
     "end_time": null,
     "exception": null,
     "start_time": null,
     "status": "pending"
    },
    "tags": [
     "hide-input"
    ]
   },
   "outputs": [],
   "source": [
    "disease_associations_all.to_excel(\n",
    "    writer, sheet_name='disease_assoc_all', **writer_args)\n",
    "disease_assocications_new.to_excel(\n",
    "    writer, sheet_name='disease_assoc_new', **writer_args)\n",
    "disease_assocications_new_rejected.to_excel(\n",
    "    writer, sheet_name='disease_assoc_new_rejected', **writer_args)"
   ]
  },
  {
   "cell_type": "markdown",
   "id": "52a42028-7e2d-47d5-be02-52f7ff1f3665",
   "metadata": {
    "papermill": {
     "duration": null,
     "end_time": null,
     "exception": null,
     "start_time": null,
     "status": "pending"
    },
    "tags": []
   },
   "source": [
    "## Outputs"
   ]
  },
  {
   "cell_type": "code",
   "execution_count": null,
   "id": "7f3a7433-3bf1-4168-8f16-eb6d415ef17f",
   "metadata": {
    "papermill": {
     "duration": null,
     "end_time": null,
     "exception": null,
     "start_time": null,
     "status": "pending"
    },
    "tags": [
     "hide-input"
    ]
   },
   "outputs": [],
   "source": [
    "writer.close()\n",
    "files_out"
   ]
  }
 ],
 "metadata": {
  "kernelspec": {
   "display_name": "Python 3",
   "language": "python",
   "name": "python3"
  },
  "language_info": {
   "codemirror_mode": {
    "name": "ipython",
    "version": 3
   },
   "file_extension": ".py",
   "mimetype": "text/x-python",
   "name": "python",
   "nbconvert_exporter": "python",
   "pygments_lexer": "ipython3",
   "version": "3.8.19"
  },
  "papermill": {
   "default_parameters": {},
   "duration": 15.668462,
   "end_time": "2024-07-13T04:45:44.147379",
   "environment_variables": {},
   "exception": true,
   "input_path": "10_2_ald_compare_methods.ipynb",
   "output_path": "runs/alzheimer_study/diff_analysis/AD/PI_vs_CF/10_2_ald_compare_methods.ipynb",
   "parameters": {
    "annotaitons_gene_col": "None",
    "baseline": "PI",
    "disease_ontology": 10652,
    "folder_experiment": "runs/alzheimer_study",
    "model_key": "CF",
    "out_folder": "diff_analysis",
    "target": "AD"
   },
   "start_time": "2024-07-13T04:45:28.478917",
   "version": "2.6.0"
  }
 },
 "nbformat": 4,
 "nbformat_minor": 5
}