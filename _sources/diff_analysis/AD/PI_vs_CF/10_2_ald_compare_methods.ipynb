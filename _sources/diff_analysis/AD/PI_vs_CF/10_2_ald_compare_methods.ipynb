{
 "cells": [
  {
   "cell_type": "markdown",
   "id": "9acfeaca-5f8c-42f3-9a8e-83ed737eb35c",
   "metadata": {
    "papermill": {
     "duration": 0.01656,
     "end_time": "2024-06-13T10:10:24.583820",
     "exception": false,
     "start_time": "2024-06-13T10:10:24.567260",
     "status": "completed"
    },
    "tags": []
   },
   "source": [
    "# Compare outcomes from differential analysis based on different imputation methods\n",
    "\n",
    "- load scores based on `10_1_ald_diff_analysis`"
   ]
  },
  {
   "cell_type": "code",
   "execution_count": 1,
   "id": "eec6f931-c04d-428c-b2b1-0424c50e6cd2",
   "metadata": {
    "execution": {
     "iopub.execute_input": "2024-06-13T10:10:24.612344Z",
     "iopub.status.busy": "2024-06-13T10:10:24.611982Z",
     "iopub.status.idle": "2024-06-13T10:10:26.450966Z",
     "shell.execute_reply": "2024-06-13T10:10:26.450140Z"
    },
    "papermill": {
     "duration": 1.855072,
     "end_time": "2024-06-13T10:10:26.453484",
     "exception": false,
     "start_time": "2024-06-13T10:10:24.598412",
     "status": "completed"
    },
    "tags": [
     "hide-input"
    ]
   },
   "outputs": [],
   "source": [
    "import logging\n",
    "from pathlib import Path\n",
    "\n",
    "import matplotlib.pyplot as plt\n",
    "import pandas as pd\n",
    "import seaborn as sns\n",
    "from IPython.display import display\n",
    "\n",
    "import vaep\n",
    "import vaep.databases.diseases\n",
    "\n",
    "logger = vaep.logging.setup_nb_logger()\n",
    "\n",
    "plt.rcParams['figure.figsize'] = (2, 2)\n",
    "fontsize = 5\n",
    "vaep.plotting.make_large_descriptors(fontsize)\n",
    "logging.getLogger('fontTools').setLevel(logging.ERROR)\n",
    "\n",
    "# catch passed parameters\n",
    "args = None\n",
    "args = dict(globals()).keys()"
   ]
  },
  {
   "cell_type": "markdown",
   "id": "85f5f5d5",
   "metadata": {
    "papermill": {
     "duration": 0.011328,
     "end_time": "2024-06-13T10:10:26.477896",
     "exception": false,
     "start_time": "2024-06-13T10:10:26.466568",
     "status": "completed"
    },
    "tags": []
   },
   "source": [
    "## Parameters\n",
    "Default and set parameters for the notebook."
   ]
  },
  {
   "cell_type": "code",
   "execution_count": 2,
   "id": "f4bf65da-0569-4a21-ba20-9cae7d3679e7",
   "metadata": {
    "execution": {
     "iopub.execute_input": "2024-06-13T10:10:26.503571Z",
     "iopub.status.busy": "2024-06-13T10:10:26.503182Z",
     "iopub.status.idle": "2024-06-13T10:10:26.508097Z",
     "shell.execute_reply": "2024-06-13T10:10:26.507346Z"
    },
    "papermill": {
     "duration": 0.021414,
     "end_time": "2024-06-13T10:10:26.511293",
     "exception": false,
     "start_time": "2024-06-13T10:10:26.489879",
     "status": "completed"
    },
    "tags": [
     "parameters"
    ]
   },
   "outputs": [],
   "source": [
    "folder_experiment = 'runs/appl_ald_data/plasma/proteinGroups'\n",
    "\n",
    "target = 'kleiner'\n",
    "model_key = 'VAE'\n",
    "baseline = 'RSN'\n",
    "out_folder = 'diff_analysis'\n",
    "selected_statistics = ['p-unc', '-Log10 pvalue', 'qvalue', 'rejected']\n",
    "\n",
    "disease_ontology = 5082  # code from https://disease-ontology.org/\n",
    "# split diseases notebook? Query gene names for proteins in file from uniprot?\n",
    "annotaitons_gene_col = 'PG.Genes'"
   ]
  },
  {
   "cell_type": "code",
   "execution_count": 3,
   "id": "e878fab9",
   "metadata": {
    "execution": {
     "iopub.execute_input": "2024-06-13T10:10:26.537074Z",
     "iopub.status.busy": "2024-06-13T10:10:26.536720Z",
     "iopub.status.idle": "2024-06-13T10:10:26.541109Z",
     "shell.execute_reply": "2024-06-13T10:10:26.540396Z"
    },
    "papermill": {
     "duration": 0.020996,
     "end_time": "2024-06-13T10:10:26.544344",
     "exception": false,
     "start_time": "2024-06-13T10:10:26.523348",
     "status": "completed"
    },
    "tags": [
     "injected-parameters"
    ]
   },
   "outputs": [],
   "source": [
    "# Parameters\n",
    "disease_ontology = 10652\n",
    "folder_experiment = \"runs/alzheimer_study\"\n",
    "target = \"AD\"\n",
    "baseline = \"PI\"\n",
    "model_key = \"CF\"\n",
    "out_folder = \"diff_analysis\"\n",
    "annotaitons_gene_col = \"None\"\n"
   ]
  },
  {
   "cell_type": "markdown",
   "id": "22c645fc-c7eb-4c69-a7aa-084fc733258f",
   "metadata": {
    "papermill": {
     "duration": 0.012039,
     "end_time": "2024-06-13T10:10:26.568637",
     "exception": false,
     "start_time": "2024-06-13T10:10:26.556598",
     "status": "completed"
    },
    "tags": []
   },
   "source": [
    "Add set parameters to configuration"
   ]
  },
  {
   "cell_type": "code",
   "execution_count": 4,
   "id": "978876d0-b3cc-4847-8eab-dc0b89ddbbcd",
   "metadata": {
    "execution": {
     "iopub.execute_input": "2024-06-13T10:10:26.594498Z",
     "iopub.status.busy": "2024-06-13T10:10:26.594133Z",
     "iopub.status.idle": "2024-06-13T10:10:26.618708Z",
     "shell.execute_reply": "2024-06-13T10:10:26.617925Z"
    },
    "papermill": {
     "duration": 0.041422,
     "end_time": "2024-06-13T10:10:26.622256",
     "exception": false,
     "start_time": "2024-06-13T10:10:26.580834",
     "status": "completed"
    },
    "tags": [
     "hide-input"
    ]
   },
   "outputs": [
    {
     "name": "stderr",
     "output_type": "stream",
     "text": [
      "root - INFO     Removed from global namespace: folder_experiment\n"
     ]
    },
    {
     "name": "stderr",
     "output_type": "stream",
     "text": [
      "root - INFO     Removed from global namespace: target\n"
     ]
    },
    {
     "name": "stderr",
     "output_type": "stream",
     "text": [
      "root - INFO     Removed from global namespace: model_key\n"
     ]
    },
    {
     "name": "stderr",
     "output_type": "stream",
     "text": [
      "root - INFO     Removed from global namespace: baseline\n"
     ]
    },
    {
     "name": "stderr",
     "output_type": "stream",
     "text": [
      "root - INFO     Removed from global namespace: out_folder\n"
     ]
    },
    {
     "name": "stderr",
     "output_type": "stream",
     "text": [
      "root - INFO     Removed from global namespace: selected_statistics\n"
     ]
    },
    {
     "name": "stderr",
     "output_type": "stream",
     "text": [
      "root - INFO     Removed from global namespace: disease_ontology\n"
     ]
    },
    {
     "name": "stderr",
     "output_type": "stream",
     "text": [
      "root - INFO     Removed from global namespace: annotaitons_gene_col\n"
     ]
    },
    {
     "name": "stderr",
     "output_type": "stream",
     "text": [
      "root - INFO     Already set attribute: folder_experiment has value runs/alzheimer_study\n"
     ]
    },
    {
     "name": "stderr",
     "output_type": "stream",
     "text": [
      "root - INFO     Already set attribute: out_folder has value diff_analysis\n"
     ]
    },
    {
     "data": {
      "text/plain": [
       "{'annotaitons_gene_col': 'None',\n",
       " 'baseline': 'PI',\n",
       " 'data': PosixPath('runs/alzheimer_study/data'),\n",
       " 'disease_ontology': 10652,\n",
       " 'folder_experiment': PosixPath('runs/alzheimer_study'),\n",
       " 'freq_features_observed': PosixPath('runs/alzheimer_study/freq_features_observed.csv'),\n",
       " 'model_key': 'CF',\n",
       " 'out_figures': PosixPath('runs/alzheimer_study/figures'),\n",
       " 'out_folder': PosixPath('runs/alzheimer_study/diff_analysis/AD/PI_vs_CF'),\n",
       " 'out_metrics': PosixPath('runs/alzheimer_study'),\n",
       " 'out_models': PosixPath('runs/alzheimer_study'),\n",
       " 'out_preds': PosixPath('runs/alzheimer_study/preds'),\n",
       " 'scores_folder': PosixPath('runs/alzheimer_study/diff_analysis/AD/scores'),\n",
       " 'selected_statistics': ['p-unc', '-Log10 pvalue', 'qvalue', 'rejected'],\n",
       " 'target': 'AD'}"
      ]
     },
     "execution_count": 4,
     "metadata": {},
     "output_type": "execute_result"
    }
   ],
   "source": [
    "params = vaep.nb.get_params(args, globals=globals())\n",
    "args = vaep.nb.Config()\n",
    "args.folder_experiment = Path(params[\"folder_experiment\"])\n",
    "args = vaep.nb.add_default_paths(args,\n",
    "                                 out_root=(\n",
    "                                     args.folder_experiment\n",
    "                                     / params[\"out_folder\"]\n",
    "                                     / params[\"target\"]\n",
    "                                     / f\"{params['baseline']}_vs_{params['model_key']}\"))\n",
    "args.update_from_dict(params)\n",
    "args.scores_folder = scores_folder = (args.folder_experiment\n",
    "                                      / params[\"out_folder\"]\n",
    "                                      / params[\"target\"]\n",
    "                                      / 'scores')\n",
    "args.freq_features_observed = args.folder_experiment / 'freq_features_observed.csv'\n",
    "args"
   ]
  },
  {
   "cell_type": "markdown",
   "id": "fc184dea",
   "metadata": {
    "papermill": {
     "duration": 0.013037,
     "end_time": "2024-06-13T10:10:26.648454",
     "exception": false,
     "start_time": "2024-06-13T10:10:26.635417",
     "status": "completed"
    },
    "tags": []
   },
   "source": [
    "### Excel file for exports"
   ]
  },
  {
   "cell_type": "code",
   "execution_count": 5,
   "id": "a8016d79-e41a-40a2-bcbf-e11711c33b7d",
   "metadata": {
    "execution": {
     "iopub.execute_input": "2024-06-13T10:10:26.676255Z",
     "iopub.status.busy": "2024-06-13T10:10:26.675810Z",
     "iopub.status.idle": "2024-06-13T10:10:26.817550Z",
     "shell.execute_reply": "2024-06-13T10:10:26.816791Z"
    },
    "papermill": {
     "duration": 0.158135,
     "end_time": "2024-06-13T10:10:26.819642",
     "exception": false,
     "start_time": "2024-06-13T10:10:26.661507",
     "status": "completed"
    },
    "tags": []
   },
   "outputs": [
    {
     "name": "stderr",
     "output_type": "stream",
     "text": [
      "root - INFO     Writing to excel file: runs/alzheimer_study/diff_analysis/AD/PI_vs_CF/diff_analysis_compare_methods.xlsx\n"
     ]
    }
   ],
   "source": [
    "files_out = dict()\n",
    "writer_args = dict(float_format='%.3f')\n",
    "\n",
    "fname = args.out_folder / 'diff_analysis_compare_methods.xlsx'\n",
    "files_out[fname.name] = fname\n",
    "writer = pd.ExcelWriter(fname)\n",
    "logger.info(\"Writing to excel file: %s\", fname)"
   ]
  },
  {
   "cell_type": "markdown",
   "id": "770d1f76-e86f-4ae3-9d7b-ceef9b9e9a22",
   "metadata": {
    "papermill": {
     "duration": 0.012768,
     "end_time": "2024-06-13T10:10:26.846446",
     "exception": false,
     "start_time": "2024-06-13T10:10:26.833678",
     "status": "completed"
    },
    "tags": []
   },
   "source": [
    "## Load scores"
   ]
  },
  {
   "cell_type": "markdown",
   "id": "6b108869",
   "metadata": {
    "papermill": {
     "duration": 0.013169,
     "end_time": "2024-06-13T10:10:26.872957",
     "exception": false,
     "start_time": "2024-06-13T10:10:26.859788",
     "status": "completed"
    },
    "tags": []
   },
   "source": [
    "### Load baseline model scores\n",
    "Show all statistics, later use selected statistics"
   ]
  },
  {
   "cell_type": "code",
   "execution_count": 6,
   "id": "97221134-5f61-4158-bfc5-ea30077140b8",
   "metadata": {
    "execution": {
     "iopub.execute_input": "2024-06-13T10:10:26.901740Z",
     "iopub.status.busy": "2024-06-13T10:10:26.900974Z",
     "iopub.status.idle": "2024-06-13T10:10:26.928668Z",
     "shell.execute_reply": "2024-06-13T10:10:26.927861Z"
    },
    "papermill": {
     "duration": 0.044516,
     "end_time": "2024-06-13T10:10:26.930743",
     "exception": false,
     "start_time": "2024-06-13T10:10:26.886227",
     "status": "completed"
    },
    "tags": [
     "hide-input"
    ]
   },
   "outputs": [
    {
     "data": {
      "text/html": [
       "<div>\n",
       "<style scoped>\n",
       "    .dataframe tbody tr th:only-of-type {\n",
       "        vertical-align: middle;\n",
       "    }\n",
       "\n",
       "    .dataframe tbody tr th {\n",
       "        vertical-align: top;\n",
       "    }\n",
       "\n",
       "    .dataframe thead tr th {\n",
       "        text-align: left;\n",
       "    }\n",
       "\n",
       "    .dataframe thead tr:last-of-type th {\n",
       "        text-align: right;\n",
       "    }\n",
       "</style>\n",
       "<table border=\"1\" class=\"dataframe\">\n",
       "  <thead>\n",
       "    <tr>\n",
       "      <th></th>\n",
       "      <th>model</th>\n",
       "      <th colspan=\"8\" halign=\"left\">PI</th>\n",
       "    </tr>\n",
       "    <tr>\n",
       "      <th></th>\n",
       "      <th>var</th>\n",
       "      <th>SS</th>\n",
       "      <th>DF</th>\n",
       "      <th>F</th>\n",
       "      <th>p-unc</th>\n",
       "      <th>np2</th>\n",
       "      <th>-Log10 pvalue</th>\n",
       "      <th>qvalue</th>\n",
       "      <th>rejected</th>\n",
       "    </tr>\n",
       "    <tr>\n",
       "      <th>protein groups</th>\n",
       "      <th>Source</th>\n",
       "      <th></th>\n",
       "      <th></th>\n",
       "      <th></th>\n",
       "      <th></th>\n",
       "      <th></th>\n",
       "      <th></th>\n",
       "      <th></th>\n",
       "      <th></th>\n",
       "    </tr>\n",
       "  </thead>\n",
       "  <tbody>\n",
       "    <tr>\n",
       "      <th rowspan=\"5\" valign=\"top\">A0A024QZX5;A0A087X1N8;P35237</th>\n",
       "      <th>AD</th>\n",
       "      <td>0.927</td>\n",
       "      <td>1</td>\n",
       "      <td>1.488</td>\n",
       "      <td>0.224</td>\n",
       "      <td>0.008</td>\n",
       "      <td>0.650</td>\n",
       "      <td>0.375</td>\n",
       "      <td>False</td>\n",
       "    </tr>\n",
       "    <tr>\n",
       "      <th>age</th>\n",
       "      <td>0.188</td>\n",
       "      <td>1</td>\n",
       "      <td>0.302</td>\n",
       "      <td>0.583</td>\n",
       "      <td>0.002</td>\n",
       "      <td>0.234</td>\n",
       "      <td>0.716</td>\n",
       "      <td>False</td>\n",
       "    </tr>\n",
       "    <tr>\n",
       "      <th>Kiel</th>\n",
       "      <td>2.567</td>\n",
       "      <td>1</td>\n",
       "      <td>4.118</td>\n",
       "      <td>0.044</td>\n",
       "      <td>0.021</td>\n",
       "      <td>1.358</td>\n",
       "      <td>0.110</td>\n",
       "      <td>False</td>\n",
       "    </tr>\n",
       "    <tr>\n",
       "      <th>Magdeburg</th>\n",
       "      <td>4.646</td>\n",
       "      <td>1</td>\n",
       "      <td>7.456</td>\n",
       "      <td>0.007</td>\n",
       "      <td>0.038</td>\n",
       "      <td>2.160</td>\n",
       "      <td>0.025</td>\n",
       "      <td>True</td>\n",
       "    </tr>\n",
       "    <tr>\n",
       "      <th>Sweden</th>\n",
       "      <td>7.696</td>\n",
       "      <td>1</td>\n",
       "      <td>12.350</td>\n",
       "      <td>0.001</td>\n",
       "      <td>0.061</td>\n",
       "      <td>3.259</td>\n",
       "      <td>0.003</td>\n",
       "      <td>True</td>\n",
       "    </tr>\n",
       "    <tr>\n",
       "      <th>...</th>\n",
       "      <th>...</th>\n",
       "      <td>...</td>\n",
       "      <td>...</td>\n",
       "      <td>...</td>\n",
       "      <td>...</td>\n",
       "      <td>...</td>\n",
       "      <td>...</td>\n",
       "      <td>...</td>\n",
       "      <td>...</td>\n",
       "    </tr>\n",
       "    <tr>\n",
       "      <th rowspan=\"5\" valign=\"top\">S4R3U6</th>\n",
       "      <th>AD</th>\n",
       "      <td>0.035</td>\n",
       "      <td>1</td>\n",
       "      <td>0.036</td>\n",
       "      <td>0.849</td>\n",
       "      <td>0.000</td>\n",
       "      <td>0.071</td>\n",
       "      <td>0.911</td>\n",
       "      <td>False</td>\n",
       "    </tr>\n",
       "    <tr>\n",
       "      <th>age</th>\n",
       "      <td>0.174</td>\n",
       "      <td>1</td>\n",
       "      <td>0.181</td>\n",
       "      <td>0.671</td>\n",
       "      <td>0.001</td>\n",
       "      <td>0.173</td>\n",
       "      <td>0.787</td>\n",
       "      <td>False</td>\n",
       "    </tr>\n",
       "    <tr>\n",
       "      <th>Kiel</th>\n",
       "      <td>0.057</td>\n",
       "      <td>1</td>\n",
       "      <td>0.059</td>\n",
       "      <td>0.809</td>\n",
       "      <td>0.000</td>\n",
       "      <td>0.092</td>\n",
       "      <td>0.883</td>\n",
       "      <td>False</td>\n",
       "    </tr>\n",
       "    <tr>\n",
       "      <th>Magdeburg</th>\n",
       "      <td>1.753</td>\n",
       "      <td>1</td>\n",
       "      <td>1.815</td>\n",
       "      <td>0.180</td>\n",
       "      <td>0.009</td>\n",
       "      <td>0.746</td>\n",
       "      <td>0.321</td>\n",
       "      <td>False</td>\n",
       "    </tr>\n",
       "    <tr>\n",
       "      <th>Sweden</th>\n",
       "      <td>17.162</td>\n",
       "      <td>1</td>\n",
       "      <td>17.768</td>\n",
       "      <td>0.000</td>\n",
       "      <td>0.085</td>\n",
       "      <td>4.415</td>\n",
       "      <td>0.000</td>\n",
       "      <td>True</td>\n",
       "    </tr>\n",
       "  </tbody>\n",
       "</table>\n",
       "<p>7105 rows × 8 columns</p>\n",
       "</div>"
      ],
      "text/plain": [
       "model                                      PI                        \\\n",
       "var                                        SS DF      F p-unc   np2   \n",
       "protein groups               Source                                   \n",
       "A0A024QZX5;A0A087X1N8;P35237 AD         0.927  1  1.488 0.224 0.008   \n",
       "                             age        0.188  1  0.302 0.583 0.002   \n",
       "                             Kiel       2.567  1  4.118 0.044 0.021   \n",
       "                             Magdeburg  4.646  1  7.456 0.007 0.038   \n",
       "                             Sweden     7.696  1 12.350 0.001 0.061   \n",
       "...                                       ... ..    ...   ...   ...   \n",
       "S4R3U6                       AD         0.035  1  0.036 0.849 0.000   \n",
       "                             age        0.174  1  0.181 0.671 0.001   \n",
       "                             Kiel       0.057  1  0.059 0.809 0.000   \n",
       "                             Magdeburg  1.753  1  1.815 0.180 0.009   \n",
       "                             Sweden    17.162  1 17.768 0.000 0.085   \n",
       "\n",
       "model                                                                 \n",
       "var                                    -Log10 pvalue qvalue rejected  \n",
       "protein groups               Source                                   \n",
       "A0A024QZX5;A0A087X1N8;P35237 AD                0.650  0.375    False  \n",
       "                             age               0.234  0.716    False  \n",
       "                             Kiel              1.358  0.110    False  \n",
       "                             Magdeburg         2.160  0.025     True  \n",
       "                             Sweden            3.259  0.003     True  \n",
       "...                                              ...    ...      ...  \n",
       "S4R3U6                       AD                0.071  0.911    False  \n",
       "                             age               0.173  0.787    False  \n",
       "                             Kiel              0.092  0.883    False  \n",
       "                             Magdeburg         0.746  0.321    False  \n",
       "                             Sweden            4.415  0.000     True  \n",
       "\n",
       "[7105 rows x 8 columns]"
      ]
     },
     "execution_count": 6,
     "metadata": {},
     "output_type": "execute_result"
    }
   ],
   "source": [
    "fname = args.scores_folder / f'diff_analysis_scores_{args.baseline}.pkl'\n",
    "scores_baseline = pd.read_pickle(fname)\n",
    "scores_baseline"
   ]
  },
  {
   "cell_type": "markdown",
   "id": "e49a8da2",
   "metadata": {
    "papermill": {
     "duration": 0.014013,
     "end_time": "2024-06-13T10:10:26.959241",
     "exception": false,
     "start_time": "2024-06-13T10:10:26.945228",
     "status": "completed"
    },
    "tags": []
   },
   "source": [
    "### Load selected comparison model scores"
   ]
  },
  {
   "cell_type": "code",
   "execution_count": 7,
   "id": "f0635e4d",
   "metadata": {
    "execution": {
     "iopub.execute_input": "2024-06-13T10:10:26.988954Z",
     "iopub.status.busy": "2024-06-13T10:10:26.988510Z",
     "iopub.status.idle": "2024-06-13T10:10:27.007726Z",
     "shell.execute_reply": "2024-06-13T10:10:27.007090Z"
    },
    "papermill": {
     "duration": 0.03579,
     "end_time": "2024-06-13T10:10:27.009089",
     "exception": false,
     "start_time": "2024-06-13T10:10:26.973299",
     "status": "completed"
    },
    "tags": [
     "hide-input"
    ]
   },
   "outputs": [
    {
     "data": {
      "text/html": [
       "<div>\n",
       "<style scoped>\n",
       "    .dataframe tbody tr th:only-of-type {\n",
       "        vertical-align: middle;\n",
       "    }\n",
       "\n",
       "    .dataframe tbody tr th {\n",
       "        vertical-align: top;\n",
       "    }\n",
       "\n",
       "    .dataframe thead tr th {\n",
       "        text-align: left;\n",
       "    }\n",
       "\n",
       "    .dataframe thead tr:last-of-type th {\n",
       "        text-align: right;\n",
       "    }\n",
       "</style>\n",
       "<table border=\"1\" class=\"dataframe\">\n",
       "  <thead>\n",
       "    <tr>\n",
       "      <th></th>\n",
       "      <th>model</th>\n",
       "      <th colspan=\"8\" halign=\"left\">CF</th>\n",
       "    </tr>\n",
       "    <tr>\n",
       "      <th></th>\n",
       "      <th>var</th>\n",
       "      <th>SS</th>\n",
       "      <th>DF</th>\n",
       "      <th>F</th>\n",
       "      <th>p-unc</th>\n",
       "      <th>np2</th>\n",
       "      <th>-Log10 pvalue</th>\n",
       "      <th>qvalue</th>\n",
       "      <th>rejected</th>\n",
       "    </tr>\n",
       "    <tr>\n",
       "      <th>protein groups</th>\n",
       "      <th>Source</th>\n",
       "      <th></th>\n",
       "      <th></th>\n",
       "      <th></th>\n",
       "      <th></th>\n",
       "      <th></th>\n",
       "      <th></th>\n",
       "      <th></th>\n",
       "      <th></th>\n",
       "    </tr>\n",
       "  </thead>\n",
       "  <tbody>\n",
       "    <tr>\n",
       "      <th rowspan=\"5\" valign=\"top\">A0A024QZX5;A0A087X1N8;P35237</th>\n",
       "      <th>AD</th>\n",
       "      <td>1.157</td>\n",
       "      <td>1</td>\n",
       "      <td>8.251</td>\n",
       "      <td>0.005</td>\n",
       "      <td>0.041</td>\n",
       "      <td>2.344</td>\n",
       "      <td>0.014</td>\n",
       "      <td>True</td>\n",
       "    </tr>\n",
       "    <tr>\n",
       "      <th>age</th>\n",
       "      <td>0.010</td>\n",
       "      <td>1</td>\n",
       "      <td>0.069</td>\n",
       "      <td>0.793</td>\n",
       "      <td>0.000</td>\n",
       "      <td>0.101</td>\n",
       "      <td>0.863</td>\n",
       "      <td>False</td>\n",
       "    </tr>\n",
       "    <tr>\n",
       "      <th>Kiel</th>\n",
       "      <td>0.301</td>\n",
       "      <td>1</td>\n",
       "      <td>2.149</td>\n",
       "      <td>0.144</td>\n",
       "      <td>0.011</td>\n",
       "      <td>0.841</td>\n",
       "      <td>0.245</td>\n",
       "      <td>False</td>\n",
       "    </tr>\n",
       "    <tr>\n",
       "      <th>Magdeburg</th>\n",
       "      <td>0.468</td>\n",
       "      <td>1</td>\n",
       "      <td>3.334</td>\n",
       "      <td>0.069</td>\n",
       "      <td>0.017</td>\n",
       "      <td>1.159</td>\n",
       "      <td>0.137</td>\n",
       "      <td>False</td>\n",
       "    </tr>\n",
       "    <tr>\n",
       "      <th>Sweden</th>\n",
       "      <td>1.701</td>\n",
       "      <td>1</td>\n",
       "      <td>12.124</td>\n",
       "      <td>0.001</td>\n",
       "      <td>0.060</td>\n",
       "      <td>3.210</td>\n",
       "      <td>0.002</td>\n",
       "      <td>True</td>\n",
       "    </tr>\n",
       "    <tr>\n",
       "      <th>...</th>\n",
       "      <th>...</th>\n",
       "      <td>...</td>\n",
       "      <td>...</td>\n",
       "      <td>...</td>\n",
       "      <td>...</td>\n",
       "      <td>...</td>\n",
       "      <td>...</td>\n",
       "      <td>...</td>\n",
       "      <td>...</td>\n",
       "    </tr>\n",
       "    <tr>\n",
       "      <th rowspan=\"5\" valign=\"top\">S4R3U6</th>\n",
       "      <th>AD</th>\n",
       "      <td>0.955</td>\n",
       "      <td>1</td>\n",
       "      <td>2.079</td>\n",
       "      <td>0.151</td>\n",
       "      <td>0.011</td>\n",
       "      <td>0.821</td>\n",
       "      <td>0.254</td>\n",
       "      <td>False</td>\n",
       "    </tr>\n",
       "    <tr>\n",
       "      <th>age</th>\n",
       "      <td>0.310</td>\n",
       "      <td>1</td>\n",
       "      <td>0.674</td>\n",
       "      <td>0.413</td>\n",
       "      <td>0.004</td>\n",
       "      <td>0.384</td>\n",
       "      <td>0.544</td>\n",
       "      <td>False</td>\n",
       "    </tr>\n",
       "    <tr>\n",
       "      <th>Kiel</th>\n",
       "      <td>1.153</td>\n",
       "      <td>1</td>\n",
       "      <td>2.510</td>\n",
       "      <td>0.115</td>\n",
       "      <td>0.013</td>\n",
       "      <td>0.940</td>\n",
       "      <td>0.206</td>\n",
       "      <td>False</td>\n",
       "    </tr>\n",
       "    <tr>\n",
       "      <th>Magdeburg</th>\n",
       "      <td>1.396</td>\n",
       "      <td>1</td>\n",
       "      <td>3.038</td>\n",
       "      <td>0.083</td>\n",
       "      <td>0.016</td>\n",
       "      <td>1.081</td>\n",
       "      <td>0.157</td>\n",
       "      <td>False</td>\n",
       "    </tr>\n",
       "    <tr>\n",
       "      <th>Sweden</th>\n",
       "      <td>21.587</td>\n",
       "      <td>1</td>\n",
       "      <td>46.993</td>\n",
       "      <td>0.000</td>\n",
       "      <td>0.197</td>\n",
       "      <td>10.019</td>\n",
       "      <td>0.000</td>\n",
       "      <td>True</td>\n",
       "    </tr>\n",
       "  </tbody>\n",
       "</table>\n",
       "<p>7105 rows × 8 columns</p>\n",
       "</div>"
      ],
      "text/plain": [
       "model                                      CF                        \\\n",
       "var                                        SS DF      F p-unc   np2   \n",
       "protein groups               Source                                   \n",
       "A0A024QZX5;A0A087X1N8;P35237 AD         1.157  1  8.251 0.005 0.041   \n",
       "                             age        0.010  1  0.069 0.793 0.000   \n",
       "                             Kiel       0.301  1  2.149 0.144 0.011   \n",
       "                             Magdeburg  0.468  1  3.334 0.069 0.017   \n",
       "                             Sweden     1.701  1 12.124 0.001 0.060   \n",
       "...                                       ... ..    ...   ...   ...   \n",
       "S4R3U6                       AD         0.955  1  2.079 0.151 0.011   \n",
       "                             age        0.310  1  0.674 0.413 0.004   \n",
       "                             Kiel       1.153  1  2.510 0.115 0.013   \n",
       "                             Magdeburg  1.396  1  3.038 0.083 0.016   \n",
       "                             Sweden    21.587  1 46.993 0.000 0.197   \n",
       "\n",
       "model                                                                 \n",
       "var                                    -Log10 pvalue qvalue rejected  \n",
       "protein groups               Source                                   \n",
       "A0A024QZX5;A0A087X1N8;P35237 AD                2.344  0.014     True  \n",
       "                             age               0.101  0.863    False  \n",
       "                             Kiel              0.841  0.245    False  \n",
       "                             Magdeburg         1.159  0.137    False  \n",
       "                             Sweden            3.210  0.002     True  \n",
       "...                                              ...    ...      ...  \n",
       "S4R3U6                       AD                0.821  0.254    False  \n",
       "                             age               0.384  0.544    False  \n",
       "                             Kiel              0.940  0.206    False  \n",
       "                             Magdeburg         1.081  0.157    False  \n",
       "                             Sweden           10.019  0.000     True  \n",
       "\n",
       "[7105 rows x 8 columns]"
      ]
     },
     "execution_count": 7,
     "metadata": {},
     "output_type": "execute_result"
    }
   ],
   "source": [
    "fname = args.scores_folder / f'diff_analysis_scores_{args.model_key}.pkl'\n",
    "scores_model = pd.read_pickle(fname)\n",
    "scores_model"
   ]
  },
  {
   "cell_type": "markdown",
   "id": "06b7e883",
   "metadata": {
    "papermill": {
     "duration": 0.007172,
     "end_time": "2024-06-13T10:10:27.023682",
     "exception": false,
     "start_time": "2024-06-13T10:10:27.016510",
     "status": "completed"
    },
    "tags": []
   },
   "source": [
    "### Combined scores\n",
    "show only selected statistics for comparsion"
   ]
  },
  {
   "cell_type": "code",
   "execution_count": 8,
   "id": "373fdf65",
   "metadata": {
    "execution": {
     "iopub.execute_input": "2024-06-13T10:10:27.039191Z",
     "iopub.status.busy": "2024-06-13T10:10:27.038690Z",
     "iopub.status.idle": "2024-06-13T10:10:27.059377Z",
     "shell.execute_reply": "2024-06-13T10:10:27.058637Z"
    },
    "papermill": {
     "duration": 0.030181,
     "end_time": "2024-06-13T10:10:27.060743",
     "exception": false,
     "start_time": "2024-06-13T10:10:27.030562",
     "status": "completed"
    },
    "tags": [
     "hide-input"
    ]
   },
   "outputs": [
    {
     "data": {
      "text/html": [
       "<div>\n",
       "<style scoped>\n",
       "    .dataframe tbody tr th:only-of-type {\n",
       "        vertical-align: middle;\n",
       "    }\n",
       "\n",
       "    .dataframe tbody tr th {\n",
       "        vertical-align: top;\n",
       "    }\n",
       "\n",
       "    .dataframe thead tr th {\n",
       "        text-align: left;\n",
       "    }\n",
       "\n",
       "    .dataframe thead tr:last-of-type th {\n",
       "        text-align: right;\n",
       "    }\n",
       "</style>\n",
       "<table border=\"1\" class=\"dataframe\">\n",
       "  <thead>\n",
       "    <tr>\n",
       "      <th></th>\n",
       "      <th>model</th>\n",
       "      <th colspan=\"4\" halign=\"left\">CF</th>\n",
       "      <th colspan=\"4\" halign=\"left\">PI</th>\n",
       "    </tr>\n",
       "    <tr>\n",
       "      <th></th>\n",
       "      <th>var</th>\n",
       "      <th>p-unc</th>\n",
       "      <th>-Log10 pvalue</th>\n",
       "      <th>qvalue</th>\n",
       "      <th>rejected</th>\n",
       "      <th>p-unc</th>\n",
       "      <th>-Log10 pvalue</th>\n",
       "      <th>qvalue</th>\n",
       "      <th>rejected</th>\n",
       "    </tr>\n",
       "    <tr>\n",
       "      <th>protein groups</th>\n",
       "      <th>Source</th>\n",
       "      <th></th>\n",
       "      <th></th>\n",
       "      <th></th>\n",
       "      <th></th>\n",
       "      <th></th>\n",
       "      <th></th>\n",
       "      <th></th>\n",
       "      <th></th>\n",
       "    </tr>\n",
       "  </thead>\n",
       "  <tbody>\n",
       "    <tr>\n",
       "      <th rowspan=\"5\" valign=\"top\">A0A024QZX5;A0A087X1N8;P35237</th>\n",
       "      <th>AD</th>\n",
       "      <td>0.005</td>\n",
       "      <td>2.344</td>\n",
       "      <td>0.014</td>\n",
       "      <td>True</td>\n",
       "      <td>0.224</td>\n",
       "      <td>0.650</td>\n",
       "      <td>0.375</td>\n",
       "      <td>False</td>\n",
       "    </tr>\n",
       "    <tr>\n",
       "      <th>age</th>\n",
       "      <td>0.793</td>\n",
       "      <td>0.101</td>\n",
       "      <td>0.863</td>\n",
       "      <td>False</td>\n",
       "      <td>0.583</td>\n",
       "      <td>0.234</td>\n",
       "      <td>0.716</td>\n",
       "      <td>False</td>\n",
       "    </tr>\n",
       "    <tr>\n",
       "      <th>Kiel</th>\n",
       "      <td>0.144</td>\n",
       "      <td>0.841</td>\n",
       "      <td>0.245</td>\n",
       "      <td>False</td>\n",
       "      <td>0.044</td>\n",
       "      <td>1.358</td>\n",
       "      <td>0.110</td>\n",
       "      <td>False</td>\n",
       "    </tr>\n",
       "    <tr>\n",
       "      <th>Magdeburg</th>\n",
       "      <td>0.069</td>\n",
       "      <td>1.159</td>\n",
       "      <td>0.137</td>\n",
       "      <td>False</td>\n",
       "      <td>0.007</td>\n",
       "      <td>2.160</td>\n",
       "      <td>0.025</td>\n",
       "      <td>True</td>\n",
       "    </tr>\n",
       "    <tr>\n",
       "      <th>Sweden</th>\n",
       "      <td>0.001</td>\n",
       "      <td>3.210</td>\n",
       "      <td>0.002</td>\n",
       "      <td>True</td>\n",
       "      <td>0.001</td>\n",
       "      <td>3.259</td>\n",
       "      <td>0.003</td>\n",
       "      <td>True</td>\n",
       "    </tr>\n",
       "    <tr>\n",
       "      <th>...</th>\n",
       "      <th>...</th>\n",
       "      <td>...</td>\n",
       "      <td>...</td>\n",
       "      <td>...</td>\n",
       "      <td>...</td>\n",
       "      <td>...</td>\n",
       "      <td>...</td>\n",
       "      <td>...</td>\n",
       "      <td>...</td>\n",
       "    </tr>\n",
       "    <tr>\n",
       "      <th rowspan=\"5\" valign=\"top\">S4R3U6</th>\n",
       "      <th>AD</th>\n",
       "      <td>0.151</td>\n",
       "      <td>0.821</td>\n",
       "      <td>0.254</td>\n",
       "      <td>False</td>\n",
       "      <td>0.849</td>\n",
       "      <td>0.071</td>\n",
       "      <td>0.911</td>\n",
       "      <td>False</td>\n",
       "    </tr>\n",
       "    <tr>\n",
       "      <th>age</th>\n",
       "      <td>0.413</td>\n",
       "      <td>0.384</td>\n",
       "      <td>0.544</td>\n",
       "      <td>False</td>\n",
       "      <td>0.671</td>\n",
       "      <td>0.173</td>\n",
       "      <td>0.787</td>\n",
       "      <td>False</td>\n",
       "    </tr>\n",
       "    <tr>\n",
       "      <th>Kiel</th>\n",
       "      <td>0.115</td>\n",
       "      <td>0.940</td>\n",
       "      <td>0.206</td>\n",
       "      <td>False</td>\n",
       "      <td>0.809</td>\n",
       "      <td>0.092</td>\n",
       "      <td>0.883</td>\n",
       "      <td>False</td>\n",
       "    </tr>\n",
       "    <tr>\n",
       "      <th>Magdeburg</th>\n",
       "      <td>0.083</td>\n",
       "      <td>1.081</td>\n",
       "      <td>0.157</td>\n",
       "      <td>False</td>\n",
       "      <td>0.180</td>\n",
       "      <td>0.746</td>\n",
       "      <td>0.321</td>\n",
       "      <td>False</td>\n",
       "    </tr>\n",
       "    <tr>\n",
       "      <th>Sweden</th>\n",
       "      <td>0.000</td>\n",
       "      <td>10.019</td>\n",
       "      <td>0.000</td>\n",
       "      <td>True</td>\n",
       "      <td>0.000</td>\n",
       "      <td>4.415</td>\n",
       "      <td>0.000</td>\n",
       "      <td>True</td>\n",
       "    </tr>\n",
       "  </tbody>\n",
       "</table>\n",
       "<p>7105 rows × 8 columns</p>\n",
       "</div>"
      ],
      "text/plain": [
       "model                                     CF                                \\\n",
       "var                                    p-unc -Log10 pvalue qvalue rejected   \n",
       "protein groups               Source                                          \n",
       "A0A024QZX5;A0A087X1N8;P35237 AD        0.005         2.344  0.014     True   \n",
       "                             age       0.793         0.101  0.863    False   \n",
       "                             Kiel      0.144         0.841  0.245    False   \n",
       "                             Magdeburg 0.069         1.159  0.137    False   \n",
       "                             Sweden    0.001         3.210  0.002     True   \n",
       "...                                      ...           ...    ...      ...   \n",
       "S4R3U6                       AD        0.151         0.821  0.254    False   \n",
       "                             age       0.413         0.384  0.544    False   \n",
       "                             Kiel      0.115         0.940  0.206    False   \n",
       "                             Magdeburg 0.083         1.081  0.157    False   \n",
       "                             Sweden    0.000        10.019  0.000     True   \n",
       "\n",
       "model                                     PI                                \n",
       "var                                    p-unc -Log10 pvalue qvalue rejected  \n",
       "protein groups               Source                                         \n",
       "A0A024QZX5;A0A087X1N8;P35237 AD        0.224         0.650  0.375    False  \n",
       "                             age       0.583         0.234  0.716    False  \n",
       "                             Kiel      0.044         1.358  0.110    False  \n",
       "                             Magdeburg 0.007         2.160  0.025     True  \n",
       "                             Sweden    0.001         3.259  0.003     True  \n",
       "...                                      ...           ...    ...      ...  \n",
       "S4R3U6                       AD        0.849         0.071  0.911    False  \n",
       "                             age       0.671         0.173  0.787    False  \n",
       "                             Kiel      0.809         0.092  0.883    False  \n",
       "                             Magdeburg 0.180         0.746  0.321    False  \n",
       "                             Sweden    0.000         4.415  0.000     True  \n",
       "\n",
       "[7105 rows x 8 columns]"
      ]
     },
     "execution_count": 8,
     "metadata": {},
     "output_type": "execute_result"
    }
   ],
   "source": [
    "scores = scores_model.join(scores_baseline, how='outer')[[args.baseline, args.model_key]]\n",
    "scores = scores.loc[:, pd.IndexSlice[scores.columns.levels[0].to_list(),\n",
    "                                     args.selected_statistics]]\n",
    "scores"
   ]
  },
  {
   "cell_type": "markdown",
   "id": "b84a6e5a",
   "metadata": {
    "papermill": {
     "duration": 0.007197,
     "end_time": "2024-06-13T10:10:27.075904",
     "exception": false,
     "start_time": "2024-06-13T10:10:27.068707",
     "status": "completed"
    },
    "tags": []
   },
   "source": [
    "Models in comparison (name mapping)"
   ]
  },
  {
   "cell_type": "code",
   "execution_count": 9,
   "id": "34d243d1-3ab4-40e7-9eb8-f9efc828b82d",
   "metadata": {
    "execution": {
     "iopub.execute_input": "2024-06-13T10:10:27.091933Z",
     "iopub.status.busy": "2024-06-13T10:10:27.091459Z",
     "iopub.status.idle": "2024-06-13T10:10:27.096362Z",
     "shell.execute_reply": "2024-06-13T10:10:27.095853Z"
    },
    "papermill": {
     "duration": 0.014422,
     "end_time": "2024-06-13T10:10:27.097551",
     "exception": false,
     "start_time": "2024-06-13T10:10:27.083129",
     "status": "completed"
    },
    "tags": [
     "hide-input"
    ]
   },
   "outputs": [
    {
     "data": {
      "text/plain": [
       "{'CF': 'CF', 'PI': 'PI'}"
      ]
     },
     "execution_count": 9,
     "metadata": {},
     "output_type": "execute_result"
    }
   ],
   "source": [
    "models = vaep.nb.Config.from_dict(\n",
    "    vaep.pandas.index_to_dict(scores.columns.get_level_values(0)))\n",
    "vars(models)"
   ]
  },
  {
   "cell_type": "markdown",
   "id": "dd7a560d",
   "metadata": {
    "papermill": {
     "duration": 0.007288,
     "end_time": "2024-06-13T10:10:27.112246",
     "exception": false,
     "start_time": "2024-06-13T10:10:27.104958",
     "status": "completed"
    },
    "tags": []
   },
   "source": [
    "## Describe scores"
   ]
  },
  {
   "cell_type": "code",
   "execution_count": 10,
   "id": "0fee8f5d-fa52-4369-a1f9-fcfd518ab6bd",
   "metadata": {
    "execution": {
     "iopub.execute_input": "2024-06-13T10:10:27.150789Z",
     "iopub.status.busy": "2024-06-13T10:10:27.150334Z",
     "iopub.status.idle": "2024-06-13T10:10:27.171303Z",
     "shell.execute_reply": "2024-06-13T10:10:27.170591Z"
    },
    "papermill": {
     "duration": 0.053138,
     "end_time": "2024-06-13T10:10:27.172626",
     "exception": false,
     "start_time": "2024-06-13T10:10:27.119488",
     "status": "completed"
    },
    "tags": [
     "hide-input"
    ]
   },
   "outputs": [
    {
     "data": {
      "text/html": [
       "<div>\n",
       "<style scoped>\n",
       "    .dataframe tbody tr th:only-of-type {\n",
       "        vertical-align: middle;\n",
       "    }\n",
       "\n",
       "    .dataframe tbody tr th {\n",
       "        vertical-align: top;\n",
       "    }\n",
       "\n",
       "    .dataframe thead tr th {\n",
       "        text-align: left;\n",
       "    }\n",
       "</style>\n",
       "<table border=\"1\" class=\"dataframe\">\n",
       "  <thead>\n",
       "    <tr>\n",
       "      <th>model</th>\n",
       "      <th colspan=\"3\" halign=\"left\">CF</th>\n",
       "      <th colspan=\"3\" halign=\"left\">PI</th>\n",
       "    </tr>\n",
       "    <tr>\n",
       "      <th>var</th>\n",
       "      <th>p-unc</th>\n",
       "      <th>-Log10 pvalue</th>\n",
       "      <th>qvalue</th>\n",
       "      <th>p-unc</th>\n",
       "      <th>-Log10 pvalue</th>\n",
       "      <th>qvalue</th>\n",
       "    </tr>\n",
       "  </thead>\n",
       "  <tbody>\n",
       "    <tr>\n",
       "      <th>count</th>\n",
       "      <td>7,105.000</td>\n",
       "      <td>7,105.000</td>\n",
       "      <td>7,105.000</td>\n",
       "      <td>7,105.000</td>\n",
       "      <td>7,105.000</td>\n",
       "      <td>7,105.000</td>\n",
       "    </tr>\n",
       "    <tr>\n",
       "      <th>mean</th>\n",
       "      <td>0.228</td>\n",
       "      <td>3.220</td>\n",
       "      <td>0.284</td>\n",
       "      <td>0.259</td>\n",
       "      <td>2.480</td>\n",
       "      <td>0.336</td>\n",
       "    </tr>\n",
       "    <tr>\n",
       "      <th>std</th>\n",
       "      <td>0.296</td>\n",
       "      <td>6.103</td>\n",
       "      <td>0.323</td>\n",
       "      <td>0.302</td>\n",
       "      <td>5.347</td>\n",
       "      <td>0.329</td>\n",
       "    </tr>\n",
       "    <tr>\n",
       "      <th>min</th>\n",
       "      <td>0.000</td>\n",
       "      <td>0.000</td>\n",
       "      <td>0.000</td>\n",
       "      <td>0.000</td>\n",
       "      <td>0.000</td>\n",
       "      <td>0.000</td>\n",
       "    </tr>\n",
       "    <tr>\n",
       "      <th>25%</th>\n",
       "      <td>0.001</td>\n",
       "      <td>0.397</td>\n",
       "      <td>0.002</td>\n",
       "      <td>0.004</td>\n",
       "      <td>0.339</td>\n",
       "      <td>0.015</td>\n",
       "    </tr>\n",
       "    <tr>\n",
       "      <th>50%</th>\n",
       "      <td>0.064</td>\n",
       "      <td>1.197</td>\n",
       "      <td>0.127</td>\n",
       "      <td>0.121</td>\n",
       "      <td>0.918</td>\n",
       "      <td>0.242</td>\n",
       "    </tr>\n",
       "    <tr>\n",
       "      <th>75%</th>\n",
       "      <td>0.401</td>\n",
       "      <td>3.224</td>\n",
       "      <td>0.534</td>\n",
       "      <td>0.458</td>\n",
       "      <td>2.413</td>\n",
       "      <td>0.611</td>\n",
       "    </tr>\n",
       "    <tr>\n",
       "      <th>max</th>\n",
       "      <td>1.000</td>\n",
       "      <td>86.151</td>\n",
       "      <td>1.000</td>\n",
       "      <td>1.000</td>\n",
       "      <td>145.293</td>\n",
       "      <td>1.000</td>\n",
       "    </tr>\n",
       "  </tbody>\n",
       "</table>\n",
       "</div>"
      ],
      "text/plain": [
       "model        CF                                PI                        \n",
       "var       p-unc -Log10 pvalue    qvalue     p-unc -Log10 pvalue    qvalue\n",
       "count 7,105.000     7,105.000 7,105.000 7,105.000     7,105.000 7,105.000\n",
       "mean      0.228         3.220     0.284     0.259         2.480     0.336\n",
       "std       0.296         6.103     0.323     0.302         5.347     0.329\n",
       "min       0.000         0.000     0.000     0.000         0.000     0.000\n",
       "25%       0.001         0.397     0.002     0.004         0.339     0.015\n",
       "50%       0.064         1.197     0.127     0.121         0.918     0.242\n",
       "75%       0.401         3.224     0.534     0.458         2.413     0.611\n",
       "max       1.000        86.151     1.000     1.000       145.293     1.000"
      ]
     },
     "execution_count": 10,
     "metadata": {},
     "output_type": "execute_result"
    }
   ],
   "source": [
    "scores.describe()"
   ]
  },
  {
   "cell_type": "markdown",
   "id": "52ecc596",
   "metadata": {
    "papermill": {
     "duration": 0.007263,
     "end_time": "2024-06-13T10:10:27.188035",
     "exception": false,
     "start_time": "2024-06-13T10:10:27.180772",
     "status": "completed"
    },
    "tags": []
   },
   "source": [
    "### One to one comparison of by feature:"
   ]
  },
  {
   "cell_type": "code",
   "execution_count": 11,
   "id": "c6e5a0a6-343b-4f07-8d9d-2cd5cf95ae1f",
   "metadata": {
    "execution": {
     "iopub.execute_input": "2024-06-13T10:10:27.204721Z",
     "iopub.status.busy": "2024-06-13T10:10:27.204236Z",
     "iopub.status.idle": "2024-06-13T10:10:27.633088Z",
     "shell.execute_reply": "2024-06-13T10:10:27.632289Z"
    },
    "papermill": {
     "duration": 0.439298,
     "end_time": "2024-06-13T10:10:27.634555",
     "exception": false,
     "start_time": "2024-06-13T10:10:27.195257",
     "status": "completed"
    },
    "tags": [
     "hide-input"
    ]
   },
   "outputs": [
    {
     "data": {
      "text/html": [
       "<div>\n",
       "<style scoped>\n",
       "    .dataframe tbody tr th:only-of-type {\n",
       "        vertical-align: middle;\n",
       "    }\n",
       "\n",
       "    .dataframe tbody tr th {\n",
       "        vertical-align: top;\n",
       "    }\n",
       "\n",
       "    .dataframe thead tr th {\n",
       "        text-align: left;\n",
       "    }\n",
       "\n",
       "    .dataframe thead tr:last-of-type th {\n",
       "        text-align: right;\n",
       "    }\n",
       "</style>\n",
       "<table border=\"1\" class=\"dataframe\">\n",
       "  <thead>\n",
       "    <tr>\n",
       "      <th></th>\n",
       "      <th>model</th>\n",
       "      <th colspan=\"4\" halign=\"left\">CF</th>\n",
       "      <th colspan=\"4\" halign=\"left\">PI</th>\n",
       "    </tr>\n",
       "    <tr>\n",
       "      <th></th>\n",
       "      <th>var</th>\n",
       "      <th>p-unc</th>\n",
       "      <th>-Log10 pvalue</th>\n",
       "      <th>qvalue</th>\n",
       "      <th>rejected</th>\n",
       "      <th>p-unc</th>\n",
       "      <th>-Log10 pvalue</th>\n",
       "      <th>qvalue</th>\n",
       "      <th>rejected</th>\n",
       "    </tr>\n",
       "    <tr>\n",
       "      <th>protein groups</th>\n",
       "      <th>Source</th>\n",
       "      <th></th>\n",
       "      <th></th>\n",
       "      <th></th>\n",
       "      <th></th>\n",
       "      <th></th>\n",
       "      <th></th>\n",
       "      <th></th>\n",
       "      <th></th>\n",
       "    </tr>\n",
       "  </thead>\n",
       "  <tbody>\n",
       "    <tr>\n",
       "      <th>A0A024QZX5;A0A087X1N8;P35237</th>\n",
       "      <th>AD</th>\n",
       "      <td>0.005</td>\n",
       "      <td>2.344</td>\n",
       "      <td>0.014</td>\n",
       "      <td>True</td>\n",
       "      <td>0.224</td>\n",
       "      <td>0.650</td>\n",
       "      <td>0.375</td>\n",
       "      <td>False</td>\n",
       "    </tr>\n",
       "    <tr>\n",
       "      <th>A0A024R0T9;K7ER74;P02655</th>\n",
       "      <th>AD</th>\n",
       "      <td>0.039</td>\n",
       "      <td>1.410</td>\n",
       "      <td>0.085</td>\n",
       "      <td>False</td>\n",
       "      <td>0.031</td>\n",
       "      <td>1.512</td>\n",
       "      <td>0.083</td>\n",
       "      <td>False</td>\n",
       "    </tr>\n",
       "    <tr>\n",
       "      <th>A0A024R3W6;A0A024R412;O60462;O60462-2;O60462-3;O60462-4;O60462-5;Q7LBX6;X5D2Q8</th>\n",
       "      <th>AD</th>\n",
       "      <td>0.392</td>\n",
       "      <td>0.407</td>\n",
       "      <td>0.525</td>\n",
       "      <td>False</td>\n",
       "      <td>0.064</td>\n",
       "      <td>1.194</td>\n",
       "      <td>0.148</td>\n",
       "      <td>False</td>\n",
       "    </tr>\n",
       "    <tr>\n",
       "      <th>A0A024R644;A0A0A0MRU5;A0A1B0GWI2;O75503</th>\n",
       "      <th>AD</th>\n",
       "      <td>0.259</td>\n",
       "      <td>0.586</td>\n",
       "      <td>0.387</td>\n",
       "      <td>False</td>\n",
       "      <td>0.480</td>\n",
       "      <td>0.319</td>\n",
       "      <td>0.631</td>\n",
       "      <td>False</td>\n",
       "    </tr>\n",
       "    <tr>\n",
       "      <th>A0A075B6H7</th>\n",
       "      <th>AD</th>\n",
       "      <td>0.001</td>\n",
       "      <td>2.916</td>\n",
       "      <td>0.004</td>\n",
       "      <td>True</td>\n",
       "      <td>0.198</td>\n",
       "      <td>0.704</td>\n",
       "      <td>0.345</td>\n",
       "      <td>False</td>\n",
       "    </tr>\n",
       "    <tr>\n",
       "      <th>...</th>\n",
       "      <th>...</th>\n",
       "      <td>...</td>\n",
       "      <td>...</td>\n",
       "      <td>...</td>\n",
       "      <td>...</td>\n",
       "      <td>...</td>\n",
       "      <td>...</td>\n",
       "      <td>...</td>\n",
       "      <td>...</td>\n",
       "    </tr>\n",
       "    <tr>\n",
       "      <th>Q9Y6R7</th>\n",
       "      <th>AD</th>\n",
       "      <td>0.175</td>\n",
       "      <td>0.756</td>\n",
       "      <td>0.286</td>\n",
       "      <td>False</td>\n",
       "      <td>0.175</td>\n",
       "      <td>0.756</td>\n",
       "      <td>0.315</td>\n",
       "      <td>False</td>\n",
       "    </tr>\n",
       "    <tr>\n",
       "      <th>Q9Y6X5</th>\n",
       "      <th>AD</th>\n",
       "      <td>0.189</td>\n",
       "      <td>0.724</td>\n",
       "      <td>0.304</td>\n",
       "      <td>False</td>\n",
       "      <td>0.021</td>\n",
       "      <td>1.686</td>\n",
       "      <td>0.060</td>\n",
       "      <td>False</td>\n",
       "    </tr>\n",
       "    <tr>\n",
       "      <th>Q9Y6Y8;Q9Y6Y8-2</th>\n",
       "      <th>AD</th>\n",
       "      <td>0.083</td>\n",
       "      <td>1.079</td>\n",
       "      <td>0.158</td>\n",
       "      <td>False</td>\n",
       "      <td>0.083</td>\n",
       "      <td>1.079</td>\n",
       "      <td>0.182</td>\n",
       "      <td>False</td>\n",
       "    </tr>\n",
       "    <tr>\n",
       "      <th>Q9Y6Y9</th>\n",
       "      <th>AD</th>\n",
       "      <td>0.484</td>\n",
       "      <td>0.315</td>\n",
       "      <td>0.612</td>\n",
       "      <td>False</td>\n",
       "      <td>0.209</td>\n",
       "      <td>0.681</td>\n",
       "      <td>0.358</td>\n",
       "      <td>False</td>\n",
       "    </tr>\n",
       "    <tr>\n",
       "      <th>S4R3U6</th>\n",
       "      <th>AD</th>\n",
       "      <td>0.151</td>\n",
       "      <td>0.821</td>\n",
       "      <td>0.254</td>\n",
       "      <td>False</td>\n",
       "      <td>0.849</td>\n",
       "      <td>0.071</td>\n",
       "      <td>0.911</td>\n",
       "      <td>False</td>\n",
       "    </tr>\n",
       "  </tbody>\n",
       "</table>\n",
       "<p>1421 rows × 8 columns</p>\n",
       "</div>"
      ],
      "text/plain": [
       "model                                                        CF                \\\n",
       "var                                                       p-unc -Log10 pvalue   \n",
       "protein groups                                     Source                       \n",
       "A0A024QZX5;A0A087X1N8;P35237                       AD     0.005         2.344   \n",
       "A0A024R0T9;K7ER74;P02655                           AD     0.039         1.410   \n",
       "A0A024R3W6;A0A024R412;O60462;O60462-2;O60462-3;... AD     0.392         0.407   \n",
       "A0A024R644;A0A0A0MRU5;A0A1B0GWI2;O75503            AD     0.259         0.586   \n",
       "A0A075B6H7                                         AD     0.001         2.916   \n",
       "...                                                         ...           ...   \n",
       "Q9Y6R7                                             AD     0.175         0.756   \n",
       "Q9Y6X5                                             AD     0.189         0.724   \n",
       "Q9Y6Y8;Q9Y6Y8-2                                    AD     0.083         1.079   \n",
       "Q9Y6Y9                                             AD     0.484         0.315   \n",
       "S4R3U6                                             AD     0.151         0.821   \n",
       "\n",
       "model                                                                      \\\n",
       "var                                                       qvalue rejected   \n",
       "protein groups                                     Source                   \n",
       "A0A024QZX5;A0A087X1N8;P35237                       AD      0.014     True   \n",
       "A0A024R0T9;K7ER74;P02655                           AD      0.085    False   \n",
       "A0A024R3W6;A0A024R412;O60462;O60462-2;O60462-3;... AD      0.525    False   \n",
       "A0A024R644;A0A0A0MRU5;A0A1B0GWI2;O75503            AD      0.387    False   \n",
       "A0A075B6H7                                         AD      0.004     True   \n",
       "...                                                          ...      ...   \n",
       "Q9Y6R7                                             AD      0.286    False   \n",
       "Q9Y6X5                                             AD      0.304    False   \n",
       "Q9Y6Y8;Q9Y6Y8-2                                    AD      0.158    False   \n",
       "Q9Y6Y9                                             AD      0.612    False   \n",
       "S4R3U6                                             AD      0.254    False   \n",
       "\n",
       "model                                                        PI                \\\n",
       "var                                                       p-unc -Log10 pvalue   \n",
       "protein groups                                     Source                       \n",
       "A0A024QZX5;A0A087X1N8;P35237                       AD     0.224         0.650   \n",
       "A0A024R0T9;K7ER74;P02655                           AD     0.031         1.512   \n",
       "A0A024R3W6;A0A024R412;O60462;O60462-2;O60462-3;... AD     0.064         1.194   \n",
       "A0A024R644;A0A0A0MRU5;A0A1B0GWI2;O75503            AD     0.480         0.319   \n",
       "A0A075B6H7                                         AD     0.198         0.704   \n",
       "...                                                         ...           ...   \n",
       "Q9Y6R7                                             AD     0.175         0.756   \n",
       "Q9Y6X5                                             AD     0.021         1.686   \n",
       "Q9Y6Y8;Q9Y6Y8-2                                    AD     0.083         1.079   \n",
       "Q9Y6Y9                                             AD     0.209         0.681   \n",
       "S4R3U6                                             AD     0.849         0.071   \n",
       "\n",
       "model                                                                      \n",
       "var                                                       qvalue rejected  \n",
       "protein groups                                     Source                  \n",
       "A0A024QZX5;A0A087X1N8;P35237                       AD      0.375    False  \n",
       "A0A024R0T9;K7ER74;P02655                           AD      0.083    False  \n",
       "A0A024R3W6;A0A024R412;O60462;O60462-2;O60462-3;... AD      0.148    False  \n",
       "A0A024R644;A0A0A0MRU5;A0A1B0GWI2;O75503            AD      0.631    False  \n",
       "A0A075B6H7                                         AD      0.345    False  \n",
       "...                                                          ...      ...  \n",
       "Q9Y6R7                                             AD      0.315    False  \n",
       "Q9Y6X5                                             AD      0.060    False  \n",
       "Q9Y6Y8;Q9Y6Y8-2                                    AD      0.182    False  \n",
       "Q9Y6Y9                                             AD      0.358    False  \n",
       "S4R3U6                                             AD      0.911    False  \n",
       "\n",
       "[1421 rows x 8 columns]"
      ]
     },
     "execution_count": 11,
     "metadata": {},
     "output_type": "execute_result"
    }
   ],
   "source": [
    "scores = scores.loc[pd.IndexSlice[:, args.target], :]\n",
    "scores.to_excel(writer, 'scores', **writer_args)\n",
    "scores"
   ]
  },
  {
   "cell_type": "markdown",
   "id": "36e14580",
   "metadata": {
    "papermill": {
     "duration": 0.012855,
     "end_time": "2024-06-13T10:10:27.655345",
     "exception": false,
     "start_time": "2024-06-13T10:10:27.642490",
     "status": "completed"
    },
    "tags": []
   },
   "source": [
    "And the descriptive statistics\n",
    "of the numeric values:"
   ]
  },
  {
   "cell_type": "code",
   "execution_count": 12,
   "id": "0e45e80a-32d8-4c6c-b0a4-5ce8b7f9e121",
   "metadata": {
    "execution": {
     "iopub.execute_input": "2024-06-13T10:10:27.675735Z",
     "iopub.status.busy": "2024-06-13T10:10:27.675159Z",
     "iopub.status.idle": "2024-06-13T10:10:27.696155Z",
     "shell.execute_reply": "2024-06-13T10:10:27.695382Z"
    },
    "papermill": {
     "duration": 0.031632,
     "end_time": "2024-06-13T10:10:27.697909",
     "exception": false,
     "start_time": "2024-06-13T10:10:27.666277",
     "status": "completed"
    },
    "tags": [
     "hide-input"
    ]
   },
   "outputs": [
    {
     "data": {
      "text/html": [
       "<div>\n",
       "<style scoped>\n",
       "    .dataframe tbody tr th:only-of-type {\n",
       "        vertical-align: middle;\n",
       "    }\n",
       "\n",
       "    .dataframe tbody tr th {\n",
       "        vertical-align: top;\n",
       "    }\n",
       "\n",
       "    .dataframe thead tr th {\n",
       "        text-align: left;\n",
       "    }\n",
       "</style>\n",
       "<table border=\"1\" class=\"dataframe\">\n",
       "  <thead>\n",
       "    <tr>\n",
       "      <th>model</th>\n",
       "      <th colspan=\"3\" halign=\"left\">CF</th>\n",
       "      <th colspan=\"3\" halign=\"left\">PI</th>\n",
       "    </tr>\n",
       "    <tr>\n",
       "      <th>var</th>\n",
       "      <th>p-unc</th>\n",
       "      <th>-Log10 pvalue</th>\n",
       "      <th>qvalue</th>\n",
       "      <th>p-unc</th>\n",
       "      <th>-Log10 pvalue</th>\n",
       "      <th>qvalue</th>\n",
       "    </tr>\n",
       "  </thead>\n",
       "  <tbody>\n",
       "    <tr>\n",
       "      <th>count</th>\n",
       "      <td>1,421.000</td>\n",
       "      <td>1,421.000</td>\n",
       "      <td>1,421.000</td>\n",
       "      <td>1,421.000</td>\n",
       "      <td>1,421.000</td>\n",
       "      <td>1,421.000</td>\n",
       "    </tr>\n",
       "    <tr>\n",
       "      <th>mean</th>\n",
       "      <td>0.247</td>\n",
       "      <td>1.577</td>\n",
       "      <td>0.308</td>\n",
       "      <td>0.250</td>\n",
       "      <td>1.406</td>\n",
       "      <td>0.333</td>\n",
       "    </tr>\n",
       "    <tr>\n",
       "      <th>std</th>\n",
       "      <td>0.300</td>\n",
       "      <td>1.849</td>\n",
       "      <td>0.323</td>\n",
       "      <td>0.285</td>\n",
       "      <td>1.621</td>\n",
       "      <td>0.312</td>\n",
       "    </tr>\n",
       "    <tr>\n",
       "      <th>min</th>\n",
       "      <td>0.000</td>\n",
       "      <td>0.000</td>\n",
       "      <td>0.000</td>\n",
       "      <td>0.000</td>\n",
       "      <td>0.000</td>\n",
       "      <td>0.000</td>\n",
       "    </tr>\n",
       "    <tr>\n",
       "      <th>25%</th>\n",
       "      <td>0.007</td>\n",
       "      <td>0.365</td>\n",
       "      <td>0.020</td>\n",
       "      <td>0.011</td>\n",
       "      <td>0.362</td>\n",
       "      <td>0.037</td>\n",
       "    </tr>\n",
       "    <tr>\n",
       "      <th>50%</th>\n",
       "      <td>0.085</td>\n",
       "      <td>1.069</td>\n",
       "      <td>0.161</td>\n",
       "      <td>0.122</td>\n",
       "      <td>0.912</td>\n",
       "      <td>0.244</td>\n",
       "    </tr>\n",
       "    <tr>\n",
       "      <th>75%</th>\n",
       "      <td>0.431</td>\n",
       "      <td>2.151</td>\n",
       "      <td>0.563</td>\n",
       "      <td>0.435</td>\n",
       "      <td>1.955</td>\n",
       "      <td>0.591</td>\n",
       "    </tr>\n",
       "    <tr>\n",
       "      <th>max</th>\n",
       "      <td>1.000</td>\n",
       "      <td>22.537</td>\n",
       "      <td>1.000</td>\n",
       "      <td>0.999</td>\n",
       "      <td>21.566</td>\n",
       "      <td>1.000</td>\n",
       "    </tr>\n",
       "  </tbody>\n",
       "</table>\n",
       "</div>"
      ],
      "text/plain": [
       "model        CF                                PI                        \n",
       "var       p-unc -Log10 pvalue    qvalue     p-unc -Log10 pvalue    qvalue\n",
       "count 1,421.000     1,421.000 1,421.000 1,421.000     1,421.000 1,421.000\n",
       "mean      0.247         1.577     0.308     0.250         1.406     0.333\n",
       "std       0.300         1.849     0.323     0.285         1.621     0.312\n",
       "min       0.000         0.000     0.000     0.000         0.000     0.000\n",
       "25%       0.007         0.365     0.020     0.011         0.362     0.037\n",
       "50%       0.085         1.069     0.161     0.122         0.912     0.244\n",
       "75%       0.431         2.151     0.563     0.435         1.955     0.591\n",
       "max       1.000        22.537     1.000     0.999        21.566     1.000"
      ]
     },
     "execution_count": 12,
     "metadata": {},
     "output_type": "execute_result"
    }
   ],
   "source": [
    "scores.describe()"
   ]
  },
  {
   "cell_type": "markdown",
   "id": "e520d6dc",
   "metadata": {
    "papermill": {
     "duration": 0.007654,
     "end_time": "2024-06-13T10:10:27.713997",
     "exception": false,
     "start_time": "2024-06-13T10:10:27.706343",
     "status": "completed"
    },
    "tags": []
   },
   "source": [
    "and the boolean decision values"
   ]
  },
  {
   "cell_type": "code",
   "execution_count": 13,
   "id": "53bd5597-221c-4d54-abf2-82956db42594",
   "metadata": {
    "execution": {
     "iopub.execute_input": "2024-06-13T10:10:27.730704Z",
     "iopub.status.busy": "2024-06-13T10:10:27.730432Z",
     "iopub.status.idle": "2024-06-13T10:10:27.740882Z",
     "shell.execute_reply": "2024-06-13T10:10:27.740282Z"
    },
    "lines_to_next_cell": 2,
    "papermill": {
     "duration": 0.020452,
     "end_time": "2024-06-13T10:10:27.742115",
     "exception": false,
     "start_time": "2024-06-13T10:10:27.721663",
     "status": "completed"
    },
    "tags": [
     "hide-input"
    ]
   },
   "outputs": [
    {
     "data": {
      "text/html": [
       "<div>\n",
       "<style scoped>\n",
       "    .dataframe tbody tr th:only-of-type {\n",
       "        vertical-align: middle;\n",
       "    }\n",
       "\n",
       "    .dataframe tbody tr th {\n",
       "        vertical-align: top;\n",
       "    }\n",
       "\n",
       "    .dataframe thead tr th {\n",
       "        text-align: left;\n",
       "    }\n",
       "</style>\n",
       "<table border=\"1\" class=\"dataframe\">\n",
       "  <thead>\n",
       "    <tr>\n",
       "      <th>model</th>\n",
       "      <th>CF</th>\n",
       "      <th>PI</th>\n",
       "    </tr>\n",
       "    <tr>\n",
       "      <th>var</th>\n",
       "      <th>rejected</th>\n",
       "      <th>rejected</th>\n",
       "    </tr>\n",
       "  </thead>\n",
       "  <tbody>\n",
       "    <tr>\n",
       "      <th>count</th>\n",
       "      <td>1421</td>\n",
       "      <td>1421</td>\n",
       "    </tr>\n",
       "    <tr>\n",
       "      <th>unique</th>\n",
       "      <td>2</td>\n",
       "      <td>2</td>\n",
       "    </tr>\n",
       "    <tr>\n",
       "      <th>top</th>\n",
       "      <td>False</td>\n",
       "      <td>False</td>\n",
       "    </tr>\n",
       "    <tr>\n",
       "      <th>freq</th>\n",
       "      <td>939</td>\n",
       "      <td>1032</td>\n",
       "    </tr>\n",
       "  </tbody>\n",
       "</table>\n",
       "</div>"
      ],
      "text/plain": [
       "model        CF       PI\n",
       "var    rejected rejected\n",
       "count      1421     1421\n",
       "unique        2        2\n",
       "top       False    False\n",
       "freq        939     1032"
      ]
     },
     "execution_count": 13,
     "metadata": {},
     "output_type": "execute_result"
    }
   ],
   "source": [
    "scores.describe(include=['bool', 'O'])"
   ]
  },
  {
   "cell_type": "markdown",
   "id": "bef83742-05e5-473b-892e-dd286cb3a31f",
   "metadata": {
    "papermill": {
     "duration": 0.007857,
     "end_time": "2024-06-13T10:10:27.757978",
     "exception": false,
     "start_time": "2024-06-13T10:10:27.750121",
     "status": "completed"
    },
    "tags": []
   },
   "source": [
    "## Load frequencies of observed features"
   ]
  },
  {
   "cell_type": "code",
   "execution_count": 14,
   "id": "2a926ba1-0f3b-4089-a349-b6d66128cf37",
   "metadata": {
    "execution": {
     "iopub.execute_input": "2024-06-13T10:10:27.791248Z",
     "iopub.status.busy": "2024-06-13T10:10:27.790877Z",
     "iopub.status.idle": "2024-06-13T10:10:27.805979Z",
     "shell.execute_reply": "2024-06-13T10:10:27.805216Z"
    },
    "papermill": {
     "duration": 0.034481,
     "end_time": "2024-06-13T10:10:27.807749",
     "exception": false,
     "start_time": "2024-06-13T10:10:27.773268",
     "status": "completed"
    },
    "tags": [
     "hide-input"
    ]
   },
   "outputs": [
    {
     "data": {
      "text/html": [
       "<div>\n",
       "<style scoped>\n",
       "    .dataframe tbody tr th:only-of-type {\n",
       "        vertical-align: middle;\n",
       "    }\n",
       "\n",
       "    .dataframe tbody tr th {\n",
       "        vertical-align: top;\n",
       "    }\n",
       "\n",
       "    .dataframe thead tr th {\n",
       "        text-align: left;\n",
       "    }\n",
       "\n",
       "    .dataframe thead tr:last-of-type th {\n",
       "        text-align: right;\n",
       "    }\n",
       "</style>\n",
       "<table border=\"1\" class=\"dataframe\">\n",
       "  <thead>\n",
       "    <tr>\n",
       "      <th></th>\n",
       "      <th>data</th>\n",
       "    </tr>\n",
       "    <tr>\n",
       "      <th></th>\n",
       "      <th>frequency</th>\n",
       "    </tr>\n",
       "    <tr>\n",
       "      <th>protein groups</th>\n",
       "      <th></th>\n",
       "    </tr>\n",
       "  </thead>\n",
       "  <tbody>\n",
       "    <tr>\n",
       "      <th>A0A024QZX5;A0A087X1N8;P35237</th>\n",
       "      <td>186</td>\n",
       "    </tr>\n",
       "    <tr>\n",
       "      <th>A0A024R0T9;K7ER74;P02655</th>\n",
       "      <td>195</td>\n",
       "    </tr>\n",
       "    <tr>\n",
       "      <th>A0A024R3W6;A0A024R412;O60462;O60462-2;O60462-3;O60462-4;O60462-5;Q7LBX6;X5D2Q8</th>\n",
       "      <td>174</td>\n",
       "    </tr>\n",
       "    <tr>\n",
       "      <th>A0A024R644;A0A0A0MRU5;A0A1B0GWI2;O75503</th>\n",
       "      <td>196</td>\n",
       "    </tr>\n",
       "    <tr>\n",
       "      <th>A0A075B6H7</th>\n",
       "      <td>91</td>\n",
       "    </tr>\n",
       "    <tr>\n",
       "      <th>...</th>\n",
       "      <td>...</td>\n",
       "    </tr>\n",
       "    <tr>\n",
       "      <th>Q9Y6R7</th>\n",
       "      <td>197</td>\n",
       "    </tr>\n",
       "    <tr>\n",
       "      <th>Q9Y6X5</th>\n",
       "      <td>173</td>\n",
       "    </tr>\n",
       "    <tr>\n",
       "      <th>Q9Y6Y8;Q9Y6Y8-2</th>\n",
       "      <td>197</td>\n",
       "    </tr>\n",
       "    <tr>\n",
       "      <th>Q9Y6Y9</th>\n",
       "      <td>119</td>\n",
       "    </tr>\n",
       "    <tr>\n",
       "      <th>S4R3U6</th>\n",
       "      <td>126</td>\n",
       "    </tr>\n",
       "  </tbody>\n",
       "</table>\n",
       "<p>1421 rows × 1 columns</p>\n",
       "</div>"
      ],
      "text/plain": [
       "                                                        data\n",
       "                                                   frequency\n",
       "protein groups                                              \n",
       "A0A024QZX5;A0A087X1N8;P35237                             186\n",
       "A0A024R0T9;K7ER74;P02655                                 195\n",
       "A0A024R3W6;A0A024R412;O60462;O60462-2;O60462-3;...       174\n",
       "A0A024R644;A0A0A0MRU5;A0A1B0GWI2;O75503                  196\n",
       "A0A075B6H7                                                91\n",
       "...                                                      ...\n",
       "Q9Y6R7                                                   197\n",
       "Q9Y6X5                                                   173\n",
       "Q9Y6Y8;Q9Y6Y8-2                                          197\n",
       "Q9Y6Y9                                                   119\n",
       "S4R3U6                                                   126\n",
       "\n",
       "[1421 rows x 1 columns]"
      ]
     },
     "execution_count": 14,
     "metadata": {},
     "output_type": "execute_result"
    }
   ],
   "source": [
    "freq_feat = pd.read_csv(args.freq_features_observed, index_col=0)\n",
    "freq_feat.columns = pd.MultiIndex.from_tuples([('data', 'frequency'),])\n",
    "freq_feat"
   ]
  },
  {
   "cell_type": "markdown",
   "id": "408eacfe-770f-42ff-9057-2a98274e1ae3",
   "metadata": {
    "papermill": {
     "duration": 0.016276,
     "end_time": "2024-06-13T10:10:27.840149",
     "exception": false,
     "start_time": "2024-06-13T10:10:27.823873",
     "status": "completed"
    },
    "tags": []
   },
   "source": [
    "## Compare shared features"
   ]
  },
  {
   "cell_type": "code",
   "execution_count": 15,
   "id": "5b2dfb0f-195b-4044-a228-2d784ea2a458",
   "metadata": {
    "execution": {
     "iopub.execute_input": "2024-06-13T10:10:27.874810Z",
     "iopub.status.busy": "2024-06-13T10:10:27.873879Z",
     "iopub.status.idle": "2024-06-13T10:10:27.897773Z",
     "shell.execute_reply": "2024-06-13T10:10:27.897012Z"
    },
    "papermill": {
     "duration": 0.043191,
     "end_time": "2024-06-13T10:10:27.899681",
     "exception": false,
     "start_time": "2024-06-13T10:10:27.856490",
     "status": "completed"
    },
    "tags": [
     "hide-input"
    ]
   },
   "outputs": [
    {
     "data": {
      "text/html": [
       "<div>\n",
       "<style scoped>\n",
       "    .dataframe tbody tr th:only-of-type {\n",
       "        vertical-align: middle;\n",
       "    }\n",
       "\n",
       "    .dataframe tbody tr th {\n",
       "        vertical-align: top;\n",
       "    }\n",
       "\n",
       "    .dataframe thead tr th {\n",
       "        text-align: left;\n",
       "    }\n",
       "\n",
       "    .dataframe thead tr:last-of-type th {\n",
       "        text-align: right;\n",
       "    }\n",
       "</style>\n",
       "<table border=\"1\" class=\"dataframe\">\n",
       "  <thead>\n",
       "    <tr>\n",
       "      <th></th>\n",
       "      <th colspan=\"4\" halign=\"left\">CF</th>\n",
       "      <th colspan=\"4\" halign=\"left\">PI</th>\n",
       "      <th>data</th>\n",
       "    </tr>\n",
       "    <tr>\n",
       "      <th></th>\n",
       "      <th>p-unc</th>\n",
       "      <th>-Log10 pvalue</th>\n",
       "      <th>qvalue</th>\n",
       "      <th>rejected</th>\n",
       "      <th>p-unc</th>\n",
       "      <th>-Log10 pvalue</th>\n",
       "      <th>qvalue</th>\n",
       "      <th>rejected</th>\n",
       "      <th>frequency</th>\n",
       "    </tr>\n",
       "    <tr>\n",
       "      <th>protein groups</th>\n",
       "      <th></th>\n",
       "      <th></th>\n",
       "      <th></th>\n",
       "      <th></th>\n",
       "      <th></th>\n",
       "      <th></th>\n",
       "      <th></th>\n",
       "      <th></th>\n",
       "      <th></th>\n",
       "    </tr>\n",
       "  </thead>\n",
       "  <tbody>\n",
       "    <tr>\n",
       "      <th>A0A024QZX5;A0A087X1N8;P35237</th>\n",
       "      <td>0.005</td>\n",
       "      <td>2.344</td>\n",
       "      <td>0.014</td>\n",
       "      <td>True</td>\n",
       "      <td>0.224</td>\n",
       "      <td>0.650</td>\n",
       "      <td>0.375</td>\n",
       "      <td>False</td>\n",
       "      <td>186</td>\n",
       "    </tr>\n",
       "    <tr>\n",
       "      <th>A0A024R0T9;K7ER74;P02655</th>\n",
       "      <td>0.039</td>\n",
       "      <td>1.410</td>\n",
       "      <td>0.085</td>\n",
       "      <td>False</td>\n",
       "      <td>0.031</td>\n",
       "      <td>1.512</td>\n",
       "      <td>0.083</td>\n",
       "      <td>False</td>\n",
       "      <td>195</td>\n",
       "    </tr>\n",
       "    <tr>\n",
       "      <th>A0A024R3W6;A0A024R412;O60462;O60462-2;O60462-3;O60462-4;O60462-5;Q7LBX6;X5D2Q8</th>\n",
       "      <td>0.392</td>\n",
       "      <td>0.407</td>\n",
       "      <td>0.525</td>\n",
       "      <td>False</td>\n",
       "      <td>0.064</td>\n",
       "      <td>1.194</td>\n",
       "      <td>0.148</td>\n",
       "      <td>False</td>\n",
       "      <td>174</td>\n",
       "    </tr>\n",
       "    <tr>\n",
       "      <th>A0A024R644;A0A0A0MRU5;A0A1B0GWI2;O75503</th>\n",
       "      <td>0.259</td>\n",
       "      <td>0.586</td>\n",
       "      <td>0.387</td>\n",
       "      <td>False</td>\n",
       "      <td>0.480</td>\n",
       "      <td>0.319</td>\n",
       "      <td>0.631</td>\n",
       "      <td>False</td>\n",
       "      <td>196</td>\n",
       "    </tr>\n",
       "    <tr>\n",
       "      <th>A0A075B6H7</th>\n",
       "      <td>0.001</td>\n",
       "      <td>2.916</td>\n",
       "      <td>0.004</td>\n",
       "      <td>True</td>\n",
       "      <td>0.198</td>\n",
       "      <td>0.704</td>\n",
       "      <td>0.345</td>\n",
       "      <td>False</td>\n",
       "      <td>91</td>\n",
       "    </tr>\n",
       "    <tr>\n",
       "      <th>...</th>\n",
       "      <td>...</td>\n",
       "      <td>...</td>\n",
       "      <td>...</td>\n",
       "      <td>...</td>\n",
       "      <td>...</td>\n",
       "      <td>...</td>\n",
       "      <td>...</td>\n",
       "      <td>...</td>\n",
       "      <td>...</td>\n",
       "    </tr>\n",
       "    <tr>\n",
       "      <th>Q9Y6R7</th>\n",
       "      <td>0.175</td>\n",
       "      <td>0.756</td>\n",
       "      <td>0.286</td>\n",
       "      <td>False</td>\n",
       "      <td>0.175</td>\n",
       "      <td>0.756</td>\n",
       "      <td>0.315</td>\n",
       "      <td>False</td>\n",
       "      <td>197</td>\n",
       "    </tr>\n",
       "    <tr>\n",
       "      <th>Q9Y6X5</th>\n",
       "      <td>0.189</td>\n",
       "      <td>0.724</td>\n",
       "      <td>0.304</td>\n",
       "      <td>False</td>\n",
       "      <td>0.021</td>\n",
       "      <td>1.686</td>\n",
       "      <td>0.060</td>\n",
       "      <td>False</td>\n",
       "      <td>173</td>\n",
       "    </tr>\n",
       "    <tr>\n",
       "      <th>Q9Y6Y8;Q9Y6Y8-2</th>\n",
       "      <td>0.083</td>\n",
       "      <td>1.079</td>\n",
       "      <td>0.158</td>\n",
       "      <td>False</td>\n",
       "      <td>0.083</td>\n",
       "      <td>1.079</td>\n",
       "      <td>0.182</td>\n",
       "      <td>False</td>\n",
       "      <td>197</td>\n",
       "    </tr>\n",
       "    <tr>\n",
       "      <th>Q9Y6Y9</th>\n",
       "      <td>0.484</td>\n",
       "      <td>0.315</td>\n",
       "      <td>0.612</td>\n",
       "      <td>False</td>\n",
       "      <td>0.209</td>\n",
       "      <td>0.681</td>\n",
       "      <td>0.358</td>\n",
       "      <td>False</td>\n",
       "      <td>119</td>\n",
       "    </tr>\n",
       "    <tr>\n",
       "      <th>S4R3U6</th>\n",
       "      <td>0.151</td>\n",
       "      <td>0.821</td>\n",
       "      <td>0.254</td>\n",
       "      <td>False</td>\n",
       "      <td>0.849</td>\n",
       "      <td>0.071</td>\n",
       "      <td>0.911</td>\n",
       "      <td>False</td>\n",
       "      <td>126</td>\n",
       "    </tr>\n",
       "  </tbody>\n",
       "</table>\n",
       "<p>1421 rows × 9 columns</p>\n",
       "</div>"
      ],
      "text/plain": [
       "                                                      CF                       \\\n",
       "                                                   p-unc -Log10 pvalue qvalue   \n",
       "protein groups                                                                  \n",
       "A0A024QZX5;A0A087X1N8;P35237                       0.005         2.344  0.014   \n",
       "A0A024R0T9;K7ER74;P02655                           0.039         1.410  0.085   \n",
       "A0A024R3W6;A0A024R412;O60462;O60462-2;O60462-3;... 0.392         0.407  0.525   \n",
       "A0A024R644;A0A0A0MRU5;A0A1B0GWI2;O75503            0.259         0.586  0.387   \n",
       "A0A075B6H7                                         0.001         2.916  0.004   \n",
       "...                                                  ...           ...    ...   \n",
       "Q9Y6R7                                             0.175         0.756  0.286   \n",
       "Q9Y6X5                                             0.189         0.724  0.304   \n",
       "Q9Y6Y8;Q9Y6Y8-2                                    0.083         1.079  0.158   \n",
       "Q9Y6Y9                                             0.484         0.315  0.612   \n",
       "S4R3U6                                             0.151         0.821  0.254   \n",
       "\n",
       "                                                               PI  \\\n",
       "                                                   rejected p-unc   \n",
       "protein groups                                                      \n",
       "A0A024QZX5;A0A087X1N8;P35237                           True 0.224   \n",
       "A0A024R0T9;K7ER74;P02655                              False 0.031   \n",
       "A0A024R3W6;A0A024R412;O60462;O60462-2;O60462-3;...    False 0.064   \n",
       "A0A024R644;A0A0A0MRU5;A0A1B0GWI2;O75503               False 0.480   \n",
       "A0A075B6H7                                             True 0.198   \n",
       "...                                                     ...   ...   \n",
       "Q9Y6R7                                                False 0.175   \n",
       "Q9Y6X5                                                False 0.021   \n",
       "Q9Y6Y8;Q9Y6Y8-2                                       False 0.083   \n",
       "Q9Y6Y9                                                False 0.209   \n",
       "S4R3U6                                                False 0.849   \n",
       "\n",
       "                                                                         \\\n",
       "                                                   -Log10 pvalue qvalue   \n",
       "protein groups                                                            \n",
       "A0A024QZX5;A0A087X1N8;P35237                               0.650  0.375   \n",
       "A0A024R0T9;K7ER74;P02655                                   1.512  0.083   \n",
       "A0A024R3W6;A0A024R412;O60462;O60462-2;O60462-3;...         1.194  0.148   \n",
       "A0A024R644;A0A0A0MRU5;A0A1B0GWI2;O75503                    0.319  0.631   \n",
       "A0A075B6H7                                                 0.704  0.345   \n",
       "...                                                          ...    ...   \n",
       "Q9Y6R7                                                     0.756  0.315   \n",
       "Q9Y6X5                                                     1.686  0.060   \n",
       "Q9Y6Y8;Q9Y6Y8-2                                            1.079  0.182   \n",
       "Q9Y6Y9                                                     0.681  0.358   \n",
       "S4R3U6                                                     0.071  0.911   \n",
       "\n",
       "                                                                 data  \n",
       "                                                   rejected frequency  \n",
       "protein groups                                                         \n",
       "A0A024QZX5;A0A087X1N8;P35237                          False       186  \n",
       "A0A024R0T9;K7ER74;P02655                              False       195  \n",
       "A0A024R3W6;A0A024R412;O60462;O60462-2;O60462-3;...    False       174  \n",
       "A0A024R644;A0A0A0MRU5;A0A1B0GWI2;O75503               False       196  \n",
       "A0A075B6H7                                            False        91  \n",
       "...                                                     ...       ...  \n",
       "Q9Y6R7                                                False       197  \n",
       "Q9Y6X5                                                False       173  \n",
       "Q9Y6Y8;Q9Y6Y8-2                                       False       197  \n",
       "Q9Y6Y9                                                False       119  \n",
       "S4R3U6                                                False       126  \n",
       "\n",
       "[1421 rows x 9 columns]"
      ]
     },
     "execution_count": 15,
     "metadata": {},
     "output_type": "execute_result"
    }
   ],
   "source": [
    "scores_common = (scores\n",
    "                 .dropna()\n",
    "                 .reset_index(-1, drop=True)\n",
    "                 ).join(\n",
    "    freq_feat, how='left'\n",
    ")\n",
    "scores_common"
   ]
  },
  {
   "cell_type": "markdown",
   "id": "62a9eefd",
   "metadata": {
    "papermill": {
     "duration": 0.016623,
     "end_time": "2024-06-13T10:10:27.933615",
     "exception": false,
     "start_time": "2024-06-13T10:10:27.916992",
     "status": "completed"
    },
    "tags": []
   },
   "source": [
    "### Annotate decisions in Confusion Table style:"
   ]
  },
  {
   "cell_type": "code",
   "execution_count": 16,
   "id": "80cf4145-070d-457a-bb74-ee64299809e7",
   "metadata": {
    "execution": {
     "iopub.execute_input": "2024-06-13T10:10:27.969426Z",
     "iopub.status.busy": "2024-06-13T10:10:27.968507Z",
     "iopub.status.idle": "2024-06-13T10:10:27.981538Z",
     "shell.execute_reply": "2024-06-13T10:10:27.980777Z"
    },
    "papermill": {
     "duration": 0.033062,
     "end_time": "2024-06-13T10:10:27.983355",
     "exception": false,
     "start_time": "2024-06-13T10:10:27.950293",
     "status": "completed"
    },
    "tags": [
     "hide-input"
    ]
   },
   "outputs": [
    {
     "data": {
      "text/plain": [
       "Differential Analysis Comparison\n",
       "CF (no)  - PI (no)    889\n",
       "CF (yes) - PI (yes)   339\n",
       "CF (yes) - PI (no)    143\n",
       "CF (no)  - PI (yes)    50\n",
       "Name: count, dtype: int64"
      ]
     },
     "execution_count": 16,
     "metadata": {},
     "output_type": "execute_result"
    }
   ],
   "source": [
    "def annotate_decision(scores, model, model_column):\n",
    "    return scores[(model_column, 'rejected')].replace({False: f'{model} (no) ', True: f'{model} (yes)'})\n",
    "\n",
    "\n",
    "annotations = None\n",
    "for model, model_column in models.items():\n",
    "    if annotations is not None:\n",
    "        annotations += ' - '\n",
    "        annotations += annotate_decision(scores_common,\n",
    "                                         model=model, model_column=model_column)\n",
    "    else:\n",
    "        annotations = annotate_decision(\n",
    "            scores_common, model=model, model_column=model_column)\n",
    "annotations.name = 'Differential Analysis Comparison'\n",
    "annotations.value_counts()"
   ]
  },
  {
   "cell_type": "markdown",
   "id": "0942d395",
   "metadata": {
    "papermill": {
     "duration": 0.016705,
     "end_time": "2024-06-13T10:10:28.017060",
     "exception": false,
     "start_time": "2024-06-13T10:10:28.000355",
     "status": "completed"
    },
    "tags": []
   },
   "source": [
    "### List different decisions between models"
   ]
  },
  {
   "cell_type": "code",
   "execution_count": 17,
   "id": "cda5ffa4-9a97-4a49-aaba-34e83ef7940a",
   "metadata": {
    "execution": {
     "iopub.execute_input": "2024-06-13T10:10:28.053042Z",
     "iopub.status.busy": "2024-06-13T10:10:28.052113Z",
     "iopub.status.idle": "2024-06-13T10:10:28.137211Z",
     "shell.execute_reply": "2024-06-13T10:10:28.136457Z"
    },
    "papermill": {
     "duration": 0.105038,
     "end_time": "2024-06-13T10:10:28.139001",
     "exception": false,
     "start_time": "2024-06-13T10:10:28.033963",
     "status": "completed"
    },
    "tags": [
     "hide-input"
    ]
   },
   "outputs": [
    {
     "name": "stderr",
     "output_type": "stream",
     "text": [
      "root - INFO     Writen to Excel file under sheet 'differences'.\n"
     ]
    },
    {
     "data": {
      "text/html": [
       "<div>\n",
       "<style scoped>\n",
       "    .dataframe tbody tr th:only-of-type {\n",
       "        vertical-align: middle;\n",
       "    }\n",
       "\n",
       "    .dataframe tbody tr th {\n",
       "        vertical-align: top;\n",
       "    }\n",
       "\n",
       "    .dataframe thead tr th {\n",
       "        text-align: left;\n",
       "    }\n",
       "\n",
       "    .dataframe thead tr:last-of-type th {\n",
       "        text-align: right;\n",
       "    }\n",
       "</style>\n",
       "<table border=\"1\" class=\"dataframe\">\n",
       "  <thead>\n",
       "    <tr>\n",
       "      <th></th>\n",
       "      <th colspan=\"4\" halign=\"left\">CF</th>\n",
       "      <th colspan=\"4\" halign=\"left\">PI</th>\n",
       "      <th>data</th>\n",
       "    </tr>\n",
       "    <tr>\n",
       "      <th></th>\n",
       "      <th>p-unc</th>\n",
       "      <th>-Log10 pvalue</th>\n",
       "      <th>qvalue</th>\n",
       "      <th>rejected</th>\n",
       "      <th>p-unc</th>\n",
       "      <th>-Log10 pvalue</th>\n",
       "      <th>qvalue</th>\n",
       "      <th>rejected</th>\n",
       "      <th>frequency</th>\n",
       "    </tr>\n",
       "    <tr>\n",
       "      <th>protein groups</th>\n",
       "      <th></th>\n",
       "      <th></th>\n",
       "      <th></th>\n",
       "      <th></th>\n",
       "      <th></th>\n",
       "      <th></th>\n",
       "      <th></th>\n",
       "      <th></th>\n",
       "      <th></th>\n",
       "    </tr>\n",
       "  </thead>\n",
       "  <tbody>\n",
       "    <tr>\n",
       "      <th>A0A024QZX5;A0A087X1N8;P35237</th>\n",
       "      <td>0.005</td>\n",
       "      <td>2.344</td>\n",
       "      <td>0.014</td>\n",
       "      <td>True</td>\n",
       "      <td>0.224</td>\n",
       "      <td>0.650</td>\n",
       "      <td>0.375</td>\n",
       "      <td>False</td>\n",
       "      <td>186</td>\n",
       "    </tr>\n",
       "    <tr>\n",
       "      <th>A0A075B6H7</th>\n",
       "      <td>0.001</td>\n",
       "      <td>2.916</td>\n",
       "      <td>0.004</td>\n",
       "      <td>True</td>\n",
       "      <td>0.198</td>\n",
       "      <td>0.704</td>\n",
       "      <td>0.345</td>\n",
       "      <td>False</td>\n",
       "      <td>91</td>\n",
       "    </tr>\n",
       "    <tr>\n",
       "      <th>A0A075B6I0</th>\n",
       "      <td>0.001</td>\n",
       "      <td>3.150</td>\n",
       "      <td>0.003</td>\n",
       "      <td>True</td>\n",
       "      <td>0.024</td>\n",
       "      <td>1.616</td>\n",
       "      <td>0.069</td>\n",
       "      <td>False</td>\n",
       "      <td>194</td>\n",
       "    </tr>\n",
       "    <tr>\n",
       "      <th>A0A075B6J9</th>\n",
       "      <td>0.004</td>\n",
       "      <td>2.364</td>\n",
       "      <td>0.013</td>\n",
       "      <td>True</td>\n",
       "      <td>0.071</td>\n",
       "      <td>1.150</td>\n",
       "      <td>0.160</td>\n",
       "      <td>False</td>\n",
       "      <td>156</td>\n",
       "    </tr>\n",
       "    <tr>\n",
       "      <th>A0A075B6R2</th>\n",
       "      <td>0.001</td>\n",
       "      <td>3.269</td>\n",
       "      <td>0.002</td>\n",
       "      <td>True</td>\n",
       "      <td>0.326</td>\n",
       "      <td>0.486</td>\n",
       "      <td>0.489</td>\n",
       "      <td>False</td>\n",
       "      <td>164</td>\n",
       "    </tr>\n",
       "    <tr>\n",
       "      <th>...</th>\n",
       "      <td>...</td>\n",
       "      <td>...</td>\n",
       "      <td>...</td>\n",
       "      <td>...</td>\n",
       "      <td>...</td>\n",
       "      <td>...</td>\n",
       "      <td>...</td>\n",
       "      <td>...</td>\n",
       "      <td>...</td>\n",
       "    </tr>\n",
       "    <tr>\n",
       "      <th>Q9UMX0;Q9UMX0-2;Q9UMX0-4</th>\n",
       "      <td>0.016</td>\n",
       "      <td>1.804</td>\n",
       "      <td>0.040</td>\n",
       "      <td>True</td>\n",
       "      <td>0.249</td>\n",
       "      <td>0.605</td>\n",
       "      <td>0.406</td>\n",
       "      <td>False</td>\n",
       "      <td>57</td>\n",
       "    </tr>\n",
       "    <tr>\n",
       "      <th>Q9UNW1</th>\n",
       "      <td>0.849</td>\n",
       "      <td>0.071</td>\n",
       "      <td>0.901</td>\n",
       "      <td>False</td>\n",
       "      <td>0.016</td>\n",
       "      <td>1.809</td>\n",
       "      <td>0.048</td>\n",
       "      <td>True</td>\n",
       "      <td>171</td>\n",
       "    </tr>\n",
       "    <tr>\n",
       "      <th>Q9UP79</th>\n",
       "      <td>0.000</td>\n",
       "      <td>4.216</td>\n",
       "      <td>0.000</td>\n",
       "      <td>True</td>\n",
       "      <td>0.611</td>\n",
       "      <td>0.214</td>\n",
       "      <td>0.741</td>\n",
       "      <td>False</td>\n",
       "      <td>135</td>\n",
       "    </tr>\n",
       "    <tr>\n",
       "      <th>Q9UQ52</th>\n",
       "      <td>0.001</td>\n",
       "      <td>3.030</td>\n",
       "      <td>0.004</td>\n",
       "      <td>True</td>\n",
       "      <td>0.025</td>\n",
       "      <td>1.609</td>\n",
       "      <td>0.069</td>\n",
       "      <td>False</td>\n",
       "      <td>188</td>\n",
       "    </tr>\n",
       "    <tr>\n",
       "      <th>Q9Y6C2</th>\n",
       "      <td>0.020</td>\n",
       "      <td>1.709</td>\n",
       "      <td>0.048</td>\n",
       "      <td>True</td>\n",
       "      <td>0.599</td>\n",
       "      <td>0.223</td>\n",
       "      <td>0.730</td>\n",
       "      <td>False</td>\n",
       "      <td>119</td>\n",
       "    </tr>\n",
       "  </tbody>\n",
       "</table>\n",
       "<p>193 rows × 9 columns</p>\n",
       "</div>"
      ],
      "text/plain": [
       "                                CF                                  PI  \\\n",
       "                             p-unc -Log10 pvalue qvalue rejected p-unc   \n",
       "protein groups                                                           \n",
       "A0A024QZX5;A0A087X1N8;P35237 0.005         2.344  0.014     True 0.224   \n",
       "A0A075B6H7                   0.001         2.916  0.004     True 0.198   \n",
       "A0A075B6I0                   0.001         3.150  0.003     True 0.024   \n",
       "A0A075B6J9                   0.004         2.364  0.013     True 0.071   \n",
       "A0A075B6R2                   0.001         3.269  0.002     True 0.326   \n",
       "...                            ...           ...    ...      ...   ...   \n",
       "Q9UMX0;Q9UMX0-2;Q9UMX0-4     0.016         1.804  0.040     True 0.249   \n",
       "Q9UNW1                       0.849         0.071  0.901    False 0.016   \n",
       "Q9UP79                       0.000         4.216  0.000     True 0.611   \n",
       "Q9UQ52                       0.001         3.030  0.004     True 0.025   \n",
       "Q9Y6C2                       0.020         1.709  0.048     True 0.599   \n",
       "\n",
       "                                                                data  \n",
       "                             -Log10 pvalue qvalue rejected frequency  \n",
       "protein groups                                                        \n",
       "A0A024QZX5;A0A087X1N8;P35237         0.650  0.375    False       186  \n",
       "A0A075B6H7                           0.704  0.345    False        91  \n",
       "A0A075B6I0                           1.616  0.069    False       194  \n",
       "A0A075B6J9                           1.150  0.160    False       156  \n",
       "A0A075B6R2                           0.486  0.489    False       164  \n",
       "...                                    ...    ...      ...       ...  \n",
       "Q9UMX0;Q9UMX0-2;Q9UMX0-4             0.605  0.406    False        57  \n",
       "Q9UNW1                               1.809  0.048     True       171  \n",
       "Q9UP79                               0.214  0.741    False       135  \n",
       "Q9UQ52                               1.609  0.069    False       188  \n",
       "Q9Y6C2                               0.223  0.730    False       119  \n",
       "\n",
       "[193 rows x 9 columns]"
      ]
     },
     "execution_count": 17,
     "metadata": {},
     "output_type": "execute_result"
    }
   ],
   "source": [
    "mask_different = (\n",
    "    (scores_common.loc[:, pd.IndexSlice[:, 'rejected']].any(axis=1))\n",
    "    & ~(scores_common.loc[:, pd.IndexSlice[:, 'rejected']].all(axis=1))\n",
    ")\n",
    "_to_write = scores_common.loc[mask_different]\n",
    "_to_write.to_excel(writer, 'differences', **writer_args)\n",
    "logger.info(\"Writen to Excel file under sheet 'differences'.\")\n",
    "_to_write"
   ]
  },
  {
   "cell_type": "markdown",
   "id": "e8832084",
   "metadata": {
    "papermill": {
     "duration": 0.01723,
     "end_time": "2024-06-13T10:10:28.173833",
     "exception": false,
     "start_time": "2024-06-13T10:10:28.156603",
     "status": "completed"
    },
    "tags": []
   },
   "source": [
    "## Plot qvalues of both models with annotated decisions\n",
    "\n",
    "Prepare data for plotting (qvalues)"
   ]
  },
  {
   "cell_type": "code",
   "execution_count": 18,
   "id": "5b2e5341-b054-40c3-b45a-44ae6ca46cfb",
   "metadata": {
    "execution": {
     "iopub.execute_input": "2024-06-13T10:10:28.211253Z",
     "iopub.status.busy": "2024-06-13T10:10:28.210695Z",
     "iopub.status.idle": "2024-06-13T10:10:28.227303Z",
     "shell.execute_reply": "2024-06-13T10:10:28.226550Z"
    },
    "papermill": {
     "duration": 0.037884,
     "end_time": "2024-06-13T10:10:28.229071",
     "exception": false,
     "start_time": "2024-06-13T10:10:28.191187",
     "status": "completed"
    },
    "tags": [
     "hide-input"
    ]
   },
   "outputs": [
    {
     "data": {
      "text/html": [
       "<div>\n",
       "<style scoped>\n",
       "    .dataframe tbody tr th:only-of-type {\n",
       "        vertical-align: middle;\n",
       "    }\n",
       "\n",
       "    .dataframe tbody tr th {\n",
       "        vertical-align: top;\n",
       "    }\n",
       "\n",
       "    .dataframe thead th {\n",
       "        text-align: right;\n",
       "    }\n",
       "</style>\n",
       "<table border=\"1\" class=\"dataframe\">\n",
       "  <thead>\n",
       "    <tr style=\"text-align: right;\">\n",
       "      <th></th>\n",
       "      <th>CF</th>\n",
       "      <th>PI</th>\n",
       "      <th>frequency</th>\n",
       "      <th>Differential Analysis Comparison</th>\n",
       "    </tr>\n",
       "    <tr>\n",
       "      <th>protein groups</th>\n",
       "      <th></th>\n",
       "      <th></th>\n",
       "      <th></th>\n",
       "      <th></th>\n",
       "    </tr>\n",
       "  </thead>\n",
       "  <tbody>\n",
       "    <tr>\n",
       "      <th>A0A024QZX5;A0A087X1N8;P35237</th>\n",
       "      <td>0.014</td>\n",
       "      <td>0.375</td>\n",
       "      <td>186</td>\n",
       "      <td>CF (yes) - PI (no)</td>\n",
       "    </tr>\n",
       "    <tr>\n",
       "      <th>A0A024R0T9;K7ER74;P02655</th>\n",
       "      <td>0.085</td>\n",
       "      <td>0.083</td>\n",
       "      <td>195</td>\n",
       "      <td>CF (no)  - PI (no)</td>\n",
       "    </tr>\n",
       "    <tr>\n",
       "      <th>A0A024R3W6;A0A024R412;O60462;O60462-2;O60462-3;O60462-4;O60462-5;Q7LBX6;X5D2Q8</th>\n",
       "      <td>0.525</td>\n",
       "      <td>0.148</td>\n",
       "      <td>174</td>\n",
       "      <td>CF (no)  - PI (no)</td>\n",
       "    </tr>\n",
       "    <tr>\n",
       "      <th>A0A024R644;A0A0A0MRU5;A0A1B0GWI2;O75503</th>\n",
       "      <td>0.387</td>\n",
       "      <td>0.631</td>\n",
       "      <td>196</td>\n",
       "      <td>CF (no)  - PI (no)</td>\n",
       "    </tr>\n",
       "    <tr>\n",
       "      <th>A0A075B6H7</th>\n",
       "      <td>0.004</td>\n",
       "      <td>0.345</td>\n",
       "      <td>91</td>\n",
       "      <td>CF (yes) - PI (no)</td>\n",
       "    </tr>\n",
       "    <tr>\n",
       "      <th>...</th>\n",
       "      <td>...</td>\n",
       "      <td>...</td>\n",
       "      <td>...</td>\n",
       "      <td>...</td>\n",
       "    </tr>\n",
       "    <tr>\n",
       "      <th>Q9Y6R7</th>\n",
       "      <td>0.286</td>\n",
       "      <td>0.315</td>\n",
       "      <td>197</td>\n",
       "      <td>CF (no)  - PI (no)</td>\n",
       "    </tr>\n",
       "    <tr>\n",
       "      <th>Q9Y6X5</th>\n",
       "      <td>0.304</td>\n",
       "      <td>0.060</td>\n",
       "      <td>173</td>\n",
       "      <td>CF (no)  - PI (no)</td>\n",
       "    </tr>\n",
       "    <tr>\n",
       "      <th>Q9Y6Y8;Q9Y6Y8-2</th>\n",
       "      <td>0.158</td>\n",
       "      <td>0.182</td>\n",
       "      <td>197</td>\n",
       "      <td>CF (no)  - PI (no)</td>\n",
       "    </tr>\n",
       "    <tr>\n",
       "      <th>Q9Y6Y9</th>\n",
       "      <td>0.612</td>\n",
       "      <td>0.358</td>\n",
       "      <td>119</td>\n",
       "      <td>CF (no)  - PI (no)</td>\n",
       "    </tr>\n",
       "    <tr>\n",
       "      <th>S4R3U6</th>\n",
       "      <td>0.254</td>\n",
       "      <td>0.911</td>\n",
       "      <td>126</td>\n",
       "      <td>CF (no)  - PI (no)</td>\n",
       "    </tr>\n",
       "  </tbody>\n",
       "</table>\n",
       "<p>1421 rows × 4 columns</p>\n",
       "</div>"
      ],
      "text/plain": [
       "                                                      CF    PI  frequency  \\\n",
       "protein groups                                                              \n",
       "A0A024QZX5;A0A087X1N8;P35237                       0.014 0.375        186   \n",
       "A0A024R0T9;K7ER74;P02655                           0.085 0.083        195   \n",
       "A0A024R3W6;A0A024R412;O60462;O60462-2;O60462-3;... 0.525 0.148        174   \n",
       "A0A024R644;A0A0A0MRU5;A0A1B0GWI2;O75503            0.387 0.631        196   \n",
       "A0A075B6H7                                         0.004 0.345         91   \n",
       "...                                                  ...   ...        ...   \n",
       "Q9Y6R7                                             0.286 0.315        197   \n",
       "Q9Y6X5                                             0.304 0.060        173   \n",
       "Q9Y6Y8;Q9Y6Y8-2                                    0.158 0.182        197   \n",
       "Q9Y6Y9                                             0.612 0.358        119   \n",
       "S4R3U6                                             0.254 0.911        126   \n",
       "\n",
       "                                                   Differential Analysis Comparison  \n",
       "protein groups                                                                       \n",
       "A0A024QZX5;A0A087X1N8;P35237                                    CF (yes) - PI (no)   \n",
       "A0A024R0T9;K7ER74;P02655                                        CF (no)  - PI (no)   \n",
       "A0A024R3W6;A0A024R412;O60462;O60462-2;O60462-3;...              CF (no)  - PI (no)   \n",
       "A0A024R644;A0A0A0MRU5;A0A1B0GWI2;O75503                         CF (no)  - PI (no)   \n",
       "A0A075B6H7                                                      CF (yes) - PI (no)   \n",
       "...                                                                             ...  \n",
       "Q9Y6R7                                                          CF (no)  - PI (no)   \n",
       "Q9Y6X5                                                          CF (no)  - PI (no)   \n",
       "Q9Y6Y8;Q9Y6Y8-2                                                 CF (no)  - PI (no)   \n",
       "Q9Y6Y9                                                          CF (no)  - PI (no)   \n",
       "S4R3U6                                                          CF (no)  - PI (no)   \n",
       "\n",
       "[1421 rows x 4 columns]"
      ]
     },
     "execution_count": 18,
     "metadata": {},
     "output_type": "execute_result"
    }
   ],
   "source": [
    "var = 'qvalue'\n",
    "to_plot = [scores_common[v][var] for v in models.values()]\n",
    "for s, k in zip(to_plot, models.keys()):\n",
    "    s.name = k.replace('_', ' ')\n",
    "to_plot.append(scores_common['data'])\n",
    "to_plot.append(annotations)\n",
    "to_plot = pd.concat(to_plot, axis=1)\n",
    "to_plot"
   ]
  },
  {
   "cell_type": "markdown",
   "id": "c92517a4-8456-4663-b719-4abd997fbb1c",
   "metadata": {
    "papermill": {
     "duration": 0.017716,
     "end_time": "2024-06-13T10:10:28.264756",
     "exception": false,
     "start_time": "2024-06-13T10:10:28.247040",
     "status": "completed"
    },
    "tags": []
   },
   "source": [
    "List of features with the highest difference in qvalues"
   ]
  },
  {
   "cell_type": "code",
   "execution_count": 19,
   "id": "c7af4a70-aa43-4772-af00-d425f5ed249f",
   "metadata": {
    "execution": {
     "iopub.execute_input": "2024-06-13T10:10:28.302320Z",
     "iopub.status.busy": "2024-06-13T10:10:28.301959Z",
     "iopub.status.idle": "2024-06-13T10:10:28.317566Z",
     "shell.execute_reply": "2024-06-13T10:10:28.316749Z"
    },
    "papermill": {
     "duration": 0.036786,
     "end_time": "2024-06-13T10:10:28.319329",
     "exception": false,
     "start_time": "2024-06-13T10:10:28.282543",
     "status": "completed"
    },
    "tags": [
     "hide-input"
    ]
   },
   "outputs": [
    {
     "data": {
      "text/html": [
       "<div>\n",
       "<style scoped>\n",
       "    .dataframe tbody tr th:only-of-type {\n",
       "        vertical-align: middle;\n",
       "    }\n",
       "\n",
       "    .dataframe tbody tr th {\n",
       "        vertical-align: top;\n",
       "    }\n",
       "\n",
       "    .dataframe thead th {\n",
       "        text-align: right;\n",
       "    }\n",
       "</style>\n",
       "<table border=\"1\" class=\"dataframe\">\n",
       "  <thead>\n",
       "    <tr style=\"text-align: right;\">\n",
       "      <th></th>\n",
       "      <th>CF</th>\n",
       "      <th>PI</th>\n",
       "      <th>frequency</th>\n",
       "      <th>Differential Analysis Comparison</th>\n",
       "      <th>diff_qvalue</th>\n",
       "    </tr>\n",
       "    <tr>\n",
       "      <th>protein groups</th>\n",
       "      <th></th>\n",
       "      <th></th>\n",
       "      <th></th>\n",
       "      <th></th>\n",
       "      <th></th>\n",
       "    </tr>\n",
       "  </thead>\n",
       "  <tbody>\n",
       "    <tr>\n",
       "      <th>Q9NS84</th>\n",
       "      <td>0.005</td>\n",
       "      <td>0.971</td>\n",
       "      <td>83</td>\n",
       "      <td>CF (yes) - PI (no)</td>\n",
       "      <td>0.966</td>\n",
       "    </tr>\n",
       "    <tr>\n",
       "      <th>P17931</th>\n",
       "      <td>0.014</td>\n",
       "      <td>0.976</td>\n",
       "      <td>174</td>\n",
       "      <td>CF (yes) - PI (no)</td>\n",
       "      <td>0.962</td>\n",
       "    </tr>\n",
       "    <tr>\n",
       "      <th>A0A0G2JQD2;A0A0G2JQM0;A0A0G2JRN4;P30711</th>\n",
       "      <td>0.017</td>\n",
       "      <td>0.968</td>\n",
       "      <td>65</td>\n",
       "      <td>CF (yes) - PI (no)</td>\n",
       "      <td>0.951</td>\n",
       "    </tr>\n",
       "    <tr>\n",
       "      <th>O00187;O00187-2</th>\n",
       "      <td>0.044</td>\n",
       "      <td>0.981</td>\n",
       "      <td>119</td>\n",
       "      <td>CF (yes) - PI (no)</td>\n",
       "      <td>0.938</td>\n",
       "    </tr>\n",
       "    <tr>\n",
       "      <th>Q9BX67</th>\n",
       "      <td>0.959</td>\n",
       "      <td>0.034</td>\n",
       "      <td>161</td>\n",
       "      <td>CF (no)  - PI (yes)</td>\n",
       "      <td>0.926</td>\n",
       "    </tr>\n",
       "    <tr>\n",
       "      <th>...</th>\n",
       "      <td>...</td>\n",
       "      <td>...</td>\n",
       "      <td>...</td>\n",
       "      <td>...</td>\n",
       "      <td>...</td>\n",
       "    </tr>\n",
       "    <tr>\n",
       "      <th>Q9NX62</th>\n",
       "      <td>0.046</td>\n",
       "      <td>0.055</td>\n",
       "      <td>197</td>\n",
       "      <td>CF (yes) - PI (no)</td>\n",
       "      <td>0.009</td>\n",
       "    </tr>\n",
       "    <tr>\n",
       "      <th>P00740;P00740-2</th>\n",
       "      <td>0.044</td>\n",
       "      <td>0.053</td>\n",
       "      <td>197</td>\n",
       "      <td>CF (yes) - PI (no)</td>\n",
       "      <td>0.009</td>\n",
       "    </tr>\n",
       "    <tr>\n",
       "      <th>K7ERG9;P00746</th>\n",
       "      <td>0.043</td>\n",
       "      <td>0.052</td>\n",
       "      <td>197</td>\n",
       "      <td>CF (yes) - PI (no)</td>\n",
       "      <td>0.009</td>\n",
       "    </tr>\n",
       "    <tr>\n",
       "      <th>B3KTY4;Q9H156;Q9H156-2</th>\n",
       "      <td>0.045</td>\n",
       "      <td>0.053</td>\n",
       "      <td>141</td>\n",
       "      <td>CF (yes) - PI (no)</td>\n",
       "      <td>0.008</td>\n",
       "    </tr>\n",
       "    <tr>\n",
       "      <th>Q96KR4;Q96KR4-3</th>\n",
       "      <td>0.045</td>\n",
       "      <td>0.051</td>\n",
       "      <td>70</td>\n",
       "      <td>CF (yes) - PI (no)</td>\n",
       "      <td>0.006</td>\n",
       "    </tr>\n",
       "  </tbody>\n",
       "</table>\n",
       "<p>193 rows × 5 columns</p>\n",
       "</div>"
      ],
      "text/plain": [
       "                                           CF    PI  frequency  \\\n",
       "protein groups                                                   \n",
       "Q9NS84                                  0.005 0.971         83   \n",
       "P17931                                  0.014 0.976        174   \n",
       "A0A0G2JQD2;A0A0G2JQM0;A0A0G2JRN4;P30711 0.017 0.968         65   \n",
       "O00187;O00187-2                         0.044 0.981        119   \n",
       "Q9BX67                                  0.959 0.034        161   \n",
       "...                                       ...   ...        ...   \n",
       "Q9NX62                                  0.046 0.055        197   \n",
       "P00740;P00740-2                         0.044 0.053        197   \n",
       "K7ERG9;P00746                           0.043 0.052        197   \n",
       "B3KTY4;Q9H156;Q9H156-2                  0.045 0.053        141   \n",
       "Q96KR4;Q96KR4-3                         0.045 0.051         70   \n",
       "\n",
       "                                        Differential Analysis Comparison  \\\n",
       "protein groups                                                             \n",
       "Q9NS84                                               CF (yes) - PI (no)    \n",
       "P17931                                               CF (yes) - PI (no)    \n",
       "A0A0G2JQD2;A0A0G2JQM0;A0A0G2JRN4;P30711              CF (yes) - PI (no)    \n",
       "O00187;O00187-2                                      CF (yes) - PI (no)    \n",
       "Q9BX67                                               CF (no)  - PI (yes)   \n",
       "...                                                                  ...   \n",
       "Q9NX62                                               CF (yes) - PI (no)    \n",
       "P00740;P00740-2                                      CF (yes) - PI (no)    \n",
       "K7ERG9;P00746                                        CF (yes) - PI (no)    \n",
       "B3KTY4;Q9H156;Q9H156-2                               CF (yes) - PI (no)    \n",
       "Q96KR4;Q96KR4-3                                      CF (yes) - PI (no)    \n",
       "\n",
       "                                         diff_qvalue  \n",
       "protein groups                                        \n",
       "Q9NS84                                         0.966  \n",
       "P17931                                         0.962  \n",
       "A0A0G2JQD2;A0A0G2JQM0;A0A0G2JRN4;P30711        0.951  \n",
       "O00187;O00187-2                                0.938  \n",
       "Q9BX67                                         0.926  \n",
       "...                                              ...  \n",
       "Q9NX62                                         0.009  \n",
       "P00740;P00740-2                                0.009  \n",
       "K7ERG9;P00746                                  0.009  \n",
       "B3KTY4;Q9H156;Q9H156-2                         0.008  \n",
       "Q96KR4;Q96KR4-3                                0.006  \n",
       "\n",
       "[193 rows x 5 columns]"
      ]
     },
     "execution_count": 19,
     "metadata": {},
     "output_type": "execute_result"
    }
   ],
   "source": [
    "# should it be possible to run not only RSN?\n",
    "to_plot['diff_qvalue'] = (to_plot[str(args.baseline)] - to_plot[str(args.model_key)]).abs()\n",
    "to_plot.loc[mask_different].sort_values('diff_qvalue', ascending=False)"
   ]
  },
  {
   "cell_type": "markdown",
   "id": "e715954e-2d62-4cd9-b4b0-063524bca495",
   "metadata": {
    "papermill": {
     "duration": 0.017925,
     "end_time": "2024-06-13T10:10:28.355470",
     "exception": false,
     "start_time": "2024-06-13T10:10:28.337545",
     "status": "completed"
    },
    "tags": []
   },
   "source": [
    "### Differences plotted with created annotations"
   ]
  },
  {
   "cell_type": "code",
   "execution_count": 20,
   "id": "a20d356d-c397-4440-b70e-9d899aa200fd",
   "metadata": {
    "execution": {
     "iopub.execute_input": "2024-06-13T10:10:28.394551Z",
     "iopub.status.busy": "2024-06-13T10:10:28.393682Z",
     "iopub.status.idle": "2024-06-13T10:10:30.069862Z",
     "shell.execute_reply": "2024-06-13T10:10:30.069056Z"
    },
    "papermill": {
     "duration": 1.698263,
     "end_time": "2024-06-13T10:10:30.072237",
     "exception": false,
     "start_time": "2024-06-13T10:10:28.373974",
     "status": "completed"
    },
    "tags": [
     "hide-input"
    ]
   },
   "outputs": [
    {
     "name": "stderr",
     "output_type": "stream",
     "text": [
      "vaep.plotting - INFO     Saved Figures to runs/alzheimer_study/diff_analysis/AD/PI_vs_CF/diff_analysis_comparision_1_CF\n"
     ]
    },
    {
     "data": {
      "image/png": "[encoded data removed]",
      "text/plain": [
       "<Figure size 588x588 with 1 Axes>"
      ]
     },
     "metadata": {},
     "output_type": "display_data"
    }
   ],
   "source": [
    "figsize = (4, 4)\n",
    "size = 5\n",
    "fig, ax = plt.subplots(figsize=figsize)\n",
    "x_col = to_plot.columns[0]\n",
    "y_col = to_plot.columns[1]\n",
    "ax = sns.scatterplot(data=to_plot,\n",
    "                     x=x_col,\n",
    "                     y=y_col,\n",
    "                     s=size,\n",
    "                     hue='Differential Analysis Comparison',\n",
    "                     ax=ax)\n",
    "_ = ax.legend(fontsize=fontsize,\n",
    "              title_fontsize=fontsize,\n",
    "              markerscale=0.4,\n",
    "              title='',\n",
    "              )\n",
    "ax.set_xlabel(f\"qvalue for {x_col}\")\n",
    "ax.set_ylabel(f\"qvalue for {y_col}\")\n",
    "ax.hlines(0.05, 0, 1, color='grey', linestyles='dotted')\n",
    "ax.vlines(0.05, 0, 1, color='grey', linestyles='dotted')\n",
    "sns.move_legend(ax, \"upper right\")\n",
    "files_out[f'diff_analysis_comparision_1_{args.model_key}'] = (\n",
    "    args.out_folder /\n",
    "    f'diff_analysis_comparision_1_{args.model_key}')\n",
    "fname = files_out[f'diff_analysis_comparision_1_{args.model_key}']\n",
    "vaep.savefig(fig, name=fname)"
   ]
  },
  {
   "cell_type": "markdown",
   "id": "d8849c76-c5f6-4618-87c0-f2635dc9ac66",
   "metadata": {
    "papermill": {
     "duration": 0.020341,
     "end_time": "2024-06-13T10:10:30.113281",
     "exception": false,
     "start_time": "2024-06-13T10:10:30.092940",
     "status": "completed"
    },
    "tags": []
   },
   "source": [
    "- also showing how many features were measured (\"observed\") by size of circle"
   ]
  },
  {
   "cell_type": "code",
   "execution_count": 21,
   "id": "1cf258f8-9dcb-40bb-af66-b600f8d413f6",
   "metadata": {
    "execution": {
     "iopub.execute_input": "2024-06-13T10:10:30.156026Z",
     "iopub.status.busy": "2024-06-13T10:10:30.155112Z",
     "iopub.status.idle": "2024-06-13T10:10:32.025197Z",
     "shell.execute_reply": "2024-06-13T10:10:32.024549Z"
    },
    "papermill": {
     "duration": 1.893445,
     "end_time": "2024-06-13T10:10:32.027008",
     "exception": false,
     "start_time": "2024-06-13T10:10:30.133563",
     "status": "completed"
    },
    "tags": [
     "hide-input"
    ]
   },
   "outputs": [
    {
     "name": "stderr",
     "output_type": "stream",
     "text": [
      "vaep.plotting - INFO     Saved Figures to runs/alzheimer_study/diff_analysis/AD/PI_vs_CF/diff_analysis_comparision_2_CF\n"
     ]
    },
    {
     "data": {
      "image/png": "[encoded data removed]",
      "text/plain": [
       "<Figure size 588x588 with 1 Axes>"
      ]
     },
     "metadata": {},
     "output_type": "display_data"
    }
   ],
   "source": [
    "fig, ax = plt.subplots(figsize=figsize)\n",
    "ax = sns.scatterplot(data=to_plot,\n",
    "                     x=to_plot.columns[0],\n",
    "                     y=to_plot.columns[1],\n",
    "                     size='frequency',\n",
    "                     s=size,\n",
    "                     sizes=(5, 20),\n",
    "                     hue='Differential Analysis Comparison')\n",
    "_ = ax.legend(fontsize=fontsize,\n",
    "              title_fontsize=fontsize,\n",
    "              markerscale=0.6,\n",
    "              title='',\n",
    "              )\n",
    "ax.set_xlabel(f\"qvalue for {x_col}\")\n",
    "ax.set_ylabel(f\"qvalue for {y_col}\")\n",
    "ax.hlines(0.05, 0, 1, color='grey', linestyles='dotted')\n",
    "ax.vlines(0.05, 0, 1, color='grey', linestyles='dotted')\n",
    "sns.move_legend(ax, \"upper right\")\n",
    "files_out[f'diff_analysis_comparision_2_{args.model_key}'] = (\n",
    "    args.out_folder / f'diff_analysis_comparision_2_{args.model_key}')\n",
    "vaep.savefig(\n",
    "    fig, name=files_out[f'diff_analysis_comparision_2_{args.model_key}'])"
   ]
  },
  {
   "cell_type": "markdown",
   "id": "1fee3a21-d8b3-40c6-aea2-4774dfe855ca",
   "metadata": {
    "papermill": {
     "duration": 0.012347,
     "end_time": "2024-06-13T10:10:32.051979",
     "exception": false,
     "start_time": "2024-06-13T10:10:32.039632",
     "status": "completed"
    },
    "tags": []
   },
   "source": [
    "## Only features contained in model\n",
    "- this block exist due to a specific part in the ALD analysis of the paper"
   ]
  },
  {
   "cell_type": "code",
   "execution_count": 22,
   "id": "c4e23a01-fd37-4496-a518-445a9ef38db1",
   "metadata": {
    "execution": {
     "iopub.execute_input": "2024-06-13T10:10:32.077840Z",
     "iopub.status.busy": "2024-06-13T10:10:32.077358Z",
     "iopub.status.idle": "2024-06-13T10:10:32.084072Z",
     "shell.execute_reply": "2024-06-13T10:10:32.083583Z"
    },
    "papermill": {
     "duration": 0.021125,
     "end_time": "2024-06-13T10:10:32.085296",
     "exception": false,
     "start_time": "2024-06-13T10:10:32.064171",
     "status": "completed"
    },
    "tags": [
     "hide-input"
    ]
   },
   "outputs": [
    {
     "name": "stderr",
     "output_type": "stream",
     "text": [
      "root - INFO     No features only in new comparision model.\n"
     ]
    }
   ],
   "source": [
    "scores_model_only = scores.reset_index(level=-1, drop=True)\n",
    "_diff = scores_model_only.index.difference(scores_common.index)\n",
    "if not _diff.empty:\n",
    "    scores_model_only = (scores_model_only\n",
    "                         .loc[\n",
    "                             _diff,\n",
    "                             args.model_key]\n",
    "                         .sort_values(by='qvalue', ascending=True)\n",
    "                         .join(freq_feat.squeeze().rename(freq_feat.columns.droplevel()[0])\n",
    "                               )\n",
    "                         )\n",
    "    display(scores_model_only)\n",
    "else:\n",
    "    scores_model_only = None\n",
    "    logger.info(\"No features only in new comparision model.\")\n",
    "\n",
    "if not _diff.empty:\n",
    "    scores_model_only.to_excel(writer, 'only_model', **writer_args)\n",
    "    display(scores_model_only.rejected.value_counts())\n",
    "    scores_model_only_rejected = scores_model_only.loc[scores_model_only.rejected]\n",
    "    scores_model_only_rejected.to_excel(\n",
    "        writer, 'only_model_rejected', **writer_args)"
   ]
  },
  {
   "cell_type": "markdown",
   "id": "78b2c336",
   "metadata": {
    "papermill": {
     "duration": 0.01209,
     "end_time": "2024-06-13T10:10:32.109561",
     "exception": false,
     "start_time": "2024-06-13T10:10:32.097471",
     "status": "completed"
    },
    "tags": []
   },
   "source": [
    "## DISEASES DB lookup\n",
    "\n",
    "Query diseases database for gene associations with specified disease ontology id."
   ]
  },
  {
   "cell_type": "code",
   "execution_count": 23,
   "id": "d93a9242-0ef4-4fc7-bd98-226a93639f58",
   "metadata": {
    "execution": {
     "iopub.execute_input": "2024-06-13T10:10:32.135084Z",
     "iopub.status.busy": "2024-06-13T10:10:32.134584Z",
     "iopub.status.idle": "2024-06-13T10:10:32.697253Z",
     "shell.execute_reply": "2024-06-13T10:10:32.696396Z"
    },
    "papermill": {
     "duration": 0.577769,
     "end_time": "2024-06-13T10:10:32.699274",
     "exception": false,
     "start_time": "2024-06-13T10:10:32.121505",
     "status": "completed"
    },
    "tags": [
     "hide-input"
    ]
   },
   "outputs": [
    {
     "data": {
      "text/html": [
       "<div>\n",
       "<style scoped>\n",
       "    .dataframe tbody tr th:only-of-type {\n",
       "        vertical-align: middle;\n",
       "    }\n",
       "\n",
       "    .dataframe tbody tr th {\n",
       "        vertical-align: top;\n",
       "    }\n",
       "\n",
       "    .dataframe thead th {\n",
       "        text-align: right;\n",
       "    }\n",
       "</style>\n",
       "<table border=\"1\" class=\"dataframe\">\n",
       "  <thead>\n",
       "    <tr style=\"text-align: right;\">\n",
       "      <th></th>\n",
       "      <th>ENSP</th>\n",
       "      <th>score</th>\n",
       "    </tr>\n",
       "    <tr>\n",
       "      <th>None</th>\n",
       "      <th></th>\n",
       "      <th></th>\n",
       "    </tr>\n",
       "  </thead>\n",
       "  <tbody>\n",
       "    <tr>\n",
       "      <th>PSEN2</th>\n",
       "      <td>ENSP00000355747</td>\n",
       "      <td>5.000</td>\n",
       "    </tr>\n",
       "    <tr>\n",
       "      <th>APOE</th>\n",
       "      <td>ENSP00000252486</td>\n",
       "      <td>5.000</td>\n",
       "    </tr>\n",
       "    <tr>\n",
       "      <th>PSEN1</th>\n",
       "      <td>ENSP00000326366</td>\n",
       "      <td>5.000</td>\n",
       "    </tr>\n",
       "    <tr>\n",
       "      <th>APP</th>\n",
       "      <td>ENSP00000284981</td>\n",
       "      <td>5.000</td>\n",
       "    </tr>\n",
       "    <tr>\n",
       "      <th>CLU</th>\n",
       "      <td>ENSP00000315130</td>\n",
       "      <td>4.263</td>\n",
       "    </tr>\n",
       "    <tr>\n",
       "      <th>...</th>\n",
       "      <td>...</td>\n",
       "      <td>...</td>\n",
       "    </tr>\n",
       "    <tr>\n",
       "      <th>HBS1L</th>\n",
       "      <td>ENSP00000356811</td>\n",
       "      <td>0.508</td>\n",
       "    </tr>\n",
       "    <tr>\n",
       "      <th>SMAD9</th>\n",
       "      <td>ENSP00000369154</td>\n",
       "      <td>0.506</td>\n",
       "    </tr>\n",
       "    <tr>\n",
       "      <th>ANKRD11</th>\n",
       "      <td>ENSP00000301030</td>\n",
       "      <td>0.505</td>\n",
       "    </tr>\n",
       "    <tr>\n",
       "      <th>NODAL</th>\n",
       "      <td>ENSP00000287139</td>\n",
       "      <td>0.505</td>\n",
       "    </tr>\n",
       "    <tr>\n",
       "      <th>TPPP</th>\n",
       "      <td>ENSP00000353785</td>\n",
       "      <td>0.504</td>\n",
       "    </tr>\n",
       "  </tbody>\n",
       "</table>\n",
       "<p>328 rows × 2 columns</p>\n",
       "</div>"
      ],
      "text/plain": [
       "                    ENSP  score\n",
       "None                           \n",
       "PSEN2    ENSP00000355747  5.000\n",
       "APOE     ENSP00000252486  5.000\n",
       "PSEN1    ENSP00000326366  5.000\n",
       "APP      ENSP00000284981  5.000\n",
       "CLU      ENSP00000315130  4.263\n",
       "...                  ...    ...\n",
       "HBS1L    ENSP00000356811  0.508\n",
       "SMAD9    ENSP00000369154  0.506\n",
       "ANKRD11  ENSP00000301030  0.505\n",
       "NODAL    ENSP00000287139  0.505\n",
       "TPPP     ENSP00000353785  0.504\n",
       "\n",
       "[328 rows x 2 columns]"
      ]
     },
     "execution_count": 23,
     "metadata": {},
     "output_type": "execute_result"
    }
   ],
   "source": [
    "data = vaep.databases.diseases.get_disease_association(\n",
    "    doid=args.disease_ontology, limit=10000)\n",
    "data = pd.DataFrame.from_dict(data, orient='index').rename_axis('ENSP', axis=0)\n",
    "data = data.rename(columns={'name': args.annotaitons_gene_col}).reset_index(\n",
    ").set_index(args.annotaitons_gene_col)\n",
    "data"
   ]
  },
  {
   "cell_type": "markdown",
   "id": "efe22443-2613-46ad-83c2-41048e13dd57",
   "metadata": {
    "papermill": {
     "duration": 0.024067,
     "end_time": "2024-06-13T10:10:32.748259",
     "exception": false,
     "start_time": "2024-06-13T10:10:32.724192",
     "status": "completed"
    },
    "tags": []
   },
   "source": [
    "## Shared features\n",
    "ToDo: new script -> DISEASES DB lookup"
   ]
  },
  {
   "cell_type": "code",
   "execution_count": null,
   "id": "5c26415e",
   "metadata": {
    "papermill": {
     "duration": 0.024042,
     "end_time": "2024-06-13T10:10:32.796636",
     "exception": false,
     "start_time": "2024-06-13T10:10:32.772594",
     "status": "completed"
    },
    "tags": [
     "hide-input"
    ]
   },
   "outputs": [],
   "source": []
  },
  {
   "cell_type": "code",
   "execution_count": 24,
   "id": "b68b43df",
   "metadata": {
    "execution": {
     "iopub.execute_input": "2024-06-13T10:10:32.846663Z",
     "iopub.status.busy": "2024-06-13T10:10:32.846260Z",
     "iopub.status.idle": "2024-06-13T10:10:32.855041Z",
     "shell.execute_reply": "2024-06-13T10:10:32.853972Z"
    },
    "papermill": {
     "duration": 0.035515,
     "end_time": "2024-06-13T10:10:32.856250",
     "exception": true,
     "start_time": "2024-06-13T10:10:32.820735",
     "status": "failed"
    },
    "tags": [
     "hide-input"
    ]
   },
   "outputs": [
    {
     "name": "stderr",
     "output_type": "stream",
     "text": [
      "root - INFO     No gene annotation in scores index:  ['protein groups', 'Source'] Exiting.\n"
     ]
    },
    {
     "ename": "SystemExit",
     "evalue": "0",
     "output_type": "error",
     "traceback": [
      "An exception has occurred, use %tb to see the full traceback.\n",
      "\u001b[0;31mSystemExit\u001b[0m\u001b[0;31m:\u001b[0m 0\n"
     ]
    },
    {
     "name": "stderr",
     "output_type": "stream",
     "text": [
      "/usr/share/miniconda3/envs/vaep/lib/python3.8/site-packages/IPython/core/interactiveshell.py:3516: UserWarning: To exit: use 'exit', 'quit', or Ctrl-D.\n",
      "  warn(\"To exit: use 'exit', 'quit', or Ctrl-D.\", stacklevel=1)\n"
     ]
    }
   ],
   "source": [
    "feat_name = scores.index.names[0]  # first index level is feature name\n",
    "if args.annotaitons_gene_col in scores.index.names:\n",
    "    logger.info(f\"Found gene annotation in scores index:  {scores.index.names}\")\n",
    "else:\n",
    "    logger.info(f\"No gene annotation in scores index:  {scores.index.names}\"\n",
    "                \" Exiting.\")\n",
    "    import sys\n",
    "    sys.exit(0)"
   ]
  },
  {
   "cell_type": "code",
   "execution_count": null,
   "id": "f8d4a74d-5a9b-4d9b-9345-4288bb23e19f",
   "metadata": {
    "papermill": {
     "duration": null,
     "end_time": null,
     "exception": null,
     "start_time": null,
     "status": "pending"
    },
    "tags": [
     "hide-input"
    ]
   },
   "outputs": [],
   "source": [
    "gene_to_PG = (scores.droplevel(\n",
    "    list(set(scores.index.names) - {feat_name, args.annotaitons_gene_col})\n",
    ")\n",
    "    .index\n",
    "    .to_frame()\n",
    "    .reset_index(drop=True)\n",
    "    .set_index(args.annotaitons_gene_col)\n",
    ")\n",
    "gene_to_PG.head()"
   ]
  },
  {
   "cell_type": "code",
   "execution_count": null,
   "id": "d9e76def-b48a-458d-a90b-765e6e70f7a4",
   "metadata": {
    "papermill": {
     "duration": null,
     "end_time": null,
     "exception": null,
     "start_time": null,
     "status": "pending"
    },
    "tags": [
     "hide-input"
    ]
   },
   "outputs": [],
   "source": [
    "disease_associations_all = data.join(\n",
    "    gene_to_PG).dropna().reset_index().set_index(feat_name).join(annotations)\n",
    "disease_associations_all"
   ]
  },
  {
   "cell_type": "markdown",
   "id": "217972a3-ba4a-4f28-ab8f-25dc0f5e9ede",
   "metadata": {
    "papermill": {
     "duration": null,
     "end_time": null,
     "exception": null,
     "start_time": null,
     "status": "pending"
    },
    "tags": []
   },
   "source": [
    "## only by model"
   ]
  },
  {
   "cell_type": "code",
   "execution_count": null,
   "id": "8e9d6944-87ba-4c41-af14-fb5ed93262f0",
   "metadata": {
    "papermill": {
     "duration": null,
     "end_time": null,
     "exception": null,
     "start_time": null,
     "status": "pending"
    },
    "tags": [
     "hide-input"
    ]
   },
   "outputs": [],
   "source": [
    "idx = disease_associations_all.index.intersection(scores_model_only.index)\n",
    "disease_assocications_new = disease_associations_all.loc[idx].sort_values(\n",
    "    'score', ascending=False)\n",
    "disease_assocications_new.head(20)"
   ]
  },
  {
   "cell_type": "code",
   "execution_count": null,
   "id": "ceefc483-b889-4bab-b207-c8d5fd97fa4a",
   "metadata": {
    "papermill": {
     "duration": null,
     "end_time": null,
     "exception": null,
     "start_time": null,
     "status": "pending"
    },
    "tags": [
     "hide-input"
    ]
   },
   "outputs": [],
   "source": [
    "mask = disease_assocications_new.loc[idx, 'score'] >= 2.0\n",
    "disease_assocications_new.loc[idx].loc[mask]"
   ]
  },
  {
   "cell_type": "markdown",
   "id": "f85eede2-7b61-4285-ba8c-745f77f6ab22",
   "metadata": {
    "papermill": {
     "duration": null,
     "end_time": null,
     "exception": null,
     "start_time": null,
     "status": "pending"
    },
    "tags": []
   },
   "source": [
    "## Only by model which were significant"
   ]
  },
  {
   "cell_type": "code",
   "execution_count": null,
   "id": "4644759b-8cc2-4f99-a16c-16419cfb915c",
   "metadata": {
    "papermill": {
     "duration": null,
     "end_time": null,
     "exception": null,
     "start_time": null,
     "status": "pending"
    },
    "tags": [
     "hide-input"
    ]
   },
   "outputs": [],
   "source": [
    "idx = disease_associations_all.index.intersection(\n",
    "    scores_model_only_rejected.index)\n",
    "disease_assocications_new_rejected = disease_associations_all.loc[idx].sort_values(\n",
    "    'score', ascending=False)\n",
    "disease_assocications_new_rejected.head(20)"
   ]
  },
  {
   "cell_type": "code",
   "execution_count": null,
   "id": "365d8641-97a8-464f-b69b-270af9ae6e2d",
   "metadata": {
    "papermill": {
     "duration": null,
     "end_time": null,
     "exception": null,
     "start_time": null,
     "status": "pending"
    },
    "tags": [
     "hide-input"
    ]
   },
   "outputs": [],
   "source": [
    "mask = disease_assocications_new_rejected.loc[idx, 'score'] >= 2.0\n",
    "disease_assocications_new_rejected.loc[idx].loc[mask]"
   ]
  },
  {
   "cell_type": "markdown",
   "id": "4f22614b-e058-4e35-b8a9-141c291a93bc",
   "metadata": {
    "papermill": {
     "duration": null,
     "end_time": null,
     "exception": null,
     "start_time": null,
     "status": "pending"
    },
    "tags": []
   },
   "source": [
    "## Shared which are only significant for by model"
   ]
  },
  {
   "cell_type": "code",
   "execution_count": null,
   "id": "82eb2ba8-4fe7-431d-8095-5be43f7791b7",
   "metadata": {
    "papermill": {
     "duration": null,
     "end_time": null,
     "exception": null,
     "start_time": null,
     "status": "pending"
    },
    "tags": []
   },
   "outputs": [],
   "source": [
    "mask = (scores_common[(str(args.model_key), 'rejected')] & mask_different)\n",
    "mask.sum()"
   ]
  },
  {
   "cell_type": "code",
   "execution_count": null,
   "id": "6416d494-5f3e-4cf4-b766-b1f95e40ae1c",
   "metadata": {
    "papermill": {
     "duration": null,
     "end_time": null,
     "exception": null,
     "start_time": null,
     "status": "pending"
    },
    "tags": [
     "hide-input"
    ]
   },
   "outputs": [],
   "source": [
    "idx = disease_associations_all.index.intersection(mask.index[mask])\n",
    "disease_assocications_shared_rejected_by_model = (disease_associations_all.loc[idx].sort_values(\n",
    "    'score', ascending=False))\n",
    "disease_assocications_shared_rejected_by_model.head(20)"
   ]
  },
  {
   "cell_type": "code",
   "execution_count": null,
   "id": "10899e28-4aee-4d44-a542-e45be6699a1b",
   "metadata": {
    "papermill": {
     "duration": null,
     "end_time": null,
     "exception": null,
     "start_time": null,
     "status": "pending"
    },
    "tags": [
     "hide-input"
    ]
   },
   "outputs": [],
   "source": [
    "mask = disease_assocications_shared_rejected_by_model.loc[idx, 'score'] >= 2.0\n",
    "disease_assocications_shared_rejected_by_model.loc[idx].loc[mask]"
   ]
  },
  {
   "cell_type": "markdown",
   "id": "b6c082ea-7d92-4296-8ec9-d279509142a3",
   "metadata": {
    "papermill": {
     "duration": null,
     "end_time": null,
     "exception": null,
     "start_time": null,
     "status": "pending"
    },
    "tags": []
   },
   "source": [
    "## Only significant by RSN"
   ]
  },
  {
   "cell_type": "code",
   "execution_count": null,
   "id": "c59aae50-6877-47cc-99f6-646862d29121",
   "metadata": {
    "papermill": {
     "duration": null,
     "end_time": null,
     "exception": null,
     "start_time": null,
     "status": "pending"
    },
    "tags": []
   },
   "outputs": [],
   "source": [
    "mask = (scores_common[(str(args.baseline), 'rejected')] & mask_different)\n",
    "mask.sum()"
   ]
  },
  {
   "cell_type": "code",
   "execution_count": null,
   "id": "7780de55-c63b-4028-a6d0-58bce7be81da",
   "metadata": {
    "papermill": {
     "duration": null,
     "end_time": null,
     "exception": null,
     "start_time": null,
     "status": "pending"
    },
    "tags": [
     "hide-input"
    ]
   },
   "outputs": [],
   "source": [
    "idx = disease_associations_all.index.intersection(mask.index[mask])\n",
    "disease_assocications_shared_rejected_by_RSN = (\n",
    "    disease_associations_all\n",
    "    .loc[idx]\n",
    "    .sort_values('score', ascending=False))\n",
    "disease_assocications_shared_rejected_by_RSN.head(20)"
   ]
  },
  {
   "cell_type": "code",
   "execution_count": null,
   "id": "03115c8f-1f20-4b51-a78c-4d7c0317dc33",
   "metadata": {
    "papermill": {
     "duration": null,
     "end_time": null,
     "exception": null,
     "start_time": null,
     "status": "pending"
    },
    "tags": [
     "hide-input"
    ]
   },
   "outputs": [],
   "source": [
    "mask = disease_assocications_shared_rejected_by_RSN.loc[idx, 'score'] >= 2.0\n",
    "disease_assocications_shared_rejected_by_RSN.loc[idx].loc[mask]"
   ]
  },
  {
   "cell_type": "markdown",
   "id": "9d72708d-ad27-435b-b672-7dfe35283601",
   "metadata": {
    "papermill": {
     "duration": null,
     "end_time": null,
     "exception": null,
     "start_time": null,
     "status": "pending"
    },
    "tags": []
   },
   "source": [
    "## Write to excel"
   ]
  },
  {
   "cell_type": "code",
   "execution_count": null,
   "id": "91e7fbb7-69fd-4b4c-9bc2-40e8dd1907b3",
   "metadata": {
    "papermill": {
     "duration": null,
     "end_time": null,
     "exception": null,
     "start_time": null,
     "status": "pending"
    },
    "tags": [
     "hide-input"
    ]
   },
   "outputs": [],
   "source": [
    "disease_associations_all.to_excel(\n",
    "    writer, sheet_name='disease_assoc_all', **writer_args)\n",
    "disease_assocications_new.to_excel(\n",
    "    writer, sheet_name='disease_assoc_new', **writer_args)\n",
    "disease_assocications_new_rejected.to_excel(\n",
    "    writer, sheet_name='disease_assoc_new_rejected', **writer_args)"
   ]
  },
  {
   "cell_type": "markdown",
   "id": "52a42028-7e2d-47d5-be02-52f7ff1f3665",
   "metadata": {
    "papermill": {
     "duration": null,
     "end_time": null,
     "exception": null,
     "start_time": null,
     "status": "pending"
    },
    "tags": []
   },
   "source": [
    "## Outputs"
   ]
  },
  {
   "cell_type": "code",
   "execution_count": null,
   "id": "7f3a7433-3bf1-4168-8f16-eb6d415ef17f",
   "metadata": {
    "papermill": {
     "duration": null,
     "end_time": null,
     "exception": null,
     "start_time": null,
     "status": "pending"
    },
    "tags": [
     "hide-input"
    ]
   },
   "outputs": [],
   "source": [
    "writer.close()\n",
    "files_out"
   ]
  }
 ],
 "metadata": {
  "kernelspec": {
   "display_name": "Python 3",
   "language": "python",
   "name": "python3"
  },
  "language_info": {
   "codemirror_mode": {
    "name": "ipython",
    "version": 3
   },
   "file_extension": ".py",
   "mimetype": "text/x-python",
   "name": "python",
   "nbconvert_exporter": "python",
   "pygments_lexer": "ipython3",
   "version": "3.8.19"
  },
  "papermill": {
   "default_parameters": {},
   "duration": 10.192431,
   "end_time": "2024-06-13T10:10:33.400899",
   "environment_variables": {},
   "exception": true,
   "input_path": "10_2_ald_compare_methods.ipynb",
   "output_path": "runs/alzheimer_study/diff_analysis/AD/PI_vs_CF/10_2_ald_compare_methods.ipynb",
   "parameters": {
    "annotaitons_gene_col": "None",
    "baseline": "PI",
    "disease_ontology": 10652,
    "folder_experiment": "runs/alzheimer_study",
    "model_key": "CF",
    "out_folder": "diff_analysis",
    "target": "AD"
   },
   "start_time": "2024-06-13T10:10:23.208468",
   "version": "2.6.0"
  }
 },
 "nbformat": 4,
 "nbformat_minor": 5
}