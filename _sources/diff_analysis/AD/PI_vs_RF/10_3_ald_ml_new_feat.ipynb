{
 "cells": [
  {
   "cell_type": "markdown",
   "id": "d5f8edbd",
   "metadata": {
    "lines_to_next_cell": 2,
    "papermill": {
     "duration": 0.010557,
     "end_time": "2024-05-27T12:08:10.450222",
     "exception": false,
     "start_time": "2024-05-27T12:08:10.439665",
     "status": "completed"
    },
    "tags": []
   },
   "source": [
    "# Fit logistic regression model\n",
    "\n",
    "- based on different imputation methods\n",
    "- baseline: reference\n",
    "- model: any other selected imputation method"
   ]
  },
  {
   "cell_type": "code",
   "execution_count": 1,
   "id": "8d8c6764",
   "metadata": {
    "execution": {
     "iopub.execute_input": "2024-05-27T12:08:10.472131Z",
     "iopub.status.busy": "2024-05-27T12:08:10.471807Z",
     "iopub.status.idle": "2024-05-27T12:08:13.217287Z",
     "shell.execute_reply": "2024-05-27T12:08:13.216388Z"
    },
    "papermill": {
     "duration": 2.75957,
     "end_time": "2024-05-27T12:08:13.219872",
     "exception": false,
     "start_time": "2024-05-27T12:08:10.460302",
     "status": "completed"
    },
    "tags": []
   },
   "outputs": [],
   "source": [
    "import logging\n",
    "from pathlib import Path\n",
    "from typing import List\n",
    "\n",
    "import matplotlib.pyplot as plt\n",
    "import njab.sklearn\n",
    "import pandas as pd\n",
    "import sklearn\n",
    "from njab.plotting.metrics import plot_split_auc, plot_split_prc\n",
    "from njab.sklearn.types import Splits\n",
    "\n",
    "import vaep\n",
    "import vaep.analyzers\n",
    "import vaep.io.datasplits\n",
    "\n",
    "plt.rcParams['figure.figsize'] = (2.5, 2.5)\n",
    "plt.rcParams['lines.linewidth'] = 1\n",
    "plt.rcParams['lines.markersize'] = 2\n",
    "fontsize = 5\n",
    "figsize = (2.5, 2.5)\n",
    "vaep.plotting.make_large_descriptors(fontsize)\n",
    "\n",
    "\n",
    "logger = vaep.logging.setup_nb_logger()\n",
    "logging.getLogger('fontTools').setLevel(logging.ERROR)\n",
    "\n",
    "\n",
    "def parse_roc(*res: List[njab.sklearn.types.Results]) -> pd.DataFrame:\n",
    "    ret = list()\n",
    "    for _r in res:\n",
    "        _roc = (pd.DataFrame(_r.test.roc,\n",
    "                             index='fpr tpr cutoffs'.split()\n",
    "                             )).loc[['fpr', 'tpr']]\n",
    "        _roc = _roc.T\n",
    "        _roc.columns = pd.MultiIndex.from_product([[_r.name], _roc.columns])\n",
    "        ret.append(_roc)\n",
    "    ret = pd.concat(ret, axis=1)\n",
    "    return ret\n",
    "\n",
    "\n",
    "def parse_prc(*res: List[njab.sklearn.types.Results]) -> pd.DataFrame:\n",
    "    ret = list()\n",
    "    for _r in res:\n",
    "        _prc = pd.DataFrame(_r.test.prc,\n",
    "                            index='precision recall cutoffs'.split()\n",
    "                            ).loc[['precision', 'recall']]\n",
    "        _prc = _prc.T.rename(columns={'recall': 'tpr'})\n",
    "        _prc.columns = pd.MultiIndex.from_product([[_r.name], _prc.columns])\n",
    "        ret.append(_prc)\n",
    "    ret = pd.concat(ret, axis=1)\n",
    "    return ret"
   ]
  },
  {
   "cell_type": "code",
   "execution_count": 2,
   "id": "61a7353e",
   "metadata": {
    "execution": {
     "iopub.execute_input": "2024-05-27T12:08:13.256976Z",
     "iopub.status.busy": "2024-05-27T12:08:13.256466Z",
     "iopub.status.idle": "2024-05-27T12:08:13.260535Z",
     "shell.execute_reply": "2024-05-27T12:08:13.259842Z"
    },
    "papermill": {
     "duration": 0.028433,
     "end_time": "2024-05-27T12:08:13.264109",
     "exception": false,
     "start_time": "2024-05-27T12:08:13.235676",
     "status": "completed"
    },
    "tags": []
   },
   "outputs": [],
   "source": [
    "# catch passed parameters\n",
    "args = None\n",
    "args = dict(globals()).keys()"
   ]
  },
  {
   "cell_type": "markdown",
   "id": "139c9ae8",
   "metadata": {
    "papermill": {
     "duration": 0.01663,
     "end_time": "2024-05-27T12:08:13.316977",
     "exception": false,
     "start_time": "2024-05-27T12:08:13.300347",
     "status": "completed"
    },
    "tags": []
   },
   "source": [
    "## Parameters"
   ]
  },
  {
   "cell_type": "code",
   "execution_count": 3,
   "id": "443cd83d",
   "metadata": {
    "execution": {
     "iopub.execute_input": "2024-05-27T12:08:13.337134Z",
     "iopub.status.busy": "2024-05-27T12:08:13.336573Z",
     "iopub.status.idle": "2024-05-27T12:08:13.340500Z",
     "shell.execute_reply": "2024-05-27T12:08:13.339834Z"
    },
    "lines_to_next_cell": 2,
    "papermill": {
     "duration": 0.016167,
     "end_time": "2024-05-27T12:08:13.342614",
     "exception": false,
     "start_time": "2024-05-27T12:08:13.326447",
     "status": "completed"
    },
    "tags": [
     "parameters"
    ]
   },
   "outputs": [],
   "source": [
    "folder_data: str = ''  # specify data directory if needed\n",
    "fn_clinical_data = \"data/ALD_study/processed/ald_metadata_cli.csv\"\n",
    "folder_experiment = \"runs/appl_ald_data/plasma/proteinGroups\"\n",
    "model_key = 'VAE'\n",
    "target = 'kleiner'\n",
    "sample_id_col = 'Sample ID'\n",
    "cutoff_target: int = 2  # => for binarization target >= cutoff_target\n",
    "file_format = \"csv\"\n",
    "out_folder = 'diff_analysis'\n",
    "fn_qc_samples = ''  # 'data/ALD_study/processed/qc_plasma_proteinGroups.pkl'\n",
    "\n",
    "baseline = 'RSN'  # default is RSN, as this was used in the original ALD Niu. et. al 2022\n",
    "template_pred = 'pred_real_na_{}.csv'  # fixed, do not change"
   ]
  },
  {
   "cell_type": "code",
   "execution_count": 4,
   "id": "6b0c7edd",
   "metadata": {
    "execution": {
     "iopub.execute_input": "2024-05-27T12:08:13.363187Z",
     "iopub.status.busy": "2024-05-27T12:08:13.362843Z",
     "iopub.status.idle": "2024-05-27T12:08:13.367238Z",
     "shell.execute_reply": "2024-05-27T12:08:13.366491Z"
    },
    "papermill": {
     "duration": 0.018091,
     "end_time": "2024-05-27T12:08:13.370486",
     "exception": false,
     "start_time": "2024-05-27T12:08:13.352395",
     "status": "completed"
    },
    "tags": [
     "injected-parameters"
    ]
   },
   "outputs": [],
   "source": [
    "# Parameters\n",
    "cutoff_target = 0.5\n",
    "folder_experiment = \"runs/alzheimer_study\"\n",
    "target = \"AD\"\n",
    "baseline = \"PI\"\n",
    "model_key = \"RF\"\n",
    "out_folder = \"diff_analysis\"\n",
    "fn_clinical_data = \"runs/alzheimer_study/data/clinical_data.csv\"\n"
   ]
  },
  {
   "cell_type": "code",
   "execution_count": 5,
   "id": "13538b85",
   "metadata": {
    "execution": {
     "iopub.execute_input": "2024-05-27T12:08:13.404157Z",
     "iopub.status.busy": "2024-05-27T12:08:13.403831Z",
     "iopub.status.idle": "2024-05-27T12:08:13.428088Z",
     "shell.execute_reply": "2024-05-27T12:08:13.427257Z"
    },
    "papermill": {
     "duration": 0.03956,
     "end_time": "2024-05-27T12:08:13.431882",
     "exception": false,
     "start_time": "2024-05-27T12:08:13.392322",
     "status": "completed"
    },
    "tags": []
   },
   "outputs": [
    {
     "name": "stderr",
     "output_type": "stream",
     "text": [
      "root - INFO     Removed from global namespace: folder_data\n"
     ]
    },
    {
     "name": "stderr",
     "output_type": "stream",
     "text": [
      "root - INFO     Removed from global namespace: fn_clinical_data\n"
     ]
    },
    {
     "name": "stderr",
     "output_type": "stream",
     "text": [
      "root - INFO     Removed from global namespace: folder_experiment\n"
     ]
    },
    {
     "name": "stderr",
     "output_type": "stream",
     "text": [
      "root - INFO     Removed from global namespace: model_key\n"
     ]
    },
    {
     "name": "stderr",
     "output_type": "stream",
     "text": [
      "root - INFO     Removed from global namespace: target\n"
     ]
    },
    {
     "name": "stderr",
     "output_type": "stream",
     "text": [
      "root - INFO     Removed from global namespace: sample_id_col\n"
     ]
    },
    {
     "name": "stderr",
     "output_type": "stream",
     "text": [
      "root - INFO     Removed from global namespace: cutoff_target\n"
     ]
    },
    {
     "name": "stderr",
     "output_type": "stream",
     "text": [
      "root - INFO     Removed from global namespace: file_format\n"
     ]
    },
    {
     "name": "stderr",
     "output_type": "stream",
     "text": [
      "root - INFO     Removed from global namespace: out_folder\n"
     ]
    },
    {
     "name": "stderr",
     "output_type": "stream",
     "text": [
      "root - INFO     Removed from global namespace: fn_qc_samples\n"
     ]
    },
    {
     "name": "stderr",
     "output_type": "stream",
     "text": [
      "root - INFO     Removed from global namespace: baseline\n"
     ]
    },
    {
     "name": "stderr",
     "output_type": "stream",
     "text": [
      "root - INFO     Removed from global namespace: template_pred\n"
     ]
    },
    {
     "data": {
      "text/plain": [
       "{'folder_data': '',\n",
       " 'fn_clinical_data': 'runs/alzheimer_study/data/clinical_data.csv',\n",
       " 'folder_experiment': 'runs/alzheimer_study',\n",
       " 'model_key': 'RF',\n",
       " 'target': 'AD',\n",
       " 'sample_id_col': 'Sample ID',\n",
       " 'cutoff_target': 0.5,\n",
       " 'file_format': 'csv',\n",
       " 'out_folder': 'diff_analysis',\n",
       " 'fn_qc_samples': '',\n",
       " 'baseline': 'PI',\n",
       " 'template_pred': 'pred_real_na_{}.csv'}"
      ]
     },
     "execution_count": 5,
     "metadata": {},
     "output_type": "execute_result"
    }
   ],
   "source": [
    "params = vaep.nb.get_params(args, globals=globals())\n",
    "params"
   ]
  },
  {
   "cell_type": "code",
   "execution_count": 6,
   "id": "92a4a7c0",
   "metadata": {
    "execution": {
     "iopub.execute_input": "2024-05-27T12:08:13.469654Z",
     "iopub.status.busy": "2024-05-27T12:08:13.468926Z",
     "iopub.status.idle": "2024-05-27T12:08:13.478414Z",
     "shell.execute_reply": "2024-05-27T12:08:13.477680Z"
    },
    "papermill": {
     "duration": 0.03825,
     "end_time": "2024-05-27T12:08:13.480816",
     "exception": false,
     "start_time": "2024-05-27T12:08:13.442566",
     "status": "completed"
    },
    "tags": []
   },
   "outputs": [
    {
     "name": "stderr",
     "output_type": "stream",
     "text": [
      "root - INFO     Already set attribute: folder_experiment has value runs/alzheimer_study\n"
     ]
    },
    {
     "name": "stderr",
     "output_type": "stream",
     "text": [
      "root - INFO     Already set attribute: out_folder has value diff_analysis\n"
     ]
    },
    {
     "data": {
      "text/plain": [
       "{'baseline': 'PI',\n",
       " 'cutoff_target': 0.5,\n",
       " 'data': PosixPath('runs/alzheimer_study/data'),\n",
       " 'file_format': 'csv',\n",
       " 'fn_clinical_data': 'runs/alzheimer_study/data/clinical_data.csv',\n",
       " 'fn_qc_samples': '',\n",
       " 'folder_data': '',\n",
       " 'folder_experiment': PosixPath('runs/alzheimer_study'),\n",
       " 'model_key': 'RF',\n",
       " 'out_figures': PosixPath('runs/alzheimer_study/figures'),\n",
       " 'out_folder': PosixPath('runs/alzheimer_study/diff_analysis/AD/PI_vs_RF'),\n",
       " 'out_metrics': PosixPath('runs/alzheimer_study'),\n",
       " 'out_models': PosixPath('runs/alzheimer_study'),\n",
       " 'out_preds': PosixPath('runs/alzheimer_study/preds'),\n",
       " 'sample_id_col': 'Sample ID',\n",
       " 'target': 'AD',\n",
       " 'template_pred': 'pred_real_na_{}.csv'}"
      ]
     },
     "execution_count": 6,
     "metadata": {},
     "output_type": "execute_result"
    }
   ],
   "source": [
    "args = vaep.nb.Config()\n",
    "args.folder_experiment = Path(params[\"folder_experiment\"])\n",
    "args = vaep.nb.add_default_paths(args,\n",
    "                                 out_root=(args.folder_experiment\n",
    "                                           / params[\"out_folder\"]\n",
    "                                           / params[\"target\"]\n",
    "                                           / f\"{params['baseline']}_vs_{params['model_key']}\"))\n",
    "args.update_from_dict(params)\n",
    "args"
   ]
  },
  {
   "cell_type": "code",
   "execution_count": 7,
   "id": "04ac25ed",
   "metadata": {
    "execution": {
     "iopub.execute_input": "2024-05-27T12:08:13.505572Z",
     "iopub.status.busy": "2024-05-27T12:08:13.504722Z",
     "iopub.status.idle": "2024-05-27T12:08:13.532092Z",
     "shell.execute_reply": "2024-05-27T12:08:13.515254Z"
    },
    "papermill": {
     "duration": 0.080124,
     "end_time": "2024-05-27T12:08:13.572893",
     "exception": false,
     "start_time": "2024-05-27T12:08:13.492769",
     "status": "completed"
    },
    "tags": []
   },
   "outputs": [],
   "source": [
    "files_out = dict()"
   ]
  },
  {
   "cell_type": "markdown",
   "id": "07fb7cc9",
   "metadata": {
    "papermill": {
     "duration": 0.027013,
     "end_time": "2024-05-27T12:08:13.650268",
     "exception": false,
     "start_time": "2024-05-27T12:08:13.623255",
     "status": "completed"
    },
    "tags": []
   },
   "source": [
    "## Load target"
   ]
  },
  {
   "cell_type": "code",
   "execution_count": 8,
   "id": "09ba8ea3",
   "metadata": {
    "execution": {
     "iopub.execute_input": "2024-05-27T12:08:13.746388Z",
     "iopub.status.busy": "2024-05-27T12:08:13.746031Z",
     "iopub.status.idle": "2024-05-27T12:08:13.772015Z",
     "shell.execute_reply": "2024-05-27T12:08:13.771254Z"
    },
    "papermill": {
     "duration": 0.062692,
     "end_time": "2024-05-27T12:08:13.773730",
     "exception": false,
     "start_time": "2024-05-27T12:08:13.711038",
     "status": "completed"
    },
    "tags": []
   },
   "outputs": [
    {
     "data": {
      "text/html": [
       "<div>\n",
       "<style scoped>\n",
       "    .dataframe tbody tr th:only-of-type {\n",
       "        vertical-align: middle;\n",
       "    }\n",
       "\n",
       "    .dataframe tbody tr th {\n",
       "        vertical-align: top;\n",
       "    }\n",
       "\n",
       "    .dataframe thead th {\n",
       "        text-align: right;\n",
       "    }\n",
       "</style>\n",
       "<table border=\"1\" class=\"dataframe\">\n",
       "  <thead>\n",
       "    <tr style=\"text-align: right;\">\n",
       "      <th></th>\n",
       "      <th>AD</th>\n",
       "    </tr>\n",
       "    <tr>\n",
       "      <th>Sample ID</th>\n",
       "      <th></th>\n",
       "    </tr>\n",
       "  </thead>\n",
       "  <tbody>\n",
       "    <tr>\n",
       "      <th>Sample_000</th>\n",
       "      <td>0</td>\n",
       "    </tr>\n",
       "    <tr>\n",
       "      <th>Sample_001</th>\n",
       "      <td>1</td>\n",
       "    </tr>\n",
       "    <tr>\n",
       "      <th>Sample_002</th>\n",
       "      <td>1</td>\n",
       "    </tr>\n",
       "    <tr>\n",
       "      <th>Sample_003</th>\n",
       "      <td>1</td>\n",
       "    </tr>\n",
       "    <tr>\n",
       "      <th>Sample_004</th>\n",
       "      <td>1</td>\n",
       "    </tr>\n",
       "    <tr>\n",
       "      <th>...</th>\n",
       "      <td>...</td>\n",
       "    </tr>\n",
       "    <tr>\n",
       "      <th>Sample_205</th>\n",
       "      <td>1</td>\n",
       "    </tr>\n",
       "    <tr>\n",
       "      <th>Sample_206</th>\n",
       "      <td>0</td>\n",
       "    </tr>\n",
       "    <tr>\n",
       "      <th>Sample_207</th>\n",
       "      <td>0</td>\n",
       "    </tr>\n",
       "    <tr>\n",
       "      <th>Sample_208</th>\n",
       "      <td>0</td>\n",
       "    </tr>\n",
       "    <tr>\n",
       "      <th>Sample_209</th>\n",
       "      <td>0</td>\n",
       "    </tr>\n",
       "  </tbody>\n",
       "</table>\n",
       "<p>210 rows × 1 columns</p>\n",
       "</div>"
      ],
      "text/plain": [
       "            AD\n",
       "Sample ID     \n",
       "Sample_000   0\n",
       "Sample_001   1\n",
       "Sample_002   1\n",
       "Sample_003   1\n",
       "Sample_004   1\n",
       "...         ..\n",
       "Sample_205   1\n",
       "Sample_206   0\n",
       "Sample_207   0\n",
       "Sample_208   0\n",
       "Sample_209   0\n",
       "\n",
       "[210 rows x 1 columns]"
      ]
     },
     "execution_count": 8,
     "metadata": {},
     "output_type": "execute_result"
    }
   ],
   "source": [
    "target = pd.read_csv(args.fn_clinical_data,\n",
    "                     index_col=0,\n",
    "                     usecols=[args.sample_id_col, args.target])\n",
    "target = target.dropna()\n",
    "target"
   ]
  },
  {
   "cell_type": "markdown",
   "id": "02bbf2a2",
   "metadata": {
    "papermill": {
     "duration": 0.02567,
     "end_time": "2024-05-27T12:08:13.826299",
     "exception": false,
     "start_time": "2024-05-27T12:08:13.800629",
     "status": "completed"
    },
    "tags": []
   },
   "source": [
    "### Measured data"
   ]
  },
  {
   "cell_type": "code",
   "execution_count": 9,
   "id": "f4cd6005",
   "metadata": {
    "execution": {
     "iopub.execute_input": "2024-05-27T12:08:13.896455Z",
     "iopub.status.busy": "2024-05-27T12:08:13.896098Z",
     "iopub.status.idle": "2024-05-27T12:08:14.643636Z",
     "shell.execute_reply": "2024-05-27T12:08:14.627263Z"
    },
    "papermill": {
     "duration": 0.761593,
     "end_time": "2024-05-27T12:08:14.645476",
     "exception": false,
     "start_time": "2024-05-27T12:08:13.883883",
     "status": "completed"
    },
    "tags": []
   },
   "outputs": [
    {
     "name": "stderr",
     "output_type": "stream",
     "text": [
      "vaep.io.datasplits - INFO     Loaded 'train_X' from file: runs/alzheimer_study/data/train_X.csv\n"
     ]
    },
    {
     "name": "stderr",
     "output_type": "stream",
     "text": [
      "vaep.io.datasplits - INFO     Loaded 'val_y' from file: runs/alzheimer_study/data/val_y.csv\n"
     ]
    },
    {
     "name": "stderr",
     "output_type": "stream",
     "text": [
      "vaep.io.datasplits - INFO     Loaded 'test_y' from file: runs/alzheimer_study/data/test_y.csv\n"
     ]
    },
    {
     "data": {
      "text/plain": [
       "Sample ID   protein groups \n",
       "Sample_091  Q12841;Q12841-2   17.357\n",
       "Sample_064  Q86UN2            16.463\n",
       "Sample_087  Q13231;Q13231-3   16.836\n",
       "Sample_012  P78509            17.480\n",
       "Sample_150  Q9Y6Y8;Q9Y6Y8-2   20.041\n",
       "Name: intensity, dtype: float64"
      ]
     },
     "execution_count": 9,
     "metadata": {},
     "output_type": "execute_result"
    }
   ],
   "source": [
    "data = vaep.io.datasplits.DataSplits.from_folder(\n",
    "    args.data, file_format=args.file_format)\n",
    "data = pd.concat([data.train_X, data.val_y, data.test_y])\n",
    "data.sample(5)"
   ]
  },
  {
   "cell_type": "markdown",
   "id": "ac6b446e",
   "metadata": {
    "papermill": {
     "duration": 0.011311,
     "end_time": "2024-05-27T12:08:14.680684",
     "exception": false,
     "start_time": "2024-05-27T12:08:14.669373",
     "status": "completed"
    },
    "tags": []
   },
   "source": [
    "Get overlap between independent features and target"
   ]
  },
  {
   "cell_type": "markdown",
   "id": "c79ad218",
   "metadata": {
    "papermill": {
     "duration": 0.061861,
     "end_time": "2024-05-27T12:08:14.773121",
     "exception": false,
     "start_time": "2024-05-27T12:08:14.711260",
     "status": "completed"
    },
    "tags": []
   },
   "source": [
    "### Load ALD data or create"
   ]
  },
  {
   "cell_type": "code",
   "execution_count": 10,
   "id": "3038462c",
   "metadata": {
    "execution": {
     "iopub.execute_input": "2024-05-27T12:08:14.818089Z",
     "iopub.status.busy": "2024-05-27T12:08:14.817744Z",
     "iopub.status.idle": "2024-05-27T12:08:15.088239Z",
     "shell.execute_reply": "2024-05-27T12:08:15.087345Z"
    },
    "papermill": {
     "duration": 0.295373,
     "end_time": "2024-05-27T12:08:15.090220",
     "exception": false,
     "start_time": "2024-05-27T12:08:14.794847",
     "status": "completed"
    },
    "tags": []
   },
   "outputs": [
    {
     "name": "stderr",
     "output_type": "stream",
     "text": [
      "root - INFO     Initally: N samples: 210, M feat: 1421\n"
     ]
    },
    {
     "name": "stderr",
     "output_type": "stream",
     "text": [
      "root - INFO     Dropped features quantified in less than 126 samples.\n"
     ]
    },
    {
     "name": "stderr",
     "output_type": "stream",
     "text": [
      "root - INFO     After feat selection: N samples: 210, M feat: 1213\n"
     ]
    },
    {
     "name": "stderr",
     "output_type": "stream",
     "text": [
      "root - INFO     Min No. of Protein-Groups in single sample: 754\n"
     ]
    },
    {
     "name": "stderr",
     "output_type": "stream",
     "text": [
      "root - INFO     Finally: N samples: 210, M feat: 1213\n"
     ]
    },
    {
     "data": {
      "text/html": [
       "<div>\n",
       "<style scoped>\n",
       "    .dataframe tbody tr th:only-of-type {\n",
       "        vertical-align: middle;\n",
       "    }\n",
       "\n",
       "    .dataframe tbody tr th {\n",
       "        vertical-align: top;\n",
       "    }\n",
       "\n",
       "    .dataframe thead th {\n",
       "        text-align: right;\n",
       "    }\n",
       "</style>\n",
       "<table border=\"1\" class=\"dataframe\">\n",
       "  <thead>\n",
       "    <tr style=\"text-align: right;\">\n",
       "      <th>protein groups</th>\n",
       "      <th>A0A024QZX5;A0A087X1N8;P35237</th>\n",
       "      <th>A0A024R0T9;K7ER74;P02655</th>\n",
       "      <th>A0A024R3W6;A0A024R412;O60462;O60462-2;O60462-3;O60462-4;O60462-5;Q7LBX6;X5D2Q8</th>\n",
       "      <th>A0A024R644;A0A0A0MRU5;A0A1B0GWI2;O75503</th>\n",
       "      <th>A0A075B6H9</th>\n",
       "      <th>A0A075B6I0</th>\n",
       "      <th>A0A075B6I1</th>\n",
       "      <th>A0A075B6I6</th>\n",
       "      <th>A0A075B6I9</th>\n",
       "      <th>A0A075B6J9</th>\n",
       "      <th>...</th>\n",
       "      <th>Q9Y653;Q9Y653-2;Q9Y653-3</th>\n",
       "      <th>Q9Y696</th>\n",
       "      <th>Q9Y6C2</th>\n",
       "      <th>Q9Y6N6</th>\n",
       "      <th>Q9Y6N7;Q9Y6N7-2;Q9Y6N7-4</th>\n",
       "      <th>Q9Y6R7</th>\n",
       "      <th>Q9Y6X5</th>\n",
       "      <th>Q9Y6Y8;Q9Y6Y8-2</th>\n",
       "      <th>Q9Y6Y9</th>\n",
       "      <th>S4R3U6</th>\n",
       "    </tr>\n",
       "    <tr>\n",
       "      <th>Sample ID</th>\n",
       "      <th></th>\n",
       "      <th></th>\n",
       "      <th></th>\n",
       "      <th></th>\n",
       "      <th></th>\n",
       "      <th></th>\n",
       "      <th></th>\n",
       "      <th></th>\n",
       "      <th></th>\n",
       "      <th></th>\n",
       "      <th></th>\n",
       "      <th></th>\n",
       "      <th></th>\n",
       "      <th></th>\n",
       "      <th></th>\n",
       "      <th></th>\n",
       "      <th></th>\n",
       "      <th></th>\n",
       "      <th></th>\n",
       "      <th></th>\n",
       "      <th></th>\n",
       "    </tr>\n",
       "  </thead>\n",
       "  <tbody>\n",
       "    <tr>\n",
       "      <th>Sample_000</th>\n",
       "      <td>15.912</td>\n",
       "      <td>16.852</td>\n",
       "      <td>15.570</td>\n",
       "      <td>16.481</td>\n",
       "      <td>20.246</td>\n",
       "      <td>16.764</td>\n",
       "      <td>17.584</td>\n",
       "      <td>16.988</td>\n",
       "      <td>20.054</td>\n",
       "      <td>NaN</td>\n",
       "      <td>...</td>\n",
       "      <td>16.012</td>\n",
       "      <td>15.178</td>\n",
       "      <td>NaN</td>\n",
       "      <td>15.050</td>\n",
       "      <td>16.842</td>\n",
       "      <td>19.863</td>\n",
       "      <td>NaN</td>\n",
       "      <td>19.563</td>\n",
       "      <td>12.837</td>\n",
       "      <td>12.805</td>\n",
       "    </tr>\n",
       "    <tr>\n",
       "      <th>Sample_001</th>\n",
       "      <td>15.936</td>\n",
       "      <td>16.874</td>\n",
       "      <td>15.519</td>\n",
       "      <td>16.387</td>\n",
       "      <td>19.941</td>\n",
       "      <td>18.786</td>\n",
       "      <td>17.144</td>\n",
       "      <td>NaN</td>\n",
       "      <td>19.067</td>\n",
       "      <td>16.188</td>\n",
       "      <td>...</td>\n",
       "      <td>15.528</td>\n",
       "      <td>15.576</td>\n",
       "      <td>NaN</td>\n",
       "      <td>14.833</td>\n",
       "      <td>16.597</td>\n",
       "      <td>20.299</td>\n",
       "      <td>15.556</td>\n",
       "      <td>19.386</td>\n",
       "      <td>13.970</td>\n",
       "      <td>12.442</td>\n",
       "    </tr>\n",
       "    <tr>\n",
       "      <th>Sample_002</th>\n",
       "      <td>16.111</td>\n",
       "      <td>14.523</td>\n",
       "      <td>15.935</td>\n",
       "      <td>16.416</td>\n",
       "      <td>19.251</td>\n",
       "      <td>16.832</td>\n",
       "      <td>15.671</td>\n",
       "      <td>17.012</td>\n",
       "      <td>18.569</td>\n",
       "      <td>NaN</td>\n",
       "      <td>...</td>\n",
       "      <td>15.229</td>\n",
       "      <td>14.728</td>\n",
       "      <td>13.757</td>\n",
       "      <td>15.118</td>\n",
       "      <td>17.440</td>\n",
       "      <td>19.598</td>\n",
       "      <td>15.735</td>\n",
       "      <td>20.447</td>\n",
       "      <td>12.636</td>\n",
       "      <td>12.505</td>\n",
       "    </tr>\n",
       "    <tr>\n",
       "      <th>Sample_003</th>\n",
       "      <td>16.107</td>\n",
       "      <td>17.032</td>\n",
       "      <td>15.802</td>\n",
       "      <td>16.979</td>\n",
       "      <td>19.628</td>\n",
       "      <td>17.852</td>\n",
       "      <td>18.877</td>\n",
       "      <td>14.182</td>\n",
       "      <td>18.985</td>\n",
       "      <td>13.438</td>\n",
       "      <td>...</td>\n",
       "      <td>15.495</td>\n",
       "      <td>14.590</td>\n",
       "      <td>14.682</td>\n",
       "      <td>15.140</td>\n",
       "      <td>17.356</td>\n",
       "      <td>19.429</td>\n",
       "      <td>NaN</td>\n",
       "      <td>20.216</td>\n",
       "      <td>12.627</td>\n",
       "      <td>12.445</td>\n",
       "    </tr>\n",
       "    <tr>\n",
       "      <th>Sample_004</th>\n",
       "      <td>15.603</td>\n",
       "      <td>15.331</td>\n",
       "      <td>15.375</td>\n",
       "      <td>16.679</td>\n",
       "      <td>20.450</td>\n",
       "      <td>18.682</td>\n",
       "      <td>17.081</td>\n",
       "      <td>14.140</td>\n",
       "      <td>19.686</td>\n",
       "      <td>14.495</td>\n",
       "      <td>...</td>\n",
       "      <td>14.757</td>\n",
       "      <td>15.094</td>\n",
       "      <td>14.048</td>\n",
       "      <td>15.256</td>\n",
       "      <td>17.075</td>\n",
       "      <td>19.582</td>\n",
       "      <td>15.328</td>\n",
       "      <td>19.867</td>\n",
       "      <td>13.145</td>\n",
       "      <td>12.235</td>\n",
       "    </tr>\n",
       "    <tr>\n",
       "      <th>...</th>\n",
       "      <td>...</td>\n",
       "      <td>...</td>\n",
       "      <td>...</td>\n",
       "      <td>...</td>\n",
       "      <td>...</td>\n",
       "      <td>...</td>\n",
       "      <td>...</td>\n",
       "      <td>...</td>\n",
       "      <td>...</td>\n",
       "      <td>...</td>\n",
       "      <td>...</td>\n",
       "      <td>...</td>\n",
       "      <td>...</td>\n",
       "      <td>...</td>\n",
       "      <td>...</td>\n",
       "      <td>...</td>\n",
       "      <td>...</td>\n",
       "      <td>...</td>\n",
       "      <td>...</td>\n",
       "      <td>...</td>\n",
       "      <td>...</td>\n",
       "    </tr>\n",
       "    <tr>\n",
       "      <th>Sample_205</th>\n",
       "      <td>15.682</td>\n",
       "      <td>16.886</td>\n",
       "      <td>14.910</td>\n",
       "      <td>16.482</td>\n",
       "      <td>17.705</td>\n",
       "      <td>17.039</td>\n",
       "      <td>NaN</td>\n",
       "      <td>16.413</td>\n",
       "      <td>19.102</td>\n",
       "      <td>16.064</td>\n",
       "      <td>...</td>\n",
       "      <td>15.235</td>\n",
       "      <td>15.684</td>\n",
       "      <td>14.236</td>\n",
       "      <td>15.415</td>\n",
       "      <td>17.551</td>\n",
       "      <td>17.922</td>\n",
       "      <td>16.340</td>\n",
       "      <td>19.928</td>\n",
       "      <td>12.929</td>\n",
       "      <td>11.802</td>\n",
       "    </tr>\n",
       "    <tr>\n",
       "      <th>Sample_206</th>\n",
       "      <td>15.798</td>\n",
       "      <td>17.554</td>\n",
       "      <td>15.600</td>\n",
       "      <td>15.938</td>\n",
       "      <td>18.154</td>\n",
       "      <td>18.152</td>\n",
       "      <td>16.503</td>\n",
       "      <td>16.860</td>\n",
       "      <td>18.538</td>\n",
       "      <td>15.288</td>\n",
       "      <td>...</td>\n",
       "      <td>15.422</td>\n",
       "      <td>16.106</td>\n",
       "      <td>NaN</td>\n",
       "      <td>15.345</td>\n",
       "      <td>17.084</td>\n",
       "      <td>18.708</td>\n",
       "      <td>14.249</td>\n",
       "      <td>19.433</td>\n",
       "      <td>NaN</td>\n",
       "      <td>NaN</td>\n",
       "    </tr>\n",
       "    <tr>\n",
       "      <th>Sample_207</th>\n",
       "      <td>15.739</td>\n",
       "      <td>16.877</td>\n",
       "      <td>15.469</td>\n",
       "      <td>16.898</td>\n",
       "      <td>18.636</td>\n",
       "      <td>17.950</td>\n",
       "      <td>16.321</td>\n",
       "      <td>16.401</td>\n",
       "      <td>18.849</td>\n",
       "      <td>17.580</td>\n",
       "      <td>...</td>\n",
       "      <td>15.808</td>\n",
       "      <td>16.098</td>\n",
       "      <td>14.403</td>\n",
       "      <td>15.715</td>\n",
       "      <td>16.586</td>\n",
       "      <td>18.725</td>\n",
       "      <td>16.138</td>\n",
       "      <td>19.599</td>\n",
       "      <td>13.637</td>\n",
       "      <td>11.174</td>\n",
       "    </tr>\n",
       "    <tr>\n",
       "      <th>Sample_208</th>\n",
       "      <td>15.477</td>\n",
       "      <td>16.779</td>\n",
       "      <td>14.995</td>\n",
       "      <td>16.132</td>\n",
       "      <td>14.908</td>\n",
       "      <td>17.530</td>\n",
       "      <td>NaN</td>\n",
       "      <td>16.119</td>\n",
       "      <td>18.368</td>\n",
       "      <td>15.202</td>\n",
       "      <td>...</td>\n",
       "      <td>15.157</td>\n",
       "      <td>16.712</td>\n",
       "      <td>NaN</td>\n",
       "      <td>14.640</td>\n",
       "      <td>16.533</td>\n",
       "      <td>19.411</td>\n",
       "      <td>15.807</td>\n",
       "      <td>19.545</td>\n",
       "      <td>13.216</td>\n",
       "      <td>NaN</td>\n",
       "    </tr>\n",
       "    <tr>\n",
       "      <th>Sample_209</th>\n",
       "      <td>15.727</td>\n",
       "      <td>17.261</td>\n",
       "      <td>15.175</td>\n",
       "      <td>16.235</td>\n",
       "      <td>17.893</td>\n",
       "      <td>17.744</td>\n",
       "      <td>16.371</td>\n",
       "      <td>15.780</td>\n",
       "      <td>18.806</td>\n",
       "      <td>16.532</td>\n",
       "      <td>...</td>\n",
       "      <td>15.237</td>\n",
       "      <td>15.652</td>\n",
       "      <td>15.211</td>\n",
       "      <td>14.205</td>\n",
       "      <td>16.749</td>\n",
       "      <td>19.275</td>\n",
       "      <td>15.732</td>\n",
       "      <td>19.577</td>\n",
       "      <td>11.042</td>\n",
       "      <td>11.791</td>\n",
       "    </tr>\n",
       "  </tbody>\n",
       "</table>\n",
       "<p>210 rows × 1213 columns</p>\n",
       "</div>"
      ],
      "text/plain": [
       "protein groups  A0A024QZX5;A0A087X1N8;P35237  A0A024R0T9;K7ER74;P02655  \\\n",
       "Sample ID                                                                \n",
       "Sample_000                            15.912                    16.852   \n",
       "Sample_001                            15.936                    16.874   \n",
       "Sample_002                            16.111                    14.523   \n",
       "Sample_003                            16.107                    17.032   \n",
       "Sample_004                            15.603                    15.331   \n",
       "...                                      ...                       ...   \n",
       "Sample_205                            15.682                    16.886   \n",
       "Sample_206                            15.798                    17.554   \n",
       "Sample_207                            15.739                    16.877   \n",
       "Sample_208                            15.477                    16.779   \n",
       "Sample_209                            15.727                    17.261   \n",
       "\n",
       "protein groups  A0A024R3W6;A0A024R412;O60462;O60462-2;O60462-3;O60462-4;O60462-5;Q7LBX6;X5D2Q8  \\\n",
       "Sample ID                                                                                        \n",
       "Sample_000                                                 15.570                                \n",
       "Sample_001                                                 15.519                                \n",
       "Sample_002                                                 15.935                                \n",
       "Sample_003                                                 15.802                                \n",
       "Sample_004                                                 15.375                                \n",
       "...                                                           ...                                \n",
       "Sample_205                                                 14.910                                \n",
       "Sample_206                                                 15.600                                \n",
       "Sample_207                                                 15.469                                \n",
       "Sample_208                                                 14.995                                \n",
       "Sample_209                                                 15.175                                \n",
       "\n",
       "protein groups  A0A024R644;A0A0A0MRU5;A0A1B0GWI2;O75503  A0A075B6H9  \\\n",
       "Sample ID                                                             \n",
       "Sample_000                                       16.481      20.246   \n",
       "Sample_001                                       16.387      19.941   \n",
       "Sample_002                                       16.416      19.251   \n",
       "Sample_003                                       16.979      19.628   \n",
       "Sample_004                                       16.679      20.450   \n",
       "...                                                 ...         ...   \n",
       "Sample_205                                       16.482      17.705   \n",
       "Sample_206                                       15.938      18.154   \n",
       "Sample_207                                       16.898      18.636   \n",
       "Sample_208                                       16.132      14.908   \n",
       "Sample_209                                       16.235      17.893   \n",
       "\n",
       "protein groups  A0A075B6I0  A0A075B6I1  A0A075B6I6  A0A075B6I9  A0A075B6J9  \\\n",
       "Sample ID                                                                    \n",
       "Sample_000          16.764      17.584      16.988      20.054         NaN   \n",
       "Sample_001          18.786      17.144         NaN      19.067      16.188   \n",
       "Sample_002          16.832      15.671      17.012      18.569         NaN   \n",
       "Sample_003          17.852      18.877      14.182      18.985      13.438   \n",
       "Sample_004          18.682      17.081      14.140      19.686      14.495   \n",
       "...                    ...         ...         ...         ...         ...   \n",
       "Sample_205          17.039         NaN      16.413      19.102      16.064   \n",
       "Sample_206          18.152      16.503      16.860      18.538      15.288   \n",
       "Sample_207          17.950      16.321      16.401      18.849      17.580   \n",
       "Sample_208          17.530         NaN      16.119      18.368      15.202   \n",
       "Sample_209          17.744      16.371      15.780      18.806      16.532   \n",
       "\n",
       "protein groups  ...  Q9Y653;Q9Y653-2;Q9Y653-3  Q9Y696  Q9Y6C2  Q9Y6N6  \\\n",
       "Sample ID       ...                                                     \n",
       "Sample_000      ...                    16.012  15.178     NaN  15.050   \n",
       "Sample_001      ...                    15.528  15.576     NaN  14.833   \n",
       "Sample_002      ...                    15.229  14.728  13.757  15.118   \n",
       "Sample_003      ...                    15.495  14.590  14.682  15.140   \n",
       "Sample_004      ...                    14.757  15.094  14.048  15.256   \n",
       "...             ...                       ...     ...     ...     ...   \n",
       "Sample_205      ...                    15.235  15.684  14.236  15.415   \n",
       "Sample_206      ...                    15.422  16.106     NaN  15.345   \n",
       "Sample_207      ...                    15.808  16.098  14.403  15.715   \n",
       "Sample_208      ...                    15.157  16.712     NaN  14.640   \n",
       "Sample_209      ...                    15.237  15.652  15.211  14.205   \n",
       "\n",
       "protein groups  Q9Y6N7;Q9Y6N7-2;Q9Y6N7-4  Q9Y6R7  Q9Y6X5  Q9Y6Y8;Q9Y6Y8-2  \\\n",
       "Sample ID                                                                   \n",
       "Sample_000                        16.842  19.863     NaN           19.563   \n",
       "Sample_001                        16.597  20.299  15.556           19.386   \n",
       "Sample_002                        17.440  19.598  15.735           20.447   \n",
       "Sample_003                        17.356  19.429     NaN           20.216   \n",
       "Sample_004                        17.075  19.582  15.328           19.867   \n",
       "...                                  ...     ...     ...              ...   \n",
       "Sample_205                        17.551  17.922  16.340           19.928   \n",
       "Sample_206                        17.084  18.708  14.249           19.433   \n",
       "Sample_207                        16.586  18.725  16.138           19.599   \n",
       "Sample_208                        16.533  19.411  15.807           19.545   \n",
       "Sample_209                        16.749  19.275  15.732           19.577   \n",
       "\n",
       "protein groups  Q9Y6Y9  S4R3U6  \n",
       "Sample ID                       \n",
       "Sample_000      12.837  12.805  \n",
       "Sample_001      13.970  12.442  \n",
       "Sample_002      12.636  12.505  \n",
       "Sample_003      12.627  12.445  \n",
       "Sample_004      13.145  12.235  \n",
       "...                ...     ...  \n",
       "Sample_205      12.929  11.802  \n",
       "Sample_206         NaN     NaN  \n",
       "Sample_207      13.637  11.174  \n",
       "Sample_208      13.216     NaN  \n",
       "Sample_209      11.042  11.791  \n",
       "\n",
       "[210 rows x 1213 columns]"
      ]
     },
     "execution_count": 10,
     "metadata": {},
     "output_type": "execute_result"
    }
   ],
   "source": [
    "DATA_COMPLETENESS = 0.6\n",
    "MIN_N_PROTEIN_GROUPS: int = 200\n",
    "FRAC_PROTEIN_GROUPS: int = 0.622\n",
    "CV_QC_SAMPLE: float = 0.4\n",
    "\n",
    "ald_study, cutoffs = vaep.analyzers.diff_analysis.select_raw_data(data.unstack(\n",
    "), data_completeness=DATA_COMPLETENESS, frac_protein_groups=FRAC_PROTEIN_GROUPS)\n",
    "\n",
    "if args.fn_qc_samples:\n",
    "    qc_samples = pd.read_pickle(args.fn_qc_samples)\n",
    "    qc_samples = qc_samples[ald_study.columns]\n",
    "    qc_cv_feat = qc_samples.std() / qc_samples.mean()\n",
    "    qc_cv_feat = qc_cv_feat.rename(qc_samples.columns.name)\n",
    "    fig, ax = plt.subplots(figsize=(4, 7))\n",
    "    ax = qc_cv_feat.plot.box(ax=ax)\n",
    "    ax.set_ylabel('Coefficient of Variation')\n",
    "    print((qc_cv_feat < CV_QC_SAMPLE).value_counts())\n",
    "    ald_study = ald_study[vaep.analyzers.diff_analysis.select_feat(qc_samples)]\n",
    "\n",
    "column_name_first_prot_to_pg = {\n",
    "    pg.split(';')[0]: pg for pg in data.unstack().columns}\n",
    "\n",
    "ald_study = ald_study.rename(columns=column_name_first_prot_to_pg)\n",
    "ald_study"
   ]
  },
  {
   "cell_type": "code",
   "execution_count": 11,
   "id": "3a9e70e6",
   "metadata": {
    "execution": {
     "iopub.execute_input": "2024-05-27T12:08:15.152696Z",
     "iopub.status.busy": "2024-05-27T12:08:15.152288Z",
     "iopub.status.idle": "2024-05-27T12:08:15.336209Z",
     "shell.execute_reply": "2024-05-27T12:08:15.335311Z"
    },
    "papermill": {
     "duration": 0.214443,
     "end_time": "2024-05-27T12:08:15.338239",
     "exception": false,
     "start_time": "2024-05-27T12:08:15.123796",
     "status": "completed"
    },
    "tags": []
   },
   "outputs": [
    {
     "name": "stdout",
     "output_type": "stream",
     "text": [
      "Samples available both in proteomics data and for target: 210\n"
     ]
    }
   ],
   "source": [
    "mask_has_target = data.index.levels[0].intersection(target.index)\n",
    "assert not mask_has_target.empty, f\"No data for target: {data.index.levels[0]} and {target.index}\"\n",
    "print(\n",
    "    f\"Samples available both in proteomics data and for target: {len(mask_has_target)}\")\n",
    "target, data, ald_study = target.loc[mask_has_target], data.loc[mask_has_target], ald_study.loc[mask_has_target]"
   ]
  },
  {
   "cell_type": "markdown",
   "id": "fcc05bf5",
   "metadata": {
    "papermill": {
     "duration": 0.013496,
     "end_time": "2024-05-27T12:08:15.380787",
     "exception": false,
     "start_time": "2024-05-27T12:08:15.367291",
     "status": "completed"
    },
    "tags": []
   },
   "source": [
    "### Load semi-supervised model imputations"
   ]
  },
  {
   "cell_type": "code",
   "execution_count": 12,
   "id": "5f072d5f",
   "metadata": {
    "execution": {
     "iopub.execute_input": "2024-05-27T12:08:15.441013Z",
     "iopub.status.busy": "2024-05-27T12:08:15.440565Z",
     "iopub.status.idle": "2024-05-27T12:08:15.583394Z",
     "shell.execute_reply": "2024-05-27T12:08:15.582587Z"
    },
    "papermill": {
     "duration": 0.168161,
     "end_time": "2024-05-27T12:08:15.585392",
     "exception": false,
     "start_time": "2024-05-27T12:08:15.417231",
     "status": "completed"
    },
    "tags": []
   },
   "outputs": [
    {
     "name": "stdout",
     "output_type": "stream",
     "text": [
      "missing values pred. by RF: runs/alzheimer_study/preds/pred_real_na_RF.csv\n"
     ]
    },
    {
     "data": {
      "text/plain": [
       "Sample ID   protein groups \n",
       "Sample_064  Q16581            16.038\n",
       "Sample_008  P11597;P11597-2   16.094\n",
       "Sample_109  Q2UY09            14.133\n",
       "Name: intensity, dtype: float64"
      ]
     },
     "execution_count": 12,
     "metadata": {},
     "output_type": "execute_result"
    }
   ],
   "source": [
    "fname = args.out_preds / args.template_pred.format(args.model_key)\n",
    "print(f\"missing values pred. by {args.model_key}: {fname}\")\n",
    "load_single_csv_pred_file = vaep.analyzers.compare_predictions.load_single_csv_pred_file\n",
    "pred_real_na = load_single_csv_pred_file(fname).loc[mask_has_target]\n",
    "pred_real_na.sample(3)"
   ]
  },
  {
   "cell_type": "code",
   "execution_count": 13,
   "id": "0f2dd584",
   "metadata": {
    "execution": {
     "iopub.execute_input": "2024-05-27T12:08:15.627142Z",
     "iopub.status.busy": "2024-05-27T12:08:15.626796Z",
     "iopub.status.idle": "2024-05-27T12:08:15.680168Z",
     "shell.execute_reply": "2024-05-27T12:08:15.679270Z"
    },
    "papermill": {
     "duration": 0.070249,
     "end_time": "2024-05-27T12:08:15.682238",
     "exception": false,
     "start_time": "2024-05-27T12:08:15.611989",
     "status": "completed"
    },
    "tags": []
   },
   "outputs": [
    {
     "data": {
      "text/plain": [
       "Sample ID   protein groups          \n",
       "Sample_000  A0A075B6J9                 13.367\n",
       "            A0A075B6Q5                 12.104\n",
       "            A0A075B6R2                 12.507\n",
       "            A0A075B6S5                 13.626\n",
       "            A0A087WSY4                 13.471\n",
       "                                        ...  \n",
       "Sample_209  Q9P1W8;Q9P1W8-2;Q9P1W8-4   12.640\n",
       "            Q9UI40;Q9UI40-2            12.844\n",
       "            Q9UIW2                     12.084\n",
       "            Q9UMX0;Q9UMX0-2;Q9UMX0-4   12.727\n",
       "            Q9UP79                     13.120\n",
       "Name: intensity, Length: 46401, dtype: float64"
      ]
     },
     "execution_count": 13,
     "metadata": {},
     "output_type": "execute_result"
    }
   ],
   "source": [
    "fname = args.out_preds / args.template_pred.format(args.baseline)\n",
    "pred_real_na_baseline = load_single_csv_pred_file(fname)  # .loc[mask_has_target]\n",
    "pred_real_na_baseline"
   ]
  },
  {
   "cell_type": "markdown",
   "id": "8fa21c8b",
   "metadata": {
    "papermill": {
     "duration": 0.021561,
     "end_time": "2024-05-27T12:08:15.729342",
     "exception": false,
     "start_time": "2024-05-27T12:08:15.707781",
     "status": "completed"
    },
    "tags": []
   },
   "source": [
    "# Model predictions\n",
    "General approach:\n",
    "  - use one train, test split of the data\n",
    "  - select best 10 features from training data `X_train`, `y_train` before binarization of target\n",
    "  - dichotomize (binarize) data into to groups (zero and 1)\n",
    "  - evaluate model on the test data `X_test`, `y_test`\n",
    "\n",
    "Repeat general approach for\n",
    " 1. all original ald data: all features justed in original ALD study\n",
    " 2. all model data: all features available my using the self supervised deep learning model\n",
    "3. newly available feat only: the subset of features available from the\n",
    "self supervised deep learning model which were newly retained using the\n",
    "new approach"
   ]
  },
  {
   "cell_type": "code",
   "execution_count": 14,
   "id": "f457863e",
   "metadata": {
    "execution": {
     "iopub.execute_input": "2024-05-27T12:08:15.821475Z",
     "iopub.status.busy": "2024-05-27T12:08:15.821122Z",
     "iopub.status.idle": "2024-05-27T12:08:16.072200Z",
     "shell.execute_reply": "2024-05-27T12:08:16.071265Z"
    },
    "papermill": {
     "duration": 0.289683,
     "end_time": "2024-05-27T12:08:16.074245",
     "exception": false,
     "start_time": "2024-05-27T12:08:15.784562",
     "status": "completed"
    },
    "tags": []
   },
   "outputs": [
    {
     "data": {
      "text/html": [
       "<div>\n",
       "<style scoped>\n",
       "    .dataframe tbody tr th:only-of-type {\n",
       "        vertical-align: middle;\n",
       "    }\n",
       "\n",
       "    .dataframe tbody tr th {\n",
       "        vertical-align: top;\n",
       "    }\n",
       "\n",
       "    .dataframe thead th {\n",
       "        text-align: right;\n",
       "    }\n",
       "</style>\n",
       "<table border=\"1\" class=\"dataframe\">\n",
       "  <thead>\n",
       "    <tr style=\"text-align: right;\">\n",
       "      <th>protein groups</th>\n",
       "      <th>A0A024QZX5;A0A087X1N8;P35237</th>\n",
       "      <th>A0A024R0T9;K7ER74;P02655</th>\n",
       "      <th>A0A024R3W6;A0A024R412;O60462;O60462-2;O60462-3;O60462-4;O60462-5;Q7LBX6;X5D2Q8</th>\n",
       "      <th>A0A024R644;A0A0A0MRU5;A0A1B0GWI2;O75503</th>\n",
       "      <th>A0A075B6H7</th>\n",
       "      <th>A0A075B6H9</th>\n",
       "      <th>A0A075B6I0</th>\n",
       "      <th>A0A075B6I1</th>\n",
       "      <th>A0A075B6I6</th>\n",
       "      <th>A0A075B6I9</th>\n",
       "      <th>...</th>\n",
       "      <th>Q9Y653;Q9Y653-2;Q9Y653-3</th>\n",
       "      <th>Q9Y696</th>\n",
       "      <th>Q9Y6C2</th>\n",
       "      <th>Q9Y6N6</th>\n",
       "      <th>Q9Y6N7;Q9Y6N7-2;Q9Y6N7-4</th>\n",
       "      <th>Q9Y6R7</th>\n",
       "      <th>Q9Y6X5</th>\n",
       "      <th>Q9Y6Y8;Q9Y6Y8-2</th>\n",
       "      <th>Q9Y6Y9</th>\n",
       "      <th>S4R3U6</th>\n",
       "    </tr>\n",
       "    <tr>\n",
       "      <th>Sample ID</th>\n",
       "      <th></th>\n",
       "      <th></th>\n",
       "      <th></th>\n",
       "      <th></th>\n",
       "      <th></th>\n",
       "      <th></th>\n",
       "      <th></th>\n",
       "      <th></th>\n",
       "      <th></th>\n",
       "      <th></th>\n",
       "      <th></th>\n",
       "      <th></th>\n",
       "      <th></th>\n",
       "      <th></th>\n",
       "      <th></th>\n",
       "      <th></th>\n",
       "      <th></th>\n",
       "      <th></th>\n",
       "      <th></th>\n",
       "      <th></th>\n",
       "      <th></th>\n",
       "    </tr>\n",
       "  </thead>\n",
       "  <tbody>\n",
       "    <tr>\n",
       "      <th>Sample_000</th>\n",
       "      <td>15.912</td>\n",
       "      <td>16.852</td>\n",
       "      <td>15.570</td>\n",
       "      <td>16.481</td>\n",
       "      <td>17.301</td>\n",
       "      <td>20.246</td>\n",
       "      <td>16.764</td>\n",
       "      <td>17.584</td>\n",
       "      <td>16.988</td>\n",
       "      <td>20.054</td>\n",
       "      <td>...</td>\n",
       "      <td>16.012</td>\n",
       "      <td>15.178</td>\n",
       "      <td>13.844</td>\n",
       "      <td>15.050</td>\n",
       "      <td>16.842</td>\n",
       "      <td>19.863</td>\n",
       "      <td>15.665</td>\n",
       "      <td>19.563</td>\n",
       "      <td>12.837</td>\n",
       "      <td>12.805</td>\n",
       "    </tr>\n",
       "    <tr>\n",
       "      <th>Sample_001</th>\n",
       "      <td>15.936</td>\n",
       "      <td>16.874</td>\n",
       "      <td>15.519</td>\n",
       "      <td>16.387</td>\n",
       "      <td>13.796</td>\n",
       "      <td>19.941</td>\n",
       "      <td>18.786</td>\n",
       "      <td>17.144</td>\n",
       "      <td>16.440</td>\n",
       "      <td>19.067</td>\n",
       "      <td>...</td>\n",
       "      <td>15.528</td>\n",
       "      <td>15.576</td>\n",
       "      <td>14.148</td>\n",
       "      <td>14.833</td>\n",
       "      <td>16.597</td>\n",
       "      <td>20.299</td>\n",
       "      <td>15.556</td>\n",
       "      <td>19.386</td>\n",
       "      <td>13.970</td>\n",
       "      <td>12.442</td>\n",
       "    </tr>\n",
       "    <tr>\n",
       "      <th>Sample_002</th>\n",
       "      <td>16.111</td>\n",
       "      <td>14.523</td>\n",
       "      <td>15.935</td>\n",
       "      <td>16.416</td>\n",
       "      <td>18.175</td>\n",
       "      <td>19.251</td>\n",
       "      <td>16.832</td>\n",
       "      <td>15.671</td>\n",
       "      <td>17.012</td>\n",
       "      <td>18.569</td>\n",
       "      <td>...</td>\n",
       "      <td>15.229</td>\n",
       "      <td>14.728</td>\n",
       "      <td>13.757</td>\n",
       "      <td>15.118</td>\n",
       "      <td>17.440</td>\n",
       "      <td>19.598</td>\n",
       "      <td>15.735</td>\n",
       "      <td>20.447</td>\n",
       "      <td>12.636</td>\n",
       "      <td>12.505</td>\n",
       "    </tr>\n",
       "    <tr>\n",
       "      <th>Sample_003</th>\n",
       "      <td>16.107</td>\n",
       "      <td>17.032</td>\n",
       "      <td>15.802</td>\n",
       "      <td>16.979</td>\n",
       "      <td>15.963</td>\n",
       "      <td>19.628</td>\n",
       "      <td>17.852</td>\n",
       "      <td>18.877</td>\n",
       "      <td>14.182</td>\n",
       "      <td>18.985</td>\n",
       "      <td>...</td>\n",
       "      <td>15.495</td>\n",
       "      <td>14.590</td>\n",
       "      <td>14.682</td>\n",
       "      <td>15.140</td>\n",
       "      <td>17.356</td>\n",
       "      <td>19.429</td>\n",
       "      <td>15.718</td>\n",
       "      <td>20.216</td>\n",
       "      <td>12.627</td>\n",
       "      <td>12.445</td>\n",
       "    </tr>\n",
       "    <tr>\n",
       "      <th>Sample_004</th>\n",
       "      <td>15.603</td>\n",
       "      <td>15.331</td>\n",
       "      <td>15.375</td>\n",
       "      <td>16.679</td>\n",
       "      <td>15.473</td>\n",
       "      <td>20.450</td>\n",
       "      <td>18.682</td>\n",
       "      <td>17.081</td>\n",
       "      <td>14.140</td>\n",
       "      <td>19.686</td>\n",
       "      <td>...</td>\n",
       "      <td>14.757</td>\n",
       "      <td>15.094</td>\n",
       "      <td>14.048</td>\n",
       "      <td>15.256</td>\n",
       "      <td>17.075</td>\n",
       "      <td>19.582</td>\n",
       "      <td>15.328</td>\n",
       "      <td>19.867</td>\n",
       "      <td>13.145</td>\n",
       "      <td>12.235</td>\n",
       "    </tr>\n",
       "    <tr>\n",
       "      <th>...</th>\n",
       "      <td>...</td>\n",
       "      <td>...</td>\n",
       "      <td>...</td>\n",
       "      <td>...</td>\n",
       "      <td>...</td>\n",
       "      <td>...</td>\n",
       "      <td>...</td>\n",
       "      <td>...</td>\n",
       "      <td>...</td>\n",
       "      <td>...</td>\n",
       "      <td>...</td>\n",
       "      <td>...</td>\n",
       "      <td>...</td>\n",
       "      <td>...</td>\n",
       "      <td>...</td>\n",
       "      <td>...</td>\n",
       "      <td>...</td>\n",
       "      <td>...</td>\n",
       "      <td>...</td>\n",
       "      <td>...</td>\n",
       "      <td>...</td>\n",
       "    </tr>\n",
       "    <tr>\n",
       "      <th>Sample_205</th>\n",
       "      <td>15.682</td>\n",
       "      <td>16.886</td>\n",
       "      <td>14.910</td>\n",
       "      <td>16.482</td>\n",
       "      <td>15.658</td>\n",
       "      <td>17.705</td>\n",
       "      <td>17.039</td>\n",
       "      <td>15.953</td>\n",
       "      <td>16.413</td>\n",
       "      <td>19.102</td>\n",
       "      <td>...</td>\n",
       "      <td>15.235</td>\n",
       "      <td>15.684</td>\n",
       "      <td>14.236</td>\n",
       "      <td>15.415</td>\n",
       "      <td>17.551</td>\n",
       "      <td>17.922</td>\n",
       "      <td>16.340</td>\n",
       "      <td>19.928</td>\n",
       "      <td>12.929</td>\n",
       "      <td>11.802</td>\n",
       "    </tr>\n",
       "    <tr>\n",
       "      <th>Sample_206</th>\n",
       "      <td>15.798</td>\n",
       "      <td>17.554</td>\n",
       "      <td>15.600</td>\n",
       "      <td>15.938</td>\n",
       "      <td>15.436</td>\n",
       "      <td>18.154</td>\n",
       "      <td>18.152</td>\n",
       "      <td>16.503</td>\n",
       "      <td>16.860</td>\n",
       "      <td>18.538</td>\n",
       "      <td>...</td>\n",
       "      <td>15.422</td>\n",
       "      <td>16.106</td>\n",
       "      <td>14.414</td>\n",
       "      <td>15.345</td>\n",
       "      <td>17.084</td>\n",
       "      <td>18.708</td>\n",
       "      <td>14.249</td>\n",
       "      <td>19.433</td>\n",
       "      <td>11.943</td>\n",
       "      <td>10.986</td>\n",
       "    </tr>\n",
       "    <tr>\n",
       "      <th>Sample_207</th>\n",
       "      <td>15.739</td>\n",
       "      <td>16.877</td>\n",
       "      <td>15.469</td>\n",
       "      <td>16.898</td>\n",
       "      <td>15.227</td>\n",
       "      <td>18.636</td>\n",
       "      <td>17.950</td>\n",
       "      <td>16.321</td>\n",
       "      <td>16.401</td>\n",
       "      <td>18.849</td>\n",
       "      <td>...</td>\n",
       "      <td>15.808</td>\n",
       "      <td>16.098</td>\n",
       "      <td>14.403</td>\n",
       "      <td>15.715</td>\n",
       "      <td>16.586</td>\n",
       "      <td>18.725</td>\n",
       "      <td>16.138</td>\n",
       "      <td>19.599</td>\n",
       "      <td>13.637</td>\n",
       "      <td>11.174</td>\n",
       "    </tr>\n",
       "    <tr>\n",
       "      <th>Sample_208</th>\n",
       "      <td>15.477</td>\n",
       "      <td>16.779</td>\n",
       "      <td>14.995</td>\n",
       "      <td>16.132</td>\n",
       "      <td>15.730</td>\n",
       "      <td>14.908</td>\n",
       "      <td>17.530</td>\n",
       "      <td>16.539</td>\n",
       "      <td>16.119</td>\n",
       "      <td>18.368</td>\n",
       "      <td>...</td>\n",
       "      <td>15.157</td>\n",
       "      <td>16.712</td>\n",
       "      <td>14.250</td>\n",
       "      <td>14.640</td>\n",
       "      <td>16.533</td>\n",
       "      <td>19.411</td>\n",
       "      <td>15.807</td>\n",
       "      <td>19.545</td>\n",
       "      <td>13.216</td>\n",
       "      <td>11.372</td>\n",
       "    </tr>\n",
       "    <tr>\n",
       "      <th>Sample_209</th>\n",
       "      <td>15.727</td>\n",
       "      <td>17.261</td>\n",
       "      <td>15.175</td>\n",
       "      <td>16.235</td>\n",
       "      <td>15.594</td>\n",
       "      <td>17.893</td>\n",
       "      <td>17.744</td>\n",
       "      <td>16.371</td>\n",
       "      <td>15.780</td>\n",
       "      <td>18.806</td>\n",
       "      <td>...</td>\n",
       "      <td>15.237</td>\n",
       "      <td>15.652</td>\n",
       "      <td>15.211</td>\n",
       "      <td>14.205</td>\n",
       "      <td>16.749</td>\n",
       "      <td>19.275</td>\n",
       "      <td>15.732</td>\n",
       "      <td>19.577</td>\n",
       "      <td>11.042</td>\n",
       "      <td>11.791</td>\n",
       "    </tr>\n",
       "  </tbody>\n",
       "</table>\n",
       "<p>210 rows × 1421 columns</p>\n",
       "</div>"
      ],
      "text/plain": [
       "protein groups  A0A024QZX5;A0A087X1N8;P35237  A0A024R0T9;K7ER74;P02655  \\\n",
       "Sample ID                                                                \n",
       "Sample_000                            15.912                    16.852   \n",
       "Sample_001                            15.936                    16.874   \n",
       "Sample_002                            16.111                    14.523   \n",
       "Sample_003                            16.107                    17.032   \n",
       "Sample_004                            15.603                    15.331   \n",
       "...                                      ...                       ...   \n",
       "Sample_205                            15.682                    16.886   \n",
       "Sample_206                            15.798                    17.554   \n",
       "Sample_207                            15.739                    16.877   \n",
       "Sample_208                            15.477                    16.779   \n",
       "Sample_209                            15.727                    17.261   \n",
       "\n",
       "protein groups  A0A024R3W6;A0A024R412;O60462;O60462-2;O60462-3;O60462-4;O60462-5;Q7LBX6;X5D2Q8  \\\n",
       "Sample ID                                                                                        \n",
       "Sample_000                                                 15.570                                \n",
       "Sample_001                                                 15.519                                \n",
       "Sample_002                                                 15.935                                \n",
       "Sample_003                                                 15.802                                \n",
       "Sample_004                                                 15.375                                \n",
       "...                                                           ...                                \n",
       "Sample_205                                                 14.910                                \n",
       "Sample_206                                                 15.600                                \n",
       "Sample_207                                                 15.469                                \n",
       "Sample_208                                                 14.995                                \n",
       "Sample_209                                                 15.175                                \n",
       "\n",
       "protein groups  A0A024R644;A0A0A0MRU5;A0A1B0GWI2;O75503  A0A075B6H7  \\\n",
       "Sample ID                                                             \n",
       "Sample_000                                       16.481      17.301   \n",
       "Sample_001                                       16.387      13.796   \n",
       "Sample_002                                       16.416      18.175   \n",
       "Sample_003                                       16.979      15.963   \n",
       "Sample_004                                       16.679      15.473   \n",
       "...                                                 ...         ...   \n",
       "Sample_205                                       16.482      15.658   \n",
       "Sample_206                                       15.938      15.436   \n",
       "Sample_207                                       16.898      15.227   \n",
       "Sample_208                                       16.132      15.730   \n",
       "Sample_209                                       16.235      15.594   \n",
       "\n",
       "protein groups  A0A075B6H9  A0A075B6I0  A0A075B6I1  A0A075B6I6  A0A075B6I9  \\\n",
       "Sample ID                                                                    \n",
       "Sample_000          20.246      16.764      17.584      16.988      20.054   \n",
       "Sample_001          19.941      18.786      17.144      16.440      19.067   \n",
       "Sample_002          19.251      16.832      15.671      17.012      18.569   \n",
       "Sample_003          19.628      17.852      18.877      14.182      18.985   \n",
       "Sample_004          20.450      18.682      17.081      14.140      19.686   \n",
       "...                    ...         ...         ...         ...         ...   \n",
       "Sample_205          17.705      17.039      15.953      16.413      19.102   \n",
       "Sample_206          18.154      18.152      16.503      16.860      18.538   \n",
       "Sample_207          18.636      17.950      16.321      16.401      18.849   \n",
       "Sample_208          14.908      17.530      16.539      16.119      18.368   \n",
       "Sample_209          17.893      17.744      16.371      15.780      18.806   \n",
       "\n",
       "protein groups  ...  Q9Y653;Q9Y653-2;Q9Y653-3  Q9Y696  Q9Y6C2  Q9Y6N6  \\\n",
       "Sample ID       ...                                                     \n",
       "Sample_000      ...                    16.012  15.178  13.844  15.050   \n",
       "Sample_001      ...                    15.528  15.576  14.148  14.833   \n",
       "Sample_002      ...                    15.229  14.728  13.757  15.118   \n",
       "Sample_003      ...                    15.495  14.590  14.682  15.140   \n",
       "Sample_004      ...                    14.757  15.094  14.048  15.256   \n",
       "...             ...                       ...     ...     ...     ...   \n",
       "Sample_205      ...                    15.235  15.684  14.236  15.415   \n",
       "Sample_206      ...                    15.422  16.106  14.414  15.345   \n",
       "Sample_207      ...                    15.808  16.098  14.403  15.715   \n",
       "Sample_208      ...                    15.157  16.712  14.250  14.640   \n",
       "Sample_209      ...                    15.237  15.652  15.211  14.205   \n",
       "\n",
       "protein groups  Q9Y6N7;Q9Y6N7-2;Q9Y6N7-4  Q9Y6R7  Q9Y6X5  Q9Y6Y8;Q9Y6Y8-2  \\\n",
       "Sample ID                                                                   \n",
       "Sample_000                        16.842  19.863  15.665           19.563   \n",
       "Sample_001                        16.597  20.299  15.556           19.386   \n",
       "Sample_002                        17.440  19.598  15.735           20.447   \n",
       "Sample_003                        17.356  19.429  15.718           20.216   \n",
       "Sample_004                        17.075  19.582  15.328           19.867   \n",
       "...                                  ...     ...     ...              ...   \n",
       "Sample_205                        17.551  17.922  16.340           19.928   \n",
       "Sample_206                        17.084  18.708  14.249           19.433   \n",
       "Sample_207                        16.586  18.725  16.138           19.599   \n",
       "Sample_208                        16.533  19.411  15.807           19.545   \n",
       "Sample_209                        16.749  19.275  15.732           19.577   \n",
       "\n",
       "protein groups  Q9Y6Y9  S4R3U6  \n",
       "Sample ID                       \n",
       "Sample_000      12.837  12.805  \n",
       "Sample_001      13.970  12.442  \n",
       "Sample_002      12.636  12.505  \n",
       "Sample_003      12.627  12.445  \n",
       "Sample_004      13.145  12.235  \n",
       "...                ...     ...  \n",
       "Sample_205      12.929  11.802  \n",
       "Sample_206      11.943  10.986  \n",
       "Sample_207      13.637  11.174  \n",
       "Sample_208      13.216  11.372  \n",
       "Sample_209      11.042  11.791  \n",
       "\n",
       "[210 rows x 1421 columns]"
      ]
     },
     "execution_count": 14,
     "metadata": {},
     "output_type": "execute_result"
    }
   ],
   "source": [
    "X = pd.concat([data, pred_real_na]).unstack()\n",
    "X"
   ]
  },
  {
   "cell_type": "code",
   "execution_count": 15,
   "id": "a387dd6f",
   "metadata": {
    "execution": {
     "iopub.execute_input": "2024-05-27T12:08:16.104433Z",
     "iopub.status.busy": "2024-05-27T12:08:16.104077Z",
     "iopub.status.idle": "2024-05-27T12:08:16.280380Z",
     "shell.execute_reply": "2024-05-27T12:08:16.279594Z"
    },
    "papermill": {
     "duration": 0.193703,
     "end_time": "2024-05-27T12:08:16.282571",
     "exception": false,
     "start_time": "2024-05-27T12:08:16.088868",
     "status": "completed"
    },
    "tags": []
   },
   "outputs": [
    {
     "data": {
      "text/html": [
       "<div>\n",
       "<style scoped>\n",
       "    .dataframe tbody tr th:only-of-type {\n",
       "        vertical-align: middle;\n",
       "    }\n",
       "\n",
       "    .dataframe tbody tr th {\n",
       "        vertical-align: top;\n",
       "    }\n",
       "\n",
       "    .dataframe thead th {\n",
       "        text-align: right;\n",
       "    }\n",
       "</style>\n",
       "<table border=\"1\" class=\"dataframe\">\n",
       "  <thead>\n",
       "    <tr style=\"text-align: right;\">\n",
       "      <th>protein groups</th>\n",
       "      <th>A0A024QZX5;A0A087X1N8;P35237</th>\n",
       "      <th>A0A024R0T9;K7ER74;P02655</th>\n",
       "      <th>A0A024R3W6;A0A024R412;O60462;O60462-2;O60462-3;O60462-4;O60462-5;Q7LBX6;X5D2Q8</th>\n",
       "      <th>A0A024R644;A0A0A0MRU5;A0A1B0GWI2;O75503</th>\n",
       "      <th>A0A075B6H9</th>\n",
       "      <th>A0A075B6I0</th>\n",
       "      <th>A0A075B6I1</th>\n",
       "      <th>A0A075B6I6</th>\n",
       "      <th>A0A075B6I9</th>\n",
       "      <th>A0A075B6J9</th>\n",
       "      <th>...</th>\n",
       "      <th>Q9Y653;Q9Y653-2;Q9Y653-3</th>\n",
       "      <th>Q9Y696</th>\n",
       "      <th>Q9Y6C2</th>\n",
       "      <th>Q9Y6N6</th>\n",
       "      <th>Q9Y6N7;Q9Y6N7-2;Q9Y6N7-4</th>\n",
       "      <th>Q9Y6R7</th>\n",
       "      <th>Q9Y6X5</th>\n",
       "      <th>Q9Y6Y8;Q9Y6Y8-2</th>\n",
       "      <th>Q9Y6Y9</th>\n",
       "      <th>S4R3U6</th>\n",
       "    </tr>\n",
       "    <tr>\n",
       "      <th>Sample ID</th>\n",
       "      <th></th>\n",
       "      <th></th>\n",
       "      <th></th>\n",
       "      <th></th>\n",
       "      <th></th>\n",
       "      <th></th>\n",
       "      <th></th>\n",
       "      <th></th>\n",
       "      <th></th>\n",
       "      <th></th>\n",
       "      <th></th>\n",
       "      <th></th>\n",
       "      <th></th>\n",
       "      <th></th>\n",
       "      <th></th>\n",
       "      <th></th>\n",
       "      <th></th>\n",
       "      <th></th>\n",
       "      <th></th>\n",
       "      <th></th>\n",
       "      <th></th>\n",
       "    </tr>\n",
       "  </thead>\n",
       "  <tbody>\n",
       "    <tr>\n",
       "      <th>Sample_000</th>\n",
       "      <td>15.912</td>\n",
       "      <td>16.852</td>\n",
       "      <td>15.570</td>\n",
       "      <td>16.481</td>\n",
       "      <td>20.246</td>\n",
       "      <td>16.764</td>\n",
       "      <td>17.584</td>\n",
       "      <td>16.988</td>\n",
       "      <td>20.054</td>\n",
       "      <td>13.367</td>\n",
       "      <td>...</td>\n",
       "      <td>16.012</td>\n",
       "      <td>15.178</td>\n",
       "      <td>13.103</td>\n",
       "      <td>15.050</td>\n",
       "      <td>16.842</td>\n",
       "      <td>19.863</td>\n",
       "      <td>12.911</td>\n",
       "      <td>19.563</td>\n",
       "      <td>12.837</td>\n",
       "      <td>12.805</td>\n",
       "    </tr>\n",
       "    <tr>\n",
       "      <th>Sample_001</th>\n",
       "      <td>15.936</td>\n",
       "      <td>16.874</td>\n",
       "      <td>15.519</td>\n",
       "      <td>16.387</td>\n",
       "      <td>19.941</td>\n",
       "      <td>18.786</td>\n",
       "      <td>17.144</td>\n",
       "      <td>12.362</td>\n",
       "      <td>19.067</td>\n",
       "      <td>16.188</td>\n",
       "      <td>...</td>\n",
       "      <td>15.528</td>\n",
       "      <td>15.576</td>\n",
       "      <td>12.908</td>\n",
       "      <td>14.833</td>\n",
       "      <td>16.597</td>\n",
       "      <td>20.299</td>\n",
       "      <td>15.556</td>\n",
       "      <td>19.386</td>\n",
       "      <td>13.970</td>\n",
       "      <td>12.442</td>\n",
       "    </tr>\n",
       "    <tr>\n",
       "      <th>Sample_002</th>\n",
       "      <td>16.111</td>\n",
       "      <td>14.523</td>\n",
       "      <td>15.935</td>\n",
       "      <td>16.416</td>\n",
       "      <td>19.251</td>\n",
       "      <td>16.832</td>\n",
       "      <td>15.671</td>\n",
       "      <td>17.012</td>\n",
       "      <td>18.569</td>\n",
       "      <td>14.032</td>\n",
       "      <td>...</td>\n",
       "      <td>15.229</td>\n",
       "      <td>14.728</td>\n",
       "      <td>13.757</td>\n",
       "      <td>15.118</td>\n",
       "      <td>17.440</td>\n",
       "      <td>19.598</td>\n",
       "      <td>15.735</td>\n",
       "      <td>20.447</td>\n",
       "      <td>12.636</td>\n",
       "      <td>12.505</td>\n",
       "    </tr>\n",
       "    <tr>\n",
       "      <th>Sample_003</th>\n",
       "      <td>16.107</td>\n",
       "      <td>17.032</td>\n",
       "      <td>15.802</td>\n",
       "      <td>16.979</td>\n",
       "      <td>19.628</td>\n",
       "      <td>17.852</td>\n",
       "      <td>18.877</td>\n",
       "      <td>14.182</td>\n",
       "      <td>18.985</td>\n",
       "      <td>13.438</td>\n",
       "      <td>...</td>\n",
       "      <td>15.495</td>\n",
       "      <td>14.590</td>\n",
       "      <td>14.682</td>\n",
       "      <td>15.140</td>\n",
       "      <td>17.356</td>\n",
       "      <td>19.429</td>\n",
       "      <td>12.549</td>\n",
       "      <td>20.216</td>\n",
       "      <td>12.627</td>\n",
       "      <td>12.445</td>\n",
       "    </tr>\n",
       "    <tr>\n",
       "      <th>Sample_004</th>\n",
       "      <td>15.603</td>\n",
       "      <td>15.331</td>\n",
       "      <td>15.375</td>\n",
       "      <td>16.679</td>\n",
       "      <td>20.450</td>\n",
       "      <td>18.682</td>\n",
       "      <td>17.081</td>\n",
       "      <td>14.140</td>\n",
       "      <td>19.686</td>\n",
       "      <td>14.495</td>\n",
       "      <td>...</td>\n",
       "      <td>14.757</td>\n",
       "      <td>15.094</td>\n",
       "      <td>14.048</td>\n",
       "      <td>15.256</td>\n",
       "      <td>17.075</td>\n",
       "      <td>19.582</td>\n",
       "      <td>15.328</td>\n",
       "      <td>19.867</td>\n",
       "      <td>13.145</td>\n",
       "      <td>12.235</td>\n",
       "    </tr>\n",
       "    <tr>\n",
       "      <th>...</th>\n",
       "      <td>...</td>\n",
       "      <td>...</td>\n",
       "      <td>...</td>\n",
       "      <td>...</td>\n",
       "      <td>...</td>\n",
       "      <td>...</td>\n",
       "      <td>...</td>\n",
       "      <td>...</td>\n",
       "      <td>...</td>\n",
       "      <td>...</td>\n",
       "      <td>...</td>\n",
       "      <td>...</td>\n",
       "      <td>...</td>\n",
       "      <td>...</td>\n",
       "      <td>...</td>\n",
       "      <td>...</td>\n",
       "      <td>...</td>\n",
       "      <td>...</td>\n",
       "      <td>...</td>\n",
       "      <td>...</td>\n",
       "      <td>...</td>\n",
       "    </tr>\n",
       "    <tr>\n",
       "      <th>Sample_205</th>\n",
       "      <td>15.682</td>\n",
       "      <td>16.886</td>\n",
       "      <td>14.910</td>\n",
       "      <td>16.482</td>\n",
       "      <td>17.705</td>\n",
       "      <td>17.039</td>\n",
       "      <td>11.699</td>\n",
       "      <td>16.413</td>\n",
       "      <td>19.102</td>\n",
       "      <td>16.064</td>\n",
       "      <td>...</td>\n",
       "      <td>15.235</td>\n",
       "      <td>15.684</td>\n",
       "      <td>14.236</td>\n",
       "      <td>15.415</td>\n",
       "      <td>17.551</td>\n",
       "      <td>17.922</td>\n",
       "      <td>16.340</td>\n",
       "      <td>19.928</td>\n",
       "      <td>12.929</td>\n",
       "      <td>11.802</td>\n",
       "    </tr>\n",
       "    <tr>\n",
       "      <th>Sample_206</th>\n",
       "      <td>15.798</td>\n",
       "      <td>17.554</td>\n",
       "      <td>15.600</td>\n",
       "      <td>15.938</td>\n",
       "      <td>18.154</td>\n",
       "      <td>18.152</td>\n",
       "      <td>16.503</td>\n",
       "      <td>16.860</td>\n",
       "      <td>18.538</td>\n",
       "      <td>15.288</td>\n",
       "      <td>...</td>\n",
       "      <td>15.422</td>\n",
       "      <td>16.106</td>\n",
       "      <td>11.879</td>\n",
       "      <td>15.345</td>\n",
       "      <td>17.084</td>\n",
       "      <td>18.708</td>\n",
       "      <td>14.249</td>\n",
       "      <td>19.433</td>\n",
       "      <td>11.441</td>\n",
       "      <td>13.331</td>\n",
       "    </tr>\n",
       "    <tr>\n",
       "      <th>Sample_207</th>\n",
       "      <td>15.739</td>\n",
       "      <td>16.877</td>\n",
       "      <td>15.469</td>\n",
       "      <td>16.898</td>\n",
       "      <td>18.636</td>\n",
       "      <td>17.950</td>\n",
       "      <td>16.321</td>\n",
       "      <td>16.401</td>\n",
       "      <td>18.849</td>\n",
       "      <td>17.580</td>\n",
       "      <td>...</td>\n",
       "      <td>15.808</td>\n",
       "      <td>16.098</td>\n",
       "      <td>14.403</td>\n",
       "      <td>15.715</td>\n",
       "      <td>16.586</td>\n",
       "      <td>18.725</td>\n",
       "      <td>16.138</td>\n",
       "      <td>19.599</td>\n",
       "      <td>13.637</td>\n",
       "      <td>11.174</td>\n",
       "    </tr>\n",
       "    <tr>\n",
       "      <th>Sample_208</th>\n",
       "      <td>15.477</td>\n",
       "      <td>16.779</td>\n",
       "      <td>14.995</td>\n",
       "      <td>16.132</td>\n",
       "      <td>14.908</td>\n",
       "      <td>17.530</td>\n",
       "      <td>11.212</td>\n",
       "      <td>16.119</td>\n",
       "      <td>18.368</td>\n",
       "      <td>15.202</td>\n",
       "      <td>...</td>\n",
       "      <td>15.157</td>\n",
       "      <td>16.712</td>\n",
       "      <td>12.311</td>\n",
       "      <td>14.640</td>\n",
       "      <td>16.533</td>\n",
       "      <td>19.411</td>\n",
       "      <td>15.807</td>\n",
       "      <td>19.545</td>\n",
       "      <td>13.216</td>\n",
       "      <td>13.018</td>\n",
       "    </tr>\n",
       "    <tr>\n",
       "      <th>Sample_209</th>\n",
       "      <td>15.727</td>\n",
       "      <td>17.261</td>\n",
       "      <td>15.175</td>\n",
       "      <td>16.235</td>\n",
       "      <td>17.893</td>\n",
       "      <td>17.744</td>\n",
       "      <td>16.371</td>\n",
       "      <td>15.780</td>\n",
       "      <td>18.806</td>\n",
       "      <td>16.532</td>\n",
       "      <td>...</td>\n",
       "      <td>15.237</td>\n",
       "      <td>15.652</td>\n",
       "      <td>15.211</td>\n",
       "      <td>14.205</td>\n",
       "      <td>16.749</td>\n",
       "      <td>19.275</td>\n",
       "      <td>15.732</td>\n",
       "      <td>19.577</td>\n",
       "      <td>11.042</td>\n",
       "      <td>11.791</td>\n",
       "    </tr>\n",
       "  </tbody>\n",
       "</table>\n",
       "<p>210 rows × 1213 columns</p>\n",
       "</div>"
      ],
      "text/plain": [
       "protein groups  A0A024QZX5;A0A087X1N8;P35237  A0A024R0T9;K7ER74;P02655  \\\n",
       "Sample ID                                                                \n",
       "Sample_000                            15.912                    16.852   \n",
       "Sample_001                            15.936                    16.874   \n",
       "Sample_002                            16.111                    14.523   \n",
       "Sample_003                            16.107                    17.032   \n",
       "Sample_004                            15.603                    15.331   \n",
       "...                                      ...                       ...   \n",
       "Sample_205                            15.682                    16.886   \n",
       "Sample_206                            15.798                    17.554   \n",
       "Sample_207                            15.739                    16.877   \n",
       "Sample_208                            15.477                    16.779   \n",
       "Sample_209                            15.727                    17.261   \n",
       "\n",
       "protein groups  A0A024R3W6;A0A024R412;O60462;O60462-2;O60462-3;O60462-4;O60462-5;Q7LBX6;X5D2Q8  \\\n",
       "Sample ID                                                                                        \n",
       "Sample_000                                                 15.570                                \n",
       "Sample_001                                                 15.519                                \n",
       "Sample_002                                                 15.935                                \n",
       "Sample_003                                                 15.802                                \n",
       "Sample_004                                                 15.375                                \n",
       "...                                                           ...                                \n",
       "Sample_205                                                 14.910                                \n",
       "Sample_206                                                 15.600                                \n",
       "Sample_207                                                 15.469                                \n",
       "Sample_208                                                 14.995                                \n",
       "Sample_209                                                 15.175                                \n",
       "\n",
       "protein groups  A0A024R644;A0A0A0MRU5;A0A1B0GWI2;O75503  A0A075B6H9  \\\n",
       "Sample ID                                                             \n",
       "Sample_000                                       16.481      20.246   \n",
       "Sample_001                                       16.387      19.941   \n",
       "Sample_002                                       16.416      19.251   \n",
       "Sample_003                                       16.979      19.628   \n",
       "Sample_004                                       16.679      20.450   \n",
       "...                                                 ...         ...   \n",
       "Sample_205                                       16.482      17.705   \n",
       "Sample_206                                       15.938      18.154   \n",
       "Sample_207                                       16.898      18.636   \n",
       "Sample_208                                       16.132      14.908   \n",
       "Sample_209                                       16.235      17.893   \n",
       "\n",
       "protein groups  A0A075B6I0  A0A075B6I1  A0A075B6I6  A0A075B6I9  A0A075B6J9  \\\n",
       "Sample ID                                                                    \n",
       "Sample_000          16.764      17.584      16.988      20.054      13.367   \n",
       "Sample_001          18.786      17.144      12.362      19.067      16.188   \n",
       "Sample_002          16.832      15.671      17.012      18.569      14.032   \n",
       "Sample_003          17.852      18.877      14.182      18.985      13.438   \n",
       "Sample_004          18.682      17.081      14.140      19.686      14.495   \n",
       "...                    ...         ...         ...         ...         ...   \n",
       "Sample_205          17.039      11.699      16.413      19.102      16.064   \n",
       "Sample_206          18.152      16.503      16.860      18.538      15.288   \n",
       "Sample_207          17.950      16.321      16.401      18.849      17.580   \n",
       "Sample_208          17.530      11.212      16.119      18.368      15.202   \n",
       "Sample_209          17.744      16.371      15.780      18.806      16.532   \n",
       "\n",
       "protein groups  ...  Q9Y653;Q9Y653-2;Q9Y653-3  Q9Y696  Q9Y6C2  Q9Y6N6  \\\n",
       "Sample ID       ...                                                     \n",
       "Sample_000      ...                    16.012  15.178  13.103  15.050   \n",
       "Sample_001      ...                    15.528  15.576  12.908  14.833   \n",
       "Sample_002      ...                    15.229  14.728  13.757  15.118   \n",
       "Sample_003      ...                    15.495  14.590  14.682  15.140   \n",
       "Sample_004      ...                    14.757  15.094  14.048  15.256   \n",
       "...             ...                       ...     ...     ...     ...   \n",
       "Sample_205      ...                    15.235  15.684  14.236  15.415   \n",
       "Sample_206      ...                    15.422  16.106  11.879  15.345   \n",
       "Sample_207      ...                    15.808  16.098  14.403  15.715   \n",
       "Sample_208      ...                    15.157  16.712  12.311  14.640   \n",
       "Sample_209      ...                    15.237  15.652  15.211  14.205   \n",
       "\n",
       "protein groups  Q9Y6N7;Q9Y6N7-2;Q9Y6N7-4  Q9Y6R7  Q9Y6X5  Q9Y6Y8;Q9Y6Y8-2  \\\n",
       "Sample ID                                                                   \n",
       "Sample_000                        16.842  19.863  12.911           19.563   \n",
       "Sample_001                        16.597  20.299  15.556           19.386   \n",
       "Sample_002                        17.440  19.598  15.735           20.447   \n",
       "Sample_003                        17.356  19.429  12.549           20.216   \n",
       "Sample_004                        17.075  19.582  15.328           19.867   \n",
       "...                                  ...     ...     ...              ...   \n",
       "Sample_205                        17.551  17.922  16.340           19.928   \n",
       "Sample_206                        17.084  18.708  14.249           19.433   \n",
       "Sample_207                        16.586  18.725  16.138           19.599   \n",
       "Sample_208                        16.533  19.411  15.807           19.545   \n",
       "Sample_209                        16.749  19.275  15.732           19.577   \n",
       "\n",
       "protein groups  Q9Y6Y9  S4R3U6  \n",
       "Sample ID                       \n",
       "Sample_000      12.837  12.805  \n",
       "Sample_001      13.970  12.442  \n",
       "Sample_002      12.636  12.505  \n",
       "Sample_003      12.627  12.445  \n",
       "Sample_004      13.145  12.235  \n",
       "...                ...     ...  \n",
       "Sample_205      12.929  11.802  \n",
       "Sample_206      11.441  13.331  \n",
       "Sample_207      13.637  11.174  \n",
       "Sample_208      13.216  13.018  \n",
       "Sample_209      11.042  11.791  \n",
       "\n",
       "[210 rows x 1213 columns]"
      ]
     },
     "execution_count": 15,
     "metadata": {},
     "output_type": "execute_result"
    }
   ],
   "source": [
    "# could be just observed, drop columns with missing values\n",
    "ald_study = pd.concat(\n",
    "    [ald_study.stack(),\n",
    "     pred_real_na_baseline.loc[\n",
    "        # only select columns in selected in ald_study\n",
    "        pd.IndexSlice[:, pred_real_na.index.levels[-1].intersection(ald_study.columns)]\n",
    "    ]\n",
    "    ]\n",
    ").unstack()\n",
    "ald_study"
   ]
  },
  {
   "cell_type": "code",
   "execution_count": 16,
   "id": "12b9d002",
   "metadata": {
    "execution": {
     "iopub.execute_input": "2024-05-27T12:08:16.348495Z",
     "iopub.status.busy": "2024-05-27T12:08:16.348183Z",
     "iopub.status.idle": "2024-05-27T12:08:16.354909Z",
     "shell.execute_reply": "2024-05-27T12:08:16.354169Z"
    },
    "papermill": {
     "duration": 0.056751,
     "end_time": "2024-05-27T12:08:16.371231",
     "exception": false,
     "start_time": "2024-05-27T12:08:16.314480",
     "status": "completed"
    },
    "tags": []
   },
   "outputs": [
    {
     "data": {
      "text/plain": [
       "Index(['A0A075B6H7', 'A0A075B6Q5', 'A0A075B7B8', 'A0A087WSY4',\n",
       "       'A0A087WTT8;A0A0A0MQX5;O94779;O94779-2', 'A0A087WXB8;Q9Y274',\n",
       "       'A0A087WXE9;E9PQ70;Q6UXH9;Q6UXH9-2;Q6UXH9-3',\n",
       "       'A0A087X1Z2;C9JTV4;H0Y4Y4;Q8WYH2;Q96C19;Q9BUP0;Q9BUP0-2',\n",
       "       'A0A0A0MQS9;A0A0A0MTC7;Q16363;Q16363-2', 'A0A0A0MSN4;P12821;P12821-2',\n",
       "       ...\n",
       "       'Q9NZ94;Q9NZ94-2;Q9NZ94-3', 'Q9NZU1', 'Q9P1W8;Q9P1W8-2;Q9P1W8-4',\n",
       "       'Q9UHI8', 'Q9UI40;Q9UI40-2',\n",
       "       'Q9UIB8;Q9UIB8-2;Q9UIB8-3;Q9UIB8-4;Q9UIB8-5;Q9UIB8-6',\n",
       "       'Q9UKZ4;Q9UKZ4-2', 'Q9UMX0;Q9UMX0-2;Q9UMX0-4', 'Q9Y281;Q9Y281-3',\n",
       "       'Q9Y490'],\n",
       "      dtype='object', name='protein groups', length=208)"
      ]
     },
     "execution_count": 16,
     "metadata": {},
     "output_type": "execute_result"
    }
   ],
   "source": [
    "new_features = X.columns.difference(ald_study.columns)\n",
    "new_features"
   ]
  },
  {
   "cell_type": "markdown",
   "id": "a8e67247-a2a1-4a2f-b838-0bdc9f40cfa9",
   "metadata": {
    "papermill": {
     "duration": 0.023085,
     "end_time": "2024-05-27T12:08:16.421362",
     "exception": false,
     "start_time": "2024-05-27T12:08:16.398277",
     "status": "completed"
    },
    "tags": []
   },
   "source": [
    "Binarize targets, but also keep groups for stratification\n"
   ]
  },
  {
   "cell_type": "code",
   "execution_count": 17,
   "id": "4aa1f404-427a-4e78-b98d-cb26bb1d1ec4",
   "metadata": {
    "execution": {
     "iopub.execute_input": "2024-05-27T12:08:16.458255Z",
     "iopub.status.busy": "2024-05-27T12:08:16.457971Z",
     "iopub.status.idle": "2024-05-27T12:08:16.474868Z",
     "shell.execute_reply": "2024-05-27T12:08:16.474137Z"
    },
    "papermill": {
     "duration": 0.032095,
     "end_time": "2024-05-27T12:08:16.476913",
     "exception": false,
     "start_time": "2024-05-27T12:08:16.444818",
     "status": "completed"
    },
    "tags": []
   },
   "outputs": [
    {
     "data": {
      "text/html": [
       "<div>\n",
       "<style scoped>\n",
       "    .dataframe tbody tr th:only-of-type {\n",
       "        vertical-align: middle;\n",
       "    }\n",
       "\n",
       "    .dataframe tbody tr th {\n",
       "        vertical-align: top;\n",
       "    }\n",
       "\n",
       "    .dataframe thead th {\n",
       "        text-align: right;\n",
       "    }\n",
       "</style>\n",
       "<table border=\"1\" class=\"dataframe\">\n",
       "  <thead>\n",
       "    <tr style=\"text-align: right;\">\n",
       "      <th>AD</th>\n",
       "      <th>0</th>\n",
       "      <th>1</th>\n",
       "    </tr>\n",
       "    <tr>\n",
       "      <th>AD</th>\n",
       "      <th></th>\n",
       "      <th></th>\n",
       "    </tr>\n",
       "  </thead>\n",
       "  <tbody>\n",
       "    <tr>\n",
       "      <th>False</th>\n",
       "      <td>122</td>\n",
       "      <td>0</td>\n",
       "    </tr>\n",
       "    <tr>\n",
       "      <th>True</th>\n",
       "      <td>0</td>\n",
       "      <td>88</td>\n",
       "    </tr>\n",
       "  </tbody>\n",
       "</table>\n",
       "</div>"
      ],
      "text/plain": [
       "AD      0  1\n",
       "AD          \n",
       "False 122  0\n",
       "True    0 88"
      ]
     },
     "execution_count": 17,
     "metadata": {},
     "output_type": "execute_result"
    }
   ],
   "source": [
    "target_to_group = target.copy()\n",
    "target = target >= args.cutoff_target\n",
    "pd.crosstab(target.squeeze(), target_to_group.squeeze())"
   ]
  },
  {
   "cell_type": "markdown",
   "id": "bfab754f",
   "metadata": {
    "papermill": {
     "duration": 0.014848,
     "end_time": "2024-05-27T12:08:16.506780",
     "exception": false,
     "start_time": "2024-05-27T12:08:16.491932",
     "status": "completed"
    },
    "tags": []
   },
   "source": [
    "## Best number of parameters by CV"
   ]
  },
  {
   "cell_type": "code",
   "execution_count": 18,
   "id": "90e410d1",
   "metadata": {
    "execution": {
     "iopub.execute_input": "2024-05-27T12:08:16.537722Z",
     "iopub.status.busy": "2024-05-27T12:08:16.537250Z",
     "iopub.status.idle": "2024-05-27T12:10:20.995743Z",
     "shell.execute_reply": "2024-05-27T12:10:20.994900Z"
    },
    "papermill": {
     "duration": 124.476051,
     "end_time": "2024-05-27T12:10:20.997598",
     "exception": false,
     "start_time": "2024-05-27T12:08:16.521547",
     "status": "completed"
    },
    "tags": []
   },
   "outputs": [
    {
     "name": "stderr",
     "output_type": "stream",
     "text": [
      "\r",
      "  0%|          | 0/1 [00:00<?, ?it/s]"
     ]
    },
    {
     "name": "stderr",
     "output_type": "stream",
     "text": [
      "\r",
      "100%|██████████| 1/1 [00:00<00:00, 309.73it/s]"
     ]
    },
    {
     "name": "stderr",
     "output_type": "stream",
     "text": [
      "\n"
     ]
    },
    {
     "name": "stderr",
     "output_type": "stream",
     "text": [
      "\r",
      "  0%|          | 0/2 [00:00<?, ?it/s]"
     ]
    },
    {
     "name": "stderr",
     "output_type": "stream",
     "text": [
      "\r",
      "100%|██████████| 2/2 [00:00<00:00,  6.27it/s]"
     ]
    },
    {
     "name": "stderr",
     "output_type": "stream",
     "text": [
      "\r",
      "100%|██████████| 2/2 [00:00<00:00,  6.23it/s]"
     ]
    },
    {
     "name": "stderr",
     "output_type": "stream",
     "text": [
      "\n"
     ]
    },
    {
     "name": "stderr",
     "output_type": "stream",
     "text": [
      "\r",
      "  0%|          | 0/3 [00:00<?, ?it/s]"
     ]
    },
    {
     "name": "stderr",
     "output_type": "stream",
     "text": [
      "\r",
      " 67%|██████▋   | 2/3 [00:00<00:00,  4.50it/s]"
     ]
    },
    {
     "name": "stderr",
     "output_type": "stream",
     "text": [
      "\r",
      "100%|██████████| 3/3 [00:00<00:00,  3.64it/s]"
     ]
    },
    {
     "name": "stderr",
     "output_type": "stream",
     "text": [
      "\r",
      "100%|██████████| 3/3 [00:00<00:00,  3.74it/s]"
     ]
    },
    {
     "name": "stderr",
     "output_type": "stream",
     "text": [
      "\n"
     ]
    },
    {
     "name": "stderr",
     "output_type": "stream",
     "text": [
      "\r",
      "  0%|          | 0/4 [00:00<?, ?it/s]"
     ]
    },
    {
     "name": "stderr",
     "output_type": "stream",
     "text": [
      "\r",
      " 50%|█████     | 2/4 [00:00<00:00,  4.41it/s]"
     ]
    },
    {
     "name": "stderr",
     "output_type": "stream",
     "text": [
      "\r",
      " 75%|███████▌  | 3/4 [00:00<00:00,  3.50it/s]"
     ]
    },
    {
     "name": "stderr",
     "output_type": "stream",
     "text": [
      "\r",
      "100%|██████████| 4/4 [00:01<00:00,  3.17it/s]"
     ]
    },
    {
     "name": "stderr",
     "output_type": "stream",
     "text": [
      "\r",
      "100%|██████████| 4/4 [00:01<00:00,  3.34it/s]"
     ]
    },
    {
     "name": "stderr",
     "output_type": "stream",
     "text": [
      "\n"
     ]
    },
    {
     "name": "stderr",
     "output_type": "stream",
     "text": [
      "\r",
      "  0%|          | 0/5 [00:00<?, ?it/s]"
     ]
    },
    {
     "name": "stderr",
     "output_type": "stream",
     "text": [
      "\r",
      " 40%|████      | 2/5 [00:00<00:00,  6.53it/s]"
     ]
    },
    {
     "name": "stderr",
     "output_type": "stream",
     "text": [
      "\r",
      " 60%|██████    | 3/5 [00:00<00:00,  4.40it/s]"
     ]
    },
    {
     "name": "stderr",
     "output_type": "stream",
     "text": [
      "\r",
      " 80%|████████  | 4/5 [00:00<00:00,  4.01it/s]"
     ]
    },
    {
     "name": "stderr",
     "output_type": "stream",
     "text": [
      "\r",
      "100%|██████████| 5/5 [00:01<00:00,  3.09it/s]"
     ]
    },
    {
     "name": "stderr",
     "output_type": "stream",
     "text": [
      "\r",
      "100%|██████████| 5/5 [00:01<00:00,  3.60it/s]"
     ]
    },
    {
     "name": "stderr",
     "output_type": "stream",
     "text": [
      "\n"
     ]
    },
    {
     "name": "stderr",
     "output_type": "stream",
     "text": [
      "\r",
      "  0%|          | 0/6 [00:00<?, ?it/s]"
     ]
    },
    {
     "name": "stderr",
     "output_type": "stream",
     "text": [
      "\r",
      " 33%|███▎      | 2/6 [00:00<00:00,  5.71it/s]"
     ]
    },
    {
     "name": "stderr",
     "output_type": "stream",
     "text": [
      "\r",
      " 50%|█████     | 3/6 [00:00<00:00,  4.08it/s]"
     ]
    },
    {
     "name": "stderr",
     "output_type": "stream",
     "text": [
      "\r",
      " 67%|██████▋   | 4/6 [00:01<00:00,  3.55it/s]"
     ]
    },
    {
     "name": "stderr",
     "output_type": "stream",
     "text": [
      "\r",
      " 83%|████████▎ | 5/6 [00:01<00:00,  3.37it/s]"
     ]
    },
    {
     "name": "stderr",
     "output_type": "stream",
     "text": [
      "\r",
      "100%|██████████| 6/6 [00:01<00:00,  3.36it/s]"
     ]
    },
    {
     "name": "stderr",
     "output_type": "stream",
     "text": [
      "\r",
      "100%|██████████| 6/6 [00:01<00:00,  3.61it/s]"
     ]
    },
    {
     "name": "stderr",
     "output_type": "stream",
     "text": [
      "\n"
     ]
    },
    {
     "name": "stderr",
     "output_type": "stream",
     "text": [
      "\r",
      "  0%|          | 0/7 [00:00<?, ?it/s]"
     ]
    },
    {
     "name": "stderr",
     "output_type": "stream",
     "text": [
      "\r",
      " 29%|██▊       | 2/7 [00:00<00:00,  6.60it/s]"
     ]
    },
    {
     "name": "stderr",
     "output_type": "stream",
     "text": [
      "\r",
      " 43%|████▎     | 3/7 [00:00<00:00,  4.28it/s]"
     ]
    },
    {
     "name": "stderr",
     "output_type": "stream",
     "text": [
      "\r",
      " 57%|█████▋    | 4/7 [00:01<00:00,  3.48it/s]"
     ]
    },
    {
     "name": "stderr",
     "output_type": "stream",
     "text": [
      "\r",
      " 71%|███████▏  | 5/7 [00:01<00:00,  3.37it/s]"
     ]
    },
    {
     "name": "stderr",
     "output_type": "stream",
     "text": [
      "\r",
      " 86%|████████▌ | 6/7 [00:01<00:00,  3.22it/s]"
     ]
    },
    {
     "name": "stderr",
     "output_type": "stream",
     "text": [
      "\r",
      "100%|██████████| 7/7 [00:01<00:00,  3.25it/s]"
     ]
    },
    {
     "name": "stderr",
     "output_type": "stream",
     "text": [
      "\r",
      "100%|██████████| 7/7 [00:01<00:00,  3.52it/s]"
     ]
    },
    {
     "name": "stderr",
     "output_type": "stream",
     "text": [
      "\n"
     ]
    },
    {
     "name": "stderr",
     "output_type": "stream",
     "text": [
      "\r",
      "  0%|          | 0/8 [00:00<?, ?it/s]"
     ]
    },
    {
     "name": "stderr",
     "output_type": "stream",
     "text": [
      "\r",
      " 25%|██▌       | 2/8 [00:00<00:01,  5.27it/s]"
     ]
    },
    {
     "name": "stderr",
     "output_type": "stream",
     "text": [
      "\r",
      " 38%|███▊      | 3/8 [00:00<00:01,  4.03it/s]"
     ]
    },
    {
     "name": "stderr",
     "output_type": "stream",
     "text": [
      "\r",
      " 50%|█████     | 4/8 [00:01<00:01,  3.61it/s]"
     ]
    },
    {
     "name": "stderr",
     "output_type": "stream",
     "text": [
      "\r",
      " 62%|██████▎   | 5/8 [00:01<00:00,  3.72it/s]"
     ]
    },
    {
     "name": "stderr",
     "output_type": "stream",
     "text": [
      "\r",
      " 75%|███████▌  | 6/8 [00:01<00:00,  3.27it/s]"
     ]
    },
    {
     "name": "stderr",
     "output_type": "stream",
     "text": [
      "\r",
      " 88%|████████▊ | 7/8 [00:01<00:00,  3.20it/s]"
     ]
    },
    {
     "name": "stderr",
     "output_type": "stream",
     "text": [
      "\r",
      "100%|██████████| 8/8 [00:02<00:00,  3.22it/s]"
     ]
    },
    {
     "name": "stderr",
     "output_type": "stream",
     "text": [
      "\r",
      "100%|██████████| 8/8 [00:02<00:00,  3.47it/s]"
     ]
    },
    {
     "name": "stderr",
     "output_type": "stream",
     "text": [
      "\n"
     ]
    },
    {
     "name": "stderr",
     "output_type": "stream",
     "text": [
      "\r",
      "  0%|          | 0/9 [00:00<?, ?it/s]"
     ]
    },
    {
     "name": "stderr",
     "output_type": "stream",
     "text": [
      "\r",
      " 22%|██▏       | 2/9 [00:00<00:01,  5.20it/s]"
     ]
    },
    {
     "name": "stderr",
     "output_type": "stream",
     "text": [
      "\r",
      " 33%|███▎      | 3/9 [00:00<00:01,  3.92it/s]"
     ]
    },
    {
     "name": "stderr",
     "output_type": "stream",
     "text": [
      "\r",
      " 44%|████▍     | 4/9 [00:01<00:01,  3.46it/s]"
     ]
    },
    {
     "name": "stderr",
     "output_type": "stream",
     "text": [
      "\r",
      " 56%|█████▌    | 5/9 [00:01<00:01,  3.36it/s]"
     ]
    },
    {
     "name": "stderr",
     "output_type": "stream",
     "text": [
      "\r",
      " 67%|██████▋   | 6/9 [00:01<00:00,  3.01it/s]"
     ]
    },
    {
     "name": "stderr",
     "output_type": "stream",
     "text": [
      "\r",
      " 78%|███████▊  | 7/9 [00:02<00:00,  3.02it/s]"
     ]
    },
    {
     "name": "stderr",
     "output_type": "stream",
     "text": [
      "\r",
      " 89%|████████▉ | 8/9 [00:02<00:00,  2.55it/s]"
     ]
    },
    {
     "name": "stderr",
     "output_type": "stream",
     "text": [
      "\r",
      "100%|██████████| 9/9 [00:03<00:00,  2.46it/s]"
     ]
    },
    {
     "name": "stderr",
     "output_type": "stream",
     "text": [
      "\r",
      "100%|██████████| 9/9 [00:03<00:00,  2.91it/s]"
     ]
    },
    {
     "name": "stderr",
     "output_type": "stream",
     "text": [
      "\n"
     ]
    },
    {
     "name": "stderr",
     "output_type": "stream",
     "text": [
      "\r",
      "  0%|          | 0/10 [00:00<?, ?it/s]"
     ]
    },
    {
     "name": "stderr",
     "output_type": "stream",
     "text": [
      "\r",
      " 20%|██        | 2/10 [00:00<00:01,  4.21it/s]"
     ]
    },
    {
     "name": "stderr",
     "output_type": "stream",
     "text": [
      "\r",
      " 30%|███       | 3/10 [00:00<00:02,  3.06it/s]"
     ]
    },
    {
     "name": "stderr",
     "output_type": "stream",
     "text": [
      "\r",
      " 40%|████      | 4/10 [00:01<00:02,  2.45it/s]"
     ]
    },
    {
     "name": "stderr",
     "output_type": "stream",
     "text": [
      "\r",
      " 50%|█████     | 5/10 [00:01<00:01,  2.53it/s]"
     ]
    },
    {
     "name": "stderr",
     "output_type": "stream",
     "text": [
      "\r",
      " 60%|██████    | 6/10 [00:02<00:01,  2.72it/s]"
     ]
    },
    {
     "name": "stderr",
     "output_type": "stream",
     "text": [
      "\r",
      " 70%|███████   | 7/10 [00:02<00:01,  2.79it/s]"
     ]
    },
    {
     "name": "stderr",
     "output_type": "stream",
     "text": [
      "\r",
      " 80%|████████  | 8/10 [00:02<00:00,  2.94it/s]"
     ]
    },
    {
     "name": "stderr",
     "output_type": "stream",
     "text": [
      "\r",
      " 90%|█████████ | 9/10 [00:03<00:00,  3.05it/s]"
     ]
    },
    {
     "name": "stderr",
     "output_type": "stream",
     "text": [
      "\r",
      "100%|██████████| 10/10 [00:03<00:00,  2.70it/s]"
     ]
    },
    {
     "name": "stderr",
     "output_type": "stream",
     "text": [
      "\r",
      "100%|██████████| 10/10 [00:03<00:00,  2.81it/s]"
     ]
    },
    {
     "name": "stderr",
     "output_type": "stream",
     "text": [
      "\n"
     ]
    },
    {
     "name": "stderr",
     "output_type": "stream",
     "text": [
      "\r",
      "  0%|          | 0/11 [00:00<?, ?it/s]"
     ]
    },
    {
     "name": "stderr",
     "output_type": "stream",
     "text": [
      "\r",
      " 18%|█▊        | 2/11 [00:00<00:01,  5.43it/s]"
     ]
    },
    {
     "name": "stderr",
     "output_type": "stream",
     "text": [
      "\r",
      " 27%|██▋       | 3/11 [00:00<00:02,  3.20it/s]"
     ]
    },
    {
     "name": "stderr",
     "output_type": "stream",
     "text": [
      "\r",
      " 36%|███▋      | 4/11 [00:01<00:02,  3.10it/s]"
     ]
    },
    {
     "name": "stderr",
     "output_type": "stream",
     "text": [
      "\r",
      " 45%|████▌     | 5/11 [00:01<00:01,  3.04it/s]"
     ]
    },
    {
     "name": "stderr",
     "output_type": "stream",
     "text": [
      "\r",
      " 55%|█████▍    | 6/11 [00:01<00:01,  2.93it/s]"
     ]
    },
    {
     "name": "stderr",
     "output_type": "stream",
     "text": [
      "\r",
      " 64%|██████▎   | 7/11 [00:02<00:01,  2.99it/s]"
     ]
    },
    {
     "name": "stderr",
     "output_type": "stream",
     "text": [
      "\r",
      " 73%|███████▎  | 8/11 [00:02<00:00,  3.03it/s]"
     ]
    },
    {
     "name": "stderr",
     "output_type": "stream",
     "text": [
      "\r",
      " 82%|████████▏ | 9/11 [00:02<00:00,  3.10it/s]"
     ]
    },
    {
     "name": "stderr",
     "output_type": "stream",
     "text": [
      "\r",
      " 91%|█████████ | 10/11 [00:03<00:00,  3.12it/s]"
     ]
    },
    {
     "name": "stderr",
     "output_type": "stream",
     "text": [
      "\r",
      "100%|██████████| 11/11 [00:03<00:00,  2.80it/s]"
     ]
    },
    {
     "name": "stderr",
     "output_type": "stream",
     "text": [
      "\r",
      "100%|██████████| 11/11 [00:03<00:00,  3.05it/s]"
     ]
    },
    {
     "name": "stderr",
     "output_type": "stream",
     "text": [
      "\n"
     ]
    },
    {
     "name": "stderr",
     "output_type": "stream",
     "text": [
      "\r",
      "  0%|          | 0/12 [00:00<?, ?it/s]"
     ]
    },
    {
     "name": "stderr",
     "output_type": "stream",
     "text": [
      "\r",
      " 17%|█▋        | 2/12 [00:00<00:02,  4.46it/s]"
     ]
    },
    {
     "name": "stderr",
     "output_type": "stream",
     "text": [
      "\r",
      " 25%|██▌       | 3/12 [00:00<00:02,  3.75it/s]"
     ]
    },
    {
     "name": "stderr",
     "output_type": "stream",
     "text": [
      "\r",
      " 33%|███▎      | 4/12 [00:01<00:02,  3.02it/s]"
     ]
    },
    {
     "name": "stderr",
     "output_type": "stream",
     "text": [
      "\r",
      " 42%|████▏     | 5/12 [00:01<00:02,  2.71it/s]"
     ]
    },
    {
     "name": "stderr",
     "output_type": "stream",
     "text": [
      "\r",
      " 50%|█████     | 6/12 [00:02<00:02,  2.16it/s]"
     ]
    },
    {
     "name": "stderr",
     "output_type": "stream",
     "text": [
      "\r",
      " 58%|█████▊    | 7/12 [00:02<00:02,  1.96it/s]"
     ]
    },
    {
     "name": "stderr",
     "output_type": "stream",
     "text": [
      "\r",
      " 67%|██████▋   | 8/12 [00:03<00:02,  1.93it/s]"
     ]
    },
    {
     "name": "stderr",
     "output_type": "stream",
     "text": [
      "\r",
      " 75%|███████▌  | 9/12 [00:03<00:01,  1.92it/s]"
     ]
    },
    {
     "name": "stderr",
     "output_type": "stream",
     "text": [
      "\r",
      " 83%|████████▎ | 10/12 [00:04<00:01,  1.90it/s]"
     ]
    },
    {
     "name": "stderr",
     "output_type": "stream",
     "text": [
      "\r",
      " 92%|█████████▏| 11/12 [00:05<00:00,  1.92it/s]"
     ]
    },
    {
     "name": "stderr",
     "output_type": "stream",
     "text": [
      "\r",
      "100%|██████████| 12/12 [00:05<00:00,  1.96it/s]"
     ]
    },
    {
     "name": "stderr",
     "output_type": "stream",
     "text": [
      "\r",
      "100%|██████████| 12/12 [00:05<00:00,  2.18it/s]"
     ]
    },
    {
     "name": "stderr",
     "output_type": "stream",
     "text": [
      "\n"
     ]
    },
    {
     "name": "stderr",
     "output_type": "stream",
     "text": [
      "\r",
      "  0%|          | 0/13 [00:00<?, ?it/s]"
     ]
    },
    {
     "name": "stderr",
     "output_type": "stream",
     "text": [
      "\r",
      " 15%|█▌        | 2/13 [00:00<00:03,  3.10it/s]"
     ]
    },
    {
     "name": "stderr",
     "output_type": "stream",
     "text": [
      "\r",
      " 23%|██▎       | 3/13 [00:01<00:03,  2.56it/s]"
     ]
    },
    {
     "name": "stderr",
     "output_type": "stream",
     "text": [
      "\r",
      " 31%|███       | 4/13 [00:01<00:03,  2.40it/s]"
     ]
    },
    {
     "name": "stderr",
     "output_type": "stream",
     "text": [
      "\r",
      " 38%|███▊      | 5/13 [00:01<00:03,  2.44it/s]"
     ]
    },
    {
     "name": "stderr",
     "output_type": "stream",
     "text": [
      "\r",
      " 46%|████▌     | 6/13 [00:02<00:02,  2.42it/s]"
     ]
    },
    {
     "name": "stderr",
     "output_type": "stream",
     "text": [
      "\r",
      " 54%|█████▍    | 7/13 [00:02<00:02,  2.18it/s]"
     ]
    },
    {
     "name": "stderr",
     "output_type": "stream",
     "text": [
      "\r",
      " 62%|██████▏   | 8/13 [00:03<00:02,  2.10it/s]"
     ]
    },
    {
     "name": "stderr",
     "output_type": "stream",
     "text": [
      "\r",
      " 69%|██████▉   | 9/13 [00:04<00:01,  2.03it/s]"
     ]
    },
    {
     "name": "stderr",
     "output_type": "stream",
     "text": [
      "\r",
      " 77%|███████▋  | 10/13 [00:04<00:01,  2.18it/s]"
     ]
    },
    {
     "name": "stderr",
     "output_type": "stream",
     "text": [
      "\r",
      " 85%|████████▍ | 11/13 [00:04<00:00,  2.33it/s]"
     ]
    },
    {
     "name": "stderr",
     "output_type": "stream",
     "text": [
      "\r",
      " 92%|█████████▏| 12/13 [00:05<00:00,  2.54it/s]"
     ]
    },
    {
     "name": "stderr",
     "output_type": "stream",
     "text": [
      "\r",
      "100%|██████████| 13/13 [00:05<00:00,  2.66it/s]"
     ]
    },
    {
     "name": "stderr",
     "output_type": "stream",
     "text": [
      "\r",
      "100%|██████████| 13/13 [00:05<00:00,  2.41it/s]"
     ]
    },
    {
     "name": "stderr",
     "output_type": "stream",
     "text": [
      "\n"
     ]
    },
    {
     "name": "stderr",
     "output_type": "stream",
     "text": [
      "\r",
      "  0%|          | 0/14 [00:00<?, ?it/s]"
     ]
    },
    {
     "name": "stderr",
     "output_type": "stream",
     "text": [
      "\r",
      " 14%|█▍        | 2/14 [00:00<00:02,  5.24it/s]"
     ]
    },
    {
     "name": "stderr",
     "output_type": "stream",
     "text": [
      "\r",
      " 21%|██▏       | 3/14 [00:00<00:02,  3.69it/s]"
     ]
    },
    {
     "name": "stderr",
     "output_type": "stream",
     "text": [
      "\r",
      " 29%|██▊       | 4/14 [00:01<00:03,  3.17it/s]"
     ]
    },
    {
     "name": "stderr",
     "output_type": "stream",
     "text": [
      "\r",
      " 36%|███▌      | 5/14 [00:01<00:02,  3.09it/s]"
     ]
    },
    {
     "name": "stderr",
     "output_type": "stream",
     "text": [
      "\r",
      " 43%|████▎     | 6/14 [00:01<00:02,  3.31it/s]"
     ]
    },
    {
     "name": "stderr",
     "output_type": "stream",
     "text": [
      "\r",
      " 50%|█████     | 7/14 [00:02<00:02,  3.39it/s]"
     ]
    },
    {
     "name": "stderr",
     "output_type": "stream",
     "text": [
      "\r",
      " 57%|█████▋    | 8/14 [00:02<00:01,  3.55it/s]"
     ]
    },
    {
     "name": "stderr",
     "output_type": "stream",
     "text": [
      "\r",
      " 64%|██████▍   | 9/14 [00:02<00:01,  3.62it/s]"
     ]
    },
    {
     "name": "stderr",
     "output_type": "stream",
     "text": [
      "\r",
      " 71%|███████▏  | 10/14 [00:02<00:00,  4.02it/s]"
     ]
    },
    {
     "name": "stderr",
     "output_type": "stream",
     "text": [
      "\r",
      " 79%|███████▊  | 11/14 [00:02<00:00,  4.24it/s]"
     ]
    },
    {
     "name": "stderr",
     "output_type": "stream",
     "text": [
      "\r",
      " 86%|████████▌ | 12/14 [00:03<00:00,  4.47it/s]"
     ]
    },
    {
     "name": "stderr",
     "output_type": "stream",
     "text": [
      "\r",
      " 93%|█████████▎| 13/14 [00:03<00:00,  4.55it/s]"
     ]
    },
    {
     "name": "stderr",
     "output_type": "stream",
     "text": [
      "\r",
      "100%|██████████| 14/14 [00:03<00:00,  4.64it/s]"
     ]
    },
    {
     "name": "stderr",
     "output_type": "stream",
     "text": [
      "\r",
      "100%|██████████| 14/14 [00:03<00:00,  3.93it/s]"
     ]
    },
    {
     "name": "stderr",
     "output_type": "stream",
     "text": [
      "\n"
     ]
    },
    {
     "name": "stderr",
     "output_type": "stream",
     "text": [
      "\r",
      "  0%|          | 0/15 [00:00<?, ?it/s]"
     ]
    },
    {
     "name": "stderr",
     "output_type": "stream",
     "text": [
      "\r",
      " 13%|█▎        | 2/15 [00:00<00:02,  5.96it/s]"
     ]
    },
    {
     "name": "stderr",
     "output_type": "stream",
     "text": [
      "\r",
      " 20%|██        | 3/15 [00:00<00:02,  4.65it/s]"
     ]
    },
    {
     "name": "stderr",
     "output_type": "stream",
     "text": [
      "\r",
      " 27%|██▋       | 4/15 [00:00<00:02,  4.02it/s]"
     ]
    },
    {
     "name": "stderr",
     "output_type": "stream",
     "text": [
      "\r",
      " 33%|███▎      | 5/15 [00:01<00:02,  3.58it/s]"
     ]
    },
    {
     "name": "stderr",
     "output_type": "stream",
     "text": [
      "\r",
      " 40%|████      | 6/15 [00:01<00:02,  3.47it/s]"
     ]
    },
    {
     "name": "stderr",
     "output_type": "stream",
     "text": [
      "\r",
      " 47%|████▋     | 7/15 [00:01<00:02,  3.58it/s]"
     ]
    },
    {
     "name": "stderr",
     "output_type": "stream",
     "text": [
      "\r",
      " 53%|█████▎    | 8/15 [00:02<00:02,  3.43it/s]"
     ]
    },
    {
     "name": "stderr",
     "output_type": "stream",
     "text": [
      "\r",
      " 60%|██████    | 9/15 [00:02<00:01,  3.38it/s]"
     ]
    },
    {
     "name": "stderr",
     "output_type": "stream",
     "text": [
      "\r",
      " 67%|██████▋   | 10/15 [00:02<00:01,  2.79it/s]"
     ]
    },
    {
     "name": "stderr",
     "output_type": "stream",
     "text": [
      "\r",
      " 73%|███████▎  | 11/15 [00:03<00:01,  2.58it/s]"
     ]
    },
    {
     "name": "stderr",
     "output_type": "stream",
     "text": [
      "\r",
      " 80%|████████  | 12/15 [00:03<00:01,  2.40it/s]"
     ]
    },
    {
     "name": "stderr",
     "output_type": "stream",
     "text": [
      "\r",
      " 87%|████████▋ | 13/15 [00:04<00:00,  2.44it/s]"
     ]
    },
    {
     "name": "stderr",
     "output_type": "stream",
     "text": [
      "\r",
      " 93%|█████████▎| 14/15 [00:04<00:00,  2.42it/s]"
     ]
    },
    {
     "name": "stderr",
     "output_type": "stream",
     "text": [
      "\r",
      "100%|██████████| 15/15 [00:04<00:00,  2.67it/s]"
     ]
    },
    {
     "name": "stderr",
     "output_type": "stream",
     "text": [
      "\r",
      "100%|██████████| 15/15 [00:04<00:00,  3.01it/s]"
     ]
    },
    {
     "name": "stderr",
     "output_type": "stream",
     "text": [
      "\n"
     ]
    },
    {
     "data": {
      "text/html": [
       "<div>\n",
       "<style scoped>\n",
       "    .dataframe tbody tr th:only-of-type {\n",
       "        vertical-align: middle;\n",
       "    }\n",
       "\n",
       "    .dataframe tbody tr th {\n",
       "        vertical-align: top;\n",
       "    }\n",
       "\n",
       "    .dataframe thead tr th {\n",
       "        text-align: left;\n",
       "    }\n",
       "\n",
       "    .dataframe thead tr:last-of-type th {\n",
       "        text-align: right;\n",
       "    }\n",
       "</style>\n",
       "<table border=\"1\" class=\"dataframe\">\n",
       "  <thead>\n",
       "    <tr>\n",
       "      <th></th>\n",
       "      <th colspan=\"2\" halign=\"left\">fit_time</th>\n",
       "      <th colspan=\"2\" halign=\"left\">score_time</th>\n",
       "      <th colspan=\"2\" halign=\"left\">test_precision</th>\n",
       "      <th colspan=\"2\" halign=\"left\">test_recall</th>\n",
       "      <th colspan=\"2\" halign=\"left\">test_f1</th>\n",
       "      <th colspan=\"2\" halign=\"left\">test_balanced_accuracy</th>\n",
       "      <th colspan=\"2\" halign=\"left\">test_roc_auc</th>\n",
       "      <th colspan=\"2\" halign=\"left\">test_average_precision</th>\n",
       "      <th colspan=\"2\" halign=\"left\">n_observations</th>\n",
       "    </tr>\n",
       "    <tr>\n",
       "      <th></th>\n",
       "      <th>mean</th>\n",
       "      <th>std</th>\n",
       "      <th>mean</th>\n",
       "      <th>std</th>\n",
       "      <th>mean</th>\n",
       "      <th>std</th>\n",
       "      <th>mean</th>\n",
       "      <th>std</th>\n",
       "      <th>mean</th>\n",
       "      <th>std</th>\n",
       "      <th>mean</th>\n",
       "      <th>std</th>\n",
       "      <th>mean</th>\n",
       "      <th>std</th>\n",
       "      <th>mean</th>\n",
       "      <th>std</th>\n",
       "      <th>mean</th>\n",
       "      <th>std</th>\n",
       "    </tr>\n",
       "    <tr>\n",
       "      <th>n_features</th>\n",
       "      <th></th>\n",
       "      <th></th>\n",
       "      <th></th>\n",
       "      <th></th>\n",
       "      <th></th>\n",
       "      <th></th>\n",
       "      <th></th>\n",
       "      <th></th>\n",
       "      <th></th>\n",
       "      <th></th>\n",
       "      <th></th>\n",
       "      <th></th>\n",
       "      <th></th>\n",
       "      <th></th>\n",
       "      <th></th>\n",
       "      <th></th>\n",
       "      <th></th>\n",
       "      <th></th>\n",
       "    </tr>\n",
       "  </thead>\n",
       "  <tbody>\n",
       "    <tr>\n",
       "      <th>1</th>\n",
       "      <td>0.004</td>\n",
       "      <td>0.003</td>\n",
       "      <td>0.055</td>\n",
       "      <td>0.017</td>\n",
       "      <td>0.823</td>\n",
       "      <td>0.276</td>\n",
       "      <td>0.136</td>\n",
       "      <td>0.087</td>\n",
       "      <td>0.225</td>\n",
       "      <td>0.128</td>\n",
       "      <td>0.560</td>\n",
       "      <td>0.043</td>\n",
       "      <td>0.856</td>\n",
       "      <td>0.061</td>\n",
       "      <td>0.825</td>\n",
       "      <td>0.087</td>\n",
       "      <td>210.000</td>\n",
       "      <td>0.000</td>\n",
       "    </tr>\n",
       "    <tr>\n",
       "      <th>2</th>\n",
       "      <td>0.006</td>\n",
       "      <td>0.005</td>\n",
       "      <td>0.065</td>\n",
       "      <td>0.022</td>\n",
       "      <td>0.702</td>\n",
       "      <td>0.091</td>\n",
       "      <td>0.605</td>\n",
       "      <td>0.106</td>\n",
       "      <td>0.644</td>\n",
       "      <td>0.080</td>\n",
       "      <td>0.707</td>\n",
       "      <td>0.060</td>\n",
       "      <td>0.788</td>\n",
       "      <td>0.065</td>\n",
       "      <td>0.762</td>\n",
       "      <td>0.084</td>\n",
       "      <td>210.000</td>\n",
       "      <td>0.000</td>\n",
       "    </tr>\n",
       "    <tr>\n",
       "      <th>3</th>\n",
       "      <td>0.004</td>\n",
       "      <td>0.003</td>\n",
       "      <td>0.059</td>\n",
       "      <td>0.023</td>\n",
       "      <td>0.693</td>\n",
       "      <td>0.094</td>\n",
       "      <td>0.601</td>\n",
       "      <td>0.105</td>\n",
       "      <td>0.638</td>\n",
       "      <td>0.081</td>\n",
       "      <td>0.701</td>\n",
       "      <td>0.060</td>\n",
       "      <td>0.782</td>\n",
       "      <td>0.065</td>\n",
       "      <td>0.756</td>\n",
       "      <td>0.084</td>\n",
       "      <td>210.000</td>\n",
       "      <td>0.000</td>\n",
       "    </tr>\n",
       "    <tr>\n",
       "      <th>4</th>\n",
       "      <td>0.005</td>\n",
       "      <td>0.004</td>\n",
       "      <td>0.061</td>\n",
       "      <td>0.025</td>\n",
       "      <td>0.746</td>\n",
       "      <td>0.089</td>\n",
       "      <td>0.640</td>\n",
       "      <td>0.109</td>\n",
       "      <td>0.684</td>\n",
       "      <td>0.083</td>\n",
       "      <td>0.739</td>\n",
       "      <td>0.063</td>\n",
       "      <td>0.807</td>\n",
       "      <td>0.060</td>\n",
       "      <td>0.773</td>\n",
       "      <td>0.083</td>\n",
       "      <td>210.000</td>\n",
       "      <td>0.000</td>\n",
       "    </tr>\n",
       "    <tr>\n",
       "      <th>5</th>\n",
       "      <td>0.004</td>\n",
       "      <td>0.002</td>\n",
       "      <td>0.050</td>\n",
       "      <td>0.015</td>\n",
       "      <td>0.713</td>\n",
       "      <td>0.080</td>\n",
       "      <td>0.681</td>\n",
       "      <td>0.108</td>\n",
       "      <td>0.691</td>\n",
       "      <td>0.075</td>\n",
       "      <td>0.739</td>\n",
       "      <td>0.058</td>\n",
       "      <td>0.811</td>\n",
       "      <td>0.057</td>\n",
       "      <td>0.771</td>\n",
       "      <td>0.083</td>\n",
       "      <td>210.000</td>\n",
       "      <td>0.000</td>\n",
       "    </tr>\n",
       "    <tr>\n",
       "      <th>6</th>\n",
       "      <td>0.004</td>\n",
       "      <td>0.001</td>\n",
       "      <td>0.051</td>\n",
       "      <td>0.015</td>\n",
       "      <td>0.708</td>\n",
       "      <td>0.087</td>\n",
       "      <td>0.673</td>\n",
       "      <td>0.109</td>\n",
       "      <td>0.684</td>\n",
       "      <td>0.077</td>\n",
       "      <td>0.733</td>\n",
       "      <td>0.061</td>\n",
       "      <td>0.810</td>\n",
       "      <td>0.059</td>\n",
       "      <td>0.772</td>\n",
       "      <td>0.085</td>\n",
       "      <td>210.000</td>\n",
       "      <td>0.000</td>\n",
       "    </tr>\n",
       "    <tr>\n",
       "      <th>7</th>\n",
       "      <td>0.005</td>\n",
       "      <td>0.004</td>\n",
       "      <td>0.051</td>\n",
       "      <td>0.012</td>\n",
       "      <td>0.796</td>\n",
       "      <td>0.089</td>\n",
       "      <td>0.804</td>\n",
       "      <td>0.108</td>\n",
       "      <td>0.794</td>\n",
       "      <td>0.071</td>\n",
       "      <td>0.824</td>\n",
       "      <td>0.061</td>\n",
       "      <td>0.894</td>\n",
       "      <td>0.048</td>\n",
       "      <td>0.868</td>\n",
       "      <td>0.056</td>\n",
       "      <td>210.000</td>\n",
       "      <td>0.000</td>\n",
       "    </tr>\n",
       "    <tr>\n",
       "      <th>8</th>\n",
       "      <td>0.007</td>\n",
       "      <td>0.007</td>\n",
       "      <td>0.083</td>\n",
       "      <td>0.030</td>\n",
       "      <td>0.802</td>\n",
       "      <td>0.081</td>\n",
       "      <td>0.820</td>\n",
       "      <td>0.096</td>\n",
       "      <td>0.807</td>\n",
       "      <td>0.068</td>\n",
       "      <td>0.835</td>\n",
       "      <td>0.058</td>\n",
       "      <td>0.909</td>\n",
       "      <td>0.048</td>\n",
       "      <td>0.895</td>\n",
       "      <td>0.052</td>\n",
       "      <td>210.000</td>\n",
       "      <td>0.000</td>\n",
       "    </tr>\n",
       "    <tr>\n",
       "      <th>9</th>\n",
       "      <td>0.004</td>\n",
       "      <td>0.002</td>\n",
       "      <td>0.059</td>\n",
       "      <td>0.019</td>\n",
       "      <td>0.801</td>\n",
       "      <td>0.077</td>\n",
       "      <td>0.821</td>\n",
       "      <td>0.096</td>\n",
       "      <td>0.807</td>\n",
       "      <td>0.065</td>\n",
       "      <td>0.835</td>\n",
       "      <td>0.057</td>\n",
       "      <td>0.908</td>\n",
       "      <td>0.048</td>\n",
       "      <td>0.894</td>\n",
       "      <td>0.053</td>\n",
       "      <td>210.000</td>\n",
       "      <td>0.000</td>\n",
       "    </tr>\n",
       "    <tr>\n",
       "      <th>10</th>\n",
       "      <td>0.006</td>\n",
       "      <td>0.005</td>\n",
       "      <td>0.065</td>\n",
       "      <td>0.022</td>\n",
       "      <td>0.794</td>\n",
       "      <td>0.080</td>\n",
       "      <td>0.836</td>\n",
       "      <td>0.093</td>\n",
       "      <td>0.811</td>\n",
       "      <td>0.068</td>\n",
       "      <td>0.837</td>\n",
       "      <td>0.060</td>\n",
       "      <td>0.906</td>\n",
       "      <td>0.049</td>\n",
       "      <td>0.895</td>\n",
       "      <td>0.051</td>\n",
       "      <td>210.000</td>\n",
       "      <td>0.000</td>\n",
       "    </tr>\n",
       "    <tr>\n",
       "      <th>11</th>\n",
       "      <td>0.005</td>\n",
       "      <td>0.004</td>\n",
       "      <td>0.065</td>\n",
       "      <td>0.022</td>\n",
       "      <td>0.798</td>\n",
       "      <td>0.088</td>\n",
       "      <td>0.820</td>\n",
       "      <td>0.102</td>\n",
       "      <td>0.805</td>\n",
       "      <td>0.076</td>\n",
       "      <td>0.833</td>\n",
       "      <td>0.066</td>\n",
       "      <td>0.905</td>\n",
       "      <td>0.050</td>\n",
       "      <td>0.892</td>\n",
       "      <td>0.051</td>\n",
       "      <td>210.000</td>\n",
       "      <td>0.000</td>\n",
       "    </tr>\n",
       "    <tr>\n",
       "      <th>12</th>\n",
       "      <td>0.006</td>\n",
       "      <td>0.005</td>\n",
       "      <td>0.076</td>\n",
       "      <td>0.030</td>\n",
       "      <td>0.798</td>\n",
       "      <td>0.088</td>\n",
       "      <td>0.820</td>\n",
       "      <td>0.104</td>\n",
       "      <td>0.805</td>\n",
       "      <td>0.076</td>\n",
       "      <td>0.833</td>\n",
       "      <td>0.066</td>\n",
       "      <td>0.902</td>\n",
       "      <td>0.051</td>\n",
       "      <td>0.889</td>\n",
       "      <td>0.053</td>\n",
       "      <td>210.000</td>\n",
       "      <td>0.000</td>\n",
       "    </tr>\n",
       "    <tr>\n",
       "      <th>13</th>\n",
       "      <td>0.005</td>\n",
       "      <td>0.003</td>\n",
       "      <td>0.057</td>\n",
       "      <td>0.019</td>\n",
       "      <td>0.800</td>\n",
       "      <td>0.073</td>\n",
       "      <td>0.823</td>\n",
       "      <td>0.095</td>\n",
       "      <td>0.807</td>\n",
       "      <td>0.064</td>\n",
       "      <td>0.835</td>\n",
       "      <td>0.055</td>\n",
       "      <td>0.905</td>\n",
       "      <td>0.050</td>\n",
       "      <td>0.891</td>\n",
       "      <td>0.056</td>\n",
       "      <td>210.000</td>\n",
       "      <td>0.000</td>\n",
       "    </tr>\n",
       "    <tr>\n",
       "      <th>14</th>\n",
       "      <td>0.006</td>\n",
       "      <td>0.005</td>\n",
       "      <td>0.056</td>\n",
       "      <td>0.021</td>\n",
       "      <td>0.828</td>\n",
       "      <td>0.081</td>\n",
       "      <td>0.837</td>\n",
       "      <td>0.096</td>\n",
       "      <td>0.828</td>\n",
       "      <td>0.065</td>\n",
       "      <td>0.853</td>\n",
       "      <td>0.056</td>\n",
       "      <td>0.914</td>\n",
       "      <td>0.047</td>\n",
       "      <td>0.901</td>\n",
       "      <td>0.052</td>\n",
       "      <td>210.000</td>\n",
       "      <td>0.000</td>\n",
       "    </tr>\n",
       "    <tr>\n",
       "      <th>15</th>\n",
       "      <td>0.004</td>\n",
       "      <td>0.002</td>\n",
       "      <td>0.051</td>\n",
       "      <td>0.015</td>\n",
       "      <td>0.817</td>\n",
       "      <td>0.091</td>\n",
       "      <td>0.824</td>\n",
       "      <td>0.094</td>\n",
       "      <td>0.817</td>\n",
       "      <td>0.073</td>\n",
       "      <td>0.843</td>\n",
       "      <td>0.064</td>\n",
       "      <td>0.915</td>\n",
       "      <td>0.048</td>\n",
       "      <td>0.902</td>\n",
       "      <td>0.052</td>\n",
       "      <td>210.000</td>\n",
       "      <td>0.000</td>\n",
       "    </tr>\n",
       "  </tbody>\n",
       "</table>\n",
       "</div>"
      ],
      "text/plain": [
       "           fit_time       score_time       test_precision       test_recall  \\\n",
       "               mean   std       mean   std           mean   std        mean   \n",
       "n_features                                                                    \n",
       "1             0.004 0.003      0.055 0.017          0.823 0.276       0.136   \n",
       "2             0.006 0.005      0.065 0.022          0.702 0.091       0.605   \n",
       "3             0.004 0.003      0.059 0.023          0.693 0.094       0.601   \n",
       "4             0.005 0.004      0.061 0.025          0.746 0.089       0.640   \n",
       "5             0.004 0.002      0.050 0.015          0.713 0.080       0.681   \n",
       "6             0.004 0.001      0.051 0.015          0.708 0.087       0.673   \n",
       "7             0.005 0.004      0.051 0.012          0.796 0.089       0.804   \n",
       "8             0.007 0.007      0.083 0.030          0.802 0.081       0.820   \n",
       "9             0.004 0.002      0.059 0.019          0.801 0.077       0.821   \n",
       "10            0.006 0.005      0.065 0.022          0.794 0.080       0.836   \n",
       "11            0.005 0.004      0.065 0.022          0.798 0.088       0.820   \n",
       "12            0.006 0.005      0.076 0.030          0.798 0.088       0.820   \n",
       "13            0.005 0.003      0.057 0.019          0.800 0.073       0.823   \n",
       "14            0.006 0.005      0.056 0.021          0.828 0.081       0.837   \n",
       "15            0.004 0.002      0.051 0.015          0.817 0.091       0.824   \n",
       "\n",
       "                 test_f1       test_balanced_accuracy       test_roc_auc  \\\n",
       "             std    mean   std                   mean   std         mean   \n",
       "n_features                                                                 \n",
       "1          0.087   0.225 0.128                  0.560 0.043        0.856   \n",
       "2          0.106   0.644 0.080                  0.707 0.060        0.788   \n",
       "3          0.105   0.638 0.081                  0.701 0.060        0.782   \n",
       "4          0.109   0.684 0.083                  0.739 0.063        0.807   \n",
       "5          0.108   0.691 0.075                  0.739 0.058        0.811   \n",
       "6          0.109   0.684 0.077                  0.733 0.061        0.810   \n",
       "7          0.108   0.794 0.071                  0.824 0.061        0.894   \n",
       "8          0.096   0.807 0.068                  0.835 0.058        0.909   \n",
       "9          0.096   0.807 0.065                  0.835 0.057        0.908   \n",
       "10         0.093   0.811 0.068                  0.837 0.060        0.906   \n",
       "11         0.102   0.805 0.076                  0.833 0.066        0.905   \n",
       "12         0.104   0.805 0.076                  0.833 0.066        0.902   \n",
       "13         0.095   0.807 0.064                  0.835 0.055        0.905   \n",
       "14         0.096   0.828 0.065                  0.853 0.056        0.914   \n",
       "15         0.094   0.817 0.073                  0.843 0.064        0.915   \n",
       "\n",
       "                 test_average_precision       n_observations        \n",
       "             std                   mean   std           mean   std  \n",
       "n_features                                                          \n",
       "1          0.061                  0.825 0.087        210.000 0.000  \n",
       "2          0.065                  0.762 0.084        210.000 0.000  \n",
       "3          0.065                  0.756 0.084        210.000 0.000  \n",
       "4          0.060                  0.773 0.083        210.000 0.000  \n",
       "5          0.057                  0.771 0.083        210.000 0.000  \n",
       "6          0.059                  0.772 0.085        210.000 0.000  \n",
       "7          0.048                  0.868 0.056        210.000 0.000  \n",
       "8          0.048                  0.895 0.052        210.000 0.000  \n",
       "9          0.048                  0.894 0.053        210.000 0.000  \n",
       "10         0.049                  0.895 0.051        210.000 0.000  \n",
       "11         0.050                  0.892 0.051        210.000 0.000  \n",
       "12         0.051                  0.889 0.053        210.000 0.000  \n",
       "13         0.050                  0.891 0.056        210.000 0.000  \n",
       "14         0.047                  0.901 0.052        210.000 0.000  \n",
       "15         0.048                  0.902 0.052        210.000 0.000  "
      ]
     },
     "execution_count": 18,
     "metadata": {},
     "output_type": "execute_result"
    }
   ],
   "source": [
    "cv_feat_ald = njab.sklearn.find_n_best_features(X=ald_study, y=target, name=args.target,\n",
    "                                                groups=target_to_group)\n",
    "cv_feat_ald = (cv_feat_ald\n",
    "               .drop('test_case', axis=1)\n",
    "               .groupby('n_features')\n",
    "               .agg(['mean', 'std']))\n",
    "cv_feat_ald"
   ]
  },
  {
   "cell_type": "code",
   "execution_count": 19,
   "id": "988dea31",
   "metadata": {
    "execution": {
     "iopub.execute_input": "2024-05-27T12:10:21.049431Z",
     "iopub.status.busy": "2024-05-27T12:10:21.049121Z",
     "iopub.status.idle": "2024-05-27T12:12:44.848191Z",
     "shell.execute_reply": "2024-05-27T12:12:44.847340Z"
    },
    "papermill": {
     "duration": 143.827425,
     "end_time": "2024-05-27T12:12:44.850237",
     "exception": false,
     "start_time": "2024-05-27T12:10:21.022812",
     "status": "completed"
    },
    "tags": []
   },
   "outputs": [
    {
     "name": "stderr",
     "output_type": "stream",
     "text": [
      "\r",
      "  0%|          | 0/1 [00:00<?, ?it/s]"
     ]
    },
    {
     "name": "stderr",
     "output_type": "stream",
     "text": [
      "\r",
      "100%|██████████| 1/1 [00:00<00:00, 433.61it/s]"
     ]
    },
    {
     "name": "stderr",
     "output_type": "stream",
     "text": [
      "\n"
     ]
    },
    {
     "name": "stderr",
     "output_type": "stream",
     "text": [
      "\r",
      "  0%|          | 0/2 [00:00<?, ?it/s]"
     ]
    },
    {
     "name": "stderr",
     "output_type": "stream",
     "text": [
      "\r",
      "100%|██████████| 2/2 [00:00<00:00,  4.40it/s]"
     ]
    },
    {
     "name": "stderr",
     "output_type": "stream",
     "text": [
      "\r",
      "100%|██████████| 2/2 [00:00<00:00,  4.28it/s]"
     ]
    },
    {
     "name": "stderr",
     "output_type": "stream",
     "text": [
      "\n"
     ]
    },
    {
     "name": "stderr",
     "output_type": "stream",
     "text": [
      "\r",
      "  0%|          | 0/3 [00:00<?, ?it/s]"
     ]
    },
    {
     "name": "stderr",
     "output_type": "stream",
     "text": [
      "\r",
      " 67%|██████▋   | 2/3 [00:00<00:00,  4.71it/s]"
     ]
    },
    {
     "name": "stderr",
     "output_type": "stream",
     "text": [
      "\r",
      "100%|██████████| 3/3 [00:00<00:00,  3.30it/s]"
     ]
    },
    {
     "name": "stderr",
     "output_type": "stream",
     "text": [
      "\r",
      "100%|██████████| 3/3 [00:00<00:00,  3.50it/s]"
     ]
    },
    {
     "name": "stderr",
     "output_type": "stream",
     "text": [
      "\n"
     ]
    },
    {
     "name": "stderr",
     "output_type": "stream",
     "text": [
      "\r",
      "  0%|          | 0/4 [00:00<?, ?it/s]"
     ]
    },
    {
     "name": "stderr",
     "output_type": "stream",
     "text": [
      "\r",
      " 50%|█████     | 2/4 [00:00<00:00,  5.77it/s]"
     ]
    },
    {
     "name": "stderr",
     "output_type": "stream",
     "text": [
      "\r",
      " 75%|███████▌  | 3/4 [00:00<00:00,  2.73it/s]"
     ]
    },
    {
     "name": "stderr",
     "output_type": "stream",
     "text": [
      "\r",
      "100%|██████████| 4/4 [00:01<00:00,  2.15it/s]"
     ]
    },
    {
     "name": "stderr",
     "output_type": "stream",
     "text": [
      "\r",
      "100%|██████████| 4/4 [00:01<00:00,  2.48it/s]"
     ]
    },
    {
     "name": "stderr",
     "output_type": "stream",
     "text": [
      "\n"
     ]
    },
    {
     "name": "stderr",
     "output_type": "stream",
     "text": [
      "\r",
      "  0%|          | 0/5 [00:00<?, ?it/s]"
     ]
    },
    {
     "name": "stderr",
     "output_type": "stream",
     "text": [
      "\r",
      " 40%|████      | 2/5 [00:00<00:00,  4.85it/s]"
     ]
    },
    {
     "name": "stderr",
     "output_type": "stream",
     "text": [
      "\r",
      " 60%|██████    | 3/5 [00:00<00:00,  2.86it/s]"
     ]
    },
    {
     "name": "stderr",
     "output_type": "stream",
     "text": [
      "\r",
      " 80%|████████  | 4/5 [00:01<00:00,  2.27it/s]"
     ]
    },
    {
     "name": "stderr",
     "output_type": "stream",
     "text": [
      "\r",
      "100%|██████████| 5/5 [00:02<00:00,  2.06it/s]"
     ]
    },
    {
     "name": "stderr",
     "output_type": "stream",
     "text": [
      "\r",
      "100%|██████████| 5/5 [00:02<00:00,  2.34it/s]"
     ]
    },
    {
     "name": "stderr",
     "output_type": "stream",
     "text": [
      "\n"
     ]
    },
    {
     "name": "stderr",
     "output_type": "stream",
     "text": [
      "\r",
      "  0%|          | 0/6 [00:00<?, ?it/s]"
     ]
    },
    {
     "name": "stderr",
     "output_type": "stream",
     "text": [
      "\r",
      " 33%|███▎      | 2/6 [00:00<00:01,  3.06it/s]"
     ]
    },
    {
     "name": "stderr",
     "output_type": "stream",
     "text": [
      "\r",
      " 50%|█████     | 3/6 [00:01<00:01,  2.44it/s]"
     ]
    },
    {
     "name": "stderr",
     "output_type": "stream",
     "text": [
      "\r",
      " 67%|██████▋   | 4/6 [00:01<00:00,  2.18it/s]"
     ]
    },
    {
     "name": "stderr",
     "output_type": "stream",
     "text": [
      "\r",
      " 83%|████████▎ | 5/6 [00:02<00:00,  2.11it/s]"
     ]
    },
    {
     "name": "stderr",
     "output_type": "stream",
     "text": [
      "\r",
      "100%|██████████| 6/6 [00:02<00:00,  2.02it/s]"
     ]
    },
    {
     "name": "stderr",
     "output_type": "stream",
     "text": [
      "\r",
      "100%|██████████| 6/6 [00:02<00:00,  2.17it/s]"
     ]
    },
    {
     "name": "stderr",
     "output_type": "stream",
     "text": [
      "\n"
     ]
    },
    {
     "name": "stderr",
     "output_type": "stream",
     "text": [
      "\r",
      "  0%|          | 0/7 [00:00<?, ?it/s]"
     ]
    },
    {
     "name": "stderr",
     "output_type": "stream",
     "text": [
      "\r",
      " 29%|██▊       | 2/7 [00:00<00:01,  2.86it/s]"
     ]
    },
    {
     "name": "stderr",
     "output_type": "stream",
     "text": [
      "\r",
      " 43%|████▎     | 3/7 [00:01<00:01,  2.34it/s]"
     ]
    },
    {
     "name": "stderr",
     "output_type": "stream",
     "text": [
      "\r",
      " 57%|█████▋    | 4/7 [00:01<00:01,  1.91it/s]"
     ]
    },
    {
     "name": "stderr",
     "output_type": "stream",
     "text": [
      "\r",
      " 71%|███████▏  | 5/7 [00:02<00:01,  1.96it/s]"
     ]
    },
    {
     "name": "stderr",
     "output_type": "stream",
     "text": [
      "\r",
      " 86%|████████▌ | 6/7 [00:02<00:00,  2.03it/s]"
     ]
    },
    {
     "name": "stderr",
     "output_type": "stream",
     "text": [
      "\r",
      "100%|██████████| 7/7 [00:03<00:00,  2.07it/s]"
     ]
    },
    {
     "name": "stderr",
     "output_type": "stream",
     "text": [
      "\r",
      "100%|██████████| 7/7 [00:03<00:00,  2.10it/s]"
     ]
    },
    {
     "name": "stderr",
     "output_type": "stream",
     "text": [
      "\n"
     ]
    },
    {
     "name": "stderr",
     "output_type": "stream",
     "text": [
      "\r",
      "  0%|          | 0/8 [00:00<?, ?it/s]"
     ]
    },
    {
     "name": "stderr",
     "output_type": "stream",
     "text": [
      "\r",
      " 25%|██▌       | 2/8 [00:00<00:01,  3.85it/s]"
     ]
    },
    {
     "name": "stderr",
     "output_type": "stream",
     "text": [
      "\r",
      " 38%|███▊      | 3/8 [00:00<00:01,  3.19it/s]"
     ]
    },
    {
     "name": "stderr",
     "output_type": "stream",
     "text": [
      "\r",
      " 50%|█████     | 4/8 [00:01<00:01,  2.66it/s]"
     ]
    },
    {
     "name": "stderr",
     "output_type": "stream",
     "text": [
      "\r",
      " 62%|██████▎   | 5/8 [00:01<00:01,  2.51it/s]"
     ]
    },
    {
     "name": "stderr",
     "output_type": "stream",
     "text": [
      "\r",
      " 75%|███████▌  | 6/8 [00:02<00:00,  2.43it/s]"
     ]
    },
    {
     "name": "stderr",
     "output_type": "stream",
     "text": [
      "\r",
      " 88%|████████▊ | 7/8 [00:02<00:00,  2.23it/s]"
     ]
    },
    {
     "name": "stderr",
     "output_type": "stream",
     "text": [
      "\r",
      "100%|██████████| 8/8 [00:03<00:00,  2.00it/s]"
     ]
    },
    {
     "name": "stderr",
     "output_type": "stream",
     "text": [
      "\r",
      "100%|██████████| 8/8 [00:03<00:00,  2.35it/s]"
     ]
    },
    {
     "name": "stderr",
     "output_type": "stream",
     "text": [
      "\n"
     ]
    },
    {
     "name": "stderr",
     "output_type": "stream",
     "text": [
      "\r",
      "  0%|          | 0/9 [00:00<?, ?it/s]"
     ]
    },
    {
     "name": "stderr",
     "output_type": "stream",
     "text": [
      "\r",
      " 22%|██▏       | 2/9 [00:00<00:02,  3.37it/s]"
     ]
    },
    {
     "name": "stderr",
     "output_type": "stream",
     "text": [
      "\r",
      " 33%|███▎      | 3/9 [00:01<00:02,  2.26it/s]"
     ]
    },
    {
     "name": "stderr",
     "output_type": "stream",
     "text": [
      "\r",
      " 44%|████▍     | 4/9 [00:01<00:02,  2.07it/s]"
     ]
    },
    {
     "name": "stderr",
     "output_type": "stream",
     "text": [
      "\r",
      " 56%|█████▌    | 5/9 [00:02<00:01,  2.09it/s]"
     ]
    },
    {
     "name": "stderr",
     "output_type": "stream",
     "text": [
      "\r",
      " 67%|██████▋   | 6/9 [00:02<00:01,  2.16it/s]"
     ]
    },
    {
     "name": "stderr",
     "output_type": "stream",
     "text": [
      "\r",
      " 78%|███████▊  | 7/9 [00:03<00:00,  2.21it/s]"
     ]
    },
    {
     "name": "stderr",
     "output_type": "stream",
     "text": [
      "\r",
      " 89%|████████▉ | 8/9 [00:03<00:00,  2.26it/s]"
     ]
    },
    {
     "name": "stderr",
     "output_type": "stream",
     "text": [
      "\r",
      "100%|██████████| 9/9 [00:03<00:00,  2.45it/s]"
     ]
    },
    {
     "name": "stderr",
     "output_type": "stream",
     "text": [
      "\r",
      "100%|██████████| 9/9 [00:03<00:00,  2.32it/s]"
     ]
    },
    {
     "name": "stderr",
     "output_type": "stream",
     "text": [
      "\n"
     ]
    },
    {
     "name": "stderr",
     "output_type": "stream",
     "text": [
      "\r",
      "  0%|          | 0/10 [00:00<?, ?it/s]"
     ]
    },
    {
     "name": "stderr",
     "output_type": "stream",
     "text": [
      "\r",
      " 20%|██        | 2/10 [00:00<00:01,  4.97it/s]"
     ]
    },
    {
     "name": "stderr",
     "output_type": "stream",
     "text": [
      "\r",
      " 30%|███       | 3/10 [00:00<00:01,  3.56it/s]"
     ]
    },
    {
     "name": "stderr",
     "output_type": "stream",
     "text": [
      "\r",
      " 40%|████      | 4/10 [00:01<00:02,  2.74it/s]"
     ]
    },
    {
     "name": "stderr",
     "output_type": "stream",
     "text": [
      "\r",
      " 50%|█████     | 5/10 [00:01<00:01,  2.73it/s]"
     ]
    },
    {
     "name": "stderr",
     "output_type": "stream",
     "text": [
      "\r",
      " 60%|██████    | 6/10 [00:02<00:01,  2.74it/s]"
     ]
    },
    {
     "name": "stderr",
     "output_type": "stream",
     "text": [
      "\r",
      " 70%|███████   | 7/10 [00:02<00:01,  2.16it/s]"
     ]
    },
    {
     "name": "stderr",
     "output_type": "stream",
     "text": [
      "\r",
      " 80%|████████  | 8/10 [00:03<00:00,  2.01it/s]"
     ]
    },
    {
     "name": "stderr",
     "output_type": "stream",
     "text": [
      "\r",
      " 90%|█████████ | 9/10 [00:03<00:00,  1.92it/s]"
     ]
    },
    {
     "name": "stderr",
     "output_type": "stream",
     "text": [
      "\r",
      "100%|██████████| 10/10 [00:04<00:00,  1.95it/s]"
     ]
    },
    {
     "name": "stderr",
     "output_type": "stream",
     "text": [
      "\r",
      "100%|██████████| 10/10 [00:04<00:00,  2.30it/s]"
     ]
    },
    {
     "name": "stderr",
     "output_type": "stream",
     "text": [
      "\n"
     ]
    },
    {
     "name": "stderr",
     "output_type": "stream",
     "text": [
      "\r",
      "  0%|          | 0/11 [00:00<?, ?it/s]"
     ]
    },
    {
     "name": "stderr",
     "output_type": "stream",
     "text": [
      "\r",
      " 18%|█▊        | 2/11 [00:00<00:03,  2.88it/s]"
     ]
    },
    {
     "name": "stderr",
     "output_type": "stream",
     "text": [
      "\r",
      " 27%|██▋       | 3/11 [00:01<00:03,  2.30it/s]"
     ]
    },
    {
     "name": "stderr",
     "output_type": "stream",
     "text": [
      "\r",
      " 36%|███▋      | 4/11 [00:01<00:03,  2.29it/s]"
     ]
    },
    {
     "name": "stderr",
     "output_type": "stream",
     "text": [
      "\r",
      " 45%|████▌     | 5/11 [00:02<00:02,  2.51it/s]"
     ]
    },
    {
     "name": "stderr",
     "output_type": "stream",
     "text": [
      "\r",
      " 55%|█████▍    | 6/11 [00:02<00:02,  2.48it/s]"
     ]
    },
    {
     "name": "stderr",
     "output_type": "stream",
     "text": [
      "\r",
      " 64%|██████▎   | 7/11 [00:02<00:01,  2.68it/s]"
     ]
    },
    {
     "name": "stderr",
     "output_type": "stream",
     "text": [
      "\r",
      " 73%|███████▎  | 8/11 [00:03<00:01,  2.76it/s]"
     ]
    },
    {
     "name": "stderr",
     "output_type": "stream",
     "text": [
      "\r",
      " 82%|████████▏ | 9/11 [00:03<00:00,  2.86it/s]"
     ]
    },
    {
     "name": "stderr",
     "output_type": "stream",
     "text": [
      "\r",
      " 91%|█████████ | 10/11 [00:03<00:00,  2.93it/s]"
     ]
    },
    {
     "name": "stderr",
     "output_type": "stream",
     "text": [
      "\r",
      "100%|██████████| 11/11 [00:04<00:00,  3.05it/s]"
     ]
    },
    {
     "name": "stderr",
     "output_type": "stream",
     "text": [
      "\r",
      "100%|██████████| 11/11 [00:04<00:00,  2.73it/s]"
     ]
    },
    {
     "name": "stderr",
     "output_type": "stream",
     "text": [
      "\n"
     ]
    },
    {
     "name": "stderr",
     "output_type": "stream",
     "text": [
      "\r",
      "  0%|          | 0/12 [00:00<?, ?it/s]"
     ]
    },
    {
     "name": "stderr",
     "output_type": "stream",
     "text": [
      "\r",
      " 17%|█▋        | 2/12 [00:00<00:01,  5.65it/s]"
     ]
    },
    {
     "name": "stderr",
     "output_type": "stream",
     "text": [
      "\r",
      " 25%|██▌       | 3/12 [00:00<00:02,  4.04it/s]"
     ]
    },
    {
     "name": "stderr",
     "output_type": "stream",
     "text": [
      "\r",
      " 33%|███▎      | 4/12 [00:01<00:02,  3.53it/s]"
     ]
    },
    {
     "name": "stderr",
     "output_type": "stream",
     "text": [
      "\r",
      " 42%|████▏     | 5/12 [00:01<00:02,  3.20it/s]"
     ]
    },
    {
     "name": "stderr",
     "output_type": "stream",
     "text": [
      "\r",
      " 50%|█████     | 6/12 [00:01<00:01,  3.12it/s]"
     ]
    },
    {
     "name": "stderr",
     "output_type": "stream",
     "text": [
      "\r",
      " 58%|█████▊    | 7/12 [00:02<00:01,  2.94it/s]"
     ]
    },
    {
     "name": "stderr",
     "output_type": "stream",
     "text": [
      "\r",
      " 67%|██████▋   | 8/12 [00:02<00:01,  2.98it/s]"
     ]
    },
    {
     "name": "stderr",
     "output_type": "stream",
     "text": [
      "\r",
      " 75%|███████▌  | 9/12 [00:02<00:01,  2.93it/s]"
     ]
    },
    {
     "name": "stderr",
     "output_type": "stream",
     "text": [
      "\r",
      " 83%|████████▎ | 10/12 [00:03<00:00,  2.77it/s]"
     ]
    },
    {
     "name": "stderr",
     "output_type": "stream",
     "text": [
      "\r",
      " 92%|█████████▏| 11/12 [00:03<00:00,  2.12it/s]"
     ]
    },
    {
     "name": "stderr",
     "output_type": "stream",
     "text": [
      "\r",
      "100%|██████████| 12/12 [00:04<00:00,  1.75it/s]"
     ]
    },
    {
     "name": "stderr",
     "output_type": "stream",
     "text": [
      "\r",
      "100%|██████████| 12/12 [00:04<00:00,  2.53it/s]"
     ]
    },
    {
     "name": "stderr",
     "output_type": "stream",
     "text": [
      "\n"
     ]
    },
    {
     "name": "stderr",
     "output_type": "stream",
     "text": [
      "\r",
      "  0%|          | 0/13 [00:00<?, ?it/s]"
     ]
    },
    {
     "name": "stderr",
     "output_type": "stream",
     "text": [
      "\r",
      " 15%|█▌        | 2/13 [00:00<00:02,  5.03it/s]"
     ]
    },
    {
     "name": "stderr",
     "output_type": "stream",
     "text": [
      "\r",
      " 23%|██▎       | 3/13 [00:00<00:02,  3.77it/s]"
     ]
    },
    {
     "name": "stderr",
     "output_type": "stream",
     "text": [
      "\r",
      " 31%|███       | 4/13 [00:01<00:02,  3.37it/s]"
     ]
    },
    {
     "name": "stderr",
     "output_type": "stream",
     "text": [
      "\r",
      " 38%|███▊      | 5/13 [00:01<00:02,  3.24it/s]"
     ]
    },
    {
     "name": "stderr",
     "output_type": "stream",
     "text": [
      "\r",
      " 46%|████▌     | 6/13 [00:01<00:02,  2.54it/s]"
     ]
    },
    {
     "name": "stderr",
     "output_type": "stream",
     "text": [
      "\r",
      " 54%|█████▍    | 7/13 [00:02<00:02,  2.18it/s]"
     ]
    },
    {
     "name": "stderr",
     "output_type": "stream",
     "text": [
      "\r",
      " 62%|██████▏   | 8/13 [00:03<00:02,  1.98it/s]"
     ]
    },
    {
     "name": "stderr",
     "output_type": "stream",
     "text": [
      "\r",
      " 69%|██████▉   | 9/13 [00:03<00:02,  1.79it/s]"
     ]
    },
    {
     "name": "stderr",
     "output_type": "stream",
     "text": [
      "\r",
      " 77%|███████▋  | 10/13 [00:04<00:01,  1.78it/s]"
     ]
    },
    {
     "name": "stderr",
     "output_type": "stream",
     "text": [
      "\r",
      " 85%|████████▍ | 11/13 [00:05<00:01,  1.75it/s]"
     ]
    },
    {
     "name": "stderr",
     "output_type": "stream",
     "text": [
      "\r",
      " 92%|█████████▏| 12/13 [00:05<00:00,  1.84it/s]"
     ]
    },
    {
     "name": "stderr",
     "output_type": "stream",
     "text": [
      "\r",
      "100%|██████████| 13/13 [00:05<00:00,  1.96it/s]"
     ]
    },
    {
     "name": "stderr",
     "output_type": "stream",
     "text": [
      "\r",
      "100%|██████████| 13/13 [00:05<00:00,  2.18it/s]"
     ]
    },
    {
     "name": "stderr",
     "output_type": "stream",
     "text": [
      "\n"
     ]
    },
    {
     "name": "stderr",
     "output_type": "stream",
     "text": [
      "\r",
      "  0%|          | 0/14 [00:00<?, ?it/s]"
     ]
    },
    {
     "name": "stderr",
     "output_type": "stream",
     "text": [
      "\r",
      " 14%|█▍        | 2/14 [00:00<00:03,  3.46it/s]"
     ]
    },
    {
     "name": "stderr",
     "output_type": "stream",
     "text": [
      "\r",
      " 21%|██▏       | 3/14 [00:01<00:04,  2.45it/s]"
     ]
    },
    {
     "name": "stderr",
     "output_type": "stream",
     "text": [
      "\r",
      " 29%|██▊       | 4/14 [00:01<00:04,  2.34it/s]"
     ]
    },
    {
     "name": "stderr",
     "output_type": "stream",
     "text": [
      "\r",
      " 36%|███▌      | 5/14 [00:02<00:03,  2.31it/s]"
     ]
    },
    {
     "name": "stderr",
     "output_type": "stream",
     "text": [
      "\r",
      " 43%|████▎     | 6/14 [00:02<00:03,  2.37it/s]"
     ]
    },
    {
     "name": "stderr",
     "output_type": "stream",
     "text": [
      "\r",
      " 50%|█████     | 7/14 [00:02<00:02,  2.44it/s]"
     ]
    },
    {
     "name": "stderr",
     "output_type": "stream",
     "text": [
      "\r",
      " 57%|█████▋    | 8/14 [00:03<00:02,  2.39it/s]"
     ]
    },
    {
     "name": "stderr",
     "output_type": "stream",
     "text": [
      "\r",
      " 64%|██████▍   | 9/14 [00:03<00:02,  2.09it/s]"
     ]
    },
    {
     "name": "stderr",
     "output_type": "stream",
     "text": [
      "\r",
      " 71%|███████▏  | 10/14 [00:04<00:02,  1.90it/s]"
     ]
    },
    {
     "name": "stderr",
     "output_type": "stream",
     "text": [
      "\r",
      " 79%|███████▊  | 11/14 [00:05<00:01,  1.78it/s]"
     ]
    },
    {
     "name": "stderr",
     "output_type": "stream",
     "text": [
      "\r",
      " 86%|████████▌ | 12/14 [00:05<00:01,  1.81it/s]"
     ]
    },
    {
     "name": "stderr",
     "output_type": "stream",
     "text": [
      "\r",
      " 93%|█████████▎| 13/14 [00:06<00:00,  1.94it/s]"
     ]
    },
    {
     "name": "stderr",
     "output_type": "stream",
     "text": [
      "\r",
      "100%|██████████| 14/14 [00:06<00:00,  2.06it/s]"
     ]
    },
    {
     "name": "stderr",
     "output_type": "stream",
     "text": [
      "\r",
      "100%|██████████| 14/14 [00:06<00:00,  2.14it/s]"
     ]
    },
    {
     "name": "stderr",
     "output_type": "stream",
     "text": [
      "\n"
     ]
    },
    {
     "name": "stderr",
     "output_type": "stream",
     "text": [
      "\r",
      "  0%|          | 0/15 [00:00<?, ?it/s]"
     ]
    },
    {
     "name": "stderr",
     "output_type": "stream",
     "text": [
      "\r",
      " 13%|█▎        | 2/15 [00:00<00:02,  5.19it/s]"
     ]
    },
    {
     "name": "stderr",
     "output_type": "stream",
     "text": [
      "\r",
      " 20%|██        | 3/15 [00:00<00:03,  3.36it/s]"
     ]
    },
    {
     "name": "stderr",
     "output_type": "stream",
     "text": [
      "\r",
      " 27%|██▋       | 4/15 [00:01<00:03,  2.75it/s]"
     ]
    },
    {
     "name": "stderr",
     "output_type": "stream",
     "text": [
      "\r",
      " 33%|███▎      | 5/15 [00:01<00:03,  2.59it/s]"
     ]
    },
    {
     "name": "stderr",
     "output_type": "stream",
     "text": [
      "\r",
      " 40%|████      | 6/15 [00:02<00:03,  2.46it/s]"
     ]
    },
    {
     "name": "stderr",
     "output_type": "stream",
     "text": [
      "\r",
      " 47%|████▋     | 7/15 [00:02<00:03,  2.42it/s]"
     ]
    },
    {
     "name": "stderr",
     "output_type": "stream",
     "text": [
      "\r",
      " 53%|█████▎    | 8/15 [00:03<00:03,  2.12it/s]"
     ]
    },
    {
     "name": "stderr",
     "output_type": "stream",
     "text": [
      "\r",
      " 60%|██████    | 9/15 [00:03<00:03,  1.99it/s]"
     ]
    },
    {
     "name": "stderr",
     "output_type": "stream",
     "text": [
      "\r",
      " 67%|██████▋   | 10/15 [00:04<00:02,  1.92it/s]"
     ]
    },
    {
     "name": "stderr",
     "output_type": "stream",
     "text": [
      "\r",
      " 73%|███████▎  | 11/15 [00:04<00:02,  1.92it/s]"
     ]
    },
    {
     "name": "stderr",
     "output_type": "stream",
     "text": [
      "\r",
      " 80%|████████  | 12/15 [00:05<00:01,  2.14it/s]"
     ]
    },
    {
     "name": "stderr",
     "output_type": "stream",
     "text": [
      "\r",
      " 87%|████████▋ | 13/15 [00:05<00:00,  2.28it/s]"
     ]
    },
    {
     "name": "stderr",
     "output_type": "stream",
     "text": [
      "\r",
      " 93%|█████████▎| 14/15 [00:05<00:00,  2.44it/s]"
     ]
    },
    {
     "name": "stderr",
     "output_type": "stream",
     "text": [
      "\r",
      "100%|██████████| 15/15 [00:06<00:00,  2.56it/s]"
     ]
    },
    {
     "name": "stderr",
     "output_type": "stream",
     "text": [
      "\r",
      "100%|██████████| 15/15 [00:06<00:00,  2.39it/s]"
     ]
    },
    {
     "name": "stderr",
     "output_type": "stream",
     "text": [
      "\n"
     ]
    },
    {
     "data": {
      "text/html": [
       "<div>\n",
       "<style scoped>\n",
       "    .dataframe tbody tr th:only-of-type {\n",
       "        vertical-align: middle;\n",
       "    }\n",
       "\n",
       "    .dataframe tbody tr th {\n",
       "        vertical-align: top;\n",
       "    }\n",
       "\n",
       "    .dataframe thead tr th {\n",
       "        text-align: left;\n",
       "    }\n",
       "\n",
       "    .dataframe thead tr:last-of-type th {\n",
       "        text-align: right;\n",
       "    }\n",
       "</style>\n",
       "<table border=\"1\" class=\"dataframe\">\n",
       "  <thead>\n",
       "    <tr>\n",
       "      <th></th>\n",
       "      <th colspan=\"2\" halign=\"left\">fit_time</th>\n",
       "      <th colspan=\"2\" halign=\"left\">score_time</th>\n",
       "      <th colspan=\"2\" halign=\"left\">test_precision</th>\n",
       "      <th colspan=\"2\" halign=\"left\">test_recall</th>\n",
       "      <th colspan=\"2\" halign=\"left\">test_f1</th>\n",
       "      <th colspan=\"2\" halign=\"left\">test_balanced_accuracy</th>\n",
       "      <th colspan=\"2\" halign=\"left\">test_roc_auc</th>\n",
       "      <th colspan=\"2\" halign=\"left\">test_average_precision</th>\n",
       "      <th colspan=\"2\" halign=\"left\">n_observations</th>\n",
       "    </tr>\n",
       "    <tr>\n",
       "      <th></th>\n",
       "      <th>mean</th>\n",
       "      <th>std</th>\n",
       "      <th>mean</th>\n",
       "      <th>std</th>\n",
       "      <th>mean</th>\n",
       "      <th>std</th>\n",
       "      <th>mean</th>\n",
       "      <th>std</th>\n",
       "      <th>mean</th>\n",
       "      <th>std</th>\n",
       "      <th>mean</th>\n",
       "      <th>std</th>\n",
       "      <th>mean</th>\n",
       "      <th>std</th>\n",
       "      <th>mean</th>\n",
       "      <th>std</th>\n",
       "      <th>mean</th>\n",
       "      <th>std</th>\n",
       "    </tr>\n",
       "    <tr>\n",
       "      <th>n_features</th>\n",
       "      <th></th>\n",
       "      <th></th>\n",
       "      <th></th>\n",
       "      <th></th>\n",
       "      <th></th>\n",
       "      <th></th>\n",
       "      <th></th>\n",
       "      <th></th>\n",
       "      <th></th>\n",
       "      <th></th>\n",
       "      <th></th>\n",
       "      <th></th>\n",
       "      <th></th>\n",
       "      <th></th>\n",
       "      <th></th>\n",
       "      <th></th>\n",
       "      <th></th>\n",
       "      <th></th>\n",
       "    </tr>\n",
       "  </thead>\n",
       "  <tbody>\n",
       "    <tr>\n",
       "      <th>1</th>\n",
       "      <td>0.007</td>\n",
       "      <td>0.007</td>\n",
       "      <td>0.092</td>\n",
       "      <td>0.033</td>\n",
       "      <td>0.000</td>\n",
       "      <td>0.000</td>\n",
       "      <td>0.000</td>\n",
       "      <td>0.000</td>\n",
       "      <td>0.000</td>\n",
       "      <td>0.000</td>\n",
       "      <td>0.496</td>\n",
       "      <td>0.008</td>\n",
       "      <td>0.849</td>\n",
       "      <td>0.062</td>\n",
       "      <td>0.822</td>\n",
       "      <td>0.086</td>\n",
       "      <td>210.000</td>\n",
       "      <td>0.000</td>\n",
       "    </tr>\n",
       "    <tr>\n",
       "      <th>2</th>\n",
       "      <td>0.005</td>\n",
       "      <td>0.004</td>\n",
       "      <td>0.064</td>\n",
       "      <td>0.022</td>\n",
       "      <td>0.649</td>\n",
       "      <td>0.121</td>\n",
       "      <td>0.463</td>\n",
       "      <td>0.103</td>\n",
       "      <td>0.534</td>\n",
       "      <td>0.093</td>\n",
       "      <td>0.637</td>\n",
       "      <td>0.062</td>\n",
       "      <td>0.722</td>\n",
       "      <td>0.077</td>\n",
       "      <td>0.664</td>\n",
       "      <td>0.098</td>\n",
       "      <td>210.000</td>\n",
       "      <td>0.000</td>\n",
       "    </tr>\n",
       "    <tr>\n",
       "      <th>3</th>\n",
       "      <td>0.005</td>\n",
       "      <td>0.004</td>\n",
       "      <td>0.074</td>\n",
       "      <td>0.033</td>\n",
       "      <td>0.810</td>\n",
       "      <td>0.081</td>\n",
       "      <td>0.687</td>\n",
       "      <td>0.107</td>\n",
       "      <td>0.738</td>\n",
       "      <td>0.082</td>\n",
       "      <td>0.784</td>\n",
       "      <td>0.060</td>\n",
       "      <td>0.868</td>\n",
       "      <td>0.053</td>\n",
       "      <td>0.827</td>\n",
       "      <td>0.074</td>\n",
       "      <td>210.000</td>\n",
       "      <td>0.000</td>\n",
       "    </tr>\n",
       "    <tr>\n",
       "      <th>4</th>\n",
       "      <td>0.007</td>\n",
       "      <td>0.006</td>\n",
       "      <td>0.069</td>\n",
       "      <td>0.029</td>\n",
       "      <td>0.813</td>\n",
       "      <td>0.082</td>\n",
       "      <td>0.689</td>\n",
       "      <td>0.102</td>\n",
       "      <td>0.740</td>\n",
       "      <td>0.076</td>\n",
       "      <td>0.785</td>\n",
       "      <td>0.056</td>\n",
       "      <td>0.867</td>\n",
       "      <td>0.052</td>\n",
       "      <td>0.827</td>\n",
       "      <td>0.072</td>\n",
       "      <td>210.000</td>\n",
       "      <td>0.000</td>\n",
       "    </tr>\n",
       "    <tr>\n",
       "      <th>5</th>\n",
       "      <td>0.005</td>\n",
       "      <td>0.004</td>\n",
       "      <td>0.065</td>\n",
       "      <td>0.023</td>\n",
       "      <td>0.812</td>\n",
       "      <td>0.084</td>\n",
       "      <td>0.685</td>\n",
       "      <td>0.102</td>\n",
       "      <td>0.738</td>\n",
       "      <td>0.079</td>\n",
       "      <td>0.784</td>\n",
       "      <td>0.058</td>\n",
       "      <td>0.863</td>\n",
       "      <td>0.053</td>\n",
       "      <td>0.824</td>\n",
       "      <td>0.073</td>\n",
       "      <td>210.000</td>\n",
       "      <td>0.000</td>\n",
       "    </tr>\n",
       "    <tr>\n",
       "      <th>6</th>\n",
       "      <td>0.005</td>\n",
       "      <td>0.007</td>\n",
       "      <td>0.053</td>\n",
       "      <td>0.019</td>\n",
       "      <td>0.824</td>\n",
       "      <td>0.083</td>\n",
       "      <td>0.783</td>\n",
       "      <td>0.094</td>\n",
       "      <td>0.798</td>\n",
       "      <td>0.065</td>\n",
       "      <td>0.828</td>\n",
       "      <td>0.053</td>\n",
       "      <td>0.901</td>\n",
       "      <td>0.047</td>\n",
       "      <td>0.878</td>\n",
       "      <td>0.063</td>\n",
       "      <td>210.000</td>\n",
       "      <td>0.000</td>\n",
       "    </tr>\n",
       "    <tr>\n",
       "      <th>7</th>\n",
       "      <td>0.005</td>\n",
       "      <td>0.004</td>\n",
       "      <td>0.061</td>\n",
       "      <td>0.023</td>\n",
       "      <td>0.809</td>\n",
       "      <td>0.083</td>\n",
       "      <td>0.797</td>\n",
       "      <td>0.103</td>\n",
       "      <td>0.797</td>\n",
       "      <td>0.064</td>\n",
       "      <td>0.827</td>\n",
       "      <td>0.054</td>\n",
       "      <td>0.904</td>\n",
       "      <td>0.048</td>\n",
       "      <td>0.882</td>\n",
       "      <td>0.061</td>\n",
       "      <td>210.000</td>\n",
       "      <td>0.000</td>\n",
       "    </tr>\n",
       "    <tr>\n",
       "      <th>8</th>\n",
       "      <td>0.005</td>\n",
       "      <td>0.003</td>\n",
       "      <td>0.061</td>\n",
       "      <td>0.025</td>\n",
       "      <td>0.798</td>\n",
       "      <td>0.092</td>\n",
       "      <td>0.784</td>\n",
       "      <td>0.114</td>\n",
       "      <td>0.785</td>\n",
       "      <td>0.078</td>\n",
       "      <td>0.817</td>\n",
       "      <td>0.064</td>\n",
       "      <td>0.902</td>\n",
       "      <td>0.050</td>\n",
       "      <td>0.880</td>\n",
       "      <td>0.063</td>\n",
       "      <td>210.000</td>\n",
       "      <td>0.000</td>\n",
       "    </tr>\n",
       "    <tr>\n",
       "      <th>9</th>\n",
       "      <td>0.005</td>\n",
       "      <td>0.004</td>\n",
       "      <td>0.080</td>\n",
       "      <td>0.036</td>\n",
       "      <td>0.795</td>\n",
       "      <td>0.091</td>\n",
       "      <td>0.784</td>\n",
       "      <td>0.117</td>\n",
       "      <td>0.784</td>\n",
       "      <td>0.081</td>\n",
       "      <td>0.817</td>\n",
       "      <td>0.066</td>\n",
       "      <td>0.901</td>\n",
       "      <td>0.050</td>\n",
       "      <td>0.880</td>\n",
       "      <td>0.062</td>\n",
       "      <td>210.000</td>\n",
       "      <td>0.000</td>\n",
       "    </tr>\n",
       "    <tr>\n",
       "      <th>10</th>\n",
       "      <td>0.006</td>\n",
       "      <td>0.005</td>\n",
       "      <td>0.066</td>\n",
       "      <td>0.022</td>\n",
       "      <td>0.799</td>\n",
       "      <td>0.090</td>\n",
       "      <td>0.786</td>\n",
       "      <td>0.118</td>\n",
       "      <td>0.786</td>\n",
       "      <td>0.080</td>\n",
       "      <td>0.819</td>\n",
       "      <td>0.066</td>\n",
       "      <td>0.898</td>\n",
       "      <td>0.051</td>\n",
       "      <td>0.876</td>\n",
       "      <td>0.064</td>\n",
       "      <td>210.000</td>\n",
       "      <td>0.000</td>\n",
       "    </tr>\n",
       "    <tr>\n",
       "      <th>11</th>\n",
       "      <td>0.007</td>\n",
       "      <td>0.005</td>\n",
       "      <td>0.083</td>\n",
       "      <td>0.030</td>\n",
       "      <td>0.812</td>\n",
       "      <td>0.095</td>\n",
       "      <td>0.772</td>\n",
       "      <td>0.111</td>\n",
       "      <td>0.786</td>\n",
       "      <td>0.082</td>\n",
       "      <td>0.819</td>\n",
       "      <td>0.068</td>\n",
       "      <td>0.912</td>\n",
       "      <td>0.046</td>\n",
       "      <td>0.892</td>\n",
       "      <td>0.056</td>\n",
       "      <td>210.000</td>\n",
       "      <td>0.000</td>\n",
       "    </tr>\n",
       "    <tr>\n",
       "      <th>12</th>\n",
       "      <td>0.007</td>\n",
       "      <td>0.006</td>\n",
       "      <td>0.069</td>\n",
       "      <td>0.030</td>\n",
       "      <td>0.814</td>\n",
       "      <td>0.090</td>\n",
       "      <td>0.768</td>\n",
       "      <td>0.114</td>\n",
       "      <td>0.785</td>\n",
       "      <td>0.078</td>\n",
       "      <td>0.818</td>\n",
       "      <td>0.064</td>\n",
       "      <td>0.909</td>\n",
       "      <td>0.047</td>\n",
       "      <td>0.889</td>\n",
       "      <td>0.057</td>\n",
       "      <td>210.000</td>\n",
       "      <td>0.000</td>\n",
       "    </tr>\n",
       "    <tr>\n",
       "      <th>13</th>\n",
       "      <td>0.004</td>\n",
       "      <td>0.001</td>\n",
       "      <td>0.062</td>\n",
       "      <td>0.022</td>\n",
       "      <td>0.843</td>\n",
       "      <td>0.088</td>\n",
       "      <td>0.789</td>\n",
       "      <td>0.111</td>\n",
       "      <td>0.810</td>\n",
       "      <td>0.079</td>\n",
       "      <td>0.839</td>\n",
       "      <td>0.066</td>\n",
       "      <td>0.921</td>\n",
       "      <td>0.043</td>\n",
       "      <td>0.902</td>\n",
       "      <td>0.051</td>\n",
       "      <td>210.000</td>\n",
       "      <td>0.000</td>\n",
       "    </tr>\n",
       "    <tr>\n",
       "      <th>14</th>\n",
       "      <td>0.005</td>\n",
       "      <td>0.004</td>\n",
       "      <td>0.066</td>\n",
       "      <td>0.027</td>\n",
       "      <td>0.845</td>\n",
       "      <td>0.085</td>\n",
       "      <td>0.790</td>\n",
       "      <td>0.115</td>\n",
       "      <td>0.811</td>\n",
       "      <td>0.079</td>\n",
       "      <td>0.841</td>\n",
       "      <td>0.064</td>\n",
       "      <td>0.920</td>\n",
       "      <td>0.043</td>\n",
       "      <td>0.902</td>\n",
       "      <td>0.051</td>\n",
       "      <td>210.000</td>\n",
       "      <td>0.000</td>\n",
       "    </tr>\n",
       "    <tr>\n",
       "      <th>15</th>\n",
       "      <td>0.007</td>\n",
       "      <td>0.005</td>\n",
       "      <td>0.077</td>\n",
       "      <td>0.029</td>\n",
       "      <td>0.853</td>\n",
       "      <td>0.077</td>\n",
       "      <td>0.802</td>\n",
       "      <td>0.101</td>\n",
       "      <td>0.823</td>\n",
       "      <td>0.071</td>\n",
       "      <td>0.850</td>\n",
       "      <td>0.059</td>\n",
       "      <td>0.924</td>\n",
       "      <td>0.040</td>\n",
       "      <td>0.906</td>\n",
       "      <td>0.050</td>\n",
       "      <td>210.000</td>\n",
       "      <td>0.000</td>\n",
       "    </tr>\n",
       "  </tbody>\n",
       "</table>\n",
       "</div>"
      ],
      "text/plain": [
       "           fit_time       score_time       test_precision       test_recall  \\\n",
       "               mean   std       mean   std           mean   std        mean   \n",
       "n_features                                                                    \n",
       "1             0.007 0.007      0.092 0.033          0.000 0.000       0.000   \n",
       "2             0.005 0.004      0.064 0.022          0.649 0.121       0.463   \n",
       "3             0.005 0.004      0.074 0.033          0.810 0.081       0.687   \n",
       "4             0.007 0.006      0.069 0.029          0.813 0.082       0.689   \n",
       "5             0.005 0.004      0.065 0.023          0.812 0.084       0.685   \n",
       "6             0.005 0.007      0.053 0.019          0.824 0.083       0.783   \n",
       "7             0.005 0.004      0.061 0.023          0.809 0.083       0.797   \n",
       "8             0.005 0.003      0.061 0.025          0.798 0.092       0.784   \n",
       "9             0.005 0.004      0.080 0.036          0.795 0.091       0.784   \n",
       "10            0.006 0.005      0.066 0.022          0.799 0.090       0.786   \n",
       "11            0.007 0.005      0.083 0.030          0.812 0.095       0.772   \n",
       "12            0.007 0.006      0.069 0.030          0.814 0.090       0.768   \n",
       "13            0.004 0.001      0.062 0.022          0.843 0.088       0.789   \n",
       "14            0.005 0.004      0.066 0.027          0.845 0.085       0.790   \n",
       "15            0.007 0.005      0.077 0.029          0.853 0.077       0.802   \n",
       "\n",
       "                 test_f1       test_balanced_accuracy       test_roc_auc  \\\n",
       "             std    mean   std                   mean   std         mean   \n",
       "n_features                                                                 \n",
       "1          0.000   0.000 0.000                  0.496 0.008        0.849   \n",
       "2          0.103   0.534 0.093                  0.637 0.062        0.722   \n",
       "3          0.107   0.738 0.082                  0.784 0.060        0.868   \n",
       "4          0.102   0.740 0.076                  0.785 0.056        0.867   \n",
       "5          0.102   0.738 0.079                  0.784 0.058        0.863   \n",
       "6          0.094   0.798 0.065                  0.828 0.053        0.901   \n",
       "7          0.103   0.797 0.064                  0.827 0.054        0.904   \n",
       "8          0.114   0.785 0.078                  0.817 0.064        0.902   \n",
       "9          0.117   0.784 0.081                  0.817 0.066        0.901   \n",
       "10         0.118   0.786 0.080                  0.819 0.066        0.898   \n",
       "11         0.111   0.786 0.082                  0.819 0.068        0.912   \n",
       "12         0.114   0.785 0.078                  0.818 0.064        0.909   \n",
       "13         0.111   0.810 0.079                  0.839 0.066        0.921   \n",
       "14         0.115   0.811 0.079                  0.841 0.064        0.920   \n",
       "15         0.101   0.823 0.071                  0.850 0.059        0.924   \n",
       "\n",
       "                 test_average_precision       n_observations        \n",
       "             std                   mean   std           mean   std  \n",
       "n_features                                                          \n",
       "1          0.062                  0.822 0.086        210.000 0.000  \n",
       "2          0.077                  0.664 0.098        210.000 0.000  \n",
       "3          0.053                  0.827 0.074        210.000 0.000  \n",
       "4          0.052                  0.827 0.072        210.000 0.000  \n",
       "5          0.053                  0.824 0.073        210.000 0.000  \n",
       "6          0.047                  0.878 0.063        210.000 0.000  \n",
       "7          0.048                  0.882 0.061        210.000 0.000  \n",
       "8          0.050                  0.880 0.063        210.000 0.000  \n",
       "9          0.050                  0.880 0.062        210.000 0.000  \n",
       "10         0.051                  0.876 0.064        210.000 0.000  \n",
       "11         0.046                  0.892 0.056        210.000 0.000  \n",
       "12         0.047                  0.889 0.057        210.000 0.000  \n",
       "13         0.043                  0.902 0.051        210.000 0.000  \n",
       "14         0.043                  0.902 0.051        210.000 0.000  \n",
       "15         0.040                  0.906 0.050        210.000 0.000  "
      ]
     },
     "execution_count": 19,
     "metadata": {},
     "output_type": "execute_result"
    }
   ],
   "source": [
    "cv_feat_all = njab.sklearn.find_n_best_features(X=X, y=target, name=args.target,\n",
    "                                                groups=target_to_group)\n",
    "cv_feat_all = cv_feat_all.drop('test_case', axis=1).groupby('n_features').agg(['mean', 'std'])\n",
    "cv_feat_all"
   ]
  },
  {
   "cell_type": "code",
   "execution_count": 20,
   "id": "811f75d0",
   "metadata": {
    "execution": {
     "iopub.execute_input": "2024-05-27T12:12:44.990505Z",
     "iopub.status.busy": "2024-05-27T12:12:44.989615Z",
     "iopub.status.idle": "2024-05-27T12:13:56.320464Z",
     "shell.execute_reply": "2024-05-27T12:13:56.319566Z"
    },
    "papermill": {
     "duration": 71.434764,
     "end_time": "2024-05-27T12:13:56.322400",
     "exception": false,
     "start_time": "2024-05-27T12:12:44.887636",
     "status": "completed"
    },
    "tags": []
   },
   "outputs": [
    {
     "name": "stderr",
     "output_type": "stream",
     "text": [
      "\r",
      "  0%|          | 0/1 [00:00<?, ?it/s]"
     ]
    },
    {
     "name": "stderr",
     "output_type": "stream",
     "text": [
      "\r",
      "100%|██████████| 1/1 [00:00<00:00, 921.83it/s]"
     ]
    },
    {
     "name": "stderr",
     "output_type": "stream",
     "text": [
      "\n"
     ]
    },
    {
     "name": "stderr",
     "output_type": "stream",
     "text": [
      "\r",
      "  0%|          | 0/2 [00:00<?, ?it/s]"
     ]
    },
    {
     "name": "stderr",
     "output_type": "stream",
     "text": [
      "\r",
      "100%|██████████| 2/2 [00:00<00:00, 23.60it/s]"
     ]
    },
    {
     "name": "stderr",
     "output_type": "stream",
     "text": [
      "\n"
     ]
    },
    {
     "name": "stderr",
     "output_type": "stream",
     "text": [
      "\r",
      "  0%|          | 0/3 [00:00<?, ?it/s]"
     ]
    },
    {
     "name": "stderr",
     "output_type": "stream",
     "text": [
      "\r",
      "100%|██████████| 3/3 [00:00<00:00, 17.91it/s]"
     ]
    },
    {
     "name": "stderr",
     "output_type": "stream",
     "text": [
      "\r",
      "100%|██████████| 3/3 [00:00<00:00, 17.62it/s]"
     ]
    },
    {
     "name": "stderr",
     "output_type": "stream",
     "text": [
      "\n"
     ]
    },
    {
     "name": "stderr",
     "output_type": "stream",
     "text": [
      "\r",
      "  0%|          | 0/4 [00:00<?, ?it/s]"
     ]
    },
    {
     "name": "stderr",
     "output_type": "stream",
     "text": [
      "\r",
      " 75%|███████▌  | 3/4 [00:00<00:00, 22.46it/s]"
     ]
    },
    {
     "name": "stderr",
     "output_type": "stream",
     "text": [
      "\r",
      "100%|██████████| 4/4 [00:00<00:00, 18.30it/s]"
     ]
    },
    {
     "name": "stderr",
     "output_type": "stream",
     "text": [
      "\n"
     ]
    },
    {
     "name": "stderr",
     "output_type": "stream",
     "text": [
      "\r",
      "  0%|          | 0/5 [00:00<?, ?it/s]"
     ]
    },
    {
     "name": "stderr",
     "output_type": "stream",
     "text": [
      "\r",
      " 40%|████      | 2/5 [00:00<00:00, 19.25it/s]"
     ]
    },
    {
     "name": "stderr",
     "output_type": "stream",
     "text": [
      "\r",
      " 80%|████████  | 4/5 [00:00<00:00, 11.76it/s]"
     ]
    },
    {
     "name": "stderr",
     "output_type": "stream",
     "text": [
      "\r",
      "100%|██████████| 5/5 [00:00<00:00, 10.92it/s]"
     ]
    },
    {
     "name": "stderr",
     "output_type": "stream",
     "text": [
      "\n"
     ]
    },
    {
     "name": "stderr",
     "output_type": "stream",
     "text": [
      "\r",
      "  0%|          | 0/6 [00:00<?, ?it/s]"
     ]
    },
    {
     "name": "stderr",
     "output_type": "stream",
     "text": [
      "\r",
      " 50%|█████     | 3/6 [00:00<00:00, 20.83it/s]"
     ]
    },
    {
     "name": "stderr",
     "output_type": "stream",
     "text": [
      "\r",
      "100%|██████████| 6/6 [00:00<00:00, 13.67it/s]"
     ]
    },
    {
     "name": "stderr",
     "output_type": "stream",
     "text": [
      "\r",
      "100%|██████████| 6/6 [00:00<00:00, 14.32it/s]"
     ]
    },
    {
     "name": "stderr",
     "output_type": "stream",
     "text": [
      "\n"
     ]
    },
    {
     "name": "stderr",
     "output_type": "stream",
     "text": [
      "\r",
      "  0%|          | 0/7 [00:00<?, ?it/s]"
     ]
    },
    {
     "name": "stderr",
     "output_type": "stream",
     "text": [
      "\r",
      " 43%|████▎     | 3/7 [00:00<00:00, 18.44it/s]"
     ]
    },
    {
     "name": "stderr",
     "output_type": "stream",
     "text": [
      "\r",
      " 71%|███████▏  | 5/7 [00:00<00:00, 14.94it/s]"
     ]
    },
    {
     "name": "stderr",
     "output_type": "stream",
     "text": [
      "\r",
      "100%|██████████| 7/7 [00:00<00:00, 10.67it/s]"
     ]
    },
    {
     "name": "stderr",
     "output_type": "stream",
     "text": [
      "\r",
      "100%|██████████| 7/7 [00:00<00:00, 11.82it/s]"
     ]
    },
    {
     "name": "stderr",
     "output_type": "stream",
     "text": [
      "\n"
     ]
    },
    {
     "name": "stderr",
     "output_type": "stream",
     "text": [
      "\r",
      "  0%|          | 0/8 [00:00<?, ?it/s]"
     ]
    },
    {
     "name": "stderr",
     "output_type": "stream",
     "text": [
      "\r",
      " 38%|███▊      | 3/8 [00:00<00:00, 16.60it/s]"
     ]
    },
    {
     "name": "stderr",
     "output_type": "stream",
     "text": [
      "\r",
      " 62%|██████▎   | 5/8 [00:00<00:00, 14.76it/s]"
     ]
    },
    {
     "name": "stderr",
     "output_type": "stream",
     "text": [
      "\r",
      " 88%|████████▊ | 7/8 [00:00<00:00, 12.41it/s]"
     ]
    },
    {
     "name": "stderr",
     "output_type": "stream",
     "text": [
      "\r",
      "100%|██████████| 8/8 [00:00<00:00, 12.75it/s]"
     ]
    },
    {
     "name": "stderr",
     "output_type": "stream",
     "text": [
      "\n"
     ]
    },
    {
     "name": "stderr",
     "output_type": "stream",
     "text": [
      "\r",
      "  0%|          | 0/9 [00:00<?, ?it/s]"
     ]
    },
    {
     "name": "stderr",
     "output_type": "stream",
     "text": [
      "\r",
      " 33%|███▎      | 3/9 [00:00<00:00, 19.11it/s]"
     ]
    },
    {
     "name": "stderr",
     "output_type": "stream",
     "text": [
      "\r",
      " 56%|█████▌    | 5/9 [00:00<00:00, 13.05it/s]"
     ]
    },
    {
     "name": "stderr",
     "output_type": "stream",
     "text": [
      "\r",
      " 78%|███████▊  | 7/9 [00:00<00:00, 13.00it/s]"
     ]
    },
    {
     "name": "stderr",
     "output_type": "stream",
     "text": [
      "\r",
      "100%|██████████| 9/9 [00:00<00:00, 12.78it/s]"
     ]
    },
    {
     "name": "stderr",
     "output_type": "stream",
     "text": [
      "\r",
      "100%|██████████| 9/9 [00:00<00:00, 13.27it/s]"
     ]
    },
    {
     "name": "stderr",
     "output_type": "stream",
     "text": [
      "\n"
     ]
    },
    {
     "name": "stderr",
     "output_type": "stream",
     "text": [
      "\r",
      "  0%|          | 0/10 [00:00<?, ?it/s]"
     ]
    },
    {
     "name": "stderr",
     "output_type": "stream",
     "text": [
      "\r",
      " 20%|██        | 2/10 [00:00<00:00, 19.93it/s]"
     ]
    },
    {
     "name": "stderr",
     "output_type": "stream",
     "text": [
      "\r",
      " 40%|████      | 4/10 [00:00<00:00,  9.73it/s]"
     ]
    },
    {
     "name": "stderr",
     "output_type": "stream",
     "text": [
      "\r",
      " 60%|██████    | 6/10 [00:00<00:00,  9.10it/s]"
     ]
    },
    {
     "name": "stderr",
     "output_type": "stream",
     "text": [
      "\r",
      " 80%|████████  | 8/10 [00:00<00:00,  8.76it/s]"
     ]
    },
    {
     "name": "stderr",
     "output_type": "stream",
     "text": [
      "\r",
      " 90%|█████████ | 9/10 [00:00<00:00,  8.46it/s]"
     ]
    },
    {
     "name": "stderr",
     "output_type": "stream",
     "text": [
      "\r",
      "100%|██████████| 10/10 [00:01<00:00,  8.29it/s]"
     ]
    },
    {
     "name": "stderr",
     "output_type": "stream",
     "text": [
      "\r",
      "100%|██████████| 10/10 [00:01<00:00,  8.81it/s]"
     ]
    },
    {
     "name": "stderr",
     "output_type": "stream",
     "text": [
      "\n"
     ]
    },
    {
     "name": "stderr",
     "output_type": "stream",
     "text": [
      "\r",
      "  0%|          | 0/11 [00:00<?, ?it/s]"
     ]
    },
    {
     "name": "stderr",
     "output_type": "stream",
     "text": [
      "\r",
      " 27%|██▋       | 3/11 [00:00<00:00, 17.37it/s]"
     ]
    },
    {
     "name": "stderr",
     "output_type": "stream",
     "text": [
      "\r",
      " 45%|████▌     | 5/11 [00:00<00:00, 14.04it/s]"
     ]
    },
    {
     "name": "stderr",
     "output_type": "stream",
     "text": [
      "\r",
      " 64%|██████▎   | 7/11 [00:00<00:00, 13.29it/s]"
     ]
    },
    {
     "name": "stderr",
     "output_type": "stream",
     "text": [
      "\r",
      " 82%|████████▏ | 9/11 [00:00<00:00, 12.75it/s]"
     ]
    },
    {
     "name": "stderr",
     "output_type": "stream",
     "text": [
      "\r",
      "100%|██████████| 11/11 [00:00<00:00, 13.03it/s]"
     ]
    },
    {
     "name": "stderr",
     "output_type": "stream",
     "text": [
      "\r",
      "100%|██████████| 11/11 [00:00<00:00, 13.39it/s]"
     ]
    },
    {
     "name": "stderr",
     "output_type": "stream",
     "text": [
      "\n"
     ]
    },
    {
     "name": "stderr",
     "output_type": "stream",
     "text": [
      "\r",
      "  0%|          | 0/12 [00:00<?, ?it/s]"
     ]
    },
    {
     "name": "stderr",
     "output_type": "stream",
     "text": [
      "\r",
      " 25%|██▌       | 3/12 [00:00<00:00, 19.13it/s]"
     ]
    },
    {
     "name": "stderr",
     "output_type": "stream",
     "text": [
      "\r",
      " 42%|████▏     | 5/12 [00:00<00:00, 15.14it/s]"
     ]
    },
    {
     "name": "stderr",
     "output_type": "stream",
     "text": [
      "\r",
      " 58%|█████▊    | 7/12 [00:00<00:00, 14.16it/s]"
     ]
    },
    {
     "name": "stderr",
     "output_type": "stream",
     "text": [
      "\r",
      " 75%|███████▌  | 9/12 [00:00<00:00, 12.05it/s]"
     ]
    },
    {
     "name": "stderr",
     "output_type": "stream",
     "text": [
      "\r",
      " 92%|█████████▏| 11/12 [00:00<00:00, 12.74it/s]"
     ]
    },
    {
     "name": "stderr",
     "output_type": "stream",
     "text": [
      "\r",
      "100%|██████████| 12/12 [00:00<00:00, 12.88it/s]"
     ]
    },
    {
     "name": "stderr",
     "output_type": "stream",
     "text": [
      "\n"
     ]
    },
    {
     "name": "stderr",
     "output_type": "stream",
     "text": [
      "\r",
      "  0%|          | 0/13 [00:00<?, ?it/s]"
     ]
    },
    {
     "name": "stderr",
     "output_type": "stream",
     "text": [
      "\r",
      " 23%|██▎       | 3/13 [00:00<00:00, 20.37it/s]"
     ]
    },
    {
     "name": "stderr",
     "output_type": "stream",
     "text": [
      "\r",
      " 46%|████▌     | 6/13 [00:00<00:00, 13.69it/s]"
     ]
    },
    {
     "name": "stderr",
     "output_type": "stream",
     "text": [
      "\r",
      " 62%|██████▏   | 8/13 [00:00<00:00, 11.16it/s]"
     ]
    },
    {
     "name": "stderr",
     "output_type": "stream",
     "text": [
      "\r",
      " 77%|███████▋  | 10/13 [00:00<00:00, 11.41it/s]"
     ]
    },
    {
     "name": "stderr",
     "output_type": "stream",
     "text": [
      "\r",
      " 92%|█████████▏| 12/13 [00:00<00:00, 11.37it/s]"
     ]
    },
    {
     "name": "stderr",
     "output_type": "stream",
     "text": [
      "\r",
      "100%|██████████| 13/13 [00:01<00:00, 11.92it/s]"
     ]
    },
    {
     "name": "stderr",
     "output_type": "stream",
     "text": [
      "\n"
     ]
    },
    {
     "name": "stderr",
     "output_type": "stream",
     "text": [
      "\r",
      "  0%|          | 0/14 [00:00<?, ?it/s]"
     ]
    },
    {
     "name": "stderr",
     "output_type": "stream",
     "text": [
      "\r",
      " 21%|██▏       | 3/14 [00:00<00:00, 14.37it/s]"
     ]
    },
    {
     "name": "stderr",
     "output_type": "stream",
     "text": [
      "\r",
      " 36%|███▌      | 5/14 [00:00<00:00, 13.83it/s]"
     ]
    },
    {
     "name": "stderr",
     "output_type": "stream",
     "text": [
      "\r",
      " 50%|█████     | 7/14 [00:00<00:00, 12.04it/s]"
     ]
    },
    {
     "name": "stderr",
     "output_type": "stream",
     "text": [
      "\r",
      " 64%|██████▍   | 9/14 [00:00<00:00, 11.47it/s]"
     ]
    },
    {
     "name": "stderr",
     "output_type": "stream",
     "text": [
      "\r",
      " 79%|███████▊  | 11/14 [00:00<00:00, 11.97it/s]"
     ]
    },
    {
     "name": "stderr",
     "output_type": "stream",
     "text": [
      "\r",
      " 93%|█████████▎| 13/14 [00:01<00:00, 10.99it/s]"
     ]
    },
    {
     "name": "stderr",
     "output_type": "stream",
     "text": [
      "\r",
      "100%|██████████| 14/14 [00:01<00:00, 11.77it/s]"
     ]
    },
    {
     "name": "stderr",
     "output_type": "stream",
     "text": [
      "\n"
     ]
    },
    {
     "name": "stderr",
     "output_type": "stream",
     "text": [
      "\r",
      "  0%|          | 0/15 [00:00<?, ?it/s]"
     ]
    },
    {
     "name": "stderr",
     "output_type": "stream",
     "text": [
      "\r",
      " 13%|█▎        | 2/15 [00:00<00:00, 19.33it/s]"
     ]
    },
    {
     "name": "stderr",
     "output_type": "stream",
     "text": [
      "\r",
      " 27%|██▋       | 4/15 [00:00<00:00, 11.78it/s]"
     ]
    },
    {
     "name": "stderr",
     "output_type": "stream",
     "text": [
      "\r",
      " 40%|████      | 6/15 [00:00<00:00,  9.20it/s]"
     ]
    },
    {
     "name": "stderr",
     "output_type": "stream",
     "text": [
      "\r",
      " 53%|█████▎    | 8/15 [00:00<00:00,  9.48it/s]"
     ]
    },
    {
     "name": "stderr",
     "output_type": "stream",
     "text": [
      "\r",
      " 67%|██████▋   | 10/15 [00:01<00:00,  9.44it/s]"
     ]
    },
    {
     "name": "stderr",
     "output_type": "stream",
     "text": [
      "\r",
      " 73%|███████▎  | 11/15 [00:01<00:00,  8.87it/s]"
     ]
    },
    {
     "name": "stderr",
     "output_type": "stream",
     "text": [
      "\r",
      " 80%|████████  | 12/15 [00:01<00:00,  8.49it/s]"
     ]
    },
    {
     "name": "stderr",
     "output_type": "stream",
     "text": [
      "\r",
      " 87%|████████▋ | 13/15 [00:01<00:00,  8.24it/s]"
     ]
    },
    {
     "name": "stderr",
     "output_type": "stream",
     "text": [
      "\r",
      " 93%|█████████▎| 14/15 [00:01<00:00,  8.02it/s]"
     ]
    },
    {
     "name": "stderr",
     "output_type": "stream",
     "text": [
      "\r",
      "100%|██████████| 15/15 [00:01<00:00,  7.73it/s]"
     ]
    },
    {
     "name": "stderr",
     "output_type": "stream",
     "text": [
      "\r",
      "100%|██████████| 15/15 [00:01<00:00,  8.72it/s]"
     ]
    },
    {
     "name": "stderr",
     "output_type": "stream",
     "text": [
      "\n"
     ]
    },
    {
     "data": {
      "text/html": [
       "<div>\n",
       "<style scoped>\n",
       "    .dataframe tbody tr th:only-of-type {\n",
       "        vertical-align: middle;\n",
       "    }\n",
       "\n",
       "    .dataframe tbody tr th {\n",
       "        vertical-align: top;\n",
       "    }\n",
       "\n",
       "    .dataframe thead tr th {\n",
       "        text-align: left;\n",
       "    }\n",
       "\n",
       "    .dataframe thead tr:last-of-type th {\n",
       "        text-align: right;\n",
       "    }\n",
       "</style>\n",
       "<table border=\"1\" class=\"dataframe\">\n",
       "  <thead>\n",
       "    <tr>\n",
       "      <th></th>\n",
       "      <th colspan=\"2\" halign=\"left\">fit_time</th>\n",
       "      <th colspan=\"2\" halign=\"left\">score_time</th>\n",
       "      <th colspan=\"2\" halign=\"left\">test_precision</th>\n",
       "      <th colspan=\"2\" halign=\"left\">test_recall</th>\n",
       "      <th colspan=\"2\" halign=\"left\">test_f1</th>\n",
       "      <th colspan=\"2\" halign=\"left\">test_balanced_accuracy</th>\n",
       "      <th colspan=\"2\" halign=\"left\">test_roc_auc</th>\n",
       "      <th colspan=\"2\" halign=\"left\">test_average_precision</th>\n",
       "      <th colspan=\"2\" halign=\"left\">n_observations</th>\n",
       "    </tr>\n",
       "    <tr>\n",
       "      <th></th>\n",
       "      <th>mean</th>\n",
       "      <th>std</th>\n",
       "      <th>mean</th>\n",
       "      <th>std</th>\n",
       "      <th>mean</th>\n",
       "      <th>std</th>\n",
       "      <th>mean</th>\n",
       "      <th>std</th>\n",
       "      <th>mean</th>\n",
       "      <th>std</th>\n",
       "      <th>mean</th>\n",
       "      <th>std</th>\n",
       "      <th>mean</th>\n",
       "      <th>std</th>\n",
       "      <th>mean</th>\n",
       "      <th>std</th>\n",
       "      <th>mean</th>\n",
       "      <th>std</th>\n",
       "    </tr>\n",
       "    <tr>\n",
       "      <th>n_features</th>\n",
       "      <th></th>\n",
       "      <th></th>\n",
       "      <th></th>\n",
       "      <th></th>\n",
       "      <th></th>\n",
       "      <th></th>\n",
       "      <th></th>\n",
       "      <th></th>\n",
       "      <th></th>\n",
       "      <th></th>\n",
       "      <th></th>\n",
       "      <th></th>\n",
       "      <th></th>\n",
       "      <th></th>\n",
       "      <th></th>\n",
       "      <th></th>\n",
       "      <th></th>\n",
       "      <th></th>\n",
       "    </tr>\n",
       "  </thead>\n",
       "  <tbody>\n",
       "    <tr>\n",
       "      <th>1</th>\n",
       "      <td>0.005</td>\n",
       "      <td>0.006</td>\n",
       "      <td>0.055</td>\n",
       "      <td>0.017</td>\n",
       "      <td>0.000</td>\n",
       "      <td>0.000</td>\n",
       "      <td>0.000</td>\n",
       "      <td>0.000</td>\n",
       "      <td>0.000</td>\n",
       "      <td>0.000</td>\n",
       "      <td>0.500</td>\n",
       "      <td>0.000</td>\n",
       "      <td>0.730</td>\n",
       "      <td>0.073</td>\n",
       "      <td>0.681</td>\n",
       "      <td>0.089</td>\n",
       "      <td>210.000</td>\n",
       "      <td>0.000</td>\n",
       "    </tr>\n",
       "    <tr>\n",
       "      <th>2</th>\n",
       "      <td>0.008</td>\n",
       "      <td>0.006</td>\n",
       "      <td>0.079</td>\n",
       "      <td>0.025</td>\n",
       "      <td>0.484</td>\n",
       "      <td>0.297</td>\n",
       "      <td>0.110</td>\n",
       "      <td>0.078</td>\n",
       "      <td>0.168</td>\n",
       "      <td>0.106</td>\n",
       "      <td>0.511</td>\n",
       "      <td>0.039</td>\n",
       "      <td>0.587</td>\n",
       "      <td>0.069</td>\n",
       "      <td>0.528</td>\n",
       "      <td>0.059</td>\n",
       "      <td>210.000</td>\n",
       "      <td>0.000</td>\n",
       "    </tr>\n",
       "    <tr>\n",
       "      <th>3</th>\n",
       "      <td>0.006</td>\n",
       "      <td>0.006</td>\n",
       "      <td>0.071</td>\n",
       "      <td>0.029</td>\n",
       "      <td>0.625</td>\n",
       "      <td>0.129</td>\n",
       "      <td>0.337</td>\n",
       "      <td>0.088</td>\n",
       "      <td>0.431</td>\n",
       "      <td>0.094</td>\n",
       "      <td>0.592</td>\n",
       "      <td>0.053</td>\n",
       "      <td>0.659</td>\n",
       "      <td>0.073</td>\n",
       "      <td>0.609</td>\n",
       "      <td>0.082</td>\n",
       "      <td>210.000</td>\n",
       "      <td>0.000</td>\n",
       "    </tr>\n",
       "    <tr>\n",
       "      <th>4</th>\n",
       "      <td>0.004</td>\n",
       "      <td>0.002</td>\n",
       "      <td>0.051</td>\n",
       "      <td>0.013</td>\n",
       "      <td>0.619</td>\n",
       "      <td>0.122</td>\n",
       "      <td>0.353</td>\n",
       "      <td>0.089</td>\n",
       "      <td>0.444</td>\n",
       "      <td>0.095</td>\n",
       "      <td>0.596</td>\n",
       "      <td>0.056</td>\n",
       "      <td>0.658</td>\n",
       "      <td>0.077</td>\n",
       "      <td>0.607</td>\n",
       "      <td>0.084</td>\n",
       "      <td>210.000</td>\n",
       "      <td>0.000</td>\n",
       "    </tr>\n",
       "    <tr>\n",
       "      <th>5</th>\n",
       "      <td>0.006</td>\n",
       "      <td>0.004</td>\n",
       "      <td>0.084</td>\n",
       "      <td>0.031</td>\n",
       "      <td>0.621</td>\n",
       "      <td>0.123</td>\n",
       "      <td>0.366</td>\n",
       "      <td>0.107</td>\n",
       "      <td>0.453</td>\n",
       "      <td>0.104</td>\n",
       "      <td>0.600</td>\n",
       "      <td>0.061</td>\n",
       "      <td>0.668</td>\n",
       "      <td>0.071</td>\n",
       "      <td>0.607</td>\n",
       "      <td>0.084</td>\n",
       "      <td>210.000</td>\n",
       "      <td>0.000</td>\n",
       "    </tr>\n",
       "    <tr>\n",
       "      <th>6</th>\n",
       "      <td>0.006</td>\n",
       "      <td>0.004</td>\n",
       "      <td>0.066</td>\n",
       "      <td>0.023</td>\n",
       "      <td>0.609</td>\n",
       "      <td>0.124</td>\n",
       "      <td>0.367</td>\n",
       "      <td>0.108</td>\n",
       "      <td>0.450</td>\n",
       "      <td>0.102</td>\n",
       "      <td>0.596</td>\n",
       "      <td>0.061</td>\n",
       "      <td>0.659</td>\n",
       "      <td>0.074</td>\n",
       "      <td>0.595</td>\n",
       "      <td>0.087</td>\n",
       "      <td>210.000</td>\n",
       "      <td>0.000</td>\n",
       "    </tr>\n",
       "    <tr>\n",
       "      <th>7</th>\n",
       "      <td>0.006</td>\n",
       "      <td>0.006</td>\n",
       "      <td>0.072</td>\n",
       "      <td>0.032</td>\n",
       "      <td>0.683</td>\n",
       "      <td>0.107</td>\n",
       "      <td>0.561</td>\n",
       "      <td>0.091</td>\n",
       "      <td>0.609</td>\n",
       "      <td>0.079</td>\n",
       "      <td>0.681</td>\n",
       "      <td>0.060</td>\n",
       "      <td>0.749</td>\n",
       "      <td>0.070</td>\n",
       "      <td>0.716</td>\n",
       "      <td>0.078</td>\n",
       "      <td>210.000</td>\n",
       "      <td>0.000</td>\n",
       "    </tr>\n",
       "    <tr>\n",
       "      <th>8</th>\n",
       "      <td>0.005</td>\n",
       "      <td>0.004</td>\n",
       "      <td>0.070</td>\n",
       "      <td>0.030</td>\n",
       "      <td>0.692</td>\n",
       "      <td>0.106</td>\n",
       "      <td>0.611</td>\n",
       "      <td>0.100</td>\n",
       "      <td>0.641</td>\n",
       "      <td>0.075</td>\n",
       "      <td>0.701</td>\n",
       "      <td>0.060</td>\n",
       "      <td>0.757</td>\n",
       "      <td>0.072</td>\n",
       "      <td>0.722</td>\n",
       "      <td>0.086</td>\n",
       "      <td>210.000</td>\n",
       "      <td>0.000</td>\n",
       "    </tr>\n",
       "    <tr>\n",
       "      <th>9</th>\n",
       "      <td>0.005</td>\n",
       "      <td>0.003</td>\n",
       "      <td>0.061</td>\n",
       "      <td>0.019</td>\n",
       "      <td>0.691</td>\n",
       "      <td>0.107</td>\n",
       "      <td>0.607</td>\n",
       "      <td>0.109</td>\n",
       "      <td>0.638</td>\n",
       "      <td>0.080</td>\n",
       "      <td>0.700</td>\n",
       "      <td>0.063</td>\n",
       "      <td>0.750</td>\n",
       "      <td>0.073</td>\n",
       "      <td>0.717</td>\n",
       "      <td>0.088</td>\n",
       "      <td>210.000</td>\n",
       "      <td>0.000</td>\n",
       "    </tr>\n",
       "    <tr>\n",
       "      <th>10</th>\n",
       "      <td>0.005</td>\n",
       "      <td>0.004</td>\n",
       "      <td>0.076</td>\n",
       "      <td>0.036</td>\n",
       "      <td>0.692</td>\n",
       "      <td>0.096</td>\n",
       "      <td>0.635</td>\n",
       "      <td>0.108</td>\n",
       "      <td>0.655</td>\n",
       "      <td>0.077</td>\n",
       "      <td>0.711</td>\n",
       "      <td>0.061</td>\n",
       "      <td>0.773</td>\n",
       "      <td>0.066</td>\n",
       "      <td>0.733</td>\n",
       "      <td>0.082</td>\n",
       "      <td>210.000</td>\n",
       "      <td>0.000</td>\n",
       "    </tr>\n",
       "    <tr>\n",
       "      <th>11</th>\n",
       "      <td>0.006</td>\n",
       "      <td>0.005</td>\n",
       "      <td>0.057</td>\n",
       "      <td>0.019</td>\n",
       "      <td>0.702</td>\n",
       "      <td>0.086</td>\n",
       "      <td>0.641</td>\n",
       "      <td>0.123</td>\n",
       "      <td>0.662</td>\n",
       "      <td>0.081</td>\n",
       "      <td>0.719</td>\n",
       "      <td>0.060</td>\n",
       "      <td>0.788</td>\n",
       "      <td>0.062</td>\n",
       "      <td>0.744</td>\n",
       "      <td>0.076</td>\n",
       "      <td>210.000</td>\n",
       "      <td>0.000</td>\n",
       "    </tr>\n",
       "    <tr>\n",
       "      <th>12</th>\n",
       "      <td>0.005</td>\n",
       "      <td>0.003</td>\n",
       "      <td>0.054</td>\n",
       "      <td>0.014</td>\n",
       "      <td>0.717</td>\n",
       "      <td>0.096</td>\n",
       "      <td>0.657</td>\n",
       "      <td>0.120</td>\n",
       "      <td>0.679</td>\n",
       "      <td>0.089</td>\n",
       "      <td>0.732</td>\n",
       "      <td>0.068</td>\n",
       "      <td>0.797</td>\n",
       "      <td>0.062</td>\n",
       "      <td>0.745</td>\n",
       "      <td>0.072</td>\n",
       "      <td>210.000</td>\n",
       "      <td>0.000</td>\n",
       "    </tr>\n",
       "    <tr>\n",
       "      <th>13</th>\n",
       "      <td>0.005</td>\n",
       "      <td>0.003</td>\n",
       "      <td>0.065</td>\n",
       "      <td>0.022</td>\n",
       "      <td>0.706</td>\n",
       "      <td>0.098</td>\n",
       "      <td>0.651</td>\n",
       "      <td>0.119</td>\n",
       "      <td>0.671</td>\n",
       "      <td>0.090</td>\n",
       "      <td>0.725</td>\n",
       "      <td>0.071</td>\n",
       "      <td>0.794</td>\n",
       "      <td>0.063</td>\n",
       "      <td>0.740</td>\n",
       "      <td>0.072</td>\n",
       "      <td>210.000</td>\n",
       "      <td>0.000</td>\n",
       "    </tr>\n",
       "    <tr>\n",
       "      <th>14</th>\n",
       "      <td>0.004</td>\n",
       "      <td>0.001</td>\n",
       "      <td>0.051</td>\n",
       "      <td>0.016</td>\n",
       "      <td>0.692</td>\n",
       "      <td>0.092</td>\n",
       "      <td>0.643</td>\n",
       "      <td>0.117</td>\n",
       "      <td>0.660</td>\n",
       "      <td>0.085</td>\n",
       "      <td>0.715</td>\n",
       "      <td>0.065</td>\n",
       "      <td>0.788</td>\n",
       "      <td>0.063</td>\n",
       "      <td>0.739</td>\n",
       "      <td>0.073</td>\n",
       "      <td>210.000</td>\n",
       "      <td>0.000</td>\n",
       "    </tr>\n",
       "    <tr>\n",
       "      <th>15</th>\n",
       "      <td>0.007</td>\n",
       "      <td>0.006</td>\n",
       "      <td>0.085</td>\n",
       "      <td>0.033</td>\n",
       "      <td>0.686</td>\n",
       "      <td>0.092</td>\n",
       "      <td>0.641</td>\n",
       "      <td>0.114</td>\n",
       "      <td>0.657</td>\n",
       "      <td>0.086</td>\n",
       "      <td>0.712</td>\n",
       "      <td>0.066</td>\n",
       "      <td>0.786</td>\n",
       "      <td>0.063</td>\n",
       "      <td>0.734</td>\n",
       "      <td>0.072</td>\n",
       "      <td>210.000</td>\n",
       "      <td>0.000</td>\n",
       "    </tr>\n",
       "  </tbody>\n",
       "</table>\n",
       "</div>"
      ],
      "text/plain": [
       "           fit_time       score_time       test_precision       test_recall  \\\n",
       "               mean   std       mean   std           mean   std        mean   \n",
       "n_features                                                                    \n",
       "1             0.005 0.006      0.055 0.017          0.000 0.000       0.000   \n",
       "2             0.008 0.006      0.079 0.025          0.484 0.297       0.110   \n",
       "3             0.006 0.006      0.071 0.029          0.625 0.129       0.337   \n",
       "4             0.004 0.002      0.051 0.013          0.619 0.122       0.353   \n",
       "5             0.006 0.004      0.084 0.031          0.621 0.123       0.366   \n",
       "6             0.006 0.004      0.066 0.023          0.609 0.124       0.367   \n",
       "7             0.006 0.006      0.072 0.032          0.683 0.107       0.561   \n",
       "8             0.005 0.004      0.070 0.030          0.692 0.106       0.611   \n",
       "9             0.005 0.003      0.061 0.019          0.691 0.107       0.607   \n",
       "10            0.005 0.004      0.076 0.036          0.692 0.096       0.635   \n",
       "11            0.006 0.005      0.057 0.019          0.702 0.086       0.641   \n",
       "12            0.005 0.003      0.054 0.014          0.717 0.096       0.657   \n",
       "13            0.005 0.003      0.065 0.022          0.706 0.098       0.651   \n",
       "14            0.004 0.001      0.051 0.016          0.692 0.092       0.643   \n",
       "15            0.007 0.006      0.085 0.033          0.686 0.092       0.641   \n",
       "\n",
       "                 test_f1       test_balanced_accuracy       test_roc_auc  \\\n",
       "             std    mean   std                   mean   std         mean   \n",
       "n_features                                                                 \n",
       "1          0.000   0.000 0.000                  0.500 0.000        0.730   \n",
       "2          0.078   0.168 0.106                  0.511 0.039        0.587   \n",
       "3          0.088   0.431 0.094                  0.592 0.053        0.659   \n",
       "4          0.089   0.444 0.095                  0.596 0.056        0.658   \n",
       "5          0.107   0.453 0.104                  0.600 0.061        0.668   \n",
       "6          0.108   0.450 0.102                  0.596 0.061        0.659   \n",
       "7          0.091   0.609 0.079                  0.681 0.060        0.749   \n",
       "8          0.100   0.641 0.075                  0.701 0.060        0.757   \n",
       "9          0.109   0.638 0.080                  0.700 0.063        0.750   \n",
       "10         0.108   0.655 0.077                  0.711 0.061        0.773   \n",
       "11         0.123   0.662 0.081                  0.719 0.060        0.788   \n",
       "12         0.120   0.679 0.089                  0.732 0.068        0.797   \n",
       "13         0.119   0.671 0.090                  0.725 0.071        0.794   \n",
       "14         0.117   0.660 0.085                  0.715 0.065        0.788   \n",
       "15         0.114   0.657 0.086                  0.712 0.066        0.786   \n",
       "\n",
       "                 test_average_precision       n_observations        \n",
       "             std                   mean   std           mean   std  \n",
       "n_features                                                          \n",
       "1          0.073                  0.681 0.089        210.000 0.000  \n",
       "2          0.069                  0.528 0.059        210.000 0.000  \n",
       "3          0.073                  0.609 0.082        210.000 0.000  \n",
       "4          0.077                  0.607 0.084        210.000 0.000  \n",
       "5          0.071                  0.607 0.084        210.000 0.000  \n",
       "6          0.074                  0.595 0.087        210.000 0.000  \n",
       "7          0.070                  0.716 0.078        210.000 0.000  \n",
       "8          0.072                  0.722 0.086        210.000 0.000  \n",
       "9          0.073                  0.717 0.088        210.000 0.000  \n",
       "10         0.066                  0.733 0.082        210.000 0.000  \n",
       "11         0.062                  0.744 0.076        210.000 0.000  \n",
       "12         0.062                  0.745 0.072        210.000 0.000  \n",
       "13         0.063                  0.740 0.072        210.000 0.000  \n",
       "14         0.063                  0.739 0.073        210.000 0.000  \n",
       "15         0.063                  0.734 0.072        210.000 0.000  "
      ]
     },
     "execution_count": 20,
     "metadata": {},
     "output_type": "execute_result"
    }
   ],
   "source": [
    "cv_feat_new = njab.sklearn.find_n_best_features(X=X.loc[:, new_features],\n",
    "                                                y=target, name=args.target,\n",
    "                                                groups=target_to_group)\n",
    "cv_feat_new = cv_feat_new.drop('test_case', axis=1).groupby('n_features').agg(['mean', 'std'])\n",
    "cv_feat_new"
   ]
  },
  {
   "cell_type": "code",
   "execution_count": 21,
   "id": "72655713",
   "metadata": {
    "execution": {
     "iopub.execute_input": "2024-05-27T12:13:56.417667Z",
     "iopub.status.busy": "2024-05-27T12:13:56.416758Z",
     "iopub.status.idle": "2024-05-27T12:13:56.436179Z",
     "shell.execute_reply": "2024-05-27T12:13:56.435378Z"
    },
    "papermill": {
     "duration": 0.068193,
     "end_time": "2024-05-27T12:13:56.438249",
     "exception": false,
     "start_time": "2024-05-27T12:13:56.370056",
     "status": "completed"
    },
    "tags": []
   },
   "outputs": [
    {
     "data": {
      "text/html": [
       "<div>\n",
       "<style scoped>\n",
       "    .dataframe tbody tr th:only-of-type {\n",
       "        vertical-align: middle;\n",
       "    }\n",
       "\n",
       "    .dataframe tbody tr th {\n",
       "        vertical-align: top;\n",
       "    }\n",
       "\n",
       "    .dataframe thead th {\n",
       "        text-align: right;\n",
       "    }\n",
       "</style>\n",
       "<table border=\"1\" class=\"dataframe\">\n",
       "  <thead>\n",
       "    <tr style=\"text-align: right;\">\n",
       "      <th></th>\n",
       "      <th>ald</th>\n",
       "      <th>all</th>\n",
       "      <th>new</th>\n",
       "    </tr>\n",
       "  </thead>\n",
       "  <tbody>\n",
       "    <tr>\n",
       "      <th>fit_time</th>\n",
       "      <td>8</td>\n",
       "      <td>1</td>\n",
       "      <td>2</td>\n",
       "    </tr>\n",
       "    <tr>\n",
       "      <th>score_time</th>\n",
       "      <td>8</td>\n",
       "      <td>1</td>\n",
       "      <td>15</td>\n",
       "    </tr>\n",
       "    <tr>\n",
       "      <th>test_precision</th>\n",
       "      <td>14</td>\n",
       "      <td>15</td>\n",
       "      <td>12</td>\n",
       "    </tr>\n",
       "    <tr>\n",
       "      <th>test_recall</th>\n",
       "      <td>14</td>\n",
       "      <td>15</td>\n",
       "      <td>12</td>\n",
       "    </tr>\n",
       "    <tr>\n",
       "      <th>test_f1</th>\n",
       "      <td>14</td>\n",
       "      <td>15</td>\n",
       "      <td>12</td>\n",
       "    </tr>\n",
       "    <tr>\n",
       "      <th>test_balanced_accuracy</th>\n",
       "      <td>14</td>\n",
       "      <td>15</td>\n",
       "      <td>12</td>\n",
       "    </tr>\n",
       "    <tr>\n",
       "      <th>test_roc_auc</th>\n",
       "      <td>15</td>\n",
       "      <td>15</td>\n",
       "      <td>12</td>\n",
       "    </tr>\n",
       "    <tr>\n",
       "      <th>test_average_precision</th>\n",
       "      <td>15</td>\n",
       "      <td>15</td>\n",
       "      <td>12</td>\n",
       "    </tr>\n",
       "    <tr>\n",
       "      <th>n_observations</th>\n",
       "      <td>1</td>\n",
       "      <td>1</td>\n",
       "      <td>1</td>\n",
       "    </tr>\n",
       "  </tbody>\n",
       "</table>\n",
       "</div>"
      ],
      "text/plain": [
       "                        ald  all  new\n",
       "fit_time                  8    1    2\n",
       "score_time                8    1   15\n",
       "test_precision           14   15   12\n",
       "test_recall              14   15   12\n",
       "test_f1                  14   15   12\n",
       "test_balanced_accuracy   14   15   12\n",
       "test_roc_auc             15   15   12\n",
       "test_average_precision   15   15   12\n",
       "n_observations            1    1    1"
      ]
     },
     "execution_count": 21,
     "metadata": {},
     "output_type": "execute_result"
    }
   ],
   "source": [
    "n_feat_best = pd.DataFrame(\n",
    "    {'ald': cv_feat_ald.loc[:, pd.IndexSlice[:, 'mean']].idxmax(),\n",
    "     'all': cv_feat_all.loc[:, pd.IndexSlice[:, 'mean']].idxmax(),\n",
    "     'new': cv_feat_new.loc[:, pd.IndexSlice[:, 'mean']].idxmax()\n",
    "     }\n",
    ").droplevel(-1)\n",
    "n_feat_best"
   ]
  },
  {
   "cell_type": "markdown",
   "id": "2efdc8bf",
   "metadata": {
    "papermill": {
     "duration": 0.058477,
     "end_time": "2024-05-27T12:13:56.599626",
     "exception": false,
     "start_time": "2024-05-27T12:13:56.541149",
     "status": "completed"
    },
    "tags": []
   },
   "source": [
    "## Train, test split"
   ]
  },
  {
   "cell_type": "code",
   "execution_count": 22,
   "id": "dc3d3b21",
   "metadata": {
    "execution": {
     "iopub.execute_input": "2024-05-27T12:13:56.696370Z",
     "iopub.status.busy": "2024-05-27T12:13:56.695506Z",
     "iopub.status.idle": "2024-05-27T12:13:56.706380Z",
     "shell.execute_reply": "2024-05-27T12:13:56.705638Z"
    },
    "papermill": {
     "duration": 0.059576,
     "end_time": "2024-05-27T12:13:56.708439",
     "exception": false,
     "start_time": "2024-05-27T12:13:56.648863",
     "status": "completed"
    },
    "tags": []
   },
   "outputs": [],
   "source": [
    "X_train, X_test, y_train, y_test = sklearn.model_selection.train_test_split(\n",
    "    X,\n",
    "    target,\n",
    "    test_size=.2,\n",
    "    stratify=target_to_group,\n",
    "    random_state=42)\n",
    "idx_train = X_train.index\n",
    "idx_test = X_test.index"
   ]
  },
  {
   "cell_type": "code",
   "execution_count": 23,
   "id": "d3b4b394",
   "metadata": {
    "execution": {
     "iopub.execute_input": "2024-05-27T12:13:56.802992Z",
     "iopub.status.busy": "2024-05-27T12:13:56.802640Z",
     "iopub.status.idle": "2024-05-27T12:13:56.829776Z",
     "shell.execute_reply": "2024-05-27T12:13:56.828968Z"
    },
    "papermill": {
     "duration": 0.080858,
     "end_time": "2024-05-27T12:13:56.836366",
     "exception": false,
     "start_time": "2024-05-27T12:13:56.755508",
     "status": "completed"
    },
    "tags": []
   },
   "outputs": [
    {
     "data": {
      "text/html": [
       "<div>\n",
       "<style scoped>\n",
       "    .dataframe tbody tr th:only-of-type {\n",
       "        vertical-align: middle;\n",
       "    }\n",
       "\n",
       "    .dataframe tbody tr th {\n",
       "        vertical-align: top;\n",
       "    }\n",
       "\n",
       "    .dataframe thead th {\n",
       "        text-align: right;\n",
       "    }\n",
       "</style>\n",
       "<table border=\"1\" class=\"dataframe\">\n",
       "  <thead>\n",
       "    <tr style=\"text-align: right;\">\n",
       "      <th></th>\n",
       "      <th>train</th>\n",
       "      <th>test</th>\n",
       "    </tr>\n",
       "  </thead>\n",
       "  <tbody>\n",
       "    <tr>\n",
       "      <th>False</th>\n",
       "      <td>98</td>\n",
       "      <td>24</td>\n",
       "    </tr>\n",
       "    <tr>\n",
       "      <th>True</th>\n",
       "      <td>70</td>\n",
       "      <td>18</td>\n",
       "    </tr>\n",
       "  </tbody>\n",
       "</table>\n",
       "</div>"
      ],
      "text/plain": [
       "       train  test\n",
       "False     98    24\n",
       "True      70    18"
      ]
     },
     "execution_count": 23,
     "metadata": {},
     "output_type": "execute_result"
    }
   ],
   "source": [
    "njab.pandas.combine_value_counts(\n",
    "    pd.concat([y_train, y_test],\n",
    "              axis=1,\n",
    "              ignore_index=True,\n",
    "              ).rename(columns={0: 'train', 1: 'test'})\n",
    ")"
   ]
  },
  {
   "cell_type": "code",
   "execution_count": 24,
   "id": "71879005",
   "metadata": {
    "execution": {
     "iopub.execute_input": "2024-05-27T12:13:56.979480Z",
     "iopub.status.busy": "2024-05-27T12:13:56.979089Z",
     "iopub.status.idle": "2024-05-27T12:13:56.986015Z",
     "shell.execute_reply": "2024-05-27T12:13:56.985323Z"
    },
    "papermill": {
     "duration": 0.056093,
     "end_time": "2024-05-27T12:13:56.987851",
     "exception": false,
     "start_time": "2024-05-27T12:13:56.931758",
     "status": "completed"
    },
    "tags": []
   },
   "outputs": [
    {
     "data": {
      "text/plain": [
       "AD   \n",
       "False   98\n",
       "True    70\n",
       "Name: count, dtype: int64"
      ]
     },
     "execution_count": 24,
     "metadata": {},
     "output_type": "execute_result"
    }
   ],
   "source": [
    "y_train.value_counts()"
   ]
  },
  {
   "cell_type": "markdown",
   "id": "8b528b8e",
   "metadata": {
    "papermill": {
     "duration": 0.046506,
     "end_time": "2024-05-27T12:13:57.080780",
     "exception": false,
     "start_time": "2024-05-27T12:13:57.034274",
     "status": "completed"
    },
    "tags": []
   },
   "source": [
    "## Results\n",
    "\n",
    "- `run_model` returns dataclasses with the further needed results\n",
    "- add mrmr selection of data (select best number of features to use instead of fixing it)"
   ]
  },
  {
   "cell_type": "code",
   "execution_count": 25,
   "id": "baa9de8b",
   "metadata": {
    "execution": {
     "iopub.execute_input": "2024-05-27T12:13:57.175126Z",
     "iopub.status.busy": "2024-05-27T12:13:57.174762Z",
     "iopub.status.idle": "2024-05-27T12:14:07.601173Z",
     "shell.execute_reply": "2024-05-27T12:14:07.600395Z"
    },
    "lines_to_next_cell": 2,
    "papermill": {
     "duration": 10.477542,
     "end_time": "2024-05-27T12:14:07.603122",
     "exception": false,
     "start_time": "2024-05-27T12:13:57.125580",
     "status": "completed"
    },
    "tags": []
   },
   "outputs": [
    {
     "name": "stderr",
     "output_type": "stream",
     "text": [
      "\r",
      "  0%|          | 0/15 [00:00<?, ?it/s]"
     ]
    },
    {
     "name": "stderr",
     "output_type": "stream",
     "text": [
      "\r",
      " 13%|█▎        | 2/15 [00:00<00:03,  4.28it/s]"
     ]
    },
    {
     "name": "stderr",
     "output_type": "stream",
     "text": [
      "\r",
      " 20%|██        | 3/15 [00:00<00:03,  3.37it/s]"
     ]
    },
    {
     "name": "stderr",
     "output_type": "stream",
     "text": [
      "\r",
      " 27%|██▋       | 4/15 [00:01<00:03,  2.99it/s]"
     ]
    },
    {
     "name": "stderr",
     "output_type": "stream",
     "text": [
      "\r",
      " 33%|███▎      | 5/15 [00:01<00:03,  2.80it/s]"
     ]
    },
    {
     "name": "stderr",
     "output_type": "stream",
     "text": [
      "\r",
      " 40%|████      | 6/15 [00:02<00:03,  2.78it/s]"
     ]
    },
    {
     "name": "stderr",
     "output_type": "stream",
     "text": [
      "\r",
      " 47%|████▋     | 7/15 [00:02<00:02,  2.80it/s]"
     ]
    },
    {
     "name": "stderr",
     "output_type": "stream",
     "text": [
      "\r",
      " 53%|█████▎    | 8/15 [00:02<00:02,  2.42it/s]"
     ]
    },
    {
     "name": "stderr",
     "output_type": "stream",
     "text": [
      "\r",
      " 60%|██████    | 9/15 [00:03<00:02,  2.18it/s]"
     ]
    },
    {
     "name": "stderr",
     "output_type": "stream",
     "text": [
      "\r",
      " 67%|██████▋   | 10/15 [00:03<00:02,  2.08it/s]"
     ]
    },
    {
     "name": "stderr",
     "output_type": "stream",
     "text": [
      "\r",
      " 73%|███████▎  | 11/15 [00:04<00:02,  1.85it/s]"
     ]
    },
    {
     "name": "stderr",
     "output_type": "stream",
     "text": [
      "\r",
      " 80%|████████  | 12/15 [00:05<00:01,  1.66it/s]"
     ]
    },
    {
     "name": "stderr",
     "output_type": "stream",
     "text": [
      "\r",
      " 87%|████████▋ | 13/15 [00:06<00:01,  1.63it/s]"
     ]
    },
    {
     "name": "stderr",
     "output_type": "stream",
     "text": [
      "\r",
      " 93%|█████████▎| 14/15 [00:06<00:00,  1.56it/s]"
     ]
    },
    {
     "name": "stderr",
     "output_type": "stream",
     "text": [
      "\r",
      "100%|██████████| 15/15 [00:07<00:00,  1.69it/s]"
     ]
    },
    {
     "name": "stderr",
     "output_type": "stream",
     "text": [
      "\r",
      "100%|██████████| 15/15 [00:07<00:00,  2.07it/s]"
     ]
    },
    {
     "name": "stderr",
     "output_type": "stream",
     "text": [
      "\n"
     ]
    }
   ],
   "source": [
    "splits = Splits(X_train=X.loc[idx_train],\n",
    "                X_test=X.loc[idx_test],\n",
    "                y_train=y_train,\n",
    "                y_test=y_test)\n",
    "results_model_full = njab.sklearn.run_model(\n",
    "    splits,\n",
    "    n_feat_to_select=n_feat_best.loc['test_roc_auc', 'all'])\n",
    "results_model_full.name = f'{args.model_key} all'\n",
    "fname = args.out_folder / f'results_{results_model_full.name}.pkl'\n",
    "files_out[fname.name] = fname\n",
    "vaep.io.to_pickle(results_model_full, fname)"
   ]
  },
  {
   "cell_type": "code",
   "execution_count": 26,
   "id": "18688a0c",
   "metadata": {
    "execution": {
     "iopub.execute_input": "2024-05-27T12:14:07.723840Z",
     "iopub.status.busy": "2024-05-27T12:14:07.723478Z",
     "iopub.status.idle": "2024-05-27T12:14:07.726976Z",
     "shell.execute_reply": "2024-05-27T12:14:07.726263Z"
    },
    "papermill": {
     "duration": 0.075982,
     "end_time": "2024-05-27T12:14:07.738120",
     "exception": false,
     "start_time": "2024-05-27T12:14:07.662138",
     "status": "completed"
    },
    "tags": []
   },
   "outputs": [],
   "source": [
    "# all(results_model_full.test.roc.tpr\n",
    "#     ==\n",
    "#     vaep.sklearn.Results.from_pickle(fname).test.roc.tpr)"
   ]
  },
  {
   "cell_type": "code",
   "execution_count": 27,
   "id": "78e72950",
   "metadata": {
    "execution": {
     "iopub.execute_input": "2024-05-27T12:14:07.891187Z",
     "iopub.status.busy": "2024-05-27T12:14:07.890830Z",
     "iopub.status.idle": "2024-05-27T12:14:09.465170Z",
     "shell.execute_reply": "2024-05-27T12:14:09.464311Z"
    },
    "papermill": {
     "duration": 1.636398,
     "end_time": "2024-05-27T12:14:09.467468",
     "exception": false,
     "start_time": "2024-05-27T12:14:07.831070",
     "status": "completed"
    },
    "tags": []
   },
   "outputs": [
    {
     "name": "stderr",
     "output_type": "stream",
     "text": [
      "\r",
      "  0%|          | 0/12 [00:00<?, ?it/s]"
     ]
    },
    {
     "name": "stderr",
     "output_type": "stream",
     "text": [
      "\r",
      " 25%|██▌       | 3/12 [00:00<00:00, 19.06it/s]"
     ]
    },
    {
     "name": "stderr",
     "output_type": "stream",
     "text": [
      "\r",
      " 42%|████▏     | 5/12 [00:00<00:00, 13.67it/s]"
     ]
    },
    {
     "name": "stderr",
     "output_type": "stream",
     "text": [
      "\r",
      " 58%|█████▊    | 7/12 [00:00<00:00, 12.24it/s]"
     ]
    },
    {
     "name": "stderr",
     "output_type": "stream",
     "text": [
      "\r",
      " 75%|███████▌  | 9/12 [00:00<00:00, 11.45it/s]"
     ]
    },
    {
     "name": "stderr",
     "output_type": "stream",
     "text": [
      "\r",
      " 92%|█████████▏| 11/12 [00:00<00:00, 11.41it/s]"
     ]
    },
    {
     "name": "stderr",
     "output_type": "stream",
     "text": [
      "\r",
      "100%|██████████| 12/12 [00:00<00:00, 12.19it/s]"
     ]
    },
    {
     "name": "stderr",
     "output_type": "stream",
     "text": [
      "\n"
     ]
    }
   ],
   "source": [
    "splits = Splits(X_train=X.loc[idx_train, new_features],\n",
    "                X_test=X.loc[idx_test, new_features],\n",
    "                y_train=y_train,\n",
    "                y_test=y_test)\n",
    "results_model_new = njab.sklearn.run_model(\n",
    "    splits,\n",
    "    n_feat_to_select=n_feat_best.loc['test_roc_auc', 'new'])\n",
    "results_model_new.name = f'{args.model_key} new'\n",
    "fname = args.out_folder / f'results_{results_model_new.name}.pkl'\n",
    "files_out[fname.name] = fname\n",
    "vaep.io.to_pickle(results_model_new, fname)"
   ]
  },
  {
   "cell_type": "code",
   "execution_count": 28,
   "id": "764ec22c",
   "metadata": {
    "execution": {
     "iopub.execute_input": "2024-05-27T12:14:09.585958Z",
     "iopub.status.busy": "2024-05-27T12:14:09.585603Z",
     "iopub.status.idle": "2024-05-27T12:14:17.942441Z",
     "shell.execute_reply": "2024-05-27T12:14:17.941682Z"
    },
    "papermill": {
     "duration": 8.409892,
     "end_time": "2024-05-27T12:14:17.944388",
     "exception": false,
     "start_time": "2024-05-27T12:14:09.534496",
     "status": "completed"
    },
    "tags": []
   },
   "outputs": [
    {
     "name": "stderr",
     "output_type": "stream",
     "text": [
      "\r",
      "  0%|          | 0/15 [00:00<?, ?it/s]"
     ]
    },
    {
     "name": "stderr",
     "output_type": "stream",
     "text": [
      "\r",
      " 13%|█▎        | 2/15 [00:00<00:03,  3.91it/s]"
     ]
    },
    {
     "name": "stderr",
     "output_type": "stream",
     "text": [
      "\r",
      " 20%|██        | 3/15 [00:01<00:04,  2.70it/s]"
     ]
    },
    {
     "name": "stderr",
     "output_type": "stream",
     "text": [
      "\r",
      " 27%|██▋       | 4/15 [00:01<00:04,  2.38it/s]"
     ]
    },
    {
     "name": "stderr",
     "output_type": "stream",
     "text": [
      "\r",
      " 33%|███▎      | 5/15 [00:01<00:03,  2.52it/s]"
     ]
    },
    {
     "name": "stderr",
     "output_type": "stream",
     "text": [
      "\r",
      " 40%|████      | 6/15 [00:02<00:03,  2.55it/s]"
     ]
    },
    {
     "name": "stderr",
     "output_type": "stream",
     "text": [
      "\r",
      " 47%|████▋     | 7/15 [00:02<00:02,  2.72it/s]"
     ]
    },
    {
     "name": "stderr",
     "output_type": "stream",
     "text": [
      "\r",
      " 53%|█████▎    | 8/15 [00:02<00:02,  2.73it/s]"
     ]
    },
    {
     "name": "stderr",
     "output_type": "stream",
     "text": [
      "\r",
      " 60%|██████    | 9/15 [00:03<00:02,  2.89it/s]"
     ]
    },
    {
     "name": "stderr",
     "output_type": "stream",
     "text": [
      "\r",
      " 67%|██████▋   | 10/15 [00:03<00:01,  2.95it/s]"
     ]
    },
    {
     "name": "stderr",
     "output_type": "stream",
     "text": [
      "\r",
      " 73%|███████▎  | 11/15 [00:04<00:01,  2.43it/s]"
     ]
    },
    {
     "name": "stderr",
     "output_type": "stream",
     "text": [
      "\r",
      " 80%|████████  | 12/15 [00:04<00:01,  2.38it/s]"
     ]
    },
    {
     "name": "stderr",
     "output_type": "stream",
     "text": [
      "\r",
      " 87%|████████▋ | 13/15 [00:05<00:00,  2.22it/s]"
     ]
    },
    {
     "name": "stderr",
     "output_type": "stream",
     "text": [
      "\r",
      " 93%|█████████▎| 14/15 [00:05<00:00,  2.10it/s]"
     ]
    },
    {
     "name": "stderr",
     "output_type": "stream",
     "text": [
      "\r",
      "100%|██████████| 15/15 [00:06<00:00,  2.06it/s]"
     ]
    },
    {
     "name": "stderr",
     "output_type": "stream",
     "text": [
      "\r",
      "100%|██████████| 15/15 [00:06<00:00,  2.43it/s]"
     ]
    },
    {
     "name": "stderr",
     "output_type": "stream",
     "text": [
      "\n"
     ]
    }
   ],
   "source": [
    "splits_ald = Splits(\n",
    "    X_train=ald_study.loc[idx_train],\n",
    "    X_test=ald_study.loc[idx_test],\n",
    "    y_train=y_train,\n",
    "    y_test=y_test)\n",
    "results_ald_full = njab.sklearn.run_model(\n",
    "    splits_ald,\n",
    "    n_feat_to_select=n_feat_best.loc['test_roc_auc', 'ald'])\n",
    "results_ald_full.name = 'ALD study all'\n",
    "fname = args.out_folder / f'results_{results_ald_full.name}.pkl'\n",
    "files_out[fname.name] = fname\n",
    "vaep.io.to_pickle(results_ald_full, fname)"
   ]
  },
  {
   "cell_type": "markdown",
   "id": "790b1db5",
   "metadata": {
    "papermill": {
     "duration": 0.039401,
     "end_time": "2024-05-27T12:14:18.034307",
     "exception": false,
     "start_time": "2024-05-27T12:14:17.994906",
     "status": "completed"
    },
    "tags": []
   },
   "source": [
    "### ROC-AUC"
   ]
  },
  {
   "cell_type": "code",
   "execution_count": 29,
   "id": "04b82583",
   "metadata": {
    "execution": {
     "iopub.execute_input": "2024-05-27T12:14:18.184435Z",
     "iopub.status.busy": "2024-05-27T12:14:18.184100Z",
     "iopub.status.idle": "2024-05-27T12:14:19.583829Z",
     "shell.execute_reply": "2024-05-27T12:14:19.582962Z"
    },
    "papermill": {
     "duration": 1.452501,
     "end_time": "2024-05-27T12:14:19.585689",
     "exception": false,
     "start_time": "2024-05-27T12:14:18.133188",
     "status": "completed"
    },
    "tags": []
   },
   "outputs": [
    {
     "name": "stderr",
     "output_type": "stream",
     "text": [
      "vaep.plotting - INFO     Saved Figures to runs/alzheimer_study/diff_analysis/AD/PI_vs_RF/auc_roc_curve.pdf\n"
     ]
    },
    {
     "data": {
      "image/png": "[encoded data removed]",
      "text/plain": [
       "<Figure size 367.5x367.5 with 1 Axes>"
      ]
     },
     "metadata": {},
     "output_type": "display_data"
    }
   ],
   "source": [
    "fig, ax = plt.subplots(1, 1, figsize=figsize)\n",
    "plot_split_auc(results_ald_full.test, results_ald_full.name, ax)\n",
    "plot_split_auc(results_model_full.test, results_model_full.name, ax)\n",
    "plot_split_auc(results_model_new.test, results_model_new.name, ax)\n",
    "fname = args.out_folder / 'auc_roc_curve.pdf'\n",
    "files_out[fname.name] = fname\n",
    "vaep.savefig(fig, name=fname)"
   ]
  },
  {
   "cell_type": "code",
   "execution_count": 30,
   "id": "322281db",
   "metadata": {
    "execution": {
     "iopub.execute_input": "2024-05-27T12:14:19.806931Z",
     "iopub.status.busy": "2024-05-27T12:14:19.806560Z",
     "iopub.status.idle": "2024-05-27T12:14:20.354347Z",
     "shell.execute_reply": "2024-05-27T12:14:20.353598Z"
    },
    "papermill": {
     "duration": 0.652305,
     "end_time": "2024-05-27T12:14:20.356059",
     "exception": false,
     "start_time": "2024-05-27T12:14:19.703754",
     "status": "completed"
    },
    "tags": []
   },
   "outputs": [
    {
     "data": {
      "text/html": [
       "<div>\n",
       "<style scoped>\n",
       "    .dataframe tbody tr th:only-of-type {\n",
       "        vertical-align: middle;\n",
       "    }\n",
       "\n",
       "    .dataframe tbody tr th {\n",
       "        vertical-align: top;\n",
       "    }\n",
       "\n",
       "    .dataframe thead tr th {\n",
       "        text-align: left;\n",
       "    }\n",
       "</style>\n",
       "<table border=\"1\" class=\"dataframe\">\n",
       "  <thead>\n",
       "    <tr>\n",
       "      <th></th>\n",
       "      <th colspan=\"2\" halign=\"left\">ALD study all</th>\n",
       "      <th colspan=\"2\" halign=\"left\">RF all</th>\n",
       "      <th colspan=\"2\" halign=\"left\">RF new</th>\n",
       "    </tr>\n",
       "    <tr>\n",
       "      <th></th>\n",
       "      <th>fpr</th>\n",
       "      <th>tpr</th>\n",
       "      <th>fpr</th>\n",
       "      <th>tpr</th>\n",
       "      <th>fpr</th>\n",
       "      <th>tpr</th>\n",
       "    </tr>\n",
       "  </thead>\n",
       "  <tbody>\n",
       "    <tr>\n",
       "      <th>0</th>\n",
       "      <td>0.000</td>\n",
       "      <td>0.000</td>\n",
       "      <td>0.000</td>\n",
       "      <td>0.000</td>\n",
       "      <td>0.000</td>\n",
       "      <td>0.000</td>\n",
       "    </tr>\n",
       "    <tr>\n",
       "      <th>1</th>\n",
       "      <td>0.000</td>\n",
       "      <td>0.056</td>\n",
       "      <td>0.000</td>\n",
       "      <td>0.056</td>\n",
       "      <td>0.000</td>\n",
       "      <td>0.056</td>\n",
       "    </tr>\n",
       "    <tr>\n",
       "      <th>2</th>\n",
       "      <td>0.000</td>\n",
       "      <td>0.556</td>\n",
       "      <td>0.000</td>\n",
       "      <td>0.278</td>\n",
       "      <td>0.083</td>\n",
       "      <td>0.056</td>\n",
       "    </tr>\n",
       "    <tr>\n",
       "      <th>3</th>\n",
       "      <td>0.083</td>\n",
       "      <td>0.556</td>\n",
       "      <td>0.042</td>\n",
       "      <td>0.278</td>\n",
       "      <td>0.083</td>\n",
       "      <td>0.167</td>\n",
       "    </tr>\n",
       "    <tr>\n",
       "      <th>4</th>\n",
       "      <td>0.083</td>\n",
       "      <td>0.667</td>\n",
       "      <td>0.042</td>\n",
       "      <td>0.556</td>\n",
       "      <td>0.125</td>\n",
       "      <td>0.167</td>\n",
       "    </tr>\n",
       "    <tr>\n",
       "      <th>5</th>\n",
       "      <td>0.167</td>\n",
       "      <td>0.667</td>\n",
       "      <td>0.083</td>\n",
       "      <td>0.556</td>\n",
       "      <td>0.125</td>\n",
       "      <td>0.278</td>\n",
       "    </tr>\n",
       "    <tr>\n",
       "      <th>6</th>\n",
       "      <td>0.167</td>\n",
       "      <td>0.778</td>\n",
       "      <td>0.083</td>\n",
       "      <td>0.611</td>\n",
       "      <td>0.167</td>\n",
       "      <td>0.278</td>\n",
       "    </tr>\n",
       "    <tr>\n",
       "      <th>7</th>\n",
       "      <td>0.250</td>\n",
       "      <td>0.778</td>\n",
       "      <td>0.208</td>\n",
       "      <td>0.611</td>\n",
       "      <td>0.167</td>\n",
       "      <td>0.389</td>\n",
       "    </tr>\n",
       "    <tr>\n",
       "      <th>8</th>\n",
       "      <td>0.250</td>\n",
       "      <td>0.833</td>\n",
       "      <td>0.208</td>\n",
       "      <td>0.667</td>\n",
       "      <td>0.208</td>\n",
       "      <td>0.389</td>\n",
       "    </tr>\n",
       "    <tr>\n",
       "      <th>9</th>\n",
       "      <td>0.292</td>\n",
       "      <td>0.833</td>\n",
       "      <td>0.333</td>\n",
       "      <td>0.667</td>\n",
       "      <td>0.208</td>\n",
       "      <td>0.444</td>\n",
       "    </tr>\n",
       "    <tr>\n",
       "      <th>10</th>\n",
       "      <td>0.292</td>\n",
       "      <td>0.889</td>\n",
       "      <td>0.333</td>\n",
       "      <td>0.722</td>\n",
       "      <td>0.250</td>\n",
       "      <td>0.444</td>\n",
       "    </tr>\n",
       "    <tr>\n",
       "      <th>11</th>\n",
       "      <td>0.375</td>\n",
       "      <td>0.889</td>\n",
       "      <td>0.417</td>\n",
       "      <td>0.722</td>\n",
       "      <td>0.250</td>\n",
       "      <td>0.611</td>\n",
       "    </tr>\n",
       "    <tr>\n",
       "      <th>12</th>\n",
       "      <td>0.375</td>\n",
       "      <td>0.944</td>\n",
       "      <td>0.417</td>\n",
       "      <td>1.000</td>\n",
       "      <td>0.375</td>\n",
       "      <td>0.611</td>\n",
       "    </tr>\n",
       "    <tr>\n",
       "      <th>13</th>\n",
       "      <td>0.833</td>\n",
       "      <td>0.944</td>\n",
       "      <td>1.000</td>\n",
       "      <td>1.000</td>\n",
       "      <td>0.375</td>\n",
       "      <td>0.722</td>\n",
       "    </tr>\n",
       "    <tr>\n",
       "      <th>14</th>\n",
       "      <td>0.833</td>\n",
       "      <td>1.000</td>\n",
       "      <td>NaN</td>\n",
       "      <td>NaN</td>\n",
       "      <td>0.750</td>\n",
       "      <td>0.722</td>\n",
       "    </tr>\n",
       "    <tr>\n",
       "      <th>15</th>\n",
       "      <td>1.000</td>\n",
       "      <td>1.000</td>\n",
       "      <td>NaN</td>\n",
       "      <td>NaN</td>\n",
       "      <td>0.750</td>\n",
       "      <td>0.833</td>\n",
       "    </tr>\n",
       "    <tr>\n",
       "      <th>16</th>\n",
       "      <td>NaN</td>\n",
       "      <td>NaN</td>\n",
       "      <td>NaN</td>\n",
       "      <td>NaN</td>\n",
       "      <td>0.792</td>\n",
       "      <td>0.833</td>\n",
       "    </tr>\n",
       "    <tr>\n",
       "      <th>17</th>\n",
       "      <td>NaN</td>\n",
       "      <td>NaN</td>\n",
       "      <td>NaN</td>\n",
       "      <td>NaN</td>\n",
       "      <td>0.792</td>\n",
       "      <td>0.944</td>\n",
       "    </tr>\n",
       "    <tr>\n",
       "      <th>18</th>\n",
       "      <td>NaN</td>\n",
       "      <td>NaN</td>\n",
       "      <td>NaN</td>\n",
       "      <td>NaN</td>\n",
       "      <td>0.833</td>\n",
       "      <td>0.944</td>\n",
       "    </tr>\n",
       "    <tr>\n",
       "      <th>19</th>\n",
       "      <td>NaN</td>\n",
       "      <td>NaN</td>\n",
       "      <td>NaN</td>\n",
       "      <td>NaN</td>\n",
       "      <td>0.833</td>\n",
       "      <td>1.000</td>\n",
       "    </tr>\n",
       "    <tr>\n",
       "      <th>20</th>\n",
       "      <td>NaN</td>\n",
       "      <td>NaN</td>\n",
       "      <td>NaN</td>\n",
       "      <td>NaN</td>\n",
       "      <td>1.000</td>\n",
       "      <td>1.000</td>\n",
       "    </tr>\n",
       "  </tbody>\n",
       "</table>\n",
       "</div>"
      ],
      "text/plain": [
       "   ALD study all       RF all       RF new      \n",
       "             fpr   tpr    fpr   tpr    fpr   tpr\n",
       "0          0.000 0.000  0.000 0.000  0.000 0.000\n",
       "1          0.000 0.056  0.000 0.056  0.000 0.056\n",
       "2          0.000 0.556  0.000 0.278  0.083 0.056\n",
       "3          0.083 0.556  0.042 0.278  0.083 0.167\n",
       "4          0.083 0.667  0.042 0.556  0.125 0.167\n",
       "5          0.167 0.667  0.083 0.556  0.125 0.278\n",
       "6          0.167 0.778  0.083 0.611  0.167 0.278\n",
       "7          0.250 0.778  0.208 0.611  0.167 0.389\n",
       "8          0.250 0.833  0.208 0.667  0.208 0.389\n",
       "9          0.292 0.833  0.333 0.667  0.208 0.444\n",
       "10         0.292 0.889  0.333 0.722  0.250 0.444\n",
       "11         0.375 0.889  0.417 0.722  0.250 0.611\n",
       "12         0.375 0.944  0.417 1.000  0.375 0.611\n",
       "13         0.833 0.944  1.000 1.000  0.375 0.722\n",
       "14         0.833 1.000    NaN   NaN  0.750 0.722\n",
       "15         1.000 1.000    NaN   NaN  0.750 0.833\n",
       "16           NaN   NaN    NaN   NaN  0.792 0.833\n",
       "17           NaN   NaN    NaN   NaN  0.792 0.944\n",
       "18           NaN   NaN    NaN   NaN  0.833 0.944\n",
       "19           NaN   NaN    NaN   NaN  0.833 1.000\n",
       "20           NaN   NaN    NaN   NaN  1.000 1.000"
      ]
     },
     "execution_count": 30,
     "metadata": {},
     "output_type": "execute_result"
    }
   ],
   "source": [
    "res = [results_ald_full, results_model_full, results_model_new]\n",
    "\n",
    "auc_roc_curve = parse_roc(*res)\n",
    "auc_roc_curve.to_excel(fname.with_suffix('.xlsx'))\n",
    "auc_roc_curve"
   ]
  },
  {
   "cell_type": "markdown",
   "id": "46e9a3f2-89aa-4bd5-a083-d8e16815020a",
   "metadata": {
    "papermill": {
     "duration": 0.111333,
     "end_time": "2024-05-27T12:14:20.612680",
     "exception": false,
     "start_time": "2024-05-27T12:14:20.501347",
     "status": "completed"
    },
    "tags": []
   },
   "source": [
    "### Features selected"
   ]
  },
  {
   "cell_type": "code",
   "execution_count": 31,
   "id": "9e1bb173",
   "metadata": {
    "execution": {
     "iopub.execute_input": "2024-05-27T12:14:20.749434Z",
     "iopub.status.busy": "2024-05-27T12:14:20.749078Z",
     "iopub.status.idle": "2024-05-27T12:14:20.824034Z",
     "shell.execute_reply": "2024-05-27T12:14:20.823256Z"
    },
    "papermill": {
     "duration": 0.143022,
     "end_time": "2024-05-27T12:14:20.825813",
     "exception": false,
     "start_time": "2024-05-27T12:14:20.682791",
     "status": "completed"
    },
    "tags": []
   },
   "outputs": [
    {
     "data": {
      "text/html": [
       "<div>\n",
       "<style scoped>\n",
       "    .dataframe tbody tr th:only-of-type {\n",
       "        vertical-align: middle;\n",
       "    }\n",
       "\n",
       "    .dataframe tbody tr th {\n",
       "        vertical-align: top;\n",
       "    }\n",
       "\n",
       "    .dataframe thead th {\n",
       "        text-align: right;\n",
       "    }\n",
       "</style>\n",
       "<table border=\"1\" class=\"dataframe\">\n",
       "  <thead>\n",
       "    <tr style=\"text-align: right;\">\n",
       "      <th></th>\n",
       "      <th>ALD study all</th>\n",
       "      <th>RF all</th>\n",
       "      <th>RF new</th>\n",
       "    </tr>\n",
       "    <tr>\n",
       "      <th>rank</th>\n",
       "      <th></th>\n",
       "      <th></th>\n",
       "      <th></th>\n",
       "    </tr>\n",
       "  </thead>\n",
       "  <tbody>\n",
       "    <tr>\n",
       "      <th>0</th>\n",
       "      <td>P10636-2;P10636-6</td>\n",
       "      <td>Q9Y2T3;Q9Y2T3-3</td>\n",
       "      <td>Q14894</td>\n",
       "    </tr>\n",
       "    <tr>\n",
       "      <th>1</th>\n",
       "      <td>B0QYF8;P02144</td>\n",
       "      <td>Q9HAT2</td>\n",
       "      <td>Q16799</td>\n",
       "    </tr>\n",
       "    <tr>\n",
       "      <th>2</th>\n",
       "      <td>P02766</td>\n",
       "      <td>P10636-2;P10636-6</td>\n",
       "      <td>E5RJY1;E7ESM1;Q92597;Q92597-2;Q92597-3</td>\n",
       "    </tr>\n",
       "    <tr>\n",
       "      <th>3</th>\n",
       "      <td>B1AHL2;P23142-4</td>\n",
       "      <td>P14174</td>\n",
       "      <td>Q96GD0</td>\n",
       "    </tr>\n",
       "    <tr>\n",
       "      <th>4</th>\n",
       "      <td>P61981</td>\n",
       "      <td>Q14894</td>\n",
       "      <td>O95297;O95297-2;O95297-3;O95297-4;Q9UEL6</td>\n",
       "    </tr>\n",
       "    <tr>\n",
       "      <th>5</th>\n",
       "      <td>P14174</td>\n",
       "      <td>P61981</td>\n",
       "      <td>P31321</td>\n",
       "    </tr>\n",
       "    <tr>\n",
       "      <th>6</th>\n",
       "      <td>P04075</td>\n",
       "      <td>P04075</td>\n",
       "      <td>E9PK25;G3V1A4;P23528</td>\n",
       "    </tr>\n",
       "    <tr>\n",
       "      <th>7</th>\n",
       "      <td>Q9Y2T3;Q9Y2T3-3</td>\n",
       "      <td>P25189;P25189-2</td>\n",
       "      <td>P51688</td>\n",
       "    </tr>\n",
       "    <tr>\n",
       "      <th>8</th>\n",
       "      <td>P00338;P00338-3</td>\n",
       "      <td>P63104</td>\n",
       "      <td>A0A075B7B8</td>\n",
       "    </tr>\n",
       "    <tr>\n",
       "      <th>9</th>\n",
       "      <td>P14618</td>\n",
       "      <td>P00492</td>\n",
       "      <td>A6PVN5;F6WIT2;Q15257;Q15257-2;Q15257-3</td>\n",
       "    </tr>\n",
       "    <tr>\n",
       "      <th>10</th>\n",
       "      <td>Q6EMK4</td>\n",
       "      <td>Q6EMK4</td>\n",
       "      <td>Q504Y2</td>\n",
       "    </tr>\n",
       "    <tr>\n",
       "      <th>11</th>\n",
       "      <td>P05413;S4R371</td>\n",
       "      <td>C9JF17;P05090</td>\n",
       "      <td>J3KSJ8;Q9UD71;Q9UD71-2</td>\n",
       "    </tr>\n",
       "    <tr>\n",
       "      <th>12</th>\n",
       "      <td>C9JF17;P05090</td>\n",
       "      <td>P00338;P00338-3</td>\n",
       "      <td>None</td>\n",
       "    </tr>\n",
       "    <tr>\n",
       "      <th>13</th>\n",
       "      <td>P63104</td>\n",
       "      <td>P15151-2</td>\n",
       "      <td>None</td>\n",
       "    </tr>\n",
       "    <tr>\n",
       "      <th>14</th>\n",
       "      <td>A0A0B4J1V0</td>\n",
       "      <td>P14618</td>\n",
       "      <td>None</td>\n",
       "    </tr>\n",
       "  </tbody>\n",
       "</table>\n",
       "</div>"
      ],
      "text/plain": [
       "          ALD study all             RF all  \\\n",
       "rank                                         \n",
       "0     P10636-2;P10636-6    Q9Y2T3;Q9Y2T3-3   \n",
       "1         B0QYF8;P02144             Q9HAT2   \n",
       "2                P02766  P10636-2;P10636-6   \n",
       "3       B1AHL2;P23142-4             P14174   \n",
       "4                P61981             Q14894   \n",
       "5                P14174             P61981   \n",
       "6                P04075             P04075   \n",
       "7       Q9Y2T3;Q9Y2T3-3    P25189;P25189-2   \n",
       "8       P00338;P00338-3             P63104   \n",
       "9                P14618             P00492   \n",
       "10               Q6EMK4             Q6EMK4   \n",
       "11        P05413;S4R371      C9JF17;P05090   \n",
       "12        C9JF17;P05090    P00338;P00338-3   \n",
       "13               P63104           P15151-2   \n",
       "14           A0A0B4J1V0             P14618   \n",
       "\n",
       "                                        RF new  \n",
       "rank                                            \n",
       "0                                       Q14894  \n",
       "1                                       Q16799  \n",
       "2       E5RJY1;E7ESM1;Q92597;Q92597-2;Q92597-3  \n",
       "3                                       Q96GD0  \n",
       "4     O95297;O95297-2;O95297-3;O95297-4;Q9UEL6  \n",
       "5                                       P31321  \n",
       "6                         E9PK25;G3V1A4;P23528  \n",
       "7                                       P51688  \n",
       "8                                   A0A075B7B8  \n",
       "9       A6PVN5;F6WIT2;Q15257;Q15257-2;Q15257-3  \n",
       "10                                      Q504Y2  \n",
       "11                      J3KSJ8;Q9UD71;Q9UD71-2  \n",
       "12                                        None  \n",
       "13                                        None  \n",
       "14                                        None  "
      ]
     },
     "execution_count": 31,
     "metadata": {},
     "output_type": "execute_result"
    }
   ],
   "source": [
    "selected_features = pd.DataFrame(\n",
    "    [results_ald_full.selected_features,\n",
    "     results_model_full.selected_features,\n",
    "     results_model_new.selected_features],\n",
    "    index=[\n",
    "        results_ald_full.name,\n",
    "        results_model_full.name,\n",
    "        results_model_new.name]\n",
    ").T\n",
    "selected_features.index.name = 'rank'\n",
    "fname = args.out_folder / 'mrmr_feat_by_model.xlsx'\n",
    "files_out[fname.name] = fname\n",
    "selected_features.to_excel(fname)\n",
    "selected_features"
   ]
  },
  {
   "cell_type": "markdown",
   "id": "ce227174",
   "metadata": {
    "papermill": {
     "duration": 0.045884,
     "end_time": "2024-05-27T12:14:20.938527",
     "exception": false,
     "start_time": "2024-05-27T12:14:20.892643",
     "status": "completed"
    },
    "tags": []
   },
   "source": [
    "### Precision-Recall plot"
   ]
  },
  {
   "cell_type": "code",
   "execution_count": 32,
   "id": "56ea0d50",
   "metadata": {
    "execution": {
     "iopub.execute_input": "2024-05-27T12:14:21.085283Z",
     "iopub.status.busy": "2024-05-27T12:14:21.084918Z",
     "iopub.status.idle": "2024-05-27T12:14:22.416058Z",
     "shell.execute_reply": "2024-05-27T12:14:22.415262Z"
    },
    "papermill": {
     "duration": 1.427982,
     "end_time": "2024-05-27T12:14:22.417793",
     "exception": false,
     "start_time": "2024-05-27T12:14:20.989811",
     "status": "completed"
    },
    "tags": []
   },
   "outputs": [
    {
     "name": "stderr",
     "output_type": "stream",
     "text": [
      "vaep.plotting - INFO     Saved Figures to runs/alzheimer_study/diff_analysis/AD/PI_vs_RF/prec_recall_curve.pdf\n"
     ]
    },
    {
     "data": {
      "image/png": "[encoded data removed]",
      "text/plain": [
       "<Figure size 367.5x367.5 with 1 Axes>"
      ]
     },
     "metadata": {},
     "output_type": "display_data"
    }
   ],
   "source": [
    "fig, ax = plt.subplots(1, 1, figsize=figsize)\n",
    "\n",
    "ax = plot_split_prc(results_ald_full.test, results_ald_full.name, ax)\n",
    "ax = plot_split_prc(results_model_full.test, results_model_full.name, ax)\n",
    "ax = plot_split_prc(results_model_new.test, results_model_new.name, ax)\n",
    "fname = folder = args.out_folder / 'prec_recall_curve.pdf'\n",
    "files_out[fname.name] = fname\n",
    "vaep.savefig(fig, name=fname)"
   ]
  },
  {
   "cell_type": "code",
   "execution_count": 33,
   "id": "a9f5e5ce",
   "metadata": {
    "execution": {
     "iopub.execute_input": "2024-05-27T12:14:22.588517Z",
     "iopub.status.busy": "2024-05-27T12:14:22.588144Z",
     "iopub.status.idle": "2024-05-27T12:14:22.639546Z",
     "shell.execute_reply": "2024-05-27T12:14:22.638678Z"
    },
    "papermill": {
     "duration": 0.110945,
     "end_time": "2024-05-27T12:14:22.641301",
     "exception": false,
     "start_time": "2024-05-27T12:14:22.530356",
     "status": "completed"
    },
    "tags": []
   },
   "outputs": [
    {
     "data": {
      "text/html": [
       "<div>\n",
       "<style scoped>\n",
       "    .dataframe tbody tr th:only-of-type {\n",
       "        vertical-align: middle;\n",
       "    }\n",
       "\n",
       "    .dataframe tbody tr th {\n",
       "        vertical-align: top;\n",
       "    }\n",
       "\n",
       "    .dataframe thead tr th {\n",
       "        text-align: left;\n",
       "    }\n",
       "</style>\n",
       "<table border=\"1\" class=\"dataframe\">\n",
       "  <thead>\n",
       "    <tr>\n",
       "      <th></th>\n",
       "      <th colspan=\"2\" halign=\"left\">ALD study all</th>\n",
       "      <th colspan=\"2\" halign=\"left\">RF all</th>\n",
       "      <th colspan=\"2\" halign=\"left\">RF new</th>\n",
       "    </tr>\n",
       "    <tr>\n",
       "      <th></th>\n",
       "      <th>precision</th>\n",
       "      <th>tpr</th>\n",
       "      <th>precision</th>\n",
       "      <th>tpr</th>\n",
       "      <th>precision</th>\n",
       "      <th>tpr</th>\n",
       "    </tr>\n",
       "  </thead>\n",
       "  <tbody>\n",
       "    <tr>\n",
       "      <th>0</th>\n",
       "      <td>0.429</td>\n",
       "      <td>1.000</td>\n",
       "      <td>0.429</td>\n",
       "      <td>1.000</td>\n",
       "      <td>0.429</td>\n",
       "      <td>1.000</td>\n",
       "    </tr>\n",
       "    <tr>\n",
       "      <th>1</th>\n",
       "      <td>0.439</td>\n",
       "      <td>1.000</td>\n",
       "      <td>0.439</td>\n",
       "      <td>1.000</td>\n",
       "      <td>0.439</td>\n",
       "      <td>1.000</td>\n",
       "    </tr>\n",
       "    <tr>\n",
       "      <th>2</th>\n",
       "      <td>0.450</td>\n",
       "      <td>1.000</td>\n",
       "      <td>0.450</td>\n",
       "      <td>1.000</td>\n",
       "      <td>0.450</td>\n",
       "      <td>1.000</td>\n",
       "    </tr>\n",
       "    <tr>\n",
       "      <th>3</th>\n",
       "      <td>0.462</td>\n",
       "      <td>1.000</td>\n",
       "      <td>0.462</td>\n",
       "      <td>1.000</td>\n",
       "      <td>0.462</td>\n",
       "      <td>1.000</td>\n",
       "    </tr>\n",
       "    <tr>\n",
       "      <th>4</th>\n",
       "      <td>0.474</td>\n",
       "      <td>1.000</td>\n",
       "      <td>0.474</td>\n",
       "      <td>1.000</td>\n",
       "      <td>0.474</td>\n",
       "      <td>1.000</td>\n",
       "    </tr>\n",
       "    <tr>\n",
       "      <th>5</th>\n",
       "      <td>0.459</td>\n",
       "      <td>0.944</td>\n",
       "      <td>0.486</td>\n",
       "      <td>1.000</td>\n",
       "      <td>0.459</td>\n",
       "      <td>0.944</td>\n",
       "    </tr>\n",
       "    <tr>\n",
       "      <th>6</th>\n",
       "      <td>0.472</td>\n",
       "      <td>0.944</td>\n",
       "      <td>0.500</td>\n",
       "      <td>1.000</td>\n",
       "      <td>0.472</td>\n",
       "      <td>0.944</td>\n",
       "    </tr>\n",
       "    <tr>\n",
       "      <th>7</th>\n",
       "      <td>0.486</td>\n",
       "      <td>0.944</td>\n",
       "      <td>0.514</td>\n",
       "      <td>1.000</td>\n",
       "      <td>0.457</td>\n",
       "      <td>0.889</td>\n",
       "    </tr>\n",
       "    <tr>\n",
       "      <th>8</th>\n",
       "      <td>0.500</td>\n",
       "      <td>0.944</td>\n",
       "      <td>0.529</td>\n",
       "      <td>1.000</td>\n",
       "      <td>0.441</td>\n",
       "      <td>0.833</td>\n",
       "    </tr>\n",
       "    <tr>\n",
       "      <th>9</th>\n",
       "      <td>0.515</td>\n",
       "      <td>0.944</td>\n",
       "      <td>0.545</td>\n",
       "      <td>1.000</td>\n",
       "      <td>0.455</td>\n",
       "      <td>0.833</td>\n",
       "    </tr>\n",
       "    <tr>\n",
       "      <th>10</th>\n",
       "      <td>0.531</td>\n",
       "      <td>0.944</td>\n",
       "      <td>0.562</td>\n",
       "      <td>1.000</td>\n",
       "      <td>0.438</td>\n",
       "      <td>0.778</td>\n",
       "    </tr>\n",
       "    <tr>\n",
       "      <th>11</th>\n",
       "      <td>0.548</td>\n",
       "      <td>0.944</td>\n",
       "      <td>0.581</td>\n",
       "      <td>1.000</td>\n",
       "      <td>0.419</td>\n",
       "      <td>0.722</td>\n",
       "    </tr>\n",
       "    <tr>\n",
       "      <th>12</th>\n",
       "      <td>0.567</td>\n",
       "      <td>0.944</td>\n",
       "      <td>0.600</td>\n",
       "      <td>1.000</td>\n",
       "      <td>0.433</td>\n",
       "      <td>0.722</td>\n",
       "    </tr>\n",
       "    <tr>\n",
       "      <th>13</th>\n",
       "      <td>0.586</td>\n",
       "      <td>0.944</td>\n",
       "      <td>0.621</td>\n",
       "      <td>1.000</td>\n",
       "      <td>0.448</td>\n",
       "      <td>0.722</td>\n",
       "    </tr>\n",
       "    <tr>\n",
       "      <th>14</th>\n",
       "      <td>0.607</td>\n",
       "      <td>0.944</td>\n",
       "      <td>0.643</td>\n",
       "      <td>1.000</td>\n",
       "      <td>0.464</td>\n",
       "      <td>0.722</td>\n",
       "    </tr>\n",
       "    <tr>\n",
       "      <th>15</th>\n",
       "      <td>0.630</td>\n",
       "      <td>0.944</td>\n",
       "      <td>0.630</td>\n",
       "      <td>0.944</td>\n",
       "      <td>0.481</td>\n",
       "      <td>0.722</td>\n",
       "    </tr>\n",
       "    <tr>\n",
       "      <th>16</th>\n",
       "      <td>0.654</td>\n",
       "      <td>0.944</td>\n",
       "      <td>0.615</td>\n",
       "      <td>0.889</td>\n",
       "      <td>0.500</td>\n",
       "      <td>0.722</td>\n",
       "    </tr>\n",
       "    <tr>\n",
       "      <th>17</th>\n",
       "      <td>0.640</td>\n",
       "      <td>0.889</td>\n",
       "      <td>0.600</td>\n",
       "      <td>0.833</td>\n",
       "      <td>0.520</td>\n",
       "      <td>0.722</td>\n",
       "    </tr>\n",
       "    <tr>\n",
       "      <th>18</th>\n",
       "      <td>0.667</td>\n",
       "      <td>0.889</td>\n",
       "      <td>0.583</td>\n",
       "      <td>0.778</td>\n",
       "      <td>0.542</td>\n",
       "      <td>0.722</td>\n",
       "    </tr>\n",
       "    <tr>\n",
       "      <th>19</th>\n",
       "      <td>0.696</td>\n",
       "      <td>0.889</td>\n",
       "      <td>0.565</td>\n",
       "      <td>0.722</td>\n",
       "      <td>0.565</td>\n",
       "      <td>0.722</td>\n",
       "    </tr>\n",
       "    <tr>\n",
       "      <th>20</th>\n",
       "      <td>0.682</td>\n",
       "      <td>0.833</td>\n",
       "      <td>0.591</td>\n",
       "      <td>0.722</td>\n",
       "      <td>0.591</td>\n",
       "      <td>0.722</td>\n",
       "    </tr>\n",
       "    <tr>\n",
       "      <th>21</th>\n",
       "      <td>0.714</td>\n",
       "      <td>0.833</td>\n",
       "      <td>0.619</td>\n",
       "      <td>0.722</td>\n",
       "      <td>0.571</td>\n",
       "      <td>0.667</td>\n",
       "    </tr>\n",
       "    <tr>\n",
       "      <th>22</th>\n",
       "      <td>0.700</td>\n",
       "      <td>0.778</td>\n",
       "      <td>0.600</td>\n",
       "      <td>0.667</td>\n",
       "      <td>0.550</td>\n",
       "      <td>0.611</td>\n",
       "    </tr>\n",
       "    <tr>\n",
       "      <th>23</th>\n",
       "      <td>0.737</td>\n",
       "      <td>0.778</td>\n",
       "      <td>0.632</td>\n",
       "      <td>0.667</td>\n",
       "      <td>0.579</td>\n",
       "      <td>0.611</td>\n",
       "    </tr>\n",
       "    <tr>\n",
       "      <th>24</th>\n",
       "      <td>0.778</td>\n",
       "      <td>0.778</td>\n",
       "      <td>0.667</td>\n",
       "      <td>0.667</td>\n",
       "      <td>0.611</td>\n",
       "      <td>0.611</td>\n",
       "    </tr>\n",
       "    <tr>\n",
       "      <th>25</th>\n",
       "      <td>0.765</td>\n",
       "      <td>0.722</td>\n",
       "      <td>0.706</td>\n",
       "      <td>0.667</td>\n",
       "      <td>0.647</td>\n",
       "      <td>0.611</td>\n",
       "    </tr>\n",
       "    <tr>\n",
       "      <th>26</th>\n",
       "      <td>0.750</td>\n",
       "      <td>0.667</td>\n",
       "      <td>0.688</td>\n",
       "      <td>0.611</td>\n",
       "      <td>0.625</td>\n",
       "      <td>0.556</td>\n",
       "    </tr>\n",
       "    <tr>\n",
       "      <th>27</th>\n",
       "      <td>0.800</td>\n",
       "      <td>0.667</td>\n",
       "      <td>0.733</td>\n",
       "      <td>0.611</td>\n",
       "      <td>0.600</td>\n",
       "      <td>0.500</td>\n",
       "    </tr>\n",
       "    <tr>\n",
       "      <th>28</th>\n",
       "      <td>0.857</td>\n",
       "      <td>0.667</td>\n",
       "      <td>0.786</td>\n",
       "      <td>0.611</td>\n",
       "      <td>0.571</td>\n",
       "      <td>0.444</td>\n",
       "    </tr>\n",
       "    <tr>\n",
       "      <th>29</th>\n",
       "      <td>0.846</td>\n",
       "      <td>0.611</td>\n",
       "      <td>0.846</td>\n",
       "      <td>0.611</td>\n",
       "      <td>0.615</td>\n",
       "      <td>0.444</td>\n",
       "    </tr>\n",
       "    <tr>\n",
       "      <th>30</th>\n",
       "      <td>0.833</td>\n",
       "      <td>0.556</td>\n",
       "      <td>0.833</td>\n",
       "      <td>0.556</td>\n",
       "      <td>0.583</td>\n",
       "      <td>0.389</td>\n",
       "    </tr>\n",
       "    <tr>\n",
       "      <th>31</th>\n",
       "      <td>0.909</td>\n",
       "      <td>0.556</td>\n",
       "      <td>0.909</td>\n",
       "      <td>0.556</td>\n",
       "      <td>0.636</td>\n",
       "      <td>0.389</td>\n",
       "    </tr>\n",
       "    <tr>\n",
       "      <th>32</th>\n",
       "      <td>1.000</td>\n",
       "      <td>0.556</td>\n",
       "      <td>0.900</td>\n",
       "      <td>0.500</td>\n",
       "      <td>0.600</td>\n",
       "      <td>0.333</td>\n",
       "    </tr>\n",
       "    <tr>\n",
       "      <th>33</th>\n",
       "      <td>1.000</td>\n",
       "      <td>0.500</td>\n",
       "      <td>0.889</td>\n",
       "      <td>0.444</td>\n",
       "      <td>0.556</td>\n",
       "      <td>0.278</td>\n",
       "    </tr>\n",
       "    <tr>\n",
       "      <th>34</th>\n",
       "      <td>1.000</td>\n",
       "      <td>0.444</td>\n",
       "      <td>0.875</td>\n",
       "      <td>0.389</td>\n",
       "      <td>0.625</td>\n",
       "      <td>0.278</td>\n",
       "    </tr>\n",
       "    <tr>\n",
       "      <th>35</th>\n",
       "      <td>1.000</td>\n",
       "      <td>0.389</td>\n",
       "      <td>0.857</td>\n",
       "      <td>0.333</td>\n",
       "      <td>0.571</td>\n",
       "      <td>0.222</td>\n",
       "    </tr>\n",
       "    <tr>\n",
       "      <th>36</th>\n",
       "      <td>1.000</td>\n",
       "      <td>0.333</td>\n",
       "      <td>0.833</td>\n",
       "      <td>0.278</td>\n",
       "      <td>0.500</td>\n",
       "      <td>0.167</td>\n",
       "    </tr>\n",
       "    <tr>\n",
       "      <th>37</th>\n",
       "      <td>1.000</td>\n",
       "      <td>0.278</td>\n",
       "      <td>1.000</td>\n",
       "      <td>0.278</td>\n",
       "      <td>0.600</td>\n",
       "      <td>0.167</td>\n",
       "    </tr>\n",
       "    <tr>\n",
       "      <th>38</th>\n",
       "      <td>1.000</td>\n",
       "      <td>0.222</td>\n",
       "      <td>1.000</td>\n",
       "      <td>0.222</td>\n",
       "      <td>0.500</td>\n",
       "      <td>0.111</td>\n",
       "    </tr>\n",
       "    <tr>\n",
       "      <th>39</th>\n",
       "      <td>1.000</td>\n",
       "      <td>0.167</td>\n",
       "      <td>1.000</td>\n",
       "      <td>0.167</td>\n",
       "      <td>0.333</td>\n",
       "      <td>0.056</td>\n",
       "    </tr>\n",
       "    <tr>\n",
       "      <th>40</th>\n",
       "      <td>1.000</td>\n",
       "      <td>0.111</td>\n",
       "      <td>1.000</td>\n",
       "      <td>0.111</td>\n",
       "      <td>0.500</td>\n",
       "      <td>0.056</td>\n",
       "    </tr>\n",
       "    <tr>\n",
       "      <th>41</th>\n",
       "      <td>1.000</td>\n",
       "      <td>0.056</td>\n",
       "      <td>1.000</td>\n",
       "      <td>0.056</td>\n",
       "      <td>1.000</td>\n",
       "      <td>0.056</td>\n",
       "    </tr>\n",
       "    <tr>\n",
       "      <th>42</th>\n",
       "      <td>1.000</td>\n",
       "      <td>0.000</td>\n",
       "      <td>1.000</td>\n",
       "      <td>0.000</td>\n",
       "      <td>1.000</td>\n",
       "      <td>0.000</td>\n",
       "    </tr>\n",
       "  </tbody>\n",
       "</table>\n",
       "</div>"
      ],
      "text/plain": [
       "   ALD study all          RF all          RF new      \n",
       "       precision   tpr precision   tpr precision   tpr\n",
       "0          0.429 1.000     0.429 1.000     0.429 1.000\n",
       "1          0.439 1.000     0.439 1.000     0.439 1.000\n",
       "2          0.450 1.000     0.450 1.000     0.450 1.000\n",
       "3          0.462 1.000     0.462 1.000     0.462 1.000\n",
       "4          0.474 1.000     0.474 1.000     0.474 1.000\n",
       "5          0.459 0.944     0.486 1.000     0.459 0.944\n",
       "6          0.472 0.944     0.500 1.000     0.472 0.944\n",
       "7          0.486 0.944     0.514 1.000     0.457 0.889\n",
       "8          0.500 0.944     0.529 1.000     0.441 0.833\n",
       "9          0.515 0.944     0.545 1.000     0.455 0.833\n",
       "10         0.531 0.944     0.562 1.000     0.438 0.778\n",
       "11         0.548 0.944     0.581 1.000     0.419 0.722\n",
       "12         0.567 0.944     0.600 1.000     0.433 0.722\n",
       "13         0.586 0.944     0.621 1.000     0.448 0.722\n",
       "14         0.607 0.944     0.643 1.000     0.464 0.722\n",
       "15         0.630 0.944     0.630 0.944     0.481 0.722\n",
       "16         0.654 0.944     0.615 0.889     0.500 0.722\n",
       "17         0.640 0.889     0.600 0.833     0.520 0.722\n",
       "18         0.667 0.889     0.583 0.778     0.542 0.722\n",
       "19         0.696 0.889     0.565 0.722     0.565 0.722\n",
       "20         0.682 0.833     0.591 0.722     0.591 0.722\n",
       "21         0.714 0.833     0.619 0.722     0.571 0.667\n",
       "22         0.700 0.778     0.600 0.667     0.550 0.611\n",
       "23         0.737 0.778     0.632 0.667     0.579 0.611\n",
       "24         0.778 0.778     0.667 0.667     0.611 0.611\n",
       "25         0.765 0.722     0.706 0.667     0.647 0.611\n",
       "26         0.750 0.667     0.688 0.611     0.625 0.556\n",
       "27         0.800 0.667     0.733 0.611     0.600 0.500\n",
       "28         0.857 0.667     0.786 0.611     0.571 0.444\n",
       "29         0.846 0.611     0.846 0.611     0.615 0.444\n",
       "30         0.833 0.556     0.833 0.556     0.583 0.389\n",
       "31         0.909 0.556     0.909 0.556     0.636 0.389\n",
       "32         1.000 0.556     0.900 0.500     0.600 0.333\n",
       "33         1.000 0.500     0.889 0.444     0.556 0.278\n",
       "34         1.000 0.444     0.875 0.389     0.625 0.278\n",
       "35         1.000 0.389     0.857 0.333     0.571 0.222\n",
       "36         1.000 0.333     0.833 0.278     0.500 0.167\n",
       "37         1.000 0.278     1.000 0.278     0.600 0.167\n",
       "38         1.000 0.222     1.000 0.222     0.500 0.111\n",
       "39         1.000 0.167     1.000 0.167     0.333 0.056\n",
       "40         1.000 0.111     1.000 0.111     0.500 0.056\n",
       "41         1.000 0.056     1.000 0.056     1.000 0.056\n",
       "42         1.000 0.000     1.000 0.000     1.000 0.000"
      ]
     },
     "execution_count": 33,
     "metadata": {},
     "output_type": "execute_result"
    }
   ],
   "source": [
    "prec_recall_curve = parse_prc(*res)\n",
    "prec_recall_curve.to_excel(fname.with_suffix('.xlsx'))\n",
    "prec_recall_curve"
   ]
  },
  {
   "cell_type": "markdown",
   "id": "0ddf0913",
   "metadata": {
    "papermill": {
     "duration": 0.051131,
     "end_time": "2024-05-27T12:14:22.744821",
     "exception": false,
     "start_time": "2024-05-27T12:14:22.693690",
     "status": "completed"
    },
    "tags": []
   },
   "source": [
    "## Train data plots"
   ]
  },
  {
   "cell_type": "code",
   "execution_count": 34,
   "id": "6eb3ed77",
   "metadata": {
    "execution": {
     "iopub.execute_input": "2024-05-27T12:14:22.882493Z",
     "iopub.status.busy": "2024-05-27T12:14:22.881640Z",
     "iopub.status.idle": "2024-05-27T12:14:23.796547Z",
     "shell.execute_reply": "2024-05-27T12:14:23.795769Z"
    },
    "papermill": {
     "duration": 1.000548,
     "end_time": "2024-05-27T12:14:23.798476",
     "exception": false,
     "start_time": "2024-05-27T12:14:22.797928",
     "status": "completed"
    },
    "tags": []
   },
   "outputs": [
    {
     "name": "stderr",
     "output_type": "stream",
     "text": [
      "vaep.plotting - INFO     Saved Figures to runs/alzheimer_study/diff_analysis/AD/PI_vs_RF/prec_recall_curve_train.pdf\n"
     ]
    },
    {
     "data": {
      "image/png": "[encoded data removed]",
      "text/plain": [
       "<Figure size 367.5x367.5 with 1 Axes>"
      ]
     },
     "metadata": {},
     "output_type": "display_data"
    }
   ],
   "source": [
    "fig, ax = plt.subplots(1, 1, figsize=figsize)\n",
    "\n",
    "ax = plot_split_prc(results_ald_full.train, results_ald_full.name, ax)\n",
    "ax = plot_split_prc(results_model_full.train, results_model_full.name, ax)\n",
    "ax = plot_split_prc(results_model_new.train, results_model_new.name, ax)\n",
    "fname = folder = args.out_folder / 'prec_recall_curve_train.pdf'\n",
    "files_out[fname.name] = fname\n",
    "vaep.savefig(fig, name=fname)"
   ]
  },
  {
   "cell_type": "code",
   "execution_count": 35,
   "id": "64fee389",
   "metadata": {
    "execution": {
     "iopub.execute_input": "2024-05-27T12:14:23.907042Z",
     "iopub.status.busy": "2024-05-27T12:14:23.906717Z",
     "iopub.status.idle": "2024-05-27T12:14:24.783042Z",
     "shell.execute_reply": "2024-05-27T12:14:24.782245Z"
    },
    "papermill": {
     "duration": 0.931942,
     "end_time": "2024-05-27T12:14:24.785061",
     "exception": false,
     "start_time": "2024-05-27T12:14:23.853119",
     "status": "completed"
    },
    "tags": []
   },
   "outputs": [
    {
     "name": "stderr",
     "output_type": "stream",
     "text": [
      "vaep.plotting - INFO     Saved Figures to runs/alzheimer_study/diff_analysis/AD/PI_vs_RF/auc_roc_curve_train.pdf\n"
     ]
    },
    {
     "data": {
      "image/png": "[encoded data removed]",
      "text/plain": [
       "<Figure size 367.5x367.5 with 1 Axes>"
      ]
     },
     "metadata": {},
     "output_type": "display_data"
    }
   ],
   "source": [
    "fig, ax = plt.subplots(1, 1, figsize=figsize)\n",
    "plot_split_auc(results_ald_full.train, results_ald_full.name, ax)\n",
    "plot_split_auc(results_model_full.train, results_model_full.name, ax)\n",
    "plot_split_auc(results_model_new.train, results_model_new.name, ax)\n",
    "fname = folder = args.out_folder / 'auc_roc_curve_train.pdf'\n",
    "files_out[fname.name] = fname\n",
    "vaep.savefig(fig, name=fname)"
   ]
  },
  {
   "cell_type": "markdown",
   "id": "545b7a34",
   "metadata": {
    "papermill": {
     "duration": 0.053137,
     "end_time": "2024-05-27T12:14:24.893281",
     "exception": false,
     "start_time": "2024-05-27T12:14:24.840144",
     "status": "completed"
    },
    "tags": []
   },
   "source": [
    "Options:\n",
    "- F1 results for test data for best cutoff on training data?\n",
    "  (select best cutoff of training data, evaluate on test data)\n",
    "- plot X_train PCA/UMAP, map X_test"
   ]
  },
  {
   "cell_type": "code",
   "execution_count": 36,
   "id": "860e0d5e",
   "metadata": {
    "execution": {
     "iopub.execute_input": "2024-05-27T12:14:25.001011Z",
     "iopub.status.busy": "2024-05-27T12:14:25.000659Z",
     "iopub.status.idle": "2024-05-27T12:14:25.006248Z",
     "shell.execute_reply": "2024-05-27T12:14:25.005550Z"
    },
    "papermill": {
     "duration": 0.064185,
     "end_time": "2024-05-27T12:14:25.010498",
     "exception": false,
     "start_time": "2024-05-27T12:14:24.946313",
     "status": "completed"
    },
    "tags": []
   },
   "outputs": [
    {
     "data": {
      "text/plain": [
       "{'results_RF all.pkl': PosixPath('runs/alzheimer_study/diff_analysis/AD/PI_vs_RF/results_RF all.pkl'),\n",
       " 'results_RF new.pkl': PosixPath('runs/alzheimer_study/diff_analysis/AD/PI_vs_RF/results_RF new.pkl'),\n",
       " 'results_ALD study all.pkl': PosixPath('runs/alzheimer_study/diff_analysis/AD/PI_vs_RF/results_ALD study all.pkl'),\n",
       " 'auc_roc_curve.pdf': PosixPath('runs/alzheimer_study/diff_analysis/AD/PI_vs_RF/auc_roc_curve.pdf'),\n",
       " 'mrmr_feat_by_model.xlsx': PosixPath('runs/alzheimer_study/diff_analysis/AD/PI_vs_RF/mrmr_feat_by_model.xlsx'),\n",
       " 'prec_recall_curve.pdf': PosixPath('runs/alzheimer_study/diff_analysis/AD/PI_vs_RF/prec_recall_curve.pdf'),\n",
       " 'prec_recall_curve_train.pdf': PosixPath('runs/alzheimer_study/diff_analysis/AD/PI_vs_RF/prec_recall_curve_train.pdf'),\n",
       " 'auc_roc_curve_train.pdf': PosixPath('runs/alzheimer_study/diff_analysis/AD/PI_vs_RF/auc_roc_curve_train.pdf')}"
      ]
     },
     "execution_count": 36,
     "metadata": {},
     "output_type": "execute_result"
    }
   ],
   "source": [
    "files_out"
   ]
  }
 ],
 "metadata": {
  "kernelspec": {
   "display_name": "Python 3",
   "language": "python",
   "name": "python3"
  },
  "language_info": {
   "codemirror_mode": {
    "name": "ipython",
    "version": 3
   },
   "file_extension": ".py",
   "mimetype": "text/x-python",
   "name": "python",
   "nbconvert_exporter": "python",
   "pygments_lexer": "ipython3",
   "version": "3.8.19"
  },
  "papermill": {
   "default_parameters": {},
   "duration": 378.483648,
   "end_time": "2024-05-27T12:14:27.709148",
   "environment_variables": {},
   "exception": null,
   "input_path": "10_3_ald_ml_new_feat.ipynb",
   "output_path": "runs/alzheimer_study/diff_analysis/AD/PI_vs_RF/10_3_ald_ml_new_feat.ipynb",
   "parameters": {
    "baseline": "PI",
    "cutoff_target": 0.5,
    "fn_clinical_data": "runs/alzheimer_study/data/clinical_data.csv",
    "folder_experiment": "runs/alzheimer_study",
    "model_key": "RF",
    "out_folder": "diff_analysis",
    "target": "AD"
   },
   "start_time": "2024-05-27T12:08:09.225500",
   "version": "2.6.0"
  }
 },
 "nbformat": 4,
 "nbformat_minor": 5
}