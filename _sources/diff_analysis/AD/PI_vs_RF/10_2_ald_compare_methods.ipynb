{
 "cells": [
  {
   "cell_type": "markdown",
   "id": "9acfeaca-5f8c-42f3-9a8e-83ed737eb35c",
   "metadata": {
    "papermill": {
     "duration": 0.014742,
     "end_time": "2024-08-19T19:15:50.194417",
     "exception": false,
     "start_time": "2024-08-19T19:15:50.179675",
     "status": "completed"
    },
    "tags": []
   },
   "source": [
    "# Compare outcomes from differential analysis based on different imputation methods\n",
    "\n",
    "- load scores based on `10_1_ald_diff_analysis`"
   ]
  },
  {
   "cell_type": "code",
   "execution_count": 1,
   "id": "eec6f931-c04d-428c-b2b1-0424c50e6cd2",
   "metadata": {
    "execution": {
     "iopub.execute_input": "2024-08-19T19:15:50.219546Z",
     "iopub.status.busy": "2024-08-19T19:15:50.219235Z",
     "iopub.status.idle": "2024-08-19T19:15:52.967448Z",
     "shell.execute_reply": "2024-08-19T19:15:52.966653Z"
    },
    "papermill": {
     "duration": 2.762615,
     "end_time": "2024-08-19T19:15:52.969393",
     "exception": false,
     "start_time": "2024-08-19T19:15:50.206778",
     "status": "completed"
    },
    "tags": [
     "hide-input"
    ]
   },
   "outputs": [],
   "source": [
    "import logging\n",
    "from pathlib import Path\n",
    "\n",
    "import matplotlib.pyplot as plt\n",
    "import pandas as pd\n",
    "import seaborn as sns\n",
    "from IPython.display import display\n",
    "\n",
    "import pimmslearn\n",
    "import pimmslearn.databases.diseases\n",
    "\n",
    "logger = pimmslearn.logging.setup_nb_logger()\n",
    "\n",
    "plt.rcParams['figure.figsize'] = (2, 2)\n",
    "fontsize = 5\n",
    "pimmslearn.plotting.make_large_descriptors(fontsize)\n",
    "logging.getLogger('fontTools').setLevel(logging.ERROR)\n",
    "\n",
    "# catch passed parameters\n",
    "args = None\n",
    "args = dict(globals()).keys()"
   ]
  },
  {
   "cell_type": "markdown",
   "id": "85f5f5d5",
   "metadata": {
    "papermill": {
     "duration": 0.013747,
     "end_time": "2024-08-19T19:15:52.999751",
     "exception": false,
     "start_time": "2024-08-19T19:15:52.986004",
     "status": "completed"
    },
    "tags": []
   },
   "source": [
    "## Parameters\n",
    "Default and set parameters for the notebook."
   ]
  },
  {
   "cell_type": "code",
   "execution_count": 2,
   "id": "f4bf65da-0569-4a21-ba20-9cae7d3679e7",
   "metadata": {
    "execution": {
     "iopub.execute_input": "2024-08-19T19:15:53.024686Z",
     "iopub.status.busy": "2024-08-19T19:15:53.024342Z",
     "iopub.status.idle": "2024-08-19T19:15:53.028557Z",
     "shell.execute_reply": "2024-08-19T19:15:53.027923Z"
    },
    "papermill": {
     "duration": 0.019491,
     "end_time": "2024-08-19T19:15:53.031038",
     "exception": false,
     "start_time": "2024-08-19T19:15:53.011547",
     "status": "completed"
    },
    "tags": [
     "parameters"
    ]
   },
   "outputs": [],
   "source": [
    "folder_experiment = 'runs/appl_ald_data/plasma/proteinGroups'\n",
    "\n",
    "target = 'kleiner'\n",
    "model_key = 'VAE'\n",
    "baseline = 'RSN'\n",
    "out_folder = 'diff_analysis'\n",
    "selected_statistics = ['p-unc', '-Log10 pvalue', 'qvalue', 'rejected']\n",
    "\n",
    "disease_ontology = 5082  # code from https://disease-ontology.org/\n",
    "# split diseases notebook? Query gene names for proteins in file from uniprot?\n",
    "annotaitons_gene_col = 'PG.Genes'"
   ]
  },
  {
   "cell_type": "code",
   "execution_count": 3,
   "id": "aa238ab5",
   "metadata": {
    "execution": {
     "iopub.execute_input": "2024-08-19T19:15:53.055525Z",
     "iopub.status.busy": "2024-08-19T19:15:53.055241Z",
     "iopub.status.idle": "2024-08-19T19:15:53.058932Z",
     "shell.execute_reply": "2024-08-19T19:15:53.058276Z"
    },
    "papermill": {
     "duration": 0.018849,
     "end_time": "2024-08-19T19:15:53.061529",
     "exception": false,
     "start_time": "2024-08-19T19:15:53.042680",
     "status": "completed"
    },
    "tags": [
     "injected-parameters"
    ]
   },
   "outputs": [],
   "source": [
    "# Parameters\n",
    "disease_ontology = 10652\n",
    "folder_experiment = \"runs/alzheimer_study\"\n",
    "target = \"AD\"\n",
    "baseline = \"PI\"\n",
    "model_key = \"RF\"\n",
    "out_folder = \"diff_analysis\"\n",
    "annotaitons_gene_col = \"None\"\n"
   ]
  },
  {
   "cell_type": "markdown",
   "id": "22c645fc-c7eb-4c69-a7aa-084fc733258f",
   "metadata": {
    "papermill": {
     "duration": 0.011687,
     "end_time": "2024-08-19T19:15:53.084932",
     "exception": false,
     "start_time": "2024-08-19T19:15:53.073245",
     "status": "completed"
    },
    "tags": []
   },
   "source": [
    "Add set parameters to configuration"
   ]
  },
  {
   "cell_type": "code",
   "execution_count": 4,
   "id": "978876d0-b3cc-4847-8eab-dc0b89ddbbcd",
   "metadata": {
    "execution": {
     "iopub.execute_input": "2024-08-19T19:15:53.110601Z",
     "iopub.status.busy": "2024-08-19T19:15:53.110309Z",
     "iopub.status.idle": "2024-08-19T19:15:53.130928Z",
     "shell.execute_reply": "2024-08-19T19:15:53.130270Z"
    },
    "papermill": {
     "duration": 0.040988,
     "end_time": "2024-08-19T19:15:53.138277",
     "exception": false,
     "start_time": "2024-08-19T19:15:53.097289",
     "status": "completed"
    },
    "tags": [
     "hide-input"
    ]
   },
   "outputs": [
    {
     "name": "stderr",
     "output_type": "stream",
     "text": [
      "root - INFO     Removed from global namespace: folder_experiment\n"
     ]
    },
    {
     "name": "stderr",
     "output_type": "stream",
     "text": [
      "root - INFO     Removed from global namespace: target\n"
     ]
    },
    {
     "name": "stderr",
     "output_type": "stream",
     "text": [
      "root - INFO     Removed from global namespace: model_key\n"
     ]
    },
    {
     "name": "stderr",
     "output_type": "stream",
     "text": [
      "root - INFO     Removed from global namespace: baseline\n"
     ]
    },
    {
     "name": "stderr",
     "output_type": "stream",
     "text": [
      "root - INFO     Removed from global namespace: out_folder\n"
     ]
    },
    {
     "name": "stderr",
     "output_type": "stream",
     "text": [
      "root - INFO     Removed from global namespace: selected_statistics\n"
     ]
    },
    {
     "name": "stderr",
     "output_type": "stream",
     "text": [
      "root - INFO     Removed from global namespace: disease_ontology\n"
     ]
    },
    {
     "name": "stderr",
     "output_type": "stream",
     "text": [
      "root - INFO     Removed from global namespace: annotaitons_gene_col\n"
     ]
    },
    {
     "name": "stderr",
     "output_type": "stream",
     "text": [
      "root - INFO     Already set attribute: folder_experiment has value runs/alzheimer_study\n"
     ]
    },
    {
     "name": "stderr",
     "output_type": "stream",
     "text": [
      "root - INFO     Already set attribute: out_folder has value diff_analysis\n"
     ]
    },
    {
     "data": {
      "text/plain": [
       "{'annotaitons_gene_col': 'None',\n",
       " 'baseline': 'PI',\n",
       " 'data': PosixPath('runs/alzheimer_study/data'),\n",
       " 'disease_ontology': 10652,\n",
       " 'folder_experiment': PosixPath('runs/alzheimer_study'),\n",
       " 'freq_features_observed': PosixPath('runs/alzheimer_study/freq_features_observed.csv'),\n",
       " 'model_key': 'RF',\n",
       " 'out_figures': PosixPath('runs/alzheimer_study/figures'),\n",
       " 'out_folder': PosixPath('runs/alzheimer_study/diff_analysis/AD/PI_vs_RF'),\n",
       " 'out_metrics': PosixPath('runs/alzheimer_study'),\n",
       " 'out_models': PosixPath('runs/alzheimer_study'),\n",
       " 'out_preds': PosixPath('runs/alzheimer_study/preds'),\n",
       " 'scores_folder': PosixPath('runs/alzheimer_study/diff_analysis/AD/scores'),\n",
       " 'selected_statistics': ['p-unc', '-Log10 pvalue', 'qvalue', 'rejected'],\n",
       " 'target': 'AD'}"
      ]
     },
     "execution_count": 4,
     "metadata": {},
     "output_type": "execute_result"
    }
   ],
   "source": [
    "params = pimmslearn.nb.get_params(args, globals=globals())\n",
    "args = pimmslearn.nb.Config()\n",
    "args.folder_experiment = Path(params[\"folder_experiment\"])\n",
    "args = pimmslearn.nb.add_default_paths(args,\n",
    "                                 out_root=(\n",
    "                                     args.folder_experiment\n",
    "                                     / params[\"out_folder\"]\n",
    "                                     / params[\"target\"]\n",
    "                                     / f\"{params['baseline']}_vs_{params['model_key']}\"))\n",
    "args.update_from_dict(params)\n",
    "args.scores_folder = scores_folder = (args.folder_experiment\n",
    "                                      / params[\"out_folder\"]\n",
    "                                      / params[\"target\"]\n",
    "                                      / 'scores')\n",
    "args.freq_features_observed = args.folder_experiment / 'freq_features_observed.csv'\n",
    "args"
   ]
  },
  {
   "cell_type": "markdown",
   "id": "fc184dea",
   "metadata": {
    "papermill": {
     "duration": 0.009322,
     "end_time": "2024-08-19T19:15:53.159330",
     "exception": false,
     "start_time": "2024-08-19T19:15:53.150008",
     "status": "completed"
    },
    "tags": []
   },
   "source": [
    "### Excel file for exports"
   ]
  },
  {
   "cell_type": "code",
   "execution_count": 5,
   "id": "a8016d79-e41a-40a2-bcbf-e11711c33b7d",
   "metadata": {
    "execution": {
     "iopub.execute_input": "2024-08-19T19:15:53.186561Z",
     "iopub.status.busy": "2024-08-19T19:15:53.186258Z",
     "iopub.status.idle": "2024-08-19T19:15:53.315097Z",
     "shell.execute_reply": "2024-08-19T19:15:53.314393Z"
    },
    "papermill": {
     "duration": 0.14443,
     "end_time": "2024-08-19T19:15:53.316840",
     "exception": false,
     "start_time": "2024-08-19T19:15:53.172410",
     "status": "completed"
    },
    "tags": []
   },
   "outputs": [
    {
     "name": "stderr",
     "output_type": "stream",
     "text": [
      "root - INFO     Writing to excel file: runs/alzheimer_study/diff_analysis/AD/PI_vs_RF/diff_analysis_compare_methods.xlsx\n"
     ]
    }
   ],
   "source": [
    "files_out = dict()\n",
    "writer_args = dict(float_format='%.3f')\n",
    "\n",
    "fname = args.out_folder / 'diff_analysis_compare_methods.xlsx'\n",
    "files_out[fname.name] = fname\n",
    "writer = pd.ExcelWriter(fname)\n",
    "logger.info(\"Writing to excel file: %s\", fname)"
   ]
  },
  {
   "cell_type": "markdown",
   "id": "770d1f76-e86f-4ae3-9d7b-ceef9b9e9a22",
   "metadata": {
    "papermill": {
     "duration": 0.029783,
     "end_time": "2024-08-19T19:15:53.367137",
     "exception": false,
     "start_time": "2024-08-19T19:15:53.337354",
     "status": "completed"
    },
    "tags": []
   },
   "source": [
    "## Load scores"
   ]
  },
  {
   "cell_type": "markdown",
   "id": "6b108869",
   "metadata": {
    "papermill": {
     "duration": 0.010459,
     "end_time": "2024-08-19T19:15:53.390568",
     "exception": false,
     "start_time": "2024-08-19T19:15:53.380109",
     "status": "completed"
    },
    "tags": []
   },
   "source": [
    "### Load baseline model scores\n",
    "Show all statistics, later use selected statistics"
   ]
  },
  {
   "cell_type": "code",
   "execution_count": 6,
   "id": "97221134-5f61-4158-bfc5-ea30077140b8",
   "metadata": {
    "execution": {
     "iopub.execute_input": "2024-08-19T19:15:53.409326Z",
     "iopub.status.busy": "2024-08-19T19:15:53.409028Z",
     "iopub.status.idle": "2024-08-19T19:15:53.444378Z",
     "shell.execute_reply": "2024-08-19T19:15:53.443782Z"
    },
    "papermill": {
     "duration": 0.049065,
     "end_time": "2024-08-19T19:15:53.445801",
     "exception": false,
     "start_time": "2024-08-19T19:15:53.396736",
     "status": "completed"
    },
    "tags": [
     "hide-input"
    ]
   },
   "outputs": [
    {
     "data": {
      "text/html": [
       "<div>\n",
       "<style scoped>\n",
       "    .dataframe tbody tr th:only-of-type {\n",
       "        vertical-align: middle;\n",
       "    }\n",
       "\n",
       "    .dataframe tbody tr th {\n",
       "        vertical-align: top;\n",
       "    }\n",
       "\n",
       "    .dataframe thead tr th {\n",
       "        text-align: left;\n",
       "    }\n",
       "\n",
       "    .dataframe thead tr:last-of-type th {\n",
       "        text-align: right;\n",
       "    }\n",
       "</style>\n",
       "<table border=\"1\" class=\"dataframe\">\n",
       "  <thead>\n",
       "    <tr>\n",
       "      <th></th>\n",
       "      <th>model</th>\n",
       "      <th colspan=\"8\" halign=\"left\">PI</th>\n",
       "    </tr>\n",
       "    <tr>\n",
       "      <th></th>\n",
       "      <th>var</th>\n",
       "      <th>SS</th>\n",
       "      <th>DF</th>\n",
       "      <th>F</th>\n",
       "      <th>p-unc</th>\n",
       "      <th>np2</th>\n",
       "      <th>-Log10 pvalue</th>\n",
       "      <th>qvalue</th>\n",
       "      <th>rejected</th>\n",
       "    </tr>\n",
       "    <tr>\n",
       "      <th>protein groups</th>\n",
       "      <th>Source</th>\n",
       "      <th></th>\n",
       "      <th></th>\n",
       "      <th></th>\n",
       "      <th></th>\n",
       "      <th></th>\n",
       "      <th></th>\n",
       "      <th></th>\n",
       "      <th></th>\n",
       "    </tr>\n",
       "  </thead>\n",
       "  <tbody>\n",
       "    <tr>\n",
       "      <th rowspan=\"5\" valign=\"top\">A0A024QZX5;A0A087X1N8;P35237</th>\n",
       "      <th>AD</th>\n",
       "      <td>0.382</td>\n",
       "      <td>1</td>\n",
       "      <td>0.668</td>\n",
       "      <td>0.415</td>\n",
       "      <td>0.003</td>\n",
       "      <td>0.382</td>\n",
       "      <td>0.573</td>\n",
       "      <td>False</td>\n",
       "    </tr>\n",
       "    <tr>\n",
       "      <th>age</th>\n",
       "      <td>0.013</td>\n",
       "      <td>1</td>\n",
       "      <td>0.023</td>\n",
       "      <td>0.880</td>\n",
       "      <td>0.000</td>\n",
       "      <td>0.056</td>\n",
       "      <td>0.933</td>\n",
       "      <td>False</td>\n",
       "    </tr>\n",
       "    <tr>\n",
       "      <th>Kiel</th>\n",
       "      <td>1.664</td>\n",
       "      <td>1</td>\n",
       "      <td>2.913</td>\n",
       "      <td>0.090</td>\n",
       "      <td>0.015</td>\n",
       "      <td>1.048</td>\n",
       "      <td>0.192</td>\n",
       "      <td>False</td>\n",
       "    </tr>\n",
       "    <tr>\n",
       "      <th>Magdeburg</th>\n",
       "      <td>5.012</td>\n",
       "      <td>1</td>\n",
       "      <td>8.771</td>\n",
       "      <td>0.003</td>\n",
       "      <td>0.044</td>\n",
       "      <td>2.462</td>\n",
       "      <td>0.014</td>\n",
       "      <td>True</td>\n",
       "    </tr>\n",
       "    <tr>\n",
       "      <th>Sweden</th>\n",
       "      <td>8.040</td>\n",
       "      <td>1</td>\n",
       "      <td>14.071</td>\n",
       "      <td>0.000</td>\n",
       "      <td>0.069</td>\n",
       "      <td>3.632</td>\n",
       "      <td>0.001</td>\n",
       "      <td>True</td>\n",
       "    </tr>\n",
       "    <tr>\n",
       "      <th>...</th>\n",
       "      <th>...</th>\n",
       "      <td>...</td>\n",
       "      <td>...</td>\n",
       "      <td>...</td>\n",
       "      <td>...</td>\n",
       "      <td>...</td>\n",
       "      <td>...</td>\n",
       "      <td>...</td>\n",
       "      <td>...</td>\n",
       "    </tr>\n",
       "    <tr>\n",
       "      <th rowspan=\"5\" valign=\"top\">S4R3U6</th>\n",
       "      <th>AD</th>\n",
       "      <td>1.266</td>\n",
       "      <td>1</td>\n",
       "      <td>1.453</td>\n",
       "      <td>0.229</td>\n",
       "      <td>0.008</td>\n",
       "      <td>0.639</td>\n",
       "      <td>0.382</td>\n",
       "      <td>False</td>\n",
       "    </tr>\n",
       "    <tr>\n",
       "      <th>age</th>\n",
       "      <td>0.660</td>\n",
       "      <td>1</td>\n",
       "      <td>0.758</td>\n",
       "      <td>0.385</td>\n",
       "      <td>0.004</td>\n",
       "      <td>0.415</td>\n",
       "      <td>0.546</td>\n",
       "      <td>False</td>\n",
       "    </tr>\n",
       "    <tr>\n",
       "      <th>Kiel</th>\n",
       "      <td>0.051</td>\n",
       "      <td>1</td>\n",
       "      <td>0.059</td>\n",
       "      <td>0.809</td>\n",
       "      <td>0.000</td>\n",
       "      <td>0.092</td>\n",
       "      <td>0.888</td>\n",
       "      <td>False</td>\n",
       "    </tr>\n",
       "    <tr>\n",
       "      <th>Magdeburg</th>\n",
       "      <td>0.944</td>\n",
       "      <td>1</td>\n",
       "      <td>1.084</td>\n",
       "      <td>0.299</td>\n",
       "      <td>0.006</td>\n",
       "      <td>0.524</td>\n",
       "      <td>0.459</td>\n",
       "      <td>False</td>\n",
       "    </tr>\n",
       "    <tr>\n",
       "      <th>Sweden</th>\n",
       "      <td>14.506</td>\n",
       "      <td>1</td>\n",
       "      <td>16.657</td>\n",
       "      <td>0.000</td>\n",
       "      <td>0.080</td>\n",
       "      <td>4.182</td>\n",
       "      <td>0.000</td>\n",
       "      <td>True</td>\n",
       "    </tr>\n",
       "  </tbody>\n",
       "</table>\n",
       "<p>7105 rows × 8 columns</p>\n",
       "</div>"
      ],
      "text/plain": [
       "model                                      PI                        \\\n",
       "var                                        SS DF      F p-unc   np2   \n",
       "protein groups               Source                                   \n",
       "A0A024QZX5;A0A087X1N8;P35237 AD         0.382  1  0.668 0.415 0.003   \n",
       "                             age        0.013  1  0.023 0.880 0.000   \n",
       "                             Kiel       1.664  1  2.913 0.090 0.015   \n",
       "                             Magdeburg  5.012  1  8.771 0.003 0.044   \n",
       "                             Sweden     8.040  1 14.071 0.000 0.069   \n",
       "...                                       ... ..    ...   ...   ...   \n",
       "S4R3U6                       AD         1.266  1  1.453 0.229 0.008   \n",
       "                             age        0.660  1  0.758 0.385 0.004   \n",
       "                             Kiel       0.051  1  0.059 0.809 0.000   \n",
       "                             Magdeburg  0.944  1  1.084 0.299 0.006   \n",
       "                             Sweden    14.506  1 16.657 0.000 0.080   \n",
       "\n",
       "model                                                                 \n",
       "var                                    -Log10 pvalue qvalue rejected  \n",
       "protein groups               Source                                   \n",
       "A0A024QZX5;A0A087X1N8;P35237 AD                0.382  0.573    False  \n",
       "                             age               0.056  0.933    False  \n",
       "                             Kiel              1.048  0.192    False  \n",
       "                             Magdeburg         2.462  0.014     True  \n",
       "                             Sweden            3.632  0.001     True  \n",
       "...                                              ...    ...      ...  \n",
       "S4R3U6                       AD                0.639  0.382    False  \n",
       "                             age               0.415  0.546    False  \n",
       "                             Kiel              0.092  0.888    False  \n",
       "                             Magdeburg         0.524  0.459    False  \n",
       "                             Sweden            4.182  0.000     True  \n",
       "\n",
       "[7105 rows x 8 columns]"
      ]
     },
     "execution_count": 6,
     "metadata": {},
     "output_type": "execute_result"
    }
   ],
   "source": [
    "fname = args.scores_folder / f'diff_analysis_scores_{args.baseline}.pkl'\n",
    "scores_baseline = pd.read_pickle(fname)\n",
    "scores_baseline"
   ]
  },
  {
   "cell_type": "markdown",
   "id": "e49a8da2",
   "metadata": {
    "papermill": {
     "duration": 0.011304,
     "end_time": "2024-08-19T19:15:53.469992",
     "exception": false,
     "start_time": "2024-08-19T19:15:53.458688",
     "status": "completed"
    },
    "tags": []
   },
   "source": [
    "### Load selected comparison model scores"
   ]
  },
  {
   "cell_type": "code",
   "execution_count": 7,
   "id": "f0635e4d",
   "metadata": {
    "execution": {
     "iopub.execute_input": "2024-08-19T19:15:53.497740Z",
     "iopub.status.busy": "2024-08-19T19:15:53.497437Z",
     "iopub.status.idle": "2024-08-19T19:15:53.515174Z",
     "shell.execute_reply": "2024-08-19T19:15:53.514550Z"
    },
    "papermill": {
     "duration": 0.033596,
     "end_time": "2024-08-19T19:15:53.516855",
     "exception": false,
     "start_time": "2024-08-19T19:15:53.483259",
     "status": "completed"
    },
    "tags": [
     "hide-input"
    ]
   },
   "outputs": [
    {
     "data": {
      "text/html": [
       "<div>\n",
       "<style scoped>\n",
       "    .dataframe tbody tr th:only-of-type {\n",
       "        vertical-align: middle;\n",
       "    }\n",
       "\n",
       "    .dataframe tbody tr th {\n",
       "        vertical-align: top;\n",
       "    }\n",
       "\n",
       "    .dataframe thead tr th {\n",
       "        text-align: left;\n",
       "    }\n",
       "\n",
       "    .dataframe thead tr:last-of-type th {\n",
       "        text-align: right;\n",
       "    }\n",
       "</style>\n",
       "<table border=\"1\" class=\"dataframe\">\n",
       "  <thead>\n",
       "    <tr>\n",
       "      <th></th>\n",
       "      <th>model</th>\n",
       "      <th colspan=\"8\" halign=\"left\">RF</th>\n",
       "    </tr>\n",
       "    <tr>\n",
       "      <th></th>\n",
       "      <th>var</th>\n",
       "      <th>SS</th>\n",
       "      <th>DF</th>\n",
       "      <th>F</th>\n",
       "      <th>p-unc</th>\n",
       "      <th>np2</th>\n",
       "      <th>-Log10 pvalue</th>\n",
       "      <th>qvalue</th>\n",
       "      <th>rejected</th>\n",
       "    </tr>\n",
       "    <tr>\n",
       "      <th>protein groups</th>\n",
       "      <th>Source</th>\n",
       "      <th></th>\n",
       "      <th></th>\n",
       "      <th></th>\n",
       "      <th></th>\n",
       "      <th></th>\n",
       "      <th></th>\n",
       "      <th></th>\n",
       "      <th></th>\n",
       "    </tr>\n",
       "  </thead>\n",
       "  <tbody>\n",
       "    <tr>\n",
       "      <th rowspan=\"5\" valign=\"top\">A0A024QZX5;A0A087X1N8;P35237</th>\n",
       "      <th>AD</th>\n",
       "      <td>0.935</td>\n",
       "      <td>1</td>\n",
       "      <td>7.035</td>\n",
       "      <td>0.009</td>\n",
       "      <td>0.036</td>\n",
       "      <td>2.062</td>\n",
       "      <td>0.025</td>\n",
       "      <td>True</td>\n",
       "    </tr>\n",
       "    <tr>\n",
       "      <th>age</th>\n",
       "      <td>0.002</td>\n",
       "      <td>1</td>\n",
       "      <td>0.016</td>\n",
       "      <td>0.900</td>\n",
       "      <td>0.000</td>\n",
       "      <td>0.046</td>\n",
       "      <td>0.940</td>\n",
       "      <td>False</td>\n",
       "    </tr>\n",
       "    <tr>\n",
       "      <th>Kiel</th>\n",
       "      <td>0.209</td>\n",
       "      <td>1</td>\n",
       "      <td>1.572</td>\n",
       "      <td>0.211</td>\n",
       "      <td>0.008</td>\n",
       "      <td>0.675</td>\n",
       "      <td>0.336</td>\n",
       "      <td>False</td>\n",
       "    </tr>\n",
       "    <tr>\n",
       "      <th>Magdeburg</th>\n",
       "      <td>0.423</td>\n",
       "      <td>1</td>\n",
       "      <td>3.184</td>\n",
       "      <td>0.076</td>\n",
       "      <td>0.016</td>\n",
       "      <td>1.120</td>\n",
       "      <td>0.150</td>\n",
       "      <td>False</td>\n",
       "    </tr>\n",
       "    <tr>\n",
       "      <th>Sweden</th>\n",
       "      <td>1.603</td>\n",
       "      <td>1</td>\n",
       "      <td>12.068</td>\n",
       "      <td>0.001</td>\n",
       "      <td>0.059</td>\n",
       "      <td>3.198</td>\n",
       "      <td>0.003</td>\n",
       "      <td>True</td>\n",
       "    </tr>\n",
       "    <tr>\n",
       "      <th>...</th>\n",
       "      <th>...</th>\n",
       "      <td>...</td>\n",
       "      <td>...</td>\n",
       "      <td>...</td>\n",
       "      <td>...</td>\n",
       "      <td>...</td>\n",
       "      <td>...</td>\n",
       "      <td>...</td>\n",
       "      <td>...</td>\n",
       "    </tr>\n",
       "    <tr>\n",
       "      <th rowspan=\"5\" valign=\"top\">S4R3U6</th>\n",
       "      <th>AD</th>\n",
       "      <td>1.404</td>\n",
       "      <td>1</td>\n",
       "      <td>2.888</td>\n",
       "      <td>0.091</td>\n",
       "      <td>0.015</td>\n",
       "      <td>1.042</td>\n",
       "      <td>0.174</td>\n",
       "      <td>False</td>\n",
       "    </tr>\n",
       "    <tr>\n",
       "      <th>age</th>\n",
       "      <td>0.970</td>\n",
       "      <td>1</td>\n",
       "      <td>1.995</td>\n",
       "      <td>0.159</td>\n",
       "      <td>0.010</td>\n",
       "      <td>0.797</td>\n",
       "      <td>0.270</td>\n",
       "      <td>False</td>\n",
       "    </tr>\n",
       "    <tr>\n",
       "      <th>Kiel</th>\n",
       "      <td>2.267</td>\n",
       "      <td>1</td>\n",
       "      <td>4.662</td>\n",
       "      <td>0.032</td>\n",
       "      <td>0.024</td>\n",
       "      <td>1.494</td>\n",
       "      <td>0.074</td>\n",
       "      <td>False</td>\n",
       "    </tr>\n",
       "    <tr>\n",
       "      <th>Magdeburg</th>\n",
       "      <td>1.845</td>\n",
       "      <td>1</td>\n",
       "      <td>3.795</td>\n",
       "      <td>0.053</td>\n",
       "      <td>0.019</td>\n",
       "      <td>1.277</td>\n",
       "      <td>0.112</td>\n",
       "      <td>False</td>\n",
       "    </tr>\n",
       "    <tr>\n",
       "      <th>Sweden</th>\n",
       "      <td>11.160</td>\n",
       "      <td>1</td>\n",
       "      <td>22.953</td>\n",
       "      <td>0.000</td>\n",
       "      <td>0.107</td>\n",
       "      <td>5.478</td>\n",
       "      <td>0.000</td>\n",
       "      <td>True</td>\n",
       "    </tr>\n",
       "  </tbody>\n",
       "</table>\n",
       "<p>7105 rows × 8 columns</p>\n",
       "</div>"
      ],
      "text/plain": [
       "model                                      RF                        \\\n",
       "var                                        SS DF      F p-unc   np2   \n",
       "protein groups               Source                                   \n",
       "A0A024QZX5;A0A087X1N8;P35237 AD         0.935  1  7.035 0.009 0.036   \n",
       "                             age        0.002  1  0.016 0.900 0.000   \n",
       "                             Kiel       0.209  1  1.572 0.211 0.008   \n",
       "                             Magdeburg  0.423  1  3.184 0.076 0.016   \n",
       "                             Sweden     1.603  1 12.068 0.001 0.059   \n",
       "...                                       ... ..    ...   ...   ...   \n",
       "S4R3U6                       AD         1.404  1  2.888 0.091 0.015   \n",
       "                             age        0.970  1  1.995 0.159 0.010   \n",
       "                             Kiel       2.267  1  4.662 0.032 0.024   \n",
       "                             Magdeburg  1.845  1  3.795 0.053 0.019   \n",
       "                             Sweden    11.160  1 22.953 0.000 0.107   \n",
       "\n",
       "model                                                                 \n",
       "var                                    -Log10 pvalue qvalue rejected  \n",
       "protein groups               Source                                   \n",
       "A0A024QZX5;A0A087X1N8;P35237 AD                2.062  0.025     True  \n",
       "                             age               0.046  0.940    False  \n",
       "                             Kiel              0.675  0.336    False  \n",
       "                             Magdeburg         1.120  0.150    False  \n",
       "                             Sweden            3.198  0.003     True  \n",
       "...                                              ...    ...      ...  \n",
       "S4R3U6                       AD                1.042  0.174    False  \n",
       "                             age               0.797  0.270    False  \n",
       "                             Kiel              1.494  0.074    False  \n",
       "                             Magdeburg         1.277  0.112    False  \n",
       "                             Sweden            5.478  0.000     True  \n",
       "\n",
       "[7105 rows x 8 columns]"
      ]
     },
     "execution_count": 7,
     "metadata": {},
     "output_type": "execute_result"
    }
   ],
   "source": [
    "fname = args.scores_folder / f'diff_analysis_scores_{args.model_key}.pkl'\n",
    "scores_model = pd.read_pickle(fname)\n",
    "scores_model"
   ]
  },
  {
   "cell_type": "markdown",
   "id": "06b7e883",
   "metadata": {
    "papermill": {
     "duration": 0.013542,
     "end_time": "2024-08-19T19:15:53.544469",
     "exception": false,
     "start_time": "2024-08-19T19:15:53.530927",
     "status": "completed"
    },
    "tags": []
   },
   "source": [
    "### Combined scores\n",
    "show only selected statistics for comparsion"
   ]
  },
  {
   "cell_type": "code",
   "execution_count": 8,
   "id": "373fdf65",
   "metadata": {
    "execution": {
     "iopub.execute_input": "2024-08-19T19:15:53.573822Z",
     "iopub.status.busy": "2024-08-19T19:15:53.573470Z",
     "iopub.status.idle": "2024-08-19T19:15:53.625178Z",
     "shell.execute_reply": "2024-08-19T19:15:53.624544Z"
    },
    "papermill": {
     "duration": 0.067718,
     "end_time": "2024-08-19T19:15:53.626830",
     "exception": false,
     "start_time": "2024-08-19T19:15:53.559112",
     "status": "completed"
    },
    "tags": [
     "hide-input"
    ]
   },
   "outputs": [
    {
     "data": {
      "text/html": [
       "<div>\n",
       "<style scoped>\n",
       "    .dataframe tbody tr th:only-of-type {\n",
       "        vertical-align: middle;\n",
       "    }\n",
       "\n",
       "    .dataframe tbody tr th {\n",
       "        vertical-align: top;\n",
       "    }\n",
       "\n",
       "    .dataframe thead tr th {\n",
       "        text-align: left;\n",
       "    }\n",
       "\n",
       "    .dataframe thead tr:last-of-type th {\n",
       "        text-align: right;\n",
       "    }\n",
       "</style>\n",
       "<table border=\"1\" class=\"dataframe\">\n",
       "  <thead>\n",
       "    <tr>\n",
       "      <th></th>\n",
       "      <th>model</th>\n",
       "      <th colspan=\"4\" halign=\"left\">PI</th>\n",
       "      <th colspan=\"4\" halign=\"left\">RF</th>\n",
       "    </tr>\n",
       "    <tr>\n",
       "      <th></th>\n",
       "      <th>var</th>\n",
       "      <th>p-unc</th>\n",
       "      <th>-Log10 pvalue</th>\n",
       "      <th>qvalue</th>\n",
       "      <th>rejected</th>\n",
       "      <th>p-unc</th>\n",
       "      <th>-Log10 pvalue</th>\n",
       "      <th>qvalue</th>\n",
       "      <th>rejected</th>\n",
       "    </tr>\n",
       "    <tr>\n",
       "      <th>protein groups</th>\n",
       "      <th>Source</th>\n",
       "      <th></th>\n",
       "      <th></th>\n",
       "      <th></th>\n",
       "      <th></th>\n",
       "      <th></th>\n",
       "      <th></th>\n",
       "      <th></th>\n",
       "      <th></th>\n",
       "    </tr>\n",
       "  </thead>\n",
       "  <tbody>\n",
       "    <tr>\n",
       "      <th rowspan=\"5\" valign=\"top\">A0A024QZX5;A0A087X1N8;P35237</th>\n",
       "      <th>AD</th>\n",
       "      <td>0.415</td>\n",
       "      <td>0.382</td>\n",
       "      <td>0.573</td>\n",
       "      <td>False</td>\n",
       "      <td>0.009</td>\n",
       "      <td>2.062</td>\n",
       "      <td>0.025</td>\n",
       "      <td>True</td>\n",
       "    </tr>\n",
       "    <tr>\n",
       "      <th>Kiel</th>\n",
       "      <td>0.090</td>\n",
       "      <td>1.048</td>\n",
       "      <td>0.192</td>\n",
       "      <td>False</td>\n",
       "      <td>0.211</td>\n",
       "      <td>0.675</td>\n",
       "      <td>0.336</td>\n",
       "      <td>False</td>\n",
       "    </tr>\n",
       "    <tr>\n",
       "      <th>Magdeburg</th>\n",
       "      <td>0.003</td>\n",
       "      <td>2.462</td>\n",
       "      <td>0.014</td>\n",
       "      <td>True</td>\n",
       "      <td>0.076</td>\n",
       "      <td>1.120</td>\n",
       "      <td>0.150</td>\n",
       "      <td>False</td>\n",
       "    </tr>\n",
       "    <tr>\n",
       "      <th>Sweden</th>\n",
       "      <td>0.000</td>\n",
       "      <td>3.632</td>\n",
       "      <td>0.001</td>\n",
       "      <td>True</td>\n",
       "      <td>0.001</td>\n",
       "      <td>3.198</td>\n",
       "      <td>0.003</td>\n",
       "      <td>True</td>\n",
       "    </tr>\n",
       "    <tr>\n",
       "      <th>age</th>\n",
       "      <td>0.880</td>\n",
       "      <td>0.056</td>\n",
       "      <td>0.933</td>\n",
       "      <td>False</td>\n",
       "      <td>0.900</td>\n",
       "      <td>0.046</td>\n",
       "      <td>0.940</td>\n",
       "      <td>False</td>\n",
       "    </tr>\n",
       "    <tr>\n",
       "      <th>...</th>\n",
       "      <th>...</th>\n",
       "      <td>...</td>\n",
       "      <td>...</td>\n",
       "      <td>...</td>\n",
       "      <td>...</td>\n",
       "      <td>...</td>\n",
       "      <td>...</td>\n",
       "      <td>...</td>\n",
       "      <td>...</td>\n",
       "    </tr>\n",
       "    <tr>\n",
       "      <th rowspan=\"5\" valign=\"top\">S4R3U6</th>\n",
       "      <th>AD</th>\n",
       "      <td>0.229</td>\n",
       "      <td>0.639</td>\n",
       "      <td>0.382</td>\n",
       "      <td>False</td>\n",
       "      <td>0.091</td>\n",
       "      <td>1.042</td>\n",
       "      <td>0.174</td>\n",
       "      <td>False</td>\n",
       "    </tr>\n",
       "    <tr>\n",
       "      <th>Kiel</th>\n",
       "      <td>0.809</td>\n",
       "      <td>0.092</td>\n",
       "      <td>0.888</td>\n",
       "      <td>False</td>\n",
       "      <td>0.032</td>\n",
       "      <td>1.494</td>\n",
       "      <td>0.074</td>\n",
       "      <td>False</td>\n",
       "    </tr>\n",
       "    <tr>\n",
       "      <th>Magdeburg</th>\n",
       "      <td>0.299</td>\n",
       "      <td>0.524</td>\n",
       "      <td>0.459</td>\n",
       "      <td>False</td>\n",
       "      <td>0.053</td>\n",
       "      <td>1.277</td>\n",
       "      <td>0.112</td>\n",
       "      <td>False</td>\n",
       "    </tr>\n",
       "    <tr>\n",
       "      <th>Sweden</th>\n",
       "      <td>0.000</td>\n",
       "      <td>4.182</td>\n",
       "      <td>0.000</td>\n",
       "      <td>True</td>\n",
       "      <td>0.000</td>\n",
       "      <td>5.478</td>\n",
       "      <td>0.000</td>\n",
       "      <td>True</td>\n",
       "    </tr>\n",
       "    <tr>\n",
       "      <th>age</th>\n",
       "      <td>0.385</td>\n",
       "      <td>0.415</td>\n",
       "      <td>0.546</td>\n",
       "      <td>False</td>\n",
       "      <td>0.159</td>\n",
       "      <td>0.797</td>\n",
       "      <td>0.270</td>\n",
       "      <td>False</td>\n",
       "    </tr>\n",
       "  </tbody>\n",
       "</table>\n",
       "<p>7105 rows × 8 columns</p>\n",
       "</div>"
      ],
      "text/plain": [
       "model                                     PI                                \\\n",
       "var                                    p-unc -Log10 pvalue qvalue rejected   \n",
       "protein groups               Source                                          \n",
       "A0A024QZX5;A0A087X1N8;P35237 AD        0.415         0.382  0.573    False   \n",
       "                             Kiel      0.090         1.048  0.192    False   \n",
       "                             Magdeburg 0.003         2.462  0.014     True   \n",
       "                             Sweden    0.000         3.632  0.001     True   \n",
       "                             age       0.880         0.056  0.933    False   \n",
       "...                                      ...           ...    ...      ...   \n",
       "S4R3U6                       AD        0.229         0.639  0.382    False   \n",
       "                             Kiel      0.809         0.092  0.888    False   \n",
       "                             Magdeburg 0.299         0.524  0.459    False   \n",
       "                             Sweden    0.000         4.182  0.000     True   \n",
       "                             age       0.385         0.415  0.546    False   \n",
       "\n",
       "model                                     RF                                \n",
       "var                                    p-unc -Log10 pvalue qvalue rejected  \n",
       "protein groups               Source                                         \n",
       "A0A024QZX5;A0A087X1N8;P35237 AD        0.009         2.062  0.025     True  \n",
       "                             Kiel      0.211         0.675  0.336    False  \n",
       "                             Magdeburg 0.076         1.120  0.150    False  \n",
       "                             Sweden    0.001         3.198  0.003     True  \n",
       "                             age       0.900         0.046  0.940    False  \n",
       "...                                      ...           ...    ...      ...  \n",
       "S4R3U6                       AD        0.091         1.042  0.174    False  \n",
       "                             Kiel      0.032         1.494  0.074    False  \n",
       "                             Magdeburg 0.053         1.277  0.112    False  \n",
       "                             Sweden    0.000         5.478  0.000     True  \n",
       "                             age       0.159         0.797  0.270    False  \n",
       "\n",
       "[7105 rows x 8 columns]"
      ]
     },
     "execution_count": 8,
     "metadata": {},
     "output_type": "execute_result"
    }
   ],
   "source": [
    "scores = scores_model.join(scores_baseline, how='outer')[[args.baseline, args.model_key]]\n",
    "scores = scores.loc[:, pd.IndexSlice[scores.columns.levels[0].to_list(),\n",
    "                                     args.selected_statistics]]\n",
    "scores"
   ]
  },
  {
   "cell_type": "markdown",
   "id": "b84a6e5a",
   "metadata": {
    "papermill": {
     "duration": 0.01374,
     "end_time": "2024-08-19T19:15:53.655331",
     "exception": false,
     "start_time": "2024-08-19T19:15:53.641591",
     "status": "completed"
    },
    "tags": []
   },
   "source": [
    "Models in comparison (name mapping)"
   ]
  },
  {
   "cell_type": "code",
   "execution_count": 9,
   "id": "34d243d1-3ab4-40e7-9eb8-f9efc828b82d",
   "metadata": {
    "execution": {
     "iopub.execute_input": "2024-08-19T19:15:53.686806Z",
     "iopub.status.busy": "2024-08-19T19:15:53.686518Z",
     "iopub.status.idle": "2024-08-19T19:15:53.691487Z",
     "shell.execute_reply": "2024-08-19T19:15:53.690912Z"
    },
    "papermill": {
     "duration": 0.023212,
     "end_time": "2024-08-19T19:15:53.694715",
     "exception": false,
     "start_time": "2024-08-19T19:15:53.671503",
     "status": "completed"
    },
    "tags": [
     "hide-input"
    ]
   },
   "outputs": [
    {
     "data": {
      "text/plain": [
       "{'PI': 'PI', 'RF': 'RF'}"
      ]
     },
     "execution_count": 9,
     "metadata": {},
     "output_type": "execute_result"
    }
   ],
   "source": [
    "models = pimmslearn.nb.Config.from_dict(\n",
    "    pimmslearn.pandas.index_to_dict(scores.columns.get_level_values(0)))\n",
    "vars(models)"
   ]
  },
  {
   "cell_type": "markdown",
   "id": "dd7a560d",
   "metadata": {
    "papermill": {
     "duration": 0.014089,
     "end_time": "2024-08-19T19:15:53.723241",
     "exception": false,
     "start_time": "2024-08-19T19:15:53.709152",
     "status": "completed"
    },
    "tags": []
   },
   "source": [
    "## Describe scores"
   ]
  },
  {
   "cell_type": "code",
   "execution_count": 10,
   "id": "0fee8f5d-fa52-4369-a1f9-fcfd518ab6bd",
   "metadata": {
    "execution": {
     "iopub.execute_input": "2024-08-19T19:15:53.754410Z",
     "iopub.status.busy": "2024-08-19T19:15:53.754110Z",
     "iopub.status.idle": "2024-08-19T19:15:53.797213Z",
     "shell.execute_reply": "2024-08-19T19:15:53.796568Z"
    },
    "papermill": {
     "duration": 0.060175,
     "end_time": "2024-08-19T19:15:53.798878",
     "exception": false,
     "start_time": "2024-08-19T19:15:53.738703",
     "status": "completed"
    },
    "tags": [
     "hide-input"
    ]
   },
   "outputs": [
    {
     "data": {
      "text/html": [
       "<div>\n",
       "<style scoped>\n",
       "    .dataframe tbody tr th:only-of-type {\n",
       "        vertical-align: middle;\n",
       "    }\n",
       "\n",
       "    .dataframe tbody tr th {\n",
       "        vertical-align: top;\n",
       "    }\n",
       "\n",
       "    .dataframe thead tr th {\n",
       "        text-align: left;\n",
       "    }\n",
       "</style>\n",
       "<table border=\"1\" class=\"dataframe\">\n",
       "  <thead>\n",
       "    <tr>\n",
       "      <th>model</th>\n",
       "      <th colspan=\"3\" halign=\"left\">PI</th>\n",
       "      <th colspan=\"3\" halign=\"left\">RF</th>\n",
       "    </tr>\n",
       "    <tr>\n",
       "      <th>var</th>\n",
       "      <th>p-unc</th>\n",
       "      <th>-Log10 pvalue</th>\n",
       "      <th>qvalue</th>\n",
       "      <th>p-unc</th>\n",
       "      <th>-Log10 pvalue</th>\n",
       "      <th>qvalue</th>\n",
       "    </tr>\n",
       "  </thead>\n",
       "  <tbody>\n",
       "    <tr>\n",
       "      <th>count</th>\n",
       "      <td>7,105.000</td>\n",
       "      <td>7,105.000</td>\n",
       "      <td>7,105.000</td>\n",
       "      <td>7,105.000</td>\n",
       "      <td>7,105.000</td>\n",
       "      <td>7,105.000</td>\n",
       "    </tr>\n",
       "    <tr>\n",
       "      <th>mean</th>\n",
       "      <td>0.261</td>\n",
       "      <td>2.486</td>\n",
       "      <td>0.337</td>\n",
       "      <td>0.234</td>\n",
       "      <td>3.088</td>\n",
       "      <td>0.293</td>\n",
       "    </tr>\n",
       "    <tr>\n",
       "      <th>std</th>\n",
       "      <td>0.303</td>\n",
       "      <td>5.375</td>\n",
       "      <td>0.331</td>\n",
       "      <td>0.298</td>\n",
       "      <td>5.831</td>\n",
       "      <td>0.325</td>\n",
       "    </tr>\n",
       "    <tr>\n",
       "      <th>min</th>\n",
       "      <td>0.000</td>\n",
       "      <td>0.001</td>\n",
       "      <td>0.000</td>\n",
       "      <td>0.000</td>\n",
       "      <td>0.000</td>\n",
       "      <td>0.000</td>\n",
       "    </tr>\n",
       "    <tr>\n",
       "      <th>25%</th>\n",
       "      <td>0.004</td>\n",
       "      <td>0.339</td>\n",
       "      <td>0.015</td>\n",
       "      <td>0.001</td>\n",
       "      <td>0.385</td>\n",
       "      <td>0.003</td>\n",
       "    </tr>\n",
       "    <tr>\n",
       "      <th>50%</th>\n",
       "      <td>0.122</td>\n",
       "      <td>0.913</td>\n",
       "      <td>0.245</td>\n",
       "      <td>0.071</td>\n",
       "      <td>1.152</td>\n",
       "      <td>0.141</td>\n",
       "    </tr>\n",
       "    <tr>\n",
       "      <th>75%</th>\n",
       "      <td>0.458</td>\n",
       "      <td>2.432</td>\n",
       "      <td>0.610</td>\n",
       "      <td>0.412</td>\n",
       "      <td>3.074</td>\n",
       "      <td>0.549</td>\n",
       "    </tr>\n",
       "    <tr>\n",
       "      <th>max</th>\n",
       "      <td>0.998</td>\n",
       "      <td>148.314</td>\n",
       "      <td>0.998</td>\n",
       "      <td>1.000</td>\n",
       "      <td>84.034</td>\n",
       "      <td>1.000</td>\n",
       "    </tr>\n",
       "  </tbody>\n",
       "</table>\n",
       "</div>"
      ],
      "text/plain": [
       "model        PI                                RF                        \n",
       "var       p-unc -Log10 pvalue    qvalue     p-unc -Log10 pvalue    qvalue\n",
       "count 7,105.000     7,105.000 7,105.000 7,105.000     7,105.000 7,105.000\n",
       "mean      0.261         2.486     0.337     0.234         3.088     0.293\n",
       "std       0.303         5.375     0.331     0.298         5.831     0.325\n",
       "min       0.000         0.001     0.000     0.000         0.000     0.000\n",
       "25%       0.004         0.339     0.015     0.001         0.385     0.003\n",
       "50%       0.122         0.913     0.245     0.071         1.152     0.141\n",
       "75%       0.458         2.432     0.610     0.412         3.074     0.549\n",
       "max       0.998       148.314     0.998     1.000        84.034     1.000"
      ]
     },
     "execution_count": 10,
     "metadata": {},
     "output_type": "execute_result"
    }
   ],
   "source": [
    "scores.describe()"
   ]
  },
  {
   "cell_type": "markdown",
   "id": "52ecc596",
   "metadata": {
    "papermill": {
     "duration": 0.026316,
     "end_time": "2024-08-19T19:15:53.840354",
     "exception": false,
     "start_time": "2024-08-19T19:15:53.814038",
     "status": "completed"
    },
    "tags": []
   },
   "source": [
    "### One to one comparison of by feature:"
   ]
  },
  {
   "cell_type": "code",
   "execution_count": 11,
   "id": "c6e5a0a6-343b-4f07-8d9d-2cd5cf95ae1f",
   "metadata": {
    "execution": {
     "iopub.execute_input": "2024-08-19T19:15:53.870921Z",
     "iopub.status.busy": "2024-08-19T19:15:53.870625Z",
     "iopub.status.idle": "2024-08-19T19:15:54.187318Z",
     "shell.execute_reply": "2024-08-19T19:15:54.186689Z"
    },
    "papermill": {
     "duration": 0.333728,
     "end_time": "2024-08-19T19:15:54.189099",
     "exception": false,
     "start_time": "2024-08-19T19:15:53.855371",
     "status": "completed"
    },
    "tags": [
     "hide-input"
    ]
   },
   "outputs": [
    {
     "name": "stderr",
     "output_type": "stream",
     "text": [
      "/tmp/ipykernel_50785/3761369923.py:2: FutureWarning: Starting with pandas version 3.0 all arguments of to_excel except for the argument 'excel_writer' will be keyword-only.\n",
      "  scores.to_excel(writer, 'scores', **writer_args)\n"
     ]
    },
    {
     "data": {
      "text/html": [
       "<div>\n",
       "<style scoped>\n",
       "    .dataframe tbody tr th:only-of-type {\n",
       "        vertical-align: middle;\n",
       "    }\n",
       "\n",
       "    .dataframe tbody tr th {\n",
       "        vertical-align: top;\n",
       "    }\n",
       "\n",
       "    .dataframe thead tr th {\n",
       "        text-align: left;\n",
       "    }\n",
       "\n",
       "    .dataframe thead tr:last-of-type th {\n",
       "        text-align: right;\n",
       "    }\n",
       "</style>\n",
       "<table border=\"1\" class=\"dataframe\">\n",
       "  <thead>\n",
       "    <tr>\n",
       "      <th></th>\n",
       "      <th>model</th>\n",
       "      <th colspan=\"4\" halign=\"left\">PI</th>\n",
       "      <th colspan=\"4\" halign=\"left\">RF</th>\n",
       "    </tr>\n",
       "    <tr>\n",
       "      <th></th>\n",
       "      <th>var</th>\n",
       "      <th>p-unc</th>\n",
       "      <th>-Log10 pvalue</th>\n",
       "      <th>qvalue</th>\n",
       "      <th>rejected</th>\n",
       "      <th>p-unc</th>\n",
       "      <th>-Log10 pvalue</th>\n",
       "      <th>qvalue</th>\n",
       "      <th>rejected</th>\n",
       "    </tr>\n",
       "    <tr>\n",
       "      <th>protein groups</th>\n",
       "      <th>Source</th>\n",
       "      <th></th>\n",
       "      <th></th>\n",
       "      <th></th>\n",
       "      <th></th>\n",
       "      <th></th>\n",
       "      <th></th>\n",
       "      <th></th>\n",
       "      <th></th>\n",
       "    </tr>\n",
       "  </thead>\n",
       "  <tbody>\n",
       "    <tr>\n",
       "      <th>A0A024QZX5;A0A087X1N8;P35237</th>\n",
       "      <th>AD</th>\n",
       "      <td>0.415</td>\n",
       "      <td>0.382</td>\n",
       "      <td>0.573</td>\n",
       "      <td>False</td>\n",
       "      <td>0.009</td>\n",
       "      <td>2.062</td>\n",
       "      <td>0.025</td>\n",
       "      <td>True</td>\n",
       "    </tr>\n",
       "    <tr>\n",
       "      <th>A0A024R0T9;K7ER74;P02655</th>\n",
       "      <th>AD</th>\n",
       "      <td>0.048</td>\n",
       "      <td>1.320</td>\n",
       "      <td>0.117</td>\n",
       "      <td>False</td>\n",
       "      <td>0.028</td>\n",
       "      <td>1.554</td>\n",
       "      <td>0.066</td>\n",
       "      <td>False</td>\n",
       "    </tr>\n",
       "    <tr>\n",
       "      <th>A0A024R3W6;A0A024R412;O60462;O60462-2;O60462-3;O60462-4;O60462-5;Q7LBX6;X5D2Q8</th>\n",
       "      <th>AD</th>\n",
       "      <td>0.062</td>\n",
       "      <td>1.206</td>\n",
       "      <td>0.145</td>\n",
       "      <td>False</td>\n",
       "      <td>0.376</td>\n",
       "      <td>0.425</td>\n",
       "      <td>0.516</td>\n",
       "      <td>False</td>\n",
       "    </tr>\n",
       "    <tr>\n",
       "      <th>A0A024R644;A0A0A0MRU5;A0A1B0GWI2;O75503</th>\n",
       "      <th>AD</th>\n",
       "      <td>0.523</td>\n",
       "      <td>0.282</td>\n",
       "      <td>0.668</td>\n",
       "      <td>False</td>\n",
       "      <td>0.257</td>\n",
       "      <td>0.590</td>\n",
       "      <td>0.390</td>\n",
       "      <td>False</td>\n",
       "    </tr>\n",
       "    <tr>\n",
       "      <th>A0A075B6H7</th>\n",
       "      <th>AD</th>\n",
       "      <td>0.147</td>\n",
       "      <td>0.832</td>\n",
       "      <td>0.279</td>\n",
       "      <td>False</td>\n",
       "      <td>0.001</td>\n",
       "      <td>3.083</td>\n",
       "      <td>0.003</td>\n",
       "      <td>True</td>\n",
       "    </tr>\n",
       "    <tr>\n",
       "      <th>...</th>\n",
       "      <th>...</th>\n",
       "      <td>...</td>\n",
       "      <td>...</td>\n",
       "      <td>...</td>\n",
       "      <td>...</td>\n",
       "      <td>...</td>\n",
       "      <td>...</td>\n",
       "      <td>...</td>\n",
       "      <td>...</td>\n",
       "    </tr>\n",
       "    <tr>\n",
       "      <th>Q9Y6R7</th>\n",
       "      <th>AD</th>\n",
       "      <td>0.175</td>\n",
       "      <td>0.756</td>\n",
       "      <td>0.316</td>\n",
       "      <td>False</td>\n",
       "      <td>0.175</td>\n",
       "      <td>0.756</td>\n",
       "      <td>0.291</td>\n",
       "      <td>False</td>\n",
       "    </tr>\n",
       "    <tr>\n",
       "      <th>Q9Y6X5</th>\n",
       "      <th>AD</th>\n",
       "      <td>0.110</td>\n",
       "      <td>0.959</td>\n",
       "      <td>0.226</td>\n",
       "      <td>False</td>\n",
       "      <td>0.214</td>\n",
       "      <td>0.670</td>\n",
       "      <td>0.339</td>\n",
       "      <td>False</td>\n",
       "    </tr>\n",
       "    <tr>\n",
       "      <th>Q9Y6Y8;Q9Y6Y8-2</th>\n",
       "      <th>AD</th>\n",
       "      <td>0.083</td>\n",
       "      <td>1.079</td>\n",
       "      <td>0.182</td>\n",
       "      <td>False</td>\n",
       "      <td>0.083</td>\n",
       "      <td>1.079</td>\n",
       "      <td>0.162</td>\n",
       "      <td>False</td>\n",
       "    </tr>\n",
       "    <tr>\n",
       "      <th>Q9Y6Y9</th>\n",
       "      <th>AD</th>\n",
       "      <td>0.305</td>\n",
       "      <td>0.516</td>\n",
       "      <td>0.465</td>\n",
       "      <td>False</td>\n",
       "      <td>0.469</td>\n",
       "      <td>0.329</td>\n",
       "      <td>0.604</td>\n",
       "      <td>False</td>\n",
       "    </tr>\n",
       "    <tr>\n",
       "      <th>S4R3U6</th>\n",
       "      <th>AD</th>\n",
       "      <td>0.229</td>\n",
       "      <td>0.639</td>\n",
       "      <td>0.382</td>\n",
       "      <td>False</td>\n",
       "      <td>0.091</td>\n",
       "      <td>1.042</td>\n",
       "      <td>0.174</td>\n",
       "      <td>False</td>\n",
       "    </tr>\n",
       "  </tbody>\n",
       "</table>\n",
       "<p>1421 rows × 8 columns</p>\n",
       "</div>"
      ],
      "text/plain": [
       "model                                                        PI                \\\n",
       "var                                                       p-unc -Log10 pvalue   \n",
       "protein groups                                     Source                       \n",
       "A0A024QZX5;A0A087X1N8;P35237                       AD     0.415         0.382   \n",
       "A0A024R0T9;K7ER74;P02655                           AD     0.048         1.320   \n",
       "A0A024R3W6;A0A024R412;O60462;O60462-2;O60462-3;... AD     0.062         1.206   \n",
       "A0A024R644;A0A0A0MRU5;A0A1B0GWI2;O75503            AD     0.523         0.282   \n",
       "A0A075B6H7                                         AD     0.147         0.832   \n",
       "...                                                         ...           ...   \n",
       "Q9Y6R7                                             AD     0.175         0.756   \n",
       "Q9Y6X5                                             AD     0.110         0.959   \n",
       "Q9Y6Y8;Q9Y6Y8-2                                    AD     0.083         1.079   \n",
       "Q9Y6Y9                                             AD     0.305         0.516   \n",
       "S4R3U6                                             AD     0.229         0.639   \n",
       "\n",
       "model                                                                      \\\n",
       "var                                                       qvalue rejected   \n",
       "protein groups                                     Source                   \n",
       "A0A024QZX5;A0A087X1N8;P35237                       AD      0.573    False   \n",
       "A0A024R0T9;K7ER74;P02655                           AD      0.117    False   \n",
       "A0A024R3W6;A0A024R412;O60462;O60462-2;O60462-3;... AD      0.145    False   \n",
       "A0A024R644;A0A0A0MRU5;A0A1B0GWI2;O75503            AD      0.668    False   \n",
       "A0A075B6H7                                         AD      0.279    False   \n",
       "...                                                          ...      ...   \n",
       "Q9Y6R7                                             AD      0.316    False   \n",
       "Q9Y6X5                                             AD      0.226    False   \n",
       "Q9Y6Y8;Q9Y6Y8-2                                    AD      0.182    False   \n",
       "Q9Y6Y9                                             AD      0.465    False   \n",
       "S4R3U6                                             AD      0.382    False   \n",
       "\n",
       "model                                                        RF                \\\n",
       "var                                                       p-unc -Log10 pvalue   \n",
       "protein groups                                     Source                       \n",
       "A0A024QZX5;A0A087X1N8;P35237                       AD     0.009         2.062   \n",
       "A0A024R0T9;K7ER74;P02655                           AD     0.028         1.554   \n",
       "A0A024R3W6;A0A024R412;O60462;O60462-2;O60462-3;... AD     0.376         0.425   \n",
       "A0A024R644;A0A0A0MRU5;A0A1B0GWI2;O75503            AD     0.257         0.590   \n",
       "A0A075B6H7                                         AD     0.001         3.083   \n",
       "...                                                         ...           ...   \n",
       "Q9Y6R7                                             AD     0.175         0.756   \n",
       "Q9Y6X5                                             AD     0.214         0.670   \n",
       "Q9Y6Y8;Q9Y6Y8-2                                    AD     0.083         1.079   \n",
       "Q9Y6Y9                                             AD     0.469         0.329   \n",
       "S4R3U6                                             AD     0.091         1.042   \n",
       "\n",
       "model                                                                      \n",
       "var                                                       qvalue rejected  \n",
       "protein groups                                     Source                  \n",
       "A0A024QZX5;A0A087X1N8;P35237                       AD      0.025     True  \n",
       "A0A024R0T9;K7ER74;P02655                           AD      0.066    False  \n",
       "A0A024R3W6;A0A024R412;O60462;O60462-2;O60462-3;... AD      0.516    False  \n",
       "A0A024R644;A0A0A0MRU5;A0A1B0GWI2;O75503            AD      0.390    False  \n",
       "A0A075B6H7                                         AD      0.003     True  \n",
       "...                                                          ...      ...  \n",
       "Q9Y6R7                                             AD      0.291    False  \n",
       "Q9Y6X5                                             AD      0.339    False  \n",
       "Q9Y6Y8;Q9Y6Y8-2                                    AD      0.162    False  \n",
       "Q9Y6Y9                                             AD      0.604    False  \n",
       "S4R3U6                                             AD      0.174    False  \n",
       "\n",
       "[1421 rows x 8 columns]"
      ]
     },
     "execution_count": 11,
     "metadata": {},
     "output_type": "execute_result"
    }
   ],
   "source": [
    "scores = scores.loc[pd.IndexSlice[:, args.target], :]\n",
    "scores.to_excel(writer, 'scores', **writer_args)\n",
    "scores"
   ]
  },
  {
   "cell_type": "markdown",
   "id": "36e14580",
   "metadata": {
    "papermill": {
     "duration": 0.028983,
     "end_time": "2024-08-19T19:15:54.246366",
     "exception": false,
     "start_time": "2024-08-19T19:15:54.217383",
     "status": "completed"
    },
    "tags": []
   },
   "source": [
    "And the descriptive statistics\n",
    "of the numeric values:"
   ]
  },
  {
   "cell_type": "code",
   "execution_count": 12,
   "id": "0e45e80a-32d8-4c6c-b0a4-5ce8b7f9e121",
   "metadata": {
    "execution": {
     "iopub.execute_input": "2024-08-19T19:15:54.301038Z",
     "iopub.status.busy": "2024-08-19T19:15:54.300740Z",
     "iopub.status.idle": "2024-08-19T19:15:54.330464Z",
     "shell.execute_reply": "2024-08-19T19:15:54.329854Z"
    },
    "papermill": {
     "duration": 0.063718,
     "end_time": "2024-08-19T19:15:54.332095",
     "exception": false,
     "start_time": "2024-08-19T19:15:54.268377",
     "status": "completed"
    },
    "tags": [
     "hide-input"
    ]
   },
   "outputs": [
    {
     "data": {
      "text/html": [
       "<div>\n",
       "<style scoped>\n",
       "    .dataframe tbody tr th:only-of-type {\n",
       "        vertical-align: middle;\n",
       "    }\n",
       "\n",
       "    .dataframe tbody tr th {\n",
       "        vertical-align: top;\n",
       "    }\n",
       "\n",
       "    .dataframe thead tr th {\n",
       "        text-align: left;\n",
       "    }\n",
       "</style>\n",
       "<table border=\"1\" class=\"dataframe\">\n",
       "  <thead>\n",
       "    <tr>\n",
       "      <th>model</th>\n",
       "      <th colspan=\"3\" halign=\"left\">PI</th>\n",
       "      <th colspan=\"3\" halign=\"left\">RF</th>\n",
       "    </tr>\n",
       "    <tr>\n",
       "      <th>var</th>\n",
       "      <th>p-unc</th>\n",
       "      <th>-Log10 pvalue</th>\n",
       "      <th>qvalue</th>\n",
       "      <th>p-unc</th>\n",
       "      <th>-Log10 pvalue</th>\n",
       "      <th>qvalue</th>\n",
       "    </tr>\n",
       "  </thead>\n",
       "  <tbody>\n",
       "    <tr>\n",
       "      <th>count</th>\n",
       "      <td>1,421.000</td>\n",
       "      <td>1,421.000</td>\n",
       "      <td>1,421.000</td>\n",
       "      <td>1,421.000</td>\n",
       "      <td>1,421.000</td>\n",
       "      <td>1,421.000</td>\n",
       "    </tr>\n",
       "    <tr>\n",
       "      <th>mean</th>\n",
       "      <td>0.255</td>\n",
       "      <td>1.405</td>\n",
       "      <td>0.338</td>\n",
       "      <td>0.248</td>\n",
       "      <td>1.509</td>\n",
       "      <td>0.314</td>\n",
       "    </tr>\n",
       "    <tr>\n",
       "      <th>std</th>\n",
       "      <td>0.292</td>\n",
       "      <td>1.644</td>\n",
       "      <td>0.317</td>\n",
       "      <td>0.294</td>\n",
       "      <td>1.764</td>\n",
       "      <td>0.319</td>\n",
       "    </tr>\n",
       "    <tr>\n",
       "      <th>min</th>\n",
       "      <td>0.000</td>\n",
       "      <td>0.001</td>\n",
       "      <td>0.000</td>\n",
       "      <td>0.000</td>\n",
       "      <td>0.000</td>\n",
       "      <td>0.000</td>\n",
       "    </tr>\n",
       "    <tr>\n",
       "      <th>25%</th>\n",
       "      <td>0.011</td>\n",
       "      <td>0.360</td>\n",
       "      <td>0.037</td>\n",
       "      <td>0.009</td>\n",
       "      <td>0.359</td>\n",
       "      <td>0.025</td>\n",
       "    </tr>\n",
       "    <tr>\n",
       "      <th>50%</th>\n",
       "      <td>0.132</td>\n",
       "      <td>0.878</td>\n",
       "      <td>0.260</td>\n",
       "      <td>0.100</td>\n",
       "      <td>0.999</td>\n",
       "      <td>0.187</td>\n",
       "    </tr>\n",
       "    <tr>\n",
       "      <th>75%</th>\n",
       "      <td>0.437</td>\n",
       "      <td>1.945</td>\n",
       "      <td>0.594</td>\n",
       "      <td>0.438</td>\n",
       "      <td>2.057</td>\n",
       "      <td>0.575</td>\n",
       "    </tr>\n",
       "    <tr>\n",
       "      <th>max</th>\n",
       "      <td>0.998</td>\n",
       "      <td>22.800</td>\n",
       "      <td>0.998</td>\n",
       "      <td>0.999</td>\n",
       "      <td>20.165</td>\n",
       "      <td>1.000</td>\n",
       "    </tr>\n",
       "  </tbody>\n",
       "</table>\n",
       "</div>"
      ],
      "text/plain": [
       "model        PI                                RF                        \n",
       "var       p-unc -Log10 pvalue    qvalue     p-unc -Log10 pvalue    qvalue\n",
       "count 1,421.000     1,421.000 1,421.000 1,421.000     1,421.000 1,421.000\n",
       "mean      0.255         1.405     0.338     0.248         1.509     0.314\n",
       "std       0.292         1.644     0.317     0.294         1.764     0.319\n",
       "min       0.000         0.001     0.000     0.000         0.000     0.000\n",
       "25%       0.011         0.360     0.037     0.009         0.359     0.025\n",
       "50%       0.132         0.878     0.260     0.100         0.999     0.187\n",
       "75%       0.437         1.945     0.594     0.438         2.057     0.575\n",
       "max       0.998        22.800     0.998     0.999        20.165     1.000"
      ]
     },
     "execution_count": 12,
     "metadata": {},
     "output_type": "execute_result"
    }
   ],
   "source": [
    "scores.describe()"
   ]
  },
  {
   "cell_type": "markdown",
   "id": "e520d6dc",
   "metadata": {
    "papermill": {
     "duration": 0.015542,
     "end_time": "2024-08-19T19:15:54.364346",
     "exception": false,
     "start_time": "2024-08-19T19:15:54.348804",
     "status": "completed"
    },
    "tags": []
   },
   "source": [
    "and the boolean decision values"
   ]
  },
  {
   "cell_type": "code",
   "execution_count": 13,
   "id": "53bd5597-221c-4d54-abf2-82956db42594",
   "metadata": {
    "execution": {
     "iopub.execute_input": "2024-08-19T19:15:54.395716Z",
     "iopub.status.busy": "2024-08-19T19:15:54.395289Z",
     "iopub.status.idle": "2024-08-19T19:15:54.417195Z",
     "shell.execute_reply": "2024-08-19T19:15:54.416614Z"
    },
    "lines_to_next_cell": 2,
    "papermill": {
     "duration": 0.039094,
     "end_time": "2024-08-19T19:15:54.418816",
     "exception": false,
     "start_time": "2024-08-19T19:15:54.379722",
     "status": "completed"
    },
    "tags": [
     "hide-input"
    ]
   },
   "outputs": [
    {
     "data": {
      "text/html": [
       "<div>\n",
       "<style scoped>\n",
       "    .dataframe tbody tr th:only-of-type {\n",
       "        vertical-align: middle;\n",
       "    }\n",
       "\n",
       "    .dataframe tbody tr th {\n",
       "        vertical-align: top;\n",
       "    }\n",
       "\n",
       "    .dataframe thead tr th {\n",
       "        text-align: left;\n",
       "    }\n",
       "</style>\n",
       "<table border=\"1\" class=\"dataframe\">\n",
       "  <thead>\n",
       "    <tr>\n",
       "      <th>model</th>\n",
       "      <th>PI</th>\n",
       "      <th>RF</th>\n",
       "    </tr>\n",
       "    <tr>\n",
       "      <th>var</th>\n",
       "      <th>rejected</th>\n",
       "      <th>rejected</th>\n",
       "    </tr>\n",
       "  </thead>\n",
       "  <tbody>\n",
       "    <tr>\n",
       "      <th>count</th>\n",
       "      <td>1421</td>\n",
       "      <td>1421</td>\n",
       "    </tr>\n",
       "    <tr>\n",
       "      <th>unique</th>\n",
       "      <td>2</td>\n",
       "      <td>2</td>\n",
       "    </tr>\n",
       "    <tr>\n",
       "      <th>top</th>\n",
       "      <td>False</td>\n",
       "      <td>False</td>\n",
       "    </tr>\n",
       "    <tr>\n",
       "      <th>freq</th>\n",
       "      <td>1030</td>\n",
       "      <td>980</td>\n",
       "    </tr>\n",
       "  </tbody>\n",
       "</table>\n",
       "</div>"
      ],
      "text/plain": [
       "model        PI       RF\n",
       "var    rejected rejected\n",
       "count      1421     1421\n",
       "unique        2        2\n",
       "top       False    False\n",
       "freq       1030      980"
      ]
     },
     "execution_count": 13,
     "metadata": {},
     "output_type": "execute_result"
    }
   ],
   "source": [
    "scores.describe(include=['bool', 'O'])"
   ]
  },
  {
   "cell_type": "markdown",
   "id": "bef83742-05e5-473b-892e-dd286cb3a31f",
   "metadata": {
    "papermill": {
     "duration": 0.033133,
     "end_time": "2024-08-19T19:15:54.468022",
     "exception": false,
     "start_time": "2024-08-19T19:15:54.434889",
     "status": "completed"
    },
    "tags": []
   },
   "source": [
    "## Load frequencies of observed features"
   ]
  },
  {
   "cell_type": "code",
   "execution_count": 14,
   "id": "2a926ba1-0f3b-4089-a349-b6d66128cf37",
   "metadata": {
    "execution": {
     "iopub.execute_input": "2024-08-19T19:15:54.513151Z",
     "iopub.status.busy": "2024-08-19T19:15:54.512654Z",
     "iopub.status.idle": "2024-08-19T19:15:54.544774Z",
     "shell.execute_reply": "2024-08-19T19:15:54.536550Z"
    },
    "papermill": {
     "duration": 0.050358,
     "end_time": "2024-08-19T19:15:54.546302",
     "exception": false,
     "start_time": "2024-08-19T19:15:54.495944",
     "status": "completed"
    },
    "tags": [
     "hide-input"
    ]
   },
   "outputs": [
    {
     "data": {
      "text/html": [
       "<div>\n",
       "<style scoped>\n",
       "    .dataframe tbody tr th:only-of-type {\n",
       "        vertical-align: middle;\n",
       "    }\n",
       "\n",
       "    .dataframe tbody tr th {\n",
       "        vertical-align: top;\n",
       "    }\n",
       "\n",
       "    .dataframe thead tr th {\n",
       "        text-align: left;\n",
       "    }\n",
       "\n",
       "    .dataframe thead tr:last-of-type th {\n",
       "        text-align: right;\n",
       "    }\n",
       "</style>\n",
       "<table border=\"1\" class=\"dataframe\">\n",
       "  <thead>\n",
       "    <tr>\n",
       "      <th></th>\n",
       "      <th>data</th>\n",
       "    </tr>\n",
       "    <tr>\n",
       "      <th></th>\n",
       "      <th>frequency</th>\n",
       "    </tr>\n",
       "    <tr>\n",
       "      <th>protein groups</th>\n",
       "      <th></th>\n",
       "    </tr>\n",
       "  </thead>\n",
       "  <tbody>\n",
       "    <tr>\n",
       "      <th>A0A024QZX5;A0A087X1N8;P35237</th>\n",
       "      <td>186</td>\n",
       "    </tr>\n",
       "    <tr>\n",
       "      <th>A0A024R0T9;K7ER74;P02655</th>\n",
       "      <td>195</td>\n",
       "    </tr>\n",
       "    <tr>\n",
       "      <th>A0A024R3W6;A0A024R412;O60462;O60462-2;O60462-3;O60462-4;O60462-5;Q7LBX6;X5D2Q8</th>\n",
       "      <td>174</td>\n",
       "    </tr>\n",
       "    <tr>\n",
       "      <th>A0A024R644;A0A0A0MRU5;A0A1B0GWI2;O75503</th>\n",
       "      <td>196</td>\n",
       "    </tr>\n",
       "    <tr>\n",
       "      <th>A0A075B6H7</th>\n",
       "      <td>91</td>\n",
       "    </tr>\n",
       "    <tr>\n",
       "      <th>...</th>\n",
       "      <td>...</td>\n",
       "    </tr>\n",
       "    <tr>\n",
       "      <th>Q9Y6R7</th>\n",
       "      <td>197</td>\n",
       "    </tr>\n",
       "    <tr>\n",
       "      <th>Q9Y6X5</th>\n",
       "      <td>173</td>\n",
       "    </tr>\n",
       "    <tr>\n",
       "      <th>Q9Y6Y8;Q9Y6Y8-2</th>\n",
       "      <td>197</td>\n",
       "    </tr>\n",
       "    <tr>\n",
       "      <th>Q9Y6Y9</th>\n",
       "      <td>119</td>\n",
       "    </tr>\n",
       "    <tr>\n",
       "      <th>S4R3U6</th>\n",
       "      <td>126</td>\n",
       "    </tr>\n",
       "  </tbody>\n",
       "</table>\n",
       "<p>1421 rows × 1 columns</p>\n",
       "</div>"
      ],
      "text/plain": [
       "                                                        data\n",
       "                                                   frequency\n",
       "protein groups                                              \n",
       "A0A024QZX5;A0A087X1N8;P35237                             186\n",
       "A0A024R0T9;K7ER74;P02655                                 195\n",
       "A0A024R3W6;A0A024R412;O60462;O60462-2;O60462-3;...       174\n",
       "A0A024R644;A0A0A0MRU5;A0A1B0GWI2;O75503                  196\n",
       "A0A075B6H7                                                91\n",
       "...                                                      ...\n",
       "Q9Y6R7                                                   197\n",
       "Q9Y6X5                                                   173\n",
       "Q9Y6Y8;Q9Y6Y8-2                                          197\n",
       "Q9Y6Y9                                                   119\n",
       "S4R3U6                                                   126\n",
       "\n",
       "[1421 rows x 1 columns]"
      ]
     },
     "execution_count": 14,
     "metadata": {},
     "output_type": "execute_result"
    }
   ],
   "source": [
    "freq_feat = pd.read_csv(args.freq_features_observed, index_col=0)\n",
    "freq_feat.columns = pd.MultiIndex.from_tuples([('data', 'frequency'),])\n",
    "freq_feat"
   ]
  },
  {
   "cell_type": "markdown",
   "id": "408eacfe-770f-42ff-9057-2a98274e1ae3",
   "metadata": {
    "papermill": {
     "duration": 0.015542,
     "end_time": "2024-08-19T19:15:54.587743",
     "exception": false,
     "start_time": "2024-08-19T19:15:54.572201",
     "status": "completed"
    },
    "tags": []
   },
   "source": [
    "## Compare shared features"
   ]
  },
  {
   "cell_type": "code",
   "execution_count": 15,
   "id": "5b2dfb0f-195b-4044-a228-2d784ea2a458",
   "metadata": {
    "execution": {
     "iopub.execute_input": "2024-08-19T19:15:54.620454Z",
     "iopub.status.busy": "2024-08-19T19:15:54.620085Z",
     "iopub.status.idle": "2024-08-19T19:15:54.653371Z",
     "shell.execute_reply": "2024-08-19T19:15:54.652633Z"
    },
    "papermill": {
     "duration": 0.051636,
     "end_time": "2024-08-19T19:15:54.655219",
     "exception": false,
     "start_time": "2024-08-19T19:15:54.603583",
     "status": "completed"
    },
    "tags": [
     "hide-input"
    ]
   },
   "outputs": [
    {
     "data": {
      "text/html": [
       "<div>\n",
       "<style scoped>\n",
       "    .dataframe tbody tr th:only-of-type {\n",
       "        vertical-align: middle;\n",
       "    }\n",
       "\n",
       "    .dataframe tbody tr th {\n",
       "        vertical-align: top;\n",
       "    }\n",
       "\n",
       "    .dataframe thead tr th {\n",
       "        text-align: left;\n",
       "    }\n",
       "\n",
       "    .dataframe thead tr:last-of-type th {\n",
       "        text-align: right;\n",
       "    }\n",
       "</style>\n",
       "<table border=\"1\" class=\"dataframe\">\n",
       "  <thead>\n",
       "    <tr>\n",
       "      <th></th>\n",
       "      <th colspan=\"4\" halign=\"left\">PI</th>\n",
       "      <th colspan=\"4\" halign=\"left\">RF</th>\n",
       "      <th>data</th>\n",
       "    </tr>\n",
       "    <tr>\n",
       "      <th></th>\n",
       "      <th>p-unc</th>\n",
       "      <th>-Log10 pvalue</th>\n",
       "      <th>qvalue</th>\n",
       "      <th>rejected</th>\n",
       "      <th>p-unc</th>\n",
       "      <th>-Log10 pvalue</th>\n",
       "      <th>qvalue</th>\n",
       "      <th>rejected</th>\n",
       "      <th>frequency</th>\n",
       "    </tr>\n",
       "    <tr>\n",
       "      <th>protein groups</th>\n",
       "      <th></th>\n",
       "      <th></th>\n",
       "      <th></th>\n",
       "      <th></th>\n",
       "      <th></th>\n",
       "      <th></th>\n",
       "      <th></th>\n",
       "      <th></th>\n",
       "      <th></th>\n",
       "    </tr>\n",
       "  </thead>\n",
       "  <tbody>\n",
       "    <tr>\n",
       "      <th>A0A024QZX5;A0A087X1N8;P35237</th>\n",
       "      <td>0.415</td>\n",
       "      <td>0.382</td>\n",
       "      <td>0.573</td>\n",
       "      <td>False</td>\n",
       "      <td>0.009</td>\n",
       "      <td>2.062</td>\n",
       "      <td>0.025</td>\n",
       "      <td>True</td>\n",
       "      <td>186</td>\n",
       "    </tr>\n",
       "    <tr>\n",
       "      <th>A0A024R0T9;K7ER74;P02655</th>\n",
       "      <td>0.048</td>\n",
       "      <td>1.320</td>\n",
       "      <td>0.117</td>\n",
       "      <td>False</td>\n",
       "      <td>0.028</td>\n",
       "      <td>1.554</td>\n",
       "      <td>0.066</td>\n",
       "      <td>False</td>\n",
       "      <td>195</td>\n",
       "    </tr>\n",
       "    <tr>\n",
       "      <th>A0A024R3W6;A0A024R412;O60462;O60462-2;O60462-3;O60462-4;O60462-5;Q7LBX6;X5D2Q8</th>\n",
       "      <td>0.062</td>\n",
       "      <td>1.206</td>\n",
       "      <td>0.145</td>\n",
       "      <td>False</td>\n",
       "      <td>0.376</td>\n",
       "      <td>0.425</td>\n",
       "      <td>0.516</td>\n",
       "      <td>False</td>\n",
       "      <td>174</td>\n",
       "    </tr>\n",
       "    <tr>\n",
       "      <th>A0A024R644;A0A0A0MRU5;A0A1B0GWI2;O75503</th>\n",
       "      <td>0.523</td>\n",
       "      <td>0.282</td>\n",
       "      <td>0.668</td>\n",
       "      <td>False</td>\n",
       "      <td>0.257</td>\n",
       "      <td>0.590</td>\n",
       "      <td>0.390</td>\n",
       "      <td>False</td>\n",
       "      <td>196</td>\n",
       "    </tr>\n",
       "    <tr>\n",
       "      <th>A0A075B6H7</th>\n",
       "      <td>0.147</td>\n",
       "      <td>0.832</td>\n",
       "      <td>0.279</td>\n",
       "      <td>False</td>\n",
       "      <td>0.001</td>\n",
       "      <td>3.083</td>\n",
       "      <td>0.003</td>\n",
       "      <td>True</td>\n",
       "      <td>91</td>\n",
       "    </tr>\n",
       "    <tr>\n",
       "      <th>...</th>\n",
       "      <td>...</td>\n",
       "      <td>...</td>\n",
       "      <td>...</td>\n",
       "      <td>...</td>\n",
       "      <td>...</td>\n",
       "      <td>...</td>\n",
       "      <td>...</td>\n",
       "      <td>...</td>\n",
       "      <td>...</td>\n",
       "    </tr>\n",
       "    <tr>\n",
       "      <th>Q9Y6R7</th>\n",
       "      <td>0.175</td>\n",
       "      <td>0.756</td>\n",
       "      <td>0.316</td>\n",
       "      <td>False</td>\n",
       "      <td>0.175</td>\n",
       "      <td>0.756</td>\n",
       "      <td>0.291</td>\n",
       "      <td>False</td>\n",
       "      <td>197</td>\n",
       "    </tr>\n",
       "    <tr>\n",
       "      <th>Q9Y6X5</th>\n",
       "      <td>0.110</td>\n",
       "      <td>0.959</td>\n",
       "      <td>0.226</td>\n",
       "      <td>False</td>\n",
       "      <td>0.214</td>\n",
       "      <td>0.670</td>\n",
       "      <td>0.339</td>\n",
       "      <td>False</td>\n",
       "      <td>173</td>\n",
       "    </tr>\n",
       "    <tr>\n",
       "      <th>Q9Y6Y8;Q9Y6Y8-2</th>\n",
       "      <td>0.083</td>\n",
       "      <td>1.079</td>\n",
       "      <td>0.182</td>\n",
       "      <td>False</td>\n",
       "      <td>0.083</td>\n",
       "      <td>1.079</td>\n",
       "      <td>0.162</td>\n",
       "      <td>False</td>\n",
       "      <td>197</td>\n",
       "    </tr>\n",
       "    <tr>\n",
       "      <th>Q9Y6Y9</th>\n",
       "      <td>0.305</td>\n",
       "      <td>0.516</td>\n",
       "      <td>0.465</td>\n",
       "      <td>False</td>\n",
       "      <td>0.469</td>\n",
       "      <td>0.329</td>\n",
       "      <td>0.604</td>\n",
       "      <td>False</td>\n",
       "      <td>119</td>\n",
       "    </tr>\n",
       "    <tr>\n",
       "      <th>S4R3U6</th>\n",
       "      <td>0.229</td>\n",
       "      <td>0.639</td>\n",
       "      <td>0.382</td>\n",
       "      <td>False</td>\n",
       "      <td>0.091</td>\n",
       "      <td>1.042</td>\n",
       "      <td>0.174</td>\n",
       "      <td>False</td>\n",
       "      <td>126</td>\n",
       "    </tr>\n",
       "  </tbody>\n",
       "</table>\n",
       "<p>1421 rows × 9 columns</p>\n",
       "</div>"
      ],
      "text/plain": [
       "                                                      PI                       \\\n",
       "                                                   p-unc -Log10 pvalue qvalue   \n",
       "protein groups                                                                  \n",
       "A0A024QZX5;A0A087X1N8;P35237                       0.415         0.382  0.573   \n",
       "A0A024R0T9;K7ER74;P02655                           0.048         1.320  0.117   \n",
       "A0A024R3W6;A0A024R412;O60462;O60462-2;O60462-3;... 0.062         1.206  0.145   \n",
       "A0A024R644;A0A0A0MRU5;A0A1B0GWI2;O75503            0.523         0.282  0.668   \n",
       "A0A075B6H7                                         0.147         0.832  0.279   \n",
       "...                                                  ...           ...    ...   \n",
       "Q9Y6R7                                             0.175         0.756  0.316   \n",
       "Q9Y6X5                                             0.110         0.959  0.226   \n",
       "Q9Y6Y8;Q9Y6Y8-2                                    0.083         1.079  0.182   \n",
       "Q9Y6Y9                                             0.305         0.516  0.465   \n",
       "S4R3U6                                             0.229         0.639  0.382   \n",
       "\n",
       "                                                               RF  \\\n",
       "                                                   rejected p-unc   \n",
       "protein groups                                                      \n",
       "A0A024QZX5;A0A087X1N8;P35237                          False 0.009   \n",
       "A0A024R0T9;K7ER74;P02655                              False 0.028   \n",
       "A0A024R3W6;A0A024R412;O60462;O60462-2;O60462-3;...    False 0.376   \n",
       "A0A024R644;A0A0A0MRU5;A0A1B0GWI2;O75503               False 0.257   \n",
       "A0A075B6H7                                            False 0.001   \n",
       "...                                                     ...   ...   \n",
       "Q9Y6R7                                                False 0.175   \n",
       "Q9Y6X5                                                False 0.214   \n",
       "Q9Y6Y8;Q9Y6Y8-2                                       False 0.083   \n",
       "Q9Y6Y9                                                False 0.469   \n",
       "S4R3U6                                                False 0.091   \n",
       "\n",
       "                                                                         \\\n",
       "                                                   -Log10 pvalue qvalue   \n",
       "protein groups                                                            \n",
       "A0A024QZX5;A0A087X1N8;P35237                               2.062  0.025   \n",
       "A0A024R0T9;K7ER74;P02655                                   1.554  0.066   \n",
       "A0A024R3W6;A0A024R412;O60462;O60462-2;O60462-3;...         0.425  0.516   \n",
       "A0A024R644;A0A0A0MRU5;A0A1B0GWI2;O75503                    0.590  0.390   \n",
       "A0A075B6H7                                                 3.083  0.003   \n",
       "...                                                          ...    ...   \n",
       "Q9Y6R7                                                     0.756  0.291   \n",
       "Q9Y6X5                                                     0.670  0.339   \n",
       "Q9Y6Y8;Q9Y6Y8-2                                            1.079  0.162   \n",
       "Q9Y6Y9                                                     0.329  0.604   \n",
       "S4R3U6                                                     1.042  0.174   \n",
       "\n",
       "                                                                 data  \n",
       "                                                   rejected frequency  \n",
       "protein groups                                                         \n",
       "A0A024QZX5;A0A087X1N8;P35237                           True       186  \n",
       "A0A024R0T9;K7ER74;P02655                              False       195  \n",
       "A0A024R3W6;A0A024R412;O60462;O60462-2;O60462-3;...    False       174  \n",
       "A0A024R644;A0A0A0MRU5;A0A1B0GWI2;O75503               False       196  \n",
       "A0A075B6H7                                             True        91  \n",
       "...                                                     ...       ...  \n",
       "Q9Y6R7                                                False       197  \n",
       "Q9Y6X5                                                False       173  \n",
       "Q9Y6Y8;Q9Y6Y8-2                                       False       197  \n",
       "Q9Y6Y9                                                False       119  \n",
       "S4R3U6                                                False       126  \n",
       "\n",
       "[1421 rows x 9 columns]"
      ]
     },
     "execution_count": 15,
     "metadata": {},
     "output_type": "execute_result"
    }
   ],
   "source": [
    "scores_common = (scores\n",
    "                 .dropna()\n",
    "                 .reset_index(-1, drop=True)\n",
    "                 ).join(\n",
    "    freq_feat, how='left'\n",
    ")\n",
    "scores_common"
   ]
  },
  {
   "cell_type": "markdown",
   "id": "62a9eefd",
   "metadata": {
    "papermill": {
     "duration": 0.016512,
     "end_time": "2024-08-19T19:15:54.689119",
     "exception": false,
     "start_time": "2024-08-19T19:15:54.672607",
     "status": "completed"
    },
    "tags": []
   },
   "source": [
    "### Annotate decisions in Confusion Table style:"
   ]
  },
  {
   "cell_type": "code",
   "execution_count": 16,
   "id": "80cf4145-070d-457a-bb74-ee64299809e7",
   "metadata": {
    "execution": {
     "iopub.execute_input": "2024-08-19T19:15:54.724481Z",
     "iopub.status.busy": "2024-08-19T19:15:54.724185Z",
     "iopub.status.idle": "2024-08-19T19:15:54.738284Z",
     "shell.execute_reply": "2024-08-19T19:15:54.737121Z"
    },
    "papermill": {
     "duration": 0.03344,
     "end_time": "2024-08-19T19:15:54.740013",
     "exception": false,
     "start_time": "2024-08-19T19:15:54.706573",
     "status": "completed"
    },
    "tags": [
     "hide-input"
    ]
   },
   "outputs": [
    {
     "data": {
      "text/plain": [
       "Differential Analysis Comparison\n",
       "PI (no)  - RF (no)    915\n",
       "PI (yes) - RF (yes)   326\n",
       "PI (no)  - RF (yes)   115\n",
       "PI (yes) - RF (no)     65\n",
       "Name: count, dtype: int64"
      ]
     },
     "execution_count": 16,
     "metadata": {},
     "output_type": "execute_result"
    }
   ],
   "source": [
    "def annotate_decision(scores, model, model_column):\n",
    "    return scores[(model_column, 'rejected')].replace({False: f'{model} (no) ', True: f'{model} (yes)'})\n",
    "\n",
    "\n",
    "annotations = None\n",
    "for model, model_column in models.items():\n",
    "    if annotations is not None:\n",
    "        annotations += ' - '\n",
    "        annotations += annotate_decision(scores_common,\n",
    "                                         model=model, model_column=model_column)\n",
    "    else:\n",
    "        annotations = annotate_decision(\n",
    "            scores_common, model=model, model_column=model_column)\n",
    "annotations.name = 'Differential Analysis Comparison'\n",
    "annotations.value_counts()"
   ]
  },
  {
   "cell_type": "markdown",
   "id": "0942d395",
   "metadata": {
    "papermill": {
     "duration": 0.046847,
     "end_time": "2024-08-19T19:15:54.803852",
     "exception": false,
     "start_time": "2024-08-19T19:15:54.757005",
     "status": "completed"
    },
    "tags": []
   },
   "source": [
    "### List different decisions between models"
   ]
  },
  {
   "cell_type": "code",
   "execution_count": 17,
   "id": "cda5ffa4-9a97-4a49-aaba-34e83ef7940a",
   "metadata": {
    "execution": {
     "iopub.execute_input": "2024-08-19T19:15:54.838953Z",
     "iopub.status.busy": "2024-08-19T19:15:54.838643Z",
     "iopub.status.idle": "2024-08-19T19:15:54.902903Z",
     "shell.execute_reply": "2024-08-19T19:15:54.902278Z"
    },
    "papermill": {
     "duration": 0.083236,
     "end_time": "2024-08-19T19:15:54.904590",
     "exception": false,
     "start_time": "2024-08-19T19:15:54.821354",
     "status": "completed"
    },
    "tags": [
     "hide-input"
    ]
   },
   "outputs": [
    {
     "name": "stderr",
     "output_type": "stream",
     "text": [
      "/tmp/ipykernel_50785/1417621106.py:6: FutureWarning: Starting with pandas version 3.0 all arguments of to_excel except for the argument 'excel_writer' will be keyword-only.\n",
      "  _to_write.to_excel(writer, 'differences', **writer_args)\n",
      "root - INFO     Writen to Excel file under sheet 'differences'.\n"
     ]
    },
    {
     "data": {
      "text/html": [
       "<div>\n",
       "<style scoped>\n",
       "    .dataframe tbody tr th:only-of-type {\n",
       "        vertical-align: middle;\n",
       "    }\n",
       "\n",
       "    .dataframe tbody tr th {\n",
       "        vertical-align: top;\n",
       "    }\n",
       "\n",
       "    .dataframe thead tr th {\n",
       "        text-align: left;\n",
       "    }\n",
       "\n",
       "    .dataframe thead tr:last-of-type th {\n",
       "        text-align: right;\n",
       "    }\n",
       "</style>\n",
       "<table border=\"1\" class=\"dataframe\">\n",
       "  <thead>\n",
       "    <tr>\n",
       "      <th></th>\n",
       "      <th colspan=\"4\" halign=\"left\">PI</th>\n",
       "      <th colspan=\"4\" halign=\"left\">RF</th>\n",
       "      <th>data</th>\n",
       "    </tr>\n",
       "    <tr>\n",
       "      <th></th>\n",
       "      <th>p-unc</th>\n",
       "      <th>-Log10 pvalue</th>\n",
       "      <th>qvalue</th>\n",
       "      <th>rejected</th>\n",
       "      <th>p-unc</th>\n",
       "      <th>-Log10 pvalue</th>\n",
       "      <th>qvalue</th>\n",
       "      <th>rejected</th>\n",
       "      <th>frequency</th>\n",
       "    </tr>\n",
       "    <tr>\n",
       "      <th>protein groups</th>\n",
       "      <th></th>\n",
       "      <th></th>\n",
       "      <th></th>\n",
       "      <th></th>\n",
       "      <th></th>\n",
       "      <th></th>\n",
       "      <th></th>\n",
       "      <th></th>\n",
       "      <th></th>\n",
       "    </tr>\n",
       "  </thead>\n",
       "  <tbody>\n",
       "    <tr>\n",
       "      <th>A0A024QZX5;A0A087X1N8;P35237</th>\n",
       "      <td>0.415</td>\n",
       "      <td>0.382</td>\n",
       "      <td>0.573</td>\n",
       "      <td>False</td>\n",
       "      <td>0.009</td>\n",
       "      <td>2.062</td>\n",
       "      <td>0.025</td>\n",
       "      <td>True</td>\n",
       "      <td>186</td>\n",
       "    </tr>\n",
       "    <tr>\n",
       "      <th>A0A075B6H7</th>\n",
       "      <td>0.147</td>\n",
       "      <td>0.832</td>\n",
       "      <td>0.279</td>\n",
       "      <td>False</td>\n",
       "      <td>0.001</td>\n",
       "      <td>3.083</td>\n",
       "      <td>0.003</td>\n",
       "      <td>True</td>\n",
       "      <td>91</td>\n",
       "    </tr>\n",
       "    <tr>\n",
       "      <th>A0A075B6I0</th>\n",
       "      <td>0.020</td>\n",
       "      <td>1.706</td>\n",
       "      <td>0.059</td>\n",
       "      <td>False</td>\n",
       "      <td>0.001</td>\n",
       "      <td>3.076</td>\n",
       "      <td>0.003</td>\n",
       "      <td>True</td>\n",
       "      <td>194</td>\n",
       "    </tr>\n",
       "    <tr>\n",
       "      <th>A0A075B6J9</th>\n",
       "      <td>0.041</td>\n",
       "      <td>1.384</td>\n",
       "      <td>0.105</td>\n",
       "      <td>False</td>\n",
       "      <td>0.015</td>\n",
       "      <td>1.838</td>\n",
       "      <td>0.038</td>\n",
       "      <td>True</td>\n",
       "      <td>156</td>\n",
       "    </tr>\n",
       "    <tr>\n",
       "      <th>A0A075B6R2</th>\n",
       "      <td>0.344</td>\n",
       "      <td>0.463</td>\n",
       "      <td>0.505</td>\n",
       "      <td>False</td>\n",
       "      <td>0.002</td>\n",
       "      <td>2.761</td>\n",
       "      <td>0.006</td>\n",
       "      <td>True</td>\n",
       "      <td>164</td>\n",
       "    </tr>\n",
       "    <tr>\n",
       "      <th>...</th>\n",
       "      <td>...</td>\n",
       "      <td>...</td>\n",
       "      <td>...</td>\n",
       "      <td>...</td>\n",
       "      <td>...</td>\n",
       "      <td>...</td>\n",
       "      <td>...</td>\n",
       "      <td>...</td>\n",
       "      <td>...</td>\n",
       "    </tr>\n",
       "    <tr>\n",
       "      <th>Q9ULZ9</th>\n",
       "      <td>0.001</td>\n",
       "      <td>3.265</td>\n",
       "      <td>0.003</td>\n",
       "      <td>True</td>\n",
       "      <td>0.035</td>\n",
       "      <td>1.456</td>\n",
       "      <td>0.080</td>\n",
       "      <td>False</td>\n",
       "      <td>171</td>\n",
       "    </tr>\n",
       "    <tr>\n",
       "      <th>Q9UNW1</th>\n",
       "      <td>0.008</td>\n",
       "      <td>2.118</td>\n",
       "      <td>0.027</td>\n",
       "      <td>True</td>\n",
       "      <td>0.854</td>\n",
       "      <td>0.068</td>\n",
       "      <td>0.910</td>\n",
       "      <td>False</td>\n",
       "      <td>171</td>\n",
       "    </tr>\n",
       "    <tr>\n",
       "      <th>Q9UP79</th>\n",
       "      <td>0.350</td>\n",
       "      <td>0.456</td>\n",
       "      <td>0.511</td>\n",
       "      <td>False</td>\n",
       "      <td>0.000</td>\n",
       "      <td>3.746</td>\n",
       "      <td>0.001</td>\n",
       "      <td>True</td>\n",
       "      <td>135</td>\n",
       "    </tr>\n",
       "    <tr>\n",
       "      <th>Q9UQ52</th>\n",
       "      <td>0.082</td>\n",
       "      <td>1.088</td>\n",
       "      <td>0.179</td>\n",
       "      <td>False</td>\n",
       "      <td>0.001</td>\n",
       "      <td>3.181</td>\n",
       "      <td>0.003</td>\n",
       "      <td>True</td>\n",
       "      <td>188</td>\n",
       "    </tr>\n",
       "    <tr>\n",
       "      <th>Q9Y6C2</th>\n",
       "      <td>0.891</td>\n",
       "      <td>0.050</td>\n",
       "      <td>0.940</td>\n",
       "      <td>False</td>\n",
       "      <td>0.018</td>\n",
       "      <td>1.734</td>\n",
       "      <td>0.047</td>\n",
       "      <td>True</td>\n",
       "      <td>119</td>\n",
       "    </tr>\n",
       "  </tbody>\n",
       "</table>\n",
       "<p>180 rows × 9 columns</p>\n",
       "</div>"
      ],
      "text/plain": [
       "                                PI                                  RF  \\\n",
       "                             p-unc -Log10 pvalue qvalue rejected p-unc   \n",
       "protein groups                                                           \n",
       "A0A024QZX5;A0A087X1N8;P35237 0.415         0.382  0.573    False 0.009   \n",
       "A0A075B6H7                   0.147         0.832  0.279    False 0.001   \n",
       "A0A075B6I0                   0.020         1.706  0.059    False 0.001   \n",
       "A0A075B6J9                   0.041         1.384  0.105    False 0.015   \n",
       "A0A075B6R2                   0.344         0.463  0.505    False 0.002   \n",
       "...                            ...           ...    ...      ...   ...   \n",
       "Q9ULZ9                       0.001         3.265  0.003     True 0.035   \n",
       "Q9UNW1                       0.008         2.118  0.027     True 0.854   \n",
       "Q9UP79                       0.350         0.456  0.511    False 0.000   \n",
       "Q9UQ52                       0.082         1.088  0.179    False 0.001   \n",
       "Q9Y6C2                       0.891         0.050  0.940    False 0.018   \n",
       "\n",
       "                                                                data  \n",
       "                             -Log10 pvalue qvalue rejected frequency  \n",
       "protein groups                                                        \n",
       "A0A024QZX5;A0A087X1N8;P35237         2.062  0.025     True       186  \n",
       "A0A075B6H7                           3.083  0.003     True        91  \n",
       "A0A075B6I0                           3.076  0.003     True       194  \n",
       "A0A075B6J9                           1.838  0.038     True       156  \n",
       "A0A075B6R2                           2.761  0.006     True       164  \n",
       "...                                    ...    ...      ...       ...  \n",
       "Q9ULZ9                               1.456  0.080    False       171  \n",
       "Q9UNW1                               0.068  0.910    False       171  \n",
       "Q9UP79                               3.746  0.001     True       135  \n",
       "Q9UQ52                               3.181  0.003     True       188  \n",
       "Q9Y6C2                               1.734  0.047     True       119  \n",
       "\n",
       "[180 rows x 9 columns]"
      ]
     },
     "execution_count": 17,
     "metadata": {},
     "output_type": "execute_result"
    }
   ],
   "source": [
    "mask_different = (\n",
    "    (scores_common.loc[:, pd.IndexSlice[:, 'rejected']].any(axis=1))\n",
    "    & ~(scores_common.loc[:, pd.IndexSlice[:, 'rejected']].all(axis=1))\n",
    ")\n",
    "_to_write = scores_common.loc[mask_different]\n",
    "_to_write.to_excel(writer, 'differences', **writer_args)\n",
    "logger.info(\"Writen to Excel file under sheet 'differences'.\")\n",
    "_to_write"
   ]
  },
  {
   "cell_type": "markdown",
   "id": "e8832084",
   "metadata": {
    "papermill": {
     "duration": 0.016898,
     "end_time": "2024-08-19T19:15:54.938975",
     "exception": false,
     "start_time": "2024-08-19T19:15:54.922077",
     "status": "completed"
    },
    "tags": []
   },
   "source": [
    "## Plot qvalues of both models with annotated decisions\n",
    "\n",
    "Prepare data for plotting (qvalues)"
   ]
  },
  {
   "cell_type": "code",
   "execution_count": 18,
   "id": "5b2e5341-b054-40c3-b45a-44ae6ca46cfb",
   "metadata": {
    "execution": {
     "iopub.execute_input": "2024-08-19T19:15:54.974131Z",
     "iopub.status.busy": "2024-08-19T19:15:54.973655Z",
     "iopub.status.idle": "2024-08-19T19:15:54.990316Z",
     "shell.execute_reply": "2024-08-19T19:15:54.989700Z"
    },
    "papermill": {
     "duration": 0.035872,
     "end_time": "2024-08-19T19:15:54.991956",
     "exception": false,
     "start_time": "2024-08-19T19:15:54.956084",
     "status": "completed"
    },
    "tags": [
     "hide-input"
    ]
   },
   "outputs": [
    {
     "data": {
      "text/html": [
       "<div>\n",
       "<style scoped>\n",
       "    .dataframe tbody tr th:only-of-type {\n",
       "        vertical-align: middle;\n",
       "    }\n",
       "\n",
       "    .dataframe tbody tr th {\n",
       "        vertical-align: top;\n",
       "    }\n",
       "\n",
       "    .dataframe thead th {\n",
       "        text-align: right;\n",
       "    }\n",
       "</style>\n",
       "<table border=\"1\" class=\"dataframe\">\n",
       "  <thead>\n",
       "    <tr style=\"text-align: right;\">\n",
       "      <th></th>\n",
       "      <th>PI</th>\n",
       "      <th>RF</th>\n",
       "      <th>frequency</th>\n",
       "      <th>Differential Analysis Comparison</th>\n",
       "    </tr>\n",
       "    <tr>\n",
       "      <th>protein groups</th>\n",
       "      <th></th>\n",
       "      <th></th>\n",
       "      <th></th>\n",
       "      <th></th>\n",
       "    </tr>\n",
       "  </thead>\n",
       "  <tbody>\n",
       "    <tr>\n",
       "      <th>A0A024QZX5;A0A087X1N8;P35237</th>\n",
       "      <td>0.573</td>\n",
       "      <td>0.025</td>\n",
       "      <td>186</td>\n",
       "      <td>PI (no)  - RF (yes)</td>\n",
       "    </tr>\n",
       "    <tr>\n",
       "      <th>A0A024R0T9;K7ER74;P02655</th>\n",
       "      <td>0.117</td>\n",
       "      <td>0.066</td>\n",
       "      <td>195</td>\n",
       "      <td>PI (no)  - RF (no)</td>\n",
       "    </tr>\n",
       "    <tr>\n",
       "      <th>A0A024R3W6;A0A024R412;O60462;O60462-2;O60462-3;O60462-4;O60462-5;Q7LBX6;X5D2Q8</th>\n",
       "      <td>0.145</td>\n",
       "      <td>0.516</td>\n",
       "      <td>174</td>\n",
       "      <td>PI (no)  - RF (no)</td>\n",
       "    </tr>\n",
       "    <tr>\n",
       "      <th>A0A024R644;A0A0A0MRU5;A0A1B0GWI2;O75503</th>\n",
       "      <td>0.668</td>\n",
       "      <td>0.390</td>\n",
       "      <td>196</td>\n",
       "      <td>PI (no)  - RF (no)</td>\n",
       "    </tr>\n",
       "    <tr>\n",
       "      <th>A0A075B6H7</th>\n",
       "      <td>0.279</td>\n",
       "      <td>0.003</td>\n",
       "      <td>91</td>\n",
       "      <td>PI (no)  - RF (yes)</td>\n",
       "    </tr>\n",
       "    <tr>\n",
       "      <th>...</th>\n",
       "      <td>...</td>\n",
       "      <td>...</td>\n",
       "      <td>...</td>\n",
       "      <td>...</td>\n",
       "    </tr>\n",
       "    <tr>\n",
       "      <th>Q9Y6R7</th>\n",
       "      <td>0.316</td>\n",
       "      <td>0.291</td>\n",
       "      <td>197</td>\n",
       "      <td>PI (no)  - RF (no)</td>\n",
       "    </tr>\n",
       "    <tr>\n",
       "      <th>Q9Y6X5</th>\n",
       "      <td>0.226</td>\n",
       "      <td>0.339</td>\n",
       "      <td>173</td>\n",
       "      <td>PI (no)  - RF (no)</td>\n",
       "    </tr>\n",
       "    <tr>\n",
       "      <th>Q9Y6Y8;Q9Y6Y8-2</th>\n",
       "      <td>0.182</td>\n",
       "      <td>0.162</td>\n",
       "      <td>197</td>\n",
       "      <td>PI (no)  - RF (no)</td>\n",
       "    </tr>\n",
       "    <tr>\n",
       "      <th>Q9Y6Y9</th>\n",
       "      <td>0.465</td>\n",
       "      <td>0.604</td>\n",
       "      <td>119</td>\n",
       "      <td>PI (no)  - RF (no)</td>\n",
       "    </tr>\n",
       "    <tr>\n",
       "      <th>S4R3U6</th>\n",
       "      <td>0.382</td>\n",
       "      <td>0.174</td>\n",
       "      <td>126</td>\n",
       "      <td>PI (no)  - RF (no)</td>\n",
       "    </tr>\n",
       "  </tbody>\n",
       "</table>\n",
       "<p>1421 rows × 4 columns</p>\n",
       "</div>"
      ],
      "text/plain": [
       "                                                      PI    RF  frequency  \\\n",
       "protein groups                                                              \n",
       "A0A024QZX5;A0A087X1N8;P35237                       0.573 0.025        186   \n",
       "A0A024R0T9;K7ER74;P02655                           0.117 0.066        195   \n",
       "A0A024R3W6;A0A024R412;O60462;O60462-2;O60462-3;... 0.145 0.516        174   \n",
       "A0A024R644;A0A0A0MRU5;A0A1B0GWI2;O75503            0.668 0.390        196   \n",
       "A0A075B6H7                                         0.279 0.003         91   \n",
       "...                                                  ...   ...        ...   \n",
       "Q9Y6R7                                             0.316 0.291        197   \n",
       "Q9Y6X5                                             0.226 0.339        173   \n",
       "Q9Y6Y8;Q9Y6Y8-2                                    0.182 0.162        197   \n",
       "Q9Y6Y9                                             0.465 0.604        119   \n",
       "S4R3U6                                             0.382 0.174        126   \n",
       "\n",
       "                                                   Differential Analysis Comparison  \n",
       "protein groups                                                                       \n",
       "A0A024QZX5;A0A087X1N8;P35237                                    PI (no)  - RF (yes)  \n",
       "A0A024R0T9;K7ER74;P02655                                        PI (no)  - RF (no)   \n",
       "A0A024R3W6;A0A024R412;O60462;O60462-2;O60462-3;...              PI (no)  - RF (no)   \n",
       "A0A024R644;A0A0A0MRU5;A0A1B0GWI2;O75503                         PI (no)  - RF (no)   \n",
       "A0A075B6H7                                                      PI (no)  - RF (yes)  \n",
       "...                                                                             ...  \n",
       "Q9Y6R7                                                          PI (no)  - RF (no)   \n",
       "Q9Y6X5                                                          PI (no)  - RF (no)   \n",
       "Q9Y6Y8;Q9Y6Y8-2                                                 PI (no)  - RF (no)   \n",
       "Q9Y6Y9                                                          PI (no)  - RF (no)   \n",
       "S4R3U6                                                          PI (no)  - RF (no)   \n",
       "\n",
       "[1421 rows x 4 columns]"
      ]
     },
     "execution_count": 18,
     "metadata": {},
     "output_type": "execute_result"
    }
   ],
   "source": [
    "var = 'qvalue'\n",
    "to_plot = [scores_common[v][var] for v in models.values()]\n",
    "for s, k in zip(to_plot, models.keys()):\n",
    "    s.name = k.replace('_', ' ')\n",
    "to_plot.append(scores_common['data'])\n",
    "to_plot.append(annotations)\n",
    "to_plot = pd.concat(to_plot, axis=1)\n",
    "to_plot"
   ]
  },
  {
   "cell_type": "markdown",
   "id": "c92517a4-8456-4663-b719-4abd997fbb1c",
   "metadata": {
    "papermill": {
     "duration": 0.013217,
     "end_time": "2024-08-19T19:15:55.022371",
     "exception": false,
     "start_time": "2024-08-19T19:15:55.009154",
     "status": "completed"
    },
    "tags": []
   },
   "source": [
    "List of features with the highest difference in qvalues"
   ]
  },
  {
   "cell_type": "code",
   "execution_count": 19,
   "id": "c7af4a70-aa43-4772-af00-d425f5ed249f",
   "metadata": {
    "execution": {
     "iopub.execute_input": "2024-08-19T19:15:55.061641Z",
     "iopub.status.busy": "2024-08-19T19:15:55.060968Z",
     "iopub.status.idle": "2024-08-19T19:15:55.076557Z",
     "shell.execute_reply": "2024-08-19T19:15:55.075908Z"
    },
    "papermill": {
     "duration": 0.037791,
     "end_time": "2024-08-19T19:15:55.078269",
     "exception": false,
     "start_time": "2024-08-19T19:15:55.040478",
     "status": "completed"
    },
    "tags": [
     "hide-input"
    ]
   },
   "outputs": [
    {
     "data": {
      "text/html": [
       "<div>\n",
       "<style scoped>\n",
       "    .dataframe tbody tr th:only-of-type {\n",
       "        vertical-align: middle;\n",
       "    }\n",
       "\n",
       "    .dataframe tbody tr th {\n",
       "        vertical-align: top;\n",
       "    }\n",
       "\n",
       "    .dataframe thead th {\n",
       "        text-align: right;\n",
       "    }\n",
       "</style>\n",
       "<table border=\"1\" class=\"dataframe\">\n",
       "  <thead>\n",
       "    <tr style=\"text-align: right;\">\n",
       "      <th></th>\n",
       "      <th>PI</th>\n",
       "      <th>RF</th>\n",
       "      <th>frequency</th>\n",
       "      <th>Differential Analysis Comparison</th>\n",
       "      <th>diff_qvalue</th>\n",
       "    </tr>\n",
       "    <tr>\n",
       "      <th>protein groups</th>\n",
       "      <th></th>\n",
       "      <th></th>\n",
       "      <th></th>\n",
       "      <th></th>\n",
       "      <th></th>\n",
       "    </tr>\n",
       "  </thead>\n",
       "  <tbody>\n",
       "    <tr>\n",
       "      <th>Q8N9I0</th>\n",
       "      <td>0.998</td>\n",
       "      <td>0.009</td>\n",
       "      <td>141</td>\n",
       "      <td>PI (no)  - RF (yes)</td>\n",
       "      <td>0.990</td>\n",
       "    </tr>\n",
       "    <tr>\n",
       "      <th>Q96PQ0</th>\n",
       "      <td>0.006</td>\n",
       "      <td>0.991</td>\n",
       "      <td>177</td>\n",
       "      <td>PI (yes) - RF (no)</td>\n",
       "      <td>0.985</td>\n",
       "    </tr>\n",
       "    <tr>\n",
       "      <th>P52758</th>\n",
       "      <td>0.000</td>\n",
       "      <td>0.967</td>\n",
       "      <td>119</td>\n",
       "      <td>PI (yes) - RF (no)</td>\n",
       "      <td>0.967</td>\n",
       "    </tr>\n",
       "    <tr>\n",
       "      <th>Q6UWP8</th>\n",
       "      <td>0.973</td>\n",
       "      <td>0.021</td>\n",
       "      <td>59</td>\n",
       "      <td>PI (no)  - RF (yes)</td>\n",
       "      <td>0.952</td>\n",
       "    </tr>\n",
       "    <tr>\n",
       "      <th>P17931</th>\n",
       "      <td>0.997</td>\n",
       "      <td>0.046</td>\n",
       "      <td>174</td>\n",
       "      <td>PI (no)  - RF (yes)</td>\n",
       "      <td>0.952</td>\n",
       "    </tr>\n",
       "    <tr>\n",
       "      <th>...</th>\n",
       "      <td>...</td>\n",
       "      <td>...</td>\n",
       "      <td>...</td>\n",
       "      <td>...</td>\n",
       "      <td>...</td>\n",
       "    </tr>\n",
       "    <tr>\n",
       "      <th>F5GY80;F5H7G1;P07358</th>\n",
       "      <td>0.058</td>\n",
       "      <td>0.049</td>\n",
       "      <td>197</td>\n",
       "      <td>PI (no)  - RF (yes)</td>\n",
       "      <td>0.009</td>\n",
       "    </tr>\n",
       "    <tr>\n",
       "      <th>Q9NX62</th>\n",
       "      <td>0.056</td>\n",
       "      <td>0.047</td>\n",
       "      <td>197</td>\n",
       "      <td>PI (no)  - RF (yes)</td>\n",
       "      <td>0.009</td>\n",
       "    </tr>\n",
       "    <tr>\n",
       "      <th>P00740;P00740-2</th>\n",
       "      <td>0.053</td>\n",
       "      <td>0.045</td>\n",
       "      <td>197</td>\n",
       "      <td>PI (no)  - RF (yes)</td>\n",
       "      <td>0.008</td>\n",
       "    </tr>\n",
       "    <tr>\n",
       "      <th>K7ERG9;P00746</th>\n",
       "      <td>0.052</td>\n",
       "      <td>0.044</td>\n",
       "      <td>197</td>\n",
       "      <td>PI (no)  - RF (yes)</td>\n",
       "      <td>0.008</td>\n",
       "    </tr>\n",
       "    <tr>\n",
       "      <th>Q9P2E7;Q9P2E7-2</th>\n",
       "      <td>0.046</td>\n",
       "      <td>0.051</td>\n",
       "      <td>196</td>\n",
       "      <td>PI (yes) - RF (no)</td>\n",
       "      <td>0.006</td>\n",
       "    </tr>\n",
       "  </tbody>\n",
       "</table>\n",
       "<p>180 rows × 5 columns</p>\n",
       "</div>"
      ],
      "text/plain": [
       "                        PI    RF  frequency Differential Analysis Comparison  \\\n",
       "protein groups                                                                 \n",
       "Q8N9I0               0.998 0.009        141              PI (no)  - RF (yes)   \n",
       "Q96PQ0               0.006 0.991        177              PI (yes) - RF (no)    \n",
       "P52758               0.000 0.967        119              PI (yes) - RF (no)    \n",
       "Q6UWP8               0.973 0.021         59              PI (no)  - RF (yes)   \n",
       "P17931               0.997 0.046        174              PI (no)  - RF (yes)   \n",
       "...                    ...   ...        ...                              ...   \n",
       "F5GY80;F5H7G1;P07358 0.058 0.049        197              PI (no)  - RF (yes)   \n",
       "Q9NX62               0.056 0.047        197              PI (no)  - RF (yes)   \n",
       "P00740;P00740-2      0.053 0.045        197              PI (no)  - RF (yes)   \n",
       "K7ERG9;P00746        0.052 0.044        197              PI (no)  - RF (yes)   \n",
       "Q9P2E7;Q9P2E7-2      0.046 0.051        196              PI (yes) - RF (no)    \n",
       "\n",
       "                      diff_qvalue  \n",
       "protein groups                     \n",
       "Q8N9I0                      0.990  \n",
       "Q96PQ0                      0.985  \n",
       "P52758                      0.967  \n",
       "Q6UWP8                      0.952  \n",
       "P17931                      0.952  \n",
       "...                           ...  \n",
       "F5GY80;F5H7G1;P07358        0.009  \n",
       "Q9NX62                      0.009  \n",
       "P00740;P00740-2             0.008  \n",
       "K7ERG9;P00746               0.008  \n",
       "Q9P2E7;Q9P2E7-2             0.006  \n",
       "\n",
       "[180 rows x 5 columns]"
      ]
     },
     "execution_count": 19,
     "metadata": {},
     "output_type": "execute_result"
    }
   ],
   "source": [
    "# should it be possible to run not only RSN?\n",
    "to_plot['diff_qvalue'] = (to_plot[str(args.baseline)] - to_plot[str(args.model_key)]).abs()\n",
    "to_plot.loc[mask_different].sort_values('diff_qvalue', ascending=False)"
   ]
  },
  {
   "cell_type": "markdown",
   "id": "e715954e-2d62-4cd9-b4b0-063524bca495",
   "metadata": {
    "papermill": {
     "duration": 0.017846,
     "end_time": "2024-08-19T19:15:55.114129",
     "exception": false,
     "start_time": "2024-08-19T19:15:55.096283",
     "status": "completed"
    },
    "tags": []
   },
   "source": [
    "### Differences plotted with created annotations"
   ]
  },
  {
   "cell_type": "code",
   "execution_count": 20,
   "id": "a20d356d-c397-4440-b70e-9d899aa200fd",
   "metadata": {
    "execution": {
     "iopub.execute_input": "2024-08-19T19:15:55.150491Z",
     "iopub.status.busy": "2024-08-19T19:15:55.150191Z",
     "iopub.status.idle": "2024-08-19T19:15:56.798508Z",
     "shell.execute_reply": "2024-08-19T19:15:56.797929Z"
    },
    "papermill": {
     "duration": 1.668912,
     "end_time": "2024-08-19T19:15:56.800411",
     "exception": false,
     "start_time": "2024-08-19T19:15:55.131499",
     "status": "completed"
    },
    "tags": [
     "hide-input"
    ]
   },
   "outputs": [
    {
     "name": "stderr",
     "output_type": "stream",
     "text": [
      "pimmslearn.plotting - INFO     Saved Figures to runs/alzheimer_study/diff_analysis/AD/PI_vs_RF/diff_analysis_comparision_1_RF\n"
     ]
    },
    {
     "data": {
      "image/png": "[encoded data removed]",
      "text/plain": [
       "<Figure size 588x588 with 1 Axes>"
      ]
     },
     "metadata": {},
     "output_type": "display_data"
    }
   ],
   "source": [
    "figsize = (4, 4)\n",
    "size = 5\n",
    "fig, ax = plt.subplots(figsize=figsize)\n",
    "x_col = to_plot.columns[0]\n",
    "y_col = to_plot.columns[1]\n",
    "ax = sns.scatterplot(data=to_plot,\n",
    "                     x=x_col,\n",
    "                     y=y_col,\n",
    "                     s=size,\n",
    "                     hue='Differential Analysis Comparison',\n",
    "                     ax=ax)\n",
    "_ = ax.legend(fontsize=fontsize,\n",
    "              title_fontsize=fontsize,\n",
    "              markerscale=0.4,\n",
    "              title='',\n",
    "              )\n",
    "ax.set_xlabel(f\"qvalue for {x_col}\")\n",
    "ax.set_ylabel(f\"qvalue for {y_col}\")\n",
    "ax.hlines(0.05, 0, 1, color='grey', linestyles='dotted')\n",
    "ax.vlines(0.05, 0, 1, color='grey', linestyles='dotted')\n",
    "sns.move_legend(ax, \"upper right\")\n",
    "files_out[f'diff_analysis_comparision_1_{args.model_key}'] = (\n",
    "    args.out_folder /\n",
    "    f'diff_analysis_comparision_1_{args.model_key}')\n",
    "fname = files_out[f'diff_analysis_comparision_1_{args.model_key}']\n",
    "pimmslearn.savefig(fig, name=fname)"
   ]
  },
  {
   "cell_type": "markdown",
   "id": "d8849c76-c5f6-4618-87c0-f2635dc9ac66",
   "metadata": {
    "papermill": {
     "duration": 0.020021,
     "end_time": "2024-08-19T19:15:56.842003",
     "exception": false,
     "start_time": "2024-08-19T19:15:56.821982",
     "status": "completed"
    },
    "tags": []
   },
   "source": [
    "- also showing how many features were measured (\"observed\") by size of circle"
   ]
  },
  {
   "cell_type": "code",
   "execution_count": 21,
   "id": "1cf258f8-9dcb-40bb-af66-b600f8d413f6",
   "metadata": {
    "execution": {
     "iopub.execute_input": "2024-08-19T19:15:56.882240Z",
     "iopub.status.busy": "2024-08-19T19:15:56.881930Z",
     "iopub.status.idle": "2024-08-19T19:15:59.773486Z",
     "shell.execute_reply": "2024-08-19T19:15:59.772847Z"
    },
    "papermill": {
     "duration": 2.913679,
     "end_time": "2024-08-19T19:15:59.775198",
     "exception": false,
     "start_time": "2024-08-19T19:15:56.861519",
     "status": "completed"
    },
    "tags": [
     "hide-input"
    ]
   },
   "outputs": [
    {
     "name": "stderr",
     "output_type": "stream",
     "text": [
      "pimmslearn.plotting - INFO     Saved Figures to runs/alzheimer_study/diff_analysis/AD/PI_vs_RF/diff_analysis_comparision_2_RF\n"
     ]
    },
    {
     "data": {
      "image/png": "[encoded data removed]",
      "text/plain": [
       "<Figure size 588x588 with 1 Axes>"
      ]
     },
     "metadata": {},
     "output_type": "display_data"
    }
   ],
   "source": [
    "fig, ax = plt.subplots(figsize=figsize)\n",
    "ax = sns.scatterplot(data=to_plot,\n",
    "                     x=to_plot.columns[0],\n",
    "                     y=to_plot.columns[1],\n",
    "                     size='frequency',\n",
    "                     s=size,\n",
    "                     sizes=(5, 20),\n",
    "                     hue='Differential Analysis Comparison')\n",
    "_ = ax.legend(fontsize=fontsize,\n",
    "              title_fontsize=fontsize,\n",
    "              markerscale=0.6,\n",
    "              title='',\n",
    "              )\n",
    "ax.set_xlabel(f\"qvalue for {x_col}\")\n",
    "ax.set_ylabel(f\"qvalue for {y_col}\")\n",
    "ax.hlines(0.05, 0, 1, color='grey', linestyles='dotted')\n",
    "ax.vlines(0.05, 0, 1, color='grey', linestyles='dotted')\n",
    "sns.move_legend(ax, \"upper right\")\n",
    "files_out[f'diff_analysis_comparision_2_{args.model_key}'] = (\n",
    "    args.out_folder / f'diff_analysis_comparision_2_{args.model_key}')\n",
    "pimmslearn.savefig(\n",
    "    fig, name=files_out[f'diff_analysis_comparision_2_{args.model_key}'])"
   ]
  },
  {
   "cell_type": "markdown",
   "id": "1fee3a21-d8b3-40c6-aea2-4774dfe855ca",
   "metadata": {
    "papermill": {
     "duration": 0.031552,
     "end_time": "2024-08-19T19:15:59.830898",
     "exception": false,
     "start_time": "2024-08-19T19:15:59.799346",
     "status": "completed"
    },
    "tags": []
   },
   "source": [
    "## Only features contained in model\n",
    "- this block exist due to a specific part in the ALD analysis of the paper"
   ]
  },
  {
   "cell_type": "code",
   "execution_count": 22,
   "id": "c4e23a01-fd37-4496-a518-445a9ef38db1",
   "metadata": {
    "execution": {
     "iopub.execute_input": "2024-08-19T19:15:59.912100Z",
     "iopub.status.busy": "2024-08-19T19:15:59.911743Z",
     "iopub.status.idle": "2024-08-19T19:15:59.918884Z",
     "shell.execute_reply": "2024-08-19T19:15:59.918270Z"
    },
    "papermill": {
     "duration": 0.053937,
     "end_time": "2024-08-19T19:15:59.920356",
     "exception": false,
     "start_time": "2024-08-19T19:15:59.866419",
     "status": "completed"
    },
    "tags": [
     "hide-input"
    ]
   },
   "outputs": [
    {
     "name": "stderr",
     "output_type": "stream",
     "text": [
      "root - INFO     No features only in new comparision model.\n"
     ]
    }
   ],
   "source": [
    "scores_model_only = scores.reset_index(level=-1, drop=True)\n",
    "_diff = scores_model_only.index.difference(scores_common.index)\n",
    "if not _diff.empty:\n",
    "    scores_model_only = (scores_model_only\n",
    "                         .loc[\n",
    "                             _diff,\n",
    "                             args.model_key]\n",
    "                         .sort_values(by='qvalue', ascending=True)\n",
    "                         .join(freq_feat.squeeze().rename(freq_feat.columns.droplevel()[0])\n",
    "                               )\n",
    "                         )\n",
    "    display(scores_model_only)\n",
    "else:\n",
    "    scores_model_only = None\n",
    "    logger.info(\"No features only in new comparision model.\")\n",
    "\n",
    "if not _diff.empty:\n",
    "    scores_model_only.to_excel(writer, 'only_model', **writer_args)\n",
    "    display(scores_model_only.rejected.value_counts())\n",
    "    scores_model_only_rejected = scores_model_only.loc[scores_model_only.rejected]\n",
    "    scores_model_only_rejected.to_excel(\n",
    "        writer, 'only_model_rejected', **writer_args)"
   ]
  },
  {
   "cell_type": "markdown",
   "id": "78b2c336",
   "metadata": {
    "papermill": {
     "duration": 0.02204,
     "end_time": "2024-08-19T19:15:59.972658",
     "exception": false,
     "start_time": "2024-08-19T19:15:59.950618",
     "status": "completed"
    },
    "tags": []
   },
   "source": [
    "## DISEASES DB lookup\n",
    "\n",
    "Query diseases database for gene associations with specified disease ontology id."
   ]
  },
  {
   "cell_type": "code",
   "execution_count": 23,
   "id": "d93a9242-0ef4-4fc7-bd98-226a93639f58",
   "metadata": {
    "execution": {
     "iopub.execute_input": "2024-08-19T19:16:00.019114Z",
     "iopub.status.busy": "2024-08-19T19:16:00.018809Z",
     "iopub.status.idle": "2024-08-19T19:16:02.999284Z",
     "shell.execute_reply": "2024-08-19T19:16:02.998651Z"
    },
    "papermill": {
     "duration": 3.005783,
     "end_time": "2024-08-19T19:16:03.000810",
     "exception": false,
     "start_time": "2024-08-19T19:15:59.995027",
     "status": "completed"
    },
    "tags": [
     "hide-input"
    ]
   },
   "outputs": [
    {
     "name": "stderr",
     "output_type": "stream",
     "text": [
      "pimmslearn.databases.diseases - WARNING  There are more associations available\n"
     ]
    },
    {
     "data": {
      "text/html": [
       "<div>\n",
       "<style scoped>\n",
       "    .dataframe tbody tr th:only-of-type {\n",
       "        vertical-align: middle;\n",
       "    }\n",
       "\n",
       "    .dataframe tbody tr th {\n",
       "        vertical-align: top;\n",
       "    }\n",
       "\n",
       "    .dataframe thead th {\n",
       "        text-align: right;\n",
       "    }\n",
       "</style>\n",
       "<table border=\"1\" class=\"dataframe\">\n",
       "  <thead>\n",
       "    <tr style=\"text-align: right;\">\n",
       "      <th></th>\n",
       "      <th>ENSP</th>\n",
       "      <th>score</th>\n",
       "    </tr>\n",
       "    <tr>\n",
       "      <th>None</th>\n",
       "      <th></th>\n",
       "      <th></th>\n",
       "    </tr>\n",
       "  </thead>\n",
       "  <tbody>\n",
       "    <tr>\n",
       "      <th>APOE</th>\n",
       "      <td>ENSP00000252486</td>\n",
       "      <td>5.000</td>\n",
       "    </tr>\n",
       "    <tr>\n",
       "      <th>PSEN1</th>\n",
       "      <td>ENSP00000326366</td>\n",
       "      <td>5.000</td>\n",
       "    </tr>\n",
       "    <tr>\n",
       "      <th>APP</th>\n",
       "      <td>ENSP00000284981</td>\n",
       "      <td>5.000</td>\n",
       "    </tr>\n",
       "    <tr>\n",
       "      <th>PSEN2</th>\n",
       "      <td>ENSP00000355747</td>\n",
       "      <td>5.000</td>\n",
       "    </tr>\n",
       "    <tr>\n",
       "      <th>MAPT</th>\n",
       "      <td>ENSP00000340820</td>\n",
       "      <td>4.800</td>\n",
       "    </tr>\n",
       "    <tr>\n",
       "      <th>...</th>\n",
       "      <td>...</td>\n",
       "      <td>...</td>\n",
       "    </tr>\n",
       "    <tr>\n",
       "      <th>LPIN3</th>\n",
       "      <td>ENSP00000487971</td>\n",
       "      <td>0.681</td>\n",
       "    </tr>\n",
       "    <tr>\n",
       "      <th>HECTD1</th>\n",
       "      <td>ENSP00000382269</td>\n",
       "      <td>0.681</td>\n",
       "    </tr>\n",
       "    <tr>\n",
       "      <th>ETNK1</th>\n",
       "      <td>ENSP00000500633</td>\n",
       "      <td>0.681</td>\n",
       "    </tr>\n",
       "    <tr>\n",
       "      <th>CAPN11</th>\n",
       "      <td>ENSP00000381758</td>\n",
       "      <td>0.681</td>\n",
       "    </tr>\n",
       "    <tr>\n",
       "      <th>CILP2</th>\n",
       "      <td>ENSP00000291495</td>\n",
       "      <td>0.680</td>\n",
       "    </tr>\n",
       "  </tbody>\n",
       "</table>\n",
       "<p>10000 rows × 2 columns</p>\n",
       "</div>"
      ],
      "text/plain": [
       "                   ENSP  score\n",
       "None                          \n",
       "APOE    ENSP00000252486  5.000\n",
       "PSEN1   ENSP00000326366  5.000\n",
       "APP     ENSP00000284981  5.000\n",
       "PSEN2   ENSP00000355747  5.000\n",
       "MAPT    ENSP00000340820  4.800\n",
       "...                 ...    ...\n",
       "LPIN3   ENSP00000487971  0.681\n",
       "HECTD1  ENSP00000382269  0.681\n",
       "ETNK1   ENSP00000500633  0.681\n",
       "CAPN11  ENSP00000381758  0.681\n",
       "CILP2   ENSP00000291495  0.680\n",
       "\n",
       "[10000 rows x 2 columns]"
      ]
     },
     "execution_count": 23,
     "metadata": {},
     "output_type": "execute_result"
    }
   ],
   "source": [
    "data = pimmslearn.databases.diseases.get_disease_association(\n",
    "    doid=args.disease_ontology, limit=10000)\n",
    "data = pd.DataFrame.from_dict(data, orient='index').rename_axis('ENSP', axis=0)\n",
    "data = data.rename(columns={'name': args.annotaitons_gene_col}).reset_index(\n",
    ").set_index(args.annotaitons_gene_col)\n",
    "data"
   ]
  },
  {
   "cell_type": "markdown",
   "id": "efe22443-2613-46ad-83c2-41048e13dd57",
   "metadata": {
    "papermill": {
     "duration": 0.035155,
     "end_time": "2024-08-19T19:16:03.087707",
     "exception": false,
     "start_time": "2024-08-19T19:16:03.052552",
     "status": "completed"
    },
    "tags": []
   },
   "source": [
    "## Shared features\n",
    "ToDo: new script -> DISEASES DB lookup"
   ]
  },
  {
   "cell_type": "code",
   "execution_count": null,
   "id": "5c26415e",
   "metadata": {
    "papermill": {
     "duration": 0.055304,
     "end_time": "2024-08-19T19:16:03.190169",
     "exception": false,
     "start_time": "2024-08-19T19:16:03.134865",
     "status": "completed"
    },
    "tags": [
     "hide-input"
    ]
   },
   "outputs": [],
   "source": []
  },
  {
   "cell_type": "code",
   "execution_count": 24,
   "id": "b68b43df",
   "metadata": {
    "execution": {
     "iopub.execute_input": "2024-08-19T19:16:03.286112Z",
     "iopub.status.busy": "2024-08-19T19:16:03.285806Z",
     "iopub.status.idle": "2024-08-19T19:16:03.293092Z",
     "shell.execute_reply": "2024-08-19T19:16:03.292168Z"
    },
    "papermill": {
     "duration": 0.063442,
     "end_time": "2024-08-19T19:16:03.301292",
     "exception": true,
     "start_time": "2024-08-19T19:16:03.237850",
     "status": "failed"
    },
    "tags": [
     "hide-input"
    ]
   },
   "outputs": [
    {
     "name": "stderr",
     "output_type": "stream",
     "text": [
      "root - INFO     No gene annotation in scores index:  ['protein groups', 'Source'] Exiting.\n"
     ]
    },
    {
     "ename": "SystemExit",
     "evalue": "0",
     "output_type": "error",
     "traceback": [
      "An exception has occurred, use %tb to see the full traceback.\n",
      "\u001b[0;31mSystemExit\u001b[0m\u001b[0;31m:\u001b[0m 0\n"
     ]
    },
    {
     "name": "stderr",
     "output_type": "stream",
     "text": [
      "/home/runner/work/pimms/pimms/project/.snakemake/conda/9315d83d47168fa3da1739d7e683ad72_/lib/python3.12/site-packages/IPython/core/interactiveshell.py:3585: UserWarning: To exit: use 'exit', 'quit', or Ctrl-D.\n",
      "  warn(\"To exit: use 'exit', 'quit', or Ctrl-D.\", stacklevel=1)\n"
     ]
    }
   ],
   "source": [
    "feat_name = scores.index.names[0]  # first index level is feature name\n",
    "if args.annotaitons_gene_col in scores.index.names:\n",
    "    logger.info(f\"Found gene annotation in scores index:  {scores.index.names}\")\n",
    "else:\n",
    "    logger.info(f\"No gene annotation in scores index:  {scores.index.names}\"\n",
    "                \" Exiting.\")\n",
    "    import sys\n",
    "    sys.exit(0)"
   ]
  },
  {
   "cell_type": "code",
   "execution_count": null,
   "id": "f8d4a74d-5a9b-4d9b-9345-4288bb23e19f",
   "metadata": {
    "papermill": {
     "duration": null,
     "end_time": null,
     "exception": null,
     "start_time": null,
     "status": "pending"
    },
    "tags": [
     "hide-input"
    ]
   },
   "outputs": [],
   "source": [
    "gene_to_PG = (scores.droplevel(\n",
    "    list(set(scores.index.names) - {feat_name, args.annotaitons_gene_col})\n",
    ")\n",
    "    .index\n",
    "    .to_frame()\n",
    "    .reset_index(drop=True)\n",
    "    .set_index(args.annotaitons_gene_col)\n",
    ")\n",
    "gene_to_PG.head()"
   ]
  },
  {
   "cell_type": "code",
   "execution_count": null,
   "id": "d9e76def-b48a-458d-a90b-765e6e70f7a4",
   "metadata": {
    "papermill": {
     "duration": null,
     "end_time": null,
     "exception": null,
     "start_time": null,
     "status": "pending"
    },
    "tags": [
     "hide-input"
    ]
   },
   "outputs": [],
   "source": [
    "disease_associations_all = data.join(\n",
    "    gene_to_PG).dropna().reset_index().set_index(feat_name).join(annotations)\n",
    "disease_associations_all"
   ]
  },
  {
   "cell_type": "markdown",
   "id": "217972a3-ba4a-4f28-ab8f-25dc0f5e9ede",
   "metadata": {
    "papermill": {
     "duration": null,
     "end_time": null,
     "exception": null,
     "start_time": null,
     "status": "pending"
    },
    "tags": []
   },
   "source": [
    "## only by model"
   ]
  },
  {
   "cell_type": "code",
   "execution_count": null,
   "id": "8e9d6944-87ba-4c41-af14-fb5ed93262f0",
   "metadata": {
    "papermill": {
     "duration": null,
     "end_time": null,
     "exception": null,
     "start_time": null,
     "status": "pending"
    },
    "tags": [
     "hide-input"
    ]
   },
   "outputs": [],
   "source": [
    "idx = disease_associations_all.index.intersection(scores_model_only.index)\n",
    "disease_assocications_new = disease_associations_all.loc[idx].sort_values(\n",
    "    'score', ascending=False)\n",
    "disease_assocications_new.head(20)"
   ]
  },
  {
   "cell_type": "code",
   "execution_count": null,
   "id": "ceefc483-b889-4bab-b207-c8d5fd97fa4a",
   "metadata": {
    "papermill": {
     "duration": null,
     "end_time": null,
     "exception": null,
     "start_time": null,
     "status": "pending"
    },
    "tags": [
     "hide-input"
    ]
   },
   "outputs": [],
   "source": [
    "mask = disease_assocications_new.loc[idx, 'score'] >= 2.0\n",
    "disease_assocications_new.loc[idx].loc[mask]"
   ]
  },
  {
   "cell_type": "markdown",
   "id": "f85eede2-7b61-4285-ba8c-745f77f6ab22",
   "metadata": {
    "papermill": {
     "duration": null,
     "end_time": null,
     "exception": null,
     "start_time": null,
     "status": "pending"
    },
    "tags": []
   },
   "source": [
    "## Only by model which were significant"
   ]
  },
  {
   "cell_type": "code",
   "execution_count": null,
   "id": "4644759b-8cc2-4f99-a16c-16419cfb915c",
   "metadata": {
    "papermill": {
     "duration": null,
     "end_time": null,
     "exception": null,
     "start_time": null,
     "status": "pending"
    },
    "tags": [
     "hide-input"
    ]
   },
   "outputs": [],
   "source": [
    "idx = disease_associations_all.index.intersection(\n",
    "    scores_model_only_rejected.index)\n",
    "disease_assocications_new_rejected = disease_associations_all.loc[idx].sort_values(\n",
    "    'score', ascending=False)\n",
    "disease_assocications_new_rejected.head(20)"
   ]
  },
  {
   "cell_type": "code",
   "execution_count": null,
   "id": "365d8641-97a8-464f-b69b-270af9ae6e2d",
   "metadata": {
    "papermill": {
     "duration": null,
     "end_time": null,
     "exception": null,
     "start_time": null,
     "status": "pending"
    },
    "tags": [
     "hide-input"
    ]
   },
   "outputs": [],
   "source": [
    "mask = disease_assocications_new_rejected.loc[idx, 'score'] >= 2.0\n",
    "disease_assocications_new_rejected.loc[idx].loc[mask]"
   ]
  },
  {
   "cell_type": "markdown",
   "id": "4f22614b-e058-4e35-b8a9-141c291a93bc",
   "metadata": {
    "papermill": {
     "duration": null,
     "end_time": null,
     "exception": null,
     "start_time": null,
     "status": "pending"
    },
    "tags": []
   },
   "source": [
    "## Shared which are only significant for by model"
   ]
  },
  {
   "cell_type": "code",
   "execution_count": null,
   "id": "82eb2ba8-4fe7-431d-8095-5be43f7791b7",
   "metadata": {
    "papermill": {
     "duration": null,
     "end_time": null,
     "exception": null,
     "start_time": null,
     "status": "pending"
    },
    "tags": []
   },
   "outputs": [],
   "source": [
    "mask = (scores_common[(str(args.model_key), 'rejected')] & mask_different)\n",
    "mask.sum()"
   ]
  },
  {
   "cell_type": "code",
   "execution_count": null,
   "id": "6416d494-5f3e-4cf4-b766-b1f95e40ae1c",
   "metadata": {
    "papermill": {
     "duration": null,
     "end_time": null,
     "exception": null,
     "start_time": null,
     "status": "pending"
    },
    "tags": [
     "hide-input"
    ]
   },
   "outputs": [],
   "source": [
    "idx = disease_associations_all.index.intersection(mask.index[mask])\n",
    "disease_assocications_shared_rejected_by_model = (disease_associations_all.loc[idx].sort_values(\n",
    "    'score', ascending=False))\n",
    "disease_assocications_shared_rejected_by_model.head(20)"
   ]
  },
  {
   "cell_type": "code",
   "execution_count": null,
   "id": "10899e28-4aee-4d44-a542-e45be6699a1b",
   "metadata": {
    "papermill": {
     "duration": null,
     "end_time": null,
     "exception": null,
     "start_time": null,
     "status": "pending"
    },
    "tags": [
     "hide-input"
    ]
   },
   "outputs": [],
   "source": [
    "mask = disease_assocications_shared_rejected_by_model.loc[idx, 'score'] >= 2.0\n",
    "disease_assocications_shared_rejected_by_model.loc[idx].loc[mask]"
   ]
  },
  {
   "cell_type": "markdown",
   "id": "b6c082ea-7d92-4296-8ec9-d279509142a3",
   "metadata": {
    "papermill": {
     "duration": null,
     "end_time": null,
     "exception": null,
     "start_time": null,
     "status": "pending"
    },
    "tags": []
   },
   "source": [
    "## Only significant by RSN"
   ]
  },
  {
   "cell_type": "code",
   "execution_count": null,
   "id": "c59aae50-6877-47cc-99f6-646862d29121",
   "metadata": {
    "papermill": {
     "duration": null,
     "end_time": null,
     "exception": null,
     "start_time": null,
     "status": "pending"
    },
    "tags": []
   },
   "outputs": [],
   "source": [
    "mask = (scores_common[(str(args.baseline), 'rejected')] & mask_different)\n",
    "mask.sum()"
   ]
  },
  {
   "cell_type": "code",
   "execution_count": null,
   "id": "7780de55-c63b-4028-a6d0-58bce7be81da",
   "metadata": {
    "papermill": {
     "duration": null,
     "end_time": null,
     "exception": null,
     "start_time": null,
     "status": "pending"
    },
    "tags": [
     "hide-input"
    ]
   },
   "outputs": [],
   "source": [
    "idx = disease_associations_all.index.intersection(mask.index[mask])\n",
    "disease_assocications_shared_rejected_by_RSN = (\n",
    "    disease_associations_all\n",
    "    .loc[idx]\n",
    "    .sort_values('score', ascending=False))\n",
    "disease_assocications_shared_rejected_by_RSN.head(20)"
   ]
  },
  {
   "cell_type": "code",
   "execution_count": null,
   "id": "03115c8f-1f20-4b51-a78c-4d7c0317dc33",
   "metadata": {
    "papermill": {
     "duration": null,
     "end_time": null,
     "exception": null,
     "start_time": null,
     "status": "pending"
    },
    "tags": [
     "hide-input"
    ]
   },
   "outputs": [],
   "source": [
    "mask = disease_assocications_shared_rejected_by_RSN.loc[idx, 'score'] >= 2.0\n",
    "disease_assocications_shared_rejected_by_RSN.loc[idx].loc[mask]"
   ]
  },
  {
   "cell_type": "markdown",
   "id": "9d72708d-ad27-435b-b672-7dfe35283601",
   "metadata": {
    "papermill": {
     "duration": null,
     "end_time": null,
     "exception": null,
     "start_time": null,
     "status": "pending"
    },
    "tags": []
   },
   "source": [
    "## Write to excel"
   ]
  },
  {
   "cell_type": "code",
   "execution_count": null,
   "id": "91e7fbb7-69fd-4b4c-9bc2-40e8dd1907b3",
   "metadata": {
    "papermill": {
     "duration": null,
     "end_time": null,
     "exception": null,
     "start_time": null,
     "status": "pending"
    },
    "tags": [
     "hide-input"
    ]
   },
   "outputs": [],
   "source": [
    "disease_associations_all.to_excel(\n",
    "    writer, sheet_name='disease_assoc_all', **writer_args)\n",
    "disease_assocications_new.to_excel(\n",
    "    writer, sheet_name='disease_assoc_new', **writer_args)\n",
    "disease_assocications_new_rejected.to_excel(\n",
    "    writer, sheet_name='disease_assoc_new_rejected', **writer_args)"
   ]
  },
  {
   "cell_type": "markdown",
   "id": "52a42028-7e2d-47d5-be02-52f7ff1f3665",
   "metadata": {
    "papermill": {
     "duration": null,
     "end_time": null,
     "exception": null,
     "start_time": null,
     "status": "pending"
    },
    "tags": []
   },
   "source": [
    "## Outputs"
   ]
  },
  {
   "cell_type": "code",
   "execution_count": null,
   "id": "7f3a7433-3bf1-4168-8f16-eb6d415ef17f",
   "metadata": {
    "papermill": {
     "duration": null,
     "end_time": null,
     "exception": null,
     "start_time": null,
     "status": "pending"
    },
    "tags": [
     "hide-input"
    ]
   },
   "outputs": [],
   "source": [
    "writer.close()\n",
    "files_out"
   ]
  }
 ],
 "metadata": {
  "kernelspec": {
   "display_name": "Python 3",
   "language": "python",
   "name": "python3"
  },
  "language_info": {
   "codemirror_mode": {
    "name": "ipython",
    "version": 3
   },
   "file_extension": ".py",
   "mimetype": "text/x-python",
   "name": "python",
   "nbconvert_exporter": "python",
   "pygments_lexer": "ipython3",
   "version": "3.12.0"
  },
  "papermill": {
   "default_parameters": {},
   "duration": 15.638654,
   "end_time": "2024-08-19T19:16:04.163385",
   "environment_variables": {},
   "exception": true,
   "input_path": "10_2_ald_compare_methods.ipynb",
   "output_path": "runs/alzheimer_study/diff_analysis/AD/PI_vs_RF/10_2_ald_compare_methods.ipynb",
   "parameters": {
    "annotaitons_gene_col": "None",
    "baseline": "PI",
    "disease_ontology": 10652,
    "folder_experiment": "runs/alzheimer_study",
    "model_key": "RF",
    "out_folder": "diff_analysis",
    "target": "AD"
   },
   "start_time": "2024-08-19T19:15:48.524731",
   "version": "2.6.0"
  }
 },
 "nbformat": 4,
 "nbformat_minor": 5
}