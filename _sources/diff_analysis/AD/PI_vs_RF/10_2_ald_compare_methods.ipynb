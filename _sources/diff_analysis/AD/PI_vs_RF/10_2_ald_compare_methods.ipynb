{
 "cells": [
  {
   "cell_type": "markdown",
   "id": "9acfeaca-5f8c-42f3-9a8e-83ed737eb35c",
   "metadata": {
    "papermill": {
     "duration": 0.013784,
     "end_time": "2025-01-18T04:30:00.861600",
     "exception": false,
     "start_time": "2025-01-18T04:30:00.847816",
     "status": "completed"
    },
    "tags": []
   },
   "source": [
    "# Compare outcomes from differential analysis based on different imputation methods\n",
    "\n",
    "- load scores based on `10_1_ald_diff_analysis`"
   ]
  },
  {
   "cell_type": "code",
   "execution_count": 1,
   "id": "eec6f931-c04d-428c-b2b1-0424c50e6cd2",
   "metadata": {
    "execution": {
     "iopub.execute_input": "2025-01-18T04:30:00.887969Z",
     "iopub.status.busy": "2025-01-18T04:30:00.887508Z",
     "iopub.status.idle": "2025-01-18T04:30:03.401947Z",
     "shell.execute_reply": "2025-01-18T04:30:03.401271Z"
    },
    "papermill": {
     "duration": 2.528987,
     "end_time": "2025-01-18T04:30:03.403328",
     "exception": false,
     "start_time": "2025-01-18T04:30:00.874341",
     "status": "completed"
    },
    "tags": [
     "hide-input"
    ]
   },
   "outputs": [],
   "source": [
    "import logging\n",
    "from pathlib import Path\n",
    "\n",
    "import matplotlib.pyplot as plt\n",
    "import pandas as pd\n",
    "import seaborn as sns\n",
    "from IPython.display import display\n",
    "\n",
    "import pimmslearn\n",
    "import pimmslearn.databases.diseases\n",
    "\n",
    "logger = pimmslearn.logging.setup_nb_logger()\n",
    "\n",
    "plt.rcParams['figure.figsize'] = (2, 2)\n",
    "fontsize = 5\n",
    "pimmslearn.plotting.make_large_descriptors(fontsize)\n",
    "logging.getLogger('fontTools').setLevel(logging.ERROR)\n",
    "\n",
    "# catch passed parameters\n",
    "args = None\n",
    "args = dict(globals()).keys()"
   ]
  },
  {
   "cell_type": "markdown",
   "id": "85f5f5d5",
   "metadata": {
    "papermill": {
     "duration": 0.008897,
     "end_time": "2025-01-18T04:30:03.424897",
     "exception": false,
     "start_time": "2025-01-18T04:30:03.416000",
     "status": "completed"
    },
    "tags": []
   },
   "source": [
    "## Parameters\n",
    "Default and set parameters for the notebook."
   ]
  },
  {
   "cell_type": "code",
   "execution_count": 2,
   "id": "f4bf65da-0569-4a21-ba20-9cae7d3679e7",
   "metadata": {
    "execution": {
     "iopub.execute_input": "2025-01-18T04:30:03.459234Z",
     "iopub.status.busy": "2025-01-18T04:30:03.458884Z",
     "iopub.status.idle": "2025-01-18T04:30:03.474729Z",
     "shell.execute_reply": "2025-01-18T04:30:03.474061Z"
    },
    "papermill": {
     "duration": 0.040955,
     "end_time": "2025-01-18T04:30:03.477065",
     "exception": false,
     "start_time": "2025-01-18T04:30:03.436110",
     "status": "completed"
    },
    "tags": [
     "parameters"
    ]
   },
   "outputs": [],
   "source": [
    "folder_experiment = 'runs/appl_ald_data/plasma/proteinGroups'\n",
    "\n",
    "target = 'kleiner'\n",
    "model_key = 'VAE'\n",
    "baseline = 'RSN'\n",
    "out_folder = 'diff_analysis'\n",
    "selected_statistics = ['p-unc', '-Log10 pvalue', 'qvalue', 'rejected']\n",
    "\n",
    "disease_ontology = 5082  # code from https://disease-ontology.org/\n",
    "# split diseases notebook? Query gene names for proteins in file from uniprot?\n",
    "annotaitons_gene_col = 'PG.Genes'"
   ]
  },
  {
   "cell_type": "code",
   "execution_count": 3,
   "id": "365df445",
   "metadata": {
    "execution": {
     "iopub.execute_input": "2025-01-18T04:30:03.522223Z",
     "iopub.status.busy": "2025-01-18T04:30:03.521596Z",
     "iopub.status.idle": "2025-01-18T04:30:03.531786Z",
     "shell.execute_reply": "2025-01-18T04:30:03.531150Z"
    },
    "papermill": {
     "duration": 0.039228,
     "end_time": "2025-01-18T04:30:03.534944",
     "exception": false,
     "start_time": "2025-01-18T04:30:03.495716",
     "status": "completed"
    },
    "tags": [
     "injected-parameters"
    ]
   },
   "outputs": [],
   "source": [
    "# Parameters\n",
    "disease_ontology = 10652\n",
    "folder_experiment = \"runs/alzheimer_study\"\n",
    "target = \"AD\"\n",
    "baseline = \"PI\"\n",
    "model_key = \"RF\"\n",
    "out_folder = \"diff_analysis\"\n",
    "annotaitons_gene_col = \"None\"\n"
   ]
  },
  {
   "cell_type": "markdown",
   "id": "22c645fc-c7eb-4c69-a7aa-084fc733258f",
   "metadata": {
    "papermill": {
     "duration": 0.015589,
     "end_time": "2025-01-18T04:30:03.573945",
     "exception": false,
     "start_time": "2025-01-18T04:30:03.558356",
     "status": "completed"
    },
    "tags": []
   },
   "source": [
    "Add set parameters to configuration"
   ]
  },
  {
   "cell_type": "code",
   "execution_count": 4,
   "id": "978876d0-b3cc-4847-8eab-dc0b89ddbbcd",
   "metadata": {
    "execution": {
     "iopub.execute_input": "2025-01-18T04:30:03.596419Z",
     "iopub.status.busy": "2025-01-18T04:30:03.595424Z",
     "iopub.status.idle": "2025-01-18T04:30:03.618659Z",
     "shell.execute_reply": "2025-01-18T04:30:03.618078Z"
    },
    "papermill": {
     "duration": 0.035439,
     "end_time": "2025-01-18T04:30:03.619834",
     "exception": false,
     "start_time": "2025-01-18T04:30:03.584395",
     "status": "completed"
    },
    "tags": [
     "hide-input"
    ]
   },
   "outputs": [
    {
     "name": "stderr",
     "output_type": "stream",
     "text": [
      "root - INFO     Removed from global namespace: folder_experiment\n"
     ]
    },
    {
     "name": "stderr",
     "output_type": "stream",
     "text": [
      "root - INFO     Removed from global namespace: target\n"
     ]
    },
    {
     "name": "stderr",
     "output_type": "stream",
     "text": [
      "root - INFO     Removed from global namespace: model_key\n"
     ]
    },
    {
     "name": "stderr",
     "output_type": "stream",
     "text": [
      "root - INFO     Removed from global namespace: baseline\n"
     ]
    },
    {
     "name": "stderr",
     "output_type": "stream",
     "text": [
      "root - INFO     Removed from global namespace: out_folder\n"
     ]
    },
    {
     "name": "stderr",
     "output_type": "stream",
     "text": [
      "root - INFO     Removed from global namespace: selected_statistics\n"
     ]
    },
    {
     "name": "stderr",
     "output_type": "stream",
     "text": [
      "root - INFO     Removed from global namespace: disease_ontology\n"
     ]
    },
    {
     "name": "stderr",
     "output_type": "stream",
     "text": [
      "root - INFO     Removed from global namespace: annotaitons_gene_col\n"
     ]
    },
    {
     "name": "stderr",
     "output_type": "stream",
     "text": [
      "root - INFO     Already set attribute: folder_experiment has value runs/alzheimer_study\n"
     ]
    },
    {
     "name": "stderr",
     "output_type": "stream",
     "text": [
      "root - INFO     Already set attribute: out_folder has value diff_analysis\n"
     ]
    },
    {
     "data": {
      "text/plain": [
       "{'annotaitons_gene_col': 'None',\n",
       " 'baseline': 'PI',\n",
       " 'data': PosixPath('runs/alzheimer_study/data'),\n",
       " 'disease_ontology': 10652,\n",
       " 'folder_experiment': PosixPath('runs/alzheimer_study'),\n",
       " 'freq_features_observed': PosixPath('runs/alzheimer_study/freq_features_observed.csv'),\n",
       " 'model_key': 'RF',\n",
       " 'out_figures': PosixPath('runs/alzheimer_study/figures'),\n",
       " 'out_folder': PosixPath('runs/alzheimer_study/diff_analysis/AD/PI_vs_RF'),\n",
       " 'out_metrics': PosixPath('runs/alzheimer_study'),\n",
       " 'out_models': PosixPath('runs/alzheimer_study'),\n",
       " 'out_preds': PosixPath('runs/alzheimer_study/preds'),\n",
       " 'scores_folder': PosixPath('runs/alzheimer_study/diff_analysis/AD/scores'),\n",
       " 'selected_statistics': ['p-unc', '-Log10 pvalue', 'qvalue', 'rejected'],\n",
       " 'target': 'AD'}"
      ]
     },
     "execution_count": 4,
     "metadata": {},
     "output_type": "execute_result"
    }
   ],
   "source": [
    "params = pimmslearn.nb.get_params(args, globals=globals())\n",
    "args = pimmslearn.nb.Config()\n",
    "args.folder_experiment = Path(params[\"folder_experiment\"])\n",
    "args = pimmslearn.nb.add_default_paths(args,\n",
    "                                 out_root=(\n",
    "                                     args.folder_experiment\n",
    "                                     / params[\"out_folder\"]\n",
    "                                     / params[\"target\"]\n",
    "                                     / f\"{params['baseline']}_vs_{params['model_key']}\"))\n",
    "args.update_from_dict(params)\n",
    "args.scores_folder = scores_folder = (args.folder_experiment\n",
    "                                      / params[\"out_folder\"]\n",
    "                                      / params[\"target\"]\n",
    "                                      / 'scores')\n",
    "args.freq_features_observed = args.folder_experiment / 'freq_features_observed.csv'\n",
    "args"
   ]
  },
  {
   "cell_type": "markdown",
   "id": "fc184dea",
   "metadata": {
    "papermill": {
     "duration": 0.011345,
     "end_time": "2025-01-18T04:30:03.642285",
     "exception": false,
     "start_time": "2025-01-18T04:30:03.630940",
     "status": "completed"
    },
    "tags": []
   },
   "source": [
    "### Excel file for exports"
   ]
  },
  {
   "cell_type": "code",
   "execution_count": 5,
   "id": "a8016d79-e41a-40a2-bcbf-e11711c33b7d",
   "metadata": {
    "execution": {
     "iopub.execute_input": "2025-01-18T04:30:03.666996Z",
     "iopub.status.busy": "2025-01-18T04:30:03.666685Z",
     "iopub.status.idle": "2025-01-18T04:30:03.783851Z",
     "shell.execute_reply": "2025-01-18T04:30:03.783245Z"
    },
    "papermill": {
     "duration": 0.131559,
     "end_time": "2025-01-18T04:30:03.785441",
     "exception": false,
     "start_time": "2025-01-18T04:30:03.653882",
     "status": "completed"
    },
    "tags": []
   },
   "outputs": [
    {
     "name": "stderr",
     "output_type": "stream",
     "text": [
      "root - INFO     Writing to excel file: runs/alzheimer_study/diff_analysis/AD/PI_vs_RF/diff_analysis_compare_methods.xlsx\n"
     ]
    }
   ],
   "source": [
    "files_out = dict()\n",
    "writer_args = dict(float_format='%.3f')\n",
    "\n",
    "fname = args.out_folder / 'diff_analysis_compare_methods.xlsx'\n",
    "files_out[fname.name] = fname\n",
    "writer = pd.ExcelWriter(fname)\n",
    "logger.info(\"Writing to excel file: %s\", fname)"
   ]
  },
  {
   "cell_type": "markdown",
   "id": "770d1f76-e86f-4ae3-9d7b-ceef9b9e9a22",
   "metadata": {
    "papermill": {
     "duration": 0.016873,
     "end_time": "2025-01-18T04:30:03.831747",
     "exception": false,
     "start_time": "2025-01-18T04:30:03.814874",
     "status": "completed"
    },
    "tags": []
   },
   "source": [
    "## Load scores"
   ]
  },
  {
   "cell_type": "markdown",
   "id": "6b108869",
   "metadata": {
    "papermill": {
     "duration": 0.006251,
     "end_time": "2025-01-18T04:30:03.849833",
     "exception": false,
     "start_time": "2025-01-18T04:30:03.843582",
     "status": "completed"
    },
    "tags": []
   },
   "source": [
    "### Load baseline model scores\n",
    "Show all statistics, later use selected statistics"
   ]
  },
  {
   "cell_type": "code",
   "execution_count": 6,
   "id": "97221134-5f61-4158-bfc5-ea30077140b8",
   "metadata": {
    "execution": {
     "iopub.execute_input": "2025-01-18T04:30:03.875446Z",
     "iopub.status.busy": "2025-01-18T04:30:03.875107Z",
     "iopub.status.idle": "2025-01-18T04:30:03.897432Z",
     "shell.execute_reply": "2025-01-18T04:30:03.894641Z"
    },
    "papermill": {
     "duration": 0.038135,
     "end_time": "2025-01-18T04:30:03.898581",
     "exception": false,
     "start_time": "2025-01-18T04:30:03.860446",
     "status": "completed"
    },
    "tags": [
     "hide-input"
    ]
   },
   "outputs": [
    {
     "data": {
      "text/html": [
       "<div>\n",
       "<style scoped>\n",
       "    .dataframe tbody tr th:only-of-type {\n",
       "        vertical-align: middle;\n",
       "    }\n",
       "\n",
       "    .dataframe tbody tr th {\n",
       "        vertical-align: top;\n",
       "    }\n",
       "\n",
       "    .dataframe thead tr th {\n",
       "        text-align: left;\n",
       "    }\n",
       "\n",
       "    .dataframe thead tr:last-of-type th {\n",
       "        text-align: right;\n",
       "    }\n",
       "</style>\n",
       "<table border=\"1\" class=\"dataframe\">\n",
       "  <thead>\n",
       "    <tr>\n",
       "      <th></th>\n",
       "      <th>model</th>\n",
       "      <th colspan=\"8\" halign=\"left\">PI</th>\n",
       "    </tr>\n",
       "    <tr>\n",
       "      <th></th>\n",
       "      <th>var</th>\n",
       "      <th>SS</th>\n",
       "      <th>DF</th>\n",
       "      <th>F</th>\n",
       "      <th>p-unc</th>\n",
       "      <th>np2</th>\n",
       "      <th>-Log10 pvalue</th>\n",
       "      <th>qvalue</th>\n",
       "      <th>rejected</th>\n",
       "    </tr>\n",
       "    <tr>\n",
       "      <th>protein groups</th>\n",
       "      <th>Source</th>\n",
       "      <th></th>\n",
       "      <th></th>\n",
       "      <th></th>\n",
       "      <th></th>\n",
       "      <th></th>\n",
       "      <th></th>\n",
       "      <th></th>\n",
       "      <th></th>\n",
       "    </tr>\n",
       "  </thead>\n",
       "  <tbody>\n",
       "    <tr>\n",
       "      <th rowspan=\"5\" valign=\"top\">A0A024QZX5;A0A087X1N8;P35237</th>\n",
       "      <th>AD</th>\n",
       "      <td>0.496</td>\n",
       "      <td>1</td>\n",
       "      <td>0.756</td>\n",
       "      <td>0.386</td>\n",
       "      <td>0.004</td>\n",
       "      <td>0.414</td>\n",
       "      <td>0.549</td>\n",
       "      <td>False</td>\n",
       "    </tr>\n",
       "    <tr>\n",
       "      <th>age</th>\n",
       "      <td>0.030</td>\n",
       "      <td>1</td>\n",
       "      <td>0.046</td>\n",
       "      <td>0.830</td>\n",
       "      <td>0.000</td>\n",
       "      <td>0.081</td>\n",
       "      <td>0.899</td>\n",
       "      <td>False</td>\n",
       "    </tr>\n",
       "    <tr>\n",
       "      <th>Kiel</th>\n",
       "      <td>2.034</td>\n",
       "      <td>1</td>\n",
       "      <td>3.097</td>\n",
       "      <td>0.080</td>\n",
       "      <td>0.016</td>\n",
       "      <td>1.097</td>\n",
       "      <td>0.175</td>\n",
       "      <td>False</td>\n",
       "    </tr>\n",
       "    <tr>\n",
       "      <th>Magdeburg</th>\n",
       "      <td>5.536</td>\n",
       "      <td>1</td>\n",
       "      <td>8.430</td>\n",
       "      <td>0.004</td>\n",
       "      <td>0.042</td>\n",
       "      <td>2.385</td>\n",
       "      <td>0.016</td>\n",
       "      <td>True</td>\n",
       "    </tr>\n",
       "    <tr>\n",
       "      <th>Sweden</th>\n",
       "      <td>8.788</td>\n",
       "      <td>1</td>\n",
       "      <td>13.383</td>\n",
       "      <td>0.000</td>\n",
       "      <td>0.065</td>\n",
       "      <td>3.484</td>\n",
       "      <td>0.002</td>\n",
       "      <td>True</td>\n",
       "    </tr>\n",
       "    <tr>\n",
       "      <th>...</th>\n",
       "      <th>...</th>\n",
       "      <td>...</td>\n",
       "      <td>...</td>\n",
       "      <td>...</td>\n",
       "      <td>...</td>\n",
       "      <td>...</td>\n",
       "      <td>...</td>\n",
       "      <td>...</td>\n",
       "      <td>...</td>\n",
       "    </tr>\n",
       "    <tr>\n",
       "      <th rowspan=\"5\" valign=\"top\">S4R3U6</th>\n",
       "      <th>AD</th>\n",
       "      <td>0.012</td>\n",
       "      <td>1</td>\n",
       "      <td>0.013</td>\n",
       "      <td>0.910</td>\n",
       "      <td>0.000</td>\n",
       "      <td>0.041</td>\n",
       "      <td>0.950</td>\n",
       "      <td>False</td>\n",
       "    </tr>\n",
       "    <tr>\n",
       "      <th>age</th>\n",
       "      <td>0.055</td>\n",
       "      <td>1</td>\n",
       "      <td>0.059</td>\n",
       "      <td>0.808</td>\n",
       "      <td>0.000</td>\n",
       "      <td>0.093</td>\n",
       "      <td>0.884</td>\n",
       "      <td>False</td>\n",
       "    </tr>\n",
       "    <tr>\n",
       "      <th>Kiel</th>\n",
       "      <td>0.211</td>\n",
       "      <td>1</td>\n",
       "      <td>0.227</td>\n",
       "      <td>0.634</td>\n",
       "      <td>0.001</td>\n",
       "      <td>0.198</td>\n",
       "      <td>0.759</td>\n",
       "      <td>False</td>\n",
       "    </tr>\n",
       "    <tr>\n",
       "      <th>Magdeburg</th>\n",
       "      <td>1.607</td>\n",
       "      <td>1</td>\n",
       "      <td>1.725</td>\n",
       "      <td>0.191</td>\n",
       "      <td>0.009</td>\n",
       "      <td>0.720</td>\n",
       "      <td>0.335</td>\n",
       "      <td>False</td>\n",
       "    </tr>\n",
       "    <tr>\n",
       "      <th>Sweden</th>\n",
       "      <td>15.437</td>\n",
       "      <td>1</td>\n",
       "      <td>16.569</td>\n",
       "      <td>0.000</td>\n",
       "      <td>0.080</td>\n",
       "      <td>4.163</td>\n",
       "      <td>0.000</td>\n",
       "      <td>True</td>\n",
       "    </tr>\n",
       "  </tbody>\n",
       "</table>\n",
       "<p>7105 rows × 8 columns</p>\n",
       "</div>"
      ],
      "text/plain": [
       "model                                      PI                        \\\n",
       "var                                        SS DF      F p-unc   np2   \n",
       "protein groups               Source                                   \n",
       "A0A024QZX5;A0A087X1N8;P35237 AD         0.496  1  0.756 0.386 0.004   \n",
       "                             age        0.030  1  0.046 0.830 0.000   \n",
       "                             Kiel       2.034  1  3.097 0.080 0.016   \n",
       "                             Magdeburg  5.536  1  8.430 0.004 0.042   \n",
       "                             Sweden     8.788  1 13.383 0.000 0.065   \n",
       "...                                       ... ..    ...   ...   ...   \n",
       "S4R3U6                       AD         0.012  1  0.013 0.910 0.000   \n",
       "                             age        0.055  1  0.059 0.808 0.000   \n",
       "                             Kiel       0.211  1  0.227 0.634 0.001   \n",
       "                             Magdeburg  1.607  1  1.725 0.191 0.009   \n",
       "                             Sweden    15.437  1 16.569 0.000 0.080   \n",
       "\n",
       "model                                                                 \n",
       "var                                    -Log10 pvalue qvalue rejected  \n",
       "protein groups               Source                                   \n",
       "A0A024QZX5;A0A087X1N8;P35237 AD                0.414  0.549    False  \n",
       "                             age               0.081  0.899    False  \n",
       "                             Kiel              1.097  0.175    False  \n",
       "                             Magdeburg         2.385  0.016     True  \n",
       "                             Sweden            3.484  0.002     True  \n",
       "...                                              ...    ...      ...  \n",
       "S4R3U6                       AD                0.041  0.950    False  \n",
       "                             age               0.093  0.884    False  \n",
       "                             Kiel              0.198  0.759    False  \n",
       "                             Magdeburg         0.720  0.335    False  \n",
       "                             Sweden            4.163  0.000     True  \n",
       "\n",
       "[7105 rows x 8 columns]"
      ]
     },
     "execution_count": 6,
     "metadata": {},
     "output_type": "execute_result"
    }
   ],
   "source": [
    "fname = args.scores_folder / f'diff_analysis_scores_{args.baseline}.pkl'\n",
    "scores_baseline = pd.read_pickle(fname)\n",
    "scores_baseline"
   ]
  },
  {
   "cell_type": "markdown",
   "id": "e49a8da2",
   "metadata": {
    "papermill": {
     "duration": 0.012043,
     "end_time": "2025-01-18T04:30:03.925624",
     "exception": false,
     "start_time": "2025-01-18T04:30:03.913581",
     "status": "completed"
    },
    "tags": []
   },
   "source": [
    "### Load selected comparison model scores"
   ]
  },
  {
   "cell_type": "code",
   "execution_count": 7,
   "id": "f0635e4d",
   "metadata": {
    "execution": {
     "iopub.execute_input": "2025-01-18T04:30:03.983079Z",
     "iopub.status.busy": "2025-01-18T04:30:03.982823Z",
     "iopub.status.idle": "2025-01-18T04:30:04.006474Z",
     "shell.execute_reply": "2025-01-18T04:30:04.005937Z"
    },
    "papermill": {
     "duration": 0.063939,
     "end_time": "2025-01-18T04:30:04.014058",
     "exception": false,
     "start_time": "2025-01-18T04:30:03.950119",
     "status": "completed"
    },
    "tags": [
     "hide-input"
    ]
   },
   "outputs": [
    {
     "data": {
      "text/html": [
       "<div>\n",
       "<style scoped>\n",
       "    .dataframe tbody tr th:only-of-type {\n",
       "        vertical-align: middle;\n",
       "    }\n",
       "\n",
       "    .dataframe tbody tr th {\n",
       "        vertical-align: top;\n",
       "    }\n",
       "\n",
       "    .dataframe thead tr th {\n",
       "        text-align: left;\n",
       "    }\n",
       "\n",
       "    .dataframe thead tr:last-of-type th {\n",
       "        text-align: right;\n",
       "    }\n",
       "</style>\n",
       "<table border=\"1\" class=\"dataframe\">\n",
       "  <thead>\n",
       "    <tr>\n",
       "      <th></th>\n",
       "      <th>model</th>\n",
       "      <th colspan=\"8\" halign=\"left\">RF</th>\n",
       "    </tr>\n",
       "    <tr>\n",
       "      <th></th>\n",
       "      <th>var</th>\n",
       "      <th>SS</th>\n",
       "      <th>DF</th>\n",
       "      <th>F</th>\n",
       "      <th>p-unc</th>\n",
       "      <th>np2</th>\n",
       "      <th>-Log10 pvalue</th>\n",
       "      <th>qvalue</th>\n",
       "      <th>rejected</th>\n",
       "    </tr>\n",
       "    <tr>\n",
       "      <th>protein groups</th>\n",
       "      <th>Source</th>\n",
       "      <th></th>\n",
       "      <th></th>\n",
       "      <th></th>\n",
       "      <th></th>\n",
       "      <th></th>\n",
       "      <th></th>\n",
       "      <th></th>\n",
       "      <th></th>\n",
       "    </tr>\n",
       "  </thead>\n",
       "  <tbody>\n",
       "    <tr>\n",
       "      <th rowspan=\"5\" valign=\"top\">A0A024QZX5;A0A087X1N8;P35237</th>\n",
       "      <th>AD</th>\n",
       "      <td>0.867</td>\n",
       "      <td>1</td>\n",
       "      <td>6.484</td>\n",
       "      <td>0.012</td>\n",
       "      <td>0.033</td>\n",
       "      <td>1.933</td>\n",
       "      <td>0.032</td>\n",
       "      <td>True</td>\n",
       "    </tr>\n",
       "    <tr>\n",
       "      <th>age</th>\n",
       "      <td>0.004</td>\n",
       "      <td>1</td>\n",
       "      <td>0.027</td>\n",
       "      <td>0.869</td>\n",
       "      <td>0.000</td>\n",
       "      <td>0.061</td>\n",
       "      <td>0.917</td>\n",
       "      <td>False</td>\n",
       "    </tr>\n",
       "    <tr>\n",
       "      <th>Kiel</th>\n",
       "      <td>0.222</td>\n",
       "      <td>1</td>\n",
       "      <td>1.660</td>\n",
       "      <td>0.199</td>\n",
       "      <td>0.009</td>\n",
       "      <td>0.701</td>\n",
       "      <td>0.322</td>\n",
       "      <td>False</td>\n",
       "    </tr>\n",
       "    <tr>\n",
       "      <th>Magdeburg</th>\n",
       "      <td>0.452</td>\n",
       "      <td>1</td>\n",
       "      <td>3.383</td>\n",
       "      <td>0.067</td>\n",
       "      <td>0.017</td>\n",
       "      <td>1.171</td>\n",
       "      <td>0.137</td>\n",
       "      <td>False</td>\n",
       "    </tr>\n",
       "    <tr>\n",
       "      <th>Sweden</th>\n",
       "      <td>1.622</td>\n",
       "      <td>1</td>\n",
       "      <td>12.134</td>\n",
       "      <td>0.001</td>\n",
       "      <td>0.060</td>\n",
       "      <td>3.212</td>\n",
       "      <td>0.003</td>\n",
       "      <td>True</td>\n",
       "    </tr>\n",
       "    <tr>\n",
       "      <th>...</th>\n",
       "      <th>...</th>\n",
       "      <td>...</td>\n",
       "      <td>...</td>\n",
       "      <td>...</td>\n",
       "      <td>...</td>\n",
       "      <td>...</td>\n",
       "      <td>...</td>\n",
       "      <td>...</td>\n",
       "      <td>...</td>\n",
       "    </tr>\n",
       "    <tr>\n",
       "      <th rowspan=\"5\" valign=\"top\">S4R3U6</th>\n",
       "      <th>AD</th>\n",
       "      <td>1.240</td>\n",
       "      <td>1</td>\n",
       "      <td>2.709</td>\n",
       "      <td>0.101</td>\n",
       "      <td>0.014</td>\n",
       "      <td>0.994</td>\n",
       "      <td>0.190</td>\n",
       "      <td>False</td>\n",
       "    </tr>\n",
       "    <tr>\n",
       "      <th>age</th>\n",
       "      <td>0.525</td>\n",
       "      <td>1</td>\n",
       "      <td>1.146</td>\n",
       "      <td>0.286</td>\n",
       "      <td>0.006</td>\n",
       "      <td>0.544</td>\n",
       "      <td>0.423</td>\n",
       "      <td>False</td>\n",
       "    </tr>\n",
       "    <tr>\n",
       "      <th>Kiel</th>\n",
       "      <td>1.664</td>\n",
       "      <td>1</td>\n",
       "      <td>3.634</td>\n",
       "      <td>0.058</td>\n",
       "      <td>0.019</td>\n",
       "      <td>1.236</td>\n",
       "      <td>0.121</td>\n",
       "      <td>False</td>\n",
       "    </tr>\n",
       "    <tr>\n",
       "      <th>Magdeburg</th>\n",
       "      <td>1.450</td>\n",
       "      <td>1</td>\n",
       "      <td>3.166</td>\n",
       "      <td>0.077</td>\n",
       "      <td>0.016</td>\n",
       "      <td>1.115</td>\n",
       "      <td>0.151</td>\n",
       "      <td>False</td>\n",
       "    </tr>\n",
       "    <tr>\n",
       "      <th>Sweden</th>\n",
       "      <td>13.958</td>\n",
       "      <td>1</td>\n",
       "      <td>30.483</td>\n",
       "      <td>0.000</td>\n",
       "      <td>0.138</td>\n",
       "      <td>6.963</td>\n",
       "      <td>0.000</td>\n",
       "      <td>True</td>\n",
       "    </tr>\n",
       "  </tbody>\n",
       "</table>\n",
       "<p>7105 rows × 8 columns</p>\n",
       "</div>"
      ],
      "text/plain": [
       "model                                      RF                        \\\n",
       "var                                        SS DF      F p-unc   np2   \n",
       "protein groups               Source                                   \n",
       "A0A024QZX5;A0A087X1N8;P35237 AD         0.867  1  6.484 0.012 0.033   \n",
       "                             age        0.004  1  0.027 0.869 0.000   \n",
       "                             Kiel       0.222  1  1.660 0.199 0.009   \n",
       "                             Magdeburg  0.452  1  3.383 0.067 0.017   \n",
       "                             Sweden     1.622  1 12.134 0.001 0.060   \n",
       "...                                       ... ..    ...   ...   ...   \n",
       "S4R3U6                       AD         1.240  1  2.709 0.101 0.014   \n",
       "                             age        0.525  1  1.146 0.286 0.006   \n",
       "                             Kiel       1.664  1  3.634 0.058 0.019   \n",
       "                             Magdeburg  1.450  1  3.166 0.077 0.016   \n",
       "                             Sweden    13.958  1 30.483 0.000 0.138   \n",
       "\n",
       "model                                                                 \n",
       "var                                    -Log10 pvalue qvalue rejected  \n",
       "protein groups               Source                                   \n",
       "A0A024QZX5;A0A087X1N8;P35237 AD                1.933  0.032     True  \n",
       "                             age               0.061  0.917    False  \n",
       "                             Kiel              0.701  0.322    False  \n",
       "                             Magdeburg         1.171  0.137    False  \n",
       "                             Sweden            3.212  0.003     True  \n",
       "...                                              ...    ...      ...  \n",
       "S4R3U6                       AD                0.994  0.190    False  \n",
       "                             age               0.544  0.423    False  \n",
       "                             Kiel              1.236  0.121    False  \n",
       "                             Magdeburg         1.115  0.151    False  \n",
       "                             Sweden            6.963  0.000     True  \n",
       "\n",
       "[7105 rows x 8 columns]"
      ]
     },
     "execution_count": 7,
     "metadata": {},
     "output_type": "execute_result"
    }
   ],
   "source": [
    "fname = args.scores_folder / f'diff_analysis_scores_{args.model_key}.pkl'\n",
    "scores_model = pd.read_pickle(fname)\n",
    "scores_model"
   ]
  },
  {
   "cell_type": "markdown",
   "id": "06b7e883",
   "metadata": {
    "papermill": {
     "duration": 0.026107,
     "end_time": "2025-01-18T04:30:04.080883",
     "exception": false,
     "start_time": "2025-01-18T04:30:04.054776",
     "status": "completed"
    },
    "tags": []
   },
   "source": [
    "### Combined scores\n",
    "show only selected statistics for comparsion"
   ]
  },
  {
   "cell_type": "code",
   "execution_count": 8,
   "id": "373fdf65",
   "metadata": {
    "execution": {
     "iopub.execute_input": "2025-01-18T04:30:04.135984Z",
     "iopub.status.busy": "2025-01-18T04:30:04.135118Z",
     "iopub.status.idle": "2025-01-18T04:30:04.160981Z",
     "shell.execute_reply": "2025-01-18T04:30:04.160397Z"
    },
    "papermill": {
     "duration": 0.051873,
     "end_time": "2025-01-18T04:30:04.162115",
     "exception": false,
     "start_time": "2025-01-18T04:30:04.110242",
     "status": "completed"
    },
    "tags": [
     "hide-input"
    ]
   },
   "outputs": [
    {
     "data": {
      "text/html": [
       "<div>\n",
       "<style scoped>\n",
       "    .dataframe tbody tr th:only-of-type {\n",
       "        vertical-align: middle;\n",
       "    }\n",
       "\n",
       "    .dataframe tbody tr th {\n",
       "        vertical-align: top;\n",
       "    }\n",
       "\n",
       "    .dataframe thead tr th {\n",
       "        text-align: left;\n",
       "    }\n",
       "\n",
       "    .dataframe thead tr:last-of-type th {\n",
       "        text-align: right;\n",
       "    }\n",
       "</style>\n",
       "<table border=\"1\" class=\"dataframe\">\n",
       "  <thead>\n",
       "    <tr>\n",
       "      <th></th>\n",
       "      <th>model</th>\n",
       "      <th colspan=\"4\" halign=\"left\">PI</th>\n",
       "      <th colspan=\"4\" halign=\"left\">RF</th>\n",
       "    </tr>\n",
       "    <tr>\n",
       "      <th></th>\n",
       "      <th>var</th>\n",
       "      <th>p-unc</th>\n",
       "      <th>-Log10 pvalue</th>\n",
       "      <th>qvalue</th>\n",
       "      <th>rejected</th>\n",
       "      <th>p-unc</th>\n",
       "      <th>-Log10 pvalue</th>\n",
       "      <th>qvalue</th>\n",
       "      <th>rejected</th>\n",
       "    </tr>\n",
       "    <tr>\n",
       "      <th>protein groups</th>\n",
       "      <th>Source</th>\n",
       "      <th></th>\n",
       "      <th></th>\n",
       "      <th></th>\n",
       "      <th></th>\n",
       "      <th></th>\n",
       "      <th></th>\n",
       "      <th></th>\n",
       "      <th></th>\n",
       "    </tr>\n",
       "  </thead>\n",
       "  <tbody>\n",
       "    <tr>\n",
       "      <th rowspan=\"5\" valign=\"top\">A0A024QZX5;A0A087X1N8;P35237</th>\n",
       "      <th>AD</th>\n",
       "      <td>0.386</td>\n",
       "      <td>0.414</td>\n",
       "      <td>0.549</td>\n",
       "      <td>False</td>\n",
       "      <td>0.012</td>\n",
       "      <td>1.933</td>\n",
       "      <td>0.032</td>\n",
       "      <td>True</td>\n",
       "    </tr>\n",
       "    <tr>\n",
       "      <th>Kiel</th>\n",
       "      <td>0.080</td>\n",
       "      <td>1.097</td>\n",
       "      <td>0.175</td>\n",
       "      <td>False</td>\n",
       "      <td>0.199</td>\n",
       "      <td>0.701</td>\n",
       "      <td>0.322</td>\n",
       "      <td>False</td>\n",
       "    </tr>\n",
       "    <tr>\n",
       "      <th>Magdeburg</th>\n",
       "      <td>0.004</td>\n",
       "      <td>2.385</td>\n",
       "      <td>0.016</td>\n",
       "      <td>True</td>\n",
       "      <td>0.067</td>\n",
       "      <td>1.171</td>\n",
       "      <td>0.137</td>\n",
       "      <td>False</td>\n",
       "    </tr>\n",
       "    <tr>\n",
       "      <th>Sweden</th>\n",
       "      <td>0.000</td>\n",
       "      <td>3.484</td>\n",
       "      <td>0.002</td>\n",
       "      <td>True</td>\n",
       "      <td>0.001</td>\n",
       "      <td>3.212</td>\n",
       "      <td>0.003</td>\n",
       "      <td>True</td>\n",
       "    </tr>\n",
       "    <tr>\n",
       "      <th>age</th>\n",
       "      <td>0.830</td>\n",
       "      <td>0.081</td>\n",
       "      <td>0.899</td>\n",
       "      <td>False</td>\n",
       "      <td>0.869</td>\n",
       "      <td>0.061</td>\n",
       "      <td>0.917</td>\n",
       "      <td>False</td>\n",
       "    </tr>\n",
       "    <tr>\n",
       "      <th>...</th>\n",
       "      <th>...</th>\n",
       "      <td>...</td>\n",
       "      <td>...</td>\n",
       "      <td>...</td>\n",
       "      <td>...</td>\n",
       "      <td>...</td>\n",
       "      <td>...</td>\n",
       "      <td>...</td>\n",
       "      <td>...</td>\n",
       "    </tr>\n",
       "    <tr>\n",
       "      <th rowspan=\"5\" valign=\"top\">S4R3U6</th>\n",
       "      <th>AD</th>\n",
       "      <td>0.910</td>\n",
       "      <td>0.041</td>\n",
       "      <td>0.950</td>\n",
       "      <td>False</td>\n",
       "      <td>0.101</td>\n",
       "      <td>0.994</td>\n",
       "      <td>0.190</td>\n",
       "      <td>False</td>\n",
       "    </tr>\n",
       "    <tr>\n",
       "      <th>Kiel</th>\n",
       "      <td>0.634</td>\n",
       "      <td>0.198</td>\n",
       "      <td>0.759</td>\n",
       "      <td>False</td>\n",
       "      <td>0.058</td>\n",
       "      <td>1.236</td>\n",
       "      <td>0.121</td>\n",
       "      <td>False</td>\n",
       "    </tr>\n",
       "    <tr>\n",
       "      <th>Magdeburg</th>\n",
       "      <td>0.191</td>\n",
       "      <td>0.720</td>\n",
       "      <td>0.335</td>\n",
       "      <td>False</td>\n",
       "      <td>0.077</td>\n",
       "      <td>1.115</td>\n",
       "      <td>0.151</td>\n",
       "      <td>False</td>\n",
       "    </tr>\n",
       "    <tr>\n",
       "      <th>Sweden</th>\n",
       "      <td>0.000</td>\n",
       "      <td>4.163</td>\n",
       "      <td>0.000</td>\n",
       "      <td>True</td>\n",
       "      <td>0.000</td>\n",
       "      <td>6.963</td>\n",
       "      <td>0.000</td>\n",
       "      <td>True</td>\n",
       "    </tr>\n",
       "    <tr>\n",
       "      <th>age</th>\n",
       "      <td>0.808</td>\n",
       "      <td>0.093</td>\n",
       "      <td>0.884</td>\n",
       "      <td>False</td>\n",
       "      <td>0.286</td>\n",
       "      <td>0.544</td>\n",
       "      <td>0.423</td>\n",
       "      <td>False</td>\n",
       "    </tr>\n",
       "  </tbody>\n",
       "</table>\n",
       "<p>7105 rows × 8 columns</p>\n",
       "</div>"
      ],
      "text/plain": [
       "model                                     PI                                \\\n",
       "var                                    p-unc -Log10 pvalue qvalue rejected   \n",
       "protein groups               Source                                          \n",
       "A0A024QZX5;A0A087X1N8;P35237 AD        0.386         0.414  0.549    False   \n",
       "                             Kiel      0.080         1.097  0.175    False   \n",
       "                             Magdeburg 0.004         2.385  0.016     True   \n",
       "                             Sweden    0.000         3.484  0.002     True   \n",
       "                             age       0.830         0.081  0.899    False   \n",
       "...                                      ...           ...    ...      ...   \n",
       "S4R3U6                       AD        0.910         0.041  0.950    False   \n",
       "                             Kiel      0.634         0.198  0.759    False   \n",
       "                             Magdeburg 0.191         0.720  0.335    False   \n",
       "                             Sweden    0.000         4.163  0.000     True   \n",
       "                             age       0.808         0.093  0.884    False   \n",
       "\n",
       "model                                     RF                                \n",
       "var                                    p-unc -Log10 pvalue qvalue rejected  \n",
       "protein groups               Source                                         \n",
       "A0A024QZX5;A0A087X1N8;P35237 AD        0.012         1.933  0.032     True  \n",
       "                             Kiel      0.199         0.701  0.322    False  \n",
       "                             Magdeburg 0.067         1.171  0.137    False  \n",
       "                             Sweden    0.001         3.212  0.003     True  \n",
       "                             age       0.869         0.061  0.917    False  \n",
       "...                                      ...           ...    ...      ...  \n",
       "S4R3U6                       AD        0.101         0.994  0.190    False  \n",
       "                             Kiel      0.058         1.236  0.121    False  \n",
       "                             Magdeburg 0.077         1.115  0.151    False  \n",
       "                             Sweden    0.000         6.963  0.000     True  \n",
       "                             age       0.286         0.544  0.423    False  \n",
       "\n",
       "[7105 rows x 8 columns]"
      ]
     },
     "execution_count": 8,
     "metadata": {},
     "output_type": "execute_result"
    }
   ],
   "source": [
    "scores = scores_model.join(scores_baseline, how='outer')[[args.baseline, args.model_key]]\n",
    "scores = scores.loc[:, pd.IndexSlice[scores.columns.levels[0].to_list(),\n",
    "                                     args.selected_statistics]]\n",
    "scores"
   ]
  },
  {
   "cell_type": "markdown",
   "id": "b84a6e5a",
   "metadata": {
    "papermill": {
     "duration": 0.010831,
     "end_time": "2025-01-18T04:30:04.184818",
     "exception": false,
     "start_time": "2025-01-18T04:30:04.173987",
     "status": "completed"
    },
    "tags": []
   },
   "source": [
    "Models in comparison (name mapping)"
   ]
  },
  {
   "cell_type": "code",
   "execution_count": 9,
   "id": "34d243d1-3ab4-40e7-9eb8-f9efc828b82d",
   "metadata": {
    "execution": {
     "iopub.execute_input": "2025-01-18T04:30:04.207017Z",
     "iopub.status.busy": "2025-01-18T04:30:04.206773Z",
     "iopub.status.idle": "2025-01-18T04:30:04.212795Z",
     "shell.execute_reply": "2025-01-18T04:30:04.212272Z"
    },
    "papermill": {
     "duration": 0.018361,
     "end_time": "2025-01-18T04:30:04.214022",
     "exception": false,
     "start_time": "2025-01-18T04:30:04.195661",
     "status": "completed"
    },
    "tags": [
     "hide-input"
    ]
   },
   "outputs": [
    {
     "data": {
      "text/plain": [
       "{'PI': 'PI', 'RF': 'RF'}"
      ]
     },
     "execution_count": 9,
     "metadata": {},
     "output_type": "execute_result"
    }
   ],
   "source": [
    "models = pimmslearn.nb.Config.from_dict(\n",
    "    pimmslearn.pandas.index_to_dict(scores.columns.get_level_values(0)))\n",
    "vars(models)"
   ]
  },
  {
   "cell_type": "markdown",
   "id": "dd7a560d",
   "metadata": {
    "papermill": {
     "duration": 0.010902,
     "end_time": "2025-01-18T04:30:04.236667",
     "exception": false,
     "start_time": "2025-01-18T04:30:04.225765",
     "status": "completed"
    },
    "tags": []
   },
   "source": [
    "## Describe scores"
   ]
  },
  {
   "cell_type": "code",
   "execution_count": 10,
   "id": "0fee8f5d-fa52-4369-a1f9-fcfd518ab6bd",
   "metadata": {
    "execution": {
     "iopub.execute_input": "2025-01-18T04:30:04.258524Z",
     "iopub.status.busy": "2025-01-18T04:30:04.258267Z",
     "iopub.status.idle": "2025-01-18T04:30:04.296662Z",
     "shell.execute_reply": "2025-01-18T04:30:04.296125Z"
    },
    "papermill": {
     "duration": 0.05079,
     "end_time": "2025-01-18T04:30:04.297904",
     "exception": false,
     "start_time": "2025-01-18T04:30:04.247114",
     "status": "completed"
    },
    "tags": [
     "hide-input"
    ]
   },
   "outputs": [
    {
     "data": {
      "text/html": [
       "<div>\n",
       "<style scoped>\n",
       "    .dataframe tbody tr th:only-of-type {\n",
       "        vertical-align: middle;\n",
       "    }\n",
       "\n",
       "    .dataframe tbody tr th {\n",
       "        vertical-align: top;\n",
       "    }\n",
       "\n",
       "    .dataframe thead tr th {\n",
       "        text-align: left;\n",
       "    }\n",
       "</style>\n",
       "<table border=\"1\" class=\"dataframe\">\n",
       "  <thead>\n",
       "    <tr>\n",
       "      <th>model</th>\n",
       "      <th colspan=\"3\" halign=\"left\">PI</th>\n",
       "      <th colspan=\"3\" halign=\"left\">RF</th>\n",
       "    </tr>\n",
       "    <tr>\n",
       "      <th>var</th>\n",
       "      <th>p-unc</th>\n",
       "      <th>-Log10 pvalue</th>\n",
       "      <th>qvalue</th>\n",
       "      <th>p-unc</th>\n",
       "      <th>-Log10 pvalue</th>\n",
       "      <th>qvalue</th>\n",
       "    </tr>\n",
       "  </thead>\n",
       "  <tbody>\n",
       "    <tr>\n",
       "      <th>count</th>\n",
       "      <td>7,105.000</td>\n",
       "      <td>7,105.000</td>\n",
       "      <td>7,105.000</td>\n",
       "      <td>7,105.000</td>\n",
       "      <td>7,105.000</td>\n",
       "      <td>7,105.000</td>\n",
       "    </tr>\n",
       "    <tr>\n",
       "      <th>mean</th>\n",
       "      <td>0.260</td>\n",
       "      <td>2.489</td>\n",
       "      <td>0.336</td>\n",
       "      <td>0.233</td>\n",
       "      <td>3.108</td>\n",
       "      <td>0.291</td>\n",
       "    </tr>\n",
       "    <tr>\n",
       "      <th>std</th>\n",
       "      <td>0.303</td>\n",
       "      <td>5.324</td>\n",
       "      <td>0.331</td>\n",
       "      <td>0.296</td>\n",
       "      <td>5.865</td>\n",
       "      <td>0.323</td>\n",
       "    </tr>\n",
       "    <tr>\n",
       "      <th>min</th>\n",
       "      <td>0.000</td>\n",
       "      <td>0.000</td>\n",
       "      <td>0.000</td>\n",
       "      <td>0.000</td>\n",
       "      <td>0.000</td>\n",
       "      <td>0.000</td>\n",
       "    </tr>\n",
       "    <tr>\n",
       "      <th>25%</th>\n",
       "      <td>0.004</td>\n",
       "      <td>0.331</td>\n",
       "      <td>0.015</td>\n",
       "      <td>0.001</td>\n",
       "      <td>0.387</td>\n",
       "      <td>0.003</td>\n",
       "    </tr>\n",
       "    <tr>\n",
       "      <th>50%</th>\n",
       "      <td>0.120</td>\n",
       "      <td>0.922</td>\n",
       "      <td>0.239</td>\n",
       "      <td>0.071</td>\n",
       "      <td>1.147</td>\n",
       "      <td>0.143</td>\n",
       "    </tr>\n",
       "    <tr>\n",
       "      <th>75%</th>\n",
       "      <td>0.467</td>\n",
       "      <td>2.422</td>\n",
       "      <td>0.622</td>\n",
       "      <td>0.410</td>\n",
       "      <td>3.144</td>\n",
       "      <td>0.547</td>\n",
       "    </tr>\n",
       "    <tr>\n",
       "      <th>max</th>\n",
       "      <td>1.000</td>\n",
       "      <td>146.064</td>\n",
       "      <td>1.000</td>\n",
       "      <td>1.000</td>\n",
       "      <td>84.192</td>\n",
       "      <td>1.000</td>\n",
       "    </tr>\n",
       "  </tbody>\n",
       "</table>\n",
       "</div>"
      ],
      "text/plain": [
       "model        PI                                RF                        \n",
       "var       p-unc -Log10 pvalue    qvalue     p-unc -Log10 pvalue    qvalue\n",
       "count 7,105.000     7,105.000 7,105.000 7,105.000     7,105.000 7,105.000\n",
       "mean      0.260         2.489     0.336     0.233         3.108     0.291\n",
       "std       0.303         5.324     0.331     0.296         5.865     0.323\n",
       "min       0.000         0.000     0.000     0.000         0.000     0.000\n",
       "25%       0.004         0.331     0.015     0.001         0.387     0.003\n",
       "50%       0.120         0.922     0.239     0.071         1.147     0.143\n",
       "75%       0.467         2.422     0.622     0.410         3.144     0.547\n",
       "max       1.000       146.064     1.000     1.000        84.192     1.000"
      ]
     },
     "execution_count": 10,
     "metadata": {},
     "output_type": "execute_result"
    }
   ],
   "source": [
    "scores.describe()"
   ]
  },
  {
   "cell_type": "markdown",
   "id": "52ecc596",
   "metadata": {
    "papermill": {
     "duration": 0.023785,
     "end_time": "2025-01-18T04:30:04.344311",
     "exception": false,
     "start_time": "2025-01-18T04:30:04.320526",
     "status": "completed"
    },
    "tags": []
   },
   "source": [
    "### One to one comparison of by feature:"
   ]
  },
  {
   "cell_type": "code",
   "execution_count": 11,
   "id": "c6e5a0a6-343b-4f07-8d9d-2cd5cf95ae1f",
   "metadata": {
    "execution": {
     "iopub.execute_input": "2025-01-18T04:30:04.382445Z",
     "iopub.status.busy": "2025-01-18T04:30:04.382113Z",
     "iopub.status.idle": "2025-01-18T04:30:04.585898Z",
     "shell.execute_reply": "2025-01-18T04:30:04.585188Z"
    },
    "papermill": {
     "duration": 0.222049,
     "end_time": "2025-01-18T04:30:04.587141",
     "exception": false,
     "start_time": "2025-01-18T04:30:04.365092",
     "status": "completed"
    },
    "tags": [
     "hide-input"
    ]
   },
   "outputs": [
    {
     "name": "stderr",
     "output_type": "stream",
     "text": [
      "/tmp/ipykernel_34511/3761369923.py:2: FutureWarning: Starting with pandas version 3.0 all arguments of to_excel except for the argument 'excel_writer' will be keyword-only.\n",
      "  scores.to_excel(writer, 'scores', **writer_args)\n"
     ]
    },
    {
     "data": {
      "text/html": [
       "<div>\n",
       "<style scoped>\n",
       "    .dataframe tbody tr th:only-of-type {\n",
       "        vertical-align: middle;\n",
       "    }\n",
       "\n",
       "    .dataframe tbody tr th {\n",
       "        vertical-align: top;\n",
       "    }\n",
       "\n",
       "    .dataframe thead tr th {\n",
       "        text-align: left;\n",
       "    }\n",
       "\n",
       "    .dataframe thead tr:last-of-type th {\n",
       "        text-align: right;\n",
       "    }\n",
       "</style>\n",
       "<table border=\"1\" class=\"dataframe\">\n",
       "  <thead>\n",
       "    <tr>\n",
       "      <th></th>\n",
       "      <th>model</th>\n",
       "      <th colspan=\"4\" halign=\"left\">PI</th>\n",
       "      <th colspan=\"4\" halign=\"left\">RF</th>\n",
       "    </tr>\n",
       "    <tr>\n",
       "      <th></th>\n",
       "      <th>var</th>\n",
       "      <th>p-unc</th>\n",
       "      <th>-Log10 pvalue</th>\n",
       "      <th>qvalue</th>\n",
       "      <th>rejected</th>\n",
       "      <th>p-unc</th>\n",
       "      <th>-Log10 pvalue</th>\n",
       "      <th>qvalue</th>\n",
       "      <th>rejected</th>\n",
       "    </tr>\n",
       "    <tr>\n",
       "      <th>protein groups</th>\n",
       "      <th>Source</th>\n",
       "      <th></th>\n",
       "      <th></th>\n",
       "      <th></th>\n",
       "      <th></th>\n",
       "      <th></th>\n",
       "      <th></th>\n",
       "      <th></th>\n",
       "      <th></th>\n",
       "    </tr>\n",
       "  </thead>\n",
       "  <tbody>\n",
       "    <tr>\n",
       "      <th>A0A024QZX5;A0A087X1N8;P35237</th>\n",
       "      <th>AD</th>\n",
       "      <td>0.386</td>\n",
       "      <td>0.414</td>\n",
       "      <td>0.549</td>\n",
       "      <td>False</td>\n",
       "      <td>0.012</td>\n",
       "      <td>1.933</td>\n",
       "      <td>0.032</td>\n",
       "      <td>True</td>\n",
       "    </tr>\n",
       "    <tr>\n",
       "      <th>A0A024R0T9;K7ER74;P02655</th>\n",
       "      <th>AD</th>\n",
       "      <td>0.042</td>\n",
       "      <td>1.374</td>\n",
       "      <td>0.106</td>\n",
       "      <td>False</td>\n",
       "      <td>0.035</td>\n",
       "      <td>1.456</td>\n",
       "      <td>0.080</td>\n",
       "      <td>False</td>\n",
       "    </tr>\n",
       "    <tr>\n",
       "      <th>A0A024R3W6;A0A024R412;O60462;O60462-2;O60462-3;O60462-4;O60462-5;Q7LBX6;X5D2Q8</th>\n",
       "      <th>AD</th>\n",
       "      <td>0.057</td>\n",
       "      <td>1.243</td>\n",
       "      <td>0.135</td>\n",
       "      <td>False</td>\n",
       "      <td>0.496</td>\n",
       "      <td>0.305</td>\n",
       "      <td>0.625</td>\n",
       "      <td>False</td>\n",
       "    </tr>\n",
       "    <tr>\n",
       "      <th>A0A024R644;A0A0A0MRU5;A0A1B0GWI2;O75503</th>\n",
       "      <th>AD</th>\n",
       "      <td>0.437</td>\n",
       "      <td>0.359</td>\n",
       "      <td>0.597</td>\n",
       "      <td>False</td>\n",
       "      <td>0.265</td>\n",
       "      <td>0.577</td>\n",
       "      <td>0.400</td>\n",
       "      <td>False</td>\n",
       "    </tr>\n",
       "    <tr>\n",
       "      <th>A0A075B6H7</th>\n",
       "      <th>AD</th>\n",
       "      <td>0.265</td>\n",
       "      <td>0.577</td>\n",
       "      <td>0.422</td>\n",
       "      <td>False</td>\n",
       "      <td>0.005</td>\n",
       "      <td>2.325</td>\n",
       "      <td>0.015</td>\n",
       "      <td>True</td>\n",
       "    </tr>\n",
       "    <tr>\n",
       "      <th>...</th>\n",
       "      <th>...</th>\n",
       "      <td>...</td>\n",
       "      <td>...</td>\n",
       "      <td>...</td>\n",
       "      <td>...</td>\n",
       "      <td>...</td>\n",
       "      <td>...</td>\n",
       "      <td>...</td>\n",
       "      <td>...</td>\n",
       "    </tr>\n",
       "    <tr>\n",
       "      <th>Q9Y6R7</th>\n",
       "      <th>AD</th>\n",
       "      <td>0.175</td>\n",
       "      <td>0.756</td>\n",
       "      <td>0.316</td>\n",
       "      <td>False</td>\n",
       "      <td>0.175</td>\n",
       "      <td>0.756</td>\n",
       "      <td>0.291</td>\n",
       "      <td>False</td>\n",
       "    </tr>\n",
       "    <tr>\n",
       "      <th>Q9Y6X5</th>\n",
       "      <th>AD</th>\n",
       "      <td>0.076</td>\n",
       "      <td>1.119</td>\n",
       "      <td>0.169</td>\n",
       "      <td>False</td>\n",
       "      <td>0.199</td>\n",
       "      <td>0.702</td>\n",
       "      <td>0.322</td>\n",
       "      <td>False</td>\n",
       "    </tr>\n",
       "    <tr>\n",
       "      <th>Q9Y6Y8;Q9Y6Y8-2</th>\n",
       "      <th>AD</th>\n",
       "      <td>0.083</td>\n",
       "      <td>1.079</td>\n",
       "      <td>0.181</td>\n",
       "      <td>False</td>\n",
       "      <td>0.083</td>\n",
       "      <td>1.079</td>\n",
       "      <td>0.162</td>\n",
       "      <td>False</td>\n",
       "    </tr>\n",
       "    <tr>\n",
       "      <th>Q9Y6Y9</th>\n",
       "      <th>AD</th>\n",
       "      <td>0.477</td>\n",
       "      <td>0.322</td>\n",
       "      <td>0.631</td>\n",
       "      <td>False</td>\n",
       "      <td>0.400</td>\n",
       "      <td>0.398</td>\n",
       "      <td>0.536</td>\n",
       "      <td>False</td>\n",
       "    </tr>\n",
       "    <tr>\n",
       "      <th>S4R3U6</th>\n",
       "      <th>AD</th>\n",
       "      <td>0.910</td>\n",
       "      <td>0.041</td>\n",
       "      <td>0.950</td>\n",
       "      <td>False</td>\n",
       "      <td>0.101</td>\n",
       "      <td>0.994</td>\n",
       "      <td>0.190</td>\n",
       "      <td>False</td>\n",
       "    </tr>\n",
       "  </tbody>\n",
       "</table>\n",
       "<p>1421 rows × 8 columns</p>\n",
       "</div>"
      ],
      "text/plain": [
       "model                                                        PI                \\\n",
       "var                                                       p-unc -Log10 pvalue   \n",
       "protein groups                                     Source                       \n",
       "A0A024QZX5;A0A087X1N8;P35237                       AD     0.386         0.414   \n",
       "A0A024R0T9;K7ER74;P02655                           AD     0.042         1.374   \n",
       "A0A024R3W6;A0A024R412;O60462;O60462-2;O60462-3;... AD     0.057         1.243   \n",
       "A0A024R644;A0A0A0MRU5;A0A1B0GWI2;O75503            AD     0.437         0.359   \n",
       "A0A075B6H7                                         AD     0.265         0.577   \n",
       "...                                                         ...           ...   \n",
       "Q9Y6R7                                             AD     0.175         0.756   \n",
       "Q9Y6X5                                             AD     0.076         1.119   \n",
       "Q9Y6Y8;Q9Y6Y8-2                                    AD     0.083         1.079   \n",
       "Q9Y6Y9                                             AD     0.477         0.322   \n",
       "S4R3U6                                             AD     0.910         0.041   \n",
       "\n",
       "model                                                                      \\\n",
       "var                                                       qvalue rejected   \n",
       "protein groups                                     Source                   \n",
       "A0A024QZX5;A0A087X1N8;P35237                       AD      0.549    False   \n",
       "A0A024R0T9;K7ER74;P02655                           AD      0.106    False   \n",
       "A0A024R3W6;A0A024R412;O60462;O60462-2;O60462-3;... AD      0.135    False   \n",
       "A0A024R644;A0A0A0MRU5;A0A1B0GWI2;O75503            AD      0.597    False   \n",
       "A0A075B6H7                                         AD      0.422    False   \n",
       "...                                                          ...      ...   \n",
       "Q9Y6R7                                             AD      0.316    False   \n",
       "Q9Y6X5                                             AD      0.169    False   \n",
       "Q9Y6Y8;Q9Y6Y8-2                                    AD      0.181    False   \n",
       "Q9Y6Y9                                             AD      0.631    False   \n",
       "S4R3U6                                             AD      0.950    False   \n",
       "\n",
       "model                                                        RF                \\\n",
       "var                                                       p-unc -Log10 pvalue   \n",
       "protein groups                                     Source                       \n",
       "A0A024QZX5;A0A087X1N8;P35237                       AD     0.012         1.933   \n",
       "A0A024R0T9;K7ER74;P02655                           AD     0.035         1.456   \n",
       "A0A024R3W6;A0A024R412;O60462;O60462-2;O60462-3;... AD     0.496         0.305   \n",
       "A0A024R644;A0A0A0MRU5;A0A1B0GWI2;O75503            AD     0.265         0.577   \n",
       "A0A075B6H7                                         AD     0.005         2.325   \n",
       "...                                                         ...           ...   \n",
       "Q9Y6R7                                             AD     0.175         0.756   \n",
       "Q9Y6X5                                             AD     0.199         0.702   \n",
       "Q9Y6Y8;Q9Y6Y8-2                                    AD     0.083         1.079   \n",
       "Q9Y6Y9                                             AD     0.400         0.398   \n",
       "S4R3U6                                             AD     0.101         0.994   \n",
       "\n",
       "model                                                                      \n",
       "var                                                       qvalue rejected  \n",
       "protein groups                                     Source                  \n",
       "A0A024QZX5;A0A087X1N8;P35237                       AD      0.032     True  \n",
       "A0A024R0T9;K7ER74;P02655                           AD      0.080    False  \n",
       "A0A024R3W6;A0A024R412;O60462;O60462-2;O60462-3;... AD      0.625    False  \n",
       "A0A024R644;A0A0A0MRU5;A0A1B0GWI2;O75503            AD      0.400    False  \n",
       "A0A075B6H7                                         AD      0.015     True  \n",
       "...                                                          ...      ...  \n",
       "Q9Y6R7                                             AD      0.291    False  \n",
       "Q9Y6X5                                             AD      0.322    False  \n",
       "Q9Y6Y8;Q9Y6Y8-2                                    AD      0.162    False  \n",
       "Q9Y6Y9                                             AD      0.536    False  \n",
       "S4R3U6                                             AD      0.190    False  \n",
       "\n",
       "[1421 rows x 8 columns]"
      ]
     },
     "execution_count": 11,
     "metadata": {},
     "output_type": "execute_result"
    }
   ],
   "source": [
    "scores = scores.loc[pd.IndexSlice[:, args.target], :]\n",
    "scores.to_excel(writer, 'scores', **writer_args)\n",
    "scores"
   ]
  },
  {
   "cell_type": "markdown",
   "id": "36e14580",
   "metadata": {
    "papermill": {
     "duration": 0.012851,
     "end_time": "2025-01-18T04:30:04.615430",
     "exception": false,
     "start_time": "2025-01-18T04:30:04.602579",
     "status": "completed"
    },
    "tags": []
   },
   "source": [
    "And the descriptive statistics\n",
    "of the numeric values:"
   ]
  },
  {
   "cell_type": "code",
   "execution_count": 12,
   "id": "0e45e80a-32d8-4c6c-b0a4-5ce8b7f9e121",
   "metadata": {
    "execution": {
     "iopub.execute_input": "2025-01-18T04:30:04.645919Z",
     "iopub.status.busy": "2025-01-18T04:30:04.645453Z",
     "iopub.status.idle": "2025-01-18T04:30:04.669381Z",
     "shell.execute_reply": "2025-01-18T04:30:04.668878Z"
    },
    "papermill": {
     "duration": 0.041019,
     "end_time": "2025-01-18T04:30:04.670429",
     "exception": false,
     "start_time": "2025-01-18T04:30:04.629410",
     "status": "completed"
    },
    "tags": [
     "hide-input"
    ]
   },
   "outputs": [
    {
     "data": {
      "text/html": [
       "<div>\n",
       "<style scoped>\n",
       "    .dataframe tbody tr th:only-of-type {\n",
       "        vertical-align: middle;\n",
       "    }\n",
       "\n",
       "    .dataframe tbody tr th {\n",
       "        vertical-align: top;\n",
       "    }\n",
       "\n",
       "    .dataframe thead tr th {\n",
       "        text-align: left;\n",
       "    }\n",
       "</style>\n",
       "<table border=\"1\" class=\"dataframe\">\n",
       "  <thead>\n",
       "    <tr>\n",
       "      <th>model</th>\n",
       "      <th colspan=\"3\" halign=\"left\">PI</th>\n",
       "      <th colspan=\"3\" halign=\"left\">RF</th>\n",
       "    </tr>\n",
       "    <tr>\n",
       "      <th>var</th>\n",
       "      <th>p-unc</th>\n",
       "      <th>-Log10 pvalue</th>\n",
       "      <th>qvalue</th>\n",
       "      <th>p-unc</th>\n",
       "      <th>-Log10 pvalue</th>\n",
       "      <th>qvalue</th>\n",
       "    </tr>\n",
       "  </thead>\n",
       "  <tbody>\n",
       "    <tr>\n",
       "      <th>count</th>\n",
       "      <td>1,421.000</td>\n",
       "      <td>1,421.000</td>\n",
       "      <td>1,421.000</td>\n",
       "      <td>1,421.000</td>\n",
       "      <td>1,421.000</td>\n",
       "      <td>1,421.000</td>\n",
       "    </tr>\n",
       "    <tr>\n",
       "      <th>mean</th>\n",
       "      <td>0.256</td>\n",
       "      <td>1.402</td>\n",
       "      <td>0.338</td>\n",
       "      <td>0.244</td>\n",
       "      <td>1.522</td>\n",
       "      <td>0.309</td>\n",
       "    </tr>\n",
       "    <tr>\n",
       "      <th>std</th>\n",
       "      <td>0.295</td>\n",
       "      <td>1.648</td>\n",
       "      <td>0.319</td>\n",
       "      <td>0.291</td>\n",
       "      <td>1.774</td>\n",
       "      <td>0.314</td>\n",
       "    </tr>\n",
       "    <tr>\n",
       "      <th>min</th>\n",
       "      <td>0.000</td>\n",
       "      <td>0.001</td>\n",
       "      <td>0.000</td>\n",
       "      <td>0.000</td>\n",
       "      <td>0.003</td>\n",
       "      <td>0.000</td>\n",
       "    </tr>\n",
       "    <tr>\n",
       "      <th>25%</th>\n",
       "      <td>0.012</td>\n",
       "      <td>0.349</td>\n",
       "      <td>0.040</td>\n",
       "      <td>0.009</td>\n",
       "      <td>0.380</td>\n",
       "      <td>0.026</td>\n",
       "    </tr>\n",
       "    <tr>\n",
       "      <th>50%</th>\n",
       "      <td>0.121</td>\n",
       "      <td>0.916</td>\n",
       "      <td>0.241</td>\n",
       "      <td>0.101</td>\n",
       "      <td>0.994</td>\n",
       "      <td>0.190</td>\n",
       "    </tr>\n",
       "    <tr>\n",
       "      <th>75%</th>\n",
       "      <td>0.448</td>\n",
       "      <td>1.907</td>\n",
       "      <td>0.607</td>\n",
       "      <td>0.417</td>\n",
       "      <td>2.043</td>\n",
       "      <td>0.554</td>\n",
       "    </tr>\n",
       "    <tr>\n",
       "      <th>max</th>\n",
       "      <td>0.997</td>\n",
       "      <td>23.610</td>\n",
       "      <td>0.998</td>\n",
       "      <td>0.994</td>\n",
       "      <td>19.929</td>\n",
       "      <td>0.997</td>\n",
       "    </tr>\n",
       "  </tbody>\n",
       "</table>\n",
       "</div>"
      ],
      "text/plain": [
       "model        PI                                RF                        \n",
       "var       p-unc -Log10 pvalue    qvalue     p-unc -Log10 pvalue    qvalue\n",
       "count 1,421.000     1,421.000 1,421.000 1,421.000     1,421.000 1,421.000\n",
       "mean      0.256         1.402     0.338     0.244         1.522     0.309\n",
       "std       0.295         1.648     0.319     0.291         1.774     0.314\n",
       "min       0.000         0.001     0.000     0.000         0.003     0.000\n",
       "25%       0.012         0.349     0.040     0.009         0.380     0.026\n",
       "50%       0.121         0.916     0.241     0.101         0.994     0.190\n",
       "75%       0.448         1.907     0.607     0.417         2.043     0.554\n",
       "max       0.997        23.610     0.998     0.994        19.929     0.997"
      ]
     },
     "execution_count": 12,
     "metadata": {},
     "output_type": "execute_result"
    }
   ],
   "source": [
    "scores.describe()"
   ]
  },
  {
   "cell_type": "markdown",
   "id": "e520d6dc",
   "metadata": {
    "papermill": {
     "duration": 0.011992,
     "end_time": "2025-01-18T04:30:04.695507",
     "exception": false,
     "start_time": "2025-01-18T04:30:04.683515",
     "status": "completed"
    },
    "tags": []
   },
   "source": [
    "and the boolean decision values"
   ]
  },
  {
   "cell_type": "code",
   "execution_count": 13,
   "id": "53bd5597-221c-4d54-abf2-82956db42594",
   "metadata": {
    "execution": {
     "iopub.execute_input": "2025-01-18T04:30:04.720981Z",
     "iopub.status.busy": "2025-01-18T04:30:04.720709Z",
     "iopub.status.idle": "2025-01-18T04:30:04.734175Z",
     "shell.execute_reply": "2025-01-18T04:30:04.733585Z"
    },
    "lines_to_next_cell": 2,
    "papermill": {
     "duration": 0.027583,
     "end_time": "2025-01-18T04:30:04.735285",
     "exception": false,
     "start_time": "2025-01-18T04:30:04.707702",
     "status": "completed"
    },
    "tags": [
     "hide-input"
    ]
   },
   "outputs": [
    {
     "data": {
      "text/html": [
       "<div>\n",
       "<style scoped>\n",
       "    .dataframe tbody tr th:only-of-type {\n",
       "        vertical-align: middle;\n",
       "    }\n",
       "\n",
       "    .dataframe tbody tr th {\n",
       "        vertical-align: top;\n",
       "    }\n",
       "\n",
       "    .dataframe thead tr th {\n",
       "        text-align: left;\n",
       "    }\n",
       "</style>\n",
       "<table border=\"1\" class=\"dataframe\">\n",
       "  <thead>\n",
       "    <tr>\n",
       "      <th>model</th>\n",
       "      <th>PI</th>\n",
       "      <th>RF</th>\n",
       "    </tr>\n",
       "    <tr>\n",
       "      <th>var</th>\n",
       "      <th>rejected</th>\n",
       "      <th>rejected</th>\n",
       "    </tr>\n",
       "  </thead>\n",
       "  <tbody>\n",
       "    <tr>\n",
       "      <th>count</th>\n",
       "      <td>1421</td>\n",
       "      <td>1421</td>\n",
       "    </tr>\n",
       "    <tr>\n",
       "      <th>unique</th>\n",
       "      <td>2</td>\n",
       "      <td>2</td>\n",
       "    </tr>\n",
       "    <tr>\n",
       "      <th>top</th>\n",
       "      <td>False</td>\n",
       "      <td>False</td>\n",
       "    </tr>\n",
       "    <tr>\n",
       "      <th>freq</th>\n",
       "      <td>1033</td>\n",
       "      <td>971</td>\n",
       "    </tr>\n",
       "  </tbody>\n",
       "</table>\n",
       "</div>"
      ],
      "text/plain": [
       "model        PI       RF\n",
       "var    rejected rejected\n",
       "count      1421     1421\n",
       "unique        2        2\n",
       "top       False    False\n",
       "freq       1033      971"
      ]
     },
     "execution_count": 13,
     "metadata": {},
     "output_type": "execute_result"
    }
   ],
   "source": [
    "scores.describe(include=['bool', 'O'])"
   ]
  },
  {
   "cell_type": "markdown",
   "id": "bef83742-05e5-473b-892e-dd286cb3a31f",
   "metadata": {
    "papermill": {
     "duration": 0.0154,
     "end_time": "2025-01-18T04:30:04.764010",
     "exception": false,
     "start_time": "2025-01-18T04:30:04.748610",
     "status": "completed"
    },
    "tags": []
   },
   "source": [
    "## Load frequencies of observed features"
   ]
  },
  {
   "cell_type": "code",
   "execution_count": 14,
   "id": "2a926ba1-0f3b-4089-a349-b6d66128cf37",
   "metadata": {
    "execution": {
     "iopub.execute_input": "2025-01-18T04:30:04.829850Z",
     "iopub.status.busy": "2025-01-18T04:30:04.829523Z",
     "iopub.status.idle": "2025-01-18T04:30:04.857710Z",
     "shell.execute_reply": "2025-01-18T04:30:04.857039Z"
    },
    "papermill": {
     "duration": 0.06796,
     "end_time": "2025-01-18T04:30:04.861103",
     "exception": false,
     "start_time": "2025-01-18T04:30:04.793143",
     "status": "completed"
    },
    "tags": [
     "hide-input"
    ]
   },
   "outputs": [
    {
     "data": {
      "text/html": [
       "<div>\n",
       "<style scoped>\n",
       "    .dataframe tbody tr th:only-of-type {\n",
       "        vertical-align: middle;\n",
       "    }\n",
       "\n",
       "    .dataframe tbody tr th {\n",
       "        vertical-align: top;\n",
       "    }\n",
       "\n",
       "    .dataframe thead tr th {\n",
       "        text-align: left;\n",
       "    }\n",
       "\n",
       "    .dataframe thead tr:last-of-type th {\n",
       "        text-align: right;\n",
       "    }\n",
       "</style>\n",
       "<table border=\"1\" class=\"dataframe\">\n",
       "  <thead>\n",
       "    <tr>\n",
       "      <th></th>\n",
       "      <th>data</th>\n",
       "    </tr>\n",
       "    <tr>\n",
       "      <th></th>\n",
       "      <th>frequency</th>\n",
       "    </tr>\n",
       "    <tr>\n",
       "      <th>protein groups</th>\n",
       "      <th></th>\n",
       "    </tr>\n",
       "  </thead>\n",
       "  <tbody>\n",
       "    <tr>\n",
       "      <th>A0A024QZX5;A0A087X1N8;P35237</th>\n",
       "      <td>186</td>\n",
       "    </tr>\n",
       "    <tr>\n",
       "      <th>A0A024R0T9;K7ER74;P02655</th>\n",
       "      <td>195</td>\n",
       "    </tr>\n",
       "    <tr>\n",
       "      <th>A0A024R3W6;A0A024R412;O60462;O60462-2;O60462-3;O60462-4;O60462-5;Q7LBX6;X5D2Q8</th>\n",
       "      <td>174</td>\n",
       "    </tr>\n",
       "    <tr>\n",
       "      <th>A0A024R644;A0A0A0MRU5;A0A1B0GWI2;O75503</th>\n",
       "      <td>196</td>\n",
       "    </tr>\n",
       "    <tr>\n",
       "      <th>A0A075B6H7</th>\n",
       "      <td>91</td>\n",
       "    </tr>\n",
       "    <tr>\n",
       "      <th>...</th>\n",
       "      <td>...</td>\n",
       "    </tr>\n",
       "    <tr>\n",
       "      <th>Q9Y6R7</th>\n",
       "      <td>197</td>\n",
       "    </tr>\n",
       "    <tr>\n",
       "      <th>Q9Y6X5</th>\n",
       "      <td>173</td>\n",
       "    </tr>\n",
       "    <tr>\n",
       "      <th>Q9Y6Y8;Q9Y6Y8-2</th>\n",
       "      <td>197</td>\n",
       "    </tr>\n",
       "    <tr>\n",
       "      <th>Q9Y6Y9</th>\n",
       "      <td>119</td>\n",
       "    </tr>\n",
       "    <tr>\n",
       "      <th>S4R3U6</th>\n",
       "      <td>126</td>\n",
       "    </tr>\n",
       "  </tbody>\n",
       "</table>\n",
       "<p>1421 rows × 1 columns</p>\n",
       "</div>"
      ],
      "text/plain": [
       "                                                        data\n",
       "                                                   frequency\n",
       "protein groups                                              \n",
       "A0A024QZX5;A0A087X1N8;P35237                             186\n",
       "A0A024R0T9;K7ER74;P02655                                 195\n",
       "A0A024R3W6;A0A024R412;O60462;O60462-2;O60462-3;...       174\n",
       "A0A024R644;A0A0A0MRU5;A0A1B0GWI2;O75503                  196\n",
       "A0A075B6H7                                                91\n",
       "...                                                      ...\n",
       "Q9Y6R7                                                   197\n",
       "Q9Y6X5                                                   173\n",
       "Q9Y6Y8;Q9Y6Y8-2                                          197\n",
       "Q9Y6Y9                                                   119\n",
       "S4R3U6                                                   126\n",
       "\n",
       "[1421 rows x 1 columns]"
      ]
     },
     "execution_count": 14,
     "metadata": {},
     "output_type": "execute_result"
    }
   ],
   "source": [
    "freq_feat = pd.read_csv(args.freq_features_observed, index_col=0)\n",
    "freq_feat.columns = pd.MultiIndex.from_tuples([('data', 'frequency'),])\n",
    "freq_feat"
   ]
  },
  {
   "cell_type": "markdown",
   "id": "408eacfe-770f-42ff-9057-2a98274e1ae3",
   "metadata": {
    "papermill": {
     "duration": 0.022488,
     "end_time": "2025-01-18T04:30:04.906610",
     "exception": false,
     "start_time": "2025-01-18T04:30:04.884122",
     "status": "completed"
    },
    "tags": []
   },
   "source": [
    "## Compare shared features"
   ]
  },
  {
   "cell_type": "code",
   "execution_count": 15,
   "id": "5b2dfb0f-195b-4044-a228-2d784ea2a458",
   "metadata": {
    "execution": {
     "iopub.execute_input": "2025-01-18T04:30:04.937104Z",
     "iopub.status.busy": "2025-01-18T04:30:04.936460Z",
     "iopub.status.idle": "2025-01-18T04:30:04.956721Z",
     "shell.execute_reply": "2025-01-18T04:30:04.956064Z"
    },
    "papermill": {
     "duration": 0.037067,
     "end_time": "2025-01-18T04:30:04.958195",
     "exception": false,
     "start_time": "2025-01-18T04:30:04.921128",
     "status": "completed"
    },
    "tags": [
     "hide-input"
    ]
   },
   "outputs": [
    {
     "data": {
      "text/html": [
       "<div>\n",
       "<style scoped>\n",
       "    .dataframe tbody tr th:only-of-type {\n",
       "        vertical-align: middle;\n",
       "    }\n",
       "\n",
       "    .dataframe tbody tr th {\n",
       "        vertical-align: top;\n",
       "    }\n",
       "\n",
       "    .dataframe thead tr th {\n",
       "        text-align: left;\n",
       "    }\n",
       "\n",
       "    .dataframe thead tr:last-of-type th {\n",
       "        text-align: right;\n",
       "    }\n",
       "</style>\n",
       "<table border=\"1\" class=\"dataframe\">\n",
       "  <thead>\n",
       "    <tr>\n",
       "      <th></th>\n",
       "      <th colspan=\"4\" halign=\"left\">PI</th>\n",
       "      <th colspan=\"4\" halign=\"left\">RF</th>\n",
       "      <th>data</th>\n",
       "    </tr>\n",
       "    <tr>\n",
       "      <th></th>\n",
       "      <th>p-unc</th>\n",
       "      <th>-Log10 pvalue</th>\n",
       "      <th>qvalue</th>\n",
       "      <th>rejected</th>\n",
       "      <th>p-unc</th>\n",
       "      <th>-Log10 pvalue</th>\n",
       "      <th>qvalue</th>\n",
       "      <th>rejected</th>\n",
       "      <th>frequency</th>\n",
       "    </tr>\n",
       "    <tr>\n",
       "      <th>protein groups</th>\n",
       "      <th></th>\n",
       "      <th></th>\n",
       "      <th></th>\n",
       "      <th></th>\n",
       "      <th></th>\n",
       "      <th></th>\n",
       "      <th></th>\n",
       "      <th></th>\n",
       "      <th></th>\n",
       "    </tr>\n",
       "  </thead>\n",
       "  <tbody>\n",
       "    <tr>\n",
       "      <th>A0A024QZX5;A0A087X1N8;P35237</th>\n",
       "      <td>0.386</td>\n",
       "      <td>0.414</td>\n",
       "      <td>0.549</td>\n",
       "      <td>False</td>\n",
       "      <td>0.012</td>\n",
       "      <td>1.933</td>\n",
       "      <td>0.032</td>\n",
       "      <td>True</td>\n",
       "      <td>186</td>\n",
       "    </tr>\n",
       "    <tr>\n",
       "      <th>A0A024R0T9;K7ER74;P02655</th>\n",
       "      <td>0.042</td>\n",
       "      <td>1.374</td>\n",
       "      <td>0.106</td>\n",
       "      <td>False</td>\n",
       "      <td>0.035</td>\n",
       "      <td>1.456</td>\n",
       "      <td>0.080</td>\n",
       "      <td>False</td>\n",
       "      <td>195</td>\n",
       "    </tr>\n",
       "    <tr>\n",
       "      <th>A0A024R3W6;A0A024R412;O60462;O60462-2;O60462-3;O60462-4;O60462-5;Q7LBX6;X5D2Q8</th>\n",
       "      <td>0.057</td>\n",
       "      <td>1.243</td>\n",
       "      <td>0.135</td>\n",
       "      <td>False</td>\n",
       "      <td>0.496</td>\n",
       "      <td>0.305</td>\n",
       "      <td>0.625</td>\n",
       "      <td>False</td>\n",
       "      <td>174</td>\n",
       "    </tr>\n",
       "    <tr>\n",
       "      <th>A0A024R644;A0A0A0MRU5;A0A1B0GWI2;O75503</th>\n",
       "      <td>0.437</td>\n",
       "      <td>0.359</td>\n",
       "      <td>0.597</td>\n",
       "      <td>False</td>\n",
       "      <td>0.265</td>\n",
       "      <td>0.577</td>\n",
       "      <td>0.400</td>\n",
       "      <td>False</td>\n",
       "      <td>196</td>\n",
       "    </tr>\n",
       "    <tr>\n",
       "      <th>A0A075B6H7</th>\n",
       "      <td>0.265</td>\n",
       "      <td>0.577</td>\n",
       "      <td>0.422</td>\n",
       "      <td>False</td>\n",
       "      <td>0.005</td>\n",
       "      <td>2.325</td>\n",
       "      <td>0.015</td>\n",
       "      <td>True</td>\n",
       "      <td>91</td>\n",
       "    </tr>\n",
       "    <tr>\n",
       "      <th>...</th>\n",
       "      <td>...</td>\n",
       "      <td>...</td>\n",
       "      <td>...</td>\n",
       "      <td>...</td>\n",
       "      <td>...</td>\n",
       "      <td>...</td>\n",
       "      <td>...</td>\n",
       "      <td>...</td>\n",
       "      <td>...</td>\n",
       "    </tr>\n",
       "    <tr>\n",
       "      <th>Q9Y6R7</th>\n",
       "      <td>0.175</td>\n",
       "      <td>0.756</td>\n",
       "      <td>0.316</td>\n",
       "      <td>False</td>\n",
       "      <td>0.175</td>\n",
       "      <td>0.756</td>\n",
       "      <td>0.291</td>\n",
       "      <td>False</td>\n",
       "      <td>197</td>\n",
       "    </tr>\n",
       "    <tr>\n",
       "      <th>Q9Y6X5</th>\n",
       "      <td>0.076</td>\n",
       "      <td>1.119</td>\n",
       "      <td>0.169</td>\n",
       "      <td>False</td>\n",
       "      <td>0.199</td>\n",
       "      <td>0.702</td>\n",
       "      <td>0.322</td>\n",
       "      <td>False</td>\n",
       "      <td>173</td>\n",
       "    </tr>\n",
       "    <tr>\n",
       "      <th>Q9Y6Y8;Q9Y6Y8-2</th>\n",
       "      <td>0.083</td>\n",
       "      <td>1.079</td>\n",
       "      <td>0.181</td>\n",
       "      <td>False</td>\n",
       "      <td>0.083</td>\n",
       "      <td>1.079</td>\n",
       "      <td>0.162</td>\n",
       "      <td>False</td>\n",
       "      <td>197</td>\n",
       "    </tr>\n",
       "    <tr>\n",
       "      <th>Q9Y6Y9</th>\n",
       "      <td>0.477</td>\n",
       "      <td>0.322</td>\n",
       "      <td>0.631</td>\n",
       "      <td>False</td>\n",
       "      <td>0.400</td>\n",
       "      <td>0.398</td>\n",
       "      <td>0.536</td>\n",
       "      <td>False</td>\n",
       "      <td>119</td>\n",
       "    </tr>\n",
       "    <tr>\n",
       "      <th>S4R3U6</th>\n",
       "      <td>0.910</td>\n",
       "      <td>0.041</td>\n",
       "      <td>0.950</td>\n",
       "      <td>False</td>\n",
       "      <td>0.101</td>\n",
       "      <td>0.994</td>\n",
       "      <td>0.190</td>\n",
       "      <td>False</td>\n",
       "      <td>126</td>\n",
       "    </tr>\n",
       "  </tbody>\n",
       "</table>\n",
       "<p>1421 rows × 9 columns</p>\n",
       "</div>"
      ],
      "text/plain": [
       "                                                      PI                       \\\n",
       "                                                   p-unc -Log10 pvalue qvalue   \n",
       "protein groups                                                                  \n",
       "A0A024QZX5;A0A087X1N8;P35237                       0.386         0.414  0.549   \n",
       "A0A024R0T9;K7ER74;P02655                           0.042         1.374  0.106   \n",
       "A0A024R3W6;A0A024R412;O60462;O60462-2;O60462-3;... 0.057         1.243  0.135   \n",
       "A0A024R644;A0A0A0MRU5;A0A1B0GWI2;O75503            0.437         0.359  0.597   \n",
       "A0A075B6H7                                         0.265         0.577  0.422   \n",
       "...                                                  ...           ...    ...   \n",
       "Q9Y6R7                                             0.175         0.756  0.316   \n",
       "Q9Y6X5                                             0.076         1.119  0.169   \n",
       "Q9Y6Y8;Q9Y6Y8-2                                    0.083         1.079  0.181   \n",
       "Q9Y6Y9                                             0.477         0.322  0.631   \n",
       "S4R3U6                                             0.910         0.041  0.950   \n",
       "\n",
       "                                                               RF  \\\n",
       "                                                   rejected p-unc   \n",
       "protein groups                                                      \n",
       "A0A024QZX5;A0A087X1N8;P35237                          False 0.012   \n",
       "A0A024R0T9;K7ER74;P02655                              False 0.035   \n",
       "A0A024R3W6;A0A024R412;O60462;O60462-2;O60462-3;...    False 0.496   \n",
       "A0A024R644;A0A0A0MRU5;A0A1B0GWI2;O75503               False 0.265   \n",
       "A0A075B6H7                                            False 0.005   \n",
       "...                                                     ...   ...   \n",
       "Q9Y6R7                                                False 0.175   \n",
       "Q9Y6X5                                                False 0.199   \n",
       "Q9Y6Y8;Q9Y6Y8-2                                       False 0.083   \n",
       "Q9Y6Y9                                                False 0.400   \n",
       "S4R3U6                                                False 0.101   \n",
       "\n",
       "                                                                         \\\n",
       "                                                   -Log10 pvalue qvalue   \n",
       "protein groups                                                            \n",
       "A0A024QZX5;A0A087X1N8;P35237                               1.933  0.032   \n",
       "A0A024R0T9;K7ER74;P02655                                   1.456  0.080   \n",
       "A0A024R3W6;A0A024R412;O60462;O60462-2;O60462-3;...         0.305  0.625   \n",
       "A0A024R644;A0A0A0MRU5;A0A1B0GWI2;O75503                    0.577  0.400   \n",
       "A0A075B6H7                                                 2.325  0.015   \n",
       "...                                                          ...    ...   \n",
       "Q9Y6R7                                                     0.756  0.291   \n",
       "Q9Y6X5                                                     0.702  0.322   \n",
       "Q9Y6Y8;Q9Y6Y8-2                                            1.079  0.162   \n",
       "Q9Y6Y9                                                     0.398  0.536   \n",
       "S4R3U6                                                     0.994  0.190   \n",
       "\n",
       "                                                                 data  \n",
       "                                                   rejected frequency  \n",
       "protein groups                                                         \n",
       "A0A024QZX5;A0A087X1N8;P35237                           True       186  \n",
       "A0A024R0T9;K7ER74;P02655                              False       195  \n",
       "A0A024R3W6;A0A024R412;O60462;O60462-2;O60462-3;...    False       174  \n",
       "A0A024R644;A0A0A0MRU5;A0A1B0GWI2;O75503               False       196  \n",
       "A0A075B6H7                                             True        91  \n",
       "...                                                     ...       ...  \n",
       "Q9Y6R7                                                False       197  \n",
       "Q9Y6X5                                                False       173  \n",
       "Q9Y6Y8;Q9Y6Y8-2                                       False       197  \n",
       "Q9Y6Y9                                                False       119  \n",
       "S4R3U6                                                False       126  \n",
       "\n",
       "[1421 rows x 9 columns]"
      ]
     },
     "execution_count": 15,
     "metadata": {},
     "output_type": "execute_result"
    }
   ],
   "source": [
    "scores_common = (scores\n",
    "                 .dropna()\n",
    "                 .reset_index(-1, drop=True)\n",
    "                 ).join(\n",
    "    freq_feat, how='left'\n",
    ")\n",
    "scores_common"
   ]
  },
  {
   "cell_type": "markdown",
   "id": "62a9eefd",
   "metadata": {
    "papermill": {
     "duration": 0.058815,
     "end_time": "2025-01-18T04:30:05.032649",
     "exception": false,
     "start_time": "2025-01-18T04:30:04.973834",
     "status": "completed"
    },
    "tags": []
   },
   "source": [
    "### Annotate decisions in Confusion Table style:"
   ]
  },
  {
   "cell_type": "code",
   "execution_count": 16,
   "id": "80cf4145-070d-457a-bb74-ee64299809e7",
   "metadata": {
    "execution": {
     "iopub.execute_input": "2025-01-18T04:30:05.069534Z",
     "iopub.status.busy": "2025-01-18T04:30:05.069222Z",
     "iopub.status.idle": "2025-01-18T04:30:05.084607Z",
     "shell.execute_reply": "2025-01-18T04:30:05.081555Z"
    },
    "papermill": {
     "duration": 0.035503,
     "end_time": "2025-01-18T04:30:05.086102",
     "exception": false,
     "start_time": "2025-01-18T04:30:05.050599",
     "status": "completed"
    },
    "tags": [
     "hide-input"
    ]
   },
   "outputs": [
    {
     "data": {
      "text/plain": [
       "Differential Analysis Comparison\n",
       "PI (no)  - RF (no)    905\n",
       "PI (yes) - RF (yes)   322\n",
       "PI (no)  - RF (yes)   128\n",
       "PI (yes) - RF (no)     66\n",
       "Name: count, dtype: int64"
      ]
     },
     "execution_count": 16,
     "metadata": {},
     "output_type": "execute_result"
    }
   ],
   "source": [
    "def annotate_decision(scores, model, model_column):\n",
    "    return scores[(model_column, 'rejected')].replace({False: f'{model} (no) ', True: f'{model} (yes)'})\n",
    "\n",
    "\n",
    "annotations = None\n",
    "for model, model_column in models.items():\n",
    "    if annotations is not None:\n",
    "        annotations += ' - '\n",
    "        annotations += annotate_decision(scores_common,\n",
    "                                         model=model, model_column=model_column)\n",
    "    else:\n",
    "        annotations = annotate_decision(\n",
    "            scores_common, model=model, model_column=model_column)\n",
    "annotations.name = 'Differential Analysis Comparison'\n",
    "annotations.value_counts()"
   ]
  },
  {
   "cell_type": "markdown",
   "id": "0942d395",
   "metadata": {
    "papermill": {
     "duration": 0.016925,
     "end_time": "2025-01-18T04:30:05.133167",
     "exception": false,
     "start_time": "2025-01-18T04:30:05.116242",
     "status": "completed"
    },
    "tags": []
   },
   "source": [
    "### List different decisions between models"
   ]
  },
  {
   "cell_type": "code",
   "execution_count": 17,
   "id": "cda5ffa4-9a97-4a49-aaba-34e83ef7940a",
   "metadata": {
    "execution": {
     "iopub.execute_input": "2025-01-18T04:30:05.165378Z",
     "iopub.status.busy": "2025-01-18T04:30:05.164360Z",
     "iopub.status.idle": "2025-01-18T04:30:05.232379Z",
     "shell.execute_reply": "2025-01-18T04:30:05.231865Z"
    },
    "papermill": {
     "duration": 0.085739,
     "end_time": "2025-01-18T04:30:05.233624",
     "exception": false,
     "start_time": "2025-01-18T04:30:05.147885",
     "status": "completed"
    },
    "tags": [
     "hide-input"
    ]
   },
   "outputs": [
    {
     "name": "stderr",
     "output_type": "stream",
     "text": [
      "/tmp/ipykernel_34511/1417621106.py:6: FutureWarning: Starting with pandas version 3.0 all arguments of to_excel except for the argument 'excel_writer' will be keyword-only.\n",
      "  _to_write.to_excel(writer, 'differences', **writer_args)\n",
      "root - INFO     Writen to Excel file under sheet 'differences'.\n"
     ]
    },
    {
     "data": {
      "text/html": [
       "<div>\n",
       "<style scoped>\n",
       "    .dataframe tbody tr th:only-of-type {\n",
       "        vertical-align: middle;\n",
       "    }\n",
       "\n",
       "    .dataframe tbody tr th {\n",
       "        vertical-align: top;\n",
       "    }\n",
       "\n",
       "    .dataframe thead tr th {\n",
       "        text-align: left;\n",
       "    }\n",
       "\n",
       "    .dataframe thead tr:last-of-type th {\n",
       "        text-align: right;\n",
       "    }\n",
       "</style>\n",
       "<table border=\"1\" class=\"dataframe\">\n",
       "  <thead>\n",
       "    <tr>\n",
       "      <th></th>\n",
       "      <th colspan=\"4\" halign=\"left\">PI</th>\n",
       "      <th colspan=\"4\" halign=\"left\">RF</th>\n",
       "      <th>data</th>\n",
       "    </tr>\n",
       "    <tr>\n",
       "      <th></th>\n",
       "      <th>p-unc</th>\n",
       "      <th>-Log10 pvalue</th>\n",
       "      <th>qvalue</th>\n",
       "      <th>rejected</th>\n",
       "      <th>p-unc</th>\n",
       "      <th>-Log10 pvalue</th>\n",
       "      <th>qvalue</th>\n",
       "      <th>rejected</th>\n",
       "      <th>frequency</th>\n",
       "    </tr>\n",
       "    <tr>\n",
       "      <th>protein groups</th>\n",
       "      <th></th>\n",
       "      <th></th>\n",
       "      <th></th>\n",
       "      <th></th>\n",
       "      <th></th>\n",
       "      <th></th>\n",
       "      <th></th>\n",
       "      <th></th>\n",
       "      <th></th>\n",
       "    </tr>\n",
       "  </thead>\n",
       "  <tbody>\n",
       "    <tr>\n",
       "      <th>A0A024QZX5;A0A087X1N8;P35237</th>\n",
       "      <td>0.386</td>\n",
       "      <td>0.414</td>\n",
       "      <td>0.549</td>\n",
       "      <td>False</td>\n",
       "      <td>0.012</td>\n",
       "      <td>1.933</td>\n",
       "      <td>0.032</td>\n",
       "      <td>True</td>\n",
       "      <td>186</td>\n",
       "    </tr>\n",
       "    <tr>\n",
       "      <th>A0A075B6H7</th>\n",
       "      <td>0.265</td>\n",
       "      <td>0.577</td>\n",
       "      <td>0.422</td>\n",
       "      <td>False</td>\n",
       "      <td>0.005</td>\n",
       "      <td>2.325</td>\n",
       "      <td>0.015</td>\n",
       "      <td>True</td>\n",
       "      <td>91</td>\n",
       "    </tr>\n",
       "    <tr>\n",
       "      <th>A0A075B6I0</th>\n",
       "      <td>0.021</td>\n",
       "      <td>1.684</td>\n",
       "      <td>0.061</td>\n",
       "      <td>False</td>\n",
       "      <td>0.001</td>\n",
       "      <td>3.242</td>\n",
       "      <td>0.002</td>\n",
       "      <td>True</td>\n",
       "      <td>194</td>\n",
       "    </tr>\n",
       "    <tr>\n",
       "      <th>A0A075B6J9</th>\n",
       "      <td>0.087</td>\n",
       "      <td>1.060</td>\n",
       "      <td>0.186</td>\n",
       "      <td>False</td>\n",
       "      <td>0.012</td>\n",
       "      <td>1.928</td>\n",
       "      <td>0.032</td>\n",
       "      <td>True</td>\n",
       "      <td>156</td>\n",
       "    </tr>\n",
       "    <tr>\n",
       "      <th>A0A075B6R2</th>\n",
       "      <td>0.446</td>\n",
       "      <td>0.351</td>\n",
       "      <td>0.605</td>\n",
       "      <td>False</td>\n",
       "      <td>0.002</td>\n",
       "      <td>2.754</td>\n",
       "      <td>0.006</td>\n",
       "      <td>True</td>\n",
       "      <td>164</td>\n",
       "    </tr>\n",
       "    <tr>\n",
       "      <th>...</th>\n",
       "      <td>...</td>\n",
       "      <td>...</td>\n",
       "      <td>...</td>\n",
       "      <td>...</td>\n",
       "      <td>...</td>\n",
       "      <td>...</td>\n",
       "      <td>...</td>\n",
       "      <td>...</td>\n",
       "      <td>...</td>\n",
       "    </tr>\n",
       "    <tr>\n",
       "      <th>Q9UKB5</th>\n",
       "      <td>0.005</td>\n",
       "      <td>2.287</td>\n",
       "      <td>0.020</td>\n",
       "      <td>True</td>\n",
       "      <td>0.307</td>\n",
       "      <td>0.513</td>\n",
       "      <td>0.446</td>\n",
       "      <td>False</td>\n",
       "      <td>148</td>\n",
       "    </tr>\n",
       "    <tr>\n",
       "      <th>Q9ULZ9</th>\n",
       "      <td>0.000</td>\n",
       "      <td>3.384</td>\n",
       "      <td>0.002</td>\n",
       "      <td>True</td>\n",
       "      <td>0.042</td>\n",
       "      <td>1.380</td>\n",
       "      <td>0.092</td>\n",
       "      <td>False</td>\n",
       "      <td>171</td>\n",
       "    </tr>\n",
       "    <tr>\n",
       "      <th>Q9UNW1</th>\n",
       "      <td>0.010</td>\n",
       "      <td>1.988</td>\n",
       "      <td>0.034</td>\n",
       "      <td>True</td>\n",
       "      <td>0.821</td>\n",
       "      <td>0.086</td>\n",
       "      <td>0.885</td>\n",
       "      <td>False</td>\n",
       "      <td>171</td>\n",
       "    </tr>\n",
       "    <tr>\n",
       "      <th>Q9UP79</th>\n",
       "      <td>0.487</td>\n",
       "      <td>0.313</td>\n",
       "      <td>0.639</td>\n",
       "      <td>False</td>\n",
       "      <td>0.000</td>\n",
       "      <td>3.398</td>\n",
       "      <td>0.002</td>\n",
       "      <td>True</td>\n",
       "      <td>135</td>\n",
       "    </tr>\n",
       "    <tr>\n",
       "      <th>Q9UQ52</th>\n",
       "      <td>0.068</td>\n",
       "      <td>1.169</td>\n",
       "      <td>0.154</td>\n",
       "      <td>False</td>\n",
       "      <td>0.001</td>\n",
       "      <td>3.188</td>\n",
       "      <td>0.003</td>\n",
       "      <td>True</td>\n",
       "      <td>188</td>\n",
       "    </tr>\n",
       "  </tbody>\n",
       "</table>\n",
       "<p>194 rows × 9 columns</p>\n",
       "</div>"
      ],
      "text/plain": [
       "                                PI                                  RF  \\\n",
       "                             p-unc -Log10 pvalue qvalue rejected p-unc   \n",
       "protein groups                                                           \n",
       "A0A024QZX5;A0A087X1N8;P35237 0.386         0.414  0.549    False 0.012   \n",
       "A0A075B6H7                   0.265         0.577  0.422    False 0.005   \n",
       "A0A075B6I0                   0.021         1.684  0.061    False 0.001   \n",
       "A0A075B6J9                   0.087         1.060  0.186    False 0.012   \n",
       "A0A075B6R2                   0.446         0.351  0.605    False 0.002   \n",
       "...                            ...           ...    ...      ...   ...   \n",
       "Q9UKB5                       0.005         2.287  0.020     True 0.307   \n",
       "Q9ULZ9                       0.000         3.384  0.002     True 0.042   \n",
       "Q9UNW1                       0.010         1.988  0.034     True 0.821   \n",
       "Q9UP79                       0.487         0.313  0.639    False 0.000   \n",
       "Q9UQ52                       0.068         1.169  0.154    False 0.001   \n",
       "\n",
       "                                                                data  \n",
       "                             -Log10 pvalue qvalue rejected frequency  \n",
       "protein groups                                                        \n",
       "A0A024QZX5;A0A087X1N8;P35237         1.933  0.032     True       186  \n",
       "A0A075B6H7                           2.325  0.015     True        91  \n",
       "A0A075B6I0                           3.242  0.002     True       194  \n",
       "A0A075B6J9                           1.928  0.032     True       156  \n",
       "A0A075B6R2                           2.754  0.006     True       164  \n",
       "...                                    ...    ...      ...       ...  \n",
       "Q9UKB5                               0.513  0.446    False       148  \n",
       "Q9ULZ9                               1.380  0.092    False       171  \n",
       "Q9UNW1                               0.086  0.885    False       171  \n",
       "Q9UP79                               3.398  0.002     True       135  \n",
       "Q9UQ52                               3.188  0.003     True       188  \n",
       "\n",
       "[194 rows x 9 columns]"
      ]
     },
     "execution_count": 17,
     "metadata": {},
     "output_type": "execute_result"
    }
   ],
   "source": [
    "mask_different = (\n",
    "    (scores_common.loc[:, pd.IndexSlice[:, 'rejected']].any(axis=1))\n",
    "    & ~(scores_common.loc[:, pd.IndexSlice[:, 'rejected']].all(axis=1))\n",
    ")\n",
    "_to_write = scores_common.loc[mask_different]\n",
    "_to_write.to_excel(writer, 'differences', **writer_args)\n",
    "logger.info(\"Writen to Excel file under sheet 'differences'.\")\n",
    "_to_write"
   ]
  },
  {
   "cell_type": "markdown",
   "id": "e8832084",
   "metadata": {
    "papermill": {
     "duration": 0.017908,
     "end_time": "2025-01-18T04:30:05.267667",
     "exception": false,
     "start_time": "2025-01-18T04:30:05.249759",
     "status": "completed"
    },
    "tags": []
   },
   "source": [
    "## Plot qvalues of both models with annotated decisions\n",
    "\n",
    "Prepare data for plotting (qvalues)"
   ]
  },
  {
   "cell_type": "code",
   "execution_count": 18,
   "id": "5b2e5341-b054-40c3-b45a-44ae6ca46cfb",
   "metadata": {
    "execution": {
     "iopub.execute_input": "2025-01-18T04:30:05.300684Z",
     "iopub.status.busy": "2025-01-18T04:30:05.299764Z",
     "iopub.status.idle": "2025-01-18T04:30:05.314617Z",
     "shell.execute_reply": "2025-01-18T04:30:05.314023Z"
    },
    "papermill": {
     "duration": 0.032596,
     "end_time": "2025-01-18T04:30:05.315837",
     "exception": false,
     "start_time": "2025-01-18T04:30:05.283241",
     "status": "completed"
    },
    "tags": [
     "hide-input"
    ]
   },
   "outputs": [
    {
     "data": {
      "text/html": [
       "<div>\n",
       "<style scoped>\n",
       "    .dataframe tbody tr th:only-of-type {\n",
       "        vertical-align: middle;\n",
       "    }\n",
       "\n",
       "    .dataframe tbody tr th {\n",
       "        vertical-align: top;\n",
       "    }\n",
       "\n",
       "    .dataframe thead th {\n",
       "        text-align: right;\n",
       "    }\n",
       "</style>\n",
       "<table border=\"1\" class=\"dataframe\">\n",
       "  <thead>\n",
       "    <tr style=\"text-align: right;\">\n",
       "      <th></th>\n",
       "      <th>PI</th>\n",
       "      <th>RF</th>\n",
       "      <th>frequency</th>\n",
       "      <th>Differential Analysis Comparison</th>\n",
       "    </tr>\n",
       "    <tr>\n",
       "      <th>protein groups</th>\n",
       "      <th></th>\n",
       "      <th></th>\n",
       "      <th></th>\n",
       "      <th></th>\n",
       "    </tr>\n",
       "  </thead>\n",
       "  <tbody>\n",
       "    <tr>\n",
       "      <th>A0A024QZX5;A0A087X1N8;P35237</th>\n",
       "      <td>0.549</td>\n",
       "      <td>0.032</td>\n",
       "      <td>186</td>\n",
       "      <td>PI (no)  - RF (yes)</td>\n",
       "    </tr>\n",
       "    <tr>\n",
       "      <th>A0A024R0T9;K7ER74;P02655</th>\n",
       "      <td>0.106</td>\n",
       "      <td>0.080</td>\n",
       "      <td>195</td>\n",
       "      <td>PI (no)  - RF (no)</td>\n",
       "    </tr>\n",
       "    <tr>\n",
       "      <th>A0A024R3W6;A0A024R412;O60462;O60462-2;O60462-3;O60462-4;O60462-5;Q7LBX6;X5D2Q8</th>\n",
       "      <td>0.135</td>\n",
       "      <td>0.625</td>\n",
       "      <td>174</td>\n",
       "      <td>PI (no)  - RF (no)</td>\n",
       "    </tr>\n",
       "    <tr>\n",
       "      <th>A0A024R644;A0A0A0MRU5;A0A1B0GWI2;O75503</th>\n",
       "      <td>0.597</td>\n",
       "      <td>0.400</td>\n",
       "      <td>196</td>\n",
       "      <td>PI (no)  - RF (no)</td>\n",
       "    </tr>\n",
       "    <tr>\n",
       "      <th>A0A075B6H7</th>\n",
       "      <td>0.422</td>\n",
       "      <td>0.015</td>\n",
       "      <td>91</td>\n",
       "      <td>PI (no)  - RF (yes)</td>\n",
       "    </tr>\n",
       "    <tr>\n",
       "      <th>...</th>\n",
       "      <td>...</td>\n",
       "      <td>...</td>\n",
       "      <td>...</td>\n",
       "      <td>...</td>\n",
       "    </tr>\n",
       "    <tr>\n",
       "      <th>Q9Y6R7</th>\n",
       "      <td>0.316</td>\n",
       "      <td>0.291</td>\n",
       "      <td>197</td>\n",
       "      <td>PI (no)  - RF (no)</td>\n",
       "    </tr>\n",
       "    <tr>\n",
       "      <th>Q9Y6X5</th>\n",
       "      <td>0.169</td>\n",
       "      <td>0.322</td>\n",
       "      <td>173</td>\n",
       "      <td>PI (no)  - RF (no)</td>\n",
       "    </tr>\n",
       "    <tr>\n",
       "      <th>Q9Y6Y8;Q9Y6Y8-2</th>\n",
       "      <td>0.181</td>\n",
       "      <td>0.162</td>\n",
       "      <td>197</td>\n",
       "      <td>PI (no)  - RF (no)</td>\n",
       "    </tr>\n",
       "    <tr>\n",
       "      <th>Q9Y6Y9</th>\n",
       "      <td>0.631</td>\n",
       "      <td>0.536</td>\n",
       "      <td>119</td>\n",
       "      <td>PI (no)  - RF (no)</td>\n",
       "    </tr>\n",
       "    <tr>\n",
       "      <th>S4R3U6</th>\n",
       "      <td>0.950</td>\n",
       "      <td>0.190</td>\n",
       "      <td>126</td>\n",
       "      <td>PI (no)  - RF (no)</td>\n",
       "    </tr>\n",
       "  </tbody>\n",
       "</table>\n",
       "<p>1421 rows × 4 columns</p>\n",
       "</div>"
      ],
      "text/plain": [
       "                                                      PI    RF  frequency  \\\n",
       "protein groups                                                              \n",
       "A0A024QZX5;A0A087X1N8;P35237                       0.549 0.032        186   \n",
       "A0A024R0T9;K7ER74;P02655                           0.106 0.080        195   \n",
       "A0A024R3W6;A0A024R412;O60462;O60462-2;O60462-3;... 0.135 0.625        174   \n",
       "A0A024R644;A0A0A0MRU5;A0A1B0GWI2;O75503            0.597 0.400        196   \n",
       "A0A075B6H7                                         0.422 0.015         91   \n",
       "...                                                  ...   ...        ...   \n",
       "Q9Y6R7                                             0.316 0.291        197   \n",
       "Q9Y6X5                                             0.169 0.322        173   \n",
       "Q9Y6Y8;Q9Y6Y8-2                                    0.181 0.162        197   \n",
       "Q9Y6Y9                                             0.631 0.536        119   \n",
       "S4R3U6                                             0.950 0.190        126   \n",
       "\n",
       "                                                   Differential Analysis Comparison  \n",
       "protein groups                                                                       \n",
       "A0A024QZX5;A0A087X1N8;P35237                                    PI (no)  - RF (yes)  \n",
       "A0A024R0T9;K7ER74;P02655                                        PI (no)  - RF (no)   \n",
       "A0A024R3W6;A0A024R412;O60462;O60462-2;O60462-3;...              PI (no)  - RF (no)   \n",
       "A0A024R644;A0A0A0MRU5;A0A1B0GWI2;O75503                         PI (no)  - RF (no)   \n",
       "A0A075B6H7                                                      PI (no)  - RF (yes)  \n",
       "...                                                                             ...  \n",
       "Q9Y6R7                                                          PI (no)  - RF (no)   \n",
       "Q9Y6X5                                                          PI (no)  - RF (no)   \n",
       "Q9Y6Y8;Q9Y6Y8-2                                                 PI (no)  - RF (no)   \n",
       "Q9Y6Y9                                                          PI (no)  - RF (no)   \n",
       "S4R3U6                                                          PI (no)  - RF (no)   \n",
       "\n",
       "[1421 rows x 4 columns]"
      ]
     },
     "execution_count": 18,
     "metadata": {},
     "output_type": "execute_result"
    }
   ],
   "source": [
    "var = 'qvalue'\n",
    "to_plot = [scores_common[v][var] for v in models.values()]\n",
    "for s, k in zip(to_plot, models.keys()):\n",
    "    s.name = k.replace('_', ' ')\n",
    "to_plot.append(scores_common['data'])\n",
    "to_plot.append(annotations)\n",
    "to_plot = pd.concat(to_plot, axis=1)\n",
    "to_plot"
   ]
  },
  {
   "cell_type": "markdown",
   "id": "c92517a4-8456-4663-b719-4abd997fbb1c",
   "metadata": {
    "papermill": {
     "duration": 0.016051,
     "end_time": "2025-01-18T04:30:05.348471",
     "exception": false,
     "start_time": "2025-01-18T04:30:05.332420",
     "status": "completed"
    },
    "tags": []
   },
   "source": [
    "List of features with the highest difference in qvalues"
   ]
  },
  {
   "cell_type": "code",
   "execution_count": 19,
   "id": "c7af4a70-aa43-4772-af00-d425f5ed249f",
   "metadata": {
    "execution": {
     "iopub.execute_input": "2025-01-18T04:30:05.382092Z",
     "iopub.status.busy": "2025-01-18T04:30:05.381803Z",
     "iopub.status.idle": "2025-01-18T04:30:05.395961Z",
     "shell.execute_reply": "2025-01-18T04:30:05.395468Z"
    },
    "papermill": {
     "duration": 0.03221,
     "end_time": "2025-01-18T04:30:05.397075",
     "exception": false,
     "start_time": "2025-01-18T04:30:05.364865",
     "status": "completed"
    },
    "tags": [
     "hide-input"
    ]
   },
   "outputs": [
    {
     "data": {
      "text/html": [
       "<div>\n",
       "<style scoped>\n",
       "    .dataframe tbody tr th:only-of-type {\n",
       "        vertical-align: middle;\n",
       "    }\n",
       "\n",
       "    .dataframe tbody tr th {\n",
       "        vertical-align: top;\n",
       "    }\n",
       "\n",
       "    .dataframe thead th {\n",
       "        text-align: right;\n",
       "    }\n",
       "</style>\n",
       "<table border=\"1\" class=\"dataframe\">\n",
       "  <thead>\n",
       "    <tr style=\"text-align: right;\">\n",
       "      <th></th>\n",
       "      <th>PI</th>\n",
       "      <th>RF</th>\n",
       "      <th>frequency</th>\n",
       "      <th>Differential Analysis Comparison</th>\n",
       "      <th>diff_qvalue</th>\n",
       "    </tr>\n",
       "    <tr>\n",
       "      <th>protein groups</th>\n",
       "      <th></th>\n",
       "      <th></th>\n",
       "      <th></th>\n",
       "      <th></th>\n",
       "      <th></th>\n",
       "    </tr>\n",
       "  </thead>\n",
       "  <tbody>\n",
       "    <tr>\n",
       "      <th>O60565</th>\n",
       "      <td>0.961</td>\n",
       "      <td>0.014</td>\n",
       "      <td>81</td>\n",
       "      <td>PI (no)  - RF (yes)</td>\n",
       "      <td>0.948</td>\n",
       "    </tr>\n",
       "    <tr>\n",
       "      <th>Q96PQ0</th>\n",
       "      <td>0.011</td>\n",
       "      <td>0.939</td>\n",
       "      <td>177</td>\n",
       "      <td>PI (yes) - RF (no)</td>\n",
       "      <td>0.929</td>\n",
       "    </tr>\n",
       "    <tr>\n",
       "      <th>Q7Z5L0</th>\n",
       "      <td>0.923</td>\n",
       "      <td>0.001</td>\n",
       "      <td>53</td>\n",
       "      <td>PI (no)  - RF (yes)</td>\n",
       "      <td>0.922</td>\n",
       "    </tr>\n",
       "    <tr>\n",
       "      <th>P17931</th>\n",
       "      <td>0.958</td>\n",
       "      <td>0.042</td>\n",
       "      <td>174</td>\n",
       "      <td>PI (no)  - RF (yes)</td>\n",
       "      <td>0.916</td>\n",
       "    </tr>\n",
       "    <tr>\n",
       "      <th>O95998</th>\n",
       "      <td>0.962</td>\n",
       "      <td>0.048</td>\n",
       "      <td>143</td>\n",
       "      <td>PI (no)  - RF (yes)</td>\n",
       "      <td>0.914</td>\n",
       "    </tr>\n",
       "    <tr>\n",
       "      <th>...</th>\n",
       "      <td>...</td>\n",
       "      <td>...</td>\n",
       "      <td>...</td>\n",
       "      <td>...</td>\n",
       "      <td>...</td>\n",
       "    </tr>\n",
       "    <tr>\n",
       "      <th>F5GY80;F5H7G1;P07358</th>\n",
       "      <td>0.057</td>\n",
       "      <td>0.049</td>\n",
       "      <td>197</td>\n",
       "      <td>PI (no)  - RF (yes)</td>\n",
       "      <td>0.008</td>\n",
       "    </tr>\n",
       "    <tr>\n",
       "      <th>Q9NX62</th>\n",
       "      <td>0.055</td>\n",
       "      <td>0.047</td>\n",
       "      <td>197</td>\n",
       "      <td>PI (no)  - RF (yes)</td>\n",
       "      <td>0.008</td>\n",
       "    </tr>\n",
       "    <tr>\n",
       "      <th>P00740;P00740-2</th>\n",
       "      <td>0.052</td>\n",
       "      <td>0.045</td>\n",
       "      <td>197</td>\n",
       "      <td>PI (no)  - RF (yes)</td>\n",
       "      <td>0.008</td>\n",
       "    </tr>\n",
       "    <tr>\n",
       "      <th>K7ERG9;P00746</th>\n",
       "      <td>0.051</td>\n",
       "      <td>0.044</td>\n",
       "      <td>197</td>\n",
       "      <td>PI (no)  - RF (yes)</td>\n",
       "      <td>0.008</td>\n",
       "    </tr>\n",
       "    <tr>\n",
       "      <th>Q9P2E7;Q9P2E7-2</th>\n",
       "      <td>0.049</td>\n",
       "      <td>0.051</td>\n",
       "      <td>196</td>\n",
       "      <td>PI (yes) - RF (no)</td>\n",
       "      <td>0.002</td>\n",
       "    </tr>\n",
       "  </tbody>\n",
       "</table>\n",
       "<p>194 rows × 5 columns</p>\n",
       "</div>"
      ],
      "text/plain": [
       "                        PI    RF  frequency Differential Analysis Comparison  \\\n",
       "protein groups                                                                 \n",
       "O60565               0.961 0.014         81              PI (no)  - RF (yes)   \n",
       "Q96PQ0               0.011 0.939        177              PI (yes) - RF (no)    \n",
       "Q7Z5L0               0.923 0.001         53              PI (no)  - RF (yes)   \n",
       "P17931               0.958 0.042        174              PI (no)  - RF (yes)   \n",
       "O95998               0.962 0.048        143              PI (no)  - RF (yes)   \n",
       "...                    ...   ...        ...                              ...   \n",
       "F5GY80;F5H7G1;P07358 0.057 0.049        197              PI (no)  - RF (yes)   \n",
       "Q9NX62               0.055 0.047        197              PI (no)  - RF (yes)   \n",
       "P00740;P00740-2      0.052 0.045        197              PI (no)  - RF (yes)   \n",
       "K7ERG9;P00746        0.051 0.044        197              PI (no)  - RF (yes)   \n",
       "Q9P2E7;Q9P2E7-2      0.049 0.051        196              PI (yes) - RF (no)    \n",
       "\n",
       "                      diff_qvalue  \n",
       "protein groups                     \n",
       "O60565                      0.948  \n",
       "Q96PQ0                      0.929  \n",
       "Q7Z5L0                      0.922  \n",
       "P17931                      0.916  \n",
       "O95998                      0.914  \n",
       "...                           ...  \n",
       "F5GY80;F5H7G1;P07358        0.008  \n",
       "Q9NX62                      0.008  \n",
       "P00740;P00740-2             0.008  \n",
       "K7ERG9;P00746               0.008  \n",
       "Q9P2E7;Q9P2E7-2             0.002  \n",
       "\n",
       "[194 rows x 5 columns]"
      ]
     },
     "execution_count": 19,
     "metadata": {},
     "output_type": "execute_result"
    }
   ],
   "source": [
    "# should it be possible to run not only RSN?\n",
    "to_plot['diff_qvalue'] = (to_plot[str(args.baseline)] - to_plot[str(args.model_key)]).abs()\n",
    "to_plot.loc[mask_different].sort_values('diff_qvalue', ascending=False)"
   ]
  },
  {
   "cell_type": "markdown",
   "id": "e715954e-2d62-4cd9-b4b0-063524bca495",
   "metadata": {
    "papermill": {
     "duration": 0.016733,
     "end_time": "2025-01-18T04:30:05.438906",
     "exception": false,
     "start_time": "2025-01-18T04:30:05.422173",
     "status": "completed"
    },
    "tags": []
   },
   "source": [
    "### Differences plotted with created annotations"
   ]
  },
  {
   "cell_type": "code",
   "execution_count": 20,
   "id": "a20d356d-c397-4440-b70e-9d899aa200fd",
   "metadata": {
    "execution": {
     "iopub.execute_input": "2025-01-18T04:30:05.480557Z",
     "iopub.status.busy": "2025-01-18T04:30:05.480258Z",
     "iopub.status.idle": "2025-01-18T04:30:06.623918Z",
     "shell.execute_reply": "2025-01-18T04:30:06.623373Z"
    },
    "papermill": {
     "duration": 1.162133,
     "end_time": "2025-01-18T04:30:06.625169",
     "exception": false,
     "start_time": "2025-01-18T04:30:05.463036",
     "status": "completed"
    },
    "tags": [
     "hide-input"
    ]
   },
   "outputs": [
    {
     "name": "stderr",
     "output_type": "stream",
     "text": [
      "pimmslearn.plotting - INFO     Saved Figures to runs/alzheimer_study/diff_analysis/AD/PI_vs_RF/diff_analysis_comparision_1_RF\n"
     ]
    },
    {
     "data": {
      "image/png": "[encoded data removed]",
      "text/plain": [
       "<Figure size 588x588 with 1 Axes>"
      ]
     },
     "metadata": {},
     "output_type": "display_data"
    }
   ],
   "source": [
    "figsize = (4, 4)\n",
    "size = 5\n",
    "fig, ax = plt.subplots(figsize=figsize)\n",
    "x_col = to_plot.columns[0]\n",
    "y_col = to_plot.columns[1]\n",
    "ax = sns.scatterplot(data=to_plot,\n",
    "                     x=x_col,\n",
    "                     y=y_col,\n",
    "                     s=size,\n",
    "                     hue='Differential Analysis Comparison',\n",
    "                     ax=ax)\n",
    "_ = ax.legend(fontsize=fontsize,\n",
    "              title_fontsize=fontsize,\n",
    "              markerscale=0.4,\n",
    "              title='',\n",
    "              )\n",
    "ax.set_xlabel(f\"qvalue for {x_col}\")\n",
    "ax.set_ylabel(f\"qvalue for {y_col}\")\n",
    "ax.hlines(0.05, 0, 1, color='grey', linestyles='dotted')\n",
    "ax.vlines(0.05, 0, 1, color='grey', linestyles='dotted')\n",
    "sns.move_legend(ax, \"upper right\")\n",
    "files_out[f'diff_analysis_comparision_1_{args.model_key}'] = (\n",
    "    args.out_folder /\n",
    "    f'diff_analysis_comparision_1_{args.model_key}')\n",
    "fname = files_out[f'diff_analysis_comparision_1_{args.model_key}']\n",
    "pimmslearn.savefig(fig, name=fname)"
   ]
  },
  {
   "cell_type": "markdown",
   "id": "d8849c76-c5f6-4618-87c0-f2635dc9ac66",
   "metadata": {
    "papermill": {
     "duration": 0.017142,
     "end_time": "2025-01-18T04:30:06.661184",
     "exception": false,
     "start_time": "2025-01-18T04:30:06.644042",
     "status": "completed"
    },
    "tags": []
   },
   "source": [
    "- also showing how many features were measured (\"observed\") by size of circle"
   ]
  },
  {
   "cell_type": "code",
   "execution_count": 21,
   "id": "1cf258f8-9dcb-40bb-af66-b600f8d413f6",
   "metadata": {
    "execution": {
     "iopub.execute_input": "2025-01-18T04:30:06.698376Z",
     "iopub.status.busy": "2025-01-18T04:30:06.698083Z",
     "iopub.status.idle": "2025-01-18T04:30:08.762864Z",
     "shell.execute_reply": "2025-01-18T04:30:08.762247Z"
    },
    "papermill": {
     "duration": 2.085908,
     "end_time": "2025-01-18T04:30:08.765288",
     "exception": false,
     "start_time": "2025-01-18T04:30:06.679380",
     "status": "completed"
    },
    "tags": [
     "hide-input"
    ]
   },
   "outputs": [
    {
     "name": "stderr",
     "output_type": "stream",
     "text": [
      "pimmslearn.plotting - INFO     Saved Figures to runs/alzheimer_study/diff_analysis/AD/PI_vs_RF/diff_analysis_comparision_2_RF\n"
     ]
    },
    {
     "data": {
      "image/png": "[encoded data removed]",
      "text/plain": [
       "<Figure size 588x588 with 1 Axes>"
      ]
     },
     "metadata": {},
     "output_type": "display_data"
    }
   ],
   "source": [
    "fig, ax = plt.subplots(figsize=figsize)\n",
    "ax = sns.scatterplot(data=to_plot,\n",
    "                     x=to_plot.columns[0],\n",
    "                     y=to_plot.columns[1],\n",
    "                     size='frequency',\n",
    "                     s=size,\n",
    "                     sizes=(5, 20),\n",
    "                     hue='Differential Analysis Comparison')\n",
    "_ = ax.legend(fontsize=fontsize,\n",
    "              title_fontsize=fontsize,\n",
    "              markerscale=0.6,\n",
    "              title='',\n",
    "              )\n",
    "ax.set_xlabel(f\"qvalue for {x_col}\")\n",
    "ax.set_ylabel(f\"qvalue for {y_col}\")\n",
    "ax.hlines(0.05, 0, 1, color='grey', linestyles='dotted')\n",
    "ax.vlines(0.05, 0, 1, color='grey', linestyles='dotted')\n",
    "sns.move_legend(ax, \"upper right\")\n",
    "files_out[f'diff_analysis_comparision_2_{args.model_key}'] = (\n",
    "    args.out_folder / f'diff_analysis_comparision_2_{args.model_key}')\n",
    "pimmslearn.savefig(\n",
    "    fig, name=files_out[f'diff_analysis_comparision_2_{args.model_key}'])"
   ]
  },
  {
   "cell_type": "markdown",
   "id": "1fee3a21-d8b3-40c6-aea2-4774dfe855ca",
   "metadata": {
    "papermill": {
     "duration": 0.022909,
     "end_time": "2025-01-18T04:30:08.818285",
     "exception": false,
     "start_time": "2025-01-18T04:30:08.795376",
     "status": "completed"
    },
    "tags": []
   },
   "source": [
    "## Only features contained in model\n",
    "- this block exist due to a specific part in the ALD analysis of the paper"
   ]
  },
  {
   "cell_type": "code",
   "execution_count": 22,
   "id": "c4e23a01-fd37-4496-a518-445a9ef38db1",
   "metadata": {
    "execution": {
     "iopub.execute_input": "2025-01-18T04:30:08.851785Z",
     "iopub.status.busy": "2025-01-18T04:30:08.851294Z",
     "iopub.status.idle": "2025-01-18T04:30:08.861882Z",
     "shell.execute_reply": "2025-01-18T04:30:08.861246Z"
    },
    "papermill": {
     "duration": 0.025549,
     "end_time": "2025-01-18T04:30:08.863275",
     "exception": false,
     "start_time": "2025-01-18T04:30:08.837726",
     "status": "completed"
    },
    "tags": [
     "hide-input"
    ]
   },
   "outputs": [
    {
     "name": "stderr",
     "output_type": "stream",
     "text": [
      "root - INFO     No features only in new comparision model.\n"
     ]
    }
   ],
   "source": [
    "scores_model_only = scores.reset_index(level=-1, drop=True)\n",
    "_diff = scores_model_only.index.difference(scores_common.index)\n",
    "if not _diff.empty:\n",
    "    scores_model_only = (scores_model_only\n",
    "                         .loc[\n",
    "                             _diff,\n",
    "                             args.model_key]\n",
    "                         .sort_values(by='qvalue', ascending=True)\n",
    "                         .join(freq_feat.squeeze().rename(freq_feat.columns.droplevel()[0])\n",
    "                               )\n",
    "                         )\n",
    "    display(scores_model_only)\n",
    "else:\n",
    "    scores_model_only = None\n",
    "    logger.info(\"No features only in new comparision model.\")\n",
    "\n",
    "if not _diff.empty:\n",
    "    scores_model_only.to_excel(writer, 'only_model', **writer_args)\n",
    "    display(scores_model_only.rejected.value_counts())\n",
    "    scores_model_only_rejected = scores_model_only.loc[scores_model_only.rejected]\n",
    "    scores_model_only_rejected.to_excel(\n",
    "        writer, 'only_model_rejected', **writer_args)"
   ]
  },
  {
   "cell_type": "markdown",
   "id": "78b2c336",
   "metadata": {
    "papermill": {
     "duration": 0.044219,
     "end_time": "2025-01-18T04:30:08.954710",
     "exception": false,
     "start_time": "2025-01-18T04:30:08.910491",
     "status": "completed"
    },
    "tags": []
   },
   "source": [
    "## DISEASES DB lookup\n",
    "\n",
    "Query diseases database for gene associations with specified disease ontology id."
   ]
  },
  {
   "cell_type": "code",
   "execution_count": 23,
   "id": "d93a9242-0ef4-4fc7-bd98-226a93639f58",
   "metadata": {
    "execution": {
     "iopub.execute_input": "2025-01-18T04:30:08.994759Z",
     "iopub.status.busy": "2025-01-18T04:30:08.994263Z",
     "iopub.status.idle": "2025-01-18T04:30:11.296659Z",
     "shell.execute_reply": "2025-01-18T04:30:11.295922Z"
    },
    "papermill": {
     "duration": 2.316435,
     "end_time": "2025-01-18T04:30:11.298422",
     "exception": false,
     "start_time": "2025-01-18T04:30:08.981987",
     "status": "completed"
    },
    "tags": [
     "hide-input"
    ]
   },
   "outputs": [
    {
     "name": "stderr",
     "output_type": "stream",
     "text": [
      "pimmslearn.databases.diseases - WARNING  There are more associations available\n"
     ]
    },
    {
     "data": {
      "text/html": [
       "<div>\n",
       "<style scoped>\n",
       "    .dataframe tbody tr th:only-of-type {\n",
       "        vertical-align: middle;\n",
       "    }\n",
       "\n",
       "    .dataframe tbody tr th {\n",
       "        vertical-align: top;\n",
       "    }\n",
       "\n",
       "    .dataframe thead th {\n",
       "        text-align: right;\n",
       "    }\n",
       "</style>\n",
       "<table border=\"1\" class=\"dataframe\">\n",
       "  <thead>\n",
       "    <tr style=\"text-align: right;\">\n",
       "      <th></th>\n",
       "      <th>ENSP</th>\n",
       "      <th>score</th>\n",
       "    </tr>\n",
       "    <tr>\n",
       "      <th>None</th>\n",
       "      <th></th>\n",
       "      <th></th>\n",
       "    </tr>\n",
       "  </thead>\n",
       "  <tbody>\n",
       "    <tr>\n",
       "      <th>APP</th>\n",
       "      <td>ENSP00000284981</td>\n",
       "      <td>5.000</td>\n",
       "    </tr>\n",
       "    <tr>\n",
       "      <th>PSEN1</th>\n",
       "      <td>ENSP00000326366</td>\n",
       "      <td>5.000</td>\n",
       "    </tr>\n",
       "    <tr>\n",
       "      <th>PSEN2</th>\n",
       "      <td>ENSP00000355747</td>\n",
       "      <td>5.000</td>\n",
       "    </tr>\n",
       "    <tr>\n",
       "      <th>APOE</th>\n",
       "      <td>ENSP00000252486</td>\n",
       "      <td>5.000</td>\n",
       "    </tr>\n",
       "    <tr>\n",
       "      <th>MAPT</th>\n",
       "      <td>ENSP00000340820</td>\n",
       "      <td>4.800</td>\n",
       "    </tr>\n",
       "    <tr>\n",
       "      <th>...</th>\n",
       "      <td>...</td>\n",
       "      <td>...</td>\n",
       "    </tr>\n",
       "    <tr>\n",
       "      <th>MRPL1</th>\n",
       "      <td>ENSP00000315017</td>\n",
       "      <td>0.681</td>\n",
       "    </tr>\n",
       "    <tr>\n",
       "      <th>AASS</th>\n",
       "      <td>ENSP00000403768</td>\n",
       "      <td>0.681</td>\n",
       "    </tr>\n",
       "    <tr>\n",
       "      <th>MOB4</th>\n",
       "      <td>ENSP00000315702</td>\n",
       "      <td>0.681</td>\n",
       "    </tr>\n",
       "    <tr>\n",
       "      <th>FOXB1</th>\n",
       "      <td>ENSP00000379369</td>\n",
       "      <td>0.681</td>\n",
       "    </tr>\n",
       "    <tr>\n",
       "      <th>CLEC4M</th>\n",
       "      <td>ENSP00000316228</td>\n",
       "      <td>0.681</td>\n",
       "    </tr>\n",
       "  </tbody>\n",
       "</table>\n",
       "<p>10000 rows × 2 columns</p>\n",
       "</div>"
      ],
      "text/plain": [
       "                   ENSP  score\n",
       "None                          \n",
       "APP     ENSP00000284981  5.000\n",
       "PSEN1   ENSP00000326366  5.000\n",
       "PSEN2   ENSP00000355747  5.000\n",
       "APOE    ENSP00000252486  5.000\n",
       "MAPT    ENSP00000340820  4.800\n",
       "...                 ...    ...\n",
       "MRPL1   ENSP00000315017  0.681\n",
       "AASS    ENSP00000403768  0.681\n",
       "MOB4    ENSP00000315702  0.681\n",
       "FOXB1   ENSP00000379369  0.681\n",
       "CLEC4M  ENSP00000316228  0.681\n",
       "\n",
       "[10000 rows x 2 columns]"
      ]
     },
     "execution_count": 23,
     "metadata": {},
     "output_type": "execute_result"
    }
   ],
   "source": [
    "data = pimmslearn.databases.diseases.get_disease_association(\n",
    "    doid=args.disease_ontology, limit=10000)\n",
    "data = pd.DataFrame.from_dict(data, orient='index').rename_axis('ENSP', axis=0)\n",
    "data = data.rename(columns={'name': args.annotaitons_gene_col}).reset_index(\n",
    ").set_index(args.annotaitons_gene_col)\n",
    "data"
   ]
  },
  {
   "cell_type": "markdown",
   "id": "efe22443-2613-46ad-83c2-41048e13dd57",
   "metadata": {
    "papermill": {
     "duration": 0.023212,
     "end_time": "2025-01-18T04:30:11.344976",
     "exception": false,
     "start_time": "2025-01-18T04:30:11.321764",
     "status": "completed"
    },
    "tags": []
   },
   "source": [
    "## Shared features\n",
    "ToDo: new script -> DISEASES DB lookup"
   ]
  },
  {
   "cell_type": "code",
   "execution_count": null,
   "id": "5c26415e",
   "metadata": {
    "papermill": {
     "duration": 0.023299,
     "end_time": "2025-01-18T04:30:11.391436",
     "exception": false,
     "start_time": "2025-01-18T04:30:11.368137",
     "status": "completed"
    },
    "tags": [
     "hide-input"
    ]
   },
   "outputs": [],
   "source": []
  },
  {
   "cell_type": "code",
   "execution_count": 24,
   "id": "b68b43df",
   "metadata": {
    "execution": {
     "iopub.execute_input": "2025-01-18T04:30:11.440129Z",
     "iopub.status.busy": "2025-01-18T04:30:11.439635Z",
     "iopub.status.idle": "2025-01-18T04:30:11.445756Z",
     "shell.execute_reply": "2025-01-18T04:30:11.445051Z"
    },
    "papermill": {
     "duration": 0.031487,
     "end_time": "2025-01-18T04:30:11.446666",
     "exception": true,
     "start_time": "2025-01-18T04:30:11.415179",
     "status": "failed"
    },
    "tags": [
     "hide-input"
    ]
   },
   "outputs": [
    {
     "name": "stderr",
     "output_type": "stream",
     "text": [
      "root - INFO     No gene annotation in scores index:  ['protein groups', 'Source'] Exiting.\n"
     ]
    },
    {
     "ename": "SystemExit",
     "evalue": "0",
     "output_type": "error",
     "traceback": [
      "An exception has occurred, use %tb to see the full traceback.\n",
      "\u001b[0;31mSystemExit\u001b[0m\u001b[0;31m:\u001b[0m 0\n"
     ]
    },
    {
     "name": "stderr",
     "output_type": "stream",
     "text": [
      "/home/runner/work/pimms/pimms/project/.snakemake/conda/924ec7e362d761ecf0807b9074d79999_/lib/python3.12/site-packages/IPython/core/interactiveshell.py:3585: UserWarning: To exit: use 'exit', 'quit', or Ctrl-D.\n",
      "  warn(\"To exit: use 'exit', 'quit', or Ctrl-D.\", stacklevel=1)\n"
     ]
    }
   ],
   "source": [
    "feat_name = scores.index.names[0]  # first index level is feature name\n",
    "if args.annotaitons_gene_col in scores.index.names:\n",
    "    logger.info(f\"Found gene annotation in scores index:  {scores.index.names}\")\n",
    "else:\n",
    "    logger.info(f\"No gene annotation in scores index:  {scores.index.names}\"\n",
    "                \" Exiting.\")\n",
    "    import sys\n",
    "    sys.exit(0)"
   ]
  },
  {
   "cell_type": "code",
   "execution_count": null,
   "id": "f8d4a74d-5a9b-4d9b-9345-4288bb23e19f",
   "metadata": {
    "papermill": {
     "duration": null,
     "end_time": null,
     "exception": null,
     "start_time": null,
     "status": "pending"
    },
    "tags": [
     "hide-input"
    ]
   },
   "outputs": [],
   "source": [
    "gene_to_PG = (scores.droplevel(\n",
    "    list(set(scores.index.names) - {feat_name, args.annotaitons_gene_col})\n",
    ")\n",
    "    .index\n",
    "    .to_frame()\n",
    "    .reset_index(drop=True)\n",
    "    .set_index(args.annotaitons_gene_col)\n",
    ")\n",
    "gene_to_PG.head()"
   ]
  },
  {
   "cell_type": "code",
   "execution_count": null,
   "id": "d9e76def-b48a-458d-a90b-765e6e70f7a4",
   "metadata": {
    "papermill": {
     "duration": null,
     "end_time": null,
     "exception": null,
     "start_time": null,
     "status": "pending"
    },
    "tags": [
     "hide-input"
    ]
   },
   "outputs": [],
   "source": [
    "disease_associations_all = data.join(\n",
    "    gene_to_PG).dropna().reset_index().set_index(feat_name).join(annotations)\n",
    "disease_associations_all"
   ]
  },
  {
   "cell_type": "markdown",
   "id": "217972a3-ba4a-4f28-ab8f-25dc0f5e9ede",
   "metadata": {
    "papermill": {
     "duration": null,
     "end_time": null,
     "exception": null,
     "start_time": null,
     "status": "pending"
    },
    "tags": []
   },
   "source": [
    "## only by model"
   ]
  },
  {
   "cell_type": "code",
   "execution_count": null,
   "id": "8e9d6944-87ba-4c41-af14-fb5ed93262f0",
   "metadata": {
    "papermill": {
     "duration": null,
     "end_time": null,
     "exception": null,
     "start_time": null,
     "status": "pending"
    },
    "tags": [
     "hide-input"
    ]
   },
   "outputs": [],
   "source": [
    "idx = disease_associations_all.index.intersection(scores_model_only.index)\n",
    "disease_assocications_new = disease_associations_all.loc[idx].sort_values(\n",
    "    'score', ascending=False)\n",
    "disease_assocications_new.head(20)"
   ]
  },
  {
   "cell_type": "code",
   "execution_count": null,
   "id": "ceefc483-b889-4bab-b207-c8d5fd97fa4a",
   "metadata": {
    "papermill": {
     "duration": null,
     "end_time": null,
     "exception": null,
     "start_time": null,
     "status": "pending"
    },
    "tags": [
     "hide-input"
    ]
   },
   "outputs": [],
   "source": [
    "mask = disease_assocications_new.loc[idx, 'score'] >= 2.0\n",
    "disease_assocications_new.loc[idx].loc[mask]"
   ]
  },
  {
   "cell_type": "markdown",
   "id": "f85eede2-7b61-4285-ba8c-745f77f6ab22",
   "metadata": {
    "papermill": {
     "duration": null,
     "end_time": null,
     "exception": null,
     "start_time": null,
     "status": "pending"
    },
    "tags": []
   },
   "source": [
    "## Only by model which were significant"
   ]
  },
  {
   "cell_type": "code",
   "execution_count": null,
   "id": "4644759b-8cc2-4f99-a16c-16419cfb915c",
   "metadata": {
    "papermill": {
     "duration": null,
     "end_time": null,
     "exception": null,
     "start_time": null,
     "status": "pending"
    },
    "tags": [
     "hide-input"
    ]
   },
   "outputs": [],
   "source": [
    "idx = disease_associations_all.index.intersection(\n",
    "    scores_model_only_rejected.index)\n",
    "disease_assocications_new_rejected = disease_associations_all.loc[idx].sort_values(\n",
    "    'score', ascending=False)\n",
    "disease_assocications_new_rejected.head(20)"
   ]
  },
  {
   "cell_type": "code",
   "execution_count": null,
   "id": "365d8641-97a8-464f-b69b-270af9ae6e2d",
   "metadata": {
    "papermill": {
     "duration": null,
     "end_time": null,
     "exception": null,
     "start_time": null,
     "status": "pending"
    },
    "tags": [
     "hide-input"
    ]
   },
   "outputs": [],
   "source": [
    "mask = disease_assocications_new_rejected.loc[idx, 'score'] >= 2.0\n",
    "disease_assocications_new_rejected.loc[idx].loc[mask]"
   ]
  },
  {
   "cell_type": "markdown",
   "id": "4f22614b-e058-4e35-b8a9-141c291a93bc",
   "metadata": {
    "papermill": {
     "duration": null,
     "end_time": null,
     "exception": null,
     "start_time": null,
     "status": "pending"
    },
    "tags": []
   },
   "source": [
    "## Shared which are only significant for by model"
   ]
  },
  {
   "cell_type": "code",
   "execution_count": null,
   "id": "82eb2ba8-4fe7-431d-8095-5be43f7791b7",
   "metadata": {
    "papermill": {
     "duration": null,
     "end_time": null,
     "exception": null,
     "start_time": null,
     "status": "pending"
    },
    "tags": []
   },
   "outputs": [],
   "source": [
    "mask = (scores_common[(str(args.model_key), 'rejected')] & mask_different)\n",
    "mask.sum()"
   ]
  },
  {
   "cell_type": "code",
   "execution_count": null,
   "id": "6416d494-5f3e-4cf4-b766-b1f95e40ae1c",
   "metadata": {
    "papermill": {
     "duration": null,
     "end_time": null,
     "exception": null,
     "start_time": null,
     "status": "pending"
    },
    "tags": [
     "hide-input"
    ]
   },
   "outputs": [],
   "source": [
    "idx = disease_associations_all.index.intersection(mask.index[mask])\n",
    "disease_assocications_shared_rejected_by_model = (disease_associations_all.loc[idx].sort_values(\n",
    "    'score', ascending=False))\n",
    "disease_assocications_shared_rejected_by_model.head(20)"
   ]
  },
  {
   "cell_type": "code",
   "execution_count": null,
   "id": "10899e28-4aee-4d44-a542-e45be6699a1b",
   "metadata": {
    "papermill": {
     "duration": null,
     "end_time": null,
     "exception": null,
     "start_time": null,
     "status": "pending"
    },
    "tags": [
     "hide-input"
    ]
   },
   "outputs": [],
   "source": [
    "mask = disease_assocications_shared_rejected_by_model.loc[idx, 'score'] >= 2.0\n",
    "disease_assocications_shared_rejected_by_model.loc[idx].loc[mask]"
   ]
  },
  {
   "cell_type": "markdown",
   "id": "b6c082ea-7d92-4296-8ec9-d279509142a3",
   "metadata": {
    "papermill": {
     "duration": null,
     "end_time": null,
     "exception": null,
     "start_time": null,
     "status": "pending"
    },
    "tags": []
   },
   "source": [
    "## Only significant by RSN"
   ]
  },
  {
   "cell_type": "code",
   "execution_count": null,
   "id": "c59aae50-6877-47cc-99f6-646862d29121",
   "metadata": {
    "papermill": {
     "duration": null,
     "end_time": null,
     "exception": null,
     "start_time": null,
     "status": "pending"
    },
    "tags": []
   },
   "outputs": [],
   "source": [
    "mask = (scores_common[(str(args.baseline), 'rejected')] & mask_different)\n",
    "mask.sum()"
   ]
  },
  {
   "cell_type": "code",
   "execution_count": null,
   "id": "7780de55-c63b-4028-a6d0-58bce7be81da",
   "metadata": {
    "papermill": {
     "duration": null,
     "end_time": null,
     "exception": null,
     "start_time": null,
     "status": "pending"
    },
    "tags": [
     "hide-input"
    ]
   },
   "outputs": [],
   "source": [
    "idx = disease_associations_all.index.intersection(mask.index[mask])\n",
    "disease_assocications_shared_rejected_by_RSN = (\n",
    "    disease_associations_all\n",
    "    .loc[idx]\n",
    "    .sort_values('score', ascending=False))\n",
    "disease_assocications_shared_rejected_by_RSN.head(20)"
   ]
  },
  {
   "cell_type": "code",
   "execution_count": null,
   "id": "03115c8f-1f20-4b51-a78c-4d7c0317dc33",
   "metadata": {
    "papermill": {
     "duration": null,
     "end_time": null,
     "exception": null,
     "start_time": null,
     "status": "pending"
    },
    "tags": [
     "hide-input"
    ]
   },
   "outputs": [],
   "source": [
    "mask = disease_assocications_shared_rejected_by_RSN.loc[idx, 'score'] >= 2.0\n",
    "disease_assocications_shared_rejected_by_RSN.loc[idx].loc[mask]"
   ]
  },
  {
   "cell_type": "markdown",
   "id": "9d72708d-ad27-435b-b672-7dfe35283601",
   "metadata": {
    "papermill": {
     "duration": null,
     "end_time": null,
     "exception": null,
     "start_time": null,
     "status": "pending"
    },
    "tags": []
   },
   "source": [
    "## Write to excel"
   ]
  },
  {
   "cell_type": "code",
   "execution_count": null,
   "id": "91e7fbb7-69fd-4b4c-9bc2-40e8dd1907b3",
   "metadata": {
    "papermill": {
     "duration": null,
     "end_time": null,
     "exception": null,
     "start_time": null,
     "status": "pending"
    },
    "tags": [
     "hide-input"
    ]
   },
   "outputs": [],
   "source": [
    "disease_associations_all.to_excel(\n",
    "    writer, sheet_name='disease_assoc_all', **writer_args)\n",
    "disease_assocications_new.to_excel(\n",
    "    writer, sheet_name='disease_assoc_new', **writer_args)\n",
    "disease_assocications_new_rejected.to_excel(\n",
    "    writer, sheet_name='disease_assoc_new_rejected', **writer_args)"
   ]
  },
  {
   "cell_type": "markdown",
   "id": "52a42028-7e2d-47d5-be02-52f7ff1f3665",
   "metadata": {
    "papermill": {
     "duration": null,
     "end_time": null,
     "exception": null,
     "start_time": null,
     "status": "pending"
    },
    "tags": []
   },
   "source": [
    "## Outputs"
   ]
  },
  {
   "cell_type": "code",
   "execution_count": null,
   "id": "7f3a7433-3bf1-4168-8f16-eb6d415ef17f",
   "metadata": {
    "papermill": {
     "duration": null,
     "end_time": null,
     "exception": null,
     "start_time": null,
     "status": "pending"
    },
    "tags": [
     "hide-input"
    ]
   },
   "outputs": [],
   "source": [
    "writer.close()\n",
    "files_out"
   ]
  }
 ],
 "metadata": {
  "kernelspec": {
   "display_name": "Python 3",
   "language": "python",
   "name": "python3"
  },
  "language_info": {
   "codemirror_mode": {
    "name": "ipython",
    "version": 3
   },
   "file_extension": ".py",
   "mimetype": "text/x-python",
   "name": "python",
   "nbconvert_exporter": "python",
   "pygments_lexer": "ipython3",
   "version": "3.12.0"
  },
  "papermill": {
   "default_parameters": {},
   "duration": 12.647659,
   "end_time": "2025-01-18T04:30:12.391910",
   "environment_variables": {},
   "exception": true,
   "input_path": "10_2_ald_compare_methods.ipynb",
   "output_path": "runs/alzheimer_study/diff_analysis/AD/PI_vs_RF/10_2_ald_compare_methods.ipynb",
   "parameters": {
    "annotaitons_gene_col": "None",
    "baseline": "PI",
    "disease_ontology": 10652,
    "folder_experiment": "runs/alzheimer_study",
    "model_key": "RF",
    "out_folder": "diff_analysis",
    "target": "AD"
   },
   "start_time": "2025-01-18T04:29:59.744251",
   "version": "2.6.0"
  }
 },
 "nbformat": 4,
 "nbformat_minor": 5
}