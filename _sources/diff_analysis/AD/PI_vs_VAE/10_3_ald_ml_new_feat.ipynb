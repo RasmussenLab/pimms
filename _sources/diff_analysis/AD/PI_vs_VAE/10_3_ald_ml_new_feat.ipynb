{
 "cells": [
  {
   "cell_type": "markdown",
   "id": "d5f8edbd",
   "metadata": {
    "lines_to_next_cell": 2,
    "papermill": {
     "duration": 0.005882,
     "end_time": "2024-06-19T02:46:11.742879",
     "exception": false,
     "start_time": "2024-06-19T02:46:11.736997",
     "status": "completed"
    },
    "tags": []
   },
   "source": [
    "# Fit logistic regression model\n",
    "\n",
    "- based on different imputation methods\n",
    "- baseline: reference\n",
    "- model: any other selected imputation method"
   ]
  },
  {
   "cell_type": "code",
   "execution_count": 1,
   "id": "8d8c6764",
   "metadata": {
    "execution": {
     "iopub.execute_input": "2024-06-19T02:46:11.756173Z",
     "iopub.status.busy": "2024-06-19T02:46:11.755715Z",
     "iopub.status.idle": "2024-06-19T02:46:13.175242Z",
     "shell.execute_reply": "2024-06-19T02:46:13.174389Z"
    },
    "papermill": {
     "duration": 1.428234,
     "end_time": "2024-06-19T02:46:13.177355",
     "exception": false,
     "start_time": "2024-06-19T02:46:11.749121",
     "status": "completed"
    },
    "tags": [
     "hide-input"
    ]
   },
   "outputs": [],
   "source": [
    "import logging\n",
    "from pathlib import Path\n",
    "from typing import List\n",
    "\n",
    "import matplotlib.pyplot as plt\n",
    "import njab.sklearn\n",
    "import pandas as pd\n",
    "import sklearn\n",
    "from njab.plotting.metrics import plot_split_auc, plot_split_prc\n",
    "from njab.sklearn.types import Splits\n",
    "\n",
    "import vaep\n",
    "import vaep.analyzers\n",
    "import vaep.io.datasplits\n",
    "\n",
    "plt.rcParams['figure.figsize'] = (2.5, 2.5)\n",
    "plt.rcParams['lines.linewidth'] = 1\n",
    "plt.rcParams['lines.markersize'] = 2\n",
    "fontsize = 5\n",
    "figsize = (2.5, 2.5)\n",
    "vaep.plotting.make_large_descriptors(fontsize)\n",
    "\n",
    "\n",
    "logger = vaep.logging.setup_nb_logger()\n",
    "logging.getLogger('fontTools').setLevel(logging.ERROR)\n",
    "\n",
    "\n",
    "def parse_roc(*res: List[njab.sklearn.types.Results]) -> pd.DataFrame:\n",
    "    ret = list()\n",
    "    for _r in res:\n",
    "        _roc = (pd.DataFrame(_r.test.roc,\n",
    "                             index='fpr tpr cutoffs'.split()\n",
    "                             )).loc[['fpr', 'tpr']]\n",
    "        _roc = _roc.T\n",
    "        _roc.columns = pd.MultiIndex.from_product([[_r.name], _roc.columns])\n",
    "        ret.append(_roc)\n",
    "    ret = pd.concat(ret, axis=1)\n",
    "    return ret\n",
    "\n",
    "\n",
    "def parse_prc(*res: List[njab.sklearn.types.Results]) -> pd.DataFrame:\n",
    "    ret = list()\n",
    "    for _r in res:\n",
    "        _prc = pd.DataFrame(_r.test.prc,\n",
    "                            index='precision recall cutoffs'.split()\n",
    "                            ).loc[['precision', 'recall']]\n",
    "        _prc = _prc.T.rename(columns={'recall': 'tpr'})\n",
    "        _prc.columns = pd.MultiIndex.from_product([[_r.name], _prc.columns])\n",
    "        ret.append(_prc)\n",
    "    ret = pd.concat(ret, axis=1)\n",
    "    return ret\n",
    "\n",
    "\n",
    "# catch passed parameters\n",
    "args = None\n",
    "args = dict(globals()).keys()"
   ]
  },
  {
   "cell_type": "markdown",
   "id": "e1e67f6d",
   "metadata": {
    "papermill": {
     "duration": 0.008876,
     "end_time": "2024-06-19T02:46:13.196590",
     "exception": false,
     "start_time": "2024-06-19T02:46:13.187714",
     "status": "completed"
    },
    "tags": []
   },
   "source": [
    "## Parameters\n",
    "Default and set parameters for the notebook."
   ]
  },
  {
   "cell_type": "code",
   "execution_count": 2,
   "id": "443cd83d",
   "metadata": {
    "execution": {
     "iopub.execute_input": "2024-06-19T02:46:13.215733Z",
     "iopub.status.busy": "2024-06-19T02:46:13.215358Z",
     "iopub.status.idle": "2024-06-19T02:46:13.221581Z",
     "shell.execute_reply": "2024-06-19T02:46:13.220859Z"
    },
    "lines_to_next_cell": 2,
    "papermill": {
     "duration": 0.018218,
     "end_time": "2024-06-19T02:46:13.223591",
     "exception": false,
     "start_time": "2024-06-19T02:46:13.205373",
     "status": "completed"
    },
    "tags": [
     "parameters"
    ]
   },
   "outputs": [],
   "source": [
    "folder_data: str = ''  # specify data directory if needed\n",
    "fn_clinical_data = \"data/ALD_study/processed/ald_metadata_cli.csv\"\n",
    "folder_experiment = \"runs/appl_ald_data/plasma/proteinGroups\"\n",
    "model_key = 'VAE'\n",
    "target = 'kleiner'\n",
    "sample_id_col = 'Sample ID'\n",
    "cutoff_target: int = 2  # => for binarization target >= cutoff_target\n",
    "file_format = \"csv\"\n",
    "out_folder = 'diff_analysis'\n",
    "fn_qc_samples = ''  # 'data/ALD_study/processed/qc_plasma_proteinGroups.pkl'\n",
    "\n",
    "baseline = 'RSN'  # default is RSN, as this was used in the original ALD Niu. et. al 2022\n",
    "template_pred = 'pred_real_na_{}.csv'  # fixed, do not change"
   ]
  },
  {
   "cell_type": "code",
   "execution_count": 3,
   "id": "57b606c4",
   "metadata": {
    "execution": {
     "iopub.execute_input": "2024-06-19T02:46:13.244238Z",
     "iopub.status.busy": "2024-06-19T02:46:13.243861Z",
     "iopub.status.idle": "2024-06-19T02:46:13.248292Z",
     "shell.execute_reply": "2024-06-19T02:46:13.247608Z"
    },
    "papermill": {
     "duration": 0.018362,
     "end_time": "2024-06-19T02:46:13.251496",
     "exception": false,
     "start_time": "2024-06-19T02:46:13.233134",
     "status": "completed"
    },
    "tags": [
     "injected-parameters"
    ]
   },
   "outputs": [],
   "source": [
    "# Parameters\n",
    "cutoff_target = 0.5\n",
    "folder_experiment = \"runs/alzheimer_study\"\n",
    "target = \"AD\"\n",
    "baseline = \"PI\"\n",
    "model_key = \"VAE\"\n",
    "out_folder = \"diff_analysis\"\n",
    "fn_clinical_data = \"runs/alzheimer_study/data/clinical_data.csv\"\n"
   ]
  },
  {
   "cell_type": "code",
   "execution_count": 4,
   "id": "13538b85",
   "metadata": {
    "execution": {
     "iopub.execute_input": "2024-06-19T02:46:13.271093Z",
     "iopub.status.busy": "2024-06-19T02:46:13.270760Z",
     "iopub.status.idle": "2024-06-19T02:46:13.291840Z",
     "shell.execute_reply": "2024-06-19T02:46:13.290712Z"
    },
    "papermill": {
     "duration": 0.037716,
     "end_time": "2024-06-19T02:46:13.298350",
     "exception": false,
     "start_time": "2024-06-19T02:46:13.260634",
     "status": "completed"
    },
    "tags": [
     "hide-input"
    ]
   },
   "outputs": [
    {
     "name": "stderr",
     "output_type": "stream",
     "text": [
      "root - INFO     Removed from global namespace: folder_data\n"
     ]
    },
    {
     "name": "stderr",
     "output_type": "stream",
     "text": [
      "root - INFO     Removed from global namespace: fn_clinical_data\n"
     ]
    },
    {
     "name": "stderr",
     "output_type": "stream",
     "text": [
      "root - INFO     Removed from global namespace: folder_experiment\n"
     ]
    },
    {
     "name": "stderr",
     "output_type": "stream",
     "text": [
      "root - INFO     Removed from global namespace: model_key\n"
     ]
    },
    {
     "name": "stderr",
     "output_type": "stream",
     "text": [
      "root - INFO     Removed from global namespace: target\n"
     ]
    },
    {
     "name": "stderr",
     "output_type": "stream",
     "text": [
      "root - INFO     Removed from global namespace: sample_id_col\n"
     ]
    },
    {
     "name": "stderr",
     "output_type": "stream",
     "text": [
      "root - INFO     Removed from global namespace: cutoff_target\n"
     ]
    },
    {
     "name": "stderr",
     "output_type": "stream",
     "text": [
      "root - INFO     Removed from global namespace: file_format\n"
     ]
    },
    {
     "name": "stderr",
     "output_type": "stream",
     "text": [
      "root - INFO     Removed from global namespace: out_folder\n"
     ]
    },
    {
     "name": "stderr",
     "output_type": "stream",
     "text": [
      "root - INFO     Removed from global namespace: fn_qc_samples\n"
     ]
    },
    {
     "name": "stderr",
     "output_type": "stream",
     "text": [
      "root - INFO     Removed from global namespace: baseline\n"
     ]
    },
    {
     "name": "stderr",
     "output_type": "stream",
     "text": [
      "root - INFO     Removed from global namespace: template_pred\n"
     ]
    },
    {
     "name": "stderr",
     "output_type": "stream",
     "text": [
      "root - INFO     Already set attribute: folder_experiment has value runs/alzheimer_study\n"
     ]
    },
    {
     "name": "stderr",
     "output_type": "stream",
     "text": [
      "root - INFO     Already set attribute: out_folder has value diff_analysis\n"
     ]
    },
    {
     "data": {
      "text/plain": [
       "{'baseline': 'PI',\n",
       " 'cutoff_target': 0.5,\n",
       " 'data': PosixPath('runs/alzheimer_study/data'),\n",
       " 'file_format': 'csv',\n",
       " 'fn_clinical_data': 'runs/alzheimer_study/data/clinical_data.csv',\n",
       " 'fn_qc_samples': '',\n",
       " 'folder_data': '',\n",
       " 'folder_experiment': PosixPath('runs/alzheimer_study'),\n",
       " 'model_key': 'VAE',\n",
       " 'out_figures': PosixPath('runs/alzheimer_study/figures'),\n",
       " 'out_folder': PosixPath('runs/alzheimer_study/diff_analysis/AD/PI_vs_VAE'),\n",
       " 'out_metrics': PosixPath('runs/alzheimer_study'),\n",
       " 'out_models': PosixPath('runs/alzheimer_study'),\n",
       " 'out_preds': PosixPath('runs/alzheimer_study/preds'),\n",
       " 'sample_id_col': 'Sample ID',\n",
       " 'target': 'AD',\n",
       " 'template_pred': 'pred_real_na_{}.csv'}"
      ]
     },
     "execution_count": 4,
     "metadata": {},
     "output_type": "execute_result"
    }
   ],
   "source": [
    "params = vaep.nb.get_params(args, globals=globals())\n",
    "args = vaep.nb.Config()\n",
    "args.folder_experiment = Path(params[\"folder_experiment\"])\n",
    "args = vaep.nb.add_default_paths(args,\n",
    "                                 out_root=(args.folder_experiment\n",
    "                                           / params[\"out_folder\"]\n",
    "                                           / params[\"target\"]\n",
    "                                           / f\"{params['baseline']}_vs_{params['model_key']}\"))\n",
    "args.update_from_dict(params)\n",
    "files_out = dict()\n",
    "args"
   ]
  },
  {
   "cell_type": "markdown",
   "id": "1ca8264e",
   "metadata": {
    "papermill": {
     "duration": 0.010207,
     "end_time": "2024-06-19T02:46:13.319015",
     "exception": false,
     "start_time": "2024-06-19T02:46:13.308808",
     "status": "completed"
    },
    "tags": []
   },
   "source": [
    "## Load data\n",
    "\n",
    "### Load target"
   ]
  },
  {
   "cell_type": "code",
   "execution_count": 5,
   "id": "09ba8ea3",
   "metadata": {
    "execution": {
     "iopub.execute_input": "2024-06-19T02:46:13.340872Z",
     "iopub.status.busy": "2024-06-19T02:46:13.340516Z",
     "iopub.status.idle": "2024-06-19T02:46:13.356439Z",
     "shell.execute_reply": "2024-06-19T02:46:13.355718Z"
    },
    "papermill": {
     "duration": 0.029078,
     "end_time": "2024-06-19T02:46:13.358271",
     "exception": false,
     "start_time": "2024-06-19T02:46:13.329193",
     "status": "completed"
    },
    "tags": []
   },
   "outputs": [
    {
     "data": {
      "text/html": [
       "<div>\n",
       "<style scoped>\n",
       "    .dataframe tbody tr th:only-of-type {\n",
       "        vertical-align: middle;\n",
       "    }\n",
       "\n",
       "    .dataframe tbody tr th {\n",
       "        vertical-align: top;\n",
       "    }\n",
       "\n",
       "    .dataframe thead th {\n",
       "        text-align: right;\n",
       "    }\n",
       "</style>\n",
       "<table border=\"1\" class=\"dataframe\">\n",
       "  <thead>\n",
       "    <tr style=\"text-align: right;\">\n",
       "      <th></th>\n",
       "      <th>AD</th>\n",
       "    </tr>\n",
       "    <tr>\n",
       "      <th>Sample ID</th>\n",
       "      <th></th>\n",
       "    </tr>\n",
       "  </thead>\n",
       "  <tbody>\n",
       "    <tr>\n",
       "      <th>Sample_000</th>\n",
       "      <td>0</td>\n",
       "    </tr>\n",
       "    <tr>\n",
       "      <th>Sample_001</th>\n",
       "      <td>1</td>\n",
       "    </tr>\n",
       "    <tr>\n",
       "      <th>Sample_002</th>\n",
       "      <td>1</td>\n",
       "    </tr>\n",
       "    <tr>\n",
       "      <th>Sample_003</th>\n",
       "      <td>1</td>\n",
       "    </tr>\n",
       "    <tr>\n",
       "      <th>Sample_004</th>\n",
       "      <td>1</td>\n",
       "    </tr>\n",
       "    <tr>\n",
       "      <th>...</th>\n",
       "      <td>...</td>\n",
       "    </tr>\n",
       "    <tr>\n",
       "      <th>Sample_205</th>\n",
       "      <td>1</td>\n",
       "    </tr>\n",
       "    <tr>\n",
       "      <th>Sample_206</th>\n",
       "      <td>0</td>\n",
       "    </tr>\n",
       "    <tr>\n",
       "      <th>Sample_207</th>\n",
       "      <td>0</td>\n",
       "    </tr>\n",
       "    <tr>\n",
       "      <th>Sample_208</th>\n",
       "      <td>0</td>\n",
       "    </tr>\n",
       "    <tr>\n",
       "      <th>Sample_209</th>\n",
       "      <td>0</td>\n",
       "    </tr>\n",
       "  </tbody>\n",
       "</table>\n",
       "<p>210 rows × 1 columns</p>\n",
       "</div>"
      ],
      "text/plain": [
       "            AD\n",
       "Sample ID     \n",
       "Sample_000   0\n",
       "Sample_001   1\n",
       "Sample_002   1\n",
       "Sample_003   1\n",
       "Sample_004   1\n",
       "...         ..\n",
       "Sample_205   1\n",
       "Sample_206   0\n",
       "Sample_207   0\n",
       "Sample_208   0\n",
       "Sample_209   0\n",
       "\n",
       "[210 rows x 1 columns]"
      ]
     },
     "execution_count": 5,
     "metadata": {},
     "output_type": "execute_result"
    }
   ],
   "source": [
    "target = pd.read_csv(args.fn_clinical_data,\n",
    "                     index_col=0,\n",
    "                     usecols=[args.sample_id_col, args.target])\n",
    "target = target.dropna()\n",
    "target"
   ]
  },
  {
   "cell_type": "markdown",
   "id": "02bbf2a2",
   "metadata": {
    "papermill": {
     "duration": 0.007427,
     "end_time": "2024-06-19T02:46:13.374868",
     "exception": false,
     "start_time": "2024-06-19T02:46:13.367441",
     "status": "completed"
    },
    "tags": []
   },
   "source": [
    "### MS proteomics or specified omics data\n",
    "Aggregated from data splits of the imputation workflow run before."
   ]
  },
  {
   "cell_type": "code",
   "execution_count": 6,
   "id": "f4cd6005",
   "metadata": {
    "execution": {
     "iopub.execute_input": "2024-06-19T02:46:13.397357Z",
     "iopub.status.busy": "2024-06-19T02:46:13.396997Z",
     "iopub.status.idle": "2024-06-19T02:46:13.687968Z",
     "shell.execute_reply": "2024-06-19T02:46:13.687190Z"
    },
    "papermill": {
     "duration": 0.304342,
     "end_time": "2024-06-19T02:46:13.689643",
     "exception": false,
     "start_time": "2024-06-19T02:46:13.385301",
     "status": "completed"
    },
    "tags": [
     "hide-input"
    ]
   },
   "outputs": [
    {
     "name": "stderr",
     "output_type": "stream",
     "text": [
      "vaep.io.datasplits - INFO     Loaded 'train_X' from file: runs/alzheimer_study/data/train_X.csv\n"
     ]
    },
    {
     "name": "stderr",
     "output_type": "stream",
     "text": [
      "vaep.io.datasplits - INFO     Loaded 'val_y' from file: runs/alzheimer_study/data/val_y.csv\n"
     ]
    },
    {
     "name": "stderr",
     "output_type": "stream",
     "text": [
      "vaep.io.datasplits - INFO     Loaded 'test_y' from file: runs/alzheimer_study/data/test_y.csv\n"
     ]
    },
    {
     "data": {
      "text/plain": [
       "Sample ID   protein groups                                       \n",
       "Sample_146  P01031                                                  17.453\n",
       "Sample_060  A0A0U1RQV3;Q12805;Q12805-2;Q12805-3;Q12805-4;Q12805-5   20.852\n",
       "Sample_136  Q8N3G9;Q8N3G9-2                                         14.019\n",
       "Sample_154  Q96KR4;Q96KR4-3                                         15.425\n",
       "Sample_171  O43173                                                  16.042\n",
       "Name: intensity, dtype: float64"
      ]
     },
     "execution_count": 6,
     "metadata": {},
     "output_type": "execute_result"
    }
   ],
   "source": [
    "data = vaep.io.datasplits.DataSplits.from_folder(\n",
    "    args.data, file_format=args.file_format)\n",
    "data = pd.concat([data.train_X, data.val_y, data.test_y])\n",
    "data.sample(5)"
   ]
  },
  {
   "cell_type": "markdown",
   "id": "ac6b446e",
   "metadata": {
    "papermill": {
     "duration": 0.009761,
     "end_time": "2024-06-19T02:46:13.711246",
     "exception": false,
     "start_time": "2024-06-19T02:46:13.701485",
     "status": "completed"
    },
    "tags": []
   },
   "source": [
    "Get overlap between independent features and target"
   ]
  },
  {
   "cell_type": "markdown",
   "id": "c79ad218",
   "metadata": {
    "papermill": {
     "duration": 0.009552,
     "end_time": "2024-06-19T02:46:13.731075",
     "exception": false,
     "start_time": "2024-06-19T02:46:13.721523",
     "status": "completed"
    },
    "tags": []
   },
   "source": [
    "### Select by ALD criteria\n",
    "Use parameters as specified in [ALD study](https://github.com/RasmussenLab/pimms/tree/main/project/data/ALD_study)."
   ]
  },
  {
   "cell_type": "code",
   "execution_count": 7,
   "id": "3038462c",
   "metadata": {
    "execution": {
     "iopub.execute_input": "2024-06-19T02:46:13.753551Z",
     "iopub.status.busy": "2024-06-19T02:46:13.753246Z",
     "iopub.status.idle": "2024-06-19T02:46:13.865377Z",
     "shell.execute_reply": "2024-06-19T02:46:13.864337Z"
    },
    "papermill": {
     "duration": 0.124648,
     "end_time": "2024-06-19T02:46:13.867401",
     "exception": false,
     "start_time": "2024-06-19T02:46:13.742753",
     "status": "completed"
    },
    "tags": [
     "hide-input"
    ]
   },
   "outputs": [
    {
     "name": "stderr",
     "output_type": "stream",
     "text": [
      "root - INFO     Initally: N samples: 210, M feat: 1421\n"
     ]
    },
    {
     "name": "stderr",
     "output_type": "stream",
     "text": [
      "root - INFO     Dropped features quantified in less than 126 samples.\n"
     ]
    },
    {
     "name": "stderr",
     "output_type": "stream",
     "text": [
      "root - INFO     After feat selection: N samples: 210, M feat: 1213\n"
     ]
    },
    {
     "name": "stderr",
     "output_type": "stream",
     "text": [
      "root - INFO     Min No. of Protein-Groups in single sample: 754\n"
     ]
    },
    {
     "name": "stderr",
     "output_type": "stream",
     "text": [
      "root - INFO     Finally: N samples: 210, M feat: 1213\n"
     ]
    },
    {
     "data": {
      "text/html": [
       "<div>\n",
       "<style scoped>\n",
       "    .dataframe tbody tr th:only-of-type {\n",
       "        vertical-align: middle;\n",
       "    }\n",
       "\n",
       "    .dataframe tbody tr th {\n",
       "        vertical-align: top;\n",
       "    }\n",
       "\n",
       "    .dataframe thead th {\n",
       "        text-align: right;\n",
       "    }\n",
       "</style>\n",
       "<table border=\"1\" class=\"dataframe\">\n",
       "  <thead>\n",
       "    <tr style=\"text-align: right;\">\n",
       "      <th>protein groups</th>\n",
       "      <th>A0A024QZX5;A0A087X1N8;P35237</th>\n",
       "      <th>A0A024R0T9;K7ER74;P02655</th>\n",
       "      <th>A0A024R3W6;A0A024R412;O60462;O60462-2;O60462-3;O60462-4;O60462-5;Q7LBX6;X5D2Q8</th>\n",
       "      <th>A0A024R644;A0A0A0MRU5;A0A1B0GWI2;O75503</th>\n",
       "      <th>A0A075B6H9</th>\n",
       "      <th>A0A075B6I0</th>\n",
       "      <th>A0A075B6I1</th>\n",
       "      <th>A0A075B6I6</th>\n",
       "      <th>A0A075B6I9</th>\n",
       "      <th>A0A075B6J9</th>\n",
       "      <th>...</th>\n",
       "      <th>Q9Y653;Q9Y653-2;Q9Y653-3</th>\n",
       "      <th>Q9Y696</th>\n",
       "      <th>Q9Y6C2</th>\n",
       "      <th>Q9Y6N6</th>\n",
       "      <th>Q9Y6N7;Q9Y6N7-2;Q9Y6N7-4</th>\n",
       "      <th>Q9Y6R7</th>\n",
       "      <th>Q9Y6X5</th>\n",
       "      <th>Q9Y6Y8;Q9Y6Y8-2</th>\n",
       "      <th>Q9Y6Y9</th>\n",
       "      <th>S4R3U6</th>\n",
       "    </tr>\n",
       "    <tr>\n",
       "      <th>Sample ID</th>\n",
       "      <th></th>\n",
       "      <th></th>\n",
       "      <th></th>\n",
       "      <th></th>\n",
       "      <th></th>\n",
       "      <th></th>\n",
       "      <th></th>\n",
       "      <th></th>\n",
       "      <th></th>\n",
       "      <th></th>\n",
       "      <th></th>\n",
       "      <th></th>\n",
       "      <th></th>\n",
       "      <th></th>\n",
       "      <th></th>\n",
       "      <th></th>\n",
       "      <th></th>\n",
       "      <th></th>\n",
       "      <th></th>\n",
       "      <th></th>\n",
       "      <th></th>\n",
       "    </tr>\n",
       "  </thead>\n",
       "  <tbody>\n",
       "    <tr>\n",
       "      <th>Sample_000</th>\n",
       "      <td>15.912</td>\n",
       "      <td>16.852</td>\n",
       "      <td>15.570</td>\n",
       "      <td>16.481</td>\n",
       "      <td>20.246</td>\n",
       "      <td>16.764</td>\n",
       "      <td>17.584</td>\n",
       "      <td>16.988</td>\n",
       "      <td>20.054</td>\n",
       "      <td>NaN</td>\n",
       "      <td>...</td>\n",
       "      <td>16.012</td>\n",
       "      <td>15.178</td>\n",
       "      <td>NaN</td>\n",
       "      <td>15.050</td>\n",
       "      <td>16.842</td>\n",
       "      <td>19.863</td>\n",
       "      <td>NaN</td>\n",
       "      <td>19.563</td>\n",
       "      <td>12.837</td>\n",
       "      <td>12.805</td>\n",
       "    </tr>\n",
       "    <tr>\n",
       "      <th>Sample_001</th>\n",
       "      <td>15.936</td>\n",
       "      <td>16.874</td>\n",
       "      <td>15.519</td>\n",
       "      <td>16.387</td>\n",
       "      <td>19.941</td>\n",
       "      <td>18.786</td>\n",
       "      <td>17.144</td>\n",
       "      <td>NaN</td>\n",
       "      <td>19.067</td>\n",
       "      <td>16.188</td>\n",
       "      <td>...</td>\n",
       "      <td>15.528</td>\n",
       "      <td>15.576</td>\n",
       "      <td>NaN</td>\n",
       "      <td>14.833</td>\n",
       "      <td>16.597</td>\n",
       "      <td>20.299</td>\n",
       "      <td>15.556</td>\n",
       "      <td>19.386</td>\n",
       "      <td>13.970</td>\n",
       "      <td>12.442</td>\n",
       "    </tr>\n",
       "    <tr>\n",
       "      <th>Sample_002</th>\n",
       "      <td>16.111</td>\n",
       "      <td>14.523</td>\n",
       "      <td>15.935</td>\n",
       "      <td>16.416</td>\n",
       "      <td>19.251</td>\n",
       "      <td>16.832</td>\n",
       "      <td>15.671</td>\n",
       "      <td>17.012</td>\n",
       "      <td>18.569</td>\n",
       "      <td>NaN</td>\n",
       "      <td>...</td>\n",
       "      <td>15.229</td>\n",
       "      <td>14.728</td>\n",
       "      <td>13.757</td>\n",
       "      <td>15.118</td>\n",
       "      <td>17.440</td>\n",
       "      <td>19.598</td>\n",
       "      <td>15.735</td>\n",
       "      <td>20.447</td>\n",
       "      <td>12.636</td>\n",
       "      <td>12.505</td>\n",
       "    </tr>\n",
       "    <tr>\n",
       "      <th>Sample_003</th>\n",
       "      <td>16.107</td>\n",
       "      <td>17.032</td>\n",
       "      <td>15.802</td>\n",
       "      <td>16.979</td>\n",
       "      <td>19.628</td>\n",
       "      <td>17.852</td>\n",
       "      <td>18.877</td>\n",
       "      <td>14.182</td>\n",
       "      <td>18.985</td>\n",
       "      <td>13.438</td>\n",
       "      <td>...</td>\n",
       "      <td>15.495</td>\n",
       "      <td>14.590</td>\n",
       "      <td>14.682</td>\n",
       "      <td>15.140</td>\n",
       "      <td>17.356</td>\n",
       "      <td>19.429</td>\n",
       "      <td>NaN</td>\n",
       "      <td>20.216</td>\n",
       "      <td>12.627</td>\n",
       "      <td>12.445</td>\n",
       "    </tr>\n",
       "    <tr>\n",
       "      <th>Sample_004</th>\n",
       "      <td>15.603</td>\n",
       "      <td>15.331</td>\n",
       "      <td>15.375</td>\n",
       "      <td>16.679</td>\n",
       "      <td>20.450</td>\n",
       "      <td>18.682</td>\n",
       "      <td>17.081</td>\n",
       "      <td>14.140</td>\n",
       "      <td>19.686</td>\n",
       "      <td>14.495</td>\n",
       "      <td>...</td>\n",
       "      <td>14.757</td>\n",
       "      <td>15.094</td>\n",
       "      <td>14.048</td>\n",
       "      <td>15.256</td>\n",
       "      <td>17.075</td>\n",
       "      <td>19.582</td>\n",
       "      <td>15.328</td>\n",
       "      <td>19.867</td>\n",
       "      <td>13.145</td>\n",
       "      <td>12.235</td>\n",
       "    </tr>\n",
       "    <tr>\n",
       "      <th>...</th>\n",
       "      <td>...</td>\n",
       "      <td>...</td>\n",
       "      <td>...</td>\n",
       "      <td>...</td>\n",
       "      <td>...</td>\n",
       "      <td>...</td>\n",
       "      <td>...</td>\n",
       "      <td>...</td>\n",
       "      <td>...</td>\n",
       "      <td>...</td>\n",
       "      <td>...</td>\n",
       "      <td>...</td>\n",
       "      <td>...</td>\n",
       "      <td>...</td>\n",
       "      <td>...</td>\n",
       "      <td>...</td>\n",
       "      <td>...</td>\n",
       "      <td>...</td>\n",
       "      <td>...</td>\n",
       "      <td>...</td>\n",
       "      <td>...</td>\n",
       "    </tr>\n",
       "    <tr>\n",
       "      <th>Sample_205</th>\n",
       "      <td>15.682</td>\n",
       "      <td>16.886</td>\n",
       "      <td>14.910</td>\n",
       "      <td>16.482</td>\n",
       "      <td>17.705</td>\n",
       "      <td>17.039</td>\n",
       "      <td>NaN</td>\n",
       "      <td>16.413</td>\n",
       "      <td>19.102</td>\n",
       "      <td>16.064</td>\n",
       "      <td>...</td>\n",
       "      <td>15.235</td>\n",
       "      <td>15.684</td>\n",
       "      <td>14.236</td>\n",
       "      <td>15.415</td>\n",
       "      <td>17.551</td>\n",
       "      <td>17.922</td>\n",
       "      <td>16.340</td>\n",
       "      <td>19.928</td>\n",
       "      <td>12.929</td>\n",
       "      <td>11.802</td>\n",
       "    </tr>\n",
       "    <tr>\n",
       "      <th>Sample_206</th>\n",
       "      <td>15.798</td>\n",
       "      <td>17.554</td>\n",
       "      <td>15.600</td>\n",
       "      <td>15.938</td>\n",
       "      <td>18.154</td>\n",
       "      <td>18.152</td>\n",
       "      <td>16.503</td>\n",
       "      <td>16.860</td>\n",
       "      <td>18.538</td>\n",
       "      <td>15.288</td>\n",
       "      <td>...</td>\n",
       "      <td>15.422</td>\n",
       "      <td>16.106</td>\n",
       "      <td>NaN</td>\n",
       "      <td>15.345</td>\n",
       "      <td>17.084</td>\n",
       "      <td>18.708</td>\n",
       "      <td>14.249</td>\n",
       "      <td>19.433</td>\n",
       "      <td>NaN</td>\n",
       "      <td>NaN</td>\n",
       "    </tr>\n",
       "    <tr>\n",
       "      <th>Sample_207</th>\n",
       "      <td>15.739</td>\n",
       "      <td>16.877</td>\n",
       "      <td>15.469</td>\n",
       "      <td>16.898</td>\n",
       "      <td>18.636</td>\n",
       "      <td>17.950</td>\n",
       "      <td>16.321</td>\n",
       "      <td>16.401</td>\n",
       "      <td>18.849</td>\n",
       "      <td>17.580</td>\n",
       "      <td>...</td>\n",
       "      <td>15.808</td>\n",
       "      <td>16.098</td>\n",
       "      <td>14.403</td>\n",
       "      <td>15.715</td>\n",
       "      <td>16.586</td>\n",
       "      <td>18.725</td>\n",
       "      <td>16.138</td>\n",
       "      <td>19.599</td>\n",
       "      <td>13.637</td>\n",
       "      <td>11.174</td>\n",
       "    </tr>\n",
       "    <tr>\n",
       "      <th>Sample_208</th>\n",
       "      <td>15.477</td>\n",
       "      <td>16.779</td>\n",
       "      <td>14.995</td>\n",
       "      <td>16.132</td>\n",
       "      <td>14.908</td>\n",
       "      <td>17.530</td>\n",
       "      <td>NaN</td>\n",
       "      <td>16.119</td>\n",
       "      <td>18.368</td>\n",
       "      <td>15.202</td>\n",
       "      <td>...</td>\n",
       "      <td>15.157</td>\n",
       "      <td>16.712</td>\n",
       "      <td>NaN</td>\n",
       "      <td>14.640</td>\n",
       "      <td>16.533</td>\n",
       "      <td>19.411</td>\n",
       "      <td>15.807</td>\n",
       "      <td>19.545</td>\n",
       "      <td>13.216</td>\n",
       "      <td>NaN</td>\n",
       "    </tr>\n",
       "    <tr>\n",
       "      <th>Sample_209</th>\n",
       "      <td>15.727</td>\n",
       "      <td>17.261</td>\n",
       "      <td>15.175</td>\n",
       "      <td>16.235</td>\n",
       "      <td>17.893</td>\n",
       "      <td>17.744</td>\n",
       "      <td>16.371</td>\n",
       "      <td>15.780</td>\n",
       "      <td>18.806</td>\n",
       "      <td>16.532</td>\n",
       "      <td>...</td>\n",
       "      <td>15.237</td>\n",
       "      <td>15.652</td>\n",
       "      <td>15.211</td>\n",
       "      <td>14.205</td>\n",
       "      <td>16.749</td>\n",
       "      <td>19.275</td>\n",
       "      <td>15.732</td>\n",
       "      <td>19.577</td>\n",
       "      <td>11.042</td>\n",
       "      <td>11.791</td>\n",
       "    </tr>\n",
       "  </tbody>\n",
       "</table>\n",
       "<p>210 rows × 1213 columns</p>\n",
       "</div>"
      ],
      "text/plain": [
       "protein groups  A0A024QZX5;A0A087X1N8;P35237  A0A024R0T9;K7ER74;P02655  \\\n",
       "Sample ID                                                                \n",
       "Sample_000                            15.912                    16.852   \n",
       "Sample_001                            15.936                    16.874   \n",
       "Sample_002                            16.111                    14.523   \n",
       "Sample_003                            16.107                    17.032   \n",
       "Sample_004                            15.603                    15.331   \n",
       "...                                      ...                       ...   \n",
       "Sample_205                            15.682                    16.886   \n",
       "Sample_206                            15.798                    17.554   \n",
       "Sample_207                            15.739                    16.877   \n",
       "Sample_208                            15.477                    16.779   \n",
       "Sample_209                            15.727                    17.261   \n",
       "\n",
       "protein groups  A0A024R3W6;A0A024R412;O60462;O60462-2;O60462-3;O60462-4;O60462-5;Q7LBX6;X5D2Q8  \\\n",
       "Sample ID                                                                                        \n",
       "Sample_000                                                 15.570                                \n",
       "Sample_001                                                 15.519                                \n",
       "Sample_002                                                 15.935                                \n",
       "Sample_003                                                 15.802                                \n",
       "Sample_004                                                 15.375                                \n",
       "...                                                           ...                                \n",
       "Sample_205                                                 14.910                                \n",
       "Sample_206                                                 15.600                                \n",
       "Sample_207                                                 15.469                                \n",
       "Sample_208                                                 14.995                                \n",
       "Sample_209                                                 15.175                                \n",
       "\n",
       "protein groups  A0A024R644;A0A0A0MRU5;A0A1B0GWI2;O75503  A0A075B6H9  \\\n",
       "Sample ID                                                             \n",
       "Sample_000                                       16.481      20.246   \n",
       "Sample_001                                       16.387      19.941   \n",
       "Sample_002                                       16.416      19.251   \n",
       "Sample_003                                       16.979      19.628   \n",
       "Sample_004                                       16.679      20.450   \n",
       "...                                                 ...         ...   \n",
       "Sample_205                                       16.482      17.705   \n",
       "Sample_206                                       15.938      18.154   \n",
       "Sample_207                                       16.898      18.636   \n",
       "Sample_208                                       16.132      14.908   \n",
       "Sample_209                                       16.235      17.893   \n",
       "\n",
       "protein groups  A0A075B6I0  A0A075B6I1  A0A075B6I6  A0A075B6I9  A0A075B6J9  \\\n",
       "Sample ID                                                                    \n",
       "Sample_000          16.764      17.584      16.988      20.054         NaN   \n",
       "Sample_001          18.786      17.144         NaN      19.067      16.188   \n",
       "Sample_002          16.832      15.671      17.012      18.569         NaN   \n",
       "Sample_003          17.852      18.877      14.182      18.985      13.438   \n",
       "Sample_004          18.682      17.081      14.140      19.686      14.495   \n",
       "...                    ...         ...         ...         ...         ...   \n",
       "Sample_205          17.039         NaN      16.413      19.102      16.064   \n",
       "Sample_206          18.152      16.503      16.860      18.538      15.288   \n",
       "Sample_207          17.950      16.321      16.401      18.849      17.580   \n",
       "Sample_208          17.530         NaN      16.119      18.368      15.202   \n",
       "Sample_209          17.744      16.371      15.780      18.806      16.532   \n",
       "\n",
       "protein groups  ...  Q9Y653;Q9Y653-2;Q9Y653-3  Q9Y696  Q9Y6C2  Q9Y6N6  \\\n",
       "Sample ID       ...                                                     \n",
       "Sample_000      ...                    16.012  15.178     NaN  15.050   \n",
       "Sample_001      ...                    15.528  15.576     NaN  14.833   \n",
       "Sample_002      ...                    15.229  14.728  13.757  15.118   \n",
       "Sample_003      ...                    15.495  14.590  14.682  15.140   \n",
       "Sample_004      ...                    14.757  15.094  14.048  15.256   \n",
       "...             ...                       ...     ...     ...     ...   \n",
       "Sample_205      ...                    15.235  15.684  14.236  15.415   \n",
       "Sample_206      ...                    15.422  16.106     NaN  15.345   \n",
       "Sample_207      ...                    15.808  16.098  14.403  15.715   \n",
       "Sample_208      ...                    15.157  16.712     NaN  14.640   \n",
       "Sample_209      ...                    15.237  15.652  15.211  14.205   \n",
       "\n",
       "protein groups  Q9Y6N7;Q9Y6N7-2;Q9Y6N7-4  Q9Y6R7  Q9Y6X5  Q9Y6Y8;Q9Y6Y8-2  \\\n",
       "Sample ID                                                                   \n",
       "Sample_000                        16.842  19.863     NaN           19.563   \n",
       "Sample_001                        16.597  20.299  15.556           19.386   \n",
       "Sample_002                        17.440  19.598  15.735           20.447   \n",
       "Sample_003                        17.356  19.429     NaN           20.216   \n",
       "Sample_004                        17.075  19.582  15.328           19.867   \n",
       "...                                  ...     ...     ...              ...   \n",
       "Sample_205                        17.551  17.922  16.340           19.928   \n",
       "Sample_206                        17.084  18.708  14.249           19.433   \n",
       "Sample_207                        16.586  18.725  16.138           19.599   \n",
       "Sample_208                        16.533  19.411  15.807           19.545   \n",
       "Sample_209                        16.749  19.275  15.732           19.577   \n",
       "\n",
       "protein groups  Q9Y6Y9  S4R3U6  \n",
       "Sample ID                       \n",
       "Sample_000      12.837  12.805  \n",
       "Sample_001      13.970  12.442  \n",
       "Sample_002      12.636  12.505  \n",
       "Sample_003      12.627  12.445  \n",
       "Sample_004      13.145  12.235  \n",
       "...                ...     ...  \n",
       "Sample_205      12.929  11.802  \n",
       "Sample_206         NaN     NaN  \n",
       "Sample_207      13.637  11.174  \n",
       "Sample_208      13.216     NaN  \n",
       "Sample_209      11.042  11.791  \n",
       "\n",
       "[210 rows x 1213 columns]"
      ]
     },
     "execution_count": 7,
     "metadata": {},
     "output_type": "execute_result"
    }
   ],
   "source": [
    "DATA_COMPLETENESS = 0.6\n",
    "MIN_N_PROTEIN_GROUPS: int = 200\n",
    "FRAC_PROTEIN_GROUPS: int = 0.622\n",
    "CV_QC_SAMPLE: float = 0.4\n",
    "\n",
    "ald_study, cutoffs = vaep.analyzers.diff_analysis.select_raw_data(data.unstack(\n",
    "), data_completeness=DATA_COMPLETENESS, frac_protein_groups=FRAC_PROTEIN_GROUPS)\n",
    "\n",
    "if args.fn_qc_samples:\n",
    "    qc_samples = pd.read_pickle(args.fn_qc_samples)\n",
    "    qc_samples = qc_samples[ald_study.columns]\n",
    "    qc_cv_feat = qc_samples.std() / qc_samples.mean()\n",
    "    qc_cv_feat = qc_cv_feat.rename(qc_samples.columns.name)\n",
    "    fig, ax = plt.subplots(figsize=(4, 7))\n",
    "    ax = qc_cv_feat.plot.box(ax=ax)\n",
    "    ax.set_ylabel('Coefficient of Variation')\n",
    "    print((qc_cv_feat < CV_QC_SAMPLE).value_counts())\n",
    "    ald_study = ald_study[vaep.analyzers.diff_analysis.select_feat(qc_samples)]\n",
    "\n",
    "column_name_first_prot_to_pg = {\n",
    "    pg.split(';')[0]: pg for pg in data.unstack().columns}\n",
    "\n",
    "ald_study = ald_study.rename(columns=column_name_first_prot_to_pg)\n",
    "ald_study"
   ]
  },
  {
   "cell_type": "markdown",
   "id": "e0e04598",
   "metadata": {
    "papermill": {
     "duration": 0.010712,
     "end_time": "2024-06-19T02:46:13.890874",
     "exception": false,
     "start_time": "2024-06-19T02:46:13.880162",
     "status": "completed"
    },
    "tags": []
   },
   "source": [
    "Number of complete cases which can be used:"
   ]
  },
  {
   "cell_type": "code",
   "execution_count": 8,
   "id": "3a9e70e6",
   "metadata": {
    "execution": {
     "iopub.execute_input": "2024-06-19T02:46:13.920300Z",
     "iopub.status.busy": "2024-06-19T02:46:13.919951Z",
     "iopub.status.idle": "2024-06-19T02:46:14.005725Z",
     "shell.execute_reply": "2024-06-19T02:46:14.004956Z"
    },
    "papermill": {
     "duration": 0.105571,
     "end_time": "2024-06-19T02:46:14.007637",
     "exception": false,
     "start_time": "2024-06-19T02:46:13.902066",
     "status": "completed"
    },
    "tags": [
     "hide-input"
    ]
   },
   "outputs": [
    {
     "name": "stdout",
     "output_type": "stream",
     "text": [
      "Samples available both in proteomics data and for target: 210\n"
     ]
    }
   ],
   "source": [
    "mask_has_target = data.index.levels[0].intersection(target.index)\n",
    "assert not mask_has_target.empty, f\"No data for target: {data.index.levels[0]} and {target.index}\"\n",
    "print(\n",
    "    f\"Samples available both in proteomics data and for target: {len(mask_has_target)}\")\n",
    "target, data, ald_study = target.loc[mask_has_target], data.loc[mask_has_target], ald_study.loc[mask_has_target]"
   ]
  },
  {
   "cell_type": "markdown",
   "id": "fcc05bf5",
   "metadata": {
    "papermill": {
     "duration": 0.01041,
     "end_time": "2024-06-19T02:46:14.030539",
     "exception": false,
     "start_time": "2024-06-19T02:46:14.020129",
     "status": "completed"
    },
    "tags": []
   },
   "source": [
    "### Load imputations from specified model"
   ]
  },
  {
   "cell_type": "code",
   "execution_count": 9,
   "id": "5f072d5f",
   "metadata": {
    "execution": {
     "iopub.execute_input": "2024-06-19T02:46:14.054385Z",
     "iopub.status.busy": "2024-06-19T02:46:14.054049Z",
     "iopub.status.idle": "2024-06-19T02:46:14.113199Z",
     "shell.execute_reply": "2024-06-19T02:46:14.112441Z"
    },
    "papermill": {
     "duration": 0.072654,
     "end_time": "2024-06-19T02:46:14.115004",
     "exception": false,
     "start_time": "2024-06-19T02:46:14.042350",
     "status": "completed"
    },
    "tags": [
     "hide-input"
    ]
   },
   "outputs": [
    {
     "name": "stdout",
     "output_type": "stream",
     "text": [
      "missing values pred. by VAE: runs/alzheimer_study/preds/pred_real_na_VAE.csv\n"
     ]
    },
    {
     "data": {
      "text/plain": [
       "Sample ID   protein groups                                                \n",
       "Sample_084  Q6PCB0                                                           12.978\n",
       "Sample_043  P01282;P01282-2                                                  18.092\n",
       "Sample_089  F5GWE5;I3L2X8;I3L3W1;I3L459;I3L471;I3L4C0;I3L4H1;I3L4U7;Q00169   11.736\n",
       "Name: intensity, dtype: float64"
      ]
     },
     "execution_count": 9,
     "metadata": {},
     "output_type": "execute_result"
    }
   ],
   "source": [
    "fname = args.out_preds / args.template_pred.format(args.model_key)\n",
    "print(f\"missing values pred. by {args.model_key}: {fname}\")\n",
    "load_single_csv_pred_file = vaep.analyzers.compare_predictions.load_single_csv_pred_file\n",
    "pred_real_na = load_single_csv_pred_file(fname).loc[mask_has_target]\n",
    "pred_real_na.sample(3)"
   ]
  },
  {
   "cell_type": "markdown",
   "id": "eadd9ea6",
   "metadata": {
    "papermill": {
     "duration": 0.012349,
     "end_time": "2024-06-19T02:46:14.139941",
     "exception": false,
     "start_time": "2024-06-19T02:46:14.127592",
     "status": "completed"
    },
    "tags": []
   },
   "source": [
    "### Load imputations from baseline model"
   ]
  },
  {
   "cell_type": "code",
   "execution_count": 10,
   "id": "0f2dd584",
   "metadata": {
    "execution": {
     "iopub.execute_input": "2024-06-19T02:46:14.165974Z",
     "iopub.status.busy": "2024-06-19T02:46:14.165181Z",
     "iopub.status.idle": "2024-06-19T02:46:14.210406Z",
     "shell.execute_reply": "2024-06-19T02:46:14.209672Z"
    },
    "papermill": {
     "duration": 0.059609,
     "end_time": "2024-06-19T02:46:14.212108",
     "exception": false,
     "start_time": "2024-06-19T02:46:14.152499",
     "status": "completed"
    },
    "tags": [
     "hide-input"
    ]
   },
   "outputs": [
    {
     "data": {
      "text/plain": [
       "Sample ID   protein groups          \n",
       "Sample_000  A0A075B6J9                 12.508\n",
       "            A0A075B6Q5                 12.381\n",
       "            A0A075B6R2                 12.452\n",
       "            A0A075B6S5                 14.006\n",
       "            A0A087WSY4                 13.351\n",
       "                                        ...  \n",
       "Sample_209  Q9P1W8;Q9P1W8-2;Q9P1W8-4   12.983\n",
       "            Q9UI40;Q9UI40-2            12.846\n",
       "            Q9UIW2                     12.575\n",
       "            Q9UMX0;Q9UMX0-2;Q9UMX0-4   12.414\n",
       "            Q9UP79                     11.758\n",
       "Name: intensity, Length: 46401, dtype: float64"
      ]
     },
     "execution_count": 10,
     "metadata": {},
     "output_type": "execute_result"
    }
   ],
   "source": [
    "fname = args.out_preds / args.template_pred.format(args.baseline)\n",
    "pred_real_na_baseline = load_single_csv_pred_file(fname)  # .loc[mask_has_target]\n",
    "pred_real_na_baseline"
   ]
  },
  {
   "cell_type": "markdown",
   "id": "8fa21c8b",
   "metadata": {
    "papermill": {
     "duration": 0.013113,
     "end_time": "2024-06-19T02:46:14.239596",
     "exception": false,
     "start_time": "2024-06-19T02:46:14.226483",
     "status": "completed"
    },
    "tags": []
   },
   "source": [
    "## Modeling setup\n",
    "General approach:\n",
    "  - use one train, test split of the data\n",
    "  - select best 10 features from training data `X_train`, `y_train` before binarization of target\n",
    "  - dichotomize (binarize) data into to groups (zero and 1)\n",
    "  - evaluate model on the test data `X_test`, `y_test`\n",
    "\n",
    "Repeat general approach for\n",
    " 1. all original ald data: all features justed in original ALD study\n",
    " 2. all model data: all features available my using the self supervised deep learning model\n",
    " 3. newly available feat only: the subset of features available from the\n",
    "    self supervised deep learning model which were newly retained using the\n",
    "    new approach\n",
    "\n",
    "All data:"
   ]
  },
  {
   "cell_type": "code",
   "execution_count": 11,
   "id": "f457863e",
   "metadata": {
    "execution": {
     "iopub.execute_input": "2024-06-19T02:46:14.302859Z",
     "iopub.status.busy": "2024-06-19T02:46:14.302512Z",
     "iopub.status.idle": "2024-06-19T02:46:14.425220Z",
     "shell.execute_reply": "2024-06-19T02:46:14.424590Z"
    },
    "papermill": {
     "duration": 0.174542,
     "end_time": "2024-06-19T02:46:14.426916",
     "exception": false,
     "start_time": "2024-06-19T02:46:14.252374",
     "status": "completed"
    },
    "tags": [
     "hide-input"
    ]
   },
   "outputs": [
    {
     "data": {
      "text/html": [
       "<div>\n",
       "<style scoped>\n",
       "    .dataframe tbody tr th:only-of-type {\n",
       "        vertical-align: middle;\n",
       "    }\n",
       "\n",
       "    .dataframe tbody tr th {\n",
       "        vertical-align: top;\n",
       "    }\n",
       "\n",
       "    .dataframe thead th {\n",
       "        text-align: right;\n",
       "    }\n",
       "</style>\n",
       "<table border=\"1\" class=\"dataframe\">\n",
       "  <thead>\n",
       "    <tr style=\"text-align: right;\">\n",
       "      <th>protein groups</th>\n",
       "      <th>A0A024QZX5;A0A087X1N8;P35237</th>\n",
       "      <th>A0A024R0T9;K7ER74;P02655</th>\n",
       "      <th>A0A024R3W6;A0A024R412;O60462;O60462-2;O60462-3;O60462-4;O60462-5;Q7LBX6;X5D2Q8</th>\n",
       "      <th>A0A024R644;A0A0A0MRU5;A0A1B0GWI2;O75503</th>\n",
       "      <th>A0A075B6H7</th>\n",
       "      <th>A0A075B6H9</th>\n",
       "      <th>A0A075B6I0</th>\n",
       "      <th>A0A075B6I1</th>\n",
       "      <th>A0A075B6I6</th>\n",
       "      <th>A0A075B6I9</th>\n",
       "      <th>...</th>\n",
       "      <th>Q9Y653;Q9Y653-2;Q9Y653-3</th>\n",
       "      <th>Q9Y696</th>\n",
       "      <th>Q9Y6C2</th>\n",
       "      <th>Q9Y6N6</th>\n",
       "      <th>Q9Y6N7;Q9Y6N7-2;Q9Y6N7-4</th>\n",
       "      <th>Q9Y6R7</th>\n",
       "      <th>Q9Y6X5</th>\n",
       "      <th>Q9Y6Y8;Q9Y6Y8-2</th>\n",
       "      <th>Q9Y6Y9</th>\n",
       "      <th>S4R3U6</th>\n",
       "    </tr>\n",
       "    <tr>\n",
       "      <th>Sample ID</th>\n",
       "      <th></th>\n",
       "      <th></th>\n",
       "      <th></th>\n",
       "      <th></th>\n",
       "      <th></th>\n",
       "      <th></th>\n",
       "      <th></th>\n",
       "      <th></th>\n",
       "      <th></th>\n",
       "      <th></th>\n",
       "      <th></th>\n",
       "      <th></th>\n",
       "      <th></th>\n",
       "      <th></th>\n",
       "      <th></th>\n",
       "      <th></th>\n",
       "      <th></th>\n",
       "      <th></th>\n",
       "      <th></th>\n",
       "      <th></th>\n",
       "      <th></th>\n",
       "    </tr>\n",
       "  </thead>\n",
       "  <tbody>\n",
       "    <tr>\n",
       "      <th>Sample_000</th>\n",
       "      <td>15.912</td>\n",
       "      <td>16.852</td>\n",
       "      <td>15.570</td>\n",
       "      <td>16.481</td>\n",
       "      <td>17.301</td>\n",
       "      <td>20.246</td>\n",
       "      <td>16.764</td>\n",
       "      <td>17.584</td>\n",
       "      <td>16.988</td>\n",
       "      <td>20.054</td>\n",
       "      <td>...</td>\n",
       "      <td>16.012</td>\n",
       "      <td>15.178</td>\n",
       "      <td>14.102</td>\n",
       "      <td>15.050</td>\n",
       "      <td>16.842</td>\n",
       "      <td>19.863</td>\n",
       "      <td>15.927</td>\n",
       "      <td>19.563</td>\n",
       "      <td>12.837</td>\n",
       "      <td>12.805</td>\n",
       "    </tr>\n",
       "    <tr>\n",
       "      <th>Sample_001</th>\n",
       "      <td>15.936</td>\n",
       "      <td>16.874</td>\n",
       "      <td>15.519</td>\n",
       "      <td>16.387</td>\n",
       "      <td>13.796</td>\n",
       "      <td>19.941</td>\n",
       "      <td>18.786</td>\n",
       "      <td>17.144</td>\n",
       "      <td>16.830</td>\n",
       "      <td>19.067</td>\n",
       "      <td>...</td>\n",
       "      <td>15.528</td>\n",
       "      <td>15.576</td>\n",
       "      <td>14.018</td>\n",
       "      <td>14.833</td>\n",
       "      <td>16.597</td>\n",
       "      <td>20.299</td>\n",
       "      <td>15.556</td>\n",
       "      <td>19.386</td>\n",
       "      <td>13.970</td>\n",
       "      <td>12.442</td>\n",
       "    </tr>\n",
       "    <tr>\n",
       "      <th>Sample_002</th>\n",
       "      <td>16.111</td>\n",
       "      <td>14.523</td>\n",
       "      <td>15.935</td>\n",
       "      <td>16.416</td>\n",
       "      <td>18.175</td>\n",
       "      <td>19.251</td>\n",
       "      <td>16.832</td>\n",
       "      <td>15.671</td>\n",
       "      <td>17.012</td>\n",
       "      <td>18.569</td>\n",
       "      <td>...</td>\n",
       "      <td>15.229</td>\n",
       "      <td>14.728</td>\n",
       "      <td>13.757</td>\n",
       "      <td>15.118</td>\n",
       "      <td>17.440</td>\n",
       "      <td>19.598</td>\n",
       "      <td>15.735</td>\n",
       "      <td>20.447</td>\n",
       "      <td>12.636</td>\n",
       "      <td>12.505</td>\n",
       "    </tr>\n",
       "    <tr>\n",
       "      <th>Sample_003</th>\n",
       "      <td>16.107</td>\n",
       "      <td>17.032</td>\n",
       "      <td>15.802</td>\n",
       "      <td>16.979</td>\n",
       "      <td>15.963</td>\n",
       "      <td>19.628</td>\n",
       "      <td>17.852</td>\n",
       "      <td>18.877</td>\n",
       "      <td>14.182</td>\n",
       "      <td>18.985</td>\n",
       "      <td>...</td>\n",
       "      <td>15.495</td>\n",
       "      <td>14.590</td>\n",
       "      <td>14.682</td>\n",
       "      <td>15.140</td>\n",
       "      <td>17.356</td>\n",
       "      <td>19.429</td>\n",
       "      <td>15.807</td>\n",
       "      <td>20.216</td>\n",
       "      <td>12.627</td>\n",
       "      <td>12.445</td>\n",
       "    </tr>\n",
       "    <tr>\n",
       "      <th>Sample_004</th>\n",
       "      <td>15.603</td>\n",
       "      <td>15.331</td>\n",
       "      <td>15.375</td>\n",
       "      <td>16.679</td>\n",
       "      <td>15.473</td>\n",
       "      <td>20.450</td>\n",
       "      <td>18.682</td>\n",
       "      <td>17.081</td>\n",
       "      <td>14.140</td>\n",
       "      <td>19.686</td>\n",
       "      <td>...</td>\n",
       "      <td>14.757</td>\n",
       "      <td>15.094</td>\n",
       "      <td>14.048</td>\n",
       "      <td>15.256</td>\n",
       "      <td>17.075</td>\n",
       "      <td>19.582</td>\n",
       "      <td>15.328</td>\n",
       "      <td>19.867</td>\n",
       "      <td>13.145</td>\n",
       "      <td>12.235</td>\n",
       "    </tr>\n",
       "    <tr>\n",
       "      <th>...</th>\n",
       "      <td>...</td>\n",
       "      <td>...</td>\n",
       "      <td>...</td>\n",
       "      <td>...</td>\n",
       "      <td>...</td>\n",
       "      <td>...</td>\n",
       "      <td>...</td>\n",
       "      <td>...</td>\n",
       "      <td>...</td>\n",
       "      <td>...</td>\n",
       "      <td>...</td>\n",
       "      <td>...</td>\n",
       "      <td>...</td>\n",
       "      <td>...</td>\n",
       "      <td>...</td>\n",
       "      <td>...</td>\n",
       "      <td>...</td>\n",
       "      <td>...</td>\n",
       "      <td>...</td>\n",
       "      <td>...</td>\n",
       "      <td>...</td>\n",
       "    </tr>\n",
       "    <tr>\n",
       "      <th>Sample_205</th>\n",
       "      <td>15.682</td>\n",
       "      <td>16.886</td>\n",
       "      <td>14.910</td>\n",
       "      <td>16.482</td>\n",
       "      <td>15.526</td>\n",
       "      <td>17.705</td>\n",
       "      <td>17.039</td>\n",
       "      <td>16.141</td>\n",
       "      <td>16.413</td>\n",
       "      <td>19.102</td>\n",
       "      <td>...</td>\n",
       "      <td>15.235</td>\n",
       "      <td>15.684</td>\n",
       "      <td>14.236</td>\n",
       "      <td>15.415</td>\n",
       "      <td>17.551</td>\n",
       "      <td>17.922</td>\n",
       "      <td>16.340</td>\n",
       "      <td>19.928</td>\n",
       "      <td>12.929</td>\n",
       "      <td>11.802</td>\n",
       "    </tr>\n",
       "    <tr>\n",
       "      <th>Sample_206</th>\n",
       "      <td>15.798</td>\n",
       "      <td>17.554</td>\n",
       "      <td>15.600</td>\n",
       "      <td>15.938</td>\n",
       "      <td>15.890</td>\n",
       "      <td>18.154</td>\n",
       "      <td>18.152</td>\n",
       "      <td>16.503</td>\n",
       "      <td>16.860</td>\n",
       "      <td>18.538</td>\n",
       "      <td>...</td>\n",
       "      <td>15.422</td>\n",
       "      <td>16.106</td>\n",
       "      <td>14.535</td>\n",
       "      <td>15.345</td>\n",
       "      <td>17.084</td>\n",
       "      <td>18.708</td>\n",
       "      <td>14.249</td>\n",
       "      <td>19.433</td>\n",
       "      <td>10.977</td>\n",
       "      <td>11.184</td>\n",
       "    </tr>\n",
       "    <tr>\n",
       "      <th>Sample_207</th>\n",
       "      <td>15.739</td>\n",
       "      <td>16.877</td>\n",
       "      <td>15.469</td>\n",
       "      <td>16.898</td>\n",
       "      <td>15.585</td>\n",
       "      <td>18.636</td>\n",
       "      <td>17.950</td>\n",
       "      <td>16.321</td>\n",
       "      <td>16.401</td>\n",
       "      <td>18.849</td>\n",
       "      <td>...</td>\n",
       "      <td>15.808</td>\n",
       "      <td>16.098</td>\n",
       "      <td>14.403</td>\n",
       "      <td>15.715</td>\n",
       "      <td>16.586</td>\n",
       "      <td>18.725</td>\n",
       "      <td>16.138</td>\n",
       "      <td>19.599</td>\n",
       "      <td>13.637</td>\n",
       "      <td>11.174</td>\n",
       "    </tr>\n",
       "    <tr>\n",
       "      <th>Sample_208</th>\n",
       "      <td>15.477</td>\n",
       "      <td>16.779</td>\n",
       "      <td>14.995</td>\n",
       "      <td>16.132</td>\n",
       "      <td>14.907</td>\n",
       "      <td>14.908</td>\n",
       "      <td>17.530</td>\n",
       "      <td>16.673</td>\n",
       "      <td>16.119</td>\n",
       "      <td>18.368</td>\n",
       "      <td>...</td>\n",
       "      <td>15.157</td>\n",
       "      <td>16.712</td>\n",
       "      <td>14.561</td>\n",
       "      <td>14.640</td>\n",
       "      <td>16.533</td>\n",
       "      <td>19.411</td>\n",
       "      <td>15.807</td>\n",
       "      <td>19.545</td>\n",
       "      <td>13.216</td>\n",
       "      <td>11.179</td>\n",
       "    </tr>\n",
       "    <tr>\n",
       "      <th>Sample_209</th>\n",
       "      <td>15.727</td>\n",
       "      <td>17.261</td>\n",
       "      <td>15.175</td>\n",
       "      <td>16.235</td>\n",
       "      <td>15.456</td>\n",
       "      <td>17.893</td>\n",
       "      <td>17.744</td>\n",
       "      <td>16.371</td>\n",
       "      <td>15.780</td>\n",
       "      <td>18.806</td>\n",
       "      <td>...</td>\n",
       "      <td>15.237</td>\n",
       "      <td>15.652</td>\n",
       "      <td>15.211</td>\n",
       "      <td>14.205</td>\n",
       "      <td>16.749</td>\n",
       "      <td>19.275</td>\n",
       "      <td>15.732</td>\n",
       "      <td>19.577</td>\n",
       "      <td>11.042</td>\n",
       "      <td>11.791</td>\n",
       "    </tr>\n",
       "  </tbody>\n",
       "</table>\n",
       "<p>210 rows × 1421 columns</p>\n",
       "</div>"
      ],
      "text/plain": [
       "protein groups  A0A024QZX5;A0A087X1N8;P35237  A0A024R0T9;K7ER74;P02655  \\\n",
       "Sample ID                                                                \n",
       "Sample_000                            15.912                    16.852   \n",
       "Sample_001                            15.936                    16.874   \n",
       "Sample_002                            16.111                    14.523   \n",
       "Sample_003                            16.107                    17.032   \n",
       "Sample_004                            15.603                    15.331   \n",
       "...                                      ...                       ...   \n",
       "Sample_205                            15.682                    16.886   \n",
       "Sample_206                            15.798                    17.554   \n",
       "Sample_207                            15.739                    16.877   \n",
       "Sample_208                            15.477                    16.779   \n",
       "Sample_209                            15.727                    17.261   \n",
       "\n",
       "protein groups  A0A024R3W6;A0A024R412;O60462;O60462-2;O60462-3;O60462-4;O60462-5;Q7LBX6;X5D2Q8  \\\n",
       "Sample ID                                                                                        \n",
       "Sample_000                                                 15.570                                \n",
       "Sample_001                                                 15.519                                \n",
       "Sample_002                                                 15.935                                \n",
       "Sample_003                                                 15.802                                \n",
       "Sample_004                                                 15.375                                \n",
       "...                                                           ...                                \n",
       "Sample_205                                                 14.910                                \n",
       "Sample_206                                                 15.600                                \n",
       "Sample_207                                                 15.469                                \n",
       "Sample_208                                                 14.995                                \n",
       "Sample_209                                                 15.175                                \n",
       "\n",
       "protein groups  A0A024R644;A0A0A0MRU5;A0A1B0GWI2;O75503  A0A075B6H7  \\\n",
       "Sample ID                                                             \n",
       "Sample_000                                       16.481      17.301   \n",
       "Sample_001                                       16.387      13.796   \n",
       "Sample_002                                       16.416      18.175   \n",
       "Sample_003                                       16.979      15.963   \n",
       "Sample_004                                       16.679      15.473   \n",
       "...                                                 ...         ...   \n",
       "Sample_205                                       16.482      15.526   \n",
       "Sample_206                                       15.938      15.890   \n",
       "Sample_207                                       16.898      15.585   \n",
       "Sample_208                                       16.132      14.907   \n",
       "Sample_209                                       16.235      15.456   \n",
       "\n",
       "protein groups  A0A075B6H9  A0A075B6I0  A0A075B6I1  A0A075B6I6  A0A075B6I9  \\\n",
       "Sample ID                                                                    \n",
       "Sample_000          20.246      16.764      17.584      16.988      20.054   \n",
       "Sample_001          19.941      18.786      17.144      16.830      19.067   \n",
       "Sample_002          19.251      16.832      15.671      17.012      18.569   \n",
       "Sample_003          19.628      17.852      18.877      14.182      18.985   \n",
       "Sample_004          20.450      18.682      17.081      14.140      19.686   \n",
       "...                    ...         ...         ...         ...         ...   \n",
       "Sample_205          17.705      17.039      16.141      16.413      19.102   \n",
       "Sample_206          18.154      18.152      16.503      16.860      18.538   \n",
       "Sample_207          18.636      17.950      16.321      16.401      18.849   \n",
       "Sample_208          14.908      17.530      16.673      16.119      18.368   \n",
       "Sample_209          17.893      17.744      16.371      15.780      18.806   \n",
       "\n",
       "protein groups  ...  Q9Y653;Q9Y653-2;Q9Y653-3  Q9Y696  Q9Y6C2  Q9Y6N6  \\\n",
       "Sample ID       ...                                                     \n",
       "Sample_000      ...                    16.012  15.178  14.102  15.050   \n",
       "Sample_001      ...                    15.528  15.576  14.018  14.833   \n",
       "Sample_002      ...                    15.229  14.728  13.757  15.118   \n",
       "Sample_003      ...                    15.495  14.590  14.682  15.140   \n",
       "Sample_004      ...                    14.757  15.094  14.048  15.256   \n",
       "...             ...                       ...     ...     ...     ...   \n",
       "Sample_205      ...                    15.235  15.684  14.236  15.415   \n",
       "Sample_206      ...                    15.422  16.106  14.535  15.345   \n",
       "Sample_207      ...                    15.808  16.098  14.403  15.715   \n",
       "Sample_208      ...                    15.157  16.712  14.561  14.640   \n",
       "Sample_209      ...                    15.237  15.652  15.211  14.205   \n",
       "\n",
       "protein groups  Q9Y6N7;Q9Y6N7-2;Q9Y6N7-4  Q9Y6R7  Q9Y6X5  Q9Y6Y8;Q9Y6Y8-2  \\\n",
       "Sample ID                                                                   \n",
       "Sample_000                        16.842  19.863  15.927           19.563   \n",
       "Sample_001                        16.597  20.299  15.556           19.386   \n",
       "Sample_002                        17.440  19.598  15.735           20.447   \n",
       "Sample_003                        17.356  19.429  15.807           20.216   \n",
       "Sample_004                        17.075  19.582  15.328           19.867   \n",
       "...                                  ...     ...     ...              ...   \n",
       "Sample_205                        17.551  17.922  16.340           19.928   \n",
       "Sample_206                        17.084  18.708  14.249           19.433   \n",
       "Sample_207                        16.586  18.725  16.138           19.599   \n",
       "Sample_208                        16.533  19.411  15.807           19.545   \n",
       "Sample_209                        16.749  19.275  15.732           19.577   \n",
       "\n",
       "protein groups  Q9Y6Y9  S4R3U6  \n",
       "Sample ID                       \n",
       "Sample_000      12.837  12.805  \n",
       "Sample_001      13.970  12.442  \n",
       "Sample_002      12.636  12.505  \n",
       "Sample_003      12.627  12.445  \n",
       "Sample_004      13.145  12.235  \n",
       "...                ...     ...  \n",
       "Sample_205      12.929  11.802  \n",
       "Sample_206      10.977  11.184  \n",
       "Sample_207      13.637  11.174  \n",
       "Sample_208      13.216  11.179  \n",
       "Sample_209      11.042  11.791  \n",
       "\n",
       "[210 rows x 1421 columns]"
      ]
     },
     "execution_count": 11,
     "metadata": {},
     "output_type": "execute_result"
    }
   ],
   "source": [
    "X = pd.concat([data, pred_real_na]).unstack()\n",
    "X"
   ]
  },
  {
   "cell_type": "markdown",
   "id": "0c92c7bd",
   "metadata": {
    "papermill": {
     "duration": 0.011206,
     "end_time": "2024-06-19T02:46:14.449189",
     "exception": false,
     "start_time": "2024-06-19T02:46:14.437983",
     "status": "completed"
    },
    "tags": []
   },
   "source": [
    "### Subset of data by ALD criteria"
   ]
  },
  {
   "cell_type": "code",
   "execution_count": 12,
   "id": "a387dd6f",
   "metadata": {
    "execution": {
     "iopub.execute_input": "2024-06-19T02:46:14.475149Z",
     "iopub.status.busy": "2024-06-19T02:46:14.474826Z",
     "iopub.status.idle": "2024-06-19T02:46:14.617784Z",
     "shell.execute_reply": "2024-06-19T02:46:14.616982Z"
    },
    "papermill": {
     "duration": 0.15902,
     "end_time": "2024-06-19T02:46:14.619602",
     "exception": false,
     "start_time": "2024-06-19T02:46:14.460582",
     "status": "completed"
    },
    "tags": [
     "hide-input"
    ]
   },
   "outputs": [
    {
     "data": {
      "text/html": [
       "<div>\n",
       "<style scoped>\n",
       "    .dataframe tbody tr th:only-of-type {\n",
       "        vertical-align: middle;\n",
       "    }\n",
       "\n",
       "    .dataframe tbody tr th {\n",
       "        vertical-align: top;\n",
       "    }\n",
       "\n",
       "    .dataframe thead th {\n",
       "        text-align: right;\n",
       "    }\n",
       "</style>\n",
       "<table border=\"1\" class=\"dataframe\">\n",
       "  <thead>\n",
       "    <tr style=\"text-align: right;\">\n",
       "      <th>protein groups</th>\n",
       "      <th>A0A024QZX5;A0A087X1N8;P35237</th>\n",
       "      <th>A0A024R0T9;K7ER74;P02655</th>\n",
       "      <th>A0A024R3W6;A0A024R412;O60462;O60462-2;O60462-3;O60462-4;O60462-5;Q7LBX6;X5D2Q8</th>\n",
       "      <th>A0A024R644;A0A0A0MRU5;A0A1B0GWI2;O75503</th>\n",
       "      <th>A0A075B6H9</th>\n",
       "      <th>A0A075B6I0</th>\n",
       "      <th>A0A075B6I1</th>\n",
       "      <th>A0A075B6I6</th>\n",
       "      <th>A0A075B6I9</th>\n",
       "      <th>A0A075B6J9</th>\n",
       "      <th>...</th>\n",
       "      <th>Q9Y653;Q9Y653-2;Q9Y653-3</th>\n",
       "      <th>Q9Y696</th>\n",
       "      <th>Q9Y6C2</th>\n",
       "      <th>Q9Y6N6</th>\n",
       "      <th>Q9Y6N7;Q9Y6N7-2;Q9Y6N7-4</th>\n",
       "      <th>Q9Y6R7</th>\n",
       "      <th>Q9Y6X5</th>\n",
       "      <th>Q9Y6Y8;Q9Y6Y8-2</th>\n",
       "      <th>Q9Y6Y9</th>\n",
       "      <th>S4R3U6</th>\n",
       "    </tr>\n",
       "    <tr>\n",
       "      <th>Sample ID</th>\n",
       "      <th></th>\n",
       "      <th></th>\n",
       "      <th></th>\n",
       "      <th></th>\n",
       "      <th></th>\n",
       "      <th></th>\n",
       "      <th></th>\n",
       "      <th></th>\n",
       "      <th></th>\n",
       "      <th></th>\n",
       "      <th></th>\n",
       "      <th></th>\n",
       "      <th></th>\n",
       "      <th></th>\n",
       "      <th></th>\n",
       "      <th></th>\n",
       "      <th></th>\n",
       "      <th></th>\n",
       "      <th></th>\n",
       "      <th></th>\n",
       "      <th></th>\n",
       "    </tr>\n",
       "  </thead>\n",
       "  <tbody>\n",
       "    <tr>\n",
       "      <th>Sample_000</th>\n",
       "      <td>15.912</td>\n",
       "      <td>16.852</td>\n",
       "      <td>15.570</td>\n",
       "      <td>16.481</td>\n",
       "      <td>20.246</td>\n",
       "      <td>16.764</td>\n",
       "      <td>17.584</td>\n",
       "      <td>16.988</td>\n",
       "      <td>20.054</td>\n",
       "      <td>12.508</td>\n",
       "      <td>...</td>\n",
       "      <td>16.012</td>\n",
       "      <td>15.178</td>\n",
       "      <td>12.953</td>\n",
       "      <td>15.050</td>\n",
       "      <td>16.842</td>\n",
       "      <td>19.863</td>\n",
       "      <td>14.527</td>\n",
       "      <td>19.563</td>\n",
       "      <td>12.837</td>\n",
       "      <td>12.805</td>\n",
       "    </tr>\n",
       "    <tr>\n",
       "      <th>Sample_001</th>\n",
       "      <td>15.936</td>\n",
       "      <td>16.874</td>\n",
       "      <td>15.519</td>\n",
       "      <td>16.387</td>\n",
       "      <td>19.941</td>\n",
       "      <td>18.786</td>\n",
       "      <td>17.144</td>\n",
       "      <td>12.394</td>\n",
       "      <td>19.067</td>\n",
       "      <td>16.188</td>\n",
       "      <td>...</td>\n",
       "      <td>15.528</td>\n",
       "      <td>15.576</td>\n",
       "      <td>12.211</td>\n",
       "      <td>14.833</td>\n",
       "      <td>16.597</td>\n",
       "      <td>20.299</td>\n",
       "      <td>15.556</td>\n",
       "      <td>19.386</td>\n",
       "      <td>13.970</td>\n",
       "      <td>12.442</td>\n",
       "    </tr>\n",
       "    <tr>\n",
       "      <th>Sample_002</th>\n",
       "      <td>16.111</td>\n",
       "      <td>14.523</td>\n",
       "      <td>15.935</td>\n",
       "      <td>16.416</td>\n",
       "      <td>19.251</td>\n",
       "      <td>16.832</td>\n",
       "      <td>15.671</td>\n",
       "      <td>17.012</td>\n",
       "      <td>18.569</td>\n",
       "      <td>13.587</td>\n",
       "      <td>...</td>\n",
       "      <td>15.229</td>\n",
       "      <td>14.728</td>\n",
       "      <td>13.757</td>\n",
       "      <td>15.118</td>\n",
       "      <td>17.440</td>\n",
       "      <td>19.598</td>\n",
       "      <td>15.735</td>\n",
       "      <td>20.447</td>\n",
       "      <td>12.636</td>\n",
       "      <td>12.505</td>\n",
       "    </tr>\n",
       "    <tr>\n",
       "      <th>Sample_003</th>\n",
       "      <td>16.107</td>\n",
       "      <td>17.032</td>\n",
       "      <td>15.802</td>\n",
       "      <td>16.979</td>\n",
       "      <td>19.628</td>\n",
       "      <td>17.852</td>\n",
       "      <td>18.877</td>\n",
       "      <td>14.182</td>\n",
       "      <td>18.985</td>\n",
       "      <td>13.438</td>\n",
       "      <td>...</td>\n",
       "      <td>15.495</td>\n",
       "      <td>14.590</td>\n",
       "      <td>14.682</td>\n",
       "      <td>15.140</td>\n",
       "      <td>17.356</td>\n",
       "      <td>19.429</td>\n",
       "      <td>14.046</td>\n",
       "      <td>20.216</td>\n",
       "      <td>12.627</td>\n",
       "      <td>12.445</td>\n",
       "    </tr>\n",
       "    <tr>\n",
       "      <th>Sample_004</th>\n",
       "      <td>15.603</td>\n",
       "      <td>15.331</td>\n",
       "      <td>15.375</td>\n",
       "      <td>16.679</td>\n",
       "      <td>20.450</td>\n",
       "      <td>18.682</td>\n",
       "      <td>17.081</td>\n",
       "      <td>14.140</td>\n",
       "      <td>19.686</td>\n",
       "      <td>14.495</td>\n",
       "      <td>...</td>\n",
       "      <td>14.757</td>\n",
       "      <td>15.094</td>\n",
       "      <td>14.048</td>\n",
       "      <td>15.256</td>\n",
       "      <td>17.075</td>\n",
       "      <td>19.582</td>\n",
       "      <td>15.328</td>\n",
       "      <td>19.867</td>\n",
       "      <td>13.145</td>\n",
       "      <td>12.235</td>\n",
       "    </tr>\n",
       "    <tr>\n",
       "      <th>...</th>\n",
       "      <td>...</td>\n",
       "      <td>...</td>\n",
       "      <td>...</td>\n",
       "      <td>...</td>\n",
       "      <td>...</td>\n",
       "      <td>...</td>\n",
       "      <td>...</td>\n",
       "      <td>...</td>\n",
       "      <td>...</td>\n",
       "      <td>...</td>\n",
       "      <td>...</td>\n",
       "      <td>...</td>\n",
       "      <td>...</td>\n",
       "      <td>...</td>\n",
       "      <td>...</td>\n",
       "      <td>...</td>\n",
       "      <td>...</td>\n",
       "      <td>...</td>\n",
       "      <td>...</td>\n",
       "      <td>...</td>\n",
       "      <td>...</td>\n",
       "    </tr>\n",
       "    <tr>\n",
       "      <th>Sample_205</th>\n",
       "      <td>15.682</td>\n",
       "      <td>16.886</td>\n",
       "      <td>14.910</td>\n",
       "      <td>16.482</td>\n",
       "      <td>17.705</td>\n",
       "      <td>17.039</td>\n",
       "      <td>12.899</td>\n",
       "      <td>16.413</td>\n",
       "      <td>19.102</td>\n",
       "      <td>16.064</td>\n",
       "      <td>...</td>\n",
       "      <td>15.235</td>\n",
       "      <td>15.684</td>\n",
       "      <td>14.236</td>\n",
       "      <td>15.415</td>\n",
       "      <td>17.551</td>\n",
       "      <td>17.922</td>\n",
       "      <td>16.340</td>\n",
       "      <td>19.928</td>\n",
       "      <td>12.929</td>\n",
       "      <td>11.802</td>\n",
       "    </tr>\n",
       "    <tr>\n",
       "      <th>Sample_206</th>\n",
       "      <td>15.798</td>\n",
       "      <td>17.554</td>\n",
       "      <td>15.600</td>\n",
       "      <td>15.938</td>\n",
       "      <td>18.154</td>\n",
       "      <td>18.152</td>\n",
       "      <td>16.503</td>\n",
       "      <td>16.860</td>\n",
       "      <td>18.538</td>\n",
       "      <td>15.288</td>\n",
       "      <td>...</td>\n",
       "      <td>15.422</td>\n",
       "      <td>16.106</td>\n",
       "      <td>12.834</td>\n",
       "      <td>15.345</td>\n",
       "      <td>17.084</td>\n",
       "      <td>18.708</td>\n",
       "      <td>14.249</td>\n",
       "      <td>19.433</td>\n",
       "      <td>12.761</td>\n",
       "      <td>12.858</td>\n",
       "    </tr>\n",
       "    <tr>\n",
       "      <th>Sample_207</th>\n",
       "      <td>15.739</td>\n",
       "      <td>16.877</td>\n",
       "      <td>15.469</td>\n",
       "      <td>16.898</td>\n",
       "      <td>18.636</td>\n",
       "      <td>17.950</td>\n",
       "      <td>16.321</td>\n",
       "      <td>16.401</td>\n",
       "      <td>18.849</td>\n",
       "      <td>17.580</td>\n",
       "      <td>...</td>\n",
       "      <td>15.808</td>\n",
       "      <td>16.098</td>\n",
       "      <td>14.403</td>\n",
       "      <td>15.715</td>\n",
       "      <td>16.586</td>\n",
       "      <td>18.725</td>\n",
       "      <td>16.138</td>\n",
       "      <td>19.599</td>\n",
       "      <td>13.637</td>\n",
       "      <td>11.174</td>\n",
       "    </tr>\n",
       "    <tr>\n",
       "      <th>Sample_208</th>\n",
       "      <td>15.477</td>\n",
       "      <td>16.779</td>\n",
       "      <td>14.995</td>\n",
       "      <td>16.132</td>\n",
       "      <td>14.908</td>\n",
       "      <td>17.530</td>\n",
       "      <td>12.244</td>\n",
       "      <td>16.119</td>\n",
       "      <td>18.368</td>\n",
       "      <td>15.202</td>\n",
       "      <td>...</td>\n",
       "      <td>15.157</td>\n",
       "      <td>16.712</td>\n",
       "      <td>12.688</td>\n",
       "      <td>14.640</td>\n",
       "      <td>16.533</td>\n",
       "      <td>19.411</td>\n",
       "      <td>15.807</td>\n",
       "      <td>19.545</td>\n",
       "      <td>13.216</td>\n",
       "      <td>11.789</td>\n",
       "    </tr>\n",
       "    <tr>\n",
       "      <th>Sample_209</th>\n",
       "      <td>15.727</td>\n",
       "      <td>17.261</td>\n",
       "      <td>15.175</td>\n",
       "      <td>16.235</td>\n",
       "      <td>17.893</td>\n",
       "      <td>17.744</td>\n",
       "      <td>16.371</td>\n",
       "      <td>15.780</td>\n",
       "      <td>18.806</td>\n",
       "      <td>16.532</td>\n",
       "      <td>...</td>\n",
       "      <td>15.237</td>\n",
       "      <td>15.652</td>\n",
       "      <td>15.211</td>\n",
       "      <td>14.205</td>\n",
       "      <td>16.749</td>\n",
       "      <td>19.275</td>\n",
       "      <td>15.732</td>\n",
       "      <td>19.577</td>\n",
       "      <td>11.042</td>\n",
       "      <td>11.791</td>\n",
       "    </tr>\n",
       "  </tbody>\n",
       "</table>\n",
       "<p>210 rows × 1213 columns</p>\n",
       "</div>"
      ],
      "text/plain": [
       "protein groups  A0A024QZX5;A0A087X1N8;P35237  A0A024R0T9;K7ER74;P02655  \\\n",
       "Sample ID                                                                \n",
       "Sample_000                            15.912                    16.852   \n",
       "Sample_001                            15.936                    16.874   \n",
       "Sample_002                            16.111                    14.523   \n",
       "Sample_003                            16.107                    17.032   \n",
       "Sample_004                            15.603                    15.331   \n",
       "...                                      ...                       ...   \n",
       "Sample_205                            15.682                    16.886   \n",
       "Sample_206                            15.798                    17.554   \n",
       "Sample_207                            15.739                    16.877   \n",
       "Sample_208                            15.477                    16.779   \n",
       "Sample_209                            15.727                    17.261   \n",
       "\n",
       "protein groups  A0A024R3W6;A0A024R412;O60462;O60462-2;O60462-3;O60462-4;O60462-5;Q7LBX6;X5D2Q8  \\\n",
       "Sample ID                                                                                        \n",
       "Sample_000                                                 15.570                                \n",
       "Sample_001                                                 15.519                                \n",
       "Sample_002                                                 15.935                                \n",
       "Sample_003                                                 15.802                                \n",
       "Sample_004                                                 15.375                                \n",
       "...                                                           ...                                \n",
       "Sample_205                                                 14.910                                \n",
       "Sample_206                                                 15.600                                \n",
       "Sample_207                                                 15.469                                \n",
       "Sample_208                                                 14.995                                \n",
       "Sample_209                                                 15.175                                \n",
       "\n",
       "protein groups  A0A024R644;A0A0A0MRU5;A0A1B0GWI2;O75503  A0A075B6H9  \\\n",
       "Sample ID                                                             \n",
       "Sample_000                                       16.481      20.246   \n",
       "Sample_001                                       16.387      19.941   \n",
       "Sample_002                                       16.416      19.251   \n",
       "Sample_003                                       16.979      19.628   \n",
       "Sample_004                                       16.679      20.450   \n",
       "...                                                 ...         ...   \n",
       "Sample_205                                       16.482      17.705   \n",
       "Sample_206                                       15.938      18.154   \n",
       "Sample_207                                       16.898      18.636   \n",
       "Sample_208                                       16.132      14.908   \n",
       "Sample_209                                       16.235      17.893   \n",
       "\n",
       "protein groups  A0A075B6I0  A0A075B6I1  A0A075B6I6  A0A075B6I9  A0A075B6J9  \\\n",
       "Sample ID                                                                    \n",
       "Sample_000          16.764      17.584      16.988      20.054      12.508   \n",
       "Sample_001          18.786      17.144      12.394      19.067      16.188   \n",
       "Sample_002          16.832      15.671      17.012      18.569      13.587   \n",
       "Sample_003          17.852      18.877      14.182      18.985      13.438   \n",
       "Sample_004          18.682      17.081      14.140      19.686      14.495   \n",
       "...                    ...         ...         ...         ...         ...   \n",
       "Sample_205          17.039      12.899      16.413      19.102      16.064   \n",
       "Sample_206          18.152      16.503      16.860      18.538      15.288   \n",
       "Sample_207          17.950      16.321      16.401      18.849      17.580   \n",
       "Sample_208          17.530      12.244      16.119      18.368      15.202   \n",
       "Sample_209          17.744      16.371      15.780      18.806      16.532   \n",
       "\n",
       "protein groups  ...  Q9Y653;Q9Y653-2;Q9Y653-3  Q9Y696  Q9Y6C2  Q9Y6N6  \\\n",
       "Sample ID       ...                                                     \n",
       "Sample_000      ...                    16.012  15.178  12.953  15.050   \n",
       "Sample_001      ...                    15.528  15.576  12.211  14.833   \n",
       "Sample_002      ...                    15.229  14.728  13.757  15.118   \n",
       "Sample_003      ...                    15.495  14.590  14.682  15.140   \n",
       "Sample_004      ...                    14.757  15.094  14.048  15.256   \n",
       "...             ...                       ...     ...     ...     ...   \n",
       "Sample_205      ...                    15.235  15.684  14.236  15.415   \n",
       "Sample_206      ...                    15.422  16.106  12.834  15.345   \n",
       "Sample_207      ...                    15.808  16.098  14.403  15.715   \n",
       "Sample_208      ...                    15.157  16.712  12.688  14.640   \n",
       "Sample_209      ...                    15.237  15.652  15.211  14.205   \n",
       "\n",
       "protein groups  Q9Y6N7;Q9Y6N7-2;Q9Y6N7-4  Q9Y6R7  Q9Y6X5  Q9Y6Y8;Q9Y6Y8-2  \\\n",
       "Sample ID                                                                   \n",
       "Sample_000                        16.842  19.863  14.527           19.563   \n",
       "Sample_001                        16.597  20.299  15.556           19.386   \n",
       "Sample_002                        17.440  19.598  15.735           20.447   \n",
       "Sample_003                        17.356  19.429  14.046           20.216   \n",
       "Sample_004                        17.075  19.582  15.328           19.867   \n",
       "...                                  ...     ...     ...              ...   \n",
       "Sample_205                        17.551  17.922  16.340           19.928   \n",
       "Sample_206                        17.084  18.708  14.249           19.433   \n",
       "Sample_207                        16.586  18.725  16.138           19.599   \n",
       "Sample_208                        16.533  19.411  15.807           19.545   \n",
       "Sample_209                        16.749  19.275  15.732           19.577   \n",
       "\n",
       "protein groups  Q9Y6Y9  S4R3U6  \n",
       "Sample ID                       \n",
       "Sample_000      12.837  12.805  \n",
       "Sample_001      13.970  12.442  \n",
       "Sample_002      12.636  12.505  \n",
       "Sample_003      12.627  12.445  \n",
       "Sample_004      13.145  12.235  \n",
       "...                ...     ...  \n",
       "Sample_205      12.929  11.802  \n",
       "Sample_206      12.761  12.858  \n",
       "Sample_207      13.637  11.174  \n",
       "Sample_208      13.216  11.789  \n",
       "Sample_209      11.042  11.791  \n",
       "\n",
       "[210 rows x 1213 columns]"
      ]
     },
     "execution_count": 12,
     "metadata": {},
     "output_type": "execute_result"
    }
   ],
   "source": [
    "# could be just observed, drop columns with missing values\n",
    "ald_study = pd.concat(\n",
    "    [ald_study.stack(),\n",
    "     pred_real_na_baseline.loc[\n",
    "        # only select columns in selected in ald_study\n",
    "        pd.IndexSlice[:, pred_real_na.index.levels[-1].intersection(ald_study.columns)]\n",
    "    ]\n",
    "    ]\n",
    ").unstack()\n",
    "ald_study"
   ]
  },
  {
   "cell_type": "markdown",
   "id": "f8c07f73",
   "metadata": {
    "papermill": {
     "duration": 0.011306,
     "end_time": "2024-06-19T02:46:14.642678",
     "exception": false,
     "start_time": "2024-06-19T02:46:14.631372",
     "status": "completed"
    },
    "tags": []
   },
   "source": [
    "Features which would not have been included using ALD criteria:"
   ]
  },
  {
   "cell_type": "code",
   "execution_count": 13,
   "id": "12b9d002",
   "metadata": {
    "execution": {
     "iopub.execute_input": "2024-06-19T02:46:14.669332Z",
     "iopub.status.busy": "2024-06-19T02:46:14.669007Z",
     "iopub.status.idle": "2024-06-19T02:46:14.675335Z",
     "shell.execute_reply": "2024-06-19T02:46:14.674631Z"
    },
    "papermill": {
     "duration": 0.024213,
     "end_time": "2024-06-19T02:46:14.679216",
     "exception": false,
     "start_time": "2024-06-19T02:46:14.655003",
     "status": "completed"
    },
    "tags": [
     "hide-input"
    ]
   },
   "outputs": [
    {
     "data": {
      "text/plain": [
       "Index(['A0A075B6H7', 'A0A075B6Q5', 'A0A075B7B8', 'A0A087WSY4',\n",
       "       'A0A087WTT8;A0A0A0MQX5;O94779;O94779-2', 'A0A087WXB8;Q9Y274',\n",
       "       'A0A087WXE9;E9PQ70;Q6UXH9;Q6UXH9-2;Q6UXH9-3',\n",
       "       'A0A087X1Z2;C9JTV4;H0Y4Y4;Q8WYH2;Q96C19;Q9BUP0;Q9BUP0-2',\n",
       "       'A0A0A0MQS9;A0A0A0MTC7;Q16363;Q16363-2', 'A0A0A0MSN4;P12821;P12821-2',\n",
       "       ...\n",
       "       'Q9NZ94;Q9NZ94-2;Q9NZ94-3', 'Q9NZU1', 'Q9P1W8;Q9P1W8-2;Q9P1W8-4',\n",
       "       'Q9UHI8', 'Q9UI40;Q9UI40-2',\n",
       "       'Q9UIB8;Q9UIB8-2;Q9UIB8-3;Q9UIB8-4;Q9UIB8-5;Q9UIB8-6',\n",
       "       'Q9UKZ4;Q9UKZ4-2', 'Q9UMX0;Q9UMX0-2;Q9UMX0-4', 'Q9Y281;Q9Y281-3',\n",
       "       'Q9Y490'],\n",
       "      dtype='object', name='protein groups', length=208)"
      ]
     },
     "execution_count": 13,
     "metadata": {},
     "output_type": "execute_result"
    }
   ],
   "source": [
    "new_features = X.columns.difference(ald_study.columns)\n",
    "new_features"
   ]
  },
  {
   "cell_type": "markdown",
   "id": "a8e67247-a2a1-4a2f-b838-0bdc9f40cfa9",
   "metadata": {
    "papermill": {
     "duration": 0.013803,
     "end_time": "2024-06-19T02:46:14.705765",
     "exception": false,
     "start_time": "2024-06-19T02:46:14.691962",
     "status": "completed"
    },
    "tags": []
   },
   "source": [
    "Binarize targets, but also keep groups for stratification"
   ]
  },
  {
   "cell_type": "code",
   "execution_count": 14,
   "id": "4aa1f404-427a-4e78-b98d-cb26bb1d1ec4",
   "metadata": {
    "execution": {
     "iopub.execute_input": "2024-06-19T02:46:14.735310Z",
     "iopub.status.busy": "2024-06-19T02:46:14.734993Z",
     "iopub.status.idle": "2024-06-19T02:46:14.753703Z",
     "shell.execute_reply": "2024-06-19T02:46:14.753075Z"
    },
    "papermill": {
     "duration": 0.035045,
     "end_time": "2024-06-19T02:46:14.755454",
     "exception": false,
     "start_time": "2024-06-19T02:46:14.720409",
     "status": "completed"
    },
    "tags": [
     "hide-input"
    ]
   },
   "outputs": [
    {
     "data": {
      "text/html": [
       "<div>\n",
       "<style scoped>\n",
       "    .dataframe tbody tr th:only-of-type {\n",
       "        vertical-align: middle;\n",
       "    }\n",
       "\n",
       "    .dataframe tbody tr th {\n",
       "        vertical-align: top;\n",
       "    }\n",
       "\n",
       "    .dataframe thead th {\n",
       "        text-align: right;\n",
       "    }\n",
       "</style>\n",
       "<table border=\"1\" class=\"dataframe\">\n",
       "  <thead>\n",
       "    <tr style=\"text-align: right;\">\n",
       "      <th>AD</th>\n",
       "      <th>0</th>\n",
       "      <th>1</th>\n",
       "    </tr>\n",
       "    <tr>\n",
       "      <th>AD</th>\n",
       "      <th></th>\n",
       "      <th></th>\n",
       "    </tr>\n",
       "  </thead>\n",
       "  <tbody>\n",
       "    <tr>\n",
       "      <th>False</th>\n",
       "      <td>122</td>\n",
       "      <td>0</td>\n",
       "    </tr>\n",
       "    <tr>\n",
       "      <th>True</th>\n",
       "      <td>0</td>\n",
       "      <td>88</td>\n",
       "    </tr>\n",
       "  </tbody>\n",
       "</table>\n",
       "</div>"
      ],
      "text/plain": [
       "AD      0  1\n",
       "AD          \n",
       "False 122  0\n",
       "True    0 88"
      ]
     },
     "execution_count": 14,
     "metadata": {},
     "output_type": "execute_result"
    }
   ],
   "source": [
    "target_to_group = target.copy()\n",
    "target = target >= args.cutoff_target\n",
    "pd.crosstab(target.squeeze(), target_to_group.squeeze())"
   ]
  },
  {
   "cell_type": "markdown",
   "id": "bfab754f",
   "metadata": {
    "papermill": {
     "duration": 0.014716,
     "end_time": "2024-06-19T02:46:14.786236",
     "exception": false,
     "start_time": "2024-06-19T02:46:14.771520",
     "status": "completed"
    },
    "tags": []
   },
   "source": [
    "## Determine best number of parameters by cross validation procedure\n",
    "\n",
    "using subset of data by ALD criteria:"
   ]
  },
  {
   "cell_type": "code",
   "execution_count": 15,
   "id": "90e410d1",
   "metadata": {
    "execution": {
     "iopub.execute_input": "2024-06-19T02:46:14.815754Z",
     "iopub.status.busy": "2024-06-19T02:46:14.815418Z",
     "iopub.status.idle": "2024-06-19T02:48:32.087837Z",
     "shell.execute_reply": "2024-06-19T02:48:32.086974Z"
    },
    "papermill": {
     "duration": 137.289688,
     "end_time": "2024-06-19T02:48:32.089791",
     "exception": false,
     "start_time": "2024-06-19T02:46:14.800103",
     "status": "completed"
    },
    "tags": [
     "hide-input"
    ]
   },
   "outputs": [
    {
     "name": "stderr",
     "output_type": "stream",
     "text": [
      "\r",
      "  0%|          | 0/1 [00:00<?, ?it/s]"
     ]
    },
    {
     "name": "stderr",
     "output_type": "stream",
     "text": [
      "\r",
      "100%|██████████| 1/1 [00:00<00:00, 346.32it/s]"
     ]
    },
    {
     "name": "stderr",
     "output_type": "stream",
     "text": [
      "\n"
     ]
    },
    {
     "name": "stderr",
     "output_type": "stream",
     "text": [
      "\r",
      "  0%|          | 0/2 [00:00<?, ?it/s]"
     ]
    },
    {
     "name": "stderr",
     "output_type": "stream",
     "text": [
      "\r",
      "100%|██████████| 2/2 [00:00<00:00,  4.05it/s]"
     ]
    },
    {
     "name": "stderr",
     "output_type": "stream",
     "text": [
      "\r",
      "100%|██████████| 2/2 [00:00<00:00,  4.03it/s]"
     ]
    },
    {
     "name": "stderr",
     "output_type": "stream",
     "text": [
      "\n"
     ]
    },
    {
     "name": "stderr",
     "output_type": "stream",
     "text": [
      "\r",
      "  0%|          | 0/3 [00:00<?, ?it/s]"
     ]
    },
    {
     "name": "stderr",
     "output_type": "stream",
     "text": [
      "\r",
      " 67%|██████▋   | 2/3 [00:00<00:00,  4.03it/s]"
     ]
    },
    {
     "name": "stderr",
     "output_type": "stream",
     "text": [
      "\r",
      "100%|██████████| 3/3 [00:00<00:00,  2.89it/s]"
     ]
    },
    {
     "name": "stderr",
     "output_type": "stream",
     "text": [
      "\r",
      "100%|██████████| 3/3 [00:00<00:00,  3.05it/s]"
     ]
    },
    {
     "name": "stderr",
     "output_type": "stream",
     "text": [
      "\n"
     ]
    },
    {
     "name": "stderr",
     "output_type": "stream",
     "text": [
      "\r",
      "  0%|          | 0/4 [00:00<?, ?it/s]"
     ]
    },
    {
     "name": "stderr",
     "output_type": "stream",
     "text": [
      "\r",
      " 50%|█████     | 2/4 [00:00<00:00,  3.74it/s]"
     ]
    },
    {
     "name": "stderr",
     "output_type": "stream",
     "text": [
      "\r",
      " 75%|███████▌  | 3/4 [00:00<00:00,  3.05it/s]"
     ]
    },
    {
     "name": "stderr",
     "output_type": "stream",
     "text": [
      "\r",
      "100%|██████████| 4/4 [00:01<00:00,  2.94it/s]"
     ]
    },
    {
     "name": "stderr",
     "output_type": "stream",
     "text": [
      "\r",
      "100%|██████████| 4/4 [00:01<00:00,  3.05it/s]"
     ]
    },
    {
     "name": "stderr",
     "output_type": "stream",
     "text": [
      "\n"
     ]
    },
    {
     "name": "stderr",
     "output_type": "stream",
     "text": [
      "\r",
      "  0%|          | 0/5 [00:00<?, ?it/s]"
     ]
    },
    {
     "name": "stderr",
     "output_type": "stream",
     "text": [
      "\r",
      " 40%|████      | 2/5 [00:00<00:00,  4.24it/s]"
     ]
    },
    {
     "name": "stderr",
     "output_type": "stream",
     "text": [
      "\r",
      " 60%|██████    | 3/5 [00:00<00:00,  2.99it/s]"
     ]
    },
    {
     "name": "stderr",
     "output_type": "stream",
     "text": [
      "\r",
      " 80%|████████  | 4/5 [00:01<00:00,  2.63it/s]"
     ]
    },
    {
     "name": "stderr",
     "output_type": "stream",
     "text": [
      "\r",
      "100%|██████████| 5/5 [00:01<00:00,  2.48it/s]"
     ]
    },
    {
     "name": "stderr",
     "output_type": "stream",
     "text": [
      "\r",
      "100%|██████████| 5/5 [00:01<00:00,  2.70it/s]"
     ]
    },
    {
     "name": "stderr",
     "output_type": "stream",
     "text": [
      "\n"
     ]
    },
    {
     "name": "stderr",
     "output_type": "stream",
     "text": [
      "\r",
      "  0%|          | 0/6 [00:00<?, ?it/s]"
     ]
    },
    {
     "name": "stderr",
     "output_type": "stream",
     "text": [
      "\r",
      " 33%|███▎      | 2/6 [00:00<00:01,  3.85it/s]"
     ]
    },
    {
     "name": "stderr",
     "output_type": "stream",
     "text": [
      "\r",
      " 50%|█████     | 3/6 [00:00<00:00,  3.10it/s]"
     ]
    },
    {
     "name": "stderr",
     "output_type": "stream",
     "text": [
      "\r",
      " 67%|██████▋   | 4/6 [00:01<00:00,  2.47it/s]"
     ]
    },
    {
     "name": "stderr",
     "output_type": "stream",
     "text": [
      "\r",
      " 83%|████████▎ | 5/6 [00:01<00:00,  2.51it/s]"
     ]
    },
    {
     "name": "stderr",
     "output_type": "stream",
     "text": [
      "\r",
      "100%|██████████| 6/6 [00:02<00:00,  2.58it/s]"
     ]
    },
    {
     "name": "stderr",
     "output_type": "stream",
     "text": [
      "\r",
      "100%|██████████| 6/6 [00:02<00:00,  2.69it/s]"
     ]
    },
    {
     "name": "stderr",
     "output_type": "stream",
     "text": [
      "\n"
     ]
    },
    {
     "name": "stderr",
     "output_type": "stream",
     "text": [
      "\r",
      "  0%|          | 0/7 [00:00<?, ?it/s]"
     ]
    },
    {
     "name": "stderr",
     "output_type": "stream",
     "text": [
      "\r",
      " 29%|██▊       | 2/7 [00:00<00:01,  4.89it/s]"
     ]
    },
    {
     "name": "stderr",
     "output_type": "stream",
     "text": [
      "\r",
      " 43%|████▎     | 3/7 [00:00<00:01,  3.01it/s]"
     ]
    },
    {
     "name": "stderr",
     "output_type": "stream",
     "text": [
      "\r",
      " 57%|█████▋    | 4/7 [00:01<00:01,  2.54it/s]"
     ]
    },
    {
     "name": "stderr",
     "output_type": "stream",
     "text": [
      "\r",
      " 71%|███████▏  | 5/7 [00:01<00:00,  2.63it/s]"
     ]
    },
    {
     "name": "stderr",
     "output_type": "stream",
     "text": [
      "\r",
      " 86%|████████▌ | 6/7 [00:02<00:00,  2.40it/s]"
     ]
    },
    {
     "name": "stderr",
     "output_type": "stream",
     "text": [
      "\r",
      "100%|██████████| 7/7 [00:02<00:00,  2.62it/s]"
     ]
    },
    {
     "name": "stderr",
     "output_type": "stream",
     "text": [
      "\r",
      "100%|██████████| 7/7 [00:02<00:00,  2.72it/s]"
     ]
    },
    {
     "name": "stderr",
     "output_type": "stream",
     "text": [
      "\n"
     ]
    },
    {
     "name": "stderr",
     "output_type": "stream",
     "text": [
      "\r",
      "  0%|          | 0/8 [00:00<?, ?it/s]"
     ]
    },
    {
     "name": "stderr",
     "output_type": "stream",
     "text": [
      "\r",
      " 25%|██▌       | 2/8 [00:00<00:01,  4.91it/s]"
     ]
    },
    {
     "name": "stderr",
     "output_type": "stream",
     "text": [
      "\r",
      " 38%|███▊      | 3/8 [00:00<00:01,  3.66it/s]"
     ]
    },
    {
     "name": "stderr",
     "output_type": "stream",
     "text": [
      "\r",
      " 50%|█████     | 4/8 [00:01<00:01,  3.18it/s]"
     ]
    },
    {
     "name": "stderr",
     "output_type": "stream",
     "text": [
      "\r",
      " 62%|██████▎   | 5/8 [00:01<00:01,  2.98it/s]"
     ]
    },
    {
     "name": "stderr",
     "output_type": "stream",
     "text": [
      "\r",
      " 75%|███████▌  | 6/8 [00:01<00:00,  2.76it/s]"
     ]
    },
    {
     "name": "stderr",
     "output_type": "stream",
     "text": [
      "\r",
      " 88%|████████▊ | 7/8 [00:02<00:00,  2.55it/s]"
     ]
    },
    {
     "name": "stderr",
     "output_type": "stream",
     "text": [
      "\r",
      "100%|██████████| 8/8 [00:02<00:00,  2.55it/s]"
     ]
    },
    {
     "name": "stderr",
     "output_type": "stream",
     "text": [
      "\r",
      "100%|██████████| 8/8 [00:02<00:00,  2.85it/s]"
     ]
    },
    {
     "name": "stderr",
     "output_type": "stream",
     "text": [
      "\n"
     ]
    },
    {
     "name": "stderr",
     "output_type": "stream",
     "text": [
      "\r",
      "  0%|          | 0/9 [00:00<?, ?it/s]"
     ]
    },
    {
     "name": "stderr",
     "output_type": "stream",
     "text": [
      "\r",
      " 22%|██▏       | 2/9 [00:00<00:01,  4.04it/s]"
     ]
    },
    {
     "name": "stderr",
     "output_type": "stream",
     "text": [
      "\r",
      " 33%|███▎      | 3/9 [00:00<00:02,  2.98it/s]"
     ]
    },
    {
     "name": "stderr",
     "output_type": "stream",
     "text": [
      "\r",
      " 44%|████▍     | 4/9 [00:01<00:01,  2.64it/s]"
     ]
    },
    {
     "name": "stderr",
     "output_type": "stream",
     "text": [
      "\r",
      " 56%|█████▌    | 5/9 [00:01<00:01,  2.53it/s]"
     ]
    },
    {
     "name": "stderr",
     "output_type": "stream",
     "text": [
      "\r",
      " 67%|██████▋   | 6/9 [00:02<00:01,  2.56it/s]"
     ]
    },
    {
     "name": "stderr",
     "output_type": "stream",
     "text": [
      "\r",
      " 78%|███████▊  | 7/9 [00:02<00:00,  2.46it/s]"
     ]
    },
    {
     "name": "stderr",
     "output_type": "stream",
     "text": [
      "\r",
      " 89%|████████▉ | 8/9 [00:03<00:00,  2.52it/s]"
     ]
    },
    {
     "name": "stderr",
     "output_type": "stream",
     "text": [
      "\r",
      "100%|██████████| 9/9 [00:03<00:00,  2.61it/s]"
     ]
    },
    {
     "name": "stderr",
     "output_type": "stream",
     "text": [
      "\r",
      "100%|██████████| 9/9 [00:03<00:00,  2.66it/s]"
     ]
    },
    {
     "name": "stderr",
     "output_type": "stream",
     "text": [
      "\n"
     ]
    },
    {
     "name": "stderr",
     "output_type": "stream",
     "text": [
      "\r",
      "  0%|          | 0/10 [00:00<?, ?it/s]"
     ]
    },
    {
     "name": "stderr",
     "output_type": "stream",
     "text": [
      "\r",
      " 20%|██        | 2/10 [00:00<00:01,  5.63it/s]"
     ]
    },
    {
     "name": "stderr",
     "output_type": "stream",
     "text": [
      "\r",
      " 30%|███       | 3/10 [00:00<00:02,  3.46it/s]"
     ]
    },
    {
     "name": "stderr",
     "output_type": "stream",
     "text": [
      "\r",
      " 40%|████      | 4/10 [00:01<00:01,  3.03it/s]"
     ]
    },
    {
     "name": "stderr",
     "output_type": "stream",
     "text": [
      "\r",
      " 50%|█████     | 5/10 [00:01<00:01,  2.74it/s]"
     ]
    },
    {
     "name": "stderr",
     "output_type": "stream",
     "text": [
      "\r",
      " 60%|██████    | 6/10 [00:02<00:01,  2.67it/s]"
     ]
    },
    {
     "name": "stderr",
     "output_type": "stream",
     "text": [
      "\r",
      " 70%|███████   | 7/10 [00:02<00:01,  2.60it/s]"
     ]
    },
    {
     "name": "stderr",
     "output_type": "stream",
     "text": [
      "\r",
      " 80%|████████  | 8/10 [00:02<00:00,  2.54it/s]"
     ]
    },
    {
     "name": "stderr",
     "output_type": "stream",
     "text": [
      "\r",
      " 90%|█████████ | 9/10 [00:03<00:00,  2.58it/s]"
     ]
    },
    {
     "name": "stderr",
     "output_type": "stream",
     "text": [
      "\r",
      "100%|██████████| 10/10 [00:03<00:00,  2.60it/s]"
     ]
    },
    {
     "name": "stderr",
     "output_type": "stream",
     "text": [
      "\r",
      "100%|██████████| 10/10 [00:03<00:00,  2.78it/s]"
     ]
    },
    {
     "name": "stderr",
     "output_type": "stream",
     "text": [
      "\n"
     ]
    },
    {
     "name": "stderr",
     "output_type": "stream",
     "text": [
      "\r",
      "  0%|          | 0/11 [00:00<?, ?it/s]"
     ]
    },
    {
     "name": "stderr",
     "output_type": "stream",
     "text": [
      "\r",
      " 18%|█▊        | 2/11 [00:00<00:01,  5.39it/s]"
     ]
    },
    {
     "name": "stderr",
     "output_type": "stream",
     "text": [
      "\r",
      " 27%|██▋       | 3/11 [00:00<00:02,  3.89it/s]"
     ]
    },
    {
     "name": "stderr",
     "output_type": "stream",
     "text": [
      "\r",
      " 36%|███▋      | 4/11 [00:01<00:02,  3.05it/s]"
     ]
    },
    {
     "name": "stderr",
     "output_type": "stream",
     "text": [
      "\r",
      " 45%|████▌     | 5/11 [00:01<00:02,  2.86it/s]"
     ]
    },
    {
     "name": "stderr",
     "output_type": "stream",
     "text": [
      "\r",
      " 55%|█████▍    | 6/11 [00:01<00:01,  2.68it/s]"
     ]
    },
    {
     "name": "stderr",
     "output_type": "stream",
     "text": [
      "\r",
      " 64%|██████▎   | 7/11 [00:02<00:01,  2.59it/s]"
     ]
    },
    {
     "name": "stderr",
     "output_type": "stream",
     "text": [
      "\r",
      " 73%|███████▎  | 8/11 [00:02<00:01,  2.59it/s]"
     ]
    },
    {
     "name": "stderr",
     "output_type": "stream",
     "text": [
      "\r",
      " 82%|████████▏ | 9/11 [00:03<00:00,  2.62it/s]"
     ]
    },
    {
     "name": "stderr",
     "output_type": "stream",
     "text": [
      "\r",
      " 91%|█████████ | 10/11 [00:03<00:00,  2.56it/s]"
     ]
    },
    {
     "name": "stderr",
     "output_type": "stream",
     "text": [
      "\r",
      "100%|██████████| 11/11 [00:03<00:00,  2.53it/s]"
     ]
    },
    {
     "name": "stderr",
     "output_type": "stream",
     "text": [
      "\r",
      "100%|██████████| 11/11 [00:03<00:00,  2.77it/s]"
     ]
    },
    {
     "name": "stderr",
     "output_type": "stream",
     "text": [
      "\n"
     ]
    },
    {
     "name": "stderr",
     "output_type": "stream",
     "text": [
      "\r",
      "  0%|          | 0/12 [00:00<?, ?it/s]"
     ]
    },
    {
     "name": "stderr",
     "output_type": "stream",
     "text": [
      "\r",
      " 17%|█▋        | 2/12 [00:00<00:02,  3.90it/s]"
     ]
    },
    {
     "name": "stderr",
     "output_type": "stream",
     "text": [
      "\r",
      " 25%|██▌       | 3/12 [00:00<00:02,  3.18it/s]"
     ]
    },
    {
     "name": "stderr",
     "output_type": "stream",
     "text": [
      "\r",
      " 33%|███▎      | 4/12 [00:01<00:03,  2.59it/s]"
     ]
    },
    {
     "name": "stderr",
     "output_type": "stream",
     "text": [
      "\r",
      " 42%|████▏     | 5/12 [00:01<00:02,  2.66it/s]"
     ]
    },
    {
     "name": "stderr",
     "output_type": "stream",
     "text": [
      "\r",
      " 50%|█████     | 6/12 [00:02<00:02,  2.61it/s]"
     ]
    },
    {
     "name": "stderr",
     "output_type": "stream",
     "text": [
      "\r",
      " 58%|█████▊    | 7/12 [00:02<00:01,  2.56it/s]"
     ]
    },
    {
     "name": "stderr",
     "output_type": "stream",
     "text": [
      "\r",
      " 67%|██████▋   | 8/12 [00:03<00:01,  2.47it/s]"
     ]
    },
    {
     "name": "stderr",
     "output_type": "stream",
     "text": [
      "\r",
      " 75%|███████▌  | 9/12 [00:03<00:01,  2.43it/s]"
     ]
    },
    {
     "name": "stderr",
     "output_type": "stream",
     "text": [
      "\r",
      " 83%|████████▎ | 10/12 [00:03<00:00,  2.45it/s]"
     ]
    },
    {
     "name": "stderr",
     "output_type": "stream",
     "text": [
      "\r",
      " 92%|█████████▏| 11/12 [00:04<00:00,  2.52it/s]"
     ]
    },
    {
     "name": "stderr",
     "output_type": "stream",
     "text": [
      "\r",
      "100%|██████████| 12/12 [00:04<00:00,  2.58it/s]"
     ]
    },
    {
     "name": "stderr",
     "output_type": "stream",
     "text": [
      "\r",
      "100%|██████████| 12/12 [00:04<00:00,  2.62it/s]"
     ]
    },
    {
     "name": "stderr",
     "output_type": "stream",
     "text": [
      "\n"
     ]
    },
    {
     "name": "stderr",
     "output_type": "stream",
     "text": [
      "\r",
      "  0%|          | 0/13 [00:00<?, ?it/s]"
     ]
    },
    {
     "name": "stderr",
     "output_type": "stream",
     "text": [
      "\r",
      " 15%|█▌        | 2/13 [00:00<00:02,  3.84it/s]"
     ]
    },
    {
     "name": "stderr",
     "output_type": "stream",
     "text": [
      "\r",
      " 23%|██▎       | 3/13 [00:00<00:03,  2.95it/s]"
     ]
    },
    {
     "name": "stderr",
     "output_type": "stream",
     "text": [
      "\r",
      " 31%|███       | 4/13 [00:01<00:03,  2.58it/s]"
     ]
    },
    {
     "name": "stderr",
     "output_type": "stream",
     "text": [
      "\r",
      " 38%|███▊      | 5/13 [00:01<00:03,  2.51it/s]"
     ]
    },
    {
     "name": "stderr",
     "output_type": "stream",
     "text": [
      "\r",
      " 46%|████▌     | 6/13 [00:02<00:03,  2.33it/s]"
     ]
    },
    {
     "name": "stderr",
     "output_type": "stream",
     "text": [
      "\r",
      " 54%|█████▍    | 7/13 [00:02<00:02,  2.35it/s]"
     ]
    },
    {
     "name": "stderr",
     "output_type": "stream",
     "text": [
      "\r",
      " 62%|██████▏   | 8/13 [00:03<00:02,  2.32it/s]"
     ]
    },
    {
     "name": "stderr",
     "output_type": "stream",
     "text": [
      "\r",
      " 69%|██████▉   | 9/13 [00:03<00:01,  2.34it/s]"
     ]
    },
    {
     "name": "stderr",
     "output_type": "stream",
     "text": [
      "\r",
      " 77%|███████▋  | 10/13 [00:04<00:01,  2.33it/s]"
     ]
    },
    {
     "name": "stderr",
     "output_type": "stream",
     "text": [
      "\r",
      " 85%|████████▍ | 11/13 [00:04<00:00,  2.38it/s]"
     ]
    },
    {
     "name": "stderr",
     "output_type": "stream",
     "text": [
      "\r",
      " 92%|█████████▏| 12/13 [00:04<00:00,  2.46it/s]"
     ]
    },
    {
     "name": "stderr",
     "output_type": "stream",
     "text": [
      "\r",
      "100%|██████████| 13/13 [00:05<00:00,  2.58it/s]"
     ]
    },
    {
     "name": "stderr",
     "output_type": "stream",
     "text": [
      "\r",
      "100%|██████████| 13/13 [00:05<00:00,  2.51it/s]"
     ]
    },
    {
     "name": "stderr",
     "output_type": "stream",
     "text": [
      "\n"
     ]
    },
    {
     "name": "stderr",
     "output_type": "stream",
     "text": [
      "\r",
      "  0%|          | 0/14 [00:00<?, ?it/s]"
     ]
    },
    {
     "name": "stderr",
     "output_type": "stream",
     "text": [
      "\r",
      " 14%|█▍        | 2/14 [00:00<00:03,  3.47it/s]"
     ]
    },
    {
     "name": "stderr",
     "output_type": "stream",
     "text": [
      "\r",
      " 21%|██▏       | 3/14 [00:00<00:03,  2.92it/s]"
     ]
    },
    {
     "name": "stderr",
     "output_type": "stream",
     "text": [
      "\r",
      " 29%|██▊       | 4/14 [00:01<00:03,  2.68it/s]"
     ]
    },
    {
     "name": "stderr",
     "output_type": "stream",
     "text": [
      "\r",
      " 36%|███▌      | 5/14 [00:01<00:03,  2.64it/s]"
     ]
    },
    {
     "name": "stderr",
     "output_type": "stream",
     "text": [
      "\r",
      " 43%|████▎     | 6/14 [00:02<00:03,  2.50it/s]"
     ]
    },
    {
     "name": "stderr",
     "output_type": "stream",
     "text": [
      "\r",
      " 50%|█████     | 7/14 [00:02<00:02,  2.53it/s]"
     ]
    },
    {
     "name": "stderr",
     "output_type": "stream",
     "text": [
      "\r",
      " 57%|█████▋    | 8/14 [00:03<00:02,  2.55it/s]"
     ]
    },
    {
     "name": "stderr",
     "output_type": "stream",
     "text": [
      "\r",
      " 64%|██████▍   | 9/14 [00:03<00:02,  2.46it/s]"
     ]
    },
    {
     "name": "stderr",
     "output_type": "stream",
     "text": [
      "\r",
      " 71%|███████▏  | 10/14 [00:03<00:01,  2.43it/s]"
     ]
    },
    {
     "name": "stderr",
     "output_type": "stream",
     "text": [
      "\r",
      " 79%|███████▊  | 11/14 [00:04<00:01,  2.36it/s]"
     ]
    },
    {
     "name": "stderr",
     "output_type": "stream",
     "text": [
      "\r",
      " 86%|████████▌ | 12/14 [00:04<00:00,  2.35it/s]"
     ]
    },
    {
     "name": "stderr",
     "output_type": "stream",
     "text": [
      "\r",
      " 93%|█████████▎| 13/14 [00:05<00:00,  2.53it/s]"
     ]
    },
    {
     "name": "stderr",
     "output_type": "stream",
     "text": [
      "\r",
      "100%|██████████| 14/14 [00:05<00:00,  2.58it/s]"
     ]
    },
    {
     "name": "stderr",
     "output_type": "stream",
     "text": [
      "\r",
      "100%|██████████| 14/14 [00:05<00:00,  2.56it/s]"
     ]
    },
    {
     "name": "stderr",
     "output_type": "stream",
     "text": [
      "\n"
     ]
    },
    {
     "name": "stderr",
     "output_type": "stream",
     "text": [
      "\r",
      "  0%|          | 0/15 [00:00<?, ?it/s]"
     ]
    },
    {
     "name": "stderr",
     "output_type": "stream",
     "text": [
      "\r",
      " 13%|█▎        | 2/15 [00:00<00:03,  4.14it/s]"
     ]
    },
    {
     "name": "stderr",
     "output_type": "stream",
     "text": [
      "\r",
      " 20%|██        | 3/15 [00:00<00:03,  3.70it/s]"
     ]
    },
    {
     "name": "stderr",
     "output_type": "stream",
     "text": [
      "\r",
      " 27%|██▋       | 4/15 [00:01<00:03,  3.26it/s]"
     ]
    },
    {
     "name": "stderr",
     "output_type": "stream",
     "text": [
      "\r",
      " 33%|███▎      | 5/15 [00:01<00:03,  2.89it/s]"
     ]
    },
    {
     "name": "stderr",
     "output_type": "stream",
     "text": [
      "\r",
      " 40%|████      | 6/15 [00:02<00:03,  2.68it/s]"
     ]
    },
    {
     "name": "stderr",
     "output_type": "stream",
     "text": [
      "\r",
      " 47%|████▋     | 7/15 [00:02<00:03,  2.42it/s]"
     ]
    },
    {
     "name": "stderr",
     "output_type": "stream",
     "text": [
      "\r",
      " 53%|█████▎    | 8/15 [00:02<00:02,  2.34it/s]"
     ]
    },
    {
     "name": "stderr",
     "output_type": "stream",
     "text": [
      "\r",
      " 60%|██████    | 9/15 [00:03<00:02,  2.35it/s]"
     ]
    },
    {
     "name": "stderr",
     "output_type": "stream",
     "text": [
      "\r",
      " 67%|██████▋   | 10/15 [00:03<00:02,  2.36it/s]"
     ]
    },
    {
     "name": "stderr",
     "output_type": "stream",
     "text": [
      "\r",
      " 73%|███████▎  | 11/15 [00:04<00:01,  2.30it/s]"
     ]
    },
    {
     "name": "stderr",
     "output_type": "stream",
     "text": [
      "\r",
      " 80%|████████  | 12/15 [00:04<00:01,  2.36it/s]"
     ]
    },
    {
     "name": "stderr",
     "output_type": "stream",
     "text": [
      "\r",
      " 87%|████████▋ | 13/15 [00:05<00:00,  2.38it/s]"
     ]
    },
    {
     "name": "stderr",
     "output_type": "stream",
     "text": [
      "\r",
      " 93%|█████████▎| 14/15 [00:05<00:00,  2.42it/s]"
     ]
    },
    {
     "name": "stderr",
     "output_type": "stream",
     "text": [
      "\r",
      "100%|██████████| 15/15 [00:05<00:00,  2.46it/s]"
     ]
    },
    {
     "name": "stderr",
     "output_type": "stream",
     "text": [
      "\r",
      "100%|██████████| 15/15 [00:05<00:00,  2.56it/s]"
     ]
    },
    {
     "name": "stderr",
     "output_type": "stream",
     "text": [
      "\n"
     ]
    },
    {
     "data": {
      "text/html": [
       "<div>\n",
       "<style scoped>\n",
       "    .dataframe tbody tr th:only-of-type {\n",
       "        vertical-align: middle;\n",
       "    }\n",
       "\n",
       "    .dataframe tbody tr th {\n",
       "        vertical-align: top;\n",
       "    }\n",
       "\n",
       "    .dataframe thead tr th {\n",
       "        text-align: left;\n",
       "    }\n",
       "\n",
       "    .dataframe thead tr:last-of-type th {\n",
       "        text-align: right;\n",
       "    }\n",
       "</style>\n",
       "<table border=\"1\" class=\"dataframe\">\n",
       "  <thead>\n",
       "    <tr>\n",
       "      <th></th>\n",
       "      <th colspan=\"2\" halign=\"left\">fit_time</th>\n",
       "      <th colspan=\"2\" halign=\"left\">score_time</th>\n",
       "      <th colspan=\"2\" halign=\"left\">test_precision</th>\n",
       "      <th colspan=\"2\" halign=\"left\">test_recall</th>\n",
       "      <th colspan=\"2\" halign=\"left\">test_f1</th>\n",
       "      <th colspan=\"2\" halign=\"left\">test_balanced_accuracy</th>\n",
       "      <th colspan=\"2\" halign=\"left\">test_roc_auc</th>\n",
       "      <th colspan=\"2\" halign=\"left\">test_average_precision</th>\n",
       "      <th colspan=\"2\" halign=\"left\">n_observations</th>\n",
       "    </tr>\n",
       "    <tr>\n",
       "      <th></th>\n",
       "      <th>mean</th>\n",
       "      <th>std</th>\n",
       "      <th>mean</th>\n",
       "      <th>std</th>\n",
       "      <th>mean</th>\n",
       "      <th>std</th>\n",
       "      <th>mean</th>\n",
       "      <th>std</th>\n",
       "      <th>mean</th>\n",
       "      <th>std</th>\n",
       "      <th>mean</th>\n",
       "      <th>std</th>\n",
       "      <th>mean</th>\n",
       "      <th>std</th>\n",
       "      <th>mean</th>\n",
       "      <th>std</th>\n",
       "      <th>mean</th>\n",
       "      <th>std</th>\n",
       "    </tr>\n",
       "    <tr>\n",
       "      <th>n_features</th>\n",
       "      <th></th>\n",
       "      <th></th>\n",
       "      <th></th>\n",
       "      <th></th>\n",
       "      <th></th>\n",
       "      <th></th>\n",
       "      <th></th>\n",
       "      <th></th>\n",
       "      <th></th>\n",
       "      <th></th>\n",
       "      <th></th>\n",
       "      <th></th>\n",
       "      <th></th>\n",
       "      <th></th>\n",
       "      <th></th>\n",
       "      <th></th>\n",
       "      <th></th>\n",
       "      <th></th>\n",
       "    </tr>\n",
       "  </thead>\n",
       "  <tbody>\n",
       "    <tr>\n",
       "      <th>1</th>\n",
       "      <td>0.004</td>\n",
       "      <td>0.003</td>\n",
       "      <td>0.047</td>\n",
       "      <td>0.014</td>\n",
       "      <td>0.651</td>\n",
       "      <td>0.422</td>\n",
       "      <td>0.091</td>\n",
       "      <td>0.083</td>\n",
       "      <td>0.153</td>\n",
       "      <td>0.128</td>\n",
       "      <td>0.538</td>\n",
       "      <td>0.039</td>\n",
       "      <td>0.854</td>\n",
       "      <td>0.061</td>\n",
       "      <td>0.828</td>\n",
       "      <td>0.086</td>\n",
       "      <td>210.000</td>\n",
       "      <td>0.000</td>\n",
       "    </tr>\n",
       "    <tr>\n",
       "      <th>2</th>\n",
       "      <td>0.004</td>\n",
       "      <td>0.000</td>\n",
       "      <td>0.048</td>\n",
       "      <td>0.001</td>\n",
       "      <td>0.700</td>\n",
       "      <td>0.118</td>\n",
       "      <td>0.516</td>\n",
       "      <td>0.111</td>\n",
       "      <td>0.584</td>\n",
       "      <td>0.086</td>\n",
       "      <td>0.672</td>\n",
       "      <td>0.059</td>\n",
       "      <td>0.722</td>\n",
       "      <td>0.082</td>\n",
       "      <td>0.665</td>\n",
       "      <td>0.101</td>\n",
       "      <td>210.000</td>\n",
       "      <td>0.000</td>\n",
       "    </tr>\n",
       "    <tr>\n",
       "      <th>3</th>\n",
       "      <td>0.004</td>\n",
       "      <td>0.000</td>\n",
       "      <td>0.047</td>\n",
       "      <td>0.003</td>\n",
       "      <td>0.711</td>\n",
       "      <td>0.114</td>\n",
       "      <td>0.623</td>\n",
       "      <td>0.130</td>\n",
       "      <td>0.653</td>\n",
       "      <td>0.088</td>\n",
       "      <td>0.713</td>\n",
       "      <td>0.069</td>\n",
       "      <td>0.788</td>\n",
       "      <td>0.077</td>\n",
       "      <td>0.721</td>\n",
       "      <td>0.097</td>\n",
       "      <td>210.000</td>\n",
       "      <td>0.000</td>\n",
       "    </tr>\n",
       "    <tr>\n",
       "      <th>4</th>\n",
       "      <td>0.004</td>\n",
       "      <td>0.002</td>\n",
       "      <td>0.048</td>\n",
       "      <td>0.002</td>\n",
       "      <td>0.719</td>\n",
       "      <td>0.083</td>\n",
       "      <td>0.722</td>\n",
       "      <td>0.110</td>\n",
       "      <td>0.716</td>\n",
       "      <td>0.080</td>\n",
       "      <td>0.756</td>\n",
       "      <td>0.066</td>\n",
       "      <td>0.833</td>\n",
       "      <td>0.064</td>\n",
       "      <td>0.777</td>\n",
       "      <td>0.077</td>\n",
       "      <td>210.000</td>\n",
       "      <td>0.000</td>\n",
       "    </tr>\n",
       "    <tr>\n",
       "      <th>5</th>\n",
       "      <td>0.004</td>\n",
       "      <td>0.000</td>\n",
       "      <td>0.049</td>\n",
       "      <td>0.007</td>\n",
       "      <td>0.772</td>\n",
       "      <td>0.093</td>\n",
       "      <td>0.726</td>\n",
       "      <td>0.103</td>\n",
       "      <td>0.743</td>\n",
       "      <td>0.077</td>\n",
       "      <td>0.782</td>\n",
       "      <td>0.062</td>\n",
       "      <td>0.850</td>\n",
       "      <td>0.062</td>\n",
       "      <td>0.811</td>\n",
       "      <td>0.081</td>\n",
       "      <td>210.000</td>\n",
       "      <td>0.000</td>\n",
       "    </tr>\n",
       "    <tr>\n",
       "      <th>6</th>\n",
       "      <td>0.004</td>\n",
       "      <td>0.003</td>\n",
       "      <td>0.051</td>\n",
       "      <td>0.014</td>\n",
       "      <td>0.779</td>\n",
       "      <td>0.082</td>\n",
       "      <td>0.751</td>\n",
       "      <td>0.109</td>\n",
       "      <td>0.759</td>\n",
       "      <td>0.072</td>\n",
       "      <td>0.796</td>\n",
       "      <td>0.059</td>\n",
       "      <td>0.849</td>\n",
       "      <td>0.056</td>\n",
       "      <td>0.812</td>\n",
       "      <td>0.076</td>\n",
       "      <td>210.000</td>\n",
       "      <td>0.000</td>\n",
       "    </tr>\n",
       "    <tr>\n",
       "      <th>7</th>\n",
       "      <td>0.004</td>\n",
       "      <td>0.000</td>\n",
       "      <td>0.049</td>\n",
       "      <td>0.007</td>\n",
       "      <td>0.817</td>\n",
       "      <td>0.082</td>\n",
       "      <td>0.838</td>\n",
       "      <td>0.077</td>\n",
       "      <td>0.823</td>\n",
       "      <td>0.054</td>\n",
       "      <td>0.848</td>\n",
       "      <td>0.046</td>\n",
       "      <td>0.902</td>\n",
       "      <td>0.048</td>\n",
       "      <td>0.881</td>\n",
       "      <td>0.061</td>\n",
       "      <td>210.000</td>\n",
       "      <td>0.000</td>\n",
       "    </tr>\n",
       "    <tr>\n",
       "      <th>8</th>\n",
       "      <td>0.004</td>\n",
       "      <td>0.001</td>\n",
       "      <td>0.050</td>\n",
       "      <td>0.011</td>\n",
       "      <td>0.820</td>\n",
       "      <td>0.086</td>\n",
       "      <td>0.834</td>\n",
       "      <td>0.080</td>\n",
       "      <td>0.822</td>\n",
       "      <td>0.055</td>\n",
       "      <td>0.847</td>\n",
       "      <td>0.046</td>\n",
       "      <td>0.900</td>\n",
       "      <td>0.049</td>\n",
       "      <td>0.880</td>\n",
       "      <td>0.062</td>\n",
       "      <td>210.000</td>\n",
       "      <td>0.000</td>\n",
       "    </tr>\n",
       "    <tr>\n",
       "      <th>9</th>\n",
       "      <td>0.004</td>\n",
       "      <td>0.002</td>\n",
       "      <td>0.054</td>\n",
       "      <td>0.018</td>\n",
       "      <td>0.815</td>\n",
       "      <td>0.090</td>\n",
       "      <td>0.832</td>\n",
       "      <td>0.080</td>\n",
       "      <td>0.819</td>\n",
       "      <td>0.057</td>\n",
       "      <td>0.844</td>\n",
       "      <td>0.049</td>\n",
       "      <td>0.900</td>\n",
       "      <td>0.050</td>\n",
       "      <td>0.877</td>\n",
       "      <td>0.064</td>\n",
       "      <td>210.000</td>\n",
       "      <td>0.000</td>\n",
       "    </tr>\n",
       "    <tr>\n",
       "      <th>10</th>\n",
       "      <td>0.005</td>\n",
       "      <td>0.002</td>\n",
       "      <td>0.052</td>\n",
       "      <td>0.014</td>\n",
       "      <td>0.808</td>\n",
       "      <td>0.093</td>\n",
       "      <td>0.807</td>\n",
       "      <td>0.094</td>\n",
       "      <td>0.803</td>\n",
       "      <td>0.068</td>\n",
       "      <td>0.831</td>\n",
       "      <td>0.057</td>\n",
       "      <td>0.899</td>\n",
       "      <td>0.051</td>\n",
       "      <td>0.877</td>\n",
       "      <td>0.061</td>\n",
       "      <td>210.000</td>\n",
       "      <td>0.000</td>\n",
       "    </tr>\n",
       "    <tr>\n",
       "      <th>11</th>\n",
       "      <td>0.004</td>\n",
       "      <td>0.002</td>\n",
       "      <td>0.046</td>\n",
       "      <td>0.011</td>\n",
       "      <td>0.810</td>\n",
       "      <td>0.094</td>\n",
       "      <td>0.812</td>\n",
       "      <td>0.098</td>\n",
       "      <td>0.806</td>\n",
       "      <td>0.071</td>\n",
       "      <td>0.834</td>\n",
       "      <td>0.060</td>\n",
       "      <td>0.901</td>\n",
       "      <td>0.050</td>\n",
       "      <td>0.883</td>\n",
       "      <td>0.058</td>\n",
       "      <td>210.000</td>\n",
       "      <td>0.000</td>\n",
       "    </tr>\n",
       "    <tr>\n",
       "      <th>12</th>\n",
       "      <td>0.004</td>\n",
       "      <td>0.001</td>\n",
       "      <td>0.050</td>\n",
       "      <td>0.009</td>\n",
       "      <td>0.817</td>\n",
       "      <td>0.080</td>\n",
       "      <td>0.812</td>\n",
       "      <td>0.092</td>\n",
       "      <td>0.811</td>\n",
       "      <td>0.067</td>\n",
       "      <td>0.838</td>\n",
       "      <td>0.057</td>\n",
       "      <td>0.905</td>\n",
       "      <td>0.051</td>\n",
       "      <td>0.895</td>\n",
       "      <td>0.053</td>\n",
       "      <td>210.000</td>\n",
       "      <td>0.000</td>\n",
       "    </tr>\n",
       "    <tr>\n",
       "      <th>13</th>\n",
       "      <td>0.006</td>\n",
       "      <td>0.004</td>\n",
       "      <td>0.055</td>\n",
       "      <td>0.018</td>\n",
       "      <td>0.807</td>\n",
       "      <td>0.088</td>\n",
       "      <td>0.813</td>\n",
       "      <td>0.090</td>\n",
       "      <td>0.806</td>\n",
       "      <td>0.069</td>\n",
       "      <td>0.833</td>\n",
       "      <td>0.060</td>\n",
       "      <td>0.904</td>\n",
       "      <td>0.052</td>\n",
       "      <td>0.895</td>\n",
       "      <td>0.052</td>\n",
       "      <td>210.000</td>\n",
       "      <td>0.000</td>\n",
       "    </tr>\n",
       "    <tr>\n",
       "      <th>14</th>\n",
       "      <td>0.005</td>\n",
       "      <td>0.002</td>\n",
       "      <td>0.057</td>\n",
       "      <td>0.021</td>\n",
       "      <td>0.803</td>\n",
       "      <td>0.089</td>\n",
       "      <td>0.807</td>\n",
       "      <td>0.096</td>\n",
       "      <td>0.802</td>\n",
       "      <td>0.075</td>\n",
       "      <td>0.830</td>\n",
       "      <td>0.064</td>\n",
       "      <td>0.903</td>\n",
       "      <td>0.052</td>\n",
       "      <td>0.894</td>\n",
       "      <td>0.051</td>\n",
       "      <td>210.000</td>\n",
       "      <td>0.000</td>\n",
       "    </tr>\n",
       "    <tr>\n",
       "      <th>15</th>\n",
       "      <td>0.005</td>\n",
       "      <td>0.003</td>\n",
       "      <td>0.057</td>\n",
       "      <td>0.021</td>\n",
       "      <td>0.803</td>\n",
       "      <td>0.082</td>\n",
       "      <td>0.806</td>\n",
       "      <td>0.091</td>\n",
       "      <td>0.800</td>\n",
       "      <td>0.065</td>\n",
       "      <td>0.829</td>\n",
       "      <td>0.056</td>\n",
       "      <td>0.902</td>\n",
       "      <td>0.053</td>\n",
       "      <td>0.891</td>\n",
       "      <td>0.054</td>\n",
       "      <td>210.000</td>\n",
       "      <td>0.000</td>\n",
       "    </tr>\n",
       "  </tbody>\n",
       "</table>\n",
       "</div>"
      ],
      "text/plain": [
       "           fit_time       score_time       test_precision       test_recall  \\\n",
       "               mean   std       mean   std           mean   std        mean   \n",
       "n_features                                                                    \n",
       "1             0.004 0.003      0.047 0.014          0.651 0.422       0.091   \n",
       "2             0.004 0.000      0.048 0.001          0.700 0.118       0.516   \n",
       "3             0.004 0.000      0.047 0.003          0.711 0.114       0.623   \n",
       "4             0.004 0.002      0.048 0.002          0.719 0.083       0.722   \n",
       "5             0.004 0.000      0.049 0.007          0.772 0.093       0.726   \n",
       "6             0.004 0.003      0.051 0.014          0.779 0.082       0.751   \n",
       "7             0.004 0.000      0.049 0.007          0.817 0.082       0.838   \n",
       "8             0.004 0.001      0.050 0.011          0.820 0.086       0.834   \n",
       "9             0.004 0.002      0.054 0.018          0.815 0.090       0.832   \n",
       "10            0.005 0.002      0.052 0.014          0.808 0.093       0.807   \n",
       "11            0.004 0.002      0.046 0.011          0.810 0.094       0.812   \n",
       "12            0.004 0.001      0.050 0.009          0.817 0.080       0.812   \n",
       "13            0.006 0.004      0.055 0.018          0.807 0.088       0.813   \n",
       "14            0.005 0.002      0.057 0.021          0.803 0.089       0.807   \n",
       "15            0.005 0.003      0.057 0.021          0.803 0.082       0.806   \n",
       "\n",
       "                 test_f1       test_balanced_accuracy       test_roc_auc  \\\n",
       "             std    mean   std                   mean   std         mean   \n",
       "n_features                                                                 \n",
       "1          0.083   0.153 0.128                  0.538 0.039        0.854   \n",
       "2          0.111   0.584 0.086                  0.672 0.059        0.722   \n",
       "3          0.130   0.653 0.088                  0.713 0.069        0.788   \n",
       "4          0.110   0.716 0.080                  0.756 0.066        0.833   \n",
       "5          0.103   0.743 0.077                  0.782 0.062        0.850   \n",
       "6          0.109   0.759 0.072                  0.796 0.059        0.849   \n",
       "7          0.077   0.823 0.054                  0.848 0.046        0.902   \n",
       "8          0.080   0.822 0.055                  0.847 0.046        0.900   \n",
       "9          0.080   0.819 0.057                  0.844 0.049        0.900   \n",
       "10         0.094   0.803 0.068                  0.831 0.057        0.899   \n",
       "11         0.098   0.806 0.071                  0.834 0.060        0.901   \n",
       "12         0.092   0.811 0.067                  0.838 0.057        0.905   \n",
       "13         0.090   0.806 0.069                  0.833 0.060        0.904   \n",
       "14         0.096   0.802 0.075                  0.830 0.064        0.903   \n",
       "15         0.091   0.800 0.065                  0.829 0.056        0.902   \n",
       "\n",
       "                 test_average_precision       n_observations        \n",
       "             std                   mean   std           mean   std  \n",
       "n_features                                                          \n",
       "1          0.061                  0.828 0.086        210.000 0.000  \n",
       "2          0.082                  0.665 0.101        210.000 0.000  \n",
       "3          0.077                  0.721 0.097        210.000 0.000  \n",
       "4          0.064                  0.777 0.077        210.000 0.000  \n",
       "5          0.062                  0.811 0.081        210.000 0.000  \n",
       "6          0.056                  0.812 0.076        210.000 0.000  \n",
       "7          0.048                  0.881 0.061        210.000 0.000  \n",
       "8          0.049                  0.880 0.062        210.000 0.000  \n",
       "9          0.050                  0.877 0.064        210.000 0.000  \n",
       "10         0.051                  0.877 0.061        210.000 0.000  \n",
       "11         0.050                  0.883 0.058        210.000 0.000  \n",
       "12         0.051                  0.895 0.053        210.000 0.000  \n",
       "13         0.052                  0.895 0.052        210.000 0.000  \n",
       "14         0.052                  0.894 0.051        210.000 0.000  \n",
       "15         0.053                  0.891 0.054        210.000 0.000  "
      ]
     },
     "execution_count": 15,
     "metadata": {},
     "output_type": "execute_result"
    }
   ],
   "source": [
    "cv_feat_ald = njab.sklearn.find_n_best_features(X=ald_study, y=target, name=args.target,\n",
    "                                                groups=target_to_group)\n",
    "cv_feat_ald = (cv_feat_ald\n",
    "               .drop('test_case', axis=1)\n",
    "               .groupby('n_features')\n",
    "               .agg(['mean', 'std']))\n",
    "cv_feat_ald"
   ]
  },
  {
   "cell_type": "markdown",
   "id": "b40fb391",
   "metadata": {
    "papermill": {
     "duration": 0.037484,
     "end_time": "2024-06-19T02:48:32.180144",
     "exception": false,
     "start_time": "2024-06-19T02:48:32.142660",
     "status": "completed"
    },
    "tags": []
   },
   "source": [
    "Using all data:"
   ]
  },
  {
   "cell_type": "code",
   "execution_count": 16,
   "id": "988dea31",
   "metadata": {
    "execution": {
     "iopub.execute_input": "2024-06-19T02:48:32.289726Z",
     "iopub.status.busy": "2024-06-19T02:48:32.289229Z",
     "iopub.status.idle": "2024-06-19T02:51:14.461338Z",
     "shell.execute_reply": "2024-06-19T02:51:14.460537Z"
    },
    "papermill": {
     "duration": 162.224588,
     "end_time": "2024-06-19T02:51:14.463291",
     "exception": false,
     "start_time": "2024-06-19T02:48:32.238703",
     "status": "completed"
    },
    "tags": [
     "hide-input"
    ]
   },
   "outputs": [
    {
     "name": "stderr",
     "output_type": "stream",
     "text": [
      "\r",
      "  0%|          | 0/1 [00:00<?, ?it/s]"
     ]
    },
    {
     "name": "stderr",
     "output_type": "stream",
     "text": [
      "\r",
      "100%|██████████| 1/1 [00:00<00:00, 422.98it/s]"
     ]
    },
    {
     "name": "stderr",
     "output_type": "stream",
     "text": [
      "\n"
     ]
    },
    {
     "name": "stderr",
     "output_type": "stream",
     "text": [
      "\r",
      "  0%|          | 0/2 [00:00<?, ?it/s]"
     ]
    },
    {
     "name": "stderr",
     "output_type": "stream",
     "text": [
      "\r",
      "100%|██████████| 2/2 [00:00<00:00,  5.71it/s]"
     ]
    },
    {
     "name": "stderr",
     "output_type": "stream",
     "text": [
      "\r",
      "100%|██████████| 2/2 [00:00<00:00,  5.66it/s]"
     ]
    },
    {
     "name": "stderr",
     "output_type": "stream",
     "text": [
      "\n"
     ]
    },
    {
     "name": "stderr",
     "output_type": "stream",
     "text": [
      "\r",
      "  0%|          | 0/3 [00:00<?, ?it/s]"
     ]
    },
    {
     "name": "stderr",
     "output_type": "stream",
     "text": [
      "\r",
      " 67%|██████▋   | 2/3 [00:00<00:00,  5.59it/s]"
     ]
    },
    {
     "name": "stderr",
     "output_type": "stream",
     "text": [
      "\r",
      "100%|██████████| 3/3 [00:00<00:00,  3.89it/s]"
     ]
    },
    {
     "name": "stderr",
     "output_type": "stream",
     "text": [
      "\r",
      "100%|██████████| 3/3 [00:00<00:00,  4.13it/s]"
     ]
    },
    {
     "name": "stderr",
     "output_type": "stream",
     "text": [
      "\n"
     ]
    },
    {
     "name": "stderr",
     "output_type": "stream",
     "text": [
      "\r",
      "  0%|          | 0/4 [00:00<?, ?it/s]"
     ]
    },
    {
     "name": "stderr",
     "output_type": "stream",
     "text": [
      "\r",
      " 50%|█████     | 2/4 [00:00<00:00,  4.83it/s]"
     ]
    },
    {
     "name": "stderr",
     "output_type": "stream",
     "text": [
      "\r",
      " 75%|███████▌  | 3/4 [00:00<00:00,  3.65it/s]"
     ]
    },
    {
     "name": "stderr",
     "output_type": "stream",
     "text": [
      "\r",
      "100%|██████████| 4/4 [00:01<00:00,  3.23it/s]"
     ]
    },
    {
     "name": "stderr",
     "output_type": "stream",
     "text": [
      "\r",
      "100%|██████████| 4/4 [00:01<00:00,  3.46it/s]"
     ]
    },
    {
     "name": "stderr",
     "output_type": "stream",
     "text": [
      "\n"
     ]
    },
    {
     "name": "stderr",
     "output_type": "stream",
     "text": [
      "\r",
      "  0%|          | 0/5 [00:00<?, ?it/s]"
     ]
    },
    {
     "name": "stderr",
     "output_type": "stream",
     "text": [
      "\r",
      " 40%|████      | 2/5 [00:00<00:00,  4.72it/s]"
     ]
    },
    {
     "name": "stderr",
     "output_type": "stream",
     "text": [
      "\r",
      " 60%|██████    | 3/5 [00:00<00:00,  3.30it/s]"
     ]
    },
    {
     "name": "stderr",
     "output_type": "stream",
     "text": [
      "\r",
      " 80%|████████  | 4/5 [00:01<00:00,  2.66it/s]"
     ]
    },
    {
     "name": "stderr",
     "output_type": "stream",
     "text": [
      "\r",
      "100%|██████████| 5/5 [00:01<00:00,  2.74it/s]"
     ]
    },
    {
     "name": "stderr",
     "output_type": "stream",
     "text": [
      "\r",
      "100%|██████████| 5/5 [00:01<00:00,  2.94it/s]"
     ]
    },
    {
     "name": "stderr",
     "output_type": "stream",
     "text": [
      "\n"
     ]
    },
    {
     "name": "stderr",
     "output_type": "stream",
     "text": [
      "\r",
      "  0%|          | 0/6 [00:00<?, ?it/s]"
     ]
    },
    {
     "name": "stderr",
     "output_type": "stream",
     "text": [
      "\r",
      " 33%|███▎      | 2/6 [00:00<00:00,  5.02it/s]"
     ]
    },
    {
     "name": "stderr",
     "output_type": "stream",
     "text": [
      "\r",
      " 50%|█████     | 3/6 [00:00<00:00,  3.36it/s]"
     ]
    },
    {
     "name": "stderr",
     "output_type": "stream",
     "text": [
      "\r",
      " 67%|██████▋   | 4/6 [00:01<00:00,  2.88it/s]"
     ]
    },
    {
     "name": "stderr",
     "output_type": "stream",
     "text": [
      "\r",
      " 83%|████████▎ | 5/6 [00:01<00:00,  2.77it/s]"
     ]
    },
    {
     "name": "stderr",
     "output_type": "stream",
     "text": [
      "\r",
      "100%|██████████| 6/6 [00:02<00:00,  2.79it/s]"
     ]
    },
    {
     "name": "stderr",
     "output_type": "stream",
     "text": [
      "\r",
      "100%|██████████| 6/6 [00:02<00:00,  2.99it/s]"
     ]
    },
    {
     "name": "stderr",
     "output_type": "stream",
     "text": [
      "\n"
     ]
    },
    {
     "name": "stderr",
     "output_type": "stream",
     "text": [
      "\r",
      "  0%|          | 0/7 [00:00<?, ?it/s]"
     ]
    },
    {
     "name": "stderr",
     "output_type": "stream",
     "text": [
      "\r",
      " 29%|██▊       | 2/7 [00:00<00:01,  4.82it/s]"
     ]
    },
    {
     "name": "stderr",
     "output_type": "stream",
     "text": [
      "\r",
      " 43%|████▎     | 3/7 [00:00<00:01,  3.52it/s]"
     ]
    },
    {
     "name": "stderr",
     "output_type": "stream",
     "text": [
      "\r",
      " 57%|█████▋    | 4/7 [00:01<00:01,  2.92it/s]"
     ]
    },
    {
     "name": "stderr",
     "output_type": "stream",
     "text": [
      "\r",
      " 71%|███████▏  | 5/7 [00:01<00:00,  2.78it/s]"
     ]
    },
    {
     "name": "stderr",
     "output_type": "stream",
     "text": [
      "\r",
      " 86%|████████▌ | 6/7 [00:02<00:00,  2.69it/s]"
     ]
    },
    {
     "name": "stderr",
     "output_type": "stream",
     "text": [
      "\r",
      "100%|██████████| 7/7 [00:02<00:00,  2.72it/s]"
     ]
    },
    {
     "name": "stderr",
     "output_type": "stream",
     "text": [
      "\r",
      "100%|██████████| 7/7 [00:02<00:00,  2.92it/s]"
     ]
    },
    {
     "name": "stderr",
     "output_type": "stream",
     "text": [
      "\n"
     ]
    },
    {
     "name": "stderr",
     "output_type": "stream",
     "text": [
      "\r",
      "  0%|          | 0/8 [00:00<?, ?it/s]"
     ]
    },
    {
     "name": "stderr",
     "output_type": "stream",
     "text": [
      "\r",
      " 25%|██▌       | 2/8 [00:00<00:01,  3.43it/s]"
     ]
    },
    {
     "name": "stderr",
     "output_type": "stream",
     "text": [
      "\r",
      " 38%|███▊      | 3/8 [00:01<00:01,  2.87it/s]"
     ]
    },
    {
     "name": "stderr",
     "output_type": "stream",
     "text": [
      "\r",
      " 50%|█████     | 4/8 [00:01<00:01,  2.69it/s]"
     ]
    },
    {
     "name": "stderr",
     "output_type": "stream",
     "text": [
      "\r",
      " 62%|██████▎   | 5/8 [00:01<00:01,  2.57it/s]"
     ]
    },
    {
     "name": "stderr",
     "output_type": "stream",
     "text": [
      "\r",
      " 75%|███████▌  | 6/8 [00:02<00:00,  2.47it/s]"
     ]
    },
    {
     "name": "stderr",
     "output_type": "stream",
     "text": [
      "\r",
      " 88%|████████▊ | 7/8 [00:02<00:00,  2.37it/s]"
     ]
    },
    {
     "name": "stderr",
     "output_type": "stream",
     "text": [
      "\r",
      "100%|██████████| 8/8 [00:03<00:00,  2.39it/s]"
     ]
    },
    {
     "name": "stderr",
     "output_type": "stream",
     "text": [
      "\r",
      "100%|██████████| 8/8 [00:03<00:00,  2.54it/s]"
     ]
    },
    {
     "name": "stderr",
     "output_type": "stream",
     "text": [
      "\n"
     ]
    },
    {
     "name": "stderr",
     "output_type": "stream",
     "text": [
      "\r",
      "  0%|          | 0/9 [00:00<?, ?it/s]"
     ]
    },
    {
     "name": "stderr",
     "output_type": "stream",
     "text": [
      "\r",
      " 22%|██▏       | 2/9 [00:00<00:01,  5.84it/s]"
     ]
    },
    {
     "name": "stderr",
     "output_type": "stream",
     "text": [
      "\r",
      " 33%|███▎      | 3/9 [00:00<00:01,  3.61it/s]"
     ]
    },
    {
     "name": "stderr",
     "output_type": "stream",
     "text": [
      "\r",
      " 44%|████▍     | 4/9 [00:01<00:01,  2.84it/s]"
     ]
    },
    {
     "name": "stderr",
     "output_type": "stream",
     "text": [
      "\r",
      " 56%|█████▌    | 5/9 [00:01<00:01,  2.62it/s]"
     ]
    },
    {
     "name": "stderr",
     "output_type": "stream",
     "text": [
      "\r",
      " 67%|██████▋   | 6/9 [00:02<00:01,  2.18it/s]"
     ]
    },
    {
     "name": "stderr",
     "output_type": "stream",
     "text": [
      "\r",
      " 78%|███████▊  | 7/9 [00:02<00:00,  2.05it/s]"
     ]
    },
    {
     "name": "stderr",
     "output_type": "stream",
     "text": [
      "\r",
      " 89%|████████▉ | 8/9 [00:03<00:00,  1.85it/s]"
     ]
    },
    {
     "name": "stderr",
     "output_type": "stream",
     "text": [
      "\r",
      "100%|██████████| 9/9 [00:03<00:00,  1.94it/s]"
     ]
    },
    {
     "name": "stderr",
     "output_type": "stream",
     "text": [
      "\r",
      "100%|██████████| 9/9 [00:03<00:00,  2.27it/s]"
     ]
    },
    {
     "name": "stderr",
     "output_type": "stream",
     "text": [
      "\n"
     ]
    },
    {
     "name": "stderr",
     "output_type": "stream",
     "text": [
      "\r",
      "  0%|          | 0/10 [00:00<?, ?it/s]"
     ]
    },
    {
     "name": "stderr",
     "output_type": "stream",
     "text": [
      "\r",
      " 20%|██        | 2/10 [00:00<00:01,  4.03it/s]"
     ]
    },
    {
     "name": "stderr",
     "output_type": "stream",
     "text": [
      "\r",
      " 30%|███       | 3/10 [00:01<00:02,  2.51it/s]"
     ]
    },
    {
     "name": "stderr",
     "output_type": "stream",
     "text": [
      "\r",
      " 40%|████      | 4/10 [00:01<00:02,  2.17it/s]"
     ]
    },
    {
     "name": "stderr",
     "output_type": "stream",
     "text": [
      "\r",
      " 50%|█████     | 5/10 [00:02<00:02,  2.35it/s]"
     ]
    },
    {
     "name": "stderr",
     "output_type": "stream",
     "text": [
      "\r",
      " 60%|██████    | 6/10 [00:02<00:01,  2.23it/s]"
     ]
    },
    {
     "name": "stderr",
     "output_type": "stream",
     "text": [
      "\r",
      " 70%|███████   | 7/10 [00:02<00:01,  2.40it/s]"
     ]
    },
    {
     "name": "stderr",
     "output_type": "stream",
     "text": [
      "\r",
      " 80%|████████  | 8/10 [00:03<00:00,  2.51it/s]"
     ]
    },
    {
     "name": "stderr",
     "output_type": "stream",
     "text": [
      "\r",
      " 90%|█████████ | 9/10 [00:03<00:00,  2.54it/s]"
     ]
    },
    {
     "name": "stderr",
     "output_type": "stream",
     "text": [
      "\r",
      "100%|██████████| 10/10 [00:04<00:00,  2.28it/s]"
     ]
    },
    {
     "name": "stderr",
     "output_type": "stream",
     "text": [
      "\r",
      "100%|██████████| 10/10 [00:04<00:00,  2.41it/s]"
     ]
    },
    {
     "name": "stderr",
     "output_type": "stream",
     "text": [
      "\n"
     ]
    },
    {
     "name": "stderr",
     "output_type": "stream",
     "text": [
      "\r",
      "  0%|          | 0/11 [00:00<?, ?it/s]"
     ]
    },
    {
     "name": "stderr",
     "output_type": "stream",
     "text": [
      "\r",
      " 18%|█▊        | 2/11 [00:00<00:01,  5.29it/s]"
     ]
    },
    {
     "name": "stderr",
     "output_type": "stream",
     "text": [
      "\r",
      " 27%|██▋       | 3/11 [00:00<00:02,  3.56it/s]"
     ]
    },
    {
     "name": "stderr",
     "output_type": "stream",
     "text": [
      "\r",
      " 36%|███▋      | 4/11 [00:01<00:02,  3.03it/s]"
     ]
    },
    {
     "name": "stderr",
     "output_type": "stream",
     "text": [
      "\r",
      " 45%|████▌     | 5/11 [00:01<00:02,  2.73it/s]"
     ]
    },
    {
     "name": "stderr",
     "output_type": "stream",
     "text": [
      "\r",
      " 55%|█████▍    | 6/11 [00:02<00:01,  2.67it/s]"
     ]
    },
    {
     "name": "stderr",
     "output_type": "stream",
     "text": [
      "\r",
      " 64%|██████▎   | 7/11 [00:02<00:01,  2.32it/s]"
     ]
    },
    {
     "name": "stderr",
     "output_type": "stream",
     "text": [
      "\r",
      " 73%|███████▎  | 8/11 [00:03<00:01,  2.04it/s]"
     ]
    },
    {
     "name": "stderr",
     "output_type": "stream",
     "text": [
      "\r",
      " 82%|████████▏ | 9/11 [00:03<00:01,  1.99it/s]"
     ]
    },
    {
     "name": "stderr",
     "output_type": "stream",
     "text": [
      "\r",
      " 91%|█████████ | 10/11 [00:04<00:00,  2.07it/s]"
     ]
    },
    {
     "name": "stderr",
     "output_type": "stream",
     "text": [
      "\r",
      "100%|██████████| 11/11 [00:04<00:00,  1.81it/s]"
     ]
    },
    {
     "name": "stderr",
     "output_type": "stream",
     "text": [
      "\r",
      "100%|██████████| 11/11 [00:04<00:00,  2.25it/s]"
     ]
    },
    {
     "name": "stderr",
     "output_type": "stream",
     "text": [
      "\n"
     ]
    },
    {
     "name": "stderr",
     "output_type": "stream",
     "text": [
      "\r",
      "  0%|          | 0/12 [00:00<?, ?it/s]"
     ]
    },
    {
     "name": "stderr",
     "output_type": "stream",
     "text": [
      "\r",
      " 17%|█▋        | 2/12 [00:00<00:02,  3.36it/s]"
     ]
    },
    {
     "name": "stderr",
     "output_type": "stream",
     "text": [
      "\r",
      " 25%|██▌       | 3/12 [00:01<00:03,  2.80it/s]"
     ]
    },
    {
     "name": "stderr",
     "output_type": "stream",
     "text": [
      "\r",
      " 33%|███▎      | 4/12 [00:01<00:03,  2.36it/s]"
     ]
    },
    {
     "name": "stderr",
     "output_type": "stream",
     "text": [
      "\r",
      " 42%|████▏     | 5/12 [00:02<00:03,  2.20it/s]"
     ]
    },
    {
     "name": "stderr",
     "output_type": "stream",
     "text": [
      "\r",
      " 50%|█████     | 6/12 [00:02<00:02,  2.10it/s]"
     ]
    },
    {
     "name": "stderr",
     "output_type": "stream",
     "text": [
      "\r",
      " 58%|█████▊    | 7/12 [00:03<00:02,  2.12it/s]"
     ]
    },
    {
     "name": "stderr",
     "output_type": "stream",
     "text": [
      "\r",
      " 67%|██████▋   | 8/12 [00:03<00:01,  2.16it/s]"
     ]
    },
    {
     "name": "stderr",
     "output_type": "stream",
     "text": [
      "\r",
      " 75%|███████▌  | 9/12 [00:03<00:01,  2.34it/s]"
     ]
    },
    {
     "name": "stderr",
     "output_type": "stream",
     "text": [
      "\r",
      " 83%|████████▎ | 10/12 [00:04<00:00,  2.47it/s]"
     ]
    },
    {
     "name": "stderr",
     "output_type": "stream",
     "text": [
      "\r",
      " 92%|█████████▏| 11/12 [00:04<00:00,  2.16it/s]"
     ]
    },
    {
     "name": "stderr",
     "output_type": "stream",
     "text": [
      "\r",
      "100%|██████████| 12/12 [00:05<00:00,  2.00it/s]"
     ]
    },
    {
     "name": "stderr",
     "output_type": "stream",
     "text": [
      "\r",
      "100%|██████████| 12/12 [00:05<00:00,  2.22it/s]"
     ]
    },
    {
     "name": "stderr",
     "output_type": "stream",
     "text": [
      "\n"
     ]
    },
    {
     "name": "stderr",
     "output_type": "stream",
     "text": [
      "\r",
      "  0%|          | 0/13 [00:00<?, ?it/s]"
     ]
    },
    {
     "name": "stderr",
     "output_type": "stream",
     "text": [
      "\r",
      " 15%|█▌        | 2/13 [00:00<00:02,  4.92it/s]"
     ]
    },
    {
     "name": "stderr",
     "output_type": "stream",
     "text": [
      "\r",
      " 23%|██▎       | 3/13 [00:00<00:03,  3.28it/s]"
     ]
    },
    {
     "name": "stderr",
     "output_type": "stream",
     "text": [
      "\r",
      " 31%|███       | 4/13 [00:01<00:03,  2.93it/s]"
     ]
    },
    {
     "name": "stderr",
     "output_type": "stream",
     "text": [
      "\r",
      " 38%|███▊      | 5/13 [00:01<00:02,  2.73it/s]"
     ]
    },
    {
     "name": "stderr",
     "output_type": "stream",
     "text": [
      "\r",
      " 46%|████▌     | 6/13 [00:02<00:02,  2.54it/s]"
     ]
    },
    {
     "name": "stderr",
     "output_type": "stream",
     "text": [
      "\r",
      " 54%|█████▍    | 7/13 [00:02<00:02,  2.43it/s]"
     ]
    },
    {
     "name": "stderr",
     "output_type": "stream",
     "text": [
      "\r",
      " 62%|██████▏   | 8/13 [00:02<00:01,  2.52it/s]"
     ]
    },
    {
     "name": "stderr",
     "output_type": "stream",
     "text": [
      "\r",
      " 69%|██████▉   | 9/13 [00:03<00:01,  2.64it/s]"
     ]
    },
    {
     "name": "stderr",
     "output_type": "stream",
     "text": [
      "\r",
      " 77%|███████▋  | 10/13 [00:03<00:01,  2.09it/s]"
     ]
    },
    {
     "name": "stderr",
     "output_type": "stream",
     "text": [
      "\r",
      " 85%|████████▍ | 11/13 [00:04<00:01,  1.73it/s]"
     ]
    },
    {
     "name": "stderr",
     "output_type": "stream",
     "text": [
      "\r",
      " 92%|█████████▏| 12/13 [00:05<00:00,  1.59it/s]"
     ]
    },
    {
     "name": "stderr",
     "output_type": "stream",
     "text": [
      "\r",
      "100%|██████████| 13/13 [00:06<00:00,  1.45it/s]"
     ]
    },
    {
     "name": "stderr",
     "output_type": "stream",
     "text": [
      "\r",
      "100%|██████████| 13/13 [00:06<00:00,  2.05it/s]"
     ]
    },
    {
     "name": "stderr",
     "output_type": "stream",
     "text": [
      "\n"
     ]
    },
    {
     "name": "stderr",
     "output_type": "stream",
     "text": [
      "\r",
      "  0%|          | 0/14 [00:00<?, ?it/s]"
     ]
    },
    {
     "name": "stderr",
     "output_type": "stream",
     "text": [
      "\r",
      " 14%|█▍        | 2/14 [00:00<00:02,  5.45it/s]"
     ]
    },
    {
     "name": "stderr",
     "output_type": "stream",
     "text": [
      "\r",
      " 21%|██▏       | 3/14 [00:00<00:03,  3.44it/s]"
     ]
    },
    {
     "name": "stderr",
     "output_type": "stream",
     "text": [
      "\r",
      " 29%|██▊       | 4/14 [00:01<00:03,  2.90it/s]"
     ]
    },
    {
     "name": "stderr",
     "output_type": "stream",
     "text": [
      "\r",
      " 36%|███▌      | 5/14 [00:01<00:04,  2.11it/s]"
     ]
    },
    {
     "name": "stderr",
     "output_type": "stream",
     "text": [
      "\r",
      " 43%|████▎     | 6/14 [00:02<00:04,  1.83it/s]"
     ]
    },
    {
     "name": "stderr",
     "output_type": "stream",
     "text": [
      "\r",
      " 50%|█████     | 7/14 [00:03<00:03,  1.78it/s]"
     ]
    },
    {
     "name": "stderr",
     "output_type": "stream",
     "text": [
      "\r",
      " 57%|█████▋    | 8/14 [00:03<00:03,  1.91it/s]"
     ]
    },
    {
     "name": "stderr",
     "output_type": "stream",
     "text": [
      "\r",
      " 64%|██████▍   | 9/14 [00:04<00:02,  2.00it/s]"
     ]
    },
    {
     "name": "stderr",
     "output_type": "stream",
     "text": [
      "\r",
      " 71%|███████▏  | 10/14 [00:04<00:01,  2.16it/s]"
     ]
    },
    {
     "name": "stderr",
     "output_type": "stream",
     "text": [
      "\r",
      " 79%|███████▊  | 11/14 [00:04<00:01,  2.27it/s]"
     ]
    },
    {
     "name": "stderr",
     "output_type": "stream",
     "text": [
      "\r",
      " 86%|████████▌ | 12/14 [00:05<00:00,  2.04it/s]"
     ]
    },
    {
     "name": "stderr",
     "output_type": "stream",
     "text": [
      "\r",
      " 93%|█████████▎| 13/14 [00:06<00:00,  1.79it/s]"
     ]
    },
    {
     "name": "stderr",
     "output_type": "stream",
     "text": [
      "\r",
      "100%|██████████| 14/14 [00:06<00:00,  1.66it/s]"
     ]
    },
    {
     "name": "stderr",
     "output_type": "stream",
     "text": [
      "\r",
      "100%|██████████| 14/14 [00:06<00:00,  2.02it/s]"
     ]
    },
    {
     "name": "stderr",
     "output_type": "stream",
     "text": [
      "\n"
     ]
    },
    {
     "name": "stderr",
     "output_type": "stream",
     "text": [
      "\r",
      "  0%|          | 0/15 [00:00<?, ?it/s]"
     ]
    },
    {
     "name": "stderr",
     "output_type": "stream",
     "text": [
      "\r",
      " 13%|█▎        | 2/15 [00:00<00:03,  3.88it/s]"
     ]
    },
    {
     "name": "stderr",
     "output_type": "stream",
     "text": [
      "\r",
      " 20%|██        | 3/15 [00:00<00:04,  2.97it/s]"
     ]
    },
    {
     "name": "stderr",
     "output_type": "stream",
     "text": [
      "\r",
      " 27%|██▋       | 4/15 [00:01<00:04,  2.53it/s]"
     ]
    },
    {
     "name": "stderr",
     "output_type": "stream",
     "text": [
      "\r",
      " 33%|███▎      | 5/15 [00:01<00:04,  2.31it/s]"
     ]
    },
    {
     "name": "stderr",
     "output_type": "stream",
     "text": [
      "\r",
      " 40%|████      | 6/15 [00:02<00:04,  2.19it/s]"
     ]
    },
    {
     "name": "stderr",
     "output_type": "stream",
     "text": [
      "\r",
      " 47%|████▋     | 7/15 [00:03<00:03,  2.07it/s]"
     ]
    },
    {
     "name": "stderr",
     "output_type": "stream",
     "text": [
      "\r",
      " 53%|█████▎    | 8/15 [00:03<00:03,  2.06it/s]"
     ]
    },
    {
     "name": "stderr",
     "output_type": "stream",
     "text": [
      "\r",
      " 60%|██████    | 9/15 [00:03<00:02,  2.18it/s]"
     ]
    },
    {
     "name": "stderr",
     "output_type": "stream",
     "text": [
      "\r",
      " 67%|██████▋   | 10/15 [00:04<00:02,  2.29it/s]"
     ]
    },
    {
     "name": "stderr",
     "output_type": "stream",
     "text": [
      "\r",
      " 73%|███████▎  | 11/15 [00:04<00:01,  2.40it/s]"
     ]
    },
    {
     "name": "stderr",
     "output_type": "stream",
     "text": [
      "\r",
      " 80%|████████  | 12/15 [00:05<00:01,  2.19it/s]"
     ]
    },
    {
     "name": "stderr",
     "output_type": "stream",
     "text": [
      "\r",
      " 87%|████████▋ | 13/15 [00:05<00:00,  2.25it/s]"
     ]
    },
    {
     "name": "stderr",
     "output_type": "stream",
     "text": [
      "\r",
      " 93%|█████████▎| 14/15 [00:05<00:00,  2.41it/s]"
     ]
    },
    {
     "name": "stderr",
     "output_type": "stream",
     "text": [
      "\r",
      "100%|██████████| 15/15 [00:06<00:00,  2.53it/s]"
     ]
    },
    {
     "name": "stderr",
     "output_type": "stream",
     "text": [
      "\r",
      "100%|██████████| 15/15 [00:06<00:00,  2.38it/s]"
     ]
    },
    {
     "name": "stderr",
     "output_type": "stream",
     "text": [
      "\n"
     ]
    },
    {
     "data": {
      "text/html": [
       "<div>\n",
       "<style scoped>\n",
       "    .dataframe tbody tr th:only-of-type {\n",
       "        vertical-align: middle;\n",
       "    }\n",
       "\n",
       "    .dataframe tbody tr th {\n",
       "        vertical-align: top;\n",
       "    }\n",
       "\n",
       "    .dataframe thead tr th {\n",
       "        text-align: left;\n",
       "    }\n",
       "\n",
       "    .dataframe thead tr:last-of-type th {\n",
       "        text-align: right;\n",
       "    }\n",
       "</style>\n",
       "<table border=\"1\" class=\"dataframe\">\n",
       "  <thead>\n",
       "    <tr>\n",
       "      <th></th>\n",
       "      <th colspan=\"2\" halign=\"left\">fit_time</th>\n",
       "      <th colspan=\"2\" halign=\"left\">score_time</th>\n",
       "      <th colspan=\"2\" halign=\"left\">test_precision</th>\n",
       "      <th colspan=\"2\" halign=\"left\">test_recall</th>\n",
       "      <th colspan=\"2\" halign=\"left\">test_f1</th>\n",
       "      <th colspan=\"2\" halign=\"left\">test_balanced_accuracy</th>\n",
       "      <th colspan=\"2\" halign=\"left\">test_roc_auc</th>\n",
       "      <th colspan=\"2\" halign=\"left\">test_average_precision</th>\n",
       "      <th colspan=\"2\" halign=\"left\">n_observations</th>\n",
       "    </tr>\n",
       "    <tr>\n",
       "      <th></th>\n",
       "      <th>mean</th>\n",
       "      <th>std</th>\n",
       "      <th>mean</th>\n",
       "      <th>std</th>\n",
       "      <th>mean</th>\n",
       "      <th>std</th>\n",
       "      <th>mean</th>\n",
       "      <th>std</th>\n",
       "      <th>mean</th>\n",
       "      <th>std</th>\n",
       "      <th>mean</th>\n",
       "      <th>std</th>\n",
       "      <th>mean</th>\n",
       "      <th>std</th>\n",
       "      <th>mean</th>\n",
       "      <th>std</th>\n",
       "      <th>mean</th>\n",
       "      <th>std</th>\n",
       "    </tr>\n",
       "    <tr>\n",
       "      <th>n_features</th>\n",
       "      <th></th>\n",
       "      <th></th>\n",
       "      <th></th>\n",
       "      <th></th>\n",
       "      <th></th>\n",
       "      <th></th>\n",
       "      <th></th>\n",
       "      <th></th>\n",
       "      <th></th>\n",
       "      <th></th>\n",
       "      <th></th>\n",
       "      <th></th>\n",
       "      <th></th>\n",
       "      <th></th>\n",
       "      <th></th>\n",
       "      <th></th>\n",
       "      <th></th>\n",
       "      <th></th>\n",
       "    </tr>\n",
       "  </thead>\n",
       "  <tbody>\n",
       "    <tr>\n",
       "      <th>1</th>\n",
       "      <td>0.005</td>\n",
       "      <td>0.003</td>\n",
       "      <td>0.063</td>\n",
       "      <td>0.028</td>\n",
       "      <td>0.013</td>\n",
       "      <td>0.094</td>\n",
       "      <td>0.002</td>\n",
       "      <td>0.017</td>\n",
       "      <td>0.004</td>\n",
       "      <td>0.028</td>\n",
       "      <td>0.497</td>\n",
       "      <td>0.010</td>\n",
       "      <td>0.863</td>\n",
       "      <td>0.063</td>\n",
       "      <td>0.830</td>\n",
       "      <td>0.088</td>\n",
       "      <td>210.000</td>\n",
       "      <td>0.000</td>\n",
       "    </tr>\n",
       "    <tr>\n",
       "      <th>2</th>\n",
       "      <td>0.005</td>\n",
       "      <td>0.004</td>\n",
       "      <td>0.067</td>\n",
       "      <td>0.030</td>\n",
       "      <td>0.696</td>\n",
       "      <td>0.114</td>\n",
       "      <td>0.540</td>\n",
       "      <td>0.133</td>\n",
       "      <td>0.599</td>\n",
       "      <td>0.109</td>\n",
       "      <td>0.681</td>\n",
       "      <td>0.075</td>\n",
       "      <td>0.742</td>\n",
       "      <td>0.077</td>\n",
       "      <td>0.673</td>\n",
       "      <td>0.096</td>\n",
       "      <td>210.000</td>\n",
       "      <td>0.000</td>\n",
       "    </tr>\n",
       "    <tr>\n",
       "      <th>3</th>\n",
       "      <td>0.006</td>\n",
       "      <td>0.004</td>\n",
       "      <td>0.071</td>\n",
       "      <td>0.025</td>\n",
       "      <td>0.704</td>\n",
       "      <td>0.096</td>\n",
       "      <td>0.533</td>\n",
       "      <td>0.135</td>\n",
       "      <td>0.596</td>\n",
       "      <td>0.099</td>\n",
       "      <td>0.683</td>\n",
       "      <td>0.060</td>\n",
       "      <td>0.741</td>\n",
       "      <td>0.072</td>\n",
       "      <td>0.692</td>\n",
       "      <td>0.085</td>\n",
       "      <td>210.000</td>\n",
       "      <td>0.000</td>\n",
       "    </tr>\n",
       "    <tr>\n",
       "      <th>4</th>\n",
       "      <td>0.005</td>\n",
       "      <td>0.004</td>\n",
       "      <td>0.066</td>\n",
       "      <td>0.033</td>\n",
       "      <td>0.758</td>\n",
       "      <td>0.115</td>\n",
       "      <td>0.598</td>\n",
       "      <td>0.116</td>\n",
       "      <td>0.661</td>\n",
       "      <td>0.091</td>\n",
       "      <td>0.726</td>\n",
       "      <td>0.065</td>\n",
       "      <td>0.794</td>\n",
       "      <td>0.067</td>\n",
       "      <td>0.770</td>\n",
       "      <td>0.083</td>\n",
       "      <td>210.000</td>\n",
       "      <td>0.000</td>\n",
       "    </tr>\n",
       "    <tr>\n",
       "      <th>5</th>\n",
       "      <td>0.006</td>\n",
       "      <td>0.004</td>\n",
       "      <td>0.072</td>\n",
       "      <td>0.029</td>\n",
       "      <td>0.728</td>\n",
       "      <td>0.087</td>\n",
       "      <td>0.634</td>\n",
       "      <td>0.108</td>\n",
       "      <td>0.672</td>\n",
       "      <td>0.077</td>\n",
       "      <td>0.729</td>\n",
       "      <td>0.056</td>\n",
       "      <td>0.798</td>\n",
       "      <td>0.065</td>\n",
       "      <td>0.765</td>\n",
       "      <td>0.085</td>\n",
       "      <td>210.000</td>\n",
       "      <td>0.000</td>\n",
       "    </tr>\n",
       "    <tr>\n",
       "      <th>6</th>\n",
       "      <td>0.006</td>\n",
       "      <td>0.006</td>\n",
       "      <td>0.060</td>\n",
       "      <td>0.023</td>\n",
       "      <td>0.718</td>\n",
       "      <td>0.092</td>\n",
       "      <td>0.632</td>\n",
       "      <td>0.110</td>\n",
       "      <td>0.666</td>\n",
       "      <td>0.079</td>\n",
       "      <td>0.723</td>\n",
       "      <td>0.059</td>\n",
       "      <td>0.793</td>\n",
       "      <td>0.066</td>\n",
       "      <td>0.760</td>\n",
       "      <td>0.084</td>\n",
       "      <td>210.000</td>\n",
       "      <td>0.000</td>\n",
       "    </tr>\n",
       "    <tr>\n",
       "      <th>7</th>\n",
       "      <td>0.008</td>\n",
       "      <td>0.006</td>\n",
       "      <td>0.083</td>\n",
       "      <td>0.038</td>\n",
       "      <td>0.722</td>\n",
       "      <td>0.089</td>\n",
       "      <td>0.654</td>\n",
       "      <td>0.120</td>\n",
       "      <td>0.680</td>\n",
       "      <td>0.085</td>\n",
       "      <td>0.734</td>\n",
       "      <td>0.064</td>\n",
       "      <td>0.799</td>\n",
       "      <td>0.071</td>\n",
       "      <td>0.765</td>\n",
       "      <td>0.090</td>\n",
       "      <td>210.000</td>\n",
       "      <td>0.000</td>\n",
       "    </tr>\n",
       "    <tr>\n",
       "      <th>8</th>\n",
       "      <td>0.008</td>\n",
       "      <td>0.007</td>\n",
       "      <td>0.087</td>\n",
       "      <td>0.033</td>\n",
       "      <td>0.802</td>\n",
       "      <td>0.091</td>\n",
       "      <td>0.753</td>\n",
       "      <td>0.099</td>\n",
       "      <td>0.771</td>\n",
       "      <td>0.067</td>\n",
       "      <td>0.806</td>\n",
       "      <td>0.055</td>\n",
       "      <td>0.884</td>\n",
       "      <td>0.055</td>\n",
       "      <td>0.863</td>\n",
       "      <td>0.064</td>\n",
       "      <td>210.000</td>\n",
       "      <td>0.000</td>\n",
       "    </tr>\n",
       "    <tr>\n",
       "      <th>9</th>\n",
       "      <td>0.007</td>\n",
       "      <td>0.006</td>\n",
       "      <td>0.083</td>\n",
       "      <td>0.028</td>\n",
       "      <td>0.801</td>\n",
       "      <td>0.094</td>\n",
       "      <td>0.757</td>\n",
       "      <td>0.106</td>\n",
       "      <td>0.773</td>\n",
       "      <td>0.076</td>\n",
       "      <td>0.807</td>\n",
       "      <td>0.061</td>\n",
       "      <td>0.881</td>\n",
       "      <td>0.056</td>\n",
       "      <td>0.859</td>\n",
       "      <td>0.068</td>\n",
       "      <td>210.000</td>\n",
       "      <td>0.000</td>\n",
       "    </tr>\n",
       "    <tr>\n",
       "      <th>10</th>\n",
       "      <td>0.008</td>\n",
       "      <td>0.006</td>\n",
       "      <td>0.105</td>\n",
       "      <td>0.028</td>\n",
       "      <td>0.803</td>\n",
       "      <td>0.098</td>\n",
       "      <td>0.778</td>\n",
       "      <td>0.118</td>\n",
       "      <td>0.784</td>\n",
       "      <td>0.081</td>\n",
       "      <td>0.817</td>\n",
       "      <td>0.067</td>\n",
       "      <td>0.910</td>\n",
       "      <td>0.048</td>\n",
       "      <td>0.880</td>\n",
       "      <td>0.064</td>\n",
       "      <td>210.000</td>\n",
       "      <td>0.000</td>\n",
       "    </tr>\n",
       "    <tr>\n",
       "      <th>11</th>\n",
       "      <td>0.007</td>\n",
       "      <td>0.005</td>\n",
       "      <td>0.085</td>\n",
       "      <td>0.031</td>\n",
       "      <td>0.810</td>\n",
       "      <td>0.096</td>\n",
       "      <td>0.794</td>\n",
       "      <td>0.126</td>\n",
       "      <td>0.795</td>\n",
       "      <td>0.087</td>\n",
       "      <td>0.827</td>\n",
       "      <td>0.072</td>\n",
       "      <td>0.913</td>\n",
       "      <td>0.048</td>\n",
       "      <td>0.883</td>\n",
       "      <td>0.064</td>\n",
       "      <td>210.000</td>\n",
       "      <td>0.000</td>\n",
       "    </tr>\n",
       "    <tr>\n",
       "      <th>12</th>\n",
       "      <td>0.007</td>\n",
       "      <td>0.008</td>\n",
       "      <td>0.104</td>\n",
       "      <td>0.048</td>\n",
       "      <td>0.829</td>\n",
       "      <td>0.098</td>\n",
       "      <td>0.790</td>\n",
       "      <td>0.122</td>\n",
       "      <td>0.803</td>\n",
       "      <td>0.090</td>\n",
       "      <td>0.834</td>\n",
       "      <td>0.074</td>\n",
       "      <td>0.916</td>\n",
       "      <td>0.048</td>\n",
       "      <td>0.891</td>\n",
       "      <td>0.060</td>\n",
       "      <td>210.000</td>\n",
       "      <td>0.000</td>\n",
       "    </tr>\n",
       "    <tr>\n",
       "      <th>13</th>\n",
       "      <td>0.006</td>\n",
       "      <td>0.005</td>\n",
       "      <td>0.081</td>\n",
       "      <td>0.035</td>\n",
       "      <td>0.833</td>\n",
       "      <td>0.090</td>\n",
       "      <td>0.797</td>\n",
       "      <td>0.114</td>\n",
       "      <td>0.810</td>\n",
       "      <td>0.081</td>\n",
       "      <td>0.839</td>\n",
       "      <td>0.067</td>\n",
       "      <td>0.917</td>\n",
       "      <td>0.047</td>\n",
       "      <td>0.895</td>\n",
       "      <td>0.057</td>\n",
       "      <td>210.000</td>\n",
       "      <td>0.000</td>\n",
       "    </tr>\n",
       "    <tr>\n",
       "      <th>14</th>\n",
       "      <td>0.007</td>\n",
       "      <td>0.005</td>\n",
       "      <td>0.079</td>\n",
       "      <td>0.030</td>\n",
       "      <td>0.835</td>\n",
       "      <td>0.089</td>\n",
       "      <td>0.798</td>\n",
       "      <td>0.112</td>\n",
       "      <td>0.811</td>\n",
       "      <td>0.080</td>\n",
       "      <td>0.840</td>\n",
       "      <td>0.067</td>\n",
       "      <td>0.918</td>\n",
       "      <td>0.046</td>\n",
       "      <td>0.895</td>\n",
       "      <td>0.056</td>\n",
       "      <td>210.000</td>\n",
       "      <td>0.000</td>\n",
       "    </tr>\n",
       "    <tr>\n",
       "      <th>15</th>\n",
       "      <td>0.006</td>\n",
       "      <td>0.004</td>\n",
       "      <td>0.067</td>\n",
       "      <td>0.027</td>\n",
       "      <td>0.825</td>\n",
       "      <td>0.092</td>\n",
       "      <td>0.796</td>\n",
       "      <td>0.113</td>\n",
       "      <td>0.804</td>\n",
       "      <td>0.080</td>\n",
       "      <td>0.834</td>\n",
       "      <td>0.067</td>\n",
       "      <td>0.917</td>\n",
       "      <td>0.047</td>\n",
       "      <td>0.897</td>\n",
       "      <td>0.055</td>\n",
       "      <td>210.000</td>\n",
       "      <td>0.000</td>\n",
       "    </tr>\n",
       "  </tbody>\n",
       "</table>\n",
       "</div>"
      ],
      "text/plain": [
       "           fit_time       score_time       test_precision       test_recall  \\\n",
       "               mean   std       mean   std           mean   std        mean   \n",
       "n_features                                                                    \n",
       "1             0.005 0.003      0.063 0.028          0.013 0.094       0.002   \n",
       "2             0.005 0.004      0.067 0.030          0.696 0.114       0.540   \n",
       "3             0.006 0.004      0.071 0.025          0.704 0.096       0.533   \n",
       "4             0.005 0.004      0.066 0.033          0.758 0.115       0.598   \n",
       "5             0.006 0.004      0.072 0.029          0.728 0.087       0.634   \n",
       "6             0.006 0.006      0.060 0.023          0.718 0.092       0.632   \n",
       "7             0.008 0.006      0.083 0.038          0.722 0.089       0.654   \n",
       "8             0.008 0.007      0.087 0.033          0.802 0.091       0.753   \n",
       "9             0.007 0.006      0.083 0.028          0.801 0.094       0.757   \n",
       "10            0.008 0.006      0.105 0.028          0.803 0.098       0.778   \n",
       "11            0.007 0.005      0.085 0.031          0.810 0.096       0.794   \n",
       "12            0.007 0.008      0.104 0.048          0.829 0.098       0.790   \n",
       "13            0.006 0.005      0.081 0.035          0.833 0.090       0.797   \n",
       "14            0.007 0.005      0.079 0.030          0.835 0.089       0.798   \n",
       "15            0.006 0.004      0.067 0.027          0.825 0.092       0.796   \n",
       "\n",
       "                 test_f1       test_balanced_accuracy       test_roc_auc  \\\n",
       "             std    mean   std                   mean   std         mean   \n",
       "n_features                                                                 \n",
       "1          0.017   0.004 0.028                  0.497 0.010        0.863   \n",
       "2          0.133   0.599 0.109                  0.681 0.075        0.742   \n",
       "3          0.135   0.596 0.099                  0.683 0.060        0.741   \n",
       "4          0.116   0.661 0.091                  0.726 0.065        0.794   \n",
       "5          0.108   0.672 0.077                  0.729 0.056        0.798   \n",
       "6          0.110   0.666 0.079                  0.723 0.059        0.793   \n",
       "7          0.120   0.680 0.085                  0.734 0.064        0.799   \n",
       "8          0.099   0.771 0.067                  0.806 0.055        0.884   \n",
       "9          0.106   0.773 0.076                  0.807 0.061        0.881   \n",
       "10         0.118   0.784 0.081                  0.817 0.067        0.910   \n",
       "11         0.126   0.795 0.087                  0.827 0.072        0.913   \n",
       "12         0.122   0.803 0.090                  0.834 0.074        0.916   \n",
       "13         0.114   0.810 0.081                  0.839 0.067        0.917   \n",
       "14         0.112   0.811 0.080                  0.840 0.067        0.918   \n",
       "15         0.113   0.804 0.080                  0.834 0.067        0.917   \n",
       "\n",
       "                 test_average_precision       n_observations        \n",
       "             std                   mean   std           mean   std  \n",
       "n_features                                                          \n",
       "1          0.063                  0.830 0.088        210.000 0.000  \n",
       "2          0.077                  0.673 0.096        210.000 0.000  \n",
       "3          0.072                  0.692 0.085        210.000 0.000  \n",
       "4          0.067                  0.770 0.083        210.000 0.000  \n",
       "5          0.065                  0.765 0.085        210.000 0.000  \n",
       "6          0.066                  0.760 0.084        210.000 0.000  \n",
       "7          0.071                  0.765 0.090        210.000 0.000  \n",
       "8          0.055                  0.863 0.064        210.000 0.000  \n",
       "9          0.056                  0.859 0.068        210.000 0.000  \n",
       "10         0.048                  0.880 0.064        210.000 0.000  \n",
       "11         0.048                  0.883 0.064        210.000 0.000  \n",
       "12         0.048                  0.891 0.060        210.000 0.000  \n",
       "13         0.047                  0.895 0.057        210.000 0.000  \n",
       "14         0.046                  0.895 0.056        210.000 0.000  \n",
       "15         0.047                  0.897 0.055        210.000 0.000  "
      ]
     },
     "execution_count": 16,
     "metadata": {},
     "output_type": "execute_result"
    }
   ],
   "source": [
    "cv_feat_all = njab.sklearn.find_n_best_features(X=X, y=target, name=args.target,\n",
    "                                                groups=target_to_group)\n",
    "cv_feat_all = cv_feat_all.drop('test_case', axis=1).groupby('n_features').agg(['mean', 'std'])\n",
    "cv_feat_all"
   ]
  },
  {
   "cell_type": "markdown",
   "id": "0029a621",
   "metadata": {
    "papermill": {
     "duration": 0.037629,
     "end_time": "2024-06-19T02:51:14.540024",
     "exception": false,
     "start_time": "2024-06-19T02:51:14.502395",
     "status": "completed"
    },
    "tags": []
   },
   "source": [
    "Using only new features:"
   ]
  },
  {
   "cell_type": "code",
   "execution_count": 17,
   "id": "811f75d0",
   "metadata": {
    "execution": {
     "iopub.execute_input": "2024-06-19T02:51:14.624724Z",
     "iopub.status.busy": "2024-06-19T02:51:14.623821Z",
     "iopub.status.idle": "2024-06-19T02:52:23.729560Z",
     "shell.execute_reply": "2024-06-19T02:52:23.728729Z"
    },
    "papermill": {
     "duration": 69.155685,
     "end_time": "2024-06-19T02:52:23.731439",
     "exception": false,
     "start_time": "2024-06-19T02:51:14.575754",
     "status": "completed"
    },
    "tags": [
     "hide-input"
    ]
   },
   "outputs": [
    {
     "name": "stderr",
     "output_type": "stream",
     "text": [
      "\r",
      "  0%|          | 0/1 [00:00<?, ?it/s]"
     ]
    },
    {
     "name": "stderr",
     "output_type": "stream",
     "text": [
      "\r",
      "100%|██████████| 1/1 [00:00<00:00, 851.29it/s]"
     ]
    },
    {
     "name": "stderr",
     "output_type": "stream",
     "text": [
      "\n"
     ]
    },
    {
     "name": "stderr",
     "output_type": "stream",
     "text": [
      "\r",
      "  0%|          | 0/2 [00:00<?, ?it/s]"
     ]
    },
    {
     "name": "stderr",
     "output_type": "stream",
     "text": [
      "\r",
      "100%|██████████| 2/2 [00:00<00:00, 24.53it/s]"
     ]
    },
    {
     "name": "stderr",
     "output_type": "stream",
     "text": [
      "\n"
     ]
    },
    {
     "name": "stderr",
     "output_type": "stream",
     "text": [
      "\r",
      "  0%|          | 0/3 [00:00<?, ?it/s]"
     ]
    },
    {
     "name": "stderr",
     "output_type": "stream",
     "text": [
      "\r",
      " 67%|██████▋   | 2/3 [00:00<00:00, 18.85it/s]"
     ]
    },
    {
     "name": "stderr",
     "output_type": "stream",
     "text": [
      "\r",
      "100%|██████████| 3/3 [00:00<00:00, 13.68it/s]"
     ]
    },
    {
     "name": "stderr",
     "output_type": "stream",
     "text": [
      "\n"
     ]
    },
    {
     "name": "stderr",
     "output_type": "stream",
     "text": [
      "\r",
      "  0%|          | 0/4 [00:00<?, ?it/s]"
     ]
    },
    {
     "name": "stderr",
     "output_type": "stream",
     "text": [
      "\r",
      " 75%|███████▌  | 3/4 [00:00<00:00, 19.77it/s]"
     ]
    },
    {
     "name": "stderr",
     "output_type": "stream",
     "text": [
      "\r",
      "100%|██████████| 4/4 [00:00<00:00, 16.36it/s]"
     ]
    },
    {
     "name": "stderr",
     "output_type": "stream",
     "text": [
      "\n"
     ]
    },
    {
     "name": "stderr",
     "output_type": "stream",
     "text": [
      "\r",
      "  0%|          | 0/5 [00:00<?, ?it/s]"
     ]
    },
    {
     "name": "stderr",
     "output_type": "stream",
     "text": [
      "\r",
      " 40%|████      | 2/5 [00:00<00:00, 19.47it/s]"
     ]
    },
    {
     "name": "stderr",
     "output_type": "stream",
     "text": [
      "\r",
      " 80%|████████  | 4/5 [00:00<00:00, 13.51it/s]"
     ]
    },
    {
     "name": "stderr",
     "output_type": "stream",
     "text": [
      "\r",
      "100%|██████████| 5/5 [00:00<00:00, 13.32it/s]"
     ]
    },
    {
     "name": "stderr",
     "output_type": "stream",
     "text": [
      "\n"
     ]
    },
    {
     "name": "stderr",
     "output_type": "stream",
     "text": [
      "\r",
      "  0%|          | 0/6 [00:00<?, ?it/s]"
     ]
    },
    {
     "name": "stderr",
     "output_type": "stream",
     "text": [
      "\r",
      " 50%|█████     | 3/6 [00:00<00:00, 18.24it/s]"
     ]
    },
    {
     "name": "stderr",
     "output_type": "stream",
     "text": [
      "\r",
      " 83%|████████▎ | 5/6 [00:00<00:00, 13.69it/s]"
     ]
    },
    {
     "name": "stderr",
     "output_type": "stream",
     "text": [
      "\r",
      "100%|██████████| 6/6 [00:00<00:00, 13.33it/s]"
     ]
    },
    {
     "name": "stderr",
     "output_type": "stream",
     "text": [
      "\n"
     ]
    },
    {
     "name": "stderr",
     "output_type": "stream",
     "text": [
      "\r",
      "  0%|          | 0/7 [00:00<?, ?it/s]"
     ]
    },
    {
     "name": "stderr",
     "output_type": "stream",
     "text": [
      "\r",
      " 43%|████▎     | 3/7 [00:00<00:00, 13.85it/s]"
     ]
    },
    {
     "name": "stderr",
     "output_type": "stream",
     "text": [
      "\r",
      " 71%|███████▏  | 5/7 [00:00<00:00, 11.12it/s]"
     ]
    },
    {
     "name": "stderr",
     "output_type": "stream",
     "text": [
      "\r",
      "100%|██████████| 7/7 [00:00<00:00, 10.77it/s]"
     ]
    },
    {
     "name": "stderr",
     "output_type": "stream",
     "text": [
      "\r",
      "100%|██████████| 7/7 [00:00<00:00, 11.14it/s]"
     ]
    },
    {
     "name": "stderr",
     "output_type": "stream",
     "text": [
      "\n"
     ]
    },
    {
     "name": "stderr",
     "output_type": "stream",
     "text": [
      "\r",
      "  0%|          | 0/8 [00:00<?, ?it/s]"
     ]
    },
    {
     "name": "stderr",
     "output_type": "stream",
     "text": [
      "\r",
      " 25%|██▌       | 2/8 [00:00<00:00, 18.08it/s]"
     ]
    },
    {
     "name": "stderr",
     "output_type": "stream",
     "text": [
      "\r",
      " 50%|█████     | 4/8 [00:00<00:00, 11.76it/s]"
     ]
    },
    {
     "name": "stderr",
     "output_type": "stream",
     "text": [
      "\r",
      " 75%|███████▌  | 6/8 [00:00<00:00, 11.43it/s]"
     ]
    },
    {
     "name": "stderr",
     "output_type": "stream",
     "text": [
      "\r",
      "100%|██████████| 8/8 [00:00<00:00, 10.43it/s]"
     ]
    },
    {
     "name": "stderr",
     "output_type": "stream",
     "text": [
      "\r",
      "100%|██████████| 8/8 [00:00<00:00, 10.93it/s]"
     ]
    },
    {
     "name": "stderr",
     "output_type": "stream",
     "text": [
      "\n"
     ]
    },
    {
     "name": "stderr",
     "output_type": "stream",
     "text": [
      "\r",
      "  0%|          | 0/9 [00:00<?, ?it/s]"
     ]
    },
    {
     "name": "stderr",
     "output_type": "stream",
     "text": [
      "\r",
      " 22%|██▏       | 2/9 [00:00<00:00, 19.83it/s]"
     ]
    },
    {
     "name": "stderr",
     "output_type": "stream",
     "text": [
      "\r",
      " 44%|████▍     | 4/9 [00:00<00:00, 14.18it/s]"
     ]
    },
    {
     "name": "stderr",
     "output_type": "stream",
     "text": [
      "\r",
      " 67%|██████▋   | 6/9 [00:00<00:00, 11.97it/s]"
     ]
    },
    {
     "name": "stderr",
     "output_type": "stream",
     "text": [
      "\r",
      " 89%|████████▉ | 8/9 [00:00<00:00, 11.84it/s]"
     ]
    },
    {
     "name": "stderr",
     "output_type": "stream",
     "text": [
      "\r",
      "100%|██████████| 9/9 [00:00<00:00, 11.29it/s]"
     ]
    },
    {
     "name": "stderr",
     "output_type": "stream",
     "text": [
      "\n"
     ]
    },
    {
     "name": "stderr",
     "output_type": "stream",
     "text": [
      "\r",
      "  0%|          | 0/10 [00:00<?, ?it/s]"
     ]
    },
    {
     "name": "stderr",
     "output_type": "stream",
     "text": [
      "\r",
      " 30%|███       | 3/10 [00:00<00:00, 17.97it/s]"
     ]
    },
    {
     "name": "stderr",
     "output_type": "stream",
     "text": [
      "\r",
      " 50%|█████     | 5/10 [00:00<00:00, 14.69it/s]"
     ]
    },
    {
     "name": "stderr",
     "output_type": "stream",
     "text": [
      "\r",
      " 70%|███████   | 7/10 [00:00<00:00, 13.27it/s]"
     ]
    },
    {
     "name": "stderr",
     "output_type": "stream",
     "text": [
      "\r",
      " 90%|█████████ | 9/10 [00:00<00:00, 14.09it/s]"
     ]
    },
    {
     "name": "stderr",
     "output_type": "stream",
     "text": [
      "\r",
      "100%|██████████| 10/10 [00:00<00:00, 13.97it/s]"
     ]
    },
    {
     "name": "stderr",
     "output_type": "stream",
     "text": [
      "\n"
     ]
    },
    {
     "name": "stderr",
     "output_type": "stream",
     "text": [
      "\r",
      "  0%|          | 0/11 [00:00<?, ?it/s]"
     ]
    },
    {
     "name": "stderr",
     "output_type": "stream",
     "text": [
      "\r",
      " 18%|█▊        | 2/11 [00:00<00:00, 18.54it/s]"
     ]
    },
    {
     "name": "stderr",
     "output_type": "stream",
     "text": [
      "\r",
      " 36%|███▋      | 4/11 [00:00<00:00, 12.78it/s]"
     ]
    },
    {
     "name": "stderr",
     "output_type": "stream",
     "text": [
      "\r",
      " 55%|█████▍    | 6/11 [00:00<00:00, 12.18it/s]"
     ]
    },
    {
     "name": "stderr",
     "output_type": "stream",
     "text": [
      "\r",
      " 73%|███████▎  | 8/11 [00:00<00:00, 11.53it/s]"
     ]
    },
    {
     "name": "stderr",
     "output_type": "stream",
     "text": [
      "\r",
      " 91%|█████████ | 10/11 [00:00<00:00, 11.70it/s]"
     ]
    },
    {
     "name": "stderr",
     "output_type": "stream",
     "text": [
      "\r",
      "100%|██████████| 11/11 [00:00<00:00, 12.06it/s]"
     ]
    },
    {
     "name": "stderr",
     "output_type": "stream",
     "text": [
      "\n"
     ]
    },
    {
     "name": "stderr",
     "output_type": "stream",
     "text": [
      "\r",
      "  0%|          | 0/12 [00:00<?, ?it/s]"
     ]
    },
    {
     "name": "stderr",
     "output_type": "stream",
     "text": [
      "\r",
      " 25%|██▌       | 3/12 [00:00<00:00, 19.24it/s]"
     ]
    },
    {
     "name": "stderr",
     "output_type": "stream",
     "text": [
      "\r",
      " 42%|████▏     | 5/12 [00:00<00:00, 13.36it/s]"
     ]
    },
    {
     "name": "stderr",
     "output_type": "stream",
     "text": [
      "\r",
      " 58%|█████▊    | 7/12 [00:00<00:00, 13.53it/s]"
     ]
    },
    {
     "name": "stderr",
     "output_type": "stream",
     "text": [
      "\r",
      " 75%|███████▌  | 9/12 [00:00<00:00, 11.99it/s]"
     ]
    },
    {
     "name": "stderr",
     "output_type": "stream",
     "text": [
      "\r",
      " 92%|█████████▏| 11/12 [00:00<00:00, 11.90it/s]"
     ]
    },
    {
     "name": "stderr",
     "output_type": "stream",
     "text": [
      "\r",
      "100%|██████████| 12/12 [00:00<00:00, 12.72it/s]"
     ]
    },
    {
     "name": "stderr",
     "output_type": "stream",
     "text": [
      "\n"
     ]
    },
    {
     "name": "stderr",
     "output_type": "stream",
     "text": [
      "\r",
      "  0%|          | 0/13 [00:00<?, ?it/s]"
     ]
    },
    {
     "name": "stderr",
     "output_type": "stream",
     "text": [
      "\r",
      " 15%|█▌        | 2/13 [00:00<00:00, 16.76it/s]"
     ]
    },
    {
     "name": "stderr",
     "output_type": "stream",
     "text": [
      "\r",
      " 31%|███       | 4/13 [00:00<00:00,  9.99it/s]"
     ]
    },
    {
     "name": "stderr",
     "output_type": "stream",
     "text": [
      "\r",
      " 46%|████▌     | 6/13 [00:00<00:00,  9.64it/s]"
     ]
    },
    {
     "name": "stderr",
     "output_type": "stream",
     "text": [
      "\r",
      " 62%|██████▏   | 8/13 [00:00<00:00,  8.91it/s]"
     ]
    },
    {
     "name": "stderr",
     "output_type": "stream",
     "text": [
      "\r",
      " 77%|███████▋  | 10/13 [00:00<00:00, 10.24it/s]"
     ]
    },
    {
     "name": "stderr",
     "output_type": "stream",
     "text": [
      "\r",
      " 92%|█████████▏| 12/13 [00:01<00:00, 10.29it/s]"
     ]
    },
    {
     "name": "stderr",
     "output_type": "stream",
     "text": [
      "\r",
      "100%|██████████| 13/13 [00:01<00:00, 10.28it/s]"
     ]
    },
    {
     "name": "stderr",
     "output_type": "stream",
     "text": [
      "\n"
     ]
    },
    {
     "name": "stderr",
     "output_type": "stream",
     "text": [
      "\r",
      "  0%|          | 0/14 [00:00<?, ?it/s]"
     ]
    },
    {
     "name": "stderr",
     "output_type": "stream",
     "text": [
      "\r",
      " 14%|█▍        | 2/14 [00:00<00:00, 17.97it/s]"
     ]
    },
    {
     "name": "stderr",
     "output_type": "stream",
     "text": [
      "\r",
      " 29%|██▊       | 4/14 [00:00<00:01,  9.93it/s]"
     ]
    },
    {
     "name": "stderr",
     "output_type": "stream",
     "text": [
      "\r",
      " 43%|████▎     | 6/14 [00:00<00:00,  8.83it/s]"
     ]
    },
    {
     "name": "stderr",
     "output_type": "stream",
     "text": [
      "\r",
      " 50%|█████     | 7/14 [00:00<00:00,  7.97it/s]"
     ]
    },
    {
     "name": "stderr",
     "output_type": "stream",
     "text": [
      "\r",
      " 57%|█████▋    | 8/14 [00:00<00:00,  7.47it/s]"
     ]
    },
    {
     "name": "stderr",
     "output_type": "stream",
     "text": [
      "\r",
      " 64%|██████▍   | 9/14 [00:01<00:00,  7.69it/s]"
     ]
    },
    {
     "name": "stderr",
     "output_type": "stream",
     "text": [
      "\r",
      " 71%|███████▏  | 10/14 [00:01<00:00,  7.31it/s]"
     ]
    },
    {
     "name": "stderr",
     "output_type": "stream",
     "text": [
      "\r",
      " 86%|████████▌ | 12/14 [00:01<00:00,  8.11it/s]"
     ]
    },
    {
     "name": "stderr",
     "output_type": "stream",
     "text": [
      "\r",
      " 93%|█████████▎| 13/14 [00:01<00:00,  7.96it/s]"
     ]
    },
    {
     "name": "stderr",
     "output_type": "stream",
     "text": [
      "\r",
      "100%|██████████| 14/14 [00:01<00:00,  8.01it/s]"
     ]
    },
    {
     "name": "stderr",
     "output_type": "stream",
     "text": [
      "\r",
      "100%|██████████| 14/14 [00:01<00:00,  8.20it/s]"
     ]
    },
    {
     "name": "stderr",
     "output_type": "stream",
     "text": [
      "\n"
     ]
    },
    {
     "name": "stderr",
     "output_type": "stream",
     "text": [
      "\r",
      "  0%|          | 0/15 [00:00<?, ?it/s]"
     ]
    },
    {
     "name": "stderr",
     "output_type": "stream",
     "text": [
      "\r",
      " 20%|██        | 3/15 [00:00<00:00, 15.46it/s]"
     ]
    },
    {
     "name": "stderr",
     "output_type": "stream",
     "text": [
      "\r",
      " 33%|███▎      | 5/15 [00:00<00:00, 13.39it/s]"
     ]
    },
    {
     "name": "stderr",
     "output_type": "stream",
     "text": [
      "\r",
      " 47%|████▋     | 7/15 [00:00<00:00, 11.14it/s]"
     ]
    },
    {
     "name": "stderr",
     "output_type": "stream",
     "text": [
      "\r",
      " 60%|██████    | 9/15 [00:00<00:00,  9.28it/s]"
     ]
    },
    {
     "name": "stderr",
     "output_type": "stream",
     "text": [
      "\r",
      " 67%|██████▋   | 10/15 [00:00<00:00,  9.41it/s]"
     ]
    },
    {
     "name": "stderr",
     "output_type": "stream",
     "text": [
      "\r",
      " 80%|████████  | 12/15 [00:01<00:00,  9.41it/s]"
     ]
    },
    {
     "name": "stderr",
     "output_type": "stream",
     "text": [
      "\r",
      " 87%|████████▋ | 13/15 [00:01<00:00,  9.37it/s]"
     ]
    },
    {
     "name": "stderr",
     "output_type": "stream",
     "text": [
      "\r",
      " 93%|█████████▎| 14/15 [00:01<00:00,  9.37it/s]"
     ]
    },
    {
     "name": "stderr",
     "output_type": "stream",
     "text": [
      "\r",
      "100%|██████████| 15/15 [00:01<00:00,  9.33it/s]"
     ]
    },
    {
     "name": "stderr",
     "output_type": "stream",
     "text": [
      "\r",
      "100%|██████████| 15/15 [00:01<00:00,  9.91it/s]"
     ]
    },
    {
     "name": "stderr",
     "output_type": "stream",
     "text": [
      "\n"
     ]
    },
    {
     "data": {
      "text/html": [
       "<div>\n",
       "<style scoped>\n",
       "    .dataframe tbody tr th:only-of-type {\n",
       "        vertical-align: middle;\n",
       "    }\n",
       "\n",
       "    .dataframe tbody tr th {\n",
       "        vertical-align: top;\n",
       "    }\n",
       "\n",
       "    .dataframe thead tr th {\n",
       "        text-align: left;\n",
       "    }\n",
       "\n",
       "    .dataframe thead tr:last-of-type th {\n",
       "        text-align: right;\n",
       "    }\n",
       "</style>\n",
       "<table border=\"1\" class=\"dataframe\">\n",
       "  <thead>\n",
       "    <tr>\n",
       "      <th></th>\n",
       "      <th colspan=\"2\" halign=\"left\">fit_time</th>\n",
       "      <th colspan=\"2\" halign=\"left\">score_time</th>\n",
       "      <th colspan=\"2\" halign=\"left\">test_precision</th>\n",
       "      <th colspan=\"2\" halign=\"left\">test_recall</th>\n",
       "      <th colspan=\"2\" halign=\"left\">test_f1</th>\n",
       "      <th colspan=\"2\" halign=\"left\">test_balanced_accuracy</th>\n",
       "      <th colspan=\"2\" halign=\"left\">test_roc_auc</th>\n",
       "      <th colspan=\"2\" halign=\"left\">test_average_precision</th>\n",
       "      <th colspan=\"2\" halign=\"left\">n_observations</th>\n",
       "    </tr>\n",
       "    <tr>\n",
       "      <th></th>\n",
       "      <th>mean</th>\n",
       "      <th>std</th>\n",
       "      <th>mean</th>\n",
       "      <th>std</th>\n",
       "      <th>mean</th>\n",
       "      <th>std</th>\n",
       "      <th>mean</th>\n",
       "      <th>std</th>\n",
       "      <th>mean</th>\n",
       "      <th>std</th>\n",
       "      <th>mean</th>\n",
       "      <th>std</th>\n",
       "      <th>mean</th>\n",
       "      <th>std</th>\n",
       "      <th>mean</th>\n",
       "      <th>std</th>\n",
       "      <th>mean</th>\n",
       "      <th>std</th>\n",
       "    </tr>\n",
       "    <tr>\n",
       "      <th>n_features</th>\n",
       "      <th></th>\n",
       "      <th></th>\n",
       "      <th></th>\n",
       "      <th></th>\n",
       "      <th></th>\n",
       "      <th></th>\n",
       "      <th></th>\n",
       "      <th></th>\n",
       "      <th></th>\n",
       "      <th></th>\n",
       "      <th></th>\n",
       "      <th></th>\n",
       "      <th></th>\n",
       "      <th></th>\n",
       "      <th></th>\n",
       "      <th></th>\n",
       "      <th></th>\n",
       "      <th></th>\n",
       "    </tr>\n",
       "  </thead>\n",
       "  <tbody>\n",
       "    <tr>\n",
       "      <th>1</th>\n",
       "      <td>0.004</td>\n",
       "      <td>0.003</td>\n",
       "      <td>0.057</td>\n",
       "      <td>0.017</td>\n",
       "      <td>0.000</td>\n",
       "      <td>0.000</td>\n",
       "      <td>0.000</td>\n",
       "      <td>0.000</td>\n",
       "      <td>0.000</td>\n",
       "      <td>0.000</td>\n",
       "      <td>0.500</td>\n",
       "      <td>0.000</td>\n",
       "      <td>0.755</td>\n",
       "      <td>0.067</td>\n",
       "      <td>0.697</td>\n",
       "      <td>0.085</td>\n",
       "      <td>210.000</td>\n",
       "      <td>0.000</td>\n",
       "    </tr>\n",
       "    <tr>\n",
       "      <th>2</th>\n",
       "      <td>0.005</td>\n",
       "      <td>0.004</td>\n",
       "      <td>0.069</td>\n",
       "      <td>0.029</td>\n",
       "      <td>0.673</td>\n",
       "      <td>0.113</td>\n",
       "      <td>0.448</td>\n",
       "      <td>0.103</td>\n",
       "      <td>0.531</td>\n",
       "      <td>0.095</td>\n",
       "      <td>0.642</td>\n",
       "      <td>0.060</td>\n",
       "      <td>0.716</td>\n",
       "      <td>0.076</td>\n",
       "      <td>0.663</td>\n",
       "      <td>0.092</td>\n",
       "      <td>210.000</td>\n",
       "      <td>0.000</td>\n",
       "    </tr>\n",
       "    <tr>\n",
       "      <th>3</th>\n",
       "      <td>0.005</td>\n",
       "      <td>0.004</td>\n",
       "      <td>0.059</td>\n",
       "      <td>0.019</td>\n",
       "      <td>0.688</td>\n",
       "      <td>0.113</td>\n",
       "      <td>0.466</td>\n",
       "      <td>0.124</td>\n",
       "      <td>0.546</td>\n",
       "      <td>0.105</td>\n",
       "      <td>0.653</td>\n",
       "      <td>0.062</td>\n",
       "      <td>0.707</td>\n",
       "      <td>0.079</td>\n",
       "      <td>0.667</td>\n",
       "      <td>0.092</td>\n",
       "      <td>210.000</td>\n",
       "      <td>0.000</td>\n",
       "    </tr>\n",
       "    <tr>\n",
       "      <th>4</th>\n",
       "      <td>0.006</td>\n",
       "      <td>0.004</td>\n",
       "      <td>0.063</td>\n",
       "      <td>0.022</td>\n",
       "      <td>0.679</td>\n",
       "      <td>0.106</td>\n",
       "      <td>0.525</td>\n",
       "      <td>0.096</td>\n",
       "      <td>0.586</td>\n",
       "      <td>0.081</td>\n",
       "      <td>0.669</td>\n",
       "      <td>0.057</td>\n",
       "      <td>0.746</td>\n",
       "      <td>0.069</td>\n",
       "      <td>0.698</td>\n",
       "      <td>0.082</td>\n",
       "      <td>210.000</td>\n",
       "      <td>0.000</td>\n",
       "    </tr>\n",
       "    <tr>\n",
       "      <th>5</th>\n",
       "      <td>0.005</td>\n",
       "      <td>0.003</td>\n",
       "      <td>0.064</td>\n",
       "      <td>0.022</td>\n",
       "      <td>0.675</td>\n",
       "      <td>0.103</td>\n",
       "      <td>0.519</td>\n",
       "      <td>0.093</td>\n",
       "      <td>0.581</td>\n",
       "      <td>0.078</td>\n",
       "      <td>0.665</td>\n",
       "      <td>0.056</td>\n",
       "      <td>0.750</td>\n",
       "      <td>0.070</td>\n",
       "      <td>0.703</td>\n",
       "      <td>0.082</td>\n",
       "      <td>210.000</td>\n",
       "      <td>0.000</td>\n",
       "    </tr>\n",
       "    <tr>\n",
       "      <th>6</th>\n",
       "      <td>0.005</td>\n",
       "      <td>0.003</td>\n",
       "      <td>0.056</td>\n",
       "      <td>0.016</td>\n",
       "      <td>0.697</td>\n",
       "      <td>0.105</td>\n",
       "      <td>0.522</td>\n",
       "      <td>0.112</td>\n",
       "      <td>0.587</td>\n",
       "      <td>0.085</td>\n",
       "      <td>0.673</td>\n",
       "      <td>0.058</td>\n",
       "      <td>0.764</td>\n",
       "      <td>0.068</td>\n",
       "      <td>0.717</td>\n",
       "      <td>0.083</td>\n",
       "      <td>210.000</td>\n",
       "      <td>0.000</td>\n",
       "    </tr>\n",
       "    <tr>\n",
       "      <th>7</th>\n",
       "      <td>0.006</td>\n",
       "      <td>0.004</td>\n",
       "      <td>0.063</td>\n",
       "      <td>0.023</td>\n",
       "      <td>0.673</td>\n",
       "      <td>0.108</td>\n",
       "      <td>0.514</td>\n",
       "      <td>0.108</td>\n",
       "      <td>0.574</td>\n",
       "      <td>0.086</td>\n",
       "      <td>0.661</td>\n",
       "      <td>0.062</td>\n",
       "      <td>0.760</td>\n",
       "      <td>0.070</td>\n",
       "      <td>0.712</td>\n",
       "      <td>0.084</td>\n",
       "      <td>210.000</td>\n",
       "      <td>0.000</td>\n",
       "    </tr>\n",
       "    <tr>\n",
       "      <th>8</th>\n",
       "      <td>0.004</td>\n",
       "      <td>0.002</td>\n",
       "      <td>0.055</td>\n",
       "      <td>0.016</td>\n",
       "      <td>0.681</td>\n",
       "      <td>0.110</td>\n",
       "      <td>0.524</td>\n",
       "      <td>0.106</td>\n",
       "      <td>0.584</td>\n",
       "      <td>0.089</td>\n",
       "      <td>0.668</td>\n",
       "      <td>0.065</td>\n",
       "      <td>0.759</td>\n",
       "      <td>0.070</td>\n",
       "      <td>0.711</td>\n",
       "      <td>0.086</td>\n",
       "      <td>210.000</td>\n",
       "      <td>0.000</td>\n",
       "    </tr>\n",
       "    <tr>\n",
       "      <th>9</th>\n",
       "      <td>0.005</td>\n",
       "      <td>0.003</td>\n",
       "      <td>0.065</td>\n",
       "      <td>0.022</td>\n",
       "      <td>0.678</td>\n",
       "      <td>0.104</td>\n",
       "      <td>0.597</td>\n",
       "      <td>0.120</td>\n",
       "      <td>0.626</td>\n",
       "      <td>0.090</td>\n",
       "      <td>0.691</td>\n",
       "      <td>0.066</td>\n",
       "      <td>0.783</td>\n",
       "      <td>0.070</td>\n",
       "      <td>0.734</td>\n",
       "      <td>0.083</td>\n",
       "      <td>210.000</td>\n",
       "      <td>0.000</td>\n",
       "    </tr>\n",
       "    <tr>\n",
       "      <th>10</th>\n",
       "      <td>0.005</td>\n",
       "      <td>0.003</td>\n",
       "      <td>0.066</td>\n",
       "      <td>0.023</td>\n",
       "      <td>0.676</td>\n",
       "      <td>0.104</td>\n",
       "      <td>0.596</td>\n",
       "      <td>0.121</td>\n",
       "      <td>0.625</td>\n",
       "      <td>0.092</td>\n",
       "      <td>0.690</td>\n",
       "      <td>0.068</td>\n",
       "      <td>0.776</td>\n",
       "      <td>0.070</td>\n",
       "      <td>0.726</td>\n",
       "      <td>0.086</td>\n",
       "      <td>210.000</td>\n",
       "      <td>0.000</td>\n",
       "    </tr>\n",
       "    <tr>\n",
       "      <th>11</th>\n",
       "      <td>0.006</td>\n",
       "      <td>0.005</td>\n",
       "      <td>0.065</td>\n",
       "      <td>0.024</td>\n",
       "      <td>0.659</td>\n",
       "      <td>0.100</td>\n",
       "      <td>0.568</td>\n",
       "      <td>0.120</td>\n",
       "      <td>0.602</td>\n",
       "      <td>0.091</td>\n",
       "      <td>0.673</td>\n",
       "      <td>0.067</td>\n",
       "      <td>0.777</td>\n",
       "      <td>0.071</td>\n",
       "      <td>0.722</td>\n",
       "      <td>0.088</td>\n",
       "      <td>210.000</td>\n",
       "      <td>0.000</td>\n",
       "    </tr>\n",
       "    <tr>\n",
       "      <th>12</th>\n",
       "      <td>0.005</td>\n",
       "      <td>0.004</td>\n",
       "      <td>0.062</td>\n",
       "      <td>0.028</td>\n",
       "      <td>0.665</td>\n",
       "      <td>0.099</td>\n",
       "      <td>0.567</td>\n",
       "      <td>0.116</td>\n",
       "      <td>0.604</td>\n",
       "      <td>0.087</td>\n",
       "      <td>0.676</td>\n",
       "      <td>0.064</td>\n",
       "      <td>0.774</td>\n",
       "      <td>0.072</td>\n",
       "      <td>0.727</td>\n",
       "      <td>0.086</td>\n",
       "      <td>210.000</td>\n",
       "      <td>0.000</td>\n",
       "    </tr>\n",
       "    <tr>\n",
       "      <th>13</th>\n",
       "      <td>0.005</td>\n",
       "      <td>0.003</td>\n",
       "      <td>0.053</td>\n",
       "      <td>0.014</td>\n",
       "      <td>0.663</td>\n",
       "      <td>0.092</td>\n",
       "      <td>0.586</td>\n",
       "      <td>0.111</td>\n",
       "      <td>0.614</td>\n",
       "      <td>0.081</td>\n",
       "      <td>0.681</td>\n",
       "      <td>0.060</td>\n",
       "      <td>0.771</td>\n",
       "      <td>0.070</td>\n",
       "      <td>0.726</td>\n",
       "      <td>0.080</td>\n",
       "      <td>210.000</td>\n",
       "      <td>0.000</td>\n",
       "    </tr>\n",
       "    <tr>\n",
       "      <th>14</th>\n",
       "      <td>0.006</td>\n",
       "      <td>0.007</td>\n",
       "      <td>0.056</td>\n",
       "      <td>0.016</td>\n",
       "      <td>0.653</td>\n",
       "      <td>0.100</td>\n",
       "      <td>0.572</td>\n",
       "      <td>0.109</td>\n",
       "      <td>0.602</td>\n",
       "      <td>0.085</td>\n",
       "      <td>0.671</td>\n",
       "      <td>0.065</td>\n",
       "      <td>0.768</td>\n",
       "      <td>0.072</td>\n",
       "      <td>0.724</td>\n",
       "      <td>0.082</td>\n",
       "      <td>210.000</td>\n",
       "      <td>0.000</td>\n",
       "    </tr>\n",
       "    <tr>\n",
       "      <th>15</th>\n",
       "      <td>0.008</td>\n",
       "      <td>0.008</td>\n",
       "      <td>0.086</td>\n",
       "      <td>0.037</td>\n",
       "      <td>0.677</td>\n",
       "      <td>0.095</td>\n",
       "      <td>0.637</td>\n",
       "      <td>0.114</td>\n",
       "      <td>0.650</td>\n",
       "      <td>0.087</td>\n",
       "      <td>0.705</td>\n",
       "      <td>0.068</td>\n",
       "      <td>0.789</td>\n",
       "      <td>0.070</td>\n",
       "      <td>0.747</td>\n",
       "      <td>0.083</td>\n",
       "      <td>210.000</td>\n",
       "      <td>0.000</td>\n",
       "    </tr>\n",
       "  </tbody>\n",
       "</table>\n",
       "</div>"
      ],
      "text/plain": [
       "           fit_time       score_time       test_precision       test_recall  \\\n",
       "               mean   std       mean   std           mean   std        mean   \n",
       "n_features                                                                    \n",
       "1             0.004 0.003      0.057 0.017          0.000 0.000       0.000   \n",
       "2             0.005 0.004      0.069 0.029          0.673 0.113       0.448   \n",
       "3             0.005 0.004      0.059 0.019          0.688 0.113       0.466   \n",
       "4             0.006 0.004      0.063 0.022          0.679 0.106       0.525   \n",
       "5             0.005 0.003      0.064 0.022          0.675 0.103       0.519   \n",
       "6             0.005 0.003      0.056 0.016          0.697 0.105       0.522   \n",
       "7             0.006 0.004      0.063 0.023          0.673 0.108       0.514   \n",
       "8             0.004 0.002      0.055 0.016          0.681 0.110       0.524   \n",
       "9             0.005 0.003      0.065 0.022          0.678 0.104       0.597   \n",
       "10            0.005 0.003      0.066 0.023          0.676 0.104       0.596   \n",
       "11            0.006 0.005      0.065 0.024          0.659 0.100       0.568   \n",
       "12            0.005 0.004      0.062 0.028          0.665 0.099       0.567   \n",
       "13            0.005 0.003      0.053 0.014          0.663 0.092       0.586   \n",
       "14            0.006 0.007      0.056 0.016          0.653 0.100       0.572   \n",
       "15            0.008 0.008      0.086 0.037          0.677 0.095       0.637   \n",
       "\n",
       "                 test_f1       test_balanced_accuracy       test_roc_auc  \\\n",
       "             std    mean   std                   mean   std         mean   \n",
       "n_features                                                                 \n",
       "1          0.000   0.000 0.000                  0.500 0.000        0.755   \n",
       "2          0.103   0.531 0.095                  0.642 0.060        0.716   \n",
       "3          0.124   0.546 0.105                  0.653 0.062        0.707   \n",
       "4          0.096   0.586 0.081                  0.669 0.057        0.746   \n",
       "5          0.093   0.581 0.078                  0.665 0.056        0.750   \n",
       "6          0.112   0.587 0.085                  0.673 0.058        0.764   \n",
       "7          0.108   0.574 0.086                  0.661 0.062        0.760   \n",
       "8          0.106   0.584 0.089                  0.668 0.065        0.759   \n",
       "9          0.120   0.626 0.090                  0.691 0.066        0.783   \n",
       "10         0.121   0.625 0.092                  0.690 0.068        0.776   \n",
       "11         0.120   0.602 0.091                  0.673 0.067        0.777   \n",
       "12         0.116   0.604 0.087                  0.676 0.064        0.774   \n",
       "13         0.111   0.614 0.081                  0.681 0.060        0.771   \n",
       "14         0.109   0.602 0.085                  0.671 0.065        0.768   \n",
       "15         0.114   0.650 0.087                  0.705 0.068        0.789   \n",
       "\n",
       "                 test_average_precision       n_observations        \n",
       "             std                   mean   std           mean   std  \n",
       "n_features                                                          \n",
       "1          0.067                  0.697 0.085        210.000 0.000  \n",
       "2          0.076                  0.663 0.092        210.000 0.000  \n",
       "3          0.079                  0.667 0.092        210.000 0.000  \n",
       "4          0.069                  0.698 0.082        210.000 0.000  \n",
       "5          0.070                  0.703 0.082        210.000 0.000  \n",
       "6          0.068                  0.717 0.083        210.000 0.000  \n",
       "7          0.070                  0.712 0.084        210.000 0.000  \n",
       "8          0.070                  0.711 0.086        210.000 0.000  \n",
       "9          0.070                  0.734 0.083        210.000 0.000  \n",
       "10         0.070                  0.726 0.086        210.000 0.000  \n",
       "11         0.071                  0.722 0.088        210.000 0.000  \n",
       "12         0.072                  0.727 0.086        210.000 0.000  \n",
       "13         0.070                  0.726 0.080        210.000 0.000  \n",
       "14         0.072                  0.724 0.082        210.000 0.000  \n",
       "15         0.070                  0.747 0.083        210.000 0.000  "
      ]
     },
     "execution_count": 17,
     "metadata": {},
     "output_type": "execute_result"
    }
   ],
   "source": [
    "cv_feat_new = njab.sklearn.find_n_best_features(X=X.loc[:, new_features],\n",
    "                                                y=target, name=args.target,\n",
    "                                                groups=target_to_group)\n",
    "cv_feat_new = cv_feat_new.drop('test_case', axis=1).groupby('n_features').agg(['mean', 'std'])\n",
    "cv_feat_new"
   ]
  },
  {
   "cell_type": "markdown",
   "id": "bd57bbac",
   "metadata": {
    "papermill": {
     "duration": 0.08684,
     "end_time": "2024-06-19T02:52:23.969197",
     "exception": false,
     "start_time": "2024-06-19T02:52:23.882357",
     "status": "completed"
    },
    "tags": []
   },
   "source": [
    "### Best number of features by subset of the data:"
   ]
  },
  {
   "cell_type": "code",
   "execution_count": 18,
   "id": "72655713",
   "metadata": {
    "execution": {
     "iopub.execute_input": "2024-06-19T02:52:24.165327Z",
     "iopub.status.busy": "2024-06-19T02:52:24.164588Z",
     "iopub.status.idle": "2024-06-19T02:52:24.193258Z",
     "shell.execute_reply": "2024-06-19T02:52:24.192486Z"
    },
    "papermill": {
     "duration": 0.120926,
     "end_time": "2024-06-19T02:52:24.195160",
     "exception": false,
     "start_time": "2024-06-19T02:52:24.074234",
     "status": "completed"
    },
    "tags": [
     "hide-input"
    ]
   },
   "outputs": [
    {
     "data": {
      "text/html": [
       "<div>\n",
       "<style scoped>\n",
       "    .dataframe tbody tr th:only-of-type {\n",
       "        vertical-align: middle;\n",
       "    }\n",
       "\n",
       "    .dataframe tbody tr th {\n",
       "        vertical-align: top;\n",
       "    }\n",
       "\n",
       "    .dataframe thead th {\n",
       "        text-align: right;\n",
       "    }\n",
       "</style>\n",
       "<table border=\"1\" class=\"dataframe\">\n",
       "  <thead>\n",
       "    <tr style=\"text-align: right;\">\n",
       "      <th></th>\n",
       "      <th>ald</th>\n",
       "      <th>all</th>\n",
       "      <th>new</th>\n",
       "    </tr>\n",
       "  </thead>\n",
       "  <tbody>\n",
       "    <tr>\n",
       "      <th>fit_time</th>\n",
       "      <td>13</td>\n",
       "      <td>8</td>\n",
       "      <td>15</td>\n",
       "    </tr>\n",
       "    <tr>\n",
       "      <th>score_time</th>\n",
       "      <td>15</td>\n",
       "      <td>10</td>\n",
       "      <td>15</td>\n",
       "    </tr>\n",
       "    <tr>\n",
       "      <th>test_precision</th>\n",
       "      <td>8</td>\n",
       "      <td>14</td>\n",
       "      <td>6</td>\n",
       "    </tr>\n",
       "    <tr>\n",
       "      <th>test_recall</th>\n",
       "      <td>7</td>\n",
       "      <td>14</td>\n",
       "      <td>15</td>\n",
       "    </tr>\n",
       "    <tr>\n",
       "      <th>test_f1</th>\n",
       "      <td>7</td>\n",
       "      <td>14</td>\n",
       "      <td>15</td>\n",
       "    </tr>\n",
       "    <tr>\n",
       "      <th>test_balanced_accuracy</th>\n",
       "      <td>7</td>\n",
       "      <td>14</td>\n",
       "      <td>15</td>\n",
       "    </tr>\n",
       "    <tr>\n",
       "      <th>test_roc_auc</th>\n",
       "      <td>12</td>\n",
       "      <td>14</td>\n",
       "      <td>15</td>\n",
       "    </tr>\n",
       "    <tr>\n",
       "      <th>test_average_precision</th>\n",
       "      <td>13</td>\n",
       "      <td>15</td>\n",
       "      <td>15</td>\n",
       "    </tr>\n",
       "    <tr>\n",
       "      <th>n_observations</th>\n",
       "      <td>1</td>\n",
       "      <td>1</td>\n",
       "      <td>1</td>\n",
       "    </tr>\n",
       "  </tbody>\n",
       "</table>\n",
       "</div>"
      ],
      "text/plain": [
       "                        ald  all  new\n",
       "fit_time                 13    8   15\n",
       "score_time               15   10   15\n",
       "test_precision            8   14    6\n",
       "test_recall               7   14   15\n",
       "test_f1                   7   14   15\n",
       "test_balanced_accuracy    7   14   15\n",
       "test_roc_auc             12   14   15\n",
       "test_average_precision   13   15   15\n",
       "n_observations            1    1    1"
      ]
     },
     "execution_count": 18,
     "metadata": {},
     "output_type": "execute_result"
    }
   ],
   "source": [
    "n_feat_best = pd.DataFrame(\n",
    "    {'ald': cv_feat_ald.loc[:, pd.IndexSlice[:, 'mean']].idxmax(),\n",
    "     'all': cv_feat_all.loc[:, pd.IndexSlice[:, 'mean']].idxmax(),\n",
    "     'new': cv_feat_new.loc[:, pd.IndexSlice[:, 'mean']].idxmax()\n",
    "     }\n",
    ").droplevel(-1)\n",
    "n_feat_best"
   ]
  },
  {
   "cell_type": "markdown",
   "id": "2efdc8bf",
   "metadata": {
    "papermill": {
     "duration": 0.108088,
     "end_time": "2024-06-19T02:52:24.394023",
     "exception": false,
     "start_time": "2024-06-19T02:52:24.285935",
     "status": "completed"
    },
    "tags": []
   },
   "source": [
    "## Train, test split\n",
    "Show number of cases in train and test data"
   ]
  },
  {
   "cell_type": "code",
   "execution_count": 19,
   "id": "dc3d3b21",
   "metadata": {
    "execution": {
     "iopub.execute_input": "2024-06-19T02:52:24.612206Z",
     "iopub.status.busy": "2024-06-19T02:52:24.611855Z",
     "iopub.status.idle": "2024-06-19T02:52:24.652476Z",
     "shell.execute_reply": "2024-06-19T02:52:24.651554Z"
    },
    "lines_to_next_cell": 0,
    "papermill": {
     "duration": 0.140956,
     "end_time": "2024-06-19T02:52:24.654610",
     "exception": false,
     "start_time": "2024-06-19T02:52:24.513654",
     "status": "completed"
    },
    "tags": [
     "hide-input"
    ]
   },
   "outputs": [
    {
     "data": {
      "text/html": [
       "<div>\n",
       "<style scoped>\n",
       "    .dataframe tbody tr th:only-of-type {\n",
       "        vertical-align: middle;\n",
       "    }\n",
       "\n",
       "    .dataframe tbody tr th {\n",
       "        vertical-align: top;\n",
       "    }\n",
       "\n",
       "    .dataframe thead th {\n",
       "        text-align: right;\n",
       "    }\n",
       "</style>\n",
       "<table border=\"1\" class=\"dataframe\">\n",
       "  <thead>\n",
       "    <tr style=\"text-align: right;\">\n",
       "      <th></th>\n",
       "      <th>train</th>\n",
       "      <th>test</th>\n",
       "    </tr>\n",
       "  </thead>\n",
       "  <tbody>\n",
       "    <tr>\n",
       "      <th>False</th>\n",
       "      <td>98</td>\n",
       "      <td>24</td>\n",
       "    </tr>\n",
       "    <tr>\n",
       "      <th>True</th>\n",
       "      <td>70</td>\n",
       "      <td>18</td>\n",
       "    </tr>\n",
       "  </tbody>\n",
       "</table>\n",
       "</div>"
      ],
      "text/plain": [
       "       train  test\n",
       "False     98    24\n",
       "True      70    18"
      ]
     },
     "execution_count": 19,
     "metadata": {},
     "output_type": "execute_result"
    }
   ],
   "source": [
    "X_train, X_test, y_train, y_test = sklearn.model_selection.train_test_split(\n",
    "    X,\n",
    "    target,\n",
    "    test_size=.2,\n",
    "    stratify=target_to_group,\n",
    "    random_state=42)\n",
    "idx_train = X_train.index\n",
    "idx_test = X_test.index\n",
    "\n",
    "njab.pandas.combine_value_counts(\n",
    "    pd.concat([y_train, y_test],\n",
    "              axis=1,\n",
    "              ignore_index=True,\n",
    "              ).rename(columns={0: 'train', 1: 'test'})\n",
    ")"
   ]
  },
  {
   "cell_type": "markdown",
   "id": "d3a33fb1",
   "metadata": {
    "papermill": {
     "duration": 0.09966,
     "end_time": "2024-06-19T02:52:24.866303",
     "exception": false,
     "start_time": "2024-06-19T02:52:24.766643",
     "status": "completed"
    },
    "tags": []
   },
   "source": [
    "## Results\n",
    "\n",
    "- `run_model` returns dataclasses with the further needed results\n",
    "- add mrmr selection of data (select best number of features to use instead of fixing it)\n",
    "\n",
    "Save results for final model on entire data, new features and ALD study criteria selected data."
   ]
  },
  {
   "cell_type": "code",
   "execution_count": 20,
   "id": "d3b4b394",
   "metadata": {
    "execution": {
     "iopub.execute_input": "2024-06-19T02:52:25.120999Z",
     "iopub.status.busy": "2024-06-19T02:52:25.120649Z",
     "iopub.status.idle": "2024-06-19T02:52:44.930295Z",
     "shell.execute_reply": "2024-06-19T02:52:44.929516Z"
    },
    "papermill": {
     "duration": 19.956207,
     "end_time": "2024-06-19T02:52:44.932331",
     "exception": false,
     "start_time": "2024-06-19T02:52:24.976124",
     "status": "completed"
    },
    "tags": [
     "hide-input"
    ]
   },
   "outputs": [
    {
     "name": "stderr",
     "output_type": "stream",
     "text": [
      "\r",
      "  0%|          | 0/14 [00:00<?, ?it/s]"
     ]
    },
    {
     "name": "stderr",
     "output_type": "stream",
     "text": [
      "\r",
      " 14%|█▍        | 2/14 [00:00<00:03,  3.68it/s]"
     ]
    },
    {
     "name": "stderr",
     "output_type": "stream",
     "text": [
      "\r",
      " 21%|██▏       | 3/14 [00:00<00:03,  3.04it/s]"
     ]
    },
    {
     "name": "stderr",
     "output_type": "stream",
     "text": [
      "\r",
      " 29%|██▊       | 4/14 [00:01<00:04,  2.01it/s]"
     ]
    },
    {
     "name": "stderr",
     "output_type": "stream",
     "text": [
      "\r",
      " 36%|███▌      | 5/14 [00:02<00:05,  1.69it/s]"
     ]
    },
    {
     "name": "stderr",
     "output_type": "stream",
     "text": [
      "\r",
      " 43%|████▎     | 6/14 [00:03<00:05,  1.45it/s]"
     ]
    },
    {
     "name": "stderr",
     "output_type": "stream",
     "text": [
      "\r",
      " 50%|█████     | 7/14 [00:04<00:05,  1.39it/s]"
     ]
    },
    {
     "name": "stderr",
     "output_type": "stream",
     "text": [
      "\r",
      " 57%|█████▋    | 8/14 [00:04<00:04,  1.45it/s]"
     ]
    },
    {
     "name": "stderr",
     "output_type": "stream",
     "text": [
      "\r",
      " 64%|██████▍   | 9/14 [00:05<00:03,  1.56it/s]"
     ]
    },
    {
     "name": "stderr",
     "output_type": "stream",
     "text": [
      "\r",
      " 71%|███████▏  | 10/14 [00:05<00:02,  1.75it/s]"
     ]
    },
    {
     "name": "stderr",
     "output_type": "stream",
     "text": [
      "\r",
      " 79%|███████▊  | 11/14 [00:06<00:01,  1.84it/s]"
     ]
    },
    {
     "name": "stderr",
     "output_type": "stream",
     "text": [
      "\r",
      " 86%|████████▌ | 12/14 [00:06<00:01,  1.78it/s]"
     ]
    },
    {
     "name": "stderr",
     "output_type": "stream",
     "text": [
      "\r",
      " 93%|█████████▎| 13/14 [00:07<00:00,  1.91it/s]"
     ]
    },
    {
     "name": "stderr",
     "output_type": "stream",
     "text": [
      "\r",
      "100%|██████████| 14/14 [00:07<00:00,  1.96it/s]"
     ]
    },
    {
     "name": "stderr",
     "output_type": "stream",
     "text": [
      "\r",
      "100%|██████████| 14/14 [00:07<00:00,  1.81it/s]"
     ]
    },
    {
     "name": "stderr",
     "output_type": "stream",
     "text": [
      "\n"
     ]
    },
    {
     "name": "stderr",
     "output_type": "stream",
     "text": [
      "\r",
      "  0%|          | 0/15 [00:00<?, ?it/s]"
     ]
    },
    {
     "name": "stderr",
     "output_type": "stream",
     "text": [
      "\r",
      " 20%|██        | 3/15 [00:00<00:00, 15.96it/s]"
     ]
    },
    {
     "name": "stderr",
     "output_type": "stream",
     "text": [
      "\r",
      " 33%|███▎      | 5/15 [00:00<00:00, 12.90it/s]"
     ]
    },
    {
     "name": "stderr",
     "output_type": "stream",
     "text": [
      "\r",
      " 47%|████▋     | 7/15 [00:00<00:00,  9.89it/s]"
     ]
    },
    {
     "name": "stderr",
     "output_type": "stream",
     "text": [
      "\r",
      " 60%|██████    | 9/15 [00:00<00:00,  9.39it/s]"
     ]
    },
    {
     "name": "stderr",
     "output_type": "stream",
     "text": [
      "\r",
      " 73%|███████▎  | 11/15 [00:01<00:00,  9.12it/s]"
     ]
    },
    {
     "name": "stderr",
     "output_type": "stream",
     "text": [
      "\r",
      " 80%|████████  | 12/15 [00:01<00:00,  8.77it/s]"
     ]
    },
    {
     "name": "stderr",
     "output_type": "stream",
     "text": [
      "\r",
      " 87%|████████▋ | 13/15 [00:01<00:00,  8.72it/s]"
     ]
    },
    {
     "name": "stderr",
     "output_type": "stream",
     "text": [
      "\r",
      " 93%|█████████▎| 14/15 [00:01<00:00,  8.83it/s]"
     ]
    },
    {
     "name": "stderr",
     "output_type": "stream",
     "text": [
      "\r",
      "100%|██████████| 15/15 [00:01<00:00,  8.42it/s]"
     ]
    },
    {
     "name": "stderr",
     "output_type": "stream",
     "text": [
      "\r",
      "100%|██████████| 15/15 [00:01<00:00,  9.36it/s]"
     ]
    },
    {
     "name": "stderr",
     "output_type": "stream",
     "text": [
      "\n"
     ]
    },
    {
     "name": "stderr",
     "output_type": "stream",
     "text": [
      "\r",
      "  0%|          | 0/12 [00:00<?, ?it/s]"
     ]
    },
    {
     "name": "stderr",
     "output_type": "stream",
     "text": [
      "\r",
      " 17%|█▋        | 2/12 [00:00<00:01,  5.22it/s]"
     ]
    },
    {
     "name": "stderr",
     "output_type": "stream",
     "text": [
      "\r",
      " 25%|██▌       | 3/12 [00:00<00:02,  3.40it/s]"
     ]
    },
    {
     "name": "stderr",
     "output_type": "stream",
     "text": [
      "\r",
      " 33%|███▎      | 4/12 [00:01<00:02,  2.73it/s]"
     ]
    },
    {
     "name": "stderr",
     "output_type": "stream",
     "text": [
      "\r",
      " 42%|████▏     | 5/12 [00:01<00:02,  2.37it/s]"
     ]
    },
    {
     "name": "stderr",
     "output_type": "stream",
     "text": [
      "\r",
      " 50%|█████     | 6/12 [00:02<00:02,  2.10it/s]"
     ]
    },
    {
     "name": "stderr",
     "output_type": "stream",
     "text": [
      "\r",
      " 58%|█████▊    | 7/12 [00:02<00:02,  2.09it/s]"
     ]
    },
    {
     "name": "stderr",
     "output_type": "stream",
     "text": [
      "\r",
      " 67%|██████▋   | 8/12 [00:03<00:01,  2.18it/s]"
     ]
    },
    {
     "name": "stderr",
     "output_type": "stream",
     "text": [
      "\r",
      " 75%|███████▌  | 9/12 [00:03<00:01,  2.42it/s]"
     ]
    },
    {
     "name": "stderr",
     "output_type": "stream",
     "text": [
      "\r",
      " 83%|████████▎ | 10/12 [00:04<00:00,  2.43it/s]"
     ]
    },
    {
     "name": "stderr",
     "output_type": "stream",
     "text": [
      "\r",
      " 92%|█████████▏| 11/12 [00:04<00:00,  2.52it/s]"
     ]
    },
    {
     "name": "stderr",
     "output_type": "stream",
     "text": [
      "\r",
      "100%|██████████| 12/12 [00:04<00:00,  2.57it/s]"
     ]
    },
    {
     "name": "stderr",
     "output_type": "stream",
     "text": [
      "\r",
      "100%|██████████| 12/12 [00:04<00:00,  2.51it/s]"
     ]
    },
    {
     "name": "stderr",
     "output_type": "stream",
     "text": [
      "\n"
     ]
    }
   ],
   "source": [
    "splits = Splits(X_train=X.loc[idx_train],\n",
    "                X_test=X.loc[idx_test],\n",
    "                y_train=y_train,\n",
    "                y_test=y_test)\n",
    "results_model_full = njab.sklearn.run_model(\n",
    "    splits,\n",
    "    n_feat_to_select=n_feat_best.loc['test_roc_auc', 'all'])\n",
    "results_model_full.name = f'{args.model_key} all'\n",
    "fname = args.out_folder / f'results_{results_model_full.name}.pkl'\n",
    "files_out[fname.name] = fname\n",
    "vaep.io.to_pickle(results_model_full, fname)\n",
    "\n",
    "splits = Splits(X_train=X.loc[idx_train, new_features],\n",
    "                X_test=X.loc[idx_test, new_features],\n",
    "                y_train=y_train,\n",
    "                y_test=y_test)\n",
    "results_model_new = njab.sklearn.run_model(\n",
    "    splits,\n",
    "    n_feat_to_select=n_feat_best.loc['test_roc_auc', 'new'])\n",
    "results_model_new.name = f'{args.model_key} new'\n",
    "fname = args.out_folder / f'results_{results_model_new.name}.pkl'\n",
    "files_out[fname.name] = fname\n",
    "vaep.io.to_pickle(results_model_new, fname)\n",
    "\n",
    "splits_ald = Splits(\n",
    "    X_train=ald_study.loc[idx_train],\n",
    "    X_test=ald_study.loc[idx_test],\n",
    "    y_train=y_train,\n",
    "    y_test=y_test)\n",
    "results_ald_full = njab.sklearn.run_model(\n",
    "    splits_ald,\n",
    "    n_feat_to_select=n_feat_best.loc['test_roc_auc', 'ald'])\n",
    "results_ald_full.name = 'ALD study all'\n",
    "fname = args.out_folder / f'results_{results_ald_full.name}.pkl'\n",
    "files_out[fname.name] = fname\n",
    "vaep.io.to_pickle(results_ald_full, fname)"
   ]
  },
  {
   "cell_type": "markdown",
   "id": "0ad96ff4",
   "metadata": {
    "papermill": {
     "duration": 0.103287,
     "end_time": "2024-06-19T02:52:45.085746",
     "exception": false,
     "start_time": "2024-06-19T02:52:44.982459",
     "status": "completed"
    },
    "tags": []
   },
   "source": [
    "### ROC-AUC on test split"
   ]
  },
  {
   "cell_type": "code",
   "execution_count": 21,
   "id": "04b82583",
   "metadata": {
    "execution": {
     "iopub.execute_input": "2024-06-19T02:52:45.235680Z",
     "iopub.status.busy": "2024-06-19T02:52:45.234873Z",
     "iopub.status.idle": "2024-06-19T02:52:46.257966Z",
     "shell.execute_reply": "2024-06-19T02:52:46.257071Z"
    },
    "papermill": {
     "duration": 1.075872,
     "end_time": "2024-06-19T02:52:46.259896",
     "exception": false,
     "start_time": "2024-06-19T02:52:45.184024",
     "status": "completed"
    },
    "tags": [
     "hide-input"
    ]
   },
   "outputs": [
    {
     "name": "stderr",
     "output_type": "stream",
     "text": [
      "vaep.plotting - INFO     Saved Figures to runs/alzheimer_study/diff_analysis/AD/PI_vs_VAE/auc_roc_curve.pdf\n"
     ]
    },
    {
     "data": {
      "image/png": "[encoded data removed]",
      "text/plain": [
       "<Figure size 367.5x367.5 with 1 Axes>"
      ]
     },
     "metadata": {},
     "output_type": "display_data"
    }
   ],
   "source": [
    "fig, ax = plt.subplots(1, 1, figsize=figsize)\n",
    "plot_split_auc(results_ald_full.test, results_ald_full.name, ax)\n",
    "plot_split_auc(results_model_full.test, results_model_full.name, ax)\n",
    "plot_split_auc(results_model_new.test, results_model_new.name, ax)\n",
    "fname = args.out_folder / 'auc_roc_curve.pdf'\n",
    "files_out[fname.name] = fname\n",
    "vaep.savefig(fig, name=fname)"
   ]
  },
  {
   "cell_type": "markdown",
   "id": "9e35c686",
   "metadata": {
    "papermill": {
     "duration": 0.050123,
     "end_time": "2024-06-19T02:52:46.360931",
     "exception": false,
     "start_time": "2024-06-19T02:52:46.310808",
     "status": "completed"
    },
    "tags": []
   },
   "source": [
    "Data used to plot ROC:"
   ]
  },
  {
   "cell_type": "code",
   "execution_count": 22,
   "id": "322281db",
   "metadata": {
    "execution": {
     "iopub.execute_input": "2024-06-19T02:52:46.464554Z",
     "iopub.status.busy": "2024-06-19T02:52:46.464204Z",
     "iopub.status.idle": "2024-06-19T02:52:46.730265Z",
     "shell.execute_reply": "2024-06-19T02:52:46.729465Z"
    },
    "papermill": {
     "duration": 0.319485,
     "end_time": "2024-06-19T02:52:46.732219",
     "exception": false,
     "start_time": "2024-06-19T02:52:46.412734",
     "status": "completed"
    },
    "tags": [
     "hide-input"
    ]
   },
   "outputs": [
    {
     "data": {
      "text/html": [
       "<div>\n",
       "<style scoped>\n",
       "    .dataframe tbody tr th:only-of-type {\n",
       "        vertical-align: middle;\n",
       "    }\n",
       "\n",
       "    .dataframe tbody tr th {\n",
       "        vertical-align: top;\n",
       "    }\n",
       "\n",
       "    .dataframe thead tr th {\n",
       "        text-align: left;\n",
       "    }\n",
       "</style>\n",
       "<table border=\"1\" class=\"dataframe\">\n",
       "  <thead>\n",
       "    <tr>\n",
       "      <th></th>\n",
       "      <th colspan=\"2\" halign=\"left\">ALD study all</th>\n",
       "      <th colspan=\"2\" halign=\"left\">VAE all</th>\n",
       "      <th colspan=\"2\" halign=\"left\">VAE new</th>\n",
       "    </tr>\n",
       "    <tr>\n",
       "      <th></th>\n",
       "      <th>fpr</th>\n",
       "      <th>tpr</th>\n",
       "      <th>fpr</th>\n",
       "      <th>tpr</th>\n",
       "      <th>fpr</th>\n",
       "      <th>tpr</th>\n",
       "    </tr>\n",
       "  </thead>\n",
       "  <tbody>\n",
       "    <tr>\n",
       "      <th>0</th>\n",
       "      <td>0.000</td>\n",
       "      <td>0.000</td>\n",
       "      <td>0.000</td>\n",
       "      <td>0.000</td>\n",
       "      <td>0.000</td>\n",
       "      <td>0.000</td>\n",
       "    </tr>\n",
       "    <tr>\n",
       "      <th>1</th>\n",
       "      <td>0.042</td>\n",
       "      <td>0.000</td>\n",
       "      <td>0.000</td>\n",
       "      <td>0.056</td>\n",
       "      <td>0.042</td>\n",
       "      <td>0.000</td>\n",
       "    </tr>\n",
       "    <tr>\n",
       "      <th>2</th>\n",
       "      <td>0.042</td>\n",
       "      <td>0.167</td>\n",
       "      <td>0.000</td>\n",
       "      <td>0.278</td>\n",
       "      <td>0.042</td>\n",
       "      <td>0.111</td>\n",
       "    </tr>\n",
       "    <tr>\n",
       "      <th>3</th>\n",
       "      <td>0.083</td>\n",
       "      <td>0.167</td>\n",
       "      <td>0.042</td>\n",
       "      <td>0.278</td>\n",
       "      <td>0.083</td>\n",
       "      <td>0.111</td>\n",
       "    </tr>\n",
       "    <tr>\n",
       "      <th>4</th>\n",
       "      <td>0.083</td>\n",
       "      <td>0.389</td>\n",
       "      <td>0.042</td>\n",
       "      <td>0.444</td>\n",
       "      <td>0.083</td>\n",
       "      <td>0.333</td>\n",
       "    </tr>\n",
       "    <tr>\n",
       "      <th>5</th>\n",
       "      <td>0.125</td>\n",
       "      <td>0.389</td>\n",
       "      <td>0.083</td>\n",
       "      <td>0.444</td>\n",
       "      <td>0.125</td>\n",
       "      <td>0.333</td>\n",
       "    </tr>\n",
       "    <tr>\n",
       "      <th>6</th>\n",
       "      <td>0.125</td>\n",
       "      <td>0.667</td>\n",
       "      <td>0.083</td>\n",
       "      <td>0.611</td>\n",
       "      <td>0.125</td>\n",
       "      <td>0.389</td>\n",
       "    </tr>\n",
       "    <tr>\n",
       "      <th>7</th>\n",
       "      <td>0.292</td>\n",
       "      <td>0.667</td>\n",
       "      <td>0.125</td>\n",
       "      <td>0.611</td>\n",
       "      <td>0.208</td>\n",
       "      <td>0.389</td>\n",
       "    </tr>\n",
       "    <tr>\n",
       "      <th>8</th>\n",
       "      <td>0.292</td>\n",
       "      <td>0.778</td>\n",
       "      <td>0.125</td>\n",
       "      <td>0.667</td>\n",
       "      <td>0.208</td>\n",
       "      <td>0.556</td>\n",
       "    </tr>\n",
       "    <tr>\n",
       "      <th>9</th>\n",
       "      <td>0.333</td>\n",
       "      <td>0.778</td>\n",
       "      <td>0.208</td>\n",
       "      <td>0.667</td>\n",
       "      <td>0.292</td>\n",
       "      <td>0.556</td>\n",
       "    </tr>\n",
       "    <tr>\n",
       "      <th>10</th>\n",
       "      <td>0.333</td>\n",
       "      <td>0.833</td>\n",
       "      <td>0.208</td>\n",
       "      <td>0.722</td>\n",
       "      <td>0.292</td>\n",
       "      <td>0.667</td>\n",
       "    </tr>\n",
       "    <tr>\n",
       "      <th>11</th>\n",
       "      <td>0.458</td>\n",
       "      <td>0.833</td>\n",
       "      <td>0.250</td>\n",
       "      <td>0.722</td>\n",
       "      <td>0.500</td>\n",
       "      <td>0.667</td>\n",
       "    </tr>\n",
       "    <tr>\n",
       "      <th>12</th>\n",
       "      <td>0.458</td>\n",
       "      <td>0.944</td>\n",
       "      <td>0.250</td>\n",
       "      <td>0.778</td>\n",
       "      <td>0.500</td>\n",
       "      <td>0.722</td>\n",
       "    </tr>\n",
       "    <tr>\n",
       "      <th>13</th>\n",
       "      <td>0.667</td>\n",
       "      <td>0.944</td>\n",
       "      <td>0.292</td>\n",
       "      <td>0.778</td>\n",
       "      <td>0.583</td>\n",
       "      <td>0.722</td>\n",
       "    </tr>\n",
       "    <tr>\n",
       "      <th>14</th>\n",
       "      <td>0.667</td>\n",
       "      <td>1.000</td>\n",
       "      <td>0.292</td>\n",
       "      <td>0.833</td>\n",
       "      <td>0.583</td>\n",
       "      <td>0.778</td>\n",
       "    </tr>\n",
       "    <tr>\n",
       "      <th>15</th>\n",
       "      <td>1.000</td>\n",
       "      <td>1.000</td>\n",
       "      <td>0.333</td>\n",
       "      <td>0.833</td>\n",
       "      <td>0.667</td>\n",
       "      <td>0.778</td>\n",
       "    </tr>\n",
       "    <tr>\n",
       "      <th>16</th>\n",
       "      <td>NaN</td>\n",
       "      <td>NaN</td>\n",
       "      <td>0.333</td>\n",
       "      <td>0.889</td>\n",
       "      <td>0.667</td>\n",
       "      <td>0.833</td>\n",
       "    </tr>\n",
       "    <tr>\n",
       "      <th>17</th>\n",
       "      <td>NaN</td>\n",
       "      <td>NaN</td>\n",
       "      <td>0.542</td>\n",
       "      <td>0.889</td>\n",
       "      <td>0.708</td>\n",
       "      <td>0.833</td>\n",
       "    </tr>\n",
       "    <tr>\n",
       "      <th>18</th>\n",
       "      <td>NaN</td>\n",
       "      <td>NaN</td>\n",
       "      <td>0.542</td>\n",
       "      <td>1.000</td>\n",
       "      <td>0.708</td>\n",
       "      <td>0.944</td>\n",
       "    </tr>\n",
       "    <tr>\n",
       "      <th>19</th>\n",
       "      <td>NaN</td>\n",
       "      <td>NaN</td>\n",
       "      <td>1.000</td>\n",
       "      <td>1.000</td>\n",
       "      <td>0.833</td>\n",
       "      <td>0.944</td>\n",
       "    </tr>\n",
       "    <tr>\n",
       "      <th>20</th>\n",
       "      <td>NaN</td>\n",
       "      <td>NaN</td>\n",
       "      <td>NaN</td>\n",
       "      <td>NaN</td>\n",
       "      <td>0.833</td>\n",
       "      <td>1.000</td>\n",
       "    </tr>\n",
       "    <tr>\n",
       "      <th>21</th>\n",
       "      <td>NaN</td>\n",
       "      <td>NaN</td>\n",
       "      <td>NaN</td>\n",
       "      <td>NaN</td>\n",
       "      <td>1.000</td>\n",
       "      <td>1.000</td>\n",
       "    </tr>\n",
       "  </tbody>\n",
       "</table>\n",
       "</div>"
      ],
      "text/plain": [
       "   ALD study all       VAE all       VAE new      \n",
       "             fpr   tpr     fpr   tpr     fpr   tpr\n",
       "0          0.000 0.000   0.000 0.000   0.000 0.000\n",
       "1          0.042 0.000   0.000 0.056   0.042 0.000\n",
       "2          0.042 0.167   0.000 0.278   0.042 0.111\n",
       "3          0.083 0.167   0.042 0.278   0.083 0.111\n",
       "4          0.083 0.389   0.042 0.444   0.083 0.333\n",
       "5          0.125 0.389   0.083 0.444   0.125 0.333\n",
       "6          0.125 0.667   0.083 0.611   0.125 0.389\n",
       "7          0.292 0.667   0.125 0.611   0.208 0.389\n",
       "8          0.292 0.778   0.125 0.667   0.208 0.556\n",
       "9          0.333 0.778   0.208 0.667   0.292 0.556\n",
       "10         0.333 0.833   0.208 0.722   0.292 0.667\n",
       "11         0.458 0.833   0.250 0.722   0.500 0.667\n",
       "12         0.458 0.944   0.250 0.778   0.500 0.722\n",
       "13         0.667 0.944   0.292 0.778   0.583 0.722\n",
       "14         0.667 1.000   0.292 0.833   0.583 0.778\n",
       "15         1.000 1.000   0.333 0.833   0.667 0.778\n",
       "16           NaN   NaN   0.333 0.889   0.667 0.833\n",
       "17           NaN   NaN   0.542 0.889   0.708 0.833\n",
       "18           NaN   NaN   0.542 1.000   0.708 0.944\n",
       "19           NaN   NaN   1.000 1.000   0.833 0.944\n",
       "20           NaN   NaN     NaN   NaN   0.833 1.000\n",
       "21           NaN   NaN     NaN   NaN   1.000 1.000"
      ]
     },
     "execution_count": 22,
     "metadata": {},
     "output_type": "execute_result"
    }
   ],
   "source": [
    "res = [results_ald_full, results_model_full, results_model_new]\n",
    "\n",
    "auc_roc_curve = parse_roc(*res)\n",
    "auc_roc_curve.to_excel(fname.with_suffix('.xlsx'))\n",
    "auc_roc_curve"
   ]
  },
  {
   "cell_type": "markdown",
   "id": "46e9a3f2-89aa-4bd5-a083-d8e16815020a",
   "metadata": {
    "papermill": {
     "duration": 0.051231,
     "end_time": "2024-06-19T02:52:46.837897",
     "exception": false,
     "start_time": "2024-06-19T02:52:46.786666",
     "status": "completed"
    },
    "tags": []
   },
   "source": [
    "### Features selected for final models"
   ]
  },
  {
   "cell_type": "code",
   "execution_count": 23,
   "id": "9e1bb173",
   "metadata": {
    "execution": {
     "iopub.execute_input": "2024-06-19T02:52:46.944311Z",
     "iopub.status.busy": "2024-06-19T02:52:46.943854Z",
     "iopub.status.idle": "2024-06-19T02:52:46.970387Z",
     "shell.execute_reply": "2024-06-19T02:52:46.969590Z"
    },
    "papermill": {
     "duration": 0.081882,
     "end_time": "2024-06-19T02:52:46.972338",
     "exception": false,
     "start_time": "2024-06-19T02:52:46.890456",
     "status": "completed"
    },
    "tags": [
     "hide-input"
    ]
   },
   "outputs": [
    {
     "data": {
      "text/html": [
       "<div>\n",
       "<style scoped>\n",
       "    .dataframe tbody tr th:only-of-type {\n",
       "        vertical-align: middle;\n",
       "    }\n",
       "\n",
       "    .dataframe tbody tr th {\n",
       "        vertical-align: top;\n",
       "    }\n",
       "\n",
       "    .dataframe thead th {\n",
       "        text-align: right;\n",
       "    }\n",
       "</style>\n",
       "<table border=\"1\" class=\"dataframe\">\n",
       "  <thead>\n",
       "    <tr style=\"text-align: right;\">\n",
       "      <th></th>\n",
       "      <th>ALD study all</th>\n",
       "      <th>VAE all</th>\n",
       "      <th>VAE new</th>\n",
       "    </tr>\n",
       "    <tr>\n",
       "      <th>rank</th>\n",
       "      <th></th>\n",
       "      <th></th>\n",
       "      <th></th>\n",
       "    </tr>\n",
       "  </thead>\n",
       "  <tbody>\n",
       "    <tr>\n",
       "      <th>0</th>\n",
       "      <td>P04075</td>\n",
       "      <td>P10636-2;P10636-6</td>\n",
       "      <td>Q14894</td>\n",
       "    </tr>\n",
       "    <tr>\n",
       "      <th>1</th>\n",
       "      <td>Q9NRN5</td>\n",
       "      <td>Q96GD0</td>\n",
       "      <td>A0A087WTT8;A0A0A0MQX5;O94779;O94779-2</td>\n",
       "    </tr>\n",
       "    <tr>\n",
       "      <th>2</th>\n",
       "      <td>P09486</td>\n",
       "      <td>P23468-2</td>\n",
       "      <td>Q9Y281;Q9Y281-3</td>\n",
       "    </tr>\n",
       "    <tr>\n",
       "      <th>3</th>\n",
       "      <td>K7ERG9;P00746</td>\n",
       "      <td>P04075</td>\n",
       "      <td>P31321</td>\n",
       "    </tr>\n",
       "    <tr>\n",
       "      <th>4</th>\n",
       "      <td>P14174</td>\n",
       "      <td>P61981</td>\n",
       "      <td>J3KSJ8;Q9UD71;Q9UD71-2</td>\n",
       "    </tr>\n",
       "    <tr>\n",
       "      <th>5</th>\n",
       "      <td>P10636-2;P10636-6</td>\n",
       "      <td>Q9Y2T3;Q9Y2T3-3</td>\n",
       "      <td>F8WBF9;Q5TH30;Q9UGV2;Q9UGV2-2;Q9UGV2-3</td>\n",
       "    </tr>\n",
       "    <tr>\n",
       "      <th>6</th>\n",
       "      <td>P61981</td>\n",
       "      <td>P14174</td>\n",
       "      <td>A0A0C4DGV4;E9PLX3;O43504;R4GMU8</td>\n",
       "    </tr>\n",
       "    <tr>\n",
       "      <th>7</th>\n",
       "      <td>P18428</td>\n",
       "      <td>P15151-2</td>\n",
       "      <td>Q9NUQ9</td>\n",
       "    </tr>\n",
       "    <tr>\n",
       "      <th>8</th>\n",
       "      <td>Q9Y2T3;Q9Y2T3-3</td>\n",
       "      <td>A0A0C4DGY8;D6RA00;Q9UHY7</td>\n",
       "      <td>Q96GD0</td>\n",
       "    </tr>\n",
       "    <tr>\n",
       "      <th>9</th>\n",
       "      <td>Q99983</td>\n",
       "      <td>P25189;P25189-2</td>\n",
       "      <td>A0A075B7B8</td>\n",
       "    </tr>\n",
       "    <tr>\n",
       "      <th>10</th>\n",
       "      <td>Q6EMK4</td>\n",
       "      <td>P63104</td>\n",
       "      <td>P51688</td>\n",
       "    </tr>\n",
       "    <tr>\n",
       "      <th>11</th>\n",
       "      <td>P00338;P00338-3</td>\n",
       "      <td>Q14894</td>\n",
       "      <td>O95297;O95297-2;O95297-3;O95297-4;Q9UEL6</td>\n",
       "    </tr>\n",
       "    <tr>\n",
       "      <th>12</th>\n",
       "      <td>None</td>\n",
       "      <td>P00338;P00338-3</td>\n",
       "      <td>Q9H741</td>\n",
       "    </tr>\n",
       "    <tr>\n",
       "      <th>13</th>\n",
       "      <td>None</td>\n",
       "      <td>P31321</td>\n",
       "      <td>Q8TEA8</td>\n",
       "    </tr>\n",
       "    <tr>\n",
       "      <th>14</th>\n",
       "      <td>None</td>\n",
       "      <td>None</td>\n",
       "      <td>O95497</td>\n",
       "    </tr>\n",
       "  </tbody>\n",
       "</table>\n",
       "</div>"
      ],
      "text/plain": [
       "          ALD study all                   VAE all  \\\n",
       "rank                                                \n",
       "0                P04075         P10636-2;P10636-6   \n",
       "1                Q9NRN5                    Q96GD0   \n",
       "2                P09486                  P23468-2   \n",
       "3         K7ERG9;P00746                    P04075   \n",
       "4                P14174                    P61981   \n",
       "5     P10636-2;P10636-6           Q9Y2T3;Q9Y2T3-3   \n",
       "6                P61981                    P14174   \n",
       "7                P18428                  P15151-2   \n",
       "8       Q9Y2T3;Q9Y2T3-3  A0A0C4DGY8;D6RA00;Q9UHY7   \n",
       "9                Q99983           P25189;P25189-2   \n",
       "10               Q6EMK4                    P63104   \n",
       "11      P00338;P00338-3                    Q14894   \n",
       "12                 None           P00338;P00338-3   \n",
       "13                 None                    P31321   \n",
       "14                 None                      None   \n",
       "\n",
       "                                       VAE new  \n",
       "rank                                            \n",
       "0                                       Q14894  \n",
       "1        A0A087WTT8;A0A0A0MQX5;O94779;O94779-2  \n",
       "2                              Q9Y281;Q9Y281-3  \n",
       "3                                       P31321  \n",
       "4                       J3KSJ8;Q9UD71;Q9UD71-2  \n",
       "5       F8WBF9;Q5TH30;Q9UGV2;Q9UGV2-2;Q9UGV2-3  \n",
       "6              A0A0C4DGV4;E9PLX3;O43504;R4GMU8  \n",
       "7                                       Q9NUQ9  \n",
       "8                                       Q96GD0  \n",
       "9                                   A0A075B7B8  \n",
       "10                                      P51688  \n",
       "11    O95297;O95297-2;O95297-3;O95297-4;Q9UEL6  \n",
       "12                                      Q9H741  \n",
       "13                                      Q8TEA8  \n",
       "14                                      O95497  "
      ]
     },
     "execution_count": 23,
     "metadata": {},
     "output_type": "execute_result"
    }
   ],
   "source": [
    "selected_features = pd.DataFrame(\n",
    "    [results_ald_full.selected_features,\n",
    "     results_model_full.selected_features,\n",
    "     results_model_new.selected_features],\n",
    "    index=[\n",
    "        results_ald_full.name,\n",
    "        results_model_full.name,\n",
    "        results_model_new.name]\n",
    ").T\n",
    "selected_features.index.name = 'rank'\n",
    "fname = args.out_folder / 'mrmr_feat_by_model.xlsx'\n",
    "files_out[fname.name] = fname\n",
    "selected_features.to_excel(fname)\n",
    "selected_features"
   ]
  },
  {
   "cell_type": "markdown",
   "id": "ce227174",
   "metadata": {
    "papermill": {
     "duration": 0.043277,
     "end_time": "2024-06-19T02:52:47.062943",
     "exception": false,
     "start_time": "2024-06-19T02:52:47.019666",
     "status": "completed"
    },
    "tags": []
   },
   "source": [
    "### Precision-Recall plot on test data"
   ]
  },
  {
   "cell_type": "code",
   "execution_count": 24,
   "id": "56ea0d50",
   "metadata": {
    "execution": {
     "iopub.execute_input": "2024-06-19T02:52:47.168430Z",
     "iopub.status.busy": "2024-06-19T02:52:47.168000Z",
     "iopub.status.idle": "2024-06-19T02:52:48.071743Z",
     "shell.execute_reply": "2024-06-19T02:52:48.070902Z"
    },
    "papermill": {
     "duration": 0.958694,
     "end_time": "2024-06-19T02:52:48.073457",
     "exception": false,
     "start_time": "2024-06-19T02:52:47.114763",
     "status": "completed"
    },
    "tags": [
     "hide-input"
    ]
   },
   "outputs": [
    {
     "name": "stderr",
     "output_type": "stream",
     "text": [
      "vaep.plotting - INFO     Saved Figures to runs/alzheimer_study/diff_analysis/AD/PI_vs_VAE/prec_recall_curve.pdf\n"
     ]
    },
    {
     "data": {
      "image/png": "[encoded data removed]",
      "text/plain": [
       "<Figure size 367.5x367.5 with 1 Axes>"
      ]
     },
     "metadata": {},
     "output_type": "display_data"
    }
   ],
   "source": [
    "fig, ax = plt.subplots(1, 1, figsize=figsize)\n",
    "\n",
    "ax = plot_split_prc(results_ald_full.test, results_ald_full.name, ax)\n",
    "ax = plot_split_prc(results_model_full.test, results_model_full.name, ax)\n",
    "ax = plot_split_prc(results_model_new.test, results_model_new.name, ax)\n",
    "fname = folder = args.out_folder / 'prec_recall_curve.pdf'\n",
    "files_out[fname.name] = fname\n",
    "vaep.savefig(fig, name=fname)"
   ]
  },
  {
   "cell_type": "markdown",
   "id": "bc9e560d",
   "metadata": {
    "papermill": {
     "duration": 0.049,
     "end_time": "2024-06-19T02:52:48.170514",
     "exception": false,
     "start_time": "2024-06-19T02:52:48.121514",
     "status": "completed"
    },
    "tags": []
   },
   "source": [
    "Data used to plot PRC:"
   ]
  },
  {
   "cell_type": "code",
   "execution_count": 25,
   "id": "a9f5e5ce",
   "metadata": {
    "execution": {
     "iopub.execute_input": "2024-06-19T02:52:48.279782Z",
     "iopub.status.busy": "2024-06-19T02:52:48.278983Z",
     "iopub.status.idle": "2024-06-19T02:52:48.330742Z",
     "shell.execute_reply": "2024-06-19T02:52:48.329953Z"
    },
    "papermill": {
     "duration": 0.108644,
     "end_time": "2024-06-19T02:52:48.332531",
     "exception": false,
     "start_time": "2024-06-19T02:52:48.223887",
     "status": "completed"
    },
    "tags": [
     "hide-input"
    ]
   },
   "outputs": [
    {
     "data": {
      "text/html": [
       "<div>\n",
       "<style scoped>\n",
       "    .dataframe tbody tr th:only-of-type {\n",
       "        vertical-align: middle;\n",
       "    }\n",
       "\n",
       "    .dataframe tbody tr th {\n",
       "        vertical-align: top;\n",
       "    }\n",
       "\n",
       "    .dataframe thead tr th {\n",
       "        text-align: left;\n",
       "    }\n",
       "</style>\n",
       "<table border=\"1\" class=\"dataframe\">\n",
       "  <thead>\n",
       "    <tr>\n",
       "      <th></th>\n",
       "      <th colspan=\"2\" halign=\"left\">ALD study all</th>\n",
       "      <th colspan=\"2\" halign=\"left\">VAE all</th>\n",
       "      <th colspan=\"2\" halign=\"left\">VAE new</th>\n",
       "    </tr>\n",
       "    <tr>\n",
       "      <th></th>\n",
       "      <th>precision</th>\n",
       "      <th>tpr</th>\n",
       "      <th>precision</th>\n",
       "      <th>tpr</th>\n",
       "      <th>precision</th>\n",
       "      <th>tpr</th>\n",
       "    </tr>\n",
       "  </thead>\n",
       "  <tbody>\n",
       "    <tr>\n",
       "      <th>0</th>\n",
       "      <td>0.429</td>\n",
       "      <td>1.000</td>\n",
       "      <td>0.429</td>\n",
       "      <td>1.000</td>\n",
       "      <td>0.429</td>\n",
       "      <td>1.000</td>\n",
       "    </tr>\n",
       "    <tr>\n",
       "      <th>1</th>\n",
       "      <td>0.439</td>\n",
       "      <td>1.000</td>\n",
       "      <td>0.439</td>\n",
       "      <td>1.000</td>\n",
       "      <td>0.439</td>\n",
       "      <td>1.000</td>\n",
       "    </tr>\n",
       "    <tr>\n",
       "      <th>2</th>\n",
       "      <td>0.450</td>\n",
       "      <td>1.000</td>\n",
       "      <td>0.450</td>\n",
       "      <td>1.000</td>\n",
       "      <td>0.450</td>\n",
       "      <td>1.000</td>\n",
       "    </tr>\n",
       "    <tr>\n",
       "      <th>3</th>\n",
       "      <td>0.462</td>\n",
       "      <td>1.000</td>\n",
       "      <td>0.462</td>\n",
       "      <td>1.000</td>\n",
       "      <td>0.462</td>\n",
       "      <td>1.000</td>\n",
       "    </tr>\n",
       "    <tr>\n",
       "      <th>4</th>\n",
       "      <td>0.474</td>\n",
       "      <td>1.000</td>\n",
       "      <td>0.474</td>\n",
       "      <td>1.000</td>\n",
       "      <td>0.474</td>\n",
       "      <td>1.000</td>\n",
       "    </tr>\n",
       "    <tr>\n",
       "      <th>5</th>\n",
       "      <td>0.486</td>\n",
       "      <td>1.000</td>\n",
       "      <td>0.486</td>\n",
       "      <td>1.000</td>\n",
       "      <td>0.459</td>\n",
       "      <td>0.944</td>\n",
       "    </tr>\n",
       "    <tr>\n",
       "      <th>6</th>\n",
       "      <td>0.500</td>\n",
       "      <td>1.000</td>\n",
       "      <td>0.500</td>\n",
       "      <td>1.000</td>\n",
       "      <td>0.472</td>\n",
       "      <td>0.944</td>\n",
       "    </tr>\n",
       "    <tr>\n",
       "      <th>7</th>\n",
       "      <td>0.514</td>\n",
       "      <td>1.000</td>\n",
       "      <td>0.514</td>\n",
       "      <td>1.000</td>\n",
       "      <td>0.486</td>\n",
       "      <td>0.944</td>\n",
       "    </tr>\n",
       "    <tr>\n",
       "      <th>8</th>\n",
       "      <td>0.529</td>\n",
       "      <td>1.000</td>\n",
       "      <td>0.529</td>\n",
       "      <td>1.000</td>\n",
       "      <td>0.500</td>\n",
       "      <td>0.944</td>\n",
       "    </tr>\n",
       "    <tr>\n",
       "      <th>9</th>\n",
       "      <td>0.515</td>\n",
       "      <td>0.944</td>\n",
       "      <td>0.545</td>\n",
       "      <td>1.000</td>\n",
       "      <td>0.485</td>\n",
       "      <td>0.889</td>\n",
       "    </tr>\n",
       "    <tr>\n",
       "      <th>10</th>\n",
       "      <td>0.531</td>\n",
       "      <td>0.944</td>\n",
       "      <td>0.562</td>\n",
       "      <td>1.000</td>\n",
       "      <td>0.469</td>\n",
       "      <td>0.833</td>\n",
       "    </tr>\n",
       "    <tr>\n",
       "      <th>11</th>\n",
       "      <td>0.548</td>\n",
       "      <td>0.944</td>\n",
       "      <td>0.581</td>\n",
       "      <td>1.000</td>\n",
       "      <td>0.484</td>\n",
       "      <td>0.833</td>\n",
       "    </tr>\n",
       "    <tr>\n",
       "      <th>12</th>\n",
       "      <td>0.567</td>\n",
       "      <td>0.944</td>\n",
       "      <td>0.567</td>\n",
       "      <td>0.944</td>\n",
       "      <td>0.467</td>\n",
       "      <td>0.778</td>\n",
       "    </tr>\n",
       "    <tr>\n",
       "      <th>13</th>\n",
       "      <td>0.586</td>\n",
       "      <td>0.944</td>\n",
       "      <td>0.552</td>\n",
       "      <td>0.889</td>\n",
       "      <td>0.483</td>\n",
       "      <td>0.778</td>\n",
       "    </tr>\n",
       "    <tr>\n",
       "      <th>14</th>\n",
       "      <td>0.607</td>\n",
       "      <td>0.944</td>\n",
       "      <td>0.571</td>\n",
       "      <td>0.889</td>\n",
       "      <td>0.500</td>\n",
       "      <td>0.778</td>\n",
       "    </tr>\n",
       "    <tr>\n",
       "      <th>15</th>\n",
       "      <td>0.593</td>\n",
       "      <td>0.889</td>\n",
       "      <td>0.593</td>\n",
       "      <td>0.889</td>\n",
       "      <td>0.481</td>\n",
       "      <td>0.722</td>\n",
       "    </tr>\n",
       "    <tr>\n",
       "      <th>16</th>\n",
       "      <td>0.577</td>\n",
       "      <td>0.833</td>\n",
       "      <td>0.615</td>\n",
       "      <td>0.889</td>\n",
       "      <td>0.500</td>\n",
       "      <td>0.722</td>\n",
       "    </tr>\n",
       "    <tr>\n",
       "      <th>17</th>\n",
       "      <td>0.600</td>\n",
       "      <td>0.833</td>\n",
       "      <td>0.640</td>\n",
       "      <td>0.889</td>\n",
       "      <td>0.520</td>\n",
       "      <td>0.722</td>\n",
       "    </tr>\n",
       "    <tr>\n",
       "      <th>18</th>\n",
       "      <td>0.625</td>\n",
       "      <td>0.833</td>\n",
       "      <td>0.667</td>\n",
       "      <td>0.889</td>\n",
       "      <td>0.500</td>\n",
       "      <td>0.667</td>\n",
       "    </tr>\n",
       "    <tr>\n",
       "      <th>19</th>\n",
       "      <td>0.652</td>\n",
       "      <td>0.833</td>\n",
       "      <td>0.652</td>\n",
       "      <td>0.833</td>\n",
       "      <td>0.522</td>\n",
       "      <td>0.667</td>\n",
       "    </tr>\n",
       "    <tr>\n",
       "      <th>20</th>\n",
       "      <td>0.636</td>\n",
       "      <td>0.778</td>\n",
       "      <td>0.682</td>\n",
       "      <td>0.833</td>\n",
       "      <td>0.545</td>\n",
       "      <td>0.667</td>\n",
       "    </tr>\n",
       "    <tr>\n",
       "      <th>21</th>\n",
       "      <td>0.667</td>\n",
       "      <td>0.778</td>\n",
       "      <td>0.667</td>\n",
       "      <td>0.778</td>\n",
       "      <td>0.571</td>\n",
       "      <td>0.667</td>\n",
       "    </tr>\n",
       "    <tr>\n",
       "      <th>22</th>\n",
       "      <td>0.650</td>\n",
       "      <td>0.722</td>\n",
       "      <td>0.700</td>\n",
       "      <td>0.778</td>\n",
       "      <td>0.600</td>\n",
       "      <td>0.667</td>\n",
       "    </tr>\n",
       "    <tr>\n",
       "      <th>23</th>\n",
       "      <td>0.632</td>\n",
       "      <td>0.667</td>\n",
       "      <td>0.684</td>\n",
       "      <td>0.722</td>\n",
       "      <td>0.632</td>\n",
       "      <td>0.667</td>\n",
       "    </tr>\n",
       "    <tr>\n",
       "      <th>24</th>\n",
       "      <td>0.667</td>\n",
       "      <td>0.667</td>\n",
       "      <td>0.722</td>\n",
       "      <td>0.722</td>\n",
       "      <td>0.611</td>\n",
       "      <td>0.611</td>\n",
       "    </tr>\n",
       "    <tr>\n",
       "      <th>25</th>\n",
       "      <td>0.706</td>\n",
       "      <td>0.667</td>\n",
       "      <td>0.706</td>\n",
       "      <td>0.667</td>\n",
       "      <td>0.588</td>\n",
       "      <td>0.556</td>\n",
       "    </tr>\n",
       "    <tr>\n",
       "      <th>26</th>\n",
       "      <td>0.750</td>\n",
       "      <td>0.667</td>\n",
       "      <td>0.750</td>\n",
       "      <td>0.667</td>\n",
       "      <td>0.625</td>\n",
       "      <td>0.556</td>\n",
       "    </tr>\n",
       "    <tr>\n",
       "      <th>27</th>\n",
       "      <td>0.800</td>\n",
       "      <td>0.667</td>\n",
       "      <td>0.800</td>\n",
       "      <td>0.667</td>\n",
       "      <td>0.667</td>\n",
       "      <td>0.556</td>\n",
       "    </tr>\n",
       "    <tr>\n",
       "      <th>28</th>\n",
       "      <td>0.786</td>\n",
       "      <td>0.611</td>\n",
       "      <td>0.786</td>\n",
       "      <td>0.611</td>\n",
       "      <td>0.643</td>\n",
       "      <td>0.500</td>\n",
       "    </tr>\n",
       "    <tr>\n",
       "      <th>29</th>\n",
       "      <td>0.769</td>\n",
       "      <td>0.556</td>\n",
       "      <td>0.846</td>\n",
       "      <td>0.611</td>\n",
       "      <td>0.615</td>\n",
       "      <td>0.444</td>\n",
       "    </tr>\n",
       "    <tr>\n",
       "      <th>30</th>\n",
       "      <td>0.750</td>\n",
       "      <td>0.500</td>\n",
       "      <td>0.833</td>\n",
       "      <td>0.556</td>\n",
       "      <td>0.583</td>\n",
       "      <td>0.389</td>\n",
       "    </tr>\n",
       "    <tr>\n",
       "      <th>31</th>\n",
       "      <td>0.727</td>\n",
       "      <td>0.444</td>\n",
       "      <td>0.818</td>\n",
       "      <td>0.500</td>\n",
       "      <td>0.636</td>\n",
       "      <td>0.389</td>\n",
       "    </tr>\n",
       "    <tr>\n",
       "      <th>32</th>\n",
       "      <td>0.700</td>\n",
       "      <td>0.389</td>\n",
       "      <td>0.800</td>\n",
       "      <td>0.444</td>\n",
       "      <td>0.700</td>\n",
       "      <td>0.389</td>\n",
       "    </tr>\n",
       "    <tr>\n",
       "      <th>33</th>\n",
       "      <td>0.778</td>\n",
       "      <td>0.389</td>\n",
       "      <td>0.889</td>\n",
       "      <td>0.444</td>\n",
       "      <td>0.667</td>\n",
       "      <td>0.333</td>\n",
       "    </tr>\n",
       "    <tr>\n",
       "      <th>34</th>\n",
       "      <td>0.750</td>\n",
       "      <td>0.333</td>\n",
       "      <td>0.875</td>\n",
       "      <td>0.389</td>\n",
       "      <td>0.750</td>\n",
       "      <td>0.333</td>\n",
       "    </tr>\n",
       "    <tr>\n",
       "      <th>35</th>\n",
       "      <td>0.714</td>\n",
       "      <td>0.278</td>\n",
       "      <td>0.857</td>\n",
       "      <td>0.333</td>\n",
       "      <td>0.714</td>\n",
       "      <td>0.278</td>\n",
       "    </tr>\n",
       "    <tr>\n",
       "      <th>36</th>\n",
       "      <td>0.667</td>\n",
       "      <td>0.222</td>\n",
       "      <td>0.833</td>\n",
       "      <td>0.278</td>\n",
       "      <td>0.667</td>\n",
       "      <td>0.222</td>\n",
       "    </tr>\n",
       "    <tr>\n",
       "      <th>37</th>\n",
       "      <td>0.600</td>\n",
       "      <td>0.167</td>\n",
       "      <td>1.000</td>\n",
       "      <td>0.278</td>\n",
       "      <td>0.600</td>\n",
       "      <td>0.167</td>\n",
       "    </tr>\n",
       "    <tr>\n",
       "      <th>38</th>\n",
       "      <td>0.750</td>\n",
       "      <td>0.167</td>\n",
       "      <td>1.000</td>\n",
       "      <td>0.222</td>\n",
       "      <td>0.500</td>\n",
       "      <td>0.111</td>\n",
       "    </tr>\n",
       "    <tr>\n",
       "      <th>39</th>\n",
       "      <td>0.667</td>\n",
       "      <td>0.111</td>\n",
       "      <td>1.000</td>\n",
       "      <td>0.167</td>\n",
       "      <td>0.667</td>\n",
       "      <td>0.111</td>\n",
       "    </tr>\n",
       "    <tr>\n",
       "      <th>40</th>\n",
       "      <td>0.500</td>\n",
       "      <td>0.056</td>\n",
       "      <td>1.000</td>\n",
       "      <td>0.111</td>\n",
       "      <td>0.500</td>\n",
       "      <td>0.056</td>\n",
       "    </tr>\n",
       "    <tr>\n",
       "      <th>41</th>\n",
       "      <td>0.000</td>\n",
       "      <td>0.000</td>\n",
       "      <td>1.000</td>\n",
       "      <td>0.056</td>\n",
       "      <td>0.000</td>\n",
       "      <td>0.000</td>\n",
       "    </tr>\n",
       "    <tr>\n",
       "      <th>42</th>\n",
       "      <td>1.000</td>\n",
       "      <td>0.000</td>\n",
       "      <td>1.000</td>\n",
       "      <td>0.000</td>\n",
       "      <td>1.000</td>\n",
       "      <td>0.000</td>\n",
       "    </tr>\n",
       "  </tbody>\n",
       "</table>\n",
       "</div>"
      ],
      "text/plain": [
       "   ALD study all         VAE all         VAE new      \n",
       "       precision   tpr precision   tpr precision   tpr\n",
       "0          0.429 1.000     0.429 1.000     0.429 1.000\n",
       "1          0.439 1.000     0.439 1.000     0.439 1.000\n",
       "2          0.450 1.000     0.450 1.000     0.450 1.000\n",
       "3          0.462 1.000     0.462 1.000     0.462 1.000\n",
       "4          0.474 1.000     0.474 1.000     0.474 1.000\n",
       "5          0.486 1.000     0.486 1.000     0.459 0.944\n",
       "6          0.500 1.000     0.500 1.000     0.472 0.944\n",
       "7          0.514 1.000     0.514 1.000     0.486 0.944\n",
       "8          0.529 1.000     0.529 1.000     0.500 0.944\n",
       "9          0.515 0.944     0.545 1.000     0.485 0.889\n",
       "10         0.531 0.944     0.562 1.000     0.469 0.833\n",
       "11         0.548 0.944     0.581 1.000     0.484 0.833\n",
       "12         0.567 0.944     0.567 0.944     0.467 0.778\n",
       "13         0.586 0.944     0.552 0.889     0.483 0.778\n",
       "14         0.607 0.944     0.571 0.889     0.500 0.778\n",
       "15         0.593 0.889     0.593 0.889     0.481 0.722\n",
       "16         0.577 0.833     0.615 0.889     0.500 0.722\n",
       "17         0.600 0.833     0.640 0.889     0.520 0.722\n",
       "18         0.625 0.833     0.667 0.889     0.500 0.667\n",
       "19         0.652 0.833     0.652 0.833     0.522 0.667\n",
       "20         0.636 0.778     0.682 0.833     0.545 0.667\n",
       "21         0.667 0.778     0.667 0.778     0.571 0.667\n",
       "22         0.650 0.722     0.700 0.778     0.600 0.667\n",
       "23         0.632 0.667     0.684 0.722     0.632 0.667\n",
       "24         0.667 0.667     0.722 0.722     0.611 0.611\n",
       "25         0.706 0.667     0.706 0.667     0.588 0.556\n",
       "26         0.750 0.667     0.750 0.667     0.625 0.556\n",
       "27         0.800 0.667     0.800 0.667     0.667 0.556\n",
       "28         0.786 0.611     0.786 0.611     0.643 0.500\n",
       "29         0.769 0.556     0.846 0.611     0.615 0.444\n",
       "30         0.750 0.500     0.833 0.556     0.583 0.389\n",
       "31         0.727 0.444     0.818 0.500     0.636 0.389\n",
       "32         0.700 0.389     0.800 0.444     0.700 0.389\n",
       "33         0.778 0.389     0.889 0.444     0.667 0.333\n",
       "34         0.750 0.333     0.875 0.389     0.750 0.333\n",
       "35         0.714 0.278     0.857 0.333     0.714 0.278\n",
       "36         0.667 0.222     0.833 0.278     0.667 0.222\n",
       "37         0.600 0.167     1.000 0.278     0.600 0.167\n",
       "38         0.750 0.167     1.000 0.222     0.500 0.111\n",
       "39         0.667 0.111     1.000 0.167     0.667 0.111\n",
       "40         0.500 0.056     1.000 0.111     0.500 0.056\n",
       "41         0.000 0.000     1.000 0.056     0.000 0.000\n",
       "42         1.000 0.000     1.000 0.000     1.000 0.000"
      ]
     },
     "execution_count": 25,
     "metadata": {},
     "output_type": "execute_result"
    }
   ],
   "source": [
    "prec_recall_curve = parse_prc(*res)\n",
    "prec_recall_curve.to_excel(fname.with_suffix('.xlsx'))\n",
    "prec_recall_curve"
   ]
  },
  {
   "cell_type": "markdown",
   "id": "0ddf0913",
   "metadata": {
    "papermill": {
     "duration": 0.053809,
     "end_time": "2024-06-19T02:52:48.443113",
     "exception": false,
     "start_time": "2024-06-19T02:52:48.389304",
     "status": "completed"
    },
    "tags": []
   },
   "source": [
    "## Train data plots"
   ]
  },
  {
   "cell_type": "code",
   "execution_count": 26,
   "id": "6eb3ed77",
   "metadata": {
    "execution": {
     "iopub.execute_input": "2024-06-19T02:52:48.593535Z",
     "iopub.status.busy": "2024-06-19T02:52:48.593172Z",
     "iopub.status.idle": "2024-06-19T02:52:50.123481Z",
     "shell.execute_reply": "2024-06-19T02:52:50.122628Z"
    },
    "papermill": {
     "duration": 1.607953,
     "end_time": "2024-06-19T02:52:50.125179",
     "exception": false,
     "start_time": "2024-06-19T02:52:48.517226",
     "status": "completed"
    },
    "tags": [
     "hide-input"
    ]
   },
   "outputs": [
    {
     "name": "stderr",
     "output_type": "stream",
     "text": [
      "vaep.plotting - INFO     Saved Figures to runs/alzheimer_study/diff_analysis/AD/PI_vs_VAE/prec_recall_curve_train.pdf\n"
     ]
    },
    {
     "data": {
      "image/png": "[encoded data removed]",
      "text/plain": [
       "<Figure size 367.5x367.5 with 1 Axes>"
      ]
     },
     "metadata": {},
     "output_type": "display_data"
    }
   ],
   "source": [
    "fig, ax = plt.subplots(1, 1, figsize=figsize)\n",
    "\n",
    "ax = plot_split_prc(results_ald_full.train, results_ald_full.name, ax)\n",
    "ax = plot_split_prc(results_model_full.train, results_model_full.name, ax)\n",
    "ax = plot_split_prc(results_model_new.train, results_model_new.name, ax)\n",
    "fname = folder = args.out_folder / 'prec_recall_curve_train.pdf'\n",
    "files_out[fname.name] = fname\n",
    "vaep.savefig(fig, name=fname)"
   ]
  },
  {
   "cell_type": "code",
   "execution_count": 27,
   "id": "64fee389",
   "metadata": {
    "execution": {
     "iopub.execute_input": "2024-06-19T02:52:50.241484Z",
     "iopub.status.busy": "2024-06-19T02:52:50.240927Z",
     "iopub.status.idle": "2024-06-19T02:52:51.140173Z",
     "shell.execute_reply": "2024-06-19T02:52:51.139528Z"
    },
    "papermill": {
     "duration": 0.952424,
     "end_time": "2024-06-19T02:52:51.141869",
     "exception": false,
     "start_time": "2024-06-19T02:52:50.189445",
     "status": "completed"
    },
    "tags": [
     "hide-input"
    ]
   },
   "outputs": [
    {
     "name": "stderr",
     "output_type": "stream",
     "text": [
      "vaep.plotting - INFO     Saved Figures to runs/alzheimer_study/diff_analysis/AD/PI_vs_VAE/auc_roc_curve_train.pdf\n"
     ]
    },
    {
     "data": {
      "image/png": "[encoded data removed]",
      "text/plain": [
       "<Figure size 367.5x367.5 with 1 Axes>"
      ]
     },
     "metadata": {},
     "output_type": "display_data"
    }
   ],
   "source": [
    "fig, ax = plt.subplots(1, 1, figsize=figsize)\n",
    "plot_split_auc(results_ald_full.train, results_ald_full.name, ax)\n",
    "plot_split_auc(results_model_full.train, results_model_full.name, ax)\n",
    "plot_split_auc(results_model_new.train, results_model_new.name, ax)\n",
    "fname = folder = args.out_folder / 'auc_roc_curve_train.pdf'\n",
    "files_out[fname.name] = fname\n",
    "vaep.savefig(fig, name=fname)"
   ]
  },
  {
   "cell_type": "markdown",
   "id": "545b7a34",
   "metadata": {
    "papermill": {
     "duration": 0.05502,
     "end_time": "2024-06-19T02:52:51.252748",
     "exception": false,
     "start_time": "2024-06-19T02:52:51.197728",
     "status": "completed"
    },
    "tags": []
   },
   "source": [
    "Output files:"
   ]
  },
  {
   "cell_type": "code",
   "execution_count": 28,
   "id": "860e0d5e",
   "metadata": {
    "execution": {
     "iopub.execute_input": "2024-06-19T02:52:51.361540Z",
     "iopub.status.busy": "2024-06-19T02:52:51.361177Z",
     "iopub.status.idle": "2024-06-19T02:52:51.366966Z",
     "shell.execute_reply": "2024-06-19T02:52:51.366208Z"
    },
    "papermill": {
     "duration": 0.064685,
     "end_time": "2024-06-19T02:52:51.371344",
     "exception": false,
     "start_time": "2024-06-19T02:52:51.306659",
     "status": "completed"
    },
    "tags": [
     "hide-input"
    ]
   },
   "outputs": [
    {
     "data": {
      "text/plain": [
       "{'results_VAE all.pkl': PosixPath('runs/alzheimer_study/diff_analysis/AD/PI_vs_VAE/results_VAE all.pkl'),\n",
       " 'results_VAE new.pkl': PosixPath('runs/alzheimer_study/diff_analysis/AD/PI_vs_VAE/results_VAE new.pkl'),\n",
       " 'results_ALD study all.pkl': PosixPath('runs/alzheimer_study/diff_analysis/AD/PI_vs_VAE/results_ALD study all.pkl'),\n",
       " 'auc_roc_curve.pdf': PosixPath('runs/alzheimer_study/diff_analysis/AD/PI_vs_VAE/auc_roc_curve.pdf'),\n",
       " 'mrmr_feat_by_model.xlsx': PosixPath('runs/alzheimer_study/diff_analysis/AD/PI_vs_VAE/mrmr_feat_by_model.xlsx'),\n",
       " 'prec_recall_curve.pdf': PosixPath('runs/alzheimer_study/diff_analysis/AD/PI_vs_VAE/prec_recall_curve.pdf'),\n",
       " 'prec_recall_curve_train.pdf': PosixPath('runs/alzheimer_study/diff_analysis/AD/PI_vs_VAE/prec_recall_curve_train.pdf'),\n",
       " 'auc_roc_curve_train.pdf': PosixPath('runs/alzheimer_study/diff_analysis/AD/PI_vs_VAE/auc_roc_curve_train.pdf')}"
      ]
     },
     "execution_count": 28,
     "metadata": {},
     "output_type": "execute_result"
    }
   ],
   "source": [
    "files_out"
   ]
  }
 ],
 "metadata": {
  "kernelspec": {
   "display_name": "Python 3",
   "language": "python",
   "name": "python3"
  },
  "language_info": {
   "codemirror_mode": {
    "name": "ipython",
    "version": 3
   },
   "file_extension": ".py",
   "mimetype": "text/x-python",
   "name": "python",
   "nbconvert_exporter": "python",
   "pygments_lexer": "ipython3",
   "version": "3.8.19"
  },
  "papermill": {
   "default_parameters": {},
   "duration": 403.478035,
   "end_time": "2024-06-19T02:52:54.072777",
   "environment_variables": {},
   "exception": null,
   "input_path": "10_3_ald_ml_new_feat.ipynb",
   "output_path": "runs/alzheimer_study/diff_analysis/AD/PI_vs_VAE/10_3_ald_ml_new_feat.ipynb",
   "parameters": {
    "baseline": "PI",
    "cutoff_target": 0.5,
    "fn_clinical_data": "runs/alzheimer_study/data/clinical_data.csv",
    "folder_experiment": "runs/alzheimer_study",
    "model_key": "VAE",
    "out_folder": "diff_analysis",
    "target": "AD"
   },
   "start_time": "2024-06-19T02:46:10.594742",
   "version": "2.6.0"
  }
 },
 "nbformat": 4,
 "nbformat_minor": 5
}