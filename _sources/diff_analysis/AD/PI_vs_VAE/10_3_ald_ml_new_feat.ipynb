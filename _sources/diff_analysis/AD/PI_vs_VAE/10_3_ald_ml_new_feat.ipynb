{
 "cells": [
  {
   "cell_type": "markdown",
   "id": "d5f8edbd",
   "metadata": {
    "lines_to_next_cell": 2,
    "papermill": {
     "duration": 0.010845,
     "end_time": "2024-05-30T11:06:24.118887",
     "exception": false,
     "start_time": "2024-05-30T11:06:24.108042",
     "status": "completed"
    },
    "tags": []
   },
   "source": [
    "# Fit logistic regression model\n",
    "\n",
    "- based on different imputation methods\n",
    "- baseline: reference\n",
    "- model: any other selected imputation method"
   ]
  },
  {
   "cell_type": "code",
   "execution_count": 1,
   "id": "8d8c6764",
   "metadata": {
    "execution": {
     "iopub.execute_input": "2024-05-30T11:06:24.201890Z",
     "iopub.status.busy": "2024-05-30T11:06:24.201571Z",
     "iopub.status.idle": "2024-05-30T11:06:27.319756Z",
     "shell.execute_reply": "2024-05-30T11:06:27.318984Z"
    },
    "papermill": {
     "duration": 3.153414,
     "end_time": "2024-05-30T11:06:27.321780",
     "exception": false,
     "start_time": "2024-05-30T11:06:24.168366",
     "status": "completed"
    },
    "tags": [
     "hide-input"
    ]
   },
   "outputs": [],
   "source": [
    "import logging\n",
    "from pathlib import Path\n",
    "from typing import List\n",
    "\n",
    "import matplotlib.pyplot as plt\n",
    "import njab.sklearn\n",
    "import pandas as pd\n",
    "import sklearn\n",
    "from njab.plotting.metrics import plot_split_auc, plot_split_prc\n",
    "from njab.sklearn.types import Splits\n",
    "\n",
    "import vaep\n",
    "import vaep.analyzers\n",
    "import vaep.io.datasplits\n",
    "\n",
    "plt.rcParams['figure.figsize'] = (2.5, 2.5)\n",
    "plt.rcParams['lines.linewidth'] = 1\n",
    "plt.rcParams['lines.markersize'] = 2\n",
    "fontsize = 5\n",
    "figsize = (2.5, 2.5)\n",
    "vaep.plotting.make_large_descriptors(fontsize)\n",
    "\n",
    "\n",
    "logger = vaep.logging.setup_nb_logger()\n",
    "logging.getLogger('fontTools').setLevel(logging.ERROR)\n",
    "\n",
    "\n",
    "def parse_roc(*res: List[njab.sklearn.types.Results]) -> pd.DataFrame:\n",
    "    ret = list()\n",
    "    for _r in res:\n",
    "        _roc = (pd.DataFrame(_r.test.roc,\n",
    "                             index='fpr tpr cutoffs'.split()\n",
    "                             )).loc[['fpr', 'tpr']]\n",
    "        _roc = _roc.T\n",
    "        _roc.columns = pd.MultiIndex.from_product([[_r.name], _roc.columns])\n",
    "        ret.append(_roc)\n",
    "    ret = pd.concat(ret, axis=1)\n",
    "    return ret\n",
    "\n",
    "\n",
    "def parse_prc(*res: List[njab.sklearn.types.Results]) -> pd.DataFrame:\n",
    "    ret = list()\n",
    "    for _r in res:\n",
    "        _prc = pd.DataFrame(_r.test.prc,\n",
    "                            index='precision recall cutoffs'.split()\n",
    "                            ).loc[['precision', 'recall']]\n",
    "        _prc = _prc.T.rename(columns={'recall': 'tpr'})\n",
    "        _prc.columns = pd.MultiIndex.from_product([[_r.name], _prc.columns])\n",
    "        ret.append(_prc)\n",
    "    ret = pd.concat(ret, axis=1)\n",
    "    return ret\n",
    "\n",
    "\n",
    "# catch passed parameters\n",
    "args = None\n",
    "args = dict(globals()).keys()"
   ]
  },
  {
   "cell_type": "markdown",
   "id": "e1e67f6d",
   "metadata": {
    "papermill": {
     "duration": 0.009237,
     "end_time": "2024-05-30T11:06:27.341478",
     "exception": false,
     "start_time": "2024-05-30T11:06:27.332241",
     "status": "completed"
    },
    "tags": []
   },
   "source": [
    "## Parameters\n",
    "Default and set parameters for the notebook."
   ]
  },
  {
   "cell_type": "code",
   "execution_count": 2,
   "id": "443cd83d",
   "metadata": {
    "execution": {
     "iopub.execute_input": "2024-05-30T11:06:27.360940Z",
     "iopub.status.busy": "2024-05-30T11:06:27.360231Z",
     "iopub.status.idle": "2024-05-30T11:06:27.365349Z",
     "shell.execute_reply": "2024-05-30T11:06:27.364691Z"
    },
    "lines_to_next_cell": 2,
    "papermill": {
     "duration": 0.017439,
     "end_time": "2024-05-30T11:06:27.367940",
     "exception": false,
     "start_time": "2024-05-30T11:06:27.350501",
     "status": "completed"
    },
    "tags": [
     "parameters"
    ]
   },
   "outputs": [],
   "source": [
    "folder_data: str = ''  # specify data directory if needed\n",
    "fn_clinical_data = \"data/ALD_study/processed/ald_metadata_cli.csv\"\n",
    "folder_experiment = \"runs/appl_ald_data/plasma/proteinGroups\"\n",
    "model_key = 'VAE'\n",
    "target = 'kleiner'\n",
    "sample_id_col = 'Sample ID'\n",
    "cutoff_target: int = 2  # => for binarization target >= cutoff_target\n",
    "file_format = \"csv\"\n",
    "out_folder = 'diff_analysis'\n",
    "fn_qc_samples = ''  # 'data/ALD_study/processed/qc_plasma_proteinGroups.pkl'\n",
    "\n",
    "baseline = 'RSN'  # default is RSN, as this was used in the original ALD Niu. et. al 2022\n",
    "template_pred = 'pred_real_na_{}.csv'  # fixed, do not change"
   ]
  },
  {
   "cell_type": "code",
   "execution_count": 3,
   "id": "a26f9480",
   "metadata": {
    "execution": {
     "iopub.execute_input": "2024-05-30T11:06:27.388392Z",
     "iopub.status.busy": "2024-05-30T11:06:27.387716Z",
     "iopub.status.idle": "2024-05-30T11:06:27.391615Z",
     "shell.execute_reply": "2024-05-30T11:06:27.391011Z"
    },
    "papermill": {
     "duration": 0.016409,
     "end_time": "2024-05-30T11:06:27.394181",
     "exception": false,
     "start_time": "2024-05-30T11:06:27.377772",
     "status": "completed"
    },
    "tags": [
     "injected-parameters"
    ]
   },
   "outputs": [],
   "source": [
    "# Parameters\n",
    "cutoff_target = 0.5\n",
    "folder_experiment = \"runs/alzheimer_study\"\n",
    "target = \"AD\"\n",
    "baseline = \"PI\"\n",
    "model_key = \"VAE\"\n",
    "out_folder = \"diff_analysis\"\n",
    "fn_clinical_data = \"runs/alzheimer_study/data/clinical_data.csv\"\n"
   ]
  },
  {
   "cell_type": "code",
   "execution_count": 4,
   "id": "13538b85",
   "metadata": {
    "execution": {
     "iopub.execute_input": "2024-05-30T11:06:27.414678Z",
     "iopub.status.busy": "2024-05-30T11:06:27.414333Z",
     "iopub.status.idle": "2024-05-30T11:06:27.469250Z",
     "shell.execute_reply": "2024-05-30T11:06:27.468578Z"
    },
    "papermill": {
     "duration": 0.067791,
     "end_time": "2024-05-30T11:06:27.470981",
     "exception": false,
     "start_time": "2024-05-30T11:06:27.403190",
     "status": "completed"
    },
    "tags": [
     "hide-input"
    ]
   },
   "outputs": [
    {
     "name": "stderr",
     "output_type": "stream",
     "text": [
      "root - INFO     Removed from global namespace: folder_data\n"
     ]
    },
    {
     "name": "stderr",
     "output_type": "stream",
     "text": [
      "root - INFO     Removed from global namespace: fn_clinical_data\n"
     ]
    },
    {
     "name": "stderr",
     "output_type": "stream",
     "text": [
      "root - INFO     Removed from global namespace: folder_experiment\n"
     ]
    },
    {
     "name": "stderr",
     "output_type": "stream",
     "text": [
      "root - INFO     Removed from global namespace: model_key\n"
     ]
    },
    {
     "name": "stderr",
     "output_type": "stream",
     "text": [
      "root - INFO     Removed from global namespace: target\n"
     ]
    },
    {
     "name": "stderr",
     "output_type": "stream",
     "text": [
      "root - INFO     Removed from global namespace: sample_id_col\n"
     ]
    },
    {
     "name": "stderr",
     "output_type": "stream",
     "text": [
      "root - INFO     Removed from global namespace: cutoff_target\n"
     ]
    },
    {
     "name": "stderr",
     "output_type": "stream",
     "text": [
      "root - INFO     Removed from global namespace: file_format\n"
     ]
    },
    {
     "name": "stderr",
     "output_type": "stream",
     "text": [
      "root - INFO     Removed from global namespace: out_folder\n"
     ]
    },
    {
     "name": "stderr",
     "output_type": "stream",
     "text": [
      "root - INFO     Removed from global namespace: fn_qc_samples\n"
     ]
    },
    {
     "name": "stderr",
     "output_type": "stream",
     "text": [
      "root - INFO     Removed from global namespace: baseline\n"
     ]
    },
    {
     "name": "stderr",
     "output_type": "stream",
     "text": [
      "root - INFO     Removed from global namespace: template_pred\n"
     ]
    },
    {
     "name": "stderr",
     "output_type": "stream",
     "text": [
      "root - INFO     Already set attribute: folder_experiment has value runs/alzheimer_study\n"
     ]
    },
    {
     "name": "stderr",
     "output_type": "stream",
     "text": [
      "root - INFO     Already set attribute: out_folder has value diff_analysis\n"
     ]
    },
    {
     "data": {
      "text/plain": [
       "{'baseline': 'PI',\n",
       " 'cutoff_target': 0.5,\n",
       " 'data': PosixPath('runs/alzheimer_study/data'),\n",
       " 'file_format': 'csv',\n",
       " 'fn_clinical_data': 'runs/alzheimer_study/data/clinical_data.csv',\n",
       " 'fn_qc_samples': '',\n",
       " 'folder_data': '',\n",
       " 'folder_experiment': PosixPath('runs/alzheimer_study'),\n",
       " 'model_key': 'VAE',\n",
       " 'out_figures': PosixPath('runs/alzheimer_study/figures'),\n",
       " 'out_folder': PosixPath('runs/alzheimer_study/diff_analysis/AD/PI_vs_VAE'),\n",
       " 'out_metrics': PosixPath('runs/alzheimer_study'),\n",
       " 'out_models': PosixPath('runs/alzheimer_study'),\n",
       " 'out_preds': PosixPath('runs/alzheimer_study/preds'),\n",
       " 'sample_id_col': 'Sample ID',\n",
       " 'target': 'AD',\n",
       " 'template_pred': 'pred_real_na_{}.csv'}"
      ]
     },
     "execution_count": 4,
     "metadata": {},
     "output_type": "execute_result"
    }
   ],
   "source": [
    "params = vaep.nb.get_params(args, globals=globals())\n",
    "args = vaep.nb.Config()\n",
    "args.folder_experiment = Path(params[\"folder_experiment\"])\n",
    "args = vaep.nb.add_default_paths(args,\n",
    "                                 out_root=(args.folder_experiment\n",
    "                                           / params[\"out_folder\"]\n",
    "                                           / params[\"target\"]\n",
    "                                           / f\"{params['baseline']}_vs_{params['model_key']}\"))\n",
    "args.update_from_dict(params)\n",
    "files_out = dict()\n",
    "args"
   ]
  },
  {
   "cell_type": "markdown",
   "id": "1ca8264e",
   "metadata": {
    "papermill": {
     "duration": 0.022052,
     "end_time": "2024-05-30T11:06:27.523795",
     "exception": false,
     "start_time": "2024-05-30T11:06:27.501743",
     "status": "completed"
    },
    "tags": []
   },
   "source": [
    "## Load data\n",
    "\n",
    "### Load target"
   ]
  },
  {
   "cell_type": "code",
   "execution_count": 5,
   "id": "09ba8ea3",
   "metadata": {
    "execution": {
     "iopub.execute_input": "2024-05-30T11:06:27.558430Z",
     "iopub.status.busy": "2024-05-30T11:06:27.558094Z",
     "iopub.status.idle": "2024-05-30T11:06:27.585103Z",
     "shell.execute_reply": "2024-05-30T11:06:27.584342Z"
    },
    "papermill": {
     "duration": 0.041301,
     "end_time": "2024-05-30T11:06:27.587059",
     "exception": false,
     "start_time": "2024-05-30T11:06:27.545758",
     "status": "completed"
    },
    "tags": []
   },
   "outputs": [
    {
     "data": {
      "text/html": [
       "<div>\n",
       "<style scoped>\n",
       "    .dataframe tbody tr th:only-of-type {\n",
       "        vertical-align: middle;\n",
       "    }\n",
       "\n",
       "    .dataframe tbody tr th {\n",
       "        vertical-align: top;\n",
       "    }\n",
       "\n",
       "    .dataframe thead th {\n",
       "        text-align: right;\n",
       "    }\n",
       "</style>\n",
       "<table border=\"1\" class=\"dataframe\">\n",
       "  <thead>\n",
       "    <tr style=\"text-align: right;\">\n",
       "      <th></th>\n",
       "      <th>AD</th>\n",
       "    </tr>\n",
       "    <tr>\n",
       "      <th>Sample ID</th>\n",
       "      <th></th>\n",
       "    </tr>\n",
       "  </thead>\n",
       "  <tbody>\n",
       "    <tr>\n",
       "      <th>Sample_000</th>\n",
       "      <td>0</td>\n",
       "    </tr>\n",
       "    <tr>\n",
       "      <th>Sample_001</th>\n",
       "      <td>1</td>\n",
       "    </tr>\n",
       "    <tr>\n",
       "      <th>Sample_002</th>\n",
       "      <td>1</td>\n",
       "    </tr>\n",
       "    <tr>\n",
       "      <th>Sample_003</th>\n",
       "      <td>1</td>\n",
       "    </tr>\n",
       "    <tr>\n",
       "      <th>Sample_004</th>\n",
       "      <td>1</td>\n",
       "    </tr>\n",
       "    <tr>\n",
       "      <th>...</th>\n",
       "      <td>...</td>\n",
       "    </tr>\n",
       "    <tr>\n",
       "      <th>Sample_205</th>\n",
       "      <td>1</td>\n",
       "    </tr>\n",
       "    <tr>\n",
       "      <th>Sample_206</th>\n",
       "      <td>0</td>\n",
       "    </tr>\n",
       "    <tr>\n",
       "      <th>Sample_207</th>\n",
       "      <td>0</td>\n",
       "    </tr>\n",
       "    <tr>\n",
       "      <th>Sample_208</th>\n",
       "      <td>0</td>\n",
       "    </tr>\n",
       "    <tr>\n",
       "      <th>Sample_209</th>\n",
       "      <td>0</td>\n",
       "    </tr>\n",
       "  </tbody>\n",
       "</table>\n",
       "<p>210 rows × 1 columns</p>\n",
       "</div>"
      ],
      "text/plain": [
       "            AD\n",
       "Sample ID     \n",
       "Sample_000   0\n",
       "Sample_001   1\n",
       "Sample_002   1\n",
       "Sample_003   1\n",
       "Sample_004   1\n",
       "...         ..\n",
       "Sample_205   1\n",
       "Sample_206   0\n",
       "Sample_207   0\n",
       "Sample_208   0\n",
       "Sample_209   0\n",
       "\n",
       "[210 rows x 1 columns]"
      ]
     },
     "execution_count": 5,
     "metadata": {},
     "output_type": "execute_result"
    }
   ],
   "source": [
    "target = pd.read_csv(args.fn_clinical_data,\n",
    "                     index_col=0,\n",
    "                     usecols=[args.sample_id_col, args.target])\n",
    "target = target.dropna()\n",
    "target"
   ]
  },
  {
   "cell_type": "markdown",
   "id": "02bbf2a2",
   "metadata": {
    "papermill": {
     "duration": 0.028345,
     "end_time": "2024-05-30T11:06:27.627403",
     "exception": false,
     "start_time": "2024-05-30T11:06:27.599058",
     "status": "completed"
    },
    "tags": []
   },
   "source": [
    "### MS proteomics or specified omics data\n",
    "Aggregated from data splits of the imputation workflow run before."
   ]
  },
  {
   "cell_type": "code",
   "execution_count": 6,
   "id": "f4cd6005",
   "metadata": {
    "execution": {
     "iopub.execute_input": "2024-05-30T11:06:27.649755Z",
     "iopub.status.busy": "2024-05-30T11:06:27.649445Z",
     "iopub.status.idle": "2024-05-30T11:06:28.036218Z",
     "shell.execute_reply": "2024-05-30T11:06:28.035446Z"
    },
    "papermill": {
     "duration": 0.400426,
     "end_time": "2024-05-30T11:06:28.038168",
     "exception": false,
     "start_time": "2024-05-30T11:06:27.637742",
     "status": "completed"
    },
    "tags": [
     "hide-input"
    ]
   },
   "outputs": [
    {
     "name": "stderr",
     "output_type": "stream",
     "text": [
      "vaep.io.datasplits - INFO     Loaded 'train_X' from file: runs/alzheimer_study/data/train_X.csv\n"
     ]
    },
    {
     "name": "stderr",
     "output_type": "stream",
     "text": [
      "vaep.io.datasplits - INFO     Loaded 'val_y' from file: runs/alzheimer_study/data/val_y.csv\n"
     ]
    },
    {
     "name": "stderr",
     "output_type": "stream",
     "text": [
      "vaep.io.datasplits - INFO     Loaded 'test_y' from file: runs/alzheimer_study/data/test_y.csv\n"
     ]
    },
    {
     "data": {
      "text/plain": [
       "Sample ID   protein groups                            \n",
       "Sample_026  P20382                                       13.418\n",
       "Sample_092  A0A0C4DH73;P01611                            18.445\n",
       "Sample_051  O95445                                       19.961\n",
       "Sample_062  A0A0A0MTH0;Q8N0W4;Q8N0W4-2;Q8NFZ3;Q8NFZ3-2   16.513\n",
       "Sample_205  K4DIA0;O75144;O75144-2                       19.686\n",
       "Name: intensity, dtype: float64"
      ]
     },
     "execution_count": 6,
     "metadata": {},
     "output_type": "execute_result"
    }
   ],
   "source": [
    "data = vaep.io.datasplits.DataSplits.from_folder(\n",
    "    args.data, file_format=args.file_format)\n",
    "data = pd.concat([data.train_X, data.val_y, data.test_y])\n",
    "data.sample(5)"
   ]
  },
  {
   "cell_type": "markdown",
   "id": "ac6b446e",
   "metadata": {
    "papermill": {
     "duration": 0.012256,
     "end_time": "2024-05-30T11:06:28.062687",
     "exception": false,
     "start_time": "2024-05-30T11:06:28.050431",
     "status": "completed"
    },
    "tags": []
   },
   "source": [
    "Get overlap between independent features and target"
   ]
  },
  {
   "cell_type": "markdown",
   "id": "c79ad218",
   "metadata": {
    "papermill": {
     "duration": 0.013006,
     "end_time": "2024-05-30T11:06:28.087567",
     "exception": false,
     "start_time": "2024-05-30T11:06:28.074561",
     "status": "completed"
    },
    "tags": []
   },
   "source": [
    "### Select by ALD criteria\n",
    "Use parameters as specified in [ALD study](https://github.com/RasmussenLab/pimms/tree/main/project/data/ALD_study)."
   ]
  },
  {
   "cell_type": "code",
   "execution_count": 7,
   "id": "3038462c",
   "metadata": {
    "execution": {
     "iopub.execute_input": "2024-05-30T11:06:28.150916Z",
     "iopub.status.busy": "2024-05-30T11:06:28.150528Z",
     "iopub.status.idle": "2024-05-30T11:06:28.300915Z",
     "shell.execute_reply": "2024-05-30T11:06:28.300336Z"
    },
    "papermill": {
     "duration": 0.1735,
     "end_time": "2024-05-30T11:06:28.302588",
     "exception": false,
     "start_time": "2024-05-30T11:06:28.129088",
     "status": "completed"
    },
    "tags": [
     "hide-input"
    ]
   },
   "outputs": [
    {
     "name": "stderr",
     "output_type": "stream",
     "text": [
      "root - INFO     Initally: N samples: 210, M feat: 1421\n"
     ]
    },
    {
     "name": "stderr",
     "output_type": "stream",
     "text": [
      "root - INFO     Dropped features quantified in less than 126 samples.\n"
     ]
    },
    {
     "name": "stderr",
     "output_type": "stream",
     "text": [
      "root - INFO     After feat selection: N samples: 210, M feat: 1213\n"
     ]
    },
    {
     "name": "stderr",
     "output_type": "stream",
     "text": [
      "root - INFO     Min No. of Protein-Groups in single sample: 754\n"
     ]
    },
    {
     "name": "stderr",
     "output_type": "stream",
     "text": [
      "root - INFO     Finally: N samples: 210, M feat: 1213\n"
     ]
    },
    {
     "data": {
      "text/html": [
       "<div>\n",
       "<style scoped>\n",
       "    .dataframe tbody tr th:only-of-type {\n",
       "        vertical-align: middle;\n",
       "    }\n",
       "\n",
       "    .dataframe tbody tr th {\n",
       "        vertical-align: top;\n",
       "    }\n",
       "\n",
       "    .dataframe thead th {\n",
       "        text-align: right;\n",
       "    }\n",
       "</style>\n",
       "<table border=\"1\" class=\"dataframe\">\n",
       "  <thead>\n",
       "    <tr style=\"text-align: right;\">\n",
       "      <th>protein groups</th>\n",
       "      <th>A0A024QZX5;A0A087X1N8;P35237</th>\n",
       "      <th>A0A024R0T9;K7ER74;P02655</th>\n",
       "      <th>A0A024R3W6;A0A024R412;O60462;O60462-2;O60462-3;O60462-4;O60462-5;Q7LBX6;X5D2Q8</th>\n",
       "      <th>A0A024R644;A0A0A0MRU5;A0A1B0GWI2;O75503</th>\n",
       "      <th>A0A075B6H9</th>\n",
       "      <th>A0A075B6I0</th>\n",
       "      <th>A0A075B6I1</th>\n",
       "      <th>A0A075B6I6</th>\n",
       "      <th>A0A075B6I9</th>\n",
       "      <th>A0A075B6J9</th>\n",
       "      <th>...</th>\n",
       "      <th>Q9Y653;Q9Y653-2;Q9Y653-3</th>\n",
       "      <th>Q9Y696</th>\n",
       "      <th>Q9Y6C2</th>\n",
       "      <th>Q9Y6N6</th>\n",
       "      <th>Q9Y6N7;Q9Y6N7-2;Q9Y6N7-4</th>\n",
       "      <th>Q9Y6R7</th>\n",
       "      <th>Q9Y6X5</th>\n",
       "      <th>Q9Y6Y8;Q9Y6Y8-2</th>\n",
       "      <th>Q9Y6Y9</th>\n",
       "      <th>S4R3U6</th>\n",
       "    </tr>\n",
       "    <tr>\n",
       "      <th>Sample ID</th>\n",
       "      <th></th>\n",
       "      <th></th>\n",
       "      <th></th>\n",
       "      <th></th>\n",
       "      <th></th>\n",
       "      <th></th>\n",
       "      <th></th>\n",
       "      <th></th>\n",
       "      <th></th>\n",
       "      <th></th>\n",
       "      <th></th>\n",
       "      <th></th>\n",
       "      <th></th>\n",
       "      <th></th>\n",
       "      <th></th>\n",
       "      <th></th>\n",
       "      <th></th>\n",
       "      <th></th>\n",
       "      <th></th>\n",
       "      <th></th>\n",
       "      <th></th>\n",
       "    </tr>\n",
       "  </thead>\n",
       "  <tbody>\n",
       "    <tr>\n",
       "      <th>Sample_000</th>\n",
       "      <td>15.912</td>\n",
       "      <td>16.852</td>\n",
       "      <td>15.570</td>\n",
       "      <td>16.481</td>\n",
       "      <td>20.246</td>\n",
       "      <td>16.764</td>\n",
       "      <td>17.584</td>\n",
       "      <td>16.988</td>\n",
       "      <td>20.054</td>\n",
       "      <td>NaN</td>\n",
       "      <td>...</td>\n",
       "      <td>16.012</td>\n",
       "      <td>15.178</td>\n",
       "      <td>NaN</td>\n",
       "      <td>15.050</td>\n",
       "      <td>16.842</td>\n",
       "      <td>19.863</td>\n",
       "      <td>NaN</td>\n",
       "      <td>19.563</td>\n",
       "      <td>12.837</td>\n",
       "      <td>12.805</td>\n",
       "    </tr>\n",
       "    <tr>\n",
       "      <th>Sample_001</th>\n",
       "      <td>15.936</td>\n",
       "      <td>16.874</td>\n",
       "      <td>15.519</td>\n",
       "      <td>16.387</td>\n",
       "      <td>19.941</td>\n",
       "      <td>18.786</td>\n",
       "      <td>17.144</td>\n",
       "      <td>NaN</td>\n",
       "      <td>19.067</td>\n",
       "      <td>16.188</td>\n",
       "      <td>...</td>\n",
       "      <td>15.528</td>\n",
       "      <td>15.576</td>\n",
       "      <td>NaN</td>\n",
       "      <td>14.833</td>\n",
       "      <td>16.597</td>\n",
       "      <td>20.299</td>\n",
       "      <td>15.556</td>\n",
       "      <td>19.386</td>\n",
       "      <td>13.970</td>\n",
       "      <td>12.442</td>\n",
       "    </tr>\n",
       "    <tr>\n",
       "      <th>Sample_002</th>\n",
       "      <td>16.111</td>\n",
       "      <td>14.523</td>\n",
       "      <td>15.935</td>\n",
       "      <td>16.416</td>\n",
       "      <td>19.251</td>\n",
       "      <td>16.832</td>\n",
       "      <td>15.671</td>\n",
       "      <td>17.012</td>\n",
       "      <td>18.569</td>\n",
       "      <td>NaN</td>\n",
       "      <td>...</td>\n",
       "      <td>15.229</td>\n",
       "      <td>14.728</td>\n",
       "      <td>13.757</td>\n",
       "      <td>15.118</td>\n",
       "      <td>17.440</td>\n",
       "      <td>19.598</td>\n",
       "      <td>15.735</td>\n",
       "      <td>20.447</td>\n",
       "      <td>12.636</td>\n",
       "      <td>12.505</td>\n",
       "    </tr>\n",
       "    <tr>\n",
       "      <th>Sample_003</th>\n",
       "      <td>16.107</td>\n",
       "      <td>17.032</td>\n",
       "      <td>15.802</td>\n",
       "      <td>16.979</td>\n",
       "      <td>19.628</td>\n",
       "      <td>17.852</td>\n",
       "      <td>18.877</td>\n",
       "      <td>14.182</td>\n",
       "      <td>18.985</td>\n",
       "      <td>13.438</td>\n",
       "      <td>...</td>\n",
       "      <td>15.495</td>\n",
       "      <td>14.590</td>\n",
       "      <td>14.682</td>\n",
       "      <td>15.140</td>\n",
       "      <td>17.356</td>\n",
       "      <td>19.429</td>\n",
       "      <td>NaN</td>\n",
       "      <td>20.216</td>\n",
       "      <td>12.627</td>\n",
       "      <td>12.445</td>\n",
       "    </tr>\n",
       "    <tr>\n",
       "      <th>Sample_004</th>\n",
       "      <td>15.603</td>\n",
       "      <td>15.331</td>\n",
       "      <td>15.375</td>\n",
       "      <td>16.679</td>\n",
       "      <td>20.450</td>\n",
       "      <td>18.682</td>\n",
       "      <td>17.081</td>\n",
       "      <td>14.140</td>\n",
       "      <td>19.686</td>\n",
       "      <td>14.495</td>\n",
       "      <td>...</td>\n",
       "      <td>14.757</td>\n",
       "      <td>15.094</td>\n",
       "      <td>14.048</td>\n",
       "      <td>15.256</td>\n",
       "      <td>17.075</td>\n",
       "      <td>19.582</td>\n",
       "      <td>15.328</td>\n",
       "      <td>19.867</td>\n",
       "      <td>13.145</td>\n",
       "      <td>12.235</td>\n",
       "    </tr>\n",
       "    <tr>\n",
       "      <th>...</th>\n",
       "      <td>...</td>\n",
       "      <td>...</td>\n",
       "      <td>...</td>\n",
       "      <td>...</td>\n",
       "      <td>...</td>\n",
       "      <td>...</td>\n",
       "      <td>...</td>\n",
       "      <td>...</td>\n",
       "      <td>...</td>\n",
       "      <td>...</td>\n",
       "      <td>...</td>\n",
       "      <td>...</td>\n",
       "      <td>...</td>\n",
       "      <td>...</td>\n",
       "      <td>...</td>\n",
       "      <td>...</td>\n",
       "      <td>...</td>\n",
       "      <td>...</td>\n",
       "      <td>...</td>\n",
       "      <td>...</td>\n",
       "      <td>...</td>\n",
       "    </tr>\n",
       "    <tr>\n",
       "      <th>Sample_205</th>\n",
       "      <td>15.682</td>\n",
       "      <td>16.886</td>\n",
       "      <td>14.910</td>\n",
       "      <td>16.482</td>\n",
       "      <td>17.705</td>\n",
       "      <td>17.039</td>\n",
       "      <td>NaN</td>\n",
       "      <td>16.413</td>\n",
       "      <td>19.102</td>\n",
       "      <td>16.064</td>\n",
       "      <td>...</td>\n",
       "      <td>15.235</td>\n",
       "      <td>15.684</td>\n",
       "      <td>14.236</td>\n",
       "      <td>15.415</td>\n",
       "      <td>17.551</td>\n",
       "      <td>17.922</td>\n",
       "      <td>16.340</td>\n",
       "      <td>19.928</td>\n",
       "      <td>12.929</td>\n",
       "      <td>11.802</td>\n",
       "    </tr>\n",
       "    <tr>\n",
       "      <th>Sample_206</th>\n",
       "      <td>15.798</td>\n",
       "      <td>17.554</td>\n",
       "      <td>15.600</td>\n",
       "      <td>15.938</td>\n",
       "      <td>18.154</td>\n",
       "      <td>18.152</td>\n",
       "      <td>16.503</td>\n",
       "      <td>16.860</td>\n",
       "      <td>18.538</td>\n",
       "      <td>15.288</td>\n",
       "      <td>...</td>\n",
       "      <td>15.422</td>\n",
       "      <td>16.106</td>\n",
       "      <td>NaN</td>\n",
       "      <td>15.345</td>\n",
       "      <td>17.084</td>\n",
       "      <td>18.708</td>\n",
       "      <td>14.249</td>\n",
       "      <td>19.433</td>\n",
       "      <td>NaN</td>\n",
       "      <td>NaN</td>\n",
       "    </tr>\n",
       "    <tr>\n",
       "      <th>Sample_207</th>\n",
       "      <td>15.739</td>\n",
       "      <td>16.877</td>\n",
       "      <td>15.469</td>\n",
       "      <td>16.898</td>\n",
       "      <td>18.636</td>\n",
       "      <td>17.950</td>\n",
       "      <td>16.321</td>\n",
       "      <td>16.401</td>\n",
       "      <td>18.849</td>\n",
       "      <td>17.580</td>\n",
       "      <td>...</td>\n",
       "      <td>15.808</td>\n",
       "      <td>16.098</td>\n",
       "      <td>14.403</td>\n",
       "      <td>15.715</td>\n",
       "      <td>16.586</td>\n",
       "      <td>18.725</td>\n",
       "      <td>16.138</td>\n",
       "      <td>19.599</td>\n",
       "      <td>13.637</td>\n",
       "      <td>11.174</td>\n",
       "    </tr>\n",
       "    <tr>\n",
       "      <th>Sample_208</th>\n",
       "      <td>15.477</td>\n",
       "      <td>16.779</td>\n",
       "      <td>14.995</td>\n",
       "      <td>16.132</td>\n",
       "      <td>14.908</td>\n",
       "      <td>17.530</td>\n",
       "      <td>NaN</td>\n",
       "      <td>16.119</td>\n",
       "      <td>18.368</td>\n",
       "      <td>15.202</td>\n",
       "      <td>...</td>\n",
       "      <td>15.157</td>\n",
       "      <td>16.712</td>\n",
       "      <td>NaN</td>\n",
       "      <td>14.640</td>\n",
       "      <td>16.533</td>\n",
       "      <td>19.411</td>\n",
       "      <td>15.807</td>\n",
       "      <td>19.545</td>\n",
       "      <td>13.216</td>\n",
       "      <td>NaN</td>\n",
       "    </tr>\n",
       "    <tr>\n",
       "      <th>Sample_209</th>\n",
       "      <td>15.727</td>\n",
       "      <td>17.261</td>\n",
       "      <td>15.175</td>\n",
       "      <td>16.235</td>\n",
       "      <td>17.893</td>\n",
       "      <td>17.744</td>\n",
       "      <td>16.371</td>\n",
       "      <td>15.780</td>\n",
       "      <td>18.806</td>\n",
       "      <td>16.532</td>\n",
       "      <td>...</td>\n",
       "      <td>15.237</td>\n",
       "      <td>15.652</td>\n",
       "      <td>15.211</td>\n",
       "      <td>14.205</td>\n",
       "      <td>16.749</td>\n",
       "      <td>19.275</td>\n",
       "      <td>15.732</td>\n",
       "      <td>19.577</td>\n",
       "      <td>11.042</td>\n",
       "      <td>11.791</td>\n",
       "    </tr>\n",
       "  </tbody>\n",
       "</table>\n",
       "<p>210 rows × 1213 columns</p>\n",
       "</div>"
      ],
      "text/plain": [
       "protein groups  A0A024QZX5;A0A087X1N8;P35237  A0A024R0T9;K7ER74;P02655  \\\n",
       "Sample ID                                                                \n",
       "Sample_000                            15.912                    16.852   \n",
       "Sample_001                            15.936                    16.874   \n",
       "Sample_002                            16.111                    14.523   \n",
       "Sample_003                            16.107                    17.032   \n",
       "Sample_004                            15.603                    15.331   \n",
       "...                                      ...                       ...   \n",
       "Sample_205                            15.682                    16.886   \n",
       "Sample_206                            15.798                    17.554   \n",
       "Sample_207                            15.739                    16.877   \n",
       "Sample_208                            15.477                    16.779   \n",
       "Sample_209                            15.727                    17.261   \n",
       "\n",
       "protein groups  A0A024R3W6;A0A024R412;O60462;O60462-2;O60462-3;O60462-4;O60462-5;Q7LBX6;X5D2Q8  \\\n",
       "Sample ID                                                                                        \n",
       "Sample_000                                                 15.570                                \n",
       "Sample_001                                                 15.519                                \n",
       "Sample_002                                                 15.935                                \n",
       "Sample_003                                                 15.802                                \n",
       "Sample_004                                                 15.375                                \n",
       "...                                                           ...                                \n",
       "Sample_205                                                 14.910                                \n",
       "Sample_206                                                 15.600                                \n",
       "Sample_207                                                 15.469                                \n",
       "Sample_208                                                 14.995                                \n",
       "Sample_209                                                 15.175                                \n",
       "\n",
       "protein groups  A0A024R644;A0A0A0MRU5;A0A1B0GWI2;O75503  A0A075B6H9  \\\n",
       "Sample ID                                                             \n",
       "Sample_000                                       16.481      20.246   \n",
       "Sample_001                                       16.387      19.941   \n",
       "Sample_002                                       16.416      19.251   \n",
       "Sample_003                                       16.979      19.628   \n",
       "Sample_004                                       16.679      20.450   \n",
       "...                                                 ...         ...   \n",
       "Sample_205                                       16.482      17.705   \n",
       "Sample_206                                       15.938      18.154   \n",
       "Sample_207                                       16.898      18.636   \n",
       "Sample_208                                       16.132      14.908   \n",
       "Sample_209                                       16.235      17.893   \n",
       "\n",
       "protein groups  A0A075B6I0  A0A075B6I1  A0A075B6I6  A0A075B6I9  A0A075B6J9  \\\n",
       "Sample ID                                                                    \n",
       "Sample_000          16.764      17.584      16.988      20.054         NaN   \n",
       "Sample_001          18.786      17.144         NaN      19.067      16.188   \n",
       "Sample_002          16.832      15.671      17.012      18.569         NaN   \n",
       "Sample_003          17.852      18.877      14.182      18.985      13.438   \n",
       "Sample_004          18.682      17.081      14.140      19.686      14.495   \n",
       "...                    ...         ...         ...         ...         ...   \n",
       "Sample_205          17.039         NaN      16.413      19.102      16.064   \n",
       "Sample_206          18.152      16.503      16.860      18.538      15.288   \n",
       "Sample_207          17.950      16.321      16.401      18.849      17.580   \n",
       "Sample_208          17.530         NaN      16.119      18.368      15.202   \n",
       "Sample_209          17.744      16.371      15.780      18.806      16.532   \n",
       "\n",
       "protein groups  ...  Q9Y653;Q9Y653-2;Q9Y653-3  Q9Y696  Q9Y6C2  Q9Y6N6  \\\n",
       "Sample ID       ...                                                     \n",
       "Sample_000      ...                    16.012  15.178     NaN  15.050   \n",
       "Sample_001      ...                    15.528  15.576     NaN  14.833   \n",
       "Sample_002      ...                    15.229  14.728  13.757  15.118   \n",
       "Sample_003      ...                    15.495  14.590  14.682  15.140   \n",
       "Sample_004      ...                    14.757  15.094  14.048  15.256   \n",
       "...             ...                       ...     ...     ...     ...   \n",
       "Sample_205      ...                    15.235  15.684  14.236  15.415   \n",
       "Sample_206      ...                    15.422  16.106     NaN  15.345   \n",
       "Sample_207      ...                    15.808  16.098  14.403  15.715   \n",
       "Sample_208      ...                    15.157  16.712     NaN  14.640   \n",
       "Sample_209      ...                    15.237  15.652  15.211  14.205   \n",
       "\n",
       "protein groups  Q9Y6N7;Q9Y6N7-2;Q9Y6N7-4  Q9Y6R7  Q9Y6X5  Q9Y6Y8;Q9Y6Y8-2  \\\n",
       "Sample ID                                                                   \n",
       "Sample_000                        16.842  19.863     NaN           19.563   \n",
       "Sample_001                        16.597  20.299  15.556           19.386   \n",
       "Sample_002                        17.440  19.598  15.735           20.447   \n",
       "Sample_003                        17.356  19.429     NaN           20.216   \n",
       "Sample_004                        17.075  19.582  15.328           19.867   \n",
       "...                                  ...     ...     ...              ...   \n",
       "Sample_205                        17.551  17.922  16.340           19.928   \n",
       "Sample_206                        17.084  18.708  14.249           19.433   \n",
       "Sample_207                        16.586  18.725  16.138           19.599   \n",
       "Sample_208                        16.533  19.411  15.807           19.545   \n",
       "Sample_209                        16.749  19.275  15.732           19.577   \n",
       "\n",
       "protein groups  Q9Y6Y9  S4R3U6  \n",
       "Sample ID                       \n",
       "Sample_000      12.837  12.805  \n",
       "Sample_001      13.970  12.442  \n",
       "Sample_002      12.636  12.505  \n",
       "Sample_003      12.627  12.445  \n",
       "Sample_004      13.145  12.235  \n",
       "...                ...     ...  \n",
       "Sample_205      12.929  11.802  \n",
       "Sample_206         NaN     NaN  \n",
       "Sample_207      13.637  11.174  \n",
       "Sample_208      13.216     NaN  \n",
       "Sample_209      11.042  11.791  \n",
       "\n",
       "[210 rows x 1213 columns]"
      ]
     },
     "execution_count": 7,
     "metadata": {},
     "output_type": "execute_result"
    }
   ],
   "source": [
    "DATA_COMPLETENESS = 0.6\n",
    "MIN_N_PROTEIN_GROUPS: int = 200\n",
    "FRAC_PROTEIN_GROUPS: int = 0.622\n",
    "CV_QC_SAMPLE: float = 0.4\n",
    "\n",
    "ald_study, cutoffs = vaep.analyzers.diff_analysis.select_raw_data(data.unstack(\n",
    "), data_completeness=DATA_COMPLETENESS, frac_protein_groups=FRAC_PROTEIN_GROUPS)\n",
    "\n",
    "if args.fn_qc_samples:\n",
    "    qc_samples = pd.read_pickle(args.fn_qc_samples)\n",
    "    qc_samples = qc_samples[ald_study.columns]\n",
    "    qc_cv_feat = qc_samples.std() / qc_samples.mean()\n",
    "    qc_cv_feat = qc_cv_feat.rename(qc_samples.columns.name)\n",
    "    fig, ax = plt.subplots(figsize=(4, 7))\n",
    "    ax = qc_cv_feat.plot.box(ax=ax)\n",
    "    ax.set_ylabel('Coefficient of Variation')\n",
    "    print((qc_cv_feat < CV_QC_SAMPLE).value_counts())\n",
    "    ald_study = ald_study[vaep.analyzers.diff_analysis.select_feat(qc_samples)]\n",
    "\n",
    "column_name_first_prot_to_pg = {\n",
    "    pg.split(';')[0]: pg for pg in data.unstack().columns}\n",
    "\n",
    "ald_study = ald_study.rename(columns=column_name_first_prot_to_pg)\n",
    "ald_study"
   ]
  },
  {
   "cell_type": "markdown",
   "id": "e0e04598",
   "metadata": {
    "papermill": {
     "duration": 0.009951,
     "end_time": "2024-05-30T11:06:28.325412",
     "exception": false,
     "start_time": "2024-05-30T11:06:28.315461",
     "status": "completed"
    },
    "tags": []
   },
   "source": [
    "Number of complete cases which can be used:"
   ]
  },
  {
   "cell_type": "code",
   "execution_count": 8,
   "id": "3a9e70e6",
   "metadata": {
    "execution": {
     "iopub.execute_input": "2024-05-30T11:06:28.353330Z",
     "iopub.status.busy": "2024-05-30T11:06:28.352968Z",
     "iopub.status.idle": "2024-05-30T11:06:28.447203Z",
     "shell.execute_reply": "2024-05-30T11:06:28.446412Z"
    },
    "papermill": {
     "duration": 0.110659,
     "end_time": "2024-05-30T11:06:28.449213",
     "exception": false,
     "start_time": "2024-05-30T11:06:28.338554",
     "status": "completed"
    },
    "tags": [
     "hide-input"
    ]
   },
   "outputs": [
    {
     "name": "stdout",
     "output_type": "stream",
     "text": [
      "Samples available both in proteomics data and for target: 210\n"
     ]
    }
   ],
   "source": [
    "mask_has_target = data.index.levels[0].intersection(target.index)\n",
    "assert not mask_has_target.empty, f\"No data for target: {data.index.levels[0]} and {target.index}\"\n",
    "print(\n",
    "    f\"Samples available both in proteomics data and for target: {len(mask_has_target)}\")\n",
    "target, data, ald_study = target.loc[mask_has_target], data.loc[mask_has_target], ald_study.loc[mask_has_target]"
   ]
  },
  {
   "cell_type": "markdown",
   "id": "fcc05bf5",
   "metadata": {
    "papermill": {
     "duration": 0.020954,
     "end_time": "2024-05-30T11:06:28.488083",
     "exception": false,
     "start_time": "2024-05-30T11:06:28.467129",
     "status": "completed"
    },
    "tags": []
   },
   "source": [
    "### Load imputations from specified model"
   ]
  },
  {
   "cell_type": "code",
   "execution_count": 9,
   "id": "5f072d5f",
   "metadata": {
    "execution": {
     "iopub.execute_input": "2024-05-30T11:06:28.516725Z",
     "iopub.status.busy": "2024-05-30T11:06:28.516292Z",
     "iopub.status.idle": "2024-05-30T11:06:28.579236Z",
     "shell.execute_reply": "2024-05-30T11:06:28.578456Z"
    },
    "papermill": {
     "duration": 0.079729,
     "end_time": "2024-05-30T11:06:28.581385",
     "exception": false,
     "start_time": "2024-05-30T11:06:28.501656",
     "status": "completed"
    },
    "tags": [
     "hide-input"
    ]
   },
   "outputs": [
    {
     "name": "stdout",
     "output_type": "stream",
     "text": [
      "missing values pred. by VAE: runs/alzheimer_study/preds/pred_real_na_VAE.csv\n"
     ]
    },
    {
     "data": {
      "text/plain": [
       "Sample ID   protein groups\n",
       "Sample_023  P01743           13.055\n",
       "Sample_100  P10124           17.080\n",
       "Sample_067  J9JIG6;Q96EG1    14.400\n",
       "Name: intensity, dtype: float64"
      ]
     },
     "execution_count": 9,
     "metadata": {},
     "output_type": "execute_result"
    }
   ],
   "source": [
    "fname = args.out_preds / args.template_pred.format(args.model_key)\n",
    "print(f\"missing values pred. by {args.model_key}: {fname}\")\n",
    "load_single_csv_pred_file = vaep.analyzers.compare_predictions.load_single_csv_pred_file\n",
    "pred_real_na = load_single_csv_pred_file(fname).loc[mask_has_target]\n",
    "pred_real_na.sample(3)"
   ]
  },
  {
   "cell_type": "markdown",
   "id": "eadd9ea6",
   "metadata": {
    "papermill": {
     "duration": 0.01345,
     "end_time": "2024-05-30T11:06:28.608962",
     "exception": false,
     "start_time": "2024-05-30T11:06:28.595512",
     "status": "completed"
    },
    "tags": []
   },
   "source": [
    "### Load imputations from baseline model"
   ]
  },
  {
   "cell_type": "code",
   "execution_count": 10,
   "id": "0f2dd584",
   "metadata": {
    "execution": {
     "iopub.execute_input": "2024-05-30T11:06:28.637028Z",
     "iopub.status.busy": "2024-05-30T11:06:28.636671Z",
     "iopub.status.idle": "2024-05-30T11:06:28.687591Z",
     "shell.execute_reply": "2024-05-30T11:06:28.686768Z"
    },
    "papermill": {
     "duration": 0.068088,
     "end_time": "2024-05-30T11:06:28.689979",
     "exception": false,
     "start_time": "2024-05-30T11:06:28.621891",
     "status": "completed"
    },
    "tags": [
     "hide-input"
    ]
   },
   "outputs": [
    {
     "data": {
      "text/plain": [
       "Sample ID   protein groups          \n",
       "Sample_000  A0A075B6J9                 13.916\n",
       "            A0A075B6Q5                 12.608\n",
       "            A0A075B6R2                 12.632\n",
       "            A0A075B6S5                 12.763\n",
       "            A0A087WSY4                 13.340\n",
       "                                        ...  \n",
       "Sample_209  Q9P1W8;Q9P1W8-2;Q9P1W8-4   14.315\n",
       "            Q9UI40;Q9UI40-2            12.848\n",
       "            Q9UIW2                     11.384\n",
       "            Q9UMX0;Q9UMX0-2;Q9UMX0-4   11.411\n",
       "            Q9UP79                     12.997\n",
       "Name: intensity, Length: 46401, dtype: float64"
      ]
     },
     "execution_count": 10,
     "metadata": {},
     "output_type": "execute_result"
    }
   ],
   "source": [
    "fname = args.out_preds / args.template_pred.format(args.baseline)\n",
    "pred_real_na_baseline = load_single_csv_pred_file(fname)  # .loc[mask_has_target]\n",
    "pred_real_na_baseline"
   ]
  },
  {
   "cell_type": "markdown",
   "id": "8fa21c8b",
   "metadata": {
    "papermill": {
     "duration": 0.024038,
     "end_time": "2024-05-30T11:06:28.740418",
     "exception": false,
     "start_time": "2024-05-30T11:06:28.716380",
     "status": "completed"
    },
    "tags": []
   },
   "source": [
    "## Modeling setup\n",
    "General approach:\n",
    "  - use one train, test split of the data\n",
    "  - select best 10 features from training data `X_train`, `y_train` before binarization of target\n",
    "  - dichotomize (binarize) data into to groups (zero and 1)\n",
    "  - evaluate model on the test data `X_test`, `y_test`\n",
    "\n",
    "Repeat general approach for\n",
    " 1. all original ald data: all features justed in original ALD study\n",
    " 2. all model data: all features available my using the self supervised deep learning model\n",
    " 3. newly available feat only: the subset of features available from the\n",
    "    self supervised deep learning model which were newly retained using the\n",
    "    new approach\n",
    "\n",
    "All data:"
   ]
  },
  {
   "cell_type": "code",
   "execution_count": 11,
   "id": "f457863e",
   "metadata": {
    "execution": {
     "iopub.execute_input": "2024-05-30T11:06:28.787440Z",
     "iopub.status.busy": "2024-05-30T11:06:28.787077Z",
     "iopub.status.idle": "2024-05-30T11:06:28.915557Z",
     "shell.execute_reply": "2024-05-30T11:06:28.914789Z"
    },
    "papermill": {
     "duration": 0.153432,
     "end_time": "2024-05-30T11:06:28.917607",
     "exception": false,
     "start_time": "2024-05-30T11:06:28.764175",
     "status": "completed"
    },
    "tags": [
     "hide-input"
    ]
   },
   "outputs": [
    {
     "data": {
      "text/html": [
       "<div>\n",
       "<style scoped>\n",
       "    .dataframe tbody tr th:only-of-type {\n",
       "        vertical-align: middle;\n",
       "    }\n",
       "\n",
       "    .dataframe tbody tr th {\n",
       "        vertical-align: top;\n",
       "    }\n",
       "\n",
       "    .dataframe thead th {\n",
       "        text-align: right;\n",
       "    }\n",
       "</style>\n",
       "<table border=\"1\" class=\"dataframe\">\n",
       "  <thead>\n",
       "    <tr style=\"text-align: right;\">\n",
       "      <th>protein groups</th>\n",
       "      <th>A0A024QZX5;A0A087X1N8;P35237</th>\n",
       "      <th>A0A024R0T9;K7ER74;P02655</th>\n",
       "      <th>A0A024R3W6;A0A024R412;O60462;O60462-2;O60462-3;O60462-4;O60462-5;Q7LBX6;X5D2Q8</th>\n",
       "      <th>A0A024R644;A0A0A0MRU5;A0A1B0GWI2;O75503</th>\n",
       "      <th>A0A075B6H7</th>\n",
       "      <th>A0A075B6H9</th>\n",
       "      <th>A0A075B6I0</th>\n",
       "      <th>A0A075B6I1</th>\n",
       "      <th>A0A075B6I6</th>\n",
       "      <th>A0A075B6I9</th>\n",
       "      <th>...</th>\n",
       "      <th>Q9Y653;Q9Y653-2;Q9Y653-3</th>\n",
       "      <th>Q9Y696</th>\n",
       "      <th>Q9Y6C2</th>\n",
       "      <th>Q9Y6N6</th>\n",
       "      <th>Q9Y6N7;Q9Y6N7-2;Q9Y6N7-4</th>\n",
       "      <th>Q9Y6R7</th>\n",
       "      <th>Q9Y6X5</th>\n",
       "      <th>Q9Y6Y8;Q9Y6Y8-2</th>\n",
       "      <th>Q9Y6Y9</th>\n",
       "      <th>S4R3U6</th>\n",
       "    </tr>\n",
       "    <tr>\n",
       "      <th>Sample ID</th>\n",
       "      <th></th>\n",
       "      <th></th>\n",
       "      <th></th>\n",
       "      <th></th>\n",
       "      <th></th>\n",
       "      <th></th>\n",
       "      <th></th>\n",
       "      <th></th>\n",
       "      <th></th>\n",
       "      <th></th>\n",
       "      <th></th>\n",
       "      <th></th>\n",
       "      <th></th>\n",
       "      <th></th>\n",
       "      <th></th>\n",
       "      <th></th>\n",
       "      <th></th>\n",
       "      <th></th>\n",
       "      <th></th>\n",
       "      <th></th>\n",
       "      <th></th>\n",
       "    </tr>\n",
       "  </thead>\n",
       "  <tbody>\n",
       "    <tr>\n",
       "      <th>Sample_000</th>\n",
       "      <td>15.912</td>\n",
       "      <td>16.852</td>\n",
       "      <td>15.570</td>\n",
       "      <td>16.481</td>\n",
       "      <td>17.301</td>\n",
       "      <td>20.246</td>\n",
       "      <td>16.764</td>\n",
       "      <td>17.584</td>\n",
       "      <td>16.988</td>\n",
       "      <td>20.054</td>\n",
       "      <td>...</td>\n",
       "      <td>16.012</td>\n",
       "      <td>15.178</td>\n",
       "      <td>14.207</td>\n",
       "      <td>15.050</td>\n",
       "      <td>16.842</td>\n",
       "      <td>19.863</td>\n",
       "      <td>15.890</td>\n",
       "      <td>19.563</td>\n",
       "      <td>12.837</td>\n",
       "      <td>12.805</td>\n",
       "    </tr>\n",
       "    <tr>\n",
       "      <th>Sample_001</th>\n",
       "      <td>15.936</td>\n",
       "      <td>16.874</td>\n",
       "      <td>15.519</td>\n",
       "      <td>16.387</td>\n",
       "      <td>13.796</td>\n",
       "      <td>19.941</td>\n",
       "      <td>18.786</td>\n",
       "      <td>17.144</td>\n",
       "      <td>16.742</td>\n",
       "      <td>19.067</td>\n",
       "      <td>...</td>\n",
       "      <td>15.528</td>\n",
       "      <td>15.576</td>\n",
       "      <td>14.280</td>\n",
       "      <td>14.833</td>\n",
       "      <td>16.597</td>\n",
       "      <td>20.299</td>\n",
       "      <td>15.556</td>\n",
       "      <td>19.386</td>\n",
       "      <td>13.970</td>\n",
       "      <td>12.442</td>\n",
       "    </tr>\n",
       "    <tr>\n",
       "      <th>Sample_002</th>\n",
       "      <td>16.111</td>\n",
       "      <td>14.523</td>\n",
       "      <td>15.935</td>\n",
       "      <td>16.416</td>\n",
       "      <td>18.175</td>\n",
       "      <td>19.251</td>\n",
       "      <td>16.832</td>\n",
       "      <td>15.671</td>\n",
       "      <td>17.012</td>\n",
       "      <td>18.569</td>\n",
       "      <td>...</td>\n",
       "      <td>15.229</td>\n",
       "      <td>14.728</td>\n",
       "      <td>13.757</td>\n",
       "      <td>15.118</td>\n",
       "      <td>17.440</td>\n",
       "      <td>19.598</td>\n",
       "      <td>15.735</td>\n",
       "      <td>20.447</td>\n",
       "      <td>12.636</td>\n",
       "      <td>12.505</td>\n",
       "    </tr>\n",
       "    <tr>\n",
       "      <th>Sample_003</th>\n",
       "      <td>16.107</td>\n",
       "      <td>17.032</td>\n",
       "      <td>15.802</td>\n",
       "      <td>16.979</td>\n",
       "      <td>15.963</td>\n",
       "      <td>19.628</td>\n",
       "      <td>17.852</td>\n",
       "      <td>18.877</td>\n",
       "      <td>14.182</td>\n",
       "      <td>18.985</td>\n",
       "      <td>...</td>\n",
       "      <td>15.495</td>\n",
       "      <td>14.590</td>\n",
       "      <td>14.682</td>\n",
       "      <td>15.140</td>\n",
       "      <td>17.356</td>\n",
       "      <td>19.429</td>\n",
       "      <td>15.847</td>\n",
       "      <td>20.216</td>\n",
       "      <td>12.627</td>\n",
       "      <td>12.445</td>\n",
       "    </tr>\n",
       "    <tr>\n",
       "      <th>Sample_004</th>\n",
       "      <td>15.603</td>\n",
       "      <td>15.331</td>\n",
       "      <td>15.375</td>\n",
       "      <td>16.679</td>\n",
       "      <td>15.473</td>\n",
       "      <td>20.450</td>\n",
       "      <td>18.682</td>\n",
       "      <td>17.081</td>\n",
       "      <td>14.140</td>\n",
       "      <td>19.686</td>\n",
       "      <td>...</td>\n",
       "      <td>14.757</td>\n",
       "      <td>15.094</td>\n",
       "      <td>14.048</td>\n",
       "      <td>15.256</td>\n",
       "      <td>17.075</td>\n",
       "      <td>19.582</td>\n",
       "      <td>15.328</td>\n",
       "      <td>19.867</td>\n",
       "      <td>13.145</td>\n",
       "      <td>12.235</td>\n",
       "    </tr>\n",
       "    <tr>\n",
       "      <th>...</th>\n",
       "      <td>...</td>\n",
       "      <td>...</td>\n",
       "      <td>...</td>\n",
       "      <td>...</td>\n",
       "      <td>...</td>\n",
       "      <td>...</td>\n",
       "      <td>...</td>\n",
       "      <td>...</td>\n",
       "      <td>...</td>\n",
       "      <td>...</td>\n",
       "      <td>...</td>\n",
       "      <td>...</td>\n",
       "      <td>...</td>\n",
       "      <td>...</td>\n",
       "      <td>...</td>\n",
       "      <td>...</td>\n",
       "      <td>...</td>\n",
       "      <td>...</td>\n",
       "      <td>...</td>\n",
       "      <td>...</td>\n",
       "      <td>...</td>\n",
       "    </tr>\n",
       "    <tr>\n",
       "      <th>Sample_205</th>\n",
       "      <td>15.682</td>\n",
       "      <td>16.886</td>\n",
       "      <td>14.910</td>\n",
       "      <td>16.482</td>\n",
       "      <td>15.208</td>\n",
       "      <td>17.705</td>\n",
       "      <td>17.039</td>\n",
       "      <td>15.879</td>\n",
       "      <td>16.413</td>\n",
       "      <td>19.102</td>\n",
       "      <td>...</td>\n",
       "      <td>15.235</td>\n",
       "      <td>15.684</td>\n",
       "      <td>14.236</td>\n",
       "      <td>15.415</td>\n",
       "      <td>17.551</td>\n",
       "      <td>17.922</td>\n",
       "      <td>16.340</td>\n",
       "      <td>19.928</td>\n",
       "      <td>12.929</td>\n",
       "      <td>11.802</td>\n",
       "    </tr>\n",
       "    <tr>\n",
       "      <th>Sample_206</th>\n",
       "      <td>15.798</td>\n",
       "      <td>17.554</td>\n",
       "      <td>15.600</td>\n",
       "      <td>15.938</td>\n",
       "      <td>15.526</td>\n",
       "      <td>18.154</td>\n",
       "      <td>18.152</td>\n",
       "      <td>16.503</td>\n",
       "      <td>16.860</td>\n",
       "      <td>18.538</td>\n",
       "      <td>...</td>\n",
       "      <td>15.422</td>\n",
       "      <td>16.106</td>\n",
       "      <td>14.342</td>\n",
       "      <td>15.345</td>\n",
       "      <td>17.084</td>\n",
       "      <td>18.708</td>\n",
       "      <td>14.249</td>\n",
       "      <td>19.433</td>\n",
       "      <td>11.129</td>\n",
       "      <td>11.249</td>\n",
       "    </tr>\n",
       "    <tr>\n",
       "      <th>Sample_207</th>\n",
       "      <td>15.739</td>\n",
       "      <td>16.877</td>\n",
       "      <td>15.469</td>\n",
       "      <td>16.898</td>\n",
       "      <td>14.637</td>\n",
       "      <td>18.636</td>\n",
       "      <td>17.950</td>\n",
       "      <td>16.321</td>\n",
       "      <td>16.401</td>\n",
       "      <td>18.849</td>\n",
       "      <td>...</td>\n",
       "      <td>15.808</td>\n",
       "      <td>16.098</td>\n",
       "      <td>14.403</td>\n",
       "      <td>15.715</td>\n",
       "      <td>16.586</td>\n",
       "      <td>18.725</td>\n",
       "      <td>16.138</td>\n",
       "      <td>19.599</td>\n",
       "      <td>13.637</td>\n",
       "      <td>11.174</td>\n",
       "    </tr>\n",
       "    <tr>\n",
       "      <th>Sample_208</th>\n",
       "      <td>15.477</td>\n",
       "      <td>16.779</td>\n",
       "      <td>14.995</td>\n",
       "      <td>16.132</td>\n",
       "      <td>14.129</td>\n",
       "      <td>14.908</td>\n",
       "      <td>17.530</td>\n",
       "      <td>16.693</td>\n",
       "      <td>16.119</td>\n",
       "      <td>18.368</td>\n",
       "      <td>...</td>\n",
       "      <td>15.157</td>\n",
       "      <td>16.712</td>\n",
       "      <td>14.521</td>\n",
       "      <td>14.640</td>\n",
       "      <td>16.533</td>\n",
       "      <td>19.411</td>\n",
       "      <td>15.807</td>\n",
       "      <td>19.545</td>\n",
       "      <td>13.216</td>\n",
       "      <td>11.360</td>\n",
       "    </tr>\n",
       "    <tr>\n",
       "      <th>Sample_209</th>\n",
       "      <td>15.727</td>\n",
       "      <td>17.261</td>\n",
       "      <td>15.175</td>\n",
       "      <td>16.235</td>\n",
       "      <td>14.728</td>\n",
       "      <td>17.893</td>\n",
       "      <td>17.744</td>\n",
       "      <td>16.371</td>\n",
       "      <td>15.780</td>\n",
       "      <td>18.806</td>\n",
       "      <td>...</td>\n",
       "      <td>15.237</td>\n",
       "      <td>15.652</td>\n",
       "      <td>15.211</td>\n",
       "      <td>14.205</td>\n",
       "      <td>16.749</td>\n",
       "      <td>19.275</td>\n",
       "      <td>15.732</td>\n",
       "      <td>19.577</td>\n",
       "      <td>11.042</td>\n",
       "      <td>11.791</td>\n",
       "    </tr>\n",
       "  </tbody>\n",
       "</table>\n",
       "<p>210 rows × 1421 columns</p>\n",
       "</div>"
      ],
      "text/plain": [
       "protein groups  A0A024QZX5;A0A087X1N8;P35237  A0A024R0T9;K7ER74;P02655  \\\n",
       "Sample ID                                                                \n",
       "Sample_000                            15.912                    16.852   \n",
       "Sample_001                            15.936                    16.874   \n",
       "Sample_002                            16.111                    14.523   \n",
       "Sample_003                            16.107                    17.032   \n",
       "Sample_004                            15.603                    15.331   \n",
       "...                                      ...                       ...   \n",
       "Sample_205                            15.682                    16.886   \n",
       "Sample_206                            15.798                    17.554   \n",
       "Sample_207                            15.739                    16.877   \n",
       "Sample_208                            15.477                    16.779   \n",
       "Sample_209                            15.727                    17.261   \n",
       "\n",
       "protein groups  A0A024R3W6;A0A024R412;O60462;O60462-2;O60462-3;O60462-4;O60462-5;Q7LBX6;X5D2Q8  \\\n",
       "Sample ID                                                                                        \n",
       "Sample_000                                                 15.570                                \n",
       "Sample_001                                                 15.519                                \n",
       "Sample_002                                                 15.935                                \n",
       "Sample_003                                                 15.802                                \n",
       "Sample_004                                                 15.375                                \n",
       "...                                                           ...                                \n",
       "Sample_205                                                 14.910                                \n",
       "Sample_206                                                 15.600                                \n",
       "Sample_207                                                 15.469                                \n",
       "Sample_208                                                 14.995                                \n",
       "Sample_209                                                 15.175                                \n",
       "\n",
       "protein groups  A0A024R644;A0A0A0MRU5;A0A1B0GWI2;O75503  A0A075B6H7  \\\n",
       "Sample ID                                                             \n",
       "Sample_000                                       16.481      17.301   \n",
       "Sample_001                                       16.387      13.796   \n",
       "Sample_002                                       16.416      18.175   \n",
       "Sample_003                                       16.979      15.963   \n",
       "Sample_004                                       16.679      15.473   \n",
       "...                                                 ...         ...   \n",
       "Sample_205                                       16.482      15.208   \n",
       "Sample_206                                       15.938      15.526   \n",
       "Sample_207                                       16.898      14.637   \n",
       "Sample_208                                       16.132      14.129   \n",
       "Sample_209                                       16.235      14.728   \n",
       "\n",
       "protein groups  A0A075B6H9  A0A075B6I0  A0A075B6I1  A0A075B6I6  A0A075B6I9  \\\n",
       "Sample ID                                                                    \n",
       "Sample_000          20.246      16.764      17.584      16.988      20.054   \n",
       "Sample_001          19.941      18.786      17.144      16.742      19.067   \n",
       "Sample_002          19.251      16.832      15.671      17.012      18.569   \n",
       "Sample_003          19.628      17.852      18.877      14.182      18.985   \n",
       "Sample_004          20.450      18.682      17.081      14.140      19.686   \n",
       "...                    ...         ...         ...         ...         ...   \n",
       "Sample_205          17.705      17.039      15.879      16.413      19.102   \n",
       "Sample_206          18.154      18.152      16.503      16.860      18.538   \n",
       "Sample_207          18.636      17.950      16.321      16.401      18.849   \n",
       "Sample_208          14.908      17.530      16.693      16.119      18.368   \n",
       "Sample_209          17.893      17.744      16.371      15.780      18.806   \n",
       "\n",
       "protein groups  ...  Q9Y653;Q9Y653-2;Q9Y653-3  Q9Y696  Q9Y6C2  Q9Y6N6  \\\n",
       "Sample ID       ...                                                     \n",
       "Sample_000      ...                    16.012  15.178  14.207  15.050   \n",
       "Sample_001      ...                    15.528  15.576  14.280  14.833   \n",
       "Sample_002      ...                    15.229  14.728  13.757  15.118   \n",
       "Sample_003      ...                    15.495  14.590  14.682  15.140   \n",
       "Sample_004      ...                    14.757  15.094  14.048  15.256   \n",
       "...             ...                       ...     ...     ...     ...   \n",
       "Sample_205      ...                    15.235  15.684  14.236  15.415   \n",
       "Sample_206      ...                    15.422  16.106  14.342  15.345   \n",
       "Sample_207      ...                    15.808  16.098  14.403  15.715   \n",
       "Sample_208      ...                    15.157  16.712  14.521  14.640   \n",
       "Sample_209      ...                    15.237  15.652  15.211  14.205   \n",
       "\n",
       "protein groups  Q9Y6N7;Q9Y6N7-2;Q9Y6N7-4  Q9Y6R7  Q9Y6X5  Q9Y6Y8;Q9Y6Y8-2  \\\n",
       "Sample ID                                                                   \n",
       "Sample_000                        16.842  19.863  15.890           19.563   \n",
       "Sample_001                        16.597  20.299  15.556           19.386   \n",
       "Sample_002                        17.440  19.598  15.735           20.447   \n",
       "Sample_003                        17.356  19.429  15.847           20.216   \n",
       "Sample_004                        17.075  19.582  15.328           19.867   \n",
       "...                                  ...     ...     ...              ...   \n",
       "Sample_205                        17.551  17.922  16.340           19.928   \n",
       "Sample_206                        17.084  18.708  14.249           19.433   \n",
       "Sample_207                        16.586  18.725  16.138           19.599   \n",
       "Sample_208                        16.533  19.411  15.807           19.545   \n",
       "Sample_209                        16.749  19.275  15.732           19.577   \n",
       "\n",
       "protein groups  Q9Y6Y9  S4R3U6  \n",
       "Sample ID                       \n",
       "Sample_000      12.837  12.805  \n",
       "Sample_001      13.970  12.442  \n",
       "Sample_002      12.636  12.505  \n",
       "Sample_003      12.627  12.445  \n",
       "Sample_004      13.145  12.235  \n",
       "...                ...     ...  \n",
       "Sample_205      12.929  11.802  \n",
       "Sample_206      11.129  11.249  \n",
       "Sample_207      13.637  11.174  \n",
       "Sample_208      13.216  11.360  \n",
       "Sample_209      11.042  11.791  \n",
       "\n",
       "[210 rows x 1421 columns]"
      ]
     },
     "execution_count": 11,
     "metadata": {},
     "output_type": "execute_result"
    }
   ],
   "source": [
    "X = pd.concat([data, pred_real_na]).unstack()\n",
    "X"
   ]
  },
  {
   "cell_type": "markdown",
   "id": "0c92c7bd",
   "metadata": {
    "papermill": {
     "duration": 0.01414,
     "end_time": "2024-05-30T11:06:28.976465",
     "exception": false,
     "start_time": "2024-05-30T11:06:28.962325",
     "status": "completed"
    },
    "tags": []
   },
   "source": [
    "### Subset of data by ALD criteria"
   ]
  },
  {
   "cell_type": "code",
   "execution_count": 12,
   "id": "a387dd6f",
   "metadata": {
    "execution": {
     "iopub.execute_input": "2024-05-30T11:06:29.041317Z",
     "iopub.status.busy": "2024-05-30T11:06:29.040953Z",
     "iopub.status.idle": "2024-05-30T11:06:29.195954Z",
     "shell.execute_reply": "2024-05-30T11:06:29.195132Z"
    },
    "papermill": {
     "duration": 0.183951,
     "end_time": "2024-05-30T11:06:29.197741",
     "exception": false,
     "start_time": "2024-05-30T11:06:29.013790",
     "status": "completed"
    },
    "tags": [
     "hide-input"
    ]
   },
   "outputs": [
    {
     "data": {
      "text/html": [
       "<div>\n",
       "<style scoped>\n",
       "    .dataframe tbody tr th:only-of-type {\n",
       "        vertical-align: middle;\n",
       "    }\n",
       "\n",
       "    .dataframe tbody tr th {\n",
       "        vertical-align: top;\n",
       "    }\n",
       "\n",
       "    .dataframe thead th {\n",
       "        text-align: right;\n",
       "    }\n",
       "</style>\n",
       "<table border=\"1\" class=\"dataframe\">\n",
       "  <thead>\n",
       "    <tr style=\"text-align: right;\">\n",
       "      <th>protein groups</th>\n",
       "      <th>A0A024QZX5;A0A087X1N8;P35237</th>\n",
       "      <th>A0A024R0T9;K7ER74;P02655</th>\n",
       "      <th>A0A024R3W6;A0A024R412;O60462;O60462-2;O60462-3;O60462-4;O60462-5;Q7LBX6;X5D2Q8</th>\n",
       "      <th>A0A024R644;A0A0A0MRU5;A0A1B0GWI2;O75503</th>\n",
       "      <th>A0A075B6H9</th>\n",
       "      <th>A0A075B6I0</th>\n",
       "      <th>A0A075B6I1</th>\n",
       "      <th>A0A075B6I6</th>\n",
       "      <th>A0A075B6I9</th>\n",
       "      <th>A0A075B6J9</th>\n",
       "      <th>...</th>\n",
       "      <th>Q9Y653;Q9Y653-2;Q9Y653-3</th>\n",
       "      <th>Q9Y696</th>\n",
       "      <th>Q9Y6C2</th>\n",
       "      <th>Q9Y6N6</th>\n",
       "      <th>Q9Y6N7;Q9Y6N7-2;Q9Y6N7-4</th>\n",
       "      <th>Q9Y6R7</th>\n",
       "      <th>Q9Y6X5</th>\n",
       "      <th>Q9Y6Y8;Q9Y6Y8-2</th>\n",
       "      <th>Q9Y6Y9</th>\n",
       "      <th>S4R3U6</th>\n",
       "    </tr>\n",
       "    <tr>\n",
       "      <th>Sample ID</th>\n",
       "      <th></th>\n",
       "      <th></th>\n",
       "      <th></th>\n",
       "      <th></th>\n",
       "      <th></th>\n",
       "      <th></th>\n",
       "      <th></th>\n",
       "      <th></th>\n",
       "      <th></th>\n",
       "      <th></th>\n",
       "      <th></th>\n",
       "      <th></th>\n",
       "      <th></th>\n",
       "      <th></th>\n",
       "      <th></th>\n",
       "      <th></th>\n",
       "      <th></th>\n",
       "      <th></th>\n",
       "      <th></th>\n",
       "      <th></th>\n",
       "      <th></th>\n",
       "    </tr>\n",
       "  </thead>\n",
       "  <tbody>\n",
       "    <tr>\n",
       "      <th>Sample_000</th>\n",
       "      <td>15.912</td>\n",
       "      <td>16.852</td>\n",
       "      <td>15.570</td>\n",
       "      <td>16.481</td>\n",
       "      <td>20.246</td>\n",
       "      <td>16.764</td>\n",
       "      <td>17.584</td>\n",
       "      <td>16.988</td>\n",
       "      <td>20.054</td>\n",
       "      <td>13.916</td>\n",
       "      <td>...</td>\n",
       "      <td>16.012</td>\n",
       "      <td>15.178</td>\n",
       "      <td>13.563</td>\n",
       "      <td>15.050</td>\n",
       "      <td>16.842</td>\n",
       "      <td>19.863</td>\n",
       "      <td>12.485</td>\n",
       "      <td>19.563</td>\n",
       "      <td>12.837</td>\n",
       "      <td>12.805</td>\n",
       "    </tr>\n",
       "    <tr>\n",
       "      <th>Sample_001</th>\n",
       "      <td>15.936</td>\n",
       "      <td>16.874</td>\n",
       "      <td>15.519</td>\n",
       "      <td>16.387</td>\n",
       "      <td>19.941</td>\n",
       "      <td>18.786</td>\n",
       "      <td>17.144</td>\n",
       "      <td>12.833</td>\n",
       "      <td>19.067</td>\n",
       "      <td>16.188</td>\n",
       "      <td>...</td>\n",
       "      <td>15.528</td>\n",
       "      <td>15.576</td>\n",
       "      <td>11.895</td>\n",
       "      <td>14.833</td>\n",
       "      <td>16.597</td>\n",
       "      <td>20.299</td>\n",
       "      <td>15.556</td>\n",
       "      <td>19.386</td>\n",
       "      <td>13.970</td>\n",
       "      <td>12.442</td>\n",
       "    </tr>\n",
       "    <tr>\n",
       "      <th>Sample_002</th>\n",
       "      <td>16.111</td>\n",
       "      <td>14.523</td>\n",
       "      <td>15.935</td>\n",
       "      <td>16.416</td>\n",
       "      <td>19.251</td>\n",
       "      <td>16.832</td>\n",
       "      <td>15.671</td>\n",
       "      <td>17.012</td>\n",
       "      <td>18.569</td>\n",
       "      <td>12.822</td>\n",
       "      <td>...</td>\n",
       "      <td>15.229</td>\n",
       "      <td>14.728</td>\n",
       "      <td>13.757</td>\n",
       "      <td>15.118</td>\n",
       "      <td>17.440</td>\n",
       "      <td>19.598</td>\n",
       "      <td>15.735</td>\n",
       "      <td>20.447</td>\n",
       "      <td>12.636</td>\n",
       "      <td>12.505</td>\n",
       "    </tr>\n",
       "    <tr>\n",
       "      <th>Sample_003</th>\n",
       "      <td>16.107</td>\n",
       "      <td>17.032</td>\n",
       "      <td>15.802</td>\n",
       "      <td>16.979</td>\n",
       "      <td>19.628</td>\n",
       "      <td>17.852</td>\n",
       "      <td>18.877</td>\n",
       "      <td>14.182</td>\n",
       "      <td>18.985</td>\n",
       "      <td>13.438</td>\n",
       "      <td>...</td>\n",
       "      <td>15.495</td>\n",
       "      <td>14.590</td>\n",
       "      <td>14.682</td>\n",
       "      <td>15.140</td>\n",
       "      <td>17.356</td>\n",
       "      <td>19.429</td>\n",
       "      <td>13.000</td>\n",
       "      <td>20.216</td>\n",
       "      <td>12.627</td>\n",
       "      <td>12.445</td>\n",
       "    </tr>\n",
       "    <tr>\n",
       "      <th>Sample_004</th>\n",
       "      <td>15.603</td>\n",
       "      <td>15.331</td>\n",
       "      <td>15.375</td>\n",
       "      <td>16.679</td>\n",
       "      <td>20.450</td>\n",
       "      <td>18.682</td>\n",
       "      <td>17.081</td>\n",
       "      <td>14.140</td>\n",
       "      <td>19.686</td>\n",
       "      <td>14.495</td>\n",
       "      <td>...</td>\n",
       "      <td>14.757</td>\n",
       "      <td>15.094</td>\n",
       "      <td>14.048</td>\n",
       "      <td>15.256</td>\n",
       "      <td>17.075</td>\n",
       "      <td>19.582</td>\n",
       "      <td>15.328</td>\n",
       "      <td>19.867</td>\n",
       "      <td>13.145</td>\n",
       "      <td>12.235</td>\n",
       "    </tr>\n",
       "    <tr>\n",
       "      <th>...</th>\n",
       "      <td>...</td>\n",
       "      <td>...</td>\n",
       "      <td>...</td>\n",
       "      <td>...</td>\n",
       "      <td>...</td>\n",
       "      <td>...</td>\n",
       "      <td>...</td>\n",
       "      <td>...</td>\n",
       "      <td>...</td>\n",
       "      <td>...</td>\n",
       "      <td>...</td>\n",
       "      <td>...</td>\n",
       "      <td>...</td>\n",
       "      <td>...</td>\n",
       "      <td>...</td>\n",
       "      <td>...</td>\n",
       "      <td>...</td>\n",
       "      <td>...</td>\n",
       "      <td>...</td>\n",
       "      <td>...</td>\n",
       "      <td>...</td>\n",
       "    </tr>\n",
       "    <tr>\n",
       "      <th>Sample_205</th>\n",
       "      <td>15.682</td>\n",
       "      <td>16.886</td>\n",
       "      <td>14.910</td>\n",
       "      <td>16.482</td>\n",
       "      <td>17.705</td>\n",
       "      <td>17.039</td>\n",
       "      <td>13.671</td>\n",
       "      <td>16.413</td>\n",
       "      <td>19.102</td>\n",
       "      <td>16.064</td>\n",
       "      <td>...</td>\n",
       "      <td>15.235</td>\n",
       "      <td>15.684</td>\n",
       "      <td>14.236</td>\n",
       "      <td>15.415</td>\n",
       "      <td>17.551</td>\n",
       "      <td>17.922</td>\n",
       "      <td>16.340</td>\n",
       "      <td>19.928</td>\n",
       "      <td>12.929</td>\n",
       "      <td>11.802</td>\n",
       "    </tr>\n",
       "    <tr>\n",
       "      <th>Sample_206</th>\n",
       "      <td>15.798</td>\n",
       "      <td>17.554</td>\n",
       "      <td>15.600</td>\n",
       "      <td>15.938</td>\n",
       "      <td>18.154</td>\n",
       "      <td>18.152</td>\n",
       "      <td>16.503</td>\n",
       "      <td>16.860</td>\n",
       "      <td>18.538</td>\n",
       "      <td>15.288</td>\n",
       "      <td>...</td>\n",
       "      <td>15.422</td>\n",
       "      <td>16.106</td>\n",
       "      <td>13.435</td>\n",
       "      <td>15.345</td>\n",
       "      <td>17.084</td>\n",
       "      <td>18.708</td>\n",
       "      <td>14.249</td>\n",
       "      <td>19.433</td>\n",
       "      <td>13.161</td>\n",
       "      <td>13.755</td>\n",
       "    </tr>\n",
       "    <tr>\n",
       "      <th>Sample_207</th>\n",
       "      <td>15.739</td>\n",
       "      <td>16.877</td>\n",
       "      <td>15.469</td>\n",
       "      <td>16.898</td>\n",
       "      <td>18.636</td>\n",
       "      <td>17.950</td>\n",
       "      <td>16.321</td>\n",
       "      <td>16.401</td>\n",
       "      <td>18.849</td>\n",
       "      <td>17.580</td>\n",
       "      <td>...</td>\n",
       "      <td>15.808</td>\n",
       "      <td>16.098</td>\n",
       "      <td>14.403</td>\n",
       "      <td>15.715</td>\n",
       "      <td>16.586</td>\n",
       "      <td>18.725</td>\n",
       "      <td>16.138</td>\n",
       "      <td>19.599</td>\n",
       "      <td>13.637</td>\n",
       "      <td>11.174</td>\n",
       "    </tr>\n",
       "    <tr>\n",
       "      <th>Sample_208</th>\n",
       "      <td>15.477</td>\n",
       "      <td>16.779</td>\n",
       "      <td>14.995</td>\n",
       "      <td>16.132</td>\n",
       "      <td>14.908</td>\n",
       "      <td>17.530</td>\n",
       "      <td>11.804</td>\n",
       "      <td>16.119</td>\n",
       "      <td>18.368</td>\n",
       "      <td>15.202</td>\n",
       "      <td>...</td>\n",
       "      <td>15.157</td>\n",
       "      <td>16.712</td>\n",
       "      <td>13.451</td>\n",
       "      <td>14.640</td>\n",
       "      <td>16.533</td>\n",
       "      <td>19.411</td>\n",
       "      <td>15.807</td>\n",
       "      <td>19.545</td>\n",
       "      <td>13.216</td>\n",
       "      <td>12.043</td>\n",
       "    </tr>\n",
       "    <tr>\n",
       "      <th>Sample_209</th>\n",
       "      <td>15.727</td>\n",
       "      <td>17.261</td>\n",
       "      <td>15.175</td>\n",
       "      <td>16.235</td>\n",
       "      <td>17.893</td>\n",
       "      <td>17.744</td>\n",
       "      <td>16.371</td>\n",
       "      <td>15.780</td>\n",
       "      <td>18.806</td>\n",
       "      <td>16.532</td>\n",
       "      <td>...</td>\n",
       "      <td>15.237</td>\n",
       "      <td>15.652</td>\n",
       "      <td>15.211</td>\n",
       "      <td>14.205</td>\n",
       "      <td>16.749</td>\n",
       "      <td>19.275</td>\n",
       "      <td>15.732</td>\n",
       "      <td>19.577</td>\n",
       "      <td>11.042</td>\n",
       "      <td>11.791</td>\n",
       "    </tr>\n",
       "  </tbody>\n",
       "</table>\n",
       "<p>210 rows × 1213 columns</p>\n",
       "</div>"
      ],
      "text/plain": [
       "protein groups  A0A024QZX5;A0A087X1N8;P35237  A0A024R0T9;K7ER74;P02655  \\\n",
       "Sample ID                                                                \n",
       "Sample_000                            15.912                    16.852   \n",
       "Sample_001                            15.936                    16.874   \n",
       "Sample_002                            16.111                    14.523   \n",
       "Sample_003                            16.107                    17.032   \n",
       "Sample_004                            15.603                    15.331   \n",
       "...                                      ...                       ...   \n",
       "Sample_205                            15.682                    16.886   \n",
       "Sample_206                            15.798                    17.554   \n",
       "Sample_207                            15.739                    16.877   \n",
       "Sample_208                            15.477                    16.779   \n",
       "Sample_209                            15.727                    17.261   \n",
       "\n",
       "protein groups  A0A024R3W6;A0A024R412;O60462;O60462-2;O60462-3;O60462-4;O60462-5;Q7LBX6;X5D2Q8  \\\n",
       "Sample ID                                                                                        \n",
       "Sample_000                                                 15.570                                \n",
       "Sample_001                                                 15.519                                \n",
       "Sample_002                                                 15.935                                \n",
       "Sample_003                                                 15.802                                \n",
       "Sample_004                                                 15.375                                \n",
       "...                                                           ...                                \n",
       "Sample_205                                                 14.910                                \n",
       "Sample_206                                                 15.600                                \n",
       "Sample_207                                                 15.469                                \n",
       "Sample_208                                                 14.995                                \n",
       "Sample_209                                                 15.175                                \n",
       "\n",
       "protein groups  A0A024R644;A0A0A0MRU5;A0A1B0GWI2;O75503  A0A075B6H9  \\\n",
       "Sample ID                                                             \n",
       "Sample_000                                       16.481      20.246   \n",
       "Sample_001                                       16.387      19.941   \n",
       "Sample_002                                       16.416      19.251   \n",
       "Sample_003                                       16.979      19.628   \n",
       "Sample_004                                       16.679      20.450   \n",
       "...                                                 ...         ...   \n",
       "Sample_205                                       16.482      17.705   \n",
       "Sample_206                                       15.938      18.154   \n",
       "Sample_207                                       16.898      18.636   \n",
       "Sample_208                                       16.132      14.908   \n",
       "Sample_209                                       16.235      17.893   \n",
       "\n",
       "protein groups  A0A075B6I0  A0A075B6I1  A0A075B6I6  A0A075B6I9  A0A075B6J9  \\\n",
       "Sample ID                                                                    \n",
       "Sample_000          16.764      17.584      16.988      20.054      13.916   \n",
       "Sample_001          18.786      17.144      12.833      19.067      16.188   \n",
       "Sample_002          16.832      15.671      17.012      18.569      12.822   \n",
       "Sample_003          17.852      18.877      14.182      18.985      13.438   \n",
       "Sample_004          18.682      17.081      14.140      19.686      14.495   \n",
       "...                    ...         ...         ...         ...         ...   \n",
       "Sample_205          17.039      13.671      16.413      19.102      16.064   \n",
       "Sample_206          18.152      16.503      16.860      18.538      15.288   \n",
       "Sample_207          17.950      16.321      16.401      18.849      17.580   \n",
       "Sample_208          17.530      11.804      16.119      18.368      15.202   \n",
       "Sample_209          17.744      16.371      15.780      18.806      16.532   \n",
       "\n",
       "protein groups  ...  Q9Y653;Q9Y653-2;Q9Y653-3  Q9Y696  Q9Y6C2  Q9Y6N6  \\\n",
       "Sample ID       ...                                                     \n",
       "Sample_000      ...                    16.012  15.178  13.563  15.050   \n",
       "Sample_001      ...                    15.528  15.576  11.895  14.833   \n",
       "Sample_002      ...                    15.229  14.728  13.757  15.118   \n",
       "Sample_003      ...                    15.495  14.590  14.682  15.140   \n",
       "Sample_004      ...                    14.757  15.094  14.048  15.256   \n",
       "...             ...                       ...     ...     ...     ...   \n",
       "Sample_205      ...                    15.235  15.684  14.236  15.415   \n",
       "Sample_206      ...                    15.422  16.106  13.435  15.345   \n",
       "Sample_207      ...                    15.808  16.098  14.403  15.715   \n",
       "Sample_208      ...                    15.157  16.712  13.451  14.640   \n",
       "Sample_209      ...                    15.237  15.652  15.211  14.205   \n",
       "\n",
       "protein groups  Q9Y6N7;Q9Y6N7-2;Q9Y6N7-4  Q9Y6R7  Q9Y6X5  Q9Y6Y8;Q9Y6Y8-2  \\\n",
       "Sample ID                                                                   \n",
       "Sample_000                        16.842  19.863  12.485           19.563   \n",
       "Sample_001                        16.597  20.299  15.556           19.386   \n",
       "Sample_002                        17.440  19.598  15.735           20.447   \n",
       "Sample_003                        17.356  19.429  13.000           20.216   \n",
       "Sample_004                        17.075  19.582  15.328           19.867   \n",
       "...                                  ...     ...     ...              ...   \n",
       "Sample_205                        17.551  17.922  16.340           19.928   \n",
       "Sample_206                        17.084  18.708  14.249           19.433   \n",
       "Sample_207                        16.586  18.725  16.138           19.599   \n",
       "Sample_208                        16.533  19.411  15.807           19.545   \n",
       "Sample_209                        16.749  19.275  15.732           19.577   \n",
       "\n",
       "protein groups  Q9Y6Y9  S4R3U6  \n",
       "Sample ID                       \n",
       "Sample_000      12.837  12.805  \n",
       "Sample_001      13.970  12.442  \n",
       "Sample_002      12.636  12.505  \n",
       "Sample_003      12.627  12.445  \n",
       "Sample_004      13.145  12.235  \n",
       "...                ...     ...  \n",
       "Sample_205      12.929  11.802  \n",
       "Sample_206      13.161  13.755  \n",
       "Sample_207      13.637  11.174  \n",
       "Sample_208      13.216  12.043  \n",
       "Sample_209      11.042  11.791  \n",
       "\n",
       "[210 rows x 1213 columns]"
      ]
     },
     "execution_count": 12,
     "metadata": {},
     "output_type": "execute_result"
    }
   ],
   "source": [
    "# could be just observed, drop columns with missing values\n",
    "ald_study = pd.concat(\n",
    "    [ald_study.stack(),\n",
    "     pred_real_na_baseline.loc[\n",
    "        # only select columns in selected in ald_study\n",
    "        pd.IndexSlice[:, pred_real_na.index.levels[-1].intersection(ald_study.columns)]\n",
    "    ]\n",
    "    ]\n",
    ").unstack()\n",
    "ald_study"
   ]
  },
  {
   "cell_type": "markdown",
   "id": "f8c07f73",
   "metadata": {
    "papermill": {
     "duration": 0.014405,
     "end_time": "2024-05-30T11:06:29.227387",
     "exception": false,
     "start_time": "2024-05-30T11:06:29.212982",
     "status": "completed"
    },
    "tags": []
   },
   "source": [
    "Features which would not have been included using ALD criteria:"
   ]
  },
  {
   "cell_type": "code",
   "execution_count": 13,
   "id": "12b9d002",
   "metadata": {
    "execution": {
     "iopub.execute_input": "2024-05-30T11:06:29.296494Z",
     "iopub.status.busy": "2024-05-30T11:06:29.295950Z",
     "iopub.status.idle": "2024-05-30T11:06:29.302892Z",
     "shell.execute_reply": "2024-05-30T11:06:29.302172Z"
    },
    "papermill": {
     "duration": 0.045401,
     "end_time": "2024-05-30T11:06:29.307574",
     "exception": false,
     "start_time": "2024-05-30T11:06:29.262173",
     "status": "completed"
    },
    "tags": [
     "hide-input"
    ]
   },
   "outputs": [
    {
     "data": {
      "text/plain": [
       "Index(['A0A075B6H7', 'A0A075B6Q5', 'A0A075B7B8', 'A0A087WSY4',\n",
       "       'A0A087WTT8;A0A0A0MQX5;O94779;O94779-2', 'A0A087WXB8;Q9Y274',\n",
       "       'A0A087WXE9;E9PQ70;Q6UXH9;Q6UXH9-2;Q6UXH9-3',\n",
       "       'A0A087X1Z2;C9JTV4;H0Y4Y4;Q8WYH2;Q96C19;Q9BUP0;Q9BUP0-2',\n",
       "       'A0A0A0MQS9;A0A0A0MTC7;Q16363;Q16363-2', 'A0A0A0MSN4;P12821;P12821-2',\n",
       "       ...\n",
       "       'Q9NZ94;Q9NZ94-2;Q9NZ94-3', 'Q9NZU1', 'Q9P1W8;Q9P1W8-2;Q9P1W8-4',\n",
       "       'Q9UHI8', 'Q9UI40;Q9UI40-2',\n",
       "       'Q9UIB8;Q9UIB8-2;Q9UIB8-3;Q9UIB8-4;Q9UIB8-5;Q9UIB8-6',\n",
       "       'Q9UKZ4;Q9UKZ4-2', 'Q9UMX0;Q9UMX0-2;Q9UMX0-4', 'Q9Y281;Q9Y281-3',\n",
       "       'Q9Y490'],\n",
       "      dtype='object', name='protein groups', length=208)"
      ]
     },
     "execution_count": 13,
     "metadata": {},
     "output_type": "execute_result"
    }
   ],
   "source": [
    "new_features = X.columns.difference(ald_study.columns)\n",
    "new_features"
   ]
  },
  {
   "cell_type": "markdown",
   "id": "a8e67247-a2a1-4a2f-b838-0bdc9f40cfa9",
   "metadata": {
    "papermill": {
     "duration": 0.014725,
     "end_time": "2024-05-30T11:06:29.337808",
     "exception": false,
     "start_time": "2024-05-30T11:06:29.323083",
     "status": "completed"
    },
    "tags": []
   },
   "source": [
    "Binarize targets, but also keep groups for stratification"
   ]
  },
  {
   "cell_type": "code",
   "execution_count": 14,
   "id": "4aa1f404-427a-4e78-b98d-cb26bb1d1ec4",
   "metadata": {
    "execution": {
     "iopub.execute_input": "2024-05-30T11:06:29.385205Z",
     "iopub.status.busy": "2024-05-30T11:06:29.384323Z",
     "iopub.status.idle": "2024-05-30T11:06:29.404945Z",
     "shell.execute_reply": "2024-05-30T11:06:29.404174Z"
    },
    "papermill": {
     "duration": 0.038732,
     "end_time": "2024-05-30T11:06:29.406862",
     "exception": false,
     "start_time": "2024-05-30T11:06:29.368130",
     "status": "completed"
    },
    "tags": [
     "hide-input"
    ]
   },
   "outputs": [
    {
     "data": {
      "text/html": [
       "<div>\n",
       "<style scoped>\n",
       "    .dataframe tbody tr th:only-of-type {\n",
       "        vertical-align: middle;\n",
       "    }\n",
       "\n",
       "    .dataframe tbody tr th {\n",
       "        vertical-align: top;\n",
       "    }\n",
       "\n",
       "    .dataframe thead th {\n",
       "        text-align: right;\n",
       "    }\n",
       "</style>\n",
       "<table border=\"1\" class=\"dataframe\">\n",
       "  <thead>\n",
       "    <tr style=\"text-align: right;\">\n",
       "      <th>AD</th>\n",
       "      <th>0</th>\n",
       "      <th>1</th>\n",
       "    </tr>\n",
       "    <tr>\n",
       "      <th>AD</th>\n",
       "      <th></th>\n",
       "      <th></th>\n",
       "    </tr>\n",
       "  </thead>\n",
       "  <tbody>\n",
       "    <tr>\n",
       "      <th>False</th>\n",
       "      <td>122</td>\n",
       "      <td>0</td>\n",
       "    </tr>\n",
       "    <tr>\n",
       "      <th>True</th>\n",
       "      <td>0</td>\n",
       "      <td>88</td>\n",
       "    </tr>\n",
       "  </tbody>\n",
       "</table>\n",
       "</div>"
      ],
      "text/plain": [
       "AD      0  1\n",
       "AD          \n",
       "False 122  0\n",
       "True    0 88"
      ]
     },
     "execution_count": 14,
     "metadata": {},
     "output_type": "execute_result"
    }
   ],
   "source": [
    "target_to_group = target.copy()\n",
    "target = target >= args.cutoff_target\n",
    "pd.crosstab(target.squeeze(), target_to_group.squeeze())"
   ]
  },
  {
   "cell_type": "markdown",
   "id": "bfab754f",
   "metadata": {
    "papermill": {
     "duration": 0.014898,
     "end_time": "2024-05-30T11:06:29.436990",
     "exception": false,
     "start_time": "2024-05-30T11:06:29.422092",
     "status": "completed"
    },
    "tags": []
   },
   "source": [
    "## Determine best number of parameters by cross validation procedure\n",
    "\n",
    "using subset of data by ALD criteria:"
   ]
  },
  {
   "cell_type": "code",
   "execution_count": 15,
   "id": "90e410d1",
   "metadata": {
    "execution": {
     "iopub.execute_input": "2024-05-30T11:06:29.467973Z",
     "iopub.status.busy": "2024-05-30T11:06:29.467613Z",
     "iopub.status.idle": "2024-05-30T11:08:42.289881Z",
     "shell.execute_reply": "2024-05-30T11:08:42.289050Z"
    },
    "papermill": {
     "duration": 132.84008,
     "end_time": "2024-05-30T11:08:42.291833",
     "exception": false,
     "start_time": "2024-05-30T11:06:29.451753",
     "status": "completed"
    },
    "tags": [
     "hide-input"
    ]
   },
   "outputs": [
    {
     "name": "stderr",
     "output_type": "stream",
     "text": [
      "\r",
      "  0%|          | 0/1 [00:00<?, ?it/s]"
     ]
    },
    {
     "name": "stderr",
     "output_type": "stream",
     "text": [
      "\r",
      "100%|██████████| 1/1 [00:00<00:00, 293.86it/s]"
     ]
    },
    {
     "name": "stderr",
     "output_type": "stream",
     "text": [
      "\n"
     ]
    },
    {
     "name": "stderr",
     "output_type": "stream",
     "text": [
      "\r",
      "  0%|          | 0/2 [00:00<?, ?it/s]"
     ]
    },
    {
     "name": "stderr",
     "output_type": "stream",
     "text": [
      "\r",
      "100%|██████████| 2/2 [00:00<00:00,  6.33it/s]"
     ]
    },
    {
     "name": "stderr",
     "output_type": "stream",
     "text": [
      "\r",
      "100%|██████████| 2/2 [00:00<00:00,  6.31it/s]"
     ]
    },
    {
     "name": "stderr",
     "output_type": "stream",
     "text": [
      "\n"
     ]
    },
    {
     "name": "stderr",
     "output_type": "stream",
     "text": [
      "\r",
      "  0%|          | 0/3 [00:00<?, ?it/s]"
     ]
    },
    {
     "name": "stderr",
     "output_type": "stream",
     "text": [
      "\r",
      " 67%|██████▋   | 2/3 [00:00<00:00,  5.48it/s]"
     ]
    },
    {
     "name": "stderr",
     "output_type": "stream",
     "text": [
      "\r",
      "100%|██████████| 3/3 [00:00<00:00,  3.72it/s]"
     ]
    },
    {
     "name": "stderr",
     "output_type": "stream",
     "text": [
      "\r",
      "100%|██████████| 3/3 [00:00<00:00,  3.96it/s]"
     ]
    },
    {
     "name": "stderr",
     "output_type": "stream",
     "text": [
      "\n"
     ]
    },
    {
     "name": "stderr",
     "output_type": "stream",
     "text": [
      "\r",
      "  0%|          | 0/4 [00:00<?, ?it/s]"
     ]
    },
    {
     "name": "stderr",
     "output_type": "stream",
     "text": [
      "\r",
      " 50%|█████     | 2/4 [00:00<00:00,  6.21it/s]"
     ]
    },
    {
     "name": "stderr",
     "output_type": "stream",
     "text": [
      "\r",
      " 75%|███████▌  | 3/4 [00:00<00:00,  3.45it/s]"
     ]
    },
    {
     "name": "stderr",
     "output_type": "stream",
     "text": [
      "\r",
      "100%|██████████| 4/4 [00:01<00:00,  2.68it/s]"
     ]
    },
    {
     "name": "stderr",
     "output_type": "stream",
     "text": [
      "\r",
      "100%|██████████| 4/4 [00:01<00:00,  3.03it/s]"
     ]
    },
    {
     "name": "stderr",
     "output_type": "stream",
     "text": [
      "\n"
     ]
    },
    {
     "name": "stderr",
     "output_type": "stream",
     "text": [
      "\r",
      "  0%|          | 0/5 [00:00<?, ?it/s]"
     ]
    },
    {
     "name": "stderr",
     "output_type": "stream",
     "text": [
      "\r",
      " 40%|████      | 2/5 [00:00<00:00,  6.18it/s]"
     ]
    },
    {
     "name": "stderr",
     "output_type": "stream",
     "text": [
      "\r",
      " 60%|██████    | 3/5 [00:00<00:00,  4.47it/s]"
     ]
    },
    {
     "name": "stderr",
     "output_type": "stream",
     "text": [
      "\r",
      " 80%|████████  | 4/5 [00:00<00:00,  3.86it/s]"
     ]
    },
    {
     "name": "stderr",
     "output_type": "stream",
     "text": [
      "\r",
      "100%|██████████| 5/5 [00:01<00:00,  3.52it/s]"
     ]
    },
    {
     "name": "stderr",
     "output_type": "stream",
     "text": [
      "\r",
      "100%|██████████| 5/5 [00:01<00:00,  3.89it/s]"
     ]
    },
    {
     "name": "stderr",
     "output_type": "stream",
     "text": [
      "\n"
     ]
    },
    {
     "name": "stderr",
     "output_type": "stream",
     "text": [
      "\r",
      "  0%|          | 0/6 [00:00<?, ?it/s]"
     ]
    },
    {
     "name": "stderr",
     "output_type": "stream",
     "text": [
      "\r",
      " 33%|███▎      | 2/6 [00:00<00:00,  6.15it/s]"
     ]
    },
    {
     "name": "stderr",
     "output_type": "stream",
     "text": [
      "\r",
      " 50%|█████     | 3/6 [00:00<00:00,  4.28it/s]"
     ]
    },
    {
     "name": "stderr",
     "output_type": "stream",
     "text": [
      "\r",
      " 67%|██████▋   | 4/6 [00:01<00:00,  3.60it/s]"
     ]
    },
    {
     "name": "stderr",
     "output_type": "stream",
     "text": [
      "\r",
      " 83%|████████▎ | 5/6 [00:01<00:00,  3.21it/s]"
     ]
    },
    {
     "name": "stderr",
     "output_type": "stream",
     "text": [
      "\r",
      "100%|██████████| 6/6 [00:01<00:00,  3.10it/s]"
     ]
    },
    {
     "name": "stderr",
     "output_type": "stream",
     "text": [
      "\r",
      "100%|██████████| 6/6 [00:01<00:00,  3.46it/s]"
     ]
    },
    {
     "name": "stderr",
     "output_type": "stream",
     "text": [
      "\n"
     ]
    },
    {
     "name": "stderr",
     "output_type": "stream",
     "text": [
      "\r",
      "  0%|          | 0/7 [00:00<?, ?it/s]"
     ]
    },
    {
     "name": "stderr",
     "output_type": "stream",
     "text": [
      "\r",
      " 29%|██▊       | 2/7 [00:00<00:01,  4.25it/s]"
     ]
    },
    {
     "name": "stderr",
     "output_type": "stream",
     "text": [
      "\r",
      " 43%|████▎     | 3/7 [00:00<00:01,  3.60it/s]"
     ]
    },
    {
     "name": "stderr",
     "output_type": "stream",
     "text": [
      "\r",
      " 57%|█████▋    | 4/7 [00:01<00:00,  3.13it/s]"
     ]
    },
    {
     "name": "stderr",
     "output_type": "stream",
     "text": [
      "\r",
      " 71%|███████▏  | 5/7 [00:01<00:00,  3.14it/s]"
     ]
    },
    {
     "name": "stderr",
     "output_type": "stream",
     "text": [
      "\r",
      " 86%|████████▌ | 6/7 [00:01<00:00,  2.98it/s]"
     ]
    },
    {
     "name": "stderr",
     "output_type": "stream",
     "text": [
      "\r",
      "100%|██████████| 7/7 [00:02<00:00,  2.96it/s]"
     ]
    },
    {
     "name": "stderr",
     "output_type": "stream",
     "text": [
      "\r",
      "100%|██████████| 7/7 [00:02<00:00,  3.14it/s]"
     ]
    },
    {
     "name": "stderr",
     "output_type": "stream",
     "text": [
      "\n"
     ]
    },
    {
     "name": "stderr",
     "output_type": "stream",
     "text": [
      "\r",
      "  0%|          | 0/8 [00:00<?, ?it/s]"
     ]
    },
    {
     "name": "stderr",
     "output_type": "stream",
     "text": [
      "\r",
      " 25%|██▌       | 2/8 [00:00<00:01,  5.27it/s]"
     ]
    },
    {
     "name": "stderr",
     "output_type": "stream",
     "text": [
      "\r",
      " 38%|███▊      | 3/8 [00:00<00:01,  4.27it/s]"
     ]
    },
    {
     "name": "stderr",
     "output_type": "stream",
     "text": [
      "\r",
      " 50%|█████     | 4/8 [00:00<00:01,  3.89it/s]"
     ]
    },
    {
     "name": "stderr",
     "output_type": "stream",
     "text": [
      "\r",
      " 62%|██████▎   | 5/8 [00:01<00:00,  3.63it/s]"
     ]
    },
    {
     "name": "stderr",
     "output_type": "stream",
     "text": [
      "\r",
      " 75%|███████▌  | 6/8 [00:01<00:00,  3.39it/s]"
     ]
    },
    {
     "name": "stderr",
     "output_type": "stream",
     "text": [
      "\r",
      " 88%|████████▊ | 7/8 [00:01<00:00,  3.32it/s]"
     ]
    },
    {
     "name": "stderr",
     "output_type": "stream",
     "text": [
      "\r",
      "100%|██████████| 8/8 [00:02<00:00,  3.34it/s]"
     ]
    },
    {
     "name": "stderr",
     "output_type": "stream",
     "text": [
      "\r",
      "100%|██████████| 8/8 [00:02<00:00,  3.59it/s]"
     ]
    },
    {
     "name": "stderr",
     "output_type": "stream",
     "text": [
      "\n"
     ]
    },
    {
     "name": "stderr",
     "output_type": "stream",
     "text": [
      "\r",
      "  0%|          | 0/9 [00:00<?, ?it/s]"
     ]
    },
    {
     "name": "stderr",
     "output_type": "stream",
     "text": [
      "\r",
      " 22%|██▏       | 2/9 [00:00<00:01,  6.45it/s]"
     ]
    },
    {
     "name": "stderr",
     "output_type": "stream",
     "text": [
      "\r",
      " 33%|███▎      | 3/9 [00:00<00:01,  4.39it/s]"
     ]
    },
    {
     "name": "stderr",
     "output_type": "stream",
     "text": [
      "\r",
      " 44%|████▍     | 4/9 [00:01<00:01,  3.20it/s]"
     ]
    },
    {
     "name": "stderr",
     "output_type": "stream",
     "text": [
      "\r",
      " 56%|█████▌    | 5/9 [00:01<00:01,  2.59it/s]"
     ]
    },
    {
     "name": "stderr",
     "output_type": "stream",
     "text": [
      "\r",
      " 67%|██████▋   | 6/9 [00:02<00:01,  2.35it/s]"
     ]
    },
    {
     "name": "stderr",
     "output_type": "stream",
     "text": [
      "\r",
      " 78%|███████▊  | 7/9 [00:02<00:00,  2.31it/s]"
     ]
    },
    {
     "name": "stderr",
     "output_type": "stream",
     "text": [
      "\r",
      " 89%|████████▉ | 8/9 [00:03<00:00,  2.28it/s]"
     ]
    },
    {
     "name": "stderr",
     "output_type": "stream",
     "text": [
      "\r",
      "100%|██████████| 9/9 [00:03<00:00,  2.52it/s]"
     ]
    },
    {
     "name": "stderr",
     "output_type": "stream",
     "text": [
      "\r",
      "100%|██████████| 9/9 [00:03<00:00,  2.70it/s]"
     ]
    },
    {
     "name": "stderr",
     "output_type": "stream",
     "text": [
      "\n"
     ]
    },
    {
     "name": "stderr",
     "output_type": "stream",
     "text": [
      "\r",
      "  0%|          | 0/10 [00:00<?, ?it/s]"
     ]
    },
    {
     "name": "stderr",
     "output_type": "stream",
     "text": [
      "\r",
      " 20%|██        | 2/10 [00:00<00:02,  3.46it/s]"
     ]
    },
    {
     "name": "stderr",
     "output_type": "stream",
     "text": [
      "\r",
      " 30%|███       | 3/10 [00:01<00:02,  2.79it/s]"
     ]
    },
    {
     "name": "stderr",
     "output_type": "stream",
     "text": [
      "\r",
      " 40%|████      | 4/10 [00:01<00:02,  2.64it/s]"
     ]
    },
    {
     "name": "stderr",
     "output_type": "stream",
     "text": [
      "\r",
      " 50%|█████     | 5/10 [00:01<00:01,  2.65it/s]"
     ]
    },
    {
     "name": "stderr",
     "output_type": "stream",
     "text": [
      "\r",
      " 60%|██████    | 6/10 [00:02<00:01,  2.59it/s]"
     ]
    },
    {
     "name": "stderr",
     "output_type": "stream",
     "text": [
      "\r",
      " 70%|███████   | 7/10 [00:02<00:01,  2.65it/s]"
     ]
    },
    {
     "name": "stderr",
     "output_type": "stream",
     "text": [
      "\r",
      " 80%|████████  | 8/10 [00:02<00:00,  2.83it/s]"
     ]
    },
    {
     "name": "stderr",
     "output_type": "stream",
     "text": [
      "\r",
      " 90%|█████████ | 9/10 [00:03<00:00,  2.89it/s]"
     ]
    },
    {
     "name": "stderr",
     "output_type": "stream",
     "text": [
      "\r",
      "100%|██████████| 10/10 [00:03<00:00,  2.96it/s]"
     ]
    },
    {
     "name": "stderr",
     "output_type": "stream",
     "text": [
      "\r",
      "100%|██████████| 10/10 [00:03<00:00,  2.83it/s]"
     ]
    },
    {
     "name": "stderr",
     "output_type": "stream",
     "text": [
      "\n"
     ]
    },
    {
     "name": "stderr",
     "output_type": "stream",
     "text": [
      "\r",
      "  0%|          | 0/11 [00:00<?, ?it/s]"
     ]
    },
    {
     "name": "stderr",
     "output_type": "stream",
     "text": [
      "\r",
      " 18%|█▊        | 2/11 [00:00<00:01,  6.98it/s]"
     ]
    },
    {
     "name": "stderr",
     "output_type": "stream",
     "text": [
      "\r",
      " 27%|██▋       | 3/11 [00:00<00:02,  3.94it/s]"
     ]
    },
    {
     "name": "stderr",
     "output_type": "stream",
     "text": [
      "\r",
      " 36%|███▋      | 4/11 [00:01<00:02,  3.40it/s]"
     ]
    },
    {
     "name": "stderr",
     "output_type": "stream",
     "text": [
      "\r",
      " 45%|████▌     | 5/11 [00:01<00:01,  3.08it/s]"
     ]
    },
    {
     "name": "stderr",
     "output_type": "stream",
     "text": [
      "\r",
      " 55%|█████▍    | 6/11 [00:01<00:01,  2.94it/s]"
     ]
    },
    {
     "name": "stderr",
     "output_type": "stream",
     "text": [
      "\r",
      " 64%|██████▎   | 7/11 [00:02<00:01,  2.79it/s]"
     ]
    },
    {
     "name": "stderr",
     "output_type": "stream",
     "text": [
      "\r",
      " 73%|███████▎  | 8/11 [00:02<00:01,  2.75it/s]"
     ]
    },
    {
     "name": "stderr",
     "output_type": "stream",
     "text": [
      "\r",
      " 82%|████████▏ | 9/11 [00:02<00:00,  2.69it/s]"
     ]
    },
    {
     "name": "stderr",
     "output_type": "stream",
     "text": [
      "\r",
      " 91%|█████████ | 10/11 [00:03<00:00,  2.75it/s]"
     ]
    },
    {
     "name": "stderr",
     "output_type": "stream",
     "text": [
      "\r",
      "100%|██████████| 11/11 [00:03<00:00,  2.55it/s]"
     ]
    },
    {
     "name": "stderr",
     "output_type": "stream",
     "text": [
      "\r",
      "100%|██████████| 11/11 [00:03<00:00,  2.91it/s]"
     ]
    },
    {
     "name": "stderr",
     "output_type": "stream",
     "text": [
      "\n"
     ]
    },
    {
     "name": "stderr",
     "output_type": "stream",
     "text": [
      "\r",
      "  0%|          | 0/12 [00:00<?, ?it/s]"
     ]
    },
    {
     "name": "stderr",
     "output_type": "stream",
     "text": [
      "\r",
      " 17%|█▋        | 2/12 [00:00<00:01,  5.58it/s]"
     ]
    },
    {
     "name": "stderr",
     "output_type": "stream",
     "text": [
      "\r",
      " 25%|██▌       | 3/12 [00:00<00:02,  4.01it/s]"
     ]
    },
    {
     "name": "stderr",
     "output_type": "stream",
     "text": [
      "\r",
      " 33%|███▎      | 4/12 [00:01<00:02,  3.39it/s]"
     ]
    },
    {
     "name": "stderr",
     "output_type": "stream",
     "text": [
      "\r",
      " 42%|████▏     | 5/12 [00:01<00:02,  2.97it/s]"
     ]
    },
    {
     "name": "stderr",
     "output_type": "stream",
     "text": [
      "\r",
      " 50%|█████     | 6/12 [00:01<00:02,  2.86it/s]"
     ]
    },
    {
     "name": "stderr",
     "output_type": "stream",
     "text": [
      "\r",
      " 58%|█████▊    | 7/12 [00:02<00:01,  2.92it/s]"
     ]
    },
    {
     "name": "stderr",
     "output_type": "stream",
     "text": [
      "\r",
      " 67%|██████▋   | 8/12 [00:02<00:01,  2.80it/s]"
     ]
    },
    {
     "name": "stderr",
     "output_type": "stream",
     "text": [
      "\r",
      " 75%|███████▌  | 9/12 [00:03<00:01,  2.36it/s]"
     ]
    },
    {
     "name": "stderr",
     "output_type": "stream",
     "text": [
      "\r",
      " 83%|████████▎ | 10/12 [00:03<00:00,  2.09it/s]"
     ]
    },
    {
     "name": "stderr",
     "output_type": "stream",
     "text": [
      "\r",
      " 92%|█████████▏| 11/12 [00:04<00:00,  1.95it/s]"
     ]
    },
    {
     "name": "stderr",
     "output_type": "stream",
     "text": [
      "\r",
      "100%|██████████| 12/12 [00:04<00:00,  2.17it/s]"
     ]
    },
    {
     "name": "stderr",
     "output_type": "stream",
     "text": [
      "\r",
      "100%|██████████| 12/12 [00:04<00:00,  2.56it/s]"
     ]
    },
    {
     "name": "stderr",
     "output_type": "stream",
     "text": [
      "\n"
     ]
    },
    {
     "name": "stderr",
     "output_type": "stream",
     "text": [
      "\r",
      "  0%|          | 0/13 [00:00<?, ?it/s]"
     ]
    },
    {
     "name": "stderr",
     "output_type": "stream",
     "text": [
      "\r",
      " 15%|█▌        | 2/13 [00:00<00:02,  5.31it/s]"
     ]
    },
    {
     "name": "stderr",
     "output_type": "stream",
     "text": [
      "\r",
      " 23%|██▎       | 3/13 [00:00<00:02,  4.42it/s]"
     ]
    },
    {
     "name": "stderr",
     "output_type": "stream",
     "text": [
      "\r",
      " 31%|███       | 4/13 [00:01<00:02,  3.54it/s]"
     ]
    },
    {
     "name": "stderr",
     "output_type": "stream",
     "text": [
      "\r",
      " 38%|███▊      | 5/13 [00:01<00:02,  2.75it/s]"
     ]
    },
    {
     "name": "stderr",
     "output_type": "stream",
     "text": [
      "\r",
      " 46%|████▌     | 6/13 [00:02<00:03,  2.30it/s]"
     ]
    },
    {
     "name": "stderr",
     "output_type": "stream",
     "text": [
      "\r",
      " 54%|█████▍    | 7/13 [00:02<00:02,  2.17it/s]"
     ]
    },
    {
     "name": "stderr",
     "output_type": "stream",
     "text": [
      "\r",
      " 62%|██████▏   | 8/13 [00:03<00:02,  2.01it/s]"
     ]
    },
    {
     "name": "stderr",
     "output_type": "stream",
     "text": [
      "\r",
      " 69%|██████▉   | 9/13 [00:03<00:02,  1.91it/s]"
     ]
    },
    {
     "name": "stderr",
     "output_type": "stream",
     "text": [
      "\r",
      " 77%|███████▋  | 10/13 [00:04<00:01,  1.96it/s]"
     ]
    },
    {
     "name": "stderr",
     "output_type": "stream",
     "text": [
      "\r",
      " 85%|████████▍ | 11/13 [00:04<00:00,  2.10it/s]"
     ]
    },
    {
     "name": "stderr",
     "output_type": "stream",
     "text": [
      "\r",
      " 92%|█████████▏| 12/13 [00:05<00:00,  2.13it/s]"
     ]
    },
    {
     "name": "stderr",
     "output_type": "stream",
     "text": [
      "\r",
      "100%|██████████| 13/13 [00:05<00:00,  2.24it/s]"
     ]
    },
    {
     "name": "stderr",
     "output_type": "stream",
     "text": [
      "\r",
      "100%|██████████| 13/13 [00:05<00:00,  2.35it/s]"
     ]
    },
    {
     "name": "stderr",
     "output_type": "stream",
     "text": [
      "\n"
     ]
    },
    {
     "name": "stderr",
     "output_type": "stream",
     "text": [
      "\r",
      "  0%|          | 0/14 [00:00<?, ?it/s]"
     ]
    },
    {
     "name": "stderr",
     "output_type": "stream",
     "text": [
      "\r",
      " 14%|█▍        | 2/14 [00:00<00:03,  3.67it/s]"
     ]
    },
    {
     "name": "stderr",
     "output_type": "stream",
     "text": [
      "\r",
      " 21%|██▏       | 3/14 [00:01<00:04,  2.47it/s]"
     ]
    },
    {
     "name": "stderr",
     "output_type": "stream",
     "text": [
      "\r",
      " 29%|██▊       | 4/14 [00:01<00:03,  2.54it/s]"
     ]
    },
    {
     "name": "stderr",
     "output_type": "stream",
     "text": [
      "\r",
      " 36%|███▌      | 5/14 [00:01<00:03,  2.59it/s]"
     ]
    },
    {
     "name": "stderr",
     "output_type": "stream",
     "text": [
      "\r",
      " 43%|████▎     | 6/14 [00:02<00:03,  2.47it/s]"
     ]
    },
    {
     "name": "stderr",
     "output_type": "stream",
     "text": [
      "\r",
      " 50%|█████     | 7/14 [00:02<00:02,  2.43it/s]"
     ]
    },
    {
     "name": "stderr",
     "output_type": "stream",
     "text": [
      "\r",
      " 57%|█████▋    | 8/14 [00:03<00:02,  2.45it/s]"
     ]
    },
    {
     "name": "stderr",
     "output_type": "stream",
     "text": [
      "\r",
      " 64%|██████▍   | 9/14 [00:03<00:02,  2.37it/s]"
     ]
    },
    {
     "name": "stderr",
     "output_type": "stream",
     "text": [
      "\r",
      " 71%|███████▏  | 10/14 [00:04<00:01,  2.33it/s]"
     ]
    },
    {
     "name": "stderr",
     "output_type": "stream",
     "text": [
      "\r",
      " 79%|███████▊  | 11/14 [00:04<00:01,  2.43it/s]"
     ]
    },
    {
     "name": "stderr",
     "output_type": "stream",
     "text": [
      "\r",
      " 86%|████████▌ | 12/14 [00:04<00:00,  2.38it/s]"
     ]
    },
    {
     "name": "stderr",
     "output_type": "stream",
     "text": [
      "\r",
      " 93%|█████████▎| 13/14 [00:05<00:00,  2.49it/s]"
     ]
    },
    {
     "name": "stderr",
     "output_type": "stream",
     "text": [
      "\r",
      "100%|██████████| 14/14 [00:05<00:00,  2.59it/s]"
     ]
    },
    {
     "name": "stderr",
     "output_type": "stream",
     "text": [
      "\r",
      "100%|██████████| 14/14 [00:05<00:00,  2.51it/s]"
     ]
    },
    {
     "name": "stderr",
     "output_type": "stream",
     "text": [
      "\n"
     ]
    },
    {
     "name": "stderr",
     "output_type": "stream",
     "text": [
      "\r",
      "  0%|          | 0/15 [00:00<?, ?it/s]"
     ]
    },
    {
     "name": "stderr",
     "output_type": "stream",
     "text": [
      "\r",
      " 13%|█▎        | 2/15 [00:00<00:03,  3.45it/s]"
     ]
    },
    {
     "name": "stderr",
     "output_type": "stream",
     "text": [
      "\r",
      " 20%|██        | 3/15 [00:01<00:04,  2.79it/s]"
     ]
    },
    {
     "name": "stderr",
     "output_type": "stream",
     "text": [
      "\r",
      " 27%|██▋       | 4/15 [00:01<00:03,  2.96it/s]"
     ]
    },
    {
     "name": "stderr",
     "output_type": "stream",
     "text": [
      "\r",
      " 33%|███▎      | 5/15 [00:01<00:03,  2.77it/s]"
     ]
    },
    {
     "name": "stderr",
     "output_type": "stream",
     "text": [
      "\r",
      " 40%|████      | 6/15 [00:02<00:03,  2.62it/s]"
     ]
    },
    {
     "name": "stderr",
     "output_type": "stream",
     "text": [
      "\r",
      " 47%|████▋     | 7/15 [00:02<00:03,  2.50it/s]"
     ]
    },
    {
     "name": "stderr",
     "output_type": "stream",
     "text": [
      "\r",
      " 53%|█████▎    | 8/15 [00:03<00:02,  2.44it/s]"
     ]
    },
    {
     "name": "stderr",
     "output_type": "stream",
     "text": [
      "\r",
      " 60%|██████    | 9/15 [00:03<00:02,  2.41it/s]"
     ]
    },
    {
     "name": "stderr",
     "output_type": "stream",
     "text": [
      "\r",
      " 67%|██████▋   | 10/15 [00:03<00:01,  2.54it/s]"
     ]
    },
    {
     "name": "stderr",
     "output_type": "stream",
     "text": [
      "\r",
      " 73%|███████▎  | 11/15 [00:04<00:01,  2.65it/s]"
     ]
    },
    {
     "name": "stderr",
     "output_type": "stream",
     "text": [
      "\r",
      " 80%|████████  | 12/15 [00:04<00:01,  2.67it/s]"
     ]
    },
    {
     "name": "stderr",
     "output_type": "stream",
     "text": [
      "\r",
      " 87%|████████▋ | 13/15 [00:04<00:00,  2.61it/s]"
     ]
    },
    {
     "name": "stderr",
     "output_type": "stream",
     "text": [
      "\r",
      " 93%|█████████▎| 14/15 [00:05<00:00,  2.65it/s]"
     ]
    },
    {
     "name": "stderr",
     "output_type": "stream",
     "text": [
      "\r",
      "100%|██████████| 15/15 [00:05<00:00,  2.86it/s]"
     ]
    },
    {
     "name": "stderr",
     "output_type": "stream",
     "text": [
      "\r",
      "100%|██████████| 15/15 [00:05<00:00,  2.69it/s]"
     ]
    },
    {
     "name": "stderr",
     "output_type": "stream",
     "text": [
      "\n"
     ]
    },
    {
     "data": {
      "text/html": [
       "<div>\n",
       "<style scoped>\n",
       "    .dataframe tbody tr th:only-of-type {\n",
       "        vertical-align: middle;\n",
       "    }\n",
       "\n",
       "    .dataframe tbody tr th {\n",
       "        vertical-align: top;\n",
       "    }\n",
       "\n",
       "    .dataframe thead tr th {\n",
       "        text-align: left;\n",
       "    }\n",
       "\n",
       "    .dataframe thead tr:last-of-type th {\n",
       "        text-align: right;\n",
       "    }\n",
       "</style>\n",
       "<table border=\"1\" class=\"dataframe\">\n",
       "  <thead>\n",
       "    <tr>\n",
       "      <th></th>\n",
       "      <th colspan=\"2\" halign=\"left\">fit_time</th>\n",
       "      <th colspan=\"2\" halign=\"left\">score_time</th>\n",
       "      <th colspan=\"2\" halign=\"left\">test_precision</th>\n",
       "      <th colspan=\"2\" halign=\"left\">test_recall</th>\n",
       "      <th colspan=\"2\" halign=\"left\">test_f1</th>\n",
       "      <th colspan=\"2\" halign=\"left\">test_balanced_accuracy</th>\n",
       "      <th colspan=\"2\" halign=\"left\">test_roc_auc</th>\n",
       "      <th colspan=\"2\" halign=\"left\">test_average_precision</th>\n",
       "      <th colspan=\"2\" halign=\"left\">n_observations</th>\n",
       "    </tr>\n",
       "    <tr>\n",
       "      <th></th>\n",
       "      <th>mean</th>\n",
       "      <th>std</th>\n",
       "      <th>mean</th>\n",
       "      <th>std</th>\n",
       "      <th>mean</th>\n",
       "      <th>std</th>\n",
       "      <th>mean</th>\n",
       "      <th>std</th>\n",
       "      <th>mean</th>\n",
       "      <th>std</th>\n",
       "      <th>mean</th>\n",
       "      <th>std</th>\n",
       "      <th>mean</th>\n",
       "      <th>std</th>\n",
       "      <th>mean</th>\n",
       "      <th>std</th>\n",
       "      <th>mean</th>\n",
       "      <th>std</th>\n",
       "    </tr>\n",
       "    <tr>\n",
       "      <th>n_features</th>\n",
       "      <th></th>\n",
       "      <th></th>\n",
       "      <th></th>\n",
       "      <th></th>\n",
       "      <th></th>\n",
       "      <th></th>\n",
       "      <th></th>\n",
       "      <th></th>\n",
       "      <th></th>\n",
       "      <th></th>\n",
       "      <th></th>\n",
       "      <th></th>\n",
       "      <th></th>\n",
       "      <th></th>\n",
       "      <th></th>\n",
       "      <th></th>\n",
       "      <th></th>\n",
       "      <th></th>\n",
       "    </tr>\n",
       "  </thead>\n",
       "  <tbody>\n",
       "    <tr>\n",
       "      <th>1</th>\n",
       "      <td>0.005</td>\n",
       "      <td>0.004</td>\n",
       "      <td>0.068</td>\n",
       "      <td>0.035</td>\n",
       "      <td>0.735</td>\n",
       "      <td>0.369</td>\n",
       "      <td>0.110</td>\n",
       "      <td>0.086</td>\n",
       "      <td>0.184</td>\n",
       "      <td>0.130</td>\n",
       "      <td>0.547</td>\n",
       "      <td>0.041</td>\n",
       "      <td>0.854</td>\n",
       "      <td>0.069</td>\n",
       "      <td>0.826</td>\n",
       "      <td>0.093</td>\n",
       "      <td>210.000</td>\n",
       "      <td>0.000</td>\n",
       "    </tr>\n",
       "    <tr>\n",
       "      <th>2</th>\n",
       "      <td>0.007</td>\n",
       "      <td>0.007</td>\n",
       "      <td>0.072</td>\n",
       "      <td>0.032</td>\n",
       "      <td>0.755</td>\n",
       "      <td>0.097</td>\n",
       "      <td>0.619</td>\n",
       "      <td>0.111</td>\n",
       "      <td>0.675</td>\n",
       "      <td>0.087</td>\n",
       "      <td>0.735</td>\n",
       "      <td>0.062</td>\n",
       "      <td>0.800</td>\n",
       "      <td>0.070</td>\n",
       "      <td>0.777</td>\n",
       "      <td>0.088</td>\n",
       "      <td>210.000</td>\n",
       "      <td>0.000</td>\n",
       "    </tr>\n",
       "    <tr>\n",
       "      <th>3</th>\n",
       "      <td>0.005</td>\n",
       "      <td>0.004</td>\n",
       "      <td>0.064</td>\n",
       "      <td>0.022</td>\n",
       "      <td>0.739</td>\n",
       "      <td>0.099</td>\n",
       "      <td>0.623</td>\n",
       "      <td>0.114</td>\n",
       "      <td>0.669</td>\n",
       "      <td>0.085</td>\n",
       "      <td>0.729</td>\n",
       "      <td>0.061</td>\n",
       "      <td>0.795</td>\n",
       "      <td>0.073</td>\n",
       "      <td>0.772</td>\n",
       "      <td>0.088</td>\n",
       "      <td>210.000</td>\n",
       "      <td>0.000</td>\n",
       "    </tr>\n",
       "    <tr>\n",
       "      <th>4</th>\n",
       "      <td>0.006</td>\n",
       "      <td>0.006</td>\n",
       "      <td>0.090</td>\n",
       "      <td>0.033</td>\n",
       "      <td>0.775</td>\n",
       "      <td>0.086</td>\n",
       "      <td>0.724</td>\n",
       "      <td>0.112</td>\n",
       "      <td>0.745</td>\n",
       "      <td>0.087</td>\n",
       "      <td>0.785</td>\n",
       "      <td>0.069</td>\n",
       "      <td>0.866</td>\n",
       "      <td>0.061</td>\n",
       "      <td>0.851</td>\n",
       "      <td>0.070</td>\n",
       "      <td>210.000</td>\n",
       "      <td>0.000</td>\n",
       "    </tr>\n",
       "    <tr>\n",
       "      <th>5</th>\n",
       "      <td>0.007</td>\n",
       "      <td>0.006</td>\n",
       "      <td>0.082</td>\n",
       "      <td>0.033</td>\n",
       "      <td>0.802</td>\n",
       "      <td>0.090</td>\n",
       "      <td>0.775</td>\n",
       "      <td>0.115</td>\n",
       "      <td>0.784</td>\n",
       "      <td>0.088</td>\n",
       "      <td>0.817</td>\n",
       "      <td>0.072</td>\n",
       "      <td>0.868</td>\n",
       "      <td>0.067</td>\n",
       "      <td>0.863</td>\n",
       "      <td>0.068</td>\n",
       "      <td>210.000</td>\n",
       "      <td>0.000</td>\n",
       "    </tr>\n",
       "    <tr>\n",
       "      <th>6</th>\n",
       "      <td>0.005</td>\n",
       "      <td>0.004</td>\n",
       "      <td>0.065</td>\n",
       "      <td>0.021</td>\n",
       "      <td>0.791</td>\n",
       "      <td>0.093</td>\n",
       "      <td>0.762</td>\n",
       "      <td>0.117</td>\n",
       "      <td>0.772</td>\n",
       "      <td>0.090</td>\n",
       "      <td>0.807</td>\n",
       "      <td>0.073</td>\n",
       "      <td>0.865</td>\n",
       "      <td>0.067</td>\n",
       "      <td>0.859</td>\n",
       "      <td>0.070</td>\n",
       "      <td>210.000</td>\n",
       "      <td>0.000</td>\n",
       "    </tr>\n",
       "    <tr>\n",
       "      <th>7</th>\n",
       "      <td>0.007</td>\n",
       "      <td>0.007</td>\n",
       "      <td>0.075</td>\n",
       "      <td>0.029</td>\n",
       "      <td>0.790</td>\n",
       "      <td>0.094</td>\n",
       "      <td>0.753</td>\n",
       "      <td>0.123</td>\n",
       "      <td>0.767</td>\n",
       "      <td>0.094</td>\n",
       "      <td>0.803</td>\n",
       "      <td>0.076</td>\n",
       "      <td>0.864</td>\n",
       "      <td>0.067</td>\n",
       "      <td>0.857</td>\n",
       "      <td>0.070</td>\n",
       "      <td>210.000</td>\n",
       "      <td>0.000</td>\n",
       "    </tr>\n",
       "    <tr>\n",
       "      <th>8</th>\n",
       "      <td>0.006</td>\n",
       "      <td>0.005</td>\n",
       "      <td>0.072</td>\n",
       "      <td>0.025</td>\n",
       "      <td>0.827</td>\n",
       "      <td>0.089</td>\n",
       "      <td>0.812</td>\n",
       "      <td>0.098</td>\n",
       "      <td>0.815</td>\n",
       "      <td>0.075</td>\n",
       "      <td>0.841</td>\n",
       "      <td>0.065</td>\n",
       "      <td>0.891</td>\n",
       "      <td>0.062</td>\n",
       "      <td>0.882</td>\n",
       "      <td>0.070</td>\n",
       "      <td>210.000</td>\n",
       "      <td>0.000</td>\n",
       "    </tr>\n",
       "    <tr>\n",
       "      <th>9</th>\n",
       "      <td>0.006</td>\n",
       "      <td>0.004</td>\n",
       "      <td>0.058</td>\n",
       "      <td>0.023</td>\n",
       "      <td>0.818</td>\n",
       "      <td>0.078</td>\n",
       "      <td>0.805</td>\n",
       "      <td>0.104</td>\n",
       "      <td>0.808</td>\n",
       "      <td>0.074</td>\n",
       "      <td>0.836</td>\n",
       "      <td>0.063</td>\n",
       "      <td>0.891</td>\n",
       "      <td>0.062</td>\n",
       "      <td>0.884</td>\n",
       "      <td>0.066</td>\n",
       "      <td>210.000</td>\n",
       "      <td>0.000</td>\n",
       "    </tr>\n",
       "    <tr>\n",
       "      <th>10</th>\n",
       "      <td>0.005</td>\n",
       "      <td>0.005</td>\n",
       "      <td>0.064</td>\n",
       "      <td>0.026</td>\n",
       "      <td>0.805</td>\n",
       "      <td>0.076</td>\n",
       "      <td>0.836</td>\n",
       "      <td>0.099</td>\n",
       "      <td>0.817</td>\n",
       "      <td>0.073</td>\n",
       "      <td>0.844</td>\n",
       "      <td>0.064</td>\n",
       "      <td>0.907</td>\n",
       "      <td>0.052</td>\n",
       "      <td>0.899</td>\n",
       "      <td>0.054</td>\n",
       "      <td>210.000</td>\n",
       "      <td>0.000</td>\n",
       "    </tr>\n",
       "    <tr>\n",
       "      <th>11</th>\n",
       "      <td>0.005</td>\n",
       "      <td>0.004</td>\n",
       "      <td>0.065</td>\n",
       "      <td>0.026</td>\n",
       "      <td>0.799</td>\n",
       "      <td>0.080</td>\n",
       "      <td>0.833</td>\n",
       "      <td>0.098</td>\n",
       "      <td>0.813</td>\n",
       "      <td>0.073</td>\n",
       "      <td>0.839</td>\n",
       "      <td>0.063</td>\n",
       "      <td>0.905</td>\n",
       "      <td>0.054</td>\n",
       "      <td>0.896</td>\n",
       "      <td>0.056</td>\n",
       "      <td>210.000</td>\n",
       "      <td>0.000</td>\n",
       "    </tr>\n",
       "    <tr>\n",
       "      <th>12</th>\n",
       "      <td>0.005</td>\n",
       "      <td>0.004</td>\n",
       "      <td>0.052</td>\n",
       "      <td>0.020</td>\n",
       "      <td>0.799</td>\n",
       "      <td>0.083</td>\n",
       "      <td>0.830</td>\n",
       "      <td>0.101</td>\n",
       "      <td>0.811</td>\n",
       "      <td>0.075</td>\n",
       "      <td>0.838</td>\n",
       "      <td>0.065</td>\n",
       "      <td>0.904</td>\n",
       "      <td>0.054</td>\n",
       "      <td>0.894</td>\n",
       "      <td>0.057</td>\n",
       "      <td>210.000</td>\n",
       "      <td>0.000</td>\n",
       "    </tr>\n",
       "    <tr>\n",
       "      <th>13</th>\n",
       "      <td>0.005</td>\n",
       "      <td>0.001</td>\n",
       "      <td>0.053</td>\n",
       "      <td>0.014</td>\n",
       "      <td>0.803</td>\n",
       "      <td>0.084</td>\n",
       "      <td>0.831</td>\n",
       "      <td>0.103</td>\n",
       "      <td>0.813</td>\n",
       "      <td>0.074</td>\n",
       "      <td>0.840</td>\n",
       "      <td>0.063</td>\n",
       "      <td>0.903</td>\n",
       "      <td>0.054</td>\n",
       "      <td>0.892</td>\n",
       "      <td>0.058</td>\n",
       "      <td>210.000</td>\n",
       "      <td>0.000</td>\n",
       "    </tr>\n",
       "    <tr>\n",
       "      <th>14</th>\n",
       "      <td>0.004</td>\n",
       "      <td>0.002</td>\n",
       "      <td>0.053</td>\n",
       "      <td>0.017</td>\n",
       "      <td>0.791</td>\n",
       "      <td>0.083</td>\n",
       "      <td>0.805</td>\n",
       "      <td>0.099</td>\n",
       "      <td>0.795</td>\n",
       "      <td>0.073</td>\n",
       "      <td>0.824</td>\n",
       "      <td>0.062</td>\n",
       "      <td>0.905</td>\n",
       "      <td>0.052</td>\n",
       "      <td>0.890</td>\n",
       "      <td>0.059</td>\n",
       "      <td>210.000</td>\n",
       "      <td>0.000</td>\n",
       "    </tr>\n",
       "    <tr>\n",
       "      <th>15</th>\n",
       "      <td>0.006</td>\n",
       "      <td>0.004</td>\n",
       "      <td>0.068</td>\n",
       "      <td>0.024</td>\n",
       "      <td>0.787</td>\n",
       "      <td>0.078</td>\n",
       "      <td>0.804</td>\n",
       "      <td>0.100</td>\n",
       "      <td>0.792</td>\n",
       "      <td>0.073</td>\n",
       "      <td>0.822</td>\n",
       "      <td>0.062</td>\n",
       "      <td>0.903</td>\n",
       "      <td>0.052</td>\n",
       "      <td>0.888</td>\n",
       "      <td>0.058</td>\n",
       "      <td>210.000</td>\n",
       "      <td>0.000</td>\n",
       "    </tr>\n",
       "  </tbody>\n",
       "</table>\n",
       "</div>"
      ],
      "text/plain": [
       "           fit_time       score_time       test_precision       test_recall  \\\n",
       "               mean   std       mean   std           mean   std        mean   \n",
       "n_features                                                                    \n",
       "1             0.005 0.004      0.068 0.035          0.735 0.369       0.110   \n",
       "2             0.007 0.007      0.072 0.032          0.755 0.097       0.619   \n",
       "3             0.005 0.004      0.064 0.022          0.739 0.099       0.623   \n",
       "4             0.006 0.006      0.090 0.033          0.775 0.086       0.724   \n",
       "5             0.007 0.006      0.082 0.033          0.802 0.090       0.775   \n",
       "6             0.005 0.004      0.065 0.021          0.791 0.093       0.762   \n",
       "7             0.007 0.007      0.075 0.029          0.790 0.094       0.753   \n",
       "8             0.006 0.005      0.072 0.025          0.827 0.089       0.812   \n",
       "9             0.006 0.004      0.058 0.023          0.818 0.078       0.805   \n",
       "10            0.005 0.005      0.064 0.026          0.805 0.076       0.836   \n",
       "11            0.005 0.004      0.065 0.026          0.799 0.080       0.833   \n",
       "12            0.005 0.004      0.052 0.020          0.799 0.083       0.830   \n",
       "13            0.005 0.001      0.053 0.014          0.803 0.084       0.831   \n",
       "14            0.004 0.002      0.053 0.017          0.791 0.083       0.805   \n",
       "15            0.006 0.004      0.068 0.024          0.787 0.078       0.804   \n",
       "\n",
       "                 test_f1       test_balanced_accuracy       test_roc_auc  \\\n",
       "             std    mean   std                   mean   std         mean   \n",
       "n_features                                                                 \n",
       "1          0.086   0.184 0.130                  0.547 0.041        0.854   \n",
       "2          0.111   0.675 0.087                  0.735 0.062        0.800   \n",
       "3          0.114   0.669 0.085                  0.729 0.061        0.795   \n",
       "4          0.112   0.745 0.087                  0.785 0.069        0.866   \n",
       "5          0.115   0.784 0.088                  0.817 0.072        0.868   \n",
       "6          0.117   0.772 0.090                  0.807 0.073        0.865   \n",
       "7          0.123   0.767 0.094                  0.803 0.076        0.864   \n",
       "8          0.098   0.815 0.075                  0.841 0.065        0.891   \n",
       "9          0.104   0.808 0.074                  0.836 0.063        0.891   \n",
       "10         0.099   0.817 0.073                  0.844 0.064        0.907   \n",
       "11         0.098   0.813 0.073                  0.839 0.063        0.905   \n",
       "12         0.101   0.811 0.075                  0.838 0.065        0.904   \n",
       "13         0.103   0.813 0.074                  0.840 0.063        0.903   \n",
       "14         0.099   0.795 0.073                  0.824 0.062        0.905   \n",
       "15         0.100   0.792 0.073                  0.822 0.062        0.903   \n",
       "\n",
       "                 test_average_precision       n_observations        \n",
       "             std                   mean   std           mean   std  \n",
       "n_features                                                          \n",
       "1          0.069                  0.826 0.093        210.000 0.000  \n",
       "2          0.070                  0.777 0.088        210.000 0.000  \n",
       "3          0.073                  0.772 0.088        210.000 0.000  \n",
       "4          0.061                  0.851 0.070        210.000 0.000  \n",
       "5          0.067                  0.863 0.068        210.000 0.000  \n",
       "6          0.067                  0.859 0.070        210.000 0.000  \n",
       "7          0.067                  0.857 0.070        210.000 0.000  \n",
       "8          0.062                  0.882 0.070        210.000 0.000  \n",
       "9          0.062                  0.884 0.066        210.000 0.000  \n",
       "10         0.052                  0.899 0.054        210.000 0.000  \n",
       "11         0.054                  0.896 0.056        210.000 0.000  \n",
       "12         0.054                  0.894 0.057        210.000 0.000  \n",
       "13         0.054                  0.892 0.058        210.000 0.000  \n",
       "14         0.052                  0.890 0.059        210.000 0.000  \n",
       "15         0.052                  0.888 0.058        210.000 0.000  "
      ]
     },
     "execution_count": 15,
     "metadata": {},
     "output_type": "execute_result"
    }
   ],
   "source": [
    "cv_feat_ald = njab.sklearn.find_n_best_features(X=ald_study, y=target, name=args.target,\n",
    "                                                groups=target_to_group)\n",
    "cv_feat_ald = (cv_feat_ald\n",
    "               .drop('test_case', axis=1)\n",
    "               .groupby('n_features')\n",
    "               .agg(['mean', 'std']))\n",
    "cv_feat_ald"
   ]
  },
  {
   "cell_type": "markdown",
   "id": "b40fb391",
   "metadata": {
    "papermill": {
     "duration": 0.026048,
     "end_time": "2024-05-30T11:08:42.344692",
     "exception": false,
     "start_time": "2024-05-30T11:08:42.318644",
     "status": "completed"
    },
    "tags": []
   },
   "source": [
    "Using all data:"
   ]
  },
  {
   "cell_type": "code",
   "execution_count": 16,
   "id": "988dea31",
   "metadata": {
    "execution": {
     "iopub.execute_input": "2024-05-30T11:08:42.398990Z",
     "iopub.status.busy": "2024-05-30T11:08:42.398634Z",
     "iopub.status.idle": "2024-05-30T11:10:44.217044Z",
     "shell.execute_reply": "2024-05-30T11:10:44.216229Z"
    },
    "papermill": {
     "duration": 121.847908,
     "end_time": "2024-05-30T11:10:44.219050",
     "exception": false,
     "start_time": "2024-05-30T11:08:42.371142",
     "status": "completed"
    },
    "tags": [
     "hide-input"
    ]
   },
   "outputs": [
    {
     "name": "stderr",
     "output_type": "stream",
     "text": [
      "\r",
      "  0%|          | 0/1 [00:00<?, ?it/s]"
     ]
    },
    {
     "name": "stderr",
     "output_type": "stream",
     "text": [
      "\r",
      "100%|██████████| 1/1 [00:00<00:00, 60.84it/s]"
     ]
    },
    {
     "name": "stderr",
     "output_type": "stream",
     "text": [
      "\n"
     ]
    },
    {
     "name": "stderr",
     "output_type": "stream",
     "text": [
      "\r",
      "  0%|          | 0/2 [00:00<?, ?it/s]"
     ]
    },
    {
     "name": "stderr",
     "output_type": "stream",
     "text": [
      "\r",
      "100%|██████████| 2/2 [00:00<00:00,  3.32it/s]"
     ]
    },
    {
     "name": "stderr",
     "output_type": "stream",
     "text": [
      "\r",
      "100%|██████████| 2/2 [00:00<00:00,  3.24it/s]"
     ]
    },
    {
     "name": "stderr",
     "output_type": "stream",
     "text": [
      "\n"
     ]
    },
    {
     "name": "stderr",
     "output_type": "stream",
     "text": [
      "\r",
      "  0%|          | 0/3 [00:00<?, ?it/s]"
     ]
    },
    {
     "name": "stderr",
     "output_type": "stream",
     "text": [
      "\r",
      " 67%|██████▋   | 2/3 [00:00<00:00,  4.64it/s]"
     ]
    },
    {
     "name": "stderr",
     "output_type": "stream",
     "text": [
      "\r",
      "100%|██████████| 3/3 [00:00<00:00,  3.37it/s]"
     ]
    },
    {
     "name": "stderr",
     "output_type": "stream",
     "text": [
      "\r",
      "100%|██████████| 3/3 [00:00<00:00,  3.56it/s]"
     ]
    },
    {
     "name": "stderr",
     "output_type": "stream",
     "text": [
      "\n"
     ]
    },
    {
     "name": "stderr",
     "output_type": "stream",
     "text": [
      "\r",
      "  0%|          | 0/4 [00:00<?, ?it/s]"
     ]
    },
    {
     "name": "stderr",
     "output_type": "stream",
     "text": [
      "\r",
      " 50%|█████     | 2/4 [00:00<00:00,  4.59it/s]"
     ]
    },
    {
     "name": "stderr",
     "output_type": "stream",
     "text": [
      "\r",
      " 75%|███████▌  | 3/4 [00:00<00:00,  3.19it/s]"
     ]
    },
    {
     "name": "stderr",
     "output_type": "stream",
     "text": [
      "\r",
      "100%|██████████| 4/4 [00:01<00:00,  2.86it/s]"
     ]
    },
    {
     "name": "stderr",
     "output_type": "stream",
     "text": [
      "\r",
      "100%|██████████| 4/4 [00:01<00:00,  3.09it/s]"
     ]
    },
    {
     "name": "stderr",
     "output_type": "stream",
     "text": [
      "\n"
     ]
    },
    {
     "name": "stderr",
     "output_type": "stream",
     "text": [
      "\r",
      "  0%|          | 0/5 [00:00<?, ?it/s]"
     ]
    },
    {
     "name": "stderr",
     "output_type": "stream",
     "text": [
      "\r",
      " 40%|████      | 2/5 [00:00<00:00,  4.79it/s]"
     ]
    },
    {
     "name": "stderr",
     "output_type": "stream",
     "text": [
      "\r",
      " 60%|██████    | 3/5 [00:01<00:00,  2.65it/s]"
     ]
    },
    {
     "name": "stderr",
     "output_type": "stream",
     "text": [
      "\r",
      " 80%|████████  | 4/5 [00:01<00:00,  2.19it/s]"
     ]
    },
    {
     "name": "stderr",
     "output_type": "stream",
     "text": [
      "\r",
      "100%|██████████| 5/5 [00:02<00:00,  2.00it/s]"
     ]
    },
    {
     "name": "stderr",
     "output_type": "stream",
     "text": [
      "\r",
      "100%|██████████| 5/5 [00:02<00:00,  2.27it/s]"
     ]
    },
    {
     "name": "stderr",
     "output_type": "stream",
     "text": [
      "\n"
     ]
    },
    {
     "name": "stderr",
     "output_type": "stream",
     "text": [
      "\r",
      "  0%|          | 0/6 [00:00<?, ?it/s]"
     ]
    },
    {
     "name": "stderr",
     "output_type": "stream",
     "text": [
      "\r",
      " 33%|███▎      | 2/6 [00:00<00:00,  4.73it/s]"
     ]
    },
    {
     "name": "stderr",
     "output_type": "stream",
     "text": [
      "\r",
      " 50%|█████     | 3/6 [00:00<00:00,  3.46it/s]"
     ]
    },
    {
     "name": "stderr",
     "output_type": "stream",
     "text": [
      "\r",
      " 67%|██████▋   | 4/6 [00:01<00:00,  3.16it/s]"
     ]
    },
    {
     "name": "stderr",
     "output_type": "stream",
     "text": [
      "\r",
      " 83%|████████▎ | 5/6 [00:01<00:00,  3.09it/s]"
     ]
    },
    {
     "name": "stderr",
     "output_type": "stream",
     "text": [
      "\r",
      "100%|██████████| 6/6 [00:02<00:00,  2.62it/s]"
     ]
    },
    {
     "name": "stderr",
     "output_type": "stream",
     "text": [
      "\r",
      "100%|██████████| 6/6 [00:02<00:00,  2.97it/s]"
     ]
    },
    {
     "name": "stderr",
     "output_type": "stream",
     "text": [
      "\n"
     ]
    },
    {
     "name": "stderr",
     "output_type": "stream",
     "text": [
      "\r",
      "  0%|          | 0/7 [00:00<?, ?it/s]"
     ]
    },
    {
     "name": "stderr",
     "output_type": "stream",
     "text": [
      "\r",
      " 29%|██▊       | 2/7 [00:00<00:00,  5.54it/s]"
     ]
    },
    {
     "name": "stderr",
     "output_type": "stream",
     "text": [
      "\r",
      " 43%|████▎     | 3/7 [00:00<00:01,  3.63it/s]"
     ]
    },
    {
     "name": "stderr",
     "output_type": "stream",
     "text": [
      "\r",
      " 57%|█████▋    | 4/7 [00:01<00:00,  3.08it/s]"
     ]
    },
    {
     "name": "stderr",
     "output_type": "stream",
     "text": [
      "\r",
      " 71%|███████▏  | 5/7 [00:01<00:00,  2.90it/s]"
     ]
    },
    {
     "name": "stderr",
     "output_type": "stream",
     "text": [
      "\r",
      " 86%|████████▌ | 6/7 [00:01<00:00,  2.71it/s]"
     ]
    },
    {
     "name": "stderr",
     "output_type": "stream",
     "text": [
      "\r",
      "100%|██████████| 7/7 [00:02<00:00,  2.62it/s]"
     ]
    },
    {
     "name": "stderr",
     "output_type": "stream",
     "text": [
      "\r",
      "100%|██████████| 7/7 [00:02<00:00,  2.93it/s]"
     ]
    },
    {
     "name": "stderr",
     "output_type": "stream",
     "text": [
      "\n"
     ]
    },
    {
     "name": "stderr",
     "output_type": "stream",
     "text": [
      "\r",
      "  0%|          | 0/8 [00:00<?, ?it/s]"
     ]
    },
    {
     "name": "stderr",
     "output_type": "stream",
     "text": [
      "\r",
      " 25%|██▌       | 2/8 [00:00<00:02,  2.93it/s]"
     ]
    },
    {
     "name": "stderr",
     "output_type": "stream",
     "text": [
      "\r",
      " 38%|███▊      | 3/8 [00:01<00:02,  2.40it/s]"
     ]
    },
    {
     "name": "stderr",
     "output_type": "stream",
     "text": [
      "\r",
      " 50%|█████     | 4/8 [00:01<00:01,  2.35it/s]"
     ]
    },
    {
     "name": "stderr",
     "output_type": "stream",
     "text": [
      "\r",
      " 62%|██████▎   | 5/8 [00:02<00:01,  2.37it/s]"
     ]
    },
    {
     "name": "stderr",
     "output_type": "stream",
     "text": [
      "\r",
      " 75%|███████▌  | 6/8 [00:02<00:00,  2.41it/s]"
     ]
    },
    {
     "name": "stderr",
     "output_type": "stream",
     "text": [
      "\r",
      " 88%|████████▊ | 7/8 [00:02<00:00,  2.49it/s]"
     ]
    },
    {
     "name": "stderr",
     "output_type": "stream",
     "text": [
      "\r",
      "100%|██████████| 8/8 [00:03<00:00,  2.47it/s]"
     ]
    },
    {
     "name": "stderr",
     "output_type": "stream",
     "text": [
      "\r",
      "100%|██████████| 8/8 [00:03<00:00,  2.46it/s]"
     ]
    },
    {
     "name": "stderr",
     "output_type": "stream",
     "text": [
      "\n"
     ]
    },
    {
     "name": "stderr",
     "output_type": "stream",
     "text": [
      "\r",
      "  0%|          | 0/9 [00:00<?, ?it/s]"
     ]
    },
    {
     "name": "stderr",
     "output_type": "stream",
     "text": [
      "\r",
      " 22%|██▏       | 2/9 [00:00<00:01,  5.87it/s]"
     ]
    },
    {
     "name": "stderr",
     "output_type": "stream",
     "text": [
      "\r",
      " 33%|███▎      | 3/9 [00:00<00:01,  3.82it/s]"
     ]
    },
    {
     "name": "stderr",
     "output_type": "stream",
     "text": [
      "\r",
      " 44%|████▍     | 4/9 [00:01<00:01,  3.35it/s]"
     ]
    },
    {
     "name": "stderr",
     "output_type": "stream",
     "text": [
      "\r",
      " 56%|█████▌    | 5/9 [00:01<00:01,  2.61it/s]"
     ]
    },
    {
     "name": "stderr",
     "output_type": "stream",
     "text": [
      "\r",
      " 67%|██████▋   | 6/9 [00:02<00:01,  2.60it/s]"
     ]
    },
    {
     "name": "stderr",
     "output_type": "stream",
     "text": [
      "\r",
      " 78%|███████▊  | 7/9 [00:02<00:00,  2.69it/s]"
     ]
    },
    {
     "name": "stderr",
     "output_type": "stream",
     "text": [
      "\r",
      " 89%|████████▉ | 8/9 [00:02<00:00,  2.48it/s]"
     ]
    },
    {
     "name": "stderr",
     "output_type": "stream",
     "text": [
      "\r",
      "100%|██████████| 9/9 [00:03<00:00,  2.66it/s]"
     ]
    },
    {
     "name": "stderr",
     "output_type": "stream",
     "text": [
      "\r",
      "100%|██████████| 9/9 [00:03<00:00,  2.85it/s]"
     ]
    },
    {
     "name": "stderr",
     "output_type": "stream",
     "text": [
      "\n"
     ]
    },
    {
     "name": "stderr",
     "output_type": "stream",
     "text": [
      "\r",
      "  0%|          | 0/10 [00:00<?, ?it/s]"
     ]
    },
    {
     "name": "stderr",
     "output_type": "stream",
     "text": [
      "\r",
      " 20%|██        | 2/10 [00:00<00:01,  6.03it/s]"
     ]
    },
    {
     "name": "stderr",
     "output_type": "stream",
     "text": [
      "\r",
      " 30%|███       | 3/10 [00:00<00:01,  4.08it/s]"
     ]
    },
    {
     "name": "stderr",
     "output_type": "stream",
     "text": [
      "\r",
      " 40%|████      | 4/10 [00:01<00:01,  3.57it/s]"
     ]
    },
    {
     "name": "stderr",
     "output_type": "stream",
     "text": [
      "\r",
      " 50%|█████     | 5/10 [00:01<00:01,  3.36it/s]"
     ]
    },
    {
     "name": "stderr",
     "output_type": "stream",
     "text": [
      "\r",
      " 60%|██████    | 6/10 [00:01<00:01,  3.17it/s]"
     ]
    },
    {
     "name": "stderr",
     "output_type": "stream",
     "text": [
      "\r",
      " 70%|███████   | 7/10 [00:02<00:01,  2.79it/s]"
     ]
    },
    {
     "name": "stderr",
     "output_type": "stream",
     "text": [
      "\r",
      " 80%|████████  | 8/10 [00:02<00:00,  2.50it/s]"
     ]
    },
    {
     "name": "stderr",
     "output_type": "stream",
     "text": [
      "\r",
      " 90%|█████████ | 9/10 [00:03<00:00,  2.48it/s]"
     ]
    },
    {
     "name": "stderr",
     "output_type": "stream",
     "text": [
      "\r",
      "100%|██████████| 10/10 [00:03<00:00,  2.57it/s]"
     ]
    },
    {
     "name": "stderr",
     "output_type": "stream",
     "text": [
      "\r",
      "100%|██████████| 10/10 [00:03<00:00,  2.93it/s]"
     ]
    },
    {
     "name": "stderr",
     "output_type": "stream",
     "text": [
      "\n"
     ]
    },
    {
     "name": "stderr",
     "output_type": "stream",
     "text": [
      "\r",
      "  0%|          | 0/11 [00:00<?, ?it/s]"
     ]
    },
    {
     "name": "stderr",
     "output_type": "stream",
     "text": [
      "\r",
      " 18%|█▊        | 2/11 [00:00<00:01,  5.65it/s]"
     ]
    },
    {
     "name": "stderr",
     "output_type": "stream",
     "text": [
      "\r",
      " 27%|██▋       | 3/11 [00:00<00:01,  4.29it/s]"
     ]
    },
    {
     "name": "stderr",
     "output_type": "stream",
     "text": [
      "\r",
      " 36%|███▋      | 4/11 [00:01<00:01,  3.51it/s]"
     ]
    },
    {
     "name": "stderr",
     "output_type": "stream",
     "text": [
      "\r",
      " 45%|████▌     | 5/11 [00:01<00:01,  3.32it/s]"
     ]
    },
    {
     "name": "stderr",
     "output_type": "stream",
     "text": [
      "\r",
      " 55%|█████▍    | 6/11 [00:01<00:01,  3.18it/s]"
     ]
    },
    {
     "name": "stderr",
     "output_type": "stream",
     "text": [
      "\r",
      " 64%|██████▎   | 7/11 [00:02<00:01,  2.93it/s]"
     ]
    },
    {
     "name": "stderr",
     "output_type": "stream",
     "text": [
      "\r",
      " 73%|███████▎  | 8/11 [00:02<00:01,  2.75it/s]"
     ]
    },
    {
     "name": "stderr",
     "output_type": "stream",
     "text": [
      "\r",
      " 82%|████████▏ | 9/11 [00:02<00:00,  2.70it/s]"
     ]
    },
    {
     "name": "stderr",
     "output_type": "stream",
     "text": [
      "\r",
      " 91%|█████████ | 10/11 [00:03<00:00,  2.68it/s]"
     ]
    },
    {
     "name": "stderr",
     "output_type": "stream",
     "text": [
      "\r",
      "100%|██████████| 11/11 [00:03<00:00,  2.33it/s]"
     ]
    },
    {
     "name": "stderr",
     "output_type": "stream",
     "text": [
      "\r",
      "100%|██████████| 11/11 [00:03<00:00,  2.86it/s]"
     ]
    },
    {
     "name": "stderr",
     "output_type": "stream",
     "text": [
      "\n"
     ]
    },
    {
     "name": "stderr",
     "output_type": "stream",
     "text": [
      "\r",
      "  0%|          | 0/12 [00:00<?, ?it/s]"
     ]
    },
    {
     "name": "stderr",
     "output_type": "stream",
     "text": [
      "\r",
      " 17%|█▋        | 2/12 [00:00<00:03,  3.18it/s]"
     ]
    },
    {
     "name": "stderr",
     "output_type": "stream",
     "text": [
      "\r",
      " 25%|██▌       | 3/12 [00:01<00:03,  2.34it/s]"
     ]
    },
    {
     "name": "stderr",
     "output_type": "stream",
     "text": [
      "\r",
      " 33%|███▎      | 4/12 [00:01<00:03,  2.22it/s]"
     ]
    },
    {
     "name": "stderr",
     "output_type": "stream",
     "text": [
      "\r",
      " 42%|████▏     | 5/12 [00:02<00:03,  2.04it/s]"
     ]
    },
    {
     "name": "stderr",
     "output_type": "stream",
     "text": [
      "\r",
      " 50%|█████     | 6/12 [00:02<00:02,  2.09it/s]"
     ]
    },
    {
     "name": "stderr",
     "output_type": "stream",
     "text": [
      "\r",
      " 58%|█████▊    | 7/12 [00:03<00:02,  2.12it/s]"
     ]
    },
    {
     "name": "stderr",
     "output_type": "stream",
     "text": [
      "\r",
      " 67%|██████▋   | 8/12 [00:03<00:01,  2.15it/s]"
     ]
    },
    {
     "name": "stderr",
     "output_type": "stream",
     "text": [
      "\r",
      " 75%|███████▌  | 9/12 [00:04<00:01,  2.18it/s]"
     ]
    },
    {
     "name": "stderr",
     "output_type": "stream",
     "text": [
      "\r",
      " 83%|████████▎ | 10/12 [00:04<00:00,  2.30it/s]"
     ]
    },
    {
     "name": "stderr",
     "output_type": "stream",
     "text": [
      "\r",
      " 92%|█████████▏| 11/12 [00:04<00:00,  2.34it/s]"
     ]
    },
    {
     "name": "stderr",
     "output_type": "stream",
     "text": [
      "\r",
      "100%|██████████| 12/12 [00:05<00:00,  2.34it/s]"
     ]
    },
    {
     "name": "stderr",
     "output_type": "stream",
     "text": [
      "\r",
      "100%|██████████| 12/12 [00:05<00:00,  2.26it/s]"
     ]
    },
    {
     "name": "stderr",
     "output_type": "stream",
     "text": [
      "\n"
     ]
    },
    {
     "name": "stderr",
     "output_type": "stream",
     "text": [
      "\r",
      "  0%|          | 0/13 [00:00<?, ?it/s]"
     ]
    },
    {
     "name": "stderr",
     "output_type": "stream",
     "text": [
      "\r",
      " 15%|█▌        | 2/13 [00:00<00:02,  4.83it/s]"
     ]
    },
    {
     "name": "stderr",
     "output_type": "stream",
     "text": [
      "\r",
      " 23%|██▎       | 3/13 [00:00<00:02,  3.57it/s]"
     ]
    },
    {
     "name": "stderr",
     "output_type": "stream",
     "text": [
      "\r",
      " 31%|███       | 4/13 [00:01<00:03,  2.77it/s]"
     ]
    },
    {
     "name": "stderr",
     "output_type": "stream",
     "text": [
      "\r",
      " 38%|███▊      | 5/13 [00:01<00:03,  2.46it/s]"
     ]
    },
    {
     "name": "stderr",
     "output_type": "stream",
     "text": [
      "\r",
      " 46%|████▌     | 6/13 [00:02<00:02,  2.42it/s]"
     ]
    },
    {
     "name": "stderr",
     "output_type": "stream",
     "text": [
      "\r",
      " 54%|█████▍    | 7/13 [00:02<00:02,  2.34it/s]"
     ]
    },
    {
     "name": "stderr",
     "output_type": "stream",
     "text": [
      "\r",
      " 62%|██████▏   | 8/13 [00:03<00:02,  2.28it/s]"
     ]
    },
    {
     "name": "stderr",
     "output_type": "stream",
     "text": [
      "\r",
      " 69%|██████▉   | 9/13 [00:03<00:01,  2.34it/s]"
     ]
    },
    {
     "name": "stderr",
     "output_type": "stream",
     "text": [
      "\r",
      " 77%|███████▋  | 10/13 [00:03<00:01,  2.42it/s]"
     ]
    },
    {
     "name": "stderr",
     "output_type": "stream",
     "text": [
      "\r",
      " 85%|████████▍ | 11/13 [00:04<00:00,  2.54it/s]"
     ]
    },
    {
     "name": "stderr",
     "output_type": "stream",
     "text": [
      "\r",
      " 92%|█████████▏| 12/13 [00:04<00:00,  2.62it/s]"
     ]
    },
    {
     "name": "stderr",
     "output_type": "stream",
     "text": [
      "\r",
      "100%|██████████| 13/13 [00:04<00:00,  2.74it/s]"
     ]
    },
    {
     "name": "stderr",
     "output_type": "stream",
     "text": [
      "\r",
      "100%|██████████| 13/13 [00:04<00:00,  2.63it/s]"
     ]
    },
    {
     "name": "stderr",
     "output_type": "stream",
     "text": [
      "\n"
     ]
    },
    {
     "name": "stderr",
     "output_type": "stream",
     "text": [
      "\r",
      "  0%|          | 0/14 [00:00<?, ?it/s]"
     ]
    },
    {
     "name": "stderr",
     "output_type": "stream",
     "text": [
      "\r",
      " 14%|█▍        | 2/14 [00:00<00:02,  5.92it/s]"
     ]
    },
    {
     "name": "stderr",
     "output_type": "stream",
     "text": [
      "\r",
      " 21%|██▏       | 3/14 [00:00<00:02,  4.24it/s]"
     ]
    },
    {
     "name": "stderr",
     "output_type": "stream",
     "text": [
      "\r",
      " 29%|██▊       | 4/14 [00:01<00:03,  3.08it/s]"
     ]
    },
    {
     "name": "stderr",
     "output_type": "stream",
     "text": [
      "\r",
      " 36%|███▌      | 5/14 [00:01<00:02,  3.04it/s]"
     ]
    },
    {
     "name": "stderr",
     "output_type": "stream",
     "text": [
      "\r",
      " 43%|████▎     | 6/14 [00:01<00:02,  3.05it/s]"
     ]
    },
    {
     "name": "stderr",
     "output_type": "stream",
     "text": [
      "\r",
      " 50%|█████     | 7/14 [00:02<00:02,  3.08it/s]"
     ]
    },
    {
     "name": "stderr",
     "output_type": "stream",
     "text": [
      "\r",
      " 57%|█████▋    | 8/14 [00:02<00:01,  3.05it/s]"
     ]
    },
    {
     "name": "stderr",
     "output_type": "stream",
     "text": [
      "\r",
      " 64%|██████▍   | 9/14 [00:02<00:01,  3.03it/s]"
     ]
    },
    {
     "name": "stderr",
     "output_type": "stream",
     "text": [
      "\r",
      " 71%|███████▏  | 10/14 [00:03<00:01,  3.03it/s]"
     ]
    },
    {
     "name": "stderr",
     "output_type": "stream",
     "text": [
      "\r",
      " 79%|███████▊  | 11/14 [00:03<00:00,  3.01it/s]"
     ]
    },
    {
     "name": "stderr",
     "output_type": "stream",
     "text": [
      "\r",
      " 86%|████████▌ | 12/14 [00:03<00:00,  3.03it/s]"
     ]
    },
    {
     "name": "stderr",
     "output_type": "stream",
     "text": [
      "\r",
      " 93%|█████████▎| 13/14 [00:04<00:00,  2.90it/s]"
     ]
    },
    {
     "name": "stderr",
     "output_type": "stream",
     "text": [
      "\r",
      "100%|██████████| 14/14 [00:04<00:00,  2.94it/s]"
     ]
    },
    {
     "name": "stderr",
     "output_type": "stream",
     "text": [
      "\r",
      "100%|██████████| 14/14 [00:04<00:00,  3.11it/s]"
     ]
    },
    {
     "name": "stderr",
     "output_type": "stream",
     "text": [
      "\n"
     ]
    },
    {
     "name": "stderr",
     "output_type": "stream",
     "text": [
      "\r",
      "  0%|          | 0/15 [00:00<?, ?it/s]"
     ]
    },
    {
     "name": "stderr",
     "output_type": "stream",
     "text": [
      "\r",
      " 13%|█▎        | 2/15 [00:00<00:02,  5.26it/s]"
     ]
    },
    {
     "name": "stderr",
     "output_type": "stream",
     "text": [
      "\r",
      " 20%|██        | 3/15 [00:00<00:03,  3.77it/s]"
     ]
    },
    {
     "name": "stderr",
     "output_type": "stream",
     "text": [
      "\r",
      " 27%|██▋       | 4/15 [00:01<00:03,  3.42it/s]"
     ]
    },
    {
     "name": "stderr",
     "output_type": "stream",
     "text": [
      "\r",
      " 33%|███▎      | 5/15 [00:01<00:03,  3.25it/s]"
     ]
    },
    {
     "name": "stderr",
     "output_type": "stream",
     "text": [
      "\r",
      " 40%|████      | 6/15 [00:01<00:02,  3.19it/s]"
     ]
    },
    {
     "name": "stderr",
     "output_type": "stream",
     "text": [
      "\r",
      " 47%|████▋     | 7/15 [00:02<00:02,  3.24it/s]"
     ]
    },
    {
     "name": "stderr",
     "output_type": "stream",
     "text": [
      "\r",
      " 53%|█████▎    | 8/15 [00:02<00:02,  3.10it/s]"
     ]
    },
    {
     "name": "stderr",
     "output_type": "stream",
     "text": [
      "\r",
      " 60%|██████    | 9/15 [00:02<00:02,  2.93it/s]"
     ]
    },
    {
     "name": "stderr",
     "output_type": "stream",
     "text": [
      "\r",
      " 67%|██████▋   | 10/15 [00:03<00:01,  2.82it/s]"
     ]
    },
    {
     "name": "stderr",
     "output_type": "stream",
     "text": [
      "\r",
      " 73%|███████▎  | 11/15 [00:03<00:01,  2.89it/s]"
     ]
    },
    {
     "name": "stderr",
     "output_type": "stream",
     "text": [
      "\r",
      " 80%|████████  | 12/15 [00:03<00:01,  2.84it/s]"
     ]
    },
    {
     "name": "stderr",
     "output_type": "stream",
     "text": [
      "\r",
      " 87%|████████▋ | 13/15 [00:04<00:00,  2.81it/s]"
     ]
    },
    {
     "name": "stderr",
     "output_type": "stream",
     "text": [
      "\r",
      " 93%|█████████▎| 14/15 [00:04<00:00,  2.59it/s]"
     ]
    },
    {
     "name": "stderr",
     "output_type": "stream",
     "text": [
      "\r",
      "100%|██████████| 15/15 [00:05<00:00,  2.50it/s]"
     ]
    },
    {
     "name": "stderr",
     "output_type": "stream",
     "text": [
      "\r",
      "100%|██████████| 15/15 [00:05<00:00,  2.93it/s]"
     ]
    },
    {
     "name": "stderr",
     "output_type": "stream",
     "text": [
      "\n"
     ]
    },
    {
     "data": {
      "text/html": [
       "<div>\n",
       "<style scoped>\n",
       "    .dataframe tbody tr th:only-of-type {\n",
       "        vertical-align: middle;\n",
       "    }\n",
       "\n",
       "    .dataframe tbody tr th {\n",
       "        vertical-align: top;\n",
       "    }\n",
       "\n",
       "    .dataframe thead tr th {\n",
       "        text-align: left;\n",
       "    }\n",
       "\n",
       "    .dataframe thead tr:last-of-type th {\n",
       "        text-align: right;\n",
       "    }\n",
       "</style>\n",
       "<table border=\"1\" class=\"dataframe\">\n",
       "  <thead>\n",
       "    <tr>\n",
       "      <th></th>\n",
       "      <th colspan=\"2\" halign=\"left\">fit_time</th>\n",
       "      <th colspan=\"2\" halign=\"left\">score_time</th>\n",
       "      <th colspan=\"2\" halign=\"left\">test_precision</th>\n",
       "      <th colspan=\"2\" halign=\"left\">test_recall</th>\n",
       "      <th colspan=\"2\" halign=\"left\">test_f1</th>\n",
       "      <th colspan=\"2\" halign=\"left\">test_balanced_accuracy</th>\n",
       "      <th colspan=\"2\" halign=\"left\">test_roc_auc</th>\n",
       "      <th colspan=\"2\" halign=\"left\">test_average_precision</th>\n",
       "      <th colspan=\"2\" halign=\"left\">n_observations</th>\n",
       "    </tr>\n",
       "    <tr>\n",
       "      <th></th>\n",
       "      <th>mean</th>\n",
       "      <th>std</th>\n",
       "      <th>mean</th>\n",
       "      <th>std</th>\n",
       "      <th>mean</th>\n",
       "      <th>std</th>\n",
       "      <th>mean</th>\n",
       "      <th>std</th>\n",
       "      <th>mean</th>\n",
       "      <th>std</th>\n",
       "      <th>mean</th>\n",
       "      <th>std</th>\n",
       "      <th>mean</th>\n",
       "      <th>std</th>\n",
       "      <th>mean</th>\n",
       "      <th>std</th>\n",
       "      <th>mean</th>\n",
       "      <th>std</th>\n",
       "    </tr>\n",
       "    <tr>\n",
       "      <th>n_features</th>\n",
       "      <th></th>\n",
       "      <th></th>\n",
       "      <th></th>\n",
       "      <th></th>\n",
       "      <th></th>\n",
       "      <th></th>\n",
       "      <th></th>\n",
       "      <th></th>\n",
       "      <th></th>\n",
       "      <th></th>\n",
       "      <th></th>\n",
       "      <th></th>\n",
       "      <th></th>\n",
       "      <th></th>\n",
       "      <th></th>\n",
       "      <th></th>\n",
       "      <th></th>\n",
       "      <th></th>\n",
       "    </tr>\n",
       "  </thead>\n",
       "  <tbody>\n",
       "    <tr>\n",
       "      <th>1</th>\n",
       "      <td>0.006</td>\n",
       "      <td>0.005</td>\n",
       "      <td>0.066</td>\n",
       "      <td>0.024</td>\n",
       "      <td>0.010</td>\n",
       "      <td>0.071</td>\n",
       "      <td>0.001</td>\n",
       "      <td>0.008</td>\n",
       "      <td>0.002</td>\n",
       "      <td>0.015</td>\n",
       "      <td>0.497</td>\n",
       "      <td>0.008</td>\n",
       "      <td>0.860</td>\n",
       "      <td>0.061</td>\n",
       "      <td>0.827</td>\n",
       "      <td>0.087</td>\n",
       "      <td>210.000</td>\n",
       "      <td>0.000</td>\n",
       "    </tr>\n",
       "    <tr>\n",
       "      <th>2</th>\n",
       "      <td>0.005</td>\n",
       "      <td>0.004</td>\n",
       "      <td>0.066</td>\n",
       "      <td>0.024</td>\n",
       "      <td>0.433</td>\n",
       "      <td>0.391</td>\n",
       "      <td>0.091</td>\n",
       "      <td>0.099</td>\n",
       "      <td>0.142</td>\n",
       "      <td>0.139</td>\n",
       "      <td>0.525</td>\n",
       "      <td>0.038</td>\n",
       "      <td>0.756</td>\n",
       "      <td>0.121</td>\n",
       "      <td>0.714</td>\n",
       "      <td>0.137</td>\n",
       "      <td>210.000</td>\n",
       "      <td>0.000</td>\n",
       "    </tr>\n",
       "    <tr>\n",
       "      <th>3</th>\n",
       "      <td>0.004</td>\n",
       "      <td>0.002</td>\n",
       "      <td>0.054</td>\n",
       "      <td>0.017</td>\n",
       "      <td>0.755</td>\n",
       "      <td>0.091</td>\n",
       "      <td>0.678</td>\n",
       "      <td>0.110</td>\n",
       "      <td>0.710</td>\n",
       "      <td>0.084</td>\n",
       "      <td>0.758</td>\n",
       "      <td>0.065</td>\n",
       "      <td>0.873</td>\n",
       "      <td>0.056</td>\n",
       "      <td>0.849</td>\n",
       "      <td>0.063</td>\n",
       "      <td>210.000</td>\n",
       "      <td>0.000</td>\n",
       "    </tr>\n",
       "    <tr>\n",
       "      <th>4</th>\n",
       "      <td>0.005</td>\n",
       "      <td>0.003</td>\n",
       "      <td>0.055</td>\n",
       "      <td>0.017</td>\n",
       "      <td>0.760</td>\n",
       "      <td>0.090</td>\n",
       "      <td>0.692</td>\n",
       "      <td>0.109</td>\n",
       "      <td>0.720</td>\n",
       "      <td>0.079</td>\n",
       "      <td>0.765</td>\n",
       "      <td>0.062</td>\n",
       "      <td>0.871</td>\n",
       "      <td>0.056</td>\n",
       "      <td>0.847</td>\n",
       "      <td>0.063</td>\n",
       "      <td>210.000</td>\n",
       "      <td>0.000</td>\n",
       "    </tr>\n",
       "    <tr>\n",
       "      <th>5</th>\n",
       "      <td>0.005</td>\n",
       "      <td>0.003</td>\n",
       "      <td>0.056</td>\n",
       "      <td>0.017</td>\n",
       "      <td>0.754</td>\n",
       "      <td>0.095</td>\n",
       "      <td>0.731</td>\n",
       "      <td>0.112</td>\n",
       "      <td>0.738</td>\n",
       "      <td>0.087</td>\n",
       "      <td>0.778</td>\n",
       "      <td>0.072</td>\n",
       "      <td>0.873</td>\n",
       "      <td>0.056</td>\n",
       "      <td>0.854</td>\n",
       "      <td>0.060</td>\n",
       "      <td>210.000</td>\n",
       "      <td>0.000</td>\n",
       "    </tr>\n",
       "    <tr>\n",
       "      <th>6</th>\n",
       "      <td>0.005</td>\n",
       "      <td>0.004</td>\n",
       "      <td>0.065</td>\n",
       "      <td>0.025</td>\n",
       "      <td>0.767</td>\n",
       "      <td>0.097</td>\n",
       "      <td>0.727</td>\n",
       "      <td>0.111</td>\n",
       "      <td>0.742</td>\n",
       "      <td>0.084</td>\n",
       "      <td>0.781</td>\n",
       "      <td>0.069</td>\n",
       "      <td>0.876</td>\n",
       "      <td>0.054</td>\n",
       "      <td>0.857</td>\n",
       "      <td>0.060</td>\n",
       "      <td>210.000</td>\n",
       "      <td>0.000</td>\n",
       "    </tr>\n",
       "    <tr>\n",
       "      <th>7</th>\n",
       "      <td>0.004</td>\n",
       "      <td>0.001</td>\n",
       "      <td>0.051</td>\n",
       "      <td>0.014</td>\n",
       "      <td>0.771</td>\n",
       "      <td>0.101</td>\n",
       "      <td>0.722</td>\n",
       "      <td>0.111</td>\n",
       "      <td>0.741</td>\n",
       "      <td>0.087</td>\n",
       "      <td>0.781</td>\n",
       "      <td>0.070</td>\n",
       "      <td>0.881</td>\n",
       "      <td>0.056</td>\n",
       "      <td>0.861</td>\n",
       "      <td>0.062</td>\n",
       "      <td>210.000</td>\n",
       "      <td>0.000</td>\n",
       "    </tr>\n",
       "    <tr>\n",
       "      <th>8</th>\n",
       "      <td>0.004</td>\n",
       "      <td>0.004</td>\n",
       "      <td>0.049</td>\n",
       "      <td>0.024</td>\n",
       "      <td>0.772</td>\n",
       "      <td>0.100</td>\n",
       "      <td>0.721</td>\n",
       "      <td>0.109</td>\n",
       "      <td>0.741</td>\n",
       "      <td>0.084</td>\n",
       "      <td>0.781</td>\n",
       "      <td>0.068</td>\n",
       "      <td>0.879</td>\n",
       "      <td>0.056</td>\n",
       "      <td>0.859</td>\n",
       "      <td>0.062</td>\n",
       "      <td>210.000</td>\n",
       "      <td>0.000</td>\n",
       "    </tr>\n",
       "    <tr>\n",
       "      <th>9</th>\n",
       "      <td>0.004</td>\n",
       "      <td>0.000</td>\n",
       "      <td>0.048</td>\n",
       "      <td>0.016</td>\n",
       "      <td>0.775</td>\n",
       "      <td>0.096</td>\n",
       "      <td>0.780</td>\n",
       "      <td>0.107</td>\n",
       "      <td>0.773</td>\n",
       "      <td>0.080</td>\n",
       "      <td>0.805</td>\n",
       "      <td>0.068</td>\n",
       "      <td>0.902</td>\n",
       "      <td>0.051</td>\n",
       "      <td>0.874</td>\n",
       "      <td>0.062</td>\n",
       "      <td>210.000</td>\n",
       "      <td>0.000</td>\n",
       "    </tr>\n",
       "    <tr>\n",
       "      <th>10</th>\n",
       "      <td>0.004</td>\n",
       "      <td>0.001</td>\n",
       "      <td>0.045</td>\n",
       "      <td>0.009</td>\n",
       "      <td>0.796</td>\n",
       "      <td>0.092</td>\n",
       "      <td>0.788</td>\n",
       "      <td>0.108</td>\n",
       "      <td>0.787</td>\n",
       "      <td>0.078</td>\n",
       "      <td>0.818</td>\n",
       "      <td>0.066</td>\n",
       "      <td>0.901</td>\n",
       "      <td>0.051</td>\n",
       "      <td>0.872</td>\n",
       "      <td>0.062</td>\n",
       "      <td>210.000</td>\n",
       "      <td>0.000</td>\n",
       "    </tr>\n",
       "    <tr>\n",
       "      <th>11</th>\n",
       "      <td>0.004</td>\n",
       "      <td>0.002</td>\n",
       "      <td>0.054</td>\n",
       "      <td>0.013</td>\n",
       "      <td>0.788</td>\n",
       "      <td>0.092</td>\n",
       "      <td>0.785</td>\n",
       "      <td>0.108</td>\n",
       "      <td>0.782</td>\n",
       "      <td>0.079</td>\n",
       "      <td>0.814</td>\n",
       "      <td>0.067</td>\n",
       "      <td>0.912</td>\n",
       "      <td>0.047</td>\n",
       "      <td>0.889</td>\n",
       "      <td>0.056</td>\n",
       "      <td>210.000</td>\n",
       "      <td>0.000</td>\n",
       "    </tr>\n",
       "    <tr>\n",
       "      <th>12</th>\n",
       "      <td>0.005</td>\n",
       "      <td>0.003</td>\n",
       "      <td>0.055</td>\n",
       "      <td>0.016</td>\n",
       "      <td>0.793</td>\n",
       "      <td>0.088</td>\n",
       "      <td>0.782</td>\n",
       "      <td>0.108</td>\n",
       "      <td>0.783</td>\n",
       "      <td>0.080</td>\n",
       "      <td>0.815</td>\n",
       "      <td>0.068</td>\n",
       "      <td>0.913</td>\n",
       "      <td>0.047</td>\n",
       "      <td>0.892</td>\n",
       "      <td>0.056</td>\n",
       "      <td>210.000</td>\n",
       "      <td>0.000</td>\n",
       "    </tr>\n",
       "    <tr>\n",
       "      <th>13</th>\n",
       "      <td>0.004</td>\n",
       "      <td>0.000</td>\n",
       "      <td>0.046</td>\n",
       "      <td>0.005</td>\n",
       "      <td>0.794</td>\n",
       "      <td>0.091</td>\n",
       "      <td>0.781</td>\n",
       "      <td>0.110</td>\n",
       "      <td>0.782</td>\n",
       "      <td>0.080</td>\n",
       "      <td>0.815</td>\n",
       "      <td>0.068</td>\n",
       "      <td>0.912</td>\n",
       "      <td>0.048</td>\n",
       "      <td>0.890</td>\n",
       "      <td>0.057</td>\n",
       "      <td>210.000</td>\n",
       "      <td>0.000</td>\n",
       "    </tr>\n",
       "    <tr>\n",
       "      <th>14</th>\n",
       "      <td>0.005</td>\n",
       "      <td>0.003</td>\n",
       "      <td>0.047</td>\n",
       "      <td>0.008</td>\n",
       "      <td>0.791</td>\n",
       "      <td>0.087</td>\n",
       "      <td>0.780</td>\n",
       "      <td>0.110</td>\n",
       "      <td>0.781</td>\n",
       "      <td>0.080</td>\n",
       "      <td>0.813</td>\n",
       "      <td>0.067</td>\n",
       "      <td>0.915</td>\n",
       "      <td>0.046</td>\n",
       "      <td>0.894</td>\n",
       "      <td>0.054</td>\n",
       "      <td>210.000</td>\n",
       "      <td>0.000</td>\n",
       "    </tr>\n",
       "    <tr>\n",
       "      <th>15</th>\n",
       "      <td>0.004</td>\n",
       "      <td>0.000</td>\n",
       "      <td>0.045</td>\n",
       "      <td>0.003</td>\n",
       "      <td>0.788</td>\n",
       "      <td>0.090</td>\n",
       "      <td>0.779</td>\n",
       "      <td>0.108</td>\n",
       "      <td>0.778</td>\n",
       "      <td>0.077</td>\n",
       "      <td>0.811</td>\n",
       "      <td>0.066</td>\n",
       "      <td>0.913</td>\n",
       "      <td>0.046</td>\n",
       "      <td>0.891</td>\n",
       "      <td>0.055</td>\n",
       "      <td>210.000</td>\n",
       "      <td>0.000</td>\n",
       "    </tr>\n",
       "  </tbody>\n",
       "</table>\n",
       "</div>"
      ],
      "text/plain": [
       "           fit_time       score_time       test_precision       test_recall  \\\n",
       "               mean   std       mean   std           mean   std        mean   \n",
       "n_features                                                                    \n",
       "1             0.006 0.005      0.066 0.024          0.010 0.071       0.001   \n",
       "2             0.005 0.004      0.066 0.024          0.433 0.391       0.091   \n",
       "3             0.004 0.002      0.054 0.017          0.755 0.091       0.678   \n",
       "4             0.005 0.003      0.055 0.017          0.760 0.090       0.692   \n",
       "5             0.005 0.003      0.056 0.017          0.754 0.095       0.731   \n",
       "6             0.005 0.004      0.065 0.025          0.767 0.097       0.727   \n",
       "7             0.004 0.001      0.051 0.014          0.771 0.101       0.722   \n",
       "8             0.004 0.004      0.049 0.024          0.772 0.100       0.721   \n",
       "9             0.004 0.000      0.048 0.016          0.775 0.096       0.780   \n",
       "10            0.004 0.001      0.045 0.009          0.796 0.092       0.788   \n",
       "11            0.004 0.002      0.054 0.013          0.788 0.092       0.785   \n",
       "12            0.005 0.003      0.055 0.016          0.793 0.088       0.782   \n",
       "13            0.004 0.000      0.046 0.005          0.794 0.091       0.781   \n",
       "14            0.005 0.003      0.047 0.008          0.791 0.087       0.780   \n",
       "15            0.004 0.000      0.045 0.003          0.788 0.090       0.779   \n",
       "\n",
       "                 test_f1       test_balanced_accuracy       test_roc_auc  \\\n",
       "             std    mean   std                   mean   std         mean   \n",
       "n_features                                                                 \n",
       "1          0.008   0.002 0.015                  0.497 0.008        0.860   \n",
       "2          0.099   0.142 0.139                  0.525 0.038        0.756   \n",
       "3          0.110   0.710 0.084                  0.758 0.065        0.873   \n",
       "4          0.109   0.720 0.079                  0.765 0.062        0.871   \n",
       "5          0.112   0.738 0.087                  0.778 0.072        0.873   \n",
       "6          0.111   0.742 0.084                  0.781 0.069        0.876   \n",
       "7          0.111   0.741 0.087                  0.781 0.070        0.881   \n",
       "8          0.109   0.741 0.084                  0.781 0.068        0.879   \n",
       "9          0.107   0.773 0.080                  0.805 0.068        0.902   \n",
       "10         0.108   0.787 0.078                  0.818 0.066        0.901   \n",
       "11         0.108   0.782 0.079                  0.814 0.067        0.912   \n",
       "12         0.108   0.783 0.080                  0.815 0.068        0.913   \n",
       "13         0.110   0.782 0.080                  0.815 0.068        0.912   \n",
       "14         0.110   0.781 0.080                  0.813 0.067        0.915   \n",
       "15         0.108   0.778 0.077                  0.811 0.066        0.913   \n",
       "\n",
       "                 test_average_precision       n_observations        \n",
       "             std                   mean   std           mean   std  \n",
       "n_features                                                          \n",
       "1          0.061                  0.827 0.087        210.000 0.000  \n",
       "2          0.121                  0.714 0.137        210.000 0.000  \n",
       "3          0.056                  0.849 0.063        210.000 0.000  \n",
       "4          0.056                  0.847 0.063        210.000 0.000  \n",
       "5          0.056                  0.854 0.060        210.000 0.000  \n",
       "6          0.054                  0.857 0.060        210.000 0.000  \n",
       "7          0.056                  0.861 0.062        210.000 0.000  \n",
       "8          0.056                  0.859 0.062        210.000 0.000  \n",
       "9          0.051                  0.874 0.062        210.000 0.000  \n",
       "10         0.051                  0.872 0.062        210.000 0.000  \n",
       "11         0.047                  0.889 0.056        210.000 0.000  \n",
       "12         0.047                  0.892 0.056        210.000 0.000  \n",
       "13         0.048                  0.890 0.057        210.000 0.000  \n",
       "14         0.046                  0.894 0.054        210.000 0.000  \n",
       "15         0.046                  0.891 0.055        210.000 0.000  "
      ]
     },
     "execution_count": 16,
     "metadata": {},
     "output_type": "execute_result"
    }
   ],
   "source": [
    "cv_feat_all = njab.sklearn.find_n_best_features(X=X, y=target, name=args.target,\n",
    "                                                groups=target_to_group)\n",
    "cv_feat_all = cv_feat_all.drop('test_case', axis=1).groupby('n_features').agg(['mean', 'std'])\n",
    "cv_feat_all"
   ]
  },
  {
   "cell_type": "markdown",
   "id": "0029a621",
   "metadata": {
    "papermill": {
     "duration": 0.038213,
     "end_time": "2024-05-30T11:10:44.296712",
     "exception": false,
     "start_time": "2024-05-30T11:10:44.258499",
     "status": "completed"
    },
    "tags": []
   },
   "source": [
    "Using only new features:"
   ]
  },
  {
   "cell_type": "code",
   "execution_count": 17,
   "id": "811f75d0",
   "metadata": {
    "execution": {
     "iopub.execute_input": "2024-05-30T11:10:44.369818Z",
     "iopub.status.busy": "2024-05-30T11:10:44.368965Z",
     "iopub.status.idle": "2024-05-30T11:11:40.065872Z",
     "shell.execute_reply": "2024-05-30T11:11:40.065252Z"
    },
    "papermill": {
     "duration": 55.735846,
     "end_time": "2024-05-30T11:11:40.067743",
     "exception": false,
     "start_time": "2024-05-30T11:10:44.331897",
     "status": "completed"
    },
    "tags": [
     "hide-input"
    ]
   },
   "outputs": [
    {
     "name": "stderr",
     "output_type": "stream",
     "text": [
      "\r",
      "  0%|          | 0/1 [00:00<?, ?it/s]"
     ]
    },
    {
     "name": "stderr",
     "output_type": "stream",
     "text": [
      "\r",
      "100%|██████████| 1/1 [00:00<00:00, 960.01it/s]"
     ]
    },
    {
     "name": "stderr",
     "output_type": "stream",
     "text": [
      "\n"
     ]
    },
    {
     "name": "stderr",
     "output_type": "stream",
     "text": [
      "\r",
      "  0%|          | 0/2 [00:00<?, ?it/s]"
     ]
    },
    {
     "name": "stderr",
     "output_type": "stream",
     "text": [
      "\r",
      "100%|██████████| 2/2 [00:00<00:00, 23.63it/s]"
     ]
    },
    {
     "name": "stderr",
     "output_type": "stream",
     "text": [
      "\n"
     ]
    },
    {
     "name": "stderr",
     "output_type": "stream",
     "text": [
      "\r",
      "  0%|          | 0/3 [00:00<?, ?it/s]"
     ]
    },
    {
     "name": "stderr",
     "output_type": "stream",
     "text": [
      "\r",
      " 67%|██████▋   | 2/3 [00:00<00:00, 18.31it/s]"
     ]
    },
    {
     "name": "stderr",
     "output_type": "stream",
     "text": [
      "\r",
      "100%|██████████| 3/3 [00:00<00:00, 12.86it/s]"
     ]
    },
    {
     "name": "stderr",
     "output_type": "stream",
     "text": [
      "\n"
     ]
    },
    {
     "name": "stderr",
     "output_type": "stream",
     "text": [
      "\r",
      "  0%|          | 0/4 [00:00<?, ?it/s]"
     ]
    },
    {
     "name": "stderr",
     "output_type": "stream",
     "text": [
      "\r",
      " 75%|███████▌  | 3/4 [00:00<00:00, 19.66it/s]"
     ]
    },
    {
     "name": "stderr",
     "output_type": "stream",
     "text": [
      "\r",
      "100%|██████████| 4/4 [00:00<00:00, 15.24it/s]"
     ]
    },
    {
     "name": "stderr",
     "output_type": "stream",
     "text": [
      "\n"
     ]
    },
    {
     "name": "stderr",
     "output_type": "stream",
     "text": [
      "\r",
      "  0%|          | 0/5 [00:00<?, ?it/s]"
     ]
    },
    {
     "name": "stderr",
     "output_type": "stream",
     "text": [
      "\r",
      " 60%|██████    | 3/5 [00:00<00:00, 26.00it/s]"
     ]
    },
    {
     "name": "stderr",
     "output_type": "stream",
     "text": [
      "\r",
      "100%|██████████| 5/5 [00:00<00:00, 14.94it/s]"
     ]
    },
    {
     "name": "stderr",
     "output_type": "stream",
     "text": [
      "\n"
     ]
    },
    {
     "name": "stderr",
     "output_type": "stream",
     "text": [
      "\r",
      "  0%|          | 0/6 [00:00<?, ?it/s]"
     ]
    },
    {
     "name": "stderr",
     "output_type": "stream",
     "text": [
      "\r",
      " 50%|█████     | 3/6 [00:00<00:00, 15.95it/s]"
     ]
    },
    {
     "name": "stderr",
     "output_type": "stream",
     "text": [
      "\r",
      " 83%|████████▎ | 5/6 [00:00<00:00, 14.48it/s]"
     ]
    },
    {
     "name": "stderr",
     "output_type": "stream",
     "text": [
      "\r",
      "100%|██████████| 6/6 [00:00<00:00, 14.78it/s]"
     ]
    },
    {
     "name": "stderr",
     "output_type": "stream",
     "text": [
      "\n"
     ]
    },
    {
     "name": "stderr",
     "output_type": "stream",
     "text": [
      "\r",
      "  0%|          | 0/7 [00:00<?, ?it/s]"
     ]
    },
    {
     "name": "stderr",
     "output_type": "stream",
     "text": [
      "\r",
      " 43%|████▎     | 3/7 [00:00<00:00, 18.68it/s]"
     ]
    },
    {
     "name": "stderr",
     "output_type": "stream",
     "text": [
      "\r",
      " 71%|███████▏  | 5/7 [00:00<00:00, 14.67it/s]"
     ]
    },
    {
     "name": "stderr",
     "output_type": "stream",
     "text": [
      "\r",
      "100%|██████████| 7/7 [00:00<00:00, 13.11it/s]"
     ]
    },
    {
     "name": "stderr",
     "output_type": "stream",
     "text": [
      "\r",
      "100%|██████████| 7/7 [00:00<00:00, 13.83it/s]"
     ]
    },
    {
     "name": "stderr",
     "output_type": "stream",
     "text": [
      "\n"
     ]
    },
    {
     "name": "stderr",
     "output_type": "stream",
     "text": [
      "\r",
      "  0%|          | 0/8 [00:00<?, ?it/s]"
     ]
    },
    {
     "name": "stderr",
     "output_type": "stream",
     "text": [
      "\r",
      " 50%|█████     | 4/8 [00:00<00:00, 29.88it/s]"
     ]
    },
    {
     "name": "stderr",
     "output_type": "stream",
     "text": [
      "\r",
      " 88%|████████▊ | 7/8 [00:00<00:00, 24.86it/s]"
     ]
    },
    {
     "name": "stderr",
     "output_type": "stream",
     "text": [
      "\r",
      "100%|██████████| 8/8 [00:00<00:00, 24.96it/s]"
     ]
    },
    {
     "name": "stderr",
     "output_type": "stream",
     "text": [
      "\n"
     ]
    },
    {
     "name": "stderr",
     "output_type": "stream",
     "text": [
      "\r",
      "  0%|          | 0/9 [00:00<?, ?it/s]"
     ]
    },
    {
     "name": "stderr",
     "output_type": "stream",
     "text": [
      "\r",
      " 22%|██▏       | 2/9 [00:00<00:00, 18.57it/s]"
     ]
    },
    {
     "name": "stderr",
     "output_type": "stream",
     "text": [
      "\r",
      " 44%|████▍     | 4/9 [00:00<00:00, 13.95it/s]"
     ]
    },
    {
     "name": "stderr",
     "output_type": "stream",
     "text": [
      "\r",
      " 67%|██████▋   | 6/9 [00:00<00:00, 12.62it/s]"
     ]
    },
    {
     "name": "stderr",
     "output_type": "stream",
     "text": [
      "\r",
      " 89%|████████▉ | 8/9 [00:00<00:00, 11.51it/s]"
     ]
    },
    {
     "name": "stderr",
     "output_type": "stream",
     "text": [
      "\r",
      "100%|██████████| 9/9 [00:00<00:00, 12.06it/s]"
     ]
    },
    {
     "name": "stderr",
     "output_type": "stream",
     "text": [
      "\n"
     ]
    },
    {
     "name": "stderr",
     "output_type": "stream",
     "text": [
      "\r",
      "  0%|          | 0/10 [00:00<?, ?it/s]"
     ]
    },
    {
     "name": "stderr",
     "output_type": "stream",
     "text": [
      "\r",
      " 30%|███       | 3/10 [00:00<00:00, 19.81it/s]"
     ]
    },
    {
     "name": "stderr",
     "output_type": "stream",
     "text": [
      "\r",
      " 50%|█████     | 5/10 [00:00<00:00, 16.45it/s]"
     ]
    },
    {
     "name": "stderr",
     "output_type": "stream",
     "text": [
      "\r",
      " 70%|███████   | 7/10 [00:00<00:00, 16.21it/s]"
     ]
    },
    {
     "name": "stderr",
     "output_type": "stream",
     "text": [
      "\r",
      " 90%|█████████ | 9/10 [00:00<00:00, 15.39it/s]"
     ]
    },
    {
     "name": "stderr",
     "output_type": "stream",
     "text": [
      "\r",
      "100%|██████████| 10/10 [00:00<00:00, 15.44it/s]"
     ]
    },
    {
     "name": "stderr",
     "output_type": "stream",
     "text": [
      "\n"
     ]
    },
    {
     "name": "stderr",
     "output_type": "stream",
     "text": [
      "\r",
      "  0%|          | 0/11 [00:00<?, ?it/s]"
     ]
    },
    {
     "name": "stderr",
     "output_type": "stream",
     "text": [
      "\r",
      " 27%|██▋       | 3/11 [00:00<00:00, 19.48it/s]"
     ]
    },
    {
     "name": "stderr",
     "output_type": "stream",
     "text": [
      "\r",
      " 45%|████▌     | 5/11 [00:00<00:00, 13.90it/s]"
     ]
    },
    {
     "name": "stderr",
     "output_type": "stream",
     "text": [
      "\r",
      " 64%|██████▎   | 7/11 [00:00<00:00, 12.91it/s]"
     ]
    },
    {
     "name": "stderr",
     "output_type": "stream",
     "text": [
      "\r",
      " 82%|████████▏ | 9/11 [00:00<00:00, 12.34it/s]"
     ]
    },
    {
     "name": "stderr",
     "output_type": "stream",
     "text": [
      "\r",
      "100%|██████████| 11/11 [00:00<00:00, 12.72it/s]"
     ]
    },
    {
     "name": "stderr",
     "output_type": "stream",
     "text": [
      "\r",
      "100%|██████████| 11/11 [00:00<00:00, 13.17it/s]"
     ]
    },
    {
     "name": "stderr",
     "output_type": "stream",
     "text": [
      "\n"
     ]
    },
    {
     "name": "stderr",
     "output_type": "stream",
     "text": [
      "\r",
      "  0%|          | 0/12 [00:00<?, ?it/s]"
     ]
    },
    {
     "name": "stderr",
     "output_type": "stream",
     "text": [
      "\r",
      " 25%|██▌       | 3/12 [00:00<00:00, 18.36it/s]"
     ]
    },
    {
     "name": "stderr",
     "output_type": "stream",
     "text": [
      "\r",
      " 42%|████▏     | 5/12 [00:00<00:00, 15.04it/s]"
     ]
    },
    {
     "name": "stderr",
     "output_type": "stream",
     "text": [
      "\r",
      " 58%|█████▊    | 7/12 [00:00<00:00, 12.88it/s]"
     ]
    },
    {
     "name": "stderr",
     "output_type": "stream",
     "text": [
      "\r",
      " 75%|███████▌  | 9/12 [00:00<00:00, 12.84it/s]"
     ]
    },
    {
     "name": "stderr",
     "output_type": "stream",
     "text": [
      "\r",
      " 92%|█████████▏| 11/12 [00:00<00:00, 13.25it/s]"
     ]
    },
    {
     "name": "stderr",
     "output_type": "stream",
     "text": [
      "\r",
      "100%|██████████| 12/12 [00:00<00:00, 13.68it/s]"
     ]
    },
    {
     "name": "stderr",
     "output_type": "stream",
     "text": [
      "\n"
     ]
    },
    {
     "name": "stderr",
     "output_type": "stream",
     "text": [
      "\r",
      "  0%|          | 0/13 [00:00<?, ?it/s]"
     ]
    },
    {
     "name": "stderr",
     "output_type": "stream",
     "text": [
      "\r",
      " 23%|██▎       | 3/13 [00:00<00:00, 23.52it/s]"
     ]
    },
    {
     "name": "stderr",
     "output_type": "stream",
     "text": [
      "\r",
      " 46%|████▌     | 6/13 [00:00<00:00, 22.75it/s]"
     ]
    },
    {
     "name": "stderr",
     "output_type": "stream",
     "text": [
      "\r",
      " 69%|██████▉   | 9/13 [00:00<00:00, 20.61it/s]"
     ]
    },
    {
     "name": "stderr",
     "output_type": "stream",
     "text": [
      "\r",
      " 92%|█████████▏| 12/13 [00:00<00:00, 20.95it/s]"
     ]
    },
    {
     "name": "stderr",
     "output_type": "stream",
     "text": [
      "\r",
      "100%|██████████| 13/13 [00:00<00:00, 21.13it/s]"
     ]
    },
    {
     "name": "stderr",
     "output_type": "stream",
     "text": [
      "\n"
     ]
    },
    {
     "name": "stderr",
     "output_type": "stream",
     "text": [
      "\r",
      "  0%|          | 0/14 [00:00<?, ?it/s]"
     ]
    },
    {
     "name": "stderr",
     "output_type": "stream",
     "text": [
      "\r",
      " 14%|█▍        | 2/14 [00:00<00:00, 19.70it/s]"
     ]
    },
    {
     "name": "stderr",
     "output_type": "stream",
     "text": [
      "\r",
      " 29%|██▊       | 4/14 [00:00<00:00, 13.86it/s]"
     ]
    },
    {
     "name": "stderr",
     "output_type": "stream",
     "text": [
      "\r",
      " 43%|████▎     | 6/14 [00:00<00:00, 10.55it/s]"
     ]
    },
    {
     "name": "stderr",
     "output_type": "stream",
     "text": [
      "\r",
      " 57%|█████▋    | 8/14 [00:00<00:00, 12.37it/s]"
     ]
    },
    {
     "name": "stderr",
     "output_type": "stream",
     "text": [
      "\r",
      " 71%|███████▏  | 10/14 [00:00<00:00, 11.60it/s]"
     ]
    },
    {
     "name": "stderr",
     "output_type": "stream",
     "text": [
      "\r",
      " 86%|████████▌ | 12/14 [00:00<00:00, 12.14it/s]"
     ]
    },
    {
     "name": "stderr",
     "output_type": "stream",
     "text": [
      "\r",
      "100%|██████████| 14/14 [00:01<00:00, 12.50it/s]"
     ]
    },
    {
     "name": "stderr",
     "output_type": "stream",
     "text": [
      "\r",
      "100%|██████████| 14/14 [00:01<00:00, 12.36it/s]"
     ]
    },
    {
     "name": "stderr",
     "output_type": "stream",
     "text": [
      "\n"
     ]
    },
    {
     "name": "stderr",
     "output_type": "stream",
     "text": [
      "\r",
      "  0%|          | 0/15 [00:00<?, ?it/s]"
     ]
    },
    {
     "name": "stderr",
     "output_type": "stream",
     "text": [
      "\r",
      " 13%|█▎        | 2/15 [00:00<00:00, 17.16it/s]"
     ]
    },
    {
     "name": "stderr",
     "output_type": "stream",
     "text": [
      "\r",
      " 27%|██▋       | 4/15 [00:00<00:00, 11.66it/s]"
     ]
    },
    {
     "name": "stderr",
     "output_type": "stream",
     "text": [
      "\r",
      " 40%|████      | 6/15 [00:00<00:00, 10.55it/s]"
     ]
    },
    {
     "name": "stderr",
     "output_type": "stream",
     "text": [
      "\r",
      " 53%|█████▎    | 8/15 [00:00<00:00, 10.38it/s]"
     ]
    },
    {
     "name": "stderr",
     "output_type": "stream",
     "text": [
      "\r",
      " 67%|██████▋   | 10/15 [00:00<00:00, 10.04it/s]"
     ]
    },
    {
     "name": "stderr",
     "output_type": "stream",
     "text": [
      "\r",
      " 80%|████████  | 12/15 [00:01<00:00, 11.07it/s]"
     ]
    },
    {
     "name": "stderr",
     "output_type": "stream",
     "text": [
      "\r",
      " 93%|█████████▎| 14/15 [00:01<00:00, 12.66it/s]"
     ]
    },
    {
     "name": "stderr",
     "output_type": "stream",
     "text": [
      "\r",
      "100%|██████████| 15/15 [00:01<00:00, 11.68it/s]"
     ]
    },
    {
     "name": "stderr",
     "output_type": "stream",
     "text": [
      "\n"
     ]
    },
    {
     "data": {
      "text/html": [
       "<div>\n",
       "<style scoped>\n",
       "    .dataframe tbody tr th:only-of-type {\n",
       "        vertical-align: middle;\n",
       "    }\n",
       "\n",
       "    .dataframe tbody tr th {\n",
       "        vertical-align: top;\n",
       "    }\n",
       "\n",
       "    .dataframe thead tr th {\n",
       "        text-align: left;\n",
       "    }\n",
       "\n",
       "    .dataframe thead tr:last-of-type th {\n",
       "        text-align: right;\n",
       "    }\n",
       "</style>\n",
       "<table border=\"1\" class=\"dataframe\">\n",
       "  <thead>\n",
       "    <tr>\n",
       "      <th></th>\n",
       "      <th colspan=\"2\" halign=\"left\">fit_time</th>\n",
       "      <th colspan=\"2\" halign=\"left\">score_time</th>\n",
       "      <th colspan=\"2\" halign=\"left\">test_precision</th>\n",
       "      <th colspan=\"2\" halign=\"left\">test_recall</th>\n",
       "      <th colspan=\"2\" halign=\"left\">test_f1</th>\n",
       "      <th colspan=\"2\" halign=\"left\">test_balanced_accuracy</th>\n",
       "      <th colspan=\"2\" halign=\"left\">test_roc_auc</th>\n",
       "      <th colspan=\"2\" halign=\"left\">test_average_precision</th>\n",
       "      <th colspan=\"2\" halign=\"left\">n_observations</th>\n",
       "    </tr>\n",
       "    <tr>\n",
       "      <th></th>\n",
       "      <th>mean</th>\n",
       "      <th>std</th>\n",
       "      <th>mean</th>\n",
       "      <th>std</th>\n",
       "      <th>mean</th>\n",
       "      <th>std</th>\n",
       "      <th>mean</th>\n",
       "      <th>std</th>\n",
       "      <th>mean</th>\n",
       "      <th>std</th>\n",
       "      <th>mean</th>\n",
       "      <th>std</th>\n",
       "      <th>mean</th>\n",
       "      <th>std</th>\n",
       "      <th>mean</th>\n",
       "      <th>std</th>\n",
       "      <th>mean</th>\n",
       "      <th>std</th>\n",
       "    </tr>\n",
       "    <tr>\n",
       "      <th>n_features</th>\n",
       "      <th></th>\n",
       "      <th></th>\n",
       "      <th></th>\n",
       "      <th></th>\n",
       "      <th></th>\n",
       "      <th></th>\n",
       "      <th></th>\n",
       "      <th></th>\n",
       "      <th></th>\n",
       "      <th></th>\n",
       "      <th></th>\n",
       "      <th></th>\n",
       "      <th></th>\n",
       "      <th></th>\n",
       "      <th></th>\n",
       "      <th></th>\n",
       "      <th></th>\n",
       "      <th></th>\n",
       "    </tr>\n",
       "  </thead>\n",
       "  <tbody>\n",
       "    <tr>\n",
       "      <th>1</th>\n",
       "      <td>0.003</td>\n",
       "      <td>0.000</td>\n",
       "      <td>0.046</td>\n",
       "      <td>0.010</td>\n",
       "      <td>0.000</td>\n",
       "      <td>0.000</td>\n",
       "      <td>0.000</td>\n",
       "      <td>0.000</td>\n",
       "      <td>0.000</td>\n",
       "      <td>0.000</td>\n",
       "      <td>0.500</td>\n",
       "      <td>0.000</td>\n",
       "      <td>0.749</td>\n",
       "      <td>0.068</td>\n",
       "      <td>0.693</td>\n",
       "      <td>0.085</td>\n",
       "      <td>210.000</td>\n",
       "      <td>0.000</td>\n",
       "    </tr>\n",
       "    <tr>\n",
       "      <th>2</th>\n",
       "      <td>0.005</td>\n",
       "      <td>0.003</td>\n",
       "      <td>0.050</td>\n",
       "      <td>0.016</td>\n",
       "      <td>0.628</td>\n",
       "      <td>0.095</td>\n",
       "      <td>0.474</td>\n",
       "      <td>0.098</td>\n",
       "      <td>0.531</td>\n",
       "      <td>0.073</td>\n",
       "      <td>0.630</td>\n",
       "      <td>0.050</td>\n",
       "      <td>0.697</td>\n",
       "      <td>0.067</td>\n",
       "      <td>0.659</td>\n",
       "      <td>0.072</td>\n",
       "      <td>210.000</td>\n",
       "      <td>0.000</td>\n",
       "    </tr>\n",
       "    <tr>\n",
       "      <th>3</th>\n",
       "      <td>0.005</td>\n",
       "      <td>0.003</td>\n",
       "      <td>0.054</td>\n",
       "      <td>0.017</td>\n",
       "      <td>0.629</td>\n",
       "      <td>0.106</td>\n",
       "      <td>0.427</td>\n",
       "      <td>0.094</td>\n",
       "      <td>0.500</td>\n",
       "      <td>0.078</td>\n",
       "      <td>0.616</td>\n",
       "      <td>0.053</td>\n",
       "      <td>0.699</td>\n",
       "      <td>0.066</td>\n",
       "      <td>0.655</td>\n",
       "      <td>0.074</td>\n",
       "      <td>210.000</td>\n",
       "      <td>0.000</td>\n",
       "    </tr>\n",
       "    <tr>\n",
       "      <th>4</th>\n",
       "      <td>0.005</td>\n",
       "      <td>0.004</td>\n",
       "      <td>0.052</td>\n",
       "      <td>0.012</td>\n",
       "      <td>0.662</td>\n",
       "      <td>0.085</td>\n",
       "      <td>0.579</td>\n",
       "      <td>0.105</td>\n",
       "      <td>0.612</td>\n",
       "      <td>0.078</td>\n",
       "      <td>0.680</td>\n",
       "      <td>0.060</td>\n",
       "      <td>0.777</td>\n",
       "      <td>0.062</td>\n",
       "      <td>0.743</td>\n",
       "      <td>0.068</td>\n",
       "      <td>210.000</td>\n",
       "      <td>0.000</td>\n",
       "    </tr>\n",
       "    <tr>\n",
       "      <th>5</th>\n",
       "      <td>0.006</td>\n",
       "      <td>0.005</td>\n",
       "      <td>0.060</td>\n",
       "      <td>0.023</td>\n",
       "      <td>0.655</td>\n",
       "      <td>0.085</td>\n",
       "      <td>0.572</td>\n",
       "      <td>0.102</td>\n",
       "      <td>0.605</td>\n",
       "      <td>0.078</td>\n",
       "      <td>0.675</td>\n",
       "      <td>0.059</td>\n",
       "      <td>0.773</td>\n",
       "      <td>0.064</td>\n",
       "      <td>0.739</td>\n",
       "      <td>0.069</td>\n",
       "      <td>210.000</td>\n",
       "      <td>0.000</td>\n",
       "    </tr>\n",
       "    <tr>\n",
       "      <th>6</th>\n",
       "      <td>0.004</td>\n",
       "      <td>0.000</td>\n",
       "      <td>0.046</td>\n",
       "      <td>0.003</td>\n",
       "      <td>0.706</td>\n",
       "      <td>0.085</td>\n",
       "      <td>0.605</td>\n",
       "      <td>0.110</td>\n",
       "      <td>0.645</td>\n",
       "      <td>0.077</td>\n",
       "      <td>0.708</td>\n",
       "      <td>0.056</td>\n",
       "      <td>0.797</td>\n",
       "      <td>0.061</td>\n",
       "      <td>0.760</td>\n",
       "      <td>0.071</td>\n",
       "      <td>210.000</td>\n",
       "      <td>0.000</td>\n",
       "    </tr>\n",
       "    <tr>\n",
       "      <th>7</th>\n",
       "      <td>0.004</td>\n",
       "      <td>0.001</td>\n",
       "      <td>0.043</td>\n",
       "      <td>0.007</td>\n",
       "      <td>0.715</td>\n",
       "      <td>0.090</td>\n",
       "      <td>0.615</td>\n",
       "      <td>0.118</td>\n",
       "      <td>0.653</td>\n",
       "      <td>0.081</td>\n",
       "      <td>0.715</td>\n",
       "      <td>0.060</td>\n",
       "      <td>0.793</td>\n",
       "      <td>0.061</td>\n",
       "      <td>0.758</td>\n",
       "      <td>0.073</td>\n",
       "      <td>210.000</td>\n",
       "      <td>0.000</td>\n",
       "    </tr>\n",
       "    <tr>\n",
       "      <th>8</th>\n",
       "      <td>0.003</td>\n",
       "      <td>0.001</td>\n",
       "      <td>0.034</td>\n",
       "      <td>0.012</td>\n",
       "      <td>0.709</td>\n",
       "      <td>0.084</td>\n",
       "      <td>0.610</td>\n",
       "      <td>0.117</td>\n",
       "      <td>0.648</td>\n",
       "      <td>0.079</td>\n",
       "      <td>0.712</td>\n",
       "      <td>0.059</td>\n",
       "      <td>0.791</td>\n",
       "      <td>0.062</td>\n",
       "      <td>0.742</td>\n",
       "      <td>0.084</td>\n",
       "      <td>210.000</td>\n",
       "      <td>0.000</td>\n",
       "    </tr>\n",
       "    <tr>\n",
       "      <th>9</th>\n",
       "      <td>0.006</td>\n",
       "      <td>0.004</td>\n",
       "      <td>0.067</td>\n",
       "      <td>0.024</td>\n",
       "      <td>0.680</td>\n",
       "      <td>0.091</td>\n",
       "      <td>0.587</td>\n",
       "      <td>0.108</td>\n",
       "      <td>0.622</td>\n",
       "      <td>0.074</td>\n",
       "      <td>0.689</td>\n",
       "      <td>0.056</td>\n",
       "      <td>0.785</td>\n",
       "      <td>0.059</td>\n",
       "      <td>0.734</td>\n",
       "      <td>0.084</td>\n",
       "      <td>210.000</td>\n",
       "      <td>0.000</td>\n",
       "    </tr>\n",
       "    <tr>\n",
       "      <th>10</th>\n",
       "      <td>0.005</td>\n",
       "      <td>0.003</td>\n",
       "      <td>0.063</td>\n",
       "      <td>0.026</td>\n",
       "      <td>0.675</td>\n",
       "      <td>0.096</td>\n",
       "      <td>0.579</td>\n",
       "      <td>0.099</td>\n",
       "      <td>0.616</td>\n",
       "      <td>0.073</td>\n",
       "      <td>0.684</td>\n",
       "      <td>0.058</td>\n",
       "      <td>0.781</td>\n",
       "      <td>0.060</td>\n",
       "      <td>0.732</td>\n",
       "      <td>0.086</td>\n",
       "      <td>210.000</td>\n",
       "      <td>0.000</td>\n",
       "    </tr>\n",
       "    <tr>\n",
       "      <th>11</th>\n",
       "      <td>0.005</td>\n",
       "      <td>0.004</td>\n",
       "      <td>0.065</td>\n",
       "      <td>0.027</td>\n",
       "      <td>0.689</td>\n",
       "      <td>0.096</td>\n",
       "      <td>0.599</td>\n",
       "      <td>0.107</td>\n",
       "      <td>0.634</td>\n",
       "      <td>0.079</td>\n",
       "      <td>0.698</td>\n",
       "      <td>0.060</td>\n",
       "      <td>0.780</td>\n",
       "      <td>0.061</td>\n",
       "      <td>0.736</td>\n",
       "      <td>0.083</td>\n",
       "      <td>210.000</td>\n",
       "      <td>0.000</td>\n",
       "    </tr>\n",
       "    <tr>\n",
       "      <th>12</th>\n",
       "      <td>0.005</td>\n",
       "      <td>0.003</td>\n",
       "      <td>0.060</td>\n",
       "      <td>0.026</td>\n",
       "      <td>0.710</td>\n",
       "      <td>0.101</td>\n",
       "      <td>0.632</td>\n",
       "      <td>0.111</td>\n",
       "      <td>0.663</td>\n",
       "      <td>0.088</td>\n",
       "      <td>0.719</td>\n",
       "      <td>0.071</td>\n",
       "      <td>0.797</td>\n",
       "      <td>0.063</td>\n",
       "      <td>0.746</td>\n",
       "      <td>0.085</td>\n",
       "      <td>210.000</td>\n",
       "      <td>0.000</td>\n",
       "    </tr>\n",
       "    <tr>\n",
       "      <th>13</th>\n",
       "      <td>0.004</td>\n",
       "      <td>0.003</td>\n",
       "      <td>0.046</td>\n",
       "      <td>0.025</td>\n",
       "      <td>0.706</td>\n",
       "      <td>0.103</td>\n",
       "      <td>0.631</td>\n",
       "      <td>0.117</td>\n",
       "      <td>0.660</td>\n",
       "      <td>0.092</td>\n",
       "      <td>0.717</td>\n",
       "      <td>0.072</td>\n",
       "      <td>0.792</td>\n",
       "      <td>0.063</td>\n",
       "      <td>0.743</td>\n",
       "      <td>0.084</td>\n",
       "      <td>210.000</td>\n",
       "      <td>0.000</td>\n",
       "    </tr>\n",
       "    <tr>\n",
       "      <th>14</th>\n",
       "      <td>0.004</td>\n",
       "      <td>0.000</td>\n",
       "      <td>0.045</td>\n",
       "      <td>0.005</td>\n",
       "      <td>0.707</td>\n",
       "      <td>0.105</td>\n",
       "      <td>0.631</td>\n",
       "      <td>0.112</td>\n",
       "      <td>0.661</td>\n",
       "      <td>0.091</td>\n",
       "      <td>0.717</td>\n",
       "      <td>0.072</td>\n",
       "      <td>0.791</td>\n",
       "      <td>0.062</td>\n",
       "      <td>0.739</td>\n",
       "      <td>0.083</td>\n",
       "      <td>210.000</td>\n",
       "      <td>0.000</td>\n",
       "    </tr>\n",
       "    <tr>\n",
       "      <th>15</th>\n",
       "      <td>0.003</td>\n",
       "      <td>0.001</td>\n",
       "      <td>0.032</td>\n",
       "      <td>0.009</td>\n",
       "      <td>0.699</td>\n",
       "      <td>0.104</td>\n",
       "      <td>0.633</td>\n",
       "      <td>0.118</td>\n",
       "      <td>0.658</td>\n",
       "      <td>0.091</td>\n",
       "      <td>0.715</td>\n",
       "      <td>0.071</td>\n",
       "      <td>0.791</td>\n",
       "      <td>0.061</td>\n",
       "      <td>0.739</td>\n",
       "      <td>0.085</td>\n",
       "      <td>210.000</td>\n",
       "      <td>0.000</td>\n",
       "    </tr>\n",
       "  </tbody>\n",
       "</table>\n",
       "</div>"
      ],
      "text/plain": [
       "           fit_time       score_time       test_precision       test_recall  \\\n",
       "               mean   std       mean   std           mean   std        mean   \n",
       "n_features                                                                    \n",
       "1             0.003 0.000      0.046 0.010          0.000 0.000       0.000   \n",
       "2             0.005 0.003      0.050 0.016          0.628 0.095       0.474   \n",
       "3             0.005 0.003      0.054 0.017          0.629 0.106       0.427   \n",
       "4             0.005 0.004      0.052 0.012          0.662 0.085       0.579   \n",
       "5             0.006 0.005      0.060 0.023          0.655 0.085       0.572   \n",
       "6             0.004 0.000      0.046 0.003          0.706 0.085       0.605   \n",
       "7             0.004 0.001      0.043 0.007          0.715 0.090       0.615   \n",
       "8             0.003 0.001      0.034 0.012          0.709 0.084       0.610   \n",
       "9             0.006 0.004      0.067 0.024          0.680 0.091       0.587   \n",
       "10            0.005 0.003      0.063 0.026          0.675 0.096       0.579   \n",
       "11            0.005 0.004      0.065 0.027          0.689 0.096       0.599   \n",
       "12            0.005 0.003      0.060 0.026          0.710 0.101       0.632   \n",
       "13            0.004 0.003      0.046 0.025          0.706 0.103       0.631   \n",
       "14            0.004 0.000      0.045 0.005          0.707 0.105       0.631   \n",
       "15            0.003 0.001      0.032 0.009          0.699 0.104       0.633   \n",
       "\n",
       "                 test_f1       test_balanced_accuracy       test_roc_auc  \\\n",
       "             std    mean   std                   mean   std         mean   \n",
       "n_features                                                                 \n",
       "1          0.000   0.000 0.000                  0.500 0.000        0.749   \n",
       "2          0.098   0.531 0.073                  0.630 0.050        0.697   \n",
       "3          0.094   0.500 0.078                  0.616 0.053        0.699   \n",
       "4          0.105   0.612 0.078                  0.680 0.060        0.777   \n",
       "5          0.102   0.605 0.078                  0.675 0.059        0.773   \n",
       "6          0.110   0.645 0.077                  0.708 0.056        0.797   \n",
       "7          0.118   0.653 0.081                  0.715 0.060        0.793   \n",
       "8          0.117   0.648 0.079                  0.712 0.059        0.791   \n",
       "9          0.108   0.622 0.074                  0.689 0.056        0.785   \n",
       "10         0.099   0.616 0.073                  0.684 0.058        0.781   \n",
       "11         0.107   0.634 0.079                  0.698 0.060        0.780   \n",
       "12         0.111   0.663 0.088                  0.719 0.071        0.797   \n",
       "13         0.117   0.660 0.092                  0.717 0.072        0.792   \n",
       "14         0.112   0.661 0.091                  0.717 0.072        0.791   \n",
       "15         0.118   0.658 0.091                  0.715 0.071        0.791   \n",
       "\n",
       "                 test_average_precision       n_observations        \n",
       "             std                   mean   std           mean   std  \n",
       "n_features                                                          \n",
       "1          0.068                  0.693 0.085        210.000 0.000  \n",
       "2          0.067                  0.659 0.072        210.000 0.000  \n",
       "3          0.066                  0.655 0.074        210.000 0.000  \n",
       "4          0.062                  0.743 0.068        210.000 0.000  \n",
       "5          0.064                  0.739 0.069        210.000 0.000  \n",
       "6          0.061                  0.760 0.071        210.000 0.000  \n",
       "7          0.061                  0.758 0.073        210.000 0.000  \n",
       "8          0.062                  0.742 0.084        210.000 0.000  \n",
       "9          0.059                  0.734 0.084        210.000 0.000  \n",
       "10         0.060                  0.732 0.086        210.000 0.000  \n",
       "11         0.061                  0.736 0.083        210.000 0.000  \n",
       "12         0.063                  0.746 0.085        210.000 0.000  \n",
       "13         0.063                  0.743 0.084        210.000 0.000  \n",
       "14         0.062                  0.739 0.083        210.000 0.000  \n",
       "15         0.061                  0.739 0.085        210.000 0.000  "
      ]
     },
     "execution_count": 17,
     "metadata": {},
     "output_type": "execute_result"
    }
   ],
   "source": [
    "cv_feat_new = njab.sklearn.find_n_best_features(X=X.loc[:, new_features],\n",
    "                                                y=target, name=args.target,\n",
    "                                                groups=target_to_group)\n",
    "cv_feat_new = cv_feat_new.drop('test_case', axis=1).groupby('n_features').agg(['mean', 'std'])\n",
    "cv_feat_new"
   ]
  },
  {
   "cell_type": "markdown",
   "id": "bd57bbac",
   "metadata": {
    "papermill": {
     "duration": 0.021851,
     "end_time": "2024-05-30T11:11:40.116329",
     "exception": false,
     "start_time": "2024-05-30T11:11:40.094478",
     "status": "completed"
    },
    "tags": []
   },
   "source": [
    "### Best number of features by subset of the data:"
   ]
  },
  {
   "cell_type": "code",
   "execution_count": 18,
   "id": "72655713",
   "metadata": {
    "execution": {
     "iopub.execute_input": "2024-05-30T11:11:40.160592Z",
     "iopub.status.busy": "2024-05-30T11:11:40.160318Z",
     "iopub.status.idle": "2024-05-30T11:11:40.172719Z",
     "shell.execute_reply": "2024-05-30T11:11:40.172014Z"
    },
    "papermill": {
     "duration": 0.036213,
     "end_time": "2024-05-30T11:11:40.173998",
     "exception": false,
     "start_time": "2024-05-30T11:11:40.137785",
     "status": "completed"
    },
    "tags": [
     "hide-input"
    ]
   },
   "outputs": [
    {
     "data": {
      "text/html": [
       "<div>\n",
       "<style scoped>\n",
       "    .dataframe tbody tr th:only-of-type {\n",
       "        vertical-align: middle;\n",
       "    }\n",
       "\n",
       "    .dataframe tbody tr th {\n",
       "        vertical-align: top;\n",
       "    }\n",
       "\n",
       "    .dataframe thead th {\n",
       "        text-align: right;\n",
       "    }\n",
       "</style>\n",
       "<table border=\"1\" class=\"dataframe\">\n",
       "  <thead>\n",
       "    <tr style=\"text-align: right;\">\n",
       "      <th></th>\n",
       "      <th>ald</th>\n",
       "      <th>all</th>\n",
       "      <th>new</th>\n",
       "    </tr>\n",
       "  </thead>\n",
       "  <tbody>\n",
       "    <tr>\n",
       "      <th>fit_time</th>\n",
       "      <td>7</td>\n",
       "      <td>1</td>\n",
       "      <td>9</td>\n",
       "    </tr>\n",
       "    <tr>\n",
       "      <th>score_time</th>\n",
       "      <td>4</td>\n",
       "      <td>1</td>\n",
       "      <td>9</td>\n",
       "    </tr>\n",
       "    <tr>\n",
       "      <th>test_precision</th>\n",
       "      <td>8</td>\n",
       "      <td>10</td>\n",
       "      <td>7</td>\n",
       "    </tr>\n",
       "    <tr>\n",
       "      <th>test_recall</th>\n",
       "      <td>10</td>\n",
       "      <td>10</td>\n",
       "      <td>15</td>\n",
       "    </tr>\n",
       "    <tr>\n",
       "      <th>test_f1</th>\n",
       "      <td>10</td>\n",
       "      <td>10</td>\n",
       "      <td>12</td>\n",
       "    </tr>\n",
       "    <tr>\n",
       "      <th>test_balanced_accuracy</th>\n",
       "      <td>10</td>\n",
       "      <td>10</td>\n",
       "      <td>12</td>\n",
       "    </tr>\n",
       "    <tr>\n",
       "      <th>test_roc_auc</th>\n",
       "      <td>10</td>\n",
       "      <td>14</td>\n",
       "      <td>6</td>\n",
       "    </tr>\n",
       "    <tr>\n",
       "      <th>test_average_precision</th>\n",
       "      <td>10</td>\n",
       "      <td>14</td>\n",
       "      <td>6</td>\n",
       "    </tr>\n",
       "    <tr>\n",
       "      <th>n_observations</th>\n",
       "      <td>1</td>\n",
       "      <td>1</td>\n",
       "      <td>1</td>\n",
       "    </tr>\n",
       "  </tbody>\n",
       "</table>\n",
       "</div>"
      ],
      "text/plain": [
       "                        ald  all  new\n",
       "fit_time                  7    1    9\n",
       "score_time                4    1    9\n",
       "test_precision            8   10    7\n",
       "test_recall              10   10   15\n",
       "test_f1                  10   10   12\n",
       "test_balanced_accuracy   10   10   12\n",
       "test_roc_auc             10   14    6\n",
       "test_average_precision   10   14    6\n",
       "n_observations            1    1    1"
      ]
     },
     "execution_count": 18,
     "metadata": {},
     "output_type": "execute_result"
    }
   ],
   "source": [
    "n_feat_best = pd.DataFrame(\n",
    "    {'ald': cv_feat_ald.loc[:, pd.IndexSlice[:, 'mean']].idxmax(),\n",
    "     'all': cv_feat_all.loc[:, pd.IndexSlice[:, 'mean']].idxmax(),\n",
    "     'new': cv_feat_new.loc[:, pd.IndexSlice[:, 'mean']].idxmax()\n",
    "     }\n",
    ").droplevel(-1)\n",
    "n_feat_best"
   ]
  },
  {
   "cell_type": "markdown",
   "id": "2efdc8bf",
   "metadata": {
    "papermill": {
     "duration": 0.021667,
     "end_time": "2024-05-30T11:11:40.217681",
     "exception": false,
     "start_time": "2024-05-30T11:11:40.196014",
     "status": "completed"
    },
    "tags": []
   },
   "source": [
    "## Train, test split\n",
    "Show number of cases in train and test data"
   ]
  },
  {
   "cell_type": "code",
   "execution_count": 19,
   "id": "dc3d3b21",
   "metadata": {
    "execution": {
     "iopub.execute_input": "2024-05-30T11:11:40.262490Z",
     "iopub.status.busy": "2024-05-30T11:11:40.262229Z",
     "iopub.status.idle": "2024-05-30T11:11:40.275801Z",
     "shell.execute_reply": "2024-05-30T11:11:40.275177Z"
    },
    "lines_to_next_cell": 0,
    "papermill": {
     "duration": 0.037881,
     "end_time": "2024-05-30T11:11:40.277157",
     "exception": false,
     "start_time": "2024-05-30T11:11:40.239276",
     "status": "completed"
    },
    "tags": [
     "hide-input"
    ]
   },
   "outputs": [
    {
     "data": {
      "text/html": [
       "<div>\n",
       "<style scoped>\n",
       "    .dataframe tbody tr th:only-of-type {\n",
       "        vertical-align: middle;\n",
       "    }\n",
       "\n",
       "    .dataframe tbody tr th {\n",
       "        vertical-align: top;\n",
       "    }\n",
       "\n",
       "    .dataframe thead th {\n",
       "        text-align: right;\n",
       "    }\n",
       "</style>\n",
       "<table border=\"1\" class=\"dataframe\">\n",
       "  <thead>\n",
       "    <tr style=\"text-align: right;\">\n",
       "      <th></th>\n",
       "      <th>train</th>\n",
       "      <th>test</th>\n",
       "    </tr>\n",
       "  </thead>\n",
       "  <tbody>\n",
       "    <tr>\n",
       "      <th>False</th>\n",
       "      <td>98</td>\n",
       "      <td>24</td>\n",
       "    </tr>\n",
       "    <tr>\n",
       "      <th>True</th>\n",
       "      <td>70</td>\n",
       "      <td>18</td>\n",
       "    </tr>\n",
       "  </tbody>\n",
       "</table>\n",
       "</div>"
      ],
      "text/plain": [
       "       train  test\n",
       "False     98    24\n",
       "True      70    18"
      ]
     },
     "execution_count": 19,
     "metadata": {},
     "output_type": "execute_result"
    }
   ],
   "source": [
    "X_train, X_test, y_train, y_test = sklearn.model_selection.train_test_split(\n",
    "    X,\n",
    "    target,\n",
    "    test_size=.2,\n",
    "    stratify=target_to_group,\n",
    "    random_state=42)\n",
    "idx_train = X_train.index\n",
    "idx_test = X_test.index\n",
    "\n",
    "njab.pandas.combine_value_counts(\n",
    "    pd.concat([y_train, y_test],\n",
    "              axis=1,\n",
    "              ignore_index=True,\n",
    "              ).rename(columns={0: 'train', 1: 'test'})\n",
    ")"
   ]
  },
  {
   "cell_type": "markdown",
   "id": "d3a33fb1",
   "metadata": {
    "papermill": {
     "duration": 0.021687,
     "end_time": "2024-05-30T11:11:40.321487",
     "exception": false,
     "start_time": "2024-05-30T11:11:40.299800",
     "status": "completed"
    },
    "tags": []
   },
   "source": [
    "## Results\n",
    "\n",
    "- `run_model` returns dataclasses with the further needed results\n",
    "- add mrmr selection of data (select best number of features to use instead of fixing it)\n",
    "\n",
    "Save results for final model on entire data, new features and ALD study criteria selected data."
   ]
  },
  {
   "cell_type": "code",
   "execution_count": 20,
   "id": "d3b4b394",
   "metadata": {
    "execution": {
     "iopub.execute_input": "2024-05-30T11:11:40.366609Z",
     "iopub.status.busy": "2024-05-30T11:11:40.366357Z",
     "iopub.status.idle": "2024-05-30T11:11:50.158676Z",
     "shell.execute_reply": "2024-05-30T11:11:50.158042Z"
    },
    "papermill": {
     "duration": 9.817145,
     "end_time": "2024-05-30T11:11:50.160362",
     "exception": false,
     "start_time": "2024-05-30T11:11:40.343217",
     "status": "completed"
    },
    "tags": [
     "hide-input"
    ]
   },
   "outputs": [
    {
     "name": "stderr",
     "output_type": "stream",
     "text": [
      "\r",
      "  0%|          | 0/14 [00:00<?, ?it/s]"
     ]
    },
    {
     "name": "stderr",
     "output_type": "stream",
     "text": [
      "\r",
      " 14%|█▍        | 2/14 [00:00<00:02,  5.83it/s]"
     ]
    },
    {
     "name": "stderr",
     "output_type": "stream",
     "text": [
      "\r",
      " 21%|██▏       | 3/14 [00:00<00:02,  4.57it/s]"
     ]
    },
    {
     "name": "stderr",
     "output_type": "stream",
     "text": [
      "\r",
      " 29%|██▊       | 4/14 [00:00<00:02,  4.10it/s]"
     ]
    },
    {
     "name": "stderr",
     "output_type": "stream",
     "text": [
      "\r",
      " 36%|███▌      | 5/14 [00:01<00:02,  4.06it/s]"
     ]
    },
    {
     "name": "stderr",
     "output_type": "stream",
     "text": [
      "\r",
      " 43%|████▎     | 6/14 [00:01<00:02,  3.92it/s]"
     ]
    },
    {
     "name": "stderr",
     "output_type": "stream",
     "text": [
      "\r",
      " 50%|█████     | 7/14 [00:01<00:01,  3.87it/s]"
     ]
    },
    {
     "name": "stderr",
     "output_type": "stream",
     "text": [
      "\r",
      " 57%|█████▋    | 8/14 [00:01<00:01,  3.90it/s]"
     ]
    },
    {
     "name": "stderr",
     "output_type": "stream",
     "text": [
      "\r",
      " 64%|██████▍   | 9/14 [00:02<00:01,  4.05it/s]"
     ]
    },
    {
     "name": "stderr",
     "output_type": "stream",
     "text": [
      "\r",
      " 71%|███████▏  | 10/14 [00:02<00:00,  4.10it/s]"
     ]
    },
    {
     "name": "stderr",
     "output_type": "stream",
     "text": [
      "\r",
      " 79%|███████▊  | 11/14 [00:02<00:00,  4.22it/s]"
     ]
    },
    {
     "name": "stderr",
     "output_type": "stream",
     "text": [
      "\r",
      " 86%|████████▌ | 12/14 [00:02<00:00,  4.32it/s]"
     ]
    },
    {
     "name": "stderr",
     "output_type": "stream",
     "text": [
      "\r",
      " 93%|█████████▎| 13/14 [00:03<00:00,  4.35it/s]"
     ]
    },
    {
     "name": "stderr",
     "output_type": "stream",
     "text": [
      "\r",
      "100%|██████████| 14/14 [00:03<00:00,  4.44it/s]"
     ]
    },
    {
     "name": "stderr",
     "output_type": "stream",
     "text": [
      "\r",
      "100%|██████████| 14/14 [00:03<00:00,  4.24it/s]"
     ]
    },
    {
     "name": "stderr",
     "output_type": "stream",
     "text": [
      "\n"
     ]
    },
    {
     "name": "stderr",
     "output_type": "stream",
     "text": [
      "\r",
      "  0%|          | 0/6 [00:00<?, ?it/s]"
     ]
    },
    {
     "name": "stderr",
     "output_type": "stream",
     "text": [
      "\r",
      " 50%|█████     | 3/6 [00:00<00:00, 28.79it/s]"
     ]
    },
    {
     "name": "stderr",
     "output_type": "stream",
     "text": [
      "\r",
      "100%|██████████| 6/6 [00:00<00:00, 23.62it/s]"
     ]
    },
    {
     "name": "stderr",
     "output_type": "stream",
     "text": [
      "\r",
      "100%|██████████| 6/6 [00:00<00:00, 24.20it/s]"
     ]
    },
    {
     "name": "stderr",
     "output_type": "stream",
     "text": [
      "\n"
     ]
    },
    {
     "name": "stderr",
     "output_type": "stream",
     "text": [
      "\r",
      "  0%|          | 0/10 [00:00<?, ?it/s]"
     ]
    },
    {
     "name": "stderr",
     "output_type": "stream",
     "text": [
      "\r",
      " 20%|██        | 2/10 [00:00<00:01,  7.62it/s]"
     ]
    },
    {
     "name": "stderr",
     "output_type": "stream",
     "text": [
      "\r",
      " 30%|███       | 3/10 [00:00<00:01,  5.81it/s]"
     ]
    },
    {
     "name": "stderr",
     "output_type": "stream",
     "text": [
      "\r",
      " 40%|████      | 4/10 [00:00<00:01,  5.13it/s]"
     ]
    },
    {
     "name": "stderr",
     "output_type": "stream",
     "text": [
      "\r",
      " 50%|█████     | 5/10 [00:00<00:01,  4.77it/s]"
     ]
    },
    {
     "name": "stderr",
     "output_type": "stream",
     "text": [
      "\r",
      " 60%|██████    | 6/10 [00:01<00:00,  4.51it/s]"
     ]
    },
    {
     "name": "stderr",
     "output_type": "stream",
     "text": [
      "\r",
      " 70%|███████   | 7/10 [00:01<00:00,  4.32it/s]"
     ]
    },
    {
     "name": "stderr",
     "output_type": "stream",
     "text": [
      "\r",
      " 80%|████████  | 8/10 [00:01<00:00,  4.29it/s]"
     ]
    },
    {
     "name": "stderr",
     "output_type": "stream",
     "text": [
      "\r",
      " 90%|█████████ | 9/10 [00:01<00:00,  4.56it/s]"
     ]
    },
    {
     "name": "stderr",
     "output_type": "stream",
     "text": [
      "\r",
      "100%|██████████| 10/10 [00:02<00:00,  4.72it/s]"
     ]
    },
    {
     "name": "stderr",
     "output_type": "stream",
     "text": [
      "\r",
      "100%|██████████| 10/10 [00:02<00:00,  4.80it/s]"
     ]
    },
    {
     "name": "stderr",
     "output_type": "stream",
     "text": [
      "\n"
     ]
    }
   ],
   "source": [
    "splits = Splits(X_train=X.loc[idx_train],\n",
    "                X_test=X.loc[idx_test],\n",
    "                y_train=y_train,\n",
    "                y_test=y_test)\n",
    "results_model_full = njab.sklearn.run_model(\n",
    "    splits,\n",
    "    n_feat_to_select=n_feat_best.loc['test_roc_auc', 'all'])\n",
    "results_model_full.name = f'{args.model_key} all'\n",
    "fname = args.out_folder / f'results_{results_model_full.name}.pkl'\n",
    "files_out[fname.name] = fname\n",
    "vaep.io.to_pickle(results_model_full, fname)\n",
    "\n",
    "splits = Splits(X_train=X.loc[idx_train, new_features],\n",
    "                X_test=X.loc[idx_test, new_features],\n",
    "                y_train=y_train,\n",
    "                y_test=y_test)\n",
    "results_model_new = njab.sklearn.run_model(\n",
    "    splits,\n",
    "    n_feat_to_select=n_feat_best.loc['test_roc_auc', 'new'])\n",
    "results_model_new.name = f'{args.model_key} new'\n",
    "fname = args.out_folder / f'results_{results_model_new.name}.pkl'\n",
    "files_out[fname.name] = fname\n",
    "vaep.io.to_pickle(results_model_new, fname)\n",
    "\n",
    "splits_ald = Splits(\n",
    "    X_train=ald_study.loc[idx_train],\n",
    "    X_test=ald_study.loc[idx_test],\n",
    "    y_train=y_train,\n",
    "    y_test=y_test)\n",
    "results_ald_full = njab.sklearn.run_model(\n",
    "    splits_ald,\n",
    "    n_feat_to_select=n_feat_best.loc['test_roc_auc', 'ald'])\n",
    "results_ald_full.name = 'ALD study all'\n",
    "fname = args.out_folder / f'results_{results_ald_full.name}.pkl'\n",
    "files_out[fname.name] = fname\n",
    "vaep.io.to_pickle(results_ald_full, fname)"
   ]
  },
  {
   "cell_type": "markdown",
   "id": "0ad96ff4",
   "metadata": {
    "papermill": {
     "duration": 0.02291,
     "end_time": "2024-05-30T11:11:50.217412",
     "exception": false,
     "start_time": "2024-05-30T11:11:50.194502",
     "status": "completed"
    },
    "tags": []
   },
   "source": [
    "### ROC-AUC on test split"
   ]
  },
  {
   "cell_type": "code",
   "execution_count": 21,
   "id": "04b82583",
   "metadata": {
    "execution": {
     "iopub.execute_input": "2024-05-30T11:11:50.265420Z",
     "iopub.status.busy": "2024-05-30T11:11:50.264729Z",
     "iopub.status.idle": "2024-05-30T11:11:50.847462Z",
     "shell.execute_reply": "2024-05-30T11:11:50.846850Z"
    },
    "papermill": {
     "duration": 0.608509,
     "end_time": "2024-05-30T11:11:50.849249",
     "exception": false,
     "start_time": "2024-05-30T11:11:50.240740",
     "status": "completed"
    },
    "tags": [
     "hide-input"
    ]
   },
   "outputs": [
    {
     "name": "stderr",
     "output_type": "stream",
     "text": [
      "vaep.plotting - INFO     Saved Figures to runs/alzheimer_study/diff_analysis/AD/PI_vs_VAE/auc_roc_curve.pdf\n"
     ]
    },
    {
     "data": {
      "image/png": "[encoded data removed]",
      "text/plain": [
       "<Figure size 367.5x367.5 with 1 Axes>"
      ]
     },
     "metadata": {},
     "output_type": "display_data"
    }
   ],
   "source": [
    "fig, ax = plt.subplots(1, 1, figsize=figsize)\n",
    "plot_split_auc(results_ald_full.test, results_ald_full.name, ax)\n",
    "plot_split_auc(results_model_full.test, results_model_full.name, ax)\n",
    "plot_split_auc(results_model_new.test, results_model_new.name, ax)\n",
    "fname = args.out_folder / 'auc_roc_curve.pdf'\n",
    "files_out[fname.name] = fname\n",
    "vaep.savefig(fig, name=fname)"
   ]
  },
  {
   "cell_type": "markdown",
   "id": "9e35c686",
   "metadata": {
    "papermill": {
     "duration": 0.023309,
     "end_time": "2024-05-30T11:11:50.902341",
     "exception": false,
     "start_time": "2024-05-30T11:11:50.879032",
     "status": "completed"
    },
    "tags": []
   },
   "source": [
    "Data used to plot ROC:"
   ]
  },
  {
   "cell_type": "code",
   "execution_count": 22,
   "id": "322281db",
   "metadata": {
    "execution": {
     "iopub.execute_input": "2024-05-30T11:11:50.950622Z",
     "iopub.status.busy": "2024-05-30T11:11:50.950397Z",
     "iopub.status.idle": "2024-05-30T11:11:51.130856Z",
     "shell.execute_reply": "2024-05-30T11:11:51.130077Z"
    },
    "papermill": {
     "duration": 0.206207,
     "end_time": "2024-05-30T11:11:51.132190",
     "exception": false,
     "start_time": "2024-05-30T11:11:50.925983",
     "status": "completed"
    },
    "tags": [
     "hide-input"
    ]
   },
   "outputs": [
    {
     "data": {
      "text/html": [
       "<div>\n",
       "<style scoped>\n",
       "    .dataframe tbody tr th:only-of-type {\n",
       "        vertical-align: middle;\n",
       "    }\n",
       "\n",
       "    .dataframe tbody tr th {\n",
       "        vertical-align: top;\n",
       "    }\n",
       "\n",
       "    .dataframe thead tr th {\n",
       "        text-align: left;\n",
       "    }\n",
       "</style>\n",
       "<table border=\"1\" class=\"dataframe\">\n",
       "  <thead>\n",
       "    <tr>\n",
       "      <th></th>\n",
       "      <th colspan=\"2\" halign=\"left\">ALD study all</th>\n",
       "      <th colspan=\"2\" halign=\"left\">VAE all</th>\n",
       "      <th colspan=\"2\" halign=\"left\">VAE new</th>\n",
       "    </tr>\n",
       "    <tr>\n",
       "      <th></th>\n",
       "      <th>fpr</th>\n",
       "      <th>tpr</th>\n",
       "      <th>fpr</th>\n",
       "      <th>tpr</th>\n",
       "      <th>fpr</th>\n",
       "      <th>tpr</th>\n",
       "    </tr>\n",
       "  </thead>\n",
       "  <tbody>\n",
       "    <tr>\n",
       "      <th>0</th>\n",
       "      <td>0.000</td>\n",
       "      <td>0.000</td>\n",
       "      <td>0.000</td>\n",
       "      <td>0.000</td>\n",
       "      <td>0.000</td>\n",
       "      <td>0.000</td>\n",
       "    </tr>\n",
       "    <tr>\n",
       "      <th>1</th>\n",
       "      <td>0.000</td>\n",
       "      <td>0.056</td>\n",
       "      <td>0.000</td>\n",
       "      <td>0.056</td>\n",
       "      <td>0.042</td>\n",
       "      <td>0.000</td>\n",
       "    </tr>\n",
       "    <tr>\n",
       "      <th>2</th>\n",
       "      <td>0.000</td>\n",
       "      <td>0.389</td>\n",
       "      <td>0.000</td>\n",
       "      <td>0.167</td>\n",
       "      <td>0.083</td>\n",
       "      <td>0.000</td>\n",
       "    </tr>\n",
       "    <tr>\n",
       "      <th>3</th>\n",
       "      <td>0.125</td>\n",
       "      <td>0.389</td>\n",
       "      <td>0.042</td>\n",
       "      <td>0.167</td>\n",
       "      <td>0.083</td>\n",
       "      <td>0.167</td>\n",
       "    </tr>\n",
       "    <tr>\n",
       "      <th>4</th>\n",
       "      <td>0.125</td>\n",
       "      <td>0.556</td>\n",
       "      <td>0.042</td>\n",
       "      <td>0.389</td>\n",
       "      <td>0.167</td>\n",
       "      <td>0.167</td>\n",
       "    </tr>\n",
       "    <tr>\n",
       "      <th>5</th>\n",
       "      <td>0.208</td>\n",
       "      <td>0.556</td>\n",
       "      <td>0.083</td>\n",
       "      <td>0.389</td>\n",
       "      <td>0.167</td>\n",
       "      <td>0.389</td>\n",
       "    </tr>\n",
       "    <tr>\n",
       "      <th>6</th>\n",
       "      <td>0.208</td>\n",
       "      <td>0.611</td>\n",
       "      <td>0.083</td>\n",
       "      <td>0.611</td>\n",
       "      <td>0.208</td>\n",
       "      <td>0.389</td>\n",
       "    </tr>\n",
       "    <tr>\n",
       "      <th>7</th>\n",
       "      <td>0.250</td>\n",
       "      <td>0.611</td>\n",
       "      <td>0.208</td>\n",
       "      <td>0.611</td>\n",
       "      <td>0.208</td>\n",
       "      <td>0.444</td>\n",
       "    </tr>\n",
       "    <tr>\n",
       "      <th>8</th>\n",
       "      <td>0.250</td>\n",
       "      <td>0.778</td>\n",
       "      <td>0.208</td>\n",
       "      <td>0.833</td>\n",
       "      <td>0.292</td>\n",
       "      <td>0.444</td>\n",
       "    </tr>\n",
       "    <tr>\n",
       "      <th>9</th>\n",
       "      <td>0.292</td>\n",
       "      <td>0.778</td>\n",
       "      <td>0.375</td>\n",
       "      <td>0.833</td>\n",
       "      <td>0.292</td>\n",
       "      <td>0.556</td>\n",
       "    </tr>\n",
       "    <tr>\n",
       "      <th>10</th>\n",
       "      <td>0.292</td>\n",
       "      <td>0.833</td>\n",
       "      <td>0.375</td>\n",
       "      <td>0.944</td>\n",
       "      <td>0.333</td>\n",
       "      <td>0.556</td>\n",
       "    </tr>\n",
       "    <tr>\n",
       "      <th>11</th>\n",
       "      <td>0.333</td>\n",
       "      <td>0.833</td>\n",
       "      <td>0.500</td>\n",
       "      <td>0.944</td>\n",
       "      <td>0.333</td>\n",
       "      <td>0.611</td>\n",
       "    </tr>\n",
       "    <tr>\n",
       "      <th>12</th>\n",
       "      <td>0.333</td>\n",
       "      <td>0.889</td>\n",
       "      <td>0.500</td>\n",
       "      <td>1.000</td>\n",
       "      <td>0.417</td>\n",
       "      <td>0.611</td>\n",
       "    </tr>\n",
       "    <tr>\n",
       "      <th>13</th>\n",
       "      <td>0.375</td>\n",
       "      <td>0.889</td>\n",
       "      <td>1.000</td>\n",
       "      <td>1.000</td>\n",
       "      <td>0.417</td>\n",
       "      <td>0.722</td>\n",
       "    </tr>\n",
       "    <tr>\n",
       "      <th>14</th>\n",
       "      <td>0.375</td>\n",
       "      <td>1.000</td>\n",
       "      <td>NaN</td>\n",
       "      <td>NaN</td>\n",
       "      <td>0.500</td>\n",
       "      <td>0.722</td>\n",
       "    </tr>\n",
       "    <tr>\n",
       "      <th>15</th>\n",
       "      <td>1.000</td>\n",
       "      <td>1.000</td>\n",
       "      <td>NaN</td>\n",
       "      <td>NaN</td>\n",
       "      <td>0.500</td>\n",
       "      <td>0.778</td>\n",
       "    </tr>\n",
       "    <tr>\n",
       "      <th>16</th>\n",
       "      <td>NaN</td>\n",
       "      <td>NaN</td>\n",
       "      <td>NaN</td>\n",
       "      <td>NaN</td>\n",
       "      <td>0.667</td>\n",
       "      <td>0.778</td>\n",
       "    </tr>\n",
       "    <tr>\n",
       "      <th>17</th>\n",
       "      <td>NaN</td>\n",
       "      <td>NaN</td>\n",
       "      <td>NaN</td>\n",
       "      <td>NaN</td>\n",
       "      <td>0.667</td>\n",
       "      <td>0.833</td>\n",
       "    </tr>\n",
       "    <tr>\n",
       "      <th>18</th>\n",
       "      <td>NaN</td>\n",
       "      <td>NaN</td>\n",
       "      <td>NaN</td>\n",
       "      <td>NaN</td>\n",
       "      <td>0.792</td>\n",
       "      <td>0.833</td>\n",
       "    </tr>\n",
       "    <tr>\n",
       "      <th>19</th>\n",
       "      <td>NaN</td>\n",
       "      <td>NaN</td>\n",
       "      <td>NaN</td>\n",
       "      <td>NaN</td>\n",
       "      <td>0.792</td>\n",
       "      <td>0.889</td>\n",
       "    </tr>\n",
       "    <tr>\n",
       "      <th>20</th>\n",
       "      <td>NaN</td>\n",
       "      <td>NaN</td>\n",
       "      <td>NaN</td>\n",
       "      <td>NaN</td>\n",
       "      <td>0.833</td>\n",
       "      <td>0.889</td>\n",
       "    </tr>\n",
       "    <tr>\n",
       "      <th>21</th>\n",
       "      <td>NaN</td>\n",
       "      <td>NaN</td>\n",
       "      <td>NaN</td>\n",
       "      <td>NaN</td>\n",
       "      <td>0.833</td>\n",
       "      <td>1.000</td>\n",
       "    </tr>\n",
       "    <tr>\n",
       "      <th>22</th>\n",
       "      <td>NaN</td>\n",
       "      <td>NaN</td>\n",
       "      <td>NaN</td>\n",
       "      <td>NaN</td>\n",
       "      <td>1.000</td>\n",
       "      <td>1.000</td>\n",
       "    </tr>\n",
       "  </tbody>\n",
       "</table>\n",
       "</div>"
      ],
      "text/plain": [
       "   ALD study all       VAE all       VAE new      \n",
       "             fpr   tpr     fpr   tpr     fpr   tpr\n",
       "0          0.000 0.000   0.000 0.000   0.000 0.000\n",
       "1          0.000 0.056   0.000 0.056   0.042 0.000\n",
       "2          0.000 0.389   0.000 0.167   0.083 0.000\n",
       "3          0.125 0.389   0.042 0.167   0.083 0.167\n",
       "4          0.125 0.556   0.042 0.389   0.167 0.167\n",
       "5          0.208 0.556   0.083 0.389   0.167 0.389\n",
       "6          0.208 0.611   0.083 0.611   0.208 0.389\n",
       "7          0.250 0.611   0.208 0.611   0.208 0.444\n",
       "8          0.250 0.778   0.208 0.833   0.292 0.444\n",
       "9          0.292 0.778   0.375 0.833   0.292 0.556\n",
       "10         0.292 0.833   0.375 0.944   0.333 0.556\n",
       "11         0.333 0.833   0.500 0.944   0.333 0.611\n",
       "12         0.333 0.889   0.500 1.000   0.417 0.611\n",
       "13         0.375 0.889   1.000 1.000   0.417 0.722\n",
       "14         0.375 1.000     NaN   NaN   0.500 0.722\n",
       "15         1.000 1.000     NaN   NaN   0.500 0.778\n",
       "16           NaN   NaN     NaN   NaN   0.667 0.778\n",
       "17           NaN   NaN     NaN   NaN   0.667 0.833\n",
       "18           NaN   NaN     NaN   NaN   0.792 0.833\n",
       "19           NaN   NaN     NaN   NaN   0.792 0.889\n",
       "20           NaN   NaN     NaN   NaN   0.833 0.889\n",
       "21           NaN   NaN     NaN   NaN   0.833 1.000\n",
       "22           NaN   NaN     NaN   NaN   1.000 1.000"
      ]
     },
     "execution_count": 22,
     "metadata": {},
     "output_type": "execute_result"
    }
   ],
   "source": [
    "res = [results_ald_full, results_model_full, results_model_new]\n",
    "\n",
    "auc_roc_curve = parse_roc(*res)\n",
    "auc_roc_curve.to_excel(fname.with_suffix('.xlsx'))\n",
    "auc_roc_curve"
   ]
  },
  {
   "cell_type": "markdown",
   "id": "46e9a3f2-89aa-4bd5-a083-d8e16815020a",
   "metadata": {
    "papermill": {
     "duration": 0.023671,
     "end_time": "2024-05-30T11:11:51.180116",
     "exception": false,
     "start_time": "2024-05-30T11:11:51.156445",
     "status": "completed"
    },
    "tags": []
   },
   "source": [
    "### Features selected for final models"
   ]
  },
  {
   "cell_type": "code",
   "execution_count": 23,
   "id": "9e1bb173",
   "metadata": {
    "execution": {
     "iopub.execute_input": "2024-05-30T11:11:51.228106Z",
     "iopub.status.busy": "2024-05-30T11:11:51.227511Z",
     "iopub.status.idle": "2024-05-30T11:11:51.250677Z",
     "shell.execute_reply": "2024-05-30T11:11:51.250080Z"
    },
    "papermill": {
     "duration": 0.048533,
     "end_time": "2024-05-30T11:11:51.251917",
     "exception": false,
     "start_time": "2024-05-30T11:11:51.203384",
     "status": "completed"
    },
    "tags": [
     "hide-input"
    ]
   },
   "outputs": [
    {
     "data": {
      "text/html": [
       "<div>\n",
       "<style scoped>\n",
       "    .dataframe tbody tr th:only-of-type {\n",
       "        vertical-align: middle;\n",
       "    }\n",
       "\n",
       "    .dataframe tbody tr th {\n",
       "        vertical-align: top;\n",
       "    }\n",
       "\n",
       "    .dataframe thead th {\n",
       "        text-align: right;\n",
       "    }\n",
       "</style>\n",
       "<table border=\"1\" class=\"dataframe\">\n",
       "  <thead>\n",
       "    <tr style=\"text-align: right;\">\n",
       "      <th></th>\n",
       "      <th>ALD study all</th>\n",
       "      <th>VAE all</th>\n",
       "      <th>VAE new</th>\n",
       "    </tr>\n",
       "    <tr>\n",
       "      <th>rank</th>\n",
       "      <th></th>\n",
       "      <th></th>\n",
       "      <th></th>\n",
       "    </tr>\n",
       "  </thead>\n",
       "  <tbody>\n",
       "    <tr>\n",
       "      <th>0</th>\n",
       "      <td>P10636-2;P10636-6</td>\n",
       "      <td>P10636-2;P10636-6</td>\n",
       "      <td>Q14894</td>\n",
       "    </tr>\n",
       "    <tr>\n",
       "      <th>1</th>\n",
       "      <td>B0QYF8;P02144</td>\n",
       "      <td>A0A087WTT8;A0A0A0MQX5;O94779;O94779-2</td>\n",
       "      <td>B1AJQ6;Q86Y82</td>\n",
       "    </tr>\n",
       "    <tr>\n",
       "      <th>2</th>\n",
       "      <td>G3XAP6;P49747;P49747-2</td>\n",
       "      <td>A6NNI4;G8JLH6;P21926</td>\n",
       "      <td>Q9GZT8;Q9GZT8-2</td>\n",
       "    </tr>\n",
       "    <tr>\n",
       "      <th>3</th>\n",
       "      <td>P02766</td>\n",
       "      <td>Q9Y2T3;Q9Y2T3-3</td>\n",
       "      <td>A0A1W2PQ94;B4DS77;B4DS77-2;B4DS77-3</td>\n",
       "    </tr>\n",
       "    <tr>\n",
       "      <th>4</th>\n",
       "      <td>P61981</td>\n",
       "      <td>P61981</td>\n",
       "      <td>P31321</td>\n",
       "    </tr>\n",
       "    <tr>\n",
       "      <th>5</th>\n",
       "      <td>P04075</td>\n",
       "      <td>P04075</td>\n",
       "      <td>J3KSJ8;Q9UD71;Q9UD71-2</td>\n",
       "    </tr>\n",
       "    <tr>\n",
       "      <th>6</th>\n",
       "      <td>P14174</td>\n",
       "      <td>P14174</td>\n",
       "      <td>None</td>\n",
       "    </tr>\n",
       "    <tr>\n",
       "      <th>7</th>\n",
       "      <td>Q9Y2T3;Q9Y2T3-3</td>\n",
       "      <td>Q14894</td>\n",
       "      <td>None</td>\n",
       "    </tr>\n",
       "    <tr>\n",
       "      <th>8</th>\n",
       "      <td>P00338;P00338-3</td>\n",
       "      <td>P63104</td>\n",
       "      <td>None</td>\n",
       "    </tr>\n",
       "    <tr>\n",
       "      <th>9</th>\n",
       "      <td>Q6EMK4</td>\n",
       "      <td>P00492</td>\n",
       "      <td>None</td>\n",
       "    </tr>\n",
       "    <tr>\n",
       "      <th>10</th>\n",
       "      <td>None</td>\n",
       "      <td>P25189;P25189-2</td>\n",
       "      <td>None</td>\n",
       "    </tr>\n",
       "    <tr>\n",
       "      <th>11</th>\n",
       "      <td>None</td>\n",
       "      <td>P00338;P00338-3</td>\n",
       "      <td>None</td>\n",
       "    </tr>\n",
       "    <tr>\n",
       "      <th>12</th>\n",
       "      <td>None</td>\n",
       "      <td>P15151-2</td>\n",
       "      <td>None</td>\n",
       "    </tr>\n",
       "    <tr>\n",
       "      <th>13</th>\n",
       "      <td>None</td>\n",
       "      <td>Q6EMK4</td>\n",
       "      <td>None</td>\n",
       "    </tr>\n",
       "  </tbody>\n",
       "</table>\n",
       "</div>"
      ],
      "text/plain": [
       "               ALD study all                                VAE all  \\\n",
       "rank                                                                  \n",
       "0          P10636-2;P10636-6                      P10636-2;P10636-6   \n",
       "1              B0QYF8;P02144  A0A087WTT8;A0A0A0MQX5;O94779;O94779-2   \n",
       "2     G3XAP6;P49747;P49747-2                   A6NNI4;G8JLH6;P21926   \n",
       "3                     P02766                        Q9Y2T3;Q9Y2T3-3   \n",
       "4                     P61981                                 P61981   \n",
       "5                     P04075                                 P04075   \n",
       "6                     P14174                                 P14174   \n",
       "7            Q9Y2T3;Q9Y2T3-3                                 Q14894   \n",
       "8            P00338;P00338-3                                 P63104   \n",
       "9                     Q6EMK4                                 P00492   \n",
       "10                      None                        P25189;P25189-2   \n",
       "11                      None                        P00338;P00338-3   \n",
       "12                      None                               P15151-2   \n",
       "13                      None                                 Q6EMK4   \n",
       "\n",
       "                                  VAE new  \n",
       "rank                                       \n",
       "0                                  Q14894  \n",
       "1                           B1AJQ6;Q86Y82  \n",
       "2                         Q9GZT8;Q9GZT8-2  \n",
       "3     A0A1W2PQ94;B4DS77;B4DS77-2;B4DS77-3  \n",
       "4                                  P31321  \n",
       "5                  J3KSJ8;Q9UD71;Q9UD71-2  \n",
       "6                                    None  \n",
       "7                                    None  \n",
       "8                                    None  \n",
       "9                                    None  \n",
       "10                                   None  \n",
       "11                                   None  \n",
       "12                                   None  \n",
       "13                                   None  "
      ]
     },
     "execution_count": 23,
     "metadata": {},
     "output_type": "execute_result"
    }
   ],
   "source": [
    "selected_features = pd.DataFrame(\n",
    "    [results_ald_full.selected_features,\n",
    "     results_model_full.selected_features,\n",
    "     results_model_new.selected_features],\n",
    "    index=[\n",
    "        results_ald_full.name,\n",
    "        results_model_full.name,\n",
    "        results_model_new.name]\n",
    ").T\n",
    "selected_features.index.name = 'rank'\n",
    "fname = args.out_folder / 'mrmr_feat_by_model.xlsx'\n",
    "files_out[fname.name] = fname\n",
    "selected_features.to_excel(fname)\n",
    "selected_features"
   ]
  },
  {
   "cell_type": "markdown",
   "id": "ce227174",
   "metadata": {
    "papermill": {
     "duration": 0.023502,
     "end_time": "2024-05-30T11:11:51.299129",
     "exception": false,
     "start_time": "2024-05-30T11:11:51.275627",
     "status": "completed"
    },
    "tags": []
   },
   "source": [
    "### Precision-Recall plot on test data"
   ]
  },
  {
   "cell_type": "code",
   "execution_count": 24,
   "id": "56ea0d50",
   "metadata": {
    "execution": {
     "iopub.execute_input": "2024-05-30T11:11:51.348435Z",
     "iopub.status.busy": "2024-05-30T11:11:51.347845Z",
     "iopub.status.idle": "2024-05-30T11:11:52.370251Z",
     "shell.execute_reply": "2024-05-30T11:11:52.369474Z"
    },
    "papermill": {
     "duration": 1.049009,
     "end_time": "2024-05-30T11:11:52.372166",
     "exception": false,
     "start_time": "2024-05-30T11:11:51.323157",
     "status": "completed"
    },
    "tags": [
     "hide-input"
    ]
   },
   "outputs": [
    {
     "name": "stderr",
     "output_type": "stream",
     "text": [
      "vaep.plotting - INFO     Saved Figures to runs/alzheimer_study/diff_analysis/AD/PI_vs_VAE/prec_recall_curve.pdf\n"
     ]
    },
    {
     "data": {
      "image/png": "[encoded data removed]",
      "text/plain": [
       "<Figure size 367.5x367.5 with 1 Axes>"
      ]
     },
     "metadata": {},
     "output_type": "display_data"
    }
   ],
   "source": [
    "fig, ax = plt.subplots(1, 1, figsize=figsize)\n",
    "\n",
    "ax = plot_split_prc(results_ald_full.test, results_ald_full.name, ax)\n",
    "ax = plot_split_prc(results_model_full.test, results_model_full.name, ax)\n",
    "ax = plot_split_prc(results_model_new.test, results_model_new.name, ax)\n",
    "fname = folder = args.out_folder / 'prec_recall_curve.pdf'\n",
    "files_out[fname.name] = fname\n",
    "vaep.savefig(fig, name=fname)"
   ]
  },
  {
   "cell_type": "markdown",
   "id": "bc9e560d",
   "metadata": {
    "papermill": {
     "duration": 0.03013,
     "end_time": "2024-05-30T11:11:52.506469",
     "exception": false,
     "start_time": "2024-05-30T11:11:52.476339",
     "status": "completed"
    },
    "tags": []
   },
   "source": [
    "Data used to plot PRC:"
   ]
  },
  {
   "cell_type": "code",
   "execution_count": 25,
   "id": "a9f5e5ce",
   "metadata": {
    "execution": {
     "iopub.execute_input": "2024-05-30T11:11:52.556219Z",
     "iopub.status.busy": "2024-05-30T11:11:52.555557Z",
     "iopub.status.idle": "2024-05-30T11:11:52.588491Z",
     "shell.execute_reply": "2024-05-30T11:11:52.587740Z"
    },
    "papermill": {
     "duration": 0.059012,
     "end_time": "2024-05-30T11:11:52.589683",
     "exception": false,
     "start_time": "2024-05-30T11:11:52.530671",
     "status": "completed"
    },
    "tags": [
     "hide-input"
    ]
   },
   "outputs": [
    {
     "data": {
      "text/html": [
       "<div>\n",
       "<style scoped>\n",
       "    .dataframe tbody tr th:only-of-type {\n",
       "        vertical-align: middle;\n",
       "    }\n",
       "\n",
       "    .dataframe tbody tr th {\n",
       "        vertical-align: top;\n",
       "    }\n",
       "\n",
       "    .dataframe thead tr th {\n",
       "        text-align: left;\n",
       "    }\n",
       "</style>\n",
       "<table border=\"1\" class=\"dataframe\">\n",
       "  <thead>\n",
       "    <tr>\n",
       "      <th></th>\n",
       "      <th colspan=\"2\" halign=\"left\">ALD study all</th>\n",
       "      <th colspan=\"2\" halign=\"left\">VAE all</th>\n",
       "      <th colspan=\"2\" halign=\"left\">VAE new</th>\n",
       "    </tr>\n",
       "    <tr>\n",
       "      <th></th>\n",
       "      <th>precision</th>\n",
       "      <th>tpr</th>\n",
       "      <th>precision</th>\n",
       "      <th>tpr</th>\n",
       "      <th>precision</th>\n",
       "      <th>tpr</th>\n",
       "    </tr>\n",
       "  </thead>\n",
       "  <tbody>\n",
       "    <tr>\n",
       "      <th>0</th>\n",
       "      <td>0.429</td>\n",
       "      <td>1.000</td>\n",
       "      <td>0.429</td>\n",
       "      <td>1.000</td>\n",
       "      <td>0.429</td>\n",
       "      <td>1.000</td>\n",
       "    </tr>\n",
       "    <tr>\n",
       "      <th>1</th>\n",
       "      <td>0.439</td>\n",
       "      <td>1.000</td>\n",
       "      <td>0.439</td>\n",
       "      <td>1.000</td>\n",
       "      <td>0.439</td>\n",
       "      <td>1.000</td>\n",
       "    </tr>\n",
       "    <tr>\n",
       "      <th>2</th>\n",
       "      <td>0.450</td>\n",
       "      <td>1.000</td>\n",
       "      <td>0.450</td>\n",
       "      <td>1.000</td>\n",
       "      <td>0.450</td>\n",
       "      <td>1.000</td>\n",
       "    </tr>\n",
       "    <tr>\n",
       "      <th>3</th>\n",
       "      <td>0.462</td>\n",
       "      <td>1.000</td>\n",
       "      <td>0.462</td>\n",
       "      <td>1.000</td>\n",
       "      <td>0.462</td>\n",
       "      <td>1.000</td>\n",
       "    </tr>\n",
       "    <tr>\n",
       "      <th>4</th>\n",
       "      <td>0.474</td>\n",
       "      <td>1.000</td>\n",
       "      <td>0.474</td>\n",
       "      <td>1.000</td>\n",
       "      <td>0.474</td>\n",
       "      <td>1.000</td>\n",
       "    </tr>\n",
       "    <tr>\n",
       "      <th>5</th>\n",
       "      <td>0.486</td>\n",
       "      <td>1.000</td>\n",
       "      <td>0.486</td>\n",
       "      <td>1.000</td>\n",
       "      <td>0.459</td>\n",
       "      <td>0.944</td>\n",
       "    </tr>\n",
       "    <tr>\n",
       "      <th>6</th>\n",
       "      <td>0.500</td>\n",
       "      <td>1.000</td>\n",
       "      <td>0.500</td>\n",
       "      <td>1.000</td>\n",
       "      <td>0.444</td>\n",
       "      <td>0.889</td>\n",
       "    </tr>\n",
       "    <tr>\n",
       "      <th>7</th>\n",
       "      <td>0.514</td>\n",
       "      <td>1.000</td>\n",
       "      <td>0.514</td>\n",
       "      <td>1.000</td>\n",
       "      <td>0.457</td>\n",
       "      <td>0.889</td>\n",
       "    </tr>\n",
       "    <tr>\n",
       "      <th>8</th>\n",
       "      <td>0.529</td>\n",
       "      <td>1.000</td>\n",
       "      <td>0.529</td>\n",
       "      <td>1.000</td>\n",
       "      <td>0.441</td>\n",
       "      <td>0.833</td>\n",
       "    </tr>\n",
       "    <tr>\n",
       "      <th>9</th>\n",
       "      <td>0.545</td>\n",
       "      <td>1.000</td>\n",
       "      <td>0.545</td>\n",
       "      <td>1.000</td>\n",
       "      <td>0.455</td>\n",
       "      <td>0.833</td>\n",
       "    </tr>\n",
       "    <tr>\n",
       "      <th>10</th>\n",
       "      <td>0.562</td>\n",
       "      <td>1.000</td>\n",
       "      <td>0.562</td>\n",
       "      <td>1.000</td>\n",
       "      <td>0.469</td>\n",
       "      <td>0.833</td>\n",
       "    </tr>\n",
       "    <tr>\n",
       "      <th>11</th>\n",
       "      <td>0.581</td>\n",
       "      <td>1.000</td>\n",
       "      <td>0.581</td>\n",
       "      <td>1.000</td>\n",
       "      <td>0.484</td>\n",
       "      <td>0.833</td>\n",
       "    </tr>\n",
       "    <tr>\n",
       "      <th>12</th>\n",
       "      <td>0.600</td>\n",
       "      <td>1.000</td>\n",
       "      <td>0.600</td>\n",
       "      <td>1.000</td>\n",
       "      <td>0.467</td>\n",
       "      <td>0.778</td>\n",
       "    </tr>\n",
       "    <tr>\n",
       "      <th>13</th>\n",
       "      <td>0.621</td>\n",
       "      <td>1.000</td>\n",
       "      <td>0.586</td>\n",
       "      <td>0.944</td>\n",
       "      <td>0.483</td>\n",
       "      <td>0.778</td>\n",
       "    </tr>\n",
       "    <tr>\n",
       "      <th>14</th>\n",
       "      <td>0.643</td>\n",
       "      <td>1.000</td>\n",
       "      <td>0.607</td>\n",
       "      <td>0.944</td>\n",
       "      <td>0.500</td>\n",
       "      <td>0.778</td>\n",
       "    </tr>\n",
       "    <tr>\n",
       "      <th>15</th>\n",
       "      <td>0.667</td>\n",
       "      <td>1.000</td>\n",
       "      <td>0.630</td>\n",
       "      <td>0.944</td>\n",
       "      <td>0.519</td>\n",
       "      <td>0.778</td>\n",
       "    </tr>\n",
       "    <tr>\n",
       "      <th>16</th>\n",
       "      <td>0.654</td>\n",
       "      <td>0.944</td>\n",
       "      <td>0.654</td>\n",
       "      <td>0.944</td>\n",
       "      <td>0.538</td>\n",
       "      <td>0.778</td>\n",
       "    </tr>\n",
       "    <tr>\n",
       "      <th>17</th>\n",
       "      <td>0.640</td>\n",
       "      <td>0.889</td>\n",
       "      <td>0.640</td>\n",
       "      <td>0.889</td>\n",
       "      <td>0.520</td>\n",
       "      <td>0.722</td>\n",
       "    </tr>\n",
       "    <tr>\n",
       "      <th>18</th>\n",
       "      <td>0.667</td>\n",
       "      <td>0.889</td>\n",
       "      <td>0.625</td>\n",
       "      <td>0.833</td>\n",
       "      <td>0.542</td>\n",
       "      <td>0.722</td>\n",
       "    </tr>\n",
       "    <tr>\n",
       "      <th>19</th>\n",
       "      <td>0.652</td>\n",
       "      <td>0.833</td>\n",
       "      <td>0.652</td>\n",
       "      <td>0.833</td>\n",
       "      <td>0.565</td>\n",
       "      <td>0.722</td>\n",
       "    </tr>\n",
       "    <tr>\n",
       "      <th>20</th>\n",
       "      <td>0.682</td>\n",
       "      <td>0.833</td>\n",
       "      <td>0.682</td>\n",
       "      <td>0.833</td>\n",
       "      <td>0.545</td>\n",
       "      <td>0.667</td>\n",
       "    </tr>\n",
       "    <tr>\n",
       "      <th>21</th>\n",
       "      <td>0.667</td>\n",
       "      <td>0.778</td>\n",
       "      <td>0.714</td>\n",
       "      <td>0.833</td>\n",
       "      <td>0.524</td>\n",
       "      <td>0.611</td>\n",
       "    </tr>\n",
       "    <tr>\n",
       "      <th>22</th>\n",
       "      <td>0.700</td>\n",
       "      <td>0.778</td>\n",
       "      <td>0.750</td>\n",
       "      <td>0.833</td>\n",
       "      <td>0.550</td>\n",
       "      <td>0.611</td>\n",
       "    </tr>\n",
       "    <tr>\n",
       "      <th>23</th>\n",
       "      <td>0.684</td>\n",
       "      <td>0.722</td>\n",
       "      <td>0.737</td>\n",
       "      <td>0.778</td>\n",
       "      <td>0.579</td>\n",
       "      <td>0.611</td>\n",
       "    </tr>\n",
       "    <tr>\n",
       "      <th>24</th>\n",
       "      <td>0.667</td>\n",
       "      <td>0.667</td>\n",
       "      <td>0.722</td>\n",
       "      <td>0.722</td>\n",
       "      <td>0.556</td>\n",
       "      <td>0.556</td>\n",
       "    </tr>\n",
       "    <tr>\n",
       "      <th>25</th>\n",
       "      <td>0.647</td>\n",
       "      <td>0.611</td>\n",
       "      <td>0.706</td>\n",
       "      <td>0.667</td>\n",
       "      <td>0.588</td>\n",
       "      <td>0.556</td>\n",
       "    </tr>\n",
       "    <tr>\n",
       "      <th>26</th>\n",
       "      <td>0.688</td>\n",
       "      <td>0.611</td>\n",
       "      <td>0.688</td>\n",
       "      <td>0.611</td>\n",
       "      <td>0.562</td>\n",
       "      <td>0.500</td>\n",
       "    </tr>\n",
       "    <tr>\n",
       "      <th>27</th>\n",
       "      <td>0.667</td>\n",
       "      <td>0.556</td>\n",
       "      <td>0.733</td>\n",
       "      <td>0.611</td>\n",
       "      <td>0.533</td>\n",
       "      <td>0.444</td>\n",
       "    </tr>\n",
       "    <tr>\n",
       "      <th>28</th>\n",
       "      <td>0.714</td>\n",
       "      <td>0.556</td>\n",
       "      <td>0.786</td>\n",
       "      <td>0.611</td>\n",
       "      <td>0.571</td>\n",
       "      <td>0.444</td>\n",
       "    </tr>\n",
       "    <tr>\n",
       "      <th>29</th>\n",
       "      <td>0.769</td>\n",
       "      <td>0.556</td>\n",
       "      <td>0.846</td>\n",
       "      <td>0.611</td>\n",
       "      <td>0.615</td>\n",
       "      <td>0.444</td>\n",
       "    </tr>\n",
       "    <tr>\n",
       "      <th>30</th>\n",
       "      <td>0.750</td>\n",
       "      <td>0.500</td>\n",
       "      <td>0.833</td>\n",
       "      <td>0.556</td>\n",
       "      <td>0.583</td>\n",
       "      <td>0.389</td>\n",
       "    </tr>\n",
       "    <tr>\n",
       "      <th>31</th>\n",
       "      <td>0.727</td>\n",
       "      <td>0.444</td>\n",
       "      <td>0.818</td>\n",
       "      <td>0.500</td>\n",
       "      <td>0.636</td>\n",
       "      <td>0.389</td>\n",
       "    </tr>\n",
       "    <tr>\n",
       "      <th>32</th>\n",
       "      <td>0.700</td>\n",
       "      <td>0.389</td>\n",
       "      <td>0.800</td>\n",
       "      <td>0.444</td>\n",
       "      <td>0.600</td>\n",
       "      <td>0.333</td>\n",
       "    </tr>\n",
       "    <tr>\n",
       "      <th>33</th>\n",
       "      <td>0.778</td>\n",
       "      <td>0.389</td>\n",
       "      <td>0.778</td>\n",
       "      <td>0.389</td>\n",
       "      <td>0.556</td>\n",
       "      <td>0.278</td>\n",
       "    </tr>\n",
       "    <tr>\n",
       "      <th>34</th>\n",
       "      <td>0.875</td>\n",
       "      <td>0.389</td>\n",
       "      <td>0.875</td>\n",
       "      <td>0.389</td>\n",
       "      <td>0.500</td>\n",
       "      <td>0.222</td>\n",
       "    </tr>\n",
       "    <tr>\n",
       "      <th>35</th>\n",
       "      <td>1.000</td>\n",
       "      <td>0.389</td>\n",
       "      <td>0.857</td>\n",
       "      <td>0.333</td>\n",
       "      <td>0.429</td>\n",
       "      <td>0.167</td>\n",
       "    </tr>\n",
       "    <tr>\n",
       "      <th>36</th>\n",
       "      <td>1.000</td>\n",
       "      <td>0.333</td>\n",
       "      <td>0.833</td>\n",
       "      <td>0.278</td>\n",
       "      <td>0.500</td>\n",
       "      <td>0.167</td>\n",
       "    </tr>\n",
       "    <tr>\n",
       "      <th>37</th>\n",
       "      <td>1.000</td>\n",
       "      <td>0.278</td>\n",
       "      <td>0.800</td>\n",
       "      <td>0.222</td>\n",
       "      <td>0.600</td>\n",
       "      <td>0.167</td>\n",
       "    </tr>\n",
       "    <tr>\n",
       "      <th>38</th>\n",
       "      <td>1.000</td>\n",
       "      <td>0.222</td>\n",
       "      <td>0.750</td>\n",
       "      <td>0.167</td>\n",
       "      <td>0.500</td>\n",
       "      <td>0.111</td>\n",
       "    </tr>\n",
       "    <tr>\n",
       "      <th>39</th>\n",
       "      <td>1.000</td>\n",
       "      <td>0.167</td>\n",
       "      <td>1.000</td>\n",
       "      <td>0.167</td>\n",
       "      <td>0.333</td>\n",
       "      <td>0.056</td>\n",
       "    </tr>\n",
       "    <tr>\n",
       "      <th>40</th>\n",
       "      <td>1.000</td>\n",
       "      <td>0.111</td>\n",
       "      <td>1.000</td>\n",
       "      <td>0.111</td>\n",
       "      <td>0.000</td>\n",
       "      <td>0.000</td>\n",
       "    </tr>\n",
       "    <tr>\n",
       "      <th>41</th>\n",
       "      <td>1.000</td>\n",
       "      <td>0.056</td>\n",
       "      <td>1.000</td>\n",
       "      <td>0.056</td>\n",
       "      <td>0.000</td>\n",
       "      <td>0.000</td>\n",
       "    </tr>\n",
       "    <tr>\n",
       "      <th>42</th>\n",
       "      <td>1.000</td>\n",
       "      <td>0.000</td>\n",
       "      <td>1.000</td>\n",
       "      <td>0.000</td>\n",
       "      <td>1.000</td>\n",
       "      <td>0.000</td>\n",
       "    </tr>\n",
       "  </tbody>\n",
       "</table>\n",
       "</div>"
      ],
      "text/plain": [
       "   ALD study all         VAE all         VAE new      \n",
       "       precision   tpr precision   tpr precision   tpr\n",
       "0          0.429 1.000     0.429 1.000     0.429 1.000\n",
       "1          0.439 1.000     0.439 1.000     0.439 1.000\n",
       "2          0.450 1.000     0.450 1.000     0.450 1.000\n",
       "3          0.462 1.000     0.462 1.000     0.462 1.000\n",
       "4          0.474 1.000     0.474 1.000     0.474 1.000\n",
       "5          0.486 1.000     0.486 1.000     0.459 0.944\n",
       "6          0.500 1.000     0.500 1.000     0.444 0.889\n",
       "7          0.514 1.000     0.514 1.000     0.457 0.889\n",
       "8          0.529 1.000     0.529 1.000     0.441 0.833\n",
       "9          0.545 1.000     0.545 1.000     0.455 0.833\n",
       "10         0.562 1.000     0.562 1.000     0.469 0.833\n",
       "11         0.581 1.000     0.581 1.000     0.484 0.833\n",
       "12         0.600 1.000     0.600 1.000     0.467 0.778\n",
       "13         0.621 1.000     0.586 0.944     0.483 0.778\n",
       "14         0.643 1.000     0.607 0.944     0.500 0.778\n",
       "15         0.667 1.000     0.630 0.944     0.519 0.778\n",
       "16         0.654 0.944     0.654 0.944     0.538 0.778\n",
       "17         0.640 0.889     0.640 0.889     0.520 0.722\n",
       "18         0.667 0.889     0.625 0.833     0.542 0.722\n",
       "19         0.652 0.833     0.652 0.833     0.565 0.722\n",
       "20         0.682 0.833     0.682 0.833     0.545 0.667\n",
       "21         0.667 0.778     0.714 0.833     0.524 0.611\n",
       "22         0.700 0.778     0.750 0.833     0.550 0.611\n",
       "23         0.684 0.722     0.737 0.778     0.579 0.611\n",
       "24         0.667 0.667     0.722 0.722     0.556 0.556\n",
       "25         0.647 0.611     0.706 0.667     0.588 0.556\n",
       "26         0.688 0.611     0.688 0.611     0.562 0.500\n",
       "27         0.667 0.556     0.733 0.611     0.533 0.444\n",
       "28         0.714 0.556     0.786 0.611     0.571 0.444\n",
       "29         0.769 0.556     0.846 0.611     0.615 0.444\n",
       "30         0.750 0.500     0.833 0.556     0.583 0.389\n",
       "31         0.727 0.444     0.818 0.500     0.636 0.389\n",
       "32         0.700 0.389     0.800 0.444     0.600 0.333\n",
       "33         0.778 0.389     0.778 0.389     0.556 0.278\n",
       "34         0.875 0.389     0.875 0.389     0.500 0.222\n",
       "35         1.000 0.389     0.857 0.333     0.429 0.167\n",
       "36         1.000 0.333     0.833 0.278     0.500 0.167\n",
       "37         1.000 0.278     0.800 0.222     0.600 0.167\n",
       "38         1.000 0.222     0.750 0.167     0.500 0.111\n",
       "39         1.000 0.167     1.000 0.167     0.333 0.056\n",
       "40         1.000 0.111     1.000 0.111     0.000 0.000\n",
       "41         1.000 0.056     1.000 0.056     0.000 0.000\n",
       "42         1.000 0.000     1.000 0.000     1.000 0.000"
      ]
     },
     "execution_count": 25,
     "metadata": {},
     "output_type": "execute_result"
    }
   ],
   "source": [
    "prec_recall_curve = parse_prc(*res)\n",
    "prec_recall_curve.to_excel(fname.with_suffix('.xlsx'))\n",
    "prec_recall_curve"
   ]
  },
  {
   "cell_type": "markdown",
   "id": "0ddf0913",
   "metadata": {
    "papermill": {
     "duration": 0.048241,
     "end_time": "2024-05-30T11:11:52.662904",
     "exception": false,
     "start_time": "2024-05-30T11:11:52.614663",
     "status": "completed"
    },
    "tags": []
   },
   "source": [
    "## Train data plots"
   ]
  },
  {
   "cell_type": "code",
   "execution_count": 26,
   "id": "6eb3ed77",
   "metadata": {
    "execution": {
     "iopub.execute_input": "2024-05-30T11:11:52.761833Z",
     "iopub.status.busy": "2024-05-30T11:11:52.761258Z",
     "iopub.status.idle": "2024-05-30T11:11:53.457142Z",
     "shell.execute_reply": "2024-05-30T11:11:53.456345Z"
    },
    "papermill": {
     "duration": 0.743808,
     "end_time": "2024-05-30T11:11:53.458929",
     "exception": false,
     "start_time": "2024-05-30T11:11:52.715121",
     "status": "completed"
    },
    "tags": [
     "hide-input"
    ]
   },
   "outputs": [
    {
     "name": "stderr",
     "output_type": "stream",
     "text": [
      "vaep.plotting - INFO     Saved Figures to runs/alzheimer_study/diff_analysis/AD/PI_vs_VAE/prec_recall_curve_train.pdf\n"
     ]
    },
    {
     "data": {
      "image/png": "[encoded data removed]",
      "text/plain": [
       "<Figure size 367.5x367.5 with 1 Axes>"
      ]
     },
     "metadata": {},
     "output_type": "display_data"
    }
   ],
   "source": [
    "fig, ax = plt.subplots(1, 1, figsize=figsize)\n",
    "\n",
    "ax = plot_split_prc(results_ald_full.train, results_ald_full.name, ax)\n",
    "ax = plot_split_prc(results_model_full.train, results_model_full.name, ax)\n",
    "ax = plot_split_prc(results_model_new.train, results_model_new.name, ax)\n",
    "fname = folder = args.out_folder / 'prec_recall_curve_train.pdf'\n",
    "files_out[fname.name] = fname\n",
    "vaep.savefig(fig, name=fname)"
   ]
  },
  {
   "cell_type": "code",
   "execution_count": 27,
   "id": "64fee389",
   "metadata": {
    "execution": {
     "iopub.execute_input": "2024-05-30T11:11:53.536872Z",
     "iopub.status.busy": "2024-05-30T11:11:53.536625Z",
     "iopub.status.idle": "2024-05-30T11:11:54.185856Z",
     "shell.execute_reply": "2024-05-30T11:11:54.185100Z"
    },
    "papermill": {
     "duration": 0.676402,
     "end_time": "2024-05-30T11:11:54.187129",
     "exception": false,
     "start_time": "2024-05-30T11:11:53.510727",
     "status": "completed"
    },
    "tags": [
     "hide-input"
    ]
   },
   "outputs": [
    {
     "name": "stderr",
     "output_type": "stream",
     "text": [
      "vaep.plotting - INFO     Saved Figures to runs/alzheimer_study/diff_analysis/AD/PI_vs_VAE/auc_roc_curve_train.pdf\n"
     ]
    },
    {
     "data": {
      "image/png": "[encoded data removed]",
      "text/plain": [
       "<Figure size 367.5x367.5 with 1 Axes>"
      ]
     },
     "metadata": {},
     "output_type": "display_data"
    }
   ],
   "source": [
    "fig, ax = plt.subplots(1, 1, figsize=figsize)\n",
    "plot_split_auc(results_ald_full.train, results_ald_full.name, ax)\n",
    "plot_split_auc(results_model_full.train, results_model_full.name, ax)\n",
    "plot_split_auc(results_model_new.train, results_model_new.name, ax)\n",
    "fname = folder = args.out_folder / 'auc_roc_curve_train.pdf'\n",
    "files_out[fname.name] = fname\n",
    "vaep.savefig(fig, name=fname)"
   ]
  },
  {
   "cell_type": "markdown",
   "id": "545b7a34",
   "metadata": {
    "papermill": {
     "duration": 0.025719,
     "end_time": "2024-05-30T11:11:54.239812",
     "exception": false,
     "start_time": "2024-05-30T11:11:54.214093",
     "status": "completed"
    },
    "tags": []
   },
   "source": [
    "Output files:"
   ]
  },
  {
   "cell_type": "code",
   "execution_count": 28,
   "id": "860e0d5e",
   "metadata": {
    "execution": {
     "iopub.execute_input": "2024-05-30T11:11:54.290743Z",
     "iopub.status.busy": "2024-05-30T11:11:54.290518Z",
     "iopub.status.idle": "2024-05-30T11:11:54.295149Z",
     "shell.execute_reply": "2024-05-30T11:11:54.294488Z"
    },
    "papermill": {
     "duration": 0.031649,
     "end_time": "2024-05-30T11:11:54.296377",
     "exception": false,
     "start_time": "2024-05-30T11:11:54.264728",
     "status": "completed"
    },
    "tags": [
     "hide-input"
    ]
   },
   "outputs": [
    {
     "data": {
      "text/plain": [
       "{'results_VAE all.pkl': PosixPath('runs/alzheimer_study/diff_analysis/AD/PI_vs_VAE/results_VAE all.pkl'),\n",
       " 'results_VAE new.pkl': PosixPath('runs/alzheimer_study/diff_analysis/AD/PI_vs_VAE/results_VAE new.pkl'),\n",
       " 'results_ALD study all.pkl': PosixPath('runs/alzheimer_study/diff_analysis/AD/PI_vs_VAE/results_ALD study all.pkl'),\n",
       " 'auc_roc_curve.pdf': PosixPath('runs/alzheimer_study/diff_analysis/AD/PI_vs_VAE/auc_roc_curve.pdf'),\n",
       " 'mrmr_feat_by_model.xlsx': PosixPath('runs/alzheimer_study/diff_analysis/AD/PI_vs_VAE/mrmr_feat_by_model.xlsx'),\n",
       " 'prec_recall_curve.pdf': PosixPath('runs/alzheimer_study/diff_analysis/AD/PI_vs_VAE/prec_recall_curve.pdf'),\n",
       " 'prec_recall_curve_train.pdf': PosixPath('runs/alzheimer_study/diff_analysis/AD/PI_vs_VAE/prec_recall_curve_train.pdf'),\n",
       " 'auc_roc_curve_train.pdf': PosixPath('runs/alzheimer_study/diff_analysis/AD/PI_vs_VAE/auc_roc_curve_train.pdf')}"
      ]
     },
     "execution_count": 28,
     "metadata": {},
     "output_type": "execute_result"
    }
   ],
   "source": [
    "files_out"
   ]
  }
 ],
 "metadata": {
  "kernelspec": {
   "display_name": "Python 3",
   "language": "python",
   "name": "python3"
  },
  "language_info": {
   "codemirror_mode": {
    "name": "ipython",
    "version": 3
   },
   "file_extension": ".py",
   "mimetype": "text/x-python",
   "name": "python",
   "nbconvert_exporter": "python",
   "pygments_lexer": "ipython3",
   "version": "3.8.19"
  },
  "papermill": {
   "default_parameters": {},
   "duration": 334.590806,
   "end_time": "2024-05-30T11:11:56.939310",
   "environment_variables": {},
   "exception": null,
   "input_path": "10_3_ald_ml_new_feat.ipynb",
   "output_path": "runs/alzheimer_study/diff_analysis/AD/PI_vs_VAE/10_3_ald_ml_new_feat.ipynb",
   "parameters": {
    "baseline": "PI",
    "cutoff_target": 0.5,
    "fn_clinical_data": "runs/alzheimer_study/data/clinical_data.csv",
    "folder_experiment": "runs/alzheimer_study",
    "model_key": "VAE",
    "out_folder": "diff_analysis",
    "target": "AD"
   },
   "start_time": "2024-05-30T11:06:22.348504",
   "version": "2.6.0"
  }
 },
 "nbformat": 4,
 "nbformat_minor": 5
}