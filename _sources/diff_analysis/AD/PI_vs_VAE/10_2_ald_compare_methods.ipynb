{
 "cells": [
  {
   "cell_type": "markdown",
   "id": "9acfeaca-5f8c-42f3-9a8e-83ed737eb35c",
   "metadata": {
    "papermill": {
     "duration": 0.022508,
     "end_time": "2024-11-23T04:36:35.538436",
     "exception": false,
     "start_time": "2024-11-23T04:36:35.515928",
     "status": "completed"
    },
    "tags": []
   },
   "source": [
    "# Compare outcomes from differential analysis based on different imputation methods\n",
    "\n",
    "- load scores based on `10_1_ald_diff_analysis`"
   ]
  },
  {
   "cell_type": "code",
   "execution_count": 1,
   "id": "eec6f931-c04d-428c-b2b1-0424c50e6cd2",
   "metadata": {
    "execution": {
     "iopub.execute_input": "2024-11-23T04:36:35.565646Z",
     "iopub.status.busy": "2024-11-23T04:36:35.565356Z",
     "iopub.status.idle": "2024-11-23T04:36:37.775178Z",
     "shell.execute_reply": "2024-11-23T04:36:37.774435Z"
    },
    "papermill": {
     "duration": 2.223699,
     "end_time": "2024-11-23T04:36:37.776636",
     "exception": false,
     "start_time": "2024-11-23T04:36:35.552937",
     "status": "completed"
    },
    "tags": [
     "hide-input"
    ]
   },
   "outputs": [],
   "source": [
    "import logging\n",
    "from pathlib import Path\n",
    "\n",
    "import matplotlib.pyplot as plt\n",
    "import pandas as pd\n",
    "import seaborn as sns\n",
    "from IPython.display import display\n",
    "\n",
    "import pimmslearn\n",
    "import pimmslearn.databases.diseases\n",
    "\n",
    "logger = pimmslearn.logging.setup_nb_logger()\n",
    "\n",
    "plt.rcParams['figure.figsize'] = (2, 2)\n",
    "fontsize = 5\n",
    "pimmslearn.plotting.make_large_descriptors(fontsize)\n",
    "logging.getLogger('fontTools').setLevel(logging.ERROR)\n",
    "\n",
    "# catch passed parameters\n",
    "args = None\n",
    "args = dict(globals()).keys()"
   ]
  },
  {
   "cell_type": "markdown",
   "id": "85f5f5d5",
   "metadata": {
    "papermill": {
     "duration": 0.028807,
     "end_time": "2024-11-23T04:36:37.828521",
     "exception": false,
     "start_time": "2024-11-23T04:36:37.799714",
     "status": "completed"
    },
    "tags": []
   },
   "source": [
    "## Parameters\n",
    "Default and set parameters for the notebook."
   ]
  },
  {
   "cell_type": "code",
   "execution_count": 2,
   "id": "f4bf65da-0569-4a21-ba20-9cae7d3679e7",
   "metadata": {
    "execution": {
     "iopub.execute_input": "2024-11-23T04:36:37.877820Z",
     "iopub.status.busy": "2024-11-23T04:36:37.877508Z",
     "iopub.status.idle": "2024-11-23T04:36:37.881490Z",
     "shell.execute_reply": "2024-11-23T04:36:37.880902Z"
    },
    "papermill": {
     "duration": 0.030206,
     "end_time": "2024-11-23T04:36:37.882663",
     "exception": false,
     "start_time": "2024-11-23T04:36:37.852457",
     "status": "completed"
    },
    "tags": [
     "parameters"
    ]
   },
   "outputs": [],
   "source": [
    "folder_experiment = 'runs/appl_ald_data/plasma/proteinGroups'\n",
    "\n",
    "target = 'kleiner'\n",
    "model_key = 'VAE'\n",
    "baseline = 'RSN'\n",
    "out_folder = 'diff_analysis'\n",
    "selected_statistics = ['p-unc', '-Log10 pvalue', 'qvalue', 'rejected']\n",
    "\n",
    "disease_ontology = 5082  # code from https://disease-ontology.org/\n",
    "# split diseases notebook? Query gene names for proteins in file from uniprot?\n",
    "annotaitons_gene_col = 'PG.Genes'"
   ]
  },
  {
   "cell_type": "code",
   "execution_count": 3,
   "id": "454c563c",
   "metadata": {
    "execution": {
     "iopub.execute_input": "2024-11-23T04:36:37.942577Z",
     "iopub.status.busy": "2024-11-23T04:36:37.942342Z",
     "iopub.status.idle": "2024-11-23T04:36:37.945640Z",
     "shell.execute_reply": "2024-11-23T04:36:37.945061Z"
    },
    "papermill": {
     "duration": 0.040869,
     "end_time": "2024-11-23T04:36:37.947197",
     "exception": false,
     "start_time": "2024-11-23T04:36:37.906328",
     "status": "completed"
    },
    "tags": [
     "injected-parameters"
    ]
   },
   "outputs": [],
   "source": [
    "# Parameters\n",
    "disease_ontology = 10652\n",
    "folder_experiment = \"runs/alzheimer_study\"\n",
    "target = \"AD\"\n",
    "baseline = \"PI\"\n",
    "model_key = \"VAE\"\n",
    "out_folder = \"diff_analysis\"\n",
    "annotaitons_gene_col = \"None\"\n"
   ]
  },
  {
   "cell_type": "markdown",
   "id": "22c645fc-c7eb-4c69-a7aa-084fc733258f",
   "metadata": {
    "papermill": {
     "duration": 0.034558,
     "end_time": "2024-11-23T04:36:38.009121",
     "exception": false,
     "start_time": "2024-11-23T04:36:37.974563",
     "status": "completed"
    },
    "tags": []
   },
   "source": [
    "Add set parameters to configuration"
   ]
  },
  {
   "cell_type": "code",
   "execution_count": 4,
   "id": "978876d0-b3cc-4847-8eab-dc0b89ddbbcd",
   "metadata": {
    "execution": {
     "iopub.execute_input": "2024-11-23T04:36:38.086146Z",
     "iopub.status.busy": "2024-11-23T04:36:38.085865Z",
     "iopub.status.idle": "2024-11-23T04:36:38.118216Z",
     "shell.execute_reply": "2024-11-23T04:36:38.109929Z"
    },
    "papermill": {
     "duration": 0.068866,
     "end_time": "2024-11-23T04:36:38.126572",
     "exception": false,
     "start_time": "2024-11-23T04:36:38.057706",
     "status": "completed"
    },
    "tags": [
     "hide-input"
    ]
   },
   "outputs": [
    {
     "name": "stderr",
     "output_type": "stream",
     "text": [
      "root - INFO     Removed from global namespace: folder_experiment\n"
     ]
    },
    {
     "name": "stderr",
     "output_type": "stream",
     "text": [
      "root - INFO     Removed from global namespace: target\n"
     ]
    },
    {
     "name": "stderr",
     "output_type": "stream",
     "text": [
      "root - INFO     Removed from global namespace: model_key\n"
     ]
    },
    {
     "name": "stderr",
     "output_type": "stream",
     "text": [
      "root - INFO     Removed from global namespace: baseline\n"
     ]
    },
    {
     "name": "stderr",
     "output_type": "stream",
     "text": [
      "root - INFO     Removed from global namespace: out_folder\n"
     ]
    },
    {
     "name": "stderr",
     "output_type": "stream",
     "text": [
      "root - INFO     Removed from global namespace: selected_statistics\n"
     ]
    },
    {
     "name": "stderr",
     "output_type": "stream",
     "text": [
      "root - INFO     Removed from global namespace: disease_ontology\n"
     ]
    },
    {
     "name": "stderr",
     "output_type": "stream",
     "text": [
      "root - INFO     Removed from global namespace: annotaitons_gene_col\n"
     ]
    },
    {
     "name": "stderr",
     "output_type": "stream",
     "text": [
      "root - INFO     Already set attribute: folder_experiment has value runs/alzheimer_study\n"
     ]
    },
    {
     "name": "stderr",
     "output_type": "stream",
     "text": [
      "root - INFO     Already set attribute: out_folder has value diff_analysis\n"
     ]
    },
    {
     "data": {
      "text/plain": [
       "{'annotaitons_gene_col': 'None',\n",
       " 'baseline': 'PI',\n",
       " 'data': PosixPath('runs/alzheimer_study/data'),\n",
       " 'disease_ontology': 10652,\n",
       " 'folder_experiment': PosixPath('runs/alzheimer_study'),\n",
       " 'freq_features_observed': PosixPath('runs/alzheimer_study/freq_features_observed.csv'),\n",
       " 'model_key': 'VAE',\n",
       " 'out_figures': PosixPath('runs/alzheimer_study/figures'),\n",
       " 'out_folder': PosixPath('runs/alzheimer_study/diff_analysis/AD/PI_vs_VAE'),\n",
       " 'out_metrics': PosixPath('runs/alzheimer_study'),\n",
       " 'out_models': PosixPath('runs/alzheimer_study'),\n",
       " 'out_preds': PosixPath('runs/alzheimer_study/preds'),\n",
       " 'scores_folder': PosixPath('runs/alzheimer_study/diff_analysis/AD/scores'),\n",
       " 'selected_statistics': ['p-unc', '-Log10 pvalue', 'qvalue', 'rejected'],\n",
       " 'target': 'AD'}"
      ]
     },
     "execution_count": 4,
     "metadata": {},
     "output_type": "execute_result"
    }
   ],
   "source": [
    "params = pimmslearn.nb.get_params(args, globals=globals())\n",
    "args = pimmslearn.nb.Config()\n",
    "args.folder_experiment = Path(params[\"folder_experiment\"])\n",
    "args = pimmslearn.nb.add_default_paths(args,\n",
    "                                 out_root=(\n",
    "                                     args.folder_experiment\n",
    "                                     / params[\"out_folder\"]\n",
    "                                     / params[\"target\"]\n",
    "                                     / f\"{params['baseline']}_vs_{params['model_key']}\"))\n",
    "args.update_from_dict(params)\n",
    "args.scores_folder = scores_folder = (args.folder_experiment\n",
    "                                      / params[\"out_folder\"]\n",
    "                                      / params[\"target\"]\n",
    "                                      / 'scores')\n",
    "args.freq_features_observed = args.folder_experiment / 'freq_features_observed.csv'\n",
    "args"
   ]
  },
  {
   "cell_type": "markdown",
   "id": "fc184dea",
   "metadata": {
    "papermill": {
     "duration": 0.043778,
     "end_time": "2024-11-23T04:36:38.193008",
     "exception": false,
     "start_time": "2024-11-23T04:36:38.149230",
     "status": "completed"
    },
    "tags": []
   },
   "source": [
    "### Excel file for exports"
   ]
  },
  {
   "cell_type": "code",
   "execution_count": 5,
   "id": "a8016d79-e41a-40a2-bcbf-e11711c33b7d",
   "metadata": {
    "execution": {
     "iopub.execute_input": "2024-11-23T04:36:38.271414Z",
     "iopub.status.busy": "2024-11-23T04:36:38.271137Z",
     "iopub.status.idle": "2024-11-23T04:36:38.561445Z",
     "shell.execute_reply": "2024-11-23T04:36:38.560829Z"
    },
    "papermill": {
     "duration": 0.324795,
     "end_time": "2024-11-23T04:36:38.562700",
     "exception": false,
     "start_time": "2024-11-23T04:36:38.237905",
     "status": "completed"
    },
    "tags": []
   },
   "outputs": [
    {
     "name": "stderr",
     "output_type": "stream",
     "text": [
      "root - INFO     Writing to excel file: runs/alzheimer_study/diff_analysis/AD/PI_vs_VAE/diff_analysis_compare_methods.xlsx\n"
     ]
    }
   ],
   "source": [
    "files_out = dict()\n",
    "writer_args = dict(float_format='%.3f')\n",
    "\n",
    "fname = args.out_folder / 'diff_analysis_compare_methods.xlsx'\n",
    "files_out[fname.name] = fname\n",
    "writer = pd.ExcelWriter(fname)\n",
    "logger.info(\"Writing to excel file: %s\", fname)"
   ]
  },
  {
   "cell_type": "markdown",
   "id": "770d1f76-e86f-4ae3-9d7b-ceef9b9e9a22",
   "metadata": {
    "papermill": {
     "duration": 0.028545,
     "end_time": "2024-11-23T04:36:38.620206",
     "exception": false,
     "start_time": "2024-11-23T04:36:38.591661",
     "status": "completed"
    },
    "tags": []
   },
   "source": [
    "## Load scores"
   ]
  },
  {
   "cell_type": "markdown",
   "id": "6b108869",
   "metadata": {
    "papermill": {
     "duration": 0.027068,
     "end_time": "2024-11-23T04:36:38.696916",
     "exception": false,
     "start_time": "2024-11-23T04:36:38.669848",
     "status": "completed"
    },
    "tags": []
   },
   "source": [
    "### Load baseline model scores\n",
    "Show all statistics, later use selected statistics"
   ]
  },
  {
   "cell_type": "code",
   "execution_count": 6,
   "id": "97221134-5f61-4158-bfc5-ea30077140b8",
   "metadata": {
    "execution": {
     "iopub.execute_input": "2024-11-23T04:36:38.771430Z",
     "iopub.status.busy": "2024-11-23T04:36:38.771085Z",
     "iopub.status.idle": "2024-11-23T04:36:38.812177Z",
     "shell.execute_reply": "2024-11-23T04:36:38.811565Z"
    },
    "papermill": {
     "duration": 0.07973,
     "end_time": "2024-11-23T04:36:38.813196",
     "exception": false,
     "start_time": "2024-11-23T04:36:38.733466",
     "status": "completed"
    },
    "tags": [
     "hide-input"
    ]
   },
   "outputs": [
    {
     "data": {
      "text/html": [
       "<div>\n",
       "<style scoped>\n",
       "    .dataframe tbody tr th:only-of-type {\n",
       "        vertical-align: middle;\n",
       "    }\n",
       "\n",
       "    .dataframe tbody tr th {\n",
       "        vertical-align: top;\n",
       "    }\n",
       "\n",
       "    .dataframe thead tr th {\n",
       "        text-align: left;\n",
       "    }\n",
       "\n",
       "    .dataframe thead tr:last-of-type th {\n",
       "        text-align: right;\n",
       "    }\n",
       "</style>\n",
       "<table border=\"1\" class=\"dataframe\">\n",
       "  <thead>\n",
       "    <tr>\n",
       "      <th></th>\n",
       "      <th>model</th>\n",
       "      <th colspan=\"8\" halign=\"left\">PI</th>\n",
       "    </tr>\n",
       "    <tr>\n",
       "      <th></th>\n",
       "      <th>var</th>\n",
       "      <th>SS</th>\n",
       "      <th>DF</th>\n",
       "      <th>F</th>\n",
       "      <th>p-unc</th>\n",
       "      <th>np2</th>\n",
       "      <th>-Log10 pvalue</th>\n",
       "      <th>qvalue</th>\n",
       "      <th>rejected</th>\n",
       "    </tr>\n",
       "    <tr>\n",
       "      <th>protein groups</th>\n",
       "      <th>Source</th>\n",
       "      <th></th>\n",
       "      <th></th>\n",
       "      <th></th>\n",
       "      <th></th>\n",
       "      <th></th>\n",
       "      <th></th>\n",
       "      <th></th>\n",
       "      <th></th>\n",
       "    </tr>\n",
       "  </thead>\n",
       "  <tbody>\n",
       "    <tr>\n",
       "      <th rowspan=\"5\" valign=\"top\">A0A024QZX5;A0A087X1N8;P35237</th>\n",
       "      <th>AD</th>\n",
       "      <td>0.641</td>\n",
       "      <td>1</td>\n",
       "      <td>1.173</td>\n",
       "      <td>0.280</td>\n",
       "      <td>0.006</td>\n",
       "      <td>0.553</td>\n",
       "      <td>0.439</td>\n",
       "      <td>False</td>\n",
       "    </tr>\n",
       "    <tr>\n",
       "      <th>age</th>\n",
       "      <td>0.040</td>\n",
       "      <td>1</td>\n",
       "      <td>0.072</td>\n",
       "      <td>0.788</td>\n",
       "      <td>0.000</td>\n",
       "      <td>0.103</td>\n",
       "      <td>0.868</td>\n",
       "      <td>False</td>\n",
       "    </tr>\n",
       "    <tr>\n",
       "      <th>Kiel</th>\n",
       "      <td>1.792</td>\n",
       "      <td>1</td>\n",
       "      <td>3.278</td>\n",
       "      <td>0.072</td>\n",
       "      <td>0.017</td>\n",
       "      <td>1.144</td>\n",
       "      <td>0.161</td>\n",
       "      <td>False</td>\n",
       "    </tr>\n",
       "    <tr>\n",
       "      <th>Magdeburg</th>\n",
       "      <td>4.448</td>\n",
       "      <td>1</td>\n",
       "      <td>8.135</td>\n",
       "      <td>0.005</td>\n",
       "      <td>0.041</td>\n",
       "      <td>2.317</td>\n",
       "      <td>0.018</td>\n",
       "      <td>True</td>\n",
       "    </tr>\n",
       "    <tr>\n",
       "      <th>Sweden</th>\n",
       "      <td>7.001</td>\n",
       "      <td>1</td>\n",
       "      <td>12.803</td>\n",
       "      <td>0.000</td>\n",
       "      <td>0.063</td>\n",
       "      <td>3.358</td>\n",
       "      <td>0.002</td>\n",
       "      <td>True</td>\n",
       "    </tr>\n",
       "    <tr>\n",
       "      <th>...</th>\n",
       "      <th>...</th>\n",
       "      <td>...</td>\n",
       "      <td>...</td>\n",
       "      <td>...</td>\n",
       "      <td>...</td>\n",
       "      <td>...</td>\n",
       "      <td>...</td>\n",
       "      <td>...</td>\n",
       "      <td>...</td>\n",
       "    </tr>\n",
       "    <tr>\n",
       "      <th rowspan=\"5\" valign=\"top\">S4R3U6</th>\n",
       "      <th>AD</th>\n",
       "      <td>0.144</td>\n",
       "      <td>1</td>\n",
       "      <td>0.170</td>\n",
       "      <td>0.680</td>\n",
       "      <td>0.001</td>\n",
       "      <td>0.167</td>\n",
       "      <td>0.793</td>\n",
       "      <td>False</td>\n",
       "    </tr>\n",
       "    <tr>\n",
       "      <th>age</th>\n",
       "      <td>0.798</td>\n",
       "      <td>1</td>\n",
       "      <td>0.942</td>\n",
       "      <td>0.333</td>\n",
       "      <td>0.005</td>\n",
       "      <td>0.478</td>\n",
       "      <td>0.496</td>\n",
       "      <td>False</td>\n",
       "    </tr>\n",
       "    <tr>\n",
       "      <th>Kiel</th>\n",
       "      <td>0.001</td>\n",
       "      <td>1</td>\n",
       "      <td>0.002</td>\n",
       "      <td>0.968</td>\n",
       "      <td>0.000</td>\n",
       "      <td>0.014</td>\n",
       "      <td>0.984</td>\n",
       "      <td>False</td>\n",
       "    </tr>\n",
       "    <tr>\n",
       "      <th>Magdeburg</th>\n",
       "      <td>2.118</td>\n",
       "      <td>1</td>\n",
       "      <td>2.500</td>\n",
       "      <td>0.115</td>\n",
       "      <td>0.013</td>\n",
       "      <td>0.937</td>\n",
       "      <td>0.232</td>\n",
       "      <td>False</td>\n",
       "    </tr>\n",
       "    <tr>\n",
       "      <th>Sweden</th>\n",
       "      <td>12.969</td>\n",
       "      <td>1</td>\n",
       "      <td>15.309</td>\n",
       "      <td>0.000</td>\n",
       "      <td>0.074</td>\n",
       "      <td>3.897</td>\n",
       "      <td>0.001</td>\n",
       "      <td>True</td>\n",
       "    </tr>\n",
       "  </tbody>\n",
       "</table>\n",
       "<p>7105 rows × 8 columns</p>\n",
       "</div>"
      ],
      "text/plain": [
       "model                                      PI                        \\\n",
       "var                                        SS DF      F p-unc   np2   \n",
       "protein groups               Source                                   \n",
       "A0A024QZX5;A0A087X1N8;P35237 AD         0.641  1  1.173 0.280 0.006   \n",
       "                             age        0.040  1  0.072 0.788 0.000   \n",
       "                             Kiel       1.792  1  3.278 0.072 0.017   \n",
       "                             Magdeburg  4.448  1  8.135 0.005 0.041   \n",
       "                             Sweden     7.001  1 12.803 0.000 0.063   \n",
       "...                                       ... ..    ...   ...   ...   \n",
       "S4R3U6                       AD         0.144  1  0.170 0.680 0.001   \n",
       "                             age        0.798  1  0.942 0.333 0.005   \n",
       "                             Kiel       0.001  1  0.002 0.968 0.000   \n",
       "                             Magdeburg  2.118  1  2.500 0.115 0.013   \n",
       "                             Sweden    12.969  1 15.309 0.000 0.074   \n",
       "\n",
       "model                                                                 \n",
       "var                                    -Log10 pvalue qvalue rejected  \n",
       "protein groups               Source                                   \n",
       "A0A024QZX5;A0A087X1N8;P35237 AD                0.553  0.439    False  \n",
       "                             age               0.103  0.868    False  \n",
       "                             Kiel              1.144  0.161    False  \n",
       "                             Magdeburg         2.317  0.018     True  \n",
       "                             Sweden            3.358  0.002     True  \n",
       "...                                              ...    ...      ...  \n",
       "S4R3U6                       AD                0.167  0.793    False  \n",
       "                             age               0.478  0.496    False  \n",
       "                             Kiel              0.014  0.984    False  \n",
       "                             Magdeburg         0.937  0.232    False  \n",
       "                             Sweden            3.897  0.001     True  \n",
       "\n",
       "[7105 rows x 8 columns]"
      ]
     },
     "execution_count": 6,
     "metadata": {},
     "output_type": "execute_result"
    }
   ],
   "source": [
    "fname = args.scores_folder / f'diff_analysis_scores_{args.baseline}.pkl'\n",
    "scores_baseline = pd.read_pickle(fname)\n",
    "scores_baseline"
   ]
  },
  {
   "cell_type": "markdown",
   "id": "e49a8da2",
   "metadata": {
    "papermill": {
     "duration": 0.024802,
     "end_time": "2024-11-23T04:36:38.858651",
     "exception": false,
     "start_time": "2024-11-23T04:36:38.833849",
     "status": "completed"
    },
    "tags": []
   },
   "source": [
    "### Load selected comparison model scores"
   ]
  },
  {
   "cell_type": "code",
   "execution_count": 7,
   "id": "f0635e4d",
   "metadata": {
    "execution": {
     "iopub.execute_input": "2024-11-23T04:36:38.920260Z",
     "iopub.status.busy": "2024-11-23T04:36:38.919774Z",
     "iopub.status.idle": "2024-11-23T04:36:38.957532Z",
     "shell.execute_reply": "2024-11-23T04:36:38.956928Z"
    },
    "papermill": {
     "duration": 0.072953,
     "end_time": "2024-11-23T04:36:38.958570",
     "exception": false,
     "start_time": "2024-11-23T04:36:38.885617",
     "status": "completed"
    },
    "tags": [
     "hide-input"
    ]
   },
   "outputs": [
    {
     "data": {
      "text/html": [
       "<div>\n",
       "<style scoped>\n",
       "    .dataframe tbody tr th:only-of-type {\n",
       "        vertical-align: middle;\n",
       "    }\n",
       "\n",
       "    .dataframe tbody tr th {\n",
       "        vertical-align: top;\n",
       "    }\n",
       "\n",
       "    .dataframe thead tr th {\n",
       "        text-align: left;\n",
       "    }\n",
       "\n",
       "    .dataframe thead tr:last-of-type th {\n",
       "        text-align: right;\n",
       "    }\n",
       "</style>\n",
       "<table border=\"1\" class=\"dataframe\">\n",
       "  <thead>\n",
       "    <tr>\n",
       "      <th></th>\n",
       "      <th>model</th>\n",
       "      <th colspan=\"8\" halign=\"left\">VAE</th>\n",
       "    </tr>\n",
       "    <tr>\n",
       "      <th></th>\n",
       "      <th>var</th>\n",
       "      <th>SS</th>\n",
       "      <th>DF</th>\n",
       "      <th>F</th>\n",
       "      <th>p-unc</th>\n",
       "      <th>np2</th>\n",
       "      <th>-Log10 pvalue</th>\n",
       "      <th>qvalue</th>\n",
       "      <th>rejected</th>\n",
       "    </tr>\n",
       "    <tr>\n",
       "      <th>protein groups</th>\n",
       "      <th>Source</th>\n",
       "      <th></th>\n",
       "      <th></th>\n",
       "      <th></th>\n",
       "      <th></th>\n",
       "      <th></th>\n",
       "      <th></th>\n",
       "      <th></th>\n",
       "      <th></th>\n",
       "    </tr>\n",
       "  </thead>\n",
       "  <tbody>\n",
       "    <tr>\n",
       "      <th rowspan=\"5\" valign=\"top\">A0A024QZX5;A0A087X1N8;P35237</th>\n",
       "      <th>AD</th>\n",
       "      <td>0.985</td>\n",
       "      <td>1</td>\n",
       "      <td>7.266</td>\n",
       "      <td>0.008</td>\n",
       "      <td>0.037</td>\n",
       "      <td>2.116</td>\n",
       "      <td>0.021</td>\n",
       "      <td>True</td>\n",
       "    </tr>\n",
       "    <tr>\n",
       "      <th>age</th>\n",
       "      <td>0.005</td>\n",
       "      <td>1</td>\n",
       "      <td>0.041</td>\n",
       "      <td>0.841</td>\n",
       "      <td>0.000</td>\n",
       "      <td>0.075</td>\n",
       "      <td>0.894</td>\n",
       "      <td>False</td>\n",
       "    </tr>\n",
       "    <tr>\n",
       "      <th>Kiel</th>\n",
       "      <td>0.246</td>\n",
       "      <td>1</td>\n",
       "      <td>1.812</td>\n",
       "      <td>0.180</td>\n",
       "      <td>0.009</td>\n",
       "      <td>0.745</td>\n",
       "      <td>0.287</td>\n",
       "      <td>False</td>\n",
       "    </tr>\n",
       "    <tr>\n",
       "      <th>Magdeburg</th>\n",
       "      <td>0.442</td>\n",
       "      <td>1</td>\n",
       "      <td>3.264</td>\n",
       "      <td>0.072</td>\n",
       "      <td>0.017</td>\n",
       "      <td>1.140</td>\n",
       "      <td>0.139</td>\n",
       "      <td>False</td>\n",
       "    </tr>\n",
       "    <tr>\n",
       "      <th>Sweden</th>\n",
       "      <td>1.639</td>\n",
       "      <td>1</td>\n",
       "      <td>12.090</td>\n",
       "      <td>0.001</td>\n",
       "      <td>0.060</td>\n",
       "      <td>3.202</td>\n",
       "      <td>0.002</td>\n",
       "      <td>True</td>\n",
       "    </tr>\n",
       "    <tr>\n",
       "      <th>...</th>\n",
       "      <th>...</th>\n",
       "      <td>...</td>\n",
       "      <td>...</td>\n",
       "      <td>...</td>\n",
       "      <td>...</td>\n",
       "      <td>...</td>\n",
       "      <td>...</td>\n",
       "      <td>...</td>\n",
       "      <td>...</td>\n",
       "    </tr>\n",
       "    <tr>\n",
       "      <th rowspan=\"5\" valign=\"top\">S4R3U6</th>\n",
       "      <th>AD</th>\n",
       "      <td>1.515</td>\n",
       "      <td>1</td>\n",
       "      <td>3.145</td>\n",
       "      <td>0.078</td>\n",
       "      <td>0.016</td>\n",
       "      <td>1.109</td>\n",
       "      <td>0.147</td>\n",
       "      <td>False</td>\n",
       "    </tr>\n",
       "    <tr>\n",
       "      <th>age</th>\n",
       "      <td>0.698</td>\n",
       "      <td>1</td>\n",
       "      <td>1.449</td>\n",
       "      <td>0.230</td>\n",
       "      <td>0.008</td>\n",
       "      <td>0.638</td>\n",
       "      <td>0.349</td>\n",
       "      <td>False</td>\n",
       "    </tr>\n",
       "    <tr>\n",
       "      <th>Kiel</th>\n",
       "      <td>2.587</td>\n",
       "      <td>1</td>\n",
       "      <td>5.372</td>\n",
       "      <td>0.022</td>\n",
       "      <td>0.027</td>\n",
       "      <td>1.667</td>\n",
       "      <td>0.051</td>\n",
       "      <td>False</td>\n",
       "    </tr>\n",
       "    <tr>\n",
       "      <th>Magdeburg</th>\n",
       "      <td>2.209</td>\n",
       "      <td>1</td>\n",
       "      <td>4.586</td>\n",
       "      <td>0.033</td>\n",
       "      <td>0.023</td>\n",
       "      <td>1.475</td>\n",
       "      <td>0.073</td>\n",
       "      <td>False</td>\n",
       "    </tr>\n",
       "    <tr>\n",
       "      <th>Sweden</th>\n",
       "      <td>20.453</td>\n",
       "      <td>1</td>\n",
       "      <td>42.463</td>\n",
       "      <td>0.000</td>\n",
       "      <td>0.182</td>\n",
       "      <td>9.205</td>\n",
       "      <td>0.000</td>\n",
       "      <td>True</td>\n",
       "    </tr>\n",
       "  </tbody>\n",
       "</table>\n",
       "<p>7105 rows × 8 columns</p>\n",
       "</div>"
      ],
      "text/plain": [
       "model                                     VAE                        \\\n",
       "var                                        SS DF      F p-unc   np2   \n",
       "protein groups               Source                                   \n",
       "A0A024QZX5;A0A087X1N8;P35237 AD         0.985  1  7.266 0.008 0.037   \n",
       "                             age        0.005  1  0.041 0.841 0.000   \n",
       "                             Kiel       0.246  1  1.812 0.180 0.009   \n",
       "                             Magdeburg  0.442  1  3.264 0.072 0.017   \n",
       "                             Sweden     1.639  1 12.090 0.001 0.060   \n",
       "...                                       ... ..    ...   ...   ...   \n",
       "S4R3U6                       AD         1.515  1  3.145 0.078 0.016   \n",
       "                             age        0.698  1  1.449 0.230 0.008   \n",
       "                             Kiel       2.587  1  5.372 0.022 0.027   \n",
       "                             Magdeburg  2.209  1  4.586 0.033 0.023   \n",
       "                             Sweden    20.453  1 42.463 0.000 0.182   \n",
       "\n",
       "model                                                                 \n",
       "var                                    -Log10 pvalue qvalue rejected  \n",
       "protein groups               Source                                   \n",
       "A0A024QZX5;A0A087X1N8;P35237 AD                2.116  0.021     True  \n",
       "                             age               0.075  0.894    False  \n",
       "                             Kiel              0.745  0.287    False  \n",
       "                             Magdeburg         1.140  0.139    False  \n",
       "                             Sweden            3.202  0.002     True  \n",
       "...                                              ...    ...      ...  \n",
       "S4R3U6                       AD                1.109  0.147    False  \n",
       "                             age               0.638  0.349    False  \n",
       "                             Kiel              1.667  0.051    False  \n",
       "                             Magdeburg         1.475  0.073    False  \n",
       "                             Sweden            9.205  0.000     True  \n",
       "\n",
       "[7105 rows x 8 columns]"
      ]
     },
     "execution_count": 7,
     "metadata": {},
     "output_type": "execute_result"
    }
   ],
   "source": [
    "fname = args.scores_folder / f'diff_analysis_scores_{args.model_key}.pkl'\n",
    "scores_model = pd.read_pickle(fname)\n",
    "scores_model"
   ]
  },
  {
   "cell_type": "markdown",
   "id": "06b7e883",
   "metadata": {
    "papermill": {
     "duration": 0.033301,
     "end_time": "2024-11-23T04:36:39.023141",
     "exception": false,
     "start_time": "2024-11-23T04:36:38.989840",
     "status": "completed"
    },
    "tags": []
   },
   "source": [
    "### Combined scores\n",
    "show only selected statistics for comparsion"
   ]
  },
  {
   "cell_type": "code",
   "execution_count": 8,
   "id": "373fdf65",
   "metadata": {
    "execution": {
     "iopub.execute_input": "2024-11-23T04:36:39.091068Z",
     "iopub.status.busy": "2024-11-23T04:36:39.090806Z",
     "iopub.status.idle": "2024-11-23T04:36:39.145704Z",
     "shell.execute_reply": "2024-11-23T04:36:39.145093Z"
    },
    "papermill": {
     "duration": 0.082341,
     "end_time": "2024-11-23T04:36:39.146938",
     "exception": false,
     "start_time": "2024-11-23T04:36:39.064597",
     "status": "completed"
    },
    "tags": [
     "hide-input"
    ]
   },
   "outputs": [
    {
     "data": {
      "text/html": [
       "<div>\n",
       "<style scoped>\n",
       "    .dataframe tbody tr th:only-of-type {\n",
       "        vertical-align: middle;\n",
       "    }\n",
       "\n",
       "    .dataframe tbody tr th {\n",
       "        vertical-align: top;\n",
       "    }\n",
       "\n",
       "    .dataframe thead tr th {\n",
       "        text-align: left;\n",
       "    }\n",
       "\n",
       "    .dataframe thead tr:last-of-type th {\n",
       "        text-align: right;\n",
       "    }\n",
       "</style>\n",
       "<table border=\"1\" class=\"dataframe\">\n",
       "  <thead>\n",
       "    <tr>\n",
       "      <th></th>\n",
       "      <th>model</th>\n",
       "      <th colspan=\"4\" halign=\"left\">PI</th>\n",
       "      <th colspan=\"4\" halign=\"left\">VAE</th>\n",
       "    </tr>\n",
       "    <tr>\n",
       "      <th></th>\n",
       "      <th>var</th>\n",
       "      <th>p-unc</th>\n",
       "      <th>-Log10 pvalue</th>\n",
       "      <th>qvalue</th>\n",
       "      <th>rejected</th>\n",
       "      <th>p-unc</th>\n",
       "      <th>-Log10 pvalue</th>\n",
       "      <th>qvalue</th>\n",
       "      <th>rejected</th>\n",
       "    </tr>\n",
       "    <tr>\n",
       "      <th>protein groups</th>\n",
       "      <th>Source</th>\n",
       "      <th></th>\n",
       "      <th></th>\n",
       "      <th></th>\n",
       "      <th></th>\n",
       "      <th></th>\n",
       "      <th></th>\n",
       "      <th></th>\n",
       "      <th></th>\n",
       "    </tr>\n",
       "  </thead>\n",
       "  <tbody>\n",
       "    <tr>\n",
       "      <th rowspan=\"5\" valign=\"top\">A0A024QZX5;A0A087X1N8;P35237</th>\n",
       "      <th>AD</th>\n",
       "      <td>0.280</td>\n",
       "      <td>0.553</td>\n",
       "      <td>0.439</td>\n",
       "      <td>False</td>\n",
       "      <td>0.008</td>\n",
       "      <td>2.116</td>\n",
       "      <td>0.021</td>\n",
       "      <td>True</td>\n",
       "    </tr>\n",
       "    <tr>\n",
       "      <th>Kiel</th>\n",
       "      <td>0.072</td>\n",
       "      <td>1.144</td>\n",
       "      <td>0.161</td>\n",
       "      <td>False</td>\n",
       "      <td>0.180</td>\n",
       "      <td>0.745</td>\n",
       "      <td>0.287</td>\n",
       "      <td>False</td>\n",
       "    </tr>\n",
       "    <tr>\n",
       "      <th>Magdeburg</th>\n",
       "      <td>0.005</td>\n",
       "      <td>2.317</td>\n",
       "      <td>0.018</td>\n",
       "      <td>True</td>\n",
       "      <td>0.072</td>\n",
       "      <td>1.140</td>\n",
       "      <td>0.139</td>\n",
       "      <td>False</td>\n",
       "    </tr>\n",
       "    <tr>\n",
       "      <th>Sweden</th>\n",
       "      <td>0.000</td>\n",
       "      <td>3.358</td>\n",
       "      <td>0.002</td>\n",
       "      <td>True</td>\n",
       "      <td>0.001</td>\n",
       "      <td>3.202</td>\n",
       "      <td>0.002</td>\n",
       "      <td>True</td>\n",
       "    </tr>\n",
       "    <tr>\n",
       "      <th>age</th>\n",
       "      <td>0.788</td>\n",
       "      <td>0.103</td>\n",
       "      <td>0.868</td>\n",
       "      <td>False</td>\n",
       "      <td>0.841</td>\n",
       "      <td>0.075</td>\n",
       "      <td>0.894</td>\n",
       "      <td>False</td>\n",
       "    </tr>\n",
       "    <tr>\n",
       "      <th>...</th>\n",
       "      <th>...</th>\n",
       "      <td>...</td>\n",
       "      <td>...</td>\n",
       "      <td>...</td>\n",
       "      <td>...</td>\n",
       "      <td>...</td>\n",
       "      <td>...</td>\n",
       "      <td>...</td>\n",
       "      <td>...</td>\n",
       "    </tr>\n",
       "    <tr>\n",
       "      <th rowspan=\"5\" valign=\"top\">S4R3U6</th>\n",
       "      <th>AD</th>\n",
       "      <td>0.680</td>\n",
       "      <td>0.167</td>\n",
       "      <td>0.793</td>\n",
       "      <td>False</td>\n",
       "      <td>0.078</td>\n",
       "      <td>1.109</td>\n",
       "      <td>0.147</td>\n",
       "      <td>False</td>\n",
       "    </tr>\n",
       "    <tr>\n",
       "      <th>Kiel</th>\n",
       "      <td>0.968</td>\n",
       "      <td>0.014</td>\n",
       "      <td>0.984</td>\n",
       "      <td>False</td>\n",
       "      <td>0.022</td>\n",
       "      <td>1.667</td>\n",
       "      <td>0.051</td>\n",
       "      <td>False</td>\n",
       "    </tr>\n",
       "    <tr>\n",
       "      <th>Magdeburg</th>\n",
       "      <td>0.115</td>\n",
       "      <td>0.937</td>\n",
       "      <td>0.232</td>\n",
       "      <td>False</td>\n",
       "      <td>0.033</td>\n",
       "      <td>1.475</td>\n",
       "      <td>0.073</td>\n",
       "      <td>False</td>\n",
       "    </tr>\n",
       "    <tr>\n",
       "      <th>Sweden</th>\n",
       "      <td>0.000</td>\n",
       "      <td>3.897</td>\n",
       "      <td>0.001</td>\n",
       "      <td>True</td>\n",
       "      <td>0.000</td>\n",
       "      <td>9.205</td>\n",
       "      <td>0.000</td>\n",
       "      <td>True</td>\n",
       "    </tr>\n",
       "    <tr>\n",
       "      <th>age</th>\n",
       "      <td>0.333</td>\n",
       "      <td>0.478</td>\n",
       "      <td>0.496</td>\n",
       "      <td>False</td>\n",
       "      <td>0.230</td>\n",
       "      <td>0.638</td>\n",
       "      <td>0.349</td>\n",
       "      <td>False</td>\n",
       "    </tr>\n",
       "  </tbody>\n",
       "</table>\n",
       "<p>7105 rows × 8 columns</p>\n",
       "</div>"
      ],
      "text/plain": [
       "model                                     PI                                \\\n",
       "var                                    p-unc -Log10 pvalue qvalue rejected   \n",
       "protein groups               Source                                          \n",
       "A0A024QZX5;A0A087X1N8;P35237 AD        0.280         0.553  0.439    False   \n",
       "                             Kiel      0.072         1.144  0.161    False   \n",
       "                             Magdeburg 0.005         2.317  0.018     True   \n",
       "                             Sweden    0.000         3.358  0.002     True   \n",
       "                             age       0.788         0.103  0.868    False   \n",
       "...                                      ...           ...    ...      ...   \n",
       "S4R3U6                       AD        0.680         0.167  0.793    False   \n",
       "                             Kiel      0.968         0.014  0.984    False   \n",
       "                             Magdeburg 0.115         0.937  0.232    False   \n",
       "                             Sweden    0.000         3.897  0.001     True   \n",
       "                             age       0.333         0.478  0.496    False   \n",
       "\n",
       "model                                    VAE                                \n",
       "var                                    p-unc -Log10 pvalue qvalue rejected  \n",
       "protein groups               Source                                         \n",
       "A0A024QZX5;A0A087X1N8;P35237 AD        0.008         2.116  0.021     True  \n",
       "                             Kiel      0.180         0.745  0.287    False  \n",
       "                             Magdeburg 0.072         1.140  0.139    False  \n",
       "                             Sweden    0.001         3.202  0.002     True  \n",
       "                             age       0.841         0.075  0.894    False  \n",
       "...                                      ...           ...    ...      ...  \n",
       "S4R3U6                       AD        0.078         1.109  0.147    False  \n",
       "                             Kiel      0.022         1.667  0.051    False  \n",
       "                             Magdeburg 0.033         1.475  0.073    False  \n",
       "                             Sweden    0.000         9.205  0.000     True  \n",
       "                             age       0.230         0.638  0.349    False  \n",
       "\n",
       "[7105 rows x 8 columns]"
      ]
     },
     "execution_count": 8,
     "metadata": {},
     "output_type": "execute_result"
    }
   ],
   "source": [
    "scores = scores_model.join(scores_baseline, how='outer')[[args.baseline, args.model_key]]\n",
    "scores = scores.loc[:, pd.IndexSlice[scores.columns.levels[0].to_list(),\n",
    "                                     args.selected_statistics]]\n",
    "scores"
   ]
  },
  {
   "cell_type": "markdown",
   "id": "b84a6e5a",
   "metadata": {
    "papermill": {
     "duration": 0.03177,
     "end_time": "2024-11-23T04:36:39.197127",
     "exception": false,
     "start_time": "2024-11-23T04:36:39.165357",
     "status": "completed"
    },
    "tags": []
   },
   "source": [
    "Models in comparison (name mapping)"
   ]
  },
  {
   "cell_type": "code",
   "execution_count": 9,
   "id": "34d243d1-3ab4-40e7-9eb8-f9efc828b82d",
   "metadata": {
    "execution": {
     "iopub.execute_input": "2024-11-23T04:36:39.270032Z",
     "iopub.status.busy": "2024-11-23T04:36:39.269709Z",
     "iopub.status.idle": "2024-11-23T04:36:39.274786Z",
     "shell.execute_reply": "2024-11-23T04:36:39.274210Z"
    },
    "papermill": {
     "duration": 0.039275,
     "end_time": "2024-11-23T04:36:39.282546",
     "exception": false,
     "start_time": "2024-11-23T04:36:39.243271",
     "status": "completed"
    },
    "tags": [
     "hide-input"
    ]
   },
   "outputs": [
    {
     "data": {
      "text/plain": [
       "{'PI': 'PI', 'VAE': 'VAE'}"
      ]
     },
     "execution_count": 9,
     "metadata": {},
     "output_type": "execute_result"
    }
   ],
   "source": [
    "models = pimmslearn.nb.Config.from_dict(\n",
    "    pimmslearn.pandas.index_to_dict(scores.columns.get_level_values(0)))\n",
    "vars(models)"
   ]
  },
  {
   "cell_type": "markdown",
   "id": "dd7a560d",
   "metadata": {
    "papermill": {
     "duration": 0.03713,
     "end_time": "2024-11-23T04:36:39.346151",
     "exception": false,
     "start_time": "2024-11-23T04:36:39.309021",
     "status": "completed"
    },
    "tags": []
   },
   "source": [
    "## Describe scores"
   ]
  },
  {
   "cell_type": "code",
   "execution_count": 10,
   "id": "0fee8f5d-fa52-4369-a1f9-fcfd518ab6bd",
   "metadata": {
    "execution": {
     "iopub.execute_input": "2024-11-23T04:36:39.428510Z",
     "iopub.status.busy": "2024-11-23T04:36:39.428208Z",
     "iopub.status.idle": "2024-11-23T04:36:39.480179Z",
     "shell.execute_reply": "2024-11-23T04:36:39.479574Z"
    },
    "papermill": {
     "duration": 0.084606,
     "end_time": "2024-11-23T04:36:39.481251",
     "exception": false,
     "start_time": "2024-11-23T04:36:39.396645",
     "status": "completed"
    },
    "tags": [
     "hide-input"
    ]
   },
   "outputs": [
    {
     "data": {
      "text/html": [
       "<div>\n",
       "<style scoped>\n",
       "    .dataframe tbody tr th:only-of-type {\n",
       "        vertical-align: middle;\n",
       "    }\n",
       "\n",
       "    .dataframe tbody tr th {\n",
       "        vertical-align: top;\n",
       "    }\n",
       "\n",
       "    .dataframe thead tr th {\n",
       "        text-align: left;\n",
       "    }\n",
       "</style>\n",
       "<table border=\"1\" class=\"dataframe\">\n",
       "  <thead>\n",
       "    <tr>\n",
       "      <th>model</th>\n",
       "      <th colspan=\"3\" halign=\"left\">PI</th>\n",
       "      <th colspan=\"3\" halign=\"left\">VAE</th>\n",
       "    </tr>\n",
       "    <tr>\n",
       "      <th>var</th>\n",
       "      <th>p-unc</th>\n",
       "      <th>-Log10 pvalue</th>\n",
       "      <th>qvalue</th>\n",
       "      <th>p-unc</th>\n",
       "      <th>-Log10 pvalue</th>\n",
       "      <th>qvalue</th>\n",
       "    </tr>\n",
       "  </thead>\n",
       "  <tbody>\n",
       "    <tr>\n",
       "      <th>count</th>\n",
       "      <td>7,105.000</td>\n",
       "      <td>7,105.000</td>\n",
       "      <td>7,105.000</td>\n",
       "      <td>7,105.000</td>\n",
       "      <td>7,105.000</td>\n",
       "      <td>7,105.000</td>\n",
       "    </tr>\n",
       "    <tr>\n",
       "      <th>mean</th>\n",
       "      <td>0.259</td>\n",
       "      <td>2.488</td>\n",
       "      <td>0.335</td>\n",
       "      <td>0.223</td>\n",
       "      <td>3.329</td>\n",
       "      <td>0.276</td>\n",
       "    </tr>\n",
       "    <tr>\n",
       "      <th>std</th>\n",
       "      <td>0.303</td>\n",
       "      <td>5.380</td>\n",
       "      <td>0.330</td>\n",
       "      <td>0.294</td>\n",
       "      <td>6.199</td>\n",
       "      <td>0.320</td>\n",
       "    </tr>\n",
       "    <tr>\n",
       "      <th>min</th>\n",
       "      <td>0.000</td>\n",
       "      <td>0.000</td>\n",
       "      <td>0.000</td>\n",
       "      <td>0.000</td>\n",
       "      <td>0.000</td>\n",
       "      <td>0.000</td>\n",
       "    </tr>\n",
       "    <tr>\n",
       "      <th>25%</th>\n",
       "      <td>0.004</td>\n",
       "      <td>0.334</td>\n",
       "      <td>0.015</td>\n",
       "      <td>0.000</td>\n",
       "      <td>0.408</td>\n",
       "      <td>0.002</td>\n",
       "    </tr>\n",
       "    <tr>\n",
       "      <th>50%</th>\n",
       "      <td>0.118</td>\n",
       "      <td>0.930</td>\n",
       "      <td>0.235</td>\n",
       "      <td>0.056</td>\n",
       "      <td>1.252</td>\n",
       "      <td>0.112</td>\n",
       "    </tr>\n",
       "    <tr>\n",
       "      <th>75%</th>\n",
       "      <td>0.463</td>\n",
       "      <td>2.424</td>\n",
       "      <td>0.617</td>\n",
       "      <td>0.391</td>\n",
       "      <td>3.381</td>\n",
       "      <td>0.521</td>\n",
       "    </tr>\n",
       "    <tr>\n",
       "      <th>max</th>\n",
       "      <td>1.000</td>\n",
       "      <td>146.777</td>\n",
       "      <td>1.000</td>\n",
       "      <td>1.000</td>\n",
       "      <td>86.491</td>\n",
       "      <td>1.000</td>\n",
       "    </tr>\n",
       "  </tbody>\n",
       "</table>\n",
       "</div>"
      ],
      "text/plain": [
       "model        PI                               VAE                        \n",
       "var       p-unc -Log10 pvalue    qvalue     p-unc -Log10 pvalue    qvalue\n",
       "count 7,105.000     7,105.000 7,105.000 7,105.000     7,105.000 7,105.000\n",
       "mean      0.259         2.488     0.335     0.223         3.329     0.276\n",
       "std       0.303         5.380     0.330     0.294         6.199     0.320\n",
       "min       0.000         0.000     0.000     0.000         0.000     0.000\n",
       "25%       0.004         0.334     0.015     0.000         0.408     0.002\n",
       "50%       0.118         0.930     0.235     0.056         1.252     0.112\n",
       "75%       0.463         2.424     0.617     0.391         3.381     0.521\n",
       "max       1.000       146.777     1.000     1.000        86.491     1.000"
      ]
     },
     "execution_count": 10,
     "metadata": {},
     "output_type": "execute_result"
    }
   ],
   "source": [
    "scores.describe()"
   ]
  },
  {
   "cell_type": "markdown",
   "id": "52ecc596",
   "metadata": {
    "papermill": {
     "duration": 0.034836,
     "end_time": "2024-11-23T04:36:39.548676",
     "exception": false,
     "start_time": "2024-11-23T04:36:39.513840",
     "status": "completed"
    },
    "tags": []
   },
   "source": [
    "### One to one comparison of by feature:"
   ]
  },
  {
   "cell_type": "code",
   "execution_count": 11,
   "id": "c6e5a0a6-343b-4f07-8d9d-2cd5cf95ae1f",
   "metadata": {
    "execution": {
     "iopub.execute_input": "2024-11-23T04:36:39.602598Z",
     "iopub.status.busy": "2024-11-23T04:36:39.602310Z",
     "iopub.status.idle": "2024-11-23T04:36:40.046514Z",
     "shell.execute_reply": "2024-11-23T04:36:40.045838Z"
    },
    "papermill": {
     "duration": 0.468863,
     "end_time": "2024-11-23T04:36:40.047829",
     "exception": false,
     "start_time": "2024-11-23T04:36:39.578966",
     "status": "completed"
    },
    "tags": [
     "hide-input"
    ]
   },
   "outputs": [
    {
     "name": "stderr",
     "output_type": "stream",
     "text": [
      "/tmp/ipykernel_48627/3761369923.py:2: FutureWarning: Starting with pandas version 3.0 all arguments of to_excel except for the argument 'excel_writer' will be keyword-only.\n",
      "  scores.to_excel(writer, 'scores', **writer_args)\n"
     ]
    },
    {
     "data": {
      "text/html": [
       "<div>\n",
       "<style scoped>\n",
       "    .dataframe tbody tr th:only-of-type {\n",
       "        vertical-align: middle;\n",
       "    }\n",
       "\n",
       "    .dataframe tbody tr th {\n",
       "        vertical-align: top;\n",
       "    }\n",
       "\n",
       "    .dataframe thead tr th {\n",
       "        text-align: left;\n",
       "    }\n",
       "\n",
       "    .dataframe thead tr:last-of-type th {\n",
       "        text-align: right;\n",
       "    }\n",
       "</style>\n",
       "<table border=\"1\" class=\"dataframe\">\n",
       "  <thead>\n",
       "    <tr>\n",
       "      <th></th>\n",
       "      <th>model</th>\n",
       "      <th colspan=\"4\" halign=\"left\">PI</th>\n",
       "      <th colspan=\"4\" halign=\"left\">VAE</th>\n",
       "    </tr>\n",
       "    <tr>\n",
       "      <th></th>\n",
       "      <th>var</th>\n",
       "      <th>p-unc</th>\n",
       "      <th>-Log10 pvalue</th>\n",
       "      <th>qvalue</th>\n",
       "      <th>rejected</th>\n",
       "      <th>p-unc</th>\n",
       "      <th>-Log10 pvalue</th>\n",
       "      <th>qvalue</th>\n",
       "      <th>rejected</th>\n",
       "    </tr>\n",
       "    <tr>\n",
       "      <th>protein groups</th>\n",
       "      <th>Source</th>\n",
       "      <th></th>\n",
       "      <th></th>\n",
       "      <th></th>\n",
       "      <th></th>\n",
       "      <th></th>\n",
       "      <th></th>\n",
       "      <th></th>\n",
       "      <th></th>\n",
       "    </tr>\n",
       "  </thead>\n",
       "  <tbody>\n",
       "    <tr>\n",
       "      <th>A0A024QZX5;A0A087X1N8;P35237</th>\n",
       "      <th>AD</th>\n",
       "      <td>0.280</td>\n",
       "      <td>0.553</td>\n",
       "      <td>0.439</td>\n",
       "      <td>False</td>\n",
       "      <td>0.008</td>\n",
       "      <td>2.116</td>\n",
       "      <td>0.021</td>\n",
       "      <td>True</td>\n",
       "    </tr>\n",
       "    <tr>\n",
       "      <th>A0A024R0T9;K7ER74;P02655</th>\n",
       "      <th>AD</th>\n",
       "      <td>0.041</td>\n",
       "      <td>1.383</td>\n",
       "      <td>0.105</td>\n",
       "      <td>False</td>\n",
       "      <td>0.031</td>\n",
       "      <td>1.510</td>\n",
       "      <td>0.069</td>\n",
       "      <td>False</td>\n",
       "    </tr>\n",
       "    <tr>\n",
       "      <th>A0A024R3W6;A0A024R412;O60462;O60462-2;O60462-3;O60462-4;O60462-5;Q7LBX6;X5D2Q8</th>\n",
       "      <th>AD</th>\n",
       "      <td>0.133</td>\n",
       "      <td>0.877</td>\n",
       "      <td>0.257</td>\n",
       "      <td>False</td>\n",
       "      <td>0.320</td>\n",
       "      <td>0.495</td>\n",
       "      <td>0.451</td>\n",
       "      <td>False</td>\n",
       "    </tr>\n",
       "    <tr>\n",
       "      <th>A0A024R644;A0A0A0MRU5;A0A1B0GWI2;O75503</th>\n",
       "      <th>AD</th>\n",
       "      <td>0.411</td>\n",
       "      <td>0.386</td>\n",
       "      <td>0.572</td>\n",
       "      <td>False</td>\n",
       "      <td>0.256</td>\n",
       "      <td>0.592</td>\n",
       "      <td>0.379</td>\n",
       "      <td>False</td>\n",
       "    </tr>\n",
       "    <tr>\n",
       "      <th>A0A075B6H7</th>\n",
       "      <th>AD</th>\n",
       "      <td>0.097</td>\n",
       "      <td>1.014</td>\n",
       "      <td>0.203</td>\n",
       "      <td>False</td>\n",
       "      <td>0.004</td>\n",
       "      <td>2.395</td>\n",
       "      <td>0.012</td>\n",
       "      <td>True</td>\n",
       "    </tr>\n",
       "    <tr>\n",
       "      <th>...</th>\n",
       "      <th>...</th>\n",
       "      <td>...</td>\n",
       "      <td>...</td>\n",
       "      <td>...</td>\n",
       "      <td>...</td>\n",
       "      <td>...</td>\n",
       "      <td>...</td>\n",
       "      <td>...</td>\n",
       "      <td>...</td>\n",
       "    </tr>\n",
       "    <tr>\n",
       "      <th>Q9Y6R7</th>\n",
       "      <th>AD</th>\n",
       "      <td>0.175</td>\n",
       "      <td>0.756</td>\n",
       "      <td>0.312</td>\n",
       "      <td>False</td>\n",
       "      <td>0.175</td>\n",
       "      <td>0.756</td>\n",
       "      <td>0.282</td>\n",
       "      <td>False</td>\n",
       "    </tr>\n",
       "    <tr>\n",
       "      <th>Q9Y6X5</th>\n",
       "      <th>AD</th>\n",
       "      <td>0.070</td>\n",
       "      <td>1.152</td>\n",
       "      <td>0.159</td>\n",
       "      <td>False</td>\n",
       "      <td>0.218</td>\n",
       "      <td>0.662</td>\n",
       "      <td>0.333</td>\n",
       "      <td>False</td>\n",
       "    </tr>\n",
       "    <tr>\n",
       "      <th>Q9Y6Y8;Q9Y6Y8-2</th>\n",
       "      <th>AD</th>\n",
       "      <td>0.083</td>\n",
       "      <td>1.079</td>\n",
       "      <td>0.181</td>\n",
       "      <td>False</td>\n",
       "      <td>0.083</td>\n",
       "      <td>1.079</td>\n",
       "      <td>0.156</td>\n",
       "      <td>False</td>\n",
       "    </tr>\n",
       "    <tr>\n",
       "      <th>Q9Y6Y9</th>\n",
       "      <th>AD</th>\n",
       "      <td>0.273</td>\n",
       "      <td>0.564</td>\n",
       "      <td>0.431</td>\n",
       "      <td>False</td>\n",
       "      <td>0.694</td>\n",
       "      <td>0.159</td>\n",
       "      <td>0.786</td>\n",
       "      <td>False</td>\n",
       "    </tr>\n",
       "    <tr>\n",
       "      <th>S4R3U6</th>\n",
       "      <th>AD</th>\n",
       "      <td>0.680</td>\n",
       "      <td>0.167</td>\n",
       "      <td>0.793</td>\n",
       "      <td>False</td>\n",
       "      <td>0.078</td>\n",
       "      <td>1.109</td>\n",
       "      <td>0.147</td>\n",
       "      <td>False</td>\n",
       "    </tr>\n",
       "  </tbody>\n",
       "</table>\n",
       "<p>1421 rows × 8 columns</p>\n",
       "</div>"
      ],
      "text/plain": [
       "model                                                        PI                \\\n",
       "var                                                       p-unc -Log10 pvalue   \n",
       "protein groups                                     Source                       \n",
       "A0A024QZX5;A0A087X1N8;P35237                       AD     0.280         0.553   \n",
       "A0A024R0T9;K7ER74;P02655                           AD     0.041         1.383   \n",
       "A0A024R3W6;A0A024R412;O60462;O60462-2;O60462-3;... AD     0.133         0.877   \n",
       "A0A024R644;A0A0A0MRU5;A0A1B0GWI2;O75503            AD     0.411         0.386   \n",
       "A0A075B6H7                                         AD     0.097         1.014   \n",
       "...                                                         ...           ...   \n",
       "Q9Y6R7                                             AD     0.175         0.756   \n",
       "Q9Y6X5                                             AD     0.070         1.152   \n",
       "Q9Y6Y8;Q9Y6Y8-2                                    AD     0.083         1.079   \n",
       "Q9Y6Y9                                             AD     0.273         0.564   \n",
       "S4R3U6                                             AD     0.680         0.167   \n",
       "\n",
       "model                                                                      \\\n",
       "var                                                       qvalue rejected   \n",
       "protein groups                                     Source                   \n",
       "A0A024QZX5;A0A087X1N8;P35237                       AD      0.439    False   \n",
       "A0A024R0T9;K7ER74;P02655                           AD      0.105    False   \n",
       "A0A024R3W6;A0A024R412;O60462;O60462-2;O60462-3;... AD      0.257    False   \n",
       "A0A024R644;A0A0A0MRU5;A0A1B0GWI2;O75503            AD      0.572    False   \n",
       "A0A075B6H7                                         AD      0.203    False   \n",
       "...                                                          ...      ...   \n",
       "Q9Y6R7                                             AD      0.312    False   \n",
       "Q9Y6X5                                             AD      0.159    False   \n",
       "Q9Y6Y8;Q9Y6Y8-2                                    AD      0.181    False   \n",
       "Q9Y6Y9                                             AD      0.431    False   \n",
       "S4R3U6                                             AD      0.793    False   \n",
       "\n",
       "model                                                       VAE                \\\n",
       "var                                                       p-unc -Log10 pvalue   \n",
       "protein groups                                     Source                       \n",
       "A0A024QZX5;A0A087X1N8;P35237                       AD     0.008         2.116   \n",
       "A0A024R0T9;K7ER74;P02655                           AD     0.031         1.510   \n",
       "A0A024R3W6;A0A024R412;O60462;O60462-2;O60462-3;... AD     0.320         0.495   \n",
       "A0A024R644;A0A0A0MRU5;A0A1B0GWI2;O75503            AD     0.256         0.592   \n",
       "A0A075B6H7                                         AD     0.004         2.395   \n",
       "...                                                         ...           ...   \n",
       "Q9Y6R7                                             AD     0.175         0.756   \n",
       "Q9Y6X5                                             AD     0.218         0.662   \n",
       "Q9Y6Y8;Q9Y6Y8-2                                    AD     0.083         1.079   \n",
       "Q9Y6Y9                                             AD     0.694         0.159   \n",
       "S4R3U6                                             AD     0.078         1.109   \n",
       "\n",
       "model                                                                      \n",
       "var                                                       qvalue rejected  \n",
       "protein groups                                     Source                  \n",
       "A0A024QZX5;A0A087X1N8;P35237                       AD      0.021     True  \n",
       "A0A024R0T9;K7ER74;P02655                           AD      0.069    False  \n",
       "A0A024R3W6;A0A024R412;O60462;O60462-2;O60462-3;... AD      0.451    False  \n",
       "A0A024R644;A0A0A0MRU5;A0A1B0GWI2;O75503            AD      0.379    False  \n",
       "A0A075B6H7                                         AD      0.012     True  \n",
       "...                                                          ...      ...  \n",
       "Q9Y6R7                                             AD      0.282    False  \n",
       "Q9Y6X5                                             AD      0.333    False  \n",
       "Q9Y6Y8;Q9Y6Y8-2                                    AD      0.156    False  \n",
       "Q9Y6Y9                                             AD      0.786    False  \n",
       "S4R3U6                                             AD      0.147    False  \n",
       "\n",
       "[1421 rows x 8 columns]"
      ]
     },
     "execution_count": 11,
     "metadata": {},
     "output_type": "execute_result"
    }
   ],
   "source": [
    "scores = scores.loc[pd.IndexSlice[:, args.target], :]\n",
    "scores.to_excel(writer, 'scores', **writer_args)\n",
    "scores"
   ]
  },
  {
   "cell_type": "markdown",
   "id": "36e14580",
   "metadata": {
    "papermill": {
     "duration": 0.01517,
     "end_time": "2024-11-23T04:36:40.079887",
     "exception": false,
     "start_time": "2024-11-23T04:36:40.064717",
     "status": "completed"
    },
    "tags": []
   },
   "source": [
    "And the descriptive statistics\n",
    "of the numeric values:"
   ]
  },
  {
   "cell_type": "code",
   "execution_count": 12,
   "id": "0e45e80a-32d8-4c6c-b0a4-5ce8b7f9e121",
   "metadata": {
    "execution": {
     "iopub.execute_input": "2024-11-23T04:36:40.111511Z",
     "iopub.status.busy": "2024-11-23T04:36:40.111029Z",
     "iopub.status.idle": "2024-11-23T04:36:40.146454Z",
     "shell.execute_reply": "2024-11-23T04:36:40.145844Z"
    },
    "papermill": {
     "duration": 0.052574,
     "end_time": "2024-11-23T04:36:40.147721",
     "exception": false,
     "start_time": "2024-11-23T04:36:40.095147",
     "status": "completed"
    },
    "tags": [
     "hide-input"
    ]
   },
   "outputs": [
    {
     "data": {
      "text/html": [
       "<div>\n",
       "<style scoped>\n",
       "    .dataframe tbody tr th:only-of-type {\n",
       "        vertical-align: middle;\n",
       "    }\n",
       "\n",
       "    .dataframe tbody tr th {\n",
       "        vertical-align: top;\n",
       "    }\n",
       "\n",
       "    .dataframe thead tr th {\n",
       "        text-align: left;\n",
       "    }\n",
       "</style>\n",
       "<table border=\"1\" class=\"dataframe\">\n",
       "  <thead>\n",
       "    <tr>\n",
       "      <th>model</th>\n",
       "      <th colspan=\"3\" halign=\"left\">PI</th>\n",
       "      <th colspan=\"3\" halign=\"left\">VAE</th>\n",
       "    </tr>\n",
       "    <tr>\n",
       "      <th>var</th>\n",
       "      <th>p-unc</th>\n",
       "      <th>-Log10 pvalue</th>\n",
       "      <th>qvalue</th>\n",
       "      <th>p-unc</th>\n",
       "      <th>-Log10 pvalue</th>\n",
       "      <th>qvalue</th>\n",
       "    </tr>\n",
       "  </thead>\n",
       "  <tbody>\n",
       "    <tr>\n",
       "      <th>count</th>\n",
       "      <td>1,421.000</td>\n",
       "      <td>1,421.000</td>\n",
       "      <td>1,421.000</td>\n",
       "      <td>1,421.000</td>\n",
       "      <td>1,421.000</td>\n",
       "      <td>1,421.000</td>\n",
       "    </tr>\n",
       "    <tr>\n",
       "      <th>mean</th>\n",
       "      <td>0.253</td>\n",
       "      <td>1.400</td>\n",
       "      <td>0.335</td>\n",
       "      <td>0.244</td>\n",
       "      <td>1.563</td>\n",
       "      <td>0.304</td>\n",
       "    </tr>\n",
       "    <tr>\n",
       "      <th>std</th>\n",
       "      <td>0.291</td>\n",
       "      <td>1.611</td>\n",
       "      <td>0.316</td>\n",
       "      <td>0.297</td>\n",
       "      <td>1.823</td>\n",
       "      <td>0.319</td>\n",
       "    </tr>\n",
       "    <tr>\n",
       "      <th>min</th>\n",
       "      <td>0.000</td>\n",
       "      <td>0.000</td>\n",
       "      <td>0.000</td>\n",
       "      <td>0.000</td>\n",
       "      <td>0.000</td>\n",
       "      <td>0.000</td>\n",
       "    </tr>\n",
       "    <tr>\n",
       "      <th>25%</th>\n",
       "      <td>0.011</td>\n",
       "      <td>0.359</td>\n",
       "      <td>0.038</td>\n",
       "      <td>0.008</td>\n",
       "      <td>0.365</td>\n",
       "      <td>0.021</td>\n",
       "    </tr>\n",
       "    <tr>\n",
       "      <th>50%</th>\n",
       "      <td>0.127</td>\n",
       "      <td>0.897</td>\n",
       "      <td>0.249</td>\n",
       "      <td>0.091</td>\n",
       "      <td>1.040</td>\n",
       "      <td>0.168</td>\n",
       "    </tr>\n",
       "    <tr>\n",
       "      <th>75%</th>\n",
       "      <td>0.437</td>\n",
       "      <td>1.942</td>\n",
       "      <td>0.595</td>\n",
       "      <td>0.431</td>\n",
       "      <td>2.110</td>\n",
       "      <td>0.561</td>\n",
       "    </tr>\n",
       "    <tr>\n",
       "      <th>max</th>\n",
       "      <td>0.999</td>\n",
       "      <td>21.573</td>\n",
       "      <td>1.000</td>\n",
       "      <td>1.000</td>\n",
       "      <td>21.672</td>\n",
       "      <td>1.000</td>\n",
       "    </tr>\n",
       "  </tbody>\n",
       "</table>\n",
       "</div>"
      ],
      "text/plain": [
       "model        PI                               VAE                        \n",
       "var       p-unc -Log10 pvalue    qvalue     p-unc -Log10 pvalue    qvalue\n",
       "count 1,421.000     1,421.000 1,421.000 1,421.000     1,421.000 1,421.000\n",
       "mean      0.253         1.400     0.335     0.244         1.563     0.304\n",
       "std       0.291         1.611     0.316     0.297         1.823     0.319\n",
       "min       0.000         0.000     0.000     0.000         0.000     0.000\n",
       "25%       0.011         0.359     0.038     0.008         0.365     0.021\n",
       "50%       0.127         0.897     0.249     0.091         1.040     0.168\n",
       "75%       0.437         1.942     0.595     0.431         2.110     0.561\n",
       "max       0.999        21.573     1.000     1.000        21.672     1.000"
      ]
     },
     "execution_count": 12,
     "metadata": {},
     "output_type": "execute_result"
    }
   ],
   "source": [
    "scores.describe()"
   ]
  },
  {
   "cell_type": "markdown",
   "id": "e520d6dc",
   "metadata": {
    "papermill": {
     "duration": 0.01508,
     "end_time": "2024-11-23T04:36:40.178378",
     "exception": false,
     "start_time": "2024-11-23T04:36:40.163298",
     "status": "completed"
    },
    "tags": []
   },
   "source": [
    "and the boolean decision values"
   ]
  },
  {
   "cell_type": "code",
   "execution_count": 13,
   "id": "53bd5597-221c-4d54-abf2-82956db42594",
   "metadata": {
    "execution": {
     "iopub.execute_input": "2024-11-23T04:36:40.209603Z",
     "iopub.status.busy": "2024-11-23T04:36:40.209325Z",
     "iopub.status.idle": "2024-11-23T04:36:40.221989Z",
     "shell.execute_reply": "2024-11-23T04:36:40.221328Z"
    },
    "lines_to_next_cell": 2,
    "papermill": {
     "duration": 0.029055,
     "end_time": "2024-11-23T04:36:40.223008",
     "exception": false,
     "start_time": "2024-11-23T04:36:40.193953",
     "status": "completed"
    },
    "tags": [
     "hide-input"
    ]
   },
   "outputs": [
    {
     "data": {
      "text/html": [
       "<div>\n",
       "<style scoped>\n",
       "    .dataframe tbody tr th:only-of-type {\n",
       "        vertical-align: middle;\n",
       "    }\n",
       "\n",
       "    .dataframe tbody tr th {\n",
       "        vertical-align: top;\n",
       "    }\n",
       "\n",
       "    .dataframe thead tr th {\n",
       "        text-align: left;\n",
       "    }\n",
       "</style>\n",
       "<table border=\"1\" class=\"dataframe\">\n",
       "  <thead>\n",
       "    <tr>\n",
       "      <th>model</th>\n",
       "      <th>PI</th>\n",
       "      <th>VAE</th>\n",
       "    </tr>\n",
       "    <tr>\n",
       "      <th>var</th>\n",
       "      <th>rejected</th>\n",
       "      <th>rejected</th>\n",
       "    </tr>\n",
       "  </thead>\n",
       "  <tbody>\n",
       "    <tr>\n",
       "      <th>count</th>\n",
       "      <td>1421</td>\n",
       "      <td>1421</td>\n",
       "    </tr>\n",
       "    <tr>\n",
       "      <th>unique</th>\n",
       "      <td>2</td>\n",
       "      <td>2</td>\n",
       "    </tr>\n",
       "    <tr>\n",
       "      <th>top</th>\n",
       "      <td>False</td>\n",
       "      <td>False</td>\n",
       "    </tr>\n",
       "    <tr>\n",
       "      <th>freq</th>\n",
       "      <td>1030</td>\n",
       "      <td>949</td>\n",
       "    </tr>\n",
       "  </tbody>\n",
       "</table>\n",
       "</div>"
      ],
      "text/plain": [
       "model        PI      VAE\n",
       "var    rejected rejected\n",
       "count      1421     1421\n",
       "unique        2        2\n",
       "top       False    False\n",
       "freq       1030      949"
      ]
     },
     "execution_count": 13,
     "metadata": {},
     "output_type": "execute_result"
    }
   ],
   "source": [
    "scores.describe(include=['bool', 'O'])"
   ]
  },
  {
   "cell_type": "markdown",
   "id": "bef83742-05e5-473b-892e-dd286cb3a31f",
   "metadata": {
    "papermill": {
     "duration": 0.0155,
     "end_time": "2024-11-23T04:36:40.254183",
     "exception": false,
     "start_time": "2024-11-23T04:36:40.238683",
     "status": "completed"
    },
    "tags": []
   },
   "source": [
    "## Load frequencies of observed features"
   ]
  },
  {
   "cell_type": "code",
   "execution_count": 14,
   "id": "2a926ba1-0f3b-4089-a349-b6d66128cf37",
   "metadata": {
    "execution": {
     "iopub.execute_input": "2024-11-23T04:36:40.305094Z",
     "iopub.status.busy": "2024-11-23T04:36:40.304793Z",
     "iopub.status.idle": "2024-11-23T04:36:40.340958Z",
     "shell.execute_reply": "2024-11-23T04:36:40.340290Z"
    },
    "papermill": {
     "duration": 0.073833,
     "end_time": "2024-11-23T04:36:40.342102",
     "exception": false,
     "start_time": "2024-11-23T04:36:40.268269",
     "status": "completed"
    },
    "tags": [
     "hide-input"
    ]
   },
   "outputs": [
    {
     "data": {
      "text/html": [
       "<div>\n",
       "<style scoped>\n",
       "    .dataframe tbody tr th:only-of-type {\n",
       "        vertical-align: middle;\n",
       "    }\n",
       "\n",
       "    .dataframe tbody tr th {\n",
       "        vertical-align: top;\n",
       "    }\n",
       "\n",
       "    .dataframe thead tr th {\n",
       "        text-align: left;\n",
       "    }\n",
       "\n",
       "    .dataframe thead tr:last-of-type th {\n",
       "        text-align: right;\n",
       "    }\n",
       "</style>\n",
       "<table border=\"1\" class=\"dataframe\">\n",
       "  <thead>\n",
       "    <tr>\n",
       "      <th></th>\n",
       "      <th>data</th>\n",
       "    </tr>\n",
       "    <tr>\n",
       "      <th></th>\n",
       "      <th>frequency</th>\n",
       "    </tr>\n",
       "    <tr>\n",
       "      <th>protein groups</th>\n",
       "      <th></th>\n",
       "    </tr>\n",
       "  </thead>\n",
       "  <tbody>\n",
       "    <tr>\n",
       "      <th>A0A024QZX5;A0A087X1N8;P35237</th>\n",
       "      <td>186</td>\n",
       "    </tr>\n",
       "    <tr>\n",
       "      <th>A0A024R0T9;K7ER74;P02655</th>\n",
       "      <td>195</td>\n",
       "    </tr>\n",
       "    <tr>\n",
       "      <th>A0A024R3W6;A0A024R412;O60462;O60462-2;O60462-3;O60462-4;O60462-5;Q7LBX6;X5D2Q8</th>\n",
       "      <td>174</td>\n",
       "    </tr>\n",
       "    <tr>\n",
       "      <th>A0A024R644;A0A0A0MRU5;A0A1B0GWI2;O75503</th>\n",
       "      <td>196</td>\n",
       "    </tr>\n",
       "    <tr>\n",
       "      <th>A0A075B6H7</th>\n",
       "      <td>91</td>\n",
       "    </tr>\n",
       "    <tr>\n",
       "      <th>...</th>\n",
       "      <td>...</td>\n",
       "    </tr>\n",
       "    <tr>\n",
       "      <th>Q9Y6R7</th>\n",
       "      <td>197</td>\n",
       "    </tr>\n",
       "    <tr>\n",
       "      <th>Q9Y6X5</th>\n",
       "      <td>173</td>\n",
       "    </tr>\n",
       "    <tr>\n",
       "      <th>Q9Y6Y8;Q9Y6Y8-2</th>\n",
       "      <td>197</td>\n",
       "    </tr>\n",
       "    <tr>\n",
       "      <th>Q9Y6Y9</th>\n",
       "      <td>119</td>\n",
       "    </tr>\n",
       "    <tr>\n",
       "      <th>S4R3U6</th>\n",
       "      <td>126</td>\n",
       "    </tr>\n",
       "  </tbody>\n",
       "</table>\n",
       "<p>1421 rows × 1 columns</p>\n",
       "</div>"
      ],
      "text/plain": [
       "                                                        data\n",
       "                                                   frequency\n",
       "protein groups                                              \n",
       "A0A024QZX5;A0A087X1N8;P35237                             186\n",
       "A0A024R0T9;K7ER74;P02655                                 195\n",
       "A0A024R3W6;A0A024R412;O60462;O60462-2;O60462-3;...       174\n",
       "A0A024R644;A0A0A0MRU5;A0A1B0GWI2;O75503                  196\n",
       "A0A075B6H7                                                91\n",
       "...                                                      ...\n",
       "Q9Y6R7                                                   197\n",
       "Q9Y6X5                                                   173\n",
       "Q9Y6Y8;Q9Y6Y8-2                                          197\n",
       "Q9Y6Y9                                                   119\n",
       "S4R3U6                                                   126\n",
       "\n",
       "[1421 rows x 1 columns]"
      ]
     },
     "execution_count": 14,
     "metadata": {},
     "output_type": "execute_result"
    }
   ],
   "source": [
    "freq_feat = pd.read_csv(args.freq_features_observed, index_col=0)\n",
    "freq_feat.columns = pd.MultiIndex.from_tuples([('data', 'frequency'),])\n",
    "freq_feat"
   ]
  },
  {
   "cell_type": "markdown",
   "id": "408eacfe-770f-42ff-9057-2a98274e1ae3",
   "metadata": {
    "papermill": {
     "duration": 0.016222,
     "end_time": "2024-11-23T04:36:40.379138",
     "exception": false,
     "start_time": "2024-11-23T04:36:40.362916",
     "status": "completed"
    },
    "tags": []
   },
   "source": [
    "## Compare shared features"
   ]
  },
  {
   "cell_type": "code",
   "execution_count": 15,
   "id": "5b2dfb0f-195b-4044-a228-2d784ea2a458",
   "metadata": {
    "execution": {
     "iopub.execute_input": "2024-11-23T04:36:40.412217Z",
     "iopub.status.busy": "2024-11-23T04:36:40.412008Z",
     "iopub.status.idle": "2024-11-23T04:36:40.430854Z",
     "shell.execute_reply": "2024-11-23T04:36:40.429932Z"
    },
    "papermill": {
     "duration": 0.036798,
     "end_time": "2024-11-23T04:36:40.432195",
     "exception": false,
     "start_time": "2024-11-23T04:36:40.395397",
     "status": "completed"
    },
    "tags": [
     "hide-input"
    ]
   },
   "outputs": [
    {
     "data": {
      "text/html": [
       "<div>\n",
       "<style scoped>\n",
       "    .dataframe tbody tr th:only-of-type {\n",
       "        vertical-align: middle;\n",
       "    }\n",
       "\n",
       "    .dataframe tbody tr th {\n",
       "        vertical-align: top;\n",
       "    }\n",
       "\n",
       "    .dataframe thead tr th {\n",
       "        text-align: left;\n",
       "    }\n",
       "\n",
       "    .dataframe thead tr:last-of-type th {\n",
       "        text-align: right;\n",
       "    }\n",
       "</style>\n",
       "<table border=\"1\" class=\"dataframe\">\n",
       "  <thead>\n",
       "    <tr>\n",
       "      <th></th>\n",
       "      <th colspan=\"4\" halign=\"left\">PI</th>\n",
       "      <th colspan=\"4\" halign=\"left\">VAE</th>\n",
       "      <th>data</th>\n",
       "    </tr>\n",
       "    <tr>\n",
       "      <th></th>\n",
       "      <th>p-unc</th>\n",
       "      <th>-Log10 pvalue</th>\n",
       "      <th>qvalue</th>\n",
       "      <th>rejected</th>\n",
       "      <th>p-unc</th>\n",
       "      <th>-Log10 pvalue</th>\n",
       "      <th>qvalue</th>\n",
       "      <th>rejected</th>\n",
       "      <th>frequency</th>\n",
       "    </tr>\n",
       "    <tr>\n",
       "      <th>protein groups</th>\n",
       "      <th></th>\n",
       "      <th></th>\n",
       "      <th></th>\n",
       "      <th></th>\n",
       "      <th></th>\n",
       "      <th></th>\n",
       "      <th></th>\n",
       "      <th></th>\n",
       "      <th></th>\n",
       "    </tr>\n",
       "  </thead>\n",
       "  <tbody>\n",
       "    <tr>\n",
       "      <th>A0A024QZX5;A0A087X1N8;P35237</th>\n",
       "      <td>0.280</td>\n",
       "      <td>0.553</td>\n",
       "      <td>0.439</td>\n",
       "      <td>False</td>\n",
       "      <td>0.008</td>\n",
       "      <td>2.116</td>\n",
       "      <td>0.021</td>\n",
       "      <td>True</td>\n",
       "      <td>186</td>\n",
       "    </tr>\n",
       "    <tr>\n",
       "      <th>A0A024R0T9;K7ER74;P02655</th>\n",
       "      <td>0.041</td>\n",
       "      <td>1.383</td>\n",
       "      <td>0.105</td>\n",
       "      <td>False</td>\n",
       "      <td>0.031</td>\n",
       "      <td>1.510</td>\n",
       "      <td>0.069</td>\n",
       "      <td>False</td>\n",
       "      <td>195</td>\n",
       "    </tr>\n",
       "    <tr>\n",
       "      <th>A0A024R3W6;A0A024R412;O60462;O60462-2;O60462-3;O60462-4;O60462-5;Q7LBX6;X5D2Q8</th>\n",
       "      <td>0.133</td>\n",
       "      <td>0.877</td>\n",
       "      <td>0.257</td>\n",
       "      <td>False</td>\n",
       "      <td>0.320</td>\n",
       "      <td>0.495</td>\n",
       "      <td>0.451</td>\n",
       "      <td>False</td>\n",
       "      <td>174</td>\n",
       "    </tr>\n",
       "    <tr>\n",
       "      <th>A0A024R644;A0A0A0MRU5;A0A1B0GWI2;O75503</th>\n",
       "      <td>0.411</td>\n",
       "      <td>0.386</td>\n",
       "      <td>0.572</td>\n",
       "      <td>False</td>\n",
       "      <td>0.256</td>\n",
       "      <td>0.592</td>\n",
       "      <td>0.379</td>\n",
       "      <td>False</td>\n",
       "      <td>196</td>\n",
       "    </tr>\n",
       "    <tr>\n",
       "      <th>A0A075B6H7</th>\n",
       "      <td>0.097</td>\n",
       "      <td>1.014</td>\n",
       "      <td>0.203</td>\n",
       "      <td>False</td>\n",
       "      <td>0.004</td>\n",
       "      <td>2.395</td>\n",
       "      <td>0.012</td>\n",
       "      <td>True</td>\n",
       "      <td>91</td>\n",
       "    </tr>\n",
       "    <tr>\n",
       "      <th>...</th>\n",
       "      <td>...</td>\n",
       "      <td>...</td>\n",
       "      <td>...</td>\n",
       "      <td>...</td>\n",
       "      <td>...</td>\n",
       "      <td>...</td>\n",
       "      <td>...</td>\n",
       "      <td>...</td>\n",
       "      <td>...</td>\n",
       "    </tr>\n",
       "    <tr>\n",
       "      <th>Q9Y6R7</th>\n",
       "      <td>0.175</td>\n",
       "      <td>0.756</td>\n",
       "      <td>0.312</td>\n",
       "      <td>False</td>\n",
       "      <td>0.175</td>\n",
       "      <td>0.756</td>\n",
       "      <td>0.282</td>\n",
       "      <td>False</td>\n",
       "      <td>197</td>\n",
       "    </tr>\n",
       "    <tr>\n",
       "      <th>Q9Y6X5</th>\n",
       "      <td>0.070</td>\n",
       "      <td>1.152</td>\n",
       "      <td>0.159</td>\n",
       "      <td>False</td>\n",
       "      <td>0.218</td>\n",
       "      <td>0.662</td>\n",
       "      <td>0.333</td>\n",
       "      <td>False</td>\n",
       "      <td>173</td>\n",
       "    </tr>\n",
       "    <tr>\n",
       "      <th>Q9Y6Y8;Q9Y6Y8-2</th>\n",
       "      <td>0.083</td>\n",
       "      <td>1.079</td>\n",
       "      <td>0.181</td>\n",
       "      <td>False</td>\n",
       "      <td>0.083</td>\n",
       "      <td>1.079</td>\n",
       "      <td>0.156</td>\n",
       "      <td>False</td>\n",
       "      <td>197</td>\n",
       "    </tr>\n",
       "    <tr>\n",
       "      <th>Q9Y6Y9</th>\n",
       "      <td>0.273</td>\n",
       "      <td>0.564</td>\n",
       "      <td>0.431</td>\n",
       "      <td>False</td>\n",
       "      <td>0.694</td>\n",
       "      <td>0.159</td>\n",
       "      <td>0.786</td>\n",
       "      <td>False</td>\n",
       "      <td>119</td>\n",
       "    </tr>\n",
       "    <tr>\n",
       "      <th>S4R3U6</th>\n",
       "      <td>0.680</td>\n",
       "      <td>0.167</td>\n",
       "      <td>0.793</td>\n",
       "      <td>False</td>\n",
       "      <td>0.078</td>\n",
       "      <td>1.109</td>\n",
       "      <td>0.147</td>\n",
       "      <td>False</td>\n",
       "      <td>126</td>\n",
       "    </tr>\n",
       "  </tbody>\n",
       "</table>\n",
       "<p>1421 rows × 9 columns</p>\n",
       "</div>"
      ],
      "text/plain": [
       "                                                      PI                       \\\n",
       "                                                   p-unc -Log10 pvalue qvalue   \n",
       "protein groups                                                                  \n",
       "A0A024QZX5;A0A087X1N8;P35237                       0.280         0.553  0.439   \n",
       "A0A024R0T9;K7ER74;P02655                           0.041         1.383  0.105   \n",
       "A0A024R3W6;A0A024R412;O60462;O60462-2;O60462-3;... 0.133         0.877  0.257   \n",
       "A0A024R644;A0A0A0MRU5;A0A1B0GWI2;O75503            0.411         0.386  0.572   \n",
       "A0A075B6H7                                         0.097         1.014  0.203   \n",
       "...                                                  ...           ...    ...   \n",
       "Q9Y6R7                                             0.175         0.756  0.312   \n",
       "Q9Y6X5                                             0.070         1.152  0.159   \n",
       "Q9Y6Y8;Q9Y6Y8-2                                    0.083         1.079  0.181   \n",
       "Q9Y6Y9                                             0.273         0.564  0.431   \n",
       "S4R3U6                                             0.680         0.167  0.793   \n",
       "\n",
       "                                                              VAE  \\\n",
       "                                                   rejected p-unc   \n",
       "protein groups                                                      \n",
       "A0A024QZX5;A0A087X1N8;P35237                          False 0.008   \n",
       "A0A024R0T9;K7ER74;P02655                              False 0.031   \n",
       "A0A024R3W6;A0A024R412;O60462;O60462-2;O60462-3;...    False 0.320   \n",
       "A0A024R644;A0A0A0MRU5;A0A1B0GWI2;O75503               False 0.256   \n",
       "A0A075B6H7                                            False 0.004   \n",
       "...                                                     ...   ...   \n",
       "Q9Y6R7                                                False 0.175   \n",
       "Q9Y6X5                                                False 0.218   \n",
       "Q9Y6Y8;Q9Y6Y8-2                                       False 0.083   \n",
       "Q9Y6Y9                                                False 0.694   \n",
       "S4R3U6                                                False 0.078   \n",
       "\n",
       "                                                                         \\\n",
       "                                                   -Log10 pvalue qvalue   \n",
       "protein groups                                                            \n",
       "A0A024QZX5;A0A087X1N8;P35237                               2.116  0.021   \n",
       "A0A024R0T9;K7ER74;P02655                                   1.510  0.069   \n",
       "A0A024R3W6;A0A024R412;O60462;O60462-2;O60462-3;...         0.495  0.451   \n",
       "A0A024R644;A0A0A0MRU5;A0A1B0GWI2;O75503                    0.592  0.379   \n",
       "A0A075B6H7                                                 2.395  0.012   \n",
       "...                                                          ...    ...   \n",
       "Q9Y6R7                                                     0.756  0.282   \n",
       "Q9Y6X5                                                     0.662  0.333   \n",
       "Q9Y6Y8;Q9Y6Y8-2                                            1.079  0.156   \n",
       "Q9Y6Y9                                                     0.159  0.786   \n",
       "S4R3U6                                                     1.109  0.147   \n",
       "\n",
       "                                                                 data  \n",
       "                                                   rejected frequency  \n",
       "protein groups                                                         \n",
       "A0A024QZX5;A0A087X1N8;P35237                           True       186  \n",
       "A0A024R0T9;K7ER74;P02655                              False       195  \n",
       "A0A024R3W6;A0A024R412;O60462;O60462-2;O60462-3;...    False       174  \n",
       "A0A024R644;A0A0A0MRU5;A0A1B0GWI2;O75503               False       196  \n",
       "A0A075B6H7                                             True        91  \n",
       "...                                                     ...       ...  \n",
       "Q9Y6R7                                                False       197  \n",
       "Q9Y6X5                                                False       173  \n",
       "Q9Y6Y8;Q9Y6Y8-2                                       False       197  \n",
       "Q9Y6Y9                                                False       119  \n",
       "S4R3U6                                                False       126  \n",
       "\n",
       "[1421 rows x 9 columns]"
      ]
     },
     "execution_count": 15,
     "metadata": {},
     "output_type": "execute_result"
    }
   ],
   "source": [
    "scores_common = (scores\n",
    "                 .dropna()\n",
    "                 .reset_index(-1, drop=True)\n",
    "                 ).join(\n",
    "    freq_feat, how='left'\n",
    ")\n",
    "scores_common"
   ]
  },
  {
   "cell_type": "markdown",
   "id": "62a9eefd",
   "metadata": {
    "papermill": {
     "duration": 0.016142,
     "end_time": "2024-11-23T04:36:40.465178",
     "exception": false,
     "start_time": "2024-11-23T04:36:40.449036",
     "status": "completed"
    },
    "tags": []
   },
   "source": [
    "### Annotate decisions in Confusion Table style:"
   ]
  },
  {
   "cell_type": "code",
   "execution_count": 16,
   "id": "80cf4145-070d-457a-bb74-ee64299809e7",
   "metadata": {
    "execution": {
     "iopub.execute_input": "2024-11-23T04:36:40.579572Z",
     "iopub.status.busy": "2024-11-23T04:36:40.579270Z",
     "iopub.status.idle": "2024-11-23T04:36:40.592846Z",
     "shell.execute_reply": "2024-11-23T04:36:40.592219Z"
    },
    "papermill": {
     "duration": 0.044103,
     "end_time": "2024-11-23T04:36:40.593958",
     "exception": false,
     "start_time": "2024-11-23T04:36:40.549855",
     "status": "completed"
    },
    "tags": [
     "hide-input"
    ]
   },
   "outputs": [
    {
     "data": {
      "text/plain": [
       "Differential Analysis Comparison\n",
       "PI (no)  - VAE (no)    892\n",
       "PI (yes) - VAE (yes)   334\n",
       "PI (no)  - VAE (yes)   138\n",
       "PI (yes) - VAE (no)     57\n",
       "Name: count, dtype: int64"
      ]
     },
     "execution_count": 16,
     "metadata": {},
     "output_type": "execute_result"
    }
   ],
   "source": [
    "def annotate_decision(scores, model, model_column):\n",
    "    return scores[(model_column, 'rejected')].replace({False: f'{model} (no) ', True: f'{model} (yes)'})\n",
    "\n",
    "\n",
    "annotations = None\n",
    "for model, model_column in models.items():\n",
    "    if annotations is not None:\n",
    "        annotations += ' - '\n",
    "        annotations += annotate_decision(scores_common,\n",
    "                                         model=model, model_column=model_column)\n",
    "    else:\n",
    "        annotations = annotate_decision(\n",
    "            scores_common, model=model, model_column=model_column)\n",
    "annotations.name = 'Differential Analysis Comparison'\n",
    "annotations.value_counts()"
   ]
  },
  {
   "cell_type": "markdown",
   "id": "0942d395",
   "metadata": {
    "papermill": {
     "duration": 0.02515,
     "end_time": "2024-11-23T04:36:40.647749",
     "exception": false,
     "start_time": "2024-11-23T04:36:40.622599",
     "status": "completed"
    },
    "tags": []
   },
   "source": [
    "### List different decisions between models"
   ]
  },
  {
   "cell_type": "code",
   "execution_count": 17,
   "id": "cda5ffa4-9a97-4a49-aaba-34e83ef7940a",
   "metadata": {
    "execution": {
     "iopub.execute_input": "2024-11-23T04:36:40.675663Z",
     "iopub.status.busy": "2024-11-23T04:36:40.675377Z",
     "iopub.status.idle": "2024-11-23T04:36:40.769453Z",
     "shell.execute_reply": "2024-11-23T04:36:40.768827Z"
    },
    "papermill": {
     "duration": 0.113096,
     "end_time": "2024-11-23T04:36:40.770913",
     "exception": false,
     "start_time": "2024-11-23T04:36:40.657817",
     "status": "completed"
    },
    "tags": [
     "hide-input"
    ]
   },
   "outputs": [
    {
     "name": "stderr",
     "output_type": "stream",
     "text": [
      "/tmp/ipykernel_48627/1417621106.py:6: FutureWarning: Starting with pandas version 3.0 all arguments of to_excel except for the argument 'excel_writer' will be keyword-only.\n",
      "  _to_write.to_excel(writer, 'differences', **writer_args)\n",
      "root - INFO     Writen to Excel file under sheet 'differences'.\n"
     ]
    },
    {
     "data": {
      "text/html": [
       "<div>\n",
       "<style scoped>\n",
       "    .dataframe tbody tr th:only-of-type {\n",
       "        vertical-align: middle;\n",
       "    }\n",
       "\n",
       "    .dataframe tbody tr th {\n",
       "        vertical-align: top;\n",
       "    }\n",
       "\n",
       "    .dataframe thead tr th {\n",
       "        text-align: left;\n",
       "    }\n",
       "\n",
       "    .dataframe thead tr:last-of-type th {\n",
       "        text-align: right;\n",
       "    }\n",
       "</style>\n",
       "<table border=\"1\" class=\"dataframe\">\n",
       "  <thead>\n",
       "    <tr>\n",
       "      <th></th>\n",
       "      <th colspan=\"4\" halign=\"left\">PI</th>\n",
       "      <th colspan=\"4\" halign=\"left\">VAE</th>\n",
       "      <th>data</th>\n",
       "    </tr>\n",
       "    <tr>\n",
       "      <th></th>\n",
       "      <th>p-unc</th>\n",
       "      <th>-Log10 pvalue</th>\n",
       "      <th>qvalue</th>\n",
       "      <th>rejected</th>\n",
       "      <th>p-unc</th>\n",
       "      <th>-Log10 pvalue</th>\n",
       "      <th>qvalue</th>\n",
       "      <th>rejected</th>\n",
       "      <th>frequency</th>\n",
       "    </tr>\n",
       "    <tr>\n",
       "      <th>protein groups</th>\n",
       "      <th></th>\n",
       "      <th></th>\n",
       "      <th></th>\n",
       "      <th></th>\n",
       "      <th></th>\n",
       "      <th></th>\n",
       "      <th></th>\n",
       "      <th></th>\n",
       "      <th></th>\n",
       "    </tr>\n",
       "  </thead>\n",
       "  <tbody>\n",
       "    <tr>\n",
       "      <th>A0A024QZX5;A0A087X1N8;P35237</th>\n",
       "      <td>0.280</td>\n",
       "      <td>0.553</td>\n",
       "      <td>0.439</td>\n",
       "      <td>False</td>\n",
       "      <td>0.008</td>\n",
       "      <td>2.116</td>\n",
       "      <td>0.021</td>\n",
       "      <td>True</td>\n",
       "      <td>186</td>\n",
       "    </tr>\n",
       "    <tr>\n",
       "      <th>A0A075B6H7</th>\n",
       "      <td>0.097</td>\n",
       "      <td>1.014</td>\n",
       "      <td>0.203</td>\n",
       "      <td>False</td>\n",
       "      <td>0.004</td>\n",
       "      <td>2.395</td>\n",
       "      <td>0.012</td>\n",
       "      <td>True</td>\n",
       "      <td>91</td>\n",
       "    </tr>\n",
       "    <tr>\n",
       "      <th>A0A075B6I0</th>\n",
       "      <td>0.019</td>\n",
       "      <td>1.728</td>\n",
       "      <td>0.056</td>\n",
       "      <td>False</td>\n",
       "      <td>0.001</td>\n",
       "      <td>3.170</td>\n",
       "      <td>0.003</td>\n",
       "      <td>True</td>\n",
       "      <td>194</td>\n",
       "    </tr>\n",
       "    <tr>\n",
       "      <th>A0A075B6J9</th>\n",
       "      <td>0.016</td>\n",
       "      <td>1.784</td>\n",
       "      <td>0.051</td>\n",
       "      <td>False</td>\n",
       "      <td>0.018</td>\n",
       "      <td>1.748</td>\n",
       "      <td>0.044</td>\n",
       "      <td>True</td>\n",
       "      <td>156</td>\n",
       "    </tr>\n",
       "    <tr>\n",
       "      <th>A0A075B6Q5</th>\n",
       "      <td>0.985</td>\n",
       "      <td>0.006</td>\n",
       "      <td>0.993</td>\n",
       "      <td>False</td>\n",
       "      <td>0.014</td>\n",
       "      <td>1.863</td>\n",
       "      <td>0.035</td>\n",
       "      <td>True</td>\n",
       "      <td>104</td>\n",
       "    </tr>\n",
       "    <tr>\n",
       "      <th>...</th>\n",
       "      <td>...</td>\n",
       "      <td>...</td>\n",
       "      <td>...</td>\n",
       "      <td>...</td>\n",
       "      <td>...</td>\n",
       "      <td>...</td>\n",
       "      <td>...</td>\n",
       "      <td>...</td>\n",
       "      <td>...</td>\n",
       "    </tr>\n",
       "    <tr>\n",
       "      <th>Q9P1W8;Q9P1W8-2;Q9P1W8-4</th>\n",
       "      <td>0.245</td>\n",
       "      <td>0.610</td>\n",
       "      <td>0.400</td>\n",
       "      <td>False</td>\n",
       "      <td>0.008</td>\n",
       "      <td>2.076</td>\n",
       "      <td>0.023</td>\n",
       "      <td>True</td>\n",
       "      <td>57</td>\n",
       "    </tr>\n",
       "    <tr>\n",
       "      <th>Q9UIB8;Q9UIB8-2;Q9UIB8-3;Q9UIB8-4;Q9UIB8-5;Q9UIB8-6</th>\n",
       "      <td>0.002</td>\n",
       "      <td>2.711</td>\n",
       "      <td>0.009</td>\n",
       "      <td>True</td>\n",
       "      <td>0.119</td>\n",
       "      <td>0.925</td>\n",
       "      <td>0.208</td>\n",
       "      <td>False</td>\n",
       "      <td>115</td>\n",
       "    </tr>\n",
       "    <tr>\n",
       "      <th>Q9UP79</th>\n",
       "      <td>0.152</td>\n",
       "      <td>0.818</td>\n",
       "      <td>0.282</td>\n",
       "      <td>False</td>\n",
       "      <td>0.000</td>\n",
       "      <td>4.373</td>\n",
       "      <td>0.000</td>\n",
       "      <td>True</td>\n",
       "      <td>135</td>\n",
       "    </tr>\n",
       "    <tr>\n",
       "      <th>Q9UQ52</th>\n",
       "      <td>0.037</td>\n",
       "      <td>1.432</td>\n",
       "      <td>0.096</td>\n",
       "      <td>False</td>\n",
       "      <td>0.001</td>\n",
       "      <td>3.137</td>\n",
       "      <td>0.003</td>\n",
       "      <td>True</td>\n",
       "      <td>188</td>\n",
       "    </tr>\n",
       "    <tr>\n",
       "      <th>Q9Y6C2</th>\n",
       "      <td>0.950</td>\n",
       "      <td>0.022</td>\n",
       "      <td>0.974</td>\n",
       "      <td>False</td>\n",
       "      <td>0.011</td>\n",
       "      <td>1.968</td>\n",
       "      <td>0.028</td>\n",
       "      <td>True</td>\n",
       "      <td>119</td>\n",
       "    </tr>\n",
       "  </tbody>\n",
       "</table>\n",
       "<p>195 rows × 9 columns</p>\n",
       "</div>"
      ],
      "text/plain": [
       "                                                      PI                       \\\n",
       "                                                   p-unc -Log10 pvalue qvalue   \n",
       "protein groups                                                                  \n",
       "A0A024QZX5;A0A087X1N8;P35237                       0.280         0.553  0.439   \n",
       "A0A075B6H7                                         0.097         1.014  0.203   \n",
       "A0A075B6I0                                         0.019         1.728  0.056   \n",
       "A0A075B6J9                                         0.016         1.784  0.051   \n",
       "A0A075B6Q5                                         0.985         0.006  0.993   \n",
       "...                                                  ...           ...    ...   \n",
       "Q9P1W8;Q9P1W8-2;Q9P1W8-4                           0.245         0.610  0.400   \n",
       "Q9UIB8;Q9UIB8-2;Q9UIB8-3;Q9UIB8-4;Q9UIB8-5;Q9UI... 0.002         2.711  0.009   \n",
       "Q9UP79                                             0.152         0.818  0.282   \n",
       "Q9UQ52                                             0.037         1.432  0.096   \n",
       "Q9Y6C2                                             0.950         0.022  0.974   \n",
       "\n",
       "                                                              VAE  \\\n",
       "                                                   rejected p-unc   \n",
       "protein groups                                                      \n",
       "A0A024QZX5;A0A087X1N8;P35237                          False 0.008   \n",
       "A0A075B6H7                                            False 0.004   \n",
       "A0A075B6I0                                            False 0.001   \n",
       "A0A075B6J9                                            False 0.018   \n",
       "A0A075B6Q5                                            False 0.014   \n",
       "...                                                     ...   ...   \n",
       "Q9P1W8;Q9P1W8-2;Q9P1W8-4                              False 0.008   \n",
       "Q9UIB8;Q9UIB8-2;Q9UIB8-3;Q9UIB8-4;Q9UIB8-5;Q9UI...     True 0.119   \n",
       "Q9UP79                                                False 0.000   \n",
       "Q9UQ52                                                False 0.001   \n",
       "Q9Y6C2                                                False 0.011   \n",
       "\n",
       "                                                                         \\\n",
       "                                                   -Log10 pvalue qvalue   \n",
       "protein groups                                                            \n",
       "A0A024QZX5;A0A087X1N8;P35237                               2.116  0.021   \n",
       "A0A075B6H7                                                 2.395  0.012   \n",
       "A0A075B6I0                                                 3.170  0.003   \n",
       "A0A075B6J9                                                 1.748  0.044   \n",
       "A0A075B6Q5                                                 1.863  0.035   \n",
       "...                                                          ...    ...   \n",
       "Q9P1W8;Q9P1W8-2;Q9P1W8-4                                   2.076  0.023   \n",
       "Q9UIB8;Q9UIB8-2;Q9UIB8-3;Q9UIB8-4;Q9UIB8-5;Q9UI...         0.925  0.208   \n",
       "Q9UP79                                                     4.373  0.000   \n",
       "Q9UQ52                                                     3.137  0.003   \n",
       "Q9Y6C2                                                     1.968  0.028   \n",
       "\n",
       "                                                                 data  \n",
       "                                                   rejected frequency  \n",
       "protein groups                                                         \n",
       "A0A024QZX5;A0A087X1N8;P35237                           True       186  \n",
       "A0A075B6H7                                             True        91  \n",
       "A0A075B6I0                                             True       194  \n",
       "A0A075B6J9                                             True       156  \n",
       "A0A075B6Q5                                             True       104  \n",
       "...                                                     ...       ...  \n",
       "Q9P1W8;Q9P1W8-2;Q9P1W8-4                               True        57  \n",
       "Q9UIB8;Q9UIB8-2;Q9UIB8-3;Q9UIB8-4;Q9UIB8-5;Q9UI...    False       115  \n",
       "Q9UP79                                                 True       135  \n",
       "Q9UQ52                                                 True       188  \n",
       "Q9Y6C2                                                 True       119  \n",
       "\n",
       "[195 rows x 9 columns]"
      ]
     },
     "execution_count": 17,
     "metadata": {},
     "output_type": "execute_result"
    }
   ],
   "source": [
    "mask_different = (\n",
    "    (scores_common.loc[:, pd.IndexSlice[:, 'rejected']].any(axis=1))\n",
    "    & ~(scores_common.loc[:, pd.IndexSlice[:, 'rejected']].all(axis=1))\n",
    ")\n",
    "_to_write = scores_common.loc[mask_different]\n",
    "_to_write.to_excel(writer, 'differences', **writer_args)\n",
    "logger.info(\"Writen to Excel file under sheet 'differences'.\")\n",
    "_to_write"
   ]
  },
  {
   "cell_type": "markdown",
   "id": "e8832084",
   "metadata": {
    "papermill": {
     "duration": 0.029018,
     "end_time": "2024-11-23T04:36:40.832132",
     "exception": false,
     "start_time": "2024-11-23T04:36:40.803114",
     "status": "completed"
    },
    "tags": []
   },
   "source": [
    "## Plot qvalues of both models with annotated decisions\n",
    "\n",
    "Prepare data for plotting (qvalues)"
   ]
  },
  {
   "cell_type": "code",
   "execution_count": 18,
   "id": "5b2e5341-b054-40c3-b45a-44ae6ca46cfb",
   "metadata": {
    "execution": {
     "iopub.execute_input": "2024-11-23T04:36:40.865339Z",
     "iopub.status.busy": "2024-11-23T04:36:40.865022Z",
     "iopub.status.idle": "2024-11-23T04:36:40.877954Z",
     "shell.execute_reply": "2024-11-23T04:36:40.877355Z"
    },
    "papermill": {
     "duration": 0.030924,
     "end_time": "2024-11-23T04:36:40.879123",
     "exception": false,
     "start_time": "2024-11-23T04:36:40.848199",
     "status": "completed"
    },
    "tags": [
     "hide-input"
    ]
   },
   "outputs": [
    {
     "data": {
      "text/html": [
       "<div>\n",
       "<style scoped>\n",
       "    .dataframe tbody tr th:only-of-type {\n",
       "        vertical-align: middle;\n",
       "    }\n",
       "\n",
       "    .dataframe tbody tr th {\n",
       "        vertical-align: top;\n",
       "    }\n",
       "\n",
       "    .dataframe thead th {\n",
       "        text-align: right;\n",
       "    }\n",
       "</style>\n",
       "<table border=\"1\" class=\"dataframe\">\n",
       "  <thead>\n",
       "    <tr style=\"text-align: right;\">\n",
       "      <th></th>\n",
       "      <th>PI</th>\n",
       "      <th>VAE</th>\n",
       "      <th>frequency</th>\n",
       "      <th>Differential Analysis Comparison</th>\n",
       "    </tr>\n",
       "    <tr>\n",
       "      <th>protein groups</th>\n",
       "      <th></th>\n",
       "      <th></th>\n",
       "      <th></th>\n",
       "      <th></th>\n",
       "    </tr>\n",
       "  </thead>\n",
       "  <tbody>\n",
       "    <tr>\n",
       "      <th>A0A024QZX5;A0A087X1N8;P35237</th>\n",
       "      <td>0.439</td>\n",
       "      <td>0.021</td>\n",
       "      <td>186</td>\n",
       "      <td>PI (no)  - VAE (yes)</td>\n",
       "    </tr>\n",
       "    <tr>\n",
       "      <th>A0A024R0T9;K7ER74;P02655</th>\n",
       "      <td>0.105</td>\n",
       "      <td>0.069</td>\n",
       "      <td>195</td>\n",
       "      <td>PI (no)  - VAE (no)</td>\n",
       "    </tr>\n",
       "    <tr>\n",
       "      <th>A0A024R3W6;A0A024R412;O60462;O60462-2;O60462-3;O60462-4;O60462-5;Q7LBX6;X5D2Q8</th>\n",
       "      <td>0.257</td>\n",
       "      <td>0.451</td>\n",
       "      <td>174</td>\n",
       "      <td>PI (no)  - VAE (no)</td>\n",
       "    </tr>\n",
       "    <tr>\n",
       "      <th>A0A024R644;A0A0A0MRU5;A0A1B0GWI2;O75503</th>\n",
       "      <td>0.572</td>\n",
       "      <td>0.379</td>\n",
       "      <td>196</td>\n",
       "      <td>PI (no)  - VAE (no)</td>\n",
       "    </tr>\n",
       "    <tr>\n",
       "      <th>A0A075B6H7</th>\n",
       "      <td>0.203</td>\n",
       "      <td>0.012</td>\n",
       "      <td>91</td>\n",
       "      <td>PI (no)  - VAE (yes)</td>\n",
       "    </tr>\n",
       "    <tr>\n",
       "      <th>...</th>\n",
       "      <td>...</td>\n",
       "      <td>...</td>\n",
       "      <td>...</td>\n",
       "      <td>...</td>\n",
       "    </tr>\n",
       "    <tr>\n",
       "      <th>Q9Y6R7</th>\n",
       "      <td>0.312</td>\n",
       "      <td>0.282</td>\n",
       "      <td>197</td>\n",
       "      <td>PI (no)  - VAE (no)</td>\n",
       "    </tr>\n",
       "    <tr>\n",
       "      <th>Q9Y6X5</th>\n",
       "      <td>0.159</td>\n",
       "      <td>0.333</td>\n",
       "      <td>173</td>\n",
       "      <td>PI (no)  - VAE (no)</td>\n",
       "    </tr>\n",
       "    <tr>\n",
       "      <th>Q9Y6Y8;Q9Y6Y8-2</th>\n",
       "      <td>0.181</td>\n",
       "      <td>0.156</td>\n",
       "      <td>197</td>\n",
       "      <td>PI (no)  - VAE (no)</td>\n",
       "    </tr>\n",
       "    <tr>\n",
       "      <th>Q9Y6Y9</th>\n",
       "      <td>0.431</td>\n",
       "      <td>0.786</td>\n",
       "      <td>119</td>\n",
       "      <td>PI (no)  - VAE (no)</td>\n",
       "    </tr>\n",
       "    <tr>\n",
       "      <th>S4R3U6</th>\n",
       "      <td>0.793</td>\n",
       "      <td>0.147</td>\n",
       "      <td>126</td>\n",
       "      <td>PI (no)  - VAE (no)</td>\n",
       "    </tr>\n",
       "  </tbody>\n",
       "</table>\n",
       "<p>1421 rows × 4 columns</p>\n",
       "</div>"
      ],
      "text/plain": [
       "                                                      PI   VAE  frequency  \\\n",
       "protein groups                                                              \n",
       "A0A024QZX5;A0A087X1N8;P35237                       0.439 0.021        186   \n",
       "A0A024R0T9;K7ER74;P02655                           0.105 0.069        195   \n",
       "A0A024R3W6;A0A024R412;O60462;O60462-2;O60462-3;... 0.257 0.451        174   \n",
       "A0A024R644;A0A0A0MRU5;A0A1B0GWI2;O75503            0.572 0.379        196   \n",
       "A0A075B6H7                                         0.203 0.012         91   \n",
       "...                                                  ...   ...        ...   \n",
       "Q9Y6R7                                             0.312 0.282        197   \n",
       "Q9Y6X5                                             0.159 0.333        173   \n",
       "Q9Y6Y8;Q9Y6Y8-2                                    0.181 0.156        197   \n",
       "Q9Y6Y9                                             0.431 0.786        119   \n",
       "S4R3U6                                             0.793 0.147        126   \n",
       "\n",
       "                                                   Differential Analysis Comparison  \n",
       "protein groups                                                                       \n",
       "A0A024QZX5;A0A087X1N8;P35237                                   PI (no)  - VAE (yes)  \n",
       "A0A024R0T9;K7ER74;P02655                                       PI (no)  - VAE (no)   \n",
       "A0A024R3W6;A0A024R412;O60462;O60462-2;O60462-3;...             PI (no)  - VAE (no)   \n",
       "A0A024R644;A0A0A0MRU5;A0A1B0GWI2;O75503                        PI (no)  - VAE (no)   \n",
       "A0A075B6H7                                                     PI (no)  - VAE (yes)  \n",
       "...                                                                             ...  \n",
       "Q9Y6R7                                                         PI (no)  - VAE (no)   \n",
       "Q9Y6X5                                                         PI (no)  - VAE (no)   \n",
       "Q9Y6Y8;Q9Y6Y8-2                                                PI (no)  - VAE (no)   \n",
       "Q9Y6Y9                                                         PI (no)  - VAE (no)   \n",
       "S4R3U6                                                         PI (no)  - VAE (no)   \n",
       "\n",
       "[1421 rows x 4 columns]"
      ]
     },
     "execution_count": 18,
     "metadata": {},
     "output_type": "execute_result"
    }
   ],
   "source": [
    "var = 'qvalue'\n",
    "to_plot = [scores_common[v][var] for v in models.values()]\n",
    "for s, k in zip(to_plot, models.keys()):\n",
    "    s.name = k.replace('_', ' ')\n",
    "to_plot.append(scores_common['data'])\n",
    "to_plot.append(annotations)\n",
    "to_plot = pd.concat(to_plot, axis=1)\n",
    "to_plot"
   ]
  },
  {
   "cell_type": "markdown",
   "id": "c92517a4-8456-4663-b719-4abd997fbb1c",
   "metadata": {
    "papermill": {
     "duration": 0.017109,
     "end_time": "2024-11-23T04:36:40.913392",
     "exception": false,
     "start_time": "2024-11-23T04:36:40.896283",
     "status": "completed"
    },
    "tags": []
   },
   "source": [
    "List of features with the highest difference in qvalues"
   ]
  },
  {
   "cell_type": "code",
   "execution_count": 19,
   "id": "c7af4a70-aa43-4772-af00-d425f5ed249f",
   "metadata": {
    "execution": {
     "iopub.execute_input": "2024-11-23T04:36:40.947331Z",
     "iopub.status.busy": "2024-11-23T04:36:40.947076Z",
     "iopub.status.idle": "2024-11-23T04:36:41.010477Z",
     "shell.execute_reply": "2024-11-23T04:36:41.009837Z"
    },
    "papermill": {
     "duration": 0.080962,
     "end_time": "2024-11-23T04:36:41.011556",
     "exception": false,
     "start_time": "2024-11-23T04:36:40.930594",
     "status": "completed"
    },
    "tags": [
     "hide-input"
    ]
   },
   "outputs": [
    {
     "data": {
      "text/html": [
       "<div>\n",
       "<style scoped>\n",
       "    .dataframe tbody tr th:only-of-type {\n",
       "        vertical-align: middle;\n",
       "    }\n",
       "\n",
       "    .dataframe tbody tr th {\n",
       "        vertical-align: top;\n",
       "    }\n",
       "\n",
       "    .dataframe thead th {\n",
       "        text-align: right;\n",
       "    }\n",
       "</style>\n",
       "<table border=\"1\" class=\"dataframe\">\n",
       "  <thead>\n",
       "    <tr style=\"text-align: right;\">\n",
       "      <th></th>\n",
       "      <th>PI</th>\n",
       "      <th>VAE</th>\n",
       "      <th>frequency</th>\n",
       "      <th>Differential Analysis Comparison</th>\n",
       "      <th>diff_qvalue</th>\n",
       "    </tr>\n",
       "    <tr>\n",
       "      <th>protein groups</th>\n",
       "      <th></th>\n",
       "      <th></th>\n",
       "      <th></th>\n",
       "      <th></th>\n",
       "      <th></th>\n",
       "    </tr>\n",
       "  </thead>\n",
       "  <tbody>\n",
       "    <tr>\n",
       "      <th>A0A087WU43;A0A087WX17;A0A087WXI5;P12830;P12830-2</th>\n",
       "      <td>0.997</td>\n",
       "      <td>0.000</td>\n",
       "      <td>134</td>\n",
       "      <td>PI (no)  - VAE (yes)</td>\n",
       "      <td>0.997</td>\n",
       "    </tr>\n",
       "    <tr>\n",
       "      <th>F6VDH7;P50502;Q3KNR6</th>\n",
       "      <td>0.008</td>\n",
       "      <td>0.993</td>\n",
       "      <td>175</td>\n",
       "      <td>PI (yes) - VAE (no)</td>\n",
       "      <td>0.985</td>\n",
       "    </tr>\n",
       "    <tr>\n",
       "      <th>Q8NCH0</th>\n",
       "      <td>0.007</td>\n",
       "      <td>0.971</td>\n",
       "      <td>113</td>\n",
       "      <td>PI (yes) - VAE (no)</td>\n",
       "      <td>0.964</td>\n",
       "    </tr>\n",
       "    <tr>\n",
       "      <th>A0A075B6Q5</th>\n",
       "      <td>0.993</td>\n",
       "      <td>0.035</td>\n",
       "      <td>104</td>\n",
       "      <td>PI (no)  - VAE (yes)</td>\n",
       "      <td>0.958</td>\n",
       "    </tr>\n",
       "    <tr>\n",
       "      <th>Q9Y6C2</th>\n",
       "      <td>0.974</td>\n",
       "      <td>0.028</td>\n",
       "      <td>119</td>\n",
       "      <td>PI (no)  - VAE (yes)</td>\n",
       "      <td>0.946</td>\n",
       "    </tr>\n",
       "    <tr>\n",
       "      <th>...</th>\n",
       "      <td>...</td>\n",
       "      <td>...</td>\n",
       "      <td>...</td>\n",
       "      <td>...</td>\n",
       "      <td>...</td>\n",
       "    </tr>\n",
       "    <tr>\n",
       "      <th>F5GY80;F5H7G1;P07358</th>\n",
       "      <td>0.057</td>\n",
       "      <td>0.046</td>\n",
       "      <td>197</td>\n",
       "      <td>PI (no)  - VAE (yes)</td>\n",
       "      <td>0.011</td>\n",
       "    </tr>\n",
       "    <tr>\n",
       "      <th>Q9NX62</th>\n",
       "      <td>0.056</td>\n",
       "      <td>0.045</td>\n",
       "      <td>197</td>\n",
       "      <td>PI (no)  - VAE (yes)</td>\n",
       "      <td>0.011</td>\n",
       "    </tr>\n",
       "    <tr>\n",
       "      <th>P00740;P00740-2</th>\n",
       "      <td>0.053</td>\n",
       "      <td>0.042</td>\n",
       "      <td>197</td>\n",
       "      <td>PI (no)  - VAE (yes)</td>\n",
       "      <td>0.010</td>\n",
       "    </tr>\n",
       "    <tr>\n",
       "      <th>K7ERG9;P00746</th>\n",
       "      <td>0.052</td>\n",
       "      <td>0.042</td>\n",
       "      <td>197</td>\n",
       "      <td>PI (no)  - VAE (yes)</td>\n",
       "      <td>0.010</td>\n",
       "    </tr>\n",
       "    <tr>\n",
       "      <th>A0A075B6J9</th>\n",
       "      <td>0.051</td>\n",
       "      <td>0.044</td>\n",
       "      <td>156</td>\n",
       "      <td>PI (no)  - VAE (yes)</td>\n",
       "      <td>0.007</td>\n",
       "    </tr>\n",
       "  </tbody>\n",
       "</table>\n",
       "<p>195 rows × 5 columns</p>\n",
       "</div>"
      ],
      "text/plain": [
       "                                                    PI   VAE  frequency  \\\n",
       "protein groups                                                            \n",
       "A0A087WU43;A0A087WX17;A0A087WXI5;P12830;P12830-2 0.997 0.000        134   \n",
       "F6VDH7;P50502;Q3KNR6                             0.008 0.993        175   \n",
       "Q8NCH0                                           0.007 0.971        113   \n",
       "A0A075B6Q5                                       0.993 0.035        104   \n",
       "Q9Y6C2                                           0.974 0.028        119   \n",
       "...                                                ...   ...        ...   \n",
       "F5GY80;F5H7G1;P07358                             0.057 0.046        197   \n",
       "Q9NX62                                           0.056 0.045        197   \n",
       "P00740;P00740-2                                  0.053 0.042        197   \n",
       "K7ERG9;P00746                                    0.052 0.042        197   \n",
       "A0A075B6J9                                       0.051 0.044        156   \n",
       "\n",
       "                                                 Differential Analysis Comparison  \\\n",
       "protein groups                                                                      \n",
       "A0A087WU43;A0A087WX17;A0A087WXI5;P12830;P12830-2             PI (no)  - VAE (yes)   \n",
       "F6VDH7;P50502;Q3KNR6                                         PI (yes) - VAE (no)    \n",
       "Q8NCH0                                                       PI (yes) - VAE (no)    \n",
       "A0A075B6Q5                                                   PI (no)  - VAE (yes)   \n",
       "Q9Y6C2                                                       PI (no)  - VAE (yes)   \n",
       "...                                                                           ...   \n",
       "F5GY80;F5H7G1;P07358                                         PI (no)  - VAE (yes)   \n",
       "Q9NX62                                                       PI (no)  - VAE (yes)   \n",
       "P00740;P00740-2                                              PI (no)  - VAE (yes)   \n",
       "K7ERG9;P00746                                                PI (no)  - VAE (yes)   \n",
       "A0A075B6J9                                                   PI (no)  - VAE (yes)   \n",
       "\n",
       "                                                  diff_qvalue  \n",
       "protein groups                                                 \n",
       "A0A087WU43;A0A087WX17;A0A087WXI5;P12830;P12830-2        0.997  \n",
       "F6VDH7;P50502;Q3KNR6                                    0.985  \n",
       "Q8NCH0                                                  0.964  \n",
       "A0A075B6Q5                                              0.958  \n",
       "Q9Y6C2                                                  0.946  \n",
       "...                                                       ...  \n",
       "F5GY80;F5H7G1;P07358                                    0.011  \n",
       "Q9NX62                                                  0.011  \n",
       "P00740;P00740-2                                         0.010  \n",
       "K7ERG9;P00746                                           0.010  \n",
       "A0A075B6J9                                              0.007  \n",
       "\n",
       "[195 rows x 5 columns]"
      ]
     },
     "execution_count": 19,
     "metadata": {},
     "output_type": "execute_result"
    }
   ],
   "source": [
    "# should it be possible to run not only RSN?\n",
    "to_plot['diff_qvalue'] = (to_plot[str(args.baseline)] - to_plot[str(args.model_key)]).abs()\n",
    "to_plot.loc[mask_different].sort_values('diff_qvalue', ascending=False)"
   ]
  },
  {
   "cell_type": "markdown",
   "id": "e715954e-2d62-4cd9-b4b0-063524bca495",
   "metadata": {
    "papermill": {
     "duration": 0.026241,
     "end_time": "2024-11-23T04:36:41.068149",
     "exception": false,
     "start_time": "2024-11-23T04:36:41.041908",
     "status": "completed"
    },
    "tags": []
   },
   "source": [
    "### Differences plotted with created annotations"
   ]
  },
  {
   "cell_type": "code",
   "execution_count": 20,
   "id": "a20d356d-c397-4440-b70e-9d899aa200fd",
   "metadata": {
    "execution": {
     "iopub.execute_input": "2024-11-23T04:36:41.106465Z",
     "iopub.status.busy": "2024-11-23T04:36:41.105767Z",
     "iopub.status.idle": "2024-11-23T04:36:44.007739Z",
     "shell.execute_reply": "2024-11-23T04:36:44.007015Z"
    },
    "papermill": {
     "duration": 2.922078,
     "end_time": "2024-11-23T04:36:44.008930",
     "exception": false,
     "start_time": "2024-11-23T04:36:41.086852",
     "status": "completed"
    },
    "tags": [
     "hide-input"
    ]
   },
   "outputs": [
    {
     "name": "stderr",
     "output_type": "stream",
     "text": [
      "pimmslearn.plotting - INFO     Saved Figures to runs/alzheimer_study/diff_analysis/AD/PI_vs_VAE/diff_analysis_comparision_1_VAE\n"
     ]
    },
    {
     "data": {
      "image/png": "[encoded data removed]",
      "text/plain": [
       "<Figure size 588x588 with 1 Axes>"
      ]
     },
     "metadata": {},
     "output_type": "display_data"
    }
   ],
   "source": [
    "figsize = (4, 4)\n",
    "size = 5\n",
    "fig, ax = plt.subplots(figsize=figsize)\n",
    "x_col = to_plot.columns[0]\n",
    "y_col = to_plot.columns[1]\n",
    "ax = sns.scatterplot(data=to_plot,\n",
    "                     x=x_col,\n",
    "                     y=y_col,\n",
    "                     s=size,\n",
    "                     hue='Differential Analysis Comparison',\n",
    "                     ax=ax)\n",
    "_ = ax.legend(fontsize=fontsize,\n",
    "              title_fontsize=fontsize,\n",
    "              markerscale=0.4,\n",
    "              title='',\n",
    "              )\n",
    "ax.set_xlabel(f\"qvalue for {x_col}\")\n",
    "ax.set_ylabel(f\"qvalue for {y_col}\")\n",
    "ax.hlines(0.05, 0, 1, color='grey', linestyles='dotted')\n",
    "ax.vlines(0.05, 0, 1, color='grey', linestyles='dotted')\n",
    "sns.move_legend(ax, \"upper right\")\n",
    "files_out[f'diff_analysis_comparision_1_{args.model_key}'] = (\n",
    "    args.out_folder /\n",
    "    f'diff_analysis_comparision_1_{args.model_key}')\n",
    "fname = files_out[f'diff_analysis_comparision_1_{args.model_key}']\n",
    "pimmslearn.savefig(fig, name=fname)"
   ]
  },
  {
   "cell_type": "markdown",
   "id": "d8849c76-c5f6-4618-87c0-f2635dc9ac66",
   "metadata": {
    "papermill": {
     "duration": 0.045009,
     "end_time": "2024-11-23T04:36:44.104184",
     "exception": false,
     "start_time": "2024-11-23T04:36:44.059175",
     "status": "completed"
    },
    "tags": []
   },
   "source": [
    "- also showing how many features were measured (\"observed\") by size of circle"
   ]
  },
  {
   "cell_type": "code",
   "execution_count": 21,
   "id": "1cf258f8-9dcb-40bb-af66-b600f8d413f6",
   "metadata": {
    "execution": {
     "iopub.execute_input": "2024-11-23T04:36:44.190253Z",
     "iopub.status.busy": "2024-11-23T04:36:44.189898Z",
     "iopub.status.idle": "2024-11-23T04:36:46.892433Z",
     "shell.execute_reply": "2024-11-23T04:36:46.891791Z"
    },
    "papermill": {
     "duration": 2.750789,
     "end_time": "2024-11-23T04:36:46.893675",
     "exception": false,
     "start_time": "2024-11-23T04:36:44.142886",
     "status": "completed"
    },
    "tags": [
     "hide-input"
    ]
   },
   "outputs": [
    {
     "name": "stderr",
     "output_type": "stream",
     "text": [
      "pimmslearn.plotting - INFO     Saved Figures to runs/alzheimer_study/diff_analysis/AD/PI_vs_VAE/diff_analysis_comparision_2_VAE\n"
     ]
    },
    {
     "data": {
      "image/png": "[encoded data removed]",
      "text/plain": [
       "<Figure size 588x588 with 1 Axes>"
      ]
     },
     "metadata": {},
     "output_type": "display_data"
    }
   ],
   "source": [
    "fig, ax = plt.subplots(figsize=figsize)\n",
    "ax = sns.scatterplot(data=to_plot,\n",
    "                     x=to_plot.columns[0],\n",
    "                     y=to_plot.columns[1],\n",
    "                     size='frequency',\n",
    "                     s=size,\n",
    "                     sizes=(5, 20),\n",
    "                     hue='Differential Analysis Comparison')\n",
    "_ = ax.legend(fontsize=fontsize,\n",
    "              title_fontsize=fontsize,\n",
    "              markerscale=0.6,\n",
    "              title='',\n",
    "              )\n",
    "ax.set_xlabel(f\"qvalue for {x_col}\")\n",
    "ax.set_ylabel(f\"qvalue for {y_col}\")\n",
    "ax.hlines(0.05, 0, 1, color='grey', linestyles='dotted')\n",
    "ax.vlines(0.05, 0, 1, color='grey', linestyles='dotted')\n",
    "sns.move_legend(ax, \"upper right\")\n",
    "files_out[f'diff_analysis_comparision_2_{args.model_key}'] = (\n",
    "    args.out_folder / f'diff_analysis_comparision_2_{args.model_key}')\n",
    "pimmslearn.savefig(\n",
    "    fig, name=files_out[f'diff_analysis_comparision_2_{args.model_key}'])"
   ]
  },
  {
   "cell_type": "markdown",
   "id": "1fee3a21-d8b3-40c6-aea2-4774dfe855ca",
   "metadata": {
    "papermill": {
     "duration": 0.022198,
     "end_time": "2024-11-23T04:36:46.939591",
     "exception": false,
     "start_time": "2024-11-23T04:36:46.917393",
     "status": "completed"
    },
    "tags": []
   },
   "source": [
    "## Only features contained in model\n",
    "- this block exist due to a specific part in the ALD analysis of the paper"
   ]
  },
  {
   "cell_type": "code",
   "execution_count": 22,
   "id": "c4e23a01-fd37-4496-a518-445a9ef38db1",
   "metadata": {
    "execution": {
     "iopub.execute_input": "2024-11-23T04:36:47.033940Z",
     "iopub.status.busy": "2024-11-23T04:36:47.033581Z",
     "iopub.status.idle": "2024-11-23T04:36:47.040479Z",
     "shell.execute_reply": "2024-11-23T04:36:47.039893Z"
    },
    "papermill": {
     "duration": 0.058852,
     "end_time": "2024-11-23T04:36:47.042806",
     "exception": false,
     "start_time": "2024-11-23T04:36:46.983954",
     "status": "completed"
    },
    "tags": [
     "hide-input"
    ]
   },
   "outputs": [
    {
     "name": "stderr",
     "output_type": "stream",
     "text": [
      "root - INFO     No features only in new comparision model.\n"
     ]
    }
   ],
   "source": [
    "scores_model_only = scores.reset_index(level=-1, drop=True)\n",
    "_diff = scores_model_only.index.difference(scores_common.index)\n",
    "if not _diff.empty:\n",
    "    scores_model_only = (scores_model_only\n",
    "                         .loc[\n",
    "                             _diff,\n",
    "                             args.model_key]\n",
    "                         .sort_values(by='qvalue', ascending=True)\n",
    "                         .join(freq_feat.squeeze().rename(freq_feat.columns.droplevel()[0])\n",
    "                               )\n",
    "                         )\n",
    "    display(scores_model_only)\n",
    "else:\n",
    "    scores_model_only = None\n",
    "    logger.info(\"No features only in new comparision model.\")\n",
    "\n",
    "if not _diff.empty:\n",
    "    scores_model_only.to_excel(writer, 'only_model', **writer_args)\n",
    "    display(scores_model_only.rejected.value_counts())\n",
    "    scores_model_only_rejected = scores_model_only.loc[scores_model_only.rejected]\n",
    "    scores_model_only_rejected.to_excel(\n",
    "        writer, 'only_model_rejected', **writer_args)"
   ]
  },
  {
   "cell_type": "markdown",
   "id": "78b2c336",
   "metadata": {
    "papermill": {
     "duration": 0.043768,
     "end_time": "2024-11-23T04:36:47.136001",
     "exception": false,
     "start_time": "2024-11-23T04:36:47.092233",
     "status": "completed"
    },
    "tags": []
   },
   "source": [
    "## DISEASES DB lookup\n",
    "\n",
    "Query diseases database for gene associations with specified disease ontology id."
   ]
  },
  {
   "cell_type": "code",
   "execution_count": 23,
   "id": "d93a9242-0ef4-4fc7-bd98-226a93639f58",
   "metadata": {
    "execution": {
     "iopub.execute_input": "2024-11-23T04:36:47.227149Z",
     "iopub.status.busy": "2024-11-23T04:36:47.226865Z",
     "iopub.status.idle": "2024-11-23T04:36:50.276003Z",
     "shell.execute_reply": "2024-11-23T04:36:50.275290Z"
    },
    "papermill": {
     "duration": 3.096885,
     "end_time": "2024-11-23T04:36:50.277185",
     "exception": false,
     "start_time": "2024-11-23T04:36:47.180300",
     "status": "completed"
    },
    "tags": [
     "hide-input"
    ]
   },
   "outputs": [
    {
     "name": "stderr",
     "output_type": "stream",
     "text": [
      "pimmslearn.databases.diseases - WARNING  There are more associations available\n"
     ]
    },
    {
     "data": {
      "text/html": [
       "<div>\n",
       "<style scoped>\n",
       "    .dataframe tbody tr th:only-of-type {\n",
       "        vertical-align: middle;\n",
       "    }\n",
       "\n",
       "    .dataframe tbody tr th {\n",
       "        vertical-align: top;\n",
       "    }\n",
       "\n",
       "    .dataframe thead th {\n",
       "        text-align: right;\n",
       "    }\n",
       "</style>\n",
       "<table border=\"1\" class=\"dataframe\">\n",
       "  <thead>\n",
       "    <tr style=\"text-align: right;\">\n",
       "      <th></th>\n",
       "      <th>ENSP</th>\n",
       "      <th>score</th>\n",
       "    </tr>\n",
       "    <tr>\n",
       "      <th>None</th>\n",
       "      <th></th>\n",
       "      <th></th>\n",
       "    </tr>\n",
       "  </thead>\n",
       "  <tbody>\n",
       "    <tr>\n",
       "      <th>PSEN2</th>\n",
       "      <td>ENSP00000355747</td>\n",
       "      <td>5.000</td>\n",
       "    </tr>\n",
       "    <tr>\n",
       "      <th>APP</th>\n",
       "      <td>ENSP00000284981</td>\n",
       "      <td>5.000</td>\n",
       "    </tr>\n",
       "    <tr>\n",
       "      <th>APOE</th>\n",
       "      <td>ENSP00000252486</td>\n",
       "      <td>5.000</td>\n",
       "    </tr>\n",
       "    <tr>\n",
       "      <th>PSEN1</th>\n",
       "      <td>ENSP00000326366</td>\n",
       "      <td>5.000</td>\n",
       "    </tr>\n",
       "    <tr>\n",
       "      <th>MAPT</th>\n",
       "      <td>ENSP00000340820</td>\n",
       "      <td>4.800</td>\n",
       "    </tr>\n",
       "    <tr>\n",
       "      <th>...</th>\n",
       "      <td>...</td>\n",
       "      <td>...</td>\n",
       "    </tr>\n",
       "    <tr>\n",
       "      <th>AASS</th>\n",
       "      <td>ENSP00000403768</td>\n",
       "      <td>0.681</td>\n",
       "    </tr>\n",
       "    <tr>\n",
       "      <th>STK26</th>\n",
       "      <td>ENSP00000377867</td>\n",
       "      <td>0.681</td>\n",
       "    </tr>\n",
       "    <tr>\n",
       "      <th>FRAT2</th>\n",
       "      <td>ENSP00000360058</td>\n",
       "      <td>0.681</td>\n",
       "    </tr>\n",
       "    <tr>\n",
       "      <th>CLEC4M</th>\n",
       "      <td>ENSP00000316228</td>\n",
       "      <td>0.681</td>\n",
       "    </tr>\n",
       "    <tr>\n",
       "      <th>DSC2</th>\n",
       "      <td>ENSP00000280904</td>\n",
       "      <td>0.681</td>\n",
       "    </tr>\n",
       "  </tbody>\n",
       "</table>\n",
       "<p>10000 rows × 2 columns</p>\n",
       "</div>"
      ],
      "text/plain": [
       "                   ENSP  score\n",
       "None                          \n",
       "PSEN2   ENSP00000355747  5.000\n",
       "APP     ENSP00000284981  5.000\n",
       "APOE    ENSP00000252486  5.000\n",
       "PSEN1   ENSP00000326366  5.000\n",
       "MAPT    ENSP00000340820  4.800\n",
       "...                 ...    ...\n",
       "AASS    ENSP00000403768  0.681\n",
       "STK26   ENSP00000377867  0.681\n",
       "FRAT2   ENSP00000360058  0.681\n",
       "CLEC4M  ENSP00000316228  0.681\n",
       "DSC2    ENSP00000280904  0.681\n",
       "\n",
       "[10000 rows x 2 columns]"
      ]
     },
     "execution_count": 23,
     "metadata": {},
     "output_type": "execute_result"
    }
   ],
   "source": [
    "data = pimmslearn.databases.diseases.get_disease_association(\n",
    "    doid=args.disease_ontology, limit=10000)\n",
    "data = pd.DataFrame.from_dict(data, orient='index').rename_axis('ENSP', axis=0)\n",
    "data = data.rename(columns={'name': args.annotaitons_gene_col}).reset_index(\n",
    ").set_index(args.annotaitons_gene_col)\n",
    "data"
   ]
  },
  {
   "cell_type": "markdown",
   "id": "efe22443-2613-46ad-83c2-41048e13dd57",
   "metadata": {
    "papermill": {
     "duration": 0.108258,
     "end_time": "2024-11-23T04:36:50.425164",
     "exception": false,
     "start_time": "2024-11-23T04:36:50.316906",
     "status": "completed"
    },
    "tags": []
   },
   "source": [
    "## Shared features\n",
    "ToDo: new script -> DISEASES DB lookup"
   ]
  },
  {
   "cell_type": "code",
   "execution_count": null,
   "id": "5c26415e",
   "metadata": {
    "papermill": {
     "duration": 0.056392,
     "end_time": "2024-11-23T04:36:50.552782",
     "exception": false,
     "start_time": "2024-11-23T04:36:50.496390",
     "status": "completed"
    },
    "tags": [
     "hide-input"
    ]
   },
   "outputs": [],
   "source": []
  },
  {
   "cell_type": "code",
   "execution_count": 24,
   "id": "b68b43df",
   "metadata": {
    "execution": {
     "iopub.execute_input": "2024-11-23T04:36:50.637573Z",
     "iopub.status.busy": "2024-11-23T04:36:50.637071Z",
     "iopub.status.idle": "2024-11-23T04:36:50.644207Z",
     "shell.execute_reply": "2024-11-23T04:36:50.643345Z"
    },
    "papermill": {
     "duration": 0.04462,
     "end_time": "2024-11-23T04:36:50.648316",
     "exception": true,
     "start_time": "2024-11-23T04:36:50.603696",
     "status": "failed"
    },
    "tags": [
     "hide-input"
    ]
   },
   "outputs": [
    {
     "name": "stderr",
     "output_type": "stream",
     "text": [
      "root - INFO     No gene annotation in scores index:  ['protein groups', 'Source'] Exiting.\n"
     ]
    },
    {
     "ename": "SystemExit",
     "evalue": "0",
     "output_type": "error",
     "traceback": [
      "An exception has occurred, use %tb to see the full traceback.\n",
      "\u001b[0;31mSystemExit\u001b[0m\u001b[0;31m:\u001b[0m 0\n"
     ]
    },
    {
     "name": "stderr",
     "output_type": "stream",
     "text": [
      "/home/runner/work/pimms/pimms/project/.snakemake/conda/3fa5fb1d5dd2a817778dc1597a6471cf_/lib/python3.12/site-packages/IPython/core/interactiveshell.py:3585: UserWarning: To exit: use 'exit', 'quit', or Ctrl-D.\n",
      "  warn(\"To exit: use 'exit', 'quit', or Ctrl-D.\", stacklevel=1)\n"
     ]
    }
   ],
   "source": [
    "feat_name = scores.index.names[0]  # first index level is feature name\n",
    "if args.annotaitons_gene_col in scores.index.names:\n",
    "    logger.info(f\"Found gene annotation in scores index:  {scores.index.names}\")\n",
    "else:\n",
    "    logger.info(f\"No gene annotation in scores index:  {scores.index.names}\"\n",
    "                \" Exiting.\")\n",
    "    import sys\n",
    "    sys.exit(0)"
   ]
  },
  {
   "cell_type": "code",
   "execution_count": null,
   "id": "f8d4a74d-5a9b-4d9b-9345-4288bb23e19f",
   "metadata": {
    "papermill": {
     "duration": null,
     "end_time": null,
     "exception": null,
     "start_time": null,
     "status": "pending"
    },
    "tags": [
     "hide-input"
    ]
   },
   "outputs": [],
   "source": [
    "gene_to_PG = (scores.droplevel(\n",
    "    list(set(scores.index.names) - {feat_name, args.annotaitons_gene_col})\n",
    ")\n",
    "    .index\n",
    "    .to_frame()\n",
    "    .reset_index(drop=True)\n",
    "    .set_index(args.annotaitons_gene_col)\n",
    ")\n",
    "gene_to_PG.head()"
   ]
  },
  {
   "cell_type": "code",
   "execution_count": null,
   "id": "d9e76def-b48a-458d-a90b-765e6e70f7a4",
   "metadata": {
    "papermill": {
     "duration": null,
     "end_time": null,
     "exception": null,
     "start_time": null,
     "status": "pending"
    },
    "tags": [
     "hide-input"
    ]
   },
   "outputs": [],
   "source": [
    "disease_associations_all = data.join(\n",
    "    gene_to_PG).dropna().reset_index().set_index(feat_name).join(annotations)\n",
    "disease_associations_all"
   ]
  },
  {
   "cell_type": "markdown",
   "id": "217972a3-ba4a-4f28-ab8f-25dc0f5e9ede",
   "metadata": {
    "papermill": {
     "duration": null,
     "end_time": null,
     "exception": null,
     "start_time": null,
     "status": "pending"
    },
    "tags": []
   },
   "source": [
    "## only by model"
   ]
  },
  {
   "cell_type": "code",
   "execution_count": null,
   "id": "8e9d6944-87ba-4c41-af14-fb5ed93262f0",
   "metadata": {
    "papermill": {
     "duration": null,
     "end_time": null,
     "exception": null,
     "start_time": null,
     "status": "pending"
    },
    "tags": [
     "hide-input"
    ]
   },
   "outputs": [],
   "source": [
    "idx = disease_associations_all.index.intersection(scores_model_only.index)\n",
    "disease_assocications_new = disease_associations_all.loc[idx].sort_values(\n",
    "    'score', ascending=False)\n",
    "disease_assocications_new.head(20)"
   ]
  },
  {
   "cell_type": "code",
   "execution_count": null,
   "id": "ceefc483-b889-4bab-b207-c8d5fd97fa4a",
   "metadata": {
    "papermill": {
     "duration": null,
     "end_time": null,
     "exception": null,
     "start_time": null,
     "status": "pending"
    },
    "tags": [
     "hide-input"
    ]
   },
   "outputs": [],
   "source": [
    "mask = disease_assocications_new.loc[idx, 'score'] >= 2.0\n",
    "disease_assocications_new.loc[idx].loc[mask]"
   ]
  },
  {
   "cell_type": "markdown",
   "id": "f85eede2-7b61-4285-ba8c-745f77f6ab22",
   "metadata": {
    "papermill": {
     "duration": null,
     "end_time": null,
     "exception": null,
     "start_time": null,
     "status": "pending"
    },
    "tags": []
   },
   "source": [
    "## Only by model which were significant"
   ]
  },
  {
   "cell_type": "code",
   "execution_count": null,
   "id": "4644759b-8cc2-4f99-a16c-16419cfb915c",
   "metadata": {
    "papermill": {
     "duration": null,
     "end_time": null,
     "exception": null,
     "start_time": null,
     "status": "pending"
    },
    "tags": [
     "hide-input"
    ]
   },
   "outputs": [],
   "source": [
    "idx = disease_associations_all.index.intersection(\n",
    "    scores_model_only_rejected.index)\n",
    "disease_assocications_new_rejected = disease_associations_all.loc[idx].sort_values(\n",
    "    'score', ascending=False)\n",
    "disease_assocications_new_rejected.head(20)"
   ]
  },
  {
   "cell_type": "code",
   "execution_count": null,
   "id": "365d8641-97a8-464f-b69b-270af9ae6e2d",
   "metadata": {
    "papermill": {
     "duration": null,
     "end_time": null,
     "exception": null,
     "start_time": null,
     "status": "pending"
    },
    "tags": [
     "hide-input"
    ]
   },
   "outputs": [],
   "source": [
    "mask = disease_assocications_new_rejected.loc[idx, 'score'] >= 2.0\n",
    "disease_assocications_new_rejected.loc[idx].loc[mask]"
   ]
  },
  {
   "cell_type": "markdown",
   "id": "4f22614b-e058-4e35-b8a9-141c291a93bc",
   "metadata": {
    "papermill": {
     "duration": null,
     "end_time": null,
     "exception": null,
     "start_time": null,
     "status": "pending"
    },
    "tags": []
   },
   "source": [
    "## Shared which are only significant for by model"
   ]
  },
  {
   "cell_type": "code",
   "execution_count": null,
   "id": "82eb2ba8-4fe7-431d-8095-5be43f7791b7",
   "metadata": {
    "papermill": {
     "duration": null,
     "end_time": null,
     "exception": null,
     "start_time": null,
     "status": "pending"
    },
    "tags": []
   },
   "outputs": [],
   "source": [
    "mask = (scores_common[(str(args.model_key), 'rejected')] & mask_different)\n",
    "mask.sum()"
   ]
  },
  {
   "cell_type": "code",
   "execution_count": null,
   "id": "6416d494-5f3e-4cf4-b766-b1f95e40ae1c",
   "metadata": {
    "papermill": {
     "duration": null,
     "end_time": null,
     "exception": null,
     "start_time": null,
     "status": "pending"
    },
    "tags": [
     "hide-input"
    ]
   },
   "outputs": [],
   "source": [
    "idx = disease_associations_all.index.intersection(mask.index[mask])\n",
    "disease_assocications_shared_rejected_by_model = (disease_associations_all.loc[idx].sort_values(\n",
    "    'score', ascending=False))\n",
    "disease_assocications_shared_rejected_by_model.head(20)"
   ]
  },
  {
   "cell_type": "code",
   "execution_count": null,
   "id": "10899e28-4aee-4d44-a542-e45be6699a1b",
   "metadata": {
    "papermill": {
     "duration": null,
     "end_time": null,
     "exception": null,
     "start_time": null,
     "status": "pending"
    },
    "tags": [
     "hide-input"
    ]
   },
   "outputs": [],
   "source": [
    "mask = disease_assocications_shared_rejected_by_model.loc[idx, 'score'] >= 2.0\n",
    "disease_assocications_shared_rejected_by_model.loc[idx].loc[mask]"
   ]
  },
  {
   "cell_type": "markdown",
   "id": "b6c082ea-7d92-4296-8ec9-d279509142a3",
   "metadata": {
    "papermill": {
     "duration": null,
     "end_time": null,
     "exception": null,
     "start_time": null,
     "status": "pending"
    },
    "tags": []
   },
   "source": [
    "## Only significant by RSN"
   ]
  },
  {
   "cell_type": "code",
   "execution_count": null,
   "id": "c59aae50-6877-47cc-99f6-646862d29121",
   "metadata": {
    "papermill": {
     "duration": null,
     "end_time": null,
     "exception": null,
     "start_time": null,
     "status": "pending"
    },
    "tags": []
   },
   "outputs": [],
   "source": [
    "mask = (scores_common[(str(args.baseline), 'rejected')] & mask_different)\n",
    "mask.sum()"
   ]
  },
  {
   "cell_type": "code",
   "execution_count": null,
   "id": "7780de55-c63b-4028-a6d0-58bce7be81da",
   "metadata": {
    "papermill": {
     "duration": null,
     "end_time": null,
     "exception": null,
     "start_time": null,
     "status": "pending"
    },
    "tags": [
     "hide-input"
    ]
   },
   "outputs": [],
   "source": [
    "idx = disease_associations_all.index.intersection(mask.index[mask])\n",
    "disease_assocications_shared_rejected_by_RSN = (\n",
    "    disease_associations_all\n",
    "    .loc[idx]\n",
    "    .sort_values('score', ascending=False))\n",
    "disease_assocications_shared_rejected_by_RSN.head(20)"
   ]
  },
  {
   "cell_type": "code",
   "execution_count": null,
   "id": "03115c8f-1f20-4b51-a78c-4d7c0317dc33",
   "metadata": {
    "papermill": {
     "duration": null,
     "end_time": null,
     "exception": null,
     "start_time": null,
     "status": "pending"
    },
    "tags": [
     "hide-input"
    ]
   },
   "outputs": [],
   "source": [
    "mask = disease_assocications_shared_rejected_by_RSN.loc[idx, 'score'] >= 2.0\n",
    "disease_assocications_shared_rejected_by_RSN.loc[idx].loc[mask]"
   ]
  },
  {
   "cell_type": "markdown",
   "id": "9d72708d-ad27-435b-b672-7dfe35283601",
   "metadata": {
    "papermill": {
     "duration": null,
     "end_time": null,
     "exception": null,
     "start_time": null,
     "status": "pending"
    },
    "tags": []
   },
   "source": [
    "## Write to excel"
   ]
  },
  {
   "cell_type": "code",
   "execution_count": null,
   "id": "91e7fbb7-69fd-4b4c-9bc2-40e8dd1907b3",
   "metadata": {
    "papermill": {
     "duration": null,
     "end_time": null,
     "exception": null,
     "start_time": null,
     "status": "pending"
    },
    "tags": [
     "hide-input"
    ]
   },
   "outputs": [],
   "source": [
    "disease_associations_all.to_excel(\n",
    "    writer, sheet_name='disease_assoc_all', **writer_args)\n",
    "disease_assocications_new.to_excel(\n",
    "    writer, sheet_name='disease_assoc_new', **writer_args)\n",
    "disease_assocications_new_rejected.to_excel(\n",
    "    writer, sheet_name='disease_assoc_new_rejected', **writer_args)"
   ]
  },
  {
   "cell_type": "markdown",
   "id": "52a42028-7e2d-47d5-be02-52f7ff1f3665",
   "metadata": {
    "papermill": {
     "duration": null,
     "end_time": null,
     "exception": null,
     "start_time": null,
     "status": "pending"
    },
    "tags": []
   },
   "source": [
    "## Outputs"
   ]
  },
  {
   "cell_type": "code",
   "execution_count": null,
   "id": "7f3a7433-3bf1-4168-8f16-eb6d415ef17f",
   "metadata": {
    "papermill": {
     "duration": null,
     "end_time": null,
     "exception": null,
     "start_time": null,
     "status": "pending"
    },
    "tags": [
     "hide-input"
    ]
   },
   "outputs": [],
   "source": [
    "writer.close()\n",
    "files_out"
   ]
  }
 ],
 "metadata": {
  "kernelspec": {
   "display_name": "Python 3",
   "language": "python",
   "name": "python3"
  },
  "language_info": {
   "codemirror_mode": {
    "name": "ipython",
    "version": 3
   },
   "file_extension": ".py",
   "mimetype": "text/x-python",
   "name": "python",
   "nbconvert_exporter": "python",
   "pygments_lexer": "ipython3",
   "version": "3.12.0"
  },
  "papermill": {
   "default_parameters": {},
   "duration": 17.602135,
   "end_time": "2024-11-23T04:36:51.712763",
   "environment_variables": {},
   "exception": true,
   "input_path": "10_2_ald_compare_methods.ipynb",
   "output_path": "runs/alzheimer_study/diff_analysis/AD/PI_vs_VAE/10_2_ald_compare_methods.ipynb",
   "parameters": {
    "annotaitons_gene_col": "None",
    "baseline": "PI",
    "disease_ontology": 10652,
    "folder_experiment": "runs/alzheimer_study",
    "model_key": "VAE",
    "out_folder": "diff_analysis",
    "target": "AD"
   },
   "start_time": "2024-11-23T04:36:34.110628",
   "version": "2.6.0"
  }
 },
 "nbformat": 4,
 "nbformat_minor": 5
}