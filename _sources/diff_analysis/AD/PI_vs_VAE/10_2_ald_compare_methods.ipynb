{
 "cells": [
  {
   "cell_type": "markdown",
   "id": "9acfeaca-5f8c-42f3-9a8e-83ed737eb35c",
   "metadata": {
    "papermill": {
     "duration": 0.020089,
     "end_time": "2024-06-28T11:04:15.957442",
     "exception": false,
     "start_time": "2024-06-28T11:04:15.937353",
     "status": "completed"
    },
    "tags": []
   },
   "source": [
    "# Compare outcomes from differential analysis based on different imputation methods\n",
    "\n",
    "- load scores based on `10_1_ald_diff_analysis`"
   ]
  },
  {
   "cell_type": "code",
   "execution_count": 1,
   "id": "eec6f931-c04d-428c-b2b1-0424c50e6cd2",
   "metadata": {
    "execution": {
     "iopub.execute_input": "2024-06-28T11:04:16.051320Z",
     "iopub.status.busy": "2024-06-28T11:04:16.050962Z",
     "iopub.status.idle": "2024-06-28T11:04:18.742559Z",
     "shell.execute_reply": "2024-06-28T11:04:18.741718Z"
    },
    "papermill": {
     "duration": 2.732259,
     "end_time": "2024-06-28T11:04:18.744844",
     "exception": false,
     "start_time": "2024-06-28T11:04:16.012585",
     "status": "completed"
    },
    "tags": [
     "hide-input"
    ]
   },
   "outputs": [],
   "source": [
    "import logging\n",
    "from pathlib import Path\n",
    "\n",
    "import matplotlib.pyplot as plt\n",
    "import pandas as pd\n",
    "import seaborn as sns\n",
    "from IPython.display import display\n",
    "\n",
    "import vaep\n",
    "import vaep.databases.diseases\n",
    "\n",
    "logger = vaep.logging.setup_nb_logger()\n",
    "\n",
    "plt.rcParams['figure.figsize'] = (2, 2)\n",
    "fontsize = 5\n",
    "vaep.plotting.make_large_descriptors(fontsize)\n",
    "logging.getLogger('fontTools').setLevel(logging.ERROR)\n",
    "\n",
    "# catch passed parameters\n",
    "args = None\n",
    "args = dict(globals()).keys()"
   ]
  },
  {
   "cell_type": "markdown",
   "id": "85f5f5d5",
   "metadata": {
    "papermill": {
     "duration": 0.011752,
     "end_time": "2024-06-28T11:04:18.768953",
     "exception": false,
     "start_time": "2024-06-28T11:04:18.757201",
     "status": "completed"
    },
    "tags": []
   },
   "source": [
    "## Parameters\n",
    "Default and set parameters for the notebook."
   ]
  },
  {
   "cell_type": "code",
   "execution_count": 2,
   "id": "f4bf65da-0569-4a21-ba20-9cae7d3679e7",
   "metadata": {
    "execution": {
     "iopub.execute_input": "2024-06-28T11:04:18.794083Z",
     "iopub.status.busy": "2024-06-28T11:04:18.793554Z",
     "iopub.status.idle": "2024-06-28T11:04:18.798261Z",
     "shell.execute_reply": "2024-06-28T11:04:18.797576Z"
    },
    "papermill": {
     "duration": 0.019905,
     "end_time": "2024-06-28T11:04:18.800704",
     "exception": false,
     "start_time": "2024-06-28T11:04:18.780799",
     "status": "completed"
    },
    "tags": [
     "parameters"
    ]
   },
   "outputs": [],
   "source": [
    "folder_experiment = 'runs/appl_ald_data/plasma/proteinGroups'\n",
    "\n",
    "target = 'kleiner'\n",
    "model_key = 'VAE'\n",
    "baseline = 'RSN'\n",
    "out_folder = 'diff_analysis'\n",
    "selected_statistics = ['p-unc', '-Log10 pvalue', 'qvalue', 'rejected']\n",
    "\n",
    "disease_ontology = 5082  # code from https://disease-ontology.org/\n",
    "# split diseases notebook? Query gene names for proteins in file from uniprot?\n",
    "annotaitons_gene_col = 'PG.Genes'"
   ]
  },
  {
   "cell_type": "code",
   "execution_count": 3,
   "id": "a2789ffe",
   "metadata": {
    "execution": {
     "iopub.execute_input": "2024-06-28T11:04:18.825986Z",
     "iopub.status.busy": "2024-06-28T11:04:18.825521Z",
     "iopub.status.idle": "2024-06-28T11:04:18.829859Z",
     "shell.execute_reply": "2024-06-28T11:04:18.829047Z"
    },
    "papermill": {
     "duration": 0.019223,
     "end_time": "2024-06-28T11:04:18.831955",
     "exception": false,
     "start_time": "2024-06-28T11:04:18.812732",
     "status": "completed"
    },
    "tags": [
     "injected-parameters"
    ]
   },
   "outputs": [],
   "source": [
    "# Parameters\n",
    "disease_ontology = 10652\n",
    "folder_experiment = \"runs/alzheimer_study\"\n",
    "target = \"AD\"\n",
    "baseline = \"PI\"\n",
    "model_key = \"VAE\"\n",
    "out_folder = \"diff_analysis\"\n",
    "annotaitons_gene_col = \"None\"\n"
   ]
  },
  {
   "cell_type": "markdown",
   "id": "22c645fc-c7eb-4c69-a7aa-084fc733258f",
   "metadata": {
    "papermill": {
     "duration": 0.011817,
     "end_time": "2024-06-28T11:04:18.855764",
     "exception": false,
     "start_time": "2024-06-28T11:04:18.843947",
     "status": "completed"
    },
    "tags": []
   },
   "source": [
    "Add set parameters to configuration"
   ]
  },
  {
   "cell_type": "code",
   "execution_count": 4,
   "id": "978876d0-b3cc-4847-8eab-dc0b89ddbbcd",
   "metadata": {
    "execution": {
     "iopub.execute_input": "2024-06-28T11:04:18.883007Z",
     "iopub.status.busy": "2024-06-28T11:04:18.882652Z",
     "iopub.status.idle": "2024-06-28T11:04:18.911636Z",
     "shell.execute_reply": "2024-06-28T11:04:18.910908Z"
    },
    "papermill": {
     "duration": 0.046145,
     "end_time": "2024-06-28T11:04:18.914241",
     "exception": false,
     "start_time": "2024-06-28T11:04:18.868096",
     "status": "completed"
    },
    "tags": [
     "hide-input"
    ]
   },
   "outputs": [
    {
     "name": "stderr",
     "output_type": "stream",
     "text": [
      "root - INFO     Removed from global namespace: folder_experiment\n"
     ]
    },
    {
     "name": "stderr",
     "output_type": "stream",
     "text": [
      "root - INFO     Removed from global namespace: target\n"
     ]
    },
    {
     "name": "stderr",
     "output_type": "stream",
     "text": [
      "root - INFO     Removed from global namespace: model_key\n"
     ]
    },
    {
     "name": "stderr",
     "output_type": "stream",
     "text": [
      "root - INFO     Removed from global namespace: baseline\n"
     ]
    },
    {
     "name": "stderr",
     "output_type": "stream",
     "text": [
      "root - INFO     Removed from global namespace: out_folder\n"
     ]
    },
    {
     "name": "stderr",
     "output_type": "stream",
     "text": [
      "root - INFO     Removed from global namespace: selected_statistics\n"
     ]
    },
    {
     "name": "stderr",
     "output_type": "stream",
     "text": [
      "root - INFO     Removed from global namespace: disease_ontology\n"
     ]
    },
    {
     "name": "stderr",
     "output_type": "stream",
     "text": [
      "root - INFO     Removed from global namespace: annotaitons_gene_col\n"
     ]
    },
    {
     "name": "stderr",
     "output_type": "stream",
     "text": [
      "root - INFO     Already set attribute: folder_experiment has value runs/alzheimer_study\n"
     ]
    },
    {
     "name": "stderr",
     "output_type": "stream",
     "text": [
      "root - INFO     Already set attribute: out_folder has value diff_analysis\n"
     ]
    },
    {
     "data": {
      "text/plain": [
       "{'annotaitons_gene_col': 'None',\n",
       " 'baseline': 'PI',\n",
       " 'data': PosixPath('runs/alzheimer_study/data'),\n",
       " 'disease_ontology': 10652,\n",
       " 'folder_experiment': PosixPath('runs/alzheimer_study'),\n",
       " 'freq_features_observed': PosixPath('runs/alzheimer_study/freq_features_observed.csv'),\n",
       " 'model_key': 'VAE',\n",
       " 'out_figures': PosixPath('runs/alzheimer_study/figures'),\n",
       " 'out_folder': PosixPath('runs/alzheimer_study/diff_analysis/AD/PI_vs_VAE'),\n",
       " 'out_metrics': PosixPath('runs/alzheimer_study'),\n",
       " 'out_models': PosixPath('runs/alzheimer_study'),\n",
       " 'out_preds': PosixPath('runs/alzheimer_study/preds'),\n",
       " 'scores_folder': PosixPath('runs/alzheimer_study/diff_analysis/AD/scores'),\n",
       " 'selected_statistics': ['p-unc', '-Log10 pvalue', 'qvalue', 'rejected'],\n",
       " 'target': 'AD'}"
      ]
     },
     "execution_count": 4,
     "metadata": {},
     "output_type": "execute_result"
    }
   ],
   "source": [
    "params = vaep.nb.get_params(args, globals=globals())\n",
    "args = vaep.nb.Config()\n",
    "args.folder_experiment = Path(params[\"folder_experiment\"])\n",
    "args = vaep.nb.add_default_paths(args,\n",
    "                                 out_root=(\n",
    "                                     args.folder_experiment\n",
    "                                     / params[\"out_folder\"]\n",
    "                                     / params[\"target\"]\n",
    "                                     / f\"{params['baseline']}_vs_{params['model_key']}\"))\n",
    "args.update_from_dict(params)\n",
    "args.scores_folder = scores_folder = (args.folder_experiment\n",
    "                                      / params[\"out_folder\"]\n",
    "                                      / params[\"target\"]\n",
    "                                      / 'scores')\n",
    "args.freq_features_observed = args.folder_experiment / 'freq_features_observed.csv'\n",
    "args"
   ]
  },
  {
   "cell_type": "markdown",
   "id": "fc184dea",
   "metadata": {
    "papermill": {
     "duration": 0.012803,
     "end_time": "2024-06-28T11:04:18.940304",
     "exception": false,
     "start_time": "2024-06-28T11:04:18.927501",
     "status": "completed"
    },
    "tags": []
   },
   "source": [
    "### Excel file for exports"
   ]
  },
  {
   "cell_type": "code",
   "execution_count": 5,
   "id": "a8016d79-e41a-40a2-bcbf-e11711c33b7d",
   "metadata": {
    "execution": {
     "iopub.execute_input": "2024-06-28T11:04:18.967037Z",
     "iopub.status.busy": "2024-06-28T11:04:18.966741Z",
     "iopub.status.idle": "2024-06-28T11:04:19.087892Z",
     "shell.execute_reply": "2024-06-28T11:04:19.087023Z"
    },
    "papermill": {
     "duration": 0.136968,
     "end_time": "2024-06-28T11:04:19.089986",
     "exception": false,
     "start_time": "2024-06-28T11:04:18.953018",
     "status": "completed"
    },
    "tags": []
   },
   "outputs": [
    {
     "name": "stderr",
     "output_type": "stream",
     "text": [
      "root - INFO     Writing to excel file: runs/alzheimer_study/diff_analysis/AD/PI_vs_VAE/diff_analysis_compare_methods.xlsx\n"
     ]
    }
   ],
   "source": [
    "files_out = dict()\n",
    "writer_args = dict(float_format='%.3f')\n",
    "\n",
    "fname = args.out_folder / 'diff_analysis_compare_methods.xlsx'\n",
    "files_out[fname.name] = fname\n",
    "writer = pd.ExcelWriter(fname)\n",
    "logger.info(\"Writing to excel file: %s\", fname)"
   ]
  },
  {
   "cell_type": "markdown",
   "id": "770d1f76-e86f-4ae3-9d7b-ceef9b9e9a22",
   "metadata": {
    "papermill": {
     "duration": 0.012795,
     "end_time": "2024-06-28T11:04:19.116601",
     "exception": false,
     "start_time": "2024-06-28T11:04:19.103806",
     "status": "completed"
    },
    "tags": []
   },
   "source": [
    "## Load scores"
   ]
  },
  {
   "cell_type": "markdown",
   "id": "6b108869",
   "metadata": {
    "papermill": {
     "duration": 0.013035,
     "end_time": "2024-06-28T11:04:19.142352",
     "exception": false,
     "start_time": "2024-06-28T11:04:19.129317",
     "status": "completed"
    },
    "tags": []
   },
   "source": [
    "### Load baseline model scores\n",
    "Show all statistics, later use selected statistics"
   ]
  },
  {
   "cell_type": "code",
   "execution_count": 6,
   "id": "97221134-5f61-4158-bfc5-ea30077140b8",
   "metadata": {
    "execution": {
     "iopub.execute_input": "2024-06-28T11:04:19.169693Z",
     "iopub.status.busy": "2024-06-28T11:04:19.169357Z",
     "iopub.status.idle": "2024-06-28T11:04:19.194857Z",
     "shell.execute_reply": "2024-06-28T11:04:19.194133Z"
    },
    "papermill": {
     "duration": 0.041383,
     "end_time": "2024-06-28T11:04:19.196791",
     "exception": false,
     "start_time": "2024-06-28T11:04:19.155408",
     "status": "completed"
    },
    "tags": [
     "hide-input"
    ]
   },
   "outputs": [
    {
     "data": {
      "text/html": [
       "<div>\n",
       "<style scoped>\n",
       "    .dataframe tbody tr th:only-of-type {\n",
       "        vertical-align: middle;\n",
       "    }\n",
       "\n",
       "    .dataframe tbody tr th {\n",
       "        vertical-align: top;\n",
       "    }\n",
       "\n",
       "    .dataframe thead tr th {\n",
       "        text-align: left;\n",
       "    }\n",
       "\n",
       "    .dataframe thead tr:last-of-type th {\n",
       "        text-align: right;\n",
       "    }\n",
       "</style>\n",
       "<table border=\"1\" class=\"dataframe\">\n",
       "  <thead>\n",
       "    <tr>\n",
       "      <th></th>\n",
       "      <th>model</th>\n",
       "      <th colspan=\"8\" halign=\"left\">PI</th>\n",
       "    </tr>\n",
       "    <tr>\n",
       "      <th></th>\n",
       "      <th>var</th>\n",
       "      <th>SS</th>\n",
       "      <th>DF</th>\n",
       "      <th>F</th>\n",
       "      <th>p-unc</th>\n",
       "      <th>np2</th>\n",
       "      <th>-Log10 pvalue</th>\n",
       "      <th>qvalue</th>\n",
       "      <th>rejected</th>\n",
       "    </tr>\n",
       "    <tr>\n",
       "      <th>protein groups</th>\n",
       "      <th>Source</th>\n",
       "      <th></th>\n",
       "      <th></th>\n",
       "      <th></th>\n",
       "      <th></th>\n",
       "      <th></th>\n",
       "      <th></th>\n",
       "      <th></th>\n",
       "      <th></th>\n",
       "    </tr>\n",
       "  </thead>\n",
       "  <tbody>\n",
       "    <tr>\n",
       "      <th rowspan=\"5\" valign=\"top\">A0A024QZX5;A0A087X1N8;P35237</th>\n",
       "      <th>AD</th>\n",
       "      <td>0.061</td>\n",
       "      <td>1</td>\n",
       "      <td>0.095</td>\n",
       "      <td>0.759</td>\n",
       "      <td>0.000</td>\n",
       "      <td>0.120</td>\n",
       "      <td>0.850</td>\n",
       "      <td>False</td>\n",
       "    </tr>\n",
       "    <tr>\n",
       "      <th>age</th>\n",
       "      <td>0.032</td>\n",
       "      <td>1</td>\n",
       "      <td>0.049</td>\n",
       "      <td>0.825</td>\n",
       "      <td>0.000</td>\n",
       "      <td>0.084</td>\n",
       "      <td>0.898</td>\n",
       "      <td>False</td>\n",
       "    </tr>\n",
       "    <tr>\n",
       "      <th>Kiel</th>\n",
       "      <td>1.993</td>\n",
       "      <td>1</td>\n",
       "      <td>3.097</td>\n",
       "      <td>0.080</td>\n",
       "      <td>0.016</td>\n",
       "      <td>1.097</td>\n",
       "      <td>0.177</td>\n",
       "      <td>False</td>\n",
       "    </tr>\n",
       "    <tr>\n",
       "      <th>Magdeburg</th>\n",
       "      <td>6.528</td>\n",
       "      <td>1</td>\n",
       "      <td>10.144</td>\n",
       "      <td>0.002</td>\n",
       "      <td>0.050</td>\n",
       "      <td>2.772</td>\n",
       "      <td>0.008</td>\n",
       "      <td>True</td>\n",
       "    </tr>\n",
       "    <tr>\n",
       "      <th>Sweden</th>\n",
       "      <td>10.745</td>\n",
       "      <td>1</td>\n",
       "      <td>16.695</td>\n",
       "      <td>0.000</td>\n",
       "      <td>0.080</td>\n",
       "      <td>4.190</td>\n",
       "      <td>0.000</td>\n",
       "      <td>True</td>\n",
       "    </tr>\n",
       "    <tr>\n",
       "      <th>...</th>\n",
       "      <th>...</th>\n",
       "      <td>...</td>\n",
       "      <td>...</td>\n",
       "      <td>...</td>\n",
       "      <td>...</td>\n",
       "      <td>...</td>\n",
       "      <td>...</td>\n",
       "      <td>...</td>\n",
       "      <td>...</td>\n",
       "    </tr>\n",
       "    <tr>\n",
       "      <th rowspan=\"5\" valign=\"top\">S4R3U6</th>\n",
       "      <th>AD</th>\n",
       "      <td>0.535</td>\n",
       "      <td>1</td>\n",
       "      <td>0.597</td>\n",
       "      <td>0.441</td>\n",
       "      <td>0.003</td>\n",
       "      <td>0.356</td>\n",
       "      <td>0.600</td>\n",
       "      <td>False</td>\n",
       "    </tr>\n",
       "    <tr>\n",
       "      <th>age</th>\n",
       "      <td>0.050</td>\n",
       "      <td>1</td>\n",
       "      <td>0.056</td>\n",
       "      <td>0.813</td>\n",
       "      <td>0.000</td>\n",
       "      <td>0.090</td>\n",
       "      <td>0.891</td>\n",
       "      <td>False</td>\n",
       "    </tr>\n",
       "    <tr>\n",
       "      <th>Kiel</th>\n",
       "      <td>0.228</td>\n",
       "      <td>1</td>\n",
       "      <td>0.255</td>\n",
       "      <td>0.614</td>\n",
       "      <td>0.001</td>\n",
       "      <td>0.212</td>\n",
       "      <td>0.748</td>\n",
       "      <td>False</td>\n",
       "    </tr>\n",
       "    <tr>\n",
       "      <th>Magdeburg</th>\n",
       "      <td>0.738</td>\n",
       "      <td>1</td>\n",
       "      <td>0.823</td>\n",
       "      <td>0.366</td>\n",
       "      <td>0.004</td>\n",
       "      <td>0.437</td>\n",
       "      <td>0.528</td>\n",
       "      <td>False</td>\n",
       "    </tr>\n",
       "    <tr>\n",
       "      <th>Sweden</th>\n",
       "      <td>17.592</td>\n",
       "      <td>1</td>\n",
       "      <td>19.620</td>\n",
       "      <td>0.000</td>\n",
       "      <td>0.093</td>\n",
       "      <td>4.799</td>\n",
       "      <td>0.000</td>\n",
       "      <td>True</td>\n",
       "    </tr>\n",
       "  </tbody>\n",
       "</table>\n",
       "<p>7105 rows × 8 columns</p>\n",
       "</div>"
      ],
      "text/plain": [
       "model                                      PI                        \\\n",
       "var                                        SS DF      F p-unc   np2   \n",
       "protein groups               Source                                   \n",
       "A0A024QZX5;A0A087X1N8;P35237 AD         0.061  1  0.095 0.759 0.000   \n",
       "                             age        0.032  1  0.049 0.825 0.000   \n",
       "                             Kiel       1.993  1  3.097 0.080 0.016   \n",
       "                             Magdeburg  6.528  1 10.144 0.002 0.050   \n",
       "                             Sweden    10.745  1 16.695 0.000 0.080   \n",
       "...                                       ... ..    ...   ...   ...   \n",
       "S4R3U6                       AD         0.535  1  0.597 0.441 0.003   \n",
       "                             age        0.050  1  0.056 0.813 0.000   \n",
       "                             Kiel       0.228  1  0.255 0.614 0.001   \n",
       "                             Magdeburg  0.738  1  0.823 0.366 0.004   \n",
       "                             Sweden    17.592  1 19.620 0.000 0.093   \n",
       "\n",
       "model                                                                 \n",
       "var                                    -Log10 pvalue qvalue rejected  \n",
       "protein groups               Source                                   \n",
       "A0A024QZX5;A0A087X1N8;P35237 AD                0.120  0.850    False  \n",
       "                             age               0.084  0.898    False  \n",
       "                             Kiel              1.097  0.177    False  \n",
       "                             Magdeburg         2.772  0.008     True  \n",
       "                             Sweden            4.190  0.000     True  \n",
       "...                                              ...    ...      ...  \n",
       "S4R3U6                       AD                0.356  0.600    False  \n",
       "                             age               0.090  0.891    False  \n",
       "                             Kiel              0.212  0.748    False  \n",
       "                             Magdeburg         0.437  0.528    False  \n",
       "                             Sweden            4.799  0.000     True  \n",
       "\n",
       "[7105 rows x 8 columns]"
      ]
     },
     "execution_count": 6,
     "metadata": {},
     "output_type": "execute_result"
    }
   ],
   "source": [
    "fname = args.scores_folder / f'diff_analysis_scores_{args.baseline}.pkl'\n",
    "scores_baseline = pd.read_pickle(fname)\n",
    "scores_baseline"
   ]
  },
  {
   "cell_type": "markdown",
   "id": "e49a8da2",
   "metadata": {
    "papermill": {
     "duration": 0.013329,
     "end_time": "2024-06-28T11:04:19.224070",
     "exception": false,
     "start_time": "2024-06-28T11:04:19.210741",
     "status": "completed"
    },
    "tags": []
   },
   "source": [
    "### Load selected comparison model scores"
   ]
  },
  {
   "cell_type": "code",
   "execution_count": 7,
   "id": "f0635e4d",
   "metadata": {
    "execution": {
     "iopub.execute_input": "2024-06-28T11:04:19.252331Z",
     "iopub.status.busy": "2024-06-28T11:04:19.252021Z",
     "iopub.status.idle": "2024-06-28T11:04:19.275312Z",
     "shell.execute_reply": "2024-06-28T11:04:19.274506Z"
    },
    "papermill": {
     "duration": 0.03949,
     "end_time": "2024-06-28T11:04:19.277100",
     "exception": false,
     "start_time": "2024-06-28T11:04:19.237610",
     "status": "completed"
    },
    "tags": [
     "hide-input"
    ]
   },
   "outputs": [
    {
     "data": {
      "text/html": [
       "<div>\n",
       "<style scoped>\n",
       "    .dataframe tbody tr th:only-of-type {\n",
       "        vertical-align: middle;\n",
       "    }\n",
       "\n",
       "    .dataframe tbody tr th {\n",
       "        vertical-align: top;\n",
       "    }\n",
       "\n",
       "    .dataframe thead tr th {\n",
       "        text-align: left;\n",
       "    }\n",
       "\n",
       "    .dataframe thead tr:last-of-type th {\n",
       "        text-align: right;\n",
       "    }\n",
       "</style>\n",
       "<table border=\"1\" class=\"dataframe\">\n",
       "  <thead>\n",
       "    <tr>\n",
       "      <th></th>\n",
       "      <th>model</th>\n",
       "      <th colspan=\"8\" halign=\"left\">VAE</th>\n",
       "    </tr>\n",
       "    <tr>\n",
       "      <th></th>\n",
       "      <th>var</th>\n",
       "      <th>SS</th>\n",
       "      <th>DF</th>\n",
       "      <th>F</th>\n",
       "      <th>p-unc</th>\n",
       "      <th>np2</th>\n",
       "      <th>-Log10 pvalue</th>\n",
       "      <th>qvalue</th>\n",
       "      <th>rejected</th>\n",
       "    </tr>\n",
       "    <tr>\n",
       "      <th>protein groups</th>\n",
       "      <th>Source</th>\n",
       "      <th></th>\n",
       "      <th></th>\n",
       "      <th></th>\n",
       "      <th></th>\n",
       "      <th></th>\n",
       "      <th></th>\n",
       "      <th></th>\n",
       "      <th></th>\n",
       "    </tr>\n",
       "  </thead>\n",
       "  <tbody>\n",
       "    <tr>\n",
       "      <th rowspan=\"5\" valign=\"top\">A0A024QZX5;A0A087X1N8;P35237</th>\n",
       "      <th>AD</th>\n",
       "      <td>1.043</td>\n",
       "      <td>1</td>\n",
       "      <td>7.558</td>\n",
       "      <td>0.007</td>\n",
       "      <td>0.038</td>\n",
       "      <td>2.184</td>\n",
       "      <td>0.019</td>\n",
       "      <td>True</td>\n",
       "    </tr>\n",
       "    <tr>\n",
       "      <th>age</th>\n",
       "      <td>0.007</td>\n",
       "      <td>1</td>\n",
       "      <td>0.049</td>\n",
       "      <td>0.824</td>\n",
       "      <td>0.000</td>\n",
       "      <td>0.084</td>\n",
       "      <td>0.884</td>\n",
       "      <td>False</td>\n",
       "    </tr>\n",
       "    <tr>\n",
       "      <th>Kiel</th>\n",
       "      <td>0.280</td>\n",
       "      <td>1</td>\n",
       "      <td>2.028</td>\n",
       "      <td>0.156</td>\n",
       "      <td>0.011</td>\n",
       "      <td>0.807</td>\n",
       "      <td>0.258</td>\n",
       "      <td>False</td>\n",
       "    </tr>\n",
       "    <tr>\n",
       "      <th>Magdeburg</th>\n",
       "      <td>0.488</td>\n",
       "      <td>1</td>\n",
       "      <td>3.538</td>\n",
       "      <td>0.061</td>\n",
       "      <td>0.018</td>\n",
       "      <td>1.211</td>\n",
       "      <td>0.122</td>\n",
       "      <td>False</td>\n",
       "    </tr>\n",
       "    <tr>\n",
       "      <th>Sweden</th>\n",
       "      <td>1.746</td>\n",
       "      <td>1</td>\n",
       "      <td>12.649</td>\n",
       "      <td>0.000</td>\n",
       "      <td>0.062</td>\n",
       "      <td>3.324</td>\n",
       "      <td>0.002</td>\n",
       "      <td>True</td>\n",
       "    </tr>\n",
       "    <tr>\n",
       "      <th>...</th>\n",
       "      <th>...</th>\n",
       "      <td>...</td>\n",
       "      <td>...</td>\n",
       "      <td>...</td>\n",
       "      <td>...</td>\n",
       "      <td>...</td>\n",
       "      <td>...</td>\n",
       "      <td>...</td>\n",
       "      <td>...</td>\n",
       "    </tr>\n",
       "    <tr>\n",
       "      <th rowspan=\"5\" valign=\"top\">S4R3U6</th>\n",
       "      <th>AD</th>\n",
       "      <td>1.899</td>\n",
       "      <td>1</td>\n",
       "      <td>3.762</td>\n",
       "      <td>0.054</td>\n",
       "      <td>0.019</td>\n",
       "      <td>1.268</td>\n",
       "      <td>0.109</td>\n",
       "      <td>False</td>\n",
       "    </tr>\n",
       "    <tr>\n",
       "      <th>age</th>\n",
       "      <td>0.335</td>\n",
       "      <td>1</td>\n",
       "      <td>0.663</td>\n",
       "      <td>0.416</td>\n",
       "      <td>0.003</td>\n",
       "      <td>0.380</td>\n",
       "      <td>0.546</td>\n",
       "      <td>False</td>\n",
       "    </tr>\n",
       "    <tr>\n",
       "      <th>Kiel</th>\n",
       "      <td>2.578</td>\n",
       "      <td>1</td>\n",
       "      <td>5.109</td>\n",
       "      <td>0.025</td>\n",
       "      <td>0.026</td>\n",
       "      <td>1.603</td>\n",
       "      <td>0.058</td>\n",
       "      <td>False</td>\n",
       "    </tr>\n",
       "    <tr>\n",
       "      <th>Magdeburg</th>\n",
       "      <td>2.662</td>\n",
       "      <td>1</td>\n",
       "      <td>5.275</td>\n",
       "      <td>0.023</td>\n",
       "      <td>0.027</td>\n",
       "      <td>1.644</td>\n",
       "      <td>0.053</td>\n",
       "      <td>False</td>\n",
       "    </tr>\n",
       "    <tr>\n",
       "      <th>Sweden</th>\n",
       "      <td>21.820</td>\n",
       "      <td>1</td>\n",
       "      <td>43.236</td>\n",
       "      <td>0.000</td>\n",
       "      <td>0.185</td>\n",
       "      <td>9.345</td>\n",
       "      <td>0.000</td>\n",
       "      <td>True</td>\n",
       "    </tr>\n",
       "  </tbody>\n",
       "</table>\n",
       "<p>7105 rows × 8 columns</p>\n",
       "</div>"
      ],
      "text/plain": [
       "model                                     VAE                        \\\n",
       "var                                        SS DF      F p-unc   np2   \n",
       "protein groups               Source                                   \n",
       "A0A024QZX5;A0A087X1N8;P35237 AD         1.043  1  7.558 0.007 0.038   \n",
       "                             age        0.007  1  0.049 0.824 0.000   \n",
       "                             Kiel       0.280  1  2.028 0.156 0.011   \n",
       "                             Magdeburg  0.488  1  3.538 0.061 0.018   \n",
       "                             Sweden     1.746  1 12.649 0.000 0.062   \n",
       "...                                       ... ..    ...   ...   ...   \n",
       "S4R3U6                       AD         1.899  1  3.762 0.054 0.019   \n",
       "                             age        0.335  1  0.663 0.416 0.003   \n",
       "                             Kiel       2.578  1  5.109 0.025 0.026   \n",
       "                             Magdeburg  2.662  1  5.275 0.023 0.027   \n",
       "                             Sweden    21.820  1 43.236 0.000 0.185   \n",
       "\n",
       "model                                                                 \n",
       "var                                    -Log10 pvalue qvalue rejected  \n",
       "protein groups               Source                                   \n",
       "A0A024QZX5;A0A087X1N8;P35237 AD                2.184  0.019     True  \n",
       "                             age               0.084  0.884    False  \n",
       "                             Kiel              0.807  0.258    False  \n",
       "                             Magdeburg         1.211  0.122    False  \n",
       "                             Sweden            3.324  0.002     True  \n",
       "...                                              ...    ...      ...  \n",
       "S4R3U6                       AD                1.268  0.109    False  \n",
       "                             age               0.380  0.546    False  \n",
       "                             Kiel              1.603  0.058    False  \n",
       "                             Magdeburg         1.644  0.053    False  \n",
       "                             Sweden            9.345  0.000     True  \n",
       "\n",
       "[7105 rows x 8 columns]"
      ]
     },
     "execution_count": 7,
     "metadata": {},
     "output_type": "execute_result"
    }
   ],
   "source": [
    "fname = args.scores_folder / f'diff_analysis_scores_{args.model_key}.pkl'\n",
    "scores_model = pd.read_pickle(fname)\n",
    "scores_model"
   ]
  },
  {
   "cell_type": "markdown",
   "id": "06b7e883",
   "metadata": {
    "papermill": {
     "duration": 0.014082,
     "end_time": "2024-06-28T11:04:19.305326",
     "exception": false,
     "start_time": "2024-06-28T11:04:19.291244",
     "status": "completed"
    },
    "tags": []
   },
   "source": [
    "### Combined scores\n",
    "show only selected statistics for comparsion"
   ]
  },
  {
   "cell_type": "code",
   "execution_count": 8,
   "id": "373fdf65",
   "metadata": {
    "execution": {
     "iopub.execute_input": "2024-06-28T11:04:19.335658Z",
     "iopub.status.busy": "2024-06-28T11:04:19.335282Z",
     "iopub.status.idle": "2024-06-28T11:04:19.380411Z",
     "shell.execute_reply": "2024-06-28T11:04:19.379626Z"
    },
    "papermill": {
     "duration": 0.062208,
     "end_time": "2024-06-28T11:04:19.382401",
     "exception": false,
     "start_time": "2024-06-28T11:04:19.320193",
     "status": "completed"
    },
    "tags": [
     "hide-input"
    ]
   },
   "outputs": [
    {
     "data": {
      "text/html": [
       "<div>\n",
       "<style scoped>\n",
       "    .dataframe tbody tr th:only-of-type {\n",
       "        vertical-align: middle;\n",
       "    }\n",
       "\n",
       "    .dataframe tbody tr th {\n",
       "        vertical-align: top;\n",
       "    }\n",
       "\n",
       "    .dataframe thead tr th {\n",
       "        text-align: left;\n",
       "    }\n",
       "\n",
       "    .dataframe thead tr:last-of-type th {\n",
       "        text-align: right;\n",
       "    }\n",
       "</style>\n",
       "<table border=\"1\" class=\"dataframe\">\n",
       "  <thead>\n",
       "    <tr>\n",
       "      <th></th>\n",
       "      <th>model</th>\n",
       "      <th colspan=\"4\" halign=\"left\">PI</th>\n",
       "      <th colspan=\"4\" halign=\"left\">VAE</th>\n",
       "    </tr>\n",
       "    <tr>\n",
       "      <th></th>\n",
       "      <th>var</th>\n",
       "      <th>p-unc</th>\n",
       "      <th>-Log10 pvalue</th>\n",
       "      <th>qvalue</th>\n",
       "      <th>rejected</th>\n",
       "      <th>p-unc</th>\n",
       "      <th>-Log10 pvalue</th>\n",
       "      <th>qvalue</th>\n",
       "      <th>rejected</th>\n",
       "    </tr>\n",
       "    <tr>\n",
       "      <th>protein groups</th>\n",
       "      <th>Source</th>\n",
       "      <th></th>\n",
       "      <th></th>\n",
       "      <th></th>\n",
       "      <th></th>\n",
       "      <th></th>\n",
       "      <th></th>\n",
       "      <th></th>\n",
       "      <th></th>\n",
       "    </tr>\n",
       "  </thead>\n",
       "  <tbody>\n",
       "    <tr>\n",
       "      <th rowspan=\"5\" valign=\"top\">A0A024QZX5;A0A087X1N8;P35237</th>\n",
       "      <th>AD</th>\n",
       "      <td>0.759</td>\n",
       "      <td>0.120</td>\n",
       "      <td>0.850</td>\n",
       "      <td>False</td>\n",
       "      <td>0.007</td>\n",
       "      <td>2.184</td>\n",
       "      <td>0.019</td>\n",
       "      <td>True</td>\n",
       "    </tr>\n",
       "    <tr>\n",
       "      <th>age</th>\n",
       "      <td>0.825</td>\n",
       "      <td>0.084</td>\n",
       "      <td>0.898</td>\n",
       "      <td>False</td>\n",
       "      <td>0.824</td>\n",
       "      <td>0.084</td>\n",
       "      <td>0.884</td>\n",
       "      <td>False</td>\n",
       "    </tr>\n",
       "    <tr>\n",
       "      <th>Kiel</th>\n",
       "      <td>0.080</td>\n",
       "      <td>1.097</td>\n",
       "      <td>0.177</td>\n",
       "      <td>False</td>\n",
       "      <td>0.156</td>\n",
       "      <td>0.807</td>\n",
       "      <td>0.258</td>\n",
       "      <td>False</td>\n",
       "    </tr>\n",
       "    <tr>\n",
       "      <th>Magdeburg</th>\n",
       "      <td>0.002</td>\n",
       "      <td>2.772</td>\n",
       "      <td>0.008</td>\n",
       "      <td>True</td>\n",
       "      <td>0.061</td>\n",
       "      <td>1.211</td>\n",
       "      <td>0.122</td>\n",
       "      <td>False</td>\n",
       "    </tr>\n",
       "    <tr>\n",
       "      <th>Sweden</th>\n",
       "      <td>0.000</td>\n",
       "      <td>4.190</td>\n",
       "      <td>0.000</td>\n",
       "      <td>True</td>\n",
       "      <td>0.000</td>\n",
       "      <td>3.324</td>\n",
       "      <td>0.002</td>\n",
       "      <td>True</td>\n",
       "    </tr>\n",
       "    <tr>\n",
       "      <th>...</th>\n",
       "      <th>...</th>\n",
       "      <td>...</td>\n",
       "      <td>...</td>\n",
       "      <td>...</td>\n",
       "      <td>...</td>\n",
       "      <td>...</td>\n",
       "      <td>...</td>\n",
       "      <td>...</td>\n",
       "      <td>...</td>\n",
       "    </tr>\n",
       "    <tr>\n",
       "      <th rowspan=\"5\" valign=\"top\">S4R3U6</th>\n",
       "      <th>AD</th>\n",
       "      <td>0.441</td>\n",
       "      <td>0.356</td>\n",
       "      <td>0.600</td>\n",
       "      <td>False</td>\n",
       "      <td>0.054</td>\n",
       "      <td>1.268</td>\n",
       "      <td>0.109</td>\n",
       "      <td>False</td>\n",
       "    </tr>\n",
       "    <tr>\n",
       "      <th>age</th>\n",
       "      <td>0.813</td>\n",
       "      <td>0.090</td>\n",
       "      <td>0.891</td>\n",
       "      <td>False</td>\n",
       "      <td>0.416</td>\n",
       "      <td>0.380</td>\n",
       "      <td>0.546</td>\n",
       "      <td>False</td>\n",
       "    </tr>\n",
       "    <tr>\n",
       "      <th>Kiel</th>\n",
       "      <td>0.614</td>\n",
       "      <td>0.212</td>\n",
       "      <td>0.748</td>\n",
       "      <td>False</td>\n",
       "      <td>0.025</td>\n",
       "      <td>1.603</td>\n",
       "      <td>0.058</td>\n",
       "      <td>False</td>\n",
       "    </tr>\n",
       "    <tr>\n",
       "      <th>Magdeburg</th>\n",
       "      <td>0.366</td>\n",
       "      <td>0.437</td>\n",
       "      <td>0.528</td>\n",
       "      <td>False</td>\n",
       "      <td>0.023</td>\n",
       "      <td>1.644</td>\n",
       "      <td>0.053</td>\n",
       "      <td>False</td>\n",
       "    </tr>\n",
       "    <tr>\n",
       "      <th>Sweden</th>\n",
       "      <td>0.000</td>\n",
       "      <td>4.799</td>\n",
       "      <td>0.000</td>\n",
       "      <td>True</td>\n",
       "      <td>0.000</td>\n",
       "      <td>9.345</td>\n",
       "      <td>0.000</td>\n",
       "      <td>True</td>\n",
       "    </tr>\n",
       "  </tbody>\n",
       "</table>\n",
       "<p>7105 rows × 8 columns</p>\n",
       "</div>"
      ],
      "text/plain": [
       "model                                     PI                                \\\n",
       "var                                    p-unc -Log10 pvalue qvalue rejected   \n",
       "protein groups               Source                                          \n",
       "A0A024QZX5;A0A087X1N8;P35237 AD        0.759         0.120  0.850    False   \n",
       "                             age       0.825         0.084  0.898    False   \n",
       "                             Kiel      0.080         1.097  0.177    False   \n",
       "                             Magdeburg 0.002         2.772  0.008     True   \n",
       "                             Sweden    0.000         4.190  0.000     True   \n",
       "...                                      ...           ...    ...      ...   \n",
       "S4R3U6                       AD        0.441         0.356  0.600    False   \n",
       "                             age       0.813         0.090  0.891    False   \n",
       "                             Kiel      0.614         0.212  0.748    False   \n",
       "                             Magdeburg 0.366         0.437  0.528    False   \n",
       "                             Sweden    0.000         4.799  0.000     True   \n",
       "\n",
       "model                                    VAE                                \n",
       "var                                    p-unc -Log10 pvalue qvalue rejected  \n",
       "protein groups               Source                                         \n",
       "A0A024QZX5;A0A087X1N8;P35237 AD        0.007         2.184  0.019     True  \n",
       "                             age       0.824         0.084  0.884    False  \n",
       "                             Kiel      0.156         0.807  0.258    False  \n",
       "                             Magdeburg 0.061         1.211  0.122    False  \n",
       "                             Sweden    0.000         3.324  0.002     True  \n",
       "...                                      ...           ...    ...      ...  \n",
       "S4R3U6                       AD        0.054         1.268  0.109    False  \n",
       "                             age       0.416         0.380  0.546    False  \n",
       "                             Kiel      0.025         1.603  0.058    False  \n",
       "                             Magdeburg 0.023         1.644  0.053    False  \n",
       "                             Sweden    0.000         9.345  0.000     True  \n",
       "\n",
       "[7105 rows x 8 columns]"
      ]
     },
     "execution_count": 8,
     "metadata": {},
     "output_type": "execute_result"
    }
   ],
   "source": [
    "scores = scores_model.join(scores_baseline, how='outer')[[args.baseline, args.model_key]]\n",
    "scores = scores.loc[:, pd.IndexSlice[scores.columns.levels[0].to_list(),\n",
    "                                     args.selected_statistics]]\n",
    "scores"
   ]
  },
  {
   "cell_type": "markdown",
   "id": "b84a6e5a",
   "metadata": {
    "papermill": {
     "duration": 0.01414,
     "end_time": "2024-06-28T11:04:19.422168",
     "exception": false,
     "start_time": "2024-06-28T11:04:19.408028",
     "status": "completed"
    },
    "tags": []
   },
   "source": [
    "Models in comparison (name mapping)"
   ]
  },
  {
   "cell_type": "code",
   "execution_count": 9,
   "id": "34d243d1-3ab4-40e7-9eb8-f9efc828b82d",
   "metadata": {
    "execution": {
     "iopub.execute_input": "2024-06-28T11:04:19.452190Z",
     "iopub.status.busy": "2024-06-28T11:04:19.451857Z",
     "iopub.status.idle": "2024-06-28T11:04:19.457902Z",
     "shell.execute_reply": "2024-06-28T11:04:19.457174Z"
    },
    "papermill": {
     "duration": 0.025658,
     "end_time": "2024-06-28T11:04:19.462147",
     "exception": false,
     "start_time": "2024-06-28T11:04:19.436489",
     "status": "completed"
    },
    "tags": [
     "hide-input"
    ]
   },
   "outputs": [
    {
     "data": {
      "text/plain": [
       "{'PI': 'PI', 'VAE': 'VAE'}"
      ]
     },
     "execution_count": 9,
     "metadata": {},
     "output_type": "execute_result"
    }
   ],
   "source": [
    "models = vaep.nb.Config.from_dict(\n",
    "    vaep.pandas.index_to_dict(scores.columns.get_level_values(0)))\n",
    "vars(models)"
   ]
  },
  {
   "cell_type": "markdown",
   "id": "dd7a560d",
   "metadata": {
    "papermill": {
     "duration": 0.01402,
     "end_time": "2024-06-28T11:04:19.491548",
     "exception": false,
     "start_time": "2024-06-28T11:04:19.477528",
     "status": "completed"
    },
    "tags": []
   },
   "source": [
    "## Describe scores"
   ]
  },
  {
   "cell_type": "code",
   "execution_count": 10,
   "id": "0fee8f5d-fa52-4369-a1f9-fcfd518ab6bd",
   "metadata": {
    "execution": {
     "iopub.execute_input": "2024-06-28T11:04:19.570412Z",
     "iopub.status.busy": "2024-06-28T11:04:19.570054Z",
     "iopub.status.idle": "2024-06-28T11:04:19.604744Z",
     "shell.execute_reply": "2024-06-28T11:04:19.604019Z"
    },
    "papermill": {
     "duration": 0.052045,
     "end_time": "2024-06-28T11:04:19.606598",
     "exception": false,
     "start_time": "2024-06-28T11:04:19.554553",
     "status": "completed"
    },
    "tags": [
     "hide-input"
    ]
   },
   "outputs": [
    {
     "data": {
      "text/html": [
       "<div>\n",
       "<style scoped>\n",
       "    .dataframe tbody tr th:only-of-type {\n",
       "        vertical-align: middle;\n",
       "    }\n",
       "\n",
       "    .dataframe tbody tr th {\n",
       "        vertical-align: top;\n",
       "    }\n",
       "\n",
       "    .dataframe thead tr th {\n",
       "        text-align: left;\n",
       "    }\n",
       "</style>\n",
       "<table border=\"1\" class=\"dataframe\">\n",
       "  <thead>\n",
       "    <tr>\n",
       "      <th>model</th>\n",
       "      <th colspan=\"3\" halign=\"left\">PI</th>\n",
       "      <th colspan=\"3\" halign=\"left\">VAE</th>\n",
       "    </tr>\n",
       "    <tr>\n",
       "      <th>var</th>\n",
       "      <th>p-unc</th>\n",
       "      <th>-Log10 pvalue</th>\n",
       "      <th>qvalue</th>\n",
       "      <th>p-unc</th>\n",
       "      <th>-Log10 pvalue</th>\n",
       "      <th>qvalue</th>\n",
       "    </tr>\n",
       "  </thead>\n",
       "  <tbody>\n",
       "    <tr>\n",
       "      <th>count</th>\n",
       "      <td>7,105.000</td>\n",
       "      <td>7,105.000</td>\n",
       "      <td>7,105.000</td>\n",
       "      <td>7,105.000</td>\n",
       "      <td>7,105.000</td>\n",
       "      <td>7,105.000</td>\n",
       "    </tr>\n",
       "    <tr>\n",
       "      <th>mean</th>\n",
       "      <td>0.261</td>\n",
       "      <td>2.479</td>\n",
       "      <td>0.338</td>\n",
       "      <td>0.225</td>\n",
       "      <td>3.334</td>\n",
       "      <td>0.278</td>\n",
       "    </tr>\n",
       "    <tr>\n",
       "      <th>std</th>\n",
       "      <td>0.304</td>\n",
       "      <td>5.336</td>\n",
       "      <td>0.332</td>\n",
       "      <td>0.294</td>\n",
       "      <td>6.222</td>\n",
       "      <td>0.321</td>\n",
       "    </tr>\n",
       "    <tr>\n",
       "      <th>min</th>\n",
       "      <td>0.000</td>\n",
       "      <td>0.000</td>\n",
       "      <td>0.000</td>\n",
       "      <td>0.000</td>\n",
       "      <td>0.000</td>\n",
       "      <td>0.000</td>\n",
       "    </tr>\n",
       "    <tr>\n",
       "      <th>25%</th>\n",
       "      <td>0.004</td>\n",
       "      <td>0.331</td>\n",
       "      <td>0.015</td>\n",
       "      <td>0.000</td>\n",
       "      <td>0.403</td>\n",
       "      <td>0.002</td>\n",
       "    </tr>\n",
       "    <tr>\n",
       "      <th>50%</th>\n",
       "      <td>0.122</td>\n",
       "      <td>0.913</td>\n",
       "      <td>0.244</td>\n",
       "      <td>0.060</td>\n",
       "      <td>1.225</td>\n",
       "      <td>0.119</td>\n",
       "    </tr>\n",
       "    <tr>\n",
       "      <th>75%</th>\n",
       "      <td>0.466</td>\n",
       "      <td>2.425</td>\n",
       "      <td>0.622</td>\n",
       "      <td>0.395</td>\n",
       "      <td>3.348</td>\n",
       "      <td>0.527</td>\n",
       "    </tr>\n",
       "    <tr>\n",
       "      <th>max</th>\n",
       "      <td>1.000</td>\n",
       "      <td>145.668</td>\n",
       "      <td>1.000</td>\n",
       "      <td>1.000</td>\n",
       "      <td>86.776</td>\n",
       "      <td>1.000</td>\n",
       "    </tr>\n",
       "  </tbody>\n",
       "</table>\n",
       "</div>"
      ],
      "text/plain": [
       "model        PI                               VAE                        \n",
       "var       p-unc -Log10 pvalue    qvalue     p-unc -Log10 pvalue    qvalue\n",
       "count 7,105.000     7,105.000 7,105.000 7,105.000     7,105.000 7,105.000\n",
       "mean      0.261         2.479     0.338     0.225         3.334     0.278\n",
       "std       0.304         5.336     0.332     0.294         6.222     0.321\n",
       "min       0.000         0.000     0.000     0.000         0.000     0.000\n",
       "25%       0.004         0.331     0.015     0.000         0.403     0.002\n",
       "50%       0.122         0.913     0.244     0.060         1.225     0.119\n",
       "75%       0.466         2.425     0.622     0.395         3.348     0.527\n",
       "max       1.000       145.668     1.000     1.000        86.776     1.000"
      ]
     },
     "execution_count": 10,
     "metadata": {},
     "output_type": "execute_result"
    }
   ],
   "source": [
    "scores.describe()"
   ]
  },
  {
   "cell_type": "markdown",
   "id": "52ecc596",
   "metadata": {
    "papermill": {
     "duration": 0.014118,
     "end_time": "2024-06-28T11:04:19.635521",
     "exception": false,
     "start_time": "2024-06-28T11:04:19.621403",
     "status": "completed"
    },
    "tags": []
   },
   "source": [
    "### One to one comparison of by feature:"
   ]
  },
  {
   "cell_type": "code",
   "execution_count": 11,
   "id": "c6e5a0a6-343b-4f07-8d9d-2cd5cf95ae1f",
   "metadata": {
    "execution": {
     "iopub.execute_input": "2024-06-28T11:04:19.667648Z",
     "iopub.status.busy": "2024-06-28T11:04:19.667274Z",
     "iopub.status.idle": "2024-06-28T11:04:20.154624Z",
     "shell.execute_reply": "2024-06-28T11:04:20.153859Z"
    },
    "papermill": {
     "duration": 0.505725,
     "end_time": "2024-06-28T11:04:20.156608",
     "exception": false,
     "start_time": "2024-06-28T11:04:19.650883",
     "status": "completed"
    },
    "tags": [
     "hide-input"
    ]
   },
   "outputs": [
    {
     "data": {
      "text/html": [
       "<div>\n",
       "<style scoped>\n",
       "    .dataframe tbody tr th:only-of-type {\n",
       "        vertical-align: middle;\n",
       "    }\n",
       "\n",
       "    .dataframe tbody tr th {\n",
       "        vertical-align: top;\n",
       "    }\n",
       "\n",
       "    .dataframe thead tr th {\n",
       "        text-align: left;\n",
       "    }\n",
       "\n",
       "    .dataframe thead tr:last-of-type th {\n",
       "        text-align: right;\n",
       "    }\n",
       "</style>\n",
       "<table border=\"1\" class=\"dataframe\">\n",
       "  <thead>\n",
       "    <tr>\n",
       "      <th></th>\n",
       "      <th>model</th>\n",
       "      <th colspan=\"4\" halign=\"left\">PI</th>\n",
       "      <th colspan=\"4\" halign=\"left\">VAE</th>\n",
       "    </tr>\n",
       "    <tr>\n",
       "      <th></th>\n",
       "      <th>var</th>\n",
       "      <th>p-unc</th>\n",
       "      <th>-Log10 pvalue</th>\n",
       "      <th>qvalue</th>\n",
       "      <th>rejected</th>\n",
       "      <th>p-unc</th>\n",
       "      <th>-Log10 pvalue</th>\n",
       "      <th>qvalue</th>\n",
       "      <th>rejected</th>\n",
       "    </tr>\n",
       "    <tr>\n",
       "      <th>protein groups</th>\n",
       "      <th>Source</th>\n",
       "      <th></th>\n",
       "      <th></th>\n",
       "      <th></th>\n",
       "      <th></th>\n",
       "      <th></th>\n",
       "      <th></th>\n",
       "      <th></th>\n",
       "      <th></th>\n",
       "    </tr>\n",
       "  </thead>\n",
       "  <tbody>\n",
       "    <tr>\n",
       "      <th>A0A024QZX5;A0A087X1N8;P35237</th>\n",
       "      <th>AD</th>\n",
       "      <td>0.759</td>\n",
       "      <td>0.120</td>\n",
       "      <td>0.850</td>\n",
       "      <td>False</td>\n",
       "      <td>0.007</td>\n",
       "      <td>2.184</td>\n",
       "      <td>0.019</td>\n",
       "      <td>True</td>\n",
       "    </tr>\n",
       "    <tr>\n",
       "      <th>A0A024R0T9;K7ER74;P02655</th>\n",
       "      <th>AD</th>\n",
       "      <td>0.036</td>\n",
       "      <td>1.450</td>\n",
       "      <td>0.093</td>\n",
       "      <td>False</td>\n",
       "      <td>0.032</td>\n",
       "      <td>1.495</td>\n",
       "      <td>0.071</td>\n",
       "      <td>False</td>\n",
       "    </tr>\n",
       "    <tr>\n",
       "      <th>A0A024R3W6;A0A024R412;O60462;O60462-2;O60462-3;O60462-4;O60462-5;Q7LBX6;X5D2Q8</th>\n",
       "      <th>AD</th>\n",
       "      <td>0.070</td>\n",
       "      <td>1.158</td>\n",
       "      <td>0.158</td>\n",
       "      <td>False</td>\n",
       "      <td>0.380</td>\n",
       "      <td>0.420</td>\n",
       "      <td>0.512</td>\n",
       "      <td>False</td>\n",
       "    </tr>\n",
       "    <tr>\n",
       "      <th>A0A024R644;A0A0A0MRU5;A0A1B0GWI2;O75503</th>\n",
       "      <th>AD</th>\n",
       "      <td>0.491</td>\n",
       "      <td>0.309</td>\n",
       "      <td>0.644</td>\n",
       "      <td>False</td>\n",
       "      <td>0.255</td>\n",
       "      <td>0.593</td>\n",
       "      <td>0.380</td>\n",
       "      <td>False</td>\n",
       "    </tr>\n",
       "    <tr>\n",
       "      <th>A0A075B6H7</th>\n",
       "      <th>AD</th>\n",
       "      <td>0.169</td>\n",
       "      <td>0.773</td>\n",
       "      <td>0.307</td>\n",
       "      <td>False</td>\n",
       "      <td>0.003</td>\n",
       "      <td>2.512</td>\n",
       "      <td>0.010</td>\n",
       "      <td>True</td>\n",
       "    </tr>\n",
       "    <tr>\n",
       "      <th>...</th>\n",
       "      <th>...</th>\n",
       "      <td>...</td>\n",
       "      <td>...</td>\n",
       "      <td>...</td>\n",
       "      <td>...</td>\n",
       "      <td>...</td>\n",
       "      <td>...</td>\n",
       "      <td>...</td>\n",
       "      <td>...</td>\n",
       "    </tr>\n",
       "    <tr>\n",
       "      <th>Q9Y6R7</th>\n",
       "      <th>AD</th>\n",
       "      <td>0.175</td>\n",
       "      <td>0.756</td>\n",
       "      <td>0.317</td>\n",
       "      <td>False</td>\n",
       "      <td>0.175</td>\n",
       "      <td>0.756</td>\n",
       "      <td>0.283</td>\n",
       "      <td>False</td>\n",
       "    </tr>\n",
       "    <tr>\n",
       "      <th>Q9Y6X5</th>\n",
       "      <th>AD</th>\n",
       "      <td>0.158</td>\n",
       "      <td>0.802</td>\n",
       "      <td>0.292</td>\n",
       "      <td>False</td>\n",
       "      <td>0.214</td>\n",
       "      <td>0.669</td>\n",
       "      <td>0.332</td>\n",
       "      <td>False</td>\n",
       "    </tr>\n",
       "    <tr>\n",
       "      <th>Q9Y6Y8;Q9Y6Y8-2</th>\n",
       "      <th>AD</th>\n",
       "      <td>0.083</td>\n",
       "      <td>1.079</td>\n",
       "      <td>0.183</td>\n",
       "      <td>False</td>\n",
       "      <td>0.083</td>\n",
       "      <td>1.079</td>\n",
       "      <td>0.157</td>\n",
       "      <td>False</td>\n",
       "    </tr>\n",
       "    <tr>\n",
       "      <th>Q9Y6Y9</th>\n",
       "      <th>AD</th>\n",
       "      <td>0.331</td>\n",
       "      <td>0.480</td>\n",
       "      <td>0.494</td>\n",
       "      <td>False</td>\n",
       "      <td>0.514</td>\n",
       "      <td>0.289</td>\n",
       "      <td>0.636</td>\n",
       "      <td>False</td>\n",
       "    </tr>\n",
       "    <tr>\n",
       "      <th>S4R3U6</th>\n",
       "      <th>AD</th>\n",
       "      <td>0.441</td>\n",
       "      <td>0.356</td>\n",
       "      <td>0.600</td>\n",
       "      <td>False</td>\n",
       "      <td>0.054</td>\n",
       "      <td>1.268</td>\n",
       "      <td>0.109</td>\n",
       "      <td>False</td>\n",
       "    </tr>\n",
       "  </tbody>\n",
       "</table>\n",
       "<p>1421 rows × 8 columns</p>\n",
       "</div>"
      ],
      "text/plain": [
       "model                                                        PI                \\\n",
       "var                                                       p-unc -Log10 pvalue   \n",
       "protein groups                                     Source                       \n",
       "A0A024QZX5;A0A087X1N8;P35237                       AD     0.759         0.120   \n",
       "A0A024R0T9;K7ER74;P02655                           AD     0.036         1.450   \n",
       "A0A024R3W6;A0A024R412;O60462;O60462-2;O60462-3;... AD     0.070         1.158   \n",
       "A0A024R644;A0A0A0MRU5;A0A1B0GWI2;O75503            AD     0.491         0.309   \n",
       "A0A075B6H7                                         AD     0.169         0.773   \n",
       "...                                                         ...           ...   \n",
       "Q9Y6R7                                             AD     0.175         0.756   \n",
       "Q9Y6X5                                             AD     0.158         0.802   \n",
       "Q9Y6Y8;Q9Y6Y8-2                                    AD     0.083         1.079   \n",
       "Q9Y6Y9                                             AD     0.331         0.480   \n",
       "S4R3U6                                             AD     0.441         0.356   \n",
       "\n",
       "model                                                                      \\\n",
       "var                                                       qvalue rejected   \n",
       "protein groups                                     Source                   \n",
       "A0A024QZX5;A0A087X1N8;P35237                       AD      0.850    False   \n",
       "A0A024R0T9;K7ER74;P02655                           AD      0.093    False   \n",
       "A0A024R3W6;A0A024R412;O60462;O60462-2;O60462-3;... AD      0.158    False   \n",
       "A0A024R644;A0A0A0MRU5;A0A1B0GWI2;O75503            AD      0.644    False   \n",
       "A0A075B6H7                                         AD      0.307    False   \n",
       "...                                                          ...      ...   \n",
       "Q9Y6R7                                             AD      0.317    False   \n",
       "Q9Y6X5                                             AD      0.292    False   \n",
       "Q9Y6Y8;Q9Y6Y8-2                                    AD      0.183    False   \n",
       "Q9Y6Y9                                             AD      0.494    False   \n",
       "S4R3U6                                             AD      0.600    False   \n",
       "\n",
       "model                                                       VAE                \\\n",
       "var                                                       p-unc -Log10 pvalue   \n",
       "protein groups                                     Source                       \n",
       "A0A024QZX5;A0A087X1N8;P35237                       AD     0.007         2.184   \n",
       "A0A024R0T9;K7ER74;P02655                           AD     0.032         1.495   \n",
       "A0A024R3W6;A0A024R412;O60462;O60462-2;O60462-3;... AD     0.380         0.420   \n",
       "A0A024R644;A0A0A0MRU5;A0A1B0GWI2;O75503            AD     0.255         0.593   \n",
       "A0A075B6H7                                         AD     0.003         2.512   \n",
       "...                                                         ...           ...   \n",
       "Q9Y6R7                                             AD     0.175         0.756   \n",
       "Q9Y6X5                                             AD     0.214         0.669   \n",
       "Q9Y6Y8;Q9Y6Y8-2                                    AD     0.083         1.079   \n",
       "Q9Y6Y9                                             AD     0.514         0.289   \n",
       "S4R3U6                                             AD     0.054         1.268   \n",
       "\n",
       "model                                                                      \n",
       "var                                                       qvalue rejected  \n",
       "protein groups                                     Source                  \n",
       "A0A024QZX5;A0A087X1N8;P35237                       AD      0.019     True  \n",
       "A0A024R0T9;K7ER74;P02655                           AD      0.071    False  \n",
       "A0A024R3W6;A0A024R412;O60462;O60462-2;O60462-3;... AD      0.512    False  \n",
       "A0A024R644;A0A0A0MRU5;A0A1B0GWI2;O75503            AD      0.380    False  \n",
       "A0A075B6H7                                         AD      0.010     True  \n",
       "...                                                          ...      ...  \n",
       "Q9Y6R7                                             AD      0.283    False  \n",
       "Q9Y6X5                                             AD      0.332    False  \n",
       "Q9Y6Y8;Q9Y6Y8-2                                    AD      0.157    False  \n",
       "Q9Y6Y9                                             AD      0.636    False  \n",
       "S4R3U6                                             AD      0.109    False  \n",
       "\n",
       "[1421 rows x 8 columns]"
      ]
     },
     "execution_count": 11,
     "metadata": {},
     "output_type": "execute_result"
    }
   ],
   "source": [
    "scores = scores.loc[pd.IndexSlice[:, args.target], :]\n",
    "scores.to_excel(writer, 'scores', **writer_args)\n",
    "scores"
   ]
  },
  {
   "cell_type": "markdown",
   "id": "36e14580",
   "metadata": {
    "papermill": {
     "duration": 0.01539,
     "end_time": "2024-06-28T11:04:20.224209",
     "exception": false,
     "start_time": "2024-06-28T11:04:20.208819",
     "status": "completed"
    },
    "tags": []
   },
   "source": [
    "And the descriptive statistics\n",
    "of the numeric values:"
   ]
  },
  {
   "cell_type": "code",
   "execution_count": 12,
   "id": "0e45e80a-32d8-4c6c-b0a4-5ce8b7f9e121",
   "metadata": {
    "execution": {
     "iopub.execute_input": "2024-06-28T11:04:20.255699Z",
     "iopub.status.busy": "2024-06-28T11:04:20.255076Z",
     "iopub.status.idle": "2024-06-28T11:04:20.288206Z",
     "shell.execute_reply": "2024-06-28T11:04:20.287383Z"
    },
    "papermill": {
     "duration": 0.050709,
     "end_time": "2024-06-28T11:04:20.289965",
     "exception": false,
     "start_time": "2024-06-28T11:04:20.239256",
     "status": "completed"
    },
    "tags": [
     "hide-input"
    ]
   },
   "outputs": [
    {
     "data": {
      "text/html": [
       "<div>\n",
       "<style scoped>\n",
       "    .dataframe tbody tr th:only-of-type {\n",
       "        vertical-align: middle;\n",
       "    }\n",
       "\n",
       "    .dataframe tbody tr th {\n",
       "        vertical-align: top;\n",
       "    }\n",
       "\n",
       "    .dataframe thead tr th {\n",
       "        text-align: left;\n",
       "    }\n",
       "</style>\n",
       "<table border=\"1\" class=\"dataframe\">\n",
       "  <thead>\n",
       "    <tr>\n",
       "      <th>model</th>\n",
       "      <th colspan=\"3\" halign=\"left\">PI</th>\n",
       "      <th colspan=\"3\" halign=\"left\">VAE</th>\n",
       "    </tr>\n",
       "    <tr>\n",
       "      <th>var</th>\n",
       "      <th>p-unc</th>\n",
       "      <th>-Log10 pvalue</th>\n",
       "      <th>qvalue</th>\n",
       "      <th>p-unc</th>\n",
       "      <th>-Log10 pvalue</th>\n",
       "      <th>qvalue</th>\n",
       "    </tr>\n",
       "  </thead>\n",
       "  <tbody>\n",
       "    <tr>\n",
       "      <th>count</th>\n",
       "      <td>1,421.000</td>\n",
       "      <td>1,421.000</td>\n",
       "      <td>1,421.000</td>\n",
       "      <td>1,421.000</td>\n",
       "      <td>1,421.000</td>\n",
       "      <td>1,421.000</td>\n",
       "    </tr>\n",
       "    <tr>\n",
       "      <th>mean</th>\n",
       "      <td>0.252</td>\n",
       "      <td>1.396</td>\n",
       "      <td>0.335</td>\n",
       "      <td>0.243</td>\n",
       "      <td>1.572</td>\n",
       "      <td>0.303</td>\n",
       "    </tr>\n",
       "    <tr>\n",
       "      <th>std</th>\n",
       "      <td>0.289</td>\n",
       "      <td>1.630</td>\n",
       "      <td>0.314</td>\n",
       "      <td>0.294</td>\n",
       "      <td>1.820</td>\n",
       "      <td>0.318</td>\n",
       "    </tr>\n",
       "    <tr>\n",
       "      <th>min</th>\n",
       "      <td>0.000</td>\n",
       "      <td>0.000</td>\n",
       "      <td>0.000</td>\n",
       "      <td>0.000</td>\n",
       "      <td>0.001</td>\n",
       "      <td>0.000</td>\n",
       "    </tr>\n",
       "    <tr>\n",
       "      <th>25%</th>\n",
       "      <td>0.013</td>\n",
       "      <td>0.363</td>\n",
       "      <td>0.041</td>\n",
       "      <td>0.007</td>\n",
       "      <td>0.360</td>\n",
       "      <td>0.020</td>\n",
       "    </tr>\n",
       "    <tr>\n",
       "      <th>50%</th>\n",
       "      <td>0.126</td>\n",
       "      <td>0.899</td>\n",
       "      <td>0.250</td>\n",
       "      <td>0.095</td>\n",
       "      <td>1.022</td>\n",
       "      <td>0.174</td>\n",
       "    </tr>\n",
       "    <tr>\n",
       "      <th>75%</th>\n",
       "      <td>0.433</td>\n",
       "      <td>1.902</td>\n",
       "      <td>0.593</td>\n",
       "      <td>0.437</td>\n",
       "      <td>2.138</td>\n",
       "      <td>0.568</td>\n",
       "    </tr>\n",
       "    <tr>\n",
       "      <th>max</th>\n",
       "      <td>0.999</td>\n",
       "      <td>23.355</td>\n",
       "      <td>1.000</td>\n",
       "      <td>0.999</td>\n",
       "      <td>20.501</td>\n",
       "      <td>0.999</td>\n",
       "    </tr>\n",
       "  </tbody>\n",
       "</table>\n",
       "</div>"
      ],
      "text/plain": [
       "model        PI                               VAE                        \n",
       "var       p-unc -Log10 pvalue    qvalue     p-unc -Log10 pvalue    qvalue\n",
       "count 1,421.000     1,421.000 1,421.000 1,421.000     1,421.000 1,421.000\n",
       "mean      0.252         1.396     0.335     0.243         1.572     0.303\n",
       "std       0.289         1.630     0.314     0.294         1.820     0.318\n",
       "min       0.000         0.000     0.000     0.000         0.001     0.000\n",
       "25%       0.013         0.363     0.041     0.007         0.360     0.020\n",
       "50%       0.126         0.899     0.250     0.095         1.022     0.174\n",
       "75%       0.433         1.902     0.593     0.437         2.138     0.568\n",
       "max       0.999        23.355     1.000     0.999        20.501     0.999"
      ]
     },
     "execution_count": 12,
     "metadata": {},
     "output_type": "execute_result"
    }
   ],
   "source": [
    "scores.describe()"
   ]
  },
  {
   "cell_type": "markdown",
   "id": "e520d6dc",
   "metadata": {
    "papermill": {
     "duration": 0.016113,
     "end_time": "2024-06-28T11:04:20.322984",
     "exception": false,
     "start_time": "2024-06-28T11:04:20.306871",
     "status": "completed"
    },
    "tags": []
   },
   "source": [
    "and the boolean decision values"
   ]
  },
  {
   "cell_type": "code",
   "execution_count": 13,
   "id": "53bd5597-221c-4d54-abf2-82956db42594",
   "metadata": {
    "execution": {
     "iopub.execute_input": "2024-06-28T11:04:20.355252Z",
     "iopub.status.busy": "2024-06-28T11:04:20.354909Z",
     "iopub.status.idle": "2024-06-28T11:04:20.380338Z",
     "shell.execute_reply": "2024-06-28T11:04:20.379625Z"
    },
    "lines_to_next_cell": 2,
    "papermill": {
     "duration": 0.043668,
     "end_time": "2024-06-28T11:04:20.382111",
     "exception": false,
     "start_time": "2024-06-28T11:04:20.338443",
     "status": "completed"
    },
    "tags": [
     "hide-input"
    ]
   },
   "outputs": [
    {
     "data": {
      "text/html": [
       "<div>\n",
       "<style scoped>\n",
       "    .dataframe tbody tr th:only-of-type {\n",
       "        vertical-align: middle;\n",
       "    }\n",
       "\n",
       "    .dataframe tbody tr th {\n",
       "        vertical-align: top;\n",
       "    }\n",
       "\n",
       "    .dataframe thead tr th {\n",
       "        text-align: left;\n",
       "    }\n",
       "</style>\n",
       "<table border=\"1\" class=\"dataframe\">\n",
       "  <thead>\n",
       "    <tr>\n",
       "      <th>model</th>\n",
       "      <th>PI</th>\n",
       "      <th>VAE</th>\n",
       "    </tr>\n",
       "    <tr>\n",
       "      <th>var</th>\n",
       "      <th>rejected</th>\n",
       "      <th>rejected</th>\n",
       "    </tr>\n",
       "  </thead>\n",
       "  <tbody>\n",
       "    <tr>\n",
       "      <th>count</th>\n",
       "      <td>1421</td>\n",
       "      <td>1421</td>\n",
       "    </tr>\n",
       "    <tr>\n",
       "      <th>unique</th>\n",
       "      <td>2</td>\n",
       "      <td>2</td>\n",
       "    </tr>\n",
       "    <tr>\n",
       "      <th>top</th>\n",
       "      <td>False</td>\n",
       "      <td>False</td>\n",
       "    </tr>\n",
       "    <tr>\n",
       "      <th>freq</th>\n",
       "      <td>1042</td>\n",
       "      <td>942</td>\n",
       "    </tr>\n",
       "  </tbody>\n",
       "</table>\n",
       "</div>"
      ],
      "text/plain": [
       "model        PI      VAE\n",
       "var    rejected rejected\n",
       "count      1421     1421\n",
       "unique        2        2\n",
       "top       False    False\n",
       "freq       1042      942"
      ]
     },
     "execution_count": 13,
     "metadata": {},
     "output_type": "execute_result"
    }
   ],
   "source": [
    "scores.describe(include=['bool', 'O'])"
   ]
  },
  {
   "cell_type": "markdown",
   "id": "bef83742-05e5-473b-892e-dd286cb3a31f",
   "metadata": {
    "papermill": {
     "duration": 0.025957,
     "end_time": "2024-06-28T11:04:20.434642",
     "exception": false,
     "start_time": "2024-06-28T11:04:20.408685",
     "status": "completed"
    },
    "tags": []
   },
   "source": [
    "## Load frequencies of observed features"
   ]
  },
  {
   "cell_type": "code",
   "execution_count": 14,
   "id": "2a926ba1-0f3b-4089-a349-b6d66128cf37",
   "metadata": {
    "execution": {
     "iopub.execute_input": "2024-06-28T11:04:20.476320Z",
     "iopub.status.busy": "2024-06-28T11:04:20.475954Z",
     "iopub.status.idle": "2024-06-28T11:04:20.494289Z",
     "shell.execute_reply": "2024-06-28T11:04:20.493530Z"
    },
    "papermill": {
     "duration": 0.037563,
     "end_time": "2024-06-28T11:04:20.496257",
     "exception": false,
     "start_time": "2024-06-28T11:04:20.458694",
     "status": "completed"
    },
    "tags": [
     "hide-input"
    ]
   },
   "outputs": [
    {
     "data": {
      "text/html": [
       "<div>\n",
       "<style scoped>\n",
       "    .dataframe tbody tr th:only-of-type {\n",
       "        vertical-align: middle;\n",
       "    }\n",
       "\n",
       "    .dataframe tbody tr th {\n",
       "        vertical-align: top;\n",
       "    }\n",
       "\n",
       "    .dataframe thead tr th {\n",
       "        text-align: left;\n",
       "    }\n",
       "\n",
       "    .dataframe thead tr:last-of-type th {\n",
       "        text-align: right;\n",
       "    }\n",
       "</style>\n",
       "<table border=\"1\" class=\"dataframe\">\n",
       "  <thead>\n",
       "    <tr>\n",
       "      <th></th>\n",
       "      <th>data</th>\n",
       "    </tr>\n",
       "    <tr>\n",
       "      <th></th>\n",
       "      <th>frequency</th>\n",
       "    </tr>\n",
       "    <tr>\n",
       "      <th>protein groups</th>\n",
       "      <th></th>\n",
       "    </tr>\n",
       "  </thead>\n",
       "  <tbody>\n",
       "    <tr>\n",
       "      <th>A0A024QZX5;A0A087X1N8;P35237</th>\n",
       "      <td>186</td>\n",
       "    </tr>\n",
       "    <tr>\n",
       "      <th>A0A024R0T9;K7ER74;P02655</th>\n",
       "      <td>195</td>\n",
       "    </tr>\n",
       "    <tr>\n",
       "      <th>A0A024R3W6;A0A024R412;O60462;O60462-2;O60462-3;O60462-4;O60462-5;Q7LBX6;X5D2Q8</th>\n",
       "      <td>174</td>\n",
       "    </tr>\n",
       "    <tr>\n",
       "      <th>A0A024R644;A0A0A0MRU5;A0A1B0GWI2;O75503</th>\n",
       "      <td>196</td>\n",
       "    </tr>\n",
       "    <tr>\n",
       "      <th>A0A075B6H7</th>\n",
       "      <td>91</td>\n",
       "    </tr>\n",
       "    <tr>\n",
       "      <th>...</th>\n",
       "      <td>...</td>\n",
       "    </tr>\n",
       "    <tr>\n",
       "      <th>Q9Y6R7</th>\n",
       "      <td>197</td>\n",
       "    </tr>\n",
       "    <tr>\n",
       "      <th>Q9Y6X5</th>\n",
       "      <td>173</td>\n",
       "    </tr>\n",
       "    <tr>\n",
       "      <th>Q9Y6Y8;Q9Y6Y8-2</th>\n",
       "      <td>197</td>\n",
       "    </tr>\n",
       "    <tr>\n",
       "      <th>Q9Y6Y9</th>\n",
       "      <td>119</td>\n",
       "    </tr>\n",
       "    <tr>\n",
       "      <th>S4R3U6</th>\n",
       "      <td>126</td>\n",
       "    </tr>\n",
       "  </tbody>\n",
       "</table>\n",
       "<p>1421 rows × 1 columns</p>\n",
       "</div>"
      ],
      "text/plain": [
       "                                                        data\n",
       "                                                   frequency\n",
       "protein groups                                              \n",
       "A0A024QZX5;A0A087X1N8;P35237                             186\n",
       "A0A024R0T9;K7ER74;P02655                                 195\n",
       "A0A024R3W6;A0A024R412;O60462;O60462-2;O60462-3;...       174\n",
       "A0A024R644;A0A0A0MRU5;A0A1B0GWI2;O75503                  196\n",
       "A0A075B6H7                                                91\n",
       "...                                                      ...\n",
       "Q9Y6R7                                                   197\n",
       "Q9Y6X5                                                   173\n",
       "Q9Y6Y8;Q9Y6Y8-2                                          197\n",
       "Q9Y6Y9                                                   119\n",
       "S4R3U6                                                   126\n",
       "\n",
       "[1421 rows x 1 columns]"
      ]
     },
     "execution_count": 14,
     "metadata": {},
     "output_type": "execute_result"
    }
   ],
   "source": [
    "freq_feat = pd.read_csv(args.freq_features_observed, index_col=0)\n",
    "freq_feat.columns = pd.MultiIndex.from_tuples([('data', 'frequency'),])\n",
    "freq_feat"
   ]
  },
  {
   "cell_type": "markdown",
   "id": "408eacfe-770f-42ff-9057-2a98274e1ae3",
   "metadata": {
    "papermill": {
     "duration": 0.059533,
     "end_time": "2024-06-28T11:04:20.608498",
     "exception": false,
     "start_time": "2024-06-28T11:04:20.548965",
     "status": "completed"
    },
    "tags": []
   },
   "source": [
    "## Compare shared features"
   ]
  },
  {
   "cell_type": "code",
   "execution_count": 15,
   "id": "5b2dfb0f-195b-4044-a228-2d784ea2a458",
   "metadata": {
    "execution": {
     "iopub.execute_input": "2024-06-28T11:04:20.698211Z",
     "iopub.status.busy": "2024-06-28T11:04:20.697850Z",
     "iopub.status.idle": "2024-06-28T11:04:20.755885Z",
     "shell.execute_reply": "2024-06-28T11:04:20.752027Z"
    },
    "papermill": {
     "duration": 0.112404,
     "end_time": "2024-06-28T11:04:20.757857",
     "exception": false,
     "start_time": "2024-06-28T11:04:20.645453",
     "status": "completed"
    },
    "tags": [
     "hide-input"
    ]
   },
   "outputs": [
    {
     "data": {
      "text/html": [
       "<div>\n",
       "<style scoped>\n",
       "    .dataframe tbody tr th:only-of-type {\n",
       "        vertical-align: middle;\n",
       "    }\n",
       "\n",
       "    .dataframe tbody tr th {\n",
       "        vertical-align: top;\n",
       "    }\n",
       "\n",
       "    .dataframe thead tr th {\n",
       "        text-align: left;\n",
       "    }\n",
       "\n",
       "    .dataframe thead tr:last-of-type th {\n",
       "        text-align: right;\n",
       "    }\n",
       "</style>\n",
       "<table border=\"1\" class=\"dataframe\">\n",
       "  <thead>\n",
       "    <tr>\n",
       "      <th></th>\n",
       "      <th colspan=\"4\" halign=\"left\">PI</th>\n",
       "      <th colspan=\"4\" halign=\"left\">VAE</th>\n",
       "      <th>data</th>\n",
       "    </tr>\n",
       "    <tr>\n",
       "      <th></th>\n",
       "      <th>p-unc</th>\n",
       "      <th>-Log10 pvalue</th>\n",
       "      <th>qvalue</th>\n",
       "      <th>rejected</th>\n",
       "      <th>p-unc</th>\n",
       "      <th>-Log10 pvalue</th>\n",
       "      <th>qvalue</th>\n",
       "      <th>rejected</th>\n",
       "      <th>frequency</th>\n",
       "    </tr>\n",
       "    <tr>\n",
       "      <th>protein groups</th>\n",
       "      <th></th>\n",
       "      <th></th>\n",
       "      <th></th>\n",
       "      <th></th>\n",
       "      <th></th>\n",
       "      <th></th>\n",
       "      <th></th>\n",
       "      <th></th>\n",
       "      <th></th>\n",
       "    </tr>\n",
       "  </thead>\n",
       "  <tbody>\n",
       "    <tr>\n",
       "      <th>A0A024QZX5;A0A087X1N8;P35237</th>\n",
       "      <td>0.759</td>\n",
       "      <td>0.120</td>\n",
       "      <td>0.850</td>\n",
       "      <td>False</td>\n",
       "      <td>0.007</td>\n",
       "      <td>2.184</td>\n",
       "      <td>0.019</td>\n",
       "      <td>True</td>\n",
       "      <td>186</td>\n",
       "    </tr>\n",
       "    <tr>\n",
       "      <th>A0A024R0T9;K7ER74;P02655</th>\n",
       "      <td>0.036</td>\n",
       "      <td>1.450</td>\n",
       "      <td>0.093</td>\n",
       "      <td>False</td>\n",
       "      <td>0.032</td>\n",
       "      <td>1.495</td>\n",
       "      <td>0.071</td>\n",
       "      <td>False</td>\n",
       "      <td>195</td>\n",
       "    </tr>\n",
       "    <tr>\n",
       "      <th>A0A024R3W6;A0A024R412;O60462;O60462-2;O60462-3;O60462-4;O60462-5;Q7LBX6;X5D2Q8</th>\n",
       "      <td>0.070</td>\n",
       "      <td>1.158</td>\n",
       "      <td>0.158</td>\n",
       "      <td>False</td>\n",
       "      <td>0.380</td>\n",
       "      <td>0.420</td>\n",
       "      <td>0.512</td>\n",
       "      <td>False</td>\n",
       "      <td>174</td>\n",
       "    </tr>\n",
       "    <tr>\n",
       "      <th>A0A024R644;A0A0A0MRU5;A0A1B0GWI2;O75503</th>\n",
       "      <td>0.491</td>\n",
       "      <td>0.309</td>\n",
       "      <td>0.644</td>\n",
       "      <td>False</td>\n",
       "      <td>0.255</td>\n",
       "      <td>0.593</td>\n",
       "      <td>0.380</td>\n",
       "      <td>False</td>\n",
       "      <td>196</td>\n",
       "    </tr>\n",
       "    <tr>\n",
       "      <th>A0A075B6H7</th>\n",
       "      <td>0.169</td>\n",
       "      <td>0.773</td>\n",
       "      <td>0.307</td>\n",
       "      <td>False</td>\n",
       "      <td>0.003</td>\n",
       "      <td>2.512</td>\n",
       "      <td>0.010</td>\n",
       "      <td>True</td>\n",
       "      <td>91</td>\n",
       "    </tr>\n",
       "    <tr>\n",
       "      <th>...</th>\n",
       "      <td>...</td>\n",
       "      <td>...</td>\n",
       "      <td>...</td>\n",
       "      <td>...</td>\n",
       "      <td>...</td>\n",
       "      <td>...</td>\n",
       "      <td>...</td>\n",
       "      <td>...</td>\n",
       "      <td>...</td>\n",
       "    </tr>\n",
       "    <tr>\n",
       "      <th>Q9Y6R7</th>\n",
       "      <td>0.175</td>\n",
       "      <td>0.756</td>\n",
       "      <td>0.317</td>\n",
       "      <td>False</td>\n",
       "      <td>0.175</td>\n",
       "      <td>0.756</td>\n",
       "      <td>0.283</td>\n",
       "      <td>False</td>\n",
       "      <td>197</td>\n",
       "    </tr>\n",
       "    <tr>\n",
       "      <th>Q9Y6X5</th>\n",
       "      <td>0.158</td>\n",
       "      <td>0.802</td>\n",
       "      <td>0.292</td>\n",
       "      <td>False</td>\n",
       "      <td>0.214</td>\n",
       "      <td>0.669</td>\n",
       "      <td>0.332</td>\n",
       "      <td>False</td>\n",
       "      <td>173</td>\n",
       "    </tr>\n",
       "    <tr>\n",
       "      <th>Q9Y6Y8;Q9Y6Y8-2</th>\n",
       "      <td>0.083</td>\n",
       "      <td>1.079</td>\n",
       "      <td>0.183</td>\n",
       "      <td>False</td>\n",
       "      <td>0.083</td>\n",
       "      <td>1.079</td>\n",
       "      <td>0.157</td>\n",
       "      <td>False</td>\n",
       "      <td>197</td>\n",
       "    </tr>\n",
       "    <tr>\n",
       "      <th>Q9Y6Y9</th>\n",
       "      <td>0.331</td>\n",
       "      <td>0.480</td>\n",
       "      <td>0.494</td>\n",
       "      <td>False</td>\n",
       "      <td>0.514</td>\n",
       "      <td>0.289</td>\n",
       "      <td>0.636</td>\n",
       "      <td>False</td>\n",
       "      <td>119</td>\n",
       "    </tr>\n",
       "    <tr>\n",
       "      <th>S4R3U6</th>\n",
       "      <td>0.441</td>\n",
       "      <td>0.356</td>\n",
       "      <td>0.600</td>\n",
       "      <td>False</td>\n",
       "      <td>0.054</td>\n",
       "      <td>1.268</td>\n",
       "      <td>0.109</td>\n",
       "      <td>False</td>\n",
       "      <td>126</td>\n",
       "    </tr>\n",
       "  </tbody>\n",
       "</table>\n",
       "<p>1421 rows × 9 columns</p>\n",
       "</div>"
      ],
      "text/plain": [
       "                                                      PI                       \\\n",
       "                                                   p-unc -Log10 pvalue qvalue   \n",
       "protein groups                                                                  \n",
       "A0A024QZX5;A0A087X1N8;P35237                       0.759         0.120  0.850   \n",
       "A0A024R0T9;K7ER74;P02655                           0.036         1.450  0.093   \n",
       "A0A024R3W6;A0A024R412;O60462;O60462-2;O60462-3;... 0.070         1.158  0.158   \n",
       "A0A024R644;A0A0A0MRU5;A0A1B0GWI2;O75503            0.491         0.309  0.644   \n",
       "A0A075B6H7                                         0.169         0.773  0.307   \n",
       "...                                                  ...           ...    ...   \n",
       "Q9Y6R7                                             0.175         0.756  0.317   \n",
       "Q9Y6X5                                             0.158         0.802  0.292   \n",
       "Q9Y6Y8;Q9Y6Y8-2                                    0.083         1.079  0.183   \n",
       "Q9Y6Y9                                             0.331         0.480  0.494   \n",
       "S4R3U6                                             0.441         0.356  0.600   \n",
       "\n",
       "                                                              VAE  \\\n",
       "                                                   rejected p-unc   \n",
       "protein groups                                                      \n",
       "A0A024QZX5;A0A087X1N8;P35237                          False 0.007   \n",
       "A0A024R0T9;K7ER74;P02655                              False 0.032   \n",
       "A0A024R3W6;A0A024R412;O60462;O60462-2;O60462-3;...    False 0.380   \n",
       "A0A024R644;A0A0A0MRU5;A0A1B0GWI2;O75503               False 0.255   \n",
       "A0A075B6H7                                            False 0.003   \n",
       "...                                                     ...   ...   \n",
       "Q9Y6R7                                                False 0.175   \n",
       "Q9Y6X5                                                False 0.214   \n",
       "Q9Y6Y8;Q9Y6Y8-2                                       False 0.083   \n",
       "Q9Y6Y9                                                False 0.514   \n",
       "S4R3U6                                                False 0.054   \n",
       "\n",
       "                                                                         \\\n",
       "                                                   -Log10 pvalue qvalue   \n",
       "protein groups                                                            \n",
       "A0A024QZX5;A0A087X1N8;P35237                               2.184  0.019   \n",
       "A0A024R0T9;K7ER74;P02655                                   1.495  0.071   \n",
       "A0A024R3W6;A0A024R412;O60462;O60462-2;O60462-3;...         0.420  0.512   \n",
       "A0A024R644;A0A0A0MRU5;A0A1B0GWI2;O75503                    0.593  0.380   \n",
       "A0A075B6H7                                                 2.512  0.010   \n",
       "...                                                          ...    ...   \n",
       "Q9Y6R7                                                     0.756  0.283   \n",
       "Q9Y6X5                                                     0.669  0.332   \n",
       "Q9Y6Y8;Q9Y6Y8-2                                            1.079  0.157   \n",
       "Q9Y6Y9                                                     0.289  0.636   \n",
       "S4R3U6                                                     1.268  0.109   \n",
       "\n",
       "                                                                 data  \n",
       "                                                   rejected frequency  \n",
       "protein groups                                                         \n",
       "A0A024QZX5;A0A087X1N8;P35237                           True       186  \n",
       "A0A024R0T9;K7ER74;P02655                              False       195  \n",
       "A0A024R3W6;A0A024R412;O60462;O60462-2;O60462-3;...    False       174  \n",
       "A0A024R644;A0A0A0MRU5;A0A1B0GWI2;O75503               False       196  \n",
       "A0A075B6H7                                             True        91  \n",
       "...                                                     ...       ...  \n",
       "Q9Y6R7                                                False       197  \n",
       "Q9Y6X5                                                False       173  \n",
       "Q9Y6Y8;Q9Y6Y8-2                                       False       197  \n",
       "Q9Y6Y9                                                False       119  \n",
       "S4R3U6                                                False       126  \n",
       "\n",
       "[1421 rows x 9 columns]"
      ]
     },
     "execution_count": 15,
     "metadata": {},
     "output_type": "execute_result"
    }
   ],
   "source": [
    "scores_common = (scores\n",
    "                 .dropna()\n",
    "                 .reset_index(-1, drop=True)\n",
    "                 ).join(\n",
    "    freq_feat, how='left'\n",
    ")\n",
    "scores_common"
   ]
  },
  {
   "cell_type": "markdown",
   "id": "62a9eefd",
   "metadata": {
    "papermill": {
     "duration": 0.021456,
     "end_time": "2024-06-28T11:04:20.807453",
     "exception": false,
     "start_time": "2024-06-28T11:04:20.785997",
     "status": "completed"
    },
    "tags": []
   },
   "source": [
    "### Annotate decisions in Confusion Table style:"
   ]
  },
  {
   "cell_type": "code",
   "execution_count": 16,
   "id": "80cf4145-070d-457a-bb74-ee64299809e7",
   "metadata": {
    "execution": {
     "iopub.execute_input": "2024-06-28T11:04:20.842455Z",
     "iopub.status.busy": "2024-06-28T11:04:20.842011Z",
     "iopub.status.idle": "2024-06-28T11:04:20.870475Z",
     "shell.execute_reply": "2024-06-28T11:04:20.869711Z"
    },
    "papermill": {
     "duration": 0.058527,
     "end_time": "2024-06-28T11:04:20.882688",
     "exception": false,
     "start_time": "2024-06-28T11:04:20.824161",
     "status": "completed"
    },
    "tags": [
     "hide-input"
    ]
   },
   "outputs": [
    {
     "data": {
      "text/plain": [
       "Differential Analysis Comparison\n",
       "PI (no)  - VAE (no)    890\n",
       "PI (yes) - VAE (yes)   327\n",
       "PI (no)  - VAE (yes)   152\n",
       "PI (yes) - VAE (no)     52\n",
       "Name: count, dtype: int64"
      ]
     },
     "execution_count": 16,
     "metadata": {},
     "output_type": "execute_result"
    }
   ],
   "source": [
    "def annotate_decision(scores, model, model_column):\n",
    "    return scores[(model_column, 'rejected')].replace({False: f'{model} (no) ', True: f'{model} (yes)'})\n",
    "\n",
    "\n",
    "annotations = None\n",
    "for model, model_column in models.items():\n",
    "    if annotations is not None:\n",
    "        annotations += ' - '\n",
    "        annotations += annotate_decision(scores_common,\n",
    "                                         model=model, model_column=model_column)\n",
    "    else:\n",
    "        annotations = annotate_decision(\n",
    "            scores_common, model=model, model_column=model_column)\n",
    "annotations.name = 'Differential Analysis Comparison'\n",
    "annotations.value_counts()"
   ]
  },
  {
   "cell_type": "markdown",
   "id": "0942d395",
   "metadata": {
    "papermill": {
     "duration": 0.034203,
     "end_time": "2024-06-28T11:04:20.945838",
     "exception": false,
     "start_time": "2024-06-28T11:04:20.911635",
     "status": "completed"
    },
    "tags": []
   },
   "source": [
    "### List different decisions between models"
   ]
  },
  {
   "cell_type": "code",
   "execution_count": 17,
   "id": "cda5ffa4-9a97-4a49-aaba-34e83ef7940a",
   "metadata": {
    "execution": {
     "iopub.execute_input": "2024-06-28T11:04:21.029009Z",
     "iopub.status.busy": "2024-06-28T11:04:21.028657Z",
     "iopub.status.idle": "2024-06-28T11:04:21.236540Z",
     "shell.execute_reply": "2024-06-28T11:04:21.235640Z"
    },
    "papermill": {
     "duration": 0.242981,
     "end_time": "2024-06-28T11:04:21.238654",
     "exception": false,
     "start_time": "2024-06-28T11:04:20.995673",
     "status": "completed"
    },
    "tags": [
     "hide-input"
    ]
   },
   "outputs": [
    {
     "name": "stderr",
     "output_type": "stream",
     "text": [
      "root - INFO     Writen to Excel file under sheet 'differences'.\n"
     ]
    },
    {
     "data": {
      "text/html": [
       "<div>\n",
       "<style scoped>\n",
       "    .dataframe tbody tr th:only-of-type {\n",
       "        vertical-align: middle;\n",
       "    }\n",
       "\n",
       "    .dataframe tbody tr th {\n",
       "        vertical-align: top;\n",
       "    }\n",
       "\n",
       "    .dataframe thead tr th {\n",
       "        text-align: left;\n",
       "    }\n",
       "\n",
       "    .dataframe thead tr:last-of-type th {\n",
       "        text-align: right;\n",
       "    }\n",
       "</style>\n",
       "<table border=\"1\" class=\"dataframe\">\n",
       "  <thead>\n",
       "    <tr>\n",
       "      <th></th>\n",
       "      <th colspan=\"4\" halign=\"left\">PI</th>\n",
       "      <th colspan=\"4\" halign=\"left\">VAE</th>\n",
       "      <th>data</th>\n",
       "    </tr>\n",
       "    <tr>\n",
       "      <th></th>\n",
       "      <th>p-unc</th>\n",
       "      <th>-Log10 pvalue</th>\n",
       "      <th>qvalue</th>\n",
       "      <th>rejected</th>\n",
       "      <th>p-unc</th>\n",
       "      <th>-Log10 pvalue</th>\n",
       "      <th>qvalue</th>\n",
       "      <th>rejected</th>\n",
       "      <th>frequency</th>\n",
       "    </tr>\n",
       "    <tr>\n",
       "      <th>protein groups</th>\n",
       "      <th></th>\n",
       "      <th></th>\n",
       "      <th></th>\n",
       "      <th></th>\n",
       "      <th></th>\n",
       "      <th></th>\n",
       "      <th></th>\n",
       "      <th></th>\n",
       "      <th></th>\n",
       "    </tr>\n",
       "  </thead>\n",
       "  <tbody>\n",
       "    <tr>\n",
       "      <th>A0A024QZX5;A0A087X1N8;P35237</th>\n",
       "      <td>0.759</td>\n",
       "      <td>0.120</td>\n",
       "      <td>0.850</td>\n",
       "      <td>False</td>\n",
       "      <td>0.007</td>\n",
       "      <td>2.184</td>\n",
       "      <td>0.019</td>\n",
       "      <td>True</td>\n",
       "      <td>186</td>\n",
       "    </tr>\n",
       "    <tr>\n",
       "      <th>A0A075B6H7</th>\n",
       "      <td>0.169</td>\n",
       "      <td>0.773</td>\n",
       "      <td>0.307</td>\n",
       "      <td>False</td>\n",
       "      <td>0.003</td>\n",
       "      <td>2.512</td>\n",
       "      <td>0.010</td>\n",
       "      <td>True</td>\n",
       "      <td>91</td>\n",
       "    </tr>\n",
       "    <tr>\n",
       "      <th>A0A075B6I0</th>\n",
       "      <td>0.017</td>\n",
       "      <td>1.762</td>\n",
       "      <td>0.053</td>\n",
       "      <td>False</td>\n",
       "      <td>0.001</td>\n",
       "      <td>3.198</td>\n",
       "      <td>0.002</td>\n",
       "      <td>True</td>\n",
       "      <td>194</td>\n",
       "    </tr>\n",
       "    <tr>\n",
       "      <th>A0A075B6J9</th>\n",
       "      <td>0.075</td>\n",
       "      <td>1.122</td>\n",
       "      <td>0.168</td>\n",
       "      <td>False</td>\n",
       "      <td>0.013</td>\n",
       "      <td>1.881</td>\n",
       "      <td>0.034</td>\n",
       "      <td>True</td>\n",
       "      <td>156</td>\n",
       "    </tr>\n",
       "    <tr>\n",
       "      <th>A0A075B6Q5</th>\n",
       "      <td>0.696</td>\n",
       "      <td>0.157</td>\n",
       "      <td>0.807</td>\n",
       "      <td>False</td>\n",
       "      <td>0.004</td>\n",
       "      <td>2.388</td>\n",
       "      <td>0.012</td>\n",
       "      <td>True</td>\n",
       "      <td>104</td>\n",
       "    </tr>\n",
       "    <tr>\n",
       "      <th>...</th>\n",
       "      <td>...</td>\n",
       "      <td>...</td>\n",
       "      <td>...</td>\n",
       "      <td>...</td>\n",
       "      <td>...</td>\n",
       "      <td>...</td>\n",
       "      <td>...</td>\n",
       "      <td>...</td>\n",
       "      <td>...</td>\n",
       "    </tr>\n",
       "    <tr>\n",
       "      <th>Q9UKB5</th>\n",
       "      <td>0.013</td>\n",
       "      <td>1.902</td>\n",
       "      <td>0.041</td>\n",
       "      <td>True</td>\n",
       "      <td>0.129</td>\n",
       "      <td>0.891</td>\n",
       "      <td>0.221</td>\n",
       "      <td>False</td>\n",
       "      <td>148</td>\n",
       "    </tr>\n",
       "    <tr>\n",
       "      <th>Q9ULP0-3;Q9ULP0-6</th>\n",
       "      <td>0.031</td>\n",
       "      <td>1.516</td>\n",
       "      <td>0.083</td>\n",
       "      <td>False</td>\n",
       "      <td>0.000</td>\n",
       "      <td>3.769</td>\n",
       "      <td>0.001</td>\n",
       "      <td>True</td>\n",
       "      <td>136</td>\n",
       "    </tr>\n",
       "    <tr>\n",
       "      <th>Q9UP79</th>\n",
       "      <td>0.542</td>\n",
       "      <td>0.266</td>\n",
       "      <td>0.686</td>\n",
       "      <td>False</td>\n",
       "      <td>0.000</td>\n",
       "      <td>4.541</td>\n",
       "      <td>0.000</td>\n",
       "      <td>True</td>\n",
       "      <td>135</td>\n",
       "    </tr>\n",
       "    <tr>\n",
       "      <th>Q9UQ52</th>\n",
       "      <td>0.078</td>\n",
       "      <td>1.108</td>\n",
       "      <td>0.173</td>\n",
       "      <td>False</td>\n",
       "      <td>0.001</td>\n",
       "      <td>3.238</td>\n",
       "      <td>0.002</td>\n",
       "      <td>True</td>\n",
       "      <td>188</td>\n",
       "    </tr>\n",
       "    <tr>\n",
       "      <th>Q9Y6C2</th>\n",
       "      <td>0.844</td>\n",
       "      <td>0.074</td>\n",
       "      <td>0.911</td>\n",
       "      <td>False</td>\n",
       "      <td>0.014</td>\n",
       "      <td>1.850</td>\n",
       "      <td>0.036</td>\n",
       "      <td>True</td>\n",
       "      <td>119</td>\n",
       "    </tr>\n",
       "  </tbody>\n",
       "</table>\n",
       "<p>204 rows × 9 columns</p>\n",
       "</div>"
      ],
      "text/plain": [
       "                                PI                                 VAE  \\\n",
       "                             p-unc -Log10 pvalue qvalue rejected p-unc   \n",
       "protein groups                                                           \n",
       "A0A024QZX5;A0A087X1N8;P35237 0.759         0.120  0.850    False 0.007   \n",
       "A0A075B6H7                   0.169         0.773  0.307    False 0.003   \n",
       "A0A075B6I0                   0.017         1.762  0.053    False 0.001   \n",
       "A0A075B6J9                   0.075         1.122  0.168    False 0.013   \n",
       "A0A075B6Q5                   0.696         0.157  0.807    False 0.004   \n",
       "...                            ...           ...    ...      ...   ...   \n",
       "Q9UKB5                       0.013         1.902  0.041     True 0.129   \n",
       "Q9ULP0-3;Q9ULP0-6            0.031         1.516  0.083    False 0.000   \n",
       "Q9UP79                       0.542         0.266  0.686    False 0.000   \n",
       "Q9UQ52                       0.078         1.108  0.173    False 0.001   \n",
       "Q9Y6C2                       0.844         0.074  0.911    False 0.014   \n",
       "\n",
       "                                                                data  \n",
       "                             -Log10 pvalue qvalue rejected frequency  \n",
       "protein groups                                                        \n",
       "A0A024QZX5;A0A087X1N8;P35237         2.184  0.019     True       186  \n",
       "A0A075B6H7                           2.512  0.010     True        91  \n",
       "A0A075B6I0                           3.198  0.002     True       194  \n",
       "A0A075B6J9                           1.881  0.034     True       156  \n",
       "A0A075B6Q5                           2.388  0.012     True       104  \n",
       "...                                    ...    ...      ...       ...  \n",
       "Q9UKB5                               0.891  0.221    False       148  \n",
       "Q9ULP0-3;Q9ULP0-6                    3.769  0.001     True       136  \n",
       "Q9UP79                               4.541  0.000     True       135  \n",
       "Q9UQ52                               3.238  0.002     True       188  \n",
       "Q9Y6C2                               1.850  0.036     True       119  \n",
       "\n",
       "[204 rows x 9 columns]"
      ]
     },
     "execution_count": 17,
     "metadata": {},
     "output_type": "execute_result"
    }
   ],
   "source": [
    "mask_different = (\n",
    "    (scores_common.loc[:, pd.IndexSlice[:, 'rejected']].any(axis=1))\n",
    "    & ~(scores_common.loc[:, pd.IndexSlice[:, 'rejected']].all(axis=1))\n",
    ")\n",
    "_to_write = scores_common.loc[mask_different]\n",
    "_to_write.to_excel(writer, 'differences', **writer_args)\n",
    "logger.info(\"Writen to Excel file under sheet 'differences'.\")\n",
    "_to_write"
   ]
  },
  {
   "cell_type": "markdown",
   "id": "e8832084",
   "metadata": {
    "papermill": {
     "duration": 0.056264,
     "end_time": "2024-06-28T11:04:21.335083",
     "exception": false,
     "start_time": "2024-06-28T11:04:21.278819",
     "status": "completed"
    },
    "tags": []
   },
   "source": [
    "## Plot qvalues of both models with annotated decisions\n",
    "\n",
    "Prepare data for plotting (qvalues)"
   ]
  },
  {
   "cell_type": "code",
   "execution_count": 18,
   "id": "5b2e5341-b054-40c3-b45a-44ae6ca46cfb",
   "metadata": {
    "execution": {
     "iopub.execute_input": "2024-06-28T11:04:21.458745Z",
     "iopub.status.busy": "2024-06-28T11:04:21.458394Z",
     "iopub.status.idle": "2024-06-28T11:04:21.496516Z",
     "shell.execute_reply": "2024-06-28T11:04:21.495636Z"
    },
    "papermill": {
     "duration": 0.107589,
     "end_time": "2024-06-28T11:04:21.499037",
     "exception": false,
     "start_time": "2024-06-28T11:04:21.391448",
     "status": "completed"
    },
    "tags": [
     "hide-input"
    ]
   },
   "outputs": [
    {
     "data": {
      "text/html": [
       "<div>\n",
       "<style scoped>\n",
       "    .dataframe tbody tr th:only-of-type {\n",
       "        vertical-align: middle;\n",
       "    }\n",
       "\n",
       "    .dataframe tbody tr th {\n",
       "        vertical-align: top;\n",
       "    }\n",
       "\n",
       "    .dataframe thead th {\n",
       "        text-align: right;\n",
       "    }\n",
       "</style>\n",
       "<table border=\"1\" class=\"dataframe\">\n",
       "  <thead>\n",
       "    <tr style=\"text-align: right;\">\n",
       "      <th></th>\n",
       "      <th>PI</th>\n",
       "      <th>VAE</th>\n",
       "      <th>frequency</th>\n",
       "      <th>Differential Analysis Comparison</th>\n",
       "    </tr>\n",
       "    <tr>\n",
       "      <th>protein groups</th>\n",
       "      <th></th>\n",
       "      <th></th>\n",
       "      <th></th>\n",
       "      <th></th>\n",
       "    </tr>\n",
       "  </thead>\n",
       "  <tbody>\n",
       "    <tr>\n",
       "      <th>A0A024QZX5;A0A087X1N8;P35237</th>\n",
       "      <td>0.850</td>\n",
       "      <td>0.019</td>\n",
       "      <td>186</td>\n",
       "      <td>PI (no)  - VAE (yes)</td>\n",
       "    </tr>\n",
       "    <tr>\n",
       "      <th>A0A024R0T9;K7ER74;P02655</th>\n",
       "      <td>0.093</td>\n",
       "      <td>0.071</td>\n",
       "      <td>195</td>\n",
       "      <td>PI (no)  - VAE (no)</td>\n",
       "    </tr>\n",
       "    <tr>\n",
       "      <th>A0A024R3W6;A0A024R412;O60462;O60462-2;O60462-3;O60462-4;O60462-5;Q7LBX6;X5D2Q8</th>\n",
       "      <td>0.158</td>\n",
       "      <td>0.512</td>\n",
       "      <td>174</td>\n",
       "      <td>PI (no)  - VAE (no)</td>\n",
       "    </tr>\n",
       "    <tr>\n",
       "      <th>A0A024R644;A0A0A0MRU5;A0A1B0GWI2;O75503</th>\n",
       "      <td>0.644</td>\n",
       "      <td>0.380</td>\n",
       "      <td>196</td>\n",
       "      <td>PI (no)  - VAE (no)</td>\n",
       "    </tr>\n",
       "    <tr>\n",
       "      <th>A0A075B6H7</th>\n",
       "      <td>0.307</td>\n",
       "      <td>0.010</td>\n",
       "      <td>91</td>\n",
       "      <td>PI (no)  - VAE (yes)</td>\n",
       "    </tr>\n",
       "    <tr>\n",
       "      <th>...</th>\n",
       "      <td>...</td>\n",
       "      <td>...</td>\n",
       "      <td>...</td>\n",
       "      <td>...</td>\n",
       "    </tr>\n",
       "    <tr>\n",
       "      <th>Q9Y6R7</th>\n",
       "      <td>0.317</td>\n",
       "      <td>0.283</td>\n",
       "      <td>197</td>\n",
       "      <td>PI (no)  - VAE (no)</td>\n",
       "    </tr>\n",
       "    <tr>\n",
       "      <th>Q9Y6X5</th>\n",
       "      <td>0.292</td>\n",
       "      <td>0.332</td>\n",
       "      <td>173</td>\n",
       "      <td>PI (no)  - VAE (no)</td>\n",
       "    </tr>\n",
       "    <tr>\n",
       "      <th>Q9Y6Y8;Q9Y6Y8-2</th>\n",
       "      <td>0.183</td>\n",
       "      <td>0.157</td>\n",
       "      <td>197</td>\n",
       "      <td>PI (no)  - VAE (no)</td>\n",
       "    </tr>\n",
       "    <tr>\n",
       "      <th>Q9Y6Y9</th>\n",
       "      <td>0.494</td>\n",
       "      <td>0.636</td>\n",
       "      <td>119</td>\n",
       "      <td>PI (no)  - VAE (no)</td>\n",
       "    </tr>\n",
       "    <tr>\n",
       "      <th>S4R3U6</th>\n",
       "      <td>0.600</td>\n",
       "      <td>0.109</td>\n",
       "      <td>126</td>\n",
       "      <td>PI (no)  - VAE (no)</td>\n",
       "    </tr>\n",
       "  </tbody>\n",
       "</table>\n",
       "<p>1421 rows × 4 columns</p>\n",
       "</div>"
      ],
      "text/plain": [
       "                                                      PI   VAE  frequency  \\\n",
       "protein groups                                                              \n",
       "A0A024QZX5;A0A087X1N8;P35237                       0.850 0.019        186   \n",
       "A0A024R0T9;K7ER74;P02655                           0.093 0.071        195   \n",
       "A0A024R3W6;A0A024R412;O60462;O60462-2;O60462-3;... 0.158 0.512        174   \n",
       "A0A024R644;A0A0A0MRU5;A0A1B0GWI2;O75503            0.644 0.380        196   \n",
       "A0A075B6H7                                         0.307 0.010         91   \n",
       "...                                                  ...   ...        ...   \n",
       "Q9Y6R7                                             0.317 0.283        197   \n",
       "Q9Y6X5                                             0.292 0.332        173   \n",
       "Q9Y6Y8;Q9Y6Y8-2                                    0.183 0.157        197   \n",
       "Q9Y6Y9                                             0.494 0.636        119   \n",
       "S4R3U6                                             0.600 0.109        126   \n",
       "\n",
       "                                                   Differential Analysis Comparison  \n",
       "protein groups                                                                       \n",
       "A0A024QZX5;A0A087X1N8;P35237                                   PI (no)  - VAE (yes)  \n",
       "A0A024R0T9;K7ER74;P02655                                       PI (no)  - VAE (no)   \n",
       "A0A024R3W6;A0A024R412;O60462;O60462-2;O60462-3;...             PI (no)  - VAE (no)   \n",
       "A0A024R644;A0A0A0MRU5;A0A1B0GWI2;O75503                        PI (no)  - VAE (no)   \n",
       "A0A075B6H7                                                     PI (no)  - VAE (yes)  \n",
       "...                                                                             ...  \n",
       "Q9Y6R7                                                         PI (no)  - VAE (no)   \n",
       "Q9Y6X5                                                         PI (no)  - VAE (no)   \n",
       "Q9Y6Y8;Q9Y6Y8-2                                                PI (no)  - VAE (no)   \n",
       "Q9Y6Y9                                                         PI (no)  - VAE (no)   \n",
       "S4R3U6                                                         PI (no)  - VAE (no)   \n",
       "\n",
       "[1421 rows x 4 columns]"
      ]
     },
     "execution_count": 18,
     "metadata": {},
     "output_type": "execute_result"
    }
   ],
   "source": [
    "var = 'qvalue'\n",
    "to_plot = [scores_common[v][var] for v in models.values()]\n",
    "for s, k in zip(to_plot, models.keys()):\n",
    "    s.name = k.replace('_', ' ')\n",
    "to_plot.append(scores_common['data'])\n",
    "to_plot.append(annotations)\n",
    "to_plot = pd.concat(to_plot, axis=1)\n",
    "to_plot"
   ]
  },
  {
   "cell_type": "markdown",
   "id": "c92517a4-8456-4663-b719-4abd997fbb1c",
   "metadata": {
    "papermill": {
     "duration": 0.047419,
     "end_time": "2024-06-28T11:04:21.596342",
     "exception": false,
     "start_time": "2024-06-28T11:04:21.548923",
     "status": "completed"
    },
    "tags": []
   },
   "source": [
    "List of features with the highest difference in qvalues"
   ]
  },
  {
   "cell_type": "code",
   "execution_count": 19,
   "id": "c7af4a70-aa43-4772-af00-d425f5ed249f",
   "metadata": {
    "execution": {
     "iopub.execute_input": "2024-06-28T11:04:21.663276Z",
     "iopub.status.busy": "2024-06-28T11:04:21.662931Z",
     "iopub.status.idle": "2024-06-28T11:04:21.688494Z",
     "shell.execute_reply": "2024-06-28T11:04:21.687741Z"
    },
    "papermill": {
     "duration": 0.066408,
     "end_time": "2024-06-28T11:04:21.690634",
     "exception": false,
     "start_time": "2024-06-28T11:04:21.624226",
     "status": "completed"
    },
    "tags": [
     "hide-input"
    ]
   },
   "outputs": [
    {
     "data": {
      "text/html": [
       "<div>\n",
       "<style scoped>\n",
       "    .dataframe tbody tr th:only-of-type {\n",
       "        vertical-align: middle;\n",
       "    }\n",
       "\n",
       "    .dataframe tbody tr th {\n",
       "        vertical-align: top;\n",
       "    }\n",
       "\n",
       "    .dataframe thead th {\n",
       "        text-align: right;\n",
       "    }\n",
       "</style>\n",
       "<table border=\"1\" class=\"dataframe\">\n",
       "  <thead>\n",
       "    <tr style=\"text-align: right;\">\n",
       "      <th></th>\n",
       "      <th>PI</th>\n",
       "      <th>VAE</th>\n",
       "      <th>frequency</th>\n",
       "      <th>Differential Analysis Comparison</th>\n",
       "      <th>diff_qvalue</th>\n",
       "    </tr>\n",
       "    <tr>\n",
       "      <th>protein groups</th>\n",
       "      <th></th>\n",
       "      <th></th>\n",
       "      <th></th>\n",
       "      <th></th>\n",
       "      <th></th>\n",
       "    </tr>\n",
       "  </thead>\n",
       "  <tbody>\n",
       "    <tr>\n",
       "      <th>F5GWE5;I3L2X8;I3L3W1;I3L459;I3L471;I3L4C0;I3L4H1;I3L4U7;Q00169</th>\n",
       "      <td>0.993</td>\n",
       "      <td>0.001</td>\n",
       "      <td>78</td>\n",
       "      <td>PI (no)  - VAE (yes)</td>\n",
       "      <td>0.992</td>\n",
       "    </tr>\n",
       "    <tr>\n",
       "      <th>A6NCT7;Q07092;Q07092-2</th>\n",
       "      <td>0.993</td>\n",
       "      <td>0.003</td>\n",
       "      <td>147</td>\n",
       "      <td>PI (no)  - VAE (yes)</td>\n",
       "      <td>0.989</td>\n",
       "    </tr>\n",
       "    <tr>\n",
       "      <th>Q7Z5L0</th>\n",
       "      <td>0.996</td>\n",
       "      <td>0.010</td>\n",
       "      <td>53</td>\n",
       "      <td>PI (no)  - VAE (yes)</td>\n",
       "      <td>0.986</td>\n",
       "    </tr>\n",
       "    <tr>\n",
       "      <th>A0A087X152;D6RE16;E0CX15;O95185;O95185-2</th>\n",
       "      <td>0.015</td>\n",
       "      <td>0.999</td>\n",
       "      <td>176</td>\n",
       "      <td>PI (yes) - VAE (no)</td>\n",
       "      <td>0.984</td>\n",
       "    </tr>\n",
       "    <tr>\n",
       "      <th>P52758</th>\n",
       "      <td>0.001</td>\n",
       "      <td>0.983</td>\n",
       "      <td>119</td>\n",
       "      <td>PI (yes) - VAE (no)</td>\n",
       "      <td>0.982</td>\n",
       "    </tr>\n",
       "    <tr>\n",
       "      <th>...</th>\n",
       "      <td>...</td>\n",
       "      <td>...</td>\n",
       "      <td>...</td>\n",
       "      <td>...</td>\n",
       "      <td>...</td>\n",
       "    </tr>\n",
       "    <tr>\n",
       "      <th>F5GY80;F5H7G1;P07358</th>\n",
       "      <td>0.057</td>\n",
       "      <td>0.046</td>\n",
       "      <td>197</td>\n",
       "      <td>PI (no)  - VAE (yes)</td>\n",
       "      <td>0.011</td>\n",
       "    </tr>\n",
       "    <tr>\n",
       "      <th>Q9NX62</th>\n",
       "      <td>0.056</td>\n",
       "      <td>0.045</td>\n",
       "      <td>197</td>\n",
       "      <td>PI (no)  - VAE (yes)</td>\n",
       "      <td>0.011</td>\n",
       "    </tr>\n",
       "    <tr>\n",
       "      <th>P00740;P00740-2</th>\n",
       "      <td>0.053</td>\n",
       "      <td>0.043</td>\n",
       "      <td>197</td>\n",
       "      <td>PI (no)  - VAE (yes)</td>\n",
       "      <td>0.010</td>\n",
       "    </tr>\n",
       "    <tr>\n",
       "      <th>K7ERG9;P00746</th>\n",
       "      <td>0.052</td>\n",
       "      <td>0.042</td>\n",
       "      <td>197</td>\n",
       "      <td>PI (no)  - VAE (yes)</td>\n",
       "      <td>0.010</td>\n",
       "    </tr>\n",
       "    <tr>\n",
       "      <th>Q16706</th>\n",
       "      <td>0.055</td>\n",
       "      <td>0.046</td>\n",
       "      <td>195</td>\n",
       "      <td>PI (no)  - VAE (yes)</td>\n",
       "      <td>0.008</td>\n",
       "    </tr>\n",
       "  </tbody>\n",
       "</table>\n",
       "<p>204 rows × 5 columns</p>\n",
       "</div>"
      ],
      "text/plain": [
       "                                                      PI   VAE  frequency  \\\n",
       "protein groups                                                              \n",
       "F5GWE5;I3L2X8;I3L3W1;I3L459;I3L471;I3L4C0;I3L4H... 0.993 0.001         78   \n",
       "A6NCT7;Q07092;Q07092-2                             0.993 0.003        147   \n",
       "Q7Z5L0                                             0.996 0.010         53   \n",
       "A0A087X152;D6RE16;E0CX15;O95185;O95185-2           0.015 0.999        176   \n",
       "P52758                                             0.001 0.983        119   \n",
       "...                                                  ...   ...        ...   \n",
       "F5GY80;F5H7G1;P07358                               0.057 0.046        197   \n",
       "Q9NX62                                             0.056 0.045        197   \n",
       "P00740;P00740-2                                    0.053 0.043        197   \n",
       "K7ERG9;P00746                                      0.052 0.042        197   \n",
       "Q16706                                             0.055 0.046        195   \n",
       "\n",
       "                                                   Differential Analysis Comparison  \\\n",
       "protein groups                                                                        \n",
       "F5GWE5;I3L2X8;I3L3W1;I3L459;I3L471;I3L4C0;I3L4H...             PI (no)  - VAE (yes)   \n",
       "A6NCT7;Q07092;Q07092-2                                         PI (no)  - VAE (yes)   \n",
       "Q7Z5L0                                                         PI (no)  - VAE (yes)   \n",
       "A0A087X152;D6RE16;E0CX15;O95185;O95185-2                       PI (yes) - VAE (no)    \n",
       "P52758                                                         PI (yes) - VAE (no)    \n",
       "...                                                                             ...   \n",
       "F5GY80;F5H7G1;P07358                                           PI (no)  - VAE (yes)   \n",
       "Q9NX62                                                         PI (no)  - VAE (yes)   \n",
       "P00740;P00740-2                                                PI (no)  - VAE (yes)   \n",
       "K7ERG9;P00746                                                  PI (no)  - VAE (yes)   \n",
       "Q16706                                                         PI (no)  - VAE (yes)   \n",
       "\n",
       "                                                    diff_qvalue  \n",
       "protein groups                                                   \n",
       "F5GWE5;I3L2X8;I3L3W1;I3L459;I3L471;I3L4C0;I3L4H...        0.992  \n",
       "A6NCT7;Q07092;Q07092-2                                    0.989  \n",
       "Q7Z5L0                                                    0.986  \n",
       "A0A087X152;D6RE16;E0CX15;O95185;O95185-2                  0.984  \n",
       "P52758                                                    0.982  \n",
       "...                                                         ...  \n",
       "F5GY80;F5H7G1;P07358                                      0.011  \n",
       "Q9NX62                                                    0.011  \n",
       "P00740;P00740-2                                           0.010  \n",
       "K7ERG9;P00746                                             0.010  \n",
       "Q16706                                                    0.008  \n",
       "\n",
       "[204 rows x 5 columns]"
      ]
     },
     "execution_count": 19,
     "metadata": {},
     "output_type": "execute_result"
    }
   ],
   "source": [
    "# should it be possible to run not only RSN?\n",
    "to_plot['diff_qvalue'] = (to_plot[str(args.baseline)] - to_plot[str(args.model_key)]).abs()\n",
    "to_plot.loc[mask_different].sort_values('diff_qvalue', ascending=False)"
   ]
  },
  {
   "cell_type": "markdown",
   "id": "e715954e-2d62-4cd9-b4b0-063524bca495",
   "metadata": {
    "papermill": {
     "duration": 0.038666,
     "end_time": "2024-06-28T11:04:21.768794",
     "exception": false,
     "start_time": "2024-06-28T11:04:21.730128",
     "status": "completed"
    },
    "tags": []
   },
   "source": [
    "### Differences plotted with created annotations"
   ]
  },
  {
   "cell_type": "code",
   "execution_count": 20,
   "id": "a20d356d-c397-4440-b70e-9d899aa200fd",
   "metadata": {
    "execution": {
     "iopub.execute_input": "2024-06-28T11:04:21.846953Z",
     "iopub.status.busy": "2024-06-28T11:04:21.846600Z",
     "iopub.status.idle": "2024-06-28T11:04:24.733605Z",
     "shell.execute_reply": "2024-06-28T11:04:24.732849Z"
    },
    "papermill": {
     "duration": 2.934784,
     "end_time": "2024-06-28T11:04:24.735877",
     "exception": false,
     "start_time": "2024-06-28T11:04:21.801093",
     "status": "completed"
    },
    "tags": [
     "hide-input"
    ]
   },
   "outputs": [
    {
     "name": "stderr",
     "output_type": "stream",
     "text": [
      "vaep.plotting - INFO     Saved Figures to runs/alzheimer_study/diff_analysis/AD/PI_vs_VAE/diff_analysis_comparision_1_VAE\n"
     ]
    },
    {
     "data": {
      "image/png": "[encoded data removed]",
      "text/plain": [
       "<Figure size 588x588 with 1 Axes>"
      ]
     },
     "metadata": {},
     "output_type": "display_data"
    }
   ],
   "source": [
    "figsize = (4, 4)\n",
    "size = 5\n",
    "fig, ax = plt.subplots(figsize=figsize)\n",
    "x_col = to_plot.columns[0]\n",
    "y_col = to_plot.columns[1]\n",
    "ax = sns.scatterplot(data=to_plot,\n",
    "                     x=x_col,\n",
    "                     y=y_col,\n",
    "                     s=size,\n",
    "                     hue='Differential Analysis Comparison',\n",
    "                     ax=ax)\n",
    "_ = ax.legend(fontsize=fontsize,\n",
    "              title_fontsize=fontsize,\n",
    "              markerscale=0.4,\n",
    "              title='',\n",
    "              )\n",
    "ax.set_xlabel(f\"qvalue for {x_col}\")\n",
    "ax.set_ylabel(f\"qvalue for {y_col}\")\n",
    "ax.hlines(0.05, 0, 1, color='grey', linestyles='dotted')\n",
    "ax.vlines(0.05, 0, 1, color='grey', linestyles='dotted')\n",
    "sns.move_legend(ax, \"upper right\")\n",
    "files_out[f'diff_analysis_comparision_1_{args.model_key}'] = (\n",
    "    args.out_folder /\n",
    "    f'diff_analysis_comparision_1_{args.model_key}')\n",
    "fname = files_out[f'diff_analysis_comparision_1_{args.model_key}']\n",
    "vaep.savefig(fig, name=fname)"
   ]
  },
  {
   "cell_type": "markdown",
   "id": "d8849c76-c5f6-4618-87c0-f2635dc9ac66",
   "metadata": {
    "papermill": {
     "duration": 0.019868,
     "end_time": "2024-06-28T11:04:24.776887",
     "exception": false,
     "start_time": "2024-06-28T11:04:24.757019",
     "status": "completed"
    },
    "tags": []
   },
   "source": [
    "- also showing how many features were measured (\"observed\") by size of circle"
   ]
  },
  {
   "cell_type": "code",
   "execution_count": 21,
   "id": "1cf258f8-9dcb-40bb-af66-b600f8d413f6",
   "metadata": {
    "execution": {
     "iopub.execute_input": "2024-06-28T11:04:24.817067Z",
     "iopub.status.busy": "2024-06-28T11:04:24.816714Z",
     "iopub.status.idle": "2024-06-28T11:04:28.244438Z",
     "shell.execute_reply": "2024-06-28T11:04:28.243633Z"
    },
    "papermill": {
     "duration": 3.449454,
     "end_time": "2024-06-28T11:04:28.246225",
     "exception": false,
     "start_time": "2024-06-28T11:04:24.796771",
     "status": "completed"
    },
    "tags": [
     "hide-input"
    ]
   },
   "outputs": [
    {
     "name": "stderr",
     "output_type": "stream",
     "text": [
      "vaep.plotting - INFO     Saved Figures to runs/alzheimer_study/diff_analysis/AD/PI_vs_VAE/diff_analysis_comparision_2_VAE\n"
     ]
    },
    {
     "data": {
      "image/png": "[encoded data removed]",
      "text/plain": [
       "<Figure size 588x588 with 1 Axes>"
      ]
     },
     "metadata": {},
     "output_type": "display_data"
    }
   ],
   "source": [
    "fig, ax = plt.subplots(figsize=figsize)\n",
    "ax = sns.scatterplot(data=to_plot,\n",
    "                     x=to_plot.columns[0],\n",
    "                     y=to_plot.columns[1],\n",
    "                     size='frequency',\n",
    "                     s=size,\n",
    "                     sizes=(5, 20),\n",
    "                     hue='Differential Analysis Comparison')\n",
    "_ = ax.legend(fontsize=fontsize,\n",
    "              title_fontsize=fontsize,\n",
    "              markerscale=0.6,\n",
    "              title='',\n",
    "              )\n",
    "ax.set_xlabel(f\"qvalue for {x_col}\")\n",
    "ax.set_ylabel(f\"qvalue for {y_col}\")\n",
    "ax.hlines(0.05, 0, 1, color='grey', linestyles='dotted')\n",
    "ax.vlines(0.05, 0, 1, color='grey', linestyles='dotted')\n",
    "sns.move_legend(ax, \"upper right\")\n",
    "files_out[f'diff_analysis_comparision_2_{args.model_key}'] = (\n",
    "    args.out_folder / f'diff_analysis_comparision_2_{args.model_key}')\n",
    "vaep.savefig(\n",
    "    fig, name=files_out[f'diff_analysis_comparision_2_{args.model_key}'])"
   ]
  },
  {
   "cell_type": "markdown",
   "id": "1fee3a21-d8b3-40c6-aea2-4774dfe855ca",
   "metadata": {
    "papermill": {
     "duration": 0.043415,
     "end_time": "2024-06-28T11:04:28.333918",
     "exception": false,
     "start_time": "2024-06-28T11:04:28.290503",
     "status": "completed"
    },
    "tags": []
   },
   "source": [
    "## Only features contained in model\n",
    "- this block exist due to a specific part in the ALD analysis of the paper"
   ]
  },
  {
   "cell_type": "code",
   "execution_count": 22,
   "id": "c4e23a01-fd37-4496-a518-445a9ef38db1",
   "metadata": {
    "execution": {
     "iopub.execute_input": "2024-06-28T11:04:28.429911Z",
     "iopub.status.busy": "2024-06-28T11:04:28.429552Z",
     "iopub.status.idle": "2024-06-28T11:04:28.444344Z",
     "shell.execute_reply": "2024-06-28T11:04:28.443625Z"
    },
    "papermill": {
     "duration": 0.063724,
     "end_time": "2024-06-28T11:04:28.446087",
     "exception": false,
     "start_time": "2024-06-28T11:04:28.382363",
     "status": "completed"
    },
    "tags": [
     "hide-input"
    ]
   },
   "outputs": [
    {
     "name": "stderr",
     "output_type": "stream",
     "text": [
      "root - INFO     No features only in new comparision model.\n"
     ]
    }
   ],
   "source": [
    "scores_model_only = scores.reset_index(level=-1, drop=True)\n",
    "_diff = scores_model_only.index.difference(scores_common.index)\n",
    "if not _diff.empty:\n",
    "    scores_model_only = (scores_model_only\n",
    "                         .loc[\n",
    "                             _diff,\n",
    "                             args.model_key]\n",
    "                         .sort_values(by='qvalue', ascending=True)\n",
    "                         .join(freq_feat.squeeze().rename(freq_feat.columns.droplevel()[0])\n",
    "                               )\n",
    "                         )\n",
    "    display(scores_model_only)\n",
    "else:\n",
    "    scores_model_only = None\n",
    "    logger.info(\"No features only in new comparision model.\")\n",
    "\n",
    "if not _diff.empty:\n",
    "    scores_model_only.to_excel(writer, 'only_model', **writer_args)\n",
    "    display(scores_model_only.rejected.value_counts())\n",
    "    scores_model_only_rejected = scores_model_only.loc[scores_model_only.rejected]\n",
    "    scores_model_only_rejected.to_excel(\n",
    "        writer, 'only_model_rejected', **writer_args)"
   ]
  },
  {
   "cell_type": "markdown",
   "id": "78b2c336",
   "metadata": {
    "papermill": {
     "duration": 0.040021,
     "end_time": "2024-06-28T11:04:28.534329",
     "exception": false,
     "start_time": "2024-06-28T11:04:28.494308",
     "status": "completed"
    },
    "tags": []
   },
   "source": [
    "## DISEASES DB lookup\n",
    "\n",
    "Query diseases database for gene associations with specified disease ontology id."
   ]
  },
  {
   "cell_type": "code",
   "execution_count": 23,
   "id": "d93a9242-0ef4-4fc7-bd98-226a93639f58",
   "metadata": {
    "execution": {
     "iopub.execute_input": "2024-06-28T11:04:28.642569Z",
     "iopub.status.busy": "2024-06-28T11:04:28.642202Z",
     "iopub.status.idle": "2024-06-28T11:04:29.390379Z",
     "shell.execute_reply": "2024-06-28T11:04:29.389619Z"
    },
    "papermill": {
     "duration": 0.818296,
     "end_time": "2024-06-28T11:04:29.392136",
     "exception": false,
     "start_time": "2024-06-28T11:04:28.573840",
     "status": "completed"
    },
    "tags": [
     "hide-input"
    ]
   },
   "outputs": [
    {
     "data": {
      "text/html": [
       "<div>\n",
       "<style scoped>\n",
       "    .dataframe tbody tr th:only-of-type {\n",
       "        vertical-align: middle;\n",
       "    }\n",
       "\n",
       "    .dataframe tbody tr th {\n",
       "        vertical-align: top;\n",
       "    }\n",
       "\n",
       "    .dataframe thead th {\n",
       "        text-align: right;\n",
       "    }\n",
       "</style>\n",
       "<table border=\"1\" class=\"dataframe\">\n",
       "  <thead>\n",
       "    <tr style=\"text-align: right;\">\n",
       "      <th></th>\n",
       "      <th>ENSP</th>\n",
       "      <th>score</th>\n",
       "    </tr>\n",
       "    <tr>\n",
       "      <th>None</th>\n",
       "      <th></th>\n",
       "      <th></th>\n",
       "    </tr>\n",
       "  </thead>\n",
       "  <tbody>\n",
       "    <tr>\n",
       "      <th>PSEN2</th>\n",
       "      <td>ENSP00000355747</td>\n",
       "      <td>5.000</td>\n",
       "    </tr>\n",
       "    <tr>\n",
       "      <th>APOE</th>\n",
       "      <td>ENSP00000252486</td>\n",
       "      <td>5.000</td>\n",
       "    </tr>\n",
       "    <tr>\n",
       "      <th>PSEN1</th>\n",
       "      <td>ENSP00000326366</td>\n",
       "      <td>5.000</td>\n",
       "    </tr>\n",
       "    <tr>\n",
       "      <th>APP</th>\n",
       "      <td>ENSP00000284981</td>\n",
       "      <td>5.000</td>\n",
       "    </tr>\n",
       "    <tr>\n",
       "      <th>CLU</th>\n",
       "      <td>ENSP00000315130</td>\n",
       "      <td>4.263</td>\n",
       "    </tr>\n",
       "    <tr>\n",
       "      <th>...</th>\n",
       "      <td>...</td>\n",
       "      <td>...</td>\n",
       "    </tr>\n",
       "    <tr>\n",
       "      <th>HBS1L</th>\n",
       "      <td>ENSP00000356811</td>\n",
       "      <td>0.508</td>\n",
       "    </tr>\n",
       "    <tr>\n",
       "      <th>SMAD9</th>\n",
       "      <td>ENSP00000369154</td>\n",
       "      <td>0.506</td>\n",
       "    </tr>\n",
       "    <tr>\n",
       "      <th>ANKRD11</th>\n",
       "      <td>ENSP00000301030</td>\n",
       "      <td>0.506</td>\n",
       "    </tr>\n",
       "    <tr>\n",
       "      <th>TPPP</th>\n",
       "      <td>ENSP00000353785</td>\n",
       "      <td>0.505</td>\n",
       "    </tr>\n",
       "    <tr>\n",
       "      <th>NODAL</th>\n",
       "      <td>ENSP00000287139</td>\n",
       "      <td>0.504</td>\n",
       "    </tr>\n",
       "  </tbody>\n",
       "</table>\n",
       "<p>328 rows × 2 columns</p>\n",
       "</div>"
      ],
      "text/plain": [
       "                    ENSP  score\n",
       "None                           \n",
       "PSEN2    ENSP00000355747  5.000\n",
       "APOE     ENSP00000252486  5.000\n",
       "PSEN1    ENSP00000326366  5.000\n",
       "APP      ENSP00000284981  5.000\n",
       "CLU      ENSP00000315130  4.263\n",
       "...                  ...    ...\n",
       "HBS1L    ENSP00000356811  0.508\n",
       "SMAD9    ENSP00000369154  0.506\n",
       "ANKRD11  ENSP00000301030  0.506\n",
       "TPPP     ENSP00000353785  0.505\n",
       "NODAL    ENSP00000287139  0.504\n",
       "\n",
       "[328 rows x 2 columns]"
      ]
     },
     "execution_count": 23,
     "metadata": {},
     "output_type": "execute_result"
    }
   ],
   "source": [
    "data = vaep.databases.diseases.get_disease_association(\n",
    "    doid=args.disease_ontology, limit=10000)\n",
    "data = pd.DataFrame.from_dict(data, orient='index').rename_axis('ENSP', axis=0)\n",
    "data = data.rename(columns={'name': args.annotaitons_gene_col}).reset_index(\n",
    ").set_index(args.annotaitons_gene_col)\n",
    "data"
   ]
  },
  {
   "cell_type": "markdown",
   "id": "efe22443-2613-46ad-83c2-41048e13dd57",
   "metadata": {
    "papermill": {
     "duration": 0.04418,
     "end_time": "2024-06-28T11:04:29.487807",
     "exception": false,
     "start_time": "2024-06-28T11:04:29.443627",
     "status": "completed"
    },
    "tags": []
   },
   "source": [
    "## Shared features\n",
    "ToDo: new script -> DISEASES DB lookup"
   ]
  },
  {
   "cell_type": "code",
   "execution_count": null,
   "id": "5c26415e",
   "metadata": {
    "papermill": {
     "duration": 0.047955,
     "end_time": "2024-06-28T11:04:29.584562",
     "exception": false,
     "start_time": "2024-06-28T11:04:29.536607",
     "status": "completed"
    },
    "tags": [
     "hide-input"
    ]
   },
   "outputs": [],
   "source": []
  },
  {
   "cell_type": "code",
   "execution_count": 24,
   "id": "b68b43df",
   "metadata": {
    "execution": {
     "iopub.execute_input": "2024-06-28T11:04:29.684046Z",
     "iopub.status.busy": "2024-06-28T11:04:29.683418Z",
     "iopub.status.idle": "2024-06-28T11:04:29.692144Z",
     "shell.execute_reply": "2024-06-28T11:04:29.691085Z"
    },
    "papermill": {
     "duration": 0.050911,
     "end_time": "2024-06-28T11:04:29.693323",
     "exception": true,
     "start_time": "2024-06-28T11:04:29.642412",
     "status": "failed"
    },
    "tags": [
     "hide-input"
    ]
   },
   "outputs": [
    {
     "name": "stderr",
     "output_type": "stream",
     "text": [
      "root - INFO     No gene annotation in scores index:  ['protein groups', 'Source'] Exiting.\n"
     ]
    },
    {
     "ename": "SystemExit",
     "evalue": "0",
     "output_type": "error",
     "traceback": [
      "An exception has occurred, use %tb to see the full traceback.\n",
      "\u001b[0;31mSystemExit\u001b[0m\u001b[0;31m:\u001b[0m 0\n"
     ]
    },
    {
     "name": "stderr",
     "output_type": "stream",
     "text": [
      "/usr/share/miniconda3/envs/vaep/lib/python3.8/site-packages/IPython/core/interactiveshell.py:3516: UserWarning: To exit: use 'exit', 'quit', or Ctrl-D.\n",
      "  warn(\"To exit: use 'exit', 'quit', or Ctrl-D.\", stacklevel=1)\n"
     ]
    }
   ],
   "source": [
    "feat_name = scores.index.names[0]  # first index level is feature name\n",
    "if args.annotaitons_gene_col in scores.index.names:\n",
    "    logger.info(f\"Found gene annotation in scores index:  {scores.index.names}\")\n",
    "else:\n",
    "    logger.info(f\"No gene annotation in scores index:  {scores.index.names}\"\n",
    "                \" Exiting.\")\n",
    "    import sys\n",
    "    sys.exit(0)"
   ]
  },
  {
   "cell_type": "code",
   "execution_count": null,
   "id": "f8d4a74d-5a9b-4d9b-9345-4288bb23e19f",
   "metadata": {
    "papermill": {
     "duration": null,
     "end_time": null,
     "exception": null,
     "start_time": null,
     "status": "pending"
    },
    "tags": [
     "hide-input"
    ]
   },
   "outputs": [],
   "source": [
    "gene_to_PG = (scores.droplevel(\n",
    "    list(set(scores.index.names) - {feat_name, args.annotaitons_gene_col})\n",
    ")\n",
    "    .index\n",
    "    .to_frame()\n",
    "    .reset_index(drop=True)\n",
    "    .set_index(args.annotaitons_gene_col)\n",
    ")\n",
    "gene_to_PG.head()"
   ]
  },
  {
   "cell_type": "code",
   "execution_count": null,
   "id": "d9e76def-b48a-458d-a90b-765e6e70f7a4",
   "metadata": {
    "papermill": {
     "duration": null,
     "end_time": null,
     "exception": null,
     "start_time": null,
     "status": "pending"
    },
    "tags": [
     "hide-input"
    ]
   },
   "outputs": [],
   "source": [
    "disease_associations_all = data.join(\n",
    "    gene_to_PG).dropna().reset_index().set_index(feat_name).join(annotations)\n",
    "disease_associations_all"
   ]
  },
  {
   "cell_type": "markdown",
   "id": "217972a3-ba4a-4f28-ab8f-25dc0f5e9ede",
   "metadata": {
    "papermill": {
     "duration": null,
     "end_time": null,
     "exception": null,
     "start_time": null,
     "status": "pending"
    },
    "tags": []
   },
   "source": [
    "## only by model"
   ]
  },
  {
   "cell_type": "code",
   "execution_count": null,
   "id": "8e9d6944-87ba-4c41-af14-fb5ed93262f0",
   "metadata": {
    "papermill": {
     "duration": null,
     "end_time": null,
     "exception": null,
     "start_time": null,
     "status": "pending"
    },
    "tags": [
     "hide-input"
    ]
   },
   "outputs": [],
   "source": [
    "idx = disease_associations_all.index.intersection(scores_model_only.index)\n",
    "disease_assocications_new = disease_associations_all.loc[idx].sort_values(\n",
    "    'score', ascending=False)\n",
    "disease_assocications_new.head(20)"
   ]
  },
  {
   "cell_type": "code",
   "execution_count": null,
   "id": "ceefc483-b889-4bab-b207-c8d5fd97fa4a",
   "metadata": {
    "papermill": {
     "duration": null,
     "end_time": null,
     "exception": null,
     "start_time": null,
     "status": "pending"
    },
    "tags": [
     "hide-input"
    ]
   },
   "outputs": [],
   "source": [
    "mask = disease_assocications_new.loc[idx, 'score'] >= 2.0\n",
    "disease_assocications_new.loc[idx].loc[mask]"
   ]
  },
  {
   "cell_type": "markdown",
   "id": "f85eede2-7b61-4285-ba8c-745f77f6ab22",
   "metadata": {
    "papermill": {
     "duration": null,
     "end_time": null,
     "exception": null,
     "start_time": null,
     "status": "pending"
    },
    "tags": []
   },
   "source": [
    "## Only by model which were significant"
   ]
  },
  {
   "cell_type": "code",
   "execution_count": null,
   "id": "4644759b-8cc2-4f99-a16c-16419cfb915c",
   "metadata": {
    "papermill": {
     "duration": null,
     "end_time": null,
     "exception": null,
     "start_time": null,
     "status": "pending"
    },
    "tags": [
     "hide-input"
    ]
   },
   "outputs": [],
   "source": [
    "idx = disease_associations_all.index.intersection(\n",
    "    scores_model_only_rejected.index)\n",
    "disease_assocications_new_rejected = disease_associations_all.loc[idx].sort_values(\n",
    "    'score', ascending=False)\n",
    "disease_assocications_new_rejected.head(20)"
   ]
  },
  {
   "cell_type": "code",
   "execution_count": null,
   "id": "365d8641-97a8-464f-b69b-270af9ae6e2d",
   "metadata": {
    "papermill": {
     "duration": null,
     "end_time": null,
     "exception": null,
     "start_time": null,
     "status": "pending"
    },
    "tags": [
     "hide-input"
    ]
   },
   "outputs": [],
   "source": [
    "mask = disease_assocications_new_rejected.loc[idx, 'score'] >= 2.0\n",
    "disease_assocications_new_rejected.loc[idx].loc[mask]"
   ]
  },
  {
   "cell_type": "markdown",
   "id": "4f22614b-e058-4e35-b8a9-141c291a93bc",
   "metadata": {
    "papermill": {
     "duration": null,
     "end_time": null,
     "exception": null,
     "start_time": null,
     "status": "pending"
    },
    "tags": []
   },
   "source": [
    "## Shared which are only significant for by model"
   ]
  },
  {
   "cell_type": "code",
   "execution_count": null,
   "id": "82eb2ba8-4fe7-431d-8095-5be43f7791b7",
   "metadata": {
    "papermill": {
     "duration": null,
     "end_time": null,
     "exception": null,
     "start_time": null,
     "status": "pending"
    },
    "tags": []
   },
   "outputs": [],
   "source": [
    "mask = (scores_common[(str(args.model_key), 'rejected')] & mask_different)\n",
    "mask.sum()"
   ]
  },
  {
   "cell_type": "code",
   "execution_count": null,
   "id": "6416d494-5f3e-4cf4-b766-b1f95e40ae1c",
   "metadata": {
    "papermill": {
     "duration": null,
     "end_time": null,
     "exception": null,
     "start_time": null,
     "status": "pending"
    },
    "tags": [
     "hide-input"
    ]
   },
   "outputs": [],
   "source": [
    "idx = disease_associations_all.index.intersection(mask.index[mask])\n",
    "disease_assocications_shared_rejected_by_model = (disease_associations_all.loc[idx].sort_values(\n",
    "    'score', ascending=False))\n",
    "disease_assocications_shared_rejected_by_model.head(20)"
   ]
  },
  {
   "cell_type": "code",
   "execution_count": null,
   "id": "10899e28-4aee-4d44-a542-e45be6699a1b",
   "metadata": {
    "papermill": {
     "duration": null,
     "end_time": null,
     "exception": null,
     "start_time": null,
     "status": "pending"
    },
    "tags": [
     "hide-input"
    ]
   },
   "outputs": [],
   "source": [
    "mask = disease_assocications_shared_rejected_by_model.loc[idx, 'score'] >= 2.0\n",
    "disease_assocications_shared_rejected_by_model.loc[idx].loc[mask]"
   ]
  },
  {
   "cell_type": "markdown",
   "id": "b6c082ea-7d92-4296-8ec9-d279509142a3",
   "metadata": {
    "papermill": {
     "duration": null,
     "end_time": null,
     "exception": null,
     "start_time": null,
     "status": "pending"
    },
    "tags": []
   },
   "source": [
    "## Only significant by RSN"
   ]
  },
  {
   "cell_type": "code",
   "execution_count": null,
   "id": "c59aae50-6877-47cc-99f6-646862d29121",
   "metadata": {
    "papermill": {
     "duration": null,
     "end_time": null,
     "exception": null,
     "start_time": null,
     "status": "pending"
    },
    "tags": []
   },
   "outputs": [],
   "source": [
    "mask = (scores_common[(str(args.baseline), 'rejected')] & mask_different)\n",
    "mask.sum()"
   ]
  },
  {
   "cell_type": "code",
   "execution_count": null,
   "id": "7780de55-c63b-4028-a6d0-58bce7be81da",
   "metadata": {
    "papermill": {
     "duration": null,
     "end_time": null,
     "exception": null,
     "start_time": null,
     "status": "pending"
    },
    "tags": [
     "hide-input"
    ]
   },
   "outputs": [],
   "source": [
    "idx = disease_associations_all.index.intersection(mask.index[mask])\n",
    "disease_assocications_shared_rejected_by_RSN = (\n",
    "    disease_associations_all\n",
    "    .loc[idx]\n",
    "    .sort_values('score', ascending=False))\n",
    "disease_assocications_shared_rejected_by_RSN.head(20)"
   ]
  },
  {
   "cell_type": "code",
   "execution_count": null,
   "id": "03115c8f-1f20-4b51-a78c-4d7c0317dc33",
   "metadata": {
    "papermill": {
     "duration": null,
     "end_time": null,
     "exception": null,
     "start_time": null,
     "status": "pending"
    },
    "tags": [
     "hide-input"
    ]
   },
   "outputs": [],
   "source": [
    "mask = disease_assocications_shared_rejected_by_RSN.loc[idx, 'score'] >= 2.0\n",
    "disease_assocications_shared_rejected_by_RSN.loc[idx].loc[mask]"
   ]
  },
  {
   "cell_type": "markdown",
   "id": "9d72708d-ad27-435b-b672-7dfe35283601",
   "metadata": {
    "papermill": {
     "duration": null,
     "end_time": null,
     "exception": null,
     "start_time": null,
     "status": "pending"
    },
    "tags": []
   },
   "source": [
    "## Write to excel"
   ]
  },
  {
   "cell_type": "code",
   "execution_count": null,
   "id": "91e7fbb7-69fd-4b4c-9bc2-40e8dd1907b3",
   "metadata": {
    "papermill": {
     "duration": null,
     "end_time": null,
     "exception": null,
     "start_time": null,
     "status": "pending"
    },
    "tags": [
     "hide-input"
    ]
   },
   "outputs": [],
   "source": [
    "disease_associations_all.to_excel(\n",
    "    writer, sheet_name='disease_assoc_all', **writer_args)\n",
    "disease_assocications_new.to_excel(\n",
    "    writer, sheet_name='disease_assoc_new', **writer_args)\n",
    "disease_assocications_new_rejected.to_excel(\n",
    "    writer, sheet_name='disease_assoc_new_rejected', **writer_args)"
   ]
  },
  {
   "cell_type": "markdown",
   "id": "52a42028-7e2d-47d5-be02-52f7ff1f3665",
   "metadata": {
    "papermill": {
     "duration": null,
     "end_time": null,
     "exception": null,
     "start_time": null,
     "status": "pending"
    },
    "tags": []
   },
   "source": [
    "## Outputs"
   ]
  },
  {
   "cell_type": "code",
   "execution_count": null,
   "id": "7f3a7433-3bf1-4168-8f16-eb6d415ef17f",
   "metadata": {
    "papermill": {
     "duration": null,
     "end_time": null,
     "exception": null,
     "start_time": null,
     "status": "pending"
    },
    "tags": [
     "hide-input"
    ]
   },
   "outputs": [],
   "source": [
    "writer.close()\n",
    "files_out"
   ]
  }
 ],
 "metadata": {
  "kernelspec": {
   "display_name": "Python 3",
   "language": "python",
   "name": "python3"
  },
  "language_info": {
   "codemirror_mode": {
    "name": "ipython",
    "version": 3
   },
   "file_extension": ".py",
   "mimetype": "text/x-python",
   "name": "python",
   "nbconvert_exporter": "python",
   "pygments_lexer": "ipython3",
   "version": "3.8.19"
  },
  "papermill": {
   "default_parameters": {},
   "duration": 16.752035,
   "end_time": "2024-06-28T11:04:30.663718",
   "environment_variables": {},
   "exception": true,
   "input_path": "10_2_ald_compare_methods.ipynb",
   "output_path": "runs/alzheimer_study/diff_analysis/AD/PI_vs_VAE/10_2_ald_compare_methods.ipynb",
   "parameters": {
    "annotaitons_gene_col": "None",
    "baseline": "PI",
    "disease_ontology": 10652,
    "folder_experiment": "runs/alzheimer_study",
    "model_key": "VAE",
    "out_folder": "diff_analysis",
    "target": "AD"
   },
   "start_time": "2024-06-28T11:04:13.911683",
   "version": "2.6.0"
  }
 },
 "nbformat": 4,
 "nbformat_minor": 5
}