{
 "cells": [
  {
   "cell_type": "markdown",
   "id": "9acfeaca-5f8c-42f3-9a8e-83ed737eb35c",
   "metadata": {
    "papermill": {
     "duration": 0.013053,
     "end_time": "2024-05-27T15:49:48.118931",
     "exception": false,
     "start_time": "2024-05-27T15:49:48.105878",
     "status": "completed"
    },
    "tags": []
   },
   "source": [
    "# Compare outcomes from differential analysis based on different imputation methods\n",
    "\n",
    "- load scores based on `16_ald_diff_analysis`"
   ]
  },
  {
   "cell_type": "code",
   "execution_count": 1,
   "id": "eec6f931-c04d-428c-b2b1-0424c50e6cd2",
   "metadata": {
    "execution": {
     "iopub.execute_input": "2024-05-27T15:49:48.145667Z",
     "iopub.status.busy": "2024-05-27T15:49:48.145300Z",
     "iopub.status.idle": "2024-05-27T15:49:51.425752Z",
     "shell.execute_reply": "2024-05-27T15:49:51.424899Z"
    },
    "papermill": {
     "duration": 3.296769,
     "end_time": "2024-05-27T15:49:51.428152",
     "exception": false,
     "start_time": "2024-05-27T15:49:48.131383",
     "status": "completed"
    },
    "tags": []
   },
   "outputs": [],
   "source": [
    "from pathlib import Path\n",
    "\n",
    "import matplotlib.pyplot as plt\n",
    "import pandas as pd\n",
    "import seaborn as sns\n",
    "from IPython.display import display\n",
    "\n",
    "import vaep\n",
    "import vaep.databases.diseases\n",
    "\n",
    "logger = vaep.logging.setup_nb_logger()\n",
    "\n",
    "plt.rcParams['figure.figsize'] = (2, 2)\n",
    "fontsize = 5\n",
    "vaep.plotting.make_large_descriptors(fontsize)"
   ]
  },
  {
   "cell_type": "code",
   "execution_count": 2,
   "id": "f4bf65da-0569-4a21-ba20-9cae7d3679e7",
   "metadata": {
    "execution": {
     "iopub.execute_input": "2024-05-27T15:49:51.452708Z",
     "iopub.status.busy": "2024-05-27T15:49:51.451985Z",
     "iopub.status.idle": "2024-05-27T15:49:51.456201Z",
     "shell.execute_reply": "2024-05-27T15:49:51.455507Z"
    },
    "papermill": {
     "duration": 0.018833,
     "end_time": "2024-05-27T15:49:51.458805",
     "exception": false,
     "start_time": "2024-05-27T15:49:51.439972",
     "status": "completed"
    },
    "tags": []
   },
   "outputs": [],
   "source": [
    "# catch passed parameters\n",
    "args = None\n",
    "args = dict(globals()).keys()"
   ]
  },
  {
   "cell_type": "markdown",
   "id": "22c645fc-c7eb-4c69-a7aa-084fc733258f",
   "metadata": {
    "papermill": {
     "duration": 0.010944,
     "end_time": "2024-05-27T15:49:51.480648",
     "exception": false,
     "start_time": "2024-05-27T15:49:51.469704",
     "status": "completed"
    },
    "tags": []
   },
   "source": [
    "## Parameters"
   ]
  },
  {
   "cell_type": "code",
   "execution_count": 3,
   "id": "978876d0-b3cc-4847-8eab-dc0b89ddbbcd",
   "metadata": {
    "execution": {
     "iopub.execute_input": "2024-05-27T15:49:51.504420Z",
     "iopub.status.busy": "2024-05-27T15:49:51.503633Z",
     "iopub.status.idle": "2024-05-27T15:49:51.508424Z",
     "shell.execute_reply": "2024-05-27T15:49:51.507740Z"
    },
    "papermill": {
     "duration": 0.019545,
     "end_time": "2024-05-27T15:49:51.511225",
     "exception": false,
     "start_time": "2024-05-27T15:49:51.491680",
     "status": "completed"
    },
    "tags": [
     "parameters"
    ]
   },
   "outputs": [],
   "source": [
    "folder_experiment = 'runs/appl_ald_data/plasma/proteinGroups'\n",
    "\n",
    "target = 'kleiner'\n",
    "model_key = 'VAE'\n",
    "baseline = 'RSN'\n",
    "out_folder = 'diff_analysis'\n",
    "\n",
    "disease_ontology = 5082  # code from https://disease-ontology.org/\n",
    "# split diseases notebook? Query gene names for proteins in file from uniprot?\n",
    "annotaitons_gene_col = 'PG.Genes'"
   ]
  },
  {
   "cell_type": "code",
   "execution_count": 4,
   "id": "da233c9d",
   "metadata": {
    "execution": {
     "iopub.execute_input": "2024-05-27T15:49:51.534429Z",
     "iopub.status.busy": "2024-05-27T15:49:51.534149Z",
     "iopub.status.idle": "2024-05-27T15:49:51.538320Z",
     "shell.execute_reply": "2024-05-27T15:49:51.537630Z"
    },
    "papermill": {
     "duration": 0.019054,
     "end_time": "2024-05-27T15:49:51.541220",
     "exception": false,
     "start_time": "2024-05-27T15:49:51.522166",
     "status": "completed"
    },
    "tags": [
     "injected-parameters"
    ]
   },
   "outputs": [],
   "source": [
    "# Parameters\n",
    "disease_ontology = 10652\n",
    "folder_experiment = \"runs/alzheimer_study\"\n",
    "target = \"AD\"\n",
    "baseline = \"PI\"\n",
    "model_key = \"VAE\"\n",
    "out_folder = \"diff_analysis\"\n",
    "annotaitons_gene_col = \"None\"\n"
   ]
  },
  {
   "cell_type": "code",
   "execution_count": 5,
   "id": "a8016d79-e41a-40a2-bcbf-e11711c33b7d",
   "metadata": {
    "execution": {
     "iopub.execute_input": "2024-05-27T15:49:51.564663Z",
     "iopub.status.busy": "2024-05-27T15:49:51.564350Z",
     "iopub.status.idle": "2024-05-27T15:49:51.581543Z",
     "shell.execute_reply": "2024-05-27T15:49:51.580814Z"
    },
    "papermill": {
     "duration": 0.037066,
     "end_time": "2024-05-27T15:49:51.589546",
     "exception": false,
     "start_time": "2024-05-27T15:49:51.552480",
     "status": "completed"
    },
    "tags": []
   },
   "outputs": [
    {
     "name": "stderr",
     "output_type": "stream",
     "text": [
      "root - INFO     Removed from global namespace: folder_experiment\n"
     ]
    },
    {
     "name": "stderr",
     "output_type": "stream",
     "text": [
      "root - INFO     Removed from global namespace: target\n"
     ]
    },
    {
     "name": "stderr",
     "output_type": "stream",
     "text": [
      "root - INFO     Removed from global namespace: model_key\n"
     ]
    },
    {
     "name": "stderr",
     "output_type": "stream",
     "text": [
      "root - INFO     Removed from global namespace: baseline\n"
     ]
    },
    {
     "name": "stderr",
     "output_type": "stream",
     "text": [
      "root - INFO     Removed from global namespace: out_folder\n"
     ]
    },
    {
     "name": "stderr",
     "output_type": "stream",
     "text": [
      "root - INFO     Removed from global namespace: disease_ontology\n"
     ]
    },
    {
     "name": "stderr",
     "output_type": "stream",
     "text": [
      "root - INFO     Removed from global namespace: annotaitons_gene_col\n"
     ]
    },
    {
     "data": {
      "text/plain": [
       "{'folder_experiment': 'runs/alzheimer_study',\n",
       " 'target': 'AD',\n",
       " 'model_key': 'VAE',\n",
       " 'baseline': 'PI',\n",
       " 'out_folder': 'diff_analysis',\n",
       " 'disease_ontology': 10652,\n",
       " 'annotaitons_gene_col': 'None'}"
      ]
     },
     "execution_count": 5,
     "metadata": {},
     "output_type": "execute_result"
    }
   ],
   "source": [
    "params = vaep.nb.get_params(args, globals=globals())\n",
    "params"
   ]
  },
  {
   "cell_type": "code",
   "execution_count": 6,
   "id": "5ded6640-99aa-4759-a8ef-b67029f22766",
   "metadata": {
    "execution": {
     "iopub.execute_input": "2024-05-27T15:49:51.615589Z",
     "iopub.status.busy": "2024-05-27T15:49:51.615238Z",
     "iopub.status.idle": "2024-05-27T15:49:51.629869Z",
     "shell.execute_reply": "2024-05-27T15:49:51.629102Z"
    },
    "papermill": {
     "duration": 0.029725,
     "end_time": "2024-05-27T15:49:51.631909",
     "exception": false,
     "start_time": "2024-05-27T15:49:51.602184",
     "status": "completed"
    },
    "tags": []
   },
   "outputs": [
    {
     "name": "stderr",
     "output_type": "stream",
     "text": [
      "root - INFO     Already set attribute: folder_experiment has value runs/alzheimer_study\n"
     ]
    },
    {
     "name": "stderr",
     "output_type": "stream",
     "text": [
      "root - INFO     Already set attribute: out_folder has value diff_analysis\n"
     ]
    },
    {
     "data": {
      "text/plain": [
       "{'annotaitons_gene_col': 'None',\n",
       " 'baseline': 'PI',\n",
       " 'data': PosixPath('runs/alzheimer_study/data'),\n",
       " 'disease_ontology': 10652,\n",
       " 'folder_experiment': PosixPath('runs/alzheimer_study'),\n",
       " 'model_key': 'VAE',\n",
       " 'out_figures': PosixPath('runs/alzheimer_study/figures'),\n",
       " 'out_folder': PosixPath('runs/alzheimer_study/diff_analysis/AD/PI_vs_VAE'),\n",
       " 'out_metrics': PosixPath('runs/alzheimer_study'),\n",
       " 'out_models': PosixPath('runs/alzheimer_study'),\n",
       " 'out_preds': PosixPath('runs/alzheimer_study/preds'),\n",
       " 'scores_folder': PosixPath('runs/alzheimer_study/diff_analysis/AD/scores'),\n",
       " 'target': 'AD'}"
      ]
     },
     "execution_count": 6,
     "metadata": {},
     "output_type": "execute_result"
    }
   ],
   "source": [
    "args = vaep.nb.Config()\n",
    "args.folder_experiment = Path(params[\"folder_experiment\"])\n",
    "args = vaep.nb.add_default_paths(args,\n",
    "                                 out_root=(\n",
    "                                     args.folder_experiment\n",
    "                                     / params[\"out_folder\"]\n",
    "                                     / params[\"target\"]\n",
    "                                     / f\"{params['baseline']}_vs_{params['model_key']}\"))\n",
    "args.update_from_dict(params)\n",
    "args.scores_folder = scores_folder = (args.folder_experiment\n",
    "                                      / params[\"out_folder\"]\n",
    "                                      / params[\"target\"]\n",
    "                                      / 'scores')\n",
    "args"
   ]
  },
  {
   "cell_type": "code",
   "execution_count": 7,
   "id": "112dd9f2-6219-452a-9c6a-b1712dabb164",
   "metadata": {
    "execution": {
     "iopub.execute_input": "2024-05-27T15:49:51.658324Z",
     "iopub.status.busy": "2024-05-27T15:49:51.657995Z",
     "iopub.status.idle": "2024-05-27T15:49:51.663436Z",
     "shell.execute_reply": "2024-05-27T15:49:51.662759Z"
    },
    "papermill": {
     "duration": 0.023318,
     "end_time": "2024-05-27T15:49:51.667626",
     "exception": false,
     "start_time": "2024-05-27T15:49:51.644308",
     "status": "completed"
    },
    "tags": []
   },
   "outputs": [
    {
     "data": {
      "text/plain": [
       "{'freq_features_observed.csv': PosixPath('runs/alzheimer_study/freq_features_observed.csv')}"
      ]
     },
     "execution_count": 7,
     "metadata": {},
     "output_type": "execute_result"
    }
   ],
   "source": [
    "files_in = {\n",
    "    'freq_features_observed.csv': args.folder_experiment / 'freq_features_observed.csv',\n",
    "}\n",
    "files_in"
   ]
  },
  {
   "cell_type": "markdown",
   "id": "c74bcc21-3fb2-4b8d-823a-72a3b6b6e847",
   "metadata": {
    "papermill": {
     "duration": 0.013035,
     "end_time": "2024-05-27T15:49:51.693457",
     "exception": false,
     "start_time": "2024-05-27T15:49:51.680422",
     "status": "completed"
    },
    "tags": []
   },
   "source": [
    "## Excel file for exports"
   ]
  },
  {
   "cell_type": "code",
   "execution_count": 8,
   "id": "12009c54-c45f-4ee0-a9b3-b0e8e5f3cff2",
   "metadata": {
    "execution": {
     "iopub.execute_input": "2024-05-27T15:49:51.719550Z",
     "iopub.status.busy": "2024-05-27T15:49:51.719225Z",
     "iopub.status.idle": "2024-05-27T15:49:51.722937Z",
     "shell.execute_reply": "2024-05-27T15:49:51.722258Z"
    },
    "papermill": {
     "duration": 0.02027,
     "end_time": "2024-05-27T15:49:51.725934",
     "exception": false,
     "start_time": "2024-05-27T15:49:51.705664",
     "status": "completed"
    },
    "tags": []
   },
   "outputs": [],
   "source": [
    "files_out = dict()"
   ]
  },
  {
   "cell_type": "code",
   "execution_count": 9,
   "id": "8ef71b04-d4a5-4def-ad63-866d8bba4a1e",
   "metadata": {
    "execution": {
     "iopub.execute_input": "2024-05-27T15:49:51.752280Z",
     "iopub.status.busy": "2024-05-27T15:49:51.751940Z",
     "iopub.status.idle": "2024-05-27T15:49:51.909595Z",
     "shell.execute_reply": "2024-05-27T15:49:51.908827Z"
    },
    "papermill": {
     "duration": 0.172692,
     "end_time": "2024-05-27T15:49:51.911392",
     "exception": false,
     "start_time": "2024-05-27T15:49:51.738700",
     "status": "completed"
    },
    "tags": []
   },
   "outputs": [
    {
     "data": {
      "text/plain": [
       "PosixPath('runs/alzheimer_study/diff_analysis/AD/PI_vs_VAE/diff_analysis_compare_methods.xlsx')"
      ]
     },
     "execution_count": 9,
     "metadata": {},
     "output_type": "execute_result"
    }
   ],
   "source": [
    "writer_args = dict(float_format='%.3f')\n",
    "\n",
    "fname = args.out_folder / 'diff_analysis_compare_methods.xlsx'\n",
    "files_out[fname.name] = fname\n",
    "writer = pd.ExcelWriter(fname)\n",
    "fname"
   ]
  },
  {
   "cell_type": "markdown",
   "id": "770d1f76-e86f-4ae3-9d7b-ceef9b9e9a22",
   "metadata": {
    "papermill": {
     "duration": 0.024263,
     "end_time": "2024-05-27T15:49:52.025822",
     "exception": false,
     "start_time": "2024-05-27T15:49:52.001559",
     "status": "completed"
    },
    "tags": []
   },
   "source": [
    "## Load scores"
   ]
  },
  {
   "cell_type": "code",
   "execution_count": 10,
   "id": "e8bbada7-8b8e-4399-b0d3-b66c40905839",
   "metadata": {
    "execution": {
     "iopub.execute_input": "2024-05-27T15:49:52.095919Z",
     "iopub.status.busy": "2024-05-27T15:49:52.095552Z",
     "iopub.status.idle": "2024-05-27T15:49:52.102359Z",
     "shell.execute_reply": "2024-05-27T15:49:52.101618Z"
    },
    "papermill": {
     "duration": 0.05,
     "end_time": "2024-05-27T15:49:52.109035",
     "exception": false,
     "start_time": "2024-05-27T15:49:52.059035",
     "status": "completed"
    },
    "tags": []
   },
   "outputs": [
    {
     "data": {
      "text/plain": [
       "[PosixPath('runs/alzheimer_study/diff_analysis/AD/scores/10_1_ald_diff_analysis_None.ipynb'),\n",
       " PosixPath('runs/alzheimer_study/diff_analysis/AD/scores/diff_analysis_scores_None.pkl'),\n",
       " PosixPath('runs/alzheimer_study/diff_analysis/AD/scores/diff_analysis_scores_PI.pkl'),\n",
       " PosixPath('runs/alzheimer_study/diff_analysis/AD/scores/10_1_ald_diff_analysis_Median.ipynb'),\n",
       " PosixPath('runs/alzheimer_study/diff_analysis/AD/scores/10_1_ald_diff_analysis_RF.html'),\n",
       " PosixPath('runs/alzheimer_study/diff_analysis/AD/scores/diff_analysis_scores_TRKNN.pkl'),\n",
       " PosixPath('runs/alzheimer_study/diff_analysis/AD/scores/10_1_ald_diff_analysis_VAE.ipynb'),\n",
       " PosixPath('runs/alzheimer_study/diff_analysis/AD/scores/diff_analysis_scores_DAE.pkl'),\n",
       " PosixPath('runs/alzheimer_study/diff_analysis/AD/scores/diff_analysis_scores_RF.pkl'),\n",
       " PosixPath('runs/alzheimer_study/diff_analysis/AD/scores/10_1_ald_diff_analysis_DAE.html'),\n",
       " PosixPath('runs/alzheimer_study/diff_analysis/AD/scores/10_1_ald_diff_analysis_QRILC.html'),\n",
       " PosixPath('runs/alzheimer_study/diff_analysis/AD/scores/10_1_ald_diff_analysis_QRILC.ipynb'),\n",
       " PosixPath('runs/alzheimer_study/diff_analysis/AD/scores/diff_analysis_scores_VAE.pkl'),\n",
       " PosixPath('runs/alzheimer_study/diff_analysis/AD/scores/10_1_ald_diff_analysis_Median.html'),\n",
       " PosixPath('runs/alzheimer_study/diff_analysis/AD/scores/diff_analysis_scores_QRILC.pkl'),\n",
       " PosixPath('runs/alzheimer_study/diff_analysis/AD/scores/10_1_ald_diff_analysis_TRKNN.ipynb'),\n",
       " PosixPath('runs/alzheimer_study/diff_analysis/AD/scores/10_1_ald_diff_analysis_PI.ipynb'),\n",
       " PosixPath('runs/alzheimer_study/diff_analysis/AD/scores/10_1_ald_diff_analysis_None.html'),\n",
       " PosixPath('runs/alzheimer_study/diff_analysis/AD/scores/10_1_ald_diff_analysis_DAE.ipynb'),\n",
       " PosixPath('runs/alzheimer_study/diff_analysis/AD/scores/10_1_ald_diff_analysis_PI.html'),\n",
       " PosixPath('runs/alzheimer_study/diff_analysis/AD/scores/diff_analysis_scores_Median.pkl'),\n",
       " PosixPath('runs/alzheimer_study/diff_analysis/AD/scores/10_1_ald_diff_analysis_VAE.html'),\n",
       " PosixPath('runs/alzheimer_study/diff_analysis/AD/scores/10_1_ald_diff_analysis_TRKNN.html'),\n",
       " PosixPath('runs/alzheimer_study/diff_analysis/AD/scores/10_1_ald_diff_analysis_RF.ipynb')]"
      ]
     },
     "execution_count": 10,
     "metadata": {},
     "output_type": "execute_result"
    }
   ],
   "source": [
    "[x for x in args.scores_folder.iterdir() if 'scores' in str(x)]"
   ]
  },
  {
   "cell_type": "code",
   "execution_count": 11,
   "id": "97221134-5f61-4158-bfc5-ea30077140b8",
   "metadata": {
    "execution": {
     "iopub.execute_input": "2024-05-27T15:49:52.190236Z",
     "iopub.status.busy": "2024-05-27T15:49:52.189877Z",
     "iopub.status.idle": "2024-05-27T15:49:52.233642Z",
     "shell.execute_reply": "2024-05-27T15:49:52.232816Z"
    },
    "papermill": {
     "duration": 0.070958,
     "end_time": "2024-05-27T15:49:52.235772",
     "exception": false,
     "start_time": "2024-05-27T15:49:52.164814",
     "status": "completed"
    },
    "tags": []
   },
   "outputs": [
    {
     "data": {
      "text/html": [
       "<div>\n",
       "<style scoped>\n",
       "    .dataframe tbody tr th:only-of-type {\n",
       "        vertical-align: middle;\n",
       "    }\n",
       "\n",
       "    .dataframe tbody tr th {\n",
       "        vertical-align: top;\n",
       "    }\n",
       "\n",
       "    .dataframe thead tr th {\n",
       "        text-align: left;\n",
       "    }\n",
       "\n",
       "    .dataframe thead tr:last-of-type th {\n",
       "        text-align: right;\n",
       "    }\n",
       "</style>\n",
       "<table border=\"1\" class=\"dataframe\">\n",
       "  <thead>\n",
       "    <tr>\n",
       "      <th></th>\n",
       "      <th>model</th>\n",
       "      <th colspan=\"8\" halign=\"left\">PI</th>\n",
       "    </tr>\n",
       "    <tr>\n",
       "      <th></th>\n",
       "      <th>var</th>\n",
       "      <th>SS</th>\n",
       "      <th>DF</th>\n",
       "      <th>F</th>\n",
       "      <th>p-unc</th>\n",
       "      <th>np2</th>\n",
       "      <th>-Log10 pvalue</th>\n",
       "      <th>qvalue</th>\n",
       "      <th>rejected</th>\n",
       "    </tr>\n",
       "    <tr>\n",
       "      <th>protein groups</th>\n",
       "      <th>Source</th>\n",
       "      <th></th>\n",
       "      <th></th>\n",
       "      <th></th>\n",
       "      <th></th>\n",
       "      <th></th>\n",
       "      <th></th>\n",
       "      <th></th>\n",
       "      <th></th>\n",
       "    </tr>\n",
       "  </thead>\n",
       "  <tbody>\n",
       "    <tr>\n",
       "      <th rowspan=\"5\" valign=\"top\">A0A024QZX5;A0A087X1N8;P35237</th>\n",
       "      <th>AD</th>\n",
       "      <td>0.401</td>\n",
       "      <td>1</td>\n",
       "      <td>0.728</td>\n",
       "      <td>0.395</td>\n",
       "      <td>0.004</td>\n",
       "      <td>0.404</td>\n",
       "      <td>0.554</td>\n",
       "      <td>False</td>\n",
       "    </tr>\n",
       "    <tr>\n",
       "      <th>age</th>\n",
       "      <td>0.079</td>\n",
       "      <td>1</td>\n",
       "      <td>0.143</td>\n",
       "      <td>0.706</td>\n",
       "      <td>0.001</td>\n",
       "      <td>0.151</td>\n",
       "      <td>0.811</td>\n",
       "      <td>False</td>\n",
       "    </tr>\n",
       "    <tr>\n",
       "      <th>Kiel</th>\n",
       "      <td>1.874</td>\n",
       "      <td>1</td>\n",
       "      <td>3.399</td>\n",
       "      <td>0.067</td>\n",
       "      <td>0.017</td>\n",
       "      <td>1.175</td>\n",
       "      <td>0.154</td>\n",
       "      <td>False</td>\n",
       "    </tr>\n",
       "    <tr>\n",
       "      <th>Magdeburg</th>\n",
       "      <td>4.527</td>\n",
       "      <td>1</td>\n",
       "      <td>8.211</td>\n",
       "      <td>0.005</td>\n",
       "      <td>0.041</td>\n",
       "      <td>2.334</td>\n",
       "      <td>0.018</td>\n",
       "      <td>True</td>\n",
       "    </tr>\n",
       "    <tr>\n",
       "      <th>Sweden</th>\n",
       "      <td>7.021</td>\n",
       "      <td>1</td>\n",
       "      <td>12.734</td>\n",
       "      <td>0.000</td>\n",
       "      <td>0.063</td>\n",
       "      <td>3.343</td>\n",
       "      <td>0.003</td>\n",
       "      <td>True</td>\n",
       "    </tr>\n",
       "    <tr>\n",
       "      <th>...</th>\n",
       "      <th>...</th>\n",
       "      <td>...</td>\n",
       "      <td>...</td>\n",
       "      <td>...</td>\n",
       "      <td>...</td>\n",
       "      <td>...</td>\n",
       "      <td>...</td>\n",
       "      <td>...</td>\n",
       "      <td>...</td>\n",
       "    </tr>\n",
       "    <tr>\n",
       "      <th rowspan=\"5\" valign=\"top\">S4R3U6</th>\n",
       "      <th>AD</th>\n",
       "      <td>0.103</td>\n",
       "      <td>1</td>\n",
       "      <td>0.104</td>\n",
       "      <td>0.747</td>\n",
       "      <td>0.001</td>\n",
       "      <td>0.126</td>\n",
       "      <td>0.840</td>\n",
       "      <td>False</td>\n",
       "    </tr>\n",
       "    <tr>\n",
       "      <th>age</th>\n",
       "      <td>1.285</td>\n",
       "      <td>1</td>\n",
       "      <td>1.292</td>\n",
       "      <td>0.257</td>\n",
       "      <td>0.007</td>\n",
       "      <td>0.590</td>\n",
       "      <td>0.412</td>\n",
       "      <td>False</td>\n",
       "    </tr>\n",
       "    <tr>\n",
       "      <th>Kiel</th>\n",
       "      <td>0.004</td>\n",
       "      <td>1</td>\n",
       "      <td>0.004</td>\n",
       "      <td>0.950</td>\n",
       "      <td>0.000</td>\n",
       "      <td>0.022</td>\n",
       "      <td>0.973</td>\n",
       "      <td>False</td>\n",
       "    </tr>\n",
       "    <tr>\n",
       "      <th>Magdeburg</th>\n",
       "      <td>2.678</td>\n",
       "      <td>1</td>\n",
       "      <td>2.693</td>\n",
       "      <td>0.102</td>\n",
       "      <td>0.014</td>\n",
       "      <td>0.990</td>\n",
       "      <td>0.214</td>\n",
       "      <td>False</td>\n",
       "    </tr>\n",
       "    <tr>\n",
       "      <th>Sweden</th>\n",
       "      <td>9.290</td>\n",
       "      <td>1</td>\n",
       "      <td>9.343</td>\n",
       "      <td>0.003</td>\n",
       "      <td>0.047</td>\n",
       "      <td>2.592</td>\n",
       "      <td>0.011</td>\n",
       "      <td>True</td>\n",
       "    </tr>\n",
       "  </tbody>\n",
       "</table>\n",
       "<p>7105 rows × 8 columns</p>\n",
       "</div>"
      ],
      "text/plain": [
       "model                                     PI                        \\\n",
       "var                                       SS DF      F p-unc   np2   \n",
       "protein groups               Source                                  \n",
       "A0A024QZX5;A0A087X1N8;P35237 AD        0.401  1  0.728 0.395 0.004   \n",
       "                             age       0.079  1  0.143 0.706 0.001   \n",
       "                             Kiel      1.874  1  3.399 0.067 0.017   \n",
       "                             Magdeburg 4.527  1  8.211 0.005 0.041   \n",
       "                             Sweden    7.021  1 12.734 0.000 0.063   \n",
       "...                                      ... ..    ...   ...   ...   \n",
       "S4R3U6                       AD        0.103  1  0.104 0.747 0.001   \n",
       "                             age       1.285  1  1.292 0.257 0.007   \n",
       "                             Kiel      0.004  1  0.004 0.950 0.000   \n",
       "                             Magdeburg 2.678  1  2.693 0.102 0.014   \n",
       "                             Sweden    9.290  1  9.343 0.003 0.047   \n",
       "\n",
       "model                                                                 \n",
       "var                                    -Log10 pvalue qvalue rejected  \n",
       "protein groups               Source                                   \n",
       "A0A024QZX5;A0A087X1N8;P35237 AD                0.404  0.554    False  \n",
       "                             age               0.151  0.811    False  \n",
       "                             Kiel              1.175  0.154    False  \n",
       "                             Magdeburg         2.334  0.018     True  \n",
       "                             Sweden            3.343  0.003     True  \n",
       "...                                              ...    ...      ...  \n",
       "S4R3U6                       AD                0.126  0.840    False  \n",
       "                             age               0.590  0.412    False  \n",
       "                             Kiel              0.022  0.973    False  \n",
       "                             Magdeburg         0.990  0.214    False  \n",
       "                             Sweden            2.592  0.011     True  \n",
       "\n",
       "[7105 rows x 8 columns]"
      ]
     },
     "execution_count": 11,
     "metadata": {},
     "output_type": "execute_result"
    }
   ],
   "source": [
    "fname = args.scores_folder / f'diff_analysis_scores_{args.baseline}.pkl'\n",
    "scores_baseline = pd.read_pickle(fname)\n",
    "scores_baseline"
   ]
  },
  {
   "cell_type": "code",
   "execution_count": 12,
   "id": "f0635e4d",
   "metadata": {
    "execution": {
     "iopub.execute_input": "2024-05-27T15:49:52.276902Z",
     "iopub.status.busy": "2024-05-27T15:49:52.276527Z",
     "iopub.status.idle": "2024-05-27T15:49:52.321253Z",
     "shell.execute_reply": "2024-05-27T15:49:52.320401Z"
    },
    "papermill": {
     "duration": 0.07339,
     "end_time": "2024-05-27T15:49:52.323154",
     "exception": false,
     "start_time": "2024-05-27T15:49:52.249764",
     "status": "completed"
    },
    "tags": []
   },
   "outputs": [
    {
     "data": {
      "text/html": [
       "<div>\n",
       "<style scoped>\n",
       "    .dataframe tbody tr th:only-of-type {\n",
       "        vertical-align: middle;\n",
       "    }\n",
       "\n",
       "    .dataframe tbody tr th {\n",
       "        vertical-align: top;\n",
       "    }\n",
       "\n",
       "    .dataframe thead tr th {\n",
       "        text-align: left;\n",
       "    }\n",
       "\n",
       "    .dataframe thead tr:last-of-type th {\n",
       "        text-align: right;\n",
       "    }\n",
       "</style>\n",
       "<table border=\"1\" class=\"dataframe\">\n",
       "  <thead>\n",
       "    <tr>\n",
       "      <th></th>\n",
       "      <th>model</th>\n",
       "      <th colspan=\"8\" halign=\"left\">VAE</th>\n",
       "    </tr>\n",
       "    <tr>\n",
       "      <th></th>\n",
       "      <th>var</th>\n",
       "      <th>SS</th>\n",
       "      <th>DF</th>\n",
       "      <th>F</th>\n",
       "      <th>p-unc</th>\n",
       "      <th>np2</th>\n",
       "      <th>-Log10 pvalue</th>\n",
       "      <th>qvalue</th>\n",
       "      <th>rejected</th>\n",
       "    </tr>\n",
       "    <tr>\n",
       "      <th>protein groups</th>\n",
       "      <th>Source</th>\n",
       "      <th></th>\n",
       "      <th></th>\n",
       "      <th></th>\n",
       "      <th></th>\n",
       "      <th></th>\n",
       "      <th></th>\n",
       "      <th></th>\n",
       "      <th></th>\n",
       "    </tr>\n",
       "  </thead>\n",
       "  <tbody>\n",
       "    <tr>\n",
       "      <th rowspan=\"5\" valign=\"top\">A0A024QZX5;A0A087X1N8;P35237</th>\n",
       "      <th>AD</th>\n",
       "      <td>1.126</td>\n",
       "      <td>1</td>\n",
       "      <td>8.133</td>\n",
       "      <td>0.005</td>\n",
       "      <td>0.041</td>\n",
       "      <td>2.316</td>\n",
       "      <td>0.014</td>\n",
       "      <td>True</td>\n",
       "    </tr>\n",
       "    <tr>\n",
       "      <th>age</th>\n",
       "      <td>0.011</td>\n",
       "      <td>1</td>\n",
       "      <td>0.076</td>\n",
       "      <td>0.783</td>\n",
       "      <td>0.000</td>\n",
       "      <td>0.107</td>\n",
       "      <td>0.853</td>\n",
       "      <td>False</td>\n",
       "    </tr>\n",
       "    <tr>\n",
       "      <th>Kiel</th>\n",
       "      <td>0.290</td>\n",
       "      <td>1</td>\n",
       "      <td>2.097</td>\n",
       "      <td>0.149</td>\n",
       "      <td>0.011</td>\n",
       "      <td>0.826</td>\n",
       "      <td>0.249</td>\n",
       "      <td>False</td>\n",
       "    </tr>\n",
       "    <tr>\n",
       "      <th>Magdeburg</th>\n",
       "      <td>0.444</td>\n",
       "      <td>1</td>\n",
       "      <td>3.204</td>\n",
       "      <td>0.075</td>\n",
       "      <td>0.016</td>\n",
       "      <td>1.125</td>\n",
       "      <td>0.143</td>\n",
       "      <td>False</td>\n",
       "    </tr>\n",
       "    <tr>\n",
       "      <th>Sweden</th>\n",
       "      <td>1.646</td>\n",
       "      <td>1</td>\n",
       "      <td>11.885</td>\n",
       "      <td>0.001</td>\n",
       "      <td>0.059</td>\n",
       "      <td>3.157</td>\n",
       "      <td>0.003</td>\n",
       "      <td>True</td>\n",
       "    </tr>\n",
       "    <tr>\n",
       "      <th>...</th>\n",
       "      <th>...</th>\n",
       "      <td>...</td>\n",
       "      <td>...</td>\n",
       "      <td>...</td>\n",
       "      <td>...</td>\n",
       "      <td>...</td>\n",
       "      <td>...</td>\n",
       "      <td>...</td>\n",
       "      <td>...</td>\n",
       "    </tr>\n",
       "    <tr>\n",
       "      <th rowspan=\"5\" valign=\"top\">S4R3U6</th>\n",
       "      <th>AD</th>\n",
       "      <td>1.823</td>\n",
       "      <td>1</td>\n",
       "      <td>3.679</td>\n",
       "      <td>0.057</td>\n",
       "      <td>0.019</td>\n",
       "      <td>1.247</td>\n",
       "      <td>0.113</td>\n",
       "      <td>False</td>\n",
       "    </tr>\n",
       "    <tr>\n",
       "      <th>age</th>\n",
       "      <td>0.688</td>\n",
       "      <td>1</td>\n",
       "      <td>1.388</td>\n",
       "      <td>0.240</td>\n",
       "      <td>0.007</td>\n",
       "      <td>0.619</td>\n",
       "      <td>0.361</td>\n",
       "      <td>False</td>\n",
       "    </tr>\n",
       "    <tr>\n",
       "      <th>Kiel</th>\n",
       "      <td>2.352</td>\n",
       "      <td>1</td>\n",
       "      <td>4.746</td>\n",
       "      <td>0.031</td>\n",
       "      <td>0.024</td>\n",
       "      <td>1.514</td>\n",
       "      <td>0.068</td>\n",
       "      <td>False</td>\n",
       "    </tr>\n",
       "    <tr>\n",
       "      <th>Magdeburg</th>\n",
       "      <td>2.036</td>\n",
       "      <td>1</td>\n",
       "      <td>4.108</td>\n",
       "      <td>0.044</td>\n",
       "      <td>0.021</td>\n",
       "      <td>1.356</td>\n",
       "      <td>0.092</td>\n",
       "      <td>False</td>\n",
       "    </tr>\n",
       "    <tr>\n",
       "      <th>Sweden</th>\n",
       "      <td>17.692</td>\n",
       "      <td>1</td>\n",
       "      <td>35.694</td>\n",
       "      <td>0.000</td>\n",
       "      <td>0.157</td>\n",
       "      <td>7.955</td>\n",
       "      <td>0.000</td>\n",
       "      <td>True</td>\n",
       "    </tr>\n",
       "  </tbody>\n",
       "</table>\n",
       "<p>7105 rows × 8 columns</p>\n",
       "</div>"
      ],
      "text/plain": [
       "model                                     VAE                        \\\n",
       "var                                        SS DF      F p-unc   np2   \n",
       "protein groups               Source                                   \n",
       "A0A024QZX5;A0A087X1N8;P35237 AD         1.126  1  8.133 0.005 0.041   \n",
       "                             age        0.011  1  0.076 0.783 0.000   \n",
       "                             Kiel       0.290  1  2.097 0.149 0.011   \n",
       "                             Magdeburg  0.444  1  3.204 0.075 0.016   \n",
       "                             Sweden     1.646  1 11.885 0.001 0.059   \n",
       "...                                       ... ..    ...   ...   ...   \n",
       "S4R3U6                       AD         1.823  1  3.679 0.057 0.019   \n",
       "                             age        0.688  1  1.388 0.240 0.007   \n",
       "                             Kiel       2.352  1  4.746 0.031 0.024   \n",
       "                             Magdeburg  2.036  1  4.108 0.044 0.021   \n",
       "                             Sweden    17.692  1 35.694 0.000 0.157   \n",
       "\n",
       "model                                                                 \n",
       "var                                    -Log10 pvalue qvalue rejected  \n",
       "protein groups               Source                                   \n",
       "A0A024QZX5;A0A087X1N8;P35237 AD                2.316  0.014     True  \n",
       "                             age               0.107  0.853    False  \n",
       "                             Kiel              0.826  0.249    False  \n",
       "                             Magdeburg         1.125  0.143    False  \n",
       "                             Sweden            3.157  0.003     True  \n",
       "...                                              ...    ...      ...  \n",
       "S4R3U6                       AD                1.247  0.113    False  \n",
       "                             age               0.619  0.361    False  \n",
       "                             Kiel              1.514  0.068    False  \n",
       "                             Magdeburg         1.356  0.092    False  \n",
       "                             Sweden            7.955  0.000     True  \n",
       "\n",
       "[7105 rows x 8 columns]"
      ]
     },
     "execution_count": 12,
     "metadata": {},
     "output_type": "execute_result"
    }
   ],
   "source": [
    "fname = args.scores_folder / f'diff_analysis_scores_{args.model_key}.pkl'\n",
    "scores_model = pd.read_pickle(fname)\n",
    "scores_model"
   ]
  },
  {
   "cell_type": "code",
   "execution_count": 13,
   "id": "373fdf65",
   "metadata": {
    "execution": {
     "iopub.execute_input": "2024-05-27T15:49:52.374064Z",
     "iopub.status.busy": "2024-05-27T15:49:52.373640Z",
     "iopub.status.idle": "2024-05-27T15:49:52.446077Z",
     "shell.execute_reply": "2024-05-27T15:49:52.445166Z"
    },
    "papermill": {
     "duration": 0.097799,
     "end_time": "2024-05-27T15:49:52.448058",
     "exception": false,
     "start_time": "2024-05-27T15:49:52.350259",
     "status": "completed"
    },
    "tags": []
   },
   "outputs": [
    {
     "data": {
      "text/html": [
       "<div>\n",
       "<style scoped>\n",
       "    .dataframe tbody tr th:only-of-type {\n",
       "        vertical-align: middle;\n",
       "    }\n",
       "\n",
       "    .dataframe tbody tr th {\n",
       "        vertical-align: top;\n",
       "    }\n",
       "\n",
       "    .dataframe thead tr th {\n",
       "        text-align: left;\n",
       "    }\n",
       "\n",
       "    .dataframe thead tr:last-of-type th {\n",
       "        text-align: right;\n",
       "    }\n",
       "</style>\n",
       "<table border=\"1\" class=\"dataframe\">\n",
       "  <thead>\n",
       "    <tr>\n",
       "      <th></th>\n",
       "      <th>model</th>\n",
       "      <th colspan=\"8\" halign=\"left\">PI</th>\n",
       "      <th colspan=\"8\" halign=\"left\">VAE</th>\n",
       "    </tr>\n",
       "    <tr>\n",
       "      <th></th>\n",
       "      <th>var</th>\n",
       "      <th>SS</th>\n",
       "      <th>DF</th>\n",
       "      <th>F</th>\n",
       "      <th>p-unc</th>\n",
       "      <th>np2</th>\n",
       "      <th>-Log10 pvalue</th>\n",
       "      <th>qvalue</th>\n",
       "      <th>rejected</th>\n",
       "      <th>SS</th>\n",
       "      <th>DF</th>\n",
       "      <th>F</th>\n",
       "      <th>p-unc</th>\n",
       "      <th>np2</th>\n",
       "      <th>-Log10 pvalue</th>\n",
       "      <th>qvalue</th>\n",
       "      <th>rejected</th>\n",
       "    </tr>\n",
       "    <tr>\n",
       "      <th>protein groups</th>\n",
       "      <th>Source</th>\n",
       "      <th></th>\n",
       "      <th></th>\n",
       "      <th></th>\n",
       "      <th></th>\n",
       "      <th></th>\n",
       "      <th></th>\n",
       "      <th></th>\n",
       "      <th></th>\n",
       "      <th></th>\n",
       "      <th></th>\n",
       "      <th></th>\n",
       "      <th></th>\n",
       "      <th></th>\n",
       "      <th></th>\n",
       "      <th></th>\n",
       "      <th></th>\n",
       "    </tr>\n",
       "  </thead>\n",
       "  <tbody>\n",
       "    <tr>\n",
       "      <th rowspan=\"5\" valign=\"top\">A0A024QZX5;A0A087X1N8;P35237</th>\n",
       "      <th>AD</th>\n",
       "      <td>0.401</td>\n",
       "      <td>1</td>\n",
       "      <td>0.728</td>\n",
       "      <td>0.395</td>\n",
       "      <td>0.004</td>\n",
       "      <td>0.404</td>\n",
       "      <td>0.554</td>\n",
       "      <td>False</td>\n",
       "      <td>1.126</td>\n",
       "      <td>1</td>\n",
       "      <td>8.133</td>\n",
       "      <td>0.005</td>\n",
       "      <td>0.041</td>\n",
       "      <td>2.316</td>\n",
       "      <td>0.014</td>\n",
       "      <td>True</td>\n",
       "    </tr>\n",
       "    <tr>\n",
       "      <th>age</th>\n",
       "      <td>0.079</td>\n",
       "      <td>1</td>\n",
       "      <td>0.143</td>\n",
       "      <td>0.706</td>\n",
       "      <td>0.001</td>\n",
       "      <td>0.151</td>\n",
       "      <td>0.811</td>\n",
       "      <td>False</td>\n",
       "      <td>0.011</td>\n",
       "      <td>1</td>\n",
       "      <td>0.076</td>\n",
       "      <td>0.783</td>\n",
       "      <td>0.000</td>\n",
       "      <td>0.107</td>\n",
       "      <td>0.853</td>\n",
       "      <td>False</td>\n",
       "    </tr>\n",
       "    <tr>\n",
       "      <th>Kiel</th>\n",
       "      <td>1.874</td>\n",
       "      <td>1</td>\n",
       "      <td>3.399</td>\n",
       "      <td>0.067</td>\n",
       "      <td>0.017</td>\n",
       "      <td>1.175</td>\n",
       "      <td>0.154</td>\n",
       "      <td>False</td>\n",
       "      <td>0.290</td>\n",
       "      <td>1</td>\n",
       "      <td>2.097</td>\n",
       "      <td>0.149</td>\n",
       "      <td>0.011</td>\n",
       "      <td>0.826</td>\n",
       "      <td>0.249</td>\n",
       "      <td>False</td>\n",
       "    </tr>\n",
       "    <tr>\n",
       "      <th>Magdeburg</th>\n",
       "      <td>4.527</td>\n",
       "      <td>1</td>\n",
       "      <td>8.211</td>\n",
       "      <td>0.005</td>\n",
       "      <td>0.041</td>\n",
       "      <td>2.334</td>\n",
       "      <td>0.018</td>\n",
       "      <td>True</td>\n",
       "      <td>0.444</td>\n",
       "      <td>1</td>\n",
       "      <td>3.204</td>\n",
       "      <td>0.075</td>\n",
       "      <td>0.016</td>\n",
       "      <td>1.125</td>\n",
       "      <td>0.143</td>\n",
       "      <td>False</td>\n",
       "    </tr>\n",
       "    <tr>\n",
       "      <th>Sweden</th>\n",
       "      <td>7.021</td>\n",
       "      <td>1</td>\n",
       "      <td>12.734</td>\n",
       "      <td>0.000</td>\n",
       "      <td>0.063</td>\n",
       "      <td>3.343</td>\n",
       "      <td>0.003</td>\n",
       "      <td>True</td>\n",
       "      <td>1.646</td>\n",
       "      <td>1</td>\n",
       "      <td>11.885</td>\n",
       "      <td>0.001</td>\n",
       "      <td>0.059</td>\n",
       "      <td>3.157</td>\n",
       "      <td>0.003</td>\n",
       "      <td>True</td>\n",
       "    </tr>\n",
       "    <tr>\n",
       "      <th>...</th>\n",
       "      <th>...</th>\n",
       "      <td>...</td>\n",
       "      <td>...</td>\n",
       "      <td>...</td>\n",
       "      <td>...</td>\n",
       "      <td>...</td>\n",
       "      <td>...</td>\n",
       "      <td>...</td>\n",
       "      <td>...</td>\n",
       "      <td>...</td>\n",
       "      <td>...</td>\n",
       "      <td>...</td>\n",
       "      <td>...</td>\n",
       "      <td>...</td>\n",
       "      <td>...</td>\n",
       "      <td>...</td>\n",
       "      <td>...</td>\n",
       "    </tr>\n",
       "    <tr>\n",
       "      <th rowspan=\"5\" valign=\"top\">S4R3U6</th>\n",
       "      <th>AD</th>\n",
       "      <td>0.103</td>\n",
       "      <td>1</td>\n",
       "      <td>0.104</td>\n",
       "      <td>0.747</td>\n",
       "      <td>0.001</td>\n",
       "      <td>0.126</td>\n",
       "      <td>0.840</td>\n",
       "      <td>False</td>\n",
       "      <td>1.823</td>\n",
       "      <td>1</td>\n",
       "      <td>3.679</td>\n",
       "      <td>0.057</td>\n",
       "      <td>0.019</td>\n",
       "      <td>1.247</td>\n",
       "      <td>0.113</td>\n",
       "      <td>False</td>\n",
       "    </tr>\n",
       "    <tr>\n",
       "      <th>age</th>\n",
       "      <td>1.285</td>\n",
       "      <td>1</td>\n",
       "      <td>1.292</td>\n",
       "      <td>0.257</td>\n",
       "      <td>0.007</td>\n",
       "      <td>0.590</td>\n",
       "      <td>0.412</td>\n",
       "      <td>False</td>\n",
       "      <td>0.688</td>\n",
       "      <td>1</td>\n",
       "      <td>1.388</td>\n",
       "      <td>0.240</td>\n",
       "      <td>0.007</td>\n",
       "      <td>0.619</td>\n",
       "      <td>0.361</td>\n",
       "      <td>False</td>\n",
       "    </tr>\n",
       "    <tr>\n",
       "      <th>Kiel</th>\n",
       "      <td>0.004</td>\n",
       "      <td>1</td>\n",
       "      <td>0.004</td>\n",
       "      <td>0.950</td>\n",
       "      <td>0.000</td>\n",
       "      <td>0.022</td>\n",
       "      <td>0.973</td>\n",
       "      <td>False</td>\n",
       "      <td>2.352</td>\n",
       "      <td>1</td>\n",
       "      <td>4.746</td>\n",
       "      <td>0.031</td>\n",
       "      <td>0.024</td>\n",
       "      <td>1.514</td>\n",
       "      <td>0.068</td>\n",
       "      <td>False</td>\n",
       "    </tr>\n",
       "    <tr>\n",
       "      <th>Magdeburg</th>\n",
       "      <td>2.678</td>\n",
       "      <td>1</td>\n",
       "      <td>2.693</td>\n",
       "      <td>0.102</td>\n",
       "      <td>0.014</td>\n",
       "      <td>0.990</td>\n",
       "      <td>0.214</td>\n",
       "      <td>False</td>\n",
       "      <td>2.036</td>\n",
       "      <td>1</td>\n",
       "      <td>4.108</td>\n",
       "      <td>0.044</td>\n",
       "      <td>0.021</td>\n",
       "      <td>1.356</td>\n",
       "      <td>0.092</td>\n",
       "      <td>False</td>\n",
       "    </tr>\n",
       "    <tr>\n",
       "      <th>Sweden</th>\n",
       "      <td>9.290</td>\n",
       "      <td>1</td>\n",
       "      <td>9.343</td>\n",
       "      <td>0.003</td>\n",
       "      <td>0.047</td>\n",
       "      <td>2.592</td>\n",
       "      <td>0.011</td>\n",
       "      <td>True</td>\n",
       "      <td>17.692</td>\n",
       "      <td>1</td>\n",
       "      <td>35.694</td>\n",
       "      <td>0.000</td>\n",
       "      <td>0.157</td>\n",
       "      <td>7.955</td>\n",
       "      <td>0.000</td>\n",
       "      <td>True</td>\n",
       "    </tr>\n",
       "  </tbody>\n",
       "</table>\n",
       "<p>7105 rows × 16 columns</p>\n",
       "</div>"
      ],
      "text/plain": [
       "model                                     PI                        \\\n",
       "var                                       SS DF      F p-unc   np2   \n",
       "protein groups               Source                                  \n",
       "A0A024QZX5;A0A087X1N8;P35237 AD        0.401  1  0.728 0.395 0.004   \n",
       "                             age       0.079  1  0.143 0.706 0.001   \n",
       "                             Kiel      1.874  1  3.399 0.067 0.017   \n",
       "                             Magdeburg 4.527  1  8.211 0.005 0.041   \n",
       "                             Sweden    7.021  1 12.734 0.000 0.063   \n",
       "...                                      ... ..    ...   ...   ...   \n",
       "S4R3U6                       AD        0.103  1  0.104 0.747 0.001   \n",
       "                             age       1.285  1  1.292 0.257 0.007   \n",
       "                             Kiel      0.004  1  0.004 0.950 0.000   \n",
       "                             Magdeburg 2.678  1  2.693 0.102 0.014   \n",
       "                             Sweden    9.290  1  9.343 0.003 0.047   \n",
       "\n",
       "model                                                                   VAE  \\\n",
       "var                                    -Log10 pvalue qvalue rejected     SS   \n",
       "protein groups               Source                                           \n",
       "A0A024QZX5;A0A087X1N8;P35237 AD                0.404  0.554    False  1.126   \n",
       "                             age               0.151  0.811    False  0.011   \n",
       "                             Kiel              1.175  0.154    False  0.290   \n",
       "                             Magdeburg         2.334  0.018     True  0.444   \n",
       "                             Sweden            3.343  0.003     True  1.646   \n",
       "...                                              ...    ...      ...    ...   \n",
       "S4R3U6                       AD                0.126  0.840    False  1.823   \n",
       "                             age               0.590  0.412    False  0.688   \n",
       "                             Kiel              0.022  0.973    False  2.352   \n",
       "                             Magdeburg         0.990  0.214    False  2.036   \n",
       "                             Sweden            2.592  0.011     True 17.692   \n",
       "\n",
       "model                                                                       \\\n",
       "var                                    DF      F p-unc   np2 -Log10 pvalue   \n",
       "protein groups               Source                                          \n",
       "A0A024QZX5;A0A087X1N8;P35237 AD         1  8.133 0.005 0.041         2.316   \n",
       "                             age        1  0.076 0.783 0.000         0.107   \n",
       "                             Kiel       1  2.097 0.149 0.011         0.826   \n",
       "                             Magdeburg  1  3.204 0.075 0.016         1.125   \n",
       "                             Sweden     1 11.885 0.001 0.059         3.157   \n",
       "...                                    ..    ...   ...   ...           ...   \n",
       "S4R3U6                       AD         1  3.679 0.057 0.019         1.247   \n",
       "                             age        1  1.388 0.240 0.007         0.619   \n",
       "                             Kiel       1  4.746 0.031 0.024         1.514   \n",
       "                             Magdeburg  1  4.108 0.044 0.021         1.356   \n",
       "                             Sweden     1 35.694 0.000 0.157         7.955   \n",
       "\n",
       "model                                                   \n",
       "var                                    qvalue rejected  \n",
       "protein groups               Source                     \n",
       "A0A024QZX5;A0A087X1N8;P35237 AD         0.014     True  \n",
       "                             age        0.853    False  \n",
       "                             Kiel       0.249    False  \n",
       "                             Magdeburg  0.143    False  \n",
       "                             Sweden     0.003     True  \n",
       "...                                       ...      ...  \n",
       "S4R3U6                       AD         0.113    False  \n",
       "                             age        0.361    False  \n",
       "                             Kiel       0.068    False  \n",
       "                             Magdeburg  0.092    False  \n",
       "                             Sweden     0.000     True  \n",
       "\n",
       "[7105 rows x 16 columns]"
      ]
     },
     "execution_count": 13,
     "metadata": {},
     "output_type": "execute_result"
    }
   ],
   "source": [
    "scores = scores_model.join(scores_baseline, how='outer')[[args.baseline, args.model_key]]\n",
    "scores"
   ]
  },
  {
   "cell_type": "code",
   "execution_count": 14,
   "id": "34d243d1-3ab4-40e7-9eb8-f9efc828b82d",
   "metadata": {
    "execution": {
     "iopub.execute_input": "2024-05-27T15:49:52.503582Z",
     "iopub.status.busy": "2024-05-27T15:49:52.503226Z",
     "iopub.status.idle": "2024-05-27T15:49:52.509267Z",
     "shell.execute_reply": "2024-05-27T15:49:52.508582Z"
    },
    "papermill": {
     "duration": 0.047911,
     "end_time": "2024-05-27T15:49:52.511011",
     "exception": false,
     "start_time": "2024-05-27T15:49:52.463100",
     "status": "completed"
    },
    "tags": []
   },
   "outputs": [
    {
     "data": {
      "text/plain": [
       "{'PI': 'PI', 'VAE': 'VAE'}"
      ]
     },
     "execution_count": 14,
     "metadata": {},
     "output_type": "execute_result"
    }
   ],
   "source": [
    "models = vaep.nb.Config.from_dict(\n",
    "    vaep.pandas.index_to_dict(scores.columns.get_level_values(0)))\n",
    "vars(models)"
   ]
  },
  {
   "cell_type": "code",
   "execution_count": 15,
   "id": "0fee8f5d-fa52-4369-a1f9-fcfd518ab6bd",
   "metadata": {
    "execution": {
     "iopub.execute_input": "2024-05-27T15:49:52.571775Z",
     "iopub.status.busy": "2024-05-27T15:49:52.571397Z",
     "iopub.status.idle": "2024-05-27T15:49:52.701669Z",
     "shell.execute_reply": "2024-05-27T15:49:52.700820Z"
    },
    "papermill": {
     "duration": 0.160146,
     "end_time": "2024-05-27T15:49:52.703811",
     "exception": false,
     "start_time": "2024-05-27T15:49:52.543665",
     "status": "completed"
    },
    "tags": []
   },
   "outputs": [
    {
     "data": {
      "text/html": [
       "<div>\n",
       "<style scoped>\n",
       "    .dataframe tbody tr th:only-of-type {\n",
       "        vertical-align: middle;\n",
       "    }\n",
       "\n",
       "    .dataframe tbody tr th {\n",
       "        vertical-align: top;\n",
       "    }\n",
       "\n",
       "    .dataframe thead tr th {\n",
       "        text-align: left;\n",
       "    }\n",
       "</style>\n",
       "<table border=\"1\" class=\"dataframe\">\n",
       "  <thead>\n",
       "    <tr>\n",
       "      <th>model</th>\n",
       "      <th colspan=\"7\" halign=\"left\">PI</th>\n",
       "      <th colspan=\"7\" halign=\"left\">VAE</th>\n",
       "    </tr>\n",
       "    <tr>\n",
       "      <th>var</th>\n",
       "      <th>SS</th>\n",
       "      <th>DF</th>\n",
       "      <th>F</th>\n",
       "      <th>p-unc</th>\n",
       "      <th>np2</th>\n",
       "      <th>-Log10 pvalue</th>\n",
       "      <th>qvalue</th>\n",
       "      <th>SS</th>\n",
       "      <th>DF</th>\n",
       "      <th>F</th>\n",
       "      <th>p-unc</th>\n",
       "      <th>np2</th>\n",
       "      <th>-Log10 pvalue</th>\n",
       "      <th>qvalue</th>\n",
       "    </tr>\n",
       "  </thead>\n",
       "  <tbody>\n",
       "    <tr>\n",
       "      <th>count</th>\n",
       "      <td>7,105.000</td>\n",
       "      <td>7,105.000</td>\n",
       "      <td>7,105.000</td>\n",
       "      <td>7,105.000</td>\n",
       "      <td>7,105.000</td>\n",
       "      <td>7,105.000</td>\n",
       "      <td>7,105.000</td>\n",
       "      <td>7,105.000</td>\n",
       "      <td>7,105.000</td>\n",
       "      <td>7,105.000</td>\n",
       "      <td>7,105.000</td>\n",
       "      <td>7,105.000</td>\n",
       "      <td>7,105.000</td>\n",
       "      <td>7,105.000</td>\n",
       "    </tr>\n",
       "    <tr>\n",
       "      <th>mean</th>\n",
       "      <td>10.301</td>\n",
       "      <td>1.000</td>\n",
       "      <td>12.387</td>\n",
       "      <td>0.259</td>\n",
       "      <td>0.043</td>\n",
       "      <td>2.477</td>\n",
       "      <td>0.335</td>\n",
       "      <td>5.508</td>\n",
       "      <td>1.000</td>\n",
       "      <td>16.627</td>\n",
       "      <td>0.224</td>\n",
       "      <td>0.059</td>\n",
       "      <td>3.341</td>\n",
       "      <td>0.276</td>\n",
       "    </tr>\n",
       "    <tr>\n",
       "      <th>std</th>\n",
       "      <td>64.140</td>\n",
       "      <td>0.000</td>\n",
       "      <td>85.067</td>\n",
       "      <td>0.302</td>\n",
       "      <td>0.084</td>\n",
       "      <td>5.330</td>\n",
       "      <td>0.329</td>\n",
       "      <td>21.802</td>\n",
       "      <td>0.000</td>\n",
       "      <td>49.965</td>\n",
       "      <td>0.295</td>\n",
       "      <td>0.103</td>\n",
       "      <td>6.263</td>\n",
       "      <td>0.321</td>\n",
       "    </tr>\n",
       "    <tr>\n",
       "      <th>min</th>\n",
       "      <td>0.000</td>\n",
       "      <td>1.000</td>\n",
       "      <td>0.000</td>\n",
       "      <td>0.000</td>\n",
       "      <td>0.000</td>\n",
       "      <td>0.000</td>\n",
       "      <td>0.000</td>\n",
       "      <td>0.000</td>\n",
       "      <td>1.000</td>\n",
       "      <td>0.000</td>\n",
       "      <td>0.000</td>\n",
       "      <td>0.000</td>\n",
       "      <td>0.000</td>\n",
       "      <td>0.000</td>\n",
       "    </tr>\n",
       "    <tr>\n",
       "      <th>25%</th>\n",
       "      <td>0.319</td>\n",
       "      <td>1.000</td>\n",
       "      <td>0.554</td>\n",
       "      <td>0.004</td>\n",
       "      <td>0.003</td>\n",
       "      <td>0.339</td>\n",
       "      <td>0.015</td>\n",
       "      <td>0.191</td>\n",
       "      <td>1.000</td>\n",
       "      <td>0.754</td>\n",
       "      <td>0.000</td>\n",
       "      <td>0.004</td>\n",
       "      <td>0.413</td>\n",
       "      <td>0.002</td>\n",
       "    </tr>\n",
       "    <tr>\n",
       "      <th>50%</th>\n",
       "      <td>1.606</td>\n",
       "      <td>1.000</td>\n",
       "      <td>2.429</td>\n",
       "      <td>0.121</td>\n",
       "      <td>0.013</td>\n",
       "      <td>0.918</td>\n",
       "      <td>0.241</td>\n",
       "      <td>1.019</td>\n",
       "      <td>1.000</td>\n",
       "      <td>3.673</td>\n",
       "      <td>0.057</td>\n",
       "      <td>0.019</td>\n",
       "      <td>1.246</td>\n",
       "      <td>0.114</td>\n",
       "    </tr>\n",
       "    <tr>\n",
       "      <th>75%</th>\n",
       "      <td>6.011</td>\n",
       "      <td>1.000</td>\n",
       "      <td>8.583</td>\n",
       "      <td>0.458</td>\n",
       "      <td>0.043</td>\n",
       "      <td>2.419</td>\n",
       "      <td>0.610</td>\n",
       "      <td>3.731</td>\n",
       "      <td>1.000</td>\n",
       "      <td>12.836</td>\n",
       "      <td>0.386</td>\n",
       "      <td>0.063</td>\n",
       "      <td>3.365</td>\n",
       "      <td>0.515</td>\n",
       "    </tr>\n",
       "    <tr>\n",
       "      <th>max</th>\n",
       "      <td>3,997.313</td>\n",
       "      <td>1.000</td>\n",
       "      <td>6,226.770</td>\n",
       "      <td>0.999</td>\n",
       "      <td>0.970</td>\n",
       "      <td>146.999</td>\n",
       "      <td>0.999</td>\n",
       "      <td>991.990</td>\n",
       "      <td>1.000</td>\n",
       "      <td>1,298.776</td>\n",
       "      <td>1.000</td>\n",
       "      <td>0.872</td>\n",
       "      <td>86.404</td>\n",
       "      <td>1.000</td>\n",
       "    </tr>\n",
       "  </tbody>\n",
       "</table>\n",
       "</div>"
      ],
      "text/plain": [
       "model        PI                                                        \\\n",
       "var          SS        DF         F     p-unc       np2 -Log10 pvalue   \n",
       "count 7,105.000 7,105.000 7,105.000 7,105.000 7,105.000     7,105.000   \n",
       "mean     10.301     1.000    12.387     0.259     0.043         2.477   \n",
       "std      64.140     0.000    85.067     0.302     0.084         5.330   \n",
       "min       0.000     1.000     0.000     0.000     0.000         0.000   \n",
       "25%       0.319     1.000     0.554     0.004     0.003         0.339   \n",
       "50%       1.606     1.000     2.429     0.121     0.013         0.918   \n",
       "75%       6.011     1.000     8.583     0.458     0.043         2.419   \n",
       "max   3,997.313     1.000 6,226.770     0.999     0.970       146.999   \n",
       "\n",
       "model                 VAE                                          \\\n",
       "var      qvalue        SS        DF         F     p-unc       np2   \n",
       "count 7,105.000 7,105.000 7,105.000 7,105.000 7,105.000 7,105.000   \n",
       "mean      0.335     5.508     1.000    16.627     0.224     0.059   \n",
       "std       0.329    21.802     0.000    49.965     0.295     0.103   \n",
       "min       0.000     0.000     1.000     0.000     0.000     0.000   \n",
       "25%       0.015     0.191     1.000     0.754     0.000     0.004   \n",
       "50%       0.241     1.019     1.000     3.673     0.057     0.019   \n",
       "75%       0.610     3.731     1.000    12.836     0.386     0.063   \n",
       "max       0.999   991.990     1.000 1,298.776     1.000     0.872   \n",
       "\n",
       "model                          \n",
       "var   -Log10 pvalue    qvalue  \n",
       "count     7,105.000 7,105.000  \n",
       "mean          3.341     0.276  \n",
       "std           6.263     0.321  \n",
       "min           0.000     0.000  \n",
       "25%           0.413     0.002  \n",
       "50%           1.246     0.114  \n",
       "75%           3.365     0.515  \n",
       "max          86.404     1.000  "
      ]
     },
     "execution_count": 15,
     "metadata": {},
     "output_type": "execute_result"
    }
   ],
   "source": [
    "scores.describe()"
   ]
  },
  {
   "cell_type": "code",
   "execution_count": 16,
   "id": "c6e5a0a6-343b-4f07-8d9d-2cd5cf95ae1f",
   "metadata": {
    "execution": {
     "iopub.execute_input": "2024-05-27T15:49:52.750724Z",
     "iopub.status.busy": "2024-05-27T15:49:52.750374Z",
     "iopub.status.idle": "2024-05-27T15:49:53.623161Z",
     "shell.execute_reply": "2024-05-27T15:49:53.622407Z"
    },
    "papermill": {
     "duration": 0.905643,
     "end_time": "2024-05-27T15:49:53.625321",
     "exception": false,
     "start_time": "2024-05-27T15:49:52.719678",
     "status": "completed"
    },
    "tags": []
   },
   "outputs": [
    {
     "data": {
      "text/html": [
       "<div>\n",
       "<style scoped>\n",
       "    .dataframe tbody tr th:only-of-type {\n",
       "        vertical-align: middle;\n",
       "    }\n",
       "\n",
       "    .dataframe tbody tr th {\n",
       "        vertical-align: top;\n",
       "    }\n",
       "\n",
       "    .dataframe thead tr th {\n",
       "        text-align: left;\n",
       "    }\n",
       "\n",
       "    .dataframe thead tr:last-of-type th {\n",
       "        text-align: right;\n",
       "    }\n",
       "</style>\n",
       "<table border=\"1\" class=\"dataframe\">\n",
       "  <thead>\n",
       "    <tr>\n",
       "      <th></th>\n",
       "      <th>model</th>\n",
       "      <th colspan=\"8\" halign=\"left\">PI</th>\n",
       "      <th colspan=\"8\" halign=\"left\">VAE</th>\n",
       "    </tr>\n",
       "    <tr>\n",
       "      <th></th>\n",
       "      <th>var</th>\n",
       "      <th>SS</th>\n",
       "      <th>DF</th>\n",
       "      <th>F</th>\n",
       "      <th>p-unc</th>\n",
       "      <th>np2</th>\n",
       "      <th>-Log10 pvalue</th>\n",
       "      <th>qvalue</th>\n",
       "      <th>rejected</th>\n",
       "      <th>SS</th>\n",
       "      <th>DF</th>\n",
       "      <th>F</th>\n",
       "      <th>p-unc</th>\n",
       "      <th>np2</th>\n",
       "      <th>-Log10 pvalue</th>\n",
       "      <th>qvalue</th>\n",
       "      <th>rejected</th>\n",
       "    </tr>\n",
       "    <tr>\n",
       "      <th>protein groups</th>\n",
       "      <th>Source</th>\n",
       "      <th></th>\n",
       "      <th></th>\n",
       "      <th></th>\n",
       "      <th></th>\n",
       "      <th></th>\n",
       "      <th></th>\n",
       "      <th></th>\n",
       "      <th></th>\n",
       "      <th></th>\n",
       "      <th></th>\n",
       "      <th></th>\n",
       "      <th></th>\n",
       "      <th></th>\n",
       "      <th></th>\n",
       "      <th></th>\n",
       "      <th></th>\n",
       "    </tr>\n",
       "  </thead>\n",
       "  <tbody>\n",
       "    <tr>\n",
       "      <th>A0A024QZX5;A0A087X1N8;P35237</th>\n",
       "      <th>AD</th>\n",
       "      <td>0.401</td>\n",
       "      <td>1</td>\n",
       "      <td>0.728</td>\n",
       "      <td>0.395</td>\n",
       "      <td>0.004</td>\n",
       "      <td>0.404</td>\n",
       "      <td>0.554</td>\n",
       "      <td>False</td>\n",
       "      <td>1.126</td>\n",
       "      <td>1</td>\n",
       "      <td>8.133</td>\n",
       "      <td>0.005</td>\n",
       "      <td>0.041</td>\n",
       "      <td>2.316</td>\n",
       "      <td>0.014</td>\n",
       "      <td>True</td>\n",
       "    </tr>\n",
       "    <tr>\n",
       "      <th>A0A024R0T9;K7ER74;P02655</th>\n",
       "      <th>AD</th>\n",
       "      <td>3.139</td>\n",
       "      <td>1</td>\n",
       "      <td>3.828</td>\n",
       "      <td>0.052</td>\n",
       "      <td>0.020</td>\n",
       "      <td>1.285</td>\n",
       "      <td>0.126</td>\n",
       "      <td>False</td>\n",
       "      <td>2.950</td>\n",
       "      <td>1</td>\n",
       "      <td>4.790</td>\n",
       "      <td>0.030</td>\n",
       "      <td>0.024</td>\n",
       "      <td>1.525</td>\n",
       "      <td>0.066</td>\n",
       "      <td>False</td>\n",
       "    </tr>\n",
       "    <tr>\n",
       "      <th>A0A024R3W6;A0A024R412;O60462;O60462-2;O60462-3;O60462-4;O60462-5;Q7LBX6;X5D2Q8</th>\n",
       "      <th>AD</th>\n",
       "      <td>2.573</td>\n",
       "      <td>1</td>\n",
       "      <td>2.864</td>\n",
       "      <td>0.092</td>\n",
       "      <td>0.015</td>\n",
       "      <td>1.035</td>\n",
       "      <td>0.196</td>\n",
       "      <td>False</td>\n",
       "      <td>0.148</td>\n",
       "      <td>1</td>\n",
       "      <td>1.219</td>\n",
       "      <td>0.271</td>\n",
       "      <td>0.006</td>\n",
       "      <td>0.567</td>\n",
       "      <td>0.396</td>\n",
       "      <td>False</td>\n",
       "    </tr>\n",
       "    <tr>\n",
       "      <th>A0A024R644;A0A0A0MRU5;A0A1B0GWI2;O75503</th>\n",
       "      <th>AD</th>\n",
       "      <td>0.081</td>\n",
       "      <td>1</td>\n",
       "      <td>0.397</td>\n",
       "      <td>0.530</td>\n",
       "      <td>0.002</td>\n",
       "      <td>0.276</td>\n",
       "      <td>0.671</td>\n",
       "      <td>False</td>\n",
       "      <td>0.185</td>\n",
       "      <td>1</td>\n",
       "      <td>1.334</td>\n",
       "      <td>0.250</td>\n",
       "      <td>0.007</td>\n",
       "      <td>0.603</td>\n",
       "      <td>0.371</td>\n",
       "      <td>False</td>\n",
       "    </tr>\n",
       "    <tr>\n",
       "      <th>A0A075B6H7</th>\n",
       "      <th>AD</th>\n",
       "      <td>3.858</td>\n",
       "      <td>1</td>\n",
       "      <td>0.953</td>\n",
       "      <td>0.330</td>\n",
       "      <td>0.005</td>\n",
       "      <td>0.481</td>\n",
       "      <td>0.492</td>\n",
       "      <td>False</td>\n",
       "      <td>6.169</td>\n",
       "      <td>1</td>\n",
       "      <td>8.885</td>\n",
       "      <td>0.003</td>\n",
       "      <td>0.044</td>\n",
       "      <td>2.488</td>\n",
       "      <td>0.010</td>\n",
       "      <td>True</td>\n",
       "    </tr>\n",
       "    <tr>\n",
       "      <th>...</th>\n",
       "      <th>...</th>\n",
       "      <td>...</td>\n",
       "      <td>...</td>\n",
       "      <td>...</td>\n",
       "      <td>...</td>\n",
       "      <td>...</td>\n",
       "      <td>...</td>\n",
       "      <td>...</td>\n",
       "      <td>...</td>\n",
       "      <td>...</td>\n",
       "      <td>...</td>\n",
       "      <td>...</td>\n",
       "      <td>...</td>\n",
       "      <td>...</td>\n",
       "      <td>...</td>\n",
       "      <td>...</td>\n",
       "      <td>...</td>\n",
       "    </tr>\n",
       "    <tr>\n",
       "      <th>Q9Y6R7</th>\n",
       "      <th>AD</th>\n",
       "      <td>0.675</td>\n",
       "      <td>1</td>\n",
       "      <td>1.850</td>\n",
       "      <td>0.175</td>\n",
       "      <td>0.010</td>\n",
       "      <td>0.756</td>\n",
       "      <td>0.314</td>\n",
       "      <td>False</td>\n",
       "      <td>0.675</td>\n",
       "      <td>1</td>\n",
       "      <td>1.850</td>\n",
       "      <td>0.175</td>\n",
       "      <td>0.010</td>\n",
       "      <td>0.756</td>\n",
       "      <td>0.283</td>\n",
       "      <td>False</td>\n",
       "    </tr>\n",
       "    <tr>\n",
       "      <th>Q9Y6X5</th>\n",
       "      <th>AD</th>\n",
       "      <td>3.162</td>\n",
       "      <td>1</td>\n",
       "      <td>3.505</td>\n",
       "      <td>0.063</td>\n",
       "      <td>0.018</td>\n",
       "      <td>1.203</td>\n",
       "      <td>0.146</td>\n",
       "      <td>False</td>\n",
       "      <td>0.398</td>\n",
       "      <td>1</td>\n",
       "      <td>1.225</td>\n",
       "      <td>0.270</td>\n",
       "      <td>0.006</td>\n",
       "      <td>0.569</td>\n",
       "      <td>0.394</td>\n",
       "      <td>False</td>\n",
       "    </tr>\n",
       "    <tr>\n",
       "      <th>Q9Y6Y8;Q9Y6Y8-2</th>\n",
       "      <th>AD</th>\n",
       "      <td>0.973</td>\n",
       "      <td>1</td>\n",
       "      <td>3.028</td>\n",
       "      <td>0.083</td>\n",
       "      <td>0.016</td>\n",
       "      <td>1.079</td>\n",
       "      <td>0.182</td>\n",
       "      <td>False</td>\n",
       "      <td>0.973</td>\n",
       "      <td>1</td>\n",
       "      <td>3.028</td>\n",
       "      <td>0.083</td>\n",
       "      <td>0.016</td>\n",
       "      <td>1.079</td>\n",
       "      <td>0.156</td>\n",
       "      <td>False</td>\n",
       "    </tr>\n",
       "    <tr>\n",
       "      <th>Q9Y6Y9</th>\n",
       "      <th>AD</th>\n",
       "      <td>1.101</td>\n",
       "      <td>1</td>\n",
       "      <td>1.407</td>\n",
       "      <td>0.237</td>\n",
       "      <td>0.007</td>\n",
       "      <td>0.625</td>\n",
       "      <td>0.389</td>\n",
       "      <td>False</td>\n",
       "      <td>0.084</td>\n",
       "      <td>1</td>\n",
       "      <td>0.083</td>\n",
       "      <td>0.774</td>\n",
       "      <td>0.000</td>\n",
       "      <td>0.111</td>\n",
       "      <td>0.847</td>\n",
       "      <td>False</td>\n",
       "    </tr>\n",
       "    <tr>\n",
       "      <th>S4R3U6</th>\n",
       "      <th>AD</th>\n",
       "      <td>0.103</td>\n",
       "      <td>1</td>\n",
       "      <td>0.104</td>\n",
       "      <td>0.747</td>\n",
       "      <td>0.001</td>\n",
       "      <td>0.126</td>\n",
       "      <td>0.840</td>\n",
       "      <td>False</td>\n",
       "      <td>1.823</td>\n",
       "      <td>1</td>\n",
       "      <td>3.679</td>\n",
       "      <td>0.057</td>\n",
       "      <td>0.019</td>\n",
       "      <td>1.247</td>\n",
       "      <td>0.113</td>\n",
       "      <td>False</td>\n",
       "    </tr>\n",
       "  </tbody>\n",
       "</table>\n",
       "<p>1421 rows × 16 columns</p>\n",
       "</div>"
      ],
      "text/plain": [
       "model                                                        PI           \\\n",
       "var                                                          SS DF     F   \n",
       "protein groups                                     Source                  \n",
       "A0A024QZX5;A0A087X1N8;P35237                       AD     0.401  1 0.728   \n",
       "A0A024R0T9;K7ER74;P02655                           AD     3.139  1 3.828   \n",
       "A0A024R3W6;A0A024R412;O60462;O60462-2;O60462-3;... AD     2.573  1 2.864   \n",
       "A0A024R644;A0A0A0MRU5;A0A1B0GWI2;O75503            AD     0.081  1 0.397   \n",
       "A0A075B6H7                                         AD     3.858  1 0.953   \n",
       "...                                                         ... ..   ...   \n",
       "Q9Y6R7                                             AD     0.675  1 1.850   \n",
       "Q9Y6X5                                             AD     3.162  1 3.505   \n",
       "Q9Y6Y8;Q9Y6Y8-2                                    AD     0.973  1 3.028   \n",
       "Q9Y6Y9                                             AD     1.101  1 1.407   \n",
       "S4R3U6                                             AD     0.103  1 0.104   \n",
       "\n",
       "model                                                                  \\\n",
       "var                                                       p-unc   np2   \n",
       "protein groups                                     Source               \n",
       "A0A024QZX5;A0A087X1N8;P35237                       AD     0.395 0.004   \n",
       "A0A024R0T9;K7ER74;P02655                           AD     0.052 0.020   \n",
       "A0A024R3W6;A0A024R412;O60462;O60462-2;O60462-3;... AD     0.092 0.015   \n",
       "A0A024R644;A0A0A0MRU5;A0A1B0GWI2;O75503            AD     0.530 0.002   \n",
       "A0A075B6H7                                         AD     0.330 0.005   \n",
       "...                                                         ...   ...   \n",
       "Q9Y6R7                                             AD     0.175 0.010   \n",
       "Q9Y6X5                                             AD     0.063 0.018   \n",
       "Q9Y6Y8;Q9Y6Y8-2                                    AD     0.083 0.016   \n",
       "Q9Y6Y9                                             AD     0.237 0.007   \n",
       "S4R3U6                                             AD     0.747 0.001   \n",
       "\n",
       "model                                                                    \\\n",
       "var                                                       -Log10 pvalue   \n",
       "protein groups                                     Source                 \n",
       "A0A024QZX5;A0A087X1N8;P35237                       AD             0.404   \n",
       "A0A024R0T9;K7ER74;P02655                           AD             1.285   \n",
       "A0A024R3W6;A0A024R412;O60462;O60462-2;O60462-3;... AD             1.035   \n",
       "A0A024R644;A0A0A0MRU5;A0A1B0GWI2;O75503            AD             0.276   \n",
       "A0A075B6H7                                         AD             0.481   \n",
       "...                                                                 ...   \n",
       "Q9Y6R7                                             AD             0.756   \n",
       "Q9Y6X5                                             AD             1.203   \n",
       "Q9Y6Y8;Q9Y6Y8-2                                    AD             1.079   \n",
       "Q9Y6Y9                                             AD             0.625   \n",
       "S4R3U6                                             AD             0.126   \n",
       "\n",
       "model                                                                      \\\n",
       "var                                                       qvalue rejected   \n",
       "protein groups                                     Source                   \n",
       "A0A024QZX5;A0A087X1N8;P35237                       AD      0.554    False   \n",
       "A0A024R0T9;K7ER74;P02655                           AD      0.126    False   \n",
       "A0A024R3W6;A0A024R412;O60462;O60462-2;O60462-3;... AD      0.196    False   \n",
       "A0A024R644;A0A0A0MRU5;A0A1B0GWI2;O75503            AD      0.671    False   \n",
       "A0A075B6H7                                         AD      0.492    False   \n",
       "...                                                          ...      ...   \n",
       "Q9Y6R7                                             AD      0.314    False   \n",
       "Q9Y6X5                                             AD      0.146    False   \n",
       "Q9Y6Y8;Q9Y6Y8-2                                    AD      0.182    False   \n",
       "Q9Y6Y9                                             AD      0.389    False   \n",
       "S4R3U6                                             AD      0.840    False   \n",
       "\n",
       "model                                                       VAE           \\\n",
       "var                                                          SS DF     F   \n",
       "protein groups                                     Source                  \n",
       "A0A024QZX5;A0A087X1N8;P35237                       AD     1.126  1 8.133   \n",
       "A0A024R0T9;K7ER74;P02655                           AD     2.950  1 4.790   \n",
       "A0A024R3W6;A0A024R412;O60462;O60462-2;O60462-3;... AD     0.148  1 1.219   \n",
       "A0A024R644;A0A0A0MRU5;A0A1B0GWI2;O75503            AD     0.185  1 1.334   \n",
       "A0A075B6H7                                         AD     6.169  1 8.885   \n",
       "...                                                         ... ..   ...   \n",
       "Q9Y6R7                                             AD     0.675  1 1.850   \n",
       "Q9Y6X5                                             AD     0.398  1 1.225   \n",
       "Q9Y6Y8;Q9Y6Y8-2                                    AD     0.973  1 3.028   \n",
       "Q9Y6Y9                                             AD     0.084  1 0.083   \n",
       "S4R3U6                                             AD     1.823  1 3.679   \n",
       "\n",
       "model                                                                  \\\n",
       "var                                                       p-unc   np2   \n",
       "protein groups                                     Source               \n",
       "A0A024QZX5;A0A087X1N8;P35237                       AD     0.005 0.041   \n",
       "A0A024R0T9;K7ER74;P02655                           AD     0.030 0.024   \n",
       "A0A024R3W6;A0A024R412;O60462;O60462-2;O60462-3;... AD     0.271 0.006   \n",
       "A0A024R644;A0A0A0MRU5;A0A1B0GWI2;O75503            AD     0.250 0.007   \n",
       "A0A075B6H7                                         AD     0.003 0.044   \n",
       "...                                                         ...   ...   \n",
       "Q9Y6R7                                             AD     0.175 0.010   \n",
       "Q9Y6X5                                             AD     0.270 0.006   \n",
       "Q9Y6Y8;Q9Y6Y8-2                                    AD     0.083 0.016   \n",
       "Q9Y6Y9                                             AD     0.774 0.000   \n",
       "S4R3U6                                             AD     0.057 0.019   \n",
       "\n",
       "model                                                                    \\\n",
       "var                                                       -Log10 pvalue   \n",
       "protein groups                                     Source                 \n",
       "A0A024QZX5;A0A087X1N8;P35237                       AD             2.316   \n",
       "A0A024R0T9;K7ER74;P02655                           AD             1.525   \n",
       "A0A024R3W6;A0A024R412;O60462;O60462-2;O60462-3;... AD             0.567   \n",
       "A0A024R644;A0A0A0MRU5;A0A1B0GWI2;O75503            AD             0.603   \n",
       "A0A075B6H7                                         AD             2.488   \n",
       "...                                                                 ...   \n",
       "Q9Y6R7                                             AD             0.756   \n",
       "Q9Y6X5                                             AD             0.569   \n",
       "Q9Y6Y8;Q9Y6Y8-2                                    AD             1.079   \n",
       "Q9Y6Y9                                             AD             0.111   \n",
       "S4R3U6                                             AD             1.247   \n",
       "\n",
       "model                                                                      \n",
       "var                                                       qvalue rejected  \n",
       "protein groups                                     Source                  \n",
       "A0A024QZX5;A0A087X1N8;P35237                       AD      0.014     True  \n",
       "A0A024R0T9;K7ER74;P02655                           AD      0.066    False  \n",
       "A0A024R3W6;A0A024R412;O60462;O60462-2;O60462-3;... AD      0.396    False  \n",
       "A0A024R644;A0A0A0MRU5;A0A1B0GWI2;O75503            AD      0.371    False  \n",
       "A0A075B6H7                                         AD      0.010     True  \n",
       "...                                                          ...      ...  \n",
       "Q9Y6R7                                             AD      0.283    False  \n",
       "Q9Y6X5                                             AD      0.394    False  \n",
       "Q9Y6Y8;Q9Y6Y8-2                                    AD      0.156    False  \n",
       "Q9Y6Y9                                             AD      0.847    False  \n",
       "S4R3U6                                             AD      0.113    False  \n",
       "\n",
       "[1421 rows x 16 columns]"
      ]
     },
     "execution_count": 16,
     "metadata": {},
     "output_type": "execute_result"
    }
   ],
   "source": [
    "scores = scores.loc[pd.IndexSlice[:, args.target], :]\n",
    "scores.to_excel(writer, 'scores', **writer_args)\n",
    "scores"
   ]
  },
  {
   "cell_type": "code",
   "execution_count": 17,
   "id": "0e45e80a-32d8-4c6c-b0a4-5ce8b7f9e121",
   "metadata": {
    "execution": {
     "iopub.execute_input": "2024-05-27T15:49:53.760939Z",
     "iopub.status.busy": "2024-05-27T15:49:53.760529Z",
     "iopub.status.idle": "2024-05-27T15:49:53.915343Z",
     "shell.execute_reply": "2024-05-27T15:49:53.914456Z"
    },
    "papermill": {
     "duration": 0.180992,
     "end_time": "2024-05-27T15:49:53.917379",
     "exception": false,
     "start_time": "2024-05-27T15:49:53.736387",
     "status": "completed"
    },
    "tags": []
   },
   "outputs": [
    {
     "data": {
      "text/html": [
       "<div>\n",
       "<style scoped>\n",
       "    .dataframe tbody tr th:only-of-type {\n",
       "        vertical-align: middle;\n",
       "    }\n",
       "\n",
       "    .dataframe tbody tr th {\n",
       "        vertical-align: top;\n",
       "    }\n",
       "\n",
       "    .dataframe thead tr th {\n",
       "        text-align: left;\n",
       "    }\n",
       "</style>\n",
       "<table border=\"1\" class=\"dataframe\">\n",
       "  <thead>\n",
       "    <tr>\n",
       "      <th>model</th>\n",
       "      <th colspan=\"7\" halign=\"left\">PI</th>\n",
       "      <th colspan=\"7\" halign=\"left\">VAE</th>\n",
       "    </tr>\n",
       "    <tr>\n",
       "      <th>var</th>\n",
       "      <th>SS</th>\n",
       "      <th>DF</th>\n",
       "      <th>F</th>\n",
       "      <th>p-unc</th>\n",
       "      <th>np2</th>\n",
       "      <th>-Log10 pvalue</th>\n",
       "      <th>qvalue</th>\n",
       "      <th>SS</th>\n",
       "      <th>DF</th>\n",
       "      <th>F</th>\n",
       "      <th>p-unc</th>\n",
       "      <th>np2</th>\n",
       "      <th>-Log10 pvalue</th>\n",
       "      <th>qvalue</th>\n",
       "    </tr>\n",
       "  </thead>\n",
       "  <tbody>\n",
       "    <tr>\n",
       "      <th>count</th>\n",
       "      <td>1,421.000</td>\n",
       "      <td>1,421.000</td>\n",
       "      <td>1,421.000</td>\n",
       "      <td>1,421.000</td>\n",
       "      <td>1,421.000</td>\n",
       "      <td>1,421.000</td>\n",
       "      <td>1,421.000</td>\n",
       "      <td>1,421.000</td>\n",
       "      <td>1,421.000</td>\n",
       "      <td>1,421.000</td>\n",
       "      <td>1,421.000</td>\n",
       "      <td>1,421.000</td>\n",
       "      <td>1,421.000</td>\n",
       "      <td>1,421.000</td>\n",
       "    </tr>\n",
       "    <tr>\n",
       "      <th>mean</th>\n",
       "      <td>3.635</td>\n",
       "      <td>1.000</td>\n",
       "      <td>4.828</td>\n",
       "      <td>0.248</td>\n",
       "      <td>0.023</td>\n",
       "      <td>1.400</td>\n",
       "      <td>0.331</td>\n",
       "      <td>1.826</td>\n",
       "      <td>1.000</td>\n",
       "      <td>5.678</td>\n",
       "      <td>0.239</td>\n",
       "      <td>0.027</td>\n",
       "      <td>1.589</td>\n",
       "      <td>0.298</td>\n",
       "    </tr>\n",
       "    <tr>\n",
       "      <th>std</th>\n",
       "      <td>6.200</td>\n",
       "      <td>0.000</td>\n",
       "      <td>7.469</td>\n",
       "      <td>0.288</td>\n",
       "      <td>0.032</td>\n",
       "      <td>1.612</td>\n",
       "      <td>0.312</td>\n",
       "      <td>3.122</td>\n",
       "      <td>0.000</td>\n",
       "      <td>8.498</td>\n",
       "      <td>0.293</td>\n",
       "      <td>0.036</td>\n",
       "      <td>1.830</td>\n",
       "      <td>0.316</td>\n",
       "    </tr>\n",
       "    <tr>\n",
       "      <th>min</th>\n",
       "      <td>0.000</td>\n",
       "      <td>1.000</td>\n",
       "      <td>0.000</td>\n",
       "      <td>0.000</td>\n",
       "      <td>0.000</td>\n",
       "      <td>0.001</td>\n",
       "      <td>0.000</td>\n",
       "      <td>0.000</td>\n",
       "      <td>1.000</td>\n",
       "      <td>0.000</td>\n",
       "      <td>0.000</td>\n",
       "      <td>0.000</td>\n",
       "      <td>0.001</td>\n",
       "      <td>0.000</td>\n",
       "    </tr>\n",
       "    <tr>\n",
       "      <th>25%</th>\n",
       "      <td>0.407</td>\n",
       "      <td>1.000</td>\n",
       "      <td>0.648</td>\n",
       "      <td>0.012</td>\n",
       "      <td>0.003</td>\n",
       "      <td>0.375</td>\n",
       "      <td>0.040</td>\n",
       "      <td>0.165</td>\n",
       "      <td>1.000</td>\n",
       "      <td>0.645</td>\n",
       "      <td>0.007</td>\n",
       "      <td>0.003</td>\n",
       "      <td>0.374</td>\n",
       "      <td>0.019</td>\n",
       "    </tr>\n",
       "    <tr>\n",
       "      <th>50%</th>\n",
       "      <td>1.531</td>\n",
       "      <td>1.000</td>\n",
       "      <td>2.410</td>\n",
       "      <td>0.122</td>\n",
       "      <td>0.012</td>\n",
       "      <td>0.913</td>\n",
       "      <td>0.243</td>\n",
       "      <td>0.763</td>\n",
       "      <td>1.000</td>\n",
       "      <td>2.969</td>\n",
       "      <td>0.086</td>\n",
       "      <td>0.015</td>\n",
       "      <td>1.063</td>\n",
       "      <td>0.161</td>\n",
       "    </tr>\n",
       "    <tr>\n",
       "      <th>75%</th>\n",
       "      <td>4.061</td>\n",
       "      <td>1.000</td>\n",
       "      <td>6.378</td>\n",
       "      <td>0.422</td>\n",
       "      <td>0.032</td>\n",
       "      <td>1.908</td>\n",
       "      <td>0.580</td>\n",
       "      <td>2.277</td>\n",
       "      <td>1.000</td>\n",
       "      <td>7.451</td>\n",
       "      <td>0.423</td>\n",
       "      <td>0.038</td>\n",
       "      <td>2.159</td>\n",
       "      <td>0.551</td>\n",
       "    </tr>\n",
       "    <tr>\n",
       "      <th>max</th>\n",
       "      <td>64.644</td>\n",
       "      <td>1.000</td>\n",
       "      <td>128.571</td>\n",
       "      <td>0.999</td>\n",
       "      <td>0.402</td>\n",
       "      <td>22.392</td>\n",
       "      <td>0.999</td>\n",
       "      <td>39.956</td>\n",
       "      <td>1.000</td>\n",
       "      <td>111.791</td>\n",
       "      <td>0.998</td>\n",
       "      <td>0.369</td>\n",
       "      <td>20.137</td>\n",
       "      <td>0.999</td>\n",
       "    </tr>\n",
       "  </tbody>\n",
       "</table>\n",
       "</div>"
      ],
      "text/plain": [
       "model        PI                                                        \\\n",
       "var          SS        DF         F     p-unc       np2 -Log10 pvalue   \n",
       "count 1,421.000 1,421.000 1,421.000 1,421.000 1,421.000     1,421.000   \n",
       "mean      3.635     1.000     4.828     0.248     0.023         1.400   \n",
       "std       6.200     0.000     7.469     0.288     0.032         1.612   \n",
       "min       0.000     1.000     0.000     0.000     0.000         0.001   \n",
       "25%       0.407     1.000     0.648     0.012     0.003         0.375   \n",
       "50%       1.531     1.000     2.410     0.122     0.012         0.913   \n",
       "75%       4.061     1.000     6.378     0.422     0.032         1.908   \n",
       "max      64.644     1.000   128.571     0.999     0.402        22.392   \n",
       "\n",
       "model                 VAE                                          \\\n",
       "var      qvalue        SS        DF         F     p-unc       np2   \n",
       "count 1,421.000 1,421.000 1,421.000 1,421.000 1,421.000 1,421.000   \n",
       "mean      0.331     1.826     1.000     5.678     0.239     0.027   \n",
       "std       0.312     3.122     0.000     8.498     0.293     0.036   \n",
       "min       0.000     0.000     1.000     0.000     0.000     0.000   \n",
       "25%       0.040     0.165     1.000     0.645     0.007     0.003   \n",
       "50%       0.243     0.763     1.000     2.969     0.086     0.015   \n",
       "75%       0.580     2.277     1.000     7.451     0.423     0.038   \n",
       "max       0.999    39.956     1.000   111.791     0.998     0.369   \n",
       "\n",
       "model                          \n",
       "var   -Log10 pvalue    qvalue  \n",
       "count     1,421.000 1,421.000  \n",
       "mean          1.589     0.298  \n",
       "std           1.830     0.316  \n",
       "min           0.001     0.000  \n",
       "25%           0.374     0.019  \n",
       "50%           1.063     0.161  \n",
       "75%           2.159     0.551  \n",
       "max          20.137     0.999  "
      ]
     },
     "execution_count": 17,
     "metadata": {},
     "output_type": "execute_result"
    }
   ],
   "source": [
    "scores.describe()"
   ]
  },
  {
   "cell_type": "code",
   "execution_count": 18,
   "id": "53bd5597-221c-4d54-abf2-82956db42594",
   "metadata": {
    "execution": {
     "iopub.execute_input": "2024-05-27T15:49:53.977543Z",
     "iopub.status.busy": "2024-05-27T15:49:53.977190Z",
     "iopub.status.idle": "2024-05-27T15:49:53.997782Z",
     "shell.execute_reply": "2024-05-27T15:49:53.997041Z"
    },
    "lines_to_next_cell": 2,
    "papermill": {
     "duration": 0.052001,
     "end_time": "2024-05-27T15:49:53.999493",
     "exception": false,
     "start_time": "2024-05-27T15:49:53.947492",
     "status": "completed"
    },
    "tags": []
   },
   "outputs": [
    {
     "data": {
      "text/html": [
       "<div>\n",
       "<style scoped>\n",
       "    .dataframe tbody tr th:only-of-type {\n",
       "        vertical-align: middle;\n",
       "    }\n",
       "\n",
       "    .dataframe tbody tr th {\n",
       "        vertical-align: top;\n",
       "    }\n",
       "\n",
       "    .dataframe thead tr th {\n",
       "        text-align: left;\n",
       "    }\n",
       "</style>\n",
       "<table border=\"1\" class=\"dataframe\">\n",
       "  <thead>\n",
       "    <tr>\n",
       "      <th>model</th>\n",
       "      <th>PI</th>\n",
       "      <th>VAE</th>\n",
       "    </tr>\n",
       "    <tr>\n",
       "      <th>var</th>\n",
       "      <th>rejected</th>\n",
       "      <th>rejected</th>\n",
       "    </tr>\n",
       "  </thead>\n",
       "  <tbody>\n",
       "    <tr>\n",
       "      <th>count</th>\n",
       "      <td>1421</td>\n",
       "      <td>1421</td>\n",
       "    </tr>\n",
       "    <tr>\n",
       "      <th>unique</th>\n",
       "      <td>2</td>\n",
       "      <td>2</td>\n",
       "    </tr>\n",
       "    <tr>\n",
       "      <th>top</th>\n",
       "      <td>False</td>\n",
       "      <td>False</td>\n",
       "    </tr>\n",
       "    <tr>\n",
       "      <th>freq</th>\n",
       "      <td>1036</td>\n",
       "      <td>937</td>\n",
       "    </tr>\n",
       "  </tbody>\n",
       "</table>\n",
       "</div>"
      ],
      "text/plain": [
       "model        PI      VAE\n",
       "var    rejected rejected\n",
       "count      1421     1421\n",
       "unique        2        2\n",
       "top       False    False\n",
       "freq       1036      937"
      ]
     },
     "execution_count": 18,
     "metadata": {},
     "output_type": "execute_result"
    }
   ],
   "source": [
    "scores.describe(include=['bool', 'O'])"
   ]
  },
  {
   "cell_type": "markdown",
   "id": "bef83742-05e5-473b-892e-dd286cb3a31f",
   "metadata": {
    "papermill": {
     "duration": 0.017117,
     "end_time": "2024-05-27T15:49:54.039693",
     "exception": false,
     "start_time": "2024-05-27T15:49:54.022576",
     "status": "completed"
    },
    "tags": []
   },
   "source": [
    "## Load frequencies of observed features"
   ]
  },
  {
   "cell_type": "code",
   "execution_count": 19,
   "id": "2a926ba1-0f3b-4089-a349-b6d66128cf37",
   "metadata": {
    "execution": {
     "iopub.execute_input": "2024-05-27T15:49:54.074531Z",
     "iopub.status.busy": "2024-05-27T15:49:54.073690Z",
     "iopub.status.idle": "2024-05-27T15:49:54.091493Z",
     "shell.execute_reply": "2024-05-27T15:49:54.090772Z"
    },
    "papermill": {
     "duration": 0.036896,
     "end_time": "2024-05-27T15:49:54.093405",
     "exception": false,
     "start_time": "2024-05-27T15:49:54.056509",
     "status": "completed"
    },
    "tags": []
   },
   "outputs": [
    {
     "data": {
      "text/html": [
       "<div>\n",
       "<style scoped>\n",
       "    .dataframe tbody tr th:only-of-type {\n",
       "        vertical-align: middle;\n",
       "    }\n",
       "\n",
       "    .dataframe tbody tr th {\n",
       "        vertical-align: top;\n",
       "    }\n",
       "\n",
       "    .dataframe thead tr th {\n",
       "        text-align: left;\n",
       "    }\n",
       "\n",
       "    .dataframe thead tr:last-of-type th {\n",
       "        text-align: right;\n",
       "    }\n",
       "</style>\n",
       "<table border=\"1\" class=\"dataframe\">\n",
       "  <thead>\n",
       "    <tr>\n",
       "      <th></th>\n",
       "      <th>data</th>\n",
       "    </tr>\n",
       "    <tr>\n",
       "      <th></th>\n",
       "      <th>frequency</th>\n",
       "    </tr>\n",
       "    <tr>\n",
       "      <th>protein groups</th>\n",
       "      <th></th>\n",
       "    </tr>\n",
       "  </thead>\n",
       "  <tbody>\n",
       "    <tr>\n",
       "      <th>A0A024QZX5;A0A087X1N8;P35237</th>\n",
       "      <td>186</td>\n",
       "    </tr>\n",
       "    <tr>\n",
       "      <th>A0A024R0T9;K7ER74;P02655</th>\n",
       "      <td>195</td>\n",
       "    </tr>\n",
       "    <tr>\n",
       "      <th>A0A024R3W6;A0A024R412;O60462;O60462-2;O60462-3;O60462-4;O60462-5;Q7LBX6;X5D2Q8</th>\n",
       "      <td>174</td>\n",
       "    </tr>\n",
       "    <tr>\n",
       "      <th>A0A024R644;A0A0A0MRU5;A0A1B0GWI2;O75503</th>\n",
       "      <td>196</td>\n",
       "    </tr>\n",
       "    <tr>\n",
       "      <th>A0A075B6H7</th>\n",
       "      <td>91</td>\n",
       "    </tr>\n",
       "    <tr>\n",
       "      <th>...</th>\n",
       "      <td>...</td>\n",
       "    </tr>\n",
       "    <tr>\n",
       "      <th>Q9Y6R7</th>\n",
       "      <td>197</td>\n",
       "    </tr>\n",
       "    <tr>\n",
       "      <th>Q9Y6X5</th>\n",
       "      <td>173</td>\n",
       "    </tr>\n",
       "    <tr>\n",
       "      <th>Q9Y6Y8;Q9Y6Y8-2</th>\n",
       "      <td>197</td>\n",
       "    </tr>\n",
       "    <tr>\n",
       "      <th>Q9Y6Y9</th>\n",
       "      <td>119</td>\n",
       "    </tr>\n",
       "    <tr>\n",
       "      <th>S4R3U6</th>\n",
       "      <td>126</td>\n",
       "    </tr>\n",
       "  </tbody>\n",
       "</table>\n",
       "<p>1421 rows × 1 columns</p>\n",
       "</div>"
      ],
      "text/plain": [
       "                                                        data\n",
       "                                                   frequency\n",
       "protein groups                                              \n",
       "A0A024QZX5;A0A087X1N8;P35237                             186\n",
       "A0A024R0T9;K7ER74;P02655                                 195\n",
       "A0A024R3W6;A0A024R412;O60462;O60462-2;O60462-3;...       174\n",
       "A0A024R644;A0A0A0MRU5;A0A1B0GWI2;O75503                  196\n",
       "A0A075B6H7                                                91\n",
       "...                                                      ...\n",
       "Q9Y6R7                                                   197\n",
       "Q9Y6X5                                                   173\n",
       "Q9Y6Y8;Q9Y6Y8-2                                          197\n",
       "Q9Y6Y9                                                   119\n",
       "S4R3U6                                                   126\n",
       "\n",
       "[1421 rows x 1 columns]"
      ]
     },
     "execution_count": 19,
     "metadata": {},
     "output_type": "execute_result"
    }
   ],
   "source": [
    "freq_feat = pd.read_csv(files_in['freq_features_observed.csv'], index_col=0)\n",
    "freq_feat.columns = pd.MultiIndex.from_tuples([('data', 'frequency'),])\n",
    "freq_feat"
   ]
  },
  {
   "cell_type": "markdown",
   "id": "408eacfe-770f-42ff-9057-2a98274e1ae3",
   "metadata": {
    "papermill": {
     "duration": 0.015941,
     "end_time": "2024-05-27T15:49:54.125578",
     "exception": false,
     "start_time": "2024-05-27T15:49:54.109637",
     "status": "completed"
    },
    "tags": []
   },
   "source": [
    "## Compare shared features"
   ]
  },
  {
   "cell_type": "code",
   "execution_count": 20,
   "id": "5b2dfb0f-195b-4044-a228-2d784ea2a458",
   "metadata": {
    "execution": {
     "iopub.execute_input": "2024-05-27T15:49:54.160200Z",
     "iopub.status.busy": "2024-05-27T15:49:54.159775Z",
     "iopub.status.idle": "2024-05-27T15:49:54.194628Z",
     "shell.execute_reply": "2024-05-27T15:49:54.191338Z"
    },
    "papermill": {
     "duration": 0.06074,
     "end_time": "2024-05-27T15:49:54.202917",
     "exception": false,
     "start_time": "2024-05-27T15:49:54.142177",
     "status": "completed"
    },
    "tags": []
   },
   "outputs": [
    {
     "data": {
      "text/html": [
       "<div>\n",
       "<style scoped>\n",
       "    .dataframe tbody tr th:only-of-type {\n",
       "        vertical-align: middle;\n",
       "    }\n",
       "\n",
       "    .dataframe tbody tr th {\n",
       "        vertical-align: top;\n",
       "    }\n",
       "\n",
       "    .dataframe thead tr th {\n",
       "        text-align: left;\n",
       "    }\n",
       "\n",
       "    .dataframe thead tr:last-of-type th {\n",
       "        text-align: right;\n",
       "    }\n",
       "</style>\n",
       "<table border=\"1\" class=\"dataframe\">\n",
       "  <thead>\n",
       "    <tr>\n",
       "      <th></th>\n",
       "      <th colspan=\"8\" halign=\"left\">PI</th>\n",
       "      <th colspan=\"8\" halign=\"left\">VAE</th>\n",
       "      <th>data</th>\n",
       "    </tr>\n",
       "    <tr>\n",
       "      <th></th>\n",
       "      <th>SS</th>\n",
       "      <th>DF</th>\n",
       "      <th>F</th>\n",
       "      <th>p-unc</th>\n",
       "      <th>np2</th>\n",
       "      <th>-Log10 pvalue</th>\n",
       "      <th>qvalue</th>\n",
       "      <th>rejected</th>\n",
       "      <th>SS</th>\n",
       "      <th>DF</th>\n",
       "      <th>F</th>\n",
       "      <th>p-unc</th>\n",
       "      <th>np2</th>\n",
       "      <th>-Log10 pvalue</th>\n",
       "      <th>qvalue</th>\n",
       "      <th>rejected</th>\n",
       "      <th>frequency</th>\n",
       "    </tr>\n",
       "    <tr>\n",
       "      <th>protein groups</th>\n",
       "      <th></th>\n",
       "      <th></th>\n",
       "      <th></th>\n",
       "      <th></th>\n",
       "      <th></th>\n",
       "      <th></th>\n",
       "      <th></th>\n",
       "      <th></th>\n",
       "      <th></th>\n",
       "      <th></th>\n",
       "      <th></th>\n",
       "      <th></th>\n",
       "      <th></th>\n",
       "      <th></th>\n",
       "      <th></th>\n",
       "      <th></th>\n",
       "      <th></th>\n",
       "    </tr>\n",
       "  </thead>\n",
       "  <tbody>\n",
       "    <tr>\n",
       "      <th>A0A024QZX5;A0A087X1N8;P35237</th>\n",
       "      <td>0.401</td>\n",
       "      <td>1</td>\n",
       "      <td>0.728</td>\n",
       "      <td>0.395</td>\n",
       "      <td>0.004</td>\n",
       "      <td>0.404</td>\n",
       "      <td>0.554</td>\n",
       "      <td>False</td>\n",
       "      <td>1.126</td>\n",
       "      <td>1</td>\n",
       "      <td>8.133</td>\n",
       "      <td>0.005</td>\n",
       "      <td>0.041</td>\n",
       "      <td>2.316</td>\n",
       "      <td>0.014</td>\n",
       "      <td>True</td>\n",
       "      <td>186</td>\n",
       "    </tr>\n",
       "    <tr>\n",
       "      <th>A0A024R0T9;K7ER74;P02655</th>\n",
       "      <td>3.139</td>\n",
       "      <td>1</td>\n",
       "      <td>3.828</td>\n",
       "      <td>0.052</td>\n",
       "      <td>0.020</td>\n",
       "      <td>1.285</td>\n",
       "      <td>0.126</td>\n",
       "      <td>False</td>\n",
       "      <td>2.950</td>\n",
       "      <td>1</td>\n",
       "      <td>4.790</td>\n",
       "      <td>0.030</td>\n",
       "      <td>0.024</td>\n",
       "      <td>1.525</td>\n",
       "      <td>0.066</td>\n",
       "      <td>False</td>\n",
       "      <td>195</td>\n",
       "    </tr>\n",
       "    <tr>\n",
       "      <th>A0A024R3W6;A0A024R412;O60462;O60462-2;O60462-3;O60462-4;O60462-5;Q7LBX6;X5D2Q8</th>\n",
       "      <td>2.573</td>\n",
       "      <td>1</td>\n",
       "      <td>2.864</td>\n",
       "      <td>0.092</td>\n",
       "      <td>0.015</td>\n",
       "      <td>1.035</td>\n",
       "      <td>0.196</td>\n",
       "      <td>False</td>\n",
       "      <td>0.148</td>\n",
       "      <td>1</td>\n",
       "      <td>1.219</td>\n",
       "      <td>0.271</td>\n",
       "      <td>0.006</td>\n",
       "      <td>0.567</td>\n",
       "      <td>0.396</td>\n",
       "      <td>False</td>\n",
       "      <td>174</td>\n",
       "    </tr>\n",
       "    <tr>\n",
       "      <th>A0A024R644;A0A0A0MRU5;A0A1B0GWI2;O75503</th>\n",
       "      <td>0.081</td>\n",
       "      <td>1</td>\n",
       "      <td>0.397</td>\n",
       "      <td>0.530</td>\n",
       "      <td>0.002</td>\n",
       "      <td>0.276</td>\n",
       "      <td>0.671</td>\n",
       "      <td>False</td>\n",
       "      <td>0.185</td>\n",
       "      <td>1</td>\n",
       "      <td>1.334</td>\n",
       "      <td>0.250</td>\n",
       "      <td>0.007</td>\n",
       "      <td>0.603</td>\n",
       "      <td>0.371</td>\n",
       "      <td>False</td>\n",
       "      <td>196</td>\n",
       "    </tr>\n",
       "    <tr>\n",
       "      <th>A0A075B6H7</th>\n",
       "      <td>3.858</td>\n",
       "      <td>1</td>\n",
       "      <td>0.953</td>\n",
       "      <td>0.330</td>\n",
       "      <td>0.005</td>\n",
       "      <td>0.481</td>\n",
       "      <td>0.492</td>\n",
       "      <td>False</td>\n",
       "      <td>6.169</td>\n",
       "      <td>1</td>\n",
       "      <td>8.885</td>\n",
       "      <td>0.003</td>\n",
       "      <td>0.044</td>\n",
       "      <td>2.488</td>\n",
       "      <td>0.010</td>\n",
       "      <td>True</td>\n",
       "      <td>91</td>\n",
       "    </tr>\n",
       "    <tr>\n",
       "      <th>...</th>\n",
       "      <td>...</td>\n",
       "      <td>...</td>\n",
       "      <td>...</td>\n",
       "      <td>...</td>\n",
       "      <td>...</td>\n",
       "      <td>...</td>\n",
       "      <td>...</td>\n",
       "      <td>...</td>\n",
       "      <td>...</td>\n",
       "      <td>...</td>\n",
       "      <td>...</td>\n",
       "      <td>...</td>\n",
       "      <td>...</td>\n",
       "      <td>...</td>\n",
       "      <td>...</td>\n",
       "      <td>...</td>\n",
       "      <td>...</td>\n",
       "    </tr>\n",
       "    <tr>\n",
       "      <th>Q9Y6R7</th>\n",
       "      <td>0.675</td>\n",
       "      <td>1</td>\n",
       "      <td>1.850</td>\n",
       "      <td>0.175</td>\n",
       "      <td>0.010</td>\n",
       "      <td>0.756</td>\n",
       "      <td>0.314</td>\n",
       "      <td>False</td>\n",
       "      <td>0.675</td>\n",
       "      <td>1</td>\n",
       "      <td>1.850</td>\n",
       "      <td>0.175</td>\n",
       "      <td>0.010</td>\n",
       "      <td>0.756</td>\n",
       "      <td>0.283</td>\n",
       "      <td>False</td>\n",
       "      <td>197</td>\n",
       "    </tr>\n",
       "    <tr>\n",
       "      <th>Q9Y6X5</th>\n",
       "      <td>3.162</td>\n",
       "      <td>1</td>\n",
       "      <td>3.505</td>\n",
       "      <td>0.063</td>\n",
       "      <td>0.018</td>\n",
       "      <td>1.203</td>\n",
       "      <td>0.146</td>\n",
       "      <td>False</td>\n",
       "      <td>0.398</td>\n",
       "      <td>1</td>\n",
       "      <td>1.225</td>\n",
       "      <td>0.270</td>\n",
       "      <td>0.006</td>\n",
       "      <td>0.569</td>\n",
       "      <td>0.394</td>\n",
       "      <td>False</td>\n",
       "      <td>173</td>\n",
       "    </tr>\n",
       "    <tr>\n",
       "      <th>Q9Y6Y8;Q9Y6Y8-2</th>\n",
       "      <td>0.973</td>\n",
       "      <td>1</td>\n",
       "      <td>3.028</td>\n",
       "      <td>0.083</td>\n",
       "      <td>0.016</td>\n",
       "      <td>1.079</td>\n",
       "      <td>0.182</td>\n",
       "      <td>False</td>\n",
       "      <td>0.973</td>\n",
       "      <td>1</td>\n",
       "      <td>3.028</td>\n",
       "      <td>0.083</td>\n",
       "      <td>0.016</td>\n",
       "      <td>1.079</td>\n",
       "      <td>0.156</td>\n",
       "      <td>False</td>\n",
       "      <td>197</td>\n",
       "    </tr>\n",
       "    <tr>\n",
       "      <th>Q9Y6Y9</th>\n",
       "      <td>1.101</td>\n",
       "      <td>1</td>\n",
       "      <td>1.407</td>\n",
       "      <td>0.237</td>\n",
       "      <td>0.007</td>\n",
       "      <td>0.625</td>\n",
       "      <td>0.389</td>\n",
       "      <td>False</td>\n",
       "      <td>0.084</td>\n",
       "      <td>1</td>\n",
       "      <td>0.083</td>\n",
       "      <td>0.774</td>\n",
       "      <td>0.000</td>\n",
       "      <td>0.111</td>\n",
       "      <td>0.847</td>\n",
       "      <td>False</td>\n",
       "      <td>119</td>\n",
       "    </tr>\n",
       "    <tr>\n",
       "      <th>S4R3U6</th>\n",
       "      <td>0.103</td>\n",
       "      <td>1</td>\n",
       "      <td>0.104</td>\n",
       "      <td>0.747</td>\n",
       "      <td>0.001</td>\n",
       "      <td>0.126</td>\n",
       "      <td>0.840</td>\n",
       "      <td>False</td>\n",
       "      <td>1.823</td>\n",
       "      <td>1</td>\n",
       "      <td>3.679</td>\n",
       "      <td>0.057</td>\n",
       "      <td>0.019</td>\n",
       "      <td>1.247</td>\n",
       "      <td>0.113</td>\n",
       "      <td>False</td>\n",
       "      <td>126</td>\n",
       "    </tr>\n",
       "  </tbody>\n",
       "</table>\n",
       "<p>1421 rows × 17 columns</p>\n",
       "</div>"
      ],
      "text/plain": [
       "                                                      PI                       \\\n",
       "                                                      SS DF     F p-unc   np2   \n",
       "protein groups                                                                  \n",
       "A0A024QZX5;A0A087X1N8;P35237                       0.401  1 0.728 0.395 0.004   \n",
       "A0A024R0T9;K7ER74;P02655                           3.139  1 3.828 0.052 0.020   \n",
       "A0A024R3W6;A0A024R412;O60462;O60462-2;O60462-3;... 2.573  1 2.864 0.092 0.015   \n",
       "A0A024R644;A0A0A0MRU5;A0A1B0GWI2;O75503            0.081  1 0.397 0.530 0.002   \n",
       "A0A075B6H7                                         3.858  1 0.953 0.330 0.005   \n",
       "...                                                  ... ..   ...   ...   ...   \n",
       "Q9Y6R7                                             0.675  1 1.850 0.175 0.010   \n",
       "Q9Y6X5                                             3.162  1 3.505 0.063 0.018   \n",
       "Q9Y6Y8;Q9Y6Y8-2                                    0.973  1 3.028 0.083 0.016   \n",
       "Q9Y6Y9                                             1.101  1 1.407 0.237 0.007   \n",
       "S4R3U6                                             0.103  1 0.104 0.747 0.001   \n",
       "\n",
       "                                                                         \\\n",
       "                                                   -Log10 pvalue qvalue   \n",
       "protein groups                                                            \n",
       "A0A024QZX5;A0A087X1N8;P35237                               0.404  0.554   \n",
       "A0A024R0T9;K7ER74;P02655                                   1.285  0.126   \n",
       "A0A024R3W6;A0A024R412;O60462;O60462-2;O60462-3;...         1.035  0.196   \n",
       "A0A024R644;A0A0A0MRU5;A0A1B0GWI2;O75503                    0.276  0.671   \n",
       "A0A075B6H7                                                 0.481  0.492   \n",
       "...                                                          ...    ...   \n",
       "Q9Y6R7                                                     0.756  0.314   \n",
       "Q9Y6X5                                                     1.203  0.146   \n",
       "Q9Y6Y8;Q9Y6Y8-2                                            1.079  0.182   \n",
       "Q9Y6Y9                                                     0.625  0.389   \n",
       "S4R3U6                                                     0.126  0.840   \n",
       "\n",
       "                                                              VAE           \\\n",
       "                                                   rejected    SS DF     F   \n",
       "protein groups                                                               \n",
       "A0A024QZX5;A0A087X1N8;P35237                          False 1.126  1 8.133   \n",
       "A0A024R0T9;K7ER74;P02655                              False 2.950  1 4.790   \n",
       "A0A024R3W6;A0A024R412;O60462;O60462-2;O60462-3;...    False 0.148  1 1.219   \n",
       "A0A024R644;A0A0A0MRU5;A0A1B0GWI2;O75503               False 0.185  1 1.334   \n",
       "A0A075B6H7                                            False 6.169  1 8.885   \n",
       "...                                                     ...   ... ..   ...   \n",
       "Q9Y6R7                                                False 0.675  1 1.850   \n",
       "Q9Y6X5                                                False 0.398  1 1.225   \n",
       "Q9Y6Y8;Q9Y6Y8-2                                       False 0.973  1 3.028   \n",
       "Q9Y6Y9                                                False 0.084  1 0.083   \n",
       "S4R3U6                                                False 1.823  1 3.679   \n",
       "\n",
       "                                                                              \\\n",
       "                                                   p-unc   np2 -Log10 pvalue   \n",
       "protein groups                                                                 \n",
       "A0A024QZX5;A0A087X1N8;P35237                       0.005 0.041         2.316   \n",
       "A0A024R0T9;K7ER74;P02655                           0.030 0.024         1.525   \n",
       "A0A024R3W6;A0A024R412;O60462;O60462-2;O60462-3;... 0.271 0.006         0.567   \n",
       "A0A024R644;A0A0A0MRU5;A0A1B0GWI2;O75503            0.250 0.007         0.603   \n",
       "A0A075B6H7                                         0.003 0.044         2.488   \n",
       "...                                                  ...   ...           ...   \n",
       "Q9Y6R7                                             0.175 0.010         0.756   \n",
       "Q9Y6X5                                             0.270 0.006         0.569   \n",
       "Q9Y6Y8;Q9Y6Y8-2                                    0.083 0.016         1.079   \n",
       "Q9Y6Y9                                             0.774 0.000         0.111   \n",
       "S4R3U6                                             0.057 0.019         1.247   \n",
       "\n",
       "                                                                        data  \n",
       "                                                   qvalue rejected frequency  \n",
       "protein groups                                                                \n",
       "A0A024QZX5;A0A087X1N8;P35237                        0.014     True       186  \n",
       "A0A024R0T9;K7ER74;P02655                            0.066    False       195  \n",
       "A0A024R3W6;A0A024R412;O60462;O60462-2;O60462-3;...  0.396    False       174  \n",
       "A0A024R644;A0A0A0MRU5;A0A1B0GWI2;O75503             0.371    False       196  \n",
       "A0A075B6H7                                          0.010     True        91  \n",
       "...                                                   ...      ...       ...  \n",
       "Q9Y6R7                                              0.283    False       197  \n",
       "Q9Y6X5                                              0.394    False       173  \n",
       "Q9Y6Y8;Q9Y6Y8-2                                     0.156    False       197  \n",
       "Q9Y6Y9                                              0.847    False       119  \n",
       "S4R3U6                                              0.113    False       126  \n",
       "\n",
       "[1421 rows x 17 columns]"
      ]
     },
     "execution_count": 20,
     "metadata": {},
     "output_type": "execute_result"
    }
   ],
   "source": [
    "scores_common = (scores\n",
    "                 .dropna()\n",
    "                 .reset_index(-1, drop=True)\n",
    "                 ).join(\n",
    "    freq_feat, how='left'\n",
    ")\n",
    "scores_common"
   ]
  },
  {
   "cell_type": "code",
   "execution_count": 21,
   "id": "80cf4145-070d-457a-bb74-ee64299809e7",
   "metadata": {
    "execution": {
     "iopub.execute_input": "2024-05-27T15:49:54.293788Z",
     "iopub.status.busy": "2024-05-27T15:49:54.293423Z",
     "iopub.status.idle": "2024-05-27T15:49:54.315460Z",
     "shell.execute_reply": "2024-05-27T15:49:54.314736Z"
    },
    "papermill": {
     "duration": 0.063298,
     "end_time": "2024-05-27T15:49:54.317538",
     "exception": false,
     "start_time": "2024-05-27T15:49:54.254240",
     "status": "completed"
    },
    "tags": []
   },
   "outputs": [
    {
     "data": {
      "text/plain": [
       "Differential Analysis Comparison\n",
       "PI (no)  - VAE (no)    884\n",
       "PI (yes) - VAE (yes)   332\n",
       "PI (no)  - VAE (yes)   152\n",
       "PI (yes) - VAE (no)     53\n",
       "Name: count, dtype: int64"
      ]
     },
     "execution_count": 21,
     "metadata": {},
     "output_type": "execute_result"
    }
   ],
   "source": [
    "def annotate_decision(scores, model, model_column):\n",
    "    return scores[(model_column, 'rejected')].replace({False: f'{model} (no) ', True: f'{model} (yes)'})\n",
    "\n",
    "\n",
    "annotations = None\n",
    "for model, model_column in models.items():\n",
    "    if annotations is not None:\n",
    "        annotations += ' - '\n",
    "        annotations += annotate_decision(scores_common,\n",
    "                                         model=model, model_column=model_column)\n",
    "    else:\n",
    "        annotations = annotate_decision(\n",
    "            scores_common, model=model, model_column=model_column)\n",
    "annotations.name = 'Differential Analysis Comparison'\n",
    "annotations.value_counts()"
   ]
  },
  {
   "cell_type": "code",
   "execution_count": 22,
   "id": "cda5ffa4-9a97-4a49-aaba-34e83ef7940a",
   "metadata": {
    "execution": {
     "iopub.execute_input": "2024-05-27T15:49:54.370913Z",
     "iopub.status.busy": "2024-05-27T15:49:54.370543Z",
     "iopub.status.idle": "2024-05-27T15:49:54.413896Z",
     "shell.execute_reply": "2024-05-27T15:49:54.412882Z"
    },
    "papermill": {
     "duration": 0.068851,
     "end_time": "2024-05-27T15:49:54.416237",
     "exception": false,
     "start_time": "2024-05-27T15:49:54.347386",
     "status": "completed"
    },
    "tags": []
   },
   "outputs": [
    {
     "data": {
      "text/html": [
       "<div>\n",
       "<style scoped>\n",
       "    .dataframe tbody tr th:only-of-type {\n",
       "        vertical-align: middle;\n",
       "    }\n",
       "\n",
       "    .dataframe tbody tr th {\n",
       "        vertical-align: top;\n",
       "    }\n",
       "\n",
       "    .dataframe thead tr th {\n",
       "        text-align: left;\n",
       "    }\n",
       "\n",
       "    .dataframe thead tr:last-of-type th {\n",
       "        text-align: right;\n",
       "    }\n",
       "</style>\n",
       "<table border=\"1\" class=\"dataframe\">\n",
       "  <thead>\n",
       "    <tr>\n",
       "      <th></th>\n",
       "      <th colspan=\"8\" halign=\"left\">PI</th>\n",
       "      <th colspan=\"8\" halign=\"left\">VAE</th>\n",
       "      <th>data</th>\n",
       "    </tr>\n",
       "    <tr>\n",
       "      <th></th>\n",
       "      <th>SS</th>\n",
       "      <th>DF</th>\n",
       "      <th>F</th>\n",
       "      <th>p-unc</th>\n",
       "      <th>np2</th>\n",
       "      <th>-Log10 pvalue</th>\n",
       "      <th>qvalue</th>\n",
       "      <th>rejected</th>\n",
       "      <th>SS</th>\n",
       "      <th>DF</th>\n",
       "      <th>F</th>\n",
       "      <th>p-unc</th>\n",
       "      <th>np2</th>\n",
       "      <th>-Log10 pvalue</th>\n",
       "      <th>qvalue</th>\n",
       "      <th>rejected</th>\n",
       "      <th>frequency</th>\n",
       "    </tr>\n",
       "    <tr>\n",
       "      <th>protein groups</th>\n",
       "      <th></th>\n",
       "      <th></th>\n",
       "      <th></th>\n",
       "      <th></th>\n",
       "      <th></th>\n",
       "      <th></th>\n",
       "      <th></th>\n",
       "      <th></th>\n",
       "      <th></th>\n",
       "      <th></th>\n",
       "      <th></th>\n",
       "      <th></th>\n",
       "      <th></th>\n",
       "      <th></th>\n",
       "      <th></th>\n",
       "      <th></th>\n",
       "      <th></th>\n",
       "    </tr>\n",
       "  </thead>\n",
       "  <tbody>\n",
       "    <tr>\n",
       "      <th>A0A024QZX5;A0A087X1N8;P35237</th>\n",
       "      <td>0.401</td>\n",
       "      <td>1</td>\n",
       "      <td>0.728</td>\n",
       "      <td>0.395</td>\n",
       "      <td>0.004</td>\n",
       "      <td>0.404</td>\n",
       "      <td>0.554</td>\n",
       "      <td>False</td>\n",
       "      <td>1.126</td>\n",
       "      <td>1</td>\n",
       "      <td>8.133</td>\n",
       "      <td>0.005</td>\n",
       "      <td>0.041</td>\n",
       "      <td>2.316</td>\n",
       "      <td>0.014</td>\n",
       "      <td>True</td>\n",
       "      <td>186</td>\n",
       "    </tr>\n",
       "    <tr>\n",
       "      <th>A0A075B6H7</th>\n",
       "      <td>3.858</td>\n",
       "      <td>1</td>\n",
       "      <td>0.953</td>\n",
       "      <td>0.330</td>\n",
       "      <td>0.005</td>\n",
       "      <td>0.481</td>\n",
       "      <td>0.492</td>\n",
       "      <td>False</td>\n",
       "      <td>6.169</td>\n",
       "      <td>1</td>\n",
       "      <td>8.885</td>\n",
       "      <td>0.003</td>\n",
       "      <td>0.044</td>\n",
       "      <td>2.488</td>\n",
       "      <td>0.010</td>\n",
       "      <td>True</td>\n",
       "      <td>91</td>\n",
       "    </tr>\n",
       "    <tr>\n",
       "      <th>A0A075B6H9</th>\n",
       "      <td>1.747</td>\n",
       "      <td>1</td>\n",
       "      <td>0.653</td>\n",
       "      <td>0.420</td>\n",
       "      <td>0.003</td>\n",
       "      <td>0.377</td>\n",
       "      <td>0.577</td>\n",
       "      <td>False</td>\n",
       "      <td>7.209</td>\n",
       "      <td>1</td>\n",
       "      <td>5.518</td>\n",
       "      <td>0.020</td>\n",
       "      <td>0.028</td>\n",
       "      <td>1.702</td>\n",
       "      <td>0.047</td>\n",
       "      <td>True</td>\n",
       "      <td>189</td>\n",
       "    </tr>\n",
       "    <tr>\n",
       "      <th>A0A075B6I0</th>\n",
       "      <td>8.273</td>\n",
       "      <td>1</td>\n",
       "      <td>5.438</td>\n",
       "      <td>0.021</td>\n",
       "      <td>0.028</td>\n",
       "      <td>1.683</td>\n",
       "      <td>0.062</td>\n",
       "      <td>False</td>\n",
       "      <td>10.450</td>\n",
       "      <td>1</td>\n",
       "      <td>12.034</td>\n",
       "      <td>0.001</td>\n",
       "      <td>0.059</td>\n",
       "      <td>3.190</td>\n",
       "      <td>0.002</td>\n",
       "      <td>True</td>\n",
       "      <td>194</td>\n",
       "    </tr>\n",
       "    <tr>\n",
       "      <th>A0A075B6Q5</th>\n",
       "      <td>0.233</td>\n",
       "      <td>1</td>\n",
       "      <td>0.062</td>\n",
       "      <td>0.804</td>\n",
       "      <td>0.000</td>\n",
       "      <td>0.095</td>\n",
       "      <td>0.883</td>\n",
       "      <td>False</td>\n",
       "      <td>2.828</td>\n",
       "      <td>1</td>\n",
       "      <td>7.387</td>\n",
       "      <td>0.007</td>\n",
       "      <td>0.037</td>\n",
       "      <td>2.144</td>\n",
       "      <td>0.020</td>\n",
       "      <td>True</td>\n",
       "      <td>104</td>\n",
       "    </tr>\n",
       "    <tr>\n",
       "      <th>...</th>\n",
       "      <td>...</td>\n",
       "      <td>...</td>\n",
       "      <td>...</td>\n",
       "      <td>...</td>\n",
       "      <td>...</td>\n",
       "      <td>...</td>\n",
       "      <td>...</td>\n",
       "      <td>...</td>\n",
       "      <td>...</td>\n",
       "      <td>...</td>\n",
       "      <td>...</td>\n",
       "      <td>...</td>\n",
       "      <td>...</td>\n",
       "      <td>...</td>\n",
       "      <td>...</td>\n",
       "      <td>...</td>\n",
       "      <td>...</td>\n",
       "    </tr>\n",
       "    <tr>\n",
       "      <th>Q9UKB5</th>\n",
       "      <td>17.412</td>\n",
       "      <td>1</td>\n",
       "      <td>6.468</td>\n",
       "      <td>0.012</td>\n",
       "      <td>0.033</td>\n",
       "      <td>1.929</td>\n",
       "      <td>0.039</td>\n",
       "      <td>True</td>\n",
       "      <td>0.486</td>\n",
       "      <td>1</td>\n",
       "      <td>1.775</td>\n",
       "      <td>0.184</td>\n",
       "      <td>0.009</td>\n",
       "      <td>0.734</td>\n",
       "      <td>0.294</td>\n",
       "      <td>False</td>\n",
       "      <td>148</td>\n",
       "    </tr>\n",
       "    <tr>\n",
       "      <th>Q9ULZ9</th>\n",
       "      <td>11.532</td>\n",
       "      <td>1</td>\n",
       "      <td>11.679</td>\n",
       "      <td>0.001</td>\n",
       "      <td>0.058</td>\n",
       "      <td>3.112</td>\n",
       "      <td>0.004</td>\n",
       "      <td>True</td>\n",
       "      <td>3.271</td>\n",
       "      <td>1</td>\n",
       "      <td>5.338</td>\n",
       "      <td>0.022</td>\n",
       "      <td>0.027</td>\n",
       "      <td>1.659</td>\n",
       "      <td>0.051</td>\n",
       "      <td>False</td>\n",
       "      <td>171</td>\n",
       "    </tr>\n",
       "    <tr>\n",
       "      <th>Q9UP79</th>\n",
       "      <td>4.594</td>\n",
       "      <td>1</td>\n",
       "      <td>2.455</td>\n",
       "      <td>0.119</td>\n",
       "      <td>0.013</td>\n",
       "      <td>0.925</td>\n",
       "      <td>0.238</td>\n",
       "      <td>False</td>\n",
       "      <td>2.813</td>\n",
       "      <td>1</td>\n",
       "      <td>19.915</td>\n",
       "      <td>0.000</td>\n",
       "      <td>0.094</td>\n",
       "      <td>4.860</td>\n",
       "      <td>0.000</td>\n",
       "      <td>True</td>\n",
       "      <td>135</td>\n",
       "    </tr>\n",
       "    <tr>\n",
       "      <th>Q9UQ52</th>\n",
       "      <td>1.953</td>\n",
       "      <td>1</td>\n",
       "      <td>3.879</td>\n",
       "      <td>0.050</td>\n",
       "      <td>0.020</td>\n",
       "      <td>1.298</td>\n",
       "      <td>0.123</td>\n",
       "      <td>False</td>\n",
       "      <td>1.835</td>\n",
       "      <td>1</td>\n",
       "      <td>12.668</td>\n",
       "      <td>0.000</td>\n",
       "      <td>0.062</td>\n",
       "      <td>3.329</td>\n",
       "      <td>0.002</td>\n",
       "      <td>True</td>\n",
       "      <td>188</td>\n",
       "    </tr>\n",
       "    <tr>\n",
       "      <th>Q9Y6C2</th>\n",
       "      <td>0.399</td>\n",
       "      <td>1</td>\n",
       "      <td>0.351</td>\n",
       "      <td>0.554</td>\n",
       "      <td>0.002</td>\n",
       "      <td>0.256</td>\n",
       "      <td>0.691</td>\n",
       "      <td>False</td>\n",
       "      <td>2.815</td>\n",
       "      <td>1</td>\n",
       "      <td>6.358</td>\n",
       "      <td>0.013</td>\n",
       "      <td>0.032</td>\n",
       "      <td>1.903</td>\n",
       "      <td>0.032</td>\n",
       "      <td>True</td>\n",
       "      <td>119</td>\n",
       "    </tr>\n",
       "  </tbody>\n",
       "</table>\n",
       "<p>205 rows × 17 columns</p>\n",
       "</div>"
      ],
      "text/plain": [
       "                                 PI                                      \\\n",
       "                                 SS DF      F p-unc   np2 -Log10 pvalue   \n",
       "protein groups                                                            \n",
       "A0A024QZX5;A0A087X1N8;P35237  0.401  1  0.728 0.395 0.004         0.404   \n",
       "A0A075B6H7                    3.858  1  0.953 0.330 0.005         0.481   \n",
       "A0A075B6H9                    1.747  1  0.653 0.420 0.003         0.377   \n",
       "A0A075B6I0                    8.273  1  5.438 0.021 0.028         1.683   \n",
       "A0A075B6Q5                    0.233  1  0.062 0.804 0.000         0.095   \n",
       "...                             ... ..    ...   ...   ...           ...   \n",
       "Q9UKB5                       17.412  1  6.468 0.012 0.033         1.929   \n",
       "Q9ULZ9                       11.532  1 11.679 0.001 0.058         3.112   \n",
       "Q9UP79                        4.594  1  2.455 0.119 0.013         0.925   \n",
       "Q9UQ52                        1.953  1  3.879 0.050 0.020         1.298   \n",
       "Q9Y6C2                        0.399  1  0.351 0.554 0.002         0.256   \n",
       "\n",
       "                                                VAE                        \\\n",
       "                             qvalue rejected     SS DF      F p-unc   np2   \n",
       "protein groups                                                              \n",
       "A0A024QZX5;A0A087X1N8;P35237  0.554    False  1.126  1  8.133 0.005 0.041   \n",
       "A0A075B6H7                    0.492    False  6.169  1  8.885 0.003 0.044   \n",
       "A0A075B6H9                    0.577    False  7.209  1  5.518 0.020 0.028   \n",
       "A0A075B6I0                    0.062    False 10.450  1 12.034 0.001 0.059   \n",
       "A0A075B6Q5                    0.883    False  2.828  1  7.387 0.007 0.037   \n",
       "...                             ...      ...    ... ..    ...   ...   ...   \n",
       "Q9UKB5                        0.039     True  0.486  1  1.775 0.184 0.009   \n",
       "Q9ULZ9                        0.004     True  3.271  1  5.338 0.022 0.027   \n",
       "Q9UP79                        0.238    False  2.813  1 19.915 0.000 0.094   \n",
       "Q9UQ52                        0.123    False  1.835  1 12.668 0.000 0.062   \n",
       "Q9Y6C2                        0.691    False  2.815  1  6.358 0.013 0.032   \n",
       "\n",
       "                                                                data  \n",
       "                             -Log10 pvalue qvalue rejected frequency  \n",
       "protein groups                                                        \n",
       "A0A024QZX5;A0A087X1N8;P35237         2.316  0.014     True       186  \n",
       "A0A075B6H7                           2.488  0.010     True        91  \n",
       "A0A075B6H9                           1.702  0.047     True       189  \n",
       "A0A075B6I0                           3.190  0.002     True       194  \n",
       "A0A075B6Q5                           2.144  0.020     True       104  \n",
       "...                                    ...    ...      ...       ...  \n",
       "Q9UKB5                               0.734  0.294    False       148  \n",
       "Q9ULZ9                               1.659  0.051    False       171  \n",
       "Q9UP79                               4.860  0.000     True       135  \n",
       "Q9UQ52                               3.329  0.002     True       188  \n",
       "Q9Y6C2                               1.903  0.032     True       119  \n",
       "\n",
       "[205 rows x 17 columns]"
      ]
     },
     "execution_count": 22,
     "metadata": {},
     "output_type": "execute_result"
    }
   ],
   "source": [
    "mask_different = (\n",
    "    (scores_common.loc[:, pd.IndexSlice[:, 'rejected']].any(axis=1))\n",
    "    & ~(scores_common.loc[:, pd.IndexSlice[:, 'rejected']].all(axis=1))\n",
    ")\n",
    "\n",
    "scores_common.loc[mask_different]"
   ]
  },
  {
   "cell_type": "code",
   "execution_count": 23,
   "id": "b9e2739b-a09a-4113-a3f8-f29d6ed398b7",
   "metadata": {
    "execution": {
     "iopub.execute_input": "2024-05-27T15:49:54.461180Z",
     "iopub.status.busy": "2024-05-27T15:49:54.460791Z",
     "iopub.status.idle": "2024-05-27T15:49:54.573687Z",
     "shell.execute_reply": "2024-05-27T15:49:54.572836Z"
    },
    "papermill": {
     "duration": 0.134712,
     "end_time": "2024-05-27T15:49:54.575766",
     "exception": false,
     "start_time": "2024-05-27T15:49:54.441054",
     "status": "completed"
    },
    "tags": []
   },
   "outputs": [],
   "source": [
    "_to_write = scores_common.loc[mask_different]\n",
    "_to_write.to_excel(writer, 'differences', **writer_args)"
   ]
  },
  {
   "cell_type": "code",
   "execution_count": 24,
   "id": "5b2e5341-b054-40c3-b45a-44ae6ca46cfb",
   "metadata": {
    "execution": {
     "iopub.execute_input": "2024-05-27T15:49:54.627922Z",
     "iopub.status.busy": "2024-05-27T15:49:54.627111Z",
     "iopub.status.idle": "2024-05-27T15:49:54.677619Z",
     "shell.execute_reply": "2024-05-27T15:49:54.676812Z"
    },
    "papermill": {
     "duration": 0.085635,
     "end_time": "2024-05-27T15:49:54.679450",
     "exception": false,
     "start_time": "2024-05-27T15:49:54.593815",
     "status": "completed"
    },
    "tags": []
   },
   "outputs": [
    {
     "data": {
      "text/html": [
       "<div>\n",
       "<style scoped>\n",
       "    .dataframe tbody tr th:only-of-type {\n",
       "        vertical-align: middle;\n",
       "    }\n",
       "\n",
       "    .dataframe tbody tr th {\n",
       "        vertical-align: top;\n",
       "    }\n",
       "\n",
       "    .dataframe thead th {\n",
       "        text-align: right;\n",
       "    }\n",
       "</style>\n",
       "<table border=\"1\" class=\"dataframe\">\n",
       "  <thead>\n",
       "    <tr style=\"text-align: right;\">\n",
       "      <th></th>\n",
       "      <th>PI</th>\n",
       "      <th>VAE</th>\n",
       "      <th>frequency</th>\n",
       "      <th>Differential Analysis Comparison</th>\n",
       "    </tr>\n",
       "    <tr>\n",
       "      <th>protein groups</th>\n",
       "      <th></th>\n",
       "      <th></th>\n",
       "      <th></th>\n",
       "      <th></th>\n",
       "    </tr>\n",
       "  </thead>\n",
       "  <tbody>\n",
       "    <tr>\n",
       "      <th>A0A024QZX5;A0A087X1N8;P35237</th>\n",
       "      <td>0.554</td>\n",
       "      <td>0.014</td>\n",
       "      <td>186</td>\n",
       "      <td>PI (no)  - VAE (yes)</td>\n",
       "    </tr>\n",
       "    <tr>\n",
       "      <th>A0A024R0T9;K7ER74;P02655</th>\n",
       "      <td>0.126</td>\n",
       "      <td>0.066</td>\n",
       "      <td>195</td>\n",
       "      <td>PI (no)  - VAE (no)</td>\n",
       "    </tr>\n",
       "    <tr>\n",
       "      <th>A0A024R3W6;A0A024R412;O60462;O60462-2;O60462-3;O60462-4;O60462-5;Q7LBX6;X5D2Q8</th>\n",
       "      <td>0.196</td>\n",
       "      <td>0.396</td>\n",
       "      <td>174</td>\n",
       "      <td>PI (no)  - VAE (no)</td>\n",
       "    </tr>\n",
       "    <tr>\n",
       "      <th>A0A024R644;A0A0A0MRU5;A0A1B0GWI2;O75503</th>\n",
       "      <td>0.671</td>\n",
       "      <td>0.371</td>\n",
       "      <td>196</td>\n",
       "      <td>PI (no)  - VAE (no)</td>\n",
       "    </tr>\n",
       "    <tr>\n",
       "      <th>A0A075B6H7</th>\n",
       "      <td>0.492</td>\n",
       "      <td>0.010</td>\n",
       "      <td>91</td>\n",
       "      <td>PI (no)  - VAE (yes)</td>\n",
       "    </tr>\n",
       "    <tr>\n",
       "      <th>...</th>\n",
       "      <td>...</td>\n",
       "      <td>...</td>\n",
       "      <td>...</td>\n",
       "      <td>...</td>\n",
       "    </tr>\n",
       "    <tr>\n",
       "      <th>Q9Y6R7</th>\n",
       "      <td>0.314</td>\n",
       "      <td>0.283</td>\n",
       "      <td>197</td>\n",
       "      <td>PI (no)  - VAE (no)</td>\n",
       "    </tr>\n",
       "    <tr>\n",
       "      <th>Q9Y6X5</th>\n",
       "      <td>0.146</td>\n",
       "      <td>0.394</td>\n",
       "      <td>173</td>\n",
       "      <td>PI (no)  - VAE (no)</td>\n",
       "    </tr>\n",
       "    <tr>\n",
       "      <th>Q9Y6Y8;Q9Y6Y8-2</th>\n",
       "      <td>0.182</td>\n",
       "      <td>0.156</td>\n",
       "      <td>197</td>\n",
       "      <td>PI (no)  - VAE (no)</td>\n",
       "    </tr>\n",
       "    <tr>\n",
       "      <th>Q9Y6Y9</th>\n",
       "      <td>0.389</td>\n",
       "      <td>0.847</td>\n",
       "      <td>119</td>\n",
       "      <td>PI (no)  - VAE (no)</td>\n",
       "    </tr>\n",
       "    <tr>\n",
       "      <th>S4R3U6</th>\n",
       "      <td>0.840</td>\n",
       "      <td>0.113</td>\n",
       "      <td>126</td>\n",
       "      <td>PI (no)  - VAE (no)</td>\n",
       "    </tr>\n",
       "  </tbody>\n",
       "</table>\n",
       "<p>1421 rows × 4 columns</p>\n",
       "</div>"
      ],
      "text/plain": [
       "                                                      PI   VAE  frequency  \\\n",
       "protein groups                                                              \n",
       "A0A024QZX5;A0A087X1N8;P35237                       0.554 0.014        186   \n",
       "A0A024R0T9;K7ER74;P02655                           0.126 0.066        195   \n",
       "A0A024R3W6;A0A024R412;O60462;O60462-2;O60462-3;... 0.196 0.396        174   \n",
       "A0A024R644;A0A0A0MRU5;A0A1B0GWI2;O75503            0.671 0.371        196   \n",
       "A0A075B6H7                                         0.492 0.010         91   \n",
       "...                                                  ...   ...        ...   \n",
       "Q9Y6R7                                             0.314 0.283        197   \n",
       "Q9Y6X5                                             0.146 0.394        173   \n",
       "Q9Y6Y8;Q9Y6Y8-2                                    0.182 0.156        197   \n",
       "Q9Y6Y9                                             0.389 0.847        119   \n",
       "S4R3U6                                             0.840 0.113        126   \n",
       "\n",
       "                                                   Differential Analysis Comparison  \n",
       "protein groups                                                                       \n",
       "A0A024QZX5;A0A087X1N8;P35237                                   PI (no)  - VAE (yes)  \n",
       "A0A024R0T9;K7ER74;P02655                                       PI (no)  - VAE (no)   \n",
       "A0A024R3W6;A0A024R412;O60462;O60462-2;O60462-3;...             PI (no)  - VAE (no)   \n",
       "A0A024R644;A0A0A0MRU5;A0A1B0GWI2;O75503                        PI (no)  - VAE (no)   \n",
       "A0A075B6H7                                                     PI (no)  - VAE (yes)  \n",
       "...                                                                             ...  \n",
       "Q9Y6R7                                                         PI (no)  - VAE (no)   \n",
       "Q9Y6X5                                                         PI (no)  - VAE (no)   \n",
       "Q9Y6Y8;Q9Y6Y8-2                                                PI (no)  - VAE (no)   \n",
       "Q9Y6Y9                                                         PI (no)  - VAE (no)   \n",
       "S4R3U6                                                         PI (no)  - VAE (no)   \n",
       "\n",
       "[1421 rows x 4 columns]"
      ]
     },
     "execution_count": 24,
     "metadata": {},
     "output_type": "execute_result"
    }
   ],
   "source": [
    "var = 'qvalue'\n",
    "to_plot = [scores_common[v][var] for v in models.values()]\n",
    "for s, k in zip(to_plot, models.keys()):\n",
    "    s.name = k.replace('_', ' ')\n",
    "to_plot.append(scores_common['data'])\n",
    "to_plot.append(annotations)\n",
    "to_plot = pd.concat(to_plot, axis=1)\n",
    "to_plot"
   ]
  },
  {
   "cell_type": "markdown",
   "id": "c92517a4-8456-4663-b719-4abd997fbb1c",
   "metadata": {
    "papermill": {
     "duration": 0.048196,
     "end_time": "2024-05-27T15:49:54.769009",
     "exception": false,
     "start_time": "2024-05-27T15:49:54.720813",
     "status": "completed"
    },
    "tags": []
   },
   "source": [
    "## Plot of intensities for most extreme example"
   ]
  },
  {
   "cell_type": "code",
   "execution_count": 25,
   "id": "c7af4a70-aa43-4772-af00-d425f5ed249f",
   "metadata": {
    "execution": {
     "iopub.execute_input": "2024-05-27T15:49:54.848040Z",
     "iopub.status.busy": "2024-05-27T15:49:54.847675Z",
     "iopub.status.idle": "2024-05-27T15:49:54.997908Z",
     "shell.execute_reply": "2024-05-27T15:49:54.996855Z"
    },
    "papermill": {
     "duration": 0.182687,
     "end_time": "2024-05-27T15:49:55.000108",
     "exception": false,
     "start_time": "2024-05-27T15:49:54.817421",
     "status": "completed"
    },
    "tags": []
   },
   "outputs": [
    {
     "data": {
      "text/html": [
       "<div>\n",
       "<style scoped>\n",
       "    .dataframe tbody tr th:only-of-type {\n",
       "        vertical-align: middle;\n",
       "    }\n",
       "\n",
       "    .dataframe tbody tr th {\n",
       "        vertical-align: top;\n",
       "    }\n",
       "\n",
       "    .dataframe thead th {\n",
       "        text-align: right;\n",
       "    }\n",
       "</style>\n",
       "<table border=\"1\" class=\"dataframe\">\n",
       "  <thead>\n",
       "    <tr style=\"text-align: right;\">\n",
       "      <th></th>\n",
       "      <th>PI</th>\n",
       "      <th>VAE</th>\n",
       "      <th>frequency</th>\n",
       "      <th>Differential Analysis Comparison</th>\n",
       "      <th>diff_qvalue</th>\n",
       "    </tr>\n",
       "    <tr>\n",
       "      <th>protein groups</th>\n",
       "      <th></th>\n",
       "      <th></th>\n",
       "      <th></th>\n",
       "      <th></th>\n",
       "      <th></th>\n",
       "    </tr>\n",
       "  </thead>\n",
       "  <tbody>\n",
       "    <tr>\n",
       "      <th>O94898</th>\n",
       "      <td>0.962</td>\n",
       "      <td>0.000</td>\n",
       "      <td>60</td>\n",
       "      <td>PI (no)  - VAE (yes)</td>\n",
       "      <td>0.961</td>\n",
       "    </tr>\n",
       "    <tr>\n",
       "      <th>Q8N9I0</th>\n",
       "      <td>0.969</td>\n",
       "      <td>0.009</td>\n",
       "      <td>141</td>\n",
       "      <td>PI (no)  - VAE (yes)</td>\n",
       "      <td>0.960</td>\n",
       "    </tr>\n",
       "    <tr>\n",
       "      <th>E5RJY1;E7ESM1;Q92597;Q92597-2;Q92597-3</th>\n",
       "      <td>0.969</td>\n",
       "      <td>0.012</td>\n",
       "      <td>60</td>\n",
       "      <td>PI (no)  - VAE (yes)</td>\n",
       "      <td>0.956</td>\n",
       "    </tr>\n",
       "    <tr>\n",
       "      <th>A0A087WU43;A0A087WX17;A0A087WXI5;P12830;P12830-2</th>\n",
       "      <td>0.938</td>\n",
       "      <td>0.000</td>\n",
       "      <td>134</td>\n",
       "      <td>PI (no)  - VAE (yes)</td>\n",
       "      <td>0.938</td>\n",
       "    </tr>\n",
       "    <tr>\n",
       "      <th>P17931</th>\n",
       "      <td>0.952</td>\n",
       "      <td>0.017</td>\n",
       "      <td>174</td>\n",
       "      <td>PI (no)  - VAE (yes)</td>\n",
       "      <td>0.934</td>\n",
       "    </tr>\n",
       "    <tr>\n",
       "      <th>...</th>\n",
       "      <td>...</td>\n",
       "      <td>...</td>\n",
       "      <td>...</td>\n",
       "      <td>...</td>\n",
       "      <td>...</td>\n",
       "    </tr>\n",
       "    <tr>\n",
       "      <th>Q9NX62</th>\n",
       "      <td>0.056</td>\n",
       "      <td>0.045</td>\n",
       "      <td>197</td>\n",
       "      <td>PI (no)  - VAE (yes)</td>\n",
       "      <td>0.012</td>\n",
       "    </tr>\n",
       "    <tr>\n",
       "      <th>K7ERI9;P02654</th>\n",
       "      <td>0.042</td>\n",
       "      <td>0.053</td>\n",
       "      <td>196</td>\n",
       "      <td>PI (yes) - VAE (no)</td>\n",
       "      <td>0.011</td>\n",
       "    </tr>\n",
       "    <tr>\n",
       "      <th>P00740;P00740-2</th>\n",
       "      <td>0.053</td>\n",
       "      <td>0.042</td>\n",
       "      <td>197</td>\n",
       "      <td>PI (no)  - VAE (yes)</td>\n",
       "      <td>0.011</td>\n",
       "    </tr>\n",
       "    <tr>\n",
       "      <th>K7ERG9;P00746</th>\n",
       "      <td>0.052</td>\n",
       "      <td>0.041</td>\n",
       "      <td>197</td>\n",
       "      <td>PI (no)  - VAE (yes)</td>\n",
       "      <td>0.011</td>\n",
       "    </tr>\n",
       "    <tr>\n",
       "      <th>P26572</th>\n",
       "      <td>0.052</td>\n",
       "      <td>0.049</td>\n",
       "      <td>194</td>\n",
       "      <td>PI (no)  - VAE (yes)</td>\n",
       "      <td>0.002</td>\n",
       "    </tr>\n",
       "  </tbody>\n",
       "</table>\n",
       "<p>205 rows × 5 columns</p>\n",
       "</div>"
      ],
      "text/plain": [
       "                                                    PI   VAE  frequency  \\\n",
       "protein groups                                                            \n",
       "O94898                                           0.962 0.000         60   \n",
       "Q8N9I0                                           0.969 0.009        141   \n",
       "E5RJY1;E7ESM1;Q92597;Q92597-2;Q92597-3           0.969 0.012         60   \n",
       "A0A087WU43;A0A087WX17;A0A087WXI5;P12830;P12830-2 0.938 0.000        134   \n",
       "P17931                                           0.952 0.017        174   \n",
       "...                                                ...   ...        ...   \n",
       "Q9NX62                                           0.056 0.045        197   \n",
       "K7ERI9;P02654                                    0.042 0.053        196   \n",
       "P00740;P00740-2                                  0.053 0.042        197   \n",
       "K7ERG9;P00746                                    0.052 0.041        197   \n",
       "P26572                                           0.052 0.049        194   \n",
       "\n",
       "                                                 Differential Analysis Comparison  \\\n",
       "protein groups                                                                      \n",
       "O94898                                                       PI (no)  - VAE (yes)   \n",
       "Q8N9I0                                                       PI (no)  - VAE (yes)   \n",
       "E5RJY1;E7ESM1;Q92597;Q92597-2;Q92597-3                       PI (no)  - VAE (yes)   \n",
       "A0A087WU43;A0A087WX17;A0A087WXI5;P12830;P12830-2             PI (no)  - VAE (yes)   \n",
       "P17931                                                       PI (no)  - VAE (yes)   \n",
       "...                                                                           ...   \n",
       "Q9NX62                                                       PI (no)  - VAE (yes)   \n",
       "K7ERI9;P02654                                                PI (yes) - VAE (no)    \n",
       "P00740;P00740-2                                              PI (no)  - VAE (yes)   \n",
       "K7ERG9;P00746                                                PI (no)  - VAE (yes)   \n",
       "P26572                                                       PI (no)  - VAE (yes)   \n",
       "\n",
       "                                                  diff_qvalue  \n",
       "protein groups                                                 \n",
       "O94898                                                  0.961  \n",
       "Q8N9I0                                                  0.960  \n",
       "E5RJY1;E7ESM1;Q92597;Q92597-2;Q92597-3                  0.956  \n",
       "A0A087WU43;A0A087WX17;A0A087WXI5;P12830;P12830-2        0.938  \n",
       "P17931                                                  0.934  \n",
       "...                                                       ...  \n",
       "Q9NX62                                                  0.012  \n",
       "K7ERI9;P02654                                           0.011  \n",
       "P00740;P00740-2                                         0.011  \n",
       "K7ERG9;P00746                                           0.011  \n",
       "P26572                                                  0.002  \n",
       "\n",
       "[205 rows x 5 columns]"
      ]
     },
     "execution_count": 25,
     "metadata": {},
     "output_type": "execute_result"
    }
   ],
   "source": [
    "# should it be possible to run not only RSN?\n",
    "to_plot['diff_qvalue'] = (to_plot[str(args.baseline)] - to_plot[str(args.model_key)]).abs()\n",
    "to_plot.loc[mask_different].sort_values('diff_qvalue', ascending=False)"
   ]
  },
  {
   "cell_type": "markdown",
   "id": "e715954e-2d62-4cd9-b4b0-063524bca495",
   "metadata": {
    "papermill": {
     "duration": 0.036405,
     "end_time": "2024-05-27T15:49:55.073264",
     "exception": false,
     "start_time": "2024-05-27T15:49:55.036859",
     "status": "completed"
    },
    "tags": []
   },
   "source": [
    "## Differences plotted\n",
    "\n",
    "- first only using created annotations"
   ]
  },
  {
   "cell_type": "code",
   "execution_count": 26,
   "id": "a20d356d-c397-4440-b70e-9d899aa200fd",
   "metadata": {
    "execution": {
     "iopub.execute_input": "2024-05-27T15:49:55.159928Z",
     "iopub.status.busy": "2024-05-27T15:49:55.159569Z",
     "iopub.status.idle": "2024-05-27T15:49:57.307179Z",
     "shell.execute_reply": "2024-05-27T15:49:57.306418Z"
    },
    "papermill": {
     "duration": 2.195095,
     "end_time": "2024-05-27T15:49:57.309249",
     "exception": false,
     "start_time": "2024-05-27T15:49:55.114154",
     "status": "completed"
    },
    "tags": []
   },
   "outputs": [
    {
     "name": "stderr",
     "output_type": "stream",
     "text": [
      "fontTools.subset - INFO     maxp pruned\n"
     ]
    },
    {
     "name": "stderr",
     "output_type": "stream",
     "text": [
      "fontTools.subset - INFO     cmap pruned\n"
     ]
    },
    {
     "name": "stderr",
     "output_type": "stream",
     "text": [
      "fontTools.subset - INFO     kern dropped\n"
     ]
    },
    {
     "name": "stderr",
     "output_type": "stream",
     "text": [
      "fontTools.subset - INFO     post pruned\n"
     ]
    },
    {
     "name": "stderr",
     "output_type": "stream",
     "text": [
      "fontTools.subset - INFO     FFTM dropped\n"
     ]
    },
    {
     "name": "stderr",
     "output_type": "stream",
     "text": [
      "fontTools.subset - INFO     GPOS pruned\n"
     ]
    },
    {
     "name": "stderr",
     "output_type": "stream",
     "text": [
      "fontTools.subset - INFO     GSUB pruned\n"
     ]
    },
    {
     "name": "stderr",
     "output_type": "stream",
     "text": [
      "fontTools.subset - INFO     glyf pruned\n"
     ]
    },
    {
     "name": "stderr",
     "output_type": "stream",
     "text": [
      "fontTools.subset - INFO     Added gid0 to subset\n"
     ]
    },
    {
     "name": "stderr",
     "output_type": "stream",
     "text": [
      "fontTools.subset - INFO     Added first four glyphs to subset\n"
     ]
    },
    {
     "name": "stderr",
     "output_type": "stream",
     "text": [
      "fontTools.subset - INFO     Closing glyph list over 'MATH': 31 glyphs before\n"
     ]
    },
    {
     "name": "stderr",
     "output_type": "stream",
     "text": [
      "fontTools.subset - INFO     Glyph names: ['.notdef', '.null', 'A', 'E', 'I', 'P', 'V', 'a', 'e', 'eight', 'f', 'four', 'hyphen', 'l', 'n', 'nonmarkingreturn', 'o', 'one', 'parenleft', 'parenright', 'period', 'q', 'r', 's', 'six', 'space', 'two', 'u', 'v', 'y', 'zero']\n"
     ]
    },
    {
     "name": "stderr",
     "output_type": "stream",
     "text": [
      "fontTools.subset - INFO     Glyph IDs:   [0, 1, 2, 3, 11, 12, 16, 17, 19, 20, 21, 23, 25, 27, 36, 40, 44, 51, 57, 68, 72, 73, 79, 81, 82, 84, 85, 86, 88, 89, 92]\n"
     ]
    },
    {
     "name": "stderr",
     "output_type": "stream",
     "text": [
      "fontTools.subset - INFO     Closed glyph list over 'MATH': 37 glyphs after\n"
     ]
    },
    {
     "name": "stderr",
     "output_type": "stream",
     "text": [
      "fontTools.subset - INFO     Glyph names: ['.notdef', '.null', 'A', 'E', 'I', 'P', 'V', 'a', 'e', 'eight', 'f', 'four', 'hyphen', 'l', 'n', 'nonmarkingreturn', 'o', 'one', 'parenleft', 'parenright', 'period', 'q', 'r', 's', 'six', 'space', 'two', 'u', 'uni239B', 'uni239C', 'uni239D', 'uni239E', 'uni239F', 'uni23A0', 'v', 'y', 'zero']\n"
     ]
    },
    {
     "name": "stderr",
     "output_type": "stream",
     "text": [
      "fontTools.subset - INFO     Glyph IDs:   [0, 1, 2, 3, 11, 12, 16, 17, 19, 20, 21, 23, 25, 27, 36, 40, 44, 51, 57, 68, 72, 73, 79, 81, 82, 84, 85, 86, 88, 89, 92, 3506, 3507, 3508, 3509, 3510, 3511]\n"
     ]
    },
    {
     "name": "stderr",
     "output_type": "stream",
     "text": [
      "fontTools.subset - INFO     Closing glyph list over 'GSUB': 37 glyphs before\n"
     ]
    },
    {
     "name": "stderr",
     "output_type": "stream",
     "text": [
      "fontTools.subset - INFO     Glyph names: ['.notdef', '.null', 'A', 'E', 'I', 'P', 'V', 'a', 'e', 'eight', 'f', 'four', 'hyphen', 'l', 'n', 'nonmarkingreturn', 'o', 'one', 'parenleft', 'parenright', 'period', 'q', 'r', 's', 'six', 'space', 'two', 'u', 'uni239B', 'uni239C', 'uni239D', 'uni239E', 'uni239F', 'uni23A0', 'v', 'y', 'zero']\n"
     ]
    },
    {
     "name": "stderr",
     "output_type": "stream",
     "text": [
      "fontTools.subset - INFO     Glyph IDs:   [0, 1, 2, 3, 11, 12, 16, 17, 19, 20, 21, 23, 25, 27, 36, 40, 44, 51, 57, 68, 72, 73, 79, 81, 82, 84, 85, 86, 88, 89, 92, 3506, 3507, 3508, 3509, 3510, 3511]\n"
     ]
    },
    {
     "name": "stderr",
     "output_type": "stream",
     "text": [
      "fontTools.subset - INFO     Closed glyph list over 'GSUB': 40 glyphs after\n"
     ]
    },
    {
     "name": "stderr",
     "output_type": "stream",
     "text": [
      "fontTools.subset - INFO     Glyph names: ['.notdef', '.null', 'A', 'E', 'I', 'P', 'V', 'a', 'e', 'eight', 'f', 'fl', 'four', 'hyphen', 'l', 'n', 'nonmarkingreturn', 'o', 'one', 'parenleft', 'parenright', 'period', 'q', 'r', 's', 'six', 'space', 'two', 'u', 'uni239B', 'uni239C', 'uni239D', 'uni239E', 'uni239F', 'uni23A0', 'uniFB00', 'uniFB04', 'v', 'y', 'zero']\n"
     ]
    },
    {
     "name": "stderr",
     "output_type": "stream",
     "text": [
      "fontTools.subset - INFO     Glyph IDs:   [0, 1, 2, 3, 11, 12, 16, 17, 19, 20, 21, 23, 25, 27, 36, 40, 44, 51, 57, 68, 72, 73, 79, 81, 82, 84, 85, 86, 88, 89, 92, 3506, 3507, 3508, 3509, 3510, 3511, 5038, 5040, 5042]\n"
     ]
    },
    {
     "name": "stderr",
     "output_type": "stream",
     "text": [
      "fontTools.subset - INFO     Closing glyph list over 'glyf': 40 glyphs before\n"
     ]
    },
    {
     "name": "stderr",
     "output_type": "stream",
     "text": [
      "fontTools.subset - INFO     Glyph names: ['.notdef', '.null', 'A', 'E', 'I', 'P', 'V', 'a', 'e', 'eight', 'f', 'fl', 'four', 'hyphen', 'l', 'n', 'nonmarkingreturn', 'o', 'one', 'parenleft', 'parenright', 'period', 'q', 'r', 's', 'six', 'space', 'two', 'u', 'uni239B', 'uni239C', 'uni239D', 'uni239E', 'uni239F', 'uni23A0', 'uniFB00', 'uniFB04', 'v', 'y', 'zero']\n"
     ]
    },
    {
     "name": "stderr",
     "output_type": "stream",
     "text": [
      "fontTools.subset - INFO     Glyph IDs:   [0, 1, 2, 3, 11, 12, 16, 17, 19, 20, 21, 23, 25, 27, 36, 40, 44, 51, 57, 68, 72, 73, 79, 81, 82, 84, 85, 86, 88, 89, 92, 3506, 3507, 3508, 3509, 3510, 3511, 5038, 5040, 5042]\n"
     ]
    },
    {
     "name": "stderr",
     "output_type": "stream",
     "text": [
      "fontTools.subset - INFO     Closed glyph list over 'glyf': 40 glyphs after\n"
     ]
    },
    {
     "name": "stderr",
     "output_type": "stream",
     "text": [
      "fontTools.subset - INFO     Glyph names: ['.notdef', '.null', 'A', 'E', 'I', 'P', 'V', 'a', 'e', 'eight', 'f', 'fl', 'four', 'hyphen', 'l', 'n', 'nonmarkingreturn', 'o', 'one', 'parenleft', 'parenright', 'period', 'q', 'r', 's', 'six', 'space', 'two', 'u', 'uni239B', 'uni239C', 'uni239D', 'uni239E', 'uni239F', 'uni23A0', 'uniFB00', 'uniFB04', 'v', 'y', 'zero']\n"
     ]
    },
    {
     "name": "stderr",
     "output_type": "stream",
     "text": [
      "fontTools.subset - INFO     Glyph IDs:   [0, 1, 2, 3, 11, 12, 16, 17, 19, 20, 21, 23, 25, 27, 36, 40, 44, 51, 57, 68, 72, 73, 79, 81, 82, 84, 85, 86, 88, 89, 92, 3506, 3507, 3508, 3509, 3510, 3511, 5038, 5040, 5042]\n"
     ]
    },
    {
     "name": "stderr",
     "output_type": "stream",
     "text": [
      "fontTools.subset - INFO     Retaining 40 glyphs\n"
     ]
    },
    {
     "name": "stderr",
     "output_type": "stream",
     "text": [
      "fontTools.subset - INFO     head subsetting not needed\n"
     ]
    },
    {
     "name": "stderr",
     "output_type": "stream",
     "text": [
      "fontTools.subset - INFO     hhea subsetting not needed\n"
     ]
    },
    {
     "name": "stderr",
     "output_type": "stream",
     "text": [
      "fontTools.subset - INFO     maxp subsetting not needed\n"
     ]
    },
    {
     "name": "stderr",
     "output_type": "stream",
     "text": [
      "fontTools.subset - INFO     OS/2 subsetting not needed\n"
     ]
    },
    {
     "name": "stderr",
     "output_type": "stream",
     "text": [
      "fontTools.subset - INFO     hmtx subsetted\n"
     ]
    },
    {
     "name": "stderr",
     "output_type": "stream",
     "text": [
      "fontTools.subset - INFO     cmap subsetted\n"
     ]
    },
    {
     "name": "stderr",
     "output_type": "stream",
     "text": [
      "fontTools.subset - INFO     fpgm subsetting not needed\n"
     ]
    },
    {
     "name": "stderr",
     "output_type": "stream",
     "text": [
      "fontTools.subset - INFO     prep subsetting not needed\n"
     ]
    },
    {
     "name": "stderr",
     "output_type": "stream",
     "text": [
      "fontTools.subset - INFO     cvt  subsetting not needed\n"
     ]
    },
    {
     "name": "stderr",
     "output_type": "stream",
     "text": [
      "fontTools.subset - INFO     loca subsetting not needed\n"
     ]
    },
    {
     "name": "stderr",
     "output_type": "stream",
     "text": [
      "fontTools.subset - INFO     post subsetted\n"
     ]
    },
    {
     "name": "stderr",
     "output_type": "stream",
     "text": [
      "fontTools.subset - INFO     gasp subsetting not needed\n"
     ]
    },
    {
     "name": "stderr",
     "output_type": "stream",
     "text": [
      "fontTools.subset - INFO     MATH subsetted\n"
     ]
    },
    {
     "name": "stderr",
     "output_type": "stream",
     "text": [
      "fontTools.subset - INFO     GDEF subsetted\n"
     ]
    },
    {
     "name": "stderr",
     "output_type": "stream",
     "text": [
      "fontTools.subset - INFO     GPOS subsetted\n"
     ]
    },
    {
     "name": "stderr",
     "output_type": "stream",
     "text": [
      "fontTools.subset - INFO     GSUB subsetted\n"
     ]
    },
    {
     "name": "stderr",
     "output_type": "stream",
     "text": [
      "fontTools.subset - INFO     name subsetting not needed\n"
     ]
    },
    {
     "name": "stderr",
     "output_type": "stream",
     "text": [
      "fontTools.subset - INFO     glyf subsetted\n"
     ]
    },
    {
     "name": "stderr",
     "output_type": "stream",
     "text": [
      "fontTools.subset - INFO     head pruned\n"
     ]
    },
    {
     "name": "stderr",
     "output_type": "stream",
     "text": [
      "fontTools.subset - INFO     OS/2 Unicode ranges pruned: [0]\n"
     ]
    },
    {
     "name": "stderr",
     "output_type": "stream",
     "text": [
      "fontTools.subset - INFO     OS/2 CodePage ranges pruned: [0]\n"
     ]
    },
    {
     "name": "stderr",
     "output_type": "stream",
     "text": [
      "fontTools.subset - INFO     glyf pruned\n"
     ]
    },
    {
     "name": "stderr",
     "output_type": "stream",
     "text": [
      "fontTools.subset - INFO     GDEF pruned\n"
     ]
    },
    {
     "name": "stderr",
     "output_type": "stream",
     "text": [
      "fontTools.subset - INFO     GPOS pruned\n"
     ]
    },
    {
     "name": "stderr",
     "output_type": "stream",
     "text": [
      "fontTools.subset - INFO     GSUB pruned\n"
     ]
    },
    {
     "name": "stderr",
     "output_type": "stream",
     "text": [
      "fontTools.subset - INFO     name pruned\n"
     ]
    },
    {
     "name": "stderr",
     "output_type": "stream",
     "text": [
      "vaep.plotting - INFO     Saved Figures to runs/alzheimer_study/diff_analysis/AD/PI_vs_VAE/diff_analysis_comparision_1_VAE\n"
     ]
    },
    {
     "data": {
      "image/png": "[encoded data removed]",
      "text/plain": [
       "<Figure size 294x294 with 1 Axes>"
      ]
     },
     "metadata": {},
     "output_type": "display_data"
    }
   ],
   "source": [
    "figsize = (2, 2)\n",
    "size = 5\n",
    "fig, ax = plt.subplots(figsize=figsize)\n",
    "x_col = to_plot.columns[0]\n",
    "y_col = to_plot.columns[1]\n",
    "ax = sns.scatterplot(data=to_plot,\n",
    "                     x=x_col,\n",
    "                     y=y_col,\n",
    "                     s=size,\n",
    "                     hue='Differential Analysis Comparison',\n",
    "                     ax=ax)\n",
    "_ = ax.legend(fontsize=fontsize,\n",
    "              title_fontsize=fontsize,\n",
    "              markerscale=0.4,\n",
    "              title='',\n",
    "              )\n",
    "ax.set_xlabel(f\"qvalue for {x_col}\")\n",
    "ax.set_ylabel(f\"qvalue for {y_col}\")\n",
    "ax.hlines(0.05, 0, 1, color='grey', linestyles='dotted')\n",
    "ax.vlines(0.05, 0, 1, color='grey', linestyles='dotted')\n",
    "sns.move_legend(ax, \"upper right\")\n",
    "files_out[f'diff_analysis_comparision_1_{args.model_key}'] = (\n",
    "    args.out_folder /\n",
    "    f'diff_analysis_comparision_1_{args.model_key}')\n",
    "fname = files_out[f'diff_analysis_comparision_1_{args.model_key}']\n",
    "vaep.savefig(fig, name=fname)"
   ]
  },
  {
   "cell_type": "markdown",
   "id": "d8849c76-c5f6-4618-87c0-f2635dc9ac66",
   "metadata": {
    "papermill": {
     "duration": 0.023951,
     "end_time": "2024-05-27T15:49:57.357803",
     "exception": false,
     "start_time": "2024-05-27T15:49:57.333852",
     "status": "completed"
    },
    "tags": []
   },
   "source": [
    "- showing how many features were measured (\"observed\")"
   ]
  },
  {
   "cell_type": "code",
   "execution_count": 27,
   "id": "1cf258f8-9dcb-40bb-af66-b600f8d413f6",
   "metadata": {
    "execution": {
     "iopub.execute_input": "2024-05-27T15:49:57.407302Z",
     "iopub.status.busy": "2024-05-27T15:49:57.406944Z",
     "iopub.status.idle": "2024-05-27T15:49:59.697640Z",
     "shell.execute_reply": "2024-05-27T15:49:59.696812Z"
    },
    "papermill": {
     "duration": 2.317701,
     "end_time": "2024-05-27T15:49:59.699706",
     "exception": false,
     "start_time": "2024-05-27T15:49:57.382005",
     "status": "completed"
    },
    "tags": []
   },
   "outputs": [
    {
     "name": "stderr",
     "output_type": "stream",
     "text": [
      "fontTools.subset - INFO     maxp pruned\n"
     ]
    },
    {
     "name": "stderr",
     "output_type": "stream",
     "text": [
      "fontTools.subset - INFO     cmap pruned\n"
     ]
    },
    {
     "name": "stderr",
     "output_type": "stream",
     "text": [
      "fontTools.subset - INFO     kern dropped\n"
     ]
    },
    {
     "name": "stderr",
     "output_type": "stream",
     "text": [
      "fontTools.subset - INFO     post pruned\n"
     ]
    },
    {
     "name": "stderr",
     "output_type": "stream",
     "text": [
      "fontTools.subset - INFO     FFTM dropped\n"
     ]
    },
    {
     "name": "stderr",
     "output_type": "stream",
     "text": [
      "fontTools.subset - INFO     GPOS pruned\n"
     ]
    },
    {
     "name": "stderr",
     "output_type": "stream",
     "text": [
      "fontTools.subset - INFO     GSUB pruned\n"
     ]
    },
    {
     "name": "stderr",
     "output_type": "stream",
     "text": [
      "fontTools.subset - INFO     glyf pruned\n"
     ]
    },
    {
     "name": "stderr",
     "output_type": "stream",
     "text": [
      "fontTools.subset - INFO     Added gid0 to subset\n"
     ]
    },
    {
     "name": "stderr",
     "output_type": "stream",
     "text": [
      "fontTools.subset - INFO     Added first four glyphs to subset\n"
     ]
    },
    {
     "name": "stderr",
     "output_type": "stream",
     "text": [
      "fontTools.subset - INFO     Closing glyph list over 'MATH': 40 glyphs before\n"
     ]
    },
    {
     "name": "stderr",
     "output_type": "stream",
     "text": [
      "fontTools.subset - INFO     Glyph names: ['.notdef', '.null', 'A', 'C', 'D', 'E', 'I', 'P', 'V', 'a', 'c', 'e', 'eight', 'f', 'five', 'four', 'hyphen', 'i', 'l', 'm', 'n', 'nonmarkingreturn', 'o', 'one', 'p', 'parenleft', 'parenright', 'period', 'q', 'r', 's', 'seven', 'six', 'space', 't', 'two', 'u', 'v', 'y', 'zero']\n"
     ]
    },
    {
     "name": "stderr",
     "output_type": "stream",
     "text": [
      "fontTools.subset - INFO     Glyph IDs:   [0, 1, 2, 3, 11, 12, 16, 17, 19, 20, 21, 23, 24, 25, 26, 27, 36, 38, 39, 40, 44, 51, 57, 68, 70, 72, 73, 76, 79, 80, 81, 82, 83, 84, 85, 86, 87, 88, 89, 92]\n"
     ]
    },
    {
     "name": "stderr",
     "output_type": "stream",
     "text": [
      "fontTools.subset - INFO     Closed glyph list over 'MATH': 46 glyphs after\n"
     ]
    },
    {
     "name": "stderr",
     "output_type": "stream",
     "text": [
      "fontTools.subset - INFO     Glyph names: ['.notdef', '.null', 'A', 'C', 'D', 'E', 'I', 'P', 'V', 'a', 'c', 'e', 'eight', 'f', 'five', 'four', 'hyphen', 'i', 'l', 'm', 'n', 'nonmarkingreturn', 'o', 'one', 'p', 'parenleft', 'parenright', 'period', 'q', 'r', 's', 'seven', 'six', 'space', 't', 'two', 'u', 'uni239B', 'uni239C', 'uni239D', 'uni239E', 'uni239F', 'uni23A0', 'v', 'y', 'zero']\n"
     ]
    },
    {
     "name": "stderr",
     "output_type": "stream",
     "text": [
      "fontTools.subset - INFO     Glyph IDs:   [0, 1, 2, 3, 11, 12, 16, 17, 19, 20, 21, 23, 24, 25, 26, 27, 36, 38, 39, 40, 44, 51, 57, 68, 70, 72, 73, 76, 79, 80, 81, 82, 83, 84, 85, 86, 87, 88, 89, 92, 3506, 3507, 3508, 3509, 3510, 3511]\n"
     ]
    },
    {
     "name": "stderr",
     "output_type": "stream",
     "text": [
      "fontTools.subset - INFO     Closing glyph list over 'GSUB': 46 glyphs before\n"
     ]
    },
    {
     "name": "stderr",
     "output_type": "stream",
     "text": [
      "fontTools.subset - INFO     Glyph names: ['.notdef', '.null', 'A', 'C', 'D', 'E', 'I', 'P', 'V', 'a', 'c', 'e', 'eight', 'f', 'five', 'four', 'hyphen', 'i', 'l', 'm', 'n', 'nonmarkingreturn', 'o', 'one', 'p', 'parenleft', 'parenright', 'period', 'q', 'r', 's', 'seven', 'six', 'space', 't', 'two', 'u', 'uni239B', 'uni239C', 'uni239D', 'uni239E', 'uni239F', 'uni23A0', 'v', 'y', 'zero']\n"
     ]
    },
    {
     "name": "stderr",
     "output_type": "stream",
     "text": [
      "fontTools.subset - INFO     Glyph IDs:   [0, 1, 2, 3, 11, 12, 16, 17, 19, 20, 21, 23, 24, 25, 26, 27, 36, 38, 39, 40, 44, 51, 57, 68, 70, 72, 73, 76, 79, 80, 81, 82, 83, 84, 85, 86, 87, 88, 89, 92, 3506, 3507, 3508, 3509, 3510, 3511]\n"
     ]
    },
    {
     "name": "stderr",
     "output_type": "stream",
     "text": [
      "fontTools.subset - INFO     Closed glyph list over 'GSUB': 51 glyphs after\n"
     ]
    },
    {
     "name": "stderr",
     "output_type": "stream",
     "text": [
      "fontTools.subset - INFO     Glyph names: ['.notdef', '.null', 'A', 'C', 'D', 'E', 'I', 'P', 'V', 'a', 'c', 'e', 'eight', 'f', 'fi', 'five', 'fl', 'four', 'hyphen', 'i', 'l', 'm', 'n', 'nonmarkingreturn', 'o', 'one', 'p', 'parenleft', 'parenright', 'period', 'q', 'r', 's', 'seven', 'six', 'space', 't', 'two', 'u', 'uni239B', 'uni239C', 'uni239D', 'uni239E', 'uni239F', 'uni23A0', 'uniFB00', 'uniFB03', 'uniFB04', 'v', 'y', 'zero']\n"
     ]
    },
    {
     "name": "stderr",
     "output_type": "stream",
     "text": [
      "fontTools.subset - INFO     Glyph IDs:   [0, 1, 2, 3, 11, 12, 16, 17, 19, 20, 21, 23, 24, 25, 26, 27, 36, 38, 39, 40, 44, 51, 57, 68, 70, 72, 73, 76, 79, 80, 81, 82, 83, 84, 85, 86, 87, 88, 89, 92, 3506, 3507, 3508, 3509, 3510, 3511, 5038, 5039, 5040, 5041, 5042]\n"
     ]
    },
    {
     "name": "stderr",
     "output_type": "stream",
     "text": [
      "fontTools.subset - INFO     Closing glyph list over 'glyf': 51 glyphs before\n"
     ]
    },
    {
     "name": "stderr",
     "output_type": "stream",
     "text": [
      "fontTools.subset - INFO     Glyph names: ['.notdef', '.null', 'A', 'C', 'D', 'E', 'I', 'P', 'V', 'a', 'c', 'e', 'eight', 'f', 'fi', 'five', 'fl', 'four', 'hyphen', 'i', 'l', 'm', 'n', 'nonmarkingreturn', 'o', 'one', 'p', 'parenleft', 'parenright', 'period', 'q', 'r', 's', 'seven', 'six', 'space', 't', 'two', 'u', 'uni239B', 'uni239C', 'uni239D', 'uni239E', 'uni239F', 'uni23A0', 'uniFB00', 'uniFB03', 'uniFB04', 'v', 'y', 'zero']\n"
     ]
    },
    {
     "name": "stderr",
     "output_type": "stream",
     "text": [
      "fontTools.subset - INFO     Glyph IDs:   [0, 1, 2, 3, 11, 12, 16, 17, 19, 20, 21, 23, 24, 25, 26, 27, 36, 38, 39, 40, 44, 51, 57, 68, 70, 72, 73, 76, 79, 80, 81, 82, 83, 84, 85, 86, 87, 88, 89, 92, 3506, 3507, 3508, 3509, 3510, 3511, 5038, 5039, 5040, 5041, 5042]\n"
     ]
    },
    {
     "name": "stderr",
     "output_type": "stream",
     "text": [
      "fontTools.subset - INFO     Closed glyph list over 'glyf': 51 glyphs after\n"
     ]
    },
    {
     "name": "stderr",
     "output_type": "stream",
     "text": [
      "fontTools.subset - INFO     Glyph names: ['.notdef', '.null', 'A', 'C', 'D', 'E', 'I', 'P', 'V', 'a', 'c', 'e', 'eight', 'f', 'fi', 'five', 'fl', 'four', 'hyphen', 'i', 'l', 'm', 'n', 'nonmarkingreturn', 'o', 'one', 'p', 'parenleft', 'parenright', 'period', 'q', 'r', 's', 'seven', 'six', 'space', 't', 'two', 'u', 'uni239B', 'uni239C', 'uni239D', 'uni239E', 'uni239F', 'uni23A0', 'uniFB00', 'uniFB03', 'uniFB04', 'v', 'y', 'zero']\n"
     ]
    },
    {
     "name": "stderr",
     "output_type": "stream",
     "text": [
      "fontTools.subset - INFO     Glyph IDs:   [0, 1, 2, 3, 11, 12, 16, 17, 19, 20, 21, 23, 24, 25, 26, 27, 36, 38, 39, 40, 44, 51, 57, 68, 70, 72, 73, 76, 79, 80, 81, 82, 83, 84, 85, 86, 87, 88, 89, 92, 3506, 3507, 3508, 3509, 3510, 3511, 5038, 5039, 5040, 5041, 5042]\n"
     ]
    },
    {
     "name": "stderr",
     "output_type": "stream",
     "text": [
      "fontTools.subset - INFO     Retaining 51 glyphs\n"
     ]
    },
    {
     "name": "stderr",
     "output_type": "stream",
     "text": [
      "fontTools.subset - INFO     head subsetting not needed\n"
     ]
    },
    {
     "name": "stderr",
     "output_type": "stream",
     "text": [
      "fontTools.subset - INFO     hhea subsetting not needed\n"
     ]
    },
    {
     "name": "stderr",
     "output_type": "stream",
     "text": [
      "fontTools.subset - INFO     maxp subsetting not needed\n"
     ]
    },
    {
     "name": "stderr",
     "output_type": "stream",
     "text": [
      "fontTools.subset - INFO     OS/2 subsetting not needed\n"
     ]
    },
    {
     "name": "stderr",
     "output_type": "stream",
     "text": [
      "fontTools.subset - INFO     hmtx subsetted\n"
     ]
    },
    {
     "name": "stderr",
     "output_type": "stream",
     "text": [
      "fontTools.subset - INFO     cmap subsetted\n"
     ]
    },
    {
     "name": "stderr",
     "output_type": "stream",
     "text": [
      "fontTools.subset - INFO     fpgm subsetting not needed\n"
     ]
    },
    {
     "name": "stderr",
     "output_type": "stream",
     "text": [
      "fontTools.subset - INFO     prep subsetting not needed\n"
     ]
    },
    {
     "name": "stderr",
     "output_type": "stream",
     "text": [
      "fontTools.subset - INFO     cvt  subsetting not needed\n"
     ]
    },
    {
     "name": "stderr",
     "output_type": "stream",
     "text": [
      "fontTools.subset - INFO     loca subsetting not needed\n"
     ]
    },
    {
     "name": "stderr",
     "output_type": "stream",
     "text": [
      "fontTools.subset - INFO     post subsetted\n"
     ]
    },
    {
     "name": "stderr",
     "output_type": "stream",
     "text": [
      "fontTools.subset - INFO     gasp subsetting not needed\n"
     ]
    },
    {
     "name": "stderr",
     "output_type": "stream",
     "text": [
      "fontTools.subset - INFO     MATH subsetted\n"
     ]
    },
    {
     "name": "stderr",
     "output_type": "stream",
     "text": [
      "fontTools.subset - INFO     GDEF subsetted\n"
     ]
    },
    {
     "name": "stderr",
     "output_type": "stream",
     "text": [
      "fontTools.subset - INFO     GPOS subsetted\n"
     ]
    },
    {
     "name": "stderr",
     "output_type": "stream",
     "text": [
      "fontTools.subset - INFO     GSUB subsetted\n"
     ]
    },
    {
     "name": "stderr",
     "output_type": "stream",
     "text": [
      "fontTools.subset - INFO     name subsetting not needed\n"
     ]
    },
    {
     "name": "stderr",
     "output_type": "stream",
     "text": [
      "fontTools.subset - INFO     glyf subsetted\n"
     ]
    },
    {
     "name": "stderr",
     "output_type": "stream",
     "text": [
      "fontTools.subset - INFO     head pruned\n"
     ]
    },
    {
     "name": "stderr",
     "output_type": "stream",
     "text": [
      "fontTools.subset - INFO     OS/2 Unicode ranges pruned: [0]\n"
     ]
    },
    {
     "name": "stderr",
     "output_type": "stream",
     "text": [
      "fontTools.subset - INFO     OS/2 CodePage ranges pruned: [0]\n"
     ]
    },
    {
     "name": "stderr",
     "output_type": "stream",
     "text": [
      "fontTools.subset - INFO     glyf pruned\n"
     ]
    },
    {
     "name": "stderr",
     "output_type": "stream",
     "text": [
      "fontTools.subset - INFO     GDEF pruned\n"
     ]
    },
    {
     "name": "stderr",
     "output_type": "stream",
     "text": [
      "fontTools.subset - INFO     GPOS pruned\n"
     ]
    },
    {
     "name": "stderr",
     "output_type": "stream",
     "text": [
      "fontTools.subset - INFO     GSUB pruned\n"
     ]
    },
    {
     "name": "stderr",
     "output_type": "stream",
     "text": [
      "fontTools.subset - INFO     name pruned\n"
     ]
    },
    {
     "name": "stderr",
     "output_type": "stream",
     "text": [
      "vaep.plotting - INFO     Saved Figures to runs/alzheimer_study/diff_analysis/AD/PI_vs_VAE/diff_analysis_comparision_2_VAE\n"
     ]
    },
    {
     "data": {
      "image/png": "[encoded data removed]",
      "text/plain": [
       "<Figure size 367.5x367.5 with 1 Axes>"
      ]
     },
     "metadata": {},
     "output_type": "display_data"
    }
   ],
   "source": [
    "figsize = (2.5, 2.5)\n",
    "fig, ax = plt.subplots(figsize=figsize)\n",
    "ax = sns.scatterplot(data=to_plot,\n",
    "                     x=to_plot.columns[0],\n",
    "                     y=to_plot.columns[1],\n",
    "                     size='frequency',\n",
    "                     s=size,\n",
    "                     sizes=(5, 20),\n",
    "                     hue='Differential Analysis Comparison')\n",
    "_ = ax.legend(fontsize=fontsize,\n",
    "              title_fontsize=fontsize,\n",
    "              markerscale=0.6,\n",
    "              title='',\n",
    "              )\n",
    "ax.set_xlabel(f\"qvalue for {x_col}\")\n",
    "ax.set_ylabel(f\"qvalue for {y_col}\")\n",
    "ax.hlines(0.05, 0, 1, color='grey', linestyles='dotted')\n",
    "ax.vlines(0.05, 0, 1, color='grey', linestyles='dotted')\n",
    "sns.move_legend(ax, \"upper right\")\n",
    "files_out[f'diff_analysis_comparision_2_{args.model_key}'] = (\n",
    "    args.out_folder / f'diff_analysis_comparision_2_{args.model_key}')\n",
    "vaep.savefig(\n",
    "    fig, name=files_out[f'diff_analysis_comparision_2_{args.model_key}'])"
   ]
  },
  {
   "cell_type": "markdown",
   "id": "1fee3a21-d8b3-40c6-aea2-4774dfe855ca",
   "metadata": {
    "papermill": {
     "duration": 0.082734,
     "end_time": "2024-05-27T15:49:59.847862",
     "exception": false,
     "start_time": "2024-05-27T15:49:59.765128",
     "status": "completed"
    },
    "tags": []
   },
   "source": [
    "## Only features contained in model\n",
    "- this block exist due to a specific part in the ALD analysis of the paper"
   ]
  },
  {
   "cell_type": "code",
   "execution_count": 28,
   "id": "c4e23a01-fd37-4496-a518-445a9ef38db1",
   "metadata": {
    "execution": {
     "iopub.execute_input": "2024-05-27T15:50:00.045817Z",
     "iopub.status.busy": "2024-05-27T15:50:00.045474Z",
     "iopub.status.idle": "2024-05-27T15:50:00.051881Z",
     "shell.execute_reply": "2024-05-27T15:50:00.051172Z"
    },
    "papermill": {
     "duration": 0.118797,
     "end_time": "2024-05-27T15:50:00.053642",
     "exception": false,
     "start_time": "2024-05-27T15:49:59.934845",
     "status": "completed"
    },
    "tags": []
   },
   "outputs": [],
   "source": [
    "scores_model_only = scores.reset_index(level=-1, drop=True)\n",
    "_diff = scores_model_only.index.difference(scores_common.index)\n",
    "if not _diff.empty:\n",
    "    scores_model_only = (scores_model_only\n",
    "                         .loc[\n",
    "                             _diff,\n",
    "                             args.model_key]\n",
    "                         .sort_values(by='qvalue', ascending=True)\n",
    "                         .join(freq_feat)\n",
    "                         )\n",
    "    display(scores_model_only)\n",
    "else:\n",
    "    scores_model_only = None"
   ]
  },
  {
   "cell_type": "code",
   "execution_count": 29,
   "id": "f668bef4-e2b9-46fb-828f-e7c6a0e23627",
   "metadata": {
    "execution": {
     "iopub.execute_input": "2024-05-27T15:50:00.270611Z",
     "iopub.status.busy": "2024-05-27T15:50:00.270245Z",
     "iopub.status.idle": "2024-05-27T15:50:00.309613Z",
     "shell.execute_reply": "2024-05-27T15:50:00.308815Z"
    },
    "papermill": {
     "duration": 0.162598,
     "end_time": "2024-05-27T15:50:00.311423",
     "exception": false,
     "start_time": "2024-05-27T15:50:00.148825",
     "status": "completed"
    },
    "tags": []
   },
   "outputs": [],
   "source": [
    "if not _diff.empty:\n",
    "    scores_model_only.to_excel(writer, 'only_model', **writer_args)\n",
    "    display(scores_model_only.rejected.value_counts())\n",
    "    scores_model_only_rejected = scores_model_only.loc[scores_model_only.rejected]\n",
    "    scores_model_only_rejected.to_excel(\n",
    "        writer, 'only_model_rejected', **writer_args)"
   ]
  },
  {
   "cell_type": "markdown",
   "id": "6868984c-1ebf-4183-bebe-35a48b92e479",
   "metadata": {
    "papermill": {
     "duration": 0.054634,
     "end_time": "2024-05-27T15:50:00.435484",
     "exception": false,
     "start_time": "2024-05-27T15:50:00.380850",
     "status": "completed"
    },
    "tags": []
   },
   "source": [
    "## DISEASES DB lookup"
   ]
  },
  {
   "cell_type": "code",
   "execution_count": 30,
   "id": "d93a9242-0ef4-4fc7-bd98-226a93639f58",
   "metadata": {
    "execution": {
     "iopub.execute_input": "2024-05-27T15:50:00.557211Z",
     "iopub.status.busy": "2024-05-27T15:50:00.556840Z",
     "iopub.status.idle": "2024-05-27T15:50:03.223549Z",
     "shell.execute_reply": "2024-05-27T15:50:03.222769Z"
    },
    "papermill": {
     "duration": 2.728765,
     "end_time": "2024-05-27T15:50:03.225579",
     "exception": false,
     "start_time": "2024-05-27T15:50:00.496814",
     "status": "completed"
    },
    "tags": []
   },
   "outputs": [
    {
     "name": "stderr",
     "output_type": "stream",
     "text": [
      "vaep.databases.diseases - WARNING  There are more associations available\n"
     ]
    },
    {
     "data": {
      "text/html": [
       "<div>\n",
       "<style scoped>\n",
       "    .dataframe tbody tr th:only-of-type {\n",
       "        vertical-align: middle;\n",
       "    }\n",
       "\n",
       "    .dataframe tbody tr th {\n",
       "        vertical-align: top;\n",
       "    }\n",
       "\n",
       "    .dataframe thead th {\n",
       "        text-align: right;\n",
       "    }\n",
       "</style>\n",
       "<table border=\"1\" class=\"dataframe\">\n",
       "  <thead>\n",
       "    <tr style=\"text-align: right;\">\n",
       "      <th></th>\n",
       "      <th>ENSP</th>\n",
       "      <th>score</th>\n",
       "    </tr>\n",
       "    <tr>\n",
       "      <th>None</th>\n",
       "      <th></th>\n",
       "      <th></th>\n",
       "    </tr>\n",
       "  </thead>\n",
       "  <tbody>\n",
       "    <tr>\n",
       "      <th>PSEN2</th>\n",
       "      <td>ENSP00000355747</td>\n",
       "      <td>5.000</td>\n",
       "    </tr>\n",
       "    <tr>\n",
       "      <th>PSEN1</th>\n",
       "      <td>ENSP00000326366</td>\n",
       "      <td>5.000</td>\n",
       "    </tr>\n",
       "    <tr>\n",
       "      <th>APOE</th>\n",
       "      <td>ENSP00000252486</td>\n",
       "      <td>5.000</td>\n",
       "    </tr>\n",
       "    <tr>\n",
       "      <th>APP</th>\n",
       "      <td>ENSP00000284981</td>\n",
       "      <td>5.000</td>\n",
       "    </tr>\n",
       "    <tr>\n",
       "      <th>MAPT</th>\n",
       "      <td>ENSP00000340820</td>\n",
       "      <td>4.800</td>\n",
       "    </tr>\n",
       "    <tr>\n",
       "      <th>...</th>\n",
       "      <td>...</td>\n",
       "      <td>...</td>\n",
       "    </tr>\n",
       "    <tr>\n",
       "      <th>ZBTB22</th>\n",
       "      <td>ENSP00000407545</td>\n",
       "      <td>0.683</td>\n",
       "    </tr>\n",
       "    <tr>\n",
       "      <th>HMGN2</th>\n",
       "      <td>ENSP00000355228</td>\n",
       "      <td>0.683</td>\n",
       "    </tr>\n",
       "    <tr>\n",
       "      <th>PPP1R13B</th>\n",
       "      <td>ENSP00000202556</td>\n",
       "      <td>0.683</td>\n",
       "    </tr>\n",
       "    <tr>\n",
       "      <th>PREB</th>\n",
       "      <td>ENSP00000260643</td>\n",
       "      <td>0.683</td>\n",
       "    </tr>\n",
       "    <tr>\n",
       "      <th>CELF5</th>\n",
       "      <td>ENSP00000292672</td>\n",
       "      <td>0.683</td>\n",
       "    </tr>\n",
       "  </tbody>\n",
       "</table>\n",
       "<p>10000 rows × 2 columns</p>\n",
       "</div>"
      ],
      "text/plain": [
       "                     ENSP  score\n",
       "None                            \n",
       "PSEN2     ENSP00000355747  5.000\n",
       "PSEN1     ENSP00000326366  5.000\n",
       "APOE      ENSP00000252486  5.000\n",
       "APP       ENSP00000284981  5.000\n",
       "MAPT      ENSP00000340820  4.800\n",
       "...                   ...    ...\n",
       "ZBTB22    ENSP00000407545  0.683\n",
       "HMGN2     ENSP00000355228  0.683\n",
       "PPP1R13B  ENSP00000202556  0.683\n",
       "PREB      ENSP00000260643  0.683\n",
       "CELF5     ENSP00000292672  0.683\n",
       "\n",
       "[10000 rows x 2 columns]"
      ]
     },
     "execution_count": 30,
     "metadata": {},
     "output_type": "execute_result"
    }
   ],
   "source": [
    "data = vaep.databases.diseases.get_disease_association(\n",
    "    doid=args.disease_ontology, limit=10000)\n",
    "data = pd.DataFrame.from_dict(data, orient='index').rename_axis('ENSP', axis=0)\n",
    "data = data.rename(columns={'name': args.annotaitons_gene_col}).reset_index(\n",
    ").set_index(args.annotaitons_gene_col)\n",
    "data"
   ]
  },
  {
   "cell_type": "markdown",
   "id": "efe22443-2613-46ad-83c2-41048e13dd57",
   "metadata": {
    "papermill": {
     "duration": 0.030598,
     "end_time": "2024-05-27T15:50:03.287705",
     "exception": false,
     "start_time": "2024-05-27T15:50:03.257107",
     "status": "completed"
    },
    "tags": []
   },
   "source": [
    "## Shared features\n",
    "ToDo: new script -> DISEASES DB lookup"
   ]
  },
  {
   "cell_type": "code",
   "execution_count": null,
   "id": "5c26415e",
   "metadata": {
    "papermill": {
     "duration": 0.030213,
     "end_time": "2024-05-27T15:50:03.348448",
     "exception": false,
     "start_time": "2024-05-27T15:50:03.318235",
     "status": "completed"
    },
    "tags": []
   },
   "outputs": [],
   "source": []
  },
  {
   "cell_type": "code",
   "execution_count": 31,
   "id": "b68b43df",
   "metadata": {
    "execution": {
     "iopub.execute_input": "2024-05-27T15:50:03.411833Z",
     "iopub.status.busy": "2024-05-27T15:50:03.411395Z",
     "iopub.status.idle": "2024-05-27T15:50:03.418480Z",
     "shell.execute_reply": "2024-05-27T15:50:03.417528Z"
    },
    "papermill": {
     "duration": 0.041578,
     "end_time": "2024-05-27T15:50:03.420196",
     "exception": true,
     "start_time": "2024-05-27T15:50:03.378618",
     "status": "failed"
    },
    "tags": []
   },
   "outputs": [
    {
     "name": "stderr",
     "output_type": "stream",
     "text": [
      "root - INFO     No gene annotation in scores index:  ['protein groups', 'Source'] Exiting.\n"
     ]
    },
    {
     "ename": "SystemExit",
     "evalue": "0",
     "output_type": "error",
     "traceback": [
      "An exception has occurred, use %tb to see the full traceback.\n",
      "\u001b[0;31mSystemExit\u001b[0m\u001b[0;31m:\u001b[0m 0\n"
     ]
    }
   ],
   "source": [
    "feat_name = scores.index.names[0]  # first index level is feature name\n",
    "if args.annotaitons_gene_col in scores.index.names:\n",
    "    logger.info(f\"Found gene annotation in scores index:  {scores.index.names}\")\n",
    "else:\n",
    "    logger.info(f\"No gene annotation in scores index:  {scores.index.names}\"\n",
    "                \" Exiting.\")\n",
    "    import sys\n",
    "    sys.exit(0)"
   ]
  },
  {
   "cell_type": "code",
   "execution_count": null,
   "id": "f8d4a74d-5a9b-4d9b-9345-4288bb23e19f",
   "metadata": {
    "papermill": {
     "duration": null,
     "end_time": null,
     "exception": null,
     "start_time": null,
     "status": "pending"
    },
    "tags": []
   },
   "outputs": [],
   "source": [
    "gene_to_PG = (scores.droplevel(\n",
    "    list(set(scores.index.names) - {feat_name, args.annotaitons_gene_col})\n",
    ")\n",
    "    .index\n",
    "    .to_frame()\n",
    "    .reset_index(drop=True)\n",
    "    .set_index(args.annotaitons_gene_col)\n",
    ")\n",
    "gene_to_PG.head()"
   ]
  },
  {
   "cell_type": "code",
   "execution_count": null,
   "id": "d9e76def-b48a-458d-a90b-765e6e70f7a4",
   "metadata": {
    "papermill": {
     "duration": null,
     "end_time": null,
     "exception": null,
     "start_time": null,
     "status": "pending"
    },
    "tags": []
   },
   "outputs": [],
   "source": [
    "disease_associations_all = data.join(\n",
    "    gene_to_PG).dropna().reset_index().set_index(feat_name).join(annotations)\n",
    "disease_associations_all"
   ]
  },
  {
   "cell_type": "markdown",
   "id": "217972a3-ba4a-4f28-ab8f-25dc0f5e9ede",
   "metadata": {
    "papermill": {
     "duration": null,
     "end_time": null,
     "exception": null,
     "start_time": null,
     "status": "pending"
    },
    "tags": []
   },
   "source": [
    "## only by model"
   ]
  },
  {
   "cell_type": "code",
   "execution_count": null,
   "id": "8e9d6944-87ba-4c41-af14-fb5ed93262f0",
   "metadata": {
    "papermill": {
     "duration": null,
     "end_time": null,
     "exception": null,
     "start_time": null,
     "status": "pending"
    },
    "tags": []
   },
   "outputs": [],
   "source": [
    "idx = disease_associations_all.index.intersection(scores_model_only.index)\n",
    "disease_assocications_new = disease_associations_all.loc[idx].sort_values(\n",
    "    'score', ascending=False)\n",
    "disease_assocications_new.head(20)"
   ]
  },
  {
   "cell_type": "code",
   "execution_count": null,
   "id": "ceefc483-b889-4bab-b207-c8d5fd97fa4a",
   "metadata": {
    "papermill": {
     "duration": null,
     "end_time": null,
     "exception": null,
     "start_time": null,
     "status": "pending"
    },
    "tags": []
   },
   "outputs": [],
   "source": [
    "mask = disease_assocications_new.loc[idx, 'score'] >= 2.0\n",
    "disease_assocications_new.loc[idx].loc[mask]"
   ]
  },
  {
   "cell_type": "markdown",
   "id": "f85eede2-7b61-4285-ba8c-745f77f6ab22",
   "metadata": {
    "papermill": {
     "duration": null,
     "end_time": null,
     "exception": null,
     "start_time": null,
     "status": "pending"
    },
    "tags": []
   },
   "source": [
    "## Only by model which were significant"
   ]
  },
  {
   "cell_type": "code",
   "execution_count": null,
   "id": "4644759b-8cc2-4f99-a16c-16419cfb915c",
   "metadata": {
    "papermill": {
     "duration": null,
     "end_time": null,
     "exception": null,
     "start_time": null,
     "status": "pending"
    },
    "tags": []
   },
   "outputs": [],
   "source": [
    "idx = disease_associations_all.index.intersection(\n",
    "    scores_model_only_rejected.index)\n",
    "disease_assocications_new_rejected = disease_associations_all.loc[idx].sort_values(\n",
    "    'score', ascending=False)\n",
    "disease_assocications_new_rejected.head(20)"
   ]
  },
  {
   "cell_type": "code",
   "execution_count": null,
   "id": "365d8641-97a8-464f-b69b-270af9ae6e2d",
   "metadata": {
    "papermill": {
     "duration": null,
     "end_time": null,
     "exception": null,
     "start_time": null,
     "status": "pending"
    },
    "tags": []
   },
   "outputs": [],
   "source": [
    "mask = disease_assocications_new_rejected.loc[idx, 'score'] >= 2.0\n",
    "disease_assocications_new_rejected.loc[idx].loc[mask]"
   ]
  },
  {
   "cell_type": "markdown",
   "id": "4f22614b-e058-4e35-b8a9-141c291a93bc",
   "metadata": {
    "papermill": {
     "duration": null,
     "end_time": null,
     "exception": null,
     "start_time": null,
     "status": "pending"
    },
    "tags": []
   },
   "source": [
    "## Shared which are only significant for by model"
   ]
  },
  {
   "cell_type": "code",
   "execution_count": null,
   "id": "82eb2ba8-4fe7-431d-8095-5be43f7791b7",
   "metadata": {
    "papermill": {
     "duration": null,
     "end_time": null,
     "exception": null,
     "start_time": null,
     "status": "pending"
    },
    "tags": []
   },
   "outputs": [],
   "source": [
    "mask = (scores_common[(str(args.model_key), 'rejected')] & mask_different)\n",
    "mask.sum()"
   ]
  },
  {
   "cell_type": "code",
   "execution_count": null,
   "id": "6416d494-5f3e-4cf4-b766-b1f95e40ae1c",
   "metadata": {
    "papermill": {
     "duration": null,
     "end_time": null,
     "exception": null,
     "start_time": null,
     "status": "pending"
    },
    "tags": []
   },
   "outputs": [],
   "source": [
    "idx = disease_associations_all.index.intersection(mask.index[mask])\n",
    "disease_assocications_shared_rejected_by_model = (disease_associations_all.loc[idx].sort_values(\n",
    "    'score', ascending=False))\n",
    "disease_assocications_shared_rejected_by_model.head(20)"
   ]
  },
  {
   "cell_type": "code",
   "execution_count": null,
   "id": "10899e28-4aee-4d44-a542-e45be6699a1b",
   "metadata": {
    "papermill": {
     "duration": null,
     "end_time": null,
     "exception": null,
     "start_time": null,
     "status": "pending"
    },
    "tags": []
   },
   "outputs": [],
   "source": [
    "mask = disease_assocications_shared_rejected_by_model.loc[idx, 'score'] >= 2.0\n",
    "disease_assocications_shared_rejected_by_model.loc[idx].loc[mask]"
   ]
  },
  {
   "cell_type": "markdown",
   "id": "b6c082ea-7d92-4296-8ec9-d279509142a3",
   "metadata": {
    "papermill": {
     "duration": null,
     "end_time": null,
     "exception": null,
     "start_time": null,
     "status": "pending"
    },
    "tags": []
   },
   "source": [
    "## Only significant by RSN"
   ]
  },
  {
   "cell_type": "code",
   "execution_count": null,
   "id": "c59aae50-6877-47cc-99f6-646862d29121",
   "metadata": {
    "papermill": {
     "duration": null,
     "end_time": null,
     "exception": null,
     "start_time": null,
     "status": "pending"
    },
    "tags": []
   },
   "outputs": [],
   "source": [
    "mask = (scores_common[(str(args.baseline), 'rejected')] & mask_different)\n",
    "mask.sum()"
   ]
  },
  {
   "cell_type": "code",
   "execution_count": null,
   "id": "7780de55-c63b-4028-a6d0-58bce7be81da",
   "metadata": {
    "papermill": {
     "duration": null,
     "end_time": null,
     "exception": null,
     "start_time": null,
     "status": "pending"
    },
    "tags": []
   },
   "outputs": [],
   "source": [
    "idx = disease_associations_all.index.intersection(mask.index[mask])\n",
    "disease_assocications_shared_rejected_by_RSN = (\n",
    "    disease_associations_all\n",
    "    .loc[idx]\n",
    "    .sort_values('score', ascending=False))\n",
    "disease_assocications_shared_rejected_by_RSN.head(20)"
   ]
  },
  {
   "cell_type": "code",
   "execution_count": null,
   "id": "03115c8f-1f20-4b51-a78c-4d7c0317dc33",
   "metadata": {
    "papermill": {
     "duration": null,
     "end_time": null,
     "exception": null,
     "start_time": null,
     "status": "pending"
    },
    "tags": []
   },
   "outputs": [],
   "source": [
    "mask = disease_assocications_shared_rejected_by_RSN.loc[idx, 'score'] >= 2.0\n",
    "disease_assocications_shared_rejected_by_RSN.loc[idx].loc[mask]"
   ]
  },
  {
   "cell_type": "markdown",
   "id": "9d72708d-ad27-435b-b672-7dfe35283601",
   "metadata": {
    "papermill": {
     "duration": null,
     "end_time": null,
     "exception": null,
     "start_time": null,
     "status": "pending"
    },
    "tags": []
   },
   "source": [
    "## Write to excel"
   ]
  },
  {
   "cell_type": "code",
   "execution_count": null,
   "id": "91e7fbb7-69fd-4b4c-9bc2-40e8dd1907b3",
   "metadata": {
    "papermill": {
     "duration": null,
     "end_time": null,
     "exception": null,
     "start_time": null,
     "status": "pending"
    },
    "tags": []
   },
   "outputs": [],
   "source": [
    "disease_associations_all.to_excel(\n",
    "    writer, sheet_name='disease_assoc_all', **writer_args)\n",
    "disease_assocications_new.to_excel(\n",
    "    writer, sheet_name='disease_assoc_new', **writer_args)\n",
    "disease_assocications_new_rejected.to_excel(\n",
    "    writer, sheet_name='disease_assoc_new_rejected', **writer_args)"
   ]
  },
  {
   "cell_type": "markdown",
   "id": "52a42028-7e2d-47d5-be02-52f7ff1f3665",
   "metadata": {
    "papermill": {
     "duration": null,
     "end_time": null,
     "exception": null,
     "start_time": null,
     "status": "pending"
    },
    "tags": []
   },
   "source": [
    "## Outputs"
   ]
  },
  {
   "cell_type": "code",
   "execution_count": null,
   "id": "7f3a7433-3bf1-4168-8f16-eb6d415ef17f",
   "metadata": {
    "papermill": {
     "duration": null,
     "end_time": null,
     "exception": null,
     "start_time": null,
     "status": "pending"
    },
    "tags": []
   },
   "outputs": [],
   "source": [
    "writer.close()"
   ]
  },
  {
   "cell_type": "code",
   "execution_count": null,
   "id": "e59ff592-a399-4490-bf3f-7618abf73feb",
   "metadata": {
    "papermill": {
     "duration": null,
     "end_time": null,
     "exception": null,
     "start_time": null,
     "status": "pending"
    },
    "tags": []
   },
   "outputs": [],
   "source": [
    "files_out"
   ]
  }
 ],
 "metadata": {
  "kernelspec": {
   "display_name": "Python 3",
   "language": "python",
   "name": "python3"
  },
  "language_info": {
   "codemirror_mode": {
    "name": "ipython",
    "version": 3
   },
   "file_extension": ".py",
   "mimetype": "text/x-python",
   "name": "python",
   "nbconvert_exporter": "python",
   "pygments_lexer": "ipython3",
   "version": "3.8.19"
  },
  "papermill": {
   "default_parameters": {},
   "duration": 17.607993,
   "end_time": "2024-05-27T15:50:04.327638",
   "environment_variables": {},
   "exception": true,
   "input_path": "10_2_ald_compare_methods.ipynb",
   "output_path": "runs/alzheimer_study/diff_analysis/AD/PI_vs_VAE/10_2_ald_compare_methods.ipynb",
   "parameters": {
    "annotaitons_gene_col": "None",
    "baseline": "PI",
    "disease_ontology": 10652,
    "folder_experiment": "runs/alzheimer_study",
    "model_key": "VAE",
    "out_folder": "diff_analysis",
    "target": "AD"
   },
   "start_time": "2024-05-27T15:49:46.719645",
   "version": "2.6.0"
  }
 },
 "nbformat": 4,
 "nbformat_minor": 5
}