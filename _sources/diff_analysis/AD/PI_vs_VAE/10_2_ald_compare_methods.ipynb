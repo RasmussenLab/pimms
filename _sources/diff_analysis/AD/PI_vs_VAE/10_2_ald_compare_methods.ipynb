{
 "cells": [
  {
   "cell_type": "markdown",
   "id": "9acfeaca-5f8c-42f3-9a8e-83ed737eb35c",
   "metadata": {
    "papermill": {
     "duration": 0.014822,
     "end_time": "2024-06-26T02:54:33.662878",
     "exception": false,
     "start_time": "2024-06-26T02:54:33.648056",
     "status": "completed"
    },
    "tags": []
   },
   "source": [
    "# Compare outcomes from differential analysis based on different imputation methods\n",
    "\n",
    "- load scores based on `10_1_ald_diff_analysis`"
   ]
  },
  {
   "cell_type": "code",
   "execution_count": 1,
   "id": "eec6f931-c04d-428c-b2b1-0424c50e6cd2",
   "metadata": {
    "execution": {
     "iopub.execute_input": "2024-06-26T02:54:33.688988Z",
     "iopub.status.busy": "2024-06-26T02:54:33.688133Z",
     "iopub.status.idle": "2024-06-26T02:54:36.353336Z",
     "shell.execute_reply": "2024-06-26T02:54:36.352450Z"
    },
    "papermill": {
     "duration": 2.68064,
     "end_time": "2024-06-26T02:54:36.355616",
     "exception": false,
     "start_time": "2024-06-26T02:54:33.674976",
     "status": "completed"
    },
    "tags": [
     "hide-input"
    ]
   },
   "outputs": [],
   "source": [
    "import logging\n",
    "from pathlib import Path\n",
    "\n",
    "import matplotlib.pyplot as plt\n",
    "import pandas as pd\n",
    "import seaborn as sns\n",
    "from IPython.display import display\n",
    "\n",
    "import vaep\n",
    "import vaep.databases.diseases\n",
    "\n",
    "logger = vaep.logging.setup_nb_logger()\n",
    "\n",
    "plt.rcParams['figure.figsize'] = (2, 2)\n",
    "fontsize = 5\n",
    "vaep.plotting.make_large_descriptors(fontsize)\n",
    "logging.getLogger('fontTools').setLevel(logging.ERROR)\n",
    "\n",
    "# catch passed parameters\n",
    "args = None\n",
    "args = dict(globals()).keys()"
   ]
  },
  {
   "cell_type": "markdown",
   "id": "85f5f5d5",
   "metadata": {
    "papermill": {
     "duration": 0.035859,
     "end_time": "2024-06-26T02:54:36.428305",
     "exception": false,
     "start_time": "2024-06-26T02:54:36.392446",
     "status": "completed"
    },
    "tags": []
   },
   "source": [
    "## Parameters\n",
    "Default and set parameters for the notebook."
   ]
  },
  {
   "cell_type": "code",
   "execution_count": 2,
   "id": "f4bf65da-0569-4a21-ba20-9cae7d3679e7",
   "metadata": {
    "execution": {
     "iopub.execute_input": "2024-06-26T02:54:36.510620Z",
     "iopub.status.busy": "2024-06-26T02:54:36.509831Z",
     "iopub.status.idle": "2024-06-26T02:54:36.514510Z",
     "shell.execute_reply": "2024-06-26T02:54:36.513802Z"
    },
    "papermill": {
     "duration": 0.037328,
     "end_time": "2024-06-26T02:54:36.517693",
     "exception": false,
     "start_time": "2024-06-26T02:54:36.480365",
     "status": "completed"
    },
    "tags": [
     "parameters"
    ]
   },
   "outputs": [],
   "source": [
    "folder_experiment = 'runs/appl_ald_data/plasma/proteinGroups'\n",
    "\n",
    "target = 'kleiner'\n",
    "model_key = 'VAE'\n",
    "baseline = 'RSN'\n",
    "out_folder = 'diff_analysis'\n",
    "selected_statistics = ['p-unc', '-Log10 pvalue', 'qvalue', 'rejected']\n",
    "\n",
    "disease_ontology = 5082  # code from https://disease-ontology.org/\n",
    "# split diseases notebook? Query gene names for proteins in file from uniprot?\n",
    "annotaitons_gene_col = 'PG.Genes'"
   ]
  },
  {
   "cell_type": "code",
   "execution_count": 3,
   "id": "6924b706",
   "metadata": {
    "execution": {
     "iopub.execute_input": "2024-06-26T02:54:36.597362Z",
     "iopub.status.busy": "2024-06-26T02:54:36.597027Z",
     "iopub.status.idle": "2024-06-26T02:54:36.601244Z",
     "shell.execute_reply": "2024-06-26T02:54:36.600567Z"
    },
    "papermill": {
     "duration": 0.038817,
     "end_time": "2024-06-26T02:54:36.606721",
     "exception": false,
     "start_time": "2024-06-26T02:54:36.567904",
     "status": "completed"
    },
    "tags": [
     "injected-parameters"
    ]
   },
   "outputs": [],
   "source": [
    "# Parameters\n",
    "disease_ontology = 10652\n",
    "folder_experiment = \"runs/alzheimer_study\"\n",
    "target = \"AD\"\n",
    "baseline = \"PI\"\n",
    "model_key = \"VAE\"\n",
    "out_folder = \"diff_analysis\"\n",
    "annotaitons_gene_col = \"None\"\n"
   ]
  },
  {
   "cell_type": "markdown",
   "id": "22c645fc-c7eb-4c69-a7aa-084fc733258f",
   "metadata": {
    "papermill": {
     "duration": 0.022439,
     "end_time": "2024-06-26T02:54:36.653702",
     "exception": false,
     "start_time": "2024-06-26T02:54:36.631263",
     "status": "completed"
    },
    "tags": []
   },
   "source": [
    "Add set parameters to configuration"
   ]
  },
  {
   "cell_type": "code",
   "execution_count": 4,
   "id": "978876d0-b3cc-4847-8eab-dc0b89ddbbcd",
   "metadata": {
    "execution": {
     "iopub.execute_input": "2024-06-26T02:54:36.713225Z",
     "iopub.status.busy": "2024-06-26T02:54:36.712871Z",
     "iopub.status.idle": "2024-06-26T02:54:36.746172Z",
     "shell.execute_reply": "2024-06-26T02:54:36.745466Z"
    },
    "papermill": {
     "duration": 0.060029,
     "end_time": "2024-06-26T02:54:36.747920",
     "exception": false,
     "start_time": "2024-06-26T02:54:36.687891",
     "status": "completed"
    },
    "tags": [
     "hide-input"
    ]
   },
   "outputs": [
    {
     "name": "stderr",
     "output_type": "stream",
     "text": [
      "root - INFO     Removed from global namespace: folder_experiment\n"
     ]
    },
    {
     "name": "stderr",
     "output_type": "stream",
     "text": [
      "root - INFO     Removed from global namespace: target\n"
     ]
    },
    {
     "name": "stderr",
     "output_type": "stream",
     "text": [
      "root - INFO     Removed from global namespace: model_key\n"
     ]
    },
    {
     "name": "stderr",
     "output_type": "stream",
     "text": [
      "root - INFO     Removed from global namespace: baseline\n"
     ]
    },
    {
     "name": "stderr",
     "output_type": "stream",
     "text": [
      "root - INFO     Removed from global namespace: out_folder\n"
     ]
    },
    {
     "name": "stderr",
     "output_type": "stream",
     "text": [
      "root - INFO     Removed from global namespace: selected_statistics\n"
     ]
    },
    {
     "name": "stderr",
     "output_type": "stream",
     "text": [
      "root - INFO     Removed from global namespace: disease_ontology\n"
     ]
    },
    {
     "name": "stderr",
     "output_type": "stream",
     "text": [
      "root - INFO     Removed from global namespace: annotaitons_gene_col\n"
     ]
    },
    {
     "name": "stderr",
     "output_type": "stream",
     "text": [
      "root - INFO     Already set attribute: folder_experiment has value runs/alzheimer_study\n"
     ]
    },
    {
     "name": "stderr",
     "output_type": "stream",
     "text": [
      "root - INFO     Already set attribute: out_folder has value diff_analysis\n"
     ]
    },
    {
     "data": {
      "text/plain": [
       "{'annotaitons_gene_col': 'None',\n",
       " 'baseline': 'PI',\n",
       " 'data': PosixPath('runs/alzheimer_study/data'),\n",
       " 'disease_ontology': 10652,\n",
       " 'folder_experiment': PosixPath('runs/alzheimer_study'),\n",
       " 'freq_features_observed': PosixPath('runs/alzheimer_study/freq_features_observed.csv'),\n",
       " 'model_key': 'VAE',\n",
       " 'out_figures': PosixPath('runs/alzheimer_study/figures'),\n",
       " 'out_folder': PosixPath('runs/alzheimer_study/diff_analysis/AD/PI_vs_VAE'),\n",
       " 'out_metrics': PosixPath('runs/alzheimer_study'),\n",
       " 'out_models': PosixPath('runs/alzheimer_study'),\n",
       " 'out_preds': PosixPath('runs/alzheimer_study/preds'),\n",
       " 'scores_folder': PosixPath('runs/alzheimer_study/diff_analysis/AD/scores'),\n",
       " 'selected_statistics': ['p-unc', '-Log10 pvalue', 'qvalue', 'rejected'],\n",
       " 'target': 'AD'}"
      ]
     },
     "execution_count": 4,
     "metadata": {},
     "output_type": "execute_result"
    }
   ],
   "source": [
    "params = vaep.nb.get_params(args, globals=globals())\n",
    "args = vaep.nb.Config()\n",
    "args.folder_experiment = Path(params[\"folder_experiment\"])\n",
    "args = vaep.nb.add_default_paths(args,\n",
    "                                 out_root=(\n",
    "                                     args.folder_experiment\n",
    "                                     / params[\"out_folder\"]\n",
    "                                     / params[\"target\"]\n",
    "                                     / f\"{params['baseline']}_vs_{params['model_key']}\"))\n",
    "args.update_from_dict(params)\n",
    "args.scores_folder = scores_folder = (args.folder_experiment\n",
    "                                      / params[\"out_folder\"]\n",
    "                                      / params[\"target\"]\n",
    "                                      / 'scores')\n",
    "args.freq_features_observed = args.folder_experiment / 'freq_features_observed.csv'\n",
    "args"
   ]
  },
  {
   "cell_type": "markdown",
   "id": "fc184dea",
   "metadata": {
    "papermill": {
     "duration": 0.012691,
     "end_time": "2024-06-26T02:54:36.785475",
     "exception": false,
     "start_time": "2024-06-26T02:54:36.772784",
     "status": "completed"
    },
    "tags": []
   },
   "source": [
    "### Excel file for exports"
   ]
  },
  {
   "cell_type": "code",
   "execution_count": 5,
   "id": "a8016d79-e41a-40a2-bcbf-e11711c33b7d",
   "metadata": {
    "execution": {
     "iopub.execute_input": "2024-06-26T02:54:36.840925Z",
     "iopub.status.busy": "2024-06-26T02:54:36.840589Z",
     "iopub.status.idle": "2024-06-26T02:54:37.060059Z",
     "shell.execute_reply": "2024-06-26T02:54:37.059316Z"
    },
    "papermill": {
     "duration": 0.247486,
     "end_time": "2024-06-26T02:54:37.062074",
     "exception": false,
     "start_time": "2024-06-26T02:54:36.814588",
     "status": "completed"
    },
    "tags": []
   },
   "outputs": [
    {
     "name": "stderr",
     "output_type": "stream",
     "text": [
      "root - INFO     Writing to excel file: runs/alzheimer_study/diff_analysis/AD/PI_vs_VAE/diff_analysis_compare_methods.xlsx\n"
     ]
    }
   ],
   "source": [
    "files_out = dict()\n",
    "writer_args = dict(float_format='%.3f')\n",
    "\n",
    "fname = args.out_folder / 'diff_analysis_compare_methods.xlsx'\n",
    "files_out[fname.name] = fname\n",
    "writer = pd.ExcelWriter(fname)\n",
    "logger.info(\"Writing to excel file: %s\", fname)"
   ]
  },
  {
   "cell_type": "markdown",
   "id": "770d1f76-e86f-4ae3-9d7b-ceef9b9e9a22",
   "metadata": {
    "papermill": {
     "duration": 0.024926,
     "end_time": "2024-06-26T02:54:37.114128",
     "exception": false,
     "start_time": "2024-06-26T02:54:37.089202",
     "status": "completed"
    },
    "tags": []
   },
   "source": [
    "## Load scores"
   ]
  },
  {
   "cell_type": "markdown",
   "id": "6b108869",
   "metadata": {
    "papermill": {
     "duration": 0.02495,
     "end_time": "2024-06-26T02:54:37.164303",
     "exception": false,
     "start_time": "2024-06-26T02:54:37.139353",
     "status": "completed"
    },
    "tags": []
   },
   "source": [
    "### Load baseline model scores\n",
    "Show all statistics, later use selected statistics"
   ]
  },
  {
   "cell_type": "code",
   "execution_count": 6,
   "id": "97221134-5f61-4158-bfc5-ea30077140b8",
   "metadata": {
    "execution": {
     "iopub.execute_input": "2024-06-26T02:54:37.211633Z",
     "iopub.status.busy": "2024-06-26T02:54:37.211292Z",
     "iopub.status.idle": "2024-06-26T02:54:37.241356Z",
     "shell.execute_reply": "2024-06-26T02:54:37.240631Z"
    },
    "papermill": {
     "duration": 0.054129,
     "end_time": "2024-06-26T02:54:37.243256",
     "exception": false,
     "start_time": "2024-06-26T02:54:37.189127",
     "status": "completed"
    },
    "tags": [
     "hide-input"
    ]
   },
   "outputs": [
    {
     "data": {
      "text/html": [
       "<div>\n",
       "<style scoped>\n",
       "    .dataframe tbody tr th:only-of-type {\n",
       "        vertical-align: middle;\n",
       "    }\n",
       "\n",
       "    .dataframe tbody tr th {\n",
       "        vertical-align: top;\n",
       "    }\n",
       "\n",
       "    .dataframe thead tr th {\n",
       "        text-align: left;\n",
       "    }\n",
       "\n",
       "    .dataframe thead tr:last-of-type th {\n",
       "        text-align: right;\n",
       "    }\n",
       "</style>\n",
       "<table border=\"1\" class=\"dataframe\">\n",
       "  <thead>\n",
       "    <tr>\n",
       "      <th></th>\n",
       "      <th>model</th>\n",
       "      <th colspan=\"8\" halign=\"left\">PI</th>\n",
       "    </tr>\n",
       "    <tr>\n",
       "      <th></th>\n",
       "      <th>var</th>\n",
       "      <th>SS</th>\n",
       "      <th>DF</th>\n",
       "      <th>F</th>\n",
       "      <th>p-unc</th>\n",
       "      <th>np2</th>\n",
       "      <th>-Log10 pvalue</th>\n",
       "      <th>qvalue</th>\n",
       "      <th>rejected</th>\n",
       "    </tr>\n",
       "    <tr>\n",
       "      <th>protein groups</th>\n",
       "      <th>Source</th>\n",
       "      <th></th>\n",
       "      <th></th>\n",
       "      <th></th>\n",
       "      <th></th>\n",
       "      <th></th>\n",
       "      <th></th>\n",
       "      <th></th>\n",
       "      <th></th>\n",
       "    </tr>\n",
       "  </thead>\n",
       "  <tbody>\n",
       "    <tr>\n",
       "      <th rowspan=\"5\" valign=\"top\">A0A024QZX5;A0A087X1N8;P35237</th>\n",
       "      <th>AD</th>\n",
       "      <td>0.497</td>\n",
       "      <td>1</td>\n",
       "      <td>0.825</td>\n",
       "      <td>0.365</td>\n",
       "      <td>0.004</td>\n",
       "      <td>0.438</td>\n",
       "      <td>0.526</td>\n",
       "      <td>False</td>\n",
       "    </tr>\n",
       "    <tr>\n",
       "      <th>age</th>\n",
       "      <td>0.088</td>\n",
       "      <td>1</td>\n",
       "      <td>0.146</td>\n",
       "      <td>0.703</td>\n",
       "      <td>0.001</td>\n",
       "      <td>0.153</td>\n",
       "      <td>0.810</td>\n",
       "      <td>False</td>\n",
       "    </tr>\n",
       "    <tr>\n",
       "      <th>Kiel</th>\n",
       "      <td>2.151</td>\n",
       "      <td>1</td>\n",
       "      <td>3.569</td>\n",
       "      <td>0.060</td>\n",
       "      <td>0.018</td>\n",
       "      <td>1.219</td>\n",
       "      <td>0.141</td>\n",
       "      <td>False</td>\n",
       "    </tr>\n",
       "    <tr>\n",
       "      <th>Magdeburg</th>\n",
       "      <td>5.039</td>\n",
       "      <td>1</td>\n",
       "      <td>8.357</td>\n",
       "      <td>0.004</td>\n",
       "      <td>0.042</td>\n",
       "      <td>2.368</td>\n",
       "      <td>0.017</td>\n",
       "      <td>True</td>\n",
       "    </tr>\n",
       "    <tr>\n",
       "      <th>Sweden</th>\n",
       "      <td>7.976</td>\n",
       "      <td>1</td>\n",
       "      <td>13.230</td>\n",
       "      <td>0.000</td>\n",
       "      <td>0.065</td>\n",
       "      <td>3.451</td>\n",
       "      <td>0.002</td>\n",
       "      <td>True</td>\n",
       "    </tr>\n",
       "    <tr>\n",
       "      <th>...</th>\n",
       "      <th>...</th>\n",
       "      <td>...</td>\n",
       "      <td>...</td>\n",
       "      <td>...</td>\n",
       "      <td>...</td>\n",
       "      <td>...</td>\n",
       "      <td>...</td>\n",
       "      <td>...</td>\n",
       "      <td>...</td>\n",
       "    </tr>\n",
       "    <tr>\n",
       "      <th rowspan=\"5\" valign=\"top\">S4R3U6</th>\n",
       "      <th>AD</th>\n",
       "      <td>0.284</td>\n",
       "      <td>1</td>\n",
       "      <td>0.290</td>\n",
       "      <td>0.591</td>\n",
       "      <td>0.002</td>\n",
       "      <td>0.228</td>\n",
       "      <td>0.723</td>\n",
       "      <td>False</td>\n",
       "    </tr>\n",
       "    <tr>\n",
       "      <th>age</th>\n",
       "      <td>0.727</td>\n",
       "      <td>1</td>\n",
       "      <td>0.742</td>\n",
       "      <td>0.390</td>\n",
       "      <td>0.004</td>\n",
       "      <td>0.409</td>\n",
       "      <td>0.551</td>\n",
       "      <td>False</td>\n",
       "    </tr>\n",
       "    <tr>\n",
       "      <th>Kiel</th>\n",
       "      <td>0.195</td>\n",
       "      <td>1</td>\n",
       "      <td>0.199</td>\n",
       "      <td>0.656</td>\n",
       "      <td>0.001</td>\n",
       "      <td>0.183</td>\n",
       "      <td>0.774</td>\n",
       "      <td>False</td>\n",
       "    </tr>\n",
       "    <tr>\n",
       "      <th>Magdeburg</th>\n",
       "      <td>2.296</td>\n",
       "      <td>1</td>\n",
       "      <td>2.343</td>\n",
       "      <td>0.128</td>\n",
       "      <td>0.012</td>\n",
       "      <td>0.894</td>\n",
       "      <td>0.252</td>\n",
       "      <td>False</td>\n",
       "    </tr>\n",
       "    <tr>\n",
       "      <th>Sweden</th>\n",
       "      <td>15.832</td>\n",
       "      <td>1</td>\n",
       "      <td>16.152</td>\n",
       "      <td>0.000</td>\n",
       "      <td>0.078</td>\n",
       "      <td>4.076</td>\n",
       "      <td>0.001</td>\n",
       "      <td>True</td>\n",
       "    </tr>\n",
       "  </tbody>\n",
       "</table>\n",
       "<p>7105 rows × 8 columns</p>\n",
       "</div>"
      ],
      "text/plain": [
       "model                                      PI                        \\\n",
       "var                                        SS DF      F p-unc   np2   \n",
       "protein groups               Source                                   \n",
       "A0A024QZX5;A0A087X1N8;P35237 AD         0.497  1  0.825 0.365 0.004   \n",
       "                             age        0.088  1  0.146 0.703 0.001   \n",
       "                             Kiel       2.151  1  3.569 0.060 0.018   \n",
       "                             Magdeburg  5.039  1  8.357 0.004 0.042   \n",
       "                             Sweden     7.976  1 13.230 0.000 0.065   \n",
       "...                                       ... ..    ...   ...   ...   \n",
       "S4R3U6                       AD         0.284  1  0.290 0.591 0.002   \n",
       "                             age        0.727  1  0.742 0.390 0.004   \n",
       "                             Kiel       0.195  1  0.199 0.656 0.001   \n",
       "                             Magdeburg  2.296  1  2.343 0.128 0.012   \n",
       "                             Sweden    15.832  1 16.152 0.000 0.078   \n",
       "\n",
       "model                                                                 \n",
       "var                                    -Log10 pvalue qvalue rejected  \n",
       "protein groups               Source                                   \n",
       "A0A024QZX5;A0A087X1N8;P35237 AD                0.438  0.526    False  \n",
       "                             age               0.153  0.810    False  \n",
       "                             Kiel              1.219  0.141    False  \n",
       "                             Magdeburg         2.368  0.017     True  \n",
       "                             Sweden            3.451  0.002     True  \n",
       "...                                              ...    ...      ...  \n",
       "S4R3U6                       AD                0.228  0.723    False  \n",
       "                             age               0.409  0.551    False  \n",
       "                             Kiel              0.183  0.774    False  \n",
       "                             Magdeburg         0.894  0.252    False  \n",
       "                             Sweden            4.076  0.001     True  \n",
       "\n",
       "[7105 rows x 8 columns]"
      ]
     },
     "execution_count": 6,
     "metadata": {},
     "output_type": "execute_result"
    }
   ],
   "source": [
    "fname = args.scores_folder / f'diff_analysis_scores_{args.baseline}.pkl'\n",
    "scores_baseline = pd.read_pickle(fname)\n",
    "scores_baseline"
   ]
  },
  {
   "cell_type": "markdown",
   "id": "e49a8da2",
   "metadata": {
    "papermill": {
     "duration": 0.029364,
     "end_time": "2024-06-26T02:54:37.298379",
     "exception": false,
     "start_time": "2024-06-26T02:54:37.269015",
     "status": "completed"
    },
    "tags": []
   },
   "source": [
    "### Load selected comparison model scores"
   ]
  },
  {
   "cell_type": "code",
   "execution_count": 7,
   "id": "f0635e4d",
   "metadata": {
    "execution": {
     "iopub.execute_input": "2024-06-26T02:54:37.350524Z",
     "iopub.status.busy": "2024-06-26T02:54:37.350170Z",
     "iopub.status.idle": "2024-06-26T02:54:37.382603Z",
     "shell.execute_reply": "2024-06-26T02:54:37.381823Z"
    },
    "papermill": {
     "duration": 0.060805,
     "end_time": "2024-06-26T02:54:37.384594",
     "exception": false,
     "start_time": "2024-06-26T02:54:37.323789",
     "status": "completed"
    },
    "tags": [
     "hide-input"
    ]
   },
   "outputs": [
    {
     "data": {
      "text/html": [
       "<div>\n",
       "<style scoped>\n",
       "    .dataframe tbody tr th:only-of-type {\n",
       "        vertical-align: middle;\n",
       "    }\n",
       "\n",
       "    .dataframe tbody tr th {\n",
       "        vertical-align: top;\n",
       "    }\n",
       "\n",
       "    .dataframe thead tr th {\n",
       "        text-align: left;\n",
       "    }\n",
       "\n",
       "    .dataframe thead tr:last-of-type th {\n",
       "        text-align: right;\n",
       "    }\n",
       "</style>\n",
       "<table border=\"1\" class=\"dataframe\">\n",
       "  <thead>\n",
       "    <tr>\n",
       "      <th></th>\n",
       "      <th>model</th>\n",
       "      <th colspan=\"8\" halign=\"left\">VAE</th>\n",
       "    </tr>\n",
       "    <tr>\n",
       "      <th></th>\n",
       "      <th>var</th>\n",
       "      <th>SS</th>\n",
       "      <th>DF</th>\n",
       "      <th>F</th>\n",
       "      <th>p-unc</th>\n",
       "      <th>np2</th>\n",
       "      <th>-Log10 pvalue</th>\n",
       "      <th>qvalue</th>\n",
       "      <th>rejected</th>\n",
       "    </tr>\n",
       "    <tr>\n",
       "      <th>protein groups</th>\n",
       "      <th>Source</th>\n",
       "      <th></th>\n",
       "      <th></th>\n",
       "      <th></th>\n",
       "      <th></th>\n",
       "      <th></th>\n",
       "      <th></th>\n",
       "      <th></th>\n",
       "      <th></th>\n",
       "    </tr>\n",
       "  </thead>\n",
       "  <tbody>\n",
       "    <tr>\n",
       "      <th rowspan=\"5\" valign=\"top\">A0A024QZX5;A0A087X1N8;P35237</th>\n",
       "      <th>AD</th>\n",
       "      <td>1.012</td>\n",
       "      <td>1</td>\n",
       "      <td>7.314</td>\n",
       "      <td>0.007</td>\n",
       "      <td>0.037</td>\n",
       "      <td>2.127</td>\n",
       "      <td>0.021</td>\n",
       "      <td>True</td>\n",
       "    </tr>\n",
       "    <tr>\n",
       "      <th>age</th>\n",
       "      <td>0.007</td>\n",
       "      <td>1</td>\n",
       "      <td>0.049</td>\n",
       "      <td>0.824</td>\n",
       "      <td>0.000</td>\n",
       "      <td>0.084</td>\n",
       "      <td>0.885</td>\n",
       "      <td>False</td>\n",
       "    </tr>\n",
       "    <tr>\n",
       "      <th>Kiel</th>\n",
       "      <td>0.282</td>\n",
       "      <td>1</td>\n",
       "      <td>2.040</td>\n",
       "      <td>0.155</td>\n",
       "      <td>0.011</td>\n",
       "      <td>0.810</td>\n",
       "      <td>0.256</td>\n",
       "      <td>False</td>\n",
       "    </tr>\n",
       "    <tr>\n",
       "      <th>Magdeburg</th>\n",
       "      <td>0.505</td>\n",
       "      <td>1</td>\n",
       "      <td>3.647</td>\n",
       "      <td>0.058</td>\n",
       "      <td>0.019</td>\n",
       "      <td>1.239</td>\n",
       "      <td>0.116</td>\n",
       "      <td>False</td>\n",
       "    </tr>\n",
       "    <tr>\n",
       "      <th>Sweden</th>\n",
       "      <td>1.788</td>\n",
       "      <td>1</td>\n",
       "      <td>12.918</td>\n",
       "      <td>0.000</td>\n",
       "      <td>0.063</td>\n",
       "      <td>3.383</td>\n",
       "      <td>0.002</td>\n",
       "      <td>True</td>\n",
       "    </tr>\n",
       "    <tr>\n",
       "      <th>...</th>\n",
       "      <th>...</th>\n",
       "      <td>...</td>\n",
       "      <td>...</td>\n",
       "      <td>...</td>\n",
       "      <td>...</td>\n",
       "      <td>...</td>\n",
       "      <td>...</td>\n",
       "      <td>...</td>\n",
       "      <td>...</td>\n",
       "    </tr>\n",
       "    <tr>\n",
       "      <th rowspan=\"5\" valign=\"top\">S4R3U6</th>\n",
       "      <th>AD</th>\n",
       "      <td>1.590</td>\n",
       "      <td>1</td>\n",
       "      <td>3.289</td>\n",
       "      <td>0.071</td>\n",
       "      <td>0.017</td>\n",
       "      <td>1.147</td>\n",
       "      <td>0.138</td>\n",
       "      <td>False</td>\n",
       "    </tr>\n",
       "    <tr>\n",
       "      <th>age</th>\n",
       "      <td>0.699</td>\n",
       "      <td>1</td>\n",
       "      <td>1.446</td>\n",
       "      <td>0.231</td>\n",
       "      <td>0.008</td>\n",
       "      <td>0.637</td>\n",
       "      <td>0.350</td>\n",
       "      <td>False</td>\n",
       "    </tr>\n",
       "    <tr>\n",
       "      <th>Kiel</th>\n",
       "      <td>2.173</td>\n",
       "      <td>1</td>\n",
       "      <td>4.494</td>\n",
       "      <td>0.035</td>\n",
       "      <td>0.023</td>\n",
       "      <td>1.452</td>\n",
       "      <td>0.077</td>\n",
       "      <td>False</td>\n",
       "    </tr>\n",
       "    <tr>\n",
       "      <th>Magdeburg</th>\n",
       "      <td>1.999</td>\n",
       "      <td>1</td>\n",
       "      <td>4.134</td>\n",
       "      <td>0.043</td>\n",
       "      <td>0.021</td>\n",
       "      <td>1.362</td>\n",
       "      <td>0.091</td>\n",
       "      <td>False</td>\n",
       "    </tr>\n",
       "    <tr>\n",
       "      <th>Sweden</th>\n",
       "      <td>17.031</td>\n",
       "      <td>1</td>\n",
       "      <td>35.227</td>\n",
       "      <td>0.000</td>\n",
       "      <td>0.156</td>\n",
       "      <td>7.867</td>\n",
       "      <td>0.000</td>\n",
       "      <td>True</td>\n",
       "    </tr>\n",
       "  </tbody>\n",
       "</table>\n",
       "<p>7105 rows × 8 columns</p>\n",
       "</div>"
      ],
      "text/plain": [
       "model                                     VAE                        \\\n",
       "var                                        SS DF      F p-unc   np2   \n",
       "protein groups               Source                                   \n",
       "A0A024QZX5;A0A087X1N8;P35237 AD         1.012  1  7.314 0.007 0.037   \n",
       "                             age        0.007  1  0.049 0.824 0.000   \n",
       "                             Kiel       0.282  1  2.040 0.155 0.011   \n",
       "                             Magdeburg  0.505  1  3.647 0.058 0.019   \n",
       "                             Sweden     1.788  1 12.918 0.000 0.063   \n",
       "...                                       ... ..    ...   ...   ...   \n",
       "S4R3U6                       AD         1.590  1  3.289 0.071 0.017   \n",
       "                             age        0.699  1  1.446 0.231 0.008   \n",
       "                             Kiel       2.173  1  4.494 0.035 0.023   \n",
       "                             Magdeburg  1.999  1  4.134 0.043 0.021   \n",
       "                             Sweden    17.031  1 35.227 0.000 0.156   \n",
       "\n",
       "model                                                                 \n",
       "var                                    -Log10 pvalue qvalue rejected  \n",
       "protein groups               Source                                   \n",
       "A0A024QZX5;A0A087X1N8;P35237 AD                2.127  0.021     True  \n",
       "                             age               0.084  0.885    False  \n",
       "                             Kiel              0.810  0.256    False  \n",
       "                             Magdeburg         1.239  0.116    False  \n",
       "                             Sweden            3.383  0.002     True  \n",
       "...                                              ...    ...      ...  \n",
       "S4R3U6                       AD                1.147  0.138    False  \n",
       "                             age               0.637  0.350    False  \n",
       "                             Kiel              1.452  0.077    False  \n",
       "                             Magdeburg         1.362  0.091    False  \n",
       "                             Sweden            7.867  0.000     True  \n",
       "\n",
       "[7105 rows x 8 columns]"
      ]
     },
     "execution_count": 7,
     "metadata": {},
     "output_type": "execute_result"
    }
   ],
   "source": [
    "fname = args.scores_folder / f'diff_analysis_scores_{args.model_key}.pkl'\n",
    "scores_model = pd.read_pickle(fname)\n",
    "scores_model"
   ]
  },
  {
   "cell_type": "markdown",
   "id": "06b7e883",
   "metadata": {
    "papermill": {
     "duration": 0.026064,
     "end_time": "2024-06-26T02:54:37.433964",
     "exception": false,
     "start_time": "2024-06-26T02:54:37.407900",
     "status": "completed"
    },
    "tags": []
   },
   "source": [
    "### Combined scores\n",
    "show only selected statistics for comparsion"
   ]
  },
  {
   "cell_type": "code",
   "execution_count": 8,
   "id": "373fdf65",
   "metadata": {
    "execution": {
     "iopub.execute_input": "2024-06-26T02:54:37.495097Z",
     "iopub.status.busy": "2024-06-26T02:54:37.494755Z",
     "iopub.status.idle": "2024-06-26T02:54:37.556409Z",
     "shell.execute_reply": "2024-06-26T02:54:37.555537Z"
    },
    "papermill": {
     "duration": 0.102752,
     "end_time": "2024-06-26T02:54:37.558495",
     "exception": false,
     "start_time": "2024-06-26T02:54:37.455743",
     "status": "completed"
    },
    "tags": [
     "hide-input"
    ]
   },
   "outputs": [
    {
     "data": {
      "text/html": [
       "<div>\n",
       "<style scoped>\n",
       "    .dataframe tbody tr th:only-of-type {\n",
       "        vertical-align: middle;\n",
       "    }\n",
       "\n",
       "    .dataframe tbody tr th {\n",
       "        vertical-align: top;\n",
       "    }\n",
       "\n",
       "    .dataframe thead tr th {\n",
       "        text-align: left;\n",
       "    }\n",
       "\n",
       "    .dataframe thead tr:last-of-type th {\n",
       "        text-align: right;\n",
       "    }\n",
       "</style>\n",
       "<table border=\"1\" class=\"dataframe\">\n",
       "  <thead>\n",
       "    <tr>\n",
       "      <th></th>\n",
       "      <th>model</th>\n",
       "      <th colspan=\"4\" halign=\"left\">PI</th>\n",
       "      <th colspan=\"4\" halign=\"left\">VAE</th>\n",
       "    </tr>\n",
       "    <tr>\n",
       "      <th></th>\n",
       "      <th>var</th>\n",
       "      <th>p-unc</th>\n",
       "      <th>-Log10 pvalue</th>\n",
       "      <th>qvalue</th>\n",
       "      <th>rejected</th>\n",
       "      <th>p-unc</th>\n",
       "      <th>-Log10 pvalue</th>\n",
       "      <th>qvalue</th>\n",
       "      <th>rejected</th>\n",
       "    </tr>\n",
       "    <tr>\n",
       "      <th>protein groups</th>\n",
       "      <th>Source</th>\n",
       "      <th></th>\n",
       "      <th></th>\n",
       "      <th></th>\n",
       "      <th></th>\n",
       "      <th></th>\n",
       "      <th></th>\n",
       "      <th></th>\n",
       "      <th></th>\n",
       "    </tr>\n",
       "  </thead>\n",
       "  <tbody>\n",
       "    <tr>\n",
       "      <th rowspan=\"5\" valign=\"top\">A0A024QZX5;A0A087X1N8;P35237</th>\n",
       "      <th>AD</th>\n",
       "      <td>0.365</td>\n",
       "      <td>0.438</td>\n",
       "      <td>0.526</td>\n",
       "      <td>False</td>\n",
       "      <td>0.007</td>\n",
       "      <td>2.127</td>\n",
       "      <td>0.021</td>\n",
       "      <td>True</td>\n",
       "    </tr>\n",
       "    <tr>\n",
       "      <th>age</th>\n",
       "      <td>0.703</td>\n",
       "      <td>0.153</td>\n",
       "      <td>0.810</td>\n",
       "      <td>False</td>\n",
       "      <td>0.824</td>\n",
       "      <td>0.084</td>\n",
       "      <td>0.885</td>\n",
       "      <td>False</td>\n",
       "    </tr>\n",
       "    <tr>\n",
       "      <th>Kiel</th>\n",
       "      <td>0.060</td>\n",
       "      <td>1.219</td>\n",
       "      <td>0.141</td>\n",
       "      <td>False</td>\n",
       "      <td>0.155</td>\n",
       "      <td>0.810</td>\n",
       "      <td>0.256</td>\n",
       "      <td>False</td>\n",
       "    </tr>\n",
       "    <tr>\n",
       "      <th>Magdeburg</th>\n",
       "      <td>0.004</td>\n",
       "      <td>2.368</td>\n",
       "      <td>0.017</td>\n",
       "      <td>True</td>\n",
       "      <td>0.058</td>\n",
       "      <td>1.239</td>\n",
       "      <td>0.116</td>\n",
       "      <td>False</td>\n",
       "    </tr>\n",
       "    <tr>\n",
       "      <th>Sweden</th>\n",
       "      <td>0.000</td>\n",
       "      <td>3.451</td>\n",
       "      <td>0.002</td>\n",
       "      <td>True</td>\n",
       "      <td>0.000</td>\n",
       "      <td>3.383</td>\n",
       "      <td>0.002</td>\n",
       "      <td>True</td>\n",
       "    </tr>\n",
       "    <tr>\n",
       "      <th>...</th>\n",
       "      <th>...</th>\n",
       "      <td>...</td>\n",
       "      <td>...</td>\n",
       "      <td>...</td>\n",
       "      <td>...</td>\n",
       "      <td>...</td>\n",
       "      <td>...</td>\n",
       "      <td>...</td>\n",
       "      <td>...</td>\n",
       "    </tr>\n",
       "    <tr>\n",
       "      <th rowspan=\"5\" valign=\"top\">S4R3U6</th>\n",
       "      <th>AD</th>\n",
       "      <td>0.591</td>\n",
       "      <td>0.228</td>\n",
       "      <td>0.723</td>\n",
       "      <td>False</td>\n",
       "      <td>0.071</td>\n",
       "      <td>1.147</td>\n",
       "      <td>0.138</td>\n",
       "      <td>False</td>\n",
       "    </tr>\n",
       "    <tr>\n",
       "      <th>age</th>\n",
       "      <td>0.390</td>\n",
       "      <td>0.409</td>\n",
       "      <td>0.551</td>\n",
       "      <td>False</td>\n",
       "      <td>0.231</td>\n",
       "      <td>0.637</td>\n",
       "      <td>0.350</td>\n",
       "      <td>False</td>\n",
       "    </tr>\n",
       "    <tr>\n",
       "      <th>Kiel</th>\n",
       "      <td>0.656</td>\n",
       "      <td>0.183</td>\n",
       "      <td>0.774</td>\n",
       "      <td>False</td>\n",
       "      <td>0.035</td>\n",
       "      <td>1.452</td>\n",
       "      <td>0.077</td>\n",
       "      <td>False</td>\n",
       "    </tr>\n",
       "    <tr>\n",
       "      <th>Magdeburg</th>\n",
       "      <td>0.128</td>\n",
       "      <td>0.894</td>\n",
       "      <td>0.252</td>\n",
       "      <td>False</td>\n",
       "      <td>0.043</td>\n",
       "      <td>1.362</td>\n",
       "      <td>0.091</td>\n",
       "      <td>False</td>\n",
       "    </tr>\n",
       "    <tr>\n",
       "      <th>Sweden</th>\n",
       "      <td>0.000</td>\n",
       "      <td>4.076</td>\n",
       "      <td>0.001</td>\n",
       "      <td>True</td>\n",
       "      <td>0.000</td>\n",
       "      <td>7.867</td>\n",
       "      <td>0.000</td>\n",
       "      <td>True</td>\n",
       "    </tr>\n",
       "  </tbody>\n",
       "</table>\n",
       "<p>7105 rows × 8 columns</p>\n",
       "</div>"
      ],
      "text/plain": [
       "model                                     PI                                \\\n",
       "var                                    p-unc -Log10 pvalue qvalue rejected   \n",
       "protein groups               Source                                          \n",
       "A0A024QZX5;A0A087X1N8;P35237 AD        0.365         0.438  0.526    False   \n",
       "                             age       0.703         0.153  0.810    False   \n",
       "                             Kiel      0.060         1.219  0.141    False   \n",
       "                             Magdeburg 0.004         2.368  0.017     True   \n",
       "                             Sweden    0.000         3.451  0.002     True   \n",
       "...                                      ...           ...    ...      ...   \n",
       "S4R3U6                       AD        0.591         0.228  0.723    False   \n",
       "                             age       0.390         0.409  0.551    False   \n",
       "                             Kiel      0.656         0.183  0.774    False   \n",
       "                             Magdeburg 0.128         0.894  0.252    False   \n",
       "                             Sweden    0.000         4.076  0.001     True   \n",
       "\n",
       "model                                    VAE                                \n",
       "var                                    p-unc -Log10 pvalue qvalue rejected  \n",
       "protein groups               Source                                         \n",
       "A0A024QZX5;A0A087X1N8;P35237 AD        0.007         2.127  0.021     True  \n",
       "                             age       0.824         0.084  0.885    False  \n",
       "                             Kiel      0.155         0.810  0.256    False  \n",
       "                             Magdeburg 0.058         1.239  0.116    False  \n",
       "                             Sweden    0.000         3.383  0.002     True  \n",
       "...                                      ...           ...    ...      ...  \n",
       "S4R3U6                       AD        0.071         1.147  0.138    False  \n",
       "                             age       0.231         0.637  0.350    False  \n",
       "                             Kiel      0.035         1.452  0.077    False  \n",
       "                             Magdeburg 0.043         1.362  0.091    False  \n",
       "                             Sweden    0.000         7.867  0.000     True  \n",
       "\n",
       "[7105 rows x 8 columns]"
      ]
     },
     "execution_count": 8,
     "metadata": {},
     "output_type": "execute_result"
    }
   ],
   "source": [
    "scores = scores_model.join(scores_baseline, how='outer')[[args.baseline, args.model_key]]\n",
    "scores = scores.loc[:, pd.IndexSlice[scores.columns.levels[0].to_list(),\n",
    "                                     args.selected_statistics]]\n",
    "scores"
   ]
  },
  {
   "cell_type": "markdown",
   "id": "b84a6e5a",
   "metadata": {
    "papermill": {
     "duration": 0.033314,
     "end_time": "2024-06-26T02:54:37.617102",
     "exception": false,
     "start_time": "2024-06-26T02:54:37.583788",
     "status": "completed"
    },
    "tags": []
   },
   "source": [
    "Models in comparison (name mapping)"
   ]
  },
  {
   "cell_type": "code",
   "execution_count": 9,
   "id": "34d243d1-3ab4-40e7-9eb8-f9efc828b82d",
   "metadata": {
    "execution": {
     "iopub.execute_input": "2024-06-26T02:54:37.677921Z",
     "iopub.status.busy": "2024-06-26T02:54:37.677080Z",
     "iopub.status.idle": "2024-06-26T02:54:37.683372Z",
     "shell.execute_reply": "2024-06-26T02:54:37.682651Z"
    },
    "papermill": {
     "duration": 0.041838,
     "end_time": "2024-06-26T02:54:37.693899",
     "exception": false,
     "start_time": "2024-06-26T02:54:37.652061",
     "status": "completed"
    },
    "tags": [
     "hide-input"
    ]
   },
   "outputs": [
    {
     "data": {
      "text/plain": [
       "{'PI': 'PI', 'VAE': 'VAE'}"
      ]
     },
     "execution_count": 9,
     "metadata": {},
     "output_type": "execute_result"
    }
   ],
   "source": [
    "models = vaep.nb.Config.from_dict(\n",
    "    vaep.pandas.index_to_dict(scores.columns.get_level_values(0)))\n",
    "vars(models)"
   ]
  },
  {
   "cell_type": "markdown",
   "id": "dd7a560d",
   "metadata": {
    "papermill": {
     "duration": 0.035304,
     "end_time": "2024-06-26T02:54:37.761751",
     "exception": false,
     "start_time": "2024-06-26T02:54:37.726447",
     "status": "completed"
    },
    "tags": []
   },
   "source": [
    "## Describe scores"
   ]
  },
  {
   "cell_type": "code",
   "execution_count": 10,
   "id": "0fee8f5d-fa52-4369-a1f9-fcfd518ab6bd",
   "metadata": {
    "execution": {
     "iopub.execute_input": "2024-06-26T02:54:37.881331Z",
     "iopub.status.busy": "2024-06-26T02:54:37.880984Z",
     "iopub.status.idle": "2024-06-26T02:54:37.955269Z",
     "shell.execute_reply": "2024-06-26T02:54:37.954483Z"
    },
    "papermill": {
     "duration": 0.108991,
     "end_time": "2024-06-26T02:54:37.957260",
     "exception": false,
     "start_time": "2024-06-26T02:54:37.848269",
     "status": "completed"
    },
    "tags": [
     "hide-input"
    ]
   },
   "outputs": [
    {
     "data": {
      "text/html": [
       "<div>\n",
       "<style scoped>\n",
       "    .dataframe tbody tr th:only-of-type {\n",
       "        vertical-align: middle;\n",
       "    }\n",
       "\n",
       "    .dataframe tbody tr th {\n",
       "        vertical-align: top;\n",
       "    }\n",
       "\n",
       "    .dataframe thead tr th {\n",
       "        text-align: left;\n",
       "    }\n",
       "</style>\n",
       "<table border=\"1\" class=\"dataframe\">\n",
       "  <thead>\n",
       "    <tr>\n",
       "      <th>model</th>\n",
       "      <th colspan=\"3\" halign=\"left\">PI</th>\n",
       "      <th colspan=\"3\" halign=\"left\">VAE</th>\n",
       "    </tr>\n",
       "    <tr>\n",
       "      <th>var</th>\n",
       "      <th>p-unc</th>\n",
       "      <th>-Log10 pvalue</th>\n",
       "      <th>qvalue</th>\n",
       "      <th>p-unc</th>\n",
       "      <th>-Log10 pvalue</th>\n",
       "      <th>qvalue</th>\n",
       "    </tr>\n",
       "  </thead>\n",
       "  <tbody>\n",
       "    <tr>\n",
       "      <th>count</th>\n",
       "      <td>7,105.000</td>\n",
       "      <td>7,105.000</td>\n",
       "      <td>7,105.000</td>\n",
       "      <td>7,105.000</td>\n",
       "      <td>7,105.000</td>\n",
       "      <td>7,105.000</td>\n",
       "    </tr>\n",
       "    <tr>\n",
       "      <th>mean</th>\n",
       "      <td>0.260</td>\n",
       "      <td>2.475</td>\n",
       "      <td>0.336</td>\n",
       "      <td>0.224</td>\n",
       "      <td>3.307</td>\n",
       "      <td>0.277</td>\n",
       "    </tr>\n",
       "    <tr>\n",
       "      <th>std</th>\n",
       "      <td>0.302</td>\n",
       "      <td>5.304</td>\n",
       "      <td>0.329</td>\n",
       "      <td>0.294</td>\n",
       "      <td>6.149</td>\n",
       "      <td>0.320</td>\n",
       "    </tr>\n",
       "    <tr>\n",
       "      <th>min</th>\n",
       "      <td>0.000</td>\n",
       "      <td>0.000</td>\n",
       "      <td>0.000</td>\n",
       "      <td>0.000</td>\n",
       "      <td>0.000</td>\n",
       "      <td>0.000</td>\n",
       "    </tr>\n",
       "    <tr>\n",
       "      <th>25%</th>\n",
       "      <td>0.004</td>\n",
       "      <td>0.339</td>\n",
       "      <td>0.015</td>\n",
       "      <td>0.000</td>\n",
       "      <td>0.413</td>\n",
       "      <td>0.002</td>\n",
       "    </tr>\n",
       "    <tr>\n",
       "      <th>50%</th>\n",
       "      <td>0.121</td>\n",
       "      <td>0.918</td>\n",
       "      <td>0.241</td>\n",
       "      <td>0.058</td>\n",
       "      <td>1.235</td>\n",
       "      <td>0.116</td>\n",
       "    </tr>\n",
       "    <tr>\n",
       "      <th>75%</th>\n",
       "      <td>0.458</td>\n",
       "      <td>2.412</td>\n",
       "      <td>0.611</td>\n",
       "      <td>0.386</td>\n",
       "      <td>3.383</td>\n",
       "      <td>0.515</td>\n",
       "    </tr>\n",
       "    <tr>\n",
       "      <th>max</th>\n",
       "      <td>1.000</td>\n",
       "      <td>147.735</td>\n",
       "      <td>1.000</td>\n",
       "      <td>0.999</td>\n",
       "      <td>86.069</td>\n",
       "      <td>0.999</td>\n",
       "    </tr>\n",
       "  </tbody>\n",
       "</table>\n",
       "</div>"
      ],
      "text/plain": [
       "model        PI                               VAE                        \n",
       "var       p-unc -Log10 pvalue    qvalue     p-unc -Log10 pvalue    qvalue\n",
       "count 7,105.000     7,105.000 7,105.000 7,105.000     7,105.000 7,105.000\n",
       "mean      0.260         2.475     0.336     0.224         3.307     0.277\n",
       "std       0.302         5.304     0.329     0.294         6.149     0.320\n",
       "min       0.000         0.000     0.000     0.000         0.000     0.000\n",
       "25%       0.004         0.339     0.015     0.000         0.413     0.002\n",
       "50%       0.121         0.918     0.241     0.058         1.235     0.116\n",
       "75%       0.458         2.412     0.611     0.386         3.383     0.515\n",
       "max       1.000       147.735     1.000     0.999        86.069     0.999"
      ]
     },
     "execution_count": 10,
     "metadata": {},
     "output_type": "execute_result"
    }
   ],
   "source": [
    "scores.describe()"
   ]
  },
  {
   "cell_type": "markdown",
   "id": "52ecc596",
   "metadata": {
    "papermill": {
     "duration": 0.023542,
     "end_time": "2024-06-26T02:54:38.007435",
     "exception": false,
     "start_time": "2024-06-26T02:54:37.983893",
     "status": "completed"
    },
    "tags": []
   },
   "source": [
    "### One to one comparison of by feature:"
   ]
  },
  {
   "cell_type": "code",
   "execution_count": 11,
   "id": "c6e5a0a6-343b-4f07-8d9d-2cd5cf95ae1f",
   "metadata": {
    "execution": {
     "iopub.execute_input": "2024-06-26T02:54:38.071681Z",
     "iopub.status.busy": "2024-06-26T02:54:38.071313Z",
     "iopub.status.idle": "2024-06-26T02:54:38.614538Z",
     "shell.execute_reply": "2024-06-26T02:54:38.613768Z"
    },
    "papermill": {
     "duration": 0.584322,
     "end_time": "2024-06-26T02:54:38.616486",
     "exception": false,
     "start_time": "2024-06-26T02:54:38.032164",
     "status": "completed"
    },
    "tags": [
     "hide-input"
    ]
   },
   "outputs": [
    {
     "data": {
      "text/html": [
       "<div>\n",
       "<style scoped>\n",
       "    .dataframe tbody tr th:only-of-type {\n",
       "        vertical-align: middle;\n",
       "    }\n",
       "\n",
       "    .dataframe tbody tr th {\n",
       "        vertical-align: top;\n",
       "    }\n",
       "\n",
       "    .dataframe thead tr th {\n",
       "        text-align: left;\n",
       "    }\n",
       "\n",
       "    .dataframe thead tr:last-of-type th {\n",
       "        text-align: right;\n",
       "    }\n",
       "</style>\n",
       "<table border=\"1\" class=\"dataframe\">\n",
       "  <thead>\n",
       "    <tr>\n",
       "      <th></th>\n",
       "      <th>model</th>\n",
       "      <th colspan=\"4\" halign=\"left\">PI</th>\n",
       "      <th colspan=\"4\" halign=\"left\">VAE</th>\n",
       "    </tr>\n",
       "    <tr>\n",
       "      <th></th>\n",
       "      <th>var</th>\n",
       "      <th>p-unc</th>\n",
       "      <th>-Log10 pvalue</th>\n",
       "      <th>qvalue</th>\n",
       "      <th>rejected</th>\n",
       "      <th>p-unc</th>\n",
       "      <th>-Log10 pvalue</th>\n",
       "      <th>qvalue</th>\n",
       "      <th>rejected</th>\n",
       "    </tr>\n",
       "    <tr>\n",
       "      <th>protein groups</th>\n",
       "      <th>Source</th>\n",
       "      <th></th>\n",
       "      <th></th>\n",
       "      <th></th>\n",
       "      <th></th>\n",
       "      <th></th>\n",
       "      <th></th>\n",
       "      <th></th>\n",
       "      <th></th>\n",
       "    </tr>\n",
       "  </thead>\n",
       "  <tbody>\n",
       "    <tr>\n",
       "      <th>A0A024QZX5;A0A087X1N8;P35237</th>\n",
       "      <th>AD</th>\n",
       "      <td>0.365</td>\n",
       "      <td>0.438</td>\n",
       "      <td>0.526</td>\n",
       "      <td>False</td>\n",
       "      <td>0.007</td>\n",
       "      <td>2.127</td>\n",
       "      <td>0.021</td>\n",
       "      <td>True</td>\n",
       "    </tr>\n",
       "    <tr>\n",
       "      <th>A0A024R0T9;K7ER74;P02655</th>\n",
       "      <th>AD</th>\n",
       "      <td>0.062</td>\n",
       "      <td>1.208</td>\n",
       "      <td>0.144</td>\n",
       "      <td>False</td>\n",
       "      <td>0.031</td>\n",
       "      <td>1.502</td>\n",
       "      <td>0.070</td>\n",
       "      <td>False</td>\n",
       "    </tr>\n",
       "    <tr>\n",
       "      <th>A0A024R3W6;A0A024R412;O60462;O60462-2;O60462-3;O60462-4;O60462-5;Q7LBX6;X5D2Q8</th>\n",
       "      <th>AD</th>\n",
       "      <td>0.091</td>\n",
       "      <td>1.042</td>\n",
       "      <td>0.193</td>\n",
       "      <td>False</td>\n",
       "      <td>0.286</td>\n",
       "      <td>0.543</td>\n",
       "      <td>0.414</td>\n",
       "      <td>False</td>\n",
       "    </tr>\n",
       "    <tr>\n",
       "      <th>A0A024R644;A0A0A0MRU5;A0A1B0GWI2;O75503</th>\n",
       "      <th>AD</th>\n",
       "      <td>0.421</td>\n",
       "      <td>0.375</td>\n",
       "      <td>0.580</td>\n",
       "      <td>False</td>\n",
       "      <td>0.262</td>\n",
       "      <td>0.582</td>\n",
       "      <td>0.388</td>\n",
       "      <td>False</td>\n",
       "    </tr>\n",
       "    <tr>\n",
       "      <th>A0A075B6H7</th>\n",
       "      <th>AD</th>\n",
       "      <td>0.190</td>\n",
       "      <td>0.721</td>\n",
       "      <td>0.334</td>\n",
       "      <td>False</td>\n",
       "      <td>0.004</td>\n",
       "      <td>2.379</td>\n",
       "      <td>0.013</td>\n",
       "      <td>True</td>\n",
       "    </tr>\n",
       "    <tr>\n",
       "      <th>...</th>\n",
       "      <th>...</th>\n",
       "      <td>...</td>\n",
       "      <td>...</td>\n",
       "      <td>...</td>\n",
       "      <td>...</td>\n",
       "      <td>...</td>\n",
       "      <td>...</td>\n",
       "      <td>...</td>\n",
       "      <td>...</td>\n",
       "    </tr>\n",
       "    <tr>\n",
       "      <th>Q9Y6R7</th>\n",
       "      <th>AD</th>\n",
       "      <td>0.175</td>\n",
       "      <td>0.756</td>\n",
       "      <td>0.315</td>\n",
       "      <td>False</td>\n",
       "      <td>0.175</td>\n",
       "      <td>0.756</td>\n",
       "      <td>0.282</td>\n",
       "      <td>False</td>\n",
       "    </tr>\n",
       "    <tr>\n",
       "      <th>Q9Y6X5</th>\n",
       "      <th>AD</th>\n",
       "      <td>0.030</td>\n",
       "      <td>1.524</td>\n",
       "      <td>0.082</td>\n",
       "      <td>False</td>\n",
       "      <td>0.150</td>\n",
       "      <td>0.824</td>\n",
       "      <td>0.250</td>\n",
       "      <td>False</td>\n",
       "    </tr>\n",
       "    <tr>\n",
       "      <th>Q9Y6Y8;Q9Y6Y8-2</th>\n",
       "      <th>AD</th>\n",
       "      <td>0.083</td>\n",
       "      <td>1.079</td>\n",
       "      <td>0.182</td>\n",
       "      <td>False</td>\n",
       "      <td>0.083</td>\n",
       "      <td>1.079</td>\n",
       "      <td>0.156</td>\n",
       "      <td>False</td>\n",
       "    </tr>\n",
       "    <tr>\n",
       "      <th>Q9Y6Y9</th>\n",
       "      <th>AD</th>\n",
       "      <td>0.780</td>\n",
       "      <td>0.108</td>\n",
       "      <td>0.864</td>\n",
       "      <td>False</td>\n",
       "      <td>0.640</td>\n",
       "      <td>0.194</td>\n",
       "      <td>0.743</td>\n",
       "      <td>False</td>\n",
       "    </tr>\n",
       "    <tr>\n",
       "      <th>S4R3U6</th>\n",
       "      <th>AD</th>\n",
       "      <td>0.591</td>\n",
       "      <td>0.228</td>\n",
       "      <td>0.723</td>\n",
       "      <td>False</td>\n",
       "      <td>0.071</td>\n",
       "      <td>1.147</td>\n",
       "      <td>0.138</td>\n",
       "      <td>False</td>\n",
       "    </tr>\n",
       "  </tbody>\n",
       "</table>\n",
       "<p>1421 rows × 8 columns</p>\n",
       "</div>"
      ],
      "text/plain": [
       "model                                                        PI                \\\n",
       "var                                                       p-unc -Log10 pvalue   \n",
       "protein groups                                     Source                       \n",
       "A0A024QZX5;A0A087X1N8;P35237                       AD     0.365         0.438   \n",
       "A0A024R0T9;K7ER74;P02655                           AD     0.062         1.208   \n",
       "A0A024R3W6;A0A024R412;O60462;O60462-2;O60462-3;... AD     0.091         1.042   \n",
       "A0A024R644;A0A0A0MRU5;A0A1B0GWI2;O75503            AD     0.421         0.375   \n",
       "A0A075B6H7                                         AD     0.190         0.721   \n",
       "...                                                         ...           ...   \n",
       "Q9Y6R7                                             AD     0.175         0.756   \n",
       "Q9Y6X5                                             AD     0.030         1.524   \n",
       "Q9Y6Y8;Q9Y6Y8-2                                    AD     0.083         1.079   \n",
       "Q9Y6Y9                                             AD     0.780         0.108   \n",
       "S4R3U6                                             AD     0.591         0.228   \n",
       "\n",
       "model                                                                      \\\n",
       "var                                                       qvalue rejected   \n",
       "protein groups                                     Source                   \n",
       "A0A024QZX5;A0A087X1N8;P35237                       AD      0.526    False   \n",
       "A0A024R0T9;K7ER74;P02655                           AD      0.144    False   \n",
       "A0A024R3W6;A0A024R412;O60462;O60462-2;O60462-3;... AD      0.193    False   \n",
       "A0A024R644;A0A0A0MRU5;A0A1B0GWI2;O75503            AD      0.580    False   \n",
       "A0A075B6H7                                         AD      0.334    False   \n",
       "...                                                          ...      ...   \n",
       "Q9Y6R7                                             AD      0.315    False   \n",
       "Q9Y6X5                                             AD      0.082    False   \n",
       "Q9Y6Y8;Q9Y6Y8-2                                    AD      0.182    False   \n",
       "Q9Y6Y9                                             AD      0.864    False   \n",
       "S4R3U6                                             AD      0.723    False   \n",
       "\n",
       "model                                                       VAE                \\\n",
       "var                                                       p-unc -Log10 pvalue   \n",
       "protein groups                                     Source                       \n",
       "A0A024QZX5;A0A087X1N8;P35237                       AD     0.007         2.127   \n",
       "A0A024R0T9;K7ER74;P02655                           AD     0.031         1.502   \n",
       "A0A024R3W6;A0A024R412;O60462;O60462-2;O60462-3;... AD     0.286         0.543   \n",
       "A0A024R644;A0A0A0MRU5;A0A1B0GWI2;O75503            AD     0.262         0.582   \n",
       "A0A075B6H7                                         AD     0.004         2.379   \n",
       "...                                                         ...           ...   \n",
       "Q9Y6R7                                             AD     0.175         0.756   \n",
       "Q9Y6X5                                             AD     0.150         0.824   \n",
       "Q9Y6Y8;Q9Y6Y8-2                                    AD     0.083         1.079   \n",
       "Q9Y6Y9                                             AD     0.640         0.194   \n",
       "S4R3U6                                             AD     0.071         1.147   \n",
       "\n",
       "model                                                                      \n",
       "var                                                       qvalue rejected  \n",
       "protein groups                                     Source                  \n",
       "A0A024QZX5;A0A087X1N8;P35237                       AD      0.021     True  \n",
       "A0A024R0T9;K7ER74;P02655                           AD      0.070    False  \n",
       "A0A024R3W6;A0A024R412;O60462;O60462-2;O60462-3;... AD      0.414    False  \n",
       "A0A024R644;A0A0A0MRU5;A0A1B0GWI2;O75503            AD      0.388    False  \n",
       "A0A075B6H7                                         AD      0.013     True  \n",
       "...                                                          ...      ...  \n",
       "Q9Y6R7                                             AD      0.282    False  \n",
       "Q9Y6X5                                             AD      0.250    False  \n",
       "Q9Y6Y8;Q9Y6Y8-2                                    AD      0.156    False  \n",
       "Q9Y6Y9                                             AD      0.743    False  \n",
       "S4R3U6                                             AD      0.138    False  \n",
       "\n",
       "[1421 rows x 8 columns]"
      ]
     },
     "execution_count": 11,
     "metadata": {},
     "output_type": "execute_result"
    }
   ],
   "source": [
    "scores = scores.loc[pd.IndexSlice[:, args.target], :]\n",
    "scores.to_excel(writer, 'scores', **writer_args)\n",
    "scores"
   ]
  },
  {
   "cell_type": "markdown",
   "id": "36e14580",
   "metadata": {
    "papermill": {
     "duration": 0.01501,
     "end_time": "2024-06-26T02:54:38.648065",
     "exception": false,
     "start_time": "2024-06-26T02:54:38.633055",
     "status": "completed"
    },
    "tags": []
   },
   "source": [
    "And the descriptive statistics\n",
    "of the numeric values:"
   ]
  },
  {
   "cell_type": "code",
   "execution_count": 12,
   "id": "0e45e80a-32d8-4c6c-b0a4-5ce8b7f9e121",
   "metadata": {
    "execution": {
     "iopub.execute_input": "2024-06-26T02:54:38.682651Z",
     "iopub.status.busy": "2024-06-26T02:54:38.682311Z",
     "iopub.status.idle": "2024-06-26T02:54:38.715542Z",
     "shell.execute_reply": "2024-06-26T02:54:38.714795Z"
    },
    "papermill": {
     "duration": 0.052894,
     "end_time": "2024-06-26T02:54:38.717507",
     "exception": false,
     "start_time": "2024-06-26T02:54:38.664613",
     "status": "completed"
    },
    "tags": [
     "hide-input"
    ]
   },
   "outputs": [
    {
     "data": {
      "text/html": [
       "<div>\n",
       "<style scoped>\n",
       "    .dataframe tbody tr th:only-of-type {\n",
       "        vertical-align: middle;\n",
       "    }\n",
       "\n",
       "    .dataframe tbody tr th {\n",
       "        vertical-align: top;\n",
       "    }\n",
       "\n",
       "    .dataframe thead tr th {\n",
       "        text-align: left;\n",
       "    }\n",
       "</style>\n",
       "<table border=\"1\" class=\"dataframe\">\n",
       "  <thead>\n",
       "    <tr>\n",
       "      <th>model</th>\n",
       "      <th colspan=\"3\" halign=\"left\">PI</th>\n",
       "      <th colspan=\"3\" halign=\"left\">VAE</th>\n",
       "    </tr>\n",
       "    <tr>\n",
       "      <th>var</th>\n",
       "      <th>p-unc</th>\n",
       "      <th>-Log10 pvalue</th>\n",
       "      <th>qvalue</th>\n",
       "      <th>p-unc</th>\n",
       "      <th>-Log10 pvalue</th>\n",
       "      <th>qvalue</th>\n",
       "    </tr>\n",
       "  </thead>\n",
       "  <tbody>\n",
       "    <tr>\n",
       "      <th>count</th>\n",
       "      <td>1,421.000</td>\n",
       "      <td>1,421.000</td>\n",
       "      <td>1,421.000</td>\n",
       "      <td>1,421.000</td>\n",
       "      <td>1,421.000</td>\n",
       "      <td>1,421.000</td>\n",
       "    </tr>\n",
       "    <tr>\n",
       "      <th>mean</th>\n",
       "      <td>0.247</td>\n",
       "      <td>1.412</td>\n",
       "      <td>0.329</td>\n",
       "      <td>0.236</td>\n",
       "      <td>1.590</td>\n",
       "      <td>0.297</td>\n",
       "    </tr>\n",
       "    <tr>\n",
       "      <th>std</th>\n",
       "      <td>0.287</td>\n",
       "      <td>1.614</td>\n",
       "      <td>0.313</td>\n",
       "      <td>0.288</td>\n",
       "      <td>1.826</td>\n",
       "      <td>0.312</td>\n",
       "    </tr>\n",
       "    <tr>\n",
       "      <th>min</th>\n",
       "      <td>0.000</td>\n",
       "      <td>0.002</td>\n",
       "      <td>0.000</td>\n",
       "      <td>0.000</td>\n",
       "      <td>0.000</td>\n",
       "      <td>0.000</td>\n",
       "    </tr>\n",
       "    <tr>\n",
       "      <th>25%</th>\n",
       "      <td>0.012</td>\n",
       "      <td>0.372</td>\n",
       "      <td>0.038</td>\n",
       "      <td>0.007</td>\n",
       "      <td>0.387</td>\n",
       "      <td>0.020</td>\n",
       "    </tr>\n",
       "    <tr>\n",
       "      <th>50%</th>\n",
       "      <td>0.116</td>\n",
       "      <td>0.936</td>\n",
       "      <td>0.234</td>\n",
       "      <td>0.087</td>\n",
       "      <td>1.061</td>\n",
       "      <td>0.161</td>\n",
       "    </tr>\n",
       "    <tr>\n",
       "      <th>75%</th>\n",
       "      <td>0.424</td>\n",
       "      <td>1.939</td>\n",
       "      <td>0.583</td>\n",
       "      <td>0.410</td>\n",
       "      <td>2.160</td>\n",
       "      <td>0.539</td>\n",
       "    </tr>\n",
       "    <tr>\n",
       "      <th>max</th>\n",
       "      <td>0.997</td>\n",
       "      <td>19.865</td>\n",
       "      <td>0.997</td>\n",
       "      <td>0.999</td>\n",
       "      <td>19.999</td>\n",
       "      <td>0.999</td>\n",
       "    </tr>\n",
       "  </tbody>\n",
       "</table>\n",
       "</div>"
      ],
      "text/plain": [
       "model        PI                               VAE                        \n",
       "var       p-unc -Log10 pvalue    qvalue     p-unc -Log10 pvalue    qvalue\n",
       "count 1,421.000     1,421.000 1,421.000 1,421.000     1,421.000 1,421.000\n",
       "mean      0.247         1.412     0.329     0.236         1.590     0.297\n",
       "std       0.287         1.614     0.313     0.288         1.826     0.312\n",
       "min       0.000         0.002     0.000     0.000         0.000     0.000\n",
       "25%       0.012         0.372     0.038     0.007         0.387     0.020\n",
       "50%       0.116         0.936     0.234     0.087         1.061     0.161\n",
       "75%       0.424         1.939     0.583     0.410         2.160     0.539\n",
       "max       0.997        19.865     0.997     0.999        19.999     0.999"
      ]
     },
     "execution_count": 12,
     "metadata": {},
     "output_type": "execute_result"
    }
   ],
   "source": [
    "scores.describe()"
   ]
  },
  {
   "cell_type": "markdown",
   "id": "e520d6dc",
   "metadata": {
    "papermill": {
     "duration": 0.015704,
     "end_time": "2024-06-26T02:54:38.750271",
     "exception": false,
     "start_time": "2024-06-26T02:54:38.734567",
     "status": "completed"
    },
    "tags": []
   },
   "source": [
    "and the boolean decision values"
   ]
  },
  {
   "cell_type": "code",
   "execution_count": 13,
   "id": "53bd5597-221c-4d54-abf2-82956db42594",
   "metadata": {
    "execution": {
     "iopub.execute_input": "2024-06-26T02:54:38.783754Z",
     "iopub.status.busy": "2024-06-26T02:54:38.783405Z",
     "iopub.status.idle": "2024-06-26T02:54:38.809182Z",
     "shell.execute_reply": "2024-06-26T02:54:38.808245Z"
    },
    "lines_to_next_cell": 2,
    "papermill": {
     "duration": 0.045585,
     "end_time": "2024-06-26T02:54:38.811375",
     "exception": false,
     "start_time": "2024-06-26T02:54:38.765790",
     "status": "completed"
    },
    "tags": [
     "hide-input"
    ]
   },
   "outputs": [
    {
     "data": {
      "text/html": [
       "<div>\n",
       "<style scoped>\n",
       "    .dataframe tbody tr th:only-of-type {\n",
       "        vertical-align: middle;\n",
       "    }\n",
       "\n",
       "    .dataframe tbody tr th {\n",
       "        vertical-align: top;\n",
       "    }\n",
       "\n",
       "    .dataframe thead tr th {\n",
       "        text-align: left;\n",
       "    }\n",
       "</style>\n",
       "<table border=\"1\" class=\"dataframe\">\n",
       "  <thead>\n",
       "    <tr>\n",
       "      <th>model</th>\n",
       "      <th>PI</th>\n",
       "      <th>VAE</th>\n",
       "    </tr>\n",
       "    <tr>\n",
       "      <th>var</th>\n",
       "      <th>rejected</th>\n",
       "      <th>rejected</th>\n",
       "    </tr>\n",
       "  </thead>\n",
       "  <tbody>\n",
       "    <tr>\n",
       "      <th>count</th>\n",
       "      <td>1421</td>\n",
       "      <td>1421</td>\n",
       "    </tr>\n",
       "    <tr>\n",
       "      <th>unique</th>\n",
       "      <td>2</td>\n",
       "      <td>2</td>\n",
       "    </tr>\n",
       "    <tr>\n",
       "      <th>top</th>\n",
       "      <td>False</td>\n",
       "      <td>False</td>\n",
       "    </tr>\n",
       "    <tr>\n",
       "      <th>freq</th>\n",
       "      <td>1032</td>\n",
       "      <td>944</td>\n",
       "    </tr>\n",
       "  </tbody>\n",
       "</table>\n",
       "</div>"
      ],
      "text/plain": [
       "model        PI      VAE\n",
       "var    rejected rejected\n",
       "count      1421     1421\n",
       "unique        2        2\n",
       "top       False    False\n",
       "freq       1032      944"
      ]
     },
     "execution_count": 13,
     "metadata": {},
     "output_type": "execute_result"
    }
   ],
   "source": [
    "scores.describe(include=['bool', 'O'])"
   ]
  },
  {
   "cell_type": "markdown",
   "id": "bef83742-05e5-473b-892e-dd286cb3a31f",
   "metadata": {
    "papermill": {
     "duration": 0.035942,
     "end_time": "2024-06-26T02:54:38.875611",
     "exception": false,
     "start_time": "2024-06-26T02:54:38.839669",
     "status": "completed"
    },
    "tags": []
   },
   "source": [
    "## Load frequencies of observed features"
   ]
  },
  {
   "cell_type": "code",
   "execution_count": 14,
   "id": "2a926ba1-0f3b-4089-a349-b6d66128cf37",
   "metadata": {
    "execution": {
     "iopub.execute_input": "2024-06-26T02:54:38.934166Z",
     "iopub.status.busy": "2024-06-26T02:54:38.933829Z",
     "iopub.status.idle": "2024-06-26T02:54:38.960660Z",
     "shell.execute_reply": "2024-06-26T02:54:38.959902Z"
    },
    "papermill": {
     "duration": 0.058884,
     "end_time": "2024-06-26T02:54:38.962587",
     "exception": false,
     "start_time": "2024-06-26T02:54:38.903703",
     "status": "completed"
    },
    "tags": [
     "hide-input"
    ]
   },
   "outputs": [
    {
     "data": {
      "text/html": [
       "<div>\n",
       "<style scoped>\n",
       "    .dataframe tbody tr th:only-of-type {\n",
       "        vertical-align: middle;\n",
       "    }\n",
       "\n",
       "    .dataframe tbody tr th {\n",
       "        vertical-align: top;\n",
       "    }\n",
       "\n",
       "    .dataframe thead tr th {\n",
       "        text-align: left;\n",
       "    }\n",
       "\n",
       "    .dataframe thead tr:last-of-type th {\n",
       "        text-align: right;\n",
       "    }\n",
       "</style>\n",
       "<table border=\"1\" class=\"dataframe\">\n",
       "  <thead>\n",
       "    <tr>\n",
       "      <th></th>\n",
       "      <th>data</th>\n",
       "    </tr>\n",
       "    <tr>\n",
       "      <th></th>\n",
       "      <th>frequency</th>\n",
       "    </tr>\n",
       "    <tr>\n",
       "      <th>protein groups</th>\n",
       "      <th></th>\n",
       "    </tr>\n",
       "  </thead>\n",
       "  <tbody>\n",
       "    <tr>\n",
       "      <th>A0A024QZX5;A0A087X1N8;P35237</th>\n",
       "      <td>186</td>\n",
       "    </tr>\n",
       "    <tr>\n",
       "      <th>A0A024R0T9;K7ER74;P02655</th>\n",
       "      <td>195</td>\n",
       "    </tr>\n",
       "    <tr>\n",
       "      <th>A0A024R3W6;A0A024R412;O60462;O60462-2;O60462-3;O60462-4;O60462-5;Q7LBX6;X5D2Q8</th>\n",
       "      <td>174</td>\n",
       "    </tr>\n",
       "    <tr>\n",
       "      <th>A0A024R644;A0A0A0MRU5;A0A1B0GWI2;O75503</th>\n",
       "      <td>196</td>\n",
       "    </tr>\n",
       "    <tr>\n",
       "      <th>A0A075B6H7</th>\n",
       "      <td>91</td>\n",
       "    </tr>\n",
       "    <tr>\n",
       "      <th>...</th>\n",
       "      <td>...</td>\n",
       "    </tr>\n",
       "    <tr>\n",
       "      <th>Q9Y6R7</th>\n",
       "      <td>197</td>\n",
       "    </tr>\n",
       "    <tr>\n",
       "      <th>Q9Y6X5</th>\n",
       "      <td>173</td>\n",
       "    </tr>\n",
       "    <tr>\n",
       "      <th>Q9Y6Y8;Q9Y6Y8-2</th>\n",
       "      <td>197</td>\n",
       "    </tr>\n",
       "    <tr>\n",
       "      <th>Q9Y6Y9</th>\n",
       "      <td>119</td>\n",
       "    </tr>\n",
       "    <tr>\n",
       "      <th>S4R3U6</th>\n",
       "      <td>126</td>\n",
       "    </tr>\n",
       "  </tbody>\n",
       "</table>\n",
       "<p>1421 rows × 1 columns</p>\n",
       "</div>"
      ],
      "text/plain": [
       "                                                        data\n",
       "                                                   frequency\n",
       "protein groups                                              \n",
       "A0A024QZX5;A0A087X1N8;P35237                             186\n",
       "A0A024R0T9;K7ER74;P02655                                 195\n",
       "A0A024R3W6;A0A024R412;O60462;O60462-2;O60462-3;...       174\n",
       "A0A024R644;A0A0A0MRU5;A0A1B0GWI2;O75503                  196\n",
       "A0A075B6H7                                                91\n",
       "...                                                      ...\n",
       "Q9Y6R7                                                   197\n",
       "Q9Y6X5                                                   173\n",
       "Q9Y6Y8;Q9Y6Y8-2                                          197\n",
       "Q9Y6Y9                                                   119\n",
       "S4R3U6                                                   126\n",
       "\n",
       "[1421 rows x 1 columns]"
      ]
     },
     "execution_count": 14,
     "metadata": {},
     "output_type": "execute_result"
    }
   ],
   "source": [
    "freq_feat = pd.read_csv(args.freq_features_observed, index_col=0)\n",
    "freq_feat.columns = pd.MultiIndex.from_tuples([('data', 'frequency'),])\n",
    "freq_feat"
   ]
  },
  {
   "cell_type": "markdown",
   "id": "408eacfe-770f-42ff-9057-2a98274e1ae3",
   "metadata": {
    "papermill": {
     "duration": 0.027935,
     "end_time": "2024-06-26T02:54:39.031832",
     "exception": false,
     "start_time": "2024-06-26T02:54:39.003897",
     "status": "completed"
    },
    "tags": []
   },
   "source": [
    "## Compare shared features"
   ]
  },
  {
   "cell_type": "code",
   "execution_count": 15,
   "id": "5b2dfb0f-195b-4044-a228-2d784ea2a458",
   "metadata": {
    "execution": {
     "iopub.execute_input": "2024-06-26T02:54:39.101479Z",
     "iopub.status.busy": "2024-06-26T02:54:39.101121Z",
     "iopub.status.idle": "2024-06-26T02:54:39.148668Z",
     "shell.execute_reply": "2024-06-26T02:54:39.147895Z"
    },
    "papermill": {
     "duration": 0.078364,
     "end_time": "2024-06-26T02:54:39.150629",
     "exception": false,
     "start_time": "2024-06-26T02:54:39.072265",
     "status": "completed"
    },
    "tags": [
     "hide-input"
    ]
   },
   "outputs": [
    {
     "data": {
      "text/html": [
       "<div>\n",
       "<style scoped>\n",
       "    .dataframe tbody tr th:only-of-type {\n",
       "        vertical-align: middle;\n",
       "    }\n",
       "\n",
       "    .dataframe tbody tr th {\n",
       "        vertical-align: top;\n",
       "    }\n",
       "\n",
       "    .dataframe thead tr th {\n",
       "        text-align: left;\n",
       "    }\n",
       "\n",
       "    .dataframe thead tr:last-of-type th {\n",
       "        text-align: right;\n",
       "    }\n",
       "</style>\n",
       "<table border=\"1\" class=\"dataframe\">\n",
       "  <thead>\n",
       "    <tr>\n",
       "      <th></th>\n",
       "      <th colspan=\"4\" halign=\"left\">PI</th>\n",
       "      <th colspan=\"4\" halign=\"left\">VAE</th>\n",
       "      <th>data</th>\n",
       "    </tr>\n",
       "    <tr>\n",
       "      <th></th>\n",
       "      <th>p-unc</th>\n",
       "      <th>-Log10 pvalue</th>\n",
       "      <th>qvalue</th>\n",
       "      <th>rejected</th>\n",
       "      <th>p-unc</th>\n",
       "      <th>-Log10 pvalue</th>\n",
       "      <th>qvalue</th>\n",
       "      <th>rejected</th>\n",
       "      <th>frequency</th>\n",
       "    </tr>\n",
       "    <tr>\n",
       "      <th>protein groups</th>\n",
       "      <th></th>\n",
       "      <th></th>\n",
       "      <th></th>\n",
       "      <th></th>\n",
       "      <th></th>\n",
       "      <th></th>\n",
       "      <th></th>\n",
       "      <th></th>\n",
       "      <th></th>\n",
       "    </tr>\n",
       "  </thead>\n",
       "  <tbody>\n",
       "    <tr>\n",
       "      <th>A0A024QZX5;A0A087X1N8;P35237</th>\n",
       "      <td>0.365</td>\n",
       "      <td>0.438</td>\n",
       "      <td>0.526</td>\n",
       "      <td>False</td>\n",
       "      <td>0.007</td>\n",
       "      <td>2.127</td>\n",
       "      <td>0.021</td>\n",
       "      <td>True</td>\n",
       "      <td>186</td>\n",
       "    </tr>\n",
       "    <tr>\n",
       "      <th>A0A024R0T9;K7ER74;P02655</th>\n",
       "      <td>0.062</td>\n",
       "      <td>1.208</td>\n",
       "      <td>0.144</td>\n",
       "      <td>False</td>\n",
       "      <td>0.031</td>\n",
       "      <td>1.502</td>\n",
       "      <td>0.070</td>\n",
       "      <td>False</td>\n",
       "      <td>195</td>\n",
       "    </tr>\n",
       "    <tr>\n",
       "      <th>A0A024R3W6;A0A024R412;O60462;O60462-2;O60462-3;O60462-4;O60462-5;Q7LBX6;X5D2Q8</th>\n",
       "      <td>0.091</td>\n",
       "      <td>1.042</td>\n",
       "      <td>0.193</td>\n",
       "      <td>False</td>\n",
       "      <td>0.286</td>\n",
       "      <td>0.543</td>\n",
       "      <td>0.414</td>\n",
       "      <td>False</td>\n",
       "      <td>174</td>\n",
       "    </tr>\n",
       "    <tr>\n",
       "      <th>A0A024R644;A0A0A0MRU5;A0A1B0GWI2;O75503</th>\n",
       "      <td>0.421</td>\n",
       "      <td>0.375</td>\n",
       "      <td>0.580</td>\n",
       "      <td>False</td>\n",
       "      <td>0.262</td>\n",
       "      <td>0.582</td>\n",
       "      <td>0.388</td>\n",
       "      <td>False</td>\n",
       "      <td>196</td>\n",
       "    </tr>\n",
       "    <tr>\n",
       "      <th>A0A075B6H7</th>\n",
       "      <td>0.190</td>\n",
       "      <td>0.721</td>\n",
       "      <td>0.334</td>\n",
       "      <td>False</td>\n",
       "      <td>0.004</td>\n",
       "      <td>2.379</td>\n",
       "      <td>0.013</td>\n",
       "      <td>True</td>\n",
       "      <td>91</td>\n",
       "    </tr>\n",
       "    <tr>\n",
       "      <th>...</th>\n",
       "      <td>...</td>\n",
       "      <td>...</td>\n",
       "      <td>...</td>\n",
       "      <td>...</td>\n",
       "      <td>...</td>\n",
       "      <td>...</td>\n",
       "      <td>...</td>\n",
       "      <td>...</td>\n",
       "      <td>...</td>\n",
       "    </tr>\n",
       "    <tr>\n",
       "      <th>Q9Y6R7</th>\n",
       "      <td>0.175</td>\n",
       "      <td>0.756</td>\n",
       "      <td>0.315</td>\n",
       "      <td>False</td>\n",
       "      <td>0.175</td>\n",
       "      <td>0.756</td>\n",
       "      <td>0.282</td>\n",
       "      <td>False</td>\n",
       "      <td>197</td>\n",
       "    </tr>\n",
       "    <tr>\n",
       "      <th>Q9Y6X5</th>\n",
       "      <td>0.030</td>\n",
       "      <td>1.524</td>\n",
       "      <td>0.082</td>\n",
       "      <td>False</td>\n",
       "      <td>0.150</td>\n",
       "      <td>0.824</td>\n",
       "      <td>0.250</td>\n",
       "      <td>False</td>\n",
       "      <td>173</td>\n",
       "    </tr>\n",
       "    <tr>\n",
       "      <th>Q9Y6Y8;Q9Y6Y8-2</th>\n",
       "      <td>0.083</td>\n",
       "      <td>1.079</td>\n",
       "      <td>0.182</td>\n",
       "      <td>False</td>\n",
       "      <td>0.083</td>\n",
       "      <td>1.079</td>\n",
       "      <td>0.156</td>\n",
       "      <td>False</td>\n",
       "      <td>197</td>\n",
       "    </tr>\n",
       "    <tr>\n",
       "      <th>Q9Y6Y9</th>\n",
       "      <td>0.780</td>\n",
       "      <td>0.108</td>\n",
       "      <td>0.864</td>\n",
       "      <td>False</td>\n",
       "      <td>0.640</td>\n",
       "      <td>0.194</td>\n",
       "      <td>0.743</td>\n",
       "      <td>False</td>\n",
       "      <td>119</td>\n",
       "    </tr>\n",
       "    <tr>\n",
       "      <th>S4R3U6</th>\n",
       "      <td>0.591</td>\n",
       "      <td>0.228</td>\n",
       "      <td>0.723</td>\n",
       "      <td>False</td>\n",
       "      <td>0.071</td>\n",
       "      <td>1.147</td>\n",
       "      <td>0.138</td>\n",
       "      <td>False</td>\n",
       "      <td>126</td>\n",
       "    </tr>\n",
       "  </tbody>\n",
       "</table>\n",
       "<p>1421 rows × 9 columns</p>\n",
       "</div>"
      ],
      "text/plain": [
       "                                                      PI                       \\\n",
       "                                                   p-unc -Log10 pvalue qvalue   \n",
       "protein groups                                                                  \n",
       "A0A024QZX5;A0A087X1N8;P35237                       0.365         0.438  0.526   \n",
       "A0A024R0T9;K7ER74;P02655                           0.062         1.208  0.144   \n",
       "A0A024R3W6;A0A024R412;O60462;O60462-2;O60462-3;... 0.091         1.042  0.193   \n",
       "A0A024R644;A0A0A0MRU5;A0A1B0GWI2;O75503            0.421         0.375  0.580   \n",
       "A0A075B6H7                                         0.190         0.721  0.334   \n",
       "...                                                  ...           ...    ...   \n",
       "Q9Y6R7                                             0.175         0.756  0.315   \n",
       "Q9Y6X5                                             0.030         1.524  0.082   \n",
       "Q9Y6Y8;Q9Y6Y8-2                                    0.083         1.079  0.182   \n",
       "Q9Y6Y9                                             0.780         0.108  0.864   \n",
       "S4R3U6                                             0.591         0.228  0.723   \n",
       "\n",
       "                                                              VAE  \\\n",
       "                                                   rejected p-unc   \n",
       "protein groups                                                      \n",
       "A0A024QZX5;A0A087X1N8;P35237                          False 0.007   \n",
       "A0A024R0T9;K7ER74;P02655                              False 0.031   \n",
       "A0A024R3W6;A0A024R412;O60462;O60462-2;O60462-3;...    False 0.286   \n",
       "A0A024R644;A0A0A0MRU5;A0A1B0GWI2;O75503               False 0.262   \n",
       "A0A075B6H7                                            False 0.004   \n",
       "...                                                     ...   ...   \n",
       "Q9Y6R7                                                False 0.175   \n",
       "Q9Y6X5                                                False 0.150   \n",
       "Q9Y6Y8;Q9Y6Y8-2                                       False 0.083   \n",
       "Q9Y6Y9                                                False 0.640   \n",
       "S4R3U6                                                False 0.071   \n",
       "\n",
       "                                                                         \\\n",
       "                                                   -Log10 pvalue qvalue   \n",
       "protein groups                                                            \n",
       "A0A024QZX5;A0A087X1N8;P35237                               2.127  0.021   \n",
       "A0A024R0T9;K7ER74;P02655                                   1.502  0.070   \n",
       "A0A024R3W6;A0A024R412;O60462;O60462-2;O60462-3;...         0.543  0.414   \n",
       "A0A024R644;A0A0A0MRU5;A0A1B0GWI2;O75503                    0.582  0.388   \n",
       "A0A075B6H7                                                 2.379  0.013   \n",
       "...                                                          ...    ...   \n",
       "Q9Y6R7                                                     0.756  0.282   \n",
       "Q9Y6X5                                                     0.824  0.250   \n",
       "Q9Y6Y8;Q9Y6Y8-2                                            1.079  0.156   \n",
       "Q9Y6Y9                                                     0.194  0.743   \n",
       "S4R3U6                                                     1.147  0.138   \n",
       "\n",
       "                                                                 data  \n",
       "                                                   rejected frequency  \n",
       "protein groups                                                         \n",
       "A0A024QZX5;A0A087X1N8;P35237                           True       186  \n",
       "A0A024R0T9;K7ER74;P02655                              False       195  \n",
       "A0A024R3W6;A0A024R412;O60462;O60462-2;O60462-3;...    False       174  \n",
       "A0A024R644;A0A0A0MRU5;A0A1B0GWI2;O75503               False       196  \n",
       "A0A075B6H7                                             True        91  \n",
       "...                                                     ...       ...  \n",
       "Q9Y6R7                                                False       197  \n",
       "Q9Y6X5                                                False       173  \n",
       "Q9Y6Y8;Q9Y6Y8-2                                       False       197  \n",
       "Q9Y6Y9                                                False       119  \n",
       "S4R3U6                                                False       126  \n",
       "\n",
       "[1421 rows x 9 columns]"
      ]
     },
     "execution_count": 15,
     "metadata": {},
     "output_type": "execute_result"
    }
   ],
   "source": [
    "scores_common = (scores\n",
    "                 .dropna()\n",
    "                 .reset_index(-1, drop=True)\n",
    "                 ).join(\n",
    "    freq_feat, how='left'\n",
    ")\n",
    "scores_common"
   ]
  },
  {
   "cell_type": "markdown",
   "id": "62a9eefd",
   "metadata": {
    "papermill": {
     "duration": 0.036659,
     "end_time": "2024-06-26T02:54:39.212558",
     "exception": false,
     "start_time": "2024-06-26T02:54:39.175899",
     "status": "completed"
    },
    "tags": []
   },
   "source": [
    "### Annotate decisions in Confusion Table style:"
   ]
  },
  {
   "cell_type": "code",
   "execution_count": 16,
   "id": "80cf4145-070d-457a-bb74-ee64299809e7",
   "metadata": {
    "execution": {
     "iopub.execute_input": "2024-06-26T02:54:39.273339Z",
     "iopub.status.busy": "2024-06-26T02:54:39.272993Z",
     "iopub.status.idle": "2024-06-26T02:54:39.294581Z",
     "shell.execute_reply": "2024-06-26T02:54:39.293862Z"
    },
    "papermill": {
     "duration": 0.055551,
     "end_time": "2024-06-26T02:54:39.296608",
     "exception": false,
     "start_time": "2024-06-26T02:54:39.241057",
     "status": "completed"
    },
    "tags": [
     "hide-input"
    ]
   },
   "outputs": [
    {
     "data": {
      "text/plain": [
       "Differential Analysis Comparison\n",
       "PI (no)  - VAE (no)    884\n",
       "PI (yes) - VAE (yes)   329\n",
       "PI (no)  - VAE (yes)   148\n",
       "PI (yes) - VAE (no)     60\n",
       "Name: count, dtype: int64"
      ]
     },
     "execution_count": 16,
     "metadata": {},
     "output_type": "execute_result"
    }
   ],
   "source": [
    "def annotate_decision(scores, model, model_column):\n",
    "    return scores[(model_column, 'rejected')].replace({False: f'{model} (no) ', True: f'{model} (yes)'})\n",
    "\n",
    "\n",
    "annotations = None\n",
    "for model, model_column in models.items():\n",
    "    if annotations is not None:\n",
    "        annotations += ' - '\n",
    "        annotations += annotate_decision(scores_common,\n",
    "                                         model=model, model_column=model_column)\n",
    "    else:\n",
    "        annotations = annotate_decision(\n",
    "            scores_common, model=model, model_column=model_column)\n",
    "annotations.name = 'Differential Analysis Comparison'\n",
    "annotations.value_counts()"
   ]
  },
  {
   "cell_type": "markdown",
   "id": "0942d395",
   "metadata": {
    "papermill": {
     "duration": 0.031931,
     "end_time": "2024-06-26T02:54:39.366199",
     "exception": false,
     "start_time": "2024-06-26T02:54:39.334268",
     "status": "completed"
    },
    "tags": []
   },
   "source": [
    "### List different decisions between models"
   ]
  },
  {
   "cell_type": "code",
   "execution_count": 17,
   "id": "cda5ffa4-9a97-4a49-aaba-34e83ef7940a",
   "metadata": {
    "execution": {
     "iopub.execute_input": "2024-06-26T02:54:39.437454Z",
     "iopub.status.busy": "2024-06-26T02:54:39.437106Z",
     "iopub.status.idle": "2024-06-26T02:54:39.608509Z",
     "shell.execute_reply": "2024-06-26T02:54:39.607726Z"
    },
    "papermill": {
     "duration": 0.216016,
     "end_time": "2024-06-26T02:54:39.610721",
     "exception": false,
     "start_time": "2024-06-26T02:54:39.394705",
     "status": "completed"
    },
    "tags": [
     "hide-input"
    ]
   },
   "outputs": [
    {
     "name": "stderr",
     "output_type": "stream",
     "text": [
      "root - INFO     Writen to Excel file under sheet 'differences'.\n"
     ]
    },
    {
     "data": {
      "text/html": [
       "<div>\n",
       "<style scoped>\n",
       "    .dataframe tbody tr th:only-of-type {\n",
       "        vertical-align: middle;\n",
       "    }\n",
       "\n",
       "    .dataframe tbody tr th {\n",
       "        vertical-align: top;\n",
       "    }\n",
       "\n",
       "    .dataframe thead tr th {\n",
       "        text-align: left;\n",
       "    }\n",
       "\n",
       "    .dataframe thead tr:last-of-type th {\n",
       "        text-align: right;\n",
       "    }\n",
       "</style>\n",
       "<table border=\"1\" class=\"dataframe\">\n",
       "  <thead>\n",
       "    <tr>\n",
       "      <th></th>\n",
       "      <th colspan=\"4\" halign=\"left\">PI</th>\n",
       "      <th colspan=\"4\" halign=\"left\">VAE</th>\n",
       "      <th>data</th>\n",
       "    </tr>\n",
       "    <tr>\n",
       "      <th></th>\n",
       "      <th>p-unc</th>\n",
       "      <th>-Log10 pvalue</th>\n",
       "      <th>qvalue</th>\n",
       "      <th>rejected</th>\n",
       "      <th>p-unc</th>\n",
       "      <th>-Log10 pvalue</th>\n",
       "      <th>qvalue</th>\n",
       "      <th>rejected</th>\n",
       "      <th>frequency</th>\n",
       "    </tr>\n",
       "    <tr>\n",
       "      <th>protein groups</th>\n",
       "      <th></th>\n",
       "      <th></th>\n",
       "      <th></th>\n",
       "      <th></th>\n",
       "      <th></th>\n",
       "      <th></th>\n",
       "      <th></th>\n",
       "      <th></th>\n",
       "      <th></th>\n",
       "    </tr>\n",
       "  </thead>\n",
       "  <tbody>\n",
       "    <tr>\n",
       "      <th>A0A024QZX5;A0A087X1N8;P35237</th>\n",
       "      <td>0.365</td>\n",
       "      <td>0.438</td>\n",
       "      <td>0.526</td>\n",
       "      <td>False</td>\n",
       "      <td>0.007</td>\n",
       "      <td>2.127</td>\n",
       "      <td>0.021</td>\n",
       "      <td>True</td>\n",
       "      <td>186</td>\n",
       "    </tr>\n",
       "    <tr>\n",
       "      <th>A0A075B6H7</th>\n",
       "      <td>0.190</td>\n",
       "      <td>0.721</td>\n",
       "      <td>0.334</td>\n",
       "      <td>False</td>\n",
       "      <td>0.004</td>\n",
       "      <td>2.379</td>\n",
       "      <td>0.013</td>\n",
       "      <td>True</td>\n",
       "      <td>91</td>\n",
       "    </tr>\n",
       "    <tr>\n",
       "      <th>A0A075B6I0</th>\n",
       "      <td>0.026</td>\n",
       "      <td>1.584</td>\n",
       "      <td>0.074</td>\n",
       "      <td>False</td>\n",
       "      <td>0.001</td>\n",
       "      <td>3.189</td>\n",
       "      <td>0.002</td>\n",
       "      <td>True</td>\n",
       "      <td>194</td>\n",
       "    </tr>\n",
       "    <tr>\n",
       "      <th>A0A075B6J9</th>\n",
       "      <td>0.047</td>\n",
       "      <td>1.328</td>\n",
       "      <td>0.117</td>\n",
       "      <td>False</td>\n",
       "      <td>0.008</td>\n",
       "      <td>2.073</td>\n",
       "      <td>0.023</td>\n",
       "      <td>True</td>\n",
       "      <td>156</td>\n",
       "    </tr>\n",
       "    <tr>\n",
       "      <th>A0A075B6Q5</th>\n",
       "      <td>0.498</td>\n",
       "      <td>0.303</td>\n",
       "      <td>0.647</td>\n",
       "      <td>False</td>\n",
       "      <td>0.004</td>\n",
       "      <td>2.449</td>\n",
       "      <td>0.011</td>\n",
       "      <td>True</td>\n",
       "      <td>104</td>\n",
       "    </tr>\n",
       "    <tr>\n",
       "      <th>...</th>\n",
       "      <td>...</td>\n",
       "      <td>...</td>\n",
       "      <td>...</td>\n",
       "      <td>...</td>\n",
       "      <td>...</td>\n",
       "      <td>...</td>\n",
       "      <td>...</td>\n",
       "      <td>...</td>\n",
       "      <td>...</td>\n",
       "    </tr>\n",
       "    <tr>\n",
       "      <th>Q9UIB8;Q9UIB8-2;Q9UIB8-3;Q9UIB8-4;Q9UIB8-5;Q9UIB8-6</th>\n",
       "      <td>0.008</td>\n",
       "      <td>2.121</td>\n",
       "      <td>0.027</td>\n",
       "      <td>True</td>\n",
       "      <td>0.195</td>\n",
       "      <td>0.710</td>\n",
       "      <td>0.307</td>\n",
       "      <td>False</td>\n",
       "      <td>115</td>\n",
       "    </tr>\n",
       "    <tr>\n",
       "      <th>Q9UNW1</th>\n",
       "      <td>0.007</td>\n",
       "      <td>2.184</td>\n",
       "      <td>0.024</td>\n",
       "      <td>True</td>\n",
       "      <td>0.969</td>\n",
       "      <td>0.014</td>\n",
       "      <td>0.981</td>\n",
       "      <td>False</td>\n",
       "      <td>171</td>\n",
       "    </tr>\n",
       "    <tr>\n",
       "      <th>Q9UP79</th>\n",
       "      <td>0.274</td>\n",
       "      <td>0.563</td>\n",
       "      <td>0.435</td>\n",
       "      <td>False</td>\n",
       "      <td>0.000</td>\n",
       "      <td>4.890</td>\n",
       "      <td>0.000</td>\n",
       "      <td>True</td>\n",
       "      <td>135</td>\n",
       "    </tr>\n",
       "    <tr>\n",
       "      <th>Q9UQ52</th>\n",
       "      <td>0.100</td>\n",
       "      <td>1.000</td>\n",
       "      <td>0.209</td>\n",
       "      <td>False</td>\n",
       "      <td>0.000</td>\n",
       "      <td>3.336</td>\n",
       "      <td>0.002</td>\n",
       "      <td>True</td>\n",
       "      <td>188</td>\n",
       "    </tr>\n",
       "    <tr>\n",
       "      <th>Q9Y6C2</th>\n",
       "      <td>0.334</td>\n",
       "      <td>0.477</td>\n",
       "      <td>0.498</td>\n",
       "      <td>False</td>\n",
       "      <td>0.003</td>\n",
       "      <td>2.505</td>\n",
       "      <td>0.010</td>\n",
       "      <td>True</td>\n",
       "      <td>119</td>\n",
       "    </tr>\n",
       "  </tbody>\n",
       "</table>\n",
       "<p>208 rows × 9 columns</p>\n",
       "</div>"
      ],
      "text/plain": [
       "                                                      PI                       \\\n",
       "                                                   p-unc -Log10 pvalue qvalue   \n",
       "protein groups                                                                  \n",
       "A0A024QZX5;A0A087X1N8;P35237                       0.365         0.438  0.526   \n",
       "A0A075B6H7                                         0.190         0.721  0.334   \n",
       "A0A075B6I0                                         0.026         1.584  0.074   \n",
       "A0A075B6J9                                         0.047         1.328  0.117   \n",
       "A0A075B6Q5                                         0.498         0.303  0.647   \n",
       "...                                                  ...           ...    ...   \n",
       "Q9UIB8;Q9UIB8-2;Q9UIB8-3;Q9UIB8-4;Q9UIB8-5;Q9UI... 0.008         2.121  0.027   \n",
       "Q9UNW1                                             0.007         2.184  0.024   \n",
       "Q9UP79                                             0.274         0.563  0.435   \n",
       "Q9UQ52                                             0.100         1.000  0.209   \n",
       "Q9Y6C2                                             0.334         0.477  0.498   \n",
       "\n",
       "                                                              VAE  \\\n",
       "                                                   rejected p-unc   \n",
       "protein groups                                                      \n",
       "A0A024QZX5;A0A087X1N8;P35237                          False 0.007   \n",
       "A0A075B6H7                                            False 0.004   \n",
       "A0A075B6I0                                            False 0.001   \n",
       "A0A075B6J9                                            False 0.008   \n",
       "A0A075B6Q5                                            False 0.004   \n",
       "...                                                     ...   ...   \n",
       "Q9UIB8;Q9UIB8-2;Q9UIB8-3;Q9UIB8-4;Q9UIB8-5;Q9UI...     True 0.195   \n",
       "Q9UNW1                                                 True 0.969   \n",
       "Q9UP79                                                False 0.000   \n",
       "Q9UQ52                                                False 0.000   \n",
       "Q9Y6C2                                                False 0.003   \n",
       "\n",
       "                                                                         \\\n",
       "                                                   -Log10 pvalue qvalue   \n",
       "protein groups                                                            \n",
       "A0A024QZX5;A0A087X1N8;P35237                               2.127  0.021   \n",
       "A0A075B6H7                                                 2.379  0.013   \n",
       "A0A075B6I0                                                 3.189  0.002   \n",
       "A0A075B6J9                                                 2.073  0.023   \n",
       "A0A075B6Q5                                                 2.449  0.011   \n",
       "...                                                          ...    ...   \n",
       "Q9UIB8;Q9UIB8-2;Q9UIB8-3;Q9UIB8-4;Q9UIB8-5;Q9UI...         0.710  0.307   \n",
       "Q9UNW1                                                     0.014  0.981   \n",
       "Q9UP79                                                     4.890  0.000   \n",
       "Q9UQ52                                                     3.336  0.002   \n",
       "Q9Y6C2                                                     2.505  0.010   \n",
       "\n",
       "                                                                 data  \n",
       "                                                   rejected frequency  \n",
       "protein groups                                                         \n",
       "A0A024QZX5;A0A087X1N8;P35237                           True       186  \n",
       "A0A075B6H7                                             True        91  \n",
       "A0A075B6I0                                             True       194  \n",
       "A0A075B6J9                                             True       156  \n",
       "A0A075B6Q5                                             True       104  \n",
       "...                                                     ...       ...  \n",
       "Q9UIB8;Q9UIB8-2;Q9UIB8-3;Q9UIB8-4;Q9UIB8-5;Q9UI...    False       115  \n",
       "Q9UNW1                                                False       171  \n",
       "Q9UP79                                                 True       135  \n",
       "Q9UQ52                                                 True       188  \n",
       "Q9Y6C2                                                 True       119  \n",
       "\n",
       "[208 rows x 9 columns]"
      ]
     },
     "execution_count": 17,
     "metadata": {},
     "output_type": "execute_result"
    }
   ],
   "source": [
    "mask_different = (\n",
    "    (scores_common.loc[:, pd.IndexSlice[:, 'rejected']].any(axis=1))\n",
    "    & ~(scores_common.loc[:, pd.IndexSlice[:, 'rejected']].all(axis=1))\n",
    ")\n",
    "_to_write = scores_common.loc[mask_different]\n",
    "_to_write.to_excel(writer, 'differences', **writer_args)\n",
    "logger.info(\"Writen to Excel file under sheet 'differences'.\")\n",
    "_to_write"
   ]
  },
  {
   "cell_type": "markdown",
   "id": "e8832084",
   "metadata": {
    "papermill": {
     "duration": 0.038795,
     "end_time": "2024-06-26T02:54:39.679981",
     "exception": false,
     "start_time": "2024-06-26T02:54:39.641186",
     "status": "completed"
    },
    "tags": []
   },
   "source": [
    "## Plot qvalues of both models with annotated decisions\n",
    "\n",
    "Prepare data for plotting (qvalues)"
   ]
  },
  {
   "cell_type": "code",
   "execution_count": 18,
   "id": "5b2e5341-b054-40c3-b45a-44ae6ca46cfb",
   "metadata": {
    "execution": {
     "iopub.execute_input": "2024-06-26T02:54:39.769268Z",
     "iopub.status.busy": "2024-06-26T02:54:39.768909Z",
     "iopub.status.idle": "2024-06-26T02:54:39.808689Z",
     "shell.execute_reply": "2024-06-26T02:54:39.807894Z"
    },
    "papermill": {
     "duration": 0.101409,
     "end_time": "2024-06-26T02:54:39.810491",
     "exception": false,
     "start_time": "2024-06-26T02:54:39.709082",
     "status": "completed"
    },
    "tags": [
     "hide-input"
    ]
   },
   "outputs": [
    {
     "data": {
      "text/html": [
       "<div>\n",
       "<style scoped>\n",
       "    .dataframe tbody tr th:only-of-type {\n",
       "        vertical-align: middle;\n",
       "    }\n",
       "\n",
       "    .dataframe tbody tr th {\n",
       "        vertical-align: top;\n",
       "    }\n",
       "\n",
       "    .dataframe thead th {\n",
       "        text-align: right;\n",
       "    }\n",
       "</style>\n",
       "<table border=\"1\" class=\"dataframe\">\n",
       "  <thead>\n",
       "    <tr style=\"text-align: right;\">\n",
       "      <th></th>\n",
       "      <th>PI</th>\n",
       "      <th>VAE</th>\n",
       "      <th>frequency</th>\n",
       "      <th>Differential Analysis Comparison</th>\n",
       "    </tr>\n",
       "    <tr>\n",
       "      <th>protein groups</th>\n",
       "      <th></th>\n",
       "      <th></th>\n",
       "      <th></th>\n",
       "      <th></th>\n",
       "    </tr>\n",
       "  </thead>\n",
       "  <tbody>\n",
       "    <tr>\n",
       "      <th>A0A024QZX5;A0A087X1N8;P35237</th>\n",
       "      <td>0.526</td>\n",
       "      <td>0.021</td>\n",
       "      <td>186</td>\n",
       "      <td>PI (no)  - VAE (yes)</td>\n",
       "    </tr>\n",
       "    <tr>\n",
       "      <th>A0A024R0T9;K7ER74;P02655</th>\n",
       "      <td>0.144</td>\n",
       "      <td>0.070</td>\n",
       "      <td>195</td>\n",
       "      <td>PI (no)  - VAE (no)</td>\n",
       "    </tr>\n",
       "    <tr>\n",
       "      <th>A0A024R3W6;A0A024R412;O60462;O60462-2;O60462-3;O60462-4;O60462-5;Q7LBX6;X5D2Q8</th>\n",
       "      <td>0.193</td>\n",
       "      <td>0.414</td>\n",
       "      <td>174</td>\n",
       "      <td>PI (no)  - VAE (no)</td>\n",
       "    </tr>\n",
       "    <tr>\n",
       "      <th>A0A024R644;A0A0A0MRU5;A0A1B0GWI2;O75503</th>\n",
       "      <td>0.580</td>\n",
       "      <td>0.388</td>\n",
       "      <td>196</td>\n",
       "      <td>PI (no)  - VAE (no)</td>\n",
       "    </tr>\n",
       "    <tr>\n",
       "      <th>A0A075B6H7</th>\n",
       "      <td>0.334</td>\n",
       "      <td>0.013</td>\n",
       "      <td>91</td>\n",
       "      <td>PI (no)  - VAE (yes)</td>\n",
       "    </tr>\n",
       "    <tr>\n",
       "      <th>...</th>\n",
       "      <td>...</td>\n",
       "      <td>...</td>\n",
       "      <td>...</td>\n",
       "      <td>...</td>\n",
       "    </tr>\n",
       "    <tr>\n",
       "      <th>Q9Y6R7</th>\n",
       "      <td>0.315</td>\n",
       "      <td>0.282</td>\n",
       "      <td>197</td>\n",
       "      <td>PI (no)  - VAE (no)</td>\n",
       "    </tr>\n",
       "    <tr>\n",
       "      <th>Q9Y6X5</th>\n",
       "      <td>0.082</td>\n",
       "      <td>0.250</td>\n",
       "      <td>173</td>\n",
       "      <td>PI (no)  - VAE (no)</td>\n",
       "    </tr>\n",
       "    <tr>\n",
       "      <th>Q9Y6Y8;Q9Y6Y8-2</th>\n",
       "      <td>0.182</td>\n",
       "      <td>0.156</td>\n",
       "      <td>197</td>\n",
       "      <td>PI (no)  - VAE (no)</td>\n",
       "    </tr>\n",
       "    <tr>\n",
       "      <th>Q9Y6Y9</th>\n",
       "      <td>0.864</td>\n",
       "      <td>0.743</td>\n",
       "      <td>119</td>\n",
       "      <td>PI (no)  - VAE (no)</td>\n",
       "    </tr>\n",
       "    <tr>\n",
       "      <th>S4R3U6</th>\n",
       "      <td>0.723</td>\n",
       "      <td>0.138</td>\n",
       "      <td>126</td>\n",
       "      <td>PI (no)  - VAE (no)</td>\n",
       "    </tr>\n",
       "  </tbody>\n",
       "</table>\n",
       "<p>1421 rows × 4 columns</p>\n",
       "</div>"
      ],
      "text/plain": [
       "                                                      PI   VAE  frequency  \\\n",
       "protein groups                                                              \n",
       "A0A024QZX5;A0A087X1N8;P35237                       0.526 0.021        186   \n",
       "A0A024R0T9;K7ER74;P02655                           0.144 0.070        195   \n",
       "A0A024R3W6;A0A024R412;O60462;O60462-2;O60462-3;... 0.193 0.414        174   \n",
       "A0A024R644;A0A0A0MRU5;A0A1B0GWI2;O75503            0.580 0.388        196   \n",
       "A0A075B6H7                                         0.334 0.013         91   \n",
       "...                                                  ...   ...        ...   \n",
       "Q9Y6R7                                             0.315 0.282        197   \n",
       "Q9Y6X5                                             0.082 0.250        173   \n",
       "Q9Y6Y8;Q9Y6Y8-2                                    0.182 0.156        197   \n",
       "Q9Y6Y9                                             0.864 0.743        119   \n",
       "S4R3U6                                             0.723 0.138        126   \n",
       "\n",
       "                                                   Differential Analysis Comparison  \n",
       "protein groups                                                                       \n",
       "A0A024QZX5;A0A087X1N8;P35237                                   PI (no)  - VAE (yes)  \n",
       "A0A024R0T9;K7ER74;P02655                                       PI (no)  - VAE (no)   \n",
       "A0A024R3W6;A0A024R412;O60462;O60462-2;O60462-3;...             PI (no)  - VAE (no)   \n",
       "A0A024R644;A0A0A0MRU5;A0A1B0GWI2;O75503                        PI (no)  - VAE (no)   \n",
       "A0A075B6H7                                                     PI (no)  - VAE (yes)  \n",
       "...                                                                             ...  \n",
       "Q9Y6R7                                                         PI (no)  - VAE (no)   \n",
       "Q9Y6X5                                                         PI (no)  - VAE (no)   \n",
       "Q9Y6Y8;Q9Y6Y8-2                                                PI (no)  - VAE (no)   \n",
       "Q9Y6Y9                                                         PI (no)  - VAE (no)   \n",
       "S4R3U6                                                         PI (no)  - VAE (no)   \n",
       "\n",
       "[1421 rows x 4 columns]"
      ]
     },
     "execution_count": 18,
     "metadata": {},
     "output_type": "execute_result"
    }
   ],
   "source": [
    "var = 'qvalue'\n",
    "to_plot = [scores_common[v][var] for v in models.values()]\n",
    "for s, k in zip(to_plot, models.keys()):\n",
    "    s.name = k.replace('_', ' ')\n",
    "to_plot.append(scores_common['data'])\n",
    "to_plot.append(annotations)\n",
    "to_plot = pd.concat(to_plot, axis=1)\n",
    "to_plot"
   ]
  },
  {
   "cell_type": "markdown",
   "id": "c92517a4-8456-4663-b719-4abd997fbb1c",
   "metadata": {
    "papermill": {
     "duration": 0.03375,
     "end_time": "2024-06-26T02:54:39.894830",
     "exception": false,
     "start_time": "2024-06-26T02:54:39.861080",
     "status": "completed"
    },
    "tags": []
   },
   "source": [
    "List of features with the highest difference in qvalues"
   ]
  },
  {
   "cell_type": "code",
   "execution_count": 19,
   "id": "c7af4a70-aa43-4772-af00-d425f5ed249f",
   "metadata": {
    "execution": {
     "iopub.execute_input": "2024-06-26T02:54:39.978745Z",
     "iopub.status.busy": "2024-06-26T02:54:39.978396Z",
     "iopub.status.idle": "2024-06-26T02:54:40.002674Z",
     "shell.execute_reply": "2024-06-26T02:54:40.001914Z"
    },
    "papermill": {
     "duration": 0.064197,
     "end_time": "2024-06-26T02:54:40.004396",
     "exception": false,
     "start_time": "2024-06-26T02:54:39.940199",
     "status": "completed"
    },
    "tags": [
     "hide-input"
    ]
   },
   "outputs": [
    {
     "data": {
      "text/html": [
       "<div>\n",
       "<style scoped>\n",
       "    .dataframe tbody tr th:only-of-type {\n",
       "        vertical-align: middle;\n",
       "    }\n",
       "\n",
       "    .dataframe tbody tr th {\n",
       "        vertical-align: top;\n",
       "    }\n",
       "\n",
       "    .dataframe thead th {\n",
       "        text-align: right;\n",
       "    }\n",
       "</style>\n",
       "<table border=\"1\" class=\"dataframe\">\n",
       "  <thead>\n",
       "    <tr style=\"text-align: right;\">\n",
       "      <th></th>\n",
       "      <th>PI</th>\n",
       "      <th>VAE</th>\n",
       "      <th>frequency</th>\n",
       "      <th>Differential Analysis Comparison</th>\n",
       "      <th>diff_qvalue</th>\n",
       "    </tr>\n",
       "    <tr>\n",
       "      <th>protein groups</th>\n",
       "      <th></th>\n",
       "      <th></th>\n",
       "      <th></th>\n",
       "      <th></th>\n",
       "      <th></th>\n",
       "    </tr>\n",
       "  </thead>\n",
       "  <tbody>\n",
       "    <tr>\n",
       "      <th>Q9UNW1</th>\n",
       "      <td>0.024</td>\n",
       "      <td>0.981</td>\n",
       "      <td>171</td>\n",
       "      <td>PI (yes) - VAE (no)</td>\n",
       "      <td>0.957</td>\n",
       "    </tr>\n",
       "    <tr>\n",
       "      <th>P17931</th>\n",
       "      <td>0.973</td>\n",
       "      <td>0.020</td>\n",
       "      <td>174</td>\n",
       "      <td>PI (no)  - VAE (yes)</td>\n",
       "      <td>0.953</td>\n",
       "    </tr>\n",
       "    <tr>\n",
       "      <th>Q8NCH0</th>\n",
       "      <td>0.020</td>\n",
       "      <td>0.964</td>\n",
       "      <td>113</td>\n",
       "      <td>PI (yes) - VAE (no)</td>\n",
       "      <td>0.944</td>\n",
       "    </tr>\n",
       "    <tr>\n",
       "      <th>O60565</th>\n",
       "      <td>0.948</td>\n",
       "      <td>0.005</td>\n",
       "      <td>81</td>\n",
       "      <td>PI (no)  - VAE (yes)</td>\n",
       "      <td>0.943</td>\n",
       "    </tr>\n",
       "    <tr>\n",
       "      <th>A0A087WXE9;E9PQ70;Q6UXH9;Q6UXH9-2;Q6UXH9-3</th>\n",
       "      <td>0.965</td>\n",
       "      <td>0.039</td>\n",
       "      <td>108</td>\n",
       "      <td>PI (no)  - VAE (yes)</td>\n",
       "      <td>0.926</td>\n",
       "    </tr>\n",
       "    <tr>\n",
       "      <th>...</th>\n",
       "      <td>...</td>\n",
       "      <td>...</td>\n",
       "      <td>...</td>\n",
       "      <td>...</td>\n",
       "      <td>...</td>\n",
       "    </tr>\n",
       "    <tr>\n",
       "      <th>Q9NX62</th>\n",
       "      <td>0.056</td>\n",
       "      <td>0.045</td>\n",
       "      <td>197</td>\n",
       "      <td>PI (no)  - VAE (yes)</td>\n",
       "      <td>0.011</td>\n",
       "    </tr>\n",
       "    <tr>\n",
       "      <th>P00740;P00740-2</th>\n",
       "      <td>0.053</td>\n",
       "      <td>0.043</td>\n",
       "      <td>197</td>\n",
       "      <td>PI (no)  - VAE (yes)</td>\n",
       "      <td>0.010</td>\n",
       "    </tr>\n",
       "    <tr>\n",
       "      <th>K7ERG9;P00746</th>\n",
       "      <td>0.052</td>\n",
       "      <td>0.042</td>\n",
       "      <td>197</td>\n",
       "      <td>PI (no)  - VAE (yes)</td>\n",
       "      <td>0.010</td>\n",
       "    </tr>\n",
       "    <tr>\n",
       "      <th>K7ERI9;P02654</th>\n",
       "      <td>0.044</td>\n",
       "      <td>0.052</td>\n",
       "      <td>196</td>\n",
       "      <td>PI (yes) - VAE (no)</td>\n",
       "      <td>0.009</td>\n",
       "    </tr>\n",
       "    <tr>\n",
       "      <th>P09211</th>\n",
       "      <td>0.055</td>\n",
       "      <td>0.050</td>\n",
       "      <td>169</td>\n",
       "      <td>PI (no)  - VAE (yes)</td>\n",
       "      <td>0.005</td>\n",
       "    </tr>\n",
       "  </tbody>\n",
       "</table>\n",
       "<p>208 rows × 5 columns</p>\n",
       "</div>"
      ],
      "text/plain": [
       "                                              PI   VAE  frequency  \\\n",
       "protein groups                                                      \n",
       "Q9UNW1                                     0.024 0.981        171   \n",
       "P17931                                     0.973 0.020        174   \n",
       "Q8NCH0                                     0.020 0.964        113   \n",
       "O60565                                     0.948 0.005         81   \n",
       "A0A087WXE9;E9PQ70;Q6UXH9;Q6UXH9-2;Q6UXH9-3 0.965 0.039        108   \n",
       "...                                          ...   ...        ...   \n",
       "Q9NX62                                     0.056 0.045        197   \n",
       "P00740;P00740-2                            0.053 0.043        197   \n",
       "K7ERG9;P00746                              0.052 0.042        197   \n",
       "K7ERI9;P02654                              0.044 0.052        196   \n",
       "P09211                                     0.055 0.050        169   \n",
       "\n",
       "                                           Differential Analysis Comparison  \\\n",
       "protein groups                                                                \n",
       "Q9UNW1                                                 PI (yes) - VAE (no)    \n",
       "P17931                                                 PI (no)  - VAE (yes)   \n",
       "Q8NCH0                                                 PI (yes) - VAE (no)    \n",
       "O60565                                                 PI (no)  - VAE (yes)   \n",
       "A0A087WXE9;E9PQ70;Q6UXH9;Q6UXH9-2;Q6UXH9-3             PI (no)  - VAE (yes)   \n",
       "...                                                                     ...   \n",
       "Q9NX62                                                 PI (no)  - VAE (yes)   \n",
       "P00740;P00740-2                                        PI (no)  - VAE (yes)   \n",
       "K7ERG9;P00746                                          PI (no)  - VAE (yes)   \n",
       "K7ERI9;P02654                                          PI (yes) - VAE (no)    \n",
       "P09211                                                 PI (no)  - VAE (yes)   \n",
       "\n",
       "                                            diff_qvalue  \n",
       "protein groups                                           \n",
       "Q9UNW1                                            0.957  \n",
       "P17931                                            0.953  \n",
       "Q8NCH0                                            0.944  \n",
       "O60565                                            0.943  \n",
       "A0A087WXE9;E9PQ70;Q6UXH9;Q6UXH9-2;Q6UXH9-3        0.926  \n",
       "...                                                 ...  \n",
       "Q9NX62                                            0.011  \n",
       "P00740;P00740-2                                   0.010  \n",
       "K7ERG9;P00746                                     0.010  \n",
       "K7ERI9;P02654                                     0.009  \n",
       "P09211                                            0.005  \n",
       "\n",
       "[208 rows x 5 columns]"
      ]
     },
     "execution_count": 19,
     "metadata": {},
     "output_type": "execute_result"
    }
   ],
   "source": [
    "# should it be possible to run not only RSN?\n",
    "to_plot['diff_qvalue'] = (to_plot[str(args.baseline)] - to_plot[str(args.model_key)]).abs()\n",
    "to_plot.loc[mask_different].sort_values('diff_qvalue', ascending=False)"
   ]
  },
  {
   "cell_type": "markdown",
   "id": "e715954e-2d62-4cd9-b4b0-063524bca495",
   "metadata": {
    "papermill": {
     "duration": 0.040696,
     "end_time": "2024-06-26T02:54:40.073204",
     "exception": false,
     "start_time": "2024-06-26T02:54:40.032508",
     "status": "completed"
    },
    "tags": []
   },
   "source": [
    "### Differences plotted with created annotations"
   ]
  },
  {
   "cell_type": "code",
   "execution_count": 20,
   "id": "a20d356d-c397-4440-b70e-9d899aa200fd",
   "metadata": {
    "execution": {
     "iopub.execute_input": "2024-06-26T02:54:40.140427Z",
     "iopub.status.busy": "2024-06-26T02:54:40.140080Z",
     "iopub.status.idle": "2024-06-26T02:54:43.350491Z",
     "shell.execute_reply": "2024-06-26T02:54:43.349583Z"
    },
    "papermill": {
     "duration": 3.241932,
     "end_time": "2024-06-26T02:54:43.352692",
     "exception": false,
     "start_time": "2024-06-26T02:54:40.110760",
     "status": "completed"
    },
    "tags": [
     "hide-input"
    ]
   },
   "outputs": [
    {
     "name": "stderr",
     "output_type": "stream",
     "text": [
      "vaep.plotting - INFO     Saved Figures to runs/alzheimer_study/diff_analysis/AD/PI_vs_VAE/diff_analysis_comparision_1_VAE\n"
     ]
    },
    {
     "data": {
      "image/png": "[encoded data removed]",
      "text/plain": [
       "<Figure size 588x588 with 1 Axes>"
      ]
     },
     "metadata": {},
     "output_type": "display_data"
    }
   ],
   "source": [
    "figsize = (4, 4)\n",
    "size = 5\n",
    "fig, ax = plt.subplots(figsize=figsize)\n",
    "x_col = to_plot.columns[0]\n",
    "y_col = to_plot.columns[1]\n",
    "ax = sns.scatterplot(data=to_plot,\n",
    "                     x=x_col,\n",
    "                     y=y_col,\n",
    "                     s=size,\n",
    "                     hue='Differential Analysis Comparison',\n",
    "                     ax=ax)\n",
    "_ = ax.legend(fontsize=fontsize,\n",
    "              title_fontsize=fontsize,\n",
    "              markerscale=0.4,\n",
    "              title='',\n",
    "              )\n",
    "ax.set_xlabel(f\"qvalue for {x_col}\")\n",
    "ax.set_ylabel(f\"qvalue for {y_col}\")\n",
    "ax.hlines(0.05, 0, 1, color='grey', linestyles='dotted')\n",
    "ax.vlines(0.05, 0, 1, color='grey', linestyles='dotted')\n",
    "sns.move_legend(ax, \"upper right\")\n",
    "files_out[f'diff_analysis_comparision_1_{args.model_key}'] = (\n",
    "    args.out_folder /\n",
    "    f'diff_analysis_comparision_1_{args.model_key}')\n",
    "fname = files_out[f'diff_analysis_comparision_1_{args.model_key}']\n",
    "vaep.savefig(fig, name=fname)"
   ]
  },
  {
   "cell_type": "markdown",
   "id": "d8849c76-c5f6-4618-87c0-f2635dc9ac66",
   "metadata": {
    "papermill": {
     "duration": 0.035196,
     "end_time": "2024-06-26T02:54:43.429209",
     "exception": false,
     "start_time": "2024-06-26T02:54:43.394013",
     "status": "completed"
    },
    "tags": []
   },
   "source": [
    "- also showing how many features were measured (\"observed\") by size of circle"
   ]
  },
  {
   "cell_type": "code",
   "execution_count": 21,
   "id": "1cf258f8-9dcb-40bb-af66-b600f8d413f6",
   "metadata": {
    "execution": {
     "iopub.execute_input": "2024-06-26T02:54:43.509075Z",
     "iopub.status.busy": "2024-06-26T02:54:43.508290Z",
     "iopub.status.idle": "2024-06-26T02:54:46.110448Z",
     "shell.execute_reply": "2024-06-26T02:54:46.109556Z"
    },
    "papermill": {
     "duration": 2.638674,
     "end_time": "2024-06-26T02:54:46.112474",
     "exception": false,
     "start_time": "2024-06-26T02:54:43.473800",
     "status": "completed"
    },
    "tags": [
     "hide-input"
    ]
   },
   "outputs": [
    {
     "name": "stderr",
     "output_type": "stream",
     "text": [
      "vaep.plotting - INFO     Saved Figures to runs/alzheimer_study/diff_analysis/AD/PI_vs_VAE/diff_analysis_comparision_2_VAE\n"
     ]
    },
    {
     "data": {
      "image/png": "[encoded data removed]",
      "text/plain": [
       "<Figure size 588x588 with 1 Axes>"
      ]
     },
     "metadata": {},
     "output_type": "display_data"
    }
   ],
   "source": [
    "fig, ax = plt.subplots(figsize=figsize)\n",
    "ax = sns.scatterplot(data=to_plot,\n",
    "                     x=to_plot.columns[0],\n",
    "                     y=to_plot.columns[1],\n",
    "                     size='frequency',\n",
    "                     s=size,\n",
    "                     sizes=(5, 20),\n",
    "                     hue='Differential Analysis Comparison')\n",
    "_ = ax.legend(fontsize=fontsize,\n",
    "              title_fontsize=fontsize,\n",
    "              markerscale=0.6,\n",
    "              title='',\n",
    "              )\n",
    "ax.set_xlabel(f\"qvalue for {x_col}\")\n",
    "ax.set_ylabel(f\"qvalue for {y_col}\")\n",
    "ax.hlines(0.05, 0, 1, color='grey', linestyles='dotted')\n",
    "ax.vlines(0.05, 0, 1, color='grey', linestyles='dotted')\n",
    "sns.move_legend(ax, \"upper right\")\n",
    "files_out[f'diff_analysis_comparision_2_{args.model_key}'] = (\n",
    "    args.out_folder / f'diff_analysis_comparision_2_{args.model_key}')\n",
    "vaep.savefig(\n",
    "    fig, name=files_out[f'diff_analysis_comparision_2_{args.model_key}'])"
   ]
  },
  {
   "cell_type": "markdown",
   "id": "1fee3a21-d8b3-40c6-aea2-4774dfe855ca",
   "metadata": {
    "papermill": {
     "duration": 0.020257,
     "end_time": "2024-06-26T02:54:46.156401",
     "exception": false,
     "start_time": "2024-06-26T02:54:46.136144",
     "status": "completed"
    },
    "tags": []
   },
   "source": [
    "## Only features contained in model\n",
    "- this block exist due to a specific part in the ALD analysis of the paper"
   ]
  },
  {
   "cell_type": "code",
   "execution_count": 22,
   "id": "c4e23a01-fd37-4496-a518-445a9ef38db1",
   "metadata": {
    "execution": {
     "iopub.execute_input": "2024-06-26T02:54:46.204266Z",
     "iopub.status.busy": "2024-06-26T02:54:46.203427Z",
     "iopub.status.idle": "2024-06-26T02:54:46.211842Z",
     "shell.execute_reply": "2024-06-26T02:54:46.211119Z"
    },
    "papermill": {
     "duration": 0.036847,
     "end_time": "2024-06-26T02:54:46.215912",
     "exception": false,
     "start_time": "2024-06-26T02:54:46.179065",
     "status": "completed"
    },
    "tags": [
     "hide-input"
    ]
   },
   "outputs": [
    {
     "name": "stderr",
     "output_type": "stream",
     "text": [
      "root - INFO     No features only in new comparision model.\n"
     ]
    }
   ],
   "source": [
    "scores_model_only = scores.reset_index(level=-1, drop=True)\n",
    "_diff = scores_model_only.index.difference(scores_common.index)\n",
    "if not _diff.empty:\n",
    "    scores_model_only = (scores_model_only\n",
    "                         .loc[\n",
    "                             _diff,\n",
    "                             args.model_key]\n",
    "                         .sort_values(by='qvalue', ascending=True)\n",
    "                         .join(freq_feat.squeeze().rename(freq_feat.columns.droplevel()[0])\n",
    "                               )\n",
    "                         )\n",
    "    display(scores_model_only)\n",
    "else:\n",
    "    scores_model_only = None\n",
    "    logger.info(\"No features only in new comparision model.\")\n",
    "\n",
    "if not _diff.empty:\n",
    "    scores_model_only.to_excel(writer, 'only_model', **writer_args)\n",
    "    display(scores_model_only.rejected.value_counts())\n",
    "    scores_model_only_rejected = scores_model_only.loc[scores_model_only.rejected]\n",
    "    scores_model_only_rejected.to_excel(\n",
    "        writer, 'only_model_rejected', **writer_args)"
   ]
  },
  {
   "cell_type": "markdown",
   "id": "78b2c336",
   "metadata": {
    "papermill": {
     "duration": 0.023004,
     "end_time": "2024-06-26T02:54:46.262550",
     "exception": false,
     "start_time": "2024-06-26T02:54:46.239546",
     "status": "completed"
    },
    "tags": []
   },
   "source": [
    "## DISEASES DB lookup\n",
    "\n",
    "Query diseases database for gene associations with specified disease ontology id."
   ]
  },
  {
   "cell_type": "code",
   "execution_count": 23,
   "id": "d93a9242-0ef4-4fc7-bd98-226a93639f58",
   "metadata": {
    "execution": {
     "iopub.execute_input": "2024-06-26T02:54:46.319035Z",
     "iopub.status.busy": "2024-06-26T02:54:46.318677Z",
     "iopub.status.idle": "2024-06-26T02:54:47.000689Z",
     "shell.execute_reply": "2024-06-26T02:54:46.999901Z"
    },
    "papermill": {
     "duration": 0.717022,
     "end_time": "2024-06-26T02:54:47.002708",
     "exception": false,
     "start_time": "2024-06-26T02:54:46.285686",
     "status": "completed"
    },
    "tags": [
     "hide-input"
    ]
   },
   "outputs": [
    {
     "data": {
      "text/html": [
       "<div>\n",
       "<style scoped>\n",
       "    .dataframe tbody tr th:only-of-type {\n",
       "        vertical-align: middle;\n",
       "    }\n",
       "\n",
       "    .dataframe tbody tr th {\n",
       "        vertical-align: top;\n",
       "    }\n",
       "\n",
       "    .dataframe thead th {\n",
       "        text-align: right;\n",
       "    }\n",
       "</style>\n",
       "<table border=\"1\" class=\"dataframe\">\n",
       "  <thead>\n",
       "    <tr style=\"text-align: right;\">\n",
       "      <th></th>\n",
       "      <th>ENSP</th>\n",
       "      <th>score</th>\n",
       "    </tr>\n",
       "    <tr>\n",
       "      <th>None</th>\n",
       "      <th></th>\n",
       "      <th></th>\n",
       "    </tr>\n",
       "  </thead>\n",
       "  <tbody>\n",
       "    <tr>\n",
       "      <th>PSEN2</th>\n",
       "      <td>ENSP00000355747</td>\n",
       "      <td>5.000</td>\n",
       "    </tr>\n",
       "    <tr>\n",
       "      <th>APOE</th>\n",
       "      <td>ENSP00000252486</td>\n",
       "      <td>5.000</td>\n",
       "    </tr>\n",
       "    <tr>\n",
       "      <th>PSEN1</th>\n",
       "      <td>ENSP00000326366</td>\n",
       "      <td>5.000</td>\n",
       "    </tr>\n",
       "    <tr>\n",
       "      <th>APP</th>\n",
       "      <td>ENSP00000284981</td>\n",
       "      <td>5.000</td>\n",
       "    </tr>\n",
       "    <tr>\n",
       "      <th>CLU</th>\n",
       "      <td>ENSP00000315130</td>\n",
       "      <td>4.263</td>\n",
       "    </tr>\n",
       "    <tr>\n",
       "      <th>...</th>\n",
       "      <td>...</td>\n",
       "      <td>...</td>\n",
       "    </tr>\n",
       "    <tr>\n",
       "      <th>HBS1L</th>\n",
       "      <td>ENSP00000356811</td>\n",
       "      <td>0.508</td>\n",
       "    </tr>\n",
       "    <tr>\n",
       "      <th>SMAD9</th>\n",
       "      <td>ENSP00000369154</td>\n",
       "      <td>0.506</td>\n",
       "    </tr>\n",
       "    <tr>\n",
       "      <th>ANKRD11</th>\n",
       "      <td>ENSP00000301030</td>\n",
       "      <td>0.506</td>\n",
       "    </tr>\n",
       "    <tr>\n",
       "      <th>TPPP</th>\n",
       "      <td>ENSP00000353785</td>\n",
       "      <td>0.505</td>\n",
       "    </tr>\n",
       "    <tr>\n",
       "      <th>NODAL</th>\n",
       "      <td>ENSP00000287139</td>\n",
       "      <td>0.504</td>\n",
       "    </tr>\n",
       "  </tbody>\n",
       "</table>\n",
       "<p>328 rows × 2 columns</p>\n",
       "</div>"
      ],
      "text/plain": [
       "                    ENSP  score\n",
       "None                           \n",
       "PSEN2    ENSP00000355747  5.000\n",
       "APOE     ENSP00000252486  5.000\n",
       "PSEN1    ENSP00000326366  5.000\n",
       "APP      ENSP00000284981  5.000\n",
       "CLU      ENSP00000315130  4.263\n",
       "...                  ...    ...\n",
       "HBS1L    ENSP00000356811  0.508\n",
       "SMAD9    ENSP00000369154  0.506\n",
       "ANKRD11  ENSP00000301030  0.506\n",
       "TPPP     ENSP00000353785  0.505\n",
       "NODAL    ENSP00000287139  0.504\n",
       "\n",
       "[328 rows x 2 columns]"
      ]
     },
     "execution_count": 23,
     "metadata": {},
     "output_type": "execute_result"
    }
   ],
   "source": [
    "data = vaep.databases.diseases.get_disease_association(\n",
    "    doid=args.disease_ontology, limit=10000)\n",
    "data = pd.DataFrame.from_dict(data, orient='index').rename_axis('ENSP', axis=0)\n",
    "data = data.rename(columns={'name': args.annotaitons_gene_col}).reset_index(\n",
    ").set_index(args.annotaitons_gene_col)\n",
    "data"
   ]
  },
  {
   "cell_type": "markdown",
   "id": "efe22443-2613-46ad-83c2-41048e13dd57",
   "metadata": {
    "papermill": {
     "duration": 0.071176,
     "end_time": "2024-06-26T02:54:47.121871",
     "exception": false,
     "start_time": "2024-06-26T02:54:47.050695",
     "status": "completed"
    },
    "tags": []
   },
   "source": [
    "## Shared features\n",
    "ToDo: new script -> DISEASES DB lookup"
   ]
  },
  {
   "cell_type": "code",
   "execution_count": null,
   "id": "5c26415e",
   "metadata": {
    "papermill": {
     "duration": 0.05589,
     "end_time": "2024-06-26T02:54:47.263790",
     "exception": false,
     "start_time": "2024-06-26T02:54:47.207900",
     "status": "completed"
    },
    "tags": [
     "hide-input"
    ]
   },
   "outputs": [],
   "source": []
  },
  {
   "cell_type": "code",
   "execution_count": 24,
   "id": "b68b43df",
   "metadata": {
    "execution": {
     "iopub.execute_input": "2024-06-26T02:54:47.418483Z",
     "iopub.status.busy": "2024-06-26T02:54:47.418119Z",
     "iopub.status.idle": "2024-06-26T02:54:47.425954Z",
     "shell.execute_reply": "2024-06-26T02:54:47.425041Z"
    },
    "papermill": {
     "duration": 0.066419,
     "end_time": "2024-06-26T02:54:47.427063",
     "exception": true,
     "start_time": "2024-06-26T02:54:47.360644",
     "status": "failed"
    },
    "tags": [
     "hide-input"
    ]
   },
   "outputs": [
    {
     "name": "stderr",
     "output_type": "stream",
     "text": [
      "root - INFO     No gene annotation in scores index:  ['protein groups', 'Source'] Exiting.\n"
     ]
    },
    {
     "ename": "SystemExit",
     "evalue": "0",
     "output_type": "error",
     "traceback": [
      "An exception has occurred, use %tb to see the full traceback.\n",
      "\u001b[0;31mSystemExit\u001b[0m\u001b[0;31m:\u001b[0m 0\n"
     ]
    },
    {
     "name": "stderr",
     "output_type": "stream",
     "text": [
      "/usr/share/miniconda3/envs/vaep/lib/python3.8/site-packages/IPython/core/interactiveshell.py:3516: UserWarning: To exit: use 'exit', 'quit', or Ctrl-D.\n",
      "  warn(\"To exit: use 'exit', 'quit', or Ctrl-D.\", stacklevel=1)\n"
     ]
    }
   ],
   "source": [
    "feat_name = scores.index.names[0]  # first index level is feature name\n",
    "if args.annotaitons_gene_col in scores.index.names:\n",
    "    logger.info(f\"Found gene annotation in scores index:  {scores.index.names}\")\n",
    "else:\n",
    "    logger.info(f\"No gene annotation in scores index:  {scores.index.names}\"\n",
    "                \" Exiting.\")\n",
    "    import sys\n",
    "    sys.exit(0)"
   ]
  },
  {
   "cell_type": "code",
   "execution_count": null,
   "id": "f8d4a74d-5a9b-4d9b-9345-4288bb23e19f",
   "metadata": {
    "papermill": {
     "duration": null,
     "end_time": null,
     "exception": null,
     "start_time": null,
     "status": "pending"
    },
    "tags": [
     "hide-input"
    ]
   },
   "outputs": [],
   "source": [
    "gene_to_PG = (scores.droplevel(\n",
    "    list(set(scores.index.names) - {feat_name, args.annotaitons_gene_col})\n",
    ")\n",
    "    .index\n",
    "    .to_frame()\n",
    "    .reset_index(drop=True)\n",
    "    .set_index(args.annotaitons_gene_col)\n",
    ")\n",
    "gene_to_PG.head()"
   ]
  },
  {
   "cell_type": "code",
   "execution_count": null,
   "id": "d9e76def-b48a-458d-a90b-765e6e70f7a4",
   "metadata": {
    "papermill": {
     "duration": null,
     "end_time": null,
     "exception": null,
     "start_time": null,
     "status": "pending"
    },
    "tags": [
     "hide-input"
    ]
   },
   "outputs": [],
   "source": [
    "disease_associations_all = data.join(\n",
    "    gene_to_PG).dropna().reset_index().set_index(feat_name).join(annotations)\n",
    "disease_associations_all"
   ]
  },
  {
   "cell_type": "markdown",
   "id": "217972a3-ba4a-4f28-ab8f-25dc0f5e9ede",
   "metadata": {
    "papermill": {
     "duration": null,
     "end_time": null,
     "exception": null,
     "start_time": null,
     "status": "pending"
    },
    "tags": []
   },
   "source": [
    "## only by model"
   ]
  },
  {
   "cell_type": "code",
   "execution_count": null,
   "id": "8e9d6944-87ba-4c41-af14-fb5ed93262f0",
   "metadata": {
    "papermill": {
     "duration": null,
     "end_time": null,
     "exception": null,
     "start_time": null,
     "status": "pending"
    },
    "tags": [
     "hide-input"
    ]
   },
   "outputs": [],
   "source": [
    "idx = disease_associations_all.index.intersection(scores_model_only.index)\n",
    "disease_assocications_new = disease_associations_all.loc[idx].sort_values(\n",
    "    'score', ascending=False)\n",
    "disease_assocications_new.head(20)"
   ]
  },
  {
   "cell_type": "code",
   "execution_count": null,
   "id": "ceefc483-b889-4bab-b207-c8d5fd97fa4a",
   "metadata": {
    "papermill": {
     "duration": null,
     "end_time": null,
     "exception": null,
     "start_time": null,
     "status": "pending"
    },
    "tags": [
     "hide-input"
    ]
   },
   "outputs": [],
   "source": [
    "mask = disease_assocications_new.loc[idx, 'score'] >= 2.0\n",
    "disease_assocications_new.loc[idx].loc[mask]"
   ]
  },
  {
   "cell_type": "markdown",
   "id": "f85eede2-7b61-4285-ba8c-745f77f6ab22",
   "metadata": {
    "papermill": {
     "duration": null,
     "end_time": null,
     "exception": null,
     "start_time": null,
     "status": "pending"
    },
    "tags": []
   },
   "source": [
    "## Only by model which were significant"
   ]
  },
  {
   "cell_type": "code",
   "execution_count": null,
   "id": "4644759b-8cc2-4f99-a16c-16419cfb915c",
   "metadata": {
    "papermill": {
     "duration": null,
     "end_time": null,
     "exception": null,
     "start_time": null,
     "status": "pending"
    },
    "tags": [
     "hide-input"
    ]
   },
   "outputs": [],
   "source": [
    "idx = disease_associations_all.index.intersection(\n",
    "    scores_model_only_rejected.index)\n",
    "disease_assocications_new_rejected = disease_associations_all.loc[idx].sort_values(\n",
    "    'score', ascending=False)\n",
    "disease_assocications_new_rejected.head(20)"
   ]
  },
  {
   "cell_type": "code",
   "execution_count": null,
   "id": "365d8641-97a8-464f-b69b-270af9ae6e2d",
   "metadata": {
    "papermill": {
     "duration": null,
     "end_time": null,
     "exception": null,
     "start_time": null,
     "status": "pending"
    },
    "tags": [
     "hide-input"
    ]
   },
   "outputs": [],
   "source": [
    "mask = disease_assocications_new_rejected.loc[idx, 'score'] >= 2.0\n",
    "disease_assocications_new_rejected.loc[idx].loc[mask]"
   ]
  },
  {
   "cell_type": "markdown",
   "id": "4f22614b-e058-4e35-b8a9-141c291a93bc",
   "metadata": {
    "papermill": {
     "duration": null,
     "end_time": null,
     "exception": null,
     "start_time": null,
     "status": "pending"
    },
    "tags": []
   },
   "source": [
    "## Shared which are only significant for by model"
   ]
  },
  {
   "cell_type": "code",
   "execution_count": null,
   "id": "82eb2ba8-4fe7-431d-8095-5be43f7791b7",
   "metadata": {
    "papermill": {
     "duration": null,
     "end_time": null,
     "exception": null,
     "start_time": null,
     "status": "pending"
    },
    "tags": []
   },
   "outputs": [],
   "source": [
    "mask = (scores_common[(str(args.model_key), 'rejected')] & mask_different)\n",
    "mask.sum()"
   ]
  },
  {
   "cell_type": "code",
   "execution_count": null,
   "id": "6416d494-5f3e-4cf4-b766-b1f95e40ae1c",
   "metadata": {
    "papermill": {
     "duration": null,
     "end_time": null,
     "exception": null,
     "start_time": null,
     "status": "pending"
    },
    "tags": [
     "hide-input"
    ]
   },
   "outputs": [],
   "source": [
    "idx = disease_associations_all.index.intersection(mask.index[mask])\n",
    "disease_assocications_shared_rejected_by_model = (disease_associations_all.loc[idx].sort_values(\n",
    "    'score', ascending=False))\n",
    "disease_assocications_shared_rejected_by_model.head(20)"
   ]
  },
  {
   "cell_type": "code",
   "execution_count": null,
   "id": "10899e28-4aee-4d44-a542-e45be6699a1b",
   "metadata": {
    "papermill": {
     "duration": null,
     "end_time": null,
     "exception": null,
     "start_time": null,
     "status": "pending"
    },
    "tags": [
     "hide-input"
    ]
   },
   "outputs": [],
   "source": [
    "mask = disease_assocications_shared_rejected_by_model.loc[idx, 'score'] >= 2.0\n",
    "disease_assocications_shared_rejected_by_model.loc[idx].loc[mask]"
   ]
  },
  {
   "cell_type": "markdown",
   "id": "b6c082ea-7d92-4296-8ec9-d279509142a3",
   "metadata": {
    "papermill": {
     "duration": null,
     "end_time": null,
     "exception": null,
     "start_time": null,
     "status": "pending"
    },
    "tags": []
   },
   "source": [
    "## Only significant by RSN"
   ]
  },
  {
   "cell_type": "code",
   "execution_count": null,
   "id": "c59aae50-6877-47cc-99f6-646862d29121",
   "metadata": {
    "papermill": {
     "duration": null,
     "end_time": null,
     "exception": null,
     "start_time": null,
     "status": "pending"
    },
    "tags": []
   },
   "outputs": [],
   "source": [
    "mask = (scores_common[(str(args.baseline), 'rejected')] & mask_different)\n",
    "mask.sum()"
   ]
  },
  {
   "cell_type": "code",
   "execution_count": null,
   "id": "7780de55-c63b-4028-a6d0-58bce7be81da",
   "metadata": {
    "papermill": {
     "duration": null,
     "end_time": null,
     "exception": null,
     "start_time": null,
     "status": "pending"
    },
    "tags": [
     "hide-input"
    ]
   },
   "outputs": [],
   "source": [
    "idx = disease_associations_all.index.intersection(mask.index[mask])\n",
    "disease_assocications_shared_rejected_by_RSN = (\n",
    "    disease_associations_all\n",
    "    .loc[idx]\n",
    "    .sort_values('score', ascending=False))\n",
    "disease_assocications_shared_rejected_by_RSN.head(20)"
   ]
  },
  {
   "cell_type": "code",
   "execution_count": null,
   "id": "03115c8f-1f20-4b51-a78c-4d7c0317dc33",
   "metadata": {
    "papermill": {
     "duration": null,
     "end_time": null,
     "exception": null,
     "start_time": null,
     "status": "pending"
    },
    "tags": [
     "hide-input"
    ]
   },
   "outputs": [],
   "source": [
    "mask = disease_assocications_shared_rejected_by_RSN.loc[idx, 'score'] >= 2.0\n",
    "disease_assocications_shared_rejected_by_RSN.loc[idx].loc[mask]"
   ]
  },
  {
   "cell_type": "markdown",
   "id": "9d72708d-ad27-435b-b672-7dfe35283601",
   "metadata": {
    "papermill": {
     "duration": null,
     "end_time": null,
     "exception": null,
     "start_time": null,
     "status": "pending"
    },
    "tags": []
   },
   "source": [
    "## Write to excel"
   ]
  },
  {
   "cell_type": "code",
   "execution_count": null,
   "id": "91e7fbb7-69fd-4b4c-9bc2-40e8dd1907b3",
   "metadata": {
    "papermill": {
     "duration": null,
     "end_time": null,
     "exception": null,
     "start_time": null,
     "status": "pending"
    },
    "tags": [
     "hide-input"
    ]
   },
   "outputs": [],
   "source": [
    "disease_associations_all.to_excel(\n",
    "    writer, sheet_name='disease_assoc_all', **writer_args)\n",
    "disease_assocications_new.to_excel(\n",
    "    writer, sheet_name='disease_assoc_new', **writer_args)\n",
    "disease_assocications_new_rejected.to_excel(\n",
    "    writer, sheet_name='disease_assoc_new_rejected', **writer_args)"
   ]
  },
  {
   "cell_type": "markdown",
   "id": "52a42028-7e2d-47d5-be02-52f7ff1f3665",
   "metadata": {
    "papermill": {
     "duration": null,
     "end_time": null,
     "exception": null,
     "start_time": null,
     "status": "pending"
    },
    "tags": []
   },
   "source": [
    "## Outputs"
   ]
  },
  {
   "cell_type": "code",
   "execution_count": null,
   "id": "7f3a7433-3bf1-4168-8f16-eb6d415ef17f",
   "metadata": {
    "papermill": {
     "duration": null,
     "end_time": null,
     "exception": null,
     "start_time": null,
     "status": "pending"
    },
    "tags": [
     "hide-input"
    ]
   },
   "outputs": [],
   "source": [
    "writer.close()\n",
    "files_out"
   ]
  }
 ],
 "metadata": {
  "kernelspec": {
   "display_name": "Python 3",
   "language": "python",
   "name": "python3"
  },
  "language_info": {
   "codemirror_mode": {
    "name": "ipython",
    "version": 3
   },
   "file_extension": ".py",
   "mimetype": "text/x-python",
   "name": "python",
   "nbconvert_exporter": "python",
   "pygments_lexer": "ipython3",
   "version": "3.8.19"
  },
  "papermill": {
   "default_parameters": {},
   "duration": 16.772142,
   "end_time": "2024-06-26T02:54:49.024278",
   "environment_variables": {},
   "exception": true,
   "input_path": "10_2_ald_compare_methods.ipynb",
   "output_path": "runs/alzheimer_study/diff_analysis/AD/PI_vs_VAE/10_2_ald_compare_methods.ipynb",
   "parameters": {
    "annotaitons_gene_col": "None",
    "baseline": "PI",
    "disease_ontology": 10652,
    "folder_experiment": "runs/alzheimer_study",
    "model_key": "VAE",
    "out_folder": "diff_analysis",
    "target": "AD"
   },
   "start_time": "2024-06-26T02:54:32.252136",
   "version": "2.6.0"
  }
 },
 "nbformat": 4,
 "nbformat_minor": 5
}