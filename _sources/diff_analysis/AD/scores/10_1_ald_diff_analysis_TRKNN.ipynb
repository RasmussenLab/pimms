{
 "cells": [
  {
   "cell_type": "markdown",
   "id": "1ce96c5d",
   "metadata": {
    "papermill": {
     "duration": 0.016994,
     "end_time": "2024-09-01T17:44:28.093958",
     "exception": false,
     "start_time": "2024-09-01T17:44:28.076964",
     "status": "completed"
    },
    "tags": []
   },
   "source": [
    "# Differential Analysis - Compare model imputation with standard imputation\n",
    "\n",
    "- load missing values predictions (if specified)\n",
    "- leave all other values as they were\n",
    "- compare missing values predicition by model with baseline method\n",
    "  (default: draw from shifted normal distribution. short RSN)"
   ]
  },
  {
   "cell_type": "code",
   "execution_count": 1,
   "id": "aa1c6eb7",
   "metadata": {
    "execution": {
     "iopub.execute_input": "2024-09-01T17:44:28.121162Z",
     "iopub.status.busy": "2024-09-01T17:44:28.120870Z",
     "iopub.status.idle": "2024-09-01T17:44:30.030636Z",
     "shell.execute_reply": "2024-09-01T17:44:30.029769Z"
    },
    "papermill": {
     "duration": 1.922334,
     "end_time": "2024-09-01T17:44:30.032592",
     "exception": false,
     "start_time": "2024-09-01T17:44:28.110258",
     "status": "completed"
    },
    "tags": [
     "hide-input"
    ]
   },
   "outputs": [],
   "source": [
    "import logging\n",
    "from pathlib import Path\n",
    "\n",
    "import matplotlib.pyplot as plt\n",
    "import njab.stats\n",
    "import pandas as pd\n",
    "from IPython.display import display\n",
    "\n",
    "import pimmslearn\n",
    "import pimmslearn.analyzers\n",
    "import pimmslearn.imputation\n",
    "import pimmslearn.io.datasplits\n",
    "import pimmslearn.nb\n",
    "\n",
    "logger = pimmslearn.logging.setup_nb_logger()\n",
    "logging.getLogger('fontTools').setLevel(logging.WARNING)"
   ]
  },
  {
   "cell_type": "code",
   "execution_count": 2,
   "id": "7291f5e0",
   "metadata": {
    "execution": {
     "iopub.execute_input": "2024-09-01T17:44:30.068006Z",
     "iopub.status.busy": "2024-09-01T17:44:30.067443Z",
     "iopub.status.idle": "2024-09-01T17:44:30.071484Z",
     "shell.execute_reply": "2024-09-01T17:44:30.070785Z"
    },
    "papermill": {
     "duration": 0.018693,
     "end_time": "2024-09-01T17:44:30.075258",
     "exception": false,
     "start_time": "2024-09-01T17:44:30.056565",
     "status": "completed"
    },
    "tags": [
     "hide-input"
    ]
   },
   "outputs": [],
   "source": [
    "# catch passed parameters\n",
    "args = None\n",
    "args = dict(globals()).keys()"
   ]
  },
  {
   "cell_type": "markdown",
   "id": "38795104",
   "metadata": {
    "papermill": {
     "duration": 0.009531,
     "end_time": "2024-09-01T17:44:30.096816",
     "exception": false,
     "start_time": "2024-09-01T17:44:30.087285",
     "status": "completed"
    },
    "tags": []
   },
   "source": [
    "## Parameters\n",
    "Default and set parameters for the notebook."
   ]
  },
  {
   "cell_type": "code",
   "execution_count": 3,
   "id": "1f55d6e6",
   "metadata": {
    "execution": {
     "iopub.execute_input": "2024-09-01T17:44:30.117636Z",
     "iopub.status.busy": "2024-09-01T17:44:30.116912Z",
     "iopub.status.idle": "2024-09-01T17:44:30.121414Z",
     "shell.execute_reply": "2024-09-01T17:44:30.120829Z"
    },
    "papermill": {
     "duration": 0.017702,
     "end_time": "2024-09-01T17:44:30.124168",
     "exception": false,
     "start_time": "2024-09-01T17:44:30.106466",
     "status": "completed"
    },
    "tags": [
     "parameters"
    ]
   },
   "outputs": [],
   "source": [
    "folder_experiment = \"runs/appl_ald_data/plasma/proteinGroups\"\n",
    "folder_data: str = ''  # specify data directory if needed\n",
    "fn_clinical_data = \"data/ALD_study/processed/ald_metadata_cli.csv\"\n",
    "fn_qc_samples = ''  # 'data/ALD_study/processed/qc_plasma_proteinGroups.pkl'\n",
    "f_annotations = 'data/ALD_study/processed/ald_plasma_proteinGroups_id_mappings.csv'\n",
    "\n",
    "\n",
    "target: str = 'kleiner'\n",
    "covar: str = 'age,bmi,gender_num,nas_steatosis_ordinal,abstinent_num'\n",
    "\n",
    "file_format = \"csv\"\n",
    "model_key = 'VAE'  # model(s) to evaluate\n",
    "model = None  # default same as model_key, but could be overwritten (edge case)\n",
    "value_name = 'intensity'\n",
    "out_folder = 'diff_analysis'\n",
    "template_pred = 'pred_real_na_{}.csv'  # fixed, do not change"
   ]
  },
  {
   "cell_type": "code",
   "execution_count": 4,
   "id": "cdae9b2c",
   "metadata": {
    "execution": {
     "iopub.execute_input": "2024-09-01T17:44:30.147053Z",
     "iopub.status.busy": "2024-09-01T17:44:30.146765Z",
     "iopub.status.idle": "2024-09-01T17:44:30.150409Z",
     "shell.execute_reply": "2024-09-01T17:44:30.149735Z"
    },
    "papermill": {
     "duration": 0.016575,
     "end_time": "2024-09-01T17:44:30.152848",
     "exception": false,
     "start_time": "2024-09-01T17:44:30.136273",
     "status": "completed"
    },
    "tags": [
     "injected-parameters"
    ]
   },
   "outputs": [],
   "source": [
    "# Parameters\n",
    "f_annotations = None\n",
    "folder_experiment = \"runs/alzheimer_study\"\n",
    "fn_clinical_data = \"runs/alzheimer_study/data/clinical_data.csv\"\n",
    "target = \"AD\"\n",
    "covar = \"age,Kiel,Magdeburg,Sweden\"\n",
    "model_key = \"TRKNN\"\n",
    "out_folder = \"diff_analysis\"\n"
   ]
  },
  {
   "cell_type": "markdown",
   "id": "a661e6eb",
   "metadata": {
    "papermill": {
     "duration": 0.009383,
     "end_time": "2024-09-01T17:44:30.186263",
     "exception": false,
     "start_time": "2024-09-01T17:44:30.176880",
     "status": "completed"
    },
    "tags": []
   },
   "source": [
    "Add set parameters to configuration"
   ]
  },
  {
   "cell_type": "code",
   "execution_count": 5,
   "id": "0a0d1d33",
   "metadata": {
    "execution": {
     "iopub.execute_input": "2024-09-01T17:44:30.218977Z",
     "iopub.status.busy": "2024-09-01T17:44:30.218675Z",
     "iopub.status.idle": "2024-09-01T17:44:30.236633Z",
     "shell.execute_reply": "2024-09-01T17:44:30.236022Z"
    },
    "papermill": {
     "duration": 0.042973,
     "end_time": "2024-09-01T17:44:30.238420",
     "exception": false,
     "start_time": "2024-09-01T17:44:30.195447",
     "status": "completed"
    },
    "tags": [
     "hide-input"
    ]
   },
   "outputs": [
    {
     "name": "stderr",
     "output_type": "stream",
     "text": [
      "root - INFO     Removed from global namespace: folder_experiment\n"
     ]
    },
    {
     "name": "stderr",
     "output_type": "stream",
     "text": [
      "root - INFO     Removed from global namespace: folder_data\n"
     ]
    },
    {
     "name": "stderr",
     "output_type": "stream",
     "text": [
      "root - INFO     Removed from global namespace: fn_clinical_data\n"
     ]
    },
    {
     "name": "stderr",
     "output_type": "stream",
     "text": [
      "root - INFO     Removed from global namespace: fn_qc_samples\n"
     ]
    },
    {
     "name": "stderr",
     "output_type": "stream",
     "text": [
      "root - INFO     Removed from global namespace: f_annotations\n"
     ]
    },
    {
     "name": "stderr",
     "output_type": "stream",
     "text": [
      "root - INFO     Removed from global namespace: target\n"
     ]
    },
    {
     "name": "stderr",
     "output_type": "stream",
     "text": [
      "root - INFO     Removed from global namespace: covar\n"
     ]
    },
    {
     "name": "stderr",
     "output_type": "stream",
     "text": [
      "root - INFO     Removed from global namespace: file_format\n"
     ]
    },
    {
     "name": "stderr",
     "output_type": "stream",
     "text": [
      "root - INFO     Removed from global namespace: model_key\n"
     ]
    },
    {
     "name": "stderr",
     "output_type": "stream",
     "text": [
      "root - INFO     Removed from global namespace: model\n"
     ]
    },
    {
     "name": "stderr",
     "output_type": "stream",
     "text": [
      "root - INFO     Removed from global namespace: value_name\n"
     ]
    },
    {
     "name": "stderr",
     "output_type": "stream",
     "text": [
      "root - INFO     Removed from global namespace: out_folder\n"
     ]
    },
    {
     "name": "stderr",
     "output_type": "stream",
     "text": [
      "root - INFO     Removed from global namespace: template_pred\n"
     ]
    },
    {
     "data": {
      "text/plain": [
       "{'folder_experiment': 'runs/alzheimer_study',\n",
       " 'folder_data': '',\n",
       " 'fn_clinical_data': 'runs/alzheimer_study/data/clinical_data.csv',\n",
       " 'fn_qc_samples': '',\n",
       " 'f_annotations': None,\n",
       " 'target': 'AD',\n",
       " 'covar': 'age,Kiel,Magdeburg,Sweden',\n",
       " 'file_format': 'csv',\n",
       " 'model_key': 'TRKNN',\n",
       " 'model': 'TRKNN',\n",
       " 'value_name': 'intensity',\n",
       " 'out_folder': 'diff_analysis',\n",
       " 'template_pred': 'pred_real_na_{}.csv'}"
      ]
     },
     "execution_count": 5,
     "metadata": {},
     "output_type": "execute_result"
    }
   ],
   "source": [
    "if not model:\n",
    "    model = model_key\n",
    "params = pimmslearn.nb.get_params(args, globals=globals(), remove=True)\n",
    "params"
   ]
  },
  {
   "cell_type": "code",
   "execution_count": 6,
   "id": "aa314ced",
   "metadata": {
    "execution": {
     "iopub.execute_input": "2024-09-01T17:44:30.260946Z",
     "iopub.status.busy": "2024-09-01T17:44:30.260669Z",
     "iopub.status.idle": "2024-09-01T17:44:30.269427Z",
     "shell.execute_reply": "2024-09-01T17:44:30.268834Z"
    },
    "papermill": {
     "duration": 0.027002,
     "end_time": "2024-09-01T17:44:30.276163",
     "exception": false,
     "start_time": "2024-09-01T17:44:30.249161",
     "status": "completed"
    },
    "tags": [
     "hide-input"
    ]
   },
   "outputs": [
    {
     "name": "stderr",
     "output_type": "stream",
     "text": [
      "root - INFO     Already set attribute: folder_experiment has value runs/alzheimer_study\n"
     ]
    },
    {
     "name": "stderr",
     "output_type": "stream",
     "text": [
      "root - INFO     Already set attribute: fn_clinical_data has value runs/alzheimer_study/data/clinical_data.csv\n"
     ]
    },
    {
     "name": "stderr",
     "output_type": "stream",
     "text": [
      "root - INFO     Already set attribute: covar has value age,Kiel,Magdeburg,Sweden\n"
     ]
    },
    {
     "name": "stderr",
     "output_type": "stream",
     "text": [
      "root - INFO     Already set attribute: out_folder has value diff_analysis\n"
     ]
    },
    {
     "data": {
      "text/plain": [
       "{'covar': ['age', 'Kiel', 'Magdeburg', 'Sweden'],\n",
       " 'data': PosixPath('runs/alzheimer_study/data'),\n",
       " 'f_annotations': None,\n",
       " 'file_format': 'csv',\n",
       " 'fn_clinical_data': PosixPath('runs/alzheimer_study/data/clinical_data.csv'),\n",
       " 'fn_qc_samples': '',\n",
       " 'folder_data': '',\n",
       " 'folder_experiment': PosixPath('runs/alzheimer_study'),\n",
       " 'model': 'TRKNN',\n",
       " 'model_key': 'TRKNN',\n",
       " 'out_figures': PosixPath('runs/alzheimer_study/figures'),\n",
       " 'out_folder': PosixPath('runs/alzheimer_study/diff_analysis/AD'),\n",
       " 'out_metrics': PosixPath('runs/alzheimer_study'),\n",
       " 'out_models': PosixPath('runs/alzheimer_study'),\n",
       " 'out_preds': PosixPath('runs/alzheimer_study/preds'),\n",
       " 'target': 'AD',\n",
       " 'template_pred': 'pred_real_na_{}.csv',\n",
       " 'value_name': 'intensity'}"
      ]
     },
     "execution_count": 6,
     "metadata": {},
     "output_type": "execute_result"
    }
   ],
   "source": [
    "args = pimmslearn.nb.Config()\n",
    "args.fn_clinical_data = Path(params[\"fn_clinical_data\"])\n",
    "args.folder_experiment = Path(params[\"folder_experiment\"])\n",
    "args = pimmslearn.nb.add_default_paths(args,\n",
    "                                 out_root=(args.folder_experiment\n",
    "                                           / params[\"out_folder\"]\n",
    "                                           / params[\"target\"]\n",
    "                                           ))\n",
    "args.covar = params[\"covar\"].split(',')\n",
    "args.update_from_dict(params)\n",
    "args"
   ]
  },
  {
   "cell_type": "markdown",
   "id": "1164695e",
   "metadata": {
    "papermill": {
     "duration": 0.006953,
     "end_time": "2024-09-01T17:44:30.295573",
     "exception": false,
     "start_time": "2024-09-01T17:44:30.288620",
     "status": "completed"
    },
    "tags": []
   },
   "source": [
    "Outputs of this notebook will be stored here:"
   ]
  },
  {
   "cell_type": "code",
   "execution_count": 7,
   "id": "3957551e",
   "metadata": {
    "execution": {
     "iopub.execute_input": "2024-09-01T17:44:30.318820Z",
     "iopub.status.busy": "2024-09-01T17:44:30.318513Z",
     "iopub.status.idle": "2024-09-01T17:44:30.323121Z",
     "shell.execute_reply": "2024-09-01T17:44:30.322519Z"
    },
    "papermill": {
     "duration": 0.022717,
     "end_time": "2024-09-01T17:44:30.326996",
     "exception": false,
     "start_time": "2024-09-01T17:44:30.304279",
     "status": "completed"
    },
    "tags": [
     "hide-input"
    ]
   },
   "outputs": [
    {
     "data": {
      "text/plain": [
       "PosixPath('runs/alzheimer_study/diff_analysis/AD')"
      ]
     },
     "execution_count": 7,
     "metadata": {},
     "output_type": "execute_result"
    }
   ],
   "source": [
    "files_out = {}\n",
    "args.out_folder"
   ]
  },
  {
   "cell_type": "markdown",
   "id": "557f9347",
   "metadata": {
    "papermill": {
     "duration": 0.044153,
     "end_time": "2024-09-01T17:44:30.394907",
     "exception": false,
     "start_time": "2024-09-01T17:44:30.350754",
     "status": "completed"
    },
    "tags": []
   },
   "source": [
    "## Data"
   ]
  },
  {
   "cell_type": "markdown",
   "id": "0e09fbcd",
   "metadata": {
    "papermill": {
     "duration": 0.011985,
     "end_time": "2024-09-01T17:44:30.431521",
     "exception": false,
     "start_time": "2024-09-01T17:44:30.419536",
     "status": "completed"
    },
    "tags": []
   },
   "source": [
    "### MS proteomics or specified omics data\n",
    "Aggregated from data splits of the imputation workflow run before."
   ]
  },
  {
   "cell_type": "code",
   "execution_count": 8,
   "id": "5f1e379b",
   "metadata": {
    "execution": {
     "iopub.execute_input": "2024-09-01T17:44:30.476911Z",
     "iopub.status.busy": "2024-09-01T17:44:30.476613Z",
     "iopub.status.idle": "2024-09-01T17:44:30.947827Z",
     "shell.execute_reply": "2024-09-01T17:44:30.947181Z"
    },
    "papermill": {
     "duration": 0.506287,
     "end_time": "2024-09-01T17:44:30.949508",
     "exception": false,
     "start_time": "2024-09-01T17:44:30.443221",
     "status": "completed"
    },
    "tags": [
     "hide-input"
    ]
   },
   "outputs": [
    {
     "name": "stderr",
     "output_type": "stream",
     "text": [
      "pimmslearn.io.datasplits - INFO     Loaded 'train_X' from file: runs/alzheimer_study/data/train_X.csv\n"
     ]
    },
    {
     "name": "stderr",
     "output_type": "stream",
     "text": [
      "pimmslearn.io.datasplits - INFO     Loaded 'val_y' from file: runs/alzheimer_study/data/val_y.csv\n"
     ]
    },
    {
     "name": "stderr",
     "output_type": "stream",
     "text": [
      "pimmslearn.io.datasplits - INFO     Loaded 'test_y' from file: runs/alzheimer_study/data/test_y.csv\n"
     ]
    }
   ],
   "source": [
    "data = pimmslearn.io.datasplits.DataSplits.from_folder(\n",
    "    args.data, file_format=args.file_format)"
   ]
  },
  {
   "cell_type": "code",
   "execution_count": 9,
   "id": "c939f1cf",
   "metadata": {
    "execution": {
     "iopub.execute_input": "2024-09-01T17:44:30.982433Z",
     "iopub.status.busy": "2024-09-01T17:44:30.982118Z",
     "iopub.status.idle": "2024-09-01T17:44:31.000367Z",
     "shell.execute_reply": "2024-09-01T17:44:30.999721Z"
    },
    "papermill": {
     "duration": 0.050399,
     "end_time": "2024-09-01T17:44:31.017264",
     "exception": false,
     "start_time": "2024-09-01T17:44:30.966865",
     "status": "completed"
    },
    "tags": [
     "hide-input"
    ]
   },
   "outputs": [
    {
     "data": {
      "text/plain": [
       "Sample ID   protein groups                                                                \n",
       "Sample_000  A0A024QZX5;A0A087X1N8;P35237                                                     15.912\n",
       "            A0A024R0T9;K7ER74;P02655                                                         16.852\n",
       "            A0A024R3W6;A0A024R412;O60462;O60462-2;O60462-3;O60462-4;O60462-5;Q7LBX6;X5D2Q8   15.570\n",
       "            A0A024R644;A0A0A0MRU5;A0A1B0GWI2;O75503                                          16.481\n",
       "            A0A075B6H7                                                                       17.301\n",
       "                                                                                              ...  \n",
       "Sample_209  Q96ID5                                                                           16.074\n",
       "            Q9H492;Q9H492-2                                                                  13.173\n",
       "            Q9HC57                                                                           14.207\n",
       "            Q9NPH3;Q9NPH3-2;Q9NPH3-5                                                         14.962\n",
       "            Q9UGM5;Q9UGM5-2                                                                  16.871\n",
       "Name: intensity, Length: 252009, dtype: float64"
      ]
     },
     "execution_count": 9,
     "metadata": {},
     "output_type": "execute_result"
    }
   ],
   "source": [
    "observed = pd.concat([data.train_X, data.val_y, data.test_y])\n",
    "observed"
   ]
  },
  {
   "cell_type": "markdown",
   "id": "9723bcc1",
   "metadata": {
    "papermill": {
     "duration": 0.01997,
     "end_time": "2024-09-01T17:44:31.065731",
     "exception": false,
     "start_time": "2024-09-01T17:44:31.045761",
     "status": "completed"
    },
    "tags": []
   },
   "source": [
    "### Clinical data\n",
    "Describe numerical data specified for use:"
   ]
  },
  {
   "cell_type": "code",
   "execution_count": 10,
   "id": "c0ee1c00",
   "metadata": {
    "execution": {
     "iopub.execute_input": "2024-09-01T17:44:31.131010Z",
     "iopub.status.busy": "2024-09-01T17:44:31.130695Z",
     "iopub.status.idle": "2024-09-01T17:44:31.192302Z",
     "shell.execute_reply": "2024-09-01T17:44:31.191676Z"
    },
    "lines_to_next_cell": 2,
    "papermill": {
     "duration": 0.097526,
     "end_time": "2024-09-01T17:44:31.194112",
     "exception": false,
     "start_time": "2024-09-01T17:44:31.096586",
     "status": "completed"
    },
    "tags": [
     "hide-input"
    ]
   },
   "outputs": [
    {
     "data": {
      "text/html": [
       "<div>\n",
       "<style scoped>\n",
       "    .dataframe tbody tr th:only-of-type {\n",
       "        vertical-align: middle;\n",
       "    }\n",
       "\n",
       "    .dataframe tbody tr th {\n",
       "        vertical-align: top;\n",
       "    }\n",
       "\n",
       "    .dataframe thead th {\n",
       "        text-align: right;\n",
       "    }\n",
       "</style>\n",
       "<table border=\"1\" class=\"dataframe\">\n",
       "  <thead>\n",
       "    <tr style=\"text-align: right;\">\n",
       "      <th></th>\n",
       "      <th>AD</th>\n",
       "      <th>age</th>\n",
       "      <th>Kiel</th>\n",
       "      <th>Magdeburg</th>\n",
       "      <th>Sweden</th>\n",
       "    </tr>\n",
       "  </thead>\n",
       "  <tbody>\n",
       "    <tr>\n",
       "      <th>count</th>\n",
       "      <td>210.000</td>\n",
       "      <td>197.000</td>\n",
       "      <td>210.000</td>\n",
       "      <td>210.000</td>\n",
       "      <td>210.000</td>\n",
       "    </tr>\n",
       "    <tr>\n",
       "      <th>mean</th>\n",
       "      <td>0.419</td>\n",
       "      <td>67.726</td>\n",
       "      <td>0.076</td>\n",
       "      <td>0.181</td>\n",
       "      <td>0.286</td>\n",
       "    </tr>\n",
       "    <tr>\n",
       "      <th>std</th>\n",
       "      <td>0.495</td>\n",
       "      <td>12.123</td>\n",
       "      <td>0.266</td>\n",
       "      <td>0.386</td>\n",
       "      <td>0.453</td>\n",
       "    </tr>\n",
       "    <tr>\n",
       "      <th>min</th>\n",
       "      <td>0.000</td>\n",
       "      <td>20.000</td>\n",
       "      <td>0.000</td>\n",
       "      <td>0.000</td>\n",
       "      <td>0.000</td>\n",
       "    </tr>\n",
       "    <tr>\n",
       "      <th>25%</th>\n",
       "      <td>0.000</td>\n",
       "      <td>63.000</td>\n",
       "      <td>0.000</td>\n",
       "      <td>0.000</td>\n",
       "      <td>0.000</td>\n",
       "    </tr>\n",
       "    <tr>\n",
       "      <th>50%</th>\n",
       "      <td>0.000</td>\n",
       "      <td>70.000</td>\n",
       "      <td>0.000</td>\n",
       "      <td>0.000</td>\n",
       "      <td>0.000</td>\n",
       "    </tr>\n",
       "    <tr>\n",
       "      <th>75%</th>\n",
       "      <td>1.000</td>\n",
       "      <td>74.000</td>\n",
       "      <td>0.000</td>\n",
       "      <td>0.000</td>\n",
       "      <td>1.000</td>\n",
       "    </tr>\n",
       "    <tr>\n",
       "      <th>max</th>\n",
       "      <td>1.000</td>\n",
       "      <td>88.000</td>\n",
       "      <td>1.000</td>\n",
       "      <td>1.000</td>\n",
       "      <td>1.000</td>\n",
       "    </tr>\n",
       "  </tbody>\n",
       "</table>\n",
       "</div>"
      ],
      "text/plain": [
       "           AD     age    Kiel  Magdeburg  Sweden\n",
       "count 210.000 197.000 210.000    210.000 210.000\n",
       "mean    0.419  67.726   0.076      0.181   0.286\n",
       "std     0.495  12.123   0.266      0.386   0.453\n",
       "min     0.000  20.000   0.000      0.000   0.000\n",
       "25%     0.000  63.000   0.000      0.000   0.000\n",
       "50%     0.000  70.000   0.000      0.000   0.000\n",
       "75%     1.000  74.000   0.000      0.000   1.000\n",
       "max     1.000  88.000   1.000      1.000   1.000"
      ]
     },
     "execution_count": 10,
     "metadata": {},
     "output_type": "execute_result"
    }
   ],
   "source": [
    "df_clinic = pd.read_csv(args.fn_clinical_data, index_col=0)\n",
    "df_clinic = df_clinic.loc[observed.index.levels[0]]\n",
    "cols_clinic = pimmslearn.pandas.get_columns_accessor(df_clinic)\n",
    "df_clinic[[args.target, *args.covar]].describe()"
   ]
  },
  {
   "cell_type": "code",
   "execution_count": 11,
   "id": "17818cad",
   "metadata": {
    "execution": {
     "iopub.execute_input": "2024-09-01T17:44:31.245572Z",
     "iopub.status.busy": "2024-09-01T17:44:31.245255Z",
     "iopub.status.idle": "2024-09-01T17:44:31.249634Z",
     "shell.execute_reply": "2024-09-01T17:44:31.249047Z"
    },
    "papermill": {
     "duration": 0.032705,
     "end_time": "2024-09-01T17:44:31.252261",
     "exception": false,
     "start_time": "2024-09-01T17:44:31.219556",
     "status": "completed"
    },
    "tags": [
     "hide-input"
    ]
   },
   "outputs": [],
   "source": [
    "# ## Additional annotations\n",
    "# - additional annotations of features (e.g. gene names for protein groups)\n",
    "\n",
    "feat_name = observed.index.names[-1]\n",
    "if args.f_annotations:\n",
    "    gene_to_PG = pd.read_csv(args.f_annotations)\n",
    "    gene_to_PG = gene_to_PG.drop_duplicates().set_index(feat_name)\n",
    "    fname = args.out_folder / Path(args.f_annotations).name\n",
    "    gene_to_PG.to_csv(fname)\n",
    "    files_out[fname.name] = fname.as_posix()\n",
    "else:\n",
    "    gene_to_PG = None\n",
    "gene_to_PG"
   ]
  },
  {
   "cell_type": "markdown",
   "id": "ee0b2cfe",
   "metadata": {
    "papermill": {
     "duration": 0.02655,
     "end_time": "2024-09-01T17:44:31.298944",
     "exception": false,
     "start_time": "2024-09-01T17:44:31.272394",
     "status": "completed"
    },
    "tags": []
   },
   "source": [
    "Entries with missing values\n",
    "- see how many rows have one missing values (for target and covariates)\n",
    "- only complete data is used for Differential Analysis\n",
    "- covariates are not imputed"
   ]
  },
  {
   "cell_type": "code",
   "execution_count": 12,
   "id": "339ebc78",
   "metadata": {
    "execution": {
     "iopub.execute_input": "2024-09-01T17:44:31.354304Z",
     "iopub.status.busy": "2024-09-01T17:44:31.354009Z",
     "iopub.status.idle": "2024-09-01T17:44:31.360175Z",
     "shell.execute_reply": "2024-09-01T17:44:31.359582Z"
    },
    "papermill": {
     "duration": 0.02936,
     "end_time": "2024-09-01T17:44:31.363788",
     "exception": false,
     "start_time": "2024-09-01T17:44:31.334428",
     "status": "completed"
    },
    "tags": [
     "hide-input"
    ]
   },
   "outputs": [
    {
     "data": {
      "text/plain": [
       "13"
      ]
     },
     "execution_count": 12,
     "metadata": {},
     "output_type": "execute_result"
    }
   ],
   "source": [
    "df_clinic[[args.target, *args.covar]].isna().any(axis=1).sum()"
   ]
  },
  {
   "cell_type": "markdown",
   "id": "5bb881dd",
   "metadata": {
    "papermill": {
     "duration": 0.024646,
     "end_time": "2024-09-01T17:44:31.409214",
     "exception": false,
     "start_time": "2024-09-01T17:44:31.384568",
     "status": "completed"
    },
    "tags": []
   },
   "source": [
    "Data description of data used:"
   ]
  },
  {
   "cell_type": "code",
   "execution_count": 13,
   "id": "bf6d0e8e",
   "metadata": {
    "execution": {
     "iopub.execute_input": "2024-09-01T17:44:31.466290Z",
     "iopub.status.busy": "2024-09-01T17:44:31.465977Z",
     "iopub.status.idle": "2024-09-01T17:44:31.509796Z",
     "shell.execute_reply": "2024-09-01T17:44:31.509120Z"
    },
    "papermill": {
     "duration": 0.065717,
     "end_time": "2024-09-01T17:44:31.511458",
     "exception": false,
     "start_time": "2024-09-01T17:44:31.445741",
     "status": "completed"
    },
    "tags": [
     "hide-input"
    ]
   },
   "outputs": [
    {
     "data": {
      "text/html": [
       "<div>\n",
       "<style scoped>\n",
       "    .dataframe tbody tr th:only-of-type {\n",
       "        vertical-align: middle;\n",
       "    }\n",
       "\n",
       "    .dataframe tbody tr th {\n",
       "        vertical-align: top;\n",
       "    }\n",
       "\n",
       "    .dataframe thead th {\n",
       "        text-align: right;\n",
       "    }\n",
       "</style>\n",
       "<table border=\"1\" class=\"dataframe\">\n",
       "  <thead>\n",
       "    <tr style=\"text-align: right;\">\n",
       "      <th></th>\n",
       "      <th>AD</th>\n",
       "      <th>age</th>\n",
       "      <th>Kiel</th>\n",
       "      <th>Magdeburg</th>\n",
       "      <th>Sweden</th>\n",
       "    </tr>\n",
       "  </thead>\n",
       "  <tbody>\n",
       "    <tr>\n",
       "      <th>count</th>\n",
       "      <td>197.000</td>\n",
       "      <td>197.000</td>\n",
       "      <td>197.000</td>\n",
       "      <td>197.000</td>\n",
       "      <td>197.000</td>\n",
       "    </tr>\n",
       "    <tr>\n",
       "      <th>mean</th>\n",
       "      <td>0.447</td>\n",
       "      <td>67.726</td>\n",
       "      <td>0.081</td>\n",
       "      <td>0.193</td>\n",
       "      <td>0.305</td>\n",
       "    </tr>\n",
       "    <tr>\n",
       "      <th>std</th>\n",
       "      <td>0.498</td>\n",
       "      <td>12.123</td>\n",
       "      <td>0.274</td>\n",
       "      <td>0.396</td>\n",
       "      <td>0.461</td>\n",
       "    </tr>\n",
       "    <tr>\n",
       "      <th>min</th>\n",
       "      <td>0.000</td>\n",
       "      <td>20.000</td>\n",
       "      <td>0.000</td>\n",
       "      <td>0.000</td>\n",
       "      <td>0.000</td>\n",
       "    </tr>\n",
       "    <tr>\n",
       "      <th>25%</th>\n",
       "      <td>0.000</td>\n",
       "      <td>63.000</td>\n",
       "      <td>0.000</td>\n",
       "      <td>0.000</td>\n",
       "      <td>0.000</td>\n",
       "    </tr>\n",
       "    <tr>\n",
       "      <th>50%</th>\n",
       "      <td>0.000</td>\n",
       "      <td>70.000</td>\n",
       "      <td>0.000</td>\n",
       "      <td>0.000</td>\n",
       "      <td>0.000</td>\n",
       "    </tr>\n",
       "    <tr>\n",
       "      <th>75%</th>\n",
       "      <td>1.000</td>\n",
       "      <td>74.000</td>\n",
       "      <td>0.000</td>\n",
       "      <td>0.000</td>\n",
       "      <td>1.000</td>\n",
       "    </tr>\n",
       "    <tr>\n",
       "      <th>max</th>\n",
       "      <td>1.000</td>\n",
       "      <td>88.000</td>\n",
       "      <td>1.000</td>\n",
       "      <td>1.000</td>\n",
       "      <td>1.000</td>\n",
       "    </tr>\n",
       "  </tbody>\n",
       "</table>\n",
       "</div>"
      ],
      "text/plain": [
       "           AD     age    Kiel  Magdeburg  Sweden\n",
       "count 197.000 197.000 197.000    197.000 197.000\n",
       "mean    0.447  67.726   0.081      0.193   0.305\n",
       "std     0.498  12.123   0.274      0.396   0.461\n",
       "min     0.000  20.000   0.000      0.000   0.000\n",
       "25%     0.000  63.000   0.000      0.000   0.000\n",
       "50%     0.000  70.000   0.000      0.000   0.000\n",
       "75%     1.000  74.000   0.000      0.000   1.000\n",
       "max     1.000  88.000   1.000      1.000   1.000"
      ]
     },
     "execution_count": 13,
     "metadata": {},
     "output_type": "execute_result"
    }
   ],
   "source": [
    "mask_sample_with_complete_clinical_data = df_clinic[[args.target, *args.covar]].notna().all(axis=1)\n",
    "fname = args.out_folder / 'mask_sample_with_complete_clinical_data.csv'\n",
    "files_out[fname.name] = fname.as_posix()\n",
    "mask_sample_with_complete_clinical_data.to_csv(fname)\n",
    "\n",
    "idx_complete_data = (mask_sample_with_complete_clinical_data\n",
    "                     .loc[mask_sample_with_complete_clinical_data]\n",
    "                     .index)\n",
    "df_clinic.loc[idx_complete_data, [args.target, *args.covar]].describe()"
   ]
  },
  {
   "cell_type": "code",
   "execution_count": 14,
   "id": "38db5510",
   "metadata": {
    "execution": {
     "iopub.execute_input": "2024-09-01T17:44:31.538622Z",
     "iopub.status.busy": "2024-09-01T17:44:31.538336Z",
     "iopub.status.idle": "2024-09-01T17:44:31.544716Z",
     "shell.execute_reply": "2024-09-01T17:44:31.544116Z"
    },
    "papermill": {
     "duration": 0.023535,
     "end_time": "2024-09-01T17:44:31.548209",
     "exception": false,
     "start_time": "2024-09-01T17:44:31.524674",
     "status": "completed"
    },
    "tags": [
     "hide-input"
    ]
   },
   "outputs": [
    {
     "data": {
      "text/plain": [
       "AD\n",
       "0   109\n",
       "1    88\n",
       "Name: count, dtype: int64"
      ]
     },
     "execution_count": 14,
     "metadata": {},
     "output_type": "execute_result"
    }
   ],
   "source": [
    "df_clinic.loc[idx_complete_data, args.target].value_counts()"
   ]
  },
  {
   "cell_type": "markdown",
   "id": "53e9e2f1",
   "metadata": {
    "papermill": {
     "duration": 0.01267,
     "end_time": "2024-09-01T17:44:31.574466",
     "exception": false,
     "start_time": "2024-09-01T17:44:31.561796",
     "status": "completed"
    },
    "tags": []
   },
   "source": [
    "Check which patients with kleiner score have misssing covariates:"
   ]
  },
  {
   "cell_type": "code",
   "execution_count": 15,
   "id": "281c37b5",
   "metadata": {
    "execution": {
     "iopub.execute_input": "2024-09-01T17:44:31.601229Z",
     "iopub.status.busy": "2024-09-01T17:44:31.600923Z",
     "iopub.status.idle": "2024-09-01T17:44:31.618373Z",
     "shell.execute_reply": "2024-09-01T17:44:31.617731Z"
    },
    "papermill": {
     "duration": 0.035519,
     "end_time": "2024-09-01T17:44:31.622831",
     "exception": false,
     "start_time": "2024-09-01T17:44:31.587312",
     "status": "completed"
    },
    "tags": [
     "hide-input"
    ]
   },
   "outputs": [
    {
     "data": {
      "text/html": [
       "<div>\n",
       "<style scoped>\n",
       "    .dataframe tbody tr th:only-of-type {\n",
       "        vertical-align: middle;\n",
       "    }\n",
       "\n",
       "    .dataframe tbody tr th {\n",
       "        vertical-align: top;\n",
       "    }\n",
       "\n",
       "    .dataframe thead th {\n",
       "        text-align: right;\n",
       "    }\n",
       "</style>\n",
       "<table border=\"1\" class=\"dataframe\">\n",
       "  <thead>\n",
       "    <tr style=\"text-align: right;\">\n",
       "      <th></th>\n",
       "      <th>AD</th>\n",
       "      <th>age</th>\n",
       "      <th>Kiel</th>\n",
       "      <th>Magdeburg</th>\n",
       "      <th>Sweden</th>\n",
       "    </tr>\n",
       "    <tr>\n",
       "      <th>Sample ID</th>\n",
       "      <th></th>\n",
       "      <th></th>\n",
       "      <th></th>\n",
       "      <th></th>\n",
       "      <th></th>\n",
       "    </tr>\n",
       "  </thead>\n",
       "  <tbody>\n",
       "    <tr>\n",
       "      <th>Sample_021</th>\n",
       "      <td>0</td>\n",
       "      <td>NaN</td>\n",
       "      <td>0</td>\n",
       "      <td>0</td>\n",
       "      <td>0</td>\n",
       "    </tr>\n",
       "    <tr>\n",
       "      <th>Sample_065</th>\n",
       "      <td>0</td>\n",
       "      <td>NaN</td>\n",
       "      <td>0</td>\n",
       "      <td>0</td>\n",
       "      <td>0</td>\n",
       "    </tr>\n",
       "    <tr>\n",
       "      <th>Sample_066</th>\n",
       "      <td>0</td>\n",
       "      <td>NaN</td>\n",
       "      <td>0</td>\n",
       "      <td>0</td>\n",
       "      <td>0</td>\n",
       "    </tr>\n",
       "    <tr>\n",
       "      <th>Sample_067</th>\n",
       "      <td>0</td>\n",
       "      <td>NaN</td>\n",
       "      <td>0</td>\n",
       "      <td>0</td>\n",
       "      <td>0</td>\n",
       "    </tr>\n",
       "    <tr>\n",
       "      <th>Sample_082</th>\n",
       "      <td>0</td>\n",
       "      <td>NaN</td>\n",
       "      <td>0</td>\n",
       "      <td>0</td>\n",
       "      <td>0</td>\n",
       "    </tr>\n",
       "    <tr>\n",
       "      <th>Sample_108</th>\n",
       "      <td>0</td>\n",
       "      <td>NaN</td>\n",
       "      <td>0</td>\n",
       "      <td>0</td>\n",
       "      <td>0</td>\n",
       "    </tr>\n",
       "    <tr>\n",
       "      <th>Sample_120</th>\n",
       "      <td>0</td>\n",
       "      <td>NaN</td>\n",
       "      <td>0</td>\n",
       "      <td>0</td>\n",
       "      <td>0</td>\n",
       "    </tr>\n",
       "    <tr>\n",
       "      <th>Sample_135</th>\n",
       "      <td>0</td>\n",
       "      <td>NaN</td>\n",
       "      <td>0</td>\n",
       "      <td>0</td>\n",
       "      <td>0</td>\n",
       "    </tr>\n",
       "    <tr>\n",
       "      <th>Sample_138</th>\n",
       "      <td>0</td>\n",
       "      <td>NaN</td>\n",
       "      <td>0</td>\n",
       "      <td>0</td>\n",
       "      <td>0</td>\n",
       "    </tr>\n",
       "    <tr>\n",
       "      <th>Sample_145</th>\n",
       "      <td>0</td>\n",
       "      <td>NaN</td>\n",
       "      <td>0</td>\n",
       "      <td>0</td>\n",
       "      <td>0</td>\n",
       "    </tr>\n",
       "    <tr>\n",
       "      <th>Sample_147</th>\n",
       "      <td>0</td>\n",
       "      <td>NaN</td>\n",
       "      <td>0</td>\n",
       "      <td>0</td>\n",
       "      <td>0</td>\n",
       "    </tr>\n",
       "    <tr>\n",
       "      <th>Sample_181</th>\n",
       "      <td>0</td>\n",
       "      <td>NaN</td>\n",
       "      <td>0</td>\n",
       "      <td>0</td>\n",
       "      <td>0</td>\n",
       "    </tr>\n",
       "    <tr>\n",
       "      <th>Sample_204</th>\n",
       "      <td>0</td>\n",
       "      <td>NaN</td>\n",
       "      <td>0</td>\n",
       "      <td>0</td>\n",
       "      <td>0</td>\n",
       "    </tr>\n",
       "  </tbody>\n",
       "</table>\n",
       "</div>"
      ],
      "text/plain": [
       "            AD  age  Kiel  Magdeburg  Sweden\n",
       "Sample ID                                   \n",
       "Sample_021   0  NaN     0          0       0\n",
       "Sample_065   0  NaN     0          0       0\n",
       "Sample_066   0  NaN     0          0       0\n",
       "Sample_067   0  NaN     0          0       0\n",
       "Sample_082   0  NaN     0          0       0\n",
       "Sample_108   0  NaN     0          0       0\n",
       "Sample_120   0  NaN     0          0       0\n",
       "Sample_135   0  NaN     0          0       0\n",
       "Sample_138   0  NaN     0          0       0\n",
       "Sample_145   0  NaN     0          0       0\n",
       "Sample_147   0  NaN     0          0       0\n",
       "Sample_181   0  NaN     0          0       0\n",
       "Sample_204   0  NaN     0          0       0"
      ]
     },
     "execution_count": 15,
     "metadata": {},
     "output_type": "execute_result"
    }
   ],
   "source": [
    "df_clinic.loc[(~mask_sample_with_complete_clinical_data\n",
    "               & df_clinic[args.target].notna()),\n",
    "              [args.target, *args.covar]]"
   ]
  },
  {
   "cell_type": "markdown",
   "id": "e176bab6",
   "metadata": {
    "papermill": {
     "duration": 0.012959,
     "end_time": "2024-09-01T17:44:31.658241",
     "exception": false,
     "start_time": "2024-09-01T17:44:31.645282",
     "status": "completed"
    },
    "tags": []
   },
   "source": [
    "Save feature frequency of observed data based on complete clinical data"
   ]
  },
  {
   "cell_type": "code",
   "execution_count": 16,
   "id": "9b5633fe",
   "metadata": {
    "execution": {
     "iopub.execute_input": "2024-09-01T17:44:31.685602Z",
     "iopub.status.busy": "2024-09-01T17:44:31.685315Z",
     "iopub.status.idle": "2024-09-01T17:44:32.238700Z",
     "shell.execute_reply": "2024-09-01T17:44:32.238076Z"
    },
    "papermill": {
     "duration": 0.569123,
     "end_time": "2024-09-01T17:44:32.240503",
     "exception": false,
     "start_time": "2024-09-01T17:44:31.671380",
     "status": "completed"
    },
    "tags": [
     "hide-input"
    ]
   },
   "outputs": [
    {
     "name": "stderr",
     "output_type": "stream",
     "text": [
      "root - INFO     runs/alzheimer_study/freq_features_observed.csv\n"
     ]
    },
    {
     "data": {
      "image/png": "[encoded data removed]",
      "text/plain": [
       "<Figure size 2352x1029 with 1 Axes>"
      ]
     },
     "metadata": {},
     "output_type": "display_data"
    }
   ],
   "source": [
    "feat_freq_observed = observed.unstack().loc[idx_complete_data].notna().sum()\n",
    "feat_freq_observed.name = 'frequency'\n",
    "\n",
    "fname = args.folder_experiment / 'freq_features_observed.csv'\n",
    "files_out['feat_freq_observed'] = fname.as_posix()\n",
    "logger.info(fname)\n",
    "feat_freq_observed.to_csv(fname)\n",
    "ax = feat_freq_observed.sort_values().plot(marker='.', rot=90)\n",
    "_ = ax.set_xticklabels([l_.get_text().split(';')[0] for l_ in ax.get_xticklabels()])"
   ]
  },
  {
   "cell_type": "markdown",
   "id": "0b2a9857",
   "metadata": {
    "papermill": {
     "duration": 0.038718,
     "end_time": "2024-09-01T17:44:32.294375",
     "exception": false,
     "start_time": "2024-09-01T17:44:32.255657",
     "status": "completed"
    },
    "tags": []
   },
   "source": [
    "## ALD study approach using all measurements\n",
    "Use parameters as specified in [ALD study](https://github.com/RasmussenLab/pimms/tree/main/project/data/ALD_study)."
   ]
  },
  {
   "cell_type": "code",
   "execution_count": 17,
   "id": "ab6688e5",
   "metadata": {
    "execution": {
     "iopub.execute_input": "2024-09-01T17:44:32.341226Z",
     "iopub.status.busy": "2024-09-01T17:44:32.340915Z",
     "iopub.status.idle": "2024-09-01T17:44:32.407327Z",
     "shell.execute_reply": "2024-09-01T17:44:32.406700Z"
    },
    "papermill": {
     "duration": 0.091383,
     "end_time": "2024-09-01T17:44:32.408914",
     "exception": false,
     "start_time": "2024-09-01T17:44:32.317531",
     "status": "completed"
    },
    "tags": [
     "hide-input"
    ]
   },
   "outputs": [
    {
     "name": "stderr",
     "output_type": "stream",
     "text": [
      "root - INFO     Initally: N samples: 210, M feat: 1421\n"
     ]
    },
    {
     "name": "stderr",
     "output_type": "stream",
     "text": [
      "root - INFO     Dropped features quantified in less than 126 samples.\n"
     ]
    },
    {
     "name": "stderr",
     "output_type": "stream",
     "text": [
      "root - INFO     After feat selection: N samples: 210, M feat: 1213\n"
     ]
    },
    {
     "name": "stderr",
     "output_type": "stream",
     "text": [
      "root - INFO     Min No. of Protein-Groups in single sample: 754\n"
     ]
    },
    {
     "name": "stderr",
     "output_type": "stream",
     "text": [
      "root - INFO     Finally: N samples: 210, M feat: 1213\n"
     ]
    },
    {
     "data": {
      "text/html": [
       "<div>\n",
       "<style scoped>\n",
       "    .dataframe tbody tr th:only-of-type {\n",
       "        vertical-align: middle;\n",
       "    }\n",
       "\n",
       "    .dataframe tbody tr th {\n",
       "        vertical-align: top;\n",
       "    }\n",
       "\n",
       "    .dataframe thead th {\n",
       "        text-align: right;\n",
       "    }\n",
       "</style>\n",
       "<table border=\"1\" class=\"dataframe\">\n",
       "  <thead>\n",
       "    <tr style=\"text-align: right;\">\n",
       "      <th>protein groups</th>\n",
       "      <th>A0A024QZX5;A0A087X1N8;P35237</th>\n",
       "      <th>A0A024R0T9;K7ER74;P02655</th>\n",
       "      <th>A0A024R3W6;A0A024R412;O60462;O60462-2;O60462-3;O60462-4;O60462-5;Q7LBX6;X5D2Q8</th>\n",
       "      <th>A0A024R644;A0A0A0MRU5;A0A1B0GWI2;O75503</th>\n",
       "      <th>A0A075B6H9</th>\n",
       "      <th>A0A075B6I0</th>\n",
       "      <th>A0A075B6I1</th>\n",
       "      <th>A0A075B6I6</th>\n",
       "      <th>A0A075B6I9</th>\n",
       "      <th>A0A075B6J9</th>\n",
       "      <th>...</th>\n",
       "      <th>Q9Y653;Q9Y653-2;Q9Y653-3</th>\n",
       "      <th>Q9Y696</th>\n",
       "      <th>Q9Y6C2</th>\n",
       "      <th>Q9Y6N6</th>\n",
       "      <th>Q9Y6N7;Q9Y6N7-2;Q9Y6N7-4</th>\n",
       "      <th>Q9Y6R7</th>\n",
       "      <th>Q9Y6X5</th>\n",
       "      <th>Q9Y6Y8;Q9Y6Y8-2</th>\n",
       "      <th>Q9Y6Y9</th>\n",
       "      <th>S4R3U6</th>\n",
       "    </tr>\n",
       "    <tr>\n",
       "      <th>Sample ID</th>\n",
       "      <th></th>\n",
       "      <th></th>\n",
       "      <th></th>\n",
       "      <th></th>\n",
       "      <th></th>\n",
       "      <th></th>\n",
       "      <th></th>\n",
       "      <th></th>\n",
       "      <th></th>\n",
       "      <th></th>\n",
       "      <th></th>\n",
       "      <th></th>\n",
       "      <th></th>\n",
       "      <th></th>\n",
       "      <th></th>\n",
       "      <th></th>\n",
       "      <th></th>\n",
       "      <th></th>\n",
       "      <th></th>\n",
       "      <th></th>\n",
       "      <th></th>\n",
       "    </tr>\n",
       "  </thead>\n",
       "  <tbody>\n",
       "    <tr>\n",
       "      <th>Sample_000</th>\n",
       "      <td>15.912</td>\n",
       "      <td>16.852</td>\n",
       "      <td>15.570</td>\n",
       "      <td>16.481</td>\n",
       "      <td>20.246</td>\n",
       "      <td>16.764</td>\n",
       "      <td>17.584</td>\n",
       "      <td>16.988</td>\n",
       "      <td>20.054</td>\n",
       "      <td>NaN</td>\n",
       "      <td>...</td>\n",
       "      <td>16.012</td>\n",
       "      <td>15.178</td>\n",
       "      <td>NaN</td>\n",
       "      <td>15.050</td>\n",
       "      <td>16.842</td>\n",
       "      <td>19.863</td>\n",
       "      <td>NaN</td>\n",
       "      <td>19.563</td>\n",
       "      <td>12.837</td>\n",
       "      <td>12.805</td>\n",
       "    </tr>\n",
       "    <tr>\n",
       "      <th>Sample_001</th>\n",
       "      <td>15.936</td>\n",
       "      <td>16.874</td>\n",
       "      <td>15.519</td>\n",
       "      <td>16.387</td>\n",
       "      <td>19.941</td>\n",
       "      <td>18.786</td>\n",
       "      <td>17.144</td>\n",
       "      <td>NaN</td>\n",
       "      <td>19.067</td>\n",
       "      <td>16.188</td>\n",
       "      <td>...</td>\n",
       "      <td>15.528</td>\n",
       "      <td>15.576</td>\n",
       "      <td>NaN</td>\n",
       "      <td>14.833</td>\n",
       "      <td>16.597</td>\n",
       "      <td>20.299</td>\n",
       "      <td>15.556</td>\n",
       "      <td>19.386</td>\n",
       "      <td>13.970</td>\n",
       "      <td>12.442</td>\n",
       "    </tr>\n",
       "    <tr>\n",
       "      <th>Sample_002</th>\n",
       "      <td>16.111</td>\n",
       "      <td>14.523</td>\n",
       "      <td>15.935</td>\n",
       "      <td>16.416</td>\n",
       "      <td>19.251</td>\n",
       "      <td>16.832</td>\n",
       "      <td>15.671</td>\n",
       "      <td>17.012</td>\n",
       "      <td>18.569</td>\n",
       "      <td>NaN</td>\n",
       "      <td>...</td>\n",
       "      <td>15.229</td>\n",
       "      <td>14.728</td>\n",
       "      <td>13.757</td>\n",
       "      <td>15.118</td>\n",
       "      <td>17.440</td>\n",
       "      <td>19.598</td>\n",
       "      <td>15.735</td>\n",
       "      <td>20.447</td>\n",
       "      <td>12.636</td>\n",
       "      <td>12.505</td>\n",
       "    </tr>\n",
       "    <tr>\n",
       "      <th>Sample_003</th>\n",
       "      <td>16.107</td>\n",
       "      <td>17.032</td>\n",
       "      <td>15.802</td>\n",
       "      <td>16.979</td>\n",
       "      <td>19.628</td>\n",
       "      <td>17.852</td>\n",
       "      <td>18.877</td>\n",
       "      <td>14.182</td>\n",
       "      <td>18.985</td>\n",
       "      <td>13.438</td>\n",
       "      <td>...</td>\n",
       "      <td>15.495</td>\n",
       "      <td>14.590</td>\n",
       "      <td>14.682</td>\n",
       "      <td>15.140</td>\n",
       "      <td>17.356</td>\n",
       "      <td>19.429</td>\n",
       "      <td>NaN</td>\n",
       "      <td>20.216</td>\n",
       "      <td>12.627</td>\n",
       "      <td>12.445</td>\n",
       "    </tr>\n",
       "    <tr>\n",
       "      <th>Sample_004</th>\n",
       "      <td>15.603</td>\n",
       "      <td>15.331</td>\n",
       "      <td>15.375</td>\n",
       "      <td>16.679</td>\n",
       "      <td>20.450</td>\n",
       "      <td>18.682</td>\n",
       "      <td>17.081</td>\n",
       "      <td>14.140</td>\n",
       "      <td>19.686</td>\n",
       "      <td>14.495</td>\n",
       "      <td>...</td>\n",
       "      <td>14.757</td>\n",
       "      <td>15.094</td>\n",
       "      <td>14.048</td>\n",
       "      <td>15.256</td>\n",
       "      <td>17.075</td>\n",
       "      <td>19.582</td>\n",
       "      <td>15.328</td>\n",
       "      <td>19.867</td>\n",
       "      <td>13.145</td>\n",
       "      <td>12.235</td>\n",
       "    </tr>\n",
       "    <tr>\n",
       "      <th>...</th>\n",
       "      <td>...</td>\n",
       "      <td>...</td>\n",
       "      <td>...</td>\n",
       "      <td>...</td>\n",
       "      <td>...</td>\n",
       "      <td>...</td>\n",
       "      <td>...</td>\n",
       "      <td>...</td>\n",
       "      <td>...</td>\n",
       "      <td>...</td>\n",
       "      <td>...</td>\n",
       "      <td>...</td>\n",
       "      <td>...</td>\n",
       "      <td>...</td>\n",
       "      <td>...</td>\n",
       "      <td>...</td>\n",
       "      <td>...</td>\n",
       "      <td>...</td>\n",
       "      <td>...</td>\n",
       "      <td>...</td>\n",
       "      <td>...</td>\n",
       "    </tr>\n",
       "    <tr>\n",
       "      <th>Sample_205</th>\n",
       "      <td>15.682</td>\n",
       "      <td>16.886</td>\n",
       "      <td>14.910</td>\n",
       "      <td>16.482</td>\n",
       "      <td>17.705</td>\n",
       "      <td>17.039</td>\n",
       "      <td>NaN</td>\n",
       "      <td>16.413</td>\n",
       "      <td>19.102</td>\n",
       "      <td>16.064</td>\n",
       "      <td>...</td>\n",
       "      <td>15.235</td>\n",
       "      <td>15.684</td>\n",
       "      <td>14.236</td>\n",
       "      <td>15.415</td>\n",
       "      <td>17.551</td>\n",
       "      <td>17.922</td>\n",
       "      <td>16.340</td>\n",
       "      <td>19.928</td>\n",
       "      <td>12.929</td>\n",
       "      <td>11.802</td>\n",
       "    </tr>\n",
       "    <tr>\n",
       "      <th>Sample_206</th>\n",
       "      <td>15.798</td>\n",
       "      <td>17.554</td>\n",
       "      <td>15.600</td>\n",
       "      <td>15.938</td>\n",
       "      <td>18.154</td>\n",
       "      <td>18.152</td>\n",
       "      <td>16.503</td>\n",
       "      <td>16.860</td>\n",
       "      <td>18.538</td>\n",
       "      <td>15.288</td>\n",
       "      <td>...</td>\n",
       "      <td>15.422</td>\n",
       "      <td>16.106</td>\n",
       "      <td>NaN</td>\n",
       "      <td>15.345</td>\n",
       "      <td>17.084</td>\n",
       "      <td>18.708</td>\n",
       "      <td>14.249</td>\n",
       "      <td>19.433</td>\n",
       "      <td>NaN</td>\n",
       "      <td>NaN</td>\n",
       "    </tr>\n",
       "    <tr>\n",
       "      <th>Sample_207</th>\n",
       "      <td>15.739</td>\n",
       "      <td>16.877</td>\n",
       "      <td>15.469</td>\n",
       "      <td>16.898</td>\n",
       "      <td>18.636</td>\n",
       "      <td>17.950</td>\n",
       "      <td>16.321</td>\n",
       "      <td>16.401</td>\n",
       "      <td>18.849</td>\n",
       "      <td>17.580</td>\n",
       "      <td>...</td>\n",
       "      <td>15.808</td>\n",
       "      <td>16.098</td>\n",
       "      <td>14.403</td>\n",
       "      <td>15.715</td>\n",
       "      <td>16.586</td>\n",
       "      <td>18.725</td>\n",
       "      <td>16.138</td>\n",
       "      <td>19.599</td>\n",
       "      <td>13.637</td>\n",
       "      <td>11.174</td>\n",
       "    </tr>\n",
       "    <tr>\n",
       "      <th>Sample_208</th>\n",
       "      <td>15.477</td>\n",
       "      <td>16.779</td>\n",
       "      <td>14.995</td>\n",
       "      <td>16.132</td>\n",
       "      <td>14.908</td>\n",
       "      <td>17.530</td>\n",
       "      <td>NaN</td>\n",
       "      <td>16.119</td>\n",
       "      <td>18.368</td>\n",
       "      <td>15.202</td>\n",
       "      <td>...</td>\n",
       "      <td>15.157</td>\n",
       "      <td>16.712</td>\n",
       "      <td>NaN</td>\n",
       "      <td>14.640</td>\n",
       "      <td>16.533</td>\n",
       "      <td>19.411</td>\n",
       "      <td>15.807</td>\n",
       "      <td>19.545</td>\n",
       "      <td>13.216</td>\n",
       "      <td>NaN</td>\n",
       "    </tr>\n",
       "    <tr>\n",
       "      <th>Sample_209</th>\n",
       "      <td>15.727</td>\n",
       "      <td>17.261</td>\n",
       "      <td>15.175</td>\n",
       "      <td>16.235</td>\n",
       "      <td>17.893</td>\n",
       "      <td>17.744</td>\n",
       "      <td>16.371</td>\n",
       "      <td>15.780</td>\n",
       "      <td>18.806</td>\n",
       "      <td>16.532</td>\n",
       "      <td>...</td>\n",
       "      <td>15.237</td>\n",
       "      <td>15.652</td>\n",
       "      <td>15.211</td>\n",
       "      <td>14.205</td>\n",
       "      <td>16.749</td>\n",
       "      <td>19.275</td>\n",
       "      <td>15.732</td>\n",
       "      <td>19.577</td>\n",
       "      <td>11.042</td>\n",
       "      <td>11.791</td>\n",
       "    </tr>\n",
       "  </tbody>\n",
       "</table>\n",
       "<p>210 rows × 1213 columns</p>\n",
       "</div>"
      ],
      "text/plain": [
       "protein groups  A0A024QZX5;A0A087X1N8;P35237  A0A024R0T9;K7ER74;P02655  \\\n",
       "Sample ID                                                                \n",
       "Sample_000                            15.912                    16.852   \n",
       "Sample_001                            15.936                    16.874   \n",
       "Sample_002                            16.111                    14.523   \n",
       "Sample_003                            16.107                    17.032   \n",
       "Sample_004                            15.603                    15.331   \n",
       "...                                      ...                       ...   \n",
       "Sample_205                            15.682                    16.886   \n",
       "Sample_206                            15.798                    17.554   \n",
       "Sample_207                            15.739                    16.877   \n",
       "Sample_208                            15.477                    16.779   \n",
       "Sample_209                            15.727                    17.261   \n",
       "\n",
       "protein groups  A0A024R3W6;A0A024R412;O60462;O60462-2;O60462-3;O60462-4;O60462-5;Q7LBX6;X5D2Q8  \\\n",
       "Sample ID                                                                                        \n",
       "Sample_000                                                 15.570                                \n",
       "Sample_001                                                 15.519                                \n",
       "Sample_002                                                 15.935                                \n",
       "Sample_003                                                 15.802                                \n",
       "Sample_004                                                 15.375                                \n",
       "...                                                           ...                                \n",
       "Sample_205                                                 14.910                                \n",
       "Sample_206                                                 15.600                                \n",
       "Sample_207                                                 15.469                                \n",
       "Sample_208                                                 14.995                                \n",
       "Sample_209                                                 15.175                                \n",
       "\n",
       "protein groups  A0A024R644;A0A0A0MRU5;A0A1B0GWI2;O75503  A0A075B6H9  \\\n",
       "Sample ID                                                             \n",
       "Sample_000                                       16.481      20.246   \n",
       "Sample_001                                       16.387      19.941   \n",
       "Sample_002                                       16.416      19.251   \n",
       "Sample_003                                       16.979      19.628   \n",
       "Sample_004                                       16.679      20.450   \n",
       "...                                                 ...         ...   \n",
       "Sample_205                                       16.482      17.705   \n",
       "Sample_206                                       15.938      18.154   \n",
       "Sample_207                                       16.898      18.636   \n",
       "Sample_208                                       16.132      14.908   \n",
       "Sample_209                                       16.235      17.893   \n",
       "\n",
       "protein groups  A0A075B6I0  A0A075B6I1  A0A075B6I6  A0A075B6I9  A0A075B6J9  \\\n",
       "Sample ID                                                                    \n",
       "Sample_000          16.764      17.584      16.988      20.054         NaN   \n",
       "Sample_001          18.786      17.144         NaN      19.067      16.188   \n",
       "Sample_002          16.832      15.671      17.012      18.569         NaN   \n",
       "Sample_003          17.852      18.877      14.182      18.985      13.438   \n",
       "Sample_004          18.682      17.081      14.140      19.686      14.495   \n",
       "...                    ...         ...         ...         ...         ...   \n",
       "Sample_205          17.039         NaN      16.413      19.102      16.064   \n",
       "Sample_206          18.152      16.503      16.860      18.538      15.288   \n",
       "Sample_207          17.950      16.321      16.401      18.849      17.580   \n",
       "Sample_208          17.530         NaN      16.119      18.368      15.202   \n",
       "Sample_209          17.744      16.371      15.780      18.806      16.532   \n",
       "\n",
       "protein groups  ...  Q9Y653;Q9Y653-2;Q9Y653-3  Q9Y696  Q9Y6C2  Q9Y6N6  \\\n",
       "Sample ID       ...                                                     \n",
       "Sample_000      ...                    16.012  15.178     NaN  15.050   \n",
       "Sample_001      ...                    15.528  15.576     NaN  14.833   \n",
       "Sample_002      ...                    15.229  14.728  13.757  15.118   \n",
       "Sample_003      ...                    15.495  14.590  14.682  15.140   \n",
       "Sample_004      ...                    14.757  15.094  14.048  15.256   \n",
       "...             ...                       ...     ...     ...     ...   \n",
       "Sample_205      ...                    15.235  15.684  14.236  15.415   \n",
       "Sample_206      ...                    15.422  16.106     NaN  15.345   \n",
       "Sample_207      ...                    15.808  16.098  14.403  15.715   \n",
       "Sample_208      ...                    15.157  16.712     NaN  14.640   \n",
       "Sample_209      ...                    15.237  15.652  15.211  14.205   \n",
       "\n",
       "protein groups  Q9Y6N7;Q9Y6N7-2;Q9Y6N7-4  Q9Y6R7  Q9Y6X5  Q9Y6Y8;Q9Y6Y8-2  \\\n",
       "Sample ID                                                                   \n",
       "Sample_000                        16.842  19.863     NaN           19.563   \n",
       "Sample_001                        16.597  20.299  15.556           19.386   \n",
       "Sample_002                        17.440  19.598  15.735           20.447   \n",
       "Sample_003                        17.356  19.429     NaN           20.216   \n",
       "Sample_004                        17.075  19.582  15.328           19.867   \n",
       "...                                  ...     ...     ...              ...   \n",
       "Sample_205                        17.551  17.922  16.340           19.928   \n",
       "Sample_206                        17.084  18.708  14.249           19.433   \n",
       "Sample_207                        16.586  18.725  16.138           19.599   \n",
       "Sample_208                        16.533  19.411  15.807           19.545   \n",
       "Sample_209                        16.749  19.275  15.732           19.577   \n",
       "\n",
       "protein groups  Q9Y6Y9  S4R3U6  \n",
       "Sample ID                       \n",
       "Sample_000      12.837  12.805  \n",
       "Sample_001      13.970  12.442  \n",
       "Sample_002      12.636  12.505  \n",
       "Sample_003      12.627  12.445  \n",
       "Sample_004      13.145  12.235  \n",
       "...                ...     ...  \n",
       "Sample_205      12.929  11.802  \n",
       "Sample_206         NaN     NaN  \n",
       "Sample_207      13.637  11.174  \n",
       "Sample_208      13.216     NaN  \n",
       "Sample_209      11.042  11.791  \n",
       "\n",
       "[210 rows x 1213 columns]"
      ]
     },
     "execution_count": 17,
     "metadata": {},
     "output_type": "execute_result"
    }
   ],
   "source": [
    "DATA_COMPLETENESS = 0.6\n",
    "# MIN_N_PROTEIN_GROUPS: int = 200\n",
    "FRAC_PROTEIN_GROUPS: int = 0.622\n",
    "CV_QC_SAMPLE: float = 0.4  # Coef. of variation on 13 QC samples\n",
    "\n",
    "ald_study, cutoffs = pimmslearn.analyzers.diff_analysis.select_raw_data(observed.unstack(\n",
    "), data_completeness=DATA_COMPLETENESS, frac_protein_groups=FRAC_PROTEIN_GROUPS)\n",
    "\n",
    "ald_study"
   ]
  },
  {
   "cell_type": "code",
   "execution_count": 18,
   "id": "d264fa0b",
   "metadata": {
    "execution": {
     "iopub.execute_input": "2024-09-01T17:44:32.443159Z",
     "iopub.status.busy": "2024-09-01T17:44:32.442464Z",
     "iopub.status.idle": "2024-09-01T17:44:32.490405Z",
     "shell.execute_reply": "2024-09-01T17:44:32.489732Z"
    },
    "papermill": {
     "duration": 0.066453,
     "end_time": "2024-09-01T17:44:32.492077",
     "exception": false,
     "start_time": "2024-09-01T17:44:32.425624",
     "status": "completed"
    },
    "tags": [
     "hide-input"
    ]
   },
   "outputs": [
    {
     "data": {
      "text/html": [
       "<div>\n",
       "<style scoped>\n",
       "    .dataframe tbody tr th:only-of-type {\n",
       "        vertical-align: middle;\n",
       "    }\n",
       "\n",
       "    .dataframe tbody tr th {\n",
       "        vertical-align: top;\n",
       "    }\n",
       "\n",
       "    .dataframe thead th {\n",
       "        text-align: right;\n",
       "    }\n",
       "</style>\n",
       "<table border=\"1\" class=\"dataframe\">\n",
       "  <thead>\n",
       "    <tr style=\"text-align: right;\">\n",
       "      <th>protein groups</th>\n",
       "      <th>A0A024QZX5;A0A087X1N8;P35237</th>\n",
       "      <th>A0A024R0T9;K7ER74;P02655</th>\n",
       "      <th>A0A024R3W6;A0A024R412;O60462;O60462-2;O60462-3;O60462-4;O60462-5;Q7LBX6;X5D2Q8</th>\n",
       "      <th>A0A024R644;A0A0A0MRU5;A0A1B0GWI2;O75503</th>\n",
       "      <th>A0A075B6H9</th>\n",
       "      <th>A0A075B6I0</th>\n",
       "      <th>A0A075B6I1</th>\n",
       "      <th>A0A075B6I6</th>\n",
       "      <th>A0A075B6I9</th>\n",
       "      <th>A0A075B6J9</th>\n",
       "      <th>...</th>\n",
       "      <th>Q9Y653;Q9Y653-2;Q9Y653-3</th>\n",
       "      <th>Q9Y696</th>\n",
       "      <th>Q9Y6C2</th>\n",
       "      <th>Q9Y6N6</th>\n",
       "      <th>Q9Y6N7;Q9Y6N7-2;Q9Y6N7-4</th>\n",
       "      <th>Q9Y6R7</th>\n",
       "      <th>Q9Y6X5</th>\n",
       "      <th>Q9Y6Y8;Q9Y6Y8-2</th>\n",
       "      <th>Q9Y6Y9</th>\n",
       "      <th>S4R3U6</th>\n",
       "    </tr>\n",
       "    <tr>\n",
       "      <th>Sample ID</th>\n",
       "      <th></th>\n",
       "      <th></th>\n",
       "      <th></th>\n",
       "      <th></th>\n",
       "      <th></th>\n",
       "      <th></th>\n",
       "      <th></th>\n",
       "      <th></th>\n",
       "      <th></th>\n",
       "      <th></th>\n",
       "      <th></th>\n",
       "      <th></th>\n",
       "      <th></th>\n",
       "      <th></th>\n",
       "      <th></th>\n",
       "      <th></th>\n",
       "      <th></th>\n",
       "      <th></th>\n",
       "      <th></th>\n",
       "      <th></th>\n",
       "      <th></th>\n",
       "    </tr>\n",
       "  </thead>\n",
       "  <tbody>\n",
       "    <tr>\n",
       "      <th>Sample_000</th>\n",
       "      <td>15.912</td>\n",
       "      <td>16.852</td>\n",
       "      <td>15.570</td>\n",
       "      <td>16.481</td>\n",
       "      <td>20.246</td>\n",
       "      <td>16.764</td>\n",
       "      <td>17.584</td>\n",
       "      <td>16.988</td>\n",
       "      <td>20.054</td>\n",
       "      <td>NaN</td>\n",
       "      <td>...</td>\n",
       "      <td>16.012</td>\n",
       "      <td>15.178</td>\n",
       "      <td>NaN</td>\n",
       "      <td>15.050</td>\n",
       "      <td>16.842</td>\n",
       "      <td>19.863</td>\n",
       "      <td>NaN</td>\n",
       "      <td>19.563</td>\n",
       "      <td>12.837</td>\n",
       "      <td>12.805</td>\n",
       "    </tr>\n",
       "    <tr>\n",
       "      <th>Sample_001</th>\n",
       "      <td>15.936</td>\n",
       "      <td>16.874</td>\n",
       "      <td>15.519</td>\n",
       "      <td>16.387</td>\n",
       "      <td>19.941</td>\n",
       "      <td>18.786</td>\n",
       "      <td>17.144</td>\n",
       "      <td>NaN</td>\n",
       "      <td>19.067</td>\n",
       "      <td>16.188</td>\n",
       "      <td>...</td>\n",
       "      <td>15.528</td>\n",
       "      <td>15.576</td>\n",
       "      <td>NaN</td>\n",
       "      <td>14.833</td>\n",
       "      <td>16.597</td>\n",
       "      <td>20.299</td>\n",
       "      <td>15.556</td>\n",
       "      <td>19.386</td>\n",
       "      <td>13.970</td>\n",
       "      <td>12.442</td>\n",
       "    </tr>\n",
       "    <tr>\n",
       "      <th>Sample_002</th>\n",
       "      <td>16.111</td>\n",
       "      <td>14.523</td>\n",
       "      <td>15.935</td>\n",
       "      <td>16.416</td>\n",
       "      <td>19.251</td>\n",
       "      <td>16.832</td>\n",
       "      <td>15.671</td>\n",
       "      <td>17.012</td>\n",
       "      <td>18.569</td>\n",
       "      <td>NaN</td>\n",
       "      <td>...</td>\n",
       "      <td>15.229</td>\n",
       "      <td>14.728</td>\n",
       "      <td>13.757</td>\n",
       "      <td>15.118</td>\n",
       "      <td>17.440</td>\n",
       "      <td>19.598</td>\n",
       "      <td>15.735</td>\n",
       "      <td>20.447</td>\n",
       "      <td>12.636</td>\n",
       "      <td>12.505</td>\n",
       "    </tr>\n",
       "    <tr>\n",
       "      <th>Sample_003</th>\n",
       "      <td>16.107</td>\n",
       "      <td>17.032</td>\n",
       "      <td>15.802</td>\n",
       "      <td>16.979</td>\n",
       "      <td>19.628</td>\n",
       "      <td>17.852</td>\n",
       "      <td>18.877</td>\n",
       "      <td>14.182</td>\n",
       "      <td>18.985</td>\n",
       "      <td>13.438</td>\n",
       "      <td>...</td>\n",
       "      <td>15.495</td>\n",
       "      <td>14.590</td>\n",
       "      <td>14.682</td>\n",
       "      <td>15.140</td>\n",
       "      <td>17.356</td>\n",
       "      <td>19.429</td>\n",
       "      <td>NaN</td>\n",
       "      <td>20.216</td>\n",
       "      <td>12.627</td>\n",
       "      <td>12.445</td>\n",
       "    </tr>\n",
       "    <tr>\n",
       "      <th>Sample_004</th>\n",
       "      <td>15.603</td>\n",
       "      <td>15.331</td>\n",
       "      <td>15.375</td>\n",
       "      <td>16.679</td>\n",
       "      <td>20.450</td>\n",
       "      <td>18.682</td>\n",
       "      <td>17.081</td>\n",
       "      <td>14.140</td>\n",
       "      <td>19.686</td>\n",
       "      <td>14.495</td>\n",
       "      <td>...</td>\n",
       "      <td>14.757</td>\n",
       "      <td>15.094</td>\n",
       "      <td>14.048</td>\n",
       "      <td>15.256</td>\n",
       "      <td>17.075</td>\n",
       "      <td>19.582</td>\n",
       "      <td>15.328</td>\n",
       "      <td>19.867</td>\n",
       "      <td>13.145</td>\n",
       "      <td>12.235</td>\n",
       "    </tr>\n",
       "    <tr>\n",
       "      <th>...</th>\n",
       "      <td>...</td>\n",
       "      <td>...</td>\n",
       "      <td>...</td>\n",
       "      <td>...</td>\n",
       "      <td>...</td>\n",
       "      <td>...</td>\n",
       "      <td>...</td>\n",
       "      <td>...</td>\n",
       "      <td>...</td>\n",
       "      <td>...</td>\n",
       "      <td>...</td>\n",
       "      <td>...</td>\n",
       "      <td>...</td>\n",
       "      <td>...</td>\n",
       "      <td>...</td>\n",
       "      <td>...</td>\n",
       "      <td>...</td>\n",
       "      <td>...</td>\n",
       "      <td>...</td>\n",
       "      <td>...</td>\n",
       "      <td>...</td>\n",
       "    </tr>\n",
       "    <tr>\n",
       "      <th>Sample_205</th>\n",
       "      <td>15.682</td>\n",
       "      <td>16.886</td>\n",
       "      <td>14.910</td>\n",
       "      <td>16.482</td>\n",
       "      <td>17.705</td>\n",
       "      <td>17.039</td>\n",
       "      <td>NaN</td>\n",
       "      <td>16.413</td>\n",
       "      <td>19.102</td>\n",
       "      <td>16.064</td>\n",
       "      <td>...</td>\n",
       "      <td>15.235</td>\n",
       "      <td>15.684</td>\n",
       "      <td>14.236</td>\n",
       "      <td>15.415</td>\n",
       "      <td>17.551</td>\n",
       "      <td>17.922</td>\n",
       "      <td>16.340</td>\n",
       "      <td>19.928</td>\n",
       "      <td>12.929</td>\n",
       "      <td>11.802</td>\n",
       "    </tr>\n",
       "    <tr>\n",
       "      <th>Sample_206</th>\n",
       "      <td>15.798</td>\n",
       "      <td>17.554</td>\n",
       "      <td>15.600</td>\n",
       "      <td>15.938</td>\n",
       "      <td>18.154</td>\n",
       "      <td>18.152</td>\n",
       "      <td>16.503</td>\n",
       "      <td>16.860</td>\n",
       "      <td>18.538</td>\n",
       "      <td>15.288</td>\n",
       "      <td>...</td>\n",
       "      <td>15.422</td>\n",
       "      <td>16.106</td>\n",
       "      <td>NaN</td>\n",
       "      <td>15.345</td>\n",
       "      <td>17.084</td>\n",
       "      <td>18.708</td>\n",
       "      <td>14.249</td>\n",
       "      <td>19.433</td>\n",
       "      <td>NaN</td>\n",
       "      <td>NaN</td>\n",
       "    </tr>\n",
       "    <tr>\n",
       "      <th>Sample_207</th>\n",
       "      <td>15.739</td>\n",
       "      <td>16.877</td>\n",
       "      <td>15.469</td>\n",
       "      <td>16.898</td>\n",
       "      <td>18.636</td>\n",
       "      <td>17.950</td>\n",
       "      <td>16.321</td>\n",
       "      <td>16.401</td>\n",
       "      <td>18.849</td>\n",
       "      <td>17.580</td>\n",
       "      <td>...</td>\n",
       "      <td>15.808</td>\n",
       "      <td>16.098</td>\n",
       "      <td>14.403</td>\n",
       "      <td>15.715</td>\n",
       "      <td>16.586</td>\n",
       "      <td>18.725</td>\n",
       "      <td>16.138</td>\n",
       "      <td>19.599</td>\n",
       "      <td>13.637</td>\n",
       "      <td>11.174</td>\n",
       "    </tr>\n",
       "    <tr>\n",
       "      <th>Sample_208</th>\n",
       "      <td>15.477</td>\n",
       "      <td>16.779</td>\n",
       "      <td>14.995</td>\n",
       "      <td>16.132</td>\n",
       "      <td>14.908</td>\n",
       "      <td>17.530</td>\n",
       "      <td>NaN</td>\n",
       "      <td>16.119</td>\n",
       "      <td>18.368</td>\n",
       "      <td>15.202</td>\n",
       "      <td>...</td>\n",
       "      <td>15.157</td>\n",
       "      <td>16.712</td>\n",
       "      <td>NaN</td>\n",
       "      <td>14.640</td>\n",
       "      <td>16.533</td>\n",
       "      <td>19.411</td>\n",
       "      <td>15.807</td>\n",
       "      <td>19.545</td>\n",
       "      <td>13.216</td>\n",
       "      <td>NaN</td>\n",
       "    </tr>\n",
       "    <tr>\n",
       "      <th>Sample_209</th>\n",
       "      <td>15.727</td>\n",
       "      <td>17.261</td>\n",
       "      <td>15.175</td>\n",
       "      <td>16.235</td>\n",
       "      <td>17.893</td>\n",
       "      <td>17.744</td>\n",
       "      <td>16.371</td>\n",
       "      <td>15.780</td>\n",
       "      <td>18.806</td>\n",
       "      <td>16.532</td>\n",
       "      <td>...</td>\n",
       "      <td>15.237</td>\n",
       "      <td>15.652</td>\n",
       "      <td>15.211</td>\n",
       "      <td>14.205</td>\n",
       "      <td>16.749</td>\n",
       "      <td>19.275</td>\n",
       "      <td>15.732</td>\n",
       "      <td>19.577</td>\n",
       "      <td>11.042</td>\n",
       "      <td>11.791</td>\n",
       "    </tr>\n",
       "  </tbody>\n",
       "</table>\n",
       "<p>210 rows × 1213 columns</p>\n",
       "</div>"
      ],
      "text/plain": [
       "protein groups  A0A024QZX5;A0A087X1N8;P35237  A0A024R0T9;K7ER74;P02655  \\\n",
       "Sample ID                                                                \n",
       "Sample_000                            15.912                    16.852   \n",
       "Sample_001                            15.936                    16.874   \n",
       "Sample_002                            16.111                    14.523   \n",
       "Sample_003                            16.107                    17.032   \n",
       "Sample_004                            15.603                    15.331   \n",
       "...                                      ...                       ...   \n",
       "Sample_205                            15.682                    16.886   \n",
       "Sample_206                            15.798                    17.554   \n",
       "Sample_207                            15.739                    16.877   \n",
       "Sample_208                            15.477                    16.779   \n",
       "Sample_209                            15.727                    17.261   \n",
       "\n",
       "protein groups  A0A024R3W6;A0A024R412;O60462;O60462-2;O60462-3;O60462-4;O60462-5;Q7LBX6;X5D2Q8  \\\n",
       "Sample ID                                                                                        \n",
       "Sample_000                                                 15.570                                \n",
       "Sample_001                                                 15.519                                \n",
       "Sample_002                                                 15.935                                \n",
       "Sample_003                                                 15.802                                \n",
       "Sample_004                                                 15.375                                \n",
       "...                                                           ...                                \n",
       "Sample_205                                                 14.910                                \n",
       "Sample_206                                                 15.600                                \n",
       "Sample_207                                                 15.469                                \n",
       "Sample_208                                                 14.995                                \n",
       "Sample_209                                                 15.175                                \n",
       "\n",
       "protein groups  A0A024R644;A0A0A0MRU5;A0A1B0GWI2;O75503  A0A075B6H9  \\\n",
       "Sample ID                                                             \n",
       "Sample_000                                       16.481      20.246   \n",
       "Sample_001                                       16.387      19.941   \n",
       "Sample_002                                       16.416      19.251   \n",
       "Sample_003                                       16.979      19.628   \n",
       "Sample_004                                       16.679      20.450   \n",
       "...                                                 ...         ...   \n",
       "Sample_205                                       16.482      17.705   \n",
       "Sample_206                                       15.938      18.154   \n",
       "Sample_207                                       16.898      18.636   \n",
       "Sample_208                                       16.132      14.908   \n",
       "Sample_209                                       16.235      17.893   \n",
       "\n",
       "protein groups  A0A075B6I0  A0A075B6I1  A0A075B6I6  A0A075B6I9  A0A075B6J9  \\\n",
       "Sample ID                                                                    \n",
       "Sample_000          16.764      17.584      16.988      20.054         NaN   \n",
       "Sample_001          18.786      17.144         NaN      19.067      16.188   \n",
       "Sample_002          16.832      15.671      17.012      18.569         NaN   \n",
       "Sample_003          17.852      18.877      14.182      18.985      13.438   \n",
       "Sample_004          18.682      17.081      14.140      19.686      14.495   \n",
       "...                    ...         ...         ...         ...         ...   \n",
       "Sample_205          17.039         NaN      16.413      19.102      16.064   \n",
       "Sample_206          18.152      16.503      16.860      18.538      15.288   \n",
       "Sample_207          17.950      16.321      16.401      18.849      17.580   \n",
       "Sample_208          17.530         NaN      16.119      18.368      15.202   \n",
       "Sample_209          17.744      16.371      15.780      18.806      16.532   \n",
       "\n",
       "protein groups  ...  Q9Y653;Q9Y653-2;Q9Y653-3  Q9Y696  Q9Y6C2  Q9Y6N6  \\\n",
       "Sample ID       ...                                                     \n",
       "Sample_000      ...                    16.012  15.178     NaN  15.050   \n",
       "Sample_001      ...                    15.528  15.576     NaN  14.833   \n",
       "Sample_002      ...                    15.229  14.728  13.757  15.118   \n",
       "Sample_003      ...                    15.495  14.590  14.682  15.140   \n",
       "Sample_004      ...                    14.757  15.094  14.048  15.256   \n",
       "...             ...                       ...     ...     ...     ...   \n",
       "Sample_205      ...                    15.235  15.684  14.236  15.415   \n",
       "Sample_206      ...                    15.422  16.106     NaN  15.345   \n",
       "Sample_207      ...                    15.808  16.098  14.403  15.715   \n",
       "Sample_208      ...                    15.157  16.712     NaN  14.640   \n",
       "Sample_209      ...                    15.237  15.652  15.211  14.205   \n",
       "\n",
       "protein groups  Q9Y6N7;Q9Y6N7-2;Q9Y6N7-4  Q9Y6R7  Q9Y6X5  Q9Y6Y8;Q9Y6Y8-2  \\\n",
       "Sample ID                                                                   \n",
       "Sample_000                        16.842  19.863     NaN           19.563   \n",
       "Sample_001                        16.597  20.299  15.556           19.386   \n",
       "Sample_002                        17.440  19.598  15.735           20.447   \n",
       "Sample_003                        17.356  19.429     NaN           20.216   \n",
       "Sample_004                        17.075  19.582  15.328           19.867   \n",
       "...                                  ...     ...     ...              ...   \n",
       "Sample_205                        17.551  17.922  16.340           19.928   \n",
       "Sample_206                        17.084  18.708  14.249           19.433   \n",
       "Sample_207                        16.586  18.725  16.138           19.599   \n",
       "Sample_208                        16.533  19.411  15.807           19.545   \n",
       "Sample_209                        16.749  19.275  15.732           19.577   \n",
       "\n",
       "protein groups  Q9Y6Y9  S4R3U6  \n",
       "Sample ID                       \n",
       "Sample_000      12.837  12.805  \n",
       "Sample_001      13.970  12.442  \n",
       "Sample_002      12.636  12.505  \n",
       "Sample_003      12.627  12.445  \n",
       "Sample_004      13.145  12.235  \n",
       "...                ...     ...  \n",
       "Sample_205      12.929  11.802  \n",
       "Sample_206         NaN     NaN  \n",
       "Sample_207      13.637  11.174  \n",
       "Sample_208      13.216     NaN  \n",
       "Sample_209      11.042  11.791  \n",
       "\n",
       "[210 rows x 1213 columns]"
      ]
     },
     "execution_count": 18,
     "metadata": {},
     "output_type": "execute_result"
    }
   ],
   "source": [
    "if args.fn_qc_samples:\n",
    "    # Move this to data-preprocessing\n",
    "    qc_samples = pd.read_pickle(args.fn_qc_samples)\n",
    "    qc_cv_feat = qc_samples.std() / qc_samples.mean()\n",
    "    qc_cv_feat = qc_cv_feat.rename(qc_samples.columns.name)\n",
    "    fig, ax = plt.subplots(figsize=(4, 7))\n",
    "    ax = qc_cv_feat.plot.box(ax=ax)\n",
    "    ax.set_ylabel('Coefficient of Variation')\n",
    "    pimmslearn.savefig(fig, name='cv_qc_samples', folder=args.out_figures)\n",
    "    print((qc_cv_feat < CV_QC_SAMPLE).value_counts())\n",
    "    # only to ald_study data\n",
    "    ald_study = ald_study[pimmslearn.analyzers.diff_analysis.select_feat(qc_samples[ald_study.columns])]\n",
    "\n",
    "ald_study"
   ]
  },
  {
   "cell_type": "code",
   "execution_count": 19,
   "id": "7878cd18",
   "metadata": {
    "execution": {
     "iopub.execute_input": "2024-09-01T17:44:32.547370Z",
     "iopub.status.busy": "2024-09-01T17:44:32.547058Z",
     "iopub.status.idle": "2024-09-01T17:44:35.925959Z",
     "shell.execute_reply": "2024-09-01T17:44:35.925277Z"
    },
    "lines_to_next_cell": 2,
    "papermill": {
     "duration": 3.408969,
     "end_time": "2024-09-01T17:44:35.927938",
     "exception": false,
     "start_time": "2024-09-01T17:44:32.518969",
     "status": "completed"
    },
    "tags": [
     "hide-input"
    ]
   },
   "outputs": [
    {
     "name": "stderr",
     "output_type": "stream",
     "text": [
      "pimmslearn.plotting - INFO     Saved Figures to runs/alzheimer_study/figures/tresholds_normal_imputation\n"
     ]
    },
    {
     "data": {
      "image/png": "[encoded data removed]",
      "text/plain": [
       "<Figure size 2352x1029 with 2 Axes>"
      ]
     },
     "metadata": {},
     "output_type": "display_data"
    }
   ],
   "source": [
    "fig, axes = pimmslearn.plotting.plot_cutoffs(observed.unstack(),\n",
    "                                       feat_completness_over_samples=cutoffs.feat_completness_over_samples,\n",
    "                                       min_feat_in_sample=cutoffs.min_feat_in_sample)\n",
    "pimmslearn.savefig(fig, name='tresholds_normal_imputation', folder=args.out_figures)"
   ]
  },
  {
   "cell_type": "markdown",
   "id": "d078d558",
   "metadata": {
    "papermill": {
     "duration": 0.041959,
     "end_time": "2024-09-01T17:44:36.000275",
     "exception": false,
     "start_time": "2024-09-01T17:44:35.958316",
     "status": "completed"
    },
    "tags": []
   },
   "source": [
    "## Load model predictions for (real) missing data\n",
    "Load from:"
   ]
  },
  {
   "cell_type": "code",
   "execution_count": 20,
   "id": "cad19e71",
   "metadata": {
    "execution": {
     "iopub.execute_input": "2024-09-01T17:44:36.074478Z",
     "iopub.status.busy": "2024-09-01T17:44:36.073764Z",
     "iopub.status.idle": "2024-09-01T17:44:36.078806Z",
     "shell.execute_reply": "2024-09-01T17:44:36.078211Z"
    },
    "papermill": {
     "duration": 0.041401,
     "end_time": "2024-09-01T17:44:36.082819",
     "exception": false,
     "start_time": "2024-09-01T17:44:36.041418",
     "status": "completed"
    },
    "tags": [
     "hide-input"
    ]
   },
   "outputs": [
    {
     "data": {
      "text/plain": [
       "PosixPath('runs/alzheimer_study/preds/pred_real_na_TRKNN.csv')"
      ]
     },
     "execution_count": 20,
     "metadata": {},
     "output_type": "execute_result"
    }
   ],
   "source": [
    "# available_files = list(args.out_preds.iterdir())\n",
    "template_pred = str(args.out_preds / args.template_pred)\n",
    "fname = args.out_preds / args.template_pred.format(args.model)\n",
    "fname"
   ]
  },
  {
   "cell_type": "markdown",
   "id": "7b503926",
   "metadata": {
    "lines_to_next_cell": 0,
    "papermill": {
     "duration": 0.108419,
     "end_time": "2024-09-01T17:44:36.227448",
     "exception": false,
     "start_time": "2024-09-01T17:44:36.119029",
     "status": "completed"
    },
    "tags": []
   },
   "source": [
    "Baseline comparison:\n",
    "- in case of RSN -> use filtering as done in original [ALD study](https://github.com/RasmussenLab/pimms/tree/main/project/data/ALD_study) (Niu et al. 2022)\n",
    "- otherwise -> use all data\n",
    "\n",
    "Use columns which are provided by model"
   ]
  },
  {
   "cell_type": "code",
   "execution_count": 21,
   "id": "c2fb0603",
   "metadata": {
    "execution": {
     "iopub.execute_input": "2024-09-01T17:44:36.314417Z",
     "iopub.status.busy": "2024-09-01T17:44:36.314127Z",
     "iopub.status.idle": "2024-09-01T17:44:36.423084Z",
     "shell.execute_reply": "2024-09-01T17:44:36.422494Z"
    },
    "lines_to_next_cell": 2,
    "papermill": {
     "duration": 0.142864,
     "end_time": "2024-09-01T17:44:36.424603",
     "exception": false,
     "start_time": "2024-09-01T17:44:36.281739",
     "status": "completed"
    },
    "tags": [
     "hide-input"
    ]
   },
   "outputs": [
    {
     "data": {
      "text/plain": [
       "Sample ID   protein groups          \n",
       "Sample_000  A0A075B6J9                 15.602\n",
       "            A0A075B6Q5                 15.958\n",
       "            A0A075B6R2                 16.350\n",
       "            A0A075B6S5                 16.654\n",
       "            A0A087WSY4                 16.040\n",
       "                                        ...  \n",
       "Sample_209  Q9P1W8;Q9P1W8-2;Q9P1W8-4   16.028\n",
       "            Q9UI40;Q9UI40-2            16.591\n",
       "            Q9UIW2                     16.105\n",
       "            Q9UMX0;Q9UMX0-2;Q9UMX0-4   13.192\n",
       "            Q9UP79                     15.874\n",
       "Name: intensity, Length: 46401, dtype: float64"
      ]
     },
     "execution_count": 21,
     "metadata": {},
     "output_type": "execute_result"
    }
   ],
   "source": [
    "pred_real_na = None\n",
    "if args.model_key and str(args.model_key) != 'None':\n",
    "    pred_real_na = (pimmslearn\n",
    "                    .analyzers\n",
    "                    .compare_predictions\n",
    "                    .load_single_csv_pred_file(fname)\n",
    "                    )\n",
    "else:\n",
    "    logger.info('No model key provided -> no imputation of data.')\n",
    "\n",
    "if args.model_key == 'RSN':\n",
    "    logger.info('Filtering of data as done in original paper for RSN.')\n",
    "    # Select only idx from RSN which are selected by ald study cutoffs\n",
    "    idx_to_sel = ald_study.columns.intersection(pred_real_na.index.levels[-1])\n",
    "    pred_real_na = pred_real_na.loc[pd.IndexSlice[:, idx_to_sel]]\n",
    "pred_real_na"
   ]
  },
  {
   "cell_type": "markdown",
   "id": "153b0487",
   "metadata": {
    "lines_to_next_cell": 2,
    "papermill": {
     "duration": 0.048579,
     "end_time": "2024-09-01T17:44:36.520552",
     "exception": false,
     "start_time": "2024-09-01T17:44:36.471973",
     "status": "completed"
    },
    "tags": []
   },
   "source": [
    "Plot unchanged observed intensities to imputed intensity distribution (if available):"
   ]
  },
  {
   "cell_type": "code",
   "execution_count": 22,
   "id": "f94acb3f",
   "metadata": {
    "execution": {
     "iopub.execute_input": "2024-09-01T17:44:36.604410Z",
     "iopub.status.busy": "2024-09-01T17:44:36.603923Z",
     "iopub.status.idle": "2024-09-01T17:44:38.272491Z",
     "shell.execute_reply": "2024-09-01T17:44:38.271825Z"
    },
    "papermill": {
     "duration": 1.710128,
     "end_time": "2024-09-01T17:44:38.273958",
     "exception": false,
     "start_time": "2024-09-01T17:44:36.563830",
     "status": "completed"
    },
    "tags": [
     "hide-input"
    ]
   },
   "outputs": [
    {
     "name": "stderr",
     "output_type": "stream",
     "text": [
      "pimmslearn.plotting - INFO     Saved Figures to runs/alzheimer_study/diff_analysis/AD/dist_plots/real_na_obs_vs_TRKNN.pdf\n"
     ]
    },
    {
     "data": {
      "image/png": "[encoded data removed]",
      "text/plain": [
       "<Figure size 367.5x294 with 2 Axes>"
      ]
     },
     "metadata": {},
     "output_type": "display_data"
    }
   ],
   "source": [
    "def plot_distributions(observed: pd.Series,\n",
    "                       imputation: pd.Series = None,\n",
    "                       model_key: str = 'MODEL',\n",
    "                       figsize=(4, 3),\n",
    "                       sharex=True):\n",
    "    \"\"\"Plots distributions of intensities provided as dictionary of labels to pd.Series.\"\"\"\n",
    "    series_ = [observed, imputation] if imputation is not None else [observed]\n",
    "    min_bin, max_bin = pimmslearn.plotting.data.get_min_max_iterable([observed])\n",
    "\n",
    "    if imputation is not None:\n",
    "        fig, axes = plt.subplots(len(series_), figsize=figsize, sharex=sharex)\n",
    "        ax = axes[0]\n",
    "    else:\n",
    "        fig, ax = plt.subplots(1, figsize=figsize, sharex=sharex)\n",
    "\n",
    "    bins = range(min_bin, max_bin + 1, 1)\n",
    "\n",
    "    label = 'observed measurments'\n",
    "    ax = observed.hist(ax=ax, bins=bins, color='grey')\n",
    "    ax.set_title(f'{label} (N={len(observed):,d})')\n",
    "    ax.set_ylabel('observations')\n",
    "    ax.locator_params(axis='y', integer=True)\n",
    "    ax.yaxis.set_major_formatter(\"{x:,.0f}\")\n",
    "\n",
    "    if imputation is not None:\n",
    "        ax = axes[1]\n",
    "        label = f'Missing values imputed using {model_key.upper()}'\n",
    "        color = pimmslearn.plotting.defaults.color_model_mapping.get(model_key, None)\n",
    "        if color is None:\n",
    "            color = f'C{1}'\n",
    "        ax = imputation.hist(ax=ax, bins=bins, color=color)\n",
    "        ax.set_title(f'{label} (N={len(imputation):,d})')\n",
    "        ax.set_ylabel('observations')\n",
    "        ax.locator_params(axis='y', integer=True)\n",
    "        ax.yaxis.set_major_formatter(\"{x:,.0f}\")\n",
    "    return fig, bins\n",
    "\n",
    "\n",
    "pimmslearn.plotting.make_large_descriptors(6)\n",
    "fig, bins = plot_distributions(observed,\n",
    "                               imputation=pred_real_na,\n",
    "                               model_key=args.model_key, figsize=(2.5, 2))\n",
    "fname = args.out_folder / 'dist_plots' / f'real_na_obs_vs_{args.model_key}.pdf'\n",
    "files_out[fname.name] = fname.as_posix()\n",
    "pimmslearn.savefig(fig, name=fname)"
   ]
  },
  {
   "cell_type": "markdown",
   "id": "0611fbf2",
   "metadata": {
    "papermill": {
     "duration": 0.044981,
     "end_time": "2024-09-01T17:44:38.363468",
     "exception": false,
     "start_time": "2024-09-01T17:44:38.318487",
     "status": "completed"
    },
    "tags": []
   },
   "source": [
    "Dump frequency of histograms to file for reporting (if imputed values are used)"
   ]
  },
  {
   "cell_type": "code",
   "execution_count": 23,
   "id": "60b9d0a4",
   "metadata": {
    "execution": {
     "iopub.execute_input": "2024-09-01T17:44:38.448343Z",
     "iopub.status.busy": "2024-09-01T17:44:38.447672Z",
     "iopub.status.idle": "2024-09-01T17:44:38.735875Z",
     "shell.execute_reply": "2024-09-01T17:44:38.735266Z"
    },
    "papermill": {
     "duration": 0.326707,
     "end_time": "2024-09-01T17:44:38.737506",
     "exception": false,
     "start_time": "2024-09-01T17:44:38.410799",
     "status": "completed"
    },
    "tags": [
     "hide-input"
    ]
   },
   "outputs": [
    {
     "name": "stderr",
     "output_type": "stream",
     "text": [
      "/home/runner/work/pimms/pimms/project/.snakemake/conda/6192e93206804e092b1c71b91535a817_/lib/python3.12/site-packages/pimmslearn/pandas/__init__.py:319: FutureWarning: The default of observed=False is deprecated and will be changed to True in a future version of pandas. Pass observed=False to retain current behavior or observed=True to adopt the future default and silence this warning.\n",
      "  _series = (pd.cut(df[col], bins=bins).to_frame().groupby(col).size())\n",
      "/home/runner/work/pimms/pimms/project/.snakemake/conda/6192e93206804e092b1c71b91535a817_/lib/python3.12/site-packages/pimmslearn/pandas/__init__.py:319: FutureWarning: The default of observed=False is deprecated and will be changed to True in a future version of pandas. Pass observed=False to retain current behavior or observed=True to adopt the future default and silence this warning.\n",
      "  _series = (pd.cut(df[col], bins=bins).to_frame().groupby(col).size())\n"
     ]
    },
    {
     "name": "stderr",
     "output_type": "stream",
     "text": [
      "root - INFO     Counts per bin saved to runs/alzheimer_study/diff_analysis/AD/dist_plots/real_na_obs_vs_TRKNN.xlsx\n"
     ]
    },
    {
     "data": {
      "text/html": [
       "<div>\n",
       "<style scoped>\n",
       "    .dataframe tbody tr th:only-of-type {\n",
       "        vertical-align: middle;\n",
       "    }\n",
       "\n",
       "    .dataframe tbody tr th {\n",
       "        vertical-align: top;\n",
       "    }\n",
       "\n",
       "    .dataframe thead th {\n",
       "        text-align: right;\n",
       "    }\n",
       "</style>\n",
       "<table border=\"1\" class=\"dataframe\">\n",
       "  <thead>\n",
       "    <tr style=\"text-align: right;\">\n",
       "      <th></th>\n",
       "      <th>observed</th>\n",
       "      <th>TRKNN</th>\n",
       "    </tr>\n",
       "    <tr>\n",
       "      <th>bin</th>\n",
       "      <th></th>\n",
       "      <th></th>\n",
       "    </tr>\n",
       "  </thead>\n",
       "  <tbody>\n",
       "    <tr>\n",
       "      <th>(6, 7]</th>\n",
       "      <td>1</td>\n",
       "      <td>1</td>\n",
       "    </tr>\n",
       "    <tr>\n",
       "      <th>(7, 8]</th>\n",
       "      <td>4</td>\n",
       "      <td>1</td>\n",
       "    </tr>\n",
       "    <tr>\n",
       "      <th>(8, 9]</th>\n",
       "      <td>39</td>\n",
       "      <td>6</td>\n",
       "    </tr>\n",
       "    <tr>\n",
       "      <th>(9, 10]</th>\n",
       "      <td>136</td>\n",
       "      <td>38</td>\n",
       "    </tr>\n",
       "    <tr>\n",
       "      <th>(10, 11]</th>\n",
       "      <td>529</td>\n",
       "      <td>268</td>\n",
       "    </tr>\n",
       "    <tr>\n",
       "      <th>(11, 12]</th>\n",
       "      <td>1,731</td>\n",
       "      <td>1,339</td>\n",
       "    </tr>\n",
       "    <tr>\n",
       "      <th>(12, 13]</th>\n",
       "      <td>4,644</td>\n",
       "      <td>3,740</td>\n",
       "    </tr>\n",
       "    <tr>\n",
       "      <th>(13, 14]</th>\n",
       "      <td>12,161</td>\n",
       "      <td>7,606</td>\n",
       "    </tr>\n",
       "    <tr>\n",
       "      <th>(14, 15]</th>\n",
       "      <td>27,515</td>\n",
       "      <td>12,089</td>\n",
       "    </tr>\n",
       "    <tr>\n",
       "      <th>(15, 16]</th>\n",
       "      <td>44,723</td>\n",
       "      <td>11,965</td>\n",
       "    </tr>\n",
       "    <tr>\n",
       "      <th>(16, 17]</th>\n",
       "      <td>45,981</td>\n",
       "      <td>6,092</td>\n",
       "    </tr>\n",
       "    <tr>\n",
       "      <th>(17, 18]</th>\n",
       "      <td>36,274</td>\n",
       "      <td>1,877</td>\n",
       "    </tr>\n",
       "    <tr>\n",
       "      <th>(18, 19]</th>\n",
       "      <td>25,049</td>\n",
       "      <td>651</td>\n",
       "    </tr>\n",
       "    <tr>\n",
       "      <th>(19, 20]</th>\n",
       "      <td>20,386</td>\n",
       "      <td>333</td>\n",
       "    </tr>\n",
       "    <tr>\n",
       "      <th>(20, 21]</th>\n",
       "      <td>13,495</td>\n",
       "      <td>208</td>\n",
       "    </tr>\n",
       "    <tr>\n",
       "      <th>(21, 22]</th>\n",
       "      <td>8,234</td>\n",
       "      <td>76</td>\n",
       "    </tr>\n",
       "    <tr>\n",
       "      <th>(22, 23]</th>\n",
       "      <td>4,885</td>\n",
       "      <td>55</td>\n",
       "    </tr>\n",
       "    <tr>\n",
       "      <th>(23, 24]</th>\n",
       "      <td>2,459</td>\n",
       "      <td>45</td>\n",
       "    </tr>\n",
       "    <tr>\n",
       "      <th>(24, 25]</th>\n",
       "      <td>1,237</td>\n",
       "      <td>8</td>\n",
       "    </tr>\n",
       "    <tr>\n",
       "      <th>(25, 26]</th>\n",
       "      <td>1,392</td>\n",
       "      <td>1</td>\n",
       "    </tr>\n",
       "    <tr>\n",
       "      <th>(26, 27]</th>\n",
       "      <td>643</td>\n",
       "      <td>0</td>\n",
       "    </tr>\n",
       "    <tr>\n",
       "      <th>(27, 28]</th>\n",
       "      <td>88</td>\n",
       "      <td>1</td>\n",
       "    </tr>\n",
       "    <tr>\n",
       "      <th>(28, 29]</th>\n",
       "      <td>216</td>\n",
       "      <td>1</td>\n",
       "    </tr>\n",
       "    <tr>\n",
       "      <th>(29, 30]</th>\n",
       "      <td>163</td>\n",
       "      <td>0</td>\n",
       "    </tr>\n",
       "  </tbody>\n",
       "</table>\n",
       "</div>"
      ],
      "text/plain": [
       "          observed  TRKNN\n",
       "bin                      \n",
       "(6, 7]           1      1\n",
       "(7, 8]           4      1\n",
       "(8, 9]          39      6\n",
       "(9, 10]        136     38\n",
       "(10, 11]       529    268\n",
       "(11, 12]     1,731  1,339\n",
       "(12, 13]     4,644  3,740\n",
       "(13, 14]    12,161  7,606\n",
       "(14, 15]    27,515 12,089\n",
       "(15, 16]    44,723 11,965\n",
       "(16, 17]    45,981  6,092\n",
       "(17, 18]    36,274  1,877\n",
       "(18, 19]    25,049    651\n",
       "(19, 20]    20,386    333\n",
       "(20, 21]    13,495    208\n",
       "(21, 22]     8,234     76\n",
       "(22, 23]     4,885     55\n",
       "(23, 24]     2,459     45\n",
       "(24, 25]     1,237      8\n",
       "(25, 26]     1,392      1\n",
       "(26, 27]       643      0\n",
       "(27, 28]        88      1\n",
       "(28, 29]       216      1\n",
       "(29, 30]       163      0"
      ]
     },
     "metadata": {},
     "output_type": "display_data"
    }
   ],
   "source": [
    "if pred_real_na is not None:\n",
    "    counts_per_bin = pd.concat([\n",
    "        pimmslearn.pandas.get_counts_per_bin(observed.to_frame('observed'), bins=bins),\n",
    "        pimmslearn.pandas.get_counts_per_bin(pred_real_na.to_frame(args.model_key), bins=bins)\n",
    "    ], axis=1)\n",
    "    counts_per_bin.to_excel(fname.with_suffix('.xlsx'))\n",
    "    logger.info(\"Counts per bin saved to %s\", fname.with_suffix('.xlsx'))\n",
    "    display(counts_per_bin)"
   ]
  },
  {
   "cell_type": "markdown",
   "id": "438d46de",
   "metadata": {
    "papermill": {
     "duration": 0.032496,
     "end_time": "2024-09-01T17:44:38.815108",
     "exception": false,
     "start_time": "2024-09-01T17:44:38.782612",
     "status": "completed"
    },
    "tags": []
   },
   "source": [
    "## Mean shift by model\n",
    "Compare how imputed values are shifted in comparsion to overall distribution.\n",
    "\n",
    "First by using all intensities without any grouping:"
   ]
  },
  {
   "cell_type": "code",
   "execution_count": 24,
   "id": "a64dadd7",
   "metadata": {
    "execution": {
     "iopub.execute_input": "2024-09-01T17:44:38.892889Z",
     "iopub.status.busy": "2024-09-01T17:44:38.892598Z",
     "iopub.status.idle": "2024-09-01T17:44:38.919129Z",
     "shell.execute_reply": "2024-09-01T17:44:38.918525Z"
    },
    "papermill": {
     "duration": 0.061487,
     "end_time": "2024-09-01T17:44:38.920807",
     "exception": false,
     "start_time": "2024-09-01T17:44:38.859320",
     "status": "completed"
    },
    "tags": [
     "hide-input"
    ]
   },
   "outputs": [
    {
     "data": {
      "text/html": [
       "<div>\n",
       "<style scoped>\n",
       "    .dataframe tbody tr th:only-of-type {\n",
       "        vertical-align: middle;\n",
       "    }\n",
       "\n",
       "    .dataframe tbody tr th {\n",
       "        vertical-align: top;\n",
       "    }\n",
       "\n",
       "    .dataframe thead th {\n",
       "        text-align: right;\n",
       "    }\n",
       "</style>\n",
       "<table border=\"1\" class=\"dataframe\">\n",
       "  <thead>\n",
       "    <tr style=\"text-align: right;\">\n",
       "      <th></th>\n",
       "      <th>mean</th>\n",
       "      <th>std</th>\n",
       "      <th>mean shift (in std)</th>\n",
       "      <th>std shrinkage</th>\n",
       "    </tr>\n",
       "  </thead>\n",
       "  <tbody>\n",
       "    <tr>\n",
       "      <th>observed</th>\n",
       "      <td>17.119</td>\n",
       "      <td>2.567</td>\n",
       "      <td>NaN</td>\n",
       "      <td>NaN</td>\n",
       "    </tr>\n",
       "    <tr>\n",
       "      <th>TRKNN</th>\n",
       "      <td>14.849</td>\n",
       "      <td>1.619</td>\n",
       "      <td>0.885</td>\n",
       "      <td>0.631</td>\n",
       "    </tr>\n",
       "  </tbody>\n",
       "</table>\n",
       "</div>"
      ],
      "text/plain": [
       "           mean   std  mean shift (in std)  std shrinkage\n",
       "observed 17.119 2.567                  NaN            NaN\n",
       "TRKNN    14.849 1.619                0.885          0.631"
      ]
     },
     "metadata": {},
     "output_type": "display_data"
    }
   ],
   "source": [
    "if pred_real_na is not None:\n",
    "    shifts = (pimmslearn.imputation.compute_moments_shift(observed, pred_real_na,\n",
    "                                                    names=('observed', args.model_key)))\n",
    "    display(pd.DataFrame(shifts).T)"
   ]
  },
  {
   "cell_type": "markdown",
   "id": "518ab98b",
   "metadata": {
    "papermill": {
     "duration": 0.032535,
     "end_time": "2024-09-01T17:44:38.998277",
     "exception": false,
     "start_time": "2024-09-01T17:44:38.965742",
     "status": "completed"
    },
    "tags": []
   },
   "source": [
    "Then by averaging over the calculation by sample:"
   ]
  },
  {
   "cell_type": "code",
   "execution_count": 25,
   "id": "230f9f60",
   "metadata": {
    "execution": {
     "iopub.execute_input": "2024-09-01T17:44:39.076677Z",
     "iopub.status.busy": "2024-09-01T17:44:39.076384Z",
     "iopub.status.idle": "2024-09-01T17:44:39.167328Z",
     "shell.execute_reply": "2024-09-01T17:44:39.166575Z"
    },
    "papermill": {
     "duration": 0.138052,
     "end_time": "2024-09-01T17:44:39.169039",
     "exception": false,
     "start_time": "2024-09-01T17:44:39.030987",
     "status": "completed"
    },
    "tags": [
     "hide-input"
    ]
   },
   "outputs": [
    {
     "data": {
      "text/html": [
       "<div>\n",
       "<style scoped>\n",
       "    .dataframe tbody tr th:only-of-type {\n",
       "        vertical-align: middle;\n",
       "    }\n",
       "\n",
       "    .dataframe tbody tr th {\n",
       "        vertical-align: top;\n",
       "    }\n",
       "\n",
       "    .dataframe thead th {\n",
       "        text-align: right;\n",
       "    }\n",
       "</style>\n",
       "<table border=\"1\" class=\"dataframe\">\n",
       "  <thead>\n",
       "    <tr style=\"text-align: right;\">\n",
       "      <th></th>\n",
       "      <th>observed</th>\n",
       "      <th>TRKNN</th>\n",
       "    </tr>\n",
       "  </thead>\n",
       "  <tbody>\n",
       "    <tr>\n",
       "      <th>count</th>\n",
       "      <td>1,200.043</td>\n",
       "      <td>220.957</td>\n",
       "    </tr>\n",
       "    <tr>\n",
       "      <th>mean</th>\n",
       "      <td>17.133</td>\n",
       "      <td>14.831</td>\n",
       "    </tr>\n",
       "    <tr>\n",
       "      <th>std</th>\n",
       "      <td>2.564</td>\n",
       "      <td>1.576</td>\n",
       "    </tr>\n",
       "    <tr>\n",
       "      <th>mean_shift</th>\n",
       "      <td>0.000</td>\n",
       "      <td>0.898</td>\n",
       "    </tr>\n",
       "    <tr>\n",
       "      <th>std shrinkage</th>\n",
       "      <td>1.000</td>\n",
       "      <td>0.615</td>\n",
       "    </tr>\n",
       "  </tbody>\n",
       "</table>\n",
       "</div>"
      ],
      "text/plain": [
       "               observed   TRKNN\n",
       "count         1,200.043 220.957\n",
       "mean             17.133  14.831\n",
       "std               2.564   1.576\n",
       "mean_shift        0.000   0.898\n",
       "std shrinkage     1.000   0.615"
      ]
     },
     "metadata": {},
     "output_type": "display_data"
    }
   ],
   "source": [
    "if pred_real_na is not None:\n",
    "    index_level = 0  # per sample\n",
    "    mean_by_sample = pd.DataFrame(\n",
    "        {'observed': pimmslearn.imputation.stats_by_level(observed, index_level=index_level),\n",
    "         args.model_key: pimmslearn.imputation.stats_by_level(pred_real_na, index_level=index_level)\n",
    "         })\n",
    "    mean_by_sample.loc['mean_shift'] = (mean_by_sample.loc['mean', 'observed'] -\n",
    "                                        mean_by_sample.loc['mean']).abs() / mean_by_sample.loc['std', 'observed']\n",
    "    mean_by_sample.loc['std shrinkage'] = mean_by_sample.loc['std'] / \\\n",
    "        mean_by_sample.loc['std', 'observed']\n",
    "    display(mean_by_sample)"
   ]
  },
  {
   "cell_type": "markdown",
   "id": "53d3008e",
   "metadata": {
    "papermill": {
     "duration": 0.032993,
     "end_time": "2024-09-01T17:44:39.246733",
     "exception": false,
     "start_time": "2024-09-01T17:44:39.213740",
     "status": "completed"
    },
    "tags": []
   },
   "source": [
    "## Differential analysis\n",
    "Combine observed and imputed data (if available) for differential analysis:"
   ]
  },
  {
   "cell_type": "code",
   "execution_count": 26,
   "id": "9fdaf335",
   "metadata": {
    "execution": {
     "iopub.execute_input": "2024-09-01T17:44:39.335388Z",
     "iopub.status.busy": "2024-09-01T17:44:39.335080Z",
     "iopub.status.idle": "2024-09-01T17:44:39.461847Z",
     "shell.execute_reply": "2024-09-01T17:44:39.461224Z"
    },
    "papermill": {
     "duration": 0.170867,
     "end_time": "2024-09-01T17:44:39.463433",
     "exception": false,
     "start_time": "2024-09-01T17:44:39.292566",
     "status": "completed"
    },
    "tags": [
     "hide-input"
    ]
   },
   "outputs": [
    {
     "data": {
      "text/html": [
       "<div>\n",
       "<style scoped>\n",
       "    .dataframe tbody tr th:only-of-type {\n",
       "        vertical-align: middle;\n",
       "    }\n",
       "\n",
       "    .dataframe tbody tr th {\n",
       "        vertical-align: top;\n",
       "    }\n",
       "\n",
       "    .dataframe thead th {\n",
       "        text-align: right;\n",
       "    }\n",
       "</style>\n",
       "<table border=\"1\" class=\"dataframe\">\n",
       "  <thead>\n",
       "    <tr style=\"text-align: right;\">\n",
       "      <th>protein groups</th>\n",
       "      <th>A0A024QZX5;A0A087X1N8;P35237</th>\n",
       "      <th>A0A024R0T9;K7ER74;P02655</th>\n",
       "      <th>A0A024R3W6;A0A024R412;O60462;O60462-2;O60462-3;O60462-4;O60462-5;Q7LBX6;X5D2Q8</th>\n",
       "      <th>A0A024R644;A0A0A0MRU5;A0A1B0GWI2;O75503</th>\n",
       "      <th>A0A075B6H7</th>\n",
       "      <th>A0A075B6H9</th>\n",
       "      <th>A0A075B6I0</th>\n",
       "      <th>A0A075B6I1</th>\n",
       "      <th>A0A075B6I6</th>\n",
       "      <th>A0A075B6I9</th>\n",
       "      <th>...</th>\n",
       "      <th>Q9Y653;Q9Y653-2;Q9Y653-3</th>\n",
       "      <th>Q9Y696</th>\n",
       "      <th>Q9Y6C2</th>\n",
       "      <th>Q9Y6N6</th>\n",
       "      <th>Q9Y6N7;Q9Y6N7-2;Q9Y6N7-4</th>\n",
       "      <th>Q9Y6R7</th>\n",
       "      <th>Q9Y6X5</th>\n",
       "      <th>Q9Y6Y8;Q9Y6Y8-2</th>\n",
       "      <th>Q9Y6Y9</th>\n",
       "      <th>S4R3U6</th>\n",
       "    </tr>\n",
       "    <tr>\n",
       "      <th>Sample ID</th>\n",
       "      <th></th>\n",
       "      <th></th>\n",
       "      <th></th>\n",
       "      <th></th>\n",
       "      <th></th>\n",
       "      <th></th>\n",
       "      <th></th>\n",
       "      <th></th>\n",
       "      <th></th>\n",
       "      <th></th>\n",
       "      <th></th>\n",
       "      <th></th>\n",
       "      <th></th>\n",
       "      <th></th>\n",
       "      <th></th>\n",
       "      <th></th>\n",
       "      <th></th>\n",
       "      <th></th>\n",
       "      <th></th>\n",
       "      <th></th>\n",
       "      <th></th>\n",
       "    </tr>\n",
       "  </thead>\n",
       "  <tbody>\n",
       "    <tr>\n",
       "      <th>Sample_000</th>\n",
       "      <td>15.912</td>\n",
       "      <td>16.852</td>\n",
       "      <td>15.570</td>\n",
       "      <td>16.481</td>\n",
       "      <td>17.301</td>\n",
       "      <td>20.246</td>\n",
       "      <td>16.764</td>\n",
       "      <td>17.584</td>\n",
       "      <td>16.988</td>\n",
       "      <td>20.054</td>\n",
       "      <td>...</td>\n",
       "      <td>16.012</td>\n",
       "      <td>15.178</td>\n",
       "      <td>13.770</td>\n",
       "      <td>15.050</td>\n",
       "      <td>16.842</td>\n",
       "      <td>19.863</td>\n",
       "      <td>15.931</td>\n",
       "      <td>19.563</td>\n",
       "      <td>12.837</td>\n",
       "      <td>12.805</td>\n",
       "    </tr>\n",
       "    <tr>\n",
       "      <th>Sample_001</th>\n",
       "      <td>15.936</td>\n",
       "      <td>16.874</td>\n",
       "      <td>15.519</td>\n",
       "      <td>16.387</td>\n",
       "      <td>13.796</td>\n",
       "      <td>19.941</td>\n",
       "      <td>18.786</td>\n",
       "      <td>17.144</td>\n",
       "      <td>16.954</td>\n",
       "      <td>19.067</td>\n",
       "      <td>...</td>\n",
       "      <td>15.528</td>\n",
       "      <td>15.576</td>\n",
       "      <td>13.938</td>\n",
       "      <td>14.833</td>\n",
       "      <td>16.597</td>\n",
       "      <td>20.299</td>\n",
       "      <td>15.556</td>\n",
       "      <td>19.386</td>\n",
       "      <td>13.970</td>\n",
       "      <td>12.442</td>\n",
       "    </tr>\n",
       "    <tr>\n",
       "      <th>Sample_002</th>\n",
       "      <td>16.111</td>\n",
       "      <td>14.523</td>\n",
       "      <td>15.935</td>\n",
       "      <td>16.416</td>\n",
       "      <td>18.175</td>\n",
       "      <td>19.251</td>\n",
       "      <td>16.832</td>\n",
       "      <td>15.671</td>\n",
       "      <td>17.012</td>\n",
       "      <td>18.569</td>\n",
       "      <td>...</td>\n",
       "      <td>15.229</td>\n",
       "      <td>14.728</td>\n",
       "      <td>13.757</td>\n",
       "      <td>15.118</td>\n",
       "      <td>17.440</td>\n",
       "      <td>19.598</td>\n",
       "      <td>15.735</td>\n",
       "      <td>20.447</td>\n",
       "      <td>12.636</td>\n",
       "      <td>12.505</td>\n",
       "    </tr>\n",
       "    <tr>\n",
       "      <th>Sample_003</th>\n",
       "      <td>16.107</td>\n",
       "      <td>17.032</td>\n",
       "      <td>15.802</td>\n",
       "      <td>16.979</td>\n",
       "      <td>15.963</td>\n",
       "      <td>19.628</td>\n",
       "      <td>17.852</td>\n",
       "      <td>18.877</td>\n",
       "      <td>14.182</td>\n",
       "      <td>18.985</td>\n",
       "      <td>...</td>\n",
       "      <td>15.495</td>\n",
       "      <td>14.590</td>\n",
       "      <td>14.682</td>\n",
       "      <td>15.140</td>\n",
       "      <td>17.356</td>\n",
       "      <td>19.429</td>\n",
       "      <td>16.006</td>\n",
       "      <td>20.216</td>\n",
       "      <td>12.627</td>\n",
       "      <td>12.445</td>\n",
       "    </tr>\n",
       "    <tr>\n",
       "      <th>Sample_004</th>\n",
       "      <td>15.603</td>\n",
       "      <td>15.331</td>\n",
       "      <td>15.375</td>\n",
       "      <td>16.679</td>\n",
       "      <td>15.473</td>\n",
       "      <td>20.450</td>\n",
       "      <td>18.682</td>\n",
       "      <td>17.081</td>\n",
       "      <td>14.140</td>\n",
       "      <td>19.686</td>\n",
       "      <td>...</td>\n",
       "      <td>14.757</td>\n",
       "      <td>15.094</td>\n",
       "      <td>14.048</td>\n",
       "      <td>15.256</td>\n",
       "      <td>17.075</td>\n",
       "      <td>19.582</td>\n",
       "      <td>15.328</td>\n",
       "      <td>19.867</td>\n",
       "      <td>13.145</td>\n",
       "      <td>12.235</td>\n",
       "    </tr>\n",
       "    <tr>\n",
       "      <th>...</th>\n",
       "      <td>...</td>\n",
       "      <td>...</td>\n",
       "      <td>...</td>\n",
       "      <td>...</td>\n",
       "      <td>...</td>\n",
       "      <td>...</td>\n",
       "      <td>...</td>\n",
       "      <td>...</td>\n",
       "      <td>...</td>\n",
       "      <td>...</td>\n",
       "      <td>...</td>\n",
       "      <td>...</td>\n",
       "      <td>...</td>\n",
       "      <td>...</td>\n",
       "      <td>...</td>\n",
       "      <td>...</td>\n",
       "      <td>...</td>\n",
       "      <td>...</td>\n",
       "      <td>...</td>\n",
       "      <td>...</td>\n",
       "      <td>...</td>\n",
       "    </tr>\n",
       "    <tr>\n",
       "      <th>Sample_205</th>\n",
       "      <td>15.682</td>\n",
       "      <td>16.886</td>\n",
       "      <td>14.910</td>\n",
       "      <td>16.482</td>\n",
       "      <td>16.035</td>\n",
       "      <td>17.705</td>\n",
       "      <td>17.039</td>\n",
       "      <td>15.261</td>\n",
       "      <td>16.413</td>\n",
       "      <td>19.102</td>\n",
       "      <td>...</td>\n",
       "      <td>15.235</td>\n",
       "      <td>15.684</td>\n",
       "      <td>14.236</td>\n",
       "      <td>15.415</td>\n",
       "      <td>17.551</td>\n",
       "      <td>17.922</td>\n",
       "      <td>16.340</td>\n",
       "      <td>19.928</td>\n",
       "      <td>12.929</td>\n",
       "      <td>11.802</td>\n",
       "    </tr>\n",
       "    <tr>\n",
       "      <th>Sample_206</th>\n",
       "      <td>15.798</td>\n",
       "      <td>17.554</td>\n",
       "      <td>15.600</td>\n",
       "      <td>15.938</td>\n",
       "      <td>15.820</td>\n",
       "      <td>18.154</td>\n",
       "      <td>18.152</td>\n",
       "      <td>16.503</td>\n",
       "      <td>16.860</td>\n",
       "      <td>18.538</td>\n",
       "      <td>...</td>\n",
       "      <td>15.422</td>\n",
       "      <td>16.106</td>\n",
       "      <td>14.543</td>\n",
       "      <td>15.345</td>\n",
       "      <td>17.084</td>\n",
       "      <td>18.708</td>\n",
       "      <td>14.249</td>\n",
       "      <td>19.433</td>\n",
       "      <td>12.319</td>\n",
       "      <td>11.307</td>\n",
       "    </tr>\n",
       "    <tr>\n",
       "      <th>Sample_207</th>\n",
       "      <td>15.739</td>\n",
       "      <td>16.877</td>\n",
       "      <td>15.469</td>\n",
       "      <td>16.898</td>\n",
       "      <td>15.779</td>\n",
       "      <td>18.636</td>\n",
       "      <td>17.950</td>\n",
       "      <td>16.321</td>\n",
       "      <td>16.401</td>\n",
       "      <td>18.849</td>\n",
       "      <td>...</td>\n",
       "      <td>15.808</td>\n",
       "      <td>16.098</td>\n",
       "      <td>14.403</td>\n",
       "      <td>15.715</td>\n",
       "      <td>16.586</td>\n",
       "      <td>18.725</td>\n",
       "      <td>16.138</td>\n",
       "      <td>19.599</td>\n",
       "      <td>13.637</td>\n",
       "      <td>11.174</td>\n",
       "    </tr>\n",
       "    <tr>\n",
       "      <th>Sample_208</th>\n",
       "      <td>15.477</td>\n",
       "      <td>16.779</td>\n",
       "      <td>14.995</td>\n",
       "      <td>16.132</td>\n",
       "      <td>15.361</td>\n",
       "      <td>14.908</td>\n",
       "      <td>17.530</td>\n",
       "      <td>15.748</td>\n",
       "      <td>16.119</td>\n",
       "      <td>18.368</td>\n",
       "      <td>...</td>\n",
       "      <td>15.157</td>\n",
       "      <td>16.712</td>\n",
       "      <td>14.371</td>\n",
       "      <td>14.640</td>\n",
       "      <td>16.533</td>\n",
       "      <td>19.411</td>\n",
       "      <td>15.807</td>\n",
       "      <td>19.545</td>\n",
       "      <td>13.216</td>\n",
       "      <td>10.901</td>\n",
       "    </tr>\n",
       "    <tr>\n",
       "      <th>Sample_209</th>\n",
       "      <td>15.727</td>\n",
       "      <td>17.261</td>\n",
       "      <td>15.175</td>\n",
       "      <td>16.235</td>\n",
       "      <td>15.840</td>\n",
       "      <td>17.893</td>\n",
       "      <td>17.744</td>\n",
       "      <td>16.371</td>\n",
       "      <td>15.780</td>\n",
       "      <td>18.806</td>\n",
       "      <td>...</td>\n",
       "      <td>15.237</td>\n",
       "      <td>15.652</td>\n",
       "      <td>15.211</td>\n",
       "      <td>14.205</td>\n",
       "      <td>16.749</td>\n",
       "      <td>19.275</td>\n",
       "      <td>15.732</td>\n",
       "      <td>19.577</td>\n",
       "      <td>11.042</td>\n",
       "      <td>11.791</td>\n",
       "    </tr>\n",
       "  </tbody>\n",
       "</table>\n",
       "<p>197 rows × 1421 columns</p>\n",
       "</div>"
      ],
      "text/plain": [
       "protein groups  A0A024QZX5;A0A087X1N8;P35237  A0A024R0T9;K7ER74;P02655  \\\n",
       "Sample ID                                                                \n",
       "Sample_000                            15.912                    16.852   \n",
       "Sample_001                            15.936                    16.874   \n",
       "Sample_002                            16.111                    14.523   \n",
       "Sample_003                            16.107                    17.032   \n",
       "Sample_004                            15.603                    15.331   \n",
       "...                                      ...                       ...   \n",
       "Sample_205                            15.682                    16.886   \n",
       "Sample_206                            15.798                    17.554   \n",
       "Sample_207                            15.739                    16.877   \n",
       "Sample_208                            15.477                    16.779   \n",
       "Sample_209                            15.727                    17.261   \n",
       "\n",
       "protein groups  A0A024R3W6;A0A024R412;O60462;O60462-2;O60462-3;O60462-4;O60462-5;Q7LBX6;X5D2Q8  \\\n",
       "Sample ID                                                                                        \n",
       "Sample_000                                                 15.570                                \n",
       "Sample_001                                                 15.519                                \n",
       "Sample_002                                                 15.935                                \n",
       "Sample_003                                                 15.802                                \n",
       "Sample_004                                                 15.375                                \n",
       "...                                                           ...                                \n",
       "Sample_205                                                 14.910                                \n",
       "Sample_206                                                 15.600                                \n",
       "Sample_207                                                 15.469                                \n",
       "Sample_208                                                 14.995                                \n",
       "Sample_209                                                 15.175                                \n",
       "\n",
       "protein groups  A0A024R644;A0A0A0MRU5;A0A1B0GWI2;O75503  A0A075B6H7  \\\n",
       "Sample ID                                                             \n",
       "Sample_000                                       16.481      17.301   \n",
       "Sample_001                                       16.387      13.796   \n",
       "Sample_002                                       16.416      18.175   \n",
       "Sample_003                                       16.979      15.963   \n",
       "Sample_004                                       16.679      15.473   \n",
       "...                                                 ...         ...   \n",
       "Sample_205                                       16.482      16.035   \n",
       "Sample_206                                       15.938      15.820   \n",
       "Sample_207                                       16.898      15.779   \n",
       "Sample_208                                       16.132      15.361   \n",
       "Sample_209                                       16.235      15.840   \n",
       "\n",
       "protein groups  A0A075B6H9  A0A075B6I0  A0A075B6I1  A0A075B6I6  A0A075B6I9  \\\n",
       "Sample ID                                                                    \n",
       "Sample_000          20.246      16.764      17.584      16.988      20.054   \n",
       "Sample_001          19.941      18.786      17.144      16.954      19.067   \n",
       "Sample_002          19.251      16.832      15.671      17.012      18.569   \n",
       "Sample_003          19.628      17.852      18.877      14.182      18.985   \n",
       "Sample_004          20.450      18.682      17.081      14.140      19.686   \n",
       "...                    ...         ...         ...         ...         ...   \n",
       "Sample_205          17.705      17.039      15.261      16.413      19.102   \n",
       "Sample_206          18.154      18.152      16.503      16.860      18.538   \n",
       "Sample_207          18.636      17.950      16.321      16.401      18.849   \n",
       "Sample_208          14.908      17.530      15.748      16.119      18.368   \n",
       "Sample_209          17.893      17.744      16.371      15.780      18.806   \n",
       "\n",
       "protein groups  ...  Q9Y653;Q9Y653-2;Q9Y653-3  Q9Y696  Q9Y6C2  Q9Y6N6  \\\n",
       "Sample ID       ...                                                     \n",
       "Sample_000      ...                    16.012  15.178  13.770  15.050   \n",
       "Sample_001      ...                    15.528  15.576  13.938  14.833   \n",
       "Sample_002      ...                    15.229  14.728  13.757  15.118   \n",
       "Sample_003      ...                    15.495  14.590  14.682  15.140   \n",
       "Sample_004      ...                    14.757  15.094  14.048  15.256   \n",
       "...             ...                       ...     ...     ...     ...   \n",
       "Sample_205      ...                    15.235  15.684  14.236  15.415   \n",
       "Sample_206      ...                    15.422  16.106  14.543  15.345   \n",
       "Sample_207      ...                    15.808  16.098  14.403  15.715   \n",
       "Sample_208      ...                    15.157  16.712  14.371  14.640   \n",
       "Sample_209      ...                    15.237  15.652  15.211  14.205   \n",
       "\n",
       "protein groups  Q9Y6N7;Q9Y6N7-2;Q9Y6N7-4  Q9Y6R7  Q9Y6X5  Q9Y6Y8;Q9Y6Y8-2  \\\n",
       "Sample ID                                                                   \n",
       "Sample_000                        16.842  19.863  15.931           19.563   \n",
       "Sample_001                        16.597  20.299  15.556           19.386   \n",
       "Sample_002                        17.440  19.598  15.735           20.447   \n",
       "Sample_003                        17.356  19.429  16.006           20.216   \n",
       "Sample_004                        17.075  19.582  15.328           19.867   \n",
       "...                                  ...     ...     ...              ...   \n",
       "Sample_205                        17.551  17.922  16.340           19.928   \n",
       "Sample_206                        17.084  18.708  14.249           19.433   \n",
       "Sample_207                        16.586  18.725  16.138           19.599   \n",
       "Sample_208                        16.533  19.411  15.807           19.545   \n",
       "Sample_209                        16.749  19.275  15.732           19.577   \n",
       "\n",
       "protein groups  Q9Y6Y9  S4R3U6  \n",
       "Sample ID                       \n",
       "Sample_000      12.837  12.805  \n",
       "Sample_001      13.970  12.442  \n",
       "Sample_002      12.636  12.505  \n",
       "Sample_003      12.627  12.445  \n",
       "Sample_004      13.145  12.235  \n",
       "...                ...     ...  \n",
       "Sample_205      12.929  11.802  \n",
       "Sample_206      12.319  11.307  \n",
       "Sample_207      13.637  11.174  \n",
       "Sample_208      13.216  10.901  \n",
       "Sample_209      11.042  11.791  \n",
       "\n",
       "[197 rows x 1421 columns]"
      ]
     },
     "execution_count": 26,
     "metadata": {},
     "output_type": "execute_result"
    }
   ],
   "source": [
    "df = pd.concat([observed, pred_real_na]).unstack()\n",
    "df.loc[idx_complete_data]"
   ]
  },
  {
   "cell_type": "code",
   "execution_count": 27,
   "id": "72032bbb",
   "metadata": {
    "execution": {
     "iopub.execute_input": "2024-09-01T17:44:39.510877Z",
     "iopub.status.busy": "2024-09-01T17:44:39.510582Z",
     "iopub.status.idle": "2024-09-01T17:44:39.517173Z",
     "shell.execute_reply": "2024-09-01T17:44:39.516573Z"
    },
    "papermill": {
     "duration": 0.030687,
     "end_time": "2024-09-01T17:44:39.518866",
     "exception": false,
     "start_time": "2024-09-01T17:44:39.488179",
     "status": "completed"
    },
    "tags": [
     "hide-input"
    ]
   },
   "outputs": [],
   "source": [
    "# * if some features were not imputed -> drop them\n",
    "# ? could be changed: let a model decide if a feature should be imputed, otherwise don't.\n",
    "if pred_real_na is not None:\n",
    "    if df.isna().sum().sum():\n",
    "        logger.warning(\"DataFrame has missing entries after imputation.\")\n",
    "        logger.info(\"Drop columns with missing values.\")\n",
    "    df = df.dropna(axis=1)"
   ]
  },
  {
   "cell_type": "markdown",
   "id": "12999202",
   "metadata": {
    "papermill": {
     "duration": 0.02204,
     "end_time": "2024-09-01T17:44:39.562627",
     "exception": false,
     "start_time": "2024-09-01T17:44:39.540587",
     "status": "completed"
    },
    "tags": []
   },
   "source": [
    "Results for target and clinical variables:"
   ]
  },
  {
   "cell_type": "code",
   "execution_count": 28,
   "id": "de517c51",
   "metadata": {
    "execution": {
     "iopub.execute_input": "2024-09-01T17:44:39.606821Z",
     "iopub.status.busy": "2024-09-01T17:44:39.606525Z",
     "iopub.status.idle": "2024-09-01T17:45:30.580267Z",
     "shell.execute_reply": "2024-09-01T17:45:30.579612Z"
    },
    "papermill": {
     "duration": 51.051955,
     "end_time": "2024-09-01T17:45:30.636023",
     "exception": false,
     "start_time": "2024-09-01T17:44:39.584068",
     "status": "completed"
    },
    "tags": [
     "hide-input"
    ]
   },
   "outputs": [
    {
     "data": {
      "text/html": [
       "<div>\n",
       "<style scoped>\n",
       "    .dataframe tbody tr th:only-of-type {\n",
       "        vertical-align: middle;\n",
       "    }\n",
       "\n",
       "    .dataframe tbody tr th {\n",
       "        vertical-align: top;\n",
       "    }\n",
       "\n",
       "    .dataframe thead th {\n",
       "        text-align: right;\n",
       "    }\n",
       "</style>\n",
       "<table border=\"1\" class=\"dataframe\">\n",
       "  <thead>\n",
       "    <tr style=\"text-align: right;\">\n",
       "      <th></th>\n",
       "      <th></th>\n",
       "      <th>SS</th>\n",
       "      <th>DF</th>\n",
       "      <th>F</th>\n",
       "      <th>p-unc</th>\n",
       "      <th>np2</th>\n",
       "      <th>-Log10 pvalue</th>\n",
       "      <th>qvalue</th>\n",
       "      <th>rejected</th>\n",
       "    </tr>\n",
       "    <tr>\n",
       "      <th>protein groups</th>\n",
       "      <th>Source</th>\n",
       "      <th></th>\n",
       "      <th></th>\n",
       "      <th></th>\n",
       "      <th></th>\n",
       "      <th></th>\n",
       "      <th></th>\n",
       "      <th></th>\n",
       "      <th></th>\n",
       "    </tr>\n",
       "  </thead>\n",
       "  <tbody>\n",
       "    <tr>\n",
       "      <th rowspan=\"5\" valign=\"top\">A0A024QZX5;A0A087X1N8;P35237</th>\n",
       "      <th>AD</th>\n",
       "      <td>0.994</td>\n",
       "      <td>1</td>\n",
       "      <td>7.134</td>\n",
       "      <td>0.008</td>\n",
       "      <td>0.036</td>\n",
       "      <td>2.085</td>\n",
       "      <td>0.023</td>\n",
       "      <td>True</td>\n",
       "    </tr>\n",
       "    <tr>\n",
       "      <th>age</th>\n",
       "      <td>0.004</td>\n",
       "      <td>1</td>\n",
       "      <td>0.029</td>\n",
       "      <td>0.864</td>\n",
       "      <td>0.000</td>\n",
       "      <td>0.063</td>\n",
       "      <td>0.913</td>\n",
       "      <td>False</td>\n",
       "    </tr>\n",
       "    <tr>\n",
       "      <th>Kiel</th>\n",
       "      <td>0.269</td>\n",
       "      <td>1</td>\n",
       "      <td>1.933</td>\n",
       "      <td>0.166</td>\n",
       "      <td>0.010</td>\n",
       "      <td>0.780</td>\n",
       "      <td>0.277</td>\n",
       "      <td>False</td>\n",
       "    </tr>\n",
       "    <tr>\n",
       "      <th>Magdeburg</th>\n",
       "      <td>0.519</td>\n",
       "      <td>1</td>\n",
       "      <td>3.727</td>\n",
       "      <td>0.055</td>\n",
       "      <td>0.019</td>\n",
       "      <td>1.259</td>\n",
       "      <td>0.114</td>\n",
       "      <td>False</td>\n",
       "    </tr>\n",
       "    <tr>\n",
       "      <th>Sweden</th>\n",
       "      <td>1.796</td>\n",
       "      <td>1</td>\n",
       "      <td>12.893</td>\n",
       "      <td>0.000</td>\n",
       "      <td>0.063</td>\n",
       "      <td>3.378</td>\n",
       "      <td>0.002</td>\n",
       "      <td>True</td>\n",
       "    </tr>\n",
       "    <tr>\n",
       "      <th>...</th>\n",
       "      <th>...</th>\n",
       "      <td>...</td>\n",
       "      <td>...</td>\n",
       "      <td>...</td>\n",
       "      <td>...</td>\n",
       "      <td>...</td>\n",
       "      <td>...</td>\n",
       "      <td>...</td>\n",
       "      <td>...</td>\n",
       "    </tr>\n",
       "    <tr>\n",
       "      <th rowspan=\"5\" valign=\"top\">S4R3U6</th>\n",
       "      <th>AD</th>\n",
       "      <td>2.295</td>\n",
       "      <td>1</td>\n",
       "      <td>4.480</td>\n",
       "      <td>0.036</td>\n",
       "      <td>0.023</td>\n",
       "      <td>1.449</td>\n",
       "      <td>0.080</td>\n",
       "      <td>False</td>\n",
       "    </tr>\n",
       "    <tr>\n",
       "      <th>age</th>\n",
       "      <td>0.398</td>\n",
       "      <td>1</td>\n",
       "      <td>0.777</td>\n",
       "      <td>0.379</td>\n",
       "      <td>0.004</td>\n",
       "      <td>0.421</td>\n",
       "      <td>0.516</td>\n",
       "      <td>False</td>\n",
       "    </tr>\n",
       "    <tr>\n",
       "      <th>Kiel</th>\n",
       "      <td>2.981</td>\n",
       "      <td>1</td>\n",
       "      <td>5.819</td>\n",
       "      <td>0.017</td>\n",
       "      <td>0.030</td>\n",
       "      <td>1.775</td>\n",
       "      <td>0.043</td>\n",
       "      <td>True</td>\n",
       "    </tr>\n",
       "    <tr>\n",
       "      <th>Magdeburg</th>\n",
       "      <td>3.440</td>\n",
       "      <td>1</td>\n",
       "      <td>6.716</td>\n",
       "      <td>0.010</td>\n",
       "      <td>0.034</td>\n",
       "      <td>1.987</td>\n",
       "      <td>0.028</td>\n",
       "      <td>True</td>\n",
       "    </tr>\n",
       "    <tr>\n",
       "      <th>Sweden</th>\n",
       "      <td>27.114</td>\n",
       "      <td>1</td>\n",
       "      <td>52.939</td>\n",
       "      <td>0.000</td>\n",
       "      <td>0.217</td>\n",
       "      <td>11.062</td>\n",
       "      <td>0.000</td>\n",
       "      <td>True</td>\n",
       "    </tr>\n",
       "  </tbody>\n",
       "</table>\n",
       "<p>7105 rows × 8 columns</p>\n",
       "</div>"
      ],
      "text/plain": [
       "                                           SS  DF      F  p-unc   np2  \\\n",
       "protein groups               Source                                     \n",
       "A0A024QZX5;A0A087X1N8;P35237 AD         0.994   1  7.134  0.008 0.036   \n",
       "                             age        0.004   1  0.029  0.864 0.000   \n",
       "                             Kiel       0.269   1  1.933  0.166 0.010   \n",
       "                             Magdeburg  0.519   1  3.727  0.055 0.019   \n",
       "                             Sweden     1.796   1 12.893  0.000 0.063   \n",
       "...                                       ...  ..    ...    ...   ...   \n",
       "S4R3U6                       AD         2.295   1  4.480  0.036 0.023   \n",
       "                             age        0.398   1  0.777  0.379 0.004   \n",
       "                             Kiel       2.981   1  5.819  0.017 0.030   \n",
       "                             Magdeburg  3.440   1  6.716  0.010 0.034   \n",
       "                             Sweden    27.114   1 52.939  0.000 0.217   \n",
       "\n",
       "                                        -Log10 pvalue  qvalue  rejected  \n",
       "protein groups               Source                                      \n",
       "A0A024QZX5;A0A087X1N8;P35237 AD                 2.085   0.023      True  \n",
       "                             age                0.063   0.913     False  \n",
       "                             Kiel               0.780   0.277     False  \n",
       "                             Magdeburg          1.259   0.114     False  \n",
       "                             Sweden             3.378   0.002      True  \n",
       "...                                               ...     ...       ...  \n",
       "S4R3U6                       AD                 1.449   0.080     False  \n",
       "                             age                0.421   0.516     False  \n",
       "                             Kiel               1.775   0.043      True  \n",
       "                             Magdeburg          1.987   0.028      True  \n",
       "                             Sweden            11.062   0.000      True  \n",
       "\n",
       "[7105 rows x 8 columns]"
      ]
     },
     "execution_count": 28,
     "metadata": {},
     "output_type": "execute_result"
    }
   ],
   "source": [
    "scores = njab.stats.ancova.AncovaAll(df_proteomics=df,\n",
    "                                     df_clinic=df_clinic,\n",
    "                                     target=args.target,\n",
    "                                     covar=args.covar,\n",
    "                                     value_name=args.value_name\n",
    "                                     ).ancova()\n",
    "# features are in first index position\n",
    "feat_idx = scores.index.get_level_values(0)\n",
    "if gene_to_PG is not None:\n",
    "    scores = (scores\n",
    "              .join(gene_to_PG)\n",
    "              .set_index(gene_to_PG.columns.to_list(), append=True)\n",
    "              )\n",
    "scores"
   ]
  },
  {
   "cell_type": "markdown",
   "id": "b65955a2",
   "metadata": {
    "papermill": {
     "duration": 0.021119,
     "end_time": "2024-09-01T17:45:30.679740",
     "exception": false,
     "start_time": "2024-09-01T17:45:30.658621",
     "status": "completed"
    },
    "tags": []
   },
   "source": [
    "Only for target:"
   ]
  },
  {
   "cell_type": "code",
   "execution_count": 29,
   "id": "a5c1c2c0",
   "metadata": {
    "execution": {
     "iopub.execute_input": "2024-09-01T17:45:30.724741Z",
     "iopub.status.busy": "2024-09-01T17:45:30.723993Z",
     "iopub.status.idle": "2024-09-01T17:45:30.758211Z",
     "shell.execute_reply": "2024-09-01T17:45:30.757596Z"
    },
    "papermill": {
     "duration": 0.058528,
     "end_time": "2024-09-01T17:45:30.759913",
     "exception": false,
     "start_time": "2024-09-01T17:45:30.701385",
     "status": "completed"
    },
    "tags": [
     "hide-input"
    ]
   },
   "outputs": [
    {
     "data": {
      "text/html": [
       "<div>\n",
       "<style scoped>\n",
       "    .dataframe tbody tr th:only-of-type {\n",
       "        vertical-align: middle;\n",
       "    }\n",
       "\n",
       "    .dataframe tbody tr th {\n",
       "        vertical-align: top;\n",
       "    }\n",
       "\n",
       "    .dataframe thead tr th {\n",
       "        text-align: left;\n",
       "    }\n",
       "\n",
       "    .dataframe thead tr:last-of-type th {\n",
       "        text-align: right;\n",
       "    }\n",
       "</style>\n",
       "<table border=\"1\" class=\"dataframe\">\n",
       "  <thead>\n",
       "    <tr>\n",
       "      <th></th>\n",
       "      <th>model</th>\n",
       "      <th colspan=\"8\" halign=\"left\">TRKNN</th>\n",
       "    </tr>\n",
       "    <tr>\n",
       "      <th></th>\n",
       "      <th>var</th>\n",
       "      <th>SS</th>\n",
       "      <th>DF</th>\n",
       "      <th>F</th>\n",
       "      <th>p-unc</th>\n",
       "      <th>np2</th>\n",
       "      <th>-Log10 pvalue</th>\n",
       "      <th>qvalue</th>\n",
       "      <th>rejected</th>\n",
       "    </tr>\n",
       "    <tr>\n",
       "      <th>protein groups</th>\n",
       "      <th>Source</th>\n",
       "      <th></th>\n",
       "      <th></th>\n",
       "      <th></th>\n",
       "      <th></th>\n",
       "      <th></th>\n",
       "      <th></th>\n",
       "      <th></th>\n",
       "      <th></th>\n",
       "    </tr>\n",
       "  </thead>\n",
       "  <tbody>\n",
       "    <tr>\n",
       "      <th>A0A024QZX5;A0A087X1N8;P35237</th>\n",
       "      <th>AD</th>\n",
       "      <td>0.994</td>\n",
       "      <td>1</td>\n",
       "      <td>7.134</td>\n",
       "      <td>0.008</td>\n",
       "      <td>0.036</td>\n",
       "      <td>2.085</td>\n",
       "      <td>0.023</td>\n",
       "      <td>True</td>\n",
       "    </tr>\n",
       "    <tr>\n",
       "      <th>A0A024R0T9;K7ER74;P02655</th>\n",
       "      <th>AD</th>\n",
       "      <td>2.916</td>\n",
       "      <td>1</td>\n",
       "      <td>4.736</td>\n",
       "      <td>0.031</td>\n",
       "      <td>0.024</td>\n",
       "      <td>1.512</td>\n",
       "      <td>0.071</td>\n",
       "      <td>False</td>\n",
       "    </tr>\n",
       "    <tr>\n",
       "      <th>A0A024R3W6;A0A024R412;O60462;O60462-2;O60462-3;O60462-4;O60462-5;Q7LBX6;X5D2Q8</th>\n",
       "      <th>AD</th>\n",
       "      <td>0.155</td>\n",
       "      <td>1</td>\n",
       "      <td>1.255</td>\n",
       "      <td>0.264</td>\n",
       "      <td>0.007</td>\n",
       "      <td>0.578</td>\n",
       "      <td>0.394</td>\n",
       "      <td>False</td>\n",
       "    </tr>\n",
       "    <tr>\n",
       "      <th>A0A024R644;A0A0A0MRU5;A0A1B0GWI2;O75503</th>\n",
       "      <th>AD</th>\n",
       "      <td>0.173</td>\n",
       "      <td>1</td>\n",
       "      <td>1.245</td>\n",
       "      <td>0.266</td>\n",
       "      <td>0.006</td>\n",
       "      <td>0.575</td>\n",
       "      <td>0.396</td>\n",
       "      <td>False</td>\n",
       "    </tr>\n",
       "    <tr>\n",
       "      <th>A0A075B6H7</th>\n",
       "      <th>AD</th>\n",
       "      <td>4.134</td>\n",
       "      <td>1</td>\n",
       "      <td>5.536</td>\n",
       "      <td>0.020</td>\n",
       "      <td>0.028</td>\n",
       "      <td>1.707</td>\n",
       "      <td>0.048</td>\n",
       "      <td>True</td>\n",
       "    </tr>\n",
       "    <tr>\n",
       "      <th>...</th>\n",
       "      <th>...</th>\n",
       "      <td>...</td>\n",
       "      <td>...</td>\n",
       "      <td>...</td>\n",
       "      <td>...</td>\n",
       "      <td>...</td>\n",
       "      <td>...</td>\n",
       "      <td>...</td>\n",
       "      <td>...</td>\n",
       "    </tr>\n",
       "    <tr>\n",
       "      <th>Q9Y6R7</th>\n",
       "      <th>AD</th>\n",
       "      <td>0.675</td>\n",
       "      <td>1</td>\n",
       "      <td>1.850</td>\n",
       "      <td>0.175</td>\n",
       "      <td>0.010</td>\n",
       "      <td>0.756</td>\n",
       "      <td>0.289</td>\n",
       "      <td>False</td>\n",
       "    </tr>\n",
       "    <tr>\n",
       "      <th>Q9Y6X5</th>\n",
       "      <th>AD</th>\n",
       "      <td>0.867</td>\n",
       "      <td>1</td>\n",
       "      <td>2.530</td>\n",
       "      <td>0.113</td>\n",
       "      <td>0.013</td>\n",
       "      <td>0.946</td>\n",
       "      <td>0.205</td>\n",
       "      <td>False</td>\n",
       "    </tr>\n",
       "    <tr>\n",
       "      <th>Q9Y6Y8;Q9Y6Y8-2</th>\n",
       "      <th>AD</th>\n",
       "      <td>0.973</td>\n",
       "      <td>1</td>\n",
       "      <td>3.028</td>\n",
       "      <td>0.083</td>\n",
       "      <td>0.016</td>\n",
       "      <td>1.079</td>\n",
       "      <td>0.160</td>\n",
       "      <td>False</td>\n",
       "    </tr>\n",
       "    <tr>\n",
       "      <th>Q9Y6Y9</th>\n",
       "      <th>AD</th>\n",
       "      <td>0.565</td>\n",
       "      <td>1</td>\n",
       "      <td>0.938</td>\n",
       "      <td>0.334</td>\n",
       "      <td>0.005</td>\n",
       "      <td>0.476</td>\n",
       "      <td>0.472</td>\n",
       "      <td>False</td>\n",
       "    </tr>\n",
       "    <tr>\n",
       "      <th>S4R3U6</th>\n",
       "      <th>AD</th>\n",
       "      <td>2.295</td>\n",
       "      <td>1</td>\n",
       "      <td>4.480</td>\n",
       "      <td>0.036</td>\n",
       "      <td>0.023</td>\n",
       "      <td>1.449</td>\n",
       "      <td>0.080</td>\n",
       "      <td>False</td>\n",
       "    </tr>\n",
       "  </tbody>\n",
       "</table>\n",
       "<p>1421 rows × 8 columns</p>\n",
       "</div>"
      ],
      "text/plain": [
       "model                                                     TRKNN           \\\n",
       "var                                                          SS DF     F   \n",
       "protein groups                                     Source                  \n",
       "A0A024QZX5;A0A087X1N8;P35237                       AD     0.994  1 7.134   \n",
       "A0A024R0T9;K7ER74;P02655                           AD     2.916  1 4.736   \n",
       "A0A024R3W6;A0A024R412;O60462;O60462-2;O60462-3;... AD     0.155  1 1.255   \n",
       "A0A024R644;A0A0A0MRU5;A0A1B0GWI2;O75503            AD     0.173  1 1.245   \n",
       "A0A075B6H7                                         AD     4.134  1 5.536   \n",
       "...                                                         ... ..   ...   \n",
       "Q9Y6R7                                             AD     0.675  1 1.850   \n",
       "Q9Y6X5                                             AD     0.867  1 2.530   \n",
       "Q9Y6Y8;Q9Y6Y8-2                                    AD     0.973  1 3.028   \n",
       "Q9Y6Y9                                             AD     0.565  1 0.938   \n",
       "S4R3U6                                             AD     2.295  1 4.480   \n",
       "\n",
       "model                                                                  \\\n",
       "var                                                       p-unc   np2   \n",
       "protein groups                                     Source               \n",
       "A0A024QZX5;A0A087X1N8;P35237                       AD     0.008 0.036   \n",
       "A0A024R0T9;K7ER74;P02655                           AD     0.031 0.024   \n",
       "A0A024R3W6;A0A024R412;O60462;O60462-2;O60462-3;... AD     0.264 0.007   \n",
       "A0A024R644;A0A0A0MRU5;A0A1B0GWI2;O75503            AD     0.266 0.006   \n",
       "A0A075B6H7                                         AD     0.020 0.028   \n",
       "...                                                         ...   ...   \n",
       "Q9Y6R7                                             AD     0.175 0.010   \n",
       "Q9Y6X5                                             AD     0.113 0.013   \n",
       "Q9Y6Y8;Q9Y6Y8-2                                    AD     0.083 0.016   \n",
       "Q9Y6Y9                                             AD     0.334 0.005   \n",
       "S4R3U6                                             AD     0.036 0.023   \n",
       "\n",
       "model                                                                    \\\n",
       "var                                                       -Log10 pvalue   \n",
       "protein groups                                     Source                 \n",
       "A0A024QZX5;A0A087X1N8;P35237                       AD             2.085   \n",
       "A0A024R0T9;K7ER74;P02655                           AD             1.512   \n",
       "A0A024R3W6;A0A024R412;O60462;O60462-2;O60462-3;... AD             0.578   \n",
       "A0A024R644;A0A0A0MRU5;A0A1B0GWI2;O75503            AD             0.575   \n",
       "A0A075B6H7                                         AD             1.707   \n",
       "...                                                                 ...   \n",
       "Q9Y6R7                                             AD             0.756   \n",
       "Q9Y6X5                                             AD             0.946   \n",
       "Q9Y6Y8;Q9Y6Y8-2                                    AD             1.079   \n",
       "Q9Y6Y9                                             AD             0.476   \n",
       "S4R3U6                                             AD             1.449   \n",
       "\n",
       "model                                                                      \n",
       "var                                                       qvalue rejected  \n",
       "protein groups                                     Source                  \n",
       "A0A024QZX5;A0A087X1N8;P35237                       AD      0.023     True  \n",
       "A0A024R0T9;K7ER74;P02655                           AD      0.071    False  \n",
       "A0A024R3W6;A0A024R412;O60462;O60462-2;O60462-3;... AD      0.394    False  \n",
       "A0A024R644;A0A0A0MRU5;A0A1B0GWI2;O75503            AD      0.396    False  \n",
       "A0A075B6H7                                         AD      0.048     True  \n",
       "...                                                          ...      ...  \n",
       "Q9Y6R7                                             AD      0.289    False  \n",
       "Q9Y6X5                                             AD      0.205    False  \n",
       "Q9Y6Y8;Q9Y6Y8-2                                    AD      0.160    False  \n",
       "Q9Y6Y9                                             AD      0.472    False  \n",
       "S4R3U6                                             AD      0.080    False  \n",
       "\n",
       "[1421 rows x 8 columns]"
      ]
     },
     "execution_count": 29,
     "metadata": {},
     "output_type": "execute_result"
    }
   ],
   "source": [
    "scores.columns = pd.MultiIndex.from_product([[str(args.model_key)], scores.columns],\n",
    "                                            names=('model', 'var'))\n",
    "scores.loc[pd.IndexSlice[:, args.target], :]"
   ]
  },
  {
   "cell_type": "markdown",
   "id": "cad23c69",
   "metadata": {
    "papermill": {
     "duration": 0.034035,
     "end_time": "2024-09-01T17:45:30.839775",
     "exception": false,
     "start_time": "2024-09-01T17:45:30.805740",
     "status": "completed"
    },
    "tags": []
   },
   "source": [
    "Save all results to file:"
   ]
  },
  {
   "cell_type": "code",
   "execution_count": 30,
   "id": "f022cb14",
   "metadata": {
    "execution": {
     "iopub.execute_input": "2024-09-01T17:45:30.899790Z",
     "iopub.status.busy": "2024-09-01T17:45:30.899511Z",
     "iopub.status.idle": "2024-09-01T17:45:30.906502Z",
     "shell.execute_reply": "2024-09-01T17:45:30.905915Z"
    },
    "papermill": {
     "duration": 0.048165,
     "end_time": "2024-09-01T17:45:30.909991",
     "exception": false,
     "start_time": "2024-09-01T17:45:30.861826",
     "status": "completed"
    },
    "tags": [
     "hide-input"
    ]
   },
   "outputs": [
    {
     "data": {
      "text/plain": [
       "PosixPath('runs/alzheimer_study/diff_analysis/AD/scores/diff_analysis_scores_TRKNN.pkl')"
      ]
     },
     "execution_count": 30,
     "metadata": {},
     "output_type": "execute_result"
    }
   ],
   "source": [
    "fname = args.out_folder / 'scores' / f'diff_analysis_scores_{str(args.model_key)}.pkl'\n",
    "files_out[fname.name] = fname.as_posix()\n",
    "fname.parent.mkdir(exist_ok=True, parents=True)\n",
    "scores.to_pickle(fname)\n",
    "fname"
   ]
  },
  {
   "cell_type": "markdown",
   "id": "b59b3610",
   "metadata": {
    "papermill": {
     "duration": 0.034232,
     "end_time": "2024-09-01T17:45:30.987973",
     "exception": false,
     "start_time": "2024-09-01T17:45:30.953741",
     "status": "completed"
    },
    "tags": []
   },
   "source": [
    "Saved files:"
   ]
  },
  {
   "cell_type": "code",
   "execution_count": 31,
   "id": "e43bb5e4",
   "metadata": {
    "execution": {
     "iopub.execute_input": "2024-09-01T17:45:31.095272Z",
     "iopub.status.busy": "2024-09-01T17:45:31.094966Z",
     "iopub.status.idle": "2024-09-01T17:45:31.099380Z",
     "shell.execute_reply": "2024-09-01T17:45:31.098810Z"
    },
    "papermill": {
     "duration": 0.058298,
     "end_time": "2024-09-01T17:45:31.100951",
     "exception": false,
     "start_time": "2024-09-01T17:45:31.042653",
     "status": "completed"
    },
    "tags": [
     "hide-input"
    ]
   },
   "outputs": [
    {
     "data": {
      "text/plain": [
       "{'mask_sample_with_complete_clinical_data.csv': 'runs/alzheimer_study/diff_analysis/AD/mask_sample_with_complete_clinical_data.csv',\n",
       " 'feat_freq_observed': 'runs/alzheimer_study/freq_features_observed.csv',\n",
       " 'real_na_obs_vs_TRKNN.pdf': 'runs/alzheimer_study/diff_analysis/AD/dist_plots/real_na_obs_vs_TRKNN.pdf',\n",
       " 'diff_analysis_scores_TRKNN.pkl': 'runs/alzheimer_study/diff_analysis/AD/scores/diff_analysis_scores_TRKNN.pkl'}"
      ]
     },
     "execution_count": 31,
     "metadata": {},
     "output_type": "execute_result"
    }
   ],
   "source": [
    "files_out"
   ]
  }
 ],
 "metadata": {
  "kernelspec": {
   "display_name": "Python 3",
   "language": "python",
   "name": "python3"
  },
  "language_info": {
   "codemirror_mode": {
    "name": "ipython",
    "version": 3
   },
   "file_extension": ".py",
   "mimetype": "text/x-python",
   "name": "python",
   "nbconvert_exporter": "python",
   "pygments_lexer": "ipython3",
   "version": "3.12.0"
  },
  "papermill": {
   "default_parameters": {},
   "duration": 65.097006,
   "end_time": "2024-09-01T17:45:31.851412",
   "environment_variables": {},
   "exception": null,
   "input_path": "10_1_ald_diff_analysis.ipynb",
   "output_path": "runs/alzheimer_study/diff_analysis/AD/scores/10_1_ald_diff_analysis_TRKNN.ipynb",
   "parameters": {
    "covar": "age,Kiel,Magdeburg,Sweden",
    "f_annotations": null,
    "fn_clinical_data": "runs/alzheimer_study/data/clinical_data.csv",
    "folder_experiment": "runs/alzheimer_study",
    "model_key": "TRKNN",
    "out_folder": "diff_analysis",
    "target": "AD"
   },
   "start_time": "2024-09-01T17:44:26.754406",
   "version": "2.6.0"
  },
  "vscode": {
   "interpreter": {
    "hash": "cf83e9cb890c7f96eb0ae04f39a82254555f56a1a0ed2f03b23a8b40fe6cd31c"
   }
  }
 },
 "nbformat": 4,
 "nbformat_minor": 5
}