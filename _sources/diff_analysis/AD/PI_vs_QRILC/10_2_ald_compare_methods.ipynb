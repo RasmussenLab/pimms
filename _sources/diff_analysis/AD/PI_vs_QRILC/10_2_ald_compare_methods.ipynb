{
 "cells": [
  {
   "cell_type": "markdown",
   "id": "9acfeaca-5f8c-42f3-9a8e-83ed737eb35c",
   "metadata": {
    "papermill": {
     "duration": 0.015296,
     "end_time": "2024-05-27T15:51:04.290563",
     "exception": false,
     "start_time": "2024-05-27T15:51:04.275267",
     "status": "completed"
    },
    "tags": []
   },
   "source": [
    "# Compare outcomes from differential analysis based on different imputation methods\n",
    "\n",
    "- load scores based on `16_ald_diff_analysis`"
   ]
  },
  {
   "cell_type": "code",
   "execution_count": 1,
   "id": "eec6f931-c04d-428c-b2b1-0424c50e6cd2",
   "metadata": {
    "execution": {
     "iopub.execute_input": "2024-05-27T15:51:04.316611Z",
     "iopub.status.busy": "2024-05-27T15:51:04.316265Z",
     "iopub.status.idle": "2024-05-27T15:51:06.664211Z",
     "shell.execute_reply": "2024-05-27T15:51:06.663394Z"
    },
    "papermill": {
     "duration": 2.364044,
     "end_time": "2024-05-27T15:51:06.666439",
     "exception": false,
     "start_time": "2024-05-27T15:51:04.302395",
     "status": "completed"
    },
    "tags": []
   },
   "outputs": [],
   "source": [
    "from pathlib import Path\n",
    "\n",
    "import matplotlib.pyplot as plt\n",
    "import pandas as pd\n",
    "import seaborn as sns\n",
    "from IPython.display import display\n",
    "\n",
    "import vaep\n",
    "import vaep.databases.diseases\n",
    "\n",
    "logger = vaep.logging.setup_nb_logger()\n",
    "\n",
    "plt.rcParams['figure.figsize'] = (2, 2)\n",
    "fontsize = 5\n",
    "vaep.plotting.make_large_descriptors(fontsize)"
   ]
  },
  {
   "cell_type": "code",
   "execution_count": 2,
   "id": "f4bf65da-0569-4a21-ba20-9cae7d3679e7",
   "metadata": {
    "execution": {
     "iopub.execute_input": "2024-05-27T15:51:06.691806Z",
     "iopub.status.busy": "2024-05-27T15:51:06.691313Z",
     "iopub.status.idle": "2024-05-27T15:51:06.695236Z",
     "shell.execute_reply": "2024-05-27T15:51:06.694559Z"
    },
    "papermill": {
     "duration": 0.019325,
     "end_time": "2024-05-27T15:51:06.697975",
     "exception": false,
     "start_time": "2024-05-27T15:51:06.678650",
     "status": "completed"
    },
    "tags": []
   },
   "outputs": [],
   "source": [
    "# catch passed parameters\n",
    "args = None\n",
    "args = dict(globals()).keys()"
   ]
  },
  {
   "cell_type": "markdown",
   "id": "22c645fc-c7eb-4c69-a7aa-084fc733258f",
   "metadata": {
    "papermill": {
     "duration": 0.011059,
     "end_time": "2024-05-27T15:51:06.720103",
     "exception": false,
     "start_time": "2024-05-27T15:51:06.709044",
     "status": "completed"
    },
    "tags": []
   },
   "source": [
    "## Parameters"
   ]
  },
  {
   "cell_type": "code",
   "execution_count": 3,
   "id": "978876d0-b3cc-4847-8eab-dc0b89ddbbcd",
   "metadata": {
    "execution": {
     "iopub.execute_input": "2024-05-27T15:51:06.743675Z",
     "iopub.status.busy": "2024-05-27T15:51:06.743362Z",
     "iopub.status.idle": "2024-05-27T15:51:06.747526Z",
     "shell.execute_reply": "2024-05-27T15:51:06.746854Z"
    },
    "papermill": {
     "duration": 0.019288,
     "end_time": "2024-05-27T15:51:06.750543",
     "exception": false,
     "start_time": "2024-05-27T15:51:06.731255",
     "status": "completed"
    },
    "tags": [
     "parameters"
    ]
   },
   "outputs": [],
   "source": [
    "folder_experiment = 'runs/appl_ald_data/plasma/proteinGroups'\n",
    "\n",
    "target = 'kleiner'\n",
    "model_key = 'VAE'\n",
    "baseline = 'RSN'\n",
    "out_folder = 'diff_analysis'\n",
    "\n",
    "disease_ontology = 5082  # code from https://disease-ontology.org/\n",
    "# split diseases notebook? Query gene names for proteins in file from uniprot?\n",
    "annotaitons_gene_col = 'PG.Genes'"
   ]
  },
  {
   "cell_type": "code",
   "execution_count": 4,
   "id": "c6152087",
   "metadata": {
    "execution": {
     "iopub.execute_input": "2024-05-27T15:51:06.774982Z",
     "iopub.status.busy": "2024-05-27T15:51:06.774630Z",
     "iopub.status.idle": "2024-05-27T15:51:06.778964Z",
     "shell.execute_reply": "2024-05-27T15:51:06.778286Z"
    },
    "papermill": {
     "duration": 0.020262,
     "end_time": "2024-05-27T15:51:06.782077",
     "exception": false,
     "start_time": "2024-05-27T15:51:06.761815",
     "status": "completed"
    },
    "tags": [
     "injected-parameters"
    ]
   },
   "outputs": [],
   "source": [
    "# Parameters\n",
    "disease_ontology = 10652\n",
    "folder_experiment = \"runs/alzheimer_study\"\n",
    "target = \"AD\"\n",
    "baseline = \"PI\"\n",
    "model_key = \"QRILC\"\n",
    "out_folder = \"diff_analysis\"\n",
    "annotaitons_gene_col = \"None\"\n"
   ]
  },
  {
   "cell_type": "code",
   "execution_count": 5,
   "id": "a8016d79-e41a-40a2-bcbf-e11711c33b7d",
   "metadata": {
    "execution": {
     "iopub.execute_input": "2024-05-27T15:51:06.806610Z",
     "iopub.status.busy": "2024-05-27T15:51:06.806307Z",
     "iopub.status.idle": "2024-05-27T15:51:06.821527Z",
     "shell.execute_reply": "2024-05-27T15:51:06.820812Z"
    },
    "papermill": {
     "duration": 0.03731,
     "end_time": "2024-05-27T15:51:06.831201",
     "exception": false,
     "start_time": "2024-05-27T15:51:06.793891",
     "status": "completed"
    },
    "tags": []
   },
   "outputs": [
    {
     "name": "stderr",
     "output_type": "stream",
     "text": [
      "root - INFO     Removed from global namespace: folder_experiment\n"
     ]
    },
    {
     "name": "stderr",
     "output_type": "stream",
     "text": [
      "root - INFO     Removed from global namespace: target\n"
     ]
    },
    {
     "name": "stderr",
     "output_type": "stream",
     "text": [
      "root - INFO     Removed from global namespace: model_key\n"
     ]
    },
    {
     "name": "stderr",
     "output_type": "stream",
     "text": [
      "root - INFO     Removed from global namespace: baseline\n"
     ]
    },
    {
     "name": "stderr",
     "output_type": "stream",
     "text": [
      "root - INFO     Removed from global namespace: out_folder\n"
     ]
    },
    {
     "name": "stderr",
     "output_type": "stream",
     "text": [
      "root - INFO     Removed from global namespace: disease_ontology\n"
     ]
    },
    {
     "name": "stderr",
     "output_type": "stream",
     "text": [
      "root - INFO     Removed from global namespace: annotaitons_gene_col\n"
     ]
    },
    {
     "data": {
      "text/plain": [
       "{'folder_experiment': 'runs/alzheimer_study',\n",
       " 'target': 'AD',\n",
       " 'model_key': 'QRILC',\n",
       " 'baseline': 'PI',\n",
       " 'out_folder': 'diff_analysis',\n",
       " 'disease_ontology': 10652,\n",
       " 'annotaitons_gene_col': 'None'}"
      ]
     },
     "execution_count": 5,
     "metadata": {},
     "output_type": "execute_result"
    }
   ],
   "source": [
    "params = vaep.nb.get_params(args, globals=globals())\n",
    "params"
   ]
  },
  {
   "cell_type": "code",
   "execution_count": 6,
   "id": "5ded6640-99aa-4759-a8ef-b67029f22766",
   "metadata": {
    "execution": {
     "iopub.execute_input": "2024-05-27T15:51:06.857694Z",
     "iopub.status.busy": "2024-05-27T15:51:06.857346Z",
     "iopub.status.idle": "2024-05-27T15:51:06.871675Z",
     "shell.execute_reply": "2024-05-27T15:51:06.870837Z"
    },
    "papermill": {
     "duration": 0.030004,
     "end_time": "2024-05-27T15:51:06.873734",
     "exception": false,
     "start_time": "2024-05-27T15:51:06.843730",
     "status": "completed"
    },
    "tags": []
   },
   "outputs": [
    {
     "name": "stderr",
     "output_type": "stream",
     "text": [
      "root - INFO     Already set attribute: folder_experiment has value runs/alzheimer_study\n"
     ]
    },
    {
     "name": "stderr",
     "output_type": "stream",
     "text": [
      "root - INFO     Already set attribute: out_folder has value diff_analysis\n"
     ]
    },
    {
     "data": {
      "text/plain": [
       "{'annotaitons_gene_col': 'None',\n",
       " 'baseline': 'PI',\n",
       " 'data': PosixPath('runs/alzheimer_study/data'),\n",
       " 'disease_ontology': 10652,\n",
       " 'folder_experiment': PosixPath('runs/alzheimer_study'),\n",
       " 'model_key': 'QRILC',\n",
       " 'out_figures': PosixPath('runs/alzheimer_study/figures'),\n",
       " 'out_folder': PosixPath('runs/alzheimer_study/diff_analysis/AD/PI_vs_QRILC'),\n",
       " 'out_metrics': PosixPath('runs/alzheimer_study'),\n",
       " 'out_models': PosixPath('runs/alzheimer_study'),\n",
       " 'out_preds': PosixPath('runs/alzheimer_study/preds'),\n",
       " 'scores_folder': PosixPath('runs/alzheimer_study/diff_analysis/AD/scores'),\n",
       " 'target': 'AD'}"
      ]
     },
     "execution_count": 6,
     "metadata": {},
     "output_type": "execute_result"
    }
   ],
   "source": [
    "args = vaep.nb.Config()\n",
    "args.folder_experiment = Path(params[\"folder_experiment\"])\n",
    "args = vaep.nb.add_default_paths(args,\n",
    "                                 out_root=(\n",
    "                                     args.folder_experiment\n",
    "                                     / params[\"out_folder\"]\n",
    "                                     / params[\"target\"]\n",
    "                                     / f\"{params['baseline']}_vs_{params['model_key']}\"))\n",
    "args.update_from_dict(params)\n",
    "args.scores_folder = scores_folder = (args.folder_experiment\n",
    "                                      / params[\"out_folder\"]\n",
    "                                      / params[\"target\"]\n",
    "                                      / 'scores')\n",
    "args"
   ]
  },
  {
   "cell_type": "code",
   "execution_count": 7,
   "id": "112dd9f2-6219-452a-9c6a-b1712dabb164",
   "metadata": {
    "execution": {
     "iopub.execute_input": "2024-05-27T15:51:06.900681Z",
     "iopub.status.busy": "2024-05-27T15:51:06.900328Z",
     "iopub.status.idle": "2024-05-27T15:51:06.905792Z",
     "shell.execute_reply": "2024-05-27T15:51:06.905107Z"
    },
    "papermill": {
     "duration": 0.023791,
     "end_time": "2024-05-27T15:51:06.910204",
     "exception": false,
     "start_time": "2024-05-27T15:51:06.886413",
     "status": "completed"
    },
    "tags": []
   },
   "outputs": [
    {
     "data": {
      "text/plain": [
       "{'freq_features_observed.csv': PosixPath('runs/alzheimer_study/freq_features_observed.csv')}"
      ]
     },
     "execution_count": 7,
     "metadata": {},
     "output_type": "execute_result"
    }
   ],
   "source": [
    "files_in = {\n",
    "    'freq_features_observed.csv': args.folder_experiment / 'freq_features_observed.csv',\n",
    "}\n",
    "files_in"
   ]
  },
  {
   "cell_type": "markdown",
   "id": "c74bcc21-3fb2-4b8d-823a-72a3b6b6e847",
   "metadata": {
    "papermill": {
     "duration": 0.021027,
     "end_time": "2024-05-27T15:51:06.944912",
     "exception": false,
     "start_time": "2024-05-27T15:51:06.923885",
     "status": "completed"
    },
    "tags": []
   },
   "source": [
    "## Excel file for exports"
   ]
  },
  {
   "cell_type": "code",
   "execution_count": 8,
   "id": "12009c54-c45f-4ee0-a9b3-b0e8e5f3cff2",
   "metadata": {
    "execution": {
     "iopub.execute_input": "2024-05-27T15:51:06.994535Z",
     "iopub.status.busy": "2024-05-27T15:51:06.994183Z",
     "iopub.status.idle": "2024-05-27T15:51:06.997861Z",
     "shell.execute_reply": "2024-05-27T15:51:06.997171Z"
    },
    "papermill": {
     "duration": 0.023679,
     "end_time": "2024-05-27T15:51:07.000801",
     "exception": false,
     "start_time": "2024-05-27T15:51:06.977122",
     "status": "completed"
    },
    "tags": []
   },
   "outputs": [],
   "source": [
    "files_out = dict()"
   ]
  },
  {
   "cell_type": "code",
   "execution_count": 9,
   "id": "8ef71b04-d4a5-4def-ad63-866d8bba4a1e",
   "metadata": {
    "execution": {
     "iopub.execute_input": "2024-05-27T15:51:07.027987Z",
     "iopub.status.busy": "2024-05-27T15:51:07.027672Z",
     "iopub.status.idle": "2024-05-27T15:51:07.173883Z",
     "shell.execute_reply": "2024-05-27T15:51:07.172681Z"
    },
    "papermill": {
     "duration": 0.161935,
     "end_time": "2024-05-27T15:51:07.176020",
     "exception": false,
     "start_time": "2024-05-27T15:51:07.014085",
     "status": "completed"
    },
    "tags": []
   },
   "outputs": [
    {
     "data": {
      "text/plain": [
       "PosixPath('runs/alzheimer_study/diff_analysis/AD/PI_vs_QRILC/diff_analysis_compare_methods.xlsx')"
      ]
     },
     "execution_count": 9,
     "metadata": {},
     "output_type": "execute_result"
    }
   ],
   "source": [
    "writer_args = dict(float_format='%.3f')\n",
    "\n",
    "fname = args.out_folder / 'diff_analysis_compare_methods.xlsx'\n",
    "files_out[fname.name] = fname\n",
    "writer = pd.ExcelWriter(fname)\n",
    "fname"
   ]
  },
  {
   "cell_type": "markdown",
   "id": "770d1f76-e86f-4ae3-9d7b-ceef9b9e9a22",
   "metadata": {
    "papermill": {
     "duration": 0.029534,
     "end_time": "2024-05-27T15:51:07.220016",
     "exception": false,
     "start_time": "2024-05-27T15:51:07.190482",
     "status": "completed"
    },
    "tags": []
   },
   "source": [
    "## Load scores"
   ]
  },
  {
   "cell_type": "code",
   "execution_count": 10,
   "id": "e8bbada7-8b8e-4399-b0d3-b66c40905839",
   "metadata": {
    "execution": {
     "iopub.execute_input": "2024-05-27T15:51:07.282878Z",
     "iopub.status.busy": "2024-05-27T15:51:07.282522Z",
     "iopub.status.idle": "2024-05-27T15:51:07.307653Z",
     "shell.execute_reply": "2024-05-27T15:51:07.306904Z"
    },
    "papermill": {
     "duration": 0.07549,
     "end_time": "2024-05-27T15:51:07.309145",
     "exception": false,
     "start_time": "2024-05-27T15:51:07.233655",
     "status": "completed"
    },
    "tags": []
   },
   "outputs": [
    {
     "data": {
      "text/plain": [
       "[PosixPath('runs/alzheimer_study/diff_analysis/AD/scores/10_1_ald_diff_analysis_None.ipynb'),\n",
       " PosixPath('runs/alzheimer_study/diff_analysis/AD/scores/diff_analysis_scores_None.pkl'),\n",
       " PosixPath('runs/alzheimer_study/diff_analysis/AD/scores/diff_analysis_scores_PI.pkl'),\n",
       " PosixPath('runs/alzheimer_study/diff_analysis/AD/scores/10_1_ald_diff_analysis_Median.ipynb'),\n",
       " PosixPath('runs/alzheimer_study/diff_analysis/AD/scores/10_1_ald_diff_analysis_RF.html'),\n",
       " PosixPath('runs/alzheimer_study/diff_analysis/AD/scores/diff_analysis_scores_TRKNN.pkl'),\n",
       " PosixPath('runs/alzheimer_study/diff_analysis/AD/scores/10_1_ald_diff_analysis_VAE.ipynb'),\n",
       " PosixPath('runs/alzheimer_study/diff_analysis/AD/scores/diff_analysis_scores_DAE.pkl'),\n",
       " PosixPath('runs/alzheimer_study/diff_analysis/AD/scores/diff_analysis_scores_RF.pkl'),\n",
       " PosixPath('runs/alzheimer_study/diff_analysis/AD/scores/10_1_ald_diff_analysis_DAE.html'),\n",
       " PosixPath('runs/alzheimer_study/diff_analysis/AD/scores/10_1_ald_diff_analysis_QRILC.html'),\n",
       " PosixPath('runs/alzheimer_study/diff_analysis/AD/scores/10_1_ald_diff_analysis_QRILC.ipynb'),\n",
       " PosixPath('runs/alzheimer_study/diff_analysis/AD/scores/diff_analysis_scores_VAE.pkl'),\n",
       " PosixPath('runs/alzheimer_study/diff_analysis/AD/scores/10_1_ald_diff_analysis_Median.html'),\n",
       " PosixPath('runs/alzheimer_study/diff_analysis/AD/scores/diff_analysis_scores_QRILC.pkl'),\n",
       " PosixPath('runs/alzheimer_study/diff_analysis/AD/scores/10_1_ald_diff_analysis_TRKNN.ipynb'),\n",
       " PosixPath('runs/alzheimer_study/diff_analysis/AD/scores/10_1_ald_diff_analysis_PI.ipynb'),\n",
       " PosixPath('runs/alzheimer_study/diff_analysis/AD/scores/10_1_ald_diff_analysis_None.html'),\n",
       " PosixPath('runs/alzheimer_study/diff_analysis/AD/scores/10_1_ald_diff_analysis_DAE.ipynb'),\n",
       " PosixPath('runs/alzheimer_study/diff_analysis/AD/scores/10_1_ald_diff_analysis_PI.html'),\n",
       " PosixPath('runs/alzheimer_study/diff_analysis/AD/scores/diff_analysis_scores_Median.pkl'),\n",
       " PosixPath('runs/alzheimer_study/diff_analysis/AD/scores/10_1_ald_diff_analysis_VAE.html'),\n",
       " PosixPath('runs/alzheimer_study/diff_analysis/AD/scores/10_1_ald_diff_analysis_TRKNN.html'),\n",
       " PosixPath('runs/alzheimer_study/diff_analysis/AD/scores/10_1_ald_diff_analysis_RF.ipynb')]"
      ]
     },
     "execution_count": 10,
     "metadata": {},
     "output_type": "execute_result"
    }
   ],
   "source": [
    "[x for x in args.scores_folder.iterdir() if 'scores' in str(x)]"
   ]
  },
  {
   "cell_type": "code",
   "execution_count": 11,
   "id": "97221134-5f61-4158-bfc5-ea30077140b8",
   "metadata": {
    "execution": {
     "iopub.execute_input": "2024-05-27T15:51:07.384032Z",
     "iopub.status.busy": "2024-05-27T15:51:07.383635Z",
     "iopub.status.idle": "2024-05-27T15:51:07.477641Z",
     "shell.execute_reply": "2024-05-27T15:51:07.476818Z"
    },
    "papermill": {
     "duration": 0.137693,
     "end_time": "2024-05-27T15:51:07.479507",
     "exception": false,
     "start_time": "2024-05-27T15:51:07.341814",
     "status": "completed"
    },
    "tags": []
   },
   "outputs": [
    {
     "data": {
      "text/html": [
       "<div>\n",
       "<style scoped>\n",
       "    .dataframe tbody tr th:only-of-type {\n",
       "        vertical-align: middle;\n",
       "    }\n",
       "\n",
       "    .dataframe tbody tr th {\n",
       "        vertical-align: top;\n",
       "    }\n",
       "\n",
       "    .dataframe thead tr th {\n",
       "        text-align: left;\n",
       "    }\n",
       "\n",
       "    .dataframe thead tr:last-of-type th {\n",
       "        text-align: right;\n",
       "    }\n",
       "</style>\n",
       "<table border=\"1\" class=\"dataframe\">\n",
       "  <thead>\n",
       "    <tr>\n",
       "      <th></th>\n",
       "      <th>model</th>\n",
       "      <th colspan=\"8\" halign=\"left\">PI</th>\n",
       "    </tr>\n",
       "    <tr>\n",
       "      <th></th>\n",
       "      <th>var</th>\n",
       "      <th>SS</th>\n",
       "      <th>DF</th>\n",
       "      <th>F</th>\n",
       "      <th>p-unc</th>\n",
       "      <th>np2</th>\n",
       "      <th>-Log10 pvalue</th>\n",
       "      <th>qvalue</th>\n",
       "      <th>rejected</th>\n",
       "    </tr>\n",
       "    <tr>\n",
       "      <th>protein groups</th>\n",
       "      <th>Source</th>\n",
       "      <th></th>\n",
       "      <th></th>\n",
       "      <th></th>\n",
       "      <th></th>\n",
       "      <th></th>\n",
       "      <th></th>\n",
       "      <th></th>\n",
       "      <th></th>\n",
       "    </tr>\n",
       "  </thead>\n",
       "  <tbody>\n",
       "    <tr>\n",
       "      <th rowspan=\"5\" valign=\"top\">A0A024QZX5;A0A087X1N8;P35237</th>\n",
       "      <th>AD</th>\n",
       "      <td>0.401</td>\n",
       "      <td>1</td>\n",
       "      <td>0.728</td>\n",
       "      <td>0.395</td>\n",
       "      <td>0.004</td>\n",
       "      <td>0.404</td>\n",
       "      <td>0.554</td>\n",
       "      <td>False</td>\n",
       "    </tr>\n",
       "    <tr>\n",
       "      <th>age</th>\n",
       "      <td>0.079</td>\n",
       "      <td>1</td>\n",
       "      <td>0.143</td>\n",
       "      <td>0.706</td>\n",
       "      <td>0.001</td>\n",
       "      <td>0.151</td>\n",
       "      <td>0.811</td>\n",
       "      <td>False</td>\n",
       "    </tr>\n",
       "    <tr>\n",
       "      <th>Kiel</th>\n",
       "      <td>1.874</td>\n",
       "      <td>1</td>\n",
       "      <td>3.399</td>\n",
       "      <td>0.067</td>\n",
       "      <td>0.017</td>\n",
       "      <td>1.175</td>\n",
       "      <td>0.154</td>\n",
       "      <td>False</td>\n",
       "    </tr>\n",
       "    <tr>\n",
       "      <th>Magdeburg</th>\n",
       "      <td>4.527</td>\n",
       "      <td>1</td>\n",
       "      <td>8.211</td>\n",
       "      <td>0.005</td>\n",
       "      <td>0.041</td>\n",
       "      <td>2.334</td>\n",
       "      <td>0.018</td>\n",
       "      <td>True</td>\n",
       "    </tr>\n",
       "    <tr>\n",
       "      <th>Sweden</th>\n",
       "      <td>7.021</td>\n",
       "      <td>1</td>\n",
       "      <td>12.734</td>\n",
       "      <td>0.000</td>\n",
       "      <td>0.063</td>\n",
       "      <td>3.343</td>\n",
       "      <td>0.003</td>\n",
       "      <td>True</td>\n",
       "    </tr>\n",
       "    <tr>\n",
       "      <th>...</th>\n",
       "      <th>...</th>\n",
       "      <td>...</td>\n",
       "      <td>...</td>\n",
       "      <td>...</td>\n",
       "      <td>...</td>\n",
       "      <td>...</td>\n",
       "      <td>...</td>\n",
       "      <td>...</td>\n",
       "      <td>...</td>\n",
       "    </tr>\n",
       "    <tr>\n",
       "      <th rowspan=\"5\" valign=\"top\">S4R3U6</th>\n",
       "      <th>AD</th>\n",
       "      <td>0.103</td>\n",
       "      <td>1</td>\n",
       "      <td>0.104</td>\n",
       "      <td>0.747</td>\n",
       "      <td>0.001</td>\n",
       "      <td>0.126</td>\n",
       "      <td>0.840</td>\n",
       "      <td>False</td>\n",
       "    </tr>\n",
       "    <tr>\n",
       "      <th>age</th>\n",
       "      <td>1.285</td>\n",
       "      <td>1</td>\n",
       "      <td>1.292</td>\n",
       "      <td>0.257</td>\n",
       "      <td>0.007</td>\n",
       "      <td>0.590</td>\n",
       "      <td>0.412</td>\n",
       "      <td>False</td>\n",
       "    </tr>\n",
       "    <tr>\n",
       "      <th>Kiel</th>\n",
       "      <td>0.004</td>\n",
       "      <td>1</td>\n",
       "      <td>0.004</td>\n",
       "      <td>0.950</td>\n",
       "      <td>0.000</td>\n",
       "      <td>0.022</td>\n",
       "      <td>0.973</td>\n",
       "      <td>False</td>\n",
       "    </tr>\n",
       "    <tr>\n",
       "      <th>Magdeburg</th>\n",
       "      <td>2.678</td>\n",
       "      <td>1</td>\n",
       "      <td>2.693</td>\n",
       "      <td>0.102</td>\n",
       "      <td>0.014</td>\n",
       "      <td>0.990</td>\n",
       "      <td>0.214</td>\n",
       "      <td>False</td>\n",
       "    </tr>\n",
       "    <tr>\n",
       "      <th>Sweden</th>\n",
       "      <td>9.290</td>\n",
       "      <td>1</td>\n",
       "      <td>9.343</td>\n",
       "      <td>0.003</td>\n",
       "      <td>0.047</td>\n",
       "      <td>2.592</td>\n",
       "      <td>0.011</td>\n",
       "      <td>True</td>\n",
       "    </tr>\n",
       "  </tbody>\n",
       "</table>\n",
       "<p>7105 rows × 8 columns</p>\n",
       "</div>"
      ],
      "text/plain": [
       "model                                     PI                        \\\n",
       "var                                       SS DF      F p-unc   np2   \n",
       "protein groups               Source                                  \n",
       "A0A024QZX5;A0A087X1N8;P35237 AD        0.401  1  0.728 0.395 0.004   \n",
       "                             age       0.079  1  0.143 0.706 0.001   \n",
       "                             Kiel      1.874  1  3.399 0.067 0.017   \n",
       "                             Magdeburg 4.527  1  8.211 0.005 0.041   \n",
       "                             Sweden    7.021  1 12.734 0.000 0.063   \n",
       "...                                      ... ..    ...   ...   ...   \n",
       "S4R3U6                       AD        0.103  1  0.104 0.747 0.001   \n",
       "                             age       1.285  1  1.292 0.257 0.007   \n",
       "                             Kiel      0.004  1  0.004 0.950 0.000   \n",
       "                             Magdeburg 2.678  1  2.693 0.102 0.014   \n",
       "                             Sweden    9.290  1  9.343 0.003 0.047   \n",
       "\n",
       "model                                                                 \n",
       "var                                    -Log10 pvalue qvalue rejected  \n",
       "protein groups               Source                                   \n",
       "A0A024QZX5;A0A087X1N8;P35237 AD                0.404  0.554    False  \n",
       "                             age               0.151  0.811    False  \n",
       "                             Kiel              1.175  0.154    False  \n",
       "                             Magdeburg         2.334  0.018     True  \n",
       "                             Sweden            3.343  0.003     True  \n",
       "...                                              ...    ...      ...  \n",
       "S4R3U6                       AD                0.126  0.840    False  \n",
       "                             age               0.590  0.412    False  \n",
       "                             Kiel              0.022  0.973    False  \n",
       "                             Magdeburg         0.990  0.214    False  \n",
       "                             Sweden            2.592  0.011     True  \n",
       "\n",
       "[7105 rows x 8 columns]"
      ]
     },
     "execution_count": 11,
     "metadata": {},
     "output_type": "execute_result"
    }
   ],
   "source": [
    "fname = args.scores_folder / f'diff_analysis_scores_{args.baseline}.pkl'\n",
    "scores_baseline = pd.read_pickle(fname)\n",
    "scores_baseline"
   ]
  },
  {
   "cell_type": "code",
   "execution_count": 12,
   "id": "f0635e4d",
   "metadata": {
    "execution": {
     "iopub.execute_input": "2024-05-27T15:51:07.539650Z",
     "iopub.status.busy": "2024-05-27T15:51:07.539267Z",
     "iopub.status.idle": "2024-05-27T15:51:07.588530Z",
     "shell.execute_reply": "2024-05-27T15:51:07.587754Z"
    },
    "papermill": {
     "duration": 0.08694,
     "end_time": "2024-05-27T15:51:07.590712",
     "exception": false,
     "start_time": "2024-05-27T15:51:07.503772",
     "status": "completed"
    },
    "tags": []
   },
   "outputs": [
    {
     "data": {
      "text/html": [
       "<div>\n",
       "<style scoped>\n",
       "    .dataframe tbody tr th:only-of-type {\n",
       "        vertical-align: middle;\n",
       "    }\n",
       "\n",
       "    .dataframe tbody tr th {\n",
       "        vertical-align: top;\n",
       "    }\n",
       "\n",
       "    .dataframe thead tr th {\n",
       "        text-align: left;\n",
       "    }\n",
       "\n",
       "    .dataframe thead tr:last-of-type th {\n",
       "        text-align: right;\n",
       "    }\n",
       "</style>\n",
       "<table border=\"1\" class=\"dataframe\">\n",
       "  <thead>\n",
       "    <tr>\n",
       "      <th></th>\n",
       "      <th>model</th>\n",
       "      <th colspan=\"8\" halign=\"left\">QRILC</th>\n",
       "    </tr>\n",
       "    <tr>\n",
       "      <th></th>\n",
       "      <th>var</th>\n",
       "      <th>SS</th>\n",
       "      <th>DF</th>\n",
       "      <th>F</th>\n",
       "      <th>p-unc</th>\n",
       "      <th>np2</th>\n",
       "      <th>-Log10 pvalue</th>\n",
       "      <th>qvalue</th>\n",
       "      <th>rejected</th>\n",
       "    </tr>\n",
       "    <tr>\n",
       "      <th>protein groups</th>\n",
       "      <th>Source</th>\n",
       "      <th></th>\n",
       "      <th></th>\n",
       "      <th></th>\n",
       "      <th></th>\n",
       "      <th></th>\n",
       "      <th></th>\n",
       "      <th></th>\n",
       "      <th></th>\n",
       "    </tr>\n",
       "  </thead>\n",
       "  <tbody>\n",
       "    <tr>\n",
       "      <th rowspan=\"5\" valign=\"top\">A0A024QZX5;A0A087X1N8;P35237</th>\n",
       "      <th>AD</th>\n",
       "      <td>0.752</td>\n",
       "      <td>1</td>\n",
       "      <td>4.896</td>\n",
       "      <td>0.028</td>\n",
       "      <td>0.025</td>\n",
       "      <td>1.551</td>\n",
       "      <td>0.072</td>\n",
       "      <td>False</td>\n",
       "    </tr>\n",
       "    <tr>\n",
       "      <th>age</th>\n",
       "      <td>0.017</td>\n",
       "      <td>1</td>\n",
       "      <td>0.108</td>\n",
       "      <td>0.743</td>\n",
       "      <td>0.001</td>\n",
       "      <td>0.129</td>\n",
       "      <td>0.829</td>\n",
       "      <td>False</td>\n",
       "    </tr>\n",
       "    <tr>\n",
       "      <th>Kiel</th>\n",
       "      <td>0.413</td>\n",
       "      <td>1</td>\n",
       "      <td>2.686</td>\n",
       "      <td>0.103</td>\n",
       "      <td>0.014</td>\n",
       "      <td>0.988</td>\n",
       "      <td>0.200</td>\n",
       "      <td>False</td>\n",
       "    </tr>\n",
       "    <tr>\n",
       "      <th>Magdeburg</th>\n",
       "      <td>0.836</td>\n",
       "      <td>1</td>\n",
       "      <td>5.442</td>\n",
       "      <td>0.021</td>\n",
       "      <td>0.028</td>\n",
       "      <td>1.684</td>\n",
       "      <td>0.056</td>\n",
       "      <td>False</td>\n",
       "    </tr>\n",
       "    <tr>\n",
       "      <th>Sweden</th>\n",
       "      <td>2.248</td>\n",
       "      <td>1</td>\n",
       "      <td>14.628</td>\n",
       "      <td>0.000</td>\n",
       "      <td>0.071</td>\n",
       "      <td>3.751</td>\n",
       "      <td>0.001</td>\n",
       "      <td>True</td>\n",
       "    </tr>\n",
       "    <tr>\n",
       "      <th>...</th>\n",
       "      <th>...</th>\n",
       "      <td>...</td>\n",
       "      <td>...</td>\n",
       "      <td>...</td>\n",
       "      <td>...</td>\n",
       "      <td>...</td>\n",
       "      <td>...</td>\n",
       "      <td>...</td>\n",
       "      <td>...</td>\n",
       "    </tr>\n",
       "    <tr>\n",
       "      <th rowspan=\"5\" valign=\"top\">S4R3U6</th>\n",
       "      <th>AD</th>\n",
       "      <td>3.278</td>\n",
       "      <td>1</td>\n",
       "      <td>1.729</td>\n",
       "      <td>0.190</td>\n",
       "      <td>0.009</td>\n",
       "      <td>0.721</td>\n",
       "      <td>0.321</td>\n",
       "      <td>False</td>\n",
       "    </tr>\n",
       "    <tr>\n",
       "      <th>age</th>\n",
       "      <td>0.872</td>\n",
       "      <td>1</td>\n",
       "      <td>0.460</td>\n",
       "      <td>0.499</td>\n",
       "      <td>0.002</td>\n",
       "      <td>0.302</td>\n",
       "      <td>0.638</td>\n",
       "      <td>False</td>\n",
       "    </tr>\n",
       "    <tr>\n",
       "      <th>Kiel</th>\n",
       "      <td>6.672</td>\n",
       "      <td>1</td>\n",
       "      <td>3.520</td>\n",
       "      <td>0.062</td>\n",
       "      <td>0.018</td>\n",
       "      <td>1.206</td>\n",
       "      <td>0.135</td>\n",
       "      <td>False</td>\n",
       "    </tr>\n",
       "    <tr>\n",
       "      <th>Magdeburg</th>\n",
       "      <td>15.283</td>\n",
       "      <td>1</td>\n",
       "      <td>8.062</td>\n",
       "      <td>0.005</td>\n",
       "      <td>0.040</td>\n",
       "      <td>2.300</td>\n",
       "      <td>0.017</td>\n",
       "      <td>True</td>\n",
       "    </tr>\n",
       "    <tr>\n",
       "      <th>Sweden</th>\n",
       "      <td>0.399</td>\n",
       "      <td>1</td>\n",
       "      <td>0.211</td>\n",
       "      <td>0.647</td>\n",
       "      <td>0.001</td>\n",
       "      <td>0.189</td>\n",
       "      <td>0.759</td>\n",
       "      <td>False</td>\n",
       "    </tr>\n",
       "  </tbody>\n",
       "</table>\n",
       "<p>7105 rows × 8 columns</p>\n",
       "</div>"
      ],
      "text/plain": [
       "model                                   QRILC                        \\\n",
       "var                                        SS DF      F p-unc   np2   \n",
       "protein groups               Source                                   \n",
       "A0A024QZX5;A0A087X1N8;P35237 AD         0.752  1  4.896 0.028 0.025   \n",
       "                             age        0.017  1  0.108 0.743 0.001   \n",
       "                             Kiel       0.413  1  2.686 0.103 0.014   \n",
       "                             Magdeburg  0.836  1  5.442 0.021 0.028   \n",
       "                             Sweden     2.248  1 14.628 0.000 0.071   \n",
       "...                                       ... ..    ...   ...   ...   \n",
       "S4R3U6                       AD         3.278  1  1.729 0.190 0.009   \n",
       "                             age        0.872  1  0.460 0.499 0.002   \n",
       "                             Kiel       6.672  1  3.520 0.062 0.018   \n",
       "                             Magdeburg 15.283  1  8.062 0.005 0.040   \n",
       "                             Sweden     0.399  1  0.211 0.647 0.001   \n",
       "\n",
       "model                                                                 \n",
       "var                                    -Log10 pvalue qvalue rejected  \n",
       "protein groups               Source                                   \n",
       "A0A024QZX5;A0A087X1N8;P35237 AD                1.551  0.072    False  \n",
       "                             age               0.129  0.829    False  \n",
       "                             Kiel              0.988  0.200    False  \n",
       "                             Magdeburg         1.684  0.056    False  \n",
       "                             Sweden            3.751  0.001     True  \n",
       "...                                              ...    ...      ...  \n",
       "S4R3U6                       AD                0.721  0.321    False  \n",
       "                             age               0.302  0.638    False  \n",
       "                             Kiel              1.206  0.135    False  \n",
       "                             Magdeburg         2.300  0.017     True  \n",
       "                             Sweden            0.189  0.759    False  \n",
       "\n",
       "[7105 rows x 8 columns]"
      ]
     },
     "execution_count": 12,
     "metadata": {},
     "output_type": "execute_result"
    }
   ],
   "source": [
    "fname = args.scores_folder / f'diff_analysis_scores_{args.model_key}.pkl'\n",
    "scores_model = pd.read_pickle(fname)\n",
    "scores_model"
   ]
  },
  {
   "cell_type": "code",
   "execution_count": 13,
   "id": "373fdf65",
   "metadata": {
    "execution": {
     "iopub.execute_input": "2024-05-27T15:51:07.646216Z",
     "iopub.status.busy": "2024-05-27T15:51:07.645861Z",
     "iopub.status.idle": "2024-05-27T15:51:07.716079Z",
     "shell.execute_reply": "2024-05-27T15:51:07.715270Z"
    },
    "papermill": {
     "duration": 0.104494,
     "end_time": "2024-05-27T15:51:07.718134",
     "exception": false,
     "start_time": "2024-05-27T15:51:07.613640",
     "status": "completed"
    },
    "tags": []
   },
   "outputs": [
    {
     "data": {
      "text/html": [
       "<div>\n",
       "<style scoped>\n",
       "    .dataframe tbody tr th:only-of-type {\n",
       "        vertical-align: middle;\n",
       "    }\n",
       "\n",
       "    .dataframe tbody tr th {\n",
       "        vertical-align: top;\n",
       "    }\n",
       "\n",
       "    .dataframe thead tr th {\n",
       "        text-align: left;\n",
       "    }\n",
       "\n",
       "    .dataframe thead tr:last-of-type th {\n",
       "        text-align: right;\n",
       "    }\n",
       "</style>\n",
       "<table border=\"1\" class=\"dataframe\">\n",
       "  <thead>\n",
       "    <tr>\n",
       "      <th></th>\n",
       "      <th>model</th>\n",
       "      <th colspan=\"8\" halign=\"left\">PI</th>\n",
       "      <th colspan=\"8\" halign=\"left\">QRILC</th>\n",
       "    </tr>\n",
       "    <tr>\n",
       "      <th></th>\n",
       "      <th>var</th>\n",
       "      <th>SS</th>\n",
       "      <th>DF</th>\n",
       "      <th>F</th>\n",
       "      <th>p-unc</th>\n",
       "      <th>np2</th>\n",
       "      <th>-Log10 pvalue</th>\n",
       "      <th>qvalue</th>\n",
       "      <th>rejected</th>\n",
       "      <th>SS</th>\n",
       "      <th>DF</th>\n",
       "      <th>F</th>\n",
       "      <th>p-unc</th>\n",
       "      <th>np2</th>\n",
       "      <th>-Log10 pvalue</th>\n",
       "      <th>qvalue</th>\n",
       "      <th>rejected</th>\n",
       "    </tr>\n",
       "    <tr>\n",
       "      <th>protein groups</th>\n",
       "      <th>Source</th>\n",
       "      <th></th>\n",
       "      <th></th>\n",
       "      <th></th>\n",
       "      <th></th>\n",
       "      <th></th>\n",
       "      <th></th>\n",
       "      <th></th>\n",
       "      <th></th>\n",
       "      <th></th>\n",
       "      <th></th>\n",
       "      <th></th>\n",
       "      <th></th>\n",
       "      <th></th>\n",
       "      <th></th>\n",
       "      <th></th>\n",
       "      <th></th>\n",
       "    </tr>\n",
       "  </thead>\n",
       "  <tbody>\n",
       "    <tr>\n",
       "      <th rowspan=\"5\" valign=\"top\">A0A024QZX5;A0A087X1N8;P35237</th>\n",
       "      <th>AD</th>\n",
       "      <td>0.401</td>\n",
       "      <td>1</td>\n",
       "      <td>0.728</td>\n",
       "      <td>0.395</td>\n",
       "      <td>0.004</td>\n",
       "      <td>0.404</td>\n",
       "      <td>0.554</td>\n",
       "      <td>False</td>\n",
       "      <td>0.752</td>\n",
       "      <td>1</td>\n",
       "      <td>4.896</td>\n",
       "      <td>0.028</td>\n",
       "      <td>0.025</td>\n",
       "      <td>1.551</td>\n",
       "      <td>0.072</td>\n",
       "      <td>False</td>\n",
       "    </tr>\n",
       "    <tr>\n",
       "      <th>age</th>\n",
       "      <td>0.079</td>\n",
       "      <td>1</td>\n",
       "      <td>0.143</td>\n",
       "      <td>0.706</td>\n",
       "      <td>0.001</td>\n",
       "      <td>0.151</td>\n",
       "      <td>0.811</td>\n",
       "      <td>False</td>\n",
       "      <td>0.017</td>\n",
       "      <td>1</td>\n",
       "      <td>0.108</td>\n",
       "      <td>0.743</td>\n",
       "      <td>0.001</td>\n",
       "      <td>0.129</td>\n",
       "      <td>0.829</td>\n",
       "      <td>False</td>\n",
       "    </tr>\n",
       "    <tr>\n",
       "      <th>Kiel</th>\n",
       "      <td>1.874</td>\n",
       "      <td>1</td>\n",
       "      <td>3.399</td>\n",
       "      <td>0.067</td>\n",
       "      <td>0.017</td>\n",
       "      <td>1.175</td>\n",
       "      <td>0.154</td>\n",
       "      <td>False</td>\n",
       "      <td>0.413</td>\n",
       "      <td>1</td>\n",
       "      <td>2.686</td>\n",
       "      <td>0.103</td>\n",
       "      <td>0.014</td>\n",
       "      <td>0.988</td>\n",
       "      <td>0.200</td>\n",
       "      <td>False</td>\n",
       "    </tr>\n",
       "    <tr>\n",
       "      <th>Magdeburg</th>\n",
       "      <td>4.527</td>\n",
       "      <td>1</td>\n",
       "      <td>8.211</td>\n",
       "      <td>0.005</td>\n",
       "      <td>0.041</td>\n",
       "      <td>2.334</td>\n",
       "      <td>0.018</td>\n",
       "      <td>True</td>\n",
       "      <td>0.836</td>\n",
       "      <td>1</td>\n",
       "      <td>5.442</td>\n",
       "      <td>0.021</td>\n",
       "      <td>0.028</td>\n",
       "      <td>1.684</td>\n",
       "      <td>0.056</td>\n",
       "      <td>False</td>\n",
       "    </tr>\n",
       "    <tr>\n",
       "      <th>Sweden</th>\n",
       "      <td>7.021</td>\n",
       "      <td>1</td>\n",
       "      <td>12.734</td>\n",
       "      <td>0.000</td>\n",
       "      <td>0.063</td>\n",
       "      <td>3.343</td>\n",
       "      <td>0.003</td>\n",
       "      <td>True</td>\n",
       "      <td>2.248</td>\n",
       "      <td>1</td>\n",
       "      <td>14.628</td>\n",
       "      <td>0.000</td>\n",
       "      <td>0.071</td>\n",
       "      <td>3.751</td>\n",
       "      <td>0.001</td>\n",
       "      <td>True</td>\n",
       "    </tr>\n",
       "    <tr>\n",
       "      <th>...</th>\n",
       "      <th>...</th>\n",
       "      <td>...</td>\n",
       "      <td>...</td>\n",
       "      <td>...</td>\n",
       "      <td>...</td>\n",
       "      <td>...</td>\n",
       "      <td>...</td>\n",
       "      <td>...</td>\n",
       "      <td>...</td>\n",
       "      <td>...</td>\n",
       "      <td>...</td>\n",
       "      <td>...</td>\n",
       "      <td>...</td>\n",
       "      <td>...</td>\n",
       "      <td>...</td>\n",
       "      <td>...</td>\n",
       "      <td>...</td>\n",
       "    </tr>\n",
       "    <tr>\n",
       "      <th rowspan=\"5\" valign=\"top\">S4R3U6</th>\n",
       "      <th>AD</th>\n",
       "      <td>0.103</td>\n",
       "      <td>1</td>\n",
       "      <td>0.104</td>\n",
       "      <td>0.747</td>\n",
       "      <td>0.001</td>\n",
       "      <td>0.126</td>\n",
       "      <td>0.840</td>\n",
       "      <td>False</td>\n",
       "      <td>3.278</td>\n",
       "      <td>1</td>\n",
       "      <td>1.729</td>\n",
       "      <td>0.190</td>\n",
       "      <td>0.009</td>\n",
       "      <td>0.721</td>\n",
       "      <td>0.321</td>\n",
       "      <td>False</td>\n",
       "    </tr>\n",
       "    <tr>\n",
       "      <th>age</th>\n",
       "      <td>1.285</td>\n",
       "      <td>1</td>\n",
       "      <td>1.292</td>\n",
       "      <td>0.257</td>\n",
       "      <td>0.007</td>\n",
       "      <td>0.590</td>\n",
       "      <td>0.412</td>\n",
       "      <td>False</td>\n",
       "      <td>0.872</td>\n",
       "      <td>1</td>\n",
       "      <td>0.460</td>\n",
       "      <td>0.499</td>\n",
       "      <td>0.002</td>\n",
       "      <td>0.302</td>\n",
       "      <td>0.638</td>\n",
       "      <td>False</td>\n",
       "    </tr>\n",
       "    <tr>\n",
       "      <th>Kiel</th>\n",
       "      <td>0.004</td>\n",
       "      <td>1</td>\n",
       "      <td>0.004</td>\n",
       "      <td>0.950</td>\n",
       "      <td>0.000</td>\n",
       "      <td>0.022</td>\n",
       "      <td>0.973</td>\n",
       "      <td>False</td>\n",
       "      <td>6.672</td>\n",
       "      <td>1</td>\n",
       "      <td>3.520</td>\n",
       "      <td>0.062</td>\n",
       "      <td>0.018</td>\n",
       "      <td>1.206</td>\n",
       "      <td>0.135</td>\n",
       "      <td>False</td>\n",
       "    </tr>\n",
       "    <tr>\n",
       "      <th>Magdeburg</th>\n",
       "      <td>2.678</td>\n",
       "      <td>1</td>\n",
       "      <td>2.693</td>\n",
       "      <td>0.102</td>\n",
       "      <td>0.014</td>\n",
       "      <td>0.990</td>\n",
       "      <td>0.214</td>\n",
       "      <td>False</td>\n",
       "      <td>15.283</td>\n",
       "      <td>1</td>\n",
       "      <td>8.062</td>\n",
       "      <td>0.005</td>\n",
       "      <td>0.040</td>\n",
       "      <td>2.300</td>\n",
       "      <td>0.017</td>\n",
       "      <td>True</td>\n",
       "    </tr>\n",
       "    <tr>\n",
       "      <th>Sweden</th>\n",
       "      <td>9.290</td>\n",
       "      <td>1</td>\n",
       "      <td>9.343</td>\n",
       "      <td>0.003</td>\n",
       "      <td>0.047</td>\n",
       "      <td>2.592</td>\n",
       "      <td>0.011</td>\n",
       "      <td>True</td>\n",
       "      <td>0.399</td>\n",
       "      <td>1</td>\n",
       "      <td>0.211</td>\n",
       "      <td>0.647</td>\n",
       "      <td>0.001</td>\n",
       "      <td>0.189</td>\n",
       "      <td>0.759</td>\n",
       "      <td>False</td>\n",
       "    </tr>\n",
       "  </tbody>\n",
       "</table>\n",
       "<p>7105 rows × 16 columns</p>\n",
       "</div>"
      ],
      "text/plain": [
       "model                                     PI                        \\\n",
       "var                                       SS DF      F p-unc   np2   \n",
       "protein groups               Source                                  \n",
       "A0A024QZX5;A0A087X1N8;P35237 AD        0.401  1  0.728 0.395 0.004   \n",
       "                             age       0.079  1  0.143 0.706 0.001   \n",
       "                             Kiel      1.874  1  3.399 0.067 0.017   \n",
       "                             Magdeburg 4.527  1  8.211 0.005 0.041   \n",
       "                             Sweden    7.021  1 12.734 0.000 0.063   \n",
       "...                                      ... ..    ...   ...   ...   \n",
       "S4R3U6                       AD        0.103  1  0.104 0.747 0.001   \n",
       "                             age       1.285  1  1.292 0.257 0.007   \n",
       "                             Kiel      0.004  1  0.004 0.950 0.000   \n",
       "                             Magdeburg 2.678  1  2.693 0.102 0.014   \n",
       "                             Sweden    9.290  1  9.343 0.003 0.047   \n",
       "\n",
       "model                                                                 QRILC  \\\n",
       "var                                    -Log10 pvalue qvalue rejected     SS   \n",
       "protein groups               Source                                           \n",
       "A0A024QZX5;A0A087X1N8;P35237 AD                0.404  0.554    False  0.752   \n",
       "                             age               0.151  0.811    False  0.017   \n",
       "                             Kiel              1.175  0.154    False  0.413   \n",
       "                             Magdeburg         2.334  0.018     True  0.836   \n",
       "                             Sweden            3.343  0.003     True  2.248   \n",
       "...                                              ...    ...      ...    ...   \n",
       "S4R3U6                       AD                0.126  0.840    False  3.278   \n",
       "                             age               0.590  0.412    False  0.872   \n",
       "                             Kiel              0.022  0.973    False  6.672   \n",
       "                             Magdeburg         0.990  0.214    False 15.283   \n",
       "                             Sweden            2.592  0.011     True  0.399   \n",
       "\n",
       "model                                                                       \\\n",
       "var                                    DF      F p-unc   np2 -Log10 pvalue   \n",
       "protein groups               Source                                          \n",
       "A0A024QZX5;A0A087X1N8;P35237 AD         1  4.896 0.028 0.025         1.551   \n",
       "                             age        1  0.108 0.743 0.001         0.129   \n",
       "                             Kiel       1  2.686 0.103 0.014         0.988   \n",
       "                             Magdeburg  1  5.442 0.021 0.028         1.684   \n",
       "                             Sweden     1 14.628 0.000 0.071         3.751   \n",
       "...                                    ..    ...   ...   ...           ...   \n",
       "S4R3U6                       AD         1  1.729 0.190 0.009         0.721   \n",
       "                             age        1  0.460 0.499 0.002         0.302   \n",
       "                             Kiel       1  3.520 0.062 0.018         1.206   \n",
       "                             Magdeburg  1  8.062 0.005 0.040         2.300   \n",
       "                             Sweden     1  0.211 0.647 0.001         0.189   \n",
       "\n",
       "model                                                   \n",
       "var                                    qvalue rejected  \n",
       "protein groups               Source                     \n",
       "A0A024QZX5;A0A087X1N8;P35237 AD         0.072    False  \n",
       "                             age        0.829    False  \n",
       "                             Kiel       0.200    False  \n",
       "                             Magdeburg  0.056    False  \n",
       "                             Sweden     0.001     True  \n",
       "...                                       ...      ...  \n",
       "S4R3U6                       AD         0.321    False  \n",
       "                             age        0.638    False  \n",
       "                             Kiel       0.135    False  \n",
       "                             Magdeburg  0.017     True  \n",
       "                             Sweden     0.759    False  \n",
       "\n",
       "[7105 rows x 16 columns]"
      ]
     },
     "execution_count": 13,
     "metadata": {},
     "output_type": "execute_result"
    }
   ],
   "source": [
    "scores = scores_model.join(scores_baseline, how='outer')[[args.baseline, args.model_key]]\n",
    "scores"
   ]
  },
  {
   "cell_type": "code",
   "execution_count": 14,
   "id": "34d243d1-3ab4-40e7-9eb8-f9efc828b82d",
   "metadata": {
    "execution": {
     "iopub.execute_input": "2024-05-27T15:51:07.767285Z",
     "iopub.status.busy": "2024-05-27T15:51:07.766937Z",
     "iopub.status.idle": "2024-05-27T15:51:07.773237Z",
     "shell.execute_reply": "2024-05-27T15:51:07.772521Z"
    },
    "papermill": {
     "duration": 0.044811,
     "end_time": "2024-05-27T15:51:07.777760",
     "exception": false,
     "start_time": "2024-05-27T15:51:07.732949",
     "status": "completed"
    },
    "tags": []
   },
   "outputs": [
    {
     "data": {
      "text/plain": [
       "{'PI': 'PI', 'QRILC': 'QRILC'}"
      ]
     },
     "execution_count": 14,
     "metadata": {},
     "output_type": "execute_result"
    }
   ],
   "source": [
    "models = vaep.nb.Config.from_dict(\n",
    "    vaep.pandas.index_to_dict(scores.columns.get_level_values(0)))\n",
    "vars(models)"
   ]
  },
  {
   "cell_type": "code",
   "execution_count": 15,
   "id": "0fee8f5d-fa52-4369-a1f9-fcfd518ab6bd",
   "metadata": {
    "execution": {
     "iopub.execute_input": "2024-05-27T15:51:07.870436Z",
     "iopub.status.busy": "2024-05-27T15:51:07.870075Z",
     "iopub.status.idle": "2024-05-27T15:51:07.999515Z",
     "shell.execute_reply": "2024-05-27T15:51:07.998684Z"
    },
    "papermill": {
     "duration": 0.179068,
     "end_time": "2024-05-27T15:51:08.001613",
     "exception": false,
     "start_time": "2024-05-27T15:51:07.822545",
     "status": "completed"
    },
    "tags": []
   },
   "outputs": [
    {
     "data": {
      "text/html": [
       "<div>\n",
       "<style scoped>\n",
       "    .dataframe tbody tr th:only-of-type {\n",
       "        vertical-align: middle;\n",
       "    }\n",
       "\n",
       "    .dataframe tbody tr th {\n",
       "        vertical-align: top;\n",
       "    }\n",
       "\n",
       "    .dataframe thead tr th {\n",
       "        text-align: left;\n",
       "    }\n",
       "</style>\n",
       "<table border=\"1\" class=\"dataframe\">\n",
       "  <thead>\n",
       "    <tr>\n",
       "      <th>model</th>\n",
       "      <th colspan=\"7\" halign=\"left\">PI</th>\n",
       "      <th colspan=\"7\" halign=\"left\">QRILC</th>\n",
       "    </tr>\n",
       "    <tr>\n",
       "      <th>var</th>\n",
       "      <th>SS</th>\n",
       "      <th>DF</th>\n",
       "      <th>F</th>\n",
       "      <th>p-unc</th>\n",
       "      <th>np2</th>\n",
       "      <th>-Log10 pvalue</th>\n",
       "      <th>qvalue</th>\n",
       "      <th>SS</th>\n",
       "      <th>DF</th>\n",
       "      <th>F</th>\n",
       "      <th>p-unc</th>\n",
       "      <th>np2</th>\n",
       "      <th>-Log10 pvalue</th>\n",
       "      <th>qvalue</th>\n",
       "    </tr>\n",
       "  </thead>\n",
       "  <tbody>\n",
       "    <tr>\n",
       "      <th>count</th>\n",
       "      <td>7,105.000</td>\n",
       "      <td>7,105.000</td>\n",
       "      <td>7,105.000</td>\n",
       "      <td>7,105.000</td>\n",
       "      <td>7,105.000</td>\n",
       "      <td>7,105.000</td>\n",
       "      <td>7,105.000</td>\n",
       "      <td>7,105.000</td>\n",
       "      <td>7,105.000</td>\n",
       "      <td>7,105.000</td>\n",
       "      <td>7,105.000</td>\n",
       "      <td>7,105.000</td>\n",
       "      <td>7,105.000</td>\n",
       "      <td>7,105.000</td>\n",
       "    </tr>\n",
       "    <tr>\n",
       "      <th>mean</th>\n",
       "      <td>10.301</td>\n",
       "      <td>1.000</td>\n",
       "      <td>12.387</td>\n",
       "      <td>0.259</td>\n",
       "      <td>0.043</td>\n",
       "      <td>2.477</td>\n",
       "      <td>0.335</td>\n",
       "      <td>8.456</td>\n",
       "      <td>1.000</td>\n",
       "      <td>12.823</td>\n",
       "      <td>0.245</td>\n",
       "      <td>0.048</td>\n",
       "      <td>2.751</td>\n",
       "      <td>0.311</td>\n",
       "    </tr>\n",
       "    <tr>\n",
       "      <th>std</th>\n",
       "      <td>64.140</td>\n",
       "      <td>0.000</td>\n",
       "      <td>85.067</td>\n",
       "      <td>0.302</td>\n",
       "      <td>0.084</td>\n",
       "      <td>5.330</td>\n",
       "      <td>0.329</td>\n",
       "      <td>34.347</td>\n",
       "      <td>0.000</td>\n",
       "      <td>37.258</td>\n",
       "      <td>0.298</td>\n",
       "      <td>0.089</td>\n",
       "      <td>5.204</td>\n",
       "      <td>0.325</td>\n",
       "    </tr>\n",
       "    <tr>\n",
       "      <th>min</th>\n",
       "      <td>0.000</td>\n",
       "      <td>1.000</td>\n",
       "      <td>0.000</td>\n",
       "      <td>0.000</td>\n",
       "      <td>0.000</td>\n",
       "      <td>0.000</td>\n",
       "      <td>0.000</td>\n",
       "      <td>0.000</td>\n",
       "      <td>1.000</td>\n",
       "      <td>0.000</td>\n",
       "      <td>0.000</td>\n",
       "      <td>0.000</td>\n",
       "      <td>0.000</td>\n",
       "      <td>0.000</td>\n",
       "    </tr>\n",
       "    <tr>\n",
       "      <th>25%</th>\n",
       "      <td>0.319</td>\n",
       "      <td>1.000</td>\n",
       "      <td>0.554</td>\n",
       "      <td>0.004</td>\n",
       "      <td>0.003</td>\n",
       "      <td>0.339</td>\n",
       "      <td>0.015</td>\n",
       "      <td>0.250</td>\n",
       "      <td>1.000</td>\n",
       "      <td>0.619</td>\n",
       "      <td>0.002</td>\n",
       "      <td>0.003</td>\n",
       "      <td>0.364</td>\n",
       "      <td>0.008</td>\n",
       "    </tr>\n",
       "    <tr>\n",
       "      <th>50%</th>\n",
       "      <td>1.606</td>\n",
       "      <td>1.000</td>\n",
       "      <td>2.429</td>\n",
       "      <td>0.121</td>\n",
       "      <td>0.013</td>\n",
       "      <td>0.918</td>\n",
       "      <td>0.241</td>\n",
       "      <td>1.288</td>\n",
       "      <td>1.000</td>\n",
       "      <td>2.905</td>\n",
       "      <td>0.090</td>\n",
       "      <td>0.015</td>\n",
       "      <td>1.046</td>\n",
       "      <td>0.180</td>\n",
       "    </tr>\n",
       "    <tr>\n",
       "      <th>75%</th>\n",
       "      <td>6.011</td>\n",
       "      <td>1.000</td>\n",
       "      <td>8.583</td>\n",
       "      <td>0.458</td>\n",
       "      <td>0.043</td>\n",
       "      <td>2.419</td>\n",
       "      <td>0.610</td>\n",
       "      <td>4.898</td>\n",
       "      <td>1.000</td>\n",
       "      <td>9.710</td>\n",
       "      <td>0.432</td>\n",
       "      <td>0.048</td>\n",
       "      <td>2.675</td>\n",
       "      <td>0.576</td>\n",
       "    </tr>\n",
       "    <tr>\n",
       "      <th>max</th>\n",
       "      <td>3,997.313</td>\n",
       "      <td>1.000</td>\n",
       "      <td>6,226.770</td>\n",
       "      <td>0.999</td>\n",
       "      <td>0.970</td>\n",
       "      <td>146.999</td>\n",
       "      <td>0.999</td>\n",
       "      <td>1,112.405</td>\n",
       "      <td>1.000</td>\n",
       "      <td>1,253.935</td>\n",
       "      <td>1.000</td>\n",
       "      <td>0.868</td>\n",
       "      <td>85.136</td>\n",
       "      <td>1.000</td>\n",
       "    </tr>\n",
       "  </tbody>\n",
       "</table>\n",
       "</div>"
      ],
      "text/plain": [
       "model        PI                                                        \\\n",
       "var          SS        DF         F     p-unc       np2 -Log10 pvalue   \n",
       "count 7,105.000 7,105.000 7,105.000 7,105.000 7,105.000     7,105.000   \n",
       "mean     10.301     1.000    12.387     0.259     0.043         2.477   \n",
       "std      64.140     0.000    85.067     0.302     0.084         5.330   \n",
       "min       0.000     1.000     0.000     0.000     0.000         0.000   \n",
       "25%       0.319     1.000     0.554     0.004     0.003         0.339   \n",
       "50%       1.606     1.000     2.429     0.121     0.013         0.918   \n",
       "75%       6.011     1.000     8.583     0.458     0.043         2.419   \n",
       "max   3,997.313     1.000 6,226.770     0.999     0.970       146.999   \n",
       "\n",
       "model               QRILC                                          \\\n",
       "var      qvalue        SS        DF         F     p-unc       np2   \n",
       "count 7,105.000 7,105.000 7,105.000 7,105.000 7,105.000 7,105.000   \n",
       "mean      0.335     8.456     1.000    12.823     0.245     0.048   \n",
       "std       0.329    34.347     0.000    37.258     0.298     0.089   \n",
       "min       0.000     0.000     1.000     0.000     0.000     0.000   \n",
       "25%       0.015     0.250     1.000     0.619     0.002     0.003   \n",
       "50%       0.241     1.288     1.000     2.905     0.090     0.015   \n",
       "75%       0.610     4.898     1.000     9.710     0.432     0.048   \n",
       "max       0.999 1,112.405     1.000 1,253.935     1.000     0.868   \n",
       "\n",
       "model                          \n",
       "var   -Log10 pvalue    qvalue  \n",
       "count     7,105.000 7,105.000  \n",
       "mean          2.751     0.311  \n",
       "std           5.204     0.325  \n",
       "min           0.000     0.000  \n",
       "25%           0.364     0.008  \n",
       "50%           1.046     0.180  \n",
       "75%           2.675     0.576  \n",
       "max          85.136     1.000  "
      ]
     },
     "execution_count": 15,
     "metadata": {},
     "output_type": "execute_result"
    }
   ],
   "source": [
    "scores.describe()"
   ]
  },
  {
   "cell_type": "code",
   "execution_count": 16,
   "id": "c6e5a0a6-343b-4f07-8d9d-2cd5cf95ae1f",
   "metadata": {
    "execution": {
     "iopub.execute_input": "2024-05-27T15:51:08.062831Z",
     "iopub.status.busy": "2024-05-27T15:51:08.062447Z",
     "iopub.status.idle": "2024-05-27T15:51:09.020447Z",
     "shell.execute_reply": "2024-05-27T15:51:09.019724Z"
    },
    "papermill": {
     "duration": 1.009074,
     "end_time": "2024-05-27T15:51:09.026302",
     "exception": false,
     "start_time": "2024-05-27T15:51:08.017228",
     "status": "completed"
    },
    "tags": []
   },
   "outputs": [
    {
     "data": {
      "text/html": [
       "<div>\n",
       "<style scoped>\n",
       "    .dataframe tbody tr th:only-of-type {\n",
       "        vertical-align: middle;\n",
       "    }\n",
       "\n",
       "    .dataframe tbody tr th {\n",
       "        vertical-align: top;\n",
       "    }\n",
       "\n",
       "    .dataframe thead tr th {\n",
       "        text-align: left;\n",
       "    }\n",
       "\n",
       "    .dataframe thead tr:last-of-type th {\n",
       "        text-align: right;\n",
       "    }\n",
       "</style>\n",
       "<table border=\"1\" class=\"dataframe\">\n",
       "  <thead>\n",
       "    <tr>\n",
       "      <th></th>\n",
       "      <th>model</th>\n",
       "      <th colspan=\"8\" halign=\"left\">PI</th>\n",
       "      <th colspan=\"8\" halign=\"left\">QRILC</th>\n",
       "    </tr>\n",
       "    <tr>\n",
       "      <th></th>\n",
       "      <th>var</th>\n",
       "      <th>SS</th>\n",
       "      <th>DF</th>\n",
       "      <th>F</th>\n",
       "      <th>p-unc</th>\n",
       "      <th>np2</th>\n",
       "      <th>-Log10 pvalue</th>\n",
       "      <th>qvalue</th>\n",
       "      <th>rejected</th>\n",
       "      <th>SS</th>\n",
       "      <th>DF</th>\n",
       "      <th>F</th>\n",
       "      <th>p-unc</th>\n",
       "      <th>np2</th>\n",
       "      <th>-Log10 pvalue</th>\n",
       "      <th>qvalue</th>\n",
       "      <th>rejected</th>\n",
       "    </tr>\n",
       "    <tr>\n",
       "      <th>protein groups</th>\n",
       "      <th>Source</th>\n",
       "      <th></th>\n",
       "      <th></th>\n",
       "      <th></th>\n",
       "      <th></th>\n",
       "      <th></th>\n",
       "      <th></th>\n",
       "      <th></th>\n",
       "      <th></th>\n",
       "      <th></th>\n",
       "      <th></th>\n",
       "      <th></th>\n",
       "      <th></th>\n",
       "      <th></th>\n",
       "      <th></th>\n",
       "      <th></th>\n",
       "      <th></th>\n",
       "    </tr>\n",
       "  </thead>\n",
       "  <tbody>\n",
       "    <tr>\n",
       "      <th>A0A024QZX5;A0A087X1N8;P35237</th>\n",
       "      <th>AD</th>\n",
       "      <td>0.401</td>\n",
       "      <td>1</td>\n",
       "      <td>0.728</td>\n",
       "      <td>0.395</td>\n",
       "      <td>0.004</td>\n",
       "      <td>0.404</td>\n",
       "      <td>0.554</td>\n",
       "      <td>False</td>\n",
       "      <td>0.752</td>\n",
       "      <td>1</td>\n",
       "      <td>4.896</td>\n",
       "      <td>0.028</td>\n",
       "      <td>0.025</td>\n",
       "      <td>1.551</td>\n",
       "      <td>0.072</td>\n",
       "      <td>False</td>\n",
       "    </tr>\n",
       "    <tr>\n",
       "      <th>A0A024R0T9;K7ER74;P02655</th>\n",
       "      <th>AD</th>\n",
       "      <td>3.139</td>\n",
       "      <td>1</td>\n",
       "      <td>3.828</td>\n",
       "      <td>0.052</td>\n",
       "      <td>0.020</td>\n",
       "      <td>1.285</td>\n",
       "      <td>0.126</td>\n",
       "      <td>False</td>\n",
       "      <td>2.911</td>\n",
       "      <td>1</td>\n",
       "      <td>4.584</td>\n",
       "      <td>0.034</td>\n",
       "      <td>0.023</td>\n",
       "      <td>1.474</td>\n",
       "      <td>0.083</td>\n",
       "      <td>False</td>\n",
       "    </tr>\n",
       "    <tr>\n",
       "      <th>A0A024R3W6;A0A024R412;O60462;O60462-2;O60462-3;O60462-4;O60462-5;Q7LBX6;X5D2Q8</th>\n",
       "      <th>AD</th>\n",
       "      <td>2.573</td>\n",
       "      <td>1</td>\n",
       "      <td>2.864</td>\n",
       "      <td>0.092</td>\n",
       "      <td>0.015</td>\n",
       "      <td>1.035</td>\n",
       "      <td>0.196</td>\n",
       "      <td>False</td>\n",
       "      <td>0.364</td>\n",
       "      <td>1</td>\n",
       "      <td>1.640</td>\n",
       "      <td>0.202</td>\n",
       "      <td>0.009</td>\n",
       "      <td>0.695</td>\n",
       "      <td>0.336</td>\n",
       "      <td>False</td>\n",
       "    </tr>\n",
       "    <tr>\n",
       "      <th>A0A024R644;A0A0A0MRU5;A0A1B0GWI2;O75503</th>\n",
       "      <th>AD</th>\n",
       "      <td>0.081</td>\n",
       "      <td>1</td>\n",
       "      <td>0.397</td>\n",
       "      <td>0.530</td>\n",
       "      <td>0.002</td>\n",
       "      <td>0.276</td>\n",
       "      <td>0.671</td>\n",
       "      <td>False</td>\n",
       "      <td>0.143</td>\n",
       "      <td>1</td>\n",
       "      <td>0.979</td>\n",
       "      <td>0.324</td>\n",
       "      <td>0.005</td>\n",
       "      <td>0.490</td>\n",
       "      <td>0.475</td>\n",
       "      <td>False</td>\n",
       "    </tr>\n",
       "    <tr>\n",
       "      <th>A0A075B6H7</th>\n",
       "      <th>AD</th>\n",
       "      <td>3.858</td>\n",
       "      <td>1</td>\n",
       "      <td>0.953</td>\n",
       "      <td>0.330</td>\n",
       "      <td>0.005</td>\n",
       "      <td>0.481</td>\n",
       "      <td>0.492</td>\n",
       "      <td>False</td>\n",
       "      <td>8.568</td>\n",
       "      <td>1</td>\n",
       "      <td>1.884</td>\n",
       "      <td>0.171</td>\n",
       "      <td>0.010</td>\n",
       "      <td>0.766</td>\n",
       "      <td>0.297</td>\n",
       "      <td>False</td>\n",
       "    </tr>\n",
       "    <tr>\n",
       "      <th>...</th>\n",
       "      <th>...</th>\n",
       "      <td>...</td>\n",
       "      <td>...</td>\n",
       "      <td>...</td>\n",
       "      <td>...</td>\n",
       "      <td>...</td>\n",
       "      <td>...</td>\n",
       "      <td>...</td>\n",
       "      <td>...</td>\n",
       "      <td>...</td>\n",
       "      <td>...</td>\n",
       "      <td>...</td>\n",
       "      <td>...</td>\n",
       "      <td>...</td>\n",
       "      <td>...</td>\n",
       "      <td>...</td>\n",
       "      <td>...</td>\n",
       "    </tr>\n",
       "    <tr>\n",
       "      <th>Q9Y6R7</th>\n",
       "      <th>AD</th>\n",
       "      <td>0.675</td>\n",
       "      <td>1</td>\n",
       "      <td>1.850</td>\n",
       "      <td>0.175</td>\n",
       "      <td>0.010</td>\n",
       "      <td>0.756</td>\n",
       "      <td>0.314</td>\n",
       "      <td>False</td>\n",
       "      <td>0.675</td>\n",
       "      <td>1</td>\n",
       "      <td>1.850</td>\n",
       "      <td>0.175</td>\n",
       "      <td>0.010</td>\n",
       "      <td>0.756</td>\n",
       "      <td>0.301</td>\n",
       "      <td>False</td>\n",
       "    </tr>\n",
       "    <tr>\n",
       "      <th>Q9Y6X5</th>\n",
       "      <th>AD</th>\n",
       "      <td>3.162</td>\n",
       "      <td>1</td>\n",
       "      <td>3.505</td>\n",
       "      <td>0.063</td>\n",
       "      <td>0.018</td>\n",
       "      <td>1.203</td>\n",
       "      <td>0.146</td>\n",
       "      <td>False</td>\n",
       "      <td>2.241</td>\n",
       "      <td>1</td>\n",
       "      <td>4.284</td>\n",
       "      <td>0.040</td>\n",
       "      <td>0.022</td>\n",
       "      <td>1.400</td>\n",
       "      <td>0.095</td>\n",
       "      <td>False</td>\n",
       "    </tr>\n",
       "    <tr>\n",
       "      <th>Q9Y6Y8;Q9Y6Y8-2</th>\n",
       "      <th>AD</th>\n",
       "      <td>0.973</td>\n",
       "      <td>1</td>\n",
       "      <td>3.028</td>\n",
       "      <td>0.083</td>\n",
       "      <td>0.016</td>\n",
       "      <td>1.079</td>\n",
       "      <td>0.182</td>\n",
       "      <td>False</td>\n",
       "      <td>0.973</td>\n",
       "      <td>1</td>\n",
       "      <td>3.028</td>\n",
       "      <td>0.083</td>\n",
       "      <td>0.016</td>\n",
       "      <td>1.079</td>\n",
       "      <td>0.170</td>\n",
       "      <td>False</td>\n",
       "    </tr>\n",
       "    <tr>\n",
       "      <th>Q9Y6Y9</th>\n",
       "      <th>AD</th>\n",
       "      <td>1.101</td>\n",
       "      <td>1</td>\n",
       "      <td>1.407</td>\n",
       "      <td>0.237</td>\n",
       "      <td>0.007</td>\n",
       "      <td>0.625</td>\n",
       "      <td>0.389</td>\n",
       "      <td>False</td>\n",
       "      <td>2.202</td>\n",
       "      <td>1</td>\n",
       "      <td>0.680</td>\n",
       "      <td>0.411</td>\n",
       "      <td>0.004</td>\n",
       "      <td>0.386</td>\n",
       "      <td>0.558</td>\n",
       "      <td>False</td>\n",
       "    </tr>\n",
       "    <tr>\n",
       "      <th>S4R3U6</th>\n",
       "      <th>AD</th>\n",
       "      <td>0.103</td>\n",
       "      <td>1</td>\n",
       "      <td>0.104</td>\n",
       "      <td>0.747</td>\n",
       "      <td>0.001</td>\n",
       "      <td>0.126</td>\n",
       "      <td>0.840</td>\n",
       "      <td>False</td>\n",
       "      <td>3.278</td>\n",
       "      <td>1</td>\n",
       "      <td>1.729</td>\n",
       "      <td>0.190</td>\n",
       "      <td>0.009</td>\n",
       "      <td>0.721</td>\n",
       "      <td>0.321</td>\n",
       "      <td>False</td>\n",
       "    </tr>\n",
       "  </tbody>\n",
       "</table>\n",
       "<p>1421 rows × 16 columns</p>\n",
       "</div>"
      ],
      "text/plain": [
       "model                                                        PI           \\\n",
       "var                                                          SS DF     F   \n",
       "protein groups                                     Source                  \n",
       "A0A024QZX5;A0A087X1N8;P35237                       AD     0.401  1 0.728   \n",
       "A0A024R0T9;K7ER74;P02655                           AD     3.139  1 3.828   \n",
       "A0A024R3W6;A0A024R412;O60462;O60462-2;O60462-3;... AD     2.573  1 2.864   \n",
       "A0A024R644;A0A0A0MRU5;A0A1B0GWI2;O75503            AD     0.081  1 0.397   \n",
       "A0A075B6H7                                         AD     3.858  1 0.953   \n",
       "...                                                         ... ..   ...   \n",
       "Q9Y6R7                                             AD     0.675  1 1.850   \n",
       "Q9Y6X5                                             AD     3.162  1 3.505   \n",
       "Q9Y6Y8;Q9Y6Y8-2                                    AD     0.973  1 3.028   \n",
       "Q9Y6Y9                                             AD     1.101  1 1.407   \n",
       "S4R3U6                                             AD     0.103  1 0.104   \n",
       "\n",
       "model                                                                  \\\n",
       "var                                                       p-unc   np2   \n",
       "protein groups                                     Source               \n",
       "A0A024QZX5;A0A087X1N8;P35237                       AD     0.395 0.004   \n",
       "A0A024R0T9;K7ER74;P02655                           AD     0.052 0.020   \n",
       "A0A024R3W6;A0A024R412;O60462;O60462-2;O60462-3;... AD     0.092 0.015   \n",
       "A0A024R644;A0A0A0MRU5;A0A1B0GWI2;O75503            AD     0.530 0.002   \n",
       "A0A075B6H7                                         AD     0.330 0.005   \n",
       "...                                                         ...   ...   \n",
       "Q9Y6R7                                             AD     0.175 0.010   \n",
       "Q9Y6X5                                             AD     0.063 0.018   \n",
       "Q9Y6Y8;Q9Y6Y8-2                                    AD     0.083 0.016   \n",
       "Q9Y6Y9                                             AD     0.237 0.007   \n",
       "S4R3U6                                             AD     0.747 0.001   \n",
       "\n",
       "model                                                                    \\\n",
       "var                                                       -Log10 pvalue   \n",
       "protein groups                                     Source                 \n",
       "A0A024QZX5;A0A087X1N8;P35237                       AD             0.404   \n",
       "A0A024R0T9;K7ER74;P02655                           AD             1.285   \n",
       "A0A024R3W6;A0A024R412;O60462;O60462-2;O60462-3;... AD             1.035   \n",
       "A0A024R644;A0A0A0MRU5;A0A1B0GWI2;O75503            AD             0.276   \n",
       "A0A075B6H7                                         AD             0.481   \n",
       "...                                                                 ...   \n",
       "Q9Y6R7                                             AD             0.756   \n",
       "Q9Y6X5                                             AD             1.203   \n",
       "Q9Y6Y8;Q9Y6Y8-2                                    AD             1.079   \n",
       "Q9Y6Y9                                             AD             0.625   \n",
       "S4R3U6                                             AD             0.126   \n",
       "\n",
       "model                                                                      \\\n",
       "var                                                       qvalue rejected   \n",
       "protein groups                                     Source                   \n",
       "A0A024QZX5;A0A087X1N8;P35237                       AD      0.554    False   \n",
       "A0A024R0T9;K7ER74;P02655                           AD      0.126    False   \n",
       "A0A024R3W6;A0A024R412;O60462;O60462-2;O60462-3;... AD      0.196    False   \n",
       "A0A024R644;A0A0A0MRU5;A0A1B0GWI2;O75503            AD      0.671    False   \n",
       "A0A075B6H7                                         AD      0.492    False   \n",
       "...                                                          ...      ...   \n",
       "Q9Y6R7                                             AD      0.314    False   \n",
       "Q9Y6X5                                             AD      0.146    False   \n",
       "Q9Y6Y8;Q9Y6Y8-2                                    AD      0.182    False   \n",
       "Q9Y6Y9                                             AD      0.389    False   \n",
       "S4R3U6                                             AD      0.840    False   \n",
       "\n",
       "model                                                     QRILC           \\\n",
       "var                                                          SS DF     F   \n",
       "protein groups                                     Source                  \n",
       "A0A024QZX5;A0A087X1N8;P35237                       AD     0.752  1 4.896   \n",
       "A0A024R0T9;K7ER74;P02655                           AD     2.911  1 4.584   \n",
       "A0A024R3W6;A0A024R412;O60462;O60462-2;O60462-3;... AD     0.364  1 1.640   \n",
       "A0A024R644;A0A0A0MRU5;A0A1B0GWI2;O75503            AD     0.143  1 0.979   \n",
       "A0A075B6H7                                         AD     8.568  1 1.884   \n",
       "...                                                         ... ..   ...   \n",
       "Q9Y6R7                                             AD     0.675  1 1.850   \n",
       "Q9Y6X5                                             AD     2.241  1 4.284   \n",
       "Q9Y6Y8;Q9Y6Y8-2                                    AD     0.973  1 3.028   \n",
       "Q9Y6Y9                                             AD     2.202  1 0.680   \n",
       "S4R3U6                                             AD     3.278  1 1.729   \n",
       "\n",
       "model                                                                  \\\n",
       "var                                                       p-unc   np2   \n",
       "protein groups                                     Source               \n",
       "A0A024QZX5;A0A087X1N8;P35237                       AD     0.028 0.025   \n",
       "A0A024R0T9;K7ER74;P02655                           AD     0.034 0.023   \n",
       "A0A024R3W6;A0A024R412;O60462;O60462-2;O60462-3;... AD     0.202 0.009   \n",
       "A0A024R644;A0A0A0MRU5;A0A1B0GWI2;O75503            AD     0.324 0.005   \n",
       "A0A075B6H7                                         AD     0.171 0.010   \n",
       "...                                                         ...   ...   \n",
       "Q9Y6R7                                             AD     0.175 0.010   \n",
       "Q9Y6X5                                             AD     0.040 0.022   \n",
       "Q9Y6Y8;Q9Y6Y8-2                                    AD     0.083 0.016   \n",
       "Q9Y6Y9                                             AD     0.411 0.004   \n",
       "S4R3U6                                             AD     0.190 0.009   \n",
       "\n",
       "model                                                                    \\\n",
       "var                                                       -Log10 pvalue   \n",
       "protein groups                                     Source                 \n",
       "A0A024QZX5;A0A087X1N8;P35237                       AD             1.551   \n",
       "A0A024R0T9;K7ER74;P02655                           AD             1.474   \n",
       "A0A024R3W6;A0A024R412;O60462;O60462-2;O60462-3;... AD             0.695   \n",
       "A0A024R644;A0A0A0MRU5;A0A1B0GWI2;O75503            AD             0.490   \n",
       "A0A075B6H7                                         AD             0.766   \n",
       "...                                                                 ...   \n",
       "Q9Y6R7                                             AD             0.756   \n",
       "Q9Y6X5                                             AD             1.400   \n",
       "Q9Y6Y8;Q9Y6Y8-2                                    AD             1.079   \n",
       "Q9Y6Y9                                             AD             0.386   \n",
       "S4R3U6                                             AD             0.721   \n",
       "\n",
       "model                                                                      \n",
       "var                                                       qvalue rejected  \n",
       "protein groups                                     Source                  \n",
       "A0A024QZX5;A0A087X1N8;P35237                       AD      0.072    False  \n",
       "A0A024R0T9;K7ER74;P02655                           AD      0.083    False  \n",
       "A0A024R3W6;A0A024R412;O60462;O60462-2;O60462-3;... AD      0.336    False  \n",
       "A0A024R644;A0A0A0MRU5;A0A1B0GWI2;O75503            AD      0.475    False  \n",
       "A0A075B6H7                                         AD      0.297    False  \n",
       "...                                                          ...      ...  \n",
       "Q9Y6R7                                             AD      0.301    False  \n",
       "Q9Y6X5                                             AD      0.095    False  \n",
       "Q9Y6Y8;Q9Y6Y8-2                                    AD      0.170    False  \n",
       "Q9Y6Y9                                             AD      0.558    False  \n",
       "S4R3U6                                             AD      0.321    False  \n",
       "\n",
       "[1421 rows x 16 columns]"
      ]
     },
     "execution_count": 16,
     "metadata": {},
     "output_type": "execute_result"
    }
   ],
   "source": [
    "scores = scores.loc[pd.IndexSlice[:, args.target], :]\n",
    "scores.to_excel(writer, 'scores', **writer_args)\n",
    "scores"
   ]
  },
  {
   "cell_type": "code",
   "execution_count": 17,
   "id": "0e45e80a-32d8-4c6c-b0a4-5ce8b7f9e121",
   "metadata": {
    "execution": {
     "iopub.execute_input": "2024-05-27T15:51:09.176912Z",
     "iopub.status.busy": "2024-05-27T15:51:09.176123Z",
     "iopub.status.idle": "2024-05-27T15:51:09.322759Z",
     "shell.execute_reply": "2024-05-27T15:51:09.321972Z"
    },
    "papermill": {
     "duration": 0.189486,
     "end_time": "2024-05-27T15:51:09.324542",
     "exception": false,
     "start_time": "2024-05-27T15:51:09.135056",
     "status": "completed"
    },
    "tags": []
   },
   "outputs": [
    {
     "data": {
      "text/html": [
       "<div>\n",
       "<style scoped>\n",
       "    .dataframe tbody tr th:only-of-type {\n",
       "        vertical-align: middle;\n",
       "    }\n",
       "\n",
       "    .dataframe tbody tr th {\n",
       "        vertical-align: top;\n",
       "    }\n",
       "\n",
       "    .dataframe thead tr th {\n",
       "        text-align: left;\n",
       "    }\n",
       "</style>\n",
       "<table border=\"1\" class=\"dataframe\">\n",
       "  <thead>\n",
       "    <tr>\n",
       "      <th>model</th>\n",
       "      <th colspan=\"7\" halign=\"left\">PI</th>\n",
       "      <th colspan=\"7\" halign=\"left\">QRILC</th>\n",
       "    </tr>\n",
       "    <tr>\n",
       "      <th>var</th>\n",
       "      <th>SS</th>\n",
       "      <th>DF</th>\n",
       "      <th>F</th>\n",
       "      <th>p-unc</th>\n",
       "      <th>np2</th>\n",
       "      <th>-Log10 pvalue</th>\n",
       "      <th>qvalue</th>\n",
       "      <th>SS</th>\n",
       "      <th>DF</th>\n",
       "      <th>F</th>\n",
       "      <th>p-unc</th>\n",
       "      <th>np2</th>\n",
       "      <th>-Log10 pvalue</th>\n",
       "      <th>qvalue</th>\n",
       "    </tr>\n",
       "  </thead>\n",
       "  <tbody>\n",
       "    <tr>\n",
       "      <th>count</th>\n",
       "      <td>1,421.000</td>\n",
       "      <td>1,421.000</td>\n",
       "      <td>1,421.000</td>\n",
       "      <td>1,421.000</td>\n",
       "      <td>1,421.000</td>\n",
       "      <td>1,421.000</td>\n",
       "      <td>1,421.000</td>\n",
       "      <td>1,421.000</td>\n",
       "      <td>1,421.000</td>\n",
       "      <td>1,421.000</td>\n",
       "      <td>1,421.000</td>\n",
       "      <td>1,421.000</td>\n",
       "      <td>1,421.000</td>\n",
       "      <td>1,421.000</td>\n",
       "    </tr>\n",
       "    <tr>\n",
       "      <th>mean</th>\n",
       "      <td>3.635</td>\n",
       "      <td>1.000</td>\n",
       "      <td>4.828</td>\n",
       "      <td>0.248</td>\n",
       "      <td>0.023</td>\n",
       "      <td>1.400</td>\n",
       "      <td>0.331</td>\n",
       "      <td>3.057</td>\n",
       "      <td>1.000</td>\n",
       "      <td>5.233</td>\n",
       "      <td>0.248</td>\n",
       "      <td>0.025</td>\n",
       "      <td>1.486</td>\n",
       "      <td>0.321</td>\n",
       "    </tr>\n",
       "    <tr>\n",
       "      <th>std</th>\n",
       "      <td>6.200</td>\n",
       "      <td>0.000</td>\n",
       "      <td>7.469</td>\n",
       "      <td>0.288</td>\n",
       "      <td>0.032</td>\n",
       "      <td>1.612</td>\n",
       "      <td>0.312</td>\n",
       "      <td>6.941</td>\n",
       "      <td>0.000</td>\n",
       "      <td>8.300</td>\n",
       "      <td>0.287</td>\n",
       "      <td>0.035</td>\n",
       "      <td>1.765</td>\n",
       "      <td>0.313</td>\n",
       "    </tr>\n",
       "    <tr>\n",
       "      <th>min</th>\n",
       "      <td>0.000</td>\n",
       "      <td>1.000</td>\n",
       "      <td>0.000</td>\n",
       "      <td>0.000</td>\n",
       "      <td>0.000</td>\n",
       "      <td>0.001</td>\n",
       "      <td>0.000</td>\n",
       "      <td>0.000</td>\n",
       "      <td>1.000</td>\n",
       "      <td>0.000</td>\n",
       "      <td>0.000</td>\n",
       "      <td>0.000</td>\n",
       "      <td>0.000</td>\n",
       "      <td>0.000</td>\n",
       "    </tr>\n",
       "    <tr>\n",
       "      <th>25%</th>\n",
       "      <td>0.407</td>\n",
       "      <td>1.000</td>\n",
       "      <td>0.648</td>\n",
       "      <td>0.012</td>\n",
       "      <td>0.003</td>\n",
       "      <td>0.375</td>\n",
       "      <td>0.040</td>\n",
       "      <td>0.259</td>\n",
       "      <td>1.000</td>\n",
       "      <td>0.592</td>\n",
       "      <td>0.010</td>\n",
       "      <td>0.003</td>\n",
       "      <td>0.354</td>\n",
       "      <td>0.031</td>\n",
       "    </tr>\n",
       "    <tr>\n",
       "      <th>50%</th>\n",
       "      <td>1.531</td>\n",
       "      <td>1.000</td>\n",
       "      <td>2.410</td>\n",
       "      <td>0.122</td>\n",
       "      <td>0.012</td>\n",
       "      <td>0.913</td>\n",
       "      <td>0.243</td>\n",
       "      <td>1.095</td>\n",
       "      <td>1.000</td>\n",
       "      <td>2.601</td>\n",
       "      <td>0.108</td>\n",
       "      <td>0.013</td>\n",
       "      <td>0.965</td>\n",
       "      <td>0.209</td>\n",
       "    </tr>\n",
       "    <tr>\n",
       "      <th>75%</th>\n",
       "      <td>4.061</td>\n",
       "      <td>1.000</td>\n",
       "      <td>6.378</td>\n",
       "      <td>0.422</td>\n",
       "      <td>0.032</td>\n",
       "      <td>1.908</td>\n",
       "      <td>0.580</td>\n",
       "      <td>3.060</td>\n",
       "      <td>1.000</td>\n",
       "      <td>6.768</td>\n",
       "      <td>0.443</td>\n",
       "      <td>0.034</td>\n",
       "      <td>2.000</td>\n",
       "      <td>0.585</td>\n",
       "    </tr>\n",
       "    <tr>\n",
       "      <th>max</th>\n",
       "      <td>64.644</td>\n",
       "      <td>1.000</td>\n",
       "      <td>128.571</td>\n",
       "      <td>0.999</td>\n",
       "      <td>0.402</td>\n",
       "      <td>22.392</td>\n",
       "      <td>0.999</td>\n",
       "      <td>134.615</td>\n",
       "      <td>1.000</td>\n",
       "      <td>140.789</td>\n",
       "      <td>1.000</td>\n",
       "      <td>0.424</td>\n",
       "      <td>23.960</td>\n",
       "      <td>1.000</td>\n",
       "    </tr>\n",
       "  </tbody>\n",
       "</table>\n",
       "</div>"
      ],
      "text/plain": [
       "model        PI                                                        \\\n",
       "var          SS        DF         F     p-unc       np2 -Log10 pvalue   \n",
       "count 1,421.000 1,421.000 1,421.000 1,421.000 1,421.000     1,421.000   \n",
       "mean      3.635     1.000     4.828     0.248     0.023         1.400   \n",
       "std       6.200     0.000     7.469     0.288     0.032         1.612   \n",
       "min       0.000     1.000     0.000     0.000     0.000         0.001   \n",
       "25%       0.407     1.000     0.648     0.012     0.003         0.375   \n",
       "50%       1.531     1.000     2.410     0.122     0.012         0.913   \n",
       "75%       4.061     1.000     6.378     0.422     0.032         1.908   \n",
       "max      64.644     1.000   128.571     0.999     0.402        22.392   \n",
       "\n",
       "model               QRILC                                          \\\n",
       "var      qvalue        SS        DF         F     p-unc       np2   \n",
       "count 1,421.000 1,421.000 1,421.000 1,421.000 1,421.000 1,421.000   \n",
       "mean      0.331     3.057     1.000     5.233     0.248     0.025   \n",
       "std       0.312     6.941     0.000     8.300     0.287     0.035   \n",
       "min       0.000     0.000     1.000     0.000     0.000     0.000   \n",
       "25%       0.040     0.259     1.000     0.592     0.010     0.003   \n",
       "50%       0.243     1.095     1.000     2.601     0.108     0.013   \n",
       "75%       0.580     3.060     1.000     6.768     0.443     0.034   \n",
       "max       0.999   134.615     1.000   140.789     1.000     0.424   \n",
       "\n",
       "model                          \n",
       "var   -Log10 pvalue    qvalue  \n",
       "count     1,421.000 1,421.000  \n",
       "mean          1.486     0.321  \n",
       "std           1.765     0.313  \n",
       "min           0.000     0.000  \n",
       "25%           0.354     0.031  \n",
       "50%           0.965     0.209  \n",
       "75%           2.000     0.585  \n",
       "max          23.960     1.000  "
      ]
     },
     "execution_count": 17,
     "metadata": {},
     "output_type": "execute_result"
    }
   ],
   "source": [
    "scores.describe()"
   ]
  },
  {
   "cell_type": "code",
   "execution_count": 18,
   "id": "53bd5597-221c-4d54-abf2-82956db42594",
   "metadata": {
    "execution": {
     "iopub.execute_input": "2024-05-27T15:51:09.388369Z",
     "iopub.status.busy": "2024-05-27T15:51:09.387969Z",
     "iopub.status.idle": "2024-05-27T15:51:09.418966Z",
     "shell.execute_reply": "2024-05-27T15:51:09.418175Z"
    },
    "lines_to_next_cell": 2,
    "papermill": {
     "duration": 0.059656,
     "end_time": "2024-05-27T15:51:09.420467",
     "exception": false,
     "start_time": "2024-05-27T15:51:09.360811",
     "status": "completed"
    },
    "tags": []
   },
   "outputs": [
    {
     "data": {
      "text/html": [
       "<div>\n",
       "<style scoped>\n",
       "    .dataframe tbody tr th:only-of-type {\n",
       "        vertical-align: middle;\n",
       "    }\n",
       "\n",
       "    .dataframe tbody tr th {\n",
       "        vertical-align: top;\n",
       "    }\n",
       "\n",
       "    .dataframe thead tr th {\n",
       "        text-align: left;\n",
       "    }\n",
       "</style>\n",
       "<table border=\"1\" class=\"dataframe\">\n",
       "  <thead>\n",
       "    <tr>\n",
       "      <th>model</th>\n",
       "      <th>PI</th>\n",
       "      <th>QRILC</th>\n",
       "    </tr>\n",
       "    <tr>\n",
       "      <th>var</th>\n",
       "      <th>rejected</th>\n",
       "      <th>rejected</th>\n",
       "    </tr>\n",
       "  </thead>\n",
       "  <tbody>\n",
       "    <tr>\n",
       "      <th>count</th>\n",
       "      <td>1421</td>\n",
       "      <td>1421</td>\n",
       "    </tr>\n",
       "    <tr>\n",
       "      <th>unique</th>\n",
       "      <td>2</td>\n",
       "      <td>2</td>\n",
       "    </tr>\n",
       "    <tr>\n",
       "      <th>top</th>\n",
       "      <td>False</td>\n",
       "      <td>False</td>\n",
       "    </tr>\n",
       "    <tr>\n",
       "      <th>freq</th>\n",
       "      <td>1036</td>\n",
       "      <td>999</td>\n",
       "    </tr>\n",
       "  </tbody>\n",
       "</table>\n",
       "</div>"
      ],
      "text/plain": [
       "model        PI    QRILC\n",
       "var    rejected rejected\n",
       "count      1421     1421\n",
       "unique        2        2\n",
       "top       False    False\n",
       "freq       1036      999"
      ]
     },
     "execution_count": 18,
     "metadata": {},
     "output_type": "execute_result"
    }
   ],
   "source": [
    "scores.describe(include=['bool', 'O'])"
   ]
  },
  {
   "cell_type": "markdown",
   "id": "bef83742-05e5-473b-892e-dd286cb3a31f",
   "metadata": {
    "papermill": {
     "duration": 0.039866,
     "end_time": "2024-05-27T15:51:09.483020",
     "exception": false,
     "start_time": "2024-05-27T15:51:09.443154",
     "status": "completed"
    },
    "tags": []
   },
   "source": [
    "## Load frequencies of observed features"
   ]
  },
  {
   "cell_type": "code",
   "execution_count": 19,
   "id": "2a926ba1-0f3b-4089-a349-b6d66128cf37",
   "metadata": {
    "execution": {
     "iopub.execute_input": "2024-05-27T15:51:09.530889Z",
     "iopub.status.busy": "2024-05-27T15:51:09.530036Z",
     "iopub.status.idle": "2024-05-27T15:51:09.555620Z",
     "shell.execute_reply": "2024-05-27T15:51:09.554878Z"
    },
    "papermill": {
     "duration": 0.045222,
     "end_time": "2024-05-27T15:51:09.557518",
     "exception": false,
     "start_time": "2024-05-27T15:51:09.512296",
     "status": "completed"
    },
    "tags": []
   },
   "outputs": [
    {
     "data": {
      "text/html": [
       "<div>\n",
       "<style scoped>\n",
       "    .dataframe tbody tr th:only-of-type {\n",
       "        vertical-align: middle;\n",
       "    }\n",
       "\n",
       "    .dataframe tbody tr th {\n",
       "        vertical-align: top;\n",
       "    }\n",
       "\n",
       "    .dataframe thead tr th {\n",
       "        text-align: left;\n",
       "    }\n",
       "\n",
       "    .dataframe thead tr:last-of-type th {\n",
       "        text-align: right;\n",
       "    }\n",
       "</style>\n",
       "<table border=\"1\" class=\"dataframe\">\n",
       "  <thead>\n",
       "    <tr>\n",
       "      <th></th>\n",
       "      <th>data</th>\n",
       "    </tr>\n",
       "    <tr>\n",
       "      <th></th>\n",
       "      <th>frequency</th>\n",
       "    </tr>\n",
       "    <tr>\n",
       "      <th>protein groups</th>\n",
       "      <th></th>\n",
       "    </tr>\n",
       "  </thead>\n",
       "  <tbody>\n",
       "    <tr>\n",
       "      <th>A0A024QZX5;A0A087X1N8;P35237</th>\n",
       "      <td>186</td>\n",
       "    </tr>\n",
       "    <tr>\n",
       "      <th>A0A024R0T9;K7ER74;P02655</th>\n",
       "      <td>195</td>\n",
       "    </tr>\n",
       "    <tr>\n",
       "      <th>A0A024R3W6;A0A024R412;O60462;O60462-2;O60462-3;O60462-4;O60462-5;Q7LBX6;X5D2Q8</th>\n",
       "      <td>174</td>\n",
       "    </tr>\n",
       "    <tr>\n",
       "      <th>A0A024R644;A0A0A0MRU5;A0A1B0GWI2;O75503</th>\n",
       "      <td>196</td>\n",
       "    </tr>\n",
       "    <tr>\n",
       "      <th>A0A075B6H7</th>\n",
       "      <td>91</td>\n",
       "    </tr>\n",
       "    <tr>\n",
       "      <th>...</th>\n",
       "      <td>...</td>\n",
       "    </tr>\n",
       "    <tr>\n",
       "      <th>Q9Y6R7</th>\n",
       "      <td>197</td>\n",
       "    </tr>\n",
       "    <tr>\n",
       "      <th>Q9Y6X5</th>\n",
       "      <td>173</td>\n",
       "    </tr>\n",
       "    <tr>\n",
       "      <th>Q9Y6Y8;Q9Y6Y8-2</th>\n",
       "      <td>197</td>\n",
       "    </tr>\n",
       "    <tr>\n",
       "      <th>Q9Y6Y9</th>\n",
       "      <td>119</td>\n",
       "    </tr>\n",
       "    <tr>\n",
       "      <th>S4R3U6</th>\n",
       "      <td>126</td>\n",
       "    </tr>\n",
       "  </tbody>\n",
       "</table>\n",
       "<p>1421 rows × 1 columns</p>\n",
       "</div>"
      ],
      "text/plain": [
       "                                                        data\n",
       "                                                   frequency\n",
       "protein groups                                              \n",
       "A0A024QZX5;A0A087X1N8;P35237                             186\n",
       "A0A024R0T9;K7ER74;P02655                                 195\n",
       "A0A024R3W6;A0A024R412;O60462;O60462-2;O60462-3;...       174\n",
       "A0A024R644;A0A0A0MRU5;A0A1B0GWI2;O75503                  196\n",
       "A0A075B6H7                                                91\n",
       "...                                                      ...\n",
       "Q9Y6R7                                                   197\n",
       "Q9Y6X5                                                   173\n",
       "Q9Y6Y8;Q9Y6Y8-2                                          197\n",
       "Q9Y6Y9                                                   119\n",
       "S4R3U6                                                   126\n",
       "\n",
       "[1421 rows x 1 columns]"
      ]
     },
     "execution_count": 19,
     "metadata": {},
     "output_type": "execute_result"
    }
   ],
   "source": [
    "freq_feat = pd.read_csv(files_in['freq_features_observed.csv'], index_col=0)\n",
    "freq_feat.columns = pd.MultiIndex.from_tuples([('data', 'frequency'),])\n",
    "freq_feat"
   ]
  },
  {
   "cell_type": "markdown",
   "id": "408eacfe-770f-42ff-9057-2a98274e1ae3",
   "metadata": {
    "papermill": {
     "duration": 0.048812,
     "end_time": "2024-05-27T15:51:09.677640",
     "exception": false,
     "start_time": "2024-05-27T15:51:09.628828",
     "status": "completed"
    },
    "tags": []
   },
   "source": [
    "## Compare shared features"
   ]
  },
  {
   "cell_type": "code",
   "execution_count": 20,
   "id": "5b2dfb0f-195b-4044-a228-2d784ea2a458",
   "metadata": {
    "execution": {
     "iopub.execute_input": "2024-05-27T15:51:09.765494Z",
     "iopub.status.busy": "2024-05-27T15:51:09.765126Z",
     "iopub.status.idle": "2024-05-27T15:51:09.840276Z",
     "shell.execute_reply": "2024-05-27T15:51:09.839442Z"
    },
    "papermill": {
     "duration": 0.131374,
     "end_time": "2024-05-27T15:51:09.842068",
     "exception": false,
     "start_time": "2024-05-27T15:51:09.710694",
     "status": "completed"
    },
    "tags": []
   },
   "outputs": [
    {
     "data": {
      "text/html": [
       "<div>\n",
       "<style scoped>\n",
       "    .dataframe tbody tr th:only-of-type {\n",
       "        vertical-align: middle;\n",
       "    }\n",
       "\n",
       "    .dataframe tbody tr th {\n",
       "        vertical-align: top;\n",
       "    }\n",
       "\n",
       "    .dataframe thead tr th {\n",
       "        text-align: left;\n",
       "    }\n",
       "\n",
       "    .dataframe thead tr:last-of-type th {\n",
       "        text-align: right;\n",
       "    }\n",
       "</style>\n",
       "<table border=\"1\" class=\"dataframe\">\n",
       "  <thead>\n",
       "    <tr>\n",
       "      <th></th>\n",
       "      <th colspan=\"8\" halign=\"left\">PI</th>\n",
       "      <th colspan=\"8\" halign=\"left\">QRILC</th>\n",
       "      <th>data</th>\n",
       "    </tr>\n",
       "    <tr>\n",
       "      <th></th>\n",
       "      <th>SS</th>\n",
       "      <th>DF</th>\n",
       "      <th>F</th>\n",
       "      <th>p-unc</th>\n",
       "      <th>np2</th>\n",
       "      <th>-Log10 pvalue</th>\n",
       "      <th>qvalue</th>\n",
       "      <th>rejected</th>\n",
       "      <th>SS</th>\n",
       "      <th>DF</th>\n",
       "      <th>F</th>\n",
       "      <th>p-unc</th>\n",
       "      <th>np2</th>\n",
       "      <th>-Log10 pvalue</th>\n",
       "      <th>qvalue</th>\n",
       "      <th>rejected</th>\n",
       "      <th>frequency</th>\n",
       "    </tr>\n",
       "    <tr>\n",
       "      <th>protein groups</th>\n",
       "      <th></th>\n",
       "      <th></th>\n",
       "      <th></th>\n",
       "      <th></th>\n",
       "      <th></th>\n",
       "      <th></th>\n",
       "      <th></th>\n",
       "      <th></th>\n",
       "      <th></th>\n",
       "      <th></th>\n",
       "      <th></th>\n",
       "      <th></th>\n",
       "      <th></th>\n",
       "      <th></th>\n",
       "      <th></th>\n",
       "      <th></th>\n",
       "      <th></th>\n",
       "    </tr>\n",
       "  </thead>\n",
       "  <tbody>\n",
       "    <tr>\n",
       "      <th>A0A024QZX5;A0A087X1N8;P35237</th>\n",
       "      <td>0.401</td>\n",
       "      <td>1</td>\n",
       "      <td>0.728</td>\n",
       "      <td>0.395</td>\n",
       "      <td>0.004</td>\n",
       "      <td>0.404</td>\n",
       "      <td>0.554</td>\n",
       "      <td>False</td>\n",
       "      <td>0.752</td>\n",
       "      <td>1</td>\n",
       "      <td>4.896</td>\n",
       "      <td>0.028</td>\n",
       "      <td>0.025</td>\n",
       "      <td>1.551</td>\n",
       "      <td>0.072</td>\n",
       "      <td>False</td>\n",
       "      <td>186</td>\n",
       "    </tr>\n",
       "    <tr>\n",
       "      <th>A0A024R0T9;K7ER74;P02655</th>\n",
       "      <td>3.139</td>\n",
       "      <td>1</td>\n",
       "      <td>3.828</td>\n",
       "      <td>0.052</td>\n",
       "      <td>0.020</td>\n",
       "      <td>1.285</td>\n",
       "      <td>0.126</td>\n",
       "      <td>False</td>\n",
       "      <td>2.911</td>\n",
       "      <td>1</td>\n",
       "      <td>4.584</td>\n",
       "      <td>0.034</td>\n",
       "      <td>0.023</td>\n",
       "      <td>1.474</td>\n",
       "      <td>0.083</td>\n",
       "      <td>False</td>\n",
       "      <td>195</td>\n",
       "    </tr>\n",
       "    <tr>\n",
       "      <th>A0A024R3W6;A0A024R412;O60462;O60462-2;O60462-3;O60462-4;O60462-5;Q7LBX6;X5D2Q8</th>\n",
       "      <td>2.573</td>\n",
       "      <td>1</td>\n",
       "      <td>2.864</td>\n",
       "      <td>0.092</td>\n",
       "      <td>0.015</td>\n",
       "      <td>1.035</td>\n",
       "      <td>0.196</td>\n",
       "      <td>False</td>\n",
       "      <td>0.364</td>\n",
       "      <td>1</td>\n",
       "      <td>1.640</td>\n",
       "      <td>0.202</td>\n",
       "      <td>0.009</td>\n",
       "      <td>0.695</td>\n",
       "      <td>0.336</td>\n",
       "      <td>False</td>\n",
       "      <td>174</td>\n",
       "    </tr>\n",
       "    <tr>\n",
       "      <th>A0A024R644;A0A0A0MRU5;A0A1B0GWI2;O75503</th>\n",
       "      <td>0.081</td>\n",
       "      <td>1</td>\n",
       "      <td>0.397</td>\n",
       "      <td>0.530</td>\n",
       "      <td>0.002</td>\n",
       "      <td>0.276</td>\n",
       "      <td>0.671</td>\n",
       "      <td>False</td>\n",
       "      <td>0.143</td>\n",
       "      <td>1</td>\n",
       "      <td>0.979</td>\n",
       "      <td>0.324</td>\n",
       "      <td>0.005</td>\n",
       "      <td>0.490</td>\n",
       "      <td>0.475</td>\n",
       "      <td>False</td>\n",
       "      <td>196</td>\n",
       "    </tr>\n",
       "    <tr>\n",
       "      <th>A0A075B6H7</th>\n",
       "      <td>3.858</td>\n",
       "      <td>1</td>\n",
       "      <td>0.953</td>\n",
       "      <td>0.330</td>\n",
       "      <td>0.005</td>\n",
       "      <td>0.481</td>\n",
       "      <td>0.492</td>\n",
       "      <td>False</td>\n",
       "      <td>8.568</td>\n",
       "      <td>1</td>\n",
       "      <td>1.884</td>\n",
       "      <td>0.171</td>\n",
       "      <td>0.010</td>\n",
       "      <td>0.766</td>\n",
       "      <td>0.297</td>\n",
       "      <td>False</td>\n",
       "      <td>91</td>\n",
       "    </tr>\n",
       "    <tr>\n",
       "      <th>...</th>\n",
       "      <td>...</td>\n",
       "      <td>...</td>\n",
       "      <td>...</td>\n",
       "      <td>...</td>\n",
       "      <td>...</td>\n",
       "      <td>...</td>\n",
       "      <td>...</td>\n",
       "      <td>...</td>\n",
       "      <td>...</td>\n",
       "      <td>...</td>\n",
       "      <td>...</td>\n",
       "      <td>...</td>\n",
       "      <td>...</td>\n",
       "      <td>...</td>\n",
       "      <td>...</td>\n",
       "      <td>...</td>\n",
       "      <td>...</td>\n",
       "    </tr>\n",
       "    <tr>\n",
       "      <th>Q9Y6R7</th>\n",
       "      <td>0.675</td>\n",
       "      <td>1</td>\n",
       "      <td>1.850</td>\n",
       "      <td>0.175</td>\n",
       "      <td>0.010</td>\n",
       "      <td>0.756</td>\n",
       "      <td>0.314</td>\n",
       "      <td>False</td>\n",
       "      <td>0.675</td>\n",
       "      <td>1</td>\n",
       "      <td>1.850</td>\n",
       "      <td>0.175</td>\n",
       "      <td>0.010</td>\n",
       "      <td>0.756</td>\n",
       "      <td>0.301</td>\n",
       "      <td>False</td>\n",
       "      <td>197</td>\n",
       "    </tr>\n",
       "    <tr>\n",
       "      <th>Q9Y6X5</th>\n",
       "      <td>3.162</td>\n",
       "      <td>1</td>\n",
       "      <td>3.505</td>\n",
       "      <td>0.063</td>\n",
       "      <td>0.018</td>\n",
       "      <td>1.203</td>\n",
       "      <td>0.146</td>\n",
       "      <td>False</td>\n",
       "      <td>2.241</td>\n",
       "      <td>1</td>\n",
       "      <td>4.284</td>\n",
       "      <td>0.040</td>\n",
       "      <td>0.022</td>\n",
       "      <td>1.400</td>\n",
       "      <td>0.095</td>\n",
       "      <td>False</td>\n",
       "      <td>173</td>\n",
       "    </tr>\n",
       "    <tr>\n",
       "      <th>Q9Y6Y8;Q9Y6Y8-2</th>\n",
       "      <td>0.973</td>\n",
       "      <td>1</td>\n",
       "      <td>3.028</td>\n",
       "      <td>0.083</td>\n",
       "      <td>0.016</td>\n",
       "      <td>1.079</td>\n",
       "      <td>0.182</td>\n",
       "      <td>False</td>\n",
       "      <td>0.973</td>\n",
       "      <td>1</td>\n",
       "      <td>3.028</td>\n",
       "      <td>0.083</td>\n",
       "      <td>0.016</td>\n",
       "      <td>1.079</td>\n",
       "      <td>0.170</td>\n",
       "      <td>False</td>\n",
       "      <td>197</td>\n",
       "    </tr>\n",
       "    <tr>\n",
       "      <th>Q9Y6Y9</th>\n",
       "      <td>1.101</td>\n",
       "      <td>1</td>\n",
       "      <td>1.407</td>\n",
       "      <td>0.237</td>\n",
       "      <td>0.007</td>\n",
       "      <td>0.625</td>\n",
       "      <td>0.389</td>\n",
       "      <td>False</td>\n",
       "      <td>2.202</td>\n",
       "      <td>1</td>\n",
       "      <td>0.680</td>\n",
       "      <td>0.411</td>\n",
       "      <td>0.004</td>\n",
       "      <td>0.386</td>\n",
       "      <td>0.558</td>\n",
       "      <td>False</td>\n",
       "      <td>119</td>\n",
       "    </tr>\n",
       "    <tr>\n",
       "      <th>S4R3U6</th>\n",
       "      <td>0.103</td>\n",
       "      <td>1</td>\n",
       "      <td>0.104</td>\n",
       "      <td>0.747</td>\n",
       "      <td>0.001</td>\n",
       "      <td>0.126</td>\n",
       "      <td>0.840</td>\n",
       "      <td>False</td>\n",
       "      <td>3.278</td>\n",
       "      <td>1</td>\n",
       "      <td>1.729</td>\n",
       "      <td>0.190</td>\n",
       "      <td>0.009</td>\n",
       "      <td>0.721</td>\n",
       "      <td>0.321</td>\n",
       "      <td>False</td>\n",
       "      <td>126</td>\n",
       "    </tr>\n",
       "  </tbody>\n",
       "</table>\n",
       "<p>1421 rows × 17 columns</p>\n",
       "</div>"
      ],
      "text/plain": [
       "                                                      PI                       \\\n",
       "                                                      SS DF     F p-unc   np2   \n",
       "protein groups                                                                  \n",
       "A0A024QZX5;A0A087X1N8;P35237                       0.401  1 0.728 0.395 0.004   \n",
       "A0A024R0T9;K7ER74;P02655                           3.139  1 3.828 0.052 0.020   \n",
       "A0A024R3W6;A0A024R412;O60462;O60462-2;O60462-3;... 2.573  1 2.864 0.092 0.015   \n",
       "A0A024R644;A0A0A0MRU5;A0A1B0GWI2;O75503            0.081  1 0.397 0.530 0.002   \n",
       "A0A075B6H7                                         3.858  1 0.953 0.330 0.005   \n",
       "...                                                  ... ..   ...   ...   ...   \n",
       "Q9Y6R7                                             0.675  1 1.850 0.175 0.010   \n",
       "Q9Y6X5                                             3.162  1 3.505 0.063 0.018   \n",
       "Q9Y6Y8;Q9Y6Y8-2                                    0.973  1 3.028 0.083 0.016   \n",
       "Q9Y6Y9                                             1.101  1 1.407 0.237 0.007   \n",
       "S4R3U6                                             0.103  1 0.104 0.747 0.001   \n",
       "\n",
       "                                                                         \\\n",
       "                                                   -Log10 pvalue qvalue   \n",
       "protein groups                                                            \n",
       "A0A024QZX5;A0A087X1N8;P35237                               0.404  0.554   \n",
       "A0A024R0T9;K7ER74;P02655                                   1.285  0.126   \n",
       "A0A024R3W6;A0A024R412;O60462;O60462-2;O60462-3;...         1.035  0.196   \n",
       "A0A024R644;A0A0A0MRU5;A0A1B0GWI2;O75503                    0.276  0.671   \n",
       "A0A075B6H7                                                 0.481  0.492   \n",
       "...                                                          ...    ...   \n",
       "Q9Y6R7                                                     0.756  0.314   \n",
       "Q9Y6X5                                                     1.203  0.146   \n",
       "Q9Y6Y8;Q9Y6Y8-2                                            1.079  0.182   \n",
       "Q9Y6Y9                                                     0.625  0.389   \n",
       "S4R3U6                                                     0.126  0.840   \n",
       "\n",
       "                                                            QRILC           \\\n",
       "                                                   rejected    SS DF     F   \n",
       "protein groups                                                               \n",
       "A0A024QZX5;A0A087X1N8;P35237                          False 0.752  1 4.896   \n",
       "A0A024R0T9;K7ER74;P02655                              False 2.911  1 4.584   \n",
       "A0A024R3W6;A0A024R412;O60462;O60462-2;O60462-3;...    False 0.364  1 1.640   \n",
       "A0A024R644;A0A0A0MRU5;A0A1B0GWI2;O75503               False 0.143  1 0.979   \n",
       "A0A075B6H7                                            False 8.568  1 1.884   \n",
       "...                                                     ...   ... ..   ...   \n",
       "Q9Y6R7                                                False 0.675  1 1.850   \n",
       "Q9Y6X5                                                False 2.241  1 4.284   \n",
       "Q9Y6Y8;Q9Y6Y8-2                                       False 0.973  1 3.028   \n",
       "Q9Y6Y9                                                False 2.202  1 0.680   \n",
       "S4R3U6                                                False 3.278  1 1.729   \n",
       "\n",
       "                                                                              \\\n",
       "                                                   p-unc   np2 -Log10 pvalue   \n",
       "protein groups                                                                 \n",
       "A0A024QZX5;A0A087X1N8;P35237                       0.028 0.025         1.551   \n",
       "A0A024R0T9;K7ER74;P02655                           0.034 0.023         1.474   \n",
       "A0A024R3W6;A0A024R412;O60462;O60462-2;O60462-3;... 0.202 0.009         0.695   \n",
       "A0A024R644;A0A0A0MRU5;A0A1B0GWI2;O75503            0.324 0.005         0.490   \n",
       "A0A075B6H7                                         0.171 0.010         0.766   \n",
       "...                                                  ...   ...           ...   \n",
       "Q9Y6R7                                             0.175 0.010         0.756   \n",
       "Q9Y6X5                                             0.040 0.022         1.400   \n",
       "Q9Y6Y8;Q9Y6Y8-2                                    0.083 0.016         1.079   \n",
       "Q9Y6Y9                                             0.411 0.004         0.386   \n",
       "S4R3U6                                             0.190 0.009         0.721   \n",
       "\n",
       "                                                                        data  \n",
       "                                                   qvalue rejected frequency  \n",
       "protein groups                                                                \n",
       "A0A024QZX5;A0A087X1N8;P35237                        0.072    False       186  \n",
       "A0A024R0T9;K7ER74;P02655                            0.083    False       195  \n",
       "A0A024R3W6;A0A024R412;O60462;O60462-2;O60462-3;...  0.336    False       174  \n",
       "A0A024R644;A0A0A0MRU5;A0A1B0GWI2;O75503             0.475    False       196  \n",
       "A0A075B6H7                                          0.297    False        91  \n",
       "...                                                   ...      ...       ...  \n",
       "Q9Y6R7                                              0.301    False       197  \n",
       "Q9Y6X5                                              0.095    False       173  \n",
       "Q9Y6Y8;Q9Y6Y8-2                                     0.170    False       197  \n",
       "Q9Y6Y9                                              0.558    False       119  \n",
       "S4R3U6                                              0.321    False       126  \n",
       "\n",
       "[1421 rows x 17 columns]"
      ]
     },
     "execution_count": 20,
     "metadata": {},
     "output_type": "execute_result"
    }
   ],
   "source": [
    "scores_common = (scores\n",
    "                 .dropna()\n",
    "                 .reset_index(-1, drop=True)\n",
    "                 ).join(\n",
    "    freq_feat, how='left'\n",
    ")\n",
    "scores_common"
   ]
  },
  {
   "cell_type": "code",
   "execution_count": 21,
   "id": "80cf4145-070d-457a-bb74-ee64299809e7",
   "metadata": {
    "execution": {
     "iopub.execute_input": "2024-05-27T15:51:09.903698Z",
     "iopub.status.busy": "2024-05-27T15:51:09.903311Z",
     "iopub.status.idle": "2024-05-27T15:51:09.927591Z",
     "shell.execute_reply": "2024-05-27T15:51:09.926813Z"
    },
    "papermill": {
     "duration": 0.056885,
     "end_time": "2024-05-27T15:51:09.929488",
     "exception": false,
     "start_time": "2024-05-27T15:51:09.872603",
     "status": "completed"
    },
    "tags": []
   },
   "outputs": [
    {
     "data": {
      "text/plain": [
       "Differential Analysis Comparison\n",
       "PI (no)  - QRILC (no)    968\n",
       "PI (yes) - QRILC (yes)   354\n",
       "PI (no)  - QRILC (yes)    68\n",
       "PI (yes) - QRILC (no)     31\n",
       "Name: count, dtype: int64"
      ]
     },
     "execution_count": 21,
     "metadata": {},
     "output_type": "execute_result"
    }
   ],
   "source": [
    "def annotate_decision(scores, model, model_column):\n",
    "    return scores[(model_column, 'rejected')].replace({False: f'{model} (no) ', True: f'{model} (yes)'})\n",
    "\n",
    "\n",
    "annotations = None\n",
    "for model, model_column in models.items():\n",
    "    if annotations is not None:\n",
    "        annotations += ' - '\n",
    "        annotations += annotate_decision(scores_common,\n",
    "                                         model=model, model_column=model_column)\n",
    "    else:\n",
    "        annotations = annotate_decision(\n",
    "            scores_common, model=model, model_column=model_column)\n",
    "annotations.name = 'Differential Analysis Comparison'\n",
    "annotations.value_counts()"
   ]
  },
  {
   "cell_type": "code",
   "execution_count": 22,
   "id": "cda5ffa4-9a97-4a49-aaba-34e83ef7940a",
   "metadata": {
    "execution": {
     "iopub.execute_input": "2024-05-27T15:51:10.038464Z",
     "iopub.status.busy": "2024-05-27T15:51:10.038096Z",
     "iopub.status.idle": "2024-05-27T15:51:10.088627Z",
     "shell.execute_reply": "2024-05-27T15:51:10.087839Z"
    },
    "papermill": {
     "duration": 0.127382,
     "end_time": "2024-05-27T15:51:10.090388",
     "exception": false,
     "start_time": "2024-05-27T15:51:09.963006",
     "status": "completed"
    },
    "tags": []
   },
   "outputs": [
    {
     "data": {
      "text/html": [
       "<div>\n",
       "<style scoped>\n",
       "    .dataframe tbody tr th:only-of-type {\n",
       "        vertical-align: middle;\n",
       "    }\n",
       "\n",
       "    .dataframe tbody tr th {\n",
       "        vertical-align: top;\n",
       "    }\n",
       "\n",
       "    .dataframe thead tr th {\n",
       "        text-align: left;\n",
       "    }\n",
       "\n",
       "    .dataframe thead tr:last-of-type th {\n",
       "        text-align: right;\n",
       "    }\n",
       "</style>\n",
       "<table border=\"1\" class=\"dataframe\">\n",
       "  <thead>\n",
       "    <tr>\n",
       "      <th></th>\n",
       "      <th colspan=\"8\" halign=\"left\">PI</th>\n",
       "      <th colspan=\"8\" halign=\"left\">QRILC</th>\n",
       "      <th>data</th>\n",
       "    </tr>\n",
       "    <tr>\n",
       "      <th></th>\n",
       "      <th>SS</th>\n",
       "      <th>DF</th>\n",
       "      <th>F</th>\n",
       "      <th>p-unc</th>\n",
       "      <th>np2</th>\n",
       "      <th>-Log10 pvalue</th>\n",
       "      <th>qvalue</th>\n",
       "      <th>rejected</th>\n",
       "      <th>SS</th>\n",
       "      <th>DF</th>\n",
       "      <th>F</th>\n",
       "      <th>p-unc</th>\n",
       "      <th>np2</th>\n",
       "      <th>-Log10 pvalue</th>\n",
       "      <th>qvalue</th>\n",
       "      <th>rejected</th>\n",
       "      <th>frequency</th>\n",
       "    </tr>\n",
       "    <tr>\n",
       "      <th>protein groups</th>\n",
       "      <th></th>\n",
       "      <th></th>\n",
       "      <th></th>\n",
       "      <th></th>\n",
       "      <th></th>\n",
       "      <th></th>\n",
       "      <th></th>\n",
       "      <th></th>\n",
       "      <th></th>\n",
       "      <th></th>\n",
       "      <th></th>\n",
       "      <th></th>\n",
       "      <th></th>\n",
       "      <th></th>\n",
       "      <th></th>\n",
       "      <th></th>\n",
       "      <th></th>\n",
       "    </tr>\n",
       "  </thead>\n",
       "  <tbody>\n",
       "    <tr>\n",
       "      <th>A0A075B6I0</th>\n",
       "      <td>8.273</td>\n",
       "      <td>1</td>\n",
       "      <td>5.438</td>\n",
       "      <td>0.021</td>\n",
       "      <td>0.028</td>\n",
       "      <td>1.683</td>\n",
       "      <td>0.062</td>\n",
       "      <td>False</td>\n",
       "      <td>8.425</td>\n",
       "      <td>1</td>\n",
       "      <td>8.742</td>\n",
       "      <td>0.004</td>\n",
       "      <td>0.044</td>\n",
       "      <td>2.456</td>\n",
       "      <td>0.013</td>\n",
       "      <td>True</td>\n",
       "      <td>194</td>\n",
       "    </tr>\n",
       "    <tr>\n",
       "      <th>A0A075B6J9</th>\n",
       "      <td>10.793</td>\n",
       "      <td>1</td>\n",
       "      <td>4.831</td>\n",
       "      <td>0.029</td>\n",
       "      <td>0.025</td>\n",
       "      <td>1.535</td>\n",
       "      <td>0.080</td>\n",
       "      <td>False</td>\n",
       "      <td>6.292</td>\n",
       "      <td>1</td>\n",
       "      <td>6.077</td>\n",
       "      <td>0.015</td>\n",
       "      <td>0.031</td>\n",
       "      <td>1.836</td>\n",
       "      <td>0.042</td>\n",
       "      <td>True</td>\n",
       "      <td>156</td>\n",
       "    </tr>\n",
       "    <tr>\n",
       "      <th>A0A087WWT2;Q9NPD7</th>\n",
       "      <td>3.314</td>\n",
       "      <td>1</td>\n",
       "      <td>5.576</td>\n",
       "      <td>0.019</td>\n",
       "      <td>0.028</td>\n",
       "      <td>1.716</td>\n",
       "      <td>0.058</td>\n",
       "      <td>False</td>\n",
       "      <td>1.457</td>\n",
       "      <td>1</td>\n",
       "      <td>7.693</td>\n",
       "      <td>0.006</td>\n",
       "      <td>0.039</td>\n",
       "      <td>2.215</td>\n",
       "      <td>0.021</td>\n",
       "      <td>True</td>\n",
       "      <td>193</td>\n",
       "    </tr>\n",
       "    <tr>\n",
       "      <th>A0A087X1G7;A0A0B4J1S4;O60613</th>\n",
       "      <td>3.127</td>\n",
       "      <td>1</td>\n",
       "      <td>4.496</td>\n",
       "      <td>0.035</td>\n",
       "      <td>0.023</td>\n",
       "      <td>1.453</td>\n",
       "      <td>0.093</td>\n",
       "      <td>False</td>\n",
       "      <td>3.008</td>\n",
       "      <td>1</td>\n",
       "      <td>6.263</td>\n",
       "      <td>0.013</td>\n",
       "      <td>0.032</td>\n",
       "      <td>1.880</td>\n",
       "      <td>0.039</td>\n",
       "      <td>True</td>\n",
       "      <td>184</td>\n",
       "    </tr>\n",
       "    <tr>\n",
       "      <th>A0A0A0MS20;A0A0A0MSZ8;A0A0G2JM38;A0A0G2JM43;A0A0G2JM57;A0A0G2JM84;A0A0G2JMH7;A0A0G2JML1;A0A0G2JNE9;A0A0G2JNL1;A0A0G2JP25;A0A0G2JP84;A0A0G2JPA9;A0A0G2JPC7;A0A0G2JPU4;A0A0G2JPX5;A0A0G2JQ10;A0A0G2JQ20;A8MUE1;C9JST2;Q8NHJ6;Q8NHJ6-2;Q8NHJ6-3</th>\n",
       "      <td>2.461</td>\n",
       "      <td>1</td>\n",
       "      <td>3.399</td>\n",
       "      <td>0.067</td>\n",
       "      <td>0.017</td>\n",
       "      <td>1.175</td>\n",
       "      <td>0.154</td>\n",
       "      <td>False</td>\n",
       "      <td>5.585</td>\n",
       "      <td>1</td>\n",
       "      <td>5.780</td>\n",
       "      <td>0.017</td>\n",
       "      <td>0.029</td>\n",
       "      <td>1.765</td>\n",
       "      <td>0.048</td>\n",
       "      <td>True</td>\n",
       "      <td>166</td>\n",
       "    </tr>\n",
       "    <tr>\n",
       "      <th>...</th>\n",
       "      <td>...</td>\n",
       "      <td>...</td>\n",
       "      <td>...</td>\n",
       "      <td>...</td>\n",
       "      <td>...</td>\n",
       "      <td>...</td>\n",
       "      <td>...</td>\n",
       "      <td>...</td>\n",
       "      <td>...</td>\n",
       "      <td>...</td>\n",
       "      <td>...</td>\n",
       "      <td>...</td>\n",
       "      <td>...</td>\n",
       "      <td>...</td>\n",
       "      <td>...</td>\n",
       "      <td>...</td>\n",
       "      <td>...</td>\n",
       "    </tr>\n",
       "    <tr>\n",
       "      <th>Q9NS84</th>\n",
       "      <td>1.450</td>\n",
       "      <td>1</td>\n",
       "      <td>2.413</td>\n",
       "      <td>0.122</td>\n",
       "      <td>0.012</td>\n",
       "      <td>0.914</td>\n",
       "      <td>0.243</td>\n",
       "      <td>False</td>\n",
       "      <td>24.655</td>\n",
       "      <td>1</td>\n",
       "      <td>7.956</td>\n",
       "      <td>0.005</td>\n",
       "      <td>0.040</td>\n",
       "      <td>2.276</td>\n",
       "      <td>0.018</td>\n",
       "      <td>True</td>\n",
       "      <td>83</td>\n",
       "    </tr>\n",
       "    <tr>\n",
       "      <th>Q9NUQ9</th>\n",
       "      <td>0.744</td>\n",
       "      <td>1</td>\n",
       "      <td>2.229</td>\n",
       "      <td>0.137</td>\n",
       "      <td>0.012</td>\n",
       "      <td>0.863</td>\n",
       "      <td>0.263</td>\n",
       "      <td>False</td>\n",
       "      <td>4.250</td>\n",
       "      <td>1</td>\n",
       "      <td>6.933</td>\n",
       "      <td>0.009</td>\n",
       "      <td>0.035</td>\n",
       "      <td>2.038</td>\n",
       "      <td>0.029</td>\n",
       "      <td>True</td>\n",
       "      <td>114</td>\n",
       "    </tr>\n",
       "    <tr>\n",
       "      <th>Q9NYX4</th>\n",
       "      <td>1.708</td>\n",
       "      <td>1</td>\n",
       "      <td>3.017</td>\n",
       "      <td>0.084</td>\n",
       "      <td>0.016</td>\n",
       "      <td>1.076</td>\n",
       "      <td>0.183</td>\n",
       "      <td>False</td>\n",
       "      <td>2.078</td>\n",
       "      <td>1</td>\n",
       "      <td>7.199</td>\n",
       "      <td>0.008</td>\n",
       "      <td>0.036</td>\n",
       "      <td>2.100</td>\n",
       "      <td>0.026</td>\n",
       "      <td>True</td>\n",
       "      <td>195</td>\n",
       "    </tr>\n",
       "    <tr>\n",
       "      <th>Q9UKB5</th>\n",
       "      <td>17.412</td>\n",
       "      <td>1</td>\n",
       "      <td>6.468</td>\n",
       "      <td>0.012</td>\n",
       "      <td>0.033</td>\n",
       "      <td>1.929</td>\n",
       "      <td>0.039</td>\n",
       "      <td>True</td>\n",
       "      <td>2.648</td>\n",
       "      <td>1</td>\n",
       "      <td>3.157</td>\n",
       "      <td>0.077</td>\n",
       "      <td>0.016</td>\n",
       "      <td>1.112</td>\n",
       "      <td>0.160</td>\n",
       "      <td>False</td>\n",
       "      <td>148</td>\n",
       "    </tr>\n",
       "    <tr>\n",
       "      <th>Q9UQ52</th>\n",
       "      <td>1.953</td>\n",
       "      <td>1</td>\n",
       "      <td>3.879</td>\n",
       "      <td>0.050</td>\n",
       "      <td>0.020</td>\n",
       "      <td>1.298</td>\n",
       "      <td>0.123</td>\n",
       "      <td>False</td>\n",
       "      <td>1.523</td>\n",
       "      <td>1</td>\n",
       "      <td>7.020</td>\n",
       "      <td>0.009</td>\n",
       "      <td>0.035</td>\n",
       "      <td>2.059</td>\n",
       "      <td>0.028</td>\n",
       "      <td>True</td>\n",
       "      <td>188</td>\n",
       "    </tr>\n",
       "  </tbody>\n",
       "</table>\n",
       "<p>99 rows × 17 columns</p>\n",
       "</div>"
      ],
      "text/plain": [
       "                                                       PI                 \\\n",
       "                                                       SS DF     F p-unc   \n",
       "protein groups                                                             \n",
       "A0A075B6I0                                          8.273  1 5.438 0.021   \n",
       "A0A075B6J9                                         10.793  1 4.831 0.029   \n",
       "A0A087WWT2;Q9NPD7                                   3.314  1 5.576 0.019   \n",
       "A0A087X1G7;A0A0B4J1S4;O60613                        3.127  1 4.496 0.035   \n",
       "A0A0A0MS20;A0A0A0MSZ8;A0A0G2JM38;A0A0G2JM43;A0A...  2.461  1 3.399 0.067   \n",
       "...                                                   ... ..   ...   ...   \n",
       "Q9NS84                                              1.450  1 2.413 0.122   \n",
       "Q9NUQ9                                              0.744  1 2.229 0.137   \n",
       "Q9NYX4                                              1.708  1 3.017 0.084   \n",
       "Q9UKB5                                             17.412  1 6.468 0.012   \n",
       "Q9UQ52                                              1.953  1 3.879 0.050   \n",
       "\n",
       "                                                                               \\\n",
       "                                                     np2 -Log10 pvalue qvalue   \n",
       "protein groups                                                                  \n",
       "A0A075B6I0                                         0.028         1.683  0.062   \n",
       "A0A075B6J9                                         0.025         1.535  0.080   \n",
       "A0A087WWT2;Q9NPD7                                  0.028         1.716  0.058   \n",
       "A0A087X1G7;A0A0B4J1S4;O60613                       0.023         1.453  0.093   \n",
       "A0A0A0MS20;A0A0A0MSZ8;A0A0G2JM38;A0A0G2JM43;A0A... 0.017         1.175  0.154   \n",
       "...                                                  ...           ...    ...   \n",
       "Q9NS84                                             0.012         0.914  0.243   \n",
       "Q9NUQ9                                             0.012         0.863  0.263   \n",
       "Q9NYX4                                             0.016         1.076  0.183   \n",
       "Q9UKB5                                             0.033         1.929  0.039   \n",
       "Q9UQ52                                             0.020         1.298  0.123   \n",
       "\n",
       "                                                             QRILC           \\\n",
       "                                                   rejected     SS DF     F   \n",
       "protein groups                                                                \n",
       "A0A075B6I0                                            False  8.425  1 8.742   \n",
       "A0A075B6J9                                            False  6.292  1 6.077   \n",
       "A0A087WWT2;Q9NPD7                                     False  1.457  1 7.693   \n",
       "A0A087X1G7;A0A0B4J1S4;O60613                          False  3.008  1 6.263   \n",
       "A0A0A0MS20;A0A0A0MSZ8;A0A0G2JM38;A0A0G2JM43;A0A...    False  5.585  1 5.780   \n",
       "...                                                     ...    ... ..   ...   \n",
       "Q9NS84                                                False 24.655  1 7.956   \n",
       "Q9NUQ9                                                False  4.250  1 6.933   \n",
       "Q9NYX4                                                False  2.078  1 7.199   \n",
       "Q9UKB5                                                 True  2.648  1 3.157   \n",
       "Q9UQ52                                                False  1.523  1 7.020   \n",
       "\n",
       "                                                                              \\\n",
       "                                                   p-unc   np2 -Log10 pvalue   \n",
       "protein groups                                                                 \n",
       "A0A075B6I0                                         0.004 0.044         2.456   \n",
       "A0A075B6J9                                         0.015 0.031         1.836   \n",
       "A0A087WWT2;Q9NPD7                                  0.006 0.039         2.215   \n",
       "A0A087X1G7;A0A0B4J1S4;O60613                       0.013 0.032         1.880   \n",
       "A0A0A0MS20;A0A0A0MSZ8;A0A0G2JM38;A0A0G2JM43;A0A... 0.017 0.029         1.765   \n",
       "...                                                  ...   ...           ...   \n",
       "Q9NS84                                             0.005 0.040         2.276   \n",
       "Q9NUQ9                                             0.009 0.035         2.038   \n",
       "Q9NYX4                                             0.008 0.036         2.100   \n",
       "Q9UKB5                                             0.077 0.016         1.112   \n",
       "Q9UQ52                                             0.009 0.035         2.059   \n",
       "\n",
       "                                                                        data  \n",
       "                                                   qvalue rejected frequency  \n",
       "protein groups                                                                \n",
       "A0A075B6I0                                          0.013     True       194  \n",
       "A0A075B6J9                                          0.042     True       156  \n",
       "A0A087WWT2;Q9NPD7                                   0.021     True       193  \n",
       "A0A087X1G7;A0A0B4J1S4;O60613                        0.039     True       184  \n",
       "A0A0A0MS20;A0A0A0MSZ8;A0A0G2JM38;A0A0G2JM43;A0A...  0.048     True       166  \n",
       "...                                                   ...      ...       ...  \n",
       "Q9NS84                                              0.018     True        83  \n",
       "Q9NUQ9                                              0.029     True       114  \n",
       "Q9NYX4                                              0.026     True       195  \n",
       "Q9UKB5                                              0.160    False       148  \n",
       "Q9UQ52                                              0.028     True       188  \n",
       "\n",
       "[99 rows x 17 columns]"
      ]
     },
     "execution_count": 22,
     "metadata": {},
     "output_type": "execute_result"
    }
   ],
   "source": [
    "mask_different = (\n",
    "    (scores_common.loc[:, pd.IndexSlice[:, 'rejected']].any(axis=1))\n",
    "    & ~(scores_common.loc[:, pd.IndexSlice[:, 'rejected']].all(axis=1))\n",
    ")\n",
    "\n",
    "scores_common.loc[mask_different]"
   ]
  },
  {
   "cell_type": "code",
   "execution_count": 23,
   "id": "b9e2739b-a09a-4113-a3f8-f29d6ed398b7",
   "metadata": {
    "execution": {
     "iopub.execute_input": "2024-05-27T15:51:10.161054Z",
     "iopub.status.busy": "2024-05-27T15:51:10.160667Z",
     "iopub.status.idle": "2024-05-27T15:51:10.302639Z",
     "shell.execute_reply": "2024-05-27T15:51:10.301744Z"
    },
    "papermill": {
     "duration": 0.175471,
     "end_time": "2024-05-27T15:51:10.304908",
     "exception": false,
     "start_time": "2024-05-27T15:51:10.129437",
     "status": "completed"
    },
    "tags": []
   },
   "outputs": [],
   "source": [
    "_to_write = scores_common.loc[mask_different]\n",
    "_to_write.to_excel(writer, 'differences', **writer_args)"
   ]
  },
  {
   "cell_type": "code",
   "execution_count": 24,
   "id": "5b2e5341-b054-40c3-b45a-44ae6ca46cfb",
   "metadata": {
    "execution": {
     "iopub.execute_input": "2024-05-27T15:51:10.385331Z",
     "iopub.status.busy": "2024-05-27T15:51:10.384558Z",
     "iopub.status.idle": "2024-05-27T15:51:10.413999Z",
     "shell.execute_reply": "2024-05-27T15:51:10.413219Z"
    },
    "papermill": {
     "duration": 0.062907,
     "end_time": "2024-05-27T15:51:10.415720",
     "exception": false,
     "start_time": "2024-05-27T15:51:10.352813",
     "status": "completed"
    },
    "tags": []
   },
   "outputs": [
    {
     "data": {
      "text/html": [
       "<div>\n",
       "<style scoped>\n",
       "    .dataframe tbody tr th:only-of-type {\n",
       "        vertical-align: middle;\n",
       "    }\n",
       "\n",
       "    .dataframe tbody tr th {\n",
       "        vertical-align: top;\n",
       "    }\n",
       "\n",
       "    .dataframe thead th {\n",
       "        text-align: right;\n",
       "    }\n",
       "</style>\n",
       "<table border=\"1\" class=\"dataframe\">\n",
       "  <thead>\n",
       "    <tr style=\"text-align: right;\">\n",
       "      <th></th>\n",
       "      <th>PI</th>\n",
       "      <th>QRILC</th>\n",
       "      <th>frequency</th>\n",
       "      <th>Differential Analysis Comparison</th>\n",
       "    </tr>\n",
       "    <tr>\n",
       "      <th>protein groups</th>\n",
       "      <th></th>\n",
       "      <th></th>\n",
       "      <th></th>\n",
       "      <th></th>\n",
       "    </tr>\n",
       "  </thead>\n",
       "  <tbody>\n",
       "    <tr>\n",
       "      <th>A0A024QZX5;A0A087X1N8;P35237</th>\n",
       "      <td>0.554</td>\n",
       "      <td>0.072</td>\n",
       "      <td>186</td>\n",
       "      <td>PI (no)  - QRILC (no)</td>\n",
       "    </tr>\n",
       "    <tr>\n",
       "      <th>A0A024R0T9;K7ER74;P02655</th>\n",
       "      <td>0.126</td>\n",
       "      <td>0.083</td>\n",
       "      <td>195</td>\n",
       "      <td>PI (no)  - QRILC (no)</td>\n",
       "    </tr>\n",
       "    <tr>\n",
       "      <th>A0A024R3W6;A0A024R412;O60462;O60462-2;O60462-3;O60462-4;O60462-5;Q7LBX6;X5D2Q8</th>\n",
       "      <td>0.196</td>\n",
       "      <td>0.336</td>\n",
       "      <td>174</td>\n",
       "      <td>PI (no)  - QRILC (no)</td>\n",
       "    </tr>\n",
       "    <tr>\n",
       "      <th>A0A024R644;A0A0A0MRU5;A0A1B0GWI2;O75503</th>\n",
       "      <td>0.671</td>\n",
       "      <td>0.475</td>\n",
       "      <td>196</td>\n",
       "      <td>PI (no)  - QRILC (no)</td>\n",
       "    </tr>\n",
       "    <tr>\n",
       "      <th>A0A075B6H7</th>\n",
       "      <td>0.492</td>\n",
       "      <td>0.297</td>\n",
       "      <td>91</td>\n",
       "      <td>PI (no)  - QRILC (no)</td>\n",
       "    </tr>\n",
       "    <tr>\n",
       "      <th>...</th>\n",
       "      <td>...</td>\n",
       "      <td>...</td>\n",
       "      <td>...</td>\n",
       "      <td>...</td>\n",
       "    </tr>\n",
       "    <tr>\n",
       "      <th>Q9Y6R7</th>\n",
       "      <td>0.314</td>\n",
       "      <td>0.301</td>\n",
       "      <td>197</td>\n",
       "      <td>PI (no)  - QRILC (no)</td>\n",
       "    </tr>\n",
       "    <tr>\n",
       "      <th>Q9Y6X5</th>\n",
       "      <td>0.146</td>\n",
       "      <td>0.095</td>\n",
       "      <td>173</td>\n",
       "      <td>PI (no)  - QRILC (no)</td>\n",
       "    </tr>\n",
       "    <tr>\n",
       "      <th>Q9Y6Y8;Q9Y6Y8-2</th>\n",
       "      <td>0.182</td>\n",
       "      <td>0.170</td>\n",
       "      <td>197</td>\n",
       "      <td>PI (no)  - QRILC (no)</td>\n",
       "    </tr>\n",
       "    <tr>\n",
       "      <th>Q9Y6Y9</th>\n",
       "      <td>0.389</td>\n",
       "      <td>0.558</td>\n",
       "      <td>119</td>\n",
       "      <td>PI (no)  - QRILC (no)</td>\n",
       "    </tr>\n",
       "    <tr>\n",
       "      <th>S4R3U6</th>\n",
       "      <td>0.840</td>\n",
       "      <td>0.321</td>\n",
       "      <td>126</td>\n",
       "      <td>PI (no)  - QRILC (no)</td>\n",
       "    </tr>\n",
       "  </tbody>\n",
       "</table>\n",
       "<p>1421 rows × 4 columns</p>\n",
       "</div>"
      ],
      "text/plain": [
       "                                                      PI  QRILC  frequency  \\\n",
       "protein groups                                                               \n",
       "A0A024QZX5;A0A087X1N8;P35237                       0.554  0.072        186   \n",
       "A0A024R0T9;K7ER74;P02655                           0.126  0.083        195   \n",
       "A0A024R3W6;A0A024R412;O60462;O60462-2;O60462-3;... 0.196  0.336        174   \n",
       "A0A024R644;A0A0A0MRU5;A0A1B0GWI2;O75503            0.671  0.475        196   \n",
       "A0A075B6H7                                         0.492  0.297         91   \n",
       "...                                                  ...    ...        ...   \n",
       "Q9Y6R7                                             0.314  0.301        197   \n",
       "Q9Y6X5                                             0.146  0.095        173   \n",
       "Q9Y6Y8;Q9Y6Y8-2                                    0.182  0.170        197   \n",
       "Q9Y6Y9                                             0.389  0.558        119   \n",
       "S4R3U6                                             0.840  0.321        126   \n",
       "\n",
       "                                                   Differential Analysis Comparison  \n",
       "protein groups                                                                       \n",
       "A0A024QZX5;A0A087X1N8;P35237                                 PI (no)  - QRILC (no)   \n",
       "A0A024R0T9;K7ER74;P02655                                     PI (no)  - QRILC (no)   \n",
       "A0A024R3W6;A0A024R412;O60462;O60462-2;O60462-3;...           PI (no)  - QRILC (no)   \n",
       "A0A024R644;A0A0A0MRU5;A0A1B0GWI2;O75503                      PI (no)  - QRILC (no)   \n",
       "A0A075B6H7                                                   PI (no)  - QRILC (no)   \n",
       "...                                                                             ...  \n",
       "Q9Y6R7                                                       PI (no)  - QRILC (no)   \n",
       "Q9Y6X5                                                       PI (no)  - QRILC (no)   \n",
       "Q9Y6Y8;Q9Y6Y8-2                                              PI (no)  - QRILC (no)   \n",
       "Q9Y6Y9                                                       PI (no)  - QRILC (no)   \n",
       "S4R3U6                                                       PI (no)  - QRILC (no)   \n",
       "\n",
       "[1421 rows x 4 columns]"
      ]
     },
     "execution_count": 24,
     "metadata": {},
     "output_type": "execute_result"
    }
   ],
   "source": [
    "var = 'qvalue'\n",
    "to_plot = [scores_common[v][var] for v in models.values()]\n",
    "for s, k in zip(to_plot, models.keys()):\n",
    "    s.name = k.replace('_', ' ')\n",
    "to_plot.append(scores_common['data'])\n",
    "to_plot.append(annotations)\n",
    "to_plot = pd.concat(to_plot, axis=1)\n",
    "to_plot"
   ]
  },
  {
   "cell_type": "markdown",
   "id": "c92517a4-8456-4663-b719-4abd997fbb1c",
   "metadata": {
    "papermill": {
     "duration": 0.030576,
     "end_time": "2024-05-27T15:51:10.479396",
     "exception": false,
     "start_time": "2024-05-27T15:51:10.448820",
     "status": "completed"
    },
    "tags": []
   },
   "source": [
    "## Plot of intensities for most extreme example"
   ]
  },
  {
   "cell_type": "code",
   "execution_count": 25,
   "id": "c7af4a70-aa43-4772-af00-d425f5ed249f",
   "metadata": {
    "execution": {
     "iopub.execute_input": "2024-05-27T15:51:10.633201Z",
     "iopub.status.busy": "2024-05-27T15:51:10.632838Z",
     "iopub.status.idle": "2024-05-27T15:51:10.665595Z",
     "shell.execute_reply": "2024-05-27T15:51:10.664812Z"
    },
    "papermill": {
     "duration": 0.086573,
     "end_time": "2024-05-27T15:51:10.667397",
     "exception": false,
     "start_time": "2024-05-27T15:51:10.580824",
     "status": "completed"
    },
    "tags": []
   },
   "outputs": [
    {
     "data": {
      "text/html": [
       "<div>\n",
       "<style scoped>\n",
       "    .dataframe tbody tr th:only-of-type {\n",
       "        vertical-align: middle;\n",
       "    }\n",
       "\n",
       "    .dataframe tbody tr th {\n",
       "        vertical-align: top;\n",
       "    }\n",
       "\n",
       "    .dataframe thead th {\n",
       "        text-align: right;\n",
       "    }\n",
       "</style>\n",
       "<table border=\"1\" class=\"dataframe\">\n",
       "  <thead>\n",
       "    <tr style=\"text-align: right;\">\n",
       "      <th></th>\n",
       "      <th>PI</th>\n",
       "      <th>QRILC</th>\n",
       "      <th>frequency</th>\n",
       "      <th>Differential Analysis Comparison</th>\n",
       "      <th>diff_qvalue</th>\n",
       "    </tr>\n",
       "    <tr>\n",
       "      <th>protein groups</th>\n",
       "      <th></th>\n",
       "      <th></th>\n",
       "      <th></th>\n",
       "      <th></th>\n",
       "      <th></th>\n",
       "    </tr>\n",
       "  </thead>\n",
       "  <tbody>\n",
       "    <tr>\n",
       "      <th>J3KSJ8;Q9UD71;Q9UD71-2</th>\n",
       "      <td>0.822</td>\n",
       "      <td>0.034</td>\n",
       "      <td>51</td>\n",
       "      <td>PI (no)  - QRILC (yes)</td>\n",
       "      <td>0.788</td>\n",
       "    </tr>\n",
       "    <tr>\n",
       "      <th>G3V295;G3V3I1;G3V5Z7;P60900</th>\n",
       "      <td>0.598</td>\n",
       "      <td>0.001</td>\n",
       "      <td>95</td>\n",
       "      <td>PI (no)  - QRILC (yes)</td>\n",
       "      <td>0.597</td>\n",
       "    </tr>\n",
       "    <tr>\n",
       "      <th>A0A0B4J1V6</th>\n",
       "      <td>0.602</td>\n",
       "      <td>0.039</td>\n",
       "      <td>105</td>\n",
       "      <td>PI (no)  - QRILC (yes)</td>\n",
       "      <td>0.563</td>\n",
       "    </tr>\n",
       "    <tr>\n",
       "      <th>K7EPJ5;O60291;O60291-2;O60291-3;O60291-4</th>\n",
       "      <td>0.026</td>\n",
       "      <td>0.547</td>\n",
       "      <td>50</td>\n",
       "      <td>PI (yes) - QRILC (no)</td>\n",
       "      <td>0.521</td>\n",
       "    </tr>\n",
       "    <tr>\n",
       "      <th>A8MZH3;E9PJ72;E9PMR5;H0YEA2;H0YF02;H7BYR8;J3QKL5;J3QL64;J3QQK6;P02686;P02686-3;P02686-4;P02686-5;P02686-6</th>\n",
       "      <td>0.496</td>\n",
       "      <td>0.001</td>\n",
       "      <td>132</td>\n",
       "      <td>PI (no)  - QRILC (yes)</td>\n",
       "      <td>0.495</td>\n",
       "    </tr>\n",
       "    <tr>\n",
       "      <th>...</th>\n",
       "      <td>...</td>\n",
       "      <td>...</td>\n",
       "      <td>...</td>\n",
       "      <td>...</td>\n",
       "      <td>...</td>\n",
       "    </tr>\n",
       "    <tr>\n",
       "      <th>K7ERI9;P02654</th>\n",
       "      <td>0.042</td>\n",
       "      <td>0.052</td>\n",
       "      <td>196</td>\n",
       "      <td>PI (yes) - QRILC (no)</td>\n",
       "      <td>0.010</td>\n",
       "    </tr>\n",
       "    <tr>\n",
       "      <th>A0A0B4J2C3;P13693;Q5W0H4</th>\n",
       "      <td>0.054</td>\n",
       "      <td>0.048</td>\n",
       "      <td>148</td>\n",
       "      <td>PI (no)  - QRILC (yes)</td>\n",
       "      <td>0.006</td>\n",
       "    </tr>\n",
       "    <tr>\n",
       "      <th>P00740;P00740-2</th>\n",
       "      <td>0.053</td>\n",
       "      <td>0.049</td>\n",
       "      <td>197</td>\n",
       "      <td>PI (no)  - QRILC (yes)</td>\n",
       "      <td>0.004</td>\n",
       "    </tr>\n",
       "    <tr>\n",
       "      <th>K7ERG9;P00746</th>\n",
       "      <td>0.052</td>\n",
       "      <td>0.048</td>\n",
       "      <td>197</td>\n",
       "      <td>PI (no)  - QRILC (yes)</td>\n",
       "      <td>0.004</td>\n",
       "    </tr>\n",
       "    <tr>\n",
       "      <th>P26572</th>\n",
       "      <td>0.052</td>\n",
       "      <td>0.048</td>\n",
       "      <td>194</td>\n",
       "      <td>PI (no)  - QRILC (yes)</td>\n",
       "      <td>0.003</td>\n",
       "    </tr>\n",
       "  </tbody>\n",
       "</table>\n",
       "<p>99 rows × 5 columns</p>\n",
       "</div>"
      ],
      "text/plain": [
       "                                                      PI  QRILC  frequency  \\\n",
       "protein groups                                                               \n",
       "J3KSJ8;Q9UD71;Q9UD71-2                             0.822  0.034         51   \n",
       "G3V295;G3V3I1;G3V5Z7;P60900                        0.598  0.001         95   \n",
       "A0A0B4J1V6                                         0.602  0.039        105   \n",
       "K7EPJ5;O60291;O60291-2;O60291-3;O60291-4           0.026  0.547         50   \n",
       "A8MZH3;E9PJ72;E9PMR5;H0YEA2;H0YF02;H7BYR8;J3QKL... 0.496  0.001        132   \n",
       "...                                                  ...    ...        ...   \n",
       "K7ERI9;P02654                                      0.042  0.052        196   \n",
       "A0A0B4J2C3;P13693;Q5W0H4                           0.054  0.048        148   \n",
       "P00740;P00740-2                                    0.053  0.049        197   \n",
       "K7ERG9;P00746                                      0.052  0.048        197   \n",
       "P26572                                             0.052  0.048        194   \n",
       "\n",
       "                                                   Differential Analysis Comparison  \\\n",
       "protein groups                                                                        \n",
       "J3KSJ8;Q9UD71;Q9UD71-2                                       PI (no)  - QRILC (yes)   \n",
       "G3V295;G3V3I1;G3V5Z7;P60900                                  PI (no)  - QRILC (yes)   \n",
       "A0A0B4J1V6                                                   PI (no)  - QRILC (yes)   \n",
       "K7EPJ5;O60291;O60291-2;O60291-3;O60291-4                     PI (yes) - QRILC (no)    \n",
       "A8MZH3;E9PJ72;E9PMR5;H0YEA2;H0YF02;H7BYR8;J3QKL...           PI (no)  - QRILC (yes)   \n",
       "...                                                                             ...   \n",
       "K7ERI9;P02654                                                PI (yes) - QRILC (no)    \n",
       "A0A0B4J2C3;P13693;Q5W0H4                                     PI (no)  - QRILC (yes)   \n",
       "P00740;P00740-2                                              PI (no)  - QRILC (yes)   \n",
       "K7ERG9;P00746                                                PI (no)  - QRILC (yes)   \n",
       "P26572                                                       PI (no)  - QRILC (yes)   \n",
       "\n",
       "                                                    diff_qvalue  \n",
       "protein groups                                                   \n",
       "J3KSJ8;Q9UD71;Q9UD71-2                                    0.788  \n",
       "G3V295;G3V3I1;G3V5Z7;P60900                               0.597  \n",
       "A0A0B4J1V6                                                0.563  \n",
       "K7EPJ5;O60291;O60291-2;O60291-3;O60291-4                  0.521  \n",
       "A8MZH3;E9PJ72;E9PMR5;H0YEA2;H0YF02;H7BYR8;J3QKL...        0.495  \n",
       "...                                                         ...  \n",
       "K7ERI9;P02654                                             0.010  \n",
       "A0A0B4J2C3;P13693;Q5W0H4                                  0.006  \n",
       "P00740;P00740-2                                           0.004  \n",
       "K7ERG9;P00746                                             0.004  \n",
       "P26572                                                    0.003  \n",
       "\n",
       "[99 rows x 5 columns]"
      ]
     },
     "execution_count": 25,
     "metadata": {},
     "output_type": "execute_result"
    }
   ],
   "source": [
    "# should it be possible to run not only RSN?\n",
    "to_plot['diff_qvalue'] = (to_plot[str(args.baseline)] - to_plot[str(args.model_key)]).abs()\n",
    "to_plot.loc[mask_different].sort_values('diff_qvalue', ascending=False)"
   ]
  },
  {
   "cell_type": "markdown",
   "id": "e715954e-2d62-4cd9-b4b0-063524bca495",
   "metadata": {
    "papermill": {
     "duration": 0.038909,
     "end_time": "2024-05-27T15:51:10.744112",
     "exception": false,
     "start_time": "2024-05-27T15:51:10.705203",
     "status": "completed"
    },
    "tags": []
   },
   "source": [
    "## Differences plotted\n",
    "\n",
    "- first only using created annotations"
   ]
  },
  {
   "cell_type": "code",
   "execution_count": 26,
   "id": "a20d356d-c397-4440-b70e-9d899aa200fd",
   "metadata": {
    "execution": {
     "iopub.execute_input": "2024-05-27T15:51:10.823524Z",
     "iopub.status.busy": "2024-05-27T15:51:10.823160Z",
     "iopub.status.idle": "2024-05-27T15:51:13.134995Z",
     "shell.execute_reply": "2024-05-27T15:51:13.134252Z"
    },
    "papermill": {
     "duration": 2.345656,
     "end_time": "2024-05-27T15:51:13.136846",
     "exception": false,
     "start_time": "2024-05-27T15:51:10.791190",
     "status": "completed"
    },
    "tags": []
   },
   "outputs": [
    {
     "name": "stderr",
     "output_type": "stream",
     "text": [
      "fontTools.subset - INFO     maxp pruned\n"
     ]
    },
    {
     "name": "stderr",
     "output_type": "stream",
     "text": [
      "fontTools.subset - INFO     cmap pruned\n"
     ]
    },
    {
     "name": "stderr",
     "output_type": "stream",
     "text": [
      "fontTools.subset - INFO     kern dropped\n"
     ]
    },
    {
     "name": "stderr",
     "output_type": "stream",
     "text": [
      "fontTools.subset - INFO     post pruned\n"
     ]
    },
    {
     "name": "stderr",
     "output_type": "stream",
     "text": [
      "fontTools.subset - INFO     FFTM dropped\n"
     ]
    },
    {
     "name": "stderr",
     "output_type": "stream",
     "text": [
      "fontTools.subset - INFO     GPOS pruned\n"
     ]
    },
    {
     "name": "stderr",
     "output_type": "stream",
     "text": [
      "fontTools.subset - INFO     GSUB pruned\n"
     ]
    },
    {
     "name": "stderr",
     "output_type": "stream",
     "text": [
      "fontTools.subset - INFO     glyf pruned\n"
     ]
    },
    {
     "name": "stderr",
     "output_type": "stream",
     "text": [
      "fontTools.subset - INFO     Added gid0 to subset\n"
     ]
    },
    {
     "name": "stderr",
     "output_type": "stream",
     "text": [
      "fontTools.subset - INFO     Added first four glyphs to subset\n"
     ]
    },
    {
     "name": "stderr",
     "output_type": "stream",
     "text": [
      "fontTools.subset - INFO     Closing glyph list over 'MATH': 32 glyphs before\n"
     ]
    },
    {
     "name": "stderr",
     "output_type": "stream",
     "text": [
      "fontTools.subset - INFO     Glyph names: ['.notdef', '.null', 'C', 'I', 'L', 'P', 'Q', 'R', 'a', 'e', 'eight', 'f', 'four', 'hyphen', 'l', 'n', 'nonmarkingreturn', 'o', 'one', 'parenleft', 'parenright', 'period', 'q', 'r', 's', 'six', 'space', 'two', 'u', 'v', 'y', 'zero']\n"
     ]
    },
    {
     "name": "stderr",
     "output_type": "stream",
     "text": [
      "fontTools.subset - INFO     Glyph IDs:   [0, 1, 2, 3, 11, 12, 16, 17, 19, 20, 21, 23, 25, 27, 38, 44, 47, 51, 52, 53, 68, 72, 73, 79, 81, 82, 84, 85, 86, 88, 89, 92]\n"
     ]
    },
    {
     "name": "stderr",
     "output_type": "stream",
     "text": [
      "fontTools.subset - INFO     Closed glyph list over 'MATH': 38 glyphs after\n"
     ]
    },
    {
     "name": "stderr",
     "output_type": "stream",
     "text": [
      "fontTools.subset - INFO     Glyph names: ['.notdef', '.null', 'C', 'I', 'L', 'P', 'Q', 'R', 'a', 'e', 'eight', 'f', 'four', 'hyphen', 'l', 'n', 'nonmarkingreturn', 'o', 'one', 'parenleft', 'parenright', 'period', 'q', 'r', 's', 'six', 'space', 'two', 'u', 'uni239B', 'uni239C', 'uni239D', 'uni239E', 'uni239F', 'uni23A0', 'v', 'y', 'zero']\n"
     ]
    },
    {
     "name": "stderr",
     "output_type": "stream",
     "text": [
      "fontTools.subset - INFO     Glyph IDs:   [0, 1, 2, 3, 11, 12, 16, 17, 19, 20, 21, 23, 25, 27, 38, 44, 47, 51, 52, 53, 68, 72, 73, 79, 81, 82, 84, 85, 86, 88, 89, 92, 3506, 3507, 3508, 3509, 3510, 3511]\n"
     ]
    },
    {
     "name": "stderr",
     "output_type": "stream",
     "text": [
      "fontTools.subset - INFO     Closing glyph list over 'GSUB': 38 glyphs before\n"
     ]
    },
    {
     "name": "stderr",
     "output_type": "stream",
     "text": [
      "fontTools.subset - INFO     Glyph names: ['.notdef', '.null', 'C', 'I', 'L', 'P', 'Q', 'R', 'a', 'e', 'eight', 'f', 'four', 'hyphen', 'l', 'n', 'nonmarkingreturn', 'o', 'one', 'parenleft', 'parenright', 'period', 'q', 'r', 's', 'six', 'space', 'two', 'u', 'uni239B', 'uni239C', 'uni239D', 'uni239E', 'uni239F', 'uni23A0', 'v', 'y', 'zero']\n"
     ]
    },
    {
     "name": "stderr",
     "output_type": "stream",
     "text": [
      "fontTools.subset - INFO     Glyph IDs:   [0, 1, 2, 3, 11, 12, 16, 17, 19, 20, 21, 23, 25, 27, 38, 44, 47, 51, 52, 53, 68, 72, 73, 79, 81, 82, 84, 85, 86, 88, 89, 92, 3506, 3507, 3508, 3509, 3510, 3511]\n"
     ]
    },
    {
     "name": "stderr",
     "output_type": "stream",
     "text": [
      "fontTools.subset - INFO     Closed glyph list over 'GSUB': 41 glyphs after\n"
     ]
    },
    {
     "name": "stderr",
     "output_type": "stream",
     "text": [
      "fontTools.subset - INFO     Glyph names: ['.notdef', '.null', 'C', 'I', 'L', 'P', 'Q', 'R', 'a', 'e', 'eight', 'f', 'fl', 'four', 'hyphen', 'l', 'n', 'nonmarkingreturn', 'o', 'one', 'parenleft', 'parenright', 'period', 'q', 'r', 's', 'six', 'space', 'two', 'u', 'uni239B', 'uni239C', 'uni239D', 'uni239E', 'uni239F', 'uni23A0', 'uniFB00', 'uniFB04', 'v', 'y', 'zero']\n"
     ]
    },
    {
     "name": "stderr",
     "output_type": "stream",
     "text": [
      "fontTools.subset - INFO     Glyph IDs:   [0, 1, 2, 3, 11, 12, 16, 17, 19, 20, 21, 23, 25, 27, 38, 44, 47, 51, 52, 53, 68, 72, 73, 79, 81, 82, 84, 85, 86, 88, 89, 92, 3506, 3507, 3508, 3509, 3510, 3511, 5038, 5040, 5042]\n"
     ]
    },
    {
     "name": "stderr",
     "output_type": "stream",
     "text": [
      "fontTools.subset - INFO     Closing glyph list over 'glyf': 41 glyphs before\n"
     ]
    },
    {
     "name": "stderr",
     "output_type": "stream",
     "text": [
      "fontTools.subset - INFO     Glyph names: ['.notdef', '.null', 'C', 'I', 'L', 'P', 'Q', 'R', 'a', 'e', 'eight', 'f', 'fl', 'four', 'hyphen', 'l', 'n', 'nonmarkingreturn', 'o', 'one', 'parenleft', 'parenright', 'period', 'q', 'r', 's', 'six', 'space', 'two', 'u', 'uni239B', 'uni239C', 'uni239D', 'uni239E', 'uni239F', 'uni23A0', 'uniFB00', 'uniFB04', 'v', 'y', 'zero']\n"
     ]
    },
    {
     "name": "stderr",
     "output_type": "stream",
     "text": [
      "fontTools.subset - INFO     Glyph IDs:   [0, 1, 2, 3, 11, 12, 16, 17, 19, 20, 21, 23, 25, 27, 38, 44, 47, 51, 52, 53, 68, 72, 73, 79, 81, 82, 84, 85, 86, 88, 89, 92, 3506, 3507, 3508, 3509, 3510, 3511, 5038, 5040, 5042]\n"
     ]
    },
    {
     "name": "stderr",
     "output_type": "stream",
     "text": [
      "fontTools.subset - INFO     Closed glyph list over 'glyf': 41 glyphs after\n"
     ]
    },
    {
     "name": "stderr",
     "output_type": "stream",
     "text": [
      "fontTools.subset - INFO     Glyph names: ['.notdef', '.null', 'C', 'I', 'L', 'P', 'Q', 'R', 'a', 'e', 'eight', 'f', 'fl', 'four', 'hyphen', 'l', 'n', 'nonmarkingreturn', 'o', 'one', 'parenleft', 'parenright', 'period', 'q', 'r', 's', 'six', 'space', 'two', 'u', 'uni239B', 'uni239C', 'uni239D', 'uni239E', 'uni239F', 'uni23A0', 'uniFB00', 'uniFB04', 'v', 'y', 'zero']\n"
     ]
    },
    {
     "name": "stderr",
     "output_type": "stream",
     "text": [
      "fontTools.subset - INFO     Glyph IDs:   [0, 1, 2, 3, 11, 12, 16, 17, 19, 20, 21, 23, 25, 27, 38, 44, 47, 51, 52, 53, 68, 72, 73, 79, 81, 82, 84, 85, 86, 88, 89, 92, 3506, 3507, 3508, 3509, 3510, 3511, 5038, 5040, 5042]\n"
     ]
    },
    {
     "name": "stderr",
     "output_type": "stream",
     "text": [
      "fontTools.subset - INFO     Retaining 41 glyphs\n"
     ]
    },
    {
     "name": "stderr",
     "output_type": "stream",
     "text": [
      "fontTools.subset - INFO     head subsetting not needed\n"
     ]
    },
    {
     "name": "stderr",
     "output_type": "stream",
     "text": [
      "fontTools.subset - INFO     hhea subsetting not needed\n"
     ]
    },
    {
     "name": "stderr",
     "output_type": "stream",
     "text": [
      "fontTools.subset - INFO     maxp subsetting not needed\n"
     ]
    },
    {
     "name": "stderr",
     "output_type": "stream",
     "text": [
      "fontTools.subset - INFO     OS/2 subsetting not needed\n"
     ]
    },
    {
     "name": "stderr",
     "output_type": "stream",
     "text": [
      "fontTools.subset - INFO     hmtx subsetted\n"
     ]
    },
    {
     "name": "stderr",
     "output_type": "stream",
     "text": [
      "fontTools.subset - INFO     cmap subsetted\n"
     ]
    },
    {
     "name": "stderr",
     "output_type": "stream",
     "text": [
      "fontTools.subset - INFO     fpgm subsetting not needed\n"
     ]
    },
    {
     "name": "stderr",
     "output_type": "stream",
     "text": [
      "fontTools.subset - INFO     prep subsetting not needed\n"
     ]
    },
    {
     "name": "stderr",
     "output_type": "stream",
     "text": [
      "fontTools.subset - INFO     cvt  subsetting not needed\n"
     ]
    },
    {
     "name": "stderr",
     "output_type": "stream",
     "text": [
      "fontTools.subset - INFO     loca subsetting not needed\n"
     ]
    },
    {
     "name": "stderr",
     "output_type": "stream",
     "text": [
      "fontTools.subset - INFO     post subsetted\n"
     ]
    },
    {
     "name": "stderr",
     "output_type": "stream",
     "text": [
      "fontTools.subset - INFO     gasp subsetting not needed\n"
     ]
    },
    {
     "name": "stderr",
     "output_type": "stream",
     "text": [
      "fontTools.subset - INFO     MATH subsetted\n"
     ]
    },
    {
     "name": "stderr",
     "output_type": "stream",
     "text": [
      "fontTools.subset - INFO     GDEF subsetted\n"
     ]
    },
    {
     "name": "stderr",
     "output_type": "stream",
     "text": [
      "fontTools.subset - INFO     GPOS subsetted\n"
     ]
    },
    {
     "name": "stderr",
     "output_type": "stream",
     "text": [
      "fontTools.subset - INFO     GSUB subsetted\n"
     ]
    },
    {
     "name": "stderr",
     "output_type": "stream",
     "text": [
      "fontTools.subset - INFO     name subsetting not needed\n"
     ]
    },
    {
     "name": "stderr",
     "output_type": "stream",
     "text": [
      "fontTools.subset - INFO     glyf subsetted\n"
     ]
    },
    {
     "name": "stderr",
     "output_type": "stream",
     "text": [
      "fontTools.subset - INFO     head pruned\n"
     ]
    },
    {
     "name": "stderr",
     "output_type": "stream",
     "text": [
      "fontTools.subset - INFO     OS/2 Unicode ranges pruned: [0]\n"
     ]
    },
    {
     "name": "stderr",
     "output_type": "stream",
     "text": [
      "fontTools.subset - INFO     OS/2 CodePage ranges pruned: [0]\n"
     ]
    },
    {
     "name": "stderr",
     "output_type": "stream",
     "text": [
      "fontTools.subset - INFO     glyf pruned\n"
     ]
    },
    {
     "name": "stderr",
     "output_type": "stream",
     "text": [
      "fontTools.subset - INFO     GDEF pruned\n"
     ]
    },
    {
     "name": "stderr",
     "output_type": "stream",
     "text": [
      "fontTools.subset - INFO     GPOS pruned\n"
     ]
    },
    {
     "name": "stderr",
     "output_type": "stream",
     "text": [
      "fontTools.subset - INFO     GSUB pruned\n"
     ]
    },
    {
     "name": "stderr",
     "output_type": "stream",
     "text": [
      "fontTools.subset - INFO     name pruned\n"
     ]
    },
    {
     "name": "stderr",
     "output_type": "stream",
     "text": [
      "vaep.plotting - INFO     Saved Figures to runs/alzheimer_study/diff_analysis/AD/PI_vs_QRILC/diff_analysis_comparision_1_QRILC\n"
     ]
    },
    {
     "data": {
      "image/png": "[encoded data removed]",
      "text/plain": [
       "<Figure size 294x294 with 1 Axes>"
      ]
     },
     "metadata": {},
     "output_type": "display_data"
    }
   ],
   "source": [
    "figsize = (2, 2)\n",
    "size = 5\n",
    "fig, ax = plt.subplots(figsize=figsize)\n",
    "x_col = to_plot.columns[0]\n",
    "y_col = to_plot.columns[1]\n",
    "ax = sns.scatterplot(data=to_plot,\n",
    "                     x=x_col,\n",
    "                     y=y_col,\n",
    "                     s=size,\n",
    "                     hue='Differential Analysis Comparison',\n",
    "                     ax=ax)\n",
    "_ = ax.legend(fontsize=fontsize,\n",
    "              title_fontsize=fontsize,\n",
    "              markerscale=0.4,\n",
    "              title='',\n",
    "              )\n",
    "ax.set_xlabel(f\"qvalue for {x_col}\")\n",
    "ax.set_ylabel(f\"qvalue for {y_col}\")\n",
    "ax.hlines(0.05, 0, 1, color='grey', linestyles='dotted')\n",
    "ax.vlines(0.05, 0, 1, color='grey', linestyles='dotted')\n",
    "sns.move_legend(ax, \"upper right\")\n",
    "files_out[f'diff_analysis_comparision_1_{args.model_key}'] = (\n",
    "    args.out_folder /\n",
    "    f'diff_analysis_comparision_1_{args.model_key}')\n",
    "fname = files_out[f'diff_analysis_comparision_1_{args.model_key}']\n",
    "vaep.savefig(fig, name=fname)"
   ]
  },
  {
   "cell_type": "markdown",
   "id": "d8849c76-c5f6-4618-87c0-f2635dc9ac66",
   "metadata": {
    "papermill": {
     "duration": 0.023738,
     "end_time": "2024-05-27T15:51:13.193199",
     "exception": false,
     "start_time": "2024-05-27T15:51:13.169461",
     "status": "completed"
    },
    "tags": []
   },
   "source": [
    "- showing how many features were measured (\"observed\")"
   ]
  },
  {
   "cell_type": "code",
   "execution_count": 27,
   "id": "1cf258f8-9dcb-40bb-af66-b600f8d413f6",
   "metadata": {
    "execution": {
     "iopub.execute_input": "2024-05-27T15:51:13.242202Z",
     "iopub.status.busy": "2024-05-27T15:51:13.241844Z",
     "iopub.status.idle": "2024-05-27T15:51:17.353430Z",
     "shell.execute_reply": "2024-05-27T15:51:17.352481Z"
    },
    "papermill": {
     "duration": 4.137954,
     "end_time": "2024-05-27T15:51:17.355646",
     "exception": false,
     "start_time": "2024-05-27T15:51:13.217692",
     "status": "completed"
    },
    "tags": []
   },
   "outputs": [
    {
     "name": "stderr",
     "output_type": "stream",
     "text": [
      "fontTools.subset - INFO     maxp pruned\n"
     ]
    },
    {
     "name": "stderr",
     "output_type": "stream",
     "text": [
      "fontTools.subset - INFO     cmap pruned\n"
     ]
    },
    {
     "name": "stderr",
     "output_type": "stream",
     "text": [
      "fontTools.subset - INFO     kern dropped\n"
     ]
    },
    {
     "name": "stderr",
     "output_type": "stream",
     "text": [
      "fontTools.subset - INFO     post pruned\n"
     ]
    },
    {
     "name": "stderr",
     "output_type": "stream",
     "text": [
      "fontTools.subset - INFO     FFTM dropped\n"
     ]
    },
    {
     "name": "stderr",
     "output_type": "stream",
     "text": [
      "fontTools.subset - INFO     GPOS pruned\n"
     ]
    },
    {
     "name": "stderr",
     "output_type": "stream",
     "text": [
      "fontTools.subset - INFO     GSUB pruned\n"
     ]
    },
    {
     "name": "stderr",
     "output_type": "stream",
     "text": [
      "fontTools.subset - INFO     glyf pruned\n"
     ]
    },
    {
     "name": "stderr",
     "output_type": "stream",
     "text": [
      "fontTools.subset - INFO     Added gid0 to subset\n"
     ]
    },
    {
     "name": "stderr",
     "output_type": "stream",
     "text": [
      "fontTools.subset - INFO     Added first four glyphs to subset\n"
     ]
    },
    {
     "name": "stderr",
     "output_type": "stream",
     "text": [
      "fontTools.subset - INFO     Closing glyph list over 'MATH': 41 glyphs before\n"
     ]
    },
    {
     "name": "stderr",
     "output_type": "stream",
     "text": [
      "fontTools.subset - INFO     Glyph names: ['.notdef', '.null', 'A', 'C', 'D', 'I', 'L', 'P', 'Q', 'R', 'a', 'c', 'e', 'eight', 'f', 'five', 'four', 'hyphen', 'i', 'l', 'm', 'n', 'nonmarkingreturn', 'o', 'one', 'p', 'parenleft', 'parenright', 'period', 'q', 'r', 's', 'seven', 'six', 'space', 't', 'two', 'u', 'v', 'y', 'zero']\n"
     ]
    },
    {
     "name": "stderr",
     "output_type": "stream",
     "text": [
      "fontTools.subset - INFO     Glyph IDs:   [0, 1, 2, 3, 11, 12, 16, 17, 19, 20, 21, 23, 24, 25, 26, 27, 36, 38, 39, 44, 47, 51, 52, 53, 68, 70, 72, 73, 76, 79, 80, 81, 82, 83, 84, 85, 86, 87, 88, 89, 92]\n"
     ]
    },
    {
     "name": "stderr",
     "output_type": "stream",
     "text": [
      "fontTools.subset - INFO     Closed glyph list over 'MATH': 47 glyphs after\n"
     ]
    },
    {
     "name": "stderr",
     "output_type": "stream",
     "text": [
      "fontTools.subset - INFO     Glyph names: ['.notdef', '.null', 'A', 'C', 'D', 'I', 'L', 'P', 'Q', 'R', 'a', 'c', 'e', 'eight', 'f', 'five', 'four', 'hyphen', 'i', 'l', 'm', 'n', 'nonmarkingreturn', 'o', 'one', 'p', 'parenleft', 'parenright', 'period', 'q', 'r', 's', 'seven', 'six', 'space', 't', 'two', 'u', 'uni239B', 'uni239C', 'uni239D', 'uni239E', 'uni239F', 'uni23A0', 'v', 'y', 'zero']\n"
     ]
    },
    {
     "name": "stderr",
     "output_type": "stream",
     "text": [
      "fontTools.subset - INFO     Glyph IDs:   [0, 1, 2, 3, 11, 12, 16, 17, 19, 20, 21, 23, 24, 25, 26, 27, 36, 38, 39, 44, 47, 51, 52, 53, 68, 70, 72, 73, 76, 79, 80, 81, 82, 83, 84, 85, 86, 87, 88, 89, 92, 3506, 3507, 3508, 3509, 3510, 3511]\n"
     ]
    },
    {
     "name": "stderr",
     "output_type": "stream",
     "text": [
      "fontTools.subset - INFO     Closing glyph list over 'GSUB': 47 glyphs before\n"
     ]
    },
    {
     "name": "stderr",
     "output_type": "stream",
     "text": [
      "fontTools.subset - INFO     Glyph names: ['.notdef', '.null', 'A', 'C', 'D', 'I', 'L', 'P', 'Q', 'R', 'a', 'c', 'e', 'eight', 'f', 'five', 'four', 'hyphen', 'i', 'l', 'm', 'n', 'nonmarkingreturn', 'o', 'one', 'p', 'parenleft', 'parenright', 'period', 'q', 'r', 's', 'seven', 'six', 'space', 't', 'two', 'u', 'uni239B', 'uni239C', 'uni239D', 'uni239E', 'uni239F', 'uni23A0', 'v', 'y', 'zero']\n"
     ]
    },
    {
     "name": "stderr",
     "output_type": "stream",
     "text": [
      "fontTools.subset - INFO     Glyph IDs:   [0, 1, 2, 3, 11, 12, 16, 17, 19, 20, 21, 23, 24, 25, 26, 27, 36, 38, 39, 44, 47, 51, 52, 53, 68, 70, 72, 73, 76, 79, 80, 81, 82, 83, 84, 85, 86, 87, 88, 89, 92, 3506, 3507, 3508, 3509, 3510, 3511]\n"
     ]
    },
    {
     "name": "stderr",
     "output_type": "stream",
     "text": [
      "fontTools.subset - INFO     Closed glyph list over 'GSUB': 52 glyphs after\n"
     ]
    },
    {
     "name": "stderr",
     "output_type": "stream",
     "text": [
      "fontTools.subset - INFO     Glyph names: ['.notdef', '.null', 'A', 'C', 'D', 'I', 'L', 'P', 'Q', 'R', 'a', 'c', 'e', 'eight', 'f', 'fi', 'five', 'fl', 'four', 'hyphen', 'i', 'l', 'm', 'n', 'nonmarkingreturn', 'o', 'one', 'p', 'parenleft', 'parenright', 'period', 'q', 'r', 's', 'seven', 'six', 'space', 't', 'two', 'u', 'uni239B', 'uni239C', 'uni239D', 'uni239E', 'uni239F', 'uni23A0', 'uniFB00', 'uniFB03', 'uniFB04', 'v', 'y', 'zero']\n"
     ]
    },
    {
     "name": "stderr",
     "output_type": "stream",
     "text": [
      "fontTools.subset - INFO     Glyph IDs:   [0, 1, 2, 3, 11, 12, 16, 17, 19, 20, 21, 23, 24, 25, 26, 27, 36, 38, 39, 44, 47, 51, 52, 53, 68, 70, 72, 73, 76, 79, 80, 81, 82, 83, 84, 85, 86, 87, 88, 89, 92, 3506, 3507, 3508, 3509, 3510, 3511, 5038, 5039, 5040, 5041, 5042]\n"
     ]
    },
    {
     "name": "stderr",
     "output_type": "stream",
     "text": [
      "fontTools.subset - INFO     Closing glyph list over 'glyf': 52 glyphs before\n"
     ]
    },
    {
     "name": "stderr",
     "output_type": "stream",
     "text": [
      "fontTools.subset - INFO     Glyph names: ['.notdef', '.null', 'A', 'C', 'D', 'I', 'L', 'P', 'Q', 'R', 'a', 'c', 'e', 'eight', 'f', 'fi', 'five', 'fl', 'four', 'hyphen', 'i', 'l', 'm', 'n', 'nonmarkingreturn', 'o', 'one', 'p', 'parenleft', 'parenright', 'period', 'q', 'r', 's', 'seven', 'six', 'space', 't', 'two', 'u', 'uni239B', 'uni239C', 'uni239D', 'uni239E', 'uni239F', 'uni23A0', 'uniFB00', 'uniFB03', 'uniFB04', 'v', 'y', 'zero']\n"
     ]
    },
    {
     "name": "stderr",
     "output_type": "stream",
     "text": [
      "fontTools.subset - INFO     Glyph IDs:   [0, 1, 2, 3, 11, 12, 16, 17, 19, 20, 21, 23, 24, 25, 26, 27, 36, 38, 39, 44, 47, 51, 52, 53, 68, 70, 72, 73, 76, 79, 80, 81, 82, 83, 84, 85, 86, 87, 88, 89, 92, 3506, 3507, 3508, 3509, 3510, 3511, 5038, 5039, 5040, 5041, 5042]\n"
     ]
    },
    {
     "name": "stderr",
     "output_type": "stream",
     "text": [
      "fontTools.subset - INFO     Closed glyph list over 'glyf': 52 glyphs after\n"
     ]
    },
    {
     "name": "stderr",
     "output_type": "stream",
     "text": [
      "fontTools.subset - INFO     Glyph names: ['.notdef', '.null', 'A', 'C', 'D', 'I', 'L', 'P', 'Q', 'R', 'a', 'c', 'e', 'eight', 'f', 'fi', 'five', 'fl', 'four', 'hyphen', 'i', 'l', 'm', 'n', 'nonmarkingreturn', 'o', 'one', 'p', 'parenleft', 'parenright', 'period', 'q', 'r', 's', 'seven', 'six', 'space', 't', 'two', 'u', 'uni239B', 'uni239C', 'uni239D', 'uni239E', 'uni239F', 'uni23A0', 'uniFB00', 'uniFB03', 'uniFB04', 'v', 'y', 'zero']\n"
     ]
    },
    {
     "name": "stderr",
     "output_type": "stream",
     "text": [
      "fontTools.subset - INFO     Glyph IDs:   [0, 1, 2, 3, 11, 12, 16, 17, 19, 20, 21, 23, 24, 25, 26, 27, 36, 38, 39, 44, 47, 51, 52, 53, 68, 70, 72, 73, 76, 79, 80, 81, 82, 83, 84, 85, 86, 87, 88, 89, 92, 3506, 3507, 3508, 3509, 3510, 3511, 5038, 5039, 5040, 5041, 5042]\n"
     ]
    },
    {
     "name": "stderr",
     "output_type": "stream",
     "text": [
      "fontTools.subset - INFO     Retaining 52 glyphs\n"
     ]
    },
    {
     "name": "stderr",
     "output_type": "stream",
     "text": [
      "fontTools.subset - INFO     head subsetting not needed\n"
     ]
    },
    {
     "name": "stderr",
     "output_type": "stream",
     "text": [
      "fontTools.subset - INFO     hhea subsetting not needed\n"
     ]
    },
    {
     "name": "stderr",
     "output_type": "stream",
     "text": [
      "fontTools.subset - INFO     maxp subsetting not needed\n"
     ]
    },
    {
     "name": "stderr",
     "output_type": "stream",
     "text": [
      "fontTools.subset - INFO     OS/2 subsetting not needed\n"
     ]
    },
    {
     "name": "stderr",
     "output_type": "stream",
     "text": [
      "fontTools.subset - INFO     hmtx subsetted\n"
     ]
    },
    {
     "name": "stderr",
     "output_type": "stream",
     "text": [
      "fontTools.subset - INFO     cmap subsetted\n"
     ]
    },
    {
     "name": "stderr",
     "output_type": "stream",
     "text": [
      "fontTools.subset - INFO     fpgm subsetting not needed\n"
     ]
    },
    {
     "name": "stderr",
     "output_type": "stream",
     "text": [
      "fontTools.subset - INFO     prep subsetting not needed\n"
     ]
    },
    {
     "name": "stderr",
     "output_type": "stream",
     "text": [
      "fontTools.subset - INFO     cvt  subsetting not needed\n"
     ]
    },
    {
     "name": "stderr",
     "output_type": "stream",
     "text": [
      "fontTools.subset - INFO     loca subsetting not needed\n"
     ]
    },
    {
     "name": "stderr",
     "output_type": "stream",
     "text": [
      "fontTools.subset - INFO     post subsetted\n"
     ]
    },
    {
     "name": "stderr",
     "output_type": "stream",
     "text": [
      "fontTools.subset - INFO     gasp subsetting not needed\n"
     ]
    },
    {
     "name": "stderr",
     "output_type": "stream",
     "text": [
      "fontTools.subset - INFO     MATH subsetted\n"
     ]
    },
    {
     "name": "stderr",
     "output_type": "stream",
     "text": [
      "fontTools.subset - INFO     GDEF subsetted\n"
     ]
    },
    {
     "name": "stderr",
     "output_type": "stream",
     "text": [
      "fontTools.subset - INFO     GPOS subsetted\n"
     ]
    },
    {
     "name": "stderr",
     "output_type": "stream",
     "text": [
      "fontTools.subset - INFO     GSUB subsetted\n"
     ]
    },
    {
     "name": "stderr",
     "output_type": "stream",
     "text": [
      "fontTools.subset - INFO     name subsetting not needed\n"
     ]
    },
    {
     "name": "stderr",
     "output_type": "stream",
     "text": [
      "fontTools.subset - INFO     glyf subsetted\n"
     ]
    },
    {
     "name": "stderr",
     "output_type": "stream",
     "text": [
      "fontTools.subset - INFO     head pruned\n"
     ]
    },
    {
     "name": "stderr",
     "output_type": "stream",
     "text": [
      "fontTools.subset - INFO     OS/2 Unicode ranges pruned: [0]\n"
     ]
    },
    {
     "name": "stderr",
     "output_type": "stream",
     "text": [
      "fontTools.subset - INFO     OS/2 CodePage ranges pruned: [0]\n"
     ]
    },
    {
     "name": "stderr",
     "output_type": "stream",
     "text": [
      "fontTools.subset - INFO     glyf pruned\n"
     ]
    },
    {
     "name": "stderr",
     "output_type": "stream",
     "text": [
      "fontTools.subset - INFO     GDEF pruned\n"
     ]
    },
    {
     "name": "stderr",
     "output_type": "stream",
     "text": [
      "fontTools.subset - INFO     GPOS pruned\n"
     ]
    },
    {
     "name": "stderr",
     "output_type": "stream",
     "text": [
      "fontTools.subset - INFO     GSUB pruned\n"
     ]
    },
    {
     "name": "stderr",
     "output_type": "stream",
     "text": [
      "fontTools.subset - INFO     name pruned\n"
     ]
    },
    {
     "name": "stderr",
     "output_type": "stream",
     "text": [
      "vaep.plotting - INFO     Saved Figures to runs/alzheimer_study/diff_analysis/AD/PI_vs_QRILC/diff_analysis_comparision_2_QRILC\n"
     ]
    },
    {
     "data": {
      "image/png": "[encoded data removed]",
      "text/plain": [
       "<Figure size 367.5x367.5 with 1 Axes>"
      ]
     },
     "metadata": {},
     "output_type": "display_data"
    }
   ],
   "source": [
    "figsize = (2.5, 2.5)\n",
    "fig, ax = plt.subplots(figsize=figsize)\n",
    "ax = sns.scatterplot(data=to_plot,\n",
    "                     x=to_plot.columns[0],\n",
    "                     y=to_plot.columns[1],\n",
    "                     size='frequency',\n",
    "                     s=size,\n",
    "                     sizes=(5, 20),\n",
    "                     hue='Differential Analysis Comparison')\n",
    "_ = ax.legend(fontsize=fontsize,\n",
    "              title_fontsize=fontsize,\n",
    "              markerscale=0.6,\n",
    "              title='',\n",
    "              )\n",
    "ax.set_xlabel(f\"qvalue for {x_col}\")\n",
    "ax.set_ylabel(f\"qvalue for {y_col}\")\n",
    "ax.hlines(0.05, 0, 1, color='grey', linestyles='dotted')\n",
    "ax.vlines(0.05, 0, 1, color='grey', linestyles='dotted')\n",
    "sns.move_legend(ax, \"upper right\")\n",
    "files_out[f'diff_analysis_comparision_2_{args.model_key}'] = (\n",
    "    args.out_folder / f'diff_analysis_comparision_2_{args.model_key}')\n",
    "vaep.savefig(\n",
    "    fig, name=files_out[f'diff_analysis_comparision_2_{args.model_key}'])"
   ]
  },
  {
   "cell_type": "markdown",
   "id": "1fee3a21-d8b3-40c6-aea2-4774dfe855ca",
   "metadata": {
    "papermill": {
     "duration": 0.086894,
     "end_time": "2024-05-27T15:51:17.530289",
     "exception": false,
     "start_time": "2024-05-27T15:51:17.443395",
     "status": "completed"
    },
    "tags": []
   },
   "source": [
    "## Only features contained in model\n",
    "- this block exist due to a specific part in the ALD analysis of the paper"
   ]
  },
  {
   "cell_type": "code",
   "execution_count": 28,
   "id": "c4e23a01-fd37-4496-a518-445a9ef38db1",
   "metadata": {
    "execution": {
     "iopub.execute_input": "2024-05-27T15:51:17.697383Z",
     "iopub.status.busy": "2024-05-27T15:51:17.696498Z",
     "iopub.status.idle": "2024-05-27T15:51:17.703065Z",
     "shell.execute_reply": "2024-05-27T15:51:17.702356Z"
    },
    "papermill": {
     "duration": 0.084634,
     "end_time": "2024-05-27T15:51:17.707707",
     "exception": false,
     "start_time": "2024-05-27T15:51:17.623073",
     "status": "completed"
    },
    "tags": []
   },
   "outputs": [],
   "source": [
    "scores_model_only = scores.reset_index(level=-1, drop=True)\n",
    "_diff = scores_model_only.index.difference(scores_common.index)\n",
    "if not _diff.empty:\n",
    "    scores_model_only = (scores_model_only\n",
    "                         .loc[\n",
    "                             _diff,\n",
    "                             args.model_key]\n",
    "                         .sort_values(by='qvalue', ascending=True)\n",
    "                         .join(freq_feat)\n",
    "                         )\n",
    "    display(scores_model_only)\n",
    "else:\n",
    "    scores_model_only = None"
   ]
  },
  {
   "cell_type": "code",
   "execution_count": 29,
   "id": "f668bef4-e2b9-46fb-828f-e7c6a0e23627",
   "metadata": {
    "execution": {
     "iopub.execute_input": "2024-05-27T15:51:17.830953Z",
     "iopub.status.busy": "2024-05-27T15:51:17.830590Z",
     "iopub.status.idle": "2024-05-27T15:51:17.835750Z",
     "shell.execute_reply": "2024-05-27T15:51:17.835001Z"
    },
    "papermill": {
     "duration": 0.069314,
     "end_time": "2024-05-27T15:51:17.843727",
     "exception": false,
     "start_time": "2024-05-27T15:51:17.774413",
     "status": "completed"
    },
    "tags": []
   },
   "outputs": [],
   "source": [
    "if not _diff.empty:\n",
    "    scores_model_only.to_excel(writer, 'only_model', **writer_args)\n",
    "    display(scores_model_only.rejected.value_counts())\n",
    "    scores_model_only_rejected = scores_model_only.loc[scores_model_only.rejected]\n",
    "    scores_model_only_rejected.to_excel(\n",
    "        writer, 'only_model_rejected', **writer_args)"
   ]
  },
  {
   "cell_type": "markdown",
   "id": "6868984c-1ebf-4183-bebe-35a48b92e479",
   "metadata": {
    "papermill": {
     "duration": 0.048427,
     "end_time": "2024-05-27T15:51:17.961249",
     "exception": false,
     "start_time": "2024-05-27T15:51:17.912822",
     "status": "completed"
    },
    "tags": []
   },
   "source": [
    "## DISEASES DB lookup"
   ]
  },
  {
   "cell_type": "code",
   "execution_count": 30,
   "id": "d93a9242-0ef4-4fc7-bd98-226a93639f58",
   "metadata": {
    "execution": {
     "iopub.execute_input": "2024-05-27T15:51:18.085066Z",
     "iopub.status.busy": "2024-05-27T15:51:18.084684Z",
     "iopub.status.idle": "2024-05-27T15:51:21.070536Z",
     "shell.execute_reply": "2024-05-27T15:51:21.069827Z"
    },
    "papermill": {
     "duration": 3.049067,
     "end_time": "2024-05-27T15:51:21.072467",
     "exception": false,
     "start_time": "2024-05-27T15:51:18.023400",
     "status": "completed"
    },
    "tags": []
   },
   "outputs": [
    {
     "name": "stderr",
     "output_type": "stream",
     "text": [
      "vaep.databases.diseases - WARNING  There are more associations available\n"
     ]
    },
    {
     "data": {
      "text/html": [
       "<div>\n",
       "<style scoped>\n",
       "    .dataframe tbody tr th:only-of-type {\n",
       "        vertical-align: middle;\n",
       "    }\n",
       "\n",
       "    .dataframe tbody tr th {\n",
       "        vertical-align: top;\n",
       "    }\n",
       "\n",
       "    .dataframe thead th {\n",
       "        text-align: right;\n",
       "    }\n",
       "</style>\n",
       "<table border=\"1\" class=\"dataframe\">\n",
       "  <thead>\n",
       "    <tr style=\"text-align: right;\">\n",
       "      <th></th>\n",
       "      <th>ENSP</th>\n",
       "      <th>score</th>\n",
       "    </tr>\n",
       "    <tr>\n",
       "      <th>None</th>\n",
       "      <th></th>\n",
       "      <th></th>\n",
       "    </tr>\n",
       "  </thead>\n",
       "  <tbody>\n",
       "    <tr>\n",
       "      <th>PSEN2</th>\n",
       "      <td>ENSP00000355747</td>\n",
       "      <td>5.000</td>\n",
       "    </tr>\n",
       "    <tr>\n",
       "      <th>PSEN1</th>\n",
       "      <td>ENSP00000326366</td>\n",
       "      <td>5.000</td>\n",
       "    </tr>\n",
       "    <tr>\n",
       "      <th>APOE</th>\n",
       "      <td>ENSP00000252486</td>\n",
       "      <td>5.000</td>\n",
       "    </tr>\n",
       "    <tr>\n",
       "      <th>APP</th>\n",
       "      <td>ENSP00000284981</td>\n",
       "      <td>5.000</td>\n",
       "    </tr>\n",
       "    <tr>\n",
       "      <th>MAPT</th>\n",
       "      <td>ENSP00000340820</td>\n",
       "      <td>4.800</td>\n",
       "    </tr>\n",
       "    <tr>\n",
       "      <th>...</th>\n",
       "      <td>...</td>\n",
       "      <td>...</td>\n",
       "    </tr>\n",
       "    <tr>\n",
       "      <th>ZBTB22</th>\n",
       "      <td>ENSP00000407545</td>\n",
       "      <td>0.683</td>\n",
       "    </tr>\n",
       "    <tr>\n",
       "      <th>HMGN2</th>\n",
       "      <td>ENSP00000355228</td>\n",
       "      <td>0.683</td>\n",
       "    </tr>\n",
       "    <tr>\n",
       "      <th>PPP1R13B</th>\n",
       "      <td>ENSP00000202556</td>\n",
       "      <td>0.683</td>\n",
       "    </tr>\n",
       "    <tr>\n",
       "      <th>PREB</th>\n",
       "      <td>ENSP00000260643</td>\n",
       "      <td>0.683</td>\n",
       "    </tr>\n",
       "    <tr>\n",
       "      <th>CELF5</th>\n",
       "      <td>ENSP00000292672</td>\n",
       "      <td>0.683</td>\n",
       "    </tr>\n",
       "  </tbody>\n",
       "</table>\n",
       "<p>10000 rows × 2 columns</p>\n",
       "</div>"
      ],
      "text/plain": [
       "                     ENSP  score\n",
       "None                            \n",
       "PSEN2     ENSP00000355747  5.000\n",
       "PSEN1     ENSP00000326366  5.000\n",
       "APOE      ENSP00000252486  5.000\n",
       "APP       ENSP00000284981  5.000\n",
       "MAPT      ENSP00000340820  4.800\n",
       "...                   ...    ...\n",
       "ZBTB22    ENSP00000407545  0.683\n",
       "HMGN2     ENSP00000355228  0.683\n",
       "PPP1R13B  ENSP00000202556  0.683\n",
       "PREB      ENSP00000260643  0.683\n",
       "CELF5     ENSP00000292672  0.683\n",
       "\n",
       "[10000 rows x 2 columns]"
      ]
     },
     "execution_count": 30,
     "metadata": {},
     "output_type": "execute_result"
    }
   ],
   "source": [
    "data = vaep.databases.diseases.get_disease_association(\n",
    "    doid=args.disease_ontology, limit=10000)\n",
    "data = pd.DataFrame.from_dict(data, orient='index').rename_axis('ENSP', axis=0)\n",
    "data = data.rename(columns={'name': args.annotaitons_gene_col}).reset_index(\n",
    ").set_index(args.annotaitons_gene_col)\n",
    "data"
   ]
  },
  {
   "cell_type": "markdown",
   "id": "efe22443-2613-46ad-83c2-41048e13dd57",
   "metadata": {
    "papermill": {
     "duration": 0.028369,
     "end_time": "2024-05-27T15:51:21.131928",
     "exception": false,
     "start_time": "2024-05-27T15:51:21.103559",
     "status": "completed"
    },
    "tags": []
   },
   "source": [
    "## Shared features\n",
    "ToDo: new script -> DISEASES DB lookup"
   ]
  },
  {
   "cell_type": "code",
   "execution_count": null,
   "id": "5c26415e",
   "metadata": {
    "papermill": {
     "duration": 0.050364,
     "end_time": "2024-05-27T15:51:21.211059",
     "exception": false,
     "start_time": "2024-05-27T15:51:21.160695",
     "status": "completed"
    },
    "tags": []
   },
   "outputs": [],
   "source": []
  },
  {
   "cell_type": "code",
   "execution_count": 31,
   "id": "b68b43df",
   "metadata": {
    "execution": {
     "iopub.execute_input": "2024-05-27T15:51:21.387049Z",
     "iopub.status.busy": "2024-05-27T15:51:21.386680Z",
     "iopub.status.idle": "2024-05-27T15:51:21.393772Z",
     "shell.execute_reply": "2024-05-27T15:51:21.392805Z"
    },
    "papermill": {
     "duration": 0.088725,
     "end_time": "2024-05-27T15:51:21.398834",
     "exception": true,
     "start_time": "2024-05-27T15:51:21.310109",
     "status": "failed"
    },
    "tags": []
   },
   "outputs": [
    {
     "name": "stderr",
     "output_type": "stream",
     "text": [
      "root - INFO     No gene annotation in scores index:  ['protein groups', 'Source'] Exiting.\n"
     ]
    },
    {
     "ename": "SystemExit",
     "evalue": "0",
     "output_type": "error",
     "traceback": [
      "An exception has occurred, use %tb to see the full traceback.\n",
      "\u001b[0;31mSystemExit\u001b[0m\u001b[0;31m:\u001b[0m 0\n"
     ]
    }
   ],
   "source": [
    "feat_name = scores.index.names[0]  # first index level is feature name\n",
    "if args.annotaitons_gene_col in scores.index.names:\n",
    "    logger.info(f\"Found gene annotation in scores index:  {scores.index.names}\")\n",
    "else:\n",
    "    logger.info(f\"No gene annotation in scores index:  {scores.index.names}\"\n",
    "                \" Exiting.\")\n",
    "    import sys\n",
    "    sys.exit(0)"
   ]
  },
  {
   "cell_type": "code",
   "execution_count": null,
   "id": "f8d4a74d-5a9b-4d9b-9345-4288bb23e19f",
   "metadata": {
    "papermill": {
     "duration": null,
     "end_time": null,
     "exception": null,
     "start_time": null,
     "status": "pending"
    },
    "tags": []
   },
   "outputs": [],
   "source": [
    "gene_to_PG = (scores.droplevel(\n",
    "    list(set(scores.index.names) - {feat_name, args.annotaitons_gene_col})\n",
    ")\n",
    "    .index\n",
    "    .to_frame()\n",
    "    .reset_index(drop=True)\n",
    "    .set_index(args.annotaitons_gene_col)\n",
    ")\n",
    "gene_to_PG.head()"
   ]
  },
  {
   "cell_type": "code",
   "execution_count": null,
   "id": "d9e76def-b48a-458d-a90b-765e6e70f7a4",
   "metadata": {
    "papermill": {
     "duration": null,
     "end_time": null,
     "exception": null,
     "start_time": null,
     "status": "pending"
    },
    "tags": []
   },
   "outputs": [],
   "source": [
    "disease_associations_all = data.join(\n",
    "    gene_to_PG).dropna().reset_index().set_index(feat_name).join(annotations)\n",
    "disease_associations_all"
   ]
  },
  {
   "cell_type": "markdown",
   "id": "217972a3-ba4a-4f28-ab8f-25dc0f5e9ede",
   "metadata": {
    "papermill": {
     "duration": null,
     "end_time": null,
     "exception": null,
     "start_time": null,
     "status": "pending"
    },
    "tags": []
   },
   "source": [
    "## only by model"
   ]
  },
  {
   "cell_type": "code",
   "execution_count": null,
   "id": "8e9d6944-87ba-4c41-af14-fb5ed93262f0",
   "metadata": {
    "papermill": {
     "duration": null,
     "end_time": null,
     "exception": null,
     "start_time": null,
     "status": "pending"
    },
    "tags": []
   },
   "outputs": [],
   "source": [
    "idx = disease_associations_all.index.intersection(scores_model_only.index)\n",
    "disease_assocications_new = disease_associations_all.loc[idx].sort_values(\n",
    "    'score', ascending=False)\n",
    "disease_assocications_new.head(20)"
   ]
  },
  {
   "cell_type": "code",
   "execution_count": null,
   "id": "ceefc483-b889-4bab-b207-c8d5fd97fa4a",
   "metadata": {
    "papermill": {
     "duration": null,
     "end_time": null,
     "exception": null,
     "start_time": null,
     "status": "pending"
    },
    "tags": []
   },
   "outputs": [],
   "source": [
    "mask = disease_assocications_new.loc[idx, 'score'] >= 2.0\n",
    "disease_assocications_new.loc[idx].loc[mask]"
   ]
  },
  {
   "cell_type": "markdown",
   "id": "f85eede2-7b61-4285-ba8c-745f77f6ab22",
   "metadata": {
    "papermill": {
     "duration": null,
     "end_time": null,
     "exception": null,
     "start_time": null,
     "status": "pending"
    },
    "tags": []
   },
   "source": [
    "## Only by model which were significant"
   ]
  },
  {
   "cell_type": "code",
   "execution_count": null,
   "id": "4644759b-8cc2-4f99-a16c-16419cfb915c",
   "metadata": {
    "papermill": {
     "duration": null,
     "end_time": null,
     "exception": null,
     "start_time": null,
     "status": "pending"
    },
    "tags": []
   },
   "outputs": [],
   "source": [
    "idx = disease_associations_all.index.intersection(\n",
    "    scores_model_only_rejected.index)\n",
    "disease_assocications_new_rejected = disease_associations_all.loc[idx].sort_values(\n",
    "    'score', ascending=False)\n",
    "disease_assocications_new_rejected.head(20)"
   ]
  },
  {
   "cell_type": "code",
   "execution_count": null,
   "id": "365d8641-97a8-464f-b69b-270af9ae6e2d",
   "metadata": {
    "papermill": {
     "duration": null,
     "end_time": null,
     "exception": null,
     "start_time": null,
     "status": "pending"
    },
    "tags": []
   },
   "outputs": [],
   "source": [
    "mask = disease_assocications_new_rejected.loc[idx, 'score'] >= 2.0\n",
    "disease_assocications_new_rejected.loc[idx].loc[mask]"
   ]
  },
  {
   "cell_type": "markdown",
   "id": "4f22614b-e058-4e35-b8a9-141c291a93bc",
   "metadata": {
    "papermill": {
     "duration": null,
     "end_time": null,
     "exception": null,
     "start_time": null,
     "status": "pending"
    },
    "tags": []
   },
   "source": [
    "## Shared which are only significant for by model"
   ]
  },
  {
   "cell_type": "code",
   "execution_count": null,
   "id": "82eb2ba8-4fe7-431d-8095-5be43f7791b7",
   "metadata": {
    "papermill": {
     "duration": null,
     "end_time": null,
     "exception": null,
     "start_time": null,
     "status": "pending"
    },
    "tags": []
   },
   "outputs": [],
   "source": [
    "mask = (scores_common[(str(args.model_key), 'rejected')] & mask_different)\n",
    "mask.sum()"
   ]
  },
  {
   "cell_type": "code",
   "execution_count": null,
   "id": "6416d494-5f3e-4cf4-b766-b1f95e40ae1c",
   "metadata": {
    "papermill": {
     "duration": null,
     "end_time": null,
     "exception": null,
     "start_time": null,
     "status": "pending"
    },
    "tags": []
   },
   "outputs": [],
   "source": [
    "idx = disease_associations_all.index.intersection(mask.index[mask])\n",
    "disease_assocications_shared_rejected_by_model = (disease_associations_all.loc[idx].sort_values(\n",
    "    'score', ascending=False))\n",
    "disease_assocications_shared_rejected_by_model.head(20)"
   ]
  },
  {
   "cell_type": "code",
   "execution_count": null,
   "id": "10899e28-4aee-4d44-a542-e45be6699a1b",
   "metadata": {
    "papermill": {
     "duration": null,
     "end_time": null,
     "exception": null,
     "start_time": null,
     "status": "pending"
    },
    "tags": []
   },
   "outputs": [],
   "source": [
    "mask = disease_assocications_shared_rejected_by_model.loc[idx, 'score'] >= 2.0\n",
    "disease_assocications_shared_rejected_by_model.loc[idx].loc[mask]"
   ]
  },
  {
   "cell_type": "markdown",
   "id": "b6c082ea-7d92-4296-8ec9-d279509142a3",
   "metadata": {
    "papermill": {
     "duration": null,
     "end_time": null,
     "exception": null,
     "start_time": null,
     "status": "pending"
    },
    "tags": []
   },
   "source": [
    "## Only significant by RSN"
   ]
  },
  {
   "cell_type": "code",
   "execution_count": null,
   "id": "c59aae50-6877-47cc-99f6-646862d29121",
   "metadata": {
    "papermill": {
     "duration": null,
     "end_time": null,
     "exception": null,
     "start_time": null,
     "status": "pending"
    },
    "tags": []
   },
   "outputs": [],
   "source": [
    "mask = (scores_common[(str(args.baseline), 'rejected')] & mask_different)\n",
    "mask.sum()"
   ]
  },
  {
   "cell_type": "code",
   "execution_count": null,
   "id": "7780de55-c63b-4028-a6d0-58bce7be81da",
   "metadata": {
    "papermill": {
     "duration": null,
     "end_time": null,
     "exception": null,
     "start_time": null,
     "status": "pending"
    },
    "tags": []
   },
   "outputs": [],
   "source": [
    "idx = disease_associations_all.index.intersection(mask.index[mask])\n",
    "disease_assocications_shared_rejected_by_RSN = (\n",
    "    disease_associations_all\n",
    "    .loc[idx]\n",
    "    .sort_values('score', ascending=False))\n",
    "disease_assocications_shared_rejected_by_RSN.head(20)"
   ]
  },
  {
   "cell_type": "code",
   "execution_count": null,
   "id": "03115c8f-1f20-4b51-a78c-4d7c0317dc33",
   "metadata": {
    "papermill": {
     "duration": null,
     "end_time": null,
     "exception": null,
     "start_time": null,
     "status": "pending"
    },
    "tags": []
   },
   "outputs": [],
   "source": [
    "mask = disease_assocications_shared_rejected_by_RSN.loc[idx, 'score'] >= 2.0\n",
    "disease_assocications_shared_rejected_by_RSN.loc[idx].loc[mask]"
   ]
  },
  {
   "cell_type": "markdown",
   "id": "9d72708d-ad27-435b-b672-7dfe35283601",
   "metadata": {
    "papermill": {
     "duration": null,
     "end_time": null,
     "exception": null,
     "start_time": null,
     "status": "pending"
    },
    "tags": []
   },
   "source": [
    "## Write to excel"
   ]
  },
  {
   "cell_type": "code",
   "execution_count": null,
   "id": "91e7fbb7-69fd-4b4c-9bc2-40e8dd1907b3",
   "metadata": {
    "papermill": {
     "duration": null,
     "end_time": null,
     "exception": null,
     "start_time": null,
     "status": "pending"
    },
    "tags": []
   },
   "outputs": [],
   "source": [
    "disease_associations_all.to_excel(\n",
    "    writer, sheet_name='disease_assoc_all', **writer_args)\n",
    "disease_assocications_new.to_excel(\n",
    "    writer, sheet_name='disease_assoc_new', **writer_args)\n",
    "disease_assocications_new_rejected.to_excel(\n",
    "    writer, sheet_name='disease_assoc_new_rejected', **writer_args)"
   ]
  },
  {
   "cell_type": "markdown",
   "id": "52a42028-7e2d-47d5-be02-52f7ff1f3665",
   "metadata": {
    "papermill": {
     "duration": null,
     "end_time": null,
     "exception": null,
     "start_time": null,
     "status": "pending"
    },
    "tags": []
   },
   "source": [
    "## Outputs"
   ]
  },
  {
   "cell_type": "code",
   "execution_count": null,
   "id": "7f3a7433-3bf1-4168-8f16-eb6d415ef17f",
   "metadata": {
    "papermill": {
     "duration": null,
     "end_time": null,
     "exception": null,
     "start_time": null,
     "status": "pending"
    },
    "tags": []
   },
   "outputs": [],
   "source": [
    "writer.close()"
   ]
  },
  {
   "cell_type": "code",
   "execution_count": null,
   "id": "e59ff592-a399-4490-bf3f-7618abf73feb",
   "metadata": {
    "papermill": {
     "duration": null,
     "end_time": null,
     "exception": null,
     "start_time": null,
     "status": "pending"
    },
    "tags": []
   },
   "outputs": [],
   "source": [
    "files_out"
   ]
  }
 ],
 "metadata": {
  "kernelspec": {
   "display_name": "Python 3",
   "language": "python",
   "name": "python3"
  },
  "language_info": {
   "codemirror_mode": {
    "name": "ipython",
    "version": 3
   },
   "file_extension": ".py",
   "mimetype": "text/x-python",
   "name": "python",
   "nbconvert_exporter": "python",
   "pygments_lexer": "ipython3",
   "version": "3.8.19"
  },
  "papermill": {
   "default_parameters": {},
   "duration": 19.753076,
   "end_time": "2024-05-27T15:51:22.268405",
   "environment_variables": {},
   "exception": true,
   "input_path": "10_2_ald_compare_methods.ipynb",
   "output_path": "runs/alzheimer_study/diff_analysis/AD/PI_vs_QRILC/10_2_ald_compare_methods.ipynb",
   "parameters": {
    "annotaitons_gene_col": "None",
    "baseline": "PI",
    "disease_ontology": 10652,
    "folder_experiment": "runs/alzheimer_study",
    "model_key": "QRILC",
    "out_folder": "diff_analysis",
    "target": "AD"
   },
   "start_time": "2024-05-27T15:51:02.515329",
   "version": "2.6.0"
  }
 },
 "nbformat": 4,
 "nbformat_minor": 5
}