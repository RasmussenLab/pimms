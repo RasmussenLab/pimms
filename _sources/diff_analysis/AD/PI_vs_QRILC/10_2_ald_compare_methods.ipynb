{
 "cells": [
  {
   "cell_type": "markdown",
   "id": "9acfeaca-5f8c-42f3-9a8e-83ed737eb35c",
   "metadata": {
    "papermill": {
     "duration": 0.022772,
     "end_time": "2025-01-17T13:34:32.451975",
     "exception": false,
     "start_time": "2025-01-17T13:34:32.429203",
     "status": "completed"
    },
    "tags": []
   },
   "source": [
    "# Compare outcomes from differential analysis based on different imputation methods\n",
    "\n",
    "- load scores based on `10_1_ald_diff_analysis`"
   ]
  },
  {
   "cell_type": "code",
   "execution_count": 1,
   "id": "eec6f931-c04d-428c-b2b1-0424c50e6cd2",
   "metadata": {
    "execution": {
     "iopub.execute_input": "2025-01-17T13:34:32.495301Z",
     "iopub.status.busy": "2025-01-17T13:34:32.494991Z",
     "iopub.status.idle": "2025-01-17T13:34:34.490653Z",
     "shell.execute_reply": "2025-01-17T13:34:34.490076Z"
    },
    "papermill": {
     "duration": 2.014822,
     "end_time": "2025-01-17T13:34:34.492275",
     "exception": false,
     "start_time": "2025-01-17T13:34:32.477453",
     "status": "completed"
    },
    "tags": [
     "hide-input"
    ]
   },
   "outputs": [],
   "source": [
    "import logging\n",
    "from pathlib import Path\n",
    "\n",
    "import matplotlib.pyplot as plt\n",
    "import pandas as pd\n",
    "import seaborn as sns\n",
    "from IPython.display import display\n",
    "\n",
    "import pimmslearn\n",
    "import pimmslearn.databases.diseases\n",
    "\n",
    "logger = pimmslearn.logging.setup_nb_logger()\n",
    "\n",
    "plt.rcParams['figure.figsize'] = (2, 2)\n",
    "fontsize = 5\n",
    "pimmslearn.plotting.make_large_descriptors(fontsize)\n",
    "logging.getLogger('fontTools').setLevel(logging.ERROR)\n",
    "\n",
    "# catch passed parameters\n",
    "args = None\n",
    "args = dict(globals()).keys()"
   ]
  },
  {
   "cell_type": "markdown",
   "id": "85f5f5d5",
   "metadata": {
    "papermill": {
     "duration": 0.008878,
     "end_time": "2025-01-17T13:34:34.511326",
     "exception": false,
     "start_time": "2025-01-17T13:34:34.502448",
     "status": "completed"
    },
    "tags": []
   },
   "source": [
    "## Parameters\n",
    "Default and set parameters for the notebook."
   ]
  },
  {
   "cell_type": "code",
   "execution_count": 2,
   "id": "f4bf65da-0569-4a21-ba20-9cae7d3679e7",
   "metadata": {
    "execution": {
     "iopub.execute_input": "2025-01-17T13:34:34.530651Z",
     "iopub.status.busy": "2025-01-17T13:34:34.530098Z",
     "iopub.status.idle": "2025-01-17T13:34:34.536935Z",
     "shell.execute_reply": "2025-01-17T13:34:34.536448Z"
    },
    "papermill": {
     "duration": 0.0177,
     "end_time": "2025-01-17T13:34:34.538035",
     "exception": false,
     "start_time": "2025-01-17T13:34:34.520335",
     "status": "completed"
    },
    "tags": [
     "parameters"
    ]
   },
   "outputs": [],
   "source": [
    "folder_experiment = 'runs/appl_ald_data/plasma/proteinGroups'\n",
    "\n",
    "target = 'kleiner'\n",
    "model_key = 'VAE'\n",
    "baseline = 'RSN'\n",
    "out_folder = 'diff_analysis'\n",
    "selected_statistics = ['p-unc', '-Log10 pvalue', 'qvalue', 'rejected']\n",
    "\n",
    "disease_ontology = 5082  # code from https://disease-ontology.org/\n",
    "# split diseases notebook? Query gene names for proteins in file from uniprot?\n",
    "annotaitons_gene_col = 'PG.Genes'"
   ]
  },
  {
   "cell_type": "code",
   "execution_count": 3,
   "id": "7c9c8f3f",
   "metadata": {
    "execution": {
     "iopub.execute_input": "2025-01-17T13:34:34.557538Z",
     "iopub.status.busy": "2025-01-17T13:34:34.557259Z",
     "iopub.status.idle": "2025-01-17T13:34:34.562121Z",
     "shell.execute_reply": "2025-01-17T13:34:34.561138Z"
    },
    "papermill": {
     "duration": 0.015525,
     "end_time": "2025-01-17T13:34:34.563211",
     "exception": false,
     "start_time": "2025-01-17T13:34:34.547686",
     "status": "completed"
    },
    "tags": [
     "injected-parameters"
    ]
   },
   "outputs": [],
   "source": [
    "# Parameters\n",
    "disease_ontology = 10652\n",
    "folder_experiment = \"runs/alzheimer_study\"\n",
    "target = \"AD\"\n",
    "baseline = \"PI\"\n",
    "model_key = \"QRILC\"\n",
    "out_folder = \"diff_analysis\"\n",
    "annotaitons_gene_col = \"None\"\n"
   ]
  },
  {
   "cell_type": "markdown",
   "id": "22c645fc-c7eb-4c69-a7aa-084fc733258f",
   "metadata": {
    "papermill": {
     "duration": 0.011034,
     "end_time": "2025-01-17T13:34:34.585105",
     "exception": false,
     "start_time": "2025-01-17T13:34:34.574071",
     "status": "completed"
    },
    "tags": []
   },
   "source": [
    "Add set parameters to configuration"
   ]
  },
  {
   "cell_type": "code",
   "execution_count": 4,
   "id": "978876d0-b3cc-4847-8eab-dc0b89ddbbcd",
   "metadata": {
    "execution": {
     "iopub.execute_input": "2025-01-17T13:34:34.608814Z",
     "iopub.status.busy": "2025-01-17T13:34:34.608520Z",
     "iopub.status.idle": "2025-01-17T13:34:34.633062Z",
     "shell.execute_reply": "2025-01-17T13:34:34.632489Z"
    },
    "papermill": {
     "duration": 0.037811,
     "end_time": "2025-01-17T13:34:34.634242",
     "exception": false,
     "start_time": "2025-01-17T13:34:34.596431",
     "status": "completed"
    },
    "tags": [
     "hide-input"
    ]
   },
   "outputs": [
    {
     "name": "stderr",
     "output_type": "stream",
     "text": [
      "root - INFO     Removed from global namespace: folder_experiment\n"
     ]
    },
    {
     "name": "stderr",
     "output_type": "stream",
     "text": [
      "root - INFO     Removed from global namespace: target\n"
     ]
    },
    {
     "name": "stderr",
     "output_type": "stream",
     "text": [
      "root - INFO     Removed from global namespace: model_key\n"
     ]
    },
    {
     "name": "stderr",
     "output_type": "stream",
     "text": [
      "root - INFO     Removed from global namespace: baseline\n"
     ]
    },
    {
     "name": "stderr",
     "output_type": "stream",
     "text": [
      "root - INFO     Removed from global namespace: out_folder\n"
     ]
    },
    {
     "name": "stderr",
     "output_type": "stream",
     "text": [
      "root - INFO     Removed from global namespace: selected_statistics\n"
     ]
    },
    {
     "name": "stderr",
     "output_type": "stream",
     "text": [
      "root - INFO     Removed from global namespace: disease_ontology\n"
     ]
    },
    {
     "name": "stderr",
     "output_type": "stream",
     "text": [
      "root - INFO     Removed from global namespace: annotaitons_gene_col\n"
     ]
    },
    {
     "name": "stderr",
     "output_type": "stream",
     "text": [
      "root - INFO     Already set attribute: folder_experiment has value runs/alzheimer_study\n"
     ]
    },
    {
     "name": "stderr",
     "output_type": "stream",
     "text": [
      "root - INFO     Already set attribute: out_folder has value diff_analysis\n"
     ]
    },
    {
     "data": {
      "text/plain": [
       "{'annotaitons_gene_col': 'None',\n",
       " 'baseline': 'PI',\n",
       " 'data': PosixPath('runs/alzheimer_study/data'),\n",
       " 'disease_ontology': 10652,\n",
       " 'folder_experiment': PosixPath('runs/alzheimer_study'),\n",
       " 'freq_features_observed': PosixPath('runs/alzheimer_study/freq_features_observed.csv'),\n",
       " 'model_key': 'QRILC',\n",
       " 'out_figures': PosixPath('runs/alzheimer_study/figures'),\n",
       " 'out_folder': PosixPath('runs/alzheimer_study/diff_analysis/AD/PI_vs_QRILC'),\n",
       " 'out_metrics': PosixPath('runs/alzheimer_study'),\n",
       " 'out_models': PosixPath('runs/alzheimer_study'),\n",
       " 'out_preds': PosixPath('runs/alzheimer_study/preds'),\n",
       " 'scores_folder': PosixPath('runs/alzheimer_study/diff_analysis/AD/scores'),\n",
       " 'selected_statistics': ['p-unc', '-Log10 pvalue', 'qvalue', 'rejected'],\n",
       " 'target': 'AD'}"
      ]
     },
     "execution_count": 4,
     "metadata": {},
     "output_type": "execute_result"
    }
   ],
   "source": [
    "params = pimmslearn.nb.get_params(args, globals=globals())\n",
    "args = pimmslearn.nb.Config()\n",
    "args.folder_experiment = Path(params[\"folder_experiment\"])\n",
    "args = pimmslearn.nb.add_default_paths(args,\n",
    "                                 out_root=(\n",
    "                                     args.folder_experiment\n",
    "                                     / params[\"out_folder\"]\n",
    "                                     / params[\"target\"]\n",
    "                                     / f\"{params['baseline']}_vs_{params['model_key']}\"))\n",
    "args.update_from_dict(params)\n",
    "args.scores_folder = scores_folder = (args.folder_experiment\n",
    "                                      / params[\"out_folder\"]\n",
    "                                      / params[\"target\"]\n",
    "                                      / 'scores')\n",
    "args.freq_features_observed = args.folder_experiment / 'freq_features_observed.csv'\n",
    "args"
   ]
  },
  {
   "cell_type": "markdown",
   "id": "fc184dea",
   "metadata": {
    "papermill": {
     "duration": 0.01194,
     "end_time": "2025-01-17T13:34:34.658995",
     "exception": false,
     "start_time": "2025-01-17T13:34:34.647055",
     "status": "completed"
    },
    "tags": []
   },
   "source": [
    "### Excel file for exports"
   ]
  },
  {
   "cell_type": "code",
   "execution_count": 5,
   "id": "a8016d79-e41a-40a2-bcbf-e11711c33b7d",
   "metadata": {
    "execution": {
     "iopub.execute_input": "2025-01-17T13:34:34.683865Z",
     "iopub.status.busy": "2025-01-17T13:34:34.683584Z",
     "iopub.status.idle": "2025-01-17T13:34:34.790534Z",
     "shell.execute_reply": "2025-01-17T13:34:34.789936Z"
    },
    "papermill": {
     "duration": 0.120817,
     "end_time": "2025-01-17T13:34:34.791820",
     "exception": false,
     "start_time": "2025-01-17T13:34:34.671003",
     "status": "completed"
    },
    "tags": []
   },
   "outputs": [
    {
     "name": "stderr",
     "output_type": "stream",
     "text": [
      "root - INFO     Writing to excel file: runs/alzheimer_study/diff_analysis/AD/PI_vs_QRILC/diff_analysis_compare_methods.xlsx\n"
     ]
    }
   ],
   "source": [
    "files_out = dict()\n",
    "writer_args = dict(float_format='%.3f')\n",
    "\n",
    "fname = args.out_folder / 'diff_analysis_compare_methods.xlsx'\n",
    "files_out[fname.name] = fname\n",
    "writer = pd.ExcelWriter(fname)\n",
    "logger.info(\"Writing to excel file: %s\", fname)"
   ]
  },
  {
   "cell_type": "markdown",
   "id": "770d1f76-e86f-4ae3-9d7b-ceef9b9e9a22",
   "metadata": {
    "papermill": {
     "duration": 0.012255,
     "end_time": "2025-01-17T13:34:34.817337",
     "exception": false,
     "start_time": "2025-01-17T13:34:34.805082",
     "status": "completed"
    },
    "tags": []
   },
   "source": [
    "## Load scores"
   ]
  },
  {
   "cell_type": "markdown",
   "id": "6b108869",
   "metadata": {
    "papermill": {
     "duration": 0.010445,
     "end_time": "2025-01-17T13:34:34.848057",
     "exception": false,
     "start_time": "2025-01-17T13:34:34.837612",
     "status": "completed"
    },
    "tags": []
   },
   "source": [
    "### Load baseline model scores\n",
    "Show all statistics, later use selected statistics"
   ]
  },
  {
   "cell_type": "code",
   "execution_count": 6,
   "id": "97221134-5f61-4158-bfc5-ea30077140b8",
   "metadata": {
    "execution": {
     "iopub.execute_input": "2025-01-17T13:34:34.873149Z",
     "iopub.status.busy": "2025-01-17T13:34:34.872853Z",
     "iopub.status.idle": "2025-01-17T13:34:34.895957Z",
     "shell.execute_reply": "2025-01-17T13:34:34.895431Z"
    },
    "papermill": {
     "duration": 0.037703,
     "end_time": "2025-01-17T13:34:34.897460",
     "exception": false,
     "start_time": "2025-01-17T13:34:34.859757",
     "status": "completed"
    },
    "tags": [
     "hide-input"
    ]
   },
   "outputs": [
    {
     "data": {
      "text/html": [
       "<div>\n",
       "<style scoped>\n",
       "    .dataframe tbody tr th:only-of-type {\n",
       "        vertical-align: middle;\n",
       "    }\n",
       "\n",
       "    .dataframe tbody tr th {\n",
       "        vertical-align: top;\n",
       "    }\n",
       "\n",
       "    .dataframe thead tr th {\n",
       "        text-align: left;\n",
       "    }\n",
       "\n",
       "    .dataframe thead tr:last-of-type th {\n",
       "        text-align: right;\n",
       "    }\n",
       "</style>\n",
       "<table border=\"1\" class=\"dataframe\">\n",
       "  <thead>\n",
       "    <tr>\n",
       "      <th></th>\n",
       "      <th>model</th>\n",
       "      <th colspan=\"8\" halign=\"left\">PI</th>\n",
       "    </tr>\n",
       "    <tr>\n",
       "      <th></th>\n",
       "      <th>var</th>\n",
       "      <th>SS</th>\n",
       "      <th>DF</th>\n",
       "      <th>F</th>\n",
       "      <th>p-unc</th>\n",
       "      <th>np2</th>\n",
       "      <th>-Log10 pvalue</th>\n",
       "      <th>qvalue</th>\n",
       "      <th>rejected</th>\n",
       "    </tr>\n",
       "    <tr>\n",
       "      <th>protein groups</th>\n",
       "      <th>Source</th>\n",
       "      <th></th>\n",
       "      <th></th>\n",
       "      <th></th>\n",
       "      <th></th>\n",
       "      <th></th>\n",
       "      <th></th>\n",
       "      <th></th>\n",
       "      <th></th>\n",
       "    </tr>\n",
       "  </thead>\n",
       "  <tbody>\n",
       "    <tr>\n",
       "      <th rowspan=\"5\" valign=\"top\">A0A024QZX5;A0A087X1N8;P35237</th>\n",
       "      <th>AD</th>\n",
       "      <td>0.590</td>\n",
       "      <td>1</td>\n",
       "      <td>1.005</td>\n",
       "      <td>0.317</td>\n",
       "      <td>0.005</td>\n",
       "      <td>0.499</td>\n",
       "      <td>0.481</td>\n",
       "      <td>False</td>\n",
       "    </tr>\n",
       "    <tr>\n",
       "      <th>age</th>\n",
       "      <td>0.171</td>\n",
       "      <td>1</td>\n",
       "      <td>0.292</td>\n",
       "      <td>0.590</td>\n",
       "      <td>0.002</td>\n",
       "      <td>0.229</td>\n",
       "      <td>0.722</td>\n",
       "      <td>False</td>\n",
       "    </tr>\n",
       "    <tr>\n",
       "      <th>Kiel</th>\n",
       "      <td>2.467</td>\n",
       "      <td>1</td>\n",
       "      <td>4.201</td>\n",
       "      <td>0.042</td>\n",
       "      <td>0.022</td>\n",
       "      <td>1.379</td>\n",
       "      <td>0.106</td>\n",
       "      <td>False</td>\n",
       "    </tr>\n",
       "    <tr>\n",
       "      <th>Magdeburg</th>\n",
       "      <td>4.963</td>\n",
       "      <td>1</td>\n",
       "      <td>8.450</td>\n",
       "      <td>0.004</td>\n",
       "      <td>0.042</td>\n",
       "      <td>2.389</td>\n",
       "      <td>0.016</td>\n",
       "      <td>True</td>\n",
       "    </tr>\n",
       "    <tr>\n",
       "      <th>Sweden</th>\n",
       "      <td>8.289</td>\n",
       "      <td>1</td>\n",
       "      <td>14.113</td>\n",
       "      <td>0.000</td>\n",
       "      <td>0.069</td>\n",
       "      <td>3.641</td>\n",
       "      <td>0.001</td>\n",
       "      <td>True</td>\n",
       "    </tr>\n",
       "    <tr>\n",
       "      <th>...</th>\n",
       "      <th>...</th>\n",
       "      <td>...</td>\n",
       "      <td>...</td>\n",
       "      <td>...</td>\n",
       "      <td>...</td>\n",
       "      <td>...</td>\n",
       "      <td>...</td>\n",
       "      <td>...</td>\n",
       "      <td>...</td>\n",
       "    </tr>\n",
       "    <tr>\n",
       "      <th rowspan=\"5\" valign=\"top\">S4R3U6</th>\n",
       "      <th>AD</th>\n",
       "      <td>0.019</td>\n",
       "      <td>1</td>\n",
       "      <td>0.016</td>\n",
       "      <td>0.899</td>\n",
       "      <td>0.000</td>\n",
       "      <td>0.046</td>\n",
       "      <td>0.942</td>\n",
       "      <td>False</td>\n",
       "    </tr>\n",
       "    <tr>\n",
       "      <th>age</th>\n",
       "      <td>0.814</td>\n",
       "      <td>1</td>\n",
       "      <td>0.703</td>\n",
       "      <td>0.403</td>\n",
       "      <td>0.004</td>\n",
       "      <td>0.395</td>\n",
       "      <td>0.562</td>\n",
       "      <td>False</td>\n",
       "    </tr>\n",
       "    <tr>\n",
       "      <th>Kiel</th>\n",
       "      <td>0.247</td>\n",
       "      <td>1</td>\n",
       "      <td>0.213</td>\n",
       "      <td>0.645</td>\n",
       "      <td>0.001</td>\n",
       "      <td>0.191</td>\n",
       "      <td>0.767</td>\n",
       "      <td>False</td>\n",
       "    </tr>\n",
       "    <tr>\n",
       "      <th>Magdeburg</th>\n",
       "      <td>4.888</td>\n",
       "      <td>1</td>\n",
       "      <td>4.220</td>\n",
       "      <td>0.041</td>\n",
       "      <td>0.022</td>\n",
       "      <td>1.384</td>\n",
       "      <td>0.105</td>\n",
       "      <td>False</td>\n",
       "    </tr>\n",
       "    <tr>\n",
       "      <th>Sweden</th>\n",
       "      <td>8.213</td>\n",
       "      <td>1</td>\n",
       "      <td>7.091</td>\n",
       "      <td>0.008</td>\n",
       "      <td>0.036</td>\n",
       "      <td>2.075</td>\n",
       "      <td>0.029</td>\n",
       "      <td>True</td>\n",
       "    </tr>\n",
       "  </tbody>\n",
       "</table>\n",
       "<p>7105 rows × 8 columns</p>\n",
       "</div>"
      ],
      "text/plain": [
       "model                                     PI                        \\\n",
       "var                                       SS DF      F p-unc   np2   \n",
       "protein groups               Source                                  \n",
       "A0A024QZX5;A0A087X1N8;P35237 AD        0.590  1  1.005 0.317 0.005   \n",
       "                             age       0.171  1  0.292 0.590 0.002   \n",
       "                             Kiel      2.467  1  4.201 0.042 0.022   \n",
       "                             Magdeburg 4.963  1  8.450 0.004 0.042   \n",
       "                             Sweden    8.289  1 14.113 0.000 0.069   \n",
       "...                                      ... ..    ...   ...   ...   \n",
       "S4R3U6                       AD        0.019  1  0.016 0.899 0.000   \n",
       "                             age       0.814  1  0.703 0.403 0.004   \n",
       "                             Kiel      0.247  1  0.213 0.645 0.001   \n",
       "                             Magdeburg 4.888  1  4.220 0.041 0.022   \n",
       "                             Sweden    8.213  1  7.091 0.008 0.036   \n",
       "\n",
       "model                                                                 \n",
       "var                                    -Log10 pvalue qvalue rejected  \n",
       "protein groups               Source                                   \n",
       "A0A024QZX5;A0A087X1N8;P35237 AD                0.499  0.481    False  \n",
       "                             age               0.229  0.722    False  \n",
       "                             Kiel              1.379  0.106    False  \n",
       "                             Magdeburg         2.389  0.016     True  \n",
       "                             Sweden            3.641  0.001     True  \n",
       "...                                              ...    ...      ...  \n",
       "S4R3U6                       AD                0.046  0.942    False  \n",
       "                             age               0.395  0.562    False  \n",
       "                             Kiel              0.191  0.767    False  \n",
       "                             Magdeburg         1.384  0.105    False  \n",
       "                             Sweden            2.075  0.029     True  \n",
       "\n",
       "[7105 rows x 8 columns]"
      ]
     },
     "execution_count": 6,
     "metadata": {},
     "output_type": "execute_result"
    }
   ],
   "source": [
    "fname = args.scores_folder / f'diff_analysis_scores_{args.baseline}.pkl'\n",
    "scores_baseline = pd.read_pickle(fname)\n",
    "scores_baseline"
   ]
  },
  {
   "cell_type": "markdown",
   "id": "e49a8da2",
   "metadata": {
    "papermill": {
     "duration": 0.026004,
     "end_time": "2025-01-17T13:34:34.952105",
     "exception": false,
     "start_time": "2025-01-17T13:34:34.926101",
     "status": "completed"
    },
    "tags": []
   },
   "source": [
    "### Load selected comparison model scores"
   ]
  },
  {
   "cell_type": "code",
   "execution_count": 7,
   "id": "f0635e4d",
   "metadata": {
    "execution": {
     "iopub.execute_input": "2025-01-17T13:34:35.008619Z",
     "iopub.status.busy": "2025-01-17T13:34:35.008094Z",
     "iopub.status.idle": "2025-01-17T13:34:35.039055Z",
     "shell.execute_reply": "2025-01-17T13:34:35.038449Z"
    },
    "papermill": {
     "duration": 0.059208,
     "end_time": "2025-01-17T13:34:35.040208",
     "exception": false,
     "start_time": "2025-01-17T13:34:34.981000",
     "status": "completed"
    },
    "tags": [
     "hide-input"
    ]
   },
   "outputs": [
    {
     "data": {
      "text/html": [
       "<div>\n",
       "<style scoped>\n",
       "    .dataframe tbody tr th:only-of-type {\n",
       "        vertical-align: middle;\n",
       "    }\n",
       "\n",
       "    .dataframe tbody tr th {\n",
       "        vertical-align: top;\n",
       "    }\n",
       "\n",
       "    .dataframe thead tr th {\n",
       "        text-align: left;\n",
       "    }\n",
       "\n",
       "    .dataframe thead tr:last-of-type th {\n",
       "        text-align: right;\n",
       "    }\n",
       "</style>\n",
       "<table border=\"1\" class=\"dataframe\">\n",
       "  <thead>\n",
       "    <tr>\n",
       "      <th></th>\n",
       "      <th>model</th>\n",
       "      <th colspan=\"8\" halign=\"left\">QRILC</th>\n",
       "    </tr>\n",
       "    <tr>\n",
       "      <th></th>\n",
       "      <th>var</th>\n",
       "      <th>SS</th>\n",
       "      <th>DF</th>\n",
       "      <th>F</th>\n",
       "      <th>p-unc</th>\n",
       "      <th>np2</th>\n",
       "      <th>-Log10 pvalue</th>\n",
       "      <th>qvalue</th>\n",
       "      <th>rejected</th>\n",
       "    </tr>\n",
       "    <tr>\n",
       "      <th>protein groups</th>\n",
       "      <th>Source</th>\n",
       "      <th></th>\n",
       "      <th></th>\n",
       "      <th></th>\n",
       "      <th></th>\n",
       "      <th></th>\n",
       "      <th></th>\n",
       "      <th></th>\n",
       "      <th></th>\n",
       "    </tr>\n",
       "  </thead>\n",
       "  <tbody>\n",
       "    <tr>\n",
       "      <th rowspan=\"5\" valign=\"top\">A0A024QZX5;A0A087X1N8;P35237</th>\n",
       "      <th>AD</th>\n",
       "      <td>0.650</td>\n",
       "      <td>1</td>\n",
       "      <td>4.154</td>\n",
       "      <td>0.043</td>\n",
       "      <td>0.021</td>\n",
       "      <td>1.367</td>\n",
       "      <td>0.100</td>\n",
       "      <td>False</td>\n",
       "    </tr>\n",
       "    <tr>\n",
       "      <th>age</th>\n",
       "      <td>0.025</td>\n",
       "      <td>1</td>\n",
       "      <td>0.158</td>\n",
       "      <td>0.691</td>\n",
       "      <td>0.001</td>\n",
       "      <td>0.160</td>\n",
       "      <td>0.795</td>\n",
       "      <td>False</td>\n",
       "    </tr>\n",
       "    <tr>\n",
       "      <th>Kiel</th>\n",
       "      <td>0.440</td>\n",
       "      <td>1</td>\n",
       "      <td>2.811</td>\n",
       "      <td>0.095</td>\n",
       "      <td>0.015</td>\n",
       "      <td>1.021</td>\n",
       "      <td>0.189</td>\n",
       "      <td>False</td>\n",
       "    </tr>\n",
       "    <tr>\n",
       "      <th>Magdeburg</th>\n",
       "      <td>0.886</td>\n",
       "      <td>1</td>\n",
       "      <td>5.660</td>\n",
       "      <td>0.018</td>\n",
       "      <td>0.029</td>\n",
       "      <td>1.737</td>\n",
       "      <td>0.051</td>\n",
       "      <td>False</td>\n",
       "    </tr>\n",
       "    <tr>\n",
       "      <th>Sweden</th>\n",
       "      <td>2.340</td>\n",
       "      <td>1</td>\n",
       "      <td>14.952</td>\n",
       "      <td>0.000</td>\n",
       "      <td>0.073</td>\n",
       "      <td>3.821</td>\n",
       "      <td>0.001</td>\n",
       "      <td>True</td>\n",
       "    </tr>\n",
       "    <tr>\n",
       "      <th>...</th>\n",
       "      <th>...</th>\n",
       "      <td>...</td>\n",
       "      <td>...</td>\n",
       "      <td>...</td>\n",
       "      <td>...</td>\n",
       "      <td>...</td>\n",
       "      <td>...</td>\n",
       "      <td>...</td>\n",
       "      <td>...</td>\n",
       "    </tr>\n",
       "    <tr>\n",
       "      <th rowspan=\"5\" valign=\"top\">S4R3U6</th>\n",
       "      <th>AD</th>\n",
       "      <td>0.497</td>\n",
       "      <td>1</td>\n",
       "      <td>0.260</td>\n",
       "      <td>0.610</td>\n",
       "      <td>0.001</td>\n",
       "      <td>0.214</td>\n",
       "      <td>0.731</td>\n",
       "      <td>False</td>\n",
       "    </tr>\n",
       "    <tr>\n",
       "      <th>age</th>\n",
       "      <td>2.516</td>\n",
       "      <td>1</td>\n",
       "      <td>1.317</td>\n",
       "      <td>0.253</td>\n",
       "      <td>0.007</td>\n",
       "      <td>0.598</td>\n",
       "      <td>0.396</td>\n",
       "      <td>False</td>\n",
       "    </tr>\n",
       "    <tr>\n",
       "      <th>Kiel</th>\n",
       "      <td>10.294</td>\n",
       "      <td>1</td>\n",
       "      <td>5.388</td>\n",
       "      <td>0.021</td>\n",
       "      <td>0.027</td>\n",
       "      <td>1.671</td>\n",
       "      <td>0.057</td>\n",
       "      <td>False</td>\n",
       "    </tr>\n",
       "    <tr>\n",
       "      <th>Magdeburg</th>\n",
       "      <td>20.545</td>\n",
       "      <td>1</td>\n",
       "      <td>10.753</td>\n",
       "      <td>0.001</td>\n",
       "      <td>0.053</td>\n",
       "      <td>2.908</td>\n",
       "      <td>0.005</td>\n",
       "      <td>True</td>\n",
       "    </tr>\n",
       "    <tr>\n",
       "      <th>Sweden</th>\n",
       "      <td>0.153</td>\n",
       "      <td>1</td>\n",
       "      <td>0.080</td>\n",
       "      <td>0.777</td>\n",
       "      <td>0.000</td>\n",
       "      <td>0.109</td>\n",
       "      <td>0.859</td>\n",
       "      <td>False</td>\n",
       "    </tr>\n",
       "  </tbody>\n",
       "</table>\n",
       "<p>7105 rows × 8 columns</p>\n",
       "</div>"
      ],
      "text/plain": [
       "model                                   QRILC                        \\\n",
       "var                                        SS DF      F p-unc   np2   \n",
       "protein groups               Source                                   \n",
       "A0A024QZX5;A0A087X1N8;P35237 AD         0.650  1  4.154 0.043 0.021   \n",
       "                             age        0.025  1  0.158 0.691 0.001   \n",
       "                             Kiel       0.440  1  2.811 0.095 0.015   \n",
       "                             Magdeburg  0.886  1  5.660 0.018 0.029   \n",
       "                             Sweden     2.340  1 14.952 0.000 0.073   \n",
       "...                                       ... ..    ...   ...   ...   \n",
       "S4R3U6                       AD         0.497  1  0.260 0.610 0.001   \n",
       "                             age        2.516  1  1.317 0.253 0.007   \n",
       "                             Kiel      10.294  1  5.388 0.021 0.027   \n",
       "                             Magdeburg 20.545  1 10.753 0.001 0.053   \n",
       "                             Sweden     0.153  1  0.080 0.777 0.000   \n",
       "\n",
       "model                                                                 \n",
       "var                                    -Log10 pvalue qvalue rejected  \n",
       "protein groups               Source                                   \n",
       "A0A024QZX5;A0A087X1N8;P35237 AD                1.367  0.100    False  \n",
       "                             age               0.160  0.795    False  \n",
       "                             Kiel              1.021  0.189    False  \n",
       "                             Magdeburg         1.737  0.051    False  \n",
       "                             Sweden            3.821  0.001     True  \n",
       "...                                              ...    ...      ...  \n",
       "S4R3U6                       AD                0.214  0.731    False  \n",
       "                             age               0.598  0.396    False  \n",
       "                             Kiel              1.671  0.057    False  \n",
       "                             Magdeburg         2.908  0.005     True  \n",
       "                             Sweden            0.109  0.859    False  \n",
       "\n",
       "[7105 rows x 8 columns]"
      ]
     },
     "execution_count": 7,
     "metadata": {},
     "output_type": "execute_result"
    }
   ],
   "source": [
    "fname = args.scores_folder / f'diff_analysis_scores_{args.model_key}.pkl'\n",
    "scores_model = pd.read_pickle(fname)\n",
    "scores_model"
   ]
  },
  {
   "cell_type": "markdown",
   "id": "06b7e883",
   "metadata": {
    "papermill": {
     "duration": 0.013004,
     "end_time": "2025-01-17T13:34:35.067266",
     "exception": false,
     "start_time": "2025-01-17T13:34:35.054262",
     "status": "completed"
    },
    "tags": []
   },
   "source": [
    "### Combined scores\n",
    "show only selected statistics for comparsion"
   ]
  },
  {
   "cell_type": "code",
   "execution_count": 8,
   "id": "373fdf65",
   "metadata": {
    "execution": {
     "iopub.execute_input": "2025-01-17T13:34:35.094963Z",
     "iopub.status.busy": "2025-01-17T13:34:35.094636Z",
     "iopub.status.idle": "2025-01-17T13:34:35.159559Z",
     "shell.execute_reply": "2025-01-17T13:34:35.156256Z"
    },
    "papermill": {
     "duration": 0.080438,
     "end_time": "2025-01-17T13:34:35.160922",
     "exception": false,
     "start_time": "2025-01-17T13:34:35.080484",
     "status": "completed"
    },
    "tags": [
     "hide-input"
    ]
   },
   "outputs": [
    {
     "data": {
      "text/html": [
       "<div>\n",
       "<style scoped>\n",
       "    .dataframe tbody tr th:only-of-type {\n",
       "        vertical-align: middle;\n",
       "    }\n",
       "\n",
       "    .dataframe tbody tr th {\n",
       "        vertical-align: top;\n",
       "    }\n",
       "\n",
       "    .dataframe thead tr th {\n",
       "        text-align: left;\n",
       "    }\n",
       "\n",
       "    .dataframe thead tr:last-of-type th {\n",
       "        text-align: right;\n",
       "    }\n",
       "</style>\n",
       "<table border=\"1\" class=\"dataframe\">\n",
       "  <thead>\n",
       "    <tr>\n",
       "      <th></th>\n",
       "      <th>model</th>\n",
       "      <th colspan=\"4\" halign=\"left\">PI</th>\n",
       "      <th colspan=\"4\" halign=\"left\">QRILC</th>\n",
       "    </tr>\n",
       "    <tr>\n",
       "      <th></th>\n",
       "      <th>var</th>\n",
       "      <th>p-unc</th>\n",
       "      <th>-Log10 pvalue</th>\n",
       "      <th>qvalue</th>\n",
       "      <th>rejected</th>\n",
       "      <th>p-unc</th>\n",
       "      <th>-Log10 pvalue</th>\n",
       "      <th>qvalue</th>\n",
       "      <th>rejected</th>\n",
       "    </tr>\n",
       "    <tr>\n",
       "      <th>protein groups</th>\n",
       "      <th>Source</th>\n",
       "      <th></th>\n",
       "      <th></th>\n",
       "      <th></th>\n",
       "      <th></th>\n",
       "      <th></th>\n",
       "      <th></th>\n",
       "      <th></th>\n",
       "      <th></th>\n",
       "    </tr>\n",
       "  </thead>\n",
       "  <tbody>\n",
       "    <tr>\n",
       "      <th rowspan=\"5\" valign=\"top\">A0A024QZX5;A0A087X1N8;P35237</th>\n",
       "      <th>AD</th>\n",
       "      <td>0.317</td>\n",
       "      <td>0.499</td>\n",
       "      <td>0.481</td>\n",
       "      <td>False</td>\n",
       "      <td>0.043</td>\n",
       "      <td>1.367</td>\n",
       "      <td>0.100</td>\n",
       "      <td>False</td>\n",
       "    </tr>\n",
       "    <tr>\n",
       "      <th>Kiel</th>\n",
       "      <td>0.042</td>\n",
       "      <td>1.379</td>\n",
       "      <td>0.106</td>\n",
       "      <td>False</td>\n",
       "      <td>0.095</td>\n",
       "      <td>1.021</td>\n",
       "      <td>0.189</td>\n",
       "      <td>False</td>\n",
       "    </tr>\n",
       "    <tr>\n",
       "      <th>Magdeburg</th>\n",
       "      <td>0.004</td>\n",
       "      <td>2.389</td>\n",
       "      <td>0.016</td>\n",
       "      <td>True</td>\n",
       "      <td>0.018</td>\n",
       "      <td>1.737</td>\n",
       "      <td>0.051</td>\n",
       "      <td>False</td>\n",
       "    </tr>\n",
       "    <tr>\n",
       "      <th>Sweden</th>\n",
       "      <td>0.000</td>\n",
       "      <td>3.641</td>\n",
       "      <td>0.001</td>\n",
       "      <td>True</td>\n",
       "      <td>0.000</td>\n",
       "      <td>3.821</td>\n",
       "      <td>0.001</td>\n",
       "      <td>True</td>\n",
       "    </tr>\n",
       "    <tr>\n",
       "      <th>age</th>\n",
       "      <td>0.590</td>\n",
       "      <td>0.229</td>\n",
       "      <td>0.722</td>\n",
       "      <td>False</td>\n",
       "      <td>0.691</td>\n",
       "      <td>0.160</td>\n",
       "      <td>0.795</td>\n",
       "      <td>False</td>\n",
       "    </tr>\n",
       "    <tr>\n",
       "      <th>...</th>\n",
       "      <th>...</th>\n",
       "      <td>...</td>\n",
       "      <td>...</td>\n",
       "      <td>...</td>\n",
       "      <td>...</td>\n",
       "      <td>...</td>\n",
       "      <td>...</td>\n",
       "      <td>...</td>\n",
       "      <td>...</td>\n",
       "    </tr>\n",
       "    <tr>\n",
       "      <th rowspan=\"5\" valign=\"top\">S4R3U6</th>\n",
       "      <th>AD</th>\n",
       "      <td>0.899</td>\n",
       "      <td>0.046</td>\n",
       "      <td>0.942</td>\n",
       "      <td>False</td>\n",
       "      <td>0.610</td>\n",
       "      <td>0.214</td>\n",
       "      <td>0.731</td>\n",
       "      <td>False</td>\n",
       "    </tr>\n",
       "    <tr>\n",
       "      <th>Kiel</th>\n",
       "      <td>0.645</td>\n",
       "      <td>0.191</td>\n",
       "      <td>0.767</td>\n",
       "      <td>False</td>\n",
       "      <td>0.021</td>\n",
       "      <td>1.671</td>\n",
       "      <td>0.057</td>\n",
       "      <td>False</td>\n",
       "    </tr>\n",
       "    <tr>\n",
       "      <th>Magdeburg</th>\n",
       "      <td>0.041</td>\n",
       "      <td>1.384</td>\n",
       "      <td>0.105</td>\n",
       "      <td>False</td>\n",
       "      <td>0.001</td>\n",
       "      <td>2.908</td>\n",
       "      <td>0.005</td>\n",
       "      <td>True</td>\n",
       "    </tr>\n",
       "    <tr>\n",
       "      <th>Sweden</th>\n",
       "      <td>0.008</td>\n",
       "      <td>2.075</td>\n",
       "      <td>0.029</td>\n",
       "      <td>True</td>\n",
       "      <td>0.777</td>\n",
       "      <td>0.109</td>\n",
       "      <td>0.859</td>\n",
       "      <td>False</td>\n",
       "    </tr>\n",
       "    <tr>\n",
       "      <th>age</th>\n",
       "      <td>0.403</td>\n",
       "      <td>0.395</td>\n",
       "      <td>0.562</td>\n",
       "      <td>False</td>\n",
       "      <td>0.253</td>\n",
       "      <td>0.598</td>\n",
       "      <td>0.396</td>\n",
       "      <td>False</td>\n",
       "    </tr>\n",
       "  </tbody>\n",
       "</table>\n",
       "<p>7105 rows × 8 columns</p>\n",
       "</div>"
      ],
      "text/plain": [
       "model                                     PI                                \\\n",
       "var                                    p-unc -Log10 pvalue qvalue rejected   \n",
       "protein groups               Source                                          \n",
       "A0A024QZX5;A0A087X1N8;P35237 AD        0.317         0.499  0.481    False   \n",
       "                             Kiel      0.042         1.379  0.106    False   \n",
       "                             Magdeburg 0.004         2.389  0.016     True   \n",
       "                             Sweden    0.000         3.641  0.001     True   \n",
       "                             age       0.590         0.229  0.722    False   \n",
       "...                                      ...           ...    ...      ...   \n",
       "S4R3U6                       AD        0.899         0.046  0.942    False   \n",
       "                             Kiel      0.645         0.191  0.767    False   \n",
       "                             Magdeburg 0.041         1.384  0.105    False   \n",
       "                             Sweden    0.008         2.075  0.029     True   \n",
       "                             age       0.403         0.395  0.562    False   \n",
       "\n",
       "model                                  QRILC                                \n",
       "var                                    p-unc -Log10 pvalue qvalue rejected  \n",
       "protein groups               Source                                         \n",
       "A0A024QZX5;A0A087X1N8;P35237 AD        0.043         1.367  0.100    False  \n",
       "                             Kiel      0.095         1.021  0.189    False  \n",
       "                             Magdeburg 0.018         1.737  0.051    False  \n",
       "                             Sweden    0.000         3.821  0.001     True  \n",
       "                             age       0.691         0.160  0.795    False  \n",
       "...                                      ...           ...    ...      ...  \n",
       "S4R3U6                       AD        0.610         0.214  0.731    False  \n",
       "                             Kiel      0.021         1.671  0.057    False  \n",
       "                             Magdeburg 0.001         2.908  0.005     True  \n",
       "                             Sweden    0.777         0.109  0.859    False  \n",
       "                             age       0.253         0.598  0.396    False  \n",
       "\n",
       "[7105 rows x 8 columns]"
      ]
     },
     "execution_count": 8,
     "metadata": {},
     "output_type": "execute_result"
    }
   ],
   "source": [
    "scores = scores_model.join(scores_baseline, how='outer')[[args.baseline, args.model_key]]\n",
    "scores = scores.loc[:, pd.IndexSlice[scores.columns.levels[0].to_list(),\n",
    "                                     args.selected_statistics]]\n",
    "scores"
   ]
  },
  {
   "cell_type": "markdown",
   "id": "b84a6e5a",
   "metadata": {
    "papermill": {
     "duration": 0.029516,
     "end_time": "2025-01-17T13:34:35.219810",
     "exception": false,
     "start_time": "2025-01-17T13:34:35.190294",
     "status": "completed"
    },
    "tags": []
   },
   "source": [
    "Models in comparison (name mapping)"
   ]
  },
  {
   "cell_type": "code",
   "execution_count": 9,
   "id": "34d243d1-3ab4-40e7-9eb8-f9efc828b82d",
   "metadata": {
    "execution": {
     "iopub.execute_input": "2025-01-17T13:34:35.279296Z",
     "iopub.status.busy": "2025-01-17T13:34:35.279007Z",
     "iopub.status.idle": "2025-01-17T13:34:35.288978Z",
     "shell.execute_reply": "2025-01-17T13:34:35.288356Z"
    },
    "papermill": {
     "duration": 0.042396,
     "end_time": "2025-01-17T13:34:35.290346",
     "exception": false,
     "start_time": "2025-01-17T13:34:35.247950",
     "status": "completed"
    },
    "tags": [
     "hide-input"
    ]
   },
   "outputs": [
    {
     "data": {
      "text/plain": [
       "{'PI': 'PI', 'QRILC': 'QRILC'}"
      ]
     },
     "execution_count": 9,
     "metadata": {},
     "output_type": "execute_result"
    }
   ],
   "source": [
    "models = pimmslearn.nb.Config.from_dict(\n",
    "    pimmslearn.pandas.index_to_dict(scores.columns.get_level_values(0)))\n",
    "vars(models)"
   ]
  },
  {
   "cell_type": "markdown",
   "id": "dd7a560d",
   "metadata": {
    "papermill": {
     "duration": 0.025906,
     "end_time": "2025-01-17T13:34:35.343592",
     "exception": false,
     "start_time": "2025-01-17T13:34:35.317686",
     "status": "completed"
    },
    "tags": []
   },
   "source": [
    "## Describe scores"
   ]
  },
  {
   "cell_type": "code",
   "execution_count": 10,
   "id": "0fee8f5d-fa52-4369-a1f9-fcfd518ab6bd",
   "metadata": {
    "execution": {
     "iopub.execute_input": "2025-01-17T13:34:35.400464Z",
     "iopub.status.busy": "2025-01-17T13:34:35.399770Z",
     "iopub.status.idle": "2025-01-17T13:34:35.457621Z",
     "shell.execute_reply": "2025-01-17T13:34:35.456951Z"
    },
    "papermill": {
     "duration": 0.088321,
     "end_time": "2025-01-17T13:34:35.460074",
     "exception": false,
     "start_time": "2025-01-17T13:34:35.371753",
     "status": "completed"
    },
    "tags": [
     "hide-input"
    ]
   },
   "outputs": [
    {
     "data": {
      "text/html": [
       "<div>\n",
       "<style scoped>\n",
       "    .dataframe tbody tr th:only-of-type {\n",
       "        vertical-align: middle;\n",
       "    }\n",
       "\n",
       "    .dataframe tbody tr th {\n",
       "        vertical-align: top;\n",
       "    }\n",
       "\n",
       "    .dataframe thead tr th {\n",
       "        text-align: left;\n",
       "    }\n",
       "</style>\n",
       "<table border=\"1\" class=\"dataframe\">\n",
       "  <thead>\n",
       "    <tr>\n",
       "      <th>model</th>\n",
       "      <th colspan=\"3\" halign=\"left\">PI</th>\n",
       "      <th colspan=\"3\" halign=\"left\">QRILC</th>\n",
       "    </tr>\n",
       "    <tr>\n",
       "      <th>var</th>\n",
       "      <th>p-unc</th>\n",
       "      <th>-Log10 pvalue</th>\n",
       "      <th>qvalue</th>\n",
       "      <th>p-unc</th>\n",
       "      <th>-Log10 pvalue</th>\n",
       "      <th>qvalue</th>\n",
       "    </tr>\n",
       "  </thead>\n",
       "  <tbody>\n",
       "    <tr>\n",
       "      <th>count</th>\n",
       "      <td>7,105.000</td>\n",
       "      <td>7,105.000</td>\n",
       "      <td>7,105.000</td>\n",
       "      <td>7,105.000</td>\n",
       "      <td>7,105.000</td>\n",
       "      <td>7,105.000</td>\n",
       "    </tr>\n",
       "    <tr>\n",
       "      <th>mean</th>\n",
       "      <td>0.260</td>\n",
       "      <td>2.475</td>\n",
       "      <td>0.337</td>\n",
       "      <td>0.246</td>\n",
       "      <td>2.742</td>\n",
       "      <td>0.313</td>\n",
       "    </tr>\n",
       "    <tr>\n",
       "      <th>std</th>\n",
       "      <td>0.303</td>\n",
       "      <td>5.289</td>\n",
       "      <td>0.330</td>\n",
       "      <td>0.300</td>\n",
       "      <td>5.176</td>\n",
       "      <td>0.327</td>\n",
       "    </tr>\n",
       "    <tr>\n",
       "      <th>min</th>\n",
       "      <td>0.000</td>\n",
       "      <td>0.001</td>\n",
       "      <td>0.000</td>\n",
       "      <td>0.000</td>\n",
       "      <td>0.000</td>\n",
       "      <td>0.000</td>\n",
       "    </tr>\n",
       "    <tr>\n",
       "      <th>25%</th>\n",
       "      <td>0.004</td>\n",
       "      <td>0.340</td>\n",
       "      <td>0.015</td>\n",
       "      <td>0.002</td>\n",
       "      <td>0.360</td>\n",
       "      <td>0.008</td>\n",
       "    </tr>\n",
       "    <tr>\n",
       "      <th>50%</th>\n",
       "      <td>0.120</td>\n",
       "      <td>0.919</td>\n",
       "      <td>0.241</td>\n",
       "      <td>0.093</td>\n",
       "      <td>1.030</td>\n",
       "      <td>0.186</td>\n",
       "    </tr>\n",
       "    <tr>\n",
       "      <th>75%</th>\n",
       "      <td>0.457</td>\n",
       "      <td>2.413</td>\n",
       "      <td>0.609</td>\n",
       "      <td>0.437</td>\n",
       "      <td>2.716</td>\n",
       "      <td>0.582</td>\n",
       "    </tr>\n",
       "    <tr>\n",
       "      <th>max</th>\n",
       "      <td>0.999</td>\n",
       "      <td>145.797</td>\n",
       "      <td>0.999</td>\n",
       "      <td>1.000</td>\n",
       "      <td>85.928</td>\n",
       "      <td>1.000</td>\n",
       "    </tr>\n",
       "  </tbody>\n",
       "</table>\n",
       "</div>"
      ],
      "text/plain": [
       "model        PI                             QRILC                        \n",
       "var       p-unc -Log10 pvalue    qvalue     p-unc -Log10 pvalue    qvalue\n",
       "count 7,105.000     7,105.000 7,105.000 7,105.000     7,105.000 7,105.000\n",
       "mean      0.260         2.475     0.337     0.246         2.742     0.313\n",
       "std       0.303         5.289     0.330     0.300         5.176     0.327\n",
       "min       0.000         0.001     0.000     0.000         0.000     0.000\n",
       "25%       0.004         0.340     0.015     0.002         0.360     0.008\n",
       "50%       0.120         0.919     0.241     0.093         1.030     0.186\n",
       "75%       0.457         2.413     0.609     0.437         2.716     0.582\n",
       "max       0.999       145.797     0.999     1.000        85.928     1.000"
      ]
     },
     "execution_count": 10,
     "metadata": {},
     "output_type": "execute_result"
    }
   ],
   "source": [
    "scores.describe()"
   ]
  },
  {
   "cell_type": "markdown",
   "id": "52ecc596",
   "metadata": {
    "papermill": {
     "duration": 0.02547,
     "end_time": "2025-01-17T13:34:35.511915",
     "exception": false,
     "start_time": "2025-01-17T13:34:35.486445",
     "status": "completed"
    },
    "tags": []
   },
   "source": [
    "### One to one comparison of by feature:"
   ]
  },
  {
   "cell_type": "code",
   "execution_count": 11,
   "id": "c6e5a0a6-343b-4f07-8d9d-2cd5cf95ae1f",
   "metadata": {
    "execution": {
     "iopub.execute_input": "2025-01-17T13:34:35.569441Z",
     "iopub.status.busy": "2025-01-17T13:34:35.569116Z",
     "iopub.status.idle": "2025-01-17T13:34:36.156149Z",
     "shell.execute_reply": "2025-01-17T13:34:36.155528Z"
    },
    "papermill": {
     "duration": 0.62217,
     "end_time": "2025-01-17T13:34:36.159541",
     "exception": false,
     "start_time": "2025-01-17T13:34:35.537371",
     "status": "completed"
    },
    "tags": [
     "hide-input"
    ]
   },
   "outputs": [
    {
     "name": "stderr",
     "output_type": "stream",
     "text": [
      "/tmp/ipykernel_34437/3761369923.py:2: FutureWarning: Starting with pandas version 3.0 all arguments of to_excel except for the argument 'excel_writer' will be keyword-only.\n",
      "  scores.to_excel(writer, 'scores', **writer_args)\n"
     ]
    },
    {
     "data": {
      "text/html": [
       "<div>\n",
       "<style scoped>\n",
       "    .dataframe tbody tr th:only-of-type {\n",
       "        vertical-align: middle;\n",
       "    }\n",
       "\n",
       "    .dataframe tbody tr th {\n",
       "        vertical-align: top;\n",
       "    }\n",
       "\n",
       "    .dataframe thead tr th {\n",
       "        text-align: left;\n",
       "    }\n",
       "\n",
       "    .dataframe thead tr:last-of-type th {\n",
       "        text-align: right;\n",
       "    }\n",
       "</style>\n",
       "<table border=\"1\" class=\"dataframe\">\n",
       "  <thead>\n",
       "    <tr>\n",
       "      <th></th>\n",
       "      <th>model</th>\n",
       "      <th colspan=\"4\" halign=\"left\">PI</th>\n",
       "      <th colspan=\"4\" halign=\"left\">QRILC</th>\n",
       "    </tr>\n",
       "    <tr>\n",
       "      <th></th>\n",
       "      <th>var</th>\n",
       "      <th>p-unc</th>\n",
       "      <th>-Log10 pvalue</th>\n",
       "      <th>qvalue</th>\n",
       "      <th>rejected</th>\n",
       "      <th>p-unc</th>\n",
       "      <th>-Log10 pvalue</th>\n",
       "      <th>qvalue</th>\n",
       "      <th>rejected</th>\n",
       "    </tr>\n",
       "    <tr>\n",
       "      <th>protein groups</th>\n",
       "      <th>Source</th>\n",
       "      <th></th>\n",
       "      <th></th>\n",
       "      <th></th>\n",
       "      <th></th>\n",
       "      <th></th>\n",
       "      <th></th>\n",
       "      <th></th>\n",
       "      <th></th>\n",
       "    </tr>\n",
       "  </thead>\n",
       "  <tbody>\n",
       "    <tr>\n",
       "      <th>A0A024QZX5;A0A087X1N8;P35237</th>\n",
       "      <th>AD</th>\n",
       "      <td>0.317</td>\n",
       "      <td>0.499</td>\n",
       "      <td>0.481</td>\n",
       "      <td>False</td>\n",
       "      <td>0.043</td>\n",
       "      <td>1.367</td>\n",
       "      <td>0.100</td>\n",
       "      <td>False</td>\n",
       "    </tr>\n",
       "    <tr>\n",
       "      <th>A0A024R0T9;K7ER74;P02655</th>\n",
       "      <th>AD</th>\n",
       "      <td>0.046</td>\n",
       "      <td>1.342</td>\n",
       "      <td>0.114</td>\n",
       "      <td>False</td>\n",
       "      <td>0.033</td>\n",
       "      <td>1.478</td>\n",
       "      <td>0.082</td>\n",
       "      <td>False</td>\n",
       "    </tr>\n",
       "    <tr>\n",
       "      <th>A0A024R3W6;A0A024R412;O60462;O60462-2;O60462-3;O60462-4;O60462-5;Q7LBX6;X5D2Q8</th>\n",
       "      <th>AD</th>\n",
       "      <td>0.158</td>\n",
       "      <td>0.801</td>\n",
       "      <td>0.293</td>\n",
       "      <td>False</td>\n",
       "      <td>0.345</td>\n",
       "      <td>0.463</td>\n",
       "      <td>0.495</td>\n",
       "      <td>False</td>\n",
       "    </tr>\n",
       "    <tr>\n",
       "      <th>A0A024R644;A0A0A0MRU5;A0A1B0GWI2;O75503</th>\n",
       "      <th>AD</th>\n",
       "      <td>0.505</td>\n",
       "      <td>0.297</td>\n",
       "      <td>0.652</td>\n",
       "      <td>False</td>\n",
       "      <td>0.298</td>\n",
       "      <td>0.525</td>\n",
       "      <td>0.447</td>\n",
       "      <td>False</td>\n",
       "    </tr>\n",
       "    <tr>\n",
       "      <th>A0A075B6H7</th>\n",
       "      <th>AD</th>\n",
       "      <td>0.128</td>\n",
       "      <td>0.892</td>\n",
       "      <td>0.252</td>\n",
       "      <td>False</td>\n",
       "      <td>0.110</td>\n",
       "      <td>0.957</td>\n",
       "      <td>0.213</td>\n",
       "      <td>False</td>\n",
       "    </tr>\n",
       "    <tr>\n",
       "      <th>...</th>\n",
       "      <th>...</th>\n",
       "      <td>...</td>\n",
       "      <td>...</td>\n",
       "      <td>...</td>\n",
       "      <td>...</td>\n",
       "      <td>...</td>\n",
       "      <td>...</td>\n",
       "      <td>...</td>\n",
       "      <td>...</td>\n",
       "    </tr>\n",
       "    <tr>\n",
       "      <th>Q9Y6R7</th>\n",
       "      <th>AD</th>\n",
       "      <td>0.175</td>\n",
       "      <td>0.756</td>\n",
       "      <td>0.316</td>\n",
       "      <td>False</td>\n",
       "      <td>0.175</td>\n",
       "      <td>0.756</td>\n",
       "      <td>0.302</td>\n",
       "      <td>False</td>\n",
       "    </tr>\n",
       "    <tr>\n",
       "      <th>Q9Y6X5</th>\n",
       "      <th>AD</th>\n",
       "      <td>0.113</td>\n",
       "      <td>0.947</td>\n",
       "      <td>0.230</td>\n",
       "      <td>False</td>\n",
       "      <td>0.052</td>\n",
       "      <td>1.286</td>\n",
       "      <td>0.117</td>\n",
       "      <td>False</td>\n",
       "    </tr>\n",
       "    <tr>\n",
       "      <th>Q9Y6Y8;Q9Y6Y8-2</th>\n",
       "      <th>AD</th>\n",
       "      <td>0.083</td>\n",
       "      <td>1.079</td>\n",
       "      <td>0.183</td>\n",
       "      <td>False</td>\n",
       "      <td>0.083</td>\n",
       "      <td>1.079</td>\n",
       "      <td>0.171</td>\n",
       "      <td>False</td>\n",
       "    </tr>\n",
       "    <tr>\n",
       "      <th>Q9Y6Y9</th>\n",
       "      <th>AD</th>\n",
       "      <td>0.564</td>\n",
       "      <td>0.249</td>\n",
       "      <td>0.700</td>\n",
       "      <td>False</td>\n",
       "      <td>0.527</td>\n",
       "      <td>0.278</td>\n",
       "      <td>0.660</td>\n",
       "      <td>False</td>\n",
       "    </tr>\n",
       "    <tr>\n",
       "      <th>S4R3U6</th>\n",
       "      <th>AD</th>\n",
       "      <td>0.899</td>\n",
       "      <td>0.046</td>\n",
       "      <td>0.942</td>\n",
       "      <td>False</td>\n",
       "      <td>0.610</td>\n",
       "      <td>0.214</td>\n",
       "      <td>0.731</td>\n",
       "      <td>False</td>\n",
       "    </tr>\n",
       "  </tbody>\n",
       "</table>\n",
       "<p>1421 rows × 8 columns</p>\n",
       "</div>"
      ],
      "text/plain": [
       "model                                                        PI                \\\n",
       "var                                                       p-unc -Log10 pvalue   \n",
       "protein groups                                     Source                       \n",
       "A0A024QZX5;A0A087X1N8;P35237                       AD     0.317         0.499   \n",
       "A0A024R0T9;K7ER74;P02655                           AD     0.046         1.342   \n",
       "A0A024R3W6;A0A024R412;O60462;O60462-2;O60462-3;... AD     0.158         0.801   \n",
       "A0A024R644;A0A0A0MRU5;A0A1B0GWI2;O75503            AD     0.505         0.297   \n",
       "A0A075B6H7                                         AD     0.128         0.892   \n",
       "...                                                         ...           ...   \n",
       "Q9Y6R7                                             AD     0.175         0.756   \n",
       "Q9Y6X5                                             AD     0.113         0.947   \n",
       "Q9Y6Y8;Q9Y6Y8-2                                    AD     0.083         1.079   \n",
       "Q9Y6Y9                                             AD     0.564         0.249   \n",
       "S4R3U6                                             AD     0.899         0.046   \n",
       "\n",
       "model                                                                      \\\n",
       "var                                                       qvalue rejected   \n",
       "protein groups                                     Source                   \n",
       "A0A024QZX5;A0A087X1N8;P35237                       AD      0.481    False   \n",
       "A0A024R0T9;K7ER74;P02655                           AD      0.114    False   \n",
       "A0A024R3W6;A0A024R412;O60462;O60462-2;O60462-3;... AD      0.293    False   \n",
       "A0A024R644;A0A0A0MRU5;A0A1B0GWI2;O75503            AD      0.652    False   \n",
       "A0A075B6H7                                         AD      0.252    False   \n",
       "...                                                          ...      ...   \n",
       "Q9Y6R7                                             AD      0.316    False   \n",
       "Q9Y6X5                                             AD      0.230    False   \n",
       "Q9Y6Y8;Q9Y6Y8-2                                    AD      0.183    False   \n",
       "Q9Y6Y9                                             AD      0.700    False   \n",
       "S4R3U6                                             AD      0.942    False   \n",
       "\n",
       "model                                                     QRILC                \\\n",
       "var                                                       p-unc -Log10 pvalue   \n",
       "protein groups                                     Source                       \n",
       "A0A024QZX5;A0A087X1N8;P35237                       AD     0.043         1.367   \n",
       "A0A024R0T9;K7ER74;P02655                           AD     0.033         1.478   \n",
       "A0A024R3W6;A0A024R412;O60462;O60462-2;O60462-3;... AD     0.345         0.463   \n",
       "A0A024R644;A0A0A0MRU5;A0A1B0GWI2;O75503            AD     0.298         0.525   \n",
       "A0A075B6H7                                         AD     0.110         0.957   \n",
       "...                                                         ...           ...   \n",
       "Q9Y6R7                                             AD     0.175         0.756   \n",
       "Q9Y6X5                                             AD     0.052         1.286   \n",
       "Q9Y6Y8;Q9Y6Y8-2                                    AD     0.083         1.079   \n",
       "Q9Y6Y9                                             AD     0.527         0.278   \n",
       "S4R3U6                                             AD     0.610         0.214   \n",
       "\n",
       "model                                                                      \n",
       "var                                                       qvalue rejected  \n",
       "protein groups                                     Source                  \n",
       "A0A024QZX5;A0A087X1N8;P35237                       AD      0.100    False  \n",
       "A0A024R0T9;K7ER74;P02655                           AD      0.082    False  \n",
       "A0A024R3W6;A0A024R412;O60462;O60462-2;O60462-3;... AD      0.495    False  \n",
       "A0A024R644;A0A0A0MRU5;A0A1B0GWI2;O75503            AD      0.447    False  \n",
       "A0A075B6H7                                         AD      0.213    False  \n",
       "...                                                          ...      ...  \n",
       "Q9Y6R7                                             AD      0.302    False  \n",
       "Q9Y6X5                                             AD      0.117    False  \n",
       "Q9Y6Y8;Q9Y6Y8-2                                    AD      0.171    False  \n",
       "Q9Y6Y9                                             AD      0.660    False  \n",
       "S4R3U6                                             AD      0.731    False  \n",
       "\n",
       "[1421 rows x 8 columns]"
      ]
     },
     "execution_count": 11,
     "metadata": {},
     "output_type": "execute_result"
    }
   ],
   "source": [
    "scores = scores.loc[pd.IndexSlice[:, args.target], :]\n",
    "scores.to_excel(writer, 'scores', **writer_args)\n",
    "scores"
   ]
  },
  {
   "cell_type": "markdown",
   "id": "36e14580",
   "metadata": {
    "papermill": {
     "duration": 0.030079,
     "end_time": "2025-01-17T13:34:36.220848",
     "exception": false,
     "start_time": "2025-01-17T13:34:36.190769",
     "status": "completed"
    },
    "tags": []
   },
   "source": [
    "And the descriptive statistics\n",
    "of the numeric values:"
   ]
  },
  {
   "cell_type": "code",
   "execution_count": 12,
   "id": "0e45e80a-32d8-4c6c-b0a4-5ce8b7f9e121",
   "metadata": {
    "execution": {
     "iopub.execute_input": "2025-01-17T13:34:36.278428Z",
     "iopub.status.busy": "2025-01-17T13:34:36.277959Z",
     "iopub.status.idle": "2025-01-17T13:34:36.329589Z",
     "shell.execute_reply": "2025-01-17T13:34:36.327223Z"
    },
    "papermill": {
     "duration": 0.084423,
     "end_time": "2025-01-17T13:34:36.333134",
     "exception": false,
     "start_time": "2025-01-17T13:34:36.248711",
     "status": "completed"
    },
    "tags": [
     "hide-input"
    ]
   },
   "outputs": [
    {
     "data": {
      "text/html": [
       "<div>\n",
       "<style scoped>\n",
       "    .dataframe tbody tr th:only-of-type {\n",
       "        vertical-align: middle;\n",
       "    }\n",
       "\n",
       "    .dataframe tbody tr th {\n",
       "        vertical-align: top;\n",
       "    }\n",
       "\n",
       "    .dataframe thead tr th {\n",
       "        text-align: left;\n",
       "    }\n",
       "</style>\n",
       "<table border=\"1\" class=\"dataframe\">\n",
       "  <thead>\n",
       "    <tr>\n",
       "      <th>model</th>\n",
       "      <th colspan=\"3\" halign=\"left\">PI</th>\n",
       "      <th colspan=\"3\" halign=\"left\">QRILC</th>\n",
       "    </tr>\n",
       "    <tr>\n",
       "      <th>var</th>\n",
       "      <th>p-unc</th>\n",
       "      <th>-Log10 pvalue</th>\n",
       "      <th>qvalue</th>\n",
       "      <th>p-unc</th>\n",
       "      <th>-Log10 pvalue</th>\n",
       "      <th>qvalue</th>\n",
       "    </tr>\n",
       "  </thead>\n",
       "  <tbody>\n",
       "    <tr>\n",
       "      <th>count</th>\n",
       "      <td>1,421.000</td>\n",
       "      <td>1,421.000</td>\n",
       "      <td>1,421.000</td>\n",
       "      <td>1,421.000</td>\n",
       "      <td>1,421.000</td>\n",
       "      <td>1,421.000</td>\n",
       "    </tr>\n",
       "    <tr>\n",
       "      <th>mean</th>\n",
       "      <td>0.257</td>\n",
       "      <td>1.393</td>\n",
       "      <td>0.340</td>\n",
       "      <td>0.248</td>\n",
       "      <td>1.488</td>\n",
       "      <td>0.321</td>\n",
       "    </tr>\n",
       "    <tr>\n",
       "      <th>std</th>\n",
       "      <td>0.294</td>\n",
       "      <td>1.620</td>\n",
       "      <td>0.318</td>\n",
       "      <td>0.289</td>\n",
       "      <td>1.796</td>\n",
       "      <td>0.314</td>\n",
       "    </tr>\n",
       "    <tr>\n",
       "      <th>min</th>\n",
       "      <td>0.000</td>\n",
       "      <td>0.001</td>\n",
       "      <td>0.000</td>\n",
       "      <td>0.000</td>\n",
       "      <td>0.002</td>\n",
       "      <td>0.000</td>\n",
       "    </tr>\n",
       "    <tr>\n",
       "      <th>25%</th>\n",
       "      <td>0.012</td>\n",
       "      <td>0.364</td>\n",
       "      <td>0.040</td>\n",
       "      <td>0.010</td>\n",
       "      <td>0.365</td>\n",
       "      <td>0.030</td>\n",
       "    </tr>\n",
       "    <tr>\n",
       "      <th>50%</th>\n",
       "      <td>0.125</td>\n",
       "      <td>0.902</td>\n",
       "      <td>0.247</td>\n",
       "      <td>0.112</td>\n",
       "      <td>0.949</td>\n",
       "      <td>0.217</td>\n",
       "    </tr>\n",
       "    <tr>\n",
       "      <th>75%</th>\n",
       "      <td>0.433</td>\n",
       "      <td>1.908</td>\n",
       "      <td>0.589</td>\n",
       "      <td>0.431</td>\n",
       "      <td>2.009</td>\n",
       "      <td>0.578</td>\n",
       "    </tr>\n",
       "    <tr>\n",
       "      <th>max</th>\n",
       "      <td>0.998</td>\n",
       "      <td>19.442</td>\n",
       "      <td>0.998</td>\n",
       "      <td>0.996</td>\n",
       "      <td>27.122</td>\n",
       "      <td>0.997</td>\n",
       "    </tr>\n",
       "  </tbody>\n",
       "</table>\n",
       "</div>"
      ],
      "text/plain": [
       "model        PI                             QRILC                        \n",
       "var       p-unc -Log10 pvalue    qvalue     p-unc -Log10 pvalue    qvalue\n",
       "count 1,421.000     1,421.000 1,421.000 1,421.000     1,421.000 1,421.000\n",
       "mean      0.257         1.393     0.340     0.248         1.488     0.321\n",
       "std       0.294         1.620     0.318     0.289         1.796     0.314\n",
       "min       0.000         0.001     0.000     0.000         0.002     0.000\n",
       "25%       0.012         0.364     0.040     0.010         0.365     0.030\n",
       "50%       0.125         0.902     0.247     0.112         0.949     0.217\n",
       "75%       0.433         1.908     0.589     0.431         2.009     0.578\n",
       "max       0.998        19.442     0.998     0.996        27.122     0.997"
      ]
     },
     "execution_count": 12,
     "metadata": {},
     "output_type": "execute_result"
    }
   ],
   "source": [
    "scores.describe()"
   ]
  },
  {
   "cell_type": "markdown",
   "id": "e520d6dc",
   "metadata": {
    "papermill": {
     "duration": 0.026521,
     "end_time": "2025-01-17T13:34:36.389787",
     "exception": false,
     "start_time": "2025-01-17T13:34:36.363266",
     "status": "completed"
    },
    "tags": []
   },
   "source": [
    "and the boolean decision values"
   ]
  },
  {
   "cell_type": "code",
   "execution_count": 13,
   "id": "53bd5597-221c-4d54-abf2-82956db42594",
   "metadata": {
    "execution": {
     "iopub.execute_input": "2025-01-17T13:34:36.424626Z",
     "iopub.status.busy": "2025-01-17T13:34:36.423676Z",
     "iopub.status.idle": "2025-01-17T13:34:36.440608Z",
     "shell.execute_reply": "2025-01-17T13:34:36.438969Z"
    },
    "lines_to_next_cell": 2,
    "papermill": {
     "duration": 0.038777,
     "end_time": "2025-01-17T13:34:36.442830",
     "exception": false,
     "start_time": "2025-01-17T13:34:36.404053",
     "status": "completed"
    },
    "tags": [
     "hide-input"
    ]
   },
   "outputs": [
    {
     "data": {
      "text/html": [
       "<div>\n",
       "<style scoped>\n",
       "    .dataframe tbody tr th:only-of-type {\n",
       "        vertical-align: middle;\n",
       "    }\n",
       "\n",
       "    .dataframe tbody tr th {\n",
       "        vertical-align: top;\n",
       "    }\n",
       "\n",
       "    .dataframe thead tr th {\n",
       "        text-align: left;\n",
       "    }\n",
       "</style>\n",
       "<table border=\"1\" class=\"dataframe\">\n",
       "  <thead>\n",
       "    <tr>\n",
       "      <th>model</th>\n",
       "      <th>PI</th>\n",
       "      <th>QRILC</th>\n",
       "    </tr>\n",
       "    <tr>\n",
       "      <th>var</th>\n",
       "      <th>rejected</th>\n",
       "      <th>rejected</th>\n",
       "    </tr>\n",
       "  </thead>\n",
       "  <tbody>\n",
       "    <tr>\n",
       "      <th>count</th>\n",
       "      <td>1421</td>\n",
       "      <td>1421</td>\n",
       "    </tr>\n",
       "    <tr>\n",
       "      <th>unique</th>\n",
       "      <td>2</td>\n",
       "      <td>2</td>\n",
       "    </tr>\n",
       "    <tr>\n",
       "      <th>top</th>\n",
       "      <td>False</td>\n",
       "      <td>False</td>\n",
       "    </tr>\n",
       "    <tr>\n",
       "      <th>freq</th>\n",
       "      <td>1039</td>\n",
       "      <td>1002</td>\n",
       "    </tr>\n",
       "  </tbody>\n",
       "</table>\n",
       "</div>"
      ],
      "text/plain": [
       "model        PI    QRILC\n",
       "var    rejected rejected\n",
       "count      1421     1421\n",
       "unique        2        2\n",
       "top       False    False\n",
       "freq       1039     1002"
      ]
     },
     "execution_count": 13,
     "metadata": {},
     "output_type": "execute_result"
    }
   ],
   "source": [
    "scores.describe(include=['bool', 'O'])"
   ]
  },
  {
   "cell_type": "markdown",
   "id": "bef83742-05e5-473b-892e-dd286cb3a31f",
   "metadata": {
    "papermill": {
     "duration": 0.014412,
     "end_time": "2025-01-17T13:34:36.472162",
     "exception": false,
     "start_time": "2025-01-17T13:34:36.457750",
     "status": "completed"
    },
    "tags": []
   },
   "source": [
    "## Load frequencies of observed features"
   ]
  },
  {
   "cell_type": "code",
   "execution_count": 14,
   "id": "2a926ba1-0f3b-4089-a349-b6d66128cf37",
   "metadata": {
    "execution": {
     "iopub.execute_input": "2025-01-17T13:34:36.502315Z",
     "iopub.status.busy": "2025-01-17T13:34:36.501495Z",
     "iopub.status.idle": "2025-01-17T13:34:36.515855Z",
     "shell.execute_reply": "2025-01-17T13:34:36.515233Z"
    },
    "papermill": {
     "duration": 0.030644,
     "end_time": "2025-01-17T13:34:36.517084",
     "exception": false,
     "start_time": "2025-01-17T13:34:36.486440",
     "status": "completed"
    },
    "tags": [
     "hide-input"
    ]
   },
   "outputs": [
    {
     "data": {
      "text/html": [
       "<div>\n",
       "<style scoped>\n",
       "    .dataframe tbody tr th:only-of-type {\n",
       "        vertical-align: middle;\n",
       "    }\n",
       "\n",
       "    .dataframe tbody tr th {\n",
       "        vertical-align: top;\n",
       "    }\n",
       "\n",
       "    .dataframe thead tr th {\n",
       "        text-align: left;\n",
       "    }\n",
       "\n",
       "    .dataframe thead tr:last-of-type th {\n",
       "        text-align: right;\n",
       "    }\n",
       "</style>\n",
       "<table border=\"1\" class=\"dataframe\">\n",
       "  <thead>\n",
       "    <tr>\n",
       "      <th></th>\n",
       "      <th>data</th>\n",
       "    </tr>\n",
       "    <tr>\n",
       "      <th></th>\n",
       "      <th>frequency</th>\n",
       "    </tr>\n",
       "    <tr>\n",
       "      <th>protein groups</th>\n",
       "      <th></th>\n",
       "    </tr>\n",
       "  </thead>\n",
       "  <tbody>\n",
       "    <tr>\n",
       "      <th>A0A024QZX5;A0A087X1N8;P35237</th>\n",
       "      <td>186</td>\n",
       "    </tr>\n",
       "    <tr>\n",
       "      <th>A0A024R0T9;K7ER74;P02655</th>\n",
       "      <td>195</td>\n",
       "    </tr>\n",
       "    <tr>\n",
       "      <th>A0A024R3W6;A0A024R412;O60462;O60462-2;O60462-3;O60462-4;O60462-5;Q7LBX6;X5D2Q8</th>\n",
       "      <td>174</td>\n",
       "    </tr>\n",
       "    <tr>\n",
       "      <th>A0A024R644;A0A0A0MRU5;A0A1B0GWI2;O75503</th>\n",
       "      <td>196</td>\n",
       "    </tr>\n",
       "    <tr>\n",
       "      <th>A0A075B6H7</th>\n",
       "      <td>91</td>\n",
       "    </tr>\n",
       "    <tr>\n",
       "      <th>...</th>\n",
       "      <td>...</td>\n",
       "    </tr>\n",
       "    <tr>\n",
       "      <th>Q9Y6R7</th>\n",
       "      <td>197</td>\n",
       "    </tr>\n",
       "    <tr>\n",
       "      <th>Q9Y6X5</th>\n",
       "      <td>173</td>\n",
       "    </tr>\n",
       "    <tr>\n",
       "      <th>Q9Y6Y8;Q9Y6Y8-2</th>\n",
       "      <td>197</td>\n",
       "    </tr>\n",
       "    <tr>\n",
       "      <th>Q9Y6Y9</th>\n",
       "      <td>119</td>\n",
       "    </tr>\n",
       "    <tr>\n",
       "      <th>S4R3U6</th>\n",
       "      <td>126</td>\n",
       "    </tr>\n",
       "  </tbody>\n",
       "</table>\n",
       "<p>1421 rows × 1 columns</p>\n",
       "</div>"
      ],
      "text/plain": [
       "                                                        data\n",
       "                                                   frequency\n",
       "protein groups                                              \n",
       "A0A024QZX5;A0A087X1N8;P35237                             186\n",
       "A0A024R0T9;K7ER74;P02655                                 195\n",
       "A0A024R3W6;A0A024R412;O60462;O60462-2;O60462-3;...       174\n",
       "A0A024R644;A0A0A0MRU5;A0A1B0GWI2;O75503                  196\n",
       "A0A075B6H7                                                91\n",
       "...                                                      ...\n",
       "Q9Y6R7                                                   197\n",
       "Q9Y6X5                                                   173\n",
       "Q9Y6Y8;Q9Y6Y8-2                                          197\n",
       "Q9Y6Y9                                                   119\n",
       "S4R3U6                                                   126\n",
       "\n",
       "[1421 rows x 1 columns]"
      ]
     },
     "execution_count": 14,
     "metadata": {},
     "output_type": "execute_result"
    }
   ],
   "source": [
    "freq_feat = pd.read_csv(args.freq_features_observed, index_col=0)\n",
    "freq_feat.columns = pd.MultiIndex.from_tuples([('data', 'frequency'),])\n",
    "freq_feat"
   ]
  },
  {
   "cell_type": "markdown",
   "id": "408eacfe-770f-42ff-9057-2a98274e1ae3",
   "metadata": {
    "papermill": {
     "duration": 0.023909,
     "end_time": "2025-01-17T13:34:36.556010",
     "exception": false,
     "start_time": "2025-01-17T13:34:36.532101",
     "status": "completed"
    },
    "tags": []
   },
   "source": [
    "## Compare shared features"
   ]
  },
  {
   "cell_type": "code",
   "execution_count": 15,
   "id": "5b2dfb0f-195b-4044-a228-2d784ea2a458",
   "metadata": {
    "execution": {
     "iopub.execute_input": "2025-01-17T13:34:36.621743Z",
     "iopub.status.busy": "2025-01-17T13:34:36.621446Z",
     "iopub.status.idle": "2025-01-17T13:34:36.661333Z",
     "shell.execute_reply": "2025-01-17T13:34:36.660694Z"
    },
    "papermill": {
     "duration": 0.07603,
     "end_time": "2025-01-17T13:34:36.662665",
     "exception": false,
     "start_time": "2025-01-17T13:34:36.586635",
     "status": "completed"
    },
    "tags": [
     "hide-input"
    ]
   },
   "outputs": [
    {
     "data": {
      "text/html": [
       "<div>\n",
       "<style scoped>\n",
       "    .dataframe tbody tr th:only-of-type {\n",
       "        vertical-align: middle;\n",
       "    }\n",
       "\n",
       "    .dataframe tbody tr th {\n",
       "        vertical-align: top;\n",
       "    }\n",
       "\n",
       "    .dataframe thead tr th {\n",
       "        text-align: left;\n",
       "    }\n",
       "\n",
       "    .dataframe thead tr:last-of-type th {\n",
       "        text-align: right;\n",
       "    }\n",
       "</style>\n",
       "<table border=\"1\" class=\"dataframe\">\n",
       "  <thead>\n",
       "    <tr>\n",
       "      <th></th>\n",
       "      <th colspan=\"4\" halign=\"left\">PI</th>\n",
       "      <th colspan=\"4\" halign=\"left\">QRILC</th>\n",
       "      <th>data</th>\n",
       "    </tr>\n",
       "    <tr>\n",
       "      <th></th>\n",
       "      <th>p-unc</th>\n",
       "      <th>-Log10 pvalue</th>\n",
       "      <th>qvalue</th>\n",
       "      <th>rejected</th>\n",
       "      <th>p-unc</th>\n",
       "      <th>-Log10 pvalue</th>\n",
       "      <th>qvalue</th>\n",
       "      <th>rejected</th>\n",
       "      <th>frequency</th>\n",
       "    </tr>\n",
       "    <tr>\n",
       "      <th>protein groups</th>\n",
       "      <th></th>\n",
       "      <th></th>\n",
       "      <th></th>\n",
       "      <th></th>\n",
       "      <th></th>\n",
       "      <th></th>\n",
       "      <th></th>\n",
       "      <th></th>\n",
       "      <th></th>\n",
       "    </tr>\n",
       "  </thead>\n",
       "  <tbody>\n",
       "    <tr>\n",
       "      <th>A0A024QZX5;A0A087X1N8;P35237</th>\n",
       "      <td>0.317</td>\n",
       "      <td>0.499</td>\n",
       "      <td>0.481</td>\n",
       "      <td>False</td>\n",
       "      <td>0.043</td>\n",
       "      <td>1.367</td>\n",
       "      <td>0.100</td>\n",
       "      <td>False</td>\n",
       "      <td>186</td>\n",
       "    </tr>\n",
       "    <tr>\n",
       "      <th>A0A024R0T9;K7ER74;P02655</th>\n",
       "      <td>0.046</td>\n",
       "      <td>1.342</td>\n",
       "      <td>0.114</td>\n",
       "      <td>False</td>\n",
       "      <td>0.033</td>\n",
       "      <td>1.478</td>\n",
       "      <td>0.082</td>\n",
       "      <td>False</td>\n",
       "      <td>195</td>\n",
       "    </tr>\n",
       "    <tr>\n",
       "      <th>A0A024R3W6;A0A024R412;O60462;O60462-2;O60462-3;O60462-4;O60462-5;Q7LBX6;X5D2Q8</th>\n",
       "      <td>0.158</td>\n",
       "      <td>0.801</td>\n",
       "      <td>0.293</td>\n",
       "      <td>False</td>\n",
       "      <td>0.345</td>\n",
       "      <td>0.463</td>\n",
       "      <td>0.495</td>\n",
       "      <td>False</td>\n",
       "      <td>174</td>\n",
       "    </tr>\n",
       "    <tr>\n",
       "      <th>A0A024R644;A0A0A0MRU5;A0A1B0GWI2;O75503</th>\n",
       "      <td>0.505</td>\n",
       "      <td>0.297</td>\n",
       "      <td>0.652</td>\n",
       "      <td>False</td>\n",
       "      <td>0.298</td>\n",
       "      <td>0.525</td>\n",
       "      <td>0.447</td>\n",
       "      <td>False</td>\n",
       "      <td>196</td>\n",
       "    </tr>\n",
       "    <tr>\n",
       "      <th>A0A075B6H7</th>\n",
       "      <td>0.128</td>\n",
       "      <td>0.892</td>\n",
       "      <td>0.252</td>\n",
       "      <td>False</td>\n",
       "      <td>0.110</td>\n",
       "      <td>0.957</td>\n",
       "      <td>0.213</td>\n",
       "      <td>False</td>\n",
       "      <td>91</td>\n",
       "    </tr>\n",
       "    <tr>\n",
       "      <th>...</th>\n",
       "      <td>...</td>\n",
       "      <td>...</td>\n",
       "      <td>...</td>\n",
       "      <td>...</td>\n",
       "      <td>...</td>\n",
       "      <td>...</td>\n",
       "      <td>...</td>\n",
       "      <td>...</td>\n",
       "      <td>...</td>\n",
       "    </tr>\n",
       "    <tr>\n",
       "      <th>Q9Y6R7</th>\n",
       "      <td>0.175</td>\n",
       "      <td>0.756</td>\n",
       "      <td>0.316</td>\n",
       "      <td>False</td>\n",
       "      <td>0.175</td>\n",
       "      <td>0.756</td>\n",
       "      <td>0.302</td>\n",
       "      <td>False</td>\n",
       "      <td>197</td>\n",
       "    </tr>\n",
       "    <tr>\n",
       "      <th>Q9Y6X5</th>\n",
       "      <td>0.113</td>\n",
       "      <td>0.947</td>\n",
       "      <td>0.230</td>\n",
       "      <td>False</td>\n",
       "      <td>0.052</td>\n",
       "      <td>1.286</td>\n",
       "      <td>0.117</td>\n",
       "      <td>False</td>\n",
       "      <td>173</td>\n",
       "    </tr>\n",
       "    <tr>\n",
       "      <th>Q9Y6Y8;Q9Y6Y8-2</th>\n",
       "      <td>0.083</td>\n",
       "      <td>1.079</td>\n",
       "      <td>0.183</td>\n",
       "      <td>False</td>\n",
       "      <td>0.083</td>\n",
       "      <td>1.079</td>\n",
       "      <td>0.171</td>\n",
       "      <td>False</td>\n",
       "      <td>197</td>\n",
       "    </tr>\n",
       "    <tr>\n",
       "      <th>Q9Y6Y9</th>\n",
       "      <td>0.564</td>\n",
       "      <td>0.249</td>\n",
       "      <td>0.700</td>\n",
       "      <td>False</td>\n",
       "      <td>0.527</td>\n",
       "      <td>0.278</td>\n",
       "      <td>0.660</td>\n",
       "      <td>False</td>\n",
       "      <td>119</td>\n",
       "    </tr>\n",
       "    <tr>\n",
       "      <th>S4R3U6</th>\n",
       "      <td>0.899</td>\n",
       "      <td>0.046</td>\n",
       "      <td>0.942</td>\n",
       "      <td>False</td>\n",
       "      <td>0.610</td>\n",
       "      <td>0.214</td>\n",
       "      <td>0.731</td>\n",
       "      <td>False</td>\n",
       "      <td>126</td>\n",
       "    </tr>\n",
       "  </tbody>\n",
       "</table>\n",
       "<p>1421 rows × 9 columns</p>\n",
       "</div>"
      ],
      "text/plain": [
       "                                                      PI                       \\\n",
       "                                                   p-unc -Log10 pvalue qvalue   \n",
       "protein groups                                                                  \n",
       "A0A024QZX5;A0A087X1N8;P35237                       0.317         0.499  0.481   \n",
       "A0A024R0T9;K7ER74;P02655                           0.046         1.342  0.114   \n",
       "A0A024R3W6;A0A024R412;O60462;O60462-2;O60462-3;... 0.158         0.801  0.293   \n",
       "A0A024R644;A0A0A0MRU5;A0A1B0GWI2;O75503            0.505         0.297  0.652   \n",
       "A0A075B6H7                                         0.128         0.892  0.252   \n",
       "...                                                  ...           ...    ...   \n",
       "Q9Y6R7                                             0.175         0.756  0.316   \n",
       "Q9Y6X5                                             0.113         0.947  0.230   \n",
       "Q9Y6Y8;Q9Y6Y8-2                                    0.083         1.079  0.183   \n",
       "Q9Y6Y9                                             0.564         0.249  0.700   \n",
       "S4R3U6                                             0.899         0.046  0.942   \n",
       "\n",
       "                                                            QRILC  \\\n",
       "                                                   rejected p-unc   \n",
       "protein groups                                                      \n",
       "A0A024QZX5;A0A087X1N8;P35237                          False 0.043   \n",
       "A0A024R0T9;K7ER74;P02655                              False 0.033   \n",
       "A0A024R3W6;A0A024R412;O60462;O60462-2;O60462-3;...    False 0.345   \n",
       "A0A024R644;A0A0A0MRU5;A0A1B0GWI2;O75503               False 0.298   \n",
       "A0A075B6H7                                            False 0.110   \n",
       "...                                                     ...   ...   \n",
       "Q9Y6R7                                                False 0.175   \n",
       "Q9Y6X5                                                False 0.052   \n",
       "Q9Y6Y8;Q9Y6Y8-2                                       False 0.083   \n",
       "Q9Y6Y9                                                False 0.527   \n",
       "S4R3U6                                                False 0.610   \n",
       "\n",
       "                                                                         \\\n",
       "                                                   -Log10 pvalue qvalue   \n",
       "protein groups                                                            \n",
       "A0A024QZX5;A0A087X1N8;P35237                               1.367  0.100   \n",
       "A0A024R0T9;K7ER74;P02655                                   1.478  0.082   \n",
       "A0A024R3W6;A0A024R412;O60462;O60462-2;O60462-3;...         0.463  0.495   \n",
       "A0A024R644;A0A0A0MRU5;A0A1B0GWI2;O75503                    0.525  0.447   \n",
       "A0A075B6H7                                                 0.957  0.213   \n",
       "...                                                          ...    ...   \n",
       "Q9Y6R7                                                     0.756  0.302   \n",
       "Q9Y6X5                                                     1.286  0.117   \n",
       "Q9Y6Y8;Q9Y6Y8-2                                            1.079  0.171   \n",
       "Q9Y6Y9                                                     0.278  0.660   \n",
       "S4R3U6                                                     0.214  0.731   \n",
       "\n",
       "                                                                 data  \n",
       "                                                   rejected frequency  \n",
       "protein groups                                                         \n",
       "A0A024QZX5;A0A087X1N8;P35237                          False       186  \n",
       "A0A024R0T9;K7ER74;P02655                              False       195  \n",
       "A0A024R3W6;A0A024R412;O60462;O60462-2;O60462-3;...    False       174  \n",
       "A0A024R644;A0A0A0MRU5;A0A1B0GWI2;O75503               False       196  \n",
       "A0A075B6H7                                            False        91  \n",
       "...                                                     ...       ...  \n",
       "Q9Y6R7                                                False       197  \n",
       "Q9Y6X5                                                False       173  \n",
       "Q9Y6Y8;Q9Y6Y8-2                                       False       197  \n",
       "Q9Y6Y9                                                False       119  \n",
       "S4R3U6                                                False       126  \n",
       "\n",
       "[1421 rows x 9 columns]"
      ]
     },
     "execution_count": 15,
     "metadata": {},
     "output_type": "execute_result"
    }
   ],
   "source": [
    "scores_common = (scores\n",
    "                 .dropna()\n",
    "                 .reset_index(-1, drop=True)\n",
    "                 ).join(\n",
    "    freq_feat, how='left'\n",
    ")\n",
    "scores_common"
   ]
  },
  {
   "cell_type": "markdown",
   "id": "62a9eefd",
   "metadata": {
    "papermill": {
     "duration": 0.02413,
     "end_time": "2025-01-17T13:34:36.721092",
     "exception": false,
     "start_time": "2025-01-17T13:34:36.696962",
     "status": "completed"
    },
    "tags": []
   },
   "source": [
    "### Annotate decisions in Confusion Table style:"
   ]
  },
  {
   "cell_type": "code",
   "execution_count": 16,
   "id": "80cf4145-070d-457a-bb74-ee64299809e7",
   "metadata": {
    "execution": {
     "iopub.execute_input": "2025-01-17T13:34:36.783708Z",
     "iopub.status.busy": "2025-01-17T13:34:36.783446Z",
     "iopub.status.idle": "2025-01-17T13:34:36.799769Z",
     "shell.execute_reply": "2025-01-17T13:34:36.796432Z"
    },
    "papermill": {
     "duration": 0.03408,
     "end_time": "2025-01-17T13:34:36.801190",
     "exception": false,
     "start_time": "2025-01-17T13:34:36.767110",
     "status": "completed"
    },
    "tags": [
     "hide-input"
    ]
   },
   "outputs": [
    {
     "data": {
      "text/plain": [
       "Differential Analysis Comparison\n",
       "PI (no)  - QRILC (no)    970\n",
       "PI (yes) - QRILC (yes)   350\n",
       "PI (no)  - QRILC (yes)    69\n",
       "PI (yes) - QRILC (no)     32\n",
       "Name: count, dtype: int64"
      ]
     },
     "execution_count": 16,
     "metadata": {},
     "output_type": "execute_result"
    }
   ],
   "source": [
    "def annotate_decision(scores, model, model_column):\n",
    "    return scores[(model_column, 'rejected')].replace({False: f'{model} (no) ', True: f'{model} (yes)'})\n",
    "\n",
    "\n",
    "annotations = None\n",
    "for model, model_column in models.items():\n",
    "    if annotations is not None:\n",
    "        annotations += ' - '\n",
    "        annotations += annotate_decision(scores_common,\n",
    "                                         model=model, model_column=model_column)\n",
    "    else:\n",
    "        annotations = annotate_decision(\n",
    "            scores_common, model=model, model_column=model_column)\n",
    "annotations.name = 'Differential Analysis Comparison'\n",
    "annotations.value_counts()"
   ]
  },
  {
   "cell_type": "markdown",
   "id": "0942d395",
   "metadata": {
    "papermill": {
     "duration": 0.050786,
     "end_time": "2025-01-17T13:34:36.900239",
     "exception": false,
     "start_time": "2025-01-17T13:34:36.849453",
     "status": "completed"
    },
    "tags": []
   },
   "source": [
    "### List different decisions between models"
   ]
  },
  {
   "cell_type": "code",
   "execution_count": 17,
   "id": "cda5ffa4-9a97-4a49-aaba-34e83ef7940a",
   "metadata": {
    "execution": {
     "iopub.execute_input": "2025-01-17T13:34:36.972601Z",
     "iopub.status.busy": "2025-01-17T13:34:36.969113Z",
     "iopub.status.idle": "2025-01-17T13:34:37.028928Z",
     "shell.execute_reply": "2025-01-17T13:34:37.028306Z"
    },
    "papermill": {
     "duration": 0.08474,
     "end_time": "2025-01-17T13:34:37.030323",
     "exception": false,
     "start_time": "2025-01-17T13:34:36.945583",
     "status": "completed"
    },
    "tags": [
     "hide-input"
    ]
   },
   "outputs": [
    {
     "name": "stderr",
     "output_type": "stream",
     "text": [
      "/tmp/ipykernel_34437/1417621106.py:6: FutureWarning: Starting with pandas version 3.0 all arguments of to_excel except for the argument 'excel_writer' will be keyword-only.\n",
      "  _to_write.to_excel(writer, 'differences', **writer_args)\n",
      "root - INFO     Writen to Excel file under sheet 'differences'.\n"
     ]
    },
    {
     "data": {
      "text/html": [
       "<div>\n",
       "<style scoped>\n",
       "    .dataframe tbody tr th:only-of-type {\n",
       "        vertical-align: middle;\n",
       "    }\n",
       "\n",
       "    .dataframe tbody tr th {\n",
       "        vertical-align: top;\n",
       "    }\n",
       "\n",
       "    .dataframe thead tr th {\n",
       "        text-align: left;\n",
       "    }\n",
       "\n",
       "    .dataframe thead tr:last-of-type th {\n",
       "        text-align: right;\n",
       "    }\n",
       "</style>\n",
       "<table border=\"1\" class=\"dataframe\">\n",
       "  <thead>\n",
       "    <tr>\n",
       "      <th></th>\n",
       "      <th colspan=\"4\" halign=\"left\">PI</th>\n",
       "      <th colspan=\"4\" halign=\"left\">QRILC</th>\n",
       "      <th>data</th>\n",
       "    </tr>\n",
       "    <tr>\n",
       "      <th></th>\n",
       "      <th>p-unc</th>\n",
       "      <th>-Log10 pvalue</th>\n",
       "      <th>qvalue</th>\n",
       "      <th>rejected</th>\n",
       "      <th>p-unc</th>\n",
       "      <th>-Log10 pvalue</th>\n",
       "      <th>qvalue</th>\n",
       "      <th>rejected</th>\n",
       "      <th>frequency</th>\n",
       "    </tr>\n",
       "    <tr>\n",
       "      <th>protein groups</th>\n",
       "      <th></th>\n",
       "      <th></th>\n",
       "      <th></th>\n",
       "      <th></th>\n",
       "      <th></th>\n",
       "      <th></th>\n",
       "      <th></th>\n",
       "      <th></th>\n",
       "      <th></th>\n",
       "    </tr>\n",
       "  </thead>\n",
       "  <tbody>\n",
       "    <tr>\n",
       "      <th>A0A075B6I0</th>\n",
       "      <td>0.021</td>\n",
       "      <td>1.678</td>\n",
       "      <td>0.062</td>\n",
       "      <td>False</td>\n",
       "      <td>0.002</td>\n",
       "      <td>2.657</td>\n",
       "      <td>0.009</td>\n",
       "      <td>True</td>\n",
       "      <td>194</td>\n",
       "    </tr>\n",
       "    <tr>\n",
       "      <th>A0A087WWT2;Q9NPD7</th>\n",
       "      <td>0.037</td>\n",
       "      <td>1.426</td>\n",
       "      <td>0.097</td>\n",
       "      <td>False</td>\n",
       "      <td>0.007</td>\n",
       "      <td>2.138</td>\n",
       "      <td>0.024</td>\n",
       "      <td>True</td>\n",
       "      <td>193</td>\n",
       "    </tr>\n",
       "    <tr>\n",
       "      <th>A0A087X152;D6RE16;E0CX15;O95185;O95185-2</th>\n",
       "      <td>0.006</td>\n",
       "      <td>2.236</td>\n",
       "      <td>0.021</td>\n",
       "      <td>True</td>\n",
       "      <td>0.059</td>\n",
       "      <td>1.231</td>\n",
       "      <td>0.129</td>\n",
       "      <td>False</td>\n",
       "      <td>176</td>\n",
       "    </tr>\n",
       "    <tr>\n",
       "      <th>A0A0A0MT66</th>\n",
       "      <td>0.010</td>\n",
       "      <td>2.009</td>\n",
       "      <td>0.033</td>\n",
       "      <td>True</td>\n",
       "      <td>0.169</td>\n",
       "      <td>0.772</td>\n",
       "      <td>0.295</td>\n",
       "      <td>False</td>\n",
       "      <td>170</td>\n",
       "    </tr>\n",
       "    <tr>\n",
       "      <th>A0A0A0MTP9;F8VZI9;Q9BWQ8</th>\n",
       "      <td>0.025</td>\n",
       "      <td>1.602</td>\n",
       "      <td>0.071</td>\n",
       "      <td>False</td>\n",
       "      <td>0.011</td>\n",
       "      <td>1.944</td>\n",
       "      <td>0.034</td>\n",
       "      <td>True</td>\n",
       "      <td>193</td>\n",
       "    </tr>\n",
       "    <tr>\n",
       "      <th>...</th>\n",
       "      <td>...</td>\n",
       "      <td>...</td>\n",
       "      <td>...</td>\n",
       "      <td>...</td>\n",
       "      <td>...</td>\n",
       "      <td>...</td>\n",
       "      <td>...</td>\n",
       "      <td>...</td>\n",
       "      <td>...</td>\n",
       "    </tr>\n",
       "    <tr>\n",
       "      <th>Q9NYX4</th>\n",
       "      <td>0.057</td>\n",
       "      <td>1.246</td>\n",
       "      <td>0.136</td>\n",
       "      <td>False</td>\n",
       "      <td>0.009</td>\n",
       "      <td>2.047</td>\n",
       "      <td>0.028</td>\n",
       "      <td>True</td>\n",
       "      <td>195</td>\n",
       "    </tr>\n",
       "    <tr>\n",
       "      <th>Q9P0K9</th>\n",
       "      <td>0.031</td>\n",
       "      <td>1.509</td>\n",
       "      <td>0.084</td>\n",
       "      <td>False</td>\n",
       "      <td>0.010</td>\n",
       "      <td>1.988</td>\n",
       "      <td>0.031</td>\n",
       "      <td>True</td>\n",
       "      <td>192</td>\n",
       "    </tr>\n",
       "    <tr>\n",
       "      <th>Q9UJ14</th>\n",
       "      <td>0.045</td>\n",
       "      <td>1.345</td>\n",
       "      <td>0.113</td>\n",
       "      <td>False</td>\n",
       "      <td>0.009</td>\n",
       "      <td>2.048</td>\n",
       "      <td>0.028</td>\n",
       "      <td>True</td>\n",
       "      <td>169</td>\n",
       "    </tr>\n",
       "    <tr>\n",
       "      <th>Q9UNW1</th>\n",
       "      <td>0.007</td>\n",
       "      <td>2.139</td>\n",
       "      <td>0.026</td>\n",
       "      <td>True</td>\n",
       "      <td>0.151</td>\n",
       "      <td>0.820</td>\n",
       "      <td>0.271</td>\n",
       "      <td>False</td>\n",
       "      <td>171</td>\n",
       "    </tr>\n",
       "    <tr>\n",
       "      <th>Q9UQ52</th>\n",
       "      <td>0.087</td>\n",
       "      <td>1.061</td>\n",
       "      <td>0.188</td>\n",
       "      <td>False</td>\n",
       "      <td>0.003</td>\n",
       "      <td>2.563</td>\n",
       "      <td>0.010</td>\n",
       "      <td>True</td>\n",
       "      <td>188</td>\n",
       "    </tr>\n",
       "  </tbody>\n",
       "</table>\n",
       "<p>101 rows × 9 columns</p>\n",
       "</div>"
      ],
      "text/plain": [
       "                                            PI                                \\\n",
       "                                         p-unc -Log10 pvalue qvalue rejected   \n",
       "protein groups                                                                 \n",
       "A0A075B6I0                               0.021         1.678  0.062    False   \n",
       "A0A087WWT2;Q9NPD7                        0.037         1.426  0.097    False   \n",
       "A0A087X152;D6RE16;E0CX15;O95185;O95185-2 0.006         2.236  0.021     True   \n",
       "A0A0A0MT66                               0.010         2.009  0.033     True   \n",
       "A0A0A0MTP9;F8VZI9;Q9BWQ8                 0.025         1.602  0.071    False   \n",
       "...                                        ...           ...    ...      ...   \n",
       "Q9NYX4                                   0.057         1.246  0.136    False   \n",
       "Q9P0K9                                   0.031         1.509  0.084    False   \n",
       "Q9UJ14                                   0.045         1.345  0.113    False   \n",
       "Q9UNW1                                   0.007         2.139  0.026     True   \n",
       "Q9UQ52                                   0.087         1.061  0.188    False   \n",
       "\n",
       "                                         QRILC                                \\\n",
       "                                         p-unc -Log10 pvalue qvalue rejected   \n",
       "protein groups                                                                 \n",
       "A0A075B6I0                               0.002         2.657  0.009     True   \n",
       "A0A087WWT2;Q9NPD7                        0.007         2.138  0.024     True   \n",
       "A0A087X152;D6RE16;E0CX15;O95185;O95185-2 0.059         1.231  0.129    False   \n",
       "A0A0A0MT66                               0.169         0.772  0.295    False   \n",
       "A0A0A0MTP9;F8VZI9;Q9BWQ8                 0.011         1.944  0.034     True   \n",
       "...                                        ...           ...    ...      ...   \n",
       "Q9NYX4                                   0.009         2.047  0.028     True   \n",
       "Q9P0K9                                   0.010         1.988  0.031     True   \n",
       "Q9UJ14                                   0.009         2.048  0.028     True   \n",
       "Q9UNW1                                   0.151         0.820  0.271    False   \n",
       "Q9UQ52                                   0.003         2.563  0.010     True   \n",
       "\n",
       "                                              data  \n",
       "                                         frequency  \n",
       "protein groups                                      \n",
       "A0A075B6I0                                     194  \n",
       "A0A087WWT2;Q9NPD7                              193  \n",
       "A0A087X152;D6RE16;E0CX15;O95185;O95185-2       176  \n",
       "A0A0A0MT66                                     170  \n",
       "A0A0A0MTP9;F8VZI9;Q9BWQ8                       193  \n",
       "...                                            ...  \n",
       "Q9NYX4                                         195  \n",
       "Q9P0K9                                         192  \n",
       "Q9UJ14                                         169  \n",
       "Q9UNW1                                         171  \n",
       "Q9UQ52                                         188  \n",
       "\n",
       "[101 rows x 9 columns]"
      ]
     },
     "execution_count": 17,
     "metadata": {},
     "output_type": "execute_result"
    }
   ],
   "source": [
    "mask_different = (\n",
    "    (scores_common.loc[:, pd.IndexSlice[:, 'rejected']].any(axis=1))\n",
    "    & ~(scores_common.loc[:, pd.IndexSlice[:, 'rejected']].all(axis=1))\n",
    ")\n",
    "_to_write = scores_common.loc[mask_different]\n",
    "_to_write.to_excel(writer, 'differences', **writer_args)\n",
    "logger.info(\"Writen to Excel file under sheet 'differences'.\")\n",
    "_to_write"
   ]
  },
  {
   "cell_type": "markdown",
   "id": "e8832084",
   "metadata": {
    "papermill": {
     "duration": 0.015739,
     "end_time": "2025-01-17T13:34:37.064094",
     "exception": false,
     "start_time": "2025-01-17T13:34:37.048355",
     "status": "completed"
    },
    "tags": []
   },
   "source": [
    "## Plot qvalues of both models with annotated decisions\n",
    "\n",
    "Prepare data for plotting (qvalues)"
   ]
  },
  {
   "cell_type": "code",
   "execution_count": 18,
   "id": "5b2e5341-b054-40c3-b45a-44ae6ca46cfb",
   "metadata": {
    "execution": {
     "iopub.execute_input": "2025-01-17T13:34:37.112773Z",
     "iopub.status.busy": "2025-01-17T13:34:37.112480Z",
     "iopub.status.idle": "2025-01-17T13:34:37.130782Z",
     "shell.execute_reply": "2025-01-17T13:34:37.128312Z"
    },
    "papermill": {
     "duration": 0.046369,
     "end_time": "2025-01-17T13:34:37.132240",
     "exception": false,
     "start_time": "2025-01-17T13:34:37.085871",
     "status": "completed"
    },
    "tags": [
     "hide-input"
    ]
   },
   "outputs": [
    {
     "data": {
      "text/html": [
       "<div>\n",
       "<style scoped>\n",
       "    .dataframe tbody tr th:only-of-type {\n",
       "        vertical-align: middle;\n",
       "    }\n",
       "\n",
       "    .dataframe tbody tr th {\n",
       "        vertical-align: top;\n",
       "    }\n",
       "\n",
       "    .dataframe thead th {\n",
       "        text-align: right;\n",
       "    }\n",
       "</style>\n",
       "<table border=\"1\" class=\"dataframe\">\n",
       "  <thead>\n",
       "    <tr style=\"text-align: right;\">\n",
       "      <th></th>\n",
       "      <th>PI</th>\n",
       "      <th>QRILC</th>\n",
       "      <th>frequency</th>\n",
       "      <th>Differential Analysis Comparison</th>\n",
       "    </tr>\n",
       "    <tr>\n",
       "      <th>protein groups</th>\n",
       "      <th></th>\n",
       "      <th></th>\n",
       "      <th></th>\n",
       "      <th></th>\n",
       "    </tr>\n",
       "  </thead>\n",
       "  <tbody>\n",
       "    <tr>\n",
       "      <th>A0A024QZX5;A0A087X1N8;P35237</th>\n",
       "      <td>0.481</td>\n",
       "      <td>0.100</td>\n",
       "      <td>186</td>\n",
       "      <td>PI (no)  - QRILC (no)</td>\n",
       "    </tr>\n",
       "    <tr>\n",
       "      <th>A0A024R0T9;K7ER74;P02655</th>\n",
       "      <td>0.114</td>\n",
       "      <td>0.082</td>\n",
       "      <td>195</td>\n",
       "      <td>PI (no)  - QRILC (no)</td>\n",
       "    </tr>\n",
       "    <tr>\n",
       "      <th>A0A024R3W6;A0A024R412;O60462;O60462-2;O60462-3;O60462-4;O60462-5;Q7LBX6;X5D2Q8</th>\n",
       "      <td>0.293</td>\n",
       "      <td>0.495</td>\n",
       "      <td>174</td>\n",
       "      <td>PI (no)  - QRILC (no)</td>\n",
       "    </tr>\n",
       "    <tr>\n",
       "      <th>A0A024R644;A0A0A0MRU5;A0A1B0GWI2;O75503</th>\n",
       "      <td>0.652</td>\n",
       "      <td>0.447</td>\n",
       "      <td>196</td>\n",
       "      <td>PI (no)  - QRILC (no)</td>\n",
       "    </tr>\n",
       "    <tr>\n",
       "      <th>A0A075B6H7</th>\n",
       "      <td>0.252</td>\n",
       "      <td>0.213</td>\n",
       "      <td>91</td>\n",
       "      <td>PI (no)  - QRILC (no)</td>\n",
       "    </tr>\n",
       "    <tr>\n",
       "      <th>...</th>\n",
       "      <td>...</td>\n",
       "      <td>...</td>\n",
       "      <td>...</td>\n",
       "      <td>...</td>\n",
       "    </tr>\n",
       "    <tr>\n",
       "      <th>Q9Y6R7</th>\n",
       "      <td>0.316</td>\n",
       "      <td>0.302</td>\n",
       "      <td>197</td>\n",
       "      <td>PI (no)  - QRILC (no)</td>\n",
       "    </tr>\n",
       "    <tr>\n",
       "      <th>Q9Y6X5</th>\n",
       "      <td>0.230</td>\n",
       "      <td>0.117</td>\n",
       "      <td>173</td>\n",
       "      <td>PI (no)  - QRILC (no)</td>\n",
       "    </tr>\n",
       "    <tr>\n",
       "      <th>Q9Y6Y8;Q9Y6Y8-2</th>\n",
       "      <td>0.183</td>\n",
       "      <td>0.171</td>\n",
       "      <td>197</td>\n",
       "      <td>PI (no)  - QRILC (no)</td>\n",
       "    </tr>\n",
       "    <tr>\n",
       "      <th>Q9Y6Y9</th>\n",
       "      <td>0.700</td>\n",
       "      <td>0.660</td>\n",
       "      <td>119</td>\n",
       "      <td>PI (no)  - QRILC (no)</td>\n",
       "    </tr>\n",
       "    <tr>\n",
       "      <th>S4R3U6</th>\n",
       "      <td>0.942</td>\n",
       "      <td>0.731</td>\n",
       "      <td>126</td>\n",
       "      <td>PI (no)  - QRILC (no)</td>\n",
       "    </tr>\n",
       "  </tbody>\n",
       "</table>\n",
       "<p>1421 rows × 4 columns</p>\n",
       "</div>"
      ],
      "text/plain": [
       "                                                      PI  QRILC  frequency  \\\n",
       "protein groups                                                               \n",
       "A0A024QZX5;A0A087X1N8;P35237                       0.481  0.100        186   \n",
       "A0A024R0T9;K7ER74;P02655                           0.114  0.082        195   \n",
       "A0A024R3W6;A0A024R412;O60462;O60462-2;O60462-3;... 0.293  0.495        174   \n",
       "A0A024R644;A0A0A0MRU5;A0A1B0GWI2;O75503            0.652  0.447        196   \n",
       "A0A075B6H7                                         0.252  0.213         91   \n",
       "...                                                  ...    ...        ...   \n",
       "Q9Y6R7                                             0.316  0.302        197   \n",
       "Q9Y6X5                                             0.230  0.117        173   \n",
       "Q9Y6Y8;Q9Y6Y8-2                                    0.183  0.171        197   \n",
       "Q9Y6Y9                                             0.700  0.660        119   \n",
       "S4R3U6                                             0.942  0.731        126   \n",
       "\n",
       "                                                   Differential Analysis Comparison  \n",
       "protein groups                                                                       \n",
       "A0A024QZX5;A0A087X1N8;P35237                                 PI (no)  - QRILC (no)   \n",
       "A0A024R0T9;K7ER74;P02655                                     PI (no)  - QRILC (no)   \n",
       "A0A024R3W6;A0A024R412;O60462;O60462-2;O60462-3;...           PI (no)  - QRILC (no)   \n",
       "A0A024R644;A0A0A0MRU5;A0A1B0GWI2;O75503                      PI (no)  - QRILC (no)   \n",
       "A0A075B6H7                                                   PI (no)  - QRILC (no)   \n",
       "...                                                                             ...  \n",
       "Q9Y6R7                                                       PI (no)  - QRILC (no)   \n",
       "Q9Y6X5                                                       PI (no)  - QRILC (no)   \n",
       "Q9Y6Y8;Q9Y6Y8-2                                              PI (no)  - QRILC (no)   \n",
       "Q9Y6Y9                                                       PI (no)  - QRILC (no)   \n",
       "S4R3U6                                                       PI (no)  - QRILC (no)   \n",
       "\n",
       "[1421 rows x 4 columns]"
      ]
     },
     "execution_count": 18,
     "metadata": {},
     "output_type": "execute_result"
    }
   ],
   "source": [
    "var = 'qvalue'\n",
    "to_plot = [scores_common[v][var] for v in models.values()]\n",
    "for s, k in zip(to_plot, models.keys()):\n",
    "    s.name = k.replace('_', ' ')\n",
    "to_plot.append(scores_common['data'])\n",
    "to_plot.append(annotations)\n",
    "to_plot = pd.concat(to_plot, axis=1)\n",
    "to_plot"
   ]
  },
  {
   "cell_type": "markdown",
   "id": "c92517a4-8456-4663-b719-4abd997fbb1c",
   "metadata": {
    "papermill": {
     "duration": 0.01986,
     "end_time": "2025-01-17T13:34:37.196828",
     "exception": false,
     "start_time": "2025-01-17T13:34:37.176968",
     "status": "completed"
    },
    "tags": []
   },
   "source": [
    "List of features with the highest difference in qvalues"
   ]
  },
  {
   "cell_type": "code",
   "execution_count": 19,
   "id": "c7af4a70-aa43-4772-af00-d425f5ed249f",
   "metadata": {
    "execution": {
     "iopub.execute_input": "2025-01-17T13:34:37.231686Z",
     "iopub.status.busy": "2025-01-17T13:34:37.231125Z",
     "iopub.status.idle": "2025-01-17T13:34:37.242889Z",
     "shell.execute_reply": "2025-01-17T13:34:37.242367Z"
    },
    "papermill": {
     "duration": 0.028983,
     "end_time": "2025-01-17T13:34:37.243914",
     "exception": false,
     "start_time": "2025-01-17T13:34:37.214931",
     "status": "completed"
    },
    "tags": [
     "hide-input"
    ]
   },
   "outputs": [
    {
     "data": {
      "text/html": [
       "<div>\n",
       "<style scoped>\n",
       "    .dataframe tbody tr th:only-of-type {\n",
       "        vertical-align: middle;\n",
       "    }\n",
       "\n",
       "    .dataframe tbody tr th {\n",
       "        vertical-align: top;\n",
       "    }\n",
       "\n",
       "    .dataframe thead th {\n",
       "        text-align: right;\n",
       "    }\n",
       "</style>\n",
       "<table border=\"1\" class=\"dataframe\">\n",
       "  <thead>\n",
       "    <tr style=\"text-align: right;\">\n",
       "      <th></th>\n",
       "      <th>PI</th>\n",
       "      <th>QRILC</th>\n",
       "      <th>frequency</th>\n",
       "      <th>Differential Analysis Comparison</th>\n",
       "      <th>diff_qvalue</th>\n",
       "    </tr>\n",
       "    <tr>\n",
       "      <th>protein groups</th>\n",
       "      <th></th>\n",
       "      <th></th>\n",
       "      <th></th>\n",
       "      <th></th>\n",
       "      <th></th>\n",
       "    </tr>\n",
       "  </thead>\n",
       "  <tbody>\n",
       "    <tr>\n",
       "      <th>E7EN89;E9PP67;E9PQ25;F2Z2Y8;Q9H0E2;Q9H0E2-2</th>\n",
       "      <td>0.952</td>\n",
       "      <td>0.002</td>\n",
       "      <td>86</td>\n",
       "      <td>PI (no)  - QRILC (yes)</td>\n",
       "      <td>0.950</td>\n",
       "    </tr>\n",
       "    <tr>\n",
       "      <th>K7EPJ5;O60291;O60291-2;O60291-3;O60291-4</th>\n",
       "      <td>0.867</td>\n",
       "      <td>0.007</td>\n",
       "      <td>50</td>\n",
       "      <td>PI (no)  - QRILC (yes)</td>\n",
       "      <td>0.860</td>\n",
       "    </tr>\n",
       "    <tr>\n",
       "      <th>J3KSJ8;Q9UD71;Q9UD71-2</th>\n",
       "      <td>0.837</td>\n",
       "      <td>0.004</td>\n",
       "      <td>51</td>\n",
       "      <td>PI (no)  - QRILC (yes)</td>\n",
       "      <td>0.833</td>\n",
       "    </tr>\n",
       "    <tr>\n",
       "      <th>O75339</th>\n",
       "      <td>0.852</td>\n",
       "      <td>0.049</td>\n",
       "      <td>55</td>\n",
       "      <td>PI (no)  - QRILC (yes)</td>\n",
       "      <td>0.803</td>\n",
       "    </tr>\n",
       "    <tr>\n",
       "      <th>Q9NY15</th>\n",
       "      <td>0.763</td>\n",
       "      <td>0.034</td>\n",
       "      <td>135</td>\n",
       "      <td>PI (no)  - QRILC (yes)</td>\n",
       "      <td>0.728</td>\n",
       "    </tr>\n",
       "    <tr>\n",
       "      <th>...</th>\n",
       "      <td>...</td>\n",
       "      <td>...</td>\n",
       "      <td>...</td>\n",
       "      <td>...</td>\n",
       "      <td>...</td>\n",
       "    </tr>\n",
       "    <tr>\n",
       "      <th>Q6UWH4;Q6UWH4-2</th>\n",
       "      <td>0.040</td>\n",
       "      <td>0.055</td>\n",
       "      <td>190</td>\n",
       "      <td>PI (yes) - QRILC (no)</td>\n",
       "      <td>0.015</td>\n",
       "    </tr>\n",
       "    <tr>\n",
       "      <th>Q93063;Q93063-3</th>\n",
       "      <td>0.047</td>\n",
       "      <td>0.058</td>\n",
       "      <td>145</td>\n",
       "      <td>PI (yes) - QRILC (no)</td>\n",
       "      <td>0.011</td>\n",
       "    </tr>\n",
       "    <tr>\n",
       "      <th>K7ERG9;P00746</th>\n",
       "      <td>0.052</td>\n",
       "      <td>0.048</td>\n",
       "      <td>197</td>\n",
       "      <td>PI (no)  - QRILC (yes)</td>\n",
       "      <td>0.005</td>\n",
       "    </tr>\n",
       "    <tr>\n",
       "      <th>P00740;P00740-2</th>\n",
       "      <td>0.053</td>\n",
       "      <td>0.048</td>\n",
       "      <td>197</td>\n",
       "      <td>PI (no)  - QRILC (yes)</td>\n",
       "      <td>0.005</td>\n",
       "    </tr>\n",
       "    <tr>\n",
       "      <th>P78310;P78310-2;P78310-5;P78310-6;P78310-7</th>\n",
       "      <td>0.052</td>\n",
       "      <td>0.048</td>\n",
       "      <td>108</td>\n",
       "      <td>PI (no)  - QRILC (yes)</td>\n",
       "      <td>0.004</td>\n",
       "    </tr>\n",
       "  </tbody>\n",
       "</table>\n",
       "<p>101 rows × 5 columns</p>\n",
       "</div>"
      ],
      "text/plain": [
       "                                               PI  QRILC  frequency  \\\n",
       "protein groups                                                        \n",
       "E7EN89;E9PP67;E9PQ25;F2Z2Y8;Q9H0E2;Q9H0E2-2 0.952  0.002         86   \n",
       "K7EPJ5;O60291;O60291-2;O60291-3;O60291-4    0.867  0.007         50   \n",
       "J3KSJ8;Q9UD71;Q9UD71-2                      0.837  0.004         51   \n",
       "O75339                                      0.852  0.049         55   \n",
       "Q9NY15                                      0.763  0.034        135   \n",
       "...                                           ...    ...        ...   \n",
       "Q6UWH4;Q6UWH4-2                             0.040  0.055        190   \n",
       "Q93063;Q93063-3                             0.047  0.058        145   \n",
       "K7ERG9;P00746                               0.052  0.048        197   \n",
       "P00740;P00740-2                             0.053  0.048        197   \n",
       "P78310;P78310-2;P78310-5;P78310-6;P78310-7  0.052  0.048        108   \n",
       "\n",
       "                                            Differential Analysis Comparison  \\\n",
       "protein groups                                                                 \n",
       "E7EN89;E9PP67;E9PQ25;F2Z2Y8;Q9H0E2;Q9H0E2-2           PI (no)  - QRILC (yes)   \n",
       "K7EPJ5;O60291;O60291-2;O60291-3;O60291-4              PI (no)  - QRILC (yes)   \n",
       "J3KSJ8;Q9UD71;Q9UD71-2                                PI (no)  - QRILC (yes)   \n",
       "O75339                                                PI (no)  - QRILC (yes)   \n",
       "Q9NY15                                                PI (no)  - QRILC (yes)   \n",
       "...                                                                      ...   \n",
       "Q6UWH4;Q6UWH4-2                                       PI (yes) - QRILC (no)    \n",
       "Q93063;Q93063-3                                       PI (yes) - QRILC (no)    \n",
       "K7ERG9;P00746                                         PI (no)  - QRILC (yes)   \n",
       "P00740;P00740-2                                       PI (no)  - QRILC (yes)   \n",
       "P78310;P78310-2;P78310-5;P78310-6;P78310-7            PI (no)  - QRILC (yes)   \n",
       "\n",
       "                                             diff_qvalue  \n",
       "protein groups                                            \n",
       "E7EN89;E9PP67;E9PQ25;F2Z2Y8;Q9H0E2;Q9H0E2-2        0.950  \n",
       "K7EPJ5;O60291;O60291-2;O60291-3;O60291-4           0.860  \n",
       "J3KSJ8;Q9UD71;Q9UD71-2                             0.833  \n",
       "O75339                                             0.803  \n",
       "Q9NY15                                             0.728  \n",
       "...                                                  ...  \n",
       "Q6UWH4;Q6UWH4-2                                    0.015  \n",
       "Q93063;Q93063-3                                    0.011  \n",
       "K7ERG9;P00746                                      0.005  \n",
       "P00740;P00740-2                                    0.005  \n",
       "P78310;P78310-2;P78310-5;P78310-6;P78310-7         0.004  \n",
       "\n",
       "[101 rows x 5 columns]"
      ]
     },
     "execution_count": 19,
     "metadata": {},
     "output_type": "execute_result"
    }
   ],
   "source": [
    "# should it be possible to run not only RSN?\n",
    "to_plot['diff_qvalue'] = (to_plot[str(args.baseline)] - to_plot[str(args.model_key)]).abs()\n",
    "to_plot.loc[mask_different].sort_values('diff_qvalue', ascending=False)"
   ]
  },
  {
   "cell_type": "markdown",
   "id": "e715954e-2d62-4cd9-b4b0-063524bca495",
   "metadata": {
    "papermill": {
     "duration": 0.016021,
     "end_time": "2025-01-17T13:34:37.277025",
     "exception": false,
     "start_time": "2025-01-17T13:34:37.261004",
     "status": "completed"
    },
    "tags": []
   },
   "source": [
    "### Differences plotted with created annotations"
   ]
  },
  {
   "cell_type": "code",
   "execution_count": 20,
   "id": "a20d356d-c397-4440-b70e-9d899aa200fd",
   "metadata": {
    "execution": {
     "iopub.execute_input": "2025-01-17T13:34:37.317775Z",
     "iopub.status.busy": "2025-01-17T13:34:37.314025Z",
     "iopub.status.idle": "2025-01-17T13:34:38.852987Z",
     "shell.execute_reply": "2025-01-17T13:34:38.852419Z"
    },
    "papermill": {
     "duration": 1.560862,
     "end_time": "2025-01-17T13:34:38.854561",
     "exception": false,
     "start_time": "2025-01-17T13:34:37.293699",
     "status": "completed"
    },
    "tags": [
     "hide-input"
    ]
   },
   "outputs": [
    {
     "name": "stderr",
     "output_type": "stream",
     "text": [
      "pimmslearn.plotting - INFO     Saved Figures to runs/alzheimer_study/diff_analysis/AD/PI_vs_QRILC/diff_analysis_comparision_1_QRILC\n"
     ]
    },
    {
     "data": {
      "image/png": "[encoded data removed]",
      "text/plain": [
       "<Figure size 588x588 with 1 Axes>"
      ]
     },
     "metadata": {},
     "output_type": "display_data"
    }
   ],
   "source": [
    "figsize = (4, 4)\n",
    "size = 5\n",
    "fig, ax = plt.subplots(figsize=figsize)\n",
    "x_col = to_plot.columns[0]\n",
    "y_col = to_plot.columns[1]\n",
    "ax = sns.scatterplot(data=to_plot,\n",
    "                     x=x_col,\n",
    "                     y=y_col,\n",
    "                     s=size,\n",
    "                     hue='Differential Analysis Comparison',\n",
    "                     ax=ax)\n",
    "_ = ax.legend(fontsize=fontsize,\n",
    "              title_fontsize=fontsize,\n",
    "              markerscale=0.4,\n",
    "              title='',\n",
    "              )\n",
    "ax.set_xlabel(f\"qvalue for {x_col}\")\n",
    "ax.set_ylabel(f\"qvalue for {y_col}\")\n",
    "ax.hlines(0.05, 0, 1, color='grey', linestyles='dotted')\n",
    "ax.vlines(0.05, 0, 1, color='grey', linestyles='dotted')\n",
    "sns.move_legend(ax, \"upper right\")\n",
    "files_out[f'diff_analysis_comparision_1_{args.model_key}'] = (\n",
    "    args.out_folder /\n",
    "    f'diff_analysis_comparision_1_{args.model_key}')\n",
    "fname = files_out[f'diff_analysis_comparision_1_{args.model_key}']\n",
    "pimmslearn.savefig(fig, name=fname)"
   ]
  },
  {
   "cell_type": "markdown",
   "id": "d8849c76-c5f6-4618-87c0-f2635dc9ac66",
   "metadata": {
    "papermill": {
     "duration": 0.019485,
     "end_time": "2025-01-17T13:34:38.894580",
     "exception": false,
     "start_time": "2025-01-17T13:34:38.875095",
     "status": "completed"
    },
    "tags": []
   },
   "source": [
    "- also showing how many features were measured (\"observed\") by size of circle"
   ]
  },
  {
   "cell_type": "code",
   "execution_count": 21,
   "id": "1cf258f8-9dcb-40bb-af66-b600f8d413f6",
   "metadata": {
    "execution": {
     "iopub.execute_input": "2025-01-17T13:34:38.937218Z",
     "iopub.status.busy": "2025-01-17T13:34:38.936958Z",
     "iopub.status.idle": "2025-01-17T13:34:40.172653Z",
     "shell.execute_reply": "2025-01-17T13:34:40.172069Z"
    },
    "papermill": {
     "duration": 1.259982,
     "end_time": "2025-01-17T13:34:40.174301",
     "exception": false,
     "start_time": "2025-01-17T13:34:38.914319",
     "status": "completed"
    },
    "tags": [
     "hide-input"
    ]
   },
   "outputs": [
    {
     "name": "stderr",
     "output_type": "stream",
     "text": [
      "pimmslearn.plotting - INFO     Saved Figures to runs/alzheimer_study/diff_analysis/AD/PI_vs_QRILC/diff_analysis_comparision_2_QRILC\n"
     ]
    },
    {
     "data": {
      "image/png": "[encoded data removed]",
      "text/plain": [
       "<Figure size 588x588 with 1 Axes>"
      ]
     },
     "metadata": {},
     "output_type": "display_data"
    }
   ],
   "source": [
    "fig, ax = plt.subplots(figsize=figsize)\n",
    "ax = sns.scatterplot(data=to_plot,\n",
    "                     x=to_plot.columns[0],\n",
    "                     y=to_plot.columns[1],\n",
    "                     size='frequency',\n",
    "                     s=size,\n",
    "                     sizes=(5, 20),\n",
    "                     hue='Differential Analysis Comparison')\n",
    "_ = ax.legend(fontsize=fontsize,\n",
    "              title_fontsize=fontsize,\n",
    "              markerscale=0.6,\n",
    "              title='',\n",
    "              )\n",
    "ax.set_xlabel(f\"qvalue for {x_col}\")\n",
    "ax.set_ylabel(f\"qvalue for {y_col}\")\n",
    "ax.hlines(0.05, 0, 1, color='grey', linestyles='dotted')\n",
    "ax.vlines(0.05, 0, 1, color='grey', linestyles='dotted')\n",
    "sns.move_legend(ax, \"upper right\")\n",
    "files_out[f'diff_analysis_comparision_2_{args.model_key}'] = (\n",
    "    args.out_folder / f'diff_analysis_comparision_2_{args.model_key}')\n",
    "pimmslearn.savefig(\n",
    "    fig, name=files_out[f'diff_analysis_comparision_2_{args.model_key}'])"
   ]
  },
  {
   "cell_type": "markdown",
   "id": "1fee3a21-d8b3-40c6-aea2-4774dfe855ca",
   "metadata": {
    "papermill": {
     "duration": 0.021336,
     "end_time": "2025-01-17T13:34:40.217776",
     "exception": false,
     "start_time": "2025-01-17T13:34:40.196440",
     "status": "completed"
    },
    "tags": []
   },
   "source": [
    "## Only features contained in model\n",
    "- this block exist due to a specific part in the ALD analysis of the paper"
   ]
  },
  {
   "cell_type": "code",
   "execution_count": 22,
   "id": "c4e23a01-fd37-4496-a518-445a9ef38db1",
   "metadata": {
    "execution": {
     "iopub.execute_input": "2025-01-17T13:34:40.261351Z",
     "iopub.status.busy": "2025-01-17T13:34:40.260922Z",
     "iopub.status.idle": "2025-01-17T13:34:40.268733Z",
     "shell.execute_reply": "2025-01-17T13:34:40.268131Z"
    },
    "papermill": {
     "duration": 0.030947,
     "end_time": "2025-01-17T13:34:40.269841",
     "exception": false,
     "start_time": "2025-01-17T13:34:40.238894",
     "status": "completed"
    },
    "tags": [
     "hide-input"
    ]
   },
   "outputs": [
    {
     "name": "stderr",
     "output_type": "stream",
     "text": [
      "root - INFO     No features only in new comparision model.\n"
     ]
    }
   ],
   "source": [
    "scores_model_only = scores.reset_index(level=-1, drop=True)\n",
    "_diff = scores_model_only.index.difference(scores_common.index)\n",
    "if not _diff.empty:\n",
    "    scores_model_only = (scores_model_only\n",
    "                         .loc[\n",
    "                             _diff,\n",
    "                             args.model_key]\n",
    "                         .sort_values(by='qvalue', ascending=True)\n",
    "                         .join(freq_feat.squeeze().rename(freq_feat.columns.droplevel()[0])\n",
    "                               )\n",
    "                         )\n",
    "    display(scores_model_only)\n",
    "else:\n",
    "    scores_model_only = None\n",
    "    logger.info(\"No features only in new comparision model.\")\n",
    "\n",
    "if not _diff.empty:\n",
    "    scores_model_only.to_excel(writer, 'only_model', **writer_args)\n",
    "    display(scores_model_only.rejected.value_counts())\n",
    "    scores_model_only_rejected = scores_model_only.loc[scores_model_only.rejected]\n",
    "    scores_model_only_rejected.to_excel(\n",
    "        writer, 'only_model_rejected', **writer_args)"
   ]
  },
  {
   "cell_type": "markdown",
   "id": "78b2c336",
   "metadata": {
    "papermill": {
     "duration": 0.020559,
     "end_time": "2025-01-17T13:34:40.312689",
     "exception": false,
     "start_time": "2025-01-17T13:34:40.292130",
     "status": "completed"
    },
    "tags": []
   },
   "source": [
    "## DISEASES DB lookup\n",
    "\n",
    "Query diseases database for gene associations with specified disease ontology id."
   ]
  },
  {
   "cell_type": "code",
   "execution_count": 23,
   "id": "d93a9242-0ef4-4fc7-bd98-226a93639f58",
   "metadata": {
    "execution": {
     "iopub.execute_input": "2025-01-17T13:34:40.361471Z",
     "iopub.status.busy": "2025-01-17T13:34:40.360841Z",
     "iopub.status.idle": "2025-01-17T13:34:42.799100Z",
     "shell.execute_reply": "2025-01-17T13:34:42.798455Z"
    },
    "papermill": {
     "duration": 2.470067,
     "end_time": "2025-01-17T13:34:42.804159",
     "exception": false,
     "start_time": "2025-01-17T13:34:40.334092",
     "status": "completed"
    },
    "tags": [
     "hide-input"
    ]
   },
   "outputs": [
    {
     "name": "stderr",
     "output_type": "stream",
     "text": [
      "pimmslearn.databases.diseases - WARNING  There are more associations available\n"
     ]
    },
    {
     "data": {
      "text/html": [
       "<div>\n",
       "<style scoped>\n",
       "    .dataframe tbody tr th:only-of-type {\n",
       "        vertical-align: middle;\n",
       "    }\n",
       "\n",
       "    .dataframe tbody tr th {\n",
       "        vertical-align: top;\n",
       "    }\n",
       "\n",
       "    .dataframe thead th {\n",
       "        text-align: right;\n",
       "    }\n",
       "</style>\n",
       "<table border=\"1\" class=\"dataframe\">\n",
       "  <thead>\n",
       "    <tr style=\"text-align: right;\">\n",
       "      <th></th>\n",
       "      <th>ENSP</th>\n",
       "      <th>score</th>\n",
       "    </tr>\n",
       "    <tr>\n",
       "      <th>None</th>\n",
       "      <th></th>\n",
       "      <th></th>\n",
       "    </tr>\n",
       "  </thead>\n",
       "  <tbody>\n",
       "    <tr>\n",
       "      <th>APP</th>\n",
       "      <td>ENSP00000284981</td>\n",
       "      <td>5.000</td>\n",
       "    </tr>\n",
       "    <tr>\n",
       "      <th>PSEN1</th>\n",
       "      <td>ENSP00000326366</td>\n",
       "      <td>5.000</td>\n",
       "    </tr>\n",
       "    <tr>\n",
       "      <th>PSEN2</th>\n",
       "      <td>ENSP00000355747</td>\n",
       "      <td>5.000</td>\n",
       "    </tr>\n",
       "    <tr>\n",
       "      <th>APOE</th>\n",
       "      <td>ENSP00000252486</td>\n",
       "      <td>5.000</td>\n",
       "    </tr>\n",
       "    <tr>\n",
       "      <th>MAPT</th>\n",
       "      <td>ENSP00000340820</td>\n",
       "      <td>4.800</td>\n",
       "    </tr>\n",
       "    <tr>\n",
       "      <th>...</th>\n",
       "      <td>...</td>\n",
       "      <td>...</td>\n",
       "    </tr>\n",
       "    <tr>\n",
       "      <th>MRPL1</th>\n",
       "      <td>ENSP00000315017</td>\n",
       "      <td>0.681</td>\n",
       "    </tr>\n",
       "    <tr>\n",
       "      <th>AASS</th>\n",
       "      <td>ENSP00000403768</td>\n",
       "      <td>0.681</td>\n",
       "    </tr>\n",
       "    <tr>\n",
       "      <th>MOB4</th>\n",
       "      <td>ENSP00000315702</td>\n",
       "      <td>0.681</td>\n",
       "    </tr>\n",
       "    <tr>\n",
       "      <th>FOXB1</th>\n",
       "      <td>ENSP00000379369</td>\n",
       "      <td>0.681</td>\n",
       "    </tr>\n",
       "    <tr>\n",
       "      <th>CLEC4M</th>\n",
       "      <td>ENSP00000316228</td>\n",
       "      <td>0.681</td>\n",
       "    </tr>\n",
       "  </tbody>\n",
       "</table>\n",
       "<p>10000 rows × 2 columns</p>\n",
       "</div>"
      ],
      "text/plain": [
       "                   ENSP  score\n",
       "None                          \n",
       "APP     ENSP00000284981  5.000\n",
       "PSEN1   ENSP00000326366  5.000\n",
       "PSEN2   ENSP00000355747  5.000\n",
       "APOE    ENSP00000252486  5.000\n",
       "MAPT    ENSP00000340820  4.800\n",
       "...                 ...    ...\n",
       "MRPL1   ENSP00000315017  0.681\n",
       "AASS    ENSP00000403768  0.681\n",
       "MOB4    ENSP00000315702  0.681\n",
       "FOXB1   ENSP00000379369  0.681\n",
       "CLEC4M  ENSP00000316228  0.681\n",
       "\n",
       "[10000 rows x 2 columns]"
      ]
     },
     "execution_count": 23,
     "metadata": {},
     "output_type": "execute_result"
    }
   ],
   "source": [
    "data = pimmslearn.databases.diseases.get_disease_association(\n",
    "    doid=args.disease_ontology, limit=10000)\n",
    "data = pd.DataFrame.from_dict(data, orient='index').rename_axis('ENSP', axis=0)\n",
    "data = data.rename(columns={'name': args.annotaitons_gene_col}).reset_index(\n",
    ").set_index(args.annotaitons_gene_col)\n",
    "data"
   ]
  },
  {
   "cell_type": "markdown",
   "id": "efe22443-2613-46ad-83c2-41048e13dd57",
   "metadata": {
    "papermill": {
     "duration": 0.037621,
     "end_time": "2025-01-17T13:34:42.896903",
     "exception": false,
     "start_time": "2025-01-17T13:34:42.859282",
     "status": "completed"
    },
    "tags": []
   },
   "source": [
    "## Shared features\n",
    "ToDo: new script -> DISEASES DB lookup"
   ]
  },
  {
   "cell_type": "code",
   "execution_count": null,
   "id": "5c26415e",
   "metadata": {
    "papermill": {
     "duration": 0.021732,
     "end_time": "2025-01-17T13:34:42.941581",
     "exception": false,
     "start_time": "2025-01-17T13:34:42.919849",
     "status": "completed"
    },
    "tags": [
     "hide-input"
    ]
   },
   "outputs": [],
   "source": []
  },
  {
   "cell_type": "code",
   "execution_count": 24,
   "id": "b68b43df",
   "metadata": {
    "execution": {
     "iopub.execute_input": "2025-01-17T13:34:42.987318Z",
     "iopub.status.busy": "2025-01-17T13:34:42.987013Z",
     "iopub.status.idle": "2025-01-17T13:34:43.006256Z",
     "shell.execute_reply": "2025-01-17T13:34:43.005432Z"
    },
    "papermill": {
     "duration": 0.048284,
     "end_time": "2025-01-17T13:34:43.010767",
     "exception": true,
     "start_time": "2025-01-17T13:34:42.962483",
     "status": "failed"
    },
    "tags": [
     "hide-input"
    ]
   },
   "outputs": [
    {
     "name": "stderr",
     "output_type": "stream",
     "text": [
      "root - INFO     No gene annotation in scores index:  ['protein groups', 'Source'] Exiting.\n"
     ]
    },
    {
     "ename": "SystemExit",
     "evalue": "0",
     "output_type": "error",
     "traceback": [
      "An exception has occurred, use %tb to see the full traceback.\n",
      "\u001b[0;31mSystemExit\u001b[0m\u001b[0;31m:\u001b[0m 0\n"
     ]
    },
    {
     "name": "stderr",
     "output_type": "stream",
     "text": [
      "/home/runner/work/pimms/pimms/project/.snakemake/conda/924ec7e362d761ecf0807b9074d79999_/lib/python3.12/site-packages/IPython/core/interactiveshell.py:3585: UserWarning: To exit: use 'exit', 'quit', or Ctrl-D.\n",
      "  warn(\"To exit: use 'exit', 'quit', or Ctrl-D.\", stacklevel=1)\n"
     ]
    }
   ],
   "source": [
    "feat_name = scores.index.names[0]  # first index level is feature name\n",
    "if args.annotaitons_gene_col in scores.index.names:\n",
    "    logger.info(f\"Found gene annotation in scores index:  {scores.index.names}\")\n",
    "else:\n",
    "    logger.info(f\"No gene annotation in scores index:  {scores.index.names}\"\n",
    "                \" Exiting.\")\n",
    "    import sys\n",
    "    sys.exit(0)"
   ]
  },
  {
   "cell_type": "code",
   "execution_count": null,
   "id": "f8d4a74d-5a9b-4d9b-9345-4288bb23e19f",
   "metadata": {
    "papermill": {
     "duration": null,
     "end_time": null,
     "exception": null,
     "start_time": null,
     "status": "pending"
    },
    "tags": [
     "hide-input"
    ]
   },
   "outputs": [],
   "source": [
    "gene_to_PG = (scores.droplevel(\n",
    "    list(set(scores.index.names) - {feat_name, args.annotaitons_gene_col})\n",
    ")\n",
    "    .index\n",
    "    .to_frame()\n",
    "    .reset_index(drop=True)\n",
    "    .set_index(args.annotaitons_gene_col)\n",
    ")\n",
    "gene_to_PG.head()"
   ]
  },
  {
   "cell_type": "code",
   "execution_count": null,
   "id": "d9e76def-b48a-458d-a90b-765e6e70f7a4",
   "metadata": {
    "papermill": {
     "duration": null,
     "end_time": null,
     "exception": null,
     "start_time": null,
     "status": "pending"
    },
    "tags": [
     "hide-input"
    ]
   },
   "outputs": [],
   "source": [
    "disease_associations_all = data.join(\n",
    "    gene_to_PG).dropna().reset_index().set_index(feat_name).join(annotations)\n",
    "disease_associations_all"
   ]
  },
  {
   "cell_type": "markdown",
   "id": "217972a3-ba4a-4f28-ab8f-25dc0f5e9ede",
   "metadata": {
    "papermill": {
     "duration": null,
     "end_time": null,
     "exception": null,
     "start_time": null,
     "status": "pending"
    },
    "tags": []
   },
   "source": [
    "## only by model"
   ]
  },
  {
   "cell_type": "code",
   "execution_count": null,
   "id": "8e9d6944-87ba-4c41-af14-fb5ed93262f0",
   "metadata": {
    "papermill": {
     "duration": null,
     "end_time": null,
     "exception": null,
     "start_time": null,
     "status": "pending"
    },
    "tags": [
     "hide-input"
    ]
   },
   "outputs": [],
   "source": [
    "idx = disease_associations_all.index.intersection(scores_model_only.index)\n",
    "disease_assocications_new = disease_associations_all.loc[idx].sort_values(\n",
    "    'score', ascending=False)\n",
    "disease_assocications_new.head(20)"
   ]
  },
  {
   "cell_type": "code",
   "execution_count": null,
   "id": "ceefc483-b889-4bab-b207-c8d5fd97fa4a",
   "metadata": {
    "papermill": {
     "duration": null,
     "end_time": null,
     "exception": null,
     "start_time": null,
     "status": "pending"
    },
    "tags": [
     "hide-input"
    ]
   },
   "outputs": [],
   "source": [
    "mask = disease_assocications_new.loc[idx, 'score'] >= 2.0\n",
    "disease_assocications_new.loc[idx].loc[mask]"
   ]
  },
  {
   "cell_type": "markdown",
   "id": "f85eede2-7b61-4285-ba8c-745f77f6ab22",
   "metadata": {
    "papermill": {
     "duration": null,
     "end_time": null,
     "exception": null,
     "start_time": null,
     "status": "pending"
    },
    "tags": []
   },
   "source": [
    "## Only by model which were significant"
   ]
  },
  {
   "cell_type": "code",
   "execution_count": null,
   "id": "4644759b-8cc2-4f99-a16c-16419cfb915c",
   "metadata": {
    "papermill": {
     "duration": null,
     "end_time": null,
     "exception": null,
     "start_time": null,
     "status": "pending"
    },
    "tags": [
     "hide-input"
    ]
   },
   "outputs": [],
   "source": [
    "idx = disease_associations_all.index.intersection(\n",
    "    scores_model_only_rejected.index)\n",
    "disease_assocications_new_rejected = disease_associations_all.loc[idx].sort_values(\n",
    "    'score', ascending=False)\n",
    "disease_assocications_new_rejected.head(20)"
   ]
  },
  {
   "cell_type": "code",
   "execution_count": null,
   "id": "365d8641-97a8-464f-b69b-270af9ae6e2d",
   "metadata": {
    "papermill": {
     "duration": null,
     "end_time": null,
     "exception": null,
     "start_time": null,
     "status": "pending"
    },
    "tags": [
     "hide-input"
    ]
   },
   "outputs": [],
   "source": [
    "mask = disease_assocications_new_rejected.loc[idx, 'score'] >= 2.0\n",
    "disease_assocications_new_rejected.loc[idx].loc[mask]"
   ]
  },
  {
   "cell_type": "markdown",
   "id": "4f22614b-e058-4e35-b8a9-141c291a93bc",
   "metadata": {
    "papermill": {
     "duration": null,
     "end_time": null,
     "exception": null,
     "start_time": null,
     "status": "pending"
    },
    "tags": []
   },
   "source": [
    "## Shared which are only significant for by model"
   ]
  },
  {
   "cell_type": "code",
   "execution_count": null,
   "id": "82eb2ba8-4fe7-431d-8095-5be43f7791b7",
   "metadata": {
    "papermill": {
     "duration": null,
     "end_time": null,
     "exception": null,
     "start_time": null,
     "status": "pending"
    },
    "tags": []
   },
   "outputs": [],
   "source": [
    "mask = (scores_common[(str(args.model_key), 'rejected')] & mask_different)\n",
    "mask.sum()"
   ]
  },
  {
   "cell_type": "code",
   "execution_count": null,
   "id": "6416d494-5f3e-4cf4-b766-b1f95e40ae1c",
   "metadata": {
    "papermill": {
     "duration": null,
     "end_time": null,
     "exception": null,
     "start_time": null,
     "status": "pending"
    },
    "tags": [
     "hide-input"
    ]
   },
   "outputs": [],
   "source": [
    "idx = disease_associations_all.index.intersection(mask.index[mask])\n",
    "disease_assocications_shared_rejected_by_model = (disease_associations_all.loc[idx].sort_values(\n",
    "    'score', ascending=False))\n",
    "disease_assocications_shared_rejected_by_model.head(20)"
   ]
  },
  {
   "cell_type": "code",
   "execution_count": null,
   "id": "10899e28-4aee-4d44-a542-e45be6699a1b",
   "metadata": {
    "papermill": {
     "duration": null,
     "end_time": null,
     "exception": null,
     "start_time": null,
     "status": "pending"
    },
    "tags": [
     "hide-input"
    ]
   },
   "outputs": [],
   "source": [
    "mask = disease_assocications_shared_rejected_by_model.loc[idx, 'score'] >= 2.0\n",
    "disease_assocications_shared_rejected_by_model.loc[idx].loc[mask]"
   ]
  },
  {
   "cell_type": "markdown",
   "id": "b6c082ea-7d92-4296-8ec9-d279509142a3",
   "metadata": {
    "papermill": {
     "duration": null,
     "end_time": null,
     "exception": null,
     "start_time": null,
     "status": "pending"
    },
    "tags": []
   },
   "source": [
    "## Only significant by RSN"
   ]
  },
  {
   "cell_type": "code",
   "execution_count": null,
   "id": "c59aae50-6877-47cc-99f6-646862d29121",
   "metadata": {
    "papermill": {
     "duration": null,
     "end_time": null,
     "exception": null,
     "start_time": null,
     "status": "pending"
    },
    "tags": []
   },
   "outputs": [],
   "source": [
    "mask = (scores_common[(str(args.baseline), 'rejected')] & mask_different)\n",
    "mask.sum()"
   ]
  },
  {
   "cell_type": "code",
   "execution_count": null,
   "id": "7780de55-c63b-4028-a6d0-58bce7be81da",
   "metadata": {
    "papermill": {
     "duration": null,
     "end_time": null,
     "exception": null,
     "start_time": null,
     "status": "pending"
    },
    "tags": [
     "hide-input"
    ]
   },
   "outputs": [],
   "source": [
    "idx = disease_associations_all.index.intersection(mask.index[mask])\n",
    "disease_assocications_shared_rejected_by_RSN = (\n",
    "    disease_associations_all\n",
    "    .loc[idx]\n",
    "    .sort_values('score', ascending=False))\n",
    "disease_assocications_shared_rejected_by_RSN.head(20)"
   ]
  },
  {
   "cell_type": "code",
   "execution_count": null,
   "id": "03115c8f-1f20-4b51-a78c-4d7c0317dc33",
   "metadata": {
    "papermill": {
     "duration": null,
     "end_time": null,
     "exception": null,
     "start_time": null,
     "status": "pending"
    },
    "tags": [
     "hide-input"
    ]
   },
   "outputs": [],
   "source": [
    "mask = disease_assocications_shared_rejected_by_RSN.loc[idx, 'score'] >= 2.0\n",
    "disease_assocications_shared_rejected_by_RSN.loc[idx].loc[mask]"
   ]
  },
  {
   "cell_type": "markdown",
   "id": "9d72708d-ad27-435b-b672-7dfe35283601",
   "metadata": {
    "papermill": {
     "duration": null,
     "end_time": null,
     "exception": null,
     "start_time": null,
     "status": "pending"
    },
    "tags": []
   },
   "source": [
    "## Write to excel"
   ]
  },
  {
   "cell_type": "code",
   "execution_count": null,
   "id": "91e7fbb7-69fd-4b4c-9bc2-40e8dd1907b3",
   "metadata": {
    "papermill": {
     "duration": null,
     "end_time": null,
     "exception": null,
     "start_time": null,
     "status": "pending"
    },
    "tags": [
     "hide-input"
    ]
   },
   "outputs": [],
   "source": [
    "disease_associations_all.to_excel(\n",
    "    writer, sheet_name='disease_assoc_all', **writer_args)\n",
    "disease_assocications_new.to_excel(\n",
    "    writer, sheet_name='disease_assoc_new', **writer_args)\n",
    "disease_assocications_new_rejected.to_excel(\n",
    "    writer, sheet_name='disease_assoc_new_rejected', **writer_args)"
   ]
  },
  {
   "cell_type": "markdown",
   "id": "52a42028-7e2d-47d5-be02-52f7ff1f3665",
   "metadata": {
    "papermill": {
     "duration": null,
     "end_time": null,
     "exception": null,
     "start_time": null,
     "status": "pending"
    },
    "tags": []
   },
   "source": [
    "## Outputs"
   ]
  },
  {
   "cell_type": "code",
   "execution_count": null,
   "id": "7f3a7433-3bf1-4168-8f16-eb6d415ef17f",
   "metadata": {
    "papermill": {
     "duration": null,
     "end_time": null,
     "exception": null,
     "start_time": null,
     "status": "pending"
    },
    "tags": [
     "hide-input"
    ]
   },
   "outputs": [],
   "source": [
    "writer.close()\n",
    "files_out"
   ]
  }
 ],
 "metadata": {
  "kernelspec": {
   "display_name": "Python 3",
   "language": "python",
   "name": "python3"
  },
  "language_info": {
   "codemirror_mode": {
    "name": "ipython",
    "version": 3
   },
   "file_extension": ".py",
   "mimetype": "text/x-python",
   "name": "python",
   "nbconvert_exporter": "python",
   "pygments_lexer": "ipython3",
   "version": "3.12.0"
  },
  "papermill": {
   "default_parameters": {},
   "duration": 12.946339,
   "end_time": "2025-01-17T13:34:43.991055",
   "environment_variables": {},
   "exception": true,
   "input_path": "10_2_ald_compare_methods.ipynb",
   "output_path": "runs/alzheimer_study/diff_analysis/AD/PI_vs_QRILC/10_2_ald_compare_methods.ipynb",
   "parameters": {
    "annotaitons_gene_col": "None",
    "baseline": "PI",
    "disease_ontology": 10652,
    "folder_experiment": "runs/alzheimer_study",
    "model_key": "QRILC",
    "out_folder": "diff_analysis",
    "target": "AD"
   },
   "start_time": "2025-01-17T13:34:31.044716",
   "version": "2.6.0"
  }
 },
 "nbformat": 4,
 "nbformat_minor": 5
}