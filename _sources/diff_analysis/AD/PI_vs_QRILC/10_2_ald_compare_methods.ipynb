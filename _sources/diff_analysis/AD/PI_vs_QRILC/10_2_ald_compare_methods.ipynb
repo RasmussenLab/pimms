{
 "cells": [
  {
   "cell_type": "markdown",
   "id": "9acfeaca-5f8c-42f3-9a8e-83ed737eb35c",
   "metadata": {
    "papermill": {
     "duration": 0.013685,
     "end_time": "2024-08-13T17:22:14.962406",
     "exception": false,
     "start_time": "2024-08-13T17:22:14.948721",
     "status": "completed"
    },
    "tags": []
   },
   "source": [
    "# Compare outcomes from differential analysis based on different imputation methods\n",
    "\n",
    "- load scores based on `10_1_ald_diff_analysis`"
   ]
  },
  {
   "cell_type": "code",
   "execution_count": 1,
   "id": "eec6f931-c04d-428c-b2b1-0424c50e6cd2",
   "metadata": {
    "execution": {
     "iopub.execute_input": "2024-08-13T17:22:15.022378Z",
     "iopub.status.busy": "2024-08-13T17:22:15.022044Z",
     "iopub.status.idle": "2024-08-13T17:22:17.427631Z",
     "shell.execute_reply": "2024-08-13T17:22:17.426787Z"
    },
    "papermill": {
     "duration": 2.433494,
     "end_time": "2024-08-13T17:22:17.429806",
     "exception": false,
     "start_time": "2024-08-13T17:22:14.996312",
     "status": "completed"
    },
    "tags": [
     "hide-input"
    ]
   },
   "outputs": [],
   "source": [
    "import logging\n",
    "from pathlib import Path\n",
    "\n",
    "import matplotlib.pyplot as plt\n",
    "import pandas as pd\n",
    "import seaborn as sns\n",
    "from IPython.display import display\n",
    "\n",
    "import pimmslearn\n",
    "import pimmslearn.databases.diseases\n",
    "\n",
    "logger = pimmslearn.logging.setup_nb_logger()\n",
    "\n",
    "plt.rcParams['figure.figsize'] = (2, 2)\n",
    "fontsize = 5\n",
    "pimmslearn.plotting.make_large_descriptors(fontsize)\n",
    "logging.getLogger('fontTools').setLevel(logging.ERROR)\n",
    "\n",
    "# catch passed parameters\n",
    "args = None\n",
    "args = dict(globals()).keys()"
   ]
  },
  {
   "cell_type": "markdown",
   "id": "85f5f5d5",
   "metadata": {
    "papermill": {
     "duration": 0.012009,
     "end_time": "2024-08-13T17:22:17.456284",
     "exception": false,
     "start_time": "2024-08-13T17:22:17.444275",
     "status": "completed"
    },
    "tags": []
   },
   "source": [
    "## Parameters\n",
    "Default and set parameters for the notebook."
   ]
  },
  {
   "cell_type": "code",
   "execution_count": 2,
   "id": "f4bf65da-0569-4a21-ba20-9cae7d3679e7",
   "metadata": {
    "execution": {
     "iopub.execute_input": "2024-08-13T17:22:17.481397Z",
     "iopub.status.busy": "2024-08-13T17:22:17.481096Z",
     "iopub.status.idle": "2024-08-13T17:22:17.485162Z",
     "shell.execute_reply": "2024-08-13T17:22:17.484486Z"
    },
    "papermill": {
     "duration": 0.019832,
     "end_time": "2024-08-13T17:22:17.487476",
     "exception": false,
     "start_time": "2024-08-13T17:22:17.467644",
     "status": "completed"
    },
    "tags": [
     "parameters"
    ]
   },
   "outputs": [],
   "source": [
    "folder_experiment = 'runs/appl_ald_data/plasma/proteinGroups'\n",
    "\n",
    "target = 'kleiner'\n",
    "model_key = 'VAE'\n",
    "baseline = 'RSN'\n",
    "out_folder = 'diff_analysis'\n",
    "selected_statistics = ['p-unc', '-Log10 pvalue', 'qvalue', 'rejected']\n",
    "\n",
    "disease_ontology = 5082  # code from https://disease-ontology.org/\n",
    "# split diseases notebook? Query gene names for proteins in file from uniprot?\n",
    "annotaitons_gene_col = 'PG.Genes'"
   ]
  },
  {
   "cell_type": "code",
   "execution_count": 3,
   "id": "7a534544",
   "metadata": {
    "execution": {
     "iopub.execute_input": "2024-08-13T17:22:17.511342Z",
     "iopub.status.busy": "2024-08-13T17:22:17.511108Z",
     "iopub.status.idle": "2024-08-13T17:22:17.514445Z",
     "shell.execute_reply": "2024-08-13T17:22:17.513864Z"
    },
    "papermill": {
     "duration": 0.017822,
     "end_time": "2024-08-13T17:22:17.516752",
     "exception": false,
     "start_time": "2024-08-13T17:22:17.498930",
     "status": "completed"
    },
    "tags": [
     "injected-parameters"
    ]
   },
   "outputs": [],
   "source": [
    "# Parameters\n",
    "disease_ontology = 10652\n",
    "folder_experiment = \"runs/alzheimer_study\"\n",
    "target = \"AD\"\n",
    "baseline = \"PI\"\n",
    "model_key = \"QRILC\"\n",
    "out_folder = \"diff_analysis\"\n",
    "annotaitons_gene_col = \"None\"\n"
   ]
  },
  {
   "cell_type": "markdown",
   "id": "22c645fc-c7eb-4c69-a7aa-084fc733258f",
   "metadata": {
    "papermill": {
     "duration": 0.01141,
     "end_time": "2024-08-13T17:22:17.539613",
     "exception": false,
     "start_time": "2024-08-13T17:22:17.528203",
     "status": "completed"
    },
    "tags": []
   },
   "source": [
    "Add set parameters to configuration"
   ]
  },
  {
   "cell_type": "code",
   "execution_count": 4,
   "id": "978876d0-b3cc-4847-8eab-dc0b89ddbbcd",
   "metadata": {
    "execution": {
     "iopub.execute_input": "2024-08-13T17:22:17.563891Z",
     "iopub.status.busy": "2024-08-13T17:22:17.563656Z",
     "iopub.status.idle": "2024-08-13T17:22:17.588600Z",
     "shell.execute_reply": "2024-08-13T17:22:17.587973Z"
    },
    "papermill": {
     "duration": 0.039188,
     "end_time": "2024-08-13T17:22:17.590693",
     "exception": false,
     "start_time": "2024-08-13T17:22:17.551505",
     "status": "completed"
    },
    "tags": [
     "hide-input"
    ]
   },
   "outputs": [
    {
     "name": "stderr",
     "output_type": "stream",
     "text": [
      "root - INFO     Removed from global namespace: folder_experiment\n"
     ]
    },
    {
     "name": "stderr",
     "output_type": "stream",
     "text": [
      "root - INFO     Removed from global namespace: target\n"
     ]
    },
    {
     "name": "stderr",
     "output_type": "stream",
     "text": [
      "root - INFO     Removed from global namespace: model_key\n"
     ]
    },
    {
     "name": "stderr",
     "output_type": "stream",
     "text": [
      "root - INFO     Removed from global namespace: baseline\n"
     ]
    },
    {
     "name": "stderr",
     "output_type": "stream",
     "text": [
      "root - INFO     Removed from global namespace: out_folder\n"
     ]
    },
    {
     "name": "stderr",
     "output_type": "stream",
     "text": [
      "root - INFO     Removed from global namespace: selected_statistics\n"
     ]
    },
    {
     "name": "stderr",
     "output_type": "stream",
     "text": [
      "root - INFO     Removed from global namespace: disease_ontology\n"
     ]
    },
    {
     "name": "stderr",
     "output_type": "stream",
     "text": [
      "root - INFO     Removed from global namespace: annotaitons_gene_col\n"
     ]
    },
    {
     "name": "stderr",
     "output_type": "stream",
     "text": [
      "root - INFO     Already set attribute: folder_experiment has value runs/alzheimer_study\n"
     ]
    },
    {
     "name": "stderr",
     "output_type": "stream",
     "text": [
      "root - INFO     Already set attribute: out_folder has value diff_analysis\n"
     ]
    },
    {
     "data": {
      "text/plain": [
       "{'annotaitons_gene_col': 'None',\n",
       " 'baseline': 'PI',\n",
       " 'data': PosixPath('runs/alzheimer_study/data'),\n",
       " 'disease_ontology': 10652,\n",
       " 'folder_experiment': PosixPath('runs/alzheimer_study'),\n",
       " 'freq_features_observed': PosixPath('runs/alzheimer_study/freq_features_observed.csv'),\n",
       " 'model_key': 'QRILC',\n",
       " 'out_figures': PosixPath('runs/alzheimer_study/figures'),\n",
       " 'out_folder': PosixPath('runs/alzheimer_study/diff_analysis/AD/PI_vs_QRILC'),\n",
       " 'out_metrics': PosixPath('runs/alzheimer_study'),\n",
       " 'out_models': PosixPath('runs/alzheimer_study'),\n",
       " 'out_preds': PosixPath('runs/alzheimer_study/preds'),\n",
       " 'scores_folder': PosixPath('runs/alzheimer_study/diff_analysis/AD/scores'),\n",
       " 'selected_statistics': ['p-unc', '-Log10 pvalue', 'qvalue', 'rejected'],\n",
       " 'target': 'AD'}"
      ]
     },
     "execution_count": 4,
     "metadata": {},
     "output_type": "execute_result"
    }
   ],
   "source": [
    "params = pimmslearn.nb.get_params(args, globals=globals())\n",
    "args = pimmslearn.nb.Config()\n",
    "args.folder_experiment = Path(params[\"folder_experiment\"])\n",
    "args = pimmslearn.nb.add_default_paths(args,\n",
    "                                 out_root=(\n",
    "                                     args.folder_experiment\n",
    "                                     / params[\"out_folder\"]\n",
    "                                     / params[\"target\"]\n",
    "                                     / f\"{params['baseline']}_vs_{params['model_key']}\"))\n",
    "args.update_from_dict(params)\n",
    "args.scores_folder = scores_folder = (args.folder_experiment\n",
    "                                      / params[\"out_folder\"]\n",
    "                                      / params[\"target\"]\n",
    "                                      / 'scores')\n",
    "args.freq_features_observed = args.folder_experiment / 'freq_features_observed.csv'\n",
    "args"
   ]
  },
  {
   "cell_type": "markdown",
   "id": "fc184dea",
   "metadata": {
    "papermill": {
     "duration": 0.012406,
     "end_time": "2024-08-13T17:22:17.615740",
     "exception": false,
     "start_time": "2024-08-13T17:22:17.603334",
     "status": "completed"
    },
    "tags": []
   },
   "source": [
    "### Excel file for exports"
   ]
  },
  {
   "cell_type": "code",
   "execution_count": 5,
   "id": "a8016d79-e41a-40a2-bcbf-e11711c33b7d",
   "metadata": {
    "execution": {
     "iopub.execute_input": "2024-08-13T17:22:17.641890Z",
     "iopub.status.busy": "2024-08-13T17:22:17.641567Z",
     "iopub.status.idle": "2024-08-13T17:22:17.754568Z",
     "shell.execute_reply": "2024-08-13T17:22:17.753985Z"
    },
    "papermill": {
     "duration": 0.127809,
     "end_time": "2024-08-13T17:22:17.756200",
     "exception": false,
     "start_time": "2024-08-13T17:22:17.628391",
     "status": "completed"
    },
    "tags": []
   },
   "outputs": [
    {
     "name": "stderr",
     "output_type": "stream",
     "text": [
      "root - INFO     Writing to excel file: runs/alzheimer_study/diff_analysis/AD/PI_vs_QRILC/diff_analysis_compare_methods.xlsx\n"
     ]
    }
   ],
   "source": [
    "files_out = dict()\n",
    "writer_args = dict(float_format='%.3f')\n",
    "\n",
    "fname = args.out_folder / 'diff_analysis_compare_methods.xlsx'\n",
    "files_out[fname.name] = fname\n",
    "writer = pd.ExcelWriter(fname)\n",
    "logger.info(\"Writing to excel file: %s\", fname)"
   ]
  },
  {
   "cell_type": "markdown",
   "id": "770d1f76-e86f-4ae3-9d7b-ceef9b9e9a22",
   "metadata": {
    "papermill": {
     "duration": 0.013245,
     "end_time": "2024-08-13T17:22:17.783300",
     "exception": false,
     "start_time": "2024-08-13T17:22:17.770055",
     "status": "completed"
    },
    "tags": []
   },
   "source": [
    "## Load scores"
   ]
  },
  {
   "cell_type": "markdown",
   "id": "6b108869",
   "metadata": {
    "papermill": {
     "duration": 0.012577,
     "end_time": "2024-08-13T17:22:17.808452",
     "exception": false,
     "start_time": "2024-08-13T17:22:17.795875",
     "status": "completed"
    },
    "tags": []
   },
   "source": [
    "### Load baseline model scores\n",
    "Show all statistics, later use selected statistics"
   ]
  },
  {
   "cell_type": "code",
   "execution_count": 6,
   "id": "97221134-5f61-4158-bfc5-ea30077140b8",
   "metadata": {
    "execution": {
     "iopub.execute_input": "2024-08-13T17:22:17.835007Z",
     "iopub.status.busy": "2024-08-13T17:22:17.834639Z",
     "iopub.status.idle": "2024-08-13T17:22:17.856867Z",
     "shell.execute_reply": "2024-08-13T17:22:17.856246Z"
    },
    "papermill": {
     "duration": 0.03739,
     "end_time": "2024-08-13T17:22:17.858490",
     "exception": false,
     "start_time": "2024-08-13T17:22:17.821100",
     "status": "completed"
    },
    "tags": [
     "hide-input"
    ]
   },
   "outputs": [
    {
     "data": {
      "text/html": [
       "<div>\n",
       "<style scoped>\n",
       "    .dataframe tbody tr th:only-of-type {\n",
       "        vertical-align: middle;\n",
       "    }\n",
       "\n",
       "    .dataframe tbody tr th {\n",
       "        vertical-align: top;\n",
       "    }\n",
       "\n",
       "    .dataframe thead tr th {\n",
       "        text-align: left;\n",
       "    }\n",
       "\n",
       "    .dataframe thead tr:last-of-type th {\n",
       "        text-align: right;\n",
       "    }\n",
       "</style>\n",
       "<table border=\"1\" class=\"dataframe\">\n",
       "  <thead>\n",
       "    <tr>\n",
       "      <th></th>\n",
       "      <th>model</th>\n",
       "      <th colspan=\"8\" halign=\"left\">PI</th>\n",
       "    </tr>\n",
       "    <tr>\n",
       "      <th></th>\n",
       "      <th>var</th>\n",
       "      <th>SS</th>\n",
       "      <th>DF</th>\n",
       "      <th>F</th>\n",
       "      <th>p-unc</th>\n",
       "      <th>np2</th>\n",
       "      <th>-Log10 pvalue</th>\n",
       "      <th>qvalue</th>\n",
       "      <th>rejected</th>\n",
       "    </tr>\n",
       "    <tr>\n",
       "      <th>protein groups</th>\n",
       "      <th>Source</th>\n",
       "      <th></th>\n",
       "      <th></th>\n",
       "      <th></th>\n",
       "      <th></th>\n",
       "      <th></th>\n",
       "      <th></th>\n",
       "      <th></th>\n",
       "      <th></th>\n",
       "    </tr>\n",
       "  </thead>\n",
       "  <tbody>\n",
       "    <tr>\n",
       "      <th rowspan=\"5\" valign=\"top\">A0A024QZX5;A0A087X1N8;P35237</th>\n",
       "      <th>AD</th>\n",
       "      <td>0.415</td>\n",
       "      <td>1</td>\n",
       "      <td>0.739</td>\n",
       "      <td>0.391</td>\n",
       "      <td>0.004</td>\n",
       "      <td>0.408</td>\n",
       "      <td>0.554</td>\n",
       "      <td>False</td>\n",
       "    </tr>\n",
       "    <tr>\n",
       "      <th>age</th>\n",
       "      <td>0.028</td>\n",
       "      <td>1</td>\n",
       "      <td>0.050</td>\n",
       "      <td>0.824</td>\n",
       "      <td>0.000</td>\n",
       "      <td>0.084</td>\n",
       "      <td>0.895</td>\n",
       "      <td>False</td>\n",
       "    </tr>\n",
       "    <tr>\n",
       "      <th>Kiel</th>\n",
       "      <td>1.823</td>\n",
       "      <td>1</td>\n",
       "      <td>3.248</td>\n",
       "      <td>0.073</td>\n",
       "      <td>0.017</td>\n",
       "      <td>1.136</td>\n",
       "      <td>0.163</td>\n",
       "      <td>False</td>\n",
       "    </tr>\n",
       "    <tr>\n",
       "      <th>Magdeburg</th>\n",
       "      <td>5.094</td>\n",
       "      <td>1</td>\n",
       "      <td>9.075</td>\n",
       "      <td>0.003</td>\n",
       "      <td>0.045</td>\n",
       "      <td>2.531</td>\n",
       "      <td>0.012</td>\n",
       "      <td>True</td>\n",
       "    </tr>\n",
       "    <tr>\n",
       "      <th>Sweden</th>\n",
       "      <td>8.422</td>\n",
       "      <td>1</td>\n",
       "      <td>15.001</td>\n",
       "      <td>0.000</td>\n",
       "      <td>0.073</td>\n",
       "      <td>3.831</td>\n",
       "      <td>0.001</td>\n",
       "      <td>True</td>\n",
       "    </tr>\n",
       "    <tr>\n",
       "      <th>...</th>\n",
       "      <th>...</th>\n",
       "      <td>...</td>\n",
       "      <td>...</td>\n",
       "      <td>...</td>\n",
       "      <td>...</td>\n",
       "      <td>...</td>\n",
       "      <td>...</td>\n",
       "      <td>...</td>\n",
       "      <td>...</td>\n",
       "    </tr>\n",
       "    <tr>\n",
       "      <th rowspan=\"5\" valign=\"top\">S4R3U6</th>\n",
       "      <th>AD</th>\n",
       "      <td>0.001</td>\n",
       "      <td>1</td>\n",
       "      <td>0.001</td>\n",
       "      <td>0.980</td>\n",
       "      <td>0.000</td>\n",
       "      <td>0.009</td>\n",
       "      <td>0.990</td>\n",
       "      <td>False</td>\n",
       "    </tr>\n",
       "    <tr>\n",
       "      <th>age</th>\n",
       "      <td>2.334</td>\n",
       "      <td>1</td>\n",
       "      <td>2.263</td>\n",
       "      <td>0.134</td>\n",
       "      <td>0.012</td>\n",
       "      <td>0.872</td>\n",
       "      <td>0.258</td>\n",
       "      <td>False</td>\n",
       "    </tr>\n",
       "    <tr>\n",
       "      <th>Kiel</th>\n",
       "      <td>0.000</td>\n",
       "      <td>1</td>\n",
       "      <td>0.000</td>\n",
       "      <td>0.997</td>\n",
       "      <td>0.000</td>\n",
       "      <td>0.001</td>\n",
       "      <td>0.998</td>\n",
       "      <td>False</td>\n",
       "    </tr>\n",
       "    <tr>\n",
       "      <th>Magdeburg</th>\n",
       "      <td>2.518</td>\n",
       "      <td>1</td>\n",
       "      <td>2.441</td>\n",
       "      <td>0.120</td>\n",
       "      <td>0.013</td>\n",
       "      <td>0.921</td>\n",
       "      <td>0.238</td>\n",
       "      <td>False</td>\n",
       "    </tr>\n",
       "    <tr>\n",
       "      <th>Sweden</th>\n",
       "      <td>22.256</td>\n",
       "      <td>1</td>\n",
       "      <td>21.580</td>\n",
       "      <td>0.000</td>\n",
       "      <td>0.102</td>\n",
       "      <td>5.200</td>\n",
       "      <td>0.000</td>\n",
       "      <td>True</td>\n",
       "    </tr>\n",
       "  </tbody>\n",
       "</table>\n",
       "<p>7105 rows × 8 columns</p>\n",
       "</div>"
      ],
      "text/plain": [
       "model                                      PI                        \\\n",
       "var                                        SS DF      F p-unc   np2   \n",
       "protein groups               Source                                   \n",
       "A0A024QZX5;A0A087X1N8;P35237 AD         0.415  1  0.739 0.391 0.004   \n",
       "                             age        0.028  1  0.050 0.824 0.000   \n",
       "                             Kiel       1.823  1  3.248 0.073 0.017   \n",
       "                             Magdeburg  5.094  1  9.075 0.003 0.045   \n",
       "                             Sweden     8.422  1 15.001 0.000 0.073   \n",
       "...                                       ... ..    ...   ...   ...   \n",
       "S4R3U6                       AD         0.001  1  0.001 0.980 0.000   \n",
       "                             age        2.334  1  2.263 0.134 0.012   \n",
       "                             Kiel       0.000  1  0.000 0.997 0.000   \n",
       "                             Magdeburg  2.518  1  2.441 0.120 0.013   \n",
       "                             Sweden    22.256  1 21.580 0.000 0.102   \n",
       "\n",
       "model                                                                 \n",
       "var                                    -Log10 pvalue qvalue rejected  \n",
       "protein groups               Source                                   \n",
       "A0A024QZX5;A0A087X1N8;P35237 AD                0.408  0.554    False  \n",
       "                             age               0.084  0.895    False  \n",
       "                             Kiel              1.136  0.163    False  \n",
       "                             Magdeburg         2.531  0.012     True  \n",
       "                             Sweden            3.831  0.001     True  \n",
       "...                                              ...    ...      ...  \n",
       "S4R3U6                       AD                0.009  0.990    False  \n",
       "                             age               0.872  0.258    False  \n",
       "                             Kiel              0.001  0.998    False  \n",
       "                             Magdeburg         0.921  0.238    False  \n",
       "                             Sweden            5.200  0.000     True  \n",
       "\n",
       "[7105 rows x 8 columns]"
      ]
     },
     "execution_count": 6,
     "metadata": {},
     "output_type": "execute_result"
    }
   ],
   "source": [
    "fname = args.scores_folder / f'diff_analysis_scores_{args.baseline}.pkl'\n",
    "scores_baseline = pd.read_pickle(fname)\n",
    "scores_baseline"
   ]
  },
  {
   "cell_type": "markdown",
   "id": "e49a8da2",
   "metadata": {
    "papermill": {
     "duration": 0.013161,
     "end_time": "2024-08-13T17:22:17.885031",
     "exception": false,
     "start_time": "2024-08-13T17:22:17.871870",
     "status": "completed"
    },
    "tags": []
   },
   "source": [
    "### Load selected comparison model scores"
   ]
  },
  {
   "cell_type": "code",
   "execution_count": 7,
   "id": "f0635e4d",
   "metadata": {
    "execution": {
     "iopub.execute_input": "2024-08-13T17:22:17.912065Z",
     "iopub.status.busy": "2024-08-13T17:22:17.911800Z",
     "iopub.status.idle": "2024-08-13T17:22:17.949048Z",
     "shell.execute_reply": "2024-08-13T17:22:17.948338Z"
    },
    "papermill": {
     "duration": 0.052889,
     "end_time": "2024-08-13T17:22:17.951011",
     "exception": false,
     "start_time": "2024-08-13T17:22:17.898122",
     "status": "completed"
    },
    "tags": [
     "hide-input"
    ]
   },
   "outputs": [
    {
     "data": {
      "text/html": [
       "<div>\n",
       "<style scoped>\n",
       "    .dataframe tbody tr th:only-of-type {\n",
       "        vertical-align: middle;\n",
       "    }\n",
       "\n",
       "    .dataframe tbody tr th {\n",
       "        vertical-align: top;\n",
       "    }\n",
       "\n",
       "    .dataframe thead tr th {\n",
       "        text-align: left;\n",
       "    }\n",
       "\n",
       "    .dataframe thead tr:last-of-type th {\n",
       "        text-align: right;\n",
       "    }\n",
       "</style>\n",
       "<table border=\"1\" class=\"dataframe\">\n",
       "  <thead>\n",
       "    <tr>\n",
       "      <th></th>\n",
       "      <th>model</th>\n",
       "      <th colspan=\"8\" halign=\"left\">QRILC</th>\n",
       "    </tr>\n",
       "    <tr>\n",
       "      <th></th>\n",
       "      <th>var</th>\n",
       "      <th>SS</th>\n",
       "      <th>DF</th>\n",
       "      <th>F</th>\n",
       "      <th>p-unc</th>\n",
       "      <th>np2</th>\n",
       "      <th>-Log10 pvalue</th>\n",
       "      <th>qvalue</th>\n",
       "      <th>rejected</th>\n",
       "    </tr>\n",
       "    <tr>\n",
       "      <th>protein groups</th>\n",
       "      <th>Source</th>\n",
       "      <th></th>\n",
       "      <th></th>\n",
       "      <th></th>\n",
       "      <th></th>\n",
       "      <th></th>\n",
       "      <th></th>\n",
       "      <th></th>\n",
       "      <th></th>\n",
       "    </tr>\n",
       "  </thead>\n",
       "  <tbody>\n",
       "    <tr>\n",
       "      <th rowspan=\"5\" valign=\"top\">A0A024QZX5;A0A087X1N8;P35237</th>\n",
       "      <th>AD</th>\n",
       "      <td>0.652</td>\n",
       "      <td>1</td>\n",
       "      <td>4.080</td>\n",
       "      <td>0.045</td>\n",
       "      <td>0.021</td>\n",
       "      <td>1.349</td>\n",
       "      <td>0.104</td>\n",
       "      <td>False</td>\n",
       "    </tr>\n",
       "    <tr>\n",
       "      <th>age</th>\n",
       "      <td>0.023</td>\n",
       "      <td>1</td>\n",
       "      <td>0.142</td>\n",
       "      <td>0.706</td>\n",
       "      <td>0.001</td>\n",
       "      <td>0.151</td>\n",
       "      <td>0.805</td>\n",
       "      <td>False</td>\n",
       "    </tr>\n",
       "    <tr>\n",
       "      <th>Kiel</th>\n",
       "      <td>0.465</td>\n",
       "      <td>1</td>\n",
       "      <td>2.908</td>\n",
       "      <td>0.090</td>\n",
       "      <td>0.015</td>\n",
       "      <td>1.047</td>\n",
       "      <td>0.180</td>\n",
       "      <td>False</td>\n",
       "    </tr>\n",
       "    <tr>\n",
       "      <th>Magdeburg</th>\n",
       "      <td>0.968</td>\n",
       "      <td>1</td>\n",
       "      <td>6.056</td>\n",
       "      <td>0.015</td>\n",
       "      <td>0.031</td>\n",
       "      <td>1.831</td>\n",
       "      <td>0.043</td>\n",
       "      <td>True</td>\n",
       "    </tr>\n",
       "    <tr>\n",
       "      <th>Sweden</th>\n",
       "      <td>2.522</td>\n",
       "      <td>1</td>\n",
       "      <td>15.780</td>\n",
       "      <td>0.000</td>\n",
       "      <td>0.076</td>\n",
       "      <td>3.997</td>\n",
       "      <td>0.001</td>\n",
       "      <td>True</td>\n",
       "    </tr>\n",
       "    <tr>\n",
       "      <th>...</th>\n",
       "      <th>...</th>\n",
       "      <td>...</td>\n",
       "      <td>...</td>\n",
       "      <td>...</td>\n",
       "      <td>...</td>\n",
       "      <td>...</td>\n",
       "      <td>...</td>\n",
       "      <td>...</td>\n",
       "      <td>...</td>\n",
       "    </tr>\n",
       "    <tr>\n",
       "      <th rowspan=\"5\" valign=\"top\">S4R3U6</th>\n",
       "      <th>AD</th>\n",
       "      <td>3.518</td>\n",
       "      <td>1</td>\n",
       "      <td>2.103</td>\n",
       "      <td>0.149</td>\n",
       "      <td>0.011</td>\n",
       "      <td>0.828</td>\n",
       "      <td>0.266</td>\n",
       "      <td>False</td>\n",
       "    </tr>\n",
       "    <tr>\n",
       "      <th>age</th>\n",
       "      <td>0.635</td>\n",
       "      <td>1</td>\n",
       "      <td>0.380</td>\n",
       "      <td>0.538</td>\n",
       "      <td>0.002</td>\n",
       "      <td>0.269</td>\n",
       "      <td>0.670</td>\n",
       "      <td>False</td>\n",
       "    </tr>\n",
       "    <tr>\n",
       "      <th>Kiel</th>\n",
       "      <td>7.329</td>\n",
       "      <td>1</td>\n",
       "      <td>4.381</td>\n",
       "      <td>0.038</td>\n",
       "      <td>0.022</td>\n",
       "      <td>1.424</td>\n",
       "      <td>0.091</td>\n",
       "      <td>False</td>\n",
       "    </tr>\n",
       "    <tr>\n",
       "      <th>Magdeburg</th>\n",
       "      <td>15.728</td>\n",
       "      <td>1</td>\n",
       "      <td>9.402</td>\n",
       "      <td>0.002</td>\n",
       "      <td>0.047</td>\n",
       "      <td>2.605</td>\n",
       "      <td>0.010</td>\n",
       "      <td>True</td>\n",
       "    </tr>\n",
       "    <tr>\n",
       "      <th>Sweden</th>\n",
       "      <td>0.099</td>\n",
       "      <td>1</td>\n",
       "      <td>0.059</td>\n",
       "      <td>0.808</td>\n",
       "      <td>0.000</td>\n",
       "      <td>0.093</td>\n",
       "      <td>0.879</td>\n",
       "      <td>False</td>\n",
       "    </tr>\n",
       "  </tbody>\n",
       "</table>\n",
       "<p>7105 rows × 8 columns</p>\n",
       "</div>"
      ],
      "text/plain": [
       "model                                   QRILC                        \\\n",
       "var                                        SS DF      F p-unc   np2   \n",
       "protein groups               Source                                   \n",
       "A0A024QZX5;A0A087X1N8;P35237 AD         0.652  1  4.080 0.045 0.021   \n",
       "                             age        0.023  1  0.142 0.706 0.001   \n",
       "                             Kiel       0.465  1  2.908 0.090 0.015   \n",
       "                             Magdeburg  0.968  1  6.056 0.015 0.031   \n",
       "                             Sweden     2.522  1 15.780 0.000 0.076   \n",
       "...                                       ... ..    ...   ...   ...   \n",
       "S4R3U6                       AD         3.518  1  2.103 0.149 0.011   \n",
       "                             age        0.635  1  0.380 0.538 0.002   \n",
       "                             Kiel       7.329  1  4.381 0.038 0.022   \n",
       "                             Magdeburg 15.728  1  9.402 0.002 0.047   \n",
       "                             Sweden     0.099  1  0.059 0.808 0.000   \n",
       "\n",
       "model                                                                 \n",
       "var                                    -Log10 pvalue qvalue rejected  \n",
       "protein groups               Source                                   \n",
       "A0A024QZX5;A0A087X1N8;P35237 AD                1.349  0.104    False  \n",
       "                             age               0.151  0.805    False  \n",
       "                             Kiel              1.047  0.180    False  \n",
       "                             Magdeburg         1.831  0.043     True  \n",
       "                             Sweden            3.997  0.001     True  \n",
       "...                                              ...    ...      ...  \n",
       "S4R3U6                       AD                0.828  0.266    False  \n",
       "                             age               0.269  0.670    False  \n",
       "                             Kiel              1.424  0.091    False  \n",
       "                             Magdeburg         2.605  0.010     True  \n",
       "                             Sweden            0.093  0.879    False  \n",
       "\n",
       "[7105 rows x 8 columns]"
      ]
     },
     "execution_count": 7,
     "metadata": {},
     "output_type": "execute_result"
    }
   ],
   "source": [
    "fname = args.scores_folder / f'diff_analysis_scores_{args.model_key}.pkl'\n",
    "scores_model = pd.read_pickle(fname)\n",
    "scores_model"
   ]
  },
  {
   "cell_type": "markdown",
   "id": "06b7e883",
   "metadata": {
    "papermill": {
     "duration": 0.013161,
     "end_time": "2024-08-13T17:22:17.978321",
     "exception": false,
     "start_time": "2024-08-13T17:22:17.965160",
     "status": "completed"
    },
    "tags": []
   },
   "source": [
    "### Combined scores\n",
    "show only selected statistics for comparsion"
   ]
  },
  {
   "cell_type": "code",
   "execution_count": 8,
   "id": "373fdf65",
   "metadata": {
    "execution": {
     "iopub.execute_input": "2024-08-13T17:22:18.006520Z",
     "iopub.status.busy": "2024-08-13T17:22:18.006218Z",
     "iopub.status.idle": "2024-08-13T17:22:18.040593Z",
     "shell.execute_reply": "2024-08-13T17:22:18.039934Z"
    },
    "papermill": {
     "duration": 0.050237,
     "end_time": "2024-08-13T17:22:18.042216",
     "exception": false,
     "start_time": "2024-08-13T17:22:17.991979",
     "status": "completed"
    },
    "tags": [
     "hide-input"
    ]
   },
   "outputs": [
    {
     "data": {
      "text/html": [
       "<div>\n",
       "<style scoped>\n",
       "    .dataframe tbody tr th:only-of-type {\n",
       "        vertical-align: middle;\n",
       "    }\n",
       "\n",
       "    .dataframe tbody tr th {\n",
       "        vertical-align: top;\n",
       "    }\n",
       "\n",
       "    .dataframe thead tr th {\n",
       "        text-align: left;\n",
       "    }\n",
       "\n",
       "    .dataframe thead tr:last-of-type th {\n",
       "        text-align: right;\n",
       "    }\n",
       "</style>\n",
       "<table border=\"1\" class=\"dataframe\">\n",
       "  <thead>\n",
       "    <tr>\n",
       "      <th></th>\n",
       "      <th>model</th>\n",
       "      <th colspan=\"4\" halign=\"left\">PI</th>\n",
       "      <th colspan=\"4\" halign=\"left\">QRILC</th>\n",
       "    </tr>\n",
       "    <tr>\n",
       "      <th></th>\n",
       "      <th>var</th>\n",
       "      <th>p-unc</th>\n",
       "      <th>-Log10 pvalue</th>\n",
       "      <th>qvalue</th>\n",
       "      <th>rejected</th>\n",
       "      <th>p-unc</th>\n",
       "      <th>-Log10 pvalue</th>\n",
       "      <th>qvalue</th>\n",
       "      <th>rejected</th>\n",
       "    </tr>\n",
       "    <tr>\n",
       "      <th>protein groups</th>\n",
       "      <th>Source</th>\n",
       "      <th></th>\n",
       "      <th></th>\n",
       "      <th></th>\n",
       "      <th></th>\n",
       "      <th></th>\n",
       "      <th></th>\n",
       "      <th></th>\n",
       "      <th></th>\n",
       "    </tr>\n",
       "  </thead>\n",
       "  <tbody>\n",
       "    <tr>\n",
       "      <th rowspan=\"5\" valign=\"top\">A0A024QZX5;A0A087X1N8;P35237</th>\n",
       "      <th>AD</th>\n",
       "      <td>0.391</td>\n",
       "      <td>0.408</td>\n",
       "      <td>0.554</td>\n",
       "      <td>False</td>\n",
       "      <td>0.045</td>\n",
       "      <td>1.349</td>\n",
       "      <td>0.104</td>\n",
       "      <td>False</td>\n",
       "    </tr>\n",
       "    <tr>\n",
       "      <th>Kiel</th>\n",
       "      <td>0.073</td>\n",
       "      <td>1.136</td>\n",
       "      <td>0.163</td>\n",
       "      <td>False</td>\n",
       "      <td>0.090</td>\n",
       "      <td>1.047</td>\n",
       "      <td>0.180</td>\n",
       "      <td>False</td>\n",
       "    </tr>\n",
       "    <tr>\n",
       "      <th>Magdeburg</th>\n",
       "      <td>0.003</td>\n",
       "      <td>2.531</td>\n",
       "      <td>0.012</td>\n",
       "      <td>True</td>\n",
       "      <td>0.015</td>\n",
       "      <td>1.831</td>\n",
       "      <td>0.043</td>\n",
       "      <td>True</td>\n",
       "    </tr>\n",
       "    <tr>\n",
       "      <th>Sweden</th>\n",
       "      <td>0.000</td>\n",
       "      <td>3.831</td>\n",
       "      <td>0.001</td>\n",
       "      <td>True</td>\n",
       "      <td>0.000</td>\n",
       "      <td>3.997</td>\n",
       "      <td>0.001</td>\n",
       "      <td>True</td>\n",
       "    </tr>\n",
       "    <tr>\n",
       "      <th>age</th>\n",
       "      <td>0.824</td>\n",
       "      <td>0.084</td>\n",
       "      <td>0.895</td>\n",
       "      <td>False</td>\n",
       "      <td>0.706</td>\n",
       "      <td>0.151</td>\n",
       "      <td>0.805</td>\n",
       "      <td>False</td>\n",
       "    </tr>\n",
       "    <tr>\n",
       "      <th>...</th>\n",
       "      <th>...</th>\n",
       "      <td>...</td>\n",
       "      <td>...</td>\n",
       "      <td>...</td>\n",
       "      <td>...</td>\n",
       "      <td>...</td>\n",
       "      <td>...</td>\n",
       "      <td>...</td>\n",
       "      <td>...</td>\n",
       "    </tr>\n",
       "    <tr>\n",
       "      <th rowspan=\"5\" valign=\"top\">S4R3U6</th>\n",
       "      <th>AD</th>\n",
       "      <td>0.980</td>\n",
       "      <td>0.009</td>\n",
       "      <td>0.990</td>\n",
       "      <td>False</td>\n",
       "      <td>0.149</td>\n",
       "      <td>0.828</td>\n",
       "      <td>0.266</td>\n",
       "      <td>False</td>\n",
       "    </tr>\n",
       "    <tr>\n",
       "      <th>Kiel</th>\n",
       "      <td>0.997</td>\n",
       "      <td>0.001</td>\n",
       "      <td>0.998</td>\n",
       "      <td>False</td>\n",
       "      <td>0.038</td>\n",
       "      <td>1.424</td>\n",
       "      <td>0.091</td>\n",
       "      <td>False</td>\n",
       "    </tr>\n",
       "    <tr>\n",
       "      <th>Magdeburg</th>\n",
       "      <td>0.120</td>\n",
       "      <td>0.921</td>\n",
       "      <td>0.238</td>\n",
       "      <td>False</td>\n",
       "      <td>0.002</td>\n",
       "      <td>2.605</td>\n",
       "      <td>0.010</td>\n",
       "      <td>True</td>\n",
       "    </tr>\n",
       "    <tr>\n",
       "      <th>Sweden</th>\n",
       "      <td>0.000</td>\n",
       "      <td>5.200</td>\n",
       "      <td>0.000</td>\n",
       "      <td>True</td>\n",
       "      <td>0.808</td>\n",
       "      <td>0.093</td>\n",
       "      <td>0.879</td>\n",
       "      <td>False</td>\n",
       "    </tr>\n",
       "    <tr>\n",
       "      <th>age</th>\n",
       "      <td>0.134</td>\n",
       "      <td>0.872</td>\n",
       "      <td>0.258</td>\n",
       "      <td>False</td>\n",
       "      <td>0.538</td>\n",
       "      <td>0.269</td>\n",
       "      <td>0.670</td>\n",
       "      <td>False</td>\n",
       "    </tr>\n",
       "  </tbody>\n",
       "</table>\n",
       "<p>7105 rows × 8 columns</p>\n",
       "</div>"
      ],
      "text/plain": [
       "model                                     PI                                \\\n",
       "var                                    p-unc -Log10 pvalue qvalue rejected   \n",
       "protein groups               Source                                          \n",
       "A0A024QZX5;A0A087X1N8;P35237 AD        0.391         0.408  0.554    False   \n",
       "                             Kiel      0.073         1.136  0.163    False   \n",
       "                             Magdeburg 0.003         2.531  0.012     True   \n",
       "                             Sweden    0.000         3.831  0.001     True   \n",
       "                             age       0.824         0.084  0.895    False   \n",
       "...                                      ...           ...    ...      ...   \n",
       "S4R3U6                       AD        0.980         0.009  0.990    False   \n",
       "                             Kiel      0.997         0.001  0.998    False   \n",
       "                             Magdeburg 0.120         0.921  0.238    False   \n",
       "                             Sweden    0.000         5.200  0.000     True   \n",
       "                             age       0.134         0.872  0.258    False   \n",
       "\n",
       "model                                  QRILC                                \n",
       "var                                    p-unc -Log10 pvalue qvalue rejected  \n",
       "protein groups               Source                                         \n",
       "A0A024QZX5;A0A087X1N8;P35237 AD        0.045         1.349  0.104    False  \n",
       "                             Kiel      0.090         1.047  0.180    False  \n",
       "                             Magdeburg 0.015         1.831  0.043     True  \n",
       "                             Sweden    0.000         3.997  0.001     True  \n",
       "                             age       0.706         0.151  0.805    False  \n",
       "...                                      ...           ...    ...      ...  \n",
       "S4R3U6                       AD        0.149         0.828  0.266    False  \n",
       "                             Kiel      0.038         1.424  0.091    False  \n",
       "                             Magdeburg 0.002         2.605  0.010     True  \n",
       "                             Sweden    0.808         0.093  0.879    False  \n",
       "                             age       0.538         0.269  0.670    False  \n",
       "\n",
       "[7105 rows x 8 columns]"
      ]
     },
     "execution_count": 8,
     "metadata": {},
     "output_type": "execute_result"
    }
   ],
   "source": [
    "scores = scores_model.join(scores_baseline, how='outer')[[args.baseline, args.model_key]]\n",
    "scores = scores.loc[:, pd.IndexSlice[scores.columns.levels[0].to_list(),\n",
    "                                     args.selected_statistics]]\n",
    "scores"
   ]
  },
  {
   "cell_type": "markdown",
   "id": "b84a6e5a",
   "metadata": {
    "papermill": {
     "duration": 0.013881,
     "end_time": "2024-08-13T17:22:18.070539",
     "exception": false,
     "start_time": "2024-08-13T17:22:18.056658",
     "status": "completed"
    },
    "tags": []
   },
   "source": [
    "Models in comparison (name mapping)"
   ]
  },
  {
   "cell_type": "code",
   "execution_count": 9,
   "id": "34d243d1-3ab4-40e7-9eb8-f9efc828b82d",
   "metadata": {
    "execution": {
     "iopub.execute_input": "2024-08-13T17:22:18.099128Z",
     "iopub.status.busy": "2024-08-13T17:22:18.098833Z",
     "iopub.status.idle": "2024-08-13T17:22:18.103879Z",
     "shell.execute_reply": "2024-08-13T17:22:18.103296Z"
    },
    "papermill": {
     "duration": 0.023137,
     "end_time": "2024-08-13T17:22:18.107362",
     "exception": false,
     "start_time": "2024-08-13T17:22:18.084225",
     "status": "completed"
    },
    "tags": [
     "hide-input"
    ]
   },
   "outputs": [
    {
     "data": {
      "text/plain": [
       "{'PI': 'PI', 'QRILC': 'QRILC'}"
      ]
     },
     "execution_count": 9,
     "metadata": {},
     "output_type": "execute_result"
    }
   ],
   "source": [
    "models = pimmslearn.nb.Config.from_dict(\n",
    "    pimmslearn.pandas.index_to_dict(scores.columns.get_level_values(0)))\n",
    "vars(models)"
   ]
  },
  {
   "cell_type": "markdown",
   "id": "dd7a560d",
   "metadata": {
    "papermill": {
     "duration": 0.014107,
     "end_time": "2024-08-13T17:22:18.145923",
     "exception": false,
     "start_time": "2024-08-13T17:22:18.131816",
     "status": "completed"
    },
    "tags": []
   },
   "source": [
    "## Describe scores"
   ]
  },
  {
   "cell_type": "code",
   "execution_count": 10,
   "id": "0fee8f5d-fa52-4369-a1f9-fcfd518ab6bd",
   "metadata": {
    "execution": {
     "iopub.execute_input": "2024-08-13T17:22:18.174730Z",
     "iopub.status.busy": "2024-08-13T17:22:18.174454Z",
     "iopub.status.idle": "2024-08-13T17:22:18.206295Z",
     "shell.execute_reply": "2024-08-13T17:22:18.205676Z"
    },
    "papermill": {
     "duration": 0.048158,
     "end_time": "2024-08-13T17:22:18.207891",
     "exception": false,
     "start_time": "2024-08-13T17:22:18.159733",
     "status": "completed"
    },
    "tags": [
     "hide-input"
    ]
   },
   "outputs": [
    {
     "data": {
      "text/html": [
       "<div>\n",
       "<style scoped>\n",
       "    .dataframe tbody tr th:only-of-type {\n",
       "        vertical-align: middle;\n",
       "    }\n",
       "\n",
       "    .dataframe tbody tr th {\n",
       "        vertical-align: top;\n",
       "    }\n",
       "\n",
       "    .dataframe thead tr th {\n",
       "        text-align: left;\n",
       "    }\n",
       "</style>\n",
       "<table border=\"1\" class=\"dataframe\">\n",
       "  <thead>\n",
       "    <tr>\n",
       "      <th>model</th>\n",
       "      <th colspan=\"3\" halign=\"left\">PI</th>\n",
       "      <th colspan=\"3\" halign=\"left\">QRILC</th>\n",
       "    </tr>\n",
       "    <tr>\n",
       "      <th>var</th>\n",
       "      <th>p-unc</th>\n",
       "      <th>-Log10 pvalue</th>\n",
       "      <th>qvalue</th>\n",
       "      <th>p-unc</th>\n",
       "      <th>-Log10 pvalue</th>\n",
       "      <th>qvalue</th>\n",
       "    </tr>\n",
       "  </thead>\n",
       "  <tbody>\n",
       "    <tr>\n",
       "      <th>count</th>\n",
       "      <td>7,105.000</td>\n",
       "      <td>7,105.000</td>\n",
       "      <td>7,105.000</td>\n",
       "      <td>7,105.000</td>\n",
       "      <td>7,105.000</td>\n",
       "      <td>7,105.000</td>\n",
       "    </tr>\n",
       "    <tr>\n",
       "      <th>mean</th>\n",
       "      <td>0.260</td>\n",
       "      <td>2.497</td>\n",
       "      <td>0.335</td>\n",
       "      <td>0.245</td>\n",
       "      <td>2.744</td>\n",
       "      <td>0.312</td>\n",
       "    </tr>\n",
       "    <tr>\n",
       "      <th>std</th>\n",
       "      <td>0.303</td>\n",
       "      <td>5.361</td>\n",
       "      <td>0.331</td>\n",
       "      <td>0.299</td>\n",
       "      <td>5.171</td>\n",
       "      <td>0.326</td>\n",
       "    </tr>\n",
       "    <tr>\n",
       "      <th>min</th>\n",
       "      <td>0.000</td>\n",
       "      <td>0.000</td>\n",
       "      <td>0.000</td>\n",
       "      <td>0.000</td>\n",
       "      <td>0.000</td>\n",
       "      <td>0.000</td>\n",
       "    </tr>\n",
       "    <tr>\n",
       "      <th>25%</th>\n",
       "      <td>0.004</td>\n",
       "      <td>0.332</td>\n",
       "      <td>0.014</td>\n",
       "      <td>0.002</td>\n",
       "      <td>0.363</td>\n",
       "      <td>0.008</td>\n",
       "    </tr>\n",
       "    <tr>\n",
       "      <th>50%</th>\n",
       "      <td>0.116</td>\n",
       "      <td>0.934</td>\n",
       "      <td>0.233</td>\n",
       "      <td>0.093</td>\n",
       "      <td>1.033</td>\n",
       "      <td>0.185</td>\n",
       "    </tr>\n",
       "    <tr>\n",
       "      <th>75%</th>\n",
       "      <td>0.466</td>\n",
       "      <td>2.446</td>\n",
       "      <td>0.621</td>\n",
       "      <td>0.434</td>\n",
       "      <td>2.710</td>\n",
       "      <td>0.578</td>\n",
       "    </tr>\n",
       "    <tr>\n",
       "      <th>max</th>\n",
       "      <td>0.999</td>\n",
       "      <td>147.166</td>\n",
       "      <td>0.999</td>\n",
       "      <td>1.000</td>\n",
       "      <td>84.753</td>\n",
       "      <td>1.000</td>\n",
       "    </tr>\n",
       "  </tbody>\n",
       "</table>\n",
       "</div>"
      ],
      "text/plain": [
       "model        PI                             QRILC                        \n",
       "var       p-unc -Log10 pvalue    qvalue     p-unc -Log10 pvalue    qvalue\n",
       "count 7,105.000     7,105.000 7,105.000 7,105.000     7,105.000 7,105.000\n",
       "mean      0.260         2.497     0.335     0.245         2.744     0.312\n",
       "std       0.303         5.361     0.331     0.299         5.171     0.326\n",
       "min       0.000         0.000     0.000     0.000         0.000     0.000\n",
       "25%       0.004         0.332     0.014     0.002         0.363     0.008\n",
       "50%       0.116         0.934     0.233     0.093         1.033     0.185\n",
       "75%       0.466         2.446     0.621     0.434         2.710     0.578\n",
       "max       0.999       147.166     0.999     1.000        84.753     1.000"
      ]
     },
     "execution_count": 10,
     "metadata": {},
     "output_type": "execute_result"
    }
   ],
   "source": [
    "scores.describe()"
   ]
  },
  {
   "cell_type": "markdown",
   "id": "52ecc596",
   "metadata": {
    "papermill": {
     "duration": 0.013991,
     "end_time": "2024-08-13T17:22:18.236623",
     "exception": false,
     "start_time": "2024-08-13T17:22:18.222632",
     "status": "completed"
    },
    "tags": []
   },
   "source": [
    "### One to one comparison of by feature:"
   ]
  },
  {
   "cell_type": "code",
   "execution_count": 11,
   "id": "c6e5a0a6-343b-4f07-8d9d-2cd5cf95ae1f",
   "metadata": {
    "execution": {
     "iopub.execute_input": "2024-08-13T17:22:18.266739Z",
     "iopub.status.busy": "2024-08-13T17:22:18.266437Z",
     "iopub.status.idle": "2024-08-13T17:22:18.726841Z",
     "shell.execute_reply": "2024-08-13T17:22:18.726243Z"
    },
    "papermill": {
     "duration": 0.476993,
     "end_time": "2024-08-13T17:22:18.728241",
     "exception": false,
     "start_time": "2024-08-13T17:22:18.251248",
     "status": "completed"
    },
    "tags": [
     "hide-input"
    ]
   },
   "outputs": [
    {
     "name": "stderr",
     "output_type": "stream",
     "text": [
      "/tmp/ipykernel_50980/3761369923.py:2: FutureWarning: Starting with pandas version 3.0 all arguments of to_excel except for the argument 'excel_writer' will be keyword-only.\n",
      "  scores.to_excel(writer, 'scores', **writer_args)\n"
     ]
    },
    {
     "data": {
      "text/html": [
       "<div>\n",
       "<style scoped>\n",
       "    .dataframe tbody tr th:only-of-type {\n",
       "        vertical-align: middle;\n",
       "    }\n",
       "\n",
       "    .dataframe tbody tr th {\n",
       "        vertical-align: top;\n",
       "    }\n",
       "\n",
       "    .dataframe thead tr th {\n",
       "        text-align: left;\n",
       "    }\n",
       "\n",
       "    .dataframe thead tr:last-of-type th {\n",
       "        text-align: right;\n",
       "    }\n",
       "</style>\n",
       "<table border=\"1\" class=\"dataframe\">\n",
       "  <thead>\n",
       "    <tr>\n",
       "      <th></th>\n",
       "      <th>model</th>\n",
       "      <th colspan=\"4\" halign=\"left\">PI</th>\n",
       "      <th colspan=\"4\" halign=\"left\">QRILC</th>\n",
       "    </tr>\n",
       "    <tr>\n",
       "      <th></th>\n",
       "      <th>var</th>\n",
       "      <th>p-unc</th>\n",
       "      <th>-Log10 pvalue</th>\n",
       "      <th>qvalue</th>\n",
       "      <th>rejected</th>\n",
       "      <th>p-unc</th>\n",
       "      <th>-Log10 pvalue</th>\n",
       "      <th>qvalue</th>\n",
       "      <th>rejected</th>\n",
       "    </tr>\n",
       "    <tr>\n",
       "      <th>protein groups</th>\n",
       "      <th>Source</th>\n",
       "      <th></th>\n",
       "      <th></th>\n",
       "      <th></th>\n",
       "      <th></th>\n",
       "      <th></th>\n",
       "      <th></th>\n",
       "      <th></th>\n",
       "      <th></th>\n",
       "    </tr>\n",
       "  </thead>\n",
       "  <tbody>\n",
       "    <tr>\n",
       "      <th>A0A024QZX5;A0A087X1N8;P35237</th>\n",
       "      <th>AD</th>\n",
       "      <td>0.391</td>\n",
       "      <td>0.408</td>\n",
       "      <td>0.554</td>\n",
       "      <td>False</td>\n",
       "      <td>0.045</td>\n",
       "      <td>1.349</td>\n",
       "      <td>0.104</td>\n",
       "      <td>False</td>\n",
       "    </tr>\n",
       "    <tr>\n",
       "      <th>A0A024R0T9;K7ER74;P02655</th>\n",
       "      <th>AD</th>\n",
       "      <td>0.057</td>\n",
       "      <td>1.246</td>\n",
       "      <td>0.134</td>\n",
       "      <td>False</td>\n",
       "      <td>0.029</td>\n",
       "      <td>1.543</td>\n",
       "      <td>0.073</td>\n",
       "      <td>False</td>\n",
       "    </tr>\n",
       "    <tr>\n",
       "      <th>A0A024R3W6;A0A024R412;O60462;O60462-2;O60462-3;O60462-4;O60462-5;Q7LBX6;X5D2Q8</th>\n",
       "      <th>AD</th>\n",
       "      <td>0.063</td>\n",
       "      <td>1.202</td>\n",
       "      <td>0.145</td>\n",
       "      <td>False</td>\n",
       "      <td>0.139</td>\n",
       "      <td>0.858</td>\n",
       "      <td>0.253</td>\n",
       "      <td>False</td>\n",
       "    </tr>\n",
       "    <tr>\n",
       "      <th>A0A024R644;A0A0A0MRU5;A0A1B0GWI2;O75503</th>\n",
       "      <th>AD</th>\n",
       "      <td>0.648</td>\n",
       "      <td>0.189</td>\n",
       "      <td>0.769</td>\n",
       "      <td>False</td>\n",
       "      <td>0.307</td>\n",
       "      <td>0.513</td>\n",
       "      <td>0.455</td>\n",
       "      <td>False</td>\n",
       "    </tr>\n",
       "    <tr>\n",
       "      <th>A0A075B6H7</th>\n",
       "      <th>AD</th>\n",
       "      <td>0.149</td>\n",
       "      <td>0.828</td>\n",
       "      <td>0.278</td>\n",
       "      <td>False</td>\n",
       "      <td>0.162</td>\n",
       "      <td>0.790</td>\n",
       "      <td>0.283</td>\n",
       "      <td>False</td>\n",
       "    </tr>\n",
       "    <tr>\n",
       "      <th>...</th>\n",
       "      <th>...</th>\n",
       "      <td>...</td>\n",
       "      <td>...</td>\n",
       "      <td>...</td>\n",
       "      <td>...</td>\n",
       "      <td>...</td>\n",
       "      <td>...</td>\n",
       "      <td>...</td>\n",
       "      <td>...</td>\n",
       "    </tr>\n",
       "    <tr>\n",
       "      <th>Q9Y6R7</th>\n",
       "      <th>AD</th>\n",
       "      <td>0.175</td>\n",
       "      <td>0.756</td>\n",
       "      <td>0.313</td>\n",
       "      <td>False</td>\n",
       "      <td>0.175</td>\n",
       "      <td>0.756</td>\n",
       "      <td>0.302</td>\n",
       "      <td>False</td>\n",
       "    </tr>\n",
       "    <tr>\n",
       "      <th>Q9Y6X5</th>\n",
       "      <th>AD</th>\n",
       "      <td>0.076</td>\n",
       "      <td>1.121</td>\n",
       "      <td>0.167</td>\n",
       "      <td>False</td>\n",
       "      <td>0.066</td>\n",
       "      <td>1.178</td>\n",
       "      <td>0.143</td>\n",
       "      <td>False</td>\n",
       "    </tr>\n",
       "    <tr>\n",
       "      <th>Q9Y6Y8;Q9Y6Y8-2</th>\n",
       "      <th>AD</th>\n",
       "      <td>0.083</td>\n",
       "      <td>1.079</td>\n",
       "      <td>0.181</td>\n",
       "      <td>False</td>\n",
       "      <td>0.083</td>\n",
       "      <td>1.079</td>\n",
       "      <td>0.171</td>\n",
       "      <td>False</td>\n",
       "    </tr>\n",
       "    <tr>\n",
       "      <th>Q9Y6Y9</th>\n",
       "      <th>AD</th>\n",
       "      <td>0.861</td>\n",
       "      <td>0.065</td>\n",
       "      <td>0.919</td>\n",
       "      <td>False</td>\n",
       "      <td>0.597</td>\n",
       "      <td>0.224</td>\n",
       "      <td>0.718</td>\n",
       "      <td>False</td>\n",
       "    </tr>\n",
       "    <tr>\n",
       "      <th>S4R3U6</th>\n",
       "      <th>AD</th>\n",
       "      <td>0.980</td>\n",
       "      <td>0.009</td>\n",
       "      <td>0.990</td>\n",
       "      <td>False</td>\n",
       "      <td>0.149</td>\n",
       "      <td>0.828</td>\n",
       "      <td>0.266</td>\n",
       "      <td>False</td>\n",
       "    </tr>\n",
       "  </tbody>\n",
       "</table>\n",
       "<p>1421 rows × 8 columns</p>\n",
       "</div>"
      ],
      "text/plain": [
       "model                                                        PI                \\\n",
       "var                                                       p-unc -Log10 pvalue   \n",
       "protein groups                                     Source                       \n",
       "A0A024QZX5;A0A087X1N8;P35237                       AD     0.391         0.408   \n",
       "A0A024R0T9;K7ER74;P02655                           AD     0.057         1.246   \n",
       "A0A024R3W6;A0A024R412;O60462;O60462-2;O60462-3;... AD     0.063         1.202   \n",
       "A0A024R644;A0A0A0MRU5;A0A1B0GWI2;O75503            AD     0.648         0.189   \n",
       "A0A075B6H7                                         AD     0.149         0.828   \n",
       "...                                                         ...           ...   \n",
       "Q9Y6R7                                             AD     0.175         0.756   \n",
       "Q9Y6X5                                             AD     0.076         1.121   \n",
       "Q9Y6Y8;Q9Y6Y8-2                                    AD     0.083         1.079   \n",
       "Q9Y6Y9                                             AD     0.861         0.065   \n",
       "S4R3U6                                             AD     0.980         0.009   \n",
       "\n",
       "model                                                                      \\\n",
       "var                                                       qvalue rejected   \n",
       "protein groups                                     Source                   \n",
       "A0A024QZX5;A0A087X1N8;P35237                       AD      0.554    False   \n",
       "A0A024R0T9;K7ER74;P02655                           AD      0.134    False   \n",
       "A0A024R3W6;A0A024R412;O60462;O60462-2;O60462-3;... AD      0.145    False   \n",
       "A0A024R644;A0A0A0MRU5;A0A1B0GWI2;O75503            AD      0.769    False   \n",
       "A0A075B6H7                                         AD      0.278    False   \n",
       "...                                                          ...      ...   \n",
       "Q9Y6R7                                             AD      0.313    False   \n",
       "Q9Y6X5                                             AD      0.167    False   \n",
       "Q9Y6Y8;Q9Y6Y8-2                                    AD      0.181    False   \n",
       "Q9Y6Y9                                             AD      0.919    False   \n",
       "S4R3U6                                             AD      0.990    False   \n",
       "\n",
       "model                                                     QRILC                \\\n",
       "var                                                       p-unc -Log10 pvalue   \n",
       "protein groups                                     Source                       \n",
       "A0A024QZX5;A0A087X1N8;P35237                       AD     0.045         1.349   \n",
       "A0A024R0T9;K7ER74;P02655                           AD     0.029         1.543   \n",
       "A0A024R3W6;A0A024R412;O60462;O60462-2;O60462-3;... AD     0.139         0.858   \n",
       "A0A024R644;A0A0A0MRU5;A0A1B0GWI2;O75503            AD     0.307         0.513   \n",
       "A0A075B6H7                                         AD     0.162         0.790   \n",
       "...                                                         ...           ...   \n",
       "Q9Y6R7                                             AD     0.175         0.756   \n",
       "Q9Y6X5                                             AD     0.066         1.178   \n",
       "Q9Y6Y8;Q9Y6Y8-2                                    AD     0.083         1.079   \n",
       "Q9Y6Y9                                             AD     0.597         0.224   \n",
       "S4R3U6                                             AD     0.149         0.828   \n",
       "\n",
       "model                                                                      \n",
       "var                                                       qvalue rejected  \n",
       "protein groups                                     Source                  \n",
       "A0A024QZX5;A0A087X1N8;P35237                       AD      0.104    False  \n",
       "A0A024R0T9;K7ER74;P02655                           AD      0.073    False  \n",
       "A0A024R3W6;A0A024R412;O60462;O60462-2;O60462-3;... AD      0.253    False  \n",
       "A0A024R644;A0A0A0MRU5;A0A1B0GWI2;O75503            AD      0.455    False  \n",
       "A0A075B6H7                                         AD      0.283    False  \n",
       "...                                                          ...      ...  \n",
       "Q9Y6R7                                             AD      0.302    False  \n",
       "Q9Y6X5                                             AD      0.143    False  \n",
       "Q9Y6Y8;Q9Y6Y8-2                                    AD      0.171    False  \n",
       "Q9Y6Y9                                             AD      0.718    False  \n",
       "S4R3U6                                             AD      0.266    False  \n",
       "\n",
       "[1421 rows x 8 columns]"
      ]
     },
     "execution_count": 11,
     "metadata": {},
     "output_type": "execute_result"
    }
   ],
   "source": [
    "scores = scores.loc[pd.IndexSlice[:, args.target], :]\n",
    "scores.to_excel(writer, 'scores', **writer_args)\n",
    "scores"
   ]
  },
  {
   "cell_type": "markdown",
   "id": "36e14580",
   "metadata": {
    "papermill": {
     "duration": 0.084897,
     "end_time": "2024-08-13T17:22:18.849095",
     "exception": false,
     "start_time": "2024-08-13T17:22:18.764198",
     "status": "completed"
    },
    "tags": []
   },
   "source": [
    "And the descriptive statistics\n",
    "of the numeric values:"
   ]
  },
  {
   "cell_type": "code",
   "execution_count": 12,
   "id": "0e45e80a-32d8-4c6c-b0a4-5ce8b7f9e121",
   "metadata": {
    "execution": {
     "iopub.execute_input": "2024-08-13T17:22:18.937801Z",
     "iopub.status.busy": "2024-08-13T17:22:18.937485Z",
     "iopub.status.idle": "2024-08-13T17:22:18.992982Z",
     "shell.execute_reply": "2024-08-13T17:22:18.992309Z"
    },
    "papermill": {
     "duration": 0.106696,
     "end_time": "2024-08-13T17:22:18.994599",
     "exception": false,
     "start_time": "2024-08-13T17:22:18.887903",
     "status": "completed"
    },
    "tags": [
     "hide-input"
    ]
   },
   "outputs": [
    {
     "data": {
      "text/html": [
       "<div>\n",
       "<style scoped>\n",
       "    .dataframe tbody tr th:only-of-type {\n",
       "        vertical-align: middle;\n",
       "    }\n",
       "\n",
       "    .dataframe tbody tr th {\n",
       "        vertical-align: top;\n",
       "    }\n",
       "\n",
       "    .dataframe thead tr th {\n",
       "        text-align: left;\n",
       "    }\n",
       "</style>\n",
       "<table border=\"1\" class=\"dataframe\">\n",
       "  <thead>\n",
       "    <tr>\n",
       "      <th>model</th>\n",
       "      <th colspan=\"3\" halign=\"left\">PI</th>\n",
       "      <th colspan=\"3\" halign=\"left\">QRILC</th>\n",
       "    </tr>\n",
       "    <tr>\n",
       "      <th>var</th>\n",
       "      <th>p-unc</th>\n",
       "      <th>-Log10 pvalue</th>\n",
       "      <th>qvalue</th>\n",
       "      <th>p-unc</th>\n",
       "      <th>-Log10 pvalue</th>\n",
       "      <th>qvalue</th>\n",
       "    </tr>\n",
       "  </thead>\n",
       "  <tbody>\n",
       "    <tr>\n",
       "      <th>count</th>\n",
       "      <td>1,421.000</td>\n",
       "      <td>1,421.000</td>\n",
       "      <td>1,421.000</td>\n",
       "      <td>1,421.000</td>\n",
       "      <td>1,421.000</td>\n",
       "      <td>1,421.000</td>\n",
       "    </tr>\n",
       "    <tr>\n",
       "      <th>mean</th>\n",
       "      <td>0.253</td>\n",
       "      <td>1.418</td>\n",
       "      <td>0.333</td>\n",
       "      <td>0.241</td>\n",
       "      <td>1.497</td>\n",
       "      <td>0.314</td>\n",
       "    </tr>\n",
       "    <tr>\n",
       "      <th>std</th>\n",
       "      <td>0.294</td>\n",
       "      <td>1.665</td>\n",
       "      <td>0.320</td>\n",
       "      <td>0.285</td>\n",
       "      <td>1.769</td>\n",
       "      <td>0.310</td>\n",
       "    </tr>\n",
       "    <tr>\n",
       "      <th>min</th>\n",
       "      <td>0.000</td>\n",
       "      <td>0.002</td>\n",
       "      <td>0.000</td>\n",
       "      <td>0.000</td>\n",
       "      <td>0.001</td>\n",
       "      <td>0.000</td>\n",
       "    </tr>\n",
       "    <tr>\n",
       "      <th>25%</th>\n",
       "      <td>0.011</td>\n",
       "      <td>0.348</td>\n",
       "      <td>0.037</td>\n",
       "      <td>0.010</td>\n",
       "      <td>0.380</td>\n",
       "      <td>0.030</td>\n",
       "    </tr>\n",
       "    <tr>\n",
       "      <th>50%</th>\n",
       "      <td>0.115</td>\n",
       "      <td>0.939</td>\n",
       "      <td>0.231</td>\n",
       "      <td>0.104</td>\n",
       "      <td>0.985</td>\n",
       "      <td>0.202</td>\n",
       "    </tr>\n",
       "    <tr>\n",
       "      <th>75%</th>\n",
       "      <td>0.449</td>\n",
       "      <td>1.951</td>\n",
       "      <td>0.607</td>\n",
       "      <td>0.417</td>\n",
       "      <td>2.010</td>\n",
       "      <td>0.563</td>\n",
       "    </tr>\n",
       "    <tr>\n",
       "      <th>max</th>\n",
       "      <td>0.996</td>\n",
       "      <td>24.742</td>\n",
       "      <td>0.998</td>\n",
       "      <td>0.998</td>\n",
       "      <td>24.191</td>\n",
       "      <td>0.999</td>\n",
       "    </tr>\n",
       "  </tbody>\n",
       "</table>\n",
       "</div>"
      ],
      "text/plain": [
       "model        PI                             QRILC                        \n",
       "var       p-unc -Log10 pvalue    qvalue     p-unc -Log10 pvalue    qvalue\n",
       "count 1,421.000     1,421.000 1,421.000 1,421.000     1,421.000 1,421.000\n",
       "mean      0.253         1.418     0.333     0.241         1.497     0.314\n",
       "std       0.294         1.665     0.320     0.285         1.769     0.310\n",
       "min       0.000         0.002     0.000     0.000         0.001     0.000\n",
       "25%       0.011         0.348     0.037     0.010         0.380     0.030\n",
       "50%       0.115         0.939     0.231     0.104         0.985     0.202\n",
       "75%       0.449         1.951     0.607     0.417         2.010     0.563\n",
       "max       0.996        24.742     0.998     0.998        24.191     0.999"
      ]
     },
     "execution_count": 12,
     "metadata": {},
     "output_type": "execute_result"
    }
   ],
   "source": [
    "scores.describe()"
   ]
  },
  {
   "cell_type": "markdown",
   "id": "e520d6dc",
   "metadata": {
    "papermill": {
     "duration": 0.029406,
     "end_time": "2024-08-13T17:22:19.051999",
     "exception": false,
     "start_time": "2024-08-13T17:22:19.022593",
     "status": "completed"
    },
    "tags": []
   },
   "source": [
    "and the boolean decision values"
   ]
  },
  {
   "cell_type": "code",
   "execution_count": 13,
   "id": "53bd5597-221c-4d54-abf2-82956db42594",
   "metadata": {
    "execution": {
     "iopub.execute_input": "2024-08-13T17:22:19.107930Z",
     "iopub.status.busy": "2024-08-13T17:22:19.107627Z",
     "iopub.status.idle": "2024-08-13T17:22:19.135274Z",
     "shell.execute_reply": "2024-08-13T17:22:19.134627Z"
    },
    "lines_to_next_cell": 2,
    "papermill": {
     "duration": 0.056196,
     "end_time": "2024-08-13T17:22:19.137304",
     "exception": false,
     "start_time": "2024-08-13T17:22:19.081108",
     "status": "completed"
    },
    "tags": [
     "hide-input"
    ]
   },
   "outputs": [
    {
     "data": {
      "text/html": [
       "<div>\n",
       "<style scoped>\n",
       "    .dataframe tbody tr th:only-of-type {\n",
       "        vertical-align: middle;\n",
       "    }\n",
       "\n",
       "    .dataframe tbody tr th {\n",
       "        vertical-align: top;\n",
       "    }\n",
       "\n",
       "    .dataframe thead tr th {\n",
       "        text-align: left;\n",
       "    }\n",
       "</style>\n",
       "<table border=\"1\" class=\"dataframe\">\n",
       "  <thead>\n",
       "    <tr>\n",
       "      <th>model</th>\n",
       "      <th>PI</th>\n",
       "      <th>QRILC</th>\n",
       "    </tr>\n",
       "    <tr>\n",
       "      <th>var</th>\n",
       "      <th>rejected</th>\n",
       "      <th>rejected</th>\n",
       "    </tr>\n",
       "  </thead>\n",
       "  <tbody>\n",
       "    <tr>\n",
       "      <th>count</th>\n",
       "      <td>1421</td>\n",
       "      <td>1421</td>\n",
       "    </tr>\n",
       "    <tr>\n",
       "      <th>unique</th>\n",
       "      <td>2</td>\n",
       "      <td>2</td>\n",
       "    </tr>\n",
       "    <tr>\n",
       "      <th>top</th>\n",
       "      <td>False</td>\n",
       "      <td>False</td>\n",
       "    </tr>\n",
       "    <tr>\n",
       "      <th>freq</th>\n",
       "      <td>1023</td>\n",
       "      <td>1008</td>\n",
       "    </tr>\n",
       "  </tbody>\n",
       "</table>\n",
       "</div>"
      ],
      "text/plain": [
       "model        PI    QRILC\n",
       "var    rejected rejected\n",
       "count      1421     1421\n",
       "unique        2        2\n",
       "top       False    False\n",
       "freq       1023     1008"
      ]
     },
     "execution_count": 13,
     "metadata": {},
     "output_type": "execute_result"
    }
   ],
   "source": [
    "scores.describe(include=['bool', 'O'])"
   ]
  },
  {
   "cell_type": "markdown",
   "id": "bef83742-05e5-473b-892e-dd286cb3a31f",
   "metadata": {
    "papermill": {
     "duration": 0.046698,
     "end_time": "2024-08-13T17:22:19.220759",
     "exception": false,
     "start_time": "2024-08-13T17:22:19.174061",
     "status": "completed"
    },
    "tags": []
   },
   "source": [
    "## Load frequencies of observed features"
   ]
  },
  {
   "cell_type": "code",
   "execution_count": 14,
   "id": "2a926ba1-0f3b-4089-a349-b6d66128cf37",
   "metadata": {
    "execution": {
     "iopub.execute_input": "2024-08-13T17:22:19.294851Z",
     "iopub.status.busy": "2024-08-13T17:22:19.294530Z",
     "iopub.status.idle": "2024-08-13T17:22:19.346675Z",
     "shell.execute_reply": "2024-08-13T17:22:19.346031Z"
    },
    "papermill": {
     "duration": 0.092219,
     "end_time": "2024-08-13T17:22:19.348522",
     "exception": false,
     "start_time": "2024-08-13T17:22:19.256303",
     "status": "completed"
    },
    "tags": [
     "hide-input"
    ]
   },
   "outputs": [
    {
     "data": {
      "text/html": [
       "<div>\n",
       "<style scoped>\n",
       "    .dataframe tbody tr th:only-of-type {\n",
       "        vertical-align: middle;\n",
       "    }\n",
       "\n",
       "    .dataframe tbody tr th {\n",
       "        vertical-align: top;\n",
       "    }\n",
       "\n",
       "    .dataframe thead tr th {\n",
       "        text-align: left;\n",
       "    }\n",
       "\n",
       "    .dataframe thead tr:last-of-type th {\n",
       "        text-align: right;\n",
       "    }\n",
       "</style>\n",
       "<table border=\"1\" class=\"dataframe\">\n",
       "  <thead>\n",
       "    <tr>\n",
       "      <th></th>\n",
       "      <th>data</th>\n",
       "    </tr>\n",
       "    <tr>\n",
       "      <th></th>\n",
       "      <th>frequency</th>\n",
       "    </tr>\n",
       "    <tr>\n",
       "      <th>protein groups</th>\n",
       "      <th></th>\n",
       "    </tr>\n",
       "  </thead>\n",
       "  <tbody>\n",
       "    <tr>\n",
       "      <th>A0A024QZX5;A0A087X1N8;P35237</th>\n",
       "      <td>186</td>\n",
       "    </tr>\n",
       "    <tr>\n",
       "      <th>A0A024R0T9;K7ER74;P02655</th>\n",
       "      <td>195</td>\n",
       "    </tr>\n",
       "    <tr>\n",
       "      <th>A0A024R3W6;A0A024R412;O60462;O60462-2;O60462-3;O60462-4;O60462-5;Q7LBX6;X5D2Q8</th>\n",
       "      <td>174</td>\n",
       "    </tr>\n",
       "    <tr>\n",
       "      <th>A0A024R644;A0A0A0MRU5;A0A1B0GWI2;O75503</th>\n",
       "      <td>196</td>\n",
       "    </tr>\n",
       "    <tr>\n",
       "      <th>A0A075B6H7</th>\n",
       "      <td>91</td>\n",
       "    </tr>\n",
       "    <tr>\n",
       "      <th>...</th>\n",
       "      <td>...</td>\n",
       "    </tr>\n",
       "    <tr>\n",
       "      <th>Q9Y6R7</th>\n",
       "      <td>197</td>\n",
       "    </tr>\n",
       "    <tr>\n",
       "      <th>Q9Y6X5</th>\n",
       "      <td>173</td>\n",
       "    </tr>\n",
       "    <tr>\n",
       "      <th>Q9Y6Y8;Q9Y6Y8-2</th>\n",
       "      <td>197</td>\n",
       "    </tr>\n",
       "    <tr>\n",
       "      <th>Q9Y6Y9</th>\n",
       "      <td>119</td>\n",
       "    </tr>\n",
       "    <tr>\n",
       "      <th>S4R3U6</th>\n",
       "      <td>126</td>\n",
       "    </tr>\n",
       "  </tbody>\n",
       "</table>\n",
       "<p>1421 rows × 1 columns</p>\n",
       "</div>"
      ],
      "text/plain": [
       "                                                        data\n",
       "                                                   frequency\n",
       "protein groups                                              \n",
       "A0A024QZX5;A0A087X1N8;P35237                             186\n",
       "A0A024R0T9;K7ER74;P02655                                 195\n",
       "A0A024R3W6;A0A024R412;O60462;O60462-2;O60462-3;...       174\n",
       "A0A024R644;A0A0A0MRU5;A0A1B0GWI2;O75503                  196\n",
       "A0A075B6H7                                                91\n",
       "...                                                      ...\n",
       "Q9Y6R7                                                   197\n",
       "Q9Y6X5                                                   173\n",
       "Q9Y6Y8;Q9Y6Y8-2                                          197\n",
       "Q9Y6Y9                                                   119\n",
       "S4R3U6                                                   126\n",
       "\n",
       "[1421 rows x 1 columns]"
      ]
     },
     "execution_count": 14,
     "metadata": {},
     "output_type": "execute_result"
    }
   ],
   "source": [
    "freq_feat = pd.read_csv(args.freq_features_observed, index_col=0)\n",
    "freq_feat.columns = pd.MultiIndex.from_tuples([('data', 'frequency'),])\n",
    "freq_feat"
   ]
  },
  {
   "cell_type": "markdown",
   "id": "408eacfe-770f-42ff-9057-2a98274e1ae3",
   "metadata": {
    "papermill": {
     "duration": 0.043522,
     "end_time": "2024-08-13T17:22:19.420197",
     "exception": false,
     "start_time": "2024-08-13T17:22:19.376675",
     "status": "completed"
    },
    "tags": []
   },
   "source": [
    "## Compare shared features"
   ]
  },
  {
   "cell_type": "code",
   "execution_count": 15,
   "id": "5b2dfb0f-195b-4044-a228-2d784ea2a458",
   "metadata": {
    "execution": {
     "iopub.execute_input": "2024-08-13T17:22:19.506584Z",
     "iopub.status.busy": "2024-08-13T17:22:19.505834Z",
     "iopub.status.idle": "2024-08-13T17:22:19.576993Z",
     "shell.execute_reply": "2024-08-13T17:22:19.576303Z"
    },
    "papermill": {
     "duration": 0.12686,
     "end_time": "2024-08-13T17:22:19.578587",
     "exception": false,
     "start_time": "2024-08-13T17:22:19.451727",
     "status": "completed"
    },
    "tags": [
     "hide-input"
    ]
   },
   "outputs": [
    {
     "data": {
      "text/html": [
       "<div>\n",
       "<style scoped>\n",
       "    .dataframe tbody tr th:only-of-type {\n",
       "        vertical-align: middle;\n",
       "    }\n",
       "\n",
       "    .dataframe tbody tr th {\n",
       "        vertical-align: top;\n",
       "    }\n",
       "\n",
       "    .dataframe thead tr th {\n",
       "        text-align: left;\n",
       "    }\n",
       "\n",
       "    .dataframe thead tr:last-of-type th {\n",
       "        text-align: right;\n",
       "    }\n",
       "</style>\n",
       "<table border=\"1\" class=\"dataframe\">\n",
       "  <thead>\n",
       "    <tr>\n",
       "      <th></th>\n",
       "      <th colspan=\"4\" halign=\"left\">PI</th>\n",
       "      <th colspan=\"4\" halign=\"left\">QRILC</th>\n",
       "      <th>data</th>\n",
       "    </tr>\n",
       "    <tr>\n",
       "      <th></th>\n",
       "      <th>p-unc</th>\n",
       "      <th>-Log10 pvalue</th>\n",
       "      <th>qvalue</th>\n",
       "      <th>rejected</th>\n",
       "      <th>p-unc</th>\n",
       "      <th>-Log10 pvalue</th>\n",
       "      <th>qvalue</th>\n",
       "      <th>rejected</th>\n",
       "      <th>frequency</th>\n",
       "    </tr>\n",
       "    <tr>\n",
       "      <th>protein groups</th>\n",
       "      <th></th>\n",
       "      <th></th>\n",
       "      <th></th>\n",
       "      <th></th>\n",
       "      <th></th>\n",
       "      <th></th>\n",
       "      <th></th>\n",
       "      <th></th>\n",
       "      <th></th>\n",
       "    </tr>\n",
       "  </thead>\n",
       "  <tbody>\n",
       "    <tr>\n",
       "      <th>A0A024QZX5;A0A087X1N8;P35237</th>\n",
       "      <td>0.391</td>\n",
       "      <td>0.408</td>\n",
       "      <td>0.554</td>\n",
       "      <td>False</td>\n",
       "      <td>0.045</td>\n",
       "      <td>1.349</td>\n",
       "      <td>0.104</td>\n",
       "      <td>False</td>\n",
       "      <td>186</td>\n",
       "    </tr>\n",
       "    <tr>\n",
       "      <th>A0A024R0T9;K7ER74;P02655</th>\n",
       "      <td>0.057</td>\n",
       "      <td>1.246</td>\n",
       "      <td>0.134</td>\n",
       "      <td>False</td>\n",
       "      <td>0.029</td>\n",
       "      <td>1.543</td>\n",
       "      <td>0.073</td>\n",
       "      <td>False</td>\n",
       "      <td>195</td>\n",
       "    </tr>\n",
       "    <tr>\n",
       "      <th>A0A024R3W6;A0A024R412;O60462;O60462-2;O60462-3;O60462-4;O60462-5;Q7LBX6;X5D2Q8</th>\n",
       "      <td>0.063</td>\n",
       "      <td>1.202</td>\n",
       "      <td>0.145</td>\n",
       "      <td>False</td>\n",
       "      <td>0.139</td>\n",
       "      <td>0.858</td>\n",
       "      <td>0.253</td>\n",
       "      <td>False</td>\n",
       "      <td>174</td>\n",
       "    </tr>\n",
       "    <tr>\n",
       "      <th>A0A024R644;A0A0A0MRU5;A0A1B0GWI2;O75503</th>\n",
       "      <td>0.648</td>\n",
       "      <td>0.189</td>\n",
       "      <td>0.769</td>\n",
       "      <td>False</td>\n",
       "      <td>0.307</td>\n",
       "      <td>0.513</td>\n",
       "      <td>0.455</td>\n",
       "      <td>False</td>\n",
       "      <td>196</td>\n",
       "    </tr>\n",
       "    <tr>\n",
       "      <th>A0A075B6H7</th>\n",
       "      <td>0.149</td>\n",
       "      <td>0.828</td>\n",
       "      <td>0.278</td>\n",
       "      <td>False</td>\n",
       "      <td>0.162</td>\n",
       "      <td>0.790</td>\n",
       "      <td>0.283</td>\n",
       "      <td>False</td>\n",
       "      <td>91</td>\n",
       "    </tr>\n",
       "    <tr>\n",
       "      <th>...</th>\n",
       "      <td>...</td>\n",
       "      <td>...</td>\n",
       "      <td>...</td>\n",
       "      <td>...</td>\n",
       "      <td>...</td>\n",
       "      <td>...</td>\n",
       "      <td>...</td>\n",
       "      <td>...</td>\n",
       "      <td>...</td>\n",
       "    </tr>\n",
       "    <tr>\n",
       "      <th>Q9Y6R7</th>\n",
       "      <td>0.175</td>\n",
       "      <td>0.756</td>\n",
       "      <td>0.313</td>\n",
       "      <td>False</td>\n",
       "      <td>0.175</td>\n",
       "      <td>0.756</td>\n",
       "      <td>0.302</td>\n",
       "      <td>False</td>\n",
       "      <td>197</td>\n",
       "    </tr>\n",
       "    <tr>\n",
       "      <th>Q9Y6X5</th>\n",
       "      <td>0.076</td>\n",
       "      <td>1.121</td>\n",
       "      <td>0.167</td>\n",
       "      <td>False</td>\n",
       "      <td>0.066</td>\n",
       "      <td>1.178</td>\n",
       "      <td>0.143</td>\n",
       "      <td>False</td>\n",
       "      <td>173</td>\n",
       "    </tr>\n",
       "    <tr>\n",
       "      <th>Q9Y6Y8;Q9Y6Y8-2</th>\n",
       "      <td>0.083</td>\n",
       "      <td>1.079</td>\n",
       "      <td>0.181</td>\n",
       "      <td>False</td>\n",
       "      <td>0.083</td>\n",
       "      <td>1.079</td>\n",
       "      <td>0.171</td>\n",
       "      <td>False</td>\n",
       "      <td>197</td>\n",
       "    </tr>\n",
       "    <tr>\n",
       "      <th>Q9Y6Y9</th>\n",
       "      <td>0.861</td>\n",
       "      <td>0.065</td>\n",
       "      <td>0.919</td>\n",
       "      <td>False</td>\n",
       "      <td>0.597</td>\n",
       "      <td>0.224</td>\n",
       "      <td>0.718</td>\n",
       "      <td>False</td>\n",
       "      <td>119</td>\n",
       "    </tr>\n",
       "    <tr>\n",
       "      <th>S4R3U6</th>\n",
       "      <td>0.980</td>\n",
       "      <td>0.009</td>\n",
       "      <td>0.990</td>\n",
       "      <td>False</td>\n",
       "      <td>0.149</td>\n",
       "      <td>0.828</td>\n",
       "      <td>0.266</td>\n",
       "      <td>False</td>\n",
       "      <td>126</td>\n",
       "    </tr>\n",
       "  </tbody>\n",
       "</table>\n",
       "<p>1421 rows × 9 columns</p>\n",
       "</div>"
      ],
      "text/plain": [
       "                                                      PI                       \\\n",
       "                                                   p-unc -Log10 pvalue qvalue   \n",
       "protein groups                                                                  \n",
       "A0A024QZX5;A0A087X1N8;P35237                       0.391         0.408  0.554   \n",
       "A0A024R0T9;K7ER74;P02655                           0.057         1.246  0.134   \n",
       "A0A024R3W6;A0A024R412;O60462;O60462-2;O60462-3;... 0.063         1.202  0.145   \n",
       "A0A024R644;A0A0A0MRU5;A0A1B0GWI2;O75503            0.648         0.189  0.769   \n",
       "A0A075B6H7                                         0.149         0.828  0.278   \n",
       "...                                                  ...           ...    ...   \n",
       "Q9Y6R7                                             0.175         0.756  0.313   \n",
       "Q9Y6X5                                             0.076         1.121  0.167   \n",
       "Q9Y6Y8;Q9Y6Y8-2                                    0.083         1.079  0.181   \n",
       "Q9Y6Y9                                             0.861         0.065  0.919   \n",
       "S4R3U6                                             0.980         0.009  0.990   \n",
       "\n",
       "                                                            QRILC  \\\n",
       "                                                   rejected p-unc   \n",
       "protein groups                                                      \n",
       "A0A024QZX5;A0A087X1N8;P35237                          False 0.045   \n",
       "A0A024R0T9;K7ER74;P02655                              False 0.029   \n",
       "A0A024R3W6;A0A024R412;O60462;O60462-2;O60462-3;...    False 0.139   \n",
       "A0A024R644;A0A0A0MRU5;A0A1B0GWI2;O75503               False 0.307   \n",
       "A0A075B6H7                                            False 0.162   \n",
       "...                                                     ...   ...   \n",
       "Q9Y6R7                                                False 0.175   \n",
       "Q9Y6X5                                                False 0.066   \n",
       "Q9Y6Y8;Q9Y6Y8-2                                       False 0.083   \n",
       "Q9Y6Y9                                                False 0.597   \n",
       "S4R3U6                                                False 0.149   \n",
       "\n",
       "                                                                         \\\n",
       "                                                   -Log10 pvalue qvalue   \n",
       "protein groups                                                            \n",
       "A0A024QZX5;A0A087X1N8;P35237                               1.349  0.104   \n",
       "A0A024R0T9;K7ER74;P02655                                   1.543  0.073   \n",
       "A0A024R3W6;A0A024R412;O60462;O60462-2;O60462-3;...         0.858  0.253   \n",
       "A0A024R644;A0A0A0MRU5;A0A1B0GWI2;O75503                    0.513  0.455   \n",
       "A0A075B6H7                                                 0.790  0.283   \n",
       "...                                                          ...    ...   \n",
       "Q9Y6R7                                                     0.756  0.302   \n",
       "Q9Y6X5                                                     1.178  0.143   \n",
       "Q9Y6Y8;Q9Y6Y8-2                                            1.079  0.171   \n",
       "Q9Y6Y9                                                     0.224  0.718   \n",
       "S4R3U6                                                     0.828  0.266   \n",
       "\n",
       "                                                                 data  \n",
       "                                                   rejected frequency  \n",
       "protein groups                                                         \n",
       "A0A024QZX5;A0A087X1N8;P35237                          False       186  \n",
       "A0A024R0T9;K7ER74;P02655                              False       195  \n",
       "A0A024R3W6;A0A024R412;O60462;O60462-2;O60462-3;...    False       174  \n",
       "A0A024R644;A0A0A0MRU5;A0A1B0GWI2;O75503               False       196  \n",
       "A0A075B6H7                                            False        91  \n",
       "...                                                     ...       ...  \n",
       "Q9Y6R7                                                False       197  \n",
       "Q9Y6X5                                                False       173  \n",
       "Q9Y6Y8;Q9Y6Y8-2                                       False       197  \n",
       "Q9Y6Y9                                                False       119  \n",
       "S4R3U6                                                False       126  \n",
       "\n",
       "[1421 rows x 9 columns]"
      ]
     },
     "execution_count": 15,
     "metadata": {},
     "output_type": "execute_result"
    }
   ],
   "source": [
    "scores_common = (scores\n",
    "                 .dropna()\n",
    "                 .reset_index(-1, drop=True)\n",
    "                 ).join(\n",
    "    freq_feat, how='left'\n",
    ")\n",
    "scores_common"
   ]
  },
  {
   "cell_type": "markdown",
   "id": "62a9eefd",
   "metadata": {
    "papermill": {
     "duration": 0.061789,
     "end_time": "2024-08-13T17:22:19.669232",
     "exception": false,
     "start_time": "2024-08-13T17:22:19.607443",
     "status": "completed"
    },
    "tags": []
   },
   "source": [
    "### Annotate decisions in Confusion Table style:"
   ]
  },
  {
   "cell_type": "code",
   "execution_count": 16,
   "id": "80cf4145-070d-457a-bb74-ee64299809e7",
   "metadata": {
    "execution": {
     "iopub.execute_input": "2024-08-13T17:22:19.769656Z",
     "iopub.status.busy": "2024-08-13T17:22:19.769353Z",
     "iopub.status.idle": "2024-08-13T17:22:19.788924Z",
     "shell.execute_reply": "2024-08-13T17:22:19.788293Z"
    },
    "papermill": {
     "duration": 0.097193,
     "end_time": "2024-08-13T17:22:19.790375",
     "exception": false,
     "start_time": "2024-08-13T17:22:19.693182",
     "status": "completed"
    },
    "tags": [
     "hide-input"
    ]
   },
   "outputs": [
    {
     "data": {
      "text/plain": [
       "Differential Analysis Comparison\n",
       "PI (no)  - QRILC (no)    962\n",
       "PI (yes) - QRILC (yes)   352\n",
       "PI (no)  - QRILC (yes)    61\n",
       "PI (yes) - QRILC (no)     46\n",
       "Name: count, dtype: int64"
      ]
     },
     "execution_count": 16,
     "metadata": {},
     "output_type": "execute_result"
    }
   ],
   "source": [
    "def annotate_decision(scores, model, model_column):\n",
    "    return scores[(model_column, 'rejected')].replace({False: f'{model} (no) ', True: f'{model} (yes)'})\n",
    "\n",
    "\n",
    "annotations = None\n",
    "for model, model_column in models.items():\n",
    "    if annotations is not None:\n",
    "        annotations += ' - '\n",
    "        annotations += annotate_decision(scores_common,\n",
    "                                         model=model, model_column=model_column)\n",
    "    else:\n",
    "        annotations = annotate_decision(\n",
    "            scores_common, model=model, model_column=model_column)\n",
    "annotations.name = 'Differential Analysis Comparison'\n",
    "annotations.value_counts()"
   ]
  },
  {
   "cell_type": "markdown",
   "id": "0942d395",
   "metadata": {
    "papermill": {
     "duration": 0.082098,
     "end_time": "2024-08-13T17:22:19.901471",
     "exception": false,
     "start_time": "2024-08-13T17:22:19.819373",
     "status": "completed"
    },
    "tags": []
   },
   "source": [
    "### List different decisions between models"
   ]
  },
  {
   "cell_type": "code",
   "execution_count": 17,
   "id": "cda5ffa4-9a97-4a49-aaba-34e83ef7940a",
   "metadata": {
    "execution": {
     "iopub.execute_input": "2024-08-13T17:22:19.936455Z",
     "iopub.status.busy": "2024-08-13T17:22:19.936131Z",
     "iopub.status.idle": "2024-08-13T17:22:20.034958Z",
     "shell.execute_reply": "2024-08-13T17:22:20.034330Z"
    },
    "papermill": {
     "duration": 0.118161,
     "end_time": "2024-08-13T17:22:20.036688",
     "exception": false,
     "start_time": "2024-08-13T17:22:19.918527",
     "status": "completed"
    },
    "tags": [
     "hide-input"
    ]
   },
   "outputs": [
    {
     "name": "stderr",
     "output_type": "stream",
     "text": [
      "/tmp/ipykernel_50980/1417621106.py:6: FutureWarning: Starting with pandas version 3.0 all arguments of to_excel except for the argument 'excel_writer' will be keyword-only.\n",
      "  _to_write.to_excel(writer, 'differences', **writer_args)\n",
      "root - INFO     Writen to Excel file under sheet 'differences'.\n"
     ]
    },
    {
     "data": {
      "text/html": [
       "<div>\n",
       "<style scoped>\n",
       "    .dataframe tbody tr th:only-of-type {\n",
       "        vertical-align: middle;\n",
       "    }\n",
       "\n",
       "    .dataframe tbody tr th {\n",
       "        vertical-align: top;\n",
       "    }\n",
       "\n",
       "    .dataframe thead tr th {\n",
       "        text-align: left;\n",
       "    }\n",
       "\n",
       "    .dataframe thead tr:last-of-type th {\n",
       "        text-align: right;\n",
       "    }\n",
       "</style>\n",
       "<table border=\"1\" class=\"dataframe\">\n",
       "  <thead>\n",
       "    <tr>\n",
       "      <th></th>\n",
       "      <th colspan=\"4\" halign=\"left\">PI</th>\n",
       "      <th colspan=\"4\" halign=\"left\">QRILC</th>\n",
       "      <th>data</th>\n",
       "    </tr>\n",
       "    <tr>\n",
       "      <th></th>\n",
       "      <th>p-unc</th>\n",
       "      <th>-Log10 pvalue</th>\n",
       "      <th>qvalue</th>\n",
       "      <th>rejected</th>\n",
       "      <th>p-unc</th>\n",
       "      <th>-Log10 pvalue</th>\n",
       "      <th>qvalue</th>\n",
       "      <th>rejected</th>\n",
       "      <th>frequency</th>\n",
       "    </tr>\n",
       "    <tr>\n",
       "      <th>protein groups</th>\n",
       "      <th></th>\n",
       "      <th></th>\n",
       "      <th></th>\n",
       "      <th></th>\n",
       "      <th></th>\n",
       "      <th></th>\n",
       "      <th></th>\n",
       "      <th></th>\n",
       "      <th></th>\n",
       "    </tr>\n",
       "  </thead>\n",
       "  <tbody>\n",
       "    <tr>\n",
       "      <th>A0A075B6I0</th>\n",
       "      <td>0.018</td>\n",
       "      <td>1.751</td>\n",
       "      <td>0.054</td>\n",
       "      <td>False</td>\n",
       "      <td>0.002</td>\n",
       "      <td>2.650</td>\n",
       "      <td>0.009</td>\n",
       "      <td>True</td>\n",
       "      <td>194</td>\n",
       "    </tr>\n",
       "    <tr>\n",
       "      <th>A0A075B6J9</th>\n",
       "      <td>0.095</td>\n",
       "      <td>1.021</td>\n",
       "      <td>0.200</td>\n",
       "      <td>False</td>\n",
       "      <td>0.009</td>\n",
       "      <td>2.038</td>\n",
       "      <td>0.029</td>\n",
       "      <td>True</td>\n",
       "      <td>156</td>\n",
       "    </tr>\n",
       "    <tr>\n",
       "      <th>A0A087WWT2;Q9NPD7</th>\n",
       "      <td>0.019</td>\n",
       "      <td>1.712</td>\n",
       "      <td>0.058</td>\n",
       "      <td>False</td>\n",
       "      <td>0.004</td>\n",
       "      <td>2.424</td>\n",
       "      <td>0.014</td>\n",
       "      <td>True</td>\n",
       "      <td>193</td>\n",
       "    </tr>\n",
       "    <tr>\n",
       "      <th>A0A087WXB8;Q9Y274</th>\n",
       "      <td>0.015</td>\n",
       "      <td>1.822</td>\n",
       "      <td>0.047</td>\n",
       "      <td>True</td>\n",
       "      <td>0.050</td>\n",
       "      <td>1.297</td>\n",
       "      <td>0.115</td>\n",
       "      <td>False</td>\n",
       "      <td>89</td>\n",
       "    </tr>\n",
       "    <tr>\n",
       "      <th>A0A087X0M8</th>\n",
       "      <td>0.019</td>\n",
       "      <td>1.721</td>\n",
       "      <td>0.057</td>\n",
       "      <td>False</td>\n",
       "      <td>0.003</td>\n",
       "      <td>2.525</td>\n",
       "      <td>0.011</td>\n",
       "      <td>True</td>\n",
       "      <td>189</td>\n",
       "    </tr>\n",
       "    <tr>\n",
       "      <th>...</th>\n",
       "      <td>...</td>\n",
       "      <td>...</td>\n",
       "      <td>...</td>\n",
       "      <td>...</td>\n",
       "      <td>...</td>\n",
       "      <td>...</td>\n",
       "      <td>...</td>\n",
       "      <td>...</td>\n",
       "      <td>...</td>\n",
       "    </tr>\n",
       "    <tr>\n",
       "      <th>Q9NYX4</th>\n",
       "      <td>0.051</td>\n",
       "      <td>1.295</td>\n",
       "      <td>0.122</td>\n",
       "      <td>False</td>\n",
       "      <td>0.007</td>\n",
       "      <td>2.130</td>\n",
       "      <td>0.024</td>\n",
       "      <td>True</td>\n",
       "      <td>195</td>\n",
       "    </tr>\n",
       "    <tr>\n",
       "      <th>Q9NZR2</th>\n",
       "      <td>0.016</td>\n",
       "      <td>1.800</td>\n",
       "      <td>0.049</td>\n",
       "      <td>True</td>\n",
       "      <td>0.031</td>\n",
       "      <td>1.506</td>\n",
       "      <td>0.079</td>\n",
       "      <td>False</td>\n",
       "      <td>145</td>\n",
       "    </tr>\n",
       "    <tr>\n",
       "      <th>Q9ULP0-3;Q9ULP0-6</th>\n",
       "      <td>0.036</td>\n",
       "      <td>1.443</td>\n",
       "      <td>0.093</td>\n",
       "      <td>False</td>\n",
       "      <td>0.003</td>\n",
       "      <td>2.558</td>\n",
       "      <td>0.011</td>\n",
       "      <td>True</td>\n",
       "      <td>136</td>\n",
       "    </tr>\n",
       "    <tr>\n",
       "      <th>Q9UNW1</th>\n",
       "      <td>0.009</td>\n",
       "      <td>2.030</td>\n",
       "      <td>0.032</td>\n",
       "      <td>True</td>\n",
       "      <td>0.108</td>\n",
       "      <td>0.968</td>\n",
       "      <td>0.209</td>\n",
       "      <td>False</td>\n",
       "      <td>171</td>\n",
       "    </tr>\n",
       "    <tr>\n",
       "      <th>Q9UQ52</th>\n",
       "      <td>0.149</td>\n",
       "      <td>0.826</td>\n",
       "      <td>0.279</td>\n",
       "      <td>False</td>\n",
       "      <td>0.003</td>\n",
       "      <td>2.463</td>\n",
       "      <td>0.013</td>\n",
       "      <td>True</td>\n",
       "      <td>188</td>\n",
       "    </tr>\n",
       "  </tbody>\n",
       "</table>\n",
       "<p>107 rows × 9 columns</p>\n",
       "</div>"
      ],
      "text/plain": [
       "                     PI                               QRILC                \\\n",
       "                  p-unc -Log10 pvalue qvalue rejected p-unc -Log10 pvalue   \n",
       "protein groups                                                              \n",
       "A0A075B6I0        0.018         1.751  0.054    False 0.002         2.650   \n",
       "A0A075B6J9        0.095         1.021  0.200    False 0.009         2.038   \n",
       "A0A087WWT2;Q9NPD7 0.019         1.712  0.058    False 0.004         2.424   \n",
       "A0A087WXB8;Q9Y274 0.015         1.822  0.047     True 0.050         1.297   \n",
       "A0A087X0M8        0.019         1.721  0.057    False 0.003         2.525   \n",
       "...                 ...           ...    ...      ...   ...           ...   \n",
       "Q9NYX4            0.051         1.295  0.122    False 0.007         2.130   \n",
       "Q9NZR2            0.016         1.800  0.049     True 0.031         1.506   \n",
       "Q9ULP0-3;Q9ULP0-6 0.036         1.443  0.093    False 0.003         2.558   \n",
       "Q9UNW1            0.009         2.030  0.032     True 0.108         0.968   \n",
       "Q9UQ52            0.149         0.826  0.279    False 0.003         2.463   \n",
       "\n",
       "                                       data  \n",
       "                  qvalue rejected frequency  \n",
       "protein groups                               \n",
       "A0A075B6I0         0.009     True       194  \n",
       "A0A075B6J9         0.029     True       156  \n",
       "A0A087WWT2;Q9NPD7  0.014     True       193  \n",
       "A0A087WXB8;Q9Y274  0.115    False        89  \n",
       "A0A087X0M8         0.011     True       189  \n",
       "...                  ...      ...       ...  \n",
       "Q9NYX4             0.024     True       195  \n",
       "Q9NZR2             0.079    False       145  \n",
       "Q9ULP0-3;Q9ULP0-6  0.011     True       136  \n",
       "Q9UNW1             0.209    False       171  \n",
       "Q9UQ52             0.013     True       188  \n",
       "\n",
       "[107 rows x 9 columns]"
      ]
     },
     "execution_count": 17,
     "metadata": {},
     "output_type": "execute_result"
    }
   ],
   "source": [
    "mask_different = (\n",
    "    (scores_common.loc[:, pd.IndexSlice[:, 'rejected']].any(axis=1))\n",
    "    & ~(scores_common.loc[:, pd.IndexSlice[:, 'rejected']].all(axis=1))\n",
    ")\n",
    "_to_write = scores_common.loc[mask_different]\n",
    "_to_write.to_excel(writer, 'differences', **writer_args)\n",
    "logger.info(\"Writen to Excel file under sheet 'differences'.\")\n",
    "_to_write"
   ]
  },
  {
   "cell_type": "markdown",
   "id": "e8832084",
   "metadata": {
    "papermill": {
     "duration": 0.016868,
     "end_time": "2024-08-13T17:22:20.074805",
     "exception": false,
     "start_time": "2024-08-13T17:22:20.057937",
     "status": "completed"
    },
    "tags": []
   },
   "source": [
    "## Plot qvalues of both models with annotated decisions\n",
    "\n",
    "Prepare data for plotting (qvalues)"
   ]
  },
  {
   "cell_type": "code",
   "execution_count": 18,
   "id": "5b2e5341-b054-40c3-b45a-44ae6ca46cfb",
   "metadata": {
    "execution": {
     "iopub.execute_input": "2024-08-13T17:22:20.112169Z",
     "iopub.status.busy": "2024-08-13T17:22:20.111862Z",
     "iopub.status.idle": "2024-08-13T17:22:20.125944Z",
     "shell.execute_reply": "2024-08-13T17:22:20.125249Z"
    },
    "papermill": {
     "duration": 0.038348,
     "end_time": "2024-08-13T17:22:20.127479",
     "exception": false,
     "start_time": "2024-08-13T17:22:20.089131",
     "status": "completed"
    },
    "tags": [
     "hide-input"
    ]
   },
   "outputs": [
    {
     "data": {
      "text/html": [
       "<div>\n",
       "<style scoped>\n",
       "    .dataframe tbody tr th:only-of-type {\n",
       "        vertical-align: middle;\n",
       "    }\n",
       "\n",
       "    .dataframe tbody tr th {\n",
       "        vertical-align: top;\n",
       "    }\n",
       "\n",
       "    .dataframe thead th {\n",
       "        text-align: right;\n",
       "    }\n",
       "</style>\n",
       "<table border=\"1\" class=\"dataframe\">\n",
       "  <thead>\n",
       "    <tr style=\"text-align: right;\">\n",
       "      <th></th>\n",
       "      <th>PI</th>\n",
       "      <th>QRILC</th>\n",
       "      <th>frequency</th>\n",
       "      <th>Differential Analysis Comparison</th>\n",
       "    </tr>\n",
       "    <tr>\n",
       "      <th>protein groups</th>\n",
       "      <th></th>\n",
       "      <th></th>\n",
       "      <th></th>\n",
       "      <th></th>\n",
       "    </tr>\n",
       "  </thead>\n",
       "  <tbody>\n",
       "    <tr>\n",
       "      <th>A0A024QZX5;A0A087X1N8;P35237</th>\n",
       "      <td>0.554</td>\n",
       "      <td>0.104</td>\n",
       "      <td>186</td>\n",
       "      <td>PI (no)  - QRILC (no)</td>\n",
       "    </tr>\n",
       "    <tr>\n",
       "      <th>A0A024R0T9;K7ER74;P02655</th>\n",
       "      <td>0.134</td>\n",
       "      <td>0.073</td>\n",
       "      <td>195</td>\n",
       "      <td>PI (no)  - QRILC (no)</td>\n",
       "    </tr>\n",
       "    <tr>\n",
       "      <th>A0A024R3W6;A0A024R412;O60462;O60462-2;O60462-3;O60462-4;O60462-5;Q7LBX6;X5D2Q8</th>\n",
       "      <td>0.145</td>\n",
       "      <td>0.253</td>\n",
       "      <td>174</td>\n",
       "      <td>PI (no)  - QRILC (no)</td>\n",
       "    </tr>\n",
       "    <tr>\n",
       "      <th>A0A024R644;A0A0A0MRU5;A0A1B0GWI2;O75503</th>\n",
       "      <td>0.769</td>\n",
       "      <td>0.455</td>\n",
       "      <td>196</td>\n",
       "      <td>PI (no)  - QRILC (no)</td>\n",
       "    </tr>\n",
       "    <tr>\n",
       "      <th>A0A075B6H7</th>\n",
       "      <td>0.278</td>\n",
       "      <td>0.283</td>\n",
       "      <td>91</td>\n",
       "      <td>PI (no)  - QRILC (no)</td>\n",
       "    </tr>\n",
       "    <tr>\n",
       "      <th>...</th>\n",
       "      <td>...</td>\n",
       "      <td>...</td>\n",
       "      <td>...</td>\n",
       "      <td>...</td>\n",
       "    </tr>\n",
       "    <tr>\n",
       "      <th>Q9Y6R7</th>\n",
       "      <td>0.313</td>\n",
       "      <td>0.302</td>\n",
       "      <td>197</td>\n",
       "      <td>PI (no)  - QRILC (no)</td>\n",
       "    </tr>\n",
       "    <tr>\n",
       "      <th>Q9Y6X5</th>\n",
       "      <td>0.167</td>\n",
       "      <td>0.143</td>\n",
       "      <td>173</td>\n",
       "      <td>PI (no)  - QRILC (no)</td>\n",
       "    </tr>\n",
       "    <tr>\n",
       "      <th>Q9Y6Y8;Q9Y6Y8-2</th>\n",
       "      <td>0.181</td>\n",
       "      <td>0.171</td>\n",
       "      <td>197</td>\n",
       "      <td>PI (no)  - QRILC (no)</td>\n",
       "    </tr>\n",
       "    <tr>\n",
       "      <th>Q9Y6Y9</th>\n",
       "      <td>0.919</td>\n",
       "      <td>0.718</td>\n",
       "      <td>119</td>\n",
       "      <td>PI (no)  - QRILC (no)</td>\n",
       "    </tr>\n",
       "    <tr>\n",
       "      <th>S4R3U6</th>\n",
       "      <td>0.990</td>\n",
       "      <td>0.266</td>\n",
       "      <td>126</td>\n",
       "      <td>PI (no)  - QRILC (no)</td>\n",
       "    </tr>\n",
       "  </tbody>\n",
       "</table>\n",
       "<p>1421 rows × 4 columns</p>\n",
       "</div>"
      ],
      "text/plain": [
       "                                                      PI  QRILC  frequency  \\\n",
       "protein groups                                                               \n",
       "A0A024QZX5;A0A087X1N8;P35237                       0.554  0.104        186   \n",
       "A0A024R0T9;K7ER74;P02655                           0.134  0.073        195   \n",
       "A0A024R3W6;A0A024R412;O60462;O60462-2;O60462-3;... 0.145  0.253        174   \n",
       "A0A024R644;A0A0A0MRU5;A0A1B0GWI2;O75503            0.769  0.455        196   \n",
       "A0A075B6H7                                         0.278  0.283         91   \n",
       "...                                                  ...    ...        ...   \n",
       "Q9Y6R7                                             0.313  0.302        197   \n",
       "Q9Y6X5                                             0.167  0.143        173   \n",
       "Q9Y6Y8;Q9Y6Y8-2                                    0.181  0.171        197   \n",
       "Q9Y6Y9                                             0.919  0.718        119   \n",
       "S4R3U6                                             0.990  0.266        126   \n",
       "\n",
       "                                                   Differential Analysis Comparison  \n",
       "protein groups                                                                       \n",
       "A0A024QZX5;A0A087X1N8;P35237                                 PI (no)  - QRILC (no)   \n",
       "A0A024R0T9;K7ER74;P02655                                     PI (no)  - QRILC (no)   \n",
       "A0A024R3W6;A0A024R412;O60462;O60462-2;O60462-3;...           PI (no)  - QRILC (no)   \n",
       "A0A024R644;A0A0A0MRU5;A0A1B0GWI2;O75503                      PI (no)  - QRILC (no)   \n",
       "A0A075B6H7                                                   PI (no)  - QRILC (no)   \n",
       "...                                                                             ...  \n",
       "Q9Y6R7                                                       PI (no)  - QRILC (no)   \n",
       "Q9Y6X5                                                       PI (no)  - QRILC (no)   \n",
       "Q9Y6Y8;Q9Y6Y8-2                                              PI (no)  - QRILC (no)   \n",
       "Q9Y6Y9                                                       PI (no)  - QRILC (no)   \n",
       "S4R3U6                                                       PI (no)  - QRILC (no)   \n",
       "\n",
       "[1421 rows x 4 columns]"
      ]
     },
     "execution_count": 18,
     "metadata": {},
     "output_type": "execute_result"
    }
   ],
   "source": [
    "var = 'qvalue'\n",
    "to_plot = [scores_common[v][var] for v in models.values()]\n",
    "for s, k in zip(to_plot, models.keys()):\n",
    "    s.name = k.replace('_', ' ')\n",
    "to_plot.append(scores_common['data'])\n",
    "to_plot.append(annotations)\n",
    "to_plot = pd.concat(to_plot, axis=1)\n",
    "to_plot"
   ]
  },
  {
   "cell_type": "markdown",
   "id": "c92517a4-8456-4663-b719-4abd997fbb1c",
   "metadata": {
    "papermill": {
     "duration": 0.016874,
     "end_time": "2024-08-13T17:22:20.169459",
     "exception": false,
     "start_time": "2024-08-13T17:22:20.152585",
     "status": "completed"
    },
    "tags": []
   },
   "source": [
    "List of features with the highest difference in qvalues"
   ]
  },
  {
   "cell_type": "code",
   "execution_count": 19,
   "id": "c7af4a70-aa43-4772-af00-d425f5ed249f",
   "metadata": {
    "execution": {
     "iopub.execute_input": "2024-08-13T17:22:20.206000Z",
     "iopub.status.busy": "2024-08-13T17:22:20.205688Z",
     "iopub.status.idle": "2024-08-13T17:22:20.228927Z",
     "shell.execute_reply": "2024-08-13T17:22:20.228294Z"
    },
    "papermill": {
     "duration": 0.043268,
     "end_time": "2024-08-13T17:22:20.230665",
     "exception": false,
     "start_time": "2024-08-13T17:22:20.187397",
     "status": "completed"
    },
    "tags": [
     "hide-input"
    ]
   },
   "outputs": [
    {
     "data": {
      "text/html": [
       "<div>\n",
       "<style scoped>\n",
       "    .dataframe tbody tr th:only-of-type {\n",
       "        vertical-align: middle;\n",
       "    }\n",
       "\n",
       "    .dataframe tbody tr th {\n",
       "        vertical-align: top;\n",
       "    }\n",
       "\n",
       "    .dataframe thead th {\n",
       "        text-align: right;\n",
       "    }\n",
       "</style>\n",
       "<table border=\"1\" class=\"dataframe\">\n",
       "  <thead>\n",
       "    <tr style=\"text-align: right;\">\n",
       "      <th></th>\n",
       "      <th>PI</th>\n",
       "      <th>QRILC</th>\n",
       "      <th>frequency</th>\n",
       "      <th>Differential Analysis Comparison</th>\n",
       "      <th>diff_qvalue</th>\n",
       "    </tr>\n",
       "    <tr>\n",
       "      <th>protein groups</th>\n",
       "      <th></th>\n",
       "      <th></th>\n",
       "      <th></th>\n",
       "      <th></th>\n",
       "      <th></th>\n",
       "    </tr>\n",
       "  </thead>\n",
       "  <tbody>\n",
       "    <tr>\n",
       "      <th>J3KSJ8;Q9UD71;Q9UD71-2</th>\n",
       "      <td>0.831</td>\n",
       "      <td>0.020</td>\n",
       "      <td>51</td>\n",
       "      <td>PI (no)  - QRILC (yes)</td>\n",
       "      <td>0.811</td>\n",
       "    </tr>\n",
       "    <tr>\n",
       "      <th>Q14517</th>\n",
       "      <td>0.033</td>\n",
       "      <td>0.793</td>\n",
       "      <td>53</td>\n",
       "      <td>PI (yes) - QRILC (no)</td>\n",
       "      <td>0.760</td>\n",
       "    </tr>\n",
       "    <tr>\n",
       "      <th>Q2UY09</th>\n",
       "      <td>0.049</td>\n",
       "      <td>0.731</td>\n",
       "      <td>50</td>\n",
       "      <td>PI (yes) - QRILC (no)</td>\n",
       "      <td>0.682</td>\n",
       "    </tr>\n",
       "    <tr>\n",
       "      <th>E7EN89;E9PP67;E9PQ25;F2Z2Y8;Q9H0E2;Q9H0E2-2</th>\n",
       "      <td>0.661</td>\n",
       "      <td>0.010</td>\n",
       "      <td>86</td>\n",
       "      <td>PI (no)  - QRILC (yes)</td>\n",
       "      <td>0.651</td>\n",
       "    </tr>\n",
       "    <tr>\n",
       "      <th>K7EPJ5;O60291;O60291-2;O60291-3;O60291-4</th>\n",
       "      <td>0.018</td>\n",
       "      <td>0.599</td>\n",
       "      <td>50</td>\n",
       "      <td>PI (yes) - QRILC (no)</td>\n",
       "      <td>0.581</td>\n",
       "    </tr>\n",
       "    <tr>\n",
       "      <th>...</th>\n",
       "      <td>...</td>\n",
       "      <td>...</td>\n",
       "      <td>...</td>\n",
       "      <td>...</td>\n",
       "      <td>...</td>\n",
       "    </tr>\n",
       "    <tr>\n",
       "      <th>Q6P9A2</th>\n",
       "      <td>0.044</td>\n",
       "      <td>0.056</td>\n",
       "      <td>168</td>\n",
       "      <td>PI (yes) - QRILC (no)</td>\n",
       "      <td>0.011</td>\n",
       "    </tr>\n",
       "    <tr>\n",
       "      <th>Q16620;Q16620-2;Q16620-3;Q16620-4;Q16620-5;Q16620-6</th>\n",
       "      <td>0.054</td>\n",
       "      <td>0.048</td>\n",
       "      <td>126</td>\n",
       "      <td>PI (no)  - QRILC (yes)</td>\n",
       "      <td>0.006</td>\n",
       "    </tr>\n",
       "    <tr>\n",
       "      <th>O95450;O95450-2</th>\n",
       "      <td>0.050</td>\n",
       "      <td>0.055</td>\n",
       "      <td>170</td>\n",
       "      <td>PI (yes) - QRILC (no)</td>\n",
       "      <td>0.005</td>\n",
       "    </tr>\n",
       "    <tr>\n",
       "      <th>P00740;P00740-2</th>\n",
       "      <td>0.053</td>\n",
       "      <td>0.049</td>\n",
       "      <td>197</td>\n",
       "      <td>PI (no)  - QRILC (yes)</td>\n",
       "      <td>0.004</td>\n",
       "    </tr>\n",
       "    <tr>\n",
       "      <th>K7ERG9;P00746</th>\n",
       "      <td>0.052</td>\n",
       "      <td>0.048</td>\n",
       "      <td>197</td>\n",
       "      <td>PI (no)  - QRILC (yes)</td>\n",
       "      <td>0.004</td>\n",
       "    </tr>\n",
       "  </tbody>\n",
       "</table>\n",
       "<p>107 rows × 5 columns</p>\n",
       "</div>"
      ],
      "text/plain": [
       "                                                      PI  QRILC  frequency  \\\n",
       "protein groups                                                               \n",
       "J3KSJ8;Q9UD71;Q9UD71-2                             0.831  0.020         51   \n",
       "Q14517                                             0.033  0.793         53   \n",
       "Q2UY09                                             0.049  0.731         50   \n",
       "E7EN89;E9PP67;E9PQ25;F2Z2Y8;Q9H0E2;Q9H0E2-2        0.661  0.010         86   \n",
       "K7EPJ5;O60291;O60291-2;O60291-3;O60291-4           0.018  0.599         50   \n",
       "...                                                  ...    ...        ...   \n",
       "Q6P9A2                                             0.044  0.056        168   \n",
       "Q16620;Q16620-2;Q16620-3;Q16620-4;Q16620-5;Q166... 0.054  0.048        126   \n",
       "O95450;O95450-2                                    0.050  0.055        170   \n",
       "P00740;P00740-2                                    0.053  0.049        197   \n",
       "K7ERG9;P00746                                      0.052  0.048        197   \n",
       "\n",
       "                                                   Differential Analysis Comparison  \\\n",
       "protein groups                                                                        \n",
       "J3KSJ8;Q9UD71;Q9UD71-2                                       PI (no)  - QRILC (yes)   \n",
       "Q14517                                                       PI (yes) - QRILC (no)    \n",
       "Q2UY09                                                       PI (yes) - QRILC (no)    \n",
       "E7EN89;E9PP67;E9PQ25;F2Z2Y8;Q9H0E2;Q9H0E2-2                  PI (no)  - QRILC (yes)   \n",
       "K7EPJ5;O60291;O60291-2;O60291-3;O60291-4                     PI (yes) - QRILC (no)    \n",
       "...                                                                             ...   \n",
       "Q6P9A2                                                       PI (yes) - QRILC (no)    \n",
       "Q16620;Q16620-2;Q16620-3;Q16620-4;Q16620-5;Q166...           PI (no)  - QRILC (yes)   \n",
       "O95450;O95450-2                                              PI (yes) - QRILC (no)    \n",
       "P00740;P00740-2                                              PI (no)  - QRILC (yes)   \n",
       "K7ERG9;P00746                                                PI (no)  - QRILC (yes)   \n",
       "\n",
       "                                                    diff_qvalue  \n",
       "protein groups                                                   \n",
       "J3KSJ8;Q9UD71;Q9UD71-2                                    0.811  \n",
       "Q14517                                                    0.760  \n",
       "Q2UY09                                                    0.682  \n",
       "E7EN89;E9PP67;E9PQ25;F2Z2Y8;Q9H0E2;Q9H0E2-2               0.651  \n",
       "K7EPJ5;O60291;O60291-2;O60291-3;O60291-4                  0.581  \n",
       "...                                                         ...  \n",
       "Q6P9A2                                                    0.011  \n",
       "Q16620;Q16620-2;Q16620-3;Q16620-4;Q16620-5;Q166...        0.006  \n",
       "O95450;O95450-2                                           0.005  \n",
       "P00740;P00740-2                                           0.004  \n",
       "K7ERG9;P00746                                             0.004  \n",
       "\n",
       "[107 rows x 5 columns]"
      ]
     },
     "execution_count": 19,
     "metadata": {},
     "output_type": "execute_result"
    }
   ],
   "source": [
    "# should it be possible to run not only RSN?\n",
    "to_plot['diff_qvalue'] = (to_plot[str(args.baseline)] - to_plot[str(args.model_key)]).abs()\n",
    "to_plot.loc[mask_different].sort_values('diff_qvalue', ascending=False)"
   ]
  },
  {
   "cell_type": "markdown",
   "id": "e715954e-2d62-4cd9-b4b0-063524bca495",
   "metadata": {
    "papermill": {
     "duration": 0.031671,
     "end_time": "2024-08-13T17:22:20.292402",
     "exception": false,
     "start_time": "2024-08-13T17:22:20.260731",
     "status": "completed"
    },
    "tags": []
   },
   "source": [
    "### Differences plotted with created annotations"
   ]
  },
  {
   "cell_type": "code",
   "execution_count": 20,
   "id": "a20d356d-c397-4440-b70e-9d899aa200fd",
   "metadata": {
    "execution": {
     "iopub.execute_input": "2024-08-13T17:22:20.329742Z",
     "iopub.status.busy": "2024-08-13T17:22:20.329432Z",
     "iopub.status.idle": "2024-08-13T17:22:22.025014Z",
     "shell.execute_reply": "2024-08-13T17:22:22.024282Z"
    },
    "papermill": {
     "duration": 1.716319,
     "end_time": "2024-08-13T17:22:22.026915",
     "exception": false,
     "start_time": "2024-08-13T17:22:20.310596",
     "status": "completed"
    },
    "tags": [
     "hide-input"
    ]
   },
   "outputs": [
    {
     "name": "stderr",
     "output_type": "stream",
     "text": [
      "pimmslearn.plotting - INFO     Saved Figures to runs/alzheimer_study/diff_analysis/AD/PI_vs_QRILC/diff_analysis_comparision_1_QRILC\n"
     ]
    },
    {
     "data": {
      "image/png": "[encoded data removed]",
      "text/plain": [
       "<Figure size 588x588 with 1 Axes>"
      ]
     },
     "metadata": {},
     "output_type": "display_data"
    }
   ],
   "source": [
    "figsize = (4, 4)\n",
    "size = 5\n",
    "fig, ax = plt.subplots(figsize=figsize)\n",
    "x_col = to_plot.columns[0]\n",
    "y_col = to_plot.columns[1]\n",
    "ax = sns.scatterplot(data=to_plot,\n",
    "                     x=x_col,\n",
    "                     y=y_col,\n",
    "                     s=size,\n",
    "                     hue='Differential Analysis Comparison',\n",
    "                     ax=ax)\n",
    "_ = ax.legend(fontsize=fontsize,\n",
    "              title_fontsize=fontsize,\n",
    "              markerscale=0.4,\n",
    "              title='',\n",
    "              )\n",
    "ax.set_xlabel(f\"qvalue for {x_col}\")\n",
    "ax.set_ylabel(f\"qvalue for {y_col}\")\n",
    "ax.hlines(0.05, 0, 1, color='grey', linestyles='dotted')\n",
    "ax.vlines(0.05, 0, 1, color='grey', linestyles='dotted')\n",
    "sns.move_legend(ax, \"upper right\")\n",
    "files_out[f'diff_analysis_comparision_1_{args.model_key}'] = (\n",
    "    args.out_folder /\n",
    "    f'diff_analysis_comparision_1_{args.model_key}')\n",
    "fname = files_out[f'diff_analysis_comparision_1_{args.model_key}']\n",
    "pimmslearn.savefig(fig, name=fname)"
   ]
  },
  {
   "cell_type": "markdown",
   "id": "d8849c76-c5f6-4618-87c0-f2635dc9ac66",
   "metadata": {
    "papermill": {
     "duration": 0.038282,
     "end_time": "2024-08-13T17:22:22.101537",
     "exception": false,
     "start_time": "2024-08-13T17:22:22.063255",
     "status": "completed"
    },
    "tags": []
   },
   "source": [
    "- also showing how many features were measured (\"observed\") by size of circle"
   ]
  },
  {
   "cell_type": "code",
   "execution_count": 21,
   "id": "1cf258f8-9dcb-40bb-af66-b600f8d413f6",
   "metadata": {
    "execution": {
     "iopub.execute_input": "2024-08-13T17:22:22.141191Z",
     "iopub.status.busy": "2024-08-13T17:22:22.140879Z",
     "iopub.status.idle": "2024-08-13T17:22:24.312493Z",
     "shell.execute_reply": "2024-08-13T17:22:24.311806Z"
    },
    "papermill": {
     "duration": 2.193608,
     "end_time": "2024-08-13T17:22:24.313948",
     "exception": false,
     "start_time": "2024-08-13T17:22:22.120340",
     "status": "completed"
    },
    "tags": [
     "hide-input"
    ]
   },
   "outputs": [
    {
     "name": "stderr",
     "output_type": "stream",
     "text": [
      "pimmslearn.plotting - INFO     Saved Figures to runs/alzheimer_study/diff_analysis/AD/PI_vs_QRILC/diff_analysis_comparision_2_QRILC\n"
     ]
    },
    {
     "data": {
      "image/png": "[encoded data removed]",
      "text/plain": [
       "<Figure size 588x588 with 1 Axes>"
      ]
     },
     "metadata": {},
     "output_type": "display_data"
    }
   ],
   "source": [
    "fig, ax = plt.subplots(figsize=figsize)\n",
    "ax = sns.scatterplot(data=to_plot,\n",
    "                     x=to_plot.columns[0],\n",
    "                     y=to_plot.columns[1],\n",
    "                     size='frequency',\n",
    "                     s=size,\n",
    "                     sizes=(5, 20),\n",
    "                     hue='Differential Analysis Comparison')\n",
    "_ = ax.legend(fontsize=fontsize,\n",
    "              title_fontsize=fontsize,\n",
    "              markerscale=0.6,\n",
    "              title='',\n",
    "              )\n",
    "ax.set_xlabel(f\"qvalue for {x_col}\")\n",
    "ax.set_ylabel(f\"qvalue for {y_col}\")\n",
    "ax.hlines(0.05, 0, 1, color='grey', linestyles='dotted')\n",
    "ax.vlines(0.05, 0, 1, color='grey', linestyles='dotted')\n",
    "sns.move_legend(ax, \"upper right\")\n",
    "files_out[f'diff_analysis_comparision_2_{args.model_key}'] = (\n",
    "    args.out_folder / f'diff_analysis_comparision_2_{args.model_key}')\n",
    "pimmslearn.savefig(\n",
    "    fig, name=files_out[f'diff_analysis_comparision_2_{args.model_key}'])"
   ]
  },
  {
   "cell_type": "markdown",
   "id": "1fee3a21-d8b3-40c6-aea2-4774dfe855ca",
   "metadata": {
    "papermill": {
     "duration": 0.020635,
     "end_time": "2024-08-13T17:22:24.356117",
     "exception": false,
     "start_time": "2024-08-13T17:22:24.335482",
     "status": "completed"
    },
    "tags": []
   },
   "source": [
    "## Only features contained in model\n",
    "- this block exist due to a specific part in the ALD analysis of the paper"
   ]
  },
  {
   "cell_type": "code",
   "execution_count": 22,
   "id": "c4e23a01-fd37-4496-a518-445a9ef38db1",
   "metadata": {
    "execution": {
     "iopub.execute_input": "2024-08-13T17:22:24.401882Z",
     "iopub.status.busy": "2024-08-13T17:22:24.401584Z",
     "iopub.status.idle": "2024-08-13T17:22:24.409671Z",
     "shell.execute_reply": "2024-08-13T17:22:24.409077Z"
    },
    "papermill": {
     "duration": 0.032827,
     "end_time": "2024-08-13T17:22:24.411321",
     "exception": false,
     "start_time": "2024-08-13T17:22:24.378494",
     "status": "completed"
    },
    "tags": [
     "hide-input"
    ]
   },
   "outputs": [
    {
     "name": "stderr",
     "output_type": "stream",
     "text": [
      "root - INFO     No features only in new comparision model.\n"
     ]
    }
   ],
   "source": [
    "scores_model_only = scores.reset_index(level=-1, drop=True)\n",
    "_diff = scores_model_only.index.difference(scores_common.index)\n",
    "if not _diff.empty:\n",
    "    scores_model_only = (scores_model_only\n",
    "                         .loc[\n",
    "                             _diff,\n",
    "                             args.model_key]\n",
    "                         .sort_values(by='qvalue', ascending=True)\n",
    "                         .join(freq_feat.squeeze().rename(freq_feat.columns.droplevel()[0])\n",
    "                               )\n",
    "                         )\n",
    "    display(scores_model_only)\n",
    "else:\n",
    "    scores_model_only = None\n",
    "    logger.info(\"No features only in new comparision model.\")\n",
    "\n",
    "if not _diff.empty:\n",
    "    scores_model_only.to_excel(writer, 'only_model', **writer_args)\n",
    "    display(scores_model_only.rejected.value_counts())\n",
    "    scores_model_only_rejected = scores_model_only.loc[scores_model_only.rejected]\n",
    "    scores_model_only_rejected.to_excel(\n",
    "        writer, 'only_model_rejected', **writer_args)"
   ]
  },
  {
   "cell_type": "markdown",
   "id": "78b2c336",
   "metadata": {
    "papermill": {
     "duration": 0.022265,
     "end_time": "2024-08-13T17:22:24.455967",
     "exception": false,
     "start_time": "2024-08-13T17:22:24.433702",
     "status": "completed"
    },
    "tags": []
   },
   "source": [
    "## DISEASES DB lookup\n",
    "\n",
    "Query diseases database for gene associations with specified disease ontology id."
   ]
  },
  {
   "cell_type": "code",
   "execution_count": 23,
   "id": "d93a9242-0ef4-4fc7-bd98-226a93639f58",
   "metadata": {
    "execution": {
     "iopub.execute_input": "2024-08-13T17:22:24.501640Z",
     "iopub.status.busy": "2024-08-13T17:22:24.501367Z",
     "iopub.status.idle": "2024-08-13T17:22:26.975877Z",
     "shell.execute_reply": "2024-08-13T17:22:26.975248Z"
    },
    "papermill": {
     "duration": 2.499098,
     "end_time": "2024-08-13T17:22:26.977558",
     "exception": false,
     "start_time": "2024-08-13T17:22:24.478460",
     "status": "completed"
    },
    "tags": [
     "hide-input"
    ]
   },
   "outputs": [
    {
     "name": "stderr",
     "output_type": "stream",
     "text": [
      "pimmslearn.databases.diseases - WARNING  There are more associations available\n"
     ]
    },
    {
     "data": {
      "text/html": [
       "<div>\n",
       "<style scoped>\n",
       "    .dataframe tbody tr th:only-of-type {\n",
       "        vertical-align: middle;\n",
       "    }\n",
       "\n",
       "    .dataframe tbody tr th {\n",
       "        vertical-align: top;\n",
       "    }\n",
       "\n",
       "    .dataframe thead th {\n",
       "        text-align: right;\n",
       "    }\n",
       "</style>\n",
       "<table border=\"1\" class=\"dataframe\">\n",
       "  <thead>\n",
       "    <tr style=\"text-align: right;\">\n",
       "      <th></th>\n",
       "      <th>ENSP</th>\n",
       "      <th>score</th>\n",
       "    </tr>\n",
       "    <tr>\n",
       "      <th>None</th>\n",
       "      <th></th>\n",
       "      <th></th>\n",
       "    </tr>\n",
       "  </thead>\n",
       "  <tbody>\n",
       "    <tr>\n",
       "      <th>APP</th>\n",
       "      <td>ENSP00000284981</td>\n",
       "      <td>5.000</td>\n",
       "    </tr>\n",
       "    <tr>\n",
       "      <th>APOE</th>\n",
       "      <td>ENSP00000252486</td>\n",
       "      <td>5.000</td>\n",
       "    </tr>\n",
       "    <tr>\n",
       "      <th>PSEN2</th>\n",
       "      <td>ENSP00000355747</td>\n",
       "      <td>5.000</td>\n",
       "    </tr>\n",
       "    <tr>\n",
       "      <th>PSEN1</th>\n",
       "      <td>ENSP00000326366</td>\n",
       "      <td>5.000</td>\n",
       "    </tr>\n",
       "    <tr>\n",
       "      <th>MAPT</th>\n",
       "      <td>ENSP00000340820</td>\n",
       "      <td>4.800</td>\n",
       "    </tr>\n",
       "    <tr>\n",
       "      <th>...</th>\n",
       "      <td>...</td>\n",
       "      <td>...</td>\n",
       "    </tr>\n",
       "    <tr>\n",
       "      <th>LPIN3</th>\n",
       "      <td>ENSP00000487971</td>\n",
       "      <td>0.681</td>\n",
       "    </tr>\n",
       "    <tr>\n",
       "      <th>HECTD1</th>\n",
       "      <td>ENSP00000382269</td>\n",
       "      <td>0.681</td>\n",
       "    </tr>\n",
       "    <tr>\n",
       "      <th>ETNK1</th>\n",
       "      <td>ENSP00000500633</td>\n",
       "      <td>0.681</td>\n",
       "    </tr>\n",
       "    <tr>\n",
       "      <th>CAPN11</th>\n",
       "      <td>ENSP00000381758</td>\n",
       "      <td>0.681</td>\n",
       "    </tr>\n",
       "    <tr>\n",
       "      <th>CILP2</th>\n",
       "      <td>ENSP00000291495</td>\n",
       "      <td>0.680</td>\n",
       "    </tr>\n",
       "  </tbody>\n",
       "</table>\n",
       "<p>10000 rows × 2 columns</p>\n",
       "</div>"
      ],
      "text/plain": [
       "                   ENSP  score\n",
       "None                          \n",
       "APP     ENSP00000284981  5.000\n",
       "APOE    ENSP00000252486  5.000\n",
       "PSEN2   ENSP00000355747  5.000\n",
       "PSEN1   ENSP00000326366  5.000\n",
       "MAPT    ENSP00000340820  4.800\n",
       "...                 ...    ...\n",
       "LPIN3   ENSP00000487971  0.681\n",
       "HECTD1  ENSP00000382269  0.681\n",
       "ETNK1   ENSP00000500633  0.681\n",
       "CAPN11  ENSP00000381758  0.681\n",
       "CILP2   ENSP00000291495  0.680\n",
       "\n",
       "[10000 rows x 2 columns]"
      ]
     },
     "execution_count": 23,
     "metadata": {},
     "output_type": "execute_result"
    }
   ],
   "source": [
    "data = pimmslearn.databases.diseases.get_disease_association(\n",
    "    doid=args.disease_ontology, limit=10000)\n",
    "data = pd.DataFrame.from_dict(data, orient='index').rename_axis('ENSP', axis=0)\n",
    "data = data.rename(columns={'name': args.annotaitons_gene_col}).reset_index(\n",
    ").set_index(args.annotaitons_gene_col)\n",
    "data"
   ]
  },
  {
   "cell_type": "markdown",
   "id": "efe22443-2613-46ad-83c2-41048e13dd57",
   "metadata": {
    "papermill": {
     "duration": 0.023394,
     "end_time": "2024-08-13T17:22:27.030156",
     "exception": false,
     "start_time": "2024-08-13T17:22:27.006762",
     "status": "completed"
    },
    "tags": []
   },
   "source": [
    "## Shared features\n",
    "ToDo: new script -> DISEASES DB lookup"
   ]
  },
  {
   "cell_type": "code",
   "execution_count": null,
   "id": "5c26415e",
   "metadata": {
    "papermill": {
     "duration": 0.023323,
     "end_time": "2024-08-13T17:22:27.077607",
     "exception": false,
     "start_time": "2024-08-13T17:22:27.054284",
     "status": "completed"
    },
    "tags": [
     "hide-input"
    ]
   },
   "outputs": [],
   "source": []
  },
  {
   "cell_type": "code",
   "execution_count": 24,
   "id": "b68b43df",
   "metadata": {
    "execution": {
     "iopub.execute_input": "2024-08-13T17:22:27.136980Z",
     "iopub.status.busy": "2024-08-13T17:22:27.136662Z",
     "iopub.status.idle": "2024-08-13T17:22:27.144099Z",
     "shell.execute_reply": "2024-08-13T17:22:27.143175Z"
    },
    "papermill": {
     "duration": 0.051344,
     "end_time": "2024-08-13T17:22:27.152682",
     "exception": true,
     "start_time": "2024-08-13T17:22:27.101338",
     "status": "failed"
    },
    "tags": [
     "hide-input"
    ]
   },
   "outputs": [
    {
     "name": "stderr",
     "output_type": "stream",
     "text": [
      "root - INFO     No gene annotation in scores index:  ['protein groups', 'Source'] Exiting.\n"
     ]
    },
    {
     "ename": "SystemExit",
     "evalue": "0",
     "output_type": "error",
     "traceback": [
      "An exception has occurred, use %tb to see the full traceback.\n",
      "\u001b[0;31mSystemExit\u001b[0m\u001b[0;31m:\u001b[0m 0\n"
     ]
    },
    {
     "name": "stderr",
     "output_type": "stream",
     "text": [
      "/home/runner/work/pimms/pimms/project/.snakemake/conda/9315d83d47168fa3da1739d7e683ad72_/lib/python3.12/site-packages/IPython/core/interactiveshell.py:3585: UserWarning: To exit: use 'exit', 'quit', or Ctrl-D.\n",
      "  warn(\"To exit: use 'exit', 'quit', or Ctrl-D.\", stacklevel=1)\n"
     ]
    }
   ],
   "source": [
    "feat_name = scores.index.names[0]  # first index level is feature name\n",
    "if args.annotaitons_gene_col in scores.index.names:\n",
    "    logger.info(f\"Found gene annotation in scores index:  {scores.index.names}\")\n",
    "else:\n",
    "    logger.info(f\"No gene annotation in scores index:  {scores.index.names}\"\n",
    "                \" Exiting.\")\n",
    "    import sys\n",
    "    sys.exit(0)"
   ]
  },
  {
   "cell_type": "code",
   "execution_count": null,
   "id": "f8d4a74d-5a9b-4d9b-9345-4288bb23e19f",
   "metadata": {
    "papermill": {
     "duration": null,
     "end_time": null,
     "exception": null,
     "start_time": null,
     "status": "pending"
    },
    "tags": [
     "hide-input"
    ]
   },
   "outputs": [],
   "source": [
    "gene_to_PG = (scores.droplevel(\n",
    "    list(set(scores.index.names) - {feat_name, args.annotaitons_gene_col})\n",
    ")\n",
    "    .index\n",
    "    .to_frame()\n",
    "    .reset_index(drop=True)\n",
    "    .set_index(args.annotaitons_gene_col)\n",
    ")\n",
    "gene_to_PG.head()"
   ]
  },
  {
   "cell_type": "code",
   "execution_count": null,
   "id": "d9e76def-b48a-458d-a90b-765e6e70f7a4",
   "metadata": {
    "papermill": {
     "duration": null,
     "end_time": null,
     "exception": null,
     "start_time": null,
     "status": "pending"
    },
    "tags": [
     "hide-input"
    ]
   },
   "outputs": [],
   "source": [
    "disease_associations_all = data.join(\n",
    "    gene_to_PG).dropna().reset_index().set_index(feat_name).join(annotations)\n",
    "disease_associations_all"
   ]
  },
  {
   "cell_type": "markdown",
   "id": "217972a3-ba4a-4f28-ab8f-25dc0f5e9ede",
   "metadata": {
    "papermill": {
     "duration": null,
     "end_time": null,
     "exception": null,
     "start_time": null,
     "status": "pending"
    },
    "tags": []
   },
   "source": [
    "## only by model"
   ]
  },
  {
   "cell_type": "code",
   "execution_count": null,
   "id": "8e9d6944-87ba-4c41-af14-fb5ed93262f0",
   "metadata": {
    "papermill": {
     "duration": null,
     "end_time": null,
     "exception": null,
     "start_time": null,
     "status": "pending"
    },
    "tags": [
     "hide-input"
    ]
   },
   "outputs": [],
   "source": [
    "idx = disease_associations_all.index.intersection(scores_model_only.index)\n",
    "disease_assocications_new = disease_associations_all.loc[idx].sort_values(\n",
    "    'score', ascending=False)\n",
    "disease_assocications_new.head(20)"
   ]
  },
  {
   "cell_type": "code",
   "execution_count": null,
   "id": "ceefc483-b889-4bab-b207-c8d5fd97fa4a",
   "metadata": {
    "papermill": {
     "duration": null,
     "end_time": null,
     "exception": null,
     "start_time": null,
     "status": "pending"
    },
    "tags": [
     "hide-input"
    ]
   },
   "outputs": [],
   "source": [
    "mask = disease_assocications_new.loc[idx, 'score'] >= 2.0\n",
    "disease_assocications_new.loc[idx].loc[mask]"
   ]
  },
  {
   "cell_type": "markdown",
   "id": "f85eede2-7b61-4285-ba8c-745f77f6ab22",
   "metadata": {
    "papermill": {
     "duration": null,
     "end_time": null,
     "exception": null,
     "start_time": null,
     "status": "pending"
    },
    "tags": []
   },
   "source": [
    "## Only by model which were significant"
   ]
  },
  {
   "cell_type": "code",
   "execution_count": null,
   "id": "4644759b-8cc2-4f99-a16c-16419cfb915c",
   "metadata": {
    "papermill": {
     "duration": null,
     "end_time": null,
     "exception": null,
     "start_time": null,
     "status": "pending"
    },
    "tags": [
     "hide-input"
    ]
   },
   "outputs": [],
   "source": [
    "idx = disease_associations_all.index.intersection(\n",
    "    scores_model_only_rejected.index)\n",
    "disease_assocications_new_rejected = disease_associations_all.loc[idx].sort_values(\n",
    "    'score', ascending=False)\n",
    "disease_assocications_new_rejected.head(20)"
   ]
  },
  {
   "cell_type": "code",
   "execution_count": null,
   "id": "365d8641-97a8-464f-b69b-270af9ae6e2d",
   "metadata": {
    "papermill": {
     "duration": null,
     "end_time": null,
     "exception": null,
     "start_time": null,
     "status": "pending"
    },
    "tags": [
     "hide-input"
    ]
   },
   "outputs": [],
   "source": [
    "mask = disease_assocications_new_rejected.loc[idx, 'score'] >= 2.0\n",
    "disease_assocications_new_rejected.loc[idx].loc[mask]"
   ]
  },
  {
   "cell_type": "markdown",
   "id": "4f22614b-e058-4e35-b8a9-141c291a93bc",
   "metadata": {
    "papermill": {
     "duration": null,
     "end_time": null,
     "exception": null,
     "start_time": null,
     "status": "pending"
    },
    "tags": []
   },
   "source": [
    "## Shared which are only significant for by model"
   ]
  },
  {
   "cell_type": "code",
   "execution_count": null,
   "id": "82eb2ba8-4fe7-431d-8095-5be43f7791b7",
   "metadata": {
    "papermill": {
     "duration": null,
     "end_time": null,
     "exception": null,
     "start_time": null,
     "status": "pending"
    },
    "tags": []
   },
   "outputs": [],
   "source": [
    "mask = (scores_common[(str(args.model_key), 'rejected')] & mask_different)\n",
    "mask.sum()"
   ]
  },
  {
   "cell_type": "code",
   "execution_count": null,
   "id": "6416d494-5f3e-4cf4-b766-b1f95e40ae1c",
   "metadata": {
    "papermill": {
     "duration": null,
     "end_time": null,
     "exception": null,
     "start_time": null,
     "status": "pending"
    },
    "tags": [
     "hide-input"
    ]
   },
   "outputs": [],
   "source": [
    "idx = disease_associations_all.index.intersection(mask.index[mask])\n",
    "disease_assocications_shared_rejected_by_model = (disease_associations_all.loc[idx].sort_values(\n",
    "    'score', ascending=False))\n",
    "disease_assocications_shared_rejected_by_model.head(20)"
   ]
  },
  {
   "cell_type": "code",
   "execution_count": null,
   "id": "10899e28-4aee-4d44-a542-e45be6699a1b",
   "metadata": {
    "papermill": {
     "duration": null,
     "end_time": null,
     "exception": null,
     "start_time": null,
     "status": "pending"
    },
    "tags": [
     "hide-input"
    ]
   },
   "outputs": [],
   "source": [
    "mask = disease_assocications_shared_rejected_by_model.loc[idx, 'score'] >= 2.0\n",
    "disease_assocications_shared_rejected_by_model.loc[idx].loc[mask]"
   ]
  },
  {
   "cell_type": "markdown",
   "id": "b6c082ea-7d92-4296-8ec9-d279509142a3",
   "metadata": {
    "papermill": {
     "duration": null,
     "end_time": null,
     "exception": null,
     "start_time": null,
     "status": "pending"
    },
    "tags": []
   },
   "source": [
    "## Only significant by RSN"
   ]
  },
  {
   "cell_type": "code",
   "execution_count": null,
   "id": "c59aae50-6877-47cc-99f6-646862d29121",
   "metadata": {
    "papermill": {
     "duration": null,
     "end_time": null,
     "exception": null,
     "start_time": null,
     "status": "pending"
    },
    "tags": []
   },
   "outputs": [],
   "source": [
    "mask = (scores_common[(str(args.baseline), 'rejected')] & mask_different)\n",
    "mask.sum()"
   ]
  },
  {
   "cell_type": "code",
   "execution_count": null,
   "id": "7780de55-c63b-4028-a6d0-58bce7be81da",
   "metadata": {
    "papermill": {
     "duration": null,
     "end_time": null,
     "exception": null,
     "start_time": null,
     "status": "pending"
    },
    "tags": [
     "hide-input"
    ]
   },
   "outputs": [],
   "source": [
    "idx = disease_associations_all.index.intersection(mask.index[mask])\n",
    "disease_assocications_shared_rejected_by_RSN = (\n",
    "    disease_associations_all\n",
    "    .loc[idx]\n",
    "    .sort_values('score', ascending=False))\n",
    "disease_assocications_shared_rejected_by_RSN.head(20)"
   ]
  },
  {
   "cell_type": "code",
   "execution_count": null,
   "id": "03115c8f-1f20-4b51-a78c-4d7c0317dc33",
   "metadata": {
    "papermill": {
     "duration": null,
     "end_time": null,
     "exception": null,
     "start_time": null,
     "status": "pending"
    },
    "tags": [
     "hide-input"
    ]
   },
   "outputs": [],
   "source": [
    "mask = disease_assocications_shared_rejected_by_RSN.loc[idx, 'score'] >= 2.0\n",
    "disease_assocications_shared_rejected_by_RSN.loc[idx].loc[mask]"
   ]
  },
  {
   "cell_type": "markdown",
   "id": "9d72708d-ad27-435b-b672-7dfe35283601",
   "metadata": {
    "papermill": {
     "duration": null,
     "end_time": null,
     "exception": null,
     "start_time": null,
     "status": "pending"
    },
    "tags": []
   },
   "source": [
    "## Write to excel"
   ]
  },
  {
   "cell_type": "code",
   "execution_count": null,
   "id": "91e7fbb7-69fd-4b4c-9bc2-40e8dd1907b3",
   "metadata": {
    "papermill": {
     "duration": null,
     "end_time": null,
     "exception": null,
     "start_time": null,
     "status": "pending"
    },
    "tags": [
     "hide-input"
    ]
   },
   "outputs": [],
   "source": [
    "disease_associations_all.to_excel(\n",
    "    writer, sheet_name='disease_assoc_all', **writer_args)\n",
    "disease_assocications_new.to_excel(\n",
    "    writer, sheet_name='disease_assoc_new', **writer_args)\n",
    "disease_assocications_new_rejected.to_excel(\n",
    "    writer, sheet_name='disease_assoc_new_rejected', **writer_args)"
   ]
  },
  {
   "cell_type": "markdown",
   "id": "52a42028-7e2d-47d5-be02-52f7ff1f3665",
   "metadata": {
    "papermill": {
     "duration": null,
     "end_time": null,
     "exception": null,
     "start_time": null,
     "status": "pending"
    },
    "tags": []
   },
   "source": [
    "## Outputs"
   ]
  },
  {
   "cell_type": "code",
   "execution_count": null,
   "id": "7f3a7433-3bf1-4168-8f16-eb6d415ef17f",
   "metadata": {
    "papermill": {
     "duration": null,
     "end_time": null,
     "exception": null,
     "start_time": null,
     "status": "pending"
    },
    "tags": [
     "hide-input"
    ]
   },
   "outputs": [],
   "source": [
    "writer.close()\n",
    "files_out"
   ]
  }
 ],
 "metadata": {
  "kernelspec": {
   "display_name": "Python 3",
   "language": "python",
   "name": "python3"
  },
  "language_info": {
   "codemirror_mode": {
    "name": "ipython",
    "version": 3
   },
   "file_extension": ".py",
   "mimetype": "text/x-python",
   "name": "python",
   "nbconvert_exporter": "python",
   "pygments_lexer": "ipython3",
   "version": "3.12.0"
  },
  "papermill": {
   "default_parameters": {},
   "duration": 14.598319,
   "end_time": "2024-08-13T17:22:28.106973",
   "environment_variables": {},
   "exception": true,
   "input_path": "10_2_ald_compare_methods.ipynb",
   "output_path": "runs/alzheimer_study/diff_analysis/AD/PI_vs_QRILC/10_2_ald_compare_methods.ipynb",
   "parameters": {
    "annotaitons_gene_col": "None",
    "baseline": "PI",
    "disease_ontology": 10652,
    "folder_experiment": "runs/alzheimer_study",
    "model_key": "QRILC",
    "out_folder": "diff_analysis",
    "target": "AD"
   },
   "start_time": "2024-08-13T17:22:13.508654",
   "version": "2.6.0"
  }
 },
 "nbformat": 4,
 "nbformat_minor": 5
}