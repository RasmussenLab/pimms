{
 "cells": [
  {
   "cell_type": "markdown",
   "id": "53fbb5ed-e86e-44a5-ba62-eabcd7b48565",
   "metadata": {
    "papermill": {
     "duration": 0.012126,
     "end_time": "2024-06-28T11:06:55.567062",
     "exception": false,
     "start_time": "2024-06-28T11:06:55.554936",
     "status": "completed"
    },
    "tags": []
   },
   "source": [
    "# Compare predictions between model and RSN\n",
    "\n",
    "- see differences in imputation for diverging cases\n",
    "- dumps top5"
   ]
  },
  {
   "cell_type": "code",
   "execution_count": 1,
   "id": "4ffa9d4c-622f-46c3-847a-7f7474082ee4",
   "metadata": {
    "execution": {
     "iopub.execute_input": "2024-06-28T11:06:55.619508Z",
     "iopub.status.busy": "2024-06-28T11:06:55.619175Z",
     "iopub.status.idle": "2024-06-28T11:06:57.628117Z",
     "shell.execute_reply": "2024-06-28T11:06:57.627298Z"
    },
    "papermill": {
     "duration": 2.030461,
     "end_time": "2024-06-28T11:06:57.630102",
     "exception": false,
     "start_time": "2024-06-28T11:06:55.599641",
     "status": "completed"
    },
    "tags": [
     "hide-input"
    ]
   },
   "outputs": [],
   "source": [
    "import logging\n",
    "from pathlib import Path\n",
    "\n",
    "import matplotlib\n",
    "import matplotlib.pyplot as plt\n",
    "import njab\n",
    "import pandas as pd\n",
    "import seaborn\n",
    "\n",
    "import vaep\n",
    "import vaep.analyzers\n",
    "import vaep.imputation\n",
    "import vaep.io.datasplits\n",
    "\n",
    "logger = vaep.logging.setup_nb_logger()\n",
    "logging.getLogger('fontTools').setLevel(logging.WARNING)\n",
    "\n",
    "plt.rcParams['figure.figsize'] = [4, 2.5]  # [16.0, 7.0] , [4, 3]\n",
    "vaep.plotting.make_large_descriptors(7)\n",
    "\n",
    "# catch passed parameters\n",
    "args = None\n",
    "args = dict(globals()).keys()"
   ]
  },
  {
   "cell_type": "markdown",
   "id": "e3192d11-2db7-440c-a80d-7a2e10799895",
   "metadata": {
    "papermill": {
     "duration": 0.009501,
     "end_time": "2024-06-28T11:06:57.649915",
     "exception": false,
     "start_time": "2024-06-28T11:06:57.640414",
     "status": "completed"
    },
    "tags": []
   },
   "source": [
    "## Parameters"
   ]
  },
  {
   "cell_type": "code",
   "execution_count": 2,
   "id": "8edfd1e5-719d-4905-a441-4a2a8ac5b14c",
   "metadata": {
    "execution": {
     "iopub.execute_input": "2024-06-28T11:06:57.670764Z",
     "iopub.status.busy": "2024-06-28T11:06:57.670402Z",
     "iopub.status.idle": "2024-06-28T11:06:57.675709Z",
     "shell.execute_reply": "2024-06-28T11:06:57.674970Z"
    },
    "lines_to_next_cell": 2,
    "papermill": {
     "duration": 0.019063,
     "end_time": "2024-06-28T11:06:57.678604",
     "exception": false,
     "start_time": "2024-06-28T11:06:57.659541",
     "status": "completed"
    },
    "tags": [
     "parameters"
    ]
   },
   "outputs": [],
   "source": [
    "folder_experiment = 'runs/appl_ald_data/plasma/proteinGroups'\n",
    "fn_clinical_data = \"data/ALD_study/processed/ald_metadata_cli.csv\"\n",
    "make_plots = True  # create histograms and swarmplots of diverging results\n",
    "model_key = 'VAE'\n",
    "sample_id_col = 'Sample ID'\n",
    "target = 'kleiner'\n",
    "cutoff_target: int = 2  # => for binarization target >= cutoff_target\n",
    "out_folder = 'diff_analysis'\n",
    "file_format = 'csv'\n",
    "baseline = 'RSN'  # default is RSN, but could be any other trained model\n",
    "template_pred = 'pred_real_na_{}.csv'  # fixed, do not change\n",
    "ref_method_score = None  # filepath to reference method score"
   ]
  },
  {
   "cell_type": "code",
   "execution_count": 3,
   "id": "a5433a6e",
   "metadata": {
    "execution": {
     "iopub.execute_input": "2024-06-28T11:06:57.701118Z",
     "iopub.status.busy": "2024-06-28T11:06:57.700773Z",
     "iopub.status.idle": "2024-06-28T11:06:57.705972Z",
     "shell.execute_reply": "2024-06-28T11:06:57.705265Z"
    },
    "papermill": {
     "duration": 0.018838,
     "end_time": "2024-06-28T11:06:57.708058",
     "exception": false,
     "start_time": "2024-06-28T11:06:57.689220",
     "status": "completed"
    },
    "tags": [
     "injected-parameters"
    ]
   },
   "outputs": [],
   "source": [
    "# Parameters\n",
    "cutoff_target = 0.5\n",
    "make_plots = False\n",
    "ref_method_score = None\n",
    "folder_experiment = \"runs/alzheimer_study\"\n",
    "target = \"AD\"\n",
    "baseline = \"PI\"\n",
    "out_folder = \"diff_analysis\"\n",
    "fn_clinical_data = \"runs/alzheimer_study/data/clinical_data.csv\"\n"
   ]
  },
  {
   "cell_type": "code",
   "execution_count": 4,
   "id": "b85c6c2a-146c-48bd-9d7b-1fe4eec8a6ae",
   "metadata": {
    "execution": {
     "iopub.execute_input": "2024-06-28T11:06:57.730748Z",
     "iopub.status.busy": "2024-06-28T11:06:57.730404Z",
     "iopub.status.idle": "2024-06-28T11:06:57.762209Z",
     "shell.execute_reply": "2024-06-28T11:06:57.761470Z"
    },
    "papermill": {
     "duration": 0.049695,
     "end_time": "2024-06-28T11:06:57.768321",
     "exception": false,
     "start_time": "2024-06-28T11:06:57.718626",
     "status": "completed"
    },
    "tags": [
     "hide-input"
    ]
   },
   "outputs": [
    {
     "name": "stderr",
     "output_type": "stream",
     "text": [
      "root - INFO     Removed from global namespace: folder_experiment\n"
     ]
    },
    {
     "name": "stderr",
     "output_type": "stream",
     "text": [
      "root - INFO     Removed from global namespace: fn_clinical_data\n"
     ]
    },
    {
     "name": "stderr",
     "output_type": "stream",
     "text": [
      "root - INFO     Removed from global namespace: make_plots\n"
     ]
    },
    {
     "name": "stderr",
     "output_type": "stream",
     "text": [
      "root - INFO     Removed from global namespace: model_key\n"
     ]
    },
    {
     "name": "stderr",
     "output_type": "stream",
     "text": [
      "root - INFO     Removed from global namespace: sample_id_col\n"
     ]
    },
    {
     "name": "stderr",
     "output_type": "stream",
     "text": [
      "root - INFO     Removed from global namespace: target\n"
     ]
    },
    {
     "name": "stderr",
     "output_type": "stream",
     "text": [
      "root - INFO     Removed from global namespace: cutoff_target\n"
     ]
    },
    {
     "name": "stderr",
     "output_type": "stream",
     "text": [
      "root - INFO     Removed from global namespace: out_folder\n"
     ]
    },
    {
     "name": "stderr",
     "output_type": "stream",
     "text": [
      "root - INFO     Removed from global namespace: file_format\n"
     ]
    },
    {
     "name": "stderr",
     "output_type": "stream",
     "text": [
      "root - INFO     Removed from global namespace: baseline\n"
     ]
    },
    {
     "name": "stderr",
     "output_type": "stream",
     "text": [
      "root - INFO     Removed from global namespace: template_pred\n"
     ]
    },
    {
     "name": "stderr",
     "output_type": "stream",
     "text": [
      "root - INFO     Removed from global namespace: ref_method_score\n"
     ]
    },
    {
     "name": "stderr",
     "output_type": "stream",
     "text": [
      "root - INFO     Already set attribute: folder_experiment has value runs/alzheimer_study\n"
     ]
    },
    {
     "name": "stderr",
     "output_type": "stream",
     "text": [
      "root - INFO     Already set attribute: out_folder has value diff_analysis\n"
     ]
    },
    {
     "data": {
      "text/plain": [
       "{'baseline': 'PI',\n",
       " 'cutoff_target': 0.5,\n",
       " 'data': PosixPath('runs/alzheimer_study/data'),\n",
       " 'file_format': 'csv',\n",
       " 'fn_clinical_data': 'runs/alzheimer_study/data/clinical_data.csv',\n",
       " 'folder_experiment': PosixPath('runs/alzheimer_study'),\n",
       " 'folder_scores': PosixPath('runs/alzheimer_study/diff_analysis/AD/scores'),\n",
       " 'make_plots': False,\n",
       " 'model_key': 'VAE',\n",
       " 'out_figures': PosixPath('runs/alzheimer_study/figures'),\n",
       " 'out_folder': PosixPath('runs/alzheimer_study/diff_analysis/AD'),\n",
       " 'out_metrics': PosixPath('runs/alzheimer_study'),\n",
       " 'out_models': PosixPath('runs/alzheimer_study'),\n",
       " 'out_preds': PosixPath('runs/alzheimer_study/preds'),\n",
       " 'ref_method_score': None,\n",
       " 'sample_id_col': 'Sample ID',\n",
       " 'target': 'AD',\n",
       " 'template_pred': 'pred_real_na_{}.csv'}"
      ]
     },
     "execution_count": 4,
     "metadata": {},
     "output_type": "execute_result"
    }
   ],
   "source": [
    "params = vaep.nb.get_params(args, globals=globals())\n",
    "args = vaep.nb.Config()\n",
    "args.folder_experiment = Path(params[\"folder_experiment\"])\n",
    "args = vaep.nb.add_default_paths(args,\n",
    "                                 out_root=(args.folder_experiment\n",
    "                                           / params[\"out_folder\"]\n",
    "                                           / params[\"target\"]))\n",
    "args.folder_scores = (args.folder_experiment\n",
    "                      / params[\"out_folder\"]\n",
    "                      / params[\"target\"]\n",
    "                      / 'scores'\n",
    "                      )\n",
    "args.update_from_dict(params)\n",
    "args"
   ]
  },
  {
   "cell_type": "markdown",
   "id": "4036fc07",
   "metadata": {
    "papermill": {
     "duration": 0.012282,
     "end_time": "2024-06-28T11:06:57.792797",
     "exception": false,
     "start_time": "2024-06-28T11:06:57.780515",
     "status": "completed"
    },
    "tags": []
   },
   "source": [
    "Write outputs to excel"
   ]
  },
  {
   "cell_type": "code",
   "execution_count": 5,
   "id": "8c833157-e36e-476b-a3bd-d604b962ef04",
   "metadata": {
    "execution": {
     "iopub.execute_input": "2024-06-28T11:06:57.817277Z",
     "iopub.status.busy": "2024-06-28T11:06:57.816932Z",
     "iopub.status.idle": "2024-06-28T11:06:57.927485Z",
     "shell.execute_reply": "2024-06-28T11:06:57.926715Z"
    },
    "papermill": {
     "duration": 0.125194,
     "end_time": "2024-06-28T11:06:57.929366",
     "exception": false,
     "start_time": "2024-06-28T11:06:57.804172",
     "status": "completed"
    },
    "tags": [
     "hide-input"
    ]
   },
   "outputs": [
    {
     "name": "stderr",
     "output_type": "stream",
     "text": [
      "root - INFO     Writing to excel file: runs/alzheimer_study/diff_analysis/AD/diff_analysis_compare_DA.xlsx\n"
     ]
    }
   ],
   "source": [
    "files_out = dict()\n",
    "\n",
    "fname = args.out_folder / 'diff_analysis_compare_DA.xlsx'\n",
    "writer = pd.ExcelWriter(fname)\n",
    "files_out[fname.name] = fname.as_posix()\n",
    "logger.info(\"Writing to excel file: %s\", fname)"
   ]
  },
  {
   "cell_type": "markdown",
   "id": "62d61673",
   "metadata": {
    "papermill": {
     "duration": 0.011627,
     "end_time": "2024-06-28T11:06:57.953843",
     "exception": false,
     "start_time": "2024-06-28T11:06:57.942216",
     "status": "completed"
    },
    "tags": []
   },
   "source": [
    "## Load scores\n",
    "List dump of scores:"
   ]
  },
  {
   "cell_type": "code",
   "execution_count": 6,
   "id": "bcbd112b",
   "metadata": {
    "execution": {
     "iopub.execute_input": "2024-06-28T11:06:57.978836Z",
     "iopub.status.busy": "2024-06-28T11:06:57.978430Z",
     "iopub.status.idle": "2024-06-28T11:06:57.984926Z",
     "shell.execute_reply": "2024-06-28T11:06:57.984146Z"
    },
    "papermill": {
     "duration": 0.022433,
     "end_time": "2024-06-28T11:06:57.987989",
     "exception": false,
     "start_time": "2024-06-28T11:06:57.965556",
     "status": "completed"
    },
    "tags": [
     "hide-input"
    ]
   },
   "outputs": [
    {
     "data": {
      "text/plain": [
       "[PosixPath('runs/alzheimer_study/diff_analysis/AD/scores/diff_analysis_scores_PI.pkl'),\n",
       " PosixPath('runs/alzheimer_study/diff_analysis/AD/scores/diff_analysis_scores_TRKNN.pkl'),\n",
       " PosixPath('runs/alzheimer_study/diff_analysis/AD/scores/diff_analysis_scores_CF.pkl'),\n",
       " PosixPath('runs/alzheimer_study/diff_analysis/AD/scores/diff_analysis_scores_Median.pkl'),\n",
       " PosixPath('runs/alzheimer_study/diff_analysis/AD/scores/diff_analysis_scores_QRILC.pkl'),\n",
       " PosixPath('runs/alzheimer_study/diff_analysis/AD/scores/diff_analysis_scores_DAE.pkl'),\n",
       " PosixPath('runs/alzheimer_study/diff_analysis/AD/scores/diff_analysis_scores_None.pkl'),\n",
       " PosixPath('runs/alzheimer_study/diff_analysis/AD/scores/diff_analysis_scores_VAE.pkl'),\n",
       " PosixPath('runs/alzheimer_study/diff_analysis/AD/scores/diff_analysis_scores_RF.pkl')]"
      ]
     },
     "execution_count": 6,
     "metadata": {},
     "output_type": "execute_result"
    }
   ],
   "source": [
    "score_dumps = [fname for fname in Path(\n",
    "    args.folder_scores).iterdir() if fname.suffix == '.pkl']\n",
    "score_dumps"
   ]
  },
  {
   "cell_type": "markdown",
   "id": "18113565",
   "metadata": {
    "papermill": {
     "duration": 0.011461,
     "end_time": "2024-06-28T11:06:58.011445",
     "exception": false,
     "start_time": "2024-06-28T11:06:57.999984",
     "status": "completed"
    },
    "tags": []
   },
   "source": [
    "Load scores from dumps:"
   ]
  },
  {
   "cell_type": "code",
   "execution_count": 7,
   "id": "d240a9b0",
   "metadata": {
    "execution": {
     "iopub.execute_input": "2024-06-28T11:06:58.036534Z",
     "iopub.status.busy": "2024-06-28T11:06:58.036131Z",
     "iopub.status.idle": "2024-06-28T11:06:58.116369Z",
     "shell.execute_reply": "2024-06-28T11:06:58.115637Z"
    },
    "papermill": {
     "duration": 0.094954,
     "end_time": "2024-06-28T11:06:58.118113",
     "exception": false,
     "start_time": "2024-06-28T11:06:58.023159",
     "status": "completed"
    },
    "tags": [
     "hide-input"
    ]
   },
   "outputs": [
    {
     "data": {
      "text/html": [
       "<div>\n",
       "<style scoped>\n",
       "    .dataframe tbody tr th:only-of-type {\n",
       "        vertical-align: middle;\n",
       "    }\n",
       "\n",
       "    .dataframe tbody tr th {\n",
       "        vertical-align: top;\n",
       "    }\n",
       "\n",
       "    .dataframe thead tr th {\n",
       "        text-align: left;\n",
       "    }\n",
       "\n",
       "    .dataframe thead tr:last-of-type th {\n",
       "        text-align: right;\n",
       "    }\n",
       "</style>\n",
       "<table border=\"1\" class=\"dataframe\">\n",
       "  <thead>\n",
       "    <tr>\n",
       "      <th></th>\n",
       "      <th>model</th>\n",
       "      <th colspan=\"8\" halign=\"left\">PI</th>\n",
       "      <th colspan=\"2\" halign=\"left\">TRKNN</th>\n",
       "      <th>...</th>\n",
       "      <th colspan=\"2\" halign=\"left\">VAE</th>\n",
       "      <th colspan=\"8\" halign=\"left\">RF</th>\n",
       "    </tr>\n",
       "    <tr>\n",
       "      <th></th>\n",
       "      <th>var</th>\n",
       "      <th>SS</th>\n",
       "      <th>DF</th>\n",
       "      <th>F</th>\n",
       "      <th>p-unc</th>\n",
       "      <th>np2</th>\n",
       "      <th>-Log10 pvalue</th>\n",
       "      <th>qvalue</th>\n",
       "      <th>rejected</th>\n",
       "      <th>SS</th>\n",
       "      <th>DF</th>\n",
       "      <th>...</th>\n",
       "      <th>qvalue</th>\n",
       "      <th>rejected</th>\n",
       "      <th>SS</th>\n",
       "      <th>DF</th>\n",
       "      <th>F</th>\n",
       "      <th>p-unc</th>\n",
       "      <th>np2</th>\n",
       "      <th>-Log10 pvalue</th>\n",
       "      <th>qvalue</th>\n",
       "      <th>rejected</th>\n",
       "    </tr>\n",
       "    <tr>\n",
       "      <th>protein groups</th>\n",
       "      <th>Source</th>\n",
       "      <th></th>\n",
       "      <th></th>\n",
       "      <th></th>\n",
       "      <th></th>\n",
       "      <th></th>\n",
       "      <th></th>\n",
       "      <th></th>\n",
       "      <th></th>\n",
       "      <th></th>\n",
       "      <th></th>\n",
       "      <th></th>\n",
       "      <th></th>\n",
       "      <th></th>\n",
       "      <th></th>\n",
       "      <th></th>\n",
       "      <th></th>\n",
       "      <th></th>\n",
       "      <th></th>\n",
       "      <th></th>\n",
       "      <th></th>\n",
       "      <th></th>\n",
       "    </tr>\n",
       "  </thead>\n",
       "  <tbody>\n",
       "    <tr>\n",
       "      <th rowspan=\"5\" valign=\"top\">A0A024QZX5;A0A087X1N8;P35237</th>\n",
       "      <th>AD</th>\n",
       "      <td>0.061</td>\n",
       "      <td>1</td>\n",
       "      <td>0.095</td>\n",
       "      <td>0.759</td>\n",
       "      <td>0.000</td>\n",
       "      <td>0.120</td>\n",
       "      <td>0.850</td>\n",
       "      <td>False</td>\n",
       "      <td>0.994</td>\n",
       "      <td>1</td>\n",
       "      <td>...</td>\n",
       "      <td>0.019</td>\n",
       "      <td>True</td>\n",
       "      <td>0.973</td>\n",
       "      <td>1</td>\n",
       "      <td>7.351</td>\n",
       "      <td>0.007</td>\n",
       "      <td>0.037</td>\n",
       "      <td>2.136</td>\n",
       "      <td>0.022</td>\n",
       "      <td>True</td>\n",
       "    </tr>\n",
       "    <tr>\n",
       "      <th>age</th>\n",
       "      <td>0.032</td>\n",
       "      <td>1</td>\n",
       "      <td>0.049</td>\n",
       "      <td>0.825</td>\n",
       "      <td>0.000</td>\n",
       "      <td>0.084</td>\n",
       "      <td>0.898</td>\n",
       "      <td>False</td>\n",
       "      <td>0.004</td>\n",
       "      <td>1</td>\n",
       "      <td>...</td>\n",
       "      <td>0.884</td>\n",
       "      <td>False</td>\n",
       "      <td>0.005</td>\n",
       "      <td>1</td>\n",
       "      <td>0.034</td>\n",
       "      <td>0.853</td>\n",
       "      <td>0.000</td>\n",
       "      <td>0.069</td>\n",
       "      <td>0.907</td>\n",
       "      <td>False</td>\n",
       "    </tr>\n",
       "    <tr>\n",
       "      <th>Kiel</th>\n",
       "      <td>1.993</td>\n",
       "      <td>1</td>\n",
       "      <td>3.097</td>\n",
       "      <td>0.080</td>\n",
       "      <td>0.016</td>\n",
       "      <td>1.097</td>\n",
       "      <td>0.177</td>\n",
       "      <td>False</td>\n",
       "      <td>0.269</td>\n",
       "      <td>1</td>\n",
       "      <td>...</td>\n",
       "      <td>0.258</td>\n",
       "      <td>False</td>\n",
       "      <td>0.217</td>\n",
       "      <td>1</td>\n",
       "      <td>1.641</td>\n",
       "      <td>0.202</td>\n",
       "      <td>0.009</td>\n",
       "      <td>0.695</td>\n",
       "      <td>0.324</td>\n",
       "      <td>False</td>\n",
       "    </tr>\n",
       "    <tr>\n",
       "      <th>Magdeburg</th>\n",
       "      <td>6.528</td>\n",
       "      <td>1</td>\n",
       "      <td>10.144</td>\n",
       "      <td>0.002</td>\n",
       "      <td>0.050</td>\n",
       "      <td>2.772</td>\n",
       "      <td>0.008</td>\n",
       "      <td>True</td>\n",
       "      <td>0.519</td>\n",
       "      <td>1</td>\n",
       "      <td>...</td>\n",
       "      <td>0.122</td>\n",
       "      <td>False</td>\n",
       "      <td>0.390</td>\n",
       "      <td>1</td>\n",
       "      <td>2.948</td>\n",
       "      <td>0.088</td>\n",
       "      <td>0.015</td>\n",
       "      <td>1.057</td>\n",
       "      <td>0.168</td>\n",
       "      <td>False</td>\n",
       "    </tr>\n",
       "    <tr>\n",
       "      <th>Sweden</th>\n",
       "      <td>10.745</td>\n",
       "      <td>1</td>\n",
       "      <td>16.695</td>\n",
       "      <td>0.000</td>\n",
       "      <td>0.080</td>\n",
       "      <td>4.190</td>\n",
       "      <td>0.000</td>\n",
       "      <td>True</td>\n",
       "      <td>1.796</td>\n",
       "      <td>1</td>\n",
       "      <td>...</td>\n",
       "      <td>0.002</td>\n",
       "      <td>True</td>\n",
       "      <td>1.515</td>\n",
       "      <td>1</td>\n",
       "      <td>11.447</td>\n",
       "      <td>0.001</td>\n",
       "      <td>0.057</td>\n",
       "      <td>3.061</td>\n",
       "      <td>0.003</td>\n",
       "      <td>True</td>\n",
       "    </tr>\n",
       "    <tr>\n",
       "      <th>...</th>\n",
       "      <th>...</th>\n",
       "      <td>...</td>\n",
       "      <td>...</td>\n",
       "      <td>...</td>\n",
       "      <td>...</td>\n",
       "      <td>...</td>\n",
       "      <td>...</td>\n",
       "      <td>...</td>\n",
       "      <td>...</td>\n",
       "      <td>...</td>\n",
       "      <td>...</td>\n",
       "      <td>...</td>\n",
       "      <td>...</td>\n",
       "      <td>...</td>\n",
       "      <td>...</td>\n",
       "      <td>...</td>\n",
       "      <td>...</td>\n",
       "      <td>...</td>\n",
       "      <td>...</td>\n",
       "      <td>...</td>\n",
       "      <td>...</td>\n",
       "      <td>...</td>\n",
       "    </tr>\n",
       "    <tr>\n",
       "      <th rowspan=\"5\" valign=\"top\">S4R3U6</th>\n",
       "      <th>AD</th>\n",
       "      <td>0.535</td>\n",
       "      <td>1</td>\n",
       "      <td>0.597</td>\n",
       "      <td>0.441</td>\n",
       "      <td>0.003</td>\n",
       "      <td>0.356</td>\n",
       "      <td>0.600</td>\n",
       "      <td>False</td>\n",
       "      <td>2.295</td>\n",
       "      <td>1</td>\n",
       "      <td>...</td>\n",
       "      <td>0.109</td>\n",
       "      <td>False</td>\n",
       "      <td>0.663</td>\n",
       "      <td>1</td>\n",
       "      <td>1.477</td>\n",
       "      <td>0.226</td>\n",
       "      <td>0.008</td>\n",
       "      <td>0.646</td>\n",
       "      <td>0.354</td>\n",
       "      <td>False</td>\n",
       "    </tr>\n",
       "    <tr>\n",
       "      <th>age</th>\n",
       "      <td>0.050</td>\n",
       "      <td>1</td>\n",
       "      <td>0.056</td>\n",
       "      <td>0.813</td>\n",
       "      <td>0.000</td>\n",
       "      <td>0.090</td>\n",
       "      <td>0.891</td>\n",
       "      <td>False</td>\n",
       "      <td>0.398</td>\n",
       "      <td>1</td>\n",
       "      <td>...</td>\n",
       "      <td>0.546</td>\n",
       "      <td>False</td>\n",
       "      <td>0.769</td>\n",
       "      <td>1</td>\n",
       "      <td>1.713</td>\n",
       "      <td>0.192</td>\n",
       "      <td>0.009</td>\n",
       "      <td>0.716</td>\n",
       "      <td>0.312</td>\n",
       "      <td>False</td>\n",
       "    </tr>\n",
       "    <tr>\n",
       "      <th>Kiel</th>\n",
       "      <td>0.228</td>\n",
       "      <td>1</td>\n",
       "      <td>0.255</td>\n",
       "      <td>0.614</td>\n",
       "      <td>0.001</td>\n",
       "      <td>0.212</td>\n",
       "      <td>0.748</td>\n",
       "      <td>False</td>\n",
       "      <td>2.981</td>\n",
       "      <td>1</td>\n",
       "      <td>...</td>\n",
       "      <td>0.058</td>\n",
       "      <td>False</td>\n",
       "      <td>1.789</td>\n",
       "      <td>1</td>\n",
       "      <td>3.983</td>\n",
       "      <td>0.047</td>\n",
       "      <td>0.020</td>\n",
       "      <td>1.324</td>\n",
       "      <td>0.102</td>\n",
       "      <td>False</td>\n",
       "    </tr>\n",
       "    <tr>\n",
       "      <th>Magdeburg</th>\n",
       "      <td>0.738</td>\n",
       "      <td>1</td>\n",
       "      <td>0.823</td>\n",
       "      <td>0.366</td>\n",
       "      <td>0.004</td>\n",
       "      <td>0.437</td>\n",
       "      <td>0.528</td>\n",
       "      <td>False</td>\n",
       "      <td>3.440</td>\n",
       "      <td>1</td>\n",
       "      <td>...</td>\n",
       "      <td>0.053</td>\n",
       "      <td>False</td>\n",
       "      <td>1.543</td>\n",
       "      <td>1</td>\n",
       "      <td>3.435</td>\n",
       "      <td>0.065</td>\n",
       "      <td>0.018</td>\n",
       "      <td>1.185</td>\n",
       "      <td>0.132</td>\n",
       "      <td>False</td>\n",
       "    </tr>\n",
       "    <tr>\n",
       "      <th>Sweden</th>\n",
       "      <td>17.592</td>\n",
       "      <td>1</td>\n",
       "      <td>19.620</td>\n",
       "      <td>0.000</td>\n",
       "      <td>0.093</td>\n",
       "      <td>4.799</td>\n",
       "      <td>0.000</td>\n",
       "      <td>True</td>\n",
       "      <td>27.114</td>\n",
       "      <td>1</td>\n",
       "      <td>...</td>\n",
       "      <td>0.000</td>\n",
       "      <td>True</td>\n",
       "      <td>13.971</td>\n",
       "      <td>1</td>\n",
       "      <td>31.111</td>\n",
       "      <td>0.000</td>\n",
       "      <td>0.140</td>\n",
       "      <td>7.084</td>\n",
       "      <td>0.000</td>\n",
       "      <td>True</td>\n",
       "    </tr>\n",
       "  </tbody>\n",
       "</table>\n",
       "<p>7105 rows × 72 columns</p>\n",
       "</div>"
      ],
      "text/plain": [
       "model                                      PI                        \\\n",
       "var                                        SS DF      F p-unc   np2   \n",
       "protein groups               Source                                   \n",
       "A0A024QZX5;A0A087X1N8;P35237 AD         0.061  1  0.095 0.759 0.000   \n",
       "                             age        0.032  1  0.049 0.825 0.000   \n",
       "                             Kiel       1.993  1  3.097 0.080 0.016   \n",
       "                             Magdeburg  6.528  1 10.144 0.002 0.050   \n",
       "                             Sweden    10.745  1 16.695 0.000 0.080   \n",
       "...                                       ... ..    ...   ...   ...   \n",
       "S4R3U6                       AD         0.535  1  0.597 0.441 0.003   \n",
       "                             age        0.050  1  0.056 0.813 0.000   \n",
       "                             Kiel       0.228  1  0.255 0.614 0.001   \n",
       "                             Magdeburg  0.738  1  0.823 0.366 0.004   \n",
       "                             Sweden    17.592  1 19.620 0.000 0.093   \n",
       "\n",
       "model                                                                 TRKNN  \\\n",
       "var                                    -Log10 pvalue qvalue rejected     SS   \n",
       "protein groups               Source                                           \n",
       "A0A024QZX5;A0A087X1N8;P35237 AD                0.120  0.850    False  0.994   \n",
       "                             age               0.084  0.898    False  0.004   \n",
       "                             Kiel              1.097  0.177    False  0.269   \n",
       "                             Magdeburg         2.772  0.008     True  0.519   \n",
       "                             Sweden            4.190  0.000     True  1.796   \n",
       "...                                              ...    ...      ...    ...   \n",
       "S4R3U6                       AD                0.356  0.600    False  2.295   \n",
       "                             age               0.090  0.891    False  0.398   \n",
       "                             Kiel              0.212  0.748    False  2.981   \n",
       "                             Magdeburg         0.437  0.528    False  3.440   \n",
       "                             Sweden            4.799  0.000     True 27.114   \n",
       "\n",
       "model                                      ...    VAE              RF     \\\n",
       "var                                    DF  ... qvalue rejected     SS DF   \n",
       "protein groups               Source        ...                             \n",
       "A0A024QZX5;A0A087X1N8;P35237 AD         1  ...  0.019     True  0.973  1   \n",
       "                             age        1  ...  0.884    False  0.005  1   \n",
       "                             Kiel       1  ...  0.258    False  0.217  1   \n",
       "                             Magdeburg  1  ...  0.122    False  0.390  1   \n",
       "                             Sweden     1  ...  0.002     True  1.515  1   \n",
       "...                                    ..  ...    ...      ...    ... ..   \n",
       "S4R3U6                       AD         1  ...  0.109    False  0.663  1   \n",
       "                             age        1  ...  0.546    False  0.769  1   \n",
       "                             Kiel       1  ...  0.058    False  1.789  1   \n",
       "                             Magdeburg  1  ...  0.053    False  1.543  1   \n",
       "                             Sweden     1  ...  0.000     True 13.971  1   \n",
       "\n",
       "model                                                                    \\\n",
       "var                                         F p-unc   np2 -Log10 pvalue   \n",
       "protein groups               Source                                       \n",
       "A0A024QZX5;A0A087X1N8;P35237 AD         7.351 0.007 0.037         2.136   \n",
       "                             age        0.034 0.853 0.000         0.069   \n",
       "                             Kiel       1.641 0.202 0.009         0.695   \n",
       "                             Magdeburg  2.948 0.088 0.015         1.057   \n",
       "                             Sweden    11.447 0.001 0.057         3.061   \n",
       "...                                       ...   ...   ...           ...   \n",
       "S4R3U6                       AD         1.477 0.226 0.008         0.646   \n",
       "                             age        1.713 0.192 0.009         0.716   \n",
       "                             Kiel       3.983 0.047 0.020         1.324   \n",
       "                             Magdeburg  3.435 0.065 0.018         1.185   \n",
       "                             Sweden    31.111 0.000 0.140         7.084   \n",
       "\n",
       "model                                                   \n",
       "var                                    qvalue rejected  \n",
       "protein groups               Source                     \n",
       "A0A024QZX5;A0A087X1N8;P35237 AD         0.022     True  \n",
       "                             age        0.907    False  \n",
       "                             Kiel       0.324    False  \n",
       "                             Magdeburg  0.168    False  \n",
       "                             Sweden     0.003     True  \n",
       "...                                       ...      ...  \n",
       "S4R3U6                       AD         0.354    False  \n",
       "                             age        0.312    False  \n",
       "                             Kiel       0.102    False  \n",
       "                             Magdeburg  0.132    False  \n",
       "                             Sweden     0.000     True  \n",
       "\n",
       "[7105 rows x 72 columns]"
      ]
     },
     "execution_count": 7,
     "metadata": {},
     "output_type": "execute_result"
    }
   ],
   "source": [
    "scores = pd.concat([pd.read_pickle(fname) for fname in score_dumps], axis=1)\n",
    "scores"
   ]
  },
  {
   "cell_type": "markdown",
   "id": "1abb0f0b",
   "metadata": {
    "papermill": {
     "duration": 0.012581,
     "end_time": "2024-06-28T11:06:58.143724",
     "exception": false,
     "start_time": "2024-06-28T11:06:58.131143",
     "status": "completed"
    },
    "tags": []
   },
   "source": [
    "If reference dump is provided, add it to the scores"
   ]
  },
  {
   "cell_type": "code",
   "execution_count": 8,
   "id": "c92dae12",
   "metadata": {
    "execution": {
     "iopub.execute_input": "2024-06-28T11:06:58.172338Z",
     "iopub.status.busy": "2024-06-28T11:06:58.171688Z",
     "iopub.status.idle": "2024-06-28T11:06:58.176448Z",
     "shell.execute_reply": "2024-06-28T11:06:58.175748Z"
    },
    "papermill": {
     "duration": 0.021921,
     "end_time": "2024-06-28T11:06:58.179340",
     "exception": false,
     "start_time": "2024-06-28T11:06:58.157419",
     "status": "completed"
    },
    "tags": [
     "hide-input"
    ]
   },
   "outputs": [],
   "source": [
    "if args.ref_method_score:\n",
    "    scores_reference = (pd\n",
    "                        .read_pickle(args.ref_method_score)\n",
    "                        .rename({'None': 'None (100%)'},\n",
    "                                axis=1))\n",
    "    scores = scores.join(scores_reference)\n",
    "    logger.info(f'Added reference method scores from {args.ref_method_score}')"
   ]
  },
  {
   "cell_type": "markdown",
   "id": "79746f59",
   "metadata": {
    "papermill": {
     "duration": 0.013357,
     "end_time": "2024-06-28T11:06:58.205422",
     "exception": false,
     "start_time": "2024-06-28T11:06:58.192065",
     "status": "completed"
    },
    "tags": []
   },
   "source": [
    "### Load frequencies of observed features"
   ]
  },
  {
   "cell_type": "code",
   "execution_count": 9,
   "id": "86ecc391",
   "metadata": {
    "execution": {
     "iopub.execute_input": "2024-06-28T11:06:58.232488Z",
     "iopub.status.busy": "2024-06-28T11:06:58.231720Z",
     "iopub.status.idle": "2024-06-28T11:06:58.249190Z",
     "shell.execute_reply": "2024-06-28T11:06:58.248464Z"
    },
    "papermill": {
     "duration": 0.033034,
     "end_time": "2024-06-28T11:06:58.251074",
     "exception": false,
     "start_time": "2024-06-28T11:06:58.218040",
     "status": "completed"
    },
    "tags": [
     "hide-input"
    ]
   },
   "outputs": [
    {
     "data": {
      "text/html": [
       "<div>\n",
       "<style scoped>\n",
       "    .dataframe tbody tr th:only-of-type {\n",
       "        vertical-align: middle;\n",
       "    }\n",
       "\n",
       "    .dataframe tbody tr th {\n",
       "        vertical-align: top;\n",
       "    }\n",
       "\n",
       "    .dataframe thead tr th {\n",
       "        text-align: left;\n",
       "    }\n",
       "\n",
       "    .dataframe thead tr:last-of-type th {\n",
       "        text-align: right;\n",
       "    }\n",
       "</style>\n",
       "<table border=\"1\" class=\"dataframe\">\n",
       "  <thead>\n",
       "    <tr>\n",
       "      <th></th>\n",
       "      <th>data</th>\n",
       "    </tr>\n",
       "    <tr>\n",
       "      <th></th>\n",
       "      <th>frequency</th>\n",
       "    </tr>\n",
       "    <tr>\n",
       "      <th>protein groups</th>\n",
       "      <th></th>\n",
       "    </tr>\n",
       "  </thead>\n",
       "  <tbody>\n",
       "    <tr>\n",
       "      <th>A0A024QZX5;A0A087X1N8;P35237</th>\n",
       "      <td>186</td>\n",
       "    </tr>\n",
       "    <tr>\n",
       "      <th>A0A024R0T9;K7ER74;P02655</th>\n",
       "      <td>195</td>\n",
       "    </tr>\n",
       "    <tr>\n",
       "      <th>A0A024R3W6;A0A024R412;O60462;O60462-2;O60462-3;O60462-4;O60462-5;Q7LBX6;X5D2Q8</th>\n",
       "      <td>174</td>\n",
       "    </tr>\n",
       "    <tr>\n",
       "      <th>A0A024R644;A0A0A0MRU5;A0A1B0GWI2;O75503</th>\n",
       "      <td>196</td>\n",
       "    </tr>\n",
       "    <tr>\n",
       "      <th>A0A075B6H7</th>\n",
       "      <td>91</td>\n",
       "    </tr>\n",
       "    <tr>\n",
       "      <th>...</th>\n",
       "      <td>...</td>\n",
       "    </tr>\n",
       "    <tr>\n",
       "      <th>Q9Y6R7</th>\n",
       "      <td>197</td>\n",
       "    </tr>\n",
       "    <tr>\n",
       "      <th>Q9Y6X5</th>\n",
       "      <td>173</td>\n",
       "    </tr>\n",
       "    <tr>\n",
       "      <th>Q9Y6Y8;Q9Y6Y8-2</th>\n",
       "      <td>197</td>\n",
       "    </tr>\n",
       "    <tr>\n",
       "      <th>Q9Y6Y9</th>\n",
       "      <td>119</td>\n",
       "    </tr>\n",
       "    <tr>\n",
       "      <th>S4R3U6</th>\n",
       "      <td>126</td>\n",
       "    </tr>\n",
       "  </tbody>\n",
       "</table>\n",
       "<p>1421 rows × 1 columns</p>\n",
       "</div>"
      ],
      "text/plain": [
       "                                                        data\n",
       "                                                   frequency\n",
       "protein groups                                              \n",
       "A0A024QZX5;A0A087X1N8;P35237                             186\n",
       "A0A024R0T9;K7ER74;P02655                                 195\n",
       "A0A024R3W6;A0A024R412;O60462;O60462-2;O60462-3;...       174\n",
       "A0A024R644;A0A0A0MRU5;A0A1B0GWI2;O75503                  196\n",
       "A0A075B6H7                                                91\n",
       "...                                                      ...\n",
       "Q9Y6R7                                                   197\n",
       "Q9Y6X5                                                   173\n",
       "Q9Y6Y8;Q9Y6Y8-2                                          197\n",
       "Q9Y6Y9                                                   119\n",
       "S4R3U6                                                   126\n",
       "\n",
       "[1421 rows x 1 columns]"
      ]
     },
     "execution_count": 9,
     "metadata": {},
     "output_type": "execute_result"
    }
   ],
   "source": [
    "fname = args.folder_experiment / 'freq_features_observed.csv'\n",
    "freq_feat = pd.read_csv(fname, index_col=0)\n",
    "freq_feat.columns = pd.MultiIndex.from_tuples([('data', 'frequency'),])\n",
    "freq_feat"
   ]
  },
  {
   "cell_type": "markdown",
   "id": "641099cd",
   "metadata": {
    "papermill": {
     "duration": 0.012756,
     "end_time": "2024-06-28T11:06:58.277314",
     "exception": false,
     "start_time": "2024-06-28T11:06:58.264558",
     "status": "completed"
    },
    "tags": []
   },
   "source": [
    "### Assemble qvalues"
   ]
  },
  {
   "cell_type": "code",
   "execution_count": 10,
   "id": "54a41e86",
   "metadata": {
    "execution": {
     "iopub.execute_input": "2024-06-28T11:06:58.304674Z",
     "iopub.status.busy": "2024-06-28T11:06:58.304265Z",
     "iopub.status.idle": "2024-06-28T11:06:58.843509Z",
     "shell.execute_reply": "2024-06-28T11:06:58.842737Z"
    },
    "papermill": {
     "duration": 0.555618,
     "end_time": "2024-06-28T11:06:58.845573",
     "exception": false,
     "start_time": "2024-06-28T11:06:58.289955",
     "status": "completed"
    },
    "tags": [
     "hide-input"
    ]
   },
   "outputs": [
    {
     "data": {
      "text/html": [
       "<div>\n",
       "<style scoped>\n",
       "    .dataframe tbody tr th:only-of-type {\n",
       "        vertical-align: middle;\n",
       "    }\n",
       "\n",
       "    .dataframe tbody tr th {\n",
       "        vertical-align: top;\n",
       "    }\n",
       "\n",
       "    .dataframe thead tr th {\n",
       "        text-align: left;\n",
       "    }\n",
       "\n",
       "    .dataframe thead tr:last-of-type th {\n",
       "        text-align: right;\n",
       "    }\n",
       "</style>\n",
       "<table border=\"1\" class=\"dataframe\">\n",
       "  <thead>\n",
       "    <tr>\n",
       "      <th></th>\n",
       "      <th></th>\n",
       "      <th></th>\n",
       "      <th>PI</th>\n",
       "      <th>TRKNN</th>\n",
       "      <th>CF</th>\n",
       "      <th>Median</th>\n",
       "      <th>QRILC</th>\n",
       "      <th>DAE</th>\n",
       "      <th>None</th>\n",
       "      <th>VAE</th>\n",
       "      <th>RF</th>\n",
       "    </tr>\n",
       "    <tr>\n",
       "      <th></th>\n",
       "      <th></th>\n",
       "      <th></th>\n",
       "      <th>qvalue</th>\n",
       "      <th>qvalue</th>\n",
       "      <th>qvalue</th>\n",
       "      <th>qvalue</th>\n",
       "      <th>qvalue</th>\n",
       "      <th>qvalue</th>\n",
       "      <th>qvalue</th>\n",
       "      <th>qvalue</th>\n",
       "      <th>qvalue</th>\n",
       "    </tr>\n",
       "    <tr>\n",
       "      <th>protein groups</th>\n",
       "      <th>Source</th>\n",
       "      <th>frequency</th>\n",
       "      <th></th>\n",
       "      <th></th>\n",
       "      <th></th>\n",
       "      <th></th>\n",
       "      <th></th>\n",
       "      <th></th>\n",
       "      <th></th>\n",
       "      <th></th>\n",
       "      <th></th>\n",
       "    </tr>\n",
       "  </thead>\n",
       "  <tbody>\n",
       "    <tr>\n",
       "      <th>A0A024QZX5;A0A087X1N8;P35237</th>\n",
       "      <th>AD</th>\n",
       "      <th>186</th>\n",
       "      <td>0.850</td>\n",
       "      <td>0.023</td>\n",
       "      <td>0.023</td>\n",
       "      <td>0.039</td>\n",
       "      <td>0.068</td>\n",
       "      <td>0.019</td>\n",
       "      <td>0.043</td>\n",
       "      <td>0.019</td>\n",
       "      <td>0.022</td>\n",
       "    </tr>\n",
       "    <tr>\n",
       "      <th>A0A024R0T9;K7ER74;P02655</th>\n",
       "      <th>AD</th>\n",
       "      <th>195</th>\n",
       "      <td>0.093</td>\n",
       "      <td>0.071</td>\n",
       "      <td>0.077</td>\n",
       "      <td>0.087</td>\n",
       "      <td>0.075</td>\n",
       "      <td>0.080</td>\n",
       "      <td>0.092</td>\n",
       "      <td>0.071</td>\n",
       "      <td>0.073</td>\n",
       "    </tr>\n",
       "    <tr>\n",
       "      <th>A0A024R3W6;A0A024R412;O60462;O60462-2;O60462-3;O60462-4;O60462-5;Q7LBX6;X5D2Q8</th>\n",
       "      <th>AD</th>\n",
       "      <th>174</th>\n",
       "      <td>0.158</td>\n",
       "      <td>0.394</td>\n",
       "      <td>0.849</td>\n",
       "      <td>0.832</td>\n",
       "      <td>0.370</td>\n",
       "      <td>0.380</td>\n",
       "      <td>0.586</td>\n",
       "      <td>0.512</td>\n",
       "      <td>0.567</td>\n",
       "    </tr>\n",
       "    <tr>\n",
       "      <th>A0A024R644;A0A0A0MRU5;A0A1B0GWI2;O75503</th>\n",
       "      <th>AD</th>\n",
       "      <th>196</th>\n",
       "      <td>0.644</td>\n",
       "      <td>0.396</td>\n",
       "      <td>0.390</td>\n",
       "      <td>0.418</td>\n",
       "      <td>0.449</td>\n",
       "      <td>0.372</td>\n",
       "      <td>0.404</td>\n",
       "      <td>0.380</td>\n",
       "      <td>0.394</td>\n",
       "    </tr>\n",
       "    <tr>\n",
       "      <th>A0A075B6H7</th>\n",
       "      <th>AD</th>\n",
       "      <th>91</th>\n",
       "      <td>0.307</td>\n",
       "      <td>0.048</td>\n",
       "      <td>0.043</td>\n",
       "      <td>0.124</td>\n",
       "      <td>0.329</td>\n",
       "      <td>0.033</td>\n",
       "      <td>0.027</td>\n",
       "      <td>0.010</td>\n",
       "      <td>0.006</td>\n",
       "    </tr>\n",
       "    <tr>\n",
       "      <th>...</th>\n",
       "      <th>...</th>\n",
       "      <th>...</th>\n",
       "      <td>...</td>\n",
       "      <td>...</td>\n",
       "      <td>...</td>\n",
       "      <td>...</td>\n",
       "      <td>...</td>\n",
       "      <td>...</td>\n",
       "      <td>...</td>\n",
       "      <td>...</td>\n",
       "      <td>...</td>\n",
       "    </tr>\n",
       "    <tr>\n",
       "      <th>Q9Y6R7</th>\n",
       "      <th>AD</th>\n",
       "      <th>197</th>\n",
       "      <td>0.317</td>\n",
       "      <td>0.289</td>\n",
       "      <td>0.286</td>\n",
       "      <td>0.315</td>\n",
       "      <td>0.302</td>\n",
       "      <td>0.284</td>\n",
       "      <td>0.307</td>\n",
       "      <td>0.283</td>\n",
       "      <td>0.291</td>\n",
       "    </tr>\n",
       "    <tr>\n",
       "      <th>Q9Y6X5</th>\n",
       "      <th>AD</th>\n",
       "      <th>173</th>\n",
       "      <td>0.292</td>\n",
       "      <td>0.205</td>\n",
       "      <td>0.311</td>\n",
       "      <td>0.455</td>\n",
       "      <td>0.119</td>\n",
       "      <td>0.437</td>\n",
       "      <td>0.501</td>\n",
       "      <td>0.332</td>\n",
       "      <td>0.286</td>\n",
       "    </tr>\n",
       "    <tr>\n",
       "      <th>Q9Y6Y8;Q9Y6Y8-2</th>\n",
       "      <th>AD</th>\n",
       "      <th>197</th>\n",
       "      <td>0.183</td>\n",
       "      <td>0.160</td>\n",
       "      <td>0.159</td>\n",
       "      <td>0.178</td>\n",
       "      <td>0.172</td>\n",
       "      <td>0.157</td>\n",
       "      <td>0.174</td>\n",
       "      <td>0.157</td>\n",
       "      <td>0.162</td>\n",
       "    </tr>\n",
       "    <tr>\n",
       "      <th>Q9Y6Y9</th>\n",
       "      <th>AD</th>\n",
       "      <th>119</th>\n",
       "      <td>0.494</td>\n",
       "      <td>0.472</td>\n",
       "      <td>0.880</td>\n",
       "      <td>0.667</td>\n",
       "      <td>0.538</td>\n",
       "      <td>0.937</td>\n",
       "      <td>0.651</td>\n",
       "      <td>0.636</td>\n",
       "      <td>0.646</td>\n",
       "    </tr>\n",
       "    <tr>\n",
       "      <th>S4R3U6</th>\n",
       "      <th>AD</th>\n",
       "      <th>126</th>\n",
       "      <td>0.600</td>\n",
       "      <td>0.080</td>\n",
       "      <td>0.179</td>\n",
       "      <td>0.829</td>\n",
       "      <td>0.640</td>\n",
       "      <td>0.050</td>\n",
       "      <td>0.802</td>\n",
       "      <td>0.109</td>\n",
       "      <td>0.354</td>\n",
       "    </tr>\n",
       "  </tbody>\n",
       "</table>\n",
       "<p>1421 rows × 9 columns</p>\n",
       "</div>"
      ],
      "text/plain": [
       "                                                                        PI  \\\n",
       "                                                                    qvalue   \n",
       "protein groups                                     Source frequency          \n",
       "A0A024QZX5;A0A087X1N8;P35237                       AD     186        0.850   \n",
       "A0A024R0T9;K7ER74;P02655                           AD     195        0.093   \n",
       "A0A024R3W6;A0A024R412;O60462;O60462-2;O60462-3;... AD     174        0.158   \n",
       "A0A024R644;A0A0A0MRU5;A0A1B0GWI2;O75503            AD     196        0.644   \n",
       "A0A075B6H7                                         AD     91         0.307   \n",
       "...                                                                    ...   \n",
       "Q9Y6R7                                             AD     197        0.317   \n",
       "Q9Y6X5                                             AD     173        0.292   \n",
       "Q9Y6Y8;Q9Y6Y8-2                                    AD     197        0.183   \n",
       "Q9Y6Y9                                             AD     119        0.494   \n",
       "S4R3U6                                             AD     126        0.600   \n",
       "\n",
       "                                                                     TRKNN  \\\n",
       "                                                                    qvalue   \n",
       "protein groups                                     Source frequency          \n",
       "A0A024QZX5;A0A087X1N8;P35237                       AD     186        0.023   \n",
       "A0A024R0T9;K7ER74;P02655                           AD     195        0.071   \n",
       "A0A024R3W6;A0A024R412;O60462;O60462-2;O60462-3;... AD     174        0.394   \n",
       "A0A024R644;A0A0A0MRU5;A0A1B0GWI2;O75503            AD     196        0.396   \n",
       "A0A075B6H7                                         AD     91         0.048   \n",
       "...                                                                    ...   \n",
       "Q9Y6R7                                             AD     197        0.289   \n",
       "Q9Y6X5                                             AD     173        0.205   \n",
       "Q9Y6Y8;Q9Y6Y8-2                                    AD     197        0.160   \n",
       "Q9Y6Y9                                             AD     119        0.472   \n",
       "S4R3U6                                             AD     126        0.080   \n",
       "\n",
       "                                                                        CF  \\\n",
       "                                                                    qvalue   \n",
       "protein groups                                     Source frequency          \n",
       "A0A024QZX5;A0A087X1N8;P35237                       AD     186        0.023   \n",
       "A0A024R0T9;K7ER74;P02655                           AD     195        0.077   \n",
       "A0A024R3W6;A0A024R412;O60462;O60462-2;O60462-3;... AD     174        0.849   \n",
       "A0A024R644;A0A0A0MRU5;A0A1B0GWI2;O75503            AD     196        0.390   \n",
       "A0A075B6H7                                         AD     91         0.043   \n",
       "...                                                                    ...   \n",
       "Q9Y6R7                                             AD     197        0.286   \n",
       "Q9Y6X5                                             AD     173        0.311   \n",
       "Q9Y6Y8;Q9Y6Y8-2                                    AD     197        0.159   \n",
       "Q9Y6Y9                                             AD     119        0.880   \n",
       "S4R3U6                                             AD     126        0.179   \n",
       "\n",
       "                                                                    Median  \\\n",
       "                                                                    qvalue   \n",
       "protein groups                                     Source frequency          \n",
       "A0A024QZX5;A0A087X1N8;P35237                       AD     186        0.039   \n",
       "A0A024R0T9;K7ER74;P02655                           AD     195        0.087   \n",
       "A0A024R3W6;A0A024R412;O60462;O60462-2;O60462-3;... AD     174        0.832   \n",
       "A0A024R644;A0A0A0MRU5;A0A1B0GWI2;O75503            AD     196        0.418   \n",
       "A0A075B6H7                                         AD     91         0.124   \n",
       "...                                                                    ...   \n",
       "Q9Y6R7                                             AD     197        0.315   \n",
       "Q9Y6X5                                             AD     173        0.455   \n",
       "Q9Y6Y8;Q9Y6Y8-2                                    AD     197        0.178   \n",
       "Q9Y6Y9                                             AD     119        0.667   \n",
       "S4R3U6                                             AD     126        0.829   \n",
       "\n",
       "                                                                     QRILC  \\\n",
       "                                                                    qvalue   \n",
       "protein groups                                     Source frequency          \n",
       "A0A024QZX5;A0A087X1N8;P35237                       AD     186        0.068   \n",
       "A0A024R0T9;K7ER74;P02655                           AD     195        0.075   \n",
       "A0A024R3W6;A0A024R412;O60462;O60462-2;O60462-3;... AD     174        0.370   \n",
       "A0A024R644;A0A0A0MRU5;A0A1B0GWI2;O75503            AD     196        0.449   \n",
       "A0A075B6H7                                         AD     91         0.329   \n",
       "...                                                                    ...   \n",
       "Q9Y6R7                                             AD     197        0.302   \n",
       "Q9Y6X5                                             AD     173        0.119   \n",
       "Q9Y6Y8;Q9Y6Y8-2                                    AD     197        0.172   \n",
       "Q9Y6Y9                                             AD     119        0.538   \n",
       "S4R3U6                                             AD     126        0.640   \n",
       "\n",
       "                                                                       DAE  \\\n",
       "                                                                    qvalue   \n",
       "protein groups                                     Source frequency          \n",
       "A0A024QZX5;A0A087X1N8;P35237                       AD     186        0.019   \n",
       "A0A024R0T9;K7ER74;P02655                           AD     195        0.080   \n",
       "A0A024R3W6;A0A024R412;O60462;O60462-2;O60462-3;... AD     174        0.380   \n",
       "A0A024R644;A0A0A0MRU5;A0A1B0GWI2;O75503            AD     196        0.372   \n",
       "A0A075B6H7                                         AD     91         0.033   \n",
       "...                                                                    ...   \n",
       "Q9Y6R7                                             AD     197        0.284   \n",
       "Q9Y6X5                                             AD     173        0.437   \n",
       "Q9Y6Y8;Q9Y6Y8-2                                    AD     197        0.157   \n",
       "Q9Y6Y9                                             AD     119        0.937   \n",
       "S4R3U6                                             AD     126        0.050   \n",
       "\n",
       "                                                                      None  \\\n",
       "                                                                    qvalue   \n",
       "protein groups                                     Source frequency          \n",
       "A0A024QZX5;A0A087X1N8;P35237                       AD     186        0.043   \n",
       "A0A024R0T9;K7ER74;P02655                           AD     195        0.092   \n",
       "A0A024R3W6;A0A024R412;O60462;O60462-2;O60462-3;... AD     174        0.586   \n",
       "A0A024R644;A0A0A0MRU5;A0A1B0GWI2;O75503            AD     196        0.404   \n",
       "A0A075B6H7                                         AD     91         0.027   \n",
       "...                                                                    ...   \n",
       "Q9Y6R7                                             AD     197        0.307   \n",
       "Q9Y6X5                                             AD     173        0.501   \n",
       "Q9Y6Y8;Q9Y6Y8-2                                    AD     197        0.174   \n",
       "Q9Y6Y9                                             AD     119        0.651   \n",
       "S4R3U6                                             AD     126        0.802   \n",
       "\n",
       "                                                                       VAE  \\\n",
       "                                                                    qvalue   \n",
       "protein groups                                     Source frequency          \n",
       "A0A024QZX5;A0A087X1N8;P35237                       AD     186        0.019   \n",
       "A0A024R0T9;K7ER74;P02655                           AD     195        0.071   \n",
       "A0A024R3W6;A0A024R412;O60462;O60462-2;O60462-3;... AD     174        0.512   \n",
       "A0A024R644;A0A0A0MRU5;A0A1B0GWI2;O75503            AD     196        0.380   \n",
       "A0A075B6H7                                         AD     91         0.010   \n",
       "...                                                                    ...   \n",
       "Q9Y6R7                                             AD     197        0.283   \n",
       "Q9Y6X5                                             AD     173        0.332   \n",
       "Q9Y6Y8;Q9Y6Y8-2                                    AD     197        0.157   \n",
       "Q9Y6Y9                                             AD     119        0.636   \n",
       "S4R3U6                                             AD     126        0.109   \n",
       "\n",
       "                                                                        RF  \n",
       "                                                                    qvalue  \n",
       "protein groups                                     Source frequency         \n",
       "A0A024QZX5;A0A087X1N8;P35237                       AD     186        0.022  \n",
       "A0A024R0T9;K7ER74;P02655                           AD     195        0.073  \n",
       "A0A024R3W6;A0A024R412;O60462;O60462-2;O60462-3;... AD     174        0.567  \n",
       "A0A024R644;A0A0A0MRU5;A0A1B0GWI2;O75503            AD     196        0.394  \n",
       "A0A075B6H7                                         AD     91         0.006  \n",
       "...                                                                    ...  \n",
       "Q9Y6R7                                             AD     197        0.291  \n",
       "Q9Y6X5                                             AD     173        0.286  \n",
       "Q9Y6Y8;Q9Y6Y8-2                                    AD     197        0.162  \n",
       "Q9Y6Y9                                             AD     119        0.646  \n",
       "S4R3U6                                             AD     126        0.354  \n",
       "\n",
       "[1421 rows x 9 columns]"
      ]
     },
     "execution_count": 10,
     "metadata": {},
     "output_type": "execute_result"
    }
   ],
   "source": [
    "qvalues = scores.loc[pd.IndexSlice[:, args.target],\n",
    "                     pd.IndexSlice[:, 'qvalue']\n",
    "                     ].join(freq_feat\n",
    "                            ).set_index(\n",
    "    ('data', 'frequency'), append=True)\n",
    "qvalues.index.names = qvalues.index.names[:-1] + ['frequency']\n",
    "fname = args.out_folder / 'qvalues_target.pkl'\n",
    "files_out[fname.name] = fname.as_posix()\n",
    "qvalues.to_pickle(fname)\n",
    "qvalues.to_excel(writer, sheet_name='qvalues_all')\n",
    "qvalues"
   ]
  },
  {
   "cell_type": "markdown",
   "id": "d024e94d",
   "metadata": {
    "papermill": {
     "duration": 0.012201,
     "end_time": "2024-06-28T11:06:58.870597",
     "exception": false,
     "start_time": "2024-06-28T11:06:58.858396",
     "status": "completed"
    },
    "tags": []
   },
   "source": [
    "### Assemble pvalues"
   ]
  },
  {
   "cell_type": "code",
   "execution_count": 11,
   "id": "0b2488e4",
   "metadata": {
    "execution": {
     "iopub.execute_input": "2024-06-28T11:06:58.929408Z",
     "iopub.status.busy": "2024-06-28T11:06:58.928635Z",
     "iopub.status.idle": "2024-06-28T11:06:59.760489Z",
     "shell.execute_reply": "2024-06-28T11:06:59.759684Z"
    },
    "papermill": {
     "duration": 0.879313,
     "end_time": "2024-06-28T11:06:59.762415",
     "exception": false,
     "start_time": "2024-06-28T11:06:58.883102",
     "status": "completed"
    },
    "tags": [
     "hide-input"
    ]
   },
   "outputs": [
    {
     "data": {
      "text/html": [
       "<div>\n",
       "<style scoped>\n",
       "    .dataframe tbody tr th:only-of-type {\n",
       "        vertical-align: middle;\n",
       "    }\n",
       "\n",
       "    .dataframe tbody tr th {\n",
       "        vertical-align: top;\n",
       "    }\n",
       "\n",
       "    .dataframe thead tr th {\n",
       "        text-align: left;\n",
       "    }\n",
       "\n",
       "    .dataframe thead tr:last-of-type th {\n",
       "        text-align: right;\n",
       "    }\n",
       "</style>\n",
       "<table border=\"1\" class=\"dataframe\">\n",
       "  <thead>\n",
       "    <tr>\n",
       "      <th></th>\n",
       "      <th></th>\n",
       "      <th></th>\n",
       "      <th>PI</th>\n",
       "      <th>TRKNN</th>\n",
       "      <th>CF</th>\n",
       "      <th>Median</th>\n",
       "      <th>QRILC</th>\n",
       "      <th>DAE</th>\n",
       "      <th>None</th>\n",
       "      <th>VAE</th>\n",
       "      <th>RF</th>\n",
       "    </tr>\n",
       "    <tr>\n",
       "      <th></th>\n",
       "      <th></th>\n",
       "      <th></th>\n",
       "      <th>p-unc</th>\n",
       "      <th>p-unc</th>\n",
       "      <th>p-unc</th>\n",
       "      <th>p-unc</th>\n",
       "      <th>p-unc</th>\n",
       "      <th>p-unc</th>\n",
       "      <th>p-unc</th>\n",
       "      <th>p-unc</th>\n",
       "      <th>p-unc</th>\n",
       "    </tr>\n",
       "    <tr>\n",
       "      <th>protein groups</th>\n",
       "      <th>Source</th>\n",
       "      <th>frequency</th>\n",
       "      <th></th>\n",
       "      <th></th>\n",
       "      <th></th>\n",
       "      <th></th>\n",
       "      <th></th>\n",
       "      <th></th>\n",
       "      <th></th>\n",
       "      <th></th>\n",
       "      <th></th>\n",
       "    </tr>\n",
       "  </thead>\n",
       "  <tbody>\n",
       "    <tr>\n",
       "      <th>A0A024QZX5;A0A087X1N8;P35237</th>\n",
       "      <th>AD</th>\n",
       "      <th>186</th>\n",
       "      <td>0.759</td>\n",
       "      <td>0.008</td>\n",
       "      <td>0.008</td>\n",
       "      <td>0.012</td>\n",
       "      <td>0.026</td>\n",
       "      <td>0.007</td>\n",
       "      <td>0.015</td>\n",
       "      <td>0.007</td>\n",
       "      <td>0.007</td>\n",
       "    </tr>\n",
       "    <tr>\n",
       "      <th>A0A024R0T9;K7ER74;P02655</th>\n",
       "      <th>AD</th>\n",
       "      <th>195</th>\n",
       "      <td>0.036</td>\n",
       "      <td>0.031</td>\n",
       "      <td>0.034</td>\n",
       "      <td>0.033</td>\n",
       "      <td>0.029</td>\n",
       "      <td>0.037</td>\n",
       "      <td>0.037</td>\n",
       "      <td>0.032</td>\n",
       "      <td>0.031</td>\n",
       "    </tr>\n",
       "    <tr>\n",
       "      <th>A0A024R3W6;A0A024R412;O60462;O60462-2;O60462-3;O60462-4;O60462-5;Q7LBX6;X5D2Q8</th>\n",
       "      <th>AD</th>\n",
       "      <th>174</th>\n",
       "      <td>0.070</td>\n",
       "      <td>0.264</td>\n",
       "      <td>0.775</td>\n",
       "      <td>0.736</td>\n",
       "      <td>0.229</td>\n",
       "      <td>0.256</td>\n",
       "      <td>0.432</td>\n",
       "      <td>0.380</td>\n",
       "      <td>0.431</td>\n",
       "    </tr>\n",
       "    <tr>\n",
       "      <th>A0A024R644;A0A0A0MRU5;A0A1B0GWI2;O75503</th>\n",
       "      <th>AD</th>\n",
       "      <th>196</th>\n",
       "      <td>0.491</td>\n",
       "      <td>0.266</td>\n",
       "      <td>0.261</td>\n",
       "      <td>0.259</td>\n",
       "      <td>0.301</td>\n",
       "      <td>0.248</td>\n",
       "      <td>0.254</td>\n",
       "      <td>0.255</td>\n",
       "      <td>0.260</td>\n",
       "    </tr>\n",
       "    <tr>\n",
       "      <th>A0A075B6H7</th>\n",
       "      <th>AD</th>\n",
       "      <th>91</th>\n",
       "      <td>0.169</td>\n",
       "      <td>0.020</td>\n",
       "      <td>0.017</td>\n",
       "      <td>0.053</td>\n",
       "      <td>0.196</td>\n",
       "      <td>0.013</td>\n",
       "      <td>0.008</td>\n",
       "      <td>0.003</td>\n",
       "      <td>0.002</td>\n",
       "    </tr>\n",
       "    <tr>\n",
       "      <th>...</th>\n",
       "      <th>...</th>\n",
       "      <th>...</th>\n",
       "      <td>...</td>\n",
       "      <td>...</td>\n",
       "      <td>...</td>\n",
       "      <td>...</td>\n",
       "      <td>...</td>\n",
       "      <td>...</td>\n",
       "      <td>...</td>\n",
       "      <td>...</td>\n",
       "      <td>...</td>\n",
       "    </tr>\n",
       "    <tr>\n",
       "      <th>Q9Y6R7</th>\n",
       "      <th>AD</th>\n",
       "      <th>197</th>\n",
       "      <td>0.175</td>\n",
       "      <td>0.175</td>\n",
       "      <td>0.175</td>\n",
       "      <td>0.175</td>\n",
       "      <td>0.175</td>\n",
       "      <td>0.175</td>\n",
       "      <td>0.175</td>\n",
       "      <td>0.175</td>\n",
       "      <td>0.175</td>\n",
       "    </tr>\n",
       "    <tr>\n",
       "      <th>Q9Y6X5</th>\n",
       "      <th>AD</th>\n",
       "      <th>173</th>\n",
       "      <td>0.158</td>\n",
       "      <td>0.113</td>\n",
       "      <td>0.195</td>\n",
       "      <td>0.291</td>\n",
       "      <td>0.053</td>\n",
       "      <td>0.308</td>\n",
       "      <td>0.344</td>\n",
       "      <td>0.214</td>\n",
       "      <td>0.172</td>\n",
       "    </tr>\n",
       "    <tr>\n",
       "      <th>Q9Y6Y8;Q9Y6Y8-2</th>\n",
       "      <th>AD</th>\n",
       "      <th>197</th>\n",
       "      <td>0.083</td>\n",
       "      <td>0.083</td>\n",
       "      <td>0.083</td>\n",
       "      <td>0.083</td>\n",
       "      <td>0.083</td>\n",
       "      <td>0.083</td>\n",
       "      <td>0.083</td>\n",
       "      <td>0.083</td>\n",
       "      <td>0.083</td>\n",
       "    </tr>\n",
       "    <tr>\n",
       "      <th>Q9Y6Y9</th>\n",
       "      <th>AD</th>\n",
       "      <th>119</th>\n",
       "      <td>0.331</td>\n",
       "      <td>0.334</td>\n",
       "      <td>0.816</td>\n",
       "      <td>0.520</td>\n",
       "      <td>0.388</td>\n",
       "      <td>0.904</td>\n",
       "      <td>0.505</td>\n",
       "      <td>0.514</td>\n",
       "      <td>0.518</td>\n",
       "    </tr>\n",
       "    <tr>\n",
       "      <th>S4R3U6</th>\n",
       "      <th>AD</th>\n",
       "      <th>126</th>\n",
       "      <td>0.441</td>\n",
       "      <td>0.036</td>\n",
       "      <td>0.097</td>\n",
       "      <td>0.730</td>\n",
       "      <td>0.500</td>\n",
       "      <td>0.021</td>\n",
       "      <td>0.698</td>\n",
       "      <td>0.054</td>\n",
       "      <td>0.226</td>\n",
       "    </tr>\n",
       "  </tbody>\n",
       "</table>\n",
       "<p>1421 rows × 9 columns</p>\n",
       "</div>"
      ],
      "text/plain": [
       "                                                                       PI  \\\n",
       "                                                                    p-unc   \n",
       "protein groups                                     Source frequency         \n",
       "A0A024QZX5;A0A087X1N8;P35237                       AD     186       0.759   \n",
       "A0A024R0T9;K7ER74;P02655                           AD     195       0.036   \n",
       "A0A024R3W6;A0A024R412;O60462;O60462-2;O60462-3;... AD     174       0.070   \n",
       "A0A024R644;A0A0A0MRU5;A0A1B0GWI2;O75503            AD     196       0.491   \n",
       "A0A075B6H7                                         AD     91        0.169   \n",
       "...                                                                   ...   \n",
       "Q9Y6R7                                             AD     197       0.175   \n",
       "Q9Y6X5                                             AD     173       0.158   \n",
       "Q9Y6Y8;Q9Y6Y8-2                                    AD     197       0.083   \n",
       "Q9Y6Y9                                             AD     119       0.331   \n",
       "S4R3U6                                             AD     126       0.441   \n",
       "\n",
       "                                                                    TRKNN  \\\n",
       "                                                                    p-unc   \n",
       "protein groups                                     Source frequency         \n",
       "A0A024QZX5;A0A087X1N8;P35237                       AD     186       0.008   \n",
       "A0A024R0T9;K7ER74;P02655                           AD     195       0.031   \n",
       "A0A024R3W6;A0A024R412;O60462;O60462-2;O60462-3;... AD     174       0.264   \n",
       "A0A024R644;A0A0A0MRU5;A0A1B0GWI2;O75503            AD     196       0.266   \n",
       "A0A075B6H7                                         AD     91        0.020   \n",
       "...                                                                   ...   \n",
       "Q9Y6R7                                             AD     197       0.175   \n",
       "Q9Y6X5                                             AD     173       0.113   \n",
       "Q9Y6Y8;Q9Y6Y8-2                                    AD     197       0.083   \n",
       "Q9Y6Y9                                             AD     119       0.334   \n",
       "S4R3U6                                             AD     126       0.036   \n",
       "\n",
       "                                                                       CF  \\\n",
       "                                                                    p-unc   \n",
       "protein groups                                     Source frequency         \n",
       "A0A024QZX5;A0A087X1N8;P35237                       AD     186       0.008   \n",
       "A0A024R0T9;K7ER74;P02655                           AD     195       0.034   \n",
       "A0A024R3W6;A0A024R412;O60462;O60462-2;O60462-3;... AD     174       0.775   \n",
       "A0A024R644;A0A0A0MRU5;A0A1B0GWI2;O75503            AD     196       0.261   \n",
       "A0A075B6H7                                         AD     91        0.017   \n",
       "...                                                                   ...   \n",
       "Q9Y6R7                                             AD     197       0.175   \n",
       "Q9Y6X5                                             AD     173       0.195   \n",
       "Q9Y6Y8;Q9Y6Y8-2                                    AD     197       0.083   \n",
       "Q9Y6Y9                                             AD     119       0.816   \n",
       "S4R3U6                                             AD     126       0.097   \n",
       "\n",
       "                                                                    Median  \\\n",
       "                                                                     p-unc   \n",
       "protein groups                                     Source frequency          \n",
       "A0A024QZX5;A0A087X1N8;P35237                       AD     186        0.012   \n",
       "A0A024R0T9;K7ER74;P02655                           AD     195        0.033   \n",
       "A0A024R3W6;A0A024R412;O60462;O60462-2;O60462-3;... AD     174        0.736   \n",
       "A0A024R644;A0A0A0MRU5;A0A1B0GWI2;O75503            AD     196        0.259   \n",
       "A0A075B6H7                                         AD     91         0.053   \n",
       "...                                                                    ...   \n",
       "Q9Y6R7                                             AD     197        0.175   \n",
       "Q9Y6X5                                             AD     173        0.291   \n",
       "Q9Y6Y8;Q9Y6Y8-2                                    AD     197        0.083   \n",
       "Q9Y6Y9                                             AD     119        0.520   \n",
       "S4R3U6                                             AD     126        0.730   \n",
       "\n",
       "                                                                    QRILC  \\\n",
       "                                                                    p-unc   \n",
       "protein groups                                     Source frequency         \n",
       "A0A024QZX5;A0A087X1N8;P35237                       AD     186       0.026   \n",
       "A0A024R0T9;K7ER74;P02655                           AD     195       0.029   \n",
       "A0A024R3W6;A0A024R412;O60462;O60462-2;O60462-3;... AD     174       0.229   \n",
       "A0A024R644;A0A0A0MRU5;A0A1B0GWI2;O75503            AD     196       0.301   \n",
       "A0A075B6H7                                         AD     91        0.196   \n",
       "...                                                                   ...   \n",
       "Q9Y6R7                                             AD     197       0.175   \n",
       "Q9Y6X5                                             AD     173       0.053   \n",
       "Q9Y6Y8;Q9Y6Y8-2                                    AD     197       0.083   \n",
       "Q9Y6Y9                                             AD     119       0.388   \n",
       "S4R3U6                                             AD     126       0.500   \n",
       "\n",
       "                                                                      DAE  \\\n",
       "                                                                    p-unc   \n",
       "protein groups                                     Source frequency         \n",
       "A0A024QZX5;A0A087X1N8;P35237                       AD     186       0.007   \n",
       "A0A024R0T9;K7ER74;P02655                           AD     195       0.037   \n",
       "A0A024R3W6;A0A024R412;O60462;O60462-2;O60462-3;... AD     174       0.256   \n",
       "A0A024R644;A0A0A0MRU5;A0A1B0GWI2;O75503            AD     196       0.248   \n",
       "A0A075B6H7                                         AD     91        0.013   \n",
       "...                                                                   ...   \n",
       "Q9Y6R7                                             AD     197       0.175   \n",
       "Q9Y6X5                                             AD     173       0.308   \n",
       "Q9Y6Y8;Q9Y6Y8-2                                    AD     197       0.083   \n",
       "Q9Y6Y9                                             AD     119       0.904   \n",
       "S4R3U6                                             AD     126       0.021   \n",
       "\n",
       "                                                                     None  \\\n",
       "                                                                    p-unc   \n",
       "protein groups                                     Source frequency         \n",
       "A0A024QZX5;A0A087X1N8;P35237                       AD     186       0.015   \n",
       "A0A024R0T9;K7ER74;P02655                           AD     195       0.037   \n",
       "A0A024R3W6;A0A024R412;O60462;O60462-2;O60462-3;... AD     174       0.432   \n",
       "A0A024R644;A0A0A0MRU5;A0A1B0GWI2;O75503            AD     196       0.254   \n",
       "A0A075B6H7                                         AD     91        0.008   \n",
       "...                                                                   ...   \n",
       "Q9Y6R7                                             AD     197       0.175   \n",
       "Q9Y6X5                                             AD     173       0.344   \n",
       "Q9Y6Y8;Q9Y6Y8-2                                    AD     197       0.083   \n",
       "Q9Y6Y9                                             AD     119       0.505   \n",
       "S4R3U6                                             AD     126       0.698   \n",
       "\n",
       "                                                                      VAE  \\\n",
       "                                                                    p-unc   \n",
       "protein groups                                     Source frequency         \n",
       "A0A024QZX5;A0A087X1N8;P35237                       AD     186       0.007   \n",
       "A0A024R0T9;K7ER74;P02655                           AD     195       0.032   \n",
       "A0A024R3W6;A0A024R412;O60462;O60462-2;O60462-3;... AD     174       0.380   \n",
       "A0A024R644;A0A0A0MRU5;A0A1B0GWI2;O75503            AD     196       0.255   \n",
       "A0A075B6H7                                         AD     91        0.003   \n",
       "...                                                                   ...   \n",
       "Q9Y6R7                                             AD     197       0.175   \n",
       "Q9Y6X5                                             AD     173       0.214   \n",
       "Q9Y6Y8;Q9Y6Y8-2                                    AD     197       0.083   \n",
       "Q9Y6Y9                                             AD     119       0.514   \n",
       "S4R3U6                                             AD     126       0.054   \n",
       "\n",
       "                                                                       RF  \n",
       "                                                                    p-unc  \n",
       "protein groups                                     Source frequency        \n",
       "A0A024QZX5;A0A087X1N8;P35237                       AD     186       0.007  \n",
       "A0A024R0T9;K7ER74;P02655                           AD     195       0.031  \n",
       "A0A024R3W6;A0A024R412;O60462;O60462-2;O60462-3;... AD     174       0.431  \n",
       "A0A024R644;A0A0A0MRU5;A0A1B0GWI2;O75503            AD     196       0.260  \n",
       "A0A075B6H7                                         AD     91        0.002  \n",
       "...                                                                   ...  \n",
       "Q9Y6R7                                             AD     197       0.175  \n",
       "Q9Y6X5                                             AD     173       0.172  \n",
       "Q9Y6Y8;Q9Y6Y8-2                                    AD     197       0.083  \n",
       "Q9Y6Y9                                             AD     119       0.518  \n",
       "S4R3U6                                             AD     126       0.226  \n",
       "\n",
       "[1421 rows x 9 columns]"
      ]
     },
     "execution_count": 11,
     "metadata": {},
     "output_type": "execute_result"
    }
   ],
   "source": [
    "pvalues = scores.loc[pd.IndexSlice[:, args.target],\n",
    "                     pd.IndexSlice[:, 'p-unc']\n",
    "                     ].join(freq_feat\n",
    "                            ).set_index(\n",
    "    ('data', 'frequency'), append=True)\n",
    "pvalues.index.names = pvalues.index.names[:-1] + ['frequency']\n",
    "fname = args.out_folder / 'pvalues_target.pkl'\n",
    "files_out[fname.name] = fname.as_posix()\n",
    "pvalues.to_pickle(fname)\n",
    "pvalues.to_excel(writer, sheet_name='pvalues_all')\n",
    "pvalues"
   ]
  },
  {
   "cell_type": "markdown",
   "id": "b3b02e5a",
   "metadata": {
    "papermill": {
     "duration": 0.014731,
     "end_time": "2024-06-28T11:06:59.791993",
     "exception": false,
     "start_time": "2024-06-28T11:06:59.777262",
     "status": "completed"
    },
    "tags": []
   },
   "source": [
    "### Assemble rejected features"
   ]
  },
  {
   "cell_type": "code",
   "execution_count": 12,
   "id": "ec12c234",
   "metadata": {
    "execution": {
     "iopub.execute_input": "2024-06-28T11:06:59.823461Z",
     "iopub.status.busy": "2024-06-28T11:06:59.822526Z",
     "iopub.status.idle": "2024-06-28T11:06:59.855822Z",
     "shell.execute_reply": "2024-06-28T11:06:59.855020Z"
    },
    "papermill": {
     "duration": 0.050983,
     "end_time": "2024-06-28T11:06:59.857602",
     "exception": false,
     "start_time": "2024-06-28T11:06:59.806619",
     "status": "completed"
    },
    "tags": [
     "hide-input"
    ]
   },
   "outputs": [
    {
     "data": {
      "text/html": [
       "<div>\n",
       "<style scoped>\n",
       "    .dataframe tbody tr th:only-of-type {\n",
       "        vertical-align: middle;\n",
       "    }\n",
       "\n",
       "    .dataframe tbody tr th {\n",
       "        vertical-align: top;\n",
       "    }\n",
       "\n",
       "    .dataframe thead th {\n",
       "        text-align: right;\n",
       "    }\n",
       "</style>\n",
       "<table border=\"1\" class=\"dataframe\">\n",
       "  <thead>\n",
       "    <tr style=\"text-align: right;\">\n",
       "      <th></th>\n",
       "      <th>PI</th>\n",
       "      <th>TRKNN</th>\n",
       "      <th>CF</th>\n",
       "      <th>Median</th>\n",
       "      <th>QRILC</th>\n",
       "      <th>DAE</th>\n",
       "      <th>None</th>\n",
       "      <th>VAE</th>\n",
       "      <th>RF</th>\n",
       "    </tr>\n",
       "  </thead>\n",
       "  <tbody>\n",
       "    <tr>\n",
       "      <th>False</th>\n",
       "      <td>1,042</td>\n",
       "      <td>936</td>\n",
       "      <td>962</td>\n",
       "      <td>1,069</td>\n",
       "      <td>995</td>\n",
       "      <td>939</td>\n",
       "      <td>1,054</td>\n",
       "      <td>942</td>\n",
       "      <td>981</td>\n",
       "    </tr>\n",
       "    <tr>\n",
       "      <th>True</th>\n",
       "      <td>379</td>\n",
       "      <td>485</td>\n",
       "      <td>459</td>\n",
       "      <td>352</td>\n",
       "      <td>426</td>\n",
       "      <td>482</td>\n",
       "      <td>367</td>\n",
       "      <td>479</td>\n",
       "      <td>440</td>\n",
       "    </tr>\n",
       "  </tbody>\n",
       "</table>\n",
       "</div>"
      ],
      "text/plain": [
       "         PI  TRKNN  CF  Median  QRILC  DAE  None  VAE  RF\n",
       "False 1,042    936 962   1,069    995  939 1,054  942 981\n",
       "True    379    485 459     352    426  482   367  479 440"
      ]
     },
     "execution_count": 12,
     "metadata": {},
     "output_type": "execute_result"
    }
   ],
   "source": [
    "da_target = scores.loc[pd.IndexSlice[:, args.target],\n",
    "                       pd.IndexSlice[:, 'rejected']\n",
    "                       ].join(freq_feat\n",
    "                              ).set_index(\n",
    "    ('data', 'frequency'), append=True)\n",
    "da_target.index.names = da_target.index.names[:-1] + ['frequency']\n",
    "fname = args.out_folder / 'equality_rejected_target.pkl'\n",
    "files_out[fname.name] = fname.as_posix()\n",
    "da_target.to_pickle(fname)\n",
    "count_rejected = njab.pandas.combine_value_counts(da_target.droplevel(-1, axis=1))\n",
    "count_rejected.to_excel(writer, sheet_name='count_rejected')\n",
    "count_rejected"
   ]
  },
  {
   "cell_type": "markdown",
   "id": "85e2a9c8",
   "metadata": {
    "papermill": {
     "duration": 0.012889,
     "end_time": "2024-06-28T11:06:59.884255",
     "exception": false,
     "start_time": "2024-06-28T11:06:59.871366",
     "status": "completed"
    },
    "tags": []
   },
   "source": [
    "### Tabulate rejected decisions by method:"
   ]
  },
  {
   "cell_type": "code",
   "execution_count": 13,
   "id": "c9e0a7b4",
   "metadata": {
    "execution": {
     "iopub.execute_input": "2024-06-28T11:06:59.913689Z",
     "iopub.status.busy": "2024-06-28T11:06:59.912898Z",
     "iopub.status.idle": "2024-06-28T11:06:59.958267Z",
     "shell.execute_reply": "2024-06-28T11:06:59.957545Z"
    },
    "papermill": {
     "duration": 0.062127,
     "end_time": "2024-06-28T11:06:59.960026",
     "exception": false,
     "start_time": "2024-06-28T11:06:59.897899",
     "status": "completed"
    },
    "tags": [
     "hide-input"
    ]
   },
   "outputs": [
    {
     "data": {
      "text/html": [
       "<div>\n",
       "<style scoped>\n",
       "    .dataframe tbody tr th:only-of-type {\n",
       "        vertical-align: middle;\n",
       "    }\n",
       "\n",
       "    .dataframe tbody tr th {\n",
       "        vertical-align: top;\n",
       "    }\n",
       "\n",
       "    .dataframe thead th {\n",
       "        text-align: right;\n",
       "    }\n",
       "</style>\n",
       "<table border=\"1\" class=\"dataframe\">\n",
       "  <thead>\n",
       "    <tr style=\"text-align: right;\">\n",
       "      <th></th>\n",
       "      <th>PI</th>\n",
       "      <th>TRKNN</th>\n",
       "      <th>CF</th>\n",
       "      <th>Median</th>\n",
       "      <th>QRILC</th>\n",
       "      <th>DAE</th>\n",
       "      <th>None</th>\n",
       "      <th>VAE</th>\n",
       "      <th>RF</th>\n",
       "    </tr>\n",
       "  </thead>\n",
       "  <tbody>\n",
       "    <tr>\n",
       "      <th>False</th>\n",
       "      <td>1,042</td>\n",
       "      <td>936</td>\n",
       "      <td>962</td>\n",
       "      <td>1,069</td>\n",
       "      <td>995</td>\n",
       "      <td>939</td>\n",
       "      <td>1,054</td>\n",
       "      <td>942</td>\n",
       "      <td>981</td>\n",
       "    </tr>\n",
       "    <tr>\n",
       "      <th>True</th>\n",
       "      <td>379</td>\n",
       "      <td>485</td>\n",
       "      <td>459</td>\n",
       "      <td>352</td>\n",
       "      <td>426</td>\n",
       "      <td>482</td>\n",
       "      <td>367</td>\n",
       "      <td>479</td>\n",
       "      <td>440</td>\n",
       "    </tr>\n",
       "  </tbody>\n",
       "</table>\n",
       "</div>"
      ],
      "text/plain": [
       "         PI  TRKNN  CF  Median  QRILC  DAE  None  VAE  RF\n",
       "False 1,042    936 962   1,069    995  939 1,054  942 981\n",
       "True    379    485 459     352    426  482   367  479 440"
      ]
     },
     "execution_count": 13,
     "metadata": {},
     "output_type": "execute_result"
    }
   ],
   "source": [
    "# ! This uses implicitly that RSN is not available for some protein groups\n",
    "# ! Make an explicit list of the 313 protein groups available in original data\n",
    "mask_common = da_target.notna().all(axis=1)\n",
    "count_rejected_common = njab.pandas.combine_value_counts(da_target.loc[mask_common].droplevel(-1, axis=1))\n",
    "count_rejected_common.to_excel(writer, sheet_name='count_rejected_common')\n",
    "count_rejected_common"
   ]
  },
  {
   "cell_type": "markdown",
   "id": "4bf8e3e5",
   "metadata": {
    "papermill": {
     "duration": 0.027065,
     "end_time": "2024-06-28T11:07:00.014751",
     "exception": false,
     "start_time": "2024-06-28T11:06:59.987686",
     "status": "completed"
    },
    "tags": []
   },
   "source": [
    "### Tabulate rejected decisions by method for newly included features (if available)"
   ]
  },
  {
   "cell_type": "code",
   "execution_count": 14,
   "id": "af1a13cb",
   "metadata": {
    "execution": {
     "iopub.execute_input": "2024-06-28T11:07:00.058521Z",
     "iopub.status.busy": "2024-06-28T11:07:00.058163Z",
     "iopub.status.idle": "2024-06-28T11:07:00.090558Z",
     "shell.execute_reply": "2024-06-28T11:07:00.089749Z"
    },
    "papermill": {
     "duration": 0.05021,
     "end_time": "2024-06-28T11:07:00.092252",
     "exception": false,
     "start_time": "2024-06-28T11:07:00.042042",
     "status": "completed"
    },
    "tags": [
     "hide-input"
    ]
   },
   "outputs": [
    {
     "data": {
      "text/html": [
       "<div>\n",
       "<style scoped>\n",
       "    .dataframe tbody tr th:only-of-type {\n",
       "        vertical-align: middle;\n",
       "    }\n",
       "\n",
       "    .dataframe tbody tr th {\n",
       "        vertical-align: top;\n",
       "    }\n",
       "\n",
       "    .dataframe thead th {\n",
       "        text-align: right;\n",
       "    }\n",
       "</style>\n",
       "<table border=\"1\" class=\"dataframe\">\n",
       "  <thead>\n",
       "    <tr style=\"text-align: right;\">\n",
       "      <th></th>\n",
       "      <th>PI</th>\n",
       "      <th>TRKNN</th>\n",
       "      <th>CF</th>\n",
       "      <th>Median</th>\n",
       "      <th>QRILC</th>\n",
       "      <th>DAE</th>\n",
       "      <th>None</th>\n",
       "      <th>VAE</th>\n",
       "      <th>RF</th>\n",
       "    </tr>\n",
       "  </thead>\n",
       "  <tbody>\n",
       "  </tbody>\n",
       "</table>\n",
       "</div>"
      ],
      "text/plain": [
       "Empty DataFrame\n",
       "Columns: [PI, TRKNN, CF, Median, QRILC, DAE, None, VAE, RF]\n",
       "Index: []"
      ]
     },
     "execution_count": 14,
     "metadata": {},
     "output_type": "execute_result"
    }
   ],
   "source": [
    "count_rejected_new = njab.pandas.combine_value_counts(da_target.loc[~mask_common].droplevel(-1, axis=1))\n",
    "count_rejected_new.to_excel(writer, sheet_name='count_rejected_new')\n",
    "count_rejected_new"
   ]
  },
  {
   "cell_type": "markdown",
   "id": "db57d9f0",
   "metadata": {
    "papermill": {
     "duration": 0.026322,
     "end_time": "2024-06-28T11:07:00.145496",
     "exception": false,
     "start_time": "2024-06-28T11:07:00.119174",
     "status": "completed"
    },
    "tags": []
   },
   "source": [
    "### Tabulate rejected decisions by method for all features"
   ]
  },
  {
   "cell_type": "code",
   "execution_count": 15,
   "id": "f76e8772",
   "metadata": {
    "execution": {
     "iopub.execute_input": "2024-06-28T11:07:00.205212Z",
     "iopub.status.busy": "2024-06-28T11:07:00.204854Z",
     "iopub.status.idle": "2024-06-28T11:07:01.620600Z",
     "shell.execute_reply": "2024-06-28T11:07:01.619615Z"
    },
    "papermill": {
     "duration": 1.44599,
     "end_time": "2024-06-28T11:07:01.622727",
     "exception": false,
     "start_time": "2024-06-28T11:07:00.176737",
     "status": "completed"
    },
    "tags": [
     "hide-input"
    ]
   },
   "outputs": [
    {
     "name": "stderr",
     "output_type": "stream",
     "text": [
      "root - INFO     Written to sheet 'equality_rejected_all' in excel file.\n"
     ]
    },
    {
     "data": {
      "text/html": [
       "<div>\n",
       "<style scoped>\n",
       "    .dataframe tbody tr th:only-of-type {\n",
       "        vertical-align: middle;\n",
       "    }\n",
       "\n",
       "    .dataframe tbody tr th {\n",
       "        vertical-align: top;\n",
       "    }\n",
       "\n",
       "    .dataframe thead tr th {\n",
       "        text-align: left;\n",
       "    }\n",
       "\n",
       "    .dataframe thead tr:last-of-type th {\n",
       "        text-align: right;\n",
       "    }\n",
       "</style>\n",
       "<table border=\"1\" class=\"dataframe\">\n",
       "  <thead>\n",
       "    <tr>\n",
       "      <th></th>\n",
       "      <th></th>\n",
       "      <th></th>\n",
       "      <th>PI</th>\n",
       "      <th>TRKNN</th>\n",
       "      <th>CF</th>\n",
       "      <th>Median</th>\n",
       "      <th>QRILC</th>\n",
       "      <th>DAE</th>\n",
       "      <th>None</th>\n",
       "      <th>VAE</th>\n",
       "      <th>RF</th>\n",
       "    </tr>\n",
       "    <tr>\n",
       "      <th></th>\n",
       "      <th></th>\n",
       "      <th></th>\n",
       "      <th>rejected</th>\n",
       "      <th>rejected</th>\n",
       "      <th>rejected</th>\n",
       "      <th>rejected</th>\n",
       "      <th>rejected</th>\n",
       "      <th>rejected</th>\n",
       "      <th>rejected</th>\n",
       "      <th>rejected</th>\n",
       "      <th>rejected</th>\n",
       "    </tr>\n",
       "    <tr>\n",
       "      <th>protein groups</th>\n",
       "      <th>Source</th>\n",
       "      <th>frequency</th>\n",
       "      <th></th>\n",
       "      <th></th>\n",
       "      <th></th>\n",
       "      <th></th>\n",
       "      <th></th>\n",
       "      <th></th>\n",
       "      <th></th>\n",
       "      <th></th>\n",
       "      <th></th>\n",
       "    </tr>\n",
       "  </thead>\n",
       "  <tbody>\n",
       "    <tr>\n",
       "      <th>A0A024QZX5;A0A087X1N8;P35237</th>\n",
       "      <th>AD</th>\n",
       "      <th>186</th>\n",
       "      <td>False</td>\n",
       "      <td>True</td>\n",
       "      <td>True</td>\n",
       "      <td>True</td>\n",
       "      <td>False</td>\n",
       "      <td>True</td>\n",
       "      <td>True</td>\n",
       "      <td>True</td>\n",
       "      <td>True</td>\n",
       "    </tr>\n",
       "    <tr>\n",
       "      <th>A0A024R0T9;K7ER74;P02655</th>\n",
       "      <th>AD</th>\n",
       "      <th>195</th>\n",
       "      <td>False</td>\n",
       "      <td>False</td>\n",
       "      <td>False</td>\n",
       "      <td>False</td>\n",
       "      <td>False</td>\n",
       "      <td>False</td>\n",
       "      <td>False</td>\n",
       "      <td>False</td>\n",
       "      <td>False</td>\n",
       "    </tr>\n",
       "    <tr>\n",
       "      <th>A0A024R3W6;A0A024R412;O60462;O60462-2;O60462-3;O60462-4;O60462-5;Q7LBX6;X5D2Q8</th>\n",
       "      <th>AD</th>\n",
       "      <th>174</th>\n",
       "      <td>False</td>\n",
       "      <td>False</td>\n",
       "      <td>False</td>\n",
       "      <td>False</td>\n",
       "      <td>False</td>\n",
       "      <td>False</td>\n",
       "      <td>False</td>\n",
       "      <td>False</td>\n",
       "      <td>False</td>\n",
       "    </tr>\n",
       "    <tr>\n",
       "      <th>A0A024R644;A0A0A0MRU5;A0A1B0GWI2;O75503</th>\n",
       "      <th>AD</th>\n",
       "      <th>196</th>\n",
       "      <td>False</td>\n",
       "      <td>False</td>\n",
       "      <td>False</td>\n",
       "      <td>False</td>\n",
       "      <td>False</td>\n",
       "      <td>False</td>\n",
       "      <td>False</td>\n",
       "      <td>False</td>\n",
       "      <td>False</td>\n",
       "    </tr>\n",
       "    <tr>\n",
       "      <th>A0A075B6H7</th>\n",
       "      <th>AD</th>\n",
       "      <th>91</th>\n",
       "      <td>False</td>\n",
       "      <td>True</td>\n",
       "      <td>True</td>\n",
       "      <td>False</td>\n",
       "      <td>False</td>\n",
       "      <td>True</td>\n",
       "      <td>True</td>\n",
       "      <td>True</td>\n",
       "      <td>True</td>\n",
       "    </tr>\n",
       "    <tr>\n",
       "      <th>...</th>\n",
       "      <th>...</th>\n",
       "      <th>...</th>\n",
       "      <td>...</td>\n",
       "      <td>...</td>\n",
       "      <td>...</td>\n",
       "      <td>...</td>\n",
       "      <td>...</td>\n",
       "      <td>...</td>\n",
       "      <td>...</td>\n",
       "      <td>...</td>\n",
       "      <td>...</td>\n",
       "    </tr>\n",
       "    <tr>\n",
       "      <th>Q9Y6R7</th>\n",
       "      <th>AD</th>\n",
       "      <th>197</th>\n",
       "      <td>False</td>\n",
       "      <td>False</td>\n",
       "      <td>False</td>\n",
       "      <td>False</td>\n",
       "      <td>False</td>\n",
       "      <td>False</td>\n",
       "      <td>False</td>\n",
       "      <td>False</td>\n",
       "      <td>False</td>\n",
       "    </tr>\n",
       "    <tr>\n",
       "      <th>Q9Y6X5</th>\n",
       "      <th>AD</th>\n",
       "      <th>173</th>\n",
       "      <td>False</td>\n",
       "      <td>False</td>\n",
       "      <td>False</td>\n",
       "      <td>False</td>\n",
       "      <td>False</td>\n",
       "      <td>False</td>\n",
       "      <td>False</td>\n",
       "      <td>False</td>\n",
       "      <td>False</td>\n",
       "    </tr>\n",
       "    <tr>\n",
       "      <th>Q9Y6Y8;Q9Y6Y8-2</th>\n",
       "      <th>AD</th>\n",
       "      <th>197</th>\n",
       "      <td>False</td>\n",
       "      <td>False</td>\n",
       "      <td>False</td>\n",
       "      <td>False</td>\n",
       "      <td>False</td>\n",
       "      <td>False</td>\n",
       "      <td>False</td>\n",
       "      <td>False</td>\n",
       "      <td>False</td>\n",
       "    </tr>\n",
       "    <tr>\n",
       "      <th>Q9Y6Y9</th>\n",
       "      <th>AD</th>\n",
       "      <th>119</th>\n",
       "      <td>False</td>\n",
       "      <td>False</td>\n",
       "      <td>False</td>\n",
       "      <td>False</td>\n",
       "      <td>False</td>\n",
       "      <td>False</td>\n",
       "      <td>False</td>\n",
       "      <td>False</td>\n",
       "      <td>False</td>\n",
       "    </tr>\n",
       "    <tr>\n",
       "      <th>S4R3U6</th>\n",
       "      <th>AD</th>\n",
       "      <th>126</th>\n",
       "      <td>False</td>\n",
       "      <td>False</td>\n",
       "      <td>False</td>\n",
       "      <td>False</td>\n",
       "      <td>False</td>\n",
       "      <td>False</td>\n",
       "      <td>False</td>\n",
       "      <td>False</td>\n",
       "      <td>False</td>\n",
       "    </tr>\n",
       "  </tbody>\n",
       "</table>\n",
       "<p>1421 rows × 9 columns</p>\n",
       "</div>"
      ],
      "text/plain": [
       "                                                                          PI  \\\n",
       "                                                                    rejected   \n",
       "protein groups                                     Source frequency            \n",
       "A0A024QZX5;A0A087X1N8;P35237                       AD     186          False   \n",
       "A0A024R0T9;K7ER74;P02655                           AD     195          False   \n",
       "A0A024R3W6;A0A024R412;O60462;O60462-2;O60462-3;... AD     174          False   \n",
       "A0A024R644;A0A0A0MRU5;A0A1B0GWI2;O75503            AD     196          False   \n",
       "A0A075B6H7                                         AD     91           False   \n",
       "...                                                                      ...   \n",
       "Q9Y6R7                                             AD     197          False   \n",
       "Q9Y6X5                                             AD     173          False   \n",
       "Q9Y6Y8;Q9Y6Y8-2                                    AD     197          False   \n",
       "Q9Y6Y9                                             AD     119          False   \n",
       "S4R3U6                                             AD     126          False   \n",
       "\n",
       "                                                                       TRKNN  \\\n",
       "                                                                    rejected   \n",
       "protein groups                                     Source frequency            \n",
       "A0A024QZX5;A0A087X1N8;P35237                       AD     186           True   \n",
       "A0A024R0T9;K7ER74;P02655                           AD     195          False   \n",
       "A0A024R3W6;A0A024R412;O60462;O60462-2;O60462-3;... AD     174          False   \n",
       "A0A024R644;A0A0A0MRU5;A0A1B0GWI2;O75503            AD     196          False   \n",
       "A0A075B6H7                                         AD     91            True   \n",
       "...                                                                      ...   \n",
       "Q9Y6R7                                             AD     197          False   \n",
       "Q9Y6X5                                             AD     173          False   \n",
       "Q9Y6Y8;Q9Y6Y8-2                                    AD     197          False   \n",
       "Q9Y6Y9                                             AD     119          False   \n",
       "S4R3U6                                             AD     126          False   \n",
       "\n",
       "                                                                          CF  \\\n",
       "                                                                    rejected   \n",
       "protein groups                                     Source frequency            \n",
       "A0A024QZX5;A0A087X1N8;P35237                       AD     186           True   \n",
       "A0A024R0T9;K7ER74;P02655                           AD     195          False   \n",
       "A0A024R3W6;A0A024R412;O60462;O60462-2;O60462-3;... AD     174          False   \n",
       "A0A024R644;A0A0A0MRU5;A0A1B0GWI2;O75503            AD     196          False   \n",
       "A0A075B6H7                                         AD     91            True   \n",
       "...                                                                      ...   \n",
       "Q9Y6R7                                             AD     197          False   \n",
       "Q9Y6X5                                             AD     173          False   \n",
       "Q9Y6Y8;Q9Y6Y8-2                                    AD     197          False   \n",
       "Q9Y6Y9                                             AD     119          False   \n",
       "S4R3U6                                             AD     126          False   \n",
       "\n",
       "                                                                      Median  \\\n",
       "                                                                    rejected   \n",
       "protein groups                                     Source frequency            \n",
       "A0A024QZX5;A0A087X1N8;P35237                       AD     186           True   \n",
       "A0A024R0T9;K7ER74;P02655                           AD     195          False   \n",
       "A0A024R3W6;A0A024R412;O60462;O60462-2;O60462-3;... AD     174          False   \n",
       "A0A024R644;A0A0A0MRU5;A0A1B0GWI2;O75503            AD     196          False   \n",
       "A0A075B6H7                                         AD     91           False   \n",
       "...                                                                      ...   \n",
       "Q9Y6R7                                             AD     197          False   \n",
       "Q9Y6X5                                             AD     173          False   \n",
       "Q9Y6Y8;Q9Y6Y8-2                                    AD     197          False   \n",
       "Q9Y6Y9                                             AD     119          False   \n",
       "S4R3U6                                             AD     126          False   \n",
       "\n",
       "                                                                       QRILC  \\\n",
       "                                                                    rejected   \n",
       "protein groups                                     Source frequency            \n",
       "A0A024QZX5;A0A087X1N8;P35237                       AD     186          False   \n",
       "A0A024R0T9;K7ER74;P02655                           AD     195          False   \n",
       "A0A024R3W6;A0A024R412;O60462;O60462-2;O60462-3;... AD     174          False   \n",
       "A0A024R644;A0A0A0MRU5;A0A1B0GWI2;O75503            AD     196          False   \n",
       "A0A075B6H7                                         AD     91           False   \n",
       "...                                                                      ...   \n",
       "Q9Y6R7                                             AD     197          False   \n",
       "Q9Y6X5                                             AD     173          False   \n",
       "Q9Y6Y8;Q9Y6Y8-2                                    AD     197          False   \n",
       "Q9Y6Y9                                             AD     119          False   \n",
       "S4R3U6                                             AD     126          False   \n",
       "\n",
       "                                                                         DAE  \\\n",
       "                                                                    rejected   \n",
       "protein groups                                     Source frequency            \n",
       "A0A024QZX5;A0A087X1N8;P35237                       AD     186           True   \n",
       "A0A024R0T9;K7ER74;P02655                           AD     195          False   \n",
       "A0A024R3W6;A0A024R412;O60462;O60462-2;O60462-3;... AD     174          False   \n",
       "A0A024R644;A0A0A0MRU5;A0A1B0GWI2;O75503            AD     196          False   \n",
       "A0A075B6H7                                         AD     91            True   \n",
       "...                                                                      ...   \n",
       "Q9Y6R7                                             AD     197          False   \n",
       "Q9Y6X5                                             AD     173          False   \n",
       "Q9Y6Y8;Q9Y6Y8-2                                    AD     197          False   \n",
       "Q9Y6Y9                                             AD     119          False   \n",
       "S4R3U6                                             AD     126          False   \n",
       "\n",
       "                                                                        None  \\\n",
       "                                                                    rejected   \n",
       "protein groups                                     Source frequency            \n",
       "A0A024QZX5;A0A087X1N8;P35237                       AD     186           True   \n",
       "A0A024R0T9;K7ER74;P02655                           AD     195          False   \n",
       "A0A024R3W6;A0A024R412;O60462;O60462-2;O60462-3;... AD     174          False   \n",
       "A0A024R644;A0A0A0MRU5;A0A1B0GWI2;O75503            AD     196          False   \n",
       "A0A075B6H7                                         AD     91            True   \n",
       "...                                                                      ...   \n",
       "Q9Y6R7                                             AD     197          False   \n",
       "Q9Y6X5                                             AD     173          False   \n",
       "Q9Y6Y8;Q9Y6Y8-2                                    AD     197          False   \n",
       "Q9Y6Y9                                             AD     119          False   \n",
       "S4R3U6                                             AD     126          False   \n",
       "\n",
       "                                                                         VAE  \\\n",
       "                                                                    rejected   \n",
       "protein groups                                     Source frequency            \n",
       "A0A024QZX5;A0A087X1N8;P35237                       AD     186           True   \n",
       "A0A024R0T9;K7ER74;P02655                           AD     195          False   \n",
       "A0A024R3W6;A0A024R412;O60462;O60462-2;O60462-3;... AD     174          False   \n",
       "A0A024R644;A0A0A0MRU5;A0A1B0GWI2;O75503            AD     196          False   \n",
       "A0A075B6H7                                         AD     91            True   \n",
       "...                                                                      ...   \n",
       "Q9Y6R7                                             AD     197          False   \n",
       "Q9Y6X5                                             AD     173          False   \n",
       "Q9Y6Y8;Q9Y6Y8-2                                    AD     197          False   \n",
       "Q9Y6Y9                                             AD     119          False   \n",
       "S4R3U6                                             AD     126          False   \n",
       "\n",
       "                                                                          RF  \n",
       "                                                                    rejected  \n",
       "protein groups                                     Source frequency           \n",
       "A0A024QZX5;A0A087X1N8;P35237                       AD     186           True  \n",
       "A0A024R0T9;K7ER74;P02655                           AD     195          False  \n",
       "A0A024R3W6;A0A024R412;O60462;O60462-2;O60462-3;... AD     174          False  \n",
       "A0A024R644;A0A0A0MRU5;A0A1B0GWI2;O75503            AD     196          False  \n",
       "A0A075B6H7                                         AD     91            True  \n",
       "...                                                                      ...  \n",
       "Q9Y6R7                                             AD     197          False  \n",
       "Q9Y6X5                                             AD     173          False  \n",
       "Q9Y6Y8;Q9Y6Y8-2                                    AD     197          False  \n",
       "Q9Y6Y9                                             AD     119          False  \n",
       "S4R3U6                                             AD     126          False  \n",
       "\n",
       "[1421 rows x 9 columns]"
      ]
     },
     "execution_count": 15,
     "metadata": {},
     "output_type": "execute_result"
    }
   ],
   "source": [
    "da_target.to_excel(writer, sheet_name='equality_rejected_all')\n",
    "logger.info(\"Written to sheet 'equality_rejected_all' in excel file.\")\n",
    "da_target"
   ]
  },
  {
   "cell_type": "markdown",
   "id": "e1ed7b09",
   "metadata": {
    "papermill": {
     "duration": 0.02205,
     "end_time": "2024-06-28T11:07:01.661315",
     "exception": false,
     "start_time": "2024-06-28T11:07:01.639265",
     "status": "completed"
    },
    "tags": []
   },
   "source": [
    "Tabulate number of equal decison by method (`True`) to the ones with varying \n",
    "decision depending on the method (`False`)"
   ]
  },
  {
   "cell_type": "code",
   "execution_count": 16,
   "id": "9fa40ea2",
   "metadata": {
    "execution": {
     "iopub.execute_input": "2024-06-28T11:07:01.697300Z",
     "iopub.status.busy": "2024-06-28T11:07:01.696505Z",
     "iopub.status.idle": "2024-06-28T11:07:01.725006Z",
     "shell.execute_reply": "2024-06-28T11:07:01.723998Z"
    },
    "papermill": {
     "duration": 0.050801,
     "end_time": "2024-06-28T11:07:01.728236",
     "exception": false,
     "start_time": "2024-06-28T11:07:01.677435",
     "status": "completed"
    },
    "tags": [
     "hide-input"
    ]
   },
   "outputs": [
    {
     "data": {
      "text/plain": [
       "True    1,108\n",
       "False     313\n",
       "Name: count, dtype: int64"
      ]
     },
     "execution_count": 16,
     "metadata": {},
     "output_type": "execute_result"
    }
   ],
   "source": [
    "da_target_same = (da_target.sum(axis=1) == 0) | da_target.all(axis=1)\n",
    "da_target_same.value_counts()"
   ]
  },
  {
   "cell_type": "markdown",
   "id": "01bc6744",
   "metadata": {
    "papermill": {
     "duration": 0.016346,
     "end_time": "2024-06-28T11:07:01.762088",
     "exception": false,
     "start_time": "2024-06-28T11:07:01.745742",
     "status": "completed"
    },
    "tags": []
   },
   "source": [
    "List frequency of features with varying decisions"
   ]
  },
  {
   "cell_type": "code",
   "execution_count": 17,
   "id": "22c37698",
   "metadata": {
    "execution": {
     "iopub.execute_input": "2024-06-28T11:07:01.803853Z",
     "iopub.status.busy": "2024-06-28T11:07:01.803445Z",
     "iopub.status.idle": "2024-06-28T11:07:01.830332Z",
     "shell.execute_reply": "2024-06-28T11:07:01.829598Z"
    },
    "papermill": {
     "duration": 0.054508,
     "end_time": "2024-06-28T11:07:01.832267",
     "exception": false,
     "start_time": "2024-06-28T11:07:01.777759",
     "status": "completed"
    },
    "tags": [
     "hide-input"
    ]
   },
   "outputs": [
    {
     "data": {
      "text/html": [
       "<div>\n",
       "<style scoped>\n",
       "    .dataframe tbody tr th:only-of-type {\n",
       "        vertical-align: middle;\n",
       "    }\n",
       "\n",
       "    .dataframe tbody tr th {\n",
       "        vertical-align: top;\n",
       "    }\n",
       "\n",
       "    .dataframe thead th {\n",
       "        text-align: right;\n",
       "    }\n",
       "</style>\n",
       "<table border=\"1\" class=\"dataframe\">\n",
       "  <thead>\n",
       "    <tr style=\"text-align: right;\">\n",
       "      <th></th>\n",
       "      <th></th>\n",
       "      <th>frequency</th>\n",
       "    </tr>\n",
       "    <tr>\n",
       "      <th>protein groups</th>\n",
       "      <th>Source</th>\n",
       "      <th></th>\n",
       "    </tr>\n",
       "  </thead>\n",
       "  <tbody>\n",
       "    <tr>\n",
       "      <th>A0A024QZX5;A0A087X1N8;P35237</th>\n",
       "      <th>AD</th>\n",
       "      <td>186</td>\n",
       "    </tr>\n",
       "    <tr>\n",
       "      <th>A0A075B6H7</th>\n",
       "      <th>AD</th>\n",
       "      <td>91</td>\n",
       "    </tr>\n",
       "    <tr>\n",
       "      <th>A0A075B6H9</th>\n",
       "      <th>AD</th>\n",
       "      <td>189</td>\n",
       "    </tr>\n",
       "    <tr>\n",
       "      <th>A0A075B6I0</th>\n",
       "      <th>AD</th>\n",
       "      <td>194</td>\n",
       "    </tr>\n",
       "    <tr>\n",
       "      <th>A0A075B6J9</th>\n",
       "      <th>AD</th>\n",
       "      <td>156</td>\n",
       "    </tr>\n",
       "    <tr>\n",
       "      <th>...</th>\n",
       "      <th>...</th>\n",
       "      <td>...</td>\n",
       "    </tr>\n",
       "    <tr>\n",
       "      <th>Q9ULZ9</th>\n",
       "      <th>AD</th>\n",
       "      <td>171</td>\n",
       "    </tr>\n",
       "    <tr>\n",
       "      <th>Q9UP79</th>\n",
       "      <th>AD</th>\n",
       "      <td>135</td>\n",
       "    </tr>\n",
       "    <tr>\n",
       "      <th>Q9UPU3</th>\n",
       "      <th>AD</th>\n",
       "      <td>163</td>\n",
       "    </tr>\n",
       "    <tr>\n",
       "      <th>Q9UQ52</th>\n",
       "      <th>AD</th>\n",
       "      <td>188</td>\n",
       "    </tr>\n",
       "    <tr>\n",
       "      <th>Q9Y6C2</th>\n",
       "      <th>AD</th>\n",
       "      <td>119</td>\n",
       "    </tr>\n",
       "  </tbody>\n",
       "</table>\n",
       "<p>313 rows × 1 columns</p>\n",
       "</div>"
      ],
      "text/plain": [
       "                                     frequency\n",
       "protein groups               Source           \n",
       "A0A024QZX5;A0A087X1N8;P35237 AD            186\n",
       "A0A075B6H7                   AD             91\n",
       "A0A075B6H9                   AD            189\n",
       "A0A075B6I0                   AD            194\n",
       "A0A075B6J9                   AD            156\n",
       "...                                        ...\n",
       "Q9ULZ9                       AD            171\n",
       "Q9UP79                       AD            135\n",
       "Q9UPU3                       AD            163\n",
       "Q9UQ52                       AD            188\n",
       "Q9Y6C2                       AD            119\n",
       "\n",
       "[313 rows x 1 columns]"
      ]
     },
     "execution_count": 17,
     "metadata": {},
     "output_type": "execute_result"
    }
   ],
   "source": [
    "feat_idx_w_diff = da_target_same[~da_target_same].index\n",
    "feat_idx_w_diff.to_frame()[['frequency']].reset_index(-1, drop=True)"
   ]
  },
  {
   "cell_type": "markdown",
   "id": "f74c770b",
   "metadata": {
    "papermill": {
     "duration": 0.01657,
     "end_time": "2024-06-28T11:07:01.866240",
     "exception": false,
     "start_time": "2024-06-28T11:07:01.849670",
     "status": "completed"
    },
    "tags": []
   },
   "source": [
    "take only those with different decisions"
   ]
  },
  {
   "cell_type": "code",
   "execution_count": 18,
   "id": "ee57dfa9",
   "metadata": {
    "execution": {
     "iopub.execute_input": "2024-06-28T11:07:01.896496Z",
     "iopub.status.busy": "2024-06-28T11:07:01.896134Z",
     "iopub.status.idle": "2024-06-28T11:07:03.885158Z",
     "shell.execute_reply": "2024-06-28T11:07:03.884483Z"
    },
    "papermill": {
     "duration": 2.004123,
     "end_time": "2024-06-28T11:07:03.886810",
     "exception": false,
     "start_time": "2024-06-28T11:07:01.882687",
     "status": "completed"
    },
    "tags": [
     "hide-input"
    ]
   },
   "outputs": [
    {
     "name": "stdout",
     "output_type": "stream",
     "text": [
      "No new features or no new ones (with diverging decisions.)\n"
     ]
    }
   ],
   "source": [
    "(qvalues\n",
    " .loc[feat_idx_w_diff]\n",
    " .sort_values(('None', 'qvalue'))\n",
    " .to_excel(writer, sheet_name='qvalues_diff')\n",
    " )\n",
    "\n",
    "(qvalues\n",
    " .loc[feat_idx_w_diff]\n",
    " .loc[mask_common]  # mask automatically aligned\n",
    " .sort_values(('None', 'qvalue'))\n",
    " .to_excel(writer, sheet_name='qvalues_diff_common')\n",
    " )\n",
    "\n",
    "try:\n",
    "    (qvalues\n",
    "     .loc[feat_idx_w_diff]\n",
    "     .loc[~mask_common]\n",
    "     .sort_values(('None', 'qvalue'))\n",
    "     .to_excel(writer, sheet_name='qvalues_diff_new')\n",
    "     )\n",
    "except IndexError:\n",
    "    print(\"No new features or no new ones (with diverging decisions.)\")\n",
    "writer.close()"
   ]
  },
  {
   "cell_type": "markdown",
   "id": "4b7d4bcf",
   "metadata": {
    "papermill": {
     "duration": 0.008129,
     "end_time": "2024-06-28T11:07:03.903569",
     "exception": false,
     "start_time": "2024-06-28T11:07:03.895440",
     "status": "completed"
    },
    "tags": []
   },
   "source": [
    "## Plots for inspecting imputations (for diverging decisions)"
   ]
  },
  {
   "cell_type": "code",
   "execution_count": 19,
   "id": "10092826",
   "metadata": {
    "execution": {
     "iopub.execute_input": "2024-06-28T11:07:03.920844Z",
     "iopub.status.busy": "2024-06-28T11:07:03.920613Z",
     "iopub.status.idle": "2024-06-28T11:07:03.926600Z",
     "shell.execute_reply": "2024-06-28T11:07:03.925732Z"
    },
    "lines_to_next_cell": 2,
    "papermill": {
     "duration": 0.015839,
     "end_time": "2024-06-28T11:07:03.927478",
     "exception": true,
     "start_time": "2024-06-28T11:07:03.911639",
     "status": "failed"
    },
    "tags": [
     "hide-input"
    ]
   },
   "outputs": [
    {
     "name": "stderr",
     "output_type": "stream",
     "text": [
      "root - WARNING  Not plots requested.\n"
     ]
    },
    {
     "ename": "SystemExit",
     "evalue": "0",
     "output_type": "error",
     "traceback": [
      "An exception has occurred, use %tb to see the full traceback.\n",
      "\u001b[0;31mSystemExit\u001b[0m\u001b[0;31m:\u001b[0m 0\n"
     ]
    },
    {
     "name": "stderr",
     "output_type": "stream",
     "text": [
      "/usr/share/miniconda3/envs/vaep/lib/python3.8/site-packages/IPython/core/interactiveshell.py:3516: UserWarning: To exit: use 'exit', 'quit', or Ctrl-D.\n",
      "  warn(\"To exit: use 'exit', 'quit', or Ctrl-D.\", stacklevel=1)\n"
     ]
    }
   ],
   "source": [
    "if not args.make_plots:\n",
    "    logger.warning(\"Not plots requested.\")\n",
    "    import sys\n",
    "    sys.exit(0)"
   ]
  },
  {
   "cell_type": "markdown",
   "id": "81224abe",
   "metadata": {
    "papermill": {
     "duration": null,
     "end_time": null,
     "exception": null,
     "start_time": null,
     "status": "pending"
    },
    "tags": []
   },
   "source": [
    "## Load target"
   ]
  },
  {
   "cell_type": "code",
   "execution_count": null,
   "id": "624d3301",
   "metadata": {
    "papermill": {
     "duration": null,
     "end_time": null,
     "exception": null,
     "start_time": null,
     "status": "pending"
    },
    "tags": [
     "hide-input"
    ]
   },
   "outputs": [],
   "source": [
    "target = pd.read_csv(args.fn_clinical_data,\n",
    "                     index_col=0,\n",
    "                     usecols=[args.sample_id_col, args.target])\n",
    "target = target.dropna()\n",
    "target"
   ]
  },
  {
   "cell_type": "code",
   "execution_count": null,
   "id": "a160ab0c",
   "metadata": {
    "papermill": {
     "duration": null,
     "end_time": null,
     "exception": null,
     "start_time": null,
     "status": "pending"
    },
    "tags": [
     "hide-input"
    ]
   },
   "outputs": [],
   "source": [
    "target_to_group = target.copy()\n",
    "target = target >= args.cutoff_target\n",
    "target = target.replace({False: f'{args.target} < {args.cutoff_target}',\n",
    "                        True: f'{args.target} >= {args.cutoff_target}'}\n",
    "                        ).astype('category')\n",
    "pd.crosstab(target.squeeze(), target_to_group.squeeze())"
   ]
  },
  {
   "cell_type": "markdown",
   "id": "acd5f980-5f3a-4a75-8479-a65c595e5220",
   "metadata": {
    "papermill": {
     "duration": null,
     "end_time": null,
     "exception": null,
     "start_time": null,
     "status": "pending"
    },
    "tags": []
   },
   "source": [
    "## Measurments"
   ]
  },
  {
   "cell_type": "code",
   "execution_count": null,
   "id": "7083535b-9a06-479e-9909-935d49311b00",
   "metadata": {
    "papermill": {
     "duration": null,
     "end_time": null,
     "exception": null,
     "start_time": null,
     "status": "pending"
    },
    "tags": [
     "hide-input"
    ]
   },
   "outputs": [],
   "source": [
    "data = vaep.io.datasplits.DataSplits.from_folder(\n",
    "    args.data,\n",
    "    file_format=args.file_format)\n",
    "data = pd.concat([data.train_X, data.val_y, data.test_y]).unstack()\n",
    "data"
   ]
  },
  {
   "cell_type": "markdown",
   "id": "ee0d5b40",
   "metadata": {
    "papermill": {
     "duration": null,
     "end_time": null,
     "exception": null,
     "start_time": null,
     "status": "pending"
    },
    "tags": []
   },
   "source": [
    "plot all of the new pgs which are at least once significant which are not already dumped."
   ]
  },
  {
   "cell_type": "code",
   "execution_count": null,
   "id": "b8d183d5",
   "metadata": {
    "papermill": {
     "duration": null,
     "end_time": null,
     "exception": null,
     "start_time": null,
     "status": "pending"
    },
    "tags": [
     "hide-input"
    ]
   },
   "outputs": [],
   "source": [
    "feat_new_abundant = da_target.loc[~mask_common].any(axis=1)\n",
    "feat_new_abundant = feat_new_abundant.loc[feat_new_abundant].index.get_level_values(0)\n",
    "feat_new_abundant"
   ]
  },
  {
   "cell_type": "code",
   "execution_count": null,
   "id": "112a677c",
   "metadata": {
    "papermill": {
     "duration": null,
     "end_time": null,
     "exception": null,
     "start_time": null,
     "status": "pending"
    },
    "tags": [
     "hide-input"
    ]
   },
   "outputs": [],
   "source": [
    "feat_sel = feat_idx_w_diff.get_level_values(0)\n",
    "feat_sel = feat_sel.union(feat_new_abundant)\n",
    "len(feat_sel)"
   ]
  },
  {
   "cell_type": "code",
   "execution_count": null,
   "id": "110c0f53",
   "metadata": {
    "papermill": {
     "duration": null,
     "end_time": null,
     "exception": null,
     "start_time": null,
     "status": "pending"
    },
    "tags": [
     "hide-input"
    ]
   },
   "outputs": [],
   "source": [
    "data = data.loc[:, feat_sel]\n",
    "data"
   ]
  },
  {
   "cell_type": "markdown",
   "id": "9762ec2a",
   "metadata": {
    "papermill": {
     "duration": null,
     "end_time": null,
     "exception": null,
     "start_time": null,
     "status": "pending"
    },
    "tags": []
   },
   "source": [
    "- RSN prediction are based on all samples mean and std (N=455) as in original study\n",
    "- VAE also trained on all samples (self supervised)\n",
    "One could also reduce the selected data to only the samples with a valid target marker,\n",
    "but this was not done in the original study which considered several different target markers.\n",
    "\n",
    "RSN : shifted per sample, not per feature!\n",
    "\n",
    "Load all prediction files and reshape"
   ]
  },
  {
   "cell_type": "code",
   "execution_count": null,
   "id": "cfd936e9-eb56-4fb7-8010-d68092b925ad",
   "metadata": {
    "papermill": {
     "duration": null,
     "end_time": null,
     "exception": null,
     "start_time": null,
     "status": "pending"
    },
    "tags": [
     "hide-input"
    ]
   },
   "outputs": [],
   "source": [
    "# exclude 'None' as this is without imputation (-> data)\n",
    "model_keys = [k for k in qvalues.columns.get_level_values(0) if k != 'None']\n",
    "pred_paths = [\n",
    "    args.out_preds / args.template_pred.format(method)\n",
    "    for method in model_keys]\n",
    "pred_paths"
   ]
  },
  {
   "cell_type": "code",
   "execution_count": null,
   "id": "26ecc0ed-c550-4a40-802b-25962d7edf7e",
   "metadata": {
    "lines_to_next_cell": 2,
    "papermill": {
     "duration": null,
     "end_time": null,
     "exception": null,
     "start_time": null,
     "status": "pending"
    },
    "tags": [
     "hide-input"
    ]
   },
   "outputs": [],
   "source": [
    "load_single_csv_pred_file = vaep.analyzers.compare_predictions.load_single_csv_pred_file\n",
    "pred_real_na = dict()\n",
    "for method in model_keys:\n",
    "    fname = args.out_preds / args.template_pred.format(method)\n",
    "    print(f\"missing values pred. by {method}: {fname}\")\n",
    "    pred_real_na[method] = load_single_csv_pred_file(fname)\n",
    "pred_real_na = pd.DataFrame(pred_real_na)\n",
    "pred_real_na"
   ]
  },
  {
   "cell_type": "markdown",
   "id": "b28e753f",
   "metadata": {
    "papermill": {
     "duration": null,
     "end_time": null,
     "exception": null,
     "start_time": null,
     "status": "pending"
    },
    "tags": []
   },
   "source": [
    "Once imputation, reduce to target samples only (samples with target score)"
   ]
  },
  {
   "cell_type": "code",
   "execution_count": null,
   "id": "e422a7a8",
   "metadata": {
    "lines_to_next_cell": 2,
    "papermill": {
     "duration": null,
     "end_time": null,
     "exception": null,
     "start_time": null,
     "status": "pending"
    },
    "tags": [
     "hide-input"
    ]
   },
   "outputs": [],
   "source": [
    "# select samples with target information\n",
    "data = data.loc[target.index]\n",
    "pred_real_na = pred_real_na.loc[target.index]\n",
    "\n",
    "# assert len(data) == len(pred_real_na)"
   ]
  },
  {
   "cell_type": "code",
   "execution_count": null,
   "id": "a3294f6a-65f3-4793-ad0c-4dd8ff11be47",
   "metadata": {
    "papermill": {
     "duration": null,
     "end_time": null,
     "exception": null,
     "start_time": null,
     "status": "pending"
    },
    "tags": [
     "hide-input"
    ]
   },
   "outputs": [],
   "source": [
    "idx = feat_sel[0]"
   ]
  },
  {
   "cell_type": "code",
   "execution_count": null,
   "id": "ee17d5eb-a132-4616-b505-4a68efa0e9e5",
   "metadata": {
    "papermill": {
     "duration": null,
     "end_time": null,
     "exception": null,
     "start_time": null,
     "status": "pending"
    },
    "tags": [
     "hide-input"
    ]
   },
   "outputs": [],
   "source": [
    "feat_observed = data[idx].dropna()\n",
    "feat_observed"
   ]
  },
  {
   "cell_type": "code",
   "execution_count": null,
   "id": "043395a7-fa33-490e-9d9c-f8071274f0b5",
   "metadata": {
    "lines_to_next_cell": 2,
    "papermill": {
     "duration": null,
     "end_time": null,
     "exception": null,
     "start_time": null,
     "status": "pending"
    },
    "tags": [
     "hide-input"
    ]
   },
   "outputs": [],
   "source": [
    "# axes = axes.ravel()\n",
    "# args.out_folder.parent / 'intensity_plots'\n",
    "# each feature -> one plot?\n",
    "# plot all which are at least for one method significant?\n",
    "folder = args.out_folder / 'intensities_for_diff_in_DA_decision'\n",
    "folder.mkdir(parents=True, exist_ok=True)"
   ]
  },
  {
   "cell_type": "code",
   "execution_count": null,
   "id": "f813f693",
   "metadata": {
    "lines_to_next_cell": 2,
    "papermill": {
     "duration": null,
     "end_time": null,
     "exception": null,
     "start_time": null,
     "status": "pending"
    },
    "tags": [
     "hide-input"
    ]
   },
   "outputs": [],
   "source": [
    "min_y_int, max_y_int = vaep.plotting.data.get_min_max_iterable(\n",
    "    [data.stack(), pred_real_na.stack()])\n",
    "min_max = min_y_int, max_y_int\n",
    "\n",
    "target_name = target.columns[0]\n",
    "\n",
    "min_max, target_name"
   ]
  },
  {
   "cell_type": "markdown",
   "id": "b9db8a0e",
   "metadata": {
    "papermill": {
     "duration": null,
     "end_time": null,
     "exception": null,
     "start_time": null,
     "status": "pending"
    },
    "tags": []
   },
   "source": [
    "## Compare with target annotation"
   ]
  },
  {
   "cell_type": "code",
   "execution_count": null,
   "id": "d819b0e0",
   "metadata": {
    "papermill": {
     "duration": null,
     "end_time": null,
     "exception": null,
     "start_time": null,
     "status": "pending"
    },
    "tags": [
     "hide-input"
    ]
   },
   "outputs": [],
   "source": [
    "# labels somehow?\n",
    "# target.replace({True: f' >={args.cutoff_target}', False: f'<{args.cutoff_target}'})\n",
    "\n",
    "for i, idx in enumerate(feat_sel):\n",
    "    print(f\"Swarmplot {i:3<}: {idx}:\")\n",
    "    fig, ax = plt.subplots()\n",
    "\n",
    "    # dummy plots, just to get the Path objects\n",
    "    tmp_dot = ax.scatter([1, 2], [3, 4], marker='X')\n",
    "    new_mk, = tmp_dot.get_paths()\n",
    "    tmp_dot.remove()\n",
    "\n",
    "    feat_observed = data[idx].dropna()\n",
    "\n",
    "    def get_centered_label(method, n, q):\n",
    "        model_str = f'{method}'\n",
    "        stats_str = f'(N={n:,d}, q={q:.3f})'\n",
    "        if len(model_str) > len(stats_str):\n",
    "            stats_str = f\"{stats_str:<{len(model_str)}}\"\n",
    "        else:\n",
    "            model_str = f\"{model_str:<{len(stats_str)}}\"\n",
    "        return f'{model_str}\\n{stats_str}'\n",
    "\n",
    "    key = get_centered_label(method='observed',\n",
    "                             n=len(feat_observed),\n",
    "                             q=float(qvalues.loc[idx, ('None', 'qvalue')])\n",
    "                             )\n",
    "    to_plot = {key: feat_observed}\n",
    "    for method in model_keys:\n",
    "        try:\n",
    "            pred = pred_real_na.loc[pd.IndexSlice[:,\n",
    "                                                  idx], method].dropna().droplevel(-1)\n",
    "            if len(pred) == 0:\n",
    "                # in case no values was imputed -> qvalue is as based on measured\n",
    "                key = get_centered_label(method=method,\n",
    "                                         n=len(pred),\n",
    "                                         q=float(qvalues.loc[idx, ('None', 'qvalue')]\n",
    "                                                 ))\n",
    "            elif qvalues.loc[idx, (method, 'qvalue')].notna().all():\n",
    "                key = get_centered_label(method=method,\n",
    "                                         n=len(pred),\n",
    "                                         q=float(qvalues.loc[idx, (method, 'qvalue')]\n",
    "                                                 ))\n",
    "            elif qvalues.loc[idx, (method, 'qvalue')].isna().all():\n",
    "                logger.info(f\"NA qvalues for {idx}: {method}\")\n",
    "                continue\n",
    "            else:\n",
    "                raise ValueError(\"Unknown case.\")\n",
    "            to_plot[key] = pred\n",
    "        except KeyError:\n",
    "            print(f\"No missing values for {idx}: {method}\")\n",
    "            continue\n",
    "\n",
    "    to_plot = pd.DataFrame.from_dict(to_plot)\n",
    "    to_plot.columns.name = 'group'\n",
    "    groups_order = to_plot.columns.to_list()\n",
    "    to_plot = to_plot.stack().to_frame('intensity').reset_index(-1)\n",
    "    to_plot = to_plot.join(target.astype('category'), how='inner')\n",
    "    to_plot = to_plot.astype({'group': 'category'})\n",
    "\n",
    "    ax = seaborn.swarmplot(data=to_plot,\n",
    "                           x='group',\n",
    "                           y='intensity',\n",
    "                           order=groups_order,\n",
    "                           dodge=True,\n",
    "                           hue=args.target,\n",
    "                           size=2,\n",
    "                           ax=ax)\n",
    "    first_pg = idx.split(\";\")[0]\n",
    "    ax.set_title(\n",
    "        f'Imputation for protein group {first_pg} with target {target_name} (N= {len(data):,d} samples)')\n",
    "\n",
    "    _ = ax.set_ylim(min_y_int, max_y_int)\n",
    "    _ = ax.locator_params(axis='y', integer=True)\n",
    "    _ = ax.set_xlabel('')\n",
    "    _xticks = ax.get_xticks()\n",
    "    ax.xaxis.set_major_locator(\n",
    "        matplotlib.ticker.FixedLocator(_xticks)\n",
    "    )\n",
    "    _ = ax.set_xticklabels(ax.get_xticklabels(), rotation=45,\n",
    "                           horizontalalignment='right')\n",
    "\n",
    "    N_hues = len(pd.unique(to_plot[args.target]))\n",
    "\n",
    "    _ = ax.collections[0].set_paths([new_mk])\n",
    "    _ = ax.collections[1].set_paths([new_mk])\n",
    "\n",
    "    label_target_0, label_target_1 = ax.collections[-2].get_label(), ax.collections[-1].get_label()\n",
    "    _ = ax.collections[-2].set_label(f'imputed, {label_target_0}')\n",
    "    _ = ax.collections[-1].set_label(f'imputed, {label_target_1}')\n",
    "    _obs_label0 = ax.scatter([], [], color='C0', marker='X', label=f'observed, {label_target_0}')\n",
    "    _obs_label1 = ax.scatter([], [], color='C1', marker='X', label=f'observed, {label_target_1}')\n",
    "    _ = ax.legend(\n",
    "        handles=[_obs_label0, _obs_label1, *ax.collections[-4:-2]],\n",
    "        fontsize=5, title_fontsize=5, markerscale=0.4,)\n",
    "    fname = (folder /\n",
    "             f'{first_pg}_swarmplot.pdf')\n",
    "    files_out[fname.name] = fname.as_posix()\n",
    "    vaep.savefig(\n",
    "        fig,\n",
    "        name=fname)\n",
    "    plt.close()"
   ]
  },
  {
   "cell_type": "markdown",
   "id": "f899bcf9",
   "metadata": {
    "papermill": {
     "duration": null,
     "end_time": null,
     "exception": null,
     "start_time": null,
     "status": "pending"
    },
    "tags": []
   },
   "source": [
    "Saved files:"
   ]
  },
  {
   "cell_type": "code",
   "execution_count": null,
   "id": "a4b042a1",
   "metadata": {
    "papermill": {
     "duration": null,
     "end_time": null,
     "exception": null,
     "start_time": null,
     "status": "pending"
    },
    "tags": [
     "hide-input"
    ]
   },
   "outputs": [],
   "source": [
    "files_out"
   ]
  }
 ],
 "metadata": {
  "kernelspec": {
   "display_name": "Python 3",
   "language": "python",
   "name": "python3"
  },
  "language_info": {
   "codemirror_mode": {
    "name": "ipython",
    "version": 3
   },
   "file_extension": ".py",
   "mimetype": "text/x-python",
   "name": "python",
   "nbconvert_exporter": "python",
   "pygments_lexer": "ipython3",
   "version": "3.8.19"
  },
  "papermill": {
   "default_parameters": {},
   "duration": 10.933503,
   "end_time": "2024-06-28T11:07:04.453975",
   "environment_variables": {},
   "exception": true,
   "input_path": "10_4_ald_compare_single_pg.ipynb",
   "output_path": "runs/alzheimer_study/diff_analysis/AD/10_4_ald_compare_single_pg.ipynb",
   "parameters": {
    "baseline": "PI",
    "cutoff_target": 0.5,
    "fn_clinical_data": "runs/alzheimer_study/data/clinical_data.csv",
    "folder_experiment": "runs/alzheimer_study",
    "make_plots": false,
    "out_folder": "diff_analysis",
    "ref_method_score": null,
    "target": "AD"
   },
   "start_time": "2024-06-28T11:06:53.520472",
   "version": "2.6.0"
  }
 },
 "nbformat": 4,
 "nbformat_minor": 5
}