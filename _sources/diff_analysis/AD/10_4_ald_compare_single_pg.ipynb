{
 "cells": [
  {
   "cell_type": "markdown",
   "id": "53fbb5ed-e86e-44a5-ba62-eabcd7b48565",
   "metadata": {
    "papermill": {
     "duration": 0.019397,
     "end_time": "2024-08-19T10:01:13.794130",
     "exception": false,
     "start_time": "2024-08-19T10:01:13.774733",
     "status": "completed"
    },
    "tags": []
   },
   "source": [
    "# Compare predictions between model and RSN\n",
    "\n",
    "- see differences in imputation for diverging cases\n",
    "- dumps top5"
   ]
  },
  {
   "cell_type": "code",
   "execution_count": 1,
   "id": "4ffa9d4c-622f-46c3-847a-7f7474082ee4",
   "metadata": {
    "execution": {
     "iopub.execute_input": "2024-08-19T10:01:13.816161Z",
     "iopub.status.busy": "2024-08-19T10:01:13.815820Z",
     "iopub.status.idle": "2024-08-19T10:01:16.286880Z",
     "shell.execute_reply": "2024-08-19T10:01:16.285943Z"
    },
    "papermill": {
     "duration": 2.484189,
     "end_time": "2024-08-19T10:01:16.288956",
     "exception": false,
     "start_time": "2024-08-19T10:01:13.804767",
     "status": "completed"
    },
    "tags": [
     "hide-input"
    ]
   },
   "outputs": [],
   "source": [
    "import logging\n",
    "from pathlib import Path\n",
    "\n",
    "import matplotlib\n",
    "import matplotlib.pyplot as plt\n",
    "import njab\n",
    "import pandas as pd\n",
    "import seaborn\n",
    "\n",
    "import pimmslearn\n",
    "import pimmslearn.analyzers\n",
    "import pimmslearn.imputation\n",
    "import pimmslearn.io.datasplits\n",
    "\n",
    "logger = pimmslearn.logging.setup_nb_logger()\n",
    "logging.getLogger('fontTools').setLevel(logging.WARNING)\n",
    "\n",
    "plt.rcParams['figure.figsize'] = [4, 2.5]  # [16.0, 7.0] , [4, 3]\n",
    "pimmslearn.plotting.make_large_descriptors(7)\n",
    "\n",
    "# catch passed parameters\n",
    "args = None\n",
    "args = dict(globals()).keys()"
   ]
  },
  {
   "cell_type": "markdown",
   "id": "e3192d11-2db7-440c-a80d-7a2e10799895",
   "metadata": {
    "papermill": {
     "duration": 0.01066,
     "end_time": "2024-08-19T10:01:16.324020",
     "exception": false,
     "start_time": "2024-08-19T10:01:16.313360",
     "status": "completed"
    },
    "tags": []
   },
   "source": [
    "## Parameters"
   ]
  },
  {
   "cell_type": "code",
   "execution_count": 2,
   "id": "8edfd1e5-719d-4905-a441-4a2a8ac5b14c",
   "metadata": {
    "execution": {
     "iopub.execute_input": "2024-08-19T10:01:16.371785Z",
     "iopub.status.busy": "2024-08-19T10:01:16.371250Z",
     "iopub.status.idle": "2024-08-19T10:01:16.376095Z",
     "shell.execute_reply": "2024-08-19T10:01:16.375462Z"
    },
    "lines_to_next_cell": 2,
    "papermill": {
     "duration": 0.034188,
     "end_time": "2024-08-19T10:01:16.377499",
     "exception": false,
     "start_time": "2024-08-19T10:01:16.343311",
     "status": "completed"
    },
    "tags": [
     "parameters"
    ]
   },
   "outputs": [],
   "source": [
    "folder_experiment = 'runs/appl_ald_data/plasma/proteinGroups'\n",
    "fn_clinical_data = \"data/ALD_study/processed/ald_metadata_cli.csv\"\n",
    "make_plots = True  # create histograms and swarmplots of diverging results\n",
    "model_key = 'VAE'\n",
    "sample_id_col = 'Sample ID'\n",
    "target = 'kleiner'\n",
    "cutoff_target: int = 2  # => for binarization target >= cutoff_target\n",
    "out_folder = 'diff_analysis'\n",
    "file_format = 'csv'\n",
    "baseline = 'RSN'  # default is RSN, but could be any other trained model\n",
    "template_pred = 'pred_real_na_{}.csv'  # fixed, do not change\n",
    "ref_method_score = None  # filepath to reference method score"
   ]
  },
  {
   "cell_type": "code",
   "execution_count": 3,
   "id": "0facf69c",
   "metadata": {
    "execution": {
     "iopub.execute_input": "2024-08-19T10:01:16.419088Z",
     "iopub.status.busy": "2024-08-19T10:01:16.418746Z",
     "iopub.status.idle": "2024-08-19T10:01:16.422572Z",
     "shell.execute_reply": "2024-08-19T10:01:16.421934Z"
    },
    "papermill": {
     "duration": 0.025146,
     "end_time": "2024-08-19T10:01:16.424046",
     "exception": false,
     "start_time": "2024-08-19T10:01:16.398900",
     "status": "completed"
    },
    "tags": [
     "injected-parameters"
    ]
   },
   "outputs": [],
   "source": [
    "# Parameters\n",
    "cutoff_target = 0.5\n",
    "make_plots = False\n",
    "ref_method_score = None\n",
    "folder_experiment = \"runs/alzheimer_study\"\n",
    "target = \"AD\"\n",
    "baseline = \"PI\"\n",
    "out_folder = \"diff_analysis\"\n",
    "fn_clinical_data = \"runs/alzheimer_study/data/clinical_data.csv\"\n"
   ]
  },
  {
   "cell_type": "code",
   "execution_count": 4,
   "id": "b85c6c2a-146c-48bd-9d7b-1fe4eec8a6ae",
   "metadata": {
    "execution": {
     "iopub.execute_input": "2024-08-19T10:01:16.460770Z",
     "iopub.status.busy": "2024-08-19T10:01:16.460458Z",
     "iopub.status.idle": "2024-08-19T10:01:16.486119Z",
     "shell.execute_reply": "2024-08-19T10:01:16.485468Z"
    },
    "papermill": {
     "duration": 0.049111,
     "end_time": "2024-08-19T10:01:16.494616",
     "exception": false,
     "start_time": "2024-08-19T10:01:16.445505",
     "status": "completed"
    },
    "tags": [
     "hide-input"
    ]
   },
   "outputs": [
    {
     "name": "stderr",
     "output_type": "stream",
     "text": [
      "root - INFO     Removed from global namespace: folder_experiment\n"
     ]
    },
    {
     "name": "stderr",
     "output_type": "stream",
     "text": [
      "root - INFO     Removed from global namespace: fn_clinical_data\n"
     ]
    },
    {
     "name": "stderr",
     "output_type": "stream",
     "text": [
      "root - INFO     Removed from global namespace: make_plots\n"
     ]
    },
    {
     "name": "stderr",
     "output_type": "stream",
     "text": [
      "root - INFO     Removed from global namespace: model_key\n"
     ]
    },
    {
     "name": "stderr",
     "output_type": "stream",
     "text": [
      "root - INFO     Removed from global namespace: sample_id_col\n"
     ]
    },
    {
     "name": "stderr",
     "output_type": "stream",
     "text": [
      "root - INFO     Removed from global namespace: target\n"
     ]
    },
    {
     "name": "stderr",
     "output_type": "stream",
     "text": [
      "root - INFO     Removed from global namespace: cutoff_target\n"
     ]
    },
    {
     "name": "stderr",
     "output_type": "stream",
     "text": [
      "root - INFO     Removed from global namespace: out_folder\n"
     ]
    },
    {
     "name": "stderr",
     "output_type": "stream",
     "text": [
      "root - INFO     Removed from global namespace: file_format\n"
     ]
    },
    {
     "name": "stderr",
     "output_type": "stream",
     "text": [
      "root - INFO     Removed from global namespace: baseline\n"
     ]
    },
    {
     "name": "stderr",
     "output_type": "stream",
     "text": [
      "root - INFO     Removed from global namespace: template_pred\n"
     ]
    },
    {
     "name": "stderr",
     "output_type": "stream",
     "text": [
      "root - INFO     Removed from global namespace: ref_method_score\n"
     ]
    },
    {
     "name": "stderr",
     "output_type": "stream",
     "text": [
      "root - INFO     Already set attribute: folder_experiment has value runs/alzheimer_study\n"
     ]
    },
    {
     "name": "stderr",
     "output_type": "stream",
     "text": [
      "root - INFO     Already set attribute: out_folder has value diff_analysis\n"
     ]
    },
    {
     "data": {
      "text/plain": [
       "{'baseline': 'PI',\n",
       " 'cutoff_target': 0.5,\n",
       " 'data': PosixPath('runs/alzheimer_study/data'),\n",
       " 'file_format': 'csv',\n",
       " 'fn_clinical_data': 'runs/alzheimer_study/data/clinical_data.csv',\n",
       " 'folder_experiment': PosixPath('runs/alzheimer_study'),\n",
       " 'folder_scores': PosixPath('runs/alzheimer_study/diff_analysis/AD/scores'),\n",
       " 'make_plots': False,\n",
       " 'model_key': 'VAE',\n",
       " 'out_figures': PosixPath('runs/alzheimer_study/figures'),\n",
       " 'out_folder': PosixPath('runs/alzheimer_study/diff_analysis/AD'),\n",
       " 'out_metrics': PosixPath('runs/alzheimer_study'),\n",
       " 'out_models': PosixPath('runs/alzheimer_study'),\n",
       " 'out_preds': PosixPath('runs/alzheimer_study/preds'),\n",
       " 'ref_method_score': None,\n",
       " 'sample_id_col': 'Sample ID',\n",
       " 'target': 'AD',\n",
       " 'template_pred': 'pred_real_na_{}.csv'}"
      ]
     },
     "execution_count": 4,
     "metadata": {},
     "output_type": "execute_result"
    }
   ],
   "source": [
    "params = pimmslearn.nb.get_params(args, globals=globals())\n",
    "args = pimmslearn.nb.Config()\n",
    "args.folder_experiment = Path(params[\"folder_experiment\"])\n",
    "args = pimmslearn.nb.add_default_paths(args,\n",
    "                                 out_root=(args.folder_experiment\n",
    "                                           / params[\"out_folder\"]\n",
    "                                           / params[\"target\"]))\n",
    "args.folder_scores = (args.folder_experiment\n",
    "                      / params[\"out_folder\"]\n",
    "                      / params[\"target\"]\n",
    "                      / 'scores'\n",
    "                      )\n",
    "args.update_from_dict(params)\n",
    "args"
   ]
  },
  {
   "cell_type": "markdown",
   "id": "4036fc07",
   "metadata": {
    "papermill": {
     "duration": 0.011017,
     "end_time": "2024-08-19T10:01:16.528748",
     "exception": false,
     "start_time": "2024-08-19T10:01:16.517731",
     "status": "completed"
    },
    "tags": []
   },
   "source": [
    "Write outputs to excel"
   ]
  },
  {
   "cell_type": "code",
   "execution_count": 5,
   "id": "8c833157-e36e-476b-a3bd-d604b962ef04",
   "metadata": {
    "execution": {
     "iopub.execute_input": "2024-08-19T10:01:16.573665Z",
     "iopub.status.busy": "2024-08-19T10:01:16.573319Z",
     "iopub.status.idle": "2024-08-19T10:01:16.774345Z",
     "shell.execute_reply": "2024-08-19T10:01:16.773576Z"
    },
    "papermill": {
     "duration": 0.214554,
     "end_time": "2024-08-19T10:01:16.776051",
     "exception": false,
     "start_time": "2024-08-19T10:01:16.561497",
     "status": "completed"
    },
    "tags": [
     "hide-input"
    ]
   },
   "outputs": [
    {
     "name": "stderr",
     "output_type": "stream",
     "text": [
      "root - INFO     Writing to excel file: runs/alzheimer_study/diff_analysis/AD/diff_analysis_compare_DA.xlsx\n"
     ]
    }
   ],
   "source": [
    "files_out = dict()\n",
    "\n",
    "fname = args.out_folder / 'diff_analysis_compare_DA.xlsx'\n",
    "writer = pd.ExcelWriter(fname)\n",
    "files_out[fname.name] = fname.as_posix()\n",
    "logger.info(\"Writing to excel file: %s\", fname)"
   ]
  },
  {
   "cell_type": "markdown",
   "id": "62d61673",
   "metadata": {
    "papermill": {
     "duration": 0.01132,
     "end_time": "2024-08-19T10:01:16.795690",
     "exception": false,
     "start_time": "2024-08-19T10:01:16.784370",
     "status": "completed"
    },
    "tags": []
   },
   "source": [
    "## Load scores\n",
    "List dump of scores:"
   ]
  },
  {
   "cell_type": "code",
   "execution_count": 6,
   "id": "bcbd112b",
   "metadata": {
    "execution": {
     "iopub.execute_input": "2024-08-19T10:01:16.818779Z",
     "iopub.status.busy": "2024-08-19T10:01:16.818482Z",
     "iopub.status.idle": "2024-08-19T10:01:16.823714Z",
     "shell.execute_reply": "2024-08-19T10:01:16.823167Z"
    },
    "papermill": {
     "duration": 0.018609,
     "end_time": "2024-08-19T10:01:16.825288",
     "exception": false,
     "start_time": "2024-08-19T10:01:16.806679",
     "status": "completed"
    },
    "tags": [
     "hide-input"
    ]
   },
   "outputs": [
    {
     "data": {
      "text/plain": [
       "[PosixPath('runs/alzheimer_study/diff_analysis/AD/scores/diff_analysis_scores_VAE.pkl'),\n",
       " PosixPath('runs/alzheimer_study/diff_analysis/AD/scores/diff_analysis_scores_TRKNN.pkl'),\n",
       " PosixPath('runs/alzheimer_study/diff_analysis/AD/scores/diff_analysis_scores_PI.pkl'),\n",
       " PosixPath('runs/alzheimer_study/diff_analysis/AD/scores/diff_analysis_scores_None.pkl'),\n",
       " PosixPath('runs/alzheimer_study/diff_analysis/AD/scores/diff_analysis_scores_RF.pkl'),\n",
       " PosixPath('runs/alzheimer_study/diff_analysis/AD/scores/diff_analysis_scores_DAE.pkl'),\n",
       " PosixPath('runs/alzheimer_study/diff_analysis/AD/scores/diff_analysis_scores_Median.pkl'),\n",
       " PosixPath('runs/alzheimer_study/diff_analysis/AD/scores/diff_analysis_scores_QRILC.pkl'),\n",
       " PosixPath('runs/alzheimer_study/diff_analysis/AD/scores/diff_analysis_scores_CF.pkl')]"
      ]
     },
     "execution_count": 6,
     "metadata": {},
     "output_type": "execute_result"
    }
   ],
   "source": [
    "score_dumps = [fname for fname in Path(\n",
    "    args.folder_scores).iterdir() if fname.suffix == '.pkl']\n",
    "score_dumps"
   ]
  },
  {
   "cell_type": "markdown",
   "id": "18113565",
   "metadata": {
    "papermill": {
     "duration": 0.010787,
     "end_time": "2024-08-19T10:01:16.846983",
     "exception": false,
     "start_time": "2024-08-19T10:01:16.836196",
     "status": "completed"
    },
    "tags": []
   },
   "source": [
    "Load scores from dumps:"
   ]
  },
  {
   "cell_type": "code",
   "execution_count": 7,
   "id": "d240a9b0",
   "metadata": {
    "execution": {
     "iopub.execute_input": "2024-08-19T10:01:16.869519Z",
     "iopub.status.busy": "2024-08-19T10:01:16.869177Z",
     "iopub.status.idle": "2024-08-19T10:01:16.997635Z",
     "shell.execute_reply": "2024-08-19T10:01:16.996810Z"
    },
    "papermill": {
     "duration": 0.141741,
     "end_time": "2024-08-19T10:01:16.999240",
     "exception": false,
     "start_time": "2024-08-19T10:01:16.857499",
     "status": "completed"
    },
    "tags": [
     "hide-input"
    ]
   },
   "outputs": [
    {
     "data": {
      "text/html": [
       "<div>\n",
       "<style scoped>\n",
       "    .dataframe tbody tr th:only-of-type {\n",
       "        vertical-align: middle;\n",
       "    }\n",
       "\n",
       "    .dataframe tbody tr th {\n",
       "        vertical-align: top;\n",
       "    }\n",
       "\n",
       "    .dataframe thead tr th {\n",
       "        text-align: left;\n",
       "    }\n",
       "\n",
       "    .dataframe thead tr:last-of-type th {\n",
       "        text-align: right;\n",
       "    }\n",
       "</style>\n",
       "<table border=\"1\" class=\"dataframe\">\n",
       "  <thead>\n",
       "    <tr>\n",
       "      <th></th>\n",
       "      <th>model</th>\n",
       "      <th colspan=\"8\" halign=\"left\">VAE</th>\n",
       "      <th colspan=\"2\" halign=\"left\">TRKNN</th>\n",
       "      <th>...</th>\n",
       "      <th colspan=\"2\" halign=\"left\">QRILC</th>\n",
       "      <th colspan=\"8\" halign=\"left\">CF</th>\n",
       "    </tr>\n",
       "    <tr>\n",
       "      <th></th>\n",
       "      <th>var</th>\n",
       "      <th>SS</th>\n",
       "      <th>DF</th>\n",
       "      <th>F</th>\n",
       "      <th>p-unc</th>\n",
       "      <th>np2</th>\n",
       "      <th>-Log10 pvalue</th>\n",
       "      <th>qvalue</th>\n",
       "      <th>rejected</th>\n",
       "      <th>SS</th>\n",
       "      <th>DF</th>\n",
       "      <th>...</th>\n",
       "      <th>qvalue</th>\n",
       "      <th>rejected</th>\n",
       "      <th>SS</th>\n",
       "      <th>DF</th>\n",
       "      <th>F</th>\n",
       "      <th>p-unc</th>\n",
       "      <th>np2</th>\n",
       "      <th>-Log10 pvalue</th>\n",
       "      <th>qvalue</th>\n",
       "      <th>rejected</th>\n",
       "    </tr>\n",
       "    <tr>\n",
       "      <th>protein groups</th>\n",
       "      <th>Source</th>\n",
       "      <th></th>\n",
       "      <th></th>\n",
       "      <th></th>\n",
       "      <th></th>\n",
       "      <th></th>\n",
       "      <th></th>\n",
       "      <th></th>\n",
       "      <th></th>\n",
       "      <th></th>\n",
       "      <th></th>\n",
       "      <th></th>\n",
       "      <th></th>\n",
       "      <th></th>\n",
       "      <th></th>\n",
       "      <th></th>\n",
       "      <th></th>\n",
       "      <th></th>\n",
       "      <th></th>\n",
       "      <th></th>\n",
       "      <th></th>\n",
       "      <th></th>\n",
       "    </tr>\n",
       "  </thead>\n",
       "  <tbody>\n",
       "    <tr>\n",
       "      <th rowspan=\"5\" valign=\"top\">A0A024QZX5;A0A087X1N8;P35237</th>\n",
       "      <th>AD</th>\n",
       "      <td>1.058</td>\n",
       "      <td>1</td>\n",
       "      <td>7.549</td>\n",
       "      <td>0.007</td>\n",
       "      <td>0.038</td>\n",
       "      <td>2.182</td>\n",
       "      <td>0.019</td>\n",
       "      <td>True</td>\n",
       "      <td>0.994</td>\n",
       "      <td>1</td>\n",
       "      <td>...</td>\n",
       "      <td>0.090</td>\n",
       "      <td>False</td>\n",
       "      <td>1.039</td>\n",
       "      <td>1</td>\n",
       "      <td>7.616</td>\n",
       "      <td>0.006</td>\n",
       "      <td>0.038</td>\n",
       "      <td>2.197</td>\n",
       "      <td>0.019</td>\n",
       "      <td>True</td>\n",
       "    </tr>\n",
       "    <tr>\n",
       "      <th>age</th>\n",
       "      <td>0.010</td>\n",
       "      <td>1</td>\n",
       "      <td>0.068</td>\n",
       "      <td>0.794</td>\n",
       "      <td>0.000</td>\n",
       "      <td>0.100</td>\n",
       "      <td>0.861</td>\n",
       "      <td>False</td>\n",
       "      <td>0.004</td>\n",
       "      <td>1</td>\n",
       "      <td>...</td>\n",
       "      <td>0.866</td>\n",
       "      <td>False</td>\n",
       "      <td>0.004</td>\n",
       "      <td>1</td>\n",
       "      <td>0.028</td>\n",
       "      <td>0.868</td>\n",
       "      <td>0.000</td>\n",
       "      <td>0.061</td>\n",
       "      <td>0.916</td>\n",
       "      <td>False</td>\n",
       "    </tr>\n",
       "    <tr>\n",
       "      <th>Kiel</th>\n",
       "      <td>0.297</td>\n",
       "      <td>1</td>\n",
       "      <td>2.121</td>\n",
       "      <td>0.147</td>\n",
       "      <td>0.011</td>\n",
       "      <td>0.833</td>\n",
       "      <td>0.245</td>\n",
       "      <td>False</td>\n",
       "      <td>0.269</td>\n",
       "      <td>1</td>\n",
       "      <td>...</td>\n",
       "      <td>0.221</td>\n",
       "      <td>False</td>\n",
       "      <td>0.238</td>\n",
       "      <td>1</td>\n",
       "      <td>1.747</td>\n",
       "      <td>0.188</td>\n",
       "      <td>0.009</td>\n",
       "      <td>0.726</td>\n",
       "      <td>0.302</td>\n",
       "      <td>False</td>\n",
       "    </tr>\n",
       "    <tr>\n",
       "      <th>Magdeburg</th>\n",
       "      <td>0.492</td>\n",
       "      <td>1</td>\n",
       "      <td>3.513</td>\n",
       "      <td>0.062</td>\n",
       "      <td>0.018</td>\n",
       "      <td>1.205</td>\n",
       "      <td>0.123</td>\n",
       "      <td>False</td>\n",
       "      <td>0.519</td>\n",
       "      <td>1</td>\n",
       "      <td>...</td>\n",
       "      <td>0.052</td>\n",
       "      <td>False</td>\n",
       "      <td>0.432</td>\n",
       "      <td>1</td>\n",
       "      <td>3.166</td>\n",
       "      <td>0.077</td>\n",
       "      <td>0.016</td>\n",
       "      <td>1.115</td>\n",
       "      <td>0.150</td>\n",
       "      <td>False</td>\n",
       "    </tr>\n",
       "    <tr>\n",
       "      <th>Sweden</th>\n",
       "      <td>1.739</td>\n",
       "      <td>1</td>\n",
       "      <td>12.410</td>\n",
       "      <td>0.001</td>\n",
       "      <td>0.061</td>\n",
       "      <td>3.272</td>\n",
       "      <td>0.002</td>\n",
       "      <td>True</td>\n",
       "      <td>1.796</td>\n",
       "      <td>1</td>\n",
       "      <td>...</td>\n",
       "      <td>0.001</td>\n",
       "      <td>True</td>\n",
       "      <td>1.581</td>\n",
       "      <td>1</td>\n",
       "      <td>11.585</td>\n",
       "      <td>0.001</td>\n",
       "      <td>0.057</td>\n",
       "      <td>3.091</td>\n",
       "      <td>0.003</td>\n",
       "      <td>True</td>\n",
       "    </tr>\n",
       "    <tr>\n",
       "      <th>...</th>\n",
       "      <th>...</th>\n",
       "      <td>...</td>\n",
       "      <td>...</td>\n",
       "      <td>...</td>\n",
       "      <td>...</td>\n",
       "      <td>...</td>\n",
       "      <td>...</td>\n",
       "      <td>...</td>\n",
       "      <td>...</td>\n",
       "      <td>...</td>\n",
       "      <td>...</td>\n",
       "      <td>...</td>\n",
       "      <td>...</td>\n",
       "      <td>...</td>\n",
       "      <td>...</td>\n",
       "      <td>...</td>\n",
       "      <td>...</td>\n",
       "      <td>...</td>\n",
       "      <td>...</td>\n",
       "      <td>...</td>\n",
       "      <td>...</td>\n",
       "      <td>...</td>\n",
       "    </tr>\n",
       "    <tr>\n",
       "      <th rowspan=\"5\" valign=\"top\">S4R3U6</th>\n",
       "      <th>AD</th>\n",
       "      <td>2.221</td>\n",
       "      <td>1</td>\n",
       "      <td>4.330</td>\n",
       "      <td>0.039</td>\n",
       "      <td>0.022</td>\n",
       "      <td>1.411</td>\n",
       "      <td>0.083</td>\n",
       "      <td>False</td>\n",
       "      <td>2.295</td>\n",
       "      <td>1</td>\n",
       "      <td>...</td>\n",
       "      <td>0.116</td>\n",
       "      <td>False</td>\n",
       "      <td>2.281</td>\n",
       "      <td>1</td>\n",
       "      <td>4.661</td>\n",
       "      <td>0.032</td>\n",
       "      <td>0.024</td>\n",
       "      <td>1.493</td>\n",
       "      <td>0.073</td>\n",
       "      <td>False</td>\n",
       "    </tr>\n",
       "    <tr>\n",
       "      <th>age</th>\n",
       "      <td>0.497</td>\n",
       "      <td>1</td>\n",
       "      <td>0.969</td>\n",
       "      <td>0.326</td>\n",
       "      <td>0.005</td>\n",
       "      <td>0.487</td>\n",
       "      <td>0.457</td>\n",
       "      <td>False</td>\n",
       "      <td>0.398</td>\n",
       "      <td>1</td>\n",
       "      <td>...</td>\n",
       "      <td>0.671</td>\n",
       "      <td>False</td>\n",
       "      <td>0.391</td>\n",
       "      <td>1</td>\n",
       "      <td>0.800</td>\n",
       "      <td>0.372</td>\n",
       "      <td>0.004</td>\n",
       "      <td>0.429</td>\n",
       "      <td>0.504</td>\n",
       "      <td>False</td>\n",
       "    </tr>\n",
       "    <tr>\n",
       "      <th>Kiel</th>\n",
       "      <td>2.540</td>\n",
       "      <td>1</td>\n",
       "      <td>4.951</td>\n",
       "      <td>0.027</td>\n",
       "      <td>0.025</td>\n",
       "      <td>1.565</td>\n",
       "      <td>0.062</td>\n",
       "      <td>False</td>\n",
       "      <td>2.981</td>\n",
       "      <td>1</td>\n",
       "      <td>...</td>\n",
       "      <td>0.082</td>\n",
       "      <td>False</td>\n",
       "      <td>1.871</td>\n",
       "      <td>1</td>\n",
       "      <td>3.824</td>\n",
       "      <td>0.052</td>\n",
       "      <td>0.020</td>\n",
       "      <td>1.284</td>\n",
       "      <td>0.108</td>\n",
       "      <td>False</td>\n",
       "    </tr>\n",
       "    <tr>\n",
       "      <th>Magdeburg</th>\n",
       "      <td>2.734</td>\n",
       "      <td>1</td>\n",
       "      <td>5.330</td>\n",
       "      <td>0.022</td>\n",
       "      <td>0.027</td>\n",
       "      <td>1.657</td>\n",
       "      <td>0.052</td>\n",
       "      <td>False</td>\n",
       "      <td>3.440</td>\n",
       "      <td>1</td>\n",
       "      <td>...</td>\n",
       "      <td>0.030</td>\n",
       "      <td>True</td>\n",
       "      <td>1.997</td>\n",
       "      <td>1</td>\n",
       "      <td>4.081</td>\n",
       "      <td>0.045</td>\n",
       "      <td>0.021</td>\n",
       "      <td>1.349</td>\n",
       "      <td>0.096</td>\n",
       "      <td>False</td>\n",
       "    </tr>\n",
       "    <tr>\n",
       "      <th>Sweden</th>\n",
       "      <td>19.882</td>\n",
       "      <td>1</td>\n",
       "      <td>38.755</td>\n",
       "      <td>0.000</td>\n",
       "      <td>0.169</td>\n",
       "      <td>8.525</td>\n",
       "      <td>0.000</td>\n",
       "      <td>True</td>\n",
       "      <td>27.114</td>\n",
       "      <td>1</td>\n",
       "      <td>...</td>\n",
       "      <td>0.917</td>\n",
       "      <td>False</td>\n",
       "      <td>22.628</td>\n",
       "      <td>1</td>\n",
       "      <td>46.245</td>\n",
       "      <td>0.000</td>\n",
       "      <td>0.195</td>\n",
       "      <td>9.886</td>\n",
       "      <td>0.000</td>\n",
       "      <td>True</td>\n",
       "    </tr>\n",
       "  </tbody>\n",
       "</table>\n",
       "<p>7105 rows × 72 columns</p>\n",
       "</div>"
      ],
      "text/plain": [
       "model                                     VAE                        \\\n",
       "var                                        SS DF      F p-unc   np2   \n",
       "protein groups               Source                                   \n",
       "A0A024QZX5;A0A087X1N8;P35237 AD         1.058  1  7.549 0.007 0.038   \n",
       "                             age        0.010  1  0.068 0.794 0.000   \n",
       "                             Kiel       0.297  1  2.121 0.147 0.011   \n",
       "                             Magdeburg  0.492  1  3.513 0.062 0.018   \n",
       "                             Sweden     1.739  1 12.410 0.001 0.061   \n",
       "...                                       ... ..    ...   ...   ...   \n",
       "S4R3U6                       AD         2.221  1  4.330 0.039 0.022   \n",
       "                             age        0.497  1  0.969 0.326 0.005   \n",
       "                             Kiel       2.540  1  4.951 0.027 0.025   \n",
       "                             Magdeburg  2.734  1  5.330 0.022 0.027   \n",
       "                             Sweden    19.882  1 38.755 0.000 0.169   \n",
       "\n",
       "model                                                                 TRKNN  \\\n",
       "var                                    -Log10 pvalue qvalue rejected     SS   \n",
       "protein groups               Source                                           \n",
       "A0A024QZX5;A0A087X1N8;P35237 AD                2.182  0.019     True  0.994   \n",
       "                             age               0.100  0.861    False  0.004   \n",
       "                             Kiel              0.833  0.245    False  0.269   \n",
       "                             Magdeburg         1.205  0.123    False  0.519   \n",
       "                             Sweden            3.272  0.002     True  1.796   \n",
       "...                                              ...    ...      ...    ...   \n",
       "S4R3U6                       AD                1.411  0.083    False  2.295   \n",
       "                             age               0.487  0.457    False  0.398   \n",
       "                             Kiel              1.565  0.062    False  2.981   \n",
       "                             Magdeburg         1.657  0.052    False  3.440   \n",
       "                             Sweden            8.525  0.000     True 27.114   \n",
       "\n",
       "model                                      ...  QRILC              CF     \\\n",
       "var                                    DF  ... qvalue rejected     SS DF   \n",
       "protein groups               Source        ...                             \n",
       "A0A024QZX5;A0A087X1N8;P35237 AD         1  ...  0.090    False  1.039  1   \n",
       "                             age        1  ...  0.866    False  0.004  1   \n",
       "                             Kiel       1  ...  0.221    False  0.238  1   \n",
       "                             Magdeburg  1  ...  0.052    False  0.432  1   \n",
       "                             Sweden     1  ...  0.001     True  1.581  1   \n",
       "...                                    ..  ...    ...      ...    ... ..   \n",
       "S4R3U6                       AD         1  ...  0.116    False  2.281  1   \n",
       "                             age        1  ...  0.671    False  0.391  1   \n",
       "                             Kiel       1  ...  0.082    False  1.871  1   \n",
       "                             Magdeburg  1  ...  0.030     True  1.997  1   \n",
       "                             Sweden     1  ...  0.917    False 22.628  1   \n",
       "\n",
       "model                                                                    \\\n",
       "var                                         F p-unc   np2 -Log10 pvalue   \n",
       "protein groups               Source                                       \n",
       "A0A024QZX5;A0A087X1N8;P35237 AD         7.616 0.006 0.038         2.197   \n",
       "                             age        0.028 0.868 0.000         0.061   \n",
       "                             Kiel       1.747 0.188 0.009         0.726   \n",
       "                             Magdeburg  3.166 0.077 0.016         1.115   \n",
       "                             Sweden    11.585 0.001 0.057         3.091   \n",
       "...                                       ...   ...   ...           ...   \n",
       "S4R3U6                       AD         4.661 0.032 0.024         1.493   \n",
       "                             age        0.800 0.372 0.004         0.429   \n",
       "                             Kiel       3.824 0.052 0.020         1.284   \n",
       "                             Magdeburg  4.081 0.045 0.021         1.349   \n",
       "                             Sweden    46.245 0.000 0.195         9.886   \n",
       "\n",
       "model                                                   \n",
       "var                                    qvalue rejected  \n",
       "protein groups               Source                     \n",
       "A0A024QZX5;A0A087X1N8;P35237 AD         0.019     True  \n",
       "                             age        0.916    False  \n",
       "                             Kiel       0.302    False  \n",
       "                             Magdeburg  0.150    False  \n",
       "                             Sweden     0.003     True  \n",
       "...                                       ...      ...  \n",
       "S4R3U6                       AD         0.073    False  \n",
       "                             age        0.504    False  \n",
       "                             Kiel       0.108    False  \n",
       "                             Magdeburg  0.096    False  \n",
       "                             Sweden     0.000     True  \n",
       "\n",
       "[7105 rows x 72 columns]"
      ]
     },
     "execution_count": 7,
     "metadata": {},
     "output_type": "execute_result"
    }
   ],
   "source": [
    "scores = pd.concat([pd.read_pickle(fname) for fname in score_dumps], axis=1)\n",
    "scores"
   ]
  },
  {
   "cell_type": "markdown",
   "id": "1abb0f0b",
   "metadata": {
    "papermill": {
     "duration": 0.021766,
     "end_time": "2024-08-19T10:01:17.039730",
     "exception": false,
     "start_time": "2024-08-19T10:01:17.017964",
     "status": "completed"
    },
    "tags": []
   },
   "source": [
    "If reference dump is provided, add it to the scores"
   ]
  },
  {
   "cell_type": "code",
   "execution_count": 8,
   "id": "c92dae12",
   "metadata": {
    "execution": {
     "iopub.execute_input": "2024-08-19T10:01:17.065175Z",
     "iopub.status.busy": "2024-08-19T10:01:17.064852Z",
     "iopub.status.idle": "2024-08-19T10:01:17.068903Z",
     "shell.execute_reply": "2024-08-19T10:01:17.068276Z"
    },
    "papermill": {
     "duration": 0.019867,
     "end_time": "2024-08-19T10:01:17.071429",
     "exception": false,
     "start_time": "2024-08-19T10:01:17.051562",
     "status": "completed"
    },
    "tags": [
     "hide-input"
    ]
   },
   "outputs": [],
   "source": [
    "if args.ref_method_score:\n",
    "    scores_reference = (pd\n",
    "                        .read_pickle(args.ref_method_score)\n",
    "                        .rename({'None': 'None (100%)'},\n",
    "                                axis=1))\n",
    "    scores = scores.join(scores_reference)\n",
    "    logger.info(f'Added reference method scores from {args.ref_method_score}')"
   ]
  },
  {
   "cell_type": "markdown",
   "id": "79746f59",
   "metadata": {
    "papermill": {
     "duration": 0.011183,
     "end_time": "2024-08-19T10:01:17.094251",
     "exception": false,
     "start_time": "2024-08-19T10:01:17.083068",
     "status": "completed"
    },
    "tags": []
   },
   "source": [
    "### Load frequencies of observed features"
   ]
  },
  {
   "cell_type": "code",
   "execution_count": 9,
   "id": "86ecc391",
   "metadata": {
    "execution": {
     "iopub.execute_input": "2024-08-19T10:01:17.128096Z",
     "iopub.status.busy": "2024-08-19T10:01:17.127796Z",
     "iopub.status.idle": "2024-08-19T10:01:17.141422Z",
     "shell.execute_reply": "2024-08-19T10:01:17.140796Z"
    },
    "papermill": {
     "duration": 0.037389,
     "end_time": "2024-08-19T10:01:17.143046",
     "exception": false,
     "start_time": "2024-08-19T10:01:17.105657",
     "status": "completed"
    },
    "tags": [
     "hide-input"
    ]
   },
   "outputs": [
    {
     "data": {
      "text/html": [
       "<div>\n",
       "<style scoped>\n",
       "    .dataframe tbody tr th:only-of-type {\n",
       "        vertical-align: middle;\n",
       "    }\n",
       "\n",
       "    .dataframe tbody tr th {\n",
       "        vertical-align: top;\n",
       "    }\n",
       "\n",
       "    .dataframe thead tr th {\n",
       "        text-align: left;\n",
       "    }\n",
       "\n",
       "    .dataframe thead tr:last-of-type th {\n",
       "        text-align: right;\n",
       "    }\n",
       "</style>\n",
       "<table border=\"1\" class=\"dataframe\">\n",
       "  <thead>\n",
       "    <tr>\n",
       "      <th></th>\n",
       "      <th>data</th>\n",
       "    </tr>\n",
       "    <tr>\n",
       "      <th></th>\n",
       "      <th>frequency</th>\n",
       "    </tr>\n",
       "    <tr>\n",
       "      <th>protein groups</th>\n",
       "      <th></th>\n",
       "    </tr>\n",
       "  </thead>\n",
       "  <tbody>\n",
       "    <tr>\n",
       "      <th>A0A024QZX5;A0A087X1N8;P35237</th>\n",
       "      <td>186</td>\n",
       "    </tr>\n",
       "    <tr>\n",
       "      <th>A0A024R0T9;K7ER74;P02655</th>\n",
       "      <td>195</td>\n",
       "    </tr>\n",
       "    <tr>\n",
       "      <th>A0A024R3W6;A0A024R412;O60462;O60462-2;O60462-3;O60462-4;O60462-5;Q7LBX6;X5D2Q8</th>\n",
       "      <td>174</td>\n",
       "    </tr>\n",
       "    <tr>\n",
       "      <th>A0A024R644;A0A0A0MRU5;A0A1B0GWI2;O75503</th>\n",
       "      <td>196</td>\n",
       "    </tr>\n",
       "    <tr>\n",
       "      <th>A0A075B6H7</th>\n",
       "      <td>91</td>\n",
       "    </tr>\n",
       "    <tr>\n",
       "      <th>...</th>\n",
       "      <td>...</td>\n",
       "    </tr>\n",
       "    <tr>\n",
       "      <th>Q9Y6R7</th>\n",
       "      <td>197</td>\n",
       "    </tr>\n",
       "    <tr>\n",
       "      <th>Q9Y6X5</th>\n",
       "      <td>173</td>\n",
       "    </tr>\n",
       "    <tr>\n",
       "      <th>Q9Y6Y8;Q9Y6Y8-2</th>\n",
       "      <td>197</td>\n",
       "    </tr>\n",
       "    <tr>\n",
       "      <th>Q9Y6Y9</th>\n",
       "      <td>119</td>\n",
       "    </tr>\n",
       "    <tr>\n",
       "      <th>S4R3U6</th>\n",
       "      <td>126</td>\n",
       "    </tr>\n",
       "  </tbody>\n",
       "</table>\n",
       "<p>1421 rows × 1 columns</p>\n",
       "</div>"
      ],
      "text/plain": [
       "                                                        data\n",
       "                                                   frequency\n",
       "protein groups                                              \n",
       "A0A024QZX5;A0A087X1N8;P35237                             186\n",
       "A0A024R0T9;K7ER74;P02655                                 195\n",
       "A0A024R3W6;A0A024R412;O60462;O60462-2;O60462-3;...       174\n",
       "A0A024R644;A0A0A0MRU5;A0A1B0GWI2;O75503                  196\n",
       "A0A075B6H7                                                91\n",
       "...                                                      ...\n",
       "Q9Y6R7                                                   197\n",
       "Q9Y6X5                                                   173\n",
       "Q9Y6Y8;Q9Y6Y8-2                                          197\n",
       "Q9Y6Y9                                                   119\n",
       "S4R3U6                                                   126\n",
       "\n",
       "[1421 rows x 1 columns]"
      ]
     },
     "execution_count": 9,
     "metadata": {},
     "output_type": "execute_result"
    }
   ],
   "source": [
    "fname = args.folder_experiment / 'freq_features_observed.csv'\n",
    "freq_feat = pd.read_csv(fname, index_col=0)\n",
    "freq_feat.columns = pd.MultiIndex.from_tuples([('data', 'frequency'),])\n",
    "freq_feat"
   ]
  },
  {
   "cell_type": "markdown",
   "id": "641099cd",
   "metadata": {
    "papermill": {
     "duration": 0.0126,
     "end_time": "2024-08-19T10:01:17.168768",
     "exception": false,
     "start_time": "2024-08-19T10:01:17.156168",
     "status": "completed"
    },
    "tags": []
   },
   "source": [
    "### Assemble qvalues"
   ]
  },
  {
   "cell_type": "code",
   "execution_count": 10,
   "id": "54a41e86",
   "metadata": {
    "execution": {
     "iopub.execute_input": "2024-08-19T10:01:17.197593Z",
     "iopub.status.busy": "2024-08-19T10:01:17.196934Z",
     "iopub.status.idle": "2024-08-19T10:01:18.017580Z",
     "shell.execute_reply": "2024-08-19T10:01:18.016904Z"
    },
    "papermill": {
     "duration": 0.837008,
     "end_time": "2024-08-19T10:01:18.019167",
     "exception": false,
     "start_time": "2024-08-19T10:01:17.182159",
     "status": "completed"
    },
    "tags": [
     "hide-input"
    ]
   },
   "outputs": [
    {
     "data": {
      "text/html": [
       "<div>\n",
       "<style scoped>\n",
       "    .dataframe tbody tr th:only-of-type {\n",
       "        vertical-align: middle;\n",
       "    }\n",
       "\n",
       "    .dataframe tbody tr th {\n",
       "        vertical-align: top;\n",
       "    }\n",
       "\n",
       "    .dataframe thead tr th {\n",
       "        text-align: left;\n",
       "    }\n",
       "\n",
       "    .dataframe thead tr:last-of-type th {\n",
       "        text-align: right;\n",
       "    }\n",
       "</style>\n",
       "<table border=\"1\" class=\"dataframe\">\n",
       "  <thead>\n",
       "    <tr>\n",
       "      <th></th>\n",
       "      <th></th>\n",
       "      <th></th>\n",
       "      <th>VAE</th>\n",
       "      <th>TRKNN</th>\n",
       "      <th>PI</th>\n",
       "      <th>None</th>\n",
       "      <th>RF</th>\n",
       "      <th>DAE</th>\n",
       "      <th>Median</th>\n",
       "      <th>QRILC</th>\n",
       "      <th>CF</th>\n",
       "    </tr>\n",
       "    <tr>\n",
       "      <th></th>\n",
       "      <th></th>\n",
       "      <th></th>\n",
       "      <th>qvalue</th>\n",
       "      <th>qvalue</th>\n",
       "      <th>qvalue</th>\n",
       "      <th>qvalue</th>\n",
       "      <th>qvalue</th>\n",
       "      <th>qvalue</th>\n",
       "      <th>qvalue</th>\n",
       "      <th>qvalue</th>\n",
       "      <th>qvalue</th>\n",
       "    </tr>\n",
       "    <tr>\n",
       "      <th>protein groups</th>\n",
       "      <th>Source</th>\n",
       "      <th>frequency</th>\n",
       "      <th></th>\n",
       "      <th></th>\n",
       "      <th></th>\n",
       "      <th></th>\n",
       "      <th></th>\n",
       "      <th></th>\n",
       "      <th></th>\n",
       "      <th></th>\n",
       "      <th></th>\n",
       "    </tr>\n",
       "  </thead>\n",
       "  <tbody>\n",
       "    <tr>\n",
       "      <th>A0A024QZX5;A0A087X1N8;P35237</th>\n",
       "      <th>AD</th>\n",
       "      <th>186</th>\n",
       "      <td>0.019</td>\n",
       "      <td>0.023</td>\n",
       "      <td>0.588</td>\n",
       "      <td>0.043</td>\n",
       "      <td>0.026</td>\n",
       "      <td>0.019</td>\n",
       "      <td>0.039</td>\n",
       "      <td>0.090</td>\n",
       "      <td>0.019</td>\n",
       "    </tr>\n",
       "    <tr>\n",
       "      <th>A0A024R0T9;K7ER74;P02655</th>\n",
       "      <th>AD</th>\n",
       "      <th>195</th>\n",
       "      <td>0.072</td>\n",
       "      <td>0.071</td>\n",
       "      <td>0.101</td>\n",
       "      <td>0.092</td>\n",
       "      <td>0.076</td>\n",
       "      <td>0.067</td>\n",
       "      <td>0.087</td>\n",
       "      <td>0.090</td>\n",
       "      <td>0.077</td>\n",
       "    </tr>\n",
       "    <tr>\n",
       "      <th>A0A024R3W6;A0A024R412;O60462;O60462-2;O60462-3;O60462-4;O60462-5;Q7LBX6;X5D2Q8</th>\n",
       "      <th>AD</th>\n",
       "      <th>174</th>\n",
       "      <td>0.479</td>\n",
       "      <td>0.394</td>\n",
       "      <td>0.145</td>\n",
       "      <td>0.586</td>\n",
       "      <td>0.543</td>\n",
       "      <td>0.375</td>\n",
       "      <td>0.832</td>\n",
       "      <td>0.514</td>\n",
       "      <td>0.379</td>\n",
       "    </tr>\n",
       "    <tr>\n",
       "      <th>A0A024R644;A0A0A0MRU5;A0A1B0GWI2;O75503</th>\n",
       "      <th>AD</th>\n",
       "      <th>196</th>\n",
       "      <td>0.377</td>\n",
       "      <td>0.396</td>\n",
       "      <td>0.732</td>\n",
       "      <td>0.404</td>\n",
       "      <td>0.388</td>\n",
       "      <td>0.390</td>\n",
       "      <td>0.418</td>\n",
       "      <td>0.453</td>\n",
       "      <td>0.392</td>\n",
       "    </tr>\n",
       "    <tr>\n",
       "      <th>A0A075B6H7</th>\n",
       "      <th>AD</th>\n",
       "      <th>91</th>\n",
       "      <td>0.025</td>\n",
       "      <td>0.048</td>\n",
       "      <td>0.223</td>\n",
       "      <td>0.027</td>\n",
       "      <td>0.010</td>\n",
       "      <td>0.020</td>\n",
       "      <td>0.124</td>\n",
       "      <td>0.543</td>\n",
       "      <td>0.012</td>\n",
       "    </tr>\n",
       "    <tr>\n",
       "      <th>...</th>\n",
       "      <th>...</th>\n",
       "      <th>...</th>\n",
       "      <td>...</td>\n",
       "      <td>...</td>\n",
       "      <td>...</td>\n",
       "      <td>...</td>\n",
       "      <td>...</td>\n",
       "      <td>...</td>\n",
       "      <td>...</td>\n",
       "      <td>...</td>\n",
       "      <td>...</td>\n",
       "    </tr>\n",
       "    <tr>\n",
       "      <th>Q9Y6R7</th>\n",
       "      <th>AD</th>\n",
       "      <th>197</th>\n",
       "      <td>0.283</td>\n",
       "      <td>0.289</td>\n",
       "      <td>0.315</td>\n",
       "      <td>0.307</td>\n",
       "      <td>0.292</td>\n",
       "      <td>0.284</td>\n",
       "      <td>0.315</td>\n",
       "      <td>0.303</td>\n",
       "      <td>0.286</td>\n",
       "    </tr>\n",
       "    <tr>\n",
       "      <th>Q9Y6X5</th>\n",
       "      <th>AD</th>\n",
       "      <th>173</th>\n",
       "      <td>0.302</td>\n",
       "      <td>0.205</td>\n",
       "      <td>0.071</td>\n",
       "      <td>0.501</td>\n",
       "      <td>0.303</td>\n",
       "      <td>0.387</td>\n",
       "      <td>0.455</td>\n",
       "      <td>0.144</td>\n",
       "      <td>0.376</td>\n",
       "    </tr>\n",
       "    <tr>\n",
       "      <th>Q9Y6Y8;Q9Y6Y8-2</th>\n",
       "      <th>AD</th>\n",
       "      <th>197</th>\n",
       "      <td>0.156</td>\n",
       "      <td>0.160</td>\n",
       "      <td>0.182</td>\n",
       "      <td>0.174</td>\n",
       "      <td>0.162</td>\n",
       "      <td>0.156</td>\n",
       "      <td>0.178</td>\n",
       "      <td>0.171</td>\n",
       "      <td>0.160</td>\n",
       "    </tr>\n",
       "    <tr>\n",
       "      <th>Q9Y6Y9</th>\n",
       "      <th>AD</th>\n",
       "      <th>119</th>\n",
       "      <td>0.861</td>\n",
       "      <td>0.472</td>\n",
       "      <td>0.569</td>\n",
       "      <td>0.651</td>\n",
       "      <td>0.663</td>\n",
       "      <td>0.800</td>\n",
       "      <td>0.667</td>\n",
       "      <td>0.632</td>\n",
       "      <td>0.642</td>\n",
       "    </tr>\n",
       "    <tr>\n",
       "      <th>S4R3U6</th>\n",
       "      <th>AD</th>\n",
       "      <th>126</th>\n",
       "      <td>0.083</td>\n",
       "      <td>0.080</td>\n",
       "      <td>0.767</td>\n",
       "      <td>0.802</td>\n",
       "      <td>0.152</td>\n",
       "      <td>0.066</td>\n",
       "      <td>0.829</td>\n",
       "      <td>0.116</td>\n",
       "      <td>0.073</td>\n",
       "    </tr>\n",
       "  </tbody>\n",
       "</table>\n",
       "<p>1421 rows × 9 columns</p>\n",
       "</div>"
      ],
      "text/plain": [
       "                                                                       VAE  \\\n",
       "                                                                    qvalue   \n",
       "protein groups                                     Source frequency          \n",
       "A0A024QZX5;A0A087X1N8;P35237                       AD     186        0.019   \n",
       "A0A024R0T9;K7ER74;P02655                           AD     195        0.072   \n",
       "A0A024R3W6;A0A024R412;O60462;O60462-2;O60462-3;... AD     174        0.479   \n",
       "A0A024R644;A0A0A0MRU5;A0A1B0GWI2;O75503            AD     196        0.377   \n",
       "A0A075B6H7                                         AD     91         0.025   \n",
       "...                                                                    ...   \n",
       "Q9Y6R7                                             AD     197        0.283   \n",
       "Q9Y6X5                                             AD     173        0.302   \n",
       "Q9Y6Y8;Q9Y6Y8-2                                    AD     197        0.156   \n",
       "Q9Y6Y9                                             AD     119        0.861   \n",
       "S4R3U6                                             AD     126        0.083   \n",
       "\n",
       "                                                                     TRKNN  \\\n",
       "                                                                    qvalue   \n",
       "protein groups                                     Source frequency          \n",
       "A0A024QZX5;A0A087X1N8;P35237                       AD     186        0.023   \n",
       "A0A024R0T9;K7ER74;P02655                           AD     195        0.071   \n",
       "A0A024R3W6;A0A024R412;O60462;O60462-2;O60462-3;... AD     174        0.394   \n",
       "A0A024R644;A0A0A0MRU5;A0A1B0GWI2;O75503            AD     196        0.396   \n",
       "A0A075B6H7                                         AD     91         0.048   \n",
       "...                                                                    ...   \n",
       "Q9Y6R7                                             AD     197        0.289   \n",
       "Q9Y6X5                                             AD     173        0.205   \n",
       "Q9Y6Y8;Q9Y6Y8-2                                    AD     197        0.160   \n",
       "Q9Y6Y9                                             AD     119        0.472   \n",
       "S4R3U6                                             AD     126        0.080   \n",
       "\n",
       "                                                                        PI  \\\n",
       "                                                                    qvalue   \n",
       "protein groups                                     Source frequency          \n",
       "A0A024QZX5;A0A087X1N8;P35237                       AD     186        0.588   \n",
       "A0A024R0T9;K7ER74;P02655                           AD     195        0.101   \n",
       "A0A024R3W6;A0A024R412;O60462;O60462-2;O60462-3;... AD     174        0.145   \n",
       "A0A024R644;A0A0A0MRU5;A0A1B0GWI2;O75503            AD     196        0.732   \n",
       "A0A075B6H7                                         AD     91         0.223   \n",
       "...                                                                    ...   \n",
       "Q9Y6R7                                             AD     197        0.315   \n",
       "Q9Y6X5                                             AD     173        0.071   \n",
       "Q9Y6Y8;Q9Y6Y8-2                                    AD     197        0.182   \n",
       "Q9Y6Y9                                             AD     119        0.569   \n",
       "S4R3U6                                             AD     126        0.767   \n",
       "\n",
       "                                                                      None  \\\n",
       "                                                                    qvalue   \n",
       "protein groups                                     Source frequency          \n",
       "A0A024QZX5;A0A087X1N8;P35237                       AD     186        0.043   \n",
       "A0A024R0T9;K7ER74;P02655                           AD     195        0.092   \n",
       "A0A024R3W6;A0A024R412;O60462;O60462-2;O60462-3;... AD     174        0.586   \n",
       "A0A024R644;A0A0A0MRU5;A0A1B0GWI2;O75503            AD     196        0.404   \n",
       "A0A075B6H7                                         AD     91         0.027   \n",
       "...                                                                    ...   \n",
       "Q9Y6R7                                             AD     197        0.307   \n",
       "Q9Y6X5                                             AD     173        0.501   \n",
       "Q9Y6Y8;Q9Y6Y8-2                                    AD     197        0.174   \n",
       "Q9Y6Y9                                             AD     119        0.651   \n",
       "S4R3U6                                             AD     126        0.802   \n",
       "\n",
       "                                                                        RF  \\\n",
       "                                                                    qvalue   \n",
       "protein groups                                     Source frequency          \n",
       "A0A024QZX5;A0A087X1N8;P35237                       AD     186        0.026   \n",
       "A0A024R0T9;K7ER74;P02655                           AD     195        0.076   \n",
       "A0A024R3W6;A0A024R412;O60462;O60462-2;O60462-3;... AD     174        0.543   \n",
       "A0A024R644;A0A0A0MRU5;A0A1B0GWI2;O75503            AD     196        0.388   \n",
       "A0A075B6H7                                         AD     91         0.010   \n",
       "...                                                                    ...   \n",
       "Q9Y6R7                                             AD     197        0.292   \n",
       "Q9Y6X5                                             AD     173        0.303   \n",
       "Q9Y6Y8;Q9Y6Y8-2                                    AD     197        0.162   \n",
       "Q9Y6Y9                                             AD     119        0.663   \n",
       "S4R3U6                                             AD     126        0.152   \n",
       "\n",
       "                                                                       DAE  \\\n",
       "                                                                    qvalue   \n",
       "protein groups                                     Source frequency          \n",
       "A0A024QZX5;A0A087X1N8;P35237                       AD     186        0.019   \n",
       "A0A024R0T9;K7ER74;P02655                           AD     195        0.067   \n",
       "A0A024R3W6;A0A024R412;O60462;O60462-2;O60462-3;... AD     174        0.375   \n",
       "A0A024R644;A0A0A0MRU5;A0A1B0GWI2;O75503            AD     196        0.390   \n",
       "A0A075B6H7                                         AD     91         0.020   \n",
       "...                                                                    ...   \n",
       "Q9Y6R7                                             AD     197        0.284   \n",
       "Q9Y6X5                                             AD     173        0.387   \n",
       "Q9Y6Y8;Q9Y6Y8-2                                    AD     197        0.156   \n",
       "Q9Y6Y9                                             AD     119        0.800   \n",
       "S4R3U6                                             AD     126        0.066   \n",
       "\n",
       "                                                                    Median  \\\n",
       "                                                                    qvalue   \n",
       "protein groups                                     Source frequency          \n",
       "A0A024QZX5;A0A087X1N8;P35237                       AD     186        0.039   \n",
       "A0A024R0T9;K7ER74;P02655                           AD     195        0.087   \n",
       "A0A024R3W6;A0A024R412;O60462;O60462-2;O60462-3;... AD     174        0.832   \n",
       "A0A024R644;A0A0A0MRU5;A0A1B0GWI2;O75503            AD     196        0.418   \n",
       "A0A075B6H7                                         AD     91         0.124   \n",
       "...                                                                    ...   \n",
       "Q9Y6R7                                             AD     197        0.315   \n",
       "Q9Y6X5                                             AD     173        0.455   \n",
       "Q9Y6Y8;Q9Y6Y8-2                                    AD     197        0.178   \n",
       "Q9Y6Y9                                             AD     119        0.667   \n",
       "S4R3U6                                             AD     126        0.829   \n",
       "\n",
       "                                                                     QRILC  \\\n",
       "                                                                    qvalue   \n",
       "protein groups                                     Source frequency          \n",
       "A0A024QZX5;A0A087X1N8;P35237                       AD     186        0.090   \n",
       "A0A024R0T9;K7ER74;P02655                           AD     195        0.090   \n",
       "A0A024R3W6;A0A024R412;O60462;O60462-2;O60462-3;... AD     174        0.514   \n",
       "A0A024R644;A0A0A0MRU5;A0A1B0GWI2;O75503            AD     196        0.453   \n",
       "A0A075B6H7                                         AD     91         0.543   \n",
       "...                                                                    ...   \n",
       "Q9Y6R7                                             AD     197        0.303   \n",
       "Q9Y6X5                                             AD     173        0.144   \n",
       "Q9Y6Y8;Q9Y6Y8-2                                    AD     197        0.171   \n",
       "Q9Y6Y9                                             AD     119        0.632   \n",
       "S4R3U6                                             AD     126        0.116   \n",
       "\n",
       "                                                                        CF  \n",
       "                                                                    qvalue  \n",
       "protein groups                                     Source frequency         \n",
       "A0A024QZX5;A0A087X1N8;P35237                       AD     186        0.019  \n",
       "A0A024R0T9;K7ER74;P02655                           AD     195        0.077  \n",
       "A0A024R3W6;A0A024R412;O60462;O60462-2;O60462-3;... AD     174        0.379  \n",
       "A0A024R644;A0A0A0MRU5;A0A1B0GWI2;O75503            AD     196        0.392  \n",
       "A0A075B6H7                                         AD     91         0.012  \n",
       "...                                                                    ...  \n",
       "Q9Y6R7                                             AD     197        0.286  \n",
       "Q9Y6X5                                             AD     173        0.376  \n",
       "Q9Y6Y8;Q9Y6Y8-2                                    AD     197        0.160  \n",
       "Q9Y6Y9                                             AD     119        0.642  \n",
       "S4R3U6                                             AD     126        0.073  \n",
       "\n",
       "[1421 rows x 9 columns]"
      ]
     },
     "execution_count": 10,
     "metadata": {},
     "output_type": "execute_result"
    }
   ],
   "source": [
    "qvalues = scores.loc[pd.IndexSlice[:, args.target],\n",
    "                     pd.IndexSlice[:, 'qvalue']\n",
    "                     ].join(freq_feat\n",
    "                            ).set_index(\n",
    "    ('data', 'frequency'), append=True)\n",
    "qvalues.index.names = qvalues.index.names[:-1] + ['frequency']\n",
    "fname = args.out_folder / 'qvalues_target.pkl'\n",
    "files_out[fname.name] = fname.as_posix()\n",
    "qvalues.to_pickle(fname)\n",
    "qvalues.to_excel(writer, sheet_name='qvalues_all')\n",
    "qvalues"
   ]
  },
  {
   "cell_type": "markdown",
   "id": "d024e94d",
   "metadata": {
    "papermill": {
     "duration": 0.05084,
     "end_time": "2024-08-19T10:01:18.100764",
     "exception": false,
     "start_time": "2024-08-19T10:01:18.049924",
     "status": "completed"
    },
    "tags": []
   },
   "source": [
    "### Assemble pvalues"
   ]
  },
  {
   "cell_type": "code",
   "execution_count": 11,
   "id": "0b2488e4",
   "metadata": {
    "execution": {
     "iopub.execute_input": "2024-08-19T10:01:18.187413Z",
     "iopub.status.busy": "2024-08-19T10:01:18.187093Z",
     "iopub.status.idle": "2024-08-19T10:01:19.506176Z",
     "shell.execute_reply": "2024-08-19T10:01:19.505479Z"
    },
    "papermill": {
     "duration": 1.368395,
     "end_time": "2024-08-19T10:01:19.507808",
     "exception": false,
     "start_time": "2024-08-19T10:01:18.139413",
     "status": "completed"
    },
    "tags": [
     "hide-input"
    ]
   },
   "outputs": [
    {
     "data": {
      "text/html": [
       "<div>\n",
       "<style scoped>\n",
       "    .dataframe tbody tr th:only-of-type {\n",
       "        vertical-align: middle;\n",
       "    }\n",
       "\n",
       "    .dataframe tbody tr th {\n",
       "        vertical-align: top;\n",
       "    }\n",
       "\n",
       "    .dataframe thead tr th {\n",
       "        text-align: left;\n",
       "    }\n",
       "\n",
       "    .dataframe thead tr:last-of-type th {\n",
       "        text-align: right;\n",
       "    }\n",
       "</style>\n",
       "<table border=\"1\" class=\"dataframe\">\n",
       "  <thead>\n",
       "    <tr>\n",
       "      <th></th>\n",
       "      <th></th>\n",
       "      <th></th>\n",
       "      <th>VAE</th>\n",
       "      <th>TRKNN</th>\n",
       "      <th>PI</th>\n",
       "      <th>None</th>\n",
       "      <th>RF</th>\n",
       "      <th>DAE</th>\n",
       "      <th>Median</th>\n",
       "      <th>QRILC</th>\n",
       "      <th>CF</th>\n",
       "    </tr>\n",
       "    <tr>\n",
       "      <th></th>\n",
       "      <th></th>\n",
       "      <th></th>\n",
       "      <th>p-unc</th>\n",
       "      <th>p-unc</th>\n",
       "      <th>p-unc</th>\n",
       "      <th>p-unc</th>\n",
       "      <th>p-unc</th>\n",
       "      <th>p-unc</th>\n",
       "      <th>p-unc</th>\n",
       "      <th>p-unc</th>\n",
       "      <th>p-unc</th>\n",
       "    </tr>\n",
       "    <tr>\n",
       "      <th>protein groups</th>\n",
       "      <th>Source</th>\n",
       "      <th>frequency</th>\n",
       "      <th></th>\n",
       "      <th></th>\n",
       "      <th></th>\n",
       "      <th></th>\n",
       "      <th></th>\n",
       "      <th></th>\n",
       "      <th></th>\n",
       "      <th></th>\n",
       "      <th></th>\n",
       "    </tr>\n",
       "  </thead>\n",
       "  <tbody>\n",
       "    <tr>\n",
       "      <th>A0A024QZX5;A0A087X1N8;P35237</th>\n",
       "      <th>AD</th>\n",
       "      <th>186</th>\n",
       "      <td>0.007</td>\n",
       "      <td>0.008</td>\n",
       "      <td>0.426</td>\n",
       "      <td>0.015</td>\n",
       "      <td>0.009</td>\n",
       "      <td>0.007</td>\n",
       "      <td>0.012</td>\n",
       "      <td>0.037</td>\n",
       "      <td>0.006</td>\n",
       "    </tr>\n",
       "    <tr>\n",
       "      <th>A0A024R0T9;K7ER74;P02655</th>\n",
       "      <th>AD</th>\n",
       "      <th>195</th>\n",
       "      <td>0.033</td>\n",
       "      <td>0.031</td>\n",
       "      <td>0.039</td>\n",
       "      <td>0.037</td>\n",
       "      <td>0.033</td>\n",
       "      <td>0.030</td>\n",
       "      <td>0.033</td>\n",
       "      <td>0.037</td>\n",
       "      <td>0.034</td>\n",
       "    </tr>\n",
       "    <tr>\n",
       "      <th>A0A024R3W6;A0A024R412;O60462;O60462-2;O60462-3;O60462-4;O60462-5;Q7LBX6;X5D2Q8</th>\n",
       "      <th>AD</th>\n",
       "      <th>174</th>\n",
       "      <td>0.349</td>\n",
       "      <td>0.264</td>\n",
       "      <td>0.063</td>\n",
       "      <td>0.432</td>\n",
       "      <td>0.405</td>\n",
       "      <td>0.252</td>\n",
       "      <td>0.736</td>\n",
       "      <td>0.363</td>\n",
       "      <td>0.253</td>\n",
       "    </tr>\n",
       "    <tr>\n",
       "      <th>A0A024R644;A0A0A0MRU5;A0A1B0GWI2;O75503</th>\n",
       "      <th>AD</th>\n",
       "      <th>196</th>\n",
       "      <td>0.254</td>\n",
       "      <td>0.266</td>\n",
       "      <td>0.598</td>\n",
       "      <td>0.254</td>\n",
       "      <td>0.255</td>\n",
       "      <td>0.265</td>\n",
       "      <td>0.259</td>\n",
       "      <td>0.300</td>\n",
       "      <td>0.264</td>\n",
       "    </tr>\n",
       "    <tr>\n",
       "      <th>A0A075B6H7</th>\n",
       "      <th>AD</th>\n",
       "      <th>91</th>\n",
       "      <td>0.009</td>\n",
       "      <td>0.020</td>\n",
       "      <td>0.109</td>\n",
       "      <td>0.008</td>\n",
       "      <td>0.003</td>\n",
       "      <td>0.007</td>\n",
       "      <td>0.053</td>\n",
       "      <td>0.394</td>\n",
       "      <td>0.004</td>\n",
       "    </tr>\n",
       "    <tr>\n",
       "      <th>...</th>\n",
       "      <th>...</th>\n",
       "      <th>...</th>\n",
       "      <td>...</td>\n",
       "      <td>...</td>\n",
       "      <td>...</td>\n",
       "      <td>...</td>\n",
       "      <td>...</td>\n",
       "      <td>...</td>\n",
       "      <td>...</td>\n",
       "      <td>...</td>\n",
       "      <td>...</td>\n",
       "    </tr>\n",
       "    <tr>\n",
       "      <th>Q9Y6R7</th>\n",
       "      <th>AD</th>\n",
       "      <th>197</th>\n",
       "      <td>0.175</td>\n",
       "      <td>0.175</td>\n",
       "      <td>0.175</td>\n",
       "      <td>0.175</td>\n",
       "      <td>0.175</td>\n",
       "      <td>0.175</td>\n",
       "      <td>0.175</td>\n",
       "      <td>0.175</td>\n",
       "      <td>0.175</td>\n",
       "    </tr>\n",
       "    <tr>\n",
       "      <th>Q9Y6X5</th>\n",
       "      <th>AD</th>\n",
       "      <th>173</th>\n",
       "      <td>0.191</td>\n",
       "      <td>0.113</td>\n",
       "      <td>0.025</td>\n",
       "      <td>0.344</td>\n",
       "      <td>0.183</td>\n",
       "      <td>0.262</td>\n",
       "      <td>0.291</td>\n",
       "      <td>0.067</td>\n",
       "      <td>0.250</td>\n",
       "    </tr>\n",
       "    <tr>\n",
       "      <th>Q9Y6Y8;Q9Y6Y8-2</th>\n",
       "      <th>AD</th>\n",
       "      <th>197</th>\n",
       "      <td>0.083</td>\n",
       "      <td>0.083</td>\n",
       "      <td>0.083</td>\n",
       "      <td>0.083</td>\n",
       "      <td>0.083</td>\n",
       "      <td>0.083</td>\n",
       "      <td>0.083</td>\n",
       "      <td>0.083</td>\n",
       "      <td>0.083</td>\n",
       "    </tr>\n",
       "    <tr>\n",
       "      <th>Q9Y6Y9</th>\n",
       "      <th>AD</th>\n",
       "      <th>119</th>\n",
       "      <td>0.793</td>\n",
       "      <td>0.334</td>\n",
       "      <td>0.408</td>\n",
       "      <td>0.505</td>\n",
       "      <td>0.541</td>\n",
       "      <td>0.714</td>\n",
       "      <td>0.520</td>\n",
       "      <td>0.490</td>\n",
       "      <td>0.522</td>\n",
       "    </tr>\n",
       "    <tr>\n",
       "      <th>S4R3U6</th>\n",
       "      <th>AD</th>\n",
       "      <th>126</th>\n",
       "      <td>0.039</td>\n",
       "      <td>0.036</td>\n",
       "      <td>0.643</td>\n",
       "      <td>0.698</td>\n",
       "      <td>0.077</td>\n",
       "      <td>0.029</td>\n",
       "      <td>0.730</td>\n",
       "      <td>0.052</td>\n",
       "      <td>0.032</td>\n",
       "    </tr>\n",
       "  </tbody>\n",
       "</table>\n",
       "<p>1421 rows × 9 columns</p>\n",
       "</div>"
      ],
      "text/plain": [
       "                                                                      VAE  \\\n",
       "                                                                    p-unc   \n",
       "protein groups                                     Source frequency         \n",
       "A0A024QZX5;A0A087X1N8;P35237                       AD     186       0.007   \n",
       "A0A024R0T9;K7ER74;P02655                           AD     195       0.033   \n",
       "A0A024R3W6;A0A024R412;O60462;O60462-2;O60462-3;... AD     174       0.349   \n",
       "A0A024R644;A0A0A0MRU5;A0A1B0GWI2;O75503            AD     196       0.254   \n",
       "A0A075B6H7                                         AD     91        0.009   \n",
       "...                                                                   ...   \n",
       "Q9Y6R7                                             AD     197       0.175   \n",
       "Q9Y6X5                                             AD     173       0.191   \n",
       "Q9Y6Y8;Q9Y6Y8-2                                    AD     197       0.083   \n",
       "Q9Y6Y9                                             AD     119       0.793   \n",
       "S4R3U6                                             AD     126       0.039   \n",
       "\n",
       "                                                                    TRKNN  \\\n",
       "                                                                    p-unc   \n",
       "protein groups                                     Source frequency         \n",
       "A0A024QZX5;A0A087X1N8;P35237                       AD     186       0.008   \n",
       "A0A024R0T9;K7ER74;P02655                           AD     195       0.031   \n",
       "A0A024R3W6;A0A024R412;O60462;O60462-2;O60462-3;... AD     174       0.264   \n",
       "A0A024R644;A0A0A0MRU5;A0A1B0GWI2;O75503            AD     196       0.266   \n",
       "A0A075B6H7                                         AD     91        0.020   \n",
       "...                                                                   ...   \n",
       "Q9Y6R7                                             AD     197       0.175   \n",
       "Q9Y6X5                                             AD     173       0.113   \n",
       "Q9Y6Y8;Q9Y6Y8-2                                    AD     197       0.083   \n",
       "Q9Y6Y9                                             AD     119       0.334   \n",
       "S4R3U6                                             AD     126       0.036   \n",
       "\n",
       "                                                                       PI  \\\n",
       "                                                                    p-unc   \n",
       "protein groups                                     Source frequency         \n",
       "A0A024QZX5;A0A087X1N8;P35237                       AD     186       0.426   \n",
       "A0A024R0T9;K7ER74;P02655                           AD     195       0.039   \n",
       "A0A024R3W6;A0A024R412;O60462;O60462-2;O60462-3;... AD     174       0.063   \n",
       "A0A024R644;A0A0A0MRU5;A0A1B0GWI2;O75503            AD     196       0.598   \n",
       "A0A075B6H7                                         AD     91        0.109   \n",
       "...                                                                   ...   \n",
       "Q9Y6R7                                             AD     197       0.175   \n",
       "Q9Y6X5                                             AD     173       0.025   \n",
       "Q9Y6Y8;Q9Y6Y8-2                                    AD     197       0.083   \n",
       "Q9Y6Y9                                             AD     119       0.408   \n",
       "S4R3U6                                             AD     126       0.643   \n",
       "\n",
       "                                                                     None  \\\n",
       "                                                                    p-unc   \n",
       "protein groups                                     Source frequency         \n",
       "A0A024QZX5;A0A087X1N8;P35237                       AD     186       0.015   \n",
       "A0A024R0T9;K7ER74;P02655                           AD     195       0.037   \n",
       "A0A024R3W6;A0A024R412;O60462;O60462-2;O60462-3;... AD     174       0.432   \n",
       "A0A024R644;A0A0A0MRU5;A0A1B0GWI2;O75503            AD     196       0.254   \n",
       "A0A075B6H7                                         AD     91        0.008   \n",
       "...                                                                   ...   \n",
       "Q9Y6R7                                             AD     197       0.175   \n",
       "Q9Y6X5                                             AD     173       0.344   \n",
       "Q9Y6Y8;Q9Y6Y8-2                                    AD     197       0.083   \n",
       "Q9Y6Y9                                             AD     119       0.505   \n",
       "S4R3U6                                             AD     126       0.698   \n",
       "\n",
       "                                                                       RF  \\\n",
       "                                                                    p-unc   \n",
       "protein groups                                     Source frequency         \n",
       "A0A024QZX5;A0A087X1N8;P35237                       AD     186       0.009   \n",
       "A0A024R0T9;K7ER74;P02655                           AD     195       0.033   \n",
       "A0A024R3W6;A0A024R412;O60462;O60462-2;O60462-3;... AD     174       0.405   \n",
       "A0A024R644;A0A0A0MRU5;A0A1B0GWI2;O75503            AD     196       0.255   \n",
       "A0A075B6H7                                         AD     91        0.003   \n",
       "...                                                                   ...   \n",
       "Q9Y6R7                                             AD     197       0.175   \n",
       "Q9Y6X5                                             AD     173       0.183   \n",
       "Q9Y6Y8;Q9Y6Y8-2                                    AD     197       0.083   \n",
       "Q9Y6Y9                                             AD     119       0.541   \n",
       "S4R3U6                                             AD     126       0.077   \n",
       "\n",
       "                                                                      DAE  \\\n",
       "                                                                    p-unc   \n",
       "protein groups                                     Source frequency         \n",
       "A0A024QZX5;A0A087X1N8;P35237                       AD     186       0.007   \n",
       "A0A024R0T9;K7ER74;P02655                           AD     195       0.030   \n",
       "A0A024R3W6;A0A024R412;O60462;O60462-2;O60462-3;... AD     174       0.252   \n",
       "A0A024R644;A0A0A0MRU5;A0A1B0GWI2;O75503            AD     196       0.265   \n",
       "A0A075B6H7                                         AD     91        0.007   \n",
       "...                                                                   ...   \n",
       "Q9Y6R7                                             AD     197       0.175   \n",
       "Q9Y6X5                                             AD     173       0.262   \n",
       "Q9Y6Y8;Q9Y6Y8-2                                    AD     197       0.083   \n",
       "Q9Y6Y9                                             AD     119       0.714   \n",
       "S4R3U6                                             AD     126       0.029   \n",
       "\n",
       "                                                                    Median  \\\n",
       "                                                                     p-unc   \n",
       "protein groups                                     Source frequency          \n",
       "A0A024QZX5;A0A087X1N8;P35237                       AD     186        0.012   \n",
       "A0A024R0T9;K7ER74;P02655                           AD     195        0.033   \n",
       "A0A024R3W6;A0A024R412;O60462;O60462-2;O60462-3;... AD     174        0.736   \n",
       "A0A024R644;A0A0A0MRU5;A0A1B0GWI2;O75503            AD     196        0.259   \n",
       "A0A075B6H7                                         AD     91         0.053   \n",
       "...                                                                    ...   \n",
       "Q9Y6R7                                             AD     197        0.175   \n",
       "Q9Y6X5                                             AD     173        0.291   \n",
       "Q9Y6Y8;Q9Y6Y8-2                                    AD     197        0.083   \n",
       "Q9Y6Y9                                             AD     119        0.520   \n",
       "S4R3U6                                             AD     126        0.730   \n",
       "\n",
       "                                                                    QRILC  \\\n",
       "                                                                    p-unc   \n",
       "protein groups                                     Source frequency         \n",
       "A0A024QZX5;A0A087X1N8;P35237                       AD     186       0.037   \n",
       "A0A024R0T9;K7ER74;P02655                           AD     195       0.037   \n",
       "A0A024R3W6;A0A024R412;O60462;O60462-2;O60462-3;... AD     174       0.363   \n",
       "A0A024R644;A0A0A0MRU5;A0A1B0GWI2;O75503            AD     196       0.300   \n",
       "A0A075B6H7                                         AD     91        0.394   \n",
       "...                                                                   ...   \n",
       "Q9Y6R7                                             AD     197       0.175   \n",
       "Q9Y6X5                                             AD     173       0.067   \n",
       "Q9Y6Y8;Q9Y6Y8-2                                    AD     197       0.083   \n",
       "Q9Y6Y9                                             AD     119       0.490   \n",
       "S4R3U6                                             AD     126       0.052   \n",
       "\n",
       "                                                                       CF  \n",
       "                                                                    p-unc  \n",
       "protein groups                                     Source frequency        \n",
       "A0A024QZX5;A0A087X1N8;P35237                       AD     186       0.006  \n",
       "A0A024R0T9;K7ER74;P02655                           AD     195       0.034  \n",
       "A0A024R3W6;A0A024R412;O60462;O60462-2;O60462-3;... AD     174       0.253  \n",
       "A0A024R644;A0A0A0MRU5;A0A1B0GWI2;O75503            AD     196       0.264  \n",
       "A0A075B6H7                                         AD     91        0.004  \n",
       "...                                                                   ...  \n",
       "Q9Y6R7                                             AD     197       0.175  \n",
       "Q9Y6X5                                             AD     173       0.250  \n",
       "Q9Y6Y8;Q9Y6Y8-2                                    AD     197       0.083  \n",
       "Q9Y6Y9                                             AD     119       0.522  \n",
       "S4R3U6                                             AD     126       0.032  \n",
       "\n",
       "[1421 rows x 9 columns]"
      ]
     },
     "execution_count": 11,
     "metadata": {},
     "output_type": "execute_result"
    }
   ],
   "source": [
    "pvalues = scores.loc[pd.IndexSlice[:, args.target],\n",
    "                     pd.IndexSlice[:, 'p-unc']\n",
    "                     ].join(freq_feat\n",
    "                            ).set_index(\n",
    "    ('data', 'frequency'), append=True)\n",
    "pvalues.index.names = pvalues.index.names[:-1] + ['frequency']\n",
    "fname = args.out_folder / 'pvalues_target.pkl'\n",
    "files_out[fname.name] = fname.as_posix()\n",
    "pvalues.to_pickle(fname)\n",
    "pvalues.to_excel(writer, sheet_name='pvalues_all')\n",
    "pvalues"
   ]
  },
  {
   "cell_type": "markdown",
   "id": "b3b02e5a",
   "metadata": {
    "papermill": {
     "duration": 0.025308,
     "end_time": "2024-08-19T10:01:19.558940",
     "exception": false,
     "start_time": "2024-08-19T10:01:19.533632",
     "status": "completed"
    },
    "tags": []
   },
   "source": [
    "### Assemble rejected features"
   ]
  },
  {
   "cell_type": "code",
   "execution_count": 12,
   "id": "ec12c234",
   "metadata": {
    "execution": {
     "iopub.execute_input": "2024-08-19T10:01:19.631592Z",
     "iopub.status.busy": "2024-08-19T10:01:19.631232Z",
     "iopub.status.idle": "2024-08-19T10:01:19.674274Z",
     "shell.execute_reply": "2024-08-19T10:01:19.673485Z"
    },
    "papermill": {
     "duration": 0.081537,
     "end_time": "2024-08-19T10:01:19.676096",
     "exception": false,
     "start_time": "2024-08-19T10:01:19.594559",
     "status": "completed"
    },
    "tags": [
     "hide-input"
    ]
   },
   "outputs": [
    {
     "data": {
      "text/html": [
       "<div>\n",
       "<style scoped>\n",
       "    .dataframe tbody tr th:only-of-type {\n",
       "        vertical-align: middle;\n",
       "    }\n",
       "\n",
       "    .dataframe tbody tr th {\n",
       "        vertical-align: top;\n",
       "    }\n",
       "\n",
       "    .dataframe thead th {\n",
       "        text-align: right;\n",
       "    }\n",
       "</style>\n",
       "<table border=\"1\" class=\"dataframe\">\n",
       "  <thead>\n",
       "    <tr style=\"text-align: right;\">\n",
       "      <th></th>\n",
       "      <th>VAE</th>\n",
       "      <th>TRKNN</th>\n",
       "      <th>PI</th>\n",
       "      <th>None</th>\n",
       "      <th>RF</th>\n",
       "      <th>DAE</th>\n",
       "      <th>Median</th>\n",
       "      <th>QRILC</th>\n",
       "      <th>CF</th>\n",
       "    </tr>\n",
       "  </thead>\n",
       "  <tbody>\n",
       "    <tr>\n",
       "      <th>False</th>\n",
       "      <td>936</td>\n",
       "      <td>936</td>\n",
       "      <td>1,029</td>\n",
       "      <td>1,054</td>\n",
       "      <td>974</td>\n",
       "      <td>920</td>\n",
       "      <td>1,069</td>\n",
       "      <td>1,005</td>\n",
       "      <td>949</td>\n",
       "    </tr>\n",
       "    <tr>\n",
       "      <th>True</th>\n",
       "      <td>485</td>\n",
       "      <td>485</td>\n",
       "      <td>392</td>\n",
       "      <td>367</td>\n",
       "      <td>447</td>\n",
       "      <td>501</td>\n",
       "      <td>352</td>\n",
       "      <td>416</td>\n",
       "      <td>472</td>\n",
       "    </tr>\n",
       "  </tbody>\n",
       "</table>\n",
       "</div>"
      ],
      "text/plain": [
       "       VAE  TRKNN    PI  None  RF  DAE  Median  QRILC  CF\n",
       "False  936    936 1,029 1,054 974  920   1,069  1,005 949\n",
       "True   485    485   392   367 447  501     352    416 472"
      ]
     },
     "execution_count": 12,
     "metadata": {},
     "output_type": "execute_result"
    }
   ],
   "source": [
    "da_target = scores.loc[pd.IndexSlice[:, args.target],\n",
    "                       pd.IndexSlice[:, 'rejected']\n",
    "                       ].join(freq_feat\n",
    "                              ).set_index(\n",
    "    ('data', 'frequency'), append=True)\n",
    "da_target.index.names = da_target.index.names[:-1] + ['frequency']\n",
    "fname = args.out_folder / 'equality_rejected_target.pkl'\n",
    "files_out[fname.name] = fname.as_posix()\n",
    "da_target.to_pickle(fname)\n",
    "count_rejected = njab.pandas.combine_value_counts(da_target.droplevel(-1, axis=1))\n",
    "count_rejected.to_excel(writer, sheet_name='count_rejected')\n",
    "count_rejected"
   ]
  },
  {
   "cell_type": "markdown",
   "id": "85e2a9c8",
   "metadata": {
    "papermill": {
     "duration": 0.013624,
     "end_time": "2024-08-19T10:01:19.707090",
     "exception": false,
     "start_time": "2024-08-19T10:01:19.693466",
     "status": "completed"
    },
    "tags": []
   },
   "source": [
    "### Tabulate rejected decisions by method:"
   ]
  },
  {
   "cell_type": "code",
   "execution_count": 13,
   "id": "c9e0a7b4",
   "metadata": {
    "execution": {
     "iopub.execute_input": "2024-08-19T10:01:19.739414Z",
     "iopub.status.busy": "2024-08-19T10:01:19.739103Z",
     "iopub.status.idle": "2024-08-19T10:01:19.806448Z",
     "shell.execute_reply": "2024-08-19T10:01:19.805504Z"
    },
    "papermill": {
     "duration": 0.087911,
     "end_time": "2024-08-19T10:01:19.808700",
     "exception": false,
     "start_time": "2024-08-19T10:01:19.720789",
     "status": "completed"
    },
    "tags": [
     "hide-input"
    ]
   },
   "outputs": [
    {
     "data": {
      "text/html": [
       "<div>\n",
       "<style scoped>\n",
       "    .dataframe tbody tr th:only-of-type {\n",
       "        vertical-align: middle;\n",
       "    }\n",
       "\n",
       "    .dataframe tbody tr th {\n",
       "        vertical-align: top;\n",
       "    }\n",
       "\n",
       "    .dataframe thead th {\n",
       "        text-align: right;\n",
       "    }\n",
       "</style>\n",
       "<table border=\"1\" class=\"dataframe\">\n",
       "  <thead>\n",
       "    <tr style=\"text-align: right;\">\n",
       "      <th></th>\n",
       "      <th>VAE</th>\n",
       "      <th>TRKNN</th>\n",
       "      <th>PI</th>\n",
       "      <th>None</th>\n",
       "      <th>RF</th>\n",
       "      <th>DAE</th>\n",
       "      <th>Median</th>\n",
       "      <th>QRILC</th>\n",
       "      <th>CF</th>\n",
       "    </tr>\n",
       "  </thead>\n",
       "  <tbody>\n",
       "    <tr>\n",
       "      <th>False</th>\n",
       "      <td>936</td>\n",
       "      <td>936</td>\n",
       "      <td>1,029</td>\n",
       "      <td>1,054</td>\n",
       "      <td>974</td>\n",
       "      <td>920</td>\n",
       "      <td>1,069</td>\n",
       "      <td>1,005</td>\n",
       "      <td>949</td>\n",
       "    </tr>\n",
       "    <tr>\n",
       "      <th>True</th>\n",
       "      <td>485</td>\n",
       "      <td>485</td>\n",
       "      <td>392</td>\n",
       "      <td>367</td>\n",
       "      <td>447</td>\n",
       "      <td>501</td>\n",
       "      <td>352</td>\n",
       "      <td>416</td>\n",
       "      <td>472</td>\n",
       "    </tr>\n",
       "  </tbody>\n",
       "</table>\n",
       "</div>"
      ],
      "text/plain": [
       "       VAE  TRKNN    PI  None  RF  DAE  Median  QRILC  CF\n",
       "False  936    936 1,029 1,054 974  920   1,069  1,005 949\n",
       "True   485    485   392   367 447  501     352    416 472"
      ]
     },
     "execution_count": 13,
     "metadata": {},
     "output_type": "execute_result"
    }
   ],
   "source": [
    "# ! This uses implicitly that RSN is not available for some protein groups\n",
    "# ! Make an explicit list of the 313 protein groups available in original data\n",
    "mask_common = da_target.notna().all(axis=1)\n",
    "count_rejected_common = njab.pandas.combine_value_counts(da_target.loc[mask_common].droplevel(-1, axis=1))\n",
    "count_rejected_common.to_excel(writer, sheet_name='count_rejected_common')\n",
    "count_rejected_common"
   ]
  },
  {
   "cell_type": "markdown",
   "id": "4bf8e3e5",
   "metadata": {
    "papermill": {
     "duration": 0.026178,
     "end_time": "2024-08-19T10:01:19.850260",
     "exception": false,
     "start_time": "2024-08-19T10:01:19.824082",
     "status": "completed"
    },
    "tags": []
   },
   "source": [
    "### Tabulate rejected decisions by method for newly included features (if available)"
   ]
  },
  {
   "cell_type": "code",
   "execution_count": 14,
   "id": "af1a13cb",
   "metadata": {
    "execution": {
     "iopub.execute_input": "2024-08-19T10:01:19.896341Z",
     "iopub.status.busy": "2024-08-19T10:01:19.896010Z",
     "iopub.status.idle": "2024-08-19T10:01:19.915076Z",
     "shell.execute_reply": "2024-08-19T10:01:19.914419Z"
    },
    "papermill": {
     "duration": 0.039847,
     "end_time": "2024-08-19T10:01:19.916782",
     "exception": false,
     "start_time": "2024-08-19T10:01:19.876935",
     "status": "completed"
    },
    "tags": [
     "hide-input"
    ]
   },
   "outputs": [
    {
     "data": {
      "text/html": [
       "<div>\n",
       "<style scoped>\n",
       "    .dataframe tbody tr th:only-of-type {\n",
       "        vertical-align: middle;\n",
       "    }\n",
       "\n",
       "    .dataframe tbody tr th {\n",
       "        vertical-align: top;\n",
       "    }\n",
       "\n",
       "    .dataframe thead th {\n",
       "        text-align: right;\n",
       "    }\n",
       "</style>\n",
       "<table border=\"1\" class=\"dataframe\">\n",
       "  <thead>\n",
       "    <tr style=\"text-align: right;\">\n",
       "      <th></th>\n",
       "      <th>VAE</th>\n",
       "      <th>TRKNN</th>\n",
       "      <th>PI</th>\n",
       "      <th>None</th>\n",
       "      <th>RF</th>\n",
       "      <th>DAE</th>\n",
       "      <th>Median</th>\n",
       "      <th>QRILC</th>\n",
       "      <th>CF</th>\n",
       "    </tr>\n",
       "  </thead>\n",
       "  <tbody>\n",
       "  </tbody>\n",
       "</table>\n",
       "</div>"
      ],
      "text/plain": [
       "Empty DataFrame\n",
       "Columns: [VAE, TRKNN, PI, None, RF, DAE, Median, QRILC, CF]\n",
       "Index: []"
      ]
     },
     "execution_count": 14,
     "metadata": {},
     "output_type": "execute_result"
    }
   ],
   "source": [
    "count_rejected_new = njab.pandas.combine_value_counts(da_target.loc[~mask_common].droplevel(-1, axis=1))\n",
    "count_rejected_new.to_excel(writer, sheet_name='count_rejected_new')\n",
    "count_rejected_new"
   ]
  },
  {
   "cell_type": "markdown",
   "id": "db57d9f0",
   "metadata": {
    "papermill": {
     "duration": 0.013705,
     "end_time": "2024-08-19T10:01:19.945724",
     "exception": false,
     "start_time": "2024-08-19T10:01:19.932019",
     "status": "completed"
    },
    "tags": []
   },
   "source": [
    "### Tabulate rejected decisions by method for all features"
   ]
  },
  {
   "cell_type": "code",
   "execution_count": 15,
   "id": "f76e8772",
   "metadata": {
    "execution": {
     "iopub.execute_input": "2024-08-19T10:01:19.975195Z",
     "iopub.status.busy": "2024-08-19T10:01:19.974880Z",
     "iopub.status.idle": "2024-08-19T10:01:20.970080Z",
     "shell.execute_reply": "2024-08-19T10:01:20.961518Z"
    },
    "papermill": {
     "duration": 1.011866,
     "end_time": "2024-08-19T10:01:20.972445",
     "exception": false,
     "start_time": "2024-08-19T10:01:19.960579",
     "status": "completed"
    },
    "tags": [
     "hide-input"
    ]
   },
   "outputs": [
    {
     "name": "stderr",
     "output_type": "stream",
     "text": [
      "root - INFO     Written to sheet 'equality_rejected_all' in excel file.\n"
     ]
    },
    {
     "data": {
      "text/html": [
       "<div>\n",
       "<style scoped>\n",
       "    .dataframe tbody tr th:only-of-type {\n",
       "        vertical-align: middle;\n",
       "    }\n",
       "\n",
       "    .dataframe tbody tr th {\n",
       "        vertical-align: top;\n",
       "    }\n",
       "\n",
       "    .dataframe thead tr th {\n",
       "        text-align: left;\n",
       "    }\n",
       "\n",
       "    .dataframe thead tr:last-of-type th {\n",
       "        text-align: right;\n",
       "    }\n",
       "</style>\n",
       "<table border=\"1\" class=\"dataframe\">\n",
       "  <thead>\n",
       "    <tr>\n",
       "      <th></th>\n",
       "      <th></th>\n",
       "      <th></th>\n",
       "      <th>VAE</th>\n",
       "      <th>TRKNN</th>\n",
       "      <th>PI</th>\n",
       "      <th>None</th>\n",
       "      <th>RF</th>\n",
       "      <th>DAE</th>\n",
       "      <th>Median</th>\n",
       "      <th>QRILC</th>\n",
       "      <th>CF</th>\n",
       "    </tr>\n",
       "    <tr>\n",
       "      <th></th>\n",
       "      <th></th>\n",
       "      <th></th>\n",
       "      <th>rejected</th>\n",
       "      <th>rejected</th>\n",
       "      <th>rejected</th>\n",
       "      <th>rejected</th>\n",
       "      <th>rejected</th>\n",
       "      <th>rejected</th>\n",
       "      <th>rejected</th>\n",
       "      <th>rejected</th>\n",
       "      <th>rejected</th>\n",
       "    </tr>\n",
       "    <tr>\n",
       "      <th>protein groups</th>\n",
       "      <th>Source</th>\n",
       "      <th>frequency</th>\n",
       "      <th></th>\n",
       "      <th></th>\n",
       "      <th></th>\n",
       "      <th></th>\n",
       "      <th></th>\n",
       "      <th></th>\n",
       "      <th></th>\n",
       "      <th></th>\n",
       "      <th></th>\n",
       "    </tr>\n",
       "  </thead>\n",
       "  <tbody>\n",
       "    <tr>\n",
       "      <th>A0A024QZX5;A0A087X1N8;P35237</th>\n",
       "      <th>AD</th>\n",
       "      <th>186</th>\n",
       "      <td>True</td>\n",
       "      <td>True</td>\n",
       "      <td>False</td>\n",
       "      <td>True</td>\n",
       "      <td>True</td>\n",
       "      <td>True</td>\n",
       "      <td>True</td>\n",
       "      <td>False</td>\n",
       "      <td>True</td>\n",
       "    </tr>\n",
       "    <tr>\n",
       "      <th>A0A024R0T9;K7ER74;P02655</th>\n",
       "      <th>AD</th>\n",
       "      <th>195</th>\n",
       "      <td>False</td>\n",
       "      <td>False</td>\n",
       "      <td>False</td>\n",
       "      <td>False</td>\n",
       "      <td>False</td>\n",
       "      <td>False</td>\n",
       "      <td>False</td>\n",
       "      <td>False</td>\n",
       "      <td>False</td>\n",
       "    </tr>\n",
       "    <tr>\n",
       "      <th>A0A024R3W6;A0A024R412;O60462;O60462-2;O60462-3;O60462-4;O60462-5;Q7LBX6;X5D2Q8</th>\n",
       "      <th>AD</th>\n",
       "      <th>174</th>\n",
       "      <td>False</td>\n",
       "      <td>False</td>\n",
       "      <td>False</td>\n",
       "      <td>False</td>\n",
       "      <td>False</td>\n",
       "      <td>False</td>\n",
       "      <td>False</td>\n",
       "      <td>False</td>\n",
       "      <td>False</td>\n",
       "    </tr>\n",
       "    <tr>\n",
       "      <th>A0A024R644;A0A0A0MRU5;A0A1B0GWI2;O75503</th>\n",
       "      <th>AD</th>\n",
       "      <th>196</th>\n",
       "      <td>False</td>\n",
       "      <td>False</td>\n",
       "      <td>False</td>\n",
       "      <td>False</td>\n",
       "      <td>False</td>\n",
       "      <td>False</td>\n",
       "      <td>False</td>\n",
       "      <td>False</td>\n",
       "      <td>False</td>\n",
       "    </tr>\n",
       "    <tr>\n",
       "      <th>A0A075B6H7</th>\n",
       "      <th>AD</th>\n",
       "      <th>91</th>\n",
       "      <td>True</td>\n",
       "      <td>True</td>\n",
       "      <td>False</td>\n",
       "      <td>True</td>\n",
       "      <td>True</td>\n",
       "      <td>True</td>\n",
       "      <td>False</td>\n",
       "      <td>False</td>\n",
       "      <td>True</td>\n",
       "    </tr>\n",
       "    <tr>\n",
       "      <th>...</th>\n",
       "      <th>...</th>\n",
       "      <th>...</th>\n",
       "      <td>...</td>\n",
       "      <td>...</td>\n",
       "      <td>...</td>\n",
       "      <td>...</td>\n",
       "      <td>...</td>\n",
       "      <td>...</td>\n",
       "      <td>...</td>\n",
       "      <td>...</td>\n",
       "      <td>...</td>\n",
       "    </tr>\n",
       "    <tr>\n",
       "      <th>Q9Y6R7</th>\n",
       "      <th>AD</th>\n",
       "      <th>197</th>\n",
       "      <td>False</td>\n",
       "      <td>False</td>\n",
       "      <td>False</td>\n",
       "      <td>False</td>\n",
       "      <td>False</td>\n",
       "      <td>False</td>\n",
       "      <td>False</td>\n",
       "      <td>False</td>\n",
       "      <td>False</td>\n",
       "    </tr>\n",
       "    <tr>\n",
       "      <th>Q9Y6X5</th>\n",
       "      <th>AD</th>\n",
       "      <th>173</th>\n",
       "      <td>False</td>\n",
       "      <td>False</td>\n",
       "      <td>False</td>\n",
       "      <td>False</td>\n",
       "      <td>False</td>\n",
       "      <td>False</td>\n",
       "      <td>False</td>\n",
       "      <td>False</td>\n",
       "      <td>False</td>\n",
       "    </tr>\n",
       "    <tr>\n",
       "      <th>Q9Y6Y8;Q9Y6Y8-2</th>\n",
       "      <th>AD</th>\n",
       "      <th>197</th>\n",
       "      <td>False</td>\n",
       "      <td>False</td>\n",
       "      <td>False</td>\n",
       "      <td>False</td>\n",
       "      <td>False</td>\n",
       "      <td>False</td>\n",
       "      <td>False</td>\n",
       "      <td>False</td>\n",
       "      <td>False</td>\n",
       "    </tr>\n",
       "    <tr>\n",
       "      <th>Q9Y6Y9</th>\n",
       "      <th>AD</th>\n",
       "      <th>119</th>\n",
       "      <td>False</td>\n",
       "      <td>False</td>\n",
       "      <td>False</td>\n",
       "      <td>False</td>\n",
       "      <td>False</td>\n",
       "      <td>False</td>\n",
       "      <td>False</td>\n",
       "      <td>False</td>\n",
       "      <td>False</td>\n",
       "    </tr>\n",
       "    <tr>\n",
       "      <th>S4R3U6</th>\n",
       "      <th>AD</th>\n",
       "      <th>126</th>\n",
       "      <td>False</td>\n",
       "      <td>False</td>\n",
       "      <td>False</td>\n",
       "      <td>False</td>\n",
       "      <td>False</td>\n",
       "      <td>False</td>\n",
       "      <td>False</td>\n",
       "      <td>False</td>\n",
       "      <td>False</td>\n",
       "    </tr>\n",
       "  </tbody>\n",
       "</table>\n",
       "<p>1421 rows × 9 columns</p>\n",
       "</div>"
      ],
      "text/plain": [
       "                                                                         VAE  \\\n",
       "                                                                    rejected   \n",
       "protein groups                                     Source frequency            \n",
       "A0A024QZX5;A0A087X1N8;P35237                       AD     186           True   \n",
       "A0A024R0T9;K7ER74;P02655                           AD     195          False   \n",
       "A0A024R3W6;A0A024R412;O60462;O60462-2;O60462-3;... AD     174          False   \n",
       "A0A024R644;A0A0A0MRU5;A0A1B0GWI2;O75503            AD     196          False   \n",
       "A0A075B6H7                                         AD     91            True   \n",
       "...                                                                      ...   \n",
       "Q9Y6R7                                             AD     197          False   \n",
       "Q9Y6X5                                             AD     173          False   \n",
       "Q9Y6Y8;Q9Y6Y8-2                                    AD     197          False   \n",
       "Q9Y6Y9                                             AD     119          False   \n",
       "S4R3U6                                             AD     126          False   \n",
       "\n",
       "                                                                       TRKNN  \\\n",
       "                                                                    rejected   \n",
       "protein groups                                     Source frequency            \n",
       "A0A024QZX5;A0A087X1N8;P35237                       AD     186           True   \n",
       "A0A024R0T9;K7ER74;P02655                           AD     195          False   \n",
       "A0A024R3W6;A0A024R412;O60462;O60462-2;O60462-3;... AD     174          False   \n",
       "A0A024R644;A0A0A0MRU5;A0A1B0GWI2;O75503            AD     196          False   \n",
       "A0A075B6H7                                         AD     91            True   \n",
       "...                                                                      ...   \n",
       "Q9Y6R7                                             AD     197          False   \n",
       "Q9Y6X5                                             AD     173          False   \n",
       "Q9Y6Y8;Q9Y6Y8-2                                    AD     197          False   \n",
       "Q9Y6Y9                                             AD     119          False   \n",
       "S4R3U6                                             AD     126          False   \n",
       "\n",
       "                                                                          PI  \\\n",
       "                                                                    rejected   \n",
       "protein groups                                     Source frequency            \n",
       "A0A024QZX5;A0A087X1N8;P35237                       AD     186          False   \n",
       "A0A024R0T9;K7ER74;P02655                           AD     195          False   \n",
       "A0A024R3W6;A0A024R412;O60462;O60462-2;O60462-3;... AD     174          False   \n",
       "A0A024R644;A0A0A0MRU5;A0A1B0GWI2;O75503            AD     196          False   \n",
       "A0A075B6H7                                         AD     91           False   \n",
       "...                                                                      ...   \n",
       "Q9Y6R7                                             AD     197          False   \n",
       "Q9Y6X5                                             AD     173          False   \n",
       "Q9Y6Y8;Q9Y6Y8-2                                    AD     197          False   \n",
       "Q9Y6Y9                                             AD     119          False   \n",
       "S4R3U6                                             AD     126          False   \n",
       "\n",
       "                                                                        None  \\\n",
       "                                                                    rejected   \n",
       "protein groups                                     Source frequency            \n",
       "A0A024QZX5;A0A087X1N8;P35237                       AD     186           True   \n",
       "A0A024R0T9;K7ER74;P02655                           AD     195          False   \n",
       "A0A024R3W6;A0A024R412;O60462;O60462-2;O60462-3;... AD     174          False   \n",
       "A0A024R644;A0A0A0MRU5;A0A1B0GWI2;O75503            AD     196          False   \n",
       "A0A075B6H7                                         AD     91            True   \n",
       "...                                                                      ...   \n",
       "Q9Y6R7                                             AD     197          False   \n",
       "Q9Y6X5                                             AD     173          False   \n",
       "Q9Y6Y8;Q9Y6Y8-2                                    AD     197          False   \n",
       "Q9Y6Y9                                             AD     119          False   \n",
       "S4R3U6                                             AD     126          False   \n",
       "\n",
       "                                                                          RF  \\\n",
       "                                                                    rejected   \n",
       "protein groups                                     Source frequency            \n",
       "A0A024QZX5;A0A087X1N8;P35237                       AD     186           True   \n",
       "A0A024R0T9;K7ER74;P02655                           AD     195          False   \n",
       "A0A024R3W6;A0A024R412;O60462;O60462-2;O60462-3;... AD     174          False   \n",
       "A0A024R644;A0A0A0MRU5;A0A1B0GWI2;O75503            AD     196          False   \n",
       "A0A075B6H7                                         AD     91            True   \n",
       "...                                                                      ...   \n",
       "Q9Y6R7                                             AD     197          False   \n",
       "Q9Y6X5                                             AD     173          False   \n",
       "Q9Y6Y8;Q9Y6Y8-2                                    AD     197          False   \n",
       "Q9Y6Y9                                             AD     119          False   \n",
       "S4R3U6                                             AD     126          False   \n",
       "\n",
       "                                                                         DAE  \\\n",
       "                                                                    rejected   \n",
       "protein groups                                     Source frequency            \n",
       "A0A024QZX5;A0A087X1N8;P35237                       AD     186           True   \n",
       "A0A024R0T9;K7ER74;P02655                           AD     195          False   \n",
       "A0A024R3W6;A0A024R412;O60462;O60462-2;O60462-3;... AD     174          False   \n",
       "A0A024R644;A0A0A0MRU5;A0A1B0GWI2;O75503            AD     196          False   \n",
       "A0A075B6H7                                         AD     91            True   \n",
       "...                                                                      ...   \n",
       "Q9Y6R7                                             AD     197          False   \n",
       "Q9Y6X5                                             AD     173          False   \n",
       "Q9Y6Y8;Q9Y6Y8-2                                    AD     197          False   \n",
       "Q9Y6Y9                                             AD     119          False   \n",
       "S4R3U6                                             AD     126          False   \n",
       "\n",
       "                                                                      Median  \\\n",
       "                                                                    rejected   \n",
       "protein groups                                     Source frequency            \n",
       "A0A024QZX5;A0A087X1N8;P35237                       AD     186           True   \n",
       "A0A024R0T9;K7ER74;P02655                           AD     195          False   \n",
       "A0A024R3W6;A0A024R412;O60462;O60462-2;O60462-3;... AD     174          False   \n",
       "A0A024R644;A0A0A0MRU5;A0A1B0GWI2;O75503            AD     196          False   \n",
       "A0A075B6H7                                         AD     91           False   \n",
       "...                                                                      ...   \n",
       "Q9Y6R7                                             AD     197          False   \n",
       "Q9Y6X5                                             AD     173          False   \n",
       "Q9Y6Y8;Q9Y6Y8-2                                    AD     197          False   \n",
       "Q9Y6Y9                                             AD     119          False   \n",
       "S4R3U6                                             AD     126          False   \n",
       "\n",
       "                                                                       QRILC  \\\n",
       "                                                                    rejected   \n",
       "protein groups                                     Source frequency            \n",
       "A0A024QZX5;A0A087X1N8;P35237                       AD     186          False   \n",
       "A0A024R0T9;K7ER74;P02655                           AD     195          False   \n",
       "A0A024R3W6;A0A024R412;O60462;O60462-2;O60462-3;... AD     174          False   \n",
       "A0A024R644;A0A0A0MRU5;A0A1B0GWI2;O75503            AD     196          False   \n",
       "A0A075B6H7                                         AD     91           False   \n",
       "...                                                                      ...   \n",
       "Q9Y6R7                                             AD     197          False   \n",
       "Q9Y6X5                                             AD     173          False   \n",
       "Q9Y6Y8;Q9Y6Y8-2                                    AD     197          False   \n",
       "Q9Y6Y9                                             AD     119          False   \n",
       "S4R3U6                                             AD     126          False   \n",
       "\n",
       "                                                                          CF  \n",
       "                                                                    rejected  \n",
       "protein groups                                     Source frequency           \n",
       "A0A024QZX5;A0A087X1N8;P35237                       AD     186           True  \n",
       "A0A024R0T9;K7ER74;P02655                           AD     195          False  \n",
       "A0A024R3W6;A0A024R412;O60462;O60462-2;O60462-3;... AD     174          False  \n",
       "A0A024R644;A0A0A0MRU5;A0A1B0GWI2;O75503            AD     196          False  \n",
       "A0A075B6H7                                         AD     91            True  \n",
       "...                                                                      ...  \n",
       "Q9Y6R7                                             AD     197          False  \n",
       "Q9Y6X5                                             AD     173          False  \n",
       "Q9Y6Y8;Q9Y6Y8-2                                    AD     197          False  \n",
       "Q9Y6Y9                                             AD     119          False  \n",
       "S4R3U6                                             AD     126          False  \n",
       "\n",
       "[1421 rows x 9 columns]"
      ]
     },
     "execution_count": 15,
     "metadata": {},
     "output_type": "execute_result"
    }
   ],
   "source": [
    "da_target.to_excel(writer, sheet_name='equality_rejected_all')\n",
    "logger.info(\"Written to sheet 'equality_rejected_all' in excel file.\")\n",
    "da_target"
   ]
  },
  {
   "cell_type": "markdown",
   "id": "e1ed7b09",
   "metadata": {
    "papermill": {
     "duration": 0.028848,
     "end_time": "2024-08-19T10:01:21.030376",
     "exception": false,
     "start_time": "2024-08-19T10:01:21.001528",
     "status": "completed"
    },
    "tags": []
   },
   "source": [
    "Tabulate number of equal decison by method (`True`) to the ones with varying \n",
    "decision depending on the method (`False`)"
   ]
  },
  {
   "cell_type": "code",
   "execution_count": 16,
   "id": "9fa40ea2",
   "metadata": {
    "execution": {
     "iopub.execute_input": "2024-08-19T10:01:21.063537Z",
     "iopub.status.busy": "2024-08-19T10:01:21.063167Z",
     "iopub.status.idle": "2024-08-19T10:01:21.074558Z",
     "shell.execute_reply": "2024-08-19T10:01:21.073871Z"
    },
    "papermill": {
     "duration": 0.029726,
     "end_time": "2024-08-19T10:01:21.076237",
     "exception": false,
     "start_time": "2024-08-19T10:01:21.046511",
     "status": "completed"
    },
    "tags": [
     "hide-input"
    ]
   },
   "outputs": [
    {
     "data": {
      "text/plain": [
       "True    1,098\n",
       "False     323\n",
       "Name: count, dtype: int64"
      ]
     },
     "execution_count": 16,
     "metadata": {},
     "output_type": "execute_result"
    }
   ],
   "source": [
    "da_target_same = (da_target.sum(axis=1) == 0) | da_target.all(axis=1)\n",
    "da_target_same.value_counts()"
   ]
  },
  {
   "cell_type": "markdown",
   "id": "01bc6744",
   "metadata": {
    "papermill": {
     "duration": 0.015489,
     "end_time": "2024-08-19T10:01:21.108642",
     "exception": false,
     "start_time": "2024-08-19T10:01:21.093153",
     "status": "completed"
    },
    "tags": []
   },
   "source": [
    "List frequency of features with varying decisions"
   ]
  },
  {
   "cell_type": "code",
   "execution_count": 17,
   "id": "22c37698",
   "metadata": {
    "execution": {
     "iopub.execute_input": "2024-08-19T10:01:21.142054Z",
     "iopub.status.busy": "2024-08-19T10:01:21.141749Z",
     "iopub.status.idle": "2024-08-19T10:01:21.178231Z",
     "shell.execute_reply": "2024-08-19T10:01:21.177485Z"
    },
    "papermill": {
     "duration": 0.055326,
     "end_time": "2024-08-19T10:01:21.179921",
     "exception": false,
     "start_time": "2024-08-19T10:01:21.124595",
     "status": "completed"
    },
    "tags": [
     "hide-input"
    ]
   },
   "outputs": [
    {
     "data": {
      "text/html": [
       "<div>\n",
       "<style scoped>\n",
       "    .dataframe tbody tr th:only-of-type {\n",
       "        vertical-align: middle;\n",
       "    }\n",
       "\n",
       "    .dataframe tbody tr th {\n",
       "        vertical-align: top;\n",
       "    }\n",
       "\n",
       "    .dataframe thead th {\n",
       "        text-align: right;\n",
       "    }\n",
       "</style>\n",
       "<table border=\"1\" class=\"dataframe\">\n",
       "  <thead>\n",
       "    <tr style=\"text-align: right;\">\n",
       "      <th></th>\n",
       "      <th></th>\n",
       "      <th>frequency</th>\n",
       "    </tr>\n",
       "    <tr>\n",
       "      <th>protein groups</th>\n",
       "      <th>Source</th>\n",
       "      <th></th>\n",
       "    </tr>\n",
       "  </thead>\n",
       "  <tbody>\n",
       "    <tr>\n",
       "      <th>A0A024QZX5;A0A087X1N8;P35237</th>\n",
       "      <th>AD</th>\n",
       "      <td>186</td>\n",
       "    </tr>\n",
       "    <tr>\n",
       "      <th>A0A075B6H7</th>\n",
       "      <th>AD</th>\n",
       "      <td>91</td>\n",
       "    </tr>\n",
       "    <tr>\n",
       "      <th>A0A075B6I0</th>\n",
       "      <th>AD</th>\n",
       "      <td>194</td>\n",
       "    </tr>\n",
       "    <tr>\n",
       "      <th>A0A075B6J9</th>\n",
       "      <th>AD</th>\n",
       "      <td>156</td>\n",
       "    </tr>\n",
       "    <tr>\n",
       "      <th>A0A075B6Q5</th>\n",
       "      <th>AD</th>\n",
       "      <td>104</td>\n",
       "    </tr>\n",
       "    <tr>\n",
       "      <th>...</th>\n",
       "      <th>...</th>\n",
       "      <td>...</td>\n",
       "    </tr>\n",
       "    <tr>\n",
       "      <th>Q9UNW1</th>\n",
       "      <th>AD</th>\n",
       "      <td>171</td>\n",
       "    </tr>\n",
       "    <tr>\n",
       "      <th>Q9UP79</th>\n",
       "      <th>AD</th>\n",
       "      <td>135</td>\n",
       "    </tr>\n",
       "    <tr>\n",
       "      <th>Q9UPU3</th>\n",
       "      <th>AD</th>\n",
       "      <td>163</td>\n",
       "    </tr>\n",
       "    <tr>\n",
       "      <th>Q9UQ52</th>\n",
       "      <th>AD</th>\n",
       "      <td>188</td>\n",
       "    </tr>\n",
       "    <tr>\n",
       "      <th>Q9Y6C2</th>\n",
       "      <th>AD</th>\n",
       "      <td>119</td>\n",
       "    </tr>\n",
       "  </tbody>\n",
       "</table>\n",
       "<p>323 rows × 1 columns</p>\n",
       "</div>"
      ],
      "text/plain": [
       "                                     frequency\n",
       "protein groups               Source           \n",
       "A0A024QZX5;A0A087X1N8;P35237 AD            186\n",
       "A0A075B6H7                   AD             91\n",
       "A0A075B6I0                   AD            194\n",
       "A0A075B6J9                   AD            156\n",
       "A0A075B6Q5                   AD            104\n",
       "...                                        ...\n",
       "Q9UNW1                       AD            171\n",
       "Q9UP79                       AD            135\n",
       "Q9UPU3                       AD            163\n",
       "Q9UQ52                       AD            188\n",
       "Q9Y6C2                       AD            119\n",
       "\n",
       "[323 rows x 1 columns]"
      ]
     },
     "execution_count": 17,
     "metadata": {},
     "output_type": "execute_result"
    }
   ],
   "source": [
    "feat_idx_w_diff = da_target_same[~da_target_same].index\n",
    "feat_idx_w_diff.to_frame()[['frequency']].reset_index(-1, drop=True)"
   ]
  },
  {
   "cell_type": "markdown",
   "id": "f74c770b",
   "metadata": {
    "papermill": {
     "duration": 0.082609,
     "end_time": "2024-08-19T10:01:21.283885",
     "exception": false,
     "start_time": "2024-08-19T10:01:21.201276",
     "status": "completed"
    },
    "tags": []
   },
   "source": [
    "take only those with different decisions"
   ]
  },
  {
   "cell_type": "code",
   "execution_count": 18,
   "id": "ee57dfa9",
   "metadata": {
    "execution": {
     "iopub.execute_input": "2024-08-19T10:01:21.317584Z",
     "iopub.status.busy": "2024-08-19T10:01:21.317240Z",
     "iopub.status.idle": "2024-08-19T10:01:23.136255Z",
     "shell.execute_reply": "2024-08-19T10:01:23.135561Z"
    },
    "papermill": {
     "duration": 1.837682,
     "end_time": "2024-08-19T10:01:23.138028",
     "exception": false,
     "start_time": "2024-08-19T10:01:21.300346",
     "status": "completed"
    },
    "tags": [
     "hide-input"
    ]
   },
   "outputs": [
    {
     "name": "stdout",
     "output_type": "stream",
     "text": [
      "No new features or no new ones (with diverging decisions.)\n"
     ]
    }
   ],
   "source": [
    "(qvalues\n",
    " .loc[feat_idx_w_diff]\n",
    " .sort_values(('None', 'qvalue'))\n",
    " .to_excel(writer, sheet_name='qvalues_diff')\n",
    " )\n",
    "\n",
    "(qvalues\n",
    " .loc[feat_idx_w_diff]\n",
    " .loc[mask_common]  # mask automatically aligned\n",
    " .sort_values(('None', 'qvalue'))\n",
    " .to_excel(writer, sheet_name='qvalues_diff_common')\n",
    " )\n",
    "\n",
    "try:\n",
    "    (qvalues\n",
    "     .loc[feat_idx_w_diff]\n",
    "     .loc[~mask_common]\n",
    "     .sort_values(('None', 'qvalue'))\n",
    "     .to_excel(writer, sheet_name='qvalues_diff_new')\n",
    "     )\n",
    "except IndexError:\n",
    "    print(\"No new features or no new ones (with diverging decisions.)\")\n",
    "writer.close()"
   ]
  },
  {
   "cell_type": "markdown",
   "id": "4b7d4bcf",
   "metadata": {
    "papermill": {
     "duration": 0.017228,
     "end_time": "2024-08-19T10:01:23.171708",
     "exception": false,
     "start_time": "2024-08-19T10:01:23.154480",
     "status": "completed"
    },
    "tags": []
   },
   "source": [
    "## Plots for inspecting imputations (for diverging decisions)"
   ]
  },
  {
   "cell_type": "code",
   "execution_count": 19,
   "id": "10092826",
   "metadata": {
    "execution": {
     "iopub.execute_input": "2024-08-19T10:01:23.204811Z",
     "iopub.status.busy": "2024-08-19T10:01:23.204434Z",
     "iopub.status.idle": "2024-08-19T10:01:23.211067Z",
     "shell.execute_reply": "2024-08-19T10:01:23.210180Z"
    },
    "lines_to_next_cell": 2,
    "papermill": {
     "duration": 0.02701,
     "end_time": "2024-08-19T10:01:23.214538",
     "exception": true,
     "start_time": "2024-08-19T10:01:23.187528",
     "status": "failed"
    },
    "tags": [
     "hide-input"
    ]
   },
   "outputs": [
    {
     "name": "stderr",
     "output_type": "stream",
     "text": [
      "root - WARNING  Not plots requested.\n"
     ]
    },
    {
     "ename": "SystemExit",
     "evalue": "0",
     "output_type": "error",
     "traceback": [
      "An exception has occurred, use %tb to see the full traceback.\n",
      "\u001b[0;31mSystemExit\u001b[0m\u001b[0;31m:\u001b[0m 0\n"
     ]
    },
    {
     "name": "stderr",
     "output_type": "stream",
     "text": [
      "/home/runner/work/pimms/pimms/project/.snakemake/conda/9315d83d47168fa3da1739d7e683ad72_/lib/python3.12/site-packages/IPython/core/interactiveshell.py:3585: UserWarning: To exit: use 'exit', 'quit', or Ctrl-D.\n",
      "  warn(\"To exit: use 'exit', 'quit', or Ctrl-D.\", stacklevel=1)\n"
     ]
    }
   ],
   "source": [
    "if not args.make_plots:\n",
    "    logger.warning(\"Not plots requested.\")\n",
    "    import sys\n",
    "    sys.exit(0)"
   ]
  },
  {
   "cell_type": "markdown",
   "id": "81224abe",
   "metadata": {
    "papermill": {
     "duration": null,
     "end_time": null,
     "exception": null,
     "start_time": null,
     "status": "pending"
    },
    "tags": []
   },
   "source": [
    "## Load target"
   ]
  },
  {
   "cell_type": "code",
   "execution_count": null,
   "id": "624d3301",
   "metadata": {
    "papermill": {
     "duration": null,
     "end_time": null,
     "exception": null,
     "start_time": null,
     "status": "pending"
    },
    "tags": [
     "hide-input"
    ]
   },
   "outputs": [],
   "source": [
    "target = pd.read_csv(args.fn_clinical_data,\n",
    "                     index_col=0,\n",
    "                     usecols=[args.sample_id_col, args.target])\n",
    "target = target.dropna()\n",
    "target"
   ]
  },
  {
   "cell_type": "code",
   "execution_count": null,
   "id": "a160ab0c",
   "metadata": {
    "papermill": {
     "duration": null,
     "end_time": null,
     "exception": null,
     "start_time": null,
     "status": "pending"
    },
    "tags": [
     "hide-input"
    ]
   },
   "outputs": [],
   "source": [
    "target_to_group = target.copy()\n",
    "target = target >= args.cutoff_target\n",
    "target = target.replace({False: f'{args.target} < {args.cutoff_target}',\n",
    "                        True: f'{args.target} >= {args.cutoff_target}'}\n",
    "                        ).astype('category')\n",
    "pd.crosstab(target.squeeze(), target_to_group.squeeze())"
   ]
  },
  {
   "cell_type": "markdown",
   "id": "acd5f980-5f3a-4a75-8479-a65c595e5220",
   "metadata": {
    "papermill": {
     "duration": null,
     "end_time": null,
     "exception": null,
     "start_time": null,
     "status": "pending"
    },
    "tags": []
   },
   "source": [
    "## Measurments"
   ]
  },
  {
   "cell_type": "code",
   "execution_count": null,
   "id": "7083535b-9a06-479e-9909-935d49311b00",
   "metadata": {
    "papermill": {
     "duration": null,
     "end_time": null,
     "exception": null,
     "start_time": null,
     "status": "pending"
    },
    "tags": [
     "hide-input"
    ]
   },
   "outputs": [],
   "source": [
    "data = pimmslearn.io.datasplits.DataSplits.from_folder(\n",
    "    args.data,\n",
    "    file_format=args.file_format)\n",
    "data = pd.concat([data.train_X, data.val_y, data.test_y]).unstack()\n",
    "data"
   ]
  },
  {
   "cell_type": "markdown",
   "id": "ee0d5b40",
   "metadata": {
    "papermill": {
     "duration": null,
     "end_time": null,
     "exception": null,
     "start_time": null,
     "status": "pending"
    },
    "tags": []
   },
   "source": [
    "plot all of the new pgs which are at least once significant which are not already dumped."
   ]
  },
  {
   "cell_type": "code",
   "execution_count": null,
   "id": "b8d183d5",
   "metadata": {
    "papermill": {
     "duration": null,
     "end_time": null,
     "exception": null,
     "start_time": null,
     "status": "pending"
    },
    "tags": [
     "hide-input"
    ]
   },
   "outputs": [],
   "source": [
    "feat_new_abundant = da_target.loc[~mask_common].any(axis=1)\n",
    "feat_new_abundant = feat_new_abundant.loc[feat_new_abundant].index.get_level_values(0)\n",
    "feat_new_abundant"
   ]
  },
  {
   "cell_type": "code",
   "execution_count": null,
   "id": "112a677c",
   "metadata": {
    "papermill": {
     "duration": null,
     "end_time": null,
     "exception": null,
     "start_time": null,
     "status": "pending"
    },
    "tags": [
     "hide-input"
    ]
   },
   "outputs": [],
   "source": [
    "feat_sel = feat_idx_w_diff.get_level_values(0)\n",
    "feat_sel = feat_sel.union(feat_new_abundant)\n",
    "len(feat_sel)"
   ]
  },
  {
   "cell_type": "code",
   "execution_count": null,
   "id": "110c0f53",
   "metadata": {
    "papermill": {
     "duration": null,
     "end_time": null,
     "exception": null,
     "start_time": null,
     "status": "pending"
    },
    "tags": [
     "hide-input"
    ]
   },
   "outputs": [],
   "source": [
    "data = data.loc[:, feat_sel]\n",
    "data"
   ]
  },
  {
   "cell_type": "markdown",
   "id": "9762ec2a",
   "metadata": {
    "papermill": {
     "duration": null,
     "end_time": null,
     "exception": null,
     "start_time": null,
     "status": "pending"
    },
    "tags": []
   },
   "source": [
    "- RSN prediction are based on all samples mean and std (N=455) as in original study\n",
    "- VAE also trained on all samples (self supervised)\n",
    "One could also reduce the selected data to only the samples with a valid target marker,\n",
    "but this was not done in the original study which considered several different target markers.\n",
    "\n",
    "RSN : shifted per sample, not per feature!\n",
    "\n",
    "Load all prediction files and reshape"
   ]
  },
  {
   "cell_type": "code",
   "execution_count": null,
   "id": "cfd936e9-eb56-4fb7-8010-d68092b925ad",
   "metadata": {
    "papermill": {
     "duration": null,
     "end_time": null,
     "exception": null,
     "start_time": null,
     "status": "pending"
    },
    "tags": [
     "hide-input"
    ]
   },
   "outputs": [],
   "source": [
    "# exclude 'None' as this is without imputation (-> data)\n",
    "model_keys = [k for k in qvalues.columns.get_level_values(0) if k != 'None']\n",
    "pred_paths = [\n",
    "    args.out_preds / args.template_pred.format(method)\n",
    "    for method in model_keys]\n",
    "pred_paths"
   ]
  },
  {
   "cell_type": "code",
   "execution_count": null,
   "id": "26ecc0ed-c550-4a40-802b-25962d7edf7e",
   "metadata": {
    "lines_to_next_cell": 2,
    "papermill": {
     "duration": null,
     "end_time": null,
     "exception": null,
     "start_time": null,
     "status": "pending"
    },
    "tags": [
     "hide-input"
    ]
   },
   "outputs": [],
   "source": [
    "load_single_csv_pred_file = pimmslearn.analyzers.compare_predictions.load_single_csv_pred_file\n",
    "pred_real_na = dict()\n",
    "for method in model_keys:\n",
    "    fname = args.out_preds / args.template_pred.format(method)\n",
    "    print(f\"missing values pred. by {method}: {fname}\")\n",
    "    pred_real_na[method] = load_single_csv_pred_file(fname)\n",
    "pred_real_na = pd.DataFrame(pred_real_na)\n",
    "pred_real_na"
   ]
  },
  {
   "cell_type": "markdown",
   "id": "b28e753f",
   "metadata": {
    "papermill": {
     "duration": null,
     "end_time": null,
     "exception": null,
     "start_time": null,
     "status": "pending"
    },
    "tags": []
   },
   "source": [
    "Once imputation, reduce to target samples only (samples with target score)"
   ]
  },
  {
   "cell_type": "code",
   "execution_count": null,
   "id": "e422a7a8",
   "metadata": {
    "lines_to_next_cell": 2,
    "papermill": {
     "duration": null,
     "end_time": null,
     "exception": null,
     "start_time": null,
     "status": "pending"
    },
    "tags": [
     "hide-input"
    ]
   },
   "outputs": [],
   "source": [
    "# select samples with target information\n",
    "data = data.loc[target.index]\n",
    "pred_real_na = pred_real_na.loc[target.index]\n",
    "\n",
    "# assert len(data) == len(pred_real_na)"
   ]
  },
  {
   "cell_type": "code",
   "execution_count": null,
   "id": "a3294f6a-65f3-4793-ad0c-4dd8ff11be47",
   "metadata": {
    "papermill": {
     "duration": null,
     "end_time": null,
     "exception": null,
     "start_time": null,
     "status": "pending"
    },
    "tags": [
     "hide-input"
    ]
   },
   "outputs": [],
   "source": [
    "idx = feat_sel[0]"
   ]
  },
  {
   "cell_type": "code",
   "execution_count": null,
   "id": "ee17d5eb-a132-4616-b505-4a68efa0e9e5",
   "metadata": {
    "papermill": {
     "duration": null,
     "end_time": null,
     "exception": null,
     "start_time": null,
     "status": "pending"
    },
    "tags": [
     "hide-input"
    ]
   },
   "outputs": [],
   "source": [
    "feat_observed = data[idx].dropna()\n",
    "feat_observed"
   ]
  },
  {
   "cell_type": "code",
   "execution_count": null,
   "id": "043395a7-fa33-490e-9d9c-f8071274f0b5",
   "metadata": {
    "lines_to_next_cell": 2,
    "papermill": {
     "duration": null,
     "end_time": null,
     "exception": null,
     "start_time": null,
     "status": "pending"
    },
    "tags": [
     "hide-input"
    ]
   },
   "outputs": [],
   "source": [
    "# axes = axes.ravel()\n",
    "# args.out_folder.parent / 'intensity_plots'\n",
    "# each feature -> one plot?\n",
    "# plot all which are at least for one method significant?\n",
    "folder = args.out_folder / 'intensities_for_diff_in_DA_decision'\n",
    "folder.mkdir(parents=True, exist_ok=True)"
   ]
  },
  {
   "cell_type": "code",
   "execution_count": null,
   "id": "f813f693",
   "metadata": {
    "lines_to_next_cell": 2,
    "papermill": {
     "duration": null,
     "end_time": null,
     "exception": null,
     "start_time": null,
     "status": "pending"
    },
    "tags": [
     "hide-input"
    ]
   },
   "outputs": [],
   "source": [
    "min_y_int, max_y_int = pimmslearn.plotting.data.get_min_max_iterable(\n",
    "    [data.stack(), pred_real_na.stack()])\n",
    "min_max = min_y_int, max_y_int\n",
    "\n",
    "target_name = target.columns[0]\n",
    "\n",
    "min_max, target_name"
   ]
  },
  {
   "cell_type": "markdown",
   "id": "b9db8a0e",
   "metadata": {
    "papermill": {
     "duration": null,
     "end_time": null,
     "exception": null,
     "start_time": null,
     "status": "pending"
    },
    "tags": []
   },
   "source": [
    "## Compare with target annotation"
   ]
  },
  {
   "cell_type": "code",
   "execution_count": null,
   "id": "d819b0e0",
   "metadata": {
    "papermill": {
     "duration": null,
     "end_time": null,
     "exception": null,
     "start_time": null,
     "status": "pending"
    },
    "tags": [
     "hide-input"
    ]
   },
   "outputs": [],
   "source": [
    "# labels somehow?\n",
    "# target.replace({True: f' >={args.cutoff_target}', False: f'<{args.cutoff_target}'})\n",
    "\n",
    "for i, idx in enumerate(feat_sel):\n",
    "    print(f\"Swarmplot {i:3<}: {idx}:\")\n",
    "    fig, ax = plt.subplots()\n",
    "\n",
    "    # dummy plots, just to get the Path objects\n",
    "    tmp_dot = ax.scatter([1, 2], [3, 4], marker='X')\n",
    "    new_mk, = tmp_dot.get_paths()\n",
    "    tmp_dot.remove()\n",
    "\n",
    "    feat_observed = data[idx].dropna()\n",
    "\n",
    "    def get_centered_label(method, n, q):\n",
    "        model_str = f'{method}'\n",
    "        stats_str = f'(N={n:,d}, q={q:.3f})'\n",
    "        if len(model_str) > len(stats_str):\n",
    "            stats_str = f\"{stats_str:<{len(model_str)}}\"\n",
    "        else:\n",
    "            model_str = f\"{model_str:<{len(stats_str)}}\"\n",
    "        return f'{model_str}\\n{stats_str}'\n",
    "\n",
    "    key = get_centered_label(method='observed',\n",
    "                             n=len(feat_observed),\n",
    "                             q=float(qvalues.loc[idx, ('None', 'qvalue')])\n",
    "                             )\n",
    "    to_plot = {key: feat_observed}\n",
    "    for method in model_keys:\n",
    "        try:\n",
    "            pred = pred_real_na.loc[pd.IndexSlice[:,\n",
    "                                                  idx], method].dropna().droplevel(-1)\n",
    "            if len(pred) == 0:\n",
    "                # in case no values was imputed -> qvalue is as based on measured\n",
    "                key = get_centered_label(method=method,\n",
    "                                         n=len(pred),\n",
    "                                         q=float(qvalues.loc[idx, ('None', 'qvalue')]\n",
    "                                                 ))\n",
    "            elif qvalues.loc[idx, (method, 'qvalue')].notna().all():\n",
    "                key = get_centered_label(method=method,\n",
    "                                         n=len(pred),\n",
    "                                         q=float(qvalues.loc[idx, (method, 'qvalue')]\n",
    "                                                 ))\n",
    "            elif qvalues.loc[idx, (method, 'qvalue')].isna().all():\n",
    "                logger.info(f\"NA qvalues for {idx}: {method}\")\n",
    "                continue\n",
    "            else:\n",
    "                raise ValueError(\"Unknown case.\")\n",
    "            to_plot[key] = pred\n",
    "        except KeyError:\n",
    "            print(f\"No missing values for {idx}: {method}\")\n",
    "            continue\n",
    "\n",
    "    to_plot = pd.DataFrame.from_dict(to_plot)\n",
    "    to_plot.columns.name = 'group'\n",
    "    groups_order = to_plot.columns.to_list()\n",
    "    to_plot = to_plot.stack().to_frame('intensity').reset_index(-1)\n",
    "    to_plot = to_plot.join(target.astype('category'), how='inner')\n",
    "    to_plot = to_plot.astype({'group': 'category'})\n",
    "\n",
    "    ax = seaborn.swarmplot(data=to_plot,\n",
    "                           x='group',\n",
    "                           y='intensity',\n",
    "                           order=groups_order,\n",
    "                           dodge=True,\n",
    "                           hue=args.target,\n",
    "                           size=2,\n",
    "                           ax=ax)\n",
    "    first_pg = idx.split(\";\")[0]\n",
    "    ax.set_title(\n",
    "        f'Imputation for protein group {first_pg} with target {target_name} (N= {len(data):,d} samples)')\n",
    "\n",
    "    _ = ax.set_ylim(min_y_int, max_y_int)\n",
    "    _ = ax.locator_params(axis='y', integer=True)\n",
    "    _ = ax.set_xlabel('')\n",
    "    _xticks = ax.get_xticks()\n",
    "    ax.xaxis.set_major_locator(\n",
    "        matplotlib.ticker.FixedLocator(_xticks)\n",
    "    )\n",
    "    _ = ax.set_xticklabels(ax.get_xticklabels(), rotation=45,\n",
    "                           horizontalalignment='right')\n",
    "\n",
    "    N_hues = len(pd.unique(to_plot[args.target]))\n",
    "\n",
    "    _ = ax.collections[0].set_paths([new_mk])\n",
    "    _ = ax.collections[1].set_paths([new_mk])\n",
    "\n",
    "    label_target_0, label_target_1 = ax.collections[-2].get_label(), ax.collections[-1].get_label()\n",
    "    _ = ax.collections[-2].set_label(f'imputed, {label_target_0}')\n",
    "    _ = ax.collections[-1].set_label(f'imputed, {label_target_1}')\n",
    "    _obs_label0 = ax.scatter([], [], color='C0', marker='X', label=f'observed, {label_target_0}')\n",
    "    _obs_label1 = ax.scatter([], [], color='C1', marker='X', label=f'observed, {label_target_1}')\n",
    "    _ = ax.legend(\n",
    "        handles=[_obs_label0, _obs_label1, *ax.collections[-4:-2]],\n",
    "        fontsize=5, title_fontsize=5, markerscale=0.4,)\n",
    "    fname = (folder /\n",
    "             f'{first_pg}_swarmplot.pdf')\n",
    "    files_out[fname.name] = fname.as_posix()\n",
    "    pimmslearn.savefig(\n",
    "        fig,\n",
    "        name=fname)\n",
    "    plt.close()"
   ]
  },
  {
   "cell_type": "markdown",
   "id": "f899bcf9",
   "metadata": {
    "papermill": {
     "duration": null,
     "end_time": null,
     "exception": null,
     "start_time": null,
     "status": "pending"
    },
    "tags": []
   },
   "source": [
    "Saved files:"
   ]
  },
  {
   "cell_type": "code",
   "execution_count": null,
   "id": "a4b042a1",
   "metadata": {
    "papermill": {
     "duration": null,
     "end_time": null,
     "exception": null,
     "start_time": null,
     "status": "pending"
    },
    "tags": [
     "hide-input"
    ]
   },
   "outputs": [],
   "source": [
    "files_out"
   ]
  }
 ],
 "metadata": {
  "kernelspec": {
   "display_name": "Python 3",
   "language": "python",
   "name": "python3"
  },
  "language_info": {
   "codemirror_mode": {
    "name": "ipython",
    "version": 3
   },
   "file_extension": ".py",
   "mimetype": "text/x-python",
   "name": "python",
   "nbconvert_exporter": "python",
   "pygments_lexer": "ipython3",
   "version": "3.12.0"
  },
  "papermill": {
   "default_parameters": {},
   "duration": 12.049764,
   "end_time": "2024-08-19T10:01:24.283155",
   "environment_variables": {},
   "exception": true,
   "input_path": "10_4_ald_compare_single_pg.ipynb",
   "output_path": "runs/alzheimer_study/diff_analysis/AD/10_4_ald_compare_single_pg.ipynb",
   "parameters": {
    "baseline": "PI",
    "cutoff_target": 0.5,
    "fn_clinical_data": "runs/alzheimer_study/data/clinical_data.csv",
    "folder_experiment": "runs/alzheimer_study",
    "make_plots": false,
    "out_folder": "diff_analysis",
    "ref_method_score": null,
    "target": "AD"
   },
   "start_time": "2024-08-19T10:01:12.233391",
   "version": "2.6.0"
  }
 },
 "nbformat": 4,
 "nbformat_minor": 5
}