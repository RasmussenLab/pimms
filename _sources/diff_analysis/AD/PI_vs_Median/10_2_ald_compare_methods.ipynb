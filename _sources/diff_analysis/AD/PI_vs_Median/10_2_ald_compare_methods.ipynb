{
 "cells": [
  {
   "cell_type": "markdown",
   "id": "9acfeaca-5f8c-42f3-9a8e-83ed737eb35c",
   "metadata": {
    "papermill": {
     "duration": 0.015353,
     "end_time": "2024-09-25T04:35:09.240589",
     "exception": false,
     "start_time": "2024-09-25T04:35:09.225236",
     "status": "completed"
    },
    "tags": []
   },
   "source": [
    "# Compare outcomes from differential analysis based on different imputation methods\n",
    "\n",
    "- load scores based on `10_1_ald_diff_analysis`"
   ]
  },
  {
   "cell_type": "code",
   "execution_count": 1,
   "id": "eec6f931-c04d-428c-b2b1-0424c50e6cd2",
   "metadata": {
    "execution": {
     "iopub.execute_input": "2024-09-25T04:35:09.264907Z",
     "iopub.status.busy": "2024-09-25T04:35:09.264164Z",
     "iopub.status.idle": "2024-09-25T04:35:11.198247Z",
     "shell.execute_reply": "2024-09-25T04:35:11.197593Z"
    },
    "papermill": {
     "duration": 1.947535,
     "end_time": "2024-09-25T04:35:11.199977",
     "exception": false,
     "start_time": "2024-09-25T04:35:09.252442",
     "status": "completed"
    },
    "tags": [
     "hide-input"
    ]
   },
   "outputs": [],
   "source": [
    "import logging\n",
    "from pathlib import Path\n",
    "\n",
    "import matplotlib.pyplot as plt\n",
    "import pandas as pd\n",
    "import seaborn as sns\n",
    "from IPython.display import display\n",
    "\n",
    "import pimmslearn\n",
    "import pimmslearn.databases.diseases\n",
    "\n",
    "logger = pimmslearn.logging.setup_nb_logger()\n",
    "\n",
    "plt.rcParams['figure.figsize'] = (2, 2)\n",
    "fontsize = 5\n",
    "pimmslearn.plotting.make_large_descriptors(fontsize)\n",
    "logging.getLogger('fontTools').setLevel(logging.ERROR)\n",
    "\n",
    "# catch passed parameters\n",
    "args = None\n",
    "args = dict(globals()).keys()"
   ]
  },
  {
   "cell_type": "markdown",
   "id": "85f5f5d5",
   "metadata": {
    "papermill": {
     "duration": 0.010966,
     "end_time": "2024-09-25T04:35:11.222678",
     "exception": false,
     "start_time": "2024-09-25T04:35:11.211712",
     "status": "completed"
    },
    "tags": []
   },
   "source": [
    "## Parameters\n",
    "Default and set parameters for the notebook."
   ]
  },
  {
   "cell_type": "code",
   "execution_count": 2,
   "id": "f4bf65da-0569-4a21-ba20-9cae7d3679e7",
   "metadata": {
    "execution": {
     "iopub.execute_input": "2024-09-25T04:35:11.245275Z",
     "iopub.status.busy": "2024-09-25T04:35:11.244999Z",
     "iopub.status.idle": "2024-09-25T04:35:11.251493Z",
     "shell.execute_reply": "2024-09-25T04:35:11.250906Z"
    },
    "papermill": {
     "duration": 0.019234,
     "end_time": "2024-09-25T04:35:11.252678",
     "exception": false,
     "start_time": "2024-09-25T04:35:11.233444",
     "status": "completed"
    },
    "tags": [
     "parameters"
    ]
   },
   "outputs": [],
   "source": [
    "folder_experiment = 'runs/appl_ald_data/plasma/proteinGroups'\n",
    "\n",
    "target = 'kleiner'\n",
    "model_key = 'VAE'\n",
    "baseline = 'RSN'\n",
    "out_folder = 'diff_analysis'\n",
    "selected_statistics = ['p-unc', '-Log10 pvalue', 'qvalue', 'rejected']\n",
    "\n",
    "disease_ontology = 5082  # code from https://disease-ontology.org/\n",
    "# split diseases notebook? Query gene names for proteins in file from uniprot?\n",
    "annotaitons_gene_col = 'PG.Genes'"
   ]
  },
  {
   "cell_type": "code",
   "execution_count": 3,
   "id": "fd6a66f9",
   "metadata": {
    "execution": {
     "iopub.execute_input": "2024-09-25T04:35:11.276836Z",
     "iopub.status.busy": "2024-09-25T04:35:11.275905Z",
     "iopub.status.idle": "2024-09-25T04:35:11.279903Z",
     "shell.execute_reply": "2024-09-25T04:35:11.279423Z"
    },
    "papermill": {
     "duration": 0.016565,
     "end_time": "2024-09-25T04:35:11.280862",
     "exception": false,
     "start_time": "2024-09-25T04:35:11.264297",
     "status": "completed"
    },
    "tags": [
     "injected-parameters"
    ]
   },
   "outputs": [],
   "source": [
    "# Parameters\n",
    "disease_ontology = 10652\n",
    "folder_experiment = \"runs/alzheimer_study\"\n",
    "target = \"AD\"\n",
    "baseline = \"PI\"\n",
    "model_key = \"Median\"\n",
    "out_folder = \"diff_analysis\"\n",
    "annotaitons_gene_col = \"None\"\n"
   ]
  },
  {
   "cell_type": "markdown",
   "id": "22c645fc-c7eb-4c69-a7aa-084fc733258f",
   "metadata": {
    "papermill": {
     "duration": 0.009459,
     "end_time": "2024-09-25T04:35:11.299697",
     "exception": false,
     "start_time": "2024-09-25T04:35:11.290238",
     "status": "completed"
    },
    "tags": []
   },
   "source": [
    "Add set parameters to configuration"
   ]
  },
  {
   "cell_type": "code",
   "execution_count": 4,
   "id": "978876d0-b3cc-4847-8eab-dc0b89ddbbcd",
   "metadata": {
    "execution": {
     "iopub.execute_input": "2024-09-25T04:35:11.320460Z",
     "iopub.status.busy": "2024-09-25T04:35:11.319612Z",
     "iopub.status.idle": "2024-09-25T04:35:11.339545Z",
     "shell.execute_reply": "2024-09-25T04:35:11.339099Z"
    },
    "papermill": {
     "duration": 0.03132,
     "end_time": "2024-09-25T04:35:11.340538",
     "exception": false,
     "start_time": "2024-09-25T04:35:11.309218",
     "status": "completed"
    },
    "tags": [
     "hide-input"
    ]
   },
   "outputs": [
    {
     "name": "stderr",
     "output_type": "stream",
     "text": [
      "root - INFO     Removed from global namespace: folder_experiment\n"
     ]
    },
    {
     "name": "stderr",
     "output_type": "stream",
     "text": [
      "root - INFO     Removed from global namespace: target\n"
     ]
    },
    {
     "name": "stderr",
     "output_type": "stream",
     "text": [
      "root - INFO     Removed from global namespace: model_key\n"
     ]
    },
    {
     "name": "stderr",
     "output_type": "stream",
     "text": [
      "root - INFO     Removed from global namespace: baseline\n"
     ]
    },
    {
     "name": "stderr",
     "output_type": "stream",
     "text": [
      "root - INFO     Removed from global namespace: out_folder\n"
     ]
    },
    {
     "name": "stderr",
     "output_type": "stream",
     "text": [
      "root - INFO     Removed from global namespace: selected_statistics\n"
     ]
    },
    {
     "name": "stderr",
     "output_type": "stream",
     "text": [
      "root - INFO     Removed from global namespace: disease_ontology\n"
     ]
    },
    {
     "name": "stderr",
     "output_type": "stream",
     "text": [
      "root - INFO     Removed from global namespace: annotaitons_gene_col\n"
     ]
    },
    {
     "name": "stderr",
     "output_type": "stream",
     "text": [
      "root - INFO     Already set attribute: folder_experiment has value runs/alzheimer_study\n"
     ]
    },
    {
     "name": "stderr",
     "output_type": "stream",
     "text": [
      "root - INFO     Already set attribute: out_folder has value diff_analysis\n"
     ]
    },
    {
     "data": {
      "text/plain": [
       "{'annotaitons_gene_col': 'None',\n",
       " 'baseline': 'PI',\n",
       " 'data': PosixPath('runs/alzheimer_study/data'),\n",
       " 'disease_ontology': 10652,\n",
       " 'folder_experiment': PosixPath('runs/alzheimer_study'),\n",
       " 'freq_features_observed': PosixPath('runs/alzheimer_study/freq_features_observed.csv'),\n",
       " 'model_key': 'Median',\n",
       " 'out_figures': PosixPath('runs/alzheimer_study/figures'),\n",
       " 'out_folder': PosixPath('runs/alzheimer_study/diff_analysis/AD/PI_vs_Median'),\n",
       " 'out_metrics': PosixPath('runs/alzheimer_study'),\n",
       " 'out_models': PosixPath('runs/alzheimer_study'),\n",
       " 'out_preds': PosixPath('runs/alzheimer_study/preds'),\n",
       " 'scores_folder': PosixPath('runs/alzheimer_study/diff_analysis/AD/scores'),\n",
       " 'selected_statistics': ['p-unc', '-Log10 pvalue', 'qvalue', 'rejected'],\n",
       " 'target': 'AD'}"
      ]
     },
     "execution_count": 4,
     "metadata": {},
     "output_type": "execute_result"
    }
   ],
   "source": [
    "params = pimmslearn.nb.get_params(args, globals=globals())\n",
    "args = pimmslearn.nb.Config()\n",
    "args.folder_experiment = Path(params[\"folder_experiment\"])\n",
    "args = pimmslearn.nb.add_default_paths(args,\n",
    "                                 out_root=(\n",
    "                                     args.folder_experiment\n",
    "                                     / params[\"out_folder\"]\n",
    "                                     / params[\"target\"]\n",
    "                                     / f\"{params['baseline']}_vs_{params['model_key']}\"))\n",
    "args.update_from_dict(params)\n",
    "args.scores_folder = scores_folder = (args.folder_experiment\n",
    "                                      / params[\"out_folder\"]\n",
    "                                      / params[\"target\"]\n",
    "                                      / 'scores')\n",
    "args.freq_features_observed = args.folder_experiment / 'freq_features_observed.csv'\n",
    "args"
   ]
  },
  {
   "cell_type": "markdown",
   "id": "fc184dea",
   "metadata": {
    "papermill": {
     "duration": 0.011982,
     "end_time": "2024-09-25T04:35:11.362808",
     "exception": false,
     "start_time": "2024-09-25T04:35:11.350826",
     "status": "completed"
    },
    "tags": []
   },
   "source": [
    "### Excel file for exports"
   ]
  },
  {
   "cell_type": "code",
   "execution_count": 5,
   "id": "a8016d79-e41a-40a2-bcbf-e11711c33b7d",
   "metadata": {
    "execution": {
     "iopub.execute_input": "2024-09-25T04:35:11.388779Z",
     "iopub.status.busy": "2024-09-25T04:35:11.387896Z",
     "iopub.status.idle": "2024-09-25T04:35:11.495073Z",
     "shell.execute_reply": "2024-09-25T04:35:11.494512Z"
    },
    "papermill": {
     "duration": 0.122091,
     "end_time": "2024-09-25T04:35:11.496407",
     "exception": false,
     "start_time": "2024-09-25T04:35:11.374316",
     "status": "completed"
    },
    "tags": []
   },
   "outputs": [
    {
     "name": "stderr",
     "output_type": "stream",
     "text": [
      "root - INFO     Writing to excel file: runs/alzheimer_study/diff_analysis/AD/PI_vs_Median/diff_analysis_compare_methods.xlsx\n"
     ]
    }
   ],
   "source": [
    "files_out = dict()\n",
    "writer_args = dict(float_format='%.3f')\n",
    "\n",
    "fname = args.out_folder / 'diff_analysis_compare_methods.xlsx'\n",
    "files_out[fname.name] = fname\n",
    "writer = pd.ExcelWriter(fname)\n",
    "logger.info(\"Writing to excel file: %s\", fname)"
   ]
  },
  {
   "cell_type": "markdown",
   "id": "770d1f76-e86f-4ae3-9d7b-ceef9b9e9a22",
   "metadata": {
    "papermill": {
     "duration": 0.011678,
     "end_time": "2024-09-25T04:35:11.521116",
     "exception": false,
     "start_time": "2024-09-25T04:35:11.509438",
     "status": "completed"
    },
    "tags": []
   },
   "source": [
    "## Load scores"
   ]
  },
  {
   "cell_type": "markdown",
   "id": "6b108869",
   "metadata": {
    "papermill": {
     "duration": 0.011413,
     "end_time": "2024-09-25T04:35:11.545388",
     "exception": false,
     "start_time": "2024-09-25T04:35:11.533975",
     "status": "completed"
    },
    "tags": []
   },
   "source": [
    "### Load baseline model scores\n",
    "Show all statistics, later use selected statistics"
   ]
  },
  {
   "cell_type": "code",
   "execution_count": 6,
   "id": "97221134-5f61-4158-bfc5-ea30077140b8",
   "metadata": {
    "execution": {
     "iopub.execute_input": "2024-09-25T04:35:11.571965Z",
     "iopub.status.busy": "2024-09-25T04:35:11.570864Z",
     "iopub.status.idle": "2024-09-25T04:35:11.594283Z",
     "shell.execute_reply": "2024-09-25T04:35:11.593651Z"
    },
    "papermill": {
     "duration": 0.038095,
     "end_time": "2024-09-25T04:35:11.595663",
     "exception": false,
     "start_time": "2024-09-25T04:35:11.557568",
     "status": "completed"
    },
    "tags": [
     "hide-input"
    ]
   },
   "outputs": [
    {
     "data": {
      "text/html": [
       "<div>\n",
       "<style scoped>\n",
       "    .dataframe tbody tr th:only-of-type {\n",
       "        vertical-align: middle;\n",
       "    }\n",
       "\n",
       "    .dataframe tbody tr th {\n",
       "        vertical-align: top;\n",
       "    }\n",
       "\n",
       "    .dataframe thead tr th {\n",
       "        text-align: left;\n",
       "    }\n",
       "\n",
       "    .dataframe thead tr:last-of-type th {\n",
       "        text-align: right;\n",
       "    }\n",
       "</style>\n",
       "<table border=\"1\" class=\"dataframe\">\n",
       "  <thead>\n",
       "    <tr>\n",
       "      <th></th>\n",
       "      <th>model</th>\n",
       "      <th colspan=\"8\" halign=\"left\">PI</th>\n",
       "    </tr>\n",
       "    <tr>\n",
       "      <th></th>\n",
       "      <th>var</th>\n",
       "      <th>SS</th>\n",
       "      <th>DF</th>\n",
       "      <th>F</th>\n",
       "      <th>p-unc</th>\n",
       "      <th>np2</th>\n",
       "      <th>-Log10 pvalue</th>\n",
       "      <th>qvalue</th>\n",
       "      <th>rejected</th>\n",
       "    </tr>\n",
       "    <tr>\n",
       "      <th>protein groups</th>\n",
       "      <th>Source</th>\n",
       "      <th></th>\n",
       "      <th></th>\n",
       "      <th></th>\n",
       "      <th></th>\n",
       "      <th></th>\n",
       "      <th></th>\n",
       "      <th></th>\n",
       "      <th></th>\n",
       "    </tr>\n",
       "  </thead>\n",
       "  <tbody>\n",
       "    <tr>\n",
       "      <th rowspan=\"5\" valign=\"top\">A0A024QZX5;A0A087X1N8;P35237</th>\n",
       "      <th>AD</th>\n",
       "      <td>0.373</td>\n",
       "      <td>1</td>\n",
       "      <td>0.731</td>\n",
       "      <td>0.394</td>\n",
       "      <td>0.004</td>\n",
       "      <td>0.405</td>\n",
       "      <td>0.559</td>\n",
       "      <td>False</td>\n",
       "    </tr>\n",
       "    <tr>\n",
       "      <th>age</th>\n",
       "      <td>0.293</td>\n",
       "      <td>1</td>\n",
       "      <td>0.573</td>\n",
       "      <td>0.450</td>\n",
       "      <td>0.003</td>\n",
       "      <td>0.347</td>\n",
       "      <td>0.610</td>\n",
       "      <td>False</td>\n",
       "    </tr>\n",
       "    <tr>\n",
       "      <th>Kiel</th>\n",
       "      <td>2.294</td>\n",
       "      <td>1</td>\n",
       "      <td>4.486</td>\n",
       "      <td>0.035</td>\n",
       "      <td>0.023</td>\n",
       "      <td>1.450</td>\n",
       "      <td>0.093</td>\n",
       "      <td>False</td>\n",
       "    </tr>\n",
       "    <tr>\n",
       "      <th>Magdeburg</th>\n",
       "      <td>4.065</td>\n",
       "      <td>1</td>\n",
       "      <td>7.951</td>\n",
       "      <td>0.005</td>\n",
       "      <td>0.040</td>\n",
       "      <td>2.275</td>\n",
       "      <td>0.020</td>\n",
       "      <td>True</td>\n",
       "    </tr>\n",
       "    <tr>\n",
       "      <th>Sweden</th>\n",
       "      <td>6.963</td>\n",
       "      <td>1</td>\n",
       "      <td>13.621</td>\n",
       "      <td>0.000</td>\n",
       "      <td>0.067</td>\n",
       "      <td>3.535</td>\n",
       "      <td>0.002</td>\n",
       "      <td>True</td>\n",
       "    </tr>\n",
       "    <tr>\n",
       "      <th>...</th>\n",
       "      <th>...</th>\n",
       "      <td>...</td>\n",
       "      <td>...</td>\n",
       "      <td>...</td>\n",
       "      <td>...</td>\n",
       "      <td>...</td>\n",
       "      <td>...</td>\n",
       "      <td>...</td>\n",
       "      <td>...</td>\n",
       "    </tr>\n",
       "    <tr>\n",
       "      <th rowspan=\"5\" valign=\"top\">S4R3U6</th>\n",
       "      <th>AD</th>\n",
       "      <td>0.414</td>\n",
       "      <td>1</td>\n",
       "      <td>0.435</td>\n",
       "      <td>0.511</td>\n",
       "      <td>0.002</td>\n",
       "      <td>0.292</td>\n",
       "      <td>0.663</td>\n",
       "      <td>False</td>\n",
       "    </tr>\n",
       "    <tr>\n",
       "      <th>age</th>\n",
       "      <td>0.569</td>\n",
       "      <td>1</td>\n",
       "      <td>0.597</td>\n",
       "      <td>0.441</td>\n",
       "      <td>0.003</td>\n",
       "      <td>0.356</td>\n",
       "      <td>0.602</td>\n",
       "      <td>False</td>\n",
       "    </tr>\n",
       "    <tr>\n",
       "      <th>Kiel</th>\n",
       "      <td>0.129</td>\n",
       "      <td>1</td>\n",
       "      <td>0.135</td>\n",
       "      <td>0.714</td>\n",
       "      <td>0.001</td>\n",
       "      <td>0.147</td>\n",
       "      <td>0.819</td>\n",
       "      <td>False</td>\n",
       "    </tr>\n",
       "    <tr>\n",
       "      <th>Magdeburg</th>\n",
       "      <td>1.635</td>\n",
       "      <td>1</td>\n",
       "      <td>1.715</td>\n",
       "      <td>0.192</td>\n",
       "      <td>0.009</td>\n",
       "      <td>0.717</td>\n",
       "      <td>0.339</td>\n",
       "      <td>False</td>\n",
       "    </tr>\n",
       "    <tr>\n",
       "      <th>Sweden</th>\n",
       "      <td>15.776</td>\n",
       "      <td>1</td>\n",
       "      <td>16.550</td>\n",
       "      <td>0.000</td>\n",
       "      <td>0.080</td>\n",
       "      <td>4.159</td>\n",
       "      <td>0.000</td>\n",
       "      <td>True</td>\n",
       "    </tr>\n",
       "  </tbody>\n",
       "</table>\n",
       "<p>7105 rows × 8 columns</p>\n",
       "</div>"
      ],
      "text/plain": [
       "model                                      PI                        \\\n",
       "var                                        SS DF      F p-unc   np2   \n",
       "protein groups               Source                                   \n",
       "A0A024QZX5;A0A087X1N8;P35237 AD         0.373  1  0.731 0.394 0.004   \n",
       "                             age        0.293  1  0.573 0.450 0.003   \n",
       "                             Kiel       2.294  1  4.486 0.035 0.023   \n",
       "                             Magdeburg  4.065  1  7.951 0.005 0.040   \n",
       "                             Sweden     6.963  1 13.621 0.000 0.067   \n",
       "...                                       ... ..    ...   ...   ...   \n",
       "S4R3U6                       AD         0.414  1  0.435 0.511 0.002   \n",
       "                             age        0.569  1  0.597 0.441 0.003   \n",
       "                             Kiel       0.129  1  0.135 0.714 0.001   \n",
       "                             Magdeburg  1.635  1  1.715 0.192 0.009   \n",
       "                             Sweden    15.776  1 16.550 0.000 0.080   \n",
       "\n",
       "model                                                                 \n",
       "var                                    -Log10 pvalue qvalue rejected  \n",
       "protein groups               Source                                   \n",
       "A0A024QZX5;A0A087X1N8;P35237 AD                0.405  0.559    False  \n",
       "                             age               0.347  0.610    False  \n",
       "                             Kiel              1.450  0.093    False  \n",
       "                             Magdeburg         2.275  0.020     True  \n",
       "                             Sweden            3.535  0.002     True  \n",
       "...                                              ...    ...      ...  \n",
       "S4R3U6                       AD                0.292  0.663    False  \n",
       "                             age               0.356  0.602    False  \n",
       "                             Kiel              0.147  0.819    False  \n",
       "                             Magdeburg         0.717  0.339    False  \n",
       "                             Sweden            4.159  0.000     True  \n",
       "\n",
       "[7105 rows x 8 columns]"
      ]
     },
     "execution_count": 6,
     "metadata": {},
     "output_type": "execute_result"
    }
   ],
   "source": [
    "fname = args.scores_folder / f'diff_analysis_scores_{args.baseline}.pkl'\n",
    "scores_baseline = pd.read_pickle(fname)\n",
    "scores_baseline"
   ]
  },
  {
   "cell_type": "markdown",
   "id": "e49a8da2",
   "metadata": {
    "papermill": {
     "duration": 0.012727,
     "end_time": "2024-09-25T04:35:11.621081",
     "exception": false,
     "start_time": "2024-09-25T04:35:11.608354",
     "status": "completed"
    },
    "tags": []
   },
   "source": [
    "### Load selected comparison model scores"
   ]
  },
  {
   "cell_type": "code",
   "execution_count": 7,
   "id": "f0635e4d",
   "metadata": {
    "execution": {
     "iopub.execute_input": "2024-09-25T04:35:11.648717Z",
     "iopub.status.busy": "2024-09-25T04:35:11.648174Z",
     "iopub.status.idle": "2024-09-25T04:35:11.668408Z",
     "shell.execute_reply": "2024-09-25T04:35:11.667812Z"
    },
    "papermill": {
     "duration": 0.035089,
     "end_time": "2024-09-25T04:35:11.669931",
     "exception": false,
     "start_time": "2024-09-25T04:35:11.634842",
     "status": "completed"
    },
    "tags": [
     "hide-input"
    ]
   },
   "outputs": [
    {
     "data": {
      "text/html": [
       "<div>\n",
       "<style scoped>\n",
       "    .dataframe tbody tr th:only-of-type {\n",
       "        vertical-align: middle;\n",
       "    }\n",
       "\n",
       "    .dataframe tbody tr th {\n",
       "        vertical-align: top;\n",
       "    }\n",
       "\n",
       "    .dataframe thead tr th {\n",
       "        text-align: left;\n",
       "    }\n",
       "\n",
       "    .dataframe thead tr:last-of-type th {\n",
       "        text-align: right;\n",
       "    }\n",
       "</style>\n",
       "<table border=\"1\" class=\"dataframe\">\n",
       "  <thead>\n",
       "    <tr>\n",
       "      <th></th>\n",
       "      <th>model</th>\n",
       "      <th colspan=\"8\" halign=\"left\">Median</th>\n",
       "    </tr>\n",
       "    <tr>\n",
       "      <th></th>\n",
       "      <th>var</th>\n",
       "      <th>SS</th>\n",
       "      <th>DF</th>\n",
       "      <th>F</th>\n",
       "      <th>p-unc</th>\n",
       "      <th>np2</th>\n",
       "      <th>-Log10 pvalue</th>\n",
       "      <th>qvalue</th>\n",
       "      <th>rejected</th>\n",
       "    </tr>\n",
       "    <tr>\n",
       "      <th>protein groups</th>\n",
       "      <th>Source</th>\n",
       "      <th></th>\n",
       "      <th></th>\n",
       "      <th></th>\n",
       "      <th></th>\n",
       "      <th></th>\n",
       "      <th></th>\n",
       "      <th></th>\n",
       "      <th></th>\n",
       "    </tr>\n",
       "  </thead>\n",
       "  <tbody>\n",
       "    <tr>\n",
       "      <th rowspan=\"5\" valign=\"top\">A0A024QZX5;A0A087X1N8;P35237</th>\n",
       "      <th>AD</th>\n",
       "      <td>0.830</td>\n",
       "      <td>1</td>\n",
       "      <td>6.377</td>\n",
       "      <td>0.012</td>\n",
       "      <td>0.032</td>\n",
       "      <td>1.907</td>\n",
       "      <td>0.039</td>\n",
       "      <td>True</td>\n",
       "    </tr>\n",
       "    <tr>\n",
       "      <th>age</th>\n",
       "      <td>0.001</td>\n",
       "      <td>1</td>\n",
       "      <td>0.006</td>\n",
       "      <td>0.939</td>\n",
       "      <td>0.000</td>\n",
       "      <td>0.027</td>\n",
       "      <td>0.966</td>\n",
       "      <td>False</td>\n",
       "    </tr>\n",
       "    <tr>\n",
       "      <th>Kiel</th>\n",
       "      <td>0.106</td>\n",
       "      <td>1</td>\n",
       "      <td>0.815</td>\n",
       "      <td>0.368</td>\n",
       "      <td>0.004</td>\n",
       "      <td>0.435</td>\n",
       "      <td>0.532</td>\n",
       "      <td>False</td>\n",
       "    </tr>\n",
       "    <tr>\n",
       "      <th>Magdeburg</th>\n",
       "      <td>0.219</td>\n",
       "      <td>1</td>\n",
       "      <td>1.680</td>\n",
       "      <td>0.197</td>\n",
       "      <td>0.009</td>\n",
       "      <td>0.707</td>\n",
       "      <td>0.343</td>\n",
       "      <td>False</td>\n",
       "    </tr>\n",
       "    <tr>\n",
       "      <th>Sweden</th>\n",
       "      <td>1.101</td>\n",
       "      <td>1</td>\n",
       "      <td>8.461</td>\n",
       "      <td>0.004</td>\n",
       "      <td>0.042</td>\n",
       "      <td>2.392</td>\n",
       "      <td>0.016</td>\n",
       "      <td>True</td>\n",
       "    </tr>\n",
       "    <tr>\n",
       "      <th>...</th>\n",
       "      <th>...</th>\n",
       "      <td>...</td>\n",
       "      <td>...</td>\n",
       "      <td>...</td>\n",
       "      <td>...</td>\n",
       "      <td>...</td>\n",
       "      <td>...</td>\n",
       "      <td>...</td>\n",
       "      <td>...</td>\n",
       "    </tr>\n",
       "    <tr>\n",
       "      <th rowspan=\"5\" valign=\"top\">S4R3U6</th>\n",
       "      <th>AD</th>\n",
       "      <td>0.051</td>\n",
       "      <td>1</td>\n",
       "      <td>0.119</td>\n",
       "      <td>0.730</td>\n",
       "      <td>0.001</td>\n",
       "      <td>0.136</td>\n",
       "      <td>0.829</td>\n",
       "      <td>False</td>\n",
       "    </tr>\n",
       "    <tr>\n",
       "      <th>age</th>\n",
       "      <td>1.214</td>\n",
       "      <td>1</td>\n",
       "      <td>2.845</td>\n",
       "      <td>0.093</td>\n",
       "      <td>0.015</td>\n",
       "      <td>1.030</td>\n",
       "      <td>0.194</td>\n",
       "      <td>False</td>\n",
       "    </tr>\n",
       "    <tr>\n",
       "      <th>Kiel</th>\n",
       "      <td>0.861</td>\n",
       "      <td>1</td>\n",
       "      <td>2.018</td>\n",
       "      <td>0.157</td>\n",
       "      <td>0.010</td>\n",
       "      <td>0.804</td>\n",
       "      <td>0.289</td>\n",
       "      <td>False</td>\n",
       "    </tr>\n",
       "    <tr>\n",
       "      <th>Magdeburg</th>\n",
       "      <td>0.216</td>\n",
       "      <td>1</td>\n",
       "      <td>0.506</td>\n",
       "      <td>0.478</td>\n",
       "      <td>0.003</td>\n",
       "      <td>0.321</td>\n",
       "      <td>0.631</td>\n",
       "      <td>False</td>\n",
       "    </tr>\n",
       "    <tr>\n",
       "      <th>Sweden</th>\n",
       "      <td>3.965</td>\n",
       "      <td>1</td>\n",
       "      <td>9.288</td>\n",
       "      <td>0.003</td>\n",
       "      <td>0.046</td>\n",
       "      <td>2.580</td>\n",
       "      <td>0.011</td>\n",
       "      <td>True</td>\n",
       "    </tr>\n",
       "  </tbody>\n",
       "</table>\n",
       "<p>7105 rows × 8 columns</p>\n",
       "</div>"
      ],
      "text/plain": [
       "model                                  Median                       \\\n",
       "var                                        SS DF     F p-unc   np2   \n",
       "protein groups               Source                                  \n",
       "A0A024QZX5;A0A087X1N8;P35237 AD         0.830  1 6.377 0.012 0.032   \n",
       "                             age        0.001  1 0.006 0.939 0.000   \n",
       "                             Kiel       0.106  1 0.815 0.368 0.004   \n",
       "                             Magdeburg  0.219  1 1.680 0.197 0.009   \n",
       "                             Sweden     1.101  1 8.461 0.004 0.042   \n",
       "...                                       ... ..   ...   ...   ...   \n",
       "S4R3U6                       AD         0.051  1 0.119 0.730 0.001   \n",
       "                             age        1.214  1 2.845 0.093 0.015   \n",
       "                             Kiel       0.861  1 2.018 0.157 0.010   \n",
       "                             Magdeburg  0.216  1 0.506 0.478 0.003   \n",
       "                             Sweden     3.965  1 9.288 0.003 0.046   \n",
       "\n",
       "model                                                                 \n",
       "var                                    -Log10 pvalue qvalue rejected  \n",
       "protein groups               Source                                   \n",
       "A0A024QZX5;A0A087X1N8;P35237 AD                1.907  0.039     True  \n",
       "                             age               0.027  0.966    False  \n",
       "                             Kiel              0.435  0.532    False  \n",
       "                             Magdeburg         0.707  0.343    False  \n",
       "                             Sweden            2.392  0.016     True  \n",
       "...                                              ...    ...      ...  \n",
       "S4R3U6                       AD                0.136  0.829    False  \n",
       "                             age               1.030  0.194    False  \n",
       "                             Kiel              0.804  0.289    False  \n",
       "                             Magdeburg         0.321  0.631    False  \n",
       "                             Sweden            2.580  0.011     True  \n",
       "\n",
       "[7105 rows x 8 columns]"
      ]
     },
     "execution_count": 7,
     "metadata": {},
     "output_type": "execute_result"
    }
   ],
   "source": [
    "fname = args.scores_folder / f'diff_analysis_scores_{args.model_key}.pkl'\n",
    "scores_model = pd.read_pickle(fname)\n",
    "scores_model"
   ]
  },
  {
   "cell_type": "markdown",
   "id": "06b7e883",
   "metadata": {
    "papermill": {
     "duration": 0.013544,
     "end_time": "2024-09-25T04:35:11.697450",
     "exception": false,
     "start_time": "2024-09-25T04:35:11.683906",
     "status": "completed"
    },
    "tags": []
   },
   "source": [
    "### Combined scores\n",
    "show only selected statistics for comparsion"
   ]
  },
  {
   "cell_type": "code",
   "execution_count": 8,
   "id": "373fdf65",
   "metadata": {
    "execution": {
     "iopub.execute_input": "2024-09-25T04:35:11.726762Z",
     "iopub.status.busy": "2024-09-25T04:35:11.725529Z",
     "iopub.status.idle": "2024-09-25T04:35:11.759171Z",
     "shell.execute_reply": "2024-09-25T04:35:11.758601Z"
    },
    "papermill": {
     "duration": 0.049396,
     "end_time": "2024-09-25T04:35:11.760477",
     "exception": false,
     "start_time": "2024-09-25T04:35:11.711081",
     "status": "completed"
    },
    "tags": [
     "hide-input"
    ]
   },
   "outputs": [
    {
     "data": {
      "text/html": [
       "<div>\n",
       "<style scoped>\n",
       "    .dataframe tbody tr th:only-of-type {\n",
       "        vertical-align: middle;\n",
       "    }\n",
       "\n",
       "    .dataframe tbody tr th {\n",
       "        vertical-align: top;\n",
       "    }\n",
       "\n",
       "    .dataframe thead tr th {\n",
       "        text-align: left;\n",
       "    }\n",
       "\n",
       "    .dataframe thead tr:last-of-type th {\n",
       "        text-align: right;\n",
       "    }\n",
       "</style>\n",
       "<table border=\"1\" class=\"dataframe\">\n",
       "  <thead>\n",
       "    <tr>\n",
       "      <th></th>\n",
       "      <th>model</th>\n",
       "      <th colspan=\"4\" halign=\"left\">Median</th>\n",
       "      <th colspan=\"4\" halign=\"left\">PI</th>\n",
       "    </tr>\n",
       "    <tr>\n",
       "      <th></th>\n",
       "      <th>var</th>\n",
       "      <th>p-unc</th>\n",
       "      <th>-Log10 pvalue</th>\n",
       "      <th>qvalue</th>\n",
       "      <th>rejected</th>\n",
       "      <th>p-unc</th>\n",
       "      <th>-Log10 pvalue</th>\n",
       "      <th>qvalue</th>\n",
       "      <th>rejected</th>\n",
       "    </tr>\n",
       "    <tr>\n",
       "      <th>protein groups</th>\n",
       "      <th>Source</th>\n",
       "      <th></th>\n",
       "      <th></th>\n",
       "      <th></th>\n",
       "      <th></th>\n",
       "      <th></th>\n",
       "      <th></th>\n",
       "      <th></th>\n",
       "      <th></th>\n",
       "    </tr>\n",
       "  </thead>\n",
       "  <tbody>\n",
       "    <tr>\n",
       "      <th rowspan=\"5\" valign=\"top\">A0A024QZX5;A0A087X1N8;P35237</th>\n",
       "      <th>AD</th>\n",
       "      <td>0.012</td>\n",
       "      <td>1.907</td>\n",
       "      <td>0.039</td>\n",
       "      <td>True</td>\n",
       "      <td>0.394</td>\n",
       "      <td>0.405</td>\n",
       "      <td>0.559</td>\n",
       "      <td>False</td>\n",
       "    </tr>\n",
       "    <tr>\n",
       "      <th>Kiel</th>\n",
       "      <td>0.368</td>\n",
       "      <td>0.435</td>\n",
       "      <td>0.532</td>\n",
       "      <td>False</td>\n",
       "      <td>0.035</td>\n",
       "      <td>1.450</td>\n",
       "      <td>0.093</td>\n",
       "      <td>False</td>\n",
       "    </tr>\n",
       "    <tr>\n",
       "      <th>Magdeburg</th>\n",
       "      <td>0.197</td>\n",
       "      <td>0.707</td>\n",
       "      <td>0.343</td>\n",
       "      <td>False</td>\n",
       "      <td>0.005</td>\n",
       "      <td>2.275</td>\n",
       "      <td>0.020</td>\n",
       "      <td>True</td>\n",
       "    </tr>\n",
       "    <tr>\n",
       "      <th>Sweden</th>\n",
       "      <td>0.004</td>\n",
       "      <td>2.392</td>\n",
       "      <td>0.016</td>\n",
       "      <td>True</td>\n",
       "      <td>0.000</td>\n",
       "      <td>3.535</td>\n",
       "      <td>0.002</td>\n",
       "      <td>True</td>\n",
       "    </tr>\n",
       "    <tr>\n",
       "      <th>age</th>\n",
       "      <td>0.939</td>\n",
       "      <td>0.027</td>\n",
       "      <td>0.966</td>\n",
       "      <td>False</td>\n",
       "      <td>0.450</td>\n",
       "      <td>0.347</td>\n",
       "      <td>0.610</td>\n",
       "      <td>False</td>\n",
       "    </tr>\n",
       "    <tr>\n",
       "      <th>...</th>\n",
       "      <th>...</th>\n",
       "      <td>...</td>\n",
       "      <td>...</td>\n",
       "      <td>...</td>\n",
       "      <td>...</td>\n",
       "      <td>...</td>\n",
       "      <td>...</td>\n",
       "      <td>...</td>\n",
       "      <td>...</td>\n",
       "    </tr>\n",
       "    <tr>\n",
       "      <th rowspan=\"5\" valign=\"top\">S4R3U6</th>\n",
       "      <th>AD</th>\n",
       "      <td>0.730</td>\n",
       "      <td>0.136</td>\n",
       "      <td>0.829</td>\n",
       "      <td>False</td>\n",
       "      <td>0.511</td>\n",
       "      <td>0.292</td>\n",
       "      <td>0.663</td>\n",
       "      <td>False</td>\n",
       "    </tr>\n",
       "    <tr>\n",
       "      <th>Kiel</th>\n",
       "      <td>0.157</td>\n",
       "      <td>0.804</td>\n",
       "      <td>0.289</td>\n",
       "      <td>False</td>\n",
       "      <td>0.714</td>\n",
       "      <td>0.147</td>\n",
       "      <td>0.819</td>\n",
       "      <td>False</td>\n",
       "    </tr>\n",
       "    <tr>\n",
       "      <th>Magdeburg</th>\n",
       "      <td>0.478</td>\n",
       "      <td>0.321</td>\n",
       "      <td>0.631</td>\n",
       "      <td>False</td>\n",
       "      <td>0.192</td>\n",
       "      <td>0.717</td>\n",
       "      <td>0.339</td>\n",
       "      <td>False</td>\n",
       "    </tr>\n",
       "    <tr>\n",
       "      <th>Sweden</th>\n",
       "      <td>0.003</td>\n",
       "      <td>2.580</td>\n",
       "      <td>0.011</td>\n",
       "      <td>True</td>\n",
       "      <td>0.000</td>\n",
       "      <td>4.159</td>\n",
       "      <td>0.000</td>\n",
       "      <td>True</td>\n",
       "    </tr>\n",
       "    <tr>\n",
       "      <th>age</th>\n",
       "      <td>0.093</td>\n",
       "      <td>1.030</td>\n",
       "      <td>0.194</td>\n",
       "      <td>False</td>\n",
       "      <td>0.441</td>\n",
       "      <td>0.356</td>\n",
       "      <td>0.602</td>\n",
       "      <td>False</td>\n",
       "    </tr>\n",
       "  </tbody>\n",
       "</table>\n",
       "<p>7105 rows × 8 columns</p>\n",
       "</div>"
      ],
      "text/plain": [
       "model                                  Median                                \\\n",
       "var                                     p-unc -Log10 pvalue qvalue rejected   \n",
       "protein groups               Source                                           \n",
       "A0A024QZX5;A0A087X1N8;P35237 AD         0.012         1.907  0.039     True   \n",
       "                             Kiel       0.368         0.435  0.532    False   \n",
       "                             Magdeburg  0.197         0.707  0.343    False   \n",
       "                             Sweden     0.004         2.392  0.016     True   \n",
       "                             age        0.939         0.027  0.966    False   \n",
       "...                                       ...           ...    ...      ...   \n",
       "S4R3U6                       AD         0.730         0.136  0.829    False   \n",
       "                             Kiel       0.157         0.804  0.289    False   \n",
       "                             Magdeburg  0.478         0.321  0.631    False   \n",
       "                             Sweden     0.003         2.580  0.011     True   \n",
       "                             age        0.093         1.030  0.194    False   \n",
       "\n",
       "model                                     PI                                \n",
       "var                                    p-unc -Log10 pvalue qvalue rejected  \n",
       "protein groups               Source                                         \n",
       "A0A024QZX5;A0A087X1N8;P35237 AD        0.394         0.405  0.559    False  \n",
       "                             Kiel      0.035         1.450  0.093    False  \n",
       "                             Magdeburg 0.005         2.275  0.020     True  \n",
       "                             Sweden    0.000         3.535  0.002     True  \n",
       "                             age       0.450         0.347  0.610    False  \n",
       "...                                      ...           ...    ...      ...  \n",
       "S4R3U6                       AD        0.511         0.292  0.663    False  \n",
       "                             Kiel      0.714         0.147  0.819    False  \n",
       "                             Magdeburg 0.192         0.717  0.339    False  \n",
       "                             Sweden    0.000         4.159  0.000     True  \n",
       "                             age       0.441         0.356  0.602    False  \n",
       "\n",
       "[7105 rows x 8 columns]"
      ]
     },
     "execution_count": 8,
     "metadata": {},
     "output_type": "execute_result"
    }
   ],
   "source": [
    "scores = scores_model.join(scores_baseline, how='outer')[[args.baseline, args.model_key]]\n",
    "scores = scores.loc[:, pd.IndexSlice[scores.columns.levels[0].to_list(),\n",
    "                                     args.selected_statistics]]\n",
    "scores"
   ]
  },
  {
   "cell_type": "markdown",
   "id": "b84a6e5a",
   "metadata": {
    "papermill": {
     "duration": 0.013791,
     "end_time": "2024-09-25T04:35:11.788846",
     "exception": false,
     "start_time": "2024-09-25T04:35:11.775055",
     "status": "completed"
    },
    "tags": []
   },
   "source": [
    "Models in comparison (name mapping)"
   ]
  },
  {
   "cell_type": "code",
   "execution_count": 9,
   "id": "34d243d1-3ab4-40e7-9eb8-f9efc828b82d",
   "metadata": {
    "execution": {
     "iopub.execute_input": "2024-09-25T04:35:11.818190Z",
     "iopub.status.busy": "2024-09-25T04:35:11.817705Z",
     "iopub.status.idle": "2024-09-25T04:35:11.824445Z",
     "shell.execute_reply": "2024-09-25T04:35:11.823858Z"
    },
    "papermill": {
     "duration": 0.022922,
     "end_time": "2024-09-25T04:35:11.825582",
     "exception": false,
     "start_time": "2024-09-25T04:35:11.802660",
     "status": "completed"
    },
    "tags": [
     "hide-input"
    ]
   },
   "outputs": [
    {
     "data": {
      "text/plain": [
       "{'Median': 'Median', 'PI': 'PI'}"
      ]
     },
     "execution_count": 9,
     "metadata": {},
     "output_type": "execute_result"
    }
   ],
   "source": [
    "models = pimmslearn.nb.Config.from_dict(\n",
    "    pimmslearn.pandas.index_to_dict(scores.columns.get_level_values(0)))\n",
    "vars(models)"
   ]
  },
  {
   "cell_type": "markdown",
   "id": "dd7a560d",
   "metadata": {
    "papermill": {
     "duration": 0.012223,
     "end_time": "2024-09-25T04:35:11.851698",
     "exception": false,
     "start_time": "2024-09-25T04:35:11.839475",
     "status": "completed"
    },
    "tags": []
   },
   "source": [
    "## Describe scores"
   ]
  },
  {
   "cell_type": "code",
   "execution_count": 10,
   "id": "0fee8f5d-fa52-4369-a1f9-fcfd518ab6bd",
   "metadata": {
    "execution": {
     "iopub.execute_input": "2024-09-25T04:35:11.892874Z",
     "iopub.status.busy": "2024-09-25T04:35:11.892547Z",
     "iopub.status.idle": "2024-09-25T04:35:11.955076Z",
     "shell.execute_reply": "2024-09-25T04:35:11.954369Z"
    },
    "papermill": {
     "duration": 0.091579,
     "end_time": "2024-09-25T04:35:11.956481",
     "exception": false,
     "start_time": "2024-09-25T04:35:11.864902",
     "status": "completed"
    },
    "tags": [
     "hide-input"
    ]
   },
   "outputs": [
    {
     "data": {
      "text/html": [
       "<div>\n",
       "<style scoped>\n",
       "    .dataframe tbody tr th:only-of-type {\n",
       "        vertical-align: middle;\n",
       "    }\n",
       "\n",
       "    .dataframe tbody tr th {\n",
       "        vertical-align: top;\n",
       "    }\n",
       "\n",
       "    .dataframe thead tr th {\n",
       "        text-align: left;\n",
       "    }\n",
       "</style>\n",
       "<table border=\"1\" class=\"dataframe\">\n",
       "  <thead>\n",
       "    <tr>\n",
       "      <th>model</th>\n",
       "      <th colspan=\"3\" halign=\"left\">Median</th>\n",
       "      <th colspan=\"3\" halign=\"left\">PI</th>\n",
       "    </tr>\n",
       "    <tr>\n",
       "      <th>var</th>\n",
       "      <th>p-unc</th>\n",
       "      <th>-Log10 pvalue</th>\n",
       "      <th>qvalue</th>\n",
       "      <th>p-unc</th>\n",
       "      <th>-Log10 pvalue</th>\n",
       "      <th>qvalue</th>\n",
       "    </tr>\n",
       "  </thead>\n",
       "  <tbody>\n",
       "    <tr>\n",
       "      <th>count</th>\n",
       "      <td>7,105.000</td>\n",
       "      <td>7,105.000</td>\n",
       "      <td>7,105.000</td>\n",
       "      <td>7,105.000</td>\n",
       "      <td>7,105.000</td>\n",
       "      <td>7,105.000</td>\n",
       "    </tr>\n",
       "    <tr>\n",
       "      <th>mean</th>\n",
       "      <td>0.259</td>\n",
       "      <td>2.475</td>\n",
       "      <td>0.334</td>\n",
       "      <td>0.262</td>\n",
       "      <td>2.478</td>\n",
       "      <td>0.340</td>\n",
       "    </tr>\n",
       "    <tr>\n",
       "      <th>std</th>\n",
       "      <td>0.303</td>\n",
       "      <td>4.536</td>\n",
       "      <td>0.332</td>\n",
       "      <td>0.304</td>\n",
       "      <td>5.307</td>\n",
       "      <td>0.332</td>\n",
       "    </tr>\n",
       "    <tr>\n",
       "      <th>min</th>\n",
       "      <td>0.000</td>\n",
       "      <td>0.000</td>\n",
       "      <td>0.000</td>\n",
       "      <td>0.000</td>\n",
       "      <td>0.000</td>\n",
       "      <td>0.000</td>\n",
       "    </tr>\n",
       "    <tr>\n",
       "      <th>25%</th>\n",
       "      <td>0.003</td>\n",
       "      <td>0.332</td>\n",
       "      <td>0.013</td>\n",
       "      <td>0.004</td>\n",
       "      <td>0.328</td>\n",
       "      <td>0.015</td>\n",
       "    </tr>\n",
       "    <tr>\n",
       "      <th>50%</th>\n",
       "      <td>0.114</td>\n",
       "      <td>0.943</td>\n",
       "      <td>0.228</td>\n",
       "      <td>0.122</td>\n",
       "      <td>0.915</td>\n",
       "      <td>0.243</td>\n",
       "    </tr>\n",
       "    <tr>\n",
       "      <th>75%</th>\n",
       "      <td>0.465</td>\n",
       "      <td>2.503</td>\n",
       "      <td>0.620</td>\n",
       "      <td>0.470</td>\n",
       "      <td>2.430</td>\n",
       "      <td>0.627</td>\n",
       "    </tr>\n",
       "    <tr>\n",
       "      <th>max</th>\n",
       "      <td>1.000</td>\n",
       "      <td>57.961</td>\n",
       "      <td>1.000</td>\n",
       "      <td>1.000</td>\n",
       "      <td>141.882</td>\n",
       "      <td>1.000</td>\n",
       "    </tr>\n",
       "  </tbody>\n",
       "</table>\n",
       "</div>"
      ],
      "text/plain": [
       "model    Median                                PI                        \n",
       "var       p-unc -Log10 pvalue    qvalue     p-unc -Log10 pvalue    qvalue\n",
       "count 7,105.000     7,105.000 7,105.000 7,105.000     7,105.000 7,105.000\n",
       "mean      0.259         2.475     0.334     0.262         2.478     0.340\n",
       "std       0.303         4.536     0.332     0.304         5.307     0.332\n",
       "min       0.000         0.000     0.000     0.000         0.000     0.000\n",
       "25%       0.003         0.332     0.013     0.004         0.328     0.015\n",
       "50%       0.114         0.943     0.228     0.122         0.915     0.243\n",
       "75%       0.465         2.503     0.620     0.470         2.430     0.627\n",
       "max       1.000        57.961     1.000     1.000       141.882     1.000"
      ]
     },
     "execution_count": 10,
     "metadata": {},
     "output_type": "execute_result"
    }
   ],
   "source": [
    "scores.describe()"
   ]
  },
  {
   "cell_type": "markdown",
   "id": "52ecc596",
   "metadata": {
    "papermill": {
     "duration": 0.029277,
     "end_time": "2024-09-25T04:35:12.015042",
     "exception": false,
     "start_time": "2024-09-25T04:35:11.985765",
     "status": "completed"
    },
    "tags": []
   },
   "source": [
    "### One to one comparison of by feature:"
   ]
  },
  {
   "cell_type": "code",
   "execution_count": 11,
   "id": "c6e5a0a6-343b-4f07-8d9d-2cd5cf95ae1f",
   "metadata": {
    "execution": {
     "iopub.execute_input": "2024-09-25T04:35:12.080955Z",
     "iopub.status.busy": "2024-09-25T04:35:12.076794Z",
     "iopub.status.idle": "2024-09-25T04:35:12.644774Z",
     "shell.execute_reply": "2024-09-25T04:35:12.644123Z"
    },
    "papermill": {
     "duration": 0.601351,
     "end_time": "2024-09-25T04:35:12.646230",
     "exception": false,
     "start_time": "2024-09-25T04:35:12.044879",
     "status": "completed"
    },
    "tags": [
     "hide-input"
    ]
   },
   "outputs": [
    {
     "name": "stderr",
     "output_type": "stream",
     "text": [
      "/tmp/ipykernel_47131/3761369923.py:2: FutureWarning: Starting with pandas version 3.0 all arguments of to_excel except for the argument 'excel_writer' will be keyword-only.\n",
      "  scores.to_excel(writer, 'scores', **writer_args)\n"
     ]
    },
    {
     "data": {
      "text/html": [
       "<div>\n",
       "<style scoped>\n",
       "    .dataframe tbody tr th:only-of-type {\n",
       "        vertical-align: middle;\n",
       "    }\n",
       "\n",
       "    .dataframe tbody tr th {\n",
       "        vertical-align: top;\n",
       "    }\n",
       "\n",
       "    .dataframe thead tr th {\n",
       "        text-align: left;\n",
       "    }\n",
       "\n",
       "    .dataframe thead tr:last-of-type th {\n",
       "        text-align: right;\n",
       "    }\n",
       "</style>\n",
       "<table border=\"1\" class=\"dataframe\">\n",
       "  <thead>\n",
       "    <tr>\n",
       "      <th></th>\n",
       "      <th>model</th>\n",
       "      <th colspan=\"4\" halign=\"left\">Median</th>\n",
       "      <th colspan=\"4\" halign=\"left\">PI</th>\n",
       "    </tr>\n",
       "    <tr>\n",
       "      <th></th>\n",
       "      <th>var</th>\n",
       "      <th>p-unc</th>\n",
       "      <th>-Log10 pvalue</th>\n",
       "      <th>qvalue</th>\n",
       "      <th>rejected</th>\n",
       "      <th>p-unc</th>\n",
       "      <th>-Log10 pvalue</th>\n",
       "      <th>qvalue</th>\n",
       "      <th>rejected</th>\n",
       "    </tr>\n",
       "    <tr>\n",
       "      <th>protein groups</th>\n",
       "      <th>Source</th>\n",
       "      <th></th>\n",
       "      <th></th>\n",
       "      <th></th>\n",
       "      <th></th>\n",
       "      <th></th>\n",
       "      <th></th>\n",
       "      <th></th>\n",
       "      <th></th>\n",
       "    </tr>\n",
       "  </thead>\n",
       "  <tbody>\n",
       "    <tr>\n",
       "      <th>A0A024QZX5;A0A087X1N8;P35237</th>\n",
       "      <th>AD</th>\n",
       "      <td>0.012</td>\n",
       "      <td>1.907</td>\n",
       "      <td>0.039</td>\n",
       "      <td>True</td>\n",
       "      <td>0.394</td>\n",
       "      <td>0.405</td>\n",
       "      <td>0.559</td>\n",
       "      <td>False</td>\n",
       "    </tr>\n",
       "    <tr>\n",
       "      <th>A0A024R0T9;K7ER74;P02655</th>\n",
       "      <th>AD</th>\n",
       "      <td>0.033</td>\n",
       "      <td>1.478</td>\n",
       "      <td>0.087</td>\n",
       "      <td>False</td>\n",
       "      <td>0.050</td>\n",
       "      <td>1.305</td>\n",
       "      <td>0.121</td>\n",
       "      <td>False</td>\n",
       "    </tr>\n",
       "    <tr>\n",
       "      <th>A0A024R3W6;A0A024R412;O60462;O60462-2;O60462-3;O60462-4;O60462-5;Q7LBX6;X5D2Q8</th>\n",
       "      <th>AD</th>\n",
       "      <td>0.736</td>\n",
       "      <td>0.133</td>\n",
       "      <td>0.832</td>\n",
       "      <td>False</td>\n",
       "      <td>0.103</td>\n",
       "      <td>0.988</td>\n",
       "      <td>0.216</td>\n",
       "      <td>False</td>\n",
       "    </tr>\n",
       "    <tr>\n",
       "      <th>A0A024R644;A0A0A0MRU5;A0A1B0GWI2;O75503</th>\n",
       "      <th>AD</th>\n",
       "      <td>0.259</td>\n",
       "      <td>0.587</td>\n",
       "      <td>0.418</td>\n",
       "      <td>False</td>\n",
       "      <td>0.627</td>\n",
       "      <td>0.203</td>\n",
       "      <td>0.754</td>\n",
       "      <td>False</td>\n",
       "    </tr>\n",
       "    <tr>\n",
       "      <th>A0A075B6H7</th>\n",
       "      <th>AD</th>\n",
       "      <td>0.053</td>\n",
       "      <td>1.278</td>\n",
       "      <td>0.124</td>\n",
       "      <td>False</td>\n",
       "      <td>0.137</td>\n",
       "      <td>0.863</td>\n",
       "      <td>0.265</td>\n",
       "      <td>False</td>\n",
       "    </tr>\n",
       "    <tr>\n",
       "      <th>...</th>\n",
       "      <th>...</th>\n",
       "      <td>...</td>\n",
       "      <td>...</td>\n",
       "      <td>...</td>\n",
       "      <td>...</td>\n",
       "      <td>...</td>\n",
       "      <td>...</td>\n",
       "      <td>...</td>\n",
       "      <td>...</td>\n",
       "    </tr>\n",
       "    <tr>\n",
       "      <th>Q9Y6R7</th>\n",
       "      <th>AD</th>\n",
       "      <td>0.175</td>\n",
       "      <td>0.756</td>\n",
       "      <td>0.315</td>\n",
       "      <td>False</td>\n",
       "      <td>0.175</td>\n",
       "      <td>0.756</td>\n",
       "      <td>0.317</td>\n",
       "      <td>False</td>\n",
       "    </tr>\n",
       "    <tr>\n",
       "      <th>Q9Y6X5</th>\n",
       "      <th>AD</th>\n",
       "      <td>0.291</td>\n",
       "      <td>0.536</td>\n",
       "      <td>0.455</td>\n",
       "      <td>False</td>\n",
       "      <td>0.073</td>\n",
       "      <td>1.134</td>\n",
       "      <td>0.165</td>\n",
       "      <td>False</td>\n",
       "    </tr>\n",
       "    <tr>\n",
       "      <th>Q9Y6Y8;Q9Y6Y8-2</th>\n",
       "      <th>AD</th>\n",
       "      <td>0.083</td>\n",
       "      <td>1.079</td>\n",
       "      <td>0.178</td>\n",
       "      <td>False</td>\n",
       "      <td>0.083</td>\n",
       "      <td>1.079</td>\n",
       "      <td>0.182</td>\n",
       "      <td>False</td>\n",
       "    </tr>\n",
       "    <tr>\n",
       "      <th>Q9Y6Y9</th>\n",
       "      <th>AD</th>\n",
       "      <td>0.520</td>\n",
       "      <td>0.284</td>\n",
       "      <td>0.667</td>\n",
       "      <td>False</td>\n",
       "      <td>0.827</td>\n",
       "      <td>0.083</td>\n",
       "      <td>0.897</td>\n",
       "      <td>False</td>\n",
       "    </tr>\n",
       "    <tr>\n",
       "      <th>S4R3U6</th>\n",
       "      <th>AD</th>\n",
       "      <td>0.730</td>\n",
       "      <td>0.136</td>\n",
       "      <td>0.829</td>\n",
       "      <td>False</td>\n",
       "      <td>0.511</td>\n",
       "      <td>0.292</td>\n",
       "      <td>0.663</td>\n",
       "      <td>False</td>\n",
       "    </tr>\n",
       "  </tbody>\n",
       "</table>\n",
       "<p>1421 rows × 8 columns</p>\n",
       "</div>"
      ],
      "text/plain": [
       "model                                                     Median  \\\n",
       "var                                                        p-unc   \n",
       "protein groups                                     Source          \n",
       "A0A024QZX5;A0A087X1N8;P35237                       AD      0.012   \n",
       "A0A024R0T9;K7ER74;P02655                           AD      0.033   \n",
       "A0A024R3W6;A0A024R412;O60462;O60462-2;O60462-3;... AD      0.736   \n",
       "A0A024R644;A0A0A0MRU5;A0A1B0GWI2;O75503            AD      0.259   \n",
       "A0A075B6H7                                         AD      0.053   \n",
       "...                                                          ...   \n",
       "Q9Y6R7                                             AD      0.175   \n",
       "Q9Y6X5                                             AD      0.291   \n",
       "Q9Y6Y8;Q9Y6Y8-2                                    AD      0.083   \n",
       "Q9Y6Y9                                             AD      0.520   \n",
       "S4R3U6                                             AD      0.730   \n",
       "\n",
       "model                                                                    \\\n",
       "var                                                       -Log10 pvalue   \n",
       "protein groups                                     Source                 \n",
       "A0A024QZX5;A0A087X1N8;P35237                       AD             1.907   \n",
       "A0A024R0T9;K7ER74;P02655                           AD             1.478   \n",
       "A0A024R3W6;A0A024R412;O60462;O60462-2;O60462-3;... AD             0.133   \n",
       "A0A024R644;A0A0A0MRU5;A0A1B0GWI2;O75503            AD             0.587   \n",
       "A0A075B6H7                                         AD             1.278   \n",
       "...                                                                 ...   \n",
       "Q9Y6R7                                             AD             0.756   \n",
       "Q9Y6X5                                             AD             0.536   \n",
       "Q9Y6Y8;Q9Y6Y8-2                                    AD             1.079   \n",
       "Q9Y6Y9                                             AD             0.284   \n",
       "S4R3U6                                             AD             0.136   \n",
       "\n",
       "model                                                                      \\\n",
       "var                                                       qvalue rejected   \n",
       "protein groups                                     Source                   \n",
       "A0A024QZX5;A0A087X1N8;P35237                       AD      0.039     True   \n",
       "A0A024R0T9;K7ER74;P02655                           AD      0.087    False   \n",
       "A0A024R3W6;A0A024R412;O60462;O60462-2;O60462-3;... AD      0.832    False   \n",
       "A0A024R644;A0A0A0MRU5;A0A1B0GWI2;O75503            AD      0.418    False   \n",
       "A0A075B6H7                                         AD      0.124    False   \n",
       "...                                                          ...      ...   \n",
       "Q9Y6R7                                             AD      0.315    False   \n",
       "Q9Y6X5                                             AD      0.455    False   \n",
       "Q9Y6Y8;Q9Y6Y8-2                                    AD      0.178    False   \n",
       "Q9Y6Y9                                             AD      0.667    False   \n",
       "S4R3U6                                             AD      0.829    False   \n",
       "\n",
       "model                                                        PI                \\\n",
       "var                                                       p-unc -Log10 pvalue   \n",
       "protein groups                                     Source                       \n",
       "A0A024QZX5;A0A087X1N8;P35237                       AD     0.394         0.405   \n",
       "A0A024R0T9;K7ER74;P02655                           AD     0.050         1.305   \n",
       "A0A024R3W6;A0A024R412;O60462;O60462-2;O60462-3;... AD     0.103         0.988   \n",
       "A0A024R644;A0A0A0MRU5;A0A1B0GWI2;O75503            AD     0.627         0.203   \n",
       "A0A075B6H7                                         AD     0.137         0.863   \n",
       "...                                                         ...           ...   \n",
       "Q9Y6R7                                             AD     0.175         0.756   \n",
       "Q9Y6X5                                             AD     0.073         1.134   \n",
       "Q9Y6Y8;Q9Y6Y8-2                                    AD     0.083         1.079   \n",
       "Q9Y6Y9                                             AD     0.827         0.083   \n",
       "S4R3U6                                             AD     0.511         0.292   \n",
       "\n",
       "model                                                                      \n",
       "var                                                       qvalue rejected  \n",
       "protein groups                                     Source                  \n",
       "A0A024QZX5;A0A087X1N8;P35237                       AD      0.559    False  \n",
       "A0A024R0T9;K7ER74;P02655                           AD      0.121    False  \n",
       "A0A024R3W6;A0A024R412;O60462;O60462-2;O60462-3;... AD      0.216    False  \n",
       "A0A024R644;A0A0A0MRU5;A0A1B0GWI2;O75503            AD      0.754    False  \n",
       "A0A075B6H7                                         AD      0.265    False  \n",
       "...                                                          ...      ...  \n",
       "Q9Y6R7                                             AD      0.317    False  \n",
       "Q9Y6X5                                             AD      0.165    False  \n",
       "Q9Y6Y8;Q9Y6Y8-2                                    AD      0.182    False  \n",
       "Q9Y6Y9                                             AD      0.897    False  \n",
       "S4R3U6                                             AD      0.663    False  \n",
       "\n",
       "[1421 rows x 8 columns]"
      ]
     },
     "execution_count": 11,
     "metadata": {},
     "output_type": "execute_result"
    }
   ],
   "source": [
    "scores = scores.loc[pd.IndexSlice[:, args.target], :]\n",
    "scores.to_excel(writer, 'scores', **writer_args)\n",
    "scores"
   ]
  },
  {
   "cell_type": "markdown",
   "id": "36e14580",
   "metadata": {
    "papermill": {
     "duration": 0.030069,
     "end_time": "2024-09-25T04:35:12.705760",
     "exception": false,
     "start_time": "2024-09-25T04:35:12.675691",
     "status": "completed"
    },
    "tags": []
   },
   "source": [
    "And the descriptive statistics\n",
    "of the numeric values:"
   ]
  },
  {
   "cell_type": "code",
   "execution_count": 12,
   "id": "0e45e80a-32d8-4c6c-b0a4-5ce8b7f9e121",
   "metadata": {
    "execution": {
     "iopub.execute_input": "2024-09-25T04:35:12.770371Z",
     "iopub.status.busy": "2024-09-25T04:35:12.770057Z",
     "iopub.status.idle": "2024-09-25T04:35:12.822893Z",
     "shell.execute_reply": "2024-09-25T04:35:12.822234Z"
    },
    "papermill": {
     "duration": 0.088628,
     "end_time": "2024-09-25T04:35:12.824280",
     "exception": false,
     "start_time": "2024-09-25T04:35:12.735652",
     "status": "completed"
    },
    "tags": [
     "hide-input"
    ]
   },
   "outputs": [
    {
     "data": {
      "text/html": [
       "<div>\n",
       "<style scoped>\n",
       "    .dataframe tbody tr th:only-of-type {\n",
       "        vertical-align: middle;\n",
       "    }\n",
       "\n",
       "    .dataframe tbody tr th {\n",
       "        vertical-align: top;\n",
       "    }\n",
       "\n",
       "    .dataframe thead tr th {\n",
       "        text-align: left;\n",
       "    }\n",
       "</style>\n",
       "<table border=\"1\" class=\"dataframe\">\n",
       "  <thead>\n",
       "    <tr>\n",
       "      <th>model</th>\n",
       "      <th colspan=\"3\" halign=\"left\">Median</th>\n",
       "      <th colspan=\"3\" halign=\"left\">PI</th>\n",
       "    </tr>\n",
       "    <tr>\n",
       "      <th>var</th>\n",
       "      <th>p-unc</th>\n",
       "      <th>-Log10 pvalue</th>\n",
       "      <th>qvalue</th>\n",
       "      <th>p-unc</th>\n",
       "      <th>-Log10 pvalue</th>\n",
       "      <th>qvalue</th>\n",
       "    </tr>\n",
       "  </thead>\n",
       "  <tbody>\n",
       "    <tr>\n",
       "      <th>count</th>\n",
       "      <td>1,421.000</td>\n",
       "      <td>1,421.000</td>\n",
       "      <td>1,421.000</td>\n",
       "      <td>1,421.000</td>\n",
       "      <td>1,421.000</td>\n",
       "      <td>1,421.000</td>\n",
       "    </tr>\n",
       "    <tr>\n",
       "      <th>mean</th>\n",
       "      <td>0.283</td>\n",
       "      <td>1.311</td>\n",
       "      <td>0.368</td>\n",
       "      <td>0.254</td>\n",
       "      <td>1.408</td>\n",
       "      <td>0.336</td>\n",
       "    </tr>\n",
       "    <tr>\n",
       "      <th>std</th>\n",
       "      <td>0.302</td>\n",
       "      <td>1.599</td>\n",
       "      <td>0.325</td>\n",
       "      <td>0.293</td>\n",
       "      <td>1.646</td>\n",
       "      <td>0.318</td>\n",
       "    </tr>\n",
       "    <tr>\n",
       "      <th>min</th>\n",
       "      <td>0.000</td>\n",
       "      <td>0.000</td>\n",
       "      <td>0.000</td>\n",
       "      <td>0.000</td>\n",
       "      <td>0.000</td>\n",
       "      <td>0.000</td>\n",
       "    </tr>\n",
       "    <tr>\n",
       "      <th>25%</th>\n",
       "      <td>0.017</td>\n",
       "      <td>0.310</td>\n",
       "      <td>0.051</td>\n",
       "      <td>0.011</td>\n",
       "      <td>0.362</td>\n",
       "      <td>0.037</td>\n",
       "    </tr>\n",
       "    <tr>\n",
       "      <th>50%</th>\n",
       "      <td>0.171</td>\n",
       "      <td>0.767</td>\n",
       "      <td>0.309</td>\n",
       "      <td>0.117</td>\n",
       "      <td>0.933</td>\n",
       "      <td>0.236</td>\n",
       "    </tr>\n",
       "    <tr>\n",
       "      <th>75%</th>\n",
       "      <td>0.490</td>\n",
       "      <td>1.760</td>\n",
       "      <td>0.640</td>\n",
       "      <td>0.434</td>\n",
       "      <td>1.945</td>\n",
       "      <td>0.597</td>\n",
       "    </tr>\n",
       "    <tr>\n",
       "      <th>max</th>\n",
       "      <td>1.000</td>\n",
       "      <td>14.393</td>\n",
       "      <td>1.000</td>\n",
       "      <td>1.000</td>\n",
       "      <td>24.323</td>\n",
       "      <td>1.000</td>\n",
       "    </tr>\n",
       "  </tbody>\n",
       "</table>\n",
       "</div>"
      ],
      "text/plain": [
       "model    Median                                PI                        \n",
       "var       p-unc -Log10 pvalue    qvalue     p-unc -Log10 pvalue    qvalue\n",
       "count 1,421.000     1,421.000 1,421.000 1,421.000     1,421.000 1,421.000\n",
       "mean      0.283         1.311     0.368     0.254         1.408     0.336\n",
       "std       0.302         1.599     0.325     0.293         1.646     0.318\n",
       "min       0.000         0.000     0.000     0.000         0.000     0.000\n",
       "25%       0.017         0.310     0.051     0.011         0.362     0.037\n",
       "50%       0.171         0.767     0.309     0.117         0.933     0.236\n",
       "75%       0.490         1.760     0.640     0.434         1.945     0.597\n",
       "max       1.000        14.393     1.000     1.000        24.323     1.000"
      ]
     },
     "execution_count": 12,
     "metadata": {},
     "output_type": "execute_result"
    }
   ],
   "source": [
    "scores.describe()"
   ]
  },
  {
   "cell_type": "markdown",
   "id": "e520d6dc",
   "metadata": {
    "papermill": {
     "duration": 0.031119,
     "end_time": "2024-09-25T04:35:12.884452",
     "exception": false,
     "start_time": "2024-09-25T04:35:12.853333",
     "status": "completed"
    },
    "tags": []
   },
   "source": [
    "and the boolean decision values"
   ]
  },
  {
   "cell_type": "code",
   "execution_count": 13,
   "id": "53bd5597-221c-4d54-abf2-82956db42594",
   "metadata": {
    "execution": {
     "iopub.execute_input": "2024-09-25T04:35:12.953009Z",
     "iopub.status.busy": "2024-09-25T04:35:12.952531Z",
     "iopub.status.idle": "2024-09-25T04:35:12.979946Z",
     "shell.execute_reply": "2024-09-25T04:35:12.977611Z"
    },
    "lines_to_next_cell": 2,
    "papermill": {
     "duration": 0.061977,
     "end_time": "2024-09-25T04:35:12.981172",
     "exception": false,
     "start_time": "2024-09-25T04:35:12.919195",
     "status": "completed"
    },
    "tags": [
     "hide-input"
    ]
   },
   "outputs": [
    {
     "data": {
      "text/html": [
       "<div>\n",
       "<style scoped>\n",
       "    .dataframe tbody tr th:only-of-type {\n",
       "        vertical-align: middle;\n",
       "    }\n",
       "\n",
       "    .dataframe tbody tr th {\n",
       "        vertical-align: top;\n",
       "    }\n",
       "\n",
       "    .dataframe thead tr th {\n",
       "        text-align: left;\n",
       "    }\n",
       "</style>\n",
       "<table border=\"1\" class=\"dataframe\">\n",
       "  <thead>\n",
       "    <tr>\n",
       "      <th>model</th>\n",
       "      <th>Median</th>\n",
       "      <th>PI</th>\n",
       "    </tr>\n",
       "    <tr>\n",
       "      <th>var</th>\n",
       "      <th>rejected</th>\n",
       "      <th>rejected</th>\n",
       "    </tr>\n",
       "  </thead>\n",
       "  <tbody>\n",
       "    <tr>\n",
       "      <th>count</th>\n",
       "      <td>1421</td>\n",
       "      <td>1421</td>\n",
       "    </tr>\n",
       "    <tr>\n",
       "      <th>unique</th>\n",
       "      <td>2</td>\n",
       "      <td>2</td>\n",
       "    </tr>\n",
       "    <tr>\n",
       "      <th>top</th>\n",
       "      <td>False</td>\n",
       "      <td>False</td>\n",
       "    </tr>\n",
       "    <tr>\n",
       "      <th>freq</th>\n",
       "      <td>1069</td>\n",
       "      <td>1025</td>\n",
       "    </tr>\n",
       "  </tbody>\n",
       "</table>\n",
       "</div>"
      ],
      "text/plain": [
       "model    Median       PI\n",
       "var    rejected rejected\n",
       "count      1421     1421\n",
       "unique        2        2\n",
       "top       False    False\n",
       "freq       1069     1025"
      ]
     },
     "execution_count": 13,
     "metadata": {},
     "output_type": "execute_result"
    }
   ],
   "source": [
    "scores.describe(include=['bool', 'O'])"
   ]
  },
  {
   "cell_type": "markdown",
   "id": "bef83742-05e5-473b-892e-dd286cb3a31f",
   "metadata": {
    "papermill": {
     "duration": 0.034576,
     "end_time": "2024-09-25T04:35:13.049272",
     "exception": false,
     "start_time": "2024-09-25T04:35:13.014696",
     "status": "completed"
    },
    "tags": []
   },
   "source": [
    "## Load frequencies of observed features"
   ]
  },
  {
   "cell_type": "code",
   "execution_count": 14,
   "id": "2a926ba1-0f3b-4089-a349-b6d66128cf37",
   "metadata": {
    "execution": {
     "iopub.execute_input": "2024-09-25T04:35:13.115098Z",
     "iopub.status.busy": "2024-09-25T04:35:13.114526Z",
     "iopub.status.idle": "2024-09-25T04:35:13.140786Z",
     "shell.execute_reply": "2024-09-25T04:35:13.140180Z"
    },
    "papermill": {
     "duration": 0.061674,
     "end_time": "2024-09-25T04:35:13.143542",
     "exception": false,
     "start_time": "2024-09-25T04:35:13.081868",
     "status": "completed"
    },
    "tags": [
     "hide-input"
    ]
   },
   "outputs": [
    {
     "data": {
      "text/html": [
       "<div>\n",
       "<style scoped>\n",
       "    .dataframe tbody tr th:only-of-type {\n",
       "        vertical-align: middle;\n",
       "    }\n",
       "\n",
       "    .dataframe tbody tr th {\n",
       "        vertical-align: top;\n",
       "    }\n",
       "\n",
       "    .dataframe thead tr th {\n",
       "        text-align: left;\n",
       "    }\n",
       "\n",
       "    .dataframe thead tr:last-of-type th {\n",
       "        text-align: right;\n",
       "    }\n",
       "</style>\n",
       "<table border=\"1\" class=\"dataframe\">\n",
       "  <thead>\n",
       "    <tr>\n",
       "      <th></th>\n",
       "      <th>data</th>\n",
       "    </tr>\n",
       "    <tr>\n",
       "      <th></th>\n",
       "      <th>frequency</th>\n",
       "    </tr>\n",
       "    <tr>\n",
       "      <th>protein groups</th>\n",
       "      <th></th>\n",
       "    </tr>\n",
       "  </thead>\n",
       "  <tbody>\n",
       "    <tr>\n",
       "      <th>A0A024QZX5;A0A087X1N8;P35237</th>\n",
       "      <td>186</td>\n",
       "    </tr>\n",
       "    <tr>\n",
       "      <th>A0A024R0T9;K7ER74;P02655</th>\n",
       "      <td>195</td>\n",
       "    </tr>\n",
       "    <tr>\n",
       "      <th>A0A024R3W6;A0A024R412;O60462;O60462-2;O60462-3;O60462-4;O60462-5;Q7LBX6;X5D2Q8</th>\n",
       "      <td>174</td>\n",
       "    </tr>\n",
       "    <tr>\n",
       "      <th>A0A024R644;A0A0A0MRU5;A0A1B0GWI2;O75503</th>\n",
       "      <td>196</td>\n",
       "    </tr>\n",
       "    <tr>\n",
       "      <th>A0A075B6H7</th>\n",
       "      <td>91</td>\n",
       "    </tr>\n",
       "    <tr>\n",
       "      <th>...</th>\n",
       "      <td>...</td>\n",
       "    </tr>\n",
       "    <tr>\n",
       "      <th>Q9Y6R7</th>\n",
       "      <td>197</td>\n",
       "    </tr>\n",
       "    <tr>\n",
       "      <th>Q9Y6X5</th>\n",
       "      <td>173</td>\n",
       "    </tr>\n",
       "    <tr>\n",
       "      <th>Q9Y6Y8;Q9Y6Y8-2</th>\n",
       "      <td>197</td>\n",
       "    </tr>\n",
       "    <tr>\n",
       "      <th>Q9Y6Y9</th>\n",
       "      <td>119</td>\n",
       "    </tr>\n",
       "    <tr>\n",
       "      <th>S4R3U6</th>\n",
       "      <td>126</td>\n",
       "    </tr>\n",
       "  </tbody>\n",
       "</table>\n",
       "<p>1421 rows × 1 columns</p>\n",
       "</div>"
      ],
      "text/plain": [
       "                                                        data\n",
       "                                                   frequency\n",
       "protein groups                                              \n",
       "A0A024QZX5;A0A087X1N8;P35237                             186\n",
       "A0A024R0T9;K7ER74;P02655                                 195\n",
       "A0A024R3W6;A0A024R412;O60462;O60462-2;O60462-3;...       174\n",
       "A0A024R644;A0A0A0MRU5;A0A1B0GWI2;O75503                  196\n",
       "A0A075B6H7                                                91\n",
       "...                                                      ...\n",
       "Q9Y6R7                                                   197\n",
       "Q9Y6X5                                                   173\n",
       "Q9Y6Y8;Q9Y6Y8-2                                          197\n",
       "Q9Y6Y9                                                   119\n",
       "S4R3U6                                                   126\n",
       "\n",
       "[1421 rows x 1 columns]"
      ]
     },
     "execution_count": 14,
     "metadata": {},
     "output_type": "execute_result"
    }
   ],
   "source": [
    "freq_feat = pd.read_csv(args.freq_features_observed, index_col=0)\n",
    "freq_feat.columns = pd.MultiIndex.from_tuples([('data', 'frequency'),])\n",
    "freq_feat"
   ]
  },
  {
   "cell_type": "markdown",
   "id": "408eacfe-770f-42ff-9057-2a98274e1ae3",
   "metadata": {
    "papermill": {
     "duration": 0.038061,
     "end_time": "2024-09-25T04:35:13.214754",
     "exception": false,
     "start_time": "2024-09-25T04:35:13.176693",
     "status": "completed"
    },
    "tags": []
   },
   "source": [
    "## Compare shared features"
   ]
  },
  {
   "cell_type": "code",
   "execution_count": 15,
   "id": "5b2dfb0f-195b-4044-a228-2d784ea2a458",
   "metadata": {
    "execution": {
     "iopub.execute_input": "2024-09-25T04:35:13.283579Z",
     "iopub.status.busy": "2024-09-25T04:35:13.283241Z",
     "iopub.status.idle": "2024-09-25T04:35:13.328108Z",
     "shell.execute_reply": "2024-09-25T04:35:13.325087Z"
    },
    "papermill": {
     "duration": 0.082026,
     "end_time": "2024-09-25T04:35:13.329795",
     "exception": false,
     "start_time": "2024-09-25T04:35:13.247769",
     "status": "completed"
    },
    "tags": [
     "hide-input"
    ]
   },
   "outputs": [
    {
     "data": {
      "text/html": [
       "<div>\n",
       "<style scoped>\n",
       "    .dataframe tbody tr th:only-of-type {\n",
       "        vertical-align: middle;\n",
       "    }\n",
       "\n",
       "    .dataframe tbody tr th {\n",
       "        vertical-align: top;\n",
       "    }\n",
       "\n",
       "    .dataframe thead tr th {\n",
       "        text-align: left;\n",
       "    }\n",
       "\n",
       "    .dataframe thead tr:last-of-type th {\n",
       "        text-align: right;\n",
       "    }\n",
       "</style>\n",
       "<table border=\"1\" class=\"dataframe\">\n",
       "  <thead>\n",
       "    <tr>\n",
       "      <th></th>\n",
       "      <th colspan=\"4\" halign=\"left\">Median</th>\n",
       "      <th colspan=\"4\" halign=\"left\">PI</th>\n",
       "      <th>data</th>\n",
       "    </tr>\n",
       "    <tr>\n",
       "      <th></th>\n",
       "      <th>p-unc</th>\n",
       "      <th>-Log10 pvalue</th>\n",
       "      <th>qvalue</th>\n",
       "      <th>rejected</th>\n",
       "      <th>p-unc</th>\n",
       "      <th>-Log10 pvalue</th>\n",
       "      <th>qvalue</th>\n",
       "      <th>rejected</th>\n",
       "      <th>frequency</th>\n",
       "    </tr>\n",
       "    <tr>\n",
       "      <th>protein groups</th>\n",
       "      <th></th>\n",
       "      <th></th>\n",
       "      <th></th>\n",
       "      <th></th>\n",
       "      <th></th>\n",
       "      <th></th>\n",
       "      <th></th>\n",
       "      <th></th>\n",
       "      <th></th>\n",
       "    </tr>\n",
       "  </thead>\n",
       "  <tbody>\n",
       "    <tr>\n",
       "      <th>A0A024QZX5;A0A087X1N8;P35237</th>\n",
       "      <td>0.012</td>\n",
       "      <td>1.907</td>\n",
       "      <td>0.039</td>\n",
       "      <td>True</td>\n",
       "      <td>0.394</td>\n",
       "      <td>0.405</td>\n",
       "      <td>0.559</td>\n",
       "      <td>False</td>\n",
       "      <td>186</td>\n",
       "    </tr>\n",
       "    <tr>\n",
       "      <th>A0A024R0T9;K7ER74;P02655</th>\n",
       "      <td>0.033</td>\n",
       "      <td>1.478</td>\n",
       "      <td>0.087</td>\n",
       "      <td>False</td>\n",
       "      <td>0.050</td>\n",
       "      <td>1.305</td>\n",
       "      <td>0.121</td>\n",
       "      <td>False</td>\n",
       "      <td>195</td>\n",
       "    </tr>\n",
       "    <tr>\n",
       "      <th>A0A024R3W6;A0A024R412;O60462;O60462-2;O60462-3;O60462-4;O60462-5;Q7LBX6;X5D2Q8</th>\n",
       "      <td>0.736</td>\n",
       "      <td>0.133</td>\n",
       "      <td>0.832</td>\n",
       "      <td>False</td>\n",
       "      <td>0.103</td>\n",
       "      <td>0.988</td>\n",
       "      <td>0.216</td>\n",
       "      <td>False</td>\n",
       "      <td>174</td>\n",
       "    </tr>\n",
       "    <tr>\n",
       "      <th>A0A024R644;A0A0A0MRU5;A0A1B0GWI2;O75503</th>\n",
       "      <td>0.259</td>\n",
       "      <td>0.587</td>\n",
       "      <td>0.418</td>\n",
       "      <td>False</td>\n",
       "      <td>0.627</td>\n",
       "      <td>0.203</td>\n",
       "      <td>0.754</td>\n",
       "      <td>False</td>\n",
       "      <td>196</td>\n",
       "    </tr>\n",
       "    <tr>\n",
       "      <th>A0A075B6H7</th>\n",
       "      <td>0.053</td>\n",
       "      <td>1.278</td>\n",
       "      <td>0.124</td>\n",
       "      <td>False</td>\n",
       "      <td>0.137</td>\n",
       "      <td>0.863</td>\n",
       "      <td>0.265</td>\n",
       "      <td>False</td>\n",
       "      <td>91</td>\n",
       "    </tr>\n",
       "    <tr>\n",
       "      <th>...</th>\n",
       "      <td>...</td>\n",
       "      <td>...</td>\n",
       "      <td>...</td>\n",
       "      <td>...</td>\n",
       "      <td>...</td>\n",
       "      <td>...</td>\n",
       "      <td>...</td>\n",
       "      <td>...</td>\n",
       "      <td>...</td>\n",
       "    </tr>\n",
       "    <tr>\n",
       "      <th>Q9Y6R7</th>\n",
       "      <td>0.175</td>\n",
       "      <td>0.756</td>\n",
       "      <td>0.315</td>\n",
       "      <td>False</td>\n",
       "      <td>0.175</td>\n",
       "      <td>0.756</td>\n",
       "      <td>0.317</td>\n",
       "      <td>False</td>\n",
       "      <td>197</td>\n",
       "    </tr>\n",
       "    <tr>\n",
       "      <th>Q9Y6X5</th>\n",
       "      <td>0.291</td>\n",
       "      <td>0.536</td>\n",
       "      <td>0.455</td>\n",
       "      <td>False</td>\n",
       "      <td>0.073</td>\n",
       "      <td>1.134</td>\n",
       "      <td>0.165</td>\n",
       "      <td>False</td>\n",
       "      <td>173</td>\n",
       "    </tr>\n",
       "    <tr>\n",
       "      <th>Q9Y6Y8;Q9Y6Y8-2</th>\n",
       "      <td>0.083</td>\n",
       "      <td>1.079</td>\n",
       "      <td>0.178</td>\n",
       "      <td>False</td>\n",
       "      <td>0.083</td>\n",
       "      <td>1.079</td>\n",
       "      <td>0.182</td>\n",
       "      <td>False</td>\n",
       "      <td>197</td>\n",
       "    </tr>\n",
       "    <tr>\n",
       "      <th>Q9Y6Y9</th>\n",
       "      <td>0.520</td>\n",
       "      <td>0.284</td>\n",
       "      <td>0.667</td>\n",
       "      <td>False</td>\n",
       "      <td>0.827</td>\n",
       "      <td>0.083</td>\n",
       "      <td>0.897</td>\n",
       "      <td>False</td>\n",
       "      <td>119</td>\n",
       "    </tr>\n",
       "    <tr>\n",
       "      <th>S4R3U6</th>\n",
       "      <td>0.730</td>\n",
       "      <td>0.136</td>\n",
       "      <td>0.829</td>\n",
       "      <td>False</td>\n",
       "      <td>0.511</td>\n",
       "      <td>0.292</td>\n",
       "      <td>0.663</td>\n",
       "      <td>False</td>\n",
       "      <td>126</td>\n",
       "    </tr>\n",
       "  </tbody>\n",
       "</table>\n",
       "<p>1421 rows × 9 columns</p>\n",
       "</div>"
      ],
      "text/plain": [
       "                                                   Median                \\\n",
       "                                                    p-unc -Log10 pvalue   \n",
       "protein groups                                                            \n",
       "A0A024QZX5;A0A087X1N8;P35237                        0.012         1.907   \n",
       "A0A024R0T9;K7ER74;P02655                            0.033         1.478   \n",
       "A0A024R3W6;A0A024R412;O60462;O60462-2;O60462-3;...  0.736         0.133   \n",
       "A0A024R644;A0A0A0MRU5;A0A1B0GWI2;O75503             0.259         0.587   \n",
       "A0A075B6H7                                          0.053         1.278   \n",
       "...                                                   ...           ...   \n",
       "Q9Y6R7                                              0.175         0.756   \n",
       "Q9Y6X5                                              0.291         0.536   \n",
       "Q9Y6Y8;Q9Y6Y8-2                                     0.083         1.079   \n",
       "Q9Y6Y9                                              0.520         0.284   \n",
       "S4R3U6                                              0.730         0.136   \n",
       "\n",
       "                                                                      PI  \\\n",
       "                                                   qvalue rejected p-unc   \n",
       "protein groups                                                             \n",
       "A0A024QZX5;A0A087X1N8;P35237                        0.039     True 0.394   \n",
       "A0A024R0T9;K7ER74;P02655                            0.087    False 0.050   \n",
       "A0A024R3W6;A0A024R412;O60462;O60462-2;O60462-3;...  0.832    False 0.103   \n",
       "A0A024R644;A0A0A0MRU5;A0A1B0GWI2;O75503             0.418    False 0.627   \n",
       "A0A075B6H7                                          0.124    False 0.137   \n",
       "...                                                   ...      ...   ...   \n",
       "Q9Y6R7                                              0.315    False 0.175   \n",
       "Q9Y6X5                                              0.455    False 0.073   \n",
       "Q9Y6Y8;Q9Y6Y8-2                                     0.178    False 0.083   \n",
       "Q9Y6Y9                                              0.667    False 0.827   \n",
       "S4R3U6                                              0.829    False 0.511   \n",
       "\n",
       "                                                                         \\\n",
       "                                                   -Log10 pvalue qvalue   \n",
       "protein groups                                                            \n",
       "A0A024QZX5;A0A087X1N8;P35237                               0.405  0.559   \n",
       "A0A024R0T9;K7ER74;P02655                                   1.305  0.121   \n",
       "A0A024R3W6;A0A024R412;O60462;O60462-2;O60462-3;...         0.988  0.216   \n",
       "A0A024R644;A0A0A0MRU5;A0A1B0GWI2;O75503                    0.203  0.754   \n",
       "A0A075B6H7                                                 0.863  0.265   \n",
       "...                                                          ...    ...   \n",
       "Q9Y6R7                                                     0.756  0.317   \n",
       "Q9Y6X5                                                     1.134  0.165   \n",
       "Q9Y6Y8;Q9Y6Y8-2                                            1.079  0.182   \n",
       "Q9Y6Y9                                                     0.083  0.897   \n",
       "S4R3U6                                                     0.292  0.663   \n",
       "\n",
       "                                                                 data  \n",
       "                                                   rejected frequency  \n",
       "protein groups                                                         \n",
       "A0A024QZX5;A0A087X1N8;P35237                          False       186  \n",
       "A0A024R0T9;K7ER74;P02655                              False       195  \n",
       "A0A024R3W6;A0A024R412;O60462;O60462-2;O60462-3;...    False       174  \n",
       "A0A024R644;A0A0A0MRU5;A0A1B0GWI2;O75503               False       196  \n",
       "A0A075B6H7                                            False        91  \n",
       "...                                                     ...       ...  \n",
       "Q9Y6R7                                                False       197  \n",
       "Q9Y6X5                                                False       173  \n",
       "Q9Y6Y8;Q9Y6Y8-2                                       False       197  \n",
       "Q9Y6Y9                                                False       119  \n",
       "S4R3U6                                                False       126  \n",
       "\n",
       "[1421 rows x 9 columns]"
      ]
     },
     "execution_count": 15,
     "metadata": {},
     "output_type": "execute_result"
    }
   ],
   "source": [
    "scores_common = (scores\n",
    "                 .dropna()\n",
    "                 .reset_index(-1, drop=True)\n",
    "                 ).join(\n",
    "    freq_feat, how='left'\n",
    ")\n",
    "scores_common"
   ]
  },
  {
   "cell_type": "markdown",
   "id": "62a9eefd",
   "metadata": {
    "papermill": {
     "duration": 0.056704,
     "end_time": "2024-09-25T04:35:13.415959",
     "exception": false,
     "start_time": "2024-09-25T04:35:13.359255",
     "status": "completed"
    },
    "tags": []
   },
   "source": [
    "### Annotate decisions in Confusion Table style:"
   ]
  },
  {
   "cell_type": "code",
   "execution_count": 16,
   "id": "80cf4145-070d-457a-bb74-ee64299809e7",
   "metadata": {
    "execution": {
     "iopub.execute_input": "2024-09-25T04:35:13.451789Z",
     "iopub.status.busy": "2024-09-25T04:35:13.451252Z",
     "iopub.status.idle": "2024-09-25T04:35:13.462324Z",
     "shell.execute_reply": "2024-09-25T04:35:13.461702Z"
    },
    "papermill": {
     "duration": 0.03267,
     "end_time": "2024-09-25T04:35:13.463718",
     "exception": false,
     "start_time": "2024-09-25T04:35:13.431048",
     "status": "completed"
    },
    "tags": [
     "hide-input"
    ]
   },
   "outputs": [
    {
     "data": {
      "text/plain": [
       "Differential Analysis Comparison\n",
       "Median (no)  - PI (no)    962\n",
       "Median (yes) - PI (yes)   289\n",
       "Median (no)  - PI (yes)   107\n",
       "Median (yes) - PI (no)     63\n",
       "Name: count, dtype: int64"
      ]
     },
     "execution_count": 16,
     "metadata": {},
     "output_type": "execute_result"
    }
   ],
   "source": [
    "def annotate_decision(scores, model, model_column):\n",
    "    return scores[(model_column, 'rejected')].replace({False: f'{model} (no) ', True: f'{model} (yes)'})\n",
    "\n",
    "\n",
    "annotations = None\n",
    "for model, model_column in models.items():\n",
    "    if annotations is not None:\n",
    "        annotations += ' - '\n",
    "        annotations += annotate_decision(scores_common,\n",
    "                                         model=model, model_column=model_column)\n",
    "    else:\n",
    "        annotations = annotate_decision(\n",
    "            scores_common, model=model, model_column=model_column)\n",
    "annotations.name = 'Differential Analysis Comparison'\n",
    "annotations.value_counts()"
   ]
  },
  {
   "cell_type": "markdown",
   "id": "0942d395",
   "metadata": {
    "papermill": {
     "duration": 0.016919,
     "end_time": "2024-09-25T04:35:13.498163",
     "exception": false,
     "start_time": "2024-09-25T04:35:13.481244",
     "status": "completed"
    },
    "tags": []
   },
   "source": [
    "### List different decisions between models"
   ]
  },
  {
   "cell_type": "code",
   "execution_count": 17,
   "id": "cda5ffa4-9a97-4a49-aaba-34e83ef7940a",
   "metadata": {
    "execution": {
     "iopub.execute_input": "2024-09-25T04:35:13.535923Z",
     "iopub.status.busy": "2024-09-25T04:35:13.532301Z",
     "iopub.status.idle": "2024-09-25T04:35:13.650585Z",
     "shell.execute_reply": "2024-09-25T04:35:13.650034Z"
    },
    "papermill": {
     "duration": 0.142201,
     "end_time": "2024-09-25T04:35:13.651993",
     "exception": false,
     "start_time": "2024-09-25T04:35:13.509792",
     "status": "completed"
    },
    "tags": [
     "hide-input"
    ]
   },
   "outputs": [
    {
     "name": "stderr",
     "output_type": "stream",
     "text": [
      "/tmp/ipykernel_47131/1417621106.py:6: FutureWarning: Starting with pandas version 3.0 all arguments of to_excel except for the argument 'excel_writer' will be keyword-only.\n",
      "  _to_write.to_excel(writer, 'differences', **writer_args)\n",
      "root - INFO     Writen to Excel file under sheet 'differences'.\n"
     ]
    },
    {
     "data": {
      "text/html": [
       "<div>\n",
       "<style scoped>\n",
       "    .dataframe tbody tr th:only-of-type {\n",
       "        vertical-align: middle;\n",
       "    }\n",
       "\n",
       "    .dataframe tbody tr th {\n",
       "        vertical-align: top;\n",
       "    }\n",
       "\n",
       "    .dataframe thead tr th {\n",
       "        text-align: left;\n",
       "    }\n",
       "\n",
       "    .dataframe thead tr:last-of-type th {\n",
       "        text-align: right;\n",
       "    }\n",
       "</style>\n",
       "<table border=\"1\" class=\"dataframe\">\n",
       "  <thead>\n",
       "    <tr>\n",
       "      <th></th>\n",
       "      <th colspan=\"4\" halign=\"left\">Median</th>\n",
       "      <th colspan=\"4\" halign=\"left\">PI</th>\n",
       "      <th>data</th>\n",
       "    </tr>\n",
       "    <tr>\n",
       "      <th></th>\n",
       "      <th>p-unc</th>\n",
       "      <th>-Log10 pvalue</th>\n",
       "      <th>qvalue</th>\n",
       "      <th>rejected</th>\n",
       "      <th>p-unc</th>\n",
       "      <th>-Log10 pvalue</th>\n",
       "      <th>qvalue</th>\n",
       "      <th>rejected</th>\n",
       "      <th>frequency</th>\n",
       "    </tr>\n",
       "    <tr>\n",
       "      <th>protein groups</th>\n",
       "      <th></th>\n",
       "      <th></th>\n",
       "      <th></th>\n",
       "      <th></th>\n",
       "      <th></th>\n",
       "      <th></th>\n",
       "      <th></th>\n",
       "      <th></th>\n",
       "      <th></th>\n",
       "    </tr>\n",
       "  </thead>\n",
       "  <tbody>\n",
       "    <tr>\n",
       "      <th>A0A024QZX5;A0A087X1N8;P35237</th>\n",
       "      <td>0.012</td>\n",
       "      <td>1.907</td>\n",
       "      <td>0.039</td>\n",
       "      <td>True</td>\n",
       "      <td>0.394</td>\n",
       "      <td>0.405</td>\n",
       "      <td>0.559</td>\n",
       "      <td>False</td>\n",
       "      <td>186</td>\n",
       "    </tr>\n",
       "    <tr>\n",
       "      <th>A0A075B6I0</th>\n",
       "      <td>0.001</td>\n",
       "      <td>3.031</td>\n",
       "      <td>0.004</td>\n",
       "      <td>True</td>\n",
       "      <td>0.021</td>\n",
       "      <td>1.669</td>\n",
       "      <td>0.063</td>\n",
       "      <td>False</td>\n",
       "      <td>194</td>\n",
       "    </tr>\n",
       "    <tr>\n",
       "      <th>A0A075B6R2</th>\n",
       "      <td>0.005</td>\n",
       "      <td>2.343</td>\n",
       "      <td>0.017</td>\n",
       "      <td>True</td>\n",
       "      <td>0.332</td>\n",
       "      <td>0.479</td>\n",
       "      <td>0.498</td>\n",
       "      <td>False</td>\n",
       "      <td>164</td>\n",
       "    </tr>\n",
       "    <tr>\n",
       "      <th>A0A075B7B8</th>\n",
       "      <td>0.001</td>\n",
       "      <td>3.270</td>\n",
       "      <td>0.003</td>\n",
       "      <td>True</td>\n",
       "      <td>0.496</td>\n",
       "      <td>0.305</td>\n",
       "      <td>0.650</td>\n",
       "      <td>False</td>\n",
       "      <td>57</td>\n",
       "    </tr>\n",
       "    <tr>\n",
       "      <th>A0A087WTT8;A0A0A0MQX5;O94779;O94779-2</th>\n",
       "      <td>0.017</td>\n",
       "      <td>1.765</td>\n",
       "      <td>0.051</td>\n",
       "      <td>False</td>\n",
       "      <td>0.015</td>\n",
       "      <td>1.819</td>\n",
       "      <td>0.047</td>\n",
       "      <td>True</td>\n",
       "      <td>114</td>\n",
       "    </tr>\n",
       "    <tr>\n",
       "      <th>...</th>\n",
       "      <td>...</td>\n",
       "      <td>...</td>\n",
       "      <td>...</td>\n",
       "      <td>...</td>\n",
       "      <td>...</td>\n",
       "      <td>...</td>\n",
       "      <td>...</td>\n",
       "      <td>...</td>\n",
       "      <td>...</td>\n",
       "    </tr>\n",
       "    <tr>\n",
       "      <th>Q9ULZ9</th>\n",
       "      <td>0.432</td>\n",
       "      <td>0.364</td>\n",
       "      <td>0.591</td>\n",
       "      <td>False</td>\n",
       "      <td>0.001</td>\n",
       "      <td>2.875</td>\n",
       "      <td>0.006</td>\n",
       "      <td>True</td>\n",
       "      <td>171</td>\n",
       "    </tr>\n",
       "    <tr>\n",
       "      <th>Q9UNW1</th>\n",
       "      <td>0.932</td>\n",
       "      <td>0.030</td>\n",
       "      <td>0.962</td>\n",
       "      <td>False</td>\n",
       "      <td>0.012</td>\n",
       "      <td>1.919</td>\n",
       "      <td>0.039</td>\n",
       "      <td>True</td>\n",
       "      <td>171</td>\n",
       "    </tr>\n",
       "    <tr>\n",
       "      <th>Q9UP79</th>\n",
       "      <td>0.002</td>\n",
       "      <td>2.739</td>\n",
       "      <td>0.008</td>\n",
       "      <td>True</td>\n",
       "      <td>0.525</td>\n",
       "      <td>0.280</td>\n",
       "      <td>0.676</td>\n",
       "      <td>False</td>\n",
       "      <td>135</td>\n",
       "    </tr>\n",
       "    <tr>\n",
       "      <th>Q9UPU3</th>\n",
       "      <td>0.171</td>\n",
       "      <td>0.767</td>\n",
       "      <td>0.309</td>\n",
       "      <td>False</td>\n",
       "      <td>0.006</td>\n",
       "      <td>2.254</td>\n",
       "      <td>0.021</td>\n",
       "      <td>True</td>\n",
       "      <td>163</td>\n",
       "    </tr>\n",
       "    <tr>\n",
       "      <th>Q9UQ52</th>\n",
       "      <td>0.001</td>\n",
       "      <td>2.922</td>\n",
       "      <td>0.005</td>\n",
       "      <td>True</td>\n",
       "      <td>0.118</td>\n",
       "      <td>0.929</td>\n",
       "      <td>0.238</td>\n",
       "      <td>False</td>\n",
       "      <td>188</td>\n",
       "    </tr>\n",
       "  </tbody>\n",
       "</table>\n",
       "<p>170 rows × 9 columns</p>\n",
       "</div>"
      ],
      "text/plain": [
       "                                      Median                                \\\n",
       "                                       p-unc -Log10 pvalue qvalue rejected   \n",
       "protein groups                                                               \n",
       "A0A024QZX5;A0A087X1N8;P35237           0.012         1.907  0.039     True   \n",
       "A0A075B6I0                             0.001         3.031  0.004     True   \n",
       "A0A075B6R2                             0.005         2.343  0.017     True   \n",
       "A0A075B7B8                             0.001         3.270  0.003     True   \n",
       "A0A087WTT8;A0A0A0MQX5;O94779;O94779-2  0.017         1.765  0.051    False   \n",
       "...                                      ...           ...    ...      ...   \n",
       "Q9ULZ9                                 0.432         0.364  0.591    False   \n",
       "Q9UNW1                                 0.932         0.030  0.962    False   \n",
       "Q9UP79                                 0.002         2.739  0.008     True   \n",
       "Q9UPU3                                 0.171         0.767  0.309    False   \n",
       "Q9UQ52                                 0.001         2.922  0.005     True   \n",
       "\n",
       "                                         PI                                \\\n",
       "                                      p-unc -Log10 pvalue qvalue rejected   \n",
       "protein groups                                                              \n",
       "A0A024QZX5;A0A087X1N8;P35237          0.394         0.405  0.559    False   \n",
       "A0A075B6I0                            0.021         1.669  0.063    False   \n",
       "A0A075B6R2                            0.332         0.479  0.498    False   \n",
       "A0A075B7B8                            0.496         0.305  0.650    False   \n",
       "A0A087WTT8;A0A0A0MQX5;O94779;O94779-2 0.015         1.819  0.047     True   \n",
       "...                                     ...           ...    ...      ...   \n",
       "Q9ULZ9                                0.001         2.875  0.006     True   \n",
       "Q9UNW1                                0.012         1.919  0.039     True   \n",
       "Q9UP79                                0.525         0.280  0.676    False   \n",
       "Q9UPU3                                0.006         2.254  0.021     True   \n",
       "Q9UQ52                                0.118         0.929  0.238    False   \n",
       "\n",
       "                                           data  \n",
       "                                      frequency  \n",
       "protein groups                                   \n",
       "A0A024QZX5;A0A087X1N8;P35237                186  \n",
       "A0A075B6I0                                  194  \n",
       "A0A075B6R2                                  164  \n",
       "A0A075B7B8                                   57  \n",
       "A0A087WTT8;A0A0A0MQX5;O94779;O94779-2       114  \n",
       "...                                         ...  \n",
       "Q9ULZ9                                      171  \n",
       "Q9UNW1                                      171  \n",
       "Q9UP79                                      135  \n",
       "Q9UPU3                                      163  \n",
       "Q9UQ52                                      188  \n",
       "\n",
       "[170 rows x 9 columns]"
      ]
     },
     "execution_count": 17,
     "metadata": {},
     "output_type": "execute_result"
    }
   ],
   "source": [
    "mask_different = (\n",
    "    (scores_common.loc[:, pd.IndexSlice[:, 'rejected']].any(axis=1))\n",
    "    & ~(scores_common.loc[:, pd.IndexSlice[:, 'rejected']].all(axis=1))\n",
    ")\n",
    "_to_write = scores_common.loc[mask_different]\n",
    "_to_write.to_excel(writer, 'differences', **writer_args)\n",
    "logger.info(\"Writen to Excel file under sheet 'differences'.\")\n",
    "_to_write"
   ]
  },
  {
   "cell_type": "markdown",
   "id": "e8832084",
   "metadata": {
    "papermill": {
     "duration": 0.015471,
     "end_time": "2024-09-25T04:35:13.684242",
     "exception": false,
     "start_time": "2024-09-25T04:35:13.668771",
     "status": "completed"
    },
    "tags": []
   },
   "source": [
    "## Plot qvalues of both models with annotated decisions\n",
    "\n",
    "Prepare data for plotting (qvalues)"
   ]
  },
  {
   "cell_type": "code",
   "execution_count": 18,
   "id": "5b2e5341-b054-40c3-b45a-44ae6ca46cfb",
   "metadata": {
    "execution": {
     "iopub.execute_input": "2024-09-25T04:35:13.716127Z",
     "iopub.status.busy": "2024-09-25T04:35:13.715830Z",
     "iopub.status.idle": "2024-09-25T04:35:13.729683Z",
     "shell.execute_reply": "2024-09-25T04:35:13.729132Z"
    },
    "papermill": {
     "duration": 0.031926,
     "end_time": "2024-09-25T04:35:13.731080",
     "exception": false,
     "start_time": "2024-09-25T04:35:13.699154",
     "status": "completed"
    },
    "tags": [
     "hide-input"
    ]
   },
   "outputs": [
    {
     "data": {
      "text/html": [
       "<div>\n",
       "<style scoped>\n",
       "    .dataframe tbody tr th:only-of-type {\n",
       "        vertical-align: middle;\n",
       "    }\n",
       "\n",
       "    .dataframe tbody tr th {\n",
       "        vertical-align: top;\n",
       "    }\n",
       "\n",
       "    .dataframe thead th {\n",
       "        text-align: right;\n",
       "    }\n",
       "</style>\n",
       "<table border=\"1\" class=\"dataframe\">\n",
       "  <thead>\n",
       "    <tr style=\"text-align: right;\">\n",
       "      <th></th>\n",
       "      <th>Median</th>\n",
       "      <th>PI</th>\n",
       "      <th>frequency</th>\n",
       "      <th>Differential Analysis Comparison</th>\n",
       "    </tr>\n",
       "    <tr>\n",
       "      <th>protein groups</th>\n",
       "      <th></th>\n",
       "      <th></th>\n",
       "      <th></th>\n",
       "      <th></th>\n",
       "    </tr>\n",
       "  </thead>\n",
       "  <tbody>\n",
       "    <tr>\n",
       "      <th>A0A024QZX5;A0A087X1N8;P35237</th>\n",
       "      <td>0.039</td>\n",
       "      <td>0.559</td>\n",
       "      <td>186</td>\n",
       "      <td>Median (yes) - PI (no)</td>\n",
       "    </tr>\n",
       "    <tr>\n",
       "      <th>A0A024R0T9;K7ER74;P02655</th>\n",
       "      <td>0.087</td>\n",
       "      <td>0.121</td>\n",
       "      <td>195</td>\n",
       "      <td>Median (no)  - PI (no)</td>\n",
       "    </tr>\n",
       "    <tr>\n",
       "      <th>A0A024R3W6;A0A024R412;O60462;O60462-2;O60462-3;O60462-4;O60462-5;Q7LBX6;X5D2Q8</th>\n",
       "      <td>0.832</td>\n",
       "      <td>0.216</td>\n",
       "      <td>174</td>\n",
       "      <td>Median (no)  - PI (no)</td>\n",
       "    </tr>\n",
       "    <tr>\n",
       "      <th>A0A024R644;A0A0A0MRU5;A0A1B0GWI2;O75503</th>\n",
       "      <td>0.418</td>\n",
       "      <td>0.754</td>\n",
       "      <td>196</td>\n",
       "      <td>Median (no)  - PI (no)</td>\n",
       "    </tr>\n",
       "    <tr>\n",
       "      <th>A0A075B6H7</th>\n",
       "      <td>0.124</td>\n",
       "      <td>0.265</td>\n",
       "      <td>91</td>\n",
       "      <td>Median (no)  - PI (no)</td>\n",
       "    </tr>\n",
       "    <tr>\n",
       "      <th>...</th>\n",
       "      <td>...</td>\n",
       "      <td>...</td>\n",
       "      <td>...</td>\n",
       "      <td>...</td>\n",
       "    </tr>\n",
       "    <tr>\n",
       "      <th>Q9Y6R7</th>\n",
       "      <td>0.315</td>\n",
       "      <td>0.317</td>\n",
       "      <td>197</td>\n",
       "      <td>Median (no)  - PI (no)</td>\n",
       "    </tr>\n",
       "    <tr>\n",
       "      <th>Q9Y6X5</th>\n",
       "      <td>0.455</td>\n",
       "      <td>0.165</td>\n",
       "      <td>173</td>\n",
       "      <td>Median (no)  - PI (no)</td>\n",
       "    </tr>\n",
       "    <tr>\n",
       "      <th>Q9Y6Y8;Q9Y6Y8-2</th>\n",
       "      <td>0.178</td>\n",
       "      <td>0.182</td>\n",
       "      <td>197</td>\n",
       "      <td>Median (no)  - PI (no)</td>\n",
       "    </tr>\n",
       "    <tr>\n",
       "      <th>Q9Y6Y9</th>\n",
       "      <td>0.667</td>\n",
       "      <td>0.897</td>\n",
       "      <td>119</td>\n",
       "      <td>Median (no)  - PI (no)</td>\n",
       "    </tr>\n",
       "    <tr>\n",
       "      <th>S4R3U6</th>\n",
       "      <td>0.829</td>\n",
       "      <td>0.663</td>\n",
       "      <td>126</td>\n",
       "      <td>Median (no)  - PI (no)</td>\n",
       "    </tr>\n",
       "  </tbody>\n",
       "</table>\n",
       "<p>1421 rows × 4 columns</p>\n",
       "</div>"
      ],
      "text/plain": [
       "                                                    Median    PI  frequency  \\\n",
       "protein groups                                                                \n",
       "A0A024QZX5;A0A087X1N8;P35237                         0.039 0.559        186   \n",
       "A0A024R0T9;K7ER74;P02655                             0.087 0.121        195   \n",
       "A0A024R3W6;A0A024R412;O60462;O60462-2;O60462-3;...   0.832 0.216        174   \n",
       "A0A024R644;A0A0A0MRU5;A0A1B0GWI2;O75503              0.418 0.754        196   \n",
       "A0A075B6H7                                           0.124 0.265         91   \n",
       "...                                                    ...   ...        ...   \n",
       "Q9Y6R7                                               0.315 0.317        197   \n",
       "Q9Y6X5                                               0.455 0.165        173   \n",
       "Q9Y6Y8;Q9Y6Y8-2                                      0.178 0.182        197   \n",
       "Q9Y6Y9                                               0.667 0.897        119   \n",
       "S4R3U6                                               0.829 0.663        126   \n",
       "\n",
       "                                                   Differential Analysis Comparison  \n",
       "protein groups                                                                       \n",
       "A0A024QZX5;A0A087X1N8;P35237                                Median (yes) - PI (no)   \n",
       "A0A024R0T9;K7ER74;P02655                                    Median (no)  - PI (no)   \n",
       "A0A024R3W6;A0A024R412;O60462;O60462-2;O60462-3;...          Median (no)  - PI (no)   \n",
       "A0A024R644;A0A0A0MRU5;A0A1B0GWI2;O75503                     Median (no)  - PI (no)   \n",
       "A0A075B6H7                                                  Median (no)  - PI (no)   \n",
       "...                                                                             ...  \n",
       "Q9Y6R7                                                      Median (no)  - PI (no)   \n",
       "Q9Y6X5                                                      Median (no)  - PI (no)   \n",
       "Q9Y6Y8;Q9Y6Y8-2                                             Median (no)  - PI (no)   \n",
       "Q9Y6Y9                                                      Median (no)  - PI (no)   \n",
       "S4R3U6                                                      Median (no)  - PI (no)   \n",
       "\n",
       "[1421 rows x 4 columns]"
      ]
     },
     "execution_count": 18,
     "metadata": {},
     "output_type": "execute_result"
    }
   ],
   "source": [
    "var = 'qvalue'\n",
    "to_plot = [scores_common[v][var] for v in models.values()]\n",
    "for s, k in zip(to_plot, models.keys()):\n",
    "    s.name = k.replace('_', ' ')\n",
    "to_plot.append(scores_common['data'])\n",
    "to_plot.append(annotations)\n",
    "to_plot = pd.concat(to_plot, axis=1)\n",
    "to_plot"
   ]
  },
  {
   "cell_type": "markdown",
   "id": "c92517a4-8456-4663-b719-4abd997fbb1c",
   "metadata": {
    "papermill": {
     "duration": 0.01667,
     "end_time": "2024-09-25T04:35:13.764265",
     "exception": false,
     "start_time": "2024-09-25T04:35:13.747595",
     "status": "completed"
    },
    "tags": []
   },
   "source": [
    "List of features with the highest difference in qvalues"
   ]
  },
  {
   "cell_type": "code",
   "execution_count": 19,
   "id": "c7af4a70-aa43-4772-af00-d425f5ed249f",
   "metadata": {
    "execution": {
     "iopub.execute_input": "2024-09-25T04:35:13.798654Z",
     "iopub.status.busy": "2024-09-25T04:35:13.797554Z",
     "iopub.status.idle": "2024-09-25T04:35:13.832167Z",
     "shell.execute_reply": "2024-09-25T04:35:13.831509Z"
    },
    "papermill": {
     "duration": 0.056913,
     "end_time": "2024-09-25T04:35:13.837525",
     "exception": false,
     "start_time": "2024-09-25T04:35:13.780612",
     "status": "completed"
    },
    "tags": [
     "hide-input"
    ]
   },
   "outputs": [
    {
     "data": {
      "text/html": [
       "<div>\n",
       "<style scoped>\n",
       "    .dataframe tbody tr th:only-of-type {\n",
       "        vertical-align: middle;\n",
       "    }\n",
       "\n",
       "    .dataframe tbody tr th {\n",
       "        vertical-align: top;\n",
       "    }\n",
       "\n",
       "    .dataframe thead th {\n",
       "        text-align: right;\n",
       "    }\n",
       "</style>\n",
       "<table border=\"1\" class=\"dataframe\">\n",
       "  <thead>\n",
       "    <tr style=\"text-align: right;\">\n",
       "      <th></th>\n",
       "      <th>Median</th>\n",
       "      <th>PI</th>\n",
       "      <th>frequency</th>\n",
       "      <th>Differential Analysis Comparison</th>\n",
       "      <th>diff_qvalue</th>\n",
       "    </tr>\n",
       "    <tr>\n",
       "      <th>protein groups</th>\n",
       "      <th></th>\n",
       "      <th></th>\n",
       "      <th></th>\n",
       "      <th></th>\n",
       "      <th></th>\n",
       "    </tr>\n",
       "  </thead>\n",
       "  <tbody>\n",
       "    <tr>\n",
       "      <th>Q6NUJ2</th>\n",
       "      <td>0.972</td>\n",
       "      <td>0.001</td>\n",
       "      <td>165</td>\n",
       "      <td>Median (no)  - PI (yes)</td>\n",
       "      <td>0.971</td>\n",
       "    </tr>\n",
       "    <tr>\n",
       "      <th>A0A087WU43;A0A087WX17;A0A087WXI5;P12830;P12830-2</th>\n",
       "      <td>0.012</td>\n",
       "      <td>0.966</td>\n",
       "      <td>134</td>\n",
       "      <td>Median (yes) - PI (no)</td>\n",
       "      <td>0.954</td>\n",
       "    </tr>\n",
       "    <tr>\n",
       "      <th>P22748</th>\n",
       "      <td>0.042</td>\n",
       "      <td>0.987</td>\n",
       "      <td>159</td>\n",
       "      <td>Median (yes) - PI (no)</td>\n",
       "      <td>0.945</td>\n",
       "    </tr>\n",
       "    <tr>\n",
       "      <th>P52758</th>\n",
       "      <td>0.937</td>\n",
       "      <td>0.000</td>\n",
       "      <td>119</td>\n",
       "      <td>Median (no)  - PI (yes)</td>\n",
       "      <td>0.937</td>\n",
       "    </tr>\n",
       "    <tr>\n",
       "      <th>Q6P4E1;Q6P4E1-4;Q6P4E1-5</th>\n",
       "      <td>0.978</td>\n",
       "      <td>0.045</td>\n",
       "      <td>178</td>\n",
       "      <td>Median (no)  - PI (yes)</td>\n",
       "      <td>0.933</td>\n",
       "    </tr>\n",
       "    <tr>\n",
       "      <th>...</th>\n",
       "      <td>...</td>\n",
       "      <td>...</td>\n",
       "      <td>...</td>\n",
       "      <td>...</td>\n",
       "      <td>...</td>\n",
       "    </tr>\n",
       "    <tr>\n",
       "      <th>E9PKP3;Q86YD3;Q86YD3-2;Q86YD3-4;Q86YD3-5</th>\n",
       "      <td>0.066</td>\n",
       "      <td>0.040</td>\n",
       "      <td>195</td>\n",
       "      <td>Median (no)  - PI (yes)</td>\n",
       "      <td>0.026</td>\n",
       "    </tr>\n",
       "    <tr>\n",
       "      <th>A0A0A0MTP9;F8VZI9;Q9BWQ8</th>\n",
       "      <td>0.046</td>\n",
       "      <td>0.066</td>\n",
       "      <td>193</td>\n",
       "      <td>Median (yes) - PI (no)</td>\n",
       "      <td>0.020</td>\n",
       "    </tr>\n",
       "    <tr>\n",
       "      <th>P48147</th>\n",
       "      <td>0.062</td>\n",
       "      <td>0.045</td>\n",
       "      <td>79</td>\n",
       "      <td>Median (no)  - PI (yes)</td>\n",
       "      <td>0.016</td>\n",
       "    </tr>\n",
       "    <tr>\n",
       "      <th>Q9P2E7;Q9P2E7-2</th>\n",
       "      <td>0.058</td>\n",
       "      <td>0.045</td>\n",
       "      <td>196</td>\n",
       "      <td>Median (no)  - PI (yes)</td>\n",
       "      <td>0.013</td>\n",
       "    </tr>\n",
       "    <tr>\n",
       "      <th>A0A087WTT8;A0A0A0MQX5;O94779;O94779-2</th>\n",
       "      <td>0.051</td>\n",
       "      <td>0.047</td>\n",
       "      <td>114</td>\n",
       "      <td>Median (no)  - PI (yes)</td>\n",
       "      <td>0.004</td>\n",
       "    </tr>\n",
       "  </tbody>\n",
       "</table>\n",
       "<p>170 rows × 5 columns</p>\n",
       "</div>"
      ],
      "text/plain": [
       "                                                  Median    PI  frequency  \\\n",
       "protein groups                                                              \n",
       "Q6NUJ2                                             0.972 0.001        165   \n",
       "A0A087WU43;A0A087WX17;A0A087WXI5;P12830;P12830-2   0.012 0.966        134   \n",
       "P22748                                             0.042 0.987        159   \n",
       "P52758                                             0.937 0.000        119   \n",
       "Q6P4E1;Q6P4E1-4;Q6P4E1-5                           0.978 0.045        178   \n",
       "...                                                  ...   ...        ...   \n",
       "E9PKP3;Q86YD3;Q86YD3-2;Q86YD3-4;Q86YD3-5           0.066 0.040        195   \n",
       "A0A0A0MTP9;F8VZI9;Q9BWQ8                           0.046 0.066        193   \n",
       "P48147                                             0.062 0.045         79   \n",
       "Q9P2E7;Q9P2E7-2                                    0.058 0.045        196   \n",
       "A0A087WTT8;A0A0A0MQX5;O94779;O94779-2              0.051 0.047        114   \n",
       "\n",
       "                                                 Differential Analysis Comparison  \\\n",
       "protein groups                                                                      \n",
       "Q6NUJ2                                                    Median (no)  - PI (yes)   \n",
       "A0A087WU43;A0A087WX17;A0A087WXI5;P12830;P12830-2          Median (yes) - PI (no)    \n",
       "P22748                                                    Median (yes) - PI (no)    \n",
       "P52758                                                    Median (no)  - PI (yes)   \n",
       "Q6P4E1;Q6P4E1-4;Q6P4E1-5                                  Median (no)  - PI (yes)   \n",
       "...                                                                           ...   \n",
       "E9PKP3;Q86YD3;Q86YD3-2;Q86YD3-4;Q86YD3-5                  Median (no)  - PI (yes)   \n",
       "A0A0A0MTP9;F8VZI9;Q9BWQ8                                  Median (yes) - PI (no)    \n",
       "P48147                                                    Median (no)  - PI (yes)   \n",
       "Q9P2E7;Q9P2E7-2                                           Median (no)  - PI (yes)   \n",
       "A0A087WTT8;A0A0A0MQX5;O94779;O94779-2                     Median (no)  - PI (yes)   \n",
       "\n",
       "                                                  diff_qvalue  \n",
       "protein groups                                                 \n",
       "Q6NUJ2                                                  0.971  \n",
       "A0A087WU43;A0A087WX17;A0A087WXI5;P12830;P12830-2        0.954  \n",
       "P22748                                                  0.945  \n",
       "P52758                                                  0.937  \n",
       "Q6P4E1;Q6P4E1-4;Q6P4E1-5                                0.933  \n",
       "...                                                       ...  \n",
       "E9PKP3;Q86YD3;Q86YD3-2;Q86YD3-4;Q86YD3-5                0.026  \n",
       "A0A0A0MTP9;F8VZI9;Q9BWQ8                                0.020  \n",
       "P48147                                                  0.016  \n",
       "Q9P2E7;Q9P2E7-2                                         0.013  \n",
       "A0A087WTT8;A0A0A0MQX5;O94779;O94779-2                   0.004  \n",
       "\n",
       "[170 rows x 5 columns]"
      ]
     },
     "execution_count": 19,
     "metadata": {},
     "output_type": "execute_result"
    }
   ],
   "source": [
    "# should it be possible to run not only RSN?\n",
    "to_plot['diff_qvalue'] = (to_plot[str(args.baseline)] - to_plot[str(args.model_key)]).abs()\n",
    "to_plot.loc[mask_different].sort_values('diff_qvalue', ascending=False)"
   ]
  },
  {
   "cell_type": "markdown",
   "id": "e715954e-2d62-4cd9-b4b0-063524bca495",
   "metadata": {
    "papermill": {
     "duration": 0.040063,
     "end_time": "2024-09-25T04:35:13.933048",
     "exception": false,
     "start_time": "2024-09-25T04:35:13.892985",
     "status": "completed"
    },
    "tags": []
   },
   "source": [
    "### Differences plotted with created annotations"
   ]
  },
  {
   "cell_type": "code",
   "execution_count": 20,
   "id": "a20d356d-c397-4440-b70e-9d899aa200fd",
   "metadata": {
    "execution": {
     "iopub.execute_input": "2024-09-25T04:35:14.003941Z",
     "iopub.status.busy": "2024-09-25T04:35:14.003521Z",
     "iopub.status.idle": "2024-09-25T04:35:15.595907Z",
     "shell.execute_reply": "2024-09-25T04:35:15.595265Z"
    },
    "papermill": {
     "duration": 1.627969,
     "end_time": "2024-09-25T04:35:15.598174",
     "exception": false,
     "start_time": "2024-09-25T04:35:13.970205",
     "status": "completed"
    },
    "tags": [
     "hide-input"
    ]
   },
   "outputs": [
    {
     "name": "stderr",
     "output_type": "stream",
     "text": [
      "pimmslearn.plotting - INFO     Saved Figures to runs/alzheimer_study/diff_analysis/AD/PI_vs_Median/diff_analysis_comparision_1_Median\n"
     ]
    },
    {
     "data": {
      "image/png": "[encoded data removed]",
      "text/plain": [
       "<Figure size 588x588 with 1 Axes>"
      ]
     },
     "metadata": {},
     "output_type": "display_data"
    }
   ],
   "source": [
    "figsize = (4, 4)\n",
    "size = 5\n",
    "fig, ax = plt.subplots(figsize=figsize)\n",
    "x_col = to_plot.columns[0]\n",
    "y_col = to_plot.columns[1]\n",
    "ax = sns.scatterplot(data=to_plot,\n",
    "                     x=x_col,\n",
    "                     y=y_col,\n",
    "                     s=size,\n",
    "                     hue='Differential Analysis Comparison',\n",
    "                     ax=ax)\n",
    "_ = ax.legend(fontsize=fontsize,\n",
    "              title_fontsize=fontsize,\n",
    "              markerscale=0.4,\n",
    "              title='',\n",
    "              )\n",
    "ax.set_xlabel(f\"qvalue for {x_col}\")\n",
    "ax.set_ylabel(f\"qvalue for {y_col}\")\n",
    "ax.hlines(0.05, 0, 1, color='grey', linestyles='dotted')\n",
    "ax.vlines(0.05, 0, 1, color='grey', linestyles='dotted')\n",
    "sns.move_legend(ax, \"upper right\")\n",
    "files_out[f'diff_analysis_comparision_1_{args.model_key}'] = (\n",
    "    args.out_folder /\n",
    "    f'diff_analysis_comparision_1_{args.model_key}')\n",
    "fname = files_out[f'diff_analysis_comparision_1_{args.model_key}']\n",
    "pimmslearn.savefig(fig, name=fname)"
   ]
  },
  {
   "cell_type": "markdown",
   "id": "d8849c76-c5f6-4618-87c0-f2635dc9ac66",
   "metadata": {
    "papermill": {
     "duration": 0.018492,
     "end_time": "2024-09-25T04:35:15.638012",
     "exception": false,
     "start_time": "2024-09-25T04:35:15.619520",
     "status": "completed"
    },
    "tags": []
   },
   "source": [
    "- also showing how many features were measured (\"observed\") by size of circle"
   ]
  },
  {
   "cell_type": "code",
   "execution_count": 21,
   "id": "1cf258f8-9dcb-40bb-af66-b600f8d413f6",
   "metadata": {
    "execution": {
     "iopub.execute_input": "2024-09-25T04:35:15.719562Z",
     "iopub.status.busy": "2024-09-25T04:35:15.719261Z",
     "iopub.status.idle": "2024-09-25T04:35:17.251184Z",
     "shell.execute_reply": "2024-09-25T04:35:17.250524Z"
    },
    "papermill": {
     "duration": 1.573853,
     "end_time": "2024-09-25T04:35:17.252462",
     "exception": false,
     "start_time": "2024-09-25T04:35:15.678609",
     "status": "completed"
    },
    "tags": [
     "hide-input"
    ]
   },
   "outputs": [
    {
     "name": "stderr",
     "output_type": "stream",
     "text": [
      "pimmslearn.plotting - INFO     Saved Figures to runs/alzheimer_study/diff_analysis/AD/PI_vs_Median/diff_analysis_comparision_2_Median\n"
     ]
    },
    {
     "data": {
      "image/png": "[encoded data removed]",
      "text/plain": [
       "<Figure size 588x588 with 1 Axes>"
      ]
     },
     "metadata": {},
     "output_type": "display_data"
    }
   ],
   "source": [
    "fig, ax = plt.subplots(figsize=figsize)\n",
    "ax = sns.scatterplot(data=to_plot,\n",
    "                     x=to_plot.columns[0],\n",
    "                     y=to_plot.columns[1],\n",
    "                     size='frequency',\n",
    "                     s=size,\n",
    "                     sizes=(5, 20),\n",
    "                     hue='Differential Analysis Comparison')\n",
    "_ = ax.legend(fontsize=fontsize,\n",
    "              title_fontsize=fontsize,\n",
    "              markerscale=0.6,\n",
    "              title='',\n",
    "              )\n",
    "ax.set_xlabel(f\"qvalue for {x_col}\")\n",
    "ax.set_ylabel(f\"qvalue for {y_col}\")\n",
    "ax.hlines(0.05, 0, 1, color='grey', linestyles='dotted')\n",
    "ax.vlines(0.05, 0, 1, color='grey', linestyles='dotted')\n",
    "sns.move_legend(ax, \"upper right\")\n",
    "files_out[f'diff_analysis_comparision_2_{args.model_key}'] = (\n",
    "    args.out_folder / f'diff_analysis_comparision_2_{args.model_key}')\n",
    "pimmslearn.savefig(\n",
    "    fig, name=files_out[f'diff_analysis_comparision_2_{args.model_key}'])"
   ]
  },
  {
   "cell_type": "markdown",
   "id": "1fee3a21-d8b3-40c6-aea2-4774dfe855ca",
   "metadata": {
    "papermill": {
     "duration": 0.022873,
     "end_time": "2024-09-25T04:35:17.298961",
     "exception": false,
     "start_time": "2024-09-25T04:35:17.276088",
     "status": "completed"
    },
    "tags": []
   },
   "source": [
    "## Only features contained in model\n",
    "- this block exist due to a specific part in the ALD analysis of the paper"
   ]
  },
  {
   "cell_type": "code",
   "execution_count": 22,
   "id": "c4e23a01-fd37-4496-a518-445a9ef38db1",
   "metadata": {
    "execution": {
     "iopub.execute_input": "2024-09-25T04:35:17.346584Z",
     "iopub.status.busy": "2024-09-25T04:35:17.345898Z",
     "iopub.status.idle": "2024-09-25T04:35:17.354627Z",
     "shell.execute_reply": "2024-09-25T04:35:17.354027Z"
    },
    "papermill": {
     "duration": 0.033658,
     "end_time": "2024-09-25T04:35:17.355878",
     "exception": false,
     "start_time": "2024-09-25T04:35:17.322220",
     "status": "completed"
    },
    "tags": [
     "hide-input"
    ]
   },
   "outputs": [
    {
     "name": "stderr",
     "output_type": "stream",
     "text": [
      "root - INFO     No features only in new comparision model.\n"
     ]
    }
   ],
   "source": [
    "scores_model_only = scores.reset_index(level=-1, drop=True)\n",
    "_diff = scores_model_only.index.difference(scores_common.index)\n",
    "if not _diff.empty:\n",
    "    scores_model_only = (scores_model_only\n",
    "                         .loc[\n",
    "                             _diff,\n",
    "                             args.model_key]\n",
    "                         .sort_values(by='qvalue', ascending=True)\n",
    "                         .join(freq_feat.squeeze().rename(freq_feat.columns.droplevel()[0])\n",
    "                               )\n",
    "                         )\n",
    "    display(scores_model_only)\n",
    "else:\n",
    "    scores_model_only = None\n",
    "    logger.info(\"No features only in new comparision model.\")\n",
    "\n",
    "if not _diff.empty:\n",
    "    scores_model_only.to_excel(writer, 'only_model', **writer_args)\n",
    "    display(scores_model_only.rejected.value_counts())\n",
    "    scores_model_only_rejected = scores_model_only.loc[scores_model_only.rejected]\n",
    "    scores_model_only_rejected.to_excel(\n",
    "        writer, 'only_model_rejected', **writer_args)"
   ]
  },
  {
   "cell_type": "markdown",
   "id": "78b2c336",
   "metadata": {
    "papermill": {
     "duration": 0.022421,
     "end_time": "2024-09-25T04:35:17.402712",
     "exception": false,
     "start_time": "2024-09-25T04:35:17.380291",
     "status": "completed"
    },
    "tags": []
   },
   "source": [
    "## DISEASES DB lookup\n",
    "\n",
    "Query diseases database for gene associations with specified disease ontology id."
   ]
  },
  {
   "cell_type": "code",
   "execution_count": 23,
   "id": "d93a9242-0ef4-4fc7-bd98-226a93639f58",
   "metadata": {
    "execution": {
     "iopub.execute_input": "2024-09-25T04:35:17.451240Z",
     "iopub.status.busy": "2024-09-25T04:35:17.450940Z",
     "iopub.status.idle": "2024-09-25T04:35:20.417964Z",
     "shell.execute_reply": "2024-09-25T04:35:20.412621Z"
    },
    "papermill": {
     "duration": 2.992995,
     "end_time": "2024-09-25T04:35:20.419716",
     "exception": false,
     "start_time": "2024-09-25T04:35:17.426721",
     "status": "completed"
    },
    "tags": [
     "hide-input"
    ]
   },
   "outputs": [
    {
     "name": "stderr",
     "output_type": "stream",
     "text": [
      "pimmslearn.databases.diseases - WARNING  There are more associations available\n"
     ]
    },
    {
     "data": {
      "text/html": [
       "<div>\n",
       "<style scoped>\n",
       "    .dataframe tbody tr th:only-of-type {\n",
       "        vertical-align: middle;\n",
       "    }\n",
       "\n",
       "    .dataframe tbody tr th {\n",
       "        vertical-align: top;\n",
       "    }\n",
       "\n",
       "    .dataframe thead th {\n",
       "        text-align: right;\n",
       "    }\n",
       "</style>\n",
       "<table border=\"1\" class=\"dataframe\">\n",
       "  <thead>\n",
       "    <tr style=\"text-align: right;\">\n",
       "      <th></th>\n",
       "      <th>ENSP</th>\n",
       "      <th>score</th>\n",
       "    </tr>\n",
       "    <tr>\n",
       "      <th>None</th>\n",
       "      <th></th>\n",
       "      <th></th>\n",
       "    </tr>\n",
       "  </thead>\n",
       "  <tbody>\n",
       "    <tr>\n",
       "      <th>PSEN1</th>\n",
       "      <td>ENSP00000326366</td>\n",
       "      <td>5.000</td>\n",
       "    </tr>\n",
       "    <tr>\n",
       "      <th>APP</th>\n",
       "      <td>ENSP00000284981</td>\n",
       "      <td>5.000</td>\n",
       "    </tr>\n",
       "    <tr>\n",
       "      <th>APOE</th>\n",
       "      <td>ENSP00000252486</td>\n",
       "      <td>5.000</td>\n",
       "    </tr>\n",
       "    <tr>\n",
       "      <th>PSEN2</th>\n",
       "      <td>ENSP00000355747</td>\n",
       "      <td>5.000</td>\n",
       "    </tr>\n",
       "    <tr>\n",
       "      <th>MAPT</th>\n",
       "      <td>ENSP00000340820</td>\n",
       "      <td>4.800</td>\n",
       "    </tr>\n",
       "    <tr>\n",
       "      <th>...</th>\n",
       "      <td>...</td>\n",
       "      <td>...</td>\n",
       "    </tr>\n",
       "    <tr>\n",
       "      <th>AP1M2</th>\n",
       "      <td>ENSP00000465685</td>\n",
       "      <td>0.682</td>\n",
       "    </tr>\n",
       "    <tr>\n",
       "      <th>TRIM10</th>\n",
       "      <td>ENSP00000397073</td>\n",
       "      <td>0.681</td>\n",
       "    </tr>\n",
       "    <tr>\n",
       "      <th>hsa-miR-511-3p</th>\n",
       "      <td>hsa-miR-511-3p</td>\n",
       "      <td>0.681</td>\n",
       "    </tr>\n",
       "    <tr>\n",
       "      <th>PRSS23</th>\n",
       "      <td>ENSP00000280258</td>\n",
       "      <td>0.681</td>\n",
       "    </tr>\n",
       "    <tr>\n",
       "      <th>LPIN3</th>\n",
       "      <td>ENSP00000487971</td>\n",
       "      <td>0.681</td>\n",
       "    </tr>\n",
       "  </tbody>\n",
       "</table>\n",
       "<p>10000 rows × 2 columns</p>\n",
       "</div>"
      ],
      "text/plain": [
       "                           ENSP  score\n",
       "None                                  \n",
       "PSEN1           ENSP00000326366  5.000\n",
       "APP             ENSP00000284981  5.000\n",
       "APOE            ENSP00000252486  5.000\n",
       "PSEN2           ENSP00000355747  5.000\n",
       "MAPT            ENSP00000340820  4.800\n",
       "...                         ...    ...\n",
       "AP1M2           ENSP00000465685  0.682\n",
       "TRIM10          ENSP00000397073  0.681\n",
       "hsa-miR-511-3p   hsa-miR-511-3p  0.681\n",
       "PRSS23          ENSP00000280258  0.681\n",
       "LPIN3           ENSP00000487971  0.681\n",
       "\n",
       "[10000 rows x 2 columns]"
      ]
     },
     "execution_count": 23,
     "metadata": {},
     "output_type": "execute_result"
    }
   ],
   "source": [
    "data = pimmslearn.databases.diseases.get_disease_association(\n",
    "    doid=args.disease_ontology, limit=10000)\n",
    "data = pd.DataFrame.from_dict(data, orient='index').rename_axis('ENSP', axis=0)\n",
    "data = data.rename(columns={'name': args.annotaitons_gene_col}).reset_index(\n",
    ").set_index(args.annotaitons_gene_col)\n",
    "data"
   ]
  },
  {
   "cell_type": "markdown",
   "id": "efe22443-2613-46ad-83c2-41048e13dd57",
   "metadata": {
    "papermill": {
     "duration": 0.042849,
     "end_time": "2024-09-25T04:35:20.523952",
     "exception": false,
     "start_time": "2024-09-25T04:35:20.481103",
     "status": "completed"
    },
    "tags": []
   },
   "source": [
    "## Shared features\n",
    "ToDo: new script -> DISEASES DB lookup"
   ]
  },
  {
   "cell_type": "code",
   "execution_count": null,
   "id": "5c26415e",
   "metadata": {
    "papermill": {
     "duration": 0.040049,
     "end_time": "2024-09-25T04:35:20.616455",
     "exception": false,
     "start_time": "2024-09-25T04:35:20.576406",
     "status": "completed"
    },
    "tags": [
     "hide-input"
    ]
   },
   "outputs": [],
   "source": []
  },
  {
   "cell_type": "code",
   "execution_count": 24,
   "id": "b68b43df",
   "metadata": {
    "execution": {
     "iopub.execute_input": "2024-09-25T04:35:20.716919Z",
     "iopub.status.busy": "2024-09-25T04:35:20.713356Z",
     "iopub.status.idle": "2024-09-25T04:35:20.731509Z",
     "shell.execute_reply": "2024-09-25T04:35:20.730656Z"
    },
    "papermill": {
     "duration": 0.06623,
     "end_time": "2024-09-25T04:35:20.732506",
     "exception": true,
     "start_time": "2024-09-25T04:35:20.666276",
     "status": "failed"
    },
    "tags": [
     "hide-input"
    ]
   },
   "outputs": [
    {
     "name": "stderr",
     "output_type": "stream",
     "text": [
      "root - INFO     No gene annotation in scores index:  ['protein groups', 'Source'] Exiting.\n"
     ]
    },
    {
     "ename": "SystemExit",
     "evalue": "0",
     "output_type": "error",
     "traceback": [
      "An exception has occurred, use %tb to see the full traceback.\n",
      "\u001b[0;31mSystemExit\u001b[0m\u001b[0;31m:\u001b[0m 0\n"
     ]
    },
    {
     "name": "stderr",
     "output_type": "stream",
     "text": [
      "/home/runner/work/pimms/pimms/project/.snakemake/conda/6192e93206804e092b1c71b91535a817_/lib/python3.12/site-packages/IPython/core/interactiveshell.py:3585: UserWarning: To exit: use 'exit', 'quit', or Ctrl-D.\n",
      "  warn(\"To exit: use 'exit', 'quit', or Ctrl-D.\", stacklevel=1)\n"
     ]
    }
   ],
   "source": [
    "feat_name = scores.index.names[0]  # first index level is feature name\n",
    "if args.annotaitons_gene_col in scores.index.names:\n",
    "    logger.info(f\"Found gene annotation in scores index:  {scores.index.names}\")\n",
    "else:\n",
    "    logger.info(f\"No gene annotation in scores index:  {scores.index.names}\"\n",
    "                \" Exiting.\")\n",
    "    import sys\n",
    "    sys.exit(0)"
   ]
  },
  {
   "cell_type": "code",
   "execution_count": null,
   "id": "f8d4a74d-5a9b-4d9b-9345-4288bb23e19f",
   "metadata": {
    "papermill": {
     "duration": null,
     "end_time": null,
     "exception": null,
     "start_time": null,
     "status": "pending"
    },
    "tags": [
     "hide-input"
    ]
   },
   "outputs": [],
   "source": [
    "gene_to_PG = (scores.droplevel(\n",
    "    list(set(scores.index.names) - {feat_name, args.annotaitons_gene_col})\n",
    ")\n",
    "    .index\n",
    "    .to_frame()\n",
    "    .reset_index(drop=True)\n",
    "    .set_index(args.annotaitons_gene_col)\n",
    ")\n",
    "gene_to_PG.head()"
   ]
  },
  {
   "cell_type": "code",
   "execution_count": null,
   "id": "d9e76def-b48a-458d-a90b-765e6e70f7a4",
   "metadata": {
    "papermill": {
     "duration": null,
     "end_time": null,
     "exception": null,
     "start_time": null,
     "status": "pending"
    },
    "tags": [
     "hide-input"
    ]
   },
   "outputs": [],
   "source": [
    "disease_associations_all = data.join(\n",
    "    gene_to_PG).dropna().reset_index().set_index(feat_name).join(annotations)\n",
    "disease_associations_all"
   ]
  },
  {
   "cell_type": "markdown",
   "id": "217972a3-ba4a-4f28-ab8f-25dc0f5e9ede",
   "metadata": {
    "papermill": {
     "duration": null,
     "end_time": null,
     "exception": null,
     "start_time": null,
     "status": "pending"
    },
    "tags": []
   },
   "source": [
    "## only by model"
   ]
  },
  {
   "cell_type": "code",
   "execution_count": null,
   "id": "8e9d6944-87ba-4c41-af14-fb5ed93262f0",
   "metadata": {
    "papermill": {
     "duration": null,
     "end_time": null,
     "exception": null,
     "start_time": null,
     "status": "pending"
    },
    "tags": [
     "hide-input"
    ]
   },
   "outputs": [],
   "source": [
    "idx = disease_associations_all.index.intersection(scores_model_only.index)\n",
    "disease_assocications_new = disease_associations_all.loc[idx].sort_values(\n",
    "    'score', ascending=False)\n",
    "disease_assocications_new.head(20)"
   ]
  },
  {
   "cell_type": "code",
   "execution_count": null,
   "id": "ceefc483-b889-4bab-b207-c8d5fd97fa4a",
   "metadata": {
    "papermill": {
     "duration": null,
     "end_time": null,
     "exception": null,
     "start_time": null,
     "status": "pending"
    },
    "tags": [
     "hide-input"
    ]
   },
   "outputs": [],
   "source": [
    "mask = disease_assocications_new.loc[idx, 'score'] >= 2.0\n",
    "disease_assocications_new.loc[idx].loc[mask]"
   ]
  },
  {
   "cell_type": "markdown",
   "id": "f85eede2-7b61-4285-ba8c-745f77f6ab22",
   "metadata": {
    "papermill": {
     "duration": null,
     "end_time": null,
     "exception": null,
     "start_time": null,
     "status": "pending"
    },
    "tags": []
   },
   "source": [
    "## Only by model which were significant"
   ]
  },
  {
   "cell_type": "code",
   "execution_count": null,
   "id": "4644759b-8cc2-4f99-a16c-16419cfb915c",
   "metadata": {
    "papermill": {
     "duration": null,
     "end_time": null,
     "exception": null,
     "start_time": null,
     "status": "pending"
    },
    "tags": [
     "hide-input"
    ]
   },
   "outputs": [],
   "source": [
    "idx = disease_associations_all.index.intersection(\n",
    "    scores_model_only_rejected.index)\n",
    "disease_assocications_new_rejected = disease_associations_all.loc[idx].sort_values(\n",
    "    'score', ascending=False)\n",
    "disease_assocications_new_rejected.head(20)"
   ]
  },
  {
   "cell_type": "code",
   "execution_count": null,
   "id": "365d8641-97a8-464f-b69b-270af9ae6e2d",
   "metadata": {
    "papermill": {
     "duration": null,
     "end_time": null,
     "exception": null,
     "start_time": null,
     "status": "pending"
    },
    "tags": [
     "hide-input"
    ]
   },
   "outputs": [],
   "source": [
    "mask = disease_assocications_new_rejected.loc[idx, 'score'] >= 2.0\n",
    "disease_assocications_new_rejected.loc[idx].loc[mask]"
   ]
  },
  {
   "cell_type": "markdown",
   "id": "4f22614b-e058-4e35-b8a9-141c291a93bc",
   "metadata": {
    "papermill": {
     "duration": null,
     "end_time": null,
     "exception": null,
     "start_time": null,
     "status": "pending"
    },
    "tags": []
   },
   "source": [
    "## Shared which are only significant for by model"
   ]
  },
  {
   "cell_type": "code",
   "execution_count": null,
   "id": "82eb2ba8-4fe7-431d-8095-5be43f7791b7",
   "metadata": {
    "papermill": {
     "duration": null,
     "end_time": null,
     "exception": null,
     "start_time": null,
     "status": "pending"
    },
    "tags": []
   },
   "outputs": [],
   "source": [
    "mask = (scores_common[(str(args.model_key), 'rejected')] & mask_different)\n",
    "mask.sum()"
   ]
  },
  {
   "cell_type": "code",
   "execution_count": null,
   "id": "6416d494-5f3e-4cf4-b766-b1f95e40ae1c",
   "metadata": {
    "papermill": {
     "duration": null,
     "end_time": null,
     "exception": null,
     "start_time": null,
     "status": "pending"
    },
    "tags": [
     "hide-input"
    ]
   },
   "outputs": [],
   "source": [
    "idx = disease_associations_all.index.intersection(mask.index[mask])\n",
    "disease_assocications_shared_rejected_by_model = (disease_associations_all.loc[idx].sort_values(\n",
    "    'score', ascending=False))\n",
    "disease_assocications_shared_rejected_by_model.head(20)"
   ]
  },
  {
   "cell_type": "code",
   "execution_count": null,
   "id": "10899e28-4aee-4d44-a542-e45be6699a1b",
   "metadata": {
    "papermill": {
     "duration": null,
     "end_time": null,
     "exception": null,
     "start_time": null,
     "status": "pending"
    },
    "tags": [
     "hide-input"
    ]
   },
   "outputs": [],
   "source": [
    "mask = disease_assocications_shared_rejected_by_model.loc[idx, 'score'] >= 2.0\n",
    "disease_assocications_shared_rejected_by_model.loc[idx].loc[mask]"
   ]
  },
  {
   "cell_type": "markdown",
   "id": "b6c082ea-7d92-4296-8ec9-d279509142a3",
   "metadata": {
    "papermill": {
     "duration": null,
     "end_time": null,
     "exception": null,
     "start_time": null,
     "status": "pending"
    },
    "tags": []
   },
   "source": [
    "## Only significant by RSN"
   ]
  },
  {
   "cell_type": "code",
   "execution_count": null,
   "id": "c59aae50-6877-47cc-99f6-646862d29121",
   "metadata": {
    "papermill": {
     "duration": null,
     "end_time": null,
     "exception": null,
     "start_time": null,
     "status": "pending"
    },
    "tags": []
   },
   "outputs": [],
   "source": [
    "mask = (scores_common[(str(args.baseline), 'rejected')] & mask_different)\n",
    "mask.sum()"
   ]
  },
  {
   "cell_type": "code",
   "execution_count": null,
   "id": "7780de55-c63b-4028-a6d0-58bce7be81da",
   "metadata": {
    "papermill": {
     "duration": null,
     "end_time": null,
     "exception": null,
     "start_time": null,
     "status": "pending"
    },
    "tags": [
     "hide-input"
    ]
   },
   "outputs": [],
   "source": [
    "idx = disease_associations_all.index.intersection(mask.index[mask])\n",
    "disease_assocications_shared_rejected_by_RSN = (\n",
    "    disease_associations_all\n",
    "    .loc[idx]\n",
    "    .sort_values('score', ascending=False))\n",
    "disease_assocications_shared_rejected_by_RSN.head(20)"
   ]
  },
  {
   "cell_type": "code",
   "execution_count": null,
   "id": "03115c8f-1f20-4b51-a78c-4d7c0317dc33",
   "metadata": {
    "papermill": {
     "duration": null,
     "end_time": null,
     "exception": null,
     "start_time": null,
     "status": "pending"
    },
    "tags": [
     "hide-input"
    ]
   },
   "outputs": [],
   "source": [
    "mask = disease_assocications_shared_rejected_by_RSN.loc[idx, 'score'] >= 2.0\n",
    "disease_assocications_shared_rejected_by_RSN.loc[idx].loc[mask]"
   ]
  },
  {
   "cell_type": "markdown",
   "id": "9d72708d-ad27-435b-b672-7dfe35283601",
   "metadata": {
    "papermill": {
     "duration": null,
     "end_time": null,
     "exception": null,
     "start_time": null,
     "status": "pending"
    },
    "tags": []
   },
   "source": [
    "## Write to excel"
   ]
  },
  {
   "cell_type": "code",
   "execution_count": null,
   "id": "91e7fbb7-69fd-4b4c-9bc2-40e8dd1907b3",
   "metadata": {
    "papermill": {
     "duration": null,
     "end_time": null,
     "exception": null,
     "start_time": null,
     "status": "pending"
    },
    "tags": [
     "hide-input"
    ]
   },
   "outputs": [],
   "source": [
    "disease_associations_all.to_excel(\n",
    "    writer, sheet_name='disease_assoc_all', **writer_args)\n",
    "disease_assocications_new.to_excel(\n",
    "    writer, sheet_name='disease_assoc_new', **writer_args)\n",
    "disease_assocications_new_rejected.to_excel(\n",
    "    writer, sheet_name='disease_assoc_new_rejected', **writer_args)"
   ]
  },
  {
   "cell_type": "markdown",
   "id": "52a42028-7e2d-47d5-be02-52f7ff1f3665",
   "metadata": {
    "papermill": {
     "duration": null,
     "end_time": null,
     "exception": null,
     "start_time": null,
     "status": "pending"
    },
    "tags": []
   },
   "source": [
    "## Outputs"
   ]
  },
  {
   "cell_type": "code",
   "execution_count": null,
   "id": "7f3a7433-3bf1-4168-8f16-eb6d415ef17f",
   "metadata": {
    "papermill": {
     "duration": null,
     "end_time": null,
     "exception": null,
     "start_time": null,
     "status": "pending"
    },
    "tags": [
     "hide-input"
    ]
   },
   "outputs": [],
   "source": [
    "writer.close()\n",
    "files_out"
   ]
  }
 ],
 "metadata": {
  "kernelspec": {
   "display_name": "Python 3",
   "language": "python",
   "name": "python3"
  },
  "language_info": {
   "codemirror_mode": {
    "name": "ipython",
    "version": 3
   },
   "file_extension": ".py",
   "mimetype": "text/x-python",
   "name": "python",
   "nbconvert_exporter": "python",
   "pygments_lexer": "ipython3",
   "version": "3.12.0"
  },
  "papermill": {
   "default_parameters": {},
   "duration": 14.298353,
   "end_time": "2024-09-25T04:35:22.132347",
   "environment_variables": {},
   "exception": true,
   "input_path": "10_2_ald_compare_methods.ipynb",
   "output_path": "runs/alzheimer_study/diff_analysis/AD/PI_vs_Median/10_2_ald_compare_methods.ipynb",
   "parameters": {
    "annotaitons_gene_col": "None",
    "baseline": "PI",
    "disease_ontology": 10652,
    "folder_experiment": "runs/alzheimer_study",
    "model_key": "Median",
    "out_folder": "diff_analysis",
    "target": "AD"
   },
   "start_time": "2024-09-25T04:35:07.833994",
   "version": "2.6.0"
  }
 },
 "nbformat": 4,
 "nbformat_minor": 5
}