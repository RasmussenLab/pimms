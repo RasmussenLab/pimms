{
 "cells": [
  {
   "cell_type": "markdown",
   "id": "d5f8edbd",
   "metadata": {
    "lines_to_next_cell": 2,
    "papermill": {
     "duration": 0.011009,
     "end_time": "2024-09-11T04:32:00.802981",
     "exception": false,
     "start_time": "2024-09-11T04:32:00.791972",
     "status": "completed"
    },
    "tags": []
   },
   "source": [
    "# Fit logistic regression model\n",
    "\n",
    "- based on different imputation methods\n",
    "- baseline: reference\n",
    "- model: any other selected imputation method"
   ]
  },
  {
   "cell_type": "code",
   "execution_count": 1,
   "id": "8d8c6764",
   "metadata": {
    "execution": {
     "iopub.execute_input": "2024-09-11T04:32:00.847021Z",
     "iopub.status.busy": "2024-09-11T04:32:00.846718Z",
     "iopub.status.idle": "2024-09-11T04:32:03.169637Z",
     "shell.execute_reply": "2024-09-11T04:32:03.168661Z"
    },
    "papermill": {
     "duration": 2.341177,
     "end_time": "2024-09-11T04:32:03.177782",
     "exception": false,
     "start_time": "2024-09-11T04:32:00.836605",
     "status": "completed"
    },
    "tags": [
     "hide-input"
    ]
   },
   "outputs": [],
   "source": [
    "import logging\n",
    "from pathlib import Path\n",
    "from typing import List\n",
    "\n",
    "import matplotlib.pyplot as plt\n",
    "import njab.sklearn\n",
    "import pandas as pd\n",
    "import sklearn\n",
    "from njab.plotting.metrics import plot_split_auc, plot_split_prc\n",
    "from njab.sklearn.types import Splits\n",
    "\n",
    "import pimmslearn\n",
    "import pimmslearn.analyzers\n",
    "import pimmslearn.io.datasplits\n",
    "\n",
    "plt.rcParams['figure.figsize'] = (2.5, 2.5)\n",
    "plt.rcParams['lines.linewidth'] = 1\n",
    "plt.rcParams['lines.markersize'] = 2\n",
    "fontsize = 5\n",
    "figsize = (2.5, 2.5)\n",
    "pimmslearn.plotting.make_large_descriptors(fontsize)\n",
    "\n",
    "\n",
    "logger = pimmslearn.logging.setup_nb_logger()\n",
    "logging.getLogger('fontTools').setLevel(logging.ERROR)\n",
    "\n",
    "\n",
    "def parse_roc(*res: List[njab.sklearn.types.Results]) -> pd.DataFrame:\n",
    "    ret = list()\n",
    "    for _r in res:\n",
    "        _roc = (pd.DataFrame(_r.test.roc,\n",
    "                             index='fpr tpr cutoffs'.split()\n",
    "                             )).loc[['fpr', 'tpr']]\n",
    "        _roc = _roc.T\n",
    "        _roc.columns = pd.MultiIndex.from_product([[_r.name], _roc.columns])\n",
    "        ret.append(_roc)\n",
    "    ret = pd.concat(ret, axis=1)\n",
    "    return ret\n",
    "\n",
    "\n",
    "def parse_prc(*res: List[njab.sklearn.types.Results]) -> pd.DataFrame:\n",
    "    ret = list()\n",
    "    for _r in res:\n",
    "        _prc = pd.DataFrame(_r.test.prc,\n",
    "                            index='precision recall cutoffs'.split()\n",
    "                            ).loc[['precision', 'recall']]\n",
    "        _prc = _prc.T.rename(columns={'recall': 'tpr'})\n",
    "        _prc.columns = pd.MultiIndex.from_product([[_r.name], _prc.columns])\n",
    "        ret.append(_prc)\n",
    "    ret = pd.concat(ret, axis=1)\n",
    "    return ret\n",
    "\n",
    "\n",
    "# catch passed parameters\n",
    "args = None\n",
    "args = dict(globals()).keys()"
   ]
  },
  {
   "cell_type": "markdown",
   "id": "e1e67f6d",
   "metadata": {
    "papermill": {
     "duration": 0.030276,
     "end_time": "2024-09-11T04:32:03.224381",
     "exception": false,
     "start_time": "2024-09-11T04:32:03.194105",
     "status": "completed"
    },
    "tags": []
   },
   "source": [
    "## Parameters\n",
    "Default and set parameters for the notebook."
   ]
  },
  {
   "cell_type": "code",
   "execution_count": 2,
   "id": "443cd83d",
   "metadata": {
    "execution": {
     "iopub.execute_input": "2024-09-11T04:32:03.276512Z",
     "iopub.status.busy": "2024-09-11T04:32:03.275948Z",
     "iopub.status.idle": "2024-09-11T04:32:03.280817Z",
     "shell.execute_reply": "2024-09-11T04:32:03.280144Z"
    },
    "lines_to_next_cell": 2,
    "papermill": {
     "duration": 0.036267,
     "end_time": "2024-09-11T04:32:03.290423",
     "exception": false,
     "start_time": "2024-09-11T04:32:03.254156",
     "status": "completed"
    },
    "tags": [
     "parameters"
    ]
   },
   "outputs": [],
   "source": [
    "folder_data: str = ''  # specify data directory if needed\n",
    "fn_clinical_data = \"data/ALD_study/processed/ald_metadata_cli.csv\"\n",
    "folder_experiment = \"runs/appl_ald_data/plasma/proteinGroups\"\n",
    "model_key = 'VAE'\n",
    "target = 'kleiner'\n",
    "sample_id_col = 'Sample ID'\n",
    "cutoff_target: int = 2  # => for binarization target >= cutoff_target\n",
    "file_format = \"csv\"\n",
    "out_folder = 'diff_analysis'\n",
    "fn_qc_samples = ''  # 'data/ALD_study/processed/qc_plasma_proteinGroups.pkl'\n",
    "\n",
    "baseline = 'RSN'  # default is RSN, as this was used in the original ALD Niu. et. al 2022\n",
    "template_pred = 'pred_real_na_{}.csv'  # fixed, do not change"
   ]
  },
  {
   "cell_type": "code",
   "execution_count": 3,
   "id": "71d8a18e",
   "metadata": {
    "execution": {
     "iopub.execute_input": "2024-09-11T04:32:03.327099Z",
     "iopub.status.busy": "2024-09-11T04:32:03.326869Z",
     "iopub.status.idle": "2024-09-11T04:32:03.330125Z",
     "shell.execute_reply": "2024-09-11T04:32:03.329576Z"
    },
    "papermill": {
     "duration": 0.023829,
     "end_time": "2024-09-11T04:32:03.341674",
     "exception": false,
     "start_time": "2024-09-11T04:32:03.317845",
     "status": "completed"
    },
    "tags": [
     "injected-parameters"
    ]
   },
   "outputs": [],
   "source": [
    "# Parameters\n",
    "cutoff_target = 0.5\n",
    "folder_experiment = \"runs/alzheimer_study\"\n",
    "target = \"AD\"\n",
    "baseline = \"PI\"\n",
    "model_key = \"Median\"\n",
    "out_folder = \"diff_analysis\"\n",
    "fn_clinical_data = \"runs/alzheimer_study/data/clinical_data.csv\"\n"
   ]
  },
  {
   "cell_type": "code",
   "execution_count": 4,
   "id": "13538b85",
   "metadata": {
    "execution": {
     "iopub.execute_input": "2024-09-11T04:32:03.377772Z",
     "iopub.status.busy": "2024-09-11T04:32:03.377601Z",
     "iopub.status.idle": "2024-09-11T04:32:03.403053Z",
     "shell.execute_reply": "2024-09-11T04:32:03.402477Z"
    },
    "papermill": {
     "duration": 0.043247,
     "end_time": "2024-09-11T04:32:03.407646",
     "exception": false,
     "start_time": "2024-09-11T04:32:03.364399",
     "status": "completed"
    },
    "tags": [
     "hide-input"
    ]
   },
   "outputs": [
    {
     "name": "stderr",
     "output_type": "stream",
     "text": [
      "root - INFO     Removed from global namespace: folder_data\n"
     ]
    },
    {
     "name": "stderr",
     "output_type": "stream",
     "text": [
      "root - INFO     Removed from global namespace: fn_clinical_data\n"
     ]
    },
    {
     "name": "stderr",
     "output_type": "stream",
     "text": [
      "root - INFO     Removed from global namespace: folder_experiment\n"
     ]
    },
    {
     "name": "stderr",
     "output_type": "stream",
     "text": [
      "root - INFO     Removed from global namespace: model_key\n"
     ]
    },
    {
     "name": "stderr",
     "output_type": "stream",
     "text": [
      "root - INFO     Removed from global namespace: target\n"
     ]
    },
    {
     "name": "stderr",
     "output_type": "stream",
     "text": [
      "root - INFO     Removed from global namespace: sample_id_col\n"
     ]
    },
    {
     "name": "stderr",
     "output_type": "stream",
     "text": [
      "root - INFO     Removed from global namespace: cutoff_target\n"
     ]
    },
    {
     "name": "stderr",
     "output_type": "stream",
     "text": [
      "root - INFO     Removed from global namespace: file_format\n"
     ]
    },
    {
     "name": "stderr",
     "output_type": "stream",
     "text": [
      "root - INFO     Removed from global namespace: out_folder\n"
     ]
    },
    {
     "name": "stderr",
     "output_type": "stream",
     "text": [
      "root - INFO     Removed from global namespace: fn_qc_samples\n"
     ]
    },
    {
     "name": "stderr",
     "output_type": "stream",
     "text": [
      "root - INFO     Removed from global namespace: baseline\n"
     ]
    },
    {
     "name": "stderr",
     "output_type": "stream",
     "text": [
      "root - INFO     Removed from global namespace: template_pred\n"
     ]
    },
    {
     "name": "stderr",
     "output_type": "stream",
     "text": [
      "root - INFO     Already set attribute: folder_experiment has value runs/alzheimer_study\n"
     ]
    },
    {
     "name": "stderr",
     "output_type": "stream",
     "text": [
      "root - INFO     Already set attribute: out_folder has value diff_analysis\n"
     ]
    },
    {
     "data": {
      "text/plain": [
       "{'baseline': 'PI',\n",
       " 'cutoff_target': 0.5,\n",
       " 'data': PosixPath('runs/alzheimer_study/data'),\n",
       " 'file_format': 'csv',\n",
       " 'fn_clinical_data': 'runs/alzheimer_study/data/clinical_data.csv',\n",
       " 'fn_qc_samples': '',\n",
       " 'folder_data': '',\n",
       " 'folder_experiment': PosixPath('runs/alzheimer_study'),\n",
       " 'model_key': 'Median',\n",
       " 'out_figures': PosixPath('runs/alzheimer_study/figures'),\n",
       " 'out_folder': PosixPath('runs/alzheimer_study/diff_analysis/AD/PI_vs_Median'),\n",
       " 'out_metrics': PosixPath('runs/alzheimer_study'),\n",
       " 'out_models': PosixPath('runs/alzheimer_study'),\n",
       " 'out_preds': PosixPath('runs/alzheimer_study/preds'),\n",
       " 'sample_id_col': 'Sample ID',\n",
       " 'target': 'AD',\n",
       " 'template_pred': 'pred_real_na_{}.csv'}"
      ]
     },
     "execution_count": 4,
     "metadata": {},
     "output_type": "execute_result"
    }
   ],
   "source": [
    "params = pimmslearn.nb.get_params(args, globals=globals())\n",
    "args = pimmslearn.nb.Config()\n",
    "args.folder_experiment = Path(params[\"folder_experiment\"])\n",
    "args = pimmslearn.nb.add_default_paths(args,\n",
    "                                 out_root=(args.folder_experiment\n",
    "                                           / params[\"out_folder\"]\n",
    "                                           / params[\"target\"]\n",
    "                                           / f\"{params['baseline']}_vs_{params['model_key']}\"))\n",
    "args.update_from_dict(params)\n",
    "files_out = dict()\n",
    "args"
   ]
  },
  {
   "cell_type": "markdown",
   "id": "1ca8264e",
   "metadata": {
    "papermill": {
     "duration": 0.009718,
     "end_time": "2024-09-11T04:32:03.432403",
     "exception": false,
     "start_time": "2024-09-11T04:32:03.422685",
     "status": "completed"
    },
    "tags": []
   },
   "source": [
    "## Load data\n",
    "\n",
    "### Load target"
   ]
  },
  {
   "cell_type": "code",
   "execution_count": 5,
   "id": "09ba8ea3",
   "metadata": {
    "execution": {
     "iopub.execute_input": "2024-09-11T04:32:03.460475Z",
     "iopub.status.busy": "2024-09-11T04:32:03.460175Z",
     "iopub.status.idle": "2024-09-11T04:32:03.491923Z",
     "shell.execute_reply": "2024-09-11T04:32:03.491302Z"
    },
    "papermill": {
     "duration": 0.05236,
     "end_time": "2024-09-11T04:32:03.493435",
     "exception": false,
     "start_time": "2024-09-11T04:32:03.441075",
     "status": "completed"
    },
    "tags": []
   },
   "outputs": [
    {
     "data": {
      "text/html": [
       "<div>\n",
       "<style scoped>\n",
       "    .dataframe tbody tr th:only-of-type {\n",
       "        vertical-align: middle;\n",
       "    }\n",
       "\n",
       "    .dataframe tbody tr th {\n",
       "        vertical-align: top;\n",
       "    }\n",
       "\n",
       "    .dataframe thead th {\n",
       "        text-align: right;\n",
       "    }\n",
       "</style>\n",
       "<table border=\"1\" class=\"dataframe\">\n",
       "  <thead>\n",
       "    <tr style=\"text-align: right;\">\n",
       "      <th></th>\n",
       "      <th>AD</th>\n",
       "    </tr>\n",
       "    <tr>\n",
       "      <th>Sample ID</th>\n",
       "      <th></th>\n",
       "    </tr>\n",
       "  </thead>\n",
       "  <tbody>\n",
       "    <tr>\n",
       "      <th>Sample_000</th>\n",
       "      <td>0</td>\n",
       "    </tr>\n",
       "    <tr>\n",
       "      <th>Sample_001</th>\n",
       "      <td>1</td>\n",
       "    </tr>\n",
       "    <tr>\n",
       "      <th>Sample_002</th>\n",
       "      <td>1</td>\n",
       "    </tr>\n",
       "    <tr>\n",
       "      <th>Sample_003</th>\n",
       "      <td>1</td>\n",
       "    </tr>\n",
       "    <tr>\n",
       "      <th>Sample_004</th>\n",
       "      <td>1</td>\n",
       "    </tr>\n",
       "    <tr>\n",
       "      <th>...</th>\n",
       "      <td>...</td>\n",
       "    </tr>\n",
       "    <tr>\n",
       "      <th>Sample_205</th>\n",
       "      <td>1</td>\n",
       "    </tr>\n",
       "    <tr>\n",
       "      <th>Sample_206</th>\n",
       "      <td>0</td>\n",
       "    </tr>\n",
       "    <tr>\n",
       "      <th>Sample_207</th>\n",
       "      <td>0</td>\n",
       "    </tr>\n",
       "    <tr>\n",
       "      <th>Sample_208</th>\n",
       "      <td>0</td>\n",
       "    </tr>\n",
       "    <tr>\n",
       "      <th>Sample_209</th>\n",
       "      <td>0</td>\n",
       "    </tr>\n",
       "  </tbody>\n",
       "</table>\n",
       "<p>210 rows × 1 columns</p>\n",
       "</div>"
      ],
      "text/plain": [
       "            AD\n",
       "Sample ID     \n",
       "Sample_000   0\n",
       "Sample_001   1\n",
       "Sample_002   1\n",
       "Sample_003   1\n",
       "Sample_004   1\n",
       "...         ..\n",
       "Sample_205   1\n",
       "Sample_206   0\n",
       "Sample_207   0\n",
       "Sample_208   0\n",
       "Sample_209   0\n",
       "\n",
       "[210 rows x 1 columns]"
      ]
     },
     "execution_count": 5,
     "metadata": {},
     "output_type": "execute_result"
    }
   ],
   "source": [
    "target = pd.read_csv(args.fn_clinical_data,\n",
    "                     index_col=0,\n",
    "                     usecols=[args.sample_id_col, args.target])\n",
    "target = target.dropna()\n",
    "target"
   ]
  },
  {
   "cell_type": "markdown",
   "id": "02bbf2a2",
   "metadata": {
    "papermill": {
     "duration": 0.01097,
     "end_time": "2024-09-11T04:32:03.527809",
     "exception": false,
     "start_time": "2024-09-11T04:32:03.516839",
     "status": "completed"
    },
    "tags": []
   },
   "source": [
    "### MS proteomics or specified omics data\n",
    "Aggregated from data splits of the imputation workflow run before."
   ]
  },
  {
   "cell_type": "code",
   "execution_count": 6,
   "id": "f4cd6005",
   "metadata": {
    "execution": {
     "iopub.execute_input": "2024-09-11T04:32:03.580214Z",
     "iopub.status.busy": "2024-09-11T04:32:03.579950Z",
     "iopub.status.idle": "2024-09-11T04:32:03.857222Z",
     "shell.execute_reply": "2024-09-11T04:32:03.856605Z"
    },
    "papermill": {
     "duration": 0.300407,
     "end_time": "2024-09-11T04:32:03.858652",
     "exception": false,
     "start_time": "2024-09-11T04:32:03.558245",
     "status": "completed"
    },
    "tags": [
     "hide-input"
    ]
   },
   "outputs": [
    {
     "name": "stderr",
     "output_type": "stream",
     "text": [
      "pimmslearn.io.datasplits - INFO     Loaded 'train_X' from file: runs/alzheimer_study/data/train_X.csv\n"
     ]
    },
    {
     "name": "stderr",
     "output_type": "stream",
     "text": [
      "pimmslearn.io.datasplits - INFO     Loaded 'val_y' from file: runs/alzheimer_study/data/val_y.csv\n"
     ]
    },
    {
     "name": "stderr",
     "output_type": "stream",
     "text": [
      "pimmslearn.io.datasplits - INFO     Loaded 'test_y' from file: runs/alzheimer_study/data/test_y.csv\n"
     ]
    },
    {
     "data": {
      "text/plain": [
       "Sample ID   protein groups      \n",
       "Sample_164  C9JPD0;P58417;R4GMM9   16.971\n",
       "Sample_102  A0A1X7SBT7;O95502      19.081\n",
       "Sample_190  Q99972                 14.798\n",
       "Sample_152  A0A087WSY4             16.189\n",
       "Sample_040  G3V2W1;Q9UK55          14.133\n",
       "Name: intensity, dtype: float64"
      ]
     },
     "execution_count": 6,
     "metadata": {},
     "output_type": "execute_result"
    }
   ],
   "source": [
    "data = pimmslearn.io.datasplits.DataSplits.from_folder(\n",
    "    args.data, file_format=args.file_format)\n",
    "data = pd.concat([data.train_X, data.val_y, data.test_y])\n",
    "data.sample(5)"
   ]
  },
  {
   "cell_type": "markdown",
   "id": "ac6b446e",
   "metadata": {
    "papermill": {
     "duration": 0.03142,
     "end_time": "2024-09-11T04:32:03.901876",
     "exception": false,
     "start_time": "2024-09-11T04:32:03.870456",
     "status": "completed"
    },
    "tags": []
   },
   "source": [
    "Get overlap between independent features and target"
   ]
  },
  {
   "cell_type": "markdown",
   "id": "c79ad218",
   "metadata": {
    "papermill": {
     "duration": 0.018681,
     "end_time": "2024-09-11T04:32:03.958521",
     "exception": false,
     "start_time": "2024-09-11T04:32:03.939840",
     "status": "completed"
    },
    "tags": []
   },
   "source": [
    "### Select by ALD criteria\n",
    "Use parameters as specified in [ALD study](https://github.com/RasmussenLab/pimms/tree/main/project/data/ALD_study)."
   ]
  },
  {
   "cell_type": "code",
   "execution_count": 7,
   "id": "3038462c",
   "metadata": {
    "execution": {
     "iopub.execute_input": "2024-09-11T04:32:03.984739Z",
     "iopub.status.busy": "2024-09-11T04:32:03.984062Z",
     "iopub.status.idle": "2024-09-11T04:32:04.087562Z",
     "shell.execute_reply": "2024-09-11T04:32:04.086954Z"
    },
    "papermill": {
     "duration": 0.119663,
     "end_time": "2024-09-11T04:32:04.089140",
     "exception": false,
     "start_time": "2024-09-11T04:32:03.969477",
     "status": "completed"
    },
    "tags": [
     "hide-input"
    ]
   },
   "outputs": [
    {
     "name": "stderr",
     "output_type": "stream",
     "text": [
      "root - INFO     Initally: N samples: 210, M feat: 1421\n"
     ]
    },
    {
     "name": "stderr",
     "output_type": "stream",
     "text": [
      "root - INFO     Dropped features quantified in less than 126 samples.\n"
     ]
    },
    {
     "name": "stderr",
     "output_type": "stream",
     "text": [
      "root - INFO     After feat selection: N samples: 210, M feat: 1213\n"
     ]
    },
    {
     "name": "stderr",
     "output_type": "stream",
     "text": [
      "root - INFO     Min No. of Protein-Groups in single sample: 754\n"
     ]
    },
    {
     "name": "stderr",
     "output_type": "stream",
     "text": [
      "root - INFO     Finally: N samples: 210, M feat: 1213\n"
     ]
    },
    {
     "data": {
      "text/html": [
       "<div>\n",
       "<style scoped>\n",
       "    .dataframe tbody tr th:only-of-type {\n",
       "        vertical-align: middle;\n",
       "    }\n",
       "\n",
       "    .dataframe tbody tr th {\n",
       "        vertical-align: top;\n",
       "    }\n",
       "\n",
       "    .dataframe thead th {\n",
       "        text-align: right;\n",
       "    }\n",
       "</style>\n",
       "<table border=\"1\" class=\"dataframe\">\n",
       "  <thead>\n",
       "    <tr style=\"text-align: right;\">\n",
       "      <th>protein groups</th>\n",
       "      <th>A0A024QZX5;A0A087X1N8;P35237</th>\n",
       "      <th>A0A024R0T9;K7ER74;P02655</th>\n",
       "      <th>A0A024R3W6;A0A024R412;O60462;O60462-2;O60462-3;O60462-4;O60462-5;Q7LBX6;X5D2Q8</th>\n",
       "      <th>A0A024R644;A0A0A0MRU5;A0A1B0GWI2;O75503</th>\n",
       "      <th>A0A075B6H9</th>\n",
       "      <th>A0A075B6I0</th>\n",
       "      <th>A0A075B6I1</th>\n",
       "      <th>A0A075B6I6</th>\n",
       "      <th>A0A075B6I9</th>\n",
       "      <th>A0A075B6J9</th>\n",
       "      <th>...</th>\n",
       "      <th>Q9Y653;Q9Y653-2;Q9Y653-3</th>\n",
       "      <th>Q9Y696</th>\n",
       "      <th>Q9Y6C2</th>\n",
       "      <th>Q9Y6N6</th>\n",
       "      <th>Q9Y6N7;Q9Y6N7-2;Q9Y6N7-4</th>\n",
       "      <th>Q9Y6R7</th>\n",
       "      <th>Q9Y6X5</th>\n",
       "      <th>Q9Y6Y8;Q9Y6Y8-2</th>\n",
       "      <th>Q9Y6Y9</th>\n",
       "      <th>S4R3U6</th>\n",
       "    </tr>\n",
       "    <tr>\n",
       "      <th>Sample ID</th>\n",
       "      <th></th>\n",
       "      <th></th>\n",
       "      <th></th>\n",
       "      <th></th>\n",
       "      <th></th>\n",
       "      <th></th>\n",
       "      <th></th>\n",
       "      <th></th>\n",
       "      <th></th>\n",
       "      <th></th>\n",
       "      <th></th>\n",
       "      <th></th>\n",
       "      <th></th>\n",
       "      <th></th>\n",
       "      <th></th>\n",
       "      <th></th>\n",
       "      <th></th>\n",
       "      <th></th>\n",
       "      <th></th>\n",
       "      <th></th>\n",
       "      <th></th>\n",
       "    </tr>\n",
       "  </thead>\n",
       "  <tbody>\n",
       "    <tr>\n",
       "      <th>Sample_000</th>\n",
       "      <td>15.912</td>\n",
       "      <td>16.852</td>\n",
       "      <td>15.570</td>\n",
       "      <td>16.481</td>\n",
       "      <td>20.246</td>\n",
       "      <td>16.764</td>\n",
       "      <td>17.584</td>\n",
       "      <td>16.988</td>\n",
       "      <td>20.054</td>\n",
       "      <td>NaN</td>\n",
       "      <td>...</td>\n",
       "      <td>16.012</td>\n",
       "      <td>15.178</td>\n",
       "      <td>NaN</td>\n",
       "      <td>15.050</td>\n",
       "      <td>16.842</td>\n",
       "      <td>19.863</td>\n",
       "      <td>NaN</td>\n",
       "      <td>19.563</td>\n",
       "      <td>12.837</td>\n",
       "      <td>12.805</td>\n",
       "    </tr>\n",
       "    <tr>\n",
       "      <th>Sample_001</th>\n",
       "      <td>15.936</td>\n",
       "      <td>16.874</td>\n",
       "      <td>15.519</td>\n",
       "      <td>16.387</td>\n",
       "      <td>19.941</td>\n",
       "      <td>18.786</td>\n",
       "      <td>17.144</td>\n",
       "      <td>NaN</td>\n",
       "      <td>19.067</td>\n",
       "      <td>16.188</td>\n",
       "      <td>...</td>\n",
       "      <td>15.528</td>\n",
       "      <td>15.576</td>\n",
       "      <td>NaN</td>\n",
       "      <td>14.833</td>\n",
       "      <td>16.597</td>\n",
       "      <td>20.299</td>\n",
       "      <td>15.556</td>\n",
       "      <td>19.386</td>\n",
       "      <td>13.970</td>\n",
       "      <td>12.442</td>\n",
       "    </tr>\n",
       "    <tr>\n",
       "      <th>Sample_002</th>\n",
       "      <td>16.111</td>\n",
       "      <td>14.523</td>\n",
       "      <td>15.935</td>\n",
       "      <td>16.416</td>\n",
       "      <td>19.251</td>\n",
       "      <td>16.832</td>\n",
       "      <td>15.671</td>\n",
       "      <td>17.012</td>\n",
       "      <td>18.569</td>\n",
       "      <td>NaN</td>\n",
       "      <td>...</td>\n",
       "      <td>15.229</td>\n",
       "      <td>14.728</td>\n",
       "      <td>13.757</td>\n",
       "      <td>15.118</td>\n",
       "      <td>17.440</td>\n",
       "      <td>19.598</td>\n",
       "      <td>15.735</td>\n",
       "      <td>20.447</td>\n",
       "      <td>12.636</td>\n",
       "      <td>12.505</td>\n",
       "    </tr>\n",
       "    <tr>\n",
       "      <th>Sample_003</th>\n",
       "      <td>16.107</td>\n",
       "      <td>17.032</td>\n",
       "      <td>15.802</td>\n",
       "      <td>16.979</td>\n",
       "      <td>19.628</td>\n",
       "      <td>17.852</td>\n",
       "      <td>18.877</td>\n",
       "      <td>14.182</td>\n",
       "      <td>18.985</td>\n",
       "      <td>13.438</td>\n",
       "      <td>...</td>\n",
       "      <td>15.495</td>\n",
       "      <td>14.590</td>\n",
       "      <td>14.682</td>\n",
       "      <td>15.140</td>\n",
       "      <td>17.356</td>\n",
       "      <td>19.429</td>\n",
       "      <td>NaN</td>\n",
       "      <td>20.216</td>\n",
       "      <td>12.627</td>\n",
       "      <td>12.445</td>\n",
       "    </tr>\n",
       "    <tr>\n",
       "      <th>Sample_004</th>\n",
       "      <td>15.603</td>\n",
       "      <td>15.331</td>\n",
       "      <td>15.375</td>\n",
       "      <td>16.679</td>\n",
       "      <td>20.450</td>\n",
       "      <td>18.682</td>\n",
       "      <td>17.081</td>\n",
       "      <td>14.140</td>\n",
       "      <td>19.686</td>\n",
       "      <td>14.495</td>\n",
       "      <td>...</td>\n",
       "      <td>14.757</td>\n",
       "      <td>15.094</td>\n",
       "      <td>14.048</td>\n",
       "      <td>15.256</td>\n",
       "      <td>17.075</td>\n",
       "      <td>19.582</td>\n",
       "      <td>15.328</td>\n",
       "      <td>19.867</td>\n",
       "      <td>13.145</td>\n",
       "      <td>12.235</td>\n",
       "    </tr>\n",
       "    <tr>\n",
       "      <th>...</th>\n",
       "      <td>...</td>\n",
       "      <td>...</td>\n",
       "      <td>...</td>\n",
       "      <td>...</td>\n",
       "      <td>...</td>\n",
       "      <td>...</td>\n",
       "      <td>...</td>\n",
       "      <td>...</td>\n",
       "      <td>...</td>\n",
       "      <td>...</td>\n",
       "      <td>...</td>\n",
       "      <td>...</td>\n",
       "      <td>...</td>\n",
       "      <td>...</td>\n",
       "      <td>...</td>\n",
       "      <td>...</td>\n",
       "      <td>...</td>\n",
       "      <td>...</td>\n",
       "      <td>...</td>\n",
       "      <td>...</td>\n",
       "      <td>...</td>\n",
       "    </tr>\n",
       "    <tr>\n",
       "      <th>Sample_205</th>\n",
       "      <td>15.682</td>\n",
       "      <td>16.886</td>\n",
       "      <td>14.910</td>\n",
       "      <td>16.482</td>\n",
       "      <td>17.705</td>\n",
       "      <td>17.039</td>\n",
       "      <td>NaN</td>\n",
       "      <td>16.413</td>\n",
       "      <td>19.102</td>\n",
       "      <td>16.064</td>\n",
       "      <td>...</td>\n",
       "      <td>15.235</td>\n",
       "      <td>15.684</td>\n",
       "      <td>14.236</td>\n",
       "      <td>15.415</td>\n",
       "      <td>17.551</td>\n",
       "      <td>17.922</td>\n",
       "      <td>16.340</td>\n",
       "      <td>19.928</td>\n",
       "      <td>12.929</td>\n",
       "      <td>11.802</td>\n",
       "    </tr>\n",
       "    <tr>\n",
       "      <th>Sample_206</th>\n",
       "      <td>15.798</td>\n",
       "      <td>17.554</td>\n",
       "      <td>15.600</td>\n",
       "      <td>15.938</td>\n",
       "      <td>18.154</td>\n",
       "      <td>18.152</td>\n",
       "      <td>16.503</td>\n",
       "      <td>16.860</td>\n",
       "      <td>18.538</td>\n",
       "      <td>15.288</td>\n",
       "      <td>...</td>\n",
       "      <td>15.422</td>\n",
       "      <td>16.106</td>\n",
       "      <td>NaN</td>\n",
       "      <td>15.345</td>\n",
       "      <td>17.084</td>\n",
       "      <td>18.708</td>\n",
       "      <td>14.249</td>\n",
       "      <td>19.433</td>\n",
       "      <td>NaN</td>\n",
       "      <td>NaN</td>\n",
       "    </tr>\n",
       "    <tr>\n",
       "      <th>Sample_207</th>\n",
       "      <td>15.739</td>\n",
       "      <td>16.877</td>\n",
       "      <td>15.469</td>\n",
       "      <td>16.898</td>\n",
       "      <td>18.636</td>\n",
       "      <td>17.950</td>\n",
       "      <td>16.321</td>\n",
       "      <td>16.401</td>\n",
       "      <td>18.849</td>\n",
       "      <td>17.580</td>\n",
       "      <td>...</td>\n",
       "      <td>15.808</td>\n",
       "      <td>16.098</td>\n",
       "      <td>14.403</td>\n",
       "      <td>15.715</td>\n",
       "      <td>16.586</td>\n",
       "      <td>18.725</td>\n",
       "      <td>16.138</td>\n",
       "      <td>19.599</td>\n",
       "      <td>13.637</td>\n",
       "      <td>11.174</td>\n",
       "    </tr>\n",
       "    <tr>\n",
       "      <th>Sample_208</th>\n",
       "      <td>15.477</td>\n",
       "      <td>16.779</td>\n",
       "      <td>14.995</td>\n",
       "      <td>16.132</td>\n",
       "      <td>14.908</td>\n",
       "      <td>17.530</td>\n",
       "      <td>NaN</td>\n",
       "      <td>16.119</td>\n",
       "      <td>18.368</td>\n",
       "      <td>15.202</td>\n",
       "      <td>...</td>\n",
       "      <td>15.157</td>\n",
       "      <td>16.712</td>\n",
       "      <td>NaN</td>\n",
       "      <td>14.640</td>\n",
       "      <td>16.533</td>\n",
       "      <td>19.411</td>\n",
       "      <td>15.807</td>\n",
       "      <td>19.545</td>\n",
       "      <td>13.216</td>\n",
       "      <td>NaN</td>\n",
       "    </tr>\n",
       "    <tr>\n",
       "      <th>Sample_209</th>\n",
       "      <td>15.727</td>\n",
       "      <td>17.261</td>\n",
       "      <td>15.175</td>\n",
       "      <td>16.235</td>\n",
       "      <td>17.893</td>\n",
       "      <td>17.744</td>\n",
       "      <td>16.371</td>\n",
       "      <td>15.780</td>\n",
       "      <td>18.806</td>\n",
       "      <td>16.532</td>\n",
       "      <td>...</td>\n",
       "      <td>15.237</td>\n",
       "      <td>15.652</td>\n",
       "      <td>15.211</td>\n",
       "      <td>14.205</td>\n",
       "      <td>16.749</td>\n",
       "      <td>19.275</td>\n",
       "      <td>15.732</td>\n",
       "      <td>19.577</td>\n",
       "      <td>11.042</td>\n",
       "      <td>11.791</td>\n",
       "    </tr>\n",
       "  </tbody>\n",
       "</table>\n",
       "<p>210 rows × 1213 columns</p>\n",
       "</div>"
      ],
      "text/plain": [
       "protein groups  A0A024QZX5;A0A087X1N8;P35237  A0A024R0T9;K7ER74;P02655  \\\n",
       "Sample ID                                                                \n",
       "Sample_000                            15.912                    16.852   \n",
       "Sample_001                            15.936                    16.874   \n",
       "Sample_002                            16.111                    14.523   \n",
       "Sample_003                            16.107                    17.032   \n",
       "Sample_004                            15.603                    15.331   \n",
       "...                                      ...                       ...   \n",
       "Sample_205                            15.682                    16.886   \n",
       "Sample_206                            15.798                    17.554   \n",
       "Sample_207                            15.739                    16.877   \n",
       "Sample_208                            15.477                    16.779   \n",
       "Sample_209                            15.727                    17.261   \n",
       "\n",
       "protein groups  A0A024R3W6;A0A024R412;O60462;O60462-2;O60462-3;O60462-4;O60462-5;Q7LBX6;X5D2Q8  \\\n",
       "Sample ID                                                                                        \n",
       "Sample_000                                                 15.570                                \n",
       "Sample_001                                                 15.519                                \n",
       "Sample_002                                                 15.935                                \n",
       "Sample_003                                                 15.802                                \n",
       "Sample_004                                                 15.375                                \n",
       "...                                                           ...                                \n",
       "Sample_205                                                 14.910                                \n",
       "Sample_206                                                 15.600                                \n",
       "Sample_207                                                 15.469                                \n",
       "Sample_208                                                 14.995                                \n",
       "Sample_209                                                 15.175                                \n",
       "\n",
       "protein groups  A0A024R644;A0A0A0MRU5;A0A1B0GWI2;O75503  A0A075B6H9  \\\n",
       "Sample ID                                                             \n",
       "Sample_000                                       16.481      20.246   \n",
       "Sample_001                                       16.387      19.941   \n",
       "Sample_002                                       16.416      19.251   \n",
       "Sample_003                                       16.979      19.628   \n",
       "Sample_004                                       16.679      20.450   \n",
       "...                                                 ...         ...   \n",
       "Sample_205                                       16.482      17.705   \n",
       "Sample_206                                       15.938      18.154   \n",
       "Sample_207                                       16.898      18.636   \n",
       "Sample_208                                       16.132      14.908   \n",
       "Sample_209                                       16.235      17.893   \n",
       "\n",
       "protein groups  A0A075B6I0  A0A075B6I1  A0A075B6I6  A0A075B6I9  A0A075B6J9  \\\n",
       "Sample ID                                                                    \n",
       "Sample_000          16.764      17.584      16.988      20.054         NaN   \n",
       "Sample_001          18.786      17.144         NaN      19.067      16.188   \n",
       "Sample_002          16.832      15.671      17.012      18.569         NaN   \n",
       "Sample_003          17.852      18.877      14.182      18.985      13.438   \n",
       "Sample_004          18.682      17.081      14.140      19.686      14.495   \n",
       "...                    ...         ...         ...         ...         ...   \n",
       "Sample_205          17.039         NaN      16.413      19.102      16.064   \n",
       "Sample_206          18.152      16.503      16.860      18.538      15.288   \n",
       "Sample_207          17.950      16.321      16.401      18.849      17.580   \n",
       "Sample_208          17.530         NaN      16.119      18.368      15.202   \n",
       "Sample_209          17.744      16.371      15.780      18.806      16.532   \n",
       "\n",
       "protein groups  ...  Q9Y653;Q9Y653-2;Q9Y653-3  Q9Y696  Q9Y6C2  Q9Y6N6  \\\n",
       "Sample ID       ...                                                     \n",
       "Sample_000      ...                    16.012  15.178     NaN  15.050   \n",
       "Sample_001      ...                    15.528  15.576     NaN  14.833   \n",
       "Sample_002      ...                    15.229  14.728  13.757  15.118   \n",
       "Sample_003      ...                    15.495  14.590  14.682  15.140   \n",
       "Sample_004      ...                    14.757  15.094  14.048  15.256   \n",
       "...             ...                       ...     ...     ...     ...   \n",
       "Sample_205      ...                    15.235  15.684  14.236  15.415   \n",
       "Sample_206      ...                    15.422  16.106     NaN  15.345   \n",
       "Sample_207      ...                    15.808  16.098  14.403  15.715   \n",
       "Sample_208      ...                    15.157  16.712     NaN  14.640   \n",
       "Sample_209      ...                    15.237  15.652  15.211  14.205   \n",
       "\n",
       "protein groups  Q9Y6N7;Q9Y6N7-2;Q9Y6N7-4  Q9Y6R7  Q9Y6X5  Q9Y6Y8;Q9Y6Y8-2  \\\n",
       "Sample ID                                                                   \n",
       "Sample_000                        16.842  19.863     NaN           19.563   \n",
       "Sample_001                        16.597  20.299  15.556           19.386   \n",
       "Sample_002                        17.440  19.598  15.735           20.447   \n",
       "Sample_003                        17.356  19.429     NaN           20.216   \n",
       "Sample_004                        17.075  19.582  15.328           19.867   \n",
       "...                                  ...     ...     ...              ...   \n",
       "Sample_205                        17.551  17.922  16.340           19.928   \n",
       "Sample_206                        17.084  18.708  14.249           19.433   \n",
       "Sample_207                        16.586  18.725  16.138           19.599   \n",
       "Sample_208                        16.533  19.411  15.807           19.545   \n",
       "Sample_209                        16.749  19.275  15.732           19.577   \n",
       "\n",
       "protein groups  Q9Y6Y9  S4R3U6  \n",
       "Sample ID                       \n",
       "Sample_000      12.837  12.805  \n",
       "Sample_001      13.970  12.442  \n",
       "Sample_002      12.636  12.505  \n",
       "Sample_003      12.627  12.445  \n",
       "Sample_004      13.145  12.235  \n",
       "...                ...     ...  \n",
       "Sample_205      12.929  11.802  \n",
       "Sample_206         NaN     NaN  \n",
       "Sample_207      13.637  11.174  \n",
       "Sample_208      13.216     NaN  \n",
       "Sample_209      11.042  11.791  \n",
       "\n",
       "[210 rows x 1213 columns]"
      ]
     },
     "execution_count": 7,
     "metadata": {},
     "output_type": "execute_result"
    }
   ],
   "source": [
    "DATA_COMPLETENESS = 0.6\n",
    "MIN_N_PROTEIN_GROUPS: int = 200\n",
    "FRAC_PROTEIN_GROUPS: int = 0.622\n",
    "CV_QC_SAMPLE: float = 0.4\n",
    "\n",
    "ald_study, cutoffs = pimmslearn.analyzers.diff_analysis.select_raw_data(data.unstack(\n",
    "), data_completeness=DATA_COMPLETENESS, frac_protein_groups=FRAC_PROTEIN_GROUPS)\n",
    "\n",
    "if args.fn_qc_samples:\n",
    "    qc_samples = pd.read_pickle(args.fn_qc_samples)\n",
    "    qc_samples = qc_samples[ald_study.columns]\n",
    "    qc_cv_feat = qc_samples.std() / qc_samples.mean()\n",
    "    qc_cv_feat = qc_cv_feat.rename(qc_samples.columns.name)\n",
    "    fig, ax = plt.subplots(figsize=(4, 7))\n",
    "    ax = qc_cv_feat.plot.box(ax=ax)\n",
    "    ax.set_ylabel('Coefficient of Variation')\n",
    "    print((qc_cv_feat < CV_QC_SAMPLE).value_counts())\n",
    "    ald_study = ald_study[pimmslearn.analyzers.diff_analysis.select_feat(qc_samples)]\n",
    "\n",
    "column_name_first_prot_to_pg = {\n",
    "    pg.split(';')[0]: pg for pg in data.unstack().columns}\n",
    "\n",
    "ald_study = ald_study.rename(columns=column_name_first_prot_to_pg)\n",
    "ald_study"
   ]
  },
  {
   "cell_type": "markdown",
   "id": "e0e04598",
   "metadata": {
    "papermill": {
     "duration": 0.011829,
     "end_time": "2024-09-11T04:32:04.113820",
     "exception": false,
     "start_time": "2024-09-11T04:32:04.101991",
     "status": "completed"
    },
    "tags": []
   },
   "source": [
    "Number of complete cases which can be used:"
   ]
  },
  {
   "cell_type": "code",
   "execution_count": 8,
   "id": "3a9e70e6",
   "metadata": {
    "execution": {
     "iopub.execute_input": "2024-09-11T04:32:04.138947Z",
     "iopub.status.busy": "2024-09-11T04:32:04.138668Z",
     "iopub.status.idle": "2024-09-11T04:32:04.222624Z",
     "shell.execute_reply": "2024-09-11T04:32:04.222025Z"
    },
    "papermill": {
     "duration": 0.098339,
     "end_time": "2024-09-11T04:32:04.224190",
     "exception": false,
     "start_time": "2024-09-11T04:32:04.125851",
     "status": "completed"
    },
    "tags": [
     "hide-input"
    ]
   },
   "outputs": [
    {
     "name": "stdout",
     "output_type": "stream",
     "text": [
      "Samples available both in proteomics data and for target: 210\n"
     ]
    }
   ],
   "source": [
    "mask_has_target = data.index.levels[0].intersection(target.index)\n",
    "assert not mask_has_target.empty, f\"No data for target: {data.index.levels[0]} and {target.index}\"\n",
    "print(\n",
    "    f\"Samples available both in proteomics data and for target: {len(mask_has_target)}\")\n",
    "target, data, ald_study = target.loc[mask_has_target], data.loc[mask_has_target], ald_study.loc[mask_has_target]"
   ]
  },
  {
   "cell_type": "markdown",
   "id": "fcc05bf5",
   "metadata": {
    "papermill": {
     "duration": 0.012117,
     "end_time": "2024-09-11T04:32:04.249309",
     "exception": false,
     "start_time": "2024-09-11T04:32:04.237192",
     "status": "completed"
    },
    "tags": []
   },
   "source": [
    "### Load imputations from specified model"
   ]
  },
  {
   "cell_type": "code",
   "execution_count": 9,
   "id": "5f072d5f",
   "metadata": {
    "execution": {
     "iopub.execute_input": "2024-09-11T04:32:04.274623Z",
     "iopub.status.busy": "2024-09-11T04:32:04.274321Z",
     "iopub.status.idle": "2024-09-11T04:32:04.331552Z",
     "shell.execute_reply": "2024-09-11T04:32:04.330964Z"
    },
    "papermill": {
     "duration": 0.071413,
     "end_time": "2024-09-11T04:32:04.333090",
     "exception": false,
     "start_time": "2024-09-11T04:32:04.261677",
     "status": "completed"
    },
    "tags": [
     "hide-input"
    ]
   },
   "outputs": [
    {
     "name": "stdout",
     "output_type": "stream",
     "text": [
      "missing values pred. by Median: runs/alzheimer_study/preds/pred_real_na_Median.csv\n"
     ]
    },
    {
     "data": {
      "text/plain": [
       "Sample ID   protein groups \n",
       "Sample_181  Q05996;Q05996-2   15.470\n",
       "Sample_069  Q9UKZ4;Q9UKZ4-2   11.769\n",
       "Sample_084  Q12866            15.772\n",
       "Name: intensity, dtype: float64"
      ]
     },
     "execution_count": 9,
     "metadata": {},
     "output_type": "execute_result"
    }
   ],
   "source": [
    "fname = args.out_preds / args.template_pred.format(args.model_key)\n",
    "print(f\"missing values pred. by {args.model_key}: {fname}\")\n",
    "load_single_csv_pred_file = pimmslearn.analyzers.compare_predictions.load_single_csv_pred_file\n",
    "pred_real_na = load_single_csv_pred_file(fname).loc[mask_has_target]\n",
    "pred_real_na.sample(3)"
   ]
  },
  {
   "cell_type": "markdown",
   "id": "eadd9ea6",
   "metadata": {
    "papermill": {
     "duration": 0.012437,
     "end_time": "2024-09-11T04:32:04.358783",
     "exception": false,
     "start_time": "2024-09-11T04:32:04.346346",
     "status": "completed"
    },
    "tags": []
   },
   "source": [
    "### Load imputations from baseline model"
   ]
  },
  {
   "cell_type": "code",
   "execution_count": 10,
   "id": "0f2dd584",
   "metadata": {
    "execution": {
     "iopub.execute_input": "2024-09-11T04:32:04.384382Z",
     "iopub.status.busy": "2024-09-11T04:32:04.384146Z",
     "iopub.status.idle": "2024-09-11T04:32:04.431694Z",
     "shell.execute_reply": "2024-09-11T04:32:04.431095Z"
    },
    "papermill": {
     "duration": 0.062236,
     "end_time": "2024-09-11T04:32:04.433275",
     "exception": false,
     "start_time": "2024-09-11T04:32:04.371039",
     "status": "completed"
    },
    "tags": [
     "hide-input"
    ]
   },
   "outputs": [
    {
     "data": {
      "text/plain": [
       "Sample ID   protein groups          \n",
       "Sample_000  A0A075B6J9                 12.052\n",
       "            A0A075B6Q5                 13.014\n",
       "            A0A075B6R2                 12.672\n",
       "            A0A075B6S5                 12.017\n",
       "            A0A087WSY4                 12.296\n",
       "                                        ...  \n",
       "Sample_209  Q9P1W8;Q9P1W8-2;Q9P1W8-4   12.961\n",
       "            Q9UI40;Q9UI40-2            11.661\n",
       "            Q9UIW2                     13.737\n",
       "            Q9UMX0;Q9UMX0-2;Q9UMX0-4   13.554\n",
       "            Q9UP79                     13.559\n",
       "Name: intensity, Length: 46401, dtype: float64"
      ]
     },
     "execution_count": 10,
     "metadata": {},
     "output_type": "execute_result"
    }
   ],
   "source": [
    "fname = args.out_preds / args.template_pred.format(args.baseline)\n",
    "pred_real_na_baseline = load_single_csv_pred_file(fname)  # .loc[mask_has_target]\n",
    "pred_real_na_baseline"
   ]
  },
  {
   "cell_type": "markdown",
   "id": "8fa21c8b",
   "metadata": {
    "papermill": {
     "duration": 0.013061,
     "end_time": "2024-09-11T04:32:04.459839",
     "exception": false,
     "start_time": "2024-09-11T04:32:04.446778",
     "status": "completed"
    },
    "tags": []
   },
   "source": [
    "## Modeling setup\n",
    "General approach:\n",
    "  - use one train, test split of the data\n",
    "  - select best 10 features from training data `X_train`, `y_train` before binarization of target\n",
    "  - dichotomize (binarize) data into to groups (zero and 1)\n",
    "  - evaluate model on the test data `X_test`, `y_test`\n",
    "\n",
    "Repeat general approach for\n",
    " 1. all original ald data: all features justed in original ALD study\n",
    " 2. all model data: all features available my using the self supervised deep learning model\n",
    " 3. newly available feat only: the subset of features available from the\n",
    "    self supervised deep learning model which were newly retained using the\n",
    "    new approach\n",
    "\n",
    "All data:"
   ]
  },
  {
   "cell_type": "code",
   "execution_count": 11,
   "id": "f457863e",
   "metadata": {
    "execution": {
     "iopub.execute_input": "2024-09-11T04:32:04.486718Z",
     "iopub.status.busy": "2024-09-11T04:32:04.486261Z",
     "iopub.status.idle": "2024-09-11T04:32:04.555222Z",
     "shell.execute_reply": "2024-09-11T04:32:04.554668Z"
    },
    "papermill": {
     "duration": 0.084119,
     "end_time": "2024-09-11T04:32:04.556831",
     "exception": false,
     "start_time": "2024-09-11T04:32:04.472712",
     "status": "completed"
    },
    "tags": [
     "hide-input"
    ]
   },
   "outputs": [
    {
     "data": {
      "text/html": [
       "<div>\n",
       "<style scoped>\n",
       "    .dataframe tbody tr th:only-of-type {\n",
       "        vertical-align: middle;\n",
       "    }\n",
       "\n",
       "    .dataframe tbody tr th {\n",
       "        vertical-align: top;\n",
       "    }\n",
       "\n",
       "    .dataframe thead th {\n",
       "        text-align: right;\n",
       "    }\n",
       "</style>\n",
       "<table border=\"1\" class=\"dataframe\">\n",
       "  <thead>\n",
       "    <tr style=\"text-align: right;\">\n",
       "      <th>protein groups</th>\n",
       "      <th>A0A024QZX5;A0A087X1N8;P35237</th>\n",
       "      <th>A0A024R0T9;K7ER74;P02655</th>\n",
       "      <th>A0A024R3W6;A0A024R412;O60462;O60462-2;O60462-3;O60462-4;O60462-5;Q7LBX6;X5D2Q8</th>\n",
       "      <th>A0A024R644;A0A0A0MRU5;A0A1B0GWI2;O75503</th>\n",
       "      <th>A0A075B6H7</th>\n",
       "      <th>A0A075B6H9</th>\n",
       "      <th>A0A075B6I0</th>\n",
       "      <th>A0A075B6I1</th>\n",
       "      <th>A0A075B6I6</th>\n",
       "      <th>A0A075B6I9</th>\n",
       "      <th>...</th>\n",
       "      <th>Q9Y653;Q9Y653-2;Q9Y653-3</th>\n",
       "      <th>Q9Y696</th>\n",
       "      <th>Q9Y6C2</th>\n",
       "      <th>Q9Y6N6</th>\n",
       "      <th>Q9Y6N7;Q9Y6N7-2;Q9Y6N7-4</th>\n",
       "      <th>Q9Y6R7</th>\n",
       "      <th>Q9Y6X5</th>\n",
       "      <th>Q9Y6Y8;Q9Y6Y8-2</th>\n",
       "      <th>Q9Y6Y9</th>\n",
       "      <th>S4R3U6</th>\n",
       "    </tr>\n",
       "    <tr>\n",
       "      <th>Sample ID</th>\n",
       "      <th></th>\n",
       "      <th></th>\n",
       "      <th></th>\n",
       "      <th></th>\n",
       "      <th></th>\n",
       "      <th></th>\n",
       "      <th></th>\n",
       "      <th></th>\n",
       "      <th></th>\n",
       "      <th></th>\n",
       "      <th></th>\n",
       "      <th></th>\n",
       "      <th></th>\n",
       "      <th></th>\n",
       "      <th></th>\n",
       "      <th></th>\n",
       "      <th></th>\n",
       "      <th></th>\n",
       "      <th></th>\n",
       "      <th></th>\n",
       "      <th></th>\n",
       "    </tr>\n",
       "  </thead>\n",
       "  <tbody>\n",
       "    <tr>\n",
       "      <th>Sample_000</th>\n",
       "      <td>15.912</td>\n",
       "      <td>16.852</td>\n",
       "      <td>15.570</td>\n",
       "      <td>16.481</td>\n",
       "      <td>17.301</td>\n",
       "      <td>20.246</td>\n",
       "      <td>16.764</td>\n",
       "      <td>17.584</td>\n",
       "      <td>16.988</td>\n",
       "      <td>20.054</td>\n",
       "      <td>...</td>\n",
       "      <td>16.012</td>\n",
       "      <td>15.178</td>\n",
       "      <td>14.256</td>\n",
       "      <td>15.050</td>\n",
       "      <td>16.842</td>\n",
       "      <td>19.863</td>\n",
       "      <td>15.328</td>\n",
       "      <td>19.563</td>\n",
       "      <td>12.837</td>\n",
       "      <td>12.805</td>\n",
       "    </tr>\n",
       "    <tr>\n",
       "      <th>Sample_001</th>\n",
       "      <td>15.936</td>\n",
       "      <td>16.874</td>\n",
       "      <td>15.519</td>\n",
       "      <td>16.387</td>\n",
       "      <td>13.796</td>\n",
       "      <td>19.941</td>\n",
       "      <td>18.786</td>\n",
       "      <td>17.144</td>\n",
       "      <td>16.242</td>\n",
       "      <td>19.067</td>\n",
       "      <td>...</td>\n",
       "      <td>15.528</td>\n",
       "      <td>15.576</td>\n",
       "      <td>14.256</td>\n",
       "      <td>14.833</td>\n",
       "      <td>16.597</td>\n",
       "      <td>20.299</td>\n",
       "      <td>15.556</td>\n",
       "      <td>19.386</td>\n",
       "      <td>13.970</td>\n",
       "      <td>12.442</td>\n",
       "    </tr>\n",
       "    <tr>\n",
       "      <th>Sample_002</th>\n",
       "      <td>16.111</td>\n",
       "      <td>14.523</td>\n",
       "      <td>15.935</td>\n",
       "      <td>16.416</td>\n",
       "      <td>18.175</td>\n",
       "      <td>19.251</td>\n",
       "      <td>16.832</td>\n",
       "      <td>15.671</td>\n",
       "      <td>17.012</td>\n",
       "      <td>18.569</td>\n",
       "      <td>...</td>\n",
       "      <td>15.229</td>\n",
       "      <td>14.728</td>\n",
       "      <td>13.757</td>\n",
       "      <td>15.118</td>\n",
       "      <td>17.440</td>\n",
       "      <td>19.598</td>\n",
       "      <td>15.735</td>\n",
       "      <td>20.447</td>\n",
       "      <td>12.636</td>\n",
       "      <td>12.505</td>\n",
       "    </tr>\n",
       "    <tr>\n",
       "      <th>Sample_003</th>\n",
       "      <td>16.107</td>\n",
       "      <td>17.032</td>\n",
       "      <td>15.802</td>\n",
       "      <td>16.979</td>\n",
       "      <td>15.963</td>\n",
       "      <td>19.628</td>\n",
       "      <td>17.852</td>\n",
       "      <td>18.877</td>\n",
       "      <td>14.182</td>\n",
       "      <td>18.985</td>\n",
       "      <td>...</td>\n",
       "      <td>15.495</td>\n",
       "      <td>14.590</td>\n",
       "      <td>14.682</td>\n",
       "      <td>15.140</td>\n",
       "      <td>17.356</td>\n",
       "      <td>19.429</td>\n",
       "      <td>15.328</td>\n",
       "      <td>20.216</td>\n",
       "      <td>12.627</td>\n",
       "      <td>12.445</td>\n",
       "    </tr>\n",
       "    <tr>\n",
       "      <th>Sample_004</th>\n",
       "      <td>15.603</td>\n",
       "      <td>15.331</td>\n",
       "      <td>15.375</td>\n",
       "      <td>16.679</td>\n",
       "      <td>15.473</td>\n",
       "      <td>20.450</td>\n",
       "      <td>18.682</td>\n",
       "      <td>17.081</td>\n",
       "      <td>14.140</td>\n",
       "      <td>19.686</td>\n",
       "      <td>...</td>\n",
       "      <td>14.757</td>\n",
       "      <td>15.094</td>\n",
       "      <td>14.048</td>\n",
       "      <td>15.256</td>\n",
       "      <td>17.075</td>\n",
       "      <td>19.582</td>\n",
       "      <td>15.328</td>\n",
       "      <td>19.867</td>\n",
       "      <td>13.145</td>\n",
       "      <td>12.235</td>\n",
       "    </tr>\n",
       "    <tr>\n",
       "      <th>...</th>\n",
       "      <td>...</td>\n",
       "      <td>...</td>\n",
       "      <td>...</td>\n",
       "      <td>...</td>\n",
       "      <td>...</td>\n",
       "      <td>...</td>\n",
       "      <td>...</td>\n",
       "      <td>...</td>\n",
       "      <td>...</td>\n",
       "      <td>...</td>\n",
       "      <td>...</td>\n",
       "      <td>...</td>\n",
       "      <td>...</td>\n",
       "      <td>...</td>\n",
       "      <td>...</td>\n",
       "      <td>...</td>\n",
       "      <td>...</td>\n",
       "      <td>...</td>\n",
       "      <td>...</td>\n",
       "      <td>...</td>\n",
       "      <td>...</td>\n",
       "    </tr>\n",
       "    <tr>\n",
       "      <th>Sample_205</th>\n",
       "      <td>15.682</td>\n",
       "      <td>16.886</td>\n",
       "      <td>14.910</td>\n",
       "      <td>16.482</td>\n",
       "      <td>16.722</td>\n",
       "      <td>17.705</td>\n",
       "      <td>17.039</td>\n",
       "      <td>17.501</td>\n",
       "      <td>16.413</td>\n",
       "      <td>19.102</td>\n",
       "      <td>...</td>\n",
       "      <td>15.235</td>\n",
       "      <td>15.684</td>\n",
       "      <td>14.236</td>\n",
       "      <td>15.415</td>\n",
       "      <td>17.551</td>\n",
       "      <td>17.922</td>\n",
       "      <td>16.340</td>\n",
       "      <td>19.928</td>\n",
       "      <td>12.929</td>\n",
       "      <td>11.802</td>\n",
       "    </tr>\n",
       "    <tr>\n",
       "      <th>Sample_206</th>\n",
       "      <td>15.798</td>\n",
       "      <td>17.554</td>\n",
       "      <td>15.600</td>\n",
       "      <td>15.938</td>\n",
       "      <td>16.722</td>\n",
       "      <td>18.154</td>\n",
       "      <td>18.152</td>\n",
       "      <td>16.503</td>\n",
       "      <td>16.860</td>\n",
       "      <td>18.538</td>\n",
       "      <td>...</td>\n",
       "      <td>15.422</td>\n",
       "      <td>16.106</td>\n",
       "      <td>14.256</td>\n",
       "      <td>15.345</td>\n",
       "      <td>17.084</td>\n",
       "      <td>18.708</td>\n",
       "      <td>14.249</td>\n",
       "      <td>19.433</td>\n",
       "      <td>12.408</td>\n",
       "      <td>11.404</td>\n",
       "    </tr>\n",
       "    <tr>\n",
       "      <th>Sample_207</th>\n",
       "      <td>15.739</td>\n",
       "      <td>16.877</td>\n",
       "      <td>15.469</td>\n",
       "      <td>16.898</td>\n",
       "      <td>16.722</td>\n",
       "      <td>18.636</td>\n",
       "      <td>17.950</td>\n",
       "      <td>16.321</td>\n",
       "      <td>16.401</td>\n",
       "      <td>18.849</td>\n",
       "      <td>...</td>\n",
       "      <td>15.808</td>\n",
       "      <td>16.098</td>\n",
       "      <td>14.403</td>\n",
       "      <td>15.715</td>\n",
       "      <td>16.586</td>\n",
       "      <td>18.725</td>\n",
       "      <td>16.138</td>\n",
       "      <td>19.599</td>\n",
       "      <td>13.637</td>\n",
       "      <td>11.174</td>\n",
       "    </tr>\n",
       "    <tr>\n",
       "      <th>Sample_208</th>\n",
       "      <td>15.477</td>\n",
       "      <td>16.779</td>\n",
       "      <td>14.995</td>\n",
       "      <td>16.132</td>\n",
       "      <td>16.722</td>\n",
       "      <td>14.908</td>\n",
       "      <td>17.530</td>\n",
       "      <td>17.501</td>\n",
       "      <td>16.119</td>\n",
       "      <td>18.368</td>\n",
       "      <td>...</td>\n",
       "      <td>15.157</td>\n",
       "      <td>16.712</td>\n",
       "      <td>14.256</td>\n",
       "      <td>14.640</td>\n",
       "      <td>16.533</td>\n",
       "      <td>19.411</td>\n",
       "      <td>15.807</td>\n",
       "      <td>19.545</td>\n",
       "      <td>13.216</td>\n",
       "      <td>11.404</td>\n",
       "    </tr>\n",
       "    <tr>\n",
       "      <th>Sample_209</th>\n",
       "      <td>15.727</td>\n",
       "      <td>17.261</td>\n",
       "      <td>15.175</td>\n",
       "      <td>16.235</td>\n",
       "      <td>16.722</td>\n",
       "      <td>17.893</td>\n",
       "      <td>17.744</td>\n",
       "      <td>16.371</td>\n",
       "      <td>15.780</td>\n",
       "      <td>18.806</td>\n",
       "      <td>...</td>\n",
       "      <td>15.237</td>\n",
       "      <td>15.652</td>\n",
       "      <td>15.211</td>\n",
       "      <td>14.205</td>\n",
       "      <td>16.749</td>\n",
       "      <td>19.275</td>\n",
       "      <td>15.732</td>\n",
       "      <td>19.577</td>\n",
       "      <td>11.042</td>\n",
       "      <td>11.791</td>\n",
       "    </tr>\n",
       "  </tbody>\n",
       "</table>\n",
       "<p>210 rows × 1421 columns</p>\n",
       "</div>"
      ],
      "text/plain": [
       "protein groups  A0A024QZX5;A0A087X1N8;P35237  A0A024R0T9;K7ER74;P02655  \\\n",
       "Sample ID                                                                \n",
       "Sample_000                            15.912                    16.852   \n",
       "Sample_001                            15.936                    16.874   \n",
       "Sample_002                            16.111                    14.523   \n",
       "Sample_003                            16.107                    17.032   \n",
       "Sample_004                            15.603                    15.331   \n",
       "...                                      ...                       ...   \n",
       "Sample_205                            15.682                    16.886   \n",
       "Sample_206                            15.798                    17.554   \n",
       "Sample_207                            15.739                    16.877   \n",
       "Sample_208                            15.477                    16.779   \n",
       "Sample_209                            15.727                    17.261   \n",
       "\n",
       "protein groups  A0A024R3W6;A0A024R412;O60462;O60462-2;O60462-3;O60462-4;O60462-5;Q7LBX6;X5D2Q8  \\\n",
       "Sample ID                                                                                        \n",
       "Sample_000                                                 15.570                                \n",
       "Sample_001                                                 15.519                                \n",
       "Sample_002                                                 15.935                                \n",
       "Sample_003                                                 15.802                                \n",
       "Sample_004                                                 15.375                                \n",
       "...                                                           ...                                \n",
       "Sample_205                                                 14.910                                \n",
       "Sample_206                                                 15.600                                \n",
       "Sample_207                                                 15.469                                \n",
       "Sample_208                                                 14.995                                \n",
       "Sample_209                                                 15.175                                \n",
       "\n",
       "protein groups  A0A024R644;A0A0A0MRU5;A0A1B0GWI2;O75503  A0A075B6H7  \\\n",
       "Sample ID                                                             \n",
       "Sample_000                                       16.481      17.301   \n",
       "Sample_001                                       16.387      13.796   \n",
       "Sample_002                                       16.416      18.175   \n",
       "Sample_003                                       16.979      15.963   \n",
       "Sample_004                                       16.679      15.473   \n",
       "...                                                 ...         ...   \n",
       "Sample_205                                       16.482      16.722   \n",
       "Sample_206                                       15.938      16.722   \n",
       "Sample_207                                       16.898      16.722   \n",
       "Sample_208                                       16.132      16.722   \n",
       "Sample_209                                       16.235      16.722   \n",
       "\n",
       "protein groups  A0A075B6H9  A0A075B6I0  A0A075B6I1  A0A075B6I6  A0A075B6I9  \\\n",
       "Sample ID                                                                    \n",
       "Sample_000          20.246      16.764      17.584      16.988      20.054   \n",
       "Sample_001          19.941      18.786      17.144      16.242      19.067   \n",
       "Sample_002          19.251      16.832      15.671      17.012      18.569   \n",
       "Sample_003          19.628      17.852      18.877      14.182      18.985   \n",
       "Sample_004          20.450      18.682      17.081      14.140      19.686   \n",
       "...                    ...         ...         ...         ...         ...   \n",
       "Sample_205          17.705      17.039      17.501      16.413      19.102   \n",
       "Sample_206          18.154      18.152      16.503      16.860      18.538   \n",
       "Sample_207          18.636      17.950      16.321      16.401      18.849   \n",
       "Sample_208          14.908      17.530      17.501      16.119      18.368   \n",
       "Sample_209          17.893      17.744      16.371      15.780      18.806   \n",
       "\n",
       "protein groups  ...  Q9Y653;Q9Y653-2;Q9Y653-3  Q9Y696  Q9Y6C2  Q9Y6N6  \\\n",
       "Sample ID       ...                                                     \n",
       "Sample_000      ...                    16.012  15.178  14.256  15.050   \n",
       "Sample_001      ...                    15.528  15.576  14.256  14.833   \n",
       "Sample_002      ...                    15.229  14.728  13.757  15.118   \n",
       "Sample_003      ...                    15.495  14.590  14.682  15.140   \n",
       "Sample_004      ...                    14.757  15.094  14.048  15.256   \n",
       "...             ...                       ...     ...     ...     ...   \n",
       "Sample_205      ...                    15.235  15.684  14.236  15.415   \n",
       "Sample_206      ...                    15.422  16.106  14.256  15.345   \n",
       "Sample_207      ...                    15.808  16.098  14.403  15.715   \n",
       "Sample_208      ...                    15.157  16.712  14.256  14.640   \n",
       "Sample_209      ...                    15.237  15.652  15.211  14.205   \n",
       "\n",
       "protein groups  Q9Y6N7;Q9Y6N7-2;Q9Y6N7-4  Q9Y6R7  Q9Y6X5  Q9Y6Y8;Q9Y6Y8-2  \\\n",
       "Sample ID                                                                   \n",
       "Sample_000                        16.842  19.863  15.328           19.563   \n",
       "Sample_001                        16.597  20.299  15.556           19.386   \n",
       "Sample_002                        17.440  19.598  15.735           20.447   \n",
       "Sample_003                        17.356  19.429  15.328           20.216   \n",
       "Sample_004                        17.075  19.582  15.328           19.867   \n",
       "...                                  ...     ...     ...              ...   \n",
       "Sample_205                        17.551  17.922  16.340           19.928   \n",
       "Sample_206                        17.084  18.708  14.249           19.433   \n",
       "Sample_207                        16.586  18.725  16.138           19.599   \n",
       "Sample_208                        16.533  19.411  15.807           19.545   \n",
       "Sample_209                        16.749  19.275  15.732           19.577   \n",
       "\n",
       "protein groups  Q9Y6Y9  S4R3U6  \n",
       "Sample ID                       \n",
       "Sample_000      12.837  12.805  \n",
       "Sample_001      13.970  12.442  \n",
       "Sample_002      12.636  12.505  \n",
       "Sample_003      12.627  12.445  \n",
       "Sample_004      13.145  12.235  \n",
       "...                ...     ...  \n",
       "Sample_205      12.929  11.802  \n",
       "Sample_206      12.408  11.404  \n",
       "Sample_207      13.637  11.174  \n",
       "Sample_208      13.216  11.404  \n",
       "Sample_209      11.042  11.791  \n",
       "\n",
       "[210 rows x 1421 columns]"
      ]
     },
     "execution_count": 11,
     "metadata": {},
     "output_type": "execute_result"
    }
   ],
   "source": [
    "X = pd.concat([data, pred_real_na]).unstack()\n",
    "X"
   ]
  },
  {
   "cell_type": "markdown",
   "id": "0c92c7bd",
   "metadata": {
    "papermill": {
     "duration": 0.014038,
     "end_time": "2024-09-11T04:32:04.585078",
     "exception": false,
     "start_time": "2024-09-11T04:32:04.571040",
     "status": "completed"
    },
    "tags": []
   },
   "source": [
    "### Subset of data by ALD criteria"
   ]
  },
  {
   "cell_type": "code",
   "execution_count": 12,
   "id": "a387dd6f",
   "metadata": {
    "execution": {
     "iopub.execute_input": "2024-09-11T04:32:04.612835Z",
     "iopub.status.busy": "2024-09-11T04:32:04.612343Z",
     "iopub.status.idle": "2024-09-11T04:32:04.706331Z",
     "shell.execute_reply": "2024-09-11T04:32:04.705716Z"
    },
    "papermill": {
     "duration": 0.109886,
     "end_time": "2024-09-11T04:32:04.707945",
     "exception": false,
     "start_time": "2024-09-11T04:32:04.598059",
     "status": "completed"
    },
    "tags": [
     "hide-input"
    ]
   },
   "outputs": [
    {
     "data": {
      "text/html": [
       "<div>\n",
       "<style scoped>\n",
       "    .dataframe tbody tr th:only-of-type {\n",
       "        vertical-align: middle;\n",
       "    }\n",
       "\n",
       "    .dataframe tbody tr th {\n",
       "        vertical-align: top;\n",
       "    }\n",
       "\n",
       "    .dataframe thead th {\n",
       "        text-align: right;\n",
       "    }\n",
       "</style>\n",
       "<table border=\"1\" class=\"dataframe\">\n",
       "  <thead>\n",
       "    <tr style=\"text-align: right;\">\n",
       "      <th>protein groups</th>\n",
       "      <th>A0A024QZX5;A0A087X1N8;P35237</th>\n",
       "      <th>A0A024R0T9;K7ER74;P02655</th>\n",
       "      <th>A0A024R3W6;A0A024R412;O60462;O60462-2;O60462-3;O60462-4;O60462-5;Q7LBX6;X5D2Q8</th>\n",
       "      <th>A0A024R644;A0A0A0MRU5;A0A1B0GWI2;O75503</th>\n",
       "      <th>A0A075B6H9</th>\n",
       "      <th>A0A075B6I0</th>\n",
       "      <th>A0A075B6I1</th>\n",
       "      <th>A0A075B6I6</th>\n",
       "      <th>A0A075B6I9</th>\n",
       "      <th>A0A075B6K4</th>\n",
       "      <th>...</th>\n",
       "      <th>O14793</th>\n",
       "      <th>O95479;R4GMU1</th>\n",
       "      <th>P01282;P01282-2</th>\n",
       "      <th>P10619;P10619-2;X6R5C5;X6R8A1</th>\n",
       "      <th>P21810</th>\n",
       "      <th>Q14956;Q14956-2</th>\n",
       "      <th>Q6ZMP0;Q6ZMP0-2</th>\n",
       "      <th>Q9HBW1</th>\n",
       "      <th>Q9NY15</th>\n",
       "      <th>P17050</th>\n",
       "    </tr>\n",
       "    <tr>\n",
       "      <th>Sample ID</th>\n",
       "      <th></th>\n",
       "      <th></th>\n",
       "      <th></th>\n",
       "      <th></th>\n",
       "      <th></th>\n",
       "      <th></th>\n",
       "      <th></th>\n",
       "      <th></th>\n",
       "      <th></th>\n",
       "      <th></th>\n",
       "      <th></th>\n",
       "      <th></th>\n",
       "      <th></th>\n",
       "      <th></th>\n",
       "      <th></th>\n",
       "      <th></th>\n",
       "      <th></th>\n",
       "      <th></th>\n",
       "      <th></th>\n",
       "      <th></th>\n",
       "      <th></th>\n",
       "    </tr>\n",
       "  </thead>\n",
       "  <tbody>\n",
       "    <tr>\n",
       "      <th>Sample_000</th>\n",
       "      <td>15.912</td>\n",
       "      <td>16.852</td>\n",
       "      <td>15.570</td>\n",
       "      <td>16.481</td>\n",
       "      <td>20.246</td>\n",
       "      <td>16.764</td>\n",
       "      <td>17.584</td>\n",
       "      <td>16.988</td>\n",
       "      <td>20.054</td>\n",
       "      <td>16.148</td>\n",
       "      <td>...</td>\n",
       "      <td>12.116</td>\n",
       "      <td>15.425</td>\n",
       "      <td>12.067</td>\n",
       "      <td>13.153</td>\n",
       "      <td>14.623</td>\n",
       "      <td>12.772</td>\n",
       "      <td>11.870</td>\n",
       "      <td>14.694</td>\n",
       "      <td>11.587</td>\n",
       "      <td>12.326</td>\n",
       "    </tr>\n",
       "    <tr>\n",
       "      <th>Sample_001</th>\n",
       "      <td>15.936</td>\n",
       "      <td>16.874</td>\n",
       "      <td>15.519</td>\n",
       "      <td>16.387</td>\n",
       "      <td>19.941</td>\n",
       "      <td>18.786</td>\n",
       "      <td>17.144</td>\n",
       "      <td>11.935</td>\n",
       "      <td>19.067</td>\n",
       "      <td>16.127</td>\n",
       "      <td>...</td>\n",
       "      <td>12.401</td>\n",
       "      <td>13.134</td>\n",
       "      <td>13.497</td>\n",
       "      <td>12.986</td>\n",
       "      <td>13.289</td>\n",
       "      <td>13.376</td>\n",
       "      <td>12.795</td>\n",
       "      <td>12.728</td>\n",
       "      <td>12.993</td>\n",
       "      <td>13.400</td>\n",
       "    </tr>\n",
       "    <tr>\n",
       "      <th>Sample_002</th>\n",
       "      <td>16.111</td>\n",
       "      <td>14.523</td>\n",
       "      <td>15.935</td>\n",
       "      <td>16.416</td>\n",
       "      <td>19.251</td>\n",
       "      <td>16.832</td>\n",
       "      <td>15.671</td>\n",
       "      <td>17.012</td>\n",
       "      <td>18.569</td>\n",
       "      <td>15.387</td>\n",
       "      <td>...</td>\n",
       "      <td>13.586</td>\n",
       "      <td>12.419</td>\n",
       "      <td>12.997</td>\n",
       "      <td>12.570</td>\n",
       "      <td>13.099</td>\n",
       "      <td>12.824</td>\n",
       "      <td>12.943</td>\n",
       "      <td>12.691</td>\n",
       "      <td>11.543</td>\n",
       "      <td>12.050</td>\n",
       "    </tr>\n",
       "    <tr>\n",
       "      <th>Sample_003</th>\n",
       "      <td>16.107</td>\n",
       "      <td>17.032</td>\n",
       "      <td>15.802</td>\n",
       "      <td>16.979</td>\n",
       "      <td>19.628</td>\n",
       "      <td>17.852</td>\n",
       "      <td>18.877</td>\n",
       "      <td>14.182</td>\n",
       "      <td>18.985</td>\n",
       "      <td>16.565</td>\n",
       "      <td>...</td>\n",
       "      <td>13.629</td>\n",
       "      <td>12.578</td>\n",
       "      <td>13.676</td>\n",
       "      <td>13.049</td>\n",
       "      <td>12.384</td>\n",
       "      <td>12.814</td>\n",
       "      <td>13.881</td>\n",
       "      <td>12.764</td>\n",
       "      <td>11.992</td>\n",
       "      <td>11.932</td>\n",
       "    </tr>\n",
       "    <tr>\n",
       "      <th>Sample_004</th>\n",
       "      <td>15.603</td>\n",
       "      <td>15.331</td>\n",
       "      <td>15.375</td>\n",
       "      <td>16.679</td>\n",
       "      <td>20.450</td>\n",
       "      <td>18.682</td>\n",
       "      <td>17.081</td>\n",
       "      <td>14.140</td>\n",
       "      <td>19.686</td>\n",
       "      <td>16.418</td>\n",
       "      <td>...</td>\n",
       "      <td>13.035</td>\n",
       "      <td>13.720</td>\n",
       "      <td>13.166</td>\n",
       "      <td>12.357</td>\n",
       "      <td>12.870</td>\n",
       "      <td>13.057</td>\n",
       "      <td>12.300</td>\n",
       "      <td>12.210</td>\n",
       "      <td>13.159</td>\n",
       "      <td>12.664</td>\n",
       "    </tr>\n",
       "    <tr>\n",
       "      <th>...</th>\n",
       "      <td>...</td>\n",
       "      <td>...</td>\n",
       "      <td>...</td>\n",
       "      <td>...</td>\n",
       "      <td>...</td>\n",
       "      <td>...</td>\n",
       "      <td>...</td>\n",
       "      <td>...</td>\n",
       "      <td>...</td>\n",
       "      <td>...</td>\n",
       "      <td>...</td>\n",
       "      <td>...</td>\n",
       "      <td>...</td>\n",
       "      <td>...</td>\n",
       "      <td>...</td>\n",
       "      <td>...</td>\n",
       "      <td>...</td>\n",
       "      <td>...</td>\n",
       "      <td>...</td>\n",
       "      <td>...</td>\n",
       "      <td>...</td>\n",
       "    </tr>\n",
       "    <tr>\n",
       "      <th>Sample_205</th>\n",
       "      <td>15.682</td>\n",
       "      <td>16.886</td>\n",
       "      <td>14.910</td>\n",
       "      <td>16.482</td>\n",
       "      <td>17.705</td>\n",
       "      <td>17.039</td>\n",
       "      <td>12.783</td>\n",
       "      <td>16.413</td>\n",
       "      <td>19.102</td>\n",
       "      <td>15.350</td>\n",
       "      <td>...</td>\n",
       "      <td>14.269</td>\n",
       "      <td>14.064</td>\n",
       "      <td>16.826</td>\n",
       "      <td>18.182</td>\n",
       "      <td>15.225</td>\n",
       "      <td>15.044</td>\n",
       "      <td>14.192</td>\n",
       "      <td>16.605</td>\n",
       "      <td>14.995</td>\n",
       "      <td>14.257</td>\n",
       "    </tr>\n",
       "    <tr>\n",
       "      <th>Sample_206</th>\n",
       "      <td>15.798</td>\n",
       "      <td>17.554</td>\n",
       "      <td>15.600</td>\n",
       "      <td>15.938</td>\n",
       "      <td>18.154</td>\n",
       "      <td>18.152</td>\n",
       "      <td>16.503</td>\n",
       "      <td>16.860</td>\n",
       "      <td>18.538</td>\n",
       "      <td>16.582</td>\n",
       "      <td>...</td>\n",
       "      <td>14.273</td>\n",
       "      <td>17.700</td>\n",
       "      <td>16.802</td>\n",
       "      <td>20.202</td>\n",
       "      <td>15.280</td>\n",
       "      <td>15.086</td>\n",
       "      <td>13.978</td>\n",
       "      <td>18.086</td>\n",
       "      <td>15.557</td>\n",
       "      <td>14.171</td>\n",
       "    </tr>\n",
       "    <tr>\n",
       "      <th>Sample_207</th>\n",
       "      <td>15.739</td>\n",
       "      <td>16.877</td>\n",
       "      <td>15.469</td>\n",
       "      <td>16.898</td>\n",
       "      <td>18.636</td>\n",
       "      <td>17.950</td>\n",
       "      <td>16.321</td>\n",
       "      <td>16.401</td>\n",
       "      <td>18.849</td>\n",
       "      <td>15.768</td>\n",
       "      <td>...</td>\n",
       "      <td>14.473</td>\n",
       "      <td>16.882</td>\n",
       "      <td>16.917</td>\n",
       "      <td>20.105</td>\n",
       "      <td>15.690</td>\n",
       "      <td>15.135</td>\n",
       "      <td>13.138</td>\n",
       "      <td>17.066</td>\n",
       "      <td>15.706</td>\n",
       "      <td>15.690</td>\n",
       "    </tr>\n",
       "    <tr>\n",
       "      <th>Sample_208</th>\n",
       "      <td>15.477</td>\n",
       "      <td>16.779</td>\n",
       "      <td>14.995</td>\n",
       "      <td>16.132</td>\n",
       "      <td>14.908</td>\n",
       "      <td>17.530</td>\n",
       "      <td>14.503</td>\n",
       "      <td>16.119</td>\n",
       "      <td>18.368</td>\n",
       "      <td>17.560</td>\n",
       "      <td>...</td>\n",
       "      <td>15.234</td>\n",
       "      <td>17.175</td>\n",
       "      <td>16.521</td>\n",
       "      <td>18.859</td>\n",
       "      <td>15.305</td>\n",
       "      <td>15.161</td>\n",
       "      <td>13.006</td>\n",
       "      <td>17.917</td>\n",
       "      <td>15.396</td>\n",
       "      <td>14.371</td>\n",
       "    </tr>\n",
       "    <tr>\n",
       "      <th>Sample_209</th>\n",
       "      <td>15.727</td>\n",
       "      <td>17.261</td>\n",
       "      <td>15.175</td>\n",
       "      <td>16.235</td>\n",
       "      <td>17.893</td>\n",
       "      <td>17.744</td>\n",
       "      <td>16.371</td>\n",
       "      <td>15.780</td>\n",
       "      <td>18.806</td>\n",
       "      <td>16.338</td>\n",
       "      <td>...</td>\n",
       "      <td>14.556</td>\n",
       "      <td>16.656</td>\n",
       "      <td>16.954</td>\n",
       "      <td>18.493</td>\n",
       "      <td>15.823</td>\n",
       "      <td>14.626</td>\n",
       "      <td>13.385</td>\n",
       "      <td>17.767</td>\n",
       "      <td>15.687</td>\n",
       "      <td>13.573</td>\n",
       "    </tr>\n",
       "  </tbody>\n",
       "</table>\n",
       "<p>210 rows × 1213 columns</p>\n",
       "</div>"
      ],
      "text/plain": [
       "protein groups  A0A024QZX5;A0A087X1N8;P35237  A0A024R0T9;K7ER74;P02655  \\\n",
       "Sample ID                                                                \n",
       "Sample_000                            15.912                    16.852   \n",
       "Sample_001                            15.936                    16.874   \n",
       "Sample_002                            16.111                    14.523   \n",
       "Sample_003                            16.107                    17.032   \n",
       "Sample_004                            15.603                    15.331   \n",
       "...                                      ...                       ...   \n",
       "Sample_205                            15.682                    16.886   \n",
       "Sample_206                            15.798                    17.554   \n",
       "Sample_207                            15.739                    16.877   \n",
       "Sample_208                            15.477                    16.779   \n",
       "Sample_209                            15.727                    17.261   \n",
       "\n",
       "protein groups  A0A024R3W6;A0A024R412;O60462;O60462-2;O60462-3;O60462-4;O60462-5;Q7LBX6;X5D2Q8  \\\n",
       "Sample ID                                                                                        \n",
       "Sample_000                                                 15.570                                \n",
       "Sample_001                                                 15.519                                \n",
       "Sample_002                                                 15.935                                \n",
       "Sample_003                                                 15.802                                \n",
       "Sample_004                                                 15.375                                \n",
       "...                                                           ...                                \n",
       "Sample_205                                                 14.910                                \n",
       "Sample_206                                                 15.600                                \n",
       "Sample_207                                                 15.469                                \n",
       "Sample_208                                                 14.995                                \n",
       "Sample_209                                                 15.175                                \n",
       "\n",
       "protein groups  A0A024R644;A0A0A0MRU5;A0A1B0GWI2;O75503  A0A075B6H9  \\\n",
       "Sample ID                                                             \n",
       "Sample_000                                       16.481      20.246   \n",
       "Sample_001                                       16.387      19.941   \n",
       "Sample_002                                       16.416      19.251   \n",
       "Sample_003                                       16.979      19.628   \n",
       "Sample_004                                       16.679      20.450   \n",
       "...                                                 ...         ...   \n",
       "Sample_205                                       16.482      17.705   \n",
       "Sample_206                                       15.938      18.154   \n",
       "Sample_207                                       16.898      18.636   \n",
       "Sample_208                                       16.132      14.908   \n",
       "Sample_209                                       16.235      17.893   \n",
       "\n",
       "protein groups  A0A075B6I0  A0A075B6I1  A0A075B6I6  A0A075B6I9  A0A075B6K4  \\\n",
       "Sample ID                                                                    \n",
       "Sample_000          16.764      17.584      16.988      20.054      16.148   \n",
       "Sample_001          18.786      17.144      11.935      19.067      16.127   \n",
       "Sample_002          16.832      15.671      17.012      18.569      15.387   \n",
       "Sample_003          17.852      18.877      14.182      18.985      16.565   \n",
       "Sample_004          18.682      17.081      14.140      19.686      16.418   \n",
       "...                    ...         ...         ...         ...         ...   \n",
       "Sample_205          17.039      12.783      16.413      19.102      15.350   \n",
       "Sample_206          18.152      16.503      16.860      18.538      16.582   \n",
       "Sample_207          17.950      16.321      16.401      18.849      15.768   \n",
       "Sample_208          17.530      14.503      16.119      18.368      17.560   \n",
       "Sample_209          17.744      16.371      15.780      18.806      16.338   \n",
       "\n",
       "protein groups  ...  O14793  O95479;R4GMU1  P01282;P01282-2  \\\n",
       "Sample ID       ...                                           \n",
       "Sample_000      ...  12.116         15.425           12.067   \n",
       "Sample_001      ...  12.401         13.134           13.497   \n",
       "Sample_002      ...  13.586         12.419           12.997   \n",
       "Sample_003      ...  13.629         12.578           13.676   \n",
       "Sample_004      ...  13.035         13.720           13.166   \n",
       "...             ...     ...            ...              ...   \n",
       "Sample_205      ...  14.269         14.064           16.826   \n",
       "Sample_206      ...  14.273         17.700           16.802   \n",
       "Sample_207      ...  14.473         16.882           16.917   \n",
       "Sample_208      ...  15.234         17.175           16.521   \n",
       "Sample_209      ...  14.556         16.656           16.954   \n",
       "\n",
       "protein groups  P10619;P10619-2;X6R5C5;X6R8A1  P21810  Q14956;Q14956-2  \\\n",
       "Sample ID                                                                \n",
       "Sample_000                             13.153  14.623           12.772   \n",
       "Sample_001                             12.986  13.289           13.376   \n",
       "Sample_002                             12.570  13.099           12.824   \n",
       "Sample_003                             13.049  12.384           12.814   \n",
       "Sample_004                             12.357  12.870           13.057   \n",
       "...                                       ...     ...              ...   \n",
       "Sample_205                             18.182  15.225           15.044   \n",
       "Sample_206                             20.202  15.280           15.086   \n",
       "Sample_207                             20.105  15.690           15.135   \n",
       "Sample_208                             18.859  15.305           15.161   \n",
       "Sample_209                             18.493  15.823           14.626   \n",
       "\n",
       "protein groups  Q6ZMP0;Q6ZMP0-2  Q9HBW1  Q9NY15  P17050  \n",
       "Sample ID                                                \n",
       "Sample_000               11.870  14.694  11.587  12.326  \n",
       "Sample_001               12.795  12.728  12.993  13.400  \n",
       "Sample_002               12.943  12.691  11.543  12.050  \n",
       "Sample_003               13.881  12.764  11.992  11.932  \n",
       "Sample_004               12.300  12.210  13.159  12.664  \n",
       "...                         ...     ...     ...     ...  \n",
       "Sample_205               14.192  16.605  14.995  14.257  \n",
       "Sample_206               13.978  18.086  15.557  14.171  \n",
       "Sample_207               13.138  17.066  15.706  15.690  \n",
       "Sample_208               13.006  17.917  15.396  14.371  \n",
       "Sample_209               13.385  17.767  15.687  13.573  \n",
       "\n",
       "[210 rows x 1213 columns]"
      ]
     },
     "execution_count": 12,
     "metadata": {},
     "output_type": "execute_result"
    }
   ],
   "source": [
    "# could be just observed, drop columns with missing values\n",
    "ald_study = pd.concat(\n",
    "    [ald_study.stack(),\n",
    "     pred_real_na_baseline.loc[\n",
    "        # only select columns in selected in ald_study\n",
    "        pd.IndexSlice[:, pred_real_na.index.levels[-1].intersection(ald_study.columns)]\n",
    "    ]\n",
    "    ]\n",
    ").unstack()\n",
    "ald_study"
   ]
  },
  {
   "cell_type": "markdown",
   "id": "f8c07f73",
   "metadata": {
    "papermill": {
     "duration": 0.014301,
     "end_time": "2024-09-11T04:32:04.737276",
     "exception": false,
     "start_time": "2024-09-11T04:32:04.722975",
     "status": "completed"
    },
    "tags": []
   },
   "source": [
    "Features which would not have been included using ALD criteria:"
   ]
  },
  {
   "cell_type": "code",
   "execution_count": 13,
   "id": "12b9d002",
   "metadata": {
    "execution": {
     "iopub.execute_input": "2024-09-11T04:32:04.775915Z",
     "iopub.status.busy": "2024-09-11T04:32:04.775487Z",
     "iopub.status.idle": "2024-09-11T04:32:04.780871Z",
     "shell.execute_reply": "2024-09-11T04:32:04.780196Z"
    },
    "papermill": {
     "duration": 0.022264,
     "end_time": "2024-09-11T04:32:04.783179",
     "exception": false,
     "start_time": "2024-09-11T04:32:04.760915",
     "status": "completed"
    },
    "tags": [
     "hide-input"
    ]
   },
   "outputs": [
    {
     "data": {
      "text/plain": [
       "Index(['A0A075B6H7', 'A0A075B6Q5', 'A0A075B7B8', 'A0A087WSY4',\n",
       "       'A0A087WTT8;A0A0A0MQX5;O94779;O94779-2', 'A0A087WXB8;Q9Y274',\n",
       "       'A0A087WXE9;E9PQ70;Q6UXH9;Q6UXH9-2;Q6UXH9-3',\n",
       "       'A0A087X1Z2;C9JTV4;H0Y4Y4;Q8WYH2;Q96C19;Q9BUP0;Q9BUP0-2',\n",
       "       'A0A0A0MQS9;A0A0A0MTC7;Q16363;Q16363-2', 'A0A0A0MSN4;P12821;P12821-2',\n",
       "       ...\n",
       "       'Q9NZ94;Q9NZ94-2;Q9NZ94-3', 'Q9NZU1', 'Q9P1W8;Q9P1W8-2;Q9P1W8-4',\n",
       "       'Q9UHI8', 'Q9UI40;Q9UI40-2',\n",
       "       'Q9UIB8;Q9UIB8-2;Q9UIB8-3;Q9UIB8-4;Q9UIB8-5;Q9UIB8-6',\n",
       "       'Q9UKZ4;Q9UKZ4-2', 'Q9UMX0;Q9UMX0-2;Q9UMX0-4', 'Q9Y281;Q9Y281-3',\n",
       "       'Q9Y490'],\n",
       "      dtype='object', name='protein groups', length=208)"
      ]
     },
     "execution_count": 13,
     "metadata": {},
     "output_type": "execute_result"
    }
   ],
   "source": [
    "new_features = X.columns.difference(ald_study.columns)\n",
    "new_features"
   ]
  },
  {
   "cell_type": "markdown",
   "id": "a8e67247-a2a1-4a2f-b838-0bdc9f40cfa9",
   "metadata": {
    "papermill": {
     "duration": 0.014016,
     "end_time": "2024-09-11T04:32:04.811605",
     "exception": false,
     "start_time": "2024-09-11T04:32:04.797589",
     "status": "completed"
    },
    "tags": []
   },
   "source": [
    "Binarize targets, but also keep groups for stratification"
   ]
  },
  {
   "cell_type": "code",
   "execution_count": 14,
   "id": "4aa1f404-427a-4e78-b98d-cb26bb1d1ec4",
   "metadata": {
    "execution": {
     "iopub.execute_input": "2024-09-11T04:32:04.841764Z",
     "iopub.status.busy": "2024-09-11T04:32:04.841330Z",
     "iopub.status.idle": "2024-09-11T04:32:04.857181Z",
     "shell.execute_reply": "2024-09-11T04:32:04.856586Z"
    },
    "papermill": {
     "duration": 0.032772,
     "end_time": "2024-09-11T04:32:04.858685",
     "exception": false,
     "start_time": "2024-09-11T04:32:04.825913",
     "status": "completed"
    },
    "tags": [
     "hide-input"
    ]
   },
   "outputs": [
    {
     "data": {
      "text/html": [
       "<div>\n",
       "<style scoped>\n",
       "    .dataframe tbody tr th:only-of-type {\n",
       "        vertical-align: middle;\n",
       "    }\n",
       "\n",
       "    .dataframe tbody tr th {\n",
       "        vertical-align: top;\n",
       "    }\n",
       "\n",
       "    .dataframe thead th {\n",
       "        text-align: right;\n",
       "    }\n",
       "</style>\n",
       "<table border=\"1\" class=\"dataframe\">\n",
       "  <thead>\n",
       "    <tr style=\"text-align: right;\">\n",
       "      <th>AD</th>\n",
       "      <th>0</th>\n",
       "      <th>1</th>\n",
       "    </tr>\n",
       "    <tr>\n",
       "      <th>AD</th>\n",
       "      <th></th>\n",
       "      <th></th>\n",
       "    </tr>\n",
       "  </thead>\n",
       "  <tbody>\n",
       "    <tr>\n",
       "      <th>False</th>\n",
       "      <td>122</td>\n",
       "      <td>0</td>\n",
       "    </tr>\n",
       "    <tr>\n",
       "      <th>True</th>\n",
       "      <td>0</td>\n",
       "      <td>88</td>\n",
       "    </tr>\n",
       "  </tbody>\n",
       "</table>\n",
       "</div>"
      ],
      "text/plain": [
       "AD      0  1\n",
       "AD          \n",
       "False 122  0\n",
       "True    0 88"
      ]
     },
     "execution_count": 14,
     "metadata": {},
     "output_type": "execute_result"
    }
   ],
   "source": [
    "target_to_group = target.copy()\n",
    "target = target >= args.cutoff_target\n",
    "pd.crosstab(target.squeeze(), target_to_group.squeeze())"
   ]
  },
  {
   "cell_type": "markdown",
   "id": "bfab754f",
   "metadata": {
    "papermill": {
     "duration": 0.01478,
     "end_time": "2024-09-11T04:32:04.887752",
     "exception": false,
     "start_time": "2024-09-11T04:32:04.872972",
     "status": "completed"
    },
    "tags": []
   },
   "source": [
    "## Determine best number of parameters by cross validation procedure\n",
    "\n",
    "using subset of data by ALD criteria:"
   ]
  },
  {
   "cell_type": "code",
   "execution_count": 15,
   "id": "90e410d1",
   "metadata": {
    "execution": {
     "iopub.execute_input": "2024-09-11T04:32:04.918135Z",
     "iopub.status.busy": "2024-09-11T04:32:04.917524Z",
     "iopub.status.idle": "2024-09-11T04:33:38.466093Z",
     "shell.execute_reply": "2024-09-11T04:33:38.465395Z"
    },
    "papermill": {
     "duration": 93.565061,
     "end_time": "2024-09-11T04:33:38.467396",
     "exception": false,
     "start_time": "2024-09-11T04:32:04.902335",
     "status": "completed"
    },
    "tags": [
     "hide-input"
    ]
   },
   "outputs": [
    {
     "name": "stderr",
     "output_type": "stream",
     "text": [
      "\r",
      "  0%|          | 0/1 [00:00<?, ?it/s]"
     ]
    },
    {
     "name": "stderr",
     "output_type": "stream",
     "text": [
      "\r",
      "100%|██████████| 1/1 [00:00<00:00, 368.63it/s]"
     ]
    },
    {
     "name": "stderr",
     "output_type": "stream",
     "text": [
      "\n"
     ]
    },
    {
     "name": "stderr",
     "output_type": "stream",
     "text": [
      "\r",
      "  0%|          | 0/2 [00:00<?, ?it/s]"
     ]
    },
    {
     "name": "stderr",
     "output_type": "stream",
     "text": [
      "\r",
      "100%|██████████| 2/2 [00:00<00:00,  8.49it/s]"
     ]
    },
    {
     "name": "stderr",
     "output_type": "stream",
     "text": [
      "\r",
      "100%|██████████| 2/2 [00:00<00:00,  8.41it/s]"
     ]
    },
    {
     "name": "stderr",
     "output_type": "stream",
     "text": [
      "\n"
     ]
    },
    {
     "name": "stderr",
     "output_type": "stream",
     "text": [
      "\r",
      "  0%|          | 0/3 [00:00<?, ?it/s]"
     ]
    },
    {
     "name": "stderr",
     "output_type": "stream",
     "text": [
      "\r",
      " 67%|██████▋   | 2/3 [00:00<00:00,  6.34it/s]"
     ]
    },
    {
     "name": "stderr",
     "output_type": "stream",
     "text": [
      "\r",
      "100%|██████████| 3/3 [00:00<00:00,  4.78it/s]"
     ]
    },
    {
     "name": "stderr",
     "output_type": "stream",
     "text": [
      "\r",
      "100%|██████████| 3/3 [00:00<00:00,  5.01it/s]"
     ]
    },
    {
     "name": "stderr",
     "output_type": "stream",
     "text": [
      "\n"
     ]
    },
    {
     "name": "stderr",
     "output_type": "stream",
     "text": [
      "\r",
      "  0%|          | 0/4 [00:00<?, ?it/s]"
     ]
    },
    {
     "name": "stderr",
     "output_type": "stream",
     "text": [
      "\r",
      " 50%|█████     | 2/4 [00:00<00:00,  7.40it/s]"
     ]
    },
    {
     "name": "stderr",
     "output_type": "stream",
     "text": [
      "\r",
      " 75%|███████▌  | 3/4 [00:00<00:00,  4.23it/s]"
     ]
    },
    {
     "name": "stderr",
     "output_type": "stream",
     "text": [
      "\r",
      "100%|██████████| 4/4 [00:00<00:00,  3.68it/s]"
     ]
    },
    {
     "name": "stderr",
     "output_type": "stream",
     "text": [
      "\r",
      "100%|██████████| 4/4 [00:01<00:00,  3.98it/s]"
     ]
    },
    {
     "name": "stderr",
     "output_type": "stream",
     "text": [
      "\n"
     ]
    },
    {
     "name": "stderr",
     "output_type": "stream",
     "text": [
      "\r",
      "  0%|          | 0/5 [00:00<?, ?it/s]"
     ]
    },
    {
     "name": "stderr",
     "output_type": "stream",
     "text": [
      "\r",
      " 40%|████      | 2/5 [00:00<00:00,  5.58it/s]"
     ]
    },
    {
     "name": "stderr",
     "output_type": "stream",
     "text": [
      "\r",
      " 60%|██████    | 3/5 [00:00<00:00,  3.70it/s]"
     ]
    },
    {
     "name": "stderr",
     "output_type": "stream",
     "text": [
      "\r",
      " 80%|████████  | 4/5 [00:01<00:00,  3.30it/s]"
     ]
    },
    {
     "name": "stderr",
     "output_type": "stream",
     "text": [
      "\r",
      "100%|██████████| 5/5 [00:01<00:00,  3.43it/s]"
     ]
    },
    {
     "name": "stderr",
     "output_type": "stream",
     "text": [
      "\r",
      "100%|██████████| 5/5 [00:01<00:00,  3.61it/s]"
     ]
    },
    {
     "name": "stderr",
     "output_type": "stream",
     "text": [
      "\n"
     ]
    },
    {
     "name": "stderr",
     "output_type": "stream",
     "text": [
      "\r",
      "  0%|          | 0/6 [00:00<?, ?it/s]"
     ]
    },
    {
     "name": "stderr",
     "output_type": "stream",
     "text": [
      "\r",
      " 33%|███▎      | 2/6 [00:00<00:00,  6.09it/s]"
     ]
    },
    {
     "name": "stderr",
     "output_type": "stream",
     "text": [
      "\r",
      " 50%|█████     | 3/6 [00:00<00:00,  4.23it/s]"
     ]
    },
    {
     "name": "stderr",
     "output_type": "stream",
     "text": [
      "\r",
      " 67%|██████▋   | 4/6 [00:00<00:00,  3.72it/s]"
     ]
    },
    {
     "name": "stderr",
     "output_type": "stream",
     "text": [
      "\r",
      " 83%|████████▎ | 5/6 [00:01<00:00,  3.37it/s]"
     ]
    },
    {
     "name": "stderr",
     "output_type": "stream",
     "text": [
      "\r",
      "100%|██████████| 6/6 [00:01<00:00,  3.47it/s]"
     ]
    },
    {
     "name": "stderr",
     "output_type": "stream",
     "text": [
      "\r",
      "100%|██████████| 6/6 [00:01<00:00,  3.71it/s]"
     ]
    },
    {
     "name": "stderr",
     "output_type": "stream",
     "text": [
      "\n"
     ]
    },
    {
     "name": "stderr",
     "output_type": "stream",
     "text": [
      "\r",
      "  0%|          | 0/7 [00:00<?, ?it/s]"
     ]
    },
    {
     "name": "stderr",
     "output_type": "stream",
     "text": [
      "\r",
      " 29%|██▊       | 2/7 [00:00<00:00,  8.03it/s]"
     ]
    },
    {
     "name": "stderr",
     "output_type": "stream",
     "text": [
      "\r",
      " 43%|████▎     | 3/7 [00:00<00:00,  5.82it/s]"
     ]
    },
    {
     "name": "stderr",
     "output_type": "stream",
     "text": [
      "\r",
      " 57%|█████▋    | 4/7 [00:00<00:00,  5.11it/s]"
     ]
    },
    {
     "name": "stderr",
     "output_type": "stream",
     "text": [
      "\r",
      " 71%|███████▏  | 5/7 [00:01<00:00,  3.87it/s]"
     ]
    },
    {
     "name": "stderr",
     "output_type": "stream",
     "text": [
      "\r",
      " 86%|████████▌ | 6/7 [00:01<00:00,  3.42it/s]"
     ]
    },
    {
     "name": "stderr",
     "output_type": "stream",
     "text": [
      "\r",
      "100%|██████████| 7/7 [00:01<00:00,  3.25it/s]"
     ]
    },
    {
     "name": "stderr",
     "output_type": "stream",
     "text": [
      "\r",
      "100%|██████████| 7/7 [00:01<00:00,  3.87it/s]"
     ]
    },
    {
     "name": "stderr",
     "output_type": "stream",
     "text": [
      "\n"
     ]
    },
    {
     "name": "stderr",
     "output_type": "stream",
     "text": [
      "\r",
      "  0%|          | 0/8 [00:00<?, ?it/s]"
     ]
    },
    {
     "name": "stderr",
     "output_type": "stream",
     "text": [
      "\r",
      " 25%|██▌       | 2/8 [00:00<00:00,  7.44it/s]"
     ]
    },
    {
     "name": "stderr",
     "output_type": "stream",
     "text": [
      "\r",
      " 38%|███▊      | 3/8 [00:00<00:01,  4.72it/s]"
     ]
    },
    {
     "name": "stderr",
     "output_type": "stream",
     "text": [
      "\r",
      " 50%|█████     | 4/8 [00:00<00:01,  3.83it/s]"
     ]
    },
    {
     "name": "stderr",
     "output_type": "stream",
     "text": [
      "\r",
      " 62%|██████▎   | 5/8 [00:01<00:00,  3.82it/s]"
     ]
    },
    {
     "name": "stderr",
     "output_type": "stream",
     "text": [
      "\r",
      " 75%|███████▌  | 6/8 [00:01<00:00,  3.52it/s]"
     ]
    },
    {
     "name": "stderr",
     "output_type": "stream",
     "text": [
      "\r",
      " 88%|████████▊ | 7/8 [00:01<00:00,  3.74it/s]"
     ]
    },
    {
     "name": "stderr",
     "output_type": "stream",
     "text": [
      "\r",
      "100%|██████████| 8/8 [00:01<00:00,  3.86it/s]"
     ]
    },
    {
     "name": "stderr",
     "output_type": "stream",
     "text": [
      "\r",
      "100%|██████████| 8/8 [00:02<00:00,  3.99it/s]"
     ]
    },
    {
     "name": "stderr",
     "output_type": "stream",
     "text": [
      "\n"
     ]
    },
    {
     "name": "stderr",
     "output_type": "stream",
     "text": [
      "\r",
      "  0%|          | 0/9 [00:00<?, ?it/s]"
     ]
    },
    {
     "name": "stderr",
     "output_type": "stream",
     "text": [
      "\r",
      " 22%|██▏       | 2/9 [00:00<00:01,  5.43it/s]"
     ]
    },
    {
     "name": "stderr",
     "output_type": "stream",
     "text": [
      "\r",
      " 33%|███▎      | 3/9 [00:00<00:01,  3.78it/s]"
     ]
    },
    {
     "name": "stderr",
     "output_type": "stream",
     "text": [
      "\r",
      " 44%|████▍     | 4/9 [00:01<00:01,  3.72it/s]"
     ]
    },
    {
     "name": "stderr",
     "output_type": "stream",
     "text": [
      "\r",
      " 56%|█████▌    | 5/9 [00:01<00:01,  3.71it/s]"
     ]
    },
    {
     "name": "stderr",
     "output_type": "stream",
     "text": [
      "\r",
      " 67%|██████▋   | 6/9 [00:01<00:00,  3.85it/s]"
     ]
    },
    {
     "name": "stderr",
     "output_type": "stream",
     "text": [
      "\r",
      " 78%|███████▊  | 7/9 [00:01<00:00,  4.15it/s]"
     ]
    },
    {
     "name": "stderr",
     "output_type": "stream",
     "text": [
      "\r",
      " 89%|████████▉ | 8/9 [00:01<00:00,  4.37it/s]"
     ]
    },
    {
     "name": "stderr",
     "output_type": "stream",
     "text": [
      "\r",
      "100%|██████████| 9/9 [00:02<00:00,  4.21it/s]"
     ]
    },
    {
     "name": "stderr",
     "output_type": "stream",
     "text": [
      "\r",
      "100%|██████████| 9/9 [00:02<00:00,  4.10it/s]"
     ]
    },
    {
     "name": "stderr",
     "output_type": "stream",
     "text": [
      "\n"
     ]
    },
    {
     "name": "stderr",
     "output_type": "stream",
     "text": [
      "\r",
      "  0%|          | 0/10 [00:00<?, ?it/s]"
     ]
    },
    {
     "name": "stderr",
     "output_type": "stream",
     "text": [
      "\r",
      " 20%|██        | 2/10 [00:00<00:00,  8.92it/s]"
     ]
    },
    {
     "name": "stderr",
     "output_type": "stream",
     "text": [
      "\r",
      " 30%|███       | 3/10 [00:00<00:01,  5.86it/s]"
     ]
    },
    {
     "name": "stderr",
     "output_type": "stream",
     "text": [
      "\r",
      " 40%|████      | 4/10 [00:00<00:01,  4.98it/s]"
     ]
    },
    {
     "name": "stderr",
     "output_type": "stream",
     "text": [
      "\r",
      " 50%|█████     | 5/10 [00:00<00:01,  4.54it/s]"
     ]
    },
    {
     "name": "stderr",
     "output_type": "stream",
     "text": [
      "\r",
      " 60%|██████    | 6/10 [00:01<00:00,  4.51it/s]"
     ]
    },
    {
     "name": "stderr",
     "output_type": "stream",
     "text": [
      "\r",
      " 70%|███████   | 7/10 [00:01<00:00,  4.59it/s]"
     ]
    },
    {
     "name": "stderr",
     "output_type": "stream",
     "text": [
      "\r",
      " 80%|████████  | 8/10 [00:01<00:00,  4.61it/s]"
     ]
    },
    {
     "name": "stderr",
     "output_type": "stream",
     "text": [
      "\r",
      " 90%|█████████ | 9/10 [00:01<00:00,  4.44it/s]"
     ]
    },
    {
     "name": "stderr",
     "output_type": "stream",
     "text": [
      "\r",
      "100%|██████████| 10/10 [00:02<00:00,  4.53it/s]"
     ]
    },
    {
     "name": "stderr",
     "output_type": "stream",
     "text": [
      "\r",
      "100%|██████████| 10/10 [00:02<00:00,  4.78it/s]"
     ]
    },
    {
     "name": "stderr",
     "output_type": "stream",
     "text": [
      "\n"
     ]
    },
    {
     "name": "stderr",
     "output_type": "stream",
     "text": [
      "\r",
      "  0%|          | 0/11 [00:00<?, ?it/s]"
     ]
    },
    {
     "name": "stderr",
     "output_type": "stream",
     "text": [
      "\r",
      " 18%|█▊        | 2/11 [00:00<00:01,  7.29it/s]"
     ]
    },
    {
     "name": "stderr",
     "output_type": "stream",
     "text": [
      "\r",
      " 27%|██▋       | 3/11 [00:00<00:01,  5.12it/s]"
     ]
    },
    {
     "name": "stderr",
     "output_type": "stream",
     "text": [
      "\r",
      " 36%|███▋      | 4/11 [00:00<00:01,  4.56it/s]"
     ]
    },
    {
     "name": "stderr",
     "output_type": "stream",
     "text": [
      "\r",
      " 45%|████▌     | 5/11 [00:01<00:01,  4.09it/s]"
     ]
    },
    {
     "name": "stderr",
     "output_type": "stream",
     "text": [
      "\r",
      " 55%|█████▍    | 6/11 [00:01<00:01,  3.92it/s]"
     ]
    },
    {
     "name": "stderr",
     "output_type": "stream",
     "text": [
      "\r",
      " 64%|██████▎   | 7/11 [00:01<00:00,  4.09it/s]"
     ]
    },
    {
     "name": "stderr",
     "output_type": "stream",
     "text": [
      "\r",
      " 73%|███████▎  | 8/11 [00:01<00:00,  4.16it/s]"
     ]
    },
    {
     "name": "stderr",
     "output_type": "stream",
     "text": [
      "\r",
      " 82%|████████▏ | 9/11 [00:02<00:00,  4.29it/s]"
     ]
    },
    {
     "name": "stderr",
     "output_type": "stream",
     "text": [
      "\r",
      " 91%|█████████ | 10/11 [00:02<00:00,  4.53it/s]"
     ]
    },
    {
     "name": "stderr",
     "output_type": "stream",
     "text": [
      "\r",
      "100%|██████████| 11/11 [00:02<00:00,  4.45it/s]"
     ]
    },
    {
     "name": "stderr",
     "output_type": "stream",
     "text": [
      "\r",
      "100%|██████████| 11/11 [00:02<00:00,  4.44it/s]"
     ]
    },
    {
     "name": "stderr",
     "output_type": "stream",
     "text": [
      "\n"
     ]
    },
    {
     "name": "stderr",
     "output_type": "stream",
     "text": [
      "\r",
      "  0%|          | 0/12 [00:00<?, ?it/s]"
     ]
    },
    {
     "name": "stderr",
     "output_type": "stream",
     "text": [
      "\r",
      " 17%|█▋        | 2/12 [00:00<00:01,  7.54it/s]"
     ]
    },
    {
     "name": "stderr",
     "output_type": "stream",
     "text": [
      "\r",
      " 25%|██▌       | 3/12 [00:00<00:01,  6.02it/s]"
     ]
    },
    {
     "name": "stderr",
     "output_type": "stream",
     "text": [
      "\r",
      " 33%|███▎      | 4/12 [00:00<00:01,  5.28it/s]"
     ]
    },
    {
     "name": "stderr",
     "output_type": "stream",
     "text": [
      "\r",
      " 42%|████▏     | 5/12 [00:01<00:01,  4.38it/s]"
     ]
    },
    {
     "name": "stderr",
     "output_type": "stream",
     "text": [
      "\r",
      " 50%|█████     | 6/12 [00:01<00:01,  4.30it/s]"
     ]
    },
    {
     "name": "stderr",
     "output_type": "stream",
     "text": [
      "\r",
      " 58%|█████▊    | 7/12 [00:01<00:01,  4.24it/s]"
     ]
    },
    {
     "name": "stderr",
     "output_type": "stream",
     "text": [
      "\r",
      " 67%|██████▋   | 8/12 [00:01<00:00,  4.44it/s]"
     ]
    },
    {
     "name": "stderr",
     "output_type": "stream",
     "text": [
      "\r",
      " 75%|███████▌  | 9/12 [00:01<00:00,  4.31it/s]"
     ]
    },
    {
     "name": "stderr",
     "output_type": "stream",
     "text": [
      "\r",
      " 83%|████████▎ | 10/12 [00:02<00:00,  4.39it/s]"
     ]
    },
    {
     "name": "stderr",
     "output_type": "stream",
     "text": [
      "\r",
      " 92%|█████████▏| 11/12 [00:02<00:00,  4.38it/s]"
     ]
    },
    {
     "name": "stderr",
     "output_type": "stream",
     "text": [
      "\r",
      "100%|██████████| 12/12 [00:02<00:00,  4.30it/s]"
     ]
    },
    {
     "name": "stderr",
     "output_type": "stream",
     "text": [
      "\r",
      "100%|██████████| 12/12 [00:02<00:00,  4.56it/s]"
     ]
    },
    {
     "name": "stderr",
     "output_type": "stream",
     "text": [
      "\n"
     ]
    },
    {
     "name": "stderr",
     "output_type": "stream",
     "text": [
      "\r",
      "  0%|          | 0/13 [00:00<?, ?it/s]"
     ]
    },
    {
     "name": "stderr",
     "output_type": "stream",
     "text": [
      "\r",
      " 15%|█▌        | 2/13 [00:00<00:01,  8.02it/s]"
     ]
    },
    {
     "name": "stderr",
     "output_type": "stream",
     "text": [
      "\r",
      " 23%|██▎       | 3/13 [00:00<00:01,  6.06it/s]"
     ]
    },
    {
     "name": "stderr",
     "output_type": "stream",
     "text": [
      "\r",
      " 31%|███       | 4/13 [00:00<00:01,  5.84it/s]"
     ]
    },
    {
     "name": "stderr",
     "output_type": "stream",
     "text": [
      "\r",
      " 38%|███▊      | 5/13 [00:00<00:01,  5.01it/s]"
     ]
    },
    {
     "name": "stderr",
     "output_type": "stream",
     "text": [
      "\r",
      " 46%|████▌     | 6/13 [00:01<00:01,  5.44it/s]"
     ]
    },
    {
     "name": "stderr",
     "output_type": "stream",
     "text": [
      "\r",
      " 54%|█████▍    | 7/13 [00:01<00:01,  5.25it/s]"
     ]
    },
    {
     "name": "stderr",
     "output_type": "stream",
     "text": [
      "\r",
      " 62%|██████▏   | 8/13 [00:01<00:00,  5.56it/s]"
     ]
    },
    {
     "name": "stderr",
     "output_type": "stream",
     "text": [
      "\r",
      " 69%|██████▉   | 9/13 [00:01<00:00,  5.12it/s]"
     ]
    },
    {
     "name": "stderr",
     "output_type": "stream",
     "text": [
      "\r",
      " 77%|███████▋  | 10/13 [00:01<00:00,  4.91it/s]"
     ]
    },
    {
     "name": "stderr",
     "output_type": "stream",
     "text": [
      "\r",
      " 85%|████████▍ | 11/13 [00:02<00:00,  4.90it/s]"
     ]
    },
    {
     "name": "stderr",
     "output_type": "stream",
     "text": [
      "\r",
      " 92%|█████████▏| 12/13 [00:02<00:00,  4.82it/s]"
     ]
    },
    {
     "name": "stderr",
     "output_type": "stream",
     "text": [
      "\r",
      "100%|██████████| 13/13 [00:02<00:00,  4.70it/s]"
     ]
    },
    {
     "name": "stderr",
     "output_type": "stream",
     "text": [
      "\r",
      "100%|██████████| 13/13 [00:02<00:00,  5.17it/s]"
     ]
    },
    {
     "name": "stderr",
     "output_type": "stream",
     "text": [
      "\n"
     ]
    },
    {
     "name": "stderr",
     "output_type": "stream",
     "text": [
      "\r",
      "  0%|          | 0/14 [00:00<?, ?it/s]"
     ]
    },
    {
     "name": "stderr",
     "output_type": "stream",
     "text": [
      "\r",
      " 14%|█▍        | 2/14 [00:00<00:01,  8.02it/s]"
     ]
    },
    {
     "name": "stderr",
     "output_type": "stream",
     "text": [
      "\r",
      " 21%|██▏       | 3/14 [00:00<00:01,  5.85it/s]"
     ]
    },
    {
     "name": "stderr",
     "output_type": "stream",
     "text": [
      "\r",
      " 29%|██▊       | 4/14 [00:00<00:01,  5.07it/s]"
     ]
    },
    {
     "name": "stderr",
     "output_type": "stream",
     "text": [
      "\r",
      " 36%|███▌      | 5/14 [00:00<00:01,  4.94it/s]"
     ]
    },
    {
     "name": "stderr",
     "output_type": "stream",
     "text": [
      "\r",
      " 43%|████▎     | 6/14 [00:01<00:01,  4.72it/s]"
     ]
    },
    {
     "name": "stderr",
     "output_type": "stream",
     "text": [
      "\r",
      " 50%|█████     | 7/14 [00:01<00:01,  4.70it/s]"
     ]
    },
    {
     "name": "stderr",
     "output_type": "stream",
     "text": [
      "\r",
      " 57%|█████▋    | 8/14 [00:01<00:01,  4.79it/s]"
     ]
    },
    {
     "name": "stderr",
     "output_type": "stream",
     "text": [
      "\r",
      " 64%|██████▍   | 9/14 [00:01<00:01,  4.67it/s]"
     ]
    },
    {
     "name": "stderr",
     "output_type": "stream",
     "text": [
      "\r",
      " 71%|███████▏  | 10/14 [00:02<00:00,  4.74it/s]"
     ]
    },
    {
     "name": "stderr",
     "output_type": "stream",
     "text": [
      "\r",
      " 79%|███████▊  | 11/14 [00:02<00:00,  4.38it/s]"
     ]
    },
    {
     "name": "stderr",
     "output_type": "stream",
     "text": [
      "\r",
      " 86%|████████▌ | 12/14 [00:02<00:00,  4.26it/s]"
     ]
    },
    {
     "name": "stderr",
     "output_type": "stream",
     "text": [
      "\r",
      " 93%|█████████▎| 13/14 [00:02<00:00,  4.39it/s]"
     ]
    },
    {
     "name": "stderr",
     "output_type": "stream",
     "text": [
      "\r",
      "100%|██████████| 14/14 [00:02<00:00,  4.44it/s]"
     ]
    },
    {
     "name": "stderr",
     "output_type": "stream",
     "text": [
      "\r",
      "100%|██████████| 14/14 [00:02<00:00,  4.72it/s]"
     ]
    },
    {
     "name": "stderr",
     "output_type": "stream",
     "text": [
      "\n"
     ]
    },
    {
     "name": "stderr",
     "output_type": "stream",
     "text": [
      "\r",
      "  0%|          | 0/15 [00:00<?, ?it/s]"
     ]
    },
    {
     "name": "stderr",
     "output_type": "stream",
     "text": [
      "\r",
      " 13%|█▎        | 2/15 [00:00<00:01,  7.64it/s]"
     ]
    },
    {
     "name": "stderr",
     "output_type": "stream",
     "text": [
      "\r",
      " 20%|██        | 3/15 [00:00<00:02,  5.76it/s]"
     ]
    },
    {
     "name": "stderr",
     "output_type": "stream",
     "text": [
      "\r",
      " 27%|██▋       | 4/15 [00:00<00:01,  5.83it/s]"
     ]
    },
    {
     "name": "stderr",
     "output_type": "stream",
     "text": [
      "\r",
      " 33%|███▎      | 5/15 [00:00<00:01,  5.83it/s]"
     ]
    },
    {
     "name": "stderr",
     "output_type": "stream",
     "text": [
      "\r",
      " 40%|████      | 6/15 [00:01<00:01,  5.23it/s]"
     ]
    },
    {
     "name": "stderr",
     "output_type": "stream",
     "text": [
      "\r",
      " 47%|████▋     | 7/15 [00:01<00:01,  4.91it/s]"
     ]
    },
    {
     "name": "stderr",
     "output_type": "stream",
     "text": [
      "\r",
      " 53%|█████▎    | 8/15 [00:01<00:01,  4.71it/s]"
     ]
    },
    {
     "name": "stderr",
     "output_type": "stream",
     "text": [
      "\r",
      " 60%|██████    | 9/15 [00:01<00:01,  4.52it/s]"
     ]
    },
    {
     "name": "stderr",
     "output_type": "stream",
     "text": [
      "\r",
      " 67%|██████▋   | 10/15 [00:01<00:01,  4.46it/s]"
     ]
    },
    {
     "name": "stderr",
     "output_type": "stream",
     "text": [
      "\r",
      " 73%|███████▎  | 11/15 [00:02<00:00,  4.49it/s]"
     ]
    },
    {
     "name": "stderr",
     "output_type": "stream",
     "text": [
      "\r",
      " 80%|████████  | 12/15 [00:02<00:00,  4.58it/s]"
     ]
    },
    {
     "name": "stderr",
     "output_type": "stream",
     "text": [
      "\r",
      " 87%|████████▋ | 13/15 [00:02<00:00,  4.45it/s]"
     ]
    },
    {
     "name": "stderr",
     "output_type": "stream",
     "text": [
      "\r",
      " 93%|█████████▎| 14/15 [00:02<00:00,  4.62it/s]"
     ]
    },
    {
     "name": "stderr",
     "output_type": "stream",
     "text": [
      "\r",
      "100%|██████████| 15/15 [00:03<00:00,  3.83it/s]"
     ]
    },
    {
     "name": "stderr",
     "output_type": "stream",
     "text": [
      "\r",
      "100%|██████████| 15/15 [00:03<00:00,  4.64it/s]"
     ]
    },
    {
     "name": "stderr",
     "output_type": "stream",
     "text": [
      "\n"
     ]
    },
    {
     "data": {
      "text/html": [
       "<div>\n",
       "<style scoped>\n",
       "    .dataframe tbody tr th:only-of-type {\n",
       "        vertical-align: middle;\n",
       "    }\n",
       "\n",
       "    .dataframe tbody tr th {\n",
       "        vertical-align: top;\n",
       "    }\n",
       "\n",
       "    .dataframe thead tr th {\n",
       "        text-align: left;\n",
       "    }\n",
       "\n",
       "    .dataframe thead tr:last-of-type th {\n",
       "        text-align: right;\n",
       "    }\n",
       "</style>\n",
       "<table border=\"1\" class=\"dataframe\">\n",
       "  <thead>\n",
       "    <tr>\n",
       "      <th></th>\n",
       "      <th colspan=\"2\" halign=\"left\">fit_time</th>\n",
       "      <th colspan=\"2\" halign=\"left\">score_time</th>\n",
       "      <th colspan=\"2\" halign=\"left\">test_precision</th>\n",
       "      <th colspan=\"2\" halign=\"left\">test_recall</th>\n",
       "      <th colspan=\"2\" halign=\"left\">test_f1</th>\n",
       "      <th colspan=\"2\" halign=\"left\">test_balanced_accuracy</th>\n",
       "      <th colspan=\"2\" halign=\"left\">test_roc_auc</th>\n",
       "      <th colspan=\"2\" halign=\"left\">test_average_precision</th>\n",
       "      <th colspan=\"2\" halign=\"left\">n_observations</th>\n",
       "    </tr>\n",
       "    <tr>\n",
       "      <th></th>\n",
       "      <th>mean</th>\n",
       "      <th>std</th>\n",
       "      <th>mean</th>\n",
       "      <th>std</th>\n",
       "      <th>mean</th>\n",
       "      <th>std</th>\n",
       "      <th>mean</th>\n",
       "      <th>std</th>\n",
       "      <th>mean</th>\n",
       "      <th>std</th>\n",
       "      <th>mean</th>\n",
       "      <th>std</th>\n",
       "      <th>mean</th>\n",
       "      <th>std</th>\n",
       "      <th>mean</th>\n",
       "      <th>std</th>\n",
       "      <th>mean</th>\n",
       "      <th>std</th>\n",
       "    </tr>\n",
       "    <tr>\n",
       "      <th>n_features</th>\n",
       "      <th></th>\n",
       "      <th></th>\n",
       "      <th></th>\n",
       "      <th></th>\n",
       "      <th></th>\n",
       "      <th></th>\n",
       "      <th></th>\n",
       "      <th></th>\n",
       "      <th></th>\n",
       "      <th></th>\n",
       "      <th></th>\n",
       "      <th></th>\n",
       "      <th></th>\n",
       "      <th></th>\n",
       "      <th></th>\n",
       "      <th></th>\n",
       "      <th></th>\n",
       "      <th></th>\n",
       "    </tr>\n",
       "  </thead>\n",
       "  <tbody>\n",
       "    <tr>\n",
       "      <th>1</th>\n",
       "      <td>0.004</td>\n",
       "      <td>0.004</td>\n",
       "      <td>0.043</td>\n",
       "      <td>0.014</td>\n",
       "      <td>0.904</td>\n",
       "      <td>0.150</td>\n",
       "      <td>0.173</td>\n",
       "      <td>0.093</td>\n",
       "      <td>0.280</td>\n",
       "      <td>0.126</td>\n",
       "      <td>0.578</td>\n",
       "      <td>0.045</td>\n",
       "      <td>0.855</td>\n",
       "      <td>0.064</td>\n",
       "      <td>0.825</td>\n",
       "      <td>0.088</td>\n",
       "      <td>210.000</td>\n",
       "      <td>0.000</td>\n",
       "    </tr>\n",
       "    <tr>\n",
       "      <th>2</th>\n",
       "      <td>0.005</td>\n",
       "      <td>0.004</td>\n",
       "      <td>0.054</td>\n",
       "      <td>0.022</td>\n",
       "      <td>0.758</td>\n",
       "      <td>0.091</td>\n",
       "      <td>0.627</td>\n",
       "      <td>0.104</td>\n",
       "      <td>0.681</td>\n",
       "      <td>0.080</td>\n",
       "      <td>0.739</td>\n",
       "      <td>0.058</td>\n",
       "      <td>0.802</td>\n",
       "      <td>0.066</td>\n",
       "      <td>0.778</td>\n",
       "      <td>0.086</td>\n",
       "      <td>210.000</td>\n",
       "      <td>0.000</td>\n",
       "    </tr>\n",
       "    <tr>\n",
       "      <th>3</th>\n",
       "      <td>0.003</td>\n",
       "      <td>0.002</td>\n",
       "      <td>0.037</td>\n",
       "      <td>0.010</td>\n",
       "      <td>0.746</td>\n",
       "      <td>0.099</td>\n",
       "      <td>0.636</td>\n",
       "      <td>0.108</td>\n",
       "      <td>0.680</td>\n",
       "      <td>0.079</td>\n",
       "      <td>0.736</td>\n",
       "      <td>0.058</td>\n",
       "      <td>0.796</td>\n",
       "      <td>0.071</td>\n",
       "      <td>0.773</td>\n",
       "      <td>0.088</td>\n",
       "      <td>210.000</td>\n",
       "      <td>0.000</td>\n",
       "    </tr>\n",
       "    <tr>\n",
       "      <th>4</th>\n",
       "      <td>0.004</td>\n",
       "      <td>0.004</td>\n",
       "      <td>0.043</td>\n",
       "      <td>0.014</td>\n",
       "      <td>0.779</td>\n",
       "      <td>0.084</td>\n",
       "      <td>0.740</td>\n",
       "      <td>0.106</td>\n",
       "      <td>0.755</td>\n",
       "      <td>0.080</td>\n",
       "      <td>0.793</td>\n",
       "      <td>0.064</td>\n",
       "      <td>0.864</td>\n",
       "      <td>0.060</td>\n",
       "      <td>0.850</td>\n",
       "      <td>0.068</td>\n",
       "      <td>210.000</td>\n",
       "      <td>0.000</td>\n",
       "    </tr>\n",
       "    <tr>\n",
       "      <th>5</th>\n",
       "      <td>0.004</td>\n",
       "      <td>0.003</td>\n",
       "      <td>0.037</td>\n",
       "      <td>0.007</td>\n",
       "      <td>0.789</td>\n",
       "      <td>0.089</td>\n",
       "      <td>0.774</td>\n",
       "      <td>0.113</td>\n",
       "      <td>0.778</td>\n",
       "      <td>0.087</td>\n",
       "      <td>0.811</td>\n",
       "      <td>0.072</td>\n",
       "      <td>0.872</td>\n",
       "      <td>0.065</td>\n",
       "      <td>0.867</td>\n",
       "      <td>0.067</td>\n",
       "      <td>210.000</td>\n",
       "      <td>0.000</td>\n",
       "    </tr>\n",
       "    <tr>\n",
       "      <th>6</th>\n",
       "      <td>0.003</td>\n",
       "      <td>0.001</td>\n",
       "      <td>0.038</td>\n",
       "      <td>0.008</td>\n",
       "      <td>0.782</td>\n",
       "      <td>0.089</td>\n",
       "      <td>0.765</td>\n",
       "      <td>0.116</td>\n",
       "      <td>0.769</td>\n",
       "      <td>0.087</td>\n",
       "      <td>0.804</td>\n",
       "      <td>0.071</td>\n",
       "      <td>0.870</td>\n",
       "      <td>0.065</td>\n",
       "      <td>0.863</td>\n",
       "      <td>0.068</td>\n",
       "      <td>210.000</td>\n",
       "      <td>0.000</td>\n",
       "    </tr>\n",
       "    <tr>\n",
       "      <th>7</th>\n",
       "      <td>0.005</td>\n",
       "      <td>0.004</td>\n",
       "      <td>0.046</td>\n",
       "      <td>0.015</td>\n",
       "      <td>0.780</td>\n",
       "      <td>0.090</td>\n",
       "      <td>0.759</td>\n",
       "      <td>0.119</td>\n",
       "      <td>0.765</td>\n",
       "      <td>0.090</td>\n",
       "      <td>0.800</td>\n",
       "      <td>0.073</td>\n",
       "      <td>0.867</td>\n",
       "      <td>0.065</td>\n",
       "      <td>0.860</td>\n",
       "      <td>0.068</td>\n",
       "      <td>210.000</td>\n",
       "      <td>0.000</td>\n",
       "    </tr>\n",
       "    <tr>\n",
       "      <th>8</th>\n",
       "      <td>0.004</td>\n",
       "      <td>0.003</td>\n",
       "      <td>0.052</td>\n",
       "      <td>0.020</td>\n",
       "      <td>0.795</td>\n",
       "      <td>0.078</td>\n",
       "      <td>0.806</td>\n",
       "      <td>0.115</td>\n",
       "      <td>0.796</td>\n",
       "      <td>0.081</td>\n",
       "      <td>0.826</td>\n",
       "      <td>0.069</td>\n",
       "      <td>0.890</td>\n",
       "      <td>0.054</td>\n",
       "      <td>0.875</td>\n",
       "      <td>0.057</td>\n",
       "      <td>210.000</td>\n",
       "      <td>0.000</td>\n",
       "    </tr>\n",
       "    <tr>\n",
       "      <th>9</th>\n",
       "      <td>0.004</td>\n",
       "      <td>0.002</td>\n",
       "      <td>0.043</td>\n",
       "      <td>0.021</td>\n",
       "      <td>0.775</td>\n",
       "      <td>0.076</td>\n",
       "      <td>0.788</td>\n",
       "      <td>0.113</td>\n",
       "      <td>0.776</td>\n",
       "      <td>0.071</td>\n",
       "      <td>0.809</td>\n",
       "      <td>0.060</td>\n",
       "      <td>0.889</td>\n",
       "      <td>0.054</td>\n",
       "      <td>0.873</td>\n",
       "      <td>0.058</td>\n",
       "      <td>210.000</td>\n",
       "      <td>0.000</td>\n",
       "    </tr>\n",
       "    <tr>\n",
       "      <th>10</th>\n",
       "      <td>0.003</td>\n",
       "      <td>0.004</td>\n",
       "      <td>0.030</td>\n",
       "      <td>0.015</td>\n",
       "      <td>0.774</td>\n",
       "      <td>0.082</td>\n",
       "      <td>0.791</td>\n",
       "      <td>0.110</td>\n",
       "      <td>0.777</td>\n",
       "      <td>0.073</td>\n",
       "      <td>0.810</td>\n",
       "      <td>0.062</td>\n",
       "      <td>0.890</td>\n",
       "      <td>0.054</td>\n",
       "      <td>0.876</td>\n",
       "      <td>0.056</td>\n",
       "      <td>210.000</td>\n",
       "      <td>0.000</td>\n",
       "    </tr>\n",
       "    <tr>\n",
       "      <th>11</th>\n",
       "      <td>0.004</td>\n",
       "      <td>0.003</td>\n",
       "      <td>0.050</td>\n",
       "      <td>0.019</td>\n",
       "      <td>0.809</td>\n",
       "      <td>0.081</td>\n",
       "      <td>0.847</td>\n",
       "      <td>0.085</td>\n",
       "      <td>0.824</td>\n",
       "      <td>0.065</td>\n",
       "      <td>0.849</td>\n",
       "      <td>0.057</td>\n",
       "      <td>0.912</td>\n",
       "      <td>0.049</td>\n",
       "      <td>0.905</td>\n",
       "      <td>0.050</td>\n",
       "      <td>210.000</td>\n",
       "      <td>0.000</td>\n",
       "    </tr>\n",
       "    <tr>\n",
       "      <th>12</th>\n",
       "      <td>0.005</td>\n",
       "      <td>0.005</td>\n",
       "      <td>0.043</td>\n",
       "      <td>0.018</td>\n",
       "      <td>0.814</td>\n",
       "      <td>0.083</td>\n",
       "      <td>0.846</td>\n",
       "      <td>0.090</td>\n",
       "      <td>0.826</td>\n",
       "      <td>0.069</td>\n",
       "      <td>0.851</td>\n",
       "      <td>0.060</td>\n",
       "      <td>0.911</td>\n",
       "      <td>0.050</td>\n",
       "      <td>0.904</td>\n",
       "      <td>0.050</td>\n",
       "      <td>210.000</td>\n",
       "      <td>0.000</td>\n",
       "    </tr>\n",
       "    <tr>\n",
       "      <th>13</th>\n",
       "      <td>0.004</td>\n",
       "      <td>0.003</td>\n",
       "      <td>0.043</td>\n",
       "      <td>0.017</td>\n",
       "      <td>0.809</td>\n",
       "      <td>0.084</td>\n",
       "      <td>0.847</td>\n",
       "      <td>0.093</td>\n",
       "      <td>0.824</td>\n",
       "      <td>0.068</td>\n",
       "      <td>0.849</td>\n",
       "      <td>0.059</td>\n",
       "      <td>0.909</td>\n",
       "      <td>0.051</td>\n",
       "      <td>0.902</td>\n",
       "      <td>0.051</td>\n",
       "      <td>210.000</td>\n",
       "      <td>0.000</td>\n",
       "    </tr>\n",
       "    <tr>\n",
       "      <th>14</th>\n",
       "      <td>0.005</td>\n",
       "      <td>0.004</td>\n",
       "      <td>0.054</td>\n",
       "      <td>0.019</td>\n",
       "      <td>0.822</td>\n",
       "      <td>0.083</td>\n",
       "      <td>0.848</td>\n",
       "      <td>0.092</td>\n",
       "      <td>0.831</td>\n",
       "      <td>0.068</td>\n",
       "      <td>0.855</td>\n",
       "      <td>0.059</td>\n",
       "      <td>0.911</td>\n",
       "      <td>0.050</td>\n",
       "      <td>0.900</td>\n",
       "      <td>0.052</td>\n",
       "      <td>210.000</td>\n",
       "      <td>0.000</td>\n",
       "    </tr>\n",
       "    <tr>\n",
       "      <th>15</th>\n",
       "      <td>0.005</td>\n",
       "      <td>0.004</td>\n",
       "      <td>0.047</td>\n",
       "      <td>0.019</td>\n",
       "      <td>0.818</td>\n",
       "      <td>0.085</td>\n",
       "      <td>0.825</td>\n",
       "      <td>0.098</td>\n",
       "      <td>0.817</td>\n",
       "      <td>0.069</td>\n",
       "      <td>0.844</td>\n",
       "      <td>0.059</td>\n",
       "      <td>0.912</td>\n",
       "      <td>0.047</td>\n",
       "      <td>0.900</td>\n",
       "      <td>0.051</td>\n",
       "      <td>210.000</td>\n",
       "      <td>0.000</td>\n",
       "    </tr>\n",
       "  </tbody>\n",
       "</table>\n",
       "</div>"
      ],
      "text/plain": [
       "           fit_time       score_time       test_precision       test_recall  \\\n",
       "               mean   std       mean   std           mean   std        mean   \n",
       "n_features                                                                    \n",
       "1             0.004 0.004      0.043 0.014          0.904 0.150       0.173   \n",
       "2             0.005 0.004      0.054 0.022          0.758 0.091       0.627   \n",
       "3             0.003 0.002      0.037 0.010          0.746 0.099       0.636   \n",
       "4             0.004 0.004      0.043 0.014          0.779 0.084       0.740   \n",
       "5             0.004 0.003      0.037 0.007          0.789 0.089       0.774   \n",
       "6             0.003 0.001      0.038 0.008          0.782 0.089       0.765   \n",
       "7             0.005 0.004      0.046 0.015          0.780 0.090       0.759   \n",
       "8             0.004 0.003      0.052 0.020          0.795 0.078       0.806   \n",
       "9             0.004 0.002      0.043 0.021          0.775 0.076       0.788   \n",
       "10            0.003 0.004      0.030 0.015          0.774 0.082       0.791   \n",
       "11            0.004 0.003      0.050 0.019          0.809 0.081       0.847   \n",
       "12            0.005 0.005      0.043 0.018          0.814 0.083       0.846   \n",
       "13            0.004 0.003      0.043 0.017          0.809 0.084       0.847   \n",
       "14            0.005 0.004      0.054 0.019          0.822 0.083       0.848   \n",
       "15            0.005 0.004      0.047 0.019          0.818 0.085       0.825   \n",
       "\n",
       "                 test_f1       test_balanced_accuracy       test_roc_auc  \\\n",
       "             std    mean   std                   mean   std         mean   \n",
       "n_features                                                                 \n",
       "1          0.093   0.280 0.126                  0.578 0.045        0.855   \n",
       "2          0.104   0.681 0.080                  0.739 0.058        0.802   \n",
       "3          0.108   0.680 0.079                  0.736 0.058        0.796   \n",
       "4          0.106   0.755 0.080                  0.793 0.064        0.864   \n",
       "5          0.113   0.778 0.087                  0.811 0.072        0.872   \n",
       "6          0.116   0.769 0.087                  0.804 0.071        0.870   \n",
       "7          0.119   0.765 0.090                  0.800 0.073        0.867   \n",
       "8          0.115   0.796 0.081                  0.826 0.069        0.890   \n",
       "9          0.113   0.776 0.071                  0.809 0.060        0.889   \n",
       "10         0.110   0.777 0.073                  0.810 0.062        0.890   \n",
       "11         0.085   0.824 0.065                  0.849 0.057        0.912   \n",
       "12         0.090   0.826 0.069                  0.851 0.060        0.911   \n",
       "13         0.093   0.824 0.068                  0.849 0.059        0.909   \n",
       "14         0.092   0.831 0.068                  0.855 0.059        0.911   \n",
       "15         0.098   0.817 0.069                  0.844 0.059        0.912   \n",
       "\n",
       "                 test_average_precision       n_observations        \n",
       "             std                   mean   std           mean   std  \n",
       "n_features                                                          \n",
       "1          0.064                  0.825 0.088        210.000 0.000  \n",
       "2          0.066                  0.778 0.086        210.000 0.000  \n",
       "3          0.071                  0.773 0.088        210.000 0.000  \n",
       "4          0.060                  0.850 0.068        210.000 0.000  \n",
       "5          0.065                  0.867 0.067        210.000 0.000  \n",
       "6          0.065                  0.863 0.068        210.000 0.000  \n",
       "7          0.065                  0.860 0.068        210.000 0.000  \n",
       "8          0.054                  0.875 0.057        210.000 0.000  \n",
       "9          0.054                  0.873 0.058        210.000 0.000  \n",
       "10         0.054                  0.876 0.056        210.000 0.000  \n",
       "11         0.049                  0.905 0.050        210.000 0.000  \n",
       "12         0.050                  0.904 0.050        210.000 0.000  \n",
       "13         0.051                  0.902 0.051        210.000 0.000  \n",
       "14         0.050                  0.900 0.052        210.000 0.000  \n",
       "15         0.047                  0.900 0.051        210.000 0.000  "
      ]
     },
     "execution_count": 15,
     "metadata": {},
     "output_type": "execute_result"
    }
   ],
   "source": [
    "cv_feat_ald = njab.sklearn.find_n_best_features(X=ald_study, y=target, name=args.target,\n",
    "                                                groups=target_to_group)\n",
    "cv_feat_ald = (cv_feat_ald\n",
    "               .drop('test_case', axis=1)\n",
    "               .groupby('n_features')\n",
    "               .agg(['mean', 'std']))\n",
    "cv_feat_ald"
   ]
  },
  {
   "cell_type": "markdown",
   "id": "b40fb391",
   "metadata": {
    "papermill": {
     "duration": 0.026299,
     "end_time": "2024-09-11T04:33:38.517492",
     "exception": false,
     "start_time": "2024-09-11T04:33:38.491193",
     "status": "completed"
    },
    "tags": []
   },
   "source": [
    "Using all data:"
   ]
  },
  {
   "cell_type": "code",
   "execution_count": 16,
   "id": "988dea31",
   "metadata": {
    "execution": {
     "iopub.execute_input": "2024-09-11T04:33:38.571219Z",
     "iopub.status.busy": "2024-09-11T04:33:38.570423Z",
     "iopub.status.idle": "2024-09-11T04:35:11.825215Z",
     "shell.execute_reply": "2024-09-11T04:35:11.824595Z"
    },
    "papermill": {
     "duration": 93.284024,
     "end_time": "2024-09-11T04:35:11.826847",
     "exception": false,
     "start_time": "2024-09-11T04:33:38.542823",
     "status": "completed"
    },
    "tags": [
     "hide-input"
    ]
   },
   "outputs": [
    {
     "name": "stderr",
     "output_type": "stream",
     "text": [
      "\r",
      "  0%|          | 0/1 [00:00<?, ?it/s]"
     ]
    },
    {
     "name": "stderr",
     "output_type": "stream",
     "text": [
      "\r",
      "100%|██████████| 1/1 [00:00<00:00, 79.14it/s]"
     ]
    },
    {
     "name": "stderr",
     "output_type": "stream",
     "text": [
      "\n"
     ]
    },
    {
     "name": "stderr",
     "output_type": "stream",
     "text": [
      "\r",
      "  0%|          | 0/2 [00:00<?, ?it/s]"
     ]
    },
    {
     "name": "stderr",
     "output_type": "stream",
     "text": [
      "\r",
      "100%|██████████| 2/2 [00:00<00:00,  6.07it/s]"
     ]
    },
    {
     "name": "stderr",
     "output_type": "stream",
     "text": [
      "\r",
      "100%|██████████| 2/2 [00:00<00:00,  6.03it/s]"
     ]
    },
    {
     "name": "stderr",
     "output_type": "stream",
     "text": [
      "\n"
     ]
    },
    {
     "name": "stderr",
     "output_type": "stream",
     "text": [
      "\r",
      "  0%|          | 0/3 [00:00<?, ?it/s]"
     ]
    },
    {
     "name": "stderr",
     "output_type": "stream",
     "text": [
      "\r",
      " 67%|██████▋   | 2/3 [00:00<00:00,  8.71it/s]"
     ]
    },
    {
     "name": "stderr",
     "output_type": "stream",
     "text": [
      "\r",
      "100%|██████████| 3/3 [00:00<00:00,  5.46it/s]"
     ]
    },
    {
     "name": "stderr",
     "output_type": "stream",
     "text": [
      "\r",
      "100%|██████████| 3/3 [00:00<00:00,  5.89it/s]"
     ]
    },
    {
     "name": "stderr",
     "output_type": "stream",
     "text": [
      "\n"
     ]
    },
    {
     "name": "stderr",
     "output_type": "stream",
     "text": [
      "\r",
      "  0%|          | 0/4 [00:00<?, ?it/s]"
     ]
    },
    {
     "name": "stderr",
     "output_type": "stream",
     "text": [
      "\r",
      " 50%|█████     | 2/4 [00:00<00:00,  7.14it/s]"
     ]
    },
    {
     "name": "stderr",
     "output_type": "stream",
     "text": [
      "\r",
      " 75%|███████▌  | 3/4 [00:00<00:00,  4.76it/s]"
     ]
    },
    {
     "name": "stderr",
     "output_type": "stream",
     "text": [
      "\r",
      "100%|██████████| 4/4 [00:00<00:00,  4.29it/s]"
     ]
    },
    {
     "name": "stderr",
     "output_type": "stream",
     "text": [
      "\r",
      "100%|██████████| 4/4 [00:00<00:00,  4.64it/s]"
     ]
    },
    {
     "name": "stderr",
     "output_type": "stream",
     "text": [
      "\n"
     ]
    },
    {
     "name": "stderr",
     "output_type": "stream",
     "text": [
      "\r",
      "  0%|          | 0/5 [00:00<?, ?it/s]"
     ]
    },
    {
     "name": "stderr",
     "output_type": "stream",
     "text": [
      "\r",
      " 40%|████      | 2/5 [00:00<00:00,  7.69it/s]"
     ]
    },
    {
     "name": "stderr",
     "output_type": "stream",
     "text": [
      "\r",
      " 60%|██████    | 3/5 [00:00<00:00,  6.00it/s]"
     ]
    },
    {
     "name": "stderr",
     "output_type": "stream",
     "text": [
      "\r",
      " 80%|████████  | 4/5 [00:00<00:00,  5.25it/s]"
     ]
    },
    {
     "name": "stderr",
     "output_type": "stream",
     "text": [
      "\r",
      "100%|██████████| 5/5 [00:00<00:00,  4.87it/s]"
     ]
    },
    {
     "name": "stderr",
     "output_type": "stream",
     "text": [
      "\r",
      "100%|██████████| 5/5 [00:00<00:00,  5.30it/s]"
     ]
    },
    {
     "name": "stderr",
     "output_type": "stream",
     "text": [
      "\n"
     ]
    },
    {
     "name": "stderr",
     "output_type": "stream",
     "text": [
      "\r",
      "  0%|          | 0/6 [00:00<?, ?it/s]"
     ]
    },
    {
     "name": "stderr",
     "output_type": "stream",
     "text": [
      "\r",
      " 33%|███▎      | 2/6 [00:00<00:00,  7.43it/s]"
     ]
    },
    {
     "name": "stderr",
     "output_type": "stream",
     "text": [
      "\r",
      " 50%|█████     | 3/6 [00:00<00:00,  5.44it/s]"
     ]
    },
    {
     "name": "stderr",
     "output_type": "stream",
     "text": [
      "\r",
      " 67%|██████▋   | 4/6 [00:00<00:00,  4.78it/s]"
     ]
    },
    {
     "name": "stderr",
     "output_type": "stream",
     "text": [
      "\r",
      " 83%|████████▎ | 5/6 [00:01<00:00,  4.43it/s]"
     ]
    },
    {
     "name": "stderr",
     "output_type": "stream",
     "text": [
      "\r",
      "100%|██████████| 6/6 [00:01<00:00,  4.31it/s]"
     ]
    },
    {
     "name": "stderr",
     "output_type": "stream",
     "text": [
      "\r",
      "100%|██████████| 6/6 [00:01<00:00,  4.70it/s]"
     ]
    },
    {
     "name": "stderr",
     "output_type": "stream",
     "text": [
      "\n"
     ]
    },
    {
     "name": "stderr",
     "output_type": "stream",
     "text": [
      "\r",
      "  0%|          | 0/7 [00:00<?, ?it/s]"
     ]
    },
    {
     "name": "stderr",
     "output_type": "stream",
     "text": [
      "\r",
      " 29%|██▊       | 2/7 [00:00<00:00,  5.71it/s]"
     ]
    },
    {
     "name": "stderr",
     "output_type": "stream",
     "text": [
      "\r",
      " 43%|████▎     | 3/7 [00:00<00:00,  4.46it/s]"
     ]
    },
    {
     "name": "stderr",
     "output_type": "stream",
     "text": [
      "\r",
      " 57%|█████▋    | 4/7 [00:00<00:00,  3.91it/s]"
     ]
    },
    {
     "name": "stderr",
     "output_type": "stream",
     "text": [
      "\r",
      " 71%|███████▏  | 5/7 [00:01<00:00,  3.69it/s]"
     ]
    },
    {
     "name": "stderr",
     "output_type": "stream",
     "text": [
      "\r",
      " 86%|████████▌ | 6/7 [00:01<00:00,  3.56it/s]"
     ]
    },
    {
     "name": "stderr",
     "output_type": "stream",
     "text": [
      "\r",
      "100%|██████████| 7/7 [00:01<00:00,  3.80it/s]"
     ]
    },
    {
     "name": "stderr",
     "output_type": "stream",
     "text": [
      "\r",
      "100%|██████████| 7/7 [00:01<00:00,  3.93it/s]"
     ]
    },
    {
     "name": "stderr",
     "output_type": "stream",
     "text": [
      "\n"
     ]
    },
    {
     "name": "stderr",
     "output_type": "stream",
     "text": [
      "\r",
      "  0%|          | 0/8 [00:00<?, ?it/s]"
     ]
    },
    {
     "name": "stderr",
     "output_type": "stream",
     "text": [
      "\r",
      " 25%|██▌       | 2/8 [00:00<00:01,  5.61it/s]"
     ]
    },
    {
     "name": "stderr",
     "output_type": "stream",
     "text": [
      "\r",
      " 38%|███▊      | 3/8 [00:00<00:01,  4.54it/s]"
     ]
    },
    {
     "name": "stderr",
     "output_type": "stream",
     "text": [
      "\r",
      " 50%|█████     | 4/8 [00:00<00:00,  4.26it/s]"
     ]
    },
    {
     "name": "stderr",
     "output_type": "stream",
     "text": [
      "\r",
      " 62%|██████▎   | 5/8 [00:01<00:00,  4.05it/s]"
     ]
    },
    {
     "name": "stderr",
     "output_type": "stream",
     "text": [
      "\r",
      " 75%|███████▌  | 6/8 [00:01<00:00,  3.98it/s]"
     ]
    },
    {
     "name": "stderr",
     "output_type": "stream",
     "text": [
      "\r",
      " 88%|████████▊ | 7/8 [00:01<00:00,  4.03it/s]"
     ]
    },
    {
     "name": "stderr",
     "output_type": "stream",
     "text": [
      "\r",
      "100%|██████████| 8/8 [00:01<00:00,  3.88it/s]"
     ]
    },
    {
     "name": "stderr",
     "output_type": "stream",
     "text": [
      "\r",
      "100%|██████████| 8/8 [00:01<00:00,  4.11it/s]"
     ]
    },
    {
     "name": "stderr",
     "output_type": "stream",
     "text": [
      "\n"
     ]
    },
    {
     "name": "stderr",
     "output_type": "stream",
     "text": [
      "\r",
      "  0%|          | 0/9 [00:00<?, ?it/s]"
     ]
    },
    {
     "name": "stderr",
     "output_type": "stream",
     "text": [
      "\r",
      " 22%|██▏       | 2/9 [00:00<00:00,  7.57it/s]"
     ]
    },
    {
     "name": "stderr",
     "output_type": "stream",
     "text": [
      "\r",
      " 33%|███▎      | 3/9 [00:00<00:01,  5.54it/s]"
     ]
    },
    {
     "name": "stderr",
     "output_type": "stream",
     "text": [
      "\r",
      " 44%|████▍     | 4/9 [00:00<00:01,  4.34it/s]"
     ]
    },
    {
     "name": "stderr",
     "output_type": "stream",
     "text": [
      "\r",
      " 56%|█████▌    | 5/9 [00:01<00:01,  3.98it/s]"
     ]
    },
    {
     "name": "stderr",
     "output_type": "stream",
     "text": [
      "\r",
      " 67%|██████▋   | 6/9 [00:01<00:00,  3.76it/s]"
     ]
    },
    {
     "name": "stderr",
     "output_type": "stream",
     "text": [
      "\r",
      " 78%|███████▊  | 7/9 [00:01<00:00,  3.65it/s]"
     ]
    },
    {
     "name": "stderr",
     "output_type": "stream",
     "text": [
      "\r",
      " 89%|████████▉ | 8/9 [00:01<00:00,  3.63it/s]"
     ]
    },
    {
     "name": "stderr",
     "output_type": "stream",
     "text": [
      "\r",
      "100%|██████████| 9/9 [00:02<00:00,  3.48it/s]"
     ]
    },
    {
     "name": "stderr",
     "output_type": "stream",
     "text": [
      "\r",
      "100%|██████████| 9/9 [00:02<00:00,  3.92it/s]"
     ]
    },
    {
     "name": "stderr",
     "output_type": "stream",
     "text": [
      "\n"
     ]
    },
    {
     "name": "stderr",
     "output_type": "stream",
     "text": [
      "\r",
      "  0%|          | 0/10 [00:00<?, ?it/s]"
     ]
    },
    {
     "name": "stderr",
     "output_type": "stream",
     "text": [
      "\r",
      " 20%|██        | 2/10 [00:00<00:00,  8.40it/s]"
     ]
    },
    {
     "name": "stderr",
     "output_type": "stream",
     "text": [
      "\r",
      " 30%|███       | 3/10 [00:00<00:01,  5.79it/s]"
     ]
    },
    {
     "name": "stderr",
     "output_type": "stream",
     "text": [
      "\r",
      " 40%|████      | 4/10 [00:00<00:01,  5.05it/s]"
     ]
    },
    {
     "name": "stderr",
     "output_type": "stream",
     "text": [
      "\r",
      " 50%|█████     | 5/10 [00:01<00:01,  4.12it/s]"
     ]
    },
    {
     "name": "stderr",
     "output_type": "stream",
     "text": [
      "\r",
      " 60%|██████    | 6/10 [00:01<00:00,  4.04it/s]"
     ]
    },
    {
     "name": "stderr",
     "output_type": "stream",
     "text": [
      "\r",
      " 70%|███████   | 7/10 [00:01<00:00,  3.84it/s]"
     ]
    },
    {
     "name": "stderr",
     "output_type": "stream",
     "text": [
      "\r",
      " 80%|████████  | 8/10 [00:01<00:00,  3.84it/s]"
     ]
    },
    {
     "name": "stderr",
     "output_type": "stream",
     "text": [
      "\r",
      " 90%|█████████ | 9/10 [00:02<00:00,  3.70it/s]"
     ]
    },
    {
     "name": "stderr",
     "output_type": "stream",
     "text": [
      "\r",
      "100%|██████████| 10/10 [00:02<00:00,  3.89it/s]"
     ]
    },
    {
     "name": "stderr",
     "output_type": "stream",
     "text": [
      "\r",
      "100%|██████████| 10/10 [00:02<00:00,  4.20it/s]"
     ]
    },
    {
     "name": "stderr",
     "output_type": "stream",
     "text": [
      "\n"
     ]
    },
    {
     "name": "stderr",
     "output_type": "stream",
     "text": [
      "\r",
      "  0%|          | 0/11 [00:00<?, ?it/s]"
     ]
    },
    {
     "name": "stderr",
     "output_type": "stream",
     "text": [
      "\r",
      " 18%|█▊        | 2/11 [00:00<00:01,  7.40it/s]"
     ]
    },
    {
     "name": "stderr",
     "output_type": "stream",
     "text": [
      "\r",
      " 27%|██▋       | 3/11 [00:00<00:01,  5.48it/s]"
     ]
    },
    {
     "name": "stderr",
     "output_type": "stream",
     "text": [
      "\r",
      " 36%|███▋      | 4/11 [00:00<00:01,  4.77it/s]"
     ]
    },
    {
     "name": "stderr",
     "output_type": "stream",
     "text": [
      "\r",
      " 45%|████▌     | 5/11 [00:01<00:01,  3.95it/s]"
     ]
    },
    {
     "name": "stderr",
     "output_type": "stream",
     "text": [
      "\r",
      " 55%|█████▍    | 6/11 [00:01<00:01,  3.82it/s]"
     ]
    },
    {
     "name": "stderr",
     "output_type": "stream",
     "text": [
      "\r",
      " 64%|██████▎   | 7/11 [00:01<00:01,  3.91it/s]"
     ]
    },
    {
     "name": "stderr",
     "output_type": "stream",
     "text": [
      "\r",
      " 73%|███████▎  | 8/11 [00:01<00:00,  3.67it/s]"
     ]
    },
    {
     "name": "stderr",
     "output_type": "stream",
     "text": [
      "\r",
      " 82%|████████▏ | 9/11 [00:02<00:00,  3.79it/s]"
     ]
    },
    {
     "name": "stderr",
     "output_type": "stream",
     "text": [
      "\r",
      " 91%|█████████ | 10/11 [00:02<00:00,  3.71it/s]"
     ]
    },
    {
     "name": "stderr",
     "output_type": "stream",
     "text": [
      "\r",
      "100%|██████████| 11/11 [00:02<00:00,  3.67it/s]"
     ]
    },
    {
     "name": "stderr",
     "output_type": "stream",
     "text": [
      "\r",
      "100%|██████████| 11/11 [00:02<00:00,  4.01it/s]"
     ]
    },
    {
     "name": "stderr",
     "output_type": "stream",
     "text": [
      "\n"
     ]
    },
    {
     "name": "stderr",
     "output_type": "stream",
     "text": [
      "\r",
      "  0%|          | 0/12 [00:00<?, ?it/s]"
     ]
    },
    {
     "name": "stderr",
     "output_type": "stream",
     "text": [
      "\r",
      " 17%|█▋        | 2/12 [00:00<00:01,  5.03it/s]"
     ]
    },
    {
     "name": "stderr",
     "output_type": "stream",
     "text": [
      "\r",
      " 25%|██▌       | 3/12 [00:00<00:02,  3.59it/s]"
     ]
    },
    {
     "name": "stderr",
     "output_type": "stream",
     "text": [
      "\r",
      " 33%|███▎      | 4/12 [00:01<00:02,  3.23it/s]"
     ]
    },
    {
     "name": "stderr",
     "output_type": "stream",
     "text": [
      "\r",
      " 42%|████▏     | 5/12 [00:01<00:02,  2.97it/s]"
     ]
    },
    {
     "name": "stderr",
     "output_type": "stream",
     "text": [
      "\r",
      " 50%|█████     | 6/12 [00:01<00:02,  2.93it/s]"
     ]
    },
    {
     "name": "stderr",
     "output_type": "stream",
     "text": [
      "\r",
      " 58%|█████▊    | 7/12 [00:02<00:01,  2.81it/s]"
     ]
    },
    {
     "name": "stderr",
     "output_type": "stream",
     "text": [
      "\r",
      " 67%|██████▋   | 8/12 [00:02<00:01,  2.50it/s]"
     ]
    },
    {
     "name": "stderr",
     "output_type": "stream",
     "text": [
      "\r",
      " 75%|███████▌  | 9/12 [00:03<00:01,  2.32it/s]"
     ]
    },
    {
     "name": "stderr",
     "output_type": "stream",
     "text": [
      "\r",
      " 83%|████████▎ | 10/12 [00:03<00:00,  2.35it/s]"
     ]
    },
    {
     "name": "stderr",
     "output_type": "stream",
     "text": [
      "\r",
      " 92%|█████████▏| 11/12 [00:04<00:00,  2.33it/s]"
     ]
    },
    {
     "name": "stderr",
     "output_type": "stream",
     "text": [
      "\r",
      "100%|██████████| 12/12 [00:04<00:00,  2.47it/s]"
     ]
    },
    {
     "name": "stderr",
     "output_type": "stream",
     "text": [
      "\r",
      "100%|██████████| 12/12 [00:04<00:00,  2.68it/s]"
     ]
    },
    {
     "name": "stderr",
     "output_type": "stream",
     "text": [
      "\n"
     ]
    },
    {
     "name": "stderr",
     "output_type": "stream",
     "text": [
      "\r",
      "  0%|          | 0/13 [00:00<?, ?it/s]"
     ]
    },
    {
     "name": "stderr",
     "output_type": "stream",
     "text": [
      "\r",
      " 15%|█▌        | 2/13 [00:00<00:01,  7.77it/s]"
     ]
    },
    {
     "name": "stderr",
     "output_type": "stream",
     "text": [
      "\r",
      " 23%|██▎       | 3/13 [00:00<00:01,  5.22it/s]"
     ]
    },
    {
     "name": "stderr",
     "output_type": "stream",
     "text": [
      "\r",
      " 31%|███       | 4/13 [00:00<00:02,  4.44it/s]"
     ]
    },
    {
     "name": "stderr",
     "output_type": "stream",
     "text": [
      "\r",
      " 38%|███▊      | 5/13 [00:01<00:01,  4.19it/s]"
     ]
    },
    {
     "name": "stderr",
     "output_type": "stream",
     "text": [
      "\r",
      " 46%|████▌     | 6/13 [00:01<00:01,  3.97it/s]"
     ]
    },
    {
     "name": "stderr",
     "output_type": "stream",
     "text": [
      "\r",
      " 54%|█████▍    | 7/13 [00:01<00:01,  3.92it/s]"
     ]
    },
    {
     "name": "stderr",
     "output_type": "stream",
     "text": [
      "\r",
      " 62%|██████▏   | 8/13 [00:01<00:01,  3.99it/s]"
     ]
    },
    {
     "name": "stderr",
     "output_type": "stream",
     "text": [
      "\r",
      " 69%|██████▉   | 9/13 [00:02<00:01,  3.30it/s]"
     ]
    },
    {
     "name": "stderr",
     "output_type": "stream",
     "text": [
      "\r",
      " 77%|███████▋  | 10/13 [00:02<00:01,  2.81it/s]"
     ]
    },
    {
     "name": "stderr",
     "output_type": "stream",
     "text": [
      "\r",
      " 85%|████████▍ | 11/13 [00:03<00:00,  2.48it/s]"
     ]
    },
    {
     "name": "stderr",
     "output_type": "stream",
     "text": [
      "\r",
      " 92%|█████████▏| 12/13 [00:03<00:00,  2.41it/s]"
     ]
    },
    {
     "name": "stderr",
     "output_type": "stream",
     "text": [
      "\r",
      "100%|██████████| 13/13 [00:04<00:00,  2.28it/s]"
     ]
    },
    {
     "name": "stderr",
     "output_type": "stream",
     "text": [
      "\r",
      "100%|██████████| 13/13 [00:04<00:00,  3.09it/s]"
     ]
    },
    {
     "name": "stderr",
     "output_type": "stream",
     "text": [
      "\n"
     ]
    },
    {
     "name": "stderr",
     "output_type": "stream",
     "text": [
      "\r",
      "  0%|          | 0/14 [00:00<?, ?it/s]"
     ]
    },
    {
     "name": "stderr",
     "output_type": "stream",
     "text": [
      "\r",
      " 14%|█▍        | 2/14 [00:00<00:02,  4.04it/s]"
     ]
    },
    {
     "name": "stderr",
     "output_type": "stream",
     "text": [
      "\r",
      " 21%|██▏       | 3/14 [00:00<00:03,  2.83it/s]"
     ]
    },
    {
     "name": "stderr",
     "output_type": "stream",
     "text": [
      "\r",
      " 29%|██▊       | 4/14 [00:01<00:03,  2.63it/s]"
     ]
    },
    {
     "name": "stderr",
     "output_type": "stream",
     "text": [
      "\r",
      " 36%|███▌      | 5/14 [00:01<00:03,  2.69it/s]"
     ]
    },
    {
     "name": "stderr",
     "output_type": "stream",
     "text": [
      "\r",
      " 43%|████▎     | 6/14 [00:02<00:02,  2.87it/s]"
     ]
    },
    {
     "name": "stderr",
     "output_type": "stream",
     "text": [
      "\r",
      " 50%|█████     | 7/14 [00:02<00:02,  2.93it/s]"
     ]
    },
    {
     "name": "stderr",
     "output_type": "stream",
     "text": [
      "\r",
      " 57%|█████▋    | 8/14 [00:02<00:01,  3.03it/s]"
     ]
    },
    {
     "name": "stderr",
     "output_type": "stream",
     "text": [
      "\r",
      " 64%|██████▍   | 9/14 [00:03<00:01,  3.09it/s]"
     ]
    },
    {
     "name": "stderr",
     "output_type": "stream",
     "text": [
      "\r",
      " 71%|███████▏  | 10/14 [00:03<00:01,  3.17it/s]"
     ]
    },
    {
     "name": "stderr",
     "output_type": "stream",
     "text": [
      "\r",
      " 79%|███████▊  | 11/14 [00:03<00:00,  3.09it/s]"
     ]
    },
    {
     "name": "stderr",
     "output_type": "stream",
     "text": [
      "\r",
      " 86%|████████▌ | 12/14 [00:03<00:00,  3.20it/s]"
     ]
    },
    {
     "name": "stderr",
     "output_type": "stream",
     "text": [
      "\r",
      " 93%|█████████▎| 13/14 [00:04<00:00,  3.37it/s]"
     ]
    },
    {
     "name": "stderr",
     "output_type": "stream",
     "text": [
      "\r",
      "100%|██████████| 14/14 [00:04<00:00,  3.14it/s]"
     ]
    },
    {
     "name": "stderr",
     "output_type": "stream",
     "text": [
      "\r",
      "100%|██████████| 14/14 [00:04<00:00,  3.05it/s]"
     ]
    },
    {
     "name": "stderr",
     "output_type": "stream",
     "text": [
      "\n"
     ]
    },
    {
     "name": "stderr",
     "output_type": "stream",
     "text": [
      "\r",
      "  0%|          | 0/15 [00:00<?, ?it/s]"
     ]
    },
    {
     "name": "stderr",
     "output_type": "stream",
     "text": [
      "\r",
      " 13%|█▎        | 2/15 [00:00<00:01,  7.58it/s]"
     ]
    },
    {
     "name": "stderr",
     "output_type": "stream",
     "text": [
      "\r",
      " 20%|██        | 3/15 [00:00<00:02,  5.44it/s]"
     ]
    },
    {
     "name": "stderr",
     "output_type": "stream",
     "text": [
      "\r",
      " 27%|██▋       | 4/15 [00:00<00:02,  4.80it/s]"
     ]
    },
    {
     "name": "stderr",
     "output_type": "stream",
     "text": [
      "\r",
      " 33%|███▎      | 5/15 [00:00<00:02,  4.66it/s]"
     ]
    },
    {
     "name": "stderr",
     "output_type": "stream",
     "text": [
      "\r",
      " 40%|████      | 6/15 [00:01<00:02,  3.71it/s]"
     ]
    },
    {
     "name": "stderr",
     "output_type": "stream",
     "text": [
      "\r",
      " 47%|████▋     | 7/15 [00:01<00:02,  3.12it/s]"
     ]
    },
    {
     "name": "stderr",
     "output_type": "stream",
     "text": [
      "\r",
      " 53%|█████▎    | 8/15 [00:02<00:02,  2.90it/s]"
     ]
    },
    {
     "name": "stderr",
     "output_type": "stream",
     "text": [
      "\r",
      " 60%|██████    | 9/15 [00:02<00:02,  2.77it/s]"
     ]
    },
    {
     "name": "stderr",
     "output_type": "stream",
     "text": [
      "\r",
      " 67%|██████▋   | 10/15 [00:02<00:01,  2.97it/s]"
     ]
    },
    {
     "name": "stderr",
     "output_type": "stream",
     "text": [
      "\r",
      " 73%|███████▎  | 11/15 [00:03<00:01,  2.93it/s]"
     ]
    },
    {
     "name": "stderr",
     "output_type": "stream",
     "text": [
      "\r",
      " 80%|████████  | 12/15 [00:03<00:01,  2.86it/s]"
     ]
    },
    {
     "name": "stderr",
     "output_type": "stream",
     "text": [
      "\r",
      " 87%|████████▋ | 13/15 [00:03<00:00,  3.13it/s]"
     ]
    },
    {
     "name": "stderr",
     "output_type": "stream",
     "text": [
      "\r",
      " 93%|█████████▎| 14/15 [00:04<00:00,  3.22it/s]"
     ]
    },
    {
     "name": "stderr",
     "output_type": "stream",
     "text": [
      "\r",
      "100%|██████████| 15/15 [00:04<00:00,  3.54it/s]"
     ]
    },
    {
     "name": "stderr",
     "output_type": "stream",
     "text": [
      "\r",
      "100%|██████████| 15/15 [00:04<00:00,  3.44it/s]"
     ]
    },
    {
     "name": "stderr",
     "output_type": "stream",
     "text": [
      "\n"
     ]
    },
    {
     "data": {
      "text/html": [
       "<div>\n",
       "<style scoped>\n",
       "    .dataframe tbody tr th:only-of-type {\n",
       "        vertical-align: middle;\n",
       "    }\n",
       "\n",
       "    .dataframe tbody tr th {\n",
       "        vertical-align: top;\n",
       "    }\n",
       "\n",
       "    .dataframe thead tr th {\n",
       "        text-align: left;\n",
       "    }\n",
       "\n",
       "    .dataframe thead tr:last-of-type th {\n",
       "        text-align: right;\n",
       "    }\n",
       "</style>\n",
       "<table border=\"1\" class=\"dataframe\">\n",
       "  <thead>\n",
       "    <tr>\n",
       "      <th></th>\n",
       "      <th colspan=\"2\" halign=\"left\">fit_time</th>\n",
       "      <th colspan=\"2\" halign=\"left\">score_time</th>\n",
       "      <th colspan=\"2\" halign=\"left\">test_precision</th>\n",
       "      <th colspan=\"2\" halign=\"left\">test_recall</th>\n",
       "      <th colspan=\"2\" halign=\"left\">test_f1</th>\n",
       "      <th colspan=\"2\" halign=\"left\">test_balanced_accuracy</th>\n",
       "      <th colspan=\"2\" halign=\"left\">test_roc_auc</th>\n",
       "      <th colspan=\"2\" halign=\"left\">test_average_precision</th>\n",
       "      <th colspan=\"2\" halign=\"left\">n_observations</th>\n",
       "    </tr>\n",
       "    <tr>\n",
       "      <th></th>\n",
       "      <th>mean</th>\n",
       "      <th>std</th>\n",
       "      <th>mean</th>\n",
       "      <th>std</th>\n",
       "      <th>mean</th>\n",
       "      <th>std</th>\n",
       "      <th>mean</th>\n",
       "      <th>std</th>\n",
       "      <th>mean</th>\n",
       "      <th>std</th>\n",
       "      <th>mean</th>\n",
       "      <th>std</th>\n",
       "      <th>mean</th>\n",
       "      <th>std</th>\n",
       "      <th>mean</th>\n",
       "      <th>std</th>\n",
       "      <th>mean</th>\n",
       "      <th>std</th>\n",
       "    </tr>\n",
       "    <tr>\n",
       "      <th>n_features</th>\n",
       "      <th></th>\n",
       "      <th></th>\n",
       "      <th></th>\n",
       "      <th></th>\n",
       "      <th></th>\n",
       "      <th></th>\n",
       "      <th></th>\n",
       "      <th></th>\n",
       "      <th></th>\n",
       "      <th></th>\n",
       "      <th></th>\n",
       "      <th></th>\n",
       "      <th></th>\n",
       "      <th></th>\n",
       "      <th></th>\n",
       "      <th></th>\n",
       "      <th></th>\n",
       "      <th></th>\n",
       "    </tr>\n",
       "  </thead>\n",
       "  <tbody>\n",
       "    <tr>\n",
       "      <th>1</th>\n",
       "      <td>0.003</td>\n",
       "      <td>0.001</td>\n",
       "      <td>0.033</td>\n",
       "      <td>0.004</td>\n",
       "      <td>0.000</td>\n",
       "      <td>0.000</td>\n",
       "      <td>0.000</td>\n",
       "      <td>0.000</td>\n",
       "      <td>0.000</td>\n",
       "      <td>0.000</td>\n",
       "      <td>0.500</td>\n",
       "      <td>0.000</td>\n",
       "      <td>0.822</td>\n",
       "      <td>0.062</td>\n",
       "      <td>0.799</td>\n",
       "      <td>0.086</td>\n",
       "      <td>210.000</td>\n",
       "      <td>0.000</td>\n",
       "    </tr>\n",
       "    <tr>\n",
       "      <th>2</th>\n",
       "      <td>0.003</td>\n",
       "      <td>0.002</td>\n",
       "      <td>0.039</td>\n",
       "      <td>0.010</td>\n",
       "      <td>0.751</td>\n",
       "      <td>0.123</td>\n",
       "      <td>0.440</td>\n",
       "      <td>0.110</td>\n",
       "      <td>0.545</td>\n",
       "      <td>0.100</td>\n",
       "      <td>0.663</td>\n",
       "      <td>0.057</td>\n",
       "      <td>0.665</td>\n",
       "      <td>0.072</td>\n",
       "      <td>0.659</td>\n",
       "      <td>0.083</td>\n",
       "      <td>210.000</td>\n",
       "      <td>0.000</td>\n",
       "    </tr>\n",
       "    <tr>\n",
       "      <th>3</th>\n",
       "      <td>0.004</td>\n",
       "      <td>0.003</td>\n",
       "      <td>0.044</td>\n",
       "      <td>0.016</td>\n",
       "      <td>0.713</td>\n",
       "      <td>0.084</td>\n",
       "      <td>0.671</td>\n",
       "      <td>0.115</td>\n",
       "      <td>0.687</td>\n",
       "      <td>0.089</td>\n",
       "      <td>0.737</td>\n",
       "      <td>0.069</td>\n",
       "      <td>0.815</td>\n",
       "      <td>0.068</td>\n",
       "      <td>0.795</td>\n",
       "      <td>0.070</td>\n",
       "      <td>210.000</td>\n",
       "      <td>0.000</td>\n",
       "    </tr>\n",
       "    <tr>\n",
       "      <th>4</th>\n",
       "      <td>0.004</td>\n",
       "      <td>0.003</td>\n",
       "      <td>0.040</td>\n",
       "      <td>0.015</td>\n",
       "      <td>0.705</td>\n",
       "      <td>0.087</td>\n",
       "      <td>0.671</td>\n",
       "      <td>0.116</td>\n",
       "      <td>0.684</td>\n",
       "      <td>0.093</td>\n",
       "      <td>0.733</td>\n",
       "      <td>0.072</td>\n",
       "      <td>0.810</td>\n",
       "      <td>0.070</td>\n",
       "      <td>0.788</td>\n",
       "      <td>0.073</td>\n",
       "      <td>210.000</td>\n",
       "      <td>0.000</td>\n",
       "    </tr>\n",
       "    <tr>\n",
       "      <th>5</th>\n",
       "      <td>0.003</td>\n",
       "      <td>0.000</td>\n",
       "      <td>0.033</td>\n",
       "      <td>0.006</td>\n",
       "      <td>0.739</td>\n",
       "      <td>0.096</td>\n",
       "      <td>0.678</td>\n",
       "      <td>0.130</td>\n",
       "      <td>0.702</td>\n",
       "      <td>0.102</td>\n",
       "      <td>0.752</td>\n",
       "      <td>0.077</td>\n",
       "      <td>0.825</td>\n",
       "      <td>0.069</td>\n",
       "      <td>0.800</td>\n",
       "      <td>0.081</td>\n",
       "      <td>210.000</td>\n",
       "      <td>0.000</td>\n",
       "    </tr>\n",
       "    <tr>\n",
       "      <th>6</th>\n",
       "      <td>0.003</td>\n",
       "      <td>0.000</td>\n",
       "      <td>0.036</td>\n",
       "      <td>0.006</td>\n",
       "      <td>0.747</td>\n",
       "      <td>0.106</td>\n",
       "      <td>0.695</td>\n",
       "      <td>0.116</td>\n",
       "      <td>0.714</td>\n",
       "      <td>0.092</td>\n",
       "      <td>0.759</td>\n",
       "      <td>0.074</td>\n",
       "      <td>0.834</td>\n",
       "      <td>0.067</td>\n",
       "      <td>0.817</td>\n",
       "      <td>0.077</td>\n",
       "      <td>210.000</td>\n",
       "      <td>0.000</td>\n",
       "    </tr>\n",
       "    <tr>\n",
       "      <th>7</th>\n",
       "      <td>0.003</td>\n",
       "      <td>0.000</td>\n",
       "      <td>0.038</td>\n",
       "      <td>0.013</td>\n",
       "      <td>0.741</td>\n",
       "      <td>0.105</td>\n",
       "      <td>0.703</td>\n",
       "      <td>0.124</td>\n",
       "      <td>0.716</td>\n",
       "      <td>0.093</td>\n",
       "      <td>0.760</td>\n",
       "      <td>0.075</td>\n",
       "      <td>0.843</td>\n",
       "      <td>0.062</td>\n",
       "      <td>0.813</td>\n",
       "      <td>0.075</td>\n",
       "      <td>210.000</td>\n",
       "      <td>0.000</td>\n",
       "    </tr>\n",
       "    <tr>\n",
       "      <th>8</th>\n",
       "      <td>0.004</td>\n",
       "      <td>0.002</td>\n",
       "      <td>0.037</td>\n",
       "      <td>0.007</td>\n",
       "      <td>0.788</td>\n",
       "      <td>0.095</td>\n",
       "      <td>0.766</td>\n",
       "      <td>0.118</td>\n",
       "      <td>0.770</td>\n",
       "      <td>0.079</td>\n",
       "      <td>0.805</td>\n",
       "      <td>0.065</td>\n",
       "      <td>0.897</td>\n",
       "      <td>0.048</td>\n",
       "      <td>0.868</td>\n",
       "      <td>0.061</td>\n",
       "      <td>210.000</td>\n",
       "      <td>0.000</td>\n",
       "    </tr>\n",
       "    <tr>\n",
       "      <th>9</th>\n",
       "      <td>0.004</td>\n",
       "      <td>0.002</td>\n",
       "      <td>0.036</td>\n",
       "      <td>0.006</td>\n",
       "      <td>0.785</td>\n",
       "      <td>0.103</td>\n",
       "      <td>0.769</td>\n",
       "      <td>0.123</td>\n",
       "      <td>0.770</td>\n",
       "      <td>0.086</td>\n",
       "      <td>0.804</td>\n",
       "      <td>0.071</td>\n",
       "      <td>0.894</td>\n",
       "      <td>0.050</td>\n",
       "      <td>0.863</td>\n",
       "      <td>0.066</td>\n",
       "      <td>210.000</td>\n",
       "      <td>0.000</td>\n",
       "    </tr>\n",
       "    <tr>\n",
       "      <th>10</th>\n",
       "      <td>0.003</td>\n",
       "      <td>0.001</td>\n",
       "      <td>0.037</td>\n",
       "      <td>0.008</td>\n",
       "      <td>0.773</td>\n",
       "      <td>0.100</td>\n",
       "      <td>0.752</td>\n",
       "      <td>0.125</td>\n",
       "      <td>0.755</td>\n",
       "      <td>0.087</td>\n",
       "      <td>0.792</td>\n",
       "      <td>0.071</td>\n",
       "      <td>0.893</td>\n",
       "      <td>0.052</td>\n",
       "      <td>0.864</td>\n",
       "      <td>0.064</td>\n",
       "      <td>210.000</td>\n",
       "      <td>0.000</td>\n",
       "    </tr>\n",
       "    <tr>\n",
       "      <th>11</th>\n",
       "      <td>0.004</td>\n",
       "      <td>0.001</td>\n",
       "      <td>0.035</td>\n",
       "      <td>0.005</td>\n",
       "      <td>0.816</td>\n",
       "      <td>0.086</td>\n",
       "      <td>0.816</td>\n",
       "      <td>0.108</td>\n",
       "      <td>0.812</td>\n",
       "      <td>0.078</td>\n",
       "      <td>0.839</td>\n",
       "      <td>0.067</td>\n",
       "      <td>0.912</td>\n",
       "      <td>0.047</td>\n",
       "      <td>0.886</td>\n",
       "      <td>0.061</td>\n",
       "      <td>210.000</td>\n",
       "      <td>0.000</td>\n",
       "    </tr>\n",
       "    <tr>\n",
       "      <th>12</th>\n",
       "      <td>0.004</td>\n",
       "      <td>0.004</td>\n",
       "      <td>0.042</td>\n",
       "      <td>0.020</td>\n",
       "      <td>0.816</td>\n",
       "      <td>0.087</td>\n",
       "      <td>0.820</td>\n",
       "      <td>0.102</td>\n",
       "      <td>0.814</td>\n",
       "      <td>0.074</td>\n",
       "      <td>0.841</td>\n",
       "      <td>0.065</td>\n",
       "      <td>0.912</td>\n",
       "      <td>0.047</td>\n",
       "      <td>0.885</td>\n",
       "      <td>0.062</td>\n",
       "      <td>210.000</td>\n",
       "      <td>0.000</td>\n",
       "    </tr>\n",
       "    <tr>\n",
       "      <th>13</th>\n",
       "      <td>0.004</td>\n",
       "      <td>0.003</td>\n",
       "      <td>0.044</td>\n",
       "      <td>0.015</td>\n",
       "      <td>0.840</td>\n",
       "      <td>0.086</td>\n",
       "      <td>0.799</td>\n",
       "      <td>0.104</td>\n",
       "      <td>0.815</td>\n",
       "      <td>0.075</td>\n",
       "      <td>0.842</td>\n",
       "      <td>0.063</td>\n",
       "      <td>0.922</td>\n",
       "      <td>0.043</td>\n",
       "      <td>0.897</td>\n",
       "      <td>0.058</td>\n",
       "      <td>210.000</td>\n",
       "      <td>0.000</td>\n",
       "    </tr>\n",
       "    <tr>\n",
       "      <th>14</th>\n",
       "      <td>0.004</td>\n",
       "      <td>0.003</td>\n",
       "      <td>0.043</td>\n",
       "      <td>0.018</td>\n",
       "      <td>0.840</td>\n",
       "      <td>0.089</td>\n",
       "      <td>0.801</td>\n",
       "      <td>0.103</td>\n",
       "      <td>0.816</td>\n",
       "      <td>0.078</td>\n",
       "      <td>0.843</td>\n",
       "      <td>0.066</td>\n",
       "      <td>0.919</td>\n",
       "      <td>0.047</td>\n",
       "      <td>0.895</td>\n",
       "      <td>0.059</td>\n",
       "      <td>210.000</td>\n",
       "      <td>0.000</td>\n",
       "    </tr>\n",
       "    <tr>\n",
       "      <th>15</th>\n",
       "      <td>0.004</td>\n",
       "      <td>0.003</td>\n",
       "      <td>0.036</td>\n",
       "      <td>0.018</td>\n",
       "      <td>0.840</td>\n",
       "      <td>0.090</td>\n",
       "      <td>0.797</td>\n",
       "      <td>0.107</td>\n",
       "      <td>0.813</td>\n",
       "      <td>0.079</td>\n",
       "      <td>0.841</td>\n",
       "      <td>0.067</td>\n",
       "      <td>0.918</td>\n",
       "      <td>0.049</td>\n",
       "      <td>0.895</td>\n",
       "      <td>0.061</td>\n",
       "      <td>210.000</td>\n",
       "      <td>0.000</td>\n",
       "    </tr>\n",
       "  </tbody>\n",
       "</table>\n",
       "</div>"
      ],
      "text/plain": [
       "           fit_time       score_time       test_precision       test_recall  \\\n",
       "               mean   std       mean   std           mean   std        mean   \n",
       "n_features                                                                    \n",
       "1             0.003 0.001      0.033 0.004          0.000 0.000       0.000   \n",
       "2             0.003 0.002      0.039 0.010          0.751 0.123       0.440   \n",
       "3             0.004 0.003      0.044 0.016          0.713 0.084       0.671   \n",
       "4             0.004 0.003      0.040 0.015          0.705 0.087       0.671   \n",
       "5             0.003 0.000      0.033 0.006          0.739 0.096       0.678   \n",
       "6             0.003 0.000      0.036 0.006          0.747 0.106       0.695   \n",
       "7             0.003 0.000      0.038 0.013          0.741 0.105       0.703   \n",
       "8             0.004 0.002      0.037 0.007          0.788 0.095       0.766   \n",
       "9             0.004 0.002      0.036 0.006          0.785 0.103       0.769   \n",
       "10            0.003 0.001      0.037 0.008          0.773 0.100       0.752   \n",
       "11            0.004 0.001      0.035 0.005          0.816 0.086       0.816   \n",
       "12            0.004 0.004      0.042 0.020          0.816 0.087       0.820   \n",
       "13            0.004 0.003      0.044 0.015          0.840 0.086       0.799   \n",
       "14            0.004 0.003      0.043 0.018          0.840 0.089       0.801   \n",
       "15            0.004 0.003      0.036 0.018          0.840 0.090       0.797   \n",
       "\n",
       "                 test_f1       test_balanced_accuracy       test_roc_auc  \\\n",
       "             std    mean   std                   mean   std         mean   \n",
       "n_features                                                                 \n",
       "1          0.000   0.000 0.000                  0.500 0.000        0.822   \n",
       "2          0.110   0.545 0.100                  0.663 0.057        0.665   \n",
       "3          0.115   0.687 0.089                  0.737 0.069        0.815   \n",
       "4          0.116   0.684 0.093                  0.733 0.072        0.810   \n",
       "5          0.130   0.702 0.102                  0.752 0.077        0.825   \n",
       "6          0.116   0.714 0.092                  0.759 0.074        0.834   \n",
       "7          0.124   0.716 0.093                  0.760 0.075        0.843   \n",
       "8          0.118   0.770 0.079                  0.805 0.065        0.897   \n",
       "9          0.123   0.770 0.086                  0.804 0.071        0.894   \n",
       "10         0.125   0.755 0.087                  0.792 0.071        0.893   \n",
       "11         0.108   0.812 0.078                  0.839 0.067        0.912   \n",
       "12         0.102   0.814 0.074                  0.841 0.065        0.912   \n",
       "13         0.104   0.815 0.075                  0.842 0.063        0.922   \n",
       "14         0.103   0.816 0.078                  0.843 0.066        0.919   \n",
       "15         0.107   0.813 0.079                  0.841 0.067        0.918   \n",
       "\n",
       "                 test_average_precision       n_observations        \n",
       "             std                   mean   std           mean   std  \n",
       "n_features                                                          \n",
       "1          0.062                  0.799 0.086        210.000 0.000  \n",
       "2          0.072                  0.659 0.083        210.000 0.000  \n",
       "3          0.068                  0.795 0.070        210.000 0.000  \n",
       "4          0.070                  0.788 0.073        210.000 0.000  \n",
       "5          0.069                  0.800 0.081        210.000 0.000  \n",
       "6          0.067                  0.817 0.077        210.000 0.000  \n",
       "7          0.062                  0.813 0.075        210.000 0.000  \n",
       "8          0.048                  0.868 0.061        210.000 0.000  \n",
       "9          0.050                  0.863 0.066        210.000 0.000  \n",
       "10         0.052                  0.864 0.064        210.000 0.000  \n",
       "11         0.047                  0.886 0.061        210.000 0.000  \n",
       "12         0.047                  0.885 0.062        210.000 0.000  \n",
       "13         0.043                  0.897 0.058        210.000 0.000  \n",
       "14         0.047                  0.895 0.059        210.000 0.000  \n",
       "15         0.049                  0.895 0.061        210.000 0.000  "
      ]
     },
     "execution_count": 16,
     "metadata": {},
     "output_type": "execute_result"
    }
   ],
   "source": [
    "cv_feat_all = njab.sklearn.find_n_best_features(X=X, y=target, name=args.target,\n",
    "                                                groups=target_to_group)\n",
    "cv_feat_all = cv_feat_all.drop('test_case', axis=1).groupby('n_features').agg(['mean', 'std'])\n",
    "cv_feat_all"
   ]
  },
  {
   "cell_type": "markdown",
   "id": "0029a621",
   "metadata": {
    "papermill": {
     "duration": 0.068309,
     "end_time": "2024-09-11T04:35:11.969722",
     "exception": false,
     "start_time": "2024-09-11T04:35:11.901413",
     "status": "completed"
    },
    "tags": []
   },
   "source": [
    "Using only new features:"
   ]
  },
  {
   "cell_type": "code",
   "execution_count": 17,
   "id": "811f75d0",
   "metadata": {
    "execution": {
     "iopub.execute_input": "2024-09-11T04:35:12.093843Z",
     "iopub.status.busy": "2024-09-11T04:35:12.093555Z",
     "iopub.status.idle": "2024-09-11T04:35:56.397217Z",
     "shell.execute_reply": "2024-09-11T04:35:56.396589Z"
    },
    "papermill": {
     "duration": 44.355523,
     "end_time": "2024-09-11T04:35:56.398863",
     "exception": false,
     "start_time": "2024-09-11T04:35:12.043340",
     "status": "completed"
    },
    "tags": [
     "hide-input"
    ]
   },
   "outputs": [
    {
     "name": "stderr",
     "output_type": "stream",
     "text": [
      "\r",
      "  0%|          | 0/1 [00:00<?, ?it/s]"
     ]
    },
    {
     "name": "stderr",
     "output_type": "stream",
     "text": [
      "\r",
      "100%|██████████| 1/1 [00:00<00:00, 878.39it/s]"
     ]
    },
    {
     "name": "stderr",
     "output_type": "stream",
     "text": [
      "\n"
     ]
    },
    {
     "name": "stderr",
     "output_type": "stream",
     "text": [
      "\r",
      "  0%|          | 0/2 [00:00<?, ?it/s]"
     ]
    },
    {
     "name": "stderr",
     "output_type": "stream",
     "text": [
      "\r",
      "100%|██████████| 2/2 [00:00<00:00, 27.16it/s]"
     ]
    },
    {
     "name": "stderr",
     "output_type": "stream",
     "text": [
      "\n"
     ]
    },
    {
     "name": "stderr",
     "output_type": "stream",
     "text": [
      "\r",
      "  0%|          | 0/3 [00:00<?, ?it/s]"
     ]
    },
    {
     "name": "stderr",
     "output_type": "stream",
     "text": [
      "\r",
      "100%|██████████| 3/3 [00:00<00:00, 20.91it/s]"
     ]
    },
    {
     "name": "stderr",
     "output_type": "stream",
     "text": [
      "\r",
      "100%|██████████| 3/3 [00:00<00:00, 17.49it/s]"
     ]
    },
    {
     "name": "stderr",
     "output_type": "stream",
     "text": [
      "\n"
     ]
    },
    {
     "name": "stderr",
     "output_type": "stream",
     "text": [
      "\r",
      "  0%|          | 0/4 [00:00<?, ?it/s]"
     ]
    },
    {
     "name": "stderr",
     "output_type": "stream",
     "text": [
      "\r",
      " 75%|███████▌  | 3/4 [00:00<00:00, 21.50it/s]"
     ]
    },
    {
     "name": "stderr",
     "output_type": "stream",
     "text": [
      "\r",
      "100%|██████████| 4/4 [00:00<00:00, 19.90it/s]"
     ]
    },
    {
     "name": "stderr",
     "output_type": "stream",
     "text": [
      "\n"
     ]
    },
    {
     "name": "stderr",
     "output_type": "stream",
     "text": [
      "\r",
      "  0%|          | 0/5 [00:00<?, ?it/s]"
     ]
    },
    {
     "name": "stderr",
     "output_type": "stream",
     "text": [
      "\r",
      " 60%|██████    | 3/5 [00:00<00:00, 21.86it/s]"
     ]
    },
    {
     "name": "stderr",
     "output_type": "stream",
     "text": [
      "\r",
      "100%|██████████| 5/5 [00:00<00:00, 19.00it/s]"
     ]
    },
    {
     "name": "stderr",
     "output_type": "stream",
     "text": [
      "\n"
     ]
    },
    {
     "name": "stderr",
     "output_type": "stream",
     "text": [
      "\r",
      "  0%|          | 0/6 [00:00<?, ?it/s]"
     ]
    },
    {
     "name": "stderr",
     "output_type": "stream",
     "text": [
      "\r",
      " 50%|█████     | 3/6 [00:00<00:00, 22.24it/s]"
     ]
    },
    {
     "name": "stderr",
     "output_type": "stream",
     "text": [
      "\r",
      "100%|██████████| 6/6 [00:00<00:00, 14.73it/s]"
     ]
    },
    {
     "name": "stderr",
     "output_type": "stream",
     "text": [
      "\r",
      "100%|██████████| 6/6 [00:00<00:00, 15.47it/s]"
     ]
    },
    {
     "name": "stderr",
     "output_type": "stream",
     "text": [
      "\n"
     ]
    },
    {
     "name": "stderr",
     "output_type": "stream",
     "text": [
      "\r",
      "  0%|          | 0/7 [00:00<?, ?it/s]"
     ]
    },
    {
     "name": "stderr",
     "output_type": "stream",
     "text": [
      "\r",
      " 43%|████▎     | 3/7 [00:00<00:00, 28.17it/s]"
     ]
    },
    {
     "name": "stderr",
     "output_type": "stream",
     "text": [
      "\r",
      " 86%|████████▌ | 6/7 [00:00<00:00, 21.05it/s]"
     ]
    },
    {
     "name": "stderr",
     "output_type": "stream",
     "text": [
      "\r",
      "100%|██████████| 7/7 [00:00<00:00, 22.25it/s]"
     ]
    },
    {
     "name": "stderr",
     "output_type": "stream",
     "text": [
      "\n"
     ]
    },
    {
     "name": "stderr",
     "output_type": "stream",
     "text": [
      "\r",
      "  0%|          | 0/8 [00:00<?, ?it/s]"
     ]
    },
    {
     "name": "stderr",
     "output_type": "stream",
     "text": [
      "\r",
      " 50%|█████     | 4/8 [00:00<00:00, 26.48it/s]"
     ]
    },
    {
     "name": "stderr",
     "output_type": "stream",
     "text": [
      "\r",
      " 88%|████████▊ | 7/8 [00:00<00:00, 22.85it/s]"
     ]
    },
    {
     "name": "stderr",
     "output_type": "stream",
     "text": [
      "\r",
      "100%|██████████| 8/8 [00:00<00:00, 23.15it/s]"
     ]
    },
    {
     "name": "stderr",
     "output_type": "stream",
     "text": [
      "\n"
     ]
    },
    {
     "name": "stderr",
     "output_type": "stream",
     "text": [
      "\r",
      "  0%|          | 0/9 [00:00<?, ?it/s]"
     ]
    },
    {
     "name": "stderr",
     "output_type": "stream",
     "text": [
      "\r",
      " 33%|███▎      | 3/9 [00:00<00:00, 20.20it/s]"
     ]
    },
    {
     "name": "stderr",
     "output_type": "stream",
     "text": [
      "\r",
      " 67%|██████▋   | 6/9 [00:00<00:00, 15.41it/s]"
     ]
    },
    {
     "name": "stderr",
     "output_type": "stream",
     "text": [
      "\r",
      " 89%|████████▉ | 8/9 [00:00<00:00, 15.20it/s]"
     ]
    },
    {
     "name": "stderr",
     "output_type": "stream",
     "text": [
      "\r",
      "100%|██████████| 9/9 [00:00<00:00, 15.61it/s]"
     ]
    },
    {
     "name": "stderr",
     "output_type": "stream",
     "text": [
      "\n"
     ]
    },
    {
     "name": "stderr",
     "output_type": "stream",
     "text": [
      "\r",
      "  0%|          | 0/10 [00:00<?, ?it/s]"
     ]
    },
    {
     "name": "stderr",
     "output_type": "stream",
     "text": [
      "\r",
      " 30%|███       | 3/10 [00:00<00:00, 20.33it/s]"
     ]
    },
    {
     "name": "stderr",
     "output_type": "stream",
     "text": [
      "\r",
      " 60%|██████    | 6/10 [00:00<00:00, 18.80it/s]"
     ]
    },
    {
     "name": "stderr",
     "output_type": "stream",
     "text": [
      "\r",
      " 80%|████████  | 8/10 [00:00<00:00, 18.32it/s]"
     ]
    },
    {
     "name": "stderr",
     "output_type": "stream",
     "text": [
      "\r",
      "100%|██████████| 10/10 [00:00<00:00, 16.87it/s]"
     ]
    },
    {
     "name": "stderr",
     "output_type": "stream",
     "text": [
      "\r",
      "100%|██████████| 10/10 [00:00<00:00, 17.37it/s]"
     ]
    },
    {
     "name": "stderr",
     "output_type": "stream",
     "text": [
      "\n"
     ]
    },
    {
     "name": "stderr",
     "output_type": "stream",
     "text": [
      "\r",
      "  0%|          | 0/11 [00:00<?, ?it/s]"
     ]
    },
    {
     "name": "stderr",
     "output_type": "stream",
     "text": [
      "\r",
      " 27%|██▋       | 3/11 [00:00<00:00, 24.34it/s]"
     ]
    },
    {
     "name": "stderr",
     "output_type": "stream",
     "text": [
      "\r",
      " 55%|█████▍    | 6/11 [00:00<00:00, 16.11it/s]"
     ]
    },
    {
     "name": "stderr",
     "output_type": "stream",
     "text": [
      "\r",
      " 73%|███████▎  | 8/11 [00:00<00:00, 13.82it/s]"
     ]
    },
    {
     "name": "stderr",
     "output_type": "stream",
     "text": [
      "\r",
      " 91%|█████████ | 10/11 [00:00<00:00, 14.49it/s]"
     ]
    },
    {
     "name": "stderr",
     "output_type": "stream",
     "text": [
      "\r",
      "100%|██████████| 11/11 [00:00<00:00, 14.95it/s]"
     ]
    },
    {
     "name": "stderr",
     "output_type": "stream",
     "text": [
      "\n"
     ]
    },
    {
     "name": "stderr",
     "output_type": "stream",
     "text": [
      "\r",
      "  0%|          | 0/12 [00:00<?, ?it/s]"
     ]
    },
    {
     "name": "stderr",
     "output_type": "stream",
     "text": [
      "\r",
      " 25%|██▌       | 3/12 [00:00<00:00, 18.89it/s]"
     ]
    },
    {
     "name": "stderr",
     "output_type": "stream",
     "text": [
      "\r",
      " 42%|████▏     | 5/12 [00:00<00:00, 15.97it/s]"
     ]
    },
    {
     "name": "stderr",
     "output_type": "stream",
     "text": [
      "\r",
      " 58%|█████▊    | 7/12 [00:00<00:00, 14.71it/s]"
     ]
    },
    {
     "name": "stderr",
     "output_type": "stream",
     "text": [
      "\r",
      " 75%|███████▌  | 9/12 [00:00<00:00, 13.32it/s]"
     ]
    },
    {
     "name": "stderr",
     "output_type": "stream",
     "text": [
      "\r",
      " 92%|█████████▏| 11/12 [00:00<00:00, 12.99it/s]"
     ]
    },
    {
     "name": "stderr",
     "output_type": "stream",
     "text": [
      "\r",
      "100%|██████████| 12/12 [00:00<00:00, 13.90it/s]"
     ]
    },
    {
     "name": "stderr",
     "output_type": "stream",
     "text": [
      "\n"
     ]
    },
    {
     "name": "stderr",
     "output_type": "stream",
     "text": [
      "\r",
      "  0%|          | 0/13 [00:00<?, ?it/s]"
     ]
    },
    {
     "name": "stderr",
     "output_type": "stream",
     "text": [
      "\r",
      " 23%|██▎       | 3/13 [00:00<00:00, 20.46it/s]"
     ]
    },
    {
     "name": "stderr",
     "output_type": "stream",
     "text": [
      "\r",
      " 46%|████▌     | 6/13 [00:00<00:00, 18.11it/s]"
     ]
    },
    {
     "name": "stderr",
     "output_type": "stream",
     "text": [
      "\r",
      " 69%|██████▉   | 9/13 [00:00<00:00, 20.50it/s]"
     ]
    },
    {
     "name": "stderr",
     "output_type": "stream",
     "text": [
      "\r",
      " 92%|█████████▏| 12/13 [00:00<00:00, 22.58it/s]"
     ]
    },
    {
     "name": "stderr",
     "output_type": "stream",
     "text": [
      "\r",
      "100%|██████████| 13/13 [00:00<00:00, 21.20it/s]"
     ]
    },
    {
     "name": "stderr",
     "output_type": "stream",
     "text": [
      "\n"
     ]
    },
    {
     "name": "stderr",
     "output_type": "stream",
     "text": [
      "\r",
      "  0%|          | 0/14 [00:00<?, ?it/s]"
     ]
    },
    {
     "name": "stderr",
     "output_type": "stream",
     "text": [
      "\r",
      " 29%|██▊       | 4/14 [00:00<00:00, 30.47it/s]"
     ]
    },
    {
     "name": "stderr",
     "output_type": "stream",
     "text": [
      "\r",
      " 57%|█████▋    | 8/14 [00:00<00:00, 16.25it/s]"
     ]
    },
    {
     "name": "stderr",
     "output_type": "stream",
     "text": [
      "\r",
      " 71%|███████▏  | 10/14 [00:00<00:00, 14.94it/s]"
     ]
    },
    {
     "name": "stderr",
     "output_type": "stream",
     "text": [
      "\r",
      " 86%|████████▌ | 12/14 [00:00<00:00, 14.09it/s]"
     ]
    },
    {
     "name": "stderr",
     "output_type": "stream",
     "text": [
      "\r",
      "100%|██████████| 14/14 [00:00<00:00, 14.51it/s]"
     ]
    },
    {
     "name": "stderr",
     "output_type": "stream",
     "text": [
      "\r",
      "100%|██████████| 14/14 [00:00<00:00, 15.22it/s]"
     ]
    },
    {
     "name": "stderr",
     "output_type": "stream",
     "text": [
      "\n"
     ]
    },
    {
     "name": "stderr",
     "output_type": "stream",
     "text": [
      "\r",
      "  0%|          | 0/15 [00:00<?, ?it/s]"
     ]
    },
    {
     "name": "stderr",
     "output_type": "stream",
     "text": [
      "\r",
      " 20%|██        | 3/15 [00:00<00:00, 22.66it/s]"
     ]
    },
    {
     "name": "stderr",
     "output_type": "stream",
     "text": [
      "\r",
      " 40%|████      | 6/15 [00:00<00:00, 18.19it/s]"
     ]
    },
    {
     "name": "stderr",
     "output_type": "stream",
     "text": [
      "\r",
      " 53%|█████▎    | 8/15 [00:00<00:00, 17.20it/s]"
     ]
    },
    {
     "name": "stderr",
     "output_type": "stream",
     "text": [
      "\r",
      " 67%|██████▋   | 10/15 [00:00<00:00, 16.04it/s]"
     ]
    },
    {
     "name": "stderr",
     "output_type": "stream",
     "text": [
      "\r",
      " 80%|████████  | 12/15 [00:00<00:00, 16.65it/s]"
     ]
    },
    {
     "name": "stderr",
     "output_type": "stream",
     "text": [
      "\r",
      " 93%|█████████▎| 14/15 [00:00<00:00, 16.63it/s]"
     ]
    },
    {
     "name": "stderr",
     "output_type": "stream",
     "text": [
      "\r",
      "100%|██████████| 15/15 [00:00<00:00, 16.84it/s]"
     ]
    },
    {
     "name": "stderr",
     "output_type": "stream",
     "text": [
      "\n"
     ]
    },
    {
     "data": {
      "text/html": [
       "<div>\n",
       "<style scoped>\n",
       "    .dataframe tbody tr th:only-of-type {\n",
       "        vertical-align: middle;\n",
       "    }\n",
       "\n",
       "    .dataframe tbody tr th {\n",
       "        vertical-align: top;\n",
       "    }\n",
       "\n",
       "    .dataframe thead tr th {\n",
       "        text-align: left;\n",
       "    }\n",
       "\n",
       "    .dataframe thead tr:last-of-type th {\n",
       "        text-align: right;\n",
       "    }\n",
       "</style>\n",
       "<table border=\"1\" class=\"dataframe\">\n",
       "  <thead>\n",
       "    <tr>\n",
       "      <th></th>\n",
       "      <th colspan=\"2\" halign=\"left\">fit_time</th>\n",
       "      <th colspan=\"2\" halign=\"left\">score_time</th>\n",
       "      <th colspan=\"2\" halign=\"left\">test_precision</th>\n",
       "      <th colspan=\"2\" halign=\"left\">test_recall</th>\n",
       "      <th colspan=\"2\" halign=\"left\">test_f1</th>\n",
       "      <th colspan=\"2\" halign=\"left\">test_balanced_accuracy</th>\n",
       "      <th colspan=\"2\" halign=\"left\">test_roc_auc</th>\n",
       "      <th colspan=\"2\" halign=\"left\">test_average_precision</th>\n",
       "      <th colspan=\"2\" halign=\"left\">n_observations</th>\n",
       "    </tr>\n",
       "    <tr>\n",
       "      <th></th>\n",
       "      <th>mean</th>\n",
       "      <th>std</th>\n",
       "      <th>mean</th>\n",
       "      <th>std</th>\n",
       "      <th>mean</th>\n",
       "      <th>std</th>\n",
       "      <th>mean</th>\n",
       "      <th>std</th>\n",
       "      <th>mean</th>\n",
       "      <th>std</th>\n",
       "      <th>mean</th>\n",
       "      <th>std</th>\n",
       "      <th>mean</th>\n",
       "      <th>std</th>\n",
       "      <th>mean</th>\n",
       "      <th>std</th>\n",
       "      <th>mean</th>\n",
       "      <th>std</th>\n",
       "    </tr>\n",
       "    <tr>\n",
       "      <th>n_features</th>\n",
       "      <th></th>\n",
       "      <th></th>\n",
       "      <th></th>\n",
       "      <th></th>\n",
       "      <th></th>\n",
       "      <th></th>\n",
       "      <th></th>\n",
       "      <th></th>\n",
       "      <th></th>\n",
       "      <th></th>\n",
       "      <th></th>\n",
       "      <th></th>\n",
       "      <th></th>\n",
       "      <th></th>\n",
       "      <th></th>\n",
       "      <th></th>\n",
       "      <th></th>\n",
       "      <th></th>\n",
       "    </tr>\n",
       "  </thead>\n",
       "  <tbody>\n",
       "    <tr>\n",
       "      <th>1</th>\n",
       "      <td>0.004</td>\n",
       "      <td>0.002</td>\n",
       "      <td>0.038</td>\n",
       "      <td>0.008</td>\n",
       "      <td>0.000</td>\n",
       "      <td>0.000</td>\n",
       "      <td>0.000</td>\n",
       "      <td>0.000</td>\n",
       "      <td>0.000</td>\n",
       "      <td>0.000</td>\n",
       "      <td>0.500</td>\n",
       "      <td>0.000</td>\n",
       "      <td>0.642</td>\n",
       "      <td>0.091</td>\n",
       "      <td>0.614</td>\n",
       "      <td>0.082</td>\n",
       "      <td>210.000</td>\n",
       "      <td>0.000</td>\n",
       "    </tr>\n",
       "    <tr>\n",
       "      <th>2</th>\n",
       "      <td>0.004</td>\n",
       "      <td>0.004</td>\n",
       "      <td>0.047</td>\n",
       "      <td>0.018</td>\n",
       "      <td>0.759</td>\n",
       "      <td>0.123</td>\n",
       "      <td>0.409</td>\n",
       "      <td>0.108</td>\n",
       "      <td>0.523</td>\n",
       "      <td>0.105</td>\n",
       "      <td>0.655</td>\n",
       "      <td>0.059</td>\n",
       "      <td>0.706</td>\n",
       "      <td>0.070</td>\n",
       "      <td>0.667</td>\n",
       "      <td>0.081</td>\n",
       "      <td>210.000</td>\n",
       "      <td>0.000</td>\n",
       "    </tr>\n",
       "    <tr>\n",
       "      <th>3</th>\n",
       "      <td>0.003</td>\n",
       "      <td>0.001</td>\n",
       "      <td>0.037</td>\n",
       "      <td>0.012</td>\n",
       "      <td>0.745</td>\n",
       "      <td>0.122</td>\n",
       "      <td>0.382</td>\n",
       "      <td>0.105</td>\n",
       "      <td>0.498</td>\n",
       "      <td>0.104</td>\n",
       "      <td>0.642</td>\n",
       "      <td>0.057</td>\n",
       "      <td>0.720</td>\n",
       "      <td>0.069</td>\n",
       "      <td>0.681</td>\n",
       "      <td>0.081</td>\n",
       "      <td>210.000</td>\n",
       "      <td>0.000</td>\n",
       "    </tr>\n",
       "    <tr>\n",
       "      <th>4</th>\n",
       "      <td>0.004</td>\n",
       "      <td>0.003</td>\n",
       "      <td>0.045</td>\n",
       "      <td>0.015</td>\n",
       "      <td>0.691</td>\n",
       "      <td>0.094</td>\n",
       "      <td>0.457</td>\n",
       "      <td>0.094</td>\n",
       "      <td>0.546</td>\n",
       "      <td>0.086</td>\n",
       "      <td>0.654</td>\n",
       "      <td>0.056</td>\n",
       "      <td>0.724</td>\n",
       "      <td>0.063</td>\n",
       "      <td>0.679</td>\n",
       "      <td>0.076</td>\n",
       "      <td>210.000</td>\n",
       "      <td>0.000</td>\n",
       "    </tr>\n",
       "    <tr>\n",
       "      <th>5</th>\n",
       "      <td>0.003</td>\n",
       "      <td>0.000</td>\n",
       "      <td>0.037</td>\n",
       "      <td>0.008</td>\n",
       "      <td>0.708</td>\n",
       "      <td>0.106</td>\n",
       "      <td>0.470</td>\n",
       "      <td>0.100</td>\n",
       "      <td>0.559</td>\n",
       "      <td>0.091</td>\n",
       "      <td>0.663</td>\n",
       "      <td>0.060</td>\n",
       "      <td>0.732</td>\n",
       "      <td>0.071</td>\n",
       "      <td>0.692</td>\n",
       "      <td>0.083</td>\n",
       "      <td>210.000</td>\n",
       "      <td>0.000</td>\n",
       "    </tr>\n",
       "    <tr>\n",
       "      <th>6</th>\n",
       "      <td>0.005</td>\n",
       "      <td>0.004</td>\n",
       "      <td>0.040</td>\n",
       "      <td>0.015</td>\n",
       "      <td>0.698</td>\n",
       "      <td>0.119</td>\n",
       "      <td>0.488</td>\n",
       "      <td>0.099</td>\n",
       "      <td>0.567</td>\n",
       "      <td>0.088</td>\n",
       "      <td>0.664</td>\n",
       "      <td>0.061</td>\n",
       "      <td>0.735</td>\n",
       "      <td>0.071</td>\n",
       "      <td>0.703</td>\n",
       "      <td>0.081</td>\n",
       "      <td>210.000</td>\n",
       "      <td>0.000</td>\n",
       "    </tr>\n",
       "    <tr>\n",
       "      <th>7</th>\n",
       "      <td>0.002</td>\n",
       "      <td>0.000</td>\n",
       "      <td>0.021</td>\n",
       "      <td>0.005</td>\n",
       "      <td>0.704</td>\n",
       "      <td>0.109</td>\n",
       "      <td>0.491</td>\n",
       "      <td>0.113</td>\n",
       "      <td>0.571</td>\n",
       "      <td>0.095</td>\n",
       "      <td>0.669</td>\n",
       "      <td>0.063</td>\n",
       "      <td>0.733</td>\n",
       "      <td>0.072</td>\n",
       "      <td>0.706</td>\n",
       "      <td>0.080</td>\n",
       "      <td>210.000</td>\n",
       "      <td>0.000</td>\n",
       "    </tr>\n",
       "    <tr>\n",
       "      <th>8</th>\n",
       "      <td>0.005</td>\n",
       "      <td>0.004</td>\n",
       "      <td>0.047</td>\n",
       "      <td>0.017</td>\n",
       "      <td>0.690</td>\n",
       "      <td>0.101</td>\n",
       "      <td>0.548</td>\n",
       "      <td>0.119</td>\n",
       "      <td>0.605</td>\n",
       "      <td>0.100</td>\n",
       "      <td>0.684</td>\n",
       "      <td>0.068</td>\n",
       "      <td>0.760</td>\n",
       "      <td>0.064</td>\n",
       "      <td>0.724</td>\n",
       "      <td>0.078</td>\n",
       "      <td>210.000</td>\n",
       "      <td>0.000</td>\n",
       "    </tr>\n",
       "    <tr>\n",
       "      <th>9</th>\n",
       "      <td>0.004</td>\n",
       "      <td>0.001</td>\n",
       "      <td>0.038</td>\n",
       "      <td>0.008</td>\n",
       "      <td>0.738</td>\n",
       "      <td>0.103</td>\n",
       "      <td>0.584</td>\n",
       "      <td>0.117</td>\n",
       "      <td>0.643</td>\n",
       "      <td>0.089</td>\n",
       "      <td>0.713</td>\n",
       "      <td>0.062</td>\n",
       "      <td>0.782</td>\n",
       "      <td>0.068</td>\n",
       "      <td>0.747</td>\n",
       "      <td>0.087</td>\n",
       "      <td>210.000</td>\n",
       "      <td>0.000</td>\n",
       "    </tr>\n",
       "    <tr>\n",
       "      <th>10</th>\n",
       "      <td>0.005</td>\n",
       "      <td>0.004</td>\n",
       "      <td>0.049</td>\n",
       "      <td>0.018</td>\n",
       "      <td>0.754</td>\n",
       "      <td>0.101</td>\n",
       "      <td>0.613</td>\n",
       "      <td>0.121</td>\n",
       "      <td>0.667</td>\n",
       "      <td>0.091</td>\n",
       "      <td>0.731</td>\n",
       "      <td>0.064</td>\n",
       "      <td>0.783</td>\n",
       "      <td>0.067</td>\n",
       "      <td>0.748</td>\n",
       "      <td>0.086</td>\n",
       "      <td>210.000</td>\n",
       "      <td>0.000</td>\n",
       "    </tr>\n",
       "    <tr>\n",
       "      <th>11</th>\n",
       "      <td>0.003</td>\n",
       "      <td>0.000</td>\n",
       "      <td>0.035</td>\n",
       "      <td>0.002</td>\n",
       "      <td>0.757</td>\n",
       "      <td>0.098</td>\n",
       "      <td>0.651</td>\n",
       "      <td>0.106</td>\n",
       "      <td>0.695</td>\n",
       "      <td>0.085</td>\n",
       "      <td>0.748</td>\n",
       "      <td>0.063</td>\n",
       "      <td>0.800</td>\n",
       "      <td>0.064</td>\n",
       "      <td>0.765</td>\n",
       "      <td>0.084</td>\n",
       "      <td>210.000</td>\n",
       "      <td>0.000</td>\n",
       "    </tr>\n",
       "    <tr>\n",
       "      <th>12</th>\n",
       "      <td>0.005</td>\n",
       "      <td>0.003</td>\n",
       "      <td>0.047</td>\n",
       "      <td>0.018</td>\n",
       "      <td>0.771</td>\n",
       "      <td>0.104</td>\n",
       "      <td>0.653</td>\n",
       "      <td>0.108</td>\n",
       "      <td>0.700</td>\n",
       "      <td>0.081</td>\n",
       "      <td>0.752</td>\n",
       "      <td>0.061</td>\n",
       "      <td>0.807</td>\n",
       "      <td>0.063</td>\n",
       "      <td>0.773</td>\n",
       "      <td>0.080</td>\n",
       "      <td>210.000</td>\n",
       "      <td>0.000</td>\n",
       "    </tr>\n",
       "    <tr>\n",
       "      <th>13</th>\n",
       "      <td>0.002</td>\n",
       "      <td>0.001</td>\n",
       "      <td>0.024</td>\n",
       "      <td>0.007</td>\n",
       "      <td>0.790</td>\n",
       "      <td>0.092</td>\n",
       "      <td>0.660</td>\n",
       "      <td>0.096</td>\n",
       "      <td>0.715</td>\n",
       "      <td>0.075</td>\n",
       "      <td>0.764</td>\n",
       "      <td>0.058</td>\n",
       "      <td>0.817</td>\n",
       "      <td>0.061</td>\n",
       "      <td>0.784</td>\n",
       "      <td>0.076</td>\n",
       "      <td>210.000</td>\n",
       "      <td>0.000</td>\n",
       "    </tr>\n",
       "    <tr>\n",
       "      <th>14</th>\n",
       "      <td>0.005</td>\n",
       "      <td>0.004</td>\n",
       "      <td>0.043</td>\n",
       "      <td>0.016</td>\n",
       "      <td>0.781</td>\n",
       "      <td>0.091</td>\n",
       "      <td>0.643</td>\n",
       "      <td>0.103</td>\n",
       "      <td>0.700</td>\n",
       "      <td>0.082</td>\n",
       "      <td>0.754</td>\n",
       "      <td>0.061</td>\n",
       "      <td>0.816</td>\n",
       "      <td>0.059</td>\n",
       "      <td>0.782</td>\n",
       "      <td>0.069</td>\n",
       "      <td>210.000</td>\n",
       "      <td>0.000</td>\n",
       "    </tr>\n",
       "    <tr>\n",
       "      <th>15</th>\n",
       "      <td>0.004</td>\n",
       "      <td>0.000</td>\n",
       "      <td>0.035</td>\n",
       "      <td>0.001</td>\n",
       "      <td>0.773</td>\n",
       "      <td>0.095</td>\n",
       "      <td>0.648</td>\n",
       "      <td>0.105</td>\n",
       "      <td>0.700</td>\n",
       "      <td>0.084</td>\n",
       "      <td>0.753</td>\n",
       "      <td>0.064</td>\n",
       "      <td>0.811</td>\n",
       "      <td>0.060</td>\n",
       "      <td>0.776</td>\n",
       "      <td>0.073</td>\n",
       "      <td>210.000</td>\n",
       "      <td>0.000</td>\n",
       "    </tr>\n",
       "  </tbody>\n",
       "</table>\n",
       "</div>"
      ],
      "text/plain": [
       "           fit_time       score_time       test_precision       test_recall  \\\n",
       "               mean   std       mean   std           mean   std        mean   \n",
       "n_features                                                                    \n",
       "1             0.004 0.002      0.038 0.008          0.000 0.000       0.000   \n",
       "2             0.004 0.004      0.047 0.018          0.759 0.123       0.409   \n",
       "3             0.003 0.001      0.037 0.012          0.745 0.122       0.382   \n",
       "4             0.004 0.003      0.045 0.015          0.691 0.094       0.457   \n",
       "5             0.003 0.000      0.037 0.008          0.708 0.106       0.470   \n",
       "6             0.005 0.004      0.040 0.015          0.698 0.119       0.488   \n",
       "7             0.002 0.000      0.021 0.005          0.704 0.109       0.491   \n",
       "8             0.005 0.004      0.047 0.017          0.690 0.101       0.548   \n",
       "9             0.004 0.001      0.038 0.008          0.738 0.103       0.584   \n",
       "10            0.005 0.004      0.049 0.018          0.754 0.101       0.613   \n",
       "11            0.003 0.000      0.035 0.002          0.757 0.098       0.651   \n",
       "12            0.005 0.003      0.047 0.018          0.771 0.104       0.653   \n",
       "13            0.002 0.001      0.024 0.007          0.790 0.092       0.660   \n",
       "14            0.005 0.004      0.043 0.016          0.781 0.091       0.643   \n",
       "15            0.004 0.000      0.035 0.001          0.773 0.095       0.648   \n",
       "\n",
       "                 test_f1       test_balanced_accuracy       test_roc_auc  \\\n",
       "             std    mean   std                   mean   std         mean   \n",
       "n_features                                                                 \n",
       "1          0.000   0.000 0.000                  0.500 0.000        0.642   \n",
       "2          0.108   0.523 0.105                  0.655 0.059        0.706   \n",
       "3          0.105   0.498 0.104                  0.642 0.057        0.720   \n",
       "4          0.094   0.546 0.086                  0.654 0.056        0.724   \n",
       "5          0.100   0.559 0.091                  0.663 0.060        0.732   \n",
       "6          0.099   0.567 0.088                  0.664 0.061        0.735   \n",
       "7          0.113   0.571 0.095                  0.669 0.063        0.733   \n",
       "8          0.119   0.605 0.100                  0.684 0.068        0.760   \n",
       "9          0.117   0.643 0.089                  0.713 0.062        0.782   \n",
       "10         0.121   0.667 0.091                  0.731 0.064        0.783   \n",
       "11         0.106   0.695 0.085                  0.748 0.063        0.800   \n",
       "12         0.108   0.700 0.081                  0.752 0.061        0.807   \n",
       "13         0.096   0.715 0.075                  0.764 0.058        0.817   \n",
       "14         0.103   0.700 0.082                  0.754 0.061        0.816   \n",
       "15         0.105   0.700 0.084                  0.753 0.064        0.811   \n",
       "\n",
       "                 test_average_precision       n_observations        \n",
       "             std                   mean   std           mean   std  \n",
       "n_features                                                          \n",
       "1          0.091                  0.614 0.082        210.000 0.000  \n",
       "2          0.070                  0.667 0.081        210.000 0.000  \n",
       "3          0.069                  0.681 0.081        210.000 0.000  \n",
       "4          0.063                  0.679 0.076        210.000 0.000  \n",
       "5          0.071                  0.692 0.083        210.000 0.000  \n",
       "6          0.071                  0.703 0.081        210.000 0.000  \n",
       "7          0.072                  0.706 0.080        210.000 0.000  \n",
       "8          0.064                  0.724 0.078        210.000 0.000  \n",
       "9          0.068                  0.747 0.087        210.000 0.000  \n",
       "10         0.067                  0.748 0.086        210.000 0.000  \n",
       "11         0.064                  0.765 0.084        210.000 0.000  \n",
       "12         0.063                  0.773 0.080        210.000 0.000  \n",
       "13         0.061                  0.784 0.076        210.000 0.000  \n",
       "14         0.059                  0.782 0.069        210.000 0.000  \n",
       "15         0.060                  0.776 0.073        210.000 0.000  "
      ]
     },
     "execution_count": 17,
     "metadata": {},
     "output_type": "execute_result"
    }
   ],
   "source": [
    "cv_feat_new = njab.sklearn.find_n_best_features(X=X.loc[:, new_features],\n",
    "                                                y=target, name=args.target,\n",
    "                                                groups=target_to_group)\n",
    "cv_feat_new = cv_feat_new.drop('test_case', axis=1).groupby('n_features').agg(['mean', 'std'])\n",
    "cv_feat_new"
   ]
  },
  {
   "cell_type": "markdown",
   "id": "bd57bbac",
   "metadata": {
    "papermill": {
     "duration": 0.091038,
     "end_time": "2024-09-11T04:35:56.583625",
     "exception": false,
     "start_time": "2024-09-11T04:35:56.492587",
     "status": "completed"
    },
    "tags": []
   },
   "source": [
    "### Best number of features by subset of the data:"
   ]
  },
  {
   "cell_type": "code",
   "execution_count": 18,
   "id": "72655713",
   "metadata": {
    "execution": {
     "iopub.execute_input": "2024-09-11T04:35:56.790843Z",
     "iopub.status.busy": "2024-09-11T04:35:56.790541Z",
     "iopub.status.idle": "2024-09-11T04:35:56.819652Z",
     "shell.execute_reply": "2024-09-11T04:35:56.819072Z"
    },
    "papermill": {
     "duration": 0.15129,
     "end_time": "2024-09-11T04:35:56.821040",
     "exception": false,
     "start_time": "2024-09-11T04:35:56.669750",
     "status": "completed"
    },
    "tags": [
     "hide-input"
    ]
   },
   "outputs": [
    {
     "data": {
      "text/html": [
       "<div>\n",
       "<style scoped>\n",
       "    .dataframe tbody tr th:only-of-type {\n",
       "        vertical-align: middle;\n",
       "    }\n",
       "\n",
       "    .dataframe tbody tr th {\n",
       "        vertical-align: top;\n",
       "    }\n",
       "\n",
       "    .dataframe thead th {\n",
       "        text-align: right;\n",
       "    }\n",
       "</style>\n",
       "<table border=\"1\" class=\"dataframe\">\n",
       "  <thead>\n",
       "    <tr style=\"text-align: right;\">\n",
       "      <th></th>\n",
       "      <th>ald</th>\n",
       "      <th>all</th>\n",
       "      <th>new</th>\n",
       "    </tr>\n",
       "  </thead>\n",
       "  <tbody>\n",
       "    <tr>\n",
       "      <th>fit_time</th>\n",
       "      <td>14</td>\n",
       "      <td>12</td>\n",
       "      <td>10</td>\n",
       "    </tr>\n",
       "    <tr>\n",
       "      <th>score_time</th>\n",
       "      <td>2</td>\n",
       "      <td>3</td>\n",
       "      <td>10</td>\n",
       "    </tr>\n",
       "    <tr>\n",
       "      <th>test_precision</th>\n",
       "      <td>1</td>\n",
       "      <td>13</td>\n",
       "      <td>13</td>\n",
       "    </tr>\n",
       "    <tr>\n",
       "      <th>test_recall</th>\n",
       "      <td>14</td>\n",
       "      <td>12</td>\n",
       "      <td>13</td>\n",
       "    </tr>\n",
       "    <tr>\n",
       "      <th>test_f1</th>\n",
       "      <td>14</td>\n",
       "      <td>14</td>\n",
       "      <td>13</td>\n",
       "    </tr>\n",
       "    <tr>\n",
       "      <th>test_balanced_accuracy</th>\n",
       "      <td>14</td>\n",
       "      <td>14</td>\n",
       "      <td>13</td>\n",
       "    </tr>\n",
       "    <tr>\n",
       "      <th>test_roc_auc</th>\n",
       "      <td>11</td>\n",
       "      <td>13</td>\n",
       "      <td>13</td>\n",
       "    </tr>\n",
       "    <tr>\n",
       "      <th>test_average_precision</th>\n",
       "      <td>11</td>\n",
       "      <td>13</td>\n",
       "      <td>13</td>\n",
       "    </tr>\n",
       "    <tr>\n",
       "      <th>n_observations</th>\n",
       "      <td>1</td>\n",
       "      <td>1</td>\n",
       "      <td>1</td>\n",
       "    </tr>\n",
       "  </tbody>\n",
       "</table>\n",
       "</div>"
      ],
      "text/plain": [
       "                        ald  all  new\n",
       "fit_time                 14   12   10\n",
       "score_time                2    3   10\n",
       "test_precision            1   13   13\n",
       "test_recall              14   12   13\n",
       "test_f1                  14   14   13\n",
       "test_balanced_accuracy   14   14   13\n",
       "test_roc_auc             11   13   13\n",
       "test_average_precision   11   13   13\n",
       "n_observations            1    1    1"
      ]
     },
     "execution_count": 18,
     "metadata": {},
     "output_type": "execute_result"
    }
   ],
   "source": [
    "n_feat_best = pd.DataFrame(\n",
    "    {'ald': cv_feat_ald.loc[:, pd.IndexSlice[:, 'mean']].idxmax(),\n",
    "     'all': cv_feat_all.loc[:, pd.IndexSlice[:, 'mean']].idxmax(),\n",
    "     'new': cv_feat_new.loc[:, pd.IndexSlice[:, 'mean']].idxmax()\n",
    "     }\n",
    ").droplevel(-1)\n",
    "n_feat_best"
   ]
  },
  {
   "cell_type": "markdown",
   "id": "2efdc8bf",
   "metadata": {
    "papermill": {
     "duration": 0.080297,
     "end_time": "2024-09-11T04:35:56.987281",
     "exception": false,
     "start_time": "2024-09-11T04:35:56.906984",
     "status": "completed"
    },
    "tags": []
   },
   "source": [
    "## Train, test split\n",
    "Show number of cases in train and test data"
   ]
  },
  {
   "cell_type": "code",
   "execution_count": 19,
   "id": "dc3d3b21",
   "metadata": {
    "execution": {
     "iopub.execute_input": "2024-09-11T04:35:57.171278Z",
     "iopub.status.busy": "2024-09-11T04:35:57.170967Z",
     "iopub.status.idle": "2024-09-11T04:35:57.246716Z",
     "shell.execute_reply": "2024-09-11T04:35:57.239230Z"
    },
    "lines_to_next_cell": 0,
    "papermill": {
     "duration": 0.1665,
     "end_time": "2024-09-11T04:35:57.249112",
     "exception": false,
     "start_time": "2024-09-11T04:35:57.082612",
     "status": "completed"
    },
    "tags": [
     "hide-input"
    ]
   },
   "outputs": [
    {
     "data": {
      "text/html": [
       "<div>\n",
       "<style scoped>\n",
       "    .dataframe tbody tr th:only-of-type {\n",
       "        vertical-align: middle;\n",
       "    }\n",
       "\n",
       "    .dataframe tbody tr th {\n",
       "        vertical-align: top;\n",
       "    }\n",
       "\n",
       "    .dataframe thead th {\n",
       "        text-align: right;\n",
       "    }\n",
       "</style>\n",
       "<table border=\"1\" class=\"dataframe\">\n",
       "  <thead>\n",
       "    <tr style=\"text-align: right;\">\n",
       "      <th></th>\n",
       "      <th>train</th>\n",
       "      <th>test</th>\n",
       "    </tr>\n",
       "  </thead>\n",
       "  <tbody>\n",
       "    <tr>\n",
       "      <th>False</th>\n",
       "      <td>98</td>\n",
       "      <td>24</td>\n",
       "    </tr>\n",
       "    <tr>\n",
       "      <th>True</th>\n",
       "      <td>70</td>\n",
       "      <td>18</td>\n",
       "    </tr>\n",
       "  </tbody>\n",
       "</table>\n",
       "</div>"
      ],
      "text/plain": [
       "       train  test\n",
       "False     98    24\n",
       "True      70    18"
      ]
     },
     "execution_count": 19,
     "metadata": {},
     "output_type": "execute_result"
    }
   ],
   "source": [
    "X_train, X_test, y_train, y_test = sklearn.model_selection.train_test_split(\n",
    "    X,\n",
    "    target,\n",
    "    test_size=.2,\n",
    "    stratify=target_to_group,\n",
    "    random_state=42)\n",
    "idx_train = X_train.index\n",
    "idx_test = X_test.index\n",
    "\n",
    "njab.pandas.combine_value_counts(\n",
    "    pd.concat([y_train, y_test],\n",
    "              axis=1,\n",
    "              ignore_index=True,\n",
    "              ).rename(columns={0: 'train', 1: 'test'})\n",
    ")"
   ]
  },
  {
   "cell_type": "markdown",
   "id": "d3a33fb1",
   "metadata": {
    "papermill": {
     "duration": 0.079354,
     "end_time": "2024-09-11T04:35:57.404889",
     "exception": false,
     "start_time": "2024-09-11T04:35:57.325535",
     "status": "completed"
    },
    "tags": []
   },
   "source": [
    "## Results\n",
    "\n",
    "- `run_model` returns dataclasses with the further needed results\n",
    "- add mrmr selection of data (select best number of features to use instead of fixing it)\n",
    "\n",
    "Save results for final model on entire data, new features and ALD study criteria selected data."
   ]
  },
  {
   "cell_type": "code",
   "execution_count": 20,
   "id": "d3b4b394",
   "metadata": {
    "execution": {
     "iopub.execute_input": "2024-09-11T04:35:57.498702Z",
     "iopub.status.busy": "2024-09-11T04:35:57.498401Z",
     "iopub.status.idle": "2024-09-11T04:36:10.472655Z",
     "shell.execute_reply": "2024-09-11T04:36:10.471910Z"
    },
    "papermill": {
     "duration": 13.030199,
     "end_time": "2024-09-11T04:36:10.474190",
     "exception": false,
     "start_time": "2024-09-11T04:35:57.443991",
     "status": "completed"
    },
    "tags": [
     "hide-input"
    ]
   },
   "outputs": [
    {
     "name": "stderr",
     "output_type": "stream",
     "text": [
      "\r",
      "  0%|          | 0/13 [00:00<?, ?it/s]"
     ]
    },
    {
     "name": "stderr",
     "output_type": "stream",
     "text": [
      "\r",
      " 15%|█▌        | 2/13 [00:00<00:02,  4.67it/s]"
     ]
    },
    {
     "name": "stderr",
     "output_type": "stream",
     "text": [
      "\r",
      " 23%|██▎       | 3/13 [00:00<00:03,  3.27it/s]"
     ]
    },
    {
     "name": "stderr",
     "output_type": "stream",
     "text": [
      "\r",
      " 31%|███       | 4/13 [00:01<00:03,  2.83it/s]"
     ]
    },
    {
     "name": "stderr",
     "output_type": "stream",
     "text": [
      "\r",
      " 38%|███▊      | 5/13 [00:01<00:03,  2.64it/s]"
     ]
    },
    {
     "name": "stderr",
     "output_type": "stream",
     "text": [
      "\r",
      " 46%|████▌     | 6/13 [00:02<00:02,  2.56it/s]"
     ]
    },
    {
     "name": "stderr",
     "output_type": "stream",
     "text": [
      "\r",
      " 54%|█████▍    | 7/13 [00:02<00:02,  2.50it/s]"
     ]
    },
    {
     "name": "stderr",
     "output_type": "stream",
     "text": [
      "\r",
      " 62%|██████▏   | 8/13 [00:02<00:01,  2.51it/s]"
     ]
    },
    {
     "name": "stderr",
     "output_type": "stream",
     "text": [
      "\r",
      " 69%|██████▉   | 9/13 [00:03<00:01,  2.50it/s]"
     ]
    },
    {
     "name": "stderr",
     "output_type": "stream",
     "text": [
      "\r",
      " 77%|███████▋  | 10/13 [00:03<00:01,  2.46it/s]"
     ]
    },
    {
     "name": "stderr",
     "output_type": "stream",
     "text": [
      "\r",
      " 85%|████████▍ | 11/13 [00:04<00:00,  2.39it/s]"
     ]
    },
    {
     "name": "stderr",
     "output_type": "stream",
     "text": [
      "\r",
      " 92%|█████████▏| 12/13 [00:04<00:00,  2.49it/s]"
     ]
    },
    {
     "name": "stderr",
     "output_type": "stream",
     "text": [
      "\r",
      "100%|██████████| 13/13 [00:04<00:00,  2.70it/s]"
     ]
    },
    {
     "name": "stderr",
     "output_type": "stream",
     "text": [
      "\r",
      "100%|██████████| 13/13 [00:04<00:00,  2.66it/s]"
     ]
    },
    {
     "name": "stderr",
     "output_type": "stream",
     "text": [
      "\n"
     ]
    },
    {
     "name": "stderr",
     "output_type": "stream",
     "text": [
      "\r",
      "  0%|          | 0/13 [00:00<?, ?it/s]"
     ]
    },
    {
     "name": "stderr",
     "output_type": "stream",
     "text": [
      "\r",
      " 23%|██▎       | 3/13 [00:00<00:00, 23.12it/s]"
     ]
    },
    {
     "name": "stderr",
     "output_type": "stream",
     "text": [
      "\r",
      " 46%|████▌     | 6/13 [00:00<00:00, 19.11it/s]"
     ]
    },
    {
     "name": "stderr",
     "output_type": "stream",
     "text": [
      "\r",
      " 62%|██████▏   | 8/13 [00:00<00:00, 18.52it/s]"
     ]
    },
    {
     "name": "stderr",
     "output_type": "stream",
     "text": [
      "\r",
      " 77%|███████▋  | 10/13 [00:00<00:00, 17.50it/s]"
     ]
    },
    {
     "name": "stderr",
     "output_type": "stream",
     "text": [
      "\r",
      " 92%|█████████▏| 12/13 [00:00<00:00, 16.79it/s]"
     ]
    },
    {
     "name": "stderr",
     "output_type": "stream",
     "text": [
      "\r",
      "100%|██████████| 13/13 [00:00<00:00, 17.76it/s]"
     ]
    },
    {
     "name": "stderr",
     "output_type": "stream",
     "text": [
      "\n"
     ]
    },
    {
     "name": "stderr",
     "output_type": "stream",
     "text": [
      "\r",
      "  0%|          | 0/11 [00:00<?, ?it/s]"
     ]
    },
    {
     "name": "stderr",
     "output_type": "stream",
     "text": [
      "\r",
      " 18%|█▊        | 2/11 [00:00<00:01,  5.34it/s]"
     ]
    },
    {
     "name": "stderr",
     "output_type": "stream",
     "text": [
      "\r",
      " 27%|██▋       | 3/11 [00:00<00:02,  3.78it/s]"
     ]
    },
    {
     "name": "stderr",
     "output_type": "stream",
     "text": [
      "\r",
      " 36%|███▋      | 4/11 [00:01<00:02,  3.45it/s]"
     ]
    },
    {
     "name": "stderr",
     "output_type": "stream",
     "text": [
      "\r",
      " 45%|████▌     | 5/11 [00:01<00:01,  3.56it/s]"
     ]
    },
    {
     "name": "stderr",
     "output_type": "stream",
     "text": [
      "\r",
      " 55%|█████▍    | 6/11 [00:01<00:01,  4.00it/s]"
     ]
    },
    {
     "name": "stderr",
     "output_type": "stream",
     "text": [
      "\r",
      " 64%|██████▎   | 7/11 [00:01<00:00,  4.12it/s]"
     ]
    },
    {
     "name": "stderr",
     "output_type": "stream",
     "text": [
      "\r",
      " 73%|███████▎  | 8/11 [00:01<00:00,  4.24it/s]"
     ]
    },
    {
     "name": "stderr",
     "output_type": "stream",
     "text": [
      "\r",
      " 82%|████████▏ | 9/11 [00:02<00:00,  4.24it/s]"
     ]
    },
    {
     "name": "stderr",
     "output_type": "stream",
     "text": [
      "\r",
      " 91%|█████████ | 10/11 [00:02<00:00,  4.32it/s]"
     ]
    },
    {
     "name": "stderr",
     "output_type": "stream",
     "text": [
      "\r",
      "100%|██████████| 11/11 [00:02<00:00,  4.46it/s]"
     ]
    },
    {
     "name": "stderr",
     "output_type": "stream",
     "text": [
      "\r",
      "100%|██████████| 11/11 [00:02<00:00,  4.16it/s]"
     ]
    },
    {
     "name": "stderr",
     "output_type": "stream",
     "text": [
      "\n"
     ]
    }
   ],
   "source": [
    "splits = Splits(X_train=X.loc[idx_train],\n",
    "                X_test=X.loc[idx_test],\n",
    "                y_train=y_train,\n",
    "                y_test=y_test)\n",
    "results_model_full = njab.sklearn.run_model(\n",
    "    splits,\n",
    "    n_feat_to_select=n_feat_best.loc['test_roc_auc', 'all'])\n",
    "results_model_full.name = f'{args.model_key} all'\n",
    "fname = args.out_folder / f'results_{results_model_full.name}.pkl'\n",
    "files_out[fname.name] = fname\n",
    "pimmslearn.io.to_pickle(results_model_full, fname)\n",
    "\n",
    "splits = Splits(X_train=X.loc[idx_train, new_features],\n",
    "                X_test=X.loc[idx_test, new_features],\n",
    "                y_train=y_train,\n",
    "                y_test=y_test)\n",
    "results_model_new = njab.sklearn.run_model(\n",
    "    splits,\n",
    "    n_feat_to_select=n_feat_best.loc['test_roc_auc', 'new'])\n",
    "results_model_new.name = f'{args.model_key} new'\n",
    "fname = args.out_folder / f'results_{results_model_new.name}.pkl'\n",
    "files_out[fname.name] = fname\n",
    "pimmslearn.io.to_pickle(results_model_new, fname)\n",
    "\n",
    "splits_ald = Splits(\n",
    "    X_train=ald_study.loc[idx_train],\n",
    "    X_test=ald_study.loc[idx_test],\n",
    "    y_train=y_train,\n",
    "    y_test=y_test)\n",
    "results_ald_full = njab.sklearn.run_model(\n",
    "    splits_ald,\n",
    "    n_feat_to_select=n_feat_best.loc['test_roc_auc', 'ald'])\n",
    "results_ald_full.name = 'ALD study all'\n",
    "fname = args.out_folder / f'results_{results_ald_full.name}.pkl'\n",
    "files_out[fname.name] = fname\n",
    "pimmslearn.io.to_pickle(results_ald_full, fname)"
   ]
  },
  {
   "cell_type": "markdown",
   "id": "0ad96ff4",
   "metadata": {
    "papermill": {
     "duration": 0.047103,
     "end_time": "2024-09-11T04:36:10.569929",
     "exception": false,
     "start_time": "2024-09-11T04:36:10.522826",
     "status": "completed"
    },
    "tags": []
   },
   "source": [
    "### ROC-AUC on test split"
   ]
  },
  {
   "cell_type": "code",
   "execution_count": 21,
   "id": "04b82583",
   "metadata": {
    "execution": {
     "iopub.execute_input": "2024-09-11T04:36:10.665456Z",
     "iopub.status.busy": "2024-09-11T04:36:10.664899Z",
     "iopub.status.idle": "2024-09-11T04:36:12.528399Z",
     "shell.execute_reply": "2024-09-11T04:36:12.527694Z"
    },
    "papermill": {
     "duration": 1.912933,
     "end_time": "2024-09-11T04:36:12.529968",
     "exception": false,
     "start_time": "2024-09-11T04:36:10.617035",
     "status": "completed"
    },
    "tags": [
     "hide-input"
    ]
   },
   "outputs": [
    {
     "name": "stderr",
     "output_type": "stream",
     "text": [
      "pimmslearn.plotting - INFO     Saved Figures to runs/alzheimer_study/diff_analysis/AD/PI_vs_Median/auc_roc_curve.pdf\n"
     ]
    },
    {
     "data": {
      "image/png": "[encoded data removed]",
      "text/plain": [
       "<Figure size 367.5x367.5 with 1 Axes>"
      ]
     },
     "metadata": {},
     "output_type": "display_data"
    }
   ],
   "source": [
    "fig, ax = plt.subplots(1, 1, figsize=figsize)\n",
    "plot_split_auc(results_ald_full.test, results_ald_full.name, ax)\n",
    "plot_split_auc(results_model_full.test, results_model_full.name, ax)\n",
    "plot_split_auc(results_model_new.test, results_model_new.name, ax)\n",
    "fname = args.out_folder / 'auc_roc_curve.pdf'\n",
    "files_out[fname.name] = fname\n",
    "pimmslearn.savefig(fig, name=fname)"
   ]
  },
  {
   "cell_type": "markdown",
   "id": "9e35c686",
   "metadata": {
    "papermill": {
     "duration": 0.094654,
     "end_time": "2024-09-11T04:36:12.768895",
     "exception": false,
     "start_time": "2024-09-11T04:36:12.674241",
     "status": "completed"
    },
    "tags": []
   },
   "source": [
    "Data used to plot ROC:"
   ]
  },
  {
   "cell_type": "code",
   "execution_count": 22,
   "id": "322281db",
   "metadata": {
    "execution": {
     "iopub.execute_input": "2024-09-11T04:36:13.045286Z",
     "iopub.status.busy": "2024-09-11T04:36:13.044987Z",
     "iopub.status.idle": "2024-09-11T04:36:13.273312Z",
     "shell.execute_reply": "2024-09-11T04:36:13.272584Z"
    },
    "papermill": {
     "duration": 0.366266,
     "end_time": "2024-09-11T04:36:13.274859",
     "exception": false,
     "start_time": "2024-09-11T04:36:12.908593",
     "status": "completed"
    },
    "tags": [
     "hide-input"
    ]
   },
   "outputs": [
    {
     "data": {
      "text/html": [
       "<div>\n",
       "<style scoped>\n",
       "    .dataframe tbody tr th:only-of-type {\n",
       "        vertical-align: middle;\n",
       "    }\n",
       "\n",
       "    .dataframe tbody tr th {\n",
       "        vertical-align: top;\n",
       "    }\n",
       "\n",
       "    .dataframe thead tr th {\n",
       "        text-align: left;\n",
       "    }\n",
       "</style>\n",
       "<table border=\"1\" class=\"dataframe\">\n",
       "  <thead>\n",
       "    <tr>\n",
       "      <th></th>\n",
       "      <th colspan=\"2\" halign=\"left\">ALD study all</th>\n",
       "      <th colspan=\"2\" halign=\"left\">Median all</th>\n",
       "      <th colspan=\"2\" halign=\"left\">Median new</th>\n",
       "    </tr>\n",
       "    <tr>\n",
       "      <th></th>\n",
       "      <th>fpr</th>\n",
       "      <th>tpr</th>\n",
       "      <th>fpr</th>\n",
       "      <th>tpr</th>\n",
       "      <th>fpr</th>\n",
       "      <th>tpr</th>\n",
       "    </tr>\n",
       "  </thead>\n",
       "  <tbody>\n",
       "    <tr>\n",
       "      <th>0</th>\n",
       "      <td>0.000</td>\n",
       "      <td>0.000</td>\n",
       "      <td>0.000</td>\n",
       "      <td>0.000</td>\n",
       "      <td>0.000</td>\n",
       "      <td>0.000</td>\n",
       "    </tr>\n",
       "    <tr>\n",
       "      <th>1</th>\n",
       "      <td>0.042</td>\n",
       "      <td>0.000</td>\n",
       "      <td>0.000</td>\n",
       "      <td>0.056</td>\n",
       "      <td>0.042</td>\n",
       "      <td>0.000</td>\n",
       "    </tr>\n",
       "    <tr>\n",
       "      <th>2</th>\n",
       "      <td>0.042</td>\n",
       "      <td>0.611</td>\n",
       "      <td>0.000</td>\n",
       "      <td>0.389</td>\n",
       "      <td>0.083</td>\n",
       "      <td>0.000</td>\n",
       "    </tr>\n",
       "    <tr>\n",
       "      <th>3</th>\n",
       "      <td>0.083</td>\n",
       "      <td>0.611</td>\n",
       "      <td>0.042</td>\n",
       "      <td>0.389</td>\n",
       "      <td>0.083</td>\n",
       "      <td>0.167</td>\n",
       "    </tr>\n",
       "    <tr>\n",
       "      <th>4</th>\n",
       "      <td>0.083</td>\n",
       "      <td>0.667</td>\n",
       "      <td>0.042</td>\n",
       "      <td>0.500</td>\n",
       "      <td>0.167</td>\n",
       "      <td>0.167</td>\n",
       "    </tr>\n",
       "    <tr>\n",
       "      <th>5</th>\n",
       "      <td>0.125</td>\n",
       "      <td>0.667</td>\n",
       "      <td>0.125</td>\n",
       "      <td>0.500</td>\n",
       "      <td>0.167</td>\n",
       "      <td>0.222</td>\n",
       "    </tr>\n",
       "    <tr>\n",
       "      <th>6</th>\n",
       "      <td>0.125</td>\n",
       "      <td>0.722</td>\n",
       "      <td>0.125</td>\n",
       "      <td>0.556</td>\n",
       "      <td>0.208</td>\n",
       "      <td>0.222</td>\n",
       "    </tr>\n",
       "    <tr>\n",
       "      <th>7</th>\n",
       "      <td>0.417</td>\n",
       "      <td>0.722</td>\n",
       "      <td>0.250</td>\n",
       "      <td>0.556</td>\n",
       "      <td>0.208</td>\n",
       "      <td>0.500</td>\n",
       "    </tr>\n",
       "    <tr>\n",
       "      <th>8</th>\n",
       "      <td>0.417</td>\n",
       "      <td>0.944</td>\n",
       "      <td>0.250</td>\n",
       "      <td>0.889</td>\n",
       "      <td>0.250</td>\n",
       "      <td>0.500</td>\n",
       "    </tr>\n",
       "    <tr>\n",
       "      <th>9</th>\n",
       "      <td>0.500</td>\n",
       "      <td>0.944</td>\n",
       "      <td>0.417</td>\n",
       "      <td>0.889</td>\n",
       "      <td>0.250</td>\n",
       "      <td>0.611</td>\n",
       "    </tr>\n",
       "    <tr>\n",
       "      <th>10</th>\n",
       "      <td>0.500</td>\n",
       "      <td>1.000</td>\n",
       "      <td>0.417</td>\n",
       "      <td>0.944</td>\n",
       "      <td>0.625</td>\n",
       "      <td>0.611</td>\n",
       "    </tr>\n",
       "    <tr>\n",
       "      <th>11</th>\n",
       "      <td>1.000</td>\n",
       "      <td>1.000</td>\n",
       "      <td>0.625</td>\n",
       "      <td>0.944</td>\n",
       "      <td>0.625</td>\n",
       "      <td>0.667</td>\n",
       "    </tr>\n",
       "    <tr>\n",
       "      <th>12</th>\n",
       "      <td>NaN</td>\n",
       "      <td>NaN</td>\n",
       "      <td>0.625</td>\n",
       "      <td>1.000</td>\n",
       "      <td>0.750</td>\n",
       "      <td>0.667</td>\n",
       "    </tr>\n",
       "    <tr>\n",
       "      <th>13</th>\n",
       "      <td>NaN</td>\n",
       "      <td>NaN</td>\n",
       "      <td>1.000</td>\n",
       "      <td>1.000</td>\n",
       "      <td>0.750</td>\n",
       "      <td>0.889</td>\n",
       "    </tr>\n",
       "    <tr>\n",
       "      <th>14</th>\n",
       "      <td>NaN</td>\n",
       "      <td>NaN</td>\n",
       "      <td>NaN</td>\n",
       "      <td>NaN</td>\n",
       "      <td>0.875</td>\n",
       "      <td>0.889</td>\n",
       "    </tr>\n",
       "    <tr>\n",
       "      <th>15</th>\n",
       "      <td>NaN</td>\n",
       "      <td>NaN</td>\n",
       "      <td>NaN</td>\n",
       "      <td>NaN</td>\n",
       "      <td>0.875</td>\n",
       "      <td>1.000</td>\n",
       "    </tr>\n",
       "    <tr>\n",
       "      <th>16</th>\n",
       "      <td>NaN</td>\n",
       "      <td>NaN</td>\n",
       "      <td>NaN</td>\n",
       "      <td>NaN</td>\n",
       "      <td>1.000</td>\n",
       "      <td>1.000</td>\n",
       "    </tr>\n",
       "  </tbody>\n",
       "</table>\n",
       "</div>"
      ],
      "text/plain": [
       "   ALD study all       Median all       Median new      \n",
       "             fpr   tpr        fpr   tpr        fpr   tpr\n",
       "0          0.000 0.000      0.000 0.000      0.000 0.000\n",
       "1          0.042 0.000      0.000 0.056      0.042 0.000\n",
       "2          0.042 0.611      0.000 0.389      0.083 0.000\n",
       "3          0.083 0.611      0.042 0.389      0.083 0.167\n",
       "4          0.083 0.667      0.042 0.500      0.167 0.167\n",
       "5          0.125 0.667      0.125 0.500      0.167 0.222\n",
       "6          0.125 0.722      0.125 0.556      0.208 0.222\n",
       "7          0.417 0.722      0.250 0.556      0.208 0.500\n",
       "8          0.417 0.944      0.250 0.889      0.250 0.500\n",
       "9          0.500 0.944      0.417 0.889      0.250 0.611\n",
       "10         0.500 1.000      0.417 0.944      0.625 0.611\n",
       "11         1.000 1.000      0.625 0.944      0.625 0.667\n",
       "12           NaN   NaN      0.625 1.000      0.750 0.667\n",
       "13           NaN   NaN      1.000 1.000      0.750 0.889\n",
       "14           NaN   NaN        NaN   NaN      0.875 0.889\n",
       "15           NaN   NaN        NaN   NaN      0.875 1.000\n",
       "16           NaN   NaN        NaN   NaN      1.000 1.000"
      ]
     },
     "execution_count": 22,
     "metadata": {},
     "output_type": "execute_result"
    }
   ],
   "source": [
    "res = [results_ald_full, results_model_full, results_model_new]\n",
    "\n",
    "auc_roc_curve = parse_roc(*res)\n",
    "auc_roc_curve.to_excel(fname.with_suffix('.xlsx'))\n",
    "auc_roc_curve"
   ]
  },
  {
   "cell_type": "markdown",
   "id": "46e9a3f2-89aa-4bd5-a083-d8e16815020a",
   "metadata": {
    "papermill": {
     "duration": 0.083834,
     "end_time": "2024-09-11T04:36:13.408173",
     "exception": false,
     "start_time": "2024-09-11T04:36:13.324339",
     "status": "completed"
    },
    "tags": []
   },
   "source": [
    "### Features selected for final models"
   ]
  },
  {
   "cell_type": "code",
   "execution_count": 23,
   "id": "9e1bb173",
   "metadata": {
    "execution": {
     "iopub.execute_input": "2024-09-11T04:36:13.536707Z",
     "iopub.status.busy": "2024-09-11T04:36:13.535951Z",
     "iopub.status.idle": "2024-09-11T04:36:13.556839Z",
     "shell.execute_reply": "2024-09-11T04:36:13.556181Z"
    },
    "papermill": {
     "duration": 0.071015,
     "end_time": "2024-09-11T04:36:13.558243",
     "exception": false,
     "start_time": "2024-09-11T04:36:13.487228",
     "status": "completed"
    },
    "tags": [
     "hide-input"
    ]
   },
   "outputs": [
    {
     "data": {
      "text/html": [
       "<div>\n",
       "<style scoped>\n",
       "    .dataframe tbody tr th:only-of-type {\n",
       "        vertical-align: middle;\n",
       "    }\n",
       "\n",
       "    .dataframe tbody tr th {\n",
       "        vertical-align: top;\n",
       "    }\n",
       "\n",
       "    .dataframe thead th {\n",
       "        text-align: right;\n",
       "    }\n",
       "</style>\n",
       "<table border=\"1\" class=\"dataframe\">\n",
       "  <thead>\n",
       "    <tr style=\"text-align: right;\">\n",
       "      <th></th>\n",
       "      <th>ALD study all</th>\n",
       "      <th>Median all</th>\n",
       "      <th>Median new</th>\n",
       "    </tr>\n",
       "    <tr>\n",
       "      <th>rank</th>\n",
       "      <th></th>\n",
       "      <th></th>\n",
       "      <th></th>\n",
       "    </tr>\n",
       "  </thead>\n",
       "  <tbody>\n",
       "    <tr>\n",
       "      <th>0</th>\n",
       "      <td>P10636-2;P10636-6</td>\n",
       "      <td>Q9Y2T3;Q9Y2T3-3</td>\n",
       "      <td>Q14894</td>\n",
       "    </tr>\n",
       "    <tr>\n",
       "      <th>1</th>\n",
       "      <td>A0A0J9YX35</td>\n",
       "      <td>B1AN99;P35030;P35030-2;P35030-3;P35030-4;P35030-5</td>\n",
       "      <td>P51688</td>\n",
       "    </tr>\n",
       "    <tr>\n",
       "      <th>2</th>\n",
       "      <td>H7BY64;Q96NZ9;Q96NZ9-4</td>\n",
       "      <td>P10636-2;P10636-6</td>\n",
       "      <td>Q8NFP4;Q8NFP4-2</td>\n",
       "    </tr>\n",
       "    <tr>\n",
       "      <th>3</th>\n",
       "      <td>P61981</td>\n",
       "      <td>P10643</td>\n",
       "      <td>A0A087WTT8;A0A0A0MQX5;O94779;O94779-2</td>\n",
       "    </tr>\n",
       "    <tr>\n",
       "      <th>4</th>\n",
       "      <td>P14174</td>\n",
       "      <td>P04075</td>\n",
       "      <td>Q504Y2</td>\n",
       "    </tr>\n",
       "    <tr>\n",
       "      <th>5</th>\n",
       "      <td>P04075</td>\n",
       "      <td>P14174</td>\n",
       "      <td>Q96GD0</td>\n",
       "    </tr>\n",
       "    <tr>\n",
       "      <th>6</th>\n",
       "      <td>Q99983</td>\n",
       "      <td>P25189;P25189-2</td>\n",
       "      <td>A0A075B7B8</td>\n",
       "    </tr>\n",
       "    <tr>\n",
       "      <th>7</th>\n",
       "      <td>Q9Y2T3;Q9Y2T3-3</td>\n",
       "      <td>P61981</td>\n",
       "      <td>J3KSJ8;Q9UD71;Q9UD71-2</td>\n",
       "    </tr>\n",
       "    <tr>\n",
       "      <th>8</th>\n",
       "      <td>P05413;S4R371</td>\n",
       "      <td>P00338;P00338-3</td>\n",
       "      <td>A6PVN5;F6WIT2;Q15257;Q15257-2;Q15257-3</td>\n",
       "    </tr>\n",
       "    <tr>\n",
       "      <th>9</th>\n",
       "      <td>P08294</td>\n",
       "      <td>P00492</td>\n",
       "      <td>A0A0J9YW36;Q9NZ72;Q9NZ72-2</td>\n",
       "    </tr>\n",
       "    <tr>\n",
       "      <th>10</th>\n",
       "      <td>P00338;P00338-3</td>\n",
       "      <td>P63104</td>\n",
       "      <td>P31150</td>\n",
       "    </tr>\n",
       "    <tr>\n",
       "      <th>11</th>\n",
       "      <td>None</td>\n",
       "      <td>P15151-2</td>\n",
       "      <td>E5RK69;E7EMC6;P08133;P08133-2</td>\n",
       "    </tr>\n",
       "    <tr>\n",
       "      <th>12</th>\n",
       "      <td>None</td>\n",
       "      <td>Q6EMK4</td>\n",
       "      <td>P31321</td>\n",
       "    </tr>\n",
       "  </tbody>\n",
       "</table>\n",
       "</div>"
      ],
      "text/plain": [
       "               ALD study all  \\\n",
       "rank                           \n",
       "0          P10636-2;P10636-6   \n",
       "1                 A0A0J9YX35   \n",
       "2     H7BY64;Q96NZ9;Q96NZ9-4   \n",
       "3                     P61981   \n",
       "4                     P14174   \n",
       "5                     P04075   \n",
       "6                     Q99983   \n",
       "7            Q9Y2T3;Q9Y2T3-3   \n",
       "8              P05413;S4R371   \n",
       "9                     P08294   \n",
       "10           P00338;P00338-3   \n",
       "11                      None   \n",
       "12                      None   \n",
       "\n",
       "                                             Median all  \\\n",
       "rank                                                      \n",
       "0                                       Q9Y2T3;Q9Y2T3-3   \n",
       "1     B1AN99;P35030;P35030-2;P35030-3;P35030-4;P35030-5   \n",
       "2                                     P10636-2;P10636-6   \n",
       "3                                                P10643   \n",
       "4                                                P04075   \n",
       "5                                                P14174   \n",
       "6                                       P25189;P25189-2   \n",
       "7                                                P61981   \n",
       "8                                       P00338;P00338-3   \n",
       "9                                                P00492   \n",
       "10                                               P63104   \n",
       "11                                             P15151-2   \n",
       "12                                               Q6EMK4   \n",
       "\n",
       "                                  Median new  \n",
       "rank                                          \n",
       "0                                     Q14894  \n",
       "1                                     P51688  \n",
       "2                            Q8NFP4;Q8NFP4-2  \n",
       "3      A0A087WTT8;A0A0A0MQX5;O94779;O94779-2  \n",
       "4                                     Q504Y2  \n",
       "5                                     Q96GD0  \n",
       "6                                 A0A075B7B8  \n",
       "7                     J3KSJ8;Q9UD71;Q9UD71-2  \n",
       "8     A6PVN5;F6WIT2;Q15257;Q15257-2;Q15257-3  \n",
       "9                 A0A0J9YW36;Q9NZ72;Q9NZ72-2  \n",
       "10                                    P31150  \n",
       "11             E5RK69;E7EMC6;P08133;P08133-2  \n",
       "12                                    P31321  "
      ]
     },
     "execution_count": 23,
     "metadata": {},
     "output_type": "execute_result"
    }
   ],
   "source": [
    "selected_features = pd.DataFrame(\n",
    "    [results_ald_full.selected_features,\n",
    "     results_model_full.selected_features,\n",
    "     results_model_new.selected_features],\n",
    "    index=[\n",
    "        results_ald_full.name,\n",
    "        results_model_full.name,\n",
    "        results_model_new.name]\n",
    ").T\n",
    "selected_features.index.name = 'rank'\n",
    "fname = args.out_folder / 'mrmr_feat_by_model.xlsx'\n",
    "files_out[fname.name] = fname\n",
    "selected_features.to_excel(fname)\n",
    "selected_features"
   ]
  },
  {
   "cell_type": "markdown",
   "id": "ce227174",
   "metadata": {
    "papermill": {
     "duration": 0.05048,
     "end_time": "2024-09-11T04:36:13.683071",
     "exception": false,
     "start_time": "2024-09-11T04:36:13.632591",
     "status": "completed"
    },
    "tags": []
   },
   "source": [
    "### Precision-Recall plot on test data"
   ]
  },
  {
   "cell_type": "code",
   "execution_count": 24,
   "id": "56ea0d50",
   "metadata": {
    "execution": {
     "iopub.execute_input": "2024-09-11T04:36:13.782231Z",
     "iopub.status.busy": "2024-09-11T04:36:13.781938Z",
     "iopub.status.idle": "2024-09-11T04:36:14.470207Z",
     "shell.execute_reply": "2024-09-11T04:36:14.469624Z"
    },
    "papermill": {
     "duration": 0.738896,
     "end_time": "2024-09-11T04:36:14.471584",
     "exception": false,
     "start_time": "2024-09-11T04:36:13.732688",
     "status": "completed"
    },
    "tags": [
     "hide-input"
    ]
   },
   "outputs": [
    {
     "name": "stderr",
     "output_type": "stream",
     "text": [
      "pimmslearn.plotting - INFO     Saved Figures to runs/alzheimer_study/diff_analysis/AD/PI_vs_Median/prec_recall_curve.pdf\n"
     ]
    },
    {
     "data": {
      "image/png": "[encoded data removed]",
      "text/plain": [
       "<Figure size 367.5x367.5 with 1 Axes>"
      ]
     },
     "metadata": {},
     "output_type": "display_data"
    }
   ],
   "source": [
    "fig, ax = plt.subplots(1, 1, figsize=figsize)\n",
    "\n",
    "ax = plot_split_prc(results_ald_full.test, results_ald_full.name, ax)\n",
    "ax = plot_split_prc(results_model_full.test, results_model_full.name, ax)\n",
    "ax = plot_split_prc(results_model_new.test, results_model_new.name, ax)\n",
    "fname = folder = args.out_folder / 'prec_recall_curve.pdf'\n",
    "files_out[fname.name] = fname\n",
    "pimmslearn.savefig(fig, name=fname)"
   ]
  },
  {
   "cell_type": "markdown",
   "id": "bc9e560d",
   "metadata": {
    "papermill": {
     "duration": 0.049577,
     "end_time": "2024-09-11T04:36:14.572365",
     "exception": false,
     "start_time": "2024-09-11T04:36:14.522788",
     "status": "completed"
    },
    "tags": []
   },
   "source": [
    "Data used to plot PRC:"
   ]
  },
  {
   "cell_type": "code",
   "execution_count": 25,
   "id": "a9f5e5ce",
   "metadata": {
    "execution": {
     "iopub.execute_input": "2024-09-11T04:36:14.671856Z",
     "iopub.status.busy": "2024-09-11T04:36:14.671607Z",
     "iopub.status.idle": "2024-09-11T04:36:14.716973Z",
     "shell.execute_reply": "2024-09-11T04:36:14.716371Z"
    },
    "papermill": {
     "duration": 0.097489,
     "end_time": "2024-09-11T04:36:14.718531",
     "exception": false,
     "start_time": "2024-09-11T04:36:14.621042",
     "status": "completed"
    },
    "tags": [
     "hide-input"
    ]
   },
   "outputs": [
    {
     "data": {
      "text/html": [
       "<div>\n",
       "<style scoped>\n",
       "    .dataframe tbody tr th:only-of-type {\n",
       "        vertical-align: middle;\n",
       "    }\n",
       "\n",
       "    .dataframe tbody tr th {\n",
       "        vertical-align: top;\n",
       "    }\n",
       "\n",
       "    .dataframe thead tr th {\n",
       "        text-align: left;\n",
       "    }\n",
       "</style>\n",
       "<table border=\"1\" class=\"dataframe\">\n",
       "  <thead>\n",
       "    <tr>\n",
       "      <th></th>\n",
       "      <th colspan=\"2\" halign=\"left\">ALD study all</th>\n",
       "      <th colspan=\"2\" halign=\"left\">Median all</th>\n",
       "      <th colspan=\"2\" halign=\"left\">Median new</th>\n",
       "    </tr>\n",
       "    <tr>\n",
       "      <th></th>\n",
       "      <th>precision</th>\n",
       "      <th>tpr</th>\n",
       "      <th>precision</th>\n",
       "      <th>tpr</th>\n",
       "      <th>precision</th>\n",
       "      <th>tpr</th>\n",
       "    </tr>\n",
       "  </thead>\n",
       "  <tbody>\n",
       "    <tr>\n",
       "      <th>0</th>\n",
       "      <td>0.429</td>\n",
       "      <td>1.000</td>\n",
       "      <td>0.429</td>\n",
       "      <td>1.000</td>\n",
       "      <td>0.429</td>\n",
       "      <td>1.000</td>\n",
       "    </tr>\n",
       "    <tr>\n",
       "      <th>1</th>\n",
       "      <td>0.439</td>\n",
       "      <td>1.000</td>\n",
       "      <td>0.439</td>\n",
       "      <td>1.000</td>\n",
       "      <td>0.439</td>\n",
       "      <td>1.000</td>\n",
       "    </tr>\n",
       "    <tr>\n",
       "      <th>2</th>\n",
       "      <td>0.450</td>\n",
       "      <td>1.000</td>\n",
       "      <td>0.450</td>\n",
       "      <td>1.000</td>\n",
       "      <td>0.450</td>\n",
       "      <td>1.000</td>\n",
       "    </tr>\n",
       "    <tr>\n",
       "      <th>3</th>\n",
       "      <td>0.462</td>\n",
       "      <td>1.000</td>\n",
       "      <td>0.462</td>\n",
       "      <td>1.000</td>\n",
       "      <td>0.462</td>\n",
       "      <td>1.000</td>\n",
       "    </tr>\n",
       "    <tr>\n",
       "      <th>4</th>\n",
       "      <td>0.474</td>\n",
       "      <td>1.000</td>\n",
       "      <td>0.474</td>\n",
       "      <td>1.000</td>\n",
       "      <td>0.447</td>\n",
       "      <td>0.944</td>\n",
       "    </tr>\n",
       "    <tr>\n",
       "      <th>5</th>\n",
       "      <td>0.486</td>\n",
       "      <td>1.000</td>\n",
       "      <td>0.486</td>\n",
       "      <td>1.000</td>\n",
       "      <td>0.432</td>\n",
       "      <td>0.889</td>\n",
       "    </tr>\n",
       "    <tr>\n",
       "      <th>6</th>\n",
       "      <td>0.500</td>\n",
       "      <td>1.000</td>\n",
       "      <td>0.500</td>\n",
       "      <td>1.000</td>\n",
       "      <td>0.444</td>\n",
       "      <td>0.889</td>\n",
       "    </tr>\n",
       "    <tr>\n",
       "      <th>7</th>\n",
       "      <td>0.514</td>\n",
       "      <td>1.000</td>\n",
       "      <td>0.514</td>\n",
       "      <td>1.000</td>\n",
       "      <td>0.457</td>\n",
       "      <td>0.889</td>\n",
       "    </tr>\n",
       "    <tr>\n",
       "      <th>8</th>\n",
       "      <td>0.529</td>\n",
       "      <td>1.000</td>\n",
       "      <td>0.529</td>\n",
       "      <td>1.000</td>\n",
       "      <td>0.471</td>\n",
       "      <td>0.889</td>\n",
       "    </tr>\n",
       "    <tr>\n",
       "      <th>9</th>\n",
       "      <td>0.545</td>\n",
       "      <td>1.000</td>\n",
       "      <td>0.545</td>\n",
       "      <td>1.000</td>\n",
       "      <td>0.455</td>\n",
       "      <td>0.833</td>\n",
       "    </tr>\n",
       "    <tr>\n",
       "      <th>10</th>\n",
       "      <td>0.562</td>\n",
       "      <td>1.000</td>\n",
       "      <td>0.531</td>\n",
       "      <td>0.944</td>\n",
       "      <td>0.438</td>\n",
       "      <td>0.778</td>\n",
       "    </tr>\n",
       "    <tr>\n",
       "      <th>11</th>\n",
       "      <td>0.581</td>\n",
       "      <td>1.000</td>\n",
       "      <td>0.548</td>\n",
       "      <td>0.944</td>\n",
       "      <td>0.419</td>\n",
       "      <td>0.722</td>\n",
       "    </tr>\n",
       "    <tr>\n",
       "      <th>12</th>\n",
       "      <td>0.600</td>\n",
       "      <td>1.000</td>\n",
       "      <td>0.567</td>\n",
       "      <td>0.944</td>\n",
       "      <td>0.400</td>\n",
       "      <td>0.667</td>\n",
       "    </tr>\n",
       "    <tr>\n",
       "      <th>13</th>\n",
       "      <td>0.586</td>\n",
       "      <td>0.944</td>\n",
       "      <td>0.586</td>\n",
       "      <td>0.944</td>\n",
       "      <td>0.414</td>\n",
       "      <td>0.667</td>\n",
       "    </tr>\n",
       "    <tr>\n",
       "      <th>14</th>\n",
       "      <td>0.607</td>\n",
       "      <td>0.944</td>\n",
       "      <td>0.607</td>\n",
       "      <td>0.944</td>\n",
       "      <td>0.429</td>\n",
       "      <td>0.667</td>\n",
       "    </tr>\n",
       "    <tr>\n",
       "      <th>15</th>\n",
       "      <td>0.630</td>\n",
       "      <td>0.944</td>\n",
       "      <td>0.630</td>\n",
       "      <td>0.944</td>\n",
       "      <td>0.444</td>\n",
       "      <td>0.667</td>\n",
       "    </tr>\n",
       "    <tr>\n",
       "      <th>16</th>\n",
       "      <td>0.615</td>\n",
       "      <td>0.889</td>\n",
       "      <td>0.615</td>\n",
       "      <td>0.889</td>\n",
       "      <td>0.423</td>\n",
       "      <td>0.611</td>\n",
       "    </tr>\n",
       "    <tr>\n",
       "      <th>17</th>\n",
       "      <td>0.600</td>\n",
       "      <td>0.833</td>\n",
       "      <td>0.640</td>\n",
       "      <td>0.889</td>\n",
       "      <td>0.440</td>\n",
       "      <td>0.611</td>\n",
       "    </tr>\n",
       "    <tr>\n",
       "      <th>18</th>\n",
       "      <td>0.583</td>\n",
       "      <td>0.778</td>\n",
       "      <td>0.667</td>\n",
       "      <td>0.889</td>\n",
       "      <td>0.458</td>\n",
       "      <td>0.611</td>\n",
       "    </tr>\n",
       "    <tr>\n",
       "      <th>19</th>\n",
       "      <td>0.565</td>\n",
       "      <td>0.722</td>\n",
       "      <td>0.696</td>\n",
       "      <td>0.889</td>\n",
       "      <td>0.478</td>\n",
       "      <td>0.611</td>\n",
       "    </tr>\n",
       "    <tr>\n",
       "      <th>20</th>\n",
       "      <td>0.591</td>\n",
       "      <td>0.722</td>\n",
       "      <td>0.727</td>\n",
       "      <td>0.889</td>\n",
       "      <td>0.500</td>\n",
       "      <td>0.611</td>\n",
       "    </tr>\n",
       "    <tr>\n",
       "      <th>21</th>\n",
       "      <td>0.619</td>\n",
       "      <td>0.722</td>\n",
       "      <td>0.714</td>\n",
       "      <td>0.833</td>\n",
       "      <td>0.524</td>\n",
       "      <td>0.611</td>\n",
       "    </tr>\n",
       "    <tr>\n",
       "      <th>22</th>\n",
       "      <td>0.650</td>\n",
       "      <td>0.722</td>\n",
       "      <td>0.700</td>\n",
       "      <td>0.778</td>\n",
       "      <td>0.550</td>\n",
       "      <td>0.611</td>\n",
       "    </tr>\n",
       "    <tr>\n",
       "      <th>23</th>\n",
       "      <td>0.684</td>\n",
       "      <td>0.722</td>\n",
       "      <td>0.684</td>\n",
       "      <td>0.722</td>\n",
       "      <td>0.579</td>\n",
       "      <td>0.611</td>\n",
       "    </tr>\n",
       "    <tr>\n",
       "      <th>24</th>\n",
       "      <td>0.722</td>\n",
       "      <td>0.722</td>\n",
       "      <td>0.667</td>\n",
       "      <td>0.667</td>\n",
       "      <td>0.611</td>\n",
       "      <td>0.611</td>\n",
       "    </tr>\n",
       "    <tr>\n",
       "      <th>25</th>\n",
       "      <td>0.765</td>\n",
       "      <td>0.722</td>\n",
       "      <td>0.647</td>\n",
       "      <td>0.611</td>\n",
       "      <td>0.647</td>\n",
       "      <td>0.611</td>\n",
       "    </tr>\n",
       "    <tr>\n",
       "      <th>26</th>\n",
       "      <td>0.812</td>\n",
       "      <td>0.722</td>\n",
       "      <td>0.625</td>\n",
       "      <td>0.556</td>\n",
       "      <td>0.625</td>\n",
       "      <td>0.556</td>\n",
       "    </tr>\n",
       "    <tr>\n",
       "      <th>27</th>\n",
       "      <td>0.800</td>\n",
       "      <td>0.667</td>\n",
       "      <td>0.667</td>\n",
       "      <td>0.556</td>\n",
       "      <td>0.600</td>\n",
       "      <td>0.500</td>\n",
       "    </tr>\n",
       "    <tr>\n",
       "      <th>28</th>\n",
       "      <td>0.857</td>\n",
       "      <td>0.667</td>\n",
       "      <td>0.714</td>\n",
       "      <td>0.556</td>\n",
       "      <td>0.643</td>\n",
       "      <td>0.500</td>\n",
       "    </tr>\n",
       "    <tr>\n",
       "      <th>29</th>\n",
       "      <td>0.846</td>\n",
       "      <td>0.611</td>\n",
       "      <td>0.769</td>\n",
       "      <td>0.556</td>\n",
       "      <td>0.615</td>\n",
       "      <td>0.444</td>\n",
       "    </tr>\n",
       "    <tr>\n",
       "      <th>30</th>\n",
       "      <td>0.917</td>\n",
       "      <td>0.611</td>\n",
       "      <td>0.750</td>\n",
       "      <td>0.500</td>\n",
       "      <td>0.583</td>\n",
       "      <td>0.389</td>\n",
       "    </tr>\n",
       "    <tr>\n",
       "      <th>31</th>\n",
       "      <td>0.909</td>\n",
       "      <td>0.556</td>\n",
       "      <td>0.818</td>\n",
       "      <td>0.500</td>\n",
       "      <td>0.545</td>\n",
       "      <td>0.333</td>\n",
       "    </tr>\n",
       "    <tr>\n",
       "      <th>32</th>\n",
       "      <td>0.900</td>\n",
       "      <td>0.500</td>\n",
       "      <td>0.900</td>\n",
       "      <td>0.500</td>\n",
       "      <td>0.500</td>\n",
       "      <td>0.278</td>\n",
       "    </tr>\n",
       "    <tr>\n",
       "      <th>33</th>\n",
       "      <td>0.889</td>\n",
       "      <td>0.444</td>\n",
       "      <td>0.889</td>\n",
       "      <td>0.444</td>\n",
       "      <td>0.444</td>\n",
       "      <td>0.222</td>\n",
       "    </tr>\n",
       "    <tr>\n",
       "      <th>34</th>\n",
       "      <td>0.875</td>\n",
       "      <td>0.389</td>\n",
       "      <td>0.875</td>\n",
       "      <td>0.389</td>\n",
       "      <td>0.500</td>\n",
       "      <td>0.222</td>\n",
       "    </tr>\n",
       "    <tr>\n",
       "      <th>35</th>\n",
       "      <td>0.857</td>\n",
       "      <td>0.333</td>\n",
       "      <td>1.000</td>\n",
       "      <td>0.389</td>\n",
       "      <td>0.429</td>\n",
       "      <td>0.167</td>\n",
       "    </tr>\n",
       "    <tr>\n",
       "      <th>36</th>\n",
       "      <td>0.833</td>\n",
       "      <td>0.278</td>\n",
       "      <td>1.000</td>\n",
       "      <td>0.333</td>\n",
       "      <td>0.500</td>\n",
       "      <td>0.167</td>\n",
       "    </tr>\n",
       "    <tr>\n",
       "      <th>37</th>\n",
       "      <td>0.800</td>\n",
       "      <td>0.222</td>\n",
       "      <td>1.000</td>\n",
       "      <td>0.278</td>\n",
       "      <td>0.600</td>\n",
       "      <td>0.167</td>\n",
       "    </tr>\n",
       "    <tr>\n",
       "      <th>38</th>\n",
       "      <td>0.750</td>\n",
       "      <td>0.167</td>\n",
       "      <td>1.000</td>\n",
       "      <td>0.222</td>\n",
       "      <td>0.500</td>\n",
       "      <td>0.111</td>\n",
       "    </tr>\n",
       "    <tr>\n",
       "      <th>39</th>\n",
       "      <td>0.667</td>\n",
       "      <td>0.111</td>\n",
       "      <td>1.000</td>\n",
       "      <td>0.167</td>\n",
       "      <td>0.333</td>\n",
       "      <td>0.056</td>\n",
       "    </tr>\n",
       "    <tr>\n",
       "      <th>40</th>\n",
       "      <td>0.500</td>\n",
       "      <td>0.056</td>\n",
       "      <td>1.000</td>\n",
       "      <td>0.111</td>\n",
       "      <td>0.000</td>\n",
       "      <td>0.000</td>\n",
       "    </tr>\n",
       "    <tr>\n",
       "      <th>41</th>\n",
       "      <td>0.000</td>\n",
       "      <td>0.000</td>\n",
       "      <td>1.000</td>\n",
       "      <td>0.056</td>\n",
       "      <td>0.000</td>\n",
       "      <td>0.000</td>\n",
       "    </tr>\n",
       "    <tr>\n",
       "      <th>42</th>\n",
       "      <td>1.000</td>\n",
       "      <td>0.000</td>\n",
       "      <td>1.000</td>\n",
       "      <td>0.000</td>\n",
       "      <td>1.000</td>\n",
       "      <td>0.000</td>\n",
       "    </tr>\n",
       "  </tbody>\n",
       "</table>\n",
       "</div>"
      ],
      "text/plain": [
       "   ALD study all       Median all       Median new      \n",
       "       precision   tpr  precision   tpr  precision   tpr\n",
       "0          0.429 1.000      0.429 1.000      0.429 1.000\n",
       "1          0.439 1.000      0.439 1.000      0.439 1.000\n",
       "2          0.450 1.000      0.450 1.000      0.450 1.000\n",
       "3          0.462 1.000      0.462 1.000      0.462 1.000\n",
       "4          0.474 1.000      0.474 1.000      0.447 0.944\n",
       "5          0.486 1.000      0.486 1.000      0.432 0.889\n",
       "6          0.500 1.000      0.500 1.000      0.444 0.889\n",
       "7          0.514 1.000      0.514 1.000      0.457 0.889\n",
       "8          0.529 1.000      0.529 1.000      0.471 0.889\n",
       "9          0.545 1.000      0.545 1.000      0.455 0.833\n",
       "10         0.562 1.000      0.531 0.944      0.438 0.778\n",
       "11         0.581 1.000      0.548 0.944      0.419 0.722\n",
       "12         0.600 1.000      0.567 0.944      0.400 0.667\n",
       "13         0.586 0.944      0.586 0.944      0.414 0.667\n",
       "14         0.607 0.944      0.607 0.944      0.429 0.667\n",
       "15         0.630 0.944      0.630 0.944      0.444 0.667\n",
       "16         0.615 0.889      0.615 0.889      0.423 0.611\n",
       "17         0.600 0.833      0.640 0.889      0.440 0.611\n",
       "18         0.583 0.778      0.667 0.889      0.458 0.611\n",
       "19         0.565 0.722      0.696 0.889      0.478 0.611\n",
       "20         0.591 0.722      0.727 0.889      0.500 0.611\n",
       "21         0.619 0.722      0.714 0.833      0.524 0.611\n",
       "22         0.650 0.722      0.700 0.778      0.550 0.611\n",
       "23         0.684 0.722      0.684 0.722      0.579 0.611\n",
       "24         0.722 0.722      0.667 0.667      0.611 0.611\n",
       "25         0.765 0.722      0.647 0.611      0.647 0.611\n",
       "26         0.812 0.722      0.625 0.556      0.625 0.556\n",
       "27         0.800 0.667      0.667 0.556      0.600 0.500\n",
       "28         0.857 0.667      0.714 0.556      0.643 0.500\n",
       "29         0.846 0.611      0.769 0.556      0.615 0.444\n",
       "30         0.917 0.611      0.750 0.500      0.583 0.389\n",
       "31         0.909 0.556      0.818 0.500      0.545 0.333\n",
       "32         0.900 0.500      0.900 0.500      0.500 0.278\n",
       "33         0.889 0.444      0.889 0.444      0.444 0.222\n",
       "34         0.875 0.389      0.875 0.389      0.500 0.222\n",
       "35         0.857 0.333      1.000 0.389      0.429 0.167\n",
       "36         0.833 0.278      1.000 0.333      0.500 0.167\n",
       "37         0.800 0.222      1.000 0.278      0.600 0.167\n",
       "38         0.750 0.167      1.000 0.222      0.500 0.111\n",
       "39         0.667 0.111      1.000 0.167      0.333 0.056\n",
       "40         0.500 0.056      1.000 0.111      0.000 0.000\n",
       "41         0.000 0.000      1.000 0.056      0.000 0.000\n",
       "42         1.000 0.000      1.000 0.000      1.000 0.000"
      ]
     },
     "execution_count": 25,
     "metadata": {},
     "output_type": "execute_result"
    }
   ],
   "source": [
    "prec_recall_curve = parse_prc(*res)\n",
    "prec_recall_curve.to_excel(fname.with_suffix('.xlsx'))\n",
    "prec_recall_curve"
   ]
  },
  {
   "cell_type": "markdown",
   "id": "0ddf0913",
   "metadata": {
    "papermill": {
     "duration": 0.049417,
     "end_time": "2024-09-11T04:36:14.818675",
     "exception": false,
     "start_time": "2024-09-11T04:36:14.769258",
     "status": "completed"
    },
    "tags": []
   },
   "source": [
    "## Train data plots"
   ]
  },
  {
   "cell_type": "code",
   "execution_count": 26,
   "id": "6eb3ed77",
   "metadata": {
    "execution": {
     "iopub.execute_input": "2024-09-11T04:36:14.919193Z",
     "iopub.status.busy": "2024-09-11T04:36:14.918946Z",
     "iopub.status.idle": "2024-09-11T04:36:15.713207Z",
     "shell.execute_reply": "2024-09-11T04:36:15.712583Z"
    },
    "papermill": {
     "duration": 0.846163,
     "end_time": "2024-09-11T04:36:15.714640",
     "exception": false,
     "start_time": "2024-09-11T04:36:14.868477",
     "status": "completed"
    },
    "tags": [
     "hide-input"
    ]
   },
   "outputs": [
    {
     "name": "stderr",
     "output_type": "stream",
     "text": [
      "pimmslearn.plotting - INFO     Saved Figures to runs/alzheimer_study/diff_analysis/AD/PI_vs_Median/prec_recall_curve_train.pdf\n"
     ]
    },
    {
     "data": {
      "image/png": "[encoded data removed]",
      "text/plain": [
       "<Figure size 367.5x367.5 with 1 Axes>"
      ]
     },
     "metadata": {},
     "output_type": "display_data"
    }
   ],
   "source": [
    "fig, ax = plt.subplots(1, 1, figsize=figsize)\n",
    "\n",
    "ax = plot_split_prc(results_ald_full.train, results_ald_full.name, ax)\n",
    "ax = plot_split_prc(results_model_full.train, results_model_full.name, ax)\n",
    "ax = plot_split_prc(results_model_new.train, results_model_new.name, ax)\n",
    "fname = folder = args.out_folder / 'prec_recall_curve_train.pdf'\n",
    "files_out[fname.name] = fname\n",
    "pimmslearn.savefig(fig, name=fname)"
   ]
  },
  {
   "cell_type": "code",
   "execution_count": 27,
   "id": "64fee389",
   "metadata": {
    "execution": {
     "iopub.execute_input": "2024-09-11T04:36:15.917398Z",
     "iopub.status.busy": "2024-09-11T04:36:15.916933Z",
     "iopub.status.idle": "2024-09-11T04:36:17.833215Z",
     "shell.execute_reply": "2024-09-11T04:36:17.832584Z"
    },
    "papermill": {
     "duration": 1.982242,
     "end_time": "2024-09-11T04:36:17.834832",
     "exception": false,
     "start_time": "2024-09-11T04:36:15.852590",
     "status": "completed"
    },
    "tags": [
     "hide-input"
    ]
   },
   "outputs": [
    {
     "name": "stderr",
     "output_type": "stream",
     "text": [
      "pimmslearn.plotting - INFO     Saved Figures to runs/alzheimer_study/diff_analysis/AD/PI_vs_Median/auc_roc_curve_train.pdf\n"
     ]
    },
    {
     "data": {
      "image/png": "[encoded data removed]",
      "text/plain": [
       "<Figure size 367.5x367.5 with 1 Axes>"
      ]
     },
     "metadata": {},
     "output_type": "display_data"
    }
   ],
   "source": [
    "fig, ax = plt.subplots(1, 1, figsize=figsize)\n",
    "plot_split_auc(results_ald_full.train, results_ald_full.name, ax)\n",
    "plot_split_auc(results_model_full.train, results_model_full.name, ax)\n",
    "plot_split_auc(results_model_new.train, results_model_new.name, ax)\n",
    "fname = folder = args.out_folder / 'auc_roc_curve_train.pdf'\n",
    "files_out[fname.name] = fname\n",
    "pimmslearn.savefig(fig, name=fname)"
   ]
  },
  {
   "cell_type": "markdown",
   "id": "545b7a34",
   "metadata": {
    "papermill": {
     "duration": 0.050946,
     "end_time": "2024-09-11T04:36:17.944569",
     "exception": false,
     "start_time": "2024-09-11T04:36:17.893623",
     "status": "completed"
    },
    "tags": []
   },
   "source": [
    "Output files:"
   ]
  },
  {
   "cell_type": "code",
   "execution_count": 28,
   "id": "860e0d5e",
   "metadata": {
    "execution": {
     "iopub.execute_input": "2024-09-11T04:36:18.111530Z",
     "iopub.status.busy": "2024-09-11T04:36:18.111232Z",
     "iopub.status.idle": "2024-09-11T04:36:18.115936Z",
     "shell.execute_reply": "2024-09-11T04:36:18.115415Z"
    },
    "papermill": {
     "duration": 0.06546,
     "end_time": "2024-09-11T04:36:18.117599",
     "exception": false,
     "start_time": "2024-09-11T04:36:18.052139",
     "status": "completed"
    },
    "tags": [
     "hide-input"
    ]
   },
   "outputs": [
    {
     "data": {
      "text/plain": [
       "{'results_Median all.pkl': PosixPath('runs/alzheimer_study/diff_analysis/AD/PI_vs_Median/results_Median all.pkl'),\n",
       " 'results_Median new.pkl': PosixPath('runs/alzheimer_study/diff_analysis/AD/PI_vs_Median/results_Median new.pkl'),\n",
       " 'results_ALD study all.pkl': PosixPath('runs/alzheimer_study/diff_analysis/AD/PI_vs_Median/results_ALD study all.pkl'),\n",
       " 'auc_roc_curve.pdf': PosixPath('runs/alzheimer_study/diff_analysis/AD/PI_vs_Median/auc_roc_curve.pdf'),\n",
       " 'mrmr_feat_by_model.xlsx': PosixPath('runs/alzheimer_study/diff_analysis/AD/PI_vs_Median/mrmr_feat_by_model.xlsx'),\n",
       " 'prec_recall_curve.pdf': PosixPath('runs/alzheimer_study/diff_analysis/AD/PI_vs_Median/prec_recall_curve.pdf'),\n",
       " 'prec_recall_curve_train.pdf': PosixPath('runs/alzheimer_study/diff_analysis/AD/PI_vs_Median/prec_recall_curve_train.pdf'),\n",
       " 'auc_roc_curve_train.pdf': PosixPath('runs/alzheimer_study/diff_analysis/AD/PI_vs_Median/auc_roc_curve_train.pdf')}"
      ]
     },
     "execution_count": 28,
     "metadata": {},
     "output_type": "execute_result"
    }
   ],
   "source": [
    "files_out"
   ]
  }
 ],
 "metadata": {
  "kernelspec": {
   "display_name": "Python 3",
   "language": "python",
   "name": "python3"
  },
  "language_info": {
   "codemirror_mode": {
    "name": "ipython",
    "version": 3
   },
   "file_extension": ".py",
   "mimetype": "text/x-python",
   "name": "python",
   "nbconvert_exporter": "python",
   "pygments_lexer": "ipython3",
   "version": "3.12.0"
  },
  "papermill": {
   "default_parameters": {},
   "duration": 261.427853,
   "end_time": "2024-09-11T04:36:20.794070",
   "environment_variables": {},
   "exception": null,
   "input_path": "10_3_ald_ml_new_feat.ipynb",
   "output_path": "runs/alzheimer_study/diff_analysis/AD/PI_vs_Median/10_3_ald_ml_new_feat.ipynb",
   "parameters": {
    "baseline": "PI",
    "cutoff_target": 0.5,
    "fn_clinical_data": "runs/alzheimer_study/data/clinical_data.csv",
    "folder_experiment": "runs/alzheimer_study",
    "model_key": "Median",
    "out_folder": "diff_analysis",
    "target": "AD"
   },
   "start_time": "2024-09-11T04:31:59.366217",
   "version": "2.6.0"
  }
 },
 "nbformat": 4,
 "nbformat_minor": 5
}