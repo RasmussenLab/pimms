{
 "cells": [
  {
   "cell_type": "markdown",
   "id": "d5f8edbd",
   "metadata": {
    "lines_to_next_cell": 2,
    "papermill": {
     "duration": 0.013824,
     "end_time": "2024-09-18T04:30:28.591051",
     "exception": false,
     "start_time": "2024-09-18T04:30:28.577227",
     "status": "completed"
    },
    "tags": []
   },
   "source": [
    "# Fit logistic regression model\n",
    "\n",
    "- based on different imputation methods\n",
    "- baseline: reference\n",
    "- model: any other selected imputation method"
   ]
  },
  {
   "cell_type": "code",
   "execution_count": 1,
   "id": "8d8c6764",
   "metadata": {
    "execution": {
     "iopub.execute_input": "2024-09-18T04:30:28.656013Z",
     "iopub.status.busy": "2024-09-18T04:30:28.655676Z",
     "iopub.status.idle": "2024-09-18T04:30:30.624858Z",
     "shell.execute_reply": "2024-09-18T04:30:30.624315Z"
    },
    "papermill": {
     "duration": 1.988543,
     "end_time": "2024-09-18T04:30:30.626102",
     "exception": false,
     "start_time": "2024-09-18T04:30:28.637559",
     "status": "completed"
    },
    "tags": [
     "hide-input"
    ]
   },
   "outputs": [],
   "source": [
    "import logging\n",
    "from pathlib import Path\n",
    "from typing import List\n",
    "\n",
    "import matplotlib.pyplot as plt\n",
    "import njab.sklearn\n",
    "import pandas as pd\n",
    "import sklearn\n",
    "from njab.plotting.metrics import plot_split_auc, plot_split_prc\n",
    "from njab.sklearn.types import Splits\n",
    "\n",
    "import pimmslearn\n",
    "import pimmslearn.analyzers\n",
    "import pimmslearn.io.datasplits\n",
    "\n",
    "plt.rcParams['figure.figsize'] = (2.5, 2.5)\n",
    "plt.rcParams['lines.linewidth'] = 1\n",
    "plt.rcParams['lines.markersize'] = 2\n",
    "fontsize = 5\n",
    "figsize = (2.5, 2.5)\n",
    "pimmslearn.plotting.make_large_descriptors(fontsize)\n",
    "\n",
    "\n",
    "logger = pimmslearn.logging.setup_nb_logger()\n",
    "logging.getLogger('fontTools').setLevel(logging.ERROR)\n",
    "\n",
    "\n",
    "def parse_roc(*res: List[njab.sklearn.types.Results]) -> pd.DataFrame:\n",
    "    ret = list()\n",
    "    for _r in res:\n",
    "        _roc = (pd.DataFrame(_r.test.roc,\n",
    "                             index='fpr tpr cutoffs'.split()\n",
    "                             )).loc[['fpr', 'tpr']]\n",
    "        _roc = _roc.T\n",
    "        _roc.columns = pd.MultiIndex.from_product([[_r.name], _roc.columns])\n",
    "        ret.append(_roc)\n",
    "    ret = pd.concat(ret, axis=1)\n",
    "    return ret\n",
    "\n",
    "\n",
    "def parse_prc(*res: List[njab.sklearn.types.Results]) -> pd.DataFrame:\n",
    "    ret = list()\n",
    "    for _r in res:\n",
    "        _prc = pd.DataFrame(_r.test.prc,\n",
    "                            index='precision recall cutoffs'.split()\n",
    "                            ).loc[['precision', 'recall']]\n",
    "        _prc = _prc.T.rename(columns={'recall': 'tpr'})\n",
    "        _prc.columns = pd.MultiIndex.from_product([[_r.name], _prc.columns])\n",
    "        ret.append(_prc)\n",
    "    ret = pd.concat(ret, axis=1)\n",
    "    return ret\n",
    "\n",
    "\n",
    "# catch passed parameters\n",
    "args = None\n",
    "args = dict(globals()).keys()"
   ]
  },
  {
   "cell_type": "markdown",
   "id": "e1e67f6d",
   "metadata": {
    "papermill": {
     "duration": 0.007356,
     "end_time": "2024-09-18T04:30:30.641194",
     "exception": false,
     "start_time": "2024-09-18T04:30:30.633838",
     "status": "completed"
    },
    "tags": []
   },
   "source": [
    "## Parameters\n",
    "Default and set parameters for the notebook."
   ]
  },
  {
   "cell_type": "code",
   "execution_count": 2,
   "id": "443cd83d",
   "metadata": {
    "execution": {
     "iopub.execute_input": "2024-09-18T04:30:30.657640Z",
     "iopub.status.busy": "2024-09-18T04:30:30.657179Z",
     "iopub.status.idle": "2024-09-18T04:30:30.661222Z",
     "shell.execute_reply": "2024-09-18T04:30:30.660717Z"
    },
    "lines_to_next_cell": 2,
    "papermill": {
     "duration": 0.013865,
     "end_time": "2024-09-18T04:30:30.662506",
     "exception": false,
     "start_time": "2024-09-18T04:30:30.648641",
     "status": "completed"
    },
    "tags": [
     "parameters"
    ]
   },
   "outputs": [],
   "source": [
    "folder_data: str = ''  # specify data directory if needed\n",
    "fn_clinical_data = \"data/ALD_study/processed/ald_metadata_cli.csv\"\n",
    "folder_experiment = \"runs/appl_ald_data/plasma/proteinGroups\"\n",
    "model_key = 'VAE'\n",
    "target = 'kleiner'\n",
    "sample_id_col = 'Sample ID'\n",
    "cutoff_target: int = 2  # => for binarization target >= cutoff_target\n",
    "file_format = \"csv\"\n",
    "out_folder = 'diff_analysis'\n",
    "fn_qc_samples = ''  # 'data/ALD_study/processed/qc_plasma_proteinGroups.pkl'\n",
    "\n",
    "baseline = 'RSN'  # default is RSN, as this was used in the original ALD Niu. et. al 2022\n",
    "template_pred = 'pred_real_na_{}.csv'  # fixed, do not change"
   ]
  },
  {
   "cell_type": "code",
   "execution_count": 3,
   "id": "d382c7a7",
   "metadata": {
    "execution": {
     "iopub.execute_input": "2024-09-18T04:30:30.678654Z",
     "iopub.status.busy": "2024-09-18T04:30:30.678366Z",
     "iopub.status.idle": "2024-09-18T04:30:30.681705Z",
     "shell.execute_reply": "2024-09-18T04:30:30.681194Z"
    },
    "papermill": {
     "duration": 0.013033,
     "end_time": "2024-09-18T04:30:30.683123",
     "exception": false,
     "start_time": "2024-09-18T04:30:30.670090",
     "status": "completed"
    },
    "tags": [
     "injected-parameters"
    ]
   },
   "outputs": [],
   "source": [
    "# Parameters\n",
    "cutoff_target = 0.5\n",
    "folder_experiment = \"runs/alzheimer_study\"\n",
    "target = \"AD\"\n",
    "baseline = \"PI\"\n",
    "model_key = \"TRKNN\"\n",
    "out_folder = \"diff_analysis\"\n",
    "fn_clinical_data = \"runs/alzheimer_study/data/clinical_data.csv\"\n"
   ]
  },
  {
   "cell_type": "code",
   "execution_count": 4,
   "id": "13538b85",
   "metadata": {
    "execution": {
     "iopub.execute_input": "2024-09-18T04:30:30.700319Z",
     "iopub.status.busy": "2024-09-18T04:30:30.700071Z",
     "iopub.status.idle": "2024-09-18T04:30:30.722370Z",
     "shell.execute_reply": "2024-09-18T04:30:30.721814Z"
    },
    "papermill": {
     "duration": 0.032768,
     "end_time": "2024-09-18T04:30:30.723473",
     "exception": false,
     "start_time": "2024-09-18T04:30:30.690705",
     "status": "completed"
    },
    "tags": [
     "hide-input"
    ]
   },
   "outputs": [
    {
     "name": "stderr",
     "output_type": "stream",
     "text": [
      "root - INFO     Removed from global namespace: folder_data\n"
     ]
    },
    {
     "name": "stderr",
     "output_type": "stream",
     "text": [
      "root - INFO     Removed from global namespace: fn_clinical_data\n"
     ]
    },
    {
     "name": "stderr",
     "output_type": "stream",
     "text": [
      "root - INFO     Removed from global namespace: folder_experiment\n"
     ]
    },
    {
     "name": "stderr",
     "output_type": "stream",
     "text": [
      "root - INFO     Removed from global namespace: model_key\n"
     ]
    },
    {
     "name": "stderr",
     "output_type": "stream",
     "text": [
      "root - INFO     Removed from global namespace: target\n"
     ]
    },
    {
     "name": "stderr",
     "output_type": "stream",
     "text": [
      "root - INFO     Removed from global namespace: sample_id_col\n"
     ]
    },
    {
     "name": "stderr",
     "output_type": "stream",
     "text": [
      "root - INFO     Removed from global namespace: cutoff_target\n"
     ]
    },
    {
     "name": "stderr",
     "output_type": "stream",
     "text": [
      "root - INFO     Removed from global namespace: file_format\n"
     ]
    },
    {
     "name": "stderr",
     "output_type": "stream",
     "text": [
      "root - INFO     Removed from global namespace: out_folder\n"
     ]
    },
    {
     "name": "stderr",
     "output_type": "stream",
     "text": [
      "root - INFO     Removed from global namespace: fn_qc_samples\n"
     ]
    },
    {
     "name": "stderr",
     "output_type": "stream",
     "text": [
      "root - INFO     Removed from global namespace: baseline\n"
     ]
    },
    {
     "name": "stderr",
     "output_type": "stream",
     "text": [
      "root - INFO     Removed from global namespace: template_pred\n"
     ]
    },
    {
     "name": "stderr",
     "output_type": "stream",
     "text": [
      "root - INFO     Already set attribute: folder_experiment has value runs/alzheimer_study\n"
     ]
    },
    {
     "name": "stderr",
     "output_type": "stream",
     "text": [
      "root - INFO     Already set attribute: out_folder has value diff_analysis\n"
     ]
    },
    {
     "data": {
      "text/plain": [
       "{'baseline': 'PI',\n",
       " 'cutoff_target': 0.5,\n",
       " 'data': PosixPath('runs/alzheimer_study/data'),\n",
       " 'file_format': 'csv',\n",
       " 'fn_clinical_data': 'runs/alzheimer_study/data/clinical_data.csv',\n",
       " 'fn_qc_samples': '',\n",
       " 'folder_data': '',\n",
       " 'folder_experiment': PosixPath('runs/alzheimer_study'),\n",
       " 'model_key': 'TRKNN',\n",
       " 'out_figures': PosixPath('runs/alzheimer_study/figures'),\n",
       " 'out_folder': PosixPath('runs/alzheimer_study/diff_analysis/AD/PI_vs_TRKNN'),\n",
       " 'out_metrics': PosixPath('runs/alzheimer_study'),\n",
       " 'out_models': PosixPath('runs/alzheimer_study'),\n",
       " 'out_preds': PosixPath('runs/alzheimer_study/preds'),\n",
       " 'sample_id_col': 'Sample ID',\n",
       " 'target': 'AD',\n",
       " 'template_pred': 'pred_real_na_{}.csv'}"
      ]
     },
     "execution_count": 4,
     "metadata": {},
     "output_type": "execute_result"
    }
   ],
   "source": [
    "params = pimmslearn.nb.get_params(args, globals=globals())\n",
    "args = pimmslearn.nb.Config()\n",
    "args.folder_experiment = Path(params[\"folder_experiment\"])\n",
    "args = pimmslearn.nb.add_default_paths(args,\n",
    "                                 out_root=(args.folder_experiment\n",
    "                                           / params[\"out_folder\"]\n",
    "                                           / params[\"target\"]\n",
    "                                           / f\"{params['baseline']}_vs_{params['model_key']}\"))\n",
    "args.update_from_dict(params)\n",
    "files_out = dict()\n",
    "args"
   ]
  },
  {
   "cell_type": "markdown",
   "id": "1ca8264e",
   "metadata": {
    "papermill": {
     "duration": 0.008478,
     "end_time": "2024-09-18T04:30:30.740372",
     "exception": false,
     "start_time": "2024-09-18T04:30:30.731894",
     "status": "completed"
    },
    "tags": []
   },
   "source": [
    "## Load data\n",
    "\n",
    "### Load target"
   ]
  },
  {
   "cell_type": "code",
   "execution_count": 5,
   "id": "09ba8ea3",
   "metadata": {
    "execution": {
     "iopub.execute_input": "2024-09-18T04:30:30.759268Z",
     "iopub.status.busy": "2024-09-18T04:30:30.758959Z",
     "iopub.status.idle": "2024-09-18T04:30:30.773049Z",
     "shell.execute_reply": "2024-09-18T04:30:30.772522Z"
    },
    "papermill": {
     "duration": 0.025056,
     "end_time": "2024-09-18T04:30:30.774256",
     "exception": false,
     "start_time": "2024-09-18T04:30:30.749200",
     "status": "completed"
    },
    "tags": []
   },
   "outputs": [
    {
     "data": {
      "text/html": [
       "<div>\n",
       "<style scoped>\n",
       "    .dataframe tbody tr th:only-of-type {\n",
       "        vertical-align: middle;\n",
       "    }\n",
       "\n",
       "    .dataframe tbody tr th {\n",
       "        vertical-align: top;\n",
       "    }\n",
       "\n",
       "    .dataframe thead th {\n",
       "        text-align: right;\n",
       "    }\n",
       "</style>\n",
       "<table border=\"1\" class=\"dataframe\">\n",
       "  <thead>\n",
       "    <tr style=\"text-align: right;\">\n",
       "      <th></th>\n",
       "      <th>AD</th>\n",
       "    </tr>\n",
       "    <tr>\n",
       "      <th>Sample ID</th>\n",
       "      <th></th>\n",
       "    </tr>\n",
       "  </thead>\n",
       "  <tbody>\n",
       "    <tr>\n",
       "      <th>Sample_000</th>\n",
       "      <td>0</td>\n",
       "    </tr>\n",
       "    <tr>\n",
       "      <th>Sample_001</th>\n",
       "      <td>1</td>\n",
       "    </tr>\n",
       "    <tr>\n",
       "      <th>Sample_002</th>\n",
       "      <td>1</td>\n",
       "    </tr>\n",
       "    <tr>\n",
       "      <th>Sample_003</th>\n",
       "      <td>1</td>\n",
       "    </tr>\n",
       "    <tr>\n",
       "      <th>Sample_004</th>\n",
       "      <td>1</td>\n",
       "    </tr>\n",
       "    <tr>\n",
       "      <th>...</th>\n",
       "      <td>...</td>\n",
       "    </tr>\n",
       "    <tr>\n",
       "      <th>Sample_205</th>\n",
       "      <td>1</td>\n",
       "    </tr>\n",
       "    <tr>\n",
       "      <th>Sample_206</th>\n",
       "      <td>0</td>\n",
       "    </tr>\n",
       "    <tr>\n",
       "      <th>Sample_207</th>\n",
       "      <td>0</td>\n",
       "    </tr>\n",
       "    <tr>\n",
       "      <th>Sample_208</th>\n",
       "      <td>0</td>\n",
       "    </tr>\n",
       "    <tr>\n",
       "      <th>Sample_209</th>\n",
       "      <td>0</td>\n",
       "    </tr>\n",
       "  </tbody>\n",
       "</table>\n",
       "<p>210 rows × 1 columns</p>\n",
       "</div>"
      ],
      "text/plain": [
       "            AD\n",
       "Sample ID     \n",
       "Sample_000   0\n",
       "Sample_001   1\n",
       "Sample_002   1\n",
       "Sample_003   1\n",
       "Sample_004   1\n",
       "...         ..\n",
       "Sample_205   1\n",
       "Sample_206   0\n",
       "Sample_207   0\n",
       "Sample_208   0\n",
       "Sample_209   0\n",
       "\n",
       "[210 rows x 1 columns]"
      ]
     },
     "execution_count": 5,
     "metadata": {},
     "output_type": "execute_result"
    }
   ],
   "source": [
    "target = pd.read_csv(args.fn_clinical_data,\n",
    "                     index_col=0,\n",
    "                     usecols=[args.sample_id_col, args.target])\n",
    "target = target.dropna()\n",
    "target"
   ]
  },
  {
   "cell_type": "markdown",
   "id": "02bbf2a2",
   "metadata": {
    "papermill": {
     "duration": 0.00862,
     "end_time": "2024-09-18T04:30:30.792521",
     "exception": false,
     "start_time": "2024-09-18T04:30:30.783901",
     "status": "completed"
    },
    "tags": []
   },
   "source": [
    "### MS proteomics or specified omics data\n",
    "Aggregated from data splits of the imputation workflow run before."
   ]
  },
  {
   "cell_type": "code",
   "execution_count": 6,
   "id": "f4cd6005",
   "metadata": {
    "execution": {
     "iopub.execute_input": "2024-09-18T04:30:30.813447Z",
     "iopub.status.busy": "2024-09-18T04:30:30.813157Z",
     "iopub.status.idle": "2024-09-18T04:30:31.051092Z",
     "shell.execute_reply": "2024-09-18T04:30:31.050571Z"
    },
    "papermill": {
     "duration": 0.250061,
     "end_time": "2024-09-18T04:30:31.052269",
     "exception": false,
     "start_time": "2024-09-18T04:30:30.802208",
     "status": "completed"
    },
    "tags": [
     "hide-input"
    ]
   },
   "outputs": [
    {
     "name": "stderr",
     "output_type": "stream",
     "text": [
      "pimmslearn.io.datasplits - INFO     Loaded 'train_X' from file: runs/alzheimer_study/data/train_X.csv\n"
     ]
    },
    {
     "name": "stderr",
     "output_type": "stream",
     "text": [
      "pimmslearn.io.datasplits - INFO     Loaded 'val_y' from file: runs/alzheimer_study/data/val_y.csv\n"
     ]
    },
    {
     "name": "stderr",
     "output_type": "stream",
     "text": [
      "pimmslearn.io.datasplits - INFO     Loaded 'test_y' from file: runs/alzheimer_study/data/test_y.csv\n"
     ]
    },
    {
     "data": {
      "text/plain": [
       "Sample ID   protein groups                                 \n",
       "Sample_122  P32004;P32004-2;P32004-3                          16.721\n",
       "Sample_051  P02792                                            16.091\n",
       "Sample_106  H0YNK6;Q06418                                     17.289\n",
       "Sample_157  Q7Z794                                            16.619\n",
       "Sample_102  G3V1Q7;H0YFP6;Q8TBY8;Q8TBY8-2;Q8TBY8-3;Q8TBY8-4   18.015\n",
       "Name: intensity, dtype: float64"
      ]
     },
     "execution_count": 6,
     "metadata": {},
     "output_type": "execute_result"
    }
   ],
   "source": [
    "data = pimmslearn.io.datasplits.DataSplits.from_folder(\n",
    "    args.data, file_format=args.file_format)\n",
    "data = pd.concat([data.train_X, data.val_y, data.test_y])\n",
    "data.sample(5)"
   ]
  },
  {
   "cell_type": "markdown",
   "id": "ac6b446e",
   "metadata": {
    "papermill": {
     "duration": 0.011896,
     "end_time": "2024-09-18T04:30:31.075946",
     "exception": false,
     "start_time": "2024-09-18T04:30:31.064050",
     "status": "completed"
    },
    "tags": []
   },
   "source": [
    "Get overlap between independent features and target"
   ]
  },
  {
   "cell_type": "markdown",
   "id": "c79ad218",
   "metadata": {
    "papermill": {
     "duration": 0.011238,
     "end_time": "2024-09-18T04:30:31.098630",
     "exception": false,
     "start_time": "2024-09-18T04:30:31.087392",
     "status": "completed"
    },
    "tags": []
   },
   "source": [
    "### Select by ALD criteria\n",
    "Use parameters as specified in [ALD study](https://github.com/RasmussenLab/pimms/tree/main/project/data/ALD_study)."
   ]
  },
  {
   "cell_type": "code",
   "execution_count": 7,
   "id": "3038462c",
   "metadata": {
    "execution": {
     "iopub.execute_input": "2024-09-18T04:30:31.123163Z",
     "iopub.status.busy": "2024-09-18T04:30:31.122436Z",
     "iopub.status.idle": "2024-09-18T04:30:31.244579Z",
     "shell.execute_reply": "2024-09-18T04:30:31.243921Z"
    },
    "papermill": {
     "duration": 0.135867,
     "end_time": "2024-09-18T04:30:31.245851",
     "exception": false,
     "start_time": "2024-09-18T04:30:31.109984",
     "status": "completed"
    },
    "tags": [
     "hide-input"
    ]
   },
   "outputs": [
    {
     "name": "stderr",
     "output_type": "stream",
     "text": [
      "root - INFO     Initally: N samples: 210, M feat: 1421\n"
     ]
    },
    {
     "name": "stderr",
     "output_type": "stream",
     "text": [
      "root - INFO     Dropped features quantified in less than 126 samples.\n"
     ]
    },
    {
     "name": "stderr",
     "output_type": "stream",
     "text": [
      "root - INFO     After feat selection: N samples: 210, M feat: 1213\n"
     ]
    },
    {
     "name": "stderr",
     "output_type": "stream",
     "text": [
      "root - INFO     Min No. of Protein-Groups in single sample: 754\n"
     ]
    },
    {
     "name": "stderr",
     "output_type": "stream",
     "text": [
      "root - INFO     Finally: N samples: 210, M feat: 1213\n"
     ]
    },
    {
     "data": {
      "text/html": [
       "<div>\n",
       "<style scoped>\n",
       "    .dataframe tbody tr th:only-of-type {\n",
       "        vertical-align: middle;\n",
       "    }\n",
       "\n",
       "    .dataframe tbody tr th {\n",
       "        vertical-align: top;\n",
       "    }\n",
       "\n",
       "    .dataframe thead th {\n",
       "        text-align: right;\n",
       "    }\n",
       "</style>\n",
       "<table border=\"1\" class=\"dataframe\">\n",
       "  <thead>\n",
       "    <tr style=\"text-align: right;\">\n",
       "      <th>protein groups</th>\n",
       "      <th>A0A024QZX5;A0A087X1N8;P35237</th>\n",
       "      <th>A0A024R0T9;K7ER74;P02655</th>\n",
       "      <th>A0A024R3W6;A0A024R412;O60462;O60462-2;O60462-3;O60462-4;O60462-5;Q7LBX6;X5D2Q8</th>\n",
       "      <th>A0A024R644;A0A0A0MRU5;A0A1B0GWI2;O75503</th>\n",
       "      <th>A0A075B6H9</th>\n",
       "      <th>A0A075B6I0</th>\n",
       "      <th>A0A075B6I1</th>\n",
       "      <th>A0A075B6I6</th>\n",
       "      <th>A0A075B6I9</th>\n",
       "      <th>A0A075B6J9</th>\n",
       "      <th>...</th>\n",
       "      <th>Q9Y653;Q9Y653-2;Q9Y653-3</th>\n",
       "      <th>Q9Y696</th>\n",
       "      <th>Q9Y6C2</th>\n",
       "      <th>Q9Y6N6</th>\n",
       "      <th>Q9Y6N7;Q9Y6N7-2;Q9Y6N7-4</th>\n",
       "      <th>Q9Y6R7</th>\n",
       "      <th>Q9Y6X5</th>\n",
       "      <th>Q9Y6Y8;Q9Y6Y8-2</th>\n",
       "      <th>Q9Y6Y9</th>\n",
       "      <th>S4R3U6</th>\n",
       "    </tr>\n",
       "    <tr>\n",
       "      <th>Sample ID</th>\n",
       "      <th></th>\n",
       "      <th></th>\n",
       "      <th></th>\n",
       "      <th></th>\n",
       "      <th></th>\n",
       "      <th></th>\n",
       "      <th></th>\n",
       "      <th></th>\n",
       "      <th></th>\n",
       "      <th></th>\n",
       "      <th></th>\n",
       "      <th></th>\n",
       "      <th></th>\n",
       "      <th></th>\n",
       "      <th></th>\n",
       "      <th></th>\n",
       "      <th></th>\n",
       "      <th></th>\n",
       "      <th></th>\n",
       "      <th></th>\n",
       "      <th></th>\n",
       "    </tr>\n",
       "  </thead>\n",
       "  <tbody>\n",
       "    <tr>\n",
       "      <th>Sample_000</th>\n",
       "      <td>15.912</td>\n",
       "      <td>16.852</td>\n",
       "      <td>15.570</td>\n",
       "      <td>16.481</td>\n",
       "      <td>20.246</td>\n",
       "      <td>16.764</td>\n",
       "      <td>17.584</td>\n",
       "      <td>16.988</td>\n",
       "      <td>20.054</td>\n",
       "      <td>NaN</td>\n",
       "      <td>...</td>\n",
       "      <td>16.012</td>\n",
       "      <td>15.178</td>\n",
       "      <td>NaN</td>\n",
       "      <td>15.050</td>\n",
       "      <td>16.842</td>\n",
       "      <td>19.863</td>\n",
       "      <td>NaN</td>\n",
       "      <td>19.563</td>\n",
       "      <td>12.837</td>\n",
       "      <td>12.805</td>\n",
       "    </tr>\n",
       "    <tr>\n",
       "      <th>Sample_001</th>\n",
       "      <td>15.936</td>\n",
       "      <td>16.874</td>\n",
       "      <td>15.519</td>\n",
       "      <td>16.387</td>\n",
       "      <td>19.941</td>\n",
       "      <td>18.786</td>\n",
       "      <td>17.144</td>\n",
       "      <td>NaN</td>\n",
       "      <td>19.067</td>\n",
       "      <td>16.188</td>\n",
       "      <td>...</td>\n",
       "      <td>15.528</td>\n",
       "      <td>15.576</td>\n",
       "      <td>NaN</td>\n",
       "      <td>14.833</td>\n",
       "      <td>16.597</td>\n",
       "      <td>20.299</td>\n",
       "      <td>15.556</td>\n",
       "      <td>19.386</td>\n",
       "      <td>13.970</td>\n",
       "      <td>12.442</td>\n",
       "    </tr>\n",
       "    <tr>\n",
       "      <th>Sample_002</th>\n",
       "      <td>16.111</td>\n",
       "      <td>14.523</td>\n",
       "      <td>15.935</td>\n",
       "      <td>16.416</td>\n",
       "      <td>19.251</td>\n",
       "      <td>16.832</td>\n",
       "      <td>15.671</td>\n",
       "      <td>17.012</td>\n",
       "      <td>18.569</td>\n",
       "      <td>NaN</td>\n",
       "      <td>...</td>\n",
       "      <td>15.229</td>\n",
       "      <td>14.728</td>\n",
       "      <td>13.757</td>\n",
       "      <td>15.118</td>\n",
       "      <td>17.440</td>\n",
       "      <td>19.598</td>\n",
       "      <td>15.735</td>\n",
       "      <td>20.447</td>\n",
       "      <td>12.636</td>\n",
       "      <td>12.505</td>\n",
       "    </tr>\n",
       "    <tr>\n",
       "      <th>Sample_003</th>\n",
       "      <td>16.107</td>\n",
       "      <td>17.032</td>\n",
       "      <td>15.802</td>\n",
       "      <td>16.979</td>\n",
       "      <td>19.628</td>\n",
       "      <td>17.852</td>\n",
       "      <td>18.877</td>\n",
       "      <td>14.182</td>\n",
       "      <td>18.985</td>\n",
       "      <td>13.438</td>\n",
       "      <td>...</td>\n",
       "      <td>15.495</td>\n",
       "      <td>14.590</td>\n",
       "      <td>14.682</td>\n",
       "      <td>15.140</td>\n",
       "      <td>17.356</td>\n",
       "      <td>19.429</td>\n",
       "      <td>NaN</td>\n",
       "      <td>20.216</td>\n",
       "      <td>12.627</td>\n",
       "      <td>12.445</td>\n",
       "    </tr>\n",
       "    <tr>\n",
       "      <th>Sample_004</th>\n",
       "      <td>15.603</td>\n",
       "      <td>15.331</td>\n",
       "      <td>15.375</td>\n",
       "      <td>16.679</td>\n",
       "      <td>20.450</td>\n",
       "      <td>18.682</td>\n",
       "      <td>17.081</td>\n",
       "      <td>14.140</td>\n",
       "      <td>19.686</td>\n",
       "      <td>14.495</td>\n",
       "      <td>...</td>\n",
       "      <td>14.757</td>\n",
       "      <td>15.094</td>\n",
       "      <td>14.048</td>\n",
       "      <td>15.256</td>\n",
       "      <td>17.075</td>\n",
       "      <td>19.582</td>\n",
       "      <td>15.328</td>\n",
       "      <td>19.867</td>\n",
       "      <td>13.145</td>\n",
       "      <td>12.235</td>\n",
       "    </tr>\n",
       "    <tr>\n",
       "      <th>...</th>\n",
       "      <td>...</td>\n",
       "      <td>...</td>\n",
       "      <td>...</td>\n",
       "      <td>...</td>\n",
       "      <td>...</td>\n",
       "      <td>...</td>\n",
       "      <td>...</td>\n",
       "      <td>...</td>\n",
       "      <td>...</td>\n",
       "      <td>...</td>\n",
       "      <td>...</td>\n",
       "      <td>...</td>\n",
       "      <td>...</td>\n",
       "      <td>...</td>\n",
       "      <td>...</td>\n",
       "      <td>...</td>\n",
       "      <td>...</td>\n",
       "      <td>...</td>\n",
       "      <td>...</td>\n",
       "      <td>...</td>\n",
       "      <td>...</td>\n",
       "    </tr>\n",
       "    <tr>\n",
       "      <th>Sample_205</th>\n",
       "      <td>15.682</td>\n",
       "      <td>16.886</td>\n",
       "      <td>14.910</td>\n",
       "      <td>16.482</td>\n",
       "      <td>17.705</td>\n",
       "      <td>17.039</td>\n",
       "      <td>NaN</td>\n",
       "      <td>16.413</td>\n",
       "      <td>19.102</td>\n",
       "      <td>16.064</td>\n",
       "      <td>...</td>\n",
       "      <td>15.235</td>\n",
       "      <td>15.684</td>\n",
       "      <td>14.236</td>\n",
       "      <td>15.415</td>\n",
       "      <td>17.551</td>\n",
       "      <td>17.922</td>\n",
       "      <td>16.340</td>\n",
       "      <td>19.928</td>\n",
       "      <td>12.929</td>\n",
       "      <td>11.802</td>\n",
       "    </tr>\n",
       "    <tr>\n",
       "      <th>Sample_206</th>\n",
       "      <td>15.798</td>\n",
       "      <td>17.554</td>\n",
       "      <td>15.600</td>\n",
       "      <td>15.938</td>\n",
       "      <td>18.154</td>\n",
       "      <td>18.152</td>\n",
       "      <td>16.503</td>\n",
       "      <td>16.860</td>\n",
       "      <td>18.538</td>\n",
       "      <td>15.288</td>\n",
       "      <td>...</td>\n",
       "      <td>15.422</td>\n",
       "      <td>16.106</td>\n",
       "      <td>NaN</td>\n",
       "      <td>15.345</td>\n",
       "      <td>17.084</td>\n",
       "      <td>18.708</td>\n",
       "      <td>14.249</td>\n",
       "      <td>19.433</td>\n",
       "      <td>NaN</td>\n",
       "      <td>NaN</td>\n",
       "    </tr>\n",
       "    <tr>\n",
       "      <th>Sample_207</th>\n",
       "      <td>15.739</td>\n",
       "      <td>16.877</td>\n",
       "      <td>15.469</td>\n",
       "      <td>16.898</td>\n",
       "      <td>18.636</td>\n",
       "      <td>17.950</td>\n",
       "      <td>16.321</td>\n",
       "      <td>16.401</td>\n",
       "      <td>18.849</td>\n",
       "      <td>17.580</td>\n",
       "      <td>...</td>\n",
       "      <td>15.808</td>\n",
       "      <td>16.098</td>\n",
       "      <td>14.403</td>\n",
       "      <td>15.715</td>\n",
       "      <td>16.586</td>\n",
       "      <td>18.725</td>\n",
       "      <td>16.138</td>\n",
       "      <td>19.599</td>\n",
       "      <td>13.637</td>\n",
       "      <td>11.174</td>\n",
       "    </tr>\n",
       "    <tr>\n",
       "      <th>Sample_208</th>\n",
       "      <td>15.477</td>\n",
       "      <td>16.779</td>\n",
       "      <td>14.995</td>\n",
       "      <td>16.132</td>\n",
       "      <td>14.908</td>\n",
       "      <td>17.530</td>\n",
       "      <td>NaN</td>\n",
       "      <td>16.119</td>\n",
       "      <td>18.368</td>\n",
       "      <td>15.202</td>\n",
       "      <td>...</td>\n",
       "      <td>15.157</td>\n",
       "      <td>16.712</td>\n",
       "      <td>NaN</td>\n",
       "      <td>14.640</td>\n",
       "      <td>16.533</td>\n",
       "      <td>19.411</td>\n",
       "      <td>15.807</td>\n",
       "      <td>19.545</td>\n",
       "      <td>13.216</td>\n",
       "      <td>NaN</td>\n",
       "    </tr>\n",
       "    <tr>\n",
       "      <th>Sample_209</th>\n",
       "      <td>15.727</td>\n",
       "      <td>17.261</td>\n",
       "      <td>15.175</td>\n",
       "      <td>16.235</td>\n",
       "      <td>17.893</td>\n",
       "      <td>17.744</td>\n",
       "      <td>16.371</td>\n",
       "      <td>15.780</td>\n",
       "      <td>18.806</td>\n",
       "      <td>16.532</td>\n",
       "      <td>...</td>\n",
       "      <td>15.237</td>\n",
       "      <td>15.652</td>\n",
       "      <td>15.211</td>\n",
       "      <td>14.205</td>\n",
       "      <td>16.749</td>\n",
       "      <td>19.275</td>\n",
       "      <td>15.732</td>\n",
       "      <td>19.577</td>\n",
       "      <td>11.042</td>\n",
       "      <td>11.791</td>\n",
       "    </tr>\n",
       "  </tbody>\n",
       "</table>\n",
       "<p>210 rows × 1213 columns</p>\n",
       "</div>"
      ],
      "text/plain": [
       "protein groups  A0A024QZX5;A0A087X1N8;P35237  A0A024R0T9;K7ER74;P02655  \\\n",
       "Sample ID                                                                \n",
       "Sample_000                            15.912                    16.852   \n",
       "Sample_001                            15.936                    16.874   \n",
       "Sample_002                            16.111                    14.523   \n",
       "Sample_003                            16.107                    17.032   \n",
       "Sample_004                            15.603                    15.331   \n",
       "...                                      ...                       ...   \n",
       "Sample_205                            15.682                    16.886   \n",
       "Sample_206                            15.798                    17.554   \n",
       "Sample_207                            15.739                    16.877   \n",
       "Sample_208                            15.477                    16.779   \n",
       "Sample_209                            15.727                    17.261   \n",
       "\n",
       "protein groups  A0A024R3W6;A0A024R412;O60462;O60462-2;O60462-3;O60462-4;O60462-5;Q7LBX6;X5D2Q8  \\\n",
       "Sample ID                                                                                        \n",
       "Sample_000                                                 15.570                                \n",
       "Sample_001                                                 15.519                                \n",
       "Sample_002                                                 15.935                                \n",
       "Sample_003                                                 15.802                                \n",
       "Sample_004                                                 15.375                                \n",
       "...                                                           ...                                \n",
       "Sample_205                                                 14.910                                \n",
       "Sample_206                                                 15.600                                \n",
       "Sample_207                                                 15.469                                \n",
       "Sample_208                                                 14.995                                \n",
       "Sample_209                                                 15.175                                \n",
       "\n",
       "protein groups  A0A024R644;A0A0A0MRU5;A0A1B0GWI2;O75503  A0A075B6H9  \\\n",
       "Sample ID                                                             \n",
       "Sample_000                                       16.481      20.246   \n",
       "Sample_001                                       16.387      19.941   \n",
       "Sample_002                                       16.416      19.251   \n",
       "Sample_003                                       16.979      19.628   \n",
       "Sample_004                                       16.679      20.450   \n",
       "...                                                 ...         ...   \n",
       "Sample_205                                       16.482      17.705   \n",
       "Sample_206                                       15.938      18.154   \n",
       "Sample_207                                       16.898      18.636   \n",
       "Sample_208                                       16.132      14.908   \n",
       "Sample_209                                       16.235      17.893   \n",
       "\n",
       "protein groups  A0A075B6I0  A0A075B6I1  A0A075B6I6  A0A075B6I9  A0A075B6J9  \\\n",
       "Sample ID                                                                    \n",
       "Sample_000          16.764      17.584      16.988      20.054         NaN   \n",
       "Sample_001          18.786      17.144         NaN      19.067      16.188   \n",
       "Sample_002          16.832      15.671      17.012      18.569         NaN   \n",
       "Sample_003          17.852      18.877      14.182      18.985      13.438   \n",
       "Sample_004          18.682      17.081      14.140      19.686      14.495   \n",
       "...                    ...         ...         ...         ...         ...   \n",
       "Sample_205          17.039         NaN      16.413      19.102      16.064   \n",
       "Sample_206          18.152      16.503      16.860      18.538      15.288   \n",
       "Sample_207          17.950      16.321      16.401      18.849      17.580   \n",
       "Sample_208          17.530         NaN      16.119      18.368      15.202   \n",
       "Sample_209          17.744      16.371      15.780      18.806      16.532   \n",
       "\n",
       "protein groups  ...  Q9Y653;Q9Y653-2;Q9Y653-3  Q9Y696  Q9Y6C2  Q9Y6N6  \\\n",
       "Sample ID       ...                                                     \n",
       "Sample_000      ...                    16.012  15.178     NaN  15.050   \n",
       "Sample_001      ...                    15.528  15.576     NaN  14.833   \n",
       "Sample_002      ...                    15.229  14.728  13.757  15.118   \n",
       "Sample_003      ...                    15.495  14.590  14.682  15.140   \n",
       "Sample_004      ...                    14.757  15.094  14.048  15.256   \n",
       "...             ...                       ...     ...     ...     ...   \n",
       "Sample_205      ...                    15.235  15.684  14.236  15.415   \n",
       "Sample_206      ...                    15.422  16.106     NaN  15.345   \n",
       "Sample_207      ...                    15.808  16.098  14.403  15.715   \n",
       "Sample_208      ...                    15.157  16.712     NaN  14.640   \n",
       "Sample_209      ...                    15.237  15.652  15.211  14.205   \n",
       "\n",
       "protein groups  Q9Y6N7;Q9Y6N7-2;Q9Y6N7-4  Q9Y6R7  Q9Y6X5  Q9Y6Y8;Q9Y6Y8-2  \\\n",
       "Sample ID                                                                   \n",
       "Sample_000                        16.842  19.863     NaN           19.563   \n",
       "Sample_001                        16.597  20.299  15.556           19.386   \n",
       "Sample_002                        17.440  19.598  15.735           20.447   \n",
       "Sample_003                        17.356  19.429     NaN           20.216   \n",
       "Sample_004                        17.075  19.582  15.328           19.867   \n",
       "...                                  ...     ...     ...              ...   \n",
       "Sample_205                        17.551  17.922  16.340           19.928   \n",
       "Sample_206                        17.084  18.708  14.249           19.433   \n",
       "Sample_207                        16.586  18.725  16.138           19.599   \n",
       "Sample_208                        16.533  19.411  15.807           19.545   \n",
       "Sample_209                        16.749  19.275  15.732           19.577   \n",
       "\n",
       "protein groups  Q9Y6Y9  S4R3U6  \n",
       "Sample ID                       \n",
       "Sample_000      12.837  12.805  \n",
       "Sample_001      13.970  12.442  \n",
       "Sample_002      12.636  12.505  \n",
       "Sample_003      12.627  12.445  \n",
       "Sample_004      13.145  12.235  \n",
       "...                ...     ...  \n",
       "Sample_205      12.929  11.802  \n",
       "Sample_206         NaN     NaN  \n",
       "Sample_207      13.637  11.174  \n",
       "Sample_208      13.216     NaN  \n",
       "Sample_209      11.042  11.791  \n",
       "\n",
       "[210 rows x 1213 columns]"
      ]
     },
     "execution_count": 7,
     "metadata": {},
     "output_type": "execute_result"
    }
   ],
   "source": [
    "DATA_COMPLETENESS = 0.6\n",
    "MIN_N_PROTEIN_GROUPS: int = 200\n",
    "FRAC_PROTEIN_GROUPS: int = 0.622\n",
    "CV_QC_SAMPLE: float = 0.4\n",
    "\n",
    "ald_study, cutoffs = pimmslearn.analyzers.diff_analysis.select_raw_data(data.unstack(\n",
    "), data_completeness=DATA_COMPLETENESS, frac_protein_groups=FRAC_PROTEIN_GROUPS)\n",
    "\n",
    "if args.fn_qc_samples:\n",
    "    qc_samples = pd.read_pickle(args.fn_qc_samples)\n",
    "    qc_samples = qc_samples[ald_study.columns]\n",
    "    qc_cv_feat = qc_samples.std() / qc_samples.mean()\n",
    "    qc_cv_feat = qc_cv_feat.rename(qc_samples.columns.name)\n",
    "    fig, ax = plt.subplots(figsize=(4, 7))\n",
    "    ax = qc_cv_feat.plot.box(ax=ax)\n",
    "    ax.set_ylabel('Coefficient of Variation')\n",
    "    print((qc_cv_feat < CV_QC_SAMPLE).value_counts())\n",
    "    ald_study = ald_study[pimmslearn.analyzers.diff_analysis.select_feat(qc_samples)]\n",
    "\n",
    "column_name_first_prot_to_pg = {\n",
    "    pg.split(';')[0]: pg for pg in data.unstack().columns}\n",
    "\n",
    "ald_study = ald_study.rename(columns=column_name_first_prot_to_pg)\n",
    "ald_study"
   ]
  },
  {
   "cell_type": "markdown",
   "id": "e0e04598",
   "metadata": {
    "papermill": {
     "duration": 0.019181,
     "end_time": "2024-09-18T04:30:31.289152",
     "exception": false,
     "start_time": "2024-09-18T04:30:31.269971",
     "status": "completed"
    },
    "tags": []
   },
   "source": [
    "Number of complete cases which can be used:"
   ]
  },
  {
   "cell_type": "code",
   "execution_count": 8,
   "id": "3a9e70e6",
   "metadata": {
    "execution": {
     "iopub.execute_input": "2024-09-18T04:30:31.358459Z",
     "iopub.status.busy": "2024-09-18T04:30:31.358142Z",
     "iopub.status.idle": "2024-09-18T04:30:31.580349Z",
     "shell.execute_reply": "2024-09-18T04:30:31.579672Z"
    },
    "papermill": {
     "duration": 0.249466,
     "end_time": "2024-09-18T04:30:31.581519",
     "exception": false,
     "start_time": "2024-09-18T04:30:31.332053",
     "status": "completed"
    },
    "tags": [
     "hide-input"
    ]
   },
   "outputs": [
    {
     "name": "stdout",
     "output_type": "stream",
     "text": [
      "Samples available both in proteomics data and for target: 210\n"
     ]
    }
   ],
   "source": [
    "mask_has_target = data.index.levels[0].intersection(target.index)\n",
    "assert not mask_has_target.empty, f\"No data for target: {data.index.levels[0]} and {target.index}\"\n",
    "print(\n",
    "    f\"Samples available both in proteomics data and for target: {len(mask_has_target)}\")\n",
    "target, data, ald_study = target.loc[mask_has_target], data.loc[mask_has_target], ald_study.loc[mask_has_target]"
   ]
  },
  {
   "cell_type": "markdown",
   "id": "fcc05bf5",
   "metadata": {
    "papermill": {
     "duration": 0.028788,
     "end_time": "2024-09-18T04:30:31.631462",
     "exception": false,
     "start_time": "2024-09-18T04:30:31.602674",
     "status": "completed"
    },
    "tags": []
   },
   "source": [
    "### Load imputations from specified model"
   ]
  },
  {
   "cell_type": "code",
   "execution_count": 9,
   "id": "5f072d5f",
   "metadata": {
    "execution": {
     "iopub.execute_input": "2024-09-18T04:30:31.719323Z",
     "iopub.status.busy": "2024-09-18T04:30:31.719022Z",
     "iopub.status.idle": "2024-09-18T04:30:31.838218Z",
     "shell.execute_reply": "2024-09-18T04:30:31.837576Z"
    },
    "papermill": {
     "duration": 0.156307,
     "end_time": "2024-09-18T04:30:31.839288",
     "exception": false,
     "start_time": "2024-09-18T04:30:31.682981",
     "status": "completed"
    },
    "tags": [
     "hide-input"
    ]
   },
   "outputs": [
    {
     "name": "stdout",
     "output_type": "stream",
     "text": [
      "missing values pred. by TRKNN: runs/alzheimer_study/preds/pred_real_na_TRKNN.csv\n"
     ]
    },
    {
     "data": {
      "text/plain": [
       "Sample ID   protein groups\n",
       "Sample_146  P81605           16.375\n",
       "Sample_051  B7ZKJ8           15.356\n",
       "Sample_036  G3V2U7;P07311    15.264\n",
       "Name: intensity, dtype: float64"
      ]
     },
     "execution_count": 9,
     "metadata": {},
     "output_type": "execute_result"
    }
   ],
   "source": [
    "fname = args.out_preds / args.template_pred.format(args.model_key)\n",
    "print(f\"missing values pred. by {args.model_key}: {fname}\")\n",
    "load_single_csv_pred_file = pimmslearn.analyzers.compare_predictions.load_single_csv_pred_file\n",
    "pred_real_na = load_single_csv_pred_file(fname).loc[mask_has_target]\n",
    "pred_real_na.sample(3)"
   ]
  },
  {
   "cell_type": "markdown",
   "id": "eadd9ea6",
   "metadata": {
    "papermill": {
     "duration": 0.033725,
     "end_time": "2024-09-18T04:30:31.907009",
     "exception": false,
     "start_time": "2024-09-18T04:30:31.873284",
     "status": "completed"
    },
    "tags": []
   },
   "source": [
    "### Load imputations from baseline model"
   ]
  },
  {
   "cell_type": "code",
   "execution_count": 10,
   "id": "0f2dd584",
   "metadata": {
    "execution": {
     "iopub.execute_input": "2024-09-18T04:30:31.984792Z",
     "iopub.status.busy": "2024-09-18T04:30:31.984456Z",
     "iopub.status.idle": "2024-09-18T04:30:32.118085Z",
     "shell.execute_reply": "2024-09-18T04:30:32.117333Z"
    },
    "papermill": {
     "duration": 0.166929,
     "end_time": "2024-09-18T04:30:32.119350",
     "exception": false,
     "start_time": "2024-09-18T04:30:31.952421",
     "status": "completed"
    },
    "tags": [
     "hide-input"
    ]
   },
   "outputs": [
    {
     "data": {
      "text/plain": [
       "Sample ID   protein groups          \n",
       "Sample_000  A0A075B6J9                 13.661\n",
       "            A0A075B6Q5                 13.219\n",
       "            A0A075B6R2                 11.273\n",
       "            A0A075B6S5                 13.555\n",
       "            A0A087WSY4                 12.650\n",
       "                                        ...  \n",
       "Sample_209  Q9P1W8;Q9P1W8-2;Q9P1W8-4   12.018\n",
       "            Q9UI40;Q9UI40-2            13.905\n",
       "            Q9UIW2                     11.015\n",
       "            Q9UMX0;Q9UMX0-2;Q9UMX0-4   13.461\n",
       "            Q9UP79                     12.349\n",
       "Name: intensity, Length: 46401, dtype: float64"
      ]
     },
     "execution_count": 10,
     "metadata": {},
     "output_type": "execute_result"
    }
   ],
   "source": [
    "fname = args.out_preds / args.template_pred.format(args.baseline)\n",
    "pred_real_na_baseline = load_single_csv_pred_file(fname)  # .loc[mask_has_target]\n",
    "pred_real_na_baseline"
   ]
  },
  {
   "cell_type": "markdown",
   "id": "8fa21c8b",
   "metadata": {
    "papermill": {
     "duration": 0.04554,
     "end_time": "2024-09-18T04:30:32.187241",
     "exception": false,
     "start_time": "2024-09-18T04:30:32.141701",
     "status": "completed"
    },
    "tags": []
   },
   "source": [
    "## Modeling setup\n",
    "General approach:\n",
    "  - use one train, test split of the data\n",
    "  - select best 10 features from training data `X_train`, `y_train` before binarization of target\n",
    "  - dichotomize (binarize) data into to groups (zero and 1)\n",
    "  - evaluate model on the test data `X_test`, `y_test`\n",
    "\n",
    "Repeat general approach for\n",
    " 1. all original ald data: all features justed in original ALD study\n",
    " 2. all model data: all features available my using the self supervised deep learning model\n",
    " 3. newly available feat only: the subset of features available from the\n",
    "    self supervised deep learning model which were newly retained using the\n",
    "    new approach\n",
    "\n",
    "All data:"
   ]
  },
  {
   "cell_type": "code",
   "execution_count": 11,
   "id": "f457863e",
   "metadata": {
    "execution": {
     "iopub.execute_input": "2024-09-18T04:30:32.234236Z",
     "iopub.status.busy": "2024-09-18T04:30:32.233716Z",
     "iopub.status.idle": "2024-09-18T04:30:32.438845Z",
     "shell.execute_reply": "2024-09-18T04:30:32.438194Z"
    },
    "papermill": {
     "duration": 0.222911,
     "end_time": "2024-09-18T04:30:32.439836",
     "exception": false,
     "start_time": "2024-09-18T04:30:32.216925",
     "status": "completed"
    },
    "tags": [
     "hide-input"
    ]
   },
   "outputs": [
    {
     "data": {
      "text/html": [
       "<div>\n",
       "<style scoped>\n",
       "    .dataframe tbody tr th:only-of-type {\n",
       "        vertical-align: middle;\n",
       "    }\n",
       "\n",
       "    .dataframe tbody tr th {\n",
       "        vertical-align: top;\n",
       "    }\n",
       "\n",
       "    .dataframe thead th {\n",
       "        text-align: right;\n",
       "    }\n",
       "</style>\n",
       "<table border=\"1\" class=\"dataframe\">\n",
       "  <thead>\n",
       "    <tr style=\"text-align: right;\">\n",
       "      <th>protein groups</th>\n",
       "      <th>A0A024QZX5;A0A087X1N8;P35237</th>\n",
       "      <th>A0A024R0T9;K7ER74;P02655</th>\n",
       "      <th>A0A024R3W6;A0A024R412;O60462;O60462-2;O60462-3;O60462-4;O60462-5;Q7LBX6;X5D2Q8</th>\n",
       "      <th>A0A024R644;A0A0A0MRU5;A0A1B0GWI2;O75503</th>\n",
       "      <th>A0A075B6H7</th>\n",
       "      <th>A0A075B6H9</th>\n",
       "      <th>A0A075B6I0</th>\n",
       "      <th>A0A075B6I1</th>\n",
       "      <th>A0A075B6I6</th>\n",
       "      <th>A0A075B6I9</th>\n",
       "      <th>...</th>\n",
       "      <th>Q9Y653;Q9Y653-2;Q9Y653-3</th>\n",
       "      <th>Q9Y696</th>\n",
       "      <th>Q9Y6C2</th>\n",
       "      <th>Q9Y6N6</th>\n",
       "      <th>Q9Y6N7;Q9Y6N7-2;Q9Y6N7-4</th>\n",
       "      <th>Q9Y6R7</th>\n",
       "      <th>Q9Y6X5</th>\n",
       "      <th>Q9Y6Y8;Q9Y6Y8-2</th>\n",
       "      <th>Q9Y6Y9</th>\n",
       "      <th>S4R3U6</th>\n",
       "    </tr>\n",
       "    <tr>\n",
       "      <th>Sample ID</th>\n",
       "      <th></th>\n",
       "      <th></th>\n",
       "      <th></th>\n",
       "      <th></th>\n",
       "      <th></th>\n",
       "      <th></th>\n",
       "      <th></th>\n",
       "      <th></th>\n",
       "      <th></th>\n",
       "      <th></th>\n",
       "      <th></th>\n",
       "      <th></th>\n",
       "      <th></th>\n",
       "      <th></th>\n",
       "      <th></th>\n",
       "      <th></th>\n",
       "      <th></th>\n",
       "      <th></th>\n",
       "      <th></th>\n",
       "      <th></th>\n",
       "      <th></th>\n",
       "    </tr>\n",
       "  </thead>\n",
       "  <tbody>\n",
       "    <tr>\n",
       "      <th>Sample_000</th>\n",
       "      <td>15.912</td>\n",
       "      <td>16.852</td>\n",
       "      <td>15.570</td>\n",
       "      <td>16.481</td>\n",
       "      <td>17.301</td>\n",
       "      <td>20.246</td>\n",
       "      <td>16.764</td>\n",
       "      <td>17.584</td>\n",
       "      <td>16.988</td>\n",
       "      <td>20.054</td>\n",
       "      <td>...</td>\n",
       "      <td>16.012</td>\n",
       "      <td>15.178</td>\n",
       "      <td>13.770</td>\n",
       "      <td>15.050</td>\n",
       "      <td>16.842</td>\n",
       "      <td>19.863</td>\n",
       "      <td>15.931</td>\n",
       "      <td>19.563</td>\n",
       "      <td>12.837</td>\n",
       "      <td>12.805</td>\n",
       "    </tr>\n",
       "    <tr>\n",
       "      <th>Sample_001</th>\n",
       "      <td>15.936</td>\n",
       "      <td>16.874</td>\n",
       "      <td>15.519</td>\n",
       "      <td>16.387</td>\n",
       "      <td>13.796</td>\n",
       "      <td>19.941</td>\n",
       "      <td>18.786</td>\n",
       "      <td>17.144</td>\n",
       "      <td>16.954</td>\n",
       "      <td>19.067</td>\n",
       "      <td>...</td>\n",
       "      <td>15.528</td>\n",
       "      <td>15.576</td>\n",
       "      <td>13.938</td>\n",
       "      <td>14.833</td>\n",
       "      <td>16.597</td>\n",
       "      <td>20.299</td>\n",
       "      <td>15.556</td>\n",
       "      <td>19.386</td>\n",
       "      <td>13.970</td>\n",
       "      <td>12.442</td>\n",
       "    </tr>\n",
       "    <tr>\n",
       "      <th>Sample_002</th>\n",
       "      <td>16.111</td>\n",
       "      <td>14.523</td>\n",
       "      <td>15.935</td>\n",
       "      <td>16.416</td>\n",
       "      <td>18.175</td>\n",
       "      <td>19.251</td>\n",
       "      <td>16.832</td>\n",
       "      <td>15.671</td>\n",
       "      <td>17.012</td>\n",
       "      <td>18.569</td>\n",
       "      <td>...</td>\n",
       "      <td>15.229</td>\n",
       "      <td>14.728</td>\n",
       "      <td>13.757</td>\n",
       "      <td>15.118</td>\n",
       "      <td>17.440</td>\n",
       "      <td>19.598</td>\n",
       "      <td>15.735</td>\n",
       "      <td>20.447</td>\n",
       "      <td>12.636</td>\n",
       "      <td>12.505</td>\n",
       "    </tr>\n",
       "    <tr>\n",
       "      <th>Sample_003</th>\n",
       "      <td>16.107</td>\n",
       "      <td>17.032</td>\n",
       "      <td>15.802</td>\n",
       "      <td>16.979</td>\n",
       "      <td>15.963</td>\n",
       "      <td>19.628</td>\n",
       "      <td>17.852</td>\n",
       "      <td>18.877</td>\n",
       "      <td>14.182</td>\n",
       "      <td>18.985</td>\n",
       "      <td>...</td>\n",
       "      <td>15.495</td>\n",
       "      <td>14.590</td>\n",
       "      <td>14.682</td>\n",
       "      <td>15.140</td>\n",
       "      <td>17.356</td>\n",
       "      <td>19.429</td>\n",
       "      <td>16.006</td>\n",
       "      <td>20.216</td>\n",
       "      <td>12.627</td>\n",
       "      <td>12.445</td>\n",
       "    </tr>\n",
       "    <tr>\n",
       "      <th>Sample_004</th>\n",
       "      <td>15.603</td>\n",
       "      <td>15.331</td>\n",
       "      <td>15.375</td>\n",
       "      <td>16.679</td>\n",
       "      <td>15.473</td>\n",
       "      <td>20.450</td>\n",
       "      <td>18.682</td>\n",
       "      <td>17.081</td>\n",
       "      <td>14.140</td>\n",
       "      <td>19.686</td>\n",
       "      <td>...</td>\n",
       "      <td>14.757</td>\n",
       "      <td>15.094</td>\n",
       "      <td>14.048</td>\n",
       "      <td>15.256</td>\n",
       "      <td>17.075</td>\n",
       "      <td>19.582</td>\n",
       "      <td>15.328</td>\n",
       "      <td>19.867</td>\n",
       "      <td>13.145</td>\n",
       "      <td>12.235</td>\n",
       "    </tr>\n",
       "    <tr>\n",
       "      <th>...</th>\n",
       "      <td>...</td>\n",
       "      <td>...</td>\n",
       "      <td>...</td>\n",
       "      <td>...</td>\n",
       "      <td>...</td>\n",
       "      <td>...</td>\n",
       "      <td>...</td>\n",
       "      <td>...</td>\n",
       "      <td>...</td>\n",
       "      <td>...</td>\n",
       "      <td>...</td>\n",
       "      <td>...</td>\n",
       "      <td>...</td>\n",
       "      <td>...</td>\n",
       "      <td>...</td>\n",
       "      <td>...</td>\n",
       "      <td>...</td>\n",
       "      <td>...</td>\n",
       "      <td>...</td>\n",
       "      <td>...</td>\n",
       "      <td>...</td>\n",
       "    </tr>\n",
       "    <tr>\n",
       "      <th>Sample_205</th>\n",
       "      <td>15.682</td>\n",
       "      <td>16.886</td>\n",
       "      <td>14.910</td>\n",
       "      <td>16.482</td>\n",
       "      <td>16.035</td>\n",
       "      <td>17.705</td>\n",
       "      <td>17.039</td>\n",
       "      <td>15.261</td>\n",
       "      <td>16.413</td>\n",
       "      <td>19.102</td>\n",
       "      <td>...</td>\n",
       "      <td>15.235</td>\n",
       "      <td>15.684</td>\n",
       "      <td>14.236</td>\n",
       "      <td>15.415</td>\n",
       "      <td>17.551</td>\n",
       "      <td>17.922</td>\n",
       "      <td>16.340</td>\n",
       "      <td>19.928</td>\n",
       "      <td>12.929</td>\n",
       "      <td>11.802</td>\n",
       "    </tr>\n",
       "    <tr>\n",
       "      <th>Sample_206</th>\n",
       "      <td>15.798</td>\n",
       "      <td>17.554</td>\n",
       "      <td>15.600</td>\n",
       "      <td>15.938</td>\n",
       "      <td>15.820</td>\n",
       "      <td>18.154</td>\n",
       "      <td>18.152</td>\n",
       "      <td>16.503</td>\n",
       "      <td>16.860</td>\n",
       "      <td>18.538</td>\n",
       "      <td>...</td>\n",
       "      <td>15.422</td>\n",
       "      <td>16.106</td>\n",
       "      <td>14.543</td>\n",
       "      <td>15.345</td>\n",
       "      <td>17.084</td>\n",
       "      <td>18.708</td>\n",
       "      <td>14.249</td>\n",
       "      <td>19.433</td>\n",
       "      <td>12.319</td>\n",
       "      <td>11.307</td>\n",
       "    </tr>\n",
       "    <tr>\n",
       "      <th>Sample_207</th>\n",
       "      <td>15.739</td>\n",
       "      <td>16.877</td>\n",
       "      <td>15.469</td>\n",
       "      <td>16.898</td>\n",
       "      <td>15.779</td>\n",
       "      <td>18.636</td>\n",
       "      <td>17.950</td>\n",
       "      <td>16.321</td>\n",
       "      <td>16.401</td>\n",
       "      <td>18.849</td>\n",
       "      <td>...</td>\n",
       "      <td>15.808</td>\n",
       "      <td>16.098</td>\n",
       "      <td>14.403</td>\n",
       "      <td>15.715</td>\n",
       "      <td>16.586</td>\n",
       "      <td>18.725</td>\n",
       "      <td>16.138</td>\n",
       "      <td>19.599</td>\n",
       "      <td>13.637</td>\n",
       "      <td>11.174</td>\n",
       "    </tr>\n",
       "    <tr>\n",
       "      <th>Sample_208</th>\n",
       "      <td>15.477</td>\n",
       "      <td>16.779</td>\n",
       "      <td>14.995</td>\n",
       "      <td>16.132</td>\n",
       "      <td>15.361</td>\n",
       "      <td>14.908</td>\n",
       "      <td>17.530</td>\n",
       "      <td>15.748</td>\n",
       "      <td>16.119</td>\n",
       "      <td>18.368</td>\n",
       "      <td>...</td>\n",
       "      <td>15.157</td>\n",
       "      <td>16.712</td>\n",
       "      <td>14.371</td>\n",
       "      <td>14.640</td>\n",
       "      <td>16.533</td>\n",
       "      <td>19.411</td>\n",
       "      <td>15.807</td>\n",
       "      <td>19.545</td>\n",
       "      <td>13.216</td>\n",
       "      <td>10.901</td>\n",
       "    </tr>\n",
       "    <tr>\n",
       "      <th>Sample_209</th>\n",
       "      <td>15.727</td>\n",
       "      <td>17.261</td>\n",
       "      <td>15.175</td>\n",
       "      <td>16.235</td>\n",
       "      <td>15.840</td>\n",
       "      <td>17.893</td>\n",
       "      <td>17.744</td>\n",
       "      <td>16.371</td>\n",
       "      <td>15.780</td>\n",
       "      <td>18.806</td>\n",
       "      <td>...</td>\n",
       "      <td>15.237</td>\n",
       "      <td>15.652</td>\n",
       "      <td>15.211</td>\n",
       "      <td>14.205</td>\n",
       "      <td>16.749</td>\n",
       "      <td>19.275</td>\n",
       "      <td>15.732</td>\n",
       "      <td>19.577</td>\n",
       "      <td>11.042</td>\n",
       "      <td>11.791</td>\n",
       "    </tr>\n",
       "  </tbody>\n",
       "</table>\n",
       "<p>210 rows × 1421 columns</p>\n",
       "</div>"
      ],
      "text/plain": [
       "protein groups  A0A024QZX5;A0A087X1N8;P35237  A0A024R0T9;K7ER74;P02655  \\\n",
       "Sample ID                                                                \n",
       "Sample_000                            15.912                    16.852   \n",
       "Sample_001                            15.936                    16.874   \n",
       "Sample_002                            16.111                    14.523   \n",
       "Sample_003                            16.107                    17.032   \n",
       "Sample_004                            15.603                    15.331   \n",
       "...                                      ...                       ...   \n",
       "Sample_205                            15.682                    16.886   \n",
       "Sample_206                            15.798                    17.554   \n",
       "Sample_207                            15.739                    16.877   \n",
       "Sample_208                            15.477                    16.779   \n",
       "Sample_209                            15.727                    17.261   \n",
       "\n",
       "protein groups  A0A024R3W6;A0A024R412;O60462;O60462-2;O60462-3;O60462-4;O60462-5;Q7LBX6;X5D2Q8  \\\n",
       "Sample ID                                                                                        \n",
       "Sample_000                                                 15.570                                \n",
       "Sample_001                                                 15.519                                \n",
       "Sample_002                                                 15.935                                \n",
       "Sample_003                                                 15.802                                \n",
       "Sample_004                                                 15.375                                \n",
       "...                                                           ...                                \n",
       "Sample_205                                                 14.910                                \n",
       "Sample_206                                                 15.600                                \n",
       "Sample_207                                                 15.469                                \n",
       "Sample_208                                                 14.995                                \n",
       "Sample_209                                                 15.175                                \n",
       "\n",
       "protein groups  A0A024R644;A0A0A0MRU5;A0A1B0GWI2;O75503  A0A075B6H7  \\\n",
       "Sample ID                                                             \n",
       "Sample_000                                       16.481      17.301   \n",
       "Sample_001                                       16.387      13.796   \n",
       "Sample_002                                       16.416      18.175   \n",
       "Sample_003                                       16.979      15.963   \n",
       "Sample_004                                       16.679      15.473   \n",
       "...                                                 ...         ...   \n",
       "Sample_205                                       16.482      16.035   \n",
       "Sample_206                                       15.938      15.820   \n",
       "Sample_207                                       16.898      15.779   \n",
       "Sample_208                                       16.132      15.361   \n",
       "Sample_209                                       16.235      15.840   \n",
       "\n",
       "protein groups  A0A075B6H9  A0A075B6I0  A0A075B6I1  A0A075B6I6  A0A075B6I9  \\\n",
       "Sample ID                                                                    \n",
       "Sample_000          20.246      16.764      17.584      16.988      20.054   \n",
       "Sample_001          19.941      18.786      17.144      16.954      19.067   \n",
       "Sample_002          19.251      16.832      15.671      17.012      18.569   \n",
       "Sample_003          19.628      17.852      18.877      14.182      18.985   \n",
       "Sample_004          20.450      18.682      17.081      14.140      19.686   \n",
       "...                    ...         ...         ...         ...         ...   \n",
       "Sample_205          17.705      17.039      15.261      16.413      19.102   \n",
       "Sample_206          18.154      18.152      16.503      16.860      18.538   \n",
       "Sample_207          18.636      17.950      16.321      16.401      18.849   \n",
       "Sample_208          14.908      17.530      15.748      16.119      18.368   \n",
       "Sample_209          17.893      17.744      16.371      15.780      18.806   \n",
       "\n",
       "protein groups  ...  Q9Y653;Q9Y653-2;Q9Y653-3  Q9Y696  Q9Y6C2  Q9Y6N6  \\\n",
       "Sample ID       ...                                                     \n",
       "Sample_000      ...                    16.012  15.178  13.770  15.050   \n",
       "Sample_001      ...                    15.528  15.576  13.938  14.833   \n",
       "Sample_002      ...                    15.229  14.728  13.757  15.118   \n",
       "Sample_003      ...                    15.495  14.590  14.682  15.140   \n",
       "Sample_004      ...                    14.757  15.094  14.048  15.256   \n",
       "...             ...                       ...     ...     ...     ...   \n",
       "Sample_205      ...                    15.235  15.684  14.236  15.415   \n",
       "Sample_206      ...                    15.422  16.106  14.543  15.345   \n",
       "Sample_207      ...                    15.808  16.098  14.403  15.715   \n",
       "Sample_208      ...                    15.157  16.712  14.371  14.640   \n",
       "Sample_209      ...                    15.237  15.652  15.211  14.205   \n",
       "\n",
       "protein groups  Q9Y6N7;Q9Y6N7-2;Q9Y6N7-4  Q9Y6R7  Q9Y6X5  Q9Y6Y8;Q9Y6Y8-2  \\\n",
       "Sample ID                                                                   \n",
       "Sample_000                        16.842  19.863  15.931           19.563   \n",
       "Sample_001                        16.597  20.299  15.556           19.386   \n",
       "Sample_002                        17.440  19.598  15.735           20.447   \n",
       "Sample_003                        17.356  19.429  16.006           20.216   \n",
       "Sample_004                        17.075  19.582  15.328           19.867   \n",
       "...                                  ...     ...     ...              ...   \n",
       "Sample_205                        17.551  17.922  16.340           19.928   \n",
       "Sample_206                        17.084  18.708  14.249           19.433   \n",
       "Sample_207                        16.586  18.725  16.138           19.599   \n",
       "Sample_208                        16.533  19.411  15.807           19.545   \n",
       "Sample_209                        16.749  19.275  15.732           19.577   \n",
       "\n",
       "protein groups  Q9Y6Y9  S4R3U6  \n",
       "Sample ID                       \n",
       "Sample_000      12.837  12.805  \n",
       "Sample_001      13.970  12.442  \n",
       "Sample_002      12.636  12.505  \n",
       "Sample_003      12.627  12.445  \n",
       "Sample_004      13.145  12.235  \n",
       "...                ...     ...  \n",
       "Sample_205      12.929  11.802  \n",
       "Sample_206      12.319  11.307  \n",
       "Sample_207      13.637  11.174  \n",
       "Sample_208      13.216  10.901  \n",
       "Sample_209      11.042  11.791  \n",
       "\n",
       "[210 rows x 1421 columns]"
      ]
     },
     "execution_count": 11,
     "metadata": {},
     "output_type": "execute_result"
    }
   ],
   "source": [
    "X = pd.concat([data, pred_real_na]).unstack()\n",
    "X"
   ]
  },
  {
   "cell_type": "markdown",
   "id": "0c92c7bd",
   "metadata": {
    "papermill": {
     "duration": 0.03021,
     "end_time": "2024-09-18T04:30:32.503382",
     "exception": false,
     "start_time": "2024-09-18T04:30:32.473172",
     "status": "completed"
    },
    "tags": []
   },
   "source": [
    "### Subset of data by ALD criteria"
   ]
  },
  {
   "cell_type": "code",
   "execution_count": 12,
   "id": "a387dd6f",
   "metadata": {
    "execution": {
     "iopub.execute_input": "2024-09-18T04:30:32.621242Z",
     "iopub.status.busy": "2024-09-18T04:30:32.620905Z",
     "iopub.status.idle": "2024-09-18T04:30:32.873735Z",
     "shell.execute_reply": "2024-09-18T04:30:32.873076Z"
    },
    "papermill": {
     "duration": 0.287468,
     "end_time": "2024-09-18T04:30:32.875162",
     "exception": false,
     "start_time": "2024-09-18T04:30:32.587694",
     "status": "completed"
    },
    "tags": [
     "hide-input"
    ]
   },
   "outputs": [
    {
     "data": {
      "text/html": [
       "<div>\n",
       "<style scoped>\n",
       "    .dataframe tbody tr th:only-of-type {\n",
       "        vertical-align: middle;\n",
       "    }\n",
       "\n",
       "    .dataframe tbody tr th {\n",
       "        vertical-align: top;\n",
       "    }\n",
       "\n",
       "    .dataframe thead th {\n",
       "        text-align: right;\n",
       "    }\n",
       "</style>\n",
       "<table border=\"1\" class=\"dataframe\">\n",
       "  <thead>\n",
       "    <tr style=\"text-align: right;\">\n",
       "      <th>protein groups</th>\n",
       "      <th>A0A024QZX5;A0A087X1N8;P35237</th>\n",
       "      <th>A0A024R0T9;K7ER74;P02655</th>\n",
       "      <th>A0A024R3W6;A0A024R412;O60462;O60462-2;O60462-3;O60462-4;O60462-5;Q7LBX6;X5D2Q8</th>\n",
       "      <th>A0A024R644;A0A0A0MRU5;A0A1B0GWI2;O75503</th>\n",
       "      <th>A0A075B6H9</th>\n",
       "      <th>A0A075B6I0</th>\n",
       "      <th>A0A075B6I1</th>\n",
       "      <th>A0A075B6I6</th>\n",
       "      <th>A0A075B6I9</th>\n",
       "      <th>A0A075B6K4</th>\n",
       "      <th>...</th>\n",
       "      <th>O14793</th>\n",
       "      <th>O95479;R4GMU1</th>\n",
       "      <th>P01282;P01282-2</th>\n",
       "      <th>P10619;P10619-2;X6R5C5;X6R8A1</th>\n",
       "      <th>P21810</th>\n",
       "      <th>Q14956;Q14956-2</th>\n",
       "      <th>Q6ZMP0;Q6ZMP0-2</th>\n",
       "      <th>Q9HBW1</th>\n",
       "      <th>Q9NY15</th>\n",
       "      <th>P17050</th>\n",
       "    </tr>\n",
       "    <tr>\n",
       "      <th>Sample ID</th>\n",
       "      <th></th>\n",
       "      <th></th>\n",
       "      <th></th>\n",
       "      <th></th>\n",
       "      <th></th>\n",
       "      <th></th>\n",
       "      <th></th>\n",
       "      <th></th>\n",
       "      <th></th>\n",
       "      <th></th>\n",
       "      <th></th>\n",
       "      <th></th>\n",
       "      <th></th>\n",
       "      <th></th>\n",
       "      <th></th>\n",
       "      <th></th>\n",
       "      <th></th>\n",
       "      <th></th>\n",
       "      <th></th>\n",
       "      <th></th>\n",
       "      <th></th>\n",
       "    </tr>\n",
       "  </thead>\n",
       "  <tbody>\n",
       "    <tr>\n",
       "      <th>Sample_000</th>\n",
       "      <td>15.912</td>\n",
       "      <td>16.852</td>\n",
       "      <td>15.570</td>\n",
       "      <td>16.481</td>\n",
       "      <td>20.246</td>\n",
       "      <td>16.764</td>\n",
       "      <td>17.584</td>\n",
       "      <td>16.988</td>\n",
       "      <td>20.054</td>\n",
       "      <td>16.148</td>\n",
       "      <td>...</td>\n",
       "      <td>12.751</td>\n",
       "      <td>11.728</td>\n",
       "      <td>12.010</td>\n",
       "      <td>12.208</td>\n",
       "      <td>12.278</td>\n",
       "      <td>13.280</td>\n",
       "      <td>12.838</td>\n",
       "      <td>12.673</td>\n",
       "      <td>12.540</td>\n",
       "      <td>12.665</td>\n",
       "    </tr>\n",
       "    <tr>\n",
       "      <th>Sample_001</th>\n",
       "      <td>15.936</td>\n",
       "      <td>16.874</td>\n",
       "      <td>15.519</td>\n",
       "      <td>16.387</td>\n",
       "      <td>19.941</td>\n",
       "      <td>18.786</td>\n",
       "      <td>17.144</td>\n",
       "      <td>13.324</td>\n",
       "      <td>19.067</td>\n",
       "      <td>16.127</td>\n",
       "      <td>...</td>\n",
       "      <td>12.502</td>\n",
       "      <td>12.661</td>\n",
       "      <td>12.166</td>\n",
       "      <td>12.632</td>\n",
       "      <td>12.531</td>\n",
       "      <td>11.245</td>\n",
       "      <td>13.361</td>\n",
       "      <td>14.418</td>\n",
       "      <td>13.194</td>\n",
       "      <td>12.152</td>\n",
       "    </tr>\n",
       "    <tr>\n",
       "      <th>Sample_002</th>\n",
       "      <td>16.111</td>\n",
       "      <td>14.523</td>\n",
       "      <td>15.935</td>\n",
       "      <td>16.416</td>\n",
       "      <td>19.251</td>\n",
       "      <td>16.832</td>\n",
       "      <td>15.671</td>\n",
       "      <td>17.012</td>\n",
       "      <td>18.569</td>\n",
       "      <td>15.387</td>\n",
       "      <td>...</td>\n",
       "      <td>12.471</td>\n",
       "      <td>13.396</td>\n",
       "      <td>13.508</td>\n",
       "      <td>12.242</td>\n",
       "      <td>14.009</td>\n",
       "      <td>12.905</td>\n",
       "      <td>12.675</td>\n",
       "      <td>12.923</td>\n",
       "      <td>11.606</td>\n",
       "      <td>13.987</td>\n",
       "    </tr>\n",
       "    <tr>\n",
       "      <th>Sample_003</th>\n",
       "      <td>16.107</td>\n",
       "      <td>17.032</td>\n",
       "      <td>15.802</td>\n",
       "      <td>16.979</td>\n",
       "      <td>19.628</td>\n",
       "      <td>17.852</td>\n",
       "      <td>18.877</td>\n",
       "      <td>14.182</td>\n",
       "      <td>18.985</td>\n",
       "      <td>16.565</td>\n",
       "      <td>...</td>\n",
       "      <td>13.144</td>\n",
       "      <td>12.948</td>\n",
       "      <td>13.606</td>\n",
       "      <td>14.180</td>\n",
       "      <td>12.985</td>\n",
       "      <td>13.069</td>\n",
       "      <td>13.061</td>\n",
       "      <td>14.276</td>\n",
       "      <td>12.983</td>\n",
       "      <td>12.763</td>\n",
       "    </tr>\n",
       "    <tr>\n",
       "      <th>Sample_004</th>\n",
       "      <td>15.603</td>\n",
       "      <td>15.331</td>\n",
       "      <td>15.375</td>\n",
       "      <td>16.679</td>\n",
       "      <td>20.450</td>\n",
       "      <td>18.682</td>\n",
       "      <td>17.081</td>\n",
       "      <td>14.140</td>\n",
       "      <td>19.686</td>\n",
       "      <td>16.418</td>\n",
       "      <td>...</td>\n",
       "      <td>12.746</td>\n",
       "      <td>12.713</td>\n",
       "      <td>11.947</td>\n",
       "      <td>13.648</td>\n",
       "      <td>13.451</td>\n",
       "      <td>12.106</td>\n",
       "      <td>13.722</td>\n",
       "      <td>12.800</td>\n",
       "      <td>11.777</td>\n",
       "      <td>12.956</td>\n",
       "    </tr>\n",
       "    <tr>\n",
       "      <th>...</th>\n",
       "      <td>...</td>\n",
       "      <td>...</td>\n",
       "      <td>...</td>\n",
       "      <td>...</td>\n",
       "      <td>...</td>\n",
       "      <td>...</td>\n",
       "      <td>...</td>\n",
       "      <td>...</td>\n",
       "      <td>...</td>\n",
       "      <td>...</td>\n",
       "      <td>...</td>\n",
       "      <td>...</td>\n",
       "      <td>...</td>\n",
       "      <td>...</td>\n",
       "      <td>...</td>\n",
       "      <td>...</td>\n",
       "      <td>...</td>\n",
       "      <td>...</td>\n",
       "      <td>...</td>\n",
       "      <td>...</td>\n",
       "      <td>...</td>\n",
       "    </tr>\n",
       "    <tr>\n",
       "      <th>Sample_205</th>\n",
       "      <td>15.682</td>\n",
       "      <td>16.886</td>\n",
       "      <td>14.910</td>\n",
       "      <td>16.482</td>\n",
       "      <td>17.705</td>\n",
       "      <td>17.039</td>\n",
       "      <td>12.158</td>\n",
       "      <td>16.413</td>\n",
       "      <td>19.102</td>\n",
       "      <td>15.350</td>\n",
       "      <td>...</td>\n",
       "      <td>14.269</td>\n",
       "      <td>14.064</td>\n",
       "      <td>16.826</td>\n",
       "      <td>18.182</td>\n",
       "      <td>15.225</td>\n",
       "      <td>15.044</td>\n",
       "      <td>14.192</td>\n",
       "      <td>16.605</td>\n",
       "      <td>14.995</td>\n",
       "      <td>14.257</td>\n",
       "    </tr>\n",
       "    <tr>\n",
       "      <th>Sample_206</th>\n",
       "      <td>15.798</td>\n",
       "      <td>17.554</td>\n",
       "      <td>15.600</td>\n",
       "      <td>15.938</td>\n",
       "      <td>18.154</td>\n",
       "      <td>18.152</td>\n",
       "      <td>16.503</td>\n",
       "      <td>16.860</td>\n",
       "      <td>18.538</td>\n",
       "      <td>16.582</td>\n",
       "      <td>...</td>\n",
       "      <td>14.273</td>\n",
       "      <td>17.700</td>\n",
       "      <td>16.802</td>\n",
       "      <td>20.202</td>\n",
       "      <td>15.280</td>\n",
       "      <td>15.086</td>\n",
       "      <td>13.978</td>\n",
       "      <td>18.086</td>\n",
       "      <td>15.557</td>\n",
       "      <td>14.171</td>\n",
       "    </tr>\n",
       "    <tr>\n",
       "      <th>Sample_207</th>\n",
       "      <td>15.739</td>\n",
       "      <td>16.877</td>\n",
       "      <td>15.469</td>\n",
       "      <td>16.898</td>\n",
       "      <td>18.636</td>\n",
       "      <td>17.950</td>\n",
       "      <td>16.321</td>\n",
       "      <td>16.401</td>\n",
       "      <td>18.849</td>\n",
       "      <td>15.768</td>\n",
       "      <td>...</td>\n",
       "      <td>14.473</td>\n",
       "      <td>16.882</td>\n",
       "      <td>16.917</td>\n",
       "      <td>20.105</td>\n",
       "      <td>15.690</td>\n",
       "      <td>15.135</td>\n",
       "      <td>13.138</td>\n",
       "      <td>17.066</td>\n",
       "      <td>15.706</td>\n",
       "      <td>15.690</td>\n",
       "    </tr>\n",
       "    <tr>\n",
       "      <th>Sample_208</th>\n",
       "      <td>15.477</td>\n",
       "      <td>16.779</td>\n",
       "      <td>14.995</td>\n",
       "      <td>16.132</td>\n",
       "      <td>14.908</td>\n",
       "      <td>17.530</td>\n",
       "      <td>11.639</td>\n",
       "      <td>16.119</td>\n",
       "      <td>18.368</td>\n",
       "      <td>17.560</td>\n",
       "      <td>...</td>\n",
       "      <td>15.234</td>\n",
       "      <td>17.175</td>\n",
       "      <td>16.521</td>\n",
       "      <td>18.859</td>\n",
       "      <td>15.305</td>\n",
       "      <td>15.161</td>\n",
       "      <td>13.006</td>\n",
       "      <td>17.917</td>\n",
       "      <td>15.396</td>\n",
       "      <td>14.371</td>\n",
       "    </tr>\n",
       "    <tr>\n",
       "      <th>Sample_209</th>\n",
       "      <td>15.727</td>\n",
       "      <td>17.261</td>\n",
       "      <td>15.175</td>\n",
       "      <td>16.235</td>\n",
       "      <td>17.893</td>\n",
       "      <td>17.744</td>\n",
       "      <td>16.371</td>\n",
       "      <td>15.780</td>\n",
       "      <td>18.806</td>\n",
       "      <td>16.338</td>\n",
       "      <td>...</td>\n",
       "      <td>14.556</td>\n",
       "      <td>16.656</td>\n",
       "      <td>16.954</td>\n",
       "      <td>18.493</td>\n",
       "      <td>15.823</td>\n",
       "      <td>14.626</td>\n",
       "      <td>13.385</td>\n",
       "      <td>17.767</td>\n",
       "      <td>15.687</td>\n",
       "      <td>13.573</td>\n",
       "    </tr>\n",
       "  </tbody>\n",
       "</table>\n",
       "<p>210 rows × 1213 columns</p>\n",
       "</div>"
      ],
      "text/plain": [
       "protein groups  A0A024QZX5;A0A087X1N8;P35237  A0A024R0T9;K7ER74;P02655  \\\n",
       "Sample ID                                                                \n",
       "Sample_000                            15.912                    16.852   \n",
       "Sample_001                            15.936                    16.874   \n",
       "Sample_002                            16.111                    14.523   \n",
       "Sample_003                            16.107                    17.032   \n",
       "Sample_004                            15.603                    15.331   \n",
       "...                                      ...                       ...   \n",
       "Sample_205                            15.682                    16.886   \n",
       "Sample_206                            15.798                    17.554   \n",
       "Sample_207                            15.739                    16.877   \n",
       "Sample_208                            15.477                    16.779   \n",
       "Sample_209                            15.727                    17.261   \n",
       "\n",
       "protein groups  A0A024R3W6;A0A024R412;O60462;O60462-2;O60462-3;O60462-4;O60462-5;Q7LBX6;X5D2Q8  \\\n",
       "Sample ID                                                                                        \n",
       "Sample_000                                                 15.570                                \n",
       "Sample_001                                                 15.519                                \n",
       "Sample_002                                                 15.935                                \n",
       "Sample_003                                                 15.802                                \n",
       "Sample_004                                                 15.375                                \n",
       "...                                                           ...                                \n",
       "Sample_205                                                 14.910                                \n",
       "Sample_206                                                 15.600                                \n",
       "Sample_207                                                 15.469                                \n",
       "Sample_208                                                 14.995                                \n",
       "Sample_209                                                 15.175                                \n",
       "\n",
       "protein groups  A0A024R644;A0A0A0MRU5;A0A1B0GWI2;O75503  A0A075B6H9  \\\n",
       "Sample ID                                                             \n",
       "Sample_000                                       16.481      20.246   \n",
       "Sample_001                                       16.387      19.941   \n",
       "Sample_002                                       16.416      19.251   \n",
       "Sample_003                                       16.979      19.628   \n",
       "Sample_004                                       16.679      20.450   \n",
       "...                                                 ...         ...   \n",
       "Sample_205                                       16.482      17.705   \n",
       "Sample_206                                       15.938      18.154   \n",
       "Sample_207                                       16.898      18.636   \n",
       "Sample_208                                       16.132      14.908   \n",
       "Sample_209                                       16.235      17.893   \n",
       "\n",
       "protein groups  A0A075B6I0  A0A075B6I1  A0A075B6I6  A0A075B6I9  A0A075B6K4  \\\n",
       "Sample ID                                                                    \n",
       "Sample_000          16.764      17.584      16.988      20.054      16.148   \n",
       "Sample_001          18.786      17.144      13.324      19.067      16.127   \n",
       "Sample_002          16.832      15.671      17.012      18.569      15.387   \n",
       "Sample_003          17.852      18.877      14.182      18.985      16.565   \n",
       "Sample_004          18.682      17.081      14.140      19.686      16.418   \n",
       "...                    ...         ...         ...         ...         ...   \n",
       "Sample_205          17.039      12.158      16.413      19.102      15.350   \n",
       "Sample_206          18.152      16.503      16.860      18.538      16.582   \n",
       "Sample_207          17.950      16.321      16.401      18.849      15.768   \n",
       "Sample_208          17.530      11.639      16.119      18.368      17.560   \n",
       "Sample_209          17.744      16.371      15.780      18.806      16.338   \n",
       "\n",
       "protein groups  ...  O14793  O95479;R4GMU1  P01282;P01282-2  \\\n",
       "Sample ID       ...                                           \n",
       "Sample_000      ...  12.751         11.728           12.010   \n",
       "Sample_001      ...  12.502         12.661           12.166   \n",
       "Sample_002      ...  12.471         13.396           13.508   \n",
       "Sample_003      ...  13.144         12.948           13.606   \n",
       "Sample_004      ...  12.746         12.713           11.947   \n",
       "...             ...     ...            ...              ...   \n",
       "Sample_205      ...  14.269         14.064           16.826   \n",
       "Sample_206      ...  14.273         17.700           16.802   \n",
       "Sample_207      ...  14.473         16.882           16.917   \n",
       "Sample_208      ...  15.234         17.175           16.521   \n",
       "Sample_209      ...  14.556         16.656           16.954   \n",
       "\n",
       "protein groups  P10619;P10619-2;X6R5C5;X6R8A1  P21810  Q14956;Q14956-2  \\\n",
       "Sample ID                                                                \n",
       "Sample_000                             12.208  12.278           13.280   \n",
       "Sample_001                             12.632  12.531           11.245   \n",
       "Sample_002                             12.242  14.009           12.905   \n",
       "Sample_003                             14.180  12.985           13.069   \n",
       "Sample_004                             13.648  13.451           12.106   \n",
       "...                                       ...     ...              ...   \n",
       "Sample_205                             18.182  15.225           15.044   \n",
       "Sample_206                             20.202  15.280           15.086   \n",
       "Sample_207                             20.105  15.690           15.135   \n",
       "Sample_208                             18.859  15.305           15.161   \n",
       "Sample_209                             18.493  15.823           14.626   \n",
       "\n",
       "protein groups  Q6ZMP0;Q6ZMP0-2  Q9HBW1  Q9NY15  P17050  \n",
       "Sample ID                                                \n",
       "Sample_000               12.838  12.673  12.540  12.665  \n",
       "Sample_001               13.361  14.418  13.194  12.152  \n",
       "Sample_002               12.675  12.923  11.606  13.987  \n",
       "Sample_003               13.061  14.276  12.983  12.763  \n",
       "Sample_004               13.722  12.800  11.777  12.956  \n",
       "...                         ...     ...     ...     ...  \n",
       "Sample_205               14.192  16.605  14.995  14.257  \n",
       "Sample_206               13.978  18.086  15.557  14.171  \n",
       "Sample_207               13.138  17.066  15.706  15.690  \n",
       "Sample_208               13.006  17.917  15.396  14.371  \n",
       "Sample_209               13.385  17.767  15.687  13.573  \n",
       "\n",
       "[210 rows x 1213 columns]"
      ]
     },
     "execution_count": 12,
     "metadata": {},
     "output_type": "execute_result"
    }
   ],
   "source": [
    "# could be just observed, drop columns with missing values\n",
    "ald_study = pd.concat(\n",
    "    [ald_study.stack(),\n",
    "     pred_real_na_baseline.loc[\n",
    "        # only select columns in selected in ald_study\n",
    "        pd.IndexSlice[:, pred_real_na.index.levels[-1].intersection(ald_study.columns)]\n",
    "    ]\n",
    "    ]\n",
    ").unstack()\n",
    "ald_study"
   ]
  },
  {
   "cell_type": "markdown",
   "id": "f8c07f73",
   "metadata": {
    "papermill": {
     "duration": 0.02287,
     "end_time": "2024-09-18T04:30:32.928469",
     "exception": false,
     "start_time": "2024-09-18T04:30:32.905599",
     "status": "completed"
    },
    "tags": []
   },
   "source": [
    "Features which would not have been included using ALD criteria:"
   ]
  },
  {
   "cell_type": "code",
   "execution_count": 13,
   "id": "12b9d002",
   "metadata": {
    "execution": {
     "iopub.execute_input": "2024-09-18T04:30:32.998869Z",
     "iopub.status.busy": "2024-09-18T04:30:32.998346Z",
     "iopub.status.idle": "2024-09-18T04:30:33.004162Z",
     "shell.execute_reply": "2024-09-18T04:30:33.003523Z"
    },
    "papermill": {
     "duration": 0.038683,
     "end_time": "2024-09-18T04:30:33.005216",
     "exception": false,
     "start_time": "2024-09-18T04:30:32.966533",
     "status": "completed"
    },
    "tags": [
     "hide-input"
    ]
   },
   "outputs": [
    {
     "data": {
      "text/plain": [
       "Index(['A0A075B6H7', 'A0A075B6Q5', 'A0A075B7B8', 'A0A087WSY4',\n",
       "       'A0A087WTT8;A0A0A0MQX5;O94779;O94779-2', 'A0A087WXB8;Q9Y274',\n",
       "       'A0A087WXE9;E9PQ70;Q6UXH9;Q6UXH9-2;Q6UXH9-3',\n",
       "       'A0A087X1Z2;C9JTV4;H0Y4Y4;Q8WYH2;Q96C19;Q9BUP0;Q9BUP0-2',\n",
       "       'A0A0A0MQS9;A0A0A0MTC7;Q16363;Q16363-2', 'A0A0A0MSN4;P12821;P12821-2',\n",
       "       ...\n",
       "       'Q9NZ94;Q9NZ94-2;Q9NZ94-3', 'Q9NZU1', 'Q9P1W8;Q9P1W8-2;Q9P1W8-4',\n",
       "       'Q9UHI8', 'Q9UI40;Q9UI40-2',\n",
       "       'Q9UIB8;Q9UIB8-2;Q9UIB8-3;Q9UIB8-4;Q9UIB8-5;Q9UIB8-6',\n",
       "       'Q9UKZ4;Q9UKZ4-2', 'Q9UMX0;Q9UMX0-2;Q9UMX0-4', 'Q9Y281;Q9Y281-3',\n",
       "       'Q9Y490'],\n",
       "      dtype='object', name='protein groups', length=208)"
      ]
     },
     "execution_count": 13,
     "metadata": {},
     "output_type": "execute_result"
    }
   ],
   "source": [
    "new_features = X.columns.difference(ald_study.columns)\n",
    "new_features"
   ]
  },
  {
   "cell_type": "markdown",
   "id": "a8e67247-a2a1-4a2f-b838-0bdc9f40cfa9",
   "metadata": {
    "papermill": {
     "duration": 0.031049,
     "end_time": "2024-09-18T04:30:33.064004",
     "exception": false,
     "start_time": "2024-09-18T04:30:33.032955",
     "status": "completed"
    },
    "tags": []
   },
   "source": [
    "Binarize targets, but also keep groups for stratification"
   ]
  },
  {
   "cell_type": "code",
   "execution_count": 14,
   "id": "4aa1f404-427a-4e78-b98d-cb26bb1d1ec4",
   "metadata": {
    "execution": {
     "iopub.execute_input": "2024-09-18T04:30:33.104637Z",
     "iopub.status.busy": "2024-09-18T04:30:33.104077Z",
     "iopub.status.idle": "2024-09-18T04:30:33.127302Z",
     "shell.execute_reply": "2024-09-18T04:30:33.126662Z"
    },
    "papermill": {
     "duration": 0.039951,
     "end_time": "2024-09-18T04:30:33.128434",
     "exception": false,
     "start_time": "2024-09-18T04:30:33.088483",
     "status": "completed"
    },
    "tags": [
     "hide-input"
    ]
   },
   "outputs": [
    {
     "data": {
      "text/html": [
       "<div>\n",
       "<style scoped>\n",
       "    .dataframe tbody tr th:only-of-type {\n",
       "        vertical-align: middle;\n",
       "    }\n",
       "\n",
       "    .dataframe tbody tr th {\n",
       "        vertical-align: top;\n",
       "    }\n",
       "\n",
       "    .dataframe thead th {\n",
       "        text-align: right;\n",
       "    }\n",
       "</style>\n",
       "<table border=\"1\" class=\"dataframe\">\n",
       "  <thead>\n",
       "    <tr style=\"text-align: right;\">\n",
       "      <th>AD</th>\n",
       "      <th>0</th>\n",
       "      <th>1</th>\n",
       "    </tr>\n",
       "    <tr>\n",
       "      <th>AD</th>\n",
       "      <th></th>\n",
       "      <th></th>\n",
       "    </tr>\n",
       "  </thead>\n",
       "  <tbody>\n",
       "    <tr>\n",
       "      <th>False</th>\n",
       "      <td>122</td>\n",
       "      <td>0</td>\n",
       "    </tr>\n",
       "    <tr>\n",
       "      <th>True</th>\n",
       "      <td>0</td>\n",
       "      <td>88</td>\n",
       "    </tr>\n",
       "  </tbody>\n",
       "</table>\n",
       "</div>"
      ],
      "text/plain": [
       "AD      0  1\n",
       "AD          \n",
       "False 122  0\n",
       "True    0 88"
      ]
     },
     "execution_count": 14,
     "metadata": {},
     "output_type": "execute_result"
    }
   ],
   "source": [
    "target_to_group = target.copy()\n",
    "target = target >= args.cutoff_target\n",
    "pd.crosstab(target.squeeze(), target_to_group.squeeze())"
   ]
  },
  {
   "cell_type": "markdown",
   "id": "bfab754f",
   "metadata": {
    "papermill": {
     "duration": 0.030099,
     "end_time": "2024-09-18T04:30:33.186814",
     "exception": false,
     "start_time": "2024-09-18T04:30:33.156715",
     "status": "completed"
    },
    "tags": []
   },
   "source": [
    "## Determine best number of parameters by cross validation procedure\n",
    "\n",
    "using subset of data by ALD criteria:"
   ]
  },
  {
   "cell_type": "code",
   "execution_count": 15,
   "id": "90e410d1",
   "metadata": {
    "execution": {
     "iopub.execute_input": "2024-09-18T04:30:33.250409Z",
     "iopub.status.busy": "2024-09-18T04:30:33.250105Z",
     "iopub.status.idle": "2024-09-18T04:32:24.548467Z",
     "shell.execute_reply": "2024-09-18T04:32:24.547679Z"
    },
    "papermill": {
     "duration": 111.331783,
     "end_time": "2024-09-18T04:32:24.549721",
     "exception": false,
     "start_time": "2024-09-18T04:30:33.217938",
     "status": "completed"
    },
    "tags": [
     "hide-input"
    ]
   },
   "outputs": [
    {
     "name": "stderr",
     "output_type": "stream",
     "text": [
      "\r",
      "  0%|          | 0/1 [00:00<?, ?it/s]"
     ]
    },
    {
     "name": "stderr",
     "output_type": "stream",
     "text": [
      "\r",
      "100%|██████████| 1/1 [00:00<00:00, 354.19it/s]"
     ]
    },
    {
     "name": "stderr",
     "output_type": "stream",
     "text": [
      "\n"
     ]
    },
    {
     "name": "stderr",
     "output_type": "stream",
     "text": [
      "\r",
      "  0%|          | 0/2 [00:00<?, ?it/s]"
     ]
    },
    {
     "name": "stderr",
     "output_type": "stream",
     "text": [
      "\r",
      "100%|██████████| 2/2 [00:00<00:00,  5.41it/s]"
     ]
    },
    {
     "name": "stderr",
     "output_type": "stream",
     "text": [
      "\r",
      "100%|██████████| 2/2 [00:00<00:00,  5.37it/s]"
     ]
    },
    {
     "name": "stderr",
     "output_type": "stream",
     "text": [
      "\n"
     ]
    },
    {
     "name": "stderr",
     "output_type": "stream",
     "text": [
      "\r",
      "  0%|          | 0/3 [00:00<?, ?it/s]"
     ]
    },
    {
     "name": "stderr",
     "output_type": "stream",
     "text": [
      "\r",
      " 67%|██████▋   | 2/3 [00:00<00:00,  5.84it/s]"
     ]
    },
    {
     "name": "stderr",
     "output_type": "stream",
     "text": [
      "\r",
      "100%|██████████| 3/3 [00:00<00:00,  4.17it/s]"
     ]
    },
    {
     "name": "stderr",
     "output_type": "stream",
     "text": [
      "\r",
      "100%|██████████| 3/3 [00:00<00:00,  4.34it/s]"
     ]
    },
    {
     "name": "stderr",
     "output_type": "stream",
     "text": [
      "\n"
     ]
    },
    {
     "name": "stderr",
     "output_type": "stream",
     "text": [
      "\r",
      "  0%|          | 0/4 [00:00<?, ?it/s]"
     ]
    },
    {
     "name": "stderr",
     "output_type": "stream",
     "text": [
      "\r",
      " 50%|█████     | 2/4 [00:00<00:00,  6.32it/s]"
     ]
    },
    {
     "name": "stderr",
     "output_type": "stream",
     "text": [
      "\r",
      " 75%|███████▌  | 3/4 [00:00<00:00,  4.37it/s]"
     ]
    },
    {
     "name": "stderr",
     "output_type": "stream",
     "text": [
      "\r",
      "100%|██████████| 4/4 [00:01<00:00,  3.52it/s]"
     ]
    },
    {
     "name": "stderr",
     "output_type": "stream",
     "text": [
      "\r",
      "100%|██████████| 4/4 [00:01<00:00,  3.91it/s]"
     ]
    },
    {
     "name": "stderr",
     "output_type": "stream",
     "text": [
      "\n"
     ]
    },
    {
     "name": "stderr",
     "output_type": "stream",
     "text": [
      "\r",
      "  0%|          | 0/5 [00:00<?, ?it/s]"
     ]
    },
    {
     "name": "stderr",
     "output_type": "stream",
     "text": [
      "\r",
      " 40%|████      | 2/5 [00:00<00:00,  4.36it/s]"
     ]
    },
    {
     "name": "stderr",
     "output_type": "stream",
     "text": [
      "\r",
      " 60%|██████    | 3/5 [00:00<00:00,  3.31it/s]"
     ]
    },
    {
     "name": "stderr",
     "output_type": "stream",
     "text": [
      "\r",
      " 80%|████████  | 4/5 [00:01<00:00,  3.08it/s]"
     ]
    },
    {
     "name": "stderr",
     "output_type": "stream",
     "text": [
      "\r",
      "100%|██████████| 5/5 [00:01<00:00,  3.05it/s]"
     ]
    },
    {
     "name": "stderr",
     "output_type": "stream",
     "text": [
      "\r",
      "100%|██████████| 5/5 [00:01<00:00,  3.20it/s]"
     ]
    },
    {
     "name": "stderr",
     "output_type": "stream",
     "text": [
      "\n"
     ]
    },
    {
     "name": "stderr",
     "output_type": "stream",
     "text": [
      "\r",
      "  0%|          | 0/6 [00:00<?, ?it/s]"
     ]
    },
    {
     "name": "stderr",
     "output_type": "stream",
     "text": [
      "\r",
      " 33%|███▎      | 2/6 [00:00<00:00,  7.19it/s]"
     ]
    },
    {
     "name": "stderr",
     "output_type": "stream",
     "text": [
      "\r",
      " 50%|█████     | 3/6 [00:00<00:00,  5.71it/s]"
     ]
    },
    {
     "name": "stderr",
     "output_type": "stream",
     "text": [
      "\r",
      " 67%|██████▋   | 4/6 [00:00<00:00,  4.66it/s]"
     ]
    },
    {
     "name": "stderr",
     "output_type": "stream",
     "text": [
      "\r",
      " 83%|████████▎ | 5/6 [00:01<00:00,  4.60it/s]"
     ]
    },
    {
     "name": "stderr",
     "output_type": "stream",
     "text": [
      "\r",
      "100%|██████████| 6/6 [00:01<00:00,  4.45it/s]"
     ]
    },
    {
     "name": "stderr",
     "output_type": "stream",
     "text": [
      "\r",
      "100%|██████████| 6/6 [00:01<00:00,  4.81it/s]"
     ]
    },
    {
     "name": "stderr",
     "output_type": "stream",
     "text": [
      "\n"
     ]
    },
    {
     "name": "stderr",
     "output_type": "stream",
     "text": [
      "\r",
      "  0%|          | 0/7 [00:00<?, ?it/s]"
     ]
    },
    {
     "name": "stderr",
     "output_type": "stream",
     "text": [
      "\r",
      " 29%|██▊       | 2/7 [00:00<00:00,  8.23it/s]"
     ]
    },
    {
     "name": "stderr",
     "output_type": "stream",
     "text": [
      "\r",
      " 43%|████▎     | 3/7 [00:00<00:00,  5.97it/s]"
     ]
    },
    {
     "name": "stderr",
     "output_type": "stream",
     "text": [
      "\r",
      " 57%|█████▋    | 4/7 [00:00<00:00,  5.11it/s]"
     ]
    },
    {
     "name": "stderr",
     "output_type": "stream",
     "text": [
      "\r",
      " 71%|███████▏  | 5/7 [00:00<00:00,  4.87it/s]"
     ]
    },
    {
     "name": "stderr",
     "output_type": "stream",
     "text": [
      "\r",
      " 86%|████████▌ | 6/7 [00:01<00:00,  4.88it/s]"
     ]
    },
    {
     "name": "stderr",
     "output_type": "stream",
     "text": [
      "\r",
      "100%|██████████| 7/7 [00:01<00:00,  4.50it/s]"
     ]
    },
    {
     "name": "stderr",
     "output_type": "stream",
     "text": [
      "\r",
      "100%|██████████| 7/7 [00:01<00:00,  4.98it/s]"
     ]
    },
    {
     "name": "stderr",
     "output_type": "stream",
     "text": [
      "\n"
     ]
    },
    {
     "name": "stderr",
     "output_type": "stream",
     "text": [
      "\r",
      "  0%|          | 0/8 [00:00<?, ?it/s]"
     ]
    },
    {
     "name": "stderr",
     "output_type": "stream",
     "text": [
      "\r",
      " 25%|██▌       | 2/8 [00:00<00:00,  8.03it/s]"
     ]
    },
    {
     "name": "stderr",
     "output_type": "stream",
     "text": [
      "\r",
      " 38%|███▊      | 3/8 [00:00<00:00,  5.51it/s]"
     ]
    },
    {
     "name": "stderr",
     "output_type": "stream",
     "text": [
      "\r",
      " 50%|█████     | 4/8 [00:00<00:00,  4.22it/s]"
     ]
    },
    {
     "name": "stderr",
     "output_type": "stream",
     "text": [
      "\r",
      " 62%|██████▎   | 5/8 [00:01<00:00,  3.65it/s]"
     ]
    },
    {
     "name": "stderr",
     "output_type": "stream",
     "text": [
      "\r",
      " 75%|███████▌  | 6/8 [00:01<00:00,  3.40it/s]"
     ]
    },
    {
     "name": "stderr",
     "output_type": "stream",
     "text": [
      "\r",
      " 88%|████████▊ | 7/8 [00:01<00:00,  3.16it/s]"
     ]
    },
    {
     "name": "stderr",
     "output_type": "stream",
     "text": [
      "\r",
      "100%|██████████| 8/8 [00:02<00:00,  3.00it/s]"
     ]
    },
    {
     "name": "stderr",
     "output_type": "stream",
     "text": [
      "\r",
      "100%|██████████| 8/8 [00:02<00:00,  3.54it/s]"
     ]
    },
    {
     "name": "stderr",
     "output_type": "stream",
     "text": [
      "\n"
     ]
    },
    {
     "name": "stderr",
     "output_type": "stream",
     "text": [
      "\r",
      "  0%|          | 0/9 [00:00<?, ?it/s]"
     ]
    },
    {
     "name": "stderr",
     "output_type": "stream",
     "text": [
      "\r",
      " 22%|██▏       | 2/9 [00:00<00:01,  5.56it/s]"
     ]
    },
    {
     "name": "stderr",
     "output_type": "stream",
     "text": [
      "\r",
      " 33%|███▎      | 3/9 [00:00<00:01,  3.80it/s]"
     ]
    },
    {
     "name": "stderr",
     "output_type": "stream",
     "text": [
      "\r",
      " 44%|████▍     | 4/9 [00:01<00:01,  3.33it/s]"
     ]
    },
    {
     "name": "stderr",
     "output_type": "stream",
     "text": [
      "\r",
      " 56%|█████▌    | 5/9 [00:01<00:01,  3.19it/s]"
     ]
    },
    {
     "name": "stderr",
     "output_type": "stream",
     "text": [
      "\r",
      " 67%|██████▋   | 6/9 [00:01<00:00,  3.17it/s]"
     ]
    },
    {
     "name": "stderr",
     "output_type": "stream",
     "text": [
      "\r",
      " 78%|███████▊  | 7/9 [00:02<00:00,  3.36it/s]"
     ]
    },
    {
     "name": "stderr",
     "output_type": "stream",
     "text": [
      "\r",
      " 89%|████████▉ | 8/9 [00:02<00:00,  3.15it/s]"
     ]
    },
    {
     "name": "stderr",
     "output_type": "stream",
     "text": [
      "\r",
      "100%|██████████| 9/9 [00:02<00:00,  2.87it/s]"
     ]
    },
    {
     "name": "stderr",
     "output_type": "stream",
     "text": [
      "\r",
      "100%|██████████| 9/9 [00:02<00:00,  3.20it/s]"
     ]
    },
    {
     "name": "stderr",
     "output_type": "stream",
     "text": [
      "\n"
     ]
    },
    {
     "name": "stderr",
     "output_type": "stream",
     "text": [
      "\r",
      "  0%|          | 0/10 [00:00<?, ?it/s]"
     ]
    },
    {
     "name": "stderr",
     "output_type": "stream",
     "text": [
      "\r",
      " 20%|██        | 2/10 [00:00<00:01,  5.84it/s]"
     ]
    },
    {
     "name": "stderr",
     "output_type": "stream",
     "text": [
      "\r",
      " 30%|███       | 3/10 [00:00<00:01,  4.33it/s]"
     ]
    },
    {
     "name": "stderr",
     "output_type": "stream",
     "text": [
      "\r",
      " 40%|████      | 4/10 [00:00<00:01,  3.91it/s]"
     ]
    },
    {
     "name": "stderr",
     "output_type": "stream",
     "text": [
      "\r",
      " 50%|█████     | 5/10 [00:01<00:01,  3.88it/s]"
     ]
    },
    {
     "name": "stderr",
     "output_type": "stream",
     "text": [
      "\r",
      " 60%|██████    | 6/10 [00:01<00:01,  3.25it/s]"
     ]
    },
    {
     "name": "stderr",
     "output_type": "stream",
     "text": [
      "\r",
      " 70%|███████   | 7/10 [00:02<00:01,  2.76it/s]"
     ]
    },
    {
     "name": "stderr",
     "output_type": "stream",
     "text": [
      "\r",
      " 80%|████████  | 8/10 [00:02<00:00,  2.64it/s]"
     ]
    },
    {
     "name": "stderr",
     "output_type": "stream",
     "text": [
      "\r",
      " 90%|█████████ | 9/10 [00:02<00:00,  2.69it/s]"
     ]
    },
    {
     "name": "stderr",
     "output_type": "stream",
     "text": [
      "\r",
      "100%|██████████| 10/10 [00:03<00:00,  2.60it/s]"
     ]
    },
    {
     "name": "stderr",
     "output_type": "stream",
     "text": [
      "\r",
      "100%|██████████| 10/10 [00:03<00:00,  3.04it/s]"
     ]
    },
    {
     "name": "stderr",
     "output_type": "stream",
     "text": [
      "\n"
     ]
    },
    {
     "name": "stderr",
     "output_type": "stream",
     "text": [
      "\r",
      "  0%|          | 0/11 [00:00<?, ?it/s]"
     ]
    },
    {
     "name": "stderr",
     "output_type": "stream",
     "text": [
      "\r",
      " 18%|█▊        | 2/11 [00:00<00:01,  8.64it/s]"
     ]
    },
    {
     "name": "stderr",
     "output_type": "stream",
     "text": [
      "\r",
      " 27%|██▋       | 3/11 [00:00<00:01,  5.96it/s]"
     ]
    },
    {
     "name": "stderr",
     "output_type": "stream",
     "text": [
      "\r",
      " 36%|███▋      | 4/11 [00:00<00:01,  4.49it/s]"
     ]
    },
    {
     "name": "stderr",
     "output_type": "stream",
     "text": [
      "\r",
      " 45%|████▌     | 5/11 [00:01<00:01,  3.82it/s]"
     ]
    },
    {
     "name": "stderr",
     "output_type": "stream",
     "text": [
      "\r",
      " 55%|█████▍    | 6/11 [00:01<00:01,  3.21it/s]"
     ]
    },
    {
     "name": "stderr",
     "output_type": "stream",
     "text": [
      "\r",
      " 64%|██████▎   | 7/11 [00:01<00:01,  2.98it/s]"
     ]
    },
    {
     "name": "stderr",
     "output_type": "stream",
     "text": [
      "\r",
      " 73%|███████▎  | 8/11 [00:02<00:01,  2.85it/s]"
     ]
    },
    {
     "name": "stderr",
     "output_type": "stream",
     "text": [
      "\r",
      " 82%|████████▏ | 9/11 [00:02<00:00,  2.79it/s]"
     ]
    },
    {
     "name": "stderr",
     "output_type": "stream",
     "text": [
      "\r",
      " 91%|█████████ | 10/11 [00:02<00:00,  2.93it/s]"
     ]
    },
    {
     "name": "stderr",
     "output_type": "stream",
     "text": [
      "\r",
      "100%|██████████| 11/11 [00:03<00:00,  3.20it/s]"
     ]
    },
    {
     "name": "stderr",
     "output_type": "stream",
     "text": [
      "\r",
      "100%|██████████| 11/11 [00:03<00:00,  3.40it/s]"
     ]
    },
    {
     "name": "stderr",
     "output_type": "stream",
     "text": [
      "\n"
     ]
    },
    {
     "name": "stderr",
     "output_type": "stream",
     "text": [
      "\r",
      "  0%|          | 0/12 [00:00<?, ?it/s]"
     ]
    },
    {
     "name": "stderr",
     "output_type": "stream",
     "text": [
      "\r",
      " 17%|█▋        | 2/12 [00:00<00:01,  8.12it/s]"
     ]
    },
    {
     "name": "stderr",
     "output_type": "stream",
     "text": [
      "\r",
      " 25%|██▌       | 3/12 [00:00<00:01,  5.32it/s]"
     ]
    },
    {
     "name": "stderr",
     "output_type": "stream",
     "text": [
      "\r",
      " 33%|███▎      | 4/12 [00:00<00:01,  4.76it/s]"
     ]
    },
    {
     "name": "stderr",
     "output_type": "stream",
     "text": [
      "\r",
      " 42%|████▏     | 5/12 [00:01<00:01,  4.20it/s]"
     ]
    },
    {
     "name": "stderr",
     "output_type": "stream",
     "text": [
      "\r",
      " 50%|█████     | 6/12 [00:01<00:01,  4.22it/s]"
     ]
    },
    {
     "name": "stderr",
     "output_type": "stream",
     "text": [
      "\r",
      " 58%|█████▊    | 7/12 [00:01<00:01,  3.31it/s]"
     ]
    },
    {
     "name": "stderr",
     "output_type": "stream",
     "text": [
      "\r",
      " 67%|██████▋   | 8/12 [00:02<00:01,  2.99it/s]"
     ]
    },
    {
     "name": "stderr",
     "output_type": "stream",
     "text": [
      "\r",
      " 75%|███████▌  | 9/12 [00:02<00:00,  3.01it/s]"
     ]
    },
    {
     "name": "stderr",
     "output_type": "stream",
     "text": [
      "\r",
      " 83%|████████▎ | 10/12 [00:02<00:00,  2.80it/s]"
     ]
    },
    {
     "name": "stderr",
     "output_type": "stream",
     "text": [
      "\r",
      " 92%|█████████▏| 11/12 [00:03<00:00,  2.88it/s]"
     ]
    },
    {
     "name": "stderr",
     "output_type": "stream",
     "text": [
      "\r",
      "100%|██████████| 12/12 [00:03<00:00,  3.05it/s]"
     ]
    },
    {
     "name": "stderr",
     "output_type": "stream",
     "text": [
      "\r",
      "100%|██████████| 12/12 [00:03<00:00,  3.44it/s]"
     ]
    },
    {
     "name": "stderr",
     "output_type": "stream",
     "text": [
      "\n"
     ]
    },
    {
     "name": "stderr",
     "output_type": "stream",
     "text": [
      "\r",
      "  0%|          | 0/13 [00:00<?, ?it/s]"
     ]
    },
    {
     "name": "stderr",
     "output_type": "stream",
     "text": [
      "\r",
      " 15%|█▌        | 2/13 [00:00<00:01,  7.48it/s]"
     ]
    },
    {
     "name": "stderr",
     "output_type": "stream",
     "text": [
      "\r",
      " 23%|██▎       | 3/13 [00:00<00:01,  5.66it/s]"
     ]
    },
    {
     "name": "stderr",
     "output_type": "stream",
     "text": [
      "\r",
      " 31%|███       | 4/13 [00:00<00:01,  4.62it/s]"
     ]
    },
    {
     "name": "stderr",
     "output_type": "stream",
     "text": [
      "\r",
      " 38%|███▊      | 5/13 [00:01<00:01,  4.21it/s]"
     ]
    },
    {
     "name": "stderr",
     "output_type": "stream",
     "text": [
      "\r",
      " 46%|████▌     | 6/13 [00:01<00:01,  3.82it/s]"
     ]
    },
    {
     "name": "stderr",
     "output_type": "stream",
     "text": [
      "\r",
      " 54%|█████▍    | 7/13 [00:01<00:01,  3.52it/s]"
     ]
    },
    {
     "name": "stderr",
     "output_type": "stream",
     "text": [
      "\r",
      " 62%|██████▏   | 8/13 [00:02<00:01,  3.17it/s]"
     ]
    },
    {
     "name": "stderr",
     "output_type": "stream",
     "text": [
      "\r",
      " 69%|██████▉   | 9/13 [00:02<00:01,  3.02it/s]"
     ]
    },
    {
     "name": "stderr",
     "output_type": "stream",
     "text": [
      "\r",
      " 77%|███████▋  | 10/13 [00:02<00:01,  2.81it/s]"
     ]
    },
    {
     "name": "stderr",
     "output_type": "stream",
     "text": [
      "\r",
      " 85%|████████▍ | 11/13 [00:03<00:00,  2.63it/s]"
     ]
    },
    {
     "name": "stderr",
     "output_type": "stream",
     "text": [
      "\r",
      " 92%|█████████▏| 12/13 [00:03<00:00,  2.62it/s]"
     ]
    },
    {
     "name": "stderr",
     "output_type": "stream",
     "text": [
      "\r",
      "100%|██████████| 13/13 [00:03<00:00,  2.86it/s]"
     ]
    },
    {
     "name": "stderr",
     "output_type": "stream",
     "text": [
      "\r",
      "100%|██████████| 13/13 [00:03<00:00,  3.28it/s]"
     ]
    },
    {
     "name": "stderr",
     "output_type": "stream",
     "text": [
      "\n"
     ]
    },
    {
     "name": "stderr",
     "output_type": "stream",
     "text": [
      "\r",
      "  0%|          | 0/14 [00:00<?, ?it/s]"
     ]
    },
    {
     "name": "stderr",
     "output_type": "stream",
     "text": [
      "\r",
      " 14%|█▍        | 2/14 [00:00<00:01,  6.03it/s]"
     ]
    },
    {
     "name": "stderr",
     "output_type": "stream",
     "text": [
      "\r",
      " 21%|██▏       | 3/14 [00:00<00:02,  4.36it/s]"
     ]
    },
    {
     "name": "stderr",
     "output_type": "stream",
     "text": [
      "\r",
      " 29%|██▊       | 4/14 [00:00<00:02,  3.68it/s]"
     ]
    },
    {
     "name": "stderr",
     "output_type": "stream",
     "text": [
      "\r",
      " 36%|███▌      | 5/14 [00:01<00:02,  3.32it/s]"
     ]
    },
    {
     "name": "stderr",
     "output_type": "stream",
     "text": [
      "\r",
      " 43%|████▎     | 6/14 [00:01<00:02,  3.05it/s]"
     ]
    },
    {
     "name": "stderr",
     "output_type": "stream",
     "text": [
      "\r",
      " 50%|█████     | 7/14 [00:02<00:02,  2.76it/s]"
     ]
    },
    {
     "name": "stderr",
     "output_type": "stream",
     "text": [
      "\r",
      " 57%|█████▋    | 8/14 [00:02<00:02,  2.56it/s]"
     ]
    },
    {
     "name": "stderr",
     "output_type": "stream",
     "text": [
      "\r",
      " 64%|██████▍   | 9/14 [00:03<00:01,  2.55it/s]"
     ]
    },
    {
     "name": "stderr",
     "output_type": "stream",
     "text": [
      "\r",
      " 71%|███████▏  | 10/14 [00:03<00:01,  2.49it/s]"
     ]
    },
    {
     "name": "stderr",
     "output_type": "stream",
     "text": [
      "\r",
      " 79%|███████▊  | 11/14 [00:03<00:01,  2.52it/s]"
     ]
    },
    {
     "name": "stderr",
     "output_type": "stream",
     "text": [
      "\r",
      " 86%|████████▌ | 12/14 [00:04<00:00,  2.60it/s]"
     ]
    },
    {
     "name": "stderr",
     "output_type": "stream",
     "text": [
      "\r",
      " 93%|█████████▎| 13/14 [00:04<00:00,  2.80it/s]"
     ]
    },
    {
     "name": "stderr",
     "output_type": "stream",
     "text": [
      "\r",
      "100%|██████████| 14/14 [00:04<00:00,  2.94it/s]"
     ]
    },
    {
     "name": "stderr",
     "output_type": "stream",
     "text": [
      "\r",
      "100%|██████████| 14/14 [00:04<00:00,  2.93it/s]"
     ]
    },
    {
     "name": "stderr",
     "output_type": "stream",
     "text": [
      "\n"
     ]
    },
    {
     "name": "stderr",
     "output_type": "stream",
     "text": [
      "\r",
      "  0%|          | 0/15 [00:00<?, ?it/s]"
     ]
    },
    {
     "name": "stderr",
     "output_type": "stream",
     "text": [
      "\r",
      " 13%|█▎        | 2/15 [00:00<00:01,  7.17it/s]"
     ]
    },
    {
     "name": "stderr",
     "output_type": "stream",
     "text": [
      "\r",
      " 20%|██        | 3/15 [00:00<00:02,  4.50it/s]"
     ]
    },
    {
     "name": "stderr",
     "output_type": "stream",
     "text": [
      "\r",
      " 27%|██▋       | 4/15 [00:00<00:02,  3.69it/s]"
     ]
    },
    {
     "name": "stderr",
     "output_type": "stream",
     "text": [
      "\r",
      " 33%|███▎      | 5/15 [00:01<00:03,  3.17it/s]"
     ]
    },
    {
     "name": "stderr",
     "output_type": "stream",
     "text": [
      "\r",
      " 40%|████      | 6/15 [00:01<00:03,  2.86it/s]"
     ]
    },
    {
     "name": "stderr",
     "output_type": "stream",
     "text": [
      "\r",
      " 47%|████▋     | 7/15 [00:02<00:02,  2.67it/s]"
     ]
    },
    {
     "name": "stderr",
     "output_type": "stream",
     "text": [
      "\r",
      " 53%|█████▎    | 8/15 [00:02<00:02,  2.67it/s]"
     ]
    },
    {
     "name": "stderr",
     "output_type": "stream",
     "text": [
      "\r",
      " 60%|██████    | 9/15 [00:02<00:02,  2.80it/s]"
     ]
    },
    {
     "name": "stderr",
     "output_type": "stream",
     "text": [
      "\r",
      " 67%|██████▋   | 10/15 [00:03<00:01,  2.83it/s]"
     ]
    },
    {
     "name": "stderr",
     "output_type": "stream",
     "text": [
      "\r",
      " 73%|███████▎  | 11/15 [00:03<00:01,  3.00it/s]"
     ]
    },
    {
     "name": "stderr",
     "output_type": "stream",
     "text": [
      "\r",
      " 80%|████████  | 12/15 [00:03<00:00,  3.12it/s]"
     ]
    },
    {
     "name": "stderr",
     "output_type": "stream",
     "text": [
      "\r",
      " 87%|████████▋ | 13/15 [00:04<00:00,  3.18it/s]"
     ]
    },
    {
     "name": "stderr",
     "output_type": "stream",
     "text": [
      "\r",
      " 93%|█████████▎| 14/15 [00:04<00:00,  3.27it/s]"
     ]
    },
    {
     "name": "stderr",
     "output_type": "stream",
     "text": [
      "\r",
      "100%|██████████| 15/15 [00:04<00:00,  3.27it/s]"
     ]
    },
    {
     "name": "stderr",
     "output_type": "stream",
     "text": [
      "\r",
      "100%|██████████| 15/15 [00:04<00:00,  3.17it/s]"
     ]
    },
    {
     "name": "stderr",
     "output_type": "stream",
     "text": [
      "\n"
     ]
    },
    {
     "data": {
      "text/html": [
       "<div>\n",
       "<style scoped>\n",
       "    .dataframe tbody tr th:only-of-type {\n",
       "        vertical-align: middle;\n",
       "    }\n",
       "\n",
       "    .dataframe tbody tr th {\n",
       "        vertical-align: top;\n",
       "    }\n",
       "\n",
       "    .dataframe thead tr th {\n",
       "        text-align: left;\n",
       "    }\n",
       "\n",
       "    .dataframe thead tr:last-of-type th {\n",
       "        text-align: right;\n",
       "    }\n",
       "</style>\n",
       "<table border=\"1\" class=\"dataframe\">\n",
       "  <thead>\n",
       "    <tr>\n",
       "      <th></th>\n",
       "      <th colspan=\"2\" halign=\"left\">fit_time</th>\n",
       "      <th colspan=\"2\" halign=\"left\">score_time</th>\n",
       "      <th colspan=\"2\" halign=\"left\">test_precision</th>\n",
       "      <th colspan=\"2\" halign=\"left\">test_recall</th>\n",
       "      <th colspan=\"2\" halign=\"left\">test_f1</th>\n",
       "      <th colspan=\"2\" halign=\"left\">test_balanced_accuracy</th>\n",
       "      <th colspan=\"2\" halign=\"left\">test_roc_auc</th>\n",
       "      <th colspan=\"2\" halign=\"left\">test_average_precision</th>\n",
       "      <th colspan=\"2\" halign=\"left\">n_observations</th>\n",
       "    </tr>\n",
       "    <tr>\n",
       "      <th></th>\n",
       "      <th>mean</th>\n",
       "      <th>std</th>\n",
       "      <th>mean</th>\n",
       "      <th>std</th>\n",
       "      <th>mean</th>\n",
       "      <th>std</th>\n",
       "      <th>mean</th>\n",
       "      <th>std</th>\n",
       "      <th>mean</th>\n",
       "      <th>std</th>\n",
       "      <th>mean</th>\n",
       "      <th>std</th>\n",
       "      <th>mean</th>\n",
       "      <th>std</th>\n",
       "      <th>mean</th>\n",
       "      <th>std</th>\n",
       "      <th>mean</th>\n",
       "      <th>std</th>\n",
       "    </tr>\n",
       "    <tr>\n",
       "      <th>n_features</th>\n",
       "      <th></th>\n",
       "      <th></th>\n",
       "      <th></th>\n",
       "      <th></th>\n",
       "      <th></th>\n",
       "      <th></th>\n",
       "      <th></th>\n",
       "      <th></th>\n",
       "      <th></th>\n",
       "      <th></th>\n",
       "      <th></th>\n",
       "      <th></th>\n",
       "      <th></th>\n",
       "      <th></th>\n",
       "      <th></th>\n",
       "      <th></th>\n",
       "      <th></th>\n",
       "      <th></th>\n",
       "    </tr>\n",
       "  </thead>\n",
       "  <tbody>\n",
       "    <tr>\n",
       "      <th>1</th>\n",
       "      <td>0.004</td>\n",
       "      <td>0.004</td>\n",
       "      <td>0.052</td>\n",
       "      <td>0.030</td>\n",
       "      <td>0.703</td>\n",
       "      <td>0.394</td>\n",
       "      <td>0.104</td>\n",
       "      <td>0.088</td>\n",
       "      <td>0.174</td>\n",
       "      <td>0.134</td>\n",
       "      <td>0.545</td>\n",
       "      <td>0.042</td>\n",
       "      <td>0.854</td>\n",
       "      <td>0.062</td>\n",
       "      <td>0.824</td>\n",
       "      <td>0.087</td>\n",
       "      <td>210.000</td>\n",
       "      <td>0.000</td>\n",
       "    </tr>\n",
       "    <tr>\n",
       "      <th>2</th>\n",
       "      <td>0.004</td>\n",
       "      <td>0.003</td>\n",
       "      <td>0.048</td>\n",
       "      <td>0.021</td>\n",
       "      <td>0.712</td>\n",
       "      <td>0.089</td>\n",
       "      <td>0.601</td>\n",
       "      <td>0.102</td>\n",
       "      <td>0.646</td>\n",
       "      <td>0.079</td>\n",
       "      <td>0.710</td>\n",
       "      <td>0.058</td>\n",
       "      <td>0.784</td>\n",
       "      <td>0.066</td>\n",
       "      <td>0.760</td>\n",
       "      <td>0.084</td>\n",
       "      <td>210.000</td>\n",
       "      <td>0.000</td>\n",
       "    </tr>\n",
       "    <tr>\n",
       "      <th>3</th>\n",
       "      <td>0.004</td>\n",
       "      <td>0.003</td>\n",
       "      <td>0.061</td>\n",
       "      <td>0.029</td>\n",
       "      <td>0.707</td>\n",
       "      <td>0.093</td>\n",
       "      <td>0.618</td>\n",
       "      <td>0.110</td>\n",
       "      <td>0.653</td>\n",
       "      <td>0.084</td>\n",
       "      <td>0.713</td>\n",
       "      <td>0.063</td>\n",
       "      <td>0.783</td>\n",
       "      <td>0.067</td>\n",
       "      <td>0.762</td>\n",
       "      <td>0.083</td>\n",
       "      <td>210.000</td>\n",
       "      <td>0.000</td>\n",
       "    </tr>\n",
       "    <tr>\n",
       "      <th>4</th>\n",
       "      <td>0.003</td>\n",
       "      <td>0.000</td>\n",
       "      <td>0.039</td>\n",
       "      <td>0.008</td>\n",
       "      <td>0.712</td>\n",
       "      <td>0.077</td>\n",
       "      <td>0.679</td>\n",
       "      <td>0.111</td>\n",
       "      <td>0.690</td>\n",
       "      <td>0.074</td>\n",
       "      <td>0.738</td>\n",
       "      <td>0.056</td>\n",
       "      <td>0.787</td>\n",
       "      <td>0.066</td>\n",
       "      <td>0.755</td>\n",
       "      <td>0.086</td>\n",
       "      <td>210.000</td>\n",
       "      <td>0.000</td>\n",
       "    </tr>\n",
       "    <tr>\n",
       "      <th>5</th>\n",
       "      <td>0.005</td>\n",
       "      <td>0.004</td>\n",
       "      <td>0.048</td>\n",
       "      <td>0.020</td>\n",
       "      <td>0.724</td>\n",
       "      <td>0.079</td>\n",
       "      <td>0.690</td>\n",
       "      <td>0.113</td>\n",
       "      <td>0.700</td>\n",
       "      <td>0.076</td>\n",
       "      <td>0.747</td>\n",
       "      <td>0.057</td>\n",
       "      <td>0.785</td>\n",
       "      <td>0.067</td>\n",
       "      <td>0.754</td>\n",
       "      <td>0.085</td>\n",
       "      <td>210.000</td>\n",
       "      <td>0.000</td>\n",
       "    </tr>\n",
       "    <tr>\n",
       "      <th>6</th>\n",
       "      <td>0.006</td>\n",
       "      <td>0.006</td>\n",
       "      <td>0.066</td>\n",
       "      <td>0.029</td>\n",
       "      <td>0.749</td>\n",
       "      <td>0.089</td>\n",
       "      <td>0.687</td>\n",
       "      <td>0.113</td>\n",
       "      <td>0.711</td>\n",
       "      <td>0.083</td>\n",
       "      <td>0.758</td>\n",
       "      <td>0.063</td>\n",
       "      <td>0.811</td>\n",
       "      <td>0.067</td>\n",
       "      <td>0.782</td>\n",
       "      <td>0.084</td>\n",
       "      <td>210.000</td>\n",
       "      <td>0.000</td>\n",
       "    </tr>\n",
       "    <tr>\n",
       "      <th>7</th>\n",
       "      <td>0.006</td>\n",
       "      <td>0.005</td>\n",
       "      <td>0.068</td>\n",
       "      <td>0.031</td>\n",
       "      <td>0.808</td>\n",
       "      <td>0.084</td>\n",
       "      <td>0.820</td>\n",
       "      <td>0.103</td>\n",
       "      <td>0.809</td>\n",
       "      <td>0.071</td>\n",
       "      <td>0.837</td>\n",
       "      <td>0.061</td>\n",
       "      <td>0.900</td>\n",
       "      <td>0.050</td>\n",
       "      <td>0.870</td>\n",
       "      <td>0.062</td>\n",
       "      <td>210.000</td>\n",
       "      <td>0.000</td>\n",
       "    </tr>\n",
       "    <tr>\n",
       "      <th>8</th>\n",
       "      <td>0.006</td>\n",
       "      <td>0.006</td>\n",
       "      <td>0.058</td>\n",
       "      <td>0.025</td>\n",
       "      <td>0.801</td>\n",
       "      <td>0.086</td>\n",
       "      <td>0.800</td>\n",
       "      <td>0.111</td>\n",
       "      <td>0.795</td>\n",
       "      <td>0.075</td>\n",
       "      <td>0.826</td>\n",
       "      <td>0.063</td>\n",
       "      <td>0.902</td>\n",
       "      <td>0.050</td>\n",
       "      <td>0.869</td>\n",
       "      <td>0.066</td>\n",
       "      <td>210.000</td>\n",
       "      <td>0.000</td>\n",
       "    </tr>\n",
       "    <tr>\n",
       "      <th>9</th>\n",
       "      <td>0.005</td>\n",
       "      <td>0.004</td>\n",
       "      <td>0.052</td>\n",
       "      <td>0.025</td>\n",
       "      <td>0.796</td>\n",
       "      <td>0.088</td>\n",
       "      <td>0.791</td>\n",
       "      <td>0.115</td>\n",
       "      <td>0.788</td>\n",
       "      <td>0.079</td>\n",
       "      <td>0.820</td>\n",
       "      <td>0.066</td>\n",
       "      <td>0.899</td>\n",
       "      <td>0.051</td>\n",
       "      <td>0.866</td>\n",
       "      <td>0.065</td>\n",
       "      <td>210.000</td>\n",
       "      <td>0.000</td>\n",
       "    </tr>\n",
       "    <tr>\n",
       "      <th>10</th>\n",
       "      <td>0.004</td>\n",
       "      <td>0.002</td>\n",
       "      <td>0.047</td>\n",
       "      <td>0.017</td>\n",
       "      <td>0.796</td>\n",
       "      <td>0.087</td>\n",
       "      <td>0.794</td>\n",
       "      <td>0.110</td>\n",
       "      <td>0.790</td>\n",
       "      <td>0.075</td>\n",
       "      <td>0.821</td>\n",
       "      <td>0.063</td>\n",
       "      <td>0.908</td>\n",
       "      <td>0.051</td>\n",
       "      <td>0.887</td>\n",
       "      <td>0.056</td>\n",
       "      <td>210.000</td>\n",
       "      <td>0.000</td>\n",
       "    </tr>\n",
       "    <tr>\n",
       "      <th>11</th>\n",
       "      <td>0.004</td>\n",
       "      <td>0.002</td>\n",
       "      <td>0.045</td>\n",
       "      <td>0.017</td>\n",
       "      <td>0.802</td>\n",
       "      <td>0.090</td>\n",
       "      <td>0.803</td>\n",
       "      <td>0.108</td>\n",
       "      <td>0.798</td>\n",
       "      <td>0.078</td>\n",
       "      <td>0.827</td>\n",
       "      <td>0.066</td>\n",
       "      <td>0.910</td>\n",
       "      <td>0.051</td>\n",
       "      <td>0.891</td>\n",
       "      <td>0.058</td>\n",
       "      <td>210.000</td>\n",
       "      <td>0.000</td>\n",
       "    </tr>\n",
       "    <tr>\n",
       "      <th>12</th>\n",
       "      <td>0.005</td>\n",
       "      <td>0.004</td>\n",
       "      <td>0.043</td>\n",
       "      <td>0.016</td>\n",
       "      <td>0.827</td>\n",
       "      <td>0.084</td>\n",
       "      <td>0.828</td>\n",
       "      <td>0.102</td>\n",
       "      <td>0.823</td>\n",
       "      <td>0.072</td>\n",
       "      <td>0.849</td>\n",
       "      <td>0.061</td>\n",
       "      <td>0.914</td>\n",
       "      <td>0.051</td>\n",
       "      <td>0.891</td>\n",
       "      <td>0.059</td>\n",
       "      <td>210.000</td>\n",
       "      <td>0.000</td>\n",
       "    </tr>\n",
       "    <tr>\n",
       "      <th>13</th>\n",
       "      <td>0.004</td>\n",
       "      <td>0.003</td>\n",
       "      <td>0.043</td>\n",
       "      <td>0.012</td>\n",
       "      <td>0.829</td>\n",
       "      <td>0.079</td>\n",
       "      <td>0.827</td>\n",
       "      <td>0.097</td>\n",
       "      <td>0.824</td>\n",
       "      <td>0.070</td>\n",
       "      <td>0.850</td>\n",
       "      <td>0.059</td>\n",
       "      <td>0.922</td>\n",
       "      <td>0.047</td>\n",
       "      <td>0.903</td>\n",
       "      <td>0.054</td>\n",
       "      <td>210.000</td>\n",
       "      <td>0.000</td>\n",
       "    </tr>\n",
       "    <tr>\n",
       "      <th>14</th>\n",
       "      <td>0.006</td>\n",
       "      <td>0.005</td>\n",
       "      <td>0.052</td>\n",
       "      <td>0.019</td>\n",
       "      <td>0.829</td>\n",
       "      <td>0.076</td>\n",
       "      <td>0.825</td>\n",
       "      <td>0.099</td>\n",
       "      <td>0.823</td>\n",
       "      <td>0.068</td>\n",
       "      <td>0.849</td>\n",
       "      <td>0.057</td>\n",
       "      <td>0.921</td>\n",
       "      <td>0.047</td>\n",
       "      <td>0.902</td>\n",
       "      <td>0.053</td>\n",
       "      <td>210.000</td>\n",
       "      <td>0.000</td>\n",
       "    </tr>\n",
       "    <tr>\n",
       "      <th>15</th>\n",
       "      <td>0.005</td>\n",
       "      <td>0.004</td>\n",
       "      <td>0.049</td>\n",
       "      <td>0.017</td>\n",
       "      <td>0.824</td>\n",
       "      <td>0.083</td>\n",
       "      <td>0.824</td>\n",
       "      <td>0.100</td>\n",
       "      <td>0.820</td>\n",
       "      <td>0.071</td>\n",
       "      <td>0.846</td>\n",
       "      <td>0.059</td>\n",
       "      <td>0.919</td>\n",
       "      <td>0.048</td>\n",
       "      <td>0.900</td>\n",
       "      <td>0.054</td>\n",
       "      <td>210.000</td>\n",
       "      <td>0.000</td>\n",
       "    </tr>\n",
       "  </tbody>\n",
       "</table>\n",
       "</div>"
      ],
      "text/plain": [
       "           fit_time       score_time       test_precision       test_recall  \\\n",
       "               mean   std       mean   std           mean   std        mean   \n",
       "n_features                                                                    \n",
       "1             0.004 0.004      0.052 0.030          0.703 0.394       0.104   \n",
       "2             0.004 0.003      0.048 0.021          0.712 0.089       0.601   \n",
       "3             0.004 0.003      0.061 0.029          0.707 0.093       0.618   \n",
       "4             0.003 0.000      0.039 0.008          0.712 0.077       0.679   \n",
       "5             0.005 0.004      0.048 0.020          0.724 0.079       0.690   \n",
       "6             0.006 0.006      0.066 0.029          0.749 0.089       0.687   \n",
       "7             0.006 0.005      0.068 0.031          0.808 0.084       0.820   \n",
       "8             0.006 0.006      0.058 0.025          0.801 0.086       0.800   \n",
       "9             0.005 0.004      0.052 0.025          0.796 0.088       0.791   \n",
       "10            0.004 0.002      0.047 0.017          0.796 0.087       0.794   \n",
       "11            0.004 0.002      0.045 0.017          0.802 0.090       0.803   \n",
       "12            0.005 0.004      0.043 0.016          0.827 0.084       0.828   \n",
       "13            0.004 0.003      0.043 0.012          0.829 0.079       0.827   \n",
       "14            0.006 0.005      0.052 0.019          0.829 0.076       0.825   \n",
       "15            0.005 0.004      0.049 0.017          0.824 0.083       0.824   \n",
       "\n",
       "                 test_f1       test_balanced_accuracy       test_roc_auc  \\\n",
       "             std    mean   std                   mean   std         mean   \n",
       "n_features                                                                 \n",
       "1          0.088   0.174 0.134                  0.545 0.042        0.854   \n",
       "2          0.102   0.646 0.079                  0.710 0.058        0.784   \n",
       "3          0.110   0.653 0.084                  0.713 0.063        0.783   \n",
       "4          0.111   0.690 0.074                  0.738 0.056        0.787   \n",
       "5          0.113   0.700 0.076                  0.747 0.057        0.785   \n",
       "6          0.113   0.711 0.083                  0.758 0.063        0.811   \n",
       "7          0.103   0.809 0.071                  0.837 0.061        0.900   \n",
       "8          0.111   0.795 0.075                  0.826 0.063        0.902   \n",
       "9          0.115   0.788 0.079                  0.820 0.066        0.899   \n",
       "10         0.110   0.790 0.075                  0.821 0.063        0.908   \n",
       "11         0.108   0.798 0.078                  0.827 0.066        0.910   \n",
       "12         0.102   0.823 0.072                  0.849 0.061        0.914   \n",
       "13         0.097   0.824 0.070                  0.850 0.059        0.922   \n",
       "14         0.099   0.823 0.068                  0.849 0.057        0.921   \n",
       "15         0.100   0.820 0.071                  0.846 0.059        0.919   \n",
       "\n",
       "                 test_average_precision       n_observations        \n",
       "             std                   mean   std           mean   std  \n",
       "n_features                                                          \n",
       "1          0.062                  0.824 0.087        210.000 0.000  \n",
       "2          0.066                  0.760 0.084        210.000 0.000  \n",
       "3          0.067                  0.762 0.083        210.000 0.000  \n",
       "4          0.066                  0.755 0.086        210.000 0.000  \n",
       "5          0.067                  0.754 0.085        210.000 0.000  \n",
       "6          0.067                  0.782 0.084        210.000 0.000  \n",
       "7          0.050                  0.870 0.062        210.000 0.000  \n",
       "8          0.050                  0.869 0.066        210.000 0.000  \n",
       "9          0.051                  0.866 0.065        210.000 0.000  \n",
       "10         0.051                  0.887 0.056        210.000 0.000  \n",
       "11         0.051                  0.891 0.058        210.000 0.000  \n",
       "12         0.051                  0.891 0.059        210.000 0.000  \n",
       "13         0.047                  0.903 0.054        210.000 0.000  \n",
       "14         0.047                  0.902 0.053        210.000 0.000  \n",
       "15         0.048                  0.900 0.054        210.000 0.000  "
      ]
     },
     "execution_count": 15,
     "metadata": {},
     "output_type": "execute_result"
    }
   ],
   "source": [
    "cv_feat_ald = njab.sklearn.find_n_best_features(X=ald_study, y=target, name=args.target,\n",
    "                                                groups=target_to_group)\n",
    "cv_feat_ald = (cv_feat_ald\n",
    "               .drop('test_case', axis=1)\n",
    "               .groupby('n_features')\n",
    "               .agg(['mean', 'std']))\n",
    "cv_feat_ald"
   ]
  },
  {
   "cell_type": "markdown",
   "id": "b40fb391",
   "metadata": {
    "papermill": {
     "duration": 0.129164,
     "end_time": "2024-09-18T04:32:24.730408",
     "exception": false,
     "start_time": "2024-09-18T04:32:24.601244",
     "status": "completed"
    },
    "tags": []
   },
   "source": [
    "Using all data:"
   ]
  },
  {
   "cell_type": "code",
   "execution_count": 16,
   "id": "988dea31",
   "metadata": {
    "execution": {
     "iopub.execute_input": "2024-09-18T04:32:24.846515Z",
     "iopub.status.busy": "2024-09-18T04:32:24.845967Z",
     "iopub.status.idle": "2024-09-18T04:34:15.659985Z",
     "shell.execute_reply": "2024-09-18T04:34:15.659204Z"
    },
    "papermill": {
     "duration": 110.862313,
     "end_time": "2024-09-18T04:34:15.661366",
     "exception": false,
     "start_time": "2024-09-18T04:32:24.799053",
     "status": "completed"
    },
    "tags": [
     "hide-input"
    ]
   },
   "outputs": [
    {
     "name": "stderr",
     "output_type": "stream",
     "text": [
      "\r",
      "  0%|          | 0/1 [00:00<?, ?it/s]"
     ]
    },
    {
     "name": "stderr",
     "output_type": "stream",
     "text": [
      "\r",
      "100%|██████████| 1/1 [00:00<00:00, 490.45it/s]"
     ]
    },
    {
     "name": "stderr",
     "output_type": "stream",
     "text": [
      "\n"
     ]
    },
    {
     "name": "stderr",
     "output_type": "stream",
     "text": [
      "\r",
      "  0%|          | 0/2 [00:00<?, ?it/s]"
     ]
    },
    {
     "name": "stderr",
     "output_type": "stream",
     "text": [
      "\r",
      "100%|██████████| 2/2 [00:00<00:00,  6.25it/s]"
     ]
    },
    {
     "name": "stderr",
     "output_type": "stream",
     "text": [
      "\r",
      "100%|██████████| 2/2 [00:00<00:00,  6.20it/s]"
     ]
    },
    {
     "name": "stderr",
     "output_type": "stream",
     "text": [
      "\n"
     ]
    },
    {
     "name": "stderr",
     "output_type": "stream",
     "text": [
      "\r",
      "  0%|          | 0/3 [00:00<?, ?it/s]"
     ]
    },
    {
     "name": "stderr",
     "output_type": "stream",
     "text": [
      "\r",
      " 67%|██████▋   | 2/3 [00:00<00:00,  5.68it/s]"
     ]
    },
    {
     "name": "stderr",
     "output_type": "stream",
     "text": [
      "\r",
      "100%|██████████| 3/3 [00:00<00:00,  3.46it/s]"
     ]
    },
    {
     "name": "stderr",
     "output_type": "stream",
     "text": [
      "\r",
      "100%|██████████| 3/3 [00:00<00:00,  3.74it/s]"
     ]
    },
    {
     "name": "stderr",
     "output_type": "stream",
     "text": [
      "\n"
     ]
    },
    {
     "name": "stderr",
     "output_type": "stream",
     "text": [
      "\r",
      "  0%|          | 0/4 [00:00<?, ?it/s]"
     ]
    },
    {
     "name": "stderr",
     "output_type": "stream",
     "text": [
      "\r",
      " 50%|█████     | 2/4 [00:00<00:00,  6.08it/s]"
     ]
    },
    {
     "name": "stderr",
     "output_type": "stream",
     "text": [
      "\r",
      " 75%|███████▌  | 3/4 [00:00<00:00,  4.43it/s]"
     ]
    },
    {
     "name": "stderr",
     "output_type": "stream",
     "text": [
      "\r",
      "100%|██████████| 4/4 [00:00<00:00,  3.87it/s]"
     ]
    },
    {
     "name": "stderr",
     "output_type": "stream",
     "text": [
      "\r",
      "100%|██████████| 4/4 [00:00<00:00,  4.18it/s]"
     ]
    },
    {
     "name": "stderr",
     "output_type": "stream",
     "text": [
      "\n"
     ]
    },
    {
     "name": "stderr",
     "output_type": "stream",
     "text": [
      "\r",
      "  0%|          | 0/5 [00:00<?, ?it/s]"
     ]
    },
    {
     "name": "stderr",
     "output_type": "stream",
     "text": [
      "\r",
      " 40%|████      | 2/5 [00:00<00:00,  5.15it/s]"
     ]
    },
    {
     "name": "stderr",
     "output_type": "stream",
     "text": [
      "\r",
      " 60%|██████    | 3/5 [00:00<00:00,  3.84it/s]"
     ]
    },
    {
     "name": "stderr",
     "output_type": "stream",
     "text": [
      "\r",
      " 80%|████████  | 4/5 [00:01<00:00,  3.40it/s]"
     ]
    },
    {
     "name": "stderr",
     "output_type": "stream",
     "text": [
      "\r",
      "100%|██████████| 5/5 [00:01<00:00,  3.13it/s]"
     ]
    },
    {
     "name": "stderr",
     "output_type": "stream",
     "text": [
      "\r",
      "100%|██████████| 5/5 [00:01<00:00,  3.42it/s]"
     ]
    },
    {
     "name": "stderr",
     "output_type": "stream",
     "text": [
      "\n"
     ]
    },
    {
     "name": "stderr",
     "output_type": "stream",
     "text": [
      "\r",
      "  0%|          | 0/6 [00:00<?, ?it/s]"
     ]
    },
    {
     "name": "stderr",
     "output_type": "stream",
     "text": [
      "\r",
      " 33%|███▎      | 2/6 [00:00<00:01,  3.79it/s]"
     ]
    },
    {
     "name": "stderr",
     "output_type": "stream",
     "text": [
      "\r",
      " 50%|█████     | 3/6 [00:00<00:00,  4.08it/s]"
     ]
    },
    {
     "name": "stderr",
     "output_type": "stream",
     "text": [
      "\r",
      " 67%|██████▋   | 4/6 [00:00<00:00,  4.04it/s]"
     ]
    },
    {
     "name": "stderr",
     "output_type": "stream",
     "text": [
      "\r",
      " 83%|████████▎ | 5/6 [00:01<00:00,  3.94it/s]"
     ]
    },
    {
     "name": "stderr",
     "output_type": "stream",
     "text": [
      "\r",
      "100%|██████████| 6/6 [00:01<00:00,  3.86it/s]"
     ]
    },
    {
     "name": "stderr",
     "output_type": "stream",
     "text": [
      "\r",
      "100%|██████████| 6/6 [00:01<00:00,  3.91it/s]"
     ]
    },
    {
     "name": "stderr",
     "output_type": "stream",
     "text": [
      "\n"
     ]
    },
    {
     "name": "stderr",
     "output_type": "stream",
     "text": [
      "\r",
      "  0%|          | 0/7 [00:00<?, ?it/s]"
     ]
    },
    {
     "name": "stderr",
     "output_type": "stream",
     "text": [
      "\r",
      " 29%|██▊       | 2/7 [00:00<00:00,  5.94it/s]"
     ]
    },
    {
     "name": "stderr",
     "output_type": "stream",
     "text": [
      "\r",
      " 43%|████▎     | 3/7 [00:00<00:00,  4.82it/s]"
     ]
    },
    {
     "name": "stderr",
     "output_type": "stream",
     "text": [
      "\r",
      " 57%|█████▋    | 4/7 [00:00<00:00,  4.48it/s]"
     ]
    },
    {
     "name": "stderr",
     "output_type": "stream",
     "text": [
      "\r",
      " 71%|███████▏  | 5/7 [00:01<00:00,  3.59it/s]"
     ]
    },
    {
     "name": "stderr",
     "output_type": "stream",
     "text": [
      "\r",
      " 86%|████████▌ | 6/7 [00:01<00:00,  3.58it/s]"
     ]
    },
    {
     "name": "stderr",
     "output_type": "stream",
     "text": [
      "\r",
      "100%|██████████| 7/7 [00:01<00:00,  3.49it/s]"
     ]
    },
    {
     "name": "stderr",
     "output_type": "stream",
     "text": [
      "\r",
      "100%|██████████| 7/7 [00:01<00:00,  3.86it/s]"
     ]
    },
    {
     "name": "stderr",
     "output_type": "stream",
     "text": [
      "\n"
     ]
    },
    {
     "name": "stderr",
     "output_type": "stream",
     "text": [
      "\r",
      "  0%|          | 0/8 [00:00<?, ?it/s]"
     ]
    },
    {
     "name": "stderr",
     "output_type": "stream",
     "text": [
      "\r",
      " 25%|██▌       | 2/8 [00:00<00:00,  7.62it/s]"
     ]
    },
    {
     "name": "stderr",
     "output_type": "stream",
     "text": [
      "\r",
      " 38%|███▊      | 3/8 [00:00<00:01,  4.40it/s]"
     ]
    },
    {
     "name": "stderr",
     "output_type": "stream",
     "text": [
      "\r",
      " 50%|█████     | 4/8 [00:00<00:01,  3.96it/s]"
     ]
    },
    {
     "name": "stderr",
     "output_type": "stream",
     "text": [
      "\r",
      " 62%|██████▎   | 5/8 [00:01<00:00,  3.34it/s]"
     ]
    },
    {
     "name": "stderr",
     "output_type": "stream",
     "text": [
      "\r",
      " 75%|███████▌  | 6/8 [00:01<00:00,  3.52it/s]"
     ]
    },
    {
     "name": "stderr",
     "output_type": "stream",
     "text": [
      "\r",
      " 88%|████████▊ | 7/8 [00:01<00:00,  3.69it/s]"
     ]
    },
    {
     "name": "stderr",
     "output_type": "stream",
     "text": [
      "\r",
      "100%|██████████| 8/8 [00:02<00:00,  3.77it/s]"
     ]
    },
    {
     "name": "stderr",
     "output_type": "stream",
     "text": [
      "\r",
      "100%|██████████| 8/8 [00:02<00:00,  3.89it/s]"
     ]
    },
    {
     "name": "stderr",
     "output_type": "stream",
     "text": [
      "\n"
     ]
    },
    {
     "name": "stderr",
     "output_type": "stream",
     "text": [
      "\r",
      "  0%|          | 0/9 [00:00<?, ?it/s]"
     ]
    },
    {
     "name": "stderr",
     "output_type": "stream",
     "text": [
      "\r",
      " 22%|██▏       | 2/9 [00:00<00:00,  7.61it/s]"
     ]
    },
    {
     "name": "stderr",
     "output_type": "stream",
     "text": [
      "\r",
      " 33%|███▎      | 3/9 [00:00<00:01,  4.16it/s]"
     ]
    },
    {
     "name": "stderr",
     "output_type": "stream",
     "text": [
      "\r",
      " 44%|████▍     | 4/9 [00:00<00:01,  3.94it/s]"
     ]
    },
    {
     "name": "stderr",
     "output_type": "stream",
     "text": [
      "\r",
      " 56%|█████▌    | 5/9 [00:01<00:01,  3.90it/s]"
     ]
    },
    {
     "name": "stderr",
     "output_type": "stream",
     "text": [
      "\r",
      " 67%|██████▋   | 6/9 [00:01<00:00,  3.86it/s]"
     ]
    },
    {
     "name": "stderr",
     "output_type": "stream",
     "text": [
      "\r",
      " 78%|███████▊  | 7/9 [00:01<00:00,  3.50it/s]"
     ]
    },
    {
     "name": "stderr",
     "output_type": "stream",
     "text": [
      "\r",
      " 89%|████████▉ | 8/9 [00:02<00:00,  3.54it/s]"
     ]
    },
    {
     "name": "stderr",
     "output_type": "stream",
     "text": [
      "\r",
      "100%|██████████| 9/9 [00:02<00:00,  3.66it/s]"
     ]
    },
    {
     "name": "stderr",
     "output_type": "stream",
     "text": [
      "\r",
      "100%|██████████| 9/9 [00:02<00:00,  3.85it/s]"
     ]
    },
    {
     "name": "stderr",
     "output_type": "stream",
     "text": [
      "\n"
     ]
    },
    {
     "name": "stderr",
     "output_type": "stream",
     "text": [
      "\r",
      "  0%|          | 0/10 [00:00<?, ?it/s]"
     ]
    },
    {
     "name": "stderr",
     "output_type": "stream",
     "text": [
      "\r",
      " 20%|██        | 2/10 [00:00<00:01,  7.45it/s]"
     ]
    },
    {
     "name": "stderr",
     "output_type": "stream",
     "text": [
      "\r",
      " 30%|███       | 3/10 [00:00<00:01,  4.35it/s]"
     ]
    },
    {
     "name": "stderr",
     "output_type": "stream",
     "text": [
      "\r",
      " 40%|████      | 4/10 [00:00<00:01,  4.13it/s]"
     ]
    },
    {
     "name": "stderr",
     "output_type": "stream",
     "text": [
      "\r",
      " 50%|█████     | 5/10 [00:01<00:01,  3.78it/s]"
     ]
    },
    {
     "name": "stderr",
     "output_type": "stream",
     "text": [
      "\r",
      " 60%|██████    | 6/10 [00:01<00:01,  3.70it/s]"
     ]
    },
    {
     "name": "stderr",
     "output_type": "stream",
     "text": [
      "\r",
      " 70%|███████   | 7/10 [00:01<00:00,  3.78it/s]"
     ]
    },
    {
     "name": "stderr",
     "output_type": "stream",
     "text": [
      "\r",
      " 80%|████████  | 8/10 [00:02<00:00,  3.71it/s]"
     ]
    },
    {
     "name": "stderr",
     "output_type": "stream",
     "text": [
      "\r",
      " 90%|█████████ | 9/10 [00:02<00:00,  3.87it/s]"
     ]
    },
    {
     "name": "stderr",
     "output_type": "stream",
     "text": [
      "\r",
      "100%|██████████| 10/10 [00:02<00:00,  3.09it/s]"
     ]
    },
    {
     "name": "stderr",
     "output_type": "stream",
     "text": [
      "\r",
      "100%|██████████| 10/10 [00:02<00:00,  3.67it/s]"
     ]
    },
    {
     "name": "stderr",
     "output_type": "stream",
     "text": [
      "\n"
     ]
    },
    {
     "name": "stderr",
     "output_type": "stream",
     "text": [
      "\r",
      "  0%|          | 0/11 [00:00<?, ?it/s]"
     ]
    },
    {
     "name": "stderr",
     "output_type": "stream",
     "text": [
      "\r",
      " 18%|█▊        | 2/11 [00:00<00:01,  4.63it/s]"
     ]
    },
    {
     "name": "stderr",
     "output_type": "stream",
     "text": [
      "\r",
      " 27%|██▋       | 3/11 [00:00<00:02,  3.22it/s]"
     ]
    },
    {
     "name": "stderr",
     "output_type": "stream",
     "text": [
      "\r",
      " 36%|███▋      | 4/11 [00:01<00:02,  3.09it/s]"
     ]
    },
    {
     "name": "stderr",
     "output_type": "stream",
     "text": [
      "\r",
      " 45%|████▌     | 5/11 [00:01<00:01,  3.11it/s]"
     ]
    },
    {
     "name": "stderr",
     "output_type": "stream",
     "text": [
      "\r",
      " 55%|█████▍    | 6/11 [00:01<00:01,  2.83it/s]"
     ]
    },
    {
     "name": "stderr",
     "output_type": "stream",
     "text": [
      "\r",
      " 64%|██████▎   | 7/11 [00:02<00:01,  2.95it/s]"
     ]
    },
    {
     "name": "stderr",
     "output_type": "stream",
     "text": [
      "\r",
      " 73%|███████▎  | 8/11 [00:02<00:01,  2.97it/s]"
     ]
    },
    {
     "name": "stderr",
     "output_type": "stream",
     "text": [
      "\r",
      " 82%|████████▏ | 9/11 [00:02<00:00,  3.16it/s]"
     ]
    },
    {
     "name": "stderr",
     "output_type": "stream",
     "text": [
      "\r",
      " 91%|█████████ | 10/11 [00:03<00:00,  3.12it/s]"
     ]
    },
    {
     "name": "stderr",
     "output_type": "stream",
     "text": [
      "\r",
      "100%|██████████| 11/11 [00:03<00:00,  2.97it/s]"
     ]
    },
    {
     "name": "stderr",
     "output_type": "stream",
     "text": [
      "\r",
      "100%|██████████| 11/11 [00:03<00:00,  3.07it/s]"
     ]
    },
    {
     "name": "stderr",
     "output_type": "stream",
     "text": [
      "\n"
     ]
    },
    {
     "name": "stderr",
     "output_type": "stream",
     "text": [
      "\r",
      "  0%|          | 0/12 [00:00<?, ?it/s]"
     ]
    },
    {
     "name": "stderr",
     "output_type": "stream",
     "text": [
      "\r",
      " 17%|█▋        | 2/12 [00:00<00:01,  6.99it/s]"
     ]
    },
    {
     "name": "stderr",
     "output_type": "stream",
     "text": [
      "\r",
      " 25%|██▌       | 3/12 [00:00<00:01,  4.95it/s]"
     ]
    },
    {
     "name": "stderr",
     "output_type": "stream",
     "text": [
      "\r",
      " 33%|███▎      | 4/12 [00:00<00:01,  4.22it/s]"
     ]
    },
    {
     "name": "stderr",
     "output_type": "stream",
     "text": [
      "\r",
      " 42%|████▏     | 5/12 [00:01<00:01,  3.80it/s]"
     ]
    },
    {
     "name": "stderr",
     "output_type": "stream",
     "text": [
      "\r",
      " 50%|█████     | 6/12 [00:01<00:01,  3.90it/s]"
     ]
    },
    {
     "name": "stderr",
     "output_type": "stream",
     "text": [
      "\r",
      " 58%|█████▊    | 7/12 [00:01<00:01,  3.14it/s]"
     ]
    },
    {
     "name": "stderr",
     "output_type": "stream",
     "text": [
      "\r",
      " 67%|██████▋   | 8/12 [00:02<00:01,  2.68it/s]"
     ]
    },
    {
     "name": "stderr",
     "output_type": "stream",
     "text": [
      "\r",
      " 75%|███████▌  | 9/12 [00:02<00:01,  2.47it/s]"
     ]
    },
    {
     "name": "stderr",
     "output_type": "stream",
     "text": [
      "\r",
      " 83%|████████▎ | 10/12 [00:03<00:00,  2.38it/s]"
     ]
    },
    {
     "name": "stderr",
     "output_type": "stream",
     "text": [
      "\r",
      " 92%|█████████▏| 11/12 [00:03<00:00,  2.54it/s]"
     ]
    },
    {
     "name": "stderr",
     "output_type": "stream",
     "text": [
      "\r",
      "100%|██████████| 12/12 [00:03<00:00,  2.70it/s]"
     ]
    },
    {
     "name": "stderr",
     "output_type": "stream",
     "text": [
      "\r",
      "100%|██████████| 12/12 [00:03<00:00,  3.04it/s]"
     ]
    },
    {
     "name": "stderr",
     "output_type": "stream",
     "text": [
      "\n"
     ]
    },
    {
     "name": "stderr",
     "output_type": "stream",
     "text": [
      "\r",
      "  0%|          | 0/13 [00:00<?, ?it/s]"
     ]
    },
    {
     "name": "stderr",
     "output_type": "stream",
     "text": [
      "\r",
      " 15%|█▌        | 2/13 [00:00<00:02,  5.11it/s]"
     ]
    },
    {
     "name": "stderr",
     "output_type": "stream",
     "text": [
      "\r",
      " 23%|██▎       | 3/13 [00:00<00:02,  3.43it/s]"
     ]
    },
    {
     "name": "stderr",
     "output_type": "stream",
     "text": [
      "\r",
      " 31%|███       | 4/13 [00:01<00:02,  3.34it/s]"
     ]
    },
    {
     "name": "stderr",
     "output_type": "stream",
     "text": [
      "\r",
      " 38%|███▊      | 5/13 [00:01<00:02,  3.07it/s]"
     ]
    },
    {
     "name": "stderr",
     "output_type": "stream",
     "text": [
      "\r",
      " 46%|████▌     | 6/13 [00:01<00:02,  2.95it/s]"
     ]
    },
    {
     "name": "stderr",
     "output_type": "stream",
     "text": [
      "\r",
      " 54%|█████▍    | 7/13 [00:02<00:02,  2.97it/s]"
     ]
    },
    {
     "name": "stderr",
     "output_type": "stream",
     "text": [
      "\r",
      " 62%|██████▏   | 8/13 [00:02<00:01,  2.90it/s]"
     ]
    },
    {
     "name": "stderr",
     "output_type": "stream",
     "text": [
      "\r",
      " 69%|██████▉   | 9/13 [00:02<00:01,  3.08it/s]"
     ]
    },
    {
     "name": "stderr",
     "output_type": "stream",
     "text": [
      "\r",
      " 77%|███████▋  | 10/13 [00:03<00:01,  2.95it/s]"
     ]
    },
    {
     "name": "stderr",
     "output_type": "stream",
     "text": [
      "\r",
      " 85%|████████▍ | 11/13 [00:03<00:00,  3.03it/s]"
     ]
    },
    {
     "name": "stderr",
     "output_type": "stream",
     "text": [
      "\r",
      " 92%|█████████▏| 12/13 [00:03<00:00,  3.13it/s]"
     ]
    },
    {
     "name": "stderr",
     "output_type": "stream",
     "text": [
      "\r",
      "100%|██████████| 13/13 [00:04<00:00,  3.22it/s]"
     ]
    },
    {
     "name": "stderr",
     "output_type": "stream",
     "text": [
      "\r",
      "100%|██████████| 13/13 [00:04<00:00,  3.16it/s]"
     ]
    },
    {
     "name": "stderr",
     "output_type": "stream",
     "text": [
      "\n"
     ]
    },
    {
     "name": "stderr",
     "output_type": "stream",
     "text": [
      "\r",
      "  0%|          | 0/14 [00:00<?, ?it/s]"
     ]
    },
    {
     "name": "stderr",
     "output_type": "stream",
     "text": [
      "\r",
      " 14%|█▍        | 2/14 [00:00<00:02,  4.89it/s]"
     ]
    },
    {
     "name": "stderr",
     "output_type": "stream",
     "text": [
      "\r",
      " 21%|██▏       | 3/14 [00:00<00:03,  3.11it/s]"
     ]
    },
    {
     "name": "stderr",
     "output_type": "stream",
     "text": [
      "\r",
      " 29%|██▊       | 4/14 [00:01<00:03,  2.58it/s]"
     ]
    },
    {
     "name": "stderr",
     "output_type": "stream",
     "text": [
      "\r",
      " 36%|███▌      | 5/14 [00:01<00:03,  2.46it/s]"
     ]
    },
    {
     "name": "stderr",
     "output_type": "stream",
     "text": [
      "\r",
      " 43%|████▎     | 6/14 [00:02<00:03,  2.66it/s]"
     ]
    },
    {
     "name": "stderr",
     "output_type": "stream",
     "text": [
      "\r",
      " 50%|█████     | 7/14 [00:02<00:02,  2.91it/s]"
     ]
    },
    {
     "name": "stderr",
     "output_type": "stream",
     "text": [
      "\r",
      " 57%|█████▋    | 8/14 [00:02<00:02,  2.83it/s]"
     ]
    },
    {
     "name": "stderr",
     "output_type": "stream",
     "text": [
      "\r",
      " 64%|██████▍   | 9/14 [00:03<00:01,  2.77it/s]"
     ]
    },
    {
     "name": "stderr",
     "output_type": "stream",
     "text": [
      "\r",
      " 71%|███████▏  | 10/14 [00:03<00:01,  2.73it/s]"
     ]
    },
    {
     "name": "stderr",
     "output_type": "stream",
     "text": [
      "\r",
      " 79%|███████▊  | 11/14 [00:04<00:01,  2.35it/s]"
     ]
    },
    {
     "name": "stderr",
     "output_type": "stream",
     "text": [
      "\r",
      " 86%|████████▌ | 12/14 [00:04<00:00,  2.17it/s]"
     ]
    },
    {
     "name": "stderr",
     "output_type": "stream",
     "text": [
      "\r",
      " 93%|█████████▎| 13/14 [00:05<00:00,  2.10it/s]"
     ]
    },
    {
     "name": "stderr",
     "output_type": "stream",
     "text": [
      "\r",
      "100%|██████████| 14/14 [00:05<00:00,  1.97it/s]"
     ]
    },
    {
     "name": "stderr",
     "output_type": "stream",
     "text": [
      "\r",
      "100%|██████████| 14/14 [00:05<00:00,  2.43it/s]"
     ]
    },
    {
     "name": "stderr",
     "output_type": "stream",
     "text": [
      "\n"
     ]
    },
    {
     "name": "stderr",
     "output_type": "stream",
     "text": [
      "\r",
      "  0%|          | 0/15 [00:00<?, ?it/s]"
     ]
    },
    {
     "name": "stderr",
     "output_type": "stream",
     "text": [
      "\r",
      " 13%|█▎        | 2/15 [00:00<00:01,  6.62it/s]"
     ]
    },
    {
     "name": "stderr",
     "output_type": "stream",
     "text": [
      "\r",
      " 20%|██        | 3/15 [00:00<00:02,  4.57it/s]"
     ]
    },
    {
     "name": "stderr",
     "output_type": "stream",
     "text": [
      "\r",
      " 27%|██▋       | 4/15 [00:00<00:02,  4.17it/s]"
     ]
    },
    {
     "name": "stderr",
     "output_type": "stream",
     "text": [
      "\r",
      " 33%|███▎      | 5/15 [00:01<00:02,  3.47it/s]"
     ]
    },
    {
     "name": "stderr",
     "output_type": "stream",
     "text": [
      "\r",
      " 40%|████      | 6/15 [00:01<00:03,  2.91it/s]"
     ]
    },
    {
     "name": "stderr",
     "output_type": "stream",
     "text": [
      "\r",
      " 47%|████▋     | 7/15 [00:02<00:03,  2.60it/s]"
     ]
    },
    {
     "name": "stderr",
     "output_type": "stream",
     "text": [
      "\r",
      " 53%|█████▎    | 8/15 [00:02<00:02,  2.40it/s]"
     ]
    },
    {
     "name": "stderr",
     "output_type": "stream",
     "text": [
      "\r",
      " 60%|██████    | 9/15 [00:03<00:02,  2.48it/s]"
     ]
    },
    {
     "name": "stderr",
     "output_type": "stream",
     "text": [
      "\r",
      " 67%|██████▋   | 10/15 [00:03<00:01,  2.73it/s]"
     ]
    },
    {
     "name": "stderr",
     "output_type": "stream",
     "text": [
      "\r",
      " 73%|███████▎  | 11/15 [00:03<00:01,  2.79it/s]"
     ]
    },
    {
     "name": "stderr",
     "output_type": "stream",
     "text": [
      "\r",
      " 80%|████████  | 12/15 [00:04<00:01,  2.88it/s]"
     ]
    },
    {
     "name": "stderr",
     "output_type": "stream",
     "text": [
      "\r",
      " 87%|████████▋ | 13/15 [00:04<00:00,  3.02it/s]"
     ]
    },
    {
     "name": "stderr",
     "output_type": "stream",
     "text": [
      "\r",
      " 93%|█████████▎| 14/15 [00:04<00:00,  3.03it/s]"
     ]
    },
    {
     "name": "stderr",
     "output_type": "stream",
     "text": [
      "\r",
      "100%|██████████| 15/15 [00:04<00:00,  3.01it/s]"
     ]
    },
    {
     "name": "stderr",
     "output_type": "stream",
     "text": [
      "\r",
      "100%|██████████| 15/15 [00:04<00:00,  3.02it/s]"
     ]
    },
    {
     "name": "stderr",
     "output_type": "stream",
     "text": [
      "\n"
     ]
    },
    {
     "data": {
      "text/html": [
       "<div>\n",
       "<style scoped>\n",
       "    .dataframe tbody tr th:only-of-type {\n",
       "        vertical-align: middle;\n",
       "    }\n",
       "\n",
       "    .dataframe tbody tr th {\n",
       "        vertical-align: top;\n",
       "    }\n",
       "\n",
       "    .dataframe thead tr th {\n",
       "        text-align: left;\n",
       "    }\n",
       "\n",
       "    .dataframe thead tr:last-of-type th {\n",
       "        text-align: right;\n",
       "    }\n",
       "</style>\n",
       "<table border=\"1\" class=\"dataframe\">\n",
       "  <thead>\n",
       "    <tr>\n",
       "      <th></th>\n",
       "      <th colspan=\"2\" halign=\"left\">fit_time</th>\n",
       "      <th colspan=\"2\" halign=\"left\">score_time</th>\n",
       "      <th colspan=\"2\" halign=\"left\">test_precision</th>\n",
       "      <th colspan=\"2\" halign=\"left\">test_recall</th>\n",
       "      <th colspan=\"2\" halign=\"left\">test_f1</th>\n",
       "      <th colspan=\"2\" halign=\"left\">test_balanced_accuracy</th>\n",
       "      <th colspan=\"2\" halign=\"left\">test_roc_auc</th>\n",
       "      <th colspan=\"2\" halign=\"left\">test_average_precision</th>\n",
       "      <th colspan=\"2\" halign=\"left\">n_observations</th>\n",
       "    </tr>\n",
       "    <tr>\n",
       "      <th></th>\n",
       "      <th>mean</th>\n",
       "      <th>std</th>\n",
       "      <th>mean</th>\n",
       "      <th>std</th>\n",
       "      <th>mean</th>\n",
       "      <th>std</th>\n",
       "      <th>mean</th>\n",
       "      <th>std</th>\n",
       "      <th>mean</th>\n",
       "      <th>std</th>\n",
       "      <th>mean</th>\n",
       "      <th>std</th>\n",
       "      <th>mean</th>\n",
       "      <th>std</th>\n",
       "      <th>mean</th>\n",
       "      <th>std</th>\n",
       "      <th>mean</th>\n",
       "      <th>std</th>\n",
       "    </tr>\n",
       "    <tr>\n",
       "      <th>n_features</th>\n",
       "      <th></th>\n",
       "      <th></th>\n",
       "      <th></th>\n",
       "      <th></th>\n",
       "      <th></th>\n",
       "      <th></th>\n",
       "      <th></th>\n",
       "      <th></th>\n",
       "      <th></th>\n",
       "      <th></th>\n",
       "      <th></th>\n",
       "      <th></th>\n",
       "      <th></th>\n",
       "      <th></th>\n",
       "      <th></th>\n",
       "      <th></th>\n",
       "      <th></th>\n",
       "      <th></th>\n",
       "    </tr>\n",
       "  </thead>\n",
       "  <tbody>\n",
       "    <tr>\n",
       "      <th>1</th>\n",
       "      <td>0.005</td>\n",
       "      <td>0.004</td>\n",
       "      <td>0.062</td>\n",
       "      <td>0.026</td>\n",
       "      <td>0.000</td>\n",
       "      <td>0.000</td>\n",
       "      <td>0.000</td>\n",
       "      <td>0.000</td>\n",
       "      <td>0.000</td>\n",
       "      <td>0.000</td>\n",
       "      <td>0.496</td>\n",
       "      <td>0.008</td>\n",
       "      <td>0.860</td>\n",
       "      <td>0.060</td>\n",
       "      <td>0.828</td>\n",
       "      <td>0.086</td>\n",
       "      <td>210.000</td>\n",
       "      <td>0.000</td>\n",
       "    </tr>\n",
       "    <tr>\n",
       "      <th>2</th>\n",
       "      <td>0.006</td>\n",
       "      <td>0.005</td>\n",
       "      <td>0.056</td>\n",
       "      <td>0.020</td>\n",
       "      <td>0.615</td>\n",
       "      <td>0.124</td>\n",
       "      <td>0.431</td>\n",
       "      <td>0.125</td>\n",
       "      <td>0.496</td>\n",
       "      <td>0.107</td>\n",
       "      <td>0.614</td>\n",
       "      <td>0.066</td>\n",
       "      <td>0.715</td>\n",
       "      <td>0.073</td>\n",
       "      <td>0.654</td>\n",
       "      <td>0.091</td>\n",
       "      <td>210.000</td>\n",
       "      <td>0.000</td>\n",
       "    </tr>\n",
       "    <tr>\n",
       "      <th>3</th>\n",
       "      <td>0.004</td>\n",
       "      <td>0.002</td>\n",
       "      <td>0.050</td>\n",
       "      <td>0.020</td>\n",
       "      <td>0.815</td>\n",
       "      <td>0.084</td>\n",
       "      <td>0.748</td>\n",
       "      <td>0.091</td>\n",
       "      <td>0.774</td>\n",
       "      <td>0.060</td>\n",
       "      <td>0.809</td>\n",
       "      <td>0.048</td>\n",
       "      <td>0.881</td>\n",
       "      <td>0.050</td>\n",
       "      <td>0.849</td>\n",
       "      <td>0.071</td>\n",
       "      <td>210.000</td>\n",
       "      <td>0.000</td>\n",
       "    </tr>\n",
       "    <tr>\n",
       "      <th>4</th>\n",
       "      <td>0.006</td>\n",
       "      <td>0.005</td>\n",
       "      <td>0.057</td>\n",
       "      <td>0.027</td>\n",
       "      <td>0.806</td>\n",
       "      <td>0.090</td>\n",
       "      <td>0.733</td>\n",
       "      <td>0.105</td>\n",
       "      <td>0.761</td>\n",
       "      <td>0.072</td>\n",
       "      <td>0.799</td>\n",
       "      <td>0.057</td>\n",
       "      <td>0.877</td>\n",
       "      <td>0.049</td>\n",
       "      <td>0.841</td>\n",
       "      <td>0.071</td>\n",
       "      <td>210.000</td>\n",
       "      <td>0.000</td>\n",
       "    </tr>\n",
       "    <tr>\n",
       "      <th>5</th>\n",
       "      <td>0.004</td>\n",
       "      <td>0.002</td>\n",
       "      <td>0.041</td>\n",
       "      <td>0.012</td>\n",
       "      <td>0.788</td>\n",
       "      <td>0.091</td>\n",
       "      <td>0.734</td>\n",
       "      <td>0.098</td>\n",
       "      <td>0.754</td>\n",
       "      <td>0.066</td>\n",
       "      <td>0.792</td>\n",
       "      <td>0.053</td>\n",
       "      <td>0.874</td>\n",
       "      <td>0.046</td>\n",
       "      <td>0.839</td>\n",
       "      <td>0.069</td>\n",
       "      <td>210.000</td>\n",
       "      <td>0.000</td>\n",
       "    </tr>\n",
       "    <tr>\n",
       "      <th>6</th>\n",
       "      <td>0.003</td>\n",
       "      <td>0.000</td>\n",
       "      <td>0.038</td>\n",
       "      <td>0.009</td>\n",
       "      <td>0.783</td>\n",
       "      <td>0.091</td>\n",
       "      <td>0.726</td>\n",
       "      <td>0.102</td>\n",
       "      <td>0.747</td>\n",
       "      <td>0.067</td>\n",
       "      <td>0.786</td>\n",
       "      <td>0.054</td>\n",
       "      <td>0.870</td>\n",
       "      <td>0.046</td>\n",
       "      <td>0.835</td>\n",
       "      <td>0.068</td>\n",
       "      <td>210.000</td>\n",
       "      <td>0.000</td>\n",
       "    </tr>\n",
       "    <tr>\n",
       "      <th>7</th>\n",
       "      <td>0.004</td>\n",
       "      <td>0.003</td>\n",
       "      <td>0.038</td>\n",
       "      <td>0.004</td>\n",
       "      <td>0.781</td>\n",
       "      <td>0.088</td>\n",
       "      <td>0.731</td>\n",
       "      <td>0.118</td>\n",
       "      <td>0.748</td>\n",
       "      <td>0.076</td>\n",
       "      <td>0.788</td>\n",
       "      <td>0.060</td>\n",
       "      <td>0.882</td>\n",
       "      <td>0.049</td>\n",
       "      <td>0.839</td>\n",
       "      <td>0.075</td>\n",
       "      <td>210.000</td>\n",
       "      <td>0.000</td>\n",
       "    </tr>\n",
       "    <tr>\n",
       "      <th>8</th>\n",
       "      <td>0.004</td>\n",
       "      <td>0.002</td>\n",
       "      <td>0.039</td>\n",
       "      <td>0.009</td>\n",
       "      <td>0.797</td>\n",
       "      <td>0.082</td>\n",
       "      <td>0.735</td>\n",
       "      <td>0.117</td>\n",
       "      <td>0.759</td>\n",
       "      <td>0.079</td>\n",
       "      <td>0.798</td>\n",
       "      <td>0.063</td>\n",
       "      <td>0.900</td>\n",
       "      <td>0.045</td>\n",
       "      <td>0.870</td>\n",
       "      <td>0.064</td>\n",
       "      <td>210.000</td>\n",
       "      <td>0.000</td>\n",
       "    </tr>\n",
       "    <tr>\n",
       "      <th>9</th>\n",
       "      <td>0.006</td>\n",
       "      <td>0.005</td>\n",
       "      <td>0.063</td>\n",
       "      <td>0.022</td>\n",
       "      <td>0.807</td>\n",
       "      <td>0.091</td>\n",
       "      <td>0.772</td>\n",
       "      <td>0.098</td>\n",
       "      <td>0.785</td>\n",
       "      <td>0.073</td>\n",
       "      <td>0.817</td>\n",
       "      <td>0.061</td>\n",
       "      <td>0.905</td>\n",
       "      <td>0.047</td>\n",
       "      <td>0.873</td>\n",
       "      <td>0.068</td>\n",
       "      <td>210.000</td>\n",
       "      <td>0.000</td>\n",
       "    </tr>\n",
       "    <tr>\n",
       "      <th>10</th>\n",
       "      <td>0.005</td>\n",
       "      <td>0.004</td>\n",
       "      <td>0.050</td>\n",
       "      <td>0.019</td>\n",
       "      <td>0.809</td>\n",
       "      <td>0.086</td>\n",
       "      <td>0.789</td>\n",
       "      <td>0.109</td>\n",
       "      <td>0.794</td>\n",
       "      <td>0.075</td>\n",
       "      <td>0.825</td>\n",
       "      <td>0.063</td>\n",
       "      <td>0.912</td>\n",
       "      <td>0.046</td>\n",
       "      <td>0.880</td>\n",
       "      <td>0.062</td>\n",
       "      <td>210.000</td>\n",
       "      <td>0.000</td>\n",
       "    </tr>\n",
       "    <tr>\n",
       "      <th>11</th>\n",
       "      <td>0.004</td>\n",
       "      <td>0.003</td>\n",
       "      <td>0.047</td>\n",
       "      <td>0.015</td>\n",
       "      <td>0.809</td>\n",
       "      <td>0.084</td>\n",
       "      <td>0.784</td>\n",
       "      <td>0.109</td>\n",
       "      <td>0.792</td>\n",
       "      <td>0.076</td>\n",
       "      <td>0.823</td>\n",
       "      <td>0.063</td>\n",
       "      <td>0.913</td>\n",
       "      <td>0.046</td>\n",
       "      <td>0.882</td>\n",
       "      <td>0.062</td>\n",
       "      <td>210.000</td>\n",
       "      <td>0.000</td>\n",
       "    </tr>\n",
       "    <tr>\n",
       "      <th>12</th>\n",
       "      <td>0.004</td>\n",
       "      <td>0.002</td>\n",
       "      <td>0.041</td>\n",
       "      <td>0.010</td>\n",
       "      <td>0.846</td>\n",
       "      <td>0.084</td>\n",
       "      <td>0.803</td>\n",
       "      <td>0.096</td>\n",
       "      <td>0.820</td>\n",
       "      <td>0.067</td>\n",
       "      <td>0.846</td>\n",
       "      <td>0.057</td>\n",
       "      <td>0.925</td>\n",
       "      <td>0.042</td>\n",
       "      <td>0.899</td>\n",
       "      <td>0.058</td>\n",
       "      <td>210.000</td>\n",
       "      <td>0.000</td>\n",
       "    </tr>\n",
       "    <tr>\n",
       "      <th>13</th>\n",
       "      <td>0.006</td>\n",
       "      <td>0.006</td>\n",
       "      <td>0.058</td>\n",
       "      <td>0.032</td>\n",
       "      <td>0.855</td>\n",
       "      <td>0.080</td>\n",
       "      <td>0.809</td>\n",
       "      <td>0.090</td>\n",
       "      <td>0.828</td>\n",
       "      <td>0.064</td>\n",
       "      <td>0.853</td>\n",
       "      <td>0.054</td>\n",
       "      <td>0.925</td>\n",
       "      <td>0.041</td>\n",
       "      <td>0.899</td>\n",
       "      <td>0.057</td>\n",
       "      <td>210.000</td>\n",
       "      <td>0.000</td>\n",
       "    </tr>\n",
       "    <tr>\n",
       "      <th>14</th>\n",
       "      <td>0.005</td>\n",
       "      <td>0.004</td>\n",
       "      <td>0.060</td>\n",
       "      <td>0.027</td>\n",
       "      <td>0.846</td>\n",
       "      <td>0.074</td>\n",
       "      <td>0.817</td>\n",
       "      <td>0.079</td>\n",
       "      <td>0.828</td>\n",
       "      <td>0.058</td>\n",
       "      <td>0.853</td>\n",
       "      <td>0.049</td>\n",
       "      <td>0.929</td>\n",
       "      <td>0.039</td>\n",
       "      <td>0.907</td>\n",
       "      <td>0.052</td>\n",
       "      <td>210.000</td>\n",
       "      <td>0.000</td>\n",
       "    </tr>\n",
       "    <tr>\n",
       "      <th>15</th>\n",
       "      <td>0.004</td>\n",
       "      <td>0.000</td>\n",
       "      <td>0.036</td>\n",
       "      <td>0.009</td>\n",
       "      <td>0.845</td>\n",
       "      <td>0.076</td>\n",
       "      <td>0.811</td>\n",
       "      <td>0.080</td>\n",
       "      <td>0.825</td>\n",
       "      <td>0.061</td>\n",
       "      <td>0.850</td>\n",
       "      <td>0.052</td>\n",
       "      <td>0.930</td>\n",
       "      <td>0.039</td>\n",
       "      <td>0.908</td>\n",
       "      <td>0.051</td>\n",
       "      <td>210.000</td>\n",
       "      <td>0.000</td>\n",
       "    </tr>\n",
       "  </tbody>\n",
       "</table>\n",
       "</div>"
      ],
      "text/plain": [
       "           fit_time       score_time       test_precision       test_recall  \\\n",
       "               mean   std       mean   std           mean   std        mean   \n",
       "n_features                                                                    \n",
       "1             0.005 0.004      0.062 0.026          0.000 0.000       0.000   \n",
       "2             0.006 0.005      0.056 0.020          0.615 0.124       0.431   \n",
       "3             0.004 0.002      0.050 0.020          0.815 0.084       0.748   \n",
       "4             0.006 0.005      0.057 0.027          0.806 0.090       0.733   \n",
       "5             0.004 0.002      0.041 0.012          0.788 0.091       0.734   \n",
       "6             0.003 0.000      0.038 0.009          0.783 0.091       0.726   \n",
       "7             0.004 0.003      0.038 0.004          0.781 0.088       0.731   \n",
       "8             0.004 0.002      0.039 0.009          0.797 0.082       0.735   \n",
       "9             0.006 0.005      0.063 0.022          0.807 0.091       0.772   \n",
       "10            0.005 0.004      0.050 0.019          0.809 0.086       0.789   \n",
       "11            0.004 0.003      0.047 0.015          0.809 0.084       0.784   \n",
       "12            0.004 0.002      0.041 0.010          0.846 0.084       0.803   \n",
       "13            0.006 0.006      0.058 0.032          0.855 0.080       0.809   \n",
       "14            0.005 0.004      0.060 0.027          0.846 0.074       0.817   \n",
       "15            0.004 0.000      0.036 0.009          0.845 0.076       0.811   \n",
       "\n",
       "                 test_f1       test_balanced_accuracy       test_roc_auc  \\\n",
       "             std    mean   std                   mean   std         mean   \n",
       "n_features                                                                 \n",
       "1          0.000   0.000 0.000                  0.496 0.008        0.860   \n",
       "2          0.125   0.496 0.107                  0.614 0.066        0.715   \n",
       "3          0.091   0.774 0.060                  0.809 0.048        0.881   \n",
       "4          0.105   0.761 0.072                  0.799 0.057        0.877   \n",
       "5          0.098   0.754 0.066                  0.792 0.053        0.874   \n",
       "6          0.102   0.747 0.067                  0.786 0.054        0.870   \n",
       "7          0.118   0.748 0.076                  0.788 0.060        0.882   \n",
       "8          0.117   0.759 0.079                  0.798 0.063        0.900   \n",
       "9          0.098   0.785 0.073                  0.817 0.061        0.905   \n",
       "10         0.109   0.794 0.075                  0.825 0.063        0.912   \n",
       "11         0.109   0.792 0.076                  0.823 0.063        0.913   \n",
       "12         0.096   0.820 0.067                  0.846 0.057        0.925   \n",
       "13         0.090   0.828 0.064                  0.853 0.054        0.925   \n",
       "14         0.079   0.828 0.058                  0.853 0.049        0.929   \n",
       "15         0.080   0.825 0.061                  0.850 0.052        0.930   \n",
       "\n",
       "                 test_average_precision       n_observations        \n",
       "             std                   mean   std           mean   std  \n",
       "n_features                                                          \n",
       "1          0.060                  0.828 0.086        210.000 0.000  \n",
       "2          0.073                  0.654 0.091        210.000 0.000  \n",
       "3          0.050                  0.849 0.071        210.000 0.000  \n",
       "4          0.049                  0.841 0.071        210.000 0.000  \n",
       "5          0.046                  0.839 0.069        210.000 0.000  \n",
       "6          0.046                  0.835 0.068        210.000 0.000  \n",
       "7          0.049                  0.839 0.075        210.000 0.000  \n",
       "8          0.045                  0.870 0.064        210.000 0.000  \n",
       "9          0.047                  0.873 0.068        210.000 0.000  \n",
       "10         0.046                  0.880 0.062        210.000 0.000  \n",
       "11         0.046                  0.882 0.062        210.000 0.000  \n",
       "12         0.042                  0.899 0.058        210.000 0.000  \n",
       "13         0.041                  0.899 0.057        210.000 0.000  \n",
       "14         0.039                  0.907 0.052        210.000 0.000  \n",
       "15         0.039                  0.908 0.051        210.000 0.000  "
      ]
     },
     "execution_count": 16,
     "metadata": {},
     "output_type": "execute_result"
    }
   ],
   "source": [
    "cv_feat_all = njab.sklearn.find_n_best_features(X=X, y=target, name=args.target,\n",
    "                                                groups=target_to_group)\n",
    "cv_feat_all = cv_feat_all.drop('test_case', axis=1).groupby('n_features').agg(['mean', 'std'])\n",
    "cv_feat_all"
   ]
  },
  {
   "cell_type": "markdown",
   "id": "0029a621",
   "metadata": {
    "papermill": {
     "duration": 0.02524,
     "end_time": "2024-09-18T04:34:15.742677",
     "exception": false,
     "start_time": "2024-09-18T04:34:15.717437",
     "status": "completed"
    },
    "tags": []
   },
   "source": [
    "Using only new features:"
   ]
  },
  {
   "cell_type": "code",
   "execution_count": 17,
   "id": "811f75d0",
   "metadata": {
    "execution": {
     "iopub.execute_input": "2024-09-18T04:34:15.781431Z",
     "iopub.status.busy": "2024-09-18T04:34:15.780976Z",
     "iopub.status.idle": "2024-09-18T04:35:04.744343Z",
     "shell.execute_reply": "2024-09-18T04:35:04.743673Z"
    },
    "papermill": {
     "duration": 48.984158,
     "end_time": "2024-09-18T04:35:04.745677",
     "exception": false,
     "start_time": "2024-09-18T04:34:15.761519",
     "status": "completed"
    },
    "tags": [
     "hide-input"
    ]
   },
   "outputs": [
    {
     "name": "stderr",
     "output_type": "stream",
     "text": [
      "\r",
      "  0%|          | 0/1 [00:00<?, ?it/s]"
     ]
    },
    {
     "name": "stderr",
     "output_type": "stream",
     "text": [
      "\r",
      "100%|██████████| 1/1 [00:00<00:00, 975.19it/s]"
     ]
    },
    {
     "name": "stderr",
     "output_type": "stream",
     "text": [
      "\n"
     ]
    },
    {
     "name": "stderr",
     "output_type": "stream",
     "text": [
      "\r",
      "  0%|          | 0/2 [00:00<?, ?it/s]"
     ]
    },
    {
     "name": "stderr",
     "output_type": "stream",
     "text": [
      "\r",
      "100%|██████████| 2/2 [00:00<00:00, 30.17it/s]"
     ]
    },
    {
     "name": "stderr",
     "output_type": "stream",
     "text": [
      "\n"
     ]
    },
    {
     "name": "stderr",
     "output_type": "stream",
     "text": [
      "\r",
      "  0%|          | 0/3 [00:00<?, ?it/s]"
     ]
    },
    {
     "name": "stderr",
     "output_type": "stream",
     "text": [
      "\r",
      "100%|██████████| 3/3 [00:00<00:00, 20.44it/s]"
     ]
    },
    {
     "name": "stderr",
     "output_type": "stream",
     "text": [
      "\r",
      "100%|██████████| 3/3 [00:00<00:00, 19.53it/s]"
     ]
    },
    {
     "name": "stderr",
     "output_type": "stream",
     "text": [
      "\n"
     ]
    },
    {
     "name": "stderr",
     "output_type": "stream",
     "text": [
      "\r",
      "  0%|          | 0/4 [00:00<?, ?it/s]"
     ]
    },
    {
     "name": "stderr",
     "output_type": "stream",
     "text": [
      "\r",
      " 75%|███████▌  | 3/4 [00:00<00:00, 24.27it/s]"
     ]
    },
    {
     "name": "stderr",
     "output_type": "stream",
     "text": [
      "\r",
      "100%|██████████| 4/4 [00:00<00:00, 18.53it/s]"
     ]
    },
    {
     "name": "stderr",
     "output_type": "stream",
     "text": [
      "\n"
     ]
    },
    {
     "name": "stderr",
     "output_type": "stream",
     "text": [
      "\r",
      "  0%|          | 0/5 [00:00<?, ?it/s]"
     ]
    },
    {
     "name": "stderr",
     "output_type": "stream",
     "text": [
      "\r",
      " 60%|██████    | 3/5 [00:00<00:00, 22.06it/s]"
     ]
    },
    {
     "name": "stderr",
     "output_type": "stream",
     "text": [
      "\r",
      "100%|██████████| 5/5 [00:00<00:00, 18.21it/s]"
     ]
    },
    {
     "name": "stderr",
     "output_type": "stream",
     "text": [
      "\n"
     ]
    },
    {
     "name": "stderr",
     "output_type": "stream",
     "text": [
      "\r",
      "  0%|          | 0/6 [00:00<?, ?it/s]"
     ]
    },
    {
     "name": "stderr",
     "output_type": "stream",
     "text": [
      "\r",
      " 50%|█████     | 3/6 [00:00<00:00, 19.42it/s]"
     ]
    },
    {
     "name": "stderr",
     "output_type": "stream",
     "text": [
      "\r",
      " 83%|████████▎ | 5/6 [00:00<00:00, 17.64it/s]"
     ]
    },
    {
     "name": "stderr",
     "output_type": "stream",
     "text": [
      "\r",
      "100%|██████████| 6/6 [00:00<00:00, 16.22it/s]"
     ]
    },
    {
     "name": "stderr",
     "output_type": "stream",
     "text": [
      "\n"
     ]
    },
    {
     "name": "stderr",
     "output_type": "stream",
     "text": [
      "\r",
      "  0%|          | 0/7 [00:00<?, ?it/s]"
     ]
    },
    {
     "name": "stderr",
     "output_type": "stream",
     "text": [
      "\r",
      " 43%|████▎     | 3/7 [00:00<00:00, 24.25it/s]"
     ]
    },
    {
     "name": "stderr",
     "output_type": "stream",
     "text": [
      "\r",
      " 86%|████████▌ | 6/7 [00:00<00:00, 20.05it/s]"
     ]
    },
    {
     "name": "stderr",
     "output_type": "stream",
     "text": [
      "\r",
      "100%|██████████| 7/7 [00:00<00:00, 19.48it/s]"
     ]
    },
    {
     "name": "stderr",
     "output_type": "stream",
     "text": [
      "\n"
     ]
    },
    {
     "name": "stderr",
     "output_type": "stream",
     "text": [
      "\r",
      "  0%|          | 0/8 [00:00<?, ?it/s]"
     ]
    },
    {
     "name": "stderr",
     "output_type": "stream",
     "text": [
      "\r",
      " 38%|███▊      | 3/8 [00:00<00:00, 25.16it/s]"
     ]
    },
    {
     "name": "stderr",
     "output_type": "stream",
     "text": [
      "\r",
      " 75%|███████▌  | 6/8 [00:00<00:00, 19.20it/s]"
     ]
    },
    {
     "name": "stderr",
     "output_type": "stream",
     "text": [
      "\r",
      "100%|██████████| 8/8 [00:00<00:00, 17.81it/s]"
     ]
    },
    {
     "name": "stderr",
     "output_type": "stream",
     "text": [
      "\n"
     ]
    },
    {
     "name": "stderr",
     "output_type": "stream",
     "text": [
      "\r",
      "  0%|          | 0/9 [00:00<?, ?it/s]"
     ]
    },
    {
     "name": "stderr",
     "output_type": "stream",
     "text": [
      "\r",
      " 33%|███▎      | 3/9 [00:00<00:00, 21.67it/s]"
     ]
    },
    {
     "name": "stderr",
     "output_type": "stream",
     "text": [
      "\r",
      " 67%|██████▋   | 6/9 [00:00<00:00, 16.34it/s]"
     ]
    },
    {
     "name": "stderr",
     "output_type": "stream",
     "text": [
      "\r",
      " 89%|████████▉ | 8/9 [00:00<00:00, 15.67it/s]"
     ]
    },
    {
     "name": "stderr",
     "output_type": "stream",
     "text": [
      "\r",
      "100%|██████████| 9/9 [00:00<00:00, 15.50it/s]"
     ]
    },
    {
     "name": "stderr",
     "output_type": "stream",
     "text": [
      "\n"
     ]
    },
    {
     "name": "stderr",
     "output_type": "stream",
     "text": [
      "\r",
      "  0%|          | 0/10 [00:00<?, ?it/s]"
     ]
    },
    {
     "name": "stderr",
     "output_type": "stream",
     "text": [
      "\r",
      " 30%|███       | 3/10 [00:00<00:00, 22.46it/s]"
     ]
    },
    {
     "name": "stderr",
     "output_type": "stream",
     "text": [
      "\r",
      " 60%|██████    | 6/10 [00:00<00:00, 15.84it/s]"
     ]
    },
    {
     "name": "stderr",
     "output_type": "stream",
     "text": [
      "\r",
      " 80%|████████  | 8/10 [00:00<00:00, 14.96it/s]"
     ]
    },
    {
     "name": "stderr",
     "output_type": "stream",
     "text": [
      "\r",
      "100%|██████████| 10/10 [00:00<00:00, 14.55it/s]"
     ]
    },
    {
     "name": "stderr",
     "output_type": "stream",
     "text": [
      "\r",
      "100%|██████████| 10/10 [00:00<00:00, 15.24it/s]"
     ]
    },
    {
     "name": "stderr",
     "output_type": "stream",
     "text": [
      "\n"
     ]
    },
    {
     "name": "stderr",
     "output_type": "stream",
     "text": [
      "\r",
      "  0%|          | 0/11 [00:00<?, ?it/s]"
     ]
    },
    {
     "name": "stderr",
     "output_type": "stream",
     "text": [
      "\r",
      " 27%|██▋       | 3/11 [00:00<00:00, 25.53it/s]"
     ]
    },
    {
     "name": "stderr",
     "output_type": "stream",
     "text": [
      "\r",
      " 55%|█████▍    | 6/11 [00:00<00:00, 17.44it/s]"
     ]
    },
    {
     "name": "stderr",
     "output_type": "stream",
     "text": [
      "\r",
      " 73%|███████▎  | 8/11 [00:00<00:00, 16.83it/s]"
     ]
    },
    {
     "name": "stderr",
     "output_type": "stream",
     "text": [
      "\r",
      " 91%|█████████ | 10/11 [00:00<00:00, 15.28it/s]"
     ]
    },
    {
     "name": "stderr",
     "output_type": "stream",
     "text": [
      "\r",
      "100%|██████████| 11/11 [00:00<00:00, 16.60it/s]"
     ]
    },
    {
     "name": "stderr",
     "output_type": "stream",
     "text": [
      "\n"
     ]
    },
    {
     "name": "stderr",
     "output_type": "stream",
     "text": [
      "\r",
      "  0%|          | 0/12 [00:00<?, ?it/s]"
     ]
    },
    {
     "name": "stderr",
     "output_type": "stream",
     "text": [
      "\r",
      " 25%|██▌       | 3/12 [00:00<00:00, 20.93it/s]"
     ]
    },
    {
     "name": "stderr",
     "output_type": "stream",
     "text": [
      "\r",
      " 50%|█████     | 6/12 [00:00<00:00, 14.91it/s]"
     ]
    },
    {
     "name": "stderr",
     "output_type": "stream",
     "text": [
      "\r",
      " 67%|██████▋   | 8/12 [00:00<00:00, 14.73it/s]"
     ]
    },
    {
     "name": "stderr",
     "output_type": "stream",
     "text": [
      "\r",
      " 83%|████████▎ | 10/12 [00:00<00:00, 13.13it/s]"
     ]
    },
    {
     "name": "stderr",
     "output_type": "stream",
     "text": [
      "\r",
      "100%|██████████| 12/12 [00:00<00:00, 13.94it/s]"
     ]
    },
    {
     "name": "stderr",
     "output_type": "stream",
     "text": [
      "\r",
      "100%|██████████| 12/12 [00:00<00:00, 14.36it/s]"
     ]
    },
    {
     "name": "stderr",
     "output_type": "stream",
     "text": [
      "\n"
     ]
    },
    {
     "name": "stderr",
     "output_type": "stream",
     "text": [
      "\r",
      "  0%|          | 0/13 [00:00<?, ?it/s]"
     ]
    },
    {
     "name": "stderr",
     "output_type": "stream",
     "text": [
      "\r",
      " 23%|██▎       | 3/13 [00:00<00:00, 25.10it/s]"
     ]
    },
    {
     "name": "stderr",
     "output_type": "stream",
     "text": [
      "\r",
      " 46%|████▌     | 6/13 [00:00<00:00, 18.01it/s]"
     ]
    },
    {
     "name": "stderr",
     "output_type": "stream",
     "text": [
      "\r",
      " 62%|██████▏   | 8/13 [00:00<00:00, 15.92it/s]"
     ]
    },
    {
     "name": "stderr",
     "output_type": "stream",
     "text": [
      "\r",
      " 77%|███████▋  | 10/13 [00:00<00:00, 15.07it/s]"
     ]
    },
    {
     "name": "stderr",
     "output_type": "stream",
     "text": [
      "\r",
      " 92%|█████████▏| 12/13 [00:00<00:00, 14.59it/s]"
     ]
    },
    {
     "name": "stderr",
     "output_type": "stream",
     "text": [
      "\r",
      "100%|██████████| 13/13 [00:00<00:00, 15.61it/s]"
     ]
    },
    {
     "name": "stderr",
     "output_type": "stream",
     "text": [
      "\n"
     ]
    },
    {
     "name": "stderr",
     "output_type": "stream",
     "text": [
      "\r",
      "  0%|          | 0/14 [00:00<?, ?it/s]"
     ]
    },
    {
     "name": "stderr",
     "output_type": "stream",
     "text": [
      "\r",
      " 21%|██▏       | 3/14 [00:00<00:00, 21.63it/s]"
     ]
    },
    {
     "name": "stderr",
     "output_type": "stream",
     "text": [
      "\r",
      " 43%|████▎     | 6/14 [00:00<00:00, 16.93it/s]"
     ]
    },
    {
     "name": "stderr",
     "output_type": "stream",
     "text": [
      "\r",
      " 57%|█████▋    | 8/14 [00:00<00:00, 16.48it/s]"
     ]
    },
    {
     "name": "stderr",
     "output_type": "stream",
     "text": [
      "\r",
      " 71%|███████▏  | 10/14 [00:00<00:00, 16.05it/s]"
     ]
    },
    {
     "name": "stderr",
     "output_type": "stream",
     "text": [
      "\r",
      " 86%|████████▌ | 12/14 [00:00<00:00, 15.84it/s]"
     ]
    },
    {
     "name": "stderr",
     "output_type": "stream",
     "text": [
      "\r",
      "100%|██████████| 14/14 [00:00<00:00, 14.76it/s]"
     ]
    },
    {
     "name": "stderr",
     "output_type": "stream",
     "text": [
      "\r",
      "100%|██████████| 14/14 [00:00<00:00, 15.77it/s]"
     ]
    },
    {
     "name": "stderr",
     "output_type": "stream",
     "text": [
      "\n"
     ]
    },
    {
     "name": "stderr",
     "output_type": "stream",
     "text": [
      "\r",
      "  0%|          | 0/15 [00:00<?, ?it/s]"
     ]
    },
    {
     "name": "stderr",
     "output_type": "stream",
     "text": [
      "\r",
      " 20%|██        | 3/15 [00:00<00:00, 27.08it/s]"
     ]
    },
    {
     "name": "stderr",
     "output_type": "stream",
     "text": [
      "\r",
      " 40%|████      | 6/15 [00:00<00:00, 17.29it/s]"
     ]
    },
    {
     "name": "stderr",
     "output_type": "stream",
     "text": [
      "\r",
      " 53%|█████▎    | 8/15 [00:00<00:00, 16.30it/s]"
     ]
    },
    {
     "name": "stderr",
     "output_type": "stream",
     "text": [
      "\r",
      " 67%|██████▋   | 10/15 [00:00<00:00, 14.94it/s]"
     ]
    },
    {
     "name": "stderr",
     "output_type": "stream",
     "text": [
      "\r",
      " 80%|████████  | 12/15 [00:00<00:00, 14.56it/s]"
     ]
    },
    {
     "name": "stderr",
     "output_type": "stream",
     "text": [
      "\r",
      " 93%|█████████▎| 14/15 [00:00<00:00, 14.00it/s]"
     ]
    },
    {
     "name": "stderr",
     "output_type": "stream",
     "text": [
      "\r",
      "100%|██████████| 15/15 [00:00<00:00, 15.04it/s]"
     ]
    },
    {
     "name": "stderr",
     "output_type": "stream",
     "text": [
      "\n"
     ]
    },
    {
     "data": {
      "text/html": [
       "<div>\n",
       "<style scoped>\n",
       "    .dataframe tbody tr th:only-of-type {\n",
       "        vertical-align: middle;\n",
       "    }\n",
       "\n",
       "    .dataframe tbody tr th {\n",
       "        vertical-align: top;\n",
       "    }\n",
       "\n",
       "    .dataframe thead tr th {\n",
       "        text-align: left;\n",
       "    }\n",
       "\n",
       "    .dataframe thead tr:last-of-type th {\n",
       "        text-align: right;\n",
       "    }\n",
       "</style>\n",
       "<table border=\"1\" class=\"dataframe\">\n",
       "  <thead>\n",
       "    <tr>\n",
       "      <th></th>\n",
       "      <th colspan=\"2\" halign=\"left\">fit_time</th>\n",
       "      <th colspan=\"2\" halign=\"left\">score_time</th>\n",
       "      <th colspan=\"2\" halign=\"left\">test_precision</th>\n",
       "      <th colspan=\"2\" halign=\"left\">test_recall</th>\n",
       "      <th colspan=\"2\" halign=\"left\">test_f1</th>\n",
       "      <th colspan=\"2\" halign=\"left\">test_balanced_accuracy</th>\n",
       "      <th colspan=\"2\" halign=\"left\">test_roc_auc</th>\n",
       "      <th colspan=\"2\" halign=\"left\">test_average_precision</th>\n",
       "      <th colspan=\"2\" halign=\"left\">n_observations</th>\n",
       "    </tr>\n",
       "    <tr>\n",
       "      <th></th>\n",
       "      <th>mean</th>\n",
       "      <th>std</th>\n",
       "      <th>mean</th>\n",
       "      <th>std</th>\n",
       "      <th>mean</th>\n",
       "      <th>std</th>\n",
       "      <th>mean</th>\n",
       "      <th>std</th>\n",
       "      <th>mean</th>\n",
       "      <th>std</th>\n",
       "      <th>mean</th>\n",
       "      <th>std</th>\n",
       "      <th>mean</th>\n",
       "      <th>std</th>\n",
       "      <th>mean</th>\n",
       "      <th>std</th>\n",
       "      <th>mean</th>\n",
       "      <th>std</th>\n",
       "    </tr>\n",
       "    <tr>\n",
       "      <th>n_features</th>\n",
       "      <th></th>\n",
       "      <th></th>\n",
       "      <th></th>\n",
       "      <th></th>\n",
       "      <th></th>\n",
       "      <th></th>\n",
       "      <th></th>\n",
       "      <th></th>\n",
       "      <th></th>\n",
       "      <th></th>\n",
       "      <th></th>\n",
       "      <th></th>\n",
       "      <th></th>\n",
       "      <th></th>\n",
       "      <th></th>\n",
       "      <th></th>\n",
       "      <th></th>\n",
       "      <th></th>\n",
       "    </tr>\n",
       "  </thead>\n",
       "  <tbody>\n",
       "    <tr>\n",
       "      <th>1</th>\n",
       "      <td>0.003</td>\n",
       "      <td>0.002</td>\n",
       "      <td>0.044</td>\n",
       "      <td>0.020</td>\n",
       "      <td>0.000</td>\n",
       "      <td>0.000</td>\n",
       "      <td>0.000</td>\n",
       "      <td>0.000</td>\n",
       "      <td>0.000</td>\n",
       "      <td>0.000</td>\n",
       "      <td>0.500</td>\n",
       "      <td>0.000</td>\n",
       "      <td>0.731</td>\n",
       "      <td>0.071</td>\n",
       "      <td>0.676</td>\n",
       "      <td>0.083</td>\n",
       "      <td>210.000</td>\n",
       "      <td>0.000</td>\n",
       "    </tr>\n",
       "    <tr>\n",
       "      <th>2</th>\n",
       "      <td>0.004</td>\n",
       "      <td>0.002</td>\n",
       "      <td>0.036</td>\n",
       "      <td>0.007</td>\n",
       "      <td>0.565</td>\n",
       "      <td>0.121</td>\n",
       "      <td>0.422</td>\n",
       "      <td>0.110</td>\n",
       "      <td>0.476</td>\n",
       "      <td>0.098</td>\n",
       "      <td>0.590</td>\n",
       "      <td>0.066</td>\n",
       "      <td>0.689</td>\n",
       "      <td>0.074</td>\n",
       "      <td>0.668</td>\n",
       "      <td>0.070</td>\n",
       "      <td>210.000</td>\n",
       "      <td>0.000</td>\n",
       "    </tr>\n",
       "    <tr>\n",
       "      <th>3</th>\n",
       "      <td>0.004</td>\n",
       "      <td>0.003</td>\n",
       "      <td>0.050</td>\n",
       "      <td>0.021</td>\n",
       "      <td>0.560</td>\n",
       "      <td>0.118</td>\n",
       "      <td>0.412</td>\n",
       "      <td>0.106</td>\n",
       "      <td>0.467</td>\n",
       "      <td>0.095</td>\n",
       "      <td>0.585</td>\n",
       "      <td>0.063</td>\n",
       "      <td>0.682</td>\n",
       "      <td>0.076</td>\n",
       "      <td>0.661</td>\n",
       "      <td>0.071</td>\n",
       "      <td>210.000</td>\n",
       "      <td>0.000</td>\n",
       "    </tr>\n",
       "    <tr>\n",
       "      <th>4</th>\n",
       "      <td>0.003</td>\n",
       "      <td>0.002</td>\n",
       "      <td>0.032</td>\n",
       "      <td>0.011</td>\n",
       "      <td>0.613</td>\n",
       "      <td>0.118</td>\n",
       "      <td>0.451</td>\n",
       "      <td>0.092</td>\n",
       "      <td>0.514</td>\n",
       "      <td>0.089</td>\n",
       "      <td>0.618</td>\n",
       "      <td>0.066</td>\n",
       "      <td>0.688</td>\n",
       "      <td>0.070</td>\n",
       "      <td>0.687</td>\n",
       "      <td>0.062</td>\n",
       "      <td>210.000</td>\n",
       "      <td>0.000</td>\n",
       "    </tr>\n",
       "    <tr>\n",
       "      <th>5</th>\n",
       "      <td>0.004</td>\n",
       "      <td>0.002</td>\n",
       "      <td>0.044</td>\n",
       "      <td>0.017</td>\n",
       "      <td>0.630</td>\n",
       "      <td>0.114</td>\n",
       "      <td>0.460</td>\n",
       "      <td>0.089</td>\n",
       "      <td>0.526</td>\n",
       "      <td>0.082</td>\n",
       "      <td>0.628</td>\n",
       "      <td>0.059</td>\n",
       "      <td>0.706</td>\n",
       "      <td>0.070</td>\n",
       "      <td>0.698</td>\n",
       "      <td>0.068</td>\n",
       "      <td>210.000</td>\n",
       "      <td>0.000</td>\n",
       "    </tr>\n",
       "    <tr>\n",
       "      <th>6</th>\n",
       "      <td>0.003</td>\n",
       "      <td>0.002</td>\n",
       "      <td>0.035</td>\n",
       "      <td>0.014</td>\n",
       "      <td>0.615</td>\n",
       "      <td>0.098</td>\n",
       "      <td>0.463</td>\n",
       "      <td>0.091</td>\n",
       "      <td>0.521</td>\n",
       "      <td>0.076</td>\n",
       "      <td>0.623</td>\n",
       "      <td>0.053</td>\n",
       "      <td>0.710</td>\n",
       "      <td>0.068</td>\n",
       "      <td>0.689</td>\n",
       "      <td>0.068</td>\n",
       "      <td>210.000</td>\n",
       "      <td>0.000</td>\n",
       "    </tr>\n",
       "    <tr>\n",
       "      <th>7</th>\n",
       "      <td>0.004</td>\n",
       "      <td>0.003</td>\n",
       "      <td>0.044</td>\n",
       "      <td>0.019</td>\n",
       "      <td>0.625</td>\n",
       "      <td>0.101</td>\n",
       "      <td>0.499</td>\n",
       "      <td>0.101</td>\n",
       "      <td>0.549</td>\n",
       "      <td>0.084</td>\n",
       "      <td>0.638</td>\n",
       "      <td>0.061</td>\n",
       "      <td>0.709</td>\n",
       "      <td>0.065</td>\n",
       "      <td>0.696</td>\n",
       "      <td>0.067</td>\n",
       "      <td>210.000</td>\n",
       "      <td>0.000</td>\n",
       "    </tr>\n",
       "    <tr>\n",
       "      <th>8</th>\n",
       "      <td>0.004</td>\n",
       "      <td>0.002</td>\n",
       "      <td>0.041</td>\n",
       "      <td>0.011</td>\n",
       "      <td>0.623</td>\n",
       "      <td>0.102</td>\n",
       "      <td>0.492</td>\n",
       "      <td>0.103</td>\n",
       "      <td>0.544</td>\n",
       "      <td>0.086</td>\n",
       "      <td>0.635</td>\n",
       "      <td>0.061</td>\n",
       "      <td>0.703</td>\n",
       "      <td>0.063</td>\n",
       "      <td>0.688</td>\n",
       "      <td>0.064</td>\n",
       "      <td>210.000</td>\n",
       "      <td>0.000</td>\n",
       "    </tr>\n",
       "    <tr>\n",
       "      <th>9</th>\n",
       "      <td>0.005</td>\n",
       "      <td>0.003</td>\n",
       "      <td>0.049</td>\n",
       "      <td>0.018</td>\n",
       "      <td>0.615</td>\n",
       "      <td>0.105</td>\n",
       "      <td>0.492</td>\n",
       "      <td>0.108</td>\n",
       "      <td>0.541</td>\n",
       "      <td>0.092</td>\n",
       "      <td>0.632</td>\n",
       "      <td>0.063</td>\n",
       "      <td>0.697</td>\n",
       "      <td>0.063</td>\n",
       "      <td>0.680</td>\n",
       "      <td>0.064</td>\n",
       "      <td>210.000</td>\n",
       "      <td>0.000</td>\n",
       "    </tr>\n",
       "    <tr>\n",
       "      <th>10</th>\n",
       "      <td>0.004</td>\n",
       "      <td>0.003</td>\n",
       "      <td>0.046</td>\n",
       "      <td>0.016</td>\n",
       "      <td>0.613</td>\n",
       "      <td>0.103</td>\n",
       "      <td>0.480</td>\n",
       "      <td>0.102</td>\n",
       "      <td>0.531</td>\n",
       "      <td>0.087</td>\n",
       "      <td>0.627</td>\n",
       "      <td>0.058</td>\n",
       "      <td>0.694</td>\n",
       "      <td>0.070</td>\n",
       "      <td>0.683</td>\n",
       "      <td>0.070</td>\n",
       "      <td>210.000</td>\n",
       "      <td>0.000</td>\n",
       "    </tr>\n",
       "    <tr>\n",
       "      <th>11</th>\n",
       "      <td>0.005</td>\n",
       "      <td>0.003</td>\n",
       "      <td>0.045</td>\n",
       "      <td>0.015</td>\n",
       "      <td>0.648</td>\n",
       "      <td>0.108</td>\n",
       "      <td>0.508</td>\n",
       "      <td>0.104</td>\n",
       "      <td>0.561</td>\n",
       "      <td>0.079</td>\n",
       "      <td>0.648</td>\n",
       "      <td>0.058</td>\n",
       "      <td>0.735</td>\n",
       "      <td>0.061</td>\n",
       "      <td>0.714</td>\n",
       "      <td>0.067</td>\n",
       "      <td>210.000</td>\n",
       "      <td>0.000</td>\n",
       "    </tr>\n",
       "    <tr>\n",
       "      <th>12</th>\n",
       "      <td>0.005</td>\n",
       "      <td>0.003</td>\n",
       "      <td>0.043</td>\n",
       "      <td>0.013</td>\n",
       "      <td>0.669</td>\n",
       "      <td>0.105</td>\n",
       "      <td>0.525</td>\n",
       "      <td>0.102</td>\n",
       "      <td>0.580</td>\n",
       "      <td>0.079</td>\n",
       "      <td>0.664</td>\n",
       "      <td>0.058</td>\n",
       "      <td>0.735</td>\n",
       "      <td>0.061</td>\n",
       "      <td>0.716</td>\n",
       "      <td>0.068</td>\n",
       "      <td>210.000</td>\n",
       "      <td>0.000</td>\n",
       "    </tr>\n",
       "    <tr>\n",
       "      <th>13</th>\n",
       "      <td>0.005</td>\n",
       "      <td>0.004</td>\n",
       "      <td>0.050</td>\n",
       "      <td>0.019</td>\n",
       "      <td>0.655</td>\n",
       "      <td>0.106</td>\n",
       "      <td>0.522</td>\n",
       "      <td>0.107</td>\n",
       "      <td>0.573</td>\n",
       "      <td>0.084</td>\n",
       "      <td>0.658</td>\n",
       "      <td>0.061</td>\n",
       "      <td>0.732</td>\n",
       "      <td>0.061</td>\n",
       "      <td>0.711</td>\n",
       "      <td>0.068</td>\n",
       "      <td>210.000</td>\n",
       "      <td>0.000</td>\n",
       "    </tr>\n",
       "    <tr>\n",
       "      <th>14</th>\n",
       "      <td>0.004</td>\n",
       "      <td>0.002</td>\n",
       "      <td>0.045</td>\n",
       "      <td>0.014</td>\n",
       "      <td>0.648</td>\n",
       "      <td>0.108</td>\n",
       "      <td>0.510</td>\n",
       "      <td>0.109</td>\n",
       "      <td>0.563</td>\n",
       "      <td>0.088</td>\n",
       "      <td>0.651</td>\n",
       "      <td>0.063</td>\n",
       "      <td>0.726</td>\n",
       "      <td>0.061</td>\n",
       "      <td>0.702</td>\n",
       "      <td>0.071</td>\n",
       "      <td>210.000</td>\n",
       "      <td>0.000</td>\n",
       "    </tr>\n",
       "    <tr>\n",
       "      <th>15</th>\n",
       "      <td>0.005</td>\n",
       "      <td>0.003</td>\n",
       "      <td>0.046</td>\n",
       "      <td>0.016</td>\n",
       "      <td>0.653</td>\n",
       "      <td>0.103</td>\n",
       "      <td>0.536</td>\n",
       "      <td>0.097</td>\n",
       "      <td>0.582</td>\n",
       "      <td>0.079</td>\n",
       "      <td>0.660</td>\n",
       "      <td>0.062</td>\n",
       "      <td>0.744</td>\n",
       "      <td>0.062</td>\n",
       "      <td>0.716</td>\n",
       "      <td>0.074</td>\n",
       "      <td>210.000</td>\n",
       "      <td>0.000</td>\n",
       "    </tr>\n",
       "  </tbody>\n",
       "</table>\n",
       "</div>"
      ],
      "text/plain": [
       "           fit_time       score_time       test_precision       test_recall  \\\n",
       "               mean   std       mean   std           mean   std        mean   \n",
       "n_features                                                                    \n",
       "1             0.003 0.002      0.044 0.020          0.000 0.000       0.000   \n",
       "2             0.004 0.002      0.036 0.007          0.565 0.121       0.422   \n",
       "3             0.004 0.003      0.050 0.021          0.560 0.118       0.412   \n",
       "4             0.003 0.002      0.032 0.011          0.613 0.118       0.451   \n",
       "5             0.004 0.002      0.044 0.017          0.630 0.114       0.460   \n",
       "6             0.003 0.002      0.035 0.014          0.615 0.098       0.463   \n",
       "7             0.004 0.003      0.044 0.019          0.625 0.101       0.499   \n",
       "8             0.004 0.002      0.041 0.011          0.623 0.102       0.492   \n",
       "9             0.005 0.003      0.049 0.018          0.615 0.105       0.492   \n",
       "10            0.004 0.003      0.046 0.016          0.613 0.103       0.480   \n",
       "11            0.005 0.003      0.045 0.015          0.648 0.108       0.508   \n",
       "12            0.005 0.003      0.043 0.013          0.669 0.105       0.525   \n",
       "13            0.005 0.004      0.050 0.019          0.655 0.106       0.522   \n",
       "14            0.004 0.002      0.045 0.014          0.648 0.108       0.510   \n",
       "15            0.005 0.003      0.046 0.016          0.653 0.103       0.536   \n",
       "\n",
       "                 test_f1       test_balanced_accuracy       test_roc_auc  \\\n",
       "             std    mean   std                   mean   std         mean   \n",
       "n_features                                                                 \n",
       "1          0.000   0.000 0.000                  0.500 0.000        0.731   \n",
       "2          0.110   0.476 0.098                  0.590 0.066        0.689   \n",
       "3          0.106   0.467 0.095                  0.585 0.063        0.682   \n",
       "4          0.092   0.514 0.089                  0.618 0.066        0.688   \n",
       "5          0.089   0.526 0.082                  0.628 0.059        0.706   \n",
       "6          0.091   0.521 0.076                  0.623 0.053        0.710   \n",
       "7          0.101   0.549 0.084                  0.638 0.061        0.709   \n",
       "8          0.103   0.544 0.086                  0.635 0.061        0.703   \n",
       "9          0.108   0.541 0.092                  0.632 0.063        0.697   \n",
       "10         0.102   0.531 0.087                  0.627 0.058        0.694   \n",
       "11         0.104   0.561 0.079                  0.648 0.058        0.735   \n",
       "12         0.102   0.580 0.079                  0.664 0.058        0.735   \n",
       "13         0.107   0.573 0.084                  0.658 0.061        0.732   \n",
       "14         0.109   0.563 0.088                  0.651 0.063        0.726   \n",
       "15         0.097   0.582 0.079                  0.660 0.062        0.744   \n",
       "\n",
       "                 test_average_precision       n_observations        \n",
       "             std                   mean   std           mean   std  \n",
       "n_features                                                          \n",
       "1          0.071                  0.676 0.083        210.000 0.000  \n",
       "2          0.074                  0.668 0.070        210.000 0.000  \n",
       "3          0.076                  0.661 0.071        210.000 0.000  \n",
       "4          0.070                  0.687 0.062        210.000 0.000  \n",
       "5          0.070                  0.698 0.068        210.000 0.000  \n",
       "6          0.068                  0.689 0.068        210.000 0.000  \n",
       "7          0.065                  0.696 0.067        210.000 0.000  \n",
       "8          0.063                  0.688 0.064        210.000 0.000  \n",
       "9          0.063                  0.680 0.064        210.000 0.000  \n",
       "10         0.070                  0.683 0.070        210.000 0.000  \n",
       "11         0.061                  0.714 0.067        210.000 0.000  \n",
       "12         0.061                  0.716 0.068        210.000 0.000  \n",
       "13         0.061                  0.711 0.068        210.000 0.000  \n",
       "14         0.061                  0.702 0.071        210.000 0.000  \n",
       "15         0.062                  0.716 0.074        210.000 0.000  "
      ]
     },
     "execution_count": 17,
     "metadata": {},
     "output_type": "execute_result"
    }
   ],
   "source": [
    "cv_feat_new = njab.sklearn.find_n_best_features(X=X.loc[:, new_features],\n",
    "                                                y=target, name=args.target,\n",
    "                                                groups=target_to_group)\n",
    "cv_feat_new = cv_feat_new.drop('test_case', axis=1).groupby('n_features').agg(['mean', 'std'])\n",
    "cv_feat_new"
   ]
  },
  {
   "cell_type": "markdown",
   "id": "bd57bbac",
   "metadata": {
    "papermill": {
     "duration": 0.045441,
     "end_time": "2024-09-18T04:35:04.874570",
     "exception": false,
     "start_time": "2024-09-18T04:35:04.829129",
     "status": "completed"
    },
    "tags": []
   },
   "source": [
    "### Best number of features by subset of the data:"
   ]
  },
  {
   "cell_type": "code",
   "execution_count": 18,
   "id": "72655713",
   "metadata": {
    "execution": {
     "iopub.execute_input": "2024-09-18T04:35:04.979077Z",
     "iopub.status.busy": "2024-09-18T04:35:04.978706Z",
     "iopub.status.idle": "2024-09-18T04:35:04.992332Z",
     "shell.execute_reply": "2024-09-18T04:35:04.991753Z"
    },
    "papermill": {
     "duration": 0.075054,
     "end_time": "2024-09-18T04:35:04.995021",
     "exception": false,
     "start_time": "2024-09-18T04:35:04.919967",
     "status": "completed"
    },
    "tags": [
     "hide-input"
    ]
   },
   "outputs": [
    {
     "data": {
      "text/html": [
       "<div>\n",
       "<style scoped>\n",
       "    .dataframe tbody tr th:only-of-type {\n",
       "        vertical-align: middle;\n",
       "    }\n",
       "\n",
       "    .dataframe tbody tr th {\n",
       "        vertical-align: top;\n",
       "    }\n",
       "\n",
       "    .dataframe thead th {\n",
       "        text-align: right;\n",
       "    }\n",
       "</style>\n",
       "<table border=\"1\" class=\"dataframe\">\n",
       "  <thead>\n",
       "    <tr style=\"text-align: right;\">\n",
       "      <th></th>\n",
       "      <th>ald</th>\n",
       "      <th>all</th>\n",
       "      <th>new</th>\n",
       "    </tr>\n",
       "  </thead>\n",
       "  <tbody>\n",
       "    <tr>\n",
       "      <th>fit_time</th>\n",
       "      <td>7</td>\n",
       "      <td>9</td>\n",
       "      <td>13</td>\n",
       "    </tr>\n",
       "    <tr>\n",
       "      <th>score_time</th>\n",
       "      <td>7</td>\n",
       "      <td>9</td>\n",
       "      <td>3</td>\n",
       "    </tr>\n",
       "    <tr>\n",
       "      <th>test_precision</th>\n",
       "      <td>13</td>\n",
       "      <td>13</td>\n",
       "      <td>12</td>\n",
       "    </tr>\n",
       "    <tr>\n",
       "      <th>test_recall</th>\n",
       "      <td>12</td>\n",
       "      <td>14</td>\n",
       "      <td>15</td>\n",
       "    </tr>\n",
       "    <tr>\n",
       "      <th>test_f1</th>\n",
       "      <td>13</td>\n",
       "      <td>14</td>\n",
       "      <td>15</td>\n",
       "    </tr>\n",
       "    <tr>\n",
       "      <th>test_balanced_accuracy</th>\n",
       "      <td>13</td>\n",
       "      <td>13</td>\n",
       "      <td>12</td>\n",
       "    </tr>\n",
       "    <tr>\n",
       "      <th>test_roc_auc</th>\n",
       "      <td>13</td>\n",
       "      <td>15</td>\n",
       "      <td>15</td>\n",
       "    </tr>\n",
       "    <tr>\n",
       "      <th>test_average_precision</th>\n",
       "      <td>13</td>\n",
       "      <td>15</td>\n",
       "      <td>15</td>\n",
       "    </tr>\n",
       "    <tr>\n",
       "      <th>n_observations</th>\n",
       "      <td>1</td>\n",
       "      <td>1</td>\n",
       "      <td>1</td>\n",
       "    </tr>\n",
       "  </tbody>\n",
       "</table>\n",
       "</div>"
      ],
      "text/plain": [
       "                        ald  all  new\n",
       "fit_time                  7    9   13\n",
       "score_time                7    9    3\n",
       "test_precision           13   13   12\n",
       "test_recall              12   14   15\n",
       "test_f1                  13   14   15\n",
       "test_balanced_accuracy   13   13   12\n",
       "test_roc_auc             13   15   15\n",
       "test_average_precision   13   15   15\n",
       "n_observations            1    1    1"
      ]
     },
     "execution_count": 18,
     "metadata": {},
     "output_type": "execute_result"
    }
   ],
   "source": [
    "n_feat_best = pd.DataFrame(\n",
    "    {'ald': cv_feat_ald.loc[:, pd.IndexSlice[:, 'mean']].idxmax(),\n",
    "     'all': cv_feat_all.loc[:, pd.IndexSlice[:, 'mean']].idxmax(),\n",
    "     'new': cv_feat_new.loc[:, pd.IndexSlice[:, 'mean']].idxmax()\n",
    "     }\n",
    ").droplevel(-1)\n",
    "n_feat_best"
   ]
  },
  {
   "cell_type": "markdown",
   "id": "2efdc8bf",
   "metadata": {
    "papermill": {
     "duration": 0.088891,
     "end_time": "2024-09-18T04:35:05.130603",
     "exception": false,
     "start_time": "2024-09-18T04:35:05.041712",
     "status": "completed"
    },
    "tags": []
   },
   "source": [
    "## Train, test split\n",
    "Show number of cases in train and test data"
   ]
  },
  {
   "cell_type": "code",
   "execution_count": 19,
   "id": "dc3d3b21",
   "metadata": {
    "execution": {
     "iopub.execute_input": "2024-09-18T04:35:05.274425Z",
     "iopub.status.busy": "2024-09-18T04:35:05.274117Z",
     "iopub.status.idle": "2024-09-18T04:35:05.313718Z",
     "shell.execute_reply": "2024-09-18T04:35:05.313054Z"
    },
    "lines_to_next_cell": 0,
    "papermill": {
     "duration": 0.087359,
     "end_time": "2024-09-18T04:35:05.315039",
     "exception": false,
     "start_time": "2024-09-18T04:35:05.227680",
     "status": "completed"
    },
    "tags": [
     "hide-input"
    ]
   },
   "outputs": [
    {
     "data": {
      "text/html": [
       "<div>\n",
       "<style scoped>\n",
       "    .dataframe tbody tr th:only-of-type {\n",
       "        vertical-align: middle;\n",
       "    }\n",
       "\n",
       "    .dataframe tbody tr th {\n",
       "        vertical-align: top;\n",
       "    }\n",
       "\n",
       "    .dataframe thead th {\n",
       "        text-align: right;\n",
       "    }\n",
       "</style>\n",
       "<table border=\"1\" class=\"dataframe\">\n",
       "  <thead>\n",
       "    <tr style=\"text-align: right;\">\n",
       "      <th></th>\n",
       "      <th>train</th>\n",
       "      <th>test</th>\n",
       "    </tr>\n",
       "  </thead>\n",
       "  <tbody>\n",
       "    <tr>\n",
       "      <th>False</th>\n",
       "      <td>98</td>\n",
       "      <td>24</td>\n",
       "    </tr>\n",
       "    <tr>\n",
       "      <th>True</th>\n",
       "      <td>70</td>\n",
       "      <td>18</td>\n",
       "    </tr>\n",
       "  </tbody>\n",
       "</table>\n",
       "</div>"
      ],
      "text/plain": [
       "       train  test\n",
       "False     98    24\n",
       "True      70    18"
      ]
     },
     "execution_count": 19,
     "metadata": {},
     "output_type": "execute_result"
    }
   ],
   "source": [
    "X_train, X_test, y_train, y_test = sklearn.model_selection.train_test_split(\n",
    "    X,\n",
    "    target,\n",
    "    test_size=.2,\n",
    "    stratify=target_to_group,\n",
    "    random_state=42)\n",
    "idx_train = X_train.index\n",
    "idx_test = X_test.index\n",
    "\n",
    "njab.pandas.combine_value_counts(\n",
    "    pd.concat([y_train, y_test],\n",
    "              axis=1,\n",
    "              ignore_index=True,\n",
    "              ).rename(columns={0: 'train', 1: 'test'})\n",
    ")"
   ]
  },
  {
   "cell_type": "markdown",
   "id": "d3a33fb1",
   "metadata": {
    "papermill": {
     "duration": 0.054063,
     "end_time": "2024-09-18T04:35:05.458176",
     "exception": false,
     "start_time": "2024-09-18T04:35:05.404113",
     "status": "completed"
    },
    "tags": []
   },
   "source": [
    "## Results\n",
    "\n",
    "- `run_model` returns dataclasses with the further needed results\n",
    "- add mrmr selection of data (select best number of features to use instead of fixing it)\n",
    "\n",
    "Save results for final model on entire data, new features and ALD study criteria selected data."
   ]
  },
  {
   "cell_type": "code",
   "execution_count": 20,
   "id": "d3b4b394",
   "metadata": {
    "execution": {
     "iopub.execute_input": "2024-09-18T04:35:05.555378Z",
     "iopub.status.busy": "2024-09-18T04:35:05.555063Z",
     "iopub.status.idle": "2024-09-18T04:35:19.084994Z",
     "shell.execute_reply": "2024-09-18T04:35:19.084333Z"
    },
    "papermill": {
     "duration": 13.579026,
     "end_time": "2024-09-18T04:35:19.086317",
     "exception": false,
     "start_time": "2024-09-18T04:35:05.507291",
     "status": "completed"
    },
    "tags": [
     "hide-input"
    ]
   },
   "outputs": [
    {
     "name": "stderr",
     "output_type": "stream",
     "text": [
      "\r",
      "  0%|          | 0/15 [00:00<?, ?it/s]"
     ]
    },
    {
     "name": "stderr",
     "output_type": "stream",
     "text": [
      "\r",
      " 13%|█▎        | 2/15 [00:00<00:01,  7.95it/s]"
     ]
    },
    {
     "name": "stderr",
     "output_type": "stream",
     "text": [
      "\r",
      " 20%|██        | 3/15 [00:00<00:02,  5.40it/s]"
     ]
    },
    {
     "name": "stderr",
     "output_type": "stream",
     "text": [
      "\r",
      " 27%|██▋       | 4/15 [00:00<00:02,  4.53it/s]"
     ]
    },
    {
     "name": "stderr",
     "output_type": "stream",
     "text": [
      "\r",
      " 33%|███▎      | 5/15 [00:01<00:02,  3.90it/s]"
     ]
    },
    {
     "name": "stderr",
     "output_type": "stream",
     "text": [
      "\r",
      " 40%|████      | 6/15 [00:01<00:02,  3.30it/s]"
     ]
    },
    {
     "name": "stderr",
     "output_type": "stream",
     "text": [
      "\r",
      " 47%|████▋     | 7/15 [00:01<00:02,  3.01it/s]"
     ]
    },
    {
     "name": "stderr",
     "output_type": "stream",
     "text": [
      "\r",
      " 53%|█████▎    | 8/15 [00:02<00:02,  2.85it/s]"
     ]
    },
    {
     "name": "stderr",
     "output_type": "stream",
     "text": [
      "\r",
      " 60%|██████    | 9/15 [00:02<00:02,  2.75it/s]"
     ]
    },
    {
     "name": "stderr",
     "output_type": "stream",
     "text": [
      "\r",
      " 67%|██████▋   | 10/15 [00:03<00:01,  2.82it/s]"
     ]
    },
    {
     "name": "stderr",
     "output_type": "stream",
     "text": [
      "\r",
      " 73%|███████▎  | 11/15 [00:03<00:01,  2.96it/s]"
     ]
    },
    {
     "name": "stderr",
     "output_type": "stream",
     "text": [
      "\r",
      " 80%|████████  | 12/15 [00:03<00:00,  3.00it/s]"
     ]
    },
    {
     "name": "stderr",
     "output_type": "stream",
     "text": [
      "\r",
      " 87%|████████▋ | 13/15 [00:03<00:00,  3.14it/s]"
     ]
    },
    {
     "name": "stderr",
     "output_type": "stream",
     "text": [
      "\r",
      " 93%|█████████▎| 14/15 [00:04<00:00,  3.28it/s]"
     ]
    },
    {
     "name": "stderr",
     "output_type": "stream",
     "text": [
      "\r",
      "100%|██████████| 15/15 [00:04<00:00,  3.46it/s]"
     ]
    },
    {
     "name": "stderr",
     "output_type": "stream",
     "text": [
      "\r",
      "100%|██████████| 15/15 [00:04<00:00,  3.36it/s]"
     ]
    },
    {
     "name": "stderr",
     "output_type": "stream",
     "text": [
      "\n"
     ]
    },
    {
     "name": "stderr",
     "output_type": "stream",
     "text": [
      "\r",
      "  0%|          | 0/15 [00:00<?, ?it/s]"
     ]
    },
    {
     "name": "stderr",
     "output_type": "stream",
     "text": [
      "\r",
      " 20%|██        | 3/15 [00:00<00:00, 22.55it/s]"
     ]
    },
    {
     "name": "stderr",
     "output_type": "stream",
     "text": [
      "\r",
      " 40%|████      | 6/15 [00:00<00:00, 16.55it/s]"
     ]
    },
    {
     "name": "stderr",
     "output_type": "stream",
     "text": [
      "\r",
      " 53%|█████▎    | 8/15 [00:00<00:00, 15.74it/s]"
     ]
    },
    {
     "name": "stderr",
     "output_type": "stream",
     "text": [
      "\r",
      " 67%|██████▋   | 10/15 [00:00<00:00, 14.83it/s]"
     ]
    },
    {
     "name": "stderr",
     "output_type": "stream",
     "text": [
      "\r",
      " 80%|████████  | 12/15 [00:00<00:00, 14.07it/s]"
     ]
    },
    {
     "name": "stderr",
     "output_type": "stream",
     "text": [
      "\r",
      " 93%|█████████▎| 14/15 [00:00<00:00, 14.58it/s]"
     ]
    },
    {
     "name": "stderr",
     "output_type": "stream",
     "text": [
      "\r",
      "100%|██████████| 15/15 [00:00<00:00, 15.16it/s]"
     ]
    },
    {
     "name": "stderr",
     "output_type": "stream",
     "text": [
      "\n"
     ]
    },
    {
     "name": "stderr",
     "output_type": "stream",
     "text": [
      "\r",
      "  0%|          | 0/13 [00:00<?, ?it/s]"
     ]
    },
    {
     "name": "stderr",
     "output_type": "stream",
     "text": [
      "\r",
      " 15%|█▌        | 2/13 [00:00<00:01,  5.55it/s]"
     ]
    },
    {
     "name": "stderr",
     "output_type": "stream",
     "text": [
      "\r",
      " 23%|██▎       | 3/13 [00:00<00:02,  4.79it/s]"
     ]
    },
    {
     "name": "stderr",
     "output_type": "stream",
     "text": [
      "\r",
      " 31%|███       | 4/13 [00:00<00:02,  4.12it/s]"
     ]
    },
    {
     "name": "stderr",
     "output_type": "stream",
     "text": [
      "\r",
      " 38%|███▊      | 5/13 [00:01<00:02,  3.80it/s]"
     ]
    },
    {
     "name": "stderr",
     "output_type": "stream",
     "text": [
      "\r",
      " 46%|████▌     | 6/13 [00:01<00:01,  3.70it/s]"
     ]
    },
    {
     "name": "stderr",
     "output_type": "stream",
     "text": [
      "\r",
      " 54%|█████▍    | 7/13 [00:01<00:01,  3.61it/s]"
     ]
    },
    {
     "name": "stderr",
     "output_type": "stream",
     "text": [
      "\r",
      " 62%|██████▏   | 8/13 [00:02<00:01,  3.69it/s]"
     ]
    },
    {
     "name": "stderr",
     "output_type": "stream",
     "text": [
      "\r",
      " 69%|██████▉   | 9/13 [00:02<00:01,  3.78it/s]"
     ]
    },
    {
     "name": "stderr",
     "output_type": "stream",
     "text": [
      "\r",
      " 77%|███████▋  | 10/13 [00:02<00:00,  3.70it/s]"
     ]
    },
    {
     "name": "stderr",
     "output_type": "stream",
     "text": [
      "\r",
      " 85%|████████▍ | 11/13 [00:02<00:00,  3.83it/s]"
     ]
    },
    {
     "name": "stderr",
     "output_type": "stream",
     "text": [
      "\r",
      " 92%|█████████▏| 12/13 [00:03<00:00,  3.95it/s]"
     ]
    },
    {
     "name": "stderr",
     "output_type": "stream",
     "text": [
      "\r",
      "100%|██████████| 13/13 [00:03<00:00,  4.05it/s]"
     ]
    },
    {
     "name": "stderr",
     "output_type": "stream",
     "text": [
      "\r",
      "100%|██████████| 13/13 [00:03<00:00,  3.95it/s]"
     ]
    },
    {
     "name": "stderr",
     "output_type": "stream",
     "text": [
      "\n"
     ]
    }
   ],
   "source": [
    "splits = Splits(X_train=X.loc[idx_train],\n",
    "                X_test=X.loc[idx_test],\n",
    "                y_train=y_train,\n",
    "                y_test=y_test)\n",
    "results_model_full = njab.sklearn.run_model(\n",
    "    splits,\n",
    "    n_feat_to_select=n_feat_best.loc['test_roc_auc', 'all'])\n",
    "results_model_full.name = f'{args.model_key} all'\n",
    "fname = args.out_folder / f'results_{results_model_full.name}.pkl'\n",
    "files_out[fname.name] = fname\n",
    "pimmslearn.io.to_pickle(results_model_full, fname)\n",
    "\n",
    "splits = Splits(X_train=X.loc[idx_train, new_features],\n",
    "                X_test=X.loc[idx_test, new_features],\n",
    "                y_train=y_train,\n",
    "                y_test=y_test)\n",
    "results_model_new = njab.sklearn.run_model(\n",
    "    splits,\n",
    "    n_feat_to_select=n_feat_best.loc['test_roc_auc', 'new'])\n",
    "results_model_new.name = f'{args.model_key} new'\n",
    "fname = args.out_folder / f'results_{results_model_new.name}.pkl'\n",
    "files_out[fname.name] = fname\n",
    "pimmslearn.io.to_pickle(results_model_new, fname)\n",
    "\n",
    "splits_ald = Splits(\n",
    "    X_train=ald_study.loc[idx_train],\n",
    "    X_test=ald_study.loc[idx_test],\n",
    "    y_train=y_train,\n",
    "    y_test=y_test)\n",
    "results_ald_full = njab.sklearn.run_model(\n",
    "    splits_ald,\n",
    "    n_feat_to_select=n_feat_best.loc['test_roc_auc', 'ald'])\n",
    "results_ald_full.name = 'ALD study all'\n",
    "fname = args.out_folder / f'results_{results_ald_full.name}.pkl'\n",
    "files_out[fname.name] = fname\n",
    "pimmslearn.io.to_pickle(results_ald_full, fname)"
   ]
  },
  {
   "cell_type": "markdown",
   "id": "0ad96ff4",
   "metadata": {
    "papermill": {
     "duration": 0.05111,
     "end_time": "2024-09-18T04:35:19.188441",
     "exception": false,
     "start_time": "2024-09-18T04:35:19.137331",
     "status": "completed"
    },
    "tags": []
   },
   "source": [
    "### ROC-AUC on test split"
   ]
  },
  {
   "cell_type": "code",
   "execution_count": 21,
   "id": "04b82583",
   "metadata": {
    "execution": {
     "iopub.execute_input": "2024-09-18T04:35:19.290454Z",
     "iopub.status.busy": "2024-09-18T04:35:19.289708Z",
     "iopub.status.idle": "2024-09-18T04:35:20.498099Z",
     "shell.execute_reply": "2024-09-18T04:35:20.497439Z"
    },
    "papermill": {
     "duration": 1.261123,
     "end_time": "2024-09-18T04:35:20.499612",
     "exception": false,
     "start_time": "2024-09-18T04:35:19.238489",
     "status": "completed"
    },
    "tags": [
     "hide-input"
    ]
   },
   "outputs": [
    {
     "name": "stderr",
     "output_type": "stream",
     "text": [
      "pimmslearn.plotting - INFO     Saved Figures to runs/alzheimer_study/diff_analysis/AD/PI_vs_TRKNN/auc_roc_curve.pdf\n"
     ]
    },
    {
     "data": {
      "image/png": "[encoded data removed]",
      "text/plain": [
       "<Figure size 367.5x367.5 with 1 Axes>"
      ]
     },
     "metadata": {},
     "output_type": "display_data"
    }
   ],
   "source": [
    "fig, ax = plt.subplots(1, 1, figsize=figsize)\n",
    "plot_split_auc(results_ald_full.test, results_ald_full.name, ax)\n",
    "plot_split_auc(results_model_full.test, results_model_full.name, ax)\n",
    "plot_split_auc(results_model_new.test, results_model_new.name, ax)\n",
    "fname = args.out_folder / 'auc_roc_curve.pdf'\n",
    "files_out[fname.name] = fname\n",
    "pimmslearn.savefig(fig, name=fname)"
   ]
  },
  {
   "cell_type": "markdown",
   "id": "9e35c686",
   "metadata": {
    "papermill": {
     "duration": 0.075429,
     "end_time": "2024-09-18T04:35:20.675995",
     "exception": false,
     "start_time": "2024-09-18T04:35:20.600566",
     "status": "completed"
    },
    "tags": []
   },
   "source": [
    "Data used to plot ROC:"
   ]
  },
  {
   "cell_type": "code",
   "execution_count": 22,
   "id": "322281db",
   "metadata": {
    "execution": {
     "iopub.execute_input": "2024-09-18T04:35:20.791384Z",
     "iopub.status.busy": "2024-09-18T04:35:20.790821Z",
     "iopub.status.idle": "2024-09-18T04:35:20.992402Z",
     "shell.execute_reply": "2024-09-18T04:35:20.991684Z"
    },
    "papermill": {
     "duration": 0.266275,
     "end_time": "2024-09-18T04:35:20.993807",
     "exception": false,
     "start_time": "2024-09-18T04:35:20.727532",
     "status": "completed"
    },
    "tags": [
     "hide-input"
    ]
   },
   "outputs": [
    {
     "data": {
      "text/html": [
       "<div>\n",
       "<style scoped>\n",
       "    .dataframe tbody tr th:only-of-type {\n",
       "        vertical-align: middle;\n",
       "    }\n",
       "\n",
       "    .dataframe tbody tr th {\n",
       "        vertical-align: top;\n",
       "    }\n",
       "\n",
       "    .dataframe thead tr th {\n",
       "        text-align: left;\n",
       "    }\n",
       "</style>\n",
       "<table border=\"1\" class=\"dataframe\">\n",
       "  <thead>\n",
       "    <tr>\n",
       "      <th></th>\n",
       "      <th colspan=\"2\" halign=\"left\">ALD study all</th>\n",
       "      <th colspan=\"2\" halign=\"left\">TRKNN all</th>\n",
       "      <th colspan=\"2\" halign=\"left\">TRKNN new</th>\n",
       "    </tr>\n",
       "    <tr>\n",
       "      <th></th>\n",
       "      <th>fpr</th>\n",
       "      <th>tpr</th>\n",
       "      <th>fpr</th>\n",
       "      <th>tpr</th>\n",
       "      <th>fpr</th>\n",
       "      <th>tpr</th>\n",
       "    </tr>\n",
       "  </thead>\n",
       "  <tbody>\n",
       "    <tr>\n",
       "      <th>0</th>\n",
       "      <td>0.000</td>\n",
       "      <td>0.000</td>\n",
       "      <td>0.000</td>\n",
       "      <td>0.000</td>\n",
       "      <td>0.000</td>\n",
       "      <td>0.000</td>\n",
       "    </tr>\n",
       "    <tr>\n",
       "      <th>1</th>\n",
       "      <td>0.000</td>\n",
       "      <td>0.056</td>\n",
       "      <td>0.000</td>\n",
       "      <td>0.056</td>\n",
       "      <td>0.042</td>\n",
       "      <td>0.000</td>\n",
       "    </tr>\n",
       "    <tr>\n",
       "      <th>2</th>\n",
       "      <td>0.000</td>\n",
       "      <td>0.333</td>\n",
       "      <td>0.000</td>\n",
       "      <td>0.222</td>\n",
       "      <td>0.042</td>\n",
       "      <td>0.222</td>\n",
       "    </tr>\n",
       "    <tr>\n",
       "      <th>3</th>\n",
       "      <td>0.042</td>\n",
       "      <td>0.333</td>\n",
       "      <td>0.042</td>\n",
       "      <td>0.222</td>\n",
       "      <td>0.083</td>\n",
       "      <td>0.222</td>\n",
       "    </tr>\n",
       "    <tr>\n",
       "      <th>4</th>\n",
       "      <td>0.042</td>\n",
       "      <td>0.833</td>\n",
       "      <td>0.042</td>\n",
       "      <td>0.389</td>\n",
       "      <td>0.083</td>\n",
       "      <td>0.333</td>\n",
       "    </tr>\n",
       "    <tr>\n",
       "      <th>5</th>\n",
       "      <td>0.292</td>\n",
       "      <td>0.833</td>\n",
       "      <td>0.125</td>\n",
       "      <td>0.389</td>\n",
       "      <td>0.167</td>\n",
       "      <td>0.333</td>\n",
       "    </tr>\n",
       "    <tr>\n",
       "      <th>6</th>\n",
       "      <td>0.292</td>\n",
       "      <td>0.889</td>\n",
       "      <td>0.125</td>\n",
       "      <td>0.556</td>\n",
       "      <td>0.167</td>\n",
       "      <td>0.500</td>\n",
       "    </tr>\n",
       "    <tr>\n",
       "      <th>7</th>\n",
       "      <td>0.458</td>\n",
       "      <td>0.889</td>\n",
       "      <td>0.250</td>\n",
       "      <td>0.556</td>\n",
       "      <td>0.208</td>\n",
       "      <td>0.500</td>\n",
       "    </tr>\n",
       "    <tr>\n",
       "      <th>8</th>\n",
       "      <td>0.458</td>\n",
       "      <td>0.944</td>\n",
       "      <td>0.250</td>\n",
       "      <td>0.611</td>\n",
       "      <td>0.208</td>\n",
       "      <td>0.611</td>\n",
       "    </tr>\n",
       "    <tr>\n",
       "      <th>9</th>\n",
       "      <td>0.542</td>\n",
       "      <td>0.944</td>\n",
       "      <td>0.292</td>\n",
       "      <td>0.611</td>\n",
       "      <td>0.333</td>\n",
       "      <td>0.611</td>\n",
       "    </tr>\n",
       "    <tr>\n",
       "      <th>10</th>\n",
       "      <td>0.542</td>\n",
       "      <td>1.000</td>\n",
       "      <td>0.292</td>\n",
       "      <td>0.667</td>\n",
       "      <td>0.333</td>\n",
       "      <td>0.667</td>\n",
       "    </tr>\n",
       "    <tr>\n",
       "      <th>11</th>\n",
       "      <td>1.000</td>\n",
       "      <td>1.000</td>\n",
       "      <td>0.333</td>\n",
       "      <td>0.667</td>\n",
       "      <td>0.458</td>\n",
       "      <td>0.667</td>\n",
       "    </tr>\n",
       "    <tr>\n",
       "      <th>12</th>\n",
       "      <td>NaN</td>\n",
       "      <td>NaN</td>\n",
       "      <td>0.333</td>\n",
       "      <td>0.778</td>\n",
       "      <td>0.458</td>\n",
       "      <td>0.722</td>\n",
       "    </tr>\n",
       "    <tr>\n",
       "      <th>13</th>\n",
       "      <td>NaN</td>\n",
       "      <td>NaN</td>\n",
       "      <td>0.417</td>\n",
       "      <td>0.778</td>\n",
       "      <td>0.500</td>\n",
       "      <td>0.722</td>\n",
       "    </tr>\n",
       "    <tr>\n",
       "      <th>14</th>\n",
       "      <td>NaN</td>\n",
       "      <td>NaN</td>\n",
       "      <td>0.417</td>\n",
       "      <td>0.833</td>\n",
       "      <td>0.500</td>\n",
       "      <td>0.778</td>\n",
       "    </tr>\n",
       "    <tr>\n",
       "      <th>15</th>\n",
       "      <td>NaN</td>\n",
       "      <td>NaN</td>\n",
       "      <td>0.458</td>\n",
       "      <td>0.833</td>\n",
       "      <td>0.542</td>\n",
       "      <td>0.778</td>\n",
       "    </tr>\n",
       "    <tr>\n",
       "      <th>16</th>\n",
       "      <td>NaN</td>\n",
       "      <td>NaN</td>\n",
       "      <td>0.458</td>\n",
       "      <td>0.944</td>\n",
       "      <td>0.542</td>\n",
       "      <td>0.944</td>\n",
       "    </tr>\n",
       "    <tr>\n",
       "      <th>17</th>\n",
       "      <td>NaN</td>\n",
       "      <td>NaN</td>\n",
       "      <td>0.500</td>\n",
       "      <td>0.944</td>\n",
       "      <td>0.708</td>\n",
       "      <td>0.944</td>\n",
       "    </tr>\n",
       "    <tr>\n",
       "      <th>18</th>\n",
       "      <td>NaN</td>\n",
       "      <td>NaN</td>\n",
       "      <td>0.500</td>\n",
       "      <td>1.000</td>\n",
       "      <td>0.708</td>\n",
       "      <td>1.000</td>\n",
       "    </tr>\n",
       "    <tr>\n",
       "      <th>19</th>\n",
       "      <td>NaN</td>\n",
       "      <td>NaN</td>\n",
       "      <td>1.000</td>\n",
       "      <td>1.000</td>\n",
       "      <td>1.000</td>\n",
       "      <td>1.000</td>\n",
       "    </tr>\n",
       "  </tbody>\n",
       "</table>\n",
       "</div>"
      ],
      "text/plain": [
       "   ALD study all       TRKNN all       TRKNN new      \n",
       "             fpr   tpr       fpr   tpr       fpr   tpr\n",
       "0          0.000 0.000     0.000 0.000     0.000 0.000\n",
       "1          0.000 0.056     0.000 0.056     0.042 0.000\n",
       "2          0.000 0.333     0.000 0.222     0.042 0.222\n",
       "3          0.042 0.333     0.042 0.222     0.083 0.222\n",
       "4          0.042 0.833     0.042 0.389     0.083 0.333\n",
       "5          0.292 0.833     0.125 0.389     0.167 0.333\n",
       "6          0.292 0.889     0.125 0.556     0.167 0.500\n",
       "7          0.458 0.889     0.250 0.556     0.208 0.500\n",
       "8          0.458 0.944     0.250 0.611     0.208 0.611\n",
       "9          0.542 0.944     0.292 0.611     0.333 0.611\n",
       "10         0.542 1.000     0.292 0.667     0.333 0.667\n",
       "11         1.000 1.000     0.333 0.667     0.458 0.667\n",
       "12           NaN   NaN     0.333 0.778     0.458 0.722\n",
       "13           NaN   NaN     0.417 0.778     0.500 0.722\n",
       "14           NaN   NaN     0.417 0.833     0.500 0.778\n",
       "15           NaN   NaN     0.458 0.833     0.542 0.778\n",
       "16           NaN   NaN     0.458 0.944     0.542 0.944\n",
       "17           NaN   NaN     0.500 0.944     0.708 0.944\n",
       "18           NaN   NaN     0.500 1.000     0.708 1.000\n",
       "19           NaN   NaN     1.000 1.000     1.000 1.000"
      ]
     },
     "execution_count": 22,
     "metadata": {},
     "output_type": "execute_result"
    }
   ],
   "source": [
    "res = [results_ald_full, results_model_full, results_model_new]\n",
    "\n",
    "auc_roc_curve = parse_roc(*res)\n",
    "auc_roc_curve.to_excel(fname.with_suffix('.xlsx'))\n",
    "auc_roc_curve"
   ]
  },
  {
   "cell_type": "markdown",
   "id": "46e9a3f2-89aa-4bd5-a083-d8e16815020a",
   "metadata": {
    "papermill": {
     "duration": 0.051609,
     "end_time": "2024-09-18T04:35:21.130706",
     "exception": false,
     "start_time": "2024-09-18T04:35:21.079097",
     "status": "completed"
    },
    "tags": []
   },
   "source": [
    "### Features selected for final models"
   ]
  },
  {
   "cell_type": "code",
   "execution_count": 23,
   "id": "9e1bb173",
   "metadata": {
    "execution": {
     "iopub.execute_input": "2024-09-18T04:35:21.247570Z",
     "iopub.status.busy": "2024-09-18T04:35:21.247255Z",
     "iopub.status.idle": "2024-09-18T04:35:21.278466Z",
     "shell.execute_reply": "2024-09-18T04:35:21.277780Z"
    },
    "papermill": {
     "duration": 0.097167,
     "end_time": "2024-09-18T04:35:21.279593",
     "exception": false,
     "start_time": "2024-09-18T04:35:21.182426",
     "status": "completed"
    },
    "tags": [
     "hide-input"
    ]
   },
   "outputs": [
    {
     "data": {
      "text/html": [
       "<div>\n",
       "<style scoped>\n",
       "    .dataframe tbody tr th:only-of-type {\n",
       "        vertical-align: middle;\n",
       "    }\n",
       "\n",
       "    .dataframe tbody tr th {\n",
       "        vertical-align: top;\n",
       "    }\n",
       "\n",
       "    .dataframe thead th {\n",
       "        text-align: right;\n",
       "    }\n",
       "</style>\n",
       "<table border=\"1\" class=\"dataframe\">\n",
       "  <thead>\n",
       "    <tr style=\"text-align: right;\">\n",
       "      <th></th>\n",
       "      <th>ALD study all</th>\n",
       "      <th>TRKNN all</th>\n",
       "      <th>TRKNN new</th>\n",
       "    </tr>\n",
       "    <tr>\n",
       "      <th>rank</th>\n",
       "      <th></th>\n",
       "      <th></th>\n",
       "      <th></th>\n",
       "    </tr>\n",
       "  </thead>\n",
       "  <tbody>\n",
       "    <tr>\n",
       "      <th>0</th>\n",
       "      <td>P10636-2;P10636-6</td>\n",
       "      <td>P10636-2;P10636-6</td>\n",
       "      <td>P31321</td>\n",
       "    </tr>\n",
       "    <tr>\n",
       "      <th>1</th>\n",
       "      <td>P0DJI8</td>\n",
       "      <td>P08670</td>\n",
       "      <td>P61088</td>\n",
       "    </tr>\n",
       "    <tr>\n",
       "      <th>2</th>\n",
       "      <td>P01258;P01258-2;P06881</td>\n",
       "      <td>P01011</td>\n",
       "      <td>Q14894</td>\n",
       "    </tr>\n",
       "    <tr>\n",
       "      <th>3</th>\n",
       "      <td>Q13231;Q13231-3</td>\n",
       "      <td>Q9Y2T3;Q9Y2T3-3</td>\n",
       "      <td>F8WBF9;Q5TH30;Q9UGV2;Q9UGV2-2;Q9UGV2-3</td>\n",
       "    </tr>\n",
       "    <tr>\n",
       "      <th>4</th>\n",
       "      <td>Q9Y2T3;Q9Y2T3-3</td>\n",
       "      <td>P10909-3</td>\n",
       "      <td>Q9NUQ9</td>\n",
       "    </tr>\n",
       "    <tr>\n",
       "      <th>5</th>\n",
       "      <td>P00338;P00338-3</td>\n",
       "      <td>P61981</td>\n",
       "      <td>Q9GZT8;Q9GZT8-2</td>\n",
       "    </tr>\n",
       "    <tr>\n",
       "      <th>6</th>\n",
       "      <td>P04075</td>\n",
       "      <td>P15151-2</td>\n",
       "      <td>J3KSJ8;Q9UD71;Q9UD71-2</td>\n",
       "    </tr>\n",
       "    <tr>\n",
       "      <th>7</th>\n",
       "      <td>P14174</td>\n",
       "      <td>P04075</td>\n",
       "      <td>A0A0C4DGV4;E9PLX3;O43504;R4GMU8</td>\n",
       "    </tr>\n",
       "    <tr>\n",
       "      <th>8</th>\n",
       "      <td>P61981</td>\n",
       "      <td>P25189;P25189-2</td>\n",
       "      <td>Q96GD0</td>\n",
       "    </tr>\n",
       "    <tr>\n",
       "      <th>9</th>\n",
       "      <td>P08294</td>\n",
       "      <td>P14174</td>\n",
       "      <td>A0A0J9YW36;Q9NZ72;Q9NZ72-2</td>\n",
       "    </tr>\n",
       "    <tr>\n",
       "      <th>10</th>\n",
       "      <td>P63104</td>\n",
       "      <td>P63104</td>\n",
       "      <td>Q9H741</td>\n",
       "    </tr>\n",
       "    <tr>\n",
       "      <th>11</th>\n",
       "      <td>C9JF17;P05090</td>\n",
       "      <td>P00492</td>\n",
       "      <td>P51688</td>\n",
       "    </tr>\n",
       "    <tr>\n",
       "      <th>12</th>\n",
       "      <td>Q6EMK4</td>\n",
       "      <td>P00338;P00338-3</td>\n",
       "      <td>P01743</td>\n",
       "    </tr>\n",
       "    <tr>\n",
       "      <th>13</th>\n",
       "      <td>None</td>\n",
       "      <td>Q6EMK4</td>\n",
       "      <td>A0A1W2PQ94;B4DS77;B4DS77-2;B4DS77-3</td>\n",
       "    </tr>\n",
       "    <tr>\n",
       "      <th>14</th>\n",
       "      <td>None</td>\n",
       "      <td>Q14894</td>\n",
       "      <td>P31150</td>\n",
       "    </tr>\n",
       "  </tbody>\n",
       "</table>\n",
       "</div>"
      ],
      "text/plain": [
       "               ALD study all          TRKNN all  \\\n",
       "rank                                              \n",
       "0          P10636-2;P10636-6  P10636-2;P10636-6   \n",
       "1                     P0DJI8             P08670   \n",
       "2     P01258;P01258-2;P06881             P01011   \n",
       "3            Q13231;Q13231-3    Q9Y2T3;Q9Y2T3-3   \n",
       "4            Q9Y2T3;Q9Y2T3-3           P10909-3   \n",
       "5            P00338;P00338-3             P61981   \n",
       "6                     P04075           P15151-2   \n",
       "7                     P14174             P04075   \n",
       "8                     P61981    P25189;P25189-2   \n",
       "9                     P08294             P14174   \n",
       "10                    P63104             P63104   \n",
       "11             C9JF17;P05090             P00492   \n",
       "12                    Q6EMK4    P00338;P00338-3   \n",
       "13                      None             Q6EMK4   \n",
       "14                      None             Q14894   \n",
       "\n",
       "                                   TRKNN new  \n",
       "rank                                          \n",
       "0                                     P31321  \n",
       "1                                     P61088  \n",
       "2                                     Q14894  \n",
       "3     F8WBF9;Q5TH30;Q9UGV2;Q9UGV2-2;Q9UGV2-3  \n",
       "4                                     Q9NUQ9  \n",
       "5                            Q9GZT8;Q9GZT8-2  \n",
       "6                     J3KSJ8;Q9UD71;Q9UD71-2  \n",
       "7            A0A0C4DGV4;E9PLX3;O43504;R4GMU8  \n",
       "8                                     Q96GD0  \n",
       "9                 A0A0J9YW36;Q9NZ72;Q9NZ72-2  \n",
       "10                                    Q9H741  \n",
       "11                                    P51688  \n",
       "12                                    P01743  \n",
       "13       A0A1W2PQ94;B4DS77;B4DS77-2;B4DS77-3  \n",
       "14                                    P31150  "
      ]
     },
     "execution_count": 23,
     "metadata": {},
     "output_type": "execute_result"
    }
   ],
   "source": [
    "selected_features = pd.DataFrame(\n",
    "    [results_ald_full.selected_features,\n",
    "     results_model_full.selected_features,\n",
    "     results_model_new.selected_features],\n",
    "    index=[\n",
    "        results_ald_full.name,\n",
    "        results_model_full.name,\n",
    "        results_model_new.name]\n",
    ").T\n",
    "selected_features.index.name = 'rank'\n",
    "fname = args.out_folder / 'mrmr_feat_by_model.xlsx'\n",
    "files_out[fname.name] = fname\n",
    "selected_features.to_excel(fname)\n",
    "selected_features"
   ]
  },
  {
   "cell_type": "markdown",
   "id": "ce227174",
   "metadata": {
    "papermill": {
     "duration": 0.051195,
     "end_time": "2024-09-18T04:35:21.383136",
     "exception": false,
     "start_time": "2024-09-18T04:35:21.331941",
     "status": "completed"
    },
    "tags": []
   },
   "source": [
    "### Precision-Recall plot on test data"
   ]
  },
  {
   "cell_type": "code",
   "execution_count": 24,
   "id": "56ea0d50",
   "metadata": {
    "execution": {
     "iopub.execute_input": "2024-09-18T04:35:21.558162Z",
     "iopub.status.busy": "2024-09-18T04:35:21.557847Z",
     "iopub.status.idle": "2024-09-18T04:35:22.413438Z",
     "shell.execute_reply": "2024-09-18T04:35:22.412626Z"
    },
    "papermill": {
     "duration": 0.968013,
     "end_time": "2024-09-18T04:35:22.414780",
     "exception": false,
     "start_time": "2024-09-18T04:35:21.446767",
     "status": "completed"
    },
    "tags": [
     "hide-input"
    ]
   },
   "outputs": [
    {
     "name": "stderr",
     "output_type": "stream",
     "text": [
      "pimmslearn.plotting - INFO     Saved Figures to runs/alzheimer_study/diff_analysis/AD/PI_vs_TRKNN/prec_recall_curve.pdf\n"
     ]
    },
    {
     "data": {
      "image/png": "[encoded data removed]",
      "text/plain": [
       "<Figure size 367.5x367.5 with 1 Axes>"
      ]
     },
     "metadata": {},
     "output_type": "display_data"
    }
   ],
   "source": [
    "fig, ax = plt.subplots(1, 1, figsize=figsize)\n",
    "\n",
    "ax = plot_split_prc(results_ald_full.test, results_ald_full.name, ax)\n",
    "ax = plot_split_prc(results_model_full.test, results_model_full.name, ax)\n",
    "ax = plot_split_prc(results_model_new.test, results_model_new.name, ax)\n",
    "fname = folder = args.out_folder / 'prec_recall_curve.pdf'\n",
    "files_out[fname.name] = fname\n",
    "pimmslearn.savefig(fig, name=fname)"
   ]
  },
  {
   "cell_type": "markdown",
   "id": "bc9e560d",
   "metadata": {
    "papermill": {
     "duration": 0.054035,
     "end_time": "2024-09-18T04:35:22.528314",
     "exception": false,
     "start_time": "2024-09-18T04:35:22.474279",
     "status": "completed"
    },
    "tags": []
   },
   "source": [
    "Data used to plot PRC:"
   ]
  },
  {
   "cell_type": "code",
   "execution_count": 25,
   "id": "a9f5e5ce",
   "metadata": {
    "execution": {
     "iopub.execute_input": "2024-09-18T04:35:22.640973Z",
     "iopub.status.busy": "2024-09-18T04:35:22.640424Z",
     "iopub.status.idle": "2024-09-18T04:35:22.690731Z",
     "shell.execute_reply": "2024-09-18T04:35:22.689980Z"
    },
    "papermill": {
     "duration": 0.107085,
     "end_time": "2024-09-18T04:35:22.692123",
     "exception": false,
     "start_time": "2024-09-18T04:35:22.585038",
     "status": "completed"
    },
    "tags": [
     "hide-input"
    ]
   },
   "outputs": [
    {
     "data": {
      "text/html": [
       "<div>\n",
       "<style scoped>\n",
       "    .dataframe tbody tr th:only-of-type {\n",
       "        vertical-align: middle;\n",
       "    }\n",
       "\n",
       "    .dataframe tbody tr th {\n",
       "        vertical-align: top;\n",
       "    }\n",
       "\n",
       "    .dataframe thead tr th {\n",
       "        text-align: left;\n",
       "    }\n",
       "</style>\n",
       "<table border=\"1\" class=\"dataframe\">\n",
       "  <thead>\n",
       "    <tr>\n",
       "      <th></th>\n",
       "      <th colspan=\"2\" halign=\"left\">ALD study all</th>\n",
       "      <th colspan=\"2\" halign=\"left\">TRKNN all</th>\n",
       "      <th colspan=\"2\" halign=\"left\">TRKNN new</th>\n",
       "    </tr>\n",
       "    <tr>\n",
       "      <th></th>\n",
       "      <th>precision</th>\n",
       "      <th>tpr</th>\n",
       "      <th>precision</th>\n",
       "      <th>tpr</th>\n",
       "      <th>precision</th>\n",
       "      <th>tpr</th>\n",
       "    </tr>\n",
       "  </thead>\n",
       "  <tbody>\n",
       "    <tr>\n",
       "      <th>0</th>\n",
       "      <td>0.429</td>\n",
       "      <td>1.000</td>\n",
       "      <td>0.429</td>\n",
       "      <td>1.000</td>\n",
       "      <td>0.429</td>\n",
       "      <td>1.000</td>\n",
       "    </tr>\n",
       "    <tr>\n",
       "      <th>1</th>\n",
       "      <td>0.439</td>\n",
       "      <td>1.000</td>\n",
       "      <td>0.439</td>\n",
       "      <td>1.000</td>\n",
       "      <td>0.439</td>\n",
       "      <td>1.000</td>\n",
       "    </tr>\n",
       "    <tr>\n",
       "      <th>2</th>\n",
       "      <td>0.450</td>\n",
       "      <td>1.000</td>\n",
       "      <td>0.450</td>\n",
       "      <td>1.000</td>\n",
       "      <td>0.450</td>\n",
       "      <td>1.000</td>\n",
       "    </tr>\n",
       "    <tr>\n",
       "      <th>3</th>\n",
       "      <td>0.462</td>\n",
       "      <td>1.000</td>\n",
       "      <td>0.462</td>\n",
       "      <td>1.000</td>\n",
       "      <td>0.462</td>\n",
       "      <td>1.000</td>\n",
       "    </tr>\n",
       "    <tr>\n",
       "      <th>4</th>\n",
       "      <td>0.474</td>\n",
       "      <td>1.000</td>\n",
       "      <td>0.474</td>\n",
       "      <td>1.000</td>\n",
       "      <td>0.474</td>\n",
       "      <td>1.000</td>\n",
       "    </tr>\n",
       "    <tr>\n",
       "      <th>5</th>\n",
       "      <td>0.486</td>\n",
       "      <td>1.000</td>\n",
       "      <td>0.486</td>\n",
       "      <td>1.000</td>\n",
       "      <td>0.486</td>\n",
       "      <td>1.000</td>\n",
       "    </tr>\n",
       "    <tr>\n",
       "      <th>6</th>\n",
       "      <td>0.500</td>\n",
       "      <td>1.000</td>\n",
       "      <td>0.500</td>\n",
       "      <td>1.000</td>\n",
       "      <td>0.500</td>\n",
       "      <td>1.000</td>\n",
       "    </tr>\n",
       "    <tr>\n",
       "      <th>7</th>\n",
       "      <td>0.514</td>\n",
       "      <td>1.000</td>\n",
       "      <td>0.514</td>\n",
       "      <td>1.000</td>\n",
       "      <td>0.514</td>\n",
       "      <td>1.000</td>\n",
       "    </tr>\n",
       "    <tr>\n",
       "      <th>8</th>\n",
       "      <td>0.529</td>\n",
       "      <td>1.000</td>\n",
       "      <td>0.529</td>\n",
       "      <td>1.000</td>\n",
       "      <td>0.500</td>\n",
       "      <td>0.944</td>\n",
       "    </tr>\n",
       "    <tr>\n",
       "      <th>9</th>\n",
       "      <td>0.545</td>\n",
       "      <td>1.000</td>\n",
       "      <td>0.545</td>\n",
       "      <td>1.000</td>\n",
       "      <td>0.515</td>\n",
       "      <td>0.944</td>\n",
       "    </tr>\n",
       "    <tr>\n",
       "      <th>10</th>\n",
       "      <td>0.562</td>\n",
       "      <td>1.000</td>\n",
       "      <td>0.562</td>\n",
       "      <td>1.000</td>\n",
       "      <td>0.531</td>\n",
       "      <td>0.944</td>\n",
       "    </tr>\n",
       "    <tr>\n",
       "      <th>11</th>\n",
       "      <td>0.581</td>\n",
       "      <td>1.000</td>\n",
       "      <td>0.581</td>\n",
       "      <td>1.000</td>\n",
       "      <td>0.548</td>\n",
       "      <td>0.944</td>\n",
       "    </tr>\n",
       "    <tr>\n",
       "      <th>12</th>\n",
       "      <td>0.567</td>\n",
       "      <td>0.944</td>\n",
       "      <td>0.600</td>\n",
       "      <td>1.000</td>\n",
       "      <td>0.567</td>\n",
       "      <td>0.944</td>\n",
       "    </tr>\n",
       "    <tr>\n",
       "      <th>13</th>\n",
       "      <td>0.586</td>\n",
       "      <td>0.944</td>\n",
       "      <td>0.586</td>\n",
       "      <td>0.944</td>\n",
       "      <td>0.552</td>\n",
       "      <td>0.889</td>\n",
       "    </tr>\n",
       "    <tr>\n",
       "      <th>14</th>\n",
       "      <td>0.607</td>\n",
       "      <td>0.944</td>\n",
       "      <td>0.607</td>\n",
       "      <td>0.944</td>\n",
       "      <td>0.536</td>\n",
       "      <td>0.833</td>\n",
       "    </tr>\n",
       "    <tr>\n",
       "      <th>15</th>\n",
       "      <td>0.593</td>\n",
       "      <td>0.889</td>\n",
       "      <td>0.593</td>\n",
       "      <td>0.889</td>\n",
       "      <td>0.519</td>\n",
       "      <td>0.778</td>\n",
       "    </tr>\n",
       "    <tr>\n",
       "      <th>16</th>\n",
       "      <td>0.615</td>\n",
       "      <td>0.889</td>\n",
       "      <td>0.577</td>\n",
       "      <td>0.833</td>\n",
       "      <td>0.538</td>\n",
       "      <td>0.778</td>\n",
       "    </tr>\n",
       "    <tr>\n",
       "      <th>17</th>\n",
       "      <td>0.640</td>\n",
       "      <td>0.889</td>\n",
       "      <td>0.600</td>\n",
       "      <td>0.833</td>\n",
       "      <td>0.520</td>\n",
       "      <td>0.722</td>\n",
       "    </tr>\n",
       "    <tr>\n",
       "      <th>18</th>\n",
       "      <td>0.667</td>\n",
       "      <td>0.889</td>\n",
       "      <td>0.583</td>\n",
       "      <td>0.778</td>\n",
       "      <td>0.542</td>\n",
       "      <td>0.722</td>\n",
       "    </tr>\n",
       "    <tr>\n",
       "      <th>19</th>\n",
       "      <td>0.696</td>\n",
       "      <td>0.889</td>\n",
       "      <td>0.609</td>\n",
       "      <td>0.778</td>\n",
       "      <td>0.522</td>\n",
       "      <td>0.667</td>\n",
       "    </tr>\n",
       "    <tr>\n",
       "      <th>20</th>\n",
       "      <td>0.682</td>\n",
       "      <td>0.833</td>\n",
       "      <td>0.636</td>\n",
       "      <td>0.778</td>\n",
       "      <td>0.545</td>\n",
       "      <td>0.667</td>\n",
       "    </tr>\n",
       "    <tr>\n",
       "      <th>21</th>\n",
       "      <td>0.714</td>\n",
       "      <td>0.833</td>\n",
       "      <td>0.619</td>\n",
       "      <td>0.722</td>\n",
       "      <td>0.571</td>\n",
       "      <td>0.667</td>\n",
       "    </tr>\n",
       "    <tr>\n",
       "      <th>22</th>\n",
       "      <td>0.750</td>\n",
       "      <td>0.833</td>\n",
       "      <td>0.600</td>\n",
       "      <td>0.667</td>\n",
       "      <td>0.600</td>\n",
       "      <td>0.667</td>\n",
       "    </tr>\n",
       "    <tr>\n",
       "      <th>23</th>\n",
       "      <td>0.789</td>\n",
       "      <td>0.833</td>\n",
       "      <td>0.632</td>\n",
       "      <td>0.667</td>\n",
       "      <td>0.579</td>\n",
       "      <td>0.611</td>\n",
       "    </tr>\n",
       "    <tr>\n",
       "      <th>24</th>\n",
       "      <td>0.833</td>\n",
       "      <td>0.833</td>\n",
       "      <td>0.611</td>\n",
       "      <td>0.611</td>\n",
       "      <td>0.611</td>\n",
       "      <td>0.611</td>\n",
       "    </tr>\n",
       "    <tr>\n",
       "      <th>25</th>\n",
       "      <td>0.882</td>\n",
       "      <td>0.833</td>\n",
       "      <td>0.647</td>\n",
       "      <td>0.611</td>\n",
       "      <td>0.647</td>\n",
       "      <td>0.611</td>\n",
       "    </tr>\n",
       "    <tr>\n",
       "      <th>26</th>\n",
       "      <td>0.938</td>\n",
       "      <td>0.833</td>\n",
       "      <td>0.625</td>\n",
       "      <td>0.556</td>\n",
       "      <td>0.688</td>\n",
       "      <td>0.611</td>\n",
       "    </tr>\n",
       "    <tr>\n",
       "      <th>27</th>\n",
       "      <td>0.933</td>\n",
       "      <td>0.778</td>\n",
       "      <td>0.667</td>\n",
       "      <td>0.556</td>\n",
       "      <td>0.667</td>\n",
       "      <td>0.556</td>\n",
       "    </tr>\n",
       "    <tr>\n",
       "      <th>28</th>\n",
       "      <td>0.929</td>\n",
       "      <td>0.722</td>\n",
       "      <td>0.714</td>\n",
       "      <td>0.556</td>\n",
       "      <td>0.643</td>\n",
       "      <td>0.500</td>\n",
       "    </tr>\n",
       "    <tr>\n",
       "      <th>29</th>\n",
       "      <td>0.923</td>\n",
       "      <td>0.667</td>\n",
       "      <td>0.769</td>\n",
       "      <td>0.556</td>\n",
       "      <td>0.692</td>\n",
       "      <td>0.500</td>\n",
       "    </tr>\n",
       "    <tr>\n",
       "      <th>30</th>\n",
       "      <td>0.917</td>\n",
       "      <td>0.611</td>\n",
       "      <td>0.750</td>\n",
       "      <td>0.500</td>\n",
       "      <td>0.667</td>\n",
       "      <td>0.444</td>\n",
       "    </tr>\n",
       "    <tr>\n",
       "      <th>31</th>\n",
       "      <td>0.909</td>\n",
       "      <td>0.556</td>\n",
       "      <td>0.727</td>\n",
       "      <td>0.444</td>\n",
       "      <td>0.636</td>\n",
       "      <td>0.389</td>\n",
       "    </tr>\n",
       "    <tr>\n",
       "      <th>32</th>\n",
       "      <td>0.900</td>\n",
       "      <td>0.500</td>\n",
       "      <td>0.700</td>\n",
       "      <td>0.389</td>\n",
       "      <td>0.600</td>\n",
       "      <td>0.333</td>\n",
       "    </tr>\n",
       "    <tr>\n",
       "      <th>33</th>\n",
       "      <td>0.889</td>\n",
       "      <td>0.444</td>\n",
       "      <td>0.778</td>\n",
       "      <td>0.389</td>\n",
       "      <td>0.667</td>\n",
       "      <td>0.333</td>\n",
       "    </tr>\n",
       "    <tr>\n",
       "      <th>34</th>\n",
       "      <td>0.875</td>\n",
       "      <td>0.389</td>\n",
       "      <td>0.875</td>\n",
       "      <td>0.389</td>\n",
       "      <td>0.750</td>\n",
       "      <td>0.333</td>\n",
       "    </tr>\n",
       "    <tr>\n",
       "      <th>35</th>\n",
       "      <td>0.857</td>\n",
       "      <td>0.333</td>\n",
       "      <td>0.857</td>\n",
       "      <td>0.333</td>\n",
       "      <td>0.714</td>\n",
       "      <td>0.278</td>\n",
       "    </tr>\n",
       "    <tr>\n",
       "      <th>36</th>\n",
       "      <td>1.000</td>\n",
       "      <td>0.333</td>\n",
       "      <td>0.833</td>\n",
       "      <td>0.278</td>\n",
       "      <td>0.667</td>\n",
       "      <td>0.222</td>\n",
       "    </tr>\n",
       "    <tr>\n",
       "      <th>37</th>\n",
       "      <td>1.000</td>\n",
       "      <td>0.278</td>\n",
       "      <td>0.800</td>\n",
       "      <td>0.222</td>\n",
       "      <td>0.800</td>\n",
       "      <td>0.222</td>\n",
       "    </tr>\n",
       "    <tr>\n",
       "      <th>38</th>\n",
       "      <td>1.000</td>\n",
       "      <td>0.222</td>\n",
       "      <td>1.000</td>\n",
       "      <td>0.222</td>\n",
       "      <td>0.750</td>\n",
       "      <td>0.167</td>\n",
       "    </tr>\n",
       "    <tr>\n",
       "      <th>39</th>\n",
       "      <td>1.000</td>\n",
       "      <td>0.167</td>\n",
       "      <td>1.000</td>\n",
       "      <td>0.167</td>\n",
       "      <td>0.667</td>\n",
       "      <td>0.111</td>\n",
       "    </tr>\n",
       "    <tr>\n",
       "      <th>40</th>\n",
       "      <td>1.000</td>\n",
       "      <td>0.111</td>\n",
       "      <td>1.000</td>\n",
       "      <td>0.111</td>\n",
       "      <td>0.500</td>\n",
       "      <td>0.056</td>\n",
       "    </tr>\n",
       "    <tr>\n",
       "      <th>41</th>\n",
       "      <td>1.000</td>\n",
       "      <td>0.056</td>\n",
       "      <td>1.000</td>\n",
       "      <td>0.056</td>\n",
       "      <td>0.000</td>\n",
       "      <td>0.000</td>\n",
       "    </tr>\n",
       "    <tr>\n",
       "      <th>42</th>\n",
       "      <td>1.000</td>\n",
       "      <td>0.000</td>\n",
       "      <td>1.000</td>\n",
       "      <td>0.000</td>\n",
       "      <td>1.000</td>\n",
       "      <td>0.000</td>\n",
       "    </tr>\n",
       "  </tbody>\n",
       "</table>\n",
       "</div>"
      ],
      "text/plain": [
       "   ALD study all       TRKNN all       TRKNN new      \n",
       "       precision   tpr precision   tpr precision   tpr\n",
       "0          0.429 1.000     0.429 1.000     0.429 1.000\n",
       "1          0.439 1.000     0.439 1.000     0.439 1.000\n",
       "2          0.450 1.000     0.450 1.000     0.450 1.000\n",
       "3          0.462 1.000     0.462 1.000     0.462 1.000\n",
       "4          0.474 1.000     0.474 1.000     0.474 1.000\n",
       "5          0.486 1.000     0.486 1.000     0.486 1.000\n",
       "6          0.500 1.000     0.500 1.000     0.500 1.000\n",
       "7          0.514 1.000     0.514 1.000     0.514 1.000\n",
       "8          0.529 1.000     0.529 1.000     0.500 0.944\n",
       "9          0.545 1.000     0.545 1.000     0.515 0.944\n",
       "10         0.562 1.000     0.562 1.000     0.531 0.944\n",
       "11         0.581 1.000     0.581 1.000     0.548 0.944\n",
       "12         0.567 0.944     0.600 1.000     0.567 0.944\n",
       "13         0.586 0.944     0.586 0.944     0.552 0.889\n",
       "14         0.607 0.944     0.607 0.944     0.536 0.833\n",
       "15         0.593 0.889     0.593 0.889     0.519 0.778\n",
       "16         0.615 0.889     0.577 0.833     0.538 0.778\n",
       "17         0.640 0.889     0.600 0.833     0.520 0.722\n",
       "18         0.667 0.889     0.583 0.778     0.542 0.722\n",
       "19         0.696 0.889     0.609 0.778     0.522 0.667\n",
       "20         0.682 0.833     0.636 0.778     0.545 0.667\n",
       "21         0.714 0.833     0.619 0.722     0.571 0.667\n",
       "22         0.750 0.833     0.600 0.667     0.600 0.667\n",
       "23         0.789 0.833     0.632 0.667     0.579 0.611\n",
       "24         0.833 0.833     0.611 0.611     0.611 0.611\n",
       "25         0.882 0.833     0.647 0.611     0.647 0.611\n",
       "26         0.938 0.833     0.625 0.556     0.688 0.611\n",
       "27         0.933 0.778     0.667 0.556     0.667 0.556\n",
       "28         0.929 0.722     0.714 0.556     0.643 0.500\n",
       "29         0.923 0.667     0.769 0.556     0.692 0.500\n",
       "30         0.917 0.611     0.750 0.500     0.667 0.444\n",
       "31         0.909 0.556     0.727 0.444     0.636 0.389\n",
       "32         0.900 0.500     0.700 0.389     0.600 0.333\n",
       "33         0.889 0.444     0.778 0.389     0.667 0.333\n",
       "34         0.875 0.389     0.875 0.389     0.750 0.333\n",
       "35         0.857 0.333     0.857 0.333     0.714 0.278\n",
       "36         1.000 0.333     0.833 0.278     0.667 0.222\n",
       "37         1.000 0.278     0.800 0.222     0.800 0.222\n",
       "38         1.000 0.222     1.000 0.222     0.750 0.167\n",
       "39         1.000 0.167     1.000 0.167     0.667 0.111\n",
       "40         1.000 0.111     1.000 0.111     0.500 0.056\n",
       "41         1.000 0.056     1.000 0.056     0.000 0.000\n",
       "42         1.000 0.000     1.000 0.000     1.000 0.000"
      ]
     },
     "execution_count": 25,
     "metadata": {},
     "output_type": "execute_result"
    }
   ],
   "source": [
    "prec_recall_curve = parse_prc(*res)\n",
    "prec_recall_curve.to_excel(fname.with_suffix('.xlsx'))\n",
    "prec_recall_curve"
   ]
  },
  {
   "cell_type": "markdown",
   "id": "0ddf0913",
   "metadata": {
    "papermill": {
     "duration": 0.053911,
     "end_time": "2024-09-18T04:35:22.794602",
     "exception": false,
     "start_time": "2024-09-18T04:35:22.740691",
     "status": "completed"
    },
    "tags": []
   },
   "source": [
    "## Train data plots"
   ]
  },
  {
   "cell_type": "code",
   "execution_count": 26,
   "id": "6eb3ed77",
   "metadata": {
    "execution": {
     "iopub.execute_input": "2024-09-18T04:35:22.962623Z",
     "iopub.status.busy": "2024-09-18T04:35:22.962255Z",
     "iopub.status.idle": "2024-09-18T04:35:23.581045Z",
     "shell.execute_reply": "2024-09-18T04:35:23.580314Z"
    },
    "papermill": {
     "duration": 0.66441,
     "end_time": "2024-09-18T04:35:23.582298",
     "exception": false,
     "start_time": "2024-09-18T04:35:22.917888",
     "status": "completed"
    },
    "tags": [
     "hide-input"
    ]
   },
   "outputs": [
    {
     "name": "stderr",
     "output_type": "stream",
     "text": [
      "pimmslearn.plotting - INFO     Saved Figures to runs/alzheimer_study/diff_analysis/AD/PI_vs_TRKNN/prec_recall_curve_train.pdf\n"
     ]
    },
    {
     "data": {
      "image/png": "[encoded data removed]",
      "text/plain": [
       "<Figure size 367.5x367.5 with 1 Axes>"
      ]
     },
     "metadata": {},
     "output_type": "display_data"
    }
   ],
   "source": [
    "fig, ax = plt.subplots(1, 1, figsize=figsize)\n",
    "\n",
    "ax = plot_split_prc(results_ald_full.train, results_ald_full.name, ax)\n",
    "ax = plot_split_prc(results_model_full.train, results_model_full.name, ax)\n",
    "ax = plot_split_prc(results_model_new.train, results_model_new.name, ax)\n",
    "fname = folder = args.out_folder / 'prec_recall_curve_train.pdf'\n",
    "files_out[fname.name] = fname\n",
    "pimmslearn.savefig(fig, name=fname)"
   ]
  },
  {
   "cell_type": "code",
   "execution_count": 27,
   "id": "64fee389",
   "metadata": {
    "execution": {
     "iopub.execute_input": "2024-09-18T04:35:23.664281Z",
     "iopub.status.busy": "2024-09-18T04:35:23.663907Z",
     "iopub.status.idle": "2024-09-18T04:35:24.466906Z",
     "shell.execute_reply": "2024-09-18T04:35:24.466216Z"
    },
    "papermill": {
     "duration": 0.844297,
     "end_time": "2024-09-18T04:35:24.468348",
     "exception": false,
     "start_time": "2024-09-18T04:35:23.624051",
     "status": "completed"
    },
    "tags": [
     "hide-input"
    ]
   },
   "outputs": [
    {
     "name": "stderr",
     "output_type": "stream",
     "text": [
      "pimmslearn.plotting - INFO     Saved Figures to runs/alzheimer_study/diff_analysis/AD/PI_vs_TRKNN/auc_roc_curve_train.pdf\n"
     ]
    },
    {
     "data": {
      "image/png": "[encoded data removed]",
      "text/plain": [
       "<Figure size 367.5x367.5 with 1 Axes>"
      ]
     },
     "metadata": {},
     "output_type": "display_data"
    }
   ],
   "source": [
    "fig, ax = plt.subplots(1, 1, figsize=figsize)\n",
    "plot_split_auc(results_ald_full.train, results_ald_full.name, ax)\n",
    "plot_split_auc(results_model_full.train, results_model_full.name, ax)\n",
    "plot_split_auc(results_model_new.train, results_model_new.name, ax)\n",
    "fname = folder = args.out_folder / 'auc_roc_curve_train.pdf'\n",
    "files_out[fname.name] = fname\n",
    "pimmslearn.savefig(fig, name=fname)"
   ]
  },
  {
   "cell_type": "markdown",
   "id": "545b7a34",
   "metadata": {
    "papermill": {
     "duration": 0.054839,
     "end_time": "2024-09-18T04:35:24.577962",
     "exception": false,
     "start_time": "2024-09-18T04:35:24.523123",
     "status": "completed"
    },
    "tags": []
   },
   "source": [
    "Output files:"
   ]
  },
  {
   "cell_type": "code",
   "execution_count": 28,
   "id": "860e0d5e",
   "metadata": {
    "execution": {
     "iopub.execute_input": "2024-09-18T04:35:24.687824Z",
     "iopub.status.busy": "2024-09-18T04:35:24.687440Z",
     "iopub.status.idle": "2024-09-18T04:35:24.692742Z",
     "shell.execute_reply": "2024-09-18T04:35:24.692084Z"
    },
    "papermill": {
     "duration": 0.062228,
     "end_time": "2024-09-18T04:35:24.694277",
     "exception": false,
     "start_time": "2024-09-18T04:35:24.632049",
     "status": "completed"
    },
    "tags": [
     "hide-input"
    ]
   },
   "outputs": [
    {
     "data": {
      "text/plain": [
       "{'results_TRKNN all.pkl': PosixPath('runs/alzheimer_study/diff_analysis/AD/PI_vs_TRKNN/results_TRKNN all.pkl'),\n",
       " 'results_TRKNN new.pkl': PosixPath('runs/alzheimer_study/diff_analysis/AD/PI_vs_TRKNN/results_TRKNN new.pkl'),\n",
       " 'results_ALD study all.pkl': PosixPath('runs/alzheimer_study/diff_analysis/AD/PI_vs_TRKNN/results_ALD study all.pkl'),\n",
       " 'auc_roc_curve.pdf': PosixPath('runs/alzheimer_study/diff_analysis/AD/PI_vs_TRKNN/auc_roc_curve.pdf'),\n",
       " 'mrmr_feat_by_model.xlsx': PosixPath('runs/alzheimer_study/diff_analysis/AD/PI_vs_TRKNN/mrmr_feat_by_model.xlsx'),\n",
       " 'prec_recall_curve.pdf': PosixPath('runs/alzheimer_study/diff_analysis/AD/PI_vs_TRKNN/prec_recall_curve.pdf'),\n",
       " 'prec_recall_curve_train.pdf': PosixPath('runs/alzheimer_study/diff_analysis/AD/PI_vs_TRKNN/prec_recall_curve_train.pdf'),\n",
       " 'auc_roc_curve_train.pdf': PosixPath('runs/alzheimer_study/diff_analysis/AD/PI_vs_TRKNN/auc_roc_curve_train.pdf')}"
      ]
     },
     "execution_count": 28,
     "metadata": {},
     "output_type": "execute_result"
    }
   ],
   "source": [
    "files_out"
   ]
  }
 ],
 "metadata": {
  "kernelspec": {
   "display_name": "Python 3",
   "language": "python",
   "name": "python3"
  },
  "language_info": {
   "codemirror_mode": {
    "name": "ipython",
    "version": 3
   },
   "file_extension": ".py",
   "mimetype": "text/x-python",
   "name": "python",
   "nbconvert_exporter": "python",
   "pygments_lexer": "ipython3",
   "version": "3.12.0"
  },
  "papermill": {
   "default_parameters": {},
   "duration": 300.600423,
   "end_time": "2024-09-18T04:35:27.373263",
   "environment_variables": {},
   "exception": null,
   "input_path": "10_3_ald_ml_new_feat.ipynb",
   "output_path": "runs/alzheimer_study/diff_analysis/AD/PI_vs_TRKNN/10_3_ald_ml_new_feat.ipynb",
   "parameters": {
    "baseline": "PI",
    "cutoff_target": 0.5,
    "fn_clinical_data": "runs/alzheimer_study/data/clinical_data.csv",
    "folder_experiment": "runs/alzheimer_study",
    "model_key": "TRKNN",
    "out_folder": "diff_analysis",
    "target": "AD"
   },
   "start_time": "2024-09-18T04:30:26.772840",
   "version": "2.6.0"
  }
 },
 "nbformat": 4,
 "nbformat_minor": 5
}