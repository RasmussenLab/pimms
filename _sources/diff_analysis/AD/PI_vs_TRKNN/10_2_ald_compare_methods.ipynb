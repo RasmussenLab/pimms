{
 "cells": [
  {
   "cell_type": "markdown",
   "id": "9acfeaca-5f8c-42f3-9a8e-83ed737eb35c",
   "metadata": {
    "papermill": {
     "duration": 0.027458,
     "end_time": "2024-11-08T17:24:35.493126",
     "exception": false,
     "start_time": "2024-11-08T17:24:35.465668",
     "status": "completed"
    },
    "tags": []
   },
   "source": [
    "# Compare outcomes from differential analysis based on different imputation methods\n",
    "\n",
    "- load scores based on `10_1_ald_diff_analysis`"
   ]
  },
  {
   "cell_type": "code",
   "execution_count": 1,
   "id": "eec6f931-c04d-428c-b2b1-0424c50e6cd2",
   "metadata": {
    "execution": {
     "iopub.execute_input": "2024-11-08T17:24:35.526336Z",
     "iopub.status.busy": "2024-11-08T17:24:35.526000Z",
     "iopub.status.idle": "2024-11-08T17:24:37.797757Z",
     "shell.execute_reply": "2024-11-08T17:24:37.797018Z"
    },
    "papermill": {
     "duration": 2.293849,
     "end_time": "2024-11-08T17:24:37.799315",
     "exception": false,
     "start_time": "2024-11-08T17:24:35.505466",
     "status": "completed"
    },
    "tags": [
     "hide-input"
    ]
   },
   "outputs": [],
   "source": [
    "import logging\n",
    "from pathlib import Path\n",
    "\n",
    "import matplotlib.pyplot as plt\n",
    "import pandas as pd\n",
    "import seaborn as sns\n",
    "from IPython.display import display\n",
    "\n",
    "import pimmslearn\n",
    "import pimmslearn.databases.diseases\n",
    "\n",
    "logger = pimmslearn.logging.setup_nb_logger()\n",
    "\n",
    "plt.rcParams['figure.figsize'] = (2, 2)\n",
    "fontsize = 5\n",
    "pimmslearn.plotting.make_large_descriptors(fontsize)\n",
    "logging.getLogger('fontTools').setLevel(logging.ERROR)\n",
    "\n",
    "# catch passed parameters\n",
    "args = None\n",
    "args = dict(globals()).keys()"
   ]
  },
  {
   "cell_type": "markdown",
   "id": "85f5f5d5",
   "metadata": {
    "papermill": {
     "duration": 0.005818,
     "end_time": "2024-11-08T17:24:37.817037",
     "exception": false,
     "start_time": "2024-11-08T17:24:37.811219",
     "status": "completed"
    },
    "tags": []
   },
   "source": [
    "## Parameters\n",
    "Default and set parameters for the notebook."
   ]
  },
  {
   "cell_type": "code",
   "execution_count": 2,
   "id": "f4bf65da-0569-4a21-ba20-9cae7d3679e7",
   "metadata": {
    "execution": {
     "iopub.execute_input": "2024-11-08T17:24:37.835981Z",
     "iopub.status.busy": "2024-11-08T17:24:37.835675Z",
     "iopub.status.idle": "2024-11-08T17:24:37.850930Z",
     "shell.execute_reply": "2024-11-08T17:24:37.850276Z"
    },
    "papermill": {
     "duration": 0.034646,
     "end_time": "2024-11-08T17:24:37.857665",
     "exception": false,
     "start_time": "2024-11-08T17:24:37.823019",
     "status": "completed"
    },
    "tags": [
     "parameters"
    ]
   },
   "outputs": [],
   "source": [
    "folder_experiment = 'runs/appl_ald_data/plasma/proteinGroups'\n",
    "\n",
    "target = 'kleiner'\n",
    "model_key = 'VAE'\n",
    "baseline = 'RSN'\n",
    "out_folder = 'diff_analysis'\n",
    "selected_statistics = ['p-unc', '-Log10 pvalue', 'qvalue', 'rejected']\n",
    "\n",
    "disease_ontology = 5082  # code from https://disease-ontology.org/\n",
    "# split diseases notebook? Query gene names for proteins in file from uniprot?\n",
    "annotaitons_gene_col = 'PG.Genes'"
   ]
  },
  {
   "cell_type": "code",
   "execution_count": 3,
   "id": "2751a97d",
   "metadata": {
    "execution": {
     "iopub.execute_input": "2024-11-08T17:24:37.902101Z",
     "iopub.status.busy": "2024-11-08T17:24:37.901800Z",
     "iopub.status.idle": "2024-11-08T17:24:37.905506Z",
     "shell.execute_reply": "2024-11-08T17:24:37.904935Z"
    },
    "papermill": {
     "duration": 0.028058,
     "end_time": "2024-11-08T17:24:37.918350",
     "exception": false,
     "start_time": "2024-11-08T17:24:37.890292",
     "status": "completed"
    },
    "tags": [
     "injected-parameters"
    ]
   },
   "outputs": [],
   "source": [
    "# Parameters\n",
    "disease_ontology = 10652\n",
    "folder_experiment = \"runs/alzheimer_study\"\n",
    "target = \"AD\"\n",
    "baseline = \"PI\"\n",
    "model_key = \"TRKNN\"\n",
    "out_folder = \"diff_analysis\"\n",
    "annotaitons_gene_col = \"None\"\n"
   ]
  },
  {
   "cell_type": "markdown",
   "id": "22c645fc-c7eb-4c69-a7aa-084fc733258f",
   "metadata": {
    "papermill": {
     "duration": 0.011586,
     "end_time": "2024-11-08T17:24:37.942448",
     "exception": false,
     "start_time": "2024-11-08T17:24:37.930862",
     "status": "completed"
    },
    "tags": []
   },
   "source": [
    "Add set parameters to configuration"
   ]
  },
  {
   "cell_type": "code",
   "execution_count": 4,
   "id": "978876d0-b3cc-4847-8eab-dc0b89ddbbcd",
   "metadata": {
    "execution": {
     "iopub.execute_input": "2024-11-08T17:24:37.966719Z",
     "iopub.status.busy": "2024-11-08T17:24:37.966412Z",
     "iopub.status.idle": "2024-11-08T17:24:37.989948Z",
     "shell.execute_reply": "2024-11-08T17:24:37.989320Z"
    },
    "papermill": {
     "duration": 0.038372,
     "end_time": "2024-11-08T17:24:37.992503",
     "exception": false,
     "start_time": "2024-11-08T17:24:37.954131",
     "status": "completed"
    },
    "tags": [
     "hide-input"
    ]
   },
   "outputs": [
    {
     "name": "stderr",
     "output_type": "stream",
     "text": [
      "root - INFO     Removed from global namespace: folder_experiment\n"
     ]
    },
    {
     "name": "stderr",
     "output_type": "stream",
     "text": [
      "root - INFO     Removed from global namespace: target\n"
     ]
    },
    {
     "name": "stderr",
     "output_type": "stream",
     "text": [
      "root - INFO     Removed from global namespace: model_key\n"
     ]
    },
    {
     "name": "stderr",
     "output_type": "stream",
     "text": [
      "root - INFO     Removed from global namespace: baseline\n"
     ]
    },
    {
     "name": "stderr",
     "output_type": "stream",
     "text": [
      "root - INFO     Removed from global namespace: out_folder\n"
     ]
    },
    {
     "name": "stderr",
     "output_type": "stream",
     "text": [
      "root - INFO     Removed from global namespace: selected_statistics\n"
     ]
    },
    {
     "name": "stderr",
     "output_type": "stream",
     "text": [
      "root - INFO     Removed from global namespace: disease_ontology\n"
     ]
    },
    {
     "name": "stderr",
     "output_type": "stream",
     "text": [
      "root - INFO     Removed from global namespace: annotaitons_gene_col\n"
     ]
    },
    {
     "name": "stderr",
     "output_type": "stream",
     "text": [
      "root - INFO     Already set attribute: folder_experiment has value runs/alzheimer_study\n"
     ]
    },
    {
     "name": "stderr",
     "output_type": "stream",
     "text": [
      "root - INFO     Already set attribute: out_folder has value diff_analysis\n"
     ]
    },
    {
     "data": {
      "text/plain": [
       "{'annotaitons_gene_col': 'None',\n",
       " 'baseline': 'PI',\n",
       " 'data': PosixPath('runs/alzheimer_study/data'),\n",
       " 'disease_ontology': 10652,\n",
       " 'folder_experiment': PosixPath('runs/alzheimer_study'),\n",
       " 'freq_features_observed': PosixPath('runs/alzheimer_study/freq_features_observed.csv'),\n",
       " 'model_key': 'TRKNN',\n",
       " 'out_figures': PosixPath('runs/alzheimer_study/figures'),\n",
       " 'out_folder': PosixPath('runs/alzheimer_study/diff_analysis/AD/PI_vs_TRKNN'),\n",
       " 'out_metrics': PosixPath('runs/alzheimer_study'),\n",
       " 'out_models': PosixPath('runs/alzheimer_study'),\n",
       " 'out_preds': PosixPath('runs/alzheimer_study/preds'),\n",
       " 'scores_folder': PosixPath('runs/alzheimer_study/diff_analysis/AD/scores'),\n",
       " 'selected_statistics': ['p-unc', '-Log10 pvalue', 'qvalue', 'rejected'],\n",
       " 'target': 'AD'}"
      ]
     },
     "execution_count": 4,
     "metadata": {},
     "output_type": "execute_result"
    }
   ],
   "source": [
    "params = pimmslearn.nb.get_params(args, globals=globals())\n",
    "args = pimmslearn.nb.Config()\n",
    "args.folder_experiment = Path(params[\"folder_experiment\"])\n",
    "args = pimmslearn.nb.add_default_paths(args,\n",
    "                                 out_root=(\n",
    "                                     args.folder_experiment\n",
    "                                     / params[\"out_folder\"]\n",
    "                                     / params[\"target\"]\n",
    "                                     / f\"{params['baseline']}_vs_{params['model_key']}\"))\n",
    "args.update_from_dict(params)\n",
    "args.scores_folder = scores_folder = (args.folder_experiment\n",
    "                                      / params[\"out_folder\"]\n",
    "                                      / params[\"target\"]\n",
    "                                      / 'scores')\n",
    "args.freq_features_observed = args.folder_experiment / 'freq_features_observed.csv'\n",
    "args"
   ]
  },
  {
   "cell_type": "markdown",
   "id": "fc184dea",
   "metadata": {
    "papermill": {
     "duration": 0.013268,
     "end_time": "2024-11-08T17:24:38.018432",
     "exception": false,
     "start_time": "2024-11-08T17:24:38.005164",
     "status": "completed"
    },
    "tags": []
   },
   "source": [
    "### Excel file for exports"
   ]
  },
  {
   "cell_type": "code",
   "execution_count": 5,
   "id": "a8016d79-e41a-40a2-bcbf-e11711c33b7d",
   "metadata": {
    "execution": {
     "iopub.execute_input": "2024-11-08T17:24:38.045609Z",
     "iopub.status.busy": "2024-11-08T17:24:38.045318Z",
     "iopub.status.idle": "2024-11-08T17:24:38.346898Z",
     "shell.execute_reply": "2024-11-08T17:24:38.346264Z"
    },
    "papermill": {
     "duration": 0.316074,
     "end_time": "2024-11-08T17:24:38.347996",
     "exception": false,
     "start_time": "2024-11-08T17:24:38.031922",
     "status": "completed"
    },
    "tags": []
   },
   "outputs": [
    {
     "name": "stderr",
     "output_type": "stream",
     "text": [
      "root - INFO     Writing to excel file: runs/alzheimer_study/diff_analysis/AD/PI_vs_TRKNN/diff_analysis_compare_methods.xlsx\n"
     ]
    }
   ],
   "source": [
    "files_out = dict()\n",
    "writer_args = dict(float_format='%.3f')\n",
    "\n",
    "fname = args.out_folder / 'diff_analysis_compare_methods.xlsx'\n",
    "files_out[fname.name] = fname\n",
    "writer = pd.ExcelWriter(fname)\n",
    "logger.info(\"Writing to excel file: %s\", fname)"
   ]
  },
  {
   "cell_type": "markdown",
   "id": "770d1f76-e86f-4ae3-9d7b-ceef9b9e9a22",
   "metadata": {
    "papermill": {
     "duration": 0.045079,
     "end_time": "2024-11-08T17:24:38.417142",
     "exception": false,
     "start_time": "2024-11-08T17:24:38.372063",
     "status": "completed"
    },
    "tags": []
   },
   "source": [
    "## Load scores"
   ]
  },
  {
   "cell_type": "markdown",
   "id": "6b108869",
   "metadata": {
    "papermill": {
     "duration": 0.030646,
     "end_time": "2024-11-08T17:24:38.482506",
     "exception": false,
     "start_time": "2024-11-08T17:24:38.451860",
     "status": "completed"
    },
    "tags": []
   },
   "source": [
    "### Load baseline model scores\n",
    "Show all statistics, later use selected statistics"
   ]
  },
  {
   "cell_type": "code",
   "execution_count": 6,
   "id": "97221134-5f61-4158-bfc5-ea30077140b8",
   "metadata": {
    "execution": {
     "iopub.execute_input": "2024-11-08T17:24:38.556222Z",
     "iopub.status.busy": "2024-11-08T17:24:38.555922Z",
     "iopub.status.idle": "2024-11-08T17:24:38.602535Z",
     "shell.execute_reply": "2024-11-08T17:24:38.594273Z"
    },
    "papermill": {
     "duration": 0.091656,
     "end_time": "2024-11-08T17:24:38.603869",
     "exception": false,
     "start_time": "2024-11-08T17:24:38.512213",
     "status": "completed"
    },
    "tags": [
     "hide-input"
    ]
   },
   "outputs": [
    {
     "data": {
      "text/html": [
       "<div>\n",
       "<style scoped>\n",
       "    .dataframe tbody tr th:only-of-type {\n",
       "        vertical-align: middle;\n",
       "    }\n",
       "\n",
       "    .dataframe tbody tr th {\n",
       "        vertical-align: top;\n",
       "    }\n",
       "\n",
       "    .dataframe thead tr th {\n",
       "        text-align: left;\n",
       "    }\n",
       "\n",
       "    .dataframe thead tr:last-of-type th {\n",
       "        text-align: right;\n",
       "    }\n",
       "</style>\n",
       "<table border=\"1\" class=\"dataframe\">\n",
       "  <thead>\n",
       "    <tr>\n",
       "      <th></th>\n",
       "      <th>model</th>\n",
       "      <th colspan=\"8\" halign=\"left\">PI</th>\n",
       "    </tr>\n",
       "    <tr>\n",
       "      <th></th>\n",
       "      <th>var</th>\n",
       "      <th>SS</th>\n",
       "      <th>DF</th>\n",
       "      <th>F</th>\n",
       "      <th>p-unc</th>\n",
       "      <th>np2</th>\n",
       "      <th>-Log10 pvalue</th>\n",
       "      <th>qvalue</th>\n",
       "      <th>rejected</th>\n",
       "    </tr>\n",
       "    <tr>\n",
       "      <th>protein groups</th>\n",
       "      <th>Source</th>\n",
       "      <th></th>\n",
       "      <th></th>\n",
       "      <th></th>\n",
       "      <th></th>\n",
       "      <th></th>\n",
       "      <th></th>\n",
       "      <th></th>\n",
       "      <th></th>\n",
       "    </tr>\n",
       "  </thead>\n",
       "  <tbody>\n",
       "    <tr>\n",
       "      <th rowspan=\"5\" valign=\"top\">A0A024QZX5;A0A087X1N8;P35237</th>\n",
       "      <th>AD</th>\n",
       "      <td>0.402</td>\n",
       "      <td>1</td>\n",
       "      <td>0.730</td>\n",
       "      <td>0.394</td>\n",
       "      <td>0.004</td>\n",
       "      <td>0.405</td>\n",
       "      <td>0.558</td>\n",
       "      <td>False</td>\n",
       "    </tr>\n",
       "    <tr>\n",
       "      <th>age</th>\n",
       "      <td>0.243</td>\n",
       "      <td>1</td>\n",
       "      <td>0.441</td>\n",
       "      <td>0.507</td>\n",
       "      <td>0.002</td>\n",
       "      <td>0.295</td>\n",
       "      <td>0.658</td>\n",
       "      <td>False</td>\n",
       "    </tr>\n",
       "    <tr>\n",
       "      <th>Kiel</th>\n",
       "      <td>2.422</td>\n",
       "      <td>1</td>\n",
       "      <td>4.397</td>\n",
       "      <td>0.037</td>\n",
       "      <td>0.023</td>\n",
       "      <td>1.428</td>\n",
       "      <td>0.097</td>\n",
       "      <td>False</td>\n",
       "    </tr>\n",
       "    <tr>\n",
       "      <th>Magdeburg</th>\n",
       "      <td>4.632</td>\n",
       "      <td>1</td>\n",
       "      <td>8.407</td>\n",
       "      <td>0.004</td>\n",
       "      <td>0.042</td>\n",
       "      <td>2.379</td>\n",
       "      <td>0.016</td>\n",
       "      <td>True</td>\n",
       "    </tr>\n",
       "    <tr>\n",
       "      <th>Sweden</th>\n",
       "      <td>7.777</td>\n",
       "      <td>1</td>\n",
       "      <td>14.115</td>\n",
       "      <td>0.000</td>\n",
       "      <td>0.069</td>\n",
       "      <td>3.641</td>\n",
       "      <td>0.001</td>\n",
       "      <td>True</td>\n",
       "    </tr>\n",
       "    <tr>\n",
       "      <th>...</th>\n",
       "      <th>...</th>\n",
       "      <td>...</td>\n",
       "      <td>...</td>\n",
       "      <td>...</td>\n",
       "      <td>...</td>\n",
       "      <td>...</td>\n",
       "      <td>...</td>\n",
       "      <td>...</td>\n",
       "      <td>...</td>\n",
       "    </tr>\n",
       "    <tr>\n",
       "      <th rowspan=\"5\" valign=\"top\">S4R3U6</th>\n",
       "      <th>AD</th>\n",
       "      <td>1.041</td>\n",
       "      <td>1</td>\n",
       "      <td>1.117</td>\n",
       "      <td>0.292</td>\n",
       "      <td>0.006</td>\n",
       "      <td>0.535</td>\n",
       "      <td>0.453</td>\n",
       "      <td>False</td>\n",
       "    </tr>\n",
       "    <tr>\n",
       "      <th>age</th>\n",
       "      <td>0.634</td>\n",
       "      <td>1</td>\n",
       "      <td>0.680</td>\n",
       "      <td>0.411</td>\n",
       "      <td>0.004</td>\n",
       "      <td>0.386</td>\n",
       "      <td>0.574</td>\n",
       "      <td>False</td>\n",
       "    </tr>\n",
       "    <tr>\n",
       "      <th>Kiel</th>\n",
       "      <td>0.016</td>\n",
       "      <td>1</td>\n",
       "      <td>0.017</td>\n",
       "      <td>0.897</td>\n",
       "      <td>0.000</td>\n",
       "      <td>0.047</td>\n",
       "      <td>0.943</td>\n",
       "      <td>False</td>\n",
       "    </tr>\n",
       "    <tr>\n",
       "      <th>Magdeburg</th>\n",
       "      <td>0.777</td>\n",
       "      <td>1</td>\n",
       "      <td>0.834</td>\n",
       "      <td>0.362</td>\n",
       "      <td>0.004</td>\n",
       "      <td>0.441</td>\n",
       "      <td>0.526</td>\n",
       "      <td>False</td>\n",
       "    </tr>\n",
       "    <tr>\n",
       "      <th>Sweden</th>\n",
       "      <td>19.046</td>\n",
       "      <td>1</td>\n",
       "      <td>20.436</td>\n",
       "      <td>0.000</td>\n",
       "      <td>0.097</td>\n",
       "      <td>4.967</td>\n",
       "      <td>0.000</td>\n",
       "      <td>True</td>\n",
       "    </tr>\n",
       "  </tbody>\n",
       "</table>\n",
       "<p>7105 rows × 8 columns</p>\n",
       "</div>"
      ],
      "text/plain": [
       "model                                      PI                        \\\n",
       "var                                        SS DF      F p-unc   np2   \n",
       "protein groups               Source                                   \n",
       "A0A024QZX5;A0A087X1N8;P35237 AD         0.402  1  0.730 0.394 0.004   \n",
       "                             age        0.243  1  0.441 0.507 0.002   \n",
       "                             Kiel       2.422  1  4.397 0.037 0.023   \n",
       "                             Magdeburg  4.632  1  8.407 0.004 0.042   \n",
       "                             Sweden     7.777  1 14.115 0.000 0.069   \n",
       "...                                       ... ..    ...   ...   ...   \n",
       "S4R3U6                       AD         1.041  1  1.117 0.292 0.006   \n",
       "                             age        0.634  1  0.680 0.411 0.004   \n",
       "                             Kiel       0.016  1  0.017 0.897 0.000   \n",
       "                             Magdeburg  0.777  1  0.834 0.362 0.004   \n",
       "                             Sweden    19.046  1 20.436 0.000 0.097   \n",
       "\n",
       "model                                                                 \n",
       "var                                    -Log10 pvalue qvalue rejected  \n",
       "protein groups               Source                                   \n",
       "A0A024QZX5;A0A087X1N8;P35237 AD                0.405  0.558    False  \n",
       "                             age               0.295  0.658    False  \n",
       "                             Kiel              1.428  0.097    False  \n",
       "                             Magdeburg         2.379  0.016     True  \n",
       "                             Sweden            3.641  0.001     True  \n",
       "...                                              ...    ...      ...  \n",
       "S4R3U6                       AD                0.535  0.453    False  \n",
       "                             age               0.386  0.574    False  \n",
       "                             Kiel              0.047  0.943    False  \n",
       "                             Magdeburg         0.441  0.526    False  \n",
       "                             Sweden            4.967  0.000     True  \n",
       "\n",
       "[7105 rows x 8 columns]"
      ]
     },
     "execution_count": 6,
     "metadata": {},
     "output_type": "execute_result"
    }
   ],
   "source": [
    "fname = args.scores_folder / f'diff_analysis_scores_{args.baseline}.pkl'\n",
    "scores_baseline = pd.read_pickle(fname)\n",
    "scores_baseline"
   ]
  },
  {
   "cell_type": "markdown",
   "id": "e49a8da2",
   "metadata": {
    "papermill": {
     "duration": 0.037991,
     "end_time": "2024-11-08T17:24:38.676268",
     "exception": false,
     "start_time": "2024-11-08T17:24:38.638277",
     "status": "completed"
    },
    "tags": []
   },
   "source": [
    "### Load selected comparison model scores"
   ]
  },
  {
   "cell_type": "code",
   "execution_count": 7,
   "id": "f0635e4d",
   "metadata": {
    "execution": {
     "iopub.execute_input": "2024-11-08T17:24:38.739730Z",
     "iopub.status.busy": "2024-11-08T17:24:38.739216Z",
     "iopub.status.idle": "2024-11-08T17:24:38.770972Z",
     "shell.execute_reply": "2024-11-08T17:24:38.770267Z"
    },
    "papermill": {
     "duration": 0.065204,
     "end_time": "2024-11-08T17:24:38.772346",
     "exception": false,
     "start_time": "2024-11-08T17:24:38.707142",
     "status": "completed"
    },
    "tags": [
     "hide-input"
    ]
   },
   "outputs": [
    {
     "data": {
      "text/html": [
       "<div>\n",
       "<style scoped>\n",
       "    .dataframe tbody tr th:only-of-type {\n",
       "        vertical-align: middle;\n",
       "    }\n",
       "\n",
       "    .dataframe tbody tr th {\n",
       "        vertical-align: top;\n",
       "    }\n",
       "\n",
       "    .dataframe thead tr th {\n",
       "        text-align: left;\n",
       "    }\n",
       "\n",
       "    .dataframe thead tr:last-of-type th {\n",
       "        text-align: right;\n",
       "    }\n",
       "</style>\n",
       "<table border=\"1\" class=\"dataframe\">\n",
       "  <thead>\n",
       "    <tr>\n",
       "      <th></th>\n",
       "      <th>model</th>\n",
       "      <th colspan=\"8\" halign=\"left\">TRKNN</th>\n",
       "    </tr>\n",
       "    <tr>\n",
       "      <th></th>\n",
       "      <th>var</th>\n",
       "      <th>SS</th>\n",
       "      <th>DF</th>\n",
       "      <th>F</th>\n",
       "      <th>p-unc</th>\n",
       "      <th>np2</th>\n",
       "      <th>-Log10 pvalue</th>\n",
       "      <th>qvalue</th>\n",
       "      <th>rejected</th>\n",
       "    </tr>\n",
       "    <tr>\n",
       "      <th>protein groups</th>\n",
       "      <th>Source</th>\n",
       "      <th></th>\n",
       "      <th></th>\n",
       "      <th></th>\n",
       "      <th></th>\n",
       "      <th></th>\n",
       "      <th></th>\n",
       "      <th></th>\n",
       "      <th></th>\n",
       "    </tr>\n",
       "  </thead>\n",
       "  <tbody>\n",
       "    <tr>\n",
       "      <th rowspan=\"5\" valign=\"top\">A0A024QZX5;A0A087X1N8;P35237</th>\n",
       "      <th>AD</th>\n",
       "      <td>0.994</td>\n",
       "      <td>1</td>\n",
       "      <td>7.134</td>\n",
       "      <td>0.008</td>\n",
       "      <td>0.036</td>\n",
       "      <td>2.085</td>\n",
       "      <td>0.023</td>\n",
       "      <td>True</td>\n",
       "    </tr>\n",
       "    <tr>\n",
       "      <th>age</th>\n",
       "      <td>0.004</td>\n",
       "      <td>1</td>\n",
       "      <td>0.029</td>\n",
       "      <td>0.864</td>\n",
       "      <td>0.000</td>\n",
       "      <td>0.063</td>\n",
       "      <td>0.913</td>\n",
       "      <td>False</td>\n",
       "    </tr>\n",
       "    <tr>\n",
       "      <th>Kiel</th>\n",
       "      <td>0.269</td>\n",
       "      <td>1</td>\n",
       "      <td>1.933</td>\n",
       "      <td>0.166</td>\n",
       "      <td>0.010</td>\n",
       "      <td>0.780</td>\n",
       "      <td>0.277</td>\n",
       "      <td>False</td>\n",
       "    </tr>\n",
       "    <tr>\n",
       "      <th>Magdeburg</th>\n",
       "      <td>0.519</td>\n",
       "      <td>1</td>\n",
       "      <td>3.727</td>\n",
       "      <td>0.055</td>\n",
       "      <td>0.019</td>\n",
       "      <td>1.259</td>\n",
       "      <td>0.114</td>\n",
       "      <td>False</td>\n",
       "    </tr>\n",
       "    <tr>\n",
       "      <th>Sweden</th>\n",
       "      <td>1.796</td>\n",
       "      <td>1</td>\n",
       "      <td>12.893</td>\n",
       "      <td>0.000</td>\n",
       "      <td>0.063</td>\n",
       "      <td>3.378</td>\n",
       "      <td>0.002</td>\n",
       "      <td>True</td>\n",
       "    </tr>\n",
       "    <tr>\n",
       "      <th>...</th>\n",
       "      <th>...</th>\n",
       "      <td>...</td>\n",
       "      <td>...</td>\n",
       "      <td>...</td>\n",
       "      <td>...</td>\n",
       "      <td>...</td>\n",
       "      <td>...</td>\n",
       "      <td>...</td>\n",
       "      <td>...</td>\n",
       "    </tr>\n",
       "    <tr>\n",
       "      <th rowspan=\"5\" valign=\"top\">S4R3U6</th>\n",
       "      <th>AD</th>\n",
       "      <td>2.295</td>\n",
       "      <td>1</td>\n",
       "      <td>4.480</td>\n",
       "      <td>0.036</td>\n",
       "      <td>0.023</td>\n",
       "      <td>1.449</td>\n",
       "      <td>0.080</td>\n",
       "      <td>False</td>\n",
       "    </tr>\n",
       "    <tr>\n",
       "      <th>age</th>\n",
       "      <td>0.398</td>\n",
       "      <td>1</td>\n",
       "      <td>0.777</td>\n",
       "      <td>0.379</td>\n",
       "      <td>0.004</td>\n",
       "      <td>0.421</td>\n",
       "      <td>0.516</td>\n",
       "      <td>False</td>\n",
       "    </tr>\n",
       "    <tr>\n",
       "      <th>Kiel</th>\n",
       "      <td>2.981</td>\n",
       "      <td>1</td>\n",
       "      <td>5.819</td>\n",
       "      <td>0.017</td>\n",
       "      <td>0.030</td>\n",
       "      <td>1.775</td>\n",
       "      <td>0.043</td>\n",
       "      <td>True</td>\n",
       "    </tr>\n",
       "    <tr>\n",
       "      <th>Magdeburg</th>\n",
       "      <td>3.440</td>\n",
       "      <td>1</td>\n",
       "      <td>6.716</td>\n",
       "      <td>0.010</td>\n",
       "      <td>0.034</td>\n",
       "      <td>1.987</td>\n",
       "      <td>0.028</td>\n",
       "      <td>True</td>\n",
       "    </tr>\n",
       "    <tr>\n",
       "      <th>Sweden</th>\n",
       "      <td>27.114</td>\n",
       "      <td>1</td>\n",
       "      <td>52.939</td>\n",
       "      <td>0.000</td>\n",
       "      <td>0.217</td>\n",
       "      <td>11.062</td>\n",
       "      <td>0.000</td>\n",
       "      <td>True</td>\n",
       "    </tr>\n",
       "  </tbody>\n",
       "</table>\n",
       "<p>7105 rows × 8 columns</p>\n",
       "</div>"
      ],
      "text/plain": [
       "model                                   TRKNN                        \\\n",
       "var                                        SS DF      F p-unc   np2   \n",
       "protein groups               Source                                   \n",
       "A0A024QZX5;A0A087X1N8;P35237 AD         0.994  1  7.134 0.008 0.036   \n",
       "                             age        0.004  1  0.029 0.864 0.000   \n",
       "                             Kiel       0.269  1  1.933 0.166 0.010   \n",
       "                             Magdeburg  0.519  1  3.727 0.055 0.019   \n",
       "                             Sweden     1.796  1 12.893 0.000 0.063   \n",
       "...                                       ... ..    ...   ...   ...   \n",
       "S4R3U6                       AD         2.295  1  4.480 0.036 0.023   \n",
       "                             age        0.398  1  0.777 0.379 0.004   \n",
       "                             Kiel       2.981  1  5.819 0.017 0.030   \n",
       "                             Magdeburg  3.440  1  6.716 0.010 0.034   \n",
       "                             Sweden    27.114  1 52.939 0.000 0.217   \n",
       "\n",
       "model                                                                 \n",
       "var                                    -Log10 pvalue qvalue rejected  \n",
       "protein groups               Source                                   \n",
       "A0A024QZX5;A0A087X1N8;P35237 AD                2.085  0.023     True  \n",
       "                             age               0.063  0.913    False  \n",
       "                             Kiel              0.780  0.277    False  \n",
       "                             Magdeburg         1.259  0.114    False  \n",
       "                             Sweden            3.378  0.002     True  \n",
       "...                                              ...    ...      ...  \n",
       "S4R3U6                       AD                1.449  0.080    False  \n",
       "                             age               0.421  0.516    False  \n",
       "                             Kiel              1.775  0.043     True  \n",
       "                             Magdeburg         1.987  0.028     True  \n",
       "                             Sweden           11.062  0.000     True  \n",
       "\n",
       "[7105 rows x 8 columns]"
      ]
     },
     "execution_count": 7,
     "metadata": {},
     "output_type": "execute_result"
    }
   ],
   "source": [
    "fname = args.scores_folder / f'diff_analysis_scores_{args.model_key}.pkl'\n",
    "scores_model = pd.read_pickle(fname)\n",
    "scores_model"
   ]
  },
  {
   "cell_type": "markdown",
   "id": "06b7e883",
   "metadata": {
    "papermill": {
     "duration": 0.025895,
     "end_time": "2024-11-08T17:24:38.824189",
     "exception": false,
     "start_time": "2024-11-08T17:24:38.798294",
     "status": "completed"
    },
    "tags": []
   },
   "source": [
    "### Combined scores\n",
    "show only selected statistics for comparsion"
   ]
  },
  {
   "cell_type": "code",
   "execution_count": 8,
   "id": "373fdf65",
   "metadata": {
    "execution": {
     "iopub.execute_input": "2024-11-08T17:24:38.877056Z",
     "iopub.status.busy": "2024-11-08T17:24:38.876751Z",
     "iopub.status.idle": "2024-11-08T17:24:38.934527Z",
     "shell.execute_reply": "2024-11-08T17:24:38.933844Z"
    },
    "papermill": {
     "duration": 0.085829,
     "end_time": "2024-11-08T17:24:38.935840",
     "exception": false,
     "start_time": "2024-11-08T17:24:38.850011",
     "status": "completed"
    },
    "tags": [
     "hide-input"
    ]
   },
   "outputs": [
    {
     "data": {
      "text/html": [
       "<div>\n",
       "<style scoped>\n",
       "    .dataframe tbody tr th:only-of-type {\n",
       "        vertical-align: middle;\n",
       "    }\n",
       "\n",
       "    .dataframe tbody tr th {\n",
       "        vertical-align: top;\n",
       "    }\n",
       "\n",
       "    .dataframe thead tr th {\n",
       "        text-align: left;\n",
       "    }\n",
       "\n",
       "    .dataframe thead tr:last-of-type th {\n",
       "        text-align: right;\n",
       "    }\n",
       "</style>\n",
       "<table border=\"1\" class=\"dataframe\">\n",
       "  <thead>\n",
       "    <tr>\n",
       "      <th></th>\n",
       "      <th>model</th>\n",
       "      <th colspan=\"4\" halign=\"left\">PI</th>\n",
       "      <th colspan=\"4\" halign=\"left\">TRKNN</th>\n",
       "    </tr>\n",
       "    <tr>\n",
       "      <th></th>\n",
       "      <th>var</th>\n",
       "      <th>p-unc</th>\n",
       "      <th>-Log10 pvalue</th>\n",
       "      <th>qvalue</th>\n",
       "      <th>rejected</th>\n",
       "      <th>p-unc</th>\n",
       "      <th>-Log10 pvalue</th>\n",
       "      <th>qvalue</th>\n",
       "      <th>rejected</th>\n",
       "    </tr>\n",
       "    <tr>\n",
       "      <th>protein groups</th>\n",
       "      <th>Source</th>\n",
       "      <th></th>\n",
       "      <th></th>\n",
       "      <th></th>\n",
       "      <th></th>\n",
       "      <th></th>\n",
       "      <th></th>\n",
       "      <th></th>\n",
       "      <th></th>\n",
       "    </tr>\n",
       "  </thead>\n",
       "  <tbody>\n",
       "    <tr>\n",
       "      <th rowspan=\"5\" valign=\"top\">A0A024QZX5;A0A087X1N8;P35237</th>\n",
       "      <th>AD</th>\n",
       "      <td>0.394</td>\n",
       "      <td>0.405</td>\n",
       "      <td>0.558</td>\n",
       "      <td>False</td>\n",
       "      <td>0.008</td>\n",
       "      <td>2.085</td>\n",
       "      <td>0.023</td>\n",
       "      <td>True</td>\n",
       "    </tr>\n",
       "    <tr>\n",
       "      <th>Kiel</th>\n",
       "      <td>0.037</td>\n",
       "      <td>1.428</td>\n",
       "      <td>0.097</td>\n",
       "      <td>False</td>\n",
       "      <td>0.166</td>\n",
       "      <td>0.780</td>\n",
       "      <td>0.277</td>\n",
       "      <td>False</td>\n",
       "    </tr>\n",
       "    <tr>\n",
       "      <th>Magdeburg</th>\n",
       "      <td>0.004</td>\n",
       "      <td>2.379</td>\n",
       "      <td>0.016</td>\n",
       "      <td>True</td>\n",
       "      <td>0.055</td>\n",
       "      <td>1.259</td>\n",
       "      <td>0.114</td>\n",
       "      <td>False</td>\n",
       "    </tr>\n",
       "    <tr>\n",
       "      <th>Sweden</th>\n",
       "      <td>0.000</td>\n",
       "      <td>3.641</td>\n",
       "      <td>0.001</td>\n",
       "      <td>True</td>\n",
       "      <td>0.000</td>\n",
       "      <td>3.378</td>\n",
       "      <td>0.002</td>\n",
       "      <td>True</td>\n",
       "    </tr>\n",
       "    <tr>\n",
       "      <th>age</th>\n",
       "      <td>0.507</td>\n",
       "      <td>0.295</td>\n",
       "      <td>0.658</td>\n",
       "      <td>False</td>\n",
       "      <td>0.864</td>\n",
       "      <td>0.063</td>\n",
       "      <td>0.913</td>\n",
       "      <td>False</td>\n",
       "    </tr>\n",
       "    <tr>\n",
       "      <th>...</th>\n",
       "      <th>...</th>\n",
       "      <td>...</td>\n",
       "      <td>...</td>\n",
       "      <td>...</td>\n",
       "      <td>...</td>\n",
       "      <td>...</td>\n",
       "      <td>...</td>\n",
       "      <td>...</td>\n",
       "      <td>...</td>\n",
       "    </tr>\n",
       "    <tr>\n",
       "      <th rowspan=\"5\" valign=\"top\">S4R3U6</th>\n",
       "      <th>AD</th>\n",
       "      <td>0.292</td>\n",
       "      <td>0.535</td>\n",
       "      <td>0.453</td>\n",
       "      <td>False</td>\n",
       "      <td>0.036</td>\n",
       "      <td>1.449</td>\n",
       "      <td>0.080</td>\n",
       "      <td>False</td>\n",
       "    </tr>\n",
       "    <tr>\n",
       "      <th>Kiel</th>\n",
       "      <td>0.897</td>\n",
       "      <td>0.047</td>\n",
       "      <td>0.943</td>\n",
       "      <td>False</td>\n",
       "      <td>0.017</td>\n",
       "      <td>1.775</td>\n",
       "      <td>0.043</td>\n",
       "      <td>True</td>\n",
       "    </tr>\n",
       "    <tr>\n",
       "      <th>Magdeburg</th>\n",
       "      <td>0.362</td>\n",
       "      <td>0.441</td>\n",
       "      <td>0.526</td>\n",
       "      <td>False</td>\n",
       "      <td>0.010</td>\n",
       "      <td>1.987</td>\n",
       "      <td>0.028</td>\n",
       "      <td>True</td>\n",
       "    </tr>\n",
       "    <tr>\n",
       "      <th>Sweden</th>\n",
       "      <td>0.000</td>\n",
       "      <td>4.967</td>\n",
       "      <td>0.000</td>\n",
       "      <td>True</td>\n",
       "      <td>0.000</td>\n",
       "      <td>11.062</td>\n",
       "      <td>0.000</td>\n",
       "      <td>True</td>\n",
       "    </tr>\n",
       "    <tr>\n",
       "      <th>age</th>\n",
       "      <td>0.411</td>\n",
       "      <td>0.386</td>\n",
       "      <td>0.574</td>\n",
       "      <td>False</td>\n",
       "      <td>0.379</td>\n",
       "      <td>0.421</td>\n",
       "      <td>0.516</td>\n",
       "      <td>False</td>\n",
       "    </tr>\n",
       "  </tbody>\n",
       "</table>\n",
       "<p>7105 rows × 8 columns</p>\n",
       "</div>"
      ],
      "text/plain": [
       "model                                     PI                                \\\n",
       "var                                    p-unc -Log10 pvalue qvalue rejected   \n",
       "protein groups               Source                                          \n",
       "A0A024QZX5;A0A087X1N8;P35237 AD        0.394         0.405  0.558    False   \n",
       "                             Kiel      0.037         1.428  0.097    False   \n",
       "                             Magdeburg 0.004         2.379  0.016     True   \n",
       "                             Sweden    0.000         3.641  0.001     True   \n",
       "                             age       0.507         0.295  0.658    False   \n",
       "...                                      ...           ...    ...      ...   \n",
       "S4R3U6                       AD        0.292         0.535  0.453    False   \n",
       "                             Kiel      0.897         0.047  0.943    False   \n",
       "                             Magdeburg 0.362         0.441  0.526    False   \n",
       "                             Sweden    0.000         4.967  0.000     True   \n",
       "                             age       0.411         0.386  0.574    False   \n",
       "\n",
       "model                                  TRKNN                                \n",
       "var                                    p-unc -Log10 pvalue qvalue rejected  \n",
       "protein groups               Source                                         \n",
       "A0A024QZX5;A0A087X1N8;P35237 AD        0.008         2.085  0.023     True  \n",
       "                             Kiel      0.166         0.780  0.277    False  \n",
       "                             Magdeburg 0.055         1.259  0.114    False  \n",
       "                             Sweden    0.000         3.378  0.002     True  \n",
       "                             age       0.864         0.063  0.913    False  \n",
       "...                                      ...           ...    ...      ...  \n",
       "S4R3U6                       AD        0.036         1.449  0.080    False  \n",
       "                             Kiel      0.017         1.775  0.043     True  \n",
       "                             Magdeburg 0.010         1.987  0.028     True  \n",
       "                             Sweden    0.000        11.062  0.000     True  \n",
       "                             age       0.379         0.421  0.516    False  \n",
       "\n",
       "[7105 rows x 8 columns]"
      ]
     },
     "execution_count": 8,
     "metadata": {},
     "output_type": "execute_result"
    }
   ],
   "source": [
    "scores = scores_model.join(scores_baseline, how='outer')[[args.baseline, args.model_key]]\n",
    "scores = scores.loc[:, pd.IndexSlice[scores.columns.levels[0].to_list(),\n",
    "                                     args.selected_statistics]]\n",
    "scores"
   ]
  },
  {
   "cell_type": "markdown",
   "id": "b84a6e5a",
   "metadata": {
    "papermill": {
     "duration": 0.013557,
     "end_time": "2024-11-08T17:24:38.964539",
     "exception": false,
     "start_time": "2024-11-08T17:24:38.950982",
     "status": "completed"
    },
    "tags": []
   },
   "source": [
    "Models in comparison (name mapping)"
   ]
  },
  {
   "cell_type": "code",
   "execution_count": 9,
   "id": "34d243d1-3ab4-40e7-9eb8-f9efc828b82d",
   "metadata": {
    "execution": {
     "iopub.execute_input": "2024-11-08T17:24:38.993826Z",
     "iopub.status.busy": "2024-11-08T17:24:38.993527Z",
     "iopub.status.idle": "2024-11-08T17:24:38.998729Z",
     "shell.execute_reply": "2024-11-08T17:24:38.998130Z"
    },
    "papermill": {
     "duration": 0.022988,
     "end_time": "2024-11-08T17:24:39.001269",
     "exception": false,
     "start_time": "2024-11-08T17:24:38.978281",
     "status": "completed"
    },
    "tags": [
     "hide-input"
    ]
   },
   "outputs": [
    {
     "data": {
      "text/plain": [
       "{'PI': 'PI', 'TRKNN': 'TRKNN'}"
      ]
     },
     "execution_count": 9,
     "metadata": {},
     "output_type": "execute_result"
    }
   ],
   "source": [
    "models = pimmslearn.nb.Config.from_dict(\n",
    "    pimmslearn.pandas.index_to_dict(scores.columns.get_level_values(0)))\n",
    "vars(models)"
   ]
  },
  {
   "cell_type": "markdown",
   "id": "dd7a560d",
   "metadata": {
    "papermill": {
     "duration": 0.014173,
     "end_time": "2024-11-08T17:24:39.030039",
     "exception": false,
     "start_time": "2024-11-08T17:24:39.015866",
     "status": "completed"
    },
    "tags": []
   },
   "source": [
    "## Describe scores"
   ]
  },
  {
   "cell_type": "code",
   "execution_count": 10,
   "id": "0fee8f5d-fa52-4369-a1f9-fcfd518ab6bd",
   "metadata": {
    "execution": {
     "iopub.execute_input": "2024-11-08T17:24:39.099313Z",
     "iopub.status.busy": "2024-11-08T17:24:39.099005Z",
     "iopub.status.idle": "2024-11-08T17:24:39.139010Z",
     "shell.execute_reply": "2024-11-08T17:24:39.138266Z"
    },
    "papermill": {
     "duration": 0.066203,
     "end_time": "2024-11-08T17:24:39.140481",
     "exception": false,
     "start_time": "2024-11-08T17:24:39.074278",
     "status": "completed"
    },
    "tags": [
     "hide-input"
    ]
   },
   "outputs": [
    {
     "data": {
      "text/html": [
       "<div>\n",
       "<style scoped>\n",
       "    .dataframe tbody tr th:only-of-type {\n",
       "        vertical-align: middle;\n",
       "    }\n",
       "\n",
       "    .dataframe tbody tr th {\n",
       "        vertical-align: top;\n",
       "    }\n",
       "\n",
       "    .dataframe thead tr th {\n",
       "        text-align: left;\n",
       "    }\n",
       "</style>\n",
       "<table border=\"1\" class=\"dataframe\">\n",
       "  <thead>\n",
       "    <tr>\n",
       "      <th>model</th>\n",
       "      <th colspan=\"3\" halign=\"left\">PI</th>\n",
       "      <th colspan=\"3\" halign=\"left\">TRKNN</th>\n",
       "    </tr>\n",
       "    <tr>\n",
       "      <th>var</th>\n",
       "      <th>p-unc</th>\n",
       "      <th>-Log10 pvalue</th>\n",
       "      <th>qvalue</th>\n",
       "      <th>p-unc</th>\n",
       "      <th>-Log10 pvalue</th>\n",
       "      <th>qvalue</th>\n",
       "    </tr>\n",
       "  </thead>\n",
       "  <tbody>\n",
       "    <tr>\n",
       "      <th>count</th>\n",
       "      <td>7,105.000</td>\n",
       "      <td>7,105.000</td>\n",
       "      <td>7,105.000</td>\n",
       "      <td>7,105.000</td>\n",
       "      <td>7,105.000</td>\n",
       "      <td>7,105.000</td>\n",
       "    </tr>\n",
       "    <tr>\n",
       "      <th>mean</th>\n",
       "      <td>0.261</td>\n",
       "      <td>2.486</td>\n",
       "      <td>0.338</td>\n",
       "      <td>0.230</td>\n",
       "      <td>3.114</td>\n",
       "      <td>0.287</td>\n",
       "    </tr>\n",
       "    <tr>\n",
       "      <th>std</th>\n",
       "      <td>0.304</td>\n",
       "      <td>5.329</td>\n",
       "      <td>0.332</td>\n",
       "      <td>0.296</td>\n",
       "      <td>5.792</td>\n",
       "      <td>0.323</td>\n",
       "    </tr>\n",
       "    <tr>\n",
       "      <th>min</th>\n",
       "      <td>0.000</td>\n",
       "      <td>0.000</td>\n",
       "      <td>0.000</td>\n",
       "      <td>0.000</td>\n",
       "      <td>0.000</td>\n",
       "      <td>0.000</td>\n",
       "    </tr>\n",
       "    <tr>\n",
       "      <th>25%</th>\n",
       "      <td>0.004</td>\n",
       "      <td>0.332</td>\n",
       "      <td>0.015</td>\n",
       "      <td>0.001</td>\n",
       "      <td>0.392</td>\n",
       "      <td>0.003</td>\n",
       "    </tr>\n",
       "    <tr>\n",
       "      <th>50%</th>\n",
       "      <td>0.118</td>\n",
       "      <td>0.926</td>\n",
       "      <td>0.237</td>\n",
       "      <td>0.066</td>\n",
       "      <td>1.182</td>\n",
       "      <td>0.131</td>\n",
       "    </tr>\n",
       "    <tr>\n",
       "      <th>75%</th>\n",
       "      <td>0.466</td>\n",
       "      <td>2.436</td>\n",
       "      <td>0.621</td>\n",
       "      <td>0.405</td>\n",
       "      <td>3.156</td>\n",
       "      <td>0.540</td>\n",
       "    </tr>\n",
       "    <tr>\n",
       "      <th>max</th>\n",
       "      <td>1.000</td>\n",
       "      <td>145.679</td>\n",
       "      <td>1.000</td>\n",
       "      <td>1.000</td>\n",
       "      <td>82.663</td>\n",
       "      <td>1.000</td>\n",
       "    </tr>\n",
       "  </tbody>\n",
       "</table>\n",
       "</div>"
      ],
      "text/plain": [
       "model        PI                             TRKNN                        \n",
       "var       p-unc -Log10 pvalue    qvalue     p-unc -Log10 pvalue    qvalue\n",
       "count 7,105.000     7,105.000 7,105.000 7,105.000     7,105.000 7,105.000\n",
       "mean      0.261         2.486     0.338     0.230         3.114     0.287\n",
       "std       0.304         5.329     0.332     0.296         5.792     0.323\n",
       "min       0.000         0.000     0.000     0.000         0.000     0.000\n",
       "25%       0.004         0.332     0.015     0.001         0.392     0.003\n",
       "50%       0.118         0.926     0.237     0.066         1.182     0.131\n",
       "75%       0.466         2.436     0.621     0.405         3.156     0.540\n",
       "max       1.000       145.679     1.000     1.000        82.663     1.000"
      ]
     },
     "execution_count": 10,
     "metadata": {},
     "output_type": "execute_result"
    }
   ],
   "source": [
    "scores.describe()"
   ]
  },
  {
   "cell_type": "markdown",
   "id": "52ecc596",
   "metadata": {
    "papermill": {
     "duration": 0.033338,
     "end_time": "2024-11-08T17:24:39.188734",
     "exception": false,
     "start_time": "2024-11-08T17:24:39.155396",
     "status": "completed"
    },
    "tags": []
   },
   "source": [
    "### One to one comparison of by feature:"
   ]
  },
  {
   "cell_type": "code",
   "execution_count": 11,
   "id": "c6e5a0a6-343b-4f07-8d9d-2cd5cf95ae1f",
   "metadata": {
    "execution": {
     "iopub.execute_input": "2024-11-08T17:24:39.264892Z",
     "iopub.status.busy": "2024-11-08T17:24:39.264583Z",
     "iopub.status.idle": "2024-11-08T17:24:39.731038Z",
     "shell.execute_reply": "2024-11-08T17:24:39.730262Z"
    },
    "papermill": {
     "duration": 0.515707,
     "end_time": "2024-11-08T17:24:39.732338",
     "exception": false,
     "start_time": "2024-11-08T17:24:39.216631",
     "status": "completed"
    },
    "tags": [
     "hide-input"
    ]
   },
   "outputs": [
    {
     "name": "stderr",
     "output_type": "stream",
     "text": [
      "/tmp/ipykernel_48894/3761369923.py:2: FutureWarning: Starting with pandas version 3.0 all arguments of to_excel except for the argument 'excel_writer' will be keyword-only.\n",
      "  scores.to_excel(writer, 'scores', **writer_args)\n"
     ]
    },
    {
     "data": {
      "text/html": [
       "<div>\n",
       "<style scoped>\n",
       "    .dataframe tbody tr th:only-of-type {\n",
       "        vertical-align: middle;\n",
       "    }\n",
       "\n",
       "    .dataframe tbody tr th {\n",
       "        vertical-align: top;\n",
       "    }\n",
       "\n",
       "    .dataframe thead tr th {\n",
       "        text-align: left;\n",
       "    }\n",
       "\n",
       "    .dataframe thead tr:last-of-type th {\n",
       "        text-align: right;\n",
       "    }\n",
       "</style>\n",
       "<table border=\"1\" class=\"dataframe\">\n",
       "  <thead>\n",
       "    <tr>\n",
       "      <th></th>\n",
       "      <th>model</th>\n",
       "      <th colspan=\"4\" halign=\"left\">PI</th>\n",
       "      <th colspan=\"4\" halign=\"left\">TRKNN</th>\n",
       "    </tr>\n",
       "    <tr>\n",
       "      <th></th>\n",
       "      <th>var</th>\n",
       "      <th>p-unc</th>\n",
       "      <th>-Log10 pvalue</th>\n",
       "      <th>qvalue</th>\n",
       "      <th>rejected</th>\n",
       "      <th>p-unc</th>\n",
       "      <th>-Log10 pvalue</th>\n",
       "      <th>qvalue</th>\n",
       "      <th>rejected</th>\n",
       "    </tr>\n",
       "    <tr>\n",
       "      <th>protein groups</th>\n",
       "      <th>Source</th>\n",
       "      <th></th>\n",
       "      <th></th>\n",
       "      <th></th>\n",
       "      <th></th>\n",
       "      <th></th>\n",
       "      <th></th>\n",
       "      <th></th>\n",
       "      <th></th>\n",
       "    </tr>\n",
       "  </thead>\n",
       "  <tbody>\n",
       "    <tr>\n",
       "      <th>A0A024QZX5;A0A087X1N8;P35237</th>\n",
       "      <th>AD</th>\n",
       "      <td>0.394</td>\n",
       "      <td>0.405</td>\n",
       "      <td>0.558</td>\n",
       "      <td>False</td>\n",
       "      <td>0.008</td>\n",
       "      <td>2.085</td>\n",
       "      <td>0.023</td>\n",
       "      <td>True</td>\n",
       "    </tr>\n",
       "    <tr>\n",
       "      <th>A0A024R0T9;K7ER74;P02655</th>\n",
       "      <th>AD</th>\n",
       "      <td>0.058</td>\n",
       "      <td>1.237</td>\n",
       "      <td>0.136</td>\n",
       "      <td>False</td>\n",
       "      <td>0.031</td>\n",
       "      <td>1.512</td>\n",
       "      <td>0.071</td>\n",
       "      <td>False</td>\n",
       "    </tr>\n",
       "    <tr>\n",
       "      <th>A0A024R3W6;A0A024R412;O60462;O60462-2;O60462-3;O60462-4;O60462-5;Q7LBX6;X5D2Q8</th>\n",
       "      <th>AD</th>\n",
       "      <td>0.074</td>\n",
       "      <td>1.129</td>\n",
       "      <td>0.165</td>\n",
       "      <td>False</td>\n",
       "      <td>0.264</td>\n",
       "      <td>0.578</td>\n",
       "      <td>0.394</td>\n",
       "      <td>False</td>\n",
       "    </tr>\n",
       "    <tr>\n",
       "      <th>A0A024R644;A0A0A0MRU5;A0A1B0GWI2;O75503</th>\n",
       "      <th>AD</th>\n",
       "      <td>0.453</td>\n",
       "      <td>0.344</td>\n",
       "      <td>0.611</td>\n",
       "      <td>False</td>\n",
       "      <td>0.266</td>\n",
       "      <td>0.575</td>\n",
       "      <td>0.396</td>\n",
       "      <td>False</td>\n",
       "    </tr>\n",
       "    <tr>\n",
       "      <th>A0A075B6H7</th>\n",
       "      <th>AD</th>\n",
       "      <td>0.319</td>\n",
       "      <td>0.497</td>\n",
       "      <td>0.483</td>\n",
       "      <td>False</td>\n",
       "      <td>0.020</td>\n",
       "      <td>1.707</td>\n",
       "      <td>0.048</td>\n",
       "      <td>True</td>\n",
       "    </tr>\n",
       "    <tr>\n",
       "      <th>...</th>\n",
       "      <th>...</th>\n",
       "      <td>...</td>\n",
       "      <td>...</td>\n",
       "      <td>...</td>\n",
       "      <td>...</td>\n",
       "      <td>...</td>\n",
       "      <td>...</td>\n",
       "      <td>...</td>\n",
       "      <td>...</td>\n",
       "    </tr>\n",
       "    <tr>\n",
       "      <th>Q9Y6R7</th>\n",
       "      <th>AD</th>\n",
       "      <td>0.175</td>\n",
       "      <td>0.756</td>\n",
       "      <td>0.316</td>\n",
       "      <td>False</td>\n",
       "      <td>0.175</td>\n",
       "      <td>0.756</td>\n",
       "      <td>0.289</td>\n",
       "      <td>False</td>\n",
       "    </tr>\n",
       "    <tr>\n",
       "      <th>Q9Y6X5</th>\n",
       "      <th>AD</th>\n",
       "      <td>0.029</td>\n",
       "      <td>1.536</td>\n",
       "      <td>0.079</td>\n",
       "      <td>False</td>\n",
       "      <td>0.113</td>\n",
       "      <td>0.946</td>\n",
       "      <td>0.205</td>\n",
       "      <td>False</td>\n",
       "    </tr>\n",
       "    <tr>\n",
       "      <th>Q9Y6Y8;Q9Y6Y8-2</th>\n",
       "      <th>AD</th>\n",
       "      <td>0.083</td>\n",
       "      <td>1.079</td>\n",
       "      <td>0.180</td>\n",
       "      <td>False</td>\n",
       "      <td>0.083</td>\n",
       "      <td>1.079</td>\n",
       "      <td>0.160</td>\n",
       "      <td>False</td>\n",
       "    </tr>\n",
       "    <tr>\n",
       "      <th>Q9Y6Y9</th>\n",
       "      <th>AD</th>\n",
       "      <td>0.291</td>\n",
       "      <td>0.537</td>\n",
       "      <td>0.452</td>\n",
       "      <td>False</td>\n",
       "      <td>0.334</td>\n",
       "      <td>0.476</td>\n",
       "      <td>0.472</td>\n",
       "      <td>False</td>\n",
       "    </tr>\n",
       "    <tr>\n",
       "      <th>S4R3U6</th>\n",
       "      <th>AD</th>\n",
       "      <td>0.292</td>\n",
       "      <td>0.535</td>\n",
       "      <td>0.453</td>\n",
       "      <td>False</td>\n",
       "      <td>0.036</td>\n",
       "      <td>1.449</td>\n",
       "      <td>0.080</td>\n",
       "      <td>False</td>\n",
       "    </tr>\n",
       "  </tbody>\n",
       "</table>\n",
       "<p>1421 rows × 8 columns</p>\n",
       "</div>"
      ],
      "text/plain": [
       "model                                                        PI                \\\n",
       "var                                                       p-unc -Log10 pvalue   \n",
       "protein groups                                     Source                       \n",
       "A0A024QZX5;A0A087X1N8;P35237                       AD     0.394         0.405   \n",
       "A0A024R0T9;K7ER74;P02655                           AD     0.058         1.237   \n",
       "A0A024R3W6;A0A024R412;O60462;O60462-2;O60462-3;... AD     0.074         1.129   \n",
       "A0A024R644;A0A0A0MRU5;A0A1B0GWI2;O75503            AD     0.453         0.344   \n",
       "A0A075B6H7                                         AD     0.319         0.497   \n",
       "...                                                         ...           ...   \n",
       "Q9Y6R7                                             AD     0.175         0.756   \n",
       "Q9Y6X5                                             AD     0.029         1.536   \n",
       "Q9Y6Y8;Q9Y6Y8-2                                    AD     0.083         1.079   \n",
       "Q9Y6Y9                                             AD     0.291         0.537   \n",
       "S4R3U6                                             AD     0.292         0.535   \n",
       "\n",
       "model                                                                      \\\n",
       "var                                                       qvalue rejected   \n",
       "protein groups                                     Source                   \n",
       "A0A024QZX5;A0A087X1N8;P35237                       AD      0.558    False   \n",
       "A0A024R0T9;K7ER74;P02655                           AD      0.136    False   \n",
       "A0A024R3W6;A0A024R412;O60462;O60462-2;O60462-3;... AD      0.165    False   \n",
       "A0A024R644;A0A0A0MRU5;A0A1B0GWI2;O75503            AD      0.611    False   \n",
       "A0A075B6H7                                         AD      0.483    False   \n",
       "...                                                          ...      ...   \n",
       "Q9Y6R7                                             AD      0.316    False   \n",
       "Q9Y6X5                                             AD      0.079    False   \n",
       "Q9Y6Y8;Q9Y6Y8-2                                    AD      0.180    False   \n",
       "Q9Y6Y9                                             AD      0.452    False   \n",
       "S4R3U6                                             AD      0.453    False   \n",
       "\n",
       "model                                                     TRKNN                \\\n",
       "var                                                       p-unc -Log10 pvalue   \n",
       "protein groups                                     Source                       \n",
       "A0A024QZX5;A0A087X1N8;P35237                       AD     0.008         2.085   \n",
       "A0A024R0T9;K7ER74;P02655                           AD     0.031         1.512   \n",
       "A0A024R3W6;A0A024R412;O60462;O60462-2;O60462-3;... AD     0.264         0.578   \n",
       "A0A024R644;A0A0A0MRU5;A0A1B0GWI2;O75503            AD     0.266         0.575   \n",
       "A0A075B6H7                                         AD     0.020         1.707   \n",
       "...                                                         ...           ...   \n",
       "Q9Y6R7                                             AD     0.175         0.756   \n",
       "Q9Y6X5                                             AD     0.113         0.946   \n",
       "Q9Y6Y8;Q9Y6Y8-2                                    AD     0.083         1.079   \n",
       "Q9Y6Y9                                             AD     0.334         0.476   \n",
       "S4R3U6                                             AD     0.036         1.449   \n",
       "\n",
       "model                                                                      \n",
       "var                                                       qvalue rejected  \n",
       "protein groups                                     Source                  \n",
       "A0A024QZX5;A0A087X1N8;P35237                       AD      0.023     True  \n",
       "A0A024R0T9;K7ER74;P02655                           AD      0.071    False  \n",
       "A0A024R3W6;A0A024R412;O60462;O60462-2;O60462-3;... AD      0.394    False  \n",
       "A0A024R644;A0A0A0MRU5;A0A1B0GWI2;O75503            AD      0.396    False  \n",
       "A0A075B6H7                                         AD      0.048     True  \n",
       "...                                                          ...      ...  \n",
       "Q9Y6R7                                             AD      0.289    False  \n",
       "Q9Y6X5                                             AD      0.205    False  \n",
       "Q9Y6Y8;Q9Y6Y8-2                                    AD      0.160    False  \n",
       "Q9Y6Y9                                             AD      0.472    False  \n",
       "S4R3U6                                             AD      0.080    False  \n",
       "\n",
       "[1421 rows x 8 columns]"
      ]
     },
     "execution_count": 11,
     "metadata": {},
     "output_type": "execute_result"
    }
   ],
   "source": [
    "scores = scores.loc[pd.IndexSlice[:, args.target], :]\n",
    "scores.to_excel(writer, 'scores', **writer_args)\n",
    "scores"
   ]
  },
  {
   "cell_type": "markdown",
   "id": "36e14580",
   "metadata": {
    "papermill": {
     "duration": 0.031856,
     "end_time": "2024-11-08T17:24:39.783859",
     "exception": false,
     "start_time": "2024-11-08T17:24:39.752003",
     "status": "completed"
    },
    "tags": []
   },
   "source": [
    "And the descriptive statistics\n",
    "of the numeric values:"
   ]
  },
  {
   "cell_type": "code",
   "execution_count": 12,
   "id": "0e45e80a-32d8-4c6c-b0a4-5ce8b7f9e121",
   "metadata": {
    "execution": {
     "iopub.execute_input": "2024-11-08T17:24:39.839128Z",
     "iopub.status.busy": "2024-11-08T17:24:39.838814Z",
     "iopub.status.idle": "2024-11-08T17:24:39.873417Z",
     "shell.execute_reply": "2024-11-08T17:24:39.872670Z"
    },
    "papermill": {
     "duration": 0.052292,
     "end_time": "2024-11-08T17:24:39.874898",
     "exception": false,
     "start_time": "2024-11-08T17:24:39.822606",
     "status": "completed"
    },
    "tags": [
     "hide-input"
    ]
   },
   "outputs": [
    {
     "data": {
      "text/html": [
       "<div>\n",
       "<style scoped>\n",
       "    .dataframe tbody tr th:only-of-type {\n",
       "        vertical-align: middle;\n",
       "    }\n",
       "\n",
       "    .dataframe tbody tr th {\n",
       "        vertical-align: top;\n",
       "    }\n",
       "\n",
       "    .dataframe thead tr th {\n",
       "        text-align: left;\n",
       "    }\n",
       "</style>\n",
       "<table border=\"1\" class=\"dataframe\">\n",
       "  <thead>\n",
       "    <tr>\n",
       "      <th>model</th>\n",
       "      <th colspan=\"3\" halign=\"left\">PI</th>\n",
       "      <th colspan=\"3\" halign=\"left\">TRKNN</th>\n",
       "    </tr>\n",
       "    <tr>\n",
       "      <th>var</th>\n",
       "      <th>p-unc</th>\n",
       "      <th>-Log10 pvalue</th>\n",
       "      <th>qvalue</th>\n",
       "      <th>p-unc</th>\n",
       "      <th>-Log10 pvalue</th>\n",
       "      <th>qvalue</th>\n",
       "    </tr>\n",
       "  </thead>\n",
       "  <tbody>\n",
       "    <tr>\n",
       "      <th>count</th>\n",
       "      <td>1,421.000</td>\n",
       "      <td>1,421.000</td>\n",
       "      <td>1,421.000</td>\n",
       "      <td>1,421.000</td>\n",
       "      <td>1,421.000</td>\n",
       "      <td>1,421.000</td>\n",
       "    </tr>\n",
       "    <tr>\n",
       "      <th>mean</th>\n",
       "      <td>0.255</td>\n",
       "      <td>1.415</td>\n",
       "      <td>0.337</td>\n",
       "      <td>0.239</td>\n",
       "      <td>1.579</td>\n",
       "      <td>0.301</td>\n",
       "    </tr>\n",
       "    <tr>\n",
       "      <th>std</th>\n",
       "      <td>0.291</td>\n",
       "      <td>1.657</td>\n",
       "      <td>0.318</td>\n",
       "      <td>0.294</td>\n",
       "      <td>1.800</td>\n",
       "      <td>0.317</td>\n",
       "    </tr>\n",
       "    <tr>\n",
       "      <th>min</th>\n",
       "      <td>0.000</td>\n",
       "      <td>0.000</td>\n",
       "      <td>0.000</td>\n",
       "      <td>0.000</td>\n",
       "      <td>0.002</td>\n",
       "      <td>0.000</td>\n",
       "    </tr>\n",
       "    <tr>\n",
       "      <th>25%</th>\n",
       "      <td>0.012</td>\n",
       "      <td>0.357</td>\n",
       "      <td>0.039</td>\n",
       "      <td>0.007</td>\n",
       "      <td>0.373</td>\n",
       "      <td>0.021</td>\n",
       "    </tr>\n",
       "    <tr>\n",
       "      <th>50%</th>\n",
       "      <td>0.121</td>\n",
       "      <td>0.916</td>\n",
       "      <td>0.241</td>\n",
       "      <td>0.086</td>\n",
       "      <td>1.063</td>\n",
       "      <td>0.164</td>\n",
       "    </tr>\n",
       "    <tr>\n",
       "      <th>75%</th>\n",
       "      <td>0.439</td>\n",
       "      <td>1.921</td>\n",
       "      <td>0.598</td>\n",
       "      <td>0.423</td>\n",
       "      <td>2.151</td>\n",
       "      <td>0.559</td>\n",
       "    </tr>\n",
       "    <tr>\n",
       "      <th>max</th>\n",
       "      <td>0.999</td>\n",
       "      <td>23.152</td>\n",
       "      <td>0.999</td>\n",
       "      <td>0.996</td>\n",
       "      <td>19.900</td>\n",
       "      <td>0.997</td>\n",
       "    </tr>\n",
       "  </tbody>\n",
       "</table>\n",
       "</div>"
      ],
      "text/plain": [
       "model        PI                             TRKNN                        \n",
       "var       p-unc -Log10 pvalue    qvalue     p-unc -Log10 pvalue    qvalue\n",
       "count 1,421.000     1,421.000 1,421.000 1,421.000     1,421.000 1,421.000\n",
       "mean      0.255         1.415     0.337     0.239         1.579     0.301\n",
       "std       0.291         1.657     0.318     0.294         1.800     0.317\n",
       "min       0.000         0.000     0.000     0.000         0.002     0.000\n",
       "25%       0.012         0.357     0.039     0.007         0.373     0.021\n",
       "50%       0.121         0.916     0.241     0.086         1.063     0.164\n",
       "75%       0.439         1.921     0.598     0.423         2.151     0.559\n",
       "max       0.999        23.152     0.999     0.996        19.900     0.997"
      ]
     },
     "execution_count": 12,
     "metadata": {},
     "output_type": "execute_result"
    }
   ],
   "source": [
    "scores.describe()"
   ]
  },
  {
   "cell_type": "markdown",
   "id": "e520d6dc",
   "metadata": {
    "papermill": {
     "duration": 0.015496,
     "end_time": "2024-11-08T17:24:39.906378",
     "exception": false,
     "start_time": "2024-11-08T17:24:39.890882",
     "status": "completed"
    },
    "tags": []
   },
   "source": [
    "and the boolean decision values"
   ]
  },
  {
   "cell_type": "code",
   "execution_count": 13,
   "id": "53bd5597-221c-4d54-abf2-82956db42594",
   "metadata": {
    "execution": {
     "iopub.execute_input": "2024-11-08T17:24:39.954863Z",
     "iopub.status.busy": "2024-11-08T17:24:39.954551Z",
     "iopub.status.idle": "2024-11-08T17:24:39.971244Z",
     "shell.execute_reply": "2024-11-08T17:24:39.970551Z"
    },
    "lines_to_next_cell": 2,
    "papermill": {
     "duration": 0.049748,
     "end_time": "2024-11-08T17:24:39.972620",
     "exception": false,
     "start_time": "2024-11-08T17:24:39.922872",
     "status": "completed"
    },
    "tags": [
     "hide-input"
    ]
   },
   "outputs": [
    {
     "data": {
      "text/html": [
       "<div>\n",
       "<style scoped>\n",
       "    .dataframe tbody tr th:only-of-type {\n",
       "        vertical-align: middle;\n",
       "    }\n",
       "\n",
       "    .dataframe tbody tr th {\n",
       "        vertical-align: top;\n",
       "    }\n",
       "\n",
       "    .dataframe thead tr th {\n",
       "        text-align: left;\n",
       "    }\n",
       "</style>\n",
       "<table border=\"1\" class=\"dataframe\">\n",
       "  <thead>\n",
       "    <tr>\n",
       "      <th>model</th>\n",
       "      <th>PI</th>\n",
       "      <th>TRKNN</th>\n",
       "    </tr>\n",
       "    <tr>\n",
       "      <th>var</th>\n",
       "      <th>rejected</th>\n",
       "      <th>rejected</th>\n",
       "    </tr>\n",
       "  </thead>\n",
       "  <tbody>\n",
       "    <tr>\n",
       "      <th>count</th>\n",
       "      <td>1421</td>\n",
       "      <td>1421</td>\n",
       "    </tr>\n",
       "    <tr>\n",
       "      <th>unique</th>\n",
       "      <td>2</td>\n",
       "      <td>2</td>\n",
       "    </tr>\n",
       "    <tr>\n",
       "      <th>top</th>\n",
       "      <td>False</td>\n",
       "      <td>False</td>\n",
       "    </tr>\n",
       "    <tr>\n",
       "      <th>freq</th>\n",
       "      <td>1028</td>\n",
       "      <td>936</td>\n",
       "    </tr>\n",
       "  </tbody>\n",
       "</table>\n",
       "</div>"
      ],
      "text/plain": [
       "model        PI    TRKNN\n",
       "var    rejected rejected\n",
       "count      1421     1421\n",
       "unique        2        2\n",
       "top       False    False\n",
       "freq       1028      936"
      ]
     },
     "execution_count": 13,
     "metadata": {},
     "output_type": "execute_result"
    }
   ],
   "source": [
    "scores.describe(include=['bool', 'O'])"
   ]
  },
  {
   "cell_type": "markdown",
   "id": "bef83742-05e5-473b-892e-dd286cb3a31f",
   "metadata": {
    "papermill": {
     "duration": 0.017125,
     "end_time": "2024-11-08T17:24:40.006365",
     "exception": false,
     "start_time": "2024-11-08T17:24:39.989240",
     "status": "completed"
    },
    "tags": []
   },
   "source": [
    "## Load frequencies of observed features"
   ]
  },
  {
   "cell_type": "code",
   "execution_count": 14,
   "id": "2a926ba1-0f3b-4089-a349-b6d66128cf37",
   "metadata": {
    "execution": {
     "iopub.execute_input": "2024-11-08T17:24:40.038694Z",
     "iopub.status.busy": "2024-11-08T17:24:40.038402Z",
     "iopub.status.idle": "2024-11-08T17:24:40.069548Z",
     "shell.execute_reply": "2024-11-08T17:24:40.068697Z"
    },
    "papermill": {
     "duration": 0.048969,
     "end_time": "2024-11-08T17:24:40.071423",
     "exception": false,
     "start_time": "2024-11-08T17:24:40.022454",
     "status": "completed"
    },
    "tags": [
     "hide-input"
    ]
   },
   "outputs": [
    {
     "data": {
      "text/html": [
       "<div>\n",
       "<style scoped>\n",
       "    .dataframe tbody tr th:only-of-type {\n",
       "        vertical-align: middle;\n",
       "    }\n",
       "\n",
       "    .dataframe tbody tr th {\n",
       "        vertical-align: top;\n",
       "    }\n",
       "\n",
       "    .dataframe thead tr th {\n",
       "        text-align: left;\n",
       "    }\n",
       "\n",
       "    .dataframe thead tr:last-of-type th {\n",
       "        text-align: right;\n",
       "    }\n",
       "</style>\n",
       "<table border=\"1\" class=\"dataframe\">\n",
       "  <thead>\n",
       "    <tr>\n",
       "      <th></th>\n",
       "      <th>data</th>\n",
       "    </tr>\n",
       "    <tr>\n",
       "      <th></th>\n",
       "      <th>frequency</th>\n",
       "    </tr>\n",
       "    <tr>\n",
       "      <th>protein groups</th>\n",
       "      <th></th>\n",
       "    </tr>\n",
       "  </thead>\n",
       "  <tbody>\n",
       "    <tr>\n",
       "      <th>A0A024QZX5;A0A087X1N8;P35237</th>\n",
       "      <td>186</td>\n",
       "    </tr>\n",
       "    <tr>\n",
       "      <th>A0A024R0T9;K7ER74;P02655</th>\n",
       "      <td>195</td>\n",
       "    </tr>\n",
       "    <tr>\n",
       "      <th>A0A024R3W6;A0A024R412;O60462;O60462-2;O60462-3;O60462-4;O60462-5;Q7LBX6;X5D2Q8</th>\n",
       "      <td>174</td>\n",
       "    </tr>\n",
       "    <tr>\n",
       "      <th>A0A024R644;A0A0A0MRU5;A0A1B0GWI2;O75503</th>\n",
       "      <td>196</td>\n",
       "    </tr>\n",
       "    <tr>\n",
       "      <th>A0A075B6H7</th>\n",
       "      <td>91</td>\n",
       "    </tr>\n",
       "    <tr>\n",
       "      <th>...</th>\n",
       "      <td>...</td>\n",
       "    </tr>\n",
       "    <tr>\n",
       "      <th>Q9Y6R7</th>\n",
       "      <td>197</td>\n",
       "    </tr>\n",
       "    <tr>\n",
       "      <th>Q9Y6X5</th>\n",
       "      <td>173</td>\n",
       "    </tr>\n",
       "    <tr>\n",
       "      <th>Q9Y6Y8;Q9Y6Y8-2</th>\n",
       "      <td>197</td>\n",
       "    </tr>\n",
       "    <tr>\n",
       "      <th>Q9Y6Y9</th>\n",
       "      <td>119</td>\n",
       "    </tr>\n",
       "    <tr>\n",
       "      <th>S4R3U6</th>\n",
       "      <td>126</td>\n",
       "    </tr>\n",
       "  </tbody>\n",
       "</table>\n",
       "<p>1421 rows × 1 columns</p>\n",
       "</div>"
      ],
      "text/plain": [
       "                                                        data\n",
       "                                                   frequency\n",
       "protein groups                                              \n",
       "A0A024QZX5;A0A087X1N8;P35237                             186\n",
       "A0A024R0T9;K7ER74;P02655                                 195\n",
       "A0A024R3W6;A0A024R412;O60462;O60462-2;O60462-3;...       174\n",
       "A0A024R644;A0A0A0MRU5;A0A1B0GWI2;O75503                  196\n",
       "A0A075B6H7                                                91\n",
       "...                                                      ...\n",
       "Q9Y6R7                                                   197\n",
       "Q9Y6X5                                                   173\n",
       "Q9Y6Y8;Q9Y6Y8-2                                          197\n",
       "Q9Y6Y9                                                   119\n",
       "S4R3U6                                                   126\n",
       "\n",
       "[1421 rows x 1 columns]"
      ]
     },
     "execution_count": 14,
     "metadata": {},
     "output_type": "execute_result"
    }
   ],
   "source": [
    "freq_feat = pd.read_csv(args.freq_features_observed, index_col=0)\n",
    "freq_feat.columns = pd.MultiIndex.from_tuples([('data', 'frequency'),])\n",
    "freq_feat"
   ]
  },
  {
   "cell_type": "markdown",
   "id": "408eacfe-770f-42ff-9057-2a98274e1ae3",
   "metadata": {
    "papermill": {
     "duration": 0.039684,
     "end_time": "2024-11-08T17:24:40.152657",
     "exception": false,
     "start_time": "2024-11-08T17:24:40.112973",
     "status": "completed"
    },
    "tags": []
   },
   "source": [
    "## Compare shared features"
   ]
  },
  {
   "cell_type": "code",
   "execution_count": 15,
   "id": "5b2dfb0f-195b-4044-a228-2d784ea2a458",
   "metadata": {
    "execution": {
     "iopub.execute_input": "2024-11-08T17:24:40.187198Z",
     "iopub.status.busy": "2024-11-08T17:24:40.186893Z",
     "iopub.status.idle": "2024-11-08T17:24:40.207556Z",
     "shell.execute_reply": "2024-11-08T17:24:40.206833Z"
    },
    "papermill": {
     "duration": 0.038898,
     "end_time": "2024-11-08T17:24:40.208844",
     "exception": false,
     "start_time": "2024-11-08T17:24:40.169946",
     "status": "completed"
    },
    "tags": [
     "hide-input"
    ]
   },
   "outputs": [
    {
     "data": {
      "text/html": [
       "<div>\n",
       "<style scoped>\n",
       "    .dataframe tbody tr th:only-of-type {\n",
       "        vertical-align: middle;\n",
       "    }\n",
       "\n",
       "    .dataframe tbody tr th {\n",
       "        vertical-align: top;\n",
       "    }\n",
       "\n",
       "    .dataframe thead tr th {\n",
       "        text-align: left;\n",
       "    }\n",
       "\n",
       "    .dataframe thead tr:last-of-type th {\n",
       "        text-align: right;\n",
       "    }\n",
       "</style>\n",
       "<table border=\"1\" class=\"dataframe\">\n",
       "  <thead>\n",
       "    <tr>\n",
       "      <th></th>\n",
       "      <th colspan=\"4\" halign=\"left\">PI</th>\n",
       "      <th colspan=\"4\" halign=\"left\">TRKNN</th>\n",
       "      <th>data</th>\n",
       "    </tr>\n",
       "    <tr>\n",
       "      <th></th>\n",
       "      <th>p-unc</th>\n",
       "      <th>-Log10 pvalue</th>\n",
       "      <th>qvalue</th>\n",
       "      <th>rejected</th>\n",
       "      <th>p-unc</th>\n",
       "      <th>-Log10 pvalue</th>\n",
       "      <th>qvalue</th>\n",
       "      <th>rejected</th>\n",
       "      <th>frequency</th>\n",
       "    </tr>\n",
       "    <tr>\n",
       "      <th>protein groups</th>\n",
       "      <th></th>\n",
       "      <th></th>\n",
       "      <th></th>\n",
       "      <th></th>\n",
       "      <th></th>\n",
       "      <th></th>\n",
       "      <th></th>\n",
       "      <th></th>\n",
       "      <th></th>\n",
       "    </tr>\n",
       "  </thead>\n",
       "  <tbody>\n",
       "    <tr>\n",
       "      <th>A0A024QZX5;A0A087X1N8;P35237</th>\n",
       "      <td>0.394</td>\n",
       "      <td>0.405</td>\n",
       "      <td>0.558</td>\n",
       "      <td>False</td>\n",
       "      <td>0.008</td>\n",
       "      <td>2.085</td>\n",
       "      <td>0.023</td>\n",
       "      <td>True</td>\n",
       "      <td>186</td>\n",
       "    </tr>\n",
       "    <tr>\n",
       "      <th>A0A024R0T9;K7ER74;P02655</th>\n",
       "      <td>0.058</td>\n",
       "      <td>1.237</td>\n",
       "      <td>0.136</td>\n",
       "      <td>False</td>\n",
       "      <td>0.031</td>\n",
       "      <td>1.512</td>\n",
       "      <td>0.071</td>\n",
       "      <td>False</td>\n",
       "      <td>195</td>\n",
       "    </tr>\n",
       "    <tr>\n",
       "      <th>A0A024R3W6;A0A024R412;O60462;O60462-2;O60462-3;O60462-4;O60462-5;Q7LBX6;X5D2Q8</th>\n",
       "      <td>0.074</td>\n",
       "      <td>1.129</td>\n",
       "      <td>0.165</td>\n",
       "      <td>False</td>\n",
       "      <td>0.264</td>\n",
       "      <td>0.578</td>\n",
       "      <td>0.394</td>\n",
       "      <td>False</td>\n",
       "      <td>174</td>\n",
       "    </tr>\n",
       "    <tr>\n",
       "      <th>A0A024R644;A0A0A0MRU5;A0A1B0GWI2;O75503</th>\n",
       "      <td>0.453</td>\n",
       "      <td>0.344</td>\n",
       "      <td>0.611</td>\n",
       "      <td>False</td>\n",
       "      <td>0.266</td>\n",
       "      <td>0.575</td>\n",
       "      <td>0.396</td>\n",
       "      <td>False</td>\n",
       "      <td>196</td>\n",
       "    </tr>\n",
       "    <tr>\n",
       "      <th>A0A075B6H7</th>\n",
       "      <td>0.319</td>\n",
       "      <td>0.497</td>\n",
       "      <td>0.483</td>\n",
       "      <td>False</td>\n",
       "      <td>0.020</td>\n",
       "      <td>1.707</td>\n",
       "      <td>0.048</td>\n",
       "      <td>True</td>\n",
       "      <td>91</td>\n",
       "    </tr>\n",
       "    <tr>\n",
       "      <th>...</th>\n",
       "      <td>...</td>\n",
       "      <td>...</td>\n",
       "      <td>...</td>\n",
       "      <td>...</td>\n",
       "      <td>...</td>\n",
       "      <td>...</td>\n",
       "      <td>...</td>\n",
       "      <td>...</td>\n",
       "      <td>...</td>\n",
       "    </tr>\n",
       "    <tr>\n",
       "      <th>Q9Y6R7</th>\n",
       "      <td>0.175</td>\n",
       "      <td>0.756</td>\n",
       "      <td>0.316</td>\n",
       "      <td>False</td>\n",
       "      <td>0.175</td>\n",
       "      <td>0.756</td>\n",
       "      <td>0.289</td>\n",
       "      <td>False</td>\n",
       "      <td>197</td>\n",
       "    </tr>\n",
       "    <tr>\n",
       "      <th>Q9Y6X5</th>\n",
       "      <td>0.029</td>\n",
       "      <td>1.536</td>\n",
       "      <td>0.079</td>\n",
       "      <td>False</td>\n",
       "      <td>0.113</td>\n",
       "      <td>0.946</td>\n",
       "      <td>0.205</td>\n",
       "      <td>False</td>\n",
       "      <td>173</td>\n",
       "    </tr>\n",
       "    <tr>\n",
       "      <th>Q9Y6Y8;Q9Y6Y8-2</th>\n",
       "      <td>0.083</td>\n",
       "      <td>1.079</td>\n",
       "      <td>0.180</td>\n",
       "      <td>False</td>\n",
       "      <td>0.083</td>\n",
       "      <td>1.079</td>\n",
       "      <td>0.160</td>\n",
       "      <td>False</td>\n",
       "      <td>197</td>\n",
       "    </tr>\n",
       "    <tr>\n",
       "      <th>Q9Y6Y9</th>\n",
       "      <td>0.291</td>\n",
       "      <td>0.537</td>\n",
       "      <td>0.452</td>\n",
       "      <td>False</td>\n",
       "      <td>0.334</td>\n",
       "      <td>0.476</td>\n",
       "      <td>0.472</td>\n",
       "      <td>False</td>\n",
       "      <td>119</td>\n",
       "    </tr>\n",
       "    <tr>\n",
       "      <th>S4R3U6</th>\n",
       "      <td>0.292</td>\n",
       "      <td>0.535</td>\n",
       "      <td>0.453</td>\n",
       "      <td>False</td>\n",
       "      <td>0.036</td>\n",
       "      <td>1.449</td>\n",
       "      <td>0.080</td>\n",
       "      <td>False</td>\n",
       "      <td>126</td>\n",
       "    </tr>\n",
       "  </tbody>\n",
       "</table>\n",
       "<p>1421 rows × 9 columns</p>\n",
       "</div>"
      ],
      "text/plain": [
       "                                                      PI                       \\\n",
       "                                                   p-unc -Log10 pvalue qvalue   \n",
       "protein groups                                                                  \n",
       "A0A024QZX5;A0A087X1N8;P35237                       0.394         0.405  0.558   \n",
       "A0A024R0T9;K7ER74;P02655                           0.058         1.237  0.136   \n",
       "A0A024R3W6;A0A024R412;O60462;O60462-2;O60462-3;... 0.074         1.129  0.165   \n",
       "A0A024R644;A0A0A0MRU5;A0A1B0GWI2;O75503            0.453         0.344  0.611   \n",
       "A0A075B6H7                                         0.319         0.497  0.483   \n",
       "...                                                  ...           ...    ...   \n",
       "Q9Y6R7                                             0.175         0.756  0.316   \n",
       "Q9Y6X5                                             0.029         1.536  0.079   \n",
       "Q9Y6Y8;Q9Y6Y8-2                                    0.083         1.079  0.180   \n",
       "Q9Y6Y9                                             0.291         0.537  0.452   \n",
       "S4R3U6                                             0.292         0.535  0.453   \n",
       "\n",
       "                                                            TRKNN  \\\n",
       "                                                   rejected p-unc   \n",
       "protein groups                                                      \n",
       "A0A024QZX5;A0A087X1N8;P35237                          False 0.008   \n",
       "A0A024R0T9;K7ER74;P02655                              False 0.031   \n",
       "A0A024R3W6;A0A024R412;O60462;O60462-2;O60462-3;...    False 0.264   \n",
       "A0A024R644;A0A0A0MRU5;A0A1B0GWI2;O75503               False 0.266   \n",
       "A0A075B6H7                                            False 0.020   \n",
       "...                                                     ...   ...   \n",
       "Q9Y6R7                                                False 0.175   \n",
       "Q9Y6X5                                                False 0.113   \n",
       "Q9Y6Y8;Q9Y6Y8-2                                       False 0.083   \n",
       "Q9Y6Y9                                                False 0.334   \n",
       "S4R3U6                                                False 0.036   \n",
       "\n",
       "                                                                         \\\n",
       "                                                   -Log10 pvalue qvalue   \n",
       "protein groups                                                            \n",
       "A0A024QZX5;A0A087X1N8;P35237                               2.085  0.023   \n",
       "A0A024R0T9;K7ER74;P02655                                   1.512  0.071   \n",
       "A0A024R3W6;A0A024R412;O60462;O60462-2;O60462-3;...         0.578  0.394   \n",
       "A0A024R644;A0A0A0MRU5;A0A1B0GWI2;O75503                    0.575  0.396   \n",
       "A0A075B6H7                                                 1.707  0.048   \n",
       "...                                                          ...    ...   \n",
       "Q9Y6R7                                                     0.756  0.289   \n",
       "Q9Y6X5                                                     0.946  0.205   \n",
       "Q9Y6Y8;Q9Y6Y8-2                                            1.079  0.160   \n",
       "Q9Y6Y9                                                     0.476  0.472   \n",
       "S4R3U6                                                     1.449  0.080   \n",
       "\n",
       "                                                                 data  \n",
       "                                                   rejected frequency  \n",
       "protein groups                                                         \n",
       "A0A024QZX5;A0A087X1N8;P35237                           True       186  \n",
       "A0A024R0T9;K7ER74;P02655                              False       195  \n",
       "A0A024R3W6;A0A024R412;O60462;O60462-2;O60462-3;...    False       174  \n",
       "A0A024R644;A0A0A0MRU5;A0A1B0GWI2;O75503               False       196  \n",
       "A0A075B6H7                                             True        91  \n",
       "...                                                     ...       ...  \n",
       "Q9Y6R7                                                False       197  \n",
       "Q9Y6X5                                                False       173  \n",
       "Q9Y6Y8;Q9Y6Y8-2                                       False       197  \n",
       "Q9Y6Y9                                                False       119  \n",
       "S4R3U6                                                False       126  \n",
       "\n",
       "[1421 rows x 9 columns]"
      ]
     },
     "execution_count": 15,
     "metadata": {},
     "output_type": "execute_result"
    }
   ],
   "source": [
    "scores_common = (scores\n",
    "                 .dropna()\n",
    "                 .reset_index(-1, drop=True)\n",
    "                 ).join(\n",
    "    freq_feat, how='left'\n",
    ")\n",
    "scores_common"
   ]
  },
  {
   "cell_type": "markdown",
   "id": "62a9eefd",
   "metadata": {
    "papermill": {
     "duration": 0.018194,
     "end_time": "2024-11-08T17:24:40.244274",
     "exception": false,
     "start_time": "2024-11-08T17:24:40.226080",
     "status": "completed"
    },
    "tags": []
   },
   "source": [
    "### Annotate decisions in Confusion Table style:"
   ]
  },
  {
   "cell_type": "code",
   "execution_count": 16,
   "id": "80cf4145-070d-457a-bb74-ee64299809e7",
   "metadata": {
    "execution": {
     "iopub.execute_input": "2024-11-08T17:24:40.316697Z",
     "iopub.status.busy": "2024-11-08T17:24:40.316194Z",
     "iopub.status.idle": "2024-11-08T17:24:40.350735Z",
     "shell.execute_reply": "2024-11-08T17:24:40.346260Z"
    },
    "papermill": {
     "duration": 0.053553,
     "end_time": "2024-11-08T17:24:40.352222",
     "exception": false,
     "start_time": "2024-11-08T17:24:40.298669",
     "status": "completed"
    },
    "tags": [
     "hide-input"
    ]
   },
   "outputs": [
    {
     "data": {
      "text/plain": [
       "Differential Analysis Comparison\n",
       "PI (no)  - TRKNN (no)    881\n",
       "PI (yes) - TRKNN (yes)   338\n",
       "PI (no)  - TRKNN (yes)   147\n",
       "PI (yes) - TRKNN (no)     55\n",
       "Name: count, dtype: int64"
      ]
     },
     "execution_count": 16,
     "metadata": {},
     "output_type": "execute_result"
    }
   ],
   "source": [
    "def annotate_decision(scores, model, model_column):\n",
    "    return scores[(model_column, 'rejected')].replace({False: f'{model} (no) ', True: f'{model} (yes)'})\n",
    "\n",
    "\n",
    "annotations = None\n",
    "for model, model_column in models.items():\n",
    "    if annotations is not None:\n",
    "        annotations += ' - '\n",
    "        annotations += annotate_decision(scores_common,\n",
    "                                         model=model, model_column=model_column)\n",
    "    else:\n",
    "        annotations = annotate_decision(\n",
    "            scores_common, model=model, model_column=model_column)\n",
    "annotations.name = 'Differential Analysis Comparison'\n",
    "annotations.value_counts()"
   ]
  },
  {
   "cell_type": "markdown",
   "id": "0942d395",
   "metadata": {
    "papermill": {
     "duration": 0.021319,
     "end_time": "2024-11-08T17:24:40.413600",
     "exception": false,
     "start_time": "2024-11-08T17:24:40.392281",
     "status": "completed"
    },
    "tags": []
   },
   "source": [
    "### List different decisions between models"
   ]
  },
  {
   "cell_type": "code",
   "execution_count": 17,
   "id": "cda5ffa4-9a97-4a49-aaba-34e83ef7940a",
   "metadata": {
    "execution": {
     "iopub.execute_input": "2024-11-08T17:24:40.447561Z",
     "iopub.status.busy": "2024-11-08T17:24:40.447122Z",
     "iopub.status.idle": "2024-11-08T17:24:40.560849Z",
     "shell.execute_reply": "2024-11-08T17:24:40.560226Z"
    },
    "papermill": {
     "duration": 0.132735,
     "end_time": "2024-11-08T17:24:40.562109",
     "exception": false,
     "start_time": "2024-11-08T17:24:40.429374",
     "status": "completed"
    },
    "tags": [
     "hide-input"
    ]
   },
   "outputs": [
    {
     "name": "stderr",
     "output_type": "stream",
     "text": [
      "/tmp/ipykernel_48894/1417621106.py:6: FutureWarning: Starting with pandas version 3.0 all arguments of to_excel except for the argument 'excel_writer' will be keyword-only.\n",
      "  _to_write.to_excel(writer, 'differences', **writer_args)\n",
      "root - INFO     Writen to Excel file under sheet 'differences'.\n"
     ]
    },
    {
     "data": {
      "text/html": [
       "<div>\n",
       "<style scoped>\n",
       "    .dataframe tbody tr th:only-of-type {\n",
       "        vertical-align: middle;\n",
       "    }\n",
       "\n",
       "    .dataframe tbody tr th {\n",
       "        vertical-align: top;\n",
       "    }\n",
       "\n",
       "    .dataframe thead tr th {\n",
       "        text-align: left;\n",
       "    }\n",
       "\n",
       "    .dataframe thead tr:last-of-type th {\n",
       "        text-align: right;\n",
       "    }\n",
       "</style>\n",
       "<table border=\"1\" class=\"dataframe\">\n",
       "  <thead>\n",
       "    <tr>\n",
       "      <th></th>\n",
       "      <th colspan=\"4\" halign=\"left\">PI</th>\n",
       "      <th colspan=\"4\" halign=\"left\">TRKNN</th>\n",
       "      <th>data</th>\n",
       "    </tr>\n",
       "    <tr>\n",
       "      <th></th>\n",
       "      <th>p-unc</th>\n",
       "      <th>-Log10 pvalue</th>\n",
       "      <th>qvalue</th>\n",
       "      <th>rejected</th>\n",
       "      <th>p-unc</th>\n",
       "      <th>-Log10 pvalue</th>\n",
       "      <th>qvalue</th>\n",
       "      <th>rejected</th>\n",
       "      <th>frequency</th>\n",
       "    </tr>\n",
       "    <tr>\n",
       "      <th>protein groups</th>\n",
       "      <th></th>\n",
       "      <th></th>\n",
       "      <th></th>\n",
       "      <th></th>\n",
       "      <th></th>\n",
       "      <th></th>\n",
       "      <th></th>\n",
       "      <th></th>\n",
       "      <th></th>\n",
       "    </tr>\n",
       "  </thead>\n",
       "  <tbody>\n",
       "    <tr>\n",
       "      <th>A0A024QZX5;A0A087X1N8;P35237</th>\n",
       "      <td>0.394</td>\n",
       "      <td>0.405</td>\n",
       "      <td>0.558</td>\n",
       "      <td>False</td>\n",
       "      <td>0.008</td>\n",
       "      <td>2.085</td>\n",
       "      <td>0.023</td>\n",
       "      <td>True</td>\n",
       "      <td>186</td>\n",
       "    </tr>\n",
       "    <tr>\n",
       "      <th>A0A075B6H7</th>\n",
       "      <td>0.319</td>\n",
       "      <td>0.497</td>\n",
       "      <td>0.483</td>\n",
       "      <td>False</td>\n",
       "      <td>0.020</td>\n",
       "      <td>1.707</td>\n",
       "      <td>0.048</td>\n",
       "      <td>True</td>\n",
       "      <td>91</td>\n",
       "    </tr>\n",
       "    <tr>\n",
       "      <th>A0A075B6J9</th>\n",
       "      <td>0.042</td>\n",
       "      <td>1.373</td>\n",
       "      <td>0.107</td>\n",
       "      <td>False</td>\n",
       "      <td>0.009</td>\n",
       "      <td>2.040</td>\n",
       "      <td>0.026</td>\n",
       "      <td>True</td>\n",
       "      <td>156</td>\n",
       "    </tr>\n",
       "    <tr>\n",
       "      <th>A0A075B6Q5</th>\n",
       "      <td>0.948</td>\n",
       "      <td>0.023</td>\n",
       "      <td>0.973</td>\n",
       "      <td>False</td>\n",
       "      <td>0.002</td>\n",
       "      <td>2.639</td>\n",
       "      <td>0.008</td>\n",
       "      <td>True</td>\n",
       "      <td>104</td>\n",
       "    </tr>\n",
       "    <tr>\n",
       "      <th>A0A075B6R2</th>\n",
       "      <td>0.300</td>\n",
       "      <td>0.523</td>\n",
       "      <td>0.463</td>\n",
       "      <td>False</td>\n",
       "      <td>0.001</td>\n",
       "      <td>2.926</td>\n",
       "      <td>0.004</td>\n",
       "      <td>True</td>\n",
       "      <td>164</td>\n",
       "    </tr>\n",
       "    <tr>\n",
       "      <th>...</th>\n",
       "      <td>...</td>\n",
       "      <td>...</td>\n",
       "      <td>...</td>\n",
       "      <td>...</td>\n",
       "      <td>...</td>\n",
       "      <td>...</td>\n",
       "      <td>...</td>\n",
       "      <td>...</td>\n",
       "      <td>...</td>\n",
       "    </tr>\n",
       "    <tr>\n",
       "      <th>Q9P0K9</th>\n",
       "      <td>0.029</td>\n",
       "      <td>1.543</td>\n",
       "      <td>0.079</td>\n",
       "      <td>False</td>\n",
       "      <td>0.012</td>\n",
       "      <td>1.927</td>\n",
       "      <td>0.032</td>\n",
       "      <td>True</td>\n",
       "      <td>192</td>\n",
       "    </tr>\n",
       "    <tr>\n",
       "      <th>Q9UIB8;Q9UIB8-2;Q9UIB8-3;Q9UIB8-4;Q9UIB8-5;Q9UIB8-6</th>\n",
       "      <td>0.001</td>\n",
       "      <td>2.922</td>\n",
       "      <td>0.006</td>\n",
       "      <td>True</td>\n",
       "      <td>0.174</td>\n",
       "      <td>0.760</td>\n",
       "      <td>0.287</td>\n",
       "      <td>False</td>\n",
       "      <td>115</td>\n",
       "    </tr>\n",
       "    <tr>\n",
       "      <th>Q9UP79</th>\n",
       "      <td>0.133</td>\n",
       "      <td>0.877</td>\n",
       "      <td>0.258</td>\n",
       "      <td>False</td>\n",
       "      <td>0.000</td>\n",
       "      <td>4.258</td>\n",
       "      <td>0.000</td>\n",
       "      <td>True</td>\n",
       "      <td>135</td>\n",
       "    </tr>\n",
       "    <tr>\n",
       "      <th>Q9UQ52</th>\n",
       "      <td>0.041</td>\n",
       "      <td>1.392</td>\n",
       "      <td>0.103</td>\n",
       "      <td>False</td>\n",
       "      <td>0.001</td>\n",
       "      <td>3.136</td>\n",
       "      <td>0.003</td>\n",
       "      <td>True</td>\n",
       "      <td>188</td>\n",
       "    </tr>\n",
       "    <tr>\n",
       "      <th>Q9Y6C2</th>\n",
       "      <td>0.438</td>\n",
       "      <td>0.358</td>\n",
       "      <td>0.597</td>\n",
       "      <td>False</td>\n",
       "      <td>0.002</td>\n",
       "      <td>2.626</td>\n",
       "      <td>0.008</td>\n",
       "      <td>True</td>\n",
       "      <td>119</td>\n",
       "    </tr>\n",
       "  </tbody>\n",
       "</table>\n",
       "<p>202 rows × 9 columns</p>\n",
       "</div>"
      ],
      "text/plain": [
       "                                                      PI                       \\\n",
       "                                                   p-unc -Log10 pvalue qvalue   \n",
       "protein groups                                                                  \n",
       "A0A024QZX5;A0A087X1N8;P35237                       0.394         0.405  0.558   \n",
       "A0A075B6H7                                         0.319         0.497  0.483   \n",
       "A0A075B6J9                                         0.042         1.373  0.107   \n",
       "A0A075B6Q5                                         0.948         0.023  0.973   \n",
       "A0A075B6R2                                         0.300         0.523  0.463   \n",
       "...                                                  ...           ...    ...   \n",
       "Q9P0K9                                             0.029         1.543  0.079   \n",
       "Q9UIB8;Q9UIB8-2;Q9UIB8-3;Q9UIB8-4;Q9UIB8-5;Q9UI... 0.001         2.922  0.006   \n",
       "Q9UP79                                             0.133         0.877  0.258   \n",
       "Q9UQ52                                             0.041         1.392  0.103   \n",
       "Q9Y6C2                                             0.438         0.358  0.597   \n",
       "\n",
       "                                                            TRKNN  \\\n",
       "                                                   rejected p-unc   \n",
       "protein groups                                                      \n",
       "A0A024QZX5;A0A087X1N8;P35237                          False 0.008   \n",
       "A0A075B6H7                                            False 0.020   \n",
       "A0A075B6J9                                            False 0.009   \n",
       "A0A075B6Q5                                            False 0.002   \n",
       "A0A075B6R2                                            False 0.001   \n",
       "...                                                     ...   ...   \n",
       "Q9P0K9                                                False 0.012   \n",
       "Q9UIB8;Q9UIB8-2;Q9UIB8-3;Q9UIB8-4;Q9UIB8-5;Q9UI...     True 0.174   \n",
       "Q9UP79                                                False 0.000   \n",
       "Q9UQ52                                                False 0.001   \n",
       "Q9Y6C2                                                False 0.002   \n",
       "\n",
       "                                                                         \\\n",
       "                                                   -Log10 pvalue qvalue   \n",
       "protein groups                                                            \n",
       "A0A024QZX5;A0A087X1N8;P35237                               2.085  0.023   \n",
       "A0A075B6H7                                                 1.707  0.048   \n",
       "A0A075B6J9                                                 2.040  0.026   \n",
       "A0A075B6Q5                                                 2.639  0.008   \n",
       "A0A075B6R2                                                 2.926  0.004   \n",
       "...                                                          ...    ...   \n",
       "Q9P0K9                                                     1.927  0.032   \n",
       "Q9UIB8;Q9UIB8-2;Q9UIB8-3;Q9UIB8-4;Q9UIB8-5;Q9UI...         0.760  0.287   \n",
       "Q9UP79                                                     4.258  0.000   \n",
       "Q9UQ52                                                     3.136  0.003   \n",
       "Q9Y6C2                                                     2.626  0.008   \n",
       "\n",
       "                                                                 data  \n",
       "                                                   rejected frequency  \n",
       "protein groups                                                         \n",
       "A0A024QZX5;A0A087X1N8;P35237                           True       186  \n",
       "A0A075B6H7                                             True        91  \n",
       "A0A075B6J9                                             True       156  \n",
       "A0A075B6Q5                                             True       104  \n",
       "A0A075B6R2                                             True       164  \n",
       "...                                                     ...       ...  \n",
       "Q9P0K9                                                 True       192  \n",
       "Q9UIB8;Q9UIB8-2;Q9UIB8-3;Q9UIB8-4;Q9UIB8-5;Q9UI...    False       115  \n",
       "Q9UP79                                                 True       135  \n",
       "Q9UQ52                                                 True       188  \n",
       "Q9Y6C2                                                 True       119  \n",
       "\n",
       "[202 rows x 9 columns]"
      ]
     },
     "execution_count": 17,
     "metadata": {},
     "output_type": "execute_result"
    }
   ],
   "source": [
    "mask_different = (\n",
    "    (scores_common.loc[:, pd.IndexSlice[:, 'rejected']].any(axis=1))\n",
    "    & ~(scores_common.loc[:, pd.IndexSlice[:, 'rejected']].all(axis=1))\n",
    ")\n",
    "_to_write = scores_common.loc[mask_different]\n",
    "_to_write.to_excel(writer, 'differences', **writer_args)\n",
    "logger.info(\"Writen to Excel file under sheet 'differences'.\")\n",
    "_to_write"
   ]
  },
  {
   "cell_type": "markdown",
   "id": "e8832084",
   "metadata": {
    "papermill": {
     "duration": 0.028662,
     "end_time": "2024-11-08T17:24:40.621958",
     "exception": false,
     "start_time": "2024-11-08T17:24:40.593296",
     "status": "completed"
    },
    "tags": []
   },
   "source": [
    "## Plot qvalues of both models with annotated decisions\n",
    "\n",
    "Prepare data for plotting (qvalues)"
   ]
  },
  {
   "cell_type": "code",
   "execution_count": 18,
   "id": "5b2e5341-b054-40c3-b45a-44ae6ca46cfb",
   "metadata": {
    "execution": {
     "iopub.execute_input": "2024-11-08T17:24:40.658355Z",
     "iopub.status.busy": "2024-11-08T17:24:40.657634Z",
     "iopub.status.idle": "2024-11-08T17:24:40.671660Z",
     "shell.execute_reply": "2024-11-08T17:24:40.671047Z"
    },
    "papermill": {
     "duration": 0.033275,
     "end_time": "2024-11-08T17:24:40.672846",
     "exception": false,
     "start_time": "2024-11-08T17:24:40.639571",
     "status": "completed"
    },
    "tags": [
     "hide-input"
    ]
   },
   "outputs": [
    {
     "data": {
      "text/html": [
       "<div>\n",
       "<style scoped>\n",
       "    .dataframe tbody tr th:only-of-type {\n",
       "        vertical-align: middle;\n",
       "    }\n",
       "\n",
       "    .dataframe tbody tr th {\n",
       "        vertical-align: top;\n",
       "    }\n",
       "\n",
       "    .dataframe thead th {\n",
       "        text-align: right;\n",
       "    }\n",
       "</style>\n",
       "<table border=\"1\" class=\"dataframe\">\n",
       "  <thead>\n",
       "    <tr style=\"text-align: right;\">\n",
       "      <th></th>\n",
       "      <th>PI</th>\n",
       "      <th>TRKNN</th>\n",
       "      <th>frequency</th>\n",
       "      <th>Differential Analysis Comparison</th>\n",
       "    </tr>\n",
       "    <tr>\n",
       "      <th>protein groups</th>\n",
       "      <th></th>\n",
       "      <th></th>\n",
       "      <th></th>\n",
       "      <th></th>\n",
       "    </tr>\n",
       "  </thead>\n",
       "  <tbody>\n",
       "    <tr>\n",
       "      <th>A0A024QZX5;A0A087X1N8;P35237</th>\n",
       "      <td>0.558</td>\n",
       "      <td>0.023</td>\n",
       "      <td>186</td>\n",
       "      <td>PI (no)  - TRKNN (yes)</td>\n",
       "    </tr>\n",
       "    <tr>\n",
       "      <th>A0A024R0T9;K7ER74;P02655</th>\n",
       "      <td>0.136</td>\n",
       "      <td>0.071</td>\n",
       "      <td>195</td>\n",
       "      <td>PI (no)  - TRKNN (no)</td>\n",
       "    </tr>\n",
       "    <tr>\n",
       "      <th>A0A024R3W6;A0A024R412;O60462;O60462-2;O60462-3;O60462-4;O60462-5;Q7LBX6;X5D2Q8</th>\n",
       "      <td>0.165</td>\n",
       "      <td>0.394</td>\n",
       "      <td>174</td>\n",
       "      <td>PI (no)  - TRKNN (no)</td>\n",
       "    </tr>\n",
       "    <tr>\n",
       "      <th>A0A024R644;A0A0A0MRU5;A0A1B0GWI2;O75503</th>\n",
       "      <td>0.611</td>\n",
       "      <td>0.396</td>\n",
       "      <td>196</td>\n",
       "      <td>PI (no)  - TRKNN (no)</td>\n",
       "    </tr>\n",
       "    <tr>\n",
       "      <th>A0A075B6H7</th>\n",
       "      <td>0.483</td>\n",
       "      <td>0.048</td>\n",
       "      <td>91</td>\n",
       "      <td>PI (no)  - TRKNN (yes)</td>\n",
       "    </tr>\n",
       "    <tr>\n",
       "      <th>...</th>\n",
       "      <td>...</td>\n",
       "      <td>...</td>\n",
       "      <td>...</td>\n",
       "      <td>...</td>\n",
       "    </tr>\n",
       "    <tr>\n",
       "      <th>Q9Y6R7</th>\n",
       "      <td>0.316</td>\n",
       "      <td>0.289</td>\n",
       "      <td>197</td>\n",
       "      <td>PI (no)  - TRKNN (no)</td>\n",
       "    </tr>\n",
       "    <tr>\n",
       "      <th>Q9Y6X5</th>\n",
       "      <td>0.079</td>\n",
       "      <td>0.205</td>\n",
       "      <td>173</td>\n",
       "      <td>PI (no)  - TRKNN (no)</td>\n",
       "    </tr>\n",
       "    <tr>\n",
       "      <th>Q9Y6Y8;Q9Y6Y8-2</th>\n",
       "      <td>0.180</td>\n",
       "      <td>0.160</td>\n",
       "      <td>197</td>\n",
       "      <td>PI (no)  - TRKNN (no)</td>\n",
       "    </tr>\n",
       "    <tr>\n",
       "      <th>Q9Y6Y9</th>\n",
       "      <td>0.452</td>\n",
       "      <td>0.472</td>\n",
       "      <td>119</td>\n",
       "      <td>PI (no)  - TRKNN (no)</td>\n",
       "    </tr>\n",
       "    <tr>\n",
       "      <th>S4R3U6</th>\n",
       "      <td>0.453</td>\n",
       "      <td>0.080</td>\n",
       "      <td>126</td>\n",
       "      <td>PI (no)  - TRKNN (no)</td>\n",
       "    </tr>\n",
       "  </tbody>\n",
       "</table>\n",
       "<p>1421 rows × 4 columns</p>\n",
       "</div>"
      ],
      "text/plain": [
       "                                                      PI  TRKNN  frequency  \\\n",
       "protein groups                                                               \n",
       "A0A024QZX5;A0A087X1N8;P35237                       0.558  0.023        186   \n",
       "A0A024R0T9;K7ER74;P02655                           0.136  0.071        195   \n",
       "A0A024R3W6;A0A024R412;O60462;O60462-2;O60462-3;... 0.165  0.394        174   \n",
       "A0A024R644;A0A0A0MRU5;A0A1B0GWI2;O75503            0.611  0.396        196   \n",
       "A0A075B6H7                                         0.483  0.048         91   \n",
       "...                                                  ...    ...        ...   \n",
       "Q9Y6R7                                             0.316  0.289        197   \n",
       "Q9Y6X5                                             0.079  0.205        173   \n",
       "Q9Y6Y8;Q9Y6Y8-2                                    0.180  0.160        197   \n",
       "Q9Y6Y9                                             0.452  0.472        119   \n",
       "S4R3U6                                             0.453  0.080        126   \n",
       "\n",
       "                                                   Differential Analysis Comparison  \n",
       "protein groups                                                                       \n",
       "A0A024QZX5;A0A087X1N8;P35237                                 PI (no)  - TRKNN (yes)  \n",
       "A0A024R0T9;K7ER74;P02655                                     PI (no)  - TRKNN (no)   \n",
       "A0A024R3W6;A0A024R412;O60462;O60462-2;O60462-3;...           PI (no)  - TRKNN (no)   \n",
       "A0A024R644;A0A0A0MRU5;A0A1B0GWI2;O75503                      PI (no)  - TRKNN (no)   \n",
       "A0A075B6H7                                                   PI (no)  - TRKNN (yes)  \n",
       "...                                                                             ...  \n",
       "Q9Y6R7                                                       PI (no)  - TRKNN (no)   \n",
       "Q9Y6X5                                                       PI (no)  - TRKNN (no)   \n",
       "Q9Y6Y8;Q9Y6Y8-2                                              PI (no)  - TRKNN (no)   \n",
       "Q9Y6Y9                                                       PI (no)  - TRKNN (no)   \n",
       "S4R3U6                                                       PI (no)  - TRKNN (no)   \n",
       "\n",
       "[1421 rows x 4 columns]"
      ]
     },
     "execution_count": 18,
     "metadata": {},
     "output_type": "execute_result"
    }
   ],
   "source": [
    "var = 'qvalue'\n",
    "to_plot = [scores_common[v][var] for v in models.values()]\n",
    "for s, k in zip(to_plot, models.keys()):\n",
    "    s.name = k.replace('_', ' ')\n",
    "to_plot.append(scores_common['data'])\n",
    "to_plot.append(annotations)\n",
    "to_plot = pd.concat(to_plot, axis=1)\n",
    "to_plot"
   ]
  },
  {
   "cell_type": "markdown",
   "id": "c92517a4-8456-4663-b719-4abd997fbb1c",
   "metadata": {
    "papermill": {
     "duration": 0.017363,
     "end_time": "2024-11-08T17:24:40.708279",
     "exception": false,
     "start_time": "2024-11-08T17:24:40.690916",
     "status": "completed"
    },
    "tags": []
   },
   "source": [
    "List of features with the highest difference in qvalues"
   ]
  },
  {
   "cell_type": "code",
   "execution_count": 19,
   "id": "c7af4a70-aa43-4772-af00-d425f5ed249f",
   "metadata": {
    "execution": {
     "iopub.execute_input": "2024-11-08T17:24:40.765530Z",
     "iopub.status.busy": "2024-11-08T17:24:40.765018Z",
     "iopub.status.idle": "2024-11-08T17:24:40.787519Z",
     "shell.execute_reply": "2024-11-08T17:24:40.786907Z"
    },
    "papermill": {
     "duration": 0.063003,
     "end_time": "2024-11-08T17:24:40.801091",
     "exception": false,
     "start_time": "2024-11-08T17:24:40.738088",
     "status": "completed"
    },
    "tags": [
     "hide-input"
    ]
   },
   "outputs": [
    {
     "data": {
      "text/html": [
       "<div>\n",
       "<style scoped>\n",
       "    .dataframe tbody tr th:only-of-type {\n",
       "        vertical-align: middle;\n",
       "    }\n",
       "\n",
       "    .dataframe tbody tr th {\n",
       "        vertical-align: top;\n",
       "    }\n",
       "\n",
       "    .dataframe thead th {\n",
       "        text-align: right;\n",
       "    }\n",
       "</style>\n",
       "<table border=\"1\" class=\"dataframe\">\n",
       "  <thead>\n",
       "    <tr style=\"text-align: right;\">\n",
       "      <th></th>\n",
       "      <th>PI</th>\n",
       "      <th>TRKNN</th>\n",
       "      <th>frequency</th>\n",
       "      <th>Differential Analysis Comparison</th>\n",
       "      <th>diff_qvalue</th>\n",
       "    </tr>\n",
       "    <tr>\n",
       "      <th>protein groups</th>\n",
       "      <th></th>\n",
       "      <th></th>\n",
       "      <th></th>\n",
       "      <th></th>\n",
       "      <th></th>\n",
       "    </tr>\n",
       "  </thead>\n",
       "  <tbody>\n",
       "    <tr>\n",
       "      <th>Q16853;Q16853-2</th>\n",
       "      <td>0.999</td>\n",
       "      <td>0.021</td>\n",
       "      <td>167</td>\n",
       "      <td>PI (no)  - TRKNN (yes)</td>\n",
       "      <td>0.979</td>\n",
       "    </tr>\n",
       "    <tr>\n",
       "      <th>O94898</th>\n",
       "      <td>0.981</td>\n",
       "      <td>0.002</td>\n",
       "      <td>60</td>\n",
       "      <td>PI (no)  - TRKNN (yes)</td>\n",
       "      <td>0.979</td>\n",
       "    </tr>\n",
       "    <tr>\n",
       "      <th>P01743</th>\n",
       "      <td>0.980</td>\n",
       "      <td>0.008</td>\n",
       "      <td>113</td>\n",
       "      <td>PI (no)  - TRKNN (yes)</td>\n",
       "      <td>0.972</td>\n",
       "    </tr>\n",
       "    <tr>\n",
       "      <th>A0A075B6Q5</th>\n",
       "      <td>0.973</td>\n",
       "      <td>0.008</td>\n",
       "      <td>104</td>\n",
       "      <td>PI (no)  - TRKNN (yes)</td>\n",
       "      <td>0.965</td>\n",
       "    </tr>\n",
       "    <tr>\n",
       "      <th>P20138;P20138-2</th>\n",
       "      <td>0.981</td>\n",
       "      <td>0.025</td>\n",
       "      <td>54</td>\n",
       "      <td>PI (no)  - TRKNN (yes)</td>\n",
       "      <td>0.956</td>\n",
       "    </tr>\n",
       "    <tr>\n",
       "      <th>...</th>\n",
       "      <td>...</td>\n",
       "      <td>...</td>\n",
       "      <td>...</td>\n",
       "      <td>...</td>\n",
       "      <td>...</td>\n",
       "    </tr>\n",
       "    <tr>\n",
       "      <th>A0A0J9YXX1</th>\n",
       "      <td>0.058</td>\n",
       "      <td>0.048</td>\n",
       "      <td>197</td>\n",
       "      <td>PI (no)  - TRKNN (yes)</td>\n",
       "      <td>0.010</td>\n",
       "    </tr>\n",
       "    <tr>\n",
       "      <th>F5GY80;F5H7G1;P07358</th>\n",
       "      <td>0.057</td>\n",
       "      <td>0.047</td>\n",
       "      <td>197</td>\n",
       "      <td>PI (no)  - TRKNN (yes)</td>\n",
       "      <td>0.010</td>\n",
       "    </tr>\n",
       "    <tr>\n",
       "      <th>Q9NX62</th>\n",
       "      <td>0.055</td>\n",
       "      <td>0.046</td>\n",
       "      <td>197</td>\n",
       "      <td>PI (no)  - TRKNN (yes)</td>\n",
       "      <td>0.009</td>\n",
       "    </tr>\n",
       "    <tr>\n",
       "      <th>P00740;P00740-2</th>\n",
       "      <td>0.052</td>\n",
       "      <td>0.044</td>\n",
       "      <td>197</td>\n",
       "      <td>PI (no)  - TRKNN (yes)</td>\n",
       "      <td>0.009</td>\n",
       "    </tr>\n",
       "    <tr>\n",
       "      <th>K7ERG9;P00746</th>\n",
       "      <td>0.052</td>\n",
       "      <td>0.043</td>\n",
       "      <td>197</td>\n",
       "      <td>PI (no)  - TRKNN (yes)</td>\n",
       "      <td>0.009</td>\n",
       "    </tr>\n",
       "  </tbody>\n",
       "</table>\n",
       "<p>202 rows × 5 columns</p>\n",
       "</div>"
      ],
      "text/plain": [
       "                        PI  TRKNN  frequency Differential Analysis Comparison  \\\n",
       "protein groups                                                                  \n",
       "Q16853;Q16853-2      0.999  0.021        167           PI (no)  - TRKNN (yes)   \n",
       "O94898               0.981  0.002         60           PI (no)  - TRKNN (yes)   \n",
       "P01743               0.980  0.008        113           PI (no)  - TRKNN (yes)   \n",
       "A0A075B6Q5           0.973  0.008        104           PI (no)  - TRKNN (yes)   \n",
       "P20138;P20138-2      0.981  0.025         54           PI (no)  - TRKNN (yes)   \n",
       "...                    ...    ...        ...                              ...   \n",
       "A0A0J9YXX1           0.058  0.048        197           PI (no)  - TRKNN (yes)   \n",
       "F5GY80;F5H7G1;P07358 0.057  0.047        197           PI (no)  - TRKNN (yes)   \n",
       "Q9NX62               0.055  0.046        197           PI (no)  - TRKNN (yes)   \n",
       "P00740;P00740-2      0.052  0.044        197           PI (no)  - TRKNN (yes)   \n",
       "K7ERG9;P00746        0.052  0.043        197           PI (no)  - TRKNN (yes)   \n",
       "\n",
       "                      diff_qvalue  \n",
       "protein groups                     \n",
       "Q16853;Q16853-2             0.979  \n",
       "O94898                      0.979  \n",
       "P01743                      0.972  \n",
       "A0A075B6Q5                  0.965  \n",
       "P20138;P20138-2             0.956  \n",
       "...                           ...  \n",
       "A0A0J9YXX1                  0.010  \n",
       "F5GY80;F5H7G1;P07358        0.010  \n",
       "Q9NX62                      0.009  \n",
       "P00740;P00740-2             0.009  \n",
       "K7ERG9;P00746               0.009  \n",
       "\n",
       "[202 rows x 5 columns]"
      ]
     },
     "execution_count": 19,
     "metadata": {},
     "output_type": "execute_result"
    }
   ],
   "source": [
    "# should it be possible to run not only RSN?\n",
    "to_plot['diff_qvalue'] = (to_plot[str(args.baseline)] - to_plot[str(args.model_key)]).abs()\n",
    "to_plot.loc[mask_different].sort_values('diff_qvalue', ascending=False)"
   ]
  },
  {
   "cell_type": "markdown",
   "id": "e715954e-2d62-4cd9-b4b0-063524bca495",
   "metadata": {
    "papermill": {
     "duration": 0.018193,
     "end_time": "2024-11-08T17:24:40.857669",
     "exception": false,
     "start_time": "2024-11-08T17:24:40.839476",
     "status": "completed"
    },
    "tags": []
   },
   "source": [
    "### Differences plotted with created annotations"
   ]
  },
  {
   "cell_type": "code",
   "execution_count": 20,
   "id": "a20d356d-c397-4440-b70e-9d899aa200fd",
   "metadata": {
    "execution": {
     "iopub.execute_input": "2024-11-08T17:24:40.904799Z",
     "iopub.status.busy": "2024-11-08T17:24:40.904288Z",
     "iopub.status.idle": "2024-11-08T17:24:42.800163Z",
     "shell.execute_reply": "2024-11-08T17:24:42.799524Z"
    },
    "papermill": {
     "duration": 1.916024,
     "end_time": "2024-11-08T17:24:42.801467",
     "exception": false,
     "start_time": "2024-11-08T17:24:40.885443",
     "status": "completed"
    },
    "tags": [
     "hide-input"
    ]
   },
   "outputs": [
    {
     "name": "stderr",
     "output_type": "stream",
     "text": [
      "pimmslearn.plotting - INFO     Saved Figures to runs/alzheimer_study/diff_analysis/AD/PI_vs_TRKNN/diff_analysis_comparision_1_TRKNN\n"
     ]
    },
    {
     "data": {
      "image/png": "[encoded data removed]",
      "text/plain": [
       "<Figure size 588x588 with 1 Axes>"
      ]
     },
     "metadata": {},
     "output_type": "display_data"
    }
   ],
   "source": [
    "figsize = (4, 4)\n",
    "size = 5\n",
    "fig, ax = plt.subplots(figsize=figsize)\n",
    "x_col = to_plot.columns[0]\n",
    "y_col = to_plot.columns[1]\n",
    "ax = sns.scatterplot(data=to_plot,\n",
    "                     x=x_col,\n",
    "                     y=y_col,\n",
    "                     s=size,\n",
    "                     hue='Differential Analysis Comparison',\n",
    "                     ax=ax)\n",
    "_ = ax.legend(fontsize=fontsize,\n",
    "              title_fontsize=fontsize,\n",
    "              markerscale=0.4,\n",
    "              title='',\n",
    "              )\n",
    "ax.set_xlabel(f\"qvalue for {x_col}\")\n",
    "ax.set_ylabel(f\"qvalue for {y_col}\")\n",
    "ax.hlines(0.05, 0, 1, color='grey', linestyles='dotted')\n",
    "ax.vlines(0.05, 0, 1, color='grey', linestyles='dotted')\n",
    "sns.move_legend(ax, \"upper right\")\n",
    "files_out[f'diff_analysis_comparision_1_{args.model_key}'] = (\n",
    "    args.out_folder /\n",
    "    f'diff_analysis_comparision_1_{args.model_key}')\n",
    "fname = files_out[f'diff_analysis_comparision_1_{args.model_key}']\n",
    "pimmslearn.savefig(fig, name=fname)"
   ]
  },
  {
   "cell_type": "markdown",
   "id": "d8849c76-c5f6-4618-87c0-f2635dc9ac66",
   "metadata": {
    "papermill": {
     "duration": 0.019782,
     "end_time": "2024-11-08T17:24:42.842263",
     "exception": false,
     "start_time": "2024-11-08T17:24:42.822481",
     "status": "completed"
    },
    "tags": []
   },
   "source": [
    "- also showing how many features were measured (\"observed\") by size of circle"
   ]
  },
  {
   "cell_type": "code",
   "execution_count": 21,
   "id": "1cf258f8-9dcb-40bb-af66-b600f8d413f6",
   "metadata": {
    "execution": {
     "iopub.execute_input": "2024-11-08T17:24:42.885383Z",
     "iopub.status.busy": "2024-11-08T17:24:42.885036Z",
     "iopub.status.idle": "2024-11-08T17:24:44.426784Z",
     "shell.execute_reply": "2024-11-08T17:24:44.426152Z"
    },
    "papermill": {
     "duration": 1.563604,
     "end_time": "2024-11-08T17:24:44.427742",
     "exception": false,
     "start_time": "2024-11-08T17:24:42.864138",
     "status": "completed"
    },
    "tags": [
     "hide-input"
    ]
   },
   "outputs": [
    {
     "name": "stderr",
     "output_type": "stream",
     "text": [
      "pimmslearn.plotting - INFO     Saved Figures to runs/alzheimer_study/diff_analysis/AD/PI_vs_TRKNN/diff_analysis_comparision_2_TRKNN\n"
     ]
    },
    {
     "data": {
      "image/png": "[encoded data removed]",
      "text/plain": [
       "<Figure size 588x588 with 1 Axes>"
      ]
     },
     "metadata": {},
     "output_type": "display_data"
    }
   ],
   "source": [
    "fig, ax = plt.subplots(figsize=figsize)\n",
    "ax = sns.scatterplot(data=to_plot,\n",
    "                     x=to_plot.columns[0],\n",
    "                     y=to_plot.columns[1],\n",
    "                     size='frequency',\n",
    "                     s=size,\n",
    "                     sizes=(5, 20),\n",
    "                     hue='Differential Analysis Comparison')\n",
    "_ = ax.legend(fontsize=fontsize,\n",
    "              title_fontsize=fontsize,\n",
    "              markerscale=0.6,\n",
    "              title='',\n",
    "              )\n",
    "ax.set_xlabel(f\"qvalue for {x_col}\")\n",
    "ax.set_ylabel(f\"qvalue for {y_col}\")\n",
    "ax.hlines(0.05, 0, 1, color='grey', linestyles='dotted')\n",
    "ax.vlines(0.05, 0, 1, color='grey', linestyles='dotted')\n",
    "sns.move_legend(ax, \"upper right\")\n",
    "files_out[f'diff_analysis_comparision_2_{args.model_key}'] = (\n",
    "    args.out_folder / f'diff_analysis_comparision_2_{args.model_key}')\n",
    "pimmslearn.savefig(\n",
    "    fig, name=files_out[f'diff_analysis_comparision_2_{args.model_key}'])"
   ]
  },
  {
   "cell_type": "markdown",
   "id": "1fee3a21-d8b3-40c6-aea2-4774dfe855ca",
   "metadata": {
    "papermill": {
     "duration": 0.023309,
     "end_time": "2024-11-08T17:24:44.469626",
     "exception": false,
     "start_time": "2024-11-08T17:24:44.446317",
     "status": "completed"
    },
    "tags": []
   },
   "source": [
    "## Only features contained in model\n",
    "- this block exist due to a specific part in the ALD analysis of the paper"
   ]
  },
  {
   "cell_type": "code",
   "execution_count": 22,
   "id": "c4e23a01-fd37-4496-a518-445a9ef38db1",
   "metadata": {
    "execution": {
     "iopub.execute_input": "2024-11-08T17:24:44.521552Z",
     "iopub.status.busy": "2024-11-08T17:24:44.521252Z",
     "iopub.status.idle": "2024-11-08T17:24:44.529141Z",
     "shell.execute_reply": "2024-11-08T17:24:44.528550Z"
    },
    "papermill": {
     "duration": 0.036365,
     "end_time": "2024-11-08T17:24:44.530434",
     "exception": false,
     "start_time": "2024-11-08T17:24:44.494069",
     "status": "completed"
    },
    "tags": [
     "hide-input"
    ]
   },
   "outputs": [
    {
     "name": "stderr",
     "output_type": "stream",
     "text": [
      "root - INFO     No features only in new comparision model.\n"
     ]
    }
   ],
   "source": [
    "scores_model_only = scores.reset_index(level=-1, drop=True)\n",
    "_diff = scores_model_only.index.difference(scores_common.index)\n",
    "if not _diff.empty:\n",
    "    scores_model_only = (scores_model_only\n",
    "                         .loc[\n",
    "                             _diff,\n",
    "                             args.model_key]\n",
    "                         .sort_values(by='qvalue', ascending=True)\n",
    "                         .join(freq_feat.squeeze().rename(freq_feat.columns.droplevel()[0])\n",
    "                               )\n",
    "                         )\n",
    "    display(scores_model_only)\n",
    "else:\n",
    "    scores_model_only = None\n",
    "    logger.info(\"No features only in new comparision model.\")\n",
    "\n",
    "if not _diff.empty:\n",
    "    scores_model_only.to_excel(writer, 'only_model', **writer_args)\n",
    "    display(scores_model_only.rejected.value_counts())\n",
    "    scores_model_only_rejected = scores_model_only.loc[scores_model_only.rejected]\n",
    "    scores_model_only_rejected.to_excel(\n",
    "        writer, 'only_model_rejected', **writer_args)"
   ]
  },
  {
   "cell_type": "markdown",
   "id": "78b2c336",
   "metadata": {
    "papermill": {
     "duration": 0.022423,
     "end_time": "2024-11-08T17:24:44.575825",
     "exception": false,
     "start_time": "2024-11-08T17:24:44.553402",
     "status": "completed"
    },
    "tags": []
   },
   "source": [
    "## DISEASES DB lookup\n",
    "\n",
    "Query diseases database for gene associations with specified disease ontology id."
   ]
  },
  {
   "cell_type": "code",
   "execution_count": 23,
   "id": "d93a9242-0ef4-4fc7-bd98-226a93639f58",
   "metadata": {
    "execution": {
     "iopub.execute_input": "2024-11-08T17:24:44.621848Z",
     "iopub.status.busy": "2024-11-08T17:24:44.621548Z",
     "iopub.status.idle": "2024-11-08T17:24:47.235170Z",
     "shell.execute_reply": "2024-11-08T17:24:47.234542Z"
    },
    "papermill": {
     "duration": 2.637949,
     "end_time": "2024-11-08T17:24:47.236204",
     "exception": false,
     "start_time": "2024-11-08T17:24:44.598255",
     "status": "completed"
    },
    "tags": [
     "hide-input"
    ]
   },
   "outputs": [
    {
     "name": "stderr",
     "output_type": "stream",
     "text": [
      "pimmslearn.databases.diseases - WARNING  There are more associations available\n"
     ]
    },
    {
     "data": {
      "text/html": [
       "<div>\n",
       "<style scoped>\n",
       "    .dataframe tbody tr th:only-of-type {\n",
       "        vertical-align: middle;\n",
       "    }\n",
       "\n",
       "    .dataframe tbody tr th {\n",
       "        vertical-align: top;\n",
       "    }\n",
       "\n",
       "    .dataframe thead th {\n",
       "        text-align: right;\n",
       "    }\n",
       "</style>\n",
       "<table border=\"1\" class=\"dataframe\">\n",
       "  <thead>\n",
       "    <tr style=\"text-align: right;\">\n",
       "      <th></th>\n",
       "      <th>ENSP</th>\n",
       "      <th>score</th>\n",
       "    </tr>\n",
       "    <tr>\n",
       "      <th>None</th>\n",
       "      <th></th>\n",
       "      <th></th>\n",
       "    </tr>\n",
       "  </thead>\n",
       "  <tbody>\n",
       "    <tr>\n",
       "      <th>PSEN1</th>\n",
       "      <td>ENSP00000326366</td>\n",
       "      <td>5.000</td>\n",
       "    </tr>\n",
       "    <tr>\n",
       "      <th>PSEN2</th>\n",
       "      <td>ENSP00000355747</td>\n",
       "      <td>5.000</td>\n",
       "    </tr>\n",
       "    <tr>\n",
       "      <th>APOE</th>\n",
       "      <td>ENSP00000252486</td>\n",
       "      <td>5.000</td>\n",
       "    </tr>\n",
       "    <tr>\n",
       "      <th>APP</th>\n",
       "      <td>ENSP00000284981</td>\n",
       "      <td>5.000</td>\n",
       "    </tr>\n",
       "    <tr>\n",
       "      <th>MAPT</th>\n",
       "      <td>ENSP00000340820</td>\n",
       "      <td>4.800</td>\n",
       "    </tr>\n",
       "    <tr>\n",
       "      <th>...</th>\n",
       "      <td>...</td>\n",
       "      <td>...</td>\n",
       "    </tr>\n",
       "    <tr>\n",
       "      <th>FRAT2</th>\n",
       "      <td>ENSP00000360058</td>\n",
       "      <td>0.681</td>\n",
       "    </tr>\n",
       "    <tr>\n",
       "      <th>CLEC4M</th>\n",
       "      <td>ENSP00000316228</td>\n",
       "      <td>0.681</td>\n",
       "    </tr>\n",
       "    <tr>\n",
       "      <th>DSC2</th>\n",
       "      <td>ENSP00000280904</td>\n",
       "      <td>0.681</td>\n",
       "    </tr>\n",
       "    <tr>\n",
       "      <th>CD79B</th>\n",
       "      <td>ENSP00000376544</td>\n",
       "      <td>0.681</td>\n",
       "    </tr>\n",
       "    <tr>\n",
       "      <th>PPP1R13B</th>\n",
       "      <td>ENSP00000202556</td>\n",
       "      <td>0.681</td>\n",
       "    </tr>\n",
       "  </tbody>\n",
       "</table>\n",
       "<p>10000 rows × 2 columns</p>\n",
       "</div>"
      ],
      "text/plain": [
       "                     ENSP  score\n",
       "None                            \n",
       "PSEN1     ENSP00000326366  5.000\n",
       "PSEN2     ENSP00000355747  5.000\n",
       "APOE      ENSP00000252486  5.000\n",
       "APP       ENSP00000284981  5.000\n",
       "MAPT      ENSP00000340820  4.800\n",
       "...                   ...    ...\n",
       "FRAT2     ENSP00000360058  0.681\n",
       "CLEC4M    ENSP00000316228  0.681\n",
       "DSC2      ENSP00000280904  0.681\n",
       "CD79B     ENSP00000376544  0.681\n",
       "PPP1R13B  ENSP00000202556  0.681\n",
       "\n",
       "[10000 rows x 2 columns]"
      ]
     },
     "execution_count": 23,
     "metadata": {},
     "output_type": "execute_result"
    }
   ],
   "source": [
    "data = pimmslearn.databases.diseases.get_disease_association(\n",
    "    doid=args.disease_ontology, limit=10000)\n",
    "data = pd.DataFrame.from_dict(data, orient='index').rename_axis('ENSP', axis=0)\n",
    "data = data.rename(columns={'name': args.annotaitons_gene_col}).reset_index(\n",
    ").set_index(args.annotaitons_gene_col)\n",
    "data"
   ]
  },
  {
   "cell_type": "markdown",
   "id": "efe22443-2613-46ad-83c2-41048e13dd57",
   "metadata": {
    "papermill": {
     "duration": 0.03221,
     "end_time": "2024-11-08T17:24:47.317344",
     "exception": false,
     "start_time": "2024-11-08T17:24:47.285134",
     "status": "completed"
    },
    "tags": []
   },
   "source": [
    "## Shared features\n",
    "ToDo: new script -> DISEASES DB lookup"
   ]
  },
  {
   "cell_type": "code",
   "execution_count": null,
   "id": "5c26415e",
   "metadata": {
    "papermill": {
     "duration": 0.034572,
     "end_time": "2024-11-08T17:24:47.377731",
     "exception": false,
     "start_time": "2024-11-08T17:24:47.343159",
     "status": "completed"
    },
    "tags": [
     "hide-input"
    ]
   },
   "outputs": [],
   "source": []
  },
  {
   "cell_type": "code",
   "execution_count": 24,
   "id": "b68b43df",
   "metadata": {
    "execution": {
     "iopub.execute_input": "2024-11-08T17:24:47.427318Z",
     "iopub.status.busy": "2024-11-08T17:24:47.426604Z",
     "iopub.status.idle": "2024-11-08T17:24:47.441277Z",
     "shell.execute_reply": "2024-11-08T17:24:47.440257Z"
    },
    "papermill": {
     "duration": 0.041476,
     "end_time": "2024-11-08T17:24:47.442381",
     "exception": true,
     "start_time": "2024-11-08T17:24:47.400905",
     "status": "failed"
    },
    "tags": [
     "hide-input"
    ]
   },
   "outputs": [
    {
     "name": "stderr",
     "output_type": "stream",
     "text": [
      "root - INFO     No gene annotation in scores index:  ['protein groups', 'Source'] Exiting.\n"
     ]
    },
    {
     "ename": "SystemExit",
     "evalue": "0",
     "output_type": "error",
     "traceback": [
      "An exception has occurred, use %tb to see the full traceback.\n",
      "\u001b[0;31mSystemExit\u001b[0m\u001b[0;31m:\u001b[0m 0\n"
     ]
    },
    {
     "name": "stderr",
     "output_type": "stream",
     "text": [
      "/home/runner/work/pimms/pimms/project/.snakemake/conda/3fa5fb1d5dd2a817778dc1597a6471cf_/lib/python3.12/site-packages/IPython/core/interactiveshell.py:3585: UserWarning: To exit: use 'exit', 'quit', or Ctrl-D.\n",
      "  warn(\"To exit: use 'exit', 'quit', or Ctrl-D.\", stacklevel=1)\n"
     ]
    }
   ],
   "source": [
    "feat_name = scores.index.names[0]  # first index level is feature name\n",
    "if args.annotaitons_gene_col in scores.index.names:\n",
    "    logger.info(f\"Found gene annotation in scores index:  {scores.index.names}\")\n",
    "else:\n",
    "    logger.info(f\"No gene annotation in scores index:  {scores.index.names}\"\n",
    "                \" Exiting.\")\n",
    "    import sys\n",
    "    sys.exit(0)"
   ]
  },
  {
   "cell_type": "code",
   "execution_count": null,
   "id": "f8d4a74d-5a9b-4d9b-9345-4288bb23e19f",
   "metadata": {
    "papermill": {
     "duration": null,
     "end_time": null,
     "exception": null,
     "start_time": null,
     "status": "pending"
    },
    "tags": [
     "hide-input"
    ]
   },
   "outputs": [],
   "source": [
    "gene_to_PG = (scores.droplevel(\n",
    "    list(set(scores.index.names) - {feat_name, args.annotaitons_gene_col})\n",
    ")\n",
    "    .index\n",
    "    .to_frame()\n",
    "    .reset_index(drop=True)\n",
    "    .set_index(args.annotaitons_gene_col)\n",
    ")\n",
    "gene_to_PG.head()"
   ]
  },
  {
   "cell_type": "code",
   "execution_count": null,
   "id": "d9e76def-b48a-458d-a90b-765e6e70f7a4",
   "metadata": {
    "papermill": {
     "duration": null,
     "end_time": null,
     "exception": null,
     "start_time": null,
     "status": "pending"
    },
    "tags": [
     "hide-input"
    ]
   },
   "outputs": [],
   "source": [
    "disease_associations_all = data.join(\n",
    "    gene_to_PG).dropna().reset_index().set_index(feat_name).join(annotations)\n",
    "disease_associations_all"
   ]
  },
  {
   "cell_type": "markdown",
   "id": "217972a3-ba4a-4f28-ab8f-25dc0f5e9ede",
   "metadata": {
    "papermill": {
     "duration": null,
     "end_time": null,
     "exception": null,
     "start_time": null,
     "status": "pending"
    },
    "tags": []
   },
   "source": [
    "## only by model"
   ]
  },
  {
   "cell_type": "code",
   "execution_count": null,
   "id": "8e9d6944-87ba-4c41-af14-fb5ed93262f0",
   "metadata": {
    "papermill": {
     "duration": null,
     "end_time": null,
     "exception": null,
     "start_time": null,
     "status": "pending"
    },
    "tags": [
     "hide-input"
    ]
   },
   "outputs": [],
   "source": [
    "idx = disease_associations_all.index.intersection(scores_model_only.index)\n",
    "disease_assocications_new = disease_associations_all.loc[idx].sort_values(\n",
    "    'score', ascending=False)\n",
    "disease_assocications_new.head(20)"
   ]
  },
  {
   "cell_type": "code",
   "execution_count": null,
   "id": "ceefc483-b889-4bab-b207-c8d5fd97fa4a",
   "metadata": {
    "papermill": {
     "duration": null,
     "end_time": null,
     "exception": null,
     "start_time": null,
     "status": "pending"
    },
    "tags": [
     "hide-input"
    ]
   },
   "outputs": [],
   "source": [
    "mask = disease_assocications_new.loc[idx, 'score'] >= 2.0\n",
    "disease_assocications_new.loc[idx].loc[mask]"
   ]
  },
  {
   "cell_type": "markdown",
   "id": "f85eede2-7b61-4285-ba8c-745f77f6ab22",
   "metadata": {
    "papermill": {
     "duration": null,
     "end_time": null,
     "exception": null,
     "start_time": null,
     "status": "pending"
    },
    "tags": []
   },
   "source": [
    "## Only by model which were significant"
   ]
  },
  {
   "cell_type": "code",
   "execution_count": null,
   "id": "4644759b-8cc2-4f99-a16c-16419cfb915c",
   "metadata": {
    "papermill": {
     "duration": null,
     "end_time": null,
     "exception": null,
     "start_time": null,
     "status": "pending"
    },
    "tags": [
     "hide-input"
    ]
   },
   "outputs": [],
   "source": [
    "idx = disease_associations_all.index.intersection(\n",
    "    scores_model_only_rejected.index)\n",
    "disease_assocications_new_rejected = disease_associations_all.loc[idx].sort_values(\n",
    "    'score', ascending=False)\n",
    "disease_assocications_new_rejected.head(20)"
   ]
  },
  {
   "cell_type": "code",
   "execution_count": null,
   "id": "365d8641-97a8-464f-b69b-270af9ae6e2d",
   "metadata": {
    "papermill": {
     "duration": null,
     "end_time": null,
     "exception": null,
     "start_time": null,
     "status": "pending"
    },
    "tags": [
     "hide-input"
    ]
   },
   "outputs": [],
   "source": [
    "mask = disease_assocications_new_rejected.loc[idx, 'score'] >= 2.0\n",
    "disease_assocications_new_rejected.loc[idx].loc[mask]"
   ]
  },
  {
   "cell_type": "markdown",
   "id": "4f22614b-e058-4e35-b8a9-141c291a93bc",
   "metadata": {
    "papermill": {
     "duration": null,
     "end_time": null,
     "exception": null,
     "start_time": null,
     "status": "pending"
    },
    "tags": []
   },
   "source": [
    "## Shared which are only significant for by model"
   ]
  },
  {
   "cell_type": "code",
   "execution_count": null,
   "id": "82eb2ba8-4fe7-431d-8095-5be43f7791b7",
   "metadata": {
    "papermill": {
     "duration": null,
     "end_time": null,
     "exception": null,
     "start_time": null,
     "status": "pending"
    },
    "tags": []
   },
   "outputs": [],
   "source": [
    "mask = (scores_common[(str(args.model_key), 'rejected')] & mask_different)\n",
    "mask.sum()"
   ]
  },
  {
   "cell_type": "code",
   "execution_count": null,
   "id": "6416d494-5f3e-4cf4-b766-b1f95e40ae1c",
   "metadata": {
    "papermill": {
     "duration": null,
     "end_time": null,
     "exception": null,
     "start_time": null,
     "status": "pending"
    },
    "tags": [
     "hide-input"
    ]
   },
   "outputs": [],
   "source": [
    "idx = disease_associations_all.index.intersection(mask.index[mask])\n",
    "disease_assocications_shared_rejected_by_model = (disease_associations_all.loc[idx].sort_values(\n",
    "    'score', ascending=False))\n",
    "disease_assocications_shared_rejected_by_model.head(20)"
   ]
  },
  {
   "cell_type": "code",
   "execution_count": null,
   "id": "10899e28-4aee-4d44-a542-e45be6699a1b",
   "metadata": {
    "papermill": {
     "duration": null,
     "end_time": null,
     "exception": null,
     "start_time": null,
     "status": "pending"
    },
    "tags": [
     "hide-input"
    ]
   },
   "outputs": [],
   "source": [
    "mask = disease_assocications_shared_rejected_by_model.loc[idx, 'score'] >= 2.0\n",
    "disease_assocications_shared_rejected_by_model.loc[idx].loc[mask]"
   ]
  },
  {
   "cell_type": "markdown",
   "id": "b6c082ea-7d92-4296-8ec9-d279509142a3",
   "metadata": {
    "papermill": {
     "duration": null,
     "end_time": null,
     "exception": null,
     "start_time": null,
     "status": "pending"
    },
    "tags": []
   },
   "source": [
    "## Only significant by RSN"
   ]
  },
  {
   "cell_type": "code",
   "execution_count": null,
   "id": "c59aae50-6877-47cc-99f6-646862d29121",
   "metadata": {
    "papermill": {
     "duration": null,
     "end_time": null,
     "exception": null,
     "start_time": null,
     "status": "pending"
    },
    "tags": []
   },
   "outputs": [],
   "source": [
    "mask = (scores_common[(str(args.baseline), 'rejected')] & mask_different)\n",
    "mask.sum()"
   ]
  },
  {
   "cell_type": "code",
   "execution_count": null,
   "id": "7780de55-c63b-4028-a6d0-58bce7be81da",
   "metadata": {
    "papermill": {
     "duration": null,
     "end_time": null,
     "exception": null,
     "start_time": null,
     "status": "pending"
    },
    "tags": [
     "hide-input"
    ]
   },
   "outputs": [],
   "source": [
    "idx = disease_associations_all.index.intersection(mask.index[mask])\n",
    "disease_assocications_shared_rejected_by_RSN = (\n",
    "    disease_associations_all\n",
    "    .loc[idx]\n",
    "    .sort_values('score', ascending=False))\n",
    "disease_assocications_shared_rejected_by_RSN.head(20)"
   ]
  },
  {
   "cell_type": "code",
   "execution_count": null,
   "id": "03115c8f-1f20-4b51-a78c-4d7c0317dc33",
   "metadata": {
    "papermill": {
     "duration": null,
     "end_time": null,
     "exception": null,
     "start_time": null,
     "status": "pending"
    },
    "tags": [
     "hide-input"
    ]
   },
   "outputs": [],
   "source": [
    "mask = disease_assocications_shared_rejected_by_RSN.loc[idx, 'score'] >= 2.0\n",
    "disease_assocications_shared_rejected_by_RSN.loc[idx].loc[mask]"
   ]
  },
  {
   "cell_type": "markdown",
   "id": "9d72708d-ad27-435b-b672-7dfe35283601",
   "metadata": {
    "papermill": {
     "duration": null,
     "end_time": null,
     "exception": null,
     "start_time": null,
     "status": "pending"
    },
    "tags": []
   },
   "source": [
    "## Write to excel"
   ]
  },
  {
   "cell_type": "code",
   "execution_count": null,
   "id": "91e7fbb7-69fd-4b4c-9bc2-40e8dd1907b3",
   "metadata": {
    "papermill": {
     "duration": null,
     "end_time": null,
     "exception": null,
     "start_time": null,
     "status": "pending"
    },
    "tags": [
     "hide-input"
    ]
   },
   "outputs": [],
   "source": [
    "disease_associations_all.to_excel(\n",
    "    writer, sheet_name='disease_assoc_all', **writer_args)\n",
    "disease_assocications_new.to_excel(\n",
    "    writer, sheet_name='disease_assoc_new', **writer_args)\n",
    "disease_assocications_new_rejected.to_excel(\n",
    "    writer, sheet_name='disease_assoc_new_rejected', **writer_args)"
   ]
  },
  {
   "cell_type": "markdown",
   "id": "52a42028-7e2d-47d5-be02-52f7ff1f3665",
   "metadata": {
    "papermill": {
     "duration": null,
     "end_time": null,
     "exception": null,
     "start_time": null,
     "status": "pending"
    },
    "tags": []
   },
   "source": [
    "## Outputs"
   ]
  },
  {
   "cell_type": "code",
   "execution_count": null,
   "id": "7f3a7433-3bf1-4168-8f16-eb6d415ef17f",
   "metadata": {
    "papermill": {
     "duration": null,
     "end_time": null,
     "exception": null,
     "start_time": null,
     "status": "pending"
    },
    "tags": [
     "hide-input"
    ]
   },
   "outputs": [],
   "source": [
    "writer.close()\n",
    "files_out"
   ]
  }
 ],
 "metadata": {
  "kernelspec": {
   "display_name": "Python 3",
   "language": "python",
   "name": "python3"
  },
  "language_info": {
   "codemirror_mode": {
    "name": "ipython",
    "version": 3
   },
   "file_extension": ".py",
   "mimetype": "text/x-python",
   "name": "python",
   "nbconvert_exporter": "python",
   "pygments_lexer": "ipython3",
   "version": "3.12.0"
  },
  "papermill": {
   "default_parameters": {},
   "duration": 14.311523,
   "end_time": "2024-11-08T17:24:48.189363",
   "environment_variables": {},
   "exception": true,
   "input_path": "10_2_ald_compare_methods.ipynb",
   "output_path": "runs/alzheimer_study/diff_analysis/AD/PI_vs_TRKNN/10_2_ald_compare_methods.ipynb",
   "parameters": {
    "annotaitons_gene_col": "None",
    "baseline": "PI",
    "disease_ontology": 10652,
    "folder_experiment": "runs/alzheimer_study",
    "model_key": "TRKNN",
    "out_folder": "diff_analysis",
    "target": "AD"
   },
   "start_time": "2024-11-08T17:24:33.877840",
   "version": "2.6.0"
  }
 },
 "nbformat": 4,
 "nbformat_minor": 5
}