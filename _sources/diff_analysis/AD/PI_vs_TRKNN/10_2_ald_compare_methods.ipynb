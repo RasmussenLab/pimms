{
 "cells": [
  {
   "cell_type": "markdown",
   "id": "9acfeaca-5f8c-42f3-9a8e-83ed737eb35c",
   "metadata": {
    "papermill": {
     "duration": 0.020843,
     "end_time": "2024-05-27T16:57:18.543986",
     "exception": false,
     "start_time": "2024-05-27T16:57:18.523143",
     "status": "completed"
    },
    "tags": []
   },
   "source": [
    "# Compare outcomes from differential analysis based on different imputation methods\n",
    "\n",
    "- load scores based on `16_ald_diff_analysis`"
   ]
  },
  {
   "cell_type": "code",
   "execution_count": 1,
   "id": "eec6f931-c04d-428c-b2b1-0424c50e6cd2",
   "metadata": {
    "execution": {
     "iopub.execute_input": "2024-05-27T16:57:18.600991Z",
     "iopub.status.busy": "2024-05-27T16:57:18.600642Z",
     "iopub.status.idle": "2024-05-27T16:57:21.457003Z",
     "shell.execute_reply": "2024-05-27T16:57:21.456116Z"
    },
    "papermill": {
     "duration": 2.875534,
     "end_time": "2024-05-27T16:57:21.459192",
     "exception": false,
     "start_time": "2024-05-27T16:57:18.583658",
     "status": "completed"
    },
    "tags": [
     "hide-input"
    ]
   },
   "outputs": [],
   "source": [
    "from pathlib import Path\n",
    "\n",
    "import matplotlib.pyplot as plt\n",
    "import pandas as pd\n",
    "import seaborn as sns\n",
    "from IPython.display import display\n",
    "\n",
    "import vaep\n",
    "import vaep.databases.diseases\n",
    "\n",
    "logger = vaep.logging.setup_nb_logger()\n",
    "\n",
    "plt.rcParams['figure.figsize'] = (2, 2)\n",
    "fontsize = 5\n",
    "vaep.plotting.make_large_descriptors(fontsize)"
   ]
  },
  {
   "cell_type": "code",
   "execution_count": 2,
   "id": "f4bf65da-0569-4a21-ba20-9cae7d3679e7",
   "metadata": {
    "execution": {
     "iopub.execute_input": "2024-05-27T16:57:21.493958Z",
     "iopub.status.busy": "2024-05-27T16:57:21.493512Z",
     "iopub.status.idle": "2024-05-27T16:57:21.497308Z",
     "shell.execute_reply": "2024-05-27T16:57:21.496615Z"
    },
    "papermill": {
     "duration": 0.022594,
     "end_time": "2024-05-27T16:57:21.504126",
     "exception": false,
     "start_time": "2024-05-27T16:57:21.481532",
     "status": "completed"
    },
    "tags": [
     "hide-input"
    ]
   },
   "outputs": [],
   "source": [
    "# catch passed parameters\n",
    "args = None\n",
    "args = dict(globals()).keys()"
   ]
  },
  {
   "cell_type": "markdown",
   "id": "22c645fc-c7eb-4c69-a7aa-084fc733258f",
   "metadata": {
    "papermill": {
     "duration": 0.02316,
     "end_time": "2024-05-27T16:57:21.550431",
     "exception": false,
     "start_time": "2024-05-27T16:57:21.527271",
     "status": "completed"
    },
    "tags": []
   },
   "source": [
    "## Parameters"
   ]
  },
  {
   "cell_type": "code",
   "execution_count": 3,
   "id": "978876d0-b3cc-4847-8eab-dc0b89ddbbcd",
   "metadata": {
    "execution": {
     "iopub.execute_input": "2024-05-27T16:57:21.598720Z",
     "iopub.status.busy": "2024-05-27T16:57:21.598436Z",
     "iopub.status.idle": "2024-05-27T16:57:21.602510Z",
     "shell.execute_reply": "2024-05-27T16:57:21.601830Z"
    },
    "papermill": {
     "duration": 0.029954,
     "end_time": "2024-05-27T16:57:21.604170",
     "exception": false,
     "start_time": "2024-05-27T16:57:21.574216",
     "status": "completed"
    },
    "tags": [
     "parameters"
    ]
   },
   "outputs": [],
   "source": [
    "folder_experiment = 'runs/appl_ald_data/plasma/proteinGroups'\n",
    "\n",
    "target = 'kleiner'\n",
    "model_key = 'VAE'\n",
    "baseline = 'RSN'\n",
    "out_folder = 'diff_analysis'\n",
    "\n",
    "disease_ontology = 5082  # code from https://disease-ontology.org/\n",
    "# split diseases notebook? Query gene names for proteins in file from uniprot?\n",
    "annotaitons_gene_col = 'PG.Genes'"
   ]
  },
  {
   "cell_type": "code",
   "execution_count": 4,
   "id": "7a0b23bf",
   "metadata": {
    "execution": {
     "iopub.execute_input": "2024-05-27T16:57:21.655963Z",
     "iopub.status.busy": "2024-05-27T16:57:21.655697Z",
     "iopub.status.idle": "2024-05-27T16:57:21.659646Z",
     "shell.execute_reply": "2024-05-27T16:57:21.658969Z"
    },
    "papermill": {
     "duration": 0.033711,
     "end_time": "2024-05-27T16:57:21.661304",
     "exception": false,
     "start_time": "2024-05-27T16:57:21.627593",
     "status": "completed"
    },
    "tags": [
     "injected-parameters"
    ]
   },
   "outputs": [],
   "source": [
    "# Parameters\n",
    "disease_ontology = 10652\n",
    "folder_experiment = \"runs/alzheimer_study\"\n",
    "target = \"AD\"\n",
    "baseline = \"PI\"\n",
    "model_key = \"TRKNN\"\n",
    "out_folder = \"diff_analysis\"\n",
    "annotaitons_gene_col = \"None\"\n"
   ]
  },
  {
   "cell_type": "code",
   "execution_count": 5,
   "id": "a8016d79-e41a-40a2-bcbf-e11711c33b7d",
   "metadata": {
    "execution": {
     "iopub.execute_input": "2024-05-27T16:57:21.696855Z",
     "iopub.status.busy": "2024-05-27T16:57:21.696595Z",
     "iopub.status.idle": "2024-05-27T16:57:21.714206Z",
     "shell.execute_reply": "2024-05-27T16:57:21.713523Z"
    },
    "papermill": {
     "duration": 0.050342,
     "end_time": "2024-05-27T16:57:21.722989",
     "exception": false,
     "start_time": "2024-05-27T16:57:21.672647",
     "status": "completed"
    },
    "tags": []
   },
   "outputs": [
    {
     "name": "stderr",
     "output_type": "stream",
     "text": [
      "root - INFO     Removed from global namespace: folder_experiment\n"
     ]
    },
    {
     "name": "stderr",
     "output_type": "stream",
     "text": [
      "root - INFO     Removed from global namespace: target\n"
     ]
    },
    {
     "name": "stderr",
     "output_type": "stream",
     "text": [
      "root - INFO     Removed from global namespace: model_key\n"
     ]
    },
    {
     "name": "stderr",
     "output_type": "stream",
     "text": [
      "root - INFO     Removed from global namespace: baseline\n"
     ]
    },
    {
     "name": "stderr",
     "output_type": "stream",
     "text": [
      "root - INFO     Removed from global namespace: out_folder\n"
     ]
    },
    {
     "name": "stderr",
     "output_type": "stream",
     "text": [
      "root - INFO     Removed from global namespace: disease_ontology\n"
     ]
    },
    {
     "name": "stderr",
     "output_type": "stream",
     "text": [
      "root - INFO     Removed from global namespace: annotaitons_gene_col\n"
     ]
    },
    {
     "data": {
      "text/plain": [
       "{'folder_experiment': 'runs/alzheimer_study',\n",
       " 'target': 'AD',\n",
       " 'model_key': 'TRKNN',\n",
       " 'baseline': 'PI',\n",
       " 'out_folder': 'diff_analysis',\n",
       " 'disease_ontology': 10652,\n",
       " 'annotaitons_gene_col': 'None'}"
      ]
     },
     "execution_count": 5,
     "metadata": {},
     "output_type": "execute_result"
    }
   ],
   "source": [
    "params = vaep.nb.get_params(args, globals=globals())\n",
    "params"
   ]
  },
  {
   "cell_type": "code",
   "execution_count": 6,
   "id": "5ded6640-99aa-4759-a8ef-b67029f22766",
   "metadata": {
    "execution": {
     "iopub.execute_input": "2024-05-27T16:57:21.780981Z",
     "iopub.status.busy": "2024-05-27T16:57:21.780685Z",
     "iopub.status.idle": "2024-05-27T16:57:21.790148Z",
     "shell.execute_reply": "2024-05-27T16:57:21.789445Z"
    },
    "papermill": {
     "duration": 0.04403,
     "end_time": "2024-05-27T16:57:21.791761",
     "exception": false,
     "start_time": "2024-05-27T16:57:21.747731",
     "status": "completed"
    },
    "tags": [
     "hide-input"
    ]
   },
   "outputs": [
    {
     "name": "stderr",
     "output_type": "stream",
     "text": [
      "root - INFO     Already set attribute: folder_experiment has value runs/alzheimer_study\n"
     ]
    },
    {
     "name": "stderr",
     "output_type": "stream",
     "text": [
      "root - INFO     Already set attribute: out_folder has value diff_analysis\n"
     ]
    },
    {
     "data": {
      "text/plain": [
       "{'annotaitons_gene_col': 'None',\n",
       " 'baseline': 'PI',\n",
       " 'data': PosixPath('runs/alzheimer_study/data'),\n",
       " 'disease_ontology': 10652,\n",
       " 'folder_experiment': PosixPath('runs/alzheimer_study'),\n",
       " 'model_key': 'TRKNN',\n",
       " 'out_figures': PosixPath('runs/alzheimer_study/figures'),\n",
       " 'out_folder': PosixPath('runs/alzheimer_study/diff_analysis/AD/PI_vs_TRKNN'),\n",
       " 'out_metrics': PosixPath('runs/alzheimer_study'),\n",
       " 'out_models': PosixPath('runs/alzheimer_study'),\n",
       " 'out_preds': PosixPath('runs/alzheimer_study/preds'),\n",
       " 'scores_folder': PosixPath('runs/alzheimer_study/diff_analysis/AD/scores'),\n",
       " 'target': 'AD'}"
      ]
     },
     "execution_count": 6,
     "metadata": {},
     "output_type": "execute_result"
    }
   ],
   "source": [
    "args = vaep.nb.Config()\n",
    "args.folder_experiment = Path(params[\"folder_experiment\"])\n",
    "args = vaep.nb.add_default_paths(args,\n",
    "                                 out_root=(\n",
    "                                     args.folder_experiment\n",
    "                                     / params[\"out_folder\"]\n",
    "                                     / params[\"target\"]\n",
    "                                     / f\"{params['baseline']}_vs_{params['model_key']}\"))\n",
    "args.update_from_dict(params)\n",
    "args.scores_folder = scores_folder = (args.folder_experiment\n",
    "                                      / params[\"out_folder\"]\n",
    "                                      / params[\"target\"]\n",
    "                                      / 'scores')\n",
    "args"
   ]
  },
  {
   "cell_type": "code",
   "execution_count": 7,
   "id": "112dd9f2-6219-452a-9c6a-b1712dabb164",
   "metadata": {
    "execution": {
     "iopub.execute_input": "2024-05-27T16:57:21.841126Z",
     "iopub.status.busy": "2024-05-27T16:57:21.840872Z",
     "iopub.status.idle": "2024-05-27T16:57:21.845826Z",
     "shell.execute_reply": "2024-05-27T16:57:21.845114Z"
    },
    "papermill": {
     "duration": 0.033853,
     "end_time": "2024-05-27T16:57:21.849703",
     "exception": false,
     "start_time": "2024-05-27T16:57:21.815850",
     "status": "completed"
    },
    "tags": [
     "hide-input"
    ]
   },
   "outputs": [
    {
     "data": {
      "text/plain": [
       "{'freq_features_observed.csv': PosixPath('runs/alzheimer_study/freq_features_observed.csv')}"
      ]
     },
     "execution_count": 7,
     "metadata": {},
     "output_type": "execute_result"
    }
   ],
   "source": [
    "files_in = {\n",
    "    'freq_features_observed.csv': args.folder_experiment / 'freq_features_observed.csv',\n",
    "}\n",
    "files_in"
   ]
  },
  {
   "cell_type": "markdown",
   "id": "c74bcc21-3fb2-4b8d-823a-72a3b6b6e847",
   "metadata": {
    "papermill": {
     "duration": 0.022824,
     "end_time": "2024-05-27T16:57:21.903031",
     "exception": false,
     "start_time": "2024-05-27T16:57:21.880207",
     "status": "completed"
    },
    "tags": []
   },
   "source": [
    "## Excel file for exports"
   ]
  },
  {
   "cell_type": "code",
   "execution_count": 8,
   "id": "12009c54-c45f-4ee0-a9b3-b0e8e5f3cff2",
   "metadata": {
    "execution": {
     "iopub.execute_input": "2024-05-27T16:57:21.954449Z",
     "iopub.status.busy": "2024-05-27T16:57:21.954149Z",
     "iopub.status.idle": "2024-05-27T16:57:21.957737Z",
     "shell.execute_reply": "2024-05-27T16:57:21.956956Z"
    },
    "papermill": {
     "duration": 0.034913,
     "end_time": "2024-05-27T16:57:21.960545",
     "exception": false,
     "start_time": "2024-05-27T16:57:21.925632",
     "status": "completed"
    },
    "tags": [
     "hide-input"
    ]
   },
   "outputs": [],
   "source": [
    "files_out = dict()"
   ]
  },
  {
   "cell_type": "code",
   "execution_count": 9,
   "id": "8ef71b04-d4a5-4def-ad63-866d8bba4a1e",
   "metadata": {
    "execution": {
     "iopub.execute_input": "2024-05-27T16:57:22.023307Z",
     "iopub.status.busy": "2024-05-27T16:57:22.023028Z",
     "iopub.status.idle": "2024-05-27T16:57:22.278418Z",
     "shell.execute_reply": "2024-05-27T16:57:22.277662Z"
    },
    "papermill": {
     "duration": 0.282786,
     "end_time": "2024-05-27T16:57:22.280309",
     "exception": false,
     "start_time": "2024-05-27T16:57:21.997523",
     "status": "completed"
    },
    "tags": [
     "hide-input"
    ]
   },
   "outputs": [
    {
     "data": {
      "text/plain": [
       "PosixPath('runs/alzheimer_study/diff_analysis/AD/PI_vs_TRKNN/diff_analysis_compare_methods.xlsx')"
      ]
     },
     "execution_count": 9,
     "metadata": {},
     "output_type": "execute_result"
    }
   ],
   "source": [
    "writer_args = dict(float_format='%.3f')\n",
    "\n",
    "fname = args.out_folder / 'diff_analysis_compare_methods.xlsx'\n",
    "files_out[fname.name] = fname\n",
    "writer = pd.ExcelWriter(fname)\n",
    "fname"
   ]
  },
  {
   "cell_type": "markdown",
   "id": "770d1f76-e86f-4ae3-9d7b-ceef9b9e9a22",
   "metadata": {
    "papermill": {
     "duration": 0.02519,
     "end_time": "2024-05-27T16:57:22.330584",
     "exception": false,
     "start_time": "2024-05-27T16:57:22.305394",
     "status": "completed"
    },
    "tags": []
   },
   "source": [
    "## Load scores"
   ]
  },
  {
   "cell_type": "code",
   "execution_count": 10,
   "id": "e8bbada7-8b8e-4399-b0d3-b66c40905839",
   "metadata": {
    "execution": {
     "iopub.execute_input": "2024-05-27T16:57:22.358067Z",
     "iopub.status.busy": "2024-05-27T16:57:22.357746Z",
     "iopub.status.idle": "2024-05-27T16:57:22.363972Z",
     "shell.execute_reply": "2024-05-27T16:57:22.363262Z"
    },
    "papermill": {
     "duration": 0.024122,
     "end_time": "2024-05-27T16:57:22.367963",
     "exception": false,
     "start_time": "2024-05-27T16:57:22.343841",
     "status": "completed"
    },
    "tags": [
     "hide-input"
    ]
   },
   "outputs": [
    {
     "data": {
      "text/plain": [
       "[PosixPath('runs/alzheimer_study/diff_analysis/AD/scores/10_1_ald_diff_analysis_None.ipynb'),\n",
       " PosixPath('runs/alzheimer_study/diff_analysis/AD/scores/diff_analysis_scores_None.pkl'),\n",
       " PosixPath('runs/alzheimer_study/diff_analysis/AD/scores/diff_analysis_scores_PI.pkl'),\n",
       " PosixPath('runs/alzheimer_study/diff_analysis/AD/scores/10_1_ald_diff_analysis_Median.ipynb'),\n",
       " PosixPath('runs/alzheimer_study/diff_analysis/AD/scores/10_1_ald_diff_analysis_RF.html'),\n",
       " PosixPath('runs/alzheimer_study/diff_analysis/AD/scores/diff_analysis_scores_TRKNN.pkl'),\n",
       " PosixPath('runs/alzheimer_study/diff_analysis/AD/scores/diff_analysis_scores_DAE.pkl'),\n",
       " PosixPath('runs/alzheimer_study/diff_analysis/AD/scores/diff_analysis_scores_RF.pkl'),\n",
       " PosixPath('runs/alzheimer_study/diff_analysis/AD/scores/10_1_ald_diff_analysis_DAE.html'),\n",
       " PosixPath('runs/alzheimer_study/diff_analysis/AD/scores/10_1_ald_diff_analysis_QRILC.html'),\n",
       " PosixPath('runs/alzheimer_study/diff_analysis/AD/scores/10_1_ald_diff_analysis_QRILC.ipynb'),\n",
       " PosixPath('runs/alzheimer_study/diff_analysis/AD/scores/10_1_ald_diff_analysis_Median.html'),\n",
       " PosixPath('runs/alzheimer_study/diff_analysis/AD/scores/diff_analysis_scores_QRILC.pkl'),\n",
       " PosixPath('runs/alzheimer_study/diff_analysis/AD/scores/10_1_ald_diff_analysis_TRKNN.ipynb'),\n",
       " PosixPath('runs/alzheimer_study/diff_analysis/AD/scores/10_1_ald_diff_analysis_PI.ipynb'),\n",
       " PosixPath('runs/alzheimer_study/diff_analysis/AD/scores/10_1_ald_diff_analysis_None.html'),\n",
       " PosixPath('runs/alzheimer_study/diff_analysis/AD/scores/10_1_ald_diff_analysis_DAE.ipynb'),\n",
       " PosixPath('runs/alzheimer_study/diff_analysis/AD/scores/10_1_ald_diff_analysis_PI.html'),\n",
       " PosixPath('runs/alzheimer_study/diff_analysis/AD/scores/diff_analysis_scores_Median.pkl'),\n",
       " PosixPath('runs/alzheimer_study/diff_analysis/AD/scores/10_1_ald_diff_analysis_TRKNN.html'),\n",
       " PosixPath('runs/alzheimer_study/diff_analysis/AD/scores/10_1_ald_diff_analysis_RF.ipynb')]"
      ]
     },
     "execution_count": 10,
     "metadata": {},
     "output_type": "execute_result"
    }
   ],
   "source": [
    "[x for x in args.scores_folder.iterdir() if 'scores' in str(x)]"
   ]
  },
  {
   "cell_type": "code",
   "execution_count": 11,
   "id": "97221134-5f61-4158-bfc5-ea30077140b8",
   "metadata": {
    "execution": {
     "iopub.execute_input": "2024-05-27T16:57:22.396188Z",
     "iopub.status.busy": "2024-05-27T16:57:22.395919Z",
     "iopub.status.idle": "2024-05-27T16:57:22.422238Z",
     "shell.execute_reply": "2024-05-27T16:57:22.421529Z"
    },
    "papermill": {
     "duration": 0.042641,
     "end_time": "2024-05-27T16:57:22.424064",
     "exception": false,
     "start_time": "2024-05-27T16:57:22.381423",
     "status": "completed"
    },
    "tags": [
     "hide-input"
    ]
   },
   "outputs": [
    {
     "data": {
      "text/html": [
       "<div>\n",
       "<style scoped>\n",
       "    .dataframe tbody tr th:only-of-type {\n",
       "        vertical-align: middle;\n",
       "    }\n",
       "\n",
       "    .dataframe tbody tr th {\n",
       "        vertical-align: top;\n",
       "    }\n",
       "\n",
       "    .dataframe thead tr th {\n",
       "        text-align: left;\n",
       "    }\n",
       "\n",
       "    .dataframe thead tr:last-of-type th {\n",
       "        text-align: right;\n",
       "    }\n",
       "</style>\n",
       "<table border=\"1\" class=\"dataframe\">\n",
       "  <thead>\n",
       "    <tr>\n",
       "      <th></th>\n",
       "      <th>model</th>\n",
       "      <th colspan=\"8\" halign=\"left\">PI</th>\n",
       "    </tr>\n",
       "    <tr>\n",
       "      <th></th>\n",
       "      <th>var</th>\n",
       "      <th>SS</th>\n",
       "      <th>DF</th>\n",
       "      <th>F</th>\n",
       "      <th>p-unc</th>\n",
       "      <th>np2</th>\n",
       "      <th>-Log10 pvalue</th>\n",
       "      <th>qvalue</th>\n",
       "      <th>rejected</th>\n",
       "    </tr>\n",
       "    <tr>\n",
       "      <th>protein groups</th>\n",
       "      <th>Source</th>\n",
       "      <th></th>\n",
       "      <th></th>\n",
       "      <th></th>\n",
       "      <th></th>\n",
       "      <th></th>\n",
       "      <th></th>\n",
       "      <th></th>\n",
       "      <th></th>\n",
       "    </tr>\n",
       "  </thead>\n",
       "  <tbody>\n",
       "    <tr>\n",
       "      <th rowspan=\"5\" valign=\"top\">A0A024QZX5;A0A087X1N8;P35237</th>\n",
       "      <th>AD</th>\n",
       "      <td>0.251</td>\n",
       "      <td>1</td>\n",
       "      <td>0.422</td>\n",
       "      <td>0.517</td>\n",
       "      <td>0.002</td>\n",
       "      <td>0.287</td>\n",
       "      <td>0.668</td>\n",
       "      <td>False</td>\n",
       "    </tr>\n",
       "    <tr>\n",
       "      <th>age</th>\n",
       "      <td>0.266</td>\n",
       "      <td>1</td>\n",
       "      <td>0.447</td>\n",
       "      <td>0.505</td>\n",
       "      <td>0.002</td>\n",
       "      <td>0.297</td>\n",
       "      <td>0.658</td>\n",
       "      <td>False</td>\n",
       "    </tr>\n",
       "    <tr>\n",
       "      <th>Kiel</th>\n",
       "      <td>2.486</td>\n",
       "      <td>1</td>\n",
       "      <td>4.170</td>\n",
       "      <td>0.043</td>\n",
       "      <td>0.021</td>\n",
       "      <td>1.371</td>\n",
       "      <td>0.106</td>\n",
       "      <td>False</td>\n",
       "    </tr>\n",
       "    <tr>\n",
       "      <th>Magdeburg</th>\n",
       "      <td>4.941</td>\n",
       "      <td>1</td>\n",
       "      <td>8.289</td>\n",
       "      <td>0.004</td>\n",
       "      <td>0.042</td>\n",
       "      <td>2.352</td>\n",
       "      <td>0.017</td>\n",
       "      <td>True</td>\n",
       "    </tr>\n",
       "    <tr>\n",
       "      <th>Sweden</th>\n",
       "      <td>8.159</td>\n",
       "      <td>1</td>\n",
       "      <td>13.687</td>\n",
       "      <td>0.000</td>\n",
       "      <td>0.067</td>\n",
       "      <td>3.549</td>\n",
       "      <td>0.002</td>\n",
       "      <td>True</td>\n",
       "    </tr>\n",
       "    <tr>\n",
       "      <th>...</th>\n",
       "      <th>...</th>\n",
       "      <td>...</td>\n",
       "      <td>...</td>\n",
       "      <td>...</td>\n",
       "      <td>...</td>\n",
       "      <td>...</td>\n",
       "      <td>...</td>\n",
       "      <td>...</td>\n",
       "      <td>...</td>\n",
       "    </tr>\n",
       "    <tr>\n",
       "      <th rowspan=\"5\" valign=\"top\">S4R3U6</th>\n",
       "      <th>AD</th>\n",
       "      <td>0.792</td>\n",
       "      <td>1</td>\n",
       "      <td>0.801</td>\n",
       "      <td>0.372</td>\n",
       "      <td>0.004</td>\n",
       "      <td>0.429</td>\n",
       "      <td>0.537</td>\n",
       "      <td>False</td>\n",
       "    </tr>\n",
       "    <tr>\n",
       "      <th>age</th>\n",
       "      <td>0.591</td>\n",
       "      <td>1</td>\n",
       "      <td>0.597</td>\n",
       "      <td>0.441</td>\n",
       "      <td>0.003</td>\n",
       "      <td>0.356</td>\n",
       "      <td>0.597</td>\n",
       "      <td>False</td>\n",
       "    </tr>\n",
       "    <tr>\n",
       "      <th>Kiel</th>\n",
       "      <td>0.036</td>\n",
       "      <td>1</td>\n",
       "      <td>0.037</td>\n",
       "      <td>0.848</td>\n",
       "      <td>0.000</td>\n",
       "      <td>0.072</td>\n",
       "      <td>0.913</td>\n",
       "      <td>False</td>\n",
       "    </tr>\n",
       "    <tr>\n",
       "      <th>Magdeburg</th>\n",
       "      <td>0.791</td>\n",
       "      <td>1</td>\n",
       "      <td>0.800</td>\n",
       "      <td>0.372</td>\n",
       "      <td>0.004</td>\n",
       "      <td>0.429</td>\n",
       "      <td>0.537</td>\n",
       "      <td>False</td>\n",
       "    </tr>\n",
       "    <tr>\n",
       "      <th>Sweden</th>\n",
       "      <td>21.102</td>\n",
       "      <td>1</td>\n",
       "      <td>21.335</td>\n",
       "      <td>0.000</td>\n",
       "      <td>0.100</td>\n",
       "      <td>5.150</td>\n",
       "      <td>0.000</td>\n",
       "      <td>True</td>\n",
       "    </tr>\n",
       "  </tbody>\n",
       "</table>\n",
       "<p>7105 rows × 8 columns</p>\n",
       "</div>"
      ],
      "text/plain": [
       "model                                      PI                        \\\n",
       "var                                        SS DF      F p-unc   np2   \n",
       "protein groups               Source                                   \n",
       "A0A024QZX5;A0A087X1N8;P35237 AD         0.251  1  0.422 0.517 0.002   \n",
       "                             age        0.266  1  0.447 0.505 0.002   \n",
       "                             Kiel       2.486  1  4.170 0.043 0.021   \n",
       "                             Magdeburg  4.941  1  8.289 0.004 0.042   \n",
       "                             Sweden     8.159  1 13.687 0.000 0.067   \n",
       "...                                       ... ..    ...   ...   ...   \n",
       "S4R3U6                       AD         0.792  1  0.801 0.372 0.004   \n",
       "                             age        0.591  1  0.597 0.441 0.003   \n",
       "                             Kiel       0.036  1  0.037 0.848 0.000   \n",
       "                             Magdeburg  0.791  1  0.800 0.372 0.004   \n",
       "                             Sweden    21.102  1 21.335 0.000 0.100   \n",
       "\n",
       "model                                                                 \n",
       "var                                    -Log10 pvalue qvalue rejected  \n",
       "protein groups               Source                                   \n",
       "A0A024QZX5;A0A087X1N8;P35237 AD                0.287  0.668    False  \n",
       "                             age               0.297  0.658    False  \n",
       "                             Kiel              1.371  0.106    False  \n",
       "                             Magdeburg         2.352  0.017     True  \n",
       "                             Sweden            3.549  0.002     True  \n",
       "...                                              ...    ...      ...  \n",
       "S4R3U6                       AD                0.429  0.537    False  \n",
       "                             age               0.356  0.597    False  \n",
       "                             Kiel              0.072  0.913    False  \n",
       "                             Magdeburg         0.429  0.537    False  \n",
       "                             Sweden            5.150  0.000     True  \n",
       "\n",
       "[7105 rows x 8 columns]"
      ]
     },
     "execution_count": 11,
     "metadata": {},
     "output_type": "execute_result"
    }
   ],
   "source": [
    "fname = args.scores_folder / f'diff_analysis_scores_{args.baseline}.pkl'\n",
    "scores_baseline = pd.read_pickle(fname)\n",
    "scores_baseline"
   ]
  },
  {
   "cell_type": "code",
   "execution_count": 12,
   "id": "f0635e4d",
   "metadata": {
    "execution": {
     "iopub.execute_input": "2024-05-27T16:57:22.476563Z",
     "iopub.status.busy": "2024-05-27T16:57:22.476282Z",
     "iopub.status.idle": "2024-05-27T16:57:22.506320Z",
     "shell.execute_reply": "2024-05-27T16:57:22.505530Z"
    },
    "papermill": {
     "duration": 0.058183,
     "end_time": "2024-05-27T16:57:22.508250",
     "exception": false,
     "start_time": "2024-05-27T16:57:22.450067",
     "status": "completed"
    },
    "tags": [
     "hide-input"
    ]
   },
   "outputs": [
    {
     "data": {
      "text/html": [
       "<div>\n",
       "<style scoped>\n",
       "    .dataframe tbody tr th:only-of-type {\n",
       "        vertical-align: middle;\n",
       "    }\n",
       "\n",
       "    .dataframe tbody tr th {\n",
       "        vertical-align: top;\n",
       "    }\n",
       "\n",
       "    .dataframe thead tr th {\n",
       "        text-align: left;\n",
       "    }\n",
       "\n",
       "    .dataframe thead tr:last-of-type th {\n",
       "        text-align: right;\n",
       "    }\n",
       "</style>\n",
       "<table border=\"1\" class=\"dataframe\">\n",
       "  <thead>\n",
       "    <tr>\n",
       "      <th></th>\n",
       "      <th>model</th>\n",
       "      <th colspan=\"8\" halign=\"left\">TRKNN</th>\n",
       "    </tr>\n",
       "    <tr>\n",
       "      <th></th>\n",
       "      <th>var</th>\n",
       "      <th>SS</th>\n",
       "      <th>DF</th>\n",
       "      <th>F</th>\n",
       "      <th>p-unc</th>\n",
       "      <th>np2</th>\n",
       "      <th>-Log10 pvalue</th>\n",
       "      <th>qvalue</th>\n",
       "      <th>rejected</th>\n",
       "    </tr>\n",
       "    <tr>\n",
       "      <th>protein groups</th>\n",
       "      <th>Source</th>\n",
       "      <th></th>\n",
       "      <th></th>\n",
       "      <th></th>\n",
       "      <th></th>\n",
       "      <th></th>\n",
       "      <th></th>\n",
       "      <th></th>\n",
       "      <th></th>\n",
       "    </tr>\n",
       "  </thead>\n",
       "  <tbody>\n",
       "    <tr>\n",
       "      <th rowspan=\"5\" valign=\"top\">A0A024QZX5;A0A087X1N8;P35237</th>\n",
       "      <th>AD</th>\n",
       "      <td>0.994</td>\n",
       "      <td>1</td>\n",
       "      <td>7.134</td>\n",
       "      <td>0.008</td>\n",
       "      <td>0.036</td>\n",
       "      <td>2.085</td>\n",
       "      <td>0.023</td>\n",
       "      <td>True</td>\n",
       "    </tr>\n",
       "    <tr>\n",
       "      <th>age</th>\n",
       "      <td>0.004</td>\n",
       "      <td>1</td>\n",
       "      <td>0.029</td>\n",
       "      <td>0.864</td>\n",
       "      <td>0.000</td>\n",
       "      <td>0.063</td>\n",
       "      <td>0.913</td>\n",
       "      <td>False</td>\n",
       "    </tr>\n",
       "    <tr>\n",
       "      <th>Kiel</th>\n",
       "      <td>0.269</td>\n",
       "      <td>1</td>\n",
       "      <td>1.933</td>\n",
       "      <td>0.166</td>\n",
       "      <td>0.010</td>\n",
       "      <td>0.780</td>\n",
       "      <td>0.277</td>\n",
       "      <td>False</td>\n",
       "    </tr>\n",
       "    <tr>\n",
       "      <th>Magdeburg</th>\n",
       "      <td>0.519</td>\n",
       "      <td>1</td>\n",
       "      <td>3.727</td>\n",
       "      <td>0.055</td>\n",
       "      <td>0.019</td>\n",
       "      <td>1.259</td>\n",
       "      <td>0.114</td>\n",
       "      <td>False</td>\n",
       "    </tr>\n",
       "    <tr>\n",
       "      <th>Sweden</th>\n",
       "      <td>1.796</td>\n",
       "      <td>1</td>\n",
       "      <td>12.893</td>\n",
       "      <td>0.000</td>\n",
       "      <td>0.063</td>\n",
       "      <td>3.378</td>\n",
       "      <td>0.002</td>\n",
       "      <td>True</td>\n",
       "    </tr>\n",
       "    <tr>\n",
       "      <th>...</th>\n",
       "      <th>...</th>\n",
       "      <td>...</td>\n",
       "      <td>...</td>\n",
       "      <td>...</td>\n",
       "      <td>...</td>\n",
       "      <td>...</td>\n",
       "      <td>...</td>\n",
       "      <td>...</td>\n",
       "      <td>...</td>\n",
       "    </tr>\n",
       "    <tr>\n",
       "      <th rowspan=\"5\" valign=\"top\">S4R3U6</th>\n",
       "      <th>AD</th>\n",
       "      <td>2.295</td>\n",
       "      <td>1</td>\n",
       "      <td>4.480</td>\n",
       "      <td>0.036</td>\n",
       "      <td>0.023</td>\n",
       "      <td>1.449</td>\n",
       "      <td>0.080</td>\n",
       "      <td>False</td>\n",
       "    </tr>\n",
       "    <tr>\n",
       "      <th>age</th>\n",
       "      <td>0.398</td>\n",
       "      <td>1</td>\n",
       "      <td>0.777</td>\n",
       "      <td>0.379</td>\n",
       "      <td>0.004</td>\n",
       "      <td>0.421</td>\n",
       "      <td>0.516</td>\n",
       "      <td>False</td>\n",
       "    </tr>\n",
       "    <tr>\n",
       "      <th>Kiel</th>\n",
       "      <td>2.981</td>\n",
       "      <td>1</td>\n",
       "      <td>5.819</td>\n",
       "      <td>0.017</td>\n",
       "      <td>0.030</td>\n",
       "      <td>1.775</td>\n",
       "      <td>0.043</td>\n",
       "      <td>True</td>\n",
       "    </tr>\n",
       "    <tr>\n",
       "      <th>Magdeburg</th>\n",
       "      <td>3.440</td>\n",
       "      <td>1</td>\n",
       "      <td>6.716</td>\n",
       "      <td>0.010</td>\n",
       "      <td>0.034</td>\n",
       "      <td>1.987</td>\n",
       "      <td>0.028</td>\n",
       "      <td>True</td>\n",
       "    </tr>\n",
       "    <tr>\n",
       "      <th>Sweden</th>\n",
       "      <td>27.114</td>\n",
       "      <td>1</td>\n",
       "      <td>52.939</td>\n",
       "      <td>0.000</td>\n",
       "      <td>0.217</td>\n",
       "      <td>11.062</td>\n",
       "      <td>0.000</td>\n",
       "      <td>True</td>\n",
       "    </tr>\n",
       "  </tbody>\n",
       "</table>\n",
       "<p>7105 rows × 8 columns</p>\n",
       "</div>"
      ],
      "text/plain": [
       "model                                   TRKNN                        \\\n",
       "var                                        SS DF      F p-unc   np2   \n",
       "protein groups               Source                                   \n",
       "A0A024QZX5;A0A087X1N8;P35237 AD         0.994  1  7.134 0.008 0.036   \n",
       "                             age        0.004  1  0.029 0.864 0.000   \n",
       "                             Kiel       0.269  1  1.933 0.166 0.010   \n",
       "                             Magdeburg  0.519  1  3.727 0.055 0.019   \n",
       "                             Sweden     1.796  1 12.893 0.000 0.063   \n",
       "...                                       ... ..    ...   ...   ...   \n",
       "S4R3U6                       AD         2.295  1  4.480 0.036 0.023   \n",
       "                             age        0.398  1  0.777 0.379 0.004   \n",
       "                             Kiel       2.981  1  5.819 0.017 0.030   \n",
       "                             Magdeburg  3.440  1  6.716 0.010 0.034   \n",
       "                             Sweden    27.114  1 52.939 0.000 0.217   \n",
       "\n",
       "model                                                                 \n",
       "var                                    -Log10 pvalue qvalue rejected  \n",
       "protein groups               Source                                   \n",
       "A0A024QZX5;A0A087X1N8;P35237 AD                2.085  0.023     True  \n",
       "                             age               0.063  0.913    False  \n",
       "                             Kiel              0.780  0.277    False  \n",
       "                             Magdeburg         1.259  0.114    False  \n",
       "                             Sweden            3.378  0.002     True  \n",
       "...                                              ...    ...      ...  \n",
       "S4R3U6                       AD                1.449  0.080    False  \n",
       "                             age               0.421  0.516    False  \n",
       "                             Kiel              1.775  0.043     True  \n",
       "                             Magdeburg         1.987  0.028     True  \n",
       "                             Sweden           11.062  0.000     True  \n",
       "\n",
       "[7105 rows x 8 columns]"
      ]
     },
     "execution_count": 12,
     "metadata": {},
     "output_type": "execute_result"
    }
   ],
   "source": [
    "fname = args.scores_folder / f'diff_analysis_scores_{args.model_key}.pkl'\n",
    "scores_model = pd.read_pickle(fname)\n",
    "scores_model"
   ]
  },
  {
   "cell_type": "code",
   "execution_count": 13,
   "id": "373fdf65",
   "metadata": {
    "execution": {
     "iopub.execute_input": "2024-05-27T16:57:22.561545Z",
     "iopub.status.busy": "2024-05-27T16:57:22.561209Z",
     "iopub.status.idle": "2024-05-27T16:57:22.622067Z",
     "shell.execute_reply": "2024-05-27T16:57:22.621307Z"
    },
    "papermill": {
     "duration": 0.089459,
     "end_time": "2024-05-27T16:57:22.623959",
     "exception": false,
     "start_time": "2024-05-27T16:57:22.534500",
     "status": "completed"
    },
    "tags": [
     "hide-input"
    ]
   },
   "outputs": [
    {
     "data": {
      "text/html": [
       "<div>\n",
       "<style scoped>\n",
       "    .dataframe tbody tr th:only-of-type {\n",
       "        vertical-align: middle;\n",
       "    }\n",
       "\n",
       "    .dataframe tbody tr th {\n",
       "        vertical-align: top;\n",
       "    }\n",
       "\n",
       "    .dataframe thead tr th {\n",
       "        text-align: left;\n",
       "    }\n",
       "\n",
       "    .dataframe thead tr:last-of-type th {\n",
       "        text-align: right;\n",
       "    }\n",
       "</style>\n",
       "<table border=\"1\" class=\"dataframe\">\n",
       "  <thead>\n",
       "    <tr>\n",
       "      <th></th>\n",
       "      <th>model</th>\n",
       "      <th colspan=\"8\" halign=\"left\">PI</th>\n",
       "      <th colspan=\"8\" halign=\"left\">TRKNN</th>\n",
       "    </tr>\n",
       "    <tr>\n",
       "      <th></th>\n",
       "      <th>var</th>\n",
       "      <th>SS</th>\n",
       "      <th>DF</th>\n",
       "      <th>F</th>\n",
       "      <th>p-unc</th>\n",
       "      <th>np2</th>\n",
       "      <th>-Log10 pvalue</th>\n",
       "      <th>qvalue</th>\n",
       "      <th>rejected</th>\n",
       "      <th>SS</th>\n",
       "      <th>DF</th>\n",
       "      <th>F</th>\n",
       "      <th>p-unc</th>\n",
       "      <th>np2</th>\n",
       "      <th>-Log10 pvalue</th>\n",
       "      <th>qvalue</th>\n",
       "      <th>rejected</th>\n",
       "    </tr>\n",
       "    <tr>\n",
       "      <th>protein groups</th>\n",
       "      <th>Source</th>\n",
       "      <th></th>\n",
       "      <th></th>\n",
       "      <th></th>\n",
       "      <th></th>\n",
       "      <th></th>\n",
       "      <th></th>\n",
       "      <th></th>\n",
       "      <th></th>\n",
       "      <th></th>\n",
       "      <th></th>\n",
       "      <th></th>\n",
       "      <th></th>\n",
       "      <th></th>\n",
       "      <th></th>\n",
       "      <th></th>\n",
       "      <th></th>\n",
       "    </tr>\n",
       "  </thead>\n",
       "  <tbody>\n",
       "    <tr>\n",
       "      <th rowspan=\"5\" valign=\"top\">A0A024QZX5;A0A087X1N8;P35237</th>\n",
       "      <th>AD</th>\n",
       "      <td>0.251</td>\n",
       "      <td>1</td>\n",
       "      <td>0.422</td>\n",
       "      <td>0.517</td>\n",
       "      <td>0.002</td>\n",
       "      <td>0.287</td>\n",
       "      <td>0.668</td>\n",
       "      <td>False</td>\n",
       "      <td>0.994</td>\n",
       "      <td>1</td>\n",
       "      <td>7.134</td>\n",
       "      <td>0.008</td>\n",
       "      <td>0.036</td>\n",
       "      <td>2.085</td>\n",
       "      <td>0.023</td>\n",
       "      <td>True</td>\n",
       "    </tr>\n",
       "    <tr>\n",
       "      <th>age</th>\n",
       "      <td>0.266</td>\n",
       "      <td>1</td>\n",
       "      <td>0.447</td>\n",
       "      <td>0.505</td>\n",
       "      <td>0.002</td>\n",
       "      <td>0.297</td>\n",
       "      <td>0.658</td>\n",
       "      <td>False</td>\n",
       "      <td>0.004</td>\n",
       "      <td>1</td>\n",
       "      <td>0.029</td>\n",
       "      <td>0.864</td>\n",
       "      <td>0.000</td>\n",
       "      <td>0.063</td>\n",
       "      <td>0.913</td>\n",
       "      <td>False</td>\n",
       "    </tr>\n",
       "    <tr>\n",
       "      <th>Kiel</th>\n",
       "      <td>2.486</td>\n",
       "      <td>1</td>\n",
       "      <td>4.170</td>\n",
       "      <td>0.043</td>\n",
       "      <td>0.021</td>\n",
       "      <td>1.371</td>\n",
       "      <td>0.106</td>\n",
       "      <td>False</td>\n",
       "      <td>0.269</td>\n",
       "      <td>1</td>\n",
       "      <td>1.933</td>\n",
       "      <td>0.166</td>\n",
       "      <td>0.010</td>\n",
       "      <td>0.780</td>\n",
       "      <td>0.277</td>\n",
       "      <td>False</td>\n",
       "    </tr>\n",
       "    <tr>\n",
       "      <th>Magdeburg</th>\n",
       "      <td>4.941</td>\n",
       "      <td>1</td>\n",
       "      <td>8.289</td>\n",
       "      <td>0.004</td>\n",
       "      <td>0.042</td>\n",
       "      <td>2.352</td>\n",
       "      <td>0.017</td>\n",
       "      <td>True</td>\n",
       "      <td>0.519</td>\n",
       "      <td>1</td>\n",
       "      <td>3.727</td>\n",
       "      <td>0.055</td>\n",
       "      <td>0.019</td>\n",
       "      <td>1.259</td>\n",
       "      <td>0.114</td>\n",
       "      <td>False</td>\n",
       "    </tr>\n",
       "    <tr>\n",
       "      <th>Sweden</th>\n",
       "      <td>8.159</td>\n",
       "      <td>1</td>\n",
       "      <td>13.687</td>\n",
       "      <td>0.000</td>\n",
       "      <td>0.067</td>\n",
       "      <td>3.549</td>\n",
       "      <td>0.002</td>\n",
       "      <td>True</td>\n",
       "      <td>1.796</td>\n",
       "      <td>1</td>\n",
       "      <td>12.893</td>\n",
       "      <td>0.000</td>\n",
       "      <td>0.063</td>\n",
       "      <td>3.378</td>\n",
       "      <td>0.002</td>\n",
       "      <td>True</td>\n",
       "    </tr>\n",
       "    <tr>\n",
       "      <th>...</th>\n",
       "      <th>...</th>\n",
       "      <td>...</td>\n",
       "      <td>...</td>\n",
       "      <td>...</td>\n",
       "      <td>...</td>\n",
       "      <td>...</td>\n",
       "      <td>...</td>\n",
       "      <td>...</td>\n",
       "      <td>...</td>\n",
       "      <td>...</td>\n",
       "      <td>...</td>\n",
       "      <td>...</td>\n",
       "      <td>...</td>\n",
       "      <td>...</td>\n",
       "      <td>...</td>\n",
       "      <td>...</td>\n",
       "      <td>...</td>\n",
       "    </tr>\n",
       "    <tr>\n",
       "      <th rowspan=\"5\" valign=\"top\">S4R3U6</th>\n",
       "      <th>AD</th>\n",
       "      <td>0.792</td>\n",
       "      <td>1</td>\n",
       "      <td>0.801</td>\n",
       "      <td>0.372</td>\n",
       "      <td>0.004</td>\n",
       "      <td>0.429</td>\n",
       "      <td>0.537</td>\n",
       "      <td>False</td>\n",
       "      <td>2.295</td>\n",
       "      <td>1</td>\n",
       "      <td>4.480</td>\n",
       "      <td>0.036</td>\n",
       "      <td>0.023</td>\n",
       "      <td>1.449</td>\n",
       "      <td>0.080</td>\n",
       "      <td>False</td>\n",
       "    </tr>\n",
       "    <tr>\n",
       "      <th>age</th>\n",
       "      <td>0.591</td>\n",
       "      <td>1</td>\n",
       "      <td>0.597</td>\n",
       "      <td>0.441</td>\n",
       "      <td>0.003</td>\n",
       "      <td>0.356</td>\n",
       "      <td>0.597</td>\n",
       "      <td>False</td>\n",
       "      <td>0.398</td>\n",
       "      <td>1</td>\n",
       "      <td>0.777</td>\n",
       "      <td>0.379</td>\n",
       "      <td>0.004</td>\n",
       "      <td>0.421</td>\n",
       "      <td>0.516</td>\n",
       "      <td>False</td>\n",
       "    </tr>\n",
       "    <tr>\n",
       "      <th>Kiel</th>\n",
       "      <td>0.036</td>\n",
       "      <td>1</td>\n",
       "      <td>0.037</td>\n",
       "      <td>0.848</td>\n",
       "      <td>0.000</td>\n",
       "      <td>0.072</td>\n",
       "      <td>0.913</td>\n",
       "      <td>False</td>\n",
       "      <td>2.981</td>\n",
       "      <td>1</td>\n",
       "      <td>5.819</td>\n",
       "      <td>0.017</td>\n",
       "      <td>0.030</td>\n",
       "      <td>1.775</td>\n",
       "      <td>0.043</td>\n",
       "      <td>True</td>\n",
       "    </tr>\n",
       "    <tr>\n",
       "      <th>Magdeburg</th>\n",
       "      <td>0.791</td>\n",
       "      <td>1</td>\n",
       "      <td>0.800</td>\n",
       "      <td>0.372</td>\n",
       "      <td>0.004</td>\n",
       "      <td>0.429</td>\n",
       "      <td>0.537</td>\n",
       "      <td>False</td>\n",
       "      <td>3.440</td>\n",
       "      <td>1</td>\n",
       "      <td>6.716</td>\n",
       "      <td>0.010</td>\n",
       "      <td>0.034</td>\n",
       "      <td>1.987</td>\n",
       "      <td>0.028</td>\n",
       "      <td>True</td>\n",
       "    </tr>\n",
       "    <tr>\n",
       "      <th>Sweden</th>\n",
       "      <td>21.102</td>\n",
       "      <td>1</td>\n",
       "      <td>21.335</td>\n",
       "      <td>0.000</td>\n",
       "      <td>0.100</td>\n",
       "      <td>5.150</td>\n",
       "      <td>0.000</td>\n",
       "      <td>True</td>\n",
       "      <td>27.114</td>\n",
       "      <td>1</td>\n",
       "      <td>52.939</td>\n",
       "      <td>0.000</td>\n",
       "      <td>0.217</td>\n",
       "      <td>11.062</td>\n",
       "      <td>0.000</td>\n",
       "      <td>True</td>\n",
       "    </tr>\n",
       "  </tbody>\n",
       "</table>\n",
       "<p>7105 rows × 16 columns</p>\n",
       "</div>"
      ],
      "text/plain": [
       "model                                      PI                        \\\n",
       "var                                        SS DF      F p-unc   np2   \n",
       "protein groups               Source                                   \n",
       "A0A024QZX5;A0A087X1N8;P35237 AD         0.251  1  0.422 0.517 0.002   \n",
       "                             age        0.266  1  0.447 0.505 0.002   \n",
       "                             Kiel       2.486  1  4.170 0.043 0.021   \n",
       "                             Magdeburg  4.941  1  8.289 0.004 0.042   \n",
       "                             Sweden     8.159  1 13.687 0.000 0.067   \n",
       "...                                       ... ..    ...   ...   ...   \n",
       "S4R3U6                       AD         0.792  1  0.801 0.372 0.004   \n",
       "                             age        0.591  1  0.597 0.441 0.003   \n",
       "                             Kiel       0.036  1  0.037 0.848 0.000   \n",
       "                             Magdeburg  0.791  1  0.800 0.372 0.004   \n",
       "                             Sweden    21.102  1 21.335 0.000 0.100   \n",
       "\n",
       "model                                                                 TRKNN  \\\n",
       "var                                    -Log10 pvalue qvalue rejected     SS   \n",
       "protein groups               Source                                           \n",
       "A0A024QZX5;A0A087X1N8;P35237 AD                0.287  0.668    False  0.994   \n",
       "                             age               0.297  0.658    False  0.004   \n",
       "                             Kiel              1.371  0.106    False  0.269   \n",
       "                             Magdeburg         2.352  0.017     True  0.519   \n",
       "                             Sweden            3.549  0.002     True  1.796   \n",
       "...                                              ...    ...      ...    ...   \n",
       "S4R3U6                       AD                0.429  0.537    False  2.295   \n",
       "                             age               0.356  0.597    False  0.398   \n",
       "                             Kiel              0.072  0.913    False  2.981   \n",
       "                             Magdeburg         0.429  0.537    False  3.440   \n",
       "                             Sweden            5.150  0.000     True 27.114   \n",
       "\n",
       "model                                                                       \\\n",
       "var                                    DF      F p-unc   np2 -Log10 pvalue   \n",
       "protein groups               Source                                          \n",
       "A0A024QZX5;A0A087X1N8;P35237 AD         1  7.134 0.008 0.036         2.085   \n",
       "                             age        1  0.029 0.864 0.000         0.063   \n",
       "                             Kiel       1  1.933 0.166 0.010         0.780   \n",
       "                             Magdeburg  1  3.727 0.055 0.019         1.259   \n",
       "                             Sweden     1 12.893 0.000 0.063         3.378   \n",
       "...                                    ..    ...   ...   ...           ...   \n",
       "S4R3U6                       AD         1  4.480 0.036 0.023         1.449   \n",
       "                             age        1  0.777 0.379 0.004         0.421   \n",
       "                             Kiel       1  5.819 0.017 0.030         1.775   \n",
       "                             Magdeburg  1  6.716 0.010 0.034         1.987   \n",
       "                             Sweden     1 52.939 0.000 0.217        11.062   \n",
       "\n",
       "model                                                   \n",
       "var                                    qvalue rejected  \n",
       "protein groups               Source                     \n",
       "A0A024QZX5;A0A087X1N8;P35237 AD         0.023     True  \n",
       "                             age        0.913    False  \n",
       "                             Kiel       0.277    False  \n",
       "                             Magdeburg  0.114    False  \n",
       "                             Sweden     0.002     True  \n",
       "...                                       ...      ...  \n",
       "S4R3U6                       AD         0.080    False  \n",
       "                             age        0.516    False  \n",
       "                             Kiel       0.043     True  \n",
       "                             Magdeburg  0.028     True  \n",
       "                             Sweden     0.000     True  \n",
       "\n",
       "[7105 rows x 16 columns]"
      ]
     },
     "execution_count": 13,
     "metadata": {},
     "output_type": "execute_result"
    }
   ],
   "source": [
    "scores = scores_model.join(scores_baseline, how='outer')[[args.baseline, args.model_key]]\n",
    "scores"
   ]
  },
  {
   "cell_type": "code",
   "execution_count": 14,
   "id": "34d243d1-3ab4-40e7-9eb8-f9efc828b82d",
   "metadata": {
    "execution": {
     "iopub.execute_input": "2024-05-27T16:57:22.676984Z",
     "iopub.status.busy": "2024-05-27T16:57:22.676687Z",
     "iopub.status.idle": "2024-05-27T16:57:22.682477Z",
     "shell.execute_reply": "2024-05-27T16:57:22.681810Z"
    },
    "papermill": {
     "duration": 0.039309,
     "end_time": "2024-05-27T16:57:22.688839",
     "exception": false,
     "start_time": "2024-05-27T16:57:22.649530",
     "status": "completed"
    },
    "tags": [
     "hide-input"
    ]
   },
   "outputs": [
    {
     "data": {
      "text/plain": [
       "{'PI': 'PI', 'TRKNN': 'TRKNN'}"
      ]
     },
     "execution_count": 14,
     "metadata": {},
     "output_type": "execute_result"
    }
   ],
   "source": [
    "models = vaep.nb.Config.from_dict(\n",
    "    vaep.pandas.index_to_dict(scores.columns.get_level_values(0)))\n",
    "vars(models)"
   ]
  },
  {
   "cell_type": "code",
   "execution_count": 15,
   "id": "0fee8f5d-fa52-4369-a1f9-fcfd518ab6bd",
   "metadata": {
    "execution": {
     "iopub.execute_input": "2024-05-27T16:57:22.773122Z",
     "iopub.status.busy": "2024-05-27T16:57:22.772781Z",
     "iopub.status.idle": "2024-05-27T16:57:22.894363Z",
     "shell.execute_reply": "2024-05-27T16:57:22.893641Z"
    },
    "papermill": {
     "duration": 0.162238,
     "end_time": "2024-05-27T16:57:22.896030",
     "exception": false,
     "start_time": "2024-05-27T16:57:22.733792",
     "status": "completed"
    },
    "tags": [
     "hide-input"
    ]
   },
   "outputs": [
    {
     "data": {
      "text/html": [
       "<div>\n",
       "<style scoped>\n",
       "    .dataframe tbody tr th:only-of-type {\n",
       "        vertical-align: middle;\n",
       "    }\n",
       "\n",
       "    .dataframe tbody tr th {\n",
       "        vertical-align: top;\n",
       "    }\n",
       "\n",
       "    .dataframe thead tr th {\n",
       "        text-align: left;\n",
       "    }\n",
       "</style>\n",
       "<table border=\"1\" class=\"dataframe\">\n",
       "  <thead>\n",
       "    <tr>\n",
       "      <th>model</th>\n",
       "      <th colspan=\"7\" halign=\"left\">PI</th>\n",
       "      <th colspan=\"7\" halign=\"left\">TRKNN</th>\n",
       "    </tr>\n",
       "    <tr>\n",
       "      <th>var</th>\n",
       "      <th>SS</th>\n",
       "      <th>DF</th>\n",
       "      <th>F</th>\n",
       "      <th>p-unc</th>\n",
       "      <th>np2</th>\n",
       "      <th>-Log10 pvalue</th>\n",
       "      <th>qvalue</th>\n",
       "      <th>SS</th>\n",
       "      <th>DF</th>\n",
       "      <th>F</th>\n",
       "      <th>p-unc</th>\n",
       "      <th>np2</th>\n",
       "      <th>-Log10 pvalue</th>\n",
       "      <th>qvalue</th>\n",
       "    </tr>\n",
       "  </thead>\n",
       "  <tbody>\n",
       "    <tr>\n",
       "      <th>count</th>\n",
       "      <td>7,105.000</td>\n",
       "      <td>7,105.000</td>\n",
       "      <td>7,105.000</td>\n",
       "      <td>7,105.000</td>\n",
       "      <td>7,105.000</td>\n",
       "      <td>7,105.000</td>\n",
       "      <td>7,105.000</td>\n",
       "      <td>7,105.000</td>\n",
       "      <td>7,105.000</td>\n",
       "      <td>7,105.000</td>\n",
       "      <td>7,105.000</td>\n",
       "      <td>7,105.000</td>\n",
       "      <td>7,105.000</td>\n",
       "      <td>7,105.000</td>\n",
       "    </tr>\n",
       "    <tr>\n",
       "      <th>mean</th>\n",
       "      <td>10.298</td>\n",
       "      <td>1.000</td>\n",
       "      <td>12.412</td>\n",
       "      <td>0.261</td>\n",
       "      <td>0.043</td>\n",
       "      <td>2.478</td>\n",
       "      <td>0.338</td>\n",
       "      <td>4.912</td>\n",
       "      <td>1.000</td>\n",
       "      <td>15.027</td>\n",
       "      <td>0.230</td>\n",
       "      <td>0.055</td>\n",
       "      <td>3.114</td>\n",
       "      <td>0.287</td>\n",
       "    </tr>\n",
       "    <tr>\n",
       "      <th>std</th>\n",
       "      <td>64.593</td>\n",
       "      <td>0.000</td>\n",
       "      <td>86.109</td>\n",
       "      <td>0.303</td>\n",
       "      <td>0.084</td>\n",
       "      <td>5.322</td>\n",
       "      <td>0.331</td>\n",
       "      <td>17.438</td>\n",
       "      <td>0.000</td>\n",
       "      <td>42.962</td>\n",
       "      <td>0.296</td>\n",
       "      <td>0.097</td>\n",
       "      <td>5.792</td>\n",
       "      <td>0.323</td>\n",
       "    </tr>\n",
       "    <tr>\n",
       "      <th>min</th>\n",
       "      <td>0.000</td>\n",
       "      <td>1.000</td>\n",
       "      <td>0.000</td>\n",
       "      <td>0.000</td>\n",
       "      <td>0.000</td>\n",
       "      <td>0.000</td>\n",
       "      <td>0.000</td>\n",
       "      <td>0.000</td>\n",
       "      <td>1.000</td>\n",
       "      <td>0.000</td>\n",
       "      <td>0.000</td>\n",
       "      <td>0.000</td>\n",
       "      <td>0.000</td>\n",
       "      <td>0.000</td>\n",
       "    </tr>\n",
       "    <tr>\n",
       "      <th>25%</th>\n",
       "      <td>0.315</td>\n",
       "      <td>1.000</td>\n",
       "      <td>0.526</td>\n",
       "      <td>0.004</td>\n",
       "      <td>0.003</td>\n",
       "      <td>0.329</td>\n",
       "      <td>0.015</td>\n",
       "      <td>0.179</td>\n",
       "      <td>1.000</td>\n",
       "      <td>0.696</td>\n",
       "      <td>0.001</td>\n",
       "      <td>0.004</td>\n",
       "      <td>0.392</td>\n",
       "      <td>0.003</td>\n",
       "    </tr>\n",
       "    <tr>\n",
       "      <th>50%</th>\n",
       "      <td>1.589</td>\n",
       "      <td>1.000</td>\n",
       "      <td>2.403</td>\n",
       "      <td>0.123</td>\n",
       "      <td>0.012</td>\n",
       "      <td>0.911</td>\n",
       "      <td>0.246</td>\n",
       "      <td>0.951</td>\n",
       "      <td>1.000</td>\n",
       "      <td>3.427</td>\n",
       "      <td>0.066</td>\n",
       "      <td>0.018</td>\n",
       "      <td>1.182</td>\n",
       "      <td>0.131</td>\n",
       "    </tr>\n",
       "    <tr>\n",
       "      <th>75%</th>\n",
       "      <td>5.940</td>\n",
       "      <td>1.000</td>\n",
       "      <td>8.619</td>\n",
       "      <td>0.469</td>\n",
       "      <td>0.043</td>\n",
       "      <td>2.428</td>\n",
       "      <td>0.625</td>\n",
       "      <td>3.522</td>\n",
       "      <td>1.000</td>\n",
       "      <td>11.881</td>\n",
       "      <td>0.405</td>\n",
       "      <td>0.059</td>\n",
       "      <td>3.156</td>\n",
       "      <td>0.540</td>\n",
       "    </tr>\n",
       "    <tr>\n",
       "      <th>max</th>\n",
       "      <td>4,088.806</td>\n",
       "      <td>1.000</td>\n",
       "      <td>6,235.160</td>\n",
       "      <td>0.999</td>\n",
       "      <td>0.970</td>\n",
       "      <td>147.053</td>\n",
       "      <td>0.999</td>\n",
       "      <td>753.715</td>\n",
       "      <td>1.000</td>\n",
       "      <td>1,170.374</td>\n",
       "      <td>1.000</td>\n",
       "      <td>0.860</td>\n",
       "      <td>82.663</td>\n",
       "      <td>1.000</td>\n",
       "    </tr>\n",
       "  </tbody>\n",
       "</table>\n",
       "</div>"
      ],
      "text/plain": [
       "model        PI                                                        \\\n",
       "var          SS        DF         F     p-unc       np2 -Log10 pvalue   \n",
       "count 7,105.000 7,105.000 7,105.000 7,105.000 7,105.000     7,105.000   \n",
       "mean     10.298     1.000    12.412     0.261     0.043         2.478   \n",
       "std      64.593     0.000    86.109     0.303     0.084         5.322   \n",
       "min       0.000     1.000     0.000     0.000     0.000         0.000   \n",
       "25%       0.315     1.000     0.526     0.004     0.003         0.329   \n",
       "50%       1.589     1.000     2.403     0.123     0.012         0.911   \n",
       "75%       5.940     1.000     8.619     0.469     0.043         2.428   \n",
       "max   4,088.806     1.000 6,235.160     0.999     0.970       147.053   \n",
       "\n",
       "model               TRKNN                                          \\\n",
       "var      qvalue        SS        DF         F     p-unc       np2   \n",
       "count 7,105.000 7,105.000 7,105.000 7,105.000 7,105.000 7,105.000   \n",
       "mean      0.338     4.912     1.000    15.027     0.230     0.055   \n",
       "std       0.331    17.438     0.000    42.962     0.296     0.097   \n",
       "min       0.000     0.000     1.000     0.000     0.000     0.000   \n",
       "25%       0.015     0.179     1.000     0.696     0.001     0.004   \n",
       "50%       0.246     0.951     1.000     3.427     0.066     0.018   \n",
       "75%       0.625     3.522     1.000    11.881     0.405     0.059   \n",
       "max       0.999   753.715     1.000 1,170.374     1.000     0.860   \n",
       "\n",
       "model                          \n",
       "var   -Log10 pvalue    qvalue  \n",
       "count     7,105.000 7,105.000  \n",
       "mean          3.114     0.287  \n",
       "std           5.792     0.323  \n",
       "min           0.000     0.000  \n",
       "25%           0.392     0.003  \n",
       "50%           1.182     0.131  \n",
       "75%           3.156     0.540  \n",
       "max          82.663     1.000  "
      ]
     },
     "execution_count": 15,
     "metadata": {},
     "output_type": "execute_result"
    }
   ],
   "source": [
    "scores.describe()"
   ]
  },
  {
   "cell_type": "code",
   "execution_count": 16,
   "id": "c6e5a0a6-343b-4f07-8d9d-2cd5cf95ae1f",
   "metadata": {
    "execution": {
     "iopub.execute_input": "2024-05-27T16:57:22.958254Z",
     "iopub.status.busy": "2024-05-27T16:57:22.957892Z",
     "iopub.status.idle": "2024-05-27T16:57:24.020430Z",
     "shell.execute_reply": "2024-05-27T16:57:24.019682Z"
    },
    "papermill": {
     "duration": 1.100026,
     "end_time": "2024-05-27T16:57:24.022359",
     "exception": false,
     "start_time": "2024-05-27T16:57:22.922333",
     "status": "completed"
    },
    "tags": [
     "hide-input"
    ]
   },
   "outputs": [
    {
     "data": {
      "text/html": [
       "<div>\n",
       "<style scoped>\n",
       "    .dataframe tbody tr th:only-of-type {\n",
       "        vertical-align: middle;\n",
       "    }\n",
       "\n",
       "    .dataframe tbody tr th {\n",
       "        vertical-align: top;\n",
       "    }\n",
       "\n",
       "    .dataframe thead tr th {\n",
       "        text-align: left;\n",
       "    }\n",
       "\n",
       "    .dataframe thead tr:last-of-type th {\n",
       "        text-align: right;\n",
       "    }\n",
       "</style>\n",
       "<table border=\"1\" class=\"dataframe\">\n",
       "  <thead>\n",
       "    <tr>\n",
       "      <th></th>\n",
       "      <th>model</th>\n",
       "      <th colspan=\"8\" halign=\"left\">PI</th>\n",
       "      <th colspan=\"8\" halign=\"left\">TRKNN</th>\n",
       "    </tr>\n",
       "    <tr>\n",
       "      <th></th>\n",
       "      <th>var</th>\n",
       "      <th>SS</th>\n",
       "      <th>DF</th>\n",
       "      <th>F</th>\n",
       "      <th>p-unc</th>\n",
       "      <th>np2</th>\n",
       "      <th>-Log10 pvalue</th>\n",
       "      <th>qvalue</th>\n",
       "      <th>rejected</th>\n",
       "      <th>SS</th>\n",
       "      <th>DF</th>\n",
       "      <th>F</th>\n",
       "      <th>p-unc</th>\n",
       "      <th>np2</th>\n",
       "      <th>-Log10 pvalue</th>\n",
       "      <th>qvalue</th>\n",
       "      <th>rejected</th>\n",
       "    </tr>\n",
       "    <tr>\n",
       "      <th>protein groups</th>\n",
       "      <th>Source</th>\n",
       "      <th></th>\n",
       "      <th></th>\n",
       "      <th></th>\n",
       "      <th></th>\n",
       "      <th></th>\n",
       "      <th></th>\n",
       "      <th></th>\n",
       "      <th></th>\n",
       "      <th></th>\n",
       "      <th></th>\n",
       "      <th></th>\n",
       "      <th></th>\n",
       "      <th></th>\n",
       "      <th></th>\n",
       "      <th></th>\n",
       "      <th></th>\n",
       "    </tr>\n",
       "  </thead>\n",
       "  <tbody>\n",
       "    <tr>\n",
       "      <th>A0A024QZX5;A0A087X1N8;P35237</th>\n",
       "      <th>AD</th>\n",
       "      <td>0.251</td>\n",
       "      <td>1</td>\n",
       "      <td>0.422</td>\n",
       "      <td>0.517</td>\n",
       "      <td>0.002</td>\n",
       "      <td>0.287</td>\n",
       "      <td>0.668</td>\n",
       "      <td>False</td>\n",
       "      <td>0.994</td>\n",
       "      <td>1</td>\n",
       "      <td>7.134</td>\n",
       "      <td>0.008</td>\n",
       "      <td>0.036</td>\n",
       "      <td>2.085</td>\n",
       "      <td>0.023</td>\n",
       "      <td>True</td>\n",
       "    </tr>\n",
       "    <tr>\n",
       "      <th>A0A024R0T9;K7ER74;P02655</th>\n",
       "      <th>AD</th>\n",
       "      <td>3.214</td>\n",
       "      <td>1</td>\n",
       "      <td>4.062</td>\n",
       "      <td>0.045</td>\n",
       "      <td>0.021</td>\n",
       "      <td>1.344</td>\n",
       "      <td>0.112</td>\n",
       "      <td>False</td>\n",
       "      <td>2.916</td>\n",
       "      <td>1</td>\n",
       "      <td>4.736</td>\n",
       "      <td>0.031</td>\n",
       "      <td>0.024</td>\n",
       "      <td>1.512</td>\n",
       "      <td>0.071</td>\n",
       "      <td>False</td>\n",
       "    </tr>\n",
       "    <tr>\n",
       "      <th>A0A024R3W6;A0A024R412;O60462;O60462-2;O60462-3;O60462-4;O60462-5;Q7LBX6;X5D2Q8</th>\n",
       "      <th>AD</th>\n",
       "      <td>3.240</td>\n",
       "      <td>1</td>\n",
       "      <td>3.096</td>\n",
       "      <td>0.080</td>\n",
       "      <td>0.016</td>\n",
       "      <td>1.097</td>\n",
       "      <td>0.176</td>\n",
       "      <td>False</td>\n",
       "      <td>0.155</td>\n",
       "      <td>1</td>\n",
       "      <td>1.255</td>\n",
       "      <td>0.264</td>\n",
       "      <td>0.007</td>\n",
       "      <td>0.578</td>\n",
       "      <td>0.394</td>\n",
       "      <td>False</td>\n",
       "    </tr>\n",
       "    <tr>\n",
       "      <th>A0A024R644;A0A0A0MRU5;A0A1B0GWI2;O75503</th>\n",
       "      <th>AD</th>\n",
       "      <td>0.071</td>\n",
       "      <td>1</td>\n",
       "      <td>0.322</td>\n",
       "      <td>0.571</td>\n",
       "      <td>0.002</td>\n",
       "      <td>0.243</td>\n",
       "      <td>0.708</td>\n",
       "      <td>False</td>\n",
       "      <td>0.173</td>\n",
       "      <td>1</td>\n",
       "      <td>1.245</td>\n",
       "      <td>0.266</td>\n",
       "      <td>0.006</td>\n",
       "      <td>0.575</td>\n",
       "      <td>0.396</td>\n",
       "      <td>False</td>\n",
       "    </tr>\n",
       "    <tr>\n",
       "      <th>A0A075B6H7</th>\n",
       "      <th>AD</th>\n",
       "      <td>5.589</td>\n",
       "      <td>1</td>\n",
       "      <td>1.391</td>\n",
       "      <td>0.240</td>\n",
       "      <td>0.007</td>\n",
       "      <td>0.620</td>\n",
       "      <td>0.396</td>\n",
       "      <td>False</td>\n",
       "      <td>4.134</td>\n",
       "      <td>1</td>\n",
       "      <td>5.536</td>\n",
       "      <td>0.020</td>\n",
       "      <td>0.028</td>\n",
       "      <td>1.707</td>\n",
       "      <td>0.048</td>\n",
       "      <td>True</td>\n",
       "    </tr>\n",
       "    <tr>\n",
       "      <th>...</th>\n",
       "      <th>...</th>\n",
       "      <td>...</td>\n",
       "      <td>...</td>\n",
       "      <td>...</td>\n",
       "      <td>...</td>\n",
       "      <td>...</td>\n",
       "      <td>...</td>\n",
       "      <td>...</td>\n",
       "      <td>...</td>\n",
       "      <td>...</td>\n",
       "      <td>...</td>\n",
       "      <td>...</td>\n",
       "      <td>...</td>\n",
       "      <td>...</td>\n",
       "      <td>...</td>\n",
       "      <td>...</td>\n",
       "      <td>...</td>\n",
       "    </tr>\n",
       "    <tr>\n",
       "      <th>Q9Y6R7</th>\n",
       "      <th>AD</th>\n",
       "      <td>0.675</td>\n",
       "      <td>1</td>\n",
       "      <td>1.850</td>\n",
       "      <td>0.175</td>\n",
       "      <td>0.010</td>\n",
       "      <td>0.756</td>\n",
       "      <td>0.318</td>\n",
       "      <td>False</td>\n",
       "      <td>0.675</td>\n",
       "      <td>1</td>\n",
       "      <td>1.850</td>\n",
       "      <td>0.175</td>\n",
       "      <td>0.010</td>\n",
       "      <td>0.756</td>\n",
       "      <td>0.289</td>\n",
       "      <td>False</td>\n",
       "    </tr>\n",
       "    <tr>\n",
       "      <th>Q9Y6X5</th>\n",
       "      <th>AD</th>\n",
       "      <td>2.891</td>\n",
       "      <td>1</td>\n",
       "      <td>3.322</td>\n",
       "      <td>0.070</td>\n",
       "      <td>0.017</td>\n",
       "      <td>1.155</td>\n",
       "      <td>0.158</td>\n",
       "      <td>False</td>\n",
       "      <td>0.867</td>\n",
       "      <td>1</td>\n",
       "      <td>2.530</td>\n",
       "      <td>0.113</td>\n",
       "      <td>0.013</td>\n",
       "      <td>0.946</td>\n",
       "      <td>0.205</td>\n",
       "      <td>False</td>\n",
       "    </tr>\n",
       "    <tr>\n",
       "      <th>Q9Y6Y8;Q9Y6Y8-2</th>\n",
       "      <th>AD</th>\n",
       "      <td>0.973</td>\n",
       "      <td>1</td>\n",
       "      <td>3.028</td>\n",
       "      <td>0.083</td>\n",
       "      <td>0.016</td>\n",
       "      <td>1.079</td>\n",
       "      <td>0.182</td>\n",
       "      <td>False</td>\n",
       "      <td>0.973</td>\n",
       "      <td>1</td>\n",
       "      <td>3.028</td>\n",
       "      <td>0.083</td>\n",
       "      <td>0.016</td>\n",
       "      <td>1.079</td>\n",
       "      <td>0.160</td>\n",
       "      <td>False</td>\n",
       "    </tr>\n",
       "    <tr>\n",
       "      <th>Q9Y6Y9</th>\n",
       "      <th>AD</th>\n",
       "      <td>1.606</td>\n",
       "      <td>1</td>\n",
       "      <td>1.771</td>\n",
       "      <td>0.185</td>\n",
       "      <td>0.009</td>\n",
       "      <td>0.733</td>\n",
       "      <td>0.330</td>\n",
       "      <td>False</td>\n",
       "      <td>0.565</td>\n",
       "      <td>1</td>\n",
       "      <td>0.938</td>\n",
       "      <td>0.334</td>\n",
       "      <td>0.005</td>\n",
       "      <td>0.476</td>\n",
       "      <td>0.472</td>\n",
       "      <td>False</td>\n",
       "    </tr>\n",
       "    <tr>\n",
       "      <th>S4R3U6</th>\n",
       "      <th>AD</th>\n",
       "      <td>0.792</td>\n",
       "      <td>1</td>\n",
       "      <td>0.801</td>\n",
       "      <td>0.372</td>\n",
       "      <td>0.004</td>\n",
       "      <td>0.429</td>\n",
       "      <td>0.537</td>\n",
       "      <td>False</td>\n",
       "      <td>2.295</td>\n",
       "      <td>1</td>\n",
       "      <td>4.480</td>\n",
       "      <td>0.036</td>\n",
       "      <td>0.023</td>\n",
       "      <td>1.449</td>\n",
       "      <td>0.080</td>\n",
       "      <td>False</td>\n",
       "    </tr>\n",
       "  </tbody>\n",
       "</table>\n",
       "<p>1421 rows × 16 columns</p>\n",
       "</div>"
      ],
      "text/plain": [
       "model                                                        PI           \\\n",
       "var                                                          SS DF     F   \n",
       "protein groups                                     Source                  \n",
       "A0A024QZX5;A0A087X1N8;P35237                       AD     0.251  1 0.422   \n",
       "A0A024R0T9;K7ER74;P02655                           AD     3.214  1 4.062   \n",
       "A0A024R3W6;A0A024R412;O60462;O60462-2;O60462-3;... AD     3.240  1 3.096   \n",
       "A0A024R644;A0A0A0MRU5;A0A1B0GWI2;O75503            AD     0.071  1 0.322   \n",
       "A0A075B6H7                                         AD     5.589  1 1.391   \n",
       "...                                                         ... ..   ...   \n",
       "Q9Y6R7                                             AD     0.675  1 1.850   \n",
       "Q9Y6X5                                             AD     2.891  1 3.322   \n",
       "Q9Y6Y8;Q9Y6Y8-2                                    AD     0.973  1 3.028   \n",
       "Q9Y6Y9                                             AD     1.606  1 1.771   \n",
       "S4R3U6                                             AD     0.792  1 0.801   \n",
       "\n",
       "model                                                                  \\\n",
       "var                                                       p-unc   np2   \n",
       "protein groups                                     Source               \n",
       "A0A024QZX5;A0A087X1N8;P35237                       AD     0.517 0.002   \n",
       "A0A024R0T9;K7ER74;P02655                           AD     0.045 0.021   \n",
       "A0A024R3W6;A0A024R412;O60462;O60462-2;O60462-3;... AD     0.080 0.016   \n",
       "A0A024R644;A0A0A0MRU5;A0A1B0GWI2;O75503            AD     0.571 0.002   \n",
       "A0A075B6H7                                         AD     0.240 0.007   \n",
       "...                                                         ...   ...   \n",
       "Q9Y6R7                                             AD     0.175 0.010   \n",
       "Q9Y6X5                                             AD     0.070 0.017   \n",
       "Q9Y6Y8;Q9Y6Y8-2                                    AD     0.083 0.016   \n",
       "Q9Y6Y9                                             AD     0.185 0.009   \n",
       "S4R3U6                                             AD     0.372 0.004   \n",
       "\n",
       "model                                                                    \\\n",
       "var                                                       -Log10 pvalue   \n",
       "protein groups                                     Source                 \n",
       "A0A024QZX5;A0A087X1N8;P35237                       AD             0.287   \n",
       "A0A024R0T9;K7ER74;P02655                           AD             1.344   \n",
       "A0A024R3W6;A0A024R412;O60462;O60462-2;O60462-3;... AD             1.097   \n",
       "A0A024R644;A0A0A0MRU5;A0A1B0GWI2;O75503            AD             0.243   \n",
       "A0A075B6H7                                         AD             0.620   \n",
       "...                                                                 ...   \n",
       "Q9Y6R7                                             AD             0.756   \n",
       "Q9Y6X5                                             AD             1.155   \n",
       "Q9Y6Y8;Q9Y6Y8-2                                    AD             1.079   \n",
       "Q9Y6Y9                                             AD             0.733   \n",
       "S4R3U6                                             AD             0.429   \n",
       "\n",
       "model                                                                      \\\n",
       "var                                                       qvalue rejected   \n",
       "protein groups                                     Source                   \n",
       "A0A024QZX5;A0A087X1N8;P35237                       AD      0.668    False   \n",
       "A0A024R0T9;K7ER74;P02655                           AD      0.112    False   \n",
       "A0A024R3W6;A0A024R412;O60462;O60462-2;O60462-3;... AD      0.176    False   \n",
       "A0A024R644;A0A0A0MRU5;A0A1B0GWI2;O75503            AD      0.708    False   \n",
       "A0A075B6H7                                         AD      0.396    False   \n",
       "...                                                          ...      ...   \n",
       "Q9Y6R7                                             AD      0.318    False   \n",
       "Q9Y6X5                                             AD      0.158    False   \n",
       "Q9Y6Y8;Q9Y6Y8-2                                    AD      0.182    False   \n",
       "Q9Y6Y9                                             AD      0.330    False   \n",
       "S4R3U6                                             AD      0.537    False   \n",
       "\n",
       "model                                                     TRKNN           \\\n",
       "var                                                          SS DF     F   \n",
       "protein groups                                     Source                  \n",
       "A0A024QZX5;A0A087X1N8;P35237                       AD     0.994  1 7.134   \n",
       "A0A024R0T9;K7ER74;P02655                           AD     2.916  1 4.736   \n",
       "A0A024R3W6;A0A024R412;O60462;O60462-2;O60462-3;... AD     0.155  1 1.255   \n",
       "A0A024R644;A0A0A0MRU5;A0A1B0GWI2;O75503            AD     0.173  1 1.245   \n",
       "A0A075B6H7                                         AD     4.134  1 5.536   \n",
       "...                                                         ... ..   ...   \n",
       "Q9Y6R7                                             AD     0.675  1 1.850   \n",
       "Q9Y6X5                                             AD     0.867  1 2.530   \n",
       "Q9Y6Y8;Q9Y6Y8-2                                    AD     0.973  1 3.028   \n",
       "Q9Y6Y9                                             AD     0.565  1 0.938   \n",
       "S4R3U6                                             AD     2.295  1 4.480   \n",
       "\n",
       "model                                                                  \\\n",
       "var                                                       p-unc   np2   \n",
       "protein groups                                     Source               \n",
       "A0A024QZX5;A0A087X1N8;P35237                       AD     0.008 0.036   \n",
       "A0A024R0T9;K7ER74;P02655                           AD     0.031 0.024   \n",
       "A0A024R3W6;A0A024R412;O60462;O60462-2;O60462-3;... AD     0.264 0.007   \n",
       "A0A024R644;A0A0A0MRU5;A0A1B0GWI2;O75503            AD     0.266 0.006   \n",
       "A0A075B6H7                                         AD     0.020 0.028   \n",
       "...                                                         ...   ...   \n",
       "Q9Y6R7                                             AD     0.175 0.010   \n",
       "Q9Y6X5                                             AD     0.113 0.013   \n",
       "Q9Y6Y8;Q9Y6Y8-2                                    AD     0.083 0.016   \n",
       "Q9Y6Y9                                             AD     0.334 0.005   \n",
       "S4R3U6                                             AD     0.036 0.023   \n",
       "\n",
       "model                                                                    \\\n",
       "var                                                       -Log10 pvalue   \n",
       "protein groups                                     Source                 \n",
       "A0A024QZX5;A0A087X1N8;P35237                       AD             2.085   \n",
       "A0A024R0T9;K7ER74;P02655                           AD             1.512   \n",
       "A0A024R3W6;A0A024R412;O60462;O60462-2;O60462-3;... AD             0.578   \n",
       "A0A024R644;A0A0A0MRU5;A0A1B0GWI2;O75503            AD             0.575   \n",
       "A0A075B6H7                                         AD             1.707   \n",
       "...                                                                 ...   \n",
       "Q9Y6R7                                             AD             0.756   \n",
       "Q9Y6X5                                             AD             0.946   \n",
       "Q9Y6Y8;Q9Y6Y8-2                                    AD             1.079   \n",
       "Q9Y6Y9                                             AD             0.476   \n",
       "S4R3U6                                             AD             1.449   \n",
       "\n",
       "model                                                                      \n",
       "var                                                       qvalue rejected  \n",
       "protein groups                                     Source                  \n",
       "A0A024QZX5;A0A087X1N8;P35237                       AD      0.023     True  \n",
       "A0A024R0T9;K7ER74;P02655                           AD      0.071    False  \n",
       "A0A024R3W6;A0A024R412;O60462;O60462-2;O60462-3;... AD      0.394    False  \n",
       "A0A024R644;A0A0A0MRU5;A0A1B0GWI2;O75503            AD      0.396    False  \n",
       "A0A075B6H7                                         AD      0.048     True  \n",
       "...                                                          ...      ...  \n",
       "Q9Y6R7                                             AD      0.289    False  \n",
       "Q9Y6X5                                             AD      0.205    False  \n",
       "Q9Y6Y8;Q9Y6Y8-2                                    AD      0.160    False  \n",
       "Q9Y6Y9                                             AD      0.472    False  \n",
       "S4R3U6                                             AD      0.080    False  \n",
       "\n",
       "[1421 rows x 16 columns]"
      ]
     },
     "execution_count": 16,
     "metadata": {},
     "output_type": "execute_result"
    }
   ],
   "source": [
    "scores = scores.loc[pd.IndexSlice[:, args.target], :]\n",
    "scores.to_excel(writer, 'scores', **writer_args)\n",
    "scores"
   ]
  },
  {
   "cell_type": "code",
   "execution_count": 17,
   "id": "0e45e80a-32d8-4c6c-b0a4-5ce8b7f9e121",
   "metadata": {
    "execution": {
     "iopub.execute_input": "2024-05-27T16:57:24.154079Z",
     "iopub.status.busy": "2024-05-27T16:57:24.153736Z",
     "iopub.status.idle": "2024-05-27T16:57:24.308241Z",
     "shell.execute_reply": "2024-05-27T16:57:24.307478Z"
    },
    "papermill": {
     "duration": 0.187096,
     "end_time": "2024-05-27T16:57:24.310178",
     "exception": false,
     "start_time": "2024-05-27T16:57:24.123082",
     "status": "completed"
    },
    "tags": [
     "hide-input"
    ]
   },
   "outputs": [
    {
     "data": {
      "text/html": [
       "<div>\n",
       "<style scoped>\n",
       "    .dataframe tbody tr th:only-of-type {\n",
       "        vertical-align: middle;\n",
       "    }\n",
       "\n",
       "    .dataframe tbody tr th {\n",
       "        vertical-align: top;\n",
       "    }\n",
       "\n",
       "    .dataframe thead tr th {\n",
       "        text-align: left;\n",
       "    }\n",
       "</style>\n",
       "<table border=\"1\" class=\"dataframe\">\n",
       "  <thead>\n",
       "    <tr>\n",
       "      <th>model</th>\n",
       "      <th colspan=\"7\" halign=\"left\">PI</th>\n",
       "      <th colspan=\"7\" halign=\"left\">TRKNN</th>\n",
       "    </tr>\n",
       "    <tr>\n",
       "      <th>var</th>\n",
       "      <th>SS</th>\n",
       "      <th>DF</th>\n",
       "      <th>F</th>\n",
       "      <th>p-unc</th>\n",
       "      <th>np2</th>\n",
       "      <th>-Log10 pvalue</th>\n",
       "      <th>qvalue</th>\n",
       "      <th>SS</th>\n",
       "      <th>DF</th>\n",
       "      <th>F</th>\n",
       "      <th>p-unc</th>\n",
       "      <th>np2</th>\n",
       "      <th>-Log10 pvalue</th>\n",
       "      <th>qvalue</th>\n",
       "    </tr>\n",
       "  </thead>\n",
       "  <tbody>\n",
       "    <tr>\n",
       "      <th>count</th>\n",
       "      <td>1,421.000</td>\n",
       "      <td>1,421.000</td>\n",
       "      <td>1,421.000</td>\n",
       "      <td>1,421.000</td>\n",
       "      <td>1,421.000</td>\n",
       "      <td>1,421.000</td>\n",
       "      <td>1,421.000</td>\n",
       "      <td>1,421.000</td>\n",
       "      <td>1,421.000</td>\n",
       "      <td>1,421.000</td>\n",
       "      <td>1,421.000</td>\n",
       "      <td>1,421.000</td>\n",
       "      <td>1,421.000</td>\n",
       "      <td>1,421.000</td>\n",
       "    </tr>\n",
       "    <tr>\n",
       "      <th>mean</th>\n",
       "      <td>3.678</td>\n",
       "      <td>1.000</td>\n",
       "      <td>4.884</td>\n",
       "      <td>0.254</td>\n",
       "      <td>0.024</td>\n",
       "      <td>1.409</td>\n",
       "      <td>0.336</td>\n",
       "      <td>1.834</td>\n",
       "      <td>1.000</td>\n",
       "      <td>5.626</td>\n",
       "      <td>0.239</td>\n",
       "      <td>0.027</td>\n",
       "      <td>1.579</td>\n",
       "      <td>0.301</td>\n",
       "    </tr>\n",
       "    <tr>\n",
       "      <th>std</th>\n",
       "      <td>6.317</td>\n",
       "      <td>0.000</td>\n",
       "      <td>7.747</td>\n",
       "      <td>0.292</td>\n",
       "      <td>0.032</td>\n",
       "      <td>1.652</td>\n",
       "      <td>0.318</td>\n",
       "      <td>3.165</td>\n",
       "      <td>0.000</td>\n",
       "      <td>8.321</td>\n",
       "      <td>0.294</td>\n",
       "      <td>0.036</td>\n",
       "      <td>1.800</td>\n",
       "      <td>0.317</td>\n",
       "    </tr>\n",
       "    <tr>\n",
       "      <th>min</th>\n",
       "      <td>0.000</td>\n",
       "      <td>1.000</td>\n",
       "      <td>0.000</td>\n",
       "      <td>0.000</td>\n",
       "      <td>0.000</td>\n",
       "      <td>0.002</td>\n",
       "      <td>0.000</td>\n",
       "      <td>0.000</td>\n",
       "      <td>1.000</td>\n",
       "      <td>0.000</td>\n",
       "      <td>0.000</td>\n",
       "      <td>0.000</td>\n",
       "      <td>0.002</td>\n",
       "      <td>0.000</td>\n",
       "    </tr>\n",
       "    <tr>\n",
       "      <th>25%</th>\n",
       "      <td>0.379</td>\n",
       "      <td>1.000</td>\n",
       "      <td>0.622</td>\n",
       "      <td>0.011</td>\n",
       "      <td>0.003</td>\n",
       "      <td>0.365</td>\n",
       "      <td>0.037</td>\n",
       "      <td>0.164</td>\n",
       "      <td>1.000</td>\n",
       "      <td>0.644</td>\n",
       "      <td>0.007</td>\n",
       "      <td>0.003</td>\n",
       "      <td>0.373</td>\n",
       "      <td>0.021</td>\n",
       "    </tr>\n",
       "    <tr>\n",
       "      <th>50%</th>\n",
       "      <td>1.543</td>\n",
       "      <td>1.000</td>\n",
       "      <td>2.436</td>\n",
       "      <td>0.120</td>\n",
       "      <td>0.013</td>\n",
       "      <td>0.920</td>\n",
       "      <td>0.242</td>\n",
       "      <td>0.750</td>\n",
       "      <td>1.000</td>\n",
       "      <td>2.969</td>\n",
       "      <td>0.086</td>\n",
       "      <td>0.015</td>\n",
       "      <td>1.063</td>\n",
       "      <td>0.164</td>\n",
       "    </tr>\n",
       "    <tr>\n",
       "      <th>75%</th>\n",
       "      <td>4.232</td>\n",
       "      <td>1.000</td>\n",
       "      <td>6.559</td>\n",
       "      <td>0.431</td>\n",
       "      <td>0.033</td>\n",
       "      <td>1.950</td>\n",
       "      <td>0.589</td>\n",
       "      <td>2.278</td>\n",
       "      <td>1.000</td>\n",
       "      <td>7.418</td>\n",
       "      <td>0.423</td>\n",
       "      <td>0.037</td>\n",
       "      <td>2.151</td>\n",
       "      <td>0.559</td>\n",
       "    </tr>\n",
       "    <tr>\n",
       "      <th>max</th>\n",
       "      <td>69.228</td>\n",
       "      <td>1.000</td>\n",
       "      <td>144.831</td>\n",
       "      <td>0.996</td>\n",
       "      <td>0.431</td>\n",
       "      <td>24.465</td>\n",
       "      <td>0.997</td>\n",
       "      <td>41.132</td>\n",
       "      <td>1.000</td>\n",
       "      <td>110.084</td>\n",
       "      <td>0.996</td>\n",
       "      <td>0.366</td>\n",
       "      <td>19.900</td>\n",
       "      <td>0.997</td>\n",
       "    </tr>\n",
       "  </tbody>\n",
       "</table>\n",
       "</div>"
      ],
      "text/plain": [
       "model        PI                                                        \\\n",
       "var          SS        DF         F     p-unc       np2 -Log10 pvalue   \n",
       "count 1,421.000 1,421.000 1,421.000 1,421.000 1,421.000     1,421.000   \n",
       "mean      3.678     1.000     4.884     0.254     0.024         1.409   \n",
       "std       6.317     0.000     7.747     0.292     0.032         1.652   \n",
       "min       0.000     1.000     0.000     0.000     0.000         0.002   \n",
       "25%       0.379     1.000     0.622     0.011     0.003         0.365   \n",
       "50%       1.543     1.000     2.436     0.120     0.013         0.920   \n",
       "75%       4.232     1.000     6.559     0.431     0.033         1.950   \n",
       "max      69.228     1.000   144.831     0.996     0.431        24.465   \n",
       "\n",
       "model               TRKNN                                          \\\n",
       "var      qvalue        SS        DF         F     p-unc       np2   \n",
       "count 1,421.000 1,421.000 1,421.000 1,421.000 1,421.000 1,421.000   \n",
       "mean      0.336     1.834     1.000     5.626     0.239     0.027   \n",
       "std       0.318     3.165     0.000     8.321     0.294     0.036   \n",
       "min       0.000     0.000     1.000     0.000     0.000     0.000   \n",
       "25%       0.037     0.164     1.000     0.644     0.007     0.003   \n",
       "50%       0.242     0.750     1.000     2.969     0.086     0.015   \n",
       "75%       0.589     2.278     1.000     7.418     0.423     0.037   \n",
       "max       0.997    41.132     1.000   110.084     0.996     0.366   \n",
       "\n",
       "model                          \n",
       "var   -Log10 pvalue    qvalue  \n",
       "count     1,421.000 1,421.000  \n",
       "mean          1.579     0.301  \n",
       "std           1.800     0.317  \n",
       "min           0.002     0.000  \n",
       "25%           0.373     0.021  \n",
       "50%           1.063     0.164  \n",
       "75%           2.151     0.559  \n",
       "max          19.900     0.997  "
      ]
     },
     "execution_count": 17,
     "metadata": {},
     "output_type": "execute_result"
    }
   ],
   "source": [
    "scores.describe()"
   ]
  },
  {
   "cell_type": "code",
   "execution_count": 18,
   "id": "53bd5597-221c-4d54-abf2-82956db42594",
   "metadata": {
    "execution": {
     "iopub.execute_input": "2024-05-27T16:57:24.369908Z",
     "iopub.status.busy": "2024-05-27T16:57:24.369592Z",
     "iopub.status.idle": "2024-05-27T16:57:24.394565Z",
     "shell.execute_reply": "2024-05-27T16:57:24.393858Z"
    },
    "lines_to_next_cell": 2,
    "papermill": {
     "duration": 0.05718,
     "end_time": "2024-05-27T16:57:24.396495",
     "exception": false,
     "start_time": "2024-05-27T16:57:24.339315",
     "status": "completed"
    },
    "tags": [
     "hide-input"
    ]
   },
   "outputs": [
    {
     "data": {
      "text/html": [
       "<div>\n",
       "<style scoped>\n",
       "    .dataframe tbody tr th:only-of-type {\n",
       "        vertical-align: middle;\n",
       "    }\n",
       "\n",
       "    .dataframe tbody tr th {\n",
       "        vertical-align: top;\n",
       "    }\n",
       "\n",
       "    .dataframe thead tr th {\n",
       "        text-align: left;\n",
       "    }\n",
       "</style>\n",
       "<table border=\"1\" class=\"dataframe\">\n",
       "  <thead>\n",
       "    <tr>\n",
       "      <th>model</th>\n",
       "      <th>PI</th>\n",
       "      <th>TRKNN</th>\n",
       "    </tr>\n",
       "    <tr>\n",
       "      <th>var</th>\n",
       "      <th>rejected</th>\n",
       "      <th>rejected</th>\n",
       "    </tr>\n",
       "  </thead>\n",
       "  <tbody>\n",
       "    <tr>\n",
       "      <th>count</th>\n",
       "      <td>1421</td>\n",
       "      <td>1421</td>\n",
       "    </tr>\n",
       "    <tr>\n",
       "      <th>unique</th>\n",
       "      <td>2</td>\n",
       "      <td>2</td>\n",
       "    </tr>\n",
       "    <tr>\n",
       "      <th>top</th>\n",
       "      <td>False</td>\n",
       "      <td>False</td>\n",
       "    </tr>\n",
       "    <tr>\n",
       "      <th>freq</th>\n",
       "      <td>1029</td>\n",
       "      <td>936</td>\n",
       "    </tr>\n",
       "  </tbody>\n",
       "</table>\n",
       "</div>"
      ],
      "text/plain": [
       "model        PI    TRKNN\n",
       "var    rejected rejected\n",
       "count      1421     1421\n",
       "unique        2        2\n",
       "top       False    False\n",
       "freq       1029      936"
      ]
     },
     "execution_count": 18,
     "metadata": {},
     "output_type": "execute_result"
    }
   ],
   "source": [
    "scores.describe(include=['bool', 'O'])"
   ]
  },
  {
   "cell_type": "markdown",
   "id": "bef83742-05e5-473b-892e-dd286cb3a31f",
   "metadata": {
    "papermill": {
     "duration": 0.02786,
     "end_time": "2024-05-27T16:57:24.456445",
     "exception": false,
     "start_time": "2024-05-27T16:57:24.428585",
     "status": "completed"
    },
    "tags": []
   },
   "source": [
    "## Load frequencies of observed features"
   ]
  },
  {
   "cell_type": "code",
   "execution_count": 19,
   "id": "2a926ba1-0f3b-4089-a349-b6d66128cf37",
   "metadata": {
    "execution": {
     "iopub.execute_input": "2024-05-27T16:57:24.526824Z",
     "iopub.status.busy": "2024-05-27T16:57:24.526525Z",
     "iopub.status.idle": "2024-05-27T16:57:24.556180Z",
     "shell.execute_reply": "2024-05-27T16:57:24.555474Z"
    },
    "papermill": {
     "duration": 0.060299,
     "end_time": "2024-05-27T16:57:24.557818",
     "exception": false,
     "start_time": "2024-05-27T16:57:24.497519",
     "status": "completed"
    },
    "tags": [
     "hide-input"
    ]
   },
   "outputs": [
    {
     "data": {
      "text/html": [
       "<div>\n",
       "<style scoped>\n",
       "    .dataframe tbody tr th:only-of-type {\n",
       "        vertical-align: middle;\n",
       "    }\n",
       "\n",
       "    .dataframe tbody tr th {\n",
       "        vertical-align: top;\n",
       "    }\n",
       "\n",
       "    .dataframe thead tr th {\n",
       "        text-align: left;\n",
       "    }\n",
       "\n",
       "    .dataframe thead tr:last-of-type th {\n",
       "        text-align: right;\n",
       "    }\n",
       "</style>\n",
       "<table border=\"1\" class=\"dataframe\">\n",
       "  <thead>\n",
       "    <tr>\n",
       "      <th></th>\n",
       "      <th>data</th>\n",
       "    </tr>\n",
       "    <tr>\n",
       "      <th></th>\n",
       "      <th>frequency</th>\n",
       "    </tr>\n",
       "    <tr>\n",
       "      <th>protein groups</th>\n",
       "      <th></th>\n",
       "    </tr>\n",
       "  </thead>\n",
       "  <tbody>\n",
       "    <tr>\n",
       "      <th>A0A024QZX5;A0A087X1N8;P35237</th>\n",
       "      <td>186</td>\n",
       "    </tr>\n",
       "    <tr>\n",
       "      <th>A0A024R0T9;K7ER74;P02655</th>\n",
       "      <td>195</td>\n",
       "    </tr>\n",
       "    <tr>\n",
       "      <th>A0A024R3W6;A0A024R412;O60462;O60462-2;O60462-3;O60462-4;O60462-5;Q7LBX6;X5D2Q8</th>\n",
       "      <td>174</td>\n",
       "    </tr>\n",
       "    <tr>\n",
       "      <th>A0A024R644;A0A0A0MRU5;A0A1B0GWI2;O75503</th>\n",
       "      <td>196</td>\n",
       "    </tr>\n",
       "    <tr>\n",
       "      <th>A0A075B6H7</th>\n",
       "      <td>91</td>\n",
       "    </tr>\n",
       "    <tr>\n",
       "      <th>...</th>\n",
       "      <td>...</td>\n",
       "    </tr>\n",
       "    <tr>\n",
       "      <th>Q9Y6R7</th>\n",
       "      <td>197</td>\n",
       "    </tr>\n",
       "    <tr>\n",
       "      <th>Q9Y6X5</th>\n",
       "      <td>173</td>\n",
       "    </tr>\n",
       "    <tr>\n",
       "      <th>Q9Y6Y8;Q9Y6Y8-2</th>\n",
       "      <td>197</td>\n",
       "    </tr>\n",
       "    <tr>\n",
       "      <th>Q9Y6Y9</th>\n",
       "      <td>119</td>\n",
       "    </tr>\n",
       "    <tr>\n",
       "      <th>S4R3U6</th>\n",
       "      <td>126</td>\n",
       "    </tr>\n",
       "  </tbody>\n",
       "</table>\n",
       "<p>1421 rows × 1 columns</p>\n",
       "</div>"
      ],
      "text/plain": [
       "                                                        data\n",
       "                                                   frequency\n",
       "protein groups                                              \n",
       "A0A024QZX5;A0A087X1N8;P35237                             186\n",
       "A0A024R0T9;K7ER74;P02655                                 195\n",
       "A0A024R3W6;A0A024R412;O60462;O60462-2;O60462-3;...       174\n",
       "A0A024R644;A0A0A0MRU5;A0A1B0GWI2;O75503                  196\n",
       "A0A075B6H7                                                91\n",
       "...                                                      ...\n",
       "Q9Y6R7                                                   197\n",
       "Q9Y6X5                                                   173\n",
       "Q9Y6Y8;Q9Y6Y8-2                                          197\n",
       "Q9Y6Y9                                                   119\n",
       "S4R3U6                                                   126\n",
       "\n",
       "[1421 rows x 1 columns]"
      ]
     },
     "execution_count": 19,
     "metadata": {},
     "output_type": "execute_result"
    }
   ],
   "source": [
    "freq_feat = pd.read_csv(files_in['freq_features_observed.csv'], index_col=0)\n",
    "freq_feat.columns = pd.MultiIndex.from_tuples([('data', 'frequency'),])\n",
    "freq_feat"
   ]
  },
  {
   "cell_type": "markdown",
   "id": "408eacfe-770f-42ff-9057-2a98274e1ae3",
   "metadata": {
    "papermill": {
     "duration": 0.021305,
     "end_time": "2024-05-27T16:57:24.608282",
     "exception": false,
     "start_time": "2024-05-27T16:57:24.586977",
     "status": "completed"
    },
    "tags": []
   },
   "source": [
    "## Compare shared features"
   ]
  },
  {
   "cell_type": "code",
   "execution_count": 20,
   "id": "5b2dfb0f-195b-4044-a228-2d784ea2a458",
   "metadata": {
    "execution": {
     "iopub.execute_input": "2024-05-27T16:57:24.681121Z",
     "iopub.status.busy": "2024-05-27T16:57:24.680252Z",
     "iopub.status.idle": "2024-05-27T16:57:24.742253Z",
     "shell.execute_reply": "2024-05-27T16:57:24.741521Z"
    },
    "papermill": {
     "duration": 0.107156,
     "end_time": "2024-05-27T16:57:24.744126",
     "exception": false,
     "start_time": "2024-05-27T16:57:24.636970",
     "status": "completed"
    },
    "tags": [
     "hide-input"
    ]
   },
   "outputs": [
    {
     "data": {
      "text/html": [
       "<div>\n",
       "<style scoped>\n",
       "    .dataframe tbody tr th:only-of-type {\n",
       "        vertical-align: middle;\n",
       "    }\n",
       "\n",
       "    .dataframe tbody tr th {\n",
       "        vertical-align: top;\n",
       "    }\n",
       "\n",
       "    .dataframe thead tr th {\n",
       "        text-align: left;\n",
       "    }\n",
       "\n",
       "    .dataframe thead tr:last-of-type th {\n",
       "        text-align: right;\n",
       "    }\n",
       "</style>\n",
       "<table border=\"1\" class=\"dataframe\">\n",
       "  <thead>\n",
       "    <tr>\n",
       "      <th></th>\n",
       "      <th colspan=\"8\" halign=\"left\">PI</th>\n",
       "      <th colspan=\"8\" halign=\"left\">TRKNN</th>\n",
       "      <th>data</th>\n",
       "    </tr>\n",
       "    <tr>\n",
       "      <th></th>\n",
       "      <th>SS</th>\n",
       "      <th>DF</th>\n",
       "      <th>F</th>\n",
       "      <th>p-unc</th>\n",
       "      <th>np2</th>\n",
       "      <th>-Log10 pvalue</th>\n",
       "      <th>qvalue</th>\n",
       "      <th>rejected</th>\n",
       "      <th>SS</th>\n",
       "      <th>DF</th>\n",
       "      <th>F</th>\n",
       "      <th>p-unc</th>\n",
       "      <th>np2</th>\n",
       "      <th>-Log10 pvalue</th>\n",
       "      <th>qvalue</th>\n",
       "      <th>rejected</th>\n",
       "      <th>frequency</th>\n",
       "    </tr>\n",
       "    <tr>\n",
       "      <th>protein groups</th>\n",
       "      <th></th>\n",
       "      <th></th>\n",
       "      <th></th>\n",
       "      <th></th>\n",
       "      <th></th>\n",
       "      <th></th>\n",
       "      <th></th>\n",
       "      <th></th>\n",
       "      <th></th>\n",
       "      <th></th>\n",
       "      <th></th>\n",
       "      <th></th>\n",
       "      <th></th>\n",
       "      <th></th>\n",
       "      <th></th>\n",
       "      <th></th>\n",
       "      <th></th>\n",
       "    </tr>\n",
       "  </thead>\n",
       "  <tbody>\n",
       "    <tr>\n",
       "      <th>A0A024QZX5;A0A087X1N8;P35237</th>\n",
       "      <td>0.251</td>\n",
       "      <td>1</td>\n",
       "      <td>0.422</td>\n",
       "      <td>0.517</td>\n",
       "      <td>0.002</td>\n",
       "      <td>0.287</td>\n",
       "      <td>0.668</td>\n",
       "      <td>False</td>\n",
       "      <td>0.994</td>\n",
       "      <td>1</td>\n",
       "      <td>7.134</td>\n",
       "      <td>0.008</td>\n",
       "      <td>0.036</td>\n",
       "      <td>2.085</td>\n",
       "      <td>0.023</td>\n",
       "      <td>True</td>\n",
       "      <td>186</td>\n",
       "    </tr>\n",
       "    <tr>\n",
       "      <th>A0A024R0T9;K7ER74;P02655</th>\n",
       "      <td>3.214</td>\n",
       "      <td>1</td>\n",
       "      <td>4.062</td>\n",
       "      <td>0.045</td>\n",
       "      <td>0.021</td>\n",
       "      <td>1.344</td>\n",
       "      <td>0.112</td>\n",
       "      <td>False</td>\n",
       "      <td>2.916</td>\n",
       "      <td>1</td>\n",
       "      <td>4.736</td>\n",
       "      <td>0.031</td>\n",
       "      <td>0.024</td>\n",
       "      <td>1.512</td>\n",
       "      <td>0.071</td>\n",
       "      <td>False</td>\n",
       "      <td>195</td>\n",
       "    </tr>\n",
       "    <tr>\n",
       "      <th>A0A024R3W6;A0A024R412;O60462;O60462-2;O60462-3;O60462-4;O60462-5;Q7LBX6;X5D2Q8</th>\n",
       "      <td>3.240</td>\n",
       "      <td>1</td>\n",
       "      <td>3.096</td>\n",
       "      <td>0.080</td>\n",
       "      <td>0.016</td>\n",
       "      <td>1.097</td>\n",
       "      <td>0.176</td>\n",
       "      <td>False</td>\n",
       "      <td>0.155</td>\n",
       "      <td>1</td>\n",
       "      <td>1.255</td>\n",
       "      <td>0.264</td>\n",
       "      <td>0.007</td>\n",
       "      <td>0.578</td>\n",
       "      <td>0.394</td>\n",
       "      <td>False</td>\n",
       "      <td>174</td>\n",
       "    </tr>\n",
       "    <tr>\n",
       "      <th>A0A024R644;A0A0A0MRU5;A0A1B0GWI2;O75503</th>\n",
       "      <td>0.071</td>\n",
       "      <td>1</td>\n",
       "      <td>0.322</td>\n",
       "      <td>0.571</td>\n",
       "      <td>0.002</td>\n",
       "      <td>0.243</td>\n",
       "      <td>0.708</td>\n",
       "      <td>False</td>\n",
       "      <td>0.173</td>\n",
       "      <td>1</td>\n",
       "      <td>1.245</td>\n",
       "      <td>0.266</td>\n",
       "      <td>0.006</td>\n",
       "      <td>0.575</td>\n",
       "      <td>0.396</td>\n",
       "      <td>False</td>\n",
       "      <td>196</td>\n",
       "    </tr>\n",
       "    <tr>\n",
       "      <th>A0A075B6H7</th>\n",
       "      <td>5.589</td>\n",
       "      <td>1</td>\n",
       "      <td>1.391</td>\n",
       "      <td>0.240</td>\n",
       "      <td>0.007</td>\n",
       "      <td>0.620</td>\n",
       "      <td>0.396</td>\n",
       "      <td>False</td>\n",
       "      <td>4.134</td>\n",
       "      <td>1</td>\n",
       "      <td>5.536</td>\n",
       "      <td>0.020</td>\n",
       "      <td>0.028</td>\n",
       "      <td>1.707</td>\n",
       "      <td>0.048</td>\n",
       "      <td>True</td>\n",
       "      <td>91</td>\n",
       "    </tr>\n",
       "    <tr>\n",
       "      <th>...</th>\n",
       "      <td>...</td>\n",
       "      <td>...</td>\n",
       "      <td>...</td>\n",
       "      <td>...</td>\n",
       "      <td>...</td>\n",
       "      <td>...</td>\n",
       "      <td>...</td>\n",
       "      <td>...</td>\n",
       "      <td>...</td>\n",
       "      <td>...</td>\n",
       "      <td>...</td>\n",
       "      <td>...</td>\n",
       "      <td>...</td>\n",
       "      <td>...</td>\n",
       "      <td>...</td>\n",
       "      <td>...</td>\n",
       "      <td>...</td>\n",
       "    </tr>\n",
       "    <tr>\n",
       "      <th>Q9Y6R7</th>\n",
       "      <td>0.675</td>\n",
       "      <td>1</td>\n",
       "      <td>1.850</td>\n",
       "      <td>0.175</td>\n",
       "      <td>0.010</td>\n",
       "      <td>0.756</td>\n",
       "      <td>0.318</td>\n",
       "      <td>False</td>\n",
       "      <td>0.675</td>\n",
       "      <td>1</td>\n",
       "      <td>1.850</td>\n",
       "      <td>0.175</td>\n",
       "      <td>0.010</td>\n",
       "      <td>0.756</td>\n",
       "      <td>0.289</td>\n",
       "      <td>False</td>\n",
       "      <td>197</td>\n",
       "    </tr>\n",
       "    <tr>\n",
       "      <th>Q9Y6X5</th>\n",
       "      <td>2.891</td>\n",
       "      <td>1</td>\n",
       "      <td>3.322</td>\n",
       "      <td>0.070</td>\n",
       "      <td>0.017</td>\n",
       "      <td>1.155</td>\n",
       "      <td>0.158</td>\n",
       "      <td>False</td>\n",
       "      <td>0.867</td>\n",
       "      <td>1</td>\n",
       "      <td>2.530</td>\n",
       "      <td>0.113</td>\n",
       "      <td>0.013</td>\n",
       "      <td>0.946</td>\n",
       "      <td>0.205</td>\n",
       "      <td>False</td>\n",
       "      <td>173</td>\n",
       "    </tr>\n",
       "    <tr>\n",
       "      <th>Q9Y6Y8;Q9Y6Y8-2</th>\n",
       "      <td>0.973</td>\n",
       "      <td>1</td>\n",
       "      <td>3.028</td>\n",
       "      <td>0.083</td>\n",
       "      <td>0.016</td>\n",
       "      <td>1.079</td>\n",
       "      <td>0.182</td>\n",
       "      <td>False</td>\n",
       "      <td>0.973</td>\n",
       "      <td>1</td>\n",
       "      <td>3.028</td>\n",
       "      <td>0.083</td>\n",
       "      <td>0.016</td>\n",
       "      <td>1.079</td>\n",
       "      <td>0.160</td>\n",
       "      <td>False</td>\n",
       "      <td>197</td>\n",
       "    </tr>\n",
       "    <tr>\n",
       "      <th>Q9Y6Y9</th>\n",
       "      <td>1.606</td>\n",
       "      <td>1</td>\n",
       "      <td>1.771</td>\n",
       "      <td>0.185</td>\n",
       "      <td>0.009</td>\n",
       "      <td>0.733</td>\n",
       "      <td>0.330</td>\n",
       "      <td>False</td>\n",
       "      <td>0.565</td>\n",
       "      <td>1</td>\n",
       "      <td>0.938</td>\n",
       "      <td>0.334</td>\n",
       "      <td>0.005</td>\n",
       "      <td>0.476</td>\n",
       "      <td>0.472</td>\n",
       "      <td>False</td>\n",
       "      <td>119</td>\n",
       "    </tr>\n",
       "    <tr>\n",
       "      <th>S4R3U6</th>\n",
       "      <td>0.792</td>\n",
       "      <td>1</td>\n",
       "      <td>0.801</td>\n",
       "      <td>0.372</td>\n",
       "      <td>0.004</td>\n",
       "      <td>0.429</td>\n",
       "      <td>0.537</td>\n",
       "      <td>False</td>\n",
       "      <td>2.295</td>\n",
       "      <td>1</td>\n",
       "      <td>4.480</td>\n",
       "      <td>0.036</td>\n",
       "      <td>0.023</td>\n",
       "      <td>1.449</td>\n",
       "      <td>0.080</td>\n",
       "      <td>False</td>\n",
       "      <td>126</td>\n",
       "    </tr>\n",
       "  </tbody>\n",
       "</table>\n",
       "<p>1421 rows × 17 columns</p>\n",
       "</div>"
      ],
      "text/plain": [
       "                                                      PI                       \\\n",
       "                                                      SS DF     F p-unc   np2   \n",
       "protein groups                                                                  \n",
       "A0A024QZX5;A0A087X1N8;P35237                       0.251  1 0.422 0.517 0.002   \n",
       "A0A024R0T9;K7ER74;P02655                           3.214  1 4.062 0.045 0.021   \n",
       "A0A024R3W6;A0A024R412;O60462;O60462-2;O60462-3;... 3.240  1 3.096 0.080 0.016   \n",
       "A0A024R644;A0A0A0MRU5;A0A1B0GWI2;O75503            0.071  1 0.322 0.571 0.002   \n",
       "A0A075B6H7                                         5.589  1 1.391 0.240 0.007   \n",
       "...                                                  ... ..   ...   ...   ...   \n",
       "Q9Y6R7                                             0.675  1 1.850 0.175 0.010   \n",
       "Q9Y6X5                                             2.891  1 3.322 0.070 0.017   \n",
       "Q9Y6Y8;Q9Y6Y8-2                                    0.973  1 3.028 0.083 0.016   \n",
       "Q9Y6Y9                                             1.606  1 1.771 0.185 0.009   \n",
       "S4R3U6                                             0.792  1 0.801 0.372 0.004   \n",
       "\n",
       "                                                                         \\\n",
       "                                                   -Log10 pvalue qvalue   \n",
       "protein groups                                                            \n",
       "A0A024QZX5;A0A087X1N8;P35237                               0.287  0.668   \n",
       "A0A024R0T9;K7ER74;P02655                                   1.344  0.112   \n",
       "A0A024R3W6;A0A024R412;O60462;O60462-2;O60462-3;...         1.097  0.176   \n",
       "A0A024R644;A0A0A0MRU5;A0A1B0GWI2;O75503                    0.243  0.708   \n",
       "A0A075B6H7                                                 0.620  0.396   \n",
       "...                                                          ...    ...   \n",
       "Q9Y6R7                                                     0.756  0.318   \n",
       "Q9Y6X5                                                     1.155  0.158   \n",
       "Q9Y6Y8;Q9Y6Y8-2                                            1.079  0.182   \n",
       "Q9Y6Y9                                                     0.733  0.330   \n",
       "S4R3U6                                                     0.429  0.537   \n",
       "\n",
       "                                                            TRKNN           \\\n",
       "                                                   rejected    SS DF     F   \n",
       "protein groups                                                               \n",
       "A0A024QZX5;A0A087X1N8;P35237                          False 0.994  1 7.134   \n",
       "A0A024R0T9;K7ER74;P02655                              False 2.916  1 4.736   \n",
       "A0A024R3W6;A0A024R412;O60462;O60462-2;O60462-3;...    False 0.155  1 1.255   \n",
       "A0A024R644;A0A0A0MRU5;A0A1B0GWI2;O75503               False 0.173  1 1.245   \n",
       "A0A075B6H7                                            False 4.134  1 5.536   \n",
       "...                                                     ...   ... ..   ...   \n",
       "Q9Y6R7                                                False 0.675  1 1.850   \n",
       "Q9Y6X5                                                False 0.867  1 2.530   \n",
       "Q9Y6Y8;Q9Y6Y8-2                                       False 0.973  1 3.028   \n",
       "Q9Y6Y9                                                False 0.565  1 0.938   \n",
       "S4R3U6                                                False 2.295  1 4.480   \n",
       "\n",
       "                                                                              \\\n",
       "                                                   p-unc   np2 -Log10 pvalue   \n",
       "protein groups                                                                 \n",
       "A0A024QZX5;A0A087X1N8;P35237                       0.008 0.036         2.085   \n",
       "A0A024R0T9;K7ER74;P02655                           0.031 0.024         1.512   \n",
       "A0A024R3W6;A0A024R412;O60462;O60462-2;O60462-3;... 0.264 0.007         0.578   \n",
       "A0A024R644;A0A0A0MRU5;A0A1B0GWI2;O75503            0.266 0.006         0.575   \n",
       "A0A075B6H7                                         0.020 0.028         1.707   \n",
       "...                                                  ...   ...           ...   \n",
       "Q9Y6R7                                             0.175 0.010         0.756   \n",
       "Q9Y6X5                                             0.113 0.013         0.946   \n",
       "Q9Y6Y8;Q9Y6Y8-2                                    0.083 0.016         1.079   \n",
       "Q9Y6Y9                                             0.334 0.005         0.476   \n",
       "S4R3U6                                             0.036 0.023         1.449   \n",
       "\n",
       "                                                                        data  \n",
       "                                                   qvalue rejected frequency  \n",
       "protein groups                                                                \n",
       "A0A024QZX5;A0A087X1N8;P35237                        0.023     True       186  \n",
       "A0A024R0T9;K7ER74;P02655                            0.071    False       195  \n",
       "A0A024R3W6;A0A024R412;O60462;O60462-2;O60462-3;...  0.394    False       174  \n",
       "A0A024R644;A0A0A0MRU5;A0A1B0GWI2;O75503             0.396    False       196  \n",
       "A0A075B6H7                                          0.048     True        91  \n",
       "...                                                   ...      ...       ...  \n",
       "Q9Y6R7                                              0.289    False       197  \n",
       "Q9Y6X5                                              0.205    False       173  \n",
       "Q9Y6Y8;Q9Y6Y8-2                                     0.160    False       197  \n",
       "Q9Y6Y9                                              0.472    False       119  \n",
       "S4R3U6                                              0.080    False       126  \n",
       "\n",
       "[1421 rows x 17 columns]"
      ]
     },
     "execution_count": 20,
     "metadata": {},
     "output_type": "execute_result"
    }
   ],
   "source": [
    "scores_common = (scores\n",
    "                 .dropna()\n",
    "                 .reset_index(-1, drop=True)\n",
    "                 ).join(\n",
    "    freq_feat, how='left'\n",
    ")\n",
    "scores_common"
   ]
  },
  {
   "cell_type": "code",
   "execution_count": 21,
   "id": "80cf4145-070d-457a-bb74-ee64299809e7",
   "metadata": {
    "execution": {
     "iopub.execute_input": "2024-05-27T16:57:24.792708Z",
     "iopub.status.busy": "2024-05-27T16:57:24.792399Z",
     "iopub.status.idle": "2024-05-27T16:57:24.807086Z",
     "shell.execute_reply": "2024-05-27T16:57:24.806316Z"
    },
    "papermill": {
     "duration": 0.046677,
     "end_time": "2024-05-27T16:57:24.808744",
     "exception": false,
     "start_time": "2024-05-27T16:57:24.762067",
     "status": "completed"
    },
    "tags": [
     "hide-input"
    ]
   },
   "outputs": [
    {
     "data": {
      "text/plain": [
       "Differential Analysis Comparison\n",
       "PI (no)  - TRKNN (no)    883\n",
       "PI (yes) - TRKNN (yes)   339\n",
       "PI (no)  - TRKNN (yes)   146\n",
       "PI (yes) - TRKNN (no)     53\n",
       "Name: count, dtype: int64"
      ]
     },
     "execution_count": 21,
     "metadata": {},
     "output_type": "execute_result"
    }
   ],
   "source": [
    "def annotate_decision(scores, model, model_column):\n",
    "    return scores[(model_column, 'rejected')].replace({False: f'{model} (no) ', True: f'{model} (yes)'})\n",
    "\n",
    "\n",
    "annotations = None\n",
    "for model, model_column in models.items():\n",
    "    if annotations is not None:\n",
    "        annotations += ' - '\n",
    "        annotations += annotate_decision(scores_common,\n",
    "                                         model=model, model_column=model_column)\n",
    "    else:\n",
    "        annotations = annotate_decision(\n",
    "            scores_common, model=model, model_column=model_column)\n",
    "annotations.name = 'Differential Analysis Comparison'\n",
    "annotations.value_counts()"
   ]
  },
  {
   "cell_type": "code",
   "execution_count": 22,
   "id": "cda5ffa4-9a97-4a49-aaba-34e83ef7940a",
   "metadata": {
    "execution": {
     "iopub.execute_input": "2024-05-27T16:57:24.845013Z",
     "iopub.status.busy": "2024-05-27T16:57:24.844696Z",
     "iopub.status.idle": "2024-05-27T16:57:24.876783Z",
     "shell.execute_reply": "2024-05-27T16:57:24.876038Z"
    },
    "papermill": {
     "duration": 0.052363,
     "end_time": "2024-05-27T16:57:24.878727",
     "exception": false,
     "start_time": "2024-05-27T16:57:24.826364",
     "status": "completed"
    },
    "tags": [
     "hide-input"
    ]
   },
   "outputs": [
    {
     "data": {
      "text/html": [
       "<div>\n",
       "<style scoped>\n",
       "    .dataframe tbody tr th:only-of-type {\n",
       "        vertical-align: middle;\n",
       "    }\n",
       "\n",
       "    .dataframe tbody tr th {\n",
       "        vertical-align: top;\n",
       "    }\n",
       "\n",
       "    .dataframe thead tr th {\n",
       "        text-align: left;\n",
       "    }\n",
       "\n",
       "    .dataframe thead tr:last-of-type th {\n",
       "        text-align: right;\n",
       "    }\n",
       "</style>\n",
       "<table border=\"1\" class=\"dataframe\">\n",
       "  <thead>\n",
       "    <tr>\n",
       "      <th></th>\n",
       "      <th colspan=\"8\" halign=\"left\">PI</th>\n",
       "      <th colspan=\"8\" halign=\"left\">TRKNN</th>\n",
       "      <th>data</th>\n",
       "    </tr>\n",
       "    <tr>\n",
       "      <th></th>\n",
       "      <th>SS</th>\n",
       "      <th>DF</th>\n",
       "      <th>F</th>\n",
       "      <th>p-unc</th>\n",
       "      <th>np2</th>\n",
       "      <th>-Log10 pvalue</th>\n",
       "      <th>qvalue</th>\n",
       "      <th>rejected</th>\n",
       "      <th>SS</th>\n",
       "      <th>DF</th>\n",
       "      <th>F</th>\n",
       "      <th>p-unc</th>\n",
       "      <th>np2</th>\n",
       "      <th>-Log10 pvalue</th>\n",
       "      <th>qvalue</th>\n",
       "      <th>rejected</th>\n",
       "      <th>frequency</th>\n",
       "    </tr>\n",
       "    <tr>\n",
       "      <th>protein groups</th>\n",
       "      <th></th>\n",
       "      <th></th>\n",
       "      <th></th>\n",
       "      <th></th>\n",
       "      <th></th>\n",
       "      <th></th>\n",
       "      <th></th>\n",
       "      <th></th>\n",
       "      <th></th>\n",
       "      <th></th>\n",
       "      <th></th>\n",
       "      <th></th>\n",
       "      <th></th>\n",
       "      <th></th>\n",
       "      <th></th>\n",
       "      <th></th>\n",
       "      <th></th>\n",
       "    </tr>\n",
       "  </thead>\n",
       "  <tbody>\n",
       "    <tr>\n",
       "      <th>A0A024QZX5;A0A087X1N8;P35237</th>\n",
       "      <td>0.251</td>\n",
       "      <td>1</td>\n",
       "      <td>0.422</td>\n",
       "      <td>0.517</td>\n",
       "      <td>0.002</td>\n",
       "      <td>0.287</td>\n",
       "      <td>0.668</td>\n",
       "      <td>False</td>\n",
       "      <td>0.994</td>\n",
       "      <td>1</td>\n",
       "      <td>7.134</td>\n",
       "      <td>0.008</td>\n",
       "      <td>0.036</td>\n",
       "      <td>2.085</td>\n",
       "      <td>0.023</td>\n",
       "      <td>True</td>\n",
       "      <td>186</td>\n",
       "    </tr>\n",
       "    <tr>\n",
       "      <th>A0A075B6H7</th>\n",
       "      <td>5.589</td>\n",
       "      <td>1</td>\n",
       "      <td>1.391</td>\n",
       "      <td>0.240</td>\n",
       "      <td>0.007</td>\n",
       "      <td>0.620</td>\n",
       "      <td>0.396</td>\n",
       "      <td>False</td>\n",
       "      <td>4.134</td>\n",
       "      <td>1</td>\n",
       "      <td>5.536</td>\n",
       "      <td>0.020</td>\n",
       "      <td>0.028</td>\n",
       "      <td>1.707</td>\n",
       "      <td>0.048</td>\n",
       "      <td>True</td>\n",
       "      <td>91</td>\n",
       "    </tr>\n",
       "    <tr>\n",
       "      <th>A0A075B6J9</th>\n",
       "      <td>12.927</td>\n",
       "      <td>1</td>\n",
       "      <td>5.416</td>\n",
       "      <td>0.021</td>\n",
       "      <td>0.028</td>\n",
       "      <td>1.678</td>\n",
       "      <td>0.062</td>\n",
       "      <td>False</td>\n",
       "      <td>4.049</td>\n",
       "      <td>1</td>\n",
       "      <td>6.939</td>\n",
       "      <td>0.009</td>\n",
       "      <td>0.035</td>\n",
       "      <td>2.040</td>\n",
       "      <td>0.026</td>\n",
       "      <td>True</td>\n",
       "      <td>156</td>\n",
       "    </tr>\n",
       "    <tr>\n",
       "      <th>A0A075B6Q5</th>\n",
       "      <td>0.075</td>\n",
       "      <td>1</td>\n",
       "      <td>0.020</td>\n",
       "      <td>0.888</td>\n",
       "      <td>0.000</td>\n",
       "      <td>0.052</td>\n",
       "      <td>0.936</td>\n",
       "      <td>False</td>\n",
       "      <td>4.076</td>\n",
       "      <td>1</td>\n",
       "      <td>9.552</td>\n",
       "      <td>0.002</td>\n",
       "      <td>0.048</td>\n",
       "      <td>2.639</td>\n",
       "      <td>0.008</td>\n",
       "      <td>True</td>\n",
       "      <td>104</td>\n",
       "    </tr>\n",
       "    <tr>\n",
       "      <th>A0A075B6R2</th>\n",
       "      <td>5.054</td>\n",
       "      <td>1</td>\n",
       "      <td>1.460</td>\n",
       "      <td>0.228</td>\n",
       "      <td>0.008</td>\n",
       "      <td>0.641</td>\n",
       "      <td>0.382</td>\n",
       "      <td>False</td>\n",
       "      <td>5.970</td>\n",
       "      <td>1</td>\n",
       "      <td>10.834</td>\n",
       "      <td>0.001</td>\n",
       "      <td>0.054</td>\n",
       "      <td>2.926</td>\n",
       "      <td>0.004</td>\n",
       "      <td>True</td>\n",
       "      <td>164</td>\n",
       "    </tr>\n",
       "    <tr>\n",
       "      <th>...</th>\n",
       "      <td>...</td>\n",
       "      <td>...</td>\n",
       "      <td>...</td>\n",
       "      <td>...</td>\n",
       "      <td>...</td>\n",
       "      <td>...</td>\n",
       "      <td>...</td>\n",
       "      <td>...</td>\n",
       "      <td>...</td>\n",
       "      <td>...</td>\n",
       "      <td>...</td>\n",
       "      <td>...</td>\n",
       "      <td>...</td>\n",
       "      <td>...</td>\n",
       "      <td>...</td>\n",
       "      <td>...</td>\n",
       "      <td>...</td>\n",
       "    </tr>\n",
       "    <tr>\n",
       "      <th>Q9UJ14</th>\n",
       "      <td>2.068</td>\n",
       "      <td>1</td>\n",
       "      <td>4.959</td>\n",
       "      <td>0.027</td>\n",
       "      <td>0.025</td>\n",
       "      <td>1.567</td>\n",
       "      <td>0.076</td>\n",
       "      <td>False</td>\n",
       "      <td>1.451</td>\n",
       "      <td>1</td>\n",
       "      <td>6.116</td>\n",
       "      <td>0.014</td>\n",
       "      <td>0.031</td>\n",
       "      <td>1.846</td>\n",
       "      <td>0.037</td>\n",
       "      <td>True</td>\n",
       "      <td>169</td>\n",
       "    </tr>\n",
       "    <tr>\n",
       "      <th>Q9UNW1</th>\n",
       "      <td>9.487</td>\n",
       "      <td>1</td>\n",
       "      <td>7.765</td>\n",
       "      <td>0.006</td>\n",
       "      <td>0.039</td>\n",
       "      <td>2.232</td>\n",
       "      <td>0.022</td>\n",
       "      <td>True</td>\n",
       "      <td>0.001</td>\n",
       "      <td>1</td>\n",
       "      <td>0.012</td>\n",
       "      <td>0.912</td>\n",
       "      <td>0.000</td>\n",
       "      <td>0.040</td>\n",
       "      <td>0.944</td>\n",
       "      <td>False</td>\n",
       "      <td>171</td>\n",
       "    </tr>\n",
       "    <tr>\n",
       "      <th>Q9UP79</th>\n",
       "      <td>6.074</td>\n",
       "      <td>1</td>\n",
       "      <td>3.556</td>\n",
       "      <td>0.061</td>\n",
       "      <td>0.018</td>\n",
       "      <td>1.216</td>\n",
       "      <td>0.142</td>\n",
       "      <td>False</td>\n",
       "      <td>2.615</td>\n",
       "      <td>1</td>\n",
       "      <td>17.019</td>\n",
       "      <td>0.000</td>\n",
       "      <td>0.082</td>\n",
       "      <td>4.258</td>\n",
       "      <td>0.000</td>\n",
       "      <td>True</td>\n",
       "      <td>135</td>\n",
       "    </tr>\n",
       "    <tr>\n",
       "      <th>Q9UQ52</th>\n",
       "      <td>1.269</td>\n",
       "      <td>1</td>\n",
       "      <td>1.861</td>\n",
       "      <td>0.174</td>\n",
       "      <td>0.010</td>\n",
       "      <td>0.759</td>\n",
       "      <td>0.316</td>\n",
       "      <td>False</td>\n",
       "      <td>1.702</td>\n",
       "      <td>1</td>\n",
       "      <td>11.789</td>\n",
       "      <td>0.001</td>\n",
       "      <td>0.058</td>\n",
       "      <td>3.136</td>\n",
       "      <td>0.003</td>\n",
       "      <td>True</td>\n",
       "      <td>188</td>\n",
       "    </tr>\n",
       "    <tr>\n",
       "      <th>Q9Y6C2</th>\n",
       "      <td>0.004</td>\n",
       "      <td>1</td>\n",
       "      <td>0.003</td>\n",
       "      <td>0.953</td>\n",
       "      <td>0.000</td>\n",
       "      <td>0.021</td>\n",
       "      <td>0.972</td>\n",
       "      <td>False</td>\n",
       "      <td>4.527</td>\n",
       "      <td>1</td>\n",
       "      <td>9.493</td>\n",
       "      <td>0.002</td>\n",
       "      <td>0.047</td>\n",
       "      <td>2.626</td>\n",
       "      <td>0.008</td>\n",
       "      <td>True</td>\n",
       "      <td>119</td>\n",
       "    </tr>\n",
       "  </tbody>\n",
       "</table>\n",
       "<p>199 rows × 17 columns</p>\n",
       "</div>"
      ],
      "text/plain": [
       "                                 PI                                            \\\n",
       "                                 SS DF     F p-unc   np2 -Log10 pvalue qvalue   \n",
       "protein groups                                                                  \n",
       "A0A024QZX5;A0A087X1N8;P35237  0.251  1 0.422 0.517 0.002         0.287  0.668   \n",
       "A0A075B6H7                    5.589  1 1.391 0.240 0.007         0.620  0.396   \n",
       "A0A075B6J9                   12.927  1 5.416 0.021 0.028         1.678  0.062   \n",
       "A0A075B6Q5                    0.075  1 0.020 0.888 0.000         0.052  0.936   \n",
       "A0A075B6R2                    5.054  1 1.460 0.228 0.008         0.641  0.382   \n",
       "...                             ... ..   ...   ...   ...           ...    ...   \n",
       "Q9UJ14                        2.068  1 4.959 0.027 0.025         1.567  0.076   \n",
       "Q9UNW1                        9.487  1 7.765 0.006 0.039         2.232  0.022   \n",
       "Q9UP79                        6.074  1 3.556 0.061 0.018         1.216  0.142   \n",
       "Q9UQ52                        1.269  1 1.861 0.174 0.010         0.759  0.316   \n",
       "Q9Y6C2                        0.004  1 0.003 0.953 0.000         0.021  0.972   \n",
       "\n",
       "                                      TRKNN                        \\\n",
       "                             rejected    SS DF      F p-unc   np2   \n",
       "protein groups                                                      \n",
       "A0A024QZX5;A0A087X1N8;P35237    False 0.994  1  7.134 0.008 0.036   \n",
       "A0A075B6H7                      False 4.134  1  5.536 0.020 0.028   \n",
       "A0A075B6J9                      False 4.049  1  6.939 0.009 0.035   \n",
       "A0A075B6Q5                      False 4.076  1  9.552 0.002 0.048   \n",
       "A0A075B6R2                      False 5.970  1 10.834 0.001 0.054   \n",
       "...                               ...   ... ..    ...   ...   ...   \n",
       "Q9UJ14                          False 1.451  1  6.116 0.014 0.031   \n",
       "Q9UNW1                           True 0.001  1  0.012 0.912 0.000   \n",
       "Q9UP79                          False 2.615  1 17.019 0.000 0.082   \n",
       "Q9UQ52                          False 1.702  1 11.789 0.001 0.058   \n",
       "Q9Y6C2                          False 4.527  1  9.493 0.002 0.047   \n",
       "\n",
       "                                                                data  \n",
       "                             -Log10 pvalue qvalue rejected frequency  \n",
       "protein groups                                                        \n",
       "A0A024QZX5;A0A087X1N8;P35237         2.085  0.023     True       186  \n",
       "A0A075B6H7                           1.707  0.048     True        91  \n",
       "A0A075B6J9                           2.040  0.026     True       156  \n",
       "A0A075B6Q5                           2.639  0.008     True       104  \n",
       "A0A075B6R2                           2.926  0.004     True       164  \n",
       "...                                    ...    ...      ...       ...  \n",
       "Q9UJ14                               1.846  0.037     True       169  \n",
       "Q9UNW1                               0.040  0.944    False       171  \n",
       "Q9UP79                               4.258  0.000     True       135  \n",
       "Q9UQ52                               3.136  0.003     True       188  \n",
       "Q9Y6C2                               2.626  0.008     True       119  \n",
       "\n",
       "[199 rows x 17 columns]"
      ]
     },
     "execution_count": 22,
     "metadata": {},
     "output_type": "execute_result"
    }
   ],
   "source": [
    "mask_different = (\n",
    "    (scores_common.loc[:, pd.IndexSlice[:, 'rejected']].any(axis=1))\n",
    "    & ~(scores_common.loc[:, pd.IndexSlice[:, 'rejected']].all(axis=1))\n",
    ")\n",
    "\n",
    "scores_common.loc[mask_different]"
   ]
  },
  {
   "cell_type": "code",
   "execution_count": 23,
   "id": "b9e2739b-a09a-4113-a3f8-f29d6ed398b7",
   "metadata": {
    "execution": {
     "iopub.execute_input": "2024-05-27T16:57:24.918546Z",
     "iopub.status.busy": "2024-05-27T16:57:24.918037Z",
     "iopub.status.idle": "2024-05-27T16:57:25.144629Z",
     "shell.execute_reply": "2024-05-27T16:57:25.143738Z"
    },
    "papermill": {
     "duration": 0.248176,
     "end_time": "2024-05-27T16:57:25.147147",
     "exception": false,
     "start_time": "2024-05-27T16:57:24.898971",
     "status": "completed"
    },
    "tags": [
     "hide-input"
    ]
   },
   "outputs": [],
   "source": [
    "_to_write = scores_common.loc[mask_different]\n",
    "_to_write.to_excel(writer, 'differences', **writer_args)"
   ]
  },
  {
   "cell_type": "code",
   "execution_count": 24,
   "id": "5b2e5341-b054-40c3-b45a-44ae6ca46cfb",
   "metadata": {
    "execution": {
     "iopub.execute_input": "2024-05-27T16:57:25.182663Z",
     "iopub.status.busy": "2024-05-27T16:57:25.182361Z",
     "iopub.status.idle": "2024-05-27T16:57:25.202497Z",
     "shell.execute_reply": "2024-05-27T16:57:25.201791Z"
    },
    "papermill": {
     "duration": 0.038715,
     "end_time": "2024-05-27T16:57:25.204320",
     "exception": false,
     "start_time": "2024-05-27T16:57:25.165605",
     "status": "completed"
    },
    "tags": [
     "hide-input"
    ]
   },
   "outputs": [
    {
     "data": {
      "text/html": [
       "<div>\n",
       "<style scoped>\n",
       "    .dataframe tbody tr th:only-of-type {\n",
       "        vertical-align: middle;\n",
       "    }\n",
       "\n",
       "    .dataframe tbody tr th {\n",
       "        vertical-align: top;\n",
       "    }\n",
       "\n",
       "    .dataframe thead th {\n",
       "        text-align: right;\n",
       "    }\n",
       "</style>\n",
       "<table border=\"1\" class=\"dataframe\">\n",
       "  <thead>\n",
       "    <tr style=\"text-align: right;\">\n",
       "      <th></th>\n",
       "      <th>PI</th>\n",
       "      <th>TRKNN</th>\n",
       "      <th>frequency</th>\n",
       "      <th>Differential Analysis Comparison</th>\n",
       "    </tr>\n",
       "    <tr>\n",
       "      <th>protein groups</th>\n",
       "      <th></th>\n",
       "      <th></th>\n",
       "      <th></th>\n",
       "      <th></th>\n",
       "    </tr>\n",
       "  </thead>\n",
       "  <tbody>\n",
       "    <tr>\n",
       "      <th>A0A024QZX5;A0A087X1N8;P35237</th>\n",
       "      <td>0.668</td>\n",
       "      <td>0.023</td>\n",
       "      <td>186</td>\n",
       "      <td>PI (no)  - TRKNN (yes)</td>\n",
       "    </tr>\n",
       "    <tr>\n",
       "      <th>A0A024R0T9;K7ER74;P02655</th>\n",
       "      <td>0.112</td>\n",
       "      <td>0.071</td>\n",
       "      <td>195</td>\n",
       "      <td>PI (no)  - TRKNN (no)</td>\n",
       "    </tr>\n",
       "    <tr>\n",
       "      <th>A0A024R3W6;A0A024R412;O60462;O60462-2;O60462-3;O60462-4;O60462-5;Q7LBX6;X5D2Q8</th>\n",
       "      <td>0.176</td>\n",
       "      <td>0.394</td>\n",
       "      <td>174</td>\n",
       "      <td>PI (no)  - TRKNN (no)</td>\n",
       "    </tr>\n",
       "    <tr>\n",
       "      <th>A0A024R644;A0A0A0MRU5;A0A1B0GWI2;O75503</th>\n",
       "      <td>0.708</td>\n",
       "      <td>0.396</td>\n",
       "      <td>196</td>\n",
       "      <td>PI (no)  - TRKNN (no)</td>\n",
       "    </tr>\n",
       "    <tr>\n",
       "      <th>A0A075B6H7</th>\n",
       "      <td>0.396</td>\n",
       "      <td>0.048</td>\n",
       "      <td>91</td>\n",
       "      <td>PI (no)  - TRKNN (yes)</td>\n",
       "    </tr>\n",
       "    <tr>\n",
       "      <th>...</th>\n",
       "      <td>...</td>\n",
       "      <td>...</td>\n",
       "      <td>...</td>\n",
       "      <td>...</td>\n",
       "    </tr>\n",
       "    <tr>\n",
       "      <th>Q9Y6R7</th>\n",
       "      <td>0.318</td>\n",
       "      <td>0.289</td>\n",
       "      <td>197</td>\n",
       "      <td>PI (no)  - TRKNN (no)</td>\n",
       "    </tr>\n",
       "    <tr>\n",
       "      <th>Q9Y6X5</th>\n",
       "      <td>0.158</td>\n",
       "      <td>0.205</td>\n",
       "      <td>173</td>\n",
       "      <td>PI (no)  - TRKNN (no)</td>\n",
       "    </tr>\n",
       "    <tr>\n",
       "      <th>Q9Y6Y8;Q9Y6Y8-2</th>\n",
       "      <td>0.182</td>\n",
       "      <td>0.160</td>\n",
       "      <td>197</td>\n",
       "      <td>PI (no)  - TRKNN (no)</td>\n",
       "    </tr>\n",
       "    <tr>\n",
       "      <th>Q9Y6Y9</th>\n",
       "      <td>0.330</td>\n",
       "      <td>0.472</td>\n",
       "      <td>119</td>\n",
       "      <td>PI (no)  - TRKNN (no)</td>\n",
       "    </tr>\n",
       "    <tr>\n",
       "      <th>S4R3U6</th>\n",
       "      <td>0.537</td>\n",
       "      <td>0.080</td>\n",
       "      <td>126</td>\n",
       "      <td>PI (no)  - TRKNN (no)</td>\n",
       "    </tr>\n",
       "  </tbody>\n",
       "</table>\n",
       "<p>1421 rows × 4 columns</p>\n",
       "</div>"
      ],
      "text/plain": [
       "                                                      PI  TRKNN  frequency  \\\n",
       "protein groups                                                               \n",
       "A0A024QZX5;A0A087X1N8;P35237                       0.668  0.023        186   \n",
       "A0A024R0T9;K7ER74;P02655                           0.112  0.071        195   \n",
       "A0A024R3W6;A0A024R412;O60462;O60462-2;O60462-3;... 0.176  0.394        174   \n",
       "A0A024R644;A0A0A0MRU5;A0A1B0GWI2;O75503            0.708  0.396        196   \n",
       "A0A075B6H7                                         0.396  0.048         91   \n",
       "...                                                  ...    ...        ...   \n",
       "Q9Y6R7                                             0.318  0.289        197   \n",
       "Q9Y6X5                                             0.158  0.205        173   \n",
       "Q9Y6Y8;Q9Y6Y8-2                                    0.182  0.160        197   \n",
       "Q9Y6Y9                                             0.330  0.472        119   \n",
       "S4R3U6                                             0.537  0.080        126   \n",
       "\n",
       "                                                   Differential Analysis Comparison  \n",
       "protein groups                                                                       \n",
       "A0A024QZX5;A0A087X1N8;P35237                                 PI (no)  - TRKNN (yes)  \n",
       "A0A024R0T9;K7ER74;P02655                                     PI (no)  - TRKNN (no)   \n",
       "A0A024R3W6;A0A024R412;O60462;O60462-2;O60462-3;...           PI (no)  - TRKNN (no)   \n",
       "A0A024R644;A0A0A0MRU5;A0A1B0GWI2;O75503                      PI (no)  - TRKNN (no)   \n",
       "A0A075B6H7                                                   PI (no)  - TRKNN (yes)  \n",
       "...                                                                             ...  \n",
       "Q9Y6R7                                                       PI (no)  - TRKNN (no)   \n",
       "Q9Y6X5                                                       PI (no)  - TRKNN (no)   \n",
       "Q9Y6Y8;Q9Y6Y8-2                                              PI (no)  - TRKNN (no)   \n",
       "Q9Y6Y9                                                       PI (no)  - TRKNN (no)   \n",
       "S4R3U6                                                       PI (no)  - TRKNN (no)   \n",
       "\n",
       "[1421 rows x 4 columns]"
      ]
     },
     "execution_count": 24,
     "metadata": {},
     "output_type": "execute_result"
    }
   ],
   "source": [
    "var = 'qvalue'\n",
    "to_plot = [scores_common[v][var] for v in models.values()]\n",
    "for s, k in zip(to_plot, models.keys()):\n",
    "    s.name = k.replace('_', ' ')\n",
    "to_plot.append(scores_common['data'])\n",
    "to_plot.append(annotations)\n",
    "to_plot = pd.concat(to_plot, axis=1)\n",
    "to_plot"
   ]
  },
  {
   "cell_type": "markdown",
   "id": "c92517a4-8456-4663-b719-4abd997fbb1c",
   "metadata": {
    "papermill": {
     "duration": 0.017982,
     "end_time": "2024-05-27T16:57:25.240757",
     "exception": false,
     "start_time": "2024-05-27T16:57:25.222775",
     "status": "completed"
    },
    "tags": []
   },
   "source": [
    "## Plot of intensities for most extreme example"
   ]
  },
  {
   "cell_type": "code",
   "execution_count": 25,
   "id": "c7af4a70-aa43-4772-af00-d425f5ed249f",
   "metadata": {
    "execution": {
     "iopub.execute_input": "2024-05-27T16:57:25.278158Z",
     "iopub.status.busy": "2024-05-27T16:57:25.277872Z",
     "iopub.status.idle": "2024-05-27T16:57:25.305538Z",
     "shell.execute_reply": "2024-05-27T16:57:25.304666Z"
    },
    "papermill": {
     "duration": 0.048771,
     "end_time": "2024-05-27T16:57:25.307657",
     "exception": false,
     "start_time": "2024-05-27T16:57:25.258886",
     "status": "completed"
    },
    "tags": [
     "hide-input"
    ]
   },
   "outputs": [
    {
     "data": {
      "text/html": [
       "<div>\n",
       "<style scoped>\n",
       "    .dataframe tbody tr th:only-of-type {\n",
       "        vertical-align: middle;\n",
       "    }\n",
       "\n",
       "    .dataframe tbody tr th {\n",
       "        vertical-align: top;\n",
       "    }\n",
       "\n",
       "    .dataframe thead th {\n",
       "        text-align: right;\n",
       "    }\n",
       "</style>\n",
       "<table border=\"1\" class=\"dataframe\">\n",
       "  <thead>\n",
       "    <tr style=\"text-align: right;\">\n",
       "      <th></th>\n",
       "      <th>PI</th>\n",
       "      <th>TRKNN</th>\n",
       "      <th>frequency</th>\n",
       "      <th>Differential Analysis Comparison</th>\n",
       "      <th>diff_qvalue</th>\n",
       "    </tr>\n",
       "    <tr>\n",
       "      <th>protein groups</th>\n",
       "      <th></th>\n",
       "      <th></th>\n",
       "      <th></th>\n",
       "      <th></th>\n",
       "      <th></th>\n",
       "    </tr>\n",
       "  </thead>\n",
       "  <tbody>\n",
       "    <tr>\n",
       "      <th>O15204;O15204-2</th>\n",
       "      <td>0.992</td>\n",
       "      <td>0.024</td>\n",
       "      <td>156</td>\n",
       "      <td>PI (no)  - TRKNN (yes)</td>\n",
       "      <td>0.968</td>\n",
       "    </tr>\n",
       "    <tr>\n",
       "      <th>Q9Y6C2</th>\n",
       "      <td>0.972</td>\n",
       "      <td>0.008</td>\n",
       "      <td>119</td>\n",
       "      <td>PI (no)  - TRKNN (yes)</td>\n",
       "      <td>0.964</td>\n",
       "    </tr>\n",
       "    <tr>\n",
       "      <th>Q96MU8;Q96MU8-2;Q96MU8-3</th>\n",
       "      <td>0.988</td>\n",
       "      <td>0.028</td>\n",
       "      <td>68</td>\n",
       "      <td>PI (no)  - TRKNN (yes)</td>\n",
       "      <td>0.960</td>\n",
       "    </tr>\n",
       "    <tr>\n",
       "      <th>Q8N9I0</th>\n",
       "      <td>0.956</td>\n",
       "      <td>0.004</td>\n",
       "      <td>141</td>\n",
       "      <td>PI (no)  - TRKNN (yes)</td>\n",
       "      <td>0.952</td>\n",
       "    </tr>\n",
       "    <tr>\n",
       "      <th>A0A087X152;D6RE16;E0CX15;O95185;O95185-2</th>\n",
       "      <td>0.024</td>\n",
       "      <td>0.975</td>\n",
       "      <td>176</td>\n",
       "      <td>PI (yes) - TRKNN (no)</td>\n",
       "      <td>0.952</td>\n",
       "    </tr>\n",
       "    <tr>\n",
       "      <th>...</th>\n",
       "      <td>...</td>\n",
       "      <td>...</td>\n",
       "      <td>...</td>\n",
       "      <td>...</td>\n",
       "      <td>...</td>\n",
       "    </tr>\n",
       "    <tr>\n",
       "      <th>Q14624</th>\n",
       "      <td>0.058</td>\n",
       "      <td>0.048</td>\n",
       "      <td>197</td>\n",
       "      <td>PI (no)  - TRKNN (yes)</td>\n",
       "      <td>0.010</td>\n",
       "    </tr>\n",
       "    <tr>\n",
       "      <th>F5GY80;F5H7G1;P07358</th>\n",
       "      <td>0.057</td>\n",
       "      <td>0.047</td>\n",
       "      <td>197</td>\n",
       "      <td>PI (no)  - TRKNN (yes)</td>\n",
       "      <td>0.010</td>\n",
       "    </tr>\n",
       "    <tr>\n",
       "      <th>Q9NX62</th>\n",
       "      <td>0.055</td>\n",
       "      <td>0.046</td>\n",
       "      <td>197</td>\n",
       "      <td>PI (no)  - TRKNN (yes)</td>\n",
       "      <td>0.009</td>\n",
       "    </tr>\n",
       "    <tr>\n",
       "      <th>K7ERG9;P00746</th>\n",
       "      <td>0.052</td>\n",
       "      <td>0.043</td>\n",
       "      <td>197</td>\n",
       "      <td>PI (no)  - TRKNN (yes)</td>\n",
       "      <td>0.009</td>\n",
       "    </tr>\n",
       "    <tr>\n",
       "      <th>P00740;P00740-2</th>\n",
       "      <td>0.052</td>\n",
       "      <td>0.044</td>\n",
       "      <td>197</td>\n",
       "      <td>PI (no)  - TRKNN (yes)</td>\n",
       "      <td>0.009</td>\n",
       "    </tr>\n",
       "  </tbody>\n",
       "</table>\n",
       "<p>199 rows × 5 columns</p>\n",
       "</div>"
      ],
      "text/plain": [
       "                                            PI  TRKNN  frequency  \\\n",
       "protein groups                                                     \n",
       "O15204;O15204-2                          0.992  0.024        156   \n",
       "Q9Y6C2                                   0.972  0.008        119   \n",
       "Q96MU8;Q96MU8-2;Q96MU8-3                 0.988  0.028         68   \n",
       "Q8N9I0                                   0.956  0.004        141   \n",
       "A0A087X152;D6RE16;E0CX15;O95185;O95185-2 0.024  0.975        176   \n",
       "...                                        ...    ...        ...   \n",
       "Q14624                                   0.058  0.048        197   \n",
       "F5GY80;F5H7G1;P07358                     0.057  0.047        197   \n",
       "Q9NX62                                   0.055  0.046        197   \n",
       "K7ERG9;P00746                            0.052  0.043        197   \n",
       "P00740;P00740-2                          0.052  0.044        197   \n",
       "\n",
       "                                         Differential Analysis Comparison  \\\n",
       "protein groups                                                              \n",
       "O15204;O15204-2                                    PI (no)  - TRKNN (yes)   \n",
       "Q9Y6C2                                             PI (no)  - TRKNN (yes)   \n",
       "Q96MU8;Q96MU8-2;Q96MU8-3                           PI (no)  - TRKNN (yes)   \n",
       "Q8N9I0                                             PI (no)  - TRKNN (yes)   \n",
       "A0A087X152;D6RE16;E0CX15;O95185;O95185-2           PI (yes) - TRKNN (no)    \n",
       "...                                                                   ...   \n",
       "Q14624                                             PI (no)  - TRKNN (yes)   \n",
       "F5GY80;F5H7G1;P07358                               PI (no)  - TRKNN (yes)   \n",
       "Q9NX62                                             PI (no)  - TRKNN (yes)   \n",
       "K7ERG9;P00746                                      PI (no)  - TRKNN (yes)   \n",
       "P00740;P00740-2                                    PI (no)  - TRKNN (yes)   \n",
       "\n",
       "                                          diff_qvalue  \n",
       "protein groups                                         \n",
       "O15204;O15204-2                                 0.968  \n",
       "Q9Y6C2                                          0.964  \n",
       "Q96MU8;Q96MU8-2;Q96MU8-3                        0.960  \n",
       "Q8N9I0                                          0.952  \n",
       "A0A087X152;D6RE16;E0CX15;O95185;O95185-2        0.952  \n",
       "...                                               ...  \n",
       "Q14624                                          0.010  \n",
       "F5GY80;F5H7G1;P07358                            0.010  \n",
       "Q9NX62                                          0.009  \n",
       "K7ERG9;P00746                                   0.009  \n",
       "P00740;P00740-2                                 0.009  \n",
       "\n",
       "[199 rows x 5 columns]"
      ]
     },
     "execution_count": 25,
     "metadata": {},
     "output_type": "execute_result"
    }
   ],
   "source": [
    "# should it be possible to run not only RSN?\n",
    "to_plot['diff_qvalue'] = (to_plot[str(args.baseline)] - to_plot[str(args.model_key)]).abs()\n",
    "to_plot.loc[mask_different].sort_values('diff_qvalue', ascending=False)"
   ]
  },
  {
   "cell_type": "markdown",
   "id": "e715954e-2d62-4cd9-b4b0-063524bca495",
   "metadata": {
    "papermill": {
     "duration": 0.043932,
     "end_time": "2024-05-27T16:57:25.410385",
     "exception": false,
     "start_time": "2024-05-27T16:57:25.366453",
     "status": "completed"
    },
    "tags": []
   },
   "source": [
    "## Differences plotted\n",
    "\n",
    "- first only using created annotations"
   ]
  },
  {
   "cell_type": "code",
   "execution_count": 26,
   "id": "a20d356d-c397-4440-b70e-9d899aa200fd",
   "metadata": {
    "execution": {
     "iopub.execute_input": "2024-05-27T16:57:25.495566Z",
     "iopub.status.busy": "2024-05-27T16:57:25.495204Z",
     "iopub.status.idle": "2024-05-27T16:57:28.631531Z",
     "shell.execute_reply": "2024-05-27T16:57:28.630695Z"
    },
    "papermill": {
     "duration": 3.169514,
     "end_time": "2024-05-27T16:57:28.633466",
     "exception": false,
     "start_time": "2024-05-27T16:57:25.463952",
     "status": "completed"
    },
    "tags": [
     "hide-input"
    ]
   },
   "outputs": [
    {
     "name": "stderr",
     "output_type": "stream",
     "text": [
      "fontTools.subset - INFO     maxp pruned\n"
     ]
    },
    {
     "name": "stderr",
     "output_type": "stream",
     "text": [
      "fontTools.subset - INFO     cmap pruned\n"
     ]
    },
    {
     "name": "stderr",
     "output_type": "stream",
     "text": [
      "fontTools.subset - INFO     kern dropped\n"
     ]
    },
    {
     "name": "stderr",
     "output_type": "stream",
     "text": [
      "fontTools.subset - INFO     post pruned\n"
     ]
    },
    {
     "name": "stderr",
     "output_type": "stream",
     "text": [
      "fontTools.subset - INFO     FFTM dropped\n"
     ]
    },
    {
     "name": "stderr",
     "output_type": "stream",
     "text": [
      "fontTools.subset - INFO     GPOS pruned\n"
     ]
    },
    {
     "name": "stderr",
     "output_type": "stream",
     "text": [
      "fontTools.subset - INFO     GSUB pruned\n"
     ]
    },
    {
     "name": "stderr",
     "output_type": "stream",
     "text": [
      "fontTools.subset - INFO     glyf pruned\n"
     ]
    },
    {
     "name": "stderr",
     "output_type": "stream",
     "text": [
      "fontTools.subset - INFO     Added gid0 to subset\n"
     ]
    },
    {
     "name": "stderr",
     "output_type": "stream",
     "text": [
      "fontTools.subset - INFO     Added first four glyphs to subset\n"
     ]
    },
    {
     "name": "stderr",
     "output_type": "stream",
     "text": [
      "fontTools.subset - INFO     Closing glyph list over 'MATH': 32 glyphs before\n"
     ]
    },
    {
     "name": "stderr",
     "output_type": "stream",
     "text": [
      "fontTools.subset - INFO     Glyph names: ['.notdef', '.null', 'I', 'K', 'N', 'P', 'R', 'T', 'a', 'e', 'eight', 'f', 'four', 'hyphen', 'l', 'n', 'nonmarkingreturn', 'o', 'one', 'parenleft', 'parenright', 'period', 'q', 'r', 's', 'six', 'space', 'two', 'u', 'v', 'y', 'zero']\n"
     ]
    },
    {
     "name": "stderr",
     "output_type": "stream",
     "text": [
      "fontTools.subset - INFO     Glyph IDs:   [0, 1, 2, 3, 11, 12, 16, 17, 19, 20, 21, 23, 25, 27, 44, 46, 49, 51, 53, 55, 68, 72, 73, 79, 81, 82, 84, 85, 86, 88, 89, 92]\n"
     ]
    },
    {
     "name": "stderr",
     "output_type": "stream",
     "text": [
      "fontTools.subset - INFO     Closed glyph list over 'MATH': 38 glyphs after\n"
     ]
    },
    {
     "name": "stderr",
     "output_type": "stream",
     "text": [
      "fontTools.subset - INFO     Glyph names: ['.notdef', '.null', 'I', 'K', 'N', 'P', 'R', 'T', 'a', 'e', 'eight', 'f', 'four', 'hyphen', 'l', 'n', 'nonmarkingreturn', 'o', 'one', 'parenleft', 'parenright', 'period', 'q', 'r', 's', 'six', 'space', 'two', 'u', 'uni239B', 'uni239C', 'uni239D', 'uni239E', 'uni239F', 'uni23A0', 'v', 'y', 'zero']\n"
     ]
    },
    {
     "name": "stderr",
     "output_type": "stream",
     "text": [
      "fontTools.subset - INFO     Glyph IDs:   [0, 1, 2, 3, 11, 12, 16, 17, 19, 20, 21, 23, 25, 27, 44, 46, 49, 51, 53, 55, 68, 72, 73, 79, 81, 82, 84, 85, 86, 88, 89, 92, 3506, 3507, 3508, 3509, 3510, 3511]\n"
     ]
    },
    {
     "name": "stderr",
     "output_type": "stream",
     "text": [
      "fontTools.subset - INFO     Closing glyph list over 'GSUB': 38 glyphs before\n"
     ]
    },
    {
     "name": "stderr",
     "output_type": "stream",
     "text": [
      "fontTools.subset - INFO     Glyph names: ['.notdef', '.null', 'I', 'K', 'N', 'P', 'R', 'T', 'a', 'e', 'eight', 'f', 'four', 'hyphen', 'l', 'n', 'nonmarkingreturn', 'o', 'one', 'parenleft', 'parenright', 'period', 'q', 'r', 's', 'six', 'space', 'two', 'u', 'uni239B', 'uni239C', 'uni239D', 'uni239E', 'uni239F', 'uni23A0', 'v', 'y', 'zero']\n"
     ]
    },
    {
     "name": "stderr",
     "output_type": "stream",
     "text": [
      "fontTools.subset - INFO     Glyph IDs:   [0, 1, 2, 3, 11, 12, 16, 17, 19, 20, 21, 23, 25, 27, 44, 46, 49, 51, 53, 55, 68, 72, 73, 79, 81, 82, 84, 85, 86, 88, 89, 92, 3506, 3507, 3508, 3509, 3510, 3511]\n"
     ]
    },
    {
     "name": "stderr",
     "output_type": "stream",
     "text": [
      "fontTools.subset - INFO     Closed glyph list over 'GSUB': 41 glyphs after\n"
     ]
    },
    {
     "name": "stderr",
     "output_type": "stream",
     "text": [
      "fontTools.subset - INFO     Glyph names: ['.notdef', '.null', 'I', 'K', 'N', 'P', 'R', 'T', 'a', 'e', 'eight', 'f', 'fl', 'four', 'hyphen', 'l', 'n', 'nonmarkingreturn', 'o', 'one', 'parenleft', 'parenright', 'period', 'q', 'r', 's', 'six', 'space', 'two', 'u', 'uni239B', 'uni239C', 'uni239D', 'uni239E', 'uni239F', 'uni23A0', 'uniFB00', 'uniFB04', 'v', 'y', 'zero']\n"
     ]
    },
    {
     "name": "stderr",
     "output_type": "stream",
     "text": [
      "fontTools.subset - INFO     Glyph IDs:   [0, 1, 2, 3, 11, 12, 16, 17, 19, 20, 21, 23, 25, 27, 44, 46, 49, 51, 53, 55, 68, 72, 73, 79, 81, 82, 84, 85, 86, 88, 89, 92, 3506, 3507, 3508, 3509, 3510, 3511, 5038, 5040, 5042]\n"
     ]
    },
    {
     "name": "stderr",
     "output_type": "stream",
     "text": [
      "fontTools.subset - INFO     Closing glyph list over 'glyf': 41 glyphs before\n"
     ]
    },
    {
     "name": "stderr",
     "output_type": "stream",
     "text": [
      "fontTools.subset - INFO     Glyph names: ['.notdef', '.null', 'I', 'K', 'N', 'P', 'R', 'T', 'a', 'e', 'eight', 'f', 'fl', 'four', 'hyphen', 'l', 'n', 'nonmarkingreturn', 'o', 'one', 'parenleft', 'parenright', 'period', 'q', 'r', 's', 'six', 'space', 'two', 'u', 'uni239B', 'uni239C', 'uni239D', 'uni239E', 'uni239F', 'uni23A0', 'uniFB00', 'uniFB04', 'v', 'y', 'zero']\n"
     ]
    },
    {
     "name": "stderr",
     "output_type": "stream",
     "text": [
      "fontTools.subset - INFO     Glyph IDs:   [0, 1, 2, 3, 11, 12, 16, 17, 19, 20, 21, 23, 25, 27, 44, 46, 49, 51, 53, 55, 68, 72, 73, 79, 81, 82, 84, 85, 86, 88, 89, 92, 3506, 3507, 3508, 3509, 3510, 3511, 5038, 5040, 5042]\n"
     ]
    },
    {
     "name": "stderr",
     "output_type": "stream",
     "text": [
      "fontTools.subset - INFO     Closed glyph list over 'glyf': 41 glyphs after\n"
     ]
    },
    {
     "name": "stderr",
     "output_type": "stream",
     "text": [
      "fontTools.subset - INFO     Glyph names: ['.notdef', '.null', 'I', 'K', 'N', 'P', 'R', 'T', 'a', 'e', 'eight', 'f', 'fl', 'four', 'hyphen', 'l', 'n', 'nonmarkingreturn', 'o', 'one', 'parenleft', 'parenright', 'period', 'q', 'r', 's', 'six', 'space', 'two', 'u', 'uni239B', 'uni239C', 'uni239D', 'uni239E', 'uni239F', 'uni23A0', 'uniFB00', 'uniFB04', 'v', 'y', 'zero']\n"
     ]
    },
    {
     "name": "stderr",
     "output_type": "stream",
     "text": [
      "fontTools.subset - INFO     Glyph IDs:   [0, 1, 2, 3, 11, 12, 16, 17, 19, 20, 21, 23, 25, 27, 44, 46, 49, 51, 53, 55, 68, 72, 73, 79, 81, 82, 84, 85, 86, 88, 89, 92, 3506, 3507, 3508, 3509, 3510, 3511, 5038, 5040, 5042]\n"
     ]
    },
    {
     "name": "stderr",
     "output_type": "stream",
     "text": [
      "fontTools.subset - INFO     Retaining 41 glyphs\n"
     ]
    },
    {
     "name": "stderr",
     "output_type": "stream",
     "text": [
      "fontTools.subset - INFO     head subsetting not needed\n"
     ]
    },
    {
     "name": "stderr",
     "output_type": "stream",
     "text": [
      "fontTools.subset - INFO     hhea subsetting not needed\n"
     ]
    },
    {
     "name": "stderr",
     "output_type": "stream",
     "text": [
      "fontTools.subset - INFO     maxp subsetting not needed\n"
     ]
    },
    {
     "name": "stderr",
     "output_type": "stream",
     "text": [
      "fontTools.subset - INFO     OS/2 subsetting not needed\n"
     ]
    },
    {
     "name": "stderr",
     "output_type": "stream",
     "text": [
      "fontTools.subset - INFO     hmtx subsetted\n"
     ]
    },
    {
     "name": "stderr",
     "output_type": "stream",
     "text": [
      "fontTools.subset - INFO     cmap subsetted\n"
     ]
    },
    {
     "name": "stderr",
     "output_type": "stream",
     "text": [
      "fontTools.subset - INFO     fpgm subsetting not needed\n"
     ]
    },
    {
     "name": "stderr",
     "output_type": "stream",
     "text": [
      "fontTools.subset - INFO     prep subsetting not needed\n"
     ]
    },
    {
     "name": "stderr",
     "output_type": "stream",
     "text": [
      "fontTools.subset - INFO     cvt  subsetting not needed\n"
     ]
    },
    {
     "name": "stderr",
     "output_type": "stream",
     "text": [
      "fontTools.subset - INFO     loca subsetting not needed\n"
     ]
    },
    {
     "name": "stderr",
     "output_type": "stream",
     "text": [
      "fontTools.subset - INFO     post subsetted\n"
     ]
    },
    {
     "name": "stderr",
     "output_type": "stream",
     "text": [
      "fontTools.subset - INFO     gasp subsetting not needed\n"
     ]
    },
    {
     "name": "stderr",
     "output_type": "stream",
     "text": [
      "fontTools.subset - INFO     MATH subsetted\n"
     ]
    },
    {
     "name": "stderr",
     "output_type": "stream",
     "text": [
      "fontTools.subset - INFO     GDEF subsetted\n"
     ]
    },
    {
     "name": "stderr",
     "output_type": "stream",
     "text": [
      "fontTools.subset - INFO     GPOS subsetted\n"
     ]
    },
    {
     "name": "stderr",
     "output_type": "stream",
     "text": [
      "fontTools.subset - INFO     GSUB subsetted\n"
     ]
    },
    {
     "name": "stderr",
     "output_type": "stream",
     "text": [
      "fontTools.subset - INFO     name subsetting not needed\n"
     ]
    },
    {
     "name": "stderr",
     "output_type": "stream",
     "text": [
      "fontTools.subset - INFO     glyf subsetted\n"
     ]
    },
    {
     "name": "stderr",
     "output_type": "stream",
     "text": [
      "fontTools.subset - INFO     head pruned\n"
     ]
    },
    {
     "name": "stderr",
     "output_type": "stream",
     "text": [
      "fontTools.subset - INFO     OS/2 Unicode ranges pruned: [0]\n"
     ]
    },
    {
     "name": "stderr",
     "output_type": "stream",
     "text": [
      "fontTools.subset - INFO     OS/2 CodePage ranges pruned: [0]\n"
     ]
    },
    {
     "name": "stderr",
     "output_type": "stream",
     "text": [
      "fontTools.subset - INFO     glyf pruned\n"
     ]
    },
    {
     "name": "stderr",
     "output_type": "stream",
     "text": [
      "fontTools.subset - INFO     GDEF pruned\n"
     ]
    },
    {
     "name": "stderr",
     "output_type": "stream",
     "text": [
      "fontTools.subset - INFO     GPOS pruned\n"
     ]
    },
    {
     "name": "stderr",
     "output_type": "stream",
     "text": [
      "fontTools.subset - INFO     GSUB pruned\n"
     ]
    },
    {
     "name": "stderr",
     "output_type": "stream",
     "text": [
      "fontTools.subset - INFO     name pruned\n"
     ]
    },
    {
     "name": "stderr",
     "output_type": "stream",
     "text": [
      "vaep.plotting - INFO     Saved Figures to runs/alzheimer_study/diff_analysis/AD/PI_vs_TRKNN/diff_analysis_comparision_1_TRKNN\n"
     ]
    },
    {
     "data": {
      "image/png": "[encoded data removed]",
      "text/plain": [
       "<Figure size 294x294 with 1 Axes>"
      ]
     },
     "metadata": {},
     "output_type": "display_data"
    }
   ],
   "source": [
    "figsize = (2, 2)\n",
    "size = 5\n",
    "fig, ax = plt.subplots(figsize=figsize)\n",
    "x_col = to_plot.columns[0]\n",
    "y_col = to_plot.columns[1]\n",
    "ax = sns.scatterplot(data=to_plot,\n",
    "                     x=x_col,\n",
    "                     y=y_col,\n",
    "                     s=size,\n",
    "                     hue='Differential Analysis Comparison',\n",
    "                     ax=ax)\n",
    "_ = ax.legend(fontsize=fontsize,\n",
    "              title_fontsize=fontsize,\n",
    "              markerscale=0.4,\n",
    "              title='',\n",
    "              )\n",
    "ax.set_xlabel(f\"qvalue for {x_col}\")\n",
    "ax.set_ylabel(f\"qvalue for {y_col}\")\n",
    "ax.hlines(0.05, 0, 1, color='grey', linestyles='dotted')\n",
    "ax.vlines(0.05, 0, 1, color='grey', linestyles='dotted')\n",
    "sns.move_legend(ax, \"upper right\")\n",
    "files_out[f'diff_analysis_comparision_1_{args.model_key}'] = (\n",
    "    args.out_folder /\n",
    "    f'diff_analysis_comparision_1_{args.model_key}')\n",
    "fname = files_out[f'diff_analysis_comparision_1_{args.model_key}']\n",
    "vaep.savefig(fig, name=fname)"
   ]
  },
  {
   "cell_type": "markdown",
   "id": "d8849c76-c5f6-4618-87c0-f2635dc9ac66",
   "metadata": {
    "papermill": {
     "duration": 0.024139,
     "end_time": "2024-05-27T16:57:28.683260",
     "exception": false,
     "start_time": "2024-05-27T16:57:28.659121",
     "status": "completed"
    },
    "tags": []
   },
   "source": [
    "- showing how many features were measured (\"observed\")"
   ]
  },
  {
   "cell_type": "code",
   "execution_count": 27,
   "id": "1cf258f8-9dcb-40bb-af66-b600f8d413f6",
   "metadata": {
    "execution": {
     "iopub.execute_input": "2024-05-27T16:57:28.733620Z",
     "iopub.status.busy": "2024-05-27T16:57:28.733183Z",
     "iopub.status.idle": "2024-05-27T16:57:31.749869Z",
     "shell.execute_reply": "2024-05-27T16:57:31.749099Z"
    },
    "papermill": {
     "duration": 3.044026,
     "end_time": "2024-05-27T16:57:31.751735",
     "exception": false,
     "start_time": "2024-05-27T16:57:28.707709",
     "status": "completed"
    },
    "tags": [
     "hide-input"
    ]
   },
   "outputs": [
    {
     "name": "stderr",
     "output_type": "stream",
     "text": [
      "fontTools.subset - INFO     maxp pruned\n"
     ]
    },
    {
     "name": "stderr",
     "output_type": "stream",
     "text": [
      "fontTools.subset - INFO     cmap pruned\n"
     ]
    },
    {
     "name": "stderr",
     "output_type": "stream",
     "text": [
      "fontTools.subset - INFO     kern dropped\n"
     ]
    },
    {
     "name": "stderr",
     "output_type": "stream",
     "text": [
      "fontTools.subset - INFO     post pruned\n"
     ]
    },
    {
     "name": "stderr",
     "output_type": "stream",
     "text": [
      "fontTools.subset - INFO     FFTM dropped\n"
     ]
    },
    {
     "name": "stderr",
     "output_type": "stream",
     "text": [
      "fontTools.subset - INFO     GPOS pruned\n"
     ]
    },
    {
     "name": "stderr",
     "output_type": "stream",
     "text": [
      "fontTools.subset - INFO     GSUB pruned\n"
     ]
    },
    {
     "name": "stderr",
     "output_type": "stream",
     "text": [
      "fontTools.subset - INFO     glyf pruned\n"
     ]
    },
    {
     "name": "stderr",
     "output_type": "stream",
     "text": [
      "fontTools.subset - INFO     Added gid0 to subset\n"
     ]
    },
    {
     "name": "stderr",
     "output_type": "stream",
     "text": [
      "fontTools.subset - INFO     Added first four glyphs to subset\n"
     ]
    },
    {
     "name": "stderr",
     "output_type": "stream",
     "text": [
      "fontTools.subset - INFO     Closing glyph list over 'MATH': 42 glyphs before\n"
     ]
    },
    {
     "name": "stderr",
     "output_type": "stream",
     "text": [
      "fontTools.subset - INFO     Glyph names: ['.notdef', '.null', 'A', 'C', 'D', 'I', 'K', 'N', 'P', 'R', 'T', 'a', 'c', 'e', 'eight', 'f', 'five', 'four', 'hyphen', 'i', 'l', 'm', 'n', 'nonmarkingreturn', 'o', 'one', 'p', 'parenleft', 'parenright', 'period', 'q', 'r', 's', 'seven', 'six', 'space', 't', 'two', 'u', 'v', 'y', 'zero']\n"
     ]
    },
    {
     "name": "stderr",
     "output_type": "stream",
     "text": [
      "fontTools.subset - INFO     Glyph IDs:   [0, 1, 2, 3, 11, 12, 16, 17, 19, 20, 21, 23, 24, 25, 26, 27, 36, 38, 39, 44, 46, 49, 51, 53, 55, 68, 70, 72, 73, 76, 79, 80, 81, 82, 83, 84, 85, 86, 87, 88, 89, 92]\n"
     ]
    },
    {
     "name": "stderr",
     "output_type": "stream",
     "text": [
      "fontTools.subset - INFO     Closed glyph list over 'MATH': 48 glyphs after\n"
     ]
    },
    {
     "name": "stderr",
     "output_type": "stream",
     "text": [
      "fontTools.subset - INFO     Glyph names: ['.notdef', '.null', 'A', 'C', 'D', 'I', 'K', 'N', 'P', 'R', 'T', 'a', 'c', 'e', 'eight', 'f', 'five', 'four', 'hyphen', 'i', 'l', 'm', 'n', 'nonmarkingreturn', 'o', 'one', 'p', 'parenleft', 'parenright', 'period', 'q', 'r', 's', 'seven', 'six', 'space', 't', 'two', 'u', 'uni239B', 'uni239C', 'uni239D', 'uni239E', 'uni239F', 'uni23A0', 'v', 'y', 'zero']\n"
     ]
    },
    {
     "name": "stderr",
     "output_type": "stream",
     "text": [
      "fontTools.subset - INFO     Glyph IDs:   [0, 1, 2, 3, 11, 12, 16, 17, 19, 20, 21, 23, 24, 25, 26, 27, 36, 38, 39, 44, 46, 49, 51, 53, 55, 68, 70, 72, 73, 76, 79, 80, 81, 82, 83, 84, 85, 86, 87, 88, 89, 92, 3506, 3507, 3508, 3509, 3510, 3511]\n"
     ]
    },
    {
     "name": "stderr",
     "output_type": "stream",
     "text": [
      "fontTools.subset - INFO     Closing glyph list over 'GSUB': 48 glyphs before\n"
     ]
    },
    {
     "name": "stderr",
     "output_type": "stream",
     "text": [
      "fontTools.subset - INFO     Glyph names: ['.notdef', '.null', 'A', 'C', 'D', 'I', 'K', 'N', 'P', 'R', 'T', 'a', 'c', 'e', 'eight', 'f', 'five', 'four', 'hyphen', 'i', 'l', 'm', 'n', 'nonmarkingreturn', 'o', 'one', 'p', 'parenleft', 'parenright', 'period', 'q', 'r', 's', 'seven', 'six', 'space', 't', 'two', 'u', 'uni239B', 'uni239C', 'uni239D', 'uni239E', 'uni239F', 'uni23A0', 'v', 'y', 'zero']\n"
     ]
    },
    {
     "name": "stderr",
     "output_type": "stream",
     "text": [
      "fontTools.subset - INFO     Glyph IDs:   [0, 1, 2, 3, 11, 12, 16, 17, 19, 20, 21, 23, 24, 25, 26, 27, 36, 38, 39, 44, 46, 49, 51, 53, 55, 68, 70, 72, 73, 76, 79, 80, 81, 82, 83, 84, 85, 86, 87, 88, 89, 92, 3506, 3507, 3508, 3509, 3510, 3511]\n"
     ]
    },
    {
     "name": "stderr",
     "output_type": "stream",
     "text": [
      "fontTools.subset - INFO     Closed glyph list over 'GSUB': 53 glyphs after\n"
     ]
    },
    {
     "name": "stderr",
     "output_type": "stream",
     "text": [
      "fontTools.subset - INFO     Glyph names: ['.notdef', '.null', 'A', 'C', 'D', 'I', 'K', 'N', 'P', 'R', 'T', 'a', 'c', 'e', 'eight', 'f', 'fi', 'five', 'fl', 'four', 'hyphen', 'i', 'l', 'm', 'n', 'nonmarkingreturn', 'o', 'one', 'p', 'parenleft', 'parenright', 'period', 'q', 'r', 's', 'seven', 'six', 'space', 't', 'two', 'u', 'uni239B', 'uni239C', 'uni239D', 'uni239E', 'uni239F', 'uni23A0', 'uniFB00', 'uniFB03', 'uniFB04', 'v', 'y', 'zero']\n"
     ]
    },
    {
     "name": "stderr",
     "output_type": "stream",
     "text": [
      "fontTools.subset - INFO     Glyph IDs:   [0, 1, 2, 3, 11, 12, 16, 17, 19, 20, 21, 23, 24, 25, 26, 27, 36, 38, 39, 44, 46, 49, 51, 53, 55, 68, 70, 72, 73, 76, 79, 80, 81, 82, 83, 84, 85, 86, 87, 88, 89, 92, 3506, 3507, 3508, 3509, 3510, 3511, 5038, 5039, 5040, 5041, 5042]\n"
     ]
    },
    {
     "name": "stderr",
     "output_type": "stream",
     "text": [
      "fontTools.subset - INFO     Closing glyph list over 'glyf': 53 glyphs before\n"
     ]
    },
    {
     "name": "stderr",
     "output_type": "stream",
     "text": [
      "fontTools.subset - INFO     Glyph names: ['.notdef', '.null', 'A', 'C', 'D', 'I', 'K', 'N', 'P', 'R', 'T', 'a', 'c', 'e', 'eight', 'f', 'fi', 'five', 'fl', 'four', 'hyphen', 'i', 'l', 'm', 'n', 'nonmarkingreturn', 'o', 'one', 'p', 'parenleft', 'parenright', 'period', 'q', 'r', 's', 'seven', 'six', 'space', 't', 'two', 'u', 'uni239B', 'uni239C', 'uni239D', 'uni239E', 'uni239F', 'uni23A0', 'uniFB00', 'uniFB03', 'uniFB04', 'v', 'y', 'zero']\n"
     ]
    },
    {
     "name": "stderr",
     "output_type": "stream",
     "text": [
      "fontTools.subset - INFO     Glyph IDs:   [0, 1, 2, 3, 11, 12, 16, 17, 19, 20, 21, 23, 24, 25, 26, 27, 36, 38, 39, 44, 46, 49, 51, 53, 55, 68, 70, 72, 73, 76, 79, 80, 81, 82, 83, 84, 85, 86, 87, 88, 89, 92, 3506, 3507, 3508, 3509, 3510, 3511, 5038, 5039, 5040, 5041, 5042]\n"
     ]
    },
    {
     "name": "stderr",
     "output_type": "stream",
     "text": [
      "fontTools.subset - INFO     Closed glyph list over 'glyf': 53 glyphs after\n"
     ]
    },
    {
     "name": "stderr",
     "output_type": "stream",
     "text": [
      "fontTools.subset - INFO     Glyph names: ['.notdef', '.null', 'A', 'C', 'D', 'I', 'K', 'N', 'P', 'R', 'T', 'a', 'c', 'e', 'eight', 'f', 'fi', 'five', 'fl', 'four', 'hyphen', 'i', 'l', 'm', 'n', 'nonmarkingreturn', 'o', 'one', 'p', 'parenleft', 'parenright', 'period', 'q', 'r', 's', 'seven', 'six', 'space', 't', 'two', 'u', 'uni239B', 'uni239C', 'uni239D', 'uni239E', 'uni239F', 'uni23A0', 'uniFB00', 'uniFB03', 'uniFB04', 'v', 'y', 'zero']\n"
     ]
    },
    {
     "name": "stderr",
     "output_type": "stream",
     "text": [
      "fontTools.subset - INFO     Glyph IDs:   [0, 1, 2, 3, 11, 12, 16, 17, 19, 20, 21, 23, 24, 25, 26, 27, 36, 38, 39, 44, 46, 49, 51, 53, 55, 68, 70, 72, 73, 76, 79, 80, 81, 82, 83, 84, 85, 86, 87, 88, 89, 92, 3506, 3507, 3508, 3509, 3510, 3511, 5038, 5039, 5040, 5041, 5042]\n"
     ]
    },
    {
     "name": "stderr",
     "output_type": "stream",
     "text": [
      "fontTools.subset - INFO     Retaining 53 glyphs\n"
     ]
    },
    {
     "name": "stderr",
     "output_type": "stream",
     "text": [
      "fontTools.subset - INFO     head subsetting not needed\n"
     ]
    },
    {
     "name": "stderr",
     "output_type": "stream",
     "text": [
      "fontTools.subset - INFO     hhea subsetting not needed\n"
     ]
    },
    {
     "name": "stderr",
     "output_type": "stream",
     "text": [
      "fontTools.subset - INFO     maxp subsetting not needed\n"
     ]
    },
    {
     "name": "stderr",
     "output_type": "stream",
     "text": [
      "fontTools.subset - INFO     OS/2 subsetting not needed\n"
     ]
    },
    {
     "name": "stderr",
     "output_type": "stream",
     "text": [
      "fontTools.subset - INFO     hmtx subsetted\n"
     ]
    },
    {
     "name": "stderr",
     "output_type": "stream",
     "text": [
      "fontTools.subset - INFO     cmap subsetted\n"
     ]
    },
    {
     "name": "stderr",
     "output_type": "stream",
     "text": [
      "fontTools.subset - INFO     fpgm subsetting not needed\n"
     ]
    },
    {
     "name": "stderr",
     "output_type": "stream",
     "text": [
      "fontTools.subset - INFO     prep subsetting not needed\n"
     ]
    },
    {
     "name": "stderr",
     "output_type": "stream",
     "text": [
      "fontTools.subset - INFO     cvt  subsetting not needed\n"
     ]
    },
    {
     "name": "stderr",
     "output_type": "stream",
     "text": [
      "fontTools.subset - INFO     loca subsetting not needed\n"
     ]
    },
    {
     "name": "stderr",
     "output_type": "stream",
     "text": [
      "fontTools.subset - INFO     post subsetted\n"
     ]
    },
    {
     "name": "stderr",
     "output_type": "stream",
     "text": [
      "fontTools.subset - INFO     gasp subsetting not needed\n"
     ]
    },
    {
     "name": "stderr",
     "output_type": "stream",
     "text": [
      "fontTools.subset - INFO     MATH subsetted\n"
     ]
    },
    {
     "name": "stderr",
     "output_type": "stream",
     "text": [
      "fontTools.subset - INFO     GDEF subsetted\n"
     ]
    },
    {
     "name": "stderr",
     "output_type": "stream",
     "text": [
      "fontTools.subset - INFO     GPOS subsetted\n"
     ]
    },
    {
     "name": "stderr",
     "output_type": "stream",
     "text": [
      "fontTools.subset - INFO     GSUB subsetted\n"
     ]
    },
    {
     "name": "stderr",
     "output_type": "stream",
     "text": [
      "fontTools.subset - INFO     name subsetting not needed\n"
     ]
    },
    {
     "name": "stderr",
     "output_type": "stream",
     "text": [
      "fontTools.subset - INFO     glyf subsetted\n"
     ]
    },
    {
     "name": "stderr",
     "output_type": "stream",
     "text": [
      "fontTools.subset - INFO     head pruned\n"
     ]
    },
    {
     "name": "stderr",
     "output_type": "stream",
     "text": [
      "fontTools.subset - INFO     OS/2 Unicode ranges pruned: [0]\n"
     ]
    },
    {
     "name": "stderr",
     "output_type": "stream",
     "text": [
      "fontTools.subset - INFO     OS/2 CodePage ranges pruned: [0]\n"
     ]
    },
    {
     "name": "stderr",
     "output_type": "stream",
     "text": [
      "fontTools.subset - INFO     glyf pruned\n"
     ]
    },
    {
     "name": "stderr",
     "output_type": "stream",
     "text": [
      "fontTools.subset - INFO     GDEF pruned\n"
     ]
    },
    {
     "name": "stderr",
     "output_type": "stream",
     "text": [
      "fontTools.subset - INFO     GPOS pruned\n"
     ]
    },
    {
     "name": "stderr",
     "output_type": "stream",
     "text": [
      "fontTools.subset - INFO     GSUB pruned\n"
     ]
    },
    {
     "name": "stderr",
     "output_type": "stream",
     "text": [
      "fontTools.subset - INFO     name pruned\n"
     ]
    },
    {
     "name": "stderr",
     "output_type": "stream",
     "text": [
      "vaep.plotting - INFO     Saved Figures to runs/alzheimer_study/diff_analysis/AD/PI_vs_TRKNN/diff_analysis_comparision_2_TRKNN\n"
     ]
    },
    {
     "data": {
      "image/png": "[encoded data removed]",
      "text/plain": [
       "<Figure size 367.5x367.5 with 1 Axes>"
      ]
     },
     "metadata": {},
     "output_type": "display_data"
    }
   ],
   "source": [
    "figsize = (2.5, 2.5)\n",
    "fig, ax = plt.subplots(figsize=figsize)\n",
    "ax = sns.scatterplot(data=to_plot,\n",
    "                     x=to_plot.columns[0],\n",
    "                     y=to_plot.columns[1],\n",
    "                     size='frequency',\n",
    "                     s=size,\n",
    "                     sizes=(5, 20),\n",
    "                     hue='Differential Analysis Comparison')\n",
    "_ = ax.legend(fontsize=fontsize,\n",
    "              title_fontsize=fontsize,\n",
    "              markerscale=0.6,\n",
    "              title='',\n",
    "              )\n",
    "ax.set_xlabel(f\"qvalue for {x_col}\")\n",
    "ax.set_ylabel(f\"qvalue for {y_col}\")\n",
    "ax.hlines(0.05, 0, 1, color='grey', linestyles='dotted')\n",
    "ax.vlines(0.05, 0, 1, color='grey', linestyles='dotted')\n",
    "sns.move_legend(ax, \"upper right\")\n",
    "files_out[f'diff_analysis_comparision_2_{args.model_key}'] = (\n",
    "    args.out_folder / f'diff_analysis_comparision_2_{args.model_key}')\n",
    "vaep.savefig(\n",
    "    fig, name=files_out[f'diff_analysis_comparision_2_{args.model_key}'])"
   ]
  },
  {
   "cell_type": "markdown",
   "id": "1fee3a21-d8b3-40c6-aea2-4774dfe855ca",
   "metadata": {
    "papermill": {
     "duration": 0.052595,
     "end_time": "2024-05-27T16:57:31.865182",
     "exception": false,
     "start_time": "2024-05-27T16:57:31.812587",
     "status": "completed"
    },
    "tags": []
   },
   "source": [
    "## Only features contained in model\n",
    "- this block exist due to a specific part in the ALD analysis of the paper"
   ]
  },
  {
   "cell_type": "code",
   "execution_count": 28,
   "id": "c4e23a01-fd37-4496-a518-445a9ef38db1",
   "metadata": {
    "execution": {
     "iopub.execute_input": "2024-05-27T16:57:31.950760Z",
     "iopub.status.busy": "2024-05-27T16:57:31.949942Z",
     "iopub.status.idle": "2024-05-27T16:57:31.956504Z",
     "shell.execute_reply": "2024-05-27T16:57:31.955786Z"
    },
    "papermill": {
     "duration": 0.039054,
     "end_time": "2024-05-27T16:57:31.958200",
     "exception": false,
     "start_time": "2024-05-27T16:57:31.919146",
     "status": "completed"
    },
    "tags": [
     "hide-input"
    ]
   },
   "outputs": [],
   "source": [
    "scores_model_only = scores.reset_index(level=-1, drop=True)\n",
    "_diff = scores_model_only.index.difference(scores_common.index)\n",
    "if not _diff.empty:\n",
    "    scores_model_only = (scores_model_only\n",
    "                         .loc[\n",
    "                             _diff,\n",
    "                             args.model_key]\n",
    "                         .sort_values(by='qvalue', ascending=True)\n",
    "                         .join(freq_feat)\n",
    "                         )\n",
    "    display(scores_model_only)\n",
    "else:\n",
    "    scores_model_only = None"
   ]
  },
  {
   "cell_type": "code",
   "execution_count": 29,
   "id": "f668bef4-e2b9-46fb-828f-e7c6a0e23627",
   "metadata": {
    "execution": {
     "iopub.execute_input": "2024-05-27T16:57:32.070444Z",
     "iopub.status.busy": "2024-05-27T16:57:32.070153Z",
     "iopub.status.idle": "2024-05-27T16:57:32.074716Z",
     "shell.execute_reply": "2024-05-27T16:57:32.074030Z"
    },
    "papermill": {
     "duration": 0.067667,
     "end_time": "2024-05-27T16:57:32.078912",
     "exception": false,
     "start_time": "2024-05-27T16:57:32.011245",
     "status": "completed"
    },
    "tags": [
     "hide-input"
    ]
   },
   "outputs": [],
   "source": [
    "if not _diff.empty:\n",
    "    scores_model_only.to_excel(writer, 'only_model', **writer_args)\n",
    "    display(scores_model_only.rejected.value_counts())\n",
    "    scores_model_only_rejected = scores_model_only.loc[scores_model_only.rejected]\n",
    "    scores_model_only_rejected.to_excel(\n",
    "        writer, 'only_model_rejected', **writer_args)"
   ]
  },
  {
   "cell_type": "markdown",
   "id": "6868984c-1ebf-4183-bebe-35a48b92e479",
   "metadata": {
    "papermill": {
     "duration": 0.030139,
     "end_time": "2024-05-27T16:57:32.160729",
     "exception": false,
     "start_time": "2024-05-27T16:57:32.130590",
     "status": "completed"
    },
    "tags": []
   },
   "source": [
    "## DISEASES DB lookup"
   ]
  },
  {
   "cell_type": "code",
   "execution_count": 30,
   "id": "d93a9242-0ef4-4fc7-bd98-226a93639f58",
   "metadata": {
    "execution": {
     "iopub.execute_input": "2024-05-27T16:57:32.221979Z",
     "iopub.status.busy": "2024-05-27T16:57:32.221643Z",
     "iopub.status.idle": "2024-05-27T16:57:35.253682Z",
     "shell.execute_reply": "2024-05-27T16:57:35.252854Z"
    },
    "papermill": {
     "duration": 3.064984,
     "end_time": "2024-05-27T16:57:35.255676",
     "exception": false,
     "start_time": "2024-05-27T16:57:32.190692",
     "status": "completed"
    },
    "tags": [
     "hide-input"
    ]
   },
   "outputs": [
    {
     "name": "stderr",
     "output_type": "stream",
     "text": [
      "vaep.databases.diseases - WARNING  There are more associations available\n"
     ]
    },
    {
     "data": {
      "text/html": [
       "<div>\n",
       "<style scoped>\n",
       "    .dataframe tbody tr th:only-of-type {\n",
       "        vertical-align: middle;\n",
       "    }\n",
       "\n",
       "    .dataframe tbody tr th {\n",
       "        vertical-align: top;\n",
       "    }\n",
       "\n",
       "    .dataframe thead th {\n",
       "        text-align: right;\n",
       "    }\n",
       "</style>\n",
       "<table border=\"1\" class=\"dataframe\">\n",
       "  <thead>\n",
       "    <tr style=\"text-align: right;\">\n",
       "      <th></th>\n",
       "      <th>ENSP</th>\n",
       "      <th>score</th>\n",
       "    </tr>\n",
       "    <tr>\n",
       "      <th>None</th>\n",
       "      <th></th>\n",
       "      <th></th>\n",
       "    </tr>\n",
       "  </thead>\n",
       "  <tbody>\n",
       "    <tr>\n",
       "      <th>PSEN2</th>\n",
       "      <td>ENSP00000355747</td>\n",
       "      <td>5.000</td>\n",
       "    </tr>\n",
       "    <tr>\n",
       "      <th>PSEN1</th>\n",
       "      <td>ENSP00000326366</td>\n",
       "      <td>5.000</td>\n",
       "    </tr>\n",
       "    <tr>\n",
       "      <th>APOE</th>\n",
       "      <td>ENSP00000252486</td>\n",
       "      <td>5.000</td>\n",
       "    </tr>\n",
       "    <tr>\n",
       "      <th>APP</th>\n",
       "      <td>ENSP00000284981</td>\n",
       "      <td>5.000</td>\n",
       "    </tr>\n",
       "    <tr>\n",
       "      <th>MAPT</th>\n",
       "      <td>ENSP00000340820</td>\n",
       "      <td>4.800</td>\n",
       "    </tr>\n",
       "    <tr>\n",
       "      <th>...</th>\n",
       "      <td>...</td>\n",
       "      <td>...</td>\n",
       "    </tr>\n",
       "    <tr>\n",
       "      <th>ZBTB22</th>\n",
       "      <td>ENSP00000407545</td>\n",
       "      <td>0.683</td>\n",
       "    </tr>\n",
       "    <tr>\n",
       "      <th>HMGN2</th>\n",
       "      <td>ENSP00000355228</td>\n",
       "      <td>0.683</td>\n",
       "    </tr>\n",
       "    <tr>\n",
       "      <th>PPP1R13B</th>\n",
       "      <td>ENSP00000202556</td>\n",
       "      <td>0.683</td>\n",
       "    </tr>\n",
       "    <tr>\n",
       "      <th>PREB</th>\n",
       "      <td>ENSP00000260643</td>\n",
       "      <td>0.683</td>\n",
       "    </tr>\n",
       "    <tr>\n",
       "      <th>CELF5</th>\n",
       "      <td>ENSP00000292672</td>\n",
       "      <td>0.683</td>\n",
       "    </tr>\n",
       "  </tbody>\n",
       "</table>\n",
       "<p>10000 rows × 2 columns</p>\n",
       "</div>"
      ],
      "text/plain": [
       "                     ENSP  score\n",
       "None                            \n",
       "PSEN2     ENSP00000355747  5.000\n",
       "PSEN1     ENSP00000326366  5.000\n",
       "APOE      ENSP00000252486  5.000\n",
       "APP       ENSP00000284981  5.000\n",
       "MAPT      ENSP00000340820  4.800\n",
       "...                   ...    ...\n",
       "ZBTB22    ENSP00000407545  0.683\n",
       "HMGN2     ENSP00000355228  0.683\n",
       "PPP1R13B  ENSP00000202556  0.683\n",
       "PREB      ENSP00000260643  0.683\n",
       "CELF5     ENSP00000292672  0.683\n",
       "\n",
       "[10000 rows x 2 columns]"
      ]
     },
     "execution_count": 30,
     "metadata": {},
     "output_type": "execute_result"
    }
   ],
   "source": [
    "data = vaep.databases.diseases.get_disease_association(\n",
    "    doid=args.disease_ontology, limit=10000)\n",
    "data = pd.DataFrame.from_dict(data, orient='index').rename_axis('ENSP', axis=0)\n",
    "data = data.rename(columns={'name': args.annotaitons_gene_col}).reset_index(\n",
    ").set_index(args.annotaitons_gene_col)\n",
    "data"
   ]
  },
  {
   "cell_type": "markdown",
   "id": "efe22443-2613-46ad-83c2-41048e13dd57",
   "metadata": {
    "papermill": {
     "duration": 0.068037,
     "end_time": "2024-05-27T16:57:35.381349",
     "exception": false,
     "start_time": "2024-05-27T16:57:35.313312",
     "status": "completed"
    },
    "tags": []
   },
   "source": [
    "## Shared features\n",
    "ToDo: new script -> DISEASES DB lookup"
   ]
  },
  {
   "cell_type": "code",
   "execution_count": null,
   "id": "5c26415e",
   "metadata": {
    "papermill": {
     "duration": 0.031368,
     "end_time": "2024-05-27T16:57:35.455367",
     "exception": false,
     "start_time": "2024-05-27T16:57:35.423999",
     "status": "completed"
    },
    "tags": [
     "hide-input"
    ]
   },
   "outputs": [],
   "source": []
  },
  {
   "cell_type": "code",
   "execution_count": 31,
   "id": "b68b43df",
   "metadata": {
    "execution": {
     "iopub.execute_input": "2024-05-27T16:57:35.520341Z",
     "iopub.status.busy": "2024-05-27T16:57:35.519507Z",
     "iopub.status.idle": "2024-05-27T16:57:35.526910Z",
     "shell.execute_reply": "2024-05-27T16:57:35.525940Z"
    },
    "papermill": {
     "duration": 0.041794,
     "end_time": "2024-05-27T16:57:35.528016",
     "exception": true,
     "start_time": "2024-05-27T16:57:35.486222",
     "status": "failed"
    },
    "tags": [
     "hide-input"
    ]
   },
   "outputs": [
    {
     "name": "stderr",
     "output_type": "stream",
     "text": [
      "root - INFO     No gene annotation in scores index:  ['protein groups', 'Source'] Exiting.\n"
     ]
    },
    {
     "ename": "SystemExit",
     "evalue": "0",
     "output_type": "error",
     "traceback": [
      "An exception has occurred, use %tb to see the full traceback.\n",
      "\u001b[0;31mSystemExit\u001b[0m\u001b[0;31m:\u001b[0m 0\n"
     ]
    }
   ],
   "source": [
    "feat_name = scores.index.names[0]  # first index level is feature name\n",
    "if args.annotaitons_gene_col in scores.index.names:\n",
    "    logger.info(f\"Found gene annotation in scores index:  {scores.index.names}\")\n",
    "else:\n",
    "    logger.info(f\"No gene annotation in scores index:  {scores.index.names}\"\n",
    "                \" Exiting.\")\n",
    "    import sys\n",
    "    sys.exit(0)"
   ]
  },
  {
   "cell_type": "code",
   "execution_count": null,
   "id": "f8d4a74d-5a9b-4d9b-9345-4288bb23e19f",
   "metadata": {
    "papermill": {
     "duration": null,
     "end_time": null,
     "exception": null,
     "start_time": null,
     "status": "pending"
    },
    "tags": [
     "hide-input"
    ]
   },
   "outputs": [],
   "source": [
    "gene_to_PG = (scores.droplevel(\n",
    "    list(set(scores.index.names) - {feat_name, args.annotaitons_gene_col})\n",
    ")\n",
    "    .index\n",
    "    .to_frame()\n",
    "    .reset_index(drop=True)\n",
    "    .set_index(args.annotaitons_gene_col)\n",
    ")\n",
    "gene_to_PG.head()"
   ]
  },
  {
   "cell_type": "code",
   "execution_count": null,
   "id": "d9e76def-b48a-458d-a90b-765e6e70f7a4",
   "metadata": {
    "papermill": {
     "duration": null,
     "end_time": null,
     "exception": null,
     "start_time": null,
     "status": "pending"
    },
    "tags": [
     "hide-input"
    ]
   },
   "outputs": [],
   "source": [
    "disease_associations_all = data.join(\n",
    "    gene_to_PG).dropna().reset_index().set_index(feat_name).join(annotations)\n",
    "disease_associations_all"
   ]
  },
  {
   "cell_type": "markdown",
   "id": "217972a3-ba4a-4f28-ab8f-25dc0f5e9ede",
   "metadata": {
    "papermill": {
     "duration": null,
     "end_time": null,
     "exception": null,
     "start_time": null,
     "status": "pending"
    },
    "tags": []
   },
   "source": [
    "## only by model"
   ]
  },
  {
   "cell_type": "code",
   "execution_count": null,
   "id": "8e9d6944-87ba-4c41-af14-fb5ed93262f0",
   "metadata": {
    "papermill": {
     "duration": null,
     "end_time": null,
     "exception": null,
     "start_time": null,
     "status": "pending"
    },
    "tags": [
     "hide-input"
    ]
   },
   "outputs": [],
   "source": [
    "idx = disease_associations_all.index.intersection(scores_model_only.index)\n",
    "disease_assocications_new = disease_associations_all.loc[idx].sort_values(\n",
    "    'score', ascending=False)\n",
    "disease_assocications_new.head(20)"
   ]
  },
  {
   "cell_type": "code",
   "execution_count": null,
   "id": "ceefc483-b889-4bab-b207-c8d5fd97fa4a",
   "metadata": {
    "papermill": {
     "duration": null,
     "end_time": null,
     "exception": null,
     "start_time": null,
     "status": "pending"
    },
    "tags": [
     "hide-input"
    ]
   },
   "outputs": [],
   "source": [
    "mask = disease_assocications_new.loc[idx, 'score'] >= 2.0\n",
    "disease_assocications_new.loc[idx].loc[mask]"
   ]
  },
  {
   "cell_type": "markdown",
   "id": "f85eede2-7b61-4285-ba8c-745f77f6ab22",
   "metadata": {
    "papermill": {
     "duration": null,
     "end_time": null,
     "exception": null,
     "start_time": null,
     "status": "pending"
    },
    "tags": []
   },
   "source": [
    "## Only by model which were significant"
   ]
  },
  {
   "cell_type": "code",
   "execution_count": null,
   "id": "4644759b-8cc2-4f99-a16c-16419cfb915c",
   "metadata": {
    "papermill": {
     "duration": null,
     "end_time": null,
     "exception": null,
     "start_time": null,
     "status": "pending"
    },
    "tags": [
     "hide-input"
    ]
   },
   "outputs": [],
   "source": [
    "idx = disease_associations_all.index.intersection(\n",
    "    scores_model_only_rejected.index)\n",
    "disease_assocications_new_rejected = disease_associations_all.loc[idx].sort_values(\n",
    "    'score', ascending=False)\n",
    "disease_assocications_new_rejected.head(20)"
   ]
  },
  {
   "cell_type": "code",
   "execution_count": null,
   "id": "365d8641-97a8-464f-b69b-270af9ae6e2d",
   "metadata": {
    "papermill": {
     "duration": null,
     "end_time": null,
     "exception": null,
     "start_time": null,
     "status": "pending"
    },
    "tags": [
     "hide-input"
    ]
   },
   "outputs": [],
   "source": [
    "mask = disease_assocications_new_rejected.loc[idx, 'score'] >= 2.0\n",
    "disease_assocications_new_rejected.loc[idx].loc[mask]"
   ]
  },
  {
   "cell_type": "markdown",
   "id": "4f22614b-e058-4e35-b8a9-141c291a93bc",
   "metadata": {
    "papermill": {
     "duration": null,
     "end_time": null,
     "exception": null,
     "start_time": null,
     "status": "pending"
    },
    "tags": []
   },
   "source": [
    "## Shared which are only significant for by model"
   ]
  },
  {
   "cell_type": "code",
   "execution_count": null,
   "id": "82eb2ba8-4fe7-431d-8095-5be43f7791b7",
   "metadata": {
    "papermill": {
     "duration": null,
     "end_time": null,
     "exception": null,
     "start_time": null,
     "status": "pending"
    },
    "tags": []
   },
   "outputs": [],
   "source": [
    "mask = (scores_common[(str(args.model_key), 'rejected')] & mask_different)\n",
    "mask.sum()"
   ]
  },
  {
   "cell_type": "code",
   "execution_count": null,
   "id": "6416d494-5f3e-4cf4-b766-b1f95e40ae1c",
   "metadata": {
    "papermill": {
     "duration": null,
     "end_time": null,
     "exception": null,
     "start_time": null,
     "status": "pending"
    },
    "tags": [
     "hide-input"
    ]
   },
   "outputs": [],
   "source": [
    "idx = disease_associations_all.index.intersection(mask.index[mask])\n",
    "disease_assocications_shared_rejected_by_model = (disease_associations_all.loc[idx].sort_values(\n",
    "    'score', ascending=False))\n",
    "disease_assocications_shared_rejected_by_model.head(20)"
   ]
  },
  {
   "cell_type": "code",
   "execution_count": null,
   "id": "10899e28-4aee-4d44-a542-e45be6699a1b",
   "metadata": {
    "papermill": {
     "duration": null,
     "end_time": null,
     "exception": null,
     "start_time": null,
     "status": "pending"
    },
    "tags": [
     "hide-input"
    ]
   },
   "outputs": [],
   "source": [
    "mask = disease_assocications_shared_rejected_by_model.loc[idx, 'score'] >= 2.0\n",
    "disease_assocications_shared_rejected_by_model.loc[idx].loc[mask]"
   ]
  },
  {
   "cell_type": "markdown",
   "id": "b6c082ea-7d92-4296-8ec9-d279509142a3",
   "metadata": {
    "papermill": {
     "duration": null,
     "end_time": null,
     "exception": null,
     "start_time": null,
     "status": "pending"
    },
    "tags": []
   },
   "source": [
    "## Only significant by RSN"
   ]
  },
  {
   "cell_type": "code",
   "execution_count": null,
   "id": "c59aae50-6877-47cc-99f6-646862d29121",
   "metadata": {
    "papermill": {
     "duration": null,
     "end_time": null,
     "exception": null,
     "start_time": null,
     "status": "pending"
    },
    "tags": []
   },
   "outputs": [],
   "source": [
    "mask = (scores_common[(str(args.baseline), 'rejected')] & mask_different)\n",
    "mask.sum()"
   ]
  },
  {
   "cell_type": "code",
   "execution_count": null,
   "id": "7780de55-c63b-4028-a6d0-58bce7be81da",
   "metadata": {
    "papermill": {
     "duration": null,
     "end_time": null,
     "exception": null,
     "start_time": null,
     "status": "pending"
    },
    "tags": [
     "hide-input"
    ]
   },
   "outputs": [],
   "source": [
    "idx = disease_associations_all.index.intersection(mask.index[mask])\n",
    "disease_assocications_shared_rejected_by_RSN = (\n",
    "    disease_associations_all\n",
    "    .loc[idx]\n",
    "    .sort_values('score', ascending=False))\n",
    "disease_assocications_shared_rejected_by_RSN.head(20)"
   ]
  },
  {
   "cell_type": "code",
   "execution_count": null,
   "id": "03115c8f-1f20-4b51-a78c-4d7c0317dc33",
   "metadata": {
    "papermill": {
     "duration": null,
     "end_time": null,
     "exception": null,
     "start_time": null,
     "status": "pending"
    },
    "tags": [
     "hide-input"
    ]
   },
   "outputs": [],
   "source": [
    "mask = disease_assocications_shared_rejected_by_RSN.loc[idx, 'score'] >= 2.0\n",
    "disease_assocications_shared_rejected_by_RSN.loc[idx].loc[mask]"
   ]
  },
  {
   "cell_type": "markdown",
   "id": "9d72708d-ad27-435b-b672-7dfe35283601",
   "metadata": {
    "papermill": {
     "duration": null,
     "end_time": null,
     "exception": null,
     "start_time": null,
     "status": "pending"
    },
    "tags": []
   },
   "source": [
    "## Write to excel"
   ]
  },
  {
   "cell_type": "code",
   "execution_count": null,
   "id": "91e7fbb7-69fd-4b4c-9bc2-40e8dd1907b3",
   "metadata": {
    "papermill": {
     "duration": null,
     "end_time": null,
     "exception": null,
     "start_time": null,
     "status": "pending"
    },
    "tags": [
     "hide-input"
    ]
   },
   "outputs": [],
   "source": [
    "disease_associations_all.to_excel(\n",
    "    writer, sheet_name='disease_assoc_all', **writer_args)\n",
    "disease_assocications_new.to_excel(\n",
    "    writer, sheet_name='disease_assoc_new', **writer_args)\n",
    "disease_assocications_new_rejected.to_excel(\n",
    "    writer, sheet_name='disease_assoc_new_rejected', **writer_args)"
   ]
  },
  {
   "cell_type": "markdown",
   "id": "52a42028-7e2d-47d5-be02-52f7ff1f3665",
   "metadata": {
    "papermill": {
     "duration": null,
     "end_time": null,
     "exception": null,
     "start_time": null,
     "status": "pending"
    },
    "tags": []
   },
   "source": [
    "## Outputs"
   ]
  },
  {
   "cell_type": "code",
   "execution_count": null,
   "id": "7f3a7433-3bf1-4168-8f16-eb6d415ef17f",
   "metadata": {
    "papermill": {
     "duration": null,
     "end_time": null,
     "exception": null,
     "start_time": null,
     "status": "pending"
    },
    "tags": [
     "hide-input"
    ]
   },
   "outputs": [],
   "source": [
    "writer.close()\n",
    "files_out"
   ]
  }
 ],
 "metadata": {
  "kernelspec": {
   "display_name": "Python 3",
   "language": "python",
   "name": "python3"
  },
  "language_info": {
   "codemirror_mode": {
    "name": "ipython",
    "version": 3
   },
   "file_extension": ".py",
   "mimetype": "text/x-python",
   "name": "python",
   "nbconvert_exporter": "python",
   "pygments_lexer": "ipython3",
   "version": "3.8.19"
  },
  "papermill": {
   "default_parameters": {},
   "duration": 19.767992,
   "end_time": "2024-05-27T16:57:36.690145",
   "environment_variables": {},
   "exception": true,
   "input_path": "10_2_ald_compare_methods.ipynb",
   "output_path": "runs/alzheimer_study/diff_analysis/AD/PI_vs_TRKNN/10_2_ald_compare_methods.ipynb",
   "parameters": {
    "annotaitons_gene_col": "None",
    "baseline": "PI",
    "disease_ontology": 10652,
    "folder_experiment": "runs/alzheimer_study",
    "model_key": "TRKNN",
    "out_folder": "diff_analysis",
    "target": "AD"
   },
   "start_time": "2024-05-27T16:57:16.922153",
   "version": "2.6.0"
  }
 },
 "nbformat": 4,
 "nbformat_minor": 5
}