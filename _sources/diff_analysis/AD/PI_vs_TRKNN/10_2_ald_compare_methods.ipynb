{
 "cells": [
  {
   "cell_type": "markdown",
   "id": "9acfeaca-5f8c-42f3-9a8e-83ed737eb35c",
   "metadata": {
    "papermill": {
     "duration": 0.028172,
     "end_time": "2024-08-19T09:56:52.401271",
     "exception": false,
     "start_time": "2024-08-19T09:56:52.373099",
     "status": "completed"
    },
    "tags": []
   },
   "source": [
    "# Compare outcomes from differential analysis based on different imputation methods\n",
    "\n",
    "- load scores based on `10_1_ald_diff_analysis`"
   ]
  },
  {
   "cell_type": "code",
   "execution_count": 1,
   "id": "eec6f931-c04d-428c-b2b1-0424c50e6cd2",
   "metadata": {
    "execution": {
     "iopub.execute_input": "2024-08-19T09:56:52.488152Z",
     "iopub.status.busy": "2024-08-19T09:56:52.487802Z",
     "iopub.status.idle": "2024-08-19T09:56:55.216769Z",
     "shell.execute_reply": "2024-08-19T09:56:55.215752Z"
    },
    "papermill": {
     "duration": 2.76078,
     "end_time": "2024-08-19T09:56:55.218975",
     "exception": false,
     "start_time": "2024-08-19T09:56:52.458195",
     "status": "completed"
    },
    "tags": [
     "hide-input"
    ]
   },
   "outputs": [],
   "source": [
    "import logging\n",
    "from pathlib import Path\n",
    "\n",
    "import matplotlib.pyplot as plt\n",
    "import pandas as pd\n",
    "import seaborn as sns\n",
    "from IPython.display import display\n",
    "\n",
    "import pimmslearn\n",
    "import pimmslearn.databases.diseases\n",
    "\n",
    "logger = pimmslearn.logging.setup_nb_logger()\n",
    "\n",
    "plt.rcParams['figure.figsize'] = (2, 2)\n",
    "fontsize = 5\n",
    "pimmslearn.plotting.make_large_descriptors(fontsize)\n",
    "logging.getLogger('fontTools').setLevel(logging.ERROR)\n",
    "\n",
    "# catch passed parameters\n",
    "args = None\n",
    "args = dict(globals()).keys()"
   ]
  },
  {
   "cell_type": "markdown",
   "id": "85f5f5d5",
   "metadata": {
    "papermill": {
     "duration": 0.0245,
     "end_time": "2024-08-19T09:56:55.257219",
     "exception": false,
     "start_time": "2024-08-19T09:56:55.232719",
     "status": "completed"
    },
    "tags": []
   },
   "source": [
    "## Parameters\n",
    "Default and set parameters for the notebook."
   ]
  },
  {
   "cell_type": "code",
   "execution_count": 2,
   "id": "f4bf65da-0569-4a21-ba20-9cae7d3679e7",
   "metadata": {
    "execution": {
     "iopub.execute_input": "2024-08-19T09:56:55.282509Z",
     "iopub.status.busy": "2024-08-19T09:56:55.282171Z",
     "iopub.status.idle": "2024-08-19T09:56:55.286502Z",
     "shell.execute_reply": "2024-08-19T09:56:55.285860Z"
    },
    "papermill": {
     "duration": 0.019007,
     "end_time": "2024-08-19T09:56:55.287941",
     "exception": false,
     "start_time": "2024-08-19T09:56:55.268934",
     "status": "completed"
    },
    "tags": [
     "parameters"
    ]
   },
   "outputs": [],
   "source": [
    "folder_experiment = 'runs/appl_ald_data/plasma/proteinGroups'\n",
    "\n",
    "target = 'kleiner'\n",
    "model_key = 'VAE'\n",
    "baseline = 'RSN'\n",
    "out_folder = 'diff_analysis'\n",
    "selected_statistics = ['p-unc', '-Log10 pvalue', 'qvalue', 'rejected']\n",
    "\n",
    "disease_ontology = 5082  # code from https://disease-ontology.org/\n",
    "# split diseases notebook? Query gene names for proteins in file from uniprot?\n",
    "annotaitons_gene_col = 'PG.Genes'"
   ]
  },
  {
   "cell_type": "code",
   "execution_count": 3,
   "id": "da1e9fa8",
   "metadata": {
    "execution": {
     "iopub.execute_input": "2024-08-19T09:56:55.330952Z",
     "iopub.status.busy": "2024-08-19T09:56:55.330629Z",
     "iopub.status.idle": "2024-08-19T09:56:55.334334Z",
     "shell.execute_reply": "2024-08-19T09:56:55.333715Z"
    },
    "papermill": {
     "duration": 0.025895,
     "end_time": "2024-08-19T09:56:55.335903",
     "exception": false,
     "start_time": "2024-08-19T09:56:55.310008",
     "status": "completed"
    },
    "tags": [
     "injected-parameters"
    ]
   },
   "outputs": [],
   "source": [
    "# Parameters\n",
    "disease_ontology = 10652\n",
    "folder_experiment = \"runs/alzheimer_study\"\n",
    "target = \"AD\"\n",
    "baseline = \"PI\"\n",
    "model_key = \"TRKNN\"\n",
    "out_folder = \"diff_analysis\"\n",
    "annotaitons_gene_col = \"None\"\n"
   ]
  },
  {
   "cell_type": "markdown",
   "id": "22c645fc-c7eb-4c69-a7aa-084fc733258f",
   "metadata": {
    "papermill": {
     "duration": 0.026146,
     "end_time": "2024-08-19T09:56:55.391647",
     "exception": false,
     "start_time": "2024-08-19T09:56:55.365501",
     "status": "completed"
    },
    "tags": []
   },
   "source": [
    "Add set parameters to configuration"
   ]
  },
  {
   "cell_type": "code",
   "execution_count": 4,
   "id": "978876d0-b3cc-4847-8eab-dc0b89ddbbcd",
   "metadata": {
    "execution": {
     "iopub.execute_input": "2024-08-19T09:56:55.443645Z",
     "iopub.status.busy": "2024-08-19T09:56:55.443337Z",
     "iopub.status.idle": "2024-08-19T09:56:55.468983Z",
     "shell.execute_reply": "2024-08-19T09:56:55.468338Z"
    },
    "papermill": {
     "duration": 0.062981,
     "end_time": "2024-08-19T09:56:55.483178",
     "exception": false,
     "start_time": "2024-08-19T09:56:55.420197",
     "status": "completed"
    },
    "tags": [
     "hide-input"
    ]
   },
   "outputs": [
    {
     "name": "stderr",
     "output_type": "stream",
     "text": [
      "root - INFO     Removed from global namespace: folder_experiment\n"
     ]
    },
    {
     "name": "stderr",
     "output_type": "stream",
     "text": [
      "root - INFO     Removed from global namespace: target\n"
     ]
    },
    {
     "name": "stderr",
     "output_type": "stream",
     "text": [
      "root - INFO     Removed from global namespace: model_key\n"
     ]
    },
    {
     "name": "stderr",
     "output_type": "stream",
     "text": [
      "root - INFO     Removed from global namespace: baseline\n"
     ]
    },
    {
     "name": "stderr",
     "output_type": "stream",
     "text": [
      "root - INFO     Removed from global namespace: out_folder\n"
     ]
    },
    {
     "name": "stderr",
     "output_type": "stream",
     "text": [
      "root - INFO     Removed from global namespace: selected_statistics\n"
     ]
    },
    {
     "name": "stderr",
     "output_type": "stream",
     "text": [
      "root - INFO     Removed from global namespace: disease_ontology\n"
     ]
    },
    {
     "name": "stderr",
     "output_type": "stream",
     "text": [
      "root - INFO     Removed from global namespace: annotaitons_gene_col\n"
     ]
    },
    {
     "name": "stderr",
     "output_type": "stream",
     "text": [
      "root - INFO     Already set attribute: folder_experiment has value runs/alzheimer_study\n"
     ]
    },
    {
     "name": "stderr",
     "output_type": "stream",
     "text": [
      "root - INFO     Already set attribute: out_folder has value diff_analysis\n"
     ]
    },
    {
     "data": {
      "text/plain": [
       "{'annotaitons_gene_col': 'None',\n",
       " 'baseline': 'PI',\n",
       " 'data': PosixPath('runs/alzheimer_study/data'),\n",
       " 'disease_ontology': 10652,\n",
       " 'folder_experiment': PosixPath('runs/alzheimer_study'),\n",
       " 'freq_features_observed': PosixPath('runs/alzheimer_study/freq_features_observed.csv'),\n",
       " 'model_key': 'TRKNN',\n",
       " 'out_figures': PosixPath('runs/alzheimer_study/figures'),\n",
       " 'out_folder': PosixPath('runs/alzheimer_study/diff_analysis/AD/PI_vs_TRKNN'),\n",
       " 'out_metrics': PosixPath('runs/alzheimer_study'),\n",
       " 'out_models': PosixPath('runs/alzheimer_study'),\n",
       " 'out_preds': PosixPath('runs/alzheimer_study/preds'),\n",
       " 'scores_folder': PosixPath('runs/alzheimer_study/diff_analysis/AD/scores'),\n",
       " 'selected_statistics': ['p-unc', '-Log10 pvalue', 'qvalue', 'rejected'],\n",
       " 'target': 'AD'}"
      ]
     },
     "execution_count": 4,
     "metadata": {},
     "output_type": "execute_result"
    }
   ],
   "source": [
    "params = pimmslearn.nb.get_params(args, globals=globals())\n",
    "args = pimmslearn.nb.Config()\n",
    "args.folder_experiment = Path(params[\"folder_experiment\"])\n",
    "args = pimmslearn.nb.add_default_paths(args,\n",
    "                                 out_root=(\n",
    "                                     args.folder_experiment\n",
    "                                     / params[\"out_folder\"]\n",
    "                                     / params[\"target\"]\n",
    "                                     / f\"{params['baseline']}_vs_{params['model_key']}\"))\n",
    "args.update_from_dict(params)\n",
    "args.scores_folder = scores_folder = (args.folder_experiment\n",
    "                                      / params[\"out_folder\"]\n",
    "                                      / params[\"target\"]\n",
    "                                      / 'scores')\n",
    "args.freq_features_observed = args.folder_experiment / 'freq_features_observed.csv'\n",
    "args"
   ]
  },
  {
   "cell_type": "markdown",
   "id": "fc184dea",
   "metadata": {
    "papermill": {
     "duration": 0.099066,
     "end_time": "2024-08-19T09:56:55.617882",
     "exception": false,
     "start_time": "2024-08-19T09:56:55.518816",
     "status": "completed"
    },
    "tags": []
   },
   "source": [
    "### Excel file for exports"
   ]
  },
  {
   "cell_type": "code",
   "execution_count": 5,
   "id": "a8016d79-e41a-40a2-bcbf-e11711c33b7d",
   "metadata": {
    "execution": {
     "iopub.execute_input": "2024-08-19T09:56:55.706857Z",
     "iopub.status.busy": "2024-08-19T09:56:55.706540Z",
     "iopub.status.idle": "2024-08-19T09:56:56.002190Z",
     "shell.execute_reply": "2024-08-19T09:56:56.001476Z"
    },
    "papermill": {
     "duration": 0.341622,
     "end_time": "2024-08-19T09:56:56.003877",
     "exception": false,
     "start_time": "2024-08-19T09:56:55.662255",
     "status": "completed"
    },
    "tags": []
   },
   "outputs": [
    {
     "name": "stderr",
     "output_type": "stream",
     "text": [
      "root - INFO     Writing to excel file: runs/alzheimer_study/diff_analysis/AD/PI_vs_TRKNN/diff_analysis_compare_methods.xlsx\n"
     ]
    }
   ],
   "source": [
    "files_out = dict()\n",
    "writer_args = dict(float_format='%.3f')\n",
    "\n",
    "fname = args.out_folder / 'diff_analysis_compare_methods.xlsx'\n",
    "files_out[fname.name] = fname\n",
    "writer = pd.ExcelWriter(fname)\n",
    "logger.info(\"Writing to excel file: %s\", fname)"
   ]
  },
  {
   "cell_type": "markdown",
   "id": "770d1f76-e86f-4ae3-9d7b-ceef9b9e9a22",
   "metadata": {
    "papermill": {
     "duration": 0.056258,
     "end_time": "2024-08-19T09:56:56.101858",
     "exception": false,
     "start_time": "2024-08-19T09:56:56.045600",
     "status": "completed"
    },
    "tags": []
   },
   "source": [
    "## Load scores"
   ]
  },
  {
   "cell_type": "markdown",
   "id": "6b108869",
   "metadata": {
    "papermill": {
     "duration": 0.045186,
     "end_time": "2024-08-19T09:56:56.168393",
     "exception": false,
     "start_time": "2024-08-19T09:56:56.123207",
     "status": "completed"
    },
    "tags": []
   },
   "source": [
    "### Load baseline model scores\n",
    "Show all statistics, later use selected statistics"
   ]
  },
  {
   "cell_type": "code",
   "execution_count": 6,
   "id": "97221134-5f61-4158-bfc5-ea30077140b8",
   "metadata": {
    "execution": {
     "iopub.execute_input": "2024-08-19T09:56:56.231507Z",
     "iopub.status.busy": "2024-08-19T09:56:56.231195Z",
     "iopub.status.idle": "2024-08-19T09:56:56.266293Z",
     "shell.execute_reply": "2024-08-19T09:56:56.265632Z"
    },
    "papermill": {
     "duration": 0.06226,
     "end_time": "2024-08-19T09:56:56.267759",
     "exception": false,
     "start_time": "2024-08-19T09:56:56.205499",
     "status": "completed"
    },
    "tags": [
     "hide-input"
    ]
   },
   "outputs": [
    {
     "data": {
      "text/html": [
       "<div>\n",
       "<style scoped>\n",
       "    .dataframe tbody tr th:only-of-type {\n",
       "        vertical-align: middle;\n",
       "    }\n",
       "\n",
       "    .dataframe tbody tr th {\n",
       "        vertical-align: top;\n",
       "    }\n",
       "\n",
       "    .dataframe thead tr th {\n",
       "        text-align: left;\n",
       "    }\n",
       "\n",
       "    .dataframe thead tr:last-of-type th {\n",
       "        text-align: right;\n",
       "    }\n",
       "</style>\n",
       "<table border=\"1\" class=\"dataframe\">\n",
       "  <thead>\n",
       "    <tr>\n",
       "      <th></th>\n",
       "      <th>model</th>\n",
       "      <th colspan=\"8\" halign=\"left\">PI</th>\n",
       "    </tr>\n",
       "    <tr>\n",
       "      <th></th>\n",
       "      <th>var</th>\n",
       "      <th>SS</th>\n",
       "      <th>DF</th>\n",
       "      <th>F</th>\n",
       "      <th>p-unc</th>\n",
       "      <th>np2</th>\n",
       "      <th>-Log10 pvalue</th>\n",
       "      <th>qvalue</th>\n",
       "      <th>rejected</th>\n",
       "    </tr>\n",
       "    <tr>\n",
       "      <th>protein groups</th>\n",
       "      <th>Source</th>\n",
       "      <th></th>\n",
       "      <th></th>\n",
       "      <th></th>\n",
       "      <th></th>\n",
       "      <th></th>\n",
       "      <th></th>\n",
       "      <th></th>\n",
       "      <th></th>\n",
       "    </tr>\n",
       "  </thead>\n",
       "  <tbody>\n",
       "    <tr>\n",
       "      <th rowspan=\"5\" valign=\"top\">A0A024QZX5;A0A087X1N8;P35237</th>\n",
       "      <th>AD</th>\n",
       "      <td>0.469</td>\n",
       "      <td>1</td>\n",
       "      <td>0.635</td>\n",
       "      <td>0.426</td>\n",
       "      <td>0.003</td>\n",
       "      <td>0.370</td>\n",
       "      <td>0.588</td>\n",
       "      <td>False</td>\n",
       "    </tr>\n",
       "    <tr>\n",
       "      <th>age</th>\n",
       "      <td>0.007</td>\n",
       "      <td>1</td>\n",
       "      <td>0.010</td>\n",
       "      <td>0.921</td>\n",
       "      <td>0.000</td>\n",
       "      <td>0.036</td>\n",
       "      <td>0.956</td>\n",
       "      <td>False</td>\n",
       "    </tr>\n",
       "    <tr>\n",
       "      <th>Kiel</th>\n",
       "      <td>2.116</td>\n",
       "      <td>1</td>\n",
       "      <td>2.863</td>\n",
       "      <td>0.092</td>\n",
       "      <td>0.015</td>\n",
       "      <td>1.035</td>\n",
       "      <td>0.196</td>\n",
       "      <td>False</td>\n",
       "    </tr>\n",
       "    <tr>\n",
       "      <th>Magdeburg</th>\n",
       "      <td>6.488</td>\n",
       "      <td>1</td>\n",
       "      <td>8.778</td>\n",
       "      <td>0.003</td>\n",
       "      <td>0.044</td>\n",
       "      <td>2.464</td>\n",
       "      <td>0.014</td>\n",
       "      <td>True</td>\n",
       "    </tr>\n",
       "    <tr>\n",
       "      <th>Sweden</th>\n",
       "      <td>10.051</td>\n",
       "      <td>1</td>\n",
       "      <td>13.598</td>\n",
       "      <td>0.000</td>\n",
       "      <td>0.066</td>\n",
       "      <td>3.530</td>\n",
       "      <td>0.002</td>\n",
       "      <td>True</td>\n",
       "    </tr>\n",
       "    <tr>\n",
       "      <th>...</th>\n",
       "      <th>...</th>\n",
       "      <td>...</td>\n",
       "      <td>...</td>\n",
       "      <td>...</td>\n",
       "      <td>...</td>\n",
       "      <td>...</td>\n",
       "      <td>...</td>\n",
       "      <td>...</td>\n",
       "      <td>...</td>\n",
       "    </tr>\n",
       "    <tr>\n",
       "      <th rowspan=\"5\" valign=\"top\">S4R3U6</th>\n",
       "      <th>AD</th>\n",
       "      <td>0.224</td>\n",
       "      <td>1</td>\n",
       "      <td>0.215</td>\n",
       "      <td>0.643</td>\n",
       "      <td>0.001</td>\n",
       "      <td>0.192</td>\n",
       "      <td>0.767</td>\n",
       "      <td>False</td>\n",
       "    </tr>\n",
       "    <tr>\n",
       "      <th>age</th>\n",
       "      <td>0.950</td>\n",
       "      <td>1</td>\n",
       "      <td>0.913</td>\n",
       "      <td>0.341</td>\n",
       "      <td>0.005</td>\n",
       "      <td>0.468</td>\n",
       "      <td>0.505</td>\n",
       "      <td>False</td>\n",
       "    </tr>\n",
       "    <tr>\n",
       "      <th>Kiel</th>\n",
       "      <td>0.020</td>\n",
       "      <td>1</td>\n",
       "      <td>0.019</td>\n",
       "      <td>0.890</td>\n",
       "      <td>0.000</td>\n",
       "      <td>0.050</td>\n",
       "      <td>0.938</td>\n",
       "      <td>False</td>\n",
       "    </tr>\n",
       "    <tr>\n",
       "      <th>Magdeburg</th>\n",
       "      <td>2.836</td>\n",
       "      <td>1</td>\n",
       "      <td>2.724</td>\n",
       "      <td>0.100</td>\n",
       "      <td>0.014</td>\n",
       "      <td>0.998</td>\n",
       "      <td>0.210</td>\n",
       "      <td>False</td>\n",
       "    </tr>\n",
       "    <tr>\n",
       "      <th>Sweden</th>\n",
       "      <td>18.071</td>\n",
       "      <td>1</td>\n",
       "      <td>17.361</td>\n",
       "      <td>0.000</td>\n",
       "      <td>0.083</td>\n",
       "      <td>4.330</td>\n",
       "      <td>0.000</td>\n",
       "      <td>True</td>\n",
       "    </tr>\n",
       "  </tbody>\n",
       "</table>\n",
       "<p>7105 rows × 8 columns</p>\n",
       "</div>"
      ],
      "text/plain": [
       "model                                      PI                        \\\n",
       "var                                        SS DF      F p-unc   np2   \n",
       "protein groups               Source                                   \n",
       "A0A024QZX5;A0A087X1N8;P35237 AD         0.469  1  0.635 0.426 0.003   \n",
       "                             age        0.007  1  0.010 0.921 0.000   \n",
       "                             Kiel       2.116  1  2.863 0.092 0.015   \n",
       "                             Magdeburg  6.488  1  8.778 0.003 0.044   \n",
       "                             Sweden    10.051  1 13.598 0.000 0.066   \n",
       "...                                       ... ..    ...   ...   ...   \n",
       "S4R3U6                       AD         0.224  1  0.215 0.643 0.001   \n",
       "                             age        0.950  1  0.913 0.341 0.005   \n",
       "                             Kiel       0.020  1  0.019 0.890 0.000   \n",
       "                             Magdeburg  2.836  1  2.724 0.100 0.014   \n",
       "                             Sweden    18.071  1 17.361 0.000 0.083   \n",
       "\n",
       "model                                                                 \n",
       "var                                    -Log10 pvalue qvalue rejected  \n",
       "protein groups               Source                                   \n",
       "A0A024QZX5;A0A087X1N8;P35237 AD                0.370  0.588    False  \n",
       "                             age               0.036  0.956    False  \n",
       "                             Kiel              1.035  0.196    False  \n",
       "                             Magdeburg         2.464  0.014     True  \n",
       "                             Sweden            3.530  0.002     True  \n",
       "...                                              ...    ...      ...  \n",
       "S4R3U6                       AD                0.192  0.767    False  \n",
       "                             age               0.468  0.505    False  \n",
       "                             Kiel              0.050  0.938    False  \n",
       "                             Magdeburg         0.998  0.210    False  \n",
       "                             Sweden            4.330  0.000     True  \n",
       "\n",
       "[7105 rows x 8 columns]"
      ]
     },
     "execution_count": 6,
     "metadata": {},
     "output_type": "execute_result"
    }
   ],
   "source": [
    "fname = args.scores_folder / f'diff_analysis_scores_{args.baseline}.pkl'\n",
    "scores_baseline = pd.read_pickle(fname)\n",
    "scores_baseline"
   ]
  },
  {
   "cell_type": "markdown",
   "id": "e49a8da2",
   "metadata": {
    "papermill": {
     "duration": 0.041561,
     "end_time": "2024-08-19T09:56:56.321677",
     "exception": false,
     "start_time": "2024-08-19T09:56:56.280116",
     "status": "completed"
    },
    "tags": []
   },
   "source": [
    "### Load selected comparison model scores"
   ]
  },
  {
   "cell_type": "code",
   "execution_count": 7,
   "id": "f0635e4d",
   "metadata": {
    "execution": {
     "iopub.execute_input": "2024-08-19T09:56:56.396425Z",
     "iopub.status.busy": "2024-08-19T09:56:56.396095Z",
     "iopub.status.idle": "2024-08-19T09:56:56.446241Z",
     "shell.execute_reply": "2024-08-19T09:56:56.445482Z"
    },
    "papermill": {
     "duration": 0.085775,
     "end_time": "2024-08-19T09:56:56.447997",
     "exception": false,
     "start_time": "2024-08-19T09:56:56.362222",
     "status": "completed"
    },
    "tags": [
     "hide-input"
    ]
   },
   "outputs": [
    {
     "data": {
      "text/html": [
       "<div>\n",
       "<style scoped>\n",
       "    .dataframe tbody tr th:only-of-type {\n",
       "        vertical-align: middle;\n",
       "    }\n",
       "\n",
       "    .dataframe tbody tr th {\n",
       "        vertical-align: top;\n",
       "    }\n",
       "\n",
       "    .dataframe thead tr th {\n",
       "        text-align: left;\n",
       "    }\n",
       "\n",
       "    .dataframe thead tr:last-of-type th {\n",
       "        text-align: right;\n",
       "    }\n",
       "</style>\n",
       "<table border=\"1\" class=\"dataframe\">\n",
       "  <thead>\n",
       "    <tr>\n",
       "      <th></th>\n",
       "      <th>model</th>\n",
       "      <th colspan=\"8\" halign=\"left\">TRKNN</th>\n",
       "    </tr>\n",
       "    <tr>\n",
       "      <th></th>\n",
       "      <th>var</th>\n",
       "      <th>SS</th>\n",
       "      <th>DF</th>\n",
       "      <th>F</th>\n",
       "      <th>p-unc</th>\n",
       "      <th>np2</th>\n",
       "      <th>-Log10 pvalue</th>\n",
       "      <th>qvalue</th>\n",
       "      <th>rejected</th>\n",
       "    </tr>\n",
       "    <tr>\n",
       "      <th>protein groups</th>\n",
       "      <th>Source</th>\n",
       "      <th></th>\n",
       "      <th></th>\n",
       "      <th></th>\n",
       "      <th></th>\n",
       "      <th></th>\n",
       "      <th></th>\n",
       "      <th></th>\n",
       "      <th></th>\n",
       "    </tr>\n",
       "  </thead>\n",
       "  <tbody>\n",
       "    <tr>\n",
       "      <th rowspan=\"5\" valign=\"top\">A0A024QZX5;A0A087X1N8;P35237</th>\n",
       "      <th>AD</th>\n",
       "      <td>0.994</td>\n",
       "      <td>1</td>\n",
       "      <td>7.134</td>\n",
       "      <td>0.008</td>\n",
       "      <td>0.036</td>\n",
       "      <td>2.085</td>\n",
       "      <td>0.023</td>\n",
       "      <td>True</td>\n",
       "    </tr>\n",
       "    <tr>\n",
       "      <th>age</th>\n",
       "      <td>0.004</td>\n",
       "      <td>1</td>\n",
       "      <td>0.029</td>\n",
       "      <td>0.864</td>\n",
       "      <td>0.000</td>\n",
       "      <td>0.063</td>\n",
       "      <td>0.913</td>\n",
       "      <td>False</td>\n",
       "    </tr>\n",
       "    <tr>\n",
       "      <th>Kiel</th>\n",
       "      <td>0.269</td>\n",
       "      <td>1</td>\n",
       "      <td>1.933</td>\n",
       "      <td>0.166</td>\n",
       "      <td>0.010</td>\n",
       "      <td>0.780</td>\n",
       "      <td>0.277</td>\n",
       "      <td>False</td>\n",
       "    </tr>\n",
       "    <tr>\n",
       "      <th>Magdeburg</th>\n",
       "      <td>0.519</td>\n",
       "      <td>1</td>\n",
       "      <td>3.727</td>\n",
       "      <td>0.055</td>\n",
       "      <td>0.019</td>\n",
       "      <td>1.259</td>\n",
       "      <td>0.114</td>\n",
       "      <td>False</td>\n",
       "    </tr>\n",
       "    <tr>\n",
       "      <th>Sweden</th>\n",
       "      <td>1.796</td>\n",
       "      <td>1</td>\n",
       "      <td>12.893</td>\n",
       "      <td>0.000</td>\n",
       "      <td>0.063</td>\n",
       "      <td>3.378</td>\n",
       "      <td>0.002</td>\n",
       "      <td>True</td>\n",
       "    </tr>\n",
       "    <tr>\n",
       "      <th>...</th>\n",
       "      <th>...</th>\n",
       "      <td>...</td>\n",
       "      <td>...</td>\n",
       "      <td>...</td>\n",
       "      <td>...</td>\n",
       "      <td>...</td>\n",
       "      <td>...</td>\n",
       "      <td>...</td>\n",
       "      <td>...</td>\n",
       "    </tr>\n",
       "    <tr>\n",
       "      <th rowspan=\"5\" valign=\"top\">S4R3U6</th>\n",
       "      <th>AD</th>\n",
       "      <td>2.295</td>\n",
       "      <td>1</td>\n",
       "      <td>4.480</td>\n",
       "      <td>0.036</td>\n",
       "      <td>0.023</td>\n",
       "      <td>1.449</td>\n",
       "      <td>0.080</td>\n",
       "      <td>False</td>\n",
       "    </tr>\n",
       "    <tr>\n",
       "      <th>age</th>\n",
       "      <td>0.398</td>\n",
       "      <td>1</td>\n",
       "      <td>0.777</td>\n",
       "      <td>0.379</td>\n",
       "      <td>0.004</td>\n",
       "      <td>0.421</td>\n",
       "      <td>0.516</td>\n",
       "      <td>False</td>\n",
       "    </tr>\n",
       "    <tr>\n",
       "      <th>Kiel</th>\n",
       "      <td>2.981</td>\n",
       "      <td>1</td>\n",
       "      <td>5.819</td>\n",
       "      <td>0.017</td>\n",
       "      <td>0.030</td>\n",
       "      <td>1.775</td>\n",
       "      <td>0.043</td>\n",
       "      <td>True</td>\n",
       "    </tr>\n",
       "    <tr>\n",
       "      <th>Magdeburg</th>\n",
       "      <td>3.440</td>\n",
       "      <td>1</td>\n",
       "      <td>6.716</td>\n",
       "      <td>0.010</td>\n",
       "      <td>0.034</td>\n",
       "      <td>1.987</td>\n",
       "      <td>0.028</td>\n",
       "      <td>True</td>\n",
       "    </tr>\n",
       "    <tr>\n",
       "      <th>Sweden</th>\n",
       "      <td>27.114</td>\n",
       "      <td>1</td>\n",
       "      <td>52.939</td>\n",
       "      <td>0.000</td>\n",
       "      <td>0.217</td>\n",
       "      <td>11.062</td>\n",
       "      <td>0.000</td>\n",
       "      <td>True</td>\n",
       "    </tr>\n",
       "  </tbody>\n",
       "</table>\n",
       "<p>7105 rows × 8 columns</p>\n",
       "</div>"
      ],
      "text/plain": [
       "model                                   TRKNN                        \\\n",
       "var                                        SS DF      F p-unc   np2   \n",
       "protein groups               Source                                   \n",
       "A0A024QZX5;A0A087X1N8;P35237 AD         0.994  1  7.134 0.008 0.036   \n",
       "                             age        0.004  1  0.029 0.864 0.000   \n",
       "                             Kiel       0.269  1  1.933 0.166 0.010   \n",
       "                             Magdeburg  0.519  1  3.727 0.055 0.019   \n",
       "                             Sweden     1.796  1 12.893 0.000 0.063   \n",
       "...                                       ... ..    ...   ...   ...   \n",
       "S4R3U6                       AD         2.295  1  4.480 0.036 0.023   \n",
       "                             age        0.398  1  0.777 0.379 0.004   \n",
       "                             Kiel       2.981  1  5.819 0.017 0.030   \n",
       "                             Magdeburg  3.440  1  6.716 0.010 0.034   \n",
       "                             Sweden    27.114  1 52.939 0.000 0.217   \n",
       "\n",
       "model                                                                 \n",
       "var                                    -Log10 pvalue qvalue rejected  \n",
       "protein groups               Source                                   \n",
       "A0A024QZX5;A0A087X1N8;P35237 AD                2.085  0.023     True  \n",
       "                             age               0.063  0.913    False  \n",
       "                             Kiel              0.780  0.277    False  \n",
       "                             Magdeburg         1.259  0.114    False  \n",
       "                             Sweden            3.378  0.002     True  \n",
       "...                                              ...    ...      ...  \n",
       "S4R3U6                       AD                1.449  0.080    False  \n",
       "                             age               0.421  0.516    False  \n",
       "                             Kiel              1.775  0.043     True  \n",
       "                             Magdeburg         1.987  0.028     True  \n",
       "                             Sweden           11.062  0.000     True  \n",
       "\n",
       "[7105 rows x 8 columns]"
      ]
     },
     "execution_count": 7,
     "metadata": {},
     "output_type": "execute_result"
    }
   ],
   "source": [
    "fname = args.scores_folder / f'diff_analysis_scores_{args.model_key}.pkl'\n",
    "scores_model = pd.read_pickle(fname)\n",
    "scores_model"
   ]
  },
  {
   "cell_type": "markdown",
   "id": "06b7e883",
   "metadata": {
    "papermill": {
     "duration": 0.026252,
     "end_time": "2024-08-19T09:56:56.501085",
     "exception": false,
     "start_time": "2024-08-19T09:56:56.474833",
     "status": "completed"
    },
    "tags": []
   },
   "source": [
    "### Combined scores\n",
    "show only selected statistics for comparsion"
   ]
  },
  {
   "cell_type": "code",
   "execution_count": 8,
   "id": "373fdf65",
   "metadata": {
    "execution": {
     "iopub.execute_input": "2024-08-19T09:56:56.569300Z",
     "iopub.status.busy": "2024-08-19T09:56:56.568980Z",
     "iopub.status.idle": "2024-08-19T09:56:56.625478Z",
     "shell.execute_reply": "2024-08-19T09:56:56.624808Z"
    },
    "papermill": {
     "duration": 0.09341,
     "end_time": "2024-08-19T09:56:56.626982",
     "exception": false,
     "start_time": "2024-08-19T09:56:56.533572",
     "status": "completed"
    },
    "tags": [
     "hide-input"
    ]
   },
   "outputs": [
    {
     "data": {
      "text/html": [
       "<div>\n",
       "<style scoped>\n",
       "    .dataframe tbody tr th:only-of-type {\n",
       "        vertical-align: middle;\n",
       "    }\n",
       "\n",
       "    .dataframe tbody tr th {\n",
       "        vertical-align: top;\n",
       "    }\n",
       "\n",
       "    .dataframe thead tr th {\n",
       "        text-align: left;\n",
       "    }\n",
       "\n",
       "    .dataframe thead tr:last-of-type th {\n",
       "        text-align: right;\n",
       "    }\n",
       "</style>\n",
       "<table border=\"1\" class=\"dataframe\">\n",
       "  <thead>\n",
       "    <tr>\n",
       "      <th></th>\n",
       "      <th>model</th>\n",
       "      <th colspan=\"4\" halign=\"left\">PI</th>\n",
       "      <th colspan=\"4\" halign=\"left\">TRKNN</th>\n",
       "    </tr>\n",
       "    <tr>\n",
       "      <th></th>\n",
       "      <th>var</th>\n",
       "      <th>p-unc</th>\n",
       "      <th>-Log10 pvalue</th>\n",
       "      <th>qvalue</th>\n",
       "      <th>rejected</th>\n",
       "      <th>p-unc</th>\n",
       "      <th>-Log10 pvalue</th>\n",
       "      <th>qvalue</th>\n",
       "      <th>rejected</th>\n",
       "    </tr>\n",
       "    <tr>\n",
       "      <th>protein groups</th>\n",
       "      <th>Source</th>\n",
       "      <th></th>\n",
       "      <th></th>\n",
       "      <th></th>\n",
       "      <th></th>\n",
       "      <th></th>\n",
       "      <th></th>\n",
       "      <th></th>\n",
       "      <th></th>\n",
       "    </tr>\n",
       "  </thead>\n",
       "  <tbody>\n",
       "    <tr>\n",
       "      <th rowspan=\"5\" valign=\"top\">A0A024QZX5;A0A087X1N8;P35237</th>\n",
       "      <th>AD</th>\n",
       "      <td>0.426</td>\n",
       "      <td>0.370</td>\n",
       "      <td>0.588</td>\n",
       "      <td>False</td>\n",
       "      <td>0.008</td>\n",
       "      <td>2.085</td>\n",
       "      <td>0.023</td>\n",
       "      <td>True</td>\n",
       "    </tr>\n",
       "    <tr>\n",
       "      <th>Kiel</th>\n",
       "      <td>0.092</td>\n",
       "      <td>1.035</td>\n",
       "      <td>0.196</td>\n",
       "      <td>False</td>\n",
       "      <td>0.166</td>\n",
       "      <td>0.780</td>\n",
       "      <td>0.277</td>\n",
       "      <td>False</td>\n",
       "    </tr>\n",
       "    <tr>\n",
       "      <th>Magdeburg</th>\n",
       "      <td>0.003</td>\n",
       "      <td>2.464</td>\n",
       "      <td>0.014</td>\n",
       "      <td>True</td>\n",
       "      <td>0.055</td>\n",
       "      <td>1.259</td>\n",
       "      <td>0.114</td>\n",
       "      <td>False</td>\n",
       "    </tr>\n",
       "    <tr>\n",
       "      <th>Sweden</th>\n",
       "      <td>0.000</td>\n",
       "      <td>3.530</td>\n",
       "      <td>0.002</td>\n",
       "      <td>True</td>\n",
       "      <td>0.000</td>\n",
       "      <td>3.378</td>\n",
       "      <td>0.002</td>\n",
       "      <td>True</td>\n",
       "    </tr>\n",
       "    <tr>\n",
       "      <th>age</th>\n",
       "      <td>0.921</td>\n",
       "      <td>0.036</td>\n",
       "      <td>0.956</td>\n",
       "      <td>False</td>\n",
       "      <td>0.864</td>\n",
       "      <td>0.063</td>\n",
       "      <td>0.913</td>\n",
       "      <td>False</td>\n",
       "    </tr>\n",
       "    <tr>\n",
       "      <th>...</th>\n",
       "      <th>...</th>\n",
       "      <td>...</td>\n",
       "      <td>...</td>\n",
       "      <td>...</td>\n",
       "      <td>...</td>\n",
       "      <td>...</td>\n",
       "      <td>...</td>\n",
       "      <td>...</td>\n",
       "      <td>...</td>\n",
       "    </tr>\n",
       "    <tr>\n",
       "      <th rowspan=\"5\" valign=\"top\">S4R3U6</th>\n",
       "      <th>AD</th>\n",
       "      <td>0.643</td>\n",
       "      <td>0.192</td>\n",
       "      <td>0.767</td>\n",
       "      <td>False</td>\n",
       "      <td>0.036</td>\n",
       "      <td>1.449</td>\n",
       "      <td>0.080</td>\n",
       "      <td>False</td>\n",
       "    </tr>\n",
       "    <tr>\n",
       "      <th>Kiel</th>\n",
       "      <td>0.890</td>\n",
       "      <td>0.050</td>\n",
       "      <td>0.938</td>\n",
       "      <td>False</td>\n",
       "      <td>0.017</td>\n",
       "      <td>1.775</td>\n",
       "      <td>0.043</td>\n",
       "      <td>True</td>\n",
       "    </tr>\n",
       "    <tr>\n",
       "      <th>Magdeburg</th>\n",
       "      <td>0.100</td>\n",
       "      <td>0.998</td>\n",
       "      <td>0.210</td>\n",
       "      <td>False</td>\n",
       "      <td>0.010</td>\n",
       "      <td>1.987</td>\n",
       "      <td>0.028</td>\n",
       "      <td>True</td>\n",
       "    </tr>\n",
       "    <tr>\n",
       "      <th>Sweden</th>\n",
       "      <td>0.000</td>\n",
       "      <td>4.330</td>\n",
       "      <td>0.000</td>\n",
       "      <td>True</td>\n",
       "      <td>0.000</td>\n",
       "      <td>11.062</td>\n",
       "      <td>0.000</td>\n",
       "      <td>True</td>\n",
       "    </tr>\n",
       "    <tr>\n",
       "      <th>age</th>\n",
       "      <td>0.341</td>\n",
       "      <td>0.468</td>\n",
       "      <td>0.505</td>\n",
       "      <td>False</td>\n",
       "      <td>0.379</td>\n",
       "      <td>0.421</td>\n",
       "      <td>0.516</td>\n",
       "      <td>False</td>\n",
       "    </tr>\n",
       "  </tbody>\n",
       "</table>\n",
       "<p>7105 rows × 8 columns</p>\n",
       "</div>"
      ],
      "text/plain": [
       "model                                     PI                                \\\n",
       "var                                    p-unc -Log10 pvalue qvalue rejected   \n",
       "protein groups               Source                                          \n",
       "A0A024QZX5;A0A087X1N8;P35237 AD        0.426         0.370  0.588    False   \n",
       "                             Kiel      0.092         1.035  0.196    False   \n",
       "                             Magdeburg 0.003         2.464  0.014     True   \n",
       "                             Sweden    0.000         3.530  0.002     True   \n",
       "                             age       0.921         0.036  0.956    False   \n",
       "...                                      ...           ...    ...      ...   \n",
       "S4R3U6                       AD        0.643         0.192  0.767    False   \n",
       "                             Kiel      0.890         0.050  0.938    False   \n",
       "                             Magdeburg 0.100         0.998  0.210    False   \n",
       "                             Sweden    0.000         4.330  0.000     True   \n",
       "                             age       0.341         0.468  0.505    False   \n",
       "\n",
       "model                                  TRKNN                                \n",
       "var                                    p-unc -Log10 pvalue qvalue rejected  \n",
       "protein groups               Source                                         \n",
       "A0A024QZX5;A0A087X1N8;P35237 AD        0.008         2.085  0.023     True  \n",
       "                             Kiel      0.166         0.780  0.277    False  \n",
       "                             Magdeburg 0.055         1.259  0.114    False  \n",
       "                             Sweden    0.000         3.378  0.002     True  \n",
       "                             age       0.864         0.063  0.913    False  \n",
       "...                                      ...           ...    ...      ...  \n",
       "S4R3U6                       AD        0.036         1.449  0.080    False  \n",
       "                             Kiel      0.017         1.775  0.043     True  \n",
       "                             Magdeburg 0.010         1.987  0.028     True  \n",
       "                             Sweden    0.000        11.062  0.000     True  \n",
       "                             age       0.379         0.421  0.516    False  \n",
       "\n",
       "[7105 rows x 8 columns]"
      ]
     },
     "execution_count": 8,
     "metadata": {},
     "output_type": "execute_result"
    }
   ],
   "source": [
    "scores = scores_model.join(scores_baseline, how='outer')[[args.baseline, args.model_key]]\n",
    "scores = scores.loc[:, pd.IndexSlice[scores.columns.levels[0].to_list(),\n",
    "                                     args.selected_statistics]]\n",
    "scores"
   ]
  },
  {
   "cell_type": "markdown",
   "id": "b84a6e5a",
   "metadata": {
    "papermill": {
     "duration": 0.035144,
     "end_time": "2024-08-19T09:56:56.685139",
     "exception": false,
     "start_time": "2024-08-19T09:56:56.649995",
     "status": "completed"
    },
    "tags": []
   },
   "source": [
    "Models in comparison (name mapping)"
   ]
  },
  {
   "cell_type": "code",
   "execution_count": 9,
   "id": "34d243d1-3ab4-40e7-9eb8-f9efc828b82d",
   "metadata": {
    "execution": {
     "iopub.execute_input": "2024-08-19T09:56:56.755123Z",
     "iopub.status.busy": "2024-08-19T09:56:56.754805Z",
     "iopub.status.idle": "2024-08-19T09:56:56.760137Z",
     "shell.execute_reply": "2024-08-19T09:56:56.759504Z"
    },
    "papermill": {
     "duration": 0.047686,
     "end_time": "2024-08-19T09:56:56.761657",
     "exception": false,
     "start_time": "2024-08-19T09:56:56.713971",
     "status": "completed"
    },
    "tags": [
     "hide-input"
    ]
   },
   "outputs": [
    {
     "data": {
      "text/plain": [
       "{'PI': 'PI', 'TRKNN': 'TRKNN'}"
      ]
     },
     "execution_count": 9,
     "metadata": {},
     "output_type": "execute_result"
    }
   ],
   "source": [
    "models = pimmslearn.nb.Config.from_dict(\n",
    "    pimmslearn.pandas.index_to_dict(scores.columns.get_level_values(0)))\n",
    "vars(models)"
   ]
  },
  {
   "cell_type": "markdown",
   "id": "dd7a560d",
   "metadata": {
    "papermill": {
     "duration": 0.026872,
     "end_time": "2024-08-19T09:56:56.818767",
     "exception": false,
     "start_time": "2024-08-19T09:56:56.791895",
     "status": "completed"
    },
    "tags": []
   },
   "source": [
    "## Describe scores"
   ]
  },
  {
   "cell_type": "code",
   "execution_count": 10,
   "id": "0fee8f5d-fa52-4369-a1f9-fcfd518ab6bd",
   "metadata": {
    "execution": {
     "iopub.execute_input": "2024-08-19T09:56:56.883785Z",
     "iopub.status.busy": "2024-08-19T09:56:56.883469Z",
     "iopub.status.idle": "2024-08-19T09:56:56.939225Z",
     "shell.execute_reply": "2024-08-19T09:56:56.938596Z"
    },
    "papermill": {
     "duration": 0.083675,
     "end_time": "2024-08-19T09:56:56.940812",
     "exception": false,
     "start_time": "2024-08-19T09:56:56.857137",
     "status": "completed"
    },
    "tags": [
     "hide-input"
    ]
   },
   "outputs": [
    {
     "data": {
      "text/html": [
       "<div>\n",
       "<style scoped>\n",
       "    .dataframe tbody tr th:only-of-type {\n",
       "        vertical-align: middle;\n",
       "    }\n",
       "\n",
       "    .dataframe tbody tr th {\n",
       "        vertical-align: top;\n",
       "    }\n",
       "\n",
       "    .dataframe thead tr th {\n",
       "        text-align: left;\n",
       "    }\n",
       "</style>\n",
       "<table border=\"1\" class=\"dataframe\">\n",
       "  <thead>\n",
       "    <tr>\n",
       "      <th>model</th>\n",
       "      <th colspan=\"3\" halign=\"left\">PI</th>\n",
       "      <th colspan=\"3\" halign=\"left\">TRKNN</th>\n",
       "    </tr>\n",
       "    <tr>\n",
       "      <th>var</th>\n",
       "      <th>p-unc</th>\n",
       "      <th>-Log10 pvalue</th>\n",
       "      <th>qvalue</th>\n",
       "      <th>p-unc</th>\n",
       "      <th>-Log10 pvalue</th>\n",
       "      <th>qvalue</th>\n",
       "    </tr>\n",
       "  </thead>\n",
       "  <tbody>\n",
       "    <tr>\n",
       "      <th>count</th>\n",
       "      <td>7,105.000</td>\n",
       "      <td>7,105.000</td>\n",
       "      <td>7,105.000</td>\n",
       "      <td>7,105.000</td>\n",
       "      <td>7,105.000</td>\n",
       "      <td>7,105.000</td>\n",
       "    </tr>\n",
       "    <tr>\n",
       "      <th>mean</th>\n",
       "      <td>0.261</td>\n",
       "      <td>2.479</td>\n",
       "      <td>0.338</td>\n",
       "      <td>0.230</td>\n",
       "      <td>3.114</td>\n",
       "      <td>0.287</td>\n",
       "    </tr>\n",
       "    <tr>\n",
       "      <th>std</th>\n",
       "      <td>0.303</td>\n",
       "      <td>5.320</td>\n",
       "      <td>0.331</td>\n",
       "      <td>0.296</td>\n",
       "      <td>5.792</td>\n",
       "      <td>0.323</td>\n",
       "    </tr>\n",
       "    <tr>\n",
       "      <th>min</th>\n",
       "      <td>0.000</td>\n",
       "      <td>0.001</td>\n",
       "      <td>0.000</td>\n",
       "      <td>0.000</td>\n",
       "      <td>0.000</td>\n",
       "      <td>0.000</td>\n",
       "    </tr>\n",
       "    <tr>\n",
       "      <th>25%</th>\n",
       "      <td>0.004</td>\n",
       "      <td>0.329</td>\n",
       "      <td>0.015</td>\n",
       "      <td>0.001</td>\n",
       "      <td>0.392</td>\n",
       "      <td>0.003</td>\n",
       "    </tr>\n",
       "    <tr>\n",
       "      <th>50%</th>\n",
       "      <td>0.120</td>\n",
       "      <td>0.919</td>\n",
       "      <td>0.241</td>\n",
       "      <td>0.066</td>\n",
       "      <td>1.182</td>\n",
       "      <td>0.131</td>\n",
       "    </tr>\n",
       "    <tr>\n",
       "      <th>75%</th>\n",
       "      <td>0.469</td>\n",
       "      <td>2.414</td>\n",
       "      <td>0.626</td>\n",
       "      <td>0.405</td>\n",
       "      <td>3.156</td>\n",
       "      <td>0.540</td>\n",
       "    </tr>\n",
       "    <tr>\n",
       "      <th>max</th>\n",
       "      <td>0.998</td>\n",
       "      <td>140.053</td>\n",
       "      <td>0.998</td>\n",
       "      <td>1.000</td>\n",
       "      <td>82.663</td>\n",
       "      <td>1.000</td>\n",
       "    </tr>\n",
       "  </tbody>\n",
       "</table>\n",
       "</div>"
      ],
      "text/plain": [
       "model        PI                             TRKNN                        \n",
       "var       p-unc -Log10 pvalue    qvalue     p-unc -Log10 pvalue    qvalue\n",
       "count 7,105.000     7,105.000 7,105.000 7,105.000     7,105.000 7,105.000\n",
       "mean      0.261         2.479     0.338     0.230         3.114     0.287\n",
       "std       0.303         5.320     0.331     0.296         5.792     0.323\n",
       "min       0.000         0.001     0.000     0.000         0.000     0.000\n",
       "25%       0.004         0.329     0.015     0.001         0.392     0.003\n",
       "50%       0.120         0.919     0.241     0.066         1.182     0.131\n",
       "75%       0.469         2.414     0.626     0.405         3.156     0.540\n",
       "max       0.998       140.053     0.998     1.000        82.663     1.000"
      ]
     },
     "execution_count": 10,
     "metadata": {},
     "output_type": "execute_result"
    }
   ],
   "source": [
    "scores.describe()"
   ]
  },
  {
   "cell_type": "markdown",
   "id": "52ecc596",
   "metadata": {
    "papermill": {
     "duration": 0.015331,
     "end_time": "2024-08-19T09:56:56.983518",
     "exception": false,
     "start_time": "2024-08-19T09:56:56.968187",
     "status": "completed"
    },
    "tags": []
   },
   "source": [
    "### One to one comparison of by feature:"
   ]
  },
  {
   "cell_type": "code",
   "execution_count": 11,
   "id": "c6e5a0a6-343b-4f07-8d9d-2cd5cf95ae1f",
   "metadata": {
    "execution": {
     "iopub.execute_input": "2024-08-19T09:56:57.032974Z",
     "iopub.status.busy": "2024-08-19T09:56:57.032400Z",
     "iopub.status.idle": "2024-08-19T09:56:57.377126Z",
     "shell.execute_reply": "2024-08-19T09:56:57.376446Z"
    },
    "papermill": {
     "duration": 0.379351,
     "end_time": "2024-08-19T09:56:57.378820",
     "exception": false,
     "start_time": "2024-08-19T09:56:56.999469",
     "status": "completed"
    },
    "tags": [
     "hide-input"
    ]
   },
   "outputs": [
    {
     "name": "stderr",
     "output_type": "stream",
     "text": [
      "/tmp/ipykernel_50173/3761369923.py:2: FutureWarning: Starting with pandas version 3.0 all arguments of to_excel except for the argument 'excel_writer' will be keyword-only.\n",
      "  scores.to_excel(writer, 'scores', **writer_args)\n"
     ]
    },
    {
     "data": {
      "text/html": [
       "<div>\n",
       "<style scoped>\n",
       "    .dataframe tbody tr th:only-of-type {\n",
       "        vertical-align: middle;\n",
       "    }\n",
       "\n",
       "    .dataframe tbody tr th {\n",
       "        vertical-align: top;\n",
       "    }\n",
       "\n",
       "    .dataframe thead tr th {\n",
       "        text-align: left;\n",
       "    }\n",
       "\n",
       "    .dataframe thead tr:last-of-type th {\n",
       "        text-align: right;\n",
       "    }\n",
       "</style>\n",
       "<table border=\"1\" class=\"dataframe\">\n",
       "  <thead>\n",
       "    <tr>\n",
       "      <th></th>\n",
       "      <th>model</th>\n",
       "      <th colspan=\"4\" halign=\"left\">PI</th>\n",
       "      <th colspan=\"4\" halign=\"left\">TRKNN</th>\n",
       "    </tr>\n",
       "    <tr>\n",
       "      <th></th>\n",
       "      <th>var</th>\n",
       "      <th>p-unc</th>\n",
       "      <th>-Log10 pvalue</th>\n",
       "      <th>qvalue</th>\n",
       "      <th>rejected</th>\n",
       "      <th>p-unc</th>\n",
       "      <th>-Log10 pvalue</th>\n",
       "      <th>qvalue</th>\n",
       "      <th>rejected</th>\n",
       "    </tr>\n",
       "    <tr>\n",
       "      <th>protein groups</th>\n",
       "      <th>Source</th>\n",
       "      <th></th>\n",
       "      <th></th>\n",
       "      <th></th>\n",
       "      <th></th>\n",
       "      <th></th>\n",
       "      <th></th>\n",
       "      <th></th>\n",
       "      <th></th>\n",
       "    </tr>\n",
       "  </thead>\n",
       "  <tbody>\n",
       "    <tr>\n",
       "      <th>A0A024QZX5;A0A087X1N8;P35237</th>\n",
       "      <th>AD</th>\n",
       "      <td>0.426</td>\n",
       "      <td>0.370</td>\n",
       "      <td>0.588</td>\n",
       "      <td>False</td>\n",
       "      <td>0.008</td>\n",
       "      <td>2.085</td>\n",
       "      <td>0.023</td>\n",
       "      <td>True</td>\n",
       "    </tr>\n",
       "    <tr>\n",
       "      <th>A0A024R0T9;K7ER74;P02655</th>\n",
       "      <th>AD</th>\n",
       "      <td>0.039</td>\n",
       "      <td>1.406</td>\n",
       "      <td>0.101</td>\n",
       "      <td>False</td>\n",
       "      <td>0.031</td>\n",
       "      <td>1.512</td>\n",
       "      <td>0.071</td>\n",
       "      <td>False</td>\n",
       "    </tr>\n",
       "    <tr>\n",
       "      <th>A0A024R3W6;A0A024R412;O60462;O60462-2;O60462-3;O60462-4;O60462-5;Q7LBX6;X5D2Q8</th>\n",
       "      <th>AD</th>\n",
       "      <td>0.063</td>\n",
       "      <td>1.204</td>\n",
       "      <td>0.145</td>\n",
       "      <td>False</td>\n",
       "      <td>0.264</td>\n",
       "      <td>0.578</td>\n",
       "      <td>0.394</td>\n",
       "      <td>False</td>\n",
       "    </tr>\n",
       "    <tr>\n",
       "      <th>A0A024R644;A0A0A0MRU5;A0A1B0GWI2;O75503</th>\n",
       "      <th>AD</th>\n",
       "      <td>0.598</td>\n",
       "      <td>0.223</td>\n",
       "      <td>0.732</td>\n",
       "      <td>False</td>\n",
       "      <td>0.266</td>\n",
       "      <td>0.575</td>\n",
       "      <td>0.396</td>\n",
       "      <td>False</td>\n",
       "    </tr>\n",
       "    <tr>\n",
       "      <th>A0A075B6H7</th>\n",
       "      <th>AD</th>\n",
       "      <td>0.109</td>\n",
       "      <td>0.964</td>\n",
       "      <td>0.223</td>\n",
       "      <td>False</td>\n",
       "      <td>0.020</td>\n",
       "      <td>1.707</td>\n",
       "      <td>0.048</td>\n",
       "      <td>True</td>\n",
       "    </tr>\n",
       "    <tr>\n",
       "      <th>...</th>\n",
       "      <th>...</th>\n",
       "      <td>...</td>\n",
       "      <td>...</td>\n",
       "      <td>...</td>\n",
       "      <td>...</td>\n",
       "      <td>...</td>\n",
       "      <td>...</td>\n",
       "      <td>...</td>\n",
       "      <td>...</td>\n",
       "    </tr>\n",
       "    <tr>\n",
       "      <th>Q9Y6R7</th>\n",
       "      <th>AD</th>\n",
       "      <td>0.175</td>\n",
       "      <td>0.756</td>\n",
       "      <td>0.315</td>\n",
       "      <td>False</td>\n",
       "      <td>0.175</td>\n",
       "      <td>0.756</td>\n",
       "      <td>0.289</td>\n",
       "      <td>False</td>\n",
       "    </tr>\n",
       "    <tr>\n",
       "      <th>Q9Y6X5</th>\n",
       "      <th>AD</th>\n",
       "      <td>0.025</td>\n",
       "      <td>1.602</td>\n",
       "      <td>0.071</td>\n",
       "      <td>False</td>\n",
       "      <td>0.113</td>\n",
       "      <td>0.946</td>\n",
       "      <td>0.205</td>\n",
       "      <td>False</td>\n",
       "    </tr>\n",
       "    <tr>\n",
       "      <th>Q9Y6Y8;Q9Y6Y8-2</th>\n",
       "      <th>AD</th>\n",
       "      <td>0.083</td>\n",
       "      <td>1.079</td>\n",
       "      <td>0.182</td>\n",
       "      <td>False</td>\n",
       "      <td>0.083</td>\n",
       "      <td>1.079</td>\n",
       "      <td>0.160</td>\n",
       "      <td>False</td>\n",
       "    </tr>\n",
       "    <tr>\n",
       "      <th>Q9Y6Y9</th>\n",
       "      <th>AD</th>\n",
       "      <td>0.408</td>\n",
       "      <td>0.390</td>\n",
       "      <td>0.569</td>\n",
       "      <td>False</td>\n",
       "      <td>0.334</td>\n",
       "      <td>0.476</td>\n",
       "      <td>0.472</td>\n",
       "      <td>False</td>\n",
       "    </tr>\n",
       "    <tr>\n",
       "      <th>S4R3U6</th>\n",
       "      <th>AD</th>\n",
       "      <td>0.643</td>\n",
       "      <td>0.192</td>\n",
       "      <td>0.767</td>\n",
       "      <td>False</td>\n",
       "      <td>0.036</td>\n",
       "      <td>1.449</td>\n",
       "      <td>0.080</td>\n",
       "      <td>False</td>\n",
       "    </tr>\n",
       "  </tbody>\n",
       "</table>\n",
       "<p>1421 rows × 8 columns</p>\n",
       "</div>"
      ],
      "text/plain": [
       "model                                                        PI                \\\n",
       "var                                                       p-unc -Log10 pvalue   \n",
       "protein groups                                     Source                       \n",
       "A0A024QZX5;A0A087X1N8;P35237                       AD     0.426         0.370   \n",
       "A0A024R0T9;K7ER74;P02655                           AD     0.039         1.406   \n",
       "A0A024R3W6;A0A024R412;O60462;O60462-2;O60462-3;... AD     0.063         1.204   \n",
       "A0A024R644;A0A0A0MRU5;A0A1B0GWI2;O75503            AD     0.598         0.223   \n",
       "A0A075B6H7                                         AD     0.109         0.964   \n",
       "...                                                         ...           ...   \n",
       "Q9Y6R7                                             AD     0.175         0.756   \n",
       "Q9Y6X5                                             AD     0.025         1.602   \n",
       "Q9Y6Y8;Q9Y6Y8-2                                    AD     0.083         1.079   \n",
       "Q9Y6Y9                                             AD     0.408         0.390   \n",
       "S4R3U6                                             AD     0.643         0.192   \n",
       "\n",
       "model                                                                      \\\n",
       "var                                                       qvalue rejected   \n",
       "protein groups                                     Source                   \n",
       "A0A024QZX5;A0A087X1N8;P35237                       AD      0.588    False   \n",
       "A0A024R0T9;K7ER74;P02655                           AD      0.101    False   \n",
       "A0A024R3W6;A0A024R412;O60462;O60462-2;O60462-3;... AD      0.145    False   \n",
       "A0A024R644;A0A0A0MRU5;A0A1B0GWI2;O75503            AD      0.732    False   \n",
       "A0A075B6H7                                         AD      0.223    False   \n",
       "...                                                          ...      ...   \n",
       "Q9Y6R7                                             AD      0.315    False   \n",
       "Q9Y6X5                                             AD      0.071    False   \n",
       "Q9Y6Y8;Q9Y6Y8-2                                    AD      0.182    False   \n",
       "Q9Y6Y9                                             AD      0.569    False   \n",
       "S4R3U6                                             AD      0.767    False   \n",
       "\n",
       "model                                                     TRKNN                \\\n",
       "var                                                       p-unc -Log10 pvalue   \n",
       "protein groups                                     Source                       \n",
       "A0A024QZX5;A0A087X1N8;P35237                       AD     0.008         2.085   \n",
       "A0A024R0T9;K7ER74;P02655                           AD     0.031         1.512   \n",
       "A0A024R3W6;A0A024R412;O60462;O60462-2;O60462-3;... AD     0.264         0.578   \n",
       "A0A024R644;A0A0A0MRU5;A0A1B0GWI2;O75503            AD     0.266         0.575   \n",
       "A0A075B6H7                                         AD     0.020         1.707   \n",
       "...                                                         ...           ...   \n",
       "Q9Y6R7                                             AD     0.175         0.756   \n",
       "Q9Y6X5                                             AD     0.113         0.946   \n",
       "Q9Y6Y8;Q9Y6Y8-2                                    AD     0.083         1.079   \n",
       "Q9Y6Y9                                             AD     0.334         0.476   \n",
       "S4R3U6                                             AD     0.036         1.449   \n",
       "\n",
       "model                                                                      \n",
       "var                                                       qvalue rejected  \n",
       "protein groups                                     Source                  \n",
       "A0A024QZX5;A0A087X1N8;P35237                       AD      0.023     True  \n",
       "A0A024R0T9;K7ER74;P02655                           AD      0.071    False  \n",
       "A0A024R3W6;A0A024R412;O60462;O60462-2;O60462-3;... AD      0.394    False  \n",
       "A0A024R644;A0A0A0MRU5;A0A1B0GWI2;O75503            AD      0.396    False  \n",
       "A0A075B6H7                                         AD      0.048     True  \n",
       "...                                                          ...      ...  \n",
       "Q9Y6R7                                             AD      0.289    False  \n",
       "Q9Y6X5                                             AD      0.205    False  \n",
       "Q9Y6Y8;Q9Y6Y8-2                                    AD      0.160    False  \n",
       "Q9Y6Y9                                             AD      0.472    False  \n",
       "S4R3U6                                             AD      0.080    False  \n",
       "\n",
       "[1421 rows x 8 columns]"
      ]
     },
     "execution_count": 11,
     "metadata": {},
     "output_type": "execute_result"
    }
   ],
   "source": [
    "scores = scores.loc[pd.IndexSlice[:, args.target], :]\n",
    "scores.to_excel(writer, 'scores', **writer_args)\n",
    "scores"
   ]
  },
  {
   "cell_type": "markdown",
   "id": "36e14580",
   "metadata": {
    "papermill": {
     "duration": 0.013616,
     "end_time": "2024-08-19T09:56:57.406731",
     "exception": false,
     "start_time": "2024-08-19T09:56:57.393115",
     "status": "completed"
    },
    "tags": []
   },
   "source": [
    "And the descriptive statistics\n",
    "of the numeric values:"
   ]
  },
  {
   "cell_type": "code",
   "execution_count": 12,
   "id": "0e45e80a-32d8-4c6c-b0a4-5ce8b7f9e121",
   "metadata": {
    "execution": {
     "iopub.execute_input": "2024-08-19T09:56:57.436440Z",
     "iopub.status.busy": "2024-08-19T09:56:57.436103Z",
     "iopub.status.idle": "2024-08-19T09:56:57.467126Z",
     "shell.execute_reply": "2024-08-19T09:56:57.466466Z"
    },
    "papermill": {
     "duration": 0.055665,
     "end_time": "2024-08-19T09:56:57.476305",
     "exception": false,
     "start_time": "2024-08-19T09:56:57.420640",
     "status": "completed"
    },
    "tags": [
     "hide-input"
    ]
   },
   "outputs": [
    {
     "data": {
      "text/html": [
       "<div>\n",
       "<style scoped>\n",
       "    .dataframe tbody tr th:only-of-type {\n",
       "        vertical-align: middle;\n",
       "    }\n",
       "\n",
       "    .dataframe tbody tr th {\n",
       "        vertical-align: top;\n",
       "    }\n",
       "\n",
       "    .dataframe thead tr th {\n",
       "        text-align: left;\n",
       "    }\n",
       "</style>\n",
       "<table border=\"1\" class=\"dataframe\">\n",
       "  <thead>\n",
       "    <tr>\n",
       "      <th>model</th>\n",
       "      <th colspan=\"3\" halign=\"left\">PI</th>\n",
       "      <th colspan=\"3\" halign=\"left\">TRKNN</th>\n",
       "    </tr>\n",
       "    <tr>\n",
       "      <th>var</th>\n",
       "      <th>p-unc</th>\n",
       "      <th>-Log10 pvalue</th>\n",
       "      <th>qvalue</th>\n",
       "      <th>p-unc</th>\n",
       "      <th>-Log10 pvalue</th>\n",
       "      <th>qvalue</th>\n",
       "    </tr>\n",
       "  </thead>\n",
       "  <tbody>\n",
       "    <tr>\n",
       "      <th>count</th>\n",
       "      <td>1,421.000</td>\n",
       "      <td>1,421.000</td>\n",
       "      <td>1,421.000</td>\n",
       "      <td>1,421.000</td>\n",
       "      <td>1,421.000</td>\n",
       "      <td>1,421.000</td>\n",
       "    </tr>\n",
       "    <tr>\n",
       "      <th>mean</th>\n",
       "      <td>0.255</td>\n",
       "      <td>1.398</td>\n",
       "      <td>0.337</td>\n",
       "      <td>0.239</td>\n",
       "      <td>1.579</td>\n",
       "      <td>0.301</td>\n",
       "    </tr>\n",
       "    <tr>\n",
       "      <th>std</th>\n",
       "      <td>0.295</td>\n",
       "      <td>1.584</td>\n",
       "      <td>0.320</td>\n",
       "      <td>0.294</td>\n",
       "      <td>1.800</td>\n",
       "      <td>0.317</td>\n",
       "    </tr>\n",
       "    <tr>\n",
       "      <th>min</th>\n",
       "      <td>0.000</td>\n",
       "      <td>0.001</td>\n",
       "      <td>0.000</td>\n",
       "      <td>0.000</td>\n",
       "      <td>0.002</td>\n",
       "      <td>0.000</td>\n",
       "    </tr>\n",
       "    <tr>\n",
       "      <th>25%</th>\n",
       "      <td>0.012</td>\n",
       "      <td>0.355</td>\n",
       "      <td>0.038</td>\n",
       "      <td>0.007</td>\n",
       "      <td>0.373</td>\n",
       "      <td>0.021</td>\n",
       "    </tr>\n",
       "    <tr>\n",
       "      <th>50%</th>\n",
       "      <td>0.117</td>\n",
       "      <td>0.930</td>\n",
       "      <td>0.237</td>\n",
       "      <td>0.086</td>\n",
       "      <td>1.063</td>\n",
       "      <td>0.164</td>\n",
       "    </tr>\n",
       "    <tr>\n",
       "      <th>75%</th>\n",
       "      <td>0.441</td>\n",
       "      <td>1.939</td>\n",
       "      <td>0.601</td>\n",
       "      <td>0.423</td>\n",
       "      <td>2.151</td>\n",
       "      <td>0.559</td>\n",
       "    </tr>\n",
       "    <tr>\n",
       "      <th>max</th>\n",
       "      <td>0.997</td>\n",
       "      <td>18.964</td>\n",
       "      <td>0.997</td>\n",
       "      <td>0.996</td>\n",
       "      <td>19.900</td>\n",
       "      <td>0.997</td>\n",
       "    </tr>\n",
       "  </tbody>\n",
       "</table>\n",
       "</div>"
      ],
      "text/plain": [
       "model        PI                             TRKNN                        \n",
       "var       p-unc -Log10 pvalue    qvalue     p-unc -Log10 pvalue    qvalue\n",
       "count 1,421.000     1,421.000 1,421.000 1,421.000     1,421.000 1,421.000\n",
       "mean      0.255         1.398     0.337     0.239         1.579     0.301\n",
       "std       0.295         1.584     0.320     0.294         1.800     0.317\n",
       "min       0.000         0.001     0.000     0.000         0.002     0.000\n",
       "25%       0.012         0.355     0.038     0.007         0.373     0.021\n",
       "50%       0.117         0.930     0.237     0.086         1.063     0.164\n",
       "75%       0.441         1.939     0.601     0.423         2.151     0.559\n",
       "max       0.997        18.964     0.997     0.996        19.900     0.997"
      ]
     },
     "execution_count": 12,
     "metadata": {},
     "output_type": "execute_result"
    }
   ],
   "source": [
    "scores.describe()"
   ]
  },
  {
   "cell_type": "markdown",
   "id": "e520d6dc",
   "metadata": {
    "papermill": {
     "duration": 0.040602,
     "end_time": "2024-08-19T09:56:57.545506",
     "exception": false,
     "start_time": "2024-08-19T09:56:57.504904",
     "status": "completed"
    },
    "tags": []
   },
   "source": [
    "and the boolean decision values"
   ]
  },
  {
   "cell_type": "code",
   "execution_count": 13,
   "id": "53bd5597-221c-4d54-abf2-82956db42594",
   "metadata": {
    "execution": {
     "iopub.execute_input": "2024-08-19T09:56:57.618179Z",
     "iopub.status.busy": "2024-08-19T09:56:57.617816Z",
     "iopub.status.idle": "2024-08-19T09:56:57.639258Z",
     "shell.execute_reply": "2024-08-19T09:56:57.638608Z"
    },
    "lines_to_next_cell": 2,
    "papermill": {
     "duration": 0.074712,
     "end_time": "2024-08-19T09:56:57.641390",
     "exception": false,
     "start_time": "2024-08-19T09:56:57.566678",
     "status": "completed"
    },
    "tags": [
     "hide-input"
    ]
   },
   "outputs": [
    {
     "data": {
      "text/html": [
       "<div>\n",
       "<style scoped>\n",
       "    .dataframe tbody tr th:only-of-type {\n",
       "        vertical-align: middle;\n",
       "    }\n",
       "\n",
       "    .dataframe tbody tr th {\n",
       "        vertical-align: top;\n",
       "    }\n",
       "\n",
       "    .dataframe thead tr th {\n",
       "        text-align: left;\n",
       "    }\n",
       "</style>\n",
       "<table border=\"1\" class=\"dataframe\">\n",
       "  <thead>\n",
       "    <tr>\n",
       "      <th>model</th>\n",
       "      <th>PI</th>\n",
       "      <th>TRKNN</th>\n",
       "    </tr>\n",
       "    <tr>\n",
       "      <th>var</th>\n",
       "      <th>rejected</th>\n",
       "      <th>rejected</th>\n",
       "    </tr>\n",
       "  </thead>\n",
       "  <tbody>\n",
       "    <tr>\n",
       "      <th>count</th>\n",
       "      <td>1421</td>\n",
       "      <td>1421</td>\n",
       "    </tr>\n",
       "    <tr>\n",
       "      <th>unique</th>\n",
       "      <td>2</td>\n",
       "      <td>2</td>\n",
       "    </tr>\n",
       "    <tr>\n",
       "      <th>top</th>\n",
       "      <td>False</td>\n",
       "      <td>False</td>\n",
       "    </tr>\n",
       "    <tr>\n",
       "      <th>freq</th>\n",
       "      <td>1029</td>\n",
       "      <td>936</td>\n",
       "    </tr>\n",
       "  </tbody>\n",
       "</table>\n",
       "</div>"
      ],
      "text/plain": [
       "model        PI    TRKNN\n",
       "var    rejected rejected\n",
       "count      1421     1421\n",
       "unique        2        2\n",
       "top       False    False\n",
       "freq       1029      936"
      ]
     },
     "execution_count": 13,
     "metadata": {},
     "output_type": "execute_result"
    }
   ],
   "source": [
    "scores.describe(include=['bool', 'O'])"
   ]
  },
  {
   "cell_type": "markdown",
   "id": "bef83742-05e5-473b-892e-dd286cb3a31f",
   "metadata": {
    "papermill": {
     "duration": 0.016388,
     "end_time": "2024-08-19T09:56:57.686858",
     "exception": false,
     "start_time": "2024-08-19T09:56:57.670470",
     "status": "completed"
    },
    "tags": []
   },
   "source": [
    "## Load frequencies of observed features"
   ]
  },
  {
   "cell_type": "code",
   "execution_count": 14,
   "id": "2a926ba1-0f3b-4089-a349-b6d66128cf37",
   "metadata": {
    "execution": {
     "iopub.execute_input": "2024-08-19T09:56:57.723278Z",
     "iopub.status.busy": "2024-08-19T09:56:57.722965Z",
     "iopub.status.idle": "2024-08-19T09:56:57.738923Z",
     "shell.execute_reply": "2024-08-19T09:56:57.738225Z"
    },
    "papermill": {
     "duration": 0.035336,
     "end_time": "2024-08-19T09:56:57.740699",
     "exception": false,
     "start_time": "2024-08-19T09:56:57.705363",
     "status": "completed"
    },
    "tags": [
     "hide-input"
    ]
   },
   "outputs": [
    {
     "data": {
      "text/html": [
       "<div>\n",
       "<style scoped>\n",
       "    .dataframe tbody tr th:only-of-type {\n",
       "        vertical-align: middle;\n",
       "    }\n",
       "\n",
       "    .dataframe tbody tr th {\n",
       "        vertical-align: top;\n",
       "    }\n",
       "\n",
       "    .dataframe thead tr th {\n",
       "        text-align: left;\n",
       "    }\n",
       "\n",
       "    .dataframe thead tr:last-of-type th {\n",
       "        text-align: right;\n",
       "    }\n",
       "</style>\n",
       "<table border=\"1\" class=\"dataframe\">\n",
       "  <thead>\n",
       "    <tr>\n",
       "      <th></th>\n",
       "      <th>data</th>\n",
       "    </tr>\n",
       "    <tr>\n",
       "      <th></th>\n",
       "      <th>frequency</th>\n",
       "    </tr>\n",
       "    <tr>\n",
       "      <th>protein groups</th>\n",
       "      <th></th>\n",
       "    </tr>\n",
       "  </thead>\n",
       "  <tbody>\n",
       "    <tr>\n",
       "      <th>A0A024QZX5;A0A087X1N8;P35237</th>\n",
       "      <td>186</td>\n",
       "    </tr>\n",
       "    <tr>\n",
       "      <th>A0A024R0T9;K7ER74;P02655</th>\n",
       "      <td>195</td>\n",
       "    </tr>\n",
       "    <tr>\n",
       "      <th>A0A024R3W6;A0A024R412;O60462;O60462-2;O60462-3;O60462-4;O60462-5;Q7LBX6;X5D2Q8</th>\n",
       "      <td>174</td>\n",
       "    </tr>\n",
       "    <tr>\n",
       "      <th>A0A024R644;A0A0A0MRU5;A0A1B0GWI2;O75503</th>\n",
       "      <td>196</td>\n",
       "    </tr>\n",
       "    <tr>\n",
       "      <th>A0A075B6H7</th>\n",
       "      <td>91</td>\n",
       "    </tr>\n",
       "    <tr>\n",
       "      <th>...</th>\n",
       "      <td>...</td>\n",
       "    </tr>\n",
       "    <tr>\n",
       "      <th>Q9Y6R7</th>\n",
       "      <td>197</td>\n",
       "    </tr>\n",
       "    <tr>\n",
       "      <th>Q9Y6X5</th>\n",
       "      <td>173</td>\n",
       "    </tr>\n",
       "    <tr>\n",
       "      <th>Q9Y6Y8;Q9Y6Y8-2</th>\n",
       "      <td>197</td>\n",
       "    </tr>\n",
       "    <tr>\n",
       "      <th>Q9Y6Y9</th>\n",
       "      <td>119</td>\n",
       "    </tr>\n",
       "    <tr>\n",
       "      <th>S4R3U6</th>\n",
       "      <td>126</td>\n",
       "    </tr>\n",
       "  </tbody>\n",
       "</table>\n",
       "<p>1421 rows × 1 columns</p>\n",
       "</div>"
      ],
      "text/plain": [
       "                                                        data\n",
       "                                                   frequency\n",
       "protein groups                                              \n",
       "A0A024QZX5;A0A087X1N8;P35237                             186\n",
       "A0A024R0T9;K7ER74;P02655                                 195\n",
       "A0A024R3W6;A0A024R412;O60462;O60462-2;O60462-3;...       174\n",
       "A0A024R644;A0A0A0MRU5;A0A1B0GWI2;O75503                  196\n",
       "A0A075B6H7                                                91\n",
       "...                                                      ...\n",
       "Q9Y6R7                                                   197\n",
       "Q9Y6X5                                                   173\n",
       "Q9Y6Y8;Q9Y6Y8-2                                          197\n",
       "Q9Y6Y9                                                   119\n",
       "S4R3U6                                                   126\n",
       "\n",
       "[1421 rows x 1 columns]"
      ]
     },
     "execution_count": 14,
     "metadata": {},
     "output_type": "execute_result"
    }
   ],
   "source": [
    "freq_feat = pd.read_csv(args.freq_features_observed, index_col=0)\n",
    "freq_feat.columns = pd.MultiIndex.from_tuples([('data', 'frequency'),])\n",
    "freq_feat"
   ]
  },
  {
   "cell_type": "markdown",
   "id": "408eacfe-770f-42ff-9057-2a98274e1ae3",
   "metadata": {
    "papermill": {
     "duration": 0.015808,
     "end_time": "2024-08-19T09:56:57.771264",
     "exception": false,
     "start_time": "2024-08-19T09:56:57.755456",
     "status": "completed"
    },
    "tags": []
   },
   "source": [
    "## Compare shared features"
   ]
  },
  {
   "cell_type": "code",
   "execution_count": 15,
   "id": "5b2dfb0f-195b-4044-a228-2d784ea2a458",
   "metadata": {
    "execution": {
     "iopub.execute_input": "2024-08-19T09:56:57.805002Z",
     "iopub.status.busy": "2024-08-19T09:56:57.804152Z",
     "iopub.status.idle": "2024-08-19T09:56:57.850210Z",
     "shell.execute_reply": "2024-08-19T09:56:57.849482Z"
    },
    "papermill": {
     "duration": 0.064652,
     "end_time": "2024-08-19T09:56:57.851894",
     "exception": false,
     "start_time": "2024-08-19T09:56:57.787242",
     "status": "completed"
    },
    "tags": [
     "hide-input"
    ]
   },
   "outputs": [
    {
     "data": {
      "text/html": [
       "<div>\n",
       "<style scoped>\n",
       "    .dataframe tbody tr th:only-of-type {\n",
       "        vertical-align: middle;\n",
       "    }\n",
       "\n",
       "    .dataframe tbody tr th {\n",
       "        vertical-align: top;\n",
       "    }\n",
       "\n",
       "    .dataframe thead tr th {\n",
       "        text-align: left;\n",
       "    }\n",
       "\n",
       "    .dataframe thead tr:last-of-type th {\n",
       "        text-align: right;\n",
       "    }\n",
       "</style>\n",
       "<table border=\"1\" class=\"dataframe\">\n",
       "  <thead>\n",
       "    <tr>\n",
       "      <th></th>\n",
       "      <th colspan=\"4\" halign=\"left\">PI</th>\n",
       "      <th colspan=\"4\" halign=\"left\">TRKNN</th>\n",
       "      <th>data</th>\n",
       "    </tr>\n",
       "    <tr>\n",
       "      <th></th>\n",
       "      <th>p-unc</th>\n",
       "      <th>-Log10 pvalue</th>\n",
       "      <th>qvalue</th>\n",
       "      <th>rejected</th>\n",
       "      <th>p-unc</th>\n",
       "      <th>-Log10 pvalue</th>\n",
       "      <th>qvalue</th>\n",
       "      <th>rejected</th>\n",
       "      <th>frequency</th>\n",
       "    </tr>\n",
       "    <tr>\n",
       "      <th>protein groups</th>\n",
       "      <th></th>\n",
       "      <th></th>\n",
       "      <th></th>\n",
       "      <th></th>\n",
       "      <th></th>\n",
       "      <th></th>\n",
       "      <th></th>\n",
       "      <th></th>\n",
       "      <th></th>\n",
       "    </tr>\n",
       "  </thead>\n",
       "  <tbody>\n",
       "    <tr>\n",
       "      <th>A0A024QZX5;A0A087X1N8;P35237</th>\n",
       "      <td>0.426</td>\n",
       "      <td>0.370</td>\n",
       "      <td>0.588</td>\n",
       "      <td>False</td>\n",
       "      <td>0.008</td>\n",
       "      <td>2.085</td>\n",
       "      <td>0.023</td>\n",
       "      <td>True</td>\n",
       "      <td>186</td>\n",
       "    </tr>\n",
       "    <tr>\n",
       "      <th>A0A024R0T9;K7ER74;P02655</th>\n",
       "      <td>0.039</td>\n",
       "      <td>1.406</td>\n",
       "      <td>0.101</td>\n",
       "      <td>False</td>\n",
       "      <td>0.031</td>\n",
       "      <td>1.512</td>\n",
       "      <td>0.071</td>\n",
       "      <td>False</td>\n",
       "      <td>195</td>\n",
       "    </tr>\n",
       "    <tr>\n",
       "      <th>A0A024R3W6;A0A024R412;O60462;O60462-2;O60462-3;O60462-4;O60462-5;Q7LBX6;X5D2Q8</th>\n",
       "      <td>0.063</td>\n",
       "      <td>1.204</td>\n",
       "      <td>0.145</td>\n",
       "      <td>False</td>\n",
       "      <td>0.264</td>\n",
       "      <td>0.578</td>\n",
       "      <td>0.394</td>\n",
       "      <td>False</td>\n",
       "      <td>174</td>\n",
       "    </tr>\n",
       "    <tr>\n",
       "      <th>A0A024R644;A0A0A0MRU5;A0A1B0GWI2;O75503</th>\n",
       "      <td>0.598</td>\n",
       "      <td>0.223</td>\n",
       "      <td>0.732</td>\n",
       "      <td>False</td>\n",
       "      <td>0.266</td>\n",
       "      <td>0.575</td>\n",
       "      <td>0.396</td>\n",
       "      <td>False</td>\n",
       "      <td>196</td>\n",
       "    </tr>\n",
       "    <tr>\n",
       "      <th>A0A075B6H7</th>\n",
       "      <td>0.109</td>\n",
       "      <td>0.964</td>\n",
       "      <td>0.223</td>\n",
       "      <td>False</td>\n",
       "      <td>0.020</td>\n",
       "      <td>1.707</td>\n",
       "      <td>0.048</td>\n",
       "      <td>True</td>\n",
       "      <td>91</td>\n",
       "    </tr>\n",
       "    <tr>\n",
       "      <th>...</th>\n",
       "      <td>...</td>\n",
       "      <td>...</td>\n",
       "      <td>...</td>\n",
       "      <td>...</td>\n",
       "      <td>...</td>\n",
       "      <td>...</td>\n",
       "      <td>...</td>\n",
       "      <td>...</td>\n",
       "      <td>...</td>\n",
       "    </tr>\n",
       "    <tr>\n",
       "      <th>Q9Y6R7</th>\n",
       "      <td>0.175</td>\n",
       "      <td>0.756</td>\n",
       "      <td>0.315</td>\n",
       "      <td>False</td>\n",
       "      <td>0.175</td>\n",
       "      <td>0.756</td>\n",
       "      <td>0.289</td>\n",
       "      <td>False</td>\n",
       "      <td>197</td>\n",
       "    </tr>\n",
       "    <tr>\n",
       "      <th>Q9Y6X5</th>\n",
       "      <td>0.025</td>\n",
       "      <td>1.602</td>\n",
       "      <td>0.071</td>\n",
       "      <td>False</td>\n",
       "      <td>0.113</td>\n",
       "      <td>0.946</td>\n",
       "      <td>0.205</td>\n",
       "      <td>False</td>\n",
       "      <td>173</td>\n",
       "    </tr>\n",
       "    <tr>\n",
       "      <th>Q9Y6Y8;Q9Y6Y8-2</th>\n",
       "      <td>0.083</td>\n",
       "      <td>1.079</td>\n",
       "      <td>0.182</td>\n",
       "      <td>False</td>\n",
       "      <td>0.083</td>\n",
       "      <td>1.079</td>\n",
       "      <td>0.160</td>\n",
       "      <td>False</td>\n",
       "      <td>197</td>\n",
       "    </tr>\n",
       "    <tr>\n",
       "      <th>Q9Y6Y9</th>\n",
       "      <td>0.408</td>\n",
       "      <td>0.390</td>\n",
       "      <td>0.569</td>\n",
       "      <td>False</td>\n",
       "      <td>0.334</td>\n",
       "      <td>0.476</td>\n",
       "      <td>0.472</td>\n",
       "      <td>False</td>\n",
       "      <td>119</td>\n",
       "    </tr>\n",
       "    <tr>\n",
       "      <th>S4R3U6</th>\n",
       "      <td>0.643</td>\n",
       "      <td>0.192</td>\n",
       "      <td>0.767</td>\n",
       "      <td>False</td>\n",
       "      <td>0.036</td>\n",
       "      <td>1.449</td>\n",
       "      <td>0.080</td>\n",
       "      <td>False</td>\n",
       "      <td>126</td>\n",
       "    </tr>\n",
       "  </tbody>\n",
       "</table>\n",
       "<p>1421 rows × 9 columns</p>\n",
       "</div>"
      ],
      "text/plain": [
       "                                                      PI                       \\\n",
       "                                                   p-unc -Log10 pvalue qvalue   \n",
       "protein groups                                                                  \n",
       "A0A024QZX5;A0A087X1N8;P35237                       0.426         0.370  0.588   \n",
       "A0A024R0T9;K7ER74;P02655                           0.039         1.406  0.101   \n",
       "A0A024R3W6;A0A024R412;O60462;O60462-2;O60462-3;... 0.063         1.204  0.145   \n",
       "A0A024R644;A0A0A0MRU5;A0A1B0GWI2;O75503            0.598         0.223  0.732   \n",
       "A0A075B6H7                                         0.109         0.964  0.223   \n",
       "...                                                  ...           ...    ...   \n",
       "Q9Y6R7                                             0.175         0.756  0.315   \n",
       "Q9Y6X5                                             0.025         1.602  0.071   \n",
       "Q9Y6Y8;Q9Y6Y8-2                                    0.083         1.079  0.182   \n",
       "Q9Y6Y9                                             0.408         0.390  0.569   \n",
       "S4R3U6                                             0.643         0.192  0.767   \n",
       "\n",
       "                                                            TRKNN  \\\n",
       "                                                   rejected p-unc   \n",
       "protein groups                                                      \n",
       "A0A024QZX5;A0A087X1N8;P35237                          False 0.008   \n",
       "A0A024R0T9;K7ER74;P02655                              False 0.031   \n",
       "A0A024R3W6;A0A024R412;O60462;O60462-2;O60462-3;...    False 0.264   \n",
       "A0A024R644;A0A0A0MRU5;A0A1B0GWI2;O75503               False 0.266   \n",
       "A0A075B6H7                                            False 0.020   \n",
       "...                                                     ...   ...   \n",
       "Q9Y6R7                                                False 0.175   \n",
       "Q9Y6X5                                                False 0.113   \n",
       "Q9Y6Y8;Q9Y6Y8-2                                       False 0.083   \n",
       "Q9Y6Y9                                                False 0.334   \n",
       "S4R3U6                                                False 0.036   \n",
       "\n",
       "                                                                         \\\n",
       "                                                   -Log10 pvalue qvalue   \n",
       "protein groups                                                            \n",
       "A0A024QZX5;A0A087X1N8;P35237                               2.085  0.023   \n",
       "A0A024R0T9;K7ER74;P02655                                   1.512  0.071   \n",
       "A0A024R3W6;A0A024R412;O60462;O60462-2;O60462-3;...         0.578  0.394   \n",
       "A0A024R644;A0A0A0MRU5;A0A1B0GWI2;O75503                    0.575  0.396   \n",
       "A0A075B6H7                                                 1.707  0.048   \n",
       "...                                                          ...    ...   \n",
       "Q9Y6R7                                                     0.756  0.289   \n",
       "Q9Y6X5                                                     0.946  0.205   \n",
       "Q9Y6Y8;Q9Y6Y8-2                                            1.079  0.160   \n",
       "Q9Y6Y9                                                     0.476  0.472   \n",
       "S4R3U6                                                     1.449  0.080   \n",
       "\n",
       "                                                                 data  \n",
       "                                                   rejected frequency  \n",
       "protein groups                                                         \n",
       "A0A024QZX5;A0A087X1N8;P35237                           True       186  \n",
       "A0A024R0T9;K7ER74;P02655                              False       195  \n",
       "A0A024R3W6;A0A024R412;O60462;O60462-2;O60462-3;...    False       174  \n",
       "A0A024R644;A0A0A0MRU5;A0A1B0GWI2;O75503               False       196  \n",
       "A0A075B6H7                                             True        91  \n",
       "...                                                     ...       ...  \n",
       "Q9Y6R7                                                False       197  \n",
       "Q9Y6X5                                                False       173  \n",
       "Q9Y6Y8;Q9Y6Y8-2                                       False       197  \n",
       "Q9Y6Y9                                                False       119  \n",
       "S4R3U6                                                False       126  \n",
       "\n",
       "[1421 rows x 9 columns]"
      ]
     },
     "execution_count": 15,
     "metadata": {},
     "output_type": "execute_result"
    }
   ],
   "source": [
    "scores_common = (scores\n",
    "                 .dropna()\n",
    "                 .reset_index(-1, drop=True)\n",
    "                 ).join(\n",
    "    freq_feat, how='left'\n",
    ")\n",
    "scores_common"
   ]
  },
  {
   "cell_type": "markdown",
   "id": "62a9eefd",
   "metadata": {
    "papermill": {
     "duration": 0.017631,
     "end_time": "2024-08-19T09:56:57.912624",
     "exception": false,
     "start_time": "2024-08-19T09:56:57.894993",
     "status": "completed"
    },
    "tags": []
   },
   "source": [
    "### Annotate decisions in Confusion Table style:"
   ]
  },
  {
   "cell_type": "code",
   "execution_count": 16,
   "id": "80cf4145-070d-457a-bb74-ee64299809e7",
   "metadata": {
    "execution": {
     "iopub.execute_input": "2024-08-19T09:56:57.947371Z",
     "iopub.status.busy": "2024-08-19T09:56:57.947066Z",
     "iopub.status.idle": "2024-08-19T09:56:57.959796Z",
     "shell.execute_reply": "2024-08-19T09:56:57.959172Z"
    },
    "papermill": {
     "duration": 0.031765,
     "end_time": "2024-08-19T09:56:57.961521",
     "exception": false,
     "start_time": "2024-08-19T09:56:57.929756",
     "status": "completed"
    },
    "tags": [
     "hide-input"
    ]
   },
   "outputs": [
    {
     "data": {
      "text/plain": [
       "Differential Analysis Comparison\n",
       "PI (no)  - TRKNN (no)    880\n",
       "PI (yes) - TRKNN (yes)   336\n",
       "PI (no)  - TRKNN (yes)   149\n",
       "PI (yes) - TRKNN (no)     56\n",
       "Name: count, dtype: int64"
      ]
     },
     "execution_count": 16,
     "metadata": {},
     "output_type": "execute_result"
    }
   ],
   "source": [
    "def annotate_decision(scores, model, model_column):\n",
    "    return scores[(model_column, 'rejected')].replace({False: f'{model} (no) ', True: f'{model} (yes)'})\n",
    "\n",
    "\n",
    "annotations = None\n",
    "for model, model_column in models.items():\n",
    "    if annotations is not None:\n",
    "        annotations += ' - '\n",
    "        annotations += annotate_decision(scores_common,\n",
    "                                         model=model, model_column=model_column)\n",
    "    else:\n",
    "        annotations = annotate_decision(\n",
    "            scores_common, model=model, model_column=model_column)\n",
    "annotations.name = 'Differential Analysis Comparison'\n",
    "annotations.value_counts()"
   ]
  },
  {
   "cell_type": "markdown",
   "id": "0942d395",
   "metadata": {
    "papermill": {
     "duration": 0.055882,
     "end_time": "2024-08-19T09:56:58.040044",
     "exception": false,
     "start_time": "2024-08-19T09:56:57.984162",
     "status": "completed"
    },
    "tags": []
   },
   "source": [
    "### List different decisions between models"
   ]
  },
  {
   "cell_type": "code",
   "execution_count": 17,
   "id": "cda5ffa4-9a97-4a49-aaba-34e83ef7940a",
   "metadata": {
    "execution": {
     "iopub.execute_input": "2024-08-19T09:56:58.076245Z",
     "iopub.status.busy": "2024-08-19T09:56:58.075972Z",
     "iopub.status.idle": "2024-08-19T09:56:58.203919Z",
     "shell.execute_reply": "2024-08-19T09:56:58.203328Z"
    },
    "papermill": {
     "duration": 0.147214,
     "end_time": "2024-08-19T09:56:58.205530",
     "exception": false,
     "start_time": "2024-08-19T09:56:58.058316",
     "status": "completed"
    },
    "tags": [
     "hide-input"
    ]
   },
   "outputs": [
    {
     "name": "stderr",
     "output_type": "stream",
     "text": [
      "/tmp/ipykernel_50173/1417621106.py:6: FutureWarning: Starting with pandas version 3.0 all arguments of to_excel except for the argument 'excel_writer' will be keyword-only.\n",
      "  _to_write.to_excel(writer, 'differences', **writer_args)\n",
      "root - INFO     Writen to Excel file under sheet 'differences'.\n"
     ]
    },
    {
     "data": {
      "text/html": [
       "<div>\n",
       "<style scoped>\n",
       "    .dataframe tbody tr th:only-of-type {\n",
       "        vertical-align: middle;\n",
       "    }\n",
       "\n",
       "    .dataframe tbody tr th {\n",
       "        vertical-align: top;\n",
       "    }\n",
       "\n",
       "    .dataframe thead tr th {\n",
       "        text-align: left;\n",
       "    }\n",
       "\n",
       "    .dataframe thead tr:last-of-type th {\n",
       "        text-align: right;\n",
       "    }\n",
       "</style>\n",
       "<table border=\"1\" class=\"dataframe\">\n",
       "  <thead>\n",
       "    <tr>\n",
       "      <th></th>\n",
       "      <th colspan=\"4\" halign=\"left\">PI</th>\n",
       "      <th colspan=\"4\" halign=\"left\">TRKNN</th>\n",
       "      <th>data</th>\n",
       "    </tr>\n",
       "    <tr>\n",
       "      <th></th>\n",
       "      <th>p-unc</th>\n",
       "      <th>-Log10 pvalue</th>\n",
       "      <th>qvalue</th>\n",
       "      <th>rejected</th>\n",
       "      <th>p-unc</th>\n",
       "      <th>-Log10 pvalue</th>\n",
       "      <th>qvalue</th>\n",
       "      <th>rejected</th>\n",
       "      <th>frequency</th>\n",
       "    </tr>\n",
       "    <tr>\n",
       "      <th>protein groups</th>\n",
       "      <th></th>\n",
       "      <th></th>\n",
       "      <th></th>\n",
       "      <th></th>\n",
       "      <th></th>\n",
       "      <th></th>\n",
       "      <th></th>\n",
       "      <th></th>\n",
       "      <th></th>\n",
       "    </tr>\n",
       "  </thead>\n",
       "  <tbody>\n",
       "    <tr>\n",
       "      <th>A0A024QZX5;A0A087X1N8;P35237</th>\n",
       "      <td>0.426</td>\n",
       "      <td>0.370</td>\n",
       "      <td>0.588</td>\n",
       "      <td>False</td>\n",
       "      <td>0.008</td>\n",
       "      <td>2.085</td>\n",
       "      <td>0.023</td>\n",
       "      <td>True</td>\n",
       "      <td>186</td>\n",
       "    </tr>\n",
       "    <tr>\n",
       "      <th>A0A075B6H7</th>\n",
       "      <td>0.109</td>\n",
       "      <td>0.964</td>\n",
       "      <td>0.223</td>\n",
       "      <td>False</td>\n",
       "      <td>0.020</td>\n",
       "      <td>1.707</td>\n",
       "      <td>0.048</td>\n",
       "      <td>True</td>\n",
       "      <td>91</td>\n",
       "    </tr>\n",
       "    <tr>\n",
       "      <th>A0A075B6I0</th>\n",
       "      <td>0.017</td>\n",
       "      <td>1.769</td>\n",
       "      <td>0.052</td>\n",
       "      <td>False</td>\n",
       "      <td>0.001</td>\n",
       "      <td>3.243</td>\n",
       "      <td>0.002</td>\n",
       "      <td>True</td>\n",
       "      <td>194</td>\n",
       "    </tr>\n",
       "    <tr>\n",
       "      <th>A0A075B6J9</th>\n",
       "      <td>0.044</td>\n",
       "      <td>1.352</td>\n",
       "      <td>0.111</td>\n",
       "      <td>False</td>\n",
       "      <td>0.009</td>\n",
       "      <td>2.040</td>\n",
       "      <td>0.026</td>\n",
       "      <td>True</td>\n",
       "      <td>156</td>\n",
       "    </tr>\n",
       "    <tr>\n",
       "      <th>A0A075B6Q5</th>\n",
       "      <td>0.526</td>\n",
       "      <td>0.279</td>\n",
       "      <td>0.673</td>\n",
       "      <td>False</td>\n",
       "      <td>0.002</td>\n",
       "      <td>2.639</td>\n",
       "      <td>0.008</td>\n",
       "      <td>True</td>\n",
       "      <td>104</td>\n",
       "    </tr>\n",
       "    <tr>\n",
       "      <th>...</th>\n",
       "      <td>...</td>\n",
       "      <td>...</td>\n",
       "      <td>...</td>\n",
       "      <td>...</td>\n",
       "      <td>...</td>\n",
       "      <td>...</td>\n",
       "      <td>...</td>\n",
       "      <td>...</td>\n",
       "      <td>...</td>\n",
       "    </tr>\n",
       "    <tr>\n",
       "      <th>Q9ULP0-3;Q9ULP0-6</th>\n",
       "      <td>0.016</td>\n",
       "      <td>1.789</td>\n",
       "      <td>0.050</td>\n",
       "      <td>False</td>\n",
       "      <td>0.000</td>\n",
       "      <td>3.410</td>\n",
       "      <td>0.002</td>\n",
       "      <td>True</td>\n",
       "      <td>136</td>\n",
       "    </tr>\n",
       "    <tr>\n",
       "      <th>Q9UNW1</th>\n",
       "      <td>0.005</td>\n",
       "      <td>2.340</td>\n",
       "      <td>0.018</td>\n",
       "      <td>True</td>\n",
       "      <td>0.912</td>\n",
       "      <td>0.040</td>\n",
       "      <td>0.944</td>\n",
       "      <td>False</td>\n",
       "      <td>171</td>\n",
       "    </tr>\n",
       "    <tr>\n",
       "      <th>Q9UP79</th>\n",
       "      <td>0.167</td>\n",
       "      <td>0.778</td>\n",
       "      <td>0.304</td>\n",
       "      <td>False</td>\n",
       "      <td>0.000</td>\n",
       "      <td>4.258</td>\n",
       "      <td>0.000</td>\n",
       "      <td>True</td>\n",
       "      <td>135</td>\n",
       "    </tr>\n",
       "    <tr>\n",
       "      <th>Q9UQ52</th>\n",
       "      <td>0.146</td>\n",
       "      <td>0.835</td>\n",
       "      <td>0.276</td>\n",
       "      <td>False</td>\n",
       "      <td>0.001</td>\n",
       "      <td>3.136</td>\n",
       "      <td>0.003</td>\n",
       "      <td>True</td>\n",
       "      <td>188</td>\n",
       "    </tr>\n",
       "    <tr>\n",
       "      <th>Q9Y6C2</th>\n",
       "      <td>0.791</td>\n",
       "      <td>0.102</td>\n",
       "      <td>0.872</td>\n",
       "      <td>False</td>\n",
       "      <td>0.002</td>\n",
       "      <td>2.626</td>\n",
       "      <td>0.008</td>\n",
       "      <td>True</td>\n",
       "      <td>119</td>\n",
       "    </tr>\n",
       "  </tbody>\n",
       "</table>\n",
       "<p>205 rows × 9 columns</p>\n",
       "</div>"
      ],
      "text/plain": [
       "                                PI                               TRKNN  \\\n",
       "                             p-unc -Log10 pvalue qvalue rejected p-unc   \n",
       "protein groups                                                           \n",
       "A0A024QZX5;A0A087X1N8;P35237 0.426         0.370  0.588    False 0.008   \n",
       "A0A075B6H7                   0.109         0.964  0.223    False 0.020   \n",
       "A0A075B6I0                   0.017         1.769  0.052    False 0.001   \n",
       "A0A075B6J9                   0.044         1.352  0.111    False 0.009   \n",
       "A0A075B6Q5                   0.526         0.279  0.673    False 0.002   \n",
       "...                            ...           ...    ...      ...   ...   \n",
       "Q9ULP0-3;Q9ULP0-6            0.016         1.789  0.050    False 0.000   \n",
       "Q9UNW1                       0.005         2.340  0.018     True 0.912   \n",
       "Q9UP79                       0.167         0.778  0.304    False 0.000   \n",
       "Q9UQ52                       0.146         0.835  0.276    False 0.001   \n",
       "Q9Y6C2                       0.791         0.102  0.872    False 0.002   \n",
       "\n",
       "                                                                data  \n",
       "                             -Log10 pvalue qvalue rejected frequency  \n",
       "protein groups                                                        \n",
       "A0A024QZX5;A0A087X1N8;P35237         2.085  0.023     True       186  \n",
       "A0A075B6H7                           1.707  0.048     True        91  \n",
       "A0A075B6I0                           3.243  0.002     True       194  \n",
       "A0A075B6J9                           2.040  0.026     True       156  \n",
       "A0A075B6Q5                           2.639  0.008     True       104  \n",
       "...                                    ...    ...      ...       ...  \n",
       "Q9ULP0-3;Q9ULP0-6                    3.410  0.002     True       136  \n",
       "Q9UNW1                               0.040  0.944    False       171  \n",
       "Q9UP79                               4.258  0.000     True       135  \n",
       "Q9UQ52                               3.136  0.003     True       188  \n",
       "Q9Y6C2                               2.626  0.008     True       119  \n",
       "\n",
       "[205 rows x 9 columns]"
      ]
     },
     "execution_count": 17,
     "metadata": {},
     "output_type": "execute_result"
    }
   ],
   "source": [
    "mask_different = (\n",
    "    (scores_common.loc[:, pd.IndexSlice[:, 'rejected']].any(axis=1))\n",
    "    & ~(scores_common.loc[:, pd.IndexSlice[:, 'rejected']].all(axis=1))\n",
    ")\n",
    "_to_write = scores_common.loc[mask_different]\n",
    "_to_write.to_excel(writer, 'differences', **writer_args)\n",
    "logger.info(\"Writen to Excel file under sheet 'differences'.\")\n",
    "_to_write"
   ]
  },
  {
   "cell_type": "markdown",
   "id": "e8832084",
   "metadata": {
    "papermill": {
     "duration": 0.01703,
     "end_time": "2024-08-19T09:56:58.239916",
     "exception": false,
     "start_time": "2024-08-19T09:56:58.222886",
     "status": "completed"
    },
    "tags": []
   },
   "source": [
    "## Plot qvalues of both models with annotated decisions\n",
    "\n",
    "Prepare data for plotting (qvalues)"
   ]
  },
  {
   "cell_type": "code",
   "execution_count": 18,
   "id": "5b2e5341-b054-40c3-b45a-44ae6ca46cfb",
   "metadata": {
    "execution": {
     "iopub.execute_input": "2024-08-19T09:56:58.276635Z",
     "iopub.status.busy": "2024-08-19T09:56:58.276271Z",
     "iopub.status.idle": "2024-08-19T09:56:58.291099Z",
     "shell.execute_reply": "2024-08-19T09:56:58.290470Z"
    },
    "papermill": {
     "duration": 0.034471,
     "end_time": "2024-08-19T09:56:58.292579",
     "exception": false,
     "start_time": "2024-08-19T09:56:58.258108",
     "status": "completed"
    },
    "tags": [
     "hide-input"
    ]
   },
   "outputs": [
    {
     "data": {
      "text/html": [
       "<div>\n",
       "<style scoped>\n",
       "    .dataframe tbody tr th:only-of-type {\n",
       "        vertical-align: middle;\n",
       "    }\n",
       "\n",
       "    .dataframe tbody tr th {\n",
       "        vertical-align: top;\n",
       "    }\n",
       "\n",
       "    .dataframe thead th {\n",
       "        text-align: right;\n",
       "    }\n",
       "</style>\n",
       "<table border=\"1\" class=\"dataframe\">\n",
       "  <thead>\n",
       "    <tr style=\"text-align: right;\">\n",
       "      <th></th>\n",
       "      <th>PI</th>\n",
       "      <th>TRKNN</th>\n",
       "      <th>frequency</th>\n",
       "      <th>Differential Analysis Comparison</th>\n",
       "    </tr>\n",
       "    <tr>\n",
       "      <th>protein groups</th>\n",
       "      <th></th>\n",
       "      <th></th>\n",
       "      <th></th>\n",
       "      <th></th>\n",
       "    </tr>\n",
       "  </thead>\n",
       "  <tbody>\n",
       "    <tr>\n",
       "      <th>A0A024QZX5;A0A087X1N8;P35237</th>\n",
       "      <td>0.588</td>\n",
       "      <td>0.023</td>\n",
       "      <td>186</td>\n",
       "      <td>PI (no)  - TRKNN (yes)</td>\n",
       "    </tr>\n",
       "    <tr>\n",
       "      <th>A0A024R0T9;K7ER74;P02655</th>\n",
       "      <td>0.101</td>\n",
       "      <td>0.071</td>\n",
       "      <td>195</td>\n",
       "      <td>PI (no)  - TRKNN (no)</td>\n",
       "    </tr>\n",
       "    <tr>\n",
       "      <th>A0A024R3W6;A0A024R412;O60462;O60462-2;O60462-3;O60462-4;O60462-5;Q7LBX6;X5D2Q8</th>\n",
       "      <td>0.145</td>\n",
       "      <td>0.394</td>\n",
       "      <td>174</td>\n",
       "      <td>PI (no)  - TRKNN (no)</td>\n",
       "    </tr>\n",
       "    <tr>\n",
       "      <th>A0A024R644;A0A0A0MRU5;A0A1B0GWI2;O75503</th>\n",
       "      <td>0.732</td>\n",
       "      <td>0.396</td>\n",
       "      <td>196</td>\n",
       "      <td>PI (no)  - TRKNN (no)</td>\n",
       "    </tr>\n",
       "    <tr>\n",
       "      <th>A0A075B6H7</th>\n",
       "      <td>0.223</td>\n",
       "      <td>0.048</td>\n",
       "      <td>91</td>\n",
       "      <td>PI (no)  - TRKNN (yes)</td>\n",
       "    </tr>\n",
       "    <tr>\n",
       "      <th>...</th>\n",
       "      <td>...</td>\n",
       "      <td>...</td>\n",
       "      <td>...</td>\n",
       "      <td>...</td>\n",
       "    </tr>\n",
       "    <tr>\n",
       "      <th>Q9Y6R7</th>\n",
       "      <td>0.315</td>\n",
       "      <td>0.289</td>\n",
       "      <td>197</td>\n",
       "      <td>PI (no)  - TRKNN (no)</td>\n",
       "    </tr>\n",
       "    <tr>\n",
       "      <th>Q9Y6X5</th>\n",
       "      <td>0.071</td>\n",
       "      <td>0.205</td>\n",
       "      <td>173</td>\n",
       "      <td>PI (no)  - TRKNN (no)</td>\n",
       "    </tr>\n",
       "    <tr>\n",
       "      <th>Q9Y6Y8;Q9Y6Y8-2</th>\n",
       "      <td>0.182</td>\n",
       "      <td>0.160</td>\n",
       "      <td>197</td>\n",
       "      <td>PI (no)  - TRKNN (no)</td>\n",
       "    </tr>\n",
       "    <tr>\n",
       "      <th>Q9Y6Y9</th>\n",
       "      <td>0.569</td>\n",
       "      <td>0.472</td>\n",
       "      <td>119</td>\n",
       "      <td>PI (no)  - TRKNN (no)</td>\n",
       "    </tr>\n",
       "    <tr>\n",
       "      <th>S4R3U6</th>\n",
       "      <td>0.767</td>\n",
       "      <td>0.080</td>\n",
       "      <td>126</td>\n",
       "      <td>PI (no)  - TRKNN (no)</td>\n",
       "    </tr>\n",
       "  </tbody>\n",
       "</table>\n",
       "<p>1421 rows × 4 columns</p>\n",
       "</div>"
      ],
      "text/plain": [
       "                                                      PI  TRKNN  frequency  \\\n",
       "protein groups                                                               \n",
       "A0A024QZX5;A0A087X1N8;P35237                       0.588  0.023        186   \n",
       "A0A024R0T9;K7ER74;P02655                           0.101  0.071        195   \n",
       "A0A024R3W6;A0A024R412;O60462;O60462-2;O60462-3;... 0.145  0.394        174   \n",
       "A0A024R644;A0A0A0MRU5;A0A1B0GWI2;O75503            0.732  0.396        196   \n",
       "A0A075B6H7                                         0.223  0.048         91   \n",
       "...                                                  ...    ...        ...   \n",
       "Q9Y6R7                                             0.315  0.289        197   \n",
       "Q9Y6X5                                             0.071  0.205        173   \n",
       "Q9Y6Y8;Q9Y6Y8-2                                    0.182  0.160        197   \n",
       "Q9Y6Y9                                             0.569  0.472        119   \n",
       "S4R3U6                                             0.767  0.080        126   \n",
       "\n",
       "                                                   Differential Analysis Comparison  \n",
       "protein groups                                                                       \n",
       "A0A024QZX5;A0A087X1N8;P35237                                 PI (no)  - TRKNN (yes)  \n",
       "A0A024R0T9;K7ER74;P02655                                     PI (no)  - TRKNN (no)   \n",
       "A0A024R3W6;A0A024R412;O60462;O60462-2;O60462-3;...           PI (no)  - TRKNN (no)   \n",
       "A0A024R644;A0A0A0MRU5;A0A1B0GWI2;O75503                      PI (no)  - TRKNN (no)   \n",
       "A0A075B6H7                                                   PI (no)  - TRKNN (yes)  \n",
       "...                                                                             ...  \n",
       "Q9Y6R7                                                       PI (no)  - TRKNN (no)   \n",
       "Q9Y6X5                                                       PI (no)  - TRKNN (no)   \n",
       "Q9Y6Y8;Q9Y6Y8-2                                              PI (no)  - TRKNN (no)   \n",
       "Q9Y6Y9                                                       PI (no)  - TRKNN (no)   \n",
       "S4R3U6                                                       PI (no)  - TRKNN (no)   \n",
       "\n",
       "[1421 rows x 4 columns]"
      ]
     },
     "execution_count": 18,
     "metadata": {},
     "output_type": "execute_result"
    }
   ],
   "source": [
    "var = 'qvalue'\n",
    "to_plot = [scores_common[v][var] for v in models.values()]\n",
    "for s, k in zip(to_plot, models.keys()):\n",
    "    s.name = k.replace('_', ' ')\n",
    "to_plot.append(scores_common['data'])\n",
    "to_plot.append(annotations)\n",
    "to_plot = pd.concat(to_plot, axis=1)\n",
    "to_plot"
   ]
  },
  {
   "cell_type": "markdown",
   "id": "c92517a4-8456-4663-b719-4abd997fbb1c",
   "metadata": {
    "papermill": {
     "duration": 0.01696,
     "end_time": "2024-08-19T09:56:58.327488",
     "exception": false,
     "start_time": "2024-08-19T09:56:58.310528",
     "status": "completed"
    },
    "tags": []
   },
   "source": [
    "List of features with the highest difference in qvalues"
   ]
  },
  {
   "cell_type": "code",
   "execution_count": 19,
   "id": "c7af4a70-aa43-4772-af00-d425f5ed249f",
   "metadata": {
    "execution": {
     "iopub.execute_input": "2024-08-19T09:56:58.363413Z",
     "iopub.status.busy": "2024-08-19T09:56:58.363116Z",
     "iopub.status.idle": "2024-08-19T09:56:58.375667Z",
     "shell.execute_reply": "2024-08-19T09:56:58.375036Z"
    },
    "papermill": {
     "duration": 0.032353,
     "end_time": "2024-08-19T09:56:58.377322",
     "exception": false,
     "start_time": "2024-08-19T09:56:58.344969",
     "status": "completed"
    },
    "tags": [
     "hide-input"
    ]
   },
   "outputs": [
    {
     "data": {
      "text/html": [
       "<div>\n",
       "<style scoped>\n",
       "    .dataframe tbody tr th:only-of-type {\n",
       "        vertical-align: middle;\n",
       "    }\n",
       "\n",
       "    .dataframe tbody tr th {\n",
       "        vertical-align: top;\n",
       "    }\n",
       "\n",
       "    .dataframe thead th {\n",
       "        text-align: right;\n",
       "    }\n",
       "</style>\n",
       "<table border=\"1\" class=\"dataframe\">\n",
       "  <thead>\n",
       "    <tr style=\"text-align: right;\">\n",
       "      <th></th>\n",
       "      <th>PI</th>\n",
       "      <th>TRKNN</th>\n",
       "      <th>frequency</th>\n",
       "      <th>Differential Analysis Comparison</th>\n",
       "      <th>diff_qvalue</th>\n",
       "    </tr>\n",
       "    <tr>\n",
       "      <th>protein groups</th>\n",
       "      <th></th>\n",
       "      <th></th>\n",
       "      <th></th>\n",
       "      <th></th>\n",
       "      <th></th>\n",
       "    </tr>\n",
       "  </thead>\n",
       "  <tbody>\n",
       "    <tr>\n",
       "      <th>A6NCT7;Q07092;Q07092-2</th>\n",
       "      <td>0.991</td>\n",
       "      <td>0.001</td>\n",
       "      <td>147</td>\n",
       "      <td>PI (no)  - TRKNN (yes)</td>\n",
       "      <td>0.990</td>\n",
       "    </tr>\n",
       "    <tr>\n",
       "      <th>O00187;O00187-2</th>\n",
       "      <td>0.996</td>\n",
       "      <td>0.037</td>\n",
       "      <td>119</td>\n",
       "      <td>PI (no)  - TRKNN (yes)</td>\n",
       "      <td>0.959</td>\n",
       "    </tr>\n",
       "    <tr>\n",
       "      <th>Q16853;Q16853-2</th>\n",
       "      <td>0.977</td>\n",
       "      <td>0.021</td>\n",
       "      <td>167</td>\n",
       "      <td>PI (no)  - TRKNN (yes)</td>\n",
       "      <td>0.956</td>\n",
       "    </tr>\n",
       "    <tr>\n",
       "      <th>I3L3J8;P14415</th>\n",
       "      <td>0.037</td>\n",
       "      <td>0.989</td>\n",
       "      <td>100</td>\n",
       "      <td>PI (yes) - TRKNN (no)</td>\n",
       "      <td>0.952</td>\n",
       "    </tr>\n",
       "    <tr>\n",
       "      <th>Q9NPH3;Q9NPH3-2;Q9NPH3-5</th>\n",
       "      <td>0.971</td>\n",
       "      <td>0.032</td>\n",
       "      <td>186</td>\n",
       "      <td>PI (no)  - TRKNN (yes)</td>\n",
       "      <td>0.939</td>\n",
       "    </tr>\n",
       "    <tr>\n",
       "      <th>...</th>\n",
       "      <td>...</td>\n",
       "      <td>...</td>\n",
       "      <td>...</td>\n",
       "      <td>...</td>\n",
       "      <td>...</td>\n",
       "    </tr>\n",
       "    <tr>\n",
       "      <th>A0A0J9YXX1</th>\n",
       "      <td>0.058</td>\n",
       "      <td>0.048</td>\n",
       "      <td>197</td>\n",
       "      <td>PI (no)  - TRKNN (yes)</td>\n",
       "      <td>0.010</td>\n",
       "    </tr>\n",
       "    <tr>\n",
       "      <th>F5GY80;F5H7G1;P07358</th>\n",
       "      <td>0.057</td>\n",
       "      <td>0.047</td>\n",
       "      <td>197</td>\n",
       "      <td>PI (no)  - TRKNN (yes)</td>\n",
       "      <td>0.010</td>\n",
       "    </tr>\n",
       "    <tr>\n",
       "      <th>Q9NX62</th>\n",
       "      <td>0.056</td>\n",
       "      <td>0.046</td>\n",
       "      <td>197</td>\n",
       "      <td>PI (no)  - TRKNN (yes)</td>\n",
       "      <td>0.010</td>\n",
       "    </tr>\n",
       "    <tr>\n",
       "      <th>P00740;P00740-2</th>\n",
       "      <td>0.053</td>\n",
       "      <td>0.044</td>\n",
       "      <td>197</td>\n",
       "      <td>PI (no)  - TRKNN (yes)</td>\n",
       "      <td>0.009</td>\n",
       "    </tr>\n",
       "    <tr>\n",
       "      <th>K7ERG9;P00746</th>\n",
       "      <td>0.052</td>\n",
       "      <td>0.043</td>\n",
       "      <td>197</td>\n",
       "      <td>PI (no)  - TRKNN (yes)</td>\n",
       "      <td>0.009</td>\n",
       "    </tr>\n",
       "  </tbody>\n",
       "</table>\n",
       "<p>205 rows × 5 columns</p>\n",
       "</div>"
      ],
      "text/plain": [
       "                            PI  TRKNN  frequency  \\\n",
       "protein groups                                     \n",
       "A6NCT7;Q07092;Q07092-2   0.991  0.001        147   \n",
       "O00187;O00187-2          0.996  0.037        119   \n",
       "Q16853;Q16853-2          0.977  0.021        167   \n",
       "I3L3J8;P14415            0.037  0.989        100   \n",
       "Q9NPH3;Q9NPH3-2;Q9NPH3-5 0.971  0.032        186   \n",
       "...                        ...    ...        ...   \n",
       "A0A0J9YXX1               0.058  0.048        197   \n",
       "F5GY80;F5H7G1;P07358     0.057  0.047        197   \n",
       "Q9NX62                   0.056  0.046        197   \n",
       "P00740;P00740-2          0.053  0.044        197   \n",
       "K7ERG9;P00746            0.052  0.043        197   \n",
       "\n",
       "                         Differential Analysis Comparison  diff_qvalue  \n",
       "protein groups                                                          \n",
       "A6NCT7;Q07092;Q07092-2             PI (no)  - TRKNN (yes)        0.990  \n",
       "O00187;O00187-2                    PI (no)  - TRKNN (yes)        0.959  \n",
       "Q16853;Q16853-2                    PI (no)  - TRKNN (yes)        0.956  \n",
       "I3L3J8;P14415                      PI (yes) - TRKNN (no)         0.952  \n",
       "Q9NPH3;Q9NPH3-2;Q9NPH3-5           PI (no)  - TRKNN (yes)        0.939  \n",
       "...                                                   ...          ...  \n",
       "A0A0J9YXX1                         PI (no)  - TRKNN (yes)        0.010  \n",
       "F5GY80;F5H7G1;P07358               PI (no)  - TRKNN (yes)        0.010  \n",
       "Q9NX62                             PI (no)  - TRKNN (yes)        0.010  \n",
       "P00740;P00740-2                    PI (no)  - TRKNN (yes)        0.009  \n",
       "K7ERG9;P00746                      PI (no)  - TRKNN (yes)        0.009  \n",
       "\n",
       "[205 rows x 5 columns]"
      ]
     },
     "execution_count": 19,
     "metadata": {},
     "output_type": "execute_result"
    }
   ],
   "source": [
    "# should it be possible to run not only RSN?\n",
    "to_plot['diff_qvalue'] = (to_plot[str(args.baseline)] - to_plot[str(args.model_key)]).abs()\n",
    "to_plot.loc[mask_different].sort_values('diff_qvalue', ascending=False)"
   ]
  },
  {
   "cell_type": "markdown",
   "id": "e715954e-2d62-4cd9-b4b0-063524bca495",
   "metadata": {
    "papermill": {
     "duration": 0.01811,
     "end_time": "2024-08-19T09:56:58.415145",
     "exception": false,
     "start_time": "2024-08-19T09:56:58.397035",
     "status": "completed"
    },
    "tags": []
   },
   "source": [
    "### Differences plotted with created annotations"
   ]
  },
  {
   "cell_type": "code",
   "execution_count": 20,
   "id": "a20d356d-c397-4440-b70e-9d899aa200fd",
   "metadata": {
    "execution": {
     "iopub.execute_input": "2024-08-19T09:56:58.474965Z",
     "iopub.status.busy": "2024-08-19T09:56:58.474513Z",
     "iopub.status.idle": "2024-08-19T09:57:01.133471Z",
     "shell.execute_reply": "2024-08-19T09:57:01.132755Z"
    },
    "papermill": {
     "duration": 2.702199,
     "end_time": "2024-08-19T09:57:01.135345",
     "exception": false,
     "start_time": "2024-08-19T09:56:58.433146",
     "status": "completed"
    },
    "tags": [
     "hide-input"
    ]
   },
   "outputs": [
    {
     "name": "stderr",
     "output_type": "stream",
     "text": [
      "pimmslearn.plotting - INFO     Saved Figures to runs/alzheimer_study/diff_analysis/AD/PI_vs_TRKNN/diff_analysis_comparision_1_TRKNN\n"
     ]
    },
    {
     "data": {
      "image/png": "[encoded data removed]",
      "text/plain": [
       "<Figure size 588x588 with 1 Axes>"
      ]
     },
     "metadata": {},
     "output_type": "display_data"
    }
   ],
   "source": [
    "figsize = (4, 4)\n",
    "size = 5\n",
    "fig, ax = plt.subplots(figsize=figsize)\n",
    "x_col = to_plot.columns[0]\n",
    "y_col = to_plot.columns[1]\n",
    "ax = sns.scatterplot(data=to_plot,\n",
    "                     x=x_col,\n",
    "                     y=y_col,\n",
    "                     s=size,\n",
    "                     hue='Differential Analysis Comparison',\n",
    "                     ax=ax)\n",
    "_ = ax.legend(fontsize=fontsize,\n",
    "              title_fontsize=fontsize,\n",
    "              markerscale=0.4,\n",
    "              title='',\n",
    "              )\n",
    "ax.set_xlabel(f\"qvalue for {x_col}\")\n",
    "ax.set_ylabel(f\"qvalue for {y_col}\")\n",
    "ax.hlines(0.05, 0, 1, color='grey', linestyles='dotted')\n",
    "ax.vlines(0.05, 0, 1, color='grey', linestyles='dotted')\n",
    "sns.move_legend(ax, \"upper right\")\n",
    "files_out[f'diff_analysis_comparision_1_{args.model_key}'] = (\n",
    "    args.out_folder /\n",
    "    f'diff_analysis_comparision_1_{args.model_key}')\n",
    "fname = files_out[f'diff_analysis_comparision_1_{args.model_key}']\n",
    "pimmslearn.savefig(fig, name=fname)"
   ]
  },
  {
   "cell_type": "markdown",
   "id": "d8849c76-c5f6-4618-87c0-f2635dc9ac66",
   "metadata": {
    "papermill": {
     "duration": 0.020626,
     "end_time": "2024-08-19T09:57:01.176817",
     "exception": false,
     "start_time": "2024-08-19T09:57:01.156191",
     "status": "completed"
    },
    "tags": []
   },
   "source": [
    "- also showing how many features were measured (\"observed\") by size of circle"
   ]
  },
  {
   "cell_type": "code",
   "execution_count": 21,
   "id": "1cf258f8-9dcb-40bb-af66-b600f8d413f6",
   "metadata": {
    "execution": {
     "iopub.execute_input": "2024-08-19T09:57:01.218076Z",
     "iopub.status.busy": "2024-08-19T09:57:01.217748Z",
     "iopub.status.idle": "2024-08-19T09:57:04.339105Z",
     "shell.execute_reply": "2024-08-19T09:57:04.338328Z"
    },
    "papermill": {
     "duration": 3.144244,
     "end_time": "2024-08-19T09:57:04.340938",
     "exception": false,
     "start_time": "2024-08-19T09:57:01.196694",
     "status": "completed"
    },
    "tags": [
     "hide-input"
    ]
   },
   "outputs": [
    {
     "name": "stderr",
     "output_type": "stream",
     "text": [
      "pimmslearn.plotting - INFO     Saved Figures to runs/alzheimer_study/diff_analysis/AD/PI_vs_TRKNN/diff_analysis_comparision_2_TRKNN\n"
     ]
    },
    {
     "data": {
      "image/png": "[encoded data removed]",
      "text/plain": [
       "<Figure size 588x588 with 1 Axes>"
      ]
     },
     "metadata": {},
     "output_type": "display_data"
    }
   ],
   "source": [
    "fig, ax = plt.subplots(figsize=figsize)\n",
    "ax = sns.scatterplot(data=to_plot,\n",
    "                     x=to_plot.columns[0],\n",
    "                     y=to_plot.columns[1],\n",
    "                     size='frequency',\n",
    "                     s=size,\n",
    "                     sizes=(5, 20),\n",
    "                     hue='Differential Analysis Comparison')\n",
    "_ = ax.legend(fontsize=fontsize,\n",
    "              title_fontsize=fontsize,\n",
    "              markerscale=0.6,\n",
    "              title='',\n",
    "              )\n",
    "ax.set_xlabel(f\"qvalue for {x_col}\")\n",
    "ax.set_ylabel(f\"qvalue for {y_col}\")\n",
    "ax.hlines(0.05, 0, 1, color='grey', linestyles='dotted')\n",
    "ax.vlines(0.05, 0, 1, color='grey', linestyles='dotted')\n",
    "sns.move_legend(ax, \"upper right\")\n",
    "files_out[f'diff_analysis_comparision_2_{args.model_key}'] = (\n",
    "    args.out_folder / f'diff_analysis_comparision_2_{args.model_key}')\n",
    "pimmslearn.savefig(\n",
    "    fig, name=files_out[f'diff_analysis_comparision_2_{args.model_key}'])"
   ]
  },
  {
   "cell_type": "markdown",
   "id": "1fee3a21-d8b3-40c6-aea2-4774dfe855ca",
   "metadata": {
    "papermill": {
     "duration": 0.012695,
     "end_time": "2024-08-19T09:57:04.373628",
     "exception": false,
     "start_time": "2024-08-19T09:57:04.360933",
     "status": "completed"
    },
    "tags": []
   },
   "source": [
    "## Only features contained in model\n",
    "- this block exist due to a specific part in the ALD analysis of the paper"
   ]
  },
  {
   "cell_type": "code",
   "execution_count": 22,
   "id": "c4e23a01-fd37-4496-a518-445a9ef38db1",
   "metadata": {
    "execution": {
     "iopub.execute_input": "2024-08-19T09:57:04.421202Z",
     "iopub.status.busy": "2024-08-19T09:57:04.419692Z",
     "iopub.status.idle": "2024-08-19T09:57:04.428016Z",
     "shell.execute_reply": "2024-08-19T09:57:04.427354Z"
    },
    "papermill": {
     "duration": 0.033991,
     "end_time": "2024-08-19T09:57:04.429684",
     "exception": false,
     "start_time": "2024-08-19T09:57:04.395693",
     "status": "completed"
    },
    "tags": [
     "hide-input"
    ]
   },
   "outputs": [
    {
     "name": "stderr",
     "output_type": "stream",
     "text": [
      "root - INFO     No features only in new comparision model.\n"
     ]
    }
   ],
   "source": [
    "scores_model_only = scores.reset_index(level=-1, drop=True)\n",
    "_diff = scores_model_only.index.difference(scores_common.index)\n",
    "if not _diff.empty:\n",
    "    scores_model_only = (scores_model_only\n",
    "                         .loc[\n",
    "                             _diff,\n",
    "                             args.model_key]\n",
    "                         .sort_values(by='qvalue', ascending=True)\n",
    "                         .join(freq_feat.squeeze().rename(freq_feat.columns.droplevel()[0])\n",
    "                               )\n",
    "                         )\n",
    "    display(scores_model_only)\n",
    "else:\n",
    "    scores_model_only = None\n",
    "    logger.info(\"No features only in new comparision model.\")\n",
    "\n",
    "if not _diff.empty:\n",
    "    scores_model_only.to_excel(writer, 'only_model', **writer_args)\n",
    "    display(scores_model_only.rejected.value_counts())\n",
    "    scores_model_only_rejected = scores_model_only.loc[scores_model_only.rejected]\n",
    "    scores_model_only_rejected.to_excel(\n",
    "        writer, 'only_model_rejected', **writer_args)"
   ]
  },
  {
   "cell_type": "markdown",
   "id": "78b2c336",
   "metadata": {
    "papermill": {
     "duration": 0.053348,
     "end_time": "2024-08-19T09:57:04.501056",
     "exception": false,
     "start_time": "2024-08-19T09:57:04.447708",
     "status": "completed"
    },
    "tags": []
   },
   "source": [
    "## DISEASES DB lookup\n",
    "\n",
    "Query diseases database for gene associations with specified disease ontology id."
   ]
  },
  {
   "cell_type": "code",
   "execution_count": 23,
   "id": "d93a9242-0ef4-4fc7-bd98-226a93639f58",
   "metadata": {
    "execution": {
     "iopub.execute_input": "2024-08-19T09:57:04.563272Z",
     "iopub.status.busy": "2024-08-19T09:57:04.562812Z",
     "iopub.status.idle": "2024-08-19T09:57:07.263856Z",
     "shell.execute_reply": "2024-08-19T09:57:07.263293Z"
    },
    "papermill": {
     "duration": 2.727579,
     "end_time": "2024-08-19T09:57:07.265371",
     "exception": false,
     "start_time": "2024-08-19T09:57:04.537792",
     "status": "completed"
    },
    "tags": [
     "hide-input"
    ]
   },
   "outputs": [
    {
     "name": "stderr",
     "output_type": "stream",
     "text": [
      "pimmslearn.databases.diseases - WARNING  There are more associations available\n"
     ]
    },
    {
     "data": {
      "text/html": [
       "<div>\n",
       "<style scoped>\n",
       "    .dataframe tbody tr th:only-of-type {\n",
       "        vertical-align: middle;\n",
       "    }\n",
       "\n",
       "    .dataframe tbody tr th {\n",
       "        vertical-align: top;\n",
       "    }\n",
       "\n",
       "    .dataframe thead th {\n",
       "        text-align: right;\n",
       "    }\n",
       "</style>\n",
       "<table border=\"1\" class=\"dataframe\">\n",
       "  <thead>\n",
       "    <tr style=\"text-align: right;\">\n",
       "      <th></th>\n",
       "      <th>ENSP</th>\n",
       "      <th>score</th>\n",
       "    </tr>\n",
       "    <tr>\n",
       "      <th>None</th>\n",
       "      <th></th>\n",
       "      <th></th>\n",
       "    </tr>\n",
       "  </thead>\n",
       "  <tbody>\n",
       "    <tr>\n",
       "      <th>APOE</th>\n",
       "      <td>ENSP00000252486</td>\n",
       "      <td>5.000</td>\n",
       "    </tr>\n",
       "    <tr>\n",
       "      <th>PSEN1</th>\n",
       "      <td>ENSP00000326366</td>\n",
       "      <td>5.000</td>\n",
       "    </tr>\n",
       "    <tr>\n",
       "      <th>APP</th>\n",
       "      <td>ENSP00000284981</td>\n",
       "      <td>5.000</td>\n",
       "    </tr>\n",
       "    <tr>\n",
       "      <th>PSEN2</th>\n",
       "      <td>ENSP00000355747</td>\n",
       "      <td>5.000</td>\n",
       "    </tr>\n",
       "    <tr>\n",
       "      <th>MAPT</th>\n",
       "      <td>ENSP00000340820</td>\n",
       "      <td>4.800</td>\n",
       "    </tr>\n",
       "    <tr>\n",
       "      <th>...</th>\n",
       "      <td>...</td>\n",
       "      <td>...</td>\n",
       "    </tr>\n",
       "    <tr>\n",
       "      <th>LPIN3</th>\n",
       "      <td>ENSP00000487971</td>\n",
       "      <td>0.681</td>\n",
       "    </tr>\n",
       "    <tr>\n",
       "      <th>HECTD1</th>\n",
       "      <td>ENSP00000382269</td>\n",
       "      <td>0.681</td>\n",
       "    </tr>\n",
       "    <tr>\n",
       "      <th>ETNK1</th>\n",
       "      <td>ENSP00000500633</td>\n",
       "      <td>0.681</td>\n",
       "    </tr>\n",
       "    <tr>\n",
       "      <th>CAPN11</th>\n",
       "      <td>ENSP00000381758</td>\n",
       "      <td>0.681</td>\n",
       "    </tr>\n",
       "    <tr>\n",
       "      <th>CILP2</th>\n",
       "      <td>ENSP00000291495</td>\n",
       "      <td>0.680</td>\n",
       "    </tr>\n",
       "  </tbody>\n",
       "</table>\n",
       "<p>10000 rows × 2 columns</p>\n",
       "</div>"
      ],
      "text/plain": [
       "                   ENSP  score\n",
       "None                          \n",
       "APOE    ENSP00000252486  5.000\n",
       "PSEN1   ENSP00000326366  5.000\n",
       "APP     ENSP00000284981  5.000\n",
       "PSEN2   ENSP00000355747  5.000\n",
       "MAPT    ENSP00000340820  4.800\n",
       "...                 ...    ...\n",
       "LPIN3   ENSP00000487971  0.681\n",
       "HECTD1  ENSP00000382269  0.681\n",
       "ETNK1   ENSP00000500633  0.681\n",
       "CAPN11  ENSP00000381758  0.681\n",
       "CILP2   ENSP00000291495  0.680\n",
       "\n",
       "[10000 rows x 2 columns]"
      ]
     },
     "execution_count": 23,
     "metadata": {},
     "output_type": "execute_result"
    }
   ],
   "source": [
    "data = pimmslearn.databases.diseases.get_disease_association(\n",
    "    doid=args.disease_ontology, limit=10000)\n",
    "data = pd.DataFrame.from_dict(data, orient='index').rename_axis('ENSP', axis=0)\n",
    "data = data.rename(columns={'name': args.annotaitons_gene_col}).reset_index(\n",
    ").set_index(args.annotaitons_gene_col)\n",
    "data"
   ]
  },
  {
   "cell_type": "markdown",
   "id": "efe22443-2613-46ad-83c2-41048e13dd57",
   "metadata": {
    "papermill": {
     "duration": 0.018207,
     "end_time": "2024-08-19T09:57:07.301752",
     "exception": false,
     "start_time": "2024-08-19T09:57:07.283545",
     "status": "completed"
    },
    "tags": []
   },
   "source": [
    "## Shared features\n",
    "ToDo: new script -> DISEASES DB lookup"
   ]
  },
  {
   "cell_type": "code",
   "execution_count": null,
   "id": "5c26415e",
   "metadata": {
    "papermill": {
     "duration": 0.019105,
     "end_time": "2024-08-19T09:57:07.337889",
     "exception": false,
     "start_time": "2024-08-19T09:57:07.318784",
     "status": "completed"
    },
    "tags": [
     "hide-input"
    ]
   },
   "outputs": [],
   "source": []
  },
  {
   "cell_type": "code",
   "execution_count": 24,
   "id": "b68b43df",
   "metadata": {
    "execution": {
     "iopub.execute_input": "2024-08-19T09:57:07.377620Z",
     "iopub.status.busy": "2024-08-19T09:57:07.377238Z",
     "iopub.status.idle": "2024-08-19T09:57:07.383560Z",
     "shell.execute_reply": "2024-08-19T09:57:07.382834Z"
    },
    "papermill": {
     "duration": 0.030366,
     "end_time": "2024-08-19T09:57:07.387470",
     "exception": true,
     "start_time": "2024-08-19T09:57:07.357104",
     "status": "failed"
    },
    "tags": [
     "hide-input"
    ]
   },
   "outputs": [
    {
     "name": "stderr",
     "output_type": "stream",
     "text": [
      "root - INFO     No gene annotation in scores index:  ['protein groups', 'Source'] Exiting.\n"
     ]
    },
    {
     "ename": "SystemExit",
     "evalue": "0",
     "output_type": "error",
     "traceback": [
      "An exception has occurred, use %tb to see the full traceback.\n",
      "\u001b[0;31mSystemExit\u001b[0m\u001b[0;31m:\u001b[0m 0\n"
     ]
    },
    {
     "name": "stderr",
     "output_type": "stream",
     "text": [
      "/home/runner/work/pimms/pimms/project/.snakemake/conda/9315d83d47168fa3da1739d7e683ad72_/lib/python3.12/site-packages/IPython/core/interactiveshell.py:3585: UserWarning: To exit: use 'exit', 'quit', or Ctrl-D.\n",
      "  warn(\"To exit: use 'exit', 'quit', or Ctrl-D.\", stacklevel=1)\n"
     ]
    }
   ],
   "source": [
    "feat_name = scores.index.names[0]  # first index level is feature name\n",
    "if args.annotaitons_gene_col in scores.index.names:\n",
    "    logger.info(f\"Found gene annotation in scores index:  {scores.index.names}\")\n",
    "else:\n",
    "    logger.info(f\"No gene annotation in scores index:  {scores.index.names}\"\n",
    "                \" Exiting.\")\n",
    "    import sys\n",
    "    sys.exit(0)"
   ]
  },
  {
   "cell_type": "code",
   "execution_count": null,
   "id": "f8d4a74d-5a9b-4d9b-9345-4288bb23e19f",
   "metadata": {
    "papermill": {
     "duration": null,
     "end_time": null,
     "exception": null,
     "start_time": null,
     "status": "pending"
    },
    "tags": [
     "hide-input"
    ]
   },
   "outputs": [],
   "source": [
    "gene_to_PG = (scores.droplevel(\n",
    "    list(set(scores.index.names) - {feat_name, args.annotaitons_gene_col})\n",
    ")\n",
    "    .index\n",
    "    .to_frame()\n",
    "    .reset_index(drop=True)\n",
    "    .set_index(args.annotaitons_gene_col)\n",
    ")\n",
    "gene_to_PG.head()"
   ]
  },
  {
   "cell_type": "code",
   "execution_count": null,
   "id": "d9e76def-b48a-458d-a90b-765e6e70f7a4",
   "metadata": {
    "papermill": {
     "duration": null,
     "end_time": null,
     "exception": null,
     "start_time": null,
     "status": "pending"
    },
    "tags": [
     "hide-input"
    ]
   },
   "outputs": [],
   "source": [
    "disease_associations_all = data.join(\n",
    "    gene_to_PG).dropna().reset_index().set_index(feat_name).join(annotations)\n",
    "disease_associations_all"
   ]
  },
  {
   "cell_type": "markdown",
   "id": "217972a3-ba4a-4f28-ab8f-25dc0f5e9ede",
   "metadata": {
    "papermill": {
     "duration": null,
     "end_time": null,
     "exception": null,
     "start_time": null,
     "status": "pending"
    },
    "tags": []
   },
   "source": [
    "## only by model"
   ]
  },
  {
   "cell_type": "code",
   "execution_count": null,
   "id": "8e9d6944-87ba-4c41-af14-fb5ed93262f0",
   "metadata": {
    "papermill": {
     "duration": null,
     "end_time": null,
     "exception": null,
     "start_time": null,
     "status": "pending"
    },
    "tags": [
     "hide-input"
    ]
   },
   "outputs": [],
   "source": [
    "idx = disease_associations_all.index.intersection(scores_model_only.index)\n",
    "disease_assocications_new = disease_associations_all.loc[idx].sort_values(\n",
    "    'score', ascending=False)\n",
    "disease_assocications_new.head(20)"
   ]
  },
  {
   "cell_type": "code",
   "execution_count": null,
   "id": "ceefc483-b889-4bab-b207-c8d5fd97fa4a",
   "metadata": {
    "papermill": {
     "duration": null,
     "end_time": null,
     "exception": null,
     "start_time": null,
     "status": "pending"
    },
    "tags": [
     "hide-input"
    ]
   },
   "outputs": [],
   "source": [
    "mask = disease_assocications_new.loc[idx, 'score'] >= 2.0\n",
    "disease_assocications_new.loc[idx].loc[mask]"
   ]
  },
  {
   "cell_type": "markdown",
   "id": "f85eede2-7b61-4285-ba8c-745f77f6ab22",
   "metadata": {
    "papermill": {
     "duration": null,
     "end_time": null,
     "exception": null,
     "start_time": null,
     "status": "pending"
    },
    "tags": []
   },
   "source": [
    "## Only by model which were significant"
   ]
  },
  {
   "cell_type": "code",
   "execution_count": null,
   "id": "4644759b-8cc2-4f99-a16c-16419cfb915c",
   "metadata": {
    "papermill": {
     "duration": null,
     "end_time": null,
     "exception": null,
     "start_time": null,
     "status": "pending"
    },
    "tags": [
     "hide-input"
    ]
   },
   "outputs": [],
   "source": [
    "idx = disease_associations_all.index.intersection(\n",
    "    scores_model_only_rejected.index)\n",
    "disease_assocications_new_rejected = disease_associations_all.loc[idx].sort_values(\n",
    "    'score', ascending=False)\n",
    "disease_assocications_new_rejected.head(20)"
   ]
  },
  {
   "cell_type": "code",
   "execution_count": null,
   "id": "365d8641-97a8-464f-b69b-270af9ae6e2d",
   "metadata": {
    "papermill": {
     "duration": null,
     "end_time": null,
     "exception": null,
     "start_time": null,
     "status": "pending"
    },
    "tags": [
     "hide-input"
    ]
   },
   "outputs": [],
   "source": [
    "mask = disease_assocications_new_rejected.loc[idx, 'score'] >= 2.0\n",
    "disease_assocications_new_rejected.loc[idx].loc[mask]"
   ]
  },
  {
   "cell_type": "markdown",
   "id": "4f22614b-e058-4e35-b8a9-141c291a93bc",
   "metadata": {
    "papermill": {
     "duration": null,
     "end_time": null,
     "exception": null,
     "start_time": null,
     "status": "pending"
    },
    "tags": []
   },
   "source": [
    "## Shared which are only significant for by model"
   ]
  },
  {
   "cell_type": "code",
   "execution_count": null,
   "id": "82eb2ba8-4fe7-431d-8095-5be43f7791b7",
   "metadata": {
    "papermill": {
     "duration": null,
     "end_time": null,
     "exception": null,
     "start_time": null,
     "status": "pending"
    },
    "tags": []
   },
   "outputs": [],
   "source": [
    "mask = (scores_common[(str(args.model_key), 'rejected')] & mask_different)\n",
    "mask.sum()"
   ]
  },
  {
   "cell_type": "code",
   "execution_count": null,
   "id": "6416d494-5f3e-4cf4-b766-b1f95e40ae1c",
   "metadata": {
    "papermill": {
     "duration": null,
     "end_time": null,
     "exception": null,
     "start_time": null,
     "status": "pending"
    },
    "tags": [
     "hide-input"
    ]
   },
   "outputs": [],
   "source": [
    "idx = disease_associations_all.index.intersection(mask.index[mask])\n",
    "disease_assocications_shared_rejected_by_model = (disease_associations_all.loc[idx].sort_values(\n",
    "    'score', ascending=False))\n",
    "disease_assocications_shared_rejected_by_model.head(20)"
   ]
  },
  {
   "cell_type": "code",
   "execution_count": null,
   "id": "10899e28-4aee-4d44-a542-e45be6699a1b",
   "metadata": {
    "papermill": {
     "duration": null,
     "end_time": null,
     "exception": null,
     "start_time": null,
     "status": "pending"
    },
    "tags": [
     "hide-input"
    ]
   },
   "outputs": [],
   "source": [
    "mask = disease_assocications_shared_rejected_by_model.loc[idx, 'score'] >= 2.0\n",
    "disease_assocications_shared_rejected_by_model.loc[idx].loc[mask]"
   ]
  },
  {
   "cell_type": "markdown",
   "id": "b6c082ea-7d92-4296-8ec9-d279509142a3",
   "metadata": {
    "papermill": {
     "duration": null,
     "end_time": null,
     "exception": null,
     "start_time": null,
     "status": "pending"
    },
    "tags": []
   },
   "source": [
    "## Only significant by RSN"
   ]
  },
  {
   "cell_type": "code",
   "execution_count": null,
   "id": "c59aae50-6877-47cc-99f6-646862d29121",
   "metadata": {
    "papermill": {
     "duration": null,
     "end_time": null,
     "exception": null,
     "start_time": null,
     "status": "pending"
    },
    "tags": []
   },
   "outputs": [],
   "source": [
    "mask = (scores_common[(str(args.baseline), 'rejected')] & mask_different)\n",
    "mask.sum()"
   ]
  },
  {
   "cell_type": "code",
   "execution_count": null,
   "id": "7780de55-c63b-4028-a6d0-58bce7be81da",
   "metadata": {
    "papermill": {
     "duration": null,
     "end_time": null,
     "exception": null,
     "start_time": null,
     "status": "pending"
    },
    "tags": [
     "hide-input"
    ]
   },
   "outputs": [],
   "source": [
    "idx = disease_associations_all.index.intersection(mask.index[mask])\n",
    "disease_assocications_shared_rejected_by_RSN = (\n",
    "    disease_associations_all\n",
    "    .loc[idx]\n",
    "    .sort_values('score', ascending=False))\n",
    "disease_assocications_shared_rejected_by_RSN.head(20)"
   ]
  },
  {
   "cell_type": "code",
   "execution_count": null,
   "id": "03115c8f-1f20-4b51-a78c-4d7c0317dc33",
   "metadata": {
    "papermill": {
     "duration": null,
     "end_time": null,
     "exception": null,
     "start_time": null,
     "status": "pending"
    },
    "tags": [
     "hide-input"
    ]
   },
   "outputs": [],
   "source": [
    "mask = disease_assocications_shared_rejected_by_RSN.loc[idx, 'score'] >= 2.0\n",
    "disease_assocications_shared_rejected_by_RSN.loc[idx].loc[mask]"
   ]
  },
  {
   "cell_type": "markdown",
   "id": "9d72708d-ad27-435b-b672-7dfe35283601",
   "metadata": {
    "papermill": {
     "duration": null,
     "end_time": null,
     "exception": null,
     "start_time": null,
     "status": "pending"
    },
    "tags": []
   },
   "source": [
    "## Write to excel"
   ]
  },
  {
   "cell_type": "code",
   "execution_count": null,
   "id": "91e7fbb7-69fd-4b4c-9bc2-40e8dd1907b3",
   "metadata": {
    "papermill": {
     "duration": null,
     "end_time": null,
     "exception": null,
     "start_time": null,
     "status": "pending"
    },
    "tags": [
     "hide-input"
    ]
   },
   "outputs": [],
   "source": [
    "disease_associations_all.to_excel(\n",
    "    writer, sheet_name='disease_assoc_all', **writer_args)\n",
    "disease_assocications_new.to_excel(\n",
    "    writer, sheet_name='disease_assoc_new', **writer_args)\n",
    "disease_assocications_new_rejected.to_excel(\n",
    "    writer, sheet_name='disease_assoc_new_rejected', **writer_args)"
   ]
  },
  {
   "cell_type": "markdown",
   "id": "52a42028-7e2d-47d5-be02-52f7ff1f3665",
   "metadata": {
    "papermill": {
     "duration": null,
     "end_time": null,
     "exception": null,
     "start_time": null,
     "status": "pending"
    },
    "tags": []
   },
   "source": [
    "## Outputs"
   ]
  },
  {
   "cell_type": "code",
   "execution_count": null,
   "id": "7f3a7433-3bf1-4168-8f16-eb6d415ef17f",
   "metadata": {
    "papermill": {
     "duration": null,
     "end_time": null,
     "exception": null,
     "start_time": null,
     "status": "pending"
    },
    "tags": [
     "hide-input"
    ]
   },
   "outputs": [],
   "source": [
    "writer.close()\n",
    "files_out"
   ]
  }
 ],
 "metadata": {
  "kernelspec": {
   "display_name": "Python 3",
   "language": "python",
   "name": "python3"
  },
  "language_info": {
   "codemirror_mode": {
    "name": "ipython",
    "version": 3
   },
   "file_extension": ".py",
   "mimetype": "text/x-python",
   "name": "python",
   "nbconvert_exporter": "python",
   "pygments_lexer": "ipython3",
   "version": "3.12.0"
  },
  "papermill": {
   "default_parameters": {},
   "duration": 18.048687,
   "end_time": "2024-08-19T09:57:08.582594",
   "environment_variables": {},
   "exception": true,
   "input_path": "10_2_ald_compare_methods.ipynb",
   "output_path": "runs/alzheimer_study/diff_analysis/AD/PI_vs_TRKNN/10_2_ald_compare_methods.ipynb",
   "parameters": {
    "annotaitons_gene_col": "None",
    "baseline": "PI",
    "disease_ontology": 10652,
    "folder_experiment": "runs/alzheimer_study",
    "model_key": "TRKNN",
    "out_folder": "diff_analysis",
    "target": "AD"
   },
   "start_time": "2024-08-19T09:56:50.533907",
   "version": "2.6.0"
  }
 },
 "nbformat": 4,
 "nbformat_minor": 5
}