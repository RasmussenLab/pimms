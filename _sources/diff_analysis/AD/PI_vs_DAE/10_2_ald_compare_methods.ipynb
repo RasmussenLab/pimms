{
 "cells": [
  {
   "cell_type": "markdown",
   "id": "9acfeaca-5f8c-42f3-9a8e-83ed737eb35c",
   "metadata": {
    "papermill": {
     "duration": 0.030378,
     "end_time": "2024-05-28T13:57:10.440939",
     "exception": false,
     "start_time": "2024-05-28T13:57:10.410561",
     "status": "completed"
    },
    "tags": []
   },
   "source": [
    "# Compare outcomes from differential analysis based on different imputation methods\n",
    "\n",
    "- load scores based on `10_1_ald_diff_analysis`"
   ]
  },
  {
   "cell_type": "code",
   "execution_count": 1,
   "id": "eec6f931-c04d-428c-b2b1-0424c50e6cd2",
   "metadata": {
    "execution": {
     "iopub.execute_input": "2024-05-28T13:57:10.510503Z",
     "iopub.status.busy": "2024-05-28T13:57:10.510003Z",
     "iopub.status.idle": "2024-05-28T13:57:13.900732Z",
     "shell.execute_reply": "2024-05-28T13:57:13.899910Z"
    },
    "papermill": {
     "duration": 3.431183,
     "end_time": "2024-05-28T13:57:13.902950",
     "exception": false,
     "start_time": "2024-05-28T13:57:10.471767",
     "status": "completed"
    },
    "tags": [
     "hide-input"
    ]
   },
   "outputs": [],
   "source": [
    "import logging\n",
    "from pathlib import Path\n",
    "\n",
    "import matplotlib.pyplot as plt\n",
    "import pandas as pd\n",
    "import seaborn as sns\n",
    "from IPython.display import display\n",
    "\n",
    "import vaep\n",
    "import vaep.databases.diseases\n",
    "\n",
    "logger = vaep.logging.setup_nb_logger()\n",
    "\n",
    "plt.rcParams['figure.figsize'] = (2, 2)\n",
    "fontsize = 5\n",
    "vaep.plotting.make_large_descriptors(fontsize)\n",
    "logging.getLogger('fontTools').setLevel(logging.ERROR)\n",
    "\n",
    "# catch passed parameters\n",
    "args = None\n",
    "args = dict(globals()).keys()"
   ]
  },
  {
   "cell_type": "markdown",
   "id": "85f5f5d5",
   "metadata": {
    "papermill": {
     "duration": 0.011789,
     "end_time": "2024-05-28T13:57:13.927167",
     "exception": false,
     "start_time": "2024-05-28T13:57:13.915378",
     "status": "completed"
    },
    "tags": []
   },
   "source": [
    "## Parameters\n",
    "Default and set parameters for the notebook."
   ]
  },
  {
   "cell_type": "code",
   "execution_count": 2,
   "id": "f4bf65da-0569-4a21-ba20-9cae7d3679e7",
   "metadata": {
    "execution": {
     "iopub.execute_input": "2024-05-28T13:57:13.952249Z",
     "iopub.status.busy": "2024-05-28T13:57:13.951725Z",
     "iopub.status.idle": "2024-05-28T13:57:13.956632Z",
     "shell.execute_reply": "2024-05-28T13:57:13.955905Z"
    },
    "papermill": {
     "duration": 0.019428,
     "end_time": "2024-05-28T13:57:13.958296",
     "exception": false,
     "start_time": "2024-05-28T13:57:13.938868",
     "status": "completed"
    },
    "tags": [
     "parameters"
    ]
   },
   "outputs": [],
   "source": [
    "folder_experiment = 'runs/appl_ald_data/plasma/proteinGroups'\n",
    "\n",
    "target = 'kleiner'\n",
    "model_key = 'VAE'\n",
    "baseline = 'RSN'\n",
    "out_folder = 'diff_analysis'\n",
    "selected_statistics = ['p-unc', '-Log10 pvalue', 'qvalue', 'rejected']\n",
    "\n",
    "disease_ontology = 5082  # code from https://disease-ontology.org/\n",
    "# split diseases notebook? Query gene names for proteins in file from uniprot?\n",
    "annotaitons_gene_col = 'PG.Genes'"
   ]
  },
  {
   "cell_type": "code",
   "execution_count": 3,
   "id": "d8da3302",
   "metadata": {
    "execution": {
     "iopub.execute_input": "2024-05-28T13:57:13.986678Z",
     "iopub.status.busy": "2024-05-28T13:57:13.986373Z",
     "iopub.status.idle": "2024-05-28T13:57:14.012965Z",
     "shell.execute_reply": "2024-05-28T13:57:14.012283Z"
    },
    "papermill": {
     "duration": 0.044682,
     "end_time": "2024-05-28T13:57:14.014885",
     "exception": false,
     "start_time": "2024-05-28T13:57:13.970203",
     "status": "completed"
    },
    "tags": [
     "injected-parameters"
    ]
   },
   "outputs": [],
   "source": [
    "# Parameters\n",
    "disease_ontology = 10652\n",
    "folder_experiment = \"runs/alzheimer_study\"\n",
    "target = \"AD\"\n",
    "baseline = \"PI\"\n",
    "model_key = \"DAE\"\n",
    "out_folder = \"diff_analysis\"\n",
    "annotaitons_gene_col = \"None\"\n"
   ]
  },
  {
   "cell_type": "markdown",
   "id": "22c645fc-c7eb-4c69-a7aa-084fc733258f",
   "metadata": {
    "papermill": {
     "duration": 0.028658,
     "end_time": "2024-05-28T13:57:14.072043",
     "exception": false,
     "start_time": "2024-05-28T13:57:14.043385",
     "status": "completed"
    },
    "tags": []
   },
   "source": [
    "Add set parameters to configuration"
   ]
  },
  {
   "cell_type": "code",
   "execution_count": 4,
   "id": "978876d0-b3cc-4847-8eab-dc0b89ddbbcd",
   "metadata": {
    "execution": {
     "iopub.execute_input": "2024-05-28T13:57:14.118868Z",
     "iopub.status.busy": "2024-05-28T13:57:14.118514Z",
     "iopub.status.idle": "2024-05-28T13:57:14.151075Z",
     "shell.execute_reply": "2024-05-28T13:57:14.150367Z"
    },
    "papermill": {
     "duration": 0.059878,
     "end_time": "2024-05-28T13:57:14.154456",
     "exception": false,
     "start_time": "2024-05-28T13:57:14.094578",
     "status": "completed"
    },
    "tags": [
     "hide-input"
    ]
   },
   "outputs": [
    {
     "name": "stderr",
     "output_type": "stream",
     "text": [
      "root - INFO     Removed from global namespace: folder_experiment\n"
     ]
    },
    {
     "name": "stderr",
     "output_type": "stream",
     "text": [
      "root - INFO     Removed from global namespace: target\n"
     ]
    },
    {
     "name": "stderr",
     "output_type": "stream",
     "text": [
      "root - INFO     Removed from global namespace: model_key\n"
     ]
    },
    {
     "name": "stderr",
     "output_type": "stream",
     "text": [
      "root - INFO     Removed from global namespace: baseline\n"
     ]
    },
    {
     "name": "stderr",
     "output_type": "stream",
     "text": [
      "root - INFO     Removed from global namespace: out_folder\n"
     ]
    },
    {
     "name": "stderr",
     "output_type": "stream",
     "text": [
      "root - INFO     Removed from global namespace: selected_statistics\n"
     ]
    },
    {
     "name": "stderr",
     "output_type": "stream",
     "text": [
      "root - INFO     Removed from global namespace: disease_ontology\n"
     ]
    },
    {
     "name": "stderr",
     "output_type": "stream",
     "text": [
      "root - INFO     Removed from global namespace: annotaitons_gene_col\n"
     ]
    },
    {
     "name": "stderr",
     "output_type": "stream",
     "text": [
      "root - INFO     Already set attribute: folder_experiment has value runs/alzheimer_study\n"
     ]
    },
    {
     "name": "stderr",
     "output_type": "stream",
     "text": [
      "root - INFO     Already set attribute: out_folder has value diff_analysis\n"
     ]
    },
    {
     "data": {
      "text/plain": [
       "{'annotaitons_gene_col': 'None',\n",
       " 'baseline': 'PI',\n",
       " 'data': PosixPath('runs/alzheimer_study/data'),\n",
       " 'disease_ontology': 10652,\n",
       " 'folder_experiment': PosixPath('runs/alzheimer_study'),\n",
       " 'freq_features_observed': PosixPath('runs/alzheimer_study/freq_features_observed.csv'),\n",
       " 'model_key': 'DAE',\n",
       " 'out_figures': PosixPath('runs/alzheimer_study/figures'),\n",
       " 'out_folder': PosixPath('runs/alzheimer_study/diff_analysis/AD/PI_vs_DAE'),\n",
       " 'out_metrics': PosixPath('runs/alzheimer_study'),\n",
       " 'out_models': PosixPath('runs/alzheimer_study'),\n",
       " 'out_preds': PosixPath('runs/alzheimer_study/preds'),\n",
       " 'scores_folder': PosixPath('runs/alzheimer_study/diff_analysis/AD/scores'),\n",
       " 'selected_statistics': ['p-unc', '-Log10 pvalue', 'qvalue', 'rejected'],\n",
       " 'target': 'AD'}"
      ]
     },
     "execution_count": 4,
     "metadata": {},
     "output_type": "execute_result"
    }
   ],
   "source": [
    "params = vaep.nb.get_params(args, globals=globals())\n",
    "args = vaep.nb.Config()\n",
    "args.folder_experiment = Path(params[\"folder_experiment\"])\n",
    "args = vaep.nb.add_default_paths(args,\n",
    "                                 out_root=(\n",
    "                                     args.folder_experiment\n",
    "                                     / params[\"out_folder\"]\n",
    "                                     / params[\"target\"]\n",
    "                                     / f\"{params['baseline']}_vs_{params['model_key']}\"))\n",
    "args.update_from_dict(params)\n",
    "args.scores_folder = scores_folder = (args.folder_experiment\n",
    "                                      / params[\"out_folder\"]\n",
    "                                      / params[\"target\"]\n",
    "                                      / 'scores')\n",
    "args.freq_features_observed = args.folder_experiment / 'freq_features_observed.csv'\n",
    "args"
   ]
  },
  {
   "cell_type": "markdown",
   "id": "fc184dea",
   "metadata": {
    "papermill": {
     "duration": 0.013039,
     "end_time": "2024-05-28T13:57:14.189328",
     "exception": false,
     "start_time": "2024-05-28T13:57:14.176289",
     "status": "completed"
    },
    "tags": []
   },
   "source": [
    "### Excel file for exports"
   ]
  },
  {
   "cell_type": "code",
   "execution_count": 5,
   "id": "a8016d79-e41a-40a2-bcbf-e11711c33b7d",
   "metadata": {
    "execution": {
     "iopub.execute_input": "2024-05-28T13:57:14.217342Z",
     "iopub.status.busy": "2024-05-28T13:57:14.216590Z",
     "iopub.status.idle": "2024-05-28T13:57:14.351523Z",
     "shell.execute_reply": "2024-05-28T13:57:14.350756Z"
    },
    "papermill": {
     "duration": 0.151342,
     "end_time": "2024-05-28T13:57:14.353561",
     "exception": false,
     "start_time": "2024-05-28T13:57:14.202219",
     "status": "completed"
    },
    "tags": []
   },
   "outputs": [
    {
     "name": "stderr",
     "output_type": "stream",
     "text": [
      "root - INFO     Writing to excel file: runs/alzheimer_study/diff_analysis/AD/PI_vs_DAE/diff_analysis_compare_methods.xlsx\n"
     ]
    }
   ],
   "source": [
    "files_out = dict()\n",
    "writer_args = dict(float_format='%.3f')\n",
    "\n",
    "fname = args.out_folder / 'diff_analysis_compare_methods.xlsx'\n",
    "files_out[fname.name] = fname\n",
    "writer = pd.ExcelWriter(fname)\n",
    "logger.info(\"Writing to excel file: %s\", fname)"
   ]
  },
  {
   "cell_type": "markdown",
   "id": "770d1f76-e86f-4ae3-9d7b-ceef9b9e9a22",
   "metadata": {
    "papermill": {
     "duration": 0.012709,
     "end_time": "2024-05-28T13:57:14.379832",
     "exception": false,
     "start_time": "2024-05-28T13:57:14.367123",
     "status": "completed"
    },
    "tags": []
   },
   "source": [
    "## Load scores"
   ]
  },
  {
   "cell_type": "markdown",
   "id": "6b108869",
   "metadata": {
    "papermill": {
     "duration": 0.020899,
     "end_time": "2024-05-28T13:57:14.414050",
     "exception": false,
     "start_time": "2024-05-28T13:57:14.393151",
     "status": "completed"
    },
    "tags": []
   },
   "source": [
    "### Load baseline model scores\n",
    "Show all statistics, later use selected statistics"
   ]
  },
  {
   "cell_type": "code",
   "execution_count": 6,
   "id": "97221134-5f61-4158-bfc5-ea30077140b8",
   "metadata": {
    "execution": {
     "iopub.execute_input": "2024-05-28T13:57:14.476772Z",
     "iopub.status.busy": "2024-05-28T13:57:14.476339Z",
     "iopub.status.idle": "2024-05-28T13:57:14.517097Z",
     "shell.execute_reply": "2024-05-28T13:57:14.516293Z"
    },
    "papermill": {
     "duration": 0.067348,
     "end_time": "2024-05-28T13:57:14.518827",
     "exception": false,
     "start_time": "2024-05-28T13:57:14.451479",
     "status": "completed"
    },
    "tags": [
     "hide-input"
    ]
   },
   "outputs": [
    {
     "data": {
      "text/html": [
       "<div>\n",
       "<style scoped>\n",
       "    .dataframe tbody tr th:only-of-type {\n",
       "        vertical-align: middle;\n",
       "    }\n",
       "\n",
       "    .dataframe tbody tr th {\n",
       "        vertical-align: top;\n",
       "    }\n",
       "\n",
       "    .dataframe thead tr th {\n",
       "        text-align: left;\n",
       "    }\n",
       "\n",
       "    .dataframe thead tr:last-of-type th {\n",
       "        text-align: right;\n",
       "    }\n",
       "</style>\n",
       "<table border=\"1\" class=\"dataframe\">\n",
       "  <thead>\n",
       "    <tr>\n",
       "      <th></th>\n",
       "      <th>model</th>\n",
       "      <th colspan=\"8\" halign=\"left\">PI</th>\n",
       "    </tr>\n",
       "    <tr>\n",
       "      <th></th>\n",
       "      <th>var</th>\n",
       "      <th>SS</th>\n",
       "      <th>DF</th>\n",
       "      <th>F</th>\n",
       "      <th>p-unc</th>\n",
       "      <th>np2</th>\n",
       "      <th>-Log10 pvalue</th>\n",
       "      <th>qvalue</th>\n",
       "      <th>rejected</th>\n",
       "    </tr>\n",
       "    <tr>\n",
       "      <th>protein groups</th>\n",
       "      <th>Source</th>\n",
       "      <th></th>\n",
       "      <th></th>\n",
       "      <th></th>\n",
       "      <th></th>\n",
       "      <th></th>\n",
       "      <th></th>\n",
       "      <th></th>\n",
       "      <th></th>\n",
       "    </tr>\n",
       "  </thead>\n",
       "  <tbody>\n",
       "    <tr>\n",
       "      <th rowspan=\"5\" valign=\"top\">A0A024QZX5;A0A087X1N8;P35237</th>\n",
       "      <th>AD</th>\n",
       "      <td>0.613</td>\n",
       "      <td>1</td>\n",
       "      <td>1.157</td>\n",
       "      <td>0.284</td>\n",
       "      <td>0.006</td>\n",
       "      <td>0.547</td>\n",
       "      <td>0.446</td>\n",
       "      <td>False</td>\n",
       "    </tr>\n",
       "    <tr>\n",
       "      <th>age</th>\n",
       "      <td>0.099</td>\n",
       "      <td>1</td>\n",
       "      <td>0.187</td>\n",
       "      <td>0.666</td>\n",
       "      <td>0.001</td>\n",
       "      <td>0.177</td>\n",
       "      <td>0.782</td>\n",
       "      <td>False</td>\n",
       "    </tr>\n",
       "    <tr>\n",
       "      <th>Kiel</th>\n",
       "      <td>1.870</td>\n",
       "      <td>1</td>\n",
       "      <td>3.526</td>\n",
       "      <td>0.062</td>\n",
       "      <td>0.018</td>\n",
       "      <td>1.208</td>\n",
       "      <td>0.144</td>\n",
       "      <td>False</td>\n",
       "    </tr>\n",
       "    <tr>\n",
       "      <th>Magdeburg</th>\n",
       "      <td>3.990</td>\n",
       "      <td>1</td>\n",
       "      <td>7.523</td>\n",
       "      <td>0.007</td>\n",
       "      <td>0.038</td>\n",
       "      <td>2.176</td>\n",
       "      <td>0.024</td>\n",
       "      <td>True</td>\n",
       "    </tr>\n",
       "    <tr>\n",
       "      <th>Sweden</th>\n",
       "      <td>6.174</td>\n",
       "      <td>1</td>\n",
       "      <td>11.640</td>\n",
       "      <td>0.001</td>\n",
       "      <td>0.057</td>\n",
       "      <td>3.103</td>\n",
       "      <td>0.004</td>\n",
       "      <td>True</td>\n",
       "    </tr>\n",
       "    <tr>\n",
       "      <th>...</th>\n",
       "      <th>...</th>\n",
       "      <td>...</td>\n",
       "      <td>...</td>\n",
       "      <td>...</td>\n",
       "      <td>...</td>\n",
       "      <td>...</td>\n",
       "      <td>...</td>\n",
       "      <td>...</td>\n",
       "      <td>...</td>\n",
       "    </tr>\n",
       "    <tr>\n",
       "      <th rowspan=\"5\" valign=\"top\">S4R3U6</th>\n",
       "      <th>AD</th>\n",
       "      <td>0.612</td>\n",
       "      <td>1</td>\n",
       "      <td>0.623</td>\n",
       "      <td>0.431</td>\n",
       "      <td>0.003</td>\n",
       "      <td>0.366</td>\n",
       "      <td>0.590</td>\n",
       "      <td>False</td>\n",
       "    </tr>\n",
       "    <tr>\n",
       "      <th>age</th>\n",
       "      <td>2.031</td>\n",
       "      <td>1</td>\n",
       "      <td>2.066</td>\n",
       "      <td>0.152</td>\n",
       "      <td>0.011</td>\n",
       "      <td>0.817</td>\n",
       "      <td>0.284</td>\n",
       "      <td>False</td>\n",
       "    </tr>\n",
       "    <tr>\n",
       "      <th>Kiel</th>\n",
       "      <td>0.086</td>\n",
       "      <td>1</td>\n",
       "      <td>0.088</td>\n",
       "      <td>0.768</td>\n",
       "      <td>0.000</td>\n",
       "      <td>0.115</td>\n",
       "      <td>0.856</td>\n",
       "      <td>False</td>\n",
       "    </tr>\n",
       "    <tr>\n",
       "      <th>Magdeburg</th>\n",
       "      <td>1.941</td>\n",
       "      <td>1</td>\n",
       "      <td>1.975</td>\n",
       "      <td>0.162</td>\n",
       "      <td>0.010</td>\n",
       "      <td>0.792</td>\n",
       "      <td>0.296</td>\n",
       "      <td>False</td>\n",
       "    </tr>\n",
       "    <tr>\n",
       "      <th>Sweden</th>\n",
       "      <td>17.261</td>\n",
       "      <td>1</td>\n",
       "      <td>17.558</td>\n",
       "      <td>0.000</td>\n",
       "      <td>0.084</td>\n",
       "      <td>4.371</td>\n",
       "      <td>0.000</td>\n",
       "      <td>True</td>\n",
       "    </tr>\n",
       "  </tbody>\n",
       "</table>\n",
       "<p>7105 rows × 8 columns</p>\n",
       "</div>"
      ],
      "text/plain": [
       "model                                      PI                        \\\n",
       "var                                        SS DF      F p-unc   np2   \n",
       "protein groups               Source                                   \n",
       "A0A024QZX5;A0A087X1N8;P35237 AD         0.613  1  1.157 0.284 0.006   \n",
       "                             age        0.099  1  0.187 0.666 0.001   \n",
       "                             Kiel       1.870  1  3.526 0.062 0.018   \n",
       "                             Magdeburg  3.990  1  7.523 0.007 0.038   \n",
       "                             Sweden     6.174  1 11.640 0.001 0.057   \n",
       "...                                       ... ..    ...   ...   ...   \n",
       "S4R3U6                       AD         0.612  1  0.623 0.431 0.003   \n",
       "                             age        2.031  1  2.066 0.152 0.011   \n",
       "                             Kiel       0.086  1  0.088 0.768 0.000   \n",
       "                             Magdeburg  1.941  1  1.975 0.162 0.010   \n",
       "                             Sweden    17.261  1 17.558 0.000 0.084   \n",
       "\n",
       "model                                                                 \n",
       "var                                    -Log10 pvalue qvalue rejected  \n",
       "protein groups               Source                                   \n",
       "A0A024QZX5;A0A087X1N8;P35237 AD                0.547  0.446    False  \n",
       "                             age               0.177  0.782    False  \n",
       "                             Kiel              1.208  0.144    False  \n",
       "                             Magdeburg         2.176  0.024     True  \n",
       "                             Sweden            3.103  0.004     True  \n",
       "...                                              ...    ...      ...  \n",
       "S4R3U6                       AD                0.366  0.590    False  \n",
       "                             age               0.817  0.284    False  \n",
       "                             Kiel              0.115  0.856    False  \n",
       "                             Magdeburg         0.792  0.296    False  \n",
       "                             Sweden            4.371  0.000     True  \n",
       "\n",
       "[7105 rows x 8 columns]"
      ]
     },
     "execution_count": 6,
     "metadata": {},
     "output_type": "execute_result"
    }
   ],
   "source": [
    "fname = args.scores_folder / f'diff_analysis_scores_{args.baseline}.pkl'\n",
    "scores_baseline = pd.read_pickle(fname)\n",
    "scores_baseline"
   ]
  },
  {
   "cell_type": "markdown",
   "id": "e49a8da2",
   "metadata": {
    "papermill": {
     "duration": 0.019951,
     "end_time": "2024-05-28T13:57:14.564559",
     "exception": false,
     "start_time": "2024-05-28T13:57:14.544608",
     "status": "completed"
    },
    "tags": []
   },
   "source": [
    "### Load selected comparison model scores"
   ]
  },
  {
   "cell_type": "code",
   "execution_count": 7,
   "id": "f0635e4d",
   "metadata": {
    "execution": {
     "iopub.execute_input": "2024-05-28T13:57:14.609860Z",
     "iopub.status.busy": "2024-05-28T13:57:14.609395Z",
     "iopub.status.idle": "2024-05-28T13:57:14.630051Z",
     "shell.execute_reply": "2024-05-28T13:57:14.629331Z"
    },
    "papermill": {
     "duration": 0.035878,
     "end_time": "2024-05-28T13:57:14.631891",
     "exception": false,
     "start_time": "2024-05-28T13:57:14.596013",
     "status": "completed"
    },
    "tags": [
     "hide-input"
    ]
   },
   "outputs": [
    {
     "data": {
      "text/html": [
       "<div>\n",
       "<style scoped>\n",
       "    .dataframe tbody tr th:only-of-type {\n",
       "        vertical-align: middle;\n",
       "    }\n",
       "\n",
       "    .dataframe tbody tr th {\n",
       "        vertical-align: top;\n",
       "    }\n",
       "\n",
       "    .dataframe thead tr th {\n",
       "        text-align: left;\n",
       "    }\n",
       "\n",
       "    .dataframe thead tr:last-of-type th {\n",
       "        text-align: right;\n",
       "    }\n",
       "</style>\n",
       "<table border=\"1\" class=\"dataframe\">\n",
       "  <thead>\n",
       "    <tr>\n",
       "      <th></th>\n",
       "      <th>model</th>\n",
       "      <th colspan=\"8\" halign=\"left\">DAE</th>\n",
       "    </tr>\n",
       "    <tr>\n",
       "      <th></th>\n",
       "      <th>var</th>\n",
       "      <th>SS</th>\n",
       "      <th>DF</th>\n",
       "      <th>F</th>\n",
       "      <th>p-unc</th>\n",
       "      <th>np2</th>\n",
       "      <th>-Log10 pvalue</th>\n",
       "      <th>qvalue</th>\n",
       "      <th>rejected</th>\n",
       "    </tr>\n",
       "    <tr>\n",
       "      <th>protein groups</th>\n",
       "      <th>Source</th>\n",
       "      <th></th>\n",
       "      <th></th>\n",
       "      <th></th>\n",
       "      <th></th>\n",
       "      <th></th>\n",
       "      <th></th>\n",
       "      <th></th>\n",
       "      <th></th>\n",
       "    </tr>\n",
       "  </thead>\n",
       "  <tbody>\n",
       "    <tr>\n",
       "      <th rowspan=\"5\" valign=\"top\">A0A024QZX5;A0A087X1N8;P35237</th>\n",
       "      <th>AD</th>\n",
       "      <td>1.016</td>\n",
       "      <td>1</td>\n",
       "      <td>7.308</td>\n",
       "      <td>0.007</td>\n",
       "      <td>0.037</td>\n",
       "      <td>2.126</td>\n",
       "      <td>0.021</td>\n",
       "      <td>True</td>\n",
       "    </tr>\n",
       "    <tr>\n",
       "      <th>age</th>\n",
       "      <td>0.006</td>\n",
       "      <td>1</td>\n",
       "      <td>0.043</td>\n",
       "      <td>0.836</td>\n",
       "      <td>0.000</td>\n",
       "      <td>0.078</td>\n",
       "      <td>0.893</td>\n",
       "      <td>False</td>\n",
       "    </tr>\n",
       "    <tr>\n",
       "      <th>Kiel</th>\n",
       "      <td>0.286</td>\n",
       "      <td>1</td>\n",
       "      <td>2.054</td>\n",
       "      <td>0.153</td>\n",
       "      <td>0.011</td>\n",
       "      <td>0.814</td>\n",
       "      <td>0.253</td>\n",
       "      <td>False</td>\n",
       "    </tr>\n",
       "    <tr>\n",
       "      <th>Magdeburg</th>\n",
       "      <td>0.523</td>\n",
       "      <td>1</td>\n",
       "      <td>3.760</td>\n",
       "      <td>0.054</td>\n",
       "      <td>0.019</td>\n",
       "      <td>1.268</td>\n",
       "      <td>0.109</td>\n",
       "      <td>False</td>\n",
       "    </tr>\n",
       "    <tr>\n",
       "      <th>Sweden</th>\n",
       "      <td>1.812</td>\n",
       "      <td>1</td>\n",
       "      <td>13.037</td>\n",
       "      <td>0.000</td>\n",
       "      <td>0.064</td>\n",
       "      <td>3.409</td>\n",
       "      <td>0.002</td>\n",
       "      <td>True</td>\n",
       "    </tr>\n",
       "    <tr>\n",
       "      <th>...</th>\n",
       "      <th>...</th>\n",
       "      <td>...</td>\n",
       "      <td>...</td>\n",
       "      <td>...</td>\n",
       "      <td>...</td>\n",
       "      <td>...</td>\n",
       "      <td>...</td>\n",
       "      <td>...</td>\n",
       "      <td>...</td>\n",
       "    </tr>\n",
       "    <tr>\n",
       "      <th rowspan=\"5\" valign=\"top\">S4R3U6</th>\n",
       "      <th>AD</th>\n",
       "      <td>3.384</td>\n",
       "      <td>1</td>\n",
       "      <td>5.464</td>\n",
       "      <td>0.020</td>\n",
       "      <td>0.028</td>\n",
       "      <td>1.689</td>\n",
       "      <td>0.049</td>\n",
       "      <td>True</td>\n",
       "    </tr>\n",
       "    <tr>\n",
       "      <th>age</th>\n",
       "      <td>0.539</td>\n",
       "      <td>1</td>\n",
       "      <td>0.870</td>\n",
       "      <td>0.352</td>\n",
       "      <td>0.005</td>\n",
       "      <td>0.453</td>\n",
       "      <td>0.481</td>\n",
       "      <td>False</td>\n",
       "    </tr>\n",
       "    <tr>\n",
       "      <th>Kiel</th>\n",
       "      <td>4.048</td>\n",
       "      <td>1</td>\n",
       "      <td>6.536</td>\n",
       "      <td>0.011</td>\n",
       "      <td>0.033</td>\n",
       "      <td>1.945</td>\n",
       "      <td>0.030</td>\n",
       "      <td>True</td>\n",
       "    </tr>\n",
       "    <tr>\n",
       "      <th>Magdeburg</th>\n",
       "      <td>3.804</td>\n",
       "      <td>1</td>\n",
       "      <td>6.142</td>\n",
       "      <td>0.014</td>\n",
       "      <td>0.031</td>\n",
       "      <td>1.852</td>\n",
       "      <td>0.035</td>\n",
       "      <td>True</td>\n",
       "    </tr>\n",
       "    <tr>\n",
       "      <th>Sweden</th>\n",
       "      <td>19.751</td>\n",
       "      <td>1</td>\n",
       "      <td>31.889</td>\n",
       "      <td>0.000</td>\n",
       "      <td>0.143</td>\n",
       "      <td>7.233</td>\n",
       "      <td>0.000</td>\n",
       "      <td>True</td>\n",
       "    </tr>\n",
       "  </tbody>\n",
       "</table>\n",
       "<p>7105 rows × 8 columns</p>\n",
       "</div>"
      ],
      "text/plain": [
       "model                                     DAE                        \\\n",
       "var                                        SS DF      F p-unc   np2   \n",
       "protein groups               Source                                   \n",
       "A0A024QZX5;A0A087X1N8;P35237 AD         1.016  1  7.308 0.007 0.037   \n",
       "                             age        0.006  1  0.043 0.836 0.000   \n",
       "                             Kiel       0.286  1  2.054 0.153 0.011   \n",
       "                             Magdeburg  0.523  1  3.760 0.054 0.019   \n",
       "                             Sweden     1.812  1 13.037 0.000 0.064   \n",
       "...                                       ... ..    ...   ...   ...   \n",
       "S4R3U6                       AD         3.384  1  5.464 0.020 0.028   \n",
       "                             age        0.539  1  0.870 0.352 0.005   \n",
       "                             Kiel       4.048  1  6.536 0.011 0.033   \n",
       "                             Magdeburg  3.804  1  6.142 0.014 0.031   \n",
       "                             Sweden    19.751  1 31.889 0.000 0.143   \n",
       "\n",
       "model                                                                 \n",
       "var                                    -Log10 pvalue qvalue rejected  \n",
       "protein groups               Source                                   \n",
       "A0A024QZX5;A0A087X1N8;P35237 AD                2.126  0.021     True  \n",
       "                             age               0.078  0.893    False  \n",
       "                             Kiel              0.814  0.253    False  \n",
       "                             Magdeburg         1.268  0.109    False  \n",
       "                             Sweden            3.409  0.002     True  \n",
       "...                                              ...    ...      ...  \n",
       "S4R3U6                       AD                1.689  0.049     True  \n",
       "                             age               0.453  0.481    False  \n",
       "                             Kiel              1.945  0.030     True  \n",
       "                             Magdeburg         1.852  0.035     True  \n",
       "                             Sweden            7.233  0.000     True  \n",
       "\n",
       "[7105 rows x 8 columns]"
      ]
     },
     "execution_count": 7,
     "metadata": {},
     "output_type": "execute_result"
    }
   ],
   "source": [
    "fname = args.scores_folder / f'diff_analysis_scores_{args.model_key}.pkl'\n",
    "scores_model = pd.read_pickle(fname)\n",
    "scores_model"
   ]
  },
  {
   "cell_type": "markdown",
   "id": "06b7e883",
   "metadata": {
    "papermill": {
     "duration": 0.014055,
     "end_time": "2024-05-28T13:57:14.660414",
     "exception": false,
     "start_time": "2024-05-28T13:57:14.646359",
     "status": "completed"
    },
    "tags": []
   },
   "source": [
    "### Combined scores\n",
    "show only selected statistics for comparsion"
   ]
  },
  {
   "cell_type": "code",
   "execution_count": 8,
   "id": "373fdf65",
   "metadata": {
    "execution": {
     "iopub.execute_input": "2024-05-28T13:57:14.689133Z",
     "iopub.status.busy": "2024-05-28T13:57:14.688838Z",
     "iopub.status.idle": "2024-05-28T13:57:14.723010Z",
     "shell.execute_reply": "2024-05-28T13:57:14.722290Z"
    },
    "papermill": {
     "duration": 0.050771,
     "end_time": "2024-05-28T13:57:14.724933",
     "exception": false,
     "start_time": "2024-05-28T13:57:14.674162",
     "status": "completed"
    },
    "tags": [
     "hide-input"
    ]
   },
   "outputs": [
    {
     "data": {
      "text/html": [
       "<div>\n",
       "<style scoped>\n",
       "    .dataframe tbody tr th:only-of-type {\n",
       "        vertical-align: middle;\n",
       "    }\n",
       "\n",
       "    .dataframe tbody tr th {\n",
       "        vertical-align: top;\n",
       "    }\n",
       "\n",
       "    .dataframe thead tr th {\n",
       "        text-align: left;\n",
       "    }\n",
       "\n",
       "    .dataframe thead tr:last-of-type th {\n",
       "        text-align: right;\n",
       "    }\n",
       "</style>\n",
       "<table border=\"1\" class=\"dataframe\">\n",
       "  <thead>\n",
       "    <tr>\n",
       "      <th></th>\n",
       "      <th>model</th>\n",
       "      <th colspan=\"4\" halign=\"left\">DAE</th>\n",
       "      <th colspan=\"4\" halign=\"left\">PI</th>\n",
       "    </tr>\n",
       "    <tr>\n",
       "      <th></th>\n",
       "      <th>var</th>\n",
       "      <th>p-unc</th>\n",
       "      <th>-Log10 pvalue</th>\n",
       "      <th>qvalue</th>\n",
       "      <th>rejected</th>\n",
       "      <th>p-unc</th>\n",
       "      <th>-Log10 pvalue</th>\n",
       "      <th>qvalue</th>\n",
       "      <th>rejected</th>\n",
       "    </tr>\n",
       "    <tr>\n",
       "      <th>protein groups</th>\n",
       "      <th>Source</th>\n",
       "      <th></th>\n",
       "      <th></th>\n",
       "      <th></th>\n",
       "      <th></th>\n",
       "      <th></th>\n",
       "      <th></th>\n",
       "      <th></th>\n",
       "      <th></th>\n",
       "    </tr>\n",
       "  </thead>\n",
       "  <tbody>\n",
       "    <tr>\n",
       "      <th rowspan=\"5\" valign=\"top\">A0A024QZX5;A0A087X1N8;P35237</th>\n",
       "      <th>AD</th>\n",
       "      <td>0.007</td>\n",
       "      <td>2.126</td>\n",
       "      <td>0.021</td>\n",
       "      <td>True</td>\n",
       "      <td>0.284</td>\n",
       "      <td>0.547</td>\n",
       "      <td>0.446</td>\n",
       "      <td>False</td>\n",
       "    </tr>\n",
       "    <tr>\n",
       "      <th>age</th>\n",
       "      <td>0.836</td>\n",
       "      <td>0.078</td>\n",
       "      <td>0.893</td>\n",
       "      <td>False</td>\n",
       "      <td>0.666</td>\n",
       "      <td>0.177</td>\n",
       "      <td>0.782</td>\n",
       "      <td>False</td>\n",
       "    </tr>\n",
       "    <tr>\n",
       "      <th>Kiel</th>\n",
       "      <td>0.153</td>\n",
       "      <td>0.814</td>\n",
       "      <td>0.253</td>\n",
       "      <td>False</td>\n",
       "      <td>0.062</td>\n",
       "      <td>1.208</td>\n",
       "      <td>0.144</td>\n",
       "      <td>False</td>\n",
       "    </tr>\n",
       "    <tr>\n",
       "      <th>Magdeburg</th>\n",
       "      <td>0.054</td>\n",
       "      <td>1.268</td>\n",
       "      <td>0.109</td>\n",
       "      <td>False</td>\n",
       "      <td>0.007</td>\n",
       "      <td>2.176</td>\n",
       "      <td>0.024</td>\n",
       "      <td>True</td>\n",
       "    </tr>\n",
       "    <tr>\n",
       "      <th>Sweden</th>\n",
       "      <td>0.000</td>\n",
       "      <td>3.409</td>\n",
       "      <td>0.002</td>\n",
       "      <td>True</td>\n",
       "      <td>0.001</td>\n",
       "      <td>3.103</td>\n",
       "      <td>0.004</td>\n",
       "      <td>True</td>\n",
       "    </tr>\n",
       "    <tr>\n",
       "      <th>...</th>\n",
       "      <th>...</th>\n",
       "      <td>...</td>\n",
       "      <td>...</td>\n",
       "      <td>...</td>\n",
       "      <td>...</td>\n",
       "      <td>...</td>\n",
       "      <td>...</td>\n",
       "      <td>...</td>\n",
       "      <td>...</td>\n",
       "    </tr>\n",
       "    <tr>\n",
       "      <th rowspan=\"5\" valign=\"top\">S4R3U6</th>\n",
       "      <th>AD</th>\n",
       "      <td>0.020</td>\n",
       "      <td>1.689</td>\n",
       "      <td>0.049</td>\n",
       "      <td>True</td>\n",
       "      <td>0.431</td>\n",
       "      <td>0.366</td>\n",
       "      <td>0.590</td>\n",
       "      <td>False</td>\n",
       "    </tr>\n",
       "    <tr>\n",
       "      <th>age</th>\n",
       "      <td>0.352</td>\n",
       "      <td>0.453</td>\n",
       "      <td>0.481</td>\n",
       "      <td>False</td>\n",
       "      <td>0.152</td>\n",
       "      <td>0.817</td>\n",
       "      <td>0.284</td>\n",
       "      <td>False</td>\n",
       "    </tr>\n",
       "    <tr>\n",
       "      <th>Kiel</th>\n",
       "      <td>0.011</td>\n",
       "      <td>1.945</td>\n",
       "      <td>0.030</td>\n",
       "      <td>True</td>\n",
       "      <td>0.768</td>\n",
       "      <td>0.115</td>\n",
       "      <td>0.856</td>\n",
       "      <td>False</td>\n",
       "    </tr>\n",
       "    <tr>\n",
       "      <th>Magdeburg</th>\n",
       "      <td>0.014</td>\n",
       "      <td>1.852</td>\n",
       "      <td>0.035</td>\n",
       "      <td>True</td>\n",
       "      <td>0.162</td>\n",
       "      <td>0.792</td>\n",
       "      <td>0.296</td>\n",
       "      <td>False</td>\n",
       "    </tr>\n",
       "    <tr>\n",
       "      <th>Sweden</th>\n",
       "      <td>0.000</td>\n",
       "      <td>7.233</td>\n",
       "      <td>0.000</td>\n",
       "      <td>True</td>\n",
       "      <td>0.000</td>\n",
       "      <td>4.371</td>\n",
       "      <td>0.000</td>\n",
       "      <td>True</td>\n",
       "    </tr>\n",
       "  </tbody>\n",
       "</table>\n",
       "<p>7105 rows × 8 columns</p>\n",
       "</div>"
      ],
      "text/plain": [
       "model                                    DAE                                \\\n",
       "var                                    p-unc -Log10 pvalue qvalue rejected   \n",
       "protein groups               Source                                          \n",
       "A0A024QZX5;A0A087X1N8;P35237 AD        0.007         2.126  0.021     True   \n",
       "                             age       0.836         0.078  0.893    False   \n",
       "                             Kiel      0.153         0.814  0.253    False   \n",
       "                             Magdeburg 0.054         1.268  0.109    False   \n",
       "                             Sweden    0.000         3.409  0.002     True   \n",
       "...                                      ...           ...    ...      ...   \n",
       "S4R3U6                       AD        0.020         1.689  0.049     True   \n",
       "                             age       0.352         0.453  0.481    False   \n",
       "                             Kiel      0.011         1.945  0.030     True   \n",
       "                             Magdeburg 0.014         1.852  0.035     True   \n",
       "                             Sweden    0.000         7.233  0.000     True   \n",
       "\n",
       "model                                     PI                                \n",
       "var                                    p-unc -Log10 pvalue qvalue rejected  \n",
       "protein groups               Source                                         \n",
       "A0A024QZX5;A0A087X1N8;P35237 AD        0.284         0.547  0.446    False  \n",
       "                             age       0.666         0.177  0.782    False  \n",
       "                             Kiel      0.062         1.208  0.144    False  \n",
       "                             Magdeburg 0.007         2.176  0.024     True  \n",
       "                             Sweden    0.001         3.103  0.004     True  \n",
       "...                                      ...           ...    ...      ...  \n",
       "S4R3U6                       AD        0.431         0.366  0.590    False  \n",
       "                             age       0.152         0.817  0.284    False  \n",
       "                             Kiel      0.768         0.115  0.856    False  \n",
       "                             Magdeburg 0.162         0.792  0.296    False  \n",
       "                             Sweden    0.000         4.371  0.000     True  \n",
       "\n",
       "[7105 rows x 8 columns]"
      ]
     },
     "execution_count": 8,
     "metadata": {},
     "output_type": "execute_result"
    }
   ],
   "source": [
    "scores = scores_model.join(scores_baseline, how='outer')[[args.baseline, args.model_key]]\n",
    "scores = scores.loc[:, pd.IndexSlice[scores.columns.levels[0].to_list(),\n",
    "                                     args.selected_statistics]]\n",
    "scores"
   ]
  },
  {
   "cell_type": "markdown",
   "id": "b84a6e5a",
   "metadata": {
    "papermill": {
     "duration": 0.010949,
     "end_time": "2024-05-28T13:57:14.749736",
     "exception": false,
     "start_time": "2024-05-28T13:57:14.738787",
     "status": "completed"
    },
    "tags": []
   },
   "source": [
    "Models in comparison (name mapping)"
   ]
  },
  {
   "cell_type": "code",
   "execution_count": 9,
   "id": "34d243d1-3ab4-40e7-9eb8-f9efc828b82d",
   "metadata": {
    "execution": {
     "iopub.execute_input": "2024-05-28T13:57:14.780137Z",
     "iopub.status.busy": "2024-05-28T13:57:14.779702Z",
     "iopub.status.idle": "2024-05-28T13:57:14.786131Z",
     "shell.execute_reply": "2024-05-28T13:57:14.785438Z"
    },
    "papermill": {
     "duration": 0.026285,
     "end_time": "2024-05-28T13:57:14.790312",
     "exception": false,
     "start_time": "2024-05-28T13:57:14.764027",
     "status": "completed"
    },
    "tags": [
     "hide-input"
    ]
   },
   "outputs": [
    {
     "data": {
      "text/plain": [
       "{'DAE': 'DAE', 'PI': 'PI'}"
      ]
     },
     "execution_count": 9,
     "metadata": {},
     "output_type": "execute_result"
    }
   ],
   "source": [
    "models = vaep.nb.Config.from_dict(\n",
    "    vaep.pandas.index_to_dict(scores.columns.get_level_values(0)))\n",
    "vars(models)"
   ]
  },
  {
   "cell_type": "markdown",
   "id": "dd7a560d",
   "metadata": {
    "papermill": {
     "duration": 0.018419,
     "end_time": "2024-05-28T13:57:14.822910",
     "exception": false,
     "start_time": "2024-05-28T13:57:14.804491",
     "status": "completed"
    },
    "tags": []
   },
   "source": [
    "## Describe scores"
   ]
  },
  {
   "cell_type": "code",
   "execution_count": 10,
   "id": "0fee8f5d-fa52-4369-a1f9-fcfd518ab6bd",
   "metadata": {
    "execution": {
     "iopub.execute_input": "2024-05-28T13:57:14.941668Z",
     "iopub.status.busy": "2024-05-28T13:57:14.940826Z",
     "iopub.status.idle": "2024-05-28T13:57:14.973661Z",
     "shell.execute_reply": "2024-05-28T13:57:14.972936Z"
    },
    "papermill": {
     "duration": 0.117529,
     "end_time": "2024-05-28T13:57:14.975743",
     "exception": false,
     "start_time": "2024-05-28T13:57:14.858214",
     "status": "completed"
    },
    "tags": [
     "hide-input"
    ]
   },
   "outputs": [
    {
     "data": {
      "text/html": [
       "<div>\n",
       "<style scoped>\n",
       "    .dataframe tbody tr th:only-of-type {\n",
       "        vertical-align: middle;\n",
       "    }\n",
       "\n",
       "    .dataframe tbody tr th {\n",
       "        vertical-align: top;\n",
       "    }\n",
       "\n",
       "    .dataframe thead tr th {\n",
       "        text-align: left;\n",
       "    }\n",
       "</style>\n",
       "<table border=\"1\" class=\"dataframe\">\n",
       "  <thead>\n",
       "    <tr>\n",
       "      <th>model</th>\n",
       "      <th colspan=\"3\" halign=\"left\">DAE</th>\n",
       "      <th colspan=\"3\" halign=\"left\">PI</th>\n",
       "    </tr>\n",
       "    <tr>\n",
       "      <th>var</th>\n",
       "      <th>p-unc</th>\n",
       "      <th>-Log10 pvalue</th>\n",
       "      <th>qvalue</th>\n",
       "      <th>p-unc</th>\n",
       "      <th>-Log10 pvalue</th>\n",
       "      <th>qvalue</th>\n",
       "    </tr>\n",
       "  </thead>\n",
       "  <tbody>\n",
       "    <tr>\n",
       "      <th>count</th>\n",
       "      <td>7,105.000</td>\n",
       "      <td>7,105.000</td>\n",
       "      <td>7,105.000</td>\n",
       "      <td>7,105.000</td>\n",
       "      <td>7,105.000</td>\n",
       "      <td>7,105.000</td>\n",
       "    </tr>\n",
       "    <tr>\n",
       "      <th>mean</th>\n",
       "      <td>0.223</td>\n",
       "      <td>3.315</td>\n",
       "      <td>0.275</td>\n",
       "      <td>0.260</td>\n",
       "      <td>2.475</td>\n",
       "      <td>0.337</td>\n",
       "    </tr>\n",
       "    <tr>\n",
       "      <th>std</th>\n",
       "      <td>0.294</td>\n",
       "      <td>6.261</td>\n",
       "      <td>0.320</td>\n",
       "      <td>0.302</td>\n",
       "      <td>5.303</td>\n",
       "      <td>0.330</td>\n",
       "    </tr>\n",
       "    <tr>\n",
       "      <th>min</th>\n",
       "      <td>0.000</td>\n",
       "      <td>0.000</td>\n",
       "      <td>0.000</td>\n",
       "      <td>0.000</td>\n",
       "      <td>0.000</td>\n",
       "      <td>0.000</td>\n",
       "    </tr>\n",
       "    <tr>\n",
       "      <th>25%</th>\n",
       "      <td>0.000</td>\n",
       "      <td>0.414</td>\n",
       "      <td>0.002</td>\n",
       "      <td>0.004</td>\n",
       "      <td>0.332</td>\n",
       "      <td>0.014</td>\n",
       "    </tr>\n",
       "    <tr>\n",
       "      <th>50%</th>\n",
       "      <td>0.057</td>\n",
       "      <td>1.243</td>\n",
       "      <td>0.114</td>\n",
       "      <td>0.119</td>\n",
       "      <td>0.923</td>\n",
       "      <td>0.239</td>\n",
       "    </tr>\n",
       "    <tr>\n",
       "      <th>75%</th>\n",
       "      <td>0.385</td>\n",
       "      <td>3.342</td>\n",
       "      <td>0.513</td>\n",
       "      <td>0.466</td>\n",
       "      <td>2.445</td>\n",
       "      <td>0.621</td>\n",
       "    </tr>\n",
       "    <tr>\n",
       "      <th>max</th>\n",
       "      <td>1.000</td>\n",
       "      <td>86.907</td>\n",
       "      <td>1.000</td>\n",
       "      <td>1.000</td>\n",
       "      <td>147.179</td>\n",
       "      <td>1.000</td>\n",
       "    </tr>\n",
       "  </tbody>\n",
       "</table>\n",
       "</div>"
      ],
      "text/plain": [
       "model       DAE                                PI                        \n",
       "var       p-unc -Log10 pvalue    qvalue     p-unc -Log10 pvalue    qvalue\n",
       "count 7,105.000     7,105.000 7,105.000 7,105.000     7,105.000 7,105.000\n",
       "mean      0.223         3.315     0.275     0.260         2.475     0.337\n",
       "std       0.294         6.261     0.320     0.302         5.303     0.330\n",
       "min       0.000         0.000     0.000     0.000         0.000     0.000\n",
       "25%       0.000         0.414     0.002     0.004         0.332     0.014\n",
       "50%       0.057         1.243     0.114     0.119         0.923     0.239\n",
       "75%       0.385         3.342     0.513     0.466         2.445     0.621\n",
       "max       1.000        86.907     1.000     1.000       147.179     1.000"
      ]
     },
     "execution_count": 10,
     "metadata": {},
     "output_type": "execute_result"
    }
   ],
   "source": [
    "scores.describe()"
   ]
  },
  {
   "cell_type": "markdown",
   "id": "52ecc596",
   "metadata": {
    "papermill": {
     "duration": 0.01419,
     "end_time": "2024-05-28T13:57:15.004817",
     "exception": false,
     "start_time": "2024-05-28T13:57:14.990627",
     "status": "completed"
    },
    "tags": []
   },
   "source": [
    "### One to one comparison of by feature:"
   ]
  },
  {
   "cell_type": "code",
   "execution_count": 11,
   "id": "c6e5a0a6-343b-4f07-8d9d-2cd5cf95ae1f",
   "metadata": {
    "execution": {
     "iopub.execute_input": "2024-05-28T13:57:15.035166Z",
     "iopub.status.busy": "2024-05-28T13:57:15.034852Z",
     "iopub.status.idle": "2024-05-28T13:57:15.401116Z",
     "shell.execute_reply": "2024-05-28T13:57:15.400357Z"
    },
    "papermill": {
     "duration": 0.383824,
     "end_time": "2024-05-28T13:57:15.403056",
     "exception": false,
     "start_time": "2024-05-28T13:57:15.019232",
     "status": "completed"
    },
    "tags": [
     "hide-input"
    ]
   },
   "outputs": [
    {
     "data": {
      "text/html": [
       "<div>\n",
       "<style scoped>\n",
       "    .dataframe tbody tr th:only-of-type {\n",
       "        vertical-align: middle;\n",
       "    }\n",
       "\n",
       "    .dataframe tbody tr th {\n",
       "        vertical-align: top;\n",
       "    }\n",
       "\n",
       "    .dataframe thead tr th {\n",
       "        text-align: left;\n",
       "    }\n",
       "\n",
       "    .dataframe thead tr:last-of-type th {\n",
       "        text-align: right;\n",
       "    }\n",
       "</style>\n",
       "<table border=\"1\" class=\"dataframe\">\n",
       "  <thead>\n",
       "    <tr>\n",
       "      <th></th>\n",
       "      <th>model</th>\n",
       "      <th colspan=\"4\" halign=\"left\">DAE</th>\n",
       "      <th colspan=\"4\" halign=\"left\">PI</th>\n",
       "    </tr>\n",
       "    <tr>\n",
       "      <th></th>\n",
       "      <th>var</th>\n",
       "      <th>p-unc</th>\n",
       "      <th>-Log10 pvalue</th>\n",
       "      <th>qvalue</th>\n",
       "      <th>rejected</th>\n",
       "      <th>p-unc</th>\n",
       "      <th>-Log10 pvalue</th>\n",
       "      <th>qvalue</th>\n",
       "      <th>rejected</th>\n",
       "    </tr>\n",
       "    <tr>\n",
       "      <th>protein groups</th>\n",
       "      <th>Source</th>\n",
       "      <th></th>\n",
       "      <th></th>\n",
       "      <th></th>\n",
       "      <th></th>\n",
       "      <th></th>\n",
       "      <th></th>\n",
       "      <th></th>\n",
       "      <th></th>\n",
       "    </tr>\n",
       "  </thead>\n",
       "  <tbody>\n",
       "    <tr>\n",
       "      <th>A0A024QZX5;A0A087X1N8;P35237</th>\n",
       "      <th>AD</th>\n",
       "      <td>0.007</td>\n",
       "      <td>2.126</td>\n",
       "      <td>0.021</td>\n",
       "      <td>True</td>\n",
       "      <td>0.284</td>\n",
       "      <td>0.547</td>\n",
       "      <td>0.446</td>\n",
       "      <td>False</td>\n",
       "    </tr>\n",
       "    <tr>\n",
       "      <th>A0A024R0T9;K7ER74;P02655</th>\n",
       "      <th>AD</th>\n",
       "      <td>0.037</td>\n",
       "      <td>1.430</td>\n",
       "      <td>0.080</td>\n",
       "      <td>False</td>\n",
       "      <td>0.052</td>\n",
       "      <td>1.285</td>\n",
       "      <td>0.125</td>\n",
       "      <td>False</td>\n",
       "    </tr>\n",
       "    <tr>\n",
       "      <th>A0A024R3W6;A0A024R412;O60462;O60462-2;O60462-3;O60462-4;O60462-5;Q7LBX6;X5D2Q8</th>\n",
       "      <th>AD</th>\n",
       "      <td>0.370</td>\n",
       "      <td>0.431</td>\n",
       "      <td>0.499</td>\n",
       "      <td>False</td>\n",
       "      <td>0.098</td>\n",
       "      <td>1.009</td>\n",
       "      <td>0.206</td>\n",
       "      <td>False</td>\n",
       "    </tr>\n",
       "    <tr>\n",
       "      <th>A0A024R644;A0A0A0MRU5;A0A1B0GWI2;O75503</th>\n",
       "      <th>AD</th>\n",
       "      <td>0.250</td>\n",
       "      <td>0.601</td>\n",
       "      <td>0.371</td>\n",
       "      <td>False</td>\n",
       "      <td>0.502</td>\n",
       "      <td>0.299</td>\n",
       "      <td>0.652</td>\n",
       "      <td>False</td>\n",
       "    </tr>\n",
       "    <tr>\n",
       "      <th>A0A075B6H7</th>\n",
       "      <th>AD</th>\n",
       "      <td>0.012</td>\n",
       "      <td>1.924</td>\n",
       "      <td>0.031</td>\n",
       "      <td>True</td>\n",
       "      <td>0.154</td>\n",
       "      <td>0.813</td>\n",
       "      <td>0.286</td>\n",
       "      <td>False</td>\n",
       "    </tr>\n",
       "    <tr>\n",
       "      <th>...</th>\n",
       "      <th>...</th>\n",
       "      <td>...</td>\n",
       "      <td>...</td>\n",
       "      <td>...</td>\n",
       "      <td>...</td>\n",
       "      <td>...</td>\n",
       "      <td>...</td>\n",
       "      <td>...</td>\n",
       "      <td>...</td>\n",
       "    </tr>\n",
       "    <tr>\n",
       "      <th>Q9Y6R7</th>\n",
       "      <th>AD</th>\n",
       "      <td>0.175</td>\n",
       "      <td>0.756</td>\n",
       "      <td>0.282</td>\n",
       "      <td>False</td>\n",
       "      <td>0.175</td>\n",
       "      <td>0.756</td>\n",
       "      <td>0.315</td>\n",
       "      <td>False</td>\n",
       "    </tr>\n",
       "    <tr>\n",
       "      <th>Q9Y6X5</th>\n",
       "      <th>AD</th>\n",
       "      <td>0.132</td>\n",
       "      <td>0.879</td>\n",
       "      <td>0.225</td>\n",
       "      <td>False</td>\n",
       "      <td>0.060</td>\n",
       "      <td>1.225</td>\n",
       "      <td>0.140</td>\n",
       "      <td>False</td>\n",
       "    </tr>\n",
       "    <tr>\n",
       "      <th>Q9Y6Y8;Q9Y6Y8-2</th>\n",
       "      <th>AD</th>\n",
       "      <td>0.083</td>\n",
       "      <td>1.079</td>\n",
       "      <td>0.155</td>\n",
       "      <td>False</td>\n",
       "      <td>0.083</td>\n",
       "      <td>1.079</td>\n",
       "      <td>0.182</td>\n",
       "      <td>False</td>\n",
       "    </tr>\n",
       "    <tr>\n",
       "      <th>Q9Y6Y9</th>\n",
       "      <th>AD</th>\n",
       "      <td>0.812</td>\n",
       "      <td>0.090</td>\n",
       "      <td>0.877</td>\n",
       "      <td>False</td>\n",
       "      <td>0.268</td>\n",
       "      <td>0.572</td>\n",
       "      <td>0.429</td>\n",
       "      <td>False</td>\n",
       "    </tr>\n",
       "    <tr>\n",
       "      <th>S4R3U6</th>\n",
       "      <th>AD</th>\n",
       "      <td>0.020</td>\n",
       "      <td>1.689</td>\n",
       "      <td>0.049</td>\n",
       "      <td>True</td>\n",
       "      <td>0.431</td>\n",
       "      <td>0.366</td>\n",
       "      <td>0.590</td>\n",
       "      <td>False</td>\n",
       "    </tr>\n",
       "  </tbody>\n",
       "</table>\n",
       "<p>1421 rows × 8 columns</p>\n",
       "</div>"
      ],
      "text/plain": [
       "model                                                       DAE                \\\n",
       "var                                                       p-unc -Log10 pvalue   \n",
       "protein groups                                     Source                       \n",
       "A0A024QZX5;A0A087X1N8;P35237                       AD     0.007         2.126   \n",
       "A0A024R0T9;K7ER74;P02655                           AD     0.037         1.430   \n",
       "A0A024R3W6;A0A024R412;O60462;O60462-2;O60462-3;... AD     0.370         0.431   \n",
       "A0A024R644;A0A0A0MRU5;A0A1B0GWI2;O75503            AD     0.250         0.601   \n",
       "A0A075B6H7                                         AD     0.012         1.924   \n",
       "...                                                         ...           ...   \n",
       "Q9Y6R7                                             AD     0.175         0.756   \n",
       "Q9Y6X5                                             AD     0.132         0.879   \n",
       "Q9Y6Y8;Q9Y6Y8-2                                    AD     0.083         1.079   \n",
       "Q9Y6Y9                                             AD     0.812         0.090   \n",
       "S4R3U6                                             AD     0.020         1.689   \n",
       "\n",
       "model                                                                      \\\n",
       "var                                                       qvalue rejected   \n",
       "protein groups                                     Source                   \n",
       "A0A024QZX5;A0A087X1N8;P35237                       AD      0.021     True   \n",
       "A0A024R0T9;K7ER74;P02655                           AD      0.080    False   \n",
       "A0A024R3W6;A0A024R412;O60462;O60462-2;O60462-3;... AD      0.499    False   \n",
       "A0A024R644;A0A0A0MRU5;A0A1B0GWI2;O75503            AD      0.371    False   \n",
       "A0A075B6H7                                         AD      0.031     True   \n",
       "...                                                          ...      ...   \n",
       "Q9Y6R7                                             AD      0.282    False   \n",
       "Q9Y6X5                                             AD      0.225    False   \n",
       "Q9Y6Y8;Q9Y6Y8-2                                    AD      0.155    False   \n",
       "Q9Y6Y9                                             AD      0.877    False   \n",
       "S4R3U6                                             AD      0.049     True   \n",
       "\n",
       "model                                                        PI                \\\n",
       "var                                                       p-unc -Log10 pvalue   \n",
       "protein groups                                     Source                       \n",
       "A0A024QZX5;A0A087X1N8;P35237                       AD     0.284         0.547   \n",
       "A0A024R0T9;K7ER74;P02655                           AD     0.052         1.285   \n",
       "A0A024R3W6;A0A024R412;O60462;O60462-2;O60462-3;... AD     0.098         1.009   \n",
       "A0A024R644;A0A0A0MRU5;A0A1B0GWI2;O75503            AD     0.502         0.299   \n",
       "A0A075B6H7                                         AD     0.154         0.813   \n",
       "...                                                         ...           ...   \n",
       "Q9Y6R7                                             AD     0.175         0.756   \n",
       "Q9Y6X5                                             AD     0.060         1.225   \n",
       "Q9Y6Y8;Q9Y6Y8-2                                    AD     0.083         1.079   \n",
       "Q9Y6Y9                                             AD     0.268         0.572   \n",
       "S4R3U6                                             AD     0.431         0.366   \n",
       "\n",
       "model                                                                      \n",
       "var                                                       qvalue rejected  \n",
       "protein groups                                     Source                  \n",
       "A0A024QZX5;A0A087X1N8;P35237                       AD      0.446    False  \n",
       "A0A024R0T9;K7ER74;P02655                           AD      0.125    False  \n",
       "A0A024R3W6;A0A024R412;O60462;O60462-2;O60462-3;... AD      0.206    False  \n",
       "A0A024R644;A0A0A0MRU5;A0A1B0GWI2;O75503            AD      0.652    False  \n",
       "A0A075B6H7                                         AD      0.286    False  \n",
       "...                                                          ...      ...  \n",
       "Q9Y6R7                                             AD      0.315    False  \n",
       "Q9Y6X5                                             AD      0.140    False  \n",
       "Q9Y6Y8;Q9Y6Y8-2                                    AD      0.182    False  \n",
       "Q9Y6Y9                                             AD      0.429    False  \n",
       "S4R3U6                                             AD      0.590    False  \n",
       "\n",
       "[1421 rows x 8 columns]"
      ]
     },
     "execution_count": 11,
     "metadata": {},
     "output_type": "execute_result"
    }
   ],
   "source": [
    "scores = scores.loc[pd.IndexSlice[:, args.target], :]\n",
    "scores.to_excel(writer, 'scores', **writer_args)\n",
    "scores"
   ]
  },
  {
   "cell_type": "markdown",
   "id": "36e14580",
   "metadata": {
    "papermill": {
     "duration": 0.015612,
     "end_time": "2024-05-28T13:57:15.434641",
     "exception": false,
     "start_time": "2024-05-28T13:57:15.419029",
     "status": "completed"
    },
    "tags": []
   },
   "source": [
    "And the descriptive statistics\n",
    "of the numeric values:"
   ]
  },
  {
   "cell_type": "code",
   "execution_count": 12,
   "id": "0e45e80a-32d8-4c6c-b0a4-5ce8b7f9e121",
   "metadata": {
    "execution": {
     "iopub.execute_input": "2024-05-28T13:57:15.466813Z",
     "iopub.status.busy": "2024-05-28T13:57:15.466487Z",
     "iopub.status.idle": "2024-05-28T13:57:15.498081Z",
     "shell.execute_reply": "2024-05-28T13:57:15.497374Z"
    },
    "papermill": {
     "duration": 0.049769,
     "end_time": "2024-05-28T13:57:15.499939",
     "exception": false,
     "start_time": "2024-05-28T13:57:15.450170",
     "status": "completed"
    },
    "tags": [
     "hide-input"
    ]
   },
   "outputs": [
    {
     "data": {
      "text/html": [
       "<div>\n",
       "<style scoped>\n",
       "    .dataframe tbody tr th:only-of-type {\n",
       "        vertical-align: middle;\n",
       "    }\n",
       "\n",
       "    .dataframe tbody tr th {\n",
       "        vertical-align: top;\n",
       "    }\n",
       "\n",
       "    .dataframe thead tr th {\n",
       "        text-align: left;\n",
       "    }\n",
       "</style>\n",
       "<table border=\"1\" class=\"dataframe\">\n",
       "  <thead>\n",
       "    <tr>\n",
       "      <th>model</th>\n",
       "      <th colspan=\"3\" halign=\"left\">DAE</th>\n",
       "      <th colspan=\"3\" halign=\"left\">PI</th>\n",
       "    </tr>\n",
       "    <tr>\n",
       "      <th>var</th>\n",
       "      <th>p-unc</th>\n",
       "      <th>-Log10 pvalue</th>\n",
       "      <th>qvalue</th>\n",
       "      <th>p-unc</th>\n",
       "      <th>-Log10 pvalue</th>\n",
       "      <th>qvalue</th>\n",
       "    </tr>\n",
       "  </thead>\n",
       "  <tbody>\n",
       "    <tr>\n",
       "      <th>count</th>\n",
       "      <td>1,421.000</td>\n",
       "      <td>1,421.000</td>\n",
       "      <td>1,421.000</td>\n",
       "      <td>1,421.000</td>\n",
       "      <td>1,421.000</td>\n",
       "      <td>1,421.000</td>\n",
       "    </tr>\n",
       "    <tr>\n",
       "      <th>mean</th>\n",
       "      <td>0.238</td>\n",
       "      <td>1.599</td>\n",
       "      <td>0.298</td>\n",
       "      <td>0.255</td>\n",
       "      <td>1.401</td>\n",
       "      <td>0.338</td>\n",
       "    </tr>\n",
       "    <tr>\n",
       "      <th>std</th>\n",
       "      <td>0.291</td>\n",
       "      <td>1.865</td>\n",
       "      <td>0.315</td>\n",
       "      <td>0.291</td>\n",
       "      <td>1.638</td>\n",
       "      <td>0.317</td>\n",
       "    </tr>\n",
       "    <tr>\n",
       "      <th>min</th>\n",
       "      <td>0.000</td>\n",
       "      <td>0.001</td>\n",
       "      <td>0.000</td>\n",
       "      <td>0.000</td>\n",
       "      <td>0.001</td>\n",
       "      <td>0.000</td>\n",
       "    </tr>\n",
       "    <tr>\n",
       "      <th>25%</th>\n",
       "      <td>0.007</td>\n",
       "      <td>0.380</td>\n",
       "      <td>0.020</td>\n",
       "      <td>0.011</td>\n",
       "      <td>0.357</td>\n",
       "      <td>0.037</td>\n",
       "    </tr>\n",
       "    <tr>\n",
       "      <th>50%</th>\n",
       "      <td>0.084</td>\n",
       "      <td>1.074</td>\n",
       "      <td>0.156</td>\n",
       "      <td>0.126</td>\n",
       "      <td>0.900</td>\n",
       "      <td>0.248</td>\n",
       "    </tr>\n",
       "    <tr>\n",
       "      <th>75%</th>\n",
       "      <td>0.417</td>\n",
       "      <td>2.140</td>\n",
       "      <td>0.544</td>\n",
       "      <td>0.439</td>\n",
       "      <td>1.943</td>\n",
       "      <td>0.598</td>\n",
       "    </tr>\n",
       "    <tr>\n",
       "      <th>max</th>\n",
       "      <td>0.999</td>\n",
       "      <td>22.251</td>\n",
       "      <td>0.999</td>\n",
       "      <td>0.997</td>\n",
       "      <td>22.880</td>\n",
       "      <td>0.998</td>\n",
       "    </tr>\n",
       "  </tbody>\n",
       "</table>\n",
       "</div>"
      ],
      "text/plain": [
       "model       DAE                                PI                        \n",
       "var       p-unc -Log10 pvalue    qvalue     p-unc -Log10 pvalue    qvalue\n",
       "count 1,421.000     1,421.000 1,421.000 1,421.000     1,421.000 1,421.000\n",
       "mean      0.238         1.599     0.298     0.255         1.401     0.338\n",
       "std       0.291         1.865     0.315     0.291         1.638     0.317\n",
       "min       0.000         0.001     0.000     0.000         0.001     0.000\n",
       "25%       0.007         0.380     0.020     0.011         0.357     0.037\n",
       "50%       0.084         1.074     0.156     0.126         0.900     0.248\n",
       "75%       0.417         2.140     0.544     0.439         1.943     0.598\n",
       "max       0.999        22.251     0.999     0.997        22.880     0.998"
      ]
     },
     "execution_count": 12,
     "metadata": {},
     "output_type": "execute_result"
    }
   ],
   "source": [
    "scores.describe()"
   ]
  },
  {
   "cell_type": "markdown",
   "id": "e520d6dc",
   "metadata": {
    "papermill": {
     "duration": 0.014987,
     "end_time": "2024-05-28T13:57:15.530689",
     "exception": false,
     "start_time": "2024-05-28T13:57:15.515702",
     "status": "completed"
    },
    "tags": []
   },
   "source": [
    "and the boolean decision values"
   ]
  },
  {
   "cell_type": "code",
   "execution_count": 13,
   "id": "53bd5597-221c-4d54-abf2-82956db42594",
   "metadata": {
    "execution": {
     "iopub.execute_input": "2024-05-28T13:57:15.561382Z",
     "iopub.status.busy": "2024-05-28T13:57:15.561071Z",
     "iopub.status.idle": "2024-05-28T13:57:15.576925Z",
     "shell.execute_reply": "2024-05-28T13:57:15.576280Z"
    },
    "lines_to_next_cell": 2,
    "papermill": {
     "duration": 0.033635,
     "end_time": "2024-05-28T13:57:15.578767",
     "exception": false,
     "start_time": "2024-05-28T13:57:15.545132",
     "status": "completed"
    },
    "tags": [
     "hide-input"
    ]
   },
   "outputs": [
    {
     "data": {
      "text/html": [
       "<div>\n",
       "<style scoped>\n",
       "    .dataframe tbody tr th:only-of-type {\n",
       "        vertical-align: middle;\n",
       "    }\n",
       "\n",
       "    .dataframe tbody tr th {\n",
       "        vertical-align: top;\n",
       "    }\n",
       "\n",
       "    .dataframe thead tr th {\n",
       "        text-align: left;\n",
       "    }\n",
       "</style>\n",
       "<table border=\"1\" class=\"dataframe\">\n",
       "  <thead>\n",
       "    <tr>\n",
       "      <th>model</th>\n",
       "      <th>DAE</th>\n",
       "      <th>PI</th>\n",
       "    </tr>\n",
       "    <tr>\n",
       "      <th>var</th>\n",
       "      <th>rejected</th>\n",
       "      <th>rejected</th>\n",
       "    </tr>\n",
       "  </thead>\n",
       "  <tbody>\n",
       "    <tr>\n",
       "      <th>count</th>\n",
       "      <td>1421</td>\n",
       "      <td>1421</td>\n",
       "    </tr>\n",
       "    <tr>\n",
       "      <th>unique</th>\n",
       "      <td>2</td>\n",
       "      <td>2</td>\n",
       "    </tr>\n",
       "    <tr>\n",
       "      <th>top</th>\n",
       "      <td>False</td>\n",
       "      <td>False</td>\n",
       "    </tr>\n",
       "    <tr>\n",
       "      <th>freq</th>\n",
       "      <td>934</td>\n",
       "      <td>1027</td>\n",
       "    </tr>\n",
       "  </tbody>\n",
       "</table>\n",
       "</div>"
      ],
      "text/plain": [
       "model       DAE       PI\n",
       "var    rejected rejected\n",
       "count      1421     1421\n",
       "unique        2        2\n",
       "top       False    False\n",
       "freq        934     1027"
      ]
     },
     "execution_count": 13,
     "metadata": {},
     "output_type": "execute_result"
    }
   ],
   "source": [
    "scores.describe(include=['bool', 'O'])"
   ]
  },
  {
   "cell_type": "markdown",
   "id": "bef83742-05e5-473b-892e-dd286cb3a31f",
   "metadata": {
    "papermill": {
     "duration": 0.014579,
     "end_time": "2024-05-28T13:57:15.608092",
     "exception": false,
     "start_time": "2024-05-28T13:57:15.593513",
     "status": "completed"
    },
    "tags": []
   },
   "source": [
    "## Load frequencies of observed features"
   ]
  },
  {
   "cell_type": "code",
   "execution_count": 14,
   "id": "2a926ba1-0f3b-4089-a349-b6d66128cf37",
   "metadata": {
    "execution": {
     "iopub.execute_input": "2024-05-28T13:57:15.635681Z",
     "iopub.status.busy": "2024-05-28T13:57:15.635335Z",
     "iopub.status.idle": "2024-05-28T13:57:15.652744Z",
     "shell.execute_reply": "2024-05-28T13:57:15.652061Z"
    },
    "papermill": {
     "duration": 0.033531,
     "end_time": "2024-05-28T13:57:15.654529",
     "exception": false,
     "start_time": "2024-05-28T13:57:15.620998",
     "status": "completed"
    },
    "tags": [
     "hide-input"
    ]
   },
   "outputs": [
    {
     "data": {
      "text/html": [
       "<div>\n",
       "<style scoped>\n",
       "    .dataframe tbody tr th:only-of-type {\n",
       "        vertical-align: middle;\n",
       "    }\n",
       "\n",
       "    .dataframe tbody tr th {\n",
       "        vertical-align: top;\n",
       "    }\n",
       "\n",
       "    .dataframe thead tr th {\n",
       "        text-align: left;\n",
       "    }\n",
       "\n",
       "    .dataframe thead tr:last-of-type th {\n",
       "        text-align: right;\n",
       "    }\n",
       "</style>\n",
       "<table border=\"1\" class=\"dataframe\">\n",
       "  <thead>\n",
       "    <tr>\n",
       "      <th></th>\n",
       "      <th>data</th>\n",
       "    </tr>\n",
       "    <tr>\n",
       "      <th></th>\n",
       "      <th>frequency</th>\n",
       "    </tr>\n",
       "    <tr>\n",
       "      <th>protein groups</th>\n",
       "      <th></th>\n",
       "    </tr>\n",
       "  </thead>\n",
       "  <tbody>\n",
       "    <tr>\n",
       "      <th>A0A024QZX5;A0A087X1N8;P35237</th>\n",
       "      <td>186</td>\n",
       "    </tr>\n",
       "    <tr>\n",
       "      <th>A0A024R0T9;K7ER74;P02655</th>\n",
       "      <td>195</td>\n",
       "    </tr>\n",
       "    <tr>\n",
       "      <th>A0A024R3W6;A0A024R412;O60462;O60462-2;O60462-3;O60462-4;O60462-5;Q7LBX6;X5D2Q8</th>\n",
       "      <td>174</td>\n",
       "    </tr>\n",
       "    <tr>\n",
       "      <th>A0A024R644;A0A0A0MRU5;A0A1B0GWI2;O75503</th>\n",
       "      <td>196</td>\n",
       "    </tr>\n",
       "    <tr>\n",
       "      <th>A0A075B6H7</th>\n",
       "      <td>91</td>\n",
       "    </tr>\n",
       "    <tr>\n",
       "      <th>...</th>\n",
       "      <td>...</td>\n",
       "    </tr>\n",
       "    <tr>\n",
       "      <th>Q9Y6R7</th>\n",
       "      <td>197</td>\n",
       "    </tr>\n",
       "    <tr>\n",
       "      <th>Q9Y6X5</th>\n",
       "      <td>173</td>\n",
       "    </tr>\n",
       "    <tr>\n",
       "      <th>Q9Y6Y8;Q9Y6Y8-2</th>\n",
       "      <td>197</td>\n",
       "    </tr>\n",
       "    <tr>\n",
       "      <th>Q9Y6Y9</th>\n",
       "      <td>119</td>\n",
       "    </tr>\n",
       "    <tr>\n",
       "      <th>S4R3U6</th>\n",
       "      <td>126</td>\n",
       "    </tr>\n",
       "  </tbody>\n",
       "</table>\n",
       "<p>1421 rows × 1 columns</p>\n",
       "</div>"
      ],
      "text/plain": [
       "                                                        data\n",
       "                                                   frequency\n",
       "protein groups                                              \n",
       "A0A024QZX5;A0A087X1N8;P35237                             186\n",
       "A0A024R0T9;K7ER74;P02655                                 195\n",
       "A0A024R3W6;A0A024R412;O60462;O60462-2;O60462-3;...       174\n",
       "A0A024R644;A0A0A0MRU5;A0A1B0GWI2;O75503                  196\n",
       "A0A075B6H7                                                91\n",
       "...                                                      ...\n",
       "Q9Y6R7                                                   197\n",
       "Q9Y6X5                                                   173\n",
       "Q9Y6Y8;Q9Y6Y8-2                                          197\n",
       "Q9Y6Y9                                                   119\n",
       "S4R3U6                                                   126\n",
       "\n",
       "[1421 rows x 1 columns]"
      ]
     },
     "execution_count": 14,
     "metadata": {},
     "output_type": "execute_result"
    }
   ],
   "source": [
    "freq_feat = pd.read_csv(args.freq_features_observed, index_col=0)\n",
    "freq_feat.columns = pd.MultiIndex.from_tuples([('data', 'frequency'),])\n",
    "freq_feat"
   ]
  },
  {
   "cell_type": "markdown",
   "id": "408eacfe-770f-42ff-9057-2a98274e1ae3",
   "metadata": {
    "papermill": {
     "duration": 0.015176,
     "end_time": "2024-05-28T13:57:15.684201",
     "exception": false,
     "start_time": "2024-05-28T13:57:15.669025",
     "status": "completed"
    },
    "tags": []
   },
   "source": [
    "## Compare shared features"
   ]
  },
  {
   "cell_type": "code",
   "execution_count": 15,
   "id": "5b2dfb0f-195b-4044-a228-2d784ea2a458",
   "metadata": {
    "execution": {
     "iopub.execute_input": "2024-05-28T13:57:15.715228Z",
     "iopub.status.busy": "2024-05-28T13:57:15.714903Z",
     "iopub.status.idle": "2024-05-28T13:57:15.741146Z",
     "shell.execute_reply": "2024-05-28T13:57:15.740406Z"
    },
    "papermill": {
     "duration": 0.044545,
     "end_time": "2024-05-28T13:57:15.743057",
     "exception": false,
     "start_time": "2024-05-28T13:57:15.698512",
     "status": "completed"
    },
    "tags": [
     "hide-input"
    ]
   },
   "outputs": [
    {
     "data": {
      "text/html": [
       "<div>\n",
       "<style scoped>\n",
       "    .dataframe tbody tr th:only-of-type {\n",
       "        vertical-align: middle;\n",
       "    }\n",
       "\n",
       "    .dataframe tbody tr th {\n",
       "        vertical-align: top;\n",
       "    }\n",
       "\n",
       "    .dataframe thead tr th {\n",
       "        text-align: left;\n",
       "    }\n",
       "\n",
       "    .dataframe thead tr:last-of-type th {\n",
       "        text-align: right;\n",
       "    }\n",
       "</style>\n",
       "<table border=\"1\" class=\"dataframe\">\n",
       "  <thead>\n",
       "    <tr>\n",
       "      <th></th>\n",
       "      <th colspan=\"4\" halign=\"left\">DAE</th>\n",
       "      <th colspan=\"4\" halign=\"left\">PI</th>\n",
       "      <th>data</th>\n",
       "    </tr>\n",
       "    <tr>\n",
       "      <th></th>\n",
       "      <th>p-unc</th>\n",
       "      <th>-Log10 pvalue</th>\n",
       "      <th>qvalue</th>\n",
       "      <th>rejected</th>\n",
       "      <th>p-unc</th>\n",
       "      <th>-Log10 pvalue</th>\n",
       "      <th>qvalue</th>\n",
       "      <th>rejected</th>\n",
       "      <th>frequency</th>\n",
       "    </tr>\n",
       "    <tr>\n",
       "      <th>protein groups</th>\n",
       "      <th></th>\n",
       "      <th></th>\n",
       "      <th></th>\n",
       "      <th></th>\n",
       "      <th></th>\n",
       "      <th></th>\n",
       "      <th></th>\n",
       "      <th></th>\n",
       "      <th></th>\n",
       "    </tr>\n",
       "  </thead>\n",
       "  <tbody>\n",
       "    <tr>\n",
       "      <th>A0A024QZX5;A0A087X1N8;P35237</th>\n",
       "      <td>0.007</td>\n",
       "      <td>2.126</td>\n",
       "      <td>0.021</td>\n",
       "      <td>True</td>\n",
       "      <td>0.284</td>\n",
       "      <td>0.547</td>\n",
       "      <td>0.446</td>\n",
       "      <td>False</td>\n",
       "      <td>186</td>\n",
       "    </tr>\n",
       "    <tr>\n",
       "      <th>A0A024R0T9;K7ER74;P02655</th>\n",
       "      <td>0.037</td>\n",
       "      <td>1.430</td>\n",
       "      <td>0.080</td>\n",
       "      <td>False</td>\n",
       "      <td>0.052</td>\n",
       "      <td>1.285</td>\n",
       "      <td>0.125</td>\n",
       "      <td>False</td>\n",
       "      <td>195</td>\n",
       "    </tr>\n",
       "    <tr>\n",
       "      <th>A0A024R3W6;A0A024R412;O60462;O60462-2;O60462-3;O60462-4;O60462-5;Q7LBX6;X5D2Q8</th>\n",
       "      <td>0.370</td>\n",
       "      <td>0.431</td>\n",
       "      <td>0.499</td>\n",
       "      <td>False</td>\n",
       "      <td>0.098</td>\n",
       "      <td>1.009</td>\n",
       "      <td>0.206</td>\n",
       "      <td>False</td>\n",
       "      <td>174</td>\n",
       "    </tr>\n",
       "    <tr>\n",
       "      <th>A0A024R644;A0A0A0MRU5;A0A1B0GWI2;O75503</th>\n",
       "      <td>0.250</td>\n",
       "      <td>0.601</td>\n",
       "      <td>0.371</td>\n",
       "      <td>False</td>\n",
       "      <td>0.502</td>\n",
       "      <td>0.299</td>\n",
       "      <td>0.652</td>\n",
       "      <td>False</td>\n",
       "      <td>196</td>\n",
       "    </tr>\n",
       "    <tr>\n",
       "      <th>A0A075B6H7</th>\n",
       "      <td>0.012</td>\n",
       "      <td>1.924</td>\n",
       "      <td>0.031</td>\n",
       "      <td>True</td>\n",
       "      <td>0.154</td>\n",
       "      <td>0.813</td>\n",
       "      <td>0.286</td>\n",
       "      <td>False</td>\n",
       "      <td>91</td>\n",
       "    </tr>\n",
       "    <tr>\n",
       "      <th>...</th>\n",
       "      <td>...</td>\n",
       "      <td>...</td>\n",
       "      <td>...</td>\n",
       "      <td>...</td>\n",
       "      <td>...</td>\n",
       "      <td>...</td>\n",
       "      <td>...</td>\n",
       "      <td>...</td>\n",
       "      <td>...</td>\n",
       "    </tr>\n",
       "    <tr>\n",
       "      <th>Q9Y6R7</th>\n",
       "      <td>0.175</td>\n",
       "      <td>0.756</td>\n",
       "      <td>0.282</td>\n",
       "      <td>False</td>\n",
       "      <td>0.175</td>\n",
       "      <td>0.756</td>\n",
       "      <td>0.315</td>\n",
       "      <td>False</td>\n",
       "      <td>197</td>\n",
       "    </tr>\n",
       "    <tr>\n",
       "      <th>Q9Y6X5</th>\n",
       "      <td>0.132</td>\n",
       "      <td>0.879</td>\n",
       "      <td>0.225</td>\n",
       "      <td>False</td>\n",
       "      <td>0.060</td>\n",
       "      <td>1.225</td>\n",
       "      <td>0.140</td>\n",
       "      <td>False</td>\n",
       "      <td>173</td>\n",
       "    </tr>\n",
       "    <tr>\n",
       "      <th>Q9Y6Y8;Q9Y6Y8-2</th>\n",
       "      <td>0.083</td>\n",
       "      <td>1.079</td>\n",
       "      <td>0.155</td>\n",
       "      <td>False</td>\n",
       "      <td>0.083</td>\n",
       "      <td>1.079</td>\n",
       "      <td>0.182</td>\n",
       "      <td>False</td>\n",
       "      <td>197</td>\n",
       "    </tr>\n",
       "    <tr>\n",
       "      <th>Q9Y6Y9</th>\n",
       "      <td>0.812</td>\n",
       "      <td>0.090</td>\n",
       "      <td>0.877</td>\n",
       "      <td>False</td>\n",
       "      <td>0.268</td>\n",
       "      <td>0.572</td>\n",
       "      <td>0.429</td>\n",
       "      <td>False</td>\n",
       "      <td>119</td>\n",
       "    </tr>\n",
       "    <tr>\n",
       "      <th>S4R3U6</th>\n",
       "      <td>0.020</td>\n",
       "      <td>1.689</td>\n",
       "      <td>0.049</td>\n",
       "      <td>True</td>\n",
       "      <td>0.431</td>\n",
       "      <td>0.366</td>\n",
       "      <td>0.590</td>\n",
       "      <td>False</td>\n",
       "      <td>126</td>\n",
       "    </tr>\n",
       "  </tbody>\n",
       "</table>\n",
       "<p>1421 rows × 9 columns</p>\n",
       "</div>"
      ],
      "text/plain": [
       "                                                     DAE                       \\\n",
       "                                                   p-unc -Log10 pvalue qvalue   \n",
       "protein groups                                                                  \n",
       "A0A024QZX5;A0A087X1N8;P35237                       0.007         2.126  0.021   \n",
       "A0A024R0T9;K7ER74;P02655                           0.037         1.430  0.080   \n",
       "A0A024R3W6;A0A024R412;O60462;O60462-2;O60462-3;... 0.370         0.431  0.499   \n",
       "A0A024R644;A0A0A0MRU5;A0A1B0GWI2;O75503            0.250         0.601  0.371   \n",
       "A0A075B6H7                                         0.012         1.924  0.031   \n",
       "...                                                  ...           ...    ...   \n",
       "Q9Y6R7                                             0.175         0.756  0.282   \n",
       "Q9Y6X5                                             0.132         0.879  0.225   \n",
       "Q9Y6Y8;Q9Y6Y8-2                                    0.083         1.079  0.155   \n",
       "Q9Y6Y9                                             0.812         0.090  0.877   \n",
       "S4R3U6                                             0.020         1.689  0.049   \n",
       "\n",
       "                                                               PI  \\\n",
       "                                                   rejected p-unc   \n",
       "protein groups                                                      \n",
       "A0A024QZX5;A0A087X1N8;P35237                           True 0.284   \n",
       "A0A024R0T9;K7ER74;P02655                              False 0.052   \n",
       "A0A024R3W6;A0A024R412;O60462;O60462-2;O60462-3;...    False 0.098   \n",
       "A0A024R644;A0A0A0MRU5;A0A1B0GWI2;O75503               False 0.502   \n",
       "A0A075B6H7                                             True 0.154   \n",
       "...                                                     ...   ...   \n",
       "Q9Y6R7                                                False 0.175   \n",
       "Q9Y6X5                                                False 0.060   \n",
       "Q9Y6Y8;Q9Y6Y8-2                                       False 0.083   \n",
       "Q9Y6Y9                                                False 0.268   \n",
       "S4R3U6                                                 True 0.431   \n",
       "\n",
       "                                                                         \\\n",
       "                                                   -Log10 pvalue qvalue   \n",
       "protein groups                                                            \n",
       "A0A024QZX5;A0A087X1N8;P35237                               0.547  0.446   \n",
       "A0A024R0T9;K7ER74;P02655                                   1.285  0.125   \n",
       "A0A024R3W6;A0A024R412;O60462;O60462-2;O60462-3;...         1.009  0.206   \n",
       "A0A024R644;A0A0A0MRU5;A0A1B0GWI2;O75503                    0.299  0.652   \n",
       "A0A075B6H7                                                 0.813  0.286   \n",
       "...                                                          ...    ...   \n",
       "Q9Y6R7                                                     0.756  0.315   \n",
       "Q9Y6X5                                                     1.225  0.140   \n",
       "Q9Y6Y8;Q9Y6Y8-2                                            1.079  0.182   \n",
       "Q9Y6Y9                                                     0.572  0.429   \n",
       "S4R3U6                                                     0.366  0.590   \n",
       "\n",
       "                                                                 data  \n",
       "                                                   rejected frequency  \n",
       "protein groups                                                         \n",
       "A0A024QZX5;A0A087X1N8;P35237                          False       186  \n",
       "A0A024R0T9;K7ER74;P02655                              False       195  \n",
       "A0A024R3W6;A0A024R412;O60462;O60462-2;O60462-3;...    False       174  \n",
       "A0A024R644;A0A0A0MRU5;A0A1B0GWI2;O75503               False       196  \n",
       "A0A075B6H7                                            False        91  \n",
       "...                                                     ...       ...  \n",
       "Q9Y6R7                                                False       197  \n",
       "Q9Y6X5                                                False       173  \n",
       "Q9Y6Y8;Q9Y6Y8-2                                       False       197  \n",
       "Q9Y6Y9                                                False       119  \n",
       "S4R3U6                                                False       126  \n",
       "\n",
       "[1421 rows x 9 columns]"
      ]
     },
     "execution_count": 15,
     "metadata": {},
     "output_type": "execute_result"
    }
   ],
   "source": [
    "scores_common = (scores\n",
    "                 .dropna()\n",
    "                 .reset_index(-1, drop=True)\n",
    "                 ).join(\n",
    "    freq_feat, how='left'\n",
    ")\n",
    "scores_common"
   ]
  },
  {
   "cell_type": "markdown",
   "id": "62a9eefd",
   "metadata": {
    "papermill": {
     "duration": 0.026412,
     "end_time": "2024-05-28T13:57:15.793949",
     "exception": false,
     "start_time": "2024-05-28T13:57:15.767537",
     "status": "completed"
    },
    "tags": []
   },
   "source": [
    "### Annotate decisions in Confusion Table style:"
   ]
  },
  {
   "cell_type": "code",
   "execution_count": 16,
   "id": "80cf4145-070d-457a-bb74-ee64299809e7",
   "metadata": {
    "execution": {
     "iopub.execute_input": "2024-05-28T13:57:15.868410Z",
     "iopub.status.busy": "2024-05-28T13:57:15.868031Z",
     "iopub.status.idle": "2024-05-28T13:57:15.890239Z",
     "shell.execute_reply": "2024-05-28T13:57:15.889486Z"
    },
    "papermill": {
     "duration": 0.061918,
     "end_time": "2024-05-28T13:57:15.892085",
     "exception": false,
     "start_time": "2024-05-28T13:57:15.830167",
     "status": "completed"
    },
    "tags": [
     "hide-input"
    ]
   },
   "outputs": [
    {
     "data": {
      "text/plain": [
       "Differential Analysis Comparison\n",
       "DAE (no)  - PI (no)    880\n",
       "DAE (yes) - PI (yes)   340\n",
       "DAE (yes) - PI (no)    147\n",
       "DAE (no)  - PI (yes)    54\n",
       "Name: count, dtype: int64"
      ]
     },
     "execution_count": 16,
     "metadata": {},
     "output_type": "execute_result"
    }
   ],
   "source": [
    "def annotate_decision(scores, model, model_column):\n",
    "    return scores[(model_column, 'rejected')].replace({False: f'{model} (no) ', True: f'{model} (yes)'})\n",
    "\n",
    "\n",
    "annotations = None\n",
    "for model, model_column in models.items():\n",
    "    if annotations is not None:\n",
    "        annotations += ' - '\n",
    "        annotations += annotate_decision(scores_common,\n",
    "                                         model=model, model_column=model_column)\n",
    "    else:\n",
    "        annotations = annotate_decision(\n",
    "            scores_common, model=model, model_column=model_column)\n",
    "annotations.name = 'Differential Analysis Comparison'\n",
    "annotations.value_counts()"
   ]
  },
  {
   "cell_type": "markdown",
   "id": "0942d395",
   "metadata": {
    "papermill": {
     "duration": 0.024435,
     "end_time": "2024-05-28T13:57:15.945266",
     "exception": false,
     "start_time": "2024-05-28T13:57:15.920831",
     "status": "completed"
    },
    "tags": []
   },
   "source": [
    "### List different decisions between models"
   ]
  },
  {
   "cell_type": "code",
   "execution_count": 17,
   "id": "cda5ffa4-9a97-4a49-aaba-34e83ef7940a",
   "metadata": {
    "execution": {
     "iopub.execute_input": "2024-05-28T13:57:16.018674Z",
     "iopub.status.busy": "2024-05-28T13:57:16.018302Z",
     "iopub.status.idle": "2024-05-28T13:57:16.123389Z",
     "shell.execute_reply": "2024-05-28T13:57:16.122632Z"
    },
    "papermill": {
     "duration": 0.137046,
     "end_time": "2024-05-28T13:57:16.125326",
     "exception": false,
     "start_time": "2024-05-28T13:57:15.988280",
     "status": "completed"
    },
    "tags": [
     "hide-input"
    ]
   },
   "outputs": [
    {
     "name": "stderr",
     "output_type": "stream",
     "text": [
      "root - INFO     Writen to Excel file under sheet 'differences'.\n"
     ]
    },
    {
     "data": {
      "text/html": [
       "<div>\n",
       "<style scoped>\n",
       "    .dataframe tbody tr th:only-of-type {\n",
       "        vertical-align: middle;\n",
       "    }\n",
       "\n",
       "    .dataframe tbody tr th {\n",
       "        vertical-align: top;\n",
       "    }\n",
       "\n",
       "    .dataframe thead tr th {\n",
       "        text-align: left;\n",
       "    }\n",
       "\n",
       "    .dataframe thead tr:last-of-type th {\n",
       "        text-align: right;\n",
       "    }\n",
       "</style>\n",
       "<table border=\"1\" class=\"dataframe\">\n",
       "  <thead>\n",
       "    <tr>\n",
       "      <th></th>\n",
       "      <th colspan=\"4\" halign=\"left\">DAE</th>\n",
       "      <th colspan=\"4\" halign=\"left\">PI</th>\n",
       "      <th>data</th>\n",
       "    </tr>\n",
       "    <tr>\n",
       "      <th></th>\n",
       "      <th>p-unc</th>\n",
       "      <th>-Log10 pvalue</th>\n",
       "      <th>qvalue</th>\n",
       "      <th>rejected</th>\n",
       "      <th>p-unc</th>\n",
       "      <th>-Log10 pvalue</th>\n",
       "      <th>qvalue</th>\n",
       "      <th>rejected</th>\n",
       "      <th>frequency</th>\n",
       "    </tr>\n",
       "    <tr>\n",
       "      <th>protein groups</th>\n",
       "      <th></th>\n",
       "      <th></th>\n",
       "      <th></th>\n",
       "      <th></th>\n",
       "      <th></th>\n",
       "      <th></th>\n",
       "      <th></th>\n",
       "      <th></th>\n",
       "      <th></th>\n",
       "    </tr>\n",
       "  </thead>\n",
       "  <tbody>\n",
       "    <tr>\n",
       "      <th>A0A024QZX5;A0A087X1N8;P35237</th>\n",
       "      <td>0.007</td>\n",
       "      <td>2.126</td>\n",
       "      <td>0.021</td>\n",
       "      <td>True</td>\n",
       "      <td>0.284</td>\n",
       "      <td>0.547</td>\n",
       "      <td>0.446</td>\n",
       "      <td>False</td>\n",
       "      <td>186</td>\n",
       "    </tr>\n",
       "    <tr>\n",
       "      <th>A0A075B6H7</th>\n",
       "      <td>0.012</td>\n",
       "      <td>1.924</td>\n",
       "      <td>0.031</td>\n",
       "      <td>True</td>\n",
       "      <td>0.154</td>\n",
       "      <td>0.813</td>\n",
       "      <td>0.286</td>\n",
       "      <td>False</td>\n",
       "      <td>91</td>\n",
       "    </tr>\n",
       "    <tr>\n",
       "      <th>A0A075B6I0</th>\n",
       "      <td>0.001</td>\n",
       "      <td>3.209</td>\n",
       "      <td>0.002</td>\n",
       "      <td>True</td>\n",
       "      <td>0.024</td>\n",
       "      <td>1.627</td>\n",
       "      <td>0.067</td>\n",
       "      <td>False</td>\n",
       "      <td>194</td>\n",
       "    </tr>\n",
       "    <tr>\n",
       "      <th>A0A075B6J9</th>\n",
       "      <td>0.012</td>\n",
       "      <td>1.932</td>\n",
       "      <td>0.030</td>\n",
       "      <td>True</td>\n",
       "      <td>0.112</td>\n",
       "      <td>0.951</td>\n",
       "      <td>0.228</td>\n",
       "      <td>False</td>\n",
       "      <td>156</td>\n",
       "    </tr>\n",
       "    <tr>\n",
       "      <th>A0A075B6Q5</th>\n",
       "      <td>0.007</td>\n",
       "      <td>2.179</td>\n",
       "      <td>0.019</td>\n",
       "      <td>True</td>\n",
       "      <td>0.694</td>\n",
       "      <td>0.158</td>\n",
       "      <td>0.804</td>\n",
       "      <td>False</td>\n",
       "      <td>104</td>\n",
       "    </tr>\n",
       "    <tr>\n",
       "      <th>...</th>\n",
       "      <td>...</td>\n",
       "      <td>...</td>\n",
       "      <td>...</td>\n",
       "      <td>...</td>\n",
       "      <td>...</td>\n",
       "      <td>...</td>\n",
       "      <td>...</td>\n",
       "      <td>...</td>\n",
       "      <td>...</td>\n",
       "    </tr>\n",
       "    <tr>\n",
       "      <th>Q9UNW1</th>\n",
       "      <td>0.957</td>\n",
       "      <td>0.019</td>\n",
       "      <td>0.973</td>\n",
       "      <td>False</td>\n",
       "      <td>0.009</td>\n",
       "      <td>2.048</td>\n",
       "      <td>0.031</td>\n",
       "      <td>True</td>\n",
       "      <td>171</td>\n",
       "    </tr>\n",
       "    <tr>\n",
       "      <th>Q9UP79</th>\n",
       "      <td>0.000</td>\n",
       "      <td>4.040</td>\n",
       "      <td>0.000</td>\n",
       "      <td>True</td>\n",
       "      <td>0.481</td>\n",
       "      <td>0.318</td>\n",
       "      <td>0.634</td>\n",
       "      <td>False</td>\n",
       "      <td>135</td>\n",
       "    </tr>\n",
       "    <tr>\n",
       "      <th>Q9UQ52</th>\n",
       "      <td>0.001</td>\n",
       "      <td>3.223</td>\n",
       "      <td>0.002</td>\n",
       "      <td>True</td>\n",
       "      <td>0.048</td>\n",
       "      <td>1.323</td>\n",
       "      <td>0.117</td>\n",
       "      <td>False</td>\n",
       "      <td>188</td>\n",
       "    </tr>\n",
       "    <tr>\n",
       "      <th>Q9Y6C2</th>\n",
       "      <td>0.003</td>\n",
       "      <td>2.602</td>\n",
       "      <td>0.008</td>\n",
       "      <td>True</td>\n",
       "      <td>0.836</td>\n",
       "      <td>0.078</td>\n",
       "      <td>0.903</td>\n",
       "      <td>False</td>\n",
       "      <td>119</td>\n",
       "    </tr>\n",
       "    <tr>\n",
       "      <th>S4R3U6</th>\n",
       "      <td>0.020</td>\n",
       "      <td>1.689</td>\n",
       "      <td>0.049</td>\n",
       "      <td>True</td>\n",
       "      <td>0.431</td>\n",
       "      <td>0.366</td>\n",
       "      <td>0.590</td>\n",
       "      <td>False</td>\n",
       "      <td>126</td>\n",
       "    </tr>\n",
       "  </tbody>\n",
       "</table>\n",
       "<p>201 rows × 9 columns</p>\n",
       "</div>"
      ],
      "text/plain": [
       "                               DAE                                  PI  \\\n",
       "                             p-unc -Log10 pvalue qvalue rejected p-unc   \n",
       "protein groups                                                           \n",
       "A0A024QZX5;A0A087X1N8;P35237 0.007         2.126  0.021     True 0.284   \n",
       "A0A075B6H7                   0.012         1.924  0.031     True 0.154   \n",
       "A0A075B6I0                   0.001         3.209  0.002     True 0.024   \n",
       "A0A075B6J9                   0.012         1.932  0.030     True 0.112   \n",
       "A0A075B6Q5                   0.007         2.179  0.019     True 0.694   \n",
       "...                            ...           ...    ...      ...   ...   \n",
       "Q9UNW1                       0.957         0.019  0.973    False 0.009   \n",
       "Q9UP79                       0.000         4.040  0.000     True 0.481   \n",
       "Q9UQ52                       0.001         3.223  0.002     True 0.048   \n",
       "Q9Y6C2                       0.003         2.602  0.008     True 0.836   \n",
       "S4R3U6                       0.020         1.689  0.049     True 0.431   \n",
       "\n",
       "                                                                data  \n",
       "                             -Log10 pvalue qvalue rejected frequency  \n",
       "protein groups                                                        \n",
       "A0A024QZX5;A0A087X1N8;P35237         0.547  0.446    False       186  \n",
       "A0A075B6H7                           0.813  0.286    False        91  \n",
       "A0A075B6I0                           1.627  0.067    False       194  \n",
       "A0A075B6J9                           0.951  0.228    False       156  \n",
       "A0A075B6Q5                           0.158  0.804    False       104  \n",
       "...                                    ...    ...      ...       ...  \n",
       "Q9UNW1                               2.048  0.031     True       171  \n",
       "Q9UP79                               0.318  0.634    False       135  \n",
       "Q9UQ52                               1.323  0.117    False       188  \n",
       "Q9Y6C2                               0.078  0.903    False       119  \n",
       "S4R3U6                               0.366  0.590    False       126  \n",
       "\n",
       "[201 rows x 9 columns]"
      ]
     },
     "execution_count": 17,
     "metadata": {},
     "output_type": "execute_result"
    }
   ],
   "source": [
    "mask_different = (\n",
    "    (scores_common.loc[:, pd.IndexSlice[:, 'rejected']].any(axis=1))\n",
    "    & ~(scores_common.loc[:, pd.IndexSlice[:, 'rejected']].all(axis=1))\n",
    ")\n",
    "_to_write = scores_common.loc[mask_different]\n",
    "_to_write.to_excel(writer, 'differences', **writer_args)\n",
    "logger.info(\"Writen to Excel file under sheet 'differences'.\")\n",
    "_to_write"
   ]
  },
  {
   "cell_type": "markdown",
   "id": "e8832084",
   "metadata": {
    "papermill": {
     "duration": 0.016735,
     "end_time": "2024-05-28T13:57:16.159722",
     "exception": false,
     "start_time": "2024-05-28T13:57:16.142987",
     "status": "completed"
    },
    "tags": []
   },
   "source": [
    "## Plot qvalues of both models with annotated decisions\n",
    "\n",
    "Prepare data for plotting (qvalues)"
   ]
  },
  {
   "cell_type": "code",
   "execution_count": 18,
   "id": "5b2e5341-b054-40c3-b45a-44ae6ca46cfb",
   "metadata": {
    "execution": {
     "iopub.execute_input": "2024-05-28T13:57:16.194777Z",
     "iopub.status.busy": "2024-05-28T13:57:16.194383Z",
     "iopub.status.idle": "2024-05-28T13:57:16.213771Z",
     "shell.execute_reply": "2024-05-28T13:57:16.213025Z"
    },
    "papermill": {
     "duration": 0.039386,
     "end_time": "2024-05-28T13:57:16.215702",
     "exception": false,
     "start_time": "2024-05-28T13:57:16.176316",
     "status": "completed"
    },
    "tags": [
     "hide-input"
    ]
   },
   "outputs": [
    {
     "data": {
      "text/html": [
       "<div>\n",
       "<style scoped>\n",
       "    .dataframe tbody tr th:only-of-type {\n",
       "        vertical-align: middle;\n",
       "    }\n",
       "\n",
       "    .dataframe tbody tr th {\n",
       "        vertical-align: top;\n",
       "    }\n",
       "\n",
       "    .dataframe thead th {\n",
       "        text-align: right;\n",
       "    }\n",
       "</style>\n",
       "<table border=\"1\" class=\"dataframe\">\n",
       "  <thead>\n",
       "    <tr style=\"text-align: right;\">\n",
       "      <th></th>\n",
       "      <th>DAE</th>\n",
       "      <th>PI</th>\n",
       "      <th>frequency</th>\n",
       "      <th>Differential Analysis Comparison</th>\n",
       "    </tr>\n",
       "    <tr>\n",
       "      <th>protein groups</th>\n",
       "      <th></th>\n",
       "      <th></th>\n",
       "      <th></th>\n",
       "      <th></th>\n",
       "    </tr>\n",
       "  </thead>\n",
       "  <tbody>\n",
       "    <tr>\n",
       "      <th>A0A024QZX5;A0A087X1N8;P35237</th>\n",
       "      <td>0.021</td>\n",
       "      <td>0.446</td>\n",
       "      <td>186</td>\n",
       "      <td>DAE (yes) - PI (no)</td>\n",
       "    </tr>\n",
       "    <tr>\n",
       "      <th>A0A024R0T9;K7ER74;P02655</th>\n",
       "      <td>0.080</td>\n",
       "      <td>0.125</td>\n",
       "      <td>195</td>\n",
       "      <td>DAE (no)  - PI (no)</td>\n",
       "    </tr>\n",
       "    <tr>\n",
       "      <th>A0A024R3W6;A0A024R412;O60462;O60462-2;O60462-3;O60462-4;O60462-5;Q7LBX6;X5D2Q8</th>\n",
       "      <td>0.499</td>\n",
       "      <td>0.206</td>\n",
       "      <td>174</td>\n",
       "      <td>DAE (no)  - PI (no)</td>\n",
       "    </tr>\n",
       "    <tr>\n",
       "      <th>A0A024R644;A0A0A0MRU5;A0A1B0GWI2;O75503</th>\n",
       "      <td>0.371</td>\n",
       "      <td>0.652</td>\n",
       "      <td>196</td>\n",
       "      <td>DAE (no)  - PI (no)</td>\n",
       "    </tr>\n",
       "    <tr>\n",
       "      <th>A0A075B6H7</th>\n",
       "      <td>0.031</td>\n",
       "      <td>0.286</td>\n",
       "      <td>91</td>\n",
       "      <td>DAE (yes) - PI (no)</td>\n",
       "    </tr>\n",
       "    <tr>\n",
       "      <th>...</th>\n",
       "      <td>...</td>\n",
       "      <td>...</td>\n",
       "      <td>...</td>\n",
       "      <td>...</td>\n",
       "    </tr>\n",
       "    <tr>\n",
       "      <th>Q9Y6R7</th>\n",
       "      <td>0.282</td>\n",
       "      <td>0.315</td>\n",
       "      <td>197</td>\n",
       "      <td>DAE (no)  - PI (no)</td>\n",
       "    </tr>\n",
       "    <tr>\n",
       "      <th>Q9Y6X5</th>\n",
       "      <td>0.225</td>\n",
       "      <td>0.140</td>\n",
       "      <td>173</td>\n",
       "      <td>DAE (no)  - PI (no)</td>\n",
       "    </tr>\n",
       "    <tr>\n",
       "      <th>Q9Y6Y8;Q9Y6Y8-2</th>\n",
       "      <td>0.155</td>\n",
       "      <td>0.182</td>\n",
       "      <td>197</td>\n",
       "      <td>DAE (no)  - PI (no)</td>\n",
       "    </tr>\n",
       "    <tr>\n",
       "      <th>Q9Y6Y9</th>\n",
       "      <td>0.877</td>\n",
       "      <td>0.429</td>\n",
       "      <td>119</td>\n",
       "      <td>DAE (no)  - PI (no)</td>\n",
       "    </tr>\n",
       "    <tr>\n",
       "      <th>S4R3U6</th>\n",
       "      <td>0.049</td>\n",
       "      <td>0.590</td>\n",
       "      <td>126</td>\n",
       "      <td>DAE (yes) - PI (no)</td>\n",
       "    </tr>\n",
       "  </tbody>\n",
       "</table>\n",
       "<p>1421 rows × 4 columns</p>\n",
       "</div>"
      ],
      "text/plain": [
       "                                                     DAE    PI  frequency  \\\n",
       "protein groups                                                              \n",
       "A0A024QZX5;A0A087X1N8;P35237                       0.021 0.446        186   \n",
       "A0A024R0T9;K7ER74;P02655                           0.080 0.125        195   \n",
       "A0A024R3W6;A0A024R412;O60462;O60462-2;O60462-3;... 0.499 0.206        174   \n",
       "A0A024R644;A0A0A0MRU5;A0A1B0GWI2;O75503            0.371 0.652        196   \n",
       "A0A075B6H7                                         0.031 0.286         91   \n",
       "...                                                  ...   ...        ...   \n",
       "Q9Y6R7                                             0.282 0.315        197   \n",
       "Q9Y6X5                                             0.225 0.140        173   \n",
       "Q9Y6Y8;Q9Y6Y8-2                                    0.155 0.182        197   \n",
       "Q9Y6Y9                                             0.877 0.429        119   \n",
       "S4R3U6                                             0.049 0.590        126   \n",
       "\n",
       "                                                   Differential Analysis Comparison  \n",
       "protein groups                                                                       \n",
       "A0A024QZX5;A0A087X1N8;P35237                                   DAE (yes) - PI (no)   \n",
       "A0A024R0T9;K7ER74;P02655                                       DAE (no)  - PI (no)   \n",
       "A0A024R3W6;A0A024R412;O60462;O60462-2;O60462-3;...             DAE (no)  - PI (no)   \n",
       "A0A024R644;A0A0A0MRU5;A0A1B0GWI2;O75503                        DAE (no)  - PI (no)   \n",
       "A0A075B6H7                                                     DAE (yes) - PI (no)   \n",
       "...                                                                             ...  \n",
       "Q9Y6R7                                                         DAE (no)  - PI (no)   \n",
       "Q9Y6X5                                                         DAE (no)  - PI (no)   \n",
       "Q9Y6Y8;Q9Y6Y8-2                                                DAE (no)  - PI (no)   \n",
       "Q9Y6Y9                                                         DAE (no)  - PI (no)   \n",
       "S4R3U6                                                         DAE (yes) - PI (no)   \n",
       "\n",
       "[1421 rows x 4 columns]"
      ]
     },
     "execution_count": 18,
     "metadata": {},
     "output_type": "execute_result"
    }
   ],
   "source": [
    "var = 'qvalue'\n",
    "to_plot = [scores_common[v][var] for v in models.values()]\n",
    "for s, k in zip(to_plot, models.keys()):\n",
    "    s.name = k.replace('_', ' ')\n",
    "to_plot.append(scores_common['data'])\n",
    "to_plot.append(annotations)\n",
    "to_plot = pd.concat(to_plot, axis=1)\n",
    "to_plot"
   ]
  },
  {
   "cell_type": "markdown",
   "id": "c92517a4-8456-4663-b719-4abd997fbb1c",
   "metadata": {
    "papermill": {
     "duration": 0.017291,
     "end_time": "2024-05-28T13:57:16.251521",
     "exception": false,
     "start_time": "2024-05-28T13:57:16.234230",
     "status": "completed"
    },
    "tags": []
   },
   "source": [
    "List of features with the highest difference in qvalues"
   ]
  },
  {
   "cell_type": "code",
   "execution_count": 19,
   "id": "c7af4a70-aa43-4772-af00-d425f5ed249f",
   "metadata": {
    "execution": {
     "iopub.execute_input": "2024-05-28T13:57:16.289543Z",
     "iopub.status.busy": "2024-05-28T13:57:16.289163Z",
     "iopub.status.idle": "2024-05-28T13:57:16.316681Z",
     "shell.execute_reply": "2024-05-28T13:57:16.307549Z"
    },
    "papermill": {
     "duration": 0.049185,
     "end_time": "2024-05-28T13:57:16.318820",
     "exception": false,
     "start_time": "2024-05-28T13:57:16.269635",
     "status": "completed"
    },
    "tags": [
     "hide-input"
    ]
   },
   "outputs": [
    {
     "data": {
      "text/html": [
       "<div>\n",
       "<style scoped>\n",
       "    .dataframe tbody tr th:only-of-type {\n",
       "        vertical-align: middle;\n",
       "    }\n",
       "\n",
       "    .dataframe tbody tr th {\n",
       "        vertical-align: top;\n",
       "    }\n",
       "\n",
       "    .dataframe thead th {\n",
       "        text-align: right;\n",
       "    }\n",
       "</style>\n",
       "<table border=\"1\" class=\"dataframe\">\n",
       "  <thead>\n",
       "    <tr style=\"text-align: right;\">\n",
       "      <th></th>\n",
       "      <th>DAE</th>\n",
       "      <th>PI</th>\n",
       "      <th>frequency</th>\n",
       "      <th>Differential Analysis Comparison</th>\n",
       "      <th>diff_qvalue</th>\n",
       "    </tr>\n",
       "    <tr>\n",
       "      <th>protein groups</th>\n",
       "      <th></th>\n",
       "      <th></th>\n",
       "      <th></th>\n",
       "      <th></th>\n",
       "      <th></th>\n",
       "    </tr>\n",
       "  </thead>\n",
       "  <tbody>\n",
       "    <tr>\n",
       "      <th>P17302</th>\n",
       "      <td>0.000</td>\n",
       "      <td>0.982</td>\n",
       "      <td>135</td>\n",
       "      <td>DAE (yes) - PI (no)</td>\n",
       "      <td>0.982</td>\n",
       "    </tr>\n",
       "    <tr>\n",
       "      <th>O15204;O15204-2</th>\n",
       "      <td>0.025</td>\n",
       "      <td>0.986</td>\n",
       "      <td>156</td>\n",
       "      <td>DAE (yes) - PI (no)</td>\n",
       "      <td>0.961</td>\n",
       "    </tr>\n",
       "    <tr>\n",
       "      <th>A0A087WU43;A0A087WX17;A0A087WXI5;P12830;P12830-2</th>\n",
       "      <td>0.000</td>\n",
       "      <td>0.949</td>\n",
       "      <td>134</td>\n",
       "      <td>DAE (yes) - PI (no)</td>\n",
       "      <td>0.949</td>\n",
       "    </tr>\n",
       "    <tr>\n",
       "      <th>Q9UNW1</th>\n",
       "      <td>0.973</td>\n",
       "      <td>0.031</td>\n",
       "      <td>171</td>\n",
       "      <td>DAE (no)  - PI (yes)</td>\n",
       "      <td>0.943</td>\n",
       "    </tr>\n",
       "    <tr>\n",
       "      <th>Q15459;Q15459-2</th>\n",
       "      <td>0.940</td>\n",
       "      <td>0.023</td>\n",
       "      <td>107</td>\n",
       "      <td>DAE (no)  - PI (yes)</td>\n",
       "      <td>0.916</td>\n",
       "    </tr>\n",
       "    <tr>\n",
       "      <th>...</th>\n",
       "      <td>...</td>\n",
       "      <td>...</td>\n",
       "      <td>...</td>\n",
       "      <td>...</td>\n",
       "      <td>...</td>\n",
       "    </tr>\n",
       "    <tr>\n",
       "      <th>F5GY80;F5H7G1;P07358</th>\n",
       "      <td>0.046</td>\n",
       "      <td>0.057</td>\n",
       "      <td>197</td>\n",
       "      <td>DAE (yes) - PI (no)</td>\n",
       "      <td>0.011</td>\n",
       "    </tr>\n",
       "    <tr>\n",
       "      <th>Q9NX62</th>\n",
       "      <td>0.045</td>\n",
       "      <td>0.055</td>\n",
       "      <td>197</td>\n",
       "      <td>DAE (yes) - PI (no)</td>\n",
       "      <td>0.011</td>\n",
       "    </tr>\n",
       "    <tr>\n",
       "      <th>E7EWD3;O75077;O75077-2;O75077-3</th>\n",
       "      <td>0.041</td>\n",
       "      <td>0.051</td>\n",
       "      <td>111</td>\n",
       "      <td>DAE (yes) - PI (no)</td>\n",
       "      <td>0.011</td>\n",
       "    </tr>\n",
       "    <tr>\n",
       "      <th>P00740;P00740-2</th>\n",
       "      <td>0.042</td>\n",
       "      <td>0.053</td>\n",
       "      <td>197</td>\n",
       "      <td>DAE (yes) - PI (no)</td>\n",
       "      <td>0.010</td>\n",
       "    </tr>\n",
       "    <tr>\n",
       "      <th>K7ERG9;P00746</th>\n",
       "      <td>0.042</td>\n",
       "      <td>0.052</td>\n",
       "      <td>197</td>\n",
       "      <td>DAE (yes) - PI (no)</td>\n",
       "      <td>0.010</td>\n",
       "    </tr>\n",
       "  </tbody>\n",
       "</table>\n",
       "<p>201 rows × 5 columns</p>\n",
       "</div>"
      ],
      "text/plain": [
       "                                                   DAE    PI  frequency  \\\n",
       "protein groups                                                            \n",
       "P17302                                           0.000 0.982        135   \n",
       "O15204;O15204-2                                  0.025 0.986        156   \n",
       "A0A087WU43;A0A087WX17;A0A087WXI5;P12830;P12830-2 0.000 0.949        134   \n",
       "Q9UNW1                                           0.973 0.031        171   \n",
       "Q15459;Q15459-2                                  0.940 0.023        107   \n",
       "...                                                ...   ...        ...   \n",
       "F5GY80;F5H7G1;P07358                             0.046 0.057        197   \n",
       "Q9NX62                                           0.045 0.055        197   \n",
       "E7EWD3;O75077;O75077-2;O75077-3                  0.041 0.051        111   \n",
       "P00740;P00740-2                                  0.042 0.053        197   \n",
       "K7ERG9;P00746                                    0.042 0.052        197   \n",
       "\n",
       "                                                 Differential Analysis Comparison  \\\n",
       "protein groups                                                                      \n",
       "P17302                                                       DAE (yes) - PI (no)    \n",
       "O15204;O15204-2                                              DAE (yes) - PI (no)    \n",
       "A0A087WU43;A0A087WX17;A0A087WXI5;P12830;P12830-2             DAE (yes) - PI (no)    \n",
       "Q9UNW1                                                       DAE (no)  - PI (yes)   \n",
       "Q15459;Q15459-2                                              DAE (no)  - PI (yes)   \n",
       "...                                                                           ...   \n",
       "F5GY80;F5H7G1;P07358                                         DAE (yes) - PI (no)    \n",
       "Q9NX62                                                       DAE (yes) - PI (no)    \n",
       "E7EWD3;O75077;O75077-2;O75077-3                              DAE (yes) - PI (no)    \n",
       "P00740;P00740-2                                              DAE (yes) - PI (no)    \n",
       "K7ERG9;P00746                                                DAE (yes) - PI (no)    \n",
       "\n",
       "                                                  diff_qvalue  \n",
       "protein groups                                                 \n",
       "P17302                                                  0.982  \n",
       "O15204;O15204-2                                         0.961  \n",
       "A0A087WU43;A0A087WX17;A0A087WXI5;P12830;P12830-2        0.949  \n",
       "Q9UNW1                                                  0.943  \n",
       "Q15459;Q15459-2                                         0.916  \n",
       "...                                                       ...  \n",
       "F5GY80;F5H7G1;P07358                                    0.011  \n",
       "Q9NX62                                                  0.011  \n",
       "E7EWD3;O75077;O75077-2;O75077-3                         0.011  \n",
       "P00740;P00740-2                                         0.010  \n",
       "K7ERG9;P00746                                           0.010  \n",
       "\n",
       "[201 rows x 5 columns]"
      ]
     },
     "execution_count": 19,
     "metadata": {},
     "output_type": "execute_result"
    }
   ],
   "source": [
    "# should it be possible to run not only RSN?\n",
    "to_plot['diff_qvalue'] = (to_plot[str(args.baseline)] - to_plot[str(args.model_key)]).abs()\n",
    "to_plot.loc[mask_different].sort_values('diff_qvalue', ascending=False)"
   ]
  },
  {
   "cell_type": "markdown",
   "id": "e715954e-2d62-4cd9-b4b0-063524bca495",
   "metadata": {
    "papermill": {
     "duration": 0.038291,
     "end_time": "2024-05-28T13:57:16.395410",
     "exception": false,
     "start_time": "2024-05-28T13:57:16.357119",
     "status": "completed"
    },
    "tags": []
   },
   "source": [
    "### Differences plotted with created annotations"
   ]
  },
  {
   "cell_type": "code",
   "execution_count": 20,
   "id": "a20d356d-c397-4440-b70e-9d899aa200fd",
   "metadata": {
    "execution": {
     "iopub.execute_input": "2024-05-28T13:57:16.468144Z",
     "iopub.status.busy": "2024-05-28T13:57:16.467757Z",
     "iopub.status.idle": "2024-05-28T13:57:18.890608Z",
     "shell.execute_reply": "2024-05-28T13:57:18.889767Z"
    },
    "papermill": {
     "duration": 2.467944,
     "end_time": "2024-05-28T13:57:18.893175",
     "exception": false,
     "start_time": "2024-05-28T13:57:16.425231",
     "status": "completed"
    },
    "tags": [
     "hide-input"
    ]
   },
   "outputs": [
    {
     "name": "stderr",
     "output_type": "stream",
     "text": [
      "vaep.plotting - INFO     Saved Figures to runs/alzheimer_study/diff_analysis/AD/PI_vs_DAE/diff_analysis_comparision_1_DAE\n"
     ]
    },
    {
     "data": {
      "image/png": "[encoded data removed]",
      "text/plain": [
       "<Figure size 588x588 with 1 Axes>"
      ]
     },
     "metadata": {},
     "output_type": "display_data"
    }
   ],
   "source": [
    "figsize = (4, 4)\n",
    "size = 5\n",
    "fig, ax = plt.subplots(figsize=figsize)\n",
    "x_col = to_plot.columns[0]\n",
    "y_col = to_plot.columns[1]\n",
    "ax = sns.scatterplot(data=to_plot,\n",
    "                     x=x_col,\n",
    "                     y=y_col,\n",
    "                     s=size,\n",
    "                     hue='Differential Analysis Comparison',\n",
    "                     ax=ax)\n",
    "_ = ax.legend(fontsize=fontsize,\n",
    "              title_fontsize=fontsize,\n",
    "              markerscale=0.4,\n",
    "              title='',\n",
    "              )\n",
    "ax.set_xlabel(f\"qvalue for {x_col}\")\n",
    "ax.set_ylabel(f\"qvalue for {y_col}\")\n",
    "ax.hlines(0.05, 0, 1, color='grey', linestyles='dotted')\n",
    "ax.vlines(0.05, 0, 1, color='grey', linestyles='dotted')\n",
    "sns.move_legend(ax, \"upper right\")\n",
    "files_out[f'diff_analysis_comparision_1_{args.model_key}'] = (\n",
    "    args.out_folder /\n",
    "    f'diff_analysis_comparision_1_{args.model_key}')\n",
    "fname = files_out[f'diff_analysis_comparision_1_{args.model_key}']\n",
    "vaep.savefig(fig, name=fname)"
   ]
  },
  {
   "cell_type": "markdown",
   "id": "d8849c76-c5f6-4618-87c0-f2635dc9ac66",
   "metadata": {
    "papermill": {
     "duration": 0.056643,
     "end_time": "2024-05-28T13:57:19.012930",
     "exception": false,
     "start_time": "2024-05-28T13:57:18.956287",
     "status": "completed"
    },
    "tags": []
   },
   "source": [
    "- also showing how many features were measured (\"observed\") by size of circle"
   ]
  },
  {
   "cell_type": "code",
   "execution_count": 21,
   "id": "1cf258f8-9dcb-40bb-af66-b600f8d413f6",
   "metadata": {
    "execution": {
     "iopub.execute_input": "2024-05-28T13:57:19.120132Z",
     "iopub.status.busy": "2024-05-28T13:57:19.119199Z",
     "iopub.status.idle": "2024-05-28T13:57:22.786078Z",
     "shell.execute_reply": "2024-05-28T13:57:22.785251Z"
    },
    "papermill": {
     "duration": 3.719418,
     "end_time": "2024-05-28T13:57:22.788364",
     "exception": false,
     "start_time": "2024-05-28T13:57:19.068946",
     "status": "completed"
    },
    "tags": [
     "hide-input"
    ]
   },
   "outputs": [
    {
     "name": "stderr",
     "output_type": "stream",
     "text": [
      "vaep.plotting - INFO     Saved Figures to runs/alzheimer_study/diff_analysis/AD/PI_vs_DAE/diff_analysis_comparision_2_DAE\n"
     ]
    },
    {
     "data": {
      "image/png": "[encoded data removed]",
      "text/plain": [
       "<Figure size 588x588 with 1 Axes>"
      ]
     },
     "metadata": {},
     "output_type": "display_data"
    }
   ],
   "source": [
    "fig, ax = plt.subplots(figsize=figsize)\n",
    "ax = sns.scatterplot(data=to_plot,\n",
    "                     x=to_plot.columns[0],\n",
    "                     y=to_plot.columns[1],\n",
    "                     size='frequency',\n",
    "                     s=size,\n",
    "                     sizes=(5, 20),\n",
    "                     hue='Differential Analysis Comparison')\n",
    "_ = ax.legend(fontsize=fontsize,\n",
    "              title_fontsize=fontsize,\n",
    "              markerscale=0.6,\n",
    "              title='',\n",
    "              )\n",
    "ax.set_xlabel(f\"qvalue for {x_col}\")\n",
    "ax.set_ylabel(f\"qvalue for {y_col}\")\n",
    "ax.hlines(0.05, 0, 1, color='grey', linestyles='dotted')\n",
    "ax.vlines(0.05, 0, 1, color='grey', linestyles='dotted')\n",
    "sns.move_legend(ax, \"upper right\")\n",
    "files_out[f'diff_analysis_comparision_2_{args.model_key}'] = (\n",
    "    args.out_folder / f'diff_analysis_comparision_2_{args.model_key}')\n",
    "vaep.savefig(\n",
    "    fig, name=files_out[f'diff_analysis_comparision_2_{args.model_key}'])"
   ]
  },
  {
   "cell_type": "markdown",
   "id": "1fee3a21-d8b3-40c6-aea2-4774dfe855ca",
   "metadata": {
    "papermill": {
     "duration": 0.035506,
     "end_time": "2024-05-28T13:57:22.872015",
     "exception": false,
     "start_time": "2024-05-28T13:57:22.836509",
     "status": "completed"
    },
    "tags": []
   },
   "source": [
    "## Only features contained in model\n",
    "- this block exist due to a specific part in the ALD analysis of the paper"
   ]
  },
  {
   "cell_type": "code",
   "execution_count": 22,
   "id": "c4e23a01-fd37-4496-a518-445a9ef38db1",
   "metadata": {
    "execution": {
     "iopub.execute_input": "2024-05-28T13:57:22.939023Z",
     "iopub.status.busy": "2024-05-28T13:57:22.938641Z",
     "iopub.status.idle": "2024-05-28T13:57:22.949470Z",
     "shell.execute_reply": "2024-05-28T13:57:22.948760Z"
    },
    "papermill": {
     "duration": 0.032125,
     "end_time": "2024-05-28T13:57:22.951485",
     "exception": false,
     "start_time": "2024-05-28T13:57:22.919360",
     "status": "completed"
    },
    "tags": [
     "hide-input"
    ]
   },
   "outputs": [
    {
     "name": "stderr",
     "output_type": "stream",
     "text": [
      "root - INFO     No features only in new comparision model.\n"
     ]
    }
   ],
   "source": [
    "scores_model_only = scores.reset_index(level=-1, drop=True)\n",
    "_diff = scores_model_only.index.difference(scores_common.index)\n",
    "if not _diff.empty:\n",
    "    scores_model_only = (scores_model_only\n",
    "                         .loc[\n",
    "                             _diff,\n",
    "                             args.model_key]\n",
    "                         .sort_values(by='qvalue', ascending=True)\n",
    "                         .join(freq_feat.squeeze().rename(freq_feat.columns.droplevel()[0])\n",
    "                               )\n",
    "                         )\n",
    "    display(scores_model_only)\n",
    "else:\n",
    "    scores_model_only = None\n",
    "    logger.info(\"No features only in new comparision model.\")\n",
    "\n",
    "if not _diff.empty:\n",
    "    scores_model_only.to_excel(writer, 'only_model', **writer_args)\n",
    "    display(scores_model_only.rejected.value_counts())\n",
    "    scores_model_only_rejected = scores_model_only.loc[scores_model_only.rejected]\n",
    "    scores_model_only_rejected.to_excel(\n",
    "        writer, 'only_model_rejected', **writer_args)"
   ]
  },
  {
   "cell_type": "markdown",
   "id": "78b2c336",
   "metadata": {
    "papermill": {
     "duration": 0.020465,
     "end_time": "2024-05-28T13:57:22.995987",
     "exception": false,
     "start_time": "2024-05-28T13:57:22.975522",
     "status": "completed"
    },
    "tags": []
   },
   "source": [
    "## DISEASES DB lookup\n",
    "\n",
    "Query diseases database for gene associations with specified disease ontology id."
   ]
  },
  {
   "cell_type": "code",
   "execution_count": 23,
   "id": "d93a9242-0ef4-4fc7-bd98-226a93639f58",
   "metadata": {
    "execution": {
     "iopub.execute_input": "2024-05-28T13:57:23.041640Z",
     "iopub.status.busy": "2024-05-28T13:57:23.041279Z",
     "iopub.status.idle": "2024-05-28T13:57:26.149181Z",
     "shell.execute_reply": "2024-05-28T13:57:26.148290Z"
    },
    "papermill": {
     "duration": 3.134135,
     "end_time": "2024-05-28T13:57:26.150994",
     "exception": false,
     "start_time": "2024-05-28T13:57:23.016859",
     "status": "completed"
    },
    "tags": [
     "hide-input"
    ]
   },
   "outputs": [
    {
     "name": "stderr",
     "output_type": "stream",
     "text": [
      "vaep.databases.diseases - WARNING  There are more associations available\n"
     ]
    },
    {
     "data": {
      "text/html": [
       "<div>\n",
       "<style scoped>\n",
       "    .dataframe tbody tr th:only-of-type {\n",
       "        vertical-align: middle;\n",
       "    }\n",
       "\n",
       "    .dataframe tbody tr th {\n",
       "        vertical-align: top;\n",
       "    }\n",
       "\n",
       "    .dataframe thead th {\n",
       "        text-align: right;\n",
       "    }\n",
       "</style>\n",
       "<table border=\"1\" class=\"dataframe\">\n",
       "  <thead>\n",
       "    <tr style=\"text-align: right;\">\n",
       "      <th></th>\n",
       "      <th>ENSP</th>\n",
       "      <th>score</th>\n",
       "    </tr>\n",
       "    <tr>\n",
       "      <th>None</th>\n",
       "      <th></th>\n",
       "      <th></th>\n",
       "    </tr>\n",
       "  </thead>\n",
       "  <tbody>\n",
       "    <tr>\n",
       "      <th>PSEN2</th>\n",
       "      <td>ENSP00000355747</td>\n",
       "      <td>5.000</td>\n",
       "    </tr>\n",
       "    <tr>\n",
       "      <th>PSEN1</th>\n",
       "      <td>ENSP00000326366</td>\n",
       "      <td>5.000</td>\n",
       "    </tr>\n",
       "    <tr>\n",
       "      <th>APOE</th>\n",
       "      <td>ENSP00000252486</td>\n",
       "      <td>5.000</td>\n",
       "    </tr>\n",
       "    <tr>\n",
       "      <th>APP</th>\n",
       "      <td>ENSP00000284981</td>\n",
       "      <td>5.000</td>\n",
       "    </tr>\n",
       "    <tr>\n",
       "      <th>MAPT</th>\n",
       "      <td>ENSP00000340820</td>\n",
       "      <td>4.800</td>\n",
       "    </tr>\n",
       "    <tr>\n",
       "      <th>...</th>\n",
       "      <td>...</td>\n",
       "      <td>...</td>\n",
       "    </tr>\n",
       "    <tr>\n",
       "      <th>ZBTB22</th>\n",
       "      <td>ENSP00000407545</td>\n",
       "      <td>0.683</td>\n",
       "    </tr>\n",
       "    <tr>\n",
       "      <th>HMGN2</th>\n",
       "      <td>ENSP00000355228</td>\n",
       "      <td>0.683</td>\n",
       "    </tr>\n",
       "    <tr>\n",
       "      <th>PPP1R13B</th>\n",
       "      <td>ENSP00000202556</td>\n",
       "      <td>0.683</td>\n",
       "    </tr>\n",
       "    <tr>\n",
       "      <th>PREB</th>\n",
       "      <td>ENSP00000260643</td>\n",
       "      <td>0.683</td>\n",
       "    </tr>\n",
       "    <tr>\n",
       "      <th>CELF5</th>\n",
       "      <td>ENSP00000292672</td>\n",
       "      <td>0.683</td>\n",
       "    </tr>\n",
       "  </tbody>\n",
       "</table>\n",
       "<p>10000 rows × 2 columns</p>\n",
       "</div>"
      ],
      "text/plain": [
       "                     ENSP  score\n",
       "None                            \n",
       "PSEN2     ENSP00000355747  5.000\n",
       "PSEN1     ENSP00000326366  5.000\n",
       "APOE      ENSP00000252486  5.000\n",
       "APP       ENSP00000284981  5.000\n",
       "MAPT      ENSP00000340820  4.800\n",
       "...                   ...    ...\n",
       "ZBTB22    ENSP00000407545  0.683\n",
       "HMGN2     ENSP00000355228  0.683\n",
       "PPP1R13B  ENSP00000202556  0.683\n",
       "PREB      ENSP00000260643  0.683\n",
       "CELF5     ENSP00000292672  0.683\n",
       "\n",
       "[10000 rows x 2 columns]"
      ]
     },
     "execution_count": 23,
     "metadata": {},
     "output_type": "execute_result"
    }
   ],
   "source": [
    "data = vaep.databases.diseases.get_disease_association(\n",
    "    doid=args.disease_ontology, limit=10000)\n",
    "data = pd.DataFrame.from_dict(data, orient='index').rename_axis('ENSP', axis=0)\n",
    "data = data.rename(columns={'name': args.annotaitons_gene_col}).reset_index(\n",
    ").set_index(args.annotaitons_gene_col)\n",
    "data"
   ]
  },
  {
   "cell_type": "markdown",
   "id": "efe22443-2613-46ad-83c2-41048e13dd57",
   "metadata": {
    "papermill": {
     "duration": 0.054898,
     "end_time": "2024-05-28T13:57:26.267105",
     "exception": false,
     "start_time": "2024-05-28T13:57:26.212207",
     "status": "completed"
    },
    "tags": []
   },
   "source": [
    "## Shared features\n",
    "ToDo: new script -> DISEASES DB lookup"
   ]
  },
  {
   "cell_type": "code",
   "execution_count": null,
   "id": "5c26415e",
   "metadata": {
    "papermill": {
     "duration": 0.048906,
     "end_time": "2024-05-28T13:57:26.369196",
     "exception": false,
     "start_time": "2024-05-28T13:57:26.320290",
     "status": "completed"
    },
    "tags": [
     "hide-input"
    ]
   },
   "outputs": [],
   "source": []
  },
  {
   "cell_type": "code",
   "execution_count": 24,
   "id": "b68b43df",
   "metadata": {
    "execution": {
     "iopub.execute_input": "2024-05-28T13:57:26.494532Z",
     "iopub.status.busy": "2024-05-28T13:57:26.494168Z",
     "iopub.status.idle": "2024-05-28T13:57:26.501179Z",
     "shell.execute_reply": "2024-05-28T13:57:26.500255Z"
    },
    "papermill": {
     "duration": 0.09106,
     "end_time": "2024-05-28T13:57:26.502798",
     "exception": true,
     "start_time": "2024-05-28T13:57:26.411738",
     "status": "failed"
    },
    "tags": [
     "hide-input"
    ]
   },
   "outputs": [
    {
     "name": "stderr",
     "output_type": "stream",
     "text": [
      "root - INFO     No gene annotation in scores index:  ['protein groups', 'Source'] Exiting.\n"
     ]
    },
    {
     "ename": "SystemExit",
     "evalue": "0",
     "output_type": "error",
     "traceback": [
      "An exception has occurred, use %tb to see the full traceback.\n",
      "\u001b[0;31mSystemExit\u001b[0m\u001b[0;31m:\u001b[0m 0\n"
     ]
    }
   ],
   "source": [
    "feat_name = scores.index.names[0]  # first index level is feature name\n",
    "if args.annotaitons_gene_col in scores.index.names:\n",
    "    logger.info(f\"Found gene annotation in scores index:  {scores.index.names}\")\n",
    "else:\n",
    "    logger.info(f\"No gene annotation in scores index:  {scores.index.names}\"\n",
    "                \" Exiting.\")\n",
    "    import sys\n",
    "    sys.exit(0)"
   ]
  },
  {
   "cell_type": "code",
   "execution_count": null,
   "id": "f8d4a74d-5a9b-4d9b-9345-4288bb23e19f",
   "metadata": {
    "papermill": {
     "duration": null,
     "end_time": null,
     "exception": null,
     "start_time": null,
     "status": "pending"
    },
    "tags": [
     "hide-input"
    ]
   },
   "outputs": [],
   "source": [
    "gene_to_PG = (scores.droplevel(\n",
    "    list(set(scores.index.names) - {feat_name, args.annotaitons_gene_col})\n",
    ")\n",
    "    .index\n",
    "    .to_frame()\n",
    "    .reset_index(drop=True)\n",
    "    .set_index(args.annotaitons_gene_col)\n",
    ")\n",
    "gene_to_PG.head()"
   ]
  },
  {
   "cell_type": "code",
   "execution_count": null,
   "id": "d9e76def-b48a-458d-a90b-765e6e70f7a4",
   "metadata": {
    "papermill": {
     "duration": null,
     "end_time": null,
     "exception": null,
     "start_time": null,
     "status": "pending"
    },
    "tags": [
     "hide-input"
    ]
   },
   "outputs": [],
   "source": [
    "disease_associations_all = data.join(\n",
    "    gene_to_PG).dropna().reset_index().set_index(feat_name).join(annotations)\n",
    "disease_associations_all"
   ]
  },
  {
   "cell_type": "markdown",
   "id": "217972a3-ba4a-4f28-ab8f-25dc0f5e9ede",
   "metadata": {
    "papermill": {
     "duration": null,
     "end_time": null,
     "exception": null,
     "start_time": null,
     "status": "pending"
    },
    "tags": []
   },
   "source": [
    "## only by model"
   ]
  },
  {
   "cell_type": "code",
   "execution_count": null,
   "id": "8e9d6944-87ba-4c41-af14-fb5ed93262f0",
   "metadata": {
    "papermill": {
     "duration": null,
     "end_time": null,
     "exception": null,
     "start_time": null,
     "status": "pending"
    },
    "tags": [
     "hide-input"
    ]
   },
   "outputs": [],
   "source": [
    "idx = disease_associations_all.index.intersection(scores_model_only.index)\n",
    "disease_assocications_new = disease_associations_all.loc[idx].sort_values(\n",
    "    'score', ascending=False)\n",
    "disease_assocications_new.head(20)"
   ]
  },
  {
   "cell_type": "code",
   "execution_count": null,
   "id": "ceefc483-b889-4bab-b207-c8d5fd97fa4a",
   "metadata": {
    "papermill": {
     "duration": null,
     "end_time": null,
     "exception": null,
     "start_time": null,
     "status": "pending"
    },
    "tags": [
     "hide-input"
    ]
   },
   "outputs": [],
   "source": [
    "mask = disease_assocications_new.loc[idx, 'score'] >= 2.0\n",
    "disease_assocications_new.loc[idx].loc[mask]"
   ]
  },
  {
   "cell_type": "markdown",
   "id": "f85eede2-7b61-4285-ba8c-745f77f6ab22",
   "metadata": {
    "papermill": {
     "duration": null,
     "end_time": null,
     "exception": null,
     "start_time": null,
     "status": "pending"
    },
    "tags": []
   },
   "source": [
    "## Only by model which were significant"
   ]
  },
  {
   "cell_type": "code",
   "execution_count": null,
   "id": "4644759b-8cc2-4f99-a16c-16419cfb915c",
   "metadata": {
    "papermill": {
     "duration": null,
     "end_time": null,
     "exception": null,
     "start_time": null,
     "status": "pending"
    },
    "tags": [
     "hide-input"
    ]
   },
   "outputs": [],
   "source": [
    "idx = disease_associations_all.index.intersection(\n",
    "    scores_model_only_rejected.index)\n",
    "disease_assocications_new_rejected = disease_associations_all.loc[idx].sort_values(\n",
    "    'score', ascending=False)\n",
    "disease_assocications_new_rejected.head(20)"
   ]
  },
  {
   "cell_type": "code",
   "execution_count": null,
   "id": "365d8641-97a8-464f-b69b-270af9ae6e2d",
   "metadata": {
    "papermill": {
     "duration": null,
     "end_time": null,
     "exception": null,
     "start_time": null,
     "status": "pending"
    },
    "tags": [
     "hide-input"
    ]
   },
   "outputs": [],
   "source": [
    "mask = disease_assocications_new_rejected.loc[idx, 'score'] >= 2.0\n",
    "disease_assocications_new_rejected.loc[idx].loc[mask]"
   ]
  },
  {
   "cell_type": "markdown",
   "id": "4f22614b-e058-4e35-b8a9-141c291a93bc",
   "metadata": {
    "papermill": {
     "duration": null,
     "end_time": null,
     "exception": null,
     "start_time": null,
     "status": "pending"
    },
    "tags": []
   },
   "source": [
    "## Shared which are only significant for by model"
   ]
  },
  {
   "cell_type": "code",
   "execution_count": null,
   "id": "82eb2ba8-4fe7-431d-8095-5be43f7791b7",
   "metadata": {
    "papermill": {
     "duration": null,
     "end_time": null,
     "exception": null,
     "start_time": null,
     "status": "pending"
    },
    "tags": []
   },
   "outputs": [],
   "source": [
    "mask = (scores_common[(str(args.model_key), 'rejected')] & mask_different)\n",
    "mask.sum()"
   ]
  },
  {
   "cell_type": "code",
   "execution_count": null,
   "id": "6416d494-5f3e-4cf4-b766-b1f95e40ae1c",
   "metadata": {
    "papermill": {
     "duration": null,
     "end_time": null,
     "exception": null,
     "start_time": null,
     "status": "pending"
    },
    "tags": [
     "hide-input"
    ]
   },
   "outputs": [],
   "source": [
    "idx = disease_associations_all.index.intersection(mask.index[mask])\n",
    "disease_assocications_shared_rejected_by_model = (disease_associations_all.loc[idx].sort_values(\n",
    "    'score', ascending=False))\n",
    "disease_assocications_shared_rejected_by_model.head(20)"
   ]
  },
  {
   "cell_type": "code",
   "execution_count": null,
   "id": "10899e28-4aee-4d44-a542-e45be6699a1b",
   "metadata": {
    "papermill": {
     "duration": null,
     "end_time": null,
     "exception": null,
     "start_time": null,
     "status": "pending"
    },
    "tags": [
     "hide-input"
    ]
   },
   "outputs": [],
   "source": [
    "mask = disease_assocications_shared_rejected_by_model.loc[idx, 'score'] >= 2.0\n",
    "disease_assocications_shared_rejected_by_model.loc[idx].loc[mask]"
   ]
  },
  {
   "cell_type": "markdown",
   "id": "b6c082ea-7d92-4296-8ec9-d279509142a3",
   "metadata": {
    "papermill": {
     "duration": null,
     "end_time": null,
     "exception": null,
     "start_time": null,
     "status": "pending"
    },
    "tags": []
   },
   "source": [
    "## Only significant by RSN"
   ]
  },
  {
   "cell_type": "code",
   "execution_count": null,
   "id": "c59aae50-6877-47cc-99f6-646862d29121",
   "metadata": {
    "papermill": {
     "duration": null,
     "end_time": null,
     "exception": null,
     "start_time": null,
     "status": "pending"
    },
    "tags": []
   },
   "outputs": [],
   "source": [
    "mask = (scores_common[(str(args.baseline), 'rejected')] & mask_different)\n",
    "mask.sum()"
   ]
  },
  {
   "cell_type": "code",
   "execution_count": null,
   "id": "7780de55-c63b-4028-a6d0-58bce7be81da",
   "metadata": {
    "papermill": {
     "duration": null,
     "end_time": null,
     "exception": null,
     "start_time": null,
     "status": "pending"
    },
    "tags": [
     "hide-input"
    ]
   },
   "outputs": [],
   "source": [
    "idx = disease_associations_all.index.intersection(mask.index[mask])\n",
    "disease_assocications_shared_rejected_by_RSN = (\n",
    "    disease_associations_all\n",
    "    .loc[idx]\n",
    "    .sort_values('score', ascending=False))\n",
    "disease_assocications_shared_rejected_by_RSN.head(20)"
   ]
  },
  {
   "cell_type": "code",
   "execution_count": null,
   "id": "03115c8f-1f20-4b51-a78c-4d7c0317dc33",
   "metadata": {
    "papermill": {
     "duration": null,
     "end_time": null,
     "exception": null,
     "start_time": null,
     "status": "pending"
    },
    "tags": [
     "hide-input"
    ]
   },
   "outputs": [],
   "source": [
    "mask = disease_assocications_shared_rejected_by_RSN.loc[idx, 'score'] >= 2.0\n",
    "disease_assocications_shared_rejected_by_RSN.loc[idx].loc[mask]"
   ]
  },
  {
   "cell_type": "markdown",
   "id": "9d72708d-ad27-435b-b672-7dfe35283601",
   "metadata": {
    "papermill": {
     "duration": null,
     "end_time": null,
     "exception": null,
     "start_time": null,
     "status": "pending"
    },
    "tags": []
   },
   "source": [
    "## Write to excel"
   ]
  },
  {
   "cell_type": "code",
   "execution_count": null,
   "id": "91e7fbb7-69fd-4b4c-9bc2-40e8dd1907b3",
   "metadata": {
    "papermill": {
     "duration": null,
     "end_time": null,
     "exception": null,
     "start_time": null,
     "status": "pending"
    },
    "tags": [
     "hide-input"
    ]
   },
   "outputs": [],
   "source": [
    "disease_associations_all.to_excel(\n",
    "    writer, sheet_name='disease_assoc_all', **writer_args)\n",
    "disease_assocications_new.to_excel(\n",
    "    writer, sheet_name='disease_assoc_new', **writer_args)\n",
    "disease_assocications_new_rejected.to_excel(\n",
    "    writer, sheet_name='disease_assoc_new_rejected', **writer_args)"
   ]
  },
  {
   "cell_type": "markdown",
   "id": "52a42028-7e2d-47d5-be02-52f7ff1f3665",
   "metadata": {
    "papermill": {
     "duration": null,
     "end_time": null,
     "exception": null,
     "start_time": null,
     "status": "pending"
    },
    "tags": []
   },
   "source": [
    "## Outputs"
   ]
  },
  {
   "cell_type": "code",
   "execution_count": null,
   "id": "7f3a7433-3bf1-4168-8f16-eb6d415ef17f",
   "metadata": {
    "papermill": {
     "duration": null,
     "end_time": null,
     "exception": null,
     "start_time": null,
     "status": "pending"
    },
    "tags": [
     "hide-input"
    ]
   },
   "outputs": [],
   "source": [
    "writer.close()\n",
    "files_out"
   ]
  }
 ],
 "metadata": {
  "kernelspec": {
   "display_name": "Python 3",
   "language": "python",
   "name": "python3"
  },
  "language_info": {
   "codemirror_mode": {
    "name": "ipython",
    "version": 3
   },
   "file_extension": ".py",
   "mimetype": "text/x-python",
   "name": "python",
   "nbconvert_exporter": "python",
   "pygments_lexer": "ipython3",
   "version": "3.8.19"
  },
  "papermill": {
   "default_parameters": {},
   "duration": 19.382285,
   "end_time": "2024-05-28T13:57:28.107355",
   "environment_variables": {},
   "exception": true,
   "input_path": "10_2_ald_compare_methods.ipynb",
   "output_path": "runs/alzheimer_study/diff_analysis/AD/PI_vs_DAE/10_2_ald_compare_methods.ipynb",
   "parameters": {
    "annotaitons_gene_col": "None",
    "baseline": "PI",
    "disease_ontology": 10652,
    "folder_experiment": "runs/alzheimer_study",
    "model_key": "DAE",
    "out_folder": "diff_analysis",
    "target": "AD"
   },
   "start_time": "2024-05-28T13:57:08.725070",
   "version": "2.6.0"
  }
 },
 "nbformat": 4,
 "nbformat_minor": 5
}