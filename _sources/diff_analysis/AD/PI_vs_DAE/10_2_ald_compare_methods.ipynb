{
 "cells": [
  {
   "cell_type": "markdown",
   "id": "9acfeaca-5f8c-42f3-9a8e-83ed737eb35c",
   "metadata": {
    "papermill": {
     "duration": 0.013144,
     "end_time": "2024-05-27T17:00:34.206589",
     "exception": false,
     "start_time": "2024-05-27T17:00:34.193445",
     "status": "completed"
    },
    "tags": []
   },
   "source": [
    "# Compare outcomes from differential analysis based on different imputation methods\n",
    "\n",
    "- load scores based on `16_ald_diff_analysis`"
   ]
  },
  {
   "cell_type": "code",
   "execution_count": 1,
   "id": "eec6f931-c04d-428c-b2b1-0424c50e6cd2",
   "metadata": {
    "execution": {
     "iopub.execute_input": "2024-05-27T17:00:34.253696Z",
     "iopub.status.busy": "2024-05-27T17:00:34.253314Z",
     "iopub.status.idle": "2024-05-27T17:00:36.885042Z",
     "shell.execute_reply": "2024-05-27T17:00:36.884097Z"
    },
    "papermill": {
     "duration": 2.645748,
     "end_time": "2024-05-27T17:00:36.887287",
     "exception": false,
     "start_time": "2024-05-27T17:00:34.241539",
     "status": "completed"
    },
    "tags": [
     "hide-input"
    ]
   },
   "outputs": [],
   "source": [
    "from pathlib import Path\n",
    "\n",
    "import matplotlib.pyplot as plt\n",
    "import pandas as pd\n",
    "import seaborn as sns\n",
    "from IPython.display import display\n",
    "\n",
    "import vaep\n",
    "import vaep.databases.diseases\n",
    "\n",
    "logger = vaep.logging.setup_nb_logger()\n",
    "\n",
    "plt.rcParams['figure.figsize'] = (2, 2)\n",
    "fontsize = 5\n",
    "vaep.plotting.make_large_descriptors(fontsize)"
   ]
  },
  {
   "cell_type": "code",
   "execution_count": 2,
   "id": "f4bf65da-0569-4a21-ba20-9cae7d3679e7",
   "metadata": {
    "execution": {
     "iopub.execute_input": "2024-05-27T17:00:36.922107Z",
     "iopub.status.busy": "2024-05-27T17:00:36.921665Z",
     "iopub.status.idle": "2024-05-27T17:00:36.925436Z",
     "shell.execute_reply": "2024-05-27T17:00:36.924729Z"
    },
    "papermill": {
     "duration": 0.021312,
     "end_time": "2024-05-27T17:00:36.930838",
     "exception": false,
     "start_time": "2024-05-27T17:00:36.909526",
     "status": "completed"
    },
    "tags": [
     "hide-input"
    ]
   },
   "outputs": [],
   "source": [
    "# catch passed parameters\n",
    "args = None\n",
    "args = dict(globals()).keys()"
   ]
  },
  {
   "cell_type": "markdown",
   "id": "22c645fc-c7eb-4c69-a7aa-084fc733258f",
   "metadata": {
    "papermill": {
     "duration": 0.010544,
     "end_time": "2024-05-27T17:00:36.951714",
     "exception": false,
     "start_time": "2024-05-27T17:00:36.941170",
     "status": "completed"
    },
    "tags": []
   },
   "source": [
    "## Parameters"
   ]
  },
  {
   "cell_type": "code",
   "execution_count": 3,
   "id": "978876d0-b3cc-4847-8eab-dc0b89ddbbcd",
   "metadata": {
    "execution": {
     "iopub.execute_input": "2024-05-27T17:00:36.990331Z",
     "iopub.status.busy": "2024-05-27T17:00:36.990029Z",
     "iopub.status.idle": "2024-05-27T17:00:36.994205Z",
     "shell.execute_reply": "2024-05-27T17:00:36.993571Z"
    },
    "papermill": {
     "duration": 0.024315,
     "end_time": "2024-05-27T17:00:36.996817",
     "exception": false,
     "start_time": "2024-05-27T17:00:36.972502",
     "status": "completed"
    },
    "tags": [
     "parameters"
    ]
   },
   "outputs": [],
   "source": [
    "folder_experiment = 'runs/appl_ald_data/plasma/proteinGroups'\n",
    "\n",
    "target = 'kleiner'\n",
    "model_key = 'VAE'\n",
    "baseline = 'RSN'\n",
    "out_folder = 'diff_analysis'\n",
    "\n",
    "disease_ontology = 5082  # code from https://disease-ontology.org/\n",
    "# split diseases notebook? Query gene names for proteins in file from uniprot?\n",
    "annotaitons_gene_col = 'PG.Genes'"
   ]
  },
  {
   "cell_type": "code",
   "execution_count": 4,
   "id": "3eccb917",
   "metadata": {
    "execution": {
     "iopub.execute_input": "2024-05-27T17:00:37.019558Z",
     "iopub.status.busy": "2024-05-27T17:00:37.019309Z",
     "iopub.status.idle": "2024-05-27T17:00:37.023289Z",
     "shell.execute_reply": "2024-05-27T17:00:37.022622Z"
    },
    "papermill": {
     "duration": 0.017942,
     "end_time": "2024-05-27T17:00:37.025862",
     "exception": false,
     "start_time": "2024-05-27T17:00:37.007920",
     "status": "completed"
    },
    "tags": [
     "injected-parameters"
    ]
   },
   "outputs": [],
   "source": [
    "# Parameters\n",
    "disease_ontology = 10652\n",
    "folder_experiment = \"runs/alzheimer_study\"\n",
    "target = \"AD\"\n",
    "baseline = \"PI\"\n",
    "model_key = \"DAE\"\n",
    "out_folder = \"diff_analysis\"\n",
    "annotaitons_gene_col = \"None\"\n"
   ]
  },
  {
   "cell_type": "code",
   "execution_count": 5,
   "id": "a8016d79-e41a-40a2-bcbf-e11711c33b7d",
   "metadata": {
    "execution": {
     "iopub.execute_input": "2024-05-27T17:00:37.047838Z",
     "iopub.status.busy": "2024-05-27T17:00:37.047408Z",
     "iopub.status.idle": "2024-05-27T17:00:37.067530Z",
     "shell.execute_reply": "2024-05-27T17:00:37.066504Z"
    },
    "papermill": {
     "duration": 0.035097,
     "end_time": "2024-05-27T17:00:37.071314",
     "exception": false,
     "start_time": "2024-05-27T17:00:37.036217",
     "status": "completed"
    },
    "tags": []
   },
   "outputs": [
    {
     "name": "stderr",
     "output_type": "stream",
     "text": [
      "root - INFO     Removed from global namespace: folder_experiment\n"
     ]
    },
    {
     "name": "stderr",
     "output_type": "stream",
     "text": [
      "root - INFO     Removed from global namespace: target\n"
     ]
    },
    {
     "name": "stderr",
     "output_type": "stream",
     "text": [
      "root - INFO     Removed from global namespace: model_key\n"
     ]
    },
    {
     "name": "stderr",
     "output_type": "stream",
     "text": [
      "root - INFO     Removed from global namespace: baseline\n"
     ]
    },
    {
     "name": "stderr",
     "output_type": "stream",
     "text": [
      "root - INFO     Removed from global namespace: out_folder\n"
     ]
    },
    {
     "name": "stderr",
     "output_type": "stream",
     "text": [
      "root - INFO     Removed from global namespace: disease_ontology\n"
     ]
    },
    {
     "name": "stderr",
     "output_type": "stream",
     "text": [
      "root - INFO     Removed from global namespace: annotaitons_gene_col\n"
     ]
    },
    {
     "data": {
      "text/plain": [
       "{'folder_experiment': 'runs/alzheimer_study',\n",
       " 'target': 'AD',\n",
       " 'model_key': 'DAE',\n",
       " 'baseline': 'PI',\n",
       " 'out_folder': 'diff_analysis',\n",
       " 'disease_ontology': 10652,\n",
       " 'annotaitons_gene_col': 'None'}"
      ]
     },
     "execution_count": 5,
     "metadata": {},
     "output_type": "execute_result"
    }
   ],
   "source": [
    "params = vaep.nb.get_params(args, globals=globals())\n",
    "params"
   ]
  },
  {
   "cell_type": "code",
   "execution_count": 6,
   "id": "5ded6640-99aa-4759-a8ef-b67029f22766",
   "metadata": {
    "execution": {
     "iopub.execute_input": "2024-05-27T17:00:37.095950Z",
     "iopub.status.busy": "2024-05-27T17:00:37.095287Z",
     "iopub.status.idle": "2024-05-27T17:00:37.105226Z",
     "shell.execute_reply": "2024-05-27T17:00:37.104552Z"
    },
    "papermill": {
     "duration": 0.025803,
     "end_time": "2024-05-27T17:00:37.108921",
     "exception": false,
     "start_time": "2024-05-27T17:00:37.083118",
     "status": "completed"
    },
    "tags": [
     "hide-input"
    ]
   },
   "outputs": [
    {
     "name": "stderr",
     "output_type": "stream",
     "text": [
      "root - INFO     Already set attribute: folder_experiment has value runs/alzheimer_study\n"
     ]
    },
    {
     "name": "stderr",
     "output_type": "stream",
     "text": [
      "root - INFO     Already set attribute: out_folder has value diff_analysis\n"
     ]
    },
    {
     "data": {
      "text/plain": [
       "{'annotaitons_gene_col': 'None',\n",
       " 'baseline': 'PI',\n",
       " 'data': PosixPath('runs/alzheimer_study/data'),\n",
       " 'disease_ontology': 10652,\n",
       " 'folder_experiment': PosixPath('runs/alzheimer_study'),\n",
       " 'model_key': 'DAE',\n",
       " 'out_figures': PosixPath('runs/alzheimer_study/figures'),\n",
       " 'out_folder': PosixPath('runs/alzheimer_study/diff_analysis/AD/PI_vs_DAE'),\n",
       " 'out_metrics': PosixPath('runs/alzheimer_study'),\n",
       " 'out_models': PosixPath('runs/alzheimer_study'),\n",
       " 'out_preds': PosixPath('runs/alzheimer_study/preds'),\n",
       " 'scores_folder': PosixPath('runs/alzheimer_study/diff_analysis/AD/scores'),\n",
       " 'target': 'AD'}"
      ]
     },
     "execution_count": 6,
     "metadata": {},
     "output_type": "execute_result"
    }
   ],
   "source": [
    "args = vaep.nb.Config()\n",
    "args.folder_experiment = Path(params[\"folder_experiment\"])\n",
    "args = vaep.nb.add_default_paths(args,\n",
    "                                 out_root=(\n",
    "                                     args.folder_experiment\n",
    "                                     / params[\"out_folder\"]\n",
    "                                     / params[\"target\"]\n",
    "                                     / f\"{params['baseline']}_vs_{params['model_key']}\"))\n",
    "args.update_from_dict(params)\n",
    "args.scores_folder = scores_folder = (args.folder_experiment\n",
    "                                      / params[\"out_folder\"]\n",
    "                                      / params[\"target\"]\n",
    "                                      / 'scores')\n",
    "args"
   ]
  },
  {
   "cell_type": "code",
   "execution_count": 7,
   "id": "112dd9f2-6219-452a-9c6a-b1712dabb164",
   "metadata": {
    "execution": {
     "iopub.execute_input": "2024-05-27T17:00:37.186059Z",
     "iopub.status.busy": "2024-05-27T17:00:37.185711Z",
     "iopub.status.idle": "2024-05-27T17:00:37.190891Z",
     "shell.execute_reply": "2024-05-27T17:00:37.190186Z"
    },
    "papermill": {
     "duration": 0.031986,
     "end_time": "2024-05-27T17:00:37.197520",
     "exception": false,
     "start_time": "2024-05-27T17:00:37.165534",
     "status": "completed"
    },
    "tags": [
     "hide-input"
    ]
   },
   "outputs": [
    {
     "data": {
      "text/plain": [
       "{'freq_features_observed.csv': PosixPath('runs/alzheimer_study/freq_features_observed.csv')}"
      ]
     },
     "execution_count": 7,
     "metadata": {},
     "output_type": "execute_result"
    }
   ],
   "source": [
    "files_in = {\n",
    "    'freq_features_observed.csv': args.folder_experiment / 'freq_features_observed.csv',\n",
    "}\n",
    "files_in"
   ]
  },
  {
   "cell_type": "markdown",
   "id": "c74bcc21-3fb2-4b8d-823a-72a3b6b6e847",
   "metadata": {
    "papermill": {
     "duration": 0.037445,
     "end_time": "2024-05-27T17:00:37.267679",
     "exception": false,
     "start_time": "2024-05-27T17:00:37.230234",
     "status": "completed"
    },
    "tags": []
   },
   "source": [
    "## Excel file for exports"
   ]
  },
  {
   "cell_type": "code",
   "execution_count": 8,
   "id": "12009c54-c45f-4ee0-a9b3-b0e8e5f3cff2",
   "metadata": {
    "execution": {
     "iopub.execute_input": "2024-05-27T17:00:37.326170Z",
     "iopub.status.busy": "2024-05-27T17:00:37.325843Z",
     "iopub.status.idle": "2024-05-27T17:00:37.329837Z",
     "shell.execute_reply": "2024-05-27T17:00:37.329154Z"
    },
    "papermill": {
     "duration": 0.039063,
     "end_time": "2024-05-27T17:00:37.335382",
     "exception": false,
     "start_time": "2024-05-27T17:00:37.296319",
     "status": "completed"
    },
    "tags": [
     "hide-input"
    ]
   },
   "outputs": [],
   "source": [
    "files_out = dict()"
   ]
  },
  {
   "cell_type": "code",
   "execution_count": 9,
   "id": "8ef71b04-d4a5-4def-ad63-866d8bba4a1e",
   "metadata": {
    "execution": {
     "iopub.execute_input": "2024-05-27T17:00:37.382972Z",
     "iopub.status.busy": "2024-05-27T17:00:37.382693Z",
     "iopub.status.idle": "2024-05-27T17:00:37.559187Z",
     "shell.execute_reply": "2024-05-27T17:00:37.558469Z"
    },
    "papermill": {
     "duration": 0.214388,
     "end_time": "2024-05-27T17:00:37.561221",
     "exception": false,
     "start_time": "2024-05-27T17:00:37.346833",
     "status": "completed"
    },
    "tags": [
     "hide-input"
    ]
   },
   "outputs": [
    {
     "data": {
      "text/plain": [
       "PosixPath('runs/alzheimer_study/diff_analysis/AD/PI_vs_DAE/diff_analysis_compare_methods.xlsx')"
      ]
     },
     "execution_count": 9,
     "metadata": {},
     "output_type": "execute_result"
    }
   ],
   "source": [
    "writer_args = dict(float_format='%.3f')\n",
    "\n",
    "fname = args.out_folder / 'diff_analysis_compare_methods.xlsx'\n",
    "files_out[fname.name] = fname\n",
    "writer = pd.ExcelWriter(fname)\n",
    "fname"
   ]
  },
  {
   "cell_type": "markdown",
   "id": "770d1f76-e86f-4ae3-9d7b-ceef9b9e9a22",
   "metadata": {
    "papermill": {
     "duration": 0.020456,
     "end_time": "2024-05-27T17:00:37.602385",
     "exception": false,
     "start_time": "2024-05-27T17:00:37.581929",
     "status": "completed"
    },
    "tags": []
   },
   "source": [
    "## Load scores"
   ]
  },
  {
   "cell_type": "code",
   "execution_count": 10,
   "id": "e8bbada7-8b8e-4399-b0d3-b66c40905839",
   "metadata": {
    "execution": {
     "iopub.execute_input": "2024-05-27T17:00:37.659352Z",
     "iopub.status.busy": "2024-05-27T17:00:37.659006Z",
     "iopub.status.idle": "2024-05-27T17:00:37.665727Z",
     "shell.execute_reply": "2024-05-27T17:00:37.664968Z"
    },
    "papermill": {
     "duration": 0.048315,
     "end_time": "2024-05-27T17:00:37.670090",
     "exception": false,
     "start_time": "2024-05-27T17:00:37.621775",
     "status": "completed"
    },
    "tags": [
     "hide-input"
    ]
   },
   "outputs": [
    {
     "data": {
      "text/plain": [
       "[PosixPath('runs/alzheimer_study/diff_analysis/AD/scores/10_1_ald_diff_analysis_None.ipynb'),\n",
       " PosixPath('runs/alzheimer_study/diff_analysis/AD/scores/diff_analysis_scores_None.pkl'),\n",
       " PosixPath('runs/alzheimer_study/diff_analysis/AD/scores/diff_analysis_scores_PI.pkl'),\n",
       " PosixPath('runs/alzheimer_study/diff_analysis/AD/scores/10_1_ald_diff_analysis_Median.ipynb'),\n",
       " PosixPath('runs/alzheimer_study/diff_analysis/AD/scores/10_1_ald_diff_analysis_RF.html'),\n",
       " PosixPath('runs/alzheimer_study/diff_analysis/AD/scores/diff_analysis_scores_TRKNN.pkl'),\n",
       " PosixPath('runs/alzheimer_study/diff_analysis/AD/scores/10_1_ald_diff_analysis_VAE.ipynb'),\n",
       " PosixPath('runs/alzheimer_study/diff_analysis/AD/scores/diff_analysis_scores_DAE.pkl'),\n",
       " PosixPath('runs/alzheimer_study/diff_analysis/AD/scores/10_1_ald_diff_analysis_CF.ipynb'),\n",
       " PosixPath('runs/alzheimer_study/diff_analysis/AD/scores/diff_analysis_scores_RF.pkl'),\n",
       " PosixPath('runs/alzheimer_study/diff_analysis/AD/scores/10_1_ald_diff_analysis_DAE.html'),\n",
       " PosixPath('runs/alzheimer_study/diff_analysis/AD/scores/10_1_ald_diff_analysis_QRILC.html'),\n",
       " PosixPath('runs/alzheimer_study/diff_analysis/AD/scores/10_1_ald_diff_analysis_QRILC.ipynb'),\n",
       " PosixPath('runs/alzheimer_study/diff_analysis/AD/scores/diff_analysis_scores_VAE.pkl'),\n",
       " PosixPath('runs/alzheimer_study/diff_analysis/AD/scores/10_1_ald_diff_analysis_Median.html'),\n",
       " PosixPath('runs/alzheimer_study/diff_analysis/AD/scores/diff_analysis_scores_QRILC.pkl'),\n",
       " PosixPath('runs/alzheimer_study/diff_analysis/AD/scores/10_1_ald_diff_analysis_TRKNN.ipynb'),\n",
       " PosixPath('runs/alzheimer_study/diff_analysis/AD/scores/10_1_ald_diff_analysis_PI.ipynb'),\n",
       " PosixPath('runs/alzheimer_study/diff_analysis/AD/scores/diff_analysis_scores_CF.pkl'),\n",
       " PosixPath('runs/alzheimer_study/diff_analysis/AD/scores/10_1_ald_diff_analysis_None.html'),\n",
       " PosixPath('runs/alzheimer_study/diff_analysis/AD/scores/10_1_ald_diff_analysis_DAE.ipynb'),\n",
       " PosixPath('runs/alzheimer_study/diff_analysis/AD/scores/10_1_ald_diff_analysis_PI.html'),\n",
       " PosixPath('runs/alzheimer_study/diff_analysis/AD/scores/diff_analysis_scores_Median.pkl'),\n",
       " PosixPath('runs/alzheimer_study/diff_analysis/AD/scores/10_1_ald_diff_analysis_VAE.html'),\n",
       " PosixPath('runs/alzheimer_study/diff_analysis/AD/scores/10_1_ald_diff_analysis_CF.html'),\n",
       " PosixPath('runs/alzheimer_study/diff_analysis/AD/scores/10_1_ald_diff_analysis_TRKNN.html'),\n",
       " PosixPath('runs/alzheimer_study/diff_analysis/AD/scores/10_1_ald_diff_analysis_RF.ipynb')]"
      ]
     },
     "execution_count": 10,
     "metadata": {},
     "output_type": "execute_result"
    }
   ],
   "source": [
    "[x for x in args.scores_folder.iterdir() if 'scores' in str(x)]"
   ]
  },
  {
   "cell_type": "code",
   "execution_count": 11,
   "id": "97221134-5f61-4158-bfc5-ea30077140b8",
   "metadata": {
    "execution": {
     "iopub.execute_input": "2024-05-27T17:00:37.697315Z",
     "iopub.status.busy": "2024-05-27T17:00:37.697046Z",
     "iopub.status.idle": "2024-05-27T17:00:37.721934Z",
     "shell.execute_reply": "2024-05-27T17:00:37.721196Z"
    },
    "papermill": {
     "duration": 0.040371,
     "end_time": "2024-05-27T17:00:37.723787",
     "exception": false,
     "start_time": "2024-05-27T17:00:37.683416",
     "status": "completed"
    },
    "tags": [
     "hide-input"
    ]
   },
   "outputs": [
    {
     "data": {
      "text/html": [
       "<div>\n",
       "<style scoped>\n",
       "    .dataframe tbody tr th:only-of-type {\n",
       "        vertical-align: middle;\n",
       "    }\n",
       "\n",
       "    .dataframe tbody tr th {\n",
       "        vertical-align: top;\n",
       "    }\n",
       "\n",
       "    .dataframe thead tr th {\n",
       "        text-align: left;\n",
       "    }\n",
       "\n",
       "    .dataframe thead tr:last-of-type th {\n",
       "        text-align: right;\n",
       "    }\n",
       "</style>\n",
       "<table border=\"1\" class=\"dataframe\">\n",
       "  <thead>\n",
       "    <tr>\n",
       "      <th></th>\n",
       "      <th>model</th>\n",
       "      <th colspan=\"8\" halign=\"left\">PI</th>\n",
       "    </tr>\n",
       "    <tr>\n",
       "      <th></th>\n",
       "      <th>var</th>\n",
       "      <th>SS</th>\n",
       "      <th>DF</th>\n",
       "      <th>F</th>\n",
       "      <th>p-unc</th>\n",
       "      <th>np2</th>\n",
       "      <th>-Log10 pvalue</th>\n",
       "      <th>qvalue</th>\n",
       "      <th>rejected</th>\n",
       "    </tr>\n",
       "    <tr>\n",
       "      <th>protein groups</th>\n",
       "      <th>Source</th>\n",
       "      <th></th>\n",
       "      <th></th>\n",
       "      <th></th>\n",
       "      <th></th>\n",
       "      <th></th>\n",
       "      <th></th>\n",
       "      <th></th>\n",
       "      <th></th>\n",
       "    </tr>\n",
       "  </thead>\n",
       "  <tbody>\n",
       "    <tr>\n",
       "      <th rowspan=\"5\" valign=\"top\">A0A024QZX5;A0A087X1N8;P35237</th>\n",
       "      <th>AD</th>\n",
       "      <td>0.251</td>\n",
       "      <td>1</td>\n",
       "      <td>0.422</td>\n",
       "      <td>0.517</td>\n",
       "      <td>0.002</td>\n",
       "      <td>0.287</td>\n",
       "      <td>0.668</td>\n",
       "      <td>False</td>\n",
       "    </tr>\n",
       "    <tr>\n",
       "      <th>age</th>\n",
       "      <td>0.266</td>\n",
       "      <td>1</td>\n",
       "      <td>0.447</td>\n",
       "      <td>0.505</td>\n",
       "      <td>0.002</td>\n",
       "      <td>0.297</td>\n",
       "      <td>0.658</td>\n",
       "      <td>False</td>\n",
       "    </tr>\n",
       "    <tr>\n",
       "      <th>Kiel</th>\n",
       "      <td>2.486</td>\n",
       "      <td>1</td>\n",
       "      <td>4.170</td>\n",
       "      <td>0.043</td>\n",
       "      <td>0.021</td>\n",
       "      <td>1.371</td>\n",
       "      <td>0.106</td>\n",
       "      <td>False</td>\n",
       "    </tr>\n",
       "    <tr>\n",
       "      <th>Magdeburg</th>\n",
       "      <td>4.941</td>\n",
       "      <td>1</td>\n",
       "      <td>8.289</td>\n",
       "      <td>0.004</td>\n",
       "      <td>0.042</td>\n",
       "      <td>2.352</td>\n",
       "      <td>0.017</td>\n",
       "      <td>True</td>\n",
       "    </tr>\n",
       "    <tr>\n",
       "      <th>Sweden</th>\n",
       "      <td>8.159</td>\n",
       "      <td>1</td>\n",
       "      <td>13.687</td>\n",
       "      <td>0.000</td>\n",
       "      <td>0.067</td>\n",
       "      <td>3.549</td>\n",
       "      <td>0.002</td>\n",
       "      <td>True</td>\n",
       "    </tr>\n",
       "    <tr>\n",
       "      <th>...</th>\n",
       "      <th>...</th>\n",
       "      <td>...</td>\n",
       "      <td>...</td>\n",
       "      <td>...</td>\n",
       "      <td>...</td>\n",
       "      <td>...</td>\n",
       "      <td>...</td>\n",
       "      <td>...</td>\n",
       "      <td>...</td>\n",
       "    </tr>\n",
       "    <tr>\n",
       "      <th rowspan=\"5\" valign=\"top\">S4R3U6</th>\n",
       "      <th>AD</th>\n",
       "      <td>0.792</td>\n",
       "      <td>1</td>\n",
       "      <td>0.801</td>\n",
       "      <td>0.372</td>\n",
       "      <td>0.004</td>\n",
       "      <td>0.429</td>\n",
       "      <td>0.537</td>\n",
       "      <td>False</td>\n",
       "    </tr>\n",
       "    <tr>\n",
       "      <th>age</th>\n",
       "      <td>0.591</td>\n",
       "      <td>1</td>\n",
       "      <td>0.597</td>\n",
       "      <td>0.441</td>\n",
       "      <td>0.003</td>\n",
       "      <td>0.356</td>\n",
       "      <td>0.597</td>\n",
       "      <td>False</td>\n",
       "    </tr>\n",
       "    <tr>\n",
       "      <th>Kiel</th>\n",
       "      <td>0.036</td>\n",
       "      <td>1</td>\n",
       "      <td>0.037</td>\n",
       "      <td>0.848</td>\n",
       "      <td>0.000</td>\n",
       "      <td>0.072</td>\n",
       "      <td>0.913</td>\n",
       "      <td>False</td>\n",
       "    </tr>\n",
       "    <tr>\n",
       "      <th>Magdeburg</th>\n",
       "      <td>0.791</td>\n",
       "      <td>1</td>\n",
       "      <td>0.800</td>\n",
       "      <td>0.372</td>\n",
       "      <td>0.004</td>\n",
       "      <td>0.429</td>\n",
       "      <td>0.537</td>\n",
       "      <td>False</td>\n",
       "    </tr>\n",
       "    <tr>\n",
       "      <th>Sweden</th>\n",
       "      <td>21.102</td>\n",
       "      <td>1</td>\n",
       "      <td>21.335</td>\n",
       "      <td>0.000</td>\n",
       "      <td>0.100</td>\n",
       "      <td>5.150</td>\n",
       "      <td>0.000</td>\n",
       "      <td>True</td>\n",
       "    </tr>\n",
       "  </tbody>\n",
       "</table>\n",
       "<p>7105 rows × 8 columns</p>\n",
       "</div>"
      ],
      "text/plain": [
       "model                                      PI                        \\\n",
       "var                                        SS DF      F p-unc   np2   \n",
       "protein groups               Source                                   \n",
       "A0A024QZX5;A0A087X1N8;P35237 AD         0.251  1  0.422 0.517 0.002   \n",
       "                             age        0.266  1  0.447 0.505 0.002   \n",
       "                             Kiel       2.486  1  4.170 0.043 0.021   \n",
       "                             Magdeburg  4.941  1  8.289 0.004 0.042   \n",
       "                             Sweden     8.159  1 13.687 0.000 0.067   \n",
       "...                                       ... ..    ...   ...   ...   \n",
       "S4R3U6                       AD         0.792  1  0.801 0.372 0.004   \n",
       "                             age        0.591  1  0.597 0.441 0.003   \n",
       "                             Kiel       0.036  1  0.037 0.848 0.000   \n",
       "                             Magdeburg  0.791  1  0.800 0.372 0.004   \n",
       "                             Sweden    21.102  1 21.335 0.000 0.100   \n",
       "\n",
       "model                                                                 \n",
       "var                                    -Log10 pvalue qvalue rejected  \n",
       "protein groups               Source                                   \n",
       "A0A024QZX5;A0A087X1N8;P35237 AD                0.287  0.668    False  \n",
       "                             age               0.297  0.658    False  \n",
       "                             Kiel              1.371  0.106    False  \n",
       "                             Magdeburg         2.352  0.017     True  \n",
       "                             Sweden            3.549  0.002     True  \n",
       "...                                              ...    ...      ...  \n",
       "S4R3U6                       AD                0.429  0.537    False  \n",
       "                             age               0.356  0.597    False  \n",
       "                             Kiel              0.072  0.913    False  \n",
       "                             Magdeburg         0.429  0.537    False  \n",
       "                             Sweden            5.150  0.000     True  \n",
       "\n",
       "[7105 rows x 8 columns]"
      ]
     },
     "execution_count": 11,
     "metadata": {},
     "output_type": "execute_result"
    }
   ],
   "source": [
    "fname = args.scores_folder / f'diff_analysis_scores_{args.baseline}.pkl'\n",
    "scores_baseline = pd.read_pickle(fname)\n",
    "scores_baseline"
   ]
  },
  {
   "cell_type": "code",
   "execution_count": 12,
   "id": "f0635e4d",
   "metadata": {
    "execution": {
     "iopub.execute_input": "2024-05-27T17:00:37.752306Z",
     "iopub.status.busy": "2024-05-27T17:00:37.752070Z",
     "iopub.status.idle": "2024-05-27T17:00:37.774125Z",
     "shell.execute_reply": "2024-05-27T17:00:37.773406Z"
    },
    "papermill": {
     "duration": 0.038289,
     "end_time": "2024-05-27T17:00:37.775957",
     "exception": false,
     "start_time": "2024-05-27T17:00:37.737668",
     "status": "completed"
    },
    "tags": [
     "hide-input"
    ]
   },
   "outputs": [
    {
     "data": {
      "text/html": [
       "<div>\n",
       "<style scoped>\n",
       "    .dataframe tbody tr th:only-of-type {\n",
       "        vertical-align: middle;\n",
       "    }\n",
       "\n",
       "    .dataframe tbody tr th {\n",
       "        vertical-align: top;\n",
       "    }\n",
       "\n",
       "    .dataframe thead tr th {\n",
       "        text-align: left;\n",
       "    }\n",
       "\n",
       "    .dataframe thead tr:last-of-type th {\n",
       "        text-align: right;\n",
       "    }\n",
       "</style>\n",
       "<table border=\"1\" class=\"dataframe\">\n",
       "  <thead>\n",
       "    <tr>\n",
       "      <th></th>\n",
       "      <th>model</th>\n",
       "      <th colspan=\"8\" halign=\"left\">DAE</th>\n",
       "    </tr>\n",
       "    <tr>\n",
       "      <th></th>\n",
       "      <th>var</th>\n",
       "      <th>SS</th>\n",
       "      <th>DF</th>\n",
       "      <th>F</th>\n",
       "      <th>p-unc</th>\n",
       "      <th>np2</th>\n",
       "      <th>-Log10 pvalue</th>\n",
       "      <th>qvalue</th>\n",
       "      <th>rejected</th>\n",
       "    </tr>\n",
       "    <tr>\n",
       "      <th>protein groups</th>\n",
       "      <th>Source</th>\n",
       "      <th></th>\n",
       "      <th></th>\n",
       "      <th></th>\n",
       "      <th></th>\n",
       "      <th></th>\n",
       "      <th></th>\n",
       "      <th></th>\n",
       "      <th></th>\n",
       "    </tr>\n",
       "  </thead>\n",
       "  <tbody>\n",
       "    <tr>\n",
       "      <th rowspan=\"5\" valign=\"top\">A0A024QZX5;A0A087X1N8;P35237</th>\n",
       "      <th>AD</th>\n",
       "      <td>1.111</td>\n",
       "      <td>1</td>\n",
       "      <td>7.956</td>\n",
       "      <td>0.005</td>\n",
       "      <td>0.040</td>\n",
       "      <td>2.276</td>\n",
       "      <td>0.016</td>\n",
       "      <td>True</td>\n",
       "    </tr>\n",
       "    <tr>\n",
       "      <th>age</th>\n",
       "      <td>0.006</td>\n",
       "      <td>1</td>\n",
       "      <td>0.046</td>\n",
       "      <td>0.831</td>\n",
       "      <td>0.000</td>\n",
       "      <td>0.081</td>\n",
       "      <td>0.890</td>\n",
       "      <td>False</td>\n",
       "    </tr>\n",
       "    <tr>\n",
       "      <th>Kiel</th>\n",
       "      <td>0.291</td>\n",
       "      <td>1</td>\n",
       "      <td>2.087</td>\n",
       "      <td>0.150</td>\n",
       "      <td>0.011</td>\n",
       "      <td>0.823</td>\n",
       "      <td>0.249</td>\n",
       "      <td>False</td>\n",
       "    </tr>\n",
       "    <tr>\n",
       "      <th>Magdeburg</th>\n",
       "      <td>0.498</td>\n",
       "      <td>1</td>\n",
       "      <td>3.566</td>\n",
       "      <td>0.060</td>\n",
       "      <td>0.018</td>\n",
       "      <td>1.218</td>\n",
       "      <td>0.120</td>\n",
       "      <td>False</td>\n",
       "    </tr>\n",
       "    <tr>\n",
       "      <th>Sweden</th>\n",
       "      <td>1.725</td>\n",
       "      <td>1</td>\n",
       "      <td>12.359</td>\n",
       "      <td>0.001</td>\n",
       "      <td>0.061</td>\n",
       "      <td>3.261</td>\n",
       "      <td>0.002</td>\n",
       "      <td>True</td>\n",
       "    </tr>\n",
       "    <tr>\n",
       "      <th>...</th>\n",
       "      <th>...</th>\n",
       "      <td>...</td>\n",
       "      <td>...</td>\n",
       "      <td>...</td>\n",
       "      <td>...</td>\n",
       "      <td>...</td>\n",
       "      <td>...</td>\n",
       "      <td>...</td>\n",
       "      <td>...</td>\n",
       "    </tr>\n",
       "    <tr>\n",
       "      <th rowspan=\"5\" valign=\"top\">S4R3U6</th>\n",
       "      <th>AD</th>\n",
       "      <td>2.016</td>\n",
       "      <td>1</td>\n",
       "      <td>3.859</td>\n",
       "      <td>0.051</td>\n",
       "      <td>0.020</td>\n",
       "      <td>1.293</td>\n",
       "      <td>0.104</td>\n",
       "      <td>False</td>\n",
       "    </tr>\n",
       "    <tr>\n",
       "      <th>age</th>\n",
       "      <td>0.949</td>\n",
       "      <td>1</td>\n",
       "      <td>1.817</td>\n",
       "      <td>0.179</td>\n",
       "      <td>0.009</td>\n",
       "      <td>0.746</td>\n",
       "      <td>0.287</td>\n",
       "      <td>False</td>\n",
       "    </tr>\n",
       "    <tr>\n",
       "      <th>Kiel</th>\n",
       "      <td>2.794</td>\n",
       "      <td>1</td>\n",
       "      <td>5.346</td>\n",
       "      <td>0.022</td>\n",
       "      <td>0.027</td>\n",
       "      <td>1.661</td>\n",
       "      <td>0.052</td>\n",
       "      <td>False</td>\n",
       "    </tr>\n",
       "    <tr>\n",
       "      <th>Magdeburg</th>\n",
       "      <td>3.090</td>\n",
       "      <td>1</td>\n",
       "      <td>5.913</td>\n",
       "      <td>0.016</td>\n",
       "      <td>0.030</td>\n",
       "      <td>1.797</td>\n",
       "      <td>0.040</td>\n",
       "      <td>True</td>\n",
       "    </tr>\n",
       "    <tr>\n",
       "      <th>Sweden</th>\n",
       "      <td>20.952</td>\n",
       "      <td>1</td>\n",
       "      <td>40.097</td>\n",
       "      <td>0.000</td>\n",
       "      <td>0.174</td>\n",
       "      <td>8.773</td>\n",
       "      <td>0.000</td>\n",
       "      <td>True</td>\n",
       "    </tr>\n",
       "  </tbody>\n",
       "</table>\n",
       "<p>7105 rows × 8 columns</p>\n",
       "</div>"
      ],
      "text/plain": [
       "model                                     DAE                        \\\n",
       "var                                        SS DF      F p-unc   np2   \n",
       "protein groups               Source                                   \n",
       "A0A024QZX5;A0A087X1N8;P35237 AD         1.111  1  7.956 0.005 0.040   \n",
       "                             age        0.006  1  0.046 0.831 0.000   \n",
       "                             Kiel       0.291  1  2.087 0.150 0.011   \n",
       "                             Magdeburg  0.498  1  3.566 0.060 0.018   \n",
       "                             Sweden     1.725  1 12.359 0.001 0.061   \n",
       "...                                       ... ..    ...   ...   ...   \n",
       "S4R3U6                       AD         2.016  1  3.859 0.051 0.020   \n",
       "                             age        0.949  1  1.817 0.179 0.009   \n",
       "                             Kiel       2.794  1  5.346 0.022 0.027   \n",
       "                             Magdeburg  3.090  1  5.913 0.016 0.030   \n",
       "                             Sweden    20.952  1 40.097 0.000 0.174   \n",
       "\n",
       "model                                                                 \n",
       "var                                    -Log10 pvalue qvalue rejected  \n",
       "protein groups               Source                                   \n",
       "A0A024QZX5;A0A087X1N8;P35237 AD                2.276  0.016     True  \n",
       "                             age               0.081  0.890    False  \n",
       "                             Kiel              0.823  0.249    False  \n",
       "                             Magdeburg         1.218  0.120    False  \n",
       "                             Sweden            3.261  0.002     True  \n",
       "...                                              ...    ...      ...  \n",
       "S4R3U6                       AD                1.293  0.104    False  \n",
       "                             age               0.746  0.287    False  \n",
       "                             Kiel              1.661  0.052    False  \n",
       "                             Magdeburg         1.797  0.040     True  \n",
       "                             Sweden            8.773  0.000     True  \n",
       "\n",
       "[7105 rows x 8 columns]"
      ]
     },
     "execution_count": 12,
     "metadata": {},
     "output_type": "execute_result"
    }
   ],
   "source": [
    "fname = args.scores_folder / f'diff_analysis_scores_{args.model_key}.pkl'\n",
    "scores_model = pd.read_pickle(fname)\n",
    "scores_model"
   ]
  },
  {
   "cell_type": "code",
   "execution_count": 13,
   "id": "373fdf65",
   "metadata": {
    "execution": {
     "iopub.execute_input": "2024-05-27T17:00:37.805912Z",
     "iopub.status.busy": "2024-05-27T17:00:37.805602Z",
     "iopub.status.idle": "2024-05-27T17:00:37.850273Z",
     "shell.execute_reply": "2024-05-27T17:00:37.849524Z"
    },
    "papermill": {
     "duration": 0.061259,
     "end_time": "2024-05-27T17:00:37.852161",
     "exception": false,
     "start_time": "2024-05-27T17:00:37.790902",
     "status": "completed"
    },
    "tags": [
     "hide-input"
    ]
   },
   "outputs": [
    {
     "data": {
      "text/html": [
       "<div>\n",
       "<style scoped>\n",
       "    .dataframe tbody tr th:only-of-type {\n",
       "        vertical-align: middle;\n",
       "    }\n",
       "\n",
       "    .dataframe tbody tr th {\n",
       "        vertical-align: top;\n",
       "    }\n",
       "\n",
       "    .dataframe thead tr th {\n",
       "        text-align: left;\n",
       "    }\n",
       "\n",
       "    .dataframe thead tr:last-of-type th {\n",
       "        text-align: right;\n",
       "    }\n",
       "</style>\n",
       "<table border=\"1\" class=\"dataframe\">\n",
       "  <thead>\n",
       "    <tr>\n",
       "      <th></th>\n",
       "      <th>model</th>\n",
       "      <th colspan=\"8\" halign=\"left\">PI</th>\n",
       "      <th colspan=\"8\" halign=\"left\">DAE</th>\n",
       "    </tr>\n",
       "    <tr>\n",
       "      <th></th>\n",
       "      <th>var</th>\n",
       "      <th>SS</th>\n",
       "      <th>DF</th>\n",
       "      <th>F</th>\n",
       "      <th>p-unc</th>\n",
       "      <th>np2</th>\n",
       "      <th>-Log10 pvalue</th>\n",
       "      <th>qvalue</th>\n",
       "      <th>rejected</th>\n",
       "      <th>SS</th>\n",
       "      <th>DF</th>\n",
       "      <th>F</th>\n",
       "      <th>p-unc</th>\n",
       "      <th>np2</th>\n",
       "      <th>-Log10 pvalue</th>\n",
       "      <th>qvalue</th>\n",
       "      <th>rejected</th>\n",
       "    </tr>\n",
       "    <tr>\n",
       "      <th>protein groups</th>\n",
       "      <th>Source</th>\n",
       "      <th></th>\n",
       "      <th></th>\n",
       "      <th></th>\n",
       "      <th></th>\n",
       "      <th></th>\n",
       "      <th></th>\n",
       "      <th></th>\n",
       "      <th></th>\n",
       "      <th></th>\n",
       "      <th></th>\n",
       "      <th></th>\n",
       "      <th></th>\n",
       "      <th></th>\n",
       "      <th></th>\n",
       "      <th></th>\n",
       "      <th></th>\n",
       "    </tr>\n",
       "  </thead>\n",
       "  <tbody>\n",
       "    <tr>\n",
       "      <th rowspan=\"5\" valign=\"top\">A0A024QZX5;A0A087X1N8;P35237</th>\n",
       "      <th>AD</th>\n",
       "      <td>0.251</td>\n",
       "      <td>1</td>\n",
       "      <td>0.422</td>\n",
       "      <td>0.517</td>\n",
       "      <td>0.002</td>\n",
       "      <td>0.287</td>\n",
       "      <td>0.668</td>\n",
       "      <td>False</td>\n",
       "      <td>1.111</td>\n",
       "      <td>1</td>\n",
       "      <td>7.956</td>\n",
       "      <td>0.005</td>\n",
       "      <td>0.040</td>\n",
       "      <td>2.276</td>\n",
       "      <td>0.016</td>\n",
       "      <td>True</td>\n",
       "    </tr>\n",
       "    <tr>\n",
       "      <th>age</th>\n",
       "      <td>0.266</td>\n",
       "      <td>1</td>\n",
       "      <td>0.447</td>\n",
       "      <td>0.505</td>\n",
       "      <td>0.002</td>\n",
       "      <td>0.297</td>\n",
       "      <td>0.658</td>\n",
       "      <td>False</td>\n",
       "      <td>0.006</td>\n",
       "      <td>1</td>\n",
       "      <td>0.046</td>\n",
       "      <td>0.831</td>\n",
       "      <td>0.000</td>\n",
       "      <td>0.081</td>\n",
       "      <td>0.890</td>\n",
       "      <td>False</td>\n",
       "    </tr>\n",
       "    <tr>\n",
       "      <th>Kiel</th>\n",
       "      <td>2.486</td>\n",
       "      <td>1</td>\n",
       "      <td>4.170</td>\n",
       "      <td>0.043</td>\n",
       "      <td>0.021</td>\n",
       "      <td>1.371</td>\n",
       "      <td>0.106</td>\n",
       "      <td>False</td>\n",
       "      <td>0.291</td>\n",
       "      <td>1</td>\n",
       "      <td>2.087</td>\n",
       "      <td>0.150</td>\n",
       "      <td>0.011</td>\n",
       "      <td>0.823</td>\n",
       "      <td>0.249</td>\n",
       "      <td>False</td>\n",
       "    </tr>\n",
       "    <tr>\n",
       "      <th>Magdeburg</th>\n",
       "      <td>4.941</td>\n",
       "      <td>1</td>\n",
       "      <td>8.289</td>\n",
       "      <td>0.004</td>\n",
       "      <td>0.042</td>\n",
       "      <td>2.352</td>\n",
       "      <td>0.017</td>\n",
       "      <td>True</td>\n",
       "      <td>0.498</td>\n",
       "      <td>1</td>\n",
       "      <td>3.566</td>\n",
       "      <td>0.060</td>\n",
       "      <td>0.018</td>\n",
       "      <td>1.218</td>\n",
       "      <td>0.120</td>\n",
       "      <td>False</td>\n",
       "    </tr>\n",
       "    <tr>\n",
       "      <th>Sweden</th>\n",
       "      <td>8.159</td>\n",
       "      <td>1</td>\n",
       "      <td>13.687</td>\n",
       "      <td>0.000</td>\n",
       "      <td>0.067</td>\n",
       "      <td>3.549</td>\n",
       "      <td>0.002</td>\n",
       "      <td>True</td>\n",
       "      <td>1.725</td>\n",
       "      <td>1</td>\n",
       "      <td>12.359</td>\n",
       "      <td>0.001</td>\n",
       "      <td>0.061</td>\n",
       "      <td>3.261</td>\n",
       "      <td>0.002</td>\n",
       "      <td>True</td>\n",
       "    </tr>\n",
       "    <tr>\n",
       "      <th>...</th>\n",
       "      <th>...</th>\n",
       "      <td>...</td>\n",
       "      <td>...</td>\n",
       "      <td>...</td>\n",
       "      <td>...</td>\n",
       "      <td>...</td>\n",
       "      <td>...</td>\n",
       "      <td>...</td>\n",
       "      <td>...</td>\n",
       "      <td>...</td>\n",
       "      <td>...</td>\n",
       "      <td>...</td>\n",
       "      <td>...</td>\n",
       "      <td>...</td>\n",
       "      <td>...</td>\n",
       "      <td>...</td>\n",
       "      <td>...</td>\n",
       "    </tr>\n",
       "    <tr>\n",
       "      <th rowspan=\"5\" valign=\"top\">S4R3U6</th>\n",
       "      <th>AD</th>\n",
       "      <td>0.792</td>\n",
       "      <td>1</td>\n",
       "      <td>0.801</td>\n",
       "      <td>0.372</td>\n",
       "      <td>0.004</td>\n",
       "      <td>0.429</td>\n",
       "      <td>0.537</td>\n",
       "      <td>False</td>\n",
       "      <td>2.016</td>\n",
       "      <td>1</td>\n",
       "      <td>3.859</td>\n",
       "      <td>0.051</td>\n",
       "      <td>0.020</td>\n",
       "      <td>1.293</td>\n",
       "      <td>0.104</td>\n",
       "      <td>False</td>\n",
       "    </tr>\n",
       "    <tr>\n",
       "      <th>age</th>\n",
       "      <td>0.591</td>\n",
       "      <td>1</td>\n",
       "      <td>0.597</td>\n",
       "      <td>0.441</td>\n",
       "      <td>0.003</td>\n",
       "      <td>0.356</td>\n",
       "      <td>0.597</td>\n",
       "      <td>False</td>\n",
       "      <td>0.949</td>\n",
       "      <td>1</td>\n",
       "      <td>1.817</td>\n",
       "      <td>0.179</td>\n",
       "      <td>0.009</td>\n",
       "      <td>0.746</td>\n",
       "      <td>0.287</td>\n",
       "      <td>False</td>\n",
       "    </tr>\n",
       "    <tr>\n",
       "      <th>Kiel</th>\n",
       "      <td>0.036</td>\n",
       "      <td>1</td>\n",
       "      <td>0.037</td>\n",
       "      <td>0.848</td>\n",
       "      <td>0.000</td>\n",
       "      <td>0.072</td>\n",
       "      <td>0.913</td>\n",
       "      <td>False</td>\n",
       "      <td>2.794</td>\n",
       "      <td>1</td>\n",
       "      <td>5.346</td>\n",
       "      <td>0.022</td>\n",
       "      <td>0.027</td>\n",
       "      <td>1.661</td>\n",
       "      <td>0.052</td>\n",
       "      <td>False</td>\n",
       "    </tr>\n",
       "    <tr>\n",
       "      <th>Magdeburg</th>\n",
       "      <td>0.791</td>\n",
       "      <td>1</td>\n",
       "      <td>0.800</td>\n",
       "      <td>0.372</td>\n",
       "      <td>0.004</td>\n",
       "      <td>0.429</td>\n",
       "      <td>0.537</td>\n",
       "      <td>False</td>\n",
       "      <td>3.090</td>\n",
       "      <td>1</td>\n",
       "      <td>5.913</td>\n",
       "      <td>0.016</td>\n",
       "      <td>0.030</td>\n",
       "      <td>1.797</td>\n",
       "      <td>0.040</td>\n",
       "      <td>True</td>\n",
       "    </tr>\n",
       "    <tr>\n",
       "      <th>Sweden</th>\n",
       "      <td>21.102</td>\n",
       "      <td>1</td>\n",
       "      <td>21.335</td>\n",
       "      <td>0.000</td>\n",
       "      <td>0.100</td>\n",
       "      <td>5.150</td>\n",
       "      <td>0.000</td>\n",
       "      <td>True</td>\n",
       "      <td>20.952</td>\n",
       "      <td>1</td>\n",
       "      <td>40.097</td>\n",
       "      <td>0.000</td>\n",
       "      <td>0.174</td>\n",
       "      <td>8.773</td>\n",
       "      <td>0.000</td>\n",
       "      <td>True</td>\n",
       "    </tr>\n",
       "  </tbody>\n",
       "</table>\n",
       "<p>7105 rows × 16 columns</p>\n",
       "</div>"
      ],
      "text/plain": [
       "model                                      PI                        \\\n",
       "var                                        SS DF      F p-unc   np2   \n",
       "protein groups               Source                                   \n",
       "A0A024QZX5;A0A087X1N8;P35237 AD         0.251  1  0.422 0.517 0.002   \n",
       "                             age        0.266  1  0.447 0.505 0.002   \n",
       "                             Kiel       2.486  1  4.170 0.043 0.021   \n",
       "                             Magdeburg  4.941  1  8.289 0.004 0.042   \n",
       "                             Sweden     8.159  1 13.687 0.000 0.067   \n",
       "...                                       ... ..    ...   ...   ...   \n",
       "S4R3U6                       AD         0.792  1  0.801 0.372 0.004   \n",
       "                             age        0.591  1  0.597 0.441 0.003   \n",
       "                             Kiel       0.036  1  0.037 0.848 0.000   \n",
       "                             Magdeburg  0.791  1  0.800 0.372 0.004   \n",
       "                             Sweden    21.102  1 21.335 0.000 0.100   \n",
       "\n",
       "model                                                                   DAE  \\\n",
       "var                                    -Log10 pvalue qvalue rejected     SS   \n",
       "protein groups               Source                                           \n",
       "A0A024QZX5;A0A087X1N8;P35237 AD                0.287  0.668    False  1.111   \n",
       "                             age               0.297  0.658    False  0.006   \n",
       "                             Kiel              1.371  0.106    False  0.291   \n",
       "                             Magdeburg         2.352  0.017     True  0.498   \n",
       "                             Sweden            3.549  0.002     True  1.725   \n",
       "...                                              ...    ...      ...    ...   \n",
       "S4R3U6                       AD                0.429  0.537    False  2.016   \n",
       "                             age               0.356  0.597    False  0.949   \n",
       "                             Kiel              0.072  0.913    False  2.794   \n",
       "                             Magdeburg         0.429  0.537    False  3.090   \n",
       "                             Sweden            5.150  0.000     True 20.952   \n",
       "\n",
       "model                                                                       \\\n",
       "var                                    DF      F p-unc   np2 -Log10 pvalue   \n",
       "protein groups               Source                                          \n",
       "A0A024QZX5;A0A087X1N8;P35237 AD         1  7.956 0.005 0.040         2.276   \n",
       "                             age        1  0.046 0.831 0.000         0.081   \n",
       "                             Kiel       1  2.087 0.150 0.011         0.823   \n",
       "                             Magdeburg  1  3.566 0.060 0.018         1.218   \n",
       "                             Sweden     1 12.359 0.001 0.061         3.261   \n",
       "...                                    ..    ...   ...   ...           ...   \n",
       "S4R3U6                       AD         1  3.859 0.051 0.020         1.293   \n",
       "                             age        1  1.817 0.179 0.009         0.746   \n",
       "                             Kiel       1  5.346 0.022 0.027         1.661   \n",
       "                             Magdeburg  1  5.913 0.016 0.030         1.797   \n",
       "                             Sweden     1 40.097 0.000 0.174         8.773   \n",
       "\n",
       "model                                                   \n",
       "var                                    qvalue rejected  \n",
       "protein groups               Source                     \n",
       "A0A024QZX5;A0A087X1N8;P35237 AD         0.016     True  \n",
       "                             age        0.890    False  \n",
       "                             Kiel       0.249    False  \n",
       "                             Magdeburg  0.120    False  \n",
       "                             Sweden     0.002     True  \n",
       "...                                       ...      ...  \n",
       "S4R3U6                       AD         0.104    False  \n",
       "                             age        0.287    False  \n",
       "                             Kiel       0.052    False  \n",
       "                             Magdeburg  0.040     True  \n",
       "                             Sweden     0.000     True  \n",
       "\n",
       "[7105 rows x 16 columns]"
      ]
     },
     "execution_count": 13,
     "metadata": {},
     "output_type": "execute_result"
    }
   ],
   "source": [
    "scores = scores_model.join(scores_baseline, how='outer')[[args.baseline, args.model_key]]\n",
    "scores"
   ]
  },
  {
   "cell_type": "code",
   "execution_count": 14,
   "id": "34d243d1-3ab4-40e7-9eb8-f9efc828b82d",
   "metadata": {
    "execution": {
     "iopub.execute_input": "2024-05-27T17:00:37.883184Z",
     "iopub.status.busy": "2024-05-27T17:00:37.882911Z",
     "iopub.status.idle": "2024-05-27T17:00:37.888464Z",
     "shell.execute_reply": "2024-05-27T17:00:37.887747Z"
    },
    "papermill": {
     "duration": 0.025634,
     "end_time": "2024-05-27T17:00:37.892476",
     "exception": false,
     "start_time": "2024-05-27T17:00:37.866842",
     "status": "completed"
    },
    "tags": [
     "hide-input"
    ]
   },
   "outputs": [
    {
     "data": {
      "text/plain": [
       "{'PI': 'PI', 'DAE': 'DAE'}"
      ]
     },
     "execution_count": 14,
     "metadata": {},
     "output_type": "execute_result"
    }
   ],
   "source": [
    "models = vaep.nb.Config.from_dict(\n",
    "    vaep.pandas.index_to_dict(scores.columns.get_level_values(0)))\n",
    "vars(models)"
   ]
  },
  {
   "cell_type": "code",
   "execution_count": 15,
   "id": "0fee8f5d-fa52-4369-a1f9-fcfd518ab6bd",
   "metadata": {
    "execution": {
     "iopub.execute_input": "2024-05-27T17:00:37.924612Z",
     "iopub.status.busy": "2024-05-27T17:00:37.924331Z",
     "iopub.status.idle": "2024-05-27T17:00:38.000294Z",
     "shell.execute_reply": "2024-05-27T17:00:37.999562Z"
    },
    "papermill": {
     "duration": 0.094318,
     "end_time": "2024-05-27T17:00:38.002154",
     "exception": false,
     "start_time": "2024-05-27T17:00:37.907836",
     "status": "completed"
    },
    "tags": [
     "hide-input"
    ]
   },
   "outputs": [
    {
     "data": {
      "text/html": [
       "<div>\n",
       "<style scoped>\n",
       "    .dataframe tbody tr th:only-of-type {\n",
       "        vertical-align: middle;\n",
       "    }\n",
       "\n",
       "    .dataframe tbody tr th {\n",
       "        vertical-align: top;\n",
       "    }\n",
       "\n",
       "    .dataframe thead tr th {\n",
       "        text-align: left;\n",
       "    }\n",
       "</style>\n",
       "<table border=\"1\" class=\"dataframe\">\n",
       "  <thead>\n",
       "    <tr>\n",
       "      <th>model</th>\n",
       "      <th colspan=\"7\" halign=\"left\">PI</th>\n",
       "      <th colspan=\"7\" halign=\"left\">DAE</th>\n",
       "    </tr>\n",
       "    <tr>\n",
       "      <th>var</th>\n",
       "      <th>SS</th>\n",
       "      <th>DF</th>\n",
       "      <th>F</th>\n",
       "      <th>p-unc</th>\n",
       "      <th>np2</th>\n",
       "      <th>-Log10 pvalue</th>\n",
       "      <th>qvalue</th>\n",
       "      <th>SS</th>\n",
       "      <th>DF</th>\n",
       "      <th>F</th>\n",
       "      <th>p-unc</th>\n",
       "      <th>np2</th>\n",
       "      <th>-Log10 pvalue</th>\n",
       "      <th>qvalue</th>\n",
       "    </tr>\n",
       "  </thead>\n",
       "  <tbody>\n",
       "    <tr>\n",
       "      <th>count</th>\n",
       "      <td>7,105.000</td>\n",
       "      <td>7,105.000</td>\n",
       "      <td>7,105.000</td>\n",
       "      <td>7,105.000</td>\n",
       "      <td>7,105.000</td>\n",
       "      <td>7,105.000</td>\n",
       "      <td>7,105.000</td>\n",
       "      <td>7,105.000</td>\n",
       "      <td>7,105.000</td>\n",
       "      <td>7,105.000</td>\n",
       "      <td>7,105.000</td>\n",
       "      <td>7,105.000</td>\n",
       "      <td>7,105.000</td>\n",
       "      <td>7,105.000</td>\n",
       "    </tr>\n",
       "    <tr>\n",
       "      <th>mean</th>\n",
       "      <td>10.298</td>\n",
       "      <td>1.000</td>\n",
       "      <td>12.412</td>\n",
       "      <td>0.261</td>\n",
       "      <td>0.043</td>\n",
       "      <td>2.478</td>\n",
       "      <td>0.338</td>\n",
       "      <td>5.980</td>\n",
       "      <td>1.000</td>\n",
       "      <td>16.815</td>\n",
       "      <td>0.224</td>\n",
       "      <td>0.059</td>\n",
       "      <td>3.345</td>\n",
       "      <td>0.277</td>\n",
       "    </tr>\n",
       "    <tr>\n",
       "      <th>std</th>\n",
       "      <td>64.593</td>\n",
       "      <td>0.000</td>\n",
       "      <td>86.109</td>\n",
       "      <td>0.303</td>\n",
       "      <td>0.084</td>\n",
       "      <td>5.322</td>\n",
       "      <td>0.331</td>\n",
       "      <td>25.204</td>\n",
       "      <td>0.000</td>\n",
       "      <td>51.504</td>\n",
       "      <td>0.295</td>\n",
       "      <td>0.104</td>\n",
       "      <td>6.400</td>\n",
       "      <td>0.321</td>\n",
       "    </tr>\n",
       "    <tr>\n",
       "      <th>min</th>\n",
       "      <td>0.000</td>\n",
       "      <td>1.000</td>\n",
       "      <td>0.000</td>\n",
       "      <td>0.000</td>\n",
       "      <td>0.000</td>\n",
       "      <td>0.000</td>\n",
       "      <td>0.000</td>\n",
       "      <td>0.000</td>\n",
       "      <td>1.000</td>\n",
       "      <td>0.000</td>\n",
       "      <td>0.000</td>\n",
       "      <td>0.000</td>\n",
       "      <td>0.000</td>\n",
       "      <td>0.000</td>\n",
       "    </tr>\n",
       "    <tr>\n",
       "      <th>25%</th>\n",
       "      <td>0.315</td>\n",
       "      <td>1.000</td>\n",
       "      <td>0.526</td>\n",
       "      <td>0.004</td>\n",
       "      <td>0.003</td>\n",
       "      <td>0.329</td>\n",
       "      <td>0.015</td>\n",
       "      <td>0.197</td>\n",
       "      <td>1.000</td>\n",
       "      <td>0.731</td>\n",
       "      <td>0.000</td>\n",
       "      <td>0.004</td>\n",
       "      <td>0.405</td>\n",
       "      <td>0.002</td>\n",
       "    </tr>\n",
       "    <tr>\n",
       "      <th>50%</th>\n",
       "      <td>1.589</td>\n",
       "      <td>1.000</td>\n",
       "      <td>2.403</td>\n",
       "      <td>0.123</td>\n",
       "      <td>0.012</td>\n",
       "      <td>0.911</td>\n",
       "      <td>0.246</td>\n",
       "      <td>1.050</td>\n",
       "      <td>1.000</td>\n",
       "      <td>3.614</td>\n",
       "      <td>0.059</td>\n",
       "      <td>0.019</td>\n",
       "      <td>1.231</td>\n",
       "      <td>0.118</td>\n",
       "    </tr>\n",
       "    <tr>\n",
       "      <th>75%</th>\n",
       "      <td>5.940</td>\n",
       "      <td>1.000</td>\n",
       "      <td>8.619</td>\n",
       "      <td>0.469</td>\n",
       "      <td>0.043</td>\n",
       "      <td>2.428</td>\n",
       "      <td>0.625</td>\n",
       "      <td>3.883</td>\n",
       "      <td>1.000</td>\n",
       "      <td>12.635</td>\n",
       "      <td>0.394</td>\n",
       "      <td>0.062</td>\n",
       "      <td>3.321</td>\n",
       "      <td>0.525</td>\n",
       "    </tr>\n",
       "    <tr>\n",
       "      <th>max</th>\n",
       "      <td>4,088.806</td>\n",
       "      <td>1.000</td>\n",
       "      <td>6,235.160</td>\n",
       "      <td>0.999</td>\n",
       "      <td>0.970</td>\n",
       "      <td>147.053</td>\n",
       "      <td>0.999</td>\n",
       "      <td>1,122.042</td>\n",
       "      <td>1.000</td>\n",
       "      <td>1,317.399</td>\n",
       "      <td>0.999</td>\n",
       "      <td>0.873</td>\n",
       "      <td>86.920</td>\n",
       "      <td>0.999</td>\n",
       "    </tr>\n",
       "  </tbody>\n",
       "</table>\n",
       "</div>"
      ],
      "text/plain": [
       "model        PI                                                        \\\n",
       "var          SS        DF         F     p-unc       np2 -Log10 pvalue   \n",
       "count 7,105.000 7,105.000 7,105.000 7,105.000 7,105.000     7,105.000   \n",
       "mean     10.298     1.000    12.412     0.261     0.043         2.478   \n",
       "std      64.593     0.000    86.109     0.303     0.084         5.322   \n",
       "min       0.000     1.000     0.000     0.000     0.000         0.000   \n",
       "25%       0.315     1.000     0.526     0.004     0.003         0.329   \n",
       "50%       1.589     1.000     2.403     0.123     0.012         0.911   \n",
       "75%       5.940     1.000     8.619     0.469     0.043         2.428   \n",
       "max   4,088.806     1.000 6,235.160     0.999     0.970       147.053   \n",
       "\n",
       "model                 DAE                                          \\\n",
       "var      qvalue        SS        DF         F     p-unc       np2   \n",
       "count 7,105.000 7,105.000 7,105.000 7,105.000 7,105.000 7,105.000   \n",
       "mean      0.338     5.980     1.000    16.815     0.224     0.059   \n",
       "std       0.331    25.204     0.000    51.504     0.295     0.104   \n",
       "min       0.000     0.000     1.000     0.000     0.000     0.000   \n",
       "25%       0.015     0.197     1.000     0.731     0.000     0.004   \n",
       "50%       0.246     1.050     1.000     3.614     0.059     0.019   \n",
       "75%       0.625     3.883     1.000    12.635     0.394     0.062   \n",
       "max       0.999 1,122.042     1.000 1,317.399     0.999     0.873   \n",
       "\n",
       "model                          \n",
       "var   -Log10 pvalue    qvalue  \n",
       "count     7,105.000 7,105.000  \n",
       "mean          3.345     0.277  \n",
       "std           6.400     0.321  \n",
       "min           0.000     0.000  \n",
       "25%           0.405     0.002  \n",
       "50%           1.231     0.118  \n",
       "75%           3.321     0.525  \n",
       "max          86.920     0.999  "
      ]
     },
     "execution_count": 15,
     "metadata": {},
     "output_type": "execute_result"
    }
   ],
   "source": [
    "scores.describe()"
   ]
  },
  {
   "cell_type": "code",
   "execution_count": 16,
   "id": "c6e5a0a6-343b-4f07-8d9d-2cd5cf95ae1f",
   "metadata": {
    "execution": {
     "iopub.execute_input": "2024-05-27T17:00:38.044043Z",
     "iopub.status.busy": "2024-05-27T17:00:38.043753Z",
     "iopub.status.idle": "2024-05-27T17:00:38.617555Z",
     "shell.execute_reply": "2024-05-27T17:00:38.616766Z"
    },
    "papermill": {
     "duration": 0.591765,
     "end_time": "2024-05-27T17:00:38.619515",
     "exception": false,
     "start_time": "2024-05-27T17:00:38.027750",
     "status": "completed"
    },
    "tags": [
     "hide-input"
    ]
   },
   "outputs": [
    {
     "data": {
      "text/html": [
       "<div>\n",
       "<style scoped>\n",
       "    .dataframe tbody tr th:only-of-type {\n",
       "        vertical-align: middle;\n",
       "    }\n",
       "\n",
       "    .dataframe tbody tr th {\n",
       "        vertical-align: top;\n",
       "    }\n",
       "\n",
       "    .dataframe thead tr th {\n",
       "        text-align: left;\n",
       "    }\n",
       "\n",
       "    .dataframe thead tr:last-of-type th {\n",
       "        text-align: right;\n",
       "    }\n",
       "</style>\n",
       "<table border=\"1\" class=\"dataframe\">\n",
       "  <thead>\n",
       "    <tr>\n",
       "      <th></th>\n",
       "      <th>model</th>\n",
       "      <th colspan=\"8\" halign=\"left\">PI</th>\n",
       "      <th colspan=\"8\" halign=\"left\">DAE</th>\n",
       "    </tr>\n",
       "    <tr>\n",
       "      <th></th>\n",
       "      <th>var</th>\n",
       "      <th>SS</th>\n",
       "      <th>DF</th>\n",
       "      <th>F</th>\n",
       "      <th>p-unc</th>\n",
       "      <th>np2</th>\n",
       "      <th>-Log10 pvalue</th>\n",
       "      <th>qvalue</th>\n",
       "      <th>rejected</th>\n",
       "      <th>SS</th>\n",
       "      <th>DF</th>\n",
       "      <th>F</th>\n",
       "      <th>p-unc</th>\n",
       "      <th>np2</th>\n",
       "      <th>-Log10 pvalue</th>\n",
       "      <th>qvalue</th>\n",
       "      <th>rejected</th>\n",
       "    </tr>\n",
       "    <tr>\n",
       "      <th>protein groups</th>\n",
       "      <th>Source</th>\n",
       "      <th></th>\n",
       "      <th></th>\n",
       "      <th></th>\n",
       "      <th></th>\n",
       "      <th></th>\n",
       "      <th></th>\n",
       "      <th></th>\n",
       "      <th></th>\n",
       "      <th></th>\n",
       "      <th></th>\n",
       "      <th></th>\n",
       "      <th></th>\n",
       "      <th></th>\n",
       "      <th></th>\n",
       "      <th></th>\n",
       "      <th></th>\n",
       "    </tr>\n",
       "  </thead>\n",
       "  <tbody>\n",
       "    <tr>\n",
       "      <th>A0A024QZX5;A0A087X1N8;P35237</th>\n",
       "      <th>AD</th>\n",
       "      <td>0.251</td>\n",
       "      <td>1</td>\n",
       "      <td>0.422</td>\n",
       "      <td>0.517</td>\n",
       "      <td>0.002</td>\n",
       "      <td>0.287</td>\n",
       "      <td>0.668</td>\n",
       "      <td>False</td>\n",
       "      <td>1.111</td>\n",
       "      <td>1</td>\n",
       "      <td>7.956</td>\n",
       "      <td>0.005</td>\n",
       "      <td>0.040</td>\n",
       "      <td>2.276</td>\n",
       "      <td>0.016</td>\n",
       "      <td>True</td>\n",
       "    </tr>\n",
       "    <tr>\n",
       "      <th>A0A024R0T9;K7ER74;P02655</th>\n",
       "      <th>AD</th>\n",
       "      <td>3.214</td>\n",
       "      <td>1</td>\n",
       "      <td>4.062</td>\n",
       "      <td>0.045</td>\n",
       "      <td>0.021</td>\n",
       "      <td>1.344</td>\n",
       "      <td>0.112</td>\n",
       "      <td>False</td>\n",
       "      <td>2.878</td>\n",
       "      <td>1</td>\n",
       "      <td>4.680</td>\n",
       "      <td>0.032</td>\n",
       "      <td>0.024</td>\n",
       "      <td>1.498</td>\n",
       "      <td>0.071</td>\n",
       "      <td>False</td>\n",
       "    </tr>\n",
       "    <tr>\n",
       "      <th>A0A024R3W6;A0A024R412;O60462;O60462-2;O60462-3;O60462-4;O60462-5;Q7LBX6;X5D2Q8</th>\n",
       "      <th>AD</th>\n",
       "      <td>3.240</td>\n",
       "      <td>1</td>\n",
       "      <td>3.096</td>\n",
       "      <td>0.080</td>\n",
       "      <td>0.016</td>\n",
       "      <td>1.097</td>\n",
       "      <td>0.176</td>\n",
       "      <td>False</td>\n",
       "      <td>0.125</td>\n",
       "      <td>1</td>\n",
       "      <td>1.015</td>\n",
       "      <td>0.315</td>\n",
       "      <td>0.005</td>\n",
       "      <td>0.502</td>\n",
       "      <td>0.445</td>\n",
       "      <td>False</td>\n",
       "    </tr>\n",
       "    <tr>\n",
       "      <th>A0A024R644;A0A0A0MRU5;A0A1B0GWI2;O75503</th>\n",
       "      <th>AD</th>\n",
       "      <td>0.071</td>\n",
       "      <td>1</td>\n",
       "      <td>0.322</td>\n",
       "      <td>0.571</td>\n",
       "      <td>0.002</td>\n",
       "      <td>0.243</td>\n",
       "      <td>0.708</td>\n",
       "      <td>False</td>\n",
       "      <td>0.183</td>\n",
       "      <td>1</td>\n",
       "      <td>1.321</td>\n",
       "      <td>0.252</td>\n",
       "      <td>0.007</td>\n",
       "      <td>0.599</td>\n",
       "      <td>0.375</td>\n",
       "      <td>False</td>\n",
       "    </tr>\n",
       "    <tr>\n",
       "      <th>A0A075B6H7</th>\n",
       "      <th>AD</th>\n",
       "      <td>5.589</td>\n",
       "      <td>1</td>\n",
       "      <td>1.391</td>\n",
       "      <td>0.240</td>\n",
       "      <td>0.007</td>\n",
       "      <td>0.620</td>\n",
       "      <td>0.396</td>\n",
       "      <td>False</td>\n",
       "      <td>4.868</td>\n",
       "      <td>1</td>\n",
       "      <td>5.484</td>\n",
       "      <td>0.020</td>\n",
       "      <td>0.028</td>\n",
       "      <td>1.694</td>\n",
       "      <td>0.049</td>\n",
       "      <td>True</td>\n",
       "    </tr>\n",
       "    <tr>\n",
       "      <th>...</th>\n",
       "      <th>...</th>\n",
       "      <td>...</td>\n",
       "      <td>...</td>\n",
       "      <td>...</td>\n",
       "      <td>...</td>\n",
       "      <td>...</td>\n",
       "      <td>...</td>\n",
       "      <td>...</td>\n",
       "      <td>...</td>\n",
       "      <td>...</td>\n",
       "      <td>...</td>\n",
       "      <td>...</td>\n",
       "      <td>...</td>\n",
       "      <td>...</td>\n",
       "      <td>...</td>\n",
       "      <td>...</td>\n",
       "      <td>...</td>\n",
       "    </tr>\n",
       "    <tr>\n",
       "      <th>Q9Y6R7</th>\n",
       "      <th>AD</th>\n",
       "      <td>0.675</td>\n",
       "      <td>1</td>\n",
       "      <td>1.850</td>\n",
       "      <td>0.175</td>\n",
       "      <td>0.010</td>\n",
       "      <td>0.756</td>\n",
       "      <td>0.318</td>\n",
       "      <td>False</td>\n",
       "      <td>0.675</td>\n",
       "      <td>1</td>\n",
       "      <td>1.850</td>\n",
       "      <td>0.175</td>\n",
       "      <td>0.010</td>\n",
       "      <td>0.756</td>\n",
       "      <td>0.282</td>\n",
       "      <td>False</td>\n",
       "    </tr>\n",
       "    <tr>\n",
       "      <th>Q9Y6X5</th>\n",
       "      <th>AD</th>\n",
       "      <td>2.891</td>\n",
       "      <td>1</td>\n",
       "      <td>3.322</td>\n",
       "      <td>0.070</td>\n",
       "      <td>0.017</td>\n",
       "      <td>1.155</td>\n",
       "      <td>0.158</td>\n",
       "      <td>False</td>\n",
       "      <td>0.371</td>\n",
       "      <td>1</td>\n",
       "      <td>1.146</td>\n",
       "      <td>0.286</td>\n",
       "      <td>0.006</td>\n",
       "      <td>0.544</td>\n",
       "      <td>0.414</td>\n",
       "      <td>False</td>\n",
       "    </tr>\n",
       "    <tr>\n",
       "      <th>Q9Y6Y8;Q9Y6Y8-2</th>\n",
       "      <th>AD</th>\n",
       "      <td>0.973</td>\n",
       "      <td>1</td>\n",
       "      <td>3.028</td>\n",
       "      <td>0.083</td>\n",
       "      <td>0.016</td>\n",
       "      <td>1.079</td>\n",
       "      <td>0.182</td>\n",
       "      <td>False</td>\n",
       "      <td>0.973</td>\n",
       "      <td>1</td>\n",
       "      <td>3.028</td>\n",
       "      <td>0.083</td>\n",
       "      <td>0.016</td>\n",
       "      <td>1.079</td>\n",
       "      <td>0.156</td>\n",
       "      <td>False</td>\n",
       "    </tr>\n",
       "    <tr>\n",
       "      <th>Q9Y6Y9</th>\n",
       "      <th>AD</th>\n",
       "      <td>1.606</td>\n",
       "      <td>1</td>\n",
       "      <td>1.771</td>\n",
       "      <td>0.185</td>\n",
       "      <td>0.009</td>\n",
       "      <td>0.733</td>\n",
       "      <td>0.330</td>\n",
       "      <td>False</td>\n",
       "      <td>0.041</td>\n",
       "      <td>1</td>\n",
       "      <td>0.033</td>\n",
       "      <td>0.855</td>\n",
       "      <td>0.000</td>\n",
       "      <td>0.068</td>\n",
       "      <td>0.908</td>\n",
       "      <td>False</td>\n",
       "    </tr>\n",
       "    <tr>\n",
       "      <th>S4R3U6</th>\n",
       "      <th>AD</th>\n",
       "      <td>0.792</td>\n",
       "      <td>1</td>\n",
       "      <td>0.801</td>\n",
       "      <td>0.372</td>\n",
       "      <td>0.004</td>\n",
       "      <td>0.429</td>\n",
       "      <td>0.537</td>\n",
       "      <td>False</td>\n",
       "      <td>2.016</td>\n",
       "      <td>1</td>\n",
       "      <td>3.859</td>\n",
       "      <td>0.051</td>\n",
       "      <td>0.020</td>\n",
       "      <td>1.293</td>\n",
       "      <td>0.104</td>\n",
       "      <td>False</td>\n",
       "    </tr>\n",
       "  </tbody>\n",
       "</table>\n",
       "<p>1421 rows × 16 columns</p>\n",
       "</div>"
      ],
      "text/plain": [
       "model                                                        PI           \\\n",
       "var                                                          SS DF     F   \n",
       "protein groups                                     Source                  \n",
       "A0A024QZX5;A0A087X1N8;P35237                       AD     0.251  1 0.422   \n",
       "A0A024R0T9;K7ER74;P02655                           AD     3.214  1 4.062   \n",
       "A0A024R3W6;A0A024R412;O60462;O60462-2;O60462-3;... AD     3.240  1 3.096   \n",
       "A0A024R644;A0A0A0MRU5;A0A1B0GWI2;O75503            AD     0.071  1 0.322   \n",
       "A0A075B6H7                                         AD     5.589  1 1.391   \n",
       "...                                                         ... ..   ...   \n",
       "Q9Y6R7                                             AD     0.675  1 1.850   \n",
       "Q9Y6X5                                             AD     2.891  1 3.322   \n",
       "Q9Y6Y8;Q9Y6Y8-2                                    AD     0.973  1 3.028   \n",
       "Q9Y6Y9                                             AD     1.606  1 1.771   \n",
       "S4R3U6                                             AD     0.792  1 0.801   \n",
       "\n",
       "model                                                                  \\\n",
       "var                                                       p-unc   np2   \n",
       "protein groups                                     Source               \n",
       "A0A024QZX5;A0A087X1N8;P35237                       AD     0.517 0.002   \n",
       "A0A024R0T9;K7ER74;P02655                           AD     0.045 0.021   \n",
       "A0A024R3W6;A0A024R412;O60462;O60462-2;O60462-3;... AD     0.080 0.016   \n",
       "A0A024R644;A0A0A0MRU5;A0A1B0GWI2;O75503            AD     0.571 0.002   \n",
       "A0A075B6H7                                         AD     0.240 0.007   \n",
       "...                                                         ...   ...   \n",
       "Q9Y6R7                                             AD     0.175 0.010   \n",
       "Q9Y6X5                                             AD     0.070 0.017   \n",
       "Q9Y6Y8;Q9Y6Y8-2                                    AD     0.083 0.016   \n",
       "Q9Y6Y9                                             AD     0.185 0.009   \n",
       "S4R3U6                                             AD     0.372 0.004   \n",
       "\n",
       "model                                                                    \\\n",
       "var                                                       -Log10 pvalue   \n",
       "protein groups                                     Source                 \n",
       "A0A024QZX5;A0A087X1N8;P35237                       AD             0.287   \n",
       "A0A024R0T9;K7ER74;P02655                           AD             1.344   \n",
       "A0A024R3W6;A0A024R412;O60462;O60462-2;O60462-3;... AD             1.097   \n",
       "A0A024R644;A0A0A0MRU5;A0A1B0GWI2;O75503            AD             0.243   \n",
       "A0A075B6H7                                         AD             0.620   \n",
       "...                                                                 ...   \n",
       "Q9Y6R7                                             AD             0.756   \n",
       "Q9Y6X5                                             AD             1.155   \n",
       "Q9Y6Y8;Q9Y6Y8-2                                    AD             1.079   \n",
       "Q9Y6Y9                                             AD             0.733   \n",
       "S4R3U6                                             AD             0.429   \n",
       "\n",
       "model                                                                      \\\n",
       "var                                                       qvalue rejected   \n",
       "protein groups                                     Source                   \n",
       "A0A024QZX5;A0A087X1N8;P35237                       AD      0.668    False   \n",
       "A0A024R0T9;K7ER74;P02655                           AD      0.112    False   \n",
       "A0A024R3W6;A0A024R412;O60462;O60462-2;O60462-3;... AD      0.176    False   \n",
       "A0A024R644;A0A0A0MRU5;A0A1B0GWI2;O75503            AD      0.708    False   \n",
       "A0A075B6H7                                         AD      0.396    False   \n",
       "...                                                          ...      ...   \n",
       "Q9Y6R7                                             AD      0.318    False   \n",
       "Q9Y6X5                                             AD      0.158    False   \n",
       "Q9Y6Y8;Q9Y6Y8-2                                    AD      0.182    False   \n",
       "Q9Y6Y9                                             AD      0.330    False   \n",
       "S4R3U6                                             AD      0.537    False   \n",
       "\n",
       "model                                                       DAE           \\\n",
       "var                                                          SS DF     F   \n",
       "protein groups                                     Source                  \n",
       "A0A024QZX5;A0A087X1N8;P35237                       AD     1.111  1 7.956   \n",
       "A0A024R0T9;K7ER74;P02655                           AD     2.878  1 4.680   \n",
       "A0A024R3W6;A0A024R412;O60462;O60462-2;O60462-3;... AD     0.125  1 1.015   \n",
       "A0A024R644;A0A0A0MRU5;A0A1B0GWI2;O75503            AD     0.183  1 1.321   \n",
       "A0A075B6H7                                         AD     4.868  1 5.484   \n",
       "...                                                         ... ..   ...   \n",
       "Q9Y6R7                                             AD     0.675  1 1.850   \n",
       "Q9Y6X5                                             AD     0.371  1 1.146   \n",
       "Q9Y6Y8;Q9Y6Y8-2                                    AD     0.973  1 3.028   \n",
       "Q9Y6Y9                                             AD     0.041  1 0.033   \n",
       "S4R3U6                                             AD     2.016  1 3.859   \n",
       "\n",
       "model                                                                  \\\n",
       "var                                                       p-unc   np2   \n",
       "protein groups                                     Source               \n",
       "A0A024QZX5;A0A087X1N8;P35237                       AD     0.005 0.040   \n",
       "A0A024R0T9;K7ER74;P02655                           AD     0.032 0.024   \n",
       "A0A024R3W6;A0A024R412;O60462;O60462-2;O60462-3;... AD     0.315 0.005   \n",
       "A0A024R644;A0A0A0MRU5;A0A1B0GWI2;O75503            AD     0.252 0.007   \n",
       "A0A075B6H7                                         AD     0.020 0.028   \n",
       "...                                                         ...   ...   \n",
       "Q9Y6R7                                             AD     0.175 0.010   \n",
       "Q9Y6X5                                             AD     0.286 0.006   \n",
       "Q9Y6Y8;Q9Y6Y8-2                                    AD     0.083 0.016   \n",
       "Q9Y6Y9                                             AD     0.855 0.000   \n",
       "S4R3U6                                             AD     0.051 0.020   \n",
       "\n",
       "model                                                                    \\\n",
       "var                                                       -Log10 pvalue   \n",
       "protein groups                                     Source                 \n",
       "A0A024QZX5;A0A087X1N8;P35237                       AD             2.276   \n",
       "A0A024R0T9;K7ER74;P02655                           AD             1.498   \n",
       "A0A024R3W6;A0A024R412;O60462;O60462-2;O60462-3;... AD             0.502   \n",
       "A0A024R644;A0A0A0MRU5;A0A1B0GWI2;O75503            AD             0.599   \n",
       "A0A075B6H7                                         AD             1.694   \n",
       "...                                                                 ...   \n",
       "Q9Y6R7                                             AD             0.756   \n",
       "Q9Y6X5                                             AD             0.544   \n",
       "Q9Y6Y8;Q9Y6Y8-2                                    AD             1.079   \n",
       "Q9Y6Y9                                             AD             0.068   \n",
       "S4R3U6                                             AD             1.293   \n",
       "\n",
       "model                                                                      \n",
       "var                                                       qvalue rejected  \n",
       "protein groups                                     Source                  \n",
       "A0A024QZX5;A0A087X1N8;P35237                       AD      0.016     True  \n",
       "A0A024R0T9;K7ER74;P02655                           AD      0.071    False  \n",
       "A0A024R3W6;A0A024R412;O60462;O60462-2;O60462-3;... AD      0.445    False  \n",
       "A0A024R644;A0A0A0MRU5;A0A1B0GWI2;O75503            AD      0.375    False  \n",
       "A0A075B6H7                                         AD      0.049     True  \n",
       "...                                                          ...      ...  \n",
       "Q9Y6R7                                             AD      0.282    False  \n",
       "Q9Y6X5                                             AD      0.414    False  \n",
       "Q9Y6Y8;Q9Y6Y8-2                                    AD      0.156    False  \n",
       "Q9Y6Y9                                             AD      0.908    False  \n",
       "S4R3U6                                             AD      0.104    False  \n",
       "\n",
       "[1421 rows x 16 columns]"
      ]
     },
     "execution_count": 16,
     "metadata": {},
     "output_type": "execute_result"
    }
   ],
   "source": [
    "scores = scores.loc[pd.IndexSlice[:, args.target], :]\n",
    "scores.to_excel(writer, 'scores', **writer_args)\n",
    "scores"
   ]
  },
  {
   "cell_type": "code",
   "execution_count": 17,
   "id": "0e45e80a-32d8-4c6c-b0a4-5ce8b7f9e121",
   "metadata": {
    "execution": {
     "iopub.execute_input": "2024-05-27T17:00:38.684166Z",
     "iopub.status.busy": "2024-05-27T17:00:38.683639Z",
     "iopub.status.idle": "2024-05-27T17:00:38.785070Z",
     "shell.execute_reply": "2024-05-27T17:00:38.784374Z"
    },
    "papermill": {
     "duration": 0.123233,
     "end_time": "2024-05-27T17:00:38.786824",
     "exception": false,
     "start_time": "2024-05-27T17:00:38.663591",
     "status": "completed"
    },
    "tags": [
     "hide-input"
    ]
   },
   "outputs": [
    {
     "data": {
      "text/html": [
       "<div>\n",
       "<style scoped>\n",
       "    .dataframe tbody tr th:only-of-type {\n",
       "        vertical-align: middle;\n",
       "    }\n",
       "\n",
       "    .dataframe tbody tr th {\n",
       "        vertical-align: top;\n",
       "    }\n",
       "\n",
       "    .dataframe thead tr th {\n",
       "        text-align: left;\n",
       "    }\n",
       "</style>\n",
       "<table border=\"1\" class=\"dataframe\">\n",
       "  <thead>\n",
       "    <tr>\n",
       "      <th>model</th>\n",
       "      <th colspan=\"7\" halign=\"left\">PI</th>\n",
       "      <th colspan=\"7\" halign=\"left\">DAE</th>\n",
       "    </tr>\n",
       "    <tr>\n",
       "      <th>var</th>\n",
       "      <th>SS</th>\n",
       "      <th>DF</th>\n",
       "      <th>F</th>\n",
       "      <th>p-unc</th>\n",
       "      <th>np2</th>\n",
       "      <th>-Log10 pvalue</th>\n",
       "      <th>qvalue</th>\n",
       "      <th>SS</th>\n",
       "      <th>DF</th>\n",
       "      <th>F</th>\n",
       "      <th>p-unc</th>\n",
       "      <th>np2</th>\n",
       "      <th>-Log10 pvalue</th>\n",
       "      <th>qvalue</th>\n",
       "    </tr>\n",
       "  </thead>\n",
       "  <tbody>\n",
       "    <tr>\n",
       "      <th>count</th>\n",
       "      <td>1,421.000</td>\n",
       "      <td>1,421.000</td>\n",
       "      <td>1,421.000</td>\n",
       "      <td>1,421.000</td>\n",
       "      <td>1,421.000</td>\n",
       "      <td>1,421.000</td>\n",
       "      <td>1,421.000</td>\n",
       "      <td>1,421.000</td>\n",
       "      <td>1,421.000</td>\n",
       "      <td>1,421.000</td>\n",
       "      <td>1,421.000</td>\n",
       "      <td>1,421.000</td>\n",
       "      <td>1,421.000</td>\n",
       "      <td>1,421.000</td>\n",
       "    </tr>\n",
       "    <tr>\n",
       "      <th>mean</th>\n",
       "      <td>3.678</td>\n",
       "      <td>1.000</td>\n",
       "      <td>4.884</td>\n",
       "      <td>0.254</td>\n",
       "      <td>0.024</td>\n",
       "      <td>1.409</td>\n",
       "      <td>0.336</td>\n",
       "      <td>1.992</td>\n",
       "      <td>1.000</td>\n",
       "      <td>5.789</td>\n",
       "      <td>0.240</td>\n",
       "      <td>0.028</td>\n",
       "      <td>1.611</td>\n",
       "      <td>0.299</td>\n",
       "    </tr>\n",
       "    <tr>\n",
       "      <th>std</th>\n",
       "      <td>6.317</td>\n",
       "      <td>0.000</td>\n",
       "      <td>7.747</td>\n",
       "      <td>0.292</td>\n",
       "      <td>0.032</td>\n",
       "      <td>1.652</td>\n",
       "      <td>0.318</td>\n",
       "      <td>3.735</td>\n",
       "      <td>0.000</td>\n",
       "      <td>8.836</td>\n",
       "      <td>0.295</td>\n",
       "      <td>0.037</td>\n",
       "      <td>1.882</td>\n",
       "      <td>0.319</td>\n",
       "    </tr>\n",
       "    <tr>\n",
       "      <th>min</th>\n",
       "      <td>0.000</td>\n",
       "      <td>1.000</td>\n",
       "      <td>0.000</td>\n",
       "      <td>0.000</td>\n",
       "      <td>0.000</td>\n",
       "      <td>0.002</td>\n",
       "      <td>0.000</td>\n",
       "      <td>0.000</td>\n",
       "      <td>1.000</td>\n",
       "      <td>0.000</td>\n",
       "      <td>0.000</td>\n",
       "      <td>0.000</td>\n",
       "      <td>0.001</td>\n",
       "      <td>0.000</td>\n",
       "    </tr>\n",
       "    <tr>\n",
       "      <th>25%</th>\n",
       "      <td>0.379</td>\n",
       "      <td>1.000</td>\n",
       "      <td>0.622</td>\n",
       "      <td>0.011</td>\n",
       "      <td>0.003</td>\n",
       "      <td>0.365</td>\n",
       "      <td>0.037</td>\n",
       "      <td>0.169</td>\n",
       "      <td>1.000</td>\n",
       "      <td>0.663</td>\n",
       "      <td>0.006</td>\n",
       "      <td>0.003</td>\n",
       "      <td>0.380</td>\n",
       "      <td>0.018</td>\n",
       "    </tr>\n",
       "    <tr>\n",
       "      <th>50%</th>\n",
       "      <td>1.543</td>\n",
       "      <td>1.000</td>\n",
       "      <td>2.436</td>\n",
       "      <td>0.120</td>\n",
       "      <td>0.013</td>\n",
       "      <td>0.920</td>\n",
       "      <td>0.242</td>\n",
       "      <td>0.793</td>\n",
       "      <td>1.000</td>\n",
       "      <td>2.996</td>\n",
       "      <td>0.085</td>\n",
       "      <td>0.015</td>\n",
       "      <td>1.070</td>\n",
       "      <td>0.158</td>\n",
       "    </tr>\n",
       "    <tr>\n",
       "      <th>75%</th>\n",
       "      <td>4.232</td>\n",
       "      <td>1.000</td>\n",
       "      <td>6.559</td>\n",
       "      <td>0.431</td>\n",
       "      <td>0.033</td>\n",
       "      <td>1.950</td>\n",
       "      <td>0.589</td>\n",
       "      <td>2.359</td>\n",
       "      <td>1.000</td>\n",
       "      <td>7.593</td>\n",
       "      <td>0.416</td>\n",
       "      <td>0.038</td>\n",
       "      <td>2.192</td>\n",
       "      <td>0.547</td>\n",
       "    </tr>\n",
       "    <tr>\n",
       "      <th>max</th>\n",
       "      <td>69.228</td>\n",
       "      <td>1.000</td>\n",
       "      <td>144.831</td>\n",
       "      <td>0.996</td>\n",
       "      <td>0.431</td>\n",
       "      <td>24.465</td>\n",
       "      <td>0.997</td>\n",
       "      <td>58.840</td>\n",
       "      <td>1.000</td>\n",
       "      <td>130.085</td>\n",
       "      <td>0.998</td>\n",
       "      <td>0.405</td>\n",
       "      <td>22.590</td>\n",
       "      <td>0.998</td>\n",
       "    </tr>\n",
       "  </tbody>\n",
       "</table>\n",
       "</div>"
      ],
      "text/plain": [
       "model        PI                                                        \\\n",
       "var          SS        DF         F     p-unc       np2 -Log10 pvalue   \n",
       "count 1,421.000 1,421.000 1,421.000 1,421.000 1,421.000     1,421.000   \n",
       "mean      3.678     1.000     4.884     0.254     0.024         1.409   \n",
       "std       6.317     0.000     7.747     0.292     0.032         1.652   \n",
       "min       0.000     1.000     0.000     0.000     0.000         0.002   \n",
       "25%       0.379     1.000     0.622     0.011     0.003         0.365   \n",
       "50%       1.543     1.000     2.436     0.120     0.013         0.920   \n",
       "75%       4.232     1.000     6.559     0.431     0.033         1.950   \n",
       "max      69.228     1.000   144.831     0.996     0.431        24.465   \n",
       "\n",
       "model                 DAE                                          \\\n",
       "var      qvalue        SS        DF         F     p-unc       np2   \n",
       "count 1,421.000 1,421.000 1,421.000 1,421.000 1,421.000 1,421.000   \n",
       "mean      0.336     1.992     1.000     5.789     0.240     0.028   \n",
       "std       0.318     3.735     0.000     8.836     0.295     0.037   \n",
       "min       0.000     0.000     1.000     0.000     0.000     0.000   \n",
       "25%       0.037     0.169     1.000     0.663     0.006     0.003   \n",
       "50%       0.242     0.793     1.000     2.996     0.085     0.015   \n",
       "75%       0.589     2.359     1.000     7.593     0.416     0.038   \n",
       "max       0.997    58.840     1.000   130.085     0.998     0.405   \n",
       "\n",
       "model                          \n",
       "var   -Log10 pvalue    qvalue  \n",
       "count     1,421.000 1,421.000  \n",
       "mean          1.611     0.299  \n",
       "std           1.882     0.319  \n",
       "min           0.001     0.000  \n",
       "25%           0.380     0.018  \n",
       "50%           1.070     0.158  \n",
       "75%           2.192     0.547  \n",
       "max          22.590     0.998  "
      ]
     },
     "execution_count": 17,
     "metadata": {},
     "output_type": "execute_result"
    }
   ],
   "source": [
    "scores.describe()"
   ]
  },
  {
   "cell_type": "code",
   "execution_count": 18,
   "id": "53bd5597-221c-4d54-abf2-82956db42594",
   "metadata": {
    "execution": {
     "iopub.execute_input": "2024-05-27T17:00:38.827582Z",
     "iopub.status.busy": "2024-05-27T17:00:38.827282Z",
     "iopub.status.idle": "2024-05-27T17:00:38.842412Z",
     "shell.execute_reply": "2024-05-27T17:00:38.841746Z"
    },
    "lines_to_next_cell": 2,
    "papermill": {
     "duration": 0.034397,
     "end_time": "2024-05-27T17:00:38.844296",
     "exception": false,
     "start_time": "2024-05-27T17:00:38.809899",
     "status": "completed"
    },
    "tags": [
     "hide-input"
    ]
   },
   "outputs": [
    {
     "data": {
      "text/html": [
       "<div>\n",
       "<style scoped>\n",
       "    .dataframe tbody tr th:only-of-type {\n",
       "        vertical-align: middle;\n",
       "    }\n",
       "\n",
       "    .dataframe tbody tr th {\n",
       "        vertical-align: top;\n",
       "    }\n",
       "\n",
       "    .dataframe thead tr th {\n",
       "        text-align: left;\n",
       "    }\n",
       "</style>\n",
       "<table border=\"1\" class=\"dataframe\">\n",
       "  <thead>\n",
       "    <tr>\n",
       "      <th>model</th>\n",
       "      <th>PI</th>\n",
       "      <th>DAE</th>\n",
       "    </tr>\n",
       "    <tr>\n",
       "      <th>var</th>\n",
       "      <th>rejected</th>\n",
       "      <th>rejected</th>\n",
       "    </tr>\n",
       "  </thead>\n",
       "  <tbody>\n",
       "    <tr>\n",
       "      <th>count</th>\n",
       "      <td>1421</td>\n",
       "      <td>1421</td>\n",
       "    </tr>\n",
       "    <tr>\n",
       "      <th>unique</th>\n",
       "      <td>2</td>\n",
       "      <td>2</td>\n",
       "    </tr>\n",
       "    <tr>\n",
       "      <th>top</th>\n",
       "      <td>False</td>\n",
       "      <td>False</td>\n",
       "    </tr>\n",
       "    <tr>\n",
       "      <th>freq</th>\n",
       "      <td>1029</td>\n",
       "      <td>932</td>\n",
       "    </tr>\n",
       "  </tbody>\n",
       "</table>\n",
       "</div>"
      ],
      "text/plain": [
       "model        PI      DAE\n",
       "var    rejected rejected\n",
       "count      1421     1421\n",
       "unique        2        2\n",
       "top       False    False\n",
       "freq       1029      932"
      ]
     },
     "execution_count": 18,
     "metadata": {},
     "output_type": "execute_result"
    }
   ],
   "source": [
    "scores.describe(include=['bool', 'O'])"
   ]
  },
  {
   "cell_type": "markdown",
   "id": "bef83742-05e5-473b-892e-dd286cb3a31f",
   "metadata": {
    "papermill": {
     "duration": 0.01498,
     "end_time": "2024-05-27T17:00:38.874683",
     "exception": false,
     "start_time": "2024-05-27T17:00:38.859703",
     "status": "completed"
    },
    "tags": []
   },
   "source": [
    "## Load frequencies of observed features"
   ]
  },
  {
   "cell_type": "code",
   "execution_count": 19,
   "id": "2a926ba1-0f3b-4089-a349-b6d66128cf37",
   "metadata": {
    "execution": {
     "iopub.execute_input": "2024-05-27T17:00:38.905689Z",
     "iopub.status.busy": "2024-05-27T17:00:38.905388Z",
     "iopub.status.idle": "2024-05-27T17:00:38.921165Z",
     "shell.execute_reply": "2024-05-27T17:00:38.920501Z"
    },
    "papermill": {
     "duration": 0.033348,
     "end_time": "2024-05-27T17:00:38.923062",
     "exception": false,
     "start_time": "2024-05-27T17:00:38.889714",
     "status": "completed"
    },
    "tags": [
     "hide-input"
    ]
   },
   "outputs": [
    {
     "data": {
      "text/html": [
       "<div>\n",
       "<style scoped>\n",
       "    .dataframe tbody tr th:only-of-type {\n",
       "        vertical-align: middle;\n",
       "    }\n",
       "\n",
       "    .dataframe tbody tr th {\n",
       "        vertical-align: top;\n",
       "    }\n",
       "\n",
       "    .dataframe thead tr th {\n",
       "        text-align: left;\n",
       "    }\n",
       "\n",
       "    .dataframe thead tr:last-of-type th {\n",
       "        text-align: right;\n",
       "    }\n",
       "</style>\n",
       "<table border=\"1\" class=\"dataframe\">\n",
       "  <thead>\n",
       "    <tr>\n",
       "      <th></th>\n",
       "      <th>data</th>\n",
       "    </tr>\n",
       "    <tr>\n",
       "      <th></th>\n",
       "      <th>frequency</th>\n",
       "    </tr>\n",
       "    <tr>\n",
       "      <th>protein groups</th>\n",
       "      <th></th>\n",
       "    </tr>\n",
       "  </thead>\n",
       "  <tbody>\n",
       "    <tr>\n",
       "      <th>A0A024QZX5;A0A087X1N8;P35237</th>\n",
       "      <td>186</td>\n",
       "    </tr>\n",
       "    <tr>\n",
       "      <th>A0A024R0T9;K7ER74;P02655</th>\n",
       "      <td>195</td>\n",
       "    </tr>\n",
       "    <tr>\n",
       "      <th>A0A024R3W6;A0A024R412;O60462;O60462-2;O60462-3;O60462-4;O60462-5;Q7LBX6;X5D2Q8</th>\n",
       "      <td>174</td>\n",
       "    </tr>\n",
       "    <tr>\n",
       "      <th>A0A024R644;A0A0A0MRU5;A0A1B0GWI2;O75503</th>\n",
       "      <td>196</td>\n",
       "    </tr>\n",
       "    <tr>\n",
       "      <th>A0A075B6H7</th>\n",
       "      <td>91</td>\n",
       "    </tr>\n",
       "    <tr>\n",
       "      <th>...</th>\n",
       "      <td>...</td>\n",
       "    </tr>\n",
       "    <tr>\n",
       "      <th>Q9Y6R7</th>\n",
       "      <td>197</td>\n",
       "    </tr>\n",
       "    <tr>\n",
       "      <th>Q9Y6X5</th>\n",
       "      <td>173</td>\n",
       "    </tr>\n",
       "    <tr>\n",
       "      <th>Q9Y6Y8;Q9Y6Y8-2</th>\n",
       "      <td>197</td>\n",
       "    </tr>\n",
       "    <tr>\n",
       "      <th>Q9Y6Y9</th>\n",
       "      <td>119</td>\n",
       "    </tr>\n",
       "    <tr>\n",
       "      <th>S4R3U6</th>\n",
       "      <td>126</td>\n",
       "    </tr>\n",
       "  </tbody>\n",
       "</table>\n",
       "<p>1421 rows × 1 columns</p>\n",
       "</div>"
      ],
      "text/plain": [
       "                                                        data\n",
       "                                                   frequency\n",
       "protein groups                                              \n",
       "A0A024QZX5;A0A087X1N8;P35237                             186\n",
       "A0A024R0T9;K7ER74;P02655                                 195\n",
       "A0A024R3W6;A0A024R412;O60462;O60462-2;O60462-3;...       174\n",
       "A0A024R644;A0A0A0MRU5;A0A1B0GWI2;O75503                  196\n",
       "A0A075B6H7                                                91\n",
       "...                                                      ...\n",
       "Q9Y6R7                                                   197\n",
       "Q9Y6X5                                                   173\n",
       "Q9Y6Y8;Q9Y6Y8-2                                          197\n",
       "Q9Y6Y9                                                   119\n",
       "S4R3U6                                                   126\n",
       "\n",
       "[1421 rows x 1 columns]"
      ]
     },
     "execution_count": 19,
     "metadata": {},
     "output_type": "execute_result"
    }
   ],
   "source": [
    "freq_feat = pd.read_csv(files_in['freq_features_observed.csv'], index_col=0)\n",
    "freq_feat.columns = pd.MultiIndex.from_tuples([('data', 'frequency'),])\n",
    "freq_feat"
   ]
  },
  {
   "cell_type": "markdown",
   "id": "408eacfe-770f-42ff-9057-2a98274e1ae3",
   "metadata": {
    "papermill": {
     "duration": 0.026281,
     "end_time": "2024-05-27T17:00:38.964537",
     "exception": false,
     "start_time": "2024-05-27T17:00:38.938256",
     "status": "completed"
    },
    "tags": []
   },
   "source": [
    "## Compare shared features"
   ]
  },
  {
   "cell_type": "code",
   "execution_count": 20,
   "id": "5b2dfb0f-195b-4044-a228-2d784ea2a458",
   "metadata": {
    "execution": {
     "iopub.execute_input": "2024-05-27T17:00:38.996856Z",
     "iopub.status.busy": "2024-05-27T17:00:38.996530Z",
     "iopub.status.idle": "2024-05-27T17:00:39.029347Z",
     "shell.execute_reply": "2024-05-27T17:00:39.028654Z"
    },
    "papermill": {
     "duration": 0.050746,
     "end_time": "2024-05-27T17:00:39.031185",
     "exception": false,
     "start_time": "2024-05-27T17:00:38.980439",
     "status": "completed"
    },
    "tags": [
     "hide-input"
    ]
   },
   "outputs": [
    {
     "data": {
      "text/html": [
       "<div>\n",
       "<style scoped>\n",
       "    .dataframe tbody tr th:only-of-type {\n",
       "        vertical-align: middle;\n",
       "    }\n",
       "\n",
       "    .dataframe tbody tr th {\n",
       "        vertical-align: top;\n",
       "    }\n",
       "\n",
       "    .dataframe thead tr th {\n",
       "        text-align: left;\n",
       "    }\n",
       "\n",
       "    .dataframe thead tr:last-of-type th {\n",
       "        text-align: right;\n",
       "    }\n",
       "</style>\n",
       "<table border=\"1\" class=\"dataframe\">\n",
       "  <thead>\n",
       "    <tr>\n",
       "      <th></th>\n",
       "      <th colspan=\"8\" halign=\"left\">PI</th>\n",
       "      <th colspan=\"8\" halign=\"left\">DAE</th>\n",
       "      <th>data</th>\n",
       "    </tr>\n",
       "    <tr>\n",
       "      <th></th>\n",
       "      <th>SS</th>\n",
       "      <th>DF</th>\n",
       "      <th>F</th>\n",
       "      <th>p-unc</th>\n",
       "      <th>np2</th>\n",
       "      <th>-Log10 pvalue</th>\n",
       "      <th>qvalue</th>\n",
       "      <th>rejected</th>\n",
       "      <th>SS</th>\n",
       "      <th>DF</th>\n",
       "      <th>F</th>\n",
       "      <th>p-unc</th>\n",
       "      <th>np2</th>\n",
       "      <th>-Log10 pvalue</th>\n",
       "      <th>qvalue</th>\n",
       "      <th>rejected</th>\n",
       "      <th>frequency</th>\n",
       "    </tr>\n",
       "    <tr>\n",
       "      <th>protein groups</th>\n",
       "      <th></th>\n",
       "      <th></th>\n",
       "      <th></th>\n",
       "      <th></th>\n",
       "      <th></th>\n",
       "      <th></th>\n",
       "      <th></th>\n",
       "      <th></th>\n",
       "      <th></th>\n",
       "      <th></th>\n",
       "      <th></th>\n",
       "      <th></th>\n",
       "      <th></th>\n",
       "      <th></th>\n",
       "      <th></th>\n",
       "      <th></th>\n",
       "      <th></th>\n",
       "    </tr>\n",
       "  </thead>\n",
       "  <tbody>\n",
       "    <tr>\n",
       "      <th>A0A024QZX5;A0A087X1N8;P35237</th>\n",
       "      <td>0.251</td>\n",
       "      <td>1</td>\n",
       "      <td>0.422</td>\n",
       "      <td>0.517</td>\n",
       "      <td>0.002</td>\n",
       "      <td>0.287</td>\n",
       "      <td>0.668</td>\n",
       "      <td>False</td>\n",
       "      <td>1.111</td>\n",
       "      <td>1</td>\n",
       "      <td>7.956</td>\n",
       "      <td>0.005</td>\n",
       "      <td>0.040</td>\n",
       "      <td>2.276</td>\n",
       "      <td>0.016</td>\n",
       "      <td>True</td>\n",
       "      <td>186</td>\n",
       "    </tr>\n",
       "    <tr>\n",
       "      <th>A0A024R0T9;K7ER74;P02655</th>\n",
       "      <td>3.214</td>\n",
       "      <td>1</td>\n",
       "      <td>4.062</td>\n",
       "      <td>0.045</td>\n",
       "      <td>0.021</td>\n",
       "      <td>1.344</td>\n",
       "      <td>0.112</td>\n",
       "      <td>False</td>\n",
       "      <td>2.878</td>\n",
       "      <td>1</td>\n",
       "      <td>4.680</td>\n",
       "      <td>0.032</td>\n",
       "      <td>0.024</td>\n",
       "      <td>1.498</td>\n",
       "      <td>0.071</td>\n",
       "      <td>False</td>\n",
       "      <td>195</td>\n",
       "    </tr>\n",
       "    <tr>\n",
       "      <th>A0A024R3W6;A0A024R412;O60462;O60462-2;O60462-3;O60462-4;O60462-5;Q7LBX6;X5D2Q8</th>\n",
       "      <td>3.240</td>\n",
       "      <td>1</td>\n",
       "      <td>3.096</td>\n",
       "      <td>0.080</td>\n",
       "      <td>0.016</td>\n",
       "      <td>1.097</td>\n",
       "      <td>0.176</td>\n",
       "      <td>False</td>\n",
       "      <td>0.125</td>\n",
       "      <td>1</td>\n",
       "      <td>1.015</td>\n",
       "      <td>0.315</td>\n",
       "      <td>0.005</td>\n",
       "      <td>0.502</td>\n",
       "      <td>0.445</td>\n",
       "      <td>False</td>\n",
       "      <td>174</td>\n",
       "    </tr>\n",
       "    <tr>\n",
       "      <th>A0A024R644;A0A0A0MRU5;A0A1B0GWI2;O75503</th>\n",
       "      <td>0.071</td>\n",
       "      <td>1</td>\n",
       "      <td>0.322</td>\n",
       "      <td>0.571</td>\n",
       "      <td>0.002</td>\n",
       "      <td>0.243</td>\n",
       "      <td>0.708</td>\n",
       "      <td>False</td>\n",
       "      <td>0.183</td>\n",
       "      <td>1</td>\n",
       "      <td>1.321</td>\n",
       "      <td>0.252</td>\n",
       "      <td>0.007</td>\n",
       "      <td>0.599</td>\n",
       "      <td>0.375</td>\n",
       "      <td>False</td>\n",
       "      <td>196</td>\n",
       "    </tr>\n",
       "    <tr>\n",
       "      <th>A0A075B6H7</th>\n",
       "      <td>5.589</td>\n",
       "      <td>1</td>\n",
       "      <td>1.391</td>\n",
       "      <td>0.240</td>\n",
       "      <td>0.007</td>\n",
       "      <td>0.620</td>\n",
       "      <td>0.396</td>\n",
       "      <td>False</td>\n",
       "      <td>4.868</td>\n",
       "      <td>1</td>\n",
       "      <td>5.484</td>\n",
       "      <td>0.020</td>\n",
       "      <td>0.028</td>\n",
       "      <td>1.694</td>\n",
       "      <td>0.049</td>\n",
       "      <td>True</td>\n",
       "      <td>91</td>\n",
       "    </tr>\n",
       "    <tr>\n",
       "      <th>...</th>\n",
       "      <td>...</td>\n",
       "      <td>...</td>\n",
       "      <td>...</td>\n",
       "      <td>...</td>\n",
       "      <td>...</td>\n",
       "      <td>...</td>\n",
       "      <td>...</td>\n",
       "      <td>...</td>\n",
       "      <td>...</td>\n",
       "      <td>...</td>\n",
       "      <td>...</td>\n",
       "      <td>...</td>\n",
       "      <td>...</td>\n",
       "      <td>...</td>\n",
       "      <td>...</td>\n",
       "      <td>...</td>\n",
       "      <td>...</td>\n",
       "    </tr>\n",
       "    <tr>\n",
       "      <th>Q9Y6R7</th>\n",
       "      <td>0.675</td>\n",
       "      <td>1</td>\n",
       "      <td>1.850</td>\n",
       "      <td>0.175</td>\n",
       "      <td>0.010</td>\n",
       "      <td>0.756</td>\n",
       "      <td>0.318</td>\n",
       "      <td>False</td>\n",
       "      <td>0.675</td>\n",
       "      <td>1</td>\n",
       "      <td>1.850</td>\n",
       "      <td>0.175</td>\n",
       "      <td>0.010</td>\n",
       "      <td>0.756</td>\n",
       "      <td>0.282</td>\n",
       "      <td>False</td>\n",
       "      <td>197</td>\n",
       "    </tr>\n",
       "    <tr>\n",
       "      <th>Q9Y6X5</th>\n",
       "      <td>2.891</td>\n",
       "      <td>1</td>\n",
       "      <td>3.322</td>\n",
       "      <td>0.070</td>\n",
       "      <td>0.017</td>\n",
       "      <td>1.155</td>\n",
       "      <td>0.158</td>\n",
       "      <td>False</td>\n",
       "      <td>0.371</td>\n",
       "      <td>1</td>\n",
       "      <td>1.146</td>\n",
       "      <td>0.286</td>\n",
       "      <td>0.006</td>\n",
       "      <td>0.544</td>\n",
       "      <td>0.414</td>\n",
       "      <td>False</td>\n",
       "      <td>173</td>\n",
       "    </tr>\n",
       "    <tr>\n",
       "      <th>Q9Y6Y8;Q9Y6Y8-2</th>\n",
       "      <td>0.973</td>\n",
       "      <td>1</td>\n",
       "      <td>3.028</td>\n",
       "      <td>0.083</td>\n",
       "      <td>0.016</td>\n",
       "      <td>1.079</td>\n",
       "      <td>0.182</td>\n",
       "      <td>False</td>\n",
       "      <td>0.973</td>\n",
       "      <td>1</td>\n",
       "      <td>3.028</td>\n",
       "      <td>0.083</td>\n",
       "      <td>0.016</td>\n",
       "      <td>1.079</td>\n",
       "      <td>0.156</td>\n",
       "      <td>False</td>\n",
       "      <td>197</td>\n",
       "    </tr>\n",
       "    <tr>\n",
       "      <th>Q9Y6Y9</th>\n",
       "      <td>1.606</td>\n",
       "      <td>1</td>\n",
       "      <td>1.771</td>\n",
       "      <td>0.185</td>\n",
       "      <td>0.009</td>\n",
       "      <td>0.733</td>\n",
       "      <td>0.330</td>\n",
       "      <td>False</td>\n",
       "      <td>0.041</td>\n",
       "      <td>1</td>\n",
       "      <td>0.033</td>\n",
       "      <td>0.855</td>\n",
       "      <td>0.000</td>\n",
       "      <td>0.068</td>\n",
       "      <td>0.908</td>\n",
       "      <td>False</td>\n",
       "      <td>119</td>\n",
       "    </tr>\n",
       "    <tr>\n",
       "      <th>S4R3U6</th>\n",
       "      <td>0.792</td>\n",
       "      <td>1</td>\n",
       "      <td>0.801</td>\n",
       "      <td>0.372</td>\n",
       "      <td>0.004</td>\n",
       "      <td>0.429</td>\n",
       "      <td>0.537</td>\n",
       "      <td>False</td>\n",
       "      <td>2.016</td>\n",
       "      <td>1</td>\n",
       "      <td>3.859</td>\n",
       "      <td>0.051</td>\n",
       "      <td>0.020</td>\n",
       "      <td>1.293</td>\n",
       "      <td>0.104</td>\n",
       "      <td>False</td>\n",
       "      <td>126</td>\n",
       "    </tr>\n",
       "  </tbody>\n",
       "</table>\n",
       "<p>1421 rows × 17 columns</p>\n",
       "</div>"
      ],
      "text/plain": [
       "                                                      PI                       \\\n",
       "                                                      SS DF     F p-unc   np2   \n",
       "protein groups                                                                  \n",
       "A0A024QZX5;A0A087X1N8;P35237                       0.251  1 0.422 0.517 0.002   \n",
       "A0A024R0T9;K7ER74;P02655                           3.214  1 4.062 0.045 0.021   \n",
       "A0A024R3W6;A0A024R412;O60462;O60462-2;O60462-3;... 3.240  1 3.096 0.080 0.016   \n",
       "A0A024R644;A0A0A0MRU5;A0A1B0GWI2;O75503            0.071  1 0.322 0.571 0.002   \n",
       "A0A075B6H7                                         5.589  1 1.391 0.240 0.007   \n",
       "...                                                  ... ..   ...   ...   ...   \n",
       "Q9Y6R7                                             0.675  1 1.850 0.175 0.010   \n",
       "Q9Y6X5                                             2.891  1 3.322 0.070 0.017   \n",
       "Q9Y6Y8;Q9Y6Y8-2                                    0.973  1 3.028 0.083 0.016   \n",
       "Q9Y6Y9                                             1.606  1 1.771 0.185 0.009   \n",
       "S4R3U6                                             0.792  1 0.801 0.372 0.004   \n",
       "\n",
       "                                                                         \\\n",
       "                                                   -Log10 pvalue qvalue   \n",
       "protein groups                                                            \n",
       "A0A024QZX5;A0A087X1N8;P35237                               0.287  0.668   \n",
       "A0A024R0T9;K7ER74;P02655                                   1.344  0.112   \n",
       "A0A024R3W6;A0A024R412;O60462;O60462-2;O60462-3;...         1.097  0.176   \n",
       "A0A024R644;A0A0A0MRU5;A0A1B0GWI2;O75503                    0.243  0.708   \n",
       "A0A075B6H7                                                 0.620  0.396   \n",
       "...                                                          ...    ...   \n",
       "Q9Y6R7                                                     0.756  0.318   \n",
       "Q9Y6X5                                                     1.155  0.158   \n",
       "Q9Y6Y8;Q9Y6Y8-2                                            1.079  0.182   \n",
       "Q9Y6Y9                                                     0.733  0.330   \n",
       "S4R3U6                                                     0.429  0.537   \n",
       "\n",
       "                                                              DAE           \\\n",
       "                                                   rejected    SS DF     F   \n",
       "protein groups                                                               \n",
       "A0A024QZX5;A0A087X1N8;P35237                          False 1.111  1 7.956   \n",
       "A0A024R0T9;K7ER74;P02655                              False 2.878  1 4.680   \n",
       "A0A024R3W6;A0A024R412;O60462;O60462-2;O60462-3;...    False 0.125  1 1.015   \n",
       "A0A024R644;A0A0A0MRU5;A0A1B0GWI2;O75503               False 0.183  1 1.321   \n",
       "A0A075B6H7                                            False 4.868  1 5.484   \n",
       "...                                                     ...   ... ..   ...   \n",
       "Q9Y6R7                                                False 0.675  1 1.850   \n",
       "Q9Y6X5                                                False 0.371  1 1.146   \n",
       "Q9Y6Y8;Q9Y6Y8-2                                       False 0.973  1 3.028   \n",
       "Q9Y6Y9                                                False 0.041  1 0.033   \n",
       "S4R3U6                                                False 2.016  1 3.859   \n",
       "\n",
       "                                                                              \\\n",
       "                                                   p-unc   np2 -Log10 pvalue   \n",
       "protein groups                                                                 \n",
       "A0A024QZX5;A0A087X1N8;P35237                       0.005 0.040         2.276   \n",
       "A0A024R0T9;K7ER74;P02655                           0.032 0.024         1.498   \n",
       "A0A024R3W6;A0A024R412;O60462;O60462-2;O60462-3;... 0.315 0.005         0.502   \n",
       "A0A024R644;A0A0A0MRU5;A0A1B0GWI2;O75503            0.252 0.007         0.599   \n",
       "A0A075B6H7                                         0.020 0.028         1.694   \n",
       "...                                                  ...   ...           ...   \n",
       "Q9Y6R7                                             0.175 0.010         0.756   \n",
       "Q9Y6X5                                             0.286 0.006         0.544   \n",
       "Q9Y6Y8;Q9Y6Y8-2                                    0.083 0.016         1.079   \n",
       "Q9Y6Y9                                             0.855 0.000         0.068   \n",
       "S4R3U6                                             0.051 0.020         1.293   \n",
       "\n",
       "                                                                        data  \n",
       "                                                   qvalue rejected frequency  \n",
       "protein groups                                                                \n",
       "A0A024QZX5;A0A087X1N8;P35237                        0.016     True       186  \n",
       "A0A024R0T9;K7ER74;P02655                            0.071    False       195  \n",
       "A0A024R3W6;A0A024R412;O60462;O60462-2;O60462-3;...  0.445    False       174  \n",
       "A0A024R644;A0A0A0MRU5;A0A1B0GWI2;O75503             0.375    False       196  \n",
       "A0A075B6H7                                          0.049     True        91  \n",
       "...                                                   ...      ...       ...  \n",
       "Q9Y6R7                                              0.282    False       197  \n",
       "Q9Y6X5                                              0.414    False       173  \n",
       "Q9Y6Y8;Q9Y6Y8-2                                     0.156    False       197  \n",
       "Q9Y6Y9                                              0.908    False       119  \n",
       "S4R3U6                                              0.104    False       126  \n",
       "\n",
       "[1421 rows x 17 columns]"
      ]
     },
     "execution_count": 20,
     "metadata": {},
     "output_type": "execute_result"
    }
   ],
   "source": [
    "scores_common = (scores\n",
    "                 .dropna()\n",
    "                 .reset_index(-1, drop=True)\n",
    "                 ).join(\n",
    "    freq_feat, how='left'\n",
    ")\n",
    "scores_common"
   ]
  },
  {
   "cell_type": "code",
   "execution_count": 21,
   "id": "80cf4145-070d-457a-bb74-ee64299809e7",
   "metadata": {
    "execution": {
     "iopub.execute_input": "2024-05-27T17:00:39.080829Z",
     "iopub.status.busy": "2024-05-27T17:00:39.080444Z",
     "iopub.status.idle": "2024-05-27T17:00:39.094898Z",
     "shell.execute_reply": "2024-05-27T17:00:39.094223Z"
    },
    "papermill": {
     "duration": 0.049361,
     "end_time": "2024-05-27T17:00:39.096684",
     "exception": false,
     "start_time": "2024-05-27T17:00:39.047323",
     "status": "completed"
    },
    "tags": [
     "hide-input"
    ]
   },
   "outputs": [
    {
     "data": {
      "text/plain": [
       "Differential Analysis Comparison\n",
       "PI (no)  - DAE (no)    877\n",
       "PI (yes) - DAE (yes)   337\n",
       "PI (no)  - DAE (yes)   152\n",
       "PI (yes) - DAE (no)     55\n",
       "Name: count, dtype: int64"
      ]
     },
     "execution_count": 21,
     "metadata": {},
     "output_type": "execute_result"
    }
   ],
   "source": [
    "def annotate_decision(scores, model, model_column):\n",
    "    return scores[(model_column, 'rejected')].replace({False: f'{model} (no) ', True: f'{model} (yes)'})\n",
    "\n",
    "\n",
    "annotations = None\n",
    "for model, model_column in models.items():\n",
    "    if annotations is not None:\n",
    "        annotations += ' - '\n",
    "        annotations += annotate_decision(scores_common,\n",
    "                                         model=model, model_column=model_column)\n",
    "    else:\n",
    "        annotations = annotate_decision(\n",
    "            scores_common, model=model, model_column=model_column)\n",
    "annotations.name = 'Differential Analysis Comparison'\n",
    "annotations.value_counts()"
   ]
  },
  {
   "cell_type": "code",
   "execution_count": 22,
   "id": "cda5ffa4-9a97-4a49-aaba-34e83ef7940a",
   "metadata": {
    "execution": {
     "iopub.execute_input": "2024-05-27T17:00:39.130378Z",
     "iopub.status.busy": "2024-05-27T17:00:39.130098Z",
     "iopub.status.idle": "2024-05-27T17:00:39.158014Z",
     "shell.execute_reply": "2024-05-27T17:00:39.157314Z"
    },
    "papermill": {
     "duration": 0.046303,
     "end_time": "2024-05-27T17:00:39.159800",
     "exception": false,
     "start_time": "2024-05-27T17:00:39.113497",
     "status": "completed"
    },
    "tags": [
     "hide-input"
    ]
   },
   "outputs": [
    {
     "data": {
      "text/html": [
       "<div>\n",
       "<style scoped>\n",
       "    .dataframe tbody tr th:only-of-type {\n",
       "        vertical-align: middle;\n",
       "    }\n",
       "\n",
       "    .dataframe tbody tr th {\n",
       "        vertical-align: top;\n",
       "    }\n",
       "\n",
       "    .dataframe thead tr th {\n",
       "        text-align: left;\n",
       "    }\n",
       "\n",
       "    .dataframe thead tr:last-of-type th {\n",
       "        text-align: right;\n",
       "    }\n",
       "</style>\n",
       "<table border=\"1\" class=\"dataframe\">\n",
       "  <thead>\n",
       "    <tr>\n",
       "      <th></th>\n",
       "      <th colspan=\"8\" halign=\"left\">PI</th>\n",
       "      <th colspan=\"8\" halign=\"left\">DAE</th>\n",
       "      <th>data</th>\n",
       "    </tr>\n",
       "    <tr>\n",
       "      <th></th>\n",
       "      <th>SS</th>\n",
       "      <th>DF</th>\n",
       "      <th>F</th>\n",
       "      <th>p-unc</th>\n",
       "      <th>np2</th>\n",
       "      <th>-Log10 pvalue</th>\n",
       "      <th>qvalue</th>\n",
       "      <th>rejected</th>\n",
       "      <th>SS</th>\n",
       "      <th>DF</th>\n",
       "      <th>F</th>\n",
       "      <th>p-unc</th>\n",
       "      <th>np2</th>\n",
       "      <th>-Log10 pvalue</th>\n",
       "      <th>qvalue</th>\n",
       "      <th>rejected</th>\n",
       "      <th>frequency</th>\n",
       "    </tr>\n",
       "    <tr>\n",
       "      <th>protein groups</th>\n",
       "      <th></th>\n",
       "      <th></th>\n",
       "      <th></th>\n",
       "      <th></th>\n",
       "      <th></th>\n",
       "      <th></th>\n",
       "      <th></th>\n",
       "      <th></th>\n",
       "      <th></th>\n",
       "      <th></th>\n",
       "      <th></th>\n",
       "      <th></th>\n",
       "      <th></th>\n",
       "      <th></th>\n",
       "      <th></th>\n",
       "      <th></th>\n",
       "      <th></th>\n",
       "    </tr>\n",
       "  </thead>\n",
       "  <tbody>\n",
       "    <tr>\n",
       "      <th>A0A024QZX5;A0A087X1N8;P35237</th>\n",
       "      <td>0.251</td>\n",
       "      <td>1</td>\n",
       "      <td>0.422</td>\n",
       "      <td>0.517</td>\n",
       "      <td>0.002</td>\n",
       "      <td>0.287</td>\n",
       "      <td>0.668</td>\n",
       "      <td>False</td>\n",
       "      <td>1.111</td>\n",
       "      <td>1</td>\n",
       "      <td>7.956</td>\n",
       "      <td>0.005</td>\n",
       "      <td>0.040</td>\n",
       "      <td>2.276</td>\n",
       "      <td>0.016</td>\n",
       "      <td>True</td>\n",
       "      <td>186</td>\n",
       "    </tr>\n",
       "    <tr>\n",
       "      <th>A0A075B6H7</th>\n",
       "      <td>5.589</td>\n",
       "      <td>1</td>\n",
       "      <td>1.391</td>\n",
       "      <td>0.240</td>\n",
       "      <td>0.007</td>\n",
       "      <td>0.620</td>\n",
       "      <td>0.396</td>\n",
       "      <td>False</td>\n",
       "      <td>4.868</td>\n",
       "      <td>1</td>\n",
       "      <td>5.484</td>\n",
       "      <td>0.020</td>\n",
       "      <td>0.028</td>\n",
       "      <td>1.694</td>\n",
       "      <td>0.049</td>\n",
       "      <td>True</td>\n",
       "      <td>91</td>\n",
       "    </tr>\n",
       "    <tr>\n",
       "      <th>A0A075B6J9</th>\n",
       "      <td>12.927</td>\n",
       "      <td>1</td>\n",
       "      <td>5.416</td>\n",
       "      <td>0.021</td>\n",
       "      <td>0.028</td>\n",
       "      <td>1.678</td>\n",
       "      <td>0.062</td>\n",
       "      <td>False</td>\n",
       "      <td>4.335</td>\n",
       "      <td>1</td>\n",
       "      <td>6.722</td>\n",
       "      <td>0.010</td>\n",
       "      <td>0.034</td>\n",
       "      <td>1.989</td>\n",
       "      <td>0.027</td>\n",
       "      <td>True</td>\n",
       "      <td>156</td>\n",
       "    </tr>\n",
       "    <tr>\n",
       "      <th>A0A075B6Q5</th>\n",
       "      <td>0.075</td>\n",
       "      <td>1</td>\n",
       "      <td>0.020</td>\n",
       "      <td>0.888</td>\n",
       "      <td>0.000</td>\n",
       "      <td>0.052</td>\n",
       "      <td>0.936</td>\n",
       "      <td>False</td>\n",
       "      <td>2.882</td>\n",
       "      <td>1</td>\n",
       "      <td>7.307</td>\n",
       "      <td>0.007</td>\n",
       "      <td>0.037</td>\n",
       "      <td>2.126</td>\n",
       "      <td>0.021</td>\n",
       "      <td>True</td>\n",
       "      <td>104</td>\n",
       "    </tr>\n",
       "    <tr>\n",
       "      <th>A0A075B6R2</th>\n",
       "      <td>5.054</td>\n",
       "      <td>1</td>\n",
       "      <td>1.460</td>\n",
       "      <td>0.228</td>\n",
       "      <td>0.008</td>\n",
       "      <td>0.641</td>\n",
       "      <td>0.382</td>\n",
       "      <td>False</td>\n",
       "      <td>6.859</td>\n",
       "      <td>1</td>\n",
       "      <td>12.171</td>\n",
       "      <td>0.001</td>\n",
       "      <td>0.060</td>\n",
       "      <td>3.220</td>\n",
       "      <td>0.002</td>\n",
       "      <td>True</td>\n",
       "      <td>164</td>\n",
       "    </tr>\n",
       "    <tr>\n",
       "      <th>...</th>\n",
       "      <td>...</td>\n",
       "      <td>...</td>\n",
       "      <td>...</td>\n",
       "      <td>...</td>\n",
       "      <td>...</td>\n",
       "      <td>...</td>\n",
       "      <td>...</td>\n",
       "      <td>...</td>\n",
       "      <td>...</td>\n",
       "      <td>...</td>\n",
       "      <td>...</td>\n",
       "      <td>...</td>\n",
       "      <td>...</td>\n",
       "      <td>...</td>\n",
       "      <td>...</td>\n",
       "      <td>...</td>\n",
       "      <td>...</td>\n",
       "    </tr>\n",
       "    <tr>\n",
       "      <th>Q9UNW1</th>\n",
       "      <td>9.487</td>\n",
       "      <td>1</td>\n",
       "      <td>7.765</td>\n",
       "      <td>0.006</td>\n",
       "      <td>0.039</td>\n",
       "      <td>2.232</td>\n",
       "      <td>0.022</td>\n",
       "      <td>True</td>\n",
       "      <td>0.004</td>\n",
       "      <td>1</td>\n",
       "      <td>0.033</td>\n",
       "      <td>0.855</td>\n",
       "      <td>0.000</td>\n",
       "      <td>0.068</td>\n",
       "      <td>0.908</td>\n",
       "      <td>False</td>\n",
       "      <td>171</td>\n",
       "    </tr>\n",
       "    <tr>\n",
       "      <th>Q9UP79</th>\n",
       "      <td>6.074</td>\n",
       "      <td>1</td>\n",
       "      <td>3.556</td>\n",
       "      <td>0.061</td>\n",
       "      <td>0.018</td>\n",
       "      <td>1.216</td>\n",
       "      <td>0.142</td>\n",
       "      <td>False</td>\n",
       "      <td>2.783</td>\n",
       "      <td>1</td>\n",
       "      <td>17.482</td>\n",
       "      <td>0.000</td>\n",
       "      <td>0.084</td>\n",
       "      <td>4.355</td>\n",
       "      <td>0.000</td>\n",
       "      <td>True</td>\n",
       "      <td>135</td>\n",
       "    </tr>\n",
       "    <tr>\n",
       "      <th>Q9UQ52</th>\n",
       "      <td>1.269</td>\n",
       "      <td>1</td>\n",
       "      <td>1.861</td>\n",
       "      <td>0.174</td>\n",
       "      <td>0.010</td>\n",
       "      <td>0.759</td>\n",
       "      <td>0.316</td>\n",
       "      <td>False</td>\n",
       "      <td>1.851</td>\n",
       "      <td>1</td>\n",
       "      <td>12.509</td>\n",
       "      <td>0.001</td>\n",
       "      <td>0.061</td>\n",
       "      <td>3.294</td>\n",
       "      <td>0.002</td>\n",
       "      <td>True</td>\n",
       "      <td>188</td>\n",
       "    </tr>\n",
       "    <tr>\n",
       "      <th>Q9Y281;Q9Y281-3</th>\n",
       "      <td>1.686</td>\n",
       "      <td>1</td>\n",
       "      <td>3.487</td>\n",
       "      <td>0.063</td>\n",
       "      <td>0.018</td>\n",
       "      <td>1.198</td>\n",
       "      <td>0.147</td>\n",
       "      <td>False</td>\n",
       "      <td>1.217</td>\n",
       "      <td>1</td>\n",
       "      <td>9.208</td>\n",
       "      <td>0.003</td>\n",
       "      <td>0.046</td>\n",
       "      <td>2.561</td>\n",
       "      <td>0.009</td>\n",
       "      <td>True</td>\n",
       "      <td>51</td>\n",
       "    </tr>\n",
       "    <tr>\n",
       "      <th>Q9Y6C2</th>\n",
       "      <td>0.004</td>\n",
       "      <td>1</td>\n",
       "      <td>0.003</td>\n",
       "      <td>0.953</td>\n",
       "      <td>0.000</td>\n",
       "      <td>0.021</td>\n",
       "      <td>0.972</td>\n",
       "      <td>False</td>\n",
       "      <td>6.289</td>\n",
       "      <td>1</td>\n",
       "      <td>13.200</td>\n",
       "      <td>0.000</td>\n",
       "      <td>0.065</td>\n",
       "      <td>3.444</td>\n",
       "      <td>0.001</td>\n",
       "      <td>True</td>\n",
       "      <td>119</td>\n",
       "    </tr>\n",
       "  </tbody>\n",
       "</table>\n",
       "<p>207 rows × 17 columns</p>\n",
       "</div>"
      ],
      "text/plain": [
       "                                 PI                                            \\\n",
       "                                 SS DF     F p-unc   np2 -Log10 pvalue qvalue   \n",
       "protein groups                                                                  \n",
       "A0A024QZX5;A0A087X1N8;P35237  0.251  1 0.422 0.517 0.002         0.287  0.668   \n",
       "A0A075B6H7                    5.589  1 1.391 0.240 0.007         0.620  0.396   \n",
       "A0A075B6J9                   12.927  1 5.416 0.021 0.028         1.678  0.062   \n",
       "A0A075B6Q5                    0.075  1 0.020 0.888 0.000         0.052  0.936   \n",
       "A0A075B6R2                    5.054  1 1.460 0.228 0.008         0.641  0.382   \n",
       "...                             ... ..   ...   ...   ...           ...    ...   \n",
       "Q9UNW1                        9.487  1 7.765 0.006 0.039         2.232  0.022   \n",
       "Q9UP79                        6.074  1 3.556 0.061 0.018         1.216  0.142   \n",
       "Q9UQ52                        1.269  1 1.861 0.174 0.010         0.759  0.316   \n",
       "Q9Y281;Q9Y281-3               1.686  1 3.487 0.063 0.018         1.198  0.147   \n",
       "Q9Y6C2                        0.004  1 0.003 0.953 0.000         0.021  0.972   \n",
       "\n",
       "                                        DAE                        \\\n",
       "                             rejected    SS DF      F p-unc   np2   \n",
       "protein groups                                                      \n",
       "A0A024QZX5;A0A087X1N8;P35237    False 1.111  1  7.956 0.005 0.040   \n",
       "A0A075B6H7                      False 4.868  1  5.484 0.020 0.028   \n",
       "A0A075B6J9                      False 4.335  1  6.722 0.010 0.034   \n",
       "A0A075B6Q5                      False 2.882  1  7.307 0.007 0.037   \n",
       "A0A075B6R2                      False 6.859  1 12.171 0.001 0.060   \n",
       "...                               ...   ... ..    ...   ...   ...   \n",
       "Q9UNW1                           True 0.004  1  0.033 0.855 0.000   \n",
       "Q9UP79                          False 2.783  1 17.482 0.000 0.084   \n",
       "Q9UQ52                          False 1.851  1 12.509 0.001 0.061   \n",
       "Q9Y281;Q9Y281-3                 False 1.217  1  9.208 0.003 0.046   \n",
       "Q9Y6C2                          False 6.289  1 13.200 0.000 0.065   \n",
       "\n",
       "                                                                data  \n",
       "                             -Log10 pvalue qvalue rejected frequency  \n",
       "protein groups                                                        \n",
       "A0A024QZX5;A0A087X1N8;P35237         2.276  0.016     True       186  \n",
       "A0A075B6H7                           1.694  0.049     True        91  \n",
       "A0A075B6J9                           1.989  0.027     True       156  \n",
       "A0A075B6Q5                           2.126  0.021     True       104  \n",
       "A0A075B6R2                           3.220  0.002     True       164  \n",
       "...                                    ...    ...      ...       ...  \n",
       "Q9UNW1                               0.068  0.908    False       171  \n",
       "Q9UP79                               4.355  0.000     True       135  \n",
       "Q9UQ52                               3.294  0.002     True       188  \n",
       "Q9Y281;Q9Y281-3                      2.561  0.009     True        51  \n",
       "Q9Y6C2                               3.444  0.001     True       119  \n",
       "\n",
       "[207 rows x 17 columns]"
      ]
     },
     "execution_count": 22,
     "metadata": {},
     "output_type": "execute_result"
    }
   ],
   "source": [
    "mask_different = (\n",
    "    (scores_common.loc[:, pd.IndexSlice[:, 'rejected']].any(axis=1))\n",
    "    & ~(scores_common.loc[:, pd.IndexSlice[:, 'rejected']].all(axis=1))\n",
    ")\n",
    "\n",
    "scores_common.loc[mask_different]"
   ]
  },
  {
   "cell_type": "code",
   "execution_count": 23,
   "id": "b9e2739b-a09a-4113-a3f8-f29d6ed398b7",
   "metadata": {
    "execution": {
     "iopub.execute_input": "2024-05-27T17:00:39.193563Z",
     "iopub.status.busy": "2024-05-27T17:00:39.193280Z",
     "iopub.status.idle": "2024-05-27T17:00:39.283136Z",
     "shell.execute_reply": "2024-05-27T17:00:39.282262Z"
    },
    "papermill": {
     "duration": 0.10864,
     "end_time": "2024-05-27T17:00:39.285263",
     "exception": false,
     "start_time": "2024-05-27T17:00:39.176623",
     "status": "completed"
    },
    "tags": [
     "hide-input"
    ]
   },
   "outputs": [],
   "source": [
    "_to_write = scores_common.loc[mask_different]\n",
    "_to_write.to_excel(writer, 'differences', **writer_args)"
   ]
  },
  {
   "cell_type": "code",
   "execution_count": 24,
   "id": "5b2e5341-b054-40c3-b45a-44ae6ca46cfb",
   "metadata": {
    "execution": {
     "iopub.execute_input": "2024-05-27T17:00:39.322622Z",
     "iopub.status.busy": "2024-05-27T17:00:39.322314Z",
     "iopub.status.idle": "2024-05-27T17:00:39.450961Z",
     "shell.execute_reply": "2024-05-27T17:00:39.450206Z"
    },
    "papermill": {
     "duration": 0.14896,
     "end_time": "2024-05-27T17:00:39.452870",
     "exception": false,
     "start_time": "2024-05-27T17:00:39.303910",
     "status": "completed"
    },
    "tags": [
     "hide-input"
    ]
   },
   "outputs": [
    {
     "data": {
      "text/html": [
       "<div>\n",
       "<style scoped>\n",
       "    .dataframe tbody tr th:only-of-type {\n",
       "        vertical-align: middle;\n",
       "    }\n",
       "\n",
       "    .dataframe tbody tr th {\n",
       "        vertical-align: top;\n",
       "    }\n",
       "\n",
       "    .dataframe thead th {\n",
       "        text-align: right;\n",
       "    }\n",
       "</style>\n",
       "<table border=\"1\" class=\"dataframe\">\n",
       "  <thead>\n",
       "    <tr style=\"text-align: right;\">\n",
       "      <th></th>\n",
       "      <th>PI</th>\n",
       "      <th>DAE</th>\n",
       "      <th>frequency</th>\n",
       "      <th>Differential Analysis Comparison</th>\n",
       "    </tr>\n",
       "    <tr>\n",
       "      <th>protein groups</th>\n",
       "      <th></th>\n",
       "      <th></th>\n",
       "      <th></th>\n",
       "      <th></th>\n",
       "    </tr>\n",
       "  </thead>\n",
       "  <tbody>\n",
       "    <tr>\n",
       "      <th>A0A024QZX5;A0A087X1N8;P35237</th>\n",
       "      <td>0.668</td>\n",
       "      <td>0.016</td>\n",
       "      <td>186</td>\n",
       "      <td>PI (no)  - DAE (yes)</td>\n",
       "    </tr>\n",
       "    <tr>\n",
       "      <th>A0A024R0T9;K7ER74;P02655</th>\n",
       "      <td>0.112</td>\n",
       "      <td>0.071</td>\n",
       "      <td>195</td>\n",
       "      <td>PI (no)  - DAE (no)</td>\n",
       "    </tr>\n",
       "    <tr>\n",
       "      <th>A0A024R3W6;A0A024R412;O60462;O60462-2;O60462-3;O60462-4;O60462-5;Q7LBX6;X5D2Q8</th>\n",
       "      <td>0.176</td>\n",
       "      <td>0.445</td>\n",
       "      <td>174</td>\n",
       "      <td>PI (no)  - DAE (no)</td>\n",
       "    </tr>\n",
       "    <tr>\n",
       "      <th>A0A024R644;A0A0A0MRU5;A0A1B0GWI2;O75503</th>\n",
       "      <td>0.708</td>\n",
       "      <td>0.375</td>\n",
       "      <td>196</td>\n",
       "      <td>PI (no)  - DAE (no)</td>\n",
       "    </tr>\n",
       "    <tr>\n",
       "      <th>A0A075B6H7</th>\n",
       "      <td>0.396</td>\n",
       "      <td>0.049</td>\n",
       "      <td>91</td>\n",
       "      <td>PI (no)  - DAE (yes)</td>\n",
       "    </tr>\n",
       "    <tr>\n",
       "      <th>...</th>\n",
       "      <td>...</td>\n",
       "      <td>...</td>\n",
       "      <td>...</td>\n",
       "      <td>...</td>\n",
       "    </tr>\n",
       "    <tr>\n",
       "      <th>Q9Y6R7</th>\n",
       "      <td>0.318</td>\n",
       "      <td>0.282</td>\n",
       "      <td>197</td>\n",
       "      <td>PI (no)  - DAE (no)</td>\n",
       "    </tr>\n",
       "    <tr>\n",
       "      <th>Q9Y6X5</th>\n",
       "      <td>0.158</td>\n",
       "      <td>0.414</td>\n",
       "      <td>173</td>\n",
       "      <td>PI (no)  - DAE (no)</td>\n",
       "    </tr>\n",
       "    <tr>\n",
       "      <th>Q9Y6Y8;Q9Y6Y8-2</th>\n",
       "      <td>0.182</td>\n",
       "      <td>0.156</td>\n",
       "      <td>197</td>\n",
       "      <td>PI (no)  - DAE (no)</td>\n",
       "    </tr>\n",
       "    <tr>\n",
       "      <th>Q9Y6Y9</th>\n",
       "      <td>0.330</td>\n",
       "      <td>0.908</td>\n",
       "      <td>119</td>\n",
       "      <td>PI (no)  - DAE (no)</td>\n",
       "    </tr>\n",
       "    <tr>\n",
       "      <th>S4R3U6</th>\n",
       "      <td>0.537</td>\n",
       "      <td>0.104</td>\n",
       "      <td>126</td>\n",
       "      <td>PI (no)  - DAE (no)</td>\n",
       "    </tr>\n",
       "  </tbody>\n",
       "</table>\n",
       "<p>1421 rows × 4 columns</p>\n",
       "</div>"
      ],
      "text/plain": [
       "                                                      PI   DAE  frequency  \\\n",
       "protein groups                                                              \n",
       "A0A024QZX5;A0A087X1N8;P35237                       0.668 0.016        186   \n",
       "A0A024R0T9;K7ER74;P02655                           0.112 0.071        195   \n",
       "A0A024R3W6;A0A024R412;O60462;O60462-2;O60462-3;... 0.176 0.445        174   \n",
       "A0A024R644;A0A0A0MRU5;A0A1B0GWI2;O75503            0.708 0.375        196   \n",
       "A0A075B6H7                                         0.396 0.049         91   \n",
       "...                                                  ...   ...        ...   \n",
       "Q9Y6R7                                             0.318 0.282        197   \n",
       "Q9Y6X5                                             0.158 0.414        173   \n",
       "Q9Y6Y8;Q9Y6Y8-2                                    0.182 0.156        197   \n",
       "Q9Y6Y9                                             0.330 0.908        119   \n",
       "S4R3U6                                             0.537 0.104        126   \n",
       "\n",
       "                                                   Differential Analysis Comparison  \n",
       "protein groups                                                                       \n",
       "A0A024QZX5;A0A087X1N8;P35237                                   PI (no)  - DAE (yes)  \n",
       "A0A024R0T9;K7ER74;P02655                                       PI (no)  - DAE (no)   \n",
       "A0A024R3W6;A0A024R412;O60462;O60462-2;O60462-3;...             PI (no)  - DAE (no)   \n",
       "A0A024R644;A0A0A0MRU5;A0A1B0GWI2;O75503                        PI (no)  - DAE (no)   \n",
       "A0A075B6H7                                                     PI (no)  - DAE (yes)  \n",
       "...                                                                             ...  \n",
       "Q9Y6R7                                                         PI (no)  - DAE (no)   \n",
       "Q9Y6X5                                                         PI (no)  - DAE (no)   \n",
       "Q9Y6Y8;Q9Y6Y8-2                                                PI (no)  - DAE (no)   \n",
       "Q9Y6Y9                                                         PI (no)  - DAE (no)   \n",
       "S4R3U6                                                         PI (no)  - DAE (no)   \n",
       "\n",
       "[1421 rows x 4 columns]"
      ]
     },
     "execution_count": 24,
     "metadata": {},
     "output_type": "execute_result"
    }
   ],
   "source": [
    "var = 'qvalue'\n",
    "to_plot = [scores_common[v][var] for v in models.values()]\n",
    "for s, k in zip(to_plot, models.keys()):\n",
    "    s.name = k.replace('_', ' ')\n",
    "to_plot.append(scores_common['data'])\n",
    "to_plot.append(annotations)\n",
    "to_plot = pd.concat(to_plot, axis=1)\n",
    "to_plot"
   ]
  },
  {
   "cell_type": "markdown",
   "id": "c92517a4-8456-4663-b719-4abd997fbb1c",
   "metadata": {
    "papermill": {
     "duration": 0.015205,
     "end_time": "2024-05-27T17:00:39.486478",
     "exception": false,
     "start_time": "2024-05-27T17:00:39.471273",
     "status": "completed"
    },
    "tags": []
   },
   "source": [
    "## Plot of intensities for most extreme example"
   ]
  },
  {
   "cell_type": "code",
   "execution_count": 25,
   "id": "c7af4a70-aa43-4772-af00-d425f5ed249f",
   "metadata": {
    "execution": {
     "iopub.execute_input": "2024-05-27T17:00:39.516897Z",
     "iopub.status.busy": "2024-05-27T17:00:39.516581Z",
     "iopub.status.idle": "2024-05-27T17:00:39.533426Z",
     "shell.execute_reply": "2024-05-27T17:00:39.532774Z"
    },
    "papermill": {
     "duration": 0.034412,
     "end_time": "2024-05-27T17:00:39.535391",
     "exception": false,
     "start_time": "2024-05-27T17:00:39.500979",
     "status": "completed"
    },
    "tags": [
     "hide-input"
    ]
   },
   "outputs": [
    {
     "data": {
      "text/html": [
       "<div>\n",
       "<style scoped>\n",
       "    .dataframe tbody tr th:only-of-type {\n",
       "        vertical-align: middle;\n",
       "    }\n",
       "\n",
       "    .dataframe tbody tr th {\n",
       "        vertical-align: top;\n",
       "    }\n",
       "\n",
       "    .dataframe thead th {\n",
       "        text-align: right;\n",
       "    }\n",
       "</style>\n",
       "<table border=\"1\" class=\"dataframe\">\n",
       "  <thead>\n",
       "    <tr style=\"text-align: right;\">\n",
       "      <th></th>\n",
       "      <th>PI</th>\n",
       "      <th>DAE</th>\n",
       "      <th>frequency</th>\n",
       "      <th>Differential Analysis Comparison</th>\n",
       "      <th>diff_qvalue</th>\n",
       "    </tr>\n",
       "    <tr>\n",
       "      <th>protein groups</th>\n",
       "      <th></th>\n",
       "      <th></th>\n",
       "      <th></th>\n",
       "      <th></th>\n",
       "      <th></th>\n",
       "    </tr>\n",
       "  </thead>\n",
       "  <tbody>\n",
       "    <tr>\n",
       "      <th>Q9Y6C2</th>\n",
       "      <td>0.972</td>\n",
       "      <td>0.001</td>\n",
       "      <td>119</td>\n",
       "      <td>PI (no)  - DAE (yes)</td>\n",
       "      <td>0.970</td>\n",
       "    </tr>\n",
       "    <tr>\n",
       "      <th>O15204;O15204-2</th>\n",
       "      <td>0.992</td>\n",
       "      <td>0.026</td>\n",
       "      <td>156</td>\n",
       "      <td>PI (no)  - DAE (yes)</td>\n",
       "      <td>0.967</td>\n",
       "    </tr>\n",
       "    <tr>\n",
       "      <th>P37802;P37802-2;X6RJP6</th>\n",
       "      <td>0.021</td>\n",
       "      <td>0.974</td>\n",
       "      <td>110</td>\n",
       "      <td>PI (yes) - DAE (no)</td>\n",
       "      <td>0.953</td>\n",
       "    </tr>\n",
       "    <tr>\n",
       "      <th>Q969Z4</th>\n",
       "      <td>0.978</td>\n",
       "      <td>0.025</td>\n",
       "      <td>91</td>\n",
       "      <td>PI (no)  - DAE (yes)</td>\n",
       "      <td>0.952</td>\n",
       "    </tr>\n",
       "    <tr>\n",
       "      <th>P17931</th>\n",
       "      <td>0.974</td>\n",
       "      <td>0.022</td>\n",
       "      <td>174</td>\n",
       "      <td>PI (no)  - DAE (yes)</td>\n",
       "      <td>0.952</td>\n",
       "    </tr>\n",
       "    <tr>\n",
       "      <th>...</th>\n",
       "      <td>...</td>\n",
       "      <td>...</td>\n",
       "      <td>...</td>\n",
       "      <td>...</td>\n",
       "      <td>...</td>\n",
       "    </tr>\n",
       "    <tr>\n",
       "      <th>Q14624</th>\n",
       "      <td>0.058</td>\n",
       "      <td>0.047</td>\n",
       "      <td>197</td>\n",
       "      <td>PI (no)  - DAE (yes)</td>\n",
       "      <td>0.011</td>\n",
       "    </tr>\n",
       "    <tr>\n",
       "      <th>F5GY80;F5H7G1;P07358</th>\n",
       "      <td>0.057</td>\n",
       "      <td>0.046</td>\n",
       "      <td>197</td>\n",
       "      <td>PI (no)  - DAE (yes)</td>\n",
       "      <td>0.011</td>\n",
       "    </tr>\n",
       "    <tr>\n",
       "      <th>Q9NX62</th>\n",
       "      <td>0.055</td>\n",
       "      <td>0.045</td>\n",
       "      <td>197</td>\n",
       "      <td>PI (no)  - DAE (yes)</td>\n",
       "      <td>0.010</td>\n",
       "    </tr>\n",
       "    <tr>\n",
       "      <th>K7ERG9;P00746</th>\n",
       "      <td>0.052</td>\n",
       "      <td>0.042</td>\n",
       "      <td>197</td>\n",
       "      <td>PI (no)  - DAE (yes)</td>\n",
       "      <td>0.010</td>\n",
       "    </tr>\n",
       "    <tr>\n",
       "      <th>P00740;P00740-2</th>\n",
       "      <td>0.052</td>\n",
       "      <td>0.043</td>\n",
       "      <td>197</td>\n",
       "      <td>PI (no)  - DAE (yes)</td>\n",
       "      <td>0.010</td>\n",
       "    </tr>\n",
       "  </tbody>\n",
       "</table>\n",
       "<p>207 rows × 5 columns</p>\n",
       "</div>"
      ],
      "text/plain": [
       "                          PI   DAE  frequency  \\\n",
       "protein groups                                  \n",
       "Q9Y6C2                 0.972 0.001        119   \n",
       "O15204;O15204-2        0.992 0.026        156   \n",
       "P37802;P37802-2;X6RJP6 0.021 0.974        110   \n",
       "Q969Z4                 0.978 0.025         91   \n",
       "P17931                 0.974 0.022        174   \n",
       "...                      ...   ...        ...   \n",
       "Q14624                 0.058 0.047        197   \n",
       "F5GY80;F5H7G1;P07358   0.057 0.046        197   \n",
       "Q9NX62                 0.055 0.045        197   \n",
       "K7ERG9;P00746          0.052 0.042        197   \n",
       "P00740;P00740-2        0.052 0.043        197   \n",
       "\n",
       "                       Differential Analysis Comparison  diff_qvalue  \n",
       "protein groups                                                        \n",
       "Q9Y6C2                             PI (no)  - DAE (yes)        0.970  \n",
       "O15204;O15204-2                    PI (no)  - DAE (yes)        0.967  \n",
       "P37802;P37802-2;X6RJP6             PI (yes) - DAE (no)         0.953  \n",
       "Q969Z4                             PI (no)  - DAE (yes)        0.952  \n",
       "P17931                             PI (no)  - DAE (yes)        0.952  \n",
       "...                                                 ...          ...  \n",
       "Q14624                             PI (no)  - DAE (yes)        0.011  \n",
       "F5GY80;F5H7G1;P07358               PI (no)  - DAE (yes)        0.011  \n",
       "Q9NX62                             PI (no)  - DAE (yes)        0.010  \n",
       "K7ERG9;P00746                      PI (no)  - DAE (yes)        0.010  \n",
       "P00740;P00740-2                    PI (no)  - DAE (yes)        0.010  \n",
       "\n",
       "[207 rows x 5 columns]"
      ]
     },
     "execution_count": 25,
     "metadata": {},
     "output_type": "execute_result"
    }
   ],
   "source": [
    "# should it be possible to run not only RSN?\n",
    "to_plot['diff_qvalue'] = (to_plot[str(args.baseline)] - to_plot[str(args.model_key)]).abs()\n",
    "to_plot.loc[mask_different].sort_values('diff_qvalue', ascending=False)"
   ]
  },
  {
   "cell_type": "markdown",
   "id": "e715954e-2d62-4cd9-b4b0-063524bca495",
   "metadata": {
    "papermill": {
     "duration": 0.017129,
     "end_time": "2024-05-27T17:00:39.570026",
     "exception": false,
     "start_time": "2024-05-27T17:00:39.552897",
     "status": "completed"
    },
    "tags": []
   },
   "source": [
    "## Differences plotted\n",
    "\n",
    "- first only using created annotations"
   ]
  },
  {
   "cell_type": "code",
   "execution_count": 26,
   "id": "a20d356d-c397-4440-b70e-9d899aa200fd",
   "metadata": {
    "execution": {
     "iopub.execute_input": "2024-05-27T17:00:39.607556Z",
     "iopub.status.busy": "2024-05-27T17:00:39.607214Z",
     "iopub.status.idle": "2024-05-27T17:00:41.126006Z",
     "shell.execute_reply": "2024-05-27T17:00:41.125207Z"
    },
    "papermill": {
     "duration": 1.540749,
     "end_time": "2024-05-27T17:00:41.128044",
     "exception": false,
     "start_time": "2024-05-27T17:00:39.587295",
     "status": "completed"
    },
    "tags": [
     "hide-input"
    ]
   },
   "outputs": [
    {
     "name": "stderr",
     "output_type": "stream",
     "text": [
      "fontTools.subset - INFO     maxp pruned\n"
     ]
    },
    {
     "name": "stderr",
     "output_type": "stream",
     "text": [
      "fontTools.subset - INFO     cmap pruned\n"
     ]
    },
    {
     "name": "stderr",
     "output_type": "stream",
     "text": [
      "fontTools.subset - INFO     kern dropped\n"
     ]
    },
    {
     "name": "stderr",
     "output_type": "stream",
     "text": [
      "fontTools.subset - INFO     post pruned\n"
     ]
    },
    {
     "name": "stderr",
     "output_type": "stream",
     "text": [
      "fontTools.subset - INFO     FFTM dropped\n"
     ]
    },
    {
     "name": "stderr",
     "output_type": "stream",
     "text": [
      "fontTools.subset - INFO     GPOS pruned\n"
     ]
    },
    {
     "name": "stderr",
     "output_type": "stream",
     "text": [
      "fontTools.subset - INFO     GSUB pruned\n"
     ]
    },
    {
     "name": "stderr",
     "output_type": "stream",
     "text": [
      "fontTools.subset - INFO     glyf pruned\n"
     ]
    },
    {
     "name": "stderr",
     "output_type": "stream",
     "text": [
      "fontTools.subset - INFO     Added gid0 to subset\n"
     ]
    },
    {
     "name": "stderr",
     "output_type": "stream",
     "text": [
      "fontTools.subset - INFO     Added first four glyphs to subset\n"
     ]
    },
    {
     "name": "stderr",
     "output_type": "stream",
     "text": [
      "fontTools.subset - INFO     Closing glyph list over 'MATH': 31 glyphs before\n"
     ]
    },
    {
     "name": "stderr",
     "output_type": "stream",
     "text": [
      "fontTools.subset - INFO     Glyph names: ['.notdef', '.null', 'A', 'D', 'E', 'I', 'P', 'a', 'e', 'eight', 'f', 'four', 'hyphen', 'l', 'n', 'nonmarkingreturn', 'o', 'one', 'parenleft', 'parenright', 'period', 'q', 'r', 's', 'six', 'space', 'two', 'u', 'v', 'y', 'zero']\n"
     ]
    },
    {
     "name": "stderr",
     "output_type": "stream",
     "text": [
      "fontTools.subset - INFO     Glyph IDs:   [0, 1, 2, 3, 11, 12, 16, 17, 19, 20, 21, 23, 25, 27, 36, 39, 40, 44, 51, 68, 72, 73, 79, 81, 82, 84, 85, 86, 88, 89, 92]\n"
     ]
    },
    {
     "name": "stderr",
     "output_type": "stream",
     "text": [
      "fontTools.subset - INFO     Closed glyph list over 'MATH': 37 glyphs after\n"
     ]
    },
    {
     "name": "stderr",
     "output_type": "stream",
     "text": [
      "fontTools.subset - INFO     Glyph names: ['.notdef', '.null', 'A', 'D', 'E', 'I', 'P', 'a', 'e', 'eight', 'f', 'four', 'hyphen', 'l', 'n', 'nonmarkingreturn', 'o', 'one', 'parenleft', 'parenright', 'period', 'q', 'r', 's', 'six', 'space', 'two', 'u', 'uni239B', 'uni239C', 'uni239D', 'uni239E', 'uni239F', 'uni23A0', 'v', 'y', 'zero']\n"
     ]
    },
    {
     "name": "stderr",
     "output_type": "stream",
     "text": [
      "fontTools.subset - INFO     Glyph IDs:   [0, 1, 2, 3, 11, 12, 16, 17, 19, 20, 21, 23, 25, 27, 36, 39, 40, 44, 51, 68, 72, 73, 79, 81, 82, 84, 85, 86, 88, 89, 92, 3506, 3507, 3508, 3509, 3510, 3511]\n"
     ]
    },
    {
     "name": "stderr",
     "output_type": "stream",
     "text": [
      "fontTools.subset - INFO     Closing glyph list over 'GSUB': 37 glyphs before\n"
     ]
    },
    {
     "name": "stderr",
     "output_type": "stream",
     "text": [
      "fontTools.subset - INFO     Glyph names: ['.notdef', '.null', 'A', 'D', 'E', 'I', 'P', 'a', 'e', 'eight', 'f', 'four', 'hyphen', 'l', 'n', 'nonmarkingreturn', 'o', 'one', 'parenleft', 'parenright', 'period', 'q', 'r', 's', 'six', 'space', 'two', 'u', 'uni239B', 'uni239C', 'uni239D', 'uni239E', 'uni239F', 'uni23A0', 'v', 'y', 'zero']\n"
     ]
    },
    {
     "name": "stderr",
     "output_type": "stream",
     "text": [
      "fontTools.subset - INFO     Glyph IDs:   [0, 1, 2, 3, 11, 12, 16, 17, 19, 20, 21, 23, 25, 27, 36, 39, 40, 44, 51, 68, 72, 73, 79, 81, 82, 84, 85, 86, 88, 89, 92, 3506, 3507, 3508, 3509, 3510, 3511]\n"
     ]
    },
    {
     "name": "stderr",
     "output_type": "stream",
     "text": [
      "fontTools.subset - INFO     Closed glyph list over 'GSUB': 40 glyphs after\n"
     ]
    },
    {
     "name": "stderr",
     "output_type": "stream",
     "text": [
      "fontTools.subset - INFO     Glyph names: ['.notdef', '.null', 'A', 'D', 'E', 'I', 'P', 'a', 'e', 'eight', 'f', 'fl', 'four', 'hyphen', 'l', 'n', 'nonmarkingreturn', 'o', 'one', 'parenleft', 'parenright', 'period', 'q', 'r', 's', 'six', 'space', 'two', 'u', 'uni239B', 'uni239C', 'uni239D', 'uni239E', 'uni239F', 'uni23A0', 'uniFB00', 'uniFB04', 'v', 'y', 'zero']\n"
     ]
    },
    {
     "name": "stderr",
     "output_type": "stream",
     "text": [
      "fontTools.subset - INFO     Glyph IDs:   [0, 1, 2, 3, 11, 12, 16, 17, 19, 20, 21, 23, 25, 27, 36, 39, 40, 44, 51, 68, 72, 73, 79, 81, 82, 84, 85, 86, 88, 89, 92, 3506, 3507, 3508, 3509, 3510, 3511, 5038, 5040, 5042]\n"
     ]
    },
    {
     "name": "stderr",
     "output_type": "stream",
     "text": [
      "fontTools.subset - INFO     Closing glyph list over 'glyf': 40 glyphs before\n"
     ]
    },
    {
     "name": "stderr",
     "output_type": "stream",
     "text": [
      "fontTools.subset - INFO     Glyph names: ['.notdef', '.null', 'A', 'D', 'E', 'I', 'P', 'a', 'e', 'eight', 'f', 'fl', 'four', 'hyphen', 'l', 'n', 'nonmarkingreturn', 'o', 'one', 'parenleft', 'parenright', 'period', 'q', 'r', 's', 'six', 'space', 'two', 'u', 'uni239B', 'uni239C', 'uni239D', 'uni239E', 'uni239F', 'uni23A0', 'uniFB00', 'uniFB04', 'v', 'y', 'zero']\n"
     ]
    },
    {
     "name": "stderr",
     "output_type": "stream",
     "text": [
      "fontTools.subset - INFO     Glyph IDs:   [0, 1, 2, 3, 11, 12, 16, 17, 19, 20, 21, 23, 25, 27, 36, 39, 40, 44, 51, 68, 72, 73, 79, 81, 82, 84, 85, 86, 88, 89, 92, 3506, 3507, 3508, 3509, 3510, 3511, 5038, 5040, 5042]\n"
     ]
    },
    {
     "name": "stderr",
     "output_type": "stream",
     "text": [
      "fontTools.subset - INFO     Closed glyph list over 'glyf': 40 glyphs after\n"
     ]
    },
    {
     "name": "stderr",
     "output_type": "stream",
     "text": [
      "fontTools.subset - INFO     Glyph names: ['.notdef', '.null', 'A', 'D', 'E', 'I', 'P', 'a', 'e', 'eight', 'f', 'fl', 'four', 'hyphen', 'l', 'n', 'nonmarkingreturn', 'o', 'one', 'parenleft', 'parenright', 'period', 'q', 'r', 's', 'six', 'space', 'two', 'u', 'uni239B', 'uni239C', 'uni239D', 'uni239E', 'uni239F', 'uni23A0', 'uniFB00', 'uniFB04', 'v', 'y', 'zero']\n"
     ]
    },
    {
     "name": "stderr",
     "output_type": "stream",
     "text": [
      "fontTools.subset - INFO     Glyph IDs:   [0, 1, 2, 3, 11, 12, 16, 17, 19, 20, 21, 23, 25, 27, 36, 39, 40, 44, 51, 68, 72, 73, 79, 81, 82, 84, 85, 86, 88, 89, 92, 3506, 3507, 3508, 3509, 3510, 3511, 5038, 5040, 5042]\n"
     ]
    },
    {
     "name": "stderr",
     "output_type": "stream",
     "text": [
      "fontTools.subset - INFO     Retaining 40 glyphs\n"
     ]
    },
    {
     "name": "stderr",
     "output_type": "stream",
     "text": [
      "fontTools.subset - INFO     head subsetting not needed\n"
     ]
    },
    {
     "name": "stderr",
     "output_type": "stream",
     "text": [
      "fontTools.subset - INFO     hhea subsetting not needed\n"
     ]
    },
    {
     "name": "stderr",
     "output_type": "stream",
     "text": [
      "fontTools.subset - INFO     maxp subsetting not needed\n"
     ]
    },
    {
     "name": "stderr",
     "output_type": "stream",
     "text": [
      "fontTools.subset - INFO     OS/2 subsetting not needed\n"
     ]
    },
    {
     "name": "stderr",
     "output_type": "stream",
     "text": [
      "fontTools.subset - INFO     hmtx subsetted\n"
     ]
    },
    {
     "name": "stderr",
     "output_type": "stream",
     "text": [
      "fontTools.subset - INFO     cmap subsetted\n"
     ]
    },
    {
     "name": "stderr",
     "output_type": "stream",
     "text": [
      "fontTools.subset - INFO     fpgm subsetting not needed\n"
     ]
    },
    {
     "name": "stderr",
     "output_type": "stream",
     "text": [
      "fontTools.subset - INFO     prep subsetting not needed\n"
     ]
    },
    {
     "name": "stderr",
     "output_type": "stream",
     "text": [
      "fontTools.subset - INFO     cvt  subsetting not needed\n"
     ]
    },
    {
     "name": "stderr",
     "output_type": "stream",
     "text": [
      "fontTools.subset - INFO     loca subsetting not needed\n"
     ]
    },
    {
     "name": "stderr",
     "output_type": "stream",
     "text": [
      "fontTools.subset - INFO     post subsetted\n"
     ]
    },
    {
     "name": "stderr",
     "output_type": "stream",
     "text": [
      "fontTools.subset - INFO     gasp subsetting not needed\n"
     ]
    },
    {
     "name": "stderr",
     "output_type": "stream",
     "text": [
      "fontTools.subset - INFO     MATH subsetted\n"
     ]
    },
    {
     "name": "stderr",
     "output_type": "stream",
     "text": [
      "fontTools.subset - INFO     GDEF subsetted\n"
     ]
    },
    {
     "name": "stderr",
     "output_type": "stream",
     "text": [
      "fontTools.subset - INFO     GPOS subsetted\n"
     ]
    },
    {
     "name": "stderr",
     "output_type": "stream",
     "text": [
      "fontTools.subset - INFO     GSUB subsetted\n"
     ]
    },
    {
     "name": "stderr",
     "output_type": "stream",
     "text": [
      "fontTools.subset - INFO     name subsetting not needed\n"
     ]
    },
    {
     "name": "stderr",
     "output_type": "stream",
     "text": [
      "fontTools.subset - INFO     glyf subsetted\n"
     ]
    },
    {
     "name": "stderr",
     "output_type": "stream",
     "text": [
      "fontTools.subset - INFO     head pruned\n"
     ]
    },
    {
     "name": "stderr",
     "output_type": "stream",
     "text": [
      "fontTools.subset - INFO     OS/2 Unicode ranges pruned: [0]\n"
     ]
    },
    {
     "name": "stderr",
     "output_type": "stream",
     "text": [
      "fontTools.subset - INFO     OS/2 CodePage ranges pruned: [0]\n"
     ]
    },
    {
     "name": "stderr",
     "output_type": "stream",
     "text": [
      "fontTools.subset - INFO     glyf pruned\n"
     ]
    },
    {
     "name": "stderr",
     "output_type": "stream",
     "text": [
      "fontTools.subset - INFO     GDEF pruned\n"
     ]
    },
    {
     "name": "stderr",
     "output_type": "stream",
     "text": [
      "fontTools.subset - INFO     GPOS pruned\n"
     ]
    },
    {
     "name": "stderr",
     "output_type": "stream",
     "text": [
      "fontTools.subset - INFO     GSUB pruned\n"
     ]
    },
    {
     "name": "stderr",
     "output_type": "stream",
     "text": [
      "fontTools.subset - INFO     name pruned\n"
     ]
    },
    {
     "name": "stderr",
     "output_type": "stream",
     "text": [
      "vaep.plotting - INFO     Saved Figures to runs/alzheimer_study/diff_analysis/AD/PI_vs_DAE/diff_analysis_comparision_1_DAE\n"
     ]
    },
    {
     "data": {
      "image/png": "[encoded data removed]",
      "text/plain": [
       "<Figure size 294x294 with 1 Axes>"
      ]
     },
     "metadata": {},
     "output_type": "display_data"
    }
   ],
   "source": [
    "figsize = (2, 2)\n",
    "size = 5\n",
    "fig, ax = plt.subplots(figsize=figsize)\n",
    "x_col = to_plot.columns[0]\n",
    "y_col = to_plot.columns[1]\n",
    "ax = sns.scatterplot(data=to_plot,\n",
    "                     x=x_col,\n",
    "                     y=y_col,\n",
    "                     s=size,\n",
    "                     hue='Differential Analysis Comparison',\n",
    "                     ax=ax)\n",
    "_ = ax.legend(fontsize=fontsize,\n",
    "              title_fontsize=fontsize,\n",
    "              markerscale=0.4,\n",
    "              title='',\n",
    "              )\n",
    "ax.set_xlabel(f\"qvalue for {x_col}\")\n",
    "ax.set_ylabel(f\"qvalue for {y_col}\")\n",
    "ax.hlines(0.05, 0, 1, color='grey', linestyles='dotted')\n",
    "ax.vlines(0.05, 0, 1, color='grey', linestyles='dotted')\n",
    "sns.move_legend(ax, \"upper right\")\n",
    "files_out[f'diff_analysis_comparision_1_{args.model_key}'] = (\n",
    "    args.out_folder /\n",
    "    f'diff_analysis_comparision_1_{args.model_key}')\n",
    "fname = files_out[f'diff_analysis_comparision_1_{args.model_key}']\n",
    "vaep.savefig(fig, name=fname)"
   ]
  },
  {
   "cell_type": "markdown",
   "id": "d8849c76-c5f6-4618-87c0-f2635dc9ac66",
   "metadata": {
    "papermill": {
     "duration": 0.02387,
     "end_time": "2024-05-27T17:00:41.176330",
     "exception": false,
     "start_time": "2024-05-27T17:00:41.152460",
     "status": "completed"
    },
    "tags": []
   },
   "source": [
    "- showing how many features were measured (\"observed\")"
   ]
  },
  {
   "cell_type": "code",
   "execution_count": 27,
   "id": "1cf258f8-9dcb-40bb-af66-b600f8d413f6",
   "metadata": {
    "execution": {
     "iopub.execute_input": "2024-05-27T17:00:41.226044Z",
     "iopub.status.busy": "2024-05-27T17:00:41.225465Z",
     "iopub.status.idle": "2024-05-27T17:00:43.362205Z",
     "shell.execute_reply": "2024-05-27T17:00:43.361078Z"
    },
    "papermill": {
     "duration": 2.166797,
     "end_time": "2024-05-27T17:00:43.366876",
     "exception": false,
     "start_time": "2024-05-27T17:00:41.200079",
     "status": "completed"
    },
    "tags": [
     "hide-input"
    ]
   },
   "outputs": [
    {
     "name": "stderr",
     "output_type": "stream",
     "text": [
      "fontTools.subset - INFO     maxp pruned\n"
     ]
    },
    {
     "name": "stderr",
     "output_type": "stream",
     "text": [
      "fontTools.subset - INFO     cmap pruned\n"
     ]
    },
    {
     "name": "stderr",
     "output_type": "stream",
     "text": [
      "fontTools.subset - INFO     kern dropped\n"
     ]
    },
    {
     "name": "stderr",
     "output_type": "stream",
     "text": [
      "fontTools.subset - INFO     post pruned\n"
     ]
    },
    {
     "name": "stderr",
     "output_type": "stream",
     "text": [
      "fontTools.subset - INFO     FFTM dropped\n"
     ]
    },
    {
     "name": "stderr",
     "output_type": "stream",
     "text": [
      "fontTools.subset - INFO     GPOS pruned\n"
     ]
    },
    {
     "name": "stderr",
     "output_type": "stream",
     "text": [
      "fontTools.subset - INFO     GSUB pruned\n"
     ]
    },
    {
     "name": "stderr",
     "output_type": "stream",
     "text": [
      "fontTools.subset - INFO     glyf pruned\n"
     ]
    },
    {
     "name": "stderr",
     "output_type": "stream",
     "text": [
      "fontTools.subset - INFO     Added gid0 to subset\n"
     ]
    },
    {
     "name": "stderr",
     "output_type": "stream",
     "text": [
      "fontTools.subset - INFO     Added first four glyphs to subset\n"
     ]
    },
    {
     "name": "stderr",
     "output_type": "stream",
     "text": [
      "fontTools.subset - INFO     Closing glyph list over 'MATH': 39 glyphs before\n"
     ]
    },
    {
     "name": "stderr",
     "output_type": "stream",
     "text": [
      "fontTools.subset - INFO     Glyph names: ['.notdef', '.null', 'A', 'C', 'D', 'E', 'I', 'P', 'a', 'c', 'e', 'eight', 'f', 'five', 'four', 'hyphen', 'i', 'l', 'm', 'n', 'nonmarkingreturn', 'o', 'one', 'p', 'parenleft', 'parenright', 'period', 'q', 'r', 's', 'seven', 'six', 'space', 't', 'two', 'u', 'v', 'y', 'zero']\n"
     ]
    },
    {
     "name": "stderr",
     "output_type": "stream",
     "text": [
      "fontTools.subset - INFO     Glyph IDs:   [0, 1, 2, 3, 11, 12, 16, 17, 19, 20, 21, 23, 24, 25, 26, 27, 36, 38, 39, 40, 44, 51, 68, 70, 72, 73, 76, 79, 80, 81, 82, 83, 84, 85, 86, 87, 88, 89, 92]\n"
     ]
    },
    {
     "name": "stderr",
     "output_type": "stream",
     "text": [
      "fontTools.subset - INFO     Closed glyph list over 'MATH': 45 glyphs after\n"
     ]
    },
    {
     "name": "stderr",
     "output_type": "stream",
     "text": [
      "fontTools.subset - INFO     Glyph names: ['.notdef', '.null', 'A', 'C', 'D', 'E', 'I', 'P', 'a', 'c', 'e', 'eight', 'f', 'five', 'four', 'hyphen', 'i', 'l', 'm', 'n', 'nonmarkingreturn', 'o', 'one', 'p', 'parenleft', 'parenright', 'period', 'q', 'r', 's', 'seven', 'six', 'space', 't', 'two', 'u', 'uni239B', 'uni239C', 'uni239D', 'uni239E', 'uni239F', 'uni23A0', 'v', 'y', 'zero']\n"
     ]
    },
    {
     "name": "stderr",
     "output_type": "stream",
     "text": [
      "fontTools.subset - INFO     Glyph IDs:   [0, 1, 2, 3, 11, 12, 16, 17, 19, 20, 21, 23, 24, 25, 26, 27, 36, 38, 39, 40, 44, 51, 68, 70, 72, 73, 76, 79, 80, 81, 82, 83, 84, 85, 86, 87, 88, 89, 92, 3506, 3507, 3508, 3509, 3510, 3511]\n"
     ]
    },
    {
     "name": "stderr",
     "output_type": "stream",
     "text": [
      "fontTools.subset - INFO     Closing glyph list over 'GSUB': 45 glyphs before\n"
     ]
    },
    {
     "name": "stderr",
     "output_type": "stream",
     "text": [
      "fontTools.subset - INFO     Glyph names: ['.notdef', '.null', 'A', 'C', 'D', 'E', 'I', 'P', 'a', 'c', 'e', 'eight', 'f', 'five', 'four', 'hyphen', 'i', 'l', 'm', 'n', 'nonmarkingreturn', 'o', 'one', 'p', 'parenleft', 'parenright', 'period', 'q', 'r', 's', 'seven', 'six', 'space', 't', 'two', 'u', 'uni239B', 'uni239C', 'uni239D', 'uni239E', 'uni239F', 'uni23A0', 'v', 'y', 'zero']\n"
     ]
    },
    {
     "name": "stderr",
     "output_type": "stream",
     "text": [
      "fontTools.subset - INFO     Glyph IDs:   [0, 1, 2, 3, 11, 12, 16, 17, 19, 20, 21, 23, 24, 25, 26, 27, 36, 38, 39, 40, 44, 51, 68, 70, 72, 73, 76, 79, 80, 81, 82, 83, 84, 85, 86, 87, 88, 89, 92, 3506, 3507, 3508, 3509, 3510, 3511]\n"
     ]
    },
    {
     "name": "stderr",
     "output_type": "stream",
     "text": [
      "fontTools.subset - INFO     Closed glyph list over 'GSUB': 50 glyphs after\n"
     ]
    },
    {
     "name": "stderr",
     "output_type": "stream",
     "text": [
      "fontTools.subset - INFO     Glyph names: ['.notdef', '.null', 'A', 'C', 'D', 'E', 'I', 'P', 'a', 'c', 'e', 'eight', 'f', 'fi', 'five', 'fl', 'four', 'hyphen', 'i', 'l', 'm', 'n', 'nonmarkingreturn', 'o', 'one', 'p', 'parenleft', 'parenright', 'period', 'q', 'r', 's', 'seven', 'six', 'space', 't', 'two', 'u', 'uni239B', 'uni239C', 'uni239D', 'uni239E', 'uni239F', 'uni23A0', 'uniFB00', 'uniFB03', 'uniFB04', 'v', 'y', 'zero']\n"
     ]
    },
    {
     "name": "stderr",
     "output_type": "stream",
     "text": [
      "fontTools.subset - INFO     Glyph IDs:   [0, 1, 2, 3, 11, 12, 16, 17, 19, 20, 21, 23, 24, 25, 26, 27, 36, 38, 39, 40, 44, 51, 68, 70, 72, 73, 76, 79, 80, 81, 82, 83, 84, 85, 86, 87, 88, 89, 92, 3506, 3507, 3508, 3509, 3510, 3511, 5038, 5039, 5040, 5041, 5042]\n"
     ]
    },
    {
     "name": "stderr",
     "output_type": "stream",
     "text": [
      "fontTools.subset - INFO     Closing glyph list over 'glyf': 50 glyphs before\n"
     ]
    },
    {
     "name": "stderr",
     "output_type": "stream",
     "text": [
      "fontTools.subset - INFO     Glyph names: ['.notdef', '.null', 'A', 'C', 'D', 'E', 'I', 'P', 'a', 'c', 'e', 'eight', 'f', 'fi', 'five', 'fl', 'four', 'hyphen', 'i', 'l', 'm', 'n', 'nonmarkingreturn', 'o', 'one', 'p', 'parenleft', 'parenright', 'period', 'q', 'r', 's', 'seven', 'six', 'space', 't', 'two', 'u', 'uni239B', 'uni239C', 'uni239D', 'uni239E', 'uni239F', 'uni23A0', 'uniFB00', 'uniFB03', 'uniFB04', 'v', 'y', 'zero']\n"
     ]
    },
    {
     "name": "stderr",
     "output_type": "stream",
     "text": [
      "fontTools.subset - INFO     Glyph IDs:   [0, 1, 2, 3, 11, 12, 16, 17, 19, 20, 21, 23, 24, 25, 26, 27, 36, 38, 39, 40, 44, 51, 68, 70, 72, 73, 76, 79, 80, 81, 82, 83, 84, 85, 86, 87, 88, 89, 92, 3506, 3507, 3508, 3509, 3510, 3511, 5038, 5039, 5040, 5041, 5042]\n"
     ]
    },
    {
     "name": "stderr",
     "output_type": "stream",
     "text": [
      "fontTools.subset - INFO     Closed glyph list over 'glyf': 50 glyphs after\n"
     ]
    },
    {
     "name": "stderr",
     "output_type": "stream",
     "text": [
      "fontTools.subset - INFO     Glyph names: ['.notdef', '.null', 'A', 'C', 'D', 'E', 'I', 'P', 'a', 'c', 'e', 'eight', 'f', 'fi', 'five', 'fl', 'four', 'hyphen', 'i', 'l', 'm', 'n', 'nonmarkingreturn', 'o', 'one', 'p', 'parenleft', 'parenright', 'period', 'q', 'r', 's', 'seven', 'six', 'space', 't', 'two', 'u', 'uni239B', 'uni239C', 'uni239D', 'uni239E', 'uni239F', 'uni23A0', 'uniFB00', 'uniFB03', 'uniFB04', 'v', 'y', 'zero']\n"
     ]
    },
    {
     "name": "stderr",
     "output_type": "stream",
     "text": [
      "fontTools.subset - INFO     Glyph IDs:   [0, 1, 2, 3, 11, 12, 16, 17, 19, 20, 21, 23, 24, 25, 26, 27, 36, 38, 39, 40, 44, 51, 68, 70, 72, 73, 76, 79, 80, 81, 82, 83, 84, 85, 86, 87, 88, 89, 92, 3506, 3507, 3508, 3509, 3510, 3511, 5038, 5039, 5040, 5041, 5042]\n"
     ]
    },
    {
     "name": "stderr",
     "output_type": "stream",
     "text": [
      "fontTools.subset - INFO     Retaining 50 glyphs\n"
     ]
    },
    {
     "name": "stderr",
     "output_type": "stream",
     "text": [
      "fontTools.subset - INFO     head subsetting not needed\n"
     ]
    },
    {
     "name": "stderr",
     "output_type": "stream",
     "text": [
      "fontTools.subset - INFO     hhea subsetting not needed\n"
     ]
    },
    {
     "name": "stderr",
     "output_type": "stream",
     "text": [
      "fontTools.subset - INFO     maxp subsetting not needed\n"
     ]
    },
    {
     "name": "stderr",
     "output_type": "stream",
     "text": [
      "fontTools.subset - INFO     OS/2 subsetting not needed\n"
     ]
    },
    {
     "name": "stderr",
     "output_type": "stream",
     "text": [
      "fontTools.subset - INFO     hmtx subsetted\n"
     ]
    },
    {
     "name": "stderr",
     "output_type": "stream",
     "text": [
      "fontTools.subset - INFO     cmap subsetted\n"
     ]
    },
    {
     "name": "stderr",
     "output_type": "stream",
     "text": [
      "fontTools.subset - INFO     fpgm subsetting not needed\n"
     ]
    },
    {
     "name": "stderr",
     "output_type": "stream",
     "text": [
      "fontTools.subset - INFO     prep subsetting not needed\n"
     ]
    },
    {
     "name": "stderr",
     "output_type": "stream",
     "text": [
      "fontTools.subset - INFO     cvt  subsetting not needed\n"
     ]
    },
    {
     "name": "stderr",
     "output_type": "stream",
     "text": [
      "fontTools.subset - INFO     loca subsetting not needed\n"
     ]
    },
    {
     "name": "stderr",
     "output_type": "stream",
     "text": [
      "fontTools.subset - INFO     post subsetted\n"
     ]
    },
    {
     "name": "stderr",
     "output_type": "stream",
     "text": [
      "fontTools.subset - INFO     gasp subsetting not needed\n"
     ]
    },
    {
     "name": "stderr",
     "output_type": "stream",
     "text": [
      "fontTools.subset - INFO     MATH subsetted\n"
     ]
    },
    {
     "name": "stderr",
     "output_type": "stream",
     "text": [
      "fontTools.subset - INFO     GDEF subsetted\n"
     ]
    },
    {
     "name": "stderr",
     "output_type": "stream",
     "text": [
      "fontTools.subset - INFO     GPOS subsetted\n"
     ]
    },
    {
     "name": "stderr",
     "output_type": "stream",
     "text": [
      "fontTools.subset - INFO     GSUB subsetted\n"
     ]
    },
    {
     "name": "stderr",
     "output_type": "stream",
     "text": [
      "fontTools.subset - INFO     name subsetting not needed\n"
     ]
    },
    {
     "name": "stderr",
     "output_type": "stream",
     "text": [
      "fontTools.subset - INFO     glyf subsetted\n"
     ]
    },
    {
     "name": "stderr",
     "output_type": "stream",
     "text": [
      "fontTools.subset - INFO     head pruned\n"
     ]
    },
    {
     "name": "stderr",
     "output_type": "stream",
     "text": [
      "fontTools.subset - INFO     OS/2 Unicode ranges pruned: [0]\n"
     ]
    },
    {
     "name": "stderr",
     "output_type": "stream",
     "text": [
      "fontTools.subset - INFO     OS/2 CodePage ranges pruned: [0]\n"
     ]
    },
    {
     "name": "stderr",
     "output_type": "stream",
     "text": [
      "fontTools.subset - INFO     glyf pruned\n"
     ]
    },
    {
     "name": "stderr",
     "output_type": "stream",
     "text": [
      "fontTools.subset - INFO     GDEF pruned\n"
     ]
    },
    {
     "name": "stderr",
     "output_type": "stream",
     "text": [
      "fontTools.subset - INFO     GPOS pruned\n"
     ]
    },
    {
     "name": "stderr",
     "output_type": "stream",
     "text": [
      "fontTools.subset - INFO     GSUB pruned\n"
     ]
    },
    {
     "name": "stderr",
     "output_type": "stream",
     "text": [
      "fontTools.subset - INFO     name pruned\n"
     ]
    },
    {
     "name": "stderr",
     "output_type": "stream",
     "text": [
      "vaep.plotting - INFO     Saved Figures to runs/alzheimer_study/diff_analysis/AD/PI_vs_DAE/diff_analysis_comparision_2_DAE\n"
     ]
    },
    {
     "data": {
      "image/png": "[encoded data removed]",
      "text/plain": [
       "<Figure size 367.5x367.5 with 1 Axes>"
      ]
     },
     "metadata": {},
     "output_type": "display_data"
    }
   ],
   "source": [
    "figsize = (2.5, 2.5)\n",
    "fig, ax = plt.subplots(figsize=figsize)\n",
    "ax = sns.scatterplot(data=to_plot,\n",
    "                     x=to_plot.columns[0],\n",
    "                     y=to_plot.columns[1],\n",
    "                     size='frequency',\n",
    "                     s=size,\n",
    "                     sizes=(5, 20),\n",
    "                     hue='Differential Analysis Comparison')\n",
    "_ = ax.legend(fontsize=fontsize,\n",
    "              title_fontsize=fontsize,\n",
    "              markerscale=0.6,\n",
    "              title='',\n",
    "              )\n",
    "ax.set_xlabel(f\"qvalue for {x_col}\")\n",
    "ax.set_ylabel(f\"qvalue for {y_col}\")\n",
    "ax.hlines(0.05, 0, 1, color='grey', linestyles='dotted')\n",
    "ax.vlines(0.05, 0, 1, color='grey', linestyles='dotted')\n",
    "sns.move_legend(ax, \"upper right\")\n",
    "files_out[f'diff_analysis_comparision_2_{args.model_key}'] = (\n",
    "    args.out_folder / f'diff_analysis_comparision_2_{args.model_key}')\n",
    "vaep.savefig(\n",
    "    fig, name=files_out[f'diff_analysis_comparision_2_{args.model_key}'])"
   ]
  },
  {
   "cell_type": "markdown",
   "id": "1fee3a21-d8b3-40c6-aea2-4774dfe855ca",
   "metadata": {
    "papermill": {
     "duration": 0.030143,
     "end_time": "2024-05-27T17:00:43.430074",
     "exception": false,
     "start_time": "2024-05-27T17:00:43.399931",
     "status": "completed"
    },
    "tags": []
   },
   "source": [
    "## Only features contained in model\n",
    "- this block exist due to a specific part in the ALD analysis of the paper"
   ]
  },
  {
   "cell_type": "code",
   "execution_count": 28,
   "id": "c4e23a01-fd37-4496-a518-445a9ef38db1",
   "metadata": {
    "execution": {
     "iopub.execute_input": "2024-05-27T17:00:43.485849Z",
     "iopub.status.busy": "2024-05-27T17:00:43.485227Z",
     "iopub.status.idle": "2024-05-27T17:00:43.491762Z",
     "shell.execute_reply": "2024-05-27T17:00:43.491024Z"
    },
    "papermill": {
     "duration": 0.036517,
     "end_time": "2024-05-27T17:00:43.493382",
     "exception": false,
     "start_time": "2024-05-27T17:00:43.456865",
     "status": "completed"
    },
    "tags": [
     "hide-input"
    ]
   },
   "outputs": [],
   "source": [
    "scores_model_only = scores.reset_index(level=-1, drop=True)\n",
    "_diff = scores_model_only.index.difference(scores_common.index)\n",
    "if not _diff.empty:\n",
    "    scores_model_only = (scores_model_only\n",
    "                         .loc[\n",
    "                             _diff,\n",
    "                             args.model_key]\n",
    "                         .sort_values(by='qvalue', ascending=True)\n",
    "                         .join(freq_feat)\n",
    "                         )\n",
    "    display(scores_model_only)\n",
    "else:\n",
    "    scores_model_only = None"
   ]
  },
  {
   "cell_type": "code",
   "execution_count": 29,
   "id": "f668bef4-e2b9-46fb-828f-e7c6a0e23627",
   "metadata": {
    "execution": {
     "iopub.execute_input": "2024-05-27T17:00:43.631786Z",
     "iopub.status.busy": "2024-05-27T17:00:43.631212Z",
     "iopub.status.idle": "2024-05-27T17:00:43.636007Z",
     "shell.execute_reply": "2024-05-27T17:00:43.635292Z"
    },
    "papermill": {
     "duration": 0.068194,
     "end_time": "2024-05-27T17:00:43.637728",
     "exception": false,
     "start_time": "2024-05-27T17:00:43.569534",
     "status": "completed"
    },
    "tags": [
     "hide-input"
    ]
   },
   "outputs": [],
   "source": [
    "if not _diff.empty:\n",
    "    scores_model_only.to_excel(writer, 'only_model', **writer_args)\n",
    "    display(scores_model_only.rejected.value_counts())\n",
    "    scores_model_only_rejected = scores_model_only.loc[scores_model_only.rejected]\n",
    "    scores_model_only_rejected.to_excel(\n",
    "        writer, 'only_model_rejected', **writer_args)"
   ]
  },
  {
   "cell_type": "markdown",
   "id": "6868984c-1ebf-4183-bebe-35a48b92e479",
   "metadata": {
    "papermill": {
     "duration": 0.053533,
     "end_time": "2024-05-27T17:00:43.755530",
     "exception": false,
     "start_time": "2024-05-27T17:00:43.701997",
     "status": "completed"
    },
    "tags": []
   },
   "source": [
    "## DISEASES DB lookup"
   ]
  },
  {
   "cell_type": "code",
   "execution_count": 30,
   "id": "d93a9242-0ef4-4fc7-bd98-226a93639f58",
   "metadata": {
    "execution": {
     "iopub.execute_input": "2024-05-27T17:00:43.811624Z",
     "iopub.status.busy": "2024-05-27T17:00:43.811270Z",
     "iopub.status.idle": "2024-05-27T17:00:46.690625Z",
     "shell.execute_reply": "2024-05-27T17:00:46.689740Z"
    },
    "papermill": {
     "duration": 2.913391,
     "end_time": "2024-05-27T17:00:46.692480",
     "exception": false,
     "start_time": "2024-05-27T17:00:43.779089",
     "status": "completed"
    },
    "tags": [
     "hide-input"
    ]
   },
   "outputs": [
    {
     "name": "stderr",
     "output_type": "stream",
     "text": [
      "vaep.databases.diseases - WARNING  There are more associations available\n"
     ]
    },
    {
     "data": {
      "text/html": [
       "<div>\n",
       "<style scoped>\n",
       "    .dataframe tbody tr th:only-of-type {\n",
       "        vertical-align: middle;\n",
       "    }\n",
       "\n",
       "    .dataframe tbody tr th {\n",
       "        vertical-align: top;\n",
       "    }\n",
       "\n",
       "    .dataframe thead th {\n",
       "        text-align: right;\n",
       "    }\n",
       "</style>\n",
       "<table border=\"1\" class=\"dataframe\">\n",
       "  <thead>\n",
       "    <tr style=\"text-align: right;\">\n",
       "      <th></th>\n",
       "      <th>ENSP</th>\n",
       "      <th>score</th>\n",
       "    </tr>\n",
       "    <tr>\n",
       "      <th>None</th>\n",
       "      <th></th>\n",
       "      <th></th>\n",
       "    </tr>\n",
       "  </thead>\n",
       "  <tbody>\n",
       "    <tr>\n",
       "      <th>PSEN2</th>\n",
       "      <td>ENSP00000355747</td>\n",
       "      <td>5.000</td>\n",
       "    </tr>\n",
       "    <tr>\n",
       "      <th>PSEN1</th>\n",
       "      <td>ENSP00000326366</td>\n",
       "      <td>5.000</td>\n",
       "    </tr>\n",
       "    <tr>\n",
       "      <th>APOE</th>\n",
       "      <td>ENSP00000252486</td>\n",
       "      <td>5.000</td>\n",
       "    </tr>\n",
       "    <tr>\n",
       "      <th>APP</th>\n",
       "      <td>ENSP00000284981</td>\n",
       "      <td>5.000</td>\n",
       "    </tr>\n",
       "    <tr>\n",
       "      <th>MAPT</th>\n",
       "      <td>ENSP00000340820</td>\n",
       "      <td>4.800</td>\n",
       "    </tr>\n",
       "    <tr>\n",
       "      <th>...</th>\n",
       "      <td>...</td>\n",
       "      <td>...</td>\n",
       "    </tr>\n",
       "    <tr>\n",
       "      <th>ZBTB22</th>\n",
       "      <td>ENSP00000407545</td>\n",
       "      <td>0.683</td>\n",
       "    </tr>\n",
       "    <tr>\n",
       "      <th>HMGN2</th>\n",
       "      <td>ENSP00000355228</td>\n",
       "      <td>0.683</td>\n",
       "    </tr>\n",
       "    <tr>\n",
       "      <th>PPP1R13B</th>\n",
       "      <td>ENSP00000202556</td>\n",
       "      <td>0.683</td>\n",
       "    </tr>\n",
       "    <tr>\n",
       "      <th>PREB</th>\n",
       "      <td>ENSP00000260643</td>\n",
       "      <td>0.683</td>\n",
       "    </tr>\n",
       "    <tr>\n",
       "      <th>CELF5</th>\n",
       "      <td>ENSP00000292672</td>\n",
       "      <td>0.683</td>\n",
       "    </tr>\n",
       "  </tbody>\n",
       "</table>\n",
       "<p>10000 rows × 2 columns</p>\n",
       "</div>"
      ],
      "text/plain": [
       "                     ENSP  score\n",
       "None                            \n",
       "PSEN2     ENSP00000355747  5.000\n",
       "PSEN1     ENSP00000326366  5.000\n",
       "APOE      ENSP00000252486  5.000\n",
       "APP       ENSP00000284981  5.000\n",
       "MAPT      ENSP00000340820  4.800\n",
       "...                   ...    ...\n",
       "ZBTB22    ENSP00000407545  0.683\n",
       "HMGN2     ENSP00000355228  0.683\n",
       "PPP1R13B  ENSP00000202556  0.683\n",
       "PREB      ENSP00000260643  0.683\n",
       "CELF5     ENSP00000292672  0.683\n",
       "\n",
       "[10000 rows x 2 columns]"
      ]
     },
     "execution_count": 30,
     "metadata": {},
     "output_type": "execute_result"
    }
   ],
   "source": [
    "data = vaep.databases.diseases.get_disease_association(\n",
    "    doid=args.disease_ontology, limit=10000)\n",
    "data = pd.DataFrame.from_dict(data, orient='index').rename_axis('ENSP', axis=0)\n",
    "data = data.rename(columns={'name': args.annotaitons_gene_col}).reset_index(\n",
    ").set_index(args.annotaitons_gene_col)\n",
    "data"
   ]
  },
  {
   "cell_type": "markdown",
   "id": "efe22443-2613-46ad-83c2-41048e13dd57",
   "metadata": {
    "papermill": {
     "duration": 0.030367,
     "end_time": "2024-05-27T17:00:46.761044",
     "exception": false,
     "start_time": "2024-05-27T17:00:46.730677",
     "status": "completed"
    },
    "tags": []
   },
   "source": [
    "## Shared features\n",
    "ToDo: new script -> DISEASES DB lookup"
   ]
  },
  {
   "cell_type": "code",
   "execution_count": null,
   "id": "5c26415e",
   "metadata": {
    "papermill": {
     "duration": 0.030603,
     "end_time": "2024-05-27T17:00:46.821886",
     "exception": false,
     "start_time": "2024-05-27T17:00:46.791283",
     "status": "completed"
    },
    "tags": [
     "hide-input"
    ]
   },
   "outputs": [],
   "source": []
  },
  {
   "cell_type": "code",
   "execution_count": 31,
   "id": "b68b43df",
   "metadata": {
    "execution": {
     "iopub.execute_input": "2024-05-27T17:00:46.917995Z",
     "iopub.status.busy": "2024-05-27T17:00:46.917453Z",
     "iopub.status.idle": "2024-05-27T17:00:46.923689Z",
     "shell.execute_reply": "2024-05-27T17:00:46.922930Z"
    },
    "papermill": {
     "duration": 0.063753,
     "end_time": "2024-05-27T17:00:46.925284",
     "exception": true,
     "start_time": "2024-05-27T17:00:46.861531",
     "status": "failed"
    },
    "tags": [
     "hide-input"
    ]
   },
   "outputs": [
    {
     "name": "stderr",
     "output_type": "stream",
     "text": [
      "root - INFO     No gene annotation in scores index:  ['protein groups', 'Source'] Exiting.\n"
     ]
    },
    {
     "ename": "SystemExit",
     "evalue": "0",
     "output_type": "error",
     "traceback": [
      "An exception has occurred, use %tb to see the full traceback.\n",
      "\u001b[0;31mSystemExit\u001b[0m\u001b[0;31m:\u001b[0m 0\n"
     ]
    }
   ],
   "source": [
    "feat_name = scores.index.names[0]  # first index level is feature name\n",
    "if args.annotaitons_gene_col in scores.index.names:\n",
    "    logger.info(f\"Found gene annotation in scores index:  {scores.index.names}\")\n",
    "else:\n",
    "    logger.info(f\"No gene annotation in scores index:  {scores.index.names}\"\n",
    "                \" Exiting.\")\n",
    "    import sys\n",
    "    sys.exit(0)"
   ]
  },
  {
   "cell_type": "code",
   "execution_count": null,
   "id": "f8d4a74d-5a9b-4d9b-9345-4288bb23e19f",
   "metadata": {
    "papermill": {
     "duration": null,
     "end_time": null,
     "exception": null,
     "start_time": null,
     "status": "pending"
    },
    "tags": [
     "hide-input"
    ]
   },
   "outputs": [],
   "source": [
    "gene_to_PG = (scores.droplevel(\n",
    "    list(set(scores.index.names) - {feat_name, args.annotaitons_gene_col})\n",
    ")\n",
    "    .index\n",
    "    .to_frame()\n",
    "    .reset_index(drop=True)\n",
    "    .set_index(args.annotaitons_gene_col)\n",
    ")\n",
    "gene_to_PG.head()"
   ]
  },
  {
   "cell_type": "code",
   "execution_count": null,
   "id": "d9e76def-b48a-458d-a90b-765e6e70f7a4",
   "metadata": {
    "papermill": {
     "duration": null,
     "end_time": null,
     "exception": null,
     "start_time": null,
     "status": "pending"
    },
    "tags": [
     "hide-input"
    ]
   },
   "outputs": [],
   "source": [
    "disease_associations_all = data.join(\n",
    "    gene_to_PG).dropna().reset_index().set_index(feat_name).join(annotations)\n",
    "disease_associations_all"
   ]
  },
  {
   "cell_type": "markdown",
   "id": "217972a3-ba4a-4f28-ab8f-25dc0f5e9ede",
   "metadata": {
    "papermill": {
     "duration": null,
     "end_time": null,
     "exception": null,
     "start_time": null,
     "status": "pending"
    },
    "tags": []
   },
   "source": [
    "## only by model"
   ]
  },
  {
   "cell_type": "code",
   "execution_count": null,
   "id": "8e9d6944-87ba-4c41-af14-fb5ed93262f0",
   "metadata": {
    "papermill": {
     "duration": null,
     "end_time": null,
     "exception": null,
     "start_time": null,
     "status": "pending"
    },
    "tags": [
     "hide-input"
    ]
   },
   "outputs": [],
   "source": [
    "idx = disease_associations_all.index.intersection(scores_model_only.index)\n",
    "disease_assocications_new = disease_associations_all.loc[idx].sort_values(\n",
    "    'score', ascending=False)\n",
    "disease_assocications_new.head(20)"
   ]
  },
  {
   "cell_type": "code",
   "execution_count": null,
   "id": "ceefc483-b889-4bab-b207-c8d5fd97fa4a",
   "metadata": {
    "papermill": {
     "duration": null,
     "end_time": null,
     "exception": null,
     "start_time": null,
     "status": "pending"
    },
    "tags": [
     "hide-input"
    ]
   },
   "outputs": [],
   "source": [
    "mask = disease_assocications_new.loc[idx, 'score'] >= 2.0\n",
    "disease_assocications_new.loc[idx].loc[mask]"
   ]
  },
  {
   "cell_type": "markdown",
   "id": "f85eede2-7b61-4285-ba8c-745f77f6ab22",
   "metadata": {
    "papermill": {
     "duration": null,
     "end_time": null,
     "exception": null,
     "start_time": null,
     "status": "pending"
    },
    "tags": []
   },
   "source": [
    "## Only by model which were significant"
   ]
  },
  {
   "cell_type": "code",
   "execution_count": null,
   "id": "4644759b-8cc2-4f99-a16c-16419cfb915c",
   "metadata": {
    "papermill": {
     "duration": null,
     "end_time": null,
     "exception": null,
     "start_time": null,
     "status": "pending"
    },
    "tags": [
     "hide-input"
    ]
   },
   "outputs": [],
   "source": [
    "idx = disease_associations_all.index.intersection(\n",
    "    scores_model_only_rejected.index)\n",
    "disease_assocications_new_rejected = disease_associations_all.loc[idx].sort_values(\n",
    "    'score', ascending=False)\n",
    "disease_assocications_new_rejected.head(20)"
   ]
  },
  {
   "cell_type": "code",
   "execution_count": null,
   "id": "365d8641-97a8-464f-b69b-270af9ae6e2d",
   "metadata": {
    "papermill": {
     "duration": null,
     "end_time": null,
     "exception": null,
     "start_time": null,
     "status": "pending"
    },
    "tags": [
     "hide-input"
    ]
   },
   "outputs": [],
   "source": [
    "mask = disease_assocications_new_rejected.loc[idx, 'score'] >= 2.0\n",
    "disease_assocications_new_rejected.loc[idx].loc[mask]"
   ]
  },
  {
   "cell_type": "markdown",
   "id": "4f22614b-e058-4e35-b8a9-141c291a93bc",
   "metadata": {
    "papermill": {
     "duration": null,
     "end_time": null,
     "exception": null,
     "start_time": null,
     "status": "pending"
    },
    "tags": []
   },
   "source": [
    "## Shared which are only significant for by model"
   ]
  },
  {
   "cell_type": "code",
   "execution_count": null,
   "id": "82eb2ba8-4fe7-431d-8095-5be43f7791b7",
   "metadata": {
    "papermill": {
     "duration": null,
     "end_time": null,
     "exception": null,
     "start_time": null,
     "status": "pending"
    },
    "tags": []
   },
   "outputs": [],
   "source": [
    "mask = (scores_common[(str(args.model_key), 'rejected')] & mask_different)\n",
    "mask.sum()"
   ]
  },
  {
   "cell_type": "code",
   "execution_count": null,
   "id": "6416d494-5f3e-4cf4-b766-b1f95e40ae1c",
   "metadata": {
    "papermill": {
     "duration": null,
     "end_time": null,
     "exception": null,
     "start_time": null,
     "status": "pending"
    },
    "tags": [
     "hide-input"
    ]
   },
   "outputs": [],
   "source": [
    "idx = disease_associations_all.index.intersection(mask.index[mask])\n",
    "disease_assocications_shared_rejected_by_model = (disease_associations_all.loc[idx].sort_values(\n",
    "    'score', ascending=False))\n",
    "disease_assocications_shared_rejected_by_model.head(20)"
   ]
  },
  {
   "cell_type": "code",
   "execution_count": null,
   "id": "10899e28-4aee-4d44-a542-e45be6699a1b",
   "metadata": {
    "papermill": {
     "duration": null,
     "end_time": null,
     "exception": null,
     "start_time": null,
     "status": "pending"
    },
    "tags": [
     "hide-input"
    ]
   },
   "outputs": [],
   "source": [
    "mask = disease_assocications_shared_rejected_by_model.loc[idx, 'score'] >= 2.0\n",
    "disease_assocications_shared_rejected_by_model.loc[idx].loc[mask]"
   ]
  },
  {
   "cell_type": "markdown",
   "id": "b6c082ea-7d92-4296-8ec9-d279509142a3",
   "metadata": {
    "papermill": {
     "duration": null,
     "end_time": null,
     "exception": null,
     "start_time": null,
     "status": "pending"
    },
    "tags": []
   },
   "source": [
    "## Only significant by RSN"
   ]
  },
  {
   "cell_type": "code",
   "execution_count": null,
   "id": "c59aae50-6877-47cc-99f6-646862d29121",
   "metadata": {
    "papermill": {
     "duration": null,
     "end_time": null,
     "exception": null,
     "start_time": null,
     "status": "pending"
    },
    "tags": []
   },
   "outputs": [],
   "source": [
    "mask = (scores_common[(str(args.baseline), 'rejected')] & mask_different)\n",
    "mask.sum()"
   ]
  },
  {
   "cell_type": "code",
   "execution_count": null,
   "id": "7780de55-c63b-4028-a6d0-58bce7be81da",
   "metadata": {
    "papermill": {
     "duration": null,
     "end_time": null,
     "exception": null,
     "start_time": null,
     "status": "pending"
    },
    "tags": [
     "hide-input"
    ]
   },
   "outputs": [],
   "source": [
    "idx = disease_associations_all.index.intersection(mask.index[mask])\n",
    "disease_assocications_shared_rejected_by_RSN = (\n",
    "    disease_associations_all\n",
    "    .loc[idx]\n",
    "    .sort_values('score', ascending=False))\n",
    "disease_assocications_shared_rejected_by_RSN.head(20)"
   ]
  },
  {
   "cell_type": "code",
   "execution_count": null,
   "id": "03115c8f-1f20-4b51-a78c-4d7c0317dc33",
   "metadata": {
    "papermill": {
     "duration": null,
     "end_time": null,
     "exception": null,
     "start_time": null,
     "status": "pending"
    },
    "tags": [
     "hide-input"
    ]
   },
   "outputs": [],
   "source": [
    "mask = disease_assocications_shared_rejected_by_RSN.loc[idx, 'score'] >= 2.0\n",
    "disease_assocications_shared_rejected_by_RSN.loc[idx].loc[mask]"
   ]
  },
  {
   "cell_type": "markdown",
   "id": "9d72708d-ad27-435b-b672-7dfe35283601",
   "metadata": {
    "papermill": {
     "duration": null,
     "end_time": null,
     "exception": null,
     "start_time": null,
     "status": "pending"
    },
    "tags": []
   },
   "source": [
    "## Write to excel"
   ]
  },
  {
   "cell_type": "code",
   "execution_count": null,
   "id": "91e7fbb7-69fd-4b4c-9bc2-40e8dd1907b3",
   "metadata": {
    "papermill": {
     "duration": null,
     "end_time": null,
     "exception": null,
     "start_time": null,
     "status": "pending"
    },
    "tags": [
     "hide-input"
    ]
   },
   "outputs": [],
   "source": [
    "disease_associations_all.to_excel(\n",
    "    writer, sheet_name='disease_assoc_all', **writer_args)\n",
    "disease_assocications_new.to_excel(\n",
    "    writer, sheet_name='disease_assoc_new', **writer_args)\n",
    "disease_assocications_new_rejected.to_excel(\n",
    "    writer, sheet_name='disease_assoc_new_rejected', **writer_args)"
   ]
  },
  {
   "cell_type": "markdown",
   "id": "52a42028-7e2d-47d5-be02-52f7ff1f3665",
   "metadata": {
    "papermill": {
     "duration": null,
     "end_time": null,
     "exception": null,
     "start_time": null,
     "status": "pending"
    },
    "tags": []
   },
   "source": [
    "## Outputs"
   ]
  },
  {
   "cell_type": "code",
   "execution_count": null,
   "id": "7f3a7433-3bf1-4168-8f16-eb6d415ef17f",
   "metadata": {
    "papermill": {
     "duration": null,
     "end_time": null,
     "exception": null,
     "start_time": null,
     "status": "pending"
    },
    "tags": [
     "hide-input"
    ]
   },
   "outputs": [],
   "source": [
    "writer.close()\n",
    "files_out"
   ]
  }
 ],
 "metadata": {
  "kernelspec": {
   "display_name": "Python 3",
   "language": "python",
   "name": "python3"
  },
  "language_info": {
   "codemirror_mode": {
    "name": "ipython",
    "version": 3
   },
   "file_extension": ".py",
   "mimetype": "text/x-python",
   "name": "python",
   "nbconvert_exporter": "python",
   "pygments_lexer": "ipython3",
   "version": "3.8.19"
  },
  "papermill": {
   "default_parameters": {},
   "duration": 14.946685,
   "end_time": "2024-05-27T17:00:47.809266",
   "environment_variables": {},
   "exception": true,
   "input_path": "10_2_ald_compare_methods.ipynb",
   "output_path": "runs/alzheimer_study/diff_analysis/AD/PI_vs_DAE/10_2_ald_compare_methods.ipynb",
   "parameters": {
    "annotaitons_gene_col": "None",
    "baseline": "PI",
    "disease_ontology": 10652,
    "folder_experiment": "runs/alzheimer_study",
    "model_key": "DAE",
    "out_folder": "diff_analysis",
    "target": "AD"
   },
   "start_time": "2024-05-27T17:00:32.862581",
   "version": "2.6.0"
  }
 },
 "nbformat": 4,
 "nbformat_minor": 5
}