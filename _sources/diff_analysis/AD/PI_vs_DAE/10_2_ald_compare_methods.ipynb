{
 "cells": [
  {
   "cell_type": "markdown",
   "id": "9acfeaca-5f8c-42f3-9a8e-83ed737eb35c",
   "metadata": {
    "papermill": {
     "duration": 0.020853,
     "end_time": "2024-06-12T02:58:00.809824",
     "exception": false,
     "start_time": "2024-06-12T02:58:00.788971",
     "status": "completed"
    },
    "tags": []
   },
   "source": [
    "# Compare outcomes from differential analysis based on different imputation methods\n",
    "\n",
    "- load scores based on `10_1_ald_diff_analysis`"
   ]
  },
  {
   "cell_type": "code",
   "execution_count": 1,
   "id": "eec6f931-c04d-428c-b2b1-0424c50e6cd2",
   "metadata": {
    "execution": {
     "iopub.execute_input": "2024-06-12T02:58:00.864197Z",
     "iopub.status.busy": "2024-06-12T02:58:00.863882Z",
     "iopub.status.idle": "2024-06-12T02:58:02.996219Z",
     "shell.execute_reply": "2024-06-12T02:58:02.995396Z"
    },
    "papermill": {
     "duration": 2.1484,
     "end_time": "2024-06-12T02:58:02.998427",
     "exception": false,
     "start_time": "2024-06-12T02:58:00.850027",
     "status": "completed"
    },
    "tags": [
     "hide-input"
    ]
   },
   "outputs": [],
   "source": [
    "import logging\n",
    "from pathlib import Path\n",
    "\n",
    "import matplotlib.pyplot as plt\n",
    "import pandas as pd\n",
    "import seaborn as sns\n",
    "from IPython.display import display\n",
    "\n",
    "import vaep\n",
    "import vaep.databases.diseases\n",
    "\n",
    "logger = vaep.logging.setup_nb_logger()\n",
    "\n",
    "plt.rcParams['figure.figsize'] = (2, 2)\n",
    "fontsize = 5\n",
    "vaep.plotting.make_large_descriptors(fontsize)\n",
    "logging.getLogger('fontTools').setLevel(logging.ERROR)\n",
    "\n",
    "# catch passed parameters\n",
    "args = None\n",
    "args = dict(globals()).keys()"
   ]
  },
  {
   "cell_type": "markdown",
   "id": "85f5f5d5",
   "metadata": {
    "papermill": {
     "duration": 0.012048,
     "end_time": "2024-06-12T02:58:03.023693",
     "exception": false,
     "start_time": "2024-06-12T02:58:03.011645",
     "status": "completed"
    },
    "tags": []
   },
   "source": [
    "## Parameters\n",
    "Default and set parameters for the notebook."
   ]
  },
  {
   "cell_type": "code",
   "execution_count": 2,
   "id": "f4bf65da-0569-4a21-ba20-9cae7d3679e7",
   "metadata": {
    "execution": {
     "iopub.execute_input": "2024-06-12T02:58:03.049308Z",
     "iopub.status.busy": "2024-06-12T02:58:03.048953Z",
     "iopub.status.idle": "2024-06-12T02:58:03.053735Z",
     "shell.execute_reply": "2024-06-12T02:58:03.053023Z"
    },
    "papermill": {
     "duration": 0.020165,
     "end_time": "2024-06-12T02:58:03.055748",
     "exception": false,
     "start_time": "2024-06-12T02:58:03.035583",
     "status": "completed"
    },
    "tags": [
     "parameters"
    ]
   },
   "outputs": [],
   "source": [
    "folder_experiment = 'runs/appl_ald_data/plasma/proteinGroups'\n",
    "\n",
    "target = 'kleiner'\n",
    "model_key = 'VAE'\n",
    "baseline = 'RSN'\n",
    "out_folder = 'diff_analysis'\n",
    "selected_statistics = ['p-unc', '-Log10 pvalue', 'qvalue', 'rejected']\n",
    "\n",
    "disease_ontology = 5082  # code from https://disease-ontology.org/\n",
    "# split diseases notebook? Query gene names for proteins in file from uniprot?\n",
    "annotaitons_gene_col = 'PG.Genes'"
   ]
  },
  {
   "cell_type": "code",
   "execution_count": 3,
   "id": "28d57d56",
   "metadata": {
    "execution": {
     "iopub.execute_input": "2024-06-12T02:58:03.081543Z",
     "iopub.status.busy": "2024-06-12T02:58:03.081201Z",
     "iopub.status.idle": "2024-06-12T02:58:03.085422Z",
     "shell.execute_reply": "2024-06-12T02:58:03.084719Z"
    },
    "papermill": {
     "duration": 0.020939,
     "end_time": "2024-06-12T02:58:03.088682",
     "exception": false,
     "start_time": "2024-06-12T02:58:03.067743",
     "status": "completed"
    },
    "tags": [
     "injected-parameters"
    ]
   },
   "outputs": [],
   "source": [
    "# Parameters\n",
    "disease_ontology = 10652\n",
    "folder_experiment = \"runs/alzheimer_study\"\n",
    "target = \"AD\"\n",
    "baseline = \"PI\"\n",
    "model_key = \"DAE\"\n",
    "out_folder = \"diff_analysis\"\n",
    "annotaitons_gene_col = \"None\"\n"
   ]
  },
  {
   "cell_type": "markdown",
   "id": "22c645fc-c7eb-4c69-a7aa-084fc733258f",
   "metadata": {
    "papermill": {
     "duration": 0.012506,
     "end_time": "2024-06-12T02:58:03.113597",
     "exception": false,
     "start_time": "2024-06-12T02:58:03.101091",
     "status": "completed"
    },
    "tags": []
   },
   "source": [
    "Add set parameters to configuration"
   ]
  },
  {
   "cell_type": "code",
   "execution_count": 4,
   "id": "978876d0-b3cc-4847-8eab-dc0b89ddbbcd",
   "metadata": {
    "execution": {
     "iopub.execute_input": "2024-06-12T02:58:03.140343Z",
     "iopub.status.busy": "2024-06-12T02:58:03.140002Z",
     "iopub.status.idle": "2024-06-12T02:58:03.163525Z",
     "shell.execute_reply": "2024-06-12T02:58:03.162741Z"
    },
    "papermill": {
     "duration": 0.038865,
     "end_time": "2024-06-12T02:58:03.165635",
     "exception": false,
     "start_time": "2024-06-12T02:58:03.126770",
     "status": "completed"
    },
    "tags": [
     "hide-input"
    ]
   },
   "outputs": [
    {
     "name": "stderr",
     "output_type": "stream",
     "text": [
      "root - INFO     Removed from global namespace: folder_experiment\n"
     ]
    },
    {
     "name": "stderr",
     "output_type": "stream",
     "text": [
      "root - INFO     Removed from global namespace: target\n"
     ]
    },
    {
     "name": "stderr",
     "output_type": "stream",
     "text": [
      "root - INFO     Removed from global namespace: model_key\n"
     ]
    },
    {
     "name": "stderr",
     "output_type": "stream",
     "text": [
      "root - INFO     Removed from global namespace: baseline\n"
     ]
    },
    {
     "name": "stderr",
     "output_type": "stream",
     "text": [
      "root - INFO     Removed from global namespace: out_folder\n"
     ]
    },
    {
     "name": "stderr",
     "output_type": "stream",
     "text": [
      "root - INFO     Removed from global namespace: selected_statistics\n"
     ]
    },
    {
     "name": "stderr",
     "output_type": "stream",
     "text": [
      "root - INFO     Removed from global namespace: disease_ontology\n"
     ]
    },
    {
     "name": "stderr",
     "output_type": "stream",
     "text": [
      "root - INFO     Removed from global namespace: annotaitons_gene_col\n"
     ]
    },
    {
     "name": "stderr",
     "output_type": "stream",
     "text": [
      "root - INFO     Already set attribute: folder_experiment has value runs/alzheimer_study\n"
     ]
    },
    {
     "name": "stderr",
     "output_type": "stream",
     "text": [
      "root - INFO     Already set attribute: out_folder has value diff_analysis\n"
     ]
    },
    {
     "data": {
      "text/plain": [
       "{'annotaitons_gene_col': 'None',\n",
       " 'baseline': 'PI',\n",
       " 'data': PosixPath('runs/alzheimer_study/data'),\n",
       " 'disease_ontology': 10652,\n",
       " 'folder_experiment': PosixPath('runs/alzheimer_study'),\n",
       " 'freq_features_observed': PosixPath('runs/alzheimer_study/freq_features_observed.csv'),\n",
       " 'model_key': 'DAE',\n",
       " 'out_figures': PosixPath('runs/alzheimer_study/figures'),\n",
       " 'out_folder': PosixPath('runs/alzheimer_study/diff_analysis/AD/PI_vs_DAE'),\n",
       " 'out_metrics': PosixPath('runs/alzheimer_study'),\n",
       " 'out_models': PosixPath('runs/alzheimer_study'),\n",
       " 'out_preds': PosixPath('runs/alzheimer_study/preds'),\n",
       " 'scores_folder': PosixPath('runs/alzheimer_study/diff_analysis/AD/scores'),\n",
       " 'selected_statistics': ['p-unc', '-Log10 pvalue', 'qvalue', 'rejected'],\n",
       " 'target': 'AD'}"
      ]
     },
     "execution_count": 4,
     "metadata": {},
     "output_type": "execute_result"
    }
   ],
   "source": [
    "params = vaep.nb.get_params(args, globals=globals())\n",
    "args = vaep.nb.Config()\n",
    "args.folder_experiment = Path(params[\"folder_experiment\"])\n",
    "args = vaep.nb.add_default_paths(args,\n",
    "                                 out_root=(\n",
    "                                     args.folder_experiment\n",
    "                                     / params[\"out_folder\"]\n",
    "                                     / params[\"target\"]\n",
    "                                     / f\"{params['baseline']}_vs_{params['model_key']}\"))\n",
    "args.update_from_dict(params)\n",
    "args.scores_folder = scores_folder = (args.folder_experiment\n",
    "                                      / params[\"out_folder\"]\n",
    "                                      / params[\"target\"]\n",
    "                                      / 'scores')\n",
    "args.freq_features_observed = args.folder_experiment / 'freq_features_observed.csv'\n",
    "args"
   ]
  },
  {
   "cell_type": "markdown",
   "id": "fc184dea",
   "metadata": {
    "papermill": {
     "duration": 0.012967,
     "end_time": "2024-06-12T02:58:03.191875",
     "exception": false,
     "start_time": "2024-06-12T02:58:03.178908",
     "status": "completed"
    },
    "tags": []
   },
   "source": [
    "### Excel file for exports"
   ]
  },
  {
   "cell_type": "code",
   "execution_count": 5,
   "id": "a8016d79-e41a-40a2-bcbf-e11711c33b7d",
   "metadata": {
    "execution": {
     "iopub.execute_input": "2024-06-12T02:58:03.219889Z",
     "iopub.status.busy": "2024-06-12T02:58:03.219551Z",
     "iopub.status.idle": "2024-06-12T02:58:03.361991Z",
     "shell.execute_reply": "2024-06-12T02:58:03.361232Z"
    },
    "papermill": {
     "duration": 0.158973,
     "end_time": "2024-06-12T02:58:03.363961",
     "exception": false,
     "start_time": "2024-06-12T02:58:03.204988",
     "status": "completed"
    },
    "tags": []
   },
   "outputs": [
    {
     "name": "stderr",
     "output_type": "stream",
     "text": [
      "root - INFO     Writing to excel file: runs/alzheimer_study/diff_analysis/AD/PI_vs_DAE/diff_analysis_compare_methods.xlsx\n"
     ]
    }
   ],
   "source": [
    "files_out = dict()\n",
    "writer_args = dict(float_format='%.3f')\n",
    "\n",
    "fname = args.out_folder / 'diff_analysis_compare_methods.xlsx'\n",
    "files_out[fname.name] = fname\n",
    "writer = pd.ExcelWriter(fname)\n",
    "logger.info(\"Writing to excel file: %s\", fname)"
   ]
  },
  {
   "cell_type": "markdown",
   "id": "770d1f76-e86f-4ae3-9d7b-ceef9b9e9a22",
   "metadata": {
    "papermill": {
     "duration": 0.012805,
     "end_time": "2024-06-12T02:58:03.390616",
     "exception": false,
     "start_time": "2024-06-12T02:58:03.377811",
     "status": "completed"
    },
    "tags": []
   },
   "source": [
    "## Load scores"
   ]
  },
  {
   "cell_type": "markdown",
   "id": "6b108869",
   "metadata": {
    "papermill": {
     "duration": 0.013258,
     "end_time": "2024-06-12T02:58:03.418494",
     "exception": false,
     "start_time": "2024-06-12T02:58:03.405236",
     "status": "completed"
    },
    "tags": []
   },
   "source": [
    "### Load baseline model scores\n",
    "Show all statistics, later use selected statistics"
   ]
  },
  {
   "cell_type": "code",
   "execution_count": 6,
   "id": "97221134-5f61-4158-bfc5-ea30077140b8",
   "metadata": {
    "execution": {
     "iopub.execute_input": "2024-06-12T02:58:03.446458Z",
     "iopub.status.busy": "2024-06-12T02:58:03.446109Z",
     "iopub.status.idle": "2024-06-12T02:58:03.471894Z",
     "shell.execute_reply": "2024-06-12T02:58:03.471134Z"
    },
    "papermill": {
     "duration": 0.042234,
     "end_time": "2024-06-12T02:58:03.473789",
     "exception": false,
     "start_time": "2024-06-12T02:58:03.431555",
     "status": "completed"
    },
    "tags": [
     "hide-input"
    ]
   },
   "outputs": [
    {
     "data": {
      "text/html": [
       "<div>\n",
       "<style scoped>\n",
       "    .dataframe tbody tr th:only-of-type {\n",
       "        vertical-align: middle;\n",
       "    }\n",
       "\n",
       "    .dataframe tbody tr th {\n",
       "        vertical-align: top;\n",
       "    }\n",
       "\n",
       "    .dataframe thead tr th {\n",
       "        text-align: left;\n",
       "    }\n",
       "\n",
       "    .dataframe thead tr:last-of-type th {\n",
       "        text-align: right;\n",
       "    }\n",
       "</style>\n",
       "<table border=\"1\" class=\"dataframe\">\n",
       "  <thead>\n",
       "    <tr>\n",
       "      <th></th>\n",
       "      <th>model</th>\n",
       "      <th colspan=\"8\" halign=\"left\">PI</th>\n",
       "    </tr>\n",
       "    <tr>\n",
       "      <th></th>\n",
       "      <th>var</th>\n",
       "      <th>SS</th>\n",
       "      <th>DF</th>\n",
       "      <th>F</th>\n",
       "      <th>p-unc</th>\n",
       "      <th>np2</th>\n",
       "      <th>-Log10 pvalue</th>\n",
       "      <th>qvalue</th>\n",
       "      <th>rejected</th>\n",
       "    </tr>\n",
       "    <tr>\n",
       "      <th>protein groups</th>\n",
       "      <th>Source</th>\n",
       "      <th></th>\n",
       "      <th></th>\n",
       "      <th></th>\n",
       "      <th></th>\n",
       "      <th></th>\n",
       "      <th></th>\n",
       "      <th></th>\n",
       "      <th></th>\n",
       "    </tr>\n",
       "  </thead>\n",
       "  <tbody>\n",
       "    <tr>\n",
       "      <th rowspan=\"5\" valign=\"top\">A0A024QZX5;A0A087X1N8;P35237</th>\n",
       "      <th>AD</th>\n",
       "      <td>0.036</td>\n",
       "      <td>1</td>\n",
       "      <td>0.058</td>\n",
       "      <td>0.810</td>\n",
       "      <td>0.000</td>\n",
       "      <td>0.092</td>\n",
       "      <td>0.887</td>\n",
       "      <td>False</td>\n",
       "    </tr>\n",
       "    <tr>\n",
       "      <th>age</th>\n",
       "      <td>0.170</td>\n",
       "      <td>1</td>\n",
       "      <td>0.272</td>\n",
       "      <td>0.602</td>\n",
       "      <td>0.001</td>\n",
       "      <td>0.220</td>\n",
       "      <td>0.735</td>\n",
       "      <td>False</td>\n",
       "    </tr>\n",
       "    <tr>\n",
       "      <th>Kiel</th>\n",
       "      <td>2.230</td>\n",
       "      <td>1</td>\n",
       "      <td>3.563</td>\n",
       "      <td>0.061</td>\n",
       "      <td>0.018</td>\n",
       "      <td>1.217</td>\n",
       "      <td>0.142</td>\n",
       "      <td>False</td>\n",
       "    </tr>\n",
       "    <tr>\n",
       "      <th>Magdeburg</th>\n",
       "      <td>5.677</td>\n",
       "      <td>1</td>\n",
       "      <td>9.070</td>\n",
       "      <td>0.003</td>\n",
       "      <td>0.045</td>\n",
       "      <td>2.530</td>\n",
       "      <td>0.012</td>\n",
       "      <td>True</td>\n",
       "    </tr>\n",
       "    <tr>\n",
       "      <th>Sweden</th>\n",
       "      <td>8.942</td>\n",
       "      <td>1</td>\n",
       "      <td>14.287</td>\n",
       "      <td>0.000</td>\n",
       "      <td>0.070</td>\n",
       "      <td>3.678</td>\n",
       "      <td>0.001</td>\n",
       "      <td>True</td>\n",
       "    </tr>\n",
       "    <tr>\n",
       "      <th>...</th>\n",
       "      <th>...</th>\n",
       "      <td>...</td>\n",
       "      <td>...</td>\n",
       "      <td>...</td>\n",
       "      <td>...</td>\n",
       "      <td>...</td>\n",
       "      <td>...</td>\n",
       "      <td>...</td>\n",
       "      <td>...</td>\n",
       "    </tr>\n",
       "    <tr>\n",
       "      <th rowspan=\"5\" valign=\"top\">S4R3U6</th>\n",
       "      <th>AD</th>\n",
       "      <td>1.664</td>\n",
       "      <td>1</td>\n",
       "      <td>1.871</td>\n",
       "      <td>0.173</td>\n",
       "      <td>0.010</td>\n",
       "      <td>0.762</td>\n",
       "      <td>0.312</td>\n",
       "      <td>False</td>\n",
       "    </tr>\n",
       "    <tr>\n",
       "      <th>age</th>\n",
       "      <td>0.735</td>\n",
       "      <td>1</td>\n",
       "      <td>0.826</td>\n",
       "      <td>0.365</td>\n",
       "      <td>0.004</td>\n",
       "      <td>0.438</td>\n",
       "      <td>0.524</td>\n",
       "      <td>False</td>\n",
       "    </tr>\n",
       "    <tr>\n",
       "      <th>Kiel</th>\n",
       "      <td>0.021</td>\n",
       "      <td>1</td>\n",
       "      <td>0.024</td>\n",
       "      <td>0.877</td>\n",
       "      <td>0.000</td>\n",
       "      <td>0.057</td>\n",
       "      <td>0.931</td>\n",
       "      <td>False</td>\n",
       "    </tr>\n",
       "    <tr>\n",
       "      <th>Magdeburg</th>\n",
       "      <td>1.421</td>\n",
       "      <td>1</td>\n",
       "      <td>1.598</td>\n",
       "      <td>0.208</td>\n",
       "      <td>0.008</td>\n",
       "      <td>0.682</td>\n",
       "      <td>0.355</td>\n",
       "      <td>False</td>\n",
       "    </tr>\n",
       "    <tr>\n",
       "      <th>Sweden</th>\n",
       "      <td>13.816</td>\n",
       "      <td>1</td>\n",
       "      <td>15.535</td>\n",
       "      <td>0.000</td>\n",
       "      <td>0.075</td>\n",
       "      <td>3.945</td>\n",
       "      <td>0.001</td>\n",
       "      <td>True</td>\n",
       "    </tr>\n",
       "  </tbody>\n",
       "</table>\n",
       "<p>7105 rows × 8 columns</p>\n",
       "</div>"
      ],
      "text/plain": [
       "model                                      PI                        \\\n",
       "var                                        SS DF      F p-unc   np2   \n",
       "protein groups               Source                                   \n",
       "A0A024QZX5;A0A087X1N8;P35237 AD         0.036  1  0.058 0.810 0.000   \n",
       "                             age        0.170  1  0.272 0.602 0.001   \n",
       "                             Kiel       2.230  1  3.563 0.061 0.018   \n",
       "                             Magdeburg  5.677  1  9.070 0.003 0.045   \n",
       "                             Sweden     8.942  1 14.287 0.000 0.070   \n",
       "...                                       ... ..    ...   ...   ...   \n",
       "S4R3U6                       AD         1.664  1  1.871 0.173 0.010   \n",
       "                             age        0.735  1  0.826 0.365 0.004   \n",
       "                             Kiel       0.021  1  0.024 0.877 0.000   \n",
       "                             Magdeburg  1.421  1  1.598 0.208 0.008   \n",
       "                             Sweden    13.816  1 15.535 0.000 0.075   \n",
       "\n",
       "model                                                                 \n",
       "var                                    -Log10 pvalue qvalue rejected  \n",
       "protein groups               Source                                   \n",
       "A0A024QZX5;A0A087X1N8;P35237 AD                0.092  0.887    False  \n",
       "                             age               0.220  0.735    False  \n",
       "                             Kiel              1.217  0.142    False  \n",
       "                             Magdeburg         2.530  0.012     True  \n",
       "                             Sweden            3.678  0.001     True  \n",
       "...                                              ...    ...      ...  \n",
       "S4R3U6                       AD                0.762  0.312    False  \n",
       "                             age               0.438  0.524    False  \n",
       "                             Kiel              0.057  0.931    False  \n",
       "                             Magdeburg         0.682  0.355    False  \n",
       "                             Sweden            3.945  0.001     True  \n",
       "\n",
       "[7105 rows x 8 columns]"
      ]
     },
     "execution_count": 6,
     "metadata": {},
     "output_type": "execute_result"
    }
   ],
   "source": [
    "fname = args.scores_folder / f'diff_analysis_scores_{args.baseline}.pkl'\n",
    "scores_baseline = pd.read_pickle(fname)\n",
    "scores_baseline"
   ]
  },
  {
   "cell_type": "markdown",
   "id": "e49a8da2",
   "metadata": {
    "papermill": {
     "duration": 0.013637,
     "end_time": "2024-06-12T02:58:03.501596",
     "exception": false,
     "start_time": "2024-06-12T02:58:03.487959",
     "status": "completed"
    },
    "tags": []
   },
   "source": [
    "### Load selected comparison model scores"
   ]
  },
  {
   "cell_type": "code",
   "execution_count": 7,
   "id": "f0635e4d",
   "metadata": {
    "execution": {
     "iopub.execute_input": "2024-06-12T02:58:03.530513Z",
     "iopub.status.busy": "2024-06-12T02:58:03.530178Z",
     "iopub.status.idle": "2024-06-12T02:58:03.554478Z",
     "shell.execute_reply": "2024-06-12T02:58:03.553702Z"
    },
    "papermill": {
     "duration": 0.04115,
     "end_time": "2024-06-12T02:58:03.556428",
     "exception": false,
     "start_time": "2024-06-12T02:58:03.515278",
     "status": "completed"
    },
    "tags": [
     "hide-input"
    ]
   },
   "outputs": [
    {
     "data": {
      "text/html": [
       "<div>\n",
       "<style scoped>\n",
       "    .dataframe tbody tr th:only-of-type {\n",
       "        vertical-align: middle;\n",
       "    }\n",
       "\n",
       "    .dataframe tbody tr th {\n",
       "        vertical-align: top;\n",
       "    }\n",
       "\n",
       "    .dataframe thead tr th {\n",
       "        text-align: left;\n",
       "    }\n",
       "\n",
       "    .dataframe thead tr:last-of-type th {\n",
       "        text-align: right;\n",
       "    }\n",
       "</style>\n",
       "<table border=\"1\" class=\"dataframe\">\n",
       "  <thead>\n",
       "    <tr>\n",
       "      <th></th>\n",
       "      <th>model</th>\n",
       "      <th colspan=\"8\" halign=\"left\">DAE</th>\n",
       "    </tr>\n",
       "    <tr>\n",
       "      <th></th>\n",
       "      <th>var</th>\n",
       "      <th>SS</th>\n",
       "      <th>DF</th>\n",
       "      <th>F</th>\n",
       "      <th>p-unc</th>\n",
       "      <th>np2</th>\n",
       "      <th>-Log10 pvalue</th>\n",
       "      <th>qvalue</th>\n",
       "      <th>rejected</th>\n",
       "    </tr>\n",
       "    <tr>\n",
       "      <th>protein groups</th>\n",
       "      <th>Source</th>\n",
       "      <th></th>\n",
       "      <th></th>\n",
       "      <th></th>\n",
       "      <th></th>\n",
       "      <th></th>\n",
       "      <th></th>\n",
       "      <th></th>\n",
       "      <th></th>\n",
       "    </tr>\n",
       "  </thead>\n",
       "  <tbody>\n",
       "    <tr>\n",
       "      <th rowspan=\"5\" valign=\"top\">A0A024QZX5;A0A087X1N8;P35237</th>\n",
       "      <th>AD</th>\n",
       "      <td>1.164</td>\n",
       "      <td>1</td>\n",
       "      <td>8.333</td>\n",
       "      <td>0.004</td>\n",
       "      <td>0.042</td>\n",
       "      <td>2.362</td>\n",
       "      <td>0.013</td>\n",
       "      <td>True</td>\n",
       "    </tr>\n",
       "    <tr>\n",
       "      <th>age</th>\n",
       "      <td>0.003</td>\n",
       "      <td>1</td>\n",
       "      <td>0.024</td>\n",
       "      <td>0.878</td>\n",
       "      <td>0.000</td>\n",
       "      <td>0.057</td>\n",
       "      <td>0.923</td>\n",
       "      <td>False</td>\n",
       "    </tr>\n",
       "    <tr>\n",
       "      <th>Kiel</th>\n",
       "      <td>0.274</td>\n",
       "      <td>1</td>\n",
       "      <td>1.963</td>\n",
       "      <td>0.163</td>\n",
       "      <td>0.010</td>\n",
       "      <td>0.788</td>\n",
       "      <td>0.265</td>\n",
       "      <td>False</td>\n",
       "    </tr>\n",
       "    <tr>\n",
       "      <th>Magdeburg</th>\n",
       "      <td>0.486</td>\n",
       "      <td>1</td>\n",
       "      <td>3.476</td>\n",
       "      <td>0.064</td>\n",
       "      <td>0.018</td>\n",
       "      <td>1.195</td>\n",
       "      <td>0.125</td>\n",
       "      <td>False</td>\n",
       "    </tr>\n",
       "    <tr>\n",
       "      <th>Sweden</th>\n",
       "      <td>1.730</td>\n",
       "      <td>1</td>\n",
       "      <td>12.387</td>\n",
       "      <td>0.001</td>\n",
       "      <td>0.061</td>\n",
       "      <td>3.267</td>\n",
       "      <td>0.002</td>\n",
       "      <td>True</td>\n",
       "    </tr>\n",
       "    <tr>\n",
       "      <th>...</th>\n",
       "      <th>...</th>\n",
       "      <td>...</td>\n",
       "      <td>...</td>\n",
       "      <td>...</td>\n",
       "      <td>...</td>\n",
       "      <td>...</td>\n",
       "      <td>...</td>\n",
       "      <td>...</td>\n",
       "      <td>...</td>\n",
       "    </tr>\n",
       "    <tr>\n",
       "      <th rowspan=\"5\" valign=\"top\">S4R3U6</th>\n",
       "      <th>AD</th>\n",
       "      <td>3.166</td>\n",
       "      <td>1</td>\n",
       "      <td>6.115</td>\n",
       "      <td>0.014</td>\n",
       "      <td>0.031</td>\n",
       "      <td>1.845</td>\n",
       "      <td>0.036</td>\n",
       "      <td>True</td>\n",
       "    </tr>\n",
       "    <tr>\n",
       "      <th>age</th>\n",
       "      <td>0.574</td>\n",
       "      <td>1</td>\n",
       "      <td>1.109</td>\n",
       "      <td>0.294</td>\n",
       "      <td>0.006</td>\n",
       "      <td>0.532</td>\n",
       "      <td>0.423</td>\n",
       "      <td>False</td>\n",
       "    </tr>\n",
       "    <tr>\n",
       "      <th>Kiel</th>\n",
       "      <td>2.960</td>\n",
       "      <td>1</td>\n",
       "      <td>5.717</td>\n",
       "      <td>0.018</td>\n",
       "      <td>0.029</td>\n",
       "      <td>1.750</td>\n",
       "      <td>0.044</td>\n",
       "      <td>True</td>\n",
       "    </tr>\n",
       "    <tr>\n",
       "      <th>Magdeburg</th>\n",
       "      <td>2.803</td>\n",
       "      <td>1</td>\n",
       "      <td>5.413</td>\n",
       "      <td>0.021</td>\n",
       "      <td>0.028</td>\n",
       "      <td>1.677</td>\n",
       "      <td>0.050</td>\n",
       "      <td>False</td>\n",
       "    </tr>\n",
       "    <tr>\n",
       "      <th>Sweden</th>\n",
       "      <td>23.066</td>\n",
       "      <td>1</td>\n",
       "      <td>44.549</td>\n",
       "      <td>0.000</td>\n",
       "      <td>0.189</td>\n",
       "      <td>9.582</td>\n",
       "      <td>0.000</td>\n",
       "      <td>True</td>\n",
       "    </tr>\n",
       "  </tbody>\n",
       "</table>\n",
       "<p>7105 rows × 8 columns</p>\n",
       "</div>"
      ],
      "text/plain": [
       "model                                     DAE                        \\\n",
       "var                                        SS DF      F p-unc   np2   \n",
       "protein groups               Source                                   \n",
       "A0A024QZX5;A0A087X1N8;P35237 AD         1.164  1  8.333 0.004 0.042   \n",
       "                             age        0.003  1  0.024 0.878 0.000   \n",
       "                             Kiel       0.274  1  1.963 0.163 0.010   \n",
       "                             Magdeburg  0.486  1  3.476 0.064 0.018   \n",
       "                             Sweden     1.730  1 12.387 0.001 0.061   \n",
       "...                                       ... ..    ...   ...   ...   \n",
       "S4R3U6                       AD         3.166  1  6.115 0.014 0.031   \n",
       "                             age        0.574  1  1.109 0.294 0.006   \n",
       "                             Kiel       2.960  1  5.717 0.018 0.029   \n",
       "                             Magdeburg  2.803  1  5.413 0.021 0.028   \n",
       "                             Sweden    23.066  1 44.549 0.000 0.189   \n",
       "\n",
       "model                                                                 \n",
       "var                                    -Log10 pvalue qvalue rejected  \n",
       "protein groups               Source                                   \n",
       "A0A024QZX5;A0A087X1N8;P35237 AD                2.362  0.013     True  \n",
       "                             age               0.057  0.923    False  \n",
       "                             Kiel              0.788  0.265    False  \n",
       "                             Magdeburg         1.195  0.125    False  \n",
       "                             Sweden            3.267  0.002     True  \n",
       "...                                              ...    ...      ...  \n",
       "S4R3U6                       AD                1.845  0.036     True  \n",
       "                             age               0.532  0.423    False  \n",
       "                             Kiel              1.750  0.044     True  \n",
       "                             Magdeburg         1.677  0.050    False  \n",
       "                             Sweden            9.582  0.000     True  \n",
       "\n",
       "[7105 rows x 8 columns]"
      ]
     },
     "execution_count": 7,
     "metadata": {},
     "output_type": "execute_result"
    }
   ],
   "source": [
    "fname = args.scores_folder / f'diff_analysis_scores_{args.model_key}.pkl'\n",
    "scores_model = pd.read_pickle(fname)\n",
    "scores_model"
   ]
  },
  {
   "cell_type": "markdown",
   "id": "06b7e883",
   "metadata": {
    "papermill": {
     "duration": 0.013958,
     "end_time": "2024-06-12T02:58:03.584925",
     "exception": false,
     "start_time": "2024-06-12T02:58:03.570967",
     "status": "completed"
    },
    "tags": []
   },
   "source": [
    "### Combined scores\n",
    "show only selected statistics for comparsion"
   ]
  },
  {
   "cell_type": "code",
   "execution_count": 8,
   "id": "373fdf65",
   "metadata": {
    "execution": {
     "iopub.execute_input": "2024-06-12T02:58:03.615136Z",
     "iopub.status.busy": "2024-06-12T02:58:03.614781Z",
     "iopub.status.idle": "2024-06-12T02:58:03.650618Z",
     "shell.execute_reply": "2024-06-12T02:58:03.649831Z"
    },
    "papermill": {
     "duration": 0.053326,
     "end_time": "2024-06-12T02:58:03.652619",
     "exception": false,
     "start_time": "2024-06-12T02:58:03.599293",
     "status": "completed"
    },
    "tags": [
     "hide-input"
    ]
   },
   "outputs": [
    {
     "data": {
      "text/html": [
       "<div>\n",
       "<style scoped>\n",
       "    .dataframe tbody tr th:only-of-type {\n",
       "        vertical-align: middle;\n",
       "    }\n",
       "\n",
       "    .dataframe tbody tr th {\n",
       "        vertical-align: top;\n",
       "    }\n",
       "\n",
       "    .dataframe thead tr th {\n",
       "        text-align: left;\n",
       "    }\n",
       "\n",
       "    .dataframe thead tr:last-of-type th {\n",
       "        text-align: right;\n",
       "    }\n",
       "</style>\n",
       "<table border=\"1\" class=\"dataframe\">\n",
       "  <thead>\n",
       "    <tr>\n",
       "      <th></th>\n",
       "      <th>model</th>\n",
       "      <th colspan=\"4\" halign=\"left\">DAE</th>\n",
       "      <th colspan=\"4\" halign=\"left\">PI</th>\n",
       "    </tr>\n",
       "    <tr>\n",
       "      <th></th>\n",
       "      <th>var</th>\n",
       "      <th>p-unc</th>\n",
       "      <th>-Log10 pvalue</th>\n",
       "      <th>qvalue</th>\n",
       "      <th>rejected</th>\n",
       "      <th>p-unc</th>\n",
       "      <th>-Log10 pvalue</th>\n",
       "      <th>qvalue</th>\n",
       "      <th>rejected</th>\n",
       "    </tr>\n",
       "    <tr>\n",
       "      <th>protein groups</th>\n",
       "      <th>Source</th>\n",
       "      <th></th>\n",
       "      <th></th>\n",
       "      <th></th>\n",
       "      <th></th>\n",
       "      <th></th>\n",
       "      <th></th>\n",
       "      <th></th>\n",
       "      <th></th>\n",
       "    </tr>\n",
       "  </thead>\n",
       "  <tbody>\n",
       "    <tr>\n",
       "      <th rowspan=\"5\" valign=\"top\">A0A024QZX5;A0A087X1N8;P35237</th>\n",
       "      <th>AD</th>\n",
       "      <td>0.004</td>\n",
       "      <td>2.362</td>\n",
       "      <td>0.013</td>\n",
       "      <td>True</td>\n",
       "      <td>0.810</td>\n",
       "      <td>0.092</td>\n",
       "      <td>0.887</td>\n",
       "      <td>False</td>\n",
       "    </tr>\n",
       "    <tr>\n",
       "      <th>age</th>\n",
       "      <td>0.878</td>\n",
       "      <td>0.057</td>\n",
       "      <td>0.923</td>\n",
       "      <td>False</td>\n",
       "      <td>0.602</td>\n",
       "      <td>0.220</td>\n",
       "      <td>0.735</td>\n",
       "      <td>False</td>\n",
       "    </tr>\n",
       "    <tr>\n",
       "      <th>Kiel</th>\n",
       "      <td>0.163</td>\n",
       "      <td>0.788</td>\n",
       "      <td>0.265</td>\n",
       "      <td>False</td>\n",
       "      <td>0.061</td>\n",
       "      <td>1.217</td>\n",
       "      <td>0.142</td>\n",
       "      <td>False</td>\n",
       "    </tr>\n",
       "    <tr>\n",
       "      <th>Magdeburg</th>\n",
       "      <td>0.064</td>\n",
       "      <td>1.195</td>\n",
       "      <td>0.125</td>\n",
       "      <td>False</td>\n",
       "      <td>0.003</td>\n",
       "      <td>2.530</td>\n",
       "      <td>0.012</td>\n",
       "      <td>True</td>\n",
       "    </tr>\n",
       "    <tr>\n",
       "      <th>Sweden</th>\n",
       "      <td>0.001</td>\n",
       "      <td>3.267</td>\n",
       "      <td>0.002</td>\n",
       "      <td>True</td>\n",
       "      <td>0.000</td>\n",
       "      <td>3.678</td>\n",
       "      <td>0.001</td>\n",
       "      <td>True</td>\n",
       "    </tr>\n",
       "    <tr>\n",
       "      <th>...</th>\n",
       "      <th>...</th>\n",
       "      <td>...</td>\n",
       "      <td>...</td>\n",
       "      <td>...</td>\n",
       "      <td>...</td>\n",
       "      <td>...</td>\n",
       "      <td>...</td>\n",
       "      <td>...</td>\n",
       "      <td>...</td>\n",
       "    </tr>\n",
       "    <tr>\n",
       "      <th rowspan=\"5\" valign=\"top\">S4R3U6</th>\n",
       "      <th>AD</th>\n",
       "      <td>0.014</td>\n",
       "      <td>1.845</td>\n",
       "      <td>0.036</td>\n",
       "      <td>True</td>\n",
       "      <td>0.173</td>\n",
       "      <td>0.762</td>\n",
       "      <td>0.312</td>\n",
       "      <td>False</td>\n",
       "    </tr>\n",
       "    <tr>\n",
       "      <th>age</th>\n",
       "      <td>0.294</td>\n",
       "      <td>0.532</td>\n",
       "      <td>0.423</td>\n",
       "      <td>False</td>\n",
       "      <td>0.365</td>\n",
       "      <td>0.438</td>\n",
       "      <td>0.524</td>\n",
       "      <td>False</td>\n",
       "    </tr>\n",
       "    <tr>\n",
       "      <th>Kiel</th>\n",
       "      <td>0.018</td>\n",
       "      <td>1.750</td>\n",
       "      <td>0.044</td>\n",
       "      <td>True</td>\n",
       "      <td>0.877</td>\n",
       "      <td>0.057</td>\n",
       "      <td>0.931</td>\n",
       "      <td>False</td>\n",
       "    </tr>\n",
       "    <tr>\n",
       "      <th>Magdeburg</th>\n",
       "      <td>0.021</td>\n",
       "      <td>1.677</td>\n",
       "      <td>0.050</td>\n",
       "      <td>False</td>\n",
       "      <td>0.208</td>\n",
       "      <td>0.682</td>\n",
       "      <td>0.355</td>\n",
       "      <td>False</td>\n",
       "    </tr>\n",
       "    <tr>\n",
       "      <th>Sweden</th>\n",
       "      <td>0.000</td>\n",
       "      <td>9.582</td>\n",
       "      <td>0.000</td>\n",
       "      <td>True</td>\n",
       "      <td>0.000</td>\n",
       "      <td>3.945</td>\n",
       "      <td>0.001</td>\n",
       "      <td>True</td>\n",
       "    </tr>\n",
       "  </tbody>\n",
       "</table>\n",
       "<p>7105 rows × 8 columns</p>\n",
       "</div>"
      ],
      "text/plain": [
       "model                                    DAE                                \\\n",
       "var                                    p-unc -Log10 pvalue qvalue rejected   \n",
       "protein groups               Source                                          \n",
       "A0A024QZX5;A0A087X1N8;P35237 AD        0.004         2.362  0.013     True   \n",
       "                             age       0.878         0.057  0.923    False   \n",
       "                             Kiel      0.163         0.788  0.265    False   \n",
       "                             Magdeburg 0.064         1.195  0.125    False   \n",
       "                             Sweden    0.001         3.267  0.002     True   \n",
       "...                                      ...           ...    ...      ...   \n",
       "S4R3U6                       AD        0.014         1.845  0.036     True   \n",
       "                             age       0.294         0.532  0.423    False   \n",
       "                             Kiel      0.018         1.750  0.044     True   \n",
       "                             Magdeburg 0.021         1.677  0.050    False   \n",
       "                             Sweden    0.000         9.582  0.000     True   \n",
       "\n",
       "model                                     PI                                \n",
       "var                                    p-unc -Log10 pvalue qvalue rejected  \n",
       "protein groups               Source                                         \n",
       "A0A024QZX5;A0A087X1N8;P35237 AD        0.810         0.092  0.887    False  \n",
       "                             age       0.602         0.220  0.735    False  \n",
       "                             Kiel      0.061         1.217  0.142    False  \n",
       "                             Magdeburg 0.003         2.530  0.012     True  \n",
       "                             Sweden    0.000         3.678  0.001     True  \n",
       "...                                      ...           ...    ...      ...  \n",
       "S4R3U6                       AD        0.173         0.762  0.312    False  \n",
       "                             age       0.365         0.438  0.524    False  \n",
       "                             Kiel      0.877         0.057  0.931    False  \n",
       "                             Magdeburg 0.208         0.682  0.355    False  \n",
       "                             Sweden    0.000         3.945  0.001     True  \n",
       "\n",
       "[7105 rows x 8 columns]"
      ]
     },
     "execution_count": 8,
     "metadata": {},
     "output_type": "execute_result"
    }
   ],
   "source": [
    "scores = scores_model.join(scores_baseline, how='outer')[[args.baseline, args.model_key]]\n",
    "scores = scores.loc[:, pd.IndexSlice[scores.columns.levels[0].to_list(),\n",
    "                                     args.selected_statistics]]\n",
    "scores"
   ]
  },
  {
   "cell_type": "markdown",
   "id": "b84a6e5a",
   "metadata": {
    "papermill": {
     "duration": 0.014999,
     "end_time": "2024-06-12T02:58:03.682862",
     "exception": false,
     "start_time": "2024-06-12T02:58:03.667863",
     "status": "completed"
    },
    "tags": []
   },
   "source": [
    "Models in comparison (name mapping)"
   ]
  },
  {
   "cell_type": "code",
   "execution_count": 9,
   "id": "34d243d1-3ab4-40e7-9eb8-f9efc828b82d",
   "metadata": {
    "execution": {
     "iopub.execute_input": "2024-06-12T02:58:03.713924Z",
     "iopub.status.busy": "2024-06-12T02:58:03.713572Z",
     "iopub.status.idle": "2024-06-12T02:58:03.719732Z",
     "shell.execute_reply": "2024-06-12T02:58:03.719010Z"
    },
    "papermill": {
     "duration": 0.026589,
     "end_time": "2024-06-12T02:58:03.724155",
     "exception": false,
     "start_time": "2024-06-12T02:58:03.697566",
     "status": "completed"
    },
    "tags": [
     "hide-input"
    ]
   },
   "outputs": [
    {
     "data": {
      "text/plain": [
       "{'DAE': 'DAE', 'PI': 'PI'}"
      ]
     },
     "execution_count": 9,
     "metadata": {},
     "output_type": "execute_result"
    }
   ],
   "source": [
    "models = vaep.nb.Config.from_dict(\n",
    "    vaep.pandas.index_to_dict(scores.columns.get_level_values(0)))\n",
    "vars(models)"
   ]
  },
  {
   "cell_type": "markdown",
   "id": "dd7a560d",
   "metadata": {
    "papermill": {
     "duration": 0.014967,
     "end_time": "2024-06-12T02:58:03.754239",
     "exception": false,
     "start_time": "2024-06-12T02:58:03.739272",
     "status": "completed"
    },
    "tags": []
   },
   "source": [
    "## Describe scores"
   ]
  },
  {
   "cell_type": "code",
   "execution_count": 10,
   "id": "0fee8f5d-fa52-4369-a1f9-fcfd518ab6bd",
   "metadata": {
    "execution": {
     "iopub.execute_input": "2024-06-12T02:58:03.821073Z",
     "iopub.status.busy": "2024-06-12T02:58:03.820696Z",
     "iopub.status.idle": "2024-06-12T02:58:03.855417Z",
     "shell.execute_reply": "2024-06-12T02:58:03.854709Z"
    },
    "papermill": {
     "duration": 0.088286,
     "end_time": "2024-06-12T02:58:03.857306",
     "exception": false,
     "start_time": "2024-06-12T02:58:03.769020",
     "status": "completed"
    },
    "tags": [
     "hide-input"
    ]
   },
   "outputs": [
    {
     "data": {
      "text/html": [
       "<div>\n",
       "<style scoped>\n",
       "    .dataframe tbody tr th:only-of-type {\n",
       "        vertical-align: middle;\n",
       "    }\n",
       "\n",
       "    .dataframe tbody tr th {\n",
       "        vertical-align: top;\n",
       "    }\n",
       "\n",
       "    .dataframe thead tr th {\n",
       "        text-align: left;\n",
       "    }\n",
       "</style>\n",
       "<table border=\"1\" class=\"dataframe\">\n",
       "  <thead>\n",
       "    <tr>\n",
       "      <th>model</th>\n",
       "      <th colspan=\"3\" halign=\"left\">DAE</th>\n",
       "      <th colspan=\"3\" halign=\"left\">PI</th>\n",
       "    </tr>\n",
       "    <tr>\n",
       "      <th>var</th>\n",
       "      <th>p-unc</th>\n",
       "      <th>-Log10 pvalue</th>\n",
       "      <th>qvalue</th>\n",
       "      <th>p-unc</th>\n",
       "      <th>-Log10 pvalue</th>\n",
       "      <th>qvalue</th>\n",
       "    </tr>\n",
       "  </thead>\n",
       "  <tbody>\n",
       "    <tr>\n",
       "      <th>count</th>\n",
       "      <td>7,105.000</td>\n",
       "      <td>7,105.000</td>\n",
       "      <td>7,105.000</td>\n",
       "      <td>7,105.000</td>\n",
       "      <td>7,105.000</td>\n",
       "      <td>7,105.000</td>\n",
       "    </tr>\n",
       "    <tr>\n",
       "      <th>mean</th>\n",
       "      <td>0.223</td>\n",
       "      <td>3.380</td>\n",
       "      <td>0.276</td>\n",
       "      <td>0.260</td>\n",
       "      <td>2.494</td>\n",
       "      <td>0.336</td>\n",
       "    </tr>\n",
       "    <tr>\n",
       "      <th>std</th>\n",
       "      <td>0.294</td>\n",
       "      <td>6.547</td>\n",
       "      <td>0.320</td>\n",
       "      <td>0.303</td>\n",
       "      <td>5.380</td>\n",
       "      <td>0.331</td>\n",
       "    </tr>\n",
       "    <tr>\n",
       "      <th>min</th>\n",
       "      <td>0.000</td>\n",
       "      <td>0.000</td>\n",
       "      <td>0.000</td>\n",
       "      <td>0.000</td>\n",
       "      <td>0.000</td>\n",
       "      <td>0.000</td>\n",
       "    </tr>\n",
       "    <tr>\n",
       "      <th>25%</th>\n",
       "      <td>0.000</td>\n",
       "      <td>0.412</td>\n",
       "      <td>0.002</td>\n",
       "      <td>0.004</td>\n",
       "      <td>0.338</td>\n",
       "      <td>0.015</td>\n",
       "    </tr>\n",
       "    <tr>\n",
       "      <th>50%</th>\n",
       "      <td>0.057</td>\n",
       "      <td>1.246</td>\n",
       "      <td>0.114</td>\n",
       "      <td>0.121</td>\n",
       "      <td>0.918</td>\n",
       "      <td>0.241</td>\n",
       "    </tr>\n",
       "    <tr>\n",
       "      <th>75%</th>\n",
       "      <td>0.387</td>\n",
       "      <td>3.331</td>\n",
       "      <td>0.516</td>\n",
       "      <td>0.459</td>\n",
       "      <td>2.427</td>\n",
       "      <td>0.612</td>\n",
       "    </tr>\n",
       "    <tr>\n",
       "      <th>max</th>\n",
       "      <td>1.000</td>\n",
       "      <td>86.869</td>\n",
       "      <td>1.000</td>\n",
       "      <td>0.999</td>\n",
       "      <td>148.516</td>\n",
       "      <td>0.999</td>\n",
       "    </tr>\n",
       "  </tbody>\n",
       "</table>\n",
       "</div>"
      ],
      "text/plain": [
       "model       DAE                                PI                        \n",
       "var       p-unc -Log10 pvalue    qvalue     p-unc -Log10 pvalue    qvalue\n",
       "count 7,105.000     7,105.000 7,105.000 7,105.000     7,105.000 7,105.000\n",
       "mean      0.223         3.380     0.276     0.260         2.494     0.336\n",
       "std       0.294         6.547     0.320     0.303         5.380     0.331\n",
       "min       0.000         0.000     0.000     0.000         0.000     0.000\n",
       "25%       0.000         0.412     0.002     0.004         0.338     0.015\n",
       "50%       0.057         1.246     0.114     0.121         0.918     0.241\n",
       "75%       0.387         3.331     0.516     0.459         2.427     0.612\n",
       "max       1.000        86.869     1.000     0.999       148.516     0.999"
      ]
     },
     "execution_count": 10,
     "metadata": {},
     "output_type": "execute_result"
    }
   ],
   "source": [
    "scores.describe()"
   ]
  },
  {
   "cell_type": "markdown",
   "id": "52ecc596",
   "metadata": {
    "papermill": {
     "duration": 0.011899,
     "end_time": "2024-06-12T02:58:03.881274",
     "exception": false,
     "start_time": "2024-06-12T02:58:03.869375",
     "status": "completed"
    },
    "tags": []
   },
   "source": [
    "### One to one comparison of by feature:"
   ]
  },
  {
   "cell_type": "code",
   "execution_count": 11,
   "id": "c6e5a0a6-343b-4f07-8d9d-2cd5cf95ae1f",
   "metadata": {
    "execution": {
     "iopub.execute_input": "2024-06-12T02:58:03.907712Z",
     "iopub.status.busy": "2024-06-12T02:58:03.907102Z",
     "iopub.status.idle": "2024-06-12T02:58:04.323087Z",
     "shell.execute_reply": "2024-06-12T02:58:04.322417Z"
    },
    "papermill": {
     "duration": 0.431073,
     "end_time": "2024-06-12T02:58:04.324911",
     "exception": false,
     "start_time": "2024-06-12T02:58:03.893838",
     "status": "completed"
    },
    "tags": [
     "hide-input"
    ]
   },
   "outputs": [
    {
     "data": {
      "text/html": [
       "<div>\n",
       "<style scoped>\n",
       "    .dataframe tbody tr th:only-of-type {\n",
       "        vertical-align: middle;\n",
       "    }\n",
       "\n",
       "    .dataframe tbody tr th {\n",
       "        vertical-align: top;\n",
       "    }\n",
       "\n",
       "    .dataframe thead tr th {\n",
       "        text-align: left;\n",
       "    }\n",
       "\n",
       "    .dataframe thead tr:last-of-type th {\n",
       "        text-align: right;\n",
       "    }\n",
       "</style>\n",
       "<table border=\"1\" class=\"dataframe\">\n",
       "  <thead>\n",
       "    <tr>\n",
       "      <th></th>\n",
       "      <th>model</th>\n",
       "      <th colspan=\"4\" halign=\"left\">DAE</th>\n",
       "      <th colspan=\"4\" halign=\"left\">PI</th>\n",
       "    </tr>\n",
       "    <tr>\n",
       "      <th></th>\n",
       "      <th>var</th>\n",
       "      <th>p-unc</th>\n",
       "      <th>-Log10 pvalue</th>\n",
       "      <th>qvalue</th>\n",
       "      <th>rejected</th>\n",
       "      <th>p-unc</th>\n",
       "      <th>-Log10 pvalue</th>\n",
       "      <th>qvalue</th>\n",
       "      <th>rejected</th>\n",
       "    </tr>\n",
       "    <tr>\n",
       "      <th>protein groups</th>\n",
       "      <th>Source</th>\n",
       "      <th></th>\n",
       "      <th></th>\n",
       "      <th></th>\n",
       "      <th></th>\n",
       "      <th></th>\n",
       "      <th></th>\n",
       "      <th></th>\n",
       "      <th></th>\n",
       "    </tr>\n",
       "  </thead>\n",
       "  <tbody>\n",
       "    <tr>\n",
       "      <th>A0A024QZX5;A0A087X1N8;P35237</th>\n",
       "      <th>AD</th>\n",
       "      <td>0.004</td>\n",
       "      <td>2.362</td>\n",
       "      <td>0.013</td>\n",
       "      <td>True</td>\n",
       "      <td>0.810</td>\n",
       "      <td>0.092</td>\n",
       "      <td>0.887</td>\n",
       "      <td>False</td>\n",
       "    </tr>\n",
       "    <tr>\n",
       "      <th>A0A024R0T9;K7ER74;P02655</th>\n",
       "      <th>AD</th>\n",
       "      <td>0.035</td>\n",
       "      <td>1.462</td>\n",
       "      <td>0.076</td>\n",
       "      <td>False</td>\n",
       "      <td>0.038</td>\n",
       "      <td>1.420</td>\n",
       "      <td>0.098</td>\n",
       "      <td>False</td>\n",
       "    </tr>\n",
       "    <tr>\n",
       "      <th>A0A024R3W6;A0A024R412;O60462;O60462-2;O60462-3;O60462-4;O60462-5;Q7LBX6;X5D2Q8</th>\n",
       "      <th>AD</th>\n",
       "      <td>0.324</td>\n",
       "      <td>0.490</td>\n",
       "      <td>0.455</td>\n",
       "      <td>False</td>\n",
       "      <td>0.131</td>\n",
       "      <td>0.882</td>\n",
       "      <td>0.256</td>\n",
       "      <td>False</td>\n",
       "    </tr>\n",
       "    <tr>\n",
       "      <th>A0A024R644;A0A0A0MRU5;A0A1B0GWI2;O75503</th>\n",
       "      <th>AD</th>\n",
       "      <td>0.252</td>\n",
       "      <td>0.599</td>\n",
       "      <td>0.375</td>\n",
       "      <td>False</td>\n",
       "      <td>0.581</td>\n",
       "      <td>0.236</td>\n",
       "      <td>0.717</td>\n",
       "      <td>False</td>\n",
       "    </tr>\n",
       "    <tr>\n",
       "      <th>A0A075B6H7</th>\n",
       "      <th>AD</th>\n",
       "      <td>0.014</td>\n",
       "      <td>1.849</td>\n",
       "      <td>0.036</td>\n",
       "      <td>True</td>\n",
       "      <td>0.081</td>\n",
       "      <td>1.091</td>\n",
       "      <td>0.177</td>\n",
       "      <td>False</td>\n",
       "    </tr>\n",
       "    <tr>\n",
       "      <th>...</th>\n",
       "      <th>...</th>\n",
       "      <td>...</td>\n",
       "      <td>...</td>\n",
       "      <td>...</td>\n",
       "      <td>...</td>\n",
       "      <td>...</td>\n",
       "      <td>...</td>\n",
       "      <td>...</td>\n",
       "      <td>...</td>\n",
       "    </tr>\n",
       "    <tr>\n",
       "      <th>Q9Y6R7</th>\n",
       "      <th>AD</th>\n",
       "      <td>0.175</td>\n",
       "      <td>0.756</td>\n",
       "      <td>0.282</td>\n",
       "      <td>False</td>\n",
       "      <td>0.175</td>\n",
       "      <td>0.756</td>\n",
       "      <td>0.315</td>\n",
       "      <td>False</td>\n",
       "    </tr>\n",
       "    <tr>\n",
       "      <th>Q9Y6X5</th>\n",
       "      <th>AD</th>\n",
       "      <td>0.252</td>\n",
       "      <td>0.599</td>\n",
       "      <td>0.376</td>\n",
       "      <td>False</td>\n",
       "      <td>0.091</td>\n",
       "      <td>1.039</td>\n",
       "      <td>0.195</td>\n",
       "      <td>False</td>\n",
       "    </tr>\n",
       "    <tr>\n",
       "      <th>Q9Y6Y8;Q9Y6Y8-2</th>\n",
       "      <th>AD</th>\n",
       "      <td>0.083</td>\n",
       "      <td>1.079</td>\n",
       "      <td>0.156</td>\n",
       "      <td>False</td>\n",
       "      <td>0.083</td>\n",
       "      <td>1.079</td>\n",
       "      <td>0.181</td>\n",
       "      <td>False</td>\n",
       "    </tr>\n",
       "    <tr>\n",
       "      <th>Q9Y6Y9</th>\n",
       "      <th>AD</th>\n",
       "      <td>0.708</td>\n",
       "      <td>0.150</td>\n",
       "      <td>0.797</td>\n",
       "      <td>False</td>\n",
       "      <td>0.607</td>\n",
       "      <td>0.217</td>\n",
       "      <td>0.739</td>\n",
       "      <td>False</td>\n",
       "    </tr>\n",
       "    <tr>\n",
       "      <th>S4R3U6</th>\n",
       "      <th>AD</th>\n",
       "      <td>0.014</td>\n",
       "      <td>1.845</td>\n",
       "      <td>0.036</td>\n",
       "      <td>True</td>\n",
       "      <td>0.173</td>\n",
       "      <td>0.762</td>\n",
       "      <td>0.312</td>\n",
       "      <td>False</td>\n",
       "    </tr>\n",
       "  </tbody>\n",
       "</table>\n",
       "<p>1421 rows × 8 columns</p>\n",
       "</div>"
      ],
      "text/plain": [
       "model                                                       DAE                \\\n",
       "var                                                       p-unc -Log10 pvalue   \n",
       "protein groups                                     Source                       \n",
       "A0A024QZX5;A0A087X1N8;P35237                       AD     0.004         2.362   \n",
       "A0A024R0T9;K7ER74;P02655                           AD     0.035         1.462   \n",
       "A0A024R3W6;A0A024R412;O60462;O60462-2;O60462-3;... AD     0.324         0.490   \n",
       "A0A024R644;A0A0A0MRU5;A0A1B0GWI2;O75503            AD     0.252         0.599   \n",
       "A0A075B6H7                                         AD     0.014         1.849   \n",
       "...                                                         ...           ...   \n",
       "Q9Y6R7                                             AD     0.175         0.756   \n",
       "Q9Y6X5                                             AD     0.252         0.599   \n",
       "Q9Y6Y8;Q9Y6Y8-2                                    AD     0.083         1.079   \n",
       "Q9Y6Y9                                             AD     0.708         0.150   \n",
       "S4R3U6                                             AD     0.014         1.845   \n",
       "\n",
       "model                                                                      \\\n",
       "var                                                       qvalue rejected   \n",
       "protein groups                                     Source                   \n",
       "A0A024QZX5;A0A087X1N8;P35237                       AD      0.013     True   \n",
       "A0A024R0T9;K7ER74;P02655                           AD      0.076    False   \n",
       "A0A024R3W6;A0A024R412;O60462;O60462-2;O60462-3;... AD      0.455    False   \n",
       "A0A024R644;A0A0A0MRU5;A0A1B0GWI2;O75503            AD      0.375    False   \n",
       "A0A075B6H7                                         AD      0.036     True   \n",
       "...                                                          ...      ...   \n",
       "Q9Y6R7                                             AD      0.282    False   \n",
       "Q9Y6X5                                             AD      0.376    False   \n",
       "Q9Y6Y8;Q9Y6Y8-2                                    AD      0.156    False   \n",
       "Q9Y6Y9                                             AD      0.797    False   \n",
       "S4R3U6                                             AD      0.036     True   \n",
       "\n",
       "model                                                        PI                \\\n",
       "var                                                       p-unc -Log10 pvalue   \n",
       "protein groups                                     Source                       \n",
       "A0A024QZX5;A0A087X1N8;P35237                       AD     0.810         0.092   \n",
       "A0A024R0T9;K7ER74;P02655                           AD     0.038         1.420   \n",
       "A0A024R3W6;A0A024R412;O60462;O60462-2;O60462-3;... AD     0.131         0.882   \n",
       "A0A024R644;A0A0A0MRU5;A0A1B0GWI2;O75503            AD     0.581         0.236   \n",
       "A0A075B6H7                                         AD     0.081         1.091   \n",
       "...                                                         ...           ...   \n",
       "Q9Y6R7                                             AD     0.175         0.756   \n",
       "Q9Y6X5                                             AD     0.091         1.039   \n",
       "Q9Y6Y8;Q9Y6Y8-2                                    AD     0.083         1.079   \n",
       "Q9Y6Y9                                             AD     0.607         0.217   \n",
       "S4R3U6                                             AD     0.173         0.762   \n",
       "\n",
       "model                                                                      \n",
       "var                                                       qvalue rejected  \n",
       "protein groups                                     Source                  \n",
       "A0A024QZX5;A0A087X1N8;P35237                       AD      0.887    False  \n",
       "A0A024R0T9;K7ER74;P02655                           AD      0.098    False  \n",
       "A0A024R3W6;A0A024R412;O60462;O60462-2;O60462-3;... AD      0.256    False  \n",
       "A0A024R644;A0A0A0MRU5;A0A1B0GWI2;O75503            AD      0.717    False  \n",
       "A0A075B6H7                                         AD      0.177    False  \n",
       "...                                                          ...      ...  \n",
       "Q9Y6R7                                             AD      0.315    False  \n",
       "Q9Y6X5                                             AD      0.195    False  \n",
       "Q9Y6Y8;Q9Y6Y8-2                                    AD      0.181    False  \n",
       "Q9Y6Y9                                             AD      0.739    False  \n",
       "S4R3U6                                             AD      0.312    False  \n",
       "\n",
       "[1421 rows x 8 columns]"
      ]
     },
     "execution_count": 11,
     "metadata": {},
     "output_type": "execute_result"
    }
   ],
   "source": [
    "scores = scores.loc[pd.IndexSlice[:, args.target], :]\n",
    "scores.to_excel(writer, 'scores', **writer_args)\n",
    "scores"
   ]
  },
  {
   "cell_type": "markdown",
   "id": "36e14580",
   "metadata": {
    "papermill": {
     "duration": 0.014652,
     "end_time": "2024-06-12T02:58:04.353776",
     "exception": false,
     "start_time": "2024-06-12T02:58:04.339124",
     "status": "completed"
    },
    "tags": []
   },
   "source": [
    "And the descriptive statistics\n",
    "of the numeric values:"
   ]
  },
  {
   "cell_type": "code",
   "execution_count": 12,
   "id": "0e45e80a-32d8-4c6c-b0a4-5ce8b7f9e121",
   "metadata": {
    "execution": {
     "iopub.execute_input": "2024-06-12T02:58:04.392196Z",
     "iopub.status.busy": "2024-06-12T02:58:04.391861Z",
     "iopub.status.idle": "2024-06-12T02:58:04.421070Z",
     "shell.execute_reply": "2024-06-12T02:58:04.420335Z"
    },
    "papermill": {
     "duration": 0.046029,
     "end_time": "2024-06-12T02:58:04.422922",
     "exception": false,
     "start_time": "2024-06-12T02:58:04.376893",
     "status": "completed"
    },
    "tags": [
     "hide-input"
    ]
   },
   "outputs": [
    {
     "data": {
      "text/html": [
       "<div>\n",
       "<style scoped>\n",
       "    .dataframe tbody tr th:only-of-type {\n",
       "        vertical-align: middle;\n",
       "    }\n",
       "\n",
       "    .dataframe tbody tr th {\n",
       "        vertical-align: top;\n",
       "    }\n",
       "\n",
       "    .dataframe thead tr th {\n",
       "        text-align: left;\n",
       "    }\n",
       "</style>\n",
       "<table border=\"1\" class=\"dataframe\">\n",
       "  <thead>\n",
       "    <tr>\n",
       "      <th>model</th>\n",
       "      <th colspan=\"3\" halign=\"left\">DAE</th>\n",
       "      <th colspan=\"3\" halign=\"left\">PI</th>\n",
       "    </tr>\n",
       "    <tr>\n",
       "      <th>var</th>\n",
       "      <th>p-unc</th>\n",
       "      <th>-Log10 pvalue</th>\n",
       "      <th>qvalue</th>\n",
       "      <th>p-unc</th>\n",
       "      <th>-Log10 pvalue</th>\n",
       "      <th>qvalue</th>\n",
       "    </tr>\n",
       "  </thead>\n",
       "  <tbody>\n",
       "    <tr>\n",
       "      <th>count</th>\n",
       "      <td>1,421.000</td>\n",
       "      <td>1,421.000</td>\n",
       "      <td>1,421.000</td>\n",
       "      <td>1,421.000</td>\n",
       "      <td>1,421.000</td>\n",
       "      <td>1,421.000</td>\n",
       "    </tr>\n",
       "    <tr>\n",
       "      <th>mean</th>\n",
       "      <td>0.244</td>\n",
       "      <td>1.583</td>\n",
       "      <td>0.303</td>\n",
       "      <td>0.252</td>\n",
       "      <td>1.415</td>\n",
       "      <td>0.334</td>\n",
       "    </tr>\n",
       "    <tr>\n",
       "      <th>std</th>\n",
       "      <td>0.296</td>\n",
       "      <td>1.862</td>\n",
       "      <td>0.319</td>\n",
       "      <td>0.292</td>\n",
       "      <td>1.665</td>\n",
       "      <td>0.316</td>\n",
       "    </tr>\n",
       "    <tr>\n",
       "      <th>min</th>\n",
       "      <td>0.000</td>\n",
       "      <td>0.000</td>\n",
       "      <td>0.000</td>\n",
       "      <td>0.000</td>\n",
       "      <td>0.001</td>\n",
       "      <td>0.000</td>\n",
       "    </tr>\n",
       "    <tr>\n",
       "      <th>25%</th>\n",
       "      <td>0.007</td>\n",
       "      <td>0.372</td>\n",
       "      <td>0.020</td>\n",
       "      <td>0.012</td>\n",
       "      <td>0.375</td>\n",
       "      <td>0.038</td>\n",
       "    </tr>\n",
       "    <tr>\n",
       "      <th>50%</th>\n",
       "      <td>0.089</td>\n",
       "      <td>1.051</td>\n",
       "      <td>0.164</td>\n",
       "      <td>0.120</td>\n",
       "      <td>0.920</td>\n",
       "      <td>0.241</td>\n",
       "    </tr>\n",
       "    <tr>\n",
       "      <th>75%</th>\n",
       "      <td>0.425</td>\n",
       "      <td>2.141</td>\n",
       "      <td>0.553</td>\n",
       "      <td>0.421</td>\n",
       "      <td>1.931</td>\n",
       "      <td>0.579</td>\n",
       "    </tr>\n",
       "    <tr>\n",
       "      <th>max</th>\n",
       "      <td>0.999</td>\n",
       "      <td>23.464</td>\n",
       "      <td>1.000</td>\n",
       "      <td>0.997</td>\n",
       "      <td>24.919</td>\n",
       "      <td>0.998</td>\n",
       "    </tr>\n",
       "  </tbody>\n",
       "</table>\n",
       "</div>"
      ],
      "text/plain": [
       "model       DAE                                PI                        \n",
       "var       p-unc -Log10 pvalue    qvalue     p-unc -Log10 pvalue    qvalue\n",
       "count 1,421.000     1,421.000 1,421.000 1,421.000     1,421.000 1,421.000\n",
       "mean      0.244         1.583     0.303     0.252         1.415     0.334\n",
       "std       0.296         1.862     0.319     0.292         1.665     0.316\n",
       "min       0.000         0.000     0.000     0.000         0.001     0.000\n",
       "25%       0.007         0.372     0.020     0.012         0.375     0.038\n",
       "50%       0.089         1.051     0.164     0.120         0.920     0.241\n",
       "75%       0.425         2.141     0.553     0.421         1.931     0.579\n",
       "max       0.999        23.464     1.000     0.997        24.919     0.998"
      ]
     },
     "execution_count": 12,
     "metadata": {},
     "output_type": "execute_result"
    }
   ],
   "source": [
    "scores.describe()"
   ]
  },
  {
   "cell_type": "markdown",
   "id": "e520d6dc",
   "metadata": {
    "papermill": {
     "duration": 0.016731,
     "end_time": "2024-06-12T02:58:04.454355",
     "exception": false,
     "start_time": "2024-06-12T02:58:04.437624",
     "status": "completed"
    },
    "tags": []
   },
   "source": [
    "and the boolean decision values"
   ]
  },
  {
   "cell_type": "code",
   "execution_count": 13,
   "id": "53bd5597-221c-4d54-abf2-82956db42594",
   "metadata": {
    "execution": {
     "iopub.execute_input": "2024-06-12T02:58:04.486640Z",
     "iopub.status.busy": "2024-06-12T02:58:04.486283Z",
     "iopub.status.idle": "2024-06-12T02:58:04.500786Z",
     "shell.execute_reply": "2024-06-12T02:58:04.499933Z"
    },
    "lines_to_next_cell": 2,
    "papermill": {
     "duration": 0.032879,
     "end_time": "2024-06-12T02:58:04.502571",
     "exception": false,
     "start_time": "2024-06-12T02:58:04.469692",
     "status": "completed"
    },
    "tags": [
     "hide-input"
    ]
   },
   "outputs": [
    {
     "data": {
      "text/html": [
       "<div>\n",
       "<style scoped>\n",
       "    .dataframe tbody tr th:only-of-type {\n",
       "        vertical-align: middle;\n",
       "    }\n",
       "\n",
       "    .dataframe tbody tr th {\n",
       "        vertical-align: top;\n",
       "    }\n",
       "\n",
       "    .dataframe thead tr th {\n",
       "        text-align: left;\n",
       "    }\n",
       "</style>\n",
       "<table border=\"1\" class=\"dataframe\">\n",
       "  <thead>\n",
       "    <tr>\n",
       "      <th>model</th>\n",
       "      <th>DAE</th>\n",
       "      <th>PI</th>\n",
       "    </tr>\n",
       "    <tr>\n",
       "      <th>var</th>\n",
       "      <th>rejected</th>\n",
       "      <th>rejected</th>\n",
       "    </tr>\n",
       "  </thead>\n",
       "  <tbody>\n",
       "    <tr>\n",
       "      <th>count</th>\n",
       "      <td>1421</td>\n",
       "      <td>1421</td>\n",
       "    </tr>\n",
       "    <tr>\n",
       "      <th>unique</th>\n",
       "      <td>2</td>\n",
       "      <td>2</td>\n",
       "    </tr>\n",
       "    <tr>\n",
       "      <th>top</th>\n",
       "      <td>False</td>\n",
       "      <td>False</td>\n",
       "    </tr>\n",
       "    <tr>\n",
       "      <th>freq</th>\n",
       "      <td>938</td>\n",
       "      <td>1030</td>\n",
       "    </tr>\n",
       "  </tbody>\n",
       "</table>\n",
       "</div>"
      ],
      "text/plain": [
       "model       DAE       PI\n",
       "var    rejected rejected\n",
       "count      1421     1421\n",
       "unique        2        2\n",
       "top       False    False\n",
       "freq        938     1030"
      ]
     },
     "execution_count": 13,
     "metadata": {},
     "output_type": "execute_result"
    }
   ],
   "source": [
    "scores.describe(include=['bool', 'O'])"
   ]
  },
  {
   "cell_type": "markdown",
   "id": "bef83742-05e5-473b-892e-dd286cb3a31f",
   "metadata": {
    "papermill": {
     "duration": 0.016214,
     "end_time": "2024-06-12T02:58:04.534827",
     "exception": false,
     "start_time": "2024-06-12T02:58:04.518613",
     "status": "completed"
    },
    "tags": []
   },
   "source": [
    "## Load frequencies of observed features"
   ]
  },
  {
   "cell_type": "code",
   "execution_count": 14,
   "id": "2a926ba1-0f3b-4089-a349-b6d66128cf37",
   "metadata": {
    "execution": {
     "iopub.execute_input": "2024-06-12T02:58:04.569078Z",
     "iopub.status.busy": "2024-06-12T02:58:04.568716Z",
     "iopub.status.idle": "2024-06-12T02:58:04.586917Z",
     "shell.execute_reply": "2024-06-12T02:58:04.586128Z"
    },
    "papermill": {
     "duration": 0.036996,
     "end_time": "2024-06-12T02:58:04.588882",
     "exception": false,
     "start_time": "2024-06-12T02:58:04.551886",
     "status": "completed"
    },
    "tags": [
     "hide-input"
    ]
   },
   "outputs": [
    {
     "data": {
      "text/html": [
       "<div>\n",
       "<style scoped>\n",
       "    .dataframe tbody tr th:only-of-type {\n",
       "        vertical-align: middle;\n",
       "    }\n",
       "\n",
       "    .dataframe tbody tr th {\n",
       "        vertical-align: top;\n",
       "    }\n",
       "\n",
       "    .dataframe thead tr th {\n",
       "        text-align: left;\n",
       "    }\n",
       "\n",
       "    .dataframe thead tr:last-of-type th {\n",
       "        text-align: right;\n",
       "    }\n",
       "</style>\n",
       "<table border=\"1\" class=\"dataframe\">\n",
       "  <thead>\n",
       "    <tr>\n",
       "      <th></th>\n",
       "      <th>data</th>\n",
       "    </tr>\n",
       "    <tr>\n",
       "      <th></th>\n",
       "      <th>frequency</th>\n",
       "    </tr>\n",
       "    <tr>\n",
       "      <th>protein groups</th>\n",
       "      <th></th>\n",
       "    </tr>\n",
       "  </thead>\n",
       "  <tbody>\n",
       "    <tr>\n",
       "      <th>A0A024QZX5;A0A087X1N8;P35237</th>\n",
       "      <td>186</td>\n",
       "    </tr>\n",
       "    <tr>\n",
       "      <th>A0A024R0T9;K7ER74;P02655</th>\n",
       "      <td>195</td>\n",
       "    </tr>\n",
       "    <tr>\n",
       "      <th>A0A024R3W6;A0A024R412;O60462;O60462-2;O60462-3;O60462-4;O60462-5;Q7LBX6;X5D2Q8</th>\n",
       "      <td>174</td>\n",
       "    </tr>\n",
       "    <tr>\n",
       "      <th>A0A024R644;A0A0A0MRU5;A0A1B0GWI2;O75503</th>\n",
       "      <td>196</td>\n",
       "    </tr>\n",
       "    <tr>\n",
       "      <th>A0A075B6H7</th>\n",
       "      <td>91</td>\n",
       "    </tr>\n",
       "    <tr>\n",
       "      <th>...</th>\n",
       "      <td>...</td>\n",
       "    </tr>\n",
       "    <tr>\n",
       "      <th>Q9Y6R7</th>\n",
       "      <td>197</td>\n",
       "    </tr>\n",
       "    <tr>\n",
       "      <th>Q9Y6X5</th>\n",
       "      <td>173</td>\n",
       "    </tr>\n",
       "    <tr>\n",
       "      <th>Q9Y6Y8;Q9Y6Y8-2</th>\n",
       "      <td>197</td>\n",
       "    </tr>\n",
       "    <tr>\n",
       "      <th>Q9Y6Y9</th>\n",
       "      <td>119</td>\n",
       "    </tr>\n",
       "    <tr>\n",
       "      <th>S4R3U6</th>\n",
       "      <td>126</td>\n",
       "    </tr>\n",
       "  </tbody>\n",
       "</table>\n",
       "<p>1421 rows × 1 columns</p>\n",
       "</div>"
      ],
      "text/plain": [
       "                                                        data\n",
       "                                                   frequency\n",
       "protein groups                                              \n",
       "A0A024QZX5;A0A087X1N8;P35237                             186\n",
       "A0A024R0T9;K7ER74;P02655                                 195\n",
       "A0A024R3W6;A0A024R412;O60462;O60462-2;O60462-3;...       174\n",
       "A0A024R644;A0A0A0MRU5;A0A1B0GWI2;O75503                  196\n",
       "A0A075B6H7                                                91\n",
       "...                                                      ...\n",
       "Q9Y6R7                                                   197\n",
       "Q9Y6X5                                                   173\n",
       "Q9Y6Y8;Q9Y6Y8-2                                          197\n",
       "Q9Y6Y9                                                   119\n",
       "S4R3U6                                                   126\n",
       "\n",
       "[1421 rows x 1 columns]"
      ]
     },
     "execution_count": 14,
     "metadata": {},
     "output_type": "execute_result"
    }
   ],
   "source": [
    "freq_feat = pd.read_csv(args.freq_features_observed, index_col=0)\n",
    "freq_feat.columns = pd.MultiIndex.from_tuples([('data', 'frequency'),])\n",
    "freq_feat"
   ]
  },
  {
   "cell_type": "markdown",
   "id": "408eacfe-770f-42ff-9057-2a98274e1ae3",
   "metadata": {
    "papermill": {
     "duration": 0.037257,
     "end_time": "2024-06-12T02:58:04.655062",
     "exception": false,
     "start_time": "2024-06-12T02:58:04.617805",
     "status": "completed"
    },
    "tags": []
   },
   "source": [
    "## Compare shared features"
   ]
  },
  {
   "cell_type": "code",
   "execution_count": 15,
   "id": "5b2dfb0f-195b-4044-a228-2d784ea2a458",
   "metadata": {
    "execution": {
     "iopub.execute_input": "2024-06-12T02:58:04.730820Z",
     "iopub.status.busy": "2024-06-12T02:58:04.730516Z",
     "iopub.status.idle": "2024-06-12T02:58:04.753402Z",
     "shell.execute_reply": "2024-06-12T02:58:04.752593Z"
    },
    "papermill": {
     "duration": 0.060534,
     "end_time": "2024-06-12T02:58:04.755449",
     "exception": false,
     "start_time": "2024-06-12T02:58:04.694915",
     "status": "completed"
    },
    "tags": [
     "hide-input"
    ]
   },
   "outputs": [
    {
     "data": {
      "text/html": [
       "<div>\n",
       "<style scoped>\n",
       "    .dataframe tbody tr th:only-of-type {\n",
       "        vertical-align: middle;\n",
       "    }\n",
       "\n",
       "    .dataframe tbody tr th {\n",
       "        vertical-align: top;\n",
       "    }\n",
       "\n",
       "    .dataframe thead tr th {\n",
       "        text-align: left;\n",
       "    }\n",
       "\n",
       "    .dataframe thead tr:last-of-type th {\n",
       "        text-align: right;\n",
       "    }\n",
       "</style>\n",
       "<table border=\"1\" class=\"dataframe\">\n",
       "  <thead>\n",
       "    <tr>\n",
       "      <th></th>\n",
       "      <th colspan=\"4\" halign=\"left\">DAE</th>\n",
       "      <th colspan=\"4\" halign=\"left\">PI</th>\n",
       "      <th>data</th>\n",
       "    </tr>\n",
       "    <tr>\n",
       "      <th></th>\n",
       "      <th>p-unc</th>\n",
       "      <th>-Log10 pvalue</th>\n",
       "      <th>qvalue</th>\n",
       "      <th>rejected</th>\n",
       "      <th>p-unc</th>\n",
       "      <th>-Log10 pvalue</th>\n",
       "      <th>qvalue</th>\n",
       "      <th>rejected</th>\n",
       "      <th>frequency</th>\n",
       "    </tr>\n",
       "    <tr>\n",
       "      <th>protein groups</th>\n",
       "      <th></th>\n",
       "      <th></th>\n",
       "      <th></th>\n",
       "      <th></th>\n",
       "      <th></th>\n",
       "      <th></th>\n",
       "      <th></th>\n",
       "      <th></th>\n",
       "      <th></th>\n",
       "    </tr>\n",
       "  </thead>\n",
       "  <tbody>\n",
       "    <tr>\n",
       "      <th>A0A024QZX5;A0A087X1N8;P35237</th>\n",
       "      <td>0.004</td>\n",
       "      <td>2.362</td>\n",
       "      <td>0.013</td>\n",
       "      <td>True</td>\n",
       "      <td>0.810</td>\n",
       "      <td>0.092</td>\n",
       "      <td>0.887</td>\n",
       "      <td>False</td>\n",
       "      <td>186</td>\n",
       "    </tr>\n",
       "    <tr>\n",
       "      <th>A0A024R0T9;K7ER74;P02655</th>\n",
       "      <td>0.035</td>\n",
       "      <td>1.462</td>\n",
       "      <td>0.076</td>\n",
       "      <td>False</td>\n",
       "      <td>0.038</td>\n",
       "      <td>1.420</td>\n",
       "      <td>0.098</td>\n",
       "      <td>False</td>\n",
       "      <td>195</td>\n",
       "    </tr>\n",
       "    <tr>\n",
       "      <th>A0A024R3W6;A0A024R412;O60462;O60462-2;O60462-3;O60462-4;O60462-5;Q7LBX6;X5D2Q8</th>\n",
       "      <td>0.324</td>\n",
       "      <td>0.490</td>\n",
       "      <td>0.455</td>\n",
       "      <td>False</td>\n",
       "      <td>0.131</td>\n",
       "      <td>0.882</td>\n",
       "      <td>0.256</td>\n",
       "      <td>False</td>\n",
       "      <td>174</td>\n",
       "    </tr>\n",
       "    <tr>\n",
       "      <th>A0A024R644;A0A0A0MRU5;A0A1B0GWI2;O75503</th>\n",
       "      <td>0.252</td>\n",
       "      <td>0.599</td>\n",
       "      <td>0.375</td>\n",
       "      <td>False</td>\n",
       "      <td>0.581</td>\n",
       "      <td>0.236</td>\n",
       "      <td>0.717</td>\n",
       "      <td>False</td>\n",
       "      <td>196</td>\n",
       "    </tr>\n",
       "    <tr>\n",
       "      <th>A0A075B6H7</th>\n",
       "      <td>0.014</td>\n",
       "      <td>1.849</td>\n",
       "      <td>0.036</td>\n",
       "      <td>True</td>\n",
       "      <td>0.081</td>\n",
       "      <td>1.091</td>\n",
       "      <td>0.177</td>\n",
       "      <td>False</td>\n",
       "      <td>91</td>\n",
       "    </tr>\n",
       "    <tr>\n",
       "      <th>...</th>\n",
       "      <td>...</td>\n",
       "      <td>...</td>\n",
       "      <td>...</td>\n",
       "      <td>...</td>\n",
       "      <td>...</td>\n",
       "      <td>...</td>\n",
       "      <td>...</td>\n",
       "      <td>...</td>\n",
       "      <td>...</td>\n",
       "    </tr>\n",
       "    <tr>\n",
       "      <th>Q9Y6R7</th>\n",
       "      <td>0.175</td>\n",
       "      <td>0.756</td>\n",
       "      <td>0.282</td>\n",
       "      <td>False</td>\n",
       "      <td>0.175</td>\n",
       "      <td>0.756</td>\n",
       "      <td>0.315</td>\n",
       "      <td>False</td>\n",
       "      <td>197</td>\n",
       "    </tr>\n",
       "    <tr>\n",
       "      <th>Q9Y6X5</th>\n",
       "      <td>0.252</td>\n",
       "      <td>0.599</td>\n",
       "      <td>0.376</td>\n",
       "      <td>False</td>\n",
       "      <td>0.091</td>\n",
       "      <td>1.039</td>\n",
       "      <td>0.195</td>\n",
       "      <td>False</td>\n",
       "      <td>173</td>\n",
       "    </tr>\n",
       "    <tr>\n",
       "      <th>Q9Y6Y8;Q9Y6Y8-2</th>\n",
       "      <td>0.083</td>\n",
       "      <td>1.079</td>\n",
       "      <td>0.156</td>\n",
       "      <td>False</td>\n",
       "      <td>0.083</td>\n",
       "      <td>1.079</td>\n",
       "      <td>0.181</td>\n",
       "      <td>False</td>\n",
       "      <td>197</td>\n",
       "    </tr>\n",
       "    <tr>\n",
       "      <th>Q9Y6Y9</th>\n",
       "      <td>0.708</td>\n",
       "      <td>0.150</td>\n",
       "      <td>0.797</td>\n",
       "      <td>False</td>\n",
       "      <td>0.607</td>\n",
       "      <td>0.217</td>\n",
       "      <td>0.739</td>\n",
       "      <td>False</td>\n",
       "      <td>119</td>\n",
       "    </tr>\n",
       "    <tr>\n",
       "      <th>S4R3U6</th>\n",
       "      <td>0.014</td>\n",
       "      <td>1.845</td>\n",
       "      <td>0.036</td>\n",
       "      <td>True</td>\n",
       "      <td>0.173</td>\n",
       "      <td>0.762</td>\n",
       "      <td>0.312</td>\n",
       "      <td>False</td>\n",
       "      <td>126</td>\n",
       "    </tr>\n",
       "  </tbody>\n",
       "</table>\n",
       "<p>1421 rows × 9 columns</p>\n",
       "</div>"
      ],
      "text/plain": [
       "                                                     DAE                       \\\n",
       "                                                   p-unc -Log10 pvalue qvalue   \n",
       "protein groups                                                                  \n",
       "A0A024QZX5;A0A087X1N8;P35237                       0.004         2.362  0.013   \n",
       "A0A024R0T9;K7ER74;P02655                           0.035         1.462  0.076   \n",
       "A0A024R3W6;A0A024R412;O60462;O60462-2;O60462-3;... 0.324         0.490  0.455   \n",
       "A0A024R644;A0A0A0MRU5;A0A1B0GWI2;O75503            0.252         0.599  0.375   \n",
       "A0A075B6H7                                         0.014         1.849  0.036   \n",
       "...                                                  ...           ...    ...   \n",
       "Q9Y6R7                                             0.175         0.756  0.282   \n",
       "Q9Y6X5                                             0.252         0.599  0.376   \n",
       "Q9Y6Y8;Q9Y6Y8-2                                    0.083         1.079  0.156   \n",
       "Q9Y6Y9                                             0.708         0.150  0.797   \n",
       "S4R3U6                                             0.014         1.845  0.036   \n",
       "\n",
       "                                                               PI  \\\n",
       "                                                   rejected p-unc   \n",
       "protein groups                                                      \n",
       "A0A024QZX5;A0A087X1N8;P35237                           True 0.810   \n",
       "A0A024R0T9;K7ER74;P02655                              False 0.038   \n",
       "A0A024R3W6;A0A024R412;O60462;O60462-2;O60462-3;...    False 0.131   \n",
       "A0A024R644;A0A0A0MRU5;A0A1B0GWI2;O75503               False 0.581   \n",
       "A0A075B6H7                                             True 0.081   \n",
       "...                                                     ...   ...   \n",
       "Q9Y6R7                                                False 0.175   \n",
       "Q9Y6X5                                                False 0.091   \n",
       "Q9Y6Y8;Q9Y6Y8-2                                       False 0.083   \n",
       "Q9Y6Y9                                                False 0.607   \n",
       "S4R3U6                                                 True 0.173   \n",
       "\n",
       "                                                                         \\\n",
       "                                                   -Log10 pvalue qvalue   \n",
       "protein groups                                                            \n",
       "A0A024QZX5;A0A087X1N8;P35237                               0.092  0.887   \n",
       "A0A024R0T9;K7ER74;P02655                                   1.420  0.098   \n",
       "A0A024R3W6;A0A024R412;O60462;O60462-2;O60462-3;...         0.882  0.256   \n",
       "A0A024R644;A0A0A0MRU5;A0A1B0GWI2;O75503                    0.236  0.717   \n",
       "A0A075B6H7                                                 1.091  0.177   \n",
       "...                                                          ...    ...   \n",
       "Q9Y6R7                                                     0.756  0.315   \n",
       "Q9Y6X5                                                     1.039  0.195   \n",
       "Q9Y6Y8;Q9Y6Y8-2                                            1.079  0.181   \n",
       "Q9Y6Y9                                                     0.217  0.739   \n",
       "S4R3U6                                                     0.762  0.312   \n",
       "\n",
       "                                                                 data  \n",
       "                                                   rejected frequency  \n",
       "protein groups                                                         \n",
       "A0A024QZX5;A0A087X1N8;P35237                          False       186  \n",
       "A0A024R0T9;K7ER74;P02655                              False       195  \n",
       "A0A024R3W6;A0A024R412;O60462;O60462-2;O60462-3;...    False       174  \n",
       "A0A024R644;A0A0A0MRU5;A0A1B0GWI2;O75503               False       196  \n",
       "A0A075B6H7                                            False        91  \n",
       "...                                                     ...       ...  \n",
       "Q9Y6R7                                                False       197  \n",
       "Q9Y6X5                                                False       173  \n",
       "Q9Y6Y8;Q9Y6Y8-2                                       False       197  \n",
       "Q9Y6Y9                                                False       119  \n",
       "S4R3U6                                                False       126  \n",
       "\n",
       "[1421 rows x 9 columns]"
      ]
     },
     "execution_count": 15,
     "metadata": {},
     "output_type": "execute_result"
    }
   ],
   "source": [
    "scores_common = (scores\n",
    "                 .dropna()\n",
    "                 .reset_index(-1, drop=True)\n",
    "                 ).join(\n",
    "    freq_feat, how='left'\n",
    ")\n",
    "scores_common"
   ]
  },
  {
   "cell_type": "markdown",
   "id": "62a9eefd",
   "metadata": {
    "papermill": {
     "duration": 0.017298,
     "end_time": "2024-06-12T02:58:04.790780",
     "exception": false,
     "start_time": "2024-06-12T02:58:04.773482",
     "status": "completed"
    },
    "tags": []
   },
   "source": [
    "### Annotate decisions in Confusion Table style:"
   ]
  },
  {
   "cell_type": "code",
   "execution_count": 16,
   "id": "80cf4145-070d-457a-bb74-ee64299809e7",
   "metadata": {
    "execution": {
     "iopub.execute_input": "2024-06-12T02:58:04.827977Z",
     "iopub.status.busy": "2024-06-12T02:58:04.827592Z",
     "iopub.status.idle": "2024-06-12T02:58:04.844252Z",
     "shell.execute_reply": "2024-06-12T02:58:04.843443Z"
    },
    "papermill": {
     "duration": 0.047104,
     "end_time": "2024-06-12T02:58:04.856162",
     "exception": false,
     "start_time": "2024-06-12T02:58:04.809058",
     "status": "completed"
    },
    "tags": [
     "hide-input"
    ]
   },
   "outputs": [
    {
     "data": {
      "text/plain": [
       "Differential Analysis Comparison\n",
       "DAE (no)  - PI (no)    877\n",
       "DAE (yes) - PI (yes)   330\n",
       "DAE (yes) - PI (no)    153\n",
       "DAE (no)  - PI (yes)    61\n",
       "Name: count, dtype: int64"
      ]
     },
     "execution_count": 16,
     "metadata": {},
     "output_type": "execute_result"
    }
   ],
   "source": [
    "def annotate_decision(scores, model, model_column):\n",
    "    return scores[(model_column, 'rejected')].replace({False: f'{model} (no) ', True: f'{model} (yes)'})\n",
    "\n",
    "\n",
    "annotations = None\n",
    "for model, model_column in models.items():\n",
    "    if annotations is not None:\n",
    "        annotations += ' - '\n",
    "        annotations += annotate_decision(scores_common,\n",
    "                                         model=model, model_column=model_column)\n",
    "    else:\n",
    "        annotations = annotate_decision(\n",
    "            scores_common, model=model, model_column=model_column)\n",
    "annotations.name = 'Differential Analysis Comparison'\n",
    "annotations.value_counts()"
   ]
  },
  {
   "cell_type": "markdown",
   "id": "0942d395",
   "metadata": {
    "papermill": {
     "duration": 0.016176,
     "end_time": "2024-06-12T02:58:04.897124",
     "exception": false,
     "start_time": "2024-06-12T02:58:04.880948",
     "status": "completed"
    },
    "tags": []
   },
   "source": [
    "### List different decisions between models"
   ]
  },
  {
   "cell_type": "code",
   "execution_count": 17,
   "id": "cda5ffa4-9a97-4a49-aaba-34e83ef7940a",
   "metadata": {
    "execution": {
     "iopub.execute_input": "2024-06-12T02:58:04.932211Z",
     "iopub.status.busy": "2024-06-12T02:58:04.931632Z",
     "iopub.status.idle": "2024-06-12T02:58:05.032742Z",
     "shell.execute_reply": "2024-06-12T02:58:05.031901Z"
    },
    "papermill": {
     "duration": 0.121277,
     "end_time": "2024-06-12T02:58:05.034385",
     "exception": false,
     "start_time": "2024-06-12T02:58:04.913108",
     "status": "completed"
    },
    "tags": [
     "hide-input"
    ]
   },
   "outputs": [
    {
     "name": "stderr",
     "output_type": "stream",
     "text": [
      "root - INFO     Writen to Excel file under sheet 'differences'.\n"
     ]
    },
    {
     "data": {
      "text/html": [
       "<div>\n",
       "<style scoped>\n",
       "    .dataframe tbody tr th:only-of-type {\n",
       "        vertical-align: middle;\n",
       "    }\n",
       "\n",
       "    .dataframe tbody tr th {\n",
       "        vertical-align: top;\n",
       "    }\n",
       "\n",
       "    .dataframe thead tr th {\n",
       "        text-align: left;\n",
       "    }\n",
       "\n",
       "    .dataframe thead tr:last-of-type th {\n",
       "        text-align: right;\n",
       "    }\n",
       "</style>\n",
       "<table border=\"1\" class=\"dataframe\">\n",
       "  <thead>\n",
       "    <tr>\n",
       "      <th></th>\n",
       "      <th colspan=\"4\" halign=\"left\">DAE</th>\n",
       "      <th colspan=\"4\" halign=\"left\">PI</th>\n",
       "      <th>data</th>\n",
       "    </tr>\n",
       "    <tr>\n",
       "      <th></th>\n",
       "      <th>p-unc</th>\n",
       "      <th>-Log10 pvalue</th>\n",
       "      <th>qvalue</th>\n",
       "      <th>rejected</th>\n",
       "      <th>p-unc</th>\n",
       "      <th>-Log10 pvalue</th>\n",
       "      <th>qvalue</th>\n",
       "      <th>rejected</th>\n",
       "      <th>frequency</th>\n",
       "    </tr>\n",
       "    <tr>\n",
       "      <th>protein groups</th>\n",
       "      <th></th>\n",
       "      <th></th>\n",
       "      <th></th>\n",
       "      <th></th>\n",
       "      <th></th>\n",
       "      <th></th>\n",
       "      <th></th>\n",
       "      <th></th>\n",
       "      <th></th>\n",
       "    </tr>\n",
       "  </thead>\n",
       "  <tbody>\n",
       "    <tr>\n",
       "      <th>A0A024QZX5;A0A087X1N8;P35237</th>\n",
       "      <td>0.004</td>\n",
       "      <td>2.362</td>\n",
       "      <td>0.013</td>\n",
       "      <td>True</td>\n",
       "      <td>0.810</td>\n",
       "      <td>0.092</td>\n",
       "      <td>0.887</td>\n",
       "      <td>False</td>\n",
       "      <td>186</td>\n",
       "    </tr>\n",
       "    <tr>\n",
       "      <th>A0A075B6H7</th>\n",
       "      <td>0.014</td>\n",
       "      <td>1.849</td>\n",
       "      <td>0.036</td>\n",
       "      <td>True</td>\n",
       "      <td>0.081</td>\n",
       "      <td>1.091</td>\n",
       "      <td>0.177</td>\n",
       "      <td>False</td>\n",
       "      <td>91</td>\n",
       "    </tr>\n",
       "    <tr>\n",
       "      <th>A0A075B6I0</th>\n",
       "      <td>0.001</td>\n",
       "      <td>3.178</td>\n",
       "      <td>0.003</td>\n",
       "      <td>True</td>\n",
       "      <td>0.026</td>\n",
       "      <td>1.591</td>\n",
       "      <td>0.072</td>\n",
       "      <td>False</td>\n",
       "      <td>194</td>\n",
       "    </tr>\n",
       "    <tr>\n",
       "      <th>A0A075B6J9</th>\n",
       "      <td>0.012</td>\n",
       "      <td>1.908</td>\n",
       "      <td>0.032</td>\n",
       "      <td>True</td>\n",
       "      <td>0.100</td>\n",
       "      <td>1.001</td>\n",
       "      <td>0.209</td>\n",
       "      <td>False</td>\n",
       "      <td>156</td>\n",
       "    </tr>\n",
       "    <tr>\n",
       "      <th>A0A075B6Q5</th>\n",
       "      <td>0.004</td>\n",
       "      <td>2.399</td>\n",
       "      <td>0.012</td>\n",
       "      <td>True</td>\n",
       "      <td>0.383</td>\n",
       "      <td>0.417</td>\n",
       "      <td>0.543</td>\n",
       "      <td>False</td>\n",
       "      <td>104</td>\n",
       "    </tr>\n",
       "    <tr>\n",
       "      <th>...</th>\n",
       "      <td>...</td>\n",
       "      <td>...</td>\n",
       "      <td>...</td>\n",
       "      <td>...</td>\n",
       "      <td>...</td>\n",
       "      <td>...</td>\n",
       "      <td>...</td>\n",
       "      <td>...</td>\n",
       "      <td>...</td>\n",
       "    </tr>\n",
       "    <tr>\n",
       "      <th>Q9UJ14</th>\n",
       "      <td>0.017</td>\n",
       "      <td>1.782</td>\n",
       "      <td>0.041</td>\n",
       "      <td>True</td>\n",
       "      <td>0.043</td>\n",
       "      <td>1.365</td>\n",
       "      <td>0.108</td>\n",
       "      <td>False</td>\n",
       "      <td>169</td>\n",
       "    </tr>\n",
       "    <tr>\n",
       "      <th>Q9UP79</th>\n",
       "      <td>0.000</td>\n",
       "      <td>4.202</td>\n",
       "      <td>0.000</td>\n",
       "      <td>True</td>\n",
       "      <td>0.180</td>\n",
       "      <td>0.745</td>\n",
       "      <td>0.321</td>\n",
       "      <td>False</td>\n",
       "      <td>135</td>\n",
       "    </tr>\n",
       "    <tr>\n",
       "      <th>Q9UQ52</th>\n",
       "      <td>0.000</td>\n",
       "      <td>3.314</td>\n",
       "      <td>0.002</td>\n",
       "      <td>True</td>\n",
       "      <td>0.057</td>\n",
       "      <td>1.245</td>\n",
       "      <td>0.135</td>\n",
       "      <td>False</td>\n",
       "      <td>188</td>\n",
       "    </tr>\n",
       "    <tr>\n",
       "      <th>Q9Y6C2</th>\n",
       "      <td>0.003</td>\n",
       "      <td>2.534</td>\n",
       "      <td>0.009</td>\n",
       "      <td>True</td>\n",
       "      <td>0.649</td>\n",
       "      <td>0.188</td>\n",
       "      <td>0.772</td>\n",
       "      <td>False</td>\n",
       "      <td>119</td>\n",
       "    </tr>\n",
       "    <tr>\n",
       "      <th>S4R3U6</th>\n",
       "      <td>0.014</td>\n",
       "      <td>1.845</td>\n",
       "      <td>0.036</td>\n",
       "      <td>True</td>\n",
       "      <td>0.173</td>\n",
       "      <td>0.762</td>\n",
       "      <td>0.312</td>\n",
       "      <td>False</td>\n",
       "      <td>126</td>\n",
       "    </tr>\n",
       "  </tbody>\n",
       "</table>\n",
       "<p>214 rows × 9 columns</p>\n",
       "</div>"
      ],
      "text/plain": [
       "                               DAE                                  PI  \\\n",
       "                             p-unc -Log10 pvalue qvalue rejected p-unc   \n",
       "protein groups                                                           \n",
       "A0A024QZX5;A0A087X1N8;P35237 0.004         2.362  0.013     True 0.810   \n",
       "A0A075B6H7                   0.014         1.849  0.036     True 0.081   \n",
       "A0A075B6I0                   0.001         3.178  0.003     True 0.026   \n",
       "A0A075B6J9                   0.012         1.908  0.032     True 0.100   \n",
       "A0A075B6Q5                   0.004         2.399  0.012     True 0.383   \n",
       "...                            ...           ...    ...      ...   ...   \n",
       "Q9UJ14                       0.017         1.782  0.041     True 0.043   \n",
       "Q9UP79                       0.000         4.202  0.000     True 0.180   \n",
       "Q9UQ52                       0.000         3.314  0.002     True 0.057   \n",
       "Q9Y6C2                       0.003         2.534  0.009     True 0.649   \n",
       "S4R3U6                       0.014         1.845  0.036     True 0.173   \n",
       "\n",
       "                                                                data  \n",
       "                             -Log10 pvalue qvalue rejected frequency  \n",
       "protein groups                                                        \n",
       "A0A024QZX5;A0A087X1N8;P35237         0.092  0.887    False       186  \n",
       "A0A075B6H7                           1.091  0.177    False        91  \n",
       "A0A075B6I0                           1.591  0.072    False       194  \n",
       "A0A075B6J9                           1.001  0.209    False       156  \n",
       "A0A075B6Q5                           0.417  0.543    False       104  \n",
       "...                                    ...    ...      ...       ...  \n",
       "Q9UJ14                               1.365  0.108    False       169  \n",
       "Q9UP79                               0.745  0.321    False       135  \n",
       "Q9UQ52                               1.245  0.135    False       188  \n",
       "Q9Y6C2                               0.188  0.772    False       119  \n",
       "S4R3U6                               0.762  0.312    False       126  \n",
       "\n",
       "[214 rows x 9 columns]"
      ]
     },
     "execution_count": 17,
     "metadata": {},
     "output_type": "execute_result"
    }
   ],
   "source": [
    "mask_different = (\n",
    "    (scores_common.loc[:, pd.IndexSlice[:, 'rejected']].any(axis=1))\n",
    "    & ~(scores_common.loc[:, pd.IndexSlice[:, 'rejected']].all(axis=1))\n",
    ")\n",
    "_to_write = scores_common.loc[mask_different]\n",
    "_to_write.to_excel(writer, 'differences', **writer_args)\n",
    "logger.info(\"Writen to Excel file under sheet 'differences'.\")\n",
    "_to_write"
   ]
  },
  {
   "cell_type": "markdown",
   "id": "e8832084",
   "metadata": {
    "papermill": {
     "duration": 0.01632,
     "end_time": "2024-06-12T02:58:05.065426",
     "exception": false,
     "start_time": "2024-06-12T02:58:05.049106",
     "status": "completed"
    },
    "tags": []
   },
   "source": [
    "## Plot qvalues of both models with annotated decisions\n",
    "\n",
    "Prepare data for plotting (qvalues)"
   ]
  },
  {
   "cell_type": "code",
   "execution_count": 18,
   "id": "5b2e5341-b054-40c3-b45a-44ae6ca46cfb",
   "metadata": {
    "execution": {
     "iopub.execute_input": "2024-06-12T02:58:05.096414Z",
     "iopub.status.busy": "2024-06-12T02:58:05.095436Z",
     "iopub.status.idle": "2024-06-12T02:58:05.117767Z",
     "shell.execute_reply": "2024-06-12T02:58:05.116921Z"
    },
    "papermill": {
     "duration": 0.040724,
     "end_time": "2024-06-12T02:58:05.120274",
     "exception": false,
     "start_time": "2024-06-12T02:58:05.079550",
     "status": "completed"
    },
    "tags": [
     "hide-input"
    ]
   },
   "outputs": [
    {
     "data": {
      "text/html": [
       "<div>\n",
       "<style scoped>\n",
       "    .dataframe tbody tr th:only-of-type {\n",
       "        vertical-align: middle;\n",
       "    }\n",
       "\n",
       "    .dataframe tbody tr th {\n",
       "        vertical-align: top;\n",
       "    }\n",
       "\n",
       "    .dataframe thead th {\n",
       "        text-align: right;\n",
       "    }\n",
       "</style>\n",
       "<table border=\"1\" class=\"dataframe\">\n",
       "  <thead>\n",
       "    <tr style=\"text-align: right;\">\n",
       "      <th></th>\n",
       "      <th>DAE</th>\n",
       "      <th>PI</th>\n",
       "      <th>frequency</th>\n",
       "      <th>Differential Analysis Comparison</th>\n",
       "    </tr>\n",
       "    <tr>\n",
       "      <th>protein groups</th>\n",
       "      <th></th>\n",
       "      <th></th>\n",
       "      <th></th>\n",
       "      <th></th>\n",
       "    </tr>\n",
       "  </thead>\n",
       "  <tbody>\n",
       "    <tr>\n",
       "      <th>A0A024QZX5;A0A087X1N8;P35237</th>\n",
       "      <td>0.013</td>\n",
       "      <td>0.887</td>\n",
       "      <td>186</td>\n",
       "      <td>DAE (yes) - PI (no)</td>\n",
       "    </tr>\n",
       "    <tr>\n",
       "      <th>A0A024R0T9;K7ER74;P02655</th>\n",
       "      <td>0.076</td>\n",
       "      <td>0.098</td>\n",
       "      <td>195</td>\n",
       "      <td>DAE (no)  - PI (no)</td>\n",
       "    </tr>\n",
       "    <tr>\n",
       "      <th>A0A024R3W6;A0A024R412;O60462;O60462-2;O60462-3;O60462-4;O60462-5;Q7LBX6;X5D2Q8</th>\n",
       "      <td>0.455</td>\n",
       "      <td>0.256</td>\n",
       "      <td>174</td>\n",
       "      <td>DAE (no)  - PI (no)</td>\n",
       "    </tr>\n",
       "    <tr>\n",
       "      <th>A0A024R644;A0A0A0MRU5;A0A1B0GWI2;O75503</th>\n",
       "      <td>0.375</td>\n",
       "      <td>0.717</td>\n",
       "      <td>196</td>\n",
       "      <td>DAE (no)  - PI (no)</td>\n",
       "    </tr>\n",
       "    <tr>\n",
       "      <th>A0A075B6H7</th>\n",
       "      <td>0.036</td>\n",
       "      <td>0.177</td>\n",
       "      <td>91</td>\n",
       "      <td>DAE (yes) - PI (no)</td>\n",
       "    </tr>\n",
       "    <tr>\n",
       "      <th>...</th>\n",
       "      <td>...</td>\n",
       "      <td>...</td>\n",
       "      <td>...</td>\n",
       "      <td>...</td>\n",
       "    </tr>\n",
       "    <tr>\n",
       "      <th>Q9Y6R7</th>\n",
       "      <td>0.282</td>\n",
       "      <td>0.315</td>\n",
       "      <td>197</td>\n",
       "      <td>DAE (no)  - PI (no)</td>\n",
       "    </tr>\n",
       "    <tr>\n",
       "      <th>Q9Y6X5</th>\n",
       "      <td>0.376</td>\n",
       "      <td>0.195</td>\n",
       "      <td>173</td>\n",
       "      <td>DAE (no)  - PI (no)</td>\n",
       "    </tr>\n",
       "    <tr>\n",
       "      <th>Q9Y6Y8;Q9Y6Y8-2</th>\n",
       "      <td>0.156</td>\n",
       "      <td>0.181</td>\n",
       "      <td>197</td>\n",
       "      <td>DAE (no)  - PI (no)</td>\n",
       "    </tr>\n",
       "    <tr>\n",
       "      <th>Q9Y6Y9</th>\n",
       "      <td>0.797</td>\n",
       "      <td>0.739</td>\n",
       "      <td>119</td>\n",
       "      <td>DAE (no)  - PI (no)</td>\n",
       "    </tr>\n",
       "    <tr>\n",
       "      <th>S4R3U6</th>\n",
       "      <td>0.036</td>\n",
       "      <td>0.312</td>\n",
       "      <td>126</td>\n",
       "      <td>DAE (yes) - PI (no)</td>\n",
       "    </tr>\n",
       "  </tbody>\n",
       "</table>\n",
       "<p>1421 rows × 4 columns</p>\n",
       "</div>"
      ],
      "text/plain": [
       "                                                     DAE    PI  frequency  \\\n",
       "protein groups                                                              \n",
       "A0A024QZX5;A0A087X1N8;P35237                       0.013 0.887        186   \n",
       "A0A024R0T9;K7ER74;P02655                           0.076 0.098        195   \n",
       "A0A024R3W6;A0A024R412;O60462;O60462-2;O60462-3;... 0.455 0.256        174   \n",
       "A0A024R644;A0A0A0MRU5;A0A1B0GWI2;O75503            0.375 0.717        196   \n",
       "A0A075B6H7                                         0.036 0.177         91   \n",
       "...                                                  ...   ...        ...   \n",
       "Q9Y6R7                                             0.282 0.315        197   \n",
       "Q9Y6X5                                             0.376 0.195        173   \n",
       "Q9Y6Y8;Q9Y6Y8-2                                    0.156 0.181        197   \n",
       "Q9Y6Y9                                             0.797 0.739        119   \n",
       "S4R3U6                                             0.036 0.312        126   \n",
       "\n",
       "                                                   Differential Analysis Comparison  \n",
       "protein groups                                                                       \n",
       "A0A024QZX5;A0A087X1N8;P35237                                   DAE (yes) - PI (no)   \n",
       "A0A024R0T9;K7ER74;P02655                                       DAE (no)  - PI (no)   \n",
       "A0A024R3W6;A0A024R412;O60462;O60462-2;O60462-3;...             DAE (no)  - PI (no)   \n",
       "A0A024R644;A0A0A0MRU5;A0A1B0GWI2;O75503                        DAE (no)  - PI (no)   \n",
       "A0A075B6H7                                                     DAE (yes) - PI (no)   \n",
       "...                                                                             ...  \n",
       "Q9Y6R7                                                         DAE (no)  - PI (no)   \n",
       "Q9Y6X5                                                         DAE (no)  - PI (no)   \n",
       "Q9Y6Y8;Q9Y6Y8-2                                                DAE (no)  - PI (no)   \n",
       "Q9Y6Y9                                                         DAE (no)  - PI (no)   \n",
       "S4R3U6                                                         DAE (yes) - PI (no)   \n",
       "\n",
       "[1421 rows x 4 columns]"
      ]
     },
     "execution_count": 18,
     "metadata": {},
     "output_type": "execute_result"
    }
   ],
   "source": [
    "var = 'qvalue'\n",
    "to_plot = [scores_common[v][var] for v in models.values()]\n",
    "for s, k in zip(to_plot, models.keys()):\n",
    "    s.name = k.replace('_', ' ')\n",
    "to_plot.append(scores_common['data'])\n",
    "to_plot.append(annotations)\n",
    "to_plot = pd.concat(to_plot, axis=1)\n",
    "to_plot"
   ]
  },
  {
   "cell_type": "markdown",
   "id": "c92517a4-8456-4663-b719-4abd997fbb1c",
   "metadata": {
    "papermill": {
     "duration": 0.017973,
     "end_time": "2024-06-12T02:58:05.156670",
     "exception": false,
     "start_time": "2024-06-12T02:58:05.138697",
     "status": "completed"
    },
    "tags": []
   },
   "source": [
    "List of features with the highest difference in qvalues"
   ]
  },
  {
   "cell_type": "code",
   "execution_count": 19,
   "id": "c7af4a70-aa43-4772-af00-d425f5ed249f",
   "metadata": {
    "execution": {
     "iopub.execute_input": "2024-06-12T02:58:05.196042Z",
     "iopub.status.busy": "2024-06-12T02:58:05.195108Z",
     "iopub.status.idle": "2024-06-12T02:58:05.215930Z",
     "shell.execute_reply": "2024-06-12T02:58:05.215071Z"
    },
    "papermill": {
     "duration": 0.042985,
     "end_time": "2024-06-12T02:58:05.218180",
     "exception": false,
     "start_time": "2024-06-12T02:58:05.175195",
     "status": "completed"
    },
    "tags": [
     "hide-input"
    ]
   },
   "outputs": [
    {
     "data": {
      "text/html": [
       "<div>\n",
       "<style scoped>\n",
       "    .dataframe tbody tr th:only-of-type {\n",
       "        vertical-align: middle;\n",
       "    }\n",
       "\n",
       "    .dataframe tbody tr th {\n",
       "        vertical-align: top;\n",
       "    }\n",
       "\n",
       "    .dataframe thead th {\n",
       "        text-align: right;\n",
       "    }\n",
       "</style>\n",
       "<table border=\"1\" class=\"dataframe\">\n",
       "  <thead>\n",
       "    <tr style=\"text-align: right;\">\n",
       "      <th></th>\n",
       "      <th>DAE</th>\n",
       "      <th>PI</th>\n",
       "      <th>frequency</th>\n",
       "      <th>Differential Analysis Comparison</th>\n",
       "      <th>diff_qvalue</th>\n",
       "    </tr>\n",
       "    <tr>\n",
       "      <th>protein groups</th>\n",
       "      <th></th>\n",
       "      <th></th>\n",
       "      <th></th>\n",
       "      <th></th>\n",
       "      <th></th>\n",
       "    </tr>\n",
       "  </thead>\n",
       "  <tbody>\n",
       "    <tr>\n",
       "      <th>A0A1W2PQ94;B4DS77;B4DS77-2;B4DS77-3</th>\n",
       "      <td>0.000</td>\n",
       "      <td>0.983</td>\n",
       "      <td>69</td>\n",
       "      <td>DAE (yes) - PI (no)</td>\n",
       "      <td>0.982</td>\n",
       "    </tr>\n",
       "    <tr>\n",
       "      <th>Q6UWP8</th>\n",
       "      <td>0.016</td>\n",
       "      <td>0.996</td>\n",
       "      <td>59</td>\n",
       "      <td>DAE (yes) - PI (no)</td>\n",
       "      <td>0.979</td>\n",
       "    </tr>\n",
       "    <tr>\n",
       "      <th>A6NCT7;Q07092;Q07092-2</th>\n",
       "      <td>0.007</td>\n",
       "      <td>0.986</td>\n",
       "      <td>147</td>\n",
       "      <td>DAE (yes) - PI (no)</td>\n",
       "      <td>0.979</td>\n",
       "    </tr>\n",
       "    <tr>\n",
       "      <th>E5RJY1;E7ESM1;Q92597;Q92597-2;Q92597-3</th>\n",
       "      <td>0.014</td>\n",
       "      <td>0.975</td>\n",
       "      <td>60</td>\n",
       "      <td>DAE (yes) - PI (no)</td>\n",
       "      <td>0.961</td>\n",
       "    </tr>\n",
       "    <tr>\n",
       "      <th>O60565</th>\n",
       "      <td>0.000</td>\n",
       "      <td>0.943</td>\n",
       "      <td>81</td>\n",
       "      <td>DAE (yes) - PI (no)</td>\n",
       "      <td>0.943</td>\n",
       "    </tr>\n",
       "    <tr>\n",
       "      <th>...</th>\n",
       "      <td>...</td>\n",
       "      <td>...</td>\n",
       "      <td>...</td>\n",
       "      <td>...</td>\n",
       "      <td>...</td>\n",
       "    </tr>\n",
       "    <tr>\n",
       "      <th>F5GY80;F5H7G1;P07358</th>\n",
       "      <td>0.046</td>\n",
       "      <td>0.057</td>\n",
       "      <td>197</td>\n",
       "      <td>DAE (yes) - PI (no)</td>\n",
       "      <td>0.010</td>\n",
       "    </tr>\n",
       "    <tr>\n",
       "      <th>Q9NX62</th>\n",
       "      <td>0.045</td>\n",
       "      <td>0.055</td>\n",
       "      <td>197</td>\n",
       "      <td>DAE (yes) - PI (no)</td>\n",
       "      <td>0.010</td>\n",
       "    </tr>\n",
       "    <tr>\n",
       "      <th>P00740;P00740-2</th>\n",
       "      <td>0.043</td>\n",
       "      <td>0.052</td>\n",
       "      <td>197</td>\n",
       "      <td>DAE (yes) - PI (no)</td>\n",
       "      <td>0.010</td>\n",
       "    </tr>\n",
       "    <tr>\n",
       "      <th>K7ERG9;P00746</th>\n",
       "      <td>0.042</td>\n",
       "      <td>0.052</td>\n",
       "      <td>197</td>\n",
       "      <td>DAE (yes) - PI (no)</td>\n",
       "      <td>0.010</td>\n",
       "    </tr>\n",
       "    <tr>\n",
       "      <th>Q16706</th>\n",
       "      <td>0.048</td>\n",
       "      <td>0.055</td>\n",
       "      <td>195</td>\n",
       "      <td>DAE (yes) - PI (no)</td>\n",
       "      <td>0.007</td>\n",
       "    </tr>\n",
       "  </tbody>\n",
       "</table>\n",
       "<p>214 rows × 5 columns</p>\n",
       "</div>"
      ],
      "text/plain": [
       "                                         DAE    PI  frequency  \\\n",
       "protein groups                                                  \n",
       "A0A1W2PQ94;B4DS77;B4DS77-2;B4DS77-3    0.000 0.983         69   \n",
       "Q6UWP8                                 0.016 0.996         59   \n",
       "A6NCT7;Q07092;Q07092-2                 0.007 0.986        147   \n",
       "E5RJY1;E7ESM1;Q92597;Q92597-2;Q92597-3 0.014 0.975         60   \n",
       "O60565                                 0.000 0.943         81   \n",
       "...                                      ...   ...        ...   \n",
       "F5GY80;F5H7G1;P07358                   0.046 0.057        197   \n",
       "Q9NX62                                 0.045 0.055        197   \n",
       "P00740;P00740-2                        0.043 0.052        197   \n",
       "K7ERG9;P00746                          0.042 0.052        197   \n",
       "Q16706                                 0.048 0.055        195   \n",
       "\n",
       "                                       Differential Analysis Comparison  \\\n",
       "protein groups                                                            \n",
       "A0A1W2PQ94;B4DS77;B4DS77-2;B4DS77-3                DAE (yes) - PI (no)    \n",
       "Q6UWP8                                             DAE (yes) - PI (no)    \n",
       "A6NCT7;Q07092;Q07092-2                             DAE (yes) - PI (no)    \n",
       "E5RJY1;E7ESM1;Q92597;Q92597-2;Q92597-3             DAE (yes) - PI (no)    \n",
       "O60565                                             DAE (yes) - PI (no)    \n",
       "...                                                                 ...   \n",
       "F5GY80;F5H7G1;P07358                               DAE (yes) - PI (no)    \n",
       "Q9NX62                                             DAE (yes) - PI (no)    \n",
       "P00740;P00740-2                                    DAE (yes) - PI (no)    \n",
       "K7ERG9;P00746                                      DAE (yes) - PI (no)    \n",
       "Q16706                                             DAE (yes) - PI (no)    \n",
       "\n",
       "                                        diff_qvalue  \n",
       "protein groups                                       \n",
       "A0A1W2PQ94;B4DS77;B4DS77-2;B4DS77-3           0.982  \n",
       "Q6UWP8                                        0.979  \n",
       "A6NCT7;Q07092;Q07092-2                        0.979  \n",
       "E5RJY1;E7ESM1;Q92597;Q92597-2;Q92597-3        0.961  \n",
       "O60565                                        0.943  \n",
       "...                                             ...  \n",
       "F5GY80;F5H7G1;P07358                          0.010  \n",
       "Q9NX62                                        0.010  \n",
       "P00740;P00740-2                               0.010  \n",
       "K7ERG9;P00746                                 0.010  \n",
       "Q16706                                        0.007  \n",
       "\n",
       "[214 rows x 5 columns]"
      ]
     },
     "execution_count": 19,
     "metadata": {},
     "output_type": "execute_result"
    }
   ],
   "source": [
    "# should it be possible to run not only RSN?\n",
    "to_plot['diff_qvalue'] = (to_plot[str(args.baseline)] - to_plot[str(args.model_key)]).abs()\n",
    "to_plot.loc[mask_different].sort_values('diff_qvalue', ascending=False)"
   ]
  },
  {
   "cell_type": "markdown",
   "id": "e715954e-2d62-4cd9-b4b0-063524bca495",
   "metadata": {
    "papermill": {
     "duration": 0.01907,
     "end_time": "2024-06-12T02:58:05.257982",
     "exception": false,
     "start_time": "2024-06-12T02:58:05.238912",
     "status": "completed"
    },
    "tags": []
   },
   "source": [
    "### Differences plotted with created annotations"
   ]
  },
  {
   "cell_type": "code",
   "execution_count": 20,
   "id": "a20d356d-c397-4440-b70e-9d899aa200fd",
   "metadata": {
    "execution": {
     "iopub.execute_input": "2024-06-12T02:58:05.301028Z",
     "iopub.status.busy": "2024-06-12T02:58:05.300634Z",
     "iopub.status.idle": "2024-06-12T02:58:06.814865Z",
     "shell.execute_reply": "2024-06-12T02:58:06.814128Z"
    },
    "papermill": {
     "duration": 1.538997,
     "end_time": "2024-06-12T02:58:06.817160",
     "exception": false,
     "start_time": "2024-06-12T02:58:05.278163",
     "status": "completed"
    },
    "tags": [
     "hide-input"
    ]
   },
   "outputs": [
    {
     "name": "stderr",
     "output_type": "stream",
     "text": [
      "vaep.plotting - INFO     Saved Figures to runs/alzheimer_study/diff_analysis/AD/PI_vs_DAE/diff_analysis_comparision_1_DAE\n"
     ]
    },
    {
     "data": {
      "image/png": "[encoded data removed]",
      "text/plain": [
       "<Figure size 588x588 with 1 Axes>"
      ]
     },
     "metadata": {},
     "output_type": "display_data"
    }
   ],
   "source": [
    "figsize = (4, 4)\n",
    "size = 5\n",
    "fig, ax = plt.subplots(figsize=figsize)\n",
    "x_col = to_plot.columns[0]\n",
    "y_col = to_plot.columns[1]\n",
    "ax = sns.scatterplot(data=to_plot,\n",
    "                     x=x_col,\n",
    "                     y=y_col,\n",
    "                     s=size,\n",
    "                     hue='Differential Analysis Comparison',\n",
    "                     ax=ax)\n",
    "_ = ax.legend(fontsize=fontsize,\n",
    "              title_fontsize=fontsize,\n",
    "              markerscale=0.4,\n",
    "              title='',\n",
    "              )\n",
    "ax.set_xlabel(f\"qvalue for {x_col}\")\n",
    "ax.set_ylabel(f\"qvalue for {y_col}\")\n",
    "ax.hlines(0.05, 0, 1, color='grey', linestyles='dotted')\n",
    "ax.vlines(0.05, 0, 1, color='grey', linestyles='dotted')\n",
    "sns.move_legend(ax, \"upper right\")\n",
    "files_out[f'diff_analysis_comparision_1_{args.model_key}'] = (\n",
    "    args.out_folder /\n",
    "    f'diff_analysis_comparision_1_{args.model_key}')\n",
    "fname = files_out[f'diff_analysis_comparision_1_{args.model_key}']\n",
    "vaep.savefig(fig, name=fname)"
   ]
  },
  {
   "cell_type": "markdown",
   "id": "d8849c76-c5f6-4618-87c0-f2635dc9ac66",
   "metadata": {
    "papermill": {
     "duration": 0.021011,
     "end_time": "2024-06-12T02:58:06.859454",
     "exception": false,
     "start_time": "2024-06-12T02:58:06.838443",
     "status": "completed"
    },
    "tags": []
   },
   "source": [
    "- also showing how many features were measured (\"observed\") by size of circle"
   ]
  },
  {
   "cell_type": "code",
   "execution_count": 21,
   "id": "1cf258f8-9dcb-40bb-af66-b600f8d413f6",
   "metadata": {
    "execution": {
     "iopub.execute_input": "2024-06-12T02:58:06.903025Z",
     "iopub.status.busy": "2024-06-12T02:58:06.902678Z",
     "iopub.status.idle": "2024-06-12T02:58:08.841456Z",
     "shell.execute_reply": "2024-06-12T02:58:08.840823Z"
    },
    "papermill": {
     "duration": 1.963315,
     "end_time": "2024-06-12T02:58:08.843379",
     "exception": false,
     "start_time": "2024-06-12T02:58:06.880064",
     "status": "completed"
    },
    "tags": [
     "hide-input"
    ]
   },
   "outputs": [
    {
     "name": "stderr",
     "output_type": "stream",
     "text": [
      "vaep.plotting - INFO     Saved Figures to runs/alzheimer_study/diff_analysis/AD/PI_vs_DAE/diff_analysis_comparision_2_DAE\n"
     ]
    },
    {
     "data": {
      "image/png": "[encoded data removed]",
      "text/plain": [
       "<Figure size 588x588 with 1 Axes>"
      ]
     },
     "metadata": {},
     "output_type": "display_data"
    }
   ],
   "source": [
    "fig, ax = plt.subplots(figsize=figsize)\n",
    "ax = sns.scatterplot(data=to_plot,\n",
    "                     x=to_plot.columns[0],\n",
    "                     y=to_plot.columns[1],\n",
    "                     size='frequency',\n",
    "                     s=size,\n",
    "                     sizes=(5, 20),\n",
    "                     hue='Differential Analysis Comparison')\n",
    "_ = ax.legend(fontsize=fontsize,\n",
    "              title_fontsize=fontsize,\n",
    "              markerscale=0.6,\n",
    "              title='',\n",
    "              )\n",
    "ax.set_xlabel(f\"qvalue for {x_col}\")\n",
    "ax.set_ylabel(f\"qvalue for {y_col}\")\n",
    "ax.hlines(0.05, 0, 1, color='grey', linestyles='dotted')\n",
    "ax.vlines(0.05, 0, 1, color='grey', linestyles='dotted')\n",
    "sns.move_legend(ax, \"upper right\")\n",
    "files_out[f'diff_analysis_comparision_2_{args.model_key}'] = (\n",
    "    args.out_folder / f'diff_analysis_comparision_2_{args.model_key}')\n",
    "vaep.savefig(\n",
    "    fig, name=files_out[f'diff_analysis_comparision_2_{args.model_key}'])"
   ]
  },
  {
   "cell_type": "markdown",
   "id": "1fee3a21-d8b3-40c6-aea2-4774dfe855ca",
   "metadata": {
    "papermill": {
     "duration": 0.019848,
     "end_time": "2024-06-12T02:58:08.876117",
     "exception": false,
     "start_time": "2024-06-12T02:58:08.856269",
     "status": "completed"
    },
    "tags": []
   },
   "source": [
    "## Only features contained in model\n",
    "- this block exist due to a specific part in the ALD analysis of the paper"
   ]
  },
  {
   "cell_type": "code",
   "execution_count": 22,
   "id": "c4e23a01-fd37-4496-a518-445a9ef38db1",
   "metadata": {
    "execution": {
     "iopub.execute_input": "2024-06-12T02:58:08.926007Z",
     "iopub.status.busy": "2024-06-12T02:58:08.925649Z",
     "iopub.status.idle": "2024-06-12T02:58:08.935888Z",
     "shell.execute_reply": "2024-06-12T02:58:08.935158Z"
    },
    "papermill": {
     "duration": 0.037231,
     "end_time": "2024-06-12T02:58:08.937674",
     "exception": false,
     "start_time": "2024-06-12T02:58:08.900443",
     "status": "completed"
    },
    "tags": [
     "hide-input"
    ]
   },
   "outputs": [
    {
     "name": "stderr",
     "output_type": "stream",
     "text": [
      "root - INFO     No features only in new comparision model.\n"
     ]
    }
   ],
   "source": [
    "scores_model_only = scores.reset_index(level=-1, drop=True)\n",
    "_diff = scores_model_only.index.difference(scores_common.index)\n",
    "if not _diff.empty:\n",
    "    scores_model_only = (scores_model_only\n",
    "                         .loc[\n",
    "                             _diff,\n",
    "                             args.model_key]\n",
    "                         .sort_values(by='qvalue', ascending=True)\n",
    "                         .join(freq_feat.squeeze().rename(freq_feat.columns.droplevel()[0])\n",
    "                               )\n",
    "                         )\n",
    "    display(scores_model_only)\n",
    "else:\n",
    "    scores_model_only = None\n",
    "    logger.info(\"No features only in new comparision model.\")\n",
    "\n",
    "if not _diff.empty:\n",
    "    scores_model_only.to_excel(writer, 'only_model', **writer_args)\n",
    "    display(scores_model_only.rejected.value_counts())\n",
    "    scores_model_only_rejected = scores_model_only.loc[scores_model_only.rejected]\n",
    "    scores_model_only_rejected.to_excel(\n",
    "        writer, 'only_model_rejected', **writer_args)"
   ]
  },
  {
   "cell_type": "markdown",
   "id": "78b2c336",
   "metadata": {
    "papermill": {
     "duration": 0.024089,
     "end_time": "2024-06-12T02:58:08.986561",
     "exception": false,
     "start_time": "2024-06-12T02:58:08.962472",
     "status": "completed"
    },
    "tags": []
   },
   "source": [
    "## DISEASES DB lookup\n",
    "\n",
    "Query diseases database for gene associations with specified disease ontology id."
   ]
  },
  {
   "cell_type": "code",
   "execution_count": 23,
   "id": "d93a9242-0ef4-4fc7-bd98-226a93639f58",
   "metadata": {
    "execution": {
     "iopub.execute_input": "2024-06-12T02:58:09.036233Z",
     "iopub.status.busy": "2024-06-12T02:58:09.035694Z",
     "iopub.status.idle": "2024-06-12T02:58:09.787375Z",
     "shell.execute_reply": "2024-06-12T02:58:09.786648Z"
    },
    "papermill": {
     "duration": 0.778839,
     "end_time": "2024-06-12T02:58:09.789179",
     "exception": false,
     "start_time": "2024-06-12T02:58:09.010340",
     "status": "completed"
    },
    "tags": [
     "hide-input"
    ]
   },
   "outputs": [
    {
     "data": {
      "text/html": [
       "<div>\n",
       "<style scoped>\n",
       "    .dataframe tbody tr th:only-of-type {\n",
       "        vertical-align: middle;\n",
       "    }\n",
       "\n",
       "    .dataframe tbody tr th {\n",
       "        vertical-align: top;\n",
       "    }\n",
       "\n",
       "    .dataframe thead th {\n",
       "        text-align: right;\n",
       "    }\n",
       "</style>\n",
       "<table border=\"1\" class=\"dataframe\">\n",
       "  <thead>\n",
       "    <tr style=\"text-align: right;\">\n",
       "      <th></th>\n",
       "      <th>ENSP</th>\n",
       "      <th>score</th>\n",
       "    </tr>\n",
       "    <tr>\n",
       "      <th>None</th>\n",
       "      <th></th>\n",
       "      <th></th>\n",
       "    </tr>\n",
       "  </thead>\n",
       "  <tbody>\n",
       "    <tr>\n",
       "      <th>PSEN2</th>\n",
       "      <td>ENSP00000355747</td>\n",
       "      <td>5.000</td>\n",
       "    </tr>\n",
       "    <tr>\n",
       "      <th>APOE</th>\n",
       "      <td>ENSP00000252486</td>\n",
       "      <td>5.000</td>\n",
       "    </tr>\n",
       "    <tr>\n",
       "      <th>PSEN1</th>\n",
       "      <td>ENSP00000326366</td>\n",
       "      <td>5.000</td>\n",
       "    </tr>\n",
       "    <tr>\n",
       "      <th>APP</th>\n",
       "      <td>ENSP00000284981</td>\n",
       "      <td>5.000</td>\n",
       "    </tr>\n",
       "    <tr>\n",
       "      <th>CLU</th>\n",
       "      <td>ENSP00000315130</td>\n",
       "      <td>4.263</td>\n",
       "    </tr>\n",
       "    <tr>\n",
       "      <th>...</th>\n",
       "      <td>...</td>\n",
       "      <td>...</td>\n",
       "    </tr>\n",
       "    <tr>\n",
       "      <th>HBS1L</th>\n",
       "      <td>ENSP00000356811</td>\n",
       "      <td>0.508</td>\n",
       "    </tr>\n",
       "    <tr>\n",
       "      <th>SMAD9</th>\n",
       "      <td>ENSP00000369154</td>\n",
       "      <td>0.506</td>\n",
       "    </tr>\n",
       "    <tr>\n",
       "      <th>ANKRD11</th>\n",
       "      <td>ENSP00000301030</td>\n",
       "      <td>0.505</td>\n",
       "    </tr>\n",
       "    <tr>\n",
       "      <th>NODAL</th>\n",
       "      <td>ENSP00000287139</td>\n",
       "      <td>0.505</td>\n",
       "    </tr>\n",
       "    <tr>\n",
       "      <th>TPPP</th>\n",
       "      <td>ENSP00000353785</td>\n",
       "      <td>0.504</td>\n",
       "    </tr>\n",
       "  </tbody>\n",
       "</table>\n",
       "<p>328 rows × 2 columns</p>\n",
       "</div>"
      ],
      "text/plain": [
       "                    ENSP  score\n",
       "None                           \n",
       "PSEN2    ENSP00000355747  5.000\n",
       "APOE     ENSP00000252486  5.000\n",
       "PSEN1    ENSP00000326366  5.000\n",
       "APP      ENSP00000284981  5.000\n",
       "CLU      ENSP00000315130  4.263\n",
       "...                  ...    ...\n",
       "HBS1L    ENSP00000356811  0.508\n",
       "SMAD9    ENSP00000369154  0.506\n",
       "ANKRD11  ENSP00000301030  0.505\n",
       "NODAL    ENSP00000287139  0.505\n",
       "TPPP     ENSP00000353785  0.504\n",
       "\n",
       "[328 rows x 2 columns]"
      ]
     },
     "execution_count": 23,
     "metadata": {},
     "output_type": "execute_result"
    }
   ],
   "source": [
    "data = vaep.databases.diseases.get_disease_association(\n",
    "    doid=args.disease_ontology, limit=10000)\n",
    "data = pd.DataFrame.from_dict(data, orient='index').rename_axis('ENSP', axis=0)\n",
    "data = data.rename(columns={'name': args.annotaitons_gene_col}).reset_index(\n",
    ").set_index(args.annotaitons_gene_col)\n",
    "data"
   ]
  },
  {
   "cell_type": "markdown",
   "id": "efe22443-2613-46ad-83c2-41048e13dd57",
   "metadata": {
    "papermill": {
     "duration": 0.024149,
     "end_time": "2024-06-12T02:58:09.837397",
     "exception": false,
     "start_time": "2024-06-12T02:58:09.813248",
     "status": "completed"
    },
    "tags": []
   },
   "source": [
    "## Shared features\n",
    "ToDo: new script -> DISEASES DB lookup"
   ]
  },
  {
   "cell_type": "code",
   "execution_count": null,
   "id": "5c26415e",
   "metadata": {
    "papermill": {
     "duration": 0.024595,
     "end_time": "2024-06-12T02:58:09.886305",
     "exception": false,
     "start_time": "2024-06-12T02:58:09.861710",
     "status": "completed"
    },
    "tags": [
     "hide-input"
    ]
   },
   "outputs": [],
   "source": []
  },
  {
   "cell_type": "code",
   "execution_count": 24,
   "id": "b68b43df",
   "metadata": {
    "execution": {
     "iopub.execute_input": "2024-06-12T02:58:09.936562Z",
     "iopub.status.busy": "2024-06-12T02:58:09.936174Z",
     "iopub.status.idle": "2024-06-12T02:58:09.944042Z",
     "shell.execute_reply": "2024-06-12T02:58:09.943065Z"
    },
    "papermill": {
     "duration": 0.034759,
     "end_time": "2024-06-12T02:58:09.945189",
     "exception": true,
     "start_time": "2024-06-12T02:58:09.910430",
     "status": "failed"
    },
    "tags": [
     "hide-input"
    ]
   },
   "outputs": [
    {
     "name": "stderr",
     "output_type": "stream",
     "text": [
      "root - INFO     No gene annotation in scores index:  ['protein groups', 'Source'] Exiting.\n"
     ]
    },
    {
     "ename": "SystemExit",
     "evalue": "0",
     "output_type": "error",
     "traceback": [
      "An exception has occurred, use %tb to see the full traceback.\n",
      "\u001b[0;31mSystemExit\u001b[0m\u001b[0;31m:\u001b[0m 0\n"
     ]
    },
    {
     "name": "stderr",
     "output_type": "stream",
     "text": [
      "/usr/share/miniconda3/envs/vaep/lib/python3.8/site-packages/IPython/core/interactiveshell.py:3516: UserWarning: To exit: use 'exit', 'quit', or Ctrl-D.\n",
      "  warn(\"To exit: use 'exit', 'quit', or Ctrl-D.\", stacklevel=1)\n"
     ]
    }
   ],
   "source": [
    "feat_name = scores.index.names[0]  # first index level is feature name\n",
    "if args.annotaitons_gene_col in scores.index.names:\n",
    "    logger.info(f\"Found gene annotation in scores index:  {scores.index.names}\")\n",
    "else:\n",
    "    logger.info(f\"No gene annotation in scores index:  {scores.index.names}\"\n",
    "                \" Exiting.\")\n",
    "    import sys\n",
    "    sys.exit(0)"
   ]
  },
  {
   "cell_type": "code",
   "execution_count": null,
   "id": "f8d4a74d-5a9b-4d9b-9345-4288bb23e19f",
   "metadata": {
    "papermill": {
     "duration": null,
     "end_time": null,
     "exception": null,
     "start_time": null,
     "status": "pending"
    },
    "tags": [
     "hide-input"
    ]
   },
   "outputs": [],
   "source": [
    "gene_to_PG = (scores.droplevel(\n",
    "    list(set(scores.index.names) - {feat_name, args.annotaitons_gene_col})\n",
    ")\n",
    "    .index\n",
    "    .to_frame()\n",
    "    .reset_index(drop=True)\n",
    "    .set_index(args.annotaitons_gene_col)\n",
    ")\n",
    "gene_to_PG.head()"
   ]
  },
  {
   "cell_type": "code",
   "execution_count": null,
   "id": "d9e76def-b48a-458d-a90b-765e6e70f7a4",
   "metadata": {
    "papermill": {
     "duration": null,
     "end_time": null,
     "exception": null,
     "start_time": null,
     "status": "pending"
    },
    "tags": [
     "hide-input"
    ]
   },
   "outputs": [],
   "source": [
    "disease_associations_all = data.join(\n",
    "    gene_to_PG).dropna().reset_index().set_index(feat_name).join(annotations)\n",
    "disease_associations_all"
   ]
  },
  {
   "cell_type": "markdown",
   "id": "217972a3-ba4a-4f28-ab8f-25dc0f5e9ede",
   "metadata": {
    "papermill": {
     "duration": null,
     "end_time": null,
     "exception": null,
     "start_time": null,
     "status": "pending"
    },
    "tags": []
   },
   "source": [
    "## only by model"
   ]
  },
  {
   "cell_type": "code",
   "execution_count": null,
   "id": "8e9d6944-87ba-4c41-af14-fb5ed93262f0",
   "metadata": {
    "papermill": {
     "duration": null,
     "end_time": null,
     "exception": null,
     "start_time": null,
     "status": "pending"
    },
    "tags": [
     "hide-input"
    ]
   },
   "outputs": [],
   "source": [
    "idx = disease_associations_all.index.intersection(scores_model_only.index)\n",
    "disease_assocications_new = disease_associations_all.loc[idx].sort_values(\n",
    "    'score', ascending=False)\n",
    "disease_assocications_new.head(20)"
   ]
  },
  {
   "cell_type": "code",
   "execution_count": null,
   "id": "ceefc483-b889-4bab-b207-c8d5fd97fa4a",
   "metadata": {
    "papermill": {
     "duration": null,
     "end_time": null,
     "exception": null,
     "start_time": null,
     "status": "pending"
    },
    "tags": [
     "hide-input"
    ]
   },
   "outputs": [],
   "source": [
    "mask = disease_assocications_new.loc[idx, 'score'] >= 2.0\n",
    "disease_assocications_new.loc[idx].loc[mask]"
   ]
  },
  {
   "cell_type": "markdown",
   "id": "f85eede2-7b61-4285-ba8c-745f77f6ab22",
   "metadata": {
    "papermill": {
     "duration": null,
     "end_time": null,
     "exception": null,
     "start_time": null,
     "status": "pending"
    },
    "tags": []
   },
   "source": [
    "## Only by model which were significant"
   ]
  },
  {
   "cell_type": "code",
   "execution_count": null,
   "id": "4644759b-8cc2-4f99-a16c-16419cfb915c",
   "metadata": {
    "papermill": {
     "duration": null,
     "end_time": null,
     "exception": null,
     "start_time": null,
     "status": "pending"
    },
    "tags": [
     "hide-input"
    ]
   },
   "outputs": [],
   "source": [
    "idx = disease_associations_all.index.intersection(\n",
    "    scores_model_only_rejected.index)\n",
    "disease_assocications_new_rejected = disease_associations_all.loc[idx].sort_values(\n",
    "    'score', ascending=False)\n",
    "disease_assocications_new_rejected.head(20)"
   ]
  },
  {
   "cell_type": "code",
   "execution_count": null,
   "id": "365d8641-97a8-464f-b69b-270af9ae6e2d",
   "metadata": {
    "papermill": {
     "duration": null,
     "end_time": null,
     "exception": null,
     "start_time": null,
     "status": "pending"
    },
    "tags": [
     "hide-input"
    ]
   },
   "outputs": [],
   "source": [
    "mask = disease_assocications_new_rejected.loc[idx, 'score'] >= 2.0\n",
    "disease_assocications_new_rejected.loc[idx].loc[mask]"
   ]
  },
  {
   "cell_type": "markdown",
   "id": "4f22614b-e058-4e35-b8a9-141c291a93bc",
   "metadata": {
    "papermill": {
     "duration": null,
     "end_time": null,
     "exception": null,
     "start_time": null,
     "status": "pending"
    },
    "tags": []
   },
   "source": [
    "## Shared which are only significant for by model"
   ]
  },
  {
   "cell_type": "code",
   "execution_count": null,
   "id": "82eb2ba8-4fe7-431d-8095-5be43f7791b7",
   "metadata": {
    "papermill": {
     "duration": null,
     "end_time": null,
     "exception": null,
     "start_time": null,
     "status": "pending"
    },
    "tags": []
   },
   "outputs": [],
   "source": [
    "mask = (scores_common[(str(args.model_key), 'rejected')] & mask_different)\n",
    "mask.sum()"
   ]
  },
  {
   "cell_type": "code",
   "execution_count": null,
   "id": "6416d494-5f3e-4cf4-b766-b1f95e40ae1c",
   "metadata": {
    "papermill": {
     "duration": null,
     "end_time": null,
     "exception": null,
     "start_time": null,
     "status": "pending"
    },
    "tags": [
     "hide-input"
    ]
   },
   "outputs": [],
   "source": [
    "idx = disease_associations_all.index.intersection(mask.index[mask])\n",
    "disease_assocications_shared_rejected_by_model = (disease_associations_all.loc[idx].sort_values(\n",
    "    'score', ascending=False))\n",
    "disease_assocications_shared_rejected_by_model.head(20)"
   ]
  },
  {
   "cell_type": "code",
   "execution_count": null,
   "id": "10899e28-4aee-4d44-a542-e45be6699a1b",
   "metadata": {
    "papermill": {
     "duration": null,
     "end_time": null,
     "exception": null,
     "start_time": null,
     "status": "pending"
    },
    "tags": [
     "hide-input"
    ]
   },
   "outputs": [],
   "source": [
    "mask = disease_assocications_shared_rejected_by_model.loc[idx, 'score'] >= 2.0\n",
    "disease_assocications_shared_rejected_by_model.loc[idx].loc[mask]"
   ]
  },
  {
   "cell_type": "markdown",
   "id": "b6c082ea-7d92-4296-8ec9-d279509142a3",
   "metadata": {
    "papermill": {
     "duration": null,
     "end_time": null,
     "exception": null,
     "start_time": null,
     "status": "pending"
    },
    "tags": []
   },
   "source": [
    "## Only significant by RSN"
   ]
  },
  {
   "cell_type": "code",
   "execution_count": null,
   "id": "c59aae50-6877-47cc-99f6-646862d29121",
   "metadata": {
    "papermill": {
     "duration": null,
     "end_time": null,
     "exception": null,
     "start_time": null,
     "status": "pending"
    },
    "tags": []
   },
   "outputs": [],
   "source": [
    "mask = (scores_common[(str(args.baseline), 'rejected')] & mask_different)\n",
    "mask.sum()"
   ]
  },
  {
   "cell_type": "code",
   "execution_count": null,
   "id": "7780de55-c63b-4028-a6d0-58bce7be81da",
   "metadata": {
    "papermill": {
     "duration": null,
     "end_time": null,
     "exception": null,
     "start_time": null,
     "status": "pending"
    },
    "tags": [
     "hide-input"
    ]
   },
   "outputs": [],
   "source": [
    "idx = disease_associations_all.index.intersection(mask.index[mask])\n",
    "disease_assocications_shared_rejected_by_RSN = (\n",
    "    disease_associations_all\n",
    "    .loc[idx]\n",
    "    .sort_values('score', ascending=False))\n",
    "disease_assocications_shared_rejected_by_RSN.head(20)"
   ]
  },
  {
   "cell_type": "code",
   "execution_count": null,
   "id": "03115c8f-1f20-4b51-a78c-4d7c0317dc33",
   "metadata": {
    "papermill": {
     "duration": null,
     "end_time": null,
     "exception": null,
     "start_time": null,
     "status": "pending"
    },
    "tags": [
     "hide-input"
    ]
   },
   "outputs": [],
   "source": [
    "mask = disease_assocications_shared_rejected_by_RSN.loc[idx, 'score'] >= 2.0\n",
    "disease_assocications_shared_rejected_by_RSN.loc[idx].loc[mask]"
   ]
  },
  {
   "cell_type": "markdown",
   "id": "9d72708d-ad27-435b-b672-7dfe35283601",
   "metadata": {
    "papermill": {
     "duration": null,
     "end_time": null,
     "exception": null,
     "start_time": null,
     "status": "pending"
    },
    "tags": []
   },
   "source": [
    "## Write to excel"
   ]
  },
  {
   "cell_type": "code",
   "execution_count": null,
   "id": "91e7fbb7-69fd-4b4c-9bc2-40e8dd1907b3",
   "metadata": {
    "papermill": {
     "duration": null,
     "end_time": null,
     "exception": null,
     "start_time": null,
     "status": "pending"
    },
    "tags": [
     "hide-input"
    ]
   },
   "outputs": [],
   "source": [
    "disease_associations_all.to_excel(\n",
    "    writer, sheet_name='disease_assoc_all', **writer_args)\n",
    "disease_assocications_new.to_excel(\n",
    "    writer, sheet_name='disease_assoc_new', **writer_args)\n",
    "disease_assocications_new_rejected.to_excel(\n",
    "    writer, sheet_name='disease_assoc_new_rejected', **writer_args)"
   ]
  },
  {
   "cell_type": "markdown",
   "id": "52a42028-7e2d-47d5-be02-52f7ff1f3665",
   "metadata": {
    "papermill": {
     "duration": null,
     "end_time": null,
     "exception": null,
     "start_time": null,
     "status": "pending"
    },
    "tags": []
   },
   "source": [
    "## Outputs"
   ]
  },
  {
   "cell_type": "code",
   "execution_count": null,
   "id": "7f3a7433-3bf1-4168-8f16-eb6d415ef17f",
   "metadata": {
    "papermill": {
     "duration": null,
     "end_time": null,
     "exception": null,
     "start_time": null,
     "status": "pending"
    },
    "tags": [
     "hide-input"
    ]
   },
   "outputs": [],
   "source": [
    "writer.close()\n",
    "files_out"
   ]
  }
 ],
 "metadata": {
  "kernelspec": {
   "display_name": "Python 3",
   "language": "python",
   "name": "python3"
  },
  "language_info": {
   "codemirror_mode": {
    "name": "ipython",
    "version": 3
   },
   "file_extension": ".py",
   "mimetype": "text/x-python",
   "name": "python",
   "nbconvert_exporter": "python",
   "pygments_lexer": "ipython3",
   "version": "3.8.19"
  },
  "papermill": {
   "default_parameters": {},
   "duration": 11.510786,
   "end_time": "2024-06-12T02:58:10.692161",
   "environment_variables": {},
   "exception": true,
   "input_path": "10_2_ald_compare_methods.ipynb",
   "output_path": "runs/alzheimer_study/diff_analysis/AD/PI_vs_DAE/10_2_ald_compare_methods.ipynb",
   "parameters": {
    "annotaitons_gene_col": "None",
    "baseline": "PI",
    "disease_ontology": 10652,
    "folder_experiment": "runs/alzheimer_study",
    "model_key": "DAE",
    "out_folder": "diff_analysis",
    "target": "AD"
   },
   "start_time": "2024-06-12T02:57:59.181375",
   "version": "2.6.0"
  }
 },
 "nbformat": 4,
 "nbformat_minor": 5
}