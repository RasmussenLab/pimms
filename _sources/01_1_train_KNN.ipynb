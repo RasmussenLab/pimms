{
 "cells": [
  {
   "cell_type": "markdown",
   "id": "c7aa5cba",
   "metadata": {
    "papermill": {
     "duration": 0.009129,
     "end_time": "2024-05-31T08:44:39.496313",
     "exception": false,
     "start_time": "2024-05-31T08:44:39.487184",
     "status": "completed"
    },
    "tags": []
   },
   "source": [
    "# K- Nearest Neighbors (KNN)"
   ]
  },
  {
   "cell_type": "code",
   "execution_count": 1,
   "id": "76e01f3e",
   "metadata": {
    "execution": {
     "iopub.execute_input": "2024-05-31T08:44:39.515566Z",
     "iopub.status.busy": "2024-05-31T08:44:39.515202Z",
     "iopub.status.idle": "2024-05-31T08:44:43.156093Z",
     "shell.execute_reply": "2024-05-31T08:44:43.155462Z"
    },
    "lines_to_next_cell": 2,
    "papermill": {
     "duration": 3.652824,
     "end_time": "2024-05-31T08:44:43.157843",
     "exception": false,
     "start_time": "2024-05-31T08:44:39.505019",
     "status": "completed"
    },
    "tags": [
     "hide-input"
    ]
   },
   "outputs": [
    {
     "name": "stdout",
     "output_type": "stream",
     "text": [
      "vaep - INFO     Experiment 03 - Analysis of latent spaces and performance comparisions\n"
     ]
    }
   ],
   "source": [
    "import logging\n",
    "\n",
    "import pandas as pd\n",
    "import sklearn\n",
    "import sklearn.impute\n",
    "from IPython.display import display\n",
    "\n",
    "import vaep\n",
    "import vaep.model\n",
    "import vaep.models as models\n",
    "import vaep.nb\n",
    "from vaep import sampling\n",
    "from vaep.io import datasplits\n",
    "from vaep.models import ae\n",
    "\n",
    "logger = vaep.logging.setup_logger(logging.getLogger('vaep'))\n",
    "logger.info(\"Experiment 03 - Analysis of latent spaces and performance comparisions\")\n",
    "\n",
    "figures = {}  # collection of ax or figures"
   ]
  },
  {
   "cell_type": "code",
   "execution_count": 2,
   "id": "3fb29f3e",
   "metadata": {
    "execution": {
     "iopub.execute_input": "2024-05-31T08:44:43.175573Z",
     "iopub.status.busy": "2024-05-31T08:44:43.175036Z",
     "iopub.status.idle": "2024-05-31T08:44:43.179218Z",
     "shell.execute_reply": "2024-05-31T08:44:43.178537Z"
    },
    "papermill": {
     "duration": 0.015262,
     "end_time": "2024-05-31T08:44:43.182531",
     "exception": false,
     "start_time": "2024-05-31T08:44:43.167269",
     "status": "completed"
    },
    "tags": [
     "hide-input"
    ]
   },
   "outputs": [],
   "source": [
    "# catch passed parameters\n",
    "args = None\n",
    "args = dict(globals()).keys()"
   ]
  },
  {
   "cell_type": "markdown",
   "id": "97cabfc2",
   "metadata": {
    "papermill": {
     "duration": 0.012826,
     "end_time": "2024-05-31T08:44:43.205847",
     "exception": false,
     "start_time": "2024-05-31T08:44:43.193021",
     "status": "completed"
    },
    "tags": []
   },
   "source": [
    "Papermill script parameters:"
   ]
  },
  {
   "cell_type": "code",
   "execution_count": 3,
   "id": "50f19abc",
   "metadata": {
    "execution": {
     "iopub.execute_input": "2024-05-31T08:44:43.225209Z",
     "iopub.status.busy": "2024-05-31T08:44:43.224872Z",
     "iopub.status.idle": "2024-05-31T08:44:43.231433Z",
     "shell.execute_reply": "2024-05-31T08:44:43.230737Z"
    },
    "papermill": {
     "duration": 0.018952,
     "end_time": "2024-05-31T08:44:43.234396",
     "exception": false,
     "start_time": "2024-05-31T08:44:43.215444",
     "status": "completed"
    },
    "tags": [
     "parameters"
    ]
   },
   "outputs": [],
   "source": [
    "# files and folders\n",
    "folder_experiment: str = 'runs/example'  # Datasplit folder with data for experiment\n",
    "folder_data: str = ''  # specify data directory if needed\n",
    "file_format: str = 'csv'  # file format of create splits, default pickle (pkl)\n",
    "# Machine parsed metadata from rawfile workflow\n",
    "fn_rawfile_metadata: str = 'data/dev_datasets/HeLa_6070/files_selected_metadata_N50.csv'\n",
    "# training\n",
    "epochs_max: int = 50  # Maximum number of epochs\n",
    "# early_stopping:bool = True # Wheather to use early stopping or not\n",
    "batch_size: int = 64  # Batch size for training (and evaluation)\n",
    "cuda: bool = True  # Whether to use a GPU for training\n",
    "# model\n",
    "neighbors: int = 3  # number of neigherst neighbors to use\n",
    "force_train: bool = True  # Force training when saved model could be used. Per default re-train model\n",
    "sample_idx_position: int = 0  # position of index which is sample ID\n",
    "model: str = 'KNN'  # model name\n",
    "model_key: str = 'KNN'  # potentially alternative key for model (grid search)\n",
    "save_pred_real_na: bool = True  # Save all predictions for missing values\n",
    "# metadata -> defaults for metadata extracted from machine data\n",
    "meta_date_col: str = None  # date column in meta data\n",
    "meta_cat_col: str = None  # category column in meta data"
   ]
  },
  {
   "cell_type": "code",
   "execution_count": 4,
   "id": "3363cc92",
   "metadata": {
    "execution": {
     "iopub.execute_input": "2024-05-31T08:44:43.253063Z",
     "iopub.status.busy": "2024-05-31T08:44:43.252717Z",
     "iopub.status.idle": "2024-05-31T08:44:43.258857Z",
     "shell.execute_reply": "2024-05-31T08:44:43.258075Z"
    },
    "papermill": {
     "duration": 0.017784,
     "end_time": "2024-05-31T08:44:43.260724",
     "exception": false,
     "start_time": "2024-05-31T08:44:43.242940",
     "status": "completed"
    },
    "tags": [
     "injected-parameters"
    ]
   },
   "outputs": [],
   "source": [
    "# Parameters\n",
    "model = \"KNN\"\n",
    "neighbors = 3\n",
    "file_format = \"csv\"\n",
    "fn_rawfile_metadata = \"https://raw.githubusercontent.com/RasmussenLab/njab/HEAD/docs/tutorial/data/alzheimer/meta.csv\"\n",
    "folder_experiment = \"runs/alzheimer_study\"\n",
    "model_key = \"KNN\"\n"
   ]
  },
  {
   "cell_type": "markdown",
   "id": "0f24fd6a",
   "metadata": {
    "papermill": {
     "duration": 0.00801,
     "end_time": "2024-05-31T08:44:43.277987",
     "exception": false,
     "start_time": "2024-05-31T08:44:43.269977",
     "status": "completed"
    },
    "tags": []
   },
   "source": [
    "Some argument transformations"
   ]
  },
  {
   "cell_type": "code",
   "execution_count": 5,
   "id": "10dfbb95",
   "metadata": {
    "execution": {
     "iopub.execute_input": "2024-05-31T08:44:43.296563Z",
     "iopub.status.busy": "2024-05-31T08:44:43.296015Z",
     "iopub.status.idle": "2024-05-31T08:44:43.307661Z",
     "shell.execute_reply": "2024-05-31T08:44:43.307011Z"
    },
    "lines_to_next_cell": 2,
    "papermill": {
     "duration": 0.023312,
     "end_time": "2024-05-31T08:44:43.309457",
     "exception": false,
     "start_time": "2024-05-31T08:44:43.286145",
     "status": "completed"
    },
    "tags": [
     "hide-input"
    ]
   },
   "outputs": [
    {
     "data": {
      "text/plain": [
       "{'batch_size': 64,\n",
       " 'cuda': True,\n",
       " 'data': Path('runs/alzheimer_study/data'),\n",
       " 'epochs_max': 50,\n",
       " 'file_format': 'csv',\n",
       " 'fn_rawfile_metadata': 'https://raw.githubusercontent.com/RasmussenLab/njab/HEAD/docs/tutorial/data/alzheimer/meta.csv',\n",
       " 'folder_data': '',\n",
       " 'folder_experiment': Path('runs/alzheimer_study'),\n",
       " 'force_train': True,\n",
       " 'meta_cat_col': None,\n",
       " 'meta_date_col': None,\n",
       " 'model': 'KNN',\n",
       " 'model_key': 'KNN',\n",
       " 'neighbors': 3,\n",
       " 'out_figures': Path('runs/alzheimer_study/figures'),\n",
       " 'out_folder': Path('runs/alzheimer_study'),\n",
       " 'out_metrics': Path('runs/alzheimer_study'),\n",
       " 'out_models': Path('runs/alzheimer_study'),\n",
       " 'out_preds': Path('runs/alzheimer_study/preds'),\n",
       " 'sample_idx_position': 0,\n",
       " 'save_pred_real_na': True}"
      ]
     },
     "execution_count": 5,
     "metadata": {},
     "output_type": "execute_result"
    }
   ],
   "source": [
    "args = vaep.nb.get_params(args, globals=globals())\n",
    "args = vaep.nb.args_from_dict(args)\n",
    "args"
   ]
  },
  {
   "cell_type": "markdown",
   "id": "9e9b0881",
   "metadata": {
    "papermill": {
     "duration": 0.008467,
     "end_time": "2024-05-31T08:44:43.326424",
     "exception": false,
     "start_time": "2024-05-31T08:44:43.317957",
     "status": "completed"
    },
    "tags": []
   },
   "source": [
    "Some naming conventions"
   ]
  },
  {
   "cell_type": "code",
   "execution_count": 6,
   "id": "b0f78a72",
   "metadata": {
    "execution": {
     "iopub.execute_input": "2024-05-31T08:44:43.347237Z",
     "iopub.status.busy": "2024-05-31T08:44:43.346830Z",
     "iopub.status.idle": "2024-05-31T08:44:43.350471Z",
     "shell.execute_reply": "2024-05-31T08:44:43.349787Z"
    },
    "papermill": {
     "duration": 0.017104,
     "end_time": "2024-05-31T08:44:43.353302",
     "exception": false,
     "start_time": "2024-05-31T08:44:43.336198",
     "status": "completed"
    },
    "tags": [
     "hide-input"
    ]
   },
   "outputs": [],
   "source": [
    "TEMPLATE_MODEL_PARAMS = 'model_params_{}.json'"
   ]
  },
  {
   "cell_type": "markdown",
   "id": "76172671",
   "metadata": {
    "papermill": {
     "duration": 0.008696,
     "end_time": "2024-05-31T08:44:43.370633",
     "exception": false,
     "start_time": "2024-05-31T08:44:43.361937",
     "status": "completed"
    },
    "tags": []
   },
   "source": [
    "## Load data in long format"
   ]
  },
  {
   "cell_type": "code",
   "execution_count": 7,
   "id": "a7a2208e",
   "metadata": {
    "execution": {
     "iopub.execute_input": "2024-05-31T08:44:43.389392Z",
     "iopub.status.busy": "2024-05-31T08:44:43.389012Z",
     "iopub.status.idle": "2024-05-31T08:44:43.615687Z",
     "shell.execute_reply": "2024-05-31T08:44:43.615057Z"
    },
    "papermill": {
     "duration": 0.237964,
     "end_time": "2024-05-31T08:44:43.617510",
     "exception": false,
     "start_time": "2024-05-31T08:44:43.379546",
     "status": "completed"
    },
    "tags": [
     "hide-input"
    ]
   },
   "outputs": [
    {
     "name": "stdout",
     "output_type": "stream",
     "text": [
      "vaep.io.datasplits - INFO     Loaded 'train_X' from file: runs/alzheimer_study/data/train_X.csv\n"
     ]
    },
    {
     "name": "stdout",
     "output_type": "stream",
     "text": [
      "vaep.io.datasplits - INFO     Loaded 'val_y' from file: runs/alzheimer_study/data/val_y.csv\n"
     ]
    },
    {
     "name": "stdout",
     "output_type": "stream",
     "text": [
      "vaep.io.datasplits - INFO     Loaded 'test_y' from file: runs/alzheimer_study/data/test_y.csv\n"
     ]
    }
   ],
   "source": [
    "data = datasplits.DataSplits.from_folder(args.data, file_format=args.file_format)"
   ]
  },
  {
   "cell_type": "markdown",
   "id": "74d14c1a",
   "metadata": {
    "papermill": {
     "duration": 0.008895,
     "end_time": "2024-05-31T08:44:43.634489",
     "exception": false,
     "start_time": "2024-05-31T08:44:43.625594",
     "status": "completed"
    },
    "tags": []
   },
   "source": [
    "data is loaded in long format"
   ]
  },
  {
   "cell_type": "code",
   "execution_count": 8,
   "id": "34b79387",
   "metadata": {
    "execution": {
     "iopub.execute_input": "2024-05-31T08:44:43.653600Z",
     "iopub.status.busy": "2024-05-31T08:44:43.652882Z",
     "iopub.status.idle": "2024-05-31T08:44:43.667617Z",
     "shell.execute_reply": "2024-05-31T08:44:43.666923Z"
    },
    "papermill": {
     "duration": 0.026204,
     "end_time": "2024-05-31T08:44:43.669438",
     "exception": false,
     "start_time": "2024-05-31T08:44:43.643234",
     "status": "completed"
    },
    "tags": [
     "hide-input"
    ]
   },
   "outputs": [
    {
     "data": {
      "text/plain": [
       "Sample ID   protein groups                                                      \n",
       "Sample_124  O60279                                                                 18.004\n",
       "Sample_013  A0A087WTY6;A3KFI1;A3KFI2;A3KFI3;A3KFI4;A3KFI5;E5RFZ1;P41271;P41271-2   22.649\n",
       "Sample_206  P37802;P37802-2;X6RJP6                                                 15.453\n",
       "Sample_198  P05546                                                                 17.594\n",
       "Sample_142  A0A0G2JPR0                                                             19.661\n",
       "Name: intensity, dtype: float64"
      ]
     },
     "execution_count": 8,
     "metadata": {},
     "output_type": "execute_result"
    }
   ],
   "source": [
    "data.train_X.sample(5)"
   ]
  },
  {
   "cell_type": "markdown",
   "id": "3f0bb10e",
   "metadata": {
    "papermill": {
     "duration": 0.008996,
     "end_time": "2024-05-31T08:44:43.686247",
     "exception": false,
     "start_time": "2024-05-31T08:44:43.677251",
     "status": "completed"
    },
    "tags": []
   },
   "source": [
    "load meta data for splits"
   ]
  },
  {
   "cell_type": "code",
   "execution_count": 9,
   "id": "a61f7f70",
   "metadata": {
    "execution": {
     "iopub.execute_input": "2024-05-31T08:44:43.705794Z",
     "iopub.status.busy": "2024-05-31T08:44:43.705457Z",
     "iopub.status.idle": "2024-05-31T08:44:43.757864Z",
     "shell.execute_reply": "2024-05-31T08:44:43.757166Z"
    },
    "papermill": {
     "duration": 0.064473,
     "end_time": "2024-05-31T08:44:43.759750",
     "exception": false,
     "start_time": "2024-05-31T08:44:43.695277",
     "status": "completed"
    },
    "tags": [
     "hide-input"
    ]
   },
   "outputs": [
    {
     "data": {
      "text/html": [
       "<div>\n",
       "<style scoped>\n",
       "    .dataframe tbody tr th:only-of-type {\n",
       "        vertical-align: middle;\n",
       "    }\n",
       "\n",
       "    .dataframe tbody tr th {\n",
       "        vertical-align: top;\n",
       "    }\n",
       "\n",
       "    .dataframe thead th {\n",
       "        text-align: right;\n",
       "    }\n",
       "</style>\n",
       "<table border=\"1\" class=\"dataframe\">\n",
       "  <thead>\n",
       "    <tr style=\"text-align: right;\">\n",
       "      <th></th>\n",
       "      <th>_collection site</th>\n",
       "      <th>_age at CSF collection</th>\n",
       "      <th>_gender</th>\n",
       "      <th>_t-tau [ng/L]</th>\n",
       "      <th>_p-tau [ng/L]</th>\n",
       "      <th>_Abeta-42 [ng/L]</th>\n",
       "      <th>_Abeta-40 [ng/L]</th>\n",
       "      <th>_Abeta-42/Abeta-40 ratio</th>\n",
       "      <th>_primary biochemical AD classification</th>\n",
       "      <th>_clinical AD diagnosis</th>\n",
       "      <th>_MMSE score</th>\n",
       "    </tr>\n",
       "    <tr>\n",
       "      <th>Sample ID</th>\n",
       "      <th></th>\n",
       "      <th></th>\n",
       "      <th></th>\n",
       "      <th></th>\n",
       "      <th></th>\n",
       "      <th></th>\n",
       "      <th></th>\n",
       "      <th></th>\n",
       "      <th></th>\n",
       "      <th></th>\n",
       "      <th></th>\n",
       "    </tr>\n",
       "  </thead>\n",
       "  <tbody>\n",
       "    <tr>\n",
       "      <th>Sample_000</th>\n",
       "      <td>Sweden</td>\n",
       "      <td>71.000</td>\n",
       "      <td>f</td>\n",
       "      <td>703.000</td>\n",
       "      <td>85.000</td>\n",
       "      <td>562.000</td>\n",
       "      <td>NaN</td>\n",
       "      <td>NaN</td>\n",
       "      <td>biochemical control</td>\n",
       "      <td>NaN</td>\n",
       "      <td>NaN</td>\n",
       "    </tr>\n",
       "    <tr>\n",
       "      <th>Sample_001</th>\n",
       "      <td>Sweden</td>\n",
       "      <td>77.000</td>\n",
       "      <td>m</td>\n",
       "      <td>518.000</td>\n",
       "      <td>91.000</td>\n",
       "      <td>334.000</td>\n",
       "      <td>NaN</td>\n",
       "      <td>NaN</td>\n",
       "      <td>biochemical AD</td>\n",
       "      <td>NaN</td>\n",
       "      <td>NaN</td>\n",
       "    </tr>\n",
       "    <tr>\n",
       "      <th>Sample_002</th>\n",
       "      <td>Sweden</td>\n",
       "      <td>75.000</td>\n",
       "      <td>m</td>\n",
       "      <td>974.000</td>\n",
       "      <td>87.000</td>\n",
       "      <td>515.000</td>\n",
       "      <td>NaN</td>\n",
       "      <td>NaN</td>\n",
       "      <td>biochemical AD</td>\n",
       "      <td>NaN</td>\n",
       "      <td>NaN</td>\n",
       "    </tr>\n",
       "    <tr>\n",
       "      <th>Sample_003</th>\n",
       "      <td>Sweden</td>\n",
       "      <td>72.000</td>\n",
       "      <td>f</td>\n",
       "      <td>950.000</td>\n",
       "      <td>109.000</td>\n",
       "      <td>394.000</td>\n",
       "      <td>NaN</td>\n",
       "      <td>NaN</td>\n",
       "      <td>biochemical AD</td>\n",
       "      <td>NaN</td>\n",
       "      <td>NaN</td>\n",
       "    </tr>\n",
       "    <tr>\n",
       "      <th>Sample_004</th>\n",
       "      <td>Sweden</td>\n",
       "      <td>63.000</td>\n",
       "      <td>f</td>\n",
       "      <td>873.000</td>\n",
       "      <td>88.000</td>\n",
       "      <td>234.000</td>\n",
       "      <td>NaN</td>\n",
       "      <td>NaN</td>\n",
       "      <td>biochemical AD</td>\n",
       "      <td>NaN</td>\n",
       "      <td>NaN</td>\n",
       "    </tr>\n",
       "    <tr>\n",
       "      <th>...</th>\n",
       "      <td>...</td>\n",
       "      <td>...</td>\n",
       "      <td>...</td>\n",
       "      <td>...</td>\n",
       "      <td>...</td>\n",
       "      <td>...</td>\n",
       "      <td>...</td>\n",
       "      <td>...</td>\n",
       "      <td>...</td>\n",
       "      <td>...</td>\n",
       "      <td>...</td>\n",
       "    </tr>\n",
       "    <tr>\n",
       "      <th>Sample_205</th>\n",
       "      <td>Berlin</td>\n",
       "      <td>69.000</td>\n",
       "      <td>f</td>\n",
       "      <td>1,945.000</td>\n",
       "      <td>NaN</td>\n",
       "      <td>699.000</td>\n",
       "      <td>12,140.000</td>\n",
       "      <td>0.058</td>\n",
       "      <td>biochemical AD</td>\n",
       "      <td>AD</td>\n",
       "      <td>17.000</td>\n",
       "    </tr>\n",
       "    <tr>\n",
       "      <th>Sample_206</th>\n",
       "      <td>Berlin</td>\n",
       "      <td>73.000</td>\n",
       "      <td>m</td>\n",
       "      <td>299.000</td>\n",
       "      <td>NaN</td>\n",
       "      <td>1,420.000</td>\n",
       "      <td>16,571.000</td>\n",
       "      <td>0.086</td>\n",
       "      <td>biochemical control</td>\n",
       "      <td>non-AD</td>\n",
       "      <td>28.000</td>\n",
       "    </tr>\n",
       "    <tr>\n",
       "      <th>Sample_207</th>\n",
       "      <td>Berlin</td>\n",
       "      <td>71.000</td>\n",
       "      <td>f</td>\n",
       "      <td>262.000</td>\n",
       "      <td>NaN</td>\n",
       "      <td>639.000</td>\n",
       "      <td>9,663.000</td>\n",
       "      <td>0.066</td>\n",
       "      <td>biochemical control</td>\n",
       "      <td>non-AD</td>\n",
       "      <td>28.000</td>\n",
       "    </tr>\n",
       "    <tr>\n",
       "      <th>Sample_208</th>\n",
       "      <td>Berlin</td>\n",
       "      <td>83.000</td>\n",
       "      <td>m</td>\n",
       "      <td>289.000</td>\n",
       "      <td>NaN</td>\n",
       "      <td>1,436.000</td>\n",
       "      <td>11,285.000</td>\n",
       "      <td>0.127</td>\n",
       "      <td>biochemical control</td>\n",
       "      <td>non-AD</td>\n",
       "      <td>24.000</td>\n",
       "    </tr>\n",
       "    <tr>\n",
       "      <th>Sample_209</th>\n",
       "      <td>Berlin</td>\n",
       "      <td>63.000</td>\n",
       "      <td>f</td>\n",
       "      <td>591.000</td>\n",
       "      <td>NaN</td>\n",
       "      <td>1,299.000</td>\n",
       "      <td>11,232.000</td>\n",
       "      <td>0.116</td>\n",
       "      <td>biochemical control</td>\n",
       "      <td>non-AD</td>\n",
       "      <td>29.000</td>\n",
       "    </tr>\n",
       "  </tbody>\n",
       "</table>\n",
       "<p>210 rows × 11 columns</p>\n",
       "</div>"
      ],
      "text/plain": [
       "           _collection site  _age at CSF collection _gender  _t-tau [ng/L]  \\\n",
       "Sample ID                                                                    \n",
       "Sample_000           Sweden                  71.000       f        703.000   \n",
       "Sample_001           Sweden                  77.000       m        518.000   \n",
       "Sample_002           Sweden                  75.000       m        974.000   \n",
       "Sample_003           Sweden                  72.000       f        950.000   \n",
       "Sample_004           Sweden                  63.000       f        873.000   \n",
       "...                     ...                     ...     ...            ...   \n",
       "Sample_205           Berlin                  69.000       f      1,945.000   \n",
       "Sample_206           Berlin                  73.000       m        299.000   \n",
       "Sample_207           Berlin                  71.000       f        262.000   \n",
       "Sample_208           Berlin                  83.000       m        289.000   \n",
       "Sample_209           Berlin                  63.000       f        591.000   \n",
       "\n",
       "            _p-tau [ng/L]  _Abeta-42 [ng/L]  _Abeta-40 [ng/L]  \\\n",
       "Sample ID                                                       \n",
       "Sample_000         85.000           562.000               NaN   \n",
       "Sample_001         91.000           334.000               NaN   \n",
       "Sample_002         87.000           515.000               NaN   \n",
       "Sample_003        109.000           394.000               NaN   \n",
       "Sample_004         88.000           234.000               NaN   \n",
       "...                   ...               ...               ...   \n",
       "Sample_205            NaN           699.000        12,140.000   \n",
       "Sample_206            NaN         1,420.000        16,571.000   \n",
       "Sample_207            NaN           639.000         9,663.000   \n",
       "Sample_208            NaN         1,436.000        11,285.000   \n",
       "Sample_209            NaN         1,299.000        11,232.000   \n",
       "\n",
       "            _Abeta-42/Abeta-40 ratio _primary biochemical AD classification  \\\n",
       "Sample ID                                                                     \n",
       "Sample_000                       NaN                    biochemical control   \n",
       "Sample_001                       NaN                         biochemical AD   \n",
       "Sample_002                       NaN                         biochemical AD   \n",
       "Sample_003                       NaN                         biochemical AD   \n",
       "Sample_004                       NaN                         biochemical AD   \n",
       "...                              ...                                    ...   \n",
       "Sample_205                     0.058                         biochemical AD   \n",
       "Sample_206                     0.086                    biochemical control   \n",
       "Sample_207                     0.066                    biochemical control   \n",
       "Sample_208                     0.127                    biochemical control   \n",
       "Sample_209                     0.116                    biochemical control   \n",
       "\n",
       "           _clinical AD diagnosis  _MMSE score  \n",
       "Sample ID                                       \n",
       "Sample_000                    NaN          NaN  \n",
       "Sample_001                    NaN          NaN  \n",
       "Sample_002                    NaN          NaN  \n",
       "Sample_003                    NaN          NaN  \n",
       "Sample_004                    NaN          NaN  \n",
       "...                           ...          ...  \n",
       "Sample_205                     AD       17.000  \n",
       "Sample_206                 non-AD       28.000  \n",
       "Sample_207                 non-AD       28.000  \n",
       "Sample_208                 non-AD       24.000  \n",
       "Sample_209                 non-AD       29.000  \n",
       "\n",
       "[210 rows x 11 columns]"
      ]
     },
     "metadata": {},
     "output_type": "display_data"
    }
   ],
   "source": [
    "if args.fn_rawfile_metadata:\n",
    "    df_meta = pd.read_csv(args.fn_rawfile_metadata, index_col=0)\n",
    "    display(df_meta.loc[data.train_X.index.levels[0]])\n",
    "else:\n",
    "    df_meta = None"
   ]
  },
  {
   "cell_type": "markdown",
   "id": "ea35dc4c",
   "metadata": {
    "papermill": {
     "duration": 0.008184,
     "end_time": "2024-05-31T08:44:43.777409",
     "exception": false,
     "start_time": "2024-05-31T08:44:43.769225",
     "status": "completed"
    },
    "tags": []
   },
   "source": [
    "## Initialize Comparison"
   ]
  },
  {
   "cell_type": "code",
   "execution_count": 10,
   "id": "5e1a277f",
   "metadata": {
    "execution": {
     "iopub.execute_input": "2024-05-31T08:44:43.794296Z",
     "iopub.status.busy": "2024-05-31T08:44:43.793858Z",
     "iopub.status.idle": "2024-05-31T08:44:43.841720Z",
     "shell.execute_reply": "2024-05-31T08:44:43.841089Z"
    },
    "papermill": {
     "duration": 0.05757,
     "end_time": "2024-05-31T08:44:43.843367",
     "exception": false,
     "start_time": "2024-05-31T08:44:43.785797",
     "status": "completed"
    },
    "tags": [
     "hide-input"
    ]
   },
   "outputs": [
    {
     "data": {
      "text/plain": [
       "protein groups\n",
       "A0A024QZX5;A0A087X1N8;P35237                                                     180\n",
       "A0A024R0T9;K7ER74;P02655                                                         196\n",
       "A0A024R3W6;A0A024R412;O60462;O60462-2;O60462-3;O60462-4;O60462-5;Q7LBX6;X5D2Q8   170\n",
       "A0A024R644;A0A0A0MRU5;A0A1B0GWI2;O75503                                          194\n",
       "A0A075B6H7                                                                        87\n",
       "Name: intensity, dtype: int64"
      ]
     },
     "execution_count": 10,
     "metadata": {},
     "output_type": "execute_result"
    }
   ],
   "source": [
    "freq_feat = sampling.frequency_by_index(data.train_X, 0)\n",
    "freq_feat.head()  # training data"
   ]
  },
  {
   "cell_type": "markdown",
   "id": "15fd461b",
   "metadata": {
    "papermill": {
     "duration": 0.008382,
     "end_time": "2024-05-31T08:44:43.859737",
     "exception": false,
     "start_time": "2024-05-31T08:44:43.851355",
     "status": "completed"
    },
    "tags": []
   },
   "source": [
    "### Simulated missing values"
   ]
  },
  {
   "cell_type": "markdown",
   "id": "382b887d",
   "metadata": {
    "papermill": {
     "duration": 0.00771,
     "end_time": "2024-05-31T08:44:43.875190",
     "exception": false,
     "start_time": "2024-05-31T08:44:43.867480",
     "status": "completed"
    },
    "tags": []
   },
   "source": [
    "The validation fake NA is used to by all models to evaluate training performance."
   ]
  },
  {
   "cell_type": "code",
   "execution_count": 11,
   "id": "d056fb82",
   "metadata": {
    "execution": {
     "iopub.execute_input": "2024-05-31T08:44:43.896620Z",
     "iopub.status.busy": "2024-05-31T08:44:43.896294Z",
     "iopub.status.idle": "2024-05-31T08:44:43.911599Z",
     "shell.execute_reply": "2024-05-31T08:44:43.910691Z"
    },
    "papermill": {
     "duration": 0.030124,
     "end_time": "2024-05-31T08:44:43.914679",
     "exception": false,
     "start_time": "2024-05-31T08:44:43.884555",
     "status": "completed"
    },
    "tags": [
     "hide-input"
    ]
   },
   "outputs": [
    {
     "data": {
      "text/html": [
       "<div>\n",
       "<style scoped>\n",
       "    .dataframe tbody tr th:only-of-type {\n",
       "        vertical-align: middle;\n",
       "    }\n",
       "\n",
       "    .dataframe tbody tr th {\n",
       "        vertical-align: top;\n",
       "    }\n",
       "\n",
       "    .dataframe thead th {\n",
       "        text-align: right;\n",
       "    }\n",
       "</style>\n",
       "<table border=\"1\" class=\"dataframe\">\n",
       "  <thead>\n",
       "    <tr style=\"text-align: right;\">\n",
       "      <th></th>\n",
       "      <th></th>\n",
       "      <th>observed</th>\n",
       "    </tr>\n",
       "    <tr>\n",
       "      <th>Sample ID</th>\n",
       "      <th>protein groups</th>\n",
       "      <th></th>\n",
       "    </tr>\n",
       "  </thead>\n",
       "  <tbody>\n",
       "    <tr>\n",
       "      <th>Sample_158</th>\n",
       "      <th>Q9UN70;Q9UN70-2</th>\n",
       "      <td>14.630</td>\n",
       "    </tr>\n",
       "    <tr>\n",
       "      <th>Sample_050</th>\n",
       "      <th>Q9Y287</th>\n",
       "      <td>15.755</td>\n",
       "    </tr>\n",
       "    <tr>\n",
       "      <th>Sample_107</th>\n",
       "      <th>Q8N475;Q8N475-2</th>\n",
       "      <td>15.029</td>\n",
       "    </tr>\n",
       "    <tr>\n",
       "      <th>Sample_199</th>\n",
       "      <th>P06307</th>\n",
       "      <td>19.376</td>\n",
       "    </tr>\n",
       "    <tr>\n",
       "      <th>Sample_067</th>\n",
       "      <th>Q5VUB5</th>\n",
       "      <td>15.309</td>\n",
       "    </tr>\n",
       "    <tr>\n",
       "      <th>...</th>\n",
       "      <th>...</th>\n",
       "      <td>...</td>\n",
       "    </tr>\n",
       "    <tr>\n",
       "      <th>Sample_111</th>\n",
       "      <th>F6SYF8;Q9UBP4</th>\n",
       "      <td>22.822</td>\n",
       "    </tr>\n",
       "    <tr>\n",
       "      <th>Sample_002</th>\n",
       "      <th>A0A0A0MT36</th>\n",
       "      <td>18.165</td>\n",
       "    </tr>\n",
       "    <tr>\n",
       "      <th>Sample_049</th>\n",
       "      <th>Q8WY21;Q8WY21-2;Q8WY21-3;Q8WY21-4</th>\n",
       "      <td>15.525</td>\n",
       "    </tr>\n",
       "    <tr>\n",
       "      <th>Sample_182</th>\n",
       "      <th>Q8NFT8</th>\n",
       "      <td>14.379</td>\n",
       "    </tr>\n",
       "    <tr>\n",
       "      <th>Sample_123</th>\n",
       "      <th>Q16853;Q16853-2</th>\n",
       "      <td>14.504</td>\n",
       "    </tr>\n",
       "  </tbody>\n",
       "</table>\n",
       "<p>12600 rows × 1 columns</p>\n",
       "</div>"
      ],
      "text/plain": [
       "                                              observed\n",
       "Sample ID  protein groups                             \n",
       "Sample_158 Q9UN70;Q9UN70-2                      14.630\n",
       "Sample_050 Q9Y287                               15.755\n",
       "Sample_107 Q8N475;Q8N475-2                      15.029\n",
       "Sample_199 P06307                               19.376\n",
       "Sample_067 Q5VUB5                               15.309\n",
       "...                                                ...\n",
       "Sample_111 F6SYF8;Q9UBP4                        22.822\n",
       "Sample_002 A0A0A0MT36                           18.165\n",
       "Sample_049 Q8WY21;Q8WY21-2;Q8WY21-3;Q8WY21-4    15.525\n",
       "Sample_182 Q8NFT8                               14.379\n",
       "Sample_123 Q16853;Q16853-2                      14.504\n",
       "\n",
       "[12600 rows x 1 columns]"
      ]
     },
     "execution_count": 11,
     "metadata": {},
     "output_type": "execute_result"
    }
   ],
   "source": [
    "val_pred_fake_na = data.val_y.to_frame(name='observed')\n",
    "val_pred_fake_na"
   ]
  },
  {
   "cell_type": "code",
   "execution_count": 12,
   "id": "ade74bab",
   "metadata": {
    "execution": {
     "iopub.execute_input": "2024-05-31T08:44:43.941018Z",
     "iopub.status.busy": "2024-05-31T08:44:43.940323Z",
     "iopub.status.idle": "2024-05-31T08:44:43.954389Z",
     "shell.execute_reply": "2024-05-31T08:44:43.953666Z"
    },
    "lines_to_next_cell": 2,
    "papermill": {
     "duration": 0.031081,
     "end_time": "2024-05-31T08:44:43.956017",
     "exception": false,
     "start_time": "2024-05-31T08:44:43.924936",
     "status": "completed"
    },
    "tags": [
     "hide-input"
    ]
   },
   "outputs": [
    {
     "data": {
      "text/html": [
       "<div>\n",
       "<style scoped>\n",
       "    .dataframe tbody tr th:only-of-type {\n",
       "        vertical-align: middle;\n",
       "    }\n",
       "\n",
       "    .dataframe tbody tr th {\n",
       "        vertical-align: top;\n",
       "    }\n",
       "\n",
       "    .dataframe thead th {\n",
       "        text-align: right;\n",
       "    }\n",
       "</style>\n",
       "<table border=\"1\" class=\"dataframe\">\n",
       "  <thead>\n",
       "    <tr style=\"text-align: right;\">\n",
       "      <th></th>\n",
       "      <th>observed</th>\n",
       "    </tr>\n",
       "  </thead>\n",
       "  <tbody>\n",
       "    <tr>\n",
       "      <th>count</th>\n",
       "      <td>12,600.000</td>\n",
       "    </tr>\n",
       "    <tr>\n",
       "      <th>mean</th>\n",
       "      <td>16.339</td>\n",
       "    </tr>\n",
       "    <tr>\n",
       "      <th>std</th>\n",
       "      <td>2.741</td>\n",
       "    </tr>\n",
       "    <tr>\n",
       "      <th>min</th>\n",
       "      <td>7.209</td>\n",
       "    </tr>\n",
       "    <tr>\n",
       "      <th>25%</th>\n",
       "      <td>14.412</td>\n",
       "    </tr>\n",
       "    <tr>\n",
       "      <th>50%</th>\n",
       "      <td>15.935</td>\n",
       "    </tr>\n",
       "    <tr>\n",
       "      <th>75%</th>\n",
       "      <td>17.910</td>\n",
       "    </tr>\n",
       "    <tr>\n",
       "      <th>max</th>\n",
       "      <td>30.140</td>\n",
       "    </tr>\n",
       "  </tbody>\n",
       "</table>\n",
       "</div>"
      ],
      "text/plain": [
       "        observed\n",
       "count 12,600.000\n",
       "mean      16.339\n",
       "std        2.741\n",
       "min        7.209\n",
       "25%       14.412\n",
       "50%       15.935\n",
       "75%       17.910\n",
       "max       30.140"
      ]
     },
     "execution_count": 12,
     "metadata": {},
     "output_type": "execute_result"
    }
   ],
   "source": [
    "test_pred_fake_na = data.test_y.to_frame(name='observed')\n",
    "test_pred_fake_na.describe()"
   ]
  },
  {
   "cell_type": "markdown",
   "id": "e21c5c7d",
   "metadata": {
    "papermill": {
     "duration": 0.008553,
     "end_time": "2024-05-31T08:44:43.974098",
     "exception": false,
     "start_time": "2024-05-31T08:44:43.965545",
     "status": "completed"
    },
    "tags": []
   },
   "source": [
    "## Data in wide format"
   ]
  },
  {
   "cell_type": "code",
   "execution_count": 13,
   "id": "4a75a078",
   "metadata": {
    "execution": {
     "iopub.execute_input": "2024-05-31T08:44:43.992885Z",
     "iopub.status.busy": "2024-05-31T08:44:43.992550Z",
     "iopub.status.idle": "2024-05-31T08:44:44.053249Z",
     "shell.execute_reply": "2024-05-31T08:44:44.052539Z"
    },
    "papermill": {
     "duration": 0.072186,
     "end_time": "2024-05-31T08:44:44.055107",
     "exception": false,
     "start_time": "2024-05-31T08:44:43.982921",
     "status": "completed"
    },
    "tags": [
     "hide-input"
    ]
   },
   "outputs": [
    {
     "data": {
      "text/html": [
       "<div>\n",
       "<style scoped>\n",
       "    .dataframe tbody tr th:only-of-type {\n",
       "        vertical-align: middle;\n",
       "    }\n",
       "\n",
       "    .dataframe tbody tr th {\n",
       "        vertical-align: top;\n",
       "    }\n",
       "\n",
       "    .dataframe thead th {\n",
       "        text-align: right;\n",
       "    }\n",
       "</style>\n",
       "<table border=\"1\" class=\"dataframe\">\n",
       "  <thead>\n",
       "    <tr style=\"text-align: right;\">\n",
       "      <th>protein groups</th>\n",
       "      <th>A0A024QZX5;A0A087X1N8;P35237</th>\n",
       "      <th>A0A024R0T9;K7ER74;P02655</th>\n",
       "      <th>A0A024R3W6;A0A024R412;O60462;O60462-2;O60462-3;O60462-4;O60462-5;Q7LBX6;X5D2Q8</th>\n",
       "      <th>A0A024R644;A0A0A0MRU5;A0A1B0GWI2;O75503</th>\n",
       "      <th>A0A075B6H7</th>\n",
       "      <th>A0A075B6H9</th>\n",
       "      <th>A0A075B6I0</th>\n",
       "      <th>A0A075B6I1</th>\n",
       "      <th>A0A075B6I6</th>\n",
       "      <th>A0A075B6I9</th>\n",
       "      <th>...</th>\n",
       "      <th>Q9Y653;Q9Y653-2;Q9Y653-3</th>\n",
       "      <th>Q9Y696</th>\n",
       "      <th>Q9Y6C2</th>\n",
       "      <th>Q9Y6N6</th>\n",
       "      <th>Q9Y6N7;Q9Y6N7-2;Q9Y6N7-4</th>\n",
       "      <th>Q9Y6R7</th>\n",
       "      <th>Q9Y6X5</th>\n",
       "      <th>Q9Y6Y8;Q9Y6Y8-2</th>\n",
       "      <th>Q9Y6Y9</th>\n",
       "      <th>S4R3U6</th>\n",
       "    </tr>\n",
       "    <tr>\n",
       "      <th>Sample ID</th>\n",
       "      <th></th>\n",
       "      <th></th>\n",
       "      <th></th>\n",
       "      <th></th>\n",
       "      <th></th>\n",
       "      <th></th>\n",
       "      <th></th>\n",
       "      <th></th>\n",
       "      <th></th>\n",
       "      <th></th>\n",
       "      <th></th>\n",
       "      <th></th>\n",
       "      <th></th>\n",
       "      <th></th>\n",
       "      <th></th>\n",
       "      <th></th>\n",
       "      <th></th>\n",
       "      <th></th>\n",
       "      <th></th>\n",
       "      <th></th>\n",
       "      <th></th>\n",
       "    </tr>\n",
       "  </thead>\n",
       "  <tbody>\n",
       "    <tr>\n",
       "      <th>Sample_000</th>\n",
       "      <td>15.912</td>\n",
       "      <td>16.852</td>\n",
       "      <td>15.570</td>\n",
       "      <td>16.481</td>\n",
       "      <td>17.301</td>\n",
       "      <td>20.246</td>\n",
       "      <td>16.764</td>\n",
       "      <td>17.584</td>\n",
       "      <td>16.988</td>\n",
       "      <td>20.054</td>\n",
       "      <td>...</td>\n",
       "      <td>16.012</td>\n",
       "      <td>15.178</td>\n",
       "      <td>NaN</td>\n",
       "      <td>15.050</td>\n",
       "      <td>16.842</td>\n",
       "      <td>NaN</td>\n",
       "      <td>NaN</td>\n",
       "      <td>19.563</td>\n",
       "      <td>NaN</td>\n",
       "      <td>12.805</td>\n",
       "    </tr>\n",
       "    <tr>\n",
       "      <th>Sample_001</th>\n",
       "      <td>NaN</td>\n",
       "      <td>16.874</td>\n",
       "      <td>15.519</td>\n",
       "      <td>16.387</td>\n",
       "      <td>NaN</td>\n",
       "      <td>19.941</td>\n",
       "      <td>18.786</td>\n",
       "      <td>17.144</td>\n",
       "      <td>NaN</td>\n",
       "      <td>19.067</td>\n",
       "      <td>...</td>\n",
       "      <td>15.528</td>\n",
       "      <td>15.576</td>\n",
       "      <td>NaN</td>\n",
       "      <td>14.833</td>\n",
       "      <td>16.597</td>\n",
       "      <td>20.299</td>\n",
       "      <td>15.556</td>\n",
       "      <td>19.386</td>\n",
       "      <td>13.970</td>\n",
       "      <td>12.442</td>\n",
       "    </tr>\n",
       "    <tr>\n",
       "      <th>Sample_002</th>\n",
       "      <td>16.111</td>\n",
       "      <td>NaN</td>\n",
       "      <td>15.935</td>\n",
       "      <td>16.416</td>\n",
       "      <td>18.175</td>\n",
       "      <td>19.251</td>\n",
       "      <td>16.832</td>\n",
       "      <td>15.671</td>\n",
       "      <td>17.012</td>\n",
       "      <td>18.569</td>\n",
       "      <td>...</td>\n",
       "      <td>15.229</td>\n",
       "      <td>14.728</td>\n",
       "      <td>13.757</td>\n",
       "      <td>15.118</td>\n",
       "      <td>17.440</td>\n",
       "      <td>19.598</td>\n",
       "      <td>15.735</td>\n",
       "      <td>20.447</td>\n",
       "      <td>12.636</td>\n",
       "      <td>12.505</td>\n",
       "    </tr>\n",
       "    <tr>\n",
       "      <th>Sample_003</th>\n",
       "      <td>16.107</td>\n",
       "      <td>17.032</td>\n",
       "      <td>15.802</td>\n",
       "      <td>16.979</td>\n",
       "      <td>15.963</td>\n",
       "      <td>19.628</td>\n",
       "      <td>17.852</td>\n",
       "      <td>18.877</td>\n",
       "      <td>14.182</td>\n",
       "      <td>18.985</td>\n",
       "      <td>...</td>\n",
       "      <td>15.495</td>\n",
       "      <td>14.590</td>\n",
       "      <td>14.682</td>\n",
       "      <td>15.140</td>\n",
       "      <td>17.356</td>\n",
       "      <td>19.429</td>\n",
       "      <td>NaN</td>\n",
       "      <td>20.216</td>\n",
       "      <td>NaN</td>\n",
       "      <td>12.445</td>\n",
       "    </tr>\n",
       "    <tr>\n",
       "      <th>Sample_004</th>\n",
       "      <td>15.603</td>\n",
       "      <td>15.331</td>\n",
       "      <td>15.375</td>\n",
       "      <td>16.679</td>\n",
       "      <td>NaN</td>\n",
       "      <td>20.450</td>\n",
       "      <td>18.682</td>\n",
       "      <td>17.081</td>\n",
       "      <td>14.140</td>\n",
       "      <td>19.686</td>\n",
       "      <td>...</td>\n",
       "      <td>14.757</td>\n",
       "      <td>NaN</td>\n",
       "      <td>NaN</td>\n",
       "      <td>15.256</td>\n",
       "      <td>17.075</td>\n",
       "      <td>19.582</td>\n",
       "      <td>15.328</td>\n",
       "      <td>NaN</td>\n",
       "      <td>13.145</td>\n",
       "      <td>NaN</td>\n",
       "    </tr>\n",
       "  </tbody>\n",
       "</table>\n",
       "<p>5 rows × 1421 columns</p>\n",
       "</div>"
      ],
      "text/plain": [
       "protein groups  A0A024QZX5;A0A087X1N8;P35237  A0A024R0T9;K7ER74;P02655  \\\n",
       "Sample ID                                                                \n",
       "Sample_000                            15.912                    16.852   \n",
       "Sample_001                               NaN                    16.874   \n",
       "Sample_002                            16.111                       NaN   \n",
       "Sample_003                            16.107                    17.032   \n",
       "Sample_004                            15.603                    15.331   \n",
       "\n",
       "protein groups  A0A024R3W6;A0A024R412;O60462;O60462-2;O60462-3;O60462-4;O60462-5;Q7LBX6;X5D2Q8  \\\n",
       "Sample ID                                                                                        \n",
       "Sample_000                                                                              15.570   \n",
       "Sample_001                                                                              15.519   \n",
       "Sample_002                                                                              15.935   \n",
       "Sample_003                                                                              15.802   \n",
       "Sample_004                                                                              15.375   \n",
       "\n",
       "protein groups  A0A024R644;A0A0A0MRU5;A0A1B0GWI2;O75503  A0A075B6H7  \\\n",
       "Sample ID                                                             \n",
       "Sample_000                                       16.481      17.301   \n",
       "Sample_001                                       16.387         NaN   \n",
       "Sample_002                                       16.416      18.175   \n",
       "Sample_003                                       16.979      15.963   \n",
       "Sample_004                                       16.679         NaN   \n",
       "\n",
       "protein groups  A0A075B6H9  A0A075B6I0  A0A075B6I1  A0A075B6I6  A0A075B6I9  \\\n",
       "Sample ID                                                                    \n",
       "Sample_000          20.246      16.764      17.584      16.988      20.054   \n",
       "Sample_001          19.941      18.786      17.144         NaN      19.067   \n",
       "Sample_002          19.251      16.832      15.671      17.012      18.569   \n",
       "Sample_003          19.628      17.852      18.877      14.182      18.985   \n",
       "Sample_004          20.450      18.682      17.081      14.140      19.686   \n",
       "\n",
       "protein groups  ...  Q9Y653;Q9Y653-2;Q9Y653-3  Q9Y696  Q9Y6C2  Q9Y6N6  \\\n",
       "Sample ID       ...                                                     \n",
       "Sample_000      ...                    16.012  15.178     NaN  15.050   \n",
       "Sample_001      ...                    15.528  15.576     NaN  14.833   \n",
       "Sample_002      ...                    15.229  14.728  13.757  15.118   \n",
       "Sample_003      ...                    15.495  14.590  14.682  15.140   \n",
       "Sample_004      ...                    14.757     NaN     NaN  15.256   \n",
       "\n",
       "protein groups  Q9Y6N7;Q9Y6N7-2;Q9Y6N7-4  Q9Y6R7  Q9Y6X5  Q9Y6Y8;Q9Y6Y8-2  \\\n",
       "Sample ID                                                                   \n",
       "Sample_000                        16.842     NaN     NaN           19.563   \n",
       "Sample_001                        16.597  20.299  15.556           19.386   \n",
       "Sample_002                        17.440  19.598  15.735           20.447   \n",
       "Sample_003                        17.356  19.429     NaN           20.216   \n",
       "Sample_004                        17.075  19.582  15.328              NaN   \n",
       "\n",
       "protein groups  Q9Y6Y9  S4R3U6  \n",
       "Sample ID                       \n",
       "Sample_000         NaN  12.805  \n",
       "Sample_001      13.970  12.442  \n",
       "Sample_002      12.636  12.505  \n",
       "Sample_003         NaN  12.445  \n",
       "Sample_004      13.145     NaN  \n",
       "\n",
       "[5 rows x 1421 columns]"
      ]
     },
     "execution_count": 13,
     "metadata": {},
     "output_type": "execute_result"
    }
   ],
   "source": [
    "data.to_wide_format()\n",
    "args.M = data.train_X.shape[-1]\n",
    "data.train_X.head()"
   ]
  },
  {
   "attachments": {},
   "cell_type": "markdown",
   "id": "89465f1b",
   "metadata": {
    "papermill": {
     "duration": 0.010777,
     "end_time": "2024-05-31T08:44:44.080042",
     "exception": false,
     "start_time": "2024-05-31T08:44:44.069265",
     "status": "completed"
    },
    "tags": []
   },
   "source": [
    "## Train\n",
    "model = 'sklearn_knn'"
   ]
  },
  {
   "cell_type": "code",
   "execution_count": 14,
   "id": "58d3383c",
   "metadata": {
    "execution": {
     "iopub.execute_input": "2024-05-31T08:44:44.103574Z",
     "iopub.status.busy": "2024-05-31T08:44:44.103181Z",
     "iopub.status.idle": "2024-05-31T08:44:44.119158Z",
     "shell.execute_reply": "2024-05-31T08:44:44.118202Z"
    },
    "papermill": {
     "duration": 0.030857,
     "end_time": "2024-05-31T08:44:44.121401",
     "exception": false,
     "start_time": "2024-05-31T08:44:44.090544",
     "status": "completed"
    },
    "tags": [
     "hide-input"
    ]
   },
   "outputs": [],
   "source": [
    "knn_imputer = sklearn.impute.KNNImputer(n_neighbors=args.neighbors).fit(data.train_X)"
   ]
  },
  {
   "cell_type": "markdown",
   "id": "5ed614e9",
   "metadata": {
    "papermill": {
     "duration": 0.009722,
     "end_time": "2024-05-31T08:44:44.142165",
     "exception": false,
     "start_time": "2024-05-31T08:44:44.132443",
     "status": "completed"
    },
    "tags": []
   },
   "source": [
    "### Predictions\n",
    "\n",
    "- data of training data set and validation dataset to create predictions is the same as training data.\n",
    "- predictions include missing values (which are not further compared)\n",
    "\n",
    "create predictions and select for split entries"
   ]
  },
  {
   "cell_type": "code",
   "execution_count": 15,
   "id": "98a1cba0",
   "metadata": {
    "execution": {
     "iopub.execute_input": "2024-05-31T08:44:44.163965Z",
     "iopub.status.busy": "2024-05-31T08:44:44.163590Z",
     "iopub.status.idle": "2024-05-31T08:44:44.946888Z",
     "shell.execute_reply": "2024-05-31T08:44:44.945996Z"
    },
    "papermill": {
     "duration": 0.797194,
     "end_time": "2024-05-31T08:44:44.949116",
     "exception": false,
     "start_time": "2024-05-31T08:44:44.151922",
     "status": "completed"
    },
    "tags": [
     "hide-input"
    ]
   },
   "outputs": [
    {
     "data": {
      "text/plain": [
       "Sample ID   protein groups                                                                \n",
       "Sample_000  A0A024QZX5;A0A087X1N8;P35237                                                     15.912\n",
       "            A0A024R0T9;K7ER74;P02655                                                         16.852\n",
       "            A0A024R3W6;A0A024R412;O60462;O60462-2;O60462-3;O60462-4;O60462-5;Q7LBX6;X5D2Q8   15.570\n",
       "            A0A024R644;A0A0A0MRU5;A0A1B0GWI2;O75503                                          16.481\n",
       "            A0A075B6H7                                                                       17.301\n",
       "                                                                                              ...  \n",
       "Sample_209  Q9Y6R7                                                                           19.275\n",
       "            Q9Y6X5                                                                           15.732\n",
       "            Q9Y6Y8;Q9Y6Y8-2                                                                  19.577\n",
       "            Q9Y6Y9                                                                           11.042\n",
       "            S4R3U6                                                                           11.791\n",
       "Length: 298410, dtype: float64"
      ]
     },
     "execution_count": 15,
     "metadata": {},
     "output_type": "execute_result"
    }
   ],
   "source": [
    "pred = knn_imputer.transform(data.train_X)\n",
    "pred = pd.DataFrame(pred, index=data.train_X.index, columns=data.train_X.columns).stack()\n",
    "pred"
   ]
  },
  {
   "cell_type": "code",
   "execution_count": 16,
   "id": "5b24132c",
   "metadata": {
    "execution": {
     "iopub.execute_input": "2024-05-31T08:44:44.976292Z",
     "iopub.status.busy": "2024-05-31T08:44:44.975738Z",
     "iopub.status.idle": "2024-05-31T08:44:45.006414Z",
     "shell.execute_reply": "2024-05-31T08:44:45.005582Z"
    },
    "papermill": {
     "duration": 0.046105,
     "end_time": "2024-05-31T08:44:45.008243",
     "exception": false,
     "start_time": "2024-05-31T08:44:44.962138",
     "status": "completed"
    },
    "tags": [
     "hide-input"
    ]
   },
   "outputs": [
    {
     "data": {
      "text/html": [
       "<div>\n",
       "<style scoped>\n",
       "    .dataframe tbody tr th:only-of-type {\n",
       "        vertical-align: middle;\n",
       "    }\n",
       "\n",
       "    .dataframe tbody tr th {\n",
       "        vertical-align: top;\n",
       "    }\n",
       "\n",
       "    .dataframe thead th {\n",
       "        text-align: right;\n",
       "    }\n",
       "</style>\n",
       "<table border=\"1\" class=\"dataframe\">\n",
       "  <thead>\n",
       "    <tr style=\"text-align: right;\">\n",
       "      <th></th>\n",
       "      <th></th>\n",
       "      <th>observed</th>\n",
       "      <th>KNN</th>\n",
       "    </tr>\n",
       "    <tr>\n",
       "      <th>Sample ID</th>\n",
       "      <th>protein groups</th>\n",
       "      <th></th>\n",
       "      <th></th>\n",
       "    </tr>\n",
       "  </thead>\n",
       "  <tbody>\n",
       "    <tr>\n",
       "      <th>Sample_158</th>\n",
       "      <th>Q9UN70;Q9UN70-2</th>\n",
       "      <td>14.630</td>\n",
       "      <td>15.427</td>\n",
       "    </tr>\n",
       "    <tr>\n",
       "      <th>Sample_050</th>\n",
       "      <th>Q9Y287</th>\n",
       "      <td>15.755</td>\n",
       "      <td>17.776</td>\n",
       "    </tr>\n",
       "    <tr>\n",
       "      <th>Sample_107</th>\n",
       "      <th>Q8N475;Q8N475-2</th>\n",
       "      <td>15.029</td>\n",
       "      <td>14.150</td>\n",
       "    </tr>\n",
       "    <tr>\n",
       "      <th>Sample_199</th>\n",
       "      <th>P06307</th>\n",
       "      <td>19.376</td>\n",
       "      <td>19.247</td>\n",
       "    </tr>\n",
       "    <tr>\n",
       "      <th>Sample_067</th>\n",
       "      <th>Q5VUB5</th>\n",
       "      <td>15.309</td>\n",
       "      <td>15.232</td>\n",
       "    </tr>\n",
       "    <tr>\n",
       "      <th>...</th>\n",
       "      <th>...</th>\n",
       "      <td>...</td>\n",
       "      <td>...</td>\n",
       "    </tr>\n",
       "    <tr>\n",
       "      <th>Sample_111</th>\n",
       "      <th>F6SYF8;Q9UBP4</th>\n",
       "      <td>22.822</td>\n",
       "      <td>22.884</td>\n",
       "    </tr>\n",
       "    <tr>\n",
       "      <th>Sample_002</th>\n",
       "      <th>A0A0A0MT36</th>\n",
       "      <td>18.165</td>\n",
       "      <td>16.857</td>\n",
       "    </tr>\n",
       "    <tr>\n",
       "      <th>Sample_049</th>\n",
       "      <th>Q8WY21;Q8WY21-2;Q8WY21-3;Q8WY21-4</th>\n",
       "      <td>15.525</td>\n",
       "      <td>15.840</td>\n",
       "    </tr>\n",
       "    <tr>\n",
       "      <th>Sample_182</th>\n",
       "      <th>Q8NFT8</th>\n",
       "      <td>14.379</td>\n",
       "      <td>13.685</td>\n",
       "    </tr>\n",
       "    <tr>\n",
       "      <th>Sample_123</th>\n",
       "      <th>Q16853;Q16853-2</th>\n",
       "      <td>14.504</td>\n",
       "      <td>14.612</td>\n",
       "    </tr>\n",
       "  </tbody>\n",
       "</table>\n",
       "<p>12600 rows × 2 columns</p>\n",
       "</div>"
      ],
      "text/plain": [
       "                                              observed    KNN\n",
       "Sample ID  protein groups                                    \n",
       "Sample_158 Q9UN70;Q9UN70-2                      14.630 15.427\n",
       "Sample_050 Q9Y287                               15.755 17.776\n",
       "Sample_107 Q8N475;Q8N475-2                      15.029 14.150\n",
       "Sample_199 P06307                               19.376 19.247\n",
       "Sample_067 Q5VUB5                               15.309 15.232\n",
       "...                                                ...    ...\n",
       "Sample_111 F6SYF8;Q9UBP4                        22.822 22.884\n",
       "Sample_002 A0A0A0MT36                           18.165 16.857\n",
       "Sample_049 Q8WY21;Q8WY21-2;Q8WY21-3;Q8WY21-4    15.525 15.840\n",
       "Sample_182 Q8NFT8                               14.379 13.685\n",
       "Sample_123 Q16853;Q16853-2                      14.504 14.612\n",
       "\n",
       "[12600 rows x 2 columns]"
      ]
     },
     "execution_count": 16,
     "metadata": {},
     "output_type": "execute_result"
    }
   ],
   "source": [
    "val_pred_fake_na[args.model_key] = pred\n",
    "val_pred_fake_na"
   ]
  },
  {
   "cell_type": "code",
   "execution_count": 17,
   "id": "f8937bcc",
   "metadata": {
    "execution": {
     "iopub.execute_input": "2024-05-31T08:44:45.030171Z",
     "iopub.status.busy": "2024-05-31T08:44:45.029792Z",
     "iopub.status.idle": "2024-05-31T08:44:45.048656Z",
     "shell.execute_reply": "2024-05-31T08:44:45.047922Z"
    },
    "papermill": {
     "duration": 0.032039,
     "end_time": "2024-05-31T08:44:45.050454",
     "exception": false,
     "start_time": "2024-05-31T08:44:45.018415",
     "status": "completed"
    },
    "tags": [
     "hide-input"
    ]
   },
   "outputs": [
    {
     "data": {
      "text/html": [
       "<div>\n",
       "<style scoped>\n",
       "    .dataframe tbody tr th:only-of-type {\n",
       "        vertical-align: middle;\n",
       "    }\n",
       "\n",
       "    .dataframe tbody tr th {\n",
       "        vertical-align: top;\n",
       "    }\n",
       "\n",
       "    .dataframe thead th {\n",
       "        text-align: right;\n",
       "    }\n",
       "</style>\n",
       "<table border=\"1\" class=\"dataframe\">\n",
       "  <thead>\n",
       "    <tr style=\"text-align: right;\">\n",
       "      <th></th>\n",
       "      <th></th>\n",
       "      <th>observed</th>\n",
       "      <th>KNN</th>\n",
       "    </tr>\n",
       "    <tr>\n",
       "      <th>Sample ID</th>\n",
       "      <th>protein groups</th>\n",
       "      <th></th>\n",
       "      <th></th>\n",
       "    </tr>\n",
       "  </thead>\n",
       "  <tbody>\n",
       "    <tr>\n",
       "      <th rowspan=\"5\" valign=\"top\">Sample_000</th>\n",
       "      <th>A0A075B6P5;P01615</th>\n",
       "      <td>17.016</td>\n",
       "      <td>17.190</td>\n",
       "    </tr>\n",
       "    <tr>\n",
       "      <th>A0A087X089;Q16627;Q16627-2</th>\n",
       "      <td>18.280</td>\n",
       "      <td>18.293</td>\n",
       "    </tr>\n",
       "    <tr>\n",
       "      <th>A0A0B4J2B5;S4R460</th>\n",
       "      <td>21.735</td>\n",
       "      <td>21.835</td>\n",
       "    </tr>\n",
       "    <tr>\n",
       "      <th>A0A140T971;O95865;Q5SRR8;Q5SSV3</th>\n",
       "      <td>14.603</td>\n",
       "      <td>15.172</td>\n",
       "    </tr>\n",
       "    <tr>\n",
       "      <th>A0A140TA33;A0A140TA41;A0A140TA52;P22105;P22105-3;P22105-4</th>\n",
       "      <td>16.143</td>\n",
       "      <td>16.625</td>\n",
       "    </tr>\n",
       "    <tr>\n",
       "      <th>...</th>\n",
       "      <th>...</th>\n",
       "      <td>...</td>\n",
       "      <td>...</td>\n",
       "    </tr>\n",
       "    <tr>\n",
       "      <th rowspan=\"5\" valign=\"top\">Sample_209</th>\n",
       "      <th>Q96ID5</th>\n",
       "      <td>16.074</td>\n",
       "      <td>15.909</td>\n",
       "    </tr>\n",
       "    <tr>\n",
       "      <th>Q9H492;Q9H492-2</th>\n",
       "      <td>13.173</td>\n",
       "      <td>13.669</td>\n",
       "    </tr>\n",
       "    <tr>\n",
       "      <th>Q9HC57</th>\n",
       "      <td>14.207</td>\n",
       "      <td>13.962</td>\n",
       "    </tr>\n",
       "    <tr>\n",
       "      <th>Q9NPH3;Q9NPH3-2;Q9NPH3-5</th>\n",
       "      <td>14.962</td>\n",
       "      <td>15.094</td>\n",
       "    </tr>\n",
       "    <tr>\n",
       "      <th>Q9UGM5;Q9UGM5-2</th>\n",
       "      <td>16.871</td>\n",
       "      <td>16.255</td>\n",
       "    </tr>\n",
       "  </tbody>\n",
       "</table>\n",
       "<p>12600 rows × 2 columns</p>\n",
       "</div>"
      ],
      "text/plain": [
       "                                                                      observed  \\\n",
       "Sample ID  protein groups                                                        \n",
       "Sample_000 A0A075B6P5;P01615                                            17.016   \n",
       "           A0A087X089;Q16627;Q16627-2                                   18.280   \n",
       "           A0A0B4J2B5;S4R460                                            21.735   \n",
       "           A0A140T971;O95865;Q5SRR8;Q5SSV3                              14.603   \n",
       "           A0A140TA33;A0A140TA41;A0A140TA52;P22105;P22105-3;P22105-4    16.143   \n",
       "...                                                                        ...   \n",
       "Sample_209 Q96ID5                                                       16.074   \n",
       "           Q9H492;Q9H492-2                                              13.173   \n",
       "           Q9HC57                                                       14.207   \n",
       "           Q9NPH3;Q9NPH3-2;Q9NPH3-5                                     14.962   \n",
       "           Q9UGM5;Q9UGM5-2                                              16.871   \n",
       "\n",
       "                                                                        KNN  \n",
       "Sample ID  protein groups                                                    \n",
       "Sample_000 A0A075B6P5;P01615                                         17.190  \n",
       "           A0A087X089;Q16627;Q16627-2                                18.293  \n",
       "           A0A0B4J2B5;S4R460                                         21.835  \n",
       "           A0A140T971;O95865;Q5SRR8;Q5SSV3                           15.172  \n",
       "           A0A140TA33;A0A140TA41;A0A140TA52;P22105;P22105-3;P22105-4 16.625  \n",
       "...                                                                     ...  \n",
       "Sample_209 Q96ID5                                                    15.909  \n",
       "           Q9H492;Q9H492-2                                           13.669  \n",
       "           Q9HC57                                                    13.962  \n",
       "           Q9NPH3;Q9NPH3-2;Q9NPH3-5                                  15.094  \n",
       "           Q9UGM5;Q9UGM5-2                                           16.255  \n",
       "\n",
       "[12600 rows x 2 columns]"
      ]
     },
     "execution_count": 17,
     "metadata": {},
     "output_type": "execute_result"
    }
   ],
   "source": [
    "test_pred_fake_na[args.model_key] = pred\n",
    "test_pred_fake_na"
   ]
  },
  {
   "cell_type": "markdown",
   "id": "a7753205",
   "metadata": {
    "papermill": {
     "duration": 0.014231,
     "end_time": "2024-05-31T08:44:45.074844",
     "exception": false,
     "start_time": "2024-05-31T08:44:45.060613",
     "status": "completed"
    },
    "tags": []
   },
   "source": [
    "save missing values predictions"
   ]
  },
  {
   "cell_type": "code",
   "execution_count": 18,
   "id": "8a853343",
   "metadata": {
    "execution": {
     "iopub.execute_input": "2024-05-31T08:44:45.097523Z",
     "iopub.status.busy": "2024-05-31T08:44:45.097207Z",
     "iopub.status.idle": "2024-05-31T08:44:45.881200Z",
     "shell.execute_reply": "2024-05-31T08:44:45.880499Z"
    },
    "lines_to_next_cell": 2,
    "papermill": {
     "duration": 0.797922,
     "end_time": "2024-05-31T08:44:45.883200",
     "exception": false,
     "start_time": "2024-05-31T08:44:45.085278",
     "status": "completed"
    },
    "tags": [
     "hide-input"
    ]
   },
   "outputs": [
    {
     "data": {
      "text/plain": [
       "Sample ID   protein groups          \n",
       "Sample_000  A0A075B6J9                 15.570\n",
       "            A0A075B6Q5                 15.867\n",
       "            A0A075B6R2                 16.478\n",
       "            A0A075B6S5                 16.079\n",
       "            A0A087WSY4                 16.367\n",
       "                                        ...  \n",
       "Sample_209  Q9P1W8;Q9P1W8-2;Q9P1W8-4   15.928\n",
       "            Q9UI40;Q9UI40-2            16.640\n",
       "            Q9UIW2                     17.463\n",
       "            Q9UMX0;Q9UMX0-2;Q9UMX0-4   13.007\n",
       "            Q9UP79                     15.924\n",
       "Name: intensity, Length: 46401, dtype: float64"
      ]
     },
     "metadata": {},
     "output_type": "display_data"
    }
   ],
   "source": [
    "if args.save_pred_real_na:\n",
    "    pred_real_na = ae.get_missing_values(df_train_wide=data.train_X,\n",
    "                                         val_idx=val_pred_fake_na.index,\n",
    "                                         test_idx=test_pred_fake_na.index,\n",
    "                                         pred=pred)\n",
    "    display(pred_real_na)\n",
    "    pred_real_na.to_csv(args.out_preds / f\"pred_real_na_{args.model_key}.csv\")"
   ]
  },
  {
   "cell_type": "markdown",
   "id": "cb3686e1",
   "metadata": {
    "papermill": {
     "duration": 0.009773,
     "end_time": "2024-05-31T08:44:45.903645",
     "exception": false,
     "start_time": "2024-05-31T08:44:45.893872",
     "status": "completed"
    },
    "tags": []
   },
   "source": [
    "### Plots\n",
    "\n",
    "- validation data"
   ]
  },
  {
   "cell_type": "code",
   "execution_count": null,
   "id": "e7c0d93c",
   "metadata": {
    "papermill": {
     "duration": 0.00967,
     "end_time": "2024-05-31T08:44:45.923743",
     "exception": false,
     "start_time": "2024-05-31T08:44:45.914073",
     "status": "completed"
    },
    "tags": [
     "hide-input"
    ]
   },
   "outputs": [],
   "source": []
  },
  {
   "cell_type": "markdown",
   "id": "8881f26e",
   "metadata": {
    "papermill": {
     "duration": 0.010111,
     "end_time": "2024-05-31T08:44:45.980805",
     "exception": false,
     "start_time": "2024-05-31T08:44:45.970694",
     "status": "completed"
    },
    "tags": []
   },
   "source": [
    "## Comparisons\n"
   ]
  },
  {
   "cell_type": "markdown",
   "id": "5129e43f",
   "metadata": {
    "papermill": {
     "duration": 0.012334,
     "end_time": "2024-05-31T08:44:46.003197",
     "exception": false,
     "start_time": "2024-05-31T08:44:45.990863",
     "status": "completed"
    },
    "tags": []
   },
   "source": [
    "### Validation data\n",
    "\n",
    "- all measured (identified, observed) peptides in validation data\n",
    "\n",
    "> Does not make to much sense to compare collab and AEs,\n",
    "> as the setup differs of training and validation data differs"
   ]
  },
  {
   "cell_type": "code",
   "execution_count": 19,
   "id": "1d3a789e",
   "metadata": {
    "execution": {
     "iopub.execute_input": "2024-05-31T08:44:46.029823Z",
     "iopub.status.busy": "2024-05-31T08:44:46.029453Z",
     "iopub.status.idle": "2024-05-31T08:44:46.033481Z",
     "shell.execute_reply": "2024-05-31T08:44:46.032756Z"
    },
    "papermill": {
     "duration": 0.020895,
     "end_time": "2024-05-31T08:44:46.036605",
     "exception": false,
     "start_time": "2024-05-31T08:44:46.015710",
     "status": "completed"
    },
    "tags": [
     "hide-input"
    ]
   },
   "outputs": [],
   "source": [
    "# papermill_description=metrics\n",
    "d_metrics = models.Metrics()"
   ]
  },
  {
   "cell_type": "markdown",
   "id": "0fd9b72d",
   "metadata": {
    "papermill": {
     "duration": 0.01297,
     "end_time": "2024-05-31T08:44:46.062727",
     "exception": false,
     "start_time": "2024-05-31T08:44:46.049757",
     "status": "completed"
    },
    "tags": []
   },
   "source": [
    "The fake NA for the validation step are real test data (not used for training nor early stopping)"
   ]
  },
  {
   "cell_type": "code",
   "execution_count": 20,
   "id": "d56eb144",
   "metadata": {
    "execution": {
     "iopub.execute_input": "2024-05-31T08:44:46.090092Z",
     "iopub.status.busy": "2024-05-31T08:44:46.089740Z",
     "iopub.status.idle": "2024-05-31T08:44:46.113987Z",
     "shell.execute_reply": "2024-05-31T08:44:46.113177Z"
    },
    "papermill": {
     "duration": 0.040497,
     "end_time": "2024-05-31T08:44:46.116189",
     "exception": false,
     "start_time": "2024-05-31T08:44:46.075692",
     "status": "completed"
    },
    "tags": [
     "hide-input"
    ]
   },
   "outputs": [
    {
     "name": "stdout",
     "output_type": "stream",
     "text": [
      "Selected as truth to compare to: observed\n"
     ]
    },
    {
     "data": {
      "text/plain": [
       "{'KNN': {'MSE': 0.5506284398184521,\n",
       "  'MAE': 0.4813403662629595,\n",
       "  'N': 12600,\n",
       "  'prop': 1.0}}"
      ]
     },
     "execution_count": 20,
     "metadata": {},
     "output_type": "execute_result"
    }
   ],
   "source": [
    "added_metrics = d_metrics.add_metrics(val_pred_fake_na, 'valid_fake_na')\n",
    "added_metrics"
   ]
  },
  {
   "cell_type": "markdown",
   "id": "b9b64c77",
   "metadata": {
    "papermill": {
     "duration": 0.013292,
     "end_time": "2024-05-31T08:44:46.142665",
     "exception": false,
     "start_time": "2024-05-31T08:44:46.129373",
     "status": "completed"
    },
    "tags": []
   },
   "source": [
    "### Test Datasplit\n",
    "\n",
    "Fake NAs : Artificially created NAs. Some data was sampled and set\n",
    "explicitly to misssing before it was fed to the model for\n",
    "reconstruction."
   ]
  },
  {
   "cell_type": "code",
   "execution_count": 21,
   "id": "3d0be628",
   "metadata": {
    "execution": {
     "iopub.execute_input": "2024-05-31T08:44:46.188339Z",
     "iopub.status.busy": "2024-05-31T08:44:46.187985Z",
     "iopub.status.idle": "2024-05-31T08:44:46.367967Z",
     "shell.execute_reply": "2024-05-31T08:44:46.367219Z"
    },
    "papermill": {
     "duration": 0.201565,
     "end_time": "2024-05-31T08:44:46.369923",
     "exception": false,
     "start_time": "2024-05-31T08:44:46.168358",
     "status": "completed"
    },
    "tags": [
     "hide-input"
    ]
   },
   "outputs": [
    {
     "name": "stdout",
     "output_type": "stream",
     "text": [
      "Selected as truth to compare to: observed\n"
     ]
    },
    {
     "data": {
      "text/plain": [
       "{'KNN': {'MSE': 0.5474248505726205,\n",
       "  'MAE': 0.4817449433647998,\n",
       "  'N': 12600,\n",
       "  'prop': 1.0}}"
      ]
     },
     "execution_count": 21,
     "metadata": {},
     "output_type": "execute_result"
    }
   ],
   "source": [
    "added_metrics = d_metrics.add_metrics(test_pred_fake_na, 'test_fake_na')\n",
    "added_metrics"
   ]
  },
  {
   "cell_type": "markdown",
   "id": "896c9c3d",
   "metadata": {
    "papermill": {
     "duration": 0.012569,
     "end_time": "2024-05-31T08:44:46.396017",
     "exception": false,
     "start_time": "2024-05-31T08:44:46.383448",
     "status": "completed"
    },
    "tags": []
   },
   "source": [
    "Save all metrics as json"
   ]
  },
  {
   "cell_type": "code",
   "execution_count": 22,
   "id": "9f03ba1f",
   "metadata": {
    "execution": {
     "iopub.execute_input": "2024-05-31T08:44:46.424384Z",
     "iopub.status.busy": "2024-05-31T08:44:46.424045Z",
     "iopub.status.idle": "2024-05-31T08:44:46.430057Z",
     "shell.execute_reply": "2024-05-31T08:44:46.429358Z"
    },
    "papermill": {
     "duration": 0.024302,
     "end_time": "2024-05-31T08:44:46.434432",
     "exception": false,
     "start_time": "2024-05-31T08:44:46.410130",
     "status": "completed"
    },
    "tags": [
     "hide-input"
    ]
   },
   "outputs": [
    {
     "data": {
      "text/plain": [
       "{ 'test_fake_na': { 'KNN': { 'MAE': 0.4817449433647998,\n",
       "                             'MSE': 0.5474248505726205,\n",
       "                             'N': 12600,\n",
       "                             'prop': 1.0}},\n",
       "  'valid_fake_na': { 'KNN': { 'MAE': 0.4813403662629595,\n",
       "                              'MSE': 0.5506284398184521,\n",
       "                              'N': 12600,\n",
       "                              'prop': 1.0}}}"
      ]
     },
     "execution_count": 22,
     "metadata": {},
     "output_type": "execute_result"
    }
   ],
   "source": [
    "vaep.io.dump_json(d_metrics.metrics, args.out_metrics / f'metrics_{args.model_key}.json')\n",
    "d_metrics"
   ]
  },
  {
   "cell_type": "code",
   "execution_count": 23,
   "id": "b962d322",
   "metadata": {
    "execution": {
     "iopub.execute_input": "2024-05-31T08:44:46.462227Z",
     "iopub.status.busy": "2024-05-31T08:44:46.461869Z",
     "iopub.status.idle": "2024-05-31T08:44:46.475877Z",
     "shell.execute_reply": "2024-05-31T08:44:46.475153Z"
    },
    "papermill": {
     "duration": 0.030251,
     "end_time": "2024-05-31T08:44:46.477844",
     "exception": false,
     "start_time": "2024-05-31T08:44:46.447593",
     "status": "completed"
    },
    "tags": [
     "hide-input"
    ]
   },
   "outputs": [
    {
     "data": {
      "text/html": [
       "<div>\n",
       "<style scoped>\n",
       "    .dataframe tbody tr th:only-of-type {\n",
       "        vertical-align: middle;\n",
       "    }\n",
       "\n",
       "    .dataframe tbody tr th {\n",
       "        vertical-align: top;\n",
       "    }\n",
       "\n",
       "    .dataframe thead th {\n",
       "        text-align: right;\n",
       "    }\n",
       "</style>\n",
       "<table border=\"1\" class=\"dataframe\">\n",
       "  <thead>\n",
       "    <tr style=\"text-align: right;\">\n",
       "      <th></th>\n",
       "      <th>subset</th>\n",
       "      <th>valid_fake_na</th>\n",
       "      <th>test_fake_na</th>\n",
       "    </tr>\n",
       "    <tr>\n",
       "      <th>model</th>\n",
       "      <th>metric_name</th>\n",
       "      <th></th>\n",
       "      <th></th>\n",
       "    </tr>\n",
       "  </thead>\n",
       "  <tbody>\n",
       "    <tr>\n",
       "      <th rowspan=\"4\" valign=\"top\">KNN</th>\n",
       "      <th>MSE</th>\n",
       "      <td>0.551</td>\n",
       "      <td>0.547</td>\n",
       "    </tr>\n",
       "    <tr>\n",
       "      <th>MAE</th>\n",
       "      <td>0.481</td>\n",
       "      <td>0.482</td>\n",
       "    </tr>\n",
       "    <tr>\n",
       "      <th>N</th>\n",
       "      <td>12,600.000</td>\n",
       "      <td>12,600.000</td>\n",
       "    </tr>\n",
       "    <tr>\n",
       "      <th>prop</th>\n",
       "      <td>1.000</td>\n",
       "      <td>1.000</td>\n",
       "    </tr>\n",
       "  </tbody>\n",
       "</table>\n",
       "</div>"
      ],
      "text/plain": [
       "subset             valid_fake_na  test_fake_na\n",
       "model metric_name                             \n",
       "KNN   MSE                  0.551         0.547\n",
       "      MAE                  0.481         0.482\n",
       "      N               12,600.000    12,600.000\n",
       "      prop                 1.000         1.000"
      ]
     },
     "execution_count": 23,
     "metadata": {},
     "output_type": "execute_result"
    }
   ],
   "source": [
    "metrics_df = models.get_df_from_nested_dict(d_metrics.metrics,\n",
    "                                            column_levels=['model', 'metric_name']).T\n",
    "metrics_df"
   ]
  },
  {
   "cell_type": "markdown",
   "id": "27654ab9",
   "metadata": {
    "papermill": {
     "duration": 0.013223,
     "end_time": "2024-05-31T08:44:46.504070",
     "exception": false,
     "start_time": "2024-05-31T08:44:46.490847",
     "status": "completed"
    },
    "tags": []
   },
   "source": [
    "## Save predictions"
   ]
  },
  {
   "cell_type": "code",
   "execution_count": 24,
   "id": "ce0fb347",
   "metadata": {
    "execution": {
     "iopub.execute_input": "2024-05-31T08:44:46.531599Z",
     "iopub.status.busy": "2024-05-31T08:44:46.531256Z",
     "iopub.status.idle": "2024-05-31T08:44:46.648679Z",
     "shell.execute_reply": "2024-05-31T08:44:46.647875Z"
    },
    "papermill": {
     "duration": 0.133566,
     "end_time": "2024-05-31T08:44:46.650732",
     "exception": false,
     "start_time": "2024-05-31T08:44:46.517166",
     "status": "completed"
    },
    "tags": [
     "hide-input"
    ]
   },
   "outputs": [],
   "source": [
    "# save simulated missing values for both splits\n",
    "val_pred_fake_na.to_csv(args.out_preds / f\"pred_val_{args.model_key}.csv\")\n",
    "test_pred_fake_na.to_csv(args.out_preds / f\"pred_test_{args.model_key}.csv\")"
   ]
  },
  {
   "cell_type": "markdown",
   "id": "954f03e4",
   "metadata": {
    "papermill": {
     "duration": 0.011667,
     "end_time": "2024-05-31T08:44:46.674298",
     "exception": false,
     "start_time": "2024-05-31T08:44:46.662631",
     "status": "completed"
    },
    "tags": []
   },
   "source": [
    "## Config"
   ]
  },
  {
   "cell_type": "code",
   "execution_count": 25,
   "id": "fc43a4e8",
   "metadata": {
    "execution": {
     "iopub.execute_input": "2024-05-31T08:44:46.746231Z",
     "iopub.status.busy": "2024-05-31T08:44:46.745911Z",
     "iopub.status.idle": "2024-05-31T08:44:46.750539Z",
     "shell.execute_reply": "2024-05-31T08:44:46.749868Z"
    },
    "papermill": {
     "duration": 0.068012,
     "end_time": "2024-05-31T08:44:46.754290",
     "exception": false,
     "start_time": "2024-05-31T08:44:46.686278",
     "status": "completed"
    },
    "tags": [
     "hide-input"
    ]
   },
   "outputs": [
    {
     "data": {
      "text/plain": [
       "{}"
      ]
     },
     "execution_count": 25,
     "metadata": {},
     "output_type": "execute_result"
    }
   ],
   "source": [
    "figures  # switch to fnames?"
   ]
  },
  {
   "cell_type": "code",
   "execution_count": 26,
   "id": "d3bbd037",
   "metadata": {
    "execution": {
     "iopub.execute_input": "2024-05-31T08:44:46.781780Z",
     "iopub.status.busy": "2024-05-31T08:44:46.781443Z",
     "iopub.status.idle": "2024-05-31T08:44:46.789711Z",
     "shell.execute_reply": "2024-05-31T08:44:46.789061Z"
    },
    "papermill": {
     "duration": 0.026458,
     "end_time": "2024-05-31T08:44:46.793604",
     "exception": false,
     "start_time": "2024-05-31T08:44:46.767146",
     "status": "completed"
    },
    "tags": [
     "hide-input"
    ]
   },
   "outputs": [
    {
     "data": {
      "text/plain": [
       "{'M': 1421,\n",
       " 'batch_size': 64,\n",
       " 'cuda': True,\n",
       " 'data': Path('runs/alzheimer_study/data'),\n",
       " 'epochs_max': 50,\n",
       " 'file_format': 'csv',\n",
       " 'fn_rawfile_metadata': 'https://raw.githubusercontent.com/RasmussenLab/njab/HEAD/docs/tutorial/data/alzheimer/meta.csv',\n",
       " 'folder_data': '',\n",
       " 'folder_experiment': Path('runs/alzheimer_study'),\n",
       " 'force_train': True,\n",
       " 'meta_cat_col': None,\n",
       " 'meta_date_col': None,\n",
       " 'model': 'KNN',\n",
       " 'model_key': 'KNN',\n",
       " 'n_params': 1,\n",
       " 'neighbors': 3,\n",
       " 'out_figures': Path('runs/alzheimer_study/figures'),\n",
       " 'out_folder': Path('runs/alzheimer_study'),\n",
       " 'out_metrics': Path('runs/alzheimer_study'),\n",
       " 'out_models': Path('runs/alzheimer_study'),\n",
       " 'out_preds': Path('runs/alzheimer_study/preds'),\n",
       " 'sample_idx_position': 0,\n",
       " 'save_pred_real_na': True}"
      ]
     },
     "execution_count": 26,
     "metadata": {},
     "output_type": "execute_result"
    }
   ],
   "source": [
    "args.n_params = 1  # the number of neighbors to consider\n",
    "args.dump(fname=args.out_models / f\"model_config_{args.model_key}.yaml\")\n",
    "args"
   ]
  }
 ],
 "metadata": {
  "jupytext": {
   "formats": "ipynb,py:percent"
  },
  "kernelspec": {
   "display_name": "Python 3",
   "language": "python",
   "name": "python3"
  },
  "language_info": {
   "codemirror_mode": {
    "name": "ipython",
    "version": 3
   },
   "file_extension": ".py",
   "mimetype": "text/x-python",
   "name": "python",
   "nbconvert_exporter": "python",
   "pygments_lexer": "ipython3",
   "version": "3.8.19"
  },
  "papermill": {
   "default_parameters": {},
   "duration": 9.631314,
   "end_time": "2024-05-31T08:44:47.839045",
   "environment_variables": {},
   "exception": null,
   "input_path": "01_1_train_KNN.ipynb",
   "output_path": "runs/alzheimer_study/01_1_train_KNN.ipynb",
   "parameters": {
    "file_format": "csv",
    "fn_rawfile_metadata": "https://raw.githubusercontent.com/RasmussenLab/njab/HEAD/docs/tutorial/data/alzheimer/meta.csv",
    "folder_experiment": "runs/alzheimer_study",
    "model": "KNN",
    "model_key": "KNN",
    "neighbors": 3
   },
   "start_time": "2024-05-31T08:44:38.207731",
   "version": "2.6.0"
  }
 },
 "nbformat": 4,
 "nbformat_minor": 5
}