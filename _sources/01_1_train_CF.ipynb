{
 "cells": [
  {
   "cell_type": "markdown",
   "id": "f0e1208b-9b36-4294-b3fd-910e05a82f2e",
   "metadata": {
    "papermill": {
     "duration": 0.008331,
     "end_time": "2024-05-15T02:21:36.995329",
     "exception": false,
     "start_time": "2024-05-15T02:21:36.986998",
     "status": "completed"
    },
    "tags": []
   },
   "source": [
    "# Collaborative Filtering"
   ]
  },
  {
   "cell_type": "code",
   "execution_count": 1,
   "id": "18b5d571-2956-4112-b22c-43d6c2146b06",
   "metadata": {
    "execution": {
     "iopub.execute_input": "2024-05-15T02:21:37.011597Z",
     "iopub.status.busy": "2024-05-15T02:21:37.010923Z",
     "iopub.status.idle": "2024-05-15T02:21:39.791649Z",
     "shell.execute_reply": "2024-05-15T02:21:39.790878Z"
    },
    "papermill": {
     "duration": 2.790444,
     "end_time": "2024-05-15T02:21:39.793236",
     "exception": false,
     "start_time": "2024-05-15T02:21:37.002792",
     "status": "completed"
    },
    "tags": []
   },
   "outputs": [
    {
     "name": "stdout",
     "output_type": "stream",
     "text": [
      "vaep - INFO     Experiment 03 - Analysis of latent spaces and performance comparisions\n"
     ]
    }
   ],
   "source": [
    "import logging\n",
    "\n",
    "from pprint import pprint\n",
    "\n",
    "import matplotlib.pyplot as plt\n",
    "\n",
    "# from fastai.basics import *\n",
    "# from fastai.callback.all import *\n",
    "# from fastai.torch_basics import *\n",
    "# from fastai.data.all import *\n",
    "\n",
    "from fastai.tabular.all import *\n",
    "from fastai.collab import *\n",
    "\n",
    "from fastai.collab import (EmbeddingDotBias, Learner, MSELossFlat, EarlyStoppingCallback, default_device)\n",
    "\n",
    "import vaep\n",
    "import vaep.model\n",
    "import vaep.models as models\n",
    "from vaep.models import plot_loss, RecorderDump\n",
    "\n",
    "import vaep.nb\n",
    "from vaep import sampling\n",
    "from vaep.io import datasplits\n",
    "\n",
    "from vaep.logging import setup_logger\n",
    "\n",
    "# overwriting Recorder callback with custom plot_loss\n",
    "from fastai import learner\n",
    "learner.Recorder.plot_loss = plot_loss\n",
    "# import fastai.callback.hook # Learner.summary\n",
    "\n",
    "\n",
    "logger = setup_logger(logger=logging.getLogger('vaep'))\n",
    "logger.info(\n",
    "    \"Experiment 03 - Analysis of latent spaces and performance comparisions\")\n",
    "\n",
    "figures = {}  # collection of ax or figures"
   ]
  },
  {
   "cell_type": "markdown",
   "id": "43f062bb-8d2c-4afa-8a81-9e2a328050fe",
   "metadata": {
    "papermill": {
     "duration": 0.006957,
     "end_time": "2024-05-15T02:21:39.807628",
     "exception": false,
     "start_time": "2024-05-15T02:21:39.800671",
     "status": "completed"
    },
    "tags": []
   },
   "source": [
    "Papermill script parameters:"
   ]
  },
  {
   "cell_type": "code",
   "execution_count": 2,
   "id": "85c7d6f9",
   "metadata": {
    "execution": {
     "iopub.execute_input": "2024-05-15T02:21:39.828067Z",
     "iopub.status.busy": "2024-05-15T02:21:39.827004Z",
     "iopub.status.idle": "2024-05-15T02:21:39.831917Z",
     "shell.execute_reply": "2024-05-15T02:21:39.831288Z"
    },
    "papermill": {
     "duration": 0.01752,
     "end_time": "2024-05-15T02:21:39.833520",
     "exception": false,
     "start_time": "2024-05-15T02:21:39.816000",
     "status": "completed"
    },
    "tags": []
   },
   "outputs": [],
   "source": [
    "# catch passed parameters\n",
    "args = None\n",
    "args = dict(globals()).keys()"
   ]
  },
  {
   "cell_type": "code",
   "execution_count": 3,
   "id": "297f14bc-3c37-43fa-8217-f790f0593d78",
   "metadata": {
    "execution": {
     "iopub.execute_input": "2024-05-15T02:21:39.849965Z",
     "iopub.status.busy": "2024-05-15T02:21:39.849239Z",
     "iopub.status.idle": "2024-05-15T02:21:39.854915Z",
     "shell.execute_reply": "2024-05-15T02:21:39.854217Z"
    },
    "papermill": {
     "duration": 0.01545,
     "end_time": "2024-05-15T02:21:39.856288",
     "exception": false,
     "start_time": "2024-05-15T02:21:39.840838",
     "status": "completed"
    },
    "tags": [
     "parameters"
    ]
   },
   "outputs": [],
   "source": [
    "# files and folders\n",
    "# Datasplit folder with data for experiment\n",
    "folder_experiment: str = 'runs/example'\n",
    "folder_data: str = ''  # specify data directory if needed\n",
    "file_format: str = 'csv'  # change default to pickled files\n",
    "# training\n",
    "epochs_max: int = 20  # Maximum number of epochs\n",
    "# early_stopping:bool = True # Wheather to use early stopping or not\n",
    "patience: int = 1  # Patience for early stopping\n",
    "batch_size: int = 32_768  # Batch size for training (and evaluation)\n",
    "cuda: bool = True  # Use the GPU for training?\n",
    "# model\n",
    "# Dimensionality of encoding dimension (latent space of model)\n",
    "latent_dim: int = 10\n",
    "# hidden_layers:str = '128_64' # Underscore separated string of layers, '128 64' for the encoder, reversed for decoder\n",
    "sample_idx_position: int = 0  # position of index which is sample ID\n",
    "model: str = 'CF'  # model name\n",
    "model_key: str = 'CF'  # potentially alternative key for model (grid search)\n",
    "save_pred_real_na: bool = True  # Save all predictions for missing values"
   ]
  },
  {
   "cell_type": "code",
   "execution_count": 4,
   "id": "0be1b504",
   "metadata": {
    "execution": {
     "iopub.execute_input": "2024-05-15T02:21:39.872378Z",
     "iopub.status.busy": "2024-05-15T02:21:39.871634Z",
     "iopub.status.idle": "2024-05-15T02:21:39.876208Z",
     "shell.execute_reply": "2024-05-15T02:21:39.875546Z"
    },
    "papermill": {
     "duration": 0.014372,
     "end_time": "2024-05-15T02:21:39.877651",
     "exception": false,
     "start_time": "2024-05-15T02:21:39.863279",
     "status": "completed"
    },
    "tags": [
     "injected-parameters"
    ]
   },
   "outputs": [],
   "source": [
    "# Parameters\n",
    "model = \"CF\"\n",
    "file_format = \"csv\"\n",
    "latent_dim = 50\n",
    "batch_size = 4096\n",
    "epochs_max = 20\n",
    "sample_idx_position = 0\n",
    "cuda = False\n",
    "save_pred_real_na = True\n",
    "fn_rawfile_metadata = \"data/dev_datasets/HeLa_6070/files_selected_metadata_N50.csv\"\n",
    "folder_experiment = \"runs/dev_dataset_small/proteinGroups_N50\"\n",
    "model_key = \"CF\"\n"
   ]
  },
  {
   "cell_type": "markdown",
   "id": "1da8e04b-2eb2-4ecb-b1d1-2de871cd0a56",
   "metadata": {
    "papermill": {
     "duration": 0.006992,
     "end_time": "2024-05-15T02:21:39.891523",
     "exception": false,
     "start_time": "2024-05-15T02:21:39.884531",
     "status": "completed"
    },
    "tags": []
   },
   "source": [
    "Some argument transformations"
   ]
  },
  {
   "cell_type": "code",
   "execution_count": 5,
   "id": "0746e70f-0259-48d5-90ef-25fe4b59f9ac",
   "metadata": {
    "execution": {
     "iopub.execute_input": "2024-05-15T02:21:39.907772Z",
     "iopub.status.busy": "2024-05-15T02:21:39.906971Z",
     "iopub.status.idle": "2024-05-15T02:21:39.916142Z",
     "shell.execute_reply": "2024-05-15T02:21:39.915476Z"
    },
    "papermill": {
     "duration": 0.018877,
     "end_time": "2024-05-15T02:21:39.917572",
     "exception": false,
     "start_time": "2024-05-15T02:21:39.898695",
     "status": "completed"
    },
    "tags": []
   },
   "outputs": [
    {
     "data": {
      "text/plain": [
       "{'folder_experiment': 'runs/dev_dataset_small/proteinGroups_N50',\n",
       " 'folder_data': '',\n",
       " 'file_format': 'csv',\n",
       " 'epochs_max': 20,\n",
       " 'patience': 1,\n",
       " 'batch_size': 4096,\n",
       " 'cuda': False,\n",
       " 'latent_dim': 50,\n",
       " 'sample_idx_position': 0,\n",
       " 'model': 'CF',\n",
       " 'model_key': 'CF',\n",
       " 'save_pred_real_na': True,\n",
       " 'fn_rawfile_metadata': 'data/dev_datasets/HeLa_6070/files_selected_metadata_N50.csv'}"
      ]
     },
     "execution_count": 5,
     "metadata": {},
     "output_type": "execute_result"
    }
   ],
   "source": [
    "args = vaep.nb.get_params(args, globals=globals())\n",
    "args"
   ]
  },
  {
   "cell_type": "code",
   "execution_count": 6,
   "id": "100bbf80",
   "metadata": {
    "execution": {
     "iopub.execute_input": "2024-05-15T02:21:39.934453Z",
     "iopub.status.busy": "2024-05-15T02:21:39.933801Z",
     "iopub.status.idle": "2024-05-15T02:21:39.940019Z",
     "shell.execute_reply": "2024-05-15T02:21:39.939343Z"
    },
    "lines_to_next_cell": 2,
    "papermill": {
     "duration": 0.01698,
     "end_time": "2024-05-15T02:21:39.942393",
     "exception": false,
     "start_time": "2024-05-15T02:21:39.925413",
     "status": "completed"
    },
    "tags": []
   },
   "outputs": [
    {
     "data": {
      "text/plain": [
       "{'batch_size': 4096,\n",
       " 'cuda': False,\n",
       " 'data': Path('runs/dev_dataset_small/proteinGroups_N50/data'),\n",
       " 'epochs_max': 20,\n",
       " 'file_format': 'csv',\n",
       " 'fn_rawfile_metadata': 'data/dev_datasets/HeLa_6070/files_selected_metadata_N50.csv',\n",
       " 'folder_data': '',\n",
       " 'folder_experiment': Path('runs/dev_dataset_small/proteinGroups_N50'),\n",
       " 'latent_dim': 50,\n",
       " 'model': 'CF',\n",
       " 'model_key': 'CF',\n",
       " 'out_figures': Path('runs/dev_dataset_small/proteinGroups_N50/figures'),\n",
       " 'out_folder': Path('runs/dev_dataset_small/proteinGroups_N50'),\n",
       " 'out_metrics': Path('runs/dev_dataset_small/proteinGroups_N50'),\n",
       " 'out_models': Path('runs/dev_dataset_small/proteinGroups_N50'),\n",
       " 'out_preds': Path('runs/dev_dataset_small/proteinGroups_N50/preds'),\n",
       " 'patience': 1,\n",
       " 'sample_idx_position': 0,\n",
       " 'save_pred_real_na': True}"
      ]
     },
     "execution_count": 6,
     "metadata": {},
     "output_type": "execute_result"
    }
   ],
   "source": [
    "args = vaep.nb.args_from_dict(args)\n",
    "\n",
    "# # Currently not needed -> DotProduct used, not a FNN\n",
    "# if isinstance(args.hidden_layers, str):\n",
    "#     args.overwrite_entry(\"hidden_layers\", [int(x) for x in args.hidden_layers.split('_')])\n",
    "# else:\n",
    "#     raise ValueError(f\"hidden_layers is of unknown type {type(args.hidden_layers)}\")\n",
    "args"
   ]
  },
  {
   "cell_type": "markdown",
   "id": "3d59f6d8-9cb1-461a-8d62-2ab4458cab60",
   "metadata": {
    "papermill": {
     "duration": 0.008752,
     "end_time": "2024-05-15T02:21:39.960237",
     "exception": false,
     "start_time": "2024-05-15T02:21:39.951485",
     "status": "completed"
    },
    "tags": []
   },
   "source": [
    "Some naming conventions"
   ]
  },
  {
   "cell_type": "code",
   "execution_count": 7,
   "id": "a19fe098-a029-4f71-b7fb-e652a9c16ac7",
   "metadata": {
    "execution": {
     "iopub.execute_input": "2024-05-15T02:21:39.980081Z",
     "iopub.status.busy": "2024-05-15T02:21:39.979262Z",
     "iopub.status.idle": "2024-05-15T02:21:39.983238Z",
     "shell.execute_reply": "2024-05-15T02:21:39.982555Z"
    },
    "lines_to_next_cell": 2,
    "papermill": {
     "duration": 0.016463,
     "end_time": "2024-05-15T02:21:39.985532",
     "exception": false,
     "start_time": "2024-05-15T02:21:39.969069",
     "status": "completed"
    },
    "tags": []
   },
   "outputs": [],
   "source": [
    "TEMPLATE_MODEL_PARAMS = 'model_params_{}.json'\n",
    "\n",
    "if not args.cuda:\n",
    "    default_device(use=False)  # set to cpu"
   ]
  },
  {
   "cell_type": "markdown",
   "id": "976cc005-0c5f-4e88-9656-c549e613ca68",
   "metadata": {
    "papermill": {
     "duration": 0.00756,
     "end_time": "2024-05-15T02:21:40.003791",
     "exception": false,
     "start_time": "2024-05-15T02:21:39.996231",
     "status": "completed"
    },
    "tags": []
   },
   "source": [
    "## Load data in long format"
   ]
  },
  {
   "cell_type": "code",
   "execution_count": 8,
   "id": "6d9cc7bd-6b6f-40b9-8db7-c8228e4b03e3",
   "metadata": {
    "execution": {
     "iopub.execute_input": "2024-05-15T02:21:40.021110Z",
     "iopub.status.busy": "2024-05-15T02:21:40.020430Z",
     "iopub.status.idle": "2024-05-15T02:21:40.226870Z",
     "shell.execute_reply": "2024-05-15T02:21:40.226140Z"
    },
    "papermill": {
     "duration": 0.21702,
     "end_time": "2024-05-15T02:21:40.228430",
     "exception": false,
     "start_time": "2024-05-15T02:21:40.011410",
     "status": "completed"
    },
    "tags": []
   },
   "outputs": [
    {
     "name": "stdout",
     "output_type": "stream",
     "text": [
      "vaep.io.datasplits - INFO     Loaded 'train_X' from file: runs/dev_dataset_small/proteinGroups_N50/data/train_X.csv\n"
     ]
    },
    {
     "name": "stdout",
     "output_type": "stream",
     "text": [
      "vaep.io.datasplits - INFO     Loaded 'val_y' from file: runs/dev_dataset_small/proteinGroups_N50/data/val_y.csv\n"
     ]
    },
    {
     "name": "stdout",
     "output_type": "stream",
     "text": [
      "vaep.io.datasplits - INFO     Loaded 'test_y' from file: runs/dev_dataset_small/proteinGroups_N50/data/test_y.csv\n"
     ]
    }
   ],
   "source": [
    "data = datasplits.DataSplits.from_folder(\n",
    "    args.data, file_format=args.file_format)"
   ]
  },
  {
   "cell_type": "markdown",
   "id": "3ca12fc2-bf34-42ac-99b2-a78ff9fe7722",
   "metadata": {
    "papermill": {
     "duration": 0.007796,
     "end_time": "2024-05-15T02:21:40.244656",
     "exception": false,
     "start_time": "2024-05-15T02:21:40.236860",
     "status": "completed"
    },
    "tags": []
   },
   "source": [
    "data is loaded in long format"
   ]
  },
  {
   "cell_type": "code",
   "execution_count": 9,
   "id": "02bb6bf5-0eb1-4c73-9723-414b14eaf7c8",
   "metadata": {
    "execution": {
     "iopub.execute_input": "2024-05-15T02:21:40.262244Z",
     "iopub.status.busy": "2024-05-15T02:21:40.261463Z",
     "iopub.status.idle": "2024-05-15T02:21:40.269920Z",
     "shell.execute_reply": "2024-05-15T02:21:40.269239Z"
    },
    "papermill": {
     "duration": 0.018917,
     "end_time": "2024-05-15T02:21:40.271434",
     "exception": false,
     "start_time": "2024-05-15T02:21:40.252517",
     "status": "completed"
    },
    "tags": []
   },
   "outputs": [
    {
     "data": {
      "text/plain": [
       "Sample ID                                       Gene Names\n",
       "2019_12_18_14_35_Q-Exactive-HF-X-Orbitrap_6070  AAAS         28.349\n",
       "                                                AACS         26.133\n",
       "                                                AAMP         26.777\n",
       "                                                AAR2         27.248\n",
       "                                                AARS         32.195\n",
       "                                                              ...  \n",
       "2020_06_02_09_41_Q-Exactive-HF-X-Orbitrap_6070  ZNHIT2       26.946\n",
       "                                                ZRANB2       28.098\n",
       "                                                ZW10         29.425\n",
       "                                                ZWINT        24.794\n",
       "                                                ZYX          29.847\n",
       "Name: intensity, Length: 167898, dtype: float64"
      ]
     },
     "execution_count": 9,
     "metadata": {},
     "output_type": "execute_result"
    }
   ],
   "source": [
    "data.train_X"
   ]
  },
  {
   "cell_type": "code",
   "execution_count": 10,
   "id": "f3311709",
   "metadata": {
    "execution": {
     "iopub.execute_input": "2024-05-15T02:21:40.289735Z",
     "iopub.status.busy": "2024-05-15T02:21:40.288996Z",
     "iopub.status.idle": "2024-05-15T02:21:40.292437Z",
     "shell.execute_reply": "2024-05-15T02:21:40.291771Z"
    },
    "papermill": {
     "duration": 0.014272,
     "end_time": "2024-05-15T02:21:40.293927",
     "exception": false,
     "start_time": "2024-05-15T02:21:40.279655",
     "status": "completed"
    },
    "tags": []
   },
   "outputs": [],
   "source": [
    "# ! add check that specified data is available\n",
    "# silent error in fastai if e.g. target column is not available"
   ]
  },
  {
   "cell_type": "markdown",
   "id": "6045414b",
   "metadata": {
    "papermill": {
     "duration": 0.007762,
     "end_time": "2024-05-15T02:21:40.310193",
     "exception": false,
     "start_time": "2024-05-15T02:21:40.302431",
     "status": "completed"
    },
    "tags": []
   },
   "source": [
    "Infer index names from long format"
   ]
  },
  {
   "cell_type": "code",
   "execution_count": 11,
   "id": "44958473",
   "metadata": {
    "execution": {
     "iopub.execute_input": "2024-05-15T02:21:40.334476Z",
     "iopub.status.busy": "2024-05-15T02:21:40.333975Z",
     "iopub.status.idle": "2024-05-15T02:21:40.340031Z",
     "shell.execute_reply": "2024-05-15T02:21:40.339362Z"
    },
    "lines_to_next_cell": 2,
    "papermill": {
     "duration": 0.018547,
     "end_time": "2024-05-15T02:21:40.341585",
     "exception": false,
     "start_time": "2024-05-15T02:21:40.323038",
     "status": "completed"
    },
    "tags": []
   },
   "outputs": [
    {
     "name": "stdout",
     "output_type": "stream",
     "text": [
      "vaep - INFO     sample_id = 'Sample ID', single feature: index_column = 'Gene Names'\n"
     ]
    }
   ],
   "source": [
    "index_columns = list(data.train_X.index.names)\n",
    "sample_id = index_columns.pop(args.sample_idx_position)\n",
    "if len(index_columns) == 1:\n",
    "    index_column = index_columns.pop()\n",
    "    index_columns = None\n",
    "    logger.info(f\"{sample_id = }, single feature: {index_column = }\")\n",
    "else:\n",
    "    logger.info(f\"{sample_id = }, multiple features: {index_columns = }\")\n",
    "\n",
    "if not index_columns:\n",
    "    index_columns = [sample_id, index_column]\n",
    "else:\n",
    "    raise NotImplementedError(\n",
    "        \"More than one feature: Needs to be implemented. see above logging output.\")"
   ]
  },
  {
   "cell_type": "markdown",
   "id": "a94ae06d-64dd-4f4f-abde-8485a8c8458e",
   "metadata": {
    "papermill": {
     "duration": 0.008289,
     "end_time": "2024-05-15T02:21:40.359528",
     "exception": false,
     "start_time": "2024-05-15T02:21:40.351239",
     "status": "completed"
    },
    "tags": []
   },
   "source": [
    "### Use some simulated missing for evaluation"
   ]
  },
  {
   "cell_type": "markdown",
   "id": "760dbbf8",
   "metadata": {
    "papermill": {
     "duration": 0.008056,
     "end_time": "2024-05-15T02:21:40.376097",
     "exception": false,
     "start_time": "2024-05-15T02:21:40.368041",
     "status": "completed"
    },
    "tags": []
   },
   "source": [
    "The validation simulated NA is used to by all models to evaluate training performance."
   ]
  },
  {
   "cell_type": "code",
   "execution_count": 12,
   "id": "b5b945aa-9b4e-4487-8b09-dca289e64d9d",
   "metadata": {
    "execution": {
     "iopub.execute_input": "2024-05-15T02:21:40.393985Z",
     "iopub.status.busy": "2024-05-15T02:21:40.393149Z",
     "iopub.status.idle": "2024-05-15T02:21:40.406555Z",
     "shell.execute_reply": "2024-05-15T02:21:40.405802Z"
    },
    "papermill": {
     "duration": 0.023932,
     "end_time": "2024-05-15T02:21:40.407933",
     "exception": false,
     "start_time": "2024-05-15T02:21:40.384001",
     "status": "completed"
    },
    "tags": []
   },
   "outputs": [
    {
     "data": {
      "text/html": [
       "<div>\n",
       "<style scoped>\n",
       "    .dataframe tbody tr th:only-of-type {\n",
       "        vertical-align: middle;\n",
       "    }\n",
       "\n",
       "    .dataframe tbody tr th {\n",
       "        vertical-align: top;\n",
       "    }\n",
       "\n",
       "    .dataframe thead th {\n",
       "        text-align: right;\n",
       "    }\n",
       "</style>\n",
       "<table border=\"1\" class=\"dataframe\">\n",
       "  <thead>\n",
       "    <tr style=\"text-align: right;\">\n",
       "      <th></th>\n",
       "      <th></th>\n",
       "      <th>observed</th>\n",
       "    </tr>\n",
       "    <tr>\n",
       "      <th>Sample ID</th>\n",
       "      <th>Gene Names</th>\n",
       "      <th></th>\n",
       "    </tr>\n",
       "  </thead>\n",
       "  <tbody>\n",
       "    <tr>\n",
       "      <th>2020_01_15_13_56_Q-Exactive-HF-X-Orbitrap_6070</th>\n",
       "      <th>SEH1L</th>\n",
       "      <td>27.180</td>\n",
       "    </tr>\n",
       "    <tr>\n",
       "      <th>2020_01_04_10_03_Q-Exactive-HF-X-Orbitrap_6070</th>\n",
       "      <th>SLC9A3R1</th>\n",
       "      <td>30.259</td>\n",
       "    </tr>\n",
       "    <tr>\n",
       "      <th>2020_05_20_15_35_Q-Exactive-HF-X-Orbitrap_6070</th>\n",
       "      <th>KYNU</th>\n",
       "      <td>30.629</td>\n",
       "    </tr>\n",
       "    <tr>\n",
       "      <th>2020_01_03_11_17_Q-Exactive-HF-X-Orbitrap_6070</th>\n",
       "      <th>ADD3</th>\n",
       "      <td>24.541</td>\n",
       "    </tr>\n",
       "    <tr>\n",
       "      <th>2020_02_05_20_55_Q-Exactive-HF-X-Orbitrap_6070</th>\n",
       "      <th>CALM2;CALM1</th>\n",
       "      <td>33.934</td>\n",
       "    </tr>\n",
       "    <tr>\n",
       "      <th>...</th>\n",
       "      <th>...</th>\n",
       "      <td>...</td>\n",
       "    </tr>\n",
       "    <tr>\n",
       "      <th>2020_05_20_15_35_Q-Exactive-HF-X-Orbitrap_6070</th>\n",
       "      <th>PPP2R4;DKFZp781M17165</th>\n",
       "      <td>28.717</td>\n",
       "    </tr>\n",
       "    <tr>\n",
       "      <th>2020_03_11_11_25_Q-Exactive-HF-X-Orbitrap_6070</th>\n",
       "      <th>MED23</th>\n",
       "      <td>24.966</td>\n",
       "    </tr>\n",
       "    <tr>\n",
       "      <th>2020_03_07_18_15_Q-Exactive-HF-X-Orbitrap_6070</th>\n",
       "      <th>RBMXL1</th>\n",
       "      <td>26.654</td>\n",
       "    </tr>\n",
       "    <tr>\n",
       "      <th>2020_01_03_16_58_Q-Exactive-HF-X-Orbitrap_6070</th>\n",
       "      <th>SMARCA1</th>\n",
       "      <td>27.917</td>\n",
       "    </tr>\n",
       "    <tr>\n",
       "      <th>2020_05_20_12_33_Q-Exactive-HF-X-Orbitrap_6070</th>\n",
       "      <th>RGPD3;RGPD4</th>\n",
       "      <td>24.289</td>\n",
       "    </tr>\n",
       "  </tbody>\n",
       "</table>\n",
       "<p>9327 rows × 1 columns</p>\n",
       "</div>"
      ],
      "text/plain": [
       "                                                                      observed\n",
       "Sample ID                                      Gene Names                     \n",
       "2020_01_15_13_56_Q-Exactive-HF-X-Orbitrap_6070 SEH1L                    27.180\n",
       "2020_01_04_10_03_Q-Exactive-HF-X-Orbitrap_6070 SLC9A3R1                 30.259\n",
       "2020_05_20_15_35_Q-Exactive-HF-X-Orbitrap_6070 KYNU                     30.629\n",
       "2020_01_03_11_17_Q-Exactive-HF-X-Orbitrap_6070 ADD3                     24.541\n",
       "2020_02_05_20_55_Q-Exactive-HF-X-Orbitrap_6070 CALM2;CALM1              33.934\n",
       "...                                                                        ...\n",
       "2020_05_20_15_35_Q-Exactive-HF-X-Orbitrap_6070 PPP2R4;DKFZp781M17165    28.717\n",
       "2020_03_11_11_25_Q-Exactive-HF-X-Orbitrap_6070 MED23                    24.966\n",
       "2020_03_07_18_15_Q-Exactive-HF-X-Orbitrap_6070 RBMXL1                   26.654\n",
       "2020_01_03_16_58_Q-Exactive-HF-X-Orbitrap_6070 SMARCA1                  27.917\n",
       "2020_05_20_12_33_Q-Exactive-HF-X-Orbitrap_6070 RGPD3;RGPD4              24.289\n",
       "\n",
       "[9327 rows x 1 columns]"
      ]
     },
     "execution_count": 12,
     "metadata": {},
     "output_type": "execute_result"
    }
   ],
   "source": [
    "val_pred_simulated_na = data.val_y.to_frame(name='observed')\n",
    "val_pred_simulated_na"
   ]
  },
  {
   "cell_type": "code",
   "execution_count": 13,
   "id": "98558b10",
   "metadata": {
    "execution": {
     "iopub.execute_input": "2024-05-15T02:21:40.426076Z",
     "iopub.status.busy": "2024-05-15T02:21:40.425748Z",
     "iopub.status.idle": "2024-05-15T02:21:40.437420Z",
     "shell.execute_reply": "2024-05-15T02:21:40.436733Z"
    },
    "lines_to_next_cell": 2,
    "papermill": {
     "duration": 0.022525,
     "end_time": "2024-05-15T02:21:40.438899",
     "exception": false,
     "start_time": "2024-05-15T02:21:40.416374",
     "status": "completed"
    },
    "tags": []
   },
   "outputs": [
    {
     "data": {
      "text/html": [
       "<div>\n",
       "<style scoped>\n",
       "    .dataframe tbody tr th:only-of-type {\n",
       "        vertical-align: middle;\n",
       "    }\n",
       "\n",
       "    .dataframe tbody tr th {\n",
       "        vertical-align: top;\n",
       "    }\n",
       "\n",
       "    .dataframe thead th {\n",
       "        text-align: right;\n",
       "    }\n",
       "</style>\n",
       "<table border=\"1\" class=\"dataframe\">\n",
       "  <thead>\n",
       "    <tr style=\"text-align: right;\">\n",
       "      <th></th>\n",
       "      <th>observed</th>\n",
       "    </tr>\n",
       "  </thead>\n",
       "  <tbody>\n",
       "    <tr>\n",
       "      <th>count</th>\n",
       "      <td>9,327.000</td>\n",
       "    </tr>\n",
       "    <tr>\n",
       "      <th>mean</th>\n",
       "      <td>27.230</td>\n",
       "    </tr>\n",
       "    <tr>\n",
       "      <th>std</th>\n",
       "      <td>2.888</td>\n",
       "    </tr>\n",
       "    <tr>\n",
       "      <th>min</th>\n",
       "      <td>19.974</td>\n",
       "    </tr>\n",
       "    <tr>\n",
       "      <th>25%</th>\n",
       "      <td>24.905</td>\n",
       "    </tr>\n",
       "    <tr>\n",
       "      <th>50%</th>\n",
       "      <td>26.929</td>\n",
       "    </tr>\n",
       "    <tr>\n",
       "      <th>75%</th>\n",
       "      <td>29.174</td>\n",
       "    </tr>\n",
       "    <tr>\n",
       "      <th>max</th>\n",
       "      <td>37.689</td>\n",
       "    </tr>\n",
       "  </tbody>\n",
       "</table>\n",
       "</div>"
      ],
      "text/plain": [
       "       observed\n",
       "count 9,327.000\n",
       "mean     27.230\n",
       "std       2.888\n",
       "min      19.974\n",
       "25%      24.905\n",
       "50%      26.929\n",
       "75%      29.174\n",
       "max      37.689"
      ]
     },
     "execution_count": 13,
     "metadata": {},
     "output_type": "execute_result"
    }
   ],
   "source": [
    "test_pred_simulated_na = data.test_y.to_frame(name='observed')\n",
    "test_pred_simulated_na.describe()"
   ]
  },
  {
   "cell_type": "markdown",
   "id": "d00ea8e9-7f48-4f72-b013-7010666aa1a2",
   "metadata": {
    "papermill": {
     "duration": 0.010957,
     "end_time": "2024-05-15T02:21:40.458681",
     "exception": false,
     "start_time": "2024-05-15T02:21:40.447724",
     "status": "completed"
    },
    "tags": []
   },
   "source": [
    "## Collaborative Filtering\n",
    "\n",
    "- save custom collab batch size (increase AE batch size by a factor), could be setup separately.\n",
    "- the test data is used to evaluate the performance after training"
   ]
  },
  {
   "cell_type": "code",
   "execution_count": 14,
   "id": "3ee54305-266a-479a-b677-f151ddde250a",
   "metadata": {
    "execution": {
     "iopub.execute_input": "2024-05-15T02:21:40.481923Z",
     "iopub.status.busy": "2024-05-15T02:21:40.481116Z",
     "iopub.status.idle": "2024-05-15T02:21:40.874164Z",
     "shell.execute_reply": "2024-05-15T02:21:40.873382Z"
    },
    "papermill": {
     "duration": 0.406257,
     "end_time": "2024-05-15T02:21:40.875939",
     "exception": false,
     "start_time": "2024-05-15T02:21:40.469682",
     "status": "completed"
    },
    "tags": []
   },
   "outputs": [],
   "source": [
    "# larger mini-batches speed up training\n",
    "ana_collab = models.collab.CollabAnalysis(\n",
    "    datasplits=data,\n",
    "    sample_column=sample_id,\n",
    "    item_column=index_column,  # not generic\n",
    "    target_column='intensity',\n",
    "    model_kwargs=dict(n_factors=args.latent_dim,\n",
    "                      y_range=(int(data.train_X.min()),\n",
    "                               int(data.train_X.max()) + 1)\n",
    "                      ),\n",
    "    batch_size=args.batch_size)"
   ]
  },
  {
   "cell_type": "code",
   "execution_count": 15,
   "id": "12ffa243-151e-4220-a1d5-247f8aba3429",
   "metadata": {
    "execution": {
     "iopub.execute_input": "2024-05-15T02:21:40.894836Z",
     "iopub.status.busy": "2024-05-15T02:21:40.894070Z",
     "iopub.status.idle": "2024-05-15T02:21:40.898097Z",
     "shell.execute_reply": "2024-05-15T02:21:40.897533Z"
    },
    "lines_to_next_cell": 2,
    "papermill": {
     "duration": 0.01535,
     "end_time": "2024-05-15T02:21:40.899729",
     "exception": false,
     "start_time": "2024-05-15T02:21:40.884379",
     "status": "completed"
    },
    "tags": []
   },
   "outputs": [
    {
     "name": "stdout",
     "output_type": "stream",
     "text": [
      "Args:\n",
      "{'n_factors': 50, 'y_range': (20, 40)}\n"
     ]
    }
   ],
   "source": [
    "print(\"Args:\")\n",
    "pprint(ana_collab.model_kwargs)"
   ]
  },
  {
   "cell_type": "code",
   "execution_count": 16,
   "id": "4a02e061-6789-4f3d-8031-a40879c496c8",
   "metadata": {
    "execution": {
     "iopub.execute_input": "2024-05-15T02:21:40.921822Z",
     "iopub.status.busy": "2024-05-15T02:21:40.921434Z",
     "iopub.status.idle": "2024-05-15T02:21:40.932081Z",
     "shell.execute_reply": "2024-05-15T02:21:40.931538Z"
    },
    "papermill": {
     "duration": 0.023268,
     "end_time": "2024-05-15T02:21:40.933514",
     "exception": false,
     "start_time": "2024-05-15T02:21:40.910246",
     "status": "completed"
    },
    "tags": []
   },
   "outputs": [],
   "source": [
    "ana_collab.model = EmbeddingDotBias.from_classes(\n",
    "    classes=ana_collab.dls.classes,\n",
    "    **ana_collab.model_kwargs)\n",
    "\n",
    "args.n_params = models.calc_net_weight_count(ana_collab.model)\n",
    "ana_collab.params['n_parameters'] = args.n_params\n",
    "ana_collab.learn = Learner(dls=ana_collab.dls, model=ana_collab.model, loss_func=MSELossFlat(),\n",
    "                           cbs=EarlyStoppingCallback(patience=args.patience),\n",
    "                           model_dir=args.out_models)\n",
    "if args.cuda:\n",
    "    ana_collab.learn.model = ana_collab.learn.model.cuda()\n",
    "else:\n",
    "    # try to set explicitly cpu in case not cuda\n",
    "    # MPS logic might not work properly in fastai yet https://github.com/fastai/fastai/pull/3858\n",
    "    ana_collab.learn.model = ana_collab.learn.model.cpu()\n",
    "\n",
    "# learn.summary() # see comment at DAE"
   ]
  },
  {
   "cell_type": "markdown",
   "id": "f82a7346-0b44-44a4-b995-d655e05656f8",
   "metadata": {
    "papermill": {
     "duration": 0.010311,
     "end_time": "2024-05-15T02:21:40.953820",
     "exception": false,
     "start_time": "2024-05-15T02:21:40.943509",
     "status": "completed"
    },
    "tags": []
   },
   "source": [
    "### Training"
   ]
  },
  {
   "cell_type": "code",
   "execution_count": 17,
   "id": "8317c9e1-d128-4ab4-8d60-775cb85ef535",
   "metadata": {
    "execution": {
     "iopub.execute_input": "2024-05-15T02:21:40.976581Z",
     "iopub.status.busy": "2024-05-15T02:21:40.976255Z",
     "iopub.status.idle": "2024-05-15T02:21:50.941931Z",
     "shell.execute_reply": "2024-05-15T02:21:50.941186Z"
    },
    "papermill": {
     "duration": 9.979355,
     "end_time": "2024-05-15T02:21:50.943644",
     "exception": false,
     "start_time": "2024-05-15T02:21:40.964289",
     "status": "completed"
    },
    "tags": []
   },
   "outputs": [
    {
     "data": {
      "text/html": [
       "\n",
       "<style>\n",
       "    /* Turns off some styling */\n",
       "    progress {\n",
       "        /* gets rid of default border in Firefox and Opera. */\n",
       "        border: none;\n",
       "        /* Needs to be in here for Safari polyfill so background images work as expected. */\n",
       "        background-size: auto;\n",
       "    }\n",
       "    progress:not([value]), progress:not([value])::-webkit-progress-bar {\n",
       "        background: repeating-linear-gradient(45deg, #7e7e7e, #7e7e7e 10px, #5c5c5c 10px, #5c5c5c 20px);\n",
       "    }\n",
       "    .progress-bar-interrupted, .progress-bar-interrupted::-webkit-progress-bar {\n",
       "        background: #F44336;\n",
       "    }\n",
       "</style>\n"
      ],
      "text/plain": [
       "<IPython.core.display.HTML object>"
      ]
     },
     "metadata": {},
     "output_type": "display_data"
    },
    {
     "data": {
      "text/html": [],
      "text/plain": [
       "<IPython.core.display.HTML object>"
      ]
     },
     "metadata": {},
     "output_type": "display_data"
    },
    {
     "name": "stdout",
     "output_type": "stream",
     "text": [
      "suggested_lr.valley = 0.00525\n"
     ]
    },
    {
     "data": {
      "text/html": [
       "\n",
       "<style>\n",
       "    /* Turns off some styling */\n",
       "    progress {\n",
       "        /* gets rid of default border in Firefox and Opera. */\n",
       "        border: none;\n",
       "        /* Needs to be in here for Safari polyfill so background images work as expected. */\n",
       "        background-size: auto;\n",
       "    }\n",
       "    progress:not([value]), progress:not([value])::-webkit-progress-bar {\n",
       "        background: repeating-linear-gradient(45deg, #7e7e7e, #7e7e7e 10px, #5c5c5c 10px, #5c5c5c 20px);\n",
       "    }\n",
       "    .progress-bar-interrupted, .progress-bar-interrupted::-webkit-progress-bar {\n",
       "        background: #F44336;\n",
       "    }\n",
       "</style>\n"
      ],
      "text/plain": [
       "<IPython.core.display.HTML object>"
      ]
     },
     "metadata": {},
     "output_type": "display_data"
    },
    {
     "data": {
      "text/html": [
       "<table border=\"1\" class=\"dataframe\">\n",
       "  <thead>\n",
       "    <tr style=\"text-align: left;\">\n",
       "      <th>epoch</th>\n",
       "      <th>train_loss</th>\n",
       "      <th>valid_loss</th>\n",
       "      <th>time</th>\n",
       "    </tr>\n",
       "  </thead>\n",
       "  <tbody>\n",
       "    <tr>\n",
       "      <td>0</td>\n",
       "      <td>9.527116</td>\n",
       "      <td>15.025584</td>\n",
       "      <td>00:00</td>\n",
       "    </tr>\n",
       "    <tr>\n",
       "      <td>1</td>\n",
       "      <td>8.484040</td>\n",
       "      <td>10.414112</td>\n",
       "      <td>00:00</td>\n",
       "    </tr>\n",
       "    <tr>\n",
       "      <td>2</td>\n",
       "      <td>4.829356</td>\n",
       "      <td>1.724917</td>\n",
       "      <td>00:00</td>\n",
       "    </tr>\n",
       "    <tr>\n",
       "      <td>3</td>\n",
       "      <td>2.581649</td>\n",
       "      <td>1.177155</td>\n",
       "      <td>00:00</td>\n",
       "    </tr>\n",
       "    <tr>\n",
       "      <td>4</td>\n",
       "      <td>1.505959</td>\n",
       "      <td>0.951434</td>\n",
       "      <td>00:00</td>\n",
       "    </tr>\n",
       "    <tr>\n",
       "      <td>5</td>\n",
       "      <td>0.938128</td>\n",
       "      <td>0.802869</td>\n",
       "      <td>00:00</td>\n",
       "    </tr>\n",
       "    <tr>\n",
       "      <td>6</td>\n",
       "      <td>0.660279</td>\n",
       "      <td>0.775781</td>\n",
       "      <td>00:00</td>\n",
       "    </tr>\n",
       "    <tr>\n",
       "      <td>7</td>\n",
       "      <td>0.522505</td>\n",
       "      <td>0.761259</td>\n",
       "      <td>00:00</td>\n",
       "    </tr>\n",
       "    <tr>\n",
       "      <td>8</td>\n",
       "      <td>0.430673</td>\n",
       "      <td>0.759991</td>\n",
       "      <td>00:00</td>\n",
       "    </tr>\n",
       "    <tr>\n",
       "      <td>9</td>\n",
       "      <td>0.366273</td>\n",
       "      <td>0.742977</td>\n",
       "      <td>00:00</td>\n",
       "    </tr>\n",
       "    <tr>\n",
       "      <td>10</td>\n",
       "      <td>0.311723</td>\n",
       "      <td>0.752097</td>\n",
       "      <td>00:00</td>\n",
       "    </tr>\n",
       "  </tbody>\n",
       "</table>"
      ],
      "text/plain": [
       "<IPython.core.display.HTML object>"
      ]
     },
     "metadata": {},
     "output_type": "display_data"
    },
    {
     "name": "stdout",
     "output_type": "stream",
     "text": [
      "No improvement since epoch 9: early stopping\n"
     ]
    },
    {
     "name": "stdout",
     "output_type": "stream",
     "text": [
      "vaep.plotting - INFO     Saved Figures to runs/dev_dataset_small/proteinGroups_N50/figures/collab_training\n"
     ]
    },
    {
     "data": {
      "image/png": "[encoded data removed]",
      "text/plain": [
       "<Figure size 2352x1029 with 1 Axes>"
      ]
     },
     "metadata": {},
     "output_type": "display_data"
    },
    {
     "data": {
      "image/png": "[encoded data removed]",
      "text/plain": [
       "<Figure size 2205x1176 with 1 Axes>"
      ]
     },
     "metadata": {},
     "output_type": "display_data"
    }
   ],
   "source": [
    "# papermill_description=train_collab\n",
    "suggested_lr = ana_collab.learn.lr_find()\n",
    "print(f\"{suggested_lr.valley = :.5f}\")\n",
    "ana_collab.learn.fit_one_cycle(args.epochs_max, lr_max=suggested_lr.valley)\n",
    "args.epoch_trained = ana_collab.learn.epoch + 1\n",
    "# ana_collab.learn.fit_one_cycle(args.epochs_max, lr_max=1e-3)\n",
    "ana_collab.model_kwargs['suggested_inital_lr'] = suggested_lr.valley\n",
    "ana_collab.learn.save('collab_model')\n",
    "fig, ax = plt.subplots(figsize=(15, 8))\n",
    "ax.set_title('CF loss: Reconstruction loss')\n",
    "ana_collab.learn.recorder.plot_loss(skip_start=5, ax=ax)\n",
    "recorder_dump = RecorderDump(\n",
    "    recorder=ana_collab.learn.recorder, name='CF')\n",
    "recorder_dump.save(args.out_figures)\n",
    "del recorder_dump\n",
    "vaep.savefig(fig, name='collab_training',\n",
    "             folder=args.out_figures)\n",
    "ana_collab.model_kwargs['batch_size'] = ana_collab.batch_size\n",
    "vaep.io.dump_json(ana_collab.model_kwargs, args.out_models /\n",
    "                  TEMPLATE_MODEL_PARAMS.format('CF'))"
   ]
  },
  {
   "cell_type": "markdown",
   "id": "e979b7f0-a673-4d3d-9d53-6ac02618eaed",
   "metadata": {
    "papermill": {
     "duration": 0.013079,
     "end_time": "2024-05-15T02:21:50.969253",
     "exception": false,
     "start_time": "2024-05-15T02:21:50.956174",
     "status": "completed"
    },
    "tags": []
   },
   "source": [
    "### Predictions"
   ]
  },
  {
   "cell_type": "markdown",
   "id": "6ee5b225-d50a-4189-9995-ad99c4d47a45",
   "metadata": {
    "papermill": {
     "duration": 0.012186,
     "end_time": "2024-05-15T02:21:50.993777",
     "exception": false,
     "start_time": "2024-05-15T02:21:50.981591",
     "status": "completed"
    },
    "tags": []
   },
   "source": [
    "Compare simulated_na data predictions to original values"
   ]
  },
  {
   "cell_type": "code",
   "execution_count": 18,
   "id": "bb76e6c5-e135-41c4-95e8-a56c3764c731",
   "metadata": {
    "execution": {
     "iopub.execute_input": "2024-05-15T02:21:51.021176Z",
     "iopub.status.busy": "2024-05-15T02:21:51.020581Z",
     "iopub.status.idle": "2024-05-15T02:21:51.077592Z",
     "shell.execute_reply": "2024-05-15T02:21:51.076855Z"
    },
    "lines_to_next_cell": 2,
    "papermill": {
     "duration": 0.07225,
     "end_time": "2024-05-15T02:21:51.079116",
     "exception": false,
     "start_time": "2024-05-15T02:21:51.006866",
     "status": "completed"
    },
    "tags": []
   },
   "outputs": [
    {
     "data": {
      "text/html": [
       "\n",
       "<style>\n",
       "    /* Turns off some styling */\n",
       "    progress {\n",
       "        /* gets rid of default border in Firefox and Opera. */\n",
       "        border: none;\n",
       "        /* Needs to be in here for Safari polyfill so background images work as expected. */\n",
       "        background-size: auto;\n",
       "    }\n",
       "    progress:not([value]), progress:not([value])::-webkit-progress-bar {\n",
       "        background: repeating-linear-gradient(45deg, #7e7e7e, #7e7e7e 10px, #5c5c5c 10px, #5c5c5c 20px);\n",
       "    }\n",
       "    .progress-bar-interrupted, .progress-bar-interrupted::-webkit-progress-bar {\n",
       "        background: #F44336;\n",
       "    }\n",
       "</style>\n"
      ],
      "text/plain": [
       "<IPython.core.display.HTML object>"
      ]
     },
     "metadata": {},
     "output_type": "display_data"
    },
    {
     "data": {
      "text/html": [],
      "text/plain": [
       "<IPython.core.display.HTML object>"
      ]
     },
     "metadata": {},
     "output_type": "display_data"
    },
    {
     "data": {
      "text/html": [
       "<div>\n",
       "<style scoped>\n",
       "    .dataframe tbody tr th:only-of-type {\n",
       "        vertical-align: middle;\n",
       "    }\n",
       "\n",
       "    .dataframe tbody tr th {\n",
       "        vertical-align: top;\n",
       "    }\n",
       "\n",
       "    .dataframe thead th {\n",
       "        text-align: right;\n",
       "    }\n",
       "</style>\n",
       "<table border=\"1\" class=\"dataframe\">\n",
       "  <thead>\n",
       "    <tr style=\"text-align: right;\">\n",
       "      <th></th>\n",
       "      <th></th>\n",
       "      <th>observed</th>\n",
       "      <th>CF</th>\n",
       "    </tr>\n",
       "    <tr>\n",
       "      <th>Sample ID</th>\n",
       "      <th>Gene Names</th>\n",
       "      <th></th>\n",
       "      <th></th>\n",
       "    </tr>\n",
       "  </thead>\n",
       "  <tbody>\n",
       "    <tr>\n",
       "      <th>2020_01_15_13_56_Q-Exactive-HF-X-Orbitrap_6070</th>\n",
       "      <th>SEH1L</th>\n",
       "      <td>27.180</td>\n",
       "      <td>26.513</td>\n",
       "    </tr>\n",
       "    <tr>\n",
       "      <th>2020_01_04_10_03_Q-Exactive-HF-X-Orbitrap_6070</th>\n",
       "      <th>SLC9A3R1</th>\n",
       "      <td>30.259</td>\n",
       "      <td>28.038</td>\n",
       "    </tr>\n",
       "    <tr>\n",
       "      <th>2020_05_20_15_35_Q-Exactive-HF-X-Orbitrap_6070</th>\n",
       "      <th>KYNU</th>\n",
       "      <td>30.629</td>\n",
       "      <td>30.981</td>\n",
       "    </tr>\n",
       "    <tr>\n",
       "      <th>2020_01_03_11_17_Q-Exactive-HF-X-Orbitrap_6070</th>\n",
       "      <th>ADD3</th>\n",
       "      <td>24.541</td>\n",
       "      <td>26.235</td>\n",
       "    </tr>\n",
       "    <tr>\n",
       "      <th>2020_02_05_20_55_Q-Exactive-HF-X-Orbitrap_6070</th>\n",
       "      <th>CALM2;CALM1</th>\n",
       "      <td>33.934</td>\n",
       "      <td>33.672</td>\n",
       "    </tr>\n",
       "    <tr>\n",
       "      <th>...</th>\n",
       "      <th>...</th>\n",
       "      <td>...</td>\n",
       "      <td>...</td>\n",
       "    </tr>\n",
       "    <tr>\n",
       "      <th>2020_05_20_15_35_Q-Exactive-HF-X-Orbitrap_6070</th>\n",
       "      <th>PPP2R4;DKFZp781M17165</th>\n",
       "      <td>28.717</td>\n",
       "      <td>28.266</td>\n",
       "    </tr>\n",
       "    <tr>\n",
       "      <th>2020_03_11_11_25_Q-Exactive-HF-X-Orbitrap_6070</th>\n",
       "      <th>MED23</th>\n",
       "      <td>24.966</td>\n",
       "      <td>24.027</td>\n",
       "    </tr>\n",
       "    <tr>\n",
       "      <th>2020_03_07_18_15_Q-Exactive-HF-X-Orbitrap_6070</th>\n",
       "      <th>RBMXL1</th>\n",
       "      <td>26.654</td>\n",
       "      <td>25.186</td>\n",
       "    </tr>\n",
       "    <tr>\n",
       "      <th>2020_01_03_16_58_Q-Exactive-HF-X-Orbitrap_6070</th>\n",
       "      <th>SMARCA1</th>\n",
       "      <td>27.917</td>\n",
       "      <td>28.087</td>\n",
       "    </tr>\n",
       "    <tr>\n",
       "      <th>2020_05_20_12_33_Q-Exactive-HF-X-Orbitrap_6070</th>\n",
       "      <th>RGPD3;RGPD4</th>\n",
       "      <td>24.289</td>\n",
       "      <td>24.589</td>\n",
       "    </tr>\n",
       "  </tbody>\n",
       "</table>\n",
       "<p>9327 rows × 2 columns</p>\n",
       "</div>"
      ],
      "text/plain": [
       "                                                                      observed  \\\n",
       "Sample ID                                      Gene Names                        \n",
       "2020_01_15_13_56_Q-Exactive-HF-X-Orbitrap_6070 SEH1L                    27.180   \n",
       "2020_01_04_10_03_Q-Exactive-HF-X-Orbitrap_6070 SLC9A3R1                 30.259   \n",
       "2020_05_20_15_35_Q-Exactive-HF-X-Orbitrap_6070 KYNU                     30.629   \n",
       "2020_01_03_11_17_Q-Exactive-HF-X-Orbitrap_6070 ADD3                     24.541   \n",
       "2020_02_05_20_55_Q-Exactive-HF-X-Orbitrap_6070 CALM2;CALM1              33.934   \n",
       "...                                                                        ...   \n",
       "2020_05_20_15_35_Q-Exactive-HF-X-Orbitrap_6070 PPP2R4;DKFZp781M17165    28.717   \n",
       "2020_03_11_11_25_Q-Exactive-HF-X-Orbitrap_6070 MED23                    24.966   \n",
       "2020_03_07_18_15_Q-Exactive-HF-X-Orbitrap_6070 RBMXL1                   26.654   \n",
       "2020_01_03_16_58_Q-Exactive-HF-X-Orbitrap_6070 SMARCA1                  27.917   \n",
       "2020_05_20_12_33_Q-Exactive-HF-X-Orbitrap_6070 RGPD3;RGPD4              24.289   \n",
       "\n",
       "                                                                         CF  \n",
       "Sample ID                                      Gene Names                    \n",
       "2020_01_15_13_56_Q-Exactive-HF-X-Orbitrap_6070 SEH1L                 26.513  \n",
       "2020_01_04_10_03_Q-Exactive-HF-X-Orbitrap_6070 SLC9A3R1              28.038  \n",
       "2020_05_20_15_35_Q-Exactive-HF-X-Orbitrap_6070 KYNU                  30.981  \n",
       "2020_01_03_11_17_Q-Exactive-HF-X-Orbitrap_6070 ADD3                  26.235  \n",
       "2020_02_05_20_55_Q-Exactive-HF-X-Orbitrap_6070 CALM2;CALM1           33.672  \n",
       "...                                                                     ...  \n",
       "2020_05_20_15_35_Q-Exactive-HF-X-Orbitrap_6070 PPP2R4;DKFZp781M17165 28.266  \n",
       "2020_03_11_11_25_Q-Exactive-HF-X-Orbitrap_6070 MED23                 24.027  \n",
       "2020_03_07_18_15_Q-Exactive-HF-X-Orbitrap_6070 RBMXL1                25.186  \n",
       "2020_01_03_16_58_Q-Exactive-HF-X-Orbitrap_6070 SMARCA1               28.087  \n",
       "2020_05_20_12_33_Q-Exactive-HF-X-Orbitrap_6070 RGPD3;RGPD4           24.589  \n",
       "\n",
       "[9327 rows x 2 columns]"
      ]
     },
     "execution_count": 18,
     "metadata": {},
     "output_type": "execute_result"
    }
   ],
   "source": [
    "# this could be done using the validation data laoder now\n",
    "ana_collab.test_dl = ana_collab.dls.test_dl(\n",
    "    data.val_y.reset_index())  # test_dl is here validation data\n",
    "val_pred_simulated_na['CF'], _ = ana_collab.learn.get_preds(\n",
    "    dl=ana_collab.test_dl)\n",
    "val_pred_simulated_na"
   ]
  },
  {
   "cell_type": "markdown",
   "id": "bd22f63f-be3f-4f25-ad60-bafd6b028bd7",
   "metadata": {
    "papermill": {
     "duration": 0.039325,
     "end_time": "2024-05-15T02:21:51.132226",
     "exception": false,
     "start_time": "2024-05-15T02:21:51.092901",
     "status": "completed"
    },
    "tags": []
   },
   "source": [
    "select test data predictions"
   ]
  },
  {
   "cell_type": "code",
   "execution_count": 19,
   "id": "c7f0c597-d3c7-42d0-a6ef-3bc4c13121b8",
   "metadata": {
    "execution": {
     "iopub.execute_input": "2024-05-15T02:21:51.159791Z",
     "iopub.status.busy": "2024-05-15T02:21:51.158976Z",
     "iopub.status.idle": "2024-05-15T02:21:51.213288Z",
     "shell.execute_reply": "2024-05-15T02:21:51.212569Z"
    },
    "papermill": {
     "duration": 0.069559,
     "end_time": "2024-05-15T02:21:51.214839",
     "exception": false,
     "start_time": "2024-05-15T02:21:51.145280",
     "status": "completed"
    },
    "tags": []
   },
   "outputs": [
    {
     "data": {
      "text/html": [
       "\n",
       "<style>\n",
       "    /* Turns off some styling */\n",
       "    progress {\n",
       "        /* gets rid of default border in Firefox and Opera. */\n",
       "        border: none;\n",
       "        /* Needs to be in here for Safari polyfill so background images work as expected. */\n",
       "        background-size: auto;\n",
       "    }\n",
       "    progress:not([value]), progress:not([value])::-webkit-progress-bar {\n",
       "        background: repeating-linear-gradient(45deg, #7e7e7e, #7e7e7e 10px, #5c5c5c 10px, #5c5c5c 20px);\n",
       "    }\n",
       "    .progress-bar-interrupted, .progress-bar-interrupted::-webkit-progress-bar {\n",
       "        background: #F44336;\n",
       "    }\n",
       "</style>\n"
      ],
      "text/plain": [
       "<IPython.core.display.HTML object>"
      ]
     },
     "metadata": {},
     "output_type": "display_data"
    },
    {
     "data": {
      "text/html": [],
      "text/plain": [
       "<IPython.core.display.HTML object>"
      ]
     },
     "metadata": {},
     "output_type": "display_data"
    },
    {
     "data": {
      "text/html": [
       "<div>\n",
       "<style scoped>\n",
       "    .dataframe tbody tr th:only-of-type {\n",
       "        vertical-align: middle;\n",
       "    }\n",
       "\n",
       "    .dataframe tbody tr th {\n",
       "        vertical-align: top;\n",
       "    }\n",
       "\n",
       "    .dataframe thead th {\n",
       "        text-align: right;\n",
       "    }\n",
       "</style>\n",
       "<table border=\"1\" class=\"dataframe\">\n",
       "  <thead>\n",
       "    <tr style=\"text-align: right;\">\n",
       "      <th></th>\n",
       "      <th></th>\n",
       "      <th>observed</th>\n",
       "      <th>CF</th>\n",
       "    </tr>\n",
       "    <tr>\n",
       "      <th>Sample ID</th>\n",
       "      <th>Gene Names</th>\n",
       "      <th></th>\n",
       "      <th></th>\n",
       "    </tr>\n",
       "  </thead>\n",
       "  <tbody>\n",
       "    <tr>\n",
       "      <th rowspan=\"5\" valign=\"top\">2019_12_18_14_35_Q-Exactive-HF-X-Orbitrap_6070</th>\n",
       "      <th>ABCE1</th>\n",
       "      <td>29.538</td>\n",
       "      <td>29.554</td>\n",
       "    </tr>\n",
       "    <tr>\n",
       "      <th>ACTN4</th>\n",
       "      <td>33.270</td>\n",
       "      <td>33.230</td>\n",
       "    </tr>\n",
       "    <tr>\n",
       "      <th>ADD3</th>\n",
       "      <td>24.259</td>\n",
       "      <td>24.700</td>\n",
       "    </tr>\n",
       "    <tr>\n",
       "      <th>ALCAM</th>\n",
       "      <td>24.906</td>\n",
       "      <td>24.299</td>\n",
       "    </tr>\n",
       "    <tr>\n",
       "      <th>ALDH1B1</th>\n",
       "      <td>26.674</td>\n",
       "      <td>26.917</td>\n",
       "    </tr>\n",
       "    <tr>\n",
       "      <th>...</th>\n",
       "      <th>...</th>\n",
       "      <td>...</td>\n",
       "      <td>...</td>\n",
       "    </tr>\n",
       "    <tr>\n",
       "      <th rowspan=\"5\" valign=\"top\">2020_06_02_09_41_Q-Exactive-HF-X-Orbitrap_6070</th>\n",
       "      <th>YIPF3</th>\n",
       "      <td>25.040</td>\n",
       "      <td>25.790</td>\n",
       "    </tr>\n",
       "    <tr>\n",
       "      <th>YTHDF3</th>\n",
       "      <td>28.717</td>\n",
       "      <td>27.759</td>\n",
       "    </tr>\n",
       "    <tr>\n",
       "      <th>ZC3H11A</th>\n",
       "      <td>28.935</td>\n",
       "      <td>29.605</td>\n",
       "    </tr>\n",
       "    <tr>\n",
       "      <th>ZFP91-CNTF;ZFP91</th>\n",
       "      <td>25.662</td>\n",
       "      <td>27.134</td>\n",
       "    </tr>\n",
       "    <tr>\n",
       "      <th>hCG_2014768;TMA7</th>\n",
       "      <td>29.212</td>\n",
       "      <td>28.495</td>\n",
       "    </tr>\n",
       "  </tbody>\n",
       "</table>\n",
       "<p>9327 rows × 2 columns</p>\n",
       "</div>"
      ],
      "text/plain": [
       "                                                                 observed  \\\n",
       "Sample ID                                      Gene Names                   \n",
       "2019_12_18_14_35_Q-Exactive-HF-X-Orbitrap_6070 ABCE1               29.538   \n",
       "                                               ACTN4               33.270   \n",
       "                                               ADD3                24.259   \n",
       "                                               ALCAM               24.906   \n",
       "                                               ALDH1B1             26.674   \n",
       "...                                                                   ...   \n",
       "2020_06_02_09_41_Q-Exactive-HF-X-Orbitrap_6070 YIPF3               25.040   \n",
       "                                               YTHDF3              28.717   \n",
       "                                               ZC3H11A             28.935   \n",
       "                                               ZFP91-CNTF;ZFP91    25.662   \n",
       "                                               hCG_2014768;TMA7    29.212   \n",
       "\n",
       "                                                                    CF  \n",
       "Sample ID                                      Gene Names               \n",
       "2019_12_18_14_35_Q-Exactive-HF-X-Orbitrap_6070 ABCE1            29.554  \n",
       "                                               ACTN4            33.230  \n",
       "                                               ADD3             24.700  \n",
       "                                               ALCAM            24.299  \n",
       "                                               ALDH1B1          26.917  \n",
       "...                                                                ...  \n",
       "2020_06_02_09_41_Q-Exactive-HF-X-Orbitrap_6070 YIPF3            25.790  \n",
       "                                               YTHDF3           27.759  \n",
       "                                               ZC3H11A          29.605  \n",
       "                                               ZFP91-CNTF;ZFP91 27.134  \n",
       "                                               hCG_2014768;TMA7 28.495  \n",
       "\n",
       "[9327 rows x 2 columns]"
      ]
     },
     "execution_count": 19,
     "metadata": {},
     "output_type": "execute_result"
    }
   ],
   "source": [
    "ana_collab.test_dl = ana_collab.dls.test_dl(data.test_y.reset_index())\n",
    "test_pred_simulated_na['CF'], _ = ana_collab.learn.get_preds(dl=ana_collab.test_dl)\n",
    "test_pred_simulated_na"
   ]
  },
  {
   "cell_type": "code",
   "execution_count": 20,
   "id": "1cd76df6",
   "metadata": {
    "execution": {
     "iopub.execute_input": "2024-05-15T02:21:51.243943Z",
     "iopub.status.busy": "2024-05-15T02:21:51.243368Z",
     "iopub.status.idle": "2024-05-15T02:21:51.916887Z",
     "shell.execute_reply": "2024-05-15T02:21:51.916111Z"
    },
    "lines_to_next_cell": 2,
    "papermill": {
     "duration": 0.690798,
     "end_time": "2024-05-15T02:21:51.918794",
     "exception": false,
     "start_time": "2024-05-15T02:21:51.227996",
     "status": "completed"
    },
    "tags": []
   },
   "outputs": [
    {
     "data": {
      "text/html": [
       "\n",
       "<style>\n",
       "    /* Turns off some styling */\n",
       "    progress {\n",
       "        /* gets rid of default border in Firefox and Opera. */\n",
       "        border: none;\n",
       "        /* Needs to be in here for Safari polyfill so background images work as expected. */\n",
       "        background-size: auto;\n",
       "    }\n",
       "    progress:not([value]), progress:not([value])::-webkit-progress-bar {\n",
       "        background: repeating-linear-gradient(45deg, #7e7e7e, #7e7e7e 10px, #5c5c5c 10px, #5c5c5c 20px);\n",
       "    }\n",
       "    .progress-bar-interrupted, .progress-bar-interrupted::-webkit-progress-bar {\n",
       "        background: #F44336;\n",
       "    }\n",
       "</style>\n"
      ],
      "text/plain": [
       "<IPython.core.display.HTML object>"
      ]
     },
     "metadata": {},
     "output_type": "display_data"
    },
    {
     "data": {
      "text/html": [],
      "text/plain": [
       "<IPython.core.display.HTML object>"
      ]
     },
     "metadata": {},
     "output_type": "display_data"
    }
   ],
   "source": [
    "if args.save_pred_real_na:\n",
    "    pred_real_na = models.collab.get_missing_values(\n",
    "        df_train_long=data.train_X,\n",
    "        val_idx=data.val_y.index,\n",
    "        test_idx=data.test_y.index,\n",
    "        analysis_collab=ana_collab)\n",
    "    pred_real_na.to_csv(args.out_preds / f\"pred_real_na_{args.model_key}.csv\")"
   ]
  },
  {
   "cell_type": "markdown",
   "id": "49eced7a-6cd7-414e-b974-4bd1dbe3a787",
   "metadata": {
    "papermill": {
     "duration": 0.013139,
     "end_time": "2024-05-15T02:21:51.945398",
     "exception": false,
     "start_time": "2024-05-15T02:21:51.932259",
     "status": "completed"
    },
    "tags": []
   },
   "source": [
    "## Data in wide format\n",
    "\n",
    "- Autoencoder need data in wide format"
   ]
  },
  {
   "cell_type": "code",
   "execution_count": 21,
   "id": "cff8caf4-ccc9-4a36-a992-2cc596abe51a",
   "metadata": {
    "execution": {
     "iopub.execute_input": "2024-05-15T02:21:51.974703Z",
     "iopub.status.busy": "2024-05-15T02:21:51.973917Z",
     "iopub.status.idle": "2024-05-15T02:21:52.009928Z",
     "shell.execute_reply": "2024-05-15T02:21:52.009208Z"
    },
    "lines_to_next_cell": 2,
    "papermill": {
     "duration": 0.051991,
     "end_time": "2024-05-15T02:21:52.011417",
     "exception": false,
     "start_time": "2024-05-15T02:21:51.959426",
     "status": "completed"
    },
    "tags": []
   },
   "outputs": [
    {
     "data": {
      "text/html": [
       "<div>\n",
       "<style scoped>\n",
       "    .dataframe tbody tr th:only-of-type {\n",
       "        vertical-align: middle;\n",
       "    }\n",
       "\n",
       "    .dataframe tbody tr th {\n",
       "        vertical-align: top;\n",
       "    }\n",
       "\n",
       "    .dataframe thead th {\n",
       "        text-align: right;\n",
       "    }\n",
       "</style>\n",
       "<table border=\"1\" class=\"dataframe\">\n",
       "  <thead>\n",
       "    <tr style=\"text-align: right;\">\n",
       "      <th>Gene Names</th>\n",
       "      <th>AAAS</th>\n",
       "      <th>AACS</th>\n",
       "      <th>AAMDC</th>\n",
       "      <th>AAMP</th>\n",
       "      <th>AAR2</th>\n",
       "      <th>AARS</th>\n",
       "      <th>AARS2</th>\n",
       "      <th>AASDHPPT</th>\n",
       "      <th>AATF</th>\n",
       "      <th>ABCB10</th>\n",
       "      <th>...</th>\n",
       "      <th>ZNHIT2</th>\n",
       "      <th>ZNRF2</th>\n",
       "      <th>ZPR1</th>\n",
       "      <th>ZRANB2</th>\n",
       "      <th>ZW10</th>\n",
       "      <th>ZWILCH</th>\n",
       "      <th>ZWINT</th>\n",
       "      <th>ZYX</th>\n",
       "      <th>hCG_2014768;TMA7</th>\n",
       "      <th>pk;ZAK</th>\n",
       "    </tr>\n",
       "    <tr>\n",
       "      <th>Sample ID</th>\n",
       "      <th></th>\n",
       "      <th></th>\n",
       "      <th></th>\n",
       "      <th></th>\n",
       "      <th></th>\n",
       "      <th></th>\n",
       "      <th></th>\n",
       "      <th></th>\n",
       "      <th></th>\n",
       "      <th></th>\n",
       "      <th></th>\n",
       "      <th></th>\n",
       "      <th></th>\n",
       "      <th></th>\n",
       "      <th></th>\n",
       "      <th></th>\n",
       "      <th></th>\n",
       "      <th></th>\n",
       "      <th></th>\n",
       "      <th></th>\n",
       "      <th></th>\n",
       "    </tr>\n",
       "  </thead>\n",
       "  <tbody>\n",
       "    <tr>\n",
       "      <th>2019_12_18_14_35_Q-Exactive-HF-X-Orbitrap_6070</th>\n",
       "      <td>28.349</td>\n",
       "      <td>26.133</td>\n",
       "      <td>NaN</td>\n",
       "      <td>26.777</td>\n",
       "      <td>27.248</td>\n",
       "      <td>32.195</td>\n",
       "      <td>27.153</td>\n",
       "      <td>27.872</td>\n",
       "      <td>28.603</td>\n",
       "      <td>26.110</td>\n",
       "      <td>...</td>\n",
       "      <td>NaN</td>\n",
       "      <td>NaN</td>\n",
       "      <td>28.309</td>\n",
       "      <td>28.831</td>\n",
       "      <td>28.851</td>\n",
       "      <td>NaN</td>\n",
       "      <td>24.379</td>\n",
       "      <td>29.427</td>\n",
       "      <td>28.080</td>\n",
       "      <td>NaN</td>\n",
       "    </tr>\n",
       "    <tr>\n",
       "      <th>2019_12_19_19_48_Q-Exactive-HF-X-Orbitrap_6070</th>\n",
       "      <td>27.657</td>\n",
       "      <td>25.019</td>\n",
       "      <td>24.236</td>\n",
       "      <td>26.271</td>\n",
       "      <td>NaN</td>\n",
       "      <td>NaN</td>\n",
       "      <td>26.530</td>\n",
       "      <td>28.191</td>\n",
       "      <td>27.942</td>\n",
       "      <td>25.735</td>\n",
       "      <td>...</td>\n",
       "      <td>NaN</td>\n",
       "      <td>NaN</td>\n",
       "      <td>28.133</td>\n",
       "      <td>27.267</td>\n",
       "      <td>NaN</td>\n",
       "      <td>NaN</td>\n",
       "      <td>NaN</td>\n",
       "      <td>NaN</td>\n",
       "      <td>NaN</td>\n",
       "      <td>NaN</td>\n",
       "    </tr>\n",
       "    <tr>\n",
       "      <th>2019_12_20_14_15_Q-Exactive-HF-X-Orbitrap_6070</th>\n",
       "      <td>28.352</td>\n",
       "      <td>23.740</td>\n",
       "      <td>NaN</td>\n",
       "      <td>27.098</td>\n",
       "      <td>27.377</td>\n",
       "      <td>32.885</td>\n",
       "      <td>27.515</td>\n",
       "      <td>28.476</td>\n",
       "      <td>28.771</td>\n",
       "      <td>26.787</td>\n",
       "      <td>...</td>\n",
       "      <td>25.184</td>\n",
       "      <td>NaN</td>\n",
       "      <td>28.968</td>\n",
       "      <td>27.322</td>\n",
       "      <td>29.388</td>\n",
       "      <td>NaN</td>\n",
       "      <td>25.803</td>\n",
       "      <td>29.525</td>\n",
       "      <td>NaN</td>\n",
       "      <td>NaN</td>\n",
       "    </tr>\n",
       "    <tr>\n",
       "      <th>2019_12_27_12_29_Q-Exactive-HF-X-Orbitrap_6070</th>\n",
       "      <td>26.826</td>\n",
       "      <td>NaN</td>\n",
       "      <td>NaN</td>\n",
       "      <td>NaN</td>\n",
       "      <td>NaN</td>\n",
       "      <td>31.926</td>\n",
       "      <td>26.157</td>\n",
       "      <td>27.635</td>\n",
       "      <td>27.851</td>\n",
       "      <td>25.346</td>\n",
       "      <td>...</td>\n",
       "      <td>NaN</td>\n",
       "      <td>23.586</td>\n",
       "      <td>NaN</td>\n",
       "      <td>27.278</td>\n",
       "      <td>28.076</td>\n",
       "      <td>NaN</td>\n",
       "      <td>24.688</td>\n",
       "      <td>28.783</td>\n",
       "      <td>NaN</td>\n",
       "      <td>NaN</td>\n",
       "    </tr>\n",
       "    <tr>\n",
       "      <th>2019_12_29_15_06_Q-Exactive-HF-X-Orbitrap_6070</th>\n",
       "      <td>27.404</td>\n",
       "      <td>26.948</td>\n",
       "      <td>23.864</td>\n",
       "      <td>26.982</td>\n",
       "      <td>26.520</td>\n",
       "      <td>31.844</td>\n",
       "      <td>25.342</td>\n",
       "      <td>27.416</td>\n",
       "      <td>27.474</td>\n",
       "      <td>NaN</td>\n",
       "      <td>...</td>\n",
       "      <td>24.591</td>\n",
       "      <td>NaN</td>\n",
       "      <td>25.838</td>\n",
       "      <td>29.326</td>\n",
       "      <td>27.491</td>\n",
       "      <td>26.406</td>\n",
       "      <td>NaN</td>\n",
       "      <td>30.422</td>\n",
       "      <td>NaN</td>\n",
       "      <td>26.939</td>\n",
       "    </tr>\n",
       "  </tbody>\n",
       "</table>\n",
       "<p>5 rows × 4405 columns</p>\n",
       "</div>"
      ],
      "text/plain": [
       "Gene Names                                       AAAS   AACS  AAMDC   AAMP  \\\n",
       "Sample ID                                                                    \n",
       "2019_12_18_14_35_Q-Exactive-HF-X-Orbitrap_6070 28.349 26.133    NaN 26.777   \n",
       "2019_12_19_19_48_Q-Exactive-HF-X-Orbitrap_6070 27.657 25.019 24.236 26.271   \n",
       "2019_12_20_14_15_Q-Exactive-HF-X-Orbitrap_6070 28.352 23.740    NaN 27.098   \n",
       "2019_12_27_12_29_Q-Exactive-HF-X-Orbitrap_6070 26.826    NaN    NaN    NaN   \n",
       "2019_12_29_15_06_Q-Exactive-HF-X-Orbitrap_6070 27.404 26.948 23.864 26.982   \n",
       "\n",
       "Gene Names                                       AAR2   AARS  AARS2  AASDHPPT  \\\n",
       "Sample ID                                                                       \n",
       "2019_12_18_14_35_Q-Exactive-HF-X-Orbitrap_6070 27.248 32.195 27.153    27.872   \n",
       "2019_12_19_19_48_Q-Exactive-HF-X-Orbitrap_6070    NaN    NaN 26.530    28.191   \n",
       "2019_12_20_14_15_Q-Exactive-HF-X-Orbitrap_6070 27.377 32.885 27.515    28.476   \n",
       "2019_12_27_12_29_Q-Exactive-HF-X-Orbitrap_6070    NaN 31.926 26.157    27.635   \n",
       "2019_12_29_15_06_Q-Exactive-HF-X-Orbitrap_6070 26.520 31.844 25.342    27.416   \n",
       "\n",
       "Gene Names                                       AATF  ABCB10  ...  ZNHIT2  \\\n",
       "Sample ID                                                      ...           \n",
       "2019_12_18_14_35_Q-Exactive-HF-X-Orbitrap_6070 28.603  26.110  ...     NaN   \n",
       "2019_12_19_19_48_Q-Exactive-HF-X-Orbitrap_6070 27.942  25.735  ...     NaN   \n",
       "2019_12_20_14_15_Q-Exactive-HF-X-Orbitrap_6070 28.771  26.787  ...  25.184   \n",
       "2019_12_27_12_29_Q-Exactive-HF-X-Orbitrap_6070 27.851  25.346  ...     NaN   \n",
       "2019_12_29_15_06_Q-Exactive-HF-X-Orbitrap_6070 27.474     NaN  ...  24.591   \n",
       "\n",
       "Gene Names                                      ZNRF2   ZPR1  ZRANB2   ZW10  \\\n",
       "Sample ID                                                                     \n",
       "2019_12_18_14_35_Q-Exactive-HF-X-Orbitrap_6070    NaN 28.309  28.831 28.851   \n",
       "2019_12_19_19_48_Q-Exactive-HF-X-Orbitrap_6070    NaN 28.133  27.267    NaN   \n",
       "2019_12_20_14_15_Q-Exactive-HF-X-Orbitrap_6070    NaN 28.968  27.322 29.388   \n",
       "2019_12_27_12_29_Q-Exactive-HF-X-Orbitrap_6070 23.586    NaN  27.278 28.076   \n",
       "2019_12_29_15_06_Q-Exactive-HF-X-Orbitrap_6070    NaN 25.838  29.326 27.491   \n",
       "\n",
       "Gene Names                                      ZWILCH  ZWINT    ZYX  \\\n",
       "Sample ID                                                              \n",
       "2019_12_18_14_35_Q-Exactive-HF-X-Orbitrap_6070     NaN 24.379 29.427   \n",
       "2019_12_19_19_48_Q-Exactive-HF-X-Orbitrap_6070     NaN    NaN    NaN   \n",
       "2019_12_20_14_15_Q-Exactive-HF-X-Orbitrap_6070     NaN 25.803 29.525   \n",
       "2019_12_27_12_29_Q-Exactive-HF-X-Orbitrap_6070     NaN 24.688 28.783   \n",
       "2019_12_29_15_06_Q-Exactive-HF-X-Orbitrap_6070  26.406    NaN 30.422   \n",
       "\n",
       "Gene Names                                      hCG_2014768;TMA7  pk;ZAK  \n",
       "Sample ID                                                                 \n",
       "2019_12_18_14_35_Q-Exactive-HF-X-Orbitrap_6070            28.080     NaN  \n",
       "2019_12_19_19_48_Q-Exactive-HF-X-Orbitrap_6070               NaN     NaN  \n",
       "2019_12_20_14_15_Q-Exactive-HF-X-Orbitrap_6070               NaN     NaN  \n",
       "2019_12_27_12_29_Q-Exactive-HF-X-Orbitrap_6070               NaN     NaN  \n",
       "2019_12_29_15_06_Q-Exactive-HF-X-Orbitrap_6070               NaN  26.939  \n",
       "\n",
       "[5 rows x 4405 columns]"
      ]
     },
     "execution_count": 21,
     "metadata": {},
     "output_type": "execute_result"
    }
   ],
   "source": [
    "data.to_wide_format()\n",
    "args.M = data.train_X.shape[-1]\n",
    "data.train_X.head()"
   ]
  },
  {
   "cell_type": "markdown",
   "id": "861b9b3c-11d0-4cda-98c9-fadea16e47c4",
   "metadata": {
    "papermill": {
     "duration": 0.013696,
     "end_time": "2024-05-15T02:21:52.039058",
     "exception": false,
     "start_time": "2024-05-15T02:21:52.025362",
     "status": "completed"
    },
    "tags": []
   },
   "source": [
    "### Validation data\n",
    "\n",
    "- all measured (identified, observed) peptides in validation data\n",
    "\n",
    "> Does not make to much sense to compare collab and AEs,\n",
    "> as the setup differs of training and validation data differs"
   ]
  },
  {
   "cell_type": "code",
   "execution_count": 22,
   "id": "d825e38e-f3d6-4bca-b621-150267e7b7bc",
   "metadata": {
    "execution": {
     "iopub.execute_input": "2024-05-15T02:21:52.069410Z",
     "iopub.status.busy": "2024-05-15T02:21:52.068686Z",
     "iopub.status.idle": "2024-05-15T02:21:52.072011Z",
     "shell.execute_reply": "2024-05-15T02:21:52.071484Z"
    },
    "papermill": {
     "duration": 0.020128,
     "end_time": "2024-05-15T02:21:52.073330",
     "exception": false,
     "start_time": "2024-05-15T02:21:52.053202",
     "status": "completed"
    },
    "tags": []
   },
   "outputs": [],
   "source": [
    "# papermill_description=metrics\n",
    "d_metrics = models.Metrics()"
   ]
  },
  {
   "cell_type": "markdown",
   "id": "55b9b887-a644-4086-8399-e27b533bd22a",
   "metadata": {
    "papermill": {
     "duration": 0.013938,
     "end_time": "2024-05-15T02:21:52.101648",
     "exception": false,
     "start_time": "2024-05-15T02:21:52.087710",
     "status": "completed"
    },
    "tags": []
   },
   "source": [
    "The simulated NA for the validation step are real test data (not used for training nor early stopping)"
   ]
  },
  {
   "cell_type": "code",
   "execution_count": 23,
   "id": "855a7a6f-93fd-4612-9d8d-96541a2441be",
   "metadata": {
    "execution": {
     "iopub.execute_input": "2024-05-15T02:21:52.134356Z",
     "iopub.status.busy": "2024-05-15T02:21:52.133608Z",
     "iopub.status.idle": "2024-05-15T02:21:52.154220Z",
     "shell.execute_reply": "2024-05-15T02:21:52.153521Z"
    },
    "papermill": {
     "duration": 0.039966,
     "end_time": "2024-05-15T02:21:52.155646",
     "exception": false,
     "start_time": "2024-05-15T02:21:52.115680",
     "status": "completed"
    },
    "tags": []
   },
   "outputs": [
    {
     "name": "stdout",
     "output_type": "stream",
     "text": [
      "Selected as truth to compare to: observed\n"
     ]
    },
    {
     "data": {
      "text/plain": [
       "{'CF': {'MSE': 0.7520970238619777,\n",
       "  'MAE': 0.5930982681269894,\n",
       "  'N': 9327,\n",
       "  'prop': 1.0}}"
      ]
     },
     "execution_count": 23,
     "metadata": {},
     "output_type": "execute_result"
    }
   ],
   "source": [
    "added_metrics = d_metrics.add_metrics(val_pred_simulated_na, 'valid_simulated_na')\n",
    "added_metrics"
   ]
  },
  {
   "cell_type": "markdown",
   "id": "80fda7f1-3024-46bc-a3c1-17f509016bd4",
   "metadata": {
    "papermill": {
     "duration": 0.014185,
     "end_time": "2024-05-15T02:21:52.184916",
     "exception": false,
     "start_time": "2024-05-15T02:21:52.170731",
     "status": "completed"
    },
    "tags": []
   },
   "source": [
    "### Test Datasplit\n",
    "\n",
    "Simulated NAs : Artificially created NAs. Some data was sampled and set\n",
    "explicitly to misssing before it was fed to the model for\n",
    "reconstruction."
   ]
  },
  {
   "cell_type": "code",
   "execution_count": 24,
   "id": "571ac8d4-bb5d-45db-bba8-59817e476304",
   "metadata": {
    "execution": {
     "iopub.execute_input": "2024-05-15T02:21:52.215655Z",
     "iopub.status.busy": "2024-05-15T02:21:52.214835Z",
     "iopub.status.idle": "2024-05-15T02:21:52.234907Z",
     "shell.execute_reply": "2024-05-15T02:21:52.234165Z"
    },
    "papermill": {
     "duration": 0.036754,
     "end_time": "2024-05-15T02:21:52.236357",
     "exception": false,
     "start_time": "2024-05-15T02:21:52.199603",
     "status": "completed"
    },
    "tags": []
   },
   "outputs": [
    {
     "name": "stdout",
     "output_type": "stream",
     "text": [
      "Selected as truth to compare to: observed\n"
     ]
    },
    {
     "data": {
      "text/plain": [
       "{'CF': {'MSE': 0.7563544226234695,\n",
       "  'MAE': 0.588588387472467,\n",
       "  'N': 9327,\n",
       "  'prop': 1.0}}"
      ]
     },
     "execution_count": 24,
     "metadata": {},
     "output_type": "execute_result"
    }
   ],
   "source": [
    "added_metrics = d_metrics.add_metrics(test_pred_simulated_na, 'test_simulated_na')\n",
    "added_metrics"
   ]
  },
  {
   "cell_type": "markdown",
   "id": "b388de9d-0387-486a-9481-d673e0fec88b",
   "metadata": {
    "papermill": {
     "duration": 0.013975,
     "end_time": "2024-05-15T02:21:52.264685",
     "exception": false,
     "start_time": "2024-05-15T02:21:52.250710",
     "status": "completed"
    },
    "tags": []
   },
   "source": [
    "Save all metrics as json"
   ]
  },
  {
   "cell_type": "code",
   "execution_count": 25,
   "id": "87910434-7d07-4e8e-8380-c92fc515bd16",
   "metadata": {
    "execution": {
     "iopub.execute_input": "2024-05-15T02:21:52.294710Z",
     "iopub.status.busy": "2024-05-15T02:21:52.294129Z",
     "iopub.status.idle": "2024-05-15T02:21:52.298287Z",
     "shell.execute_reply": "2024-05-15T02:21:52.297633Z"
    },
    "lines_to_next_cell": 2,
    "papermill": {
     "duration": 0.020918,
     "end_time": "2024-05-15T02:21:52.299743",
     "exception": false,
     "start_time": "2024-05-15T02:21:52.278825",
     "status": "completed"
    },
    "tags": []
   },
   "outputs": [],
   "source": [
    "vaep.io.dump_json(d_metrics.metrics, args.out_metrics /\n",
    "                  f'metrics_{args.model_key}.json')"
   ]
  },
  {
   "cell_type": "code",
   "execution_count": 26,
   "id": "7d99deb9-9aad-4ba9-b79d-e4b3c6c7f023",
   "metadata": {
    "execution": {
     "iopub.execute_input": "2024-05-15T02:21:52.332149Z",
     "iopub.status.busy": "2024-05-15T02:21:52.331365Z",
     "iopub.status.idle": "2024-05-15T02:21:52.342049Z",
     "shell.execute_reply": "2024-05-15T02:21:52.341494Z"
    },
    "papermill": {
     "duration": 0.02783,
     "end_time": "2024-05-15T02:21:52.343440",
     "exception": false,
     "start_time": "2024-05-15T02:21:52.315610",
     "status": "completed"
    },
    "tags": []
   },
   "outputs": [
    {
     "data": {
      "text/html": [
       "<div>\n",
       "<style scoped>\n",
       "    .dataframe tbody tr th:only-of-type {\n",
       "        vertical-align: middle;\n",
       "    }\n",
       "\n",
       "    .dataframe tbody tr th {\n",
       "        vertical-align: top;\n",
       "    }\n",
       "\n",
       "    .dataframe thead th {\n",
       "        text-align: right;\n",
       "    }\n",
       "</style>\n",
       "<table border=\"1\" class=\"dataframe\">\n",
       "  <thead>\n",
       "    <tr style=\"text-align: right;\">\n",
       "      <th></th>\n",
       "      <th>subset</th>\n",
       "      <th>valid_simulated_na</th>\n",
       "      <th>test_simulated_na</th>\n",
       "    </tr>\n",
       "    <tr>\n",
       "      <th>model</th>\n",
       "      <th>metric_name</th>\n",
       "      <th></th>\n",
       "      <th></th>\n",
       "    </tr>\n",
       "  </thead>\n",
       "  <tbody>\n",
       "    <tr>\n",
       "      <th rowspan=\"4\" valign=\"top\">CF</th>\n",
       "      <th>MSE</th>\n",
       "      <td>0.752</td>\n",
       "      <td>0.756</td>\n",
       "    </tr>\n",
       "    <tr>\n",
       "      <th>MAE</th>\n",
       "      <td>0.593</td>\n",
       "      <td>0.589</td>\n",
       "    </tr>\n",
       "    <tr>\n",
       "      <th>N</th>\n",
       "      <td>9,327.000</td>\n",
       "      <td>9,327.000</td>\n",
       "    </tr>\n",
       "    <tr>\n",
       "      <th>prop</th>\n",
       "      <td>1.000</td>\n",
       "      <td>1.000</td>\n",
       "    </tr>\n",
       "  </tbody>\n",
       "</table>\n",
       "</div>"
      ],
      "text/plain": [
       "subset             valid_simulated_na  test_simulated_na\n",
       "model metric_name                                       \n",
       "CF    MSE                       0.752              0.756\n",
       "      MAE                       0.593              0.589\n",
       "      N                     9,327.000          9,327.000\n",
       "      prop                      1.000              1.000"
      ]
     },
     "execution_count": 26,
     "metadata": {},
     "output_type": "execute_result"
    }
   ],
   "source": [
    "metrics_df = models.get_df_from_nested_dict(\n",
    "    d_metrics.metrics, column_levels=['model', 'metric_name']).T\n",
    "metrics_df"
   ]
  },
  {
   "cell_type": "markdown",
   "id": "5d8d6b3e-1316-4795-bc3d-4bdf270b890e",
   "metadata": {
    "papermill": {
     "duration": 0.014351,
     "end_time": "2024-05-15T02:21:52.372465",
     "exception": false,
     "start_time": "2024-05-15T02:21:52.358114",
     "status": "completed"
    },
    "tags": []
   },
   "source": [
    "## Save predictions"
   ]
  },
  {
   "cell_type": "code",
   "execution_count": 27,
   "id": "782636ac-c979-4f8b-9fc0-66fd0c7a3a8b",
   "metadata": {
    "execution": {
     "iopub.execute_input": "2024-05-15T02:21:52.403130Z",
     "iopub.status.busy": "2024-05-15T02:21:52.402303Z",
     "iopub.status.idle": "2024-05-15T02:21:52.491980Z",
     "shell.execute_reply": "2024-05-15T02:21:52.491225Z"
    },
    "papermill": {
     "duration": 0.106927,
     "end_time": "2024-05-15T02:21:52.493761",
     "exception": false,
     "start_time": "2024-05-15T02:21:52.386834",
     "status": "completed"
    },
    "tags": []
   },
   "outputs": [],
   "source": [
    "# save simulated missing values for both splits\n",
    "val_pred_simulated_na.to_csv(args.out_preds / f\"pred_val_{args.model_key}.csv\")\n",
    "test_pred_simulated_na.to_csv(args.out_preds / f\"pred_test_{args.model_key}.csv\")"
   ]
  },
  {
   "cell_type": "markdown",
   "id": "42f2c184-e9ef-42be-ae87-7cbf52a0c0b6",
   "metadata": {
    "papermill": {
     "duration": 0.015925,
     "end_time": "2024-05-15T02:21:52.525169",
     "exception": false,
     "start_time": "2024-05-15T02:21:52.509244",
     "status": "completed"
    },
    "tags": []
   },
   "source": [
    "## Config"
   ]
  },
  {
   "cell_type": "code",
   "execution_count": 28,
   "id": "0f13cb38-abf0-4b56-9399-3d11d32f7fbc",
   "metadata": {
    "execution": {
     "iopub.execute_input": "2024-05-15T02:21:52.560613Z",
     "iopub.status.busy": "2024-05-15T02:21:52.559805Z",
     "iopub.status.idle": "2024-05-15T02:21:52.567977Z",
     "shell.execute_reply": "2024-05-15T02:21:52.567358Z"
    },
    "papermill": {
     "duration": 0.027463,
     "end_time": "2024-05-15T02:21:52.569337",
     "exception": false,
     "start_time": "2024-05-15T02:21:52.541874",
     "status": "completed"
    },
    "tags": []
   },
   "outputs": [
    {
     "data": {
      "text/plain": [
       "{'M': 4405,\n",
       " 'batch_size': 4096,\n",
       " 'cuda': False,\n",
       " 'data': Path('runs/dev_dataset_small/proteinGroups_N50/data'),\n",
       " 'epoch_trained': 11,\n",
       " 'epochs_max': 20,\n",
       " 'file_format': 'csv',\n",
       " 'fn_rawfile_metadata': 'data/dev_datasets/HeLa_6070/files_selected_metadata_N50.csv',\n",
       " 'folder_data': '',\n",
       " 'folder_experiment': Path('runs/dev_dataset_small/proteinGroups_N50'),\n",
       " 'latent_dim': 50,\n",
       " 'model': 'CF',\n",
       " 'model_key': 'CF',\n",
       " 'n_params': 227307,\n",
       " 'out_figures': Path('runs/dev_dataset_small/proteinGroups_N50/figures'),\n",
       " 'out_folder': Path('runs/dev_dataset_small/proteinGroups_N50'),\n",
       " 'out_metrics': Path('runs/dev_dataset_small/proteinGroups_N50'),\n",
       " 'out_models': Path('runs/dev_dataset_small/proteinGroups_N50'),\n",
       " 'out_preds': Path('runs/dev_dataset_small/proteinGroups_N50/preds'),\n",
       " 'patience': 1,\n",
       " 'sample_idx_position': 0,\n",
       " 'save_pred_real_na': True}"
      ]
     },
     "execution_count": 28,
     "metadata": {},
     "output_type": "execute_result"
    }
   ],
   "source": [
    "args.dump(fname=args.out_models / f\"model_config_{args.model_key}.yaml\")\n",
    "args"
   ]
  },
  {
   "cell_type": "code",
   "execution_count": null,
   "id": "408b261a",
   "metadata": {
    "papermill": {
     "duration": 0.017063,
     "end_time": "2024-05-15T02:21:52.603246",
     "exception": false,
     "start_time": "2024-05-15T02:21:52.586183",
     "status": "completed"
    },
    "tags": []
   },
   "outputs": [],
   "source": []
  }
 ],
 "metadata": {
  "jupytext": {
   "formats": "ipynb,py:percent"
  },
  "kernelspec": {
   "display_name": "Python 3",
   "language": "python",
   "name": "python3"
  },
  "language_info": {
   "codemirror_mode": {
    "name": "ipython",
    "version": 3
   },
   "file_extension": ".py",
   "mimetype": "text/x-python",
   "name": "python",
   "nbconvert_exporter": "python",
   "pygments_lexer": "ipython3",
   "version": "3.8.19"
  },
  "papermill": {
   "default_parameters": {},
   "duration": 17.671092,
   "end_time": "2024-05-15T02:21:53.539408",
   "environment_variables": {},
   "exception": null,
   "input_path": "01_1_train_CF.ipynb",
   "output_path": "runs/dev_dataset_small/proteinGroups_N50/01_1_train_CF.ipynb",
   "parameters": {
    "batch_size": 4096,
    "cuda": false,
    "epochs_max": 20,
    "file_format": "csv",
    "fn_rawfile_metadata": "data/dev_datasets/HeLa_6070/files_selected_metadata_N50.csv",
    "folder_experiment": "runs/dev_dataset_small/proteinGroups_N50",
    "latent_dim": 50,
    "model": "CF",
    "model_key": "CF",
    "sample_idx_position": 0,
    "save_pred_real_na": true
   },
   "start_time": "2024-05-15T02:21:35.868316",
   "version": "2.6.0"
  },
  "toc-autonumbering": true,
  "vscode": {
   "interpreter": {
    "hash": "cf83e9cb890c7f96eb0ae04f39a82254555f56a1a0ed2f03b23a8b40fe6cd31c"
   }
  }
 },
 "nbformat": 4,
 "nbformat_minor": 5
}