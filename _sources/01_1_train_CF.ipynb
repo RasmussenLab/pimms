{
 "cells": [
  {
   "cell_type": "markdown",
   "id": "f0e1208b-9b36-4294-b3fd-910e05a82f2e",
   "metadata": {
    "papermill": {
     "duration": 0.007955,
     "end_time": "2024-06-12T02:21:12.449766",
     "exception": false,
     "start_time": "2024-06-12T02:21:12.441811",
     "status": "completed"
    },
    "tags": []
   },
   "source": [
    "# Collaborative Filtering"
   ]
  },
  {
   "cell_type": "code",
   "execution_count": 1,
   "id": "18b5d571-2956-4112-b22c-43d6c2146b06",
   "metadata": {
    "execution": {
     "iopub.execute_input": "2024-06-12T02:21:12.467709Z",
     "iopub.status.busy": "2024-06-12T02:21:12.467009Z",
     "iopub.status.idle": "2024-06-12T02:21:15.376955Z",
     "shell.execute_reply": "2024-06-12T02:21:15.376205Z"
    },
    "papermill": {
     "duration": 2.919749,
     "end_time": "2024-06-12T02:21:15.378743",
     "exception": false,
     "start_time": "2024-06-12T02:21:12.458994",
     "status": "completed"
    },
    "tags": [
     "hide-input"
    ]
   },
   "outputs": [
    {
     "name": "stdout",
     "output_type": "stream",
     "text": [
      "vaep - INFO     Experiment 03 - Analysis of latent spaces and performance comparisions\n"
     ]
    }
   ],
   "source": [
    "import logging\n",
    "from pprint import pprint\n",
    "\n",
    "import matplotlib.pyplot as plt\n",
    "# overwriting Recorder callback with custom plot_loss\n",
    "from fastai import learner\n",
    "from fastai.collab import *\n",
    "from fastai.collab import (EarlyStoppingCallback, EmbeddingDotBias, Learner,\n",
    "                           MSELossFlat, default_device)\n",
    "from fastai.tabular.all import *\n",
    "\n",
    "import vaep\n",
    "import vaep.model\n",
    "import vaep.models as models\n",
    "import vaep.nb\n",
    "from vaep.io import datasplits\n",
    "from vaep.logging import setup_logger\n",
    "from vaep.models import RecorderDump, plot_loss\n",
    "\n",
    "learner.Recorder.plot_loss = plot_loss\n",
    "# import fastai.callback.hook # Learner.summary\n",
    "\n",
    "\n",
    "logger = setup_logger(logger=logging.getLogger('vaep'))\n",
    "logger.info(\n",
    "    \"Experiment 03 - Analysis of latent spaces and performance comparisions\")\n",
    "\n",
    "figures = {}  # collection of ax or figures"
   ]
  },
  {
   "cell_type": "markdown",
   "id": "43f062bb-8d2c-4afa-8a81-9e2a328050fe",
   "metadata": {
    "papermill": {
     "duration": 0.008049,
     "end_time": "2024-06-12T02:21:15.395468",
     "exception": false,
     "start_time": "2024-06-12T02:21:15.387419",
     "status": "completed"
    },
    "tags": []
   },
   "source": [
    "Papermill script parameters:"
   ]
  },
  {
   "cell_type": "code",
   "execution_count": 2,
   "id": "85c7d6f9",
   "metadata": {
    "execution": {
     "iopub.execute_input": "2024-06-12T02:21:15.413235Z",
     "iopub.status.busy": "2024-06-12T02:21:15.412664Z",
     "iopub.status.idle": "2024-06-12T02:21:15.416665Z",
     "shell.execute_reply": "2024-06-12T02:21:15.416024Z"
    },
    "papermill": {
     "duration": 0.01618,
     "end_time": "2024-06-12T02:21:15.419341",
     "exception": false,
     "start_time": "2024-06-12T02:21:15.403161",
     "status": "completed"
    },
    "tags": [
     "hide-input"
    ]
   },
   "outputs": [],
   "source": [
    "# catch passed parameters\n",
    "args = None\n",
    "args = dict(globals()).keys()"
   ]
  },
  {
   "cell_type": "code",
   "execution_count": 3,
   "id": "297f14bc-3c37-43fa-8217-f790f0593d78",
   "metadata": {
    "execution": {
     "iopub.execute_input": "2024-06-12T02:21:15.436620Z",
     "iopub.status.busy": "2024-06-12T02:21:15.436260Z",
     "iopub.status.idle": "2024-06-12T02:21:15.441451Z",
     "shell.execute_reply": "2024-06-12T02:21:15.440813Z"
    },
    "papermill": {
     "duration": 0.016835,
     "end_time": "2024-06-12T02:21:15.444134",
     "exception": false,
     "start_time": "2024-06-12T02:21:15.427299",
     "status": "completed"
    },
    "tags": [
     "parameters"
    ]
   },
   "outputs": [],
   "source": [
    "# files and folders\n",
    "# Datasplit folder with data for experiment\n",
    "folder_experiment: str = 'runs/example'\n",
    "folder_data: str = ''  # specify data directory if needed\n",
    "file_format: str = 'csv'  # change default to pickled files\n",
    "# training\n",
    "epochs_max: int = 20  # Maximum number of epochs\n",
    "# early_stopping:bool = True # Wheather to use early stopping or not\n",
    "patience: int = 1  # Patience for early stopping\n",
    "batch_size: int = 32_768  # Batch size for training (and evaluation)\n",
    "cuda: bool = True  # Use the GPU for training?\n",
    "# model\n",
    "# Dimensionality of encoding dimension (latent space of model)\n",
    "latent_dim: int = 10\n",
    "# hidden_layers:str = '128_64' # Underscore separated string of layers, '128 64' for the encoder, reversed for decoder\n",
    "sample_idx_position: int = 0  # position of index which is sample ID\n",
    "model: str = 'CF'  # model name\n",
    "model_key: str = 'CF'  # potentially alternative key for model (grid search)\n",
    "save_pred_real_na: bool = True  # Save all predictions for missing values"
   ]
  },
  {
   "cell_type": "code",
   "execution_count": 4,
   "id": "7596f419",
   "metadata": {
    "execution": {
     "iopub.execute_input": "2024-06-12T02:21:15.461972Z",
     "iopub.status.busy": "2024-06-12T02:21:15.461649Z",
     "iopub.status.idle": "2024-06-12T02:21:15.465938Z",
     "shell.execute_reply": "2024-06-12T02:21:15.465294Z"
    },
    "papermill": {
     "duration": 0.016511,
     "end_time": "2024-06-12T02:21:15.468876",
     "exception": false,
     "start_time": "2024-06-12T02:21:15.452365",
     "status": "completed"
    },
    "tags": [
     "injected-parameters"
    ]
   },
   "outputs": [],
   "source": [
    "# Parameters\n",
    "model = \"CF\"\n",
    "latent_dim = 50\n",
    "batch_size = 1024\n",
    "epochs_max = 100\n",
    "sample_idx_position = 0\n",
    "cuda = False\n",
    "save_pred_real_na = True\n",
    "fn_rawfile_metadata = \"https://raw.githubusercontent.com/RasmussenLab/njab/HEAD/docs/tutorial/data/alzheimer/meta.csv\"\n",
    "folder_experiment = \"runs/alzheimer_study\"\n",
    "model_key = \"CF\"\n"
   ]
  },
  {
   "cell_type": "markdown",
   "id": "1da8e04b-2eb2-4ecb-b1d1-2de871cd0a56",
   "metadata": {
    "papermill": {
     "duration": 0.007658,
     "end_time": "2024-06-12T02:21:15.485287",
     "exception": false,
     "start_time": "2024-06-12T02:21:15.477629",
     "status": "completed"
    },
    "tags": []
   },
   "source": [
    "Some argument transformations"
   ]
  },
  {
   "cell_type": "code",
   "execution_count": 5,
   "id": "0746e70f-0259-48d5-90ef-25fe4b59f9ac",
   "metadata": {
    "execution": {
     "iopub.execute_input": "2024-06-12T02:21:15.502879Z",
     "iopub.status.busy": "2024-06-12T02:21:15.502569Z",
     "iopub.status.idle": "2024-06-12T02:21:15.510962Z",
     "shell.execute_reply": "2024-06-12T02:21:15.510218Z"
    },
    "papermill": {
     "duration": 0.021814,
     "end_time": "2024-06-12T02:21:15.515534",
     "exception": false,
     "start_time": "2024-06-12T02:21:15.493720",
     "status": "completed"
    },
    "tags": [
     "hide-input"
    ]
   },
   "outputs": [
    {
     "data": {
      "text/plain": [
       "{'folder_experiment': 'runs/alzheimer_study',\n",
       " 'folder_data': '',\n",
       " 'file_format': 'csv',\n",
       " 'epochs_max': 100,\n",
       " 'patience': 1,\n",
       " 'batch_size': 1024,\n",
       " 'cuda': False,\n",
       " 'latent_dim': 50,\n",
       " 'sample_idx_position': 0,\n",
       " 'model': 'CF',\n",
       " 'model_key': 'CF',\n",
       " 'save_pred_real_na': True,\n",
       " 'fn_rawfile_metadata': 'https://raw.githubusercontent.com/RasmussenLab/njab/HEAD/docs/tutorial/data/alzheimer/meta.csv'}"
      ]
     },
     "execution_count": 5,
     "metadata": {},
     "output_type": "execute_result"
    }
   ],
   "source": [
    "args = vaep.nb.get_params(args, globals=globals())\n",
    "args"
   ]
  },
  {
   "cell_type": "code",
   "execution_count": 6,
   "id": "100bbf80",
   "metadata": {
    "execution": {
     "iopub.execute_input": "2024-06-12T02:21:15.533191Z",
     "iopub.status.busy": "2024-06-12T02:21:15.532861Z",
     "iopub.status.idle": "2024-06-12T02:21:15.539046Z",
     "shell.execute_reply": "2024-06-12T02:21:15.538367Z"
    },
    "lines_to_next_cell": 2,
    "papermill": {
     "duration": 0.01695,
     "end_time": "2024-06-12T02:21:15.540850",
     "exception": false,
     "start_time": "2024-06-12T02:21:15.523900",
     "status": "completed"
    },
    "tags": [
     "hide-input"
    ]
   },
   "outputs": [
    {
     "data": {
      "text/plain": [
       "{'batch_size': 1024,\n",
       " 'cuda': False,\n",
       " 'data': Path('runs/alzheimer_study/data'),\n",
       " 'epochs_max': 100,\n",
       " 'file_format': 'csv',\n",
       " 'fn_rawfile_metadata': 'https://raw.githubusercontent.com/RasmussenLab/njab/HEAD/docs/tutorial/data/alzheimer/meta.csv',\n",
       " 'folder_data': '',\n",
       " 'folder_experiment': Path('runs/alzheimer_study'),\n",
       " 'latent_dim': 50,\n",
       " 'model': 'CF',\n",
       " 'model_key': 'CF',\n",
       " 'out_figures': Path('runs/alzheimer_study/figures'),\n",
       " 'out_folder': Path('runs/alzheimer_study'),\n",
       " 'out_metrics': Path('runs/alzheimer_study'),\n",
       " 'out_models': Path('runs/alzheimer_study'),\n",
       " 'out_preds': Path('runs/alzheimer_study/preds'),\n",
       " 'patience': 1,\n",
       " 'sample_idx_position': 0,\n",
       " 'save_pred_real_na': True}"
      ]
     },
     "execution_count": 6,
     "metadata": {},
     "output_type": "execute_result"
    }
   ],
   "source": [
    "args = vaep.nb.args_from_dict(args)\n",
    "\n",
    "# # Currently not needed -> DotProduct used, not a FNN\n",
    "# if isinstance(args.hidden_layers, str):\n",
    "#     args.overwrite_entry(\"hidden_layers\", [int(x) for x in args.hidden_layers.split('_')])\n",
    "# else:\n",
    "#     raise ValueError(f\"hidden_layers is of unknown type {type(args.hidden_layers)}\")\n",
    "args"
   ]
  },
  {
   "cell_type": "markdown",
   "id": "3d59f6d8-9cb1-461a-8d62-2ab4458cab60",
   "metadata": {
    "papermill": {
     "duration": 0.008542,
     "end_time": "2024-06-12T02:21:15.558247",
     "exception": false,
     "start_time": "2024-06-12T02:21:15.549705",
     "status": "completed"
    },
    "tags": []
   },
   "source": [
    "Some naming conventions"
   ]
  },
  {
   "cell_type": "code",
   "execution_count": 7,
   "id": "a19fe098-a029-4f71-b7fb-e652a9c16ac7",
   "metadata": {
    "execution": {
     "iopub.execute_input": "2024-06-12T02:21:15.577059Z",
     "iopub.status.busy": "2024-06-12T02:21:15.576695Z",
     "iopub.status.idle": "2024-06-12T02:21:15.580618Z",
     "shell.execute_reply": "2024-06-12T02:21:15.579897Z"
    },
    "lines_to_next_cell": 2,
    "papermill": {
     "duration": 0.016801,
     "end_time": "2024-06-12T02:21:15.583490",
     "exception": false,
     "start_time": "2024-06-12T02:21:15.566689",
     "status": "completed"
    },
    "tags": [
     "hide-input"
    ]
   },
   "outputs": [],
   "source": [
    "TEMPLATE_MODEL_PARAMS = 'model_params_{}.json'\n",
    "\n",
    "if not args.cuda:\n",
    "    default_device(use=False)  # set to cpu"
   ]
  },
  {
   "cell_type": "markdown",
   "id": "976cc005-0c5f-4e88-9656-c549e613ca68",
   "metadata": {
    "papermill": {
     "duration": 0.008231,
     "end_time": "2024-06-12T02:21:15.600972",
     "exception": false,
     "start_time": "2024-06-12T02:21:15.592741",
     "status": "completed"
    },
    "tags": []
   },
   "source": [
    "## Load data in long format"
   ]
  },
  {
   "cell_type": "code",
   "execution_count": 8,
   "id": "6d9cc7bd-6b6f-40b9-8db7-c8228e4b03e3",
   "metadata": {
    "execution": {
     "iopub.execute_input": "2024-06-12T02:21:15.623068Z",
     "iopub.status.busy": "2024-06-12T02:21:15.622695Z",
     "iopub.status.idle": "2024-06-12T02:21:15.837242Z",
     "shell.execute_reply": "2024-06-12T02:21:15.836529Z"
    },
    "papermill": {
     "duration": 0.228995,
     "end_time": "2024-06-12T02:21:15.839114",
     "exception": false,
     "start_time": "2024-06-12T02:21:15.610119",
     "status": "completed"
    },
    "tags": [
     "hide-input"
    ]
   },
   "outputs": [
    {
     "name": "stdout",
     "output_type": "stream",
     "text": [
      "vaep.io.datasplits - INFO     Loaded 'train_X' from file: runs/alzheimer_study/data/train_X.csv\n"
     ]
    },
    {
     "name": "stdout",
     "output_type": "stream",
     "text": [
      "vaep.io.datasplits - INFO     Loaded 'val_y' from file: runs/alzheimer_study/data/val_y.csv\n"
     ]
    },
    {
     "name": "stdout",
     "output_type": "stream",
     "text": [
      "vaep.io.datasplits - INFO     Loaded 'test_y' from file: runs/alzheimer_study/data/test_y.csv\n"
     ]
    }
   ],
   "source": [
    "data = datasplits.DataSplits.from_folder(\n",
    "    args.data, file_format=args.file_format)"
   ]
  },
  {
   "cell_type": "markdown",
   "id": "3ca12fc2-bf34-42ac-99b2-a78ff9fe7722",
   "metadata": {
    "papermill": {
     "duration": 0.009356,
     "end_time": "2024-06-12T02:21:15.858643",
     "exception": false,
     "start_time": "2024-06-12T02:21:15.849287",
     "status": "completed"
    },
    "tags": []
   },
   "source": [
    "data is loaded in long format"
   ]
  },
  {
   "cell_type": "code",
   "execution_count": 9,
   "id": "02bb6bf5-0eb1-4c73-9723-414b14eaf7c8",
   "metadata": {
    "execution": {
     "iopub.execute_input": "2024-06-12T02:21:15.879032Z",
     "iopub.status.busy": "2024-06-12T02:21:15.878548Z",
     "iopub.status.idle": "2024-06-12T02:21:15.889384Z",
     "shell.execute_reply": "2024-06-12T02:21:15.888633Z"
    },
    "papermill": {
     "duration": 0.024264,
     "end_time": "2024-06-12T02:21:15.892331",
     "exception": false,
     "start_time": "2024-06-12T02:21:15.868067",
     "status": "completed"
    },
    "tags": [
     "hide-input"
    ]
   },
   "outputs": [
    {
     "data": {
      "text/plain": [
       "Sample ID   protein groups                                                                \n",
       "Sample_000  A0A024QZX5;A0A087X1N8;P35237                                                     15.912\n",
       "            A0A024R0T9;K7ER74;P02655                                                         16.852\n",
       "            A0A024R3W6;A0A024R412;O60462;O60462-2;O60462-3;O60462-4;O60462-5;Q7LBX6;X5D2Q8   15.570\n",
       "            A0A024R644;A0A0A0MRU5;A0A1B0GWI2;O75503                                          16.481\n",
       "            A0A075B6H7                                                                       17.301\n",
       "                                                                                              ...  \n",
       "Sample_209  Q9Y6R7                                                                           19.275\n",
       "            Q9Y6X5                                                                           15.732\n",
       "            Q9Y6Y8;Q9Y6Y8-2                                                                  19.577\n",
       "            Q9Y6Y9                                                                           11.042\n",
       "            S4R3U6                                                                           11.791\n",
       "Name: intensity, Length: 226809, dtype: float64"
      ]
     },
     "execution_count": 9,
     "metadata": {},
     "output_type": "execute_result"
    }
   ],
   "source": [
    "data.train_X"
   ]
  },
  {
   "cell_type": "code",
   "execution_count": 10,
   "id": "f3311709",
   "metadata": {
    "execution": {
     "iopub.execute_input": "2024-06-12T02:21:15.917422Z",
     "iopub.status.busy": "2024-06-12T02:21:15.917072Z",
     "iopub.status.idle": "2024-06-12T02:21:15.920542Z",
     "shell.execute_reply": "2024-06-12T02:21:15.919801Z"
    },
    "papermill": {
     "duration": 0.018701,
     "end_time": "2024-06-12T02:21:15.923632",
     "exception": false,
     "start_time": "2024-06-12T02:21:15.904931",
     "status": "completed"
    },
    "tags": [
     "hide-input"
    ]
   },
   "outputs": [],
   "source": [
    "# ! add check that specified data is available\n",
    "# silent error in fastai if e.g. target column is not available"
   ]
  },
  {
   "cell_type": "markdown",
   "id": "6045414b",
   "metadata": {
    "papermill": {
     "duration": 0.010477,
     "end_time": "2024-06-12T02:21:15.945056",
     "exception": false,
     "start_time": "2024-06-12T02:21:15.934579",
     "status": "completed"
    },
    "tags": []
   },
   "source": [
    "Infer index names from long format"
   ]
  },
  {
   "cell_type": "code",
   "execution_count": 11,
   "id": "44958473",
   "metadata": {
    "execution": {
     "iopub.execute_input": "2024-06-12T02:21:15.965899Z",
     "iopub.status.busy": "2024-06-12T02:21:15.965558Z",
     "iopub.status.idle": "2024-06-12T02:21:15.971616Z",
     "shell.execute_reply": "2024-06-12T02:21:15.970926Z"
    },
    "lines_to_next_cell": 2,
    "papermill": {
     "duration": 0.020905,
     "end_time": "2024-06-12T02:21:15.976146",
     "exception": false,
     "start_time": "2024-06-12T02:21:15.955241",
     "status": "completed"
    },
    "tags": [
     "hide-input"
    ]
   },
   "outputs": [
    {
     "name": "stdout",
     "output_type": "stream",
     "text": [
      "vaep - INFO     sample_id = 'Sample ID', single feature: index_column = 'protein groups'\n"
     ]
    }
   ],
   "source": [
    "index_columns = list(data.train_X.index.names)\n",
    "sample_id = index_columns.pop(args.sample_idx_position)\n",
    "if len(index_columns) == 1:\n",
    "    index_column = index_columns.pop()\n",
    "    index_columns = None\n",
    "    logger.info(f\"{sample_id = }, single feature: {index_column = }\")\n",
    "else:\n",
    "    logger.info(f\"{sample_id = }, multiple features: {index_columns = }\")\n",
    "\n",
    "if not index_columns:\n",
    "    index_columns = [sample_id, index_column]\n",
    "else:\n",
    "    raise NotImplementedError(\n",
    "        \"More than one feature: Needs to be implemented. see above logging output.\")"
   ]
  },
  {
   "cell_type": "markdown",
   "id": "a94ae06d-64dd-4f4f-abde-8485a8c8458e",
   "metadata": {
    "papermill": {
     "duration": 0.00818,
     "end_time": "2024-06-12T02:21:15.993465",
     "exception": false,
     "start_time": "2024-06-12T02:21:15.985285",
     "status": "completed"
    },
    "tags": []
   },
   "source": [
    "### Use some simulated missing for evaluation"
   ]
  },
  {
   "cell_type": "markdown",
   "id": "760dbbf8",
   "metadata": {
    "papermill": {
     "duration": 0.008195,
     "end_time": "2024-06-12T02:21:16.010111",
     "exception": false,
     "start_time": "2024-06-12T02:21:16.001916",
     "status": "completed"
    },
    "tags": []
   },
   "source": [
    "The validation simulated NA is used to by all models to evaluate training performance."
   ]
  },
  {
   "cell_type": "code",
   "execution_count": 12,
   "id": "b5b945aa-9b4e-4487-8b09-dca289e64d9d",
   "metadata": {
    "execution": {
     "iopub.execute_input": "2024-06-12T02:21:16.029910Z",
     "iopub.status.busy": "2024-06-12T02:21:16.029601Z",
     "iopub.status.idle": "2024-06-12T02:21:16.044229Z",
     "shell.execute_reply": "2024-06-12T02:21:16.043557Z"
    },
    "papermill": {
     "duration": 0.02683,
     "end_time": "2024-06-12T02:21:16.046143",
     "exception": false,
     "start_time": "2024-06-12T02:21:16.019313",
     "status": "completed"
    },
    "tags": [
     "hide-input"
    ]
   },
   "outputs": [
    {
     "data": {
      "text/html": [
       "<div>\n",
       "<style scoped>\n",
       "    .dataframe tbody tr th:only-of-type {\n",
       "        vertical-align: middle;\n",
       "    }\n",
       "\n",
       "    .dataframe tbody tr th {\n",
       "        vertical-align: top;\n",
       "    }\n",
       "\n",
       "    .dataframe thead th {\n",
       "        text-align: right;\n",
       "    }\n",
       "</style>\n",
       "<table border=\"1\" class=\"dataframe\">\n",
       "  <thead>\n",
       "    <tr style=\"text-align: right;\">\n",
       "      <th></th>\n",
       "      <th></th>\n",
       "      <th>observed</th>\n",
       "    </tr>\n",
       "    <tr>\n",
       "      <th>Sample ID</th>\n",
       "      <th>protein groups</th>\n",
       "      <th></th>\n",
       "    </tr>\n",
       "  </thead>\n",
       "  <tbody>\n",
       "    <tr>\n",
       "      <th>Sample_158</th>\n",
       "      <th>Q9UN70;Q9UN70-2</th>\n",
       "      <td>14.630</td>\n",
       "    </tr>\n",
       "    <tr>\n",
       "      <th>Sample_050</th>\n",
       "      <th>Q9Y287</th>\n",
       "      <td>15.755</td>\n",
       "    </tr>\n",
       "    <tr>\n",
       "      <th>Sample_107</th>\n",
       "      <th>Q8N475;Q8N475-2</th>\n",
       "      <td>15.029</td>\n",
       "    </tr>\n",
       "    <tr>\n",
       "      <th>Sample_199</th>\n",
       "      <th>P06307</th>\n",
       "      <td>19.376</td>\n",
       "    </tr>\n",
       "    <tr>\n",
       "      <th>Sample_067</th>\n",
       "      <th>Q5VUB5</th>\n",
       "      <td>15.309</td>\n",
       "    </tr>\n",
       "    <tr>\n",
       "      <th>...</th>\n",
       "      <th>...</th>\n",
       "      <td>...</td>\n",
       "    </tr>\n",
       "    <tr>\n",
       "      <th>Sample_111</th>\n",
       "      <th>F6SYF8;Q9UBP4</th>\n",
       "      <td>22.822</td>\n",
       "    </tr>\n",
       "    <tr>\n",
       "      <th>Sample_002</th>\n",
       "      <th>A0A0A0MT36</th>\n",
       "      <td>18.165</td>\n",
       "    </tr>\n",
       "    <tr>\n",
       "      <th>Sample_049</th>\n",
       "      <th>Q8WY21;Q8WY21-2;Q8WY21-3;Q8WY21-4</th>\n",
       "      <td>15.525</td>\n",
       "    </tr>\n",
       "    <tr>\n",
       "      <th>Sample_182</th>\n",
       "      <th>Q8NFT8</th>\n",
       "      <td>14.379</td>\n",
       "    </tr>\n",
       "    <tr>\n",
       "      <th>Sample_123</th>\n",
       "      <th>Q16853;Q16853-2</th>\n",
       "      <td>14.504</td>\n",
       "    </tr>\n",
       "  </tbody>\n",
       "</table>\n",
       "<p>12600 rows × 1 columns</p>\n",
       "</div>"
      ],
      "text/plain": [
       "                                              observed\n",
       "Sample ID  protein groups                             \n",
       "Sample_158 Q9UN70;Q9UN70-2                      14.630\n",
       "Sample_050 Q9Y287                               15.755\n",
       "Sample_107 Q8N475;Q8N475-2                      15.029\n",
       "Sample_199 P06307                               19.376\n",
       "Sample_067 Q5VUB5                               15.309\n",
       "...                                                ...\n",
       "Sample_111 F6SYF8;Q9UBP4                        22.822\n",
       "Sample_002 A0A0A0MT36                           18.165\n",
       "Sample_049 Q8WY21;Q8WY21-2;Q8WY21-3;Q8WY21-4    15.525\n",
       "Sample_182 Q8NFT8                               14.379\n",
       "Sample_123 Q16853;Q16853-2                      14.504\n",
       "\n",
       "[12600 rows x 1 columns]"
      ]
     },
     "execution_count": 12,
     "metadata": {},
     "output_type": "execute_result"
    }
   ],
   "source": [
    "val_pred_simulated_na = data.val_y.to_frame(name='observed')\n",
    "val_pred_simulated_na"
   ]
  },
  {
   "cell_type": "code",
   "execution_count": 13,
   "id": "98558b10",
   "metadata": {
    "execution": {
     "iopub.execute_input": "2024-06-12T02:21:16.066702Z",
     "iopub.status.busy": "2024-06-12T02:21:16.066364Z",
     "iopub.status.idle": "2024-06-12T02:21:16.081341Z",
     "shell.execute_reply": "2024-06-12T02:21:16.080602Z"
    },
    "lines_to_next_cell": 2,
    "papermill": {
     "duration": 0.027339,
     "end_time": "2024-06-12T02:21:16.083289",
     "exception": false,
     "start_time": "2024-06-12T02:21:16.055950",
     "status": "completed"
    },
    "tags": [
     "hide-input"
    ]
   },
   "outputs": [
    {
     "data": {
      "text/html": [
       "<div>\n",
       "<style scoped>\n",
       "    .dataframe tbody tr th:only-of-type {\n",
       "        vertical-align: middle;\n",
       "    }\n",
       "\n",
       "    .dataframe tbody tr th {\n",
       "        vertical-align: top;\n",
       "    }\n",
       "\n",
       "    .dataframe thead th {\n",
       "        text-align: right;\n",
       "    }\n",
       "</style>\n",
       "<table border=\"1\" class=\"dataframe\">\n",
       "  <thead>\n",
       "    <tr style=\"text-align: right;\">\n",
       "      <th></th>\n",
       "      <th>observed</th>\n",
       "    </tr>\n",
       "  </thead>\n",
       "  <tbody>\n",
       "    <tr>\n",
       "      <th>count</th>\n",
       "      <td>12,600.000</td>\n",
       "    </tr>\n",
       "    <tr>\n",
       "      <th>mean</th>\n",
       "      <td>16.339</td>\n",
       "    </tr>\n",
       "    <tr>\n",
       "      <th>std</th>\n",
       "      <td>2.741</td>\n",
       "    </tr>\n",
       "    <tr>\n",
       "      <th>min</th>\n",
       "      <td>7.209</td>\n",
       "    </tr>\n",
       "    <tr>\n",
       "      <th>25%</th>\n",
       "      <td>14.412</td>\n",
       "    </tr>\n",
       "    <tr>\n",
       "      <th>50%</th>\n",
       "      <td>15.935</td>\n",
       "    </tr>\n",
       "    <tr>\n",
       "      <th>75%</th>\n",
       "      <td>17.910</td>\n",
       "    </tr>\n",
       "    <tr>\n",
       "      <th>max</th>\n",
       "      <td>30.140</td>\n",
       "    </tr>\n",
       "  </tbody>\n",
       "</table>\n",
       "</div>"
      ],
      "text/plain": [
       "        observed\n",
       "count 12,600.000\n",
       "mean      16.339\n",
       "std        2.741\n",
       "min        7.209\n",
       "25%       14.412\n",
       "50%       15.935\n",
       "75%       17.910\n",
       "max       30.140"
      ]
     },
     "execution_count": 13,
     "metadata": {},
     "output_type": "execute_result"
    }
   ],
   "source": [
    "test_pred_simulated_na = data.test_y.to_frame(name='observed')\n",
    "test_pred_simulated_na.describe()"
   ]
  },
  {
   "cell_type": "markdown",
   "id": "d00ea8e9-7f48-4f72-b013-7010666aa1a2",
   "metadata": {
    "papermill": {
     "duration": 0.009517,
     "end_time": "2024-06-12T02:21:16.103038",
     "exception": false,
     "start_time": "2024-06-12T02:21:16.093521",
     "status": "completed"
    },
    "tags": []
   },
   "source": [
    "## Collaborative Filtering\n",
    "\n",
    "- save custom collab batch size (increase AE batch size by a factor), could be setup separately.\n",
    "- the test data is used to evaluate the performance after training"
   ]
  },
  {
   "cell_type": "code",
   "execution_count": 14,
   "id": "3ee54305-266a-479a-b677-f151ddde250a",
   "metadata": {
    "execution": {
     "iopub.execute_input": "2024-06-12T02:21:16.123714Z",
     "iopub.status.busy": "2024-06-12T02:21:16.123396Z",
     "iopub.status.idle": "2024-06-12T02:21:16.652539Z",
     "shell.execute_reply": "2024-06-12T02:21:16.651809Z"
    },
    "papermill": {
     "duration": 0.541808,
     "end_time": "2024-06-12T02:21:16.654603",
     "exception": false,
     "start_time": "2024-06-12T02:21:16.112795",
     "status": "completed"
    },
    "tags": [
     "hide-input"
    ]
   },
   "outputs": [],
   "source": [
    "# larger mini-batches speed up training\n",
    "ana_collab = models.collab.CollabAnalysis(\n",
    "    datasplits=data,\n",
    "    sample_column=sample_id,\n",
    "    item_column=index_column,  # not generic\n",
    "    target_column='intensity',\n",
    "    model_kwargs=dict(n_factors=args.latent_dim,\n",
    "                      y_range=(int(data.train_X.min()),\n",
    "                               int(data.train_X.max()) + 1)\n",
    "                      ),\n",
    "    batch_size=args.batch_size)"
   ]
  },
  {
   "cell_type": "code",
   "execution_count": 15,
   "id": "12ffa243-151e-4220-a1d5-247f8aba3429",
   "metadata": {
    "execution": {
     "iopub.execute_input": "2024-06-12T02:21:16.674888Z",
     "iopub.status.busy": "2024-06-12T02:21:16.674586Z",
     "iopub.status.idle": "2024-06-12T02:21:16.678295Z",
     "shell.execute_reply": "2024-06-12T02:21:16.677720Z"
    },
    "lines_to_next_cell": 2,
    "papermill": {
     "duration": 0.017477,
     "end_time": "2024-06-12T02:21:16.681618",
     "exception": false,
     "start_time": "2024-06-12T02:21:16.664141",
     "status": "completed"
    },
    "tags": [
     "hide-input"
    ]
   },
   "outputs": [
    {
     "name": "stdout",
     "output_type": "stream",
     "text": [
      "Args:\n",
      "{'n_factors': 50, 'y_range': (7, 31)}\n"
     ]
    }
   ],
   "source": [
    "print(\"Args:\")\n",
    "pprint(ana_collab.model_kwargs)"
   ]
  },
  {
   "cell_type": "code",
   "execution_count": 16,
   "id": "4a02e061-6789-4f3d-8031-a40879c496c8",
   "metadata": {
    "execution": {
     "iopub.execute_input": "2024-06-12T02:21:16.702320Z",
     "iopub.status.busy": "2024-06-12T02:21:16.702023Z",
     "iopub.status.idle": "2024-06-12T02:21:16.714403Z",
     "shell.execute_reply": "2024-06-12T02:21:16.713758Z"
    },
    "papermill": {
     "duration": 0.024351,
     "end_time": "2024-06-12T02:21:16.716130",
     "exception": false,
     "start_time": "2024-06-12T02:21:16.691779",
     "status": "completed"
    },
    "tags": [
     "hide-input"
    ]
   },
   "outputs": [],
   "source": [
    "ana_collab.model = EmbeddingDotBias.from_classes(\n",
    "    classes=ana_collab.dls.classes,\n",
    "    **ana_collab.model_kwargs)\n",
    "\n",
    "args.n_params = models.calc_net_weight_count(ana_collab.model)\n",
    "ana_collab.params['n_parameters'] = args.n_params\n",
    "ana_collab.learn = Learner(dls=ana_collab.dls, model=ana_collab.model, loss_func=MSELossFlat(),\n",
    "                           cbs=EarlyStoppingCallback(patience=args.patience),\n",
    "                           model_dir=args.out_models)\n",
    "if args.cuda:\n",
    "    ana_collab.learn.model = ana_collab.learn.model.cuda()\n",
    "else:\n",
    "    # try to set explicitly cpu in case not cuda\n",
    "    # MPS logic might not work properly in fastai yet https://github.com/fastai/fastai/pull/3858\n",
    "    ana_collab.learn.model = ana_collab.learn.model.cpu()\n",
    "\n",
    "# learn.summary() # see comment at DAE"
   ]
  },
  {
   "cell_type": "markdown",
   "id": "f82a7346-0b44-44a4-b995-d655e05656f8",
   "metadata": {
    "papermill": {
     "duration": 0.009277,
     "end_time": "2024-06-12T02:21:16.734864",
     "exception": false,
     "start_time": "2024-06-12T02:21:16.725587",
     "status": "completed"
    },
    "tags": []
   },
   "source": [
    "### Training"
   ]
  },
  {
   "cell_type": "code",
   "execution_count": 17,
   "id": "8317c9e1-d128-4ab4-8d60-775cb85ef535",
   "metadata": {
    "execution": {
     "iopub.execute_input": "2024-06-12T02:21:16.755273Z",
     "iopub.status.busy": "2024-06-12T02:21:16.754963Z",
     "iopub.status.idle": "2024-06-12T02:21:49.109897Z",
     "shell.execute_reply": "2024-06-12T02:21:49.109239Z"
    },
    "papermill": {
     "duration": 32.367365,
     "end_time": "2024-06-12T02:21:49.111671",
     "exception": false,
     "start_time": "2024-06-12T02:21:16.744306",
     "status": "completed"
    },
    "tags": [
     "hide-input"
    ]
   },
   "outputs": [
    {
     "data": {
      "text/html": [
       "\n",
       "<style>\n",
       "    /* Turns off some styling */\n",
       "    progress {\n",
       "        /* gets rid of default border in Firefox and Opera. */\n",
       "        border: none;\n",
       "        /* Needs to be in here for Safari polyfill so background images work as expected. */\n",
       "        background-size: auto;\n",
       "    }\n",
       "    progress:not([value]), progress:not([value])::-webkit-progress-bar {\n",
       "        background: repeating-linear-gradient(45deg, #7e7e7e, #7e7e7e 10px, #5c5c5c 10px, #5c5c5c 20px);\n",
       "    }\n",
       "    .progress-bar-interrupted, .progress-bar-interrupted::-webkit-progress-bar {\n",
       "        background: #F44336;\n",
       "    }\n",
       "</style>\n"
      ],
      "text/plain": [
       "<IPython.core.display.HTML object>"
      ]
     },
     "metadata": {},
     "output_type": "display_data"
    },
    {
     "data": {
      "text/html": [],
      "text/plain": [
       "<IPython.core.display.HTML object>"
      ]
     },
     "metadata": {},
     "output_type": "display_data"
    },
    {
     "name": "stdout",
     "output_type": "stream",
     "text": [
      "suggested_lr.valley = 0.00302\n"
     ]
    },
    {
     "data": {
      "text/html": [
       "\n",
       "<style>\n",
       "    /* Turns off some styling */\n",
       "    progress {\n",
       "        /* gets rid of default border in Firefox and Opera. */\n",
       "        border: none;\n",
       "        /* Needs to be in here for Safari polyfill so background images work as expected. */\n",
       "        background-size: auto;\n",
       "    }\n",
       "    progress:not([value]), progress:not([value])::-webkit-progress-bar {\n",
       "        background: repeating-linear-gradient(45deg, #7e7e7e, #7e7e7e 10px, #5c5c5c 10px, #5c5c5c 20px);\n",
       "    }\n",
       "    .progress-bar-interrupted, .progress-bar-interrupted::-webkit-progress-bar {\n",
       "        background: #F44336;\n",
       "    }\n",
       "</style>\n"
      ],
      "text/plain": [
       "<IPython.core.display.HTML object>"
      ]
     },
     "metadata": {},
     "output_type": "display_data"
    },
    {
     "data": {
      "text/html": [
       "<table border=\"1\" class=\"dataframe\">\n",
       "  <thead>\n",
       "    <tr style=\"text-align: left;\">\n",
       "      <th>epoch</th>\n",
       "      <th>train_loss</th>\n",
       "      <th>valid_loss</th>\n",
       "      <th>time</th>\n",
       "    </tr>\n",
       "  </thead>\n",
       "  <tbody>\n",
       "    <tr>\n",
       "      <td>0</td>\n",
       "      <td>8.911344</td>\n",
       "      <td>13.146944</td>\n",
       "      <td>00:01</td>\n",
       "    </tr>\n",
       "    <tr>\n",
       "      <td>1</td>\n",
       "      <td>7.143838</td>\n",
       "      <td>10.466833</td>\n",
       "      <td>00:01</td>\n",
       "    </tr>\n",
       "    <tr>\n",
       "      <td>2</td>\n",
       "      <td>3.878257</td>\n",
       "      <td>5.535239</td>\n",
       "      <td>00:01</td>\n",
       "    </tr>\n",
       "    <tr>\n",
       "      <td>3</td>\n",
       "      <td>1.418271</td>\n",
       "      <td>2.013826</td>\n",
       "      <td>00:01</td>\n",
       "    </tr>\n",
       "    <tr>\n",
       "      <td>4</td>\n",
       "      <td>0.715362</td>\n",
       "      <td>0.949652</td>\n",
       "      <td>00:01</td>\n",
       "    </tr>\n",
       "    <tr>\n",
       "      <td>5</td>\n",
       "      <td>0.578714</td>\n",
       "      <td>0.755472</td>\n",
       "      <td>00:01</td>\n",
       "    </tr>\n",
       "    <tr>\n",
       "      <td>6</td>\n",
       "      <td>0.548215</td>\n",
       "      <td>0.732264</td>\n",
       "      <td>00:01</td>\n",
       "    </tr>\n",
       "    <tr>\n",
       "      <td>7</td>\n",
       "      <td>0.542492</td>\n",
       "      <td>0.731495</td>\n",
       "      <td>00:01</td>\n",
       "    </tr>\n",
       "    <tr>\n",
       "      <td>8</td>\n",
       "      <td>0.528316</td>\n",
       "      <td>0.686635</td>\n",
       "      <td>00:01</td>\n",
       "    </tr>\n",
       "    <tr>\n",
       "      <td>9</td>\n",
       "      <td>0.446083</td>\n",
       "      <td>0.617690</td>\n",
       "      <td>00:01</td>\n",
       "    </tr>\n",
       "    <tr>\n",
       "      <td>10</td>\n",
       "      <td>0.397760</td>\n",
       "      <td>0.557945</td>\n",
       "      <td>00:01</td>\n",
       "    </tr>\n",
       "    <tr>\n",
       "      <td>11</td>\n",
       "      <td>0.375954</td>\n",
       "      <td>0.521005</td>\n",
       "      <td>00:01</td>\n",
       "    </tr>\n",
       "    <tr>\n",
       "      <td>12</td>\n",
       "      <td>0.346355</td>\n",
       "      <td>0.504360</td>\n",
       "      <td>00:01</td>\n",
       "    </tr>\n",
       "    <tr>\n",
       "      <td>13</td>\n",
       "      <td>0.319758</td>\n",
       "      <td>0.481004</td>\n",
       "      <td>00:01</td>\n",
       "    </tr>\n",
       "    <tr>\n",
       "      <td>14</td>\n",
       "      <td>0.283289</td>\n",
       "      <td>0.463086</td>\n",
       "      <td>00:01</td>\n",
       "    </tr>\n",
       "    <tr>\n",
       "      <td>15</td>\n",
       "      <td>0.255832</td>\n",
       "      <td>0.459539</td>\n",
       "      <td>00:01</td>\n",
       "    </tr>\n",
       "    <tr>\n",
       "      <td>16</td>\n",
       "      <td>0.220841</td>\n",
       "      <td>0.449861</td>\n",
       "      <td>00:01</td>\n",
       "    </tr>\n",
       "    <tr>\n",
       "      <td>17</td>\n",
       "      <td>0.209065</td>\n",
       "      <td>0.458697</td>\n",
       "      <td>00:01</td>\n",
       "    </tr>\n",
       "  </tbody>\n",
       "</table>"
      ],
      "text/plain": [
       "<IPython.core.display.HTML object>"
      ]
     },
     "metadata": {},
     "output_type": "display_data"
    },
    {
     "name": "stdout",
     "output_type": "stream",
     "text": [
      "No improvement since epoch 16: early stopping\n"
     ]
    },
    {
     "name": "stdout",
     "output_type": "stream",
     "text": [
      "vaep.plotting - INFO     Saved Figures to runs/alzheimer_study/figures/collab_training\n"
     ]
    },
    {
     "data": {
      "image/png": "[encoded data removed]",
      "text/plain": [
       "<Figure size 2352x1029 with 1 Axes>"
      ]
     },
     "metadata": {},
     "output_type": "display_data"
    },
    {
     "data": {
      "image/png": "[encoded data removed]",
      "text/plain": [
       "<Figure size 2205x1176 with 1 Axes>"
      ]
     },
     "metadata": {},
     "output_type": "display_data"
    }
   ],
   "source": [
    "# papermill_description=train_collab\n",
    "suggested_lr = ana_collab.learn.lr_find()\n",
    "print(f\"{suggested_lr.valley = :.5f}\")\n",
    "ana_collab.learn.fit_one_cycle(args.epochs_max, lr_max=suggested_lr.valley)\n",
    "args.epoch_trained = ana_collab.learn.epoch + 1\n",
    "# ana_collab.learn.fit_one_cycle(args.epochs_max, lr_max=1e-3)\n",
    "ana_collab.model_kwargs['suggested_inital_lr'] = suggested_lr.valley\n",
    "ana_collab.learn.save('collab_model')\n",
    "fig, ax = plt.subplots(figsize=(15, 8))\n",
    "ax.set_title('CF loss: Reconstruction loss')\n",
    "ana_collab.learn.recorder.plot_loss(skip_start=5, ax=ax)\n",
    "recorder_dump = RecorderDump(\n",
    "    recorder=ana_collab.learn.recorder, name='CF')\n",
    "recorder_dump.save(args.out_figures)\n",
    "del recorder_dump\n",
    "vaep.savefig(fig, name='collab_training',\n",
    "             folder=args.out_figures)\n",
    "ana_collab.model_kwargs['batch_size'] = ana_collab.batch_size\n",
    "vaep.io.dump_json(ana_collab.model_kwargs, args.out_models /\n",
    "                  TEMPLATE_MODEL_PARAMS.format('CF'))"
   ]
  },
  {
   "cell_type": "markdown",
   "id": "e979b7f0-a673-4d3d-9d53-6ac02618eaed",
   "metadata": {
    "papermill": {
     "duration": 0.012061,
     "end_time": "2024-06-12T02:21:49.136942",
     "exception": false,
     "start_time": "2024-06-12T02:21:49.124881",
     "status": "completed"
    },
    "tags": []
   },
   "source": [
    "### Predictions"
   ]
  },
  {
   "cell_type": "markdown",
   "id": "6ee5b225-d50a-4189-9995-ad99c4d47a45",
   "metadata": {
    "papermill": {
     "duration": 0.048397,
     "end_time": "2024-06-12T02:21:49.197545",
     "exception": false,
     "start_time": "2024-06-12T02:21:49.149148",
     "status": "completed"
    },
    "tags": []
   },
   "source": [
    "Compare simulated_na data predictions to original values"
   ]
  },
  {
   "cell_type": "code",
   "execution_count": 18,
   "id": "bb76e6c5-e135-41c4-95e8-a56c3764c731",
   "metadata": {
    "execution": {
     "iopub.execute_input": "2024-06-12T02:21:49.240442Z",
     "iopub.status.busy": "2024-06-12T02:21:49.239731Z",
     "iopub.status.idle": "2024-06-12T02:21:49.354486Z",
     "shell.execute_reply": "2024-06-12T02:21:49.353881Z"
    },
    "lines_to_next_cell": 2,
    "papermill": {
     "duration": 0.146482,
     "end_time": "2024-06-12T02:21:49.356082",
     "exception": false,
     "start_time": "2024-06-12T02:21:49.209600",
     "status": "completed"
    },
    "tags": [
     "hide-input"
    ]
   },
   "outputs": [
    {
     "data": {
      "text/html": [
       "\n",
       "<style>\n",
       "    /* Turns off some styling */\n",
       "    progress {\n",
       "        /* gets rid of default border in Firefox and Opera. */\n",
       "        border: none;\n",
       "        /* Needs to be in here for Safari polyfill so background images work as expected. */\n",
       "        background-size: auto;\n",
       "    }\n",
       "    progress:not([value]), progress:not([value])::-webkit-progress-bar {\n",
       "        background: repeating-linear-gradient(45deg, #7e7e7e, #7e7e7e 10px, #5c5c5c 10px, #5c5c5c 20px);\n",
       "    }\n",
       "    .progress-bar-interrupted, .progress-bar-interrupted::-webkit-progress-bar {\n",
       "        background: #F44336;\n",
       "    }\n",
       "</style>\n"
      ],
      "text/plain": [
       "<IPython.core.display.HTML object>"
      ]
     },
     "metadata": {},
     "output_type": "display_data"
    },
    {
     "data": {
      "text/html": [],
      "text/plain": [
       "<IPython.core.display.HTML object>"
      ]
     },
     "metadata": {},
     "output_type": "display_data"
    },
    {
     "data": {
      "text/html": [
       "<div>\n",
       "<style scoped>\n",
       "    .dataframe tbody tr th:only-of-type {\n",
       "        vertical-align: middle;\n",
       "    }\n",
       "\n",
       "    .dataframe tbody tr th {\n",
       "        vertical-align: top;\n",
       "    }\n",
       "\n",
       "    .dataframe thead th {\n",
       "        text-align: right;\n",
       "    }\n",
       "</style>\n",
       "<table border=\"1\" class=\"dataframe\">\n",
       "  <thead>\n",
       "    <tr style=\"text-align: right;\">\n",
       "      <th></th>\n",
       "      <th></th>\n",
       "      <th>observed</th>\n",
       "      <th>CF</th>\n",
       "    </tr>\n",
       "    <tr>\n",
       "      <th>Sample ID</th>\n",
       "      <th>protein groups</th>\n",
       "      <th></th>\n",
       "      <th></th>\n",
       "    </tr>\n",
       "  </thead>\n",
       "  <tbody>\n",
       "    <tr>\n",
       "      <th>Sample_158</th>\n",
       "      <th>Q9UN70;Q9UN70-2</th>\n",
       "      <td>14.630</td>\n",
       "      <td>15.720</td>\n",
       "    </tr>\n",
       "    <tr>\n",
       "      <th>Sample_050</th>\n",
       "      <th>Q9Y287</th>\n",
       "      <td>15.755</td>\n",
       "      <td>16.451</td>\n",
       "    </tr>\n",
       "    <tr>\n",
       "      <th>Sample_107</th>\n",
       "      <th>Q8N475;Q8N475-2</th>\n",
       "      <td>15.029</td>\n",
       "      <td>13.905</td>\n",
       "    </tr>\n",
       "    <tr>\n",
       "      <th>Sample_199</th>\n",
       "      <th>P06307</th>\n",
       "      <td>19.376</td>\n",
       "      <td>19.659</td>\n",
       "    </tr>\n",
       "    <tr>\n",
       "      <th>Sample_067</th>\n",
       "      <th>Q5VUB5</th>\n",
       "      <td>15.309</td>\n",
       "      <td>15.266</td>\n",
       "    </tr>\n",
       "    <tr>\n",
       "      <th>...</th>\n",
       "      <th>...</th>\n",
       "      <td>...</td>\n",
       "      <td>...</td>\n",
       "    </tr>\n",
       "    <tr>\n",
       "      <th>Sample_111</th>\n",
       "      <th>F6SYF8;Q9UBP4</th>\n",
       "      <td>22.822</td>\n",
       "      <td>22.768</td>\n",
       "    </tr>\n",
       "    <tr>\n",
       "      <th>Sample_002</th>\n",
       "      <th>A0A0A0MT36</th>\n",
       "      <td>18.165</td>\n",
       "      <td>16.505</td>\n",
       "    </tr>\n",
       "    <tr>\n",
       "      <th>Sample_049</th>\n",
       "      <th>Q8WY21;Q8WY21-2;Q8WY21-3;Q8WY21-4</th>\n",
       "      <td>15.525</td>\n",
       "      <td>14.895</td>\n",
       "    </tr>\n",
       "    <tr>\n",
       "      <th>Sample_182</th>\n",
       "      <th>Q8NFT8</th>\n",
       "      <td>14.379</td>\n",
       "      <td>13.435</td>\n",
       "    </tr>\n",
       "    <tr>\n",
       "      <th>Sample_123</th>\n",
       "      <th>Q16853;Q16853-2</th>\n",
       "      <td>14.504</td>\n",
       "      <td>14.487</td>\n",
       "    </tr>\n",
       "  </tbody>\n",
       "</table>\n",
       "<p>12600 rows × 2 columns</p>\n",
       "</div>"
      ],
      "text/plain": [
       "                                              observed     CF\n",
       "Sample ID  protein groups                                    \n",
       "Sample_158 Q9UN70;Q9UN70-2                      14.630 15.720\n",
       "Sample_050 Q9Y287                               15.755 16.451\n",
       "Sample_107 Q8N475;Q8N475-2                      15.029 13.905\n",
       "Sample_199 P06307                               19.376 19.659\n",
       "Sample_067 Q5VUB5                               15.309 15.266\n",
       "...                                                ...    ...\n",
       "Sample_111 F6SYF8;Q9UBP4                        22.822 22.768\n",
       "Sample_002 A0A0A0MT36                           18.165 16.505\n",
       "Sample_049 Q8WY21;Q8WY21-2;Q8WY21-3;Q8WY21-4    15.525 14.895\n",
       "Sample_182 Q8NFT8                               14.379 13.435\n",
       "Sample_123 Q16853;Q16853-2                      14.504 14.487\n",
       "\n",
       "[12600 rows x 2 columns]"
      ]
     },
     "execution_count": 18,
     "metadata": {},
     "output_type": "execute_result"
    }
   ],
   "source": [
    "# this could be done using the validation data laoder now\n",
    "ana_collab.test_dl = ana_collab.dls.test_dl(\n",
    "    data.val_y.reset_index())  # test_dl is here validation data\n",
    "val_pred_simulated_na['CF'], _ = ana_collab.learn.get_preds(\n",
    "    dl=ana_collab.test_dl)\n",
    "val_pred_simulated_na"
   ]
  },
  {
   "cell_type": "markdown",
   "id": "bd22f63f-be3f-4f25-ad60-bafd6b028bd7",
   "metadata": {
    "papermill": {
     "duration": 0.012033,
     "end_time": "2024-06-12T02:21:49.380288",
     "exception": false,
     "start_time": "2024-06-12T02:21:49.368255",
     "status": "completed"
    },
    "tags": []
   },
   "source": [
    "select test data predictions"
   ]
  },
  {
   "cell_type": "code",
   "execution_count": 19,
   "id": "c7f0c597-d3c7-42d0-a6ef-3bc4c13121b8",
   "metadata": {
    "execution": {
     "iopub.execute_input": "2024-06-12T02:21:49.405366Z",
     "iopub.status.busy": "2024-06-12T02:21:49.405056Z",
     "iopub.status.idle": "2024-06-12T02:21:49.508821Z",
     "shell.execute_reply": "2024-06-12T02:21:49.508115Z"
    },
    "papermill": {
     "duration": 0.118284,
     "end_time": "2024-06-12T02:21:49.510379",
     "exception": false,
     "start_time": "2024-06-12T02:21:49.392095",
     "status": "completed"
    },
    "tags": [
     "hide-input"
    ]
   },
   "outputs": [
    {
     "data": {
      "text/html": [
       "\n",
       "<style>\n",
       "    /* Turns off some styling */\n",
       "    progress {\n",
       "        /* gets rid of default border in Firefox and Opera. */\n",
       "        border: none;\n",
       "        /* Needs to be in here for Safari polyfill so background images work as expected. */\n",
       "        background-size: auto;\n",
       "    }\n",
       "    progress:not([value]), progress:not([value])::-webkit-progress-bar {\n",
       "        background: repeating-linear-gradient(45deg, #7e7e7e, #7e7e7e 10px, #5c5c5c 10px, #5c5c5c 20px);\n",
       "    }\n",
       "    .progress-bar-interrupted, .progress-bar-interrupted::-webkit-progress-bar {\n",
       "        background: #F44336;\n",
       "    }\n",
       "</style>\n"
      ],
      "text/plain": [
       "<IPython.core.display.HTML object>"
      ]
     },
     "metadata": {},
     "output_type": "display_data"
    },
    {
     "data": {
      "text/html": [],
      "text/plain": [
       "<IPython.core.display.HTML object>"
      ]
     },
     "metadata": {},
     "output_type": "display_data"
    },
    {
     "data": {
      "text/html": [
       "<div>\n",
       "<style scoped>\n",
       "    .dataframe tbody tr th:only-of-type {\n",
       "        vertical-align: middle;\n",
       "    }\n",
       "\n",
       "    .dataframe tbody tr th {\n",
       "        vertical-align: top;\n",
       "    }\n",
       "\n",
       "    .dataframe thead th {\n",
       "        text-align: right;\n",
       "    }\n",
       "</style>\n",
       "<table border=\"1\" class=\"dataframe\">\n",
       "  <thead>\n",
       "    <tr style=\"text-align: right;\">\n",
       "      <th></th>\n",
       "      <th></th>\n",
       "      <th>observed</th>\n",
       "      <th>CF</th>\n",
       "    </tr>\n",
       "    <tr>\n",
       "      <th>Sample ID</th>\n",
       "      <th>protein groups</th>\n",
       "      <th></th>\n",
       "      <th></th>\n",
       "    </tr>\n",
       "  </thead>\n",
       "  <tbody>\n",
       "    <tr>\n",
       "      <th rowspan=\"5\" valign=\"top\">Sample_000</th>\n",
       "      <th>A0A075B6P5;P01615</th>\n",
       "      <td>17.016</td>\n",
       "      <td>17.312</td>\n",
       "    </tr>\n",
       "    <tr>\n",
       "      <th>A0A087X089;Q16627;Q16627-2</th>\n",
       "      <td>18.280</td>\n",
       "      <td>17.887</td>\n",
       "    </tr>\n",
       "    <tr>\n",
       "      <th>A0A0B4J2B5;S4R460</th>\n",
       "      <td>21.735</td>\n",
       "      <td>22.493</td>\n",
       "    </tr>\n",
       "    <tr>\n",
       "      <th>A0A140T971;O95865;Q5SRR8;Q5SSV3</th>\n",
       "      <td>14.603</td>\n",
       "      <td>15.307</td>\n",
       "    </tr>\n",
       "    <tr>\n",
       "      <th>A0A140TA33;A0A140TA41;A0A140TA52;P22105;P22105-3;P22105-4</th>\n",
       "      <td>16.143</td>\n",
       "      <td>16.697</td>\n",
       "    </tr>\n",
       "    <tr>\n",
       "      <th>...</th>\n",
       "      <th>...</th>\n",
       "      <td>...</td>\n",
       "      <td>...</td>\n",
       "    </tr>\n",
       "    <tr>\n",
       "      <th rowspan=\"5\" valign=\"top\">Sample_209</th>\n",
       "      <th>Q96ID5</th>\n",
       "      <td>16.074</td>\n",
       "      <td>16.010</td>\n",
       "    </tr>\n",
       "    <tr>\n",
       "      <th>Q9H492;Q9H492-2</th>\n",
       "      <td>13.173</td>\n",
       "      <td>13.577</td>\n",
       "    </tr>\n",
       "    <tr>\n",
       "      <th>Q9HC57</th>\n",
       "      <td>14.207</td>\n",
       "      <td>13.755</td>\n",
       "    </tr>\n",
       "    <tr>\n",
       "      <th>Q9NPH3;Q9NPH3-2;Q9NPH3-5</th>\n",
       "      <td>14.962</td>\n",
       "      <td>15.502</td>\n",
       "    </tr>\n",
       "    <tr>\n",
       "      <th>Q9UGM5;Q9UGM5-2</th>\n",
       "      <td>16.871</td>\n",
       "      <td>16.282</td>\n",
       "    </tr>\n",
       "  </tbody>\n",
       "</table>\n",
       "<p>12600 rows × 2 columns</p>\n",
       "</div>"
      ],
      "text/plain": [
       "                                                                      observed  \\\n",
       "Sample ID  protein groups                                                        \n",
       "Sample_000 A0A075B6P5;P01615                                            17.016   \n",
       "           A0A087X089;Q16627;Q16627-2                                   18.280   \n",
       "           A0A0B4J2B5;S4R460                                            21.735   \n",
       "           A0A140T971;O95865;Q5SRR8;Q5SSV3                              14.603   \n",
       "           A0A140TA33;A0A140TA41;A0A140TA52;P22105;P22105-3;P22105-4    16.143   \n",
       "...                                                                        ...   \n",
       "Sample_209 Q96ID5                                                       16.074   \n",
       "           Q9H492;Q9H492-2                                              13.173   \n",
       "           Q9HC57                                                       14.207   \n",
       "           Q9NPH3;Q9NPH3-2;Q9NPH3-5                                     14.962   \n",
       "           Q9UGM5;Q9UGM5-2                                              16.871   \n",
       "\n",
       "                                                                         CF  \n",
       "Sample ID  protein groups                                                    \n",
       "Sample_000 A0A075B6P5;P01615                                         17.312  \n",
       "           A0A087X089;Q16627;Q16627-2                                17.887  \n",
       "           A0A0B4J2B5;S4R460                                         22.493  \n",
       "           A0A140T971;O95865;Q5SRR8;Q5SSV3                           15.307  \n",
       "           A0A140TA33;A0A140TA41;A0A140TA52;P22105;P22105-3;P22105-4 16.697  \n",
       "...                                                                     ...  \n",
       "Sample_209 Q96ID5                                                    16.010  \n",
       "           Q9H492;Q9H492-2                                           13.577  \n",
       "           Q9HC57                                                    13.755  \n",
       "           Q9NPH3;Q9NPH3-2;Q9NPH3-5                                  15.502  \n",
       "           Q9UGM5;Q9UGM5-2                                           16.282  \n",
       "\n",
       "[12600 rows x 2 columns]"
      ]
     },
     "execution_count": 19,
     "metadata": {},
     "output_type": "execute_result"
    }
   ],
   "source": [
    "ana_collab.test_dl = ana_collab.dls.test_dl(data.test_y.reset_index())\n",
    "test_pred_simulated_na['CF'], _ = ana_collab.learn.get_preds(dl=ana_collab.test_dl)\n",
    "test_pred_simulated_na"
   ]
  },
  {
   "cell_type": "code",
   "execution_count": 20,
   "id": "1cd76df6",
   "metadata": {
    "execution": {
     "iopub.execute_input": "2024-06-12T02:21:49.537390Z",
     "iopub.status.busy": "2024-06-12T02:21:49.537103Z",
     "iopub.status.idle": "2024-06-12T02:21:50.204702Z",
     "shell.execute_reply": "2024-06-12T02:21:50.203980Z"
    },
    "lines_to_next_cell": 2,
    "papermill": {
     "duration": 0.682734,
     "end_time": "2024-06-12T02:21:50.206540",
     "exception": false,
     "start_time": "2024-06-12T02:21:49.523806",
     "status": "completed"
    },
    "tags": [
     "hide-input"
    ]
   },
   "outputs": [
    {
     "data": {
      "text/html": [
       "\n",
       "<style>\n",
       "    /* Turns off some styling */\n",
       "    progress {\n",
       "        /* gets rid of default border in Firefox and Opera. */\n",
       "        border: none;\n",
       "        /* Needs to be in here for Safari polyfill so background images work as expected. */\n",
       "        background-size: auto;\n",
       "    }\n",
       "    progress:not([value]), progress:not([value])::-webkit-progress-bar {\n",
       "        background: repeating-linear-gradient(45deg, #7e7e7e, #7e7e7e 10px, #5c5c5c 10px, #5c5c5c 20px);\n",
       "    }\n",
       "    .progress-bar-interrupted, .progress-bar-interrupted::-webkit-progress-bar {\n",
       "        background: #F44336;\n",
       "    }\n",
       "</style>\n"
      ],
      "text/plain": [
       "<IPython.core.display.HTML object>"
      ]
     },
     "metadata": {},
     "output_type": "display_data"
    },
    {
     "data": {
      "text/html": [],
      "text/plain": [
       "<IPython.core.display.HTML object>"
      ]
     },
     "metadata": {},
     "output_type": "display_data"
    }
   ],
   "source": [
    "if args.save_pred_real_na:\n",
    "    pred_real_na = models.collab.get_missing_values(\n",
    "        df_train_long=data.train_X,\n",
    "        val_idx=data.val_y.index,\n",
    "        test_idx=data.test_y.index,\n",
    "        analysis_collab=ana_collab)\n",
    "    pred_real_na.to_csv(args.out_preds / f\"pred_real_na_{args.model_key}.csv\")"
   ]
  },
  {
   "cell_type": "markdown",
   "id": "49eced7a-6cd7-414e-b974-4bd1dbe3a787",
   "metadata": {
    "papermill": {
     "duration": 0.012669,
     "end_time": "2024-06-12T02:21:50.232241",
     "exception": false,
     "start_time": "2024-06-12T02:21:50.219572",
     "status": "completed"
    },
    "tags": []
   },
   "source": [
    "## Data in wide format\n",
    "\n",
    "- Autoencoder need data in wide format"
   ]
  },
  {
   "cell_type": "code",
   "execution_count": 21,
   "id": "cff8caf4-ccc9-4a36-a992-2cc596abe51a",
   "metadata": {
    "execution": {
     "iopub.execute_input": "2024-06-12T02:21:50.259355Z",
     "iopub.status.busy": "2024-06-12T02:21:50.259058Z",
     "iopub.status.idle": "2024-06-12T02:21:50.311319Z",
     "shell.execute_reply": "2024-06-12T02:21:50.310646Z"
    },
    "lines_to_next_cell": 2,
    "papermill": {
     "duration": 0.067626,
     "end_time": "2024-06-12T02:21:50.312821",
     "exception": false,
     "start_time": "2024-06-12T02:21:50.245195",
     "status": "completed"
    },
    "tags": [
     "hide-input"
    ]
   },
   "outputs": [
    {
     "data": {
      "text/html": [
       "<div>\n",
       "<style scoped>\n",
       "    .dataframe tbody tr th:only-of-type {\n",
       "        vertical-align: middle;\n",
       "    }\n",
       "\n",
       "    .dataframe tbody tr th {\n",
       "        vertical-align: top;\n",
       "    }\n",
       "\n",
       "    .dataframe thead th {\n",
       "        text-align: right;\n",
       "    }\n",
       "</style>\n",
       "<table border=\"1\" class=\"dataframe\">\n",
       "  <thead>\n",
       "    <tr style=\"text-align: right;\">\n",
       "      <th>protein groups</th>\n",
       "      <th>A0A024QZX5;A0A087X1N8;P35237</th>\n",
       "      <th>A0A024R0T9;K7ER74;P02655</th>\n",
       "      <th>A0A024R3W6;A0A024R412;O60462;O60462-2;O60462-3;O60462-4;O60462-5;Q7LBX6;X5D2Q8</th>\n",
       "      <th>A0A024R644;A0A0A0MRU5;A0A1B0GWI2;O75503</th>\n",
       "      <th>A0A075B6H7</th>\n",
       "      <th>A0A075B6H9</th>\n",
       "      <th>A0A075B6I0</th>\n",
       "      <th>A0A075B6I1</th>\n",
       "      <th>A0A075B6I6</th>\n",
       "      <th>A0A075B6I9</th>\n",
       "      <th>...</th>\n",
       "      <th>Q9Y653;Q9Y653-2;Q9Y653-3</th>\n",
       "      <th>Q9Y696</th>\n",
       "      <th>Q9Y6C2</th>\n",
       "      <th>Q9Y6N6</th>\n",
       "      <th>Q9Y6N7;Q9Y6N7-2;Q9Y6N7-4</th>\n",
       "      <th>Q9Y6R7</th>\n",
       "      <th>Q9Y6X5</th>\n",
       "      <th>Q9Y6Y8;Q9Y6Y8-2</th>\n",
       "      <th>Q9Y6Y9</th>\n",
       "      <th>S4R3U6</th>\n",
       "    </tr>\n",
       "    <tr>\n",
       "      <th>Sample ID</th>\n",
       "      <th></th>\n",
       "      <th></th>\n",
       "      <th></th>\n",
       "      <th></th>\n",
       "      <th></th>\n",
       "      <th></th>\n",
       "      <th></th>\n",
       "      <th></th>\n",
       "      <th></th>\n",
       "      <th></th>\n",
       "      <th></th>\n",
       "      <th></th>\n",
       "      <th></th>\n",
       "      <th></th>\n",
       "      <th></th>\n",
       "      <th></th>\n",
       "      <th></th>\n",
       "      <th></th>\n",
       "      <th></th>\n",
       "      <th></th>\n",
       "      <th></th>\n",
       "    </tr>\n",
       "  </thead>\n",
       "  <tbody>\n",
       "    <tr>\n",
       "      <th>Sample_000</th>\n",
       "      <td>15.912</td>\n",
       "      <td>16.852</td>\n",
       "      <td>15.570</td>\n",
       "      <td>16.481</td>\n",
       "      <td>17.301</td>\n",
       "      <td>20.246</td>\n",
       "      <td>16.764</td>\n",
       "      <td>17.584</td>\n",
       "      <td>16.988</td>\n",
       "      <td>20.054</td>\n",
       "      <td>...</td>\n",
       "      <td>16.012</td>\n",
       "      <td>15.178</td>\n",
       "      <td>NaN</td>\n",
       "      <td>15.050</td>\n",
       "      <td>16.842</td>\n",
       "      <td>NaN</td>\n",
       "      <td>NaN</td>\n",
       "      <td>19.563</td>\n",
       "      <td>NaN</td>\n",
       "      <td>12.805</td>\n",
       "    </tr>\n",
       "    <tr>\n",
       "      <th>Sample_001</th>\n",
       "      <td>NaN</td>\n",
       "      <td>16.874</td>\n",
       "      <td>15.519</td>\n",
       "      <td>16.387</td>\n",
       "      <td>NaN</td>\n",
       "      <td>19.941</td>\n",
       "      <td>18.786</td>\n",
       "      <td>17.144</td>\n",
       "      <td>NaN</td>\n",
       "      <td>19.067</td>\n",
       "      <td>...</td>\n",
       "      <td>15.528</td>\n",
       "      <td>15.576</td>\n",
       "      <td>NaN</td>\n",
       "      <td>14.833</td>\n",
       "      <td>16.597</td>\n",
       "      <td>20.299</td>\n",
       "      <td>15.556</td>\n",
       "      <td>19.386</td>\n",
       "      <td>13.970</td>\n",
       "      <td>12.442</td>\n",
       "    </tr>\n",
       "    <tr>\n",
       "      <th>Sample_002</th>\n",
       "      <td>16.111</td>\n",
       "      <td>NaN</td>\n",
       "      <td>15.935</td>\n",
       "      <td>16.416</td>\n",
       "      <td>18.175</td>\n",
       "      <td>19.251</td>\n",
       "      <td>16.832</td>\n",
       "      <td>15.671</td>\n",
       "      <td>17.012</td>\n",
       "      <td>18.569</td>\n",
       "      <td>...</td>\n",
       "      <td>15.229</td>\n",
       "      <td>14.728</td>\n",
       "      <td>13.757</td>\n",
       "      <td>15.118</td>\n",
       "      <td>17.440</td>\n",
       "      <td>19.598</td>\n",
       "      <td>15.735</td>\n",
       "      <td>20.447</td>\n",
       "      <td>12.636</td>\n",
       "      <td>12.505</td>\n",
       "    </tr>\n",
       "    <tr>\n",
       "      <th>Sample_003</th>\n",
       "      <td>16.107</td>\n",
       "      <td>17.032</td>\n",
       "      <td>15.802</td>\n",
       "      <td>16.979</td>\n",
       "      <td>15.963</td>\n",
       "      <td>19.628</td>\n",
       "      <td>17.852</td>\n",
       "      <td>18.877</td>\n",
       "      <td>14.182</td>\n",
       "      <td>18.985</td>\n",
       "      <td>...</td>\n",
       "      <td>15.495</td>\n",
       "      <td>14.590</td>\n",
       "      <td>14.682</td>\n",
       "      <td>15.140</td>\n",
       "      <td>17.356</td>\n",
       "      <td>19.429</td>\n",
       "      <td>NaN</td>\n",
       "      <td>20.216</td>\n",
       "      <td>NaN</td>\n",
       "      <td>12.445</td>\n",
       "    </tr>\n",
       "    <tr>\n",
       "      <th>Sample_004</th>\n",
       "      <td>15.603</td>\n",
       "      <td>15.331</td>\n",
       "      <td>15.375</td>\n",
       "      <td>16.679</td>\n",
       "      <td>NaN</td>\n",
       "      <td>20.450</td>\n",
       "      <td>18.682</td>\n",
       "      <td>17.081</td>\n",
       "      <td>14.140</td>\n",
       "      <td>19.686</td>\n",
       "      <td>...</td>\n",
       "      <td>14.757</td>\n",
       "      <td>NaN</td>\n",
       "      <td>NaN</td>\n",
       "      <td>15.256</td>\n",
       "      <td>17.075</td>\n",
       "      <td>19.582</td>\n",
       "      <td>15.328</td>\n",
       "      <td>NaN</td>\n",
       "      <td>13.145</td>\n",
       "      <td>NaN</td>\n",
       "    </tr>\n",
       "  </tbody>\n",
       "</table>\n",
       "<p>5 rows × 1421 columns</p>\n",
       "</div>"
      ],
      "text/plain": [
       "protein groups  A0A024QZX5;A0A087X1N8;P35237  A0A024R0T9;K7ER74;P02655  \\\n",
       "Sample ID                                                                \n",
       "Sample_000                            15.912                    16.852   \n",
       "Sample_001                               NaN                    16.874   \n",
       "Sample_002                            16.111                       NaN   \n",
       "Sample_003                            16.107                    17.032   \n",
       "Sample_004                            15.603                    15.331   \n",
       "\n",
       "protein groups  A0A024R3W6;A0A024R412;O60462;O60462-2;O60462-3;O60462-4;O60462-5;Q7LBX6;X5D2Q8  \\\n",
       "Sample ID                                                                                        \n",
       "Sample_000                                                                              15.570   \n",
       "Sample_001                                                                              15.519   \n",
       "Sample_002                                                                              15.935   \n",
       "Sample_003                                                                              15.802   \n",
       "Sample_004                                                                              15.375   \n",
       "\n",
       "protein groups  A0A024R644;A0A0A0MRU5;A0A1B0GWI2;O75503  A0A075B6H7  \\\n",
       "Sample ID                                                             \n",
       "Sample_000                                       16.481      17.301   \n",
       "Sample_001                                       16.387         NaN   \n",
       "Sample_002                                       16.416      18.175   \n",
       "Sample_003                                       16.979      15.963   \n",
       "Sample_004                                       16.679         NaN   \n",
       "\n",
       "protein groups  A0A075B6H9  A0A075B6I0  A0A075B6I1  A0A075B6I6  A0A075B6I9  \\\n",
       "Sample ID                                                                    \n",
       "Sample_000          20.246      16.764      17.584      16.988      20.054   \n",
       "Sample_001          19.941      18.786      17.144         NaN      19.067   \n",
       "Sample_002          19.251      16.832      15.671      17.012      18.569   \n",
       "Sample_003          19.628      17.852      18.877      14.182      18.985   \n",
       "Sample_004          20.450      18.682      17.081      14.140      19.686   \n",
       "\n",
       "protein groups  ...  Q9Y653;Q9Y653-2;Q9Y653-3  Q9Y696  Q9Y6C2  Q9Y6N6  \\\n",
       "Sample ID       ...                                                     \n",
       "Sample_000      ...                    16.012  15.178     NaN  15.050   \n",
       "Sample_001      ...                    15.528  15.576     NaN  14.833   \n",
       "Sample_002      ...                    15.229  14.728  13.757  15.118   \n",
       "Sample_003      ...                    15.495  14.590  14.682  15.140   \n",
       "Sample_004      ...                    14.757     NaN     NaN  15.256   \n",
       "\n",
       "protein groups  Q9Y6N7;Q9Y6N7-2;Q9Y6N7-4  Q9Y6R7  Q9Y6X5  Q9Y6Y8;Q9Y6Y8-2  \\\n",
       "Sample ID                                                                   \n",
       "Sample_000                        16.842     NaN     NaN           19.563   \n",
       "Sample_001                        16.597  20.299  15.556           19.386   \n",
       "Sample_002                        17.440  19.598  15.735           20.447   \n",
       "Sample_003                        17.356  19.429     NaN           20.216   \n",
       "Sample_004                        17.075  19.582  15.328              NaN   \n",
       "\n",
       "protein groups  Q9Y6Y9  S4R3U6  \n",
       "Sample ID                       \n",
       "Sample_000         NaN  12.805  \n",
       "Sample_001      13.970  12.442  \n",
       "Sample_002      12.636  12.505  \n",
       "Sample_003         NaN  12.445  \n",
       "Sample_004      13.145     NaN  \n",
       "\n",
       "[5 rows x 1421 columns]"
      ]
     },
     "execution_count": 21,
     "metadata": {},
     "output_type": "execute_result"
    }
   ],
   "source": [
    "data.to_wide_format()\n",
    "args.M = data.train_X.shape[-1]\n",
    "data.train_X.head()"
   ]
  },
  {
   "cell_type": "markdown",
   "id": "861b9b3c-11d0-4cda-98c9-fadea16e47c4",
   "metadata": {
    "papermill": {
     "duration": 0.013391,
     "end_time": "2024-06-12T02:21:50.339816",
     "exception": false,
     "start_time": "2024-06-12T02:21:50.326425",
     "status": "completed"
    },
    "tags": []
   },
   "source": [
    "### Validation data\n",
    "\n",
    "- all measured (identified, observed) peptides in validation data\n",
    "\n",
    "> Does not make to much sense to compare collab and AEs,\n",
    "> as the setup differs of training and validation data differs"
   ]
  },
  {
   "cell_type": "code",
   "execution_count": 22,
   "id": "d825e38e-f3d6-4bca-b621-150267e7b7bc",
   "metadata": {
    "execution": {
     "iopub.execute_input": "2024-06-12T02:21:50.368703Z",
     "iopub.status.busy": "2024-06-12T02:21:50.368313Z",
     "iopub.status.idle": "2024-06-12T02:21:50.371844Z",
     "shell.execute_reply": "2024-06-12T02:21:50.371116Z"
    },
    "papermill": {
     "duration": 0.020046,
     "end_time": "2024-06-12T02:21:50.373449",
     "exception": false,
     "start_time": "2024-06-12T02:21:50.353403",
     "status": "completed"
    },
    "tags": [
     "hide-input"
    ]
   },
   "outputs": [],
   "source": [
    "# papermill_description=metrics\n",
    "d_metrics = models.Metrics()"
   ]
  },
  {
   "cell_type": "markdown",
   "id": "55b9b887-a644-4086-8399-e27b533bd22a",
   "metadata": {
    "papermill": {
     "duration": 0.013408,
     "end_time": "2024-06-12T02:21:50.400173",
     "exception": false,
     "start_time": "2024-06-12T02:21:50.386765",
     "status": "completed"
    },
    "tags": []
   },
   "source": [
    "The simulated NA for the validation step are real test data (not used for training nor early stopping)"
   ]
  },
  {
   "cell_type": "code",
   "execution_count": 23,
   "id": "855a7a6f-93fd-4612-9d8d-96541a2441be",
   "metadata": {
    "execution": {
     "iopub.execute_input": "2024-06-12T02:21:50.428835Z",
     "iopub.status.busy": "2024-06-12T02:21:50.428459Z",
     "iopub.status.idle": "2024-06-12T02:21:50.452329Z",
     "shell.execute_reply": "2024-06-12T02:21:50.451605Z"
    },
    "papermill": {
     "duration": 0.040471,
     "end_time": "2024-06-12T02:21:50.454204",
     "exception": false,
     "start_time": "2024-06-12T02:21:50.413733",
     "status": "completed"
    },
    "tags": []
   },
   "outputs": [
    {
     "name": "stdout",
     "output_type": "stream",
     "text": [
      "Selected as truth to compare to: observed\n"
     ]
    },
    {
     "data": {
      "text/plain": [
       "{'CF': {'MSE': 0.45869746217679197,\n",
       "  'MAE': 0.45644073568339333,\n",
       "  'N': 12600,\n",
       "  'prop': 1.0}}"
      ]
     },
     "execution_count": 23,
     "metadata": {},
     "output_type": "execute_result"
    }
   ],
   "source": [
    "added_metrics = d_metrics.add_metrics(val_pred_simulated_na, 'valid_simulated_na')\n",
    "added_metrics"
   ]
  },
  {
   "cell_type": "markdown",
   "id": "80fda7f1-3024-46bc-a3c1-17f509016bd4",
   "metadata": {
    "papermill": {
     "duration": 0.016608,
     "end_time": "2024-06-12T02:21:50.487780",
     "exception": false,
     "start_time": "2024-06-12T02:21:50.471172",
     "status": "completed"
    },
    "tags": []
   },
   "source": [
    "### Test Datasplit\n",
    "\n",
    "Simulated NAs : Artificially created NAs. Some data was sampled and set\n",
    "explicitly to misssing before it was fed to the model for\n",
    "reconstruction."
   ]
  },
  {
   "cell_type": "code",
   "execution_count": 24,
   "id": "571ac8d4-bb5d-45db-bba8-59817e476304",
   "metadata": {
    "execution": {
     "iopub.execute_input": "2024-06-12T02:21:50.530387Z",
     "iopub.status.busy": "2024-06-12T02:21:50.530008Z",
     "iopub.status.idle": "2024-06-12T02:21:50.556429Z",
     "shell.execute_reply": "2024-06-12T02:21:50.555758Z"
    },
    "papermill": {
     "duration": 0.054391,
     "end_time": "2024-06-12T02:21:50.558210",
     "exception": false,
     "start_time": "2024-06-12T02:21:50.503819",
     "status": "completed"
    },
    "tags": []
   },
   "outputs": [
    {
     "name": "stdout",
     "output_type": "stream",
     "text": [
      "Selected as truth to compare to: observed\n"
     ]
    },
    {
     "data": {
      "text/plain": [
       "{'CF': {'MSE': 0.4761975847328677,\n",
       "  'MAE': 0.4609316523044688,\n",
       "  'N': 12600,\n",
       "  'prop': 1.0}}"
      ]
     },
     "execution_count": 24,
     "metadata": {},
     "output_type": "execute_result"
    }
   ],
   "source": [
    "added_metrics = d_metrics.add_metrics(test_pred_simulated_na, 'test_simulated_na')\n",
    "added_metrics"
   ]
  },
  {
   "cell_type": "markdown",
   "id": "b388de9d-0387-486a-9481-d673e0fec88b",
   "metadata": {
    "papermill": {
     "duration": 0.016573,
     "end_time": "2024-06-12T02:21:50.591743",
     "exception": false,
     "start_time": "2024-06-12T02:21:50.575170",
     "status": "completed"
    },
    "tags": []
   },
   "source": [
    "Save all metrics as json"
   ]
  },
  {
   "cell_type": "code",
   "execution_count": 25,
   "id": "87910434-7d07-4e8e-8380-c92fc515bd16",
   "metadata": {
    "execution": {
     "iopub.execute_input": "2024-06-12T02:21:50.624615Z",
     "iopub.status.busy": "2024-06-12T02:21:50.624247Z",
     "iopub.status.idle": "2024-06-12T02:21:50.628369Z",
     "shell.execute_reply": "2024-06-12T02:21:50.627682Z"
    },
    "lines_to_next_cell": 2,
    "papermill": {
     "duration": 0.025191,
     "end_time": "2024-06-12T02:21:50.631580",
     "exception": false,
     "start_time": "2024-06-12T02:21:50.606389",
     "status": "completed"
    },
    "tags": []
   },
   "outputs": [],
   "source": [
    "vaep.io.dump_json(d_metrics.metrics, args.out_metrics /\n",
    "                  f'metrics_{args.model_key}.json')"
   ]
  },
  {
   "cell_type": "code",
   "execution_count": 26,
   "id": "7d99deb9-9aad-4ba9-b79d-e4b3c6c7f023",
   "metadata": {
    "execution": {
     "iopub.execute_input": "2024-06-12T02:21:50.664082Z",
     "iopub.status.busy": "2024-06-12T02:21:50.663742Z",
     "iopub.status.idle": "2024-06-12T02:21:50.678518Z",
     "shell.execute_reply": "2024-06-12T02:21:50.677695Z"
    },
    "papermill": {
     "duration": 0.033323,
     "end_time": "2024-06-12T02:21:50.680616",
     "exception": false,
     "start_time": "2024-06-12T02:21:50.647293",
     "status": "completed"
    },
    "tags": []
   },
   "outputs": [
    {
     "data": {
      "text/html": [
       "<div>\n",
       "<style scoped>\n",
       "    .dataframe tbody tr th:only-of-type {\n",
       "        vertical-align: middle;\n",
       "    }\n",
       "\n",
       "    .dataframe tbody tr th {\n",
       "        vertical-align: top;\n",
       "    }\n",
       "\n",
       "    .dataframe thead th {\n",
       "        text-align: right;\n",
       "    }\n",
       "</style>\n",
       "<table border=\"1\" class=\"dataframe\">\n",
       "  <thead>\n",
       "    <tr style=\"text-align: right;\">\n",
       "      <th></th>\n",
       "      <th>subset</th>\n",
       "      <th>valid_simulated_na</th>\n",
       "      <th>test_simulated_na</th>\n",
       "    </tr>\n",
       "    <tr>\n",
       "      <th>model</th>\n",
       "      <th>metric_name</th>\n",
       "      <th></th>\n",
       "      <th></th>\n",
       "    </tr>\n",
       "  </thead>\n",
       "  <tbody>\n",
       "    <tr>\n",
       "      <th rowspan=\"4\" valign=\"top\">CF</th>\n",
       "      <th>MSE</th>\n",
       "      <td>0.459</td>\n",
       "      <td>0.476</td>\n",
       "    </tr>\n",
       "    <tr>\n",
       "      <th>MAE</th>\n",
       "      <td>0.456</td>\n",
       "      <td>0.461</td>\n",
       "    </tr>\n",
       "    <tr>\n",
       "      <th>N</th>\n",
       "      <td>12,600.000</td>\n",
       "      <td>12,600.000</td>\n",
       "    </tr>\n",
       "    <tr>\n",
       "      <th>prop</th>\n",
       "      <td>1.000</td>\n",
       "      <td>1.000</td>\n",
       "    </tr>\n",
       "  </tbody>\n",
       "</table>\n",
       "</div>"
      ],
      "text/plain": [
       "subset             valid_simulated_na  test_simulated_na\n",
       "model metric_name                                       \n",
       "CF    MSE                       0.459              0.476\n",
       "      MAE                       0.456              0.461\n",
       "      N                    12,600.000         12,600.000\n",
       "      prop                      1.000              1.000"
      ]
     },
     "execution_count": 26,
     "metadata": {},
     "output_type": "execute_result"
    }
   ],
   "source": [
    "metrics_df = models.get_df_from_nested_dict(\n",
    "    d_metrics.metrics, column_levels=['model', 'metric_name']).T\n",
    "metrics_df"
   ]
  },
  {
   "cell_type": "markdown",
   "id": "5d8d6b3e-1316-4795-bc3d-4bdf270b890e",
   "metadata": {
    "papermill": {
     "duration": 0.017701,
     "end_time": "2024-06-12T02:21:50.715262",
     "exception": false,
     "start_time": "2024-06-12T02:21:50.697561",
     "status": "completed"
    },
    "tags": []
   },
   "source": [
    "## Save predictions"
   ]
  },
  {
   "cell_type": "code",
   "execution_count": 27,
   "id": "782636ac-c979-4f8b-9fc0-66fd0c7a3a8b",
   "metadata": {
    "execution": {
     "iopub.execute_input": "2024-06-12T02:21:50.751545Z",
     "iopub.status.busy": "2024-06-12T02:21:50.751177Z",
     "iopub.status.idle": "2024-06-12T02:21:51.014604Z",
     "shell.execute_reply": "2024-06-12T02:21:51.013840Z"
    },
    "papermill": {
     "duration": 0.284107,
     "end_time": "2024-06-12T02:21:51.016662",
     "exception": false,
     "start_time": "2024-06-12T02:21:50.732555",
     "status": "completed"
    },
    "tags": [
     "hide-input"
    ]
   },
   "outputs": [],
   "source": [
    "# save simulated missing values for both splits\n",
    "val_pred_simulated_na.to_csv(args.out_preds / f\"pred_val_{args.model_key}.csv\")\n",
    "test_pred_simulated_na.to_csv(args.out_preds / f\"pred_test_{args.model_key}.csv\")"
   ]
  },
  {
   "cell_type": "markdown",
   "id": "42f2c184-e9ef-42be-ae87-7cbf52a0c0b6",
   "metadata": {
    "papermill": {
     "duration": 0.01706,
     "end_time": "2024-06-12T02:21:51.050330",
     "exception": false,
     "start_time": "2024-06-12T02:21:51.033270",
     "status": "completed"
    },
    "tags": []
   },
   "source": [
    "## Config"
   ]
  },
  {
   "cell_type": "code",
   "execution_count": 28,
   "id": "0f13cb38-abf0-4b56-9399-3d11d32f7fbc",
   "metadata": {
    "execution": {
     "iopub.execute_input": "2024-06-12T02:21:51.086001Z",
     "iopub.status.busy": "2024-06-12T02:21:51.085660Z",
     "iopub.status.idle": "2024-06-12T02:21:51.093762Z",
     "shell.execute_reply": "2024-06-12T02:21:51.093085Z"
    },
    "papermill": {
     "duration": 0.028038,
     "end_time": "2024-06-12T02:21:51.095391",
     "exception": false,
     "start_time": "2024-06-12T02:21:51.067353",
     "status": "completed"
    },
    "tags": [
     "hide-input"
    ]
   },
   "outputs": [
    {
     "data": {
      "text/plain": [
       "{'M': 1421,\n",
       " 'batch_size': 1024,\n",
       " 'cuda': False,\n",
       " 'data': Path('runs/alzheimer_study/data'),\n",
       " 'epoch_trained': 18,\n",
       " 'epochs_max': 100,\n",
       " 'file_format': 'csv',\n",
       " 'fn_rawfile_metadata': 'https://raw.githubusercontent.com/RasmussenLab/njab/HEAD/docs/tutorial/data/alzheimer/meta.csv',\n",
       " 'folder_data': '',\n",
       " 'folder_experiment': Path('runs/alzheimer_study'),\n",
       " 'latent_dim': 50,\n",
       " 'model': 'CF',\n",
       " 'model_key': 'CF',\n",
       " 'n_params': 83283,\n",
       " 'out_figures': Path('runs/alzheimer_study/figures'),\n",
       " 'out_folder': Path('runs/alzheimer_study'),\n",
       " 'out_metrics': Path('runs/alzheimer_study'),\n",
       " 'out_models': Path('runs/alzheimer_study'),\n",
       " 'out_preds': Path('runs/alzheimer_study/preds'),\n",
       " 'patience': 1,\n",
       " 'sample_idx_position': 0,\n",
       " 'save_pred_real_na': True}"
      ]
     },
     "execution_count": 28,
     "metadata": {},
     "output_type": "execute_result"
    }
   ],
   "source": [
    "args.dump(fname=args.out_models / f\"model_config_{args.model_key}.yaml\")\n",
    "args"
   ]
  },
  {
   "cell_type": "code",
   "execution_count": null,
   "id": "408b261a",
   "metadata": {
    "papermill": {
     "duration": 0.016633,
     "end_time": "2024-06-12T02:21:51.129351",
     "exception": false,
     "start_time": "2024-06-12T02:21:51.112718",
     "status": "completed"
    },
    "tags": [
     "hide-input"
    ]
   },
   "outputs": [],
   "source": []
  }
 ],
 "metadata": {
  "jupytext": {
   "formats": "ipynb,py:percent"
  },
  "kernelspec": {
   "display_name": "Python 3",
   "language": "python",
   "name": "python3"
  },
  "language_info": {
   "codemirror_mode": {
    "name": "ipython",
    "version": 3
   },
   "file_extension": ".py",
   "mimetype": "text/x-python",
   "name": "python",
   "nbconvert_exporter": "python",
   "pygments_lexer": "ipython3",
   "version": "3.8.19"
  },
  "papermill": {
   "default_parameters": {},
   "duration": 40.782015,
   "end_time": "2024-06-12T02:21:52.074089",
   "environment_variables": {},
   "exception": null,
   "input_path": "01_1_train_CF.ipynb",
   "output_path": "runs/alzheimer_study/01_1_train_CF.ipynb",
   "parameters": {
    "batch_size": 1024,
    "cuda": false,
    "epochs_max": 100,
    "fn_rawfile_metadata": "https://raw.githubusercontent.com/RasmussenLab/njab/HEAD/docs/tutorial/data/alzheimer/meta.csv",
    "folder_experiment": "runs/alzheimer_study",
    "latent_dim": 50,
    "model": "CF",
    "model_key": "CF",
    "sample_idx_position": 0,
    "save_pred_real_na": true
   },
   "start_time": "2024-06-12T02:21:11.292074",
   "version": "2.6.0"
  },
  "toc-autonumbering": true,
  "vscode": {
   "interpreter": {
    "hash": "cf83e9cb890c7f96eb0ae04f39a82254555f56a1a0ed2f03b23a8b40fe6cd31c"
   }
  }
 },
 "nbformat": 4,
 "nbformat_minor": 5
}