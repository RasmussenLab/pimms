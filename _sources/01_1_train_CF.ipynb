{
 "cells": [
  {
   "cell_type": "markdown",
   "id": "f0e1208b-9b36-4294-b3fd-910e05a82f2e",
   "metadata": {
    "papermill": {
     "duration": 0.010877,
     "end_time": "2024-09-18T04:05:47.634677",
     "exception": false,
     "start_time": "2024-09-18T04:05:47.623800",
     "status": "completed"
    },
    "tags": []
   },
   "source": [
    "# Collaborative Filtering"
   ]
  },
  {
   "cell_type": "code",
   "execution_count": 1,
   "id": "18b5d571-2956-4112-b22c-43d6c2146b06",
   "metadata": {
    "execution": {
     "iopub.execute_input": "2024-09-18T04:05:47.655121Z",
     "iopub.status.busy": "2024-09-18T04:05:47.654792Z",
     "iopub.status.idle": "2024-09-18T04:05:51.820285Z",
     "shell.execute_reply": "2024-09-18T04:05:51.819703Z"
    },
    "papermill": {
     "duration": 4.177642,
     "end_time": "2024-09-18T04:05:51.821507",
     "exception": false,
     "start_time": "2024-09-18T04:05:47.643865",
     "status": "completed"
    },
    "tags": [
     "hide-input"
    ]
   },
   "outputs": [
    {
     "name": "stdout",
     "output_type": "stream",
     "text": [
      "pimmslearn - INFO     Experiment 03 - Analysis of latent spaces and performance comparisions\n"
     ]
    }
   ],
   "source": [
    "import logging\n",
    "from pprint import pprint\n",
    "\n",
    "import matplotlib.pyplot as plt\n",
    "# overwriting Recorder callback with custom plot_loss\n",
    "from fastai import learner\n",
    "from fastai.collab import *\n",
    "from fastai.collab import (EarlyStoppingCallback, EmbeddingDotBias, Learner,\n",
    "                           MSELossFlat, default_device)\n",
    "from fastai.tabular.all import *\n",
    "\n",
    "import pimmslearn\n",
    "import pimmslearn.model\n",
    "import pimmslearn.models as models\n",
    "import pimmslearn.nb\n",
    "from pimmslearn.io import datasplits\n",
    "from pimmslearn.logging import setup_logger\n",
    "from pimmslearn.models import RecorderDump, plot_loss\n",
    "\n",
    "learner.Recorder.plot_loss = plot_loss\n",
    "# import fastai.callback.hook # Learner.summary\n",
    "\n",
    "\n",
    "logger = setup_logger(logger=logging.getLogger('pimmslearn'))\n",
    "logger.info(\n",
    "    \"Experiment 03 - Analysis of latent spaces and performance comparisions\")\n",
    "\n",
    "figures = {}  # collection of ax or figures"
   ]
  },
  {
   "cell_type": "markdown",
   "id": "43f062bb-8d2c-4afa-8a81-9e2a328050fe",
   "metadata": {
    "papermill": {
     "duration": 0.00727,
     "end_time": "2024-09-18T04:05:51.836236",
     "exception": false,
     "start_time": "2024-09-18T04:05:51.828966",
     "status": "completed"
    },
    "tags": []
   },
   "source": [
    "Papermill script parameters:"
   ]
  },
  {
   "cell_type": "code",
   "execution_count": 2,
   "id": "85c7d6f9",
   "metadata": {
    "execution": {
     "iopub.execute_input": "2024-09-18T04:05:51.851546Z",
     "iopub.status.busy": "2024-09-18T04:05:51.851090Z",
     "iopub.status.idle": "2024-09-18T04:05:51.854352Z",
     "shell.execute_reply": "2024-09-18T04:05:51.853884Z"
    },
    "papermill": {
     "duration": 0.012062,
     "end_time": "2024-09-18T04:05:51.855336",
     "exception": false,
     "start_time": "2024-09-18T04:05:51.843274",
     "status": "completed"
    },
    "tags": [
     "hide-input"
    ]
   },
   "outputs": [],
   "source": [
    "# catch passed parameters\n",
    "args = None\n",
    "args = dict(globals()).keys()"
   ]
  },
  {
   "cell_type": "code",
   "execution_count": 3,
   "id": "297f14bc-3c37-43fa-8217-f790f0593d78",
   "metadata": {
    "execution": {
     "iopub.execute_input": "2024-09-18T04:05:51.870435Z",
     "iopub.status.busy": "2024-09-18T04:05:51.869840Z",
     "iopub.status.idle": "2024-09-18T04:05:51.873901Z",
     "shell.execute_reply": "2024-09-18T04:05:51.873431Z"
    },
    "papermill": {
     "duration": 0.012524,
     "end_time": "2024-09-18T04:05:51.874830",
     "exception": false,
     "start_time": "2024-09-18T04:05:51.862306",
     "status": "completed"
    },
    "tags": [
     "parameters"
    ]
   },
   "outputs": [],
   "source": [
    "# files and folders\n",
    "# Datasplit folder with data for experiment\n",
    "folder_experiment: str = 'runs/example'\n",
    "folder_data: str = ''  # specify data directory if needed\n",
    "file_format: str = 'csv'  # change default to pickled files\n",
    "# training\n",
    "epochs_max: int = 20  # Maximum number of epochs\n",
    "# early_stopping:bool = True # Wheather to use early stopping or not\n",
    "patience: int = 1  # Patience for early stopping\n",
    "batch_size: int = 32_768  # Batch size for training (and evaluation)\n",
    "cuda: bool = True  # Use the GPU for training?\n",
    "# model\n",
    "# Dimensionality of encoding dimension (latent space of model)\n",
    "latent_dim: int = 10\n",
    "sample_idx_position: int = 0  # position of index which is sample ID\n",
    "model: str = 'CF'  # model name\n",
    "model_key: str = 'CF'  # potentially alternative key for model (grid search)\n",
    "save_pred_real_na: bool = True  # Save all predictions for missing values"
   ]
  },
  {
   "cell_type": "code",
   "execution_count": 4,
   "id": "0cc9f470",
   "metadata": {
    "execution": {
     "iopub.execute_input": "2024-09-18T04:05:51.890245Z",
     "iopub.status.busy": "2024-09-18T04:05:51.889675Z",
     "iopub.status.idle": "2024-09-18T04:05:51.893387Z",
     "shell.execute_reply": "2024-09-18T04:05:51.892923Z"
    },
    "papermill": {
     "duration": 0.012007,
     "end_time": "2024-09-18T04:05:51.894213",
     "exception": false,
     "start_time": "2024-09-18T04:05:51.882206",
     "status": "completed"
    },
    "tags": [
     "injected-parameters"
    ]
   },
   "outputs": [],
   "source": [
    "# Parameters\n",
    "model = \"CF\"\n",
    "latent_dim = 50\n",
    "batch_size = 1024\n",
    "epochs_max = 100\n",
    "sample_idx_position = 0\n",
    "cuda = False\n",
    "save_pred_real_na = True\n",
    "fn_rawfile_metadata = \"https://raw.githubusercontent.com/RasmussenLab/njab/HEAD/docs/tutorial/data/alzheimer/meta.csv\"\n",
    "folder_experiment = \"runs/alzheimer_study\"\n",
    "model_key = \"CF\"\n"
   ]
  },
  {
   "cell_type": "markdown",
   "id": "1da8e04b-2eb2-4ecb-b1d1-2de871cd0a56",
   "metadata": {
    "papermill": {
     "duration": 0.00648,
     "end_time": "2024-09-18T04:05:51.907603",
     "exception": false,
     "start_time": "2024-09-18T04:05:51.901123",
     "status": "completed"
    },
    "tags": []
   },
   "source": [
    "Some argument transformations"
   ]
  },
  {
   "cell_type": "code",
   "execution_count": 5,
   "id": "0746e70f-0259-48d5-90ef-25fe4b59f9ac",
   "metadata": {
    "execution": {
     "iopub.execute_input": "2024-09-18T04:05:51.922190Z",
     "iopub.status.busy": "2024-09-18T04:05:51.921803Z",
     "iopub.status.idle": "2024-09-18T04:05:51.928249Z",
     "shell.execute_reply": "2024-09-18T04:05:51.927781Z"
    },
    "papermill": {
     "duration": 0.014819,
     "end_time": "2024-09-18T04:05:51.929080",
     "exception": false,
     "start_time": "2024-09-18T04:05:51.914261",
     "status": "completed"
    },
    "tags": [
     "hide-input"
    ]
   },
   "outputs": [
    {
     "data": {
      "text/plain": [
       "{'folder_experiment': 'runs/alzheimer_study',\n",
       " 'folder_data': '',\n",
       " 'file_format': 'csv',\n",
       " 'epochs_max': 100,\n",
       " 'patience': 1,\n",
       " 'batch_size': 1024,\n",
       " 'cuda': False,\n",
       " 'latent_dim': 50,\n",
       " 'sample_idx_position': 0,\n",
       " 'model': 'CF',\n",
       " 'model_key': 'CF',\n",
       " 'save_pred_real_na': True,\n",
       " 'fn_rawfile_metadata': 'https://raw.githubusercontent.com/RasmussenLab/njab/HEAD/docs/tutorial/data/alzheimer/meta.csv'}"
      ]
     },
     "execution_count": 5,
     "metadata": {},
     "output_type": "execute_result"
    }
   ],
   "source": [
    "args = pimmslearn.nb.get_params(args, globals=globals())\n",
    "args"
   ]
  },
  {
   "cell_type": "code",
   "execution_count": 6,
   "id": "100bbf80",
   "metadata": {
    "execution": {
     "iopub.execute_input": "2024-09-18T04:05:51.944949Z",
     "iopub.status.busy": "2024-09-18T04:05:51.944519Z",
     "iopub.status.idle": "2024-09-18T04:05:51.950582Z",
     "shell.execute_reply": "2024-09-18T04:05:51.950117Z"
    },
    "lines_to_next_cell": 2,
    "papermill": {
     "duration": 0.015177,
     "end_time": "2024-09-18T04:05:51.951582",
     "exception": false,
     "start_time": "2024-09-18T04:05:51.936405",
     "status": "completed"
    },
    "tags": [
     "hide-input"
    ]
   },
   "outputs": [
    {
     "data": {
      "text/plain": [
       "{'batch_size': 1024,\n",
       " 'cuda': False,\n",
       " 'data': Path('runs/alzheimer_study/data'),\n",
       " 'epochs_max': 100,\n",
       " 'file_format': 'csv',\n",
       " 'fn_rawfile_metadata': 'https://raw.githubusercontent.com/RasmussenLab/njab/HEAD/docs/tutorial/data/alzheimer/meta.csv',\n",
       " 'folder_data': '',\n",
       " 'folder_experiment': Path('runs/alzheimer_study'),\n",
       " 'latent_dim': 50,\n",
       " 'model': 'CF',\n",
       " 'model_key': 'CF',\n",
       " 'out_figures': Path('runs/alzheimer_study/figures'),\n",
       " 'out_folder': Path('runs/alzheimer_study'),\n",
       " 'out_metrics': Path('runs/alzheimer_study'),\n",
       " 'out_models': Path('runs/alzheimer_study'),\n",
       " 'out_preds': Path('runs/alzheimer_study/preds'),\n",
       " 'patience': 1,\n",
       " 'sample_idx_position': 0,\n",
       " 'save_pred_real_na': True}"
      ]
     },
     "execution_count": 6,
     "metadata": {},
     "output_type": "execute_result"
    }
   ],
   "source": [
    "args = pimmslearn.nb.args_from_dict(args)\n",
    "\n",
    "# # Currently not needed -> DotProduct used, not a FNN\n",
    "# if isinstance(args.hidden_layers, str):\n",
    "#     args.overwrite_entry(\"hidden_layers\", [int(x) for x in args.hidden_layers.split('_')])\n",
    "# else:\n",
    "#     raise ValueError(f\"hidden_layers is of unknown type {type(args.hidden_layers)}\")\n",
    "args"
   ]
  },
  {
   "cell_type": "markdown",
   "id": "3d59f6d8-9cb1-461a-8d62-2ab4458cab60",
   "metadata": {
    "papermill": {
     "duration": 0.00724,
     "end_time": "2024-09-18T04:05:51.966099",
     "exception": false,
     "start_time": "2024-09-18T04:05:51.958859",
     "status": "completed"
    },
    "tags": []
   },
   "source": [
    "Some naming conventions"
   ]
  },
  {
   "cell_type": "code",
   "execution_count": 7,
   "id": "a19fe098-a029-4f71-b7fb-e652a9c16ac7",
   "metadata": {
    "execution": {
     "iopub.execute_input": "2024-09-18T04:05:51.981250Z",
     "iopub.status.busy": "2024-09-18T04:05:51.980986Z",
     "iopub.status.idle": "2024-09-18T04:05:51.983991Z",
     "shell.execute_reply": "2024-09-18T04:05:51.983491Z"
    },
    "lines_to_next_cell": 2,
    "papermill": {
     "duration": 0.012115,
     "end_time": "2024-09-18T04:05:51.985321",
     "exception": false,
     "start_time": "2024-09-18T04:05:51.973206",
     "status": "completed"
    },
    "tags": [
     "hide-input"
    ]
   },
   "outputs": [],
   "source": [
    "TEMPLATE_MODEL_PARAMS = 'model_params_{}.json'\n",
    "\n",
    "if not args.cuda:\n",
    "    default_device(use=False)  # set to cpu"
   ]
  },
  {
   "cell_type": "markdown",
   "id": "976cc005-0c5f-4e88-9656-c549e613ca68",
   "metadata": {
    "papermill": {
     "duration": 0.006963,
     "end_time": "2024-09-18T04:05:51.999467",
     "exception": false,
     "start_time": "2024-09-18T04:05:51.992504",
     "status": "completed"
    },
    "tags": []
   },
   "source": [
    "## Load data in long format"
   ]
  },
  {
   "cell_type": "code",
   "execution_count": 8,
   "id": "6d9cc7bd-6b6f-40b9-8db7-c8228e4b03e3",
   "metadata": {
    "execution": {
     "iopub.execute_input": "2024-09-18T04:05:52.014948Z",
     "iopub.status.busy": "2024-09-18T04:05:52.014688Z",
     "iopub.status.idle": "2024-09-18T04:05:52.237168Z",
     "shell.execute_reply": "2024-09-18T04:05:52.236561Z"
    },
    "papermill": {
     "duration": 0.231545,
     "end_time": "2024-09-18T04:05:52.238163",
     "exception": false,
     "start_time": "2024-09-18T04:05:52.006618",
     "status": "completed"
    },
    "tags": [
     "hide-input"
    ]
   },
   "outputs": [
    {
     "name": "stdout",
     "output_type": "stream",
     "text": [
      "pimmslearn.io.datasplits - INFO     Loaded 'train_X' from file: runs/alzheimer_study/data/train_X.csv\n"
     ]
    },
    {
     "name": "stdout",
     "output_type": "stream",
     "text": [
      "pimmslearn.io.datasplits - INFO     Loaded 'val_y' from file: runs/alzheimer_study/data/val_y.csv\n"
     ]
    },
    {
     "name": "stdout",
     "output_type": "stream",
     "text": [
      "pimmslearn.io.datasplits - INFO     Loaded 'test_y' from file: runs/alzheimer_study/data/test_y.csv\n"
     ]
    }
   ],
   "source": [
    "data = datasplits.DataSplits.from_folder(\n",
    "    args.data, file_format=args.file_format)"
   ]
  },
  {
   "cell_type": "markdown",
   "id": "3ca12fc2-bf34-42ac-99b2-a78ff9fe7722",
   "metadata": {
    "papermill": {
     "duration": 0.007757,
     "end_time": "2024-09-18T04:05:52.254562",
     "exception": false,
     "start_time": "2024-09-18T04:05:52.246805",
     "status": "completed"
    },
    "tags": []
   },
   "source": [
    "data is loaded in long format"
   ]
  },
  {
   "cell_type": "code",
   "execution_count": 9,
   "id": "02bb6bf5-0eb1-4c73-9723-414b14eaf7c8",
   "metadata": {
    "execution": {
     "iopub.execute_input": "2024-09-18T04:05:52.270287Z",
     "iopub.status.busy": "2024-09-18T04:05:52.269632Z",
     "iopub.status.idle": "2024-09-18T04:05:52.277064Z",
     "shell.execute_reply": "2024-09-18T04:05:52.276492Z"
    },
    "papermill": {
     "duration": 0.017017,
     "end_time": "2024-09-18T04:05:52.278801",
     "exception": false,
     "start_time": "2024-09-18T04:05:52.261784",
     "status": "completed"
    },
    "tags": [
     "hide-input"
    ]
   },
   "outputs": [
    {
     "data": {
      "text/plain": [
       "Sample ID   protein groups                                                                \n",
       "Sample_000  A0A024QZX5;A0A087X1N8;P35237                                                     15.912\n",
       "            A0A024R0T9;K7ER74;P02655                                                         16.852\n",
       "            A0A024R3W6;A0A024R412;O60462;O60462-2;O60462-3;O60462-4;O60462-5;Q7LBX6;X5D2Q8   15.570\n",
       "            A0A024R644;A0A0A0MRU5;A0A1B0GWI2;O75503                                          16.481\n",
       "            A0A075B6H7                                                                       17.301\n",
       "                                                                                              ...  \n",
       "Sample_209  Q9Y6R7                                                                           19.275\n",
       "            Q9Y6X5                                                                           15.732\n",
       "            Q9Y6Y8;Q9Y6Y8-2                                                                  19.577\n",
       "            Q9Y6Y9                                                                           11.042\n",
       "            S4R3U6                                                                           11.791\n",
       "Name: intensity, Length: 226809, dtype: float64"
      ]
     },
     "execution_count": 9,
     "metadata": {},
     "output_type": "execute_result"
    }
   ],
   "source": [
    "data.train_X"
   ]
  },
  {
   "cell_type": "code",
   "execution_count": 10,
   "id": "f3311709",
   "metadata": {
    "execution": {
     "iopub.execute_input": "2024-09-18T04:05:52.298192Z",
     "iopub.status.busy": "2024-09-18T04:05:52.297888Z",
     "iopub.status.idle": "2024-09-18T04:05:52.300942Z",
     "shell.execute_reply": "2024-09-18T04:05:52.300393Z"
    },
    "papermill": {
     "duration": 0.01501,
     "end_time": "2024-09-18T04:05:52.302517",
     "exception": false,
     "start_time": "2024-09-18T04:05:52.287507",
     "status": "completed"
    },
    "tags": [
     "hide-input"
    ]
   },
   "outputs": [],
   "source": [
    "# ! add check that specified data is available\n",
    "# silent error in fastai if e.g. target column is not available"
   ]
  },
  {
   "cell_type": "markdown",
   "id": "6045414b",
   "metadata": {
    "papermill": {
     "duration": 0.009113,
     "end_time": "2024-09-18T04:05:52.320273",
     "exception": false,
     "start_time": "2024-09-18T04:05:52.311160",
     "status": "completed"
    },
    "tags": []
   },
   "source": [
    "Infer index names from long format"
   ]
  },
  {
   "cell_type": "code",
   "execution_count": 11,
   "id": "44958473",
   "metadata": {
    "execution": {
     "iopub.execute_input": "2024-09-18T04:05:52.339303Z",
     "iopub.status.busy": "2024-09-18T04:05:52.338972Z",
     "iopub.status.idle": "2024-09-18T04:05:52.344383Z",
     "shell.execute_reply": "2024-09-18T04:05:52.343778Z"
    },
    "lines_to_next_cell": 2,
    "papermill": {
     "duration": 0.017546,
     "end_time": "2024-09-18T04:05:52.346914",
     "exception": false,
     "start_time": "2024-09-18T04:05:52.329368",
     "status": "completed"
    },
    "tags": [
     "hide-input"
    ]
   },
   "outputs": [
    {
     "name": "stdout",
     "output_type": "stream",
     "text": [
      "pimmslearn - INFO     sample_id = 'Sample ID', single feature: index_column = 'protein groups'\n"
     ]
    }
   ],
   "source": [
    "index_columns = list(data.train_X.index.names)\n",
    "sample_id = index_columns.pop(args.sample_idx_position)\n",
    "if len(index_columns) == 1:\n",
    "    index_column = index_columns.pop()\n",
    "    index_columns = None\n",
    "    logger.info(f\"{sample_id = }, single feature: {index_column = }\")\n",
    "else:\n",
    "    logger.info(f\"{sample_id = }, multiple features: {index_columns = }\")\n",
    "\n",
    "if not index_columns:\n",
    "    index_columns = [sample_id, index_column]\n",
    "else:\n",
    "    raise NotImplementedError(\n",
    "        \"More than one feature: Needs to be implemented. see above logging output.\")"
   ]
  },
  {
   "cell_type": "markdown",
   "id": "a94ae06d-64dd-4f4f-abde-8485a8c8458e",
   "metadata": {
    "papermill": {
     "duration": 0.009024,
     "end_time": "2024-09-18T04:05:52.366298",
     "exception": false,
     "start_time": "2024-09-18T04:05:52.357274",
     "status": "completed"
    },
    "tags": []
   },
   "source": [
    "### Use some simulated missing for evaluation"
   ]
  },
  {
   "cell_type": "markdown",
   "id": "760dbbf8",
   "metadata": {
    "papermill": {
     "duration": 0.00976,
     "end_time": "2024-09-18T04:05:52.385663",
     "exception": false,
     "start_time": "2024-09-18T04:05:52.375903",
     "status": "completed"
    },
    "tags": []
   },
   "source": [
    "The validation simulated NA is used to by all models to evaluate training performance."
   ]
  },
  {
   "cell_type": "code",
   "execution_count": 12,
   "id": "b5b945aa-9b4e-4487-8b09-dca289e64d9d",
   "metadata": {
    "execution": {
     "iopub.execute_input": "2024-09-18T04:05:52.406265Z",
     "iopub.status.busy": "2024-09-18T04:05:52.405937Z",
     "iopub.status.idle": "2024-09-18T04:05:52.419048Z",
     "shell.execute_reply": "2024-09-18T04:05:52.418429Z"
    },
    "papermill": {
     "duration": 0.02532,
     "end_time": "2024-09-18T04:05:52.420599",
     "exception": false,
     "start_time": "2024-09-18T04:05:52.395279",
     "status": "completed"
    },
    "tags": [
     "hide-input"
    ]
   },
   "outputs": [
    {
     "data": {
      "text/html": [
       "<div>\n",
       "<style scoped>\n",
       "    .dataframe tbody tr th:only-of-type {\n",
       "        vertical-align: middle;\n",
       "    }\n",
       "\n",
       "    .dataframe tbody tr th {\n",
       "        vertical-align: top;\n",
       "    }\n",
       "\n",
       "    .dataframe thead th {\n",
       "        text-align: right;\n",
       "    }\n",
       "</style>\n",
       "<table border=\"1\" class=\"dataframe\">\n",
       "  <thead>\n",
       "    <tr style=\"text-align: right;\">\n",
       "      <th></th>\n",
       "      <th></th>\n",
       "      <th>observed</th>\n",
       "    </tr>\n",
       "    <tr>\n",
       "      <th>Sample ID</th>\n",
       "      <th>protein groups</th>\n",
       "      <th></th>\n",
       "    </tr>\n",
       "  </thead>\n",
       "  <tbody>\n",
       "    <tr>\n",
       "      <th>Sample_158</th>\n",
       "      <th>Q9UN70;Q9UN70-2</th>\n",
       "      <td>14.630</td>\n",
       "    </tr>\n",
       "    <tr>\n",
       "      <th>Sample_050</th>\n",
       "      <th>Q9Y287</th>\n",
       "      <td>15.755</td>\n",
       "    </tr>\n",
       "    <tr>\n",
       "      <th>Sample_107</th>\n",
       "      <th>Q8N475;Q8N475-2</th>\n",
       "      <td>15.029</td>\n",
       "    </tr>\n",
       "    <tr>\n",
       "      <th>Sample_199</th>\n",
       "      <th>P06307</th>\n",
       "      <td>19.376</td>\n",
       "    </tr>\n",
       "    <tr>\n",
       "      <th>Sample_067</th>\n",
       "      <th>Q5VUB5</th>\n",
       "      <td>15.309</td>\n",
       "    </tr>\n",
       "    <tr>\n",
       "      <th>...</th>\n",
       "      <th>...</th>\n",
       "      <td>...</td>\n",
       "    </tr>\n",
       "    <tr>\n",
       "      <th>Sample_111</th>\n",
       "      <th>F6SYF8;Q9UBP4</th>\n",
       "      <td>22.822</td>\n",
       "    </tr>\n",
       "    <tr>\n",
       "      <th>Sample_002</th>\n",
       "      <th>A0A0A0MT36</th>\n",
       "      <td>18.165</td>\n",
       "    </tr>\n",
       "    <tr>\n",
       "      <th>Sample_049</th>\n",
       "      <th>Q8WY21;Q8WY21-2;Q8WY21-3;Q8WY21-4</th>\n",
       "      <td>15.525</td>\n",
       "    </tr>\n",
       "    <tr>\n",
       "      <th>Sample_182</th>\n",
       "      <th>Q8NFT8</th>\n",
       "      <td>14.379</td>\n",
       "    </tr>\n",
       "    <tr>\n",
       "      <th>Sample_123</th>\n",
       "      <th>Q16853;Q16853-2</th>\n",
       "      <td>14.504</td>\n",
       "    </tr>\n",
       "  </tbody>\n",
       "</table>\n",
       "<p>12600 rows × 1 columns</p>\n",
       "</div>"
      ],
      "text/plain": [
       "                                              observed\n",
       "Sample ID  protein groups                             \n",
       "Sample_158 Q9UN70;Q9UN70-2                      14.630\n",
       "Sample_050 Q9Y287                               15.755\n",
       "Sample_107 Q8N475;Q8N475-2                      15.029\n",
       "Sample_199 P06307                               19.376\n",
       "Sample_067 Q5VUB5                               15.309\n",
       "...                                                ...\n",
       "Sample_111 F6SYF8;Q9UBP4                        22.822\n",
       "Sample_002 A0A0A0MT36                           18.165\n",
       "Sample_049 Q8WY21;Q8WY21-2;Q8WY21-3;Q8WY21-4    15.525\n",
       "Sample_182 Q8NFT8                               14.379\n",
       "Sample_123 Q16853;Q16853-2                      14.504\n",
       "\n",
       "[12600 rows x 1 columns]"
      ]
     },
     "execution_count": 12,
     "metadata": {},
     "output_type": "execute_result"
    }
   ],
   "source": [
    "val_pred_simulated_na = data.val_y.to_frame(name='observed')\n",
    "val_pred_simulated_na"
   ]
  },
  {
   "cell_type": "code",
   "execution_count": 13,
   "id": "98558b10",
   "metadata": {
    "execution": {
     "iopub.execute_input": "2024-09-18T04:05:52.444342Z",
     "iopub.status.busy": "2024-09-18T04:05:52.443978Z",
     "iopub.status.idle": "2024-09-18T04:05:52.458429Z",
     "shell.execute_reply": "2024-09-18T04:05:52.457747Z"
    },
    "lines_to_next_cell": 2,
    "papermill": {
     "duration": 0.027941,
     "end_time": "2024-09-18T04:05:52.459895",
     "exception": false,
     "start_time": "2024-09-18T04:05:52.431954",
     "status": "completed"
    },
    "tags": [
     "hide-input"
    ]
   },
   "outputs": [
    {
     "data": {
      "text/html": [
       "<div>\n",
       "<style scoped>\n",
       "    .dataframe tbody tr th:only-of-type {\n",
       "        vertical-align: middle;\n",
       "    }\n",
       "\n",
       "    .dataframe tbody tr th {\n",
       "        vertical-align: top;\n",
       "    }\n",
       "\n",
       "    .dataframe thead th {\n",
       "        text-align: right;\n",
       "    }\n",
       "</style>\n",
       "<table border=\"1\" class=\"dataframe\">\n",
       "  <thead>\n",
       "    <tr style=\"text-align: right;\">\n",
       "      <th></th>\n",
       "      <th>observed</th>\n",
       "    </tr>\n",
       "  </thead>\n",
       "  <tbody>\n",
       "    <tr>\n",
       "      <th>count</th>\n",
       "      <td>12,600.000</td>\n",
       "    </tr>\n",
       "    <tr>\n",
       "      <th>mean</th>\n",
       "      <td>16.339</td>\n",
       "    </tr>\n",
       "    <tr>\n",
       "      <th>std</th>\n",
       "      <td>2.741</td>\n",
       "    </tr>\n",
       "    <tr>\n",
       "      <th>min</th>\n",
       "      <td>7.209</td>\n",
       "    </tr>\n",
       "    <tr>\n",
       "      <th>25%</th>\n",
       "      <td>14.412</td>\n",
       "    </tr>\n",
       "    <tr>\n",
       "      <th>50%</th>\n",
       "      <td>15.935</td>\n",
       "    </tr>\n",
       "    <tr>\n",
       "      <th>75%</th>\n",
       "      <td>17.910</td>\n",
       "    </tr>\n",
       "    <tr>\n",
       "      <th>max</th>\n",
       "      <td>30.140</td>\n",
       "    </tr>\n",
       "  </tbody>\n",
       "</table>\n",
       "</div>"
      ],
      "text/plain": [
       "        observed\n",
       "count 12,600.000\n",
       "mean      16.339\n",
       "std        2.741\n",
       "min        7.209\n",
       "25%       14.412\n",
       "50%       15.935\n",
       "75%       17.910\n",
       "max       30.140"
      ]
     },
     "execution_count": 13,
     "metadata": {},
     "output_type": "execute_result"
    }
   ],
   "source": [
    "test_pred_simulated_na = data.test_y.to_frame(name='observed')\n",
    "test_pred_simulated_na.describe()"
   ]
  },
  {
   "cell_type": "markdown",
   "id": "d00ea8e9-7f48-4f72-b013-7010666aa1a2",
   "metadata": {
    "papermill": {
     "duration": 0.010917,
     "end_time": "2024-09-18T04:05:52.482683",
     "exception": false,
     "start_time": "2024-09-18T04:05:52.471766",
     "status": "completed"
    },
    "tags": []
   },
   "source": [
    "## Collaborative Filtering\n",
    "\n",
    "- save custom collab batch size (increase AE batch size by a factor), could be setup separately.\n",
    "- the test data is used to evaluate the performance after training"
   ]
  },
  {
   "cell_type": "code",
   "execution_count": 14,
   "id": "3ee54305-266a-479a-b677-f151ddde250a",
   "metadata": {
    "execution": {
     "iopub.execute_input": "2024-09-18T04:05:52.505867Z",
     "iopub.status.busy": "2024-09-18T04:05:52.505530Z",
     "iopub.status.idle": "2024-09-18T04:05:52.750128Z",
     "shell.execute_reply": "2024-09-18T04:05:52.749571Z"
    },
    "papermill": {
     "duration": 0.257522,
     "end_time": "2024-09-18T04:05:52.751412",
     "exception": false,
     "start_time": "2024-09-18T04:05:52.493890",
     "status": "completed"
    },
    "tags": [
     "hide-input"
    ]
   },
   "outputs": [],
   "source": [
    "# larger mini-batches speed up training\n",
    "ana_collab = models.collab.CollabAnalysis(\n",
    "    datasplits=data,\n",
    "    sample_column=sample_id,\n",
    "    item_column=index_column,  # not generic\n",
    "    target_column='intensity',\n",
    "    model_kwargs=dict(n_factors=args.latent_dim,\n",
    "                      y_range=(int(data.train_X.min()),\n",
    "                               int(data.train_X.max()) + 1)\n",
    "                      ),\n",
    "    batch_size=args.batch_size)"
   ]
  },
  {
   "cell_type": "code",
   "execution_count": 15,
   "id": "12ffa243-151e-4220-a1d5-247f8aba3429",
   "metadata": {
    "execution": {
     "iopub.execute_input": "2024-09-18T04:05:52.769247Z",
     "iopub.status.busy": "2024-09-18T04:05:52.768997Z",
     "iopub.status.idle": "2024-09-18T04:05:52.772153Z",
     "shell.execute_reply": "2024-09-18T04:05:52.771666Z"
    },
    "lines_to_next_cell": 2,
    "papermill": {
     "duration": 0.014109,
     "end_time": "2024-09-18T04:05:52.774017",
     "exception": false,
     "start_time": "2024-09-18T04:05:52.759908",
     "status": "completed"
    },
    "tags": [
     "hide-input"
    ]
   },
   "outputs": [
    {
     "name": "stdout",
     "output_type": "stream",
     "text": [
      "Args:\n",
      "{'n_factors': 50, 'y_range': (7, 31)}\n"
     ]
    }
   ],
   "source": [
    "print(\"Args:\")\n",
    "pprint(ana_collab.model_kwargs)"
   ]
  },
  {
   "cell_type": "code",
   "execution_count": 16,
   "id": "4a02e061-6789-4f3d-8031-a40879c496c8",
   "metadata": {
    "execution": {
     "iopub.execute_input": "2024-09-18T04:05:52.791306Z",
     "iopub.status.busy": "2024-09-18T04:05:52.791070Z",
     "iopub.status.idle": "2024-09-18T04:05:52.800946Z",
     "shell.execute_reply": "2024-09-18T04:05:52.800402Z"
    },
    "papermill": {
     "duration": 0.01948,
     "end_time": "2024-09-18T04:05:52.802010",
     "exception": false,
     "start_time": "2024-09-18T04:05:52.782530",
     "status": "completed"
    },
    "tags": [
     "hide-input"
    ]
   },
   "outputs": [],
   "source": [
    "ana_collab.model = EmbeddingDotBias.from_classes(\n",
    "    classes=ana_collab.dls.classes,\n",
    "    **ana_collab.model_kwargs)\n",
    "\n",
    "args.n_params = models.calc_net_weight_count(ana_collab.model)\n",
    "ana_collab.params['n_parameters'] = args.n_params\n",
    "ana_collab.learn = Learner(dls=ana_collab.dls, model=ana_collab.model, loss_func=MSELossFlat(),\n",
    "                           cbs=EarlyStoppingCallback(patience=args.patience),\n",
    "                           model_dir=args.out_models)\n",
    "if args.cuda:\n",
    "    ana_collab.learn.model = ana_collab.learn.model.cuda()\n",
    "else:\n",
    "    # try to set explicitly cpu in case not cuda\n",
    "    # MPS logic might not work properly in fastai yet https://github.com/fastai/fastai/pull/3858\n",
    "    ana_collab.learn.model = ana_collab.learn.model.cpu()\n",
    "\n",
    "# learn.summary() # see comment at DAE"
   ]
  },
  {
   "cell_type": "markdown",
   "id": "f82a7346-0b44-44a4-b995-d655e05656f8",
   "metadata": {
    "papermill": {
     "duration": 0.007853,
     "end_time": "2024-09-18T04:05:52.819053",
     "exception": false,
     "start_time": "2024-09-18T04:05:52.811200",
     "status": "completed"
    },
    "tags": []
   },
   "source": [
    "### Training"
   ]
  },
  {
   "cell_type": "code",
   "execution_count": 17,
   "id": "8317c9e1-d128-4ab4-8d60-775cb85ef535",
   "metadata": {
    "execution": {
     "iopub.execute_input": "2024-09-18T04:05:52.836230Z",
     "iopub.status.busy": "2024-09-18T04:05:52.835976Z",
     "iopub.status.idle": "2024-09-18T04:06:21.705512Z",
     "shell.execute_reply": "2024-09-18T04:06:21.704943Z"
    },
    "papermill": {
     "duration": 28.879619,
     "end_time": "2024-09-18T04:06:21.706649",
     "exception": false,
     "start_time": "2024-09-18T04:05:52.827030",
     "status": "completed"
    },
    "tags": [
     "hide-input"
    ]
   },
   "outputs": [
    {
     "data": {
      "text/html": [
       "\n",
       "<style>\n",
       "    /* Turns off some styling */\n",
       "    progress {\n",
       "        /* gets rid of default border in Firefox and Opera. */\n",
       "        border: none;\n",
       "        /* Needs to be in here for Safari polyfill so background images work as expected. */\n",
       "        background-size: auto;\n",
       "    }\n",
       "    progress:not([value]), progress:not([value])::-webkit-progress-bar {\n",
       "        background: repeating-linear-gradient(45deg, #7e7e7e, #7e7e7e 10px, #5c5c5c 10px, #5c5c5c 20px);\n",
       "    }\n",
       "    .progress-bar-interrupted, .progress-bar-interrupted::-webkit-progress-bar {\n",
       "        background: #F44336;\n",
       "    }\n",
       "</style>\n"
      ],
      "text/plain": [
       "<IPython.core.display.HTML object>"
      ]
     },
     "metadata": {},
     "output_type": "display_data"
    },
    {
     "data": {
      "text/html": [],
      "text/plain": [
       "<IPython.core.display.HTML object>"
      ]
     },
     "metadata": {},
     "output_type": "display_data"
    },
    {
     "name": "stdout",
     "output_type": "stream",
     "text": [
      "suggested_lr.valley = 0.00437\n"
     ]
    },
    {
     "name": "stderr",
     "output_type": "stream",
     "text": [
      "/home/runner/work/pimms/pimms/project/.snakemake/conda/6192e93206804e092b1c71b91535a817_/lib/python3.12/site-packages/fastai/learner.py:53: FutureWarning: You are using `torch.load` with `weights_only=False` (the current default value), which uses the default pickle module implicitly. It is possible to construct malicious pickle data which will execute arbitrary code during unpickling (See https://github.com/pytorch/pytorch/blob/main/SECURITY.md#untrusted-models for more details). In a future release, the default value for `weights_only` will be flipped to `True`. This limits the functions that could be executed during unpickling. Arbitrary objects will no longer be allowed to be loaded via this mode unless they are explicitly allowlisted by the user via `torch.serialization.add_safe_globals`. We recommend you start setting `weights_only=True` for any use case where you don't have full control of the loaded file. Please open an issue on GitHub for any issues related to this experimental feature.\n",
      "  state = torch.load(file, map_location=device, **torch_load_kwargs)\n"
     ]
    },
    {
     "data": {
      "text/html": [
       "\n",
       "<style>\n",
       "    /* Turns off some styling */\n",
       "    progress {\n",
       "        /* gets rid of default border in Firefox and Opera. */\n",
       "        border: none;\n",
       "        /* Needs to be in here for Safari polyfill so background images work as expected. */\n",
       "        background-size: auto;\n",
       "    }\n",
       "    progress:not([value]), progress:not([value])::-webkit-progress-bar {\n",
       "        background: repeating-linear-gradient(45deg, #7e7e7e, #7e7e7e 10px, #5c5c5c 10px, #5c5c5c 20px);\n",
       "    }\n",
       "    .progress-bar-interrupted, .progress-bar-interrupted::-webkit-progress-bar {\n",
       "        background: #F44336;\n",
       "    }\n",
       "</style>\n"
      ],
      "text/plain": [
       "<IPython.core.display.HTML object>"
      ]
     },
     "metadata": {},
     "output_type": "display_data"
    },
    {
     "data": {
      "text/html": [
       "<table border=\"1\" class=\"dataframe\">\n",
       "  <thead>\n",
       "    <tr style=\"text-align: left;\">\n",
       "      <th>epoch</th>\n",
       "      <th>train_loss</th>\n",
       "      <th>valid_loss</th>\n",
       "      <th>time</th>\n",
       "    </tr>\n",
       "  </thead>\n",
       "  <tbody>\n",
       "    <tr>\n",
       "      <td>0</td>\n",
       "      <td>8.524518</td>\n",
       "      <td>12.473914</td>\n",
       "      <td>00:01</td>\n",
       "    </tr>\n",
       "    <tr>\n",
       "      <td>1</td>\n",
       "      <td>5.581084</td>\n",
       "      <td>7.742118</td>\n",
       "      <td>00:01</td>\n",
       "    </tr>\n",
       "    <tr>\n",
       "      <td>2</td>\n",
       "      <td>1.896390</td>\n",
       "      <td>2.565720</td>\n",
       "      <td>00:01</td>\n",
       "    </tr>\n",
       "    <tr>\n",
       "      <td>3</td>\n",
       "      <td>0.777393</td>\n",
       "      <td>1.001940</td>\n",
       "      <td>00:01</td>\n",
       "    </tr>\n",
       "    <tr>\n",
       "      <td>4</td>\n",
       "      <td>0.573142</td>\n",
       "      <td>0.753373</td>\n",
       "      <td>00:01</td>\n",
       "    </tr>\n",
       "    <tr>\n",
       "      <td>5</td>\n",
       "      <td>0.566358</td>\n",
       "      <td>0.735680</td>\n",
       "      <td>00:01</td>\n",
       "    </tr>\n",
       "    <tr>\n",
       "      <td>6</td>\n",
       "      <td>0.525744</td>\n",
       "      <td>0.704686</td>\n",
       "      <td>00:01</td>\n",
       "    </tr>\n",
       "    <tr>\n",
       "      <td>7</td>\n",
       "      <td>0.477330</td>\n",
       "      <td>0.627988</td>\n",
       "      <td>00:01</td>\n",
       "    </tr>\n",
       "    <tr>\n",
       "      <td>8</td>\n",
       "      <td>0.414883</td>\n",
       "      <td>0.572227</td>\n",
       "      <td>00:01</td>\n",
       "    </tr>\n",
       "    <tr>\n",
       "      <td>9</td>\n",
       "      <td>0.378408</td>\n",
       "      <td>0.533278</td>\n",
       "      <td>00:01</td>\n",
       "    </tr>\n",
       "    <tr>\n",
       "      <td>10</td>\n",
       "      <td>0.348946</td>\n",
       "      <td>0.508153</td>\n",
       "      <td>00:01</td>\n",
       "    </tr>\n",
       "    <tr>\n",
       "      <td>11</td>\n",
       "      <td>0.311356</td>\n",
       "      <td>0.478971</td>\n",
       "      <td>00:01</td>\n",
       "    </tr>\n",
       "    <tr>\n",
       "      <td>12</td>\n",
       "      <td>0.284034</td>\n",
       "      <td>0.464912</td>\n",
       "      <td>00:01</td>\n",
       "    </tr>\n",
       "    <tr>\n",
       "      <td>13</td>\n",
       "      <td>0.247798</td>\n",
       "      <td>0.462394</td>\n",
       "      <td>00:01</td>\n",
       "    </tr>\n",
       "    <tr>\n",
       "      <td>14</td>\n",
       "      <td>0.222534</td>\n",
       "      <td>0.461600</td>\n",
       "      <td>00:01</td>\n",
       "    </tr>\n",
       "    <tr>\n",
       "      <td>15</td>\n",
       "      <td>0.205735</td>\n",
       "      <td>0.471619</td>\n",
       "      <td>00:01</td>\n",
       "    </tr>\n",
       "  </tbody>\n",
       "</table>"
      ],
      "text/plain": [
       "<IPython.core.display.HTML object>"
      ]
     },
     "metadata": {},
     "output_type": "display_data"
    },
    {
     "name": "stdout",
     "output_type": "stream",
     "text": [
      "No improvement since epoch 14: early stopping\n"
     ]
    },
    {
     "name": "stdout",
     "output_type": "stream",
     "text": [
      "pimmslearn.plotting - INFO     Saved Figures to runs/alzheimer_study/figures/collab_training\n"
     ]
    },
    {
     "data": {
      "image/png": "[encoded data removed]",
      "text/plain": [
       "<Figure size 2352x1029 with 1 Axes>"
      ]
     },
     "metadata": {},
     "output_type": "display_data"
    },
    {
     "data": {
      "image/png": "[encoded data removed]",
      "text/plain": [
       "<Figure size 2205x1176 with 1 Axes>"
      ]
     },
     "metadata": {},
     "output_type": "display_data"
    }
   ],
   "source": [
    "# papermill_description=train_collab\n",
    "suggested_lr = ana_collab.learn.lr_find()\n",
    "print(f\"{suggested_lr.valley = :.5f}\")\n",
    "ana_collab.learn.fit_one_cycle(args.epochs_max, lr_max=suggested_lr.valley)\n",
    "args.epoch_trained = ana_collab.learn.epoch + 1\n",
    "# ana_collab.learn.fit_one_cycle(args.epochs_max, lr_max=1e-3)\n",
    "ana_collab.model_kwargs['suggested_inital_lr'] = suggested_lr.valley\n",
    "ana_collab.learn.save('collab_model')\n",
    "fig, ax = plt.subplots(figsize=(15, 8))\n",
    "ax.set_title('CF loss: Reconstruction loss')\n",
    "ana_collab.learn.recorder.plot_loss(skip_start=5, ax=ax)\n",
    "recorder_dump = RecorderDump(\n",
    "    recorder=ana_collab.learn.recorder, name='CF')\n",
    "recorder_dump.save(args.out_figures)\n",
    "del recorder_dump\n",
    "pimmslearn.savefig(fig, name='collab_training',\n",
    "                   folder=args.out_figures)\n",
    "ana_collab.model_kwargs['batch_size'] = ana_collab.batch_size\n",
    "pimmslearn.io.dump_json(ana_collab.model_kwargs, args.out_models /\n",
    "                        TEMPLATE_MODEL_PARAMS.format('CF'))"
   ]
  },
  {
   "cell_type": "markdown",
   "id": "e979b7f0-a673-4d3d-9d53-6ac02618eaed",
   "metadata": {
    "papermill": {
     "duration": 0.012857,
     "end_time": "2024-09-18T04:06:21.734233",
     "exception": false,
     "start_time": "2024-09-18T04:06:21.721376",
     "status": "completed"
    },
    "tags": []
   },
   "source": [
    "### Predictions"
   ]
  },
  {
   "cell_type": "markdown",
   "id": "6ee5b225-d50a-4189-9995-ad99c4d47a45",
   "metadata": {
    "papermill": {
     "duration": 0.012966,
     "end_time": "2024-09-18T04:06:21.758588",
     "exception": false,
     "start_time": "2024-09-18T04:06:21.745622",
     "status": "completed"
    },
    "tags": []
   },
   "source": [
    "Compare simulated_na data predictions to original values"
   ]
  },
  {
   "cell_type": "code",
   "execution_count": 18,
   "id": "bb76e6c5-e135-41c4-95e8-a56c3764c731",
   "metadata": {
    "execution": {
     "iopub.execute_input": "2024-09-18T04:06:21.787713Z",
     "iopub.status.busy": "2024-09-18T04:06:21.787270Z",
     "iopub.status.idle": "2024-09-18T04:06:21.874113Z",
     "shell.execute_reply": "2024-09-18T04:06:21.873567Z"
    },
    "lines_to_next_cell": 2,
    "papermill": {
     "duration": 0.102906,
     "end_time": "2024-09-18T04:06:21.875276",
     "exception": false,
     "start_time": "2024-09-18T04:06:21.772370",
     "status": "completed"
    },
    "tags": [
     "hide-input"
    ]
   },
   "outputs": [
    {
     "data": {
      "text/html": [
       "\n",
       "<style>\n",
       "    /* Turns off some styling */\n",
       "    progress {\n",
       "        /* gets rid of default border in Firefox and Opera. */\n",
       "        border: none;\n",
       "        /* Needs to be in here for Safari polyfill so background images work as expected. */\n",
       "        background-size: auto;\n",
       "    }\n",
       "    progress:not([value]), progress:not([value])::-webkit-progress-bar {\n",
       "        background: repeating-linear-gradient(45deg, #7e7e7e, #7e7e7e 10px, #5c5c5c 10px, #5c5c5c 20px);\n",
       "    }\n",
       "    .progress-bar-interrupted, .progress-bar-interrupted::-webkit-progress-bar {\n",
       "        background: #F44336;\n",
       "    }\n",
       "</style>\n"
      ],
      "text/plain": [
       "<IPython.core.display.HTML object>"
      ]
     },
     "metadata": {},
     "output_type": "display_data"
    },
    {
     "data": {
      "text/html": [],
      "text/plain": [
       "<IPython.core.display.HTML object>"
      ]
     },
     "metadata": {},
     "output_type": "display_data"
    },
    {
     "data": {
      "text/html": [
       "<div>\n",
       "<style scoped>\n",
       "    .dataframe tbody tr th:only-of-type {\n",
       "        vertical-align: middle;\n",
       "    }\n",
       "\n",
       "    .dataframe tbody tr th {\n",
       "        vertical-align: top;\n",
       "    }\n",
       "\n",
       "    .dataframe thead th {\n",
       "        text-align: right;\n",
       "    }\n",
       "</style>\n",
       "<table border=\"1\" class=\"dataframe\">\n",
       "  <thead>\n",
       "    <tr style=\"text-align: right;\">\n",
       "      <th></th>\n",
       "      <th></th>\n",
       "      <th>observed</th>\n",
       "      <th>CF</th>\n",
       "    </tr>\n",
       "    <tr>\n",
       "      <th>Sample ID</th>\n",
       "      <th>protein groups</th>\n",
       "      <th></th>\n",
       "      <th></th>\n",
       "    </tr>\n",
       "  </thead>\n",
       "  <tbody>\n",
       "    <tr>\n",
       "      <th>Sample_158</th>\n",
       "      <th>Q9UN70;Q9UN70-2</th>\n",
       "      <td>14.630</td>\n",
       "      <td>15.815</td>\n",
       "    </tr>\n",
       "    <tr>\n",
       "      <th>Sample_050</th>\n",
       "      <th>Q9Y287</th>\n",
       "      <td>15.755</td>\n",
       "      <td>16.299</td>\n",
       "    </tr>\n",
       "    <tr>\n",
       "      <th>Sample_107</th>\n",
       "      <th>Q8N475;Q8N475-2</th>\n",
       "      <td>15.029</td>\n",
       "      <td>13.756</td>\n",
       "    </tr>\n",
       "    <tr>\n",
       "      <th>Sample_199</th>\n",
       "      <th>P06307</th>\n",
       "      <td>19.376</td>\n",
       "      <td>19.893</td>\n",
       "    </tr>\n",
       "    <tr>\n",
       "      <th>Sample_067</th>\n",
       "      <th>Q5VUB5</th>\n",
       "      <td>15.309</td>\n",
       "      <td>15.273</td>\n",
       "    </tr>\n",
       "    <tr>\n",
       "      <th>...</th>\n",
       "      <th>...</th>\n",
       "      <td>...</td>\n",
       "      <td>...</td>\n",
       "    </tr>\n",
       "    <tr>\n",
       "      <th>Sample_111</th>\n",
       "      <th>F6SYF8;Q9UBP4</th>\n",
       "      <td>22.822</td>\n",
       "      <td>22.705</td>\n",
       "    </tr>\n",
       "    <tr>\n",
       "      <th>Sample_002</th>\n",
       "      <th>A0A0A0MT36</th>\n",
       "      <td>18.165</td>\n",
       "      <td>15.274</td>\n",
       "    </tr>\n",
       "    <tr>\n",
       "      <th>Sample_049</th>\n",
       "      <th>Q8WY21;Q8WY21-2;Q8WY21-3;Q8WY21-4</th>\n",
       "      <td>15.525</td>\n",
       "      <td>15.579</td>\n",
       "    </tr>\n",
       "    <tr>\n",
       "      <th>Sample_182</th>\n",
       "      <th>Q8NFT8</th>\n",
       "      <td>14.379</td>\n",
       "      <td>13.783</td>\n",
       "    </tr>\n",
       "    <tr>\n",
       "      <th>Sample_123</th>\n",
       "      <th>Q16853;Q16853-2</th>\n",
       "      <td>14.504</td>\n",
       "      <td>14.425</td>\n",
       "    </tr>\n",
       "  </tbody>\n",
       "</table>\n",
       "<p>12600 rows × 2 columns</p>\n",
       "</div>"
      ],
      "text/plain": [
       "                                              observed     CF\n",
       "Sample ID  protein groups                                    \n",
       "Sample_158 Q9UN70;Q9UN70-2                      14.630 15.815\n",
       "Sample_050 Q9Y287                               15.755 16.299\n",
       "Sample_107 Q8N475;Q8N475-2                      15.029 13.756\n",
       "Sample_199 P06307                               19.376 19.893\n",
       "Sample_067 Q5VUB5                               15.309 15.273\n",
       "...                                                ...    ...\n",
       "Sample_111 F6SYF8;Q9UBP4                        22.822 22.705\n",
       "Sample_002 A0A0A0MT36                           18.165 15.274\n",
       "Sample_049 Q8WY21;Q8WY21-2;Q8WY21-3;Q8WY21-4    15.525 15.579\n",
       "Sample_182 Q8NFT8                               14.379 13.783\n",
       "Sample_123 Q16853;Q16853-2                      14.504 14.425\n",
       "\n",
       "[12600 rows x 2 columns]"
      ]
     },
     "execution_count": 18,
     "metadata": {},
     "output_type": "execute_result"
    }
   ],
   "source": [
    "# this could be done using the validation data laoder now\n",
    "ana_collab.test_dl = ana_collab.dls.test_dl(\n",
    "    data.val_y.reset_index())  # test_dl is here validation data\n",
    "val_pred_simulated_na['CF'], _ = ana_collab.learn.get_preds(\n",
    "    dl=ana_collab.test_dl)\n",
    "val_pred_simulated_na"
   ]
  },
  {
   "cell_type": "markdown",
   "id": "bd22f63f-be3f-4f25-ad60-bafd6b028bd7",
   "metadata": {
    "papermill": {
     "duration": 0.014717,
     "end_time": "2024-09-18T04:06:21.905087",
     "exception": false,
     "start_time": "2024-09-18T04:06:21.890370",
     "status": "completed"
    },
    "tags": []
   },
   "source": [
    "select test data predictions"
   ]
  },
  {
   "cell_type": "code",
   "execution_count": 19,
   "id": "c7f0c597-d3c7-42d0-a6ef-3bc4c13121b8",
   "metadata": {
    "execution": {
     "iopub.execute_input": "2024-09-18T04:06:21.935429Z",
     "iopub.status.busy": "2024-09-18T04:06:21.934926Z",
     "iopub.status.idle": "2024-09-18T04:06:22.035799Z",
     "shell.execute_reply": "2024-09-18T04:06:22.035141Z"
    },
    "papermill": {
     "duration": 0.117464,
     "end_time": "2024-09-18T04:06:22.036822",
     "exception": false,
     "start_time": "2024-09-18T04:06:21.919358",
     "status": "completed"
    },
    "tags": [
     "hide-input"
    ]
   },
   "outputs": [
    {
     "data": {
      "text/html": [
       "\n",
       "<style>\n",
       "    /* Turns off some styling */\n",
       "    progress {\n",
       "        /* gets rid of default border in Firefox and Opera. */\n",
       "        border: none;\n",
       "        /* Needs to be in here for Safari polyfill so background images work as expected. */\n",
       "        background-size: auto;\n",
       "    }\n",
       "    progress:not([value]), progress:not([value])::-webkit-progress-bar {\n",
       "        background: repeating-linear-gradient(45deg, #7e7e7e, #7e7e7e 10px, #5c5c5c 10px, #5c5c5c 20px);\n",
       "    }\n",
       "    .progress-bar-interrupted, .progress-bar-interrupted::-webkit-progress-bar {\n",
       "        background: #F44336;\n",
       "    }\n",
       "</style>\n"
      ],
      "text/plain": [
       "<IPython.core.display.HTML object>"
      ]
     },
     "metadata": {},
     "output_type": "display_data"
    },
    {
     "data": {
      "text/html": [],
      "text/plain": [
       "<IPython.core.display.HTML object>"
      ]
     },
     "metadata": {},
     "output_type": "display_data"
    },
    {
     "data": {
      "text/html": [
       "<div>\n",
       "<style scoped>\n",
       "    .dataframe tbody tr th:only-of-type {\n",
       "        vertical-align: middle;\n",
       "    }\n",
       "\n",
       "    .dataframe tbody tr th {\n",
       "        vertical-align: top;\n",
       "    }\n",
       "\n",
       "    .dataframe thead th {\n",
       "        text-align: right;\n",
       "    }\n",
       "</style>\n",
       "<table border=\"1\" class=\"dataframe\">\n",
       "  <thead>\n",
       "    <tr style=\"text-align: right;\">\n",
       "      <th></th>\n",
       "      <th></th>\n",
       "      <th>observed</th>\n",
       "      <th>CF</th>\n",
       "    </tr>\n",
       "    <tr>\n",
       "      <th>Sample ID</th>\n",
       "      <th>protein groups</th>\n",
       "      <th></th>\n",
       "      <th></th>\n",
       "    </tr>\n",
       "  </thead>\n",
       "  <tbody>\n",
       "    <tr>\n",
       "      <th rowspan=\"5\" valign=\"top\">Sample_000</th>\n",
       "      <th>A0A075B6P5;P01615</th>\n",
       "      <td>17.016</td>\n",
       "      <td>17.536</td>\n",
       "    </tr>\n",
       "    <tr>\n",
       "      <th>A0A087X089;Q16627;Q16627-2</th>\n",
       "      <td>18.280</td>\n",
       "      <td>18.149</td>\n",
       "    </tr>\n",
       "    <tr>\n",
       "      <th>A0A0B4J2B5;S4R460</th>\n",
       "      <td>21.735</td>\n",
       "      <td>22.196</td>\n",
       "    </tr>\n",
       "    <tr>\n",
       "      <th>A0A140T971;O95865;Q5SRR8;Q5SSV3</th>\n",
       "      <td>14.603</td>\n",
       "      <td>15.021</td>\n",
       "    </tr>\n",
       "    <tr>\n",
       "      <th>A0A140TA33;A0A140TA41;A0A140TA52;P22105;P22105-3;P22105-4</th>\n",
       "      <td>16.143</td>\n",
       "      <td>16.564</td>\n",
       "    </tr>\n",
       "    <tr>\n",
       "      <th>...</th>\n",
       "      <th>...</th>\n",
       "      <td>...</td>\n",
       "      <td>...</td>\n",
       "    </tr>\n",
       "    <tr>\n",
       "      <th rowspan=\"5\" valign=\"top\">Sample_209</th>\n",
       "      <th>Q96ID5</th>\n",
       "      <td>16.074</td>\n",
       "      <td>15.727</td>\n",
       "    </tr>\n",
       "    <tr>\n",
       "      <th>Q9H492;Q9H492-2</th>\n",
       "      <td>13.173</td>\n",
       "      <td>13.621</td>\n",
       "    </tr>\n",
       "    <tr>\n",
       "      <th>Q9HC57</th>\n",
       "      <td>14.207</td>\n",
       "      <td>13.577</td>\n",
       "    </tr>\n",
       "    <tr>\n",
       "      <th>Q9NPH3;Q9NPH3-2;Q9NPH3-5</th>\n",
       "      <td>14.962</td>\n",
       "      <td>15.266</td>\n",
       "    </tr>\n",
       "    <tr>\n",
       "      <th>Q9UGM5;Q9UGM5-2</th>\n",
       "      <td>16.871</td>\n",
       "      <td>16.101</td>\n",
       "    </tr>\n",
       "  </tbody>\n",
       "</table>\n",
       "<p>12600 rows × 2 columns</p>\n",
       "</div>"
      ],
      "text/plain": [
       "                                                                      observed  \\\n",
       "Sample ID  protein groups                                                        \n",
       "Sample_000 A0A075B6P5;P01615                                            17.016   \n",
       "           A0A087X089;Q16627;Q16627-2                                   18.280   \n",
       "           A0A0B4J2B5;S4R460                                            21.735   \n",
       "           A0A140T971;O95865;Q5SRR8;Q5SSV3                              14.603   \n",
       "           A0A140TA33;A0A140TA41;A0A140TA52;P22105;P22105-3;P22105-4    16.143   \n",
       "...                                                                        ...   \n",
       "Sample_209 Q96ID5                                                       16.074   \n",
       "           Q9H492;Q9H492-2                                              13.173   \n",
       "           Q9HC57                                                       14.207   \n",
       "           Q9NPH3;Q9NPH3-2;Q9NPH3-5                                     14.962   \n",
       "           Q9UGM5;Q9UGM5-2                                              16.871   \n",
       "\n",
       "                                                                         CF  \n",
       "Sample ID  protein groups                                                    \n",
       "Sample_000 A0A075B6P5;P01615                                         17.536  \n",
       "           A0A087X089;Q16627;Q16627-2                                18.149  \n",
       "           A0A0B4J2B5;S4R460                                         22.196  \n",
       "           A0A140T971;O95865;Q5SRR8;Q5SSV3                           15.021  \n",
       "           A0A140TA33;A0A140TA41;A0A140TA52;P22105;P22105-3;P22105-4 16.564  \n",
       "...                                                                     ...  \n",
       "Sample_209 Q96ID5                                                    15.727  \n",
       "           Q9H492;Q9H492-2                                           13.621  \n",
       "           Q9HC57                                                    13.577  \n",
       "           Q9NPH3;Q9NPH3-2;Q9NPH3-5                                  15.266  \n",
       "           Q9UGM5;Q9UGM5-2                                           16.101  \n",
       "\n",
       "[12600 rows x 2 columns]"
      ]
     },
     "execution_count": 19,
     "metadata": {},
     "output_type": "execute_result"
    }
   ],
   "source": [
    "ana_collab.test_dl = ana_collab.dls.test_dl(data.test_y.reset_index())\n",
    "test_pred_simulated_na['CF'], _ = ana_collab.learn.get_preds(dl=ana_collab.test_dl)\n",
    "test_pred_simulated_na"
   ]
  },
  {
   "cell_type": "code",
   "execution_count": 20,
   "id": "1cd76df6",
   "metadata": {
    "execution": {
     "iopub.execute_input": "2024-09-18T04:06:22.055433Z",
     "iopub.status.busy": "2024-09-18T04:06:22.054689Z",
     "iopub.status.idle": "2024-09-18T04:06:22.545250Z",
     "shell.execute_reply": "2024-09-18T04:06:22.544576Z"
    },
    "lines_to_next_cell": 2,
    "papermill": {
     "duration": 0.501085,
     "end_time": "2024-09-18T04:06:22.546635",
     "exception": false,
     "start_time": "2024-09-18T04:06:22.045550",
     "status": "completed"
    },
    "tags": [
     "hide-input"
    ]
   },
   "outputs": [
    {
     "data": {
      "text/html": [
       "\n",
       "<style>\n",
       "    /* Turns off some styling */\n",
       "    progress {\n",
       "        /* gets rid of default border in Firefox and Opera. */\n",
       "        border: none;\n",
       "        /* Needs to be in here for Safari polyfill so background images work as expected. */\n",
       "        background-size: auto;\n",
       "    }\n",
       "    progress:not([value]), progress:not([value])::-webkit-progress-bar {\n",
       "        background: repeating-linear-gradient(45deg, #7e7e7e, #7e7e7e 10px, #5c5c5c 10px, #5c5c5c 20px);\n",
       "    }\n",
       "    .progress-bar-interrupted, .progress-bar-interrupted::-webkit-progress-bar {\n",
       "        background: #F44336;\n",
       "    }\n",
       "</style>\n"
      ],
      "text/plain": [
       "<IPython.core.display.HTML object>"
      ]
     },
     "metadata": {},
     "output_type": "display_data"
    },
    {
     "data": {
      "text/html": [],
      "text/plain": [
       "<IPython.core.display.HTML object>"
      ]
     },
     "metadata": {},
     "output_type": "display_data"
    }
   ],
   "source": [
    "if args.save_pred_real_na:\n",
    "    pred_real_na = models.collab.get_missing_values(\n",
    "        df_train_long=data.train_X,\n",
    "        val_idx=data.val_y.index,\n",
    "        test_idx=data.test_y.index,\n",
    "        analysis_collab=ana_collab)\n",
    "    pred_real_na.to_csv(args.out_preds / f\"pred_real_na_{args.model_key}.csv\")"
   ]
  },
  {
   "cell_type": "markdown",
   "id": "49eced7a-6cd7-414e-b974-4bd1dbe3a787",
   "metadata": {
    "papermill": {
     "duration": 0.015887,
     "end_time": "2024-09-18T04:06:22.578611",
     "exception": false,
     "start_time": "2024-09-18T04:06:22.562724",
     "status": "completed"
    },
    "tags": []
   },
   "source": [
    "## Data in wide format\n",
    "\n",
    "- Autoencoder need data in wide format"
   ]
  },
  {
   "cell_type": "code",
   "execution_count": 21,
   "id": "cff8caf4-ccc9-4a36-a992-2cc596abe51a",
   "metadata": {
    "execution": {
     "iopub.execute_input": "2024-09-18T04:06:22.608742Z",
     "iopub.status.busy": "2024-09-18T04:06:22.608428Z",
     "iopub.status.idle": "2024-09-18T04:06:22.655616Z",
     "shell.execute_reply": "2024-09-18T04:06:22.655043Z"
    },
    "lines_to_next_cell": 2,
    "papermill": {
     "duration": 0.064381,
     "end_time": "2024-09-18T04:06:22.656795",
     "exception": false,
     "start_time": "2024-09-18T04:06:22.592414",
     "status": "completed"
    },
    "tags": [
     "hide-input"
    ]
   },
   "outputs": [
    {
     "data": {
      "text/html": [
       "<div>\n",
       "<style scoped>\n",
       "    .dataframe tbody tr th:only-of-type {\n",
       "        vertical-align: middle;\n",
       "    }\n",
       "\n",
       "    .dataframe tbody tr th {\n",
       "        vertical-align: top;\n",
       "    }\n",
       "\n",
       "    .dataframe thead th {\n",
       "        text-align: right;\n",
       "    }\n",
       "</style>\n",
       "<table border=\"1\" class=\"dataframe\">\n",
       "  <thead>\n",
       "    <tr style=\"text-align: right;\">\n",
       "      <th>protein groups</th>\n",
       "      <th>A0A024QZX5;A0A087X1N8;P35237</th>\n",
       "      <th>A0A024R0T9;K7ER74;P02655</th>\n",
       "      <th>A0A024R3W6;A0A024R412;O60462;O60462-2;O60462-3;O60462-4;O60462-5;Q7LBX6;X5D2Q8</th>\n",
       "      <th>A0A024R644;A0A0A0MRU5;A0A1B0GWI2;O75503</th>\n",
       "      <th>A0A075B6H7</th>\n",
       "      <th>A0A075B6H9</th>\n",
       "      <th>A0A075B6I0</th>\n",
       "      <th>A0A075B6I1</th>\n",
       "      <th>A0A075B6I6</th>\n",
       "      <th>A0A075B6I9</th>\n",
       "      <th>...</th>\n",
       "      <th>Q9Y653;Q9Y653-2;Q9Y653-3</th>\n",
       "      <th>Q9Y696</th>\n",
       "      <th>Q9Y6C2</th>\n",
       "      <th>Q9Y6N6</th>\n",
       "      <th>Q9Y6N7;Q9Y6N7-2;Q9Y6N7-4</th>\n",
       "      <th>Q9Y6R7</th>\n",
       "      <th>Q9Y6X5</th>\n",
       "      <th>Q9Y6Y8;Q9Y6Y8-2</th>\n",
       "      <th>Q9Y6Y9</th>\n",
       "      <th>S4R3U6</th>\n",
       "    </tr>\n",
       "    <tr>\n",
       "      <th>Sample ID</th>\n",
       "      <th></th>\n",
       "      <th></th>\n",
       "      <th></th>\n",
       "      <th></th>\n",
       "      <th></th>\n",
       "      <th></th>\n",
       "      <th></th>\n",
       "      <th></th>\n",
       "      <th></th>\n",
       "      <th></th>\n",
       "      <th></th>\n",
       "      <th></th>\n",
       "      <th></th>\n",
       "      <th></th>\n",
       "      <th></th>\n",
       "      <th></th>\n",
       "      <th></th>\n",
       "      <th></th>\n",
       "      <th></th>\n",
       "      <th></th>\n",
       "      <th></th>\n",
       "    </tr>\n",
       "  </thead>\n",
       "  <tbody>\n",
       "    <tr>\n",
       "      <th>Sample_000</th>\n",
       "      <td>15.912</td>\n",
       "      <td>16.852</td>\n",
       "      <td>15.570</td>\n",
       "      <td>16.481</td>\n",
       "      <td>17.301</td>\n",
       "      <td>20.246</td>\n",
       "      <td>16.764</td>\n",
       "      <td>17.584</td>\n",
       "      <td>16.988</td>\n",
       "      <td>20.054</td>\n",
       "      <td>...</td>\n",
       "      <td>16.012</td>\n",
       "      <td>15.178</td>\n",
       "      <td>NaN</td>\n",
       "      <td>15.050</td>\n",
       "      <td>16.842</td>\n",
       "      <td>NaN</td>\n",
       "      <td>NaN</td>\n",
       "      <td>19.563</td>\n",
       "      <td>NaN</td>\n",
       "      <td>12.805</td>\n",
       "    </tr>\n",
       "    <tr>\n",
       "      <th>Sample_001</th>\n",
       "      <td>NaN</td>\n",
       "      <td>16.874</td>\n",
       "      <td>15.519</td>\n",
       "      <td>16.387</td>\n",
       "      <td>NaN</td>\n",
       "      <td>19.941</td>\n",
       "      <td>18.786</td>\n",
       "      <td>17.144</td>\n",
       "      <td>NaN</td>\n",
       "      <td>19.067</td>\n",
       "      <td>...</td>\n",
       "      <td>15.528</td>\n",
       "      <td>15.576</td>\n",
       "      <td>NaN</td>\n",
       "      <td>14.833</td>\n",
       "      <td>16.597</td>\n",
       "      <td>20.299</td>\n",
       "      <td>15.556</td>\n",
       "      <td>19.386</td>\n",
       "      <td>13.970</td>\n",
       "      <td>12.442</td>\n",
       "    </tr>\n",
       "    <tr>\n",
       "      <th>Sample_002</th>\n",
       "      <td>16.111</td>\n",
       "      <td>NaN</td>\n",
       "      <td>15.935</td>\n",
       "      <td>16.416</td>\n",
       "      <td>18.175</td>\n",
       "      <td>19.251</td>\n",
       "      <td>16.832</td>\n",
       "      <td>15.671</td>\n",
       "      <td>17.012</td>\n",
       "      <td>18.569</td>\n",
       "      <td>...</td>\n",
       "      <td>15.229</td>\n",
       "      <td>14.728</td>\n",
       "      <td>13.757</td>\n",
       "      <td>15.118</td>\n",
       "      <td>17.440</td>\n",
       "      <td>19.598</td>\n",
       "      <td>15.735</td>\n",
       "      <td>20.447</td>\n",
       "      <td>12.636</td>\n",
       "      <td>12.505</td>\n",
       "    </tr>\n",
       "    <tr>\n",
       "      <th>Sample_003</th>\n",
       "      <td>16.107</td>\n",
       "      <td>17.032</td>\n",
       "      <td>15.802</td>\n",
       "      <td>16.979</td>\n",
       "      <td>15.963</td>\n",
       "      <td>19.628</td>\n",
       "      <td>17.852</td>\n",
       "      <td>18.877</td>\n",
       "      <td>14.182</td>\n",
       "      <td>18.985</td>\n",
       "      <td>...</td>\n",
       "      <td>15.495</td>\n",
       "      <td>14.590</td>\n",
       "      <td>14.682</td>\n",
       "      <td>15.140</td>\n",
       "      <td>17.356</td>\n",
       "      <td>19.429</td>\n",
       "      <td>NaN</td>\n",
       "      <td>20.216</td>\n",
       "      <td>NaN</td>\n",
       "      <td>12.445</td>\n",
       "    </tr>\n",
       "    <tr>\n",
       "      <th>Sample_004</th>\n",
       "      <td>15.603</td>\n",
       "      <td>15.331</td>\n",
       "      <td>15.375</td>\n",
       "      <td>16.679</td>\n",
       "      <td>NaN</td>\n",
       "      <td>20.450</td>\n",
       "      <td>18.682</td>\n",
       "      <td>17.081</td>\n",
       "      <td>14.140</td>\n",
       "      <td>19.686</td>\n",
       "      <td>...</td>\n",
       "      <td>14.757</td>\n",
       "      <td>NaN</td>\n",
       "      <td>NaN</td>\n",
       "      <td>15.256</td>\n",
       "      <td>17.075</td>\n",
       "      <td>19.582</td>\n",
       "      <td>15.328</td>\n",
       "      <td>NaN</td>\n",
       "      <td>13.145</td>\n",
       "      <td>NaN</td>\n",
       "    </tr>\n",
       "  </tbody>\n",
       "</table>\n",
       "<p>5 rows × 1421 columns</p>\n",
       "</div>"
      ],
      "text/plain": [
       "protein groups  A0A024QZX5;A0A087X1N8;P35237  A0A024R0T9;K7ER74;P02655  \\\n",
       "Sample ID                                                                \n",
       "Sample_000                            15.912                    16.852   \n",
       "Sample_001                               NaN                    16.874   \n",
       "Sample_002                            16.111                       NaN   \n",
       "Sample_003                            16.107                    17.032   \n",
       "Sample_004                            15.603                    15.331   \n",
       "\n",
       "protein groups  A0A024R3W6;A0A024R412;O60462;O60462-2;O60462-3;O60462-4;O60462-5;Q7LBX6;X5D2Q8  \\\n",
       "Sample ID                                                                                        \n",
       "Sample_000                                                                              15.570   \n",
       "Sample_001                                                                              15.519   \n",
       "Sample_002                                                                              15.935   \n",
       "Sample_003                                                                              15.802   \n",
       "Sample_004                                                                              15.375   \n",
       "\n",
       "protein groups  A0A024R644;A0A0A0MRU5;A0A1B0GWI2;O75503  A0A075B6H7  \\\n",
       "Sample ID                                                             \n",
       "Sample_000                                       16.481      17.301   \n",
       "Sample_001                                       16.387         NaN   \n",
       "Sample_002                                       16.416      18.175   \n",
       "Sample_003                                       16.979      15.963   \n",
       "Sample_004                                       16.679         NaN   \n",
       "\n",
       "protein groups  A0A075B6H9  A0A075B6I0  A0A075B6I1  A0A075B6I6  A0A075B6I9  \\\n",
       "Sample ID                                                                    \n",
       "Sample_000          20.246      16.764      17.584      16.988      20.054   \n",
       "Sample_001          19.941      18.786      17.144         NaN      19.067   \n",
       "Sample_002          19.251      16.832      15.671      17.012      18.569   \n",
       "Sample_003          19.628      17.852      18.877      14.182      18.985   \n",
       "Sample_004          20.450      18.682      17.081      14.140      19.686   \n",
       "\n",
       "protein groups  ...  Q9Y653;Q9Y653-2;Q9Y653-3  Q9Y696  Q9Y6C2  Q9Y6N6  \\\n",
       "Sample ID       ...                                                     \n",
       "Sample_000      ...                    16.012  15.178     NaN  15.050   \n",
       "Sample_001      ...                    15.528  15.576     NaN  14.833   \n",
       "Sample_002      ...                    15.229  14.728  13.757  15.118   \n",
       "Sample_003      ...                    15.495  14.590  14.682  15.140   \n",
       "Sample_004      ...                    14.757     NaN     NaN  15.256   \n",
       "\n",
       "protein groups  Q9Y6N7;Q9Y6N7-2;Q9Y6N7-4  Q9Y6R7  Q9Y6X5  Q9Y6Y8;Q9Y6Y8-2  \\\n",
       "Sample ID                                                                   \n",
       "Sample_000                        16.842     NaN     NaN           19.563   \n",
       "Sample_001                        16.597  20.299  15.556           19.386   \n",
       "Sample_002                        17.440  19.598  15.735           20.447   \n",
       "Sample_003                        17.356  19.429     NaN           20.216   \n",
       "Sample_004                        17.075  19.582  15.328              NaN   \n",
       "\n",
       "protein groups  Q9Y6Y9  S4R3U6  \n",
       "Sample ID                       \n",
       "Sample_000         NaN  12.805  \n",
       "Sample_001      13.970  12.442  \n",
       "Sample_002      12.636  12.505  \n",
       "Sample_003         NaN  12.445  \n",
       "Sample_004      13.145     NaN  \n",
       "\n",
       "[5 rows x 1421 columns]"
      ]
     },
     "execution_count": 21,
     "metadata": {},
     "output_type": "execute_result"
    }
   ],
   "source": [
    "data.to_wide_format()\n",
    "args.M = data.train_X.shape[-1]\n",
    "data.train_X.head()"
   ]
  },
  {
   "cell_type": "markdown",
   "id": "861b9b3c-11d0-4cda-98c9-fadea16e47c4",
   "metadata": {
    "papermill": {
     "duration": 0.014603,
     "end_time": "2024-09-18T04:06:22.686956",
     "exception": false,
     "start_time": "2024-09-18T04:06:22.672353",
     "status": "completed"
    },
    "tags": []
   },
   "source": [
    "### Validation data\n",
    "\n",
    "- all measured (identified, observed) peptides in validation data\n",
    "\n",
    "> Does not make to much sense to compare collab and AEs,\n",
    "> as the setup differs of training and validation data differs"
   ]
  },
  {
   "cell_type": "code",
   "execution_count": 22,
   "id": "d825e38e-f3d6-4bca-b621-150267e7b7bc",
   "metadata": {
    "execution": {
     "iopub.execute_input": "2024-09-18T04:06:22.720204Z",
     "iopub.status.busy": "2024-09-18T04:06:22.719892Z",
     "iopub.status.idle": "2024-09-18T04:06:22.723097Z",
     "shell.execute_reply": "2024-09-18T04:06:22.722519Z"
    },
    "papermill": {
     "duration": 0.021743,
     "end_time": "2024-09-18T04:06:22.724675",
     "exception": false,
     "start_time": "2024-09-18T04:06:22.702932",
     "status": "completed"
    },
    "tags": [
     "hide-input"
    ]
   },
   "outputs": [],
   "source": [
    "# papermill_description=metrics\n",
    "d_metrics = models.Metrics()"
   ]
  },
  {
   "cell_type": "markdown",
   "id": "55b9b887-a644-4086-8399-e27b533bd22a",
   "metadata": {
    "papermill": {
     "duration": 0.014605,
     "end_time": "2024-09-18T04:06:22.753337",
     "exception": false,
     "start_time": "2024-09-18T04:06:22.738732",
     "status": "completed"
    },
    "tags": []
   },
   "source": [
    "The simulated NA for the validation step are real test data (not used for training nor early stopping)"
   ]
  },
  {
   "cell_type": "code",
   "execution_count": 23,
   "id": "855a7a6f-93fd-4612-9d8d-96541a2441be",
   "metadata": {
    "execution": {
     "iopub.execute_input": "2024-09-18T04:06:22.783305Z",
     "iopub.status.busy": "2024-09-18T04:06:22.782992Z",
     "iopub.status.idle": "2024-09-18T04:06:22.799944Z",
     "shell.execute_reply": "2024-09-18T04:06:22.799333Z"
    },
    "papermill": {
     "duration": 0.033611,
     "end_time": "2024-09-18T04:06:22.801032",
     "exception": false,
     "start_time": "2024-09-18T04:06:22.767421",
     "status": "completed"
    },
    "tags": []
   },
   "outputs": [
    {
     "name": "stdout",
     "output_type": "stream",
     "text": [
      "Selected as truth to compare to: observed\n"
     ]
    },
    {
     "data": {
      "text/plain": [
       "{'CF': {'MSE': 0.4716190983126886,\n",
       "  'MAE': 0.46987412936275474,\n",
       "  'N': 12600,\n",
       "  'prop': 1.0}}"
      ]
     },
     "execution_count": 23,
     "metadata": {},
     "output_type": "execute_result"
    }
   ],
   "source": [
    "added_metrics = d_metrics.add_metrics(val_pred_simulated_na, 'valid_simulated_na')\n",
    "added_metrics"
   ]
  },
  {
   "cell_type": "markdown",
   "id": "80fda7f1-3024-46bc-a3c1-17f509016bd4",
   "metadata": {
    "papermill": {
     "duration": 0.017754,
     "end_time": "2024-09-18T04:06:22.871908",
     "exception": false,
     "start_time": "2024-09-18T04:06:22.854154",
     "status": "completed"
    },
    "tags": []
   },
   "source": [
    "### Test Datasplit\n",
    "\n",
    "Simulated NAs : Artificially created NAs. Some data was sampled and set\n",
    "explicitly to misssing before it was fed to the model for\n",
    "reconstruction."
   ]
  },
  {
   "cell_type": "code",
   "execution_count": 24,
   "id": "571ac8d4-bb5d-45db-bba8-59817e476304",
   "metadata": {
    "execution": {
     "iopub.execute_input": "2024-09-18T04:06:22.908000Z",
     "iopub.status.busy": "2024-09-18T04:06:22.907507Z",
     "iopub.status.idle": "2024-09-18T04:06:22.923732Z",
     "shell.execute_reply": "2024-09-18T04:06:22.923057Z"
    },
    "papermill": {
     "duration": 0.035772,
     "end_time": "2024-09-18T04:06:22.925011",
     "exception": false,
     "start_time": "2024-09-18T04:06:22.889239",
     "status": "completed"
    },
    "tags": []
   },
   "outputs": [
    {
     "name": "stdout",
     "output_type": "stream",
     "text": [
      "Selected as truth to compare to: observed\n"
     ]
    },
    {
     "data": {
      "text/plain": [
       "{'CF': {'MSE': 0.4923501851232091,\n",
       "  'MAE': 0.4748088641754534,\n",
       "  'N': 12600,\n",
       "  'prop': 1.0}}"
      ]
     },
     "execution_count": 24,
     "metadata": {},
     "output_type": "execute_result"
    }
   ],
   "source": [
    "added_metrics = d_metrics.add_metrics(test_pred_simulated_na, 'test_simulated_na')\n",
    "added_metrics"
   ]
  },
  {
   "cell_type": "markdown",
   "id": "b388de9d-0387-486a-9481-d673e0fec88b",
   "metadata": {
    "papermill": {
     "duration": 0.017518,
     "end_time": "2024-09-18T04:06:22.960620",
     "exception": false,
     "start_time": "2024-09-18T04:06:22.943102",
     "status": "completed"
    },
    "tags": []
   },
   "source": [
    "Save all metrics as json"
   ]
  },
  {
   "cell_type": "code",
   "execution_count": 25,
   "id": "87910434-7d07-4e8e-8380-c92fc515bd16",
   "metadata": {
    "execution": {
     "iopub.execute_input": "2024-09-18T04:06:22.981378Z",
     "iopub.status.busy": "2024-09-18T04:06:22.980874Z",
     "iopub.status.idle": "2024-09-18T04:06:22.984165Z",
     "shell.execute_reply": "2024-09-18T04:06:22.983666Z"
    },
    "lines_to_next_cell": 2,
    "papermill": {
     "duration": 0.014392,
     "end_time": "2024-09-18T04:06:22.985199",
     "exception": false,
     "start_time": "2024-09-18T04:06:22.970807",
     "status": "completed"
    },
    "tags": []
   },
   "outputs": [],
   "source": [
    "pimmslearn.io.dump_json(d_metrics.metrics, args.out_metrics /\n",
    "                        f'metrics_{args.model_key}.json')"
   ]
  },
  {
   "cell_type": "code",
   "execution_count": 26,
   "id": "7d99deb9-9aad-4ba9-b79d-e4b3c6c7f023",
   "metadata": {
    "execution": {
     "iopub.execute_input": "2024-09-18T04:06:23.012950Z",
     "iopub.status.busy": "2024-09-18T04:06:23.012555Z",
     "iopub.status.idle": "2024-09-18T04:06:23.020766Z",
     "shell.execute_reply": "2024-09-18T04:06:23.020187Z"
    },
    "papermill": {
     "duration": 0.020019,
     "end_time": "2024-09-18T04:06:23.021608",
     "exception": false,
     "start_time": "2024-09-18T04:06:23.001589",
     "status": "completed"
    },
    "tags": []
   },
   "outputs": [
    {
     "data": {
      "text/html": [
       "<div>\n",
       "<style scoped>\n",
       "    .dataframe tbody tr th:only-of-type {\n",
       "        vertical-align: middle;\n",
       "    }\n",
       "\n",
       "    .dataframe tbody tr th {\n",
       "        vertical-align: top;\n",
       "    }\n",
       "\n",
       "    .dataframe thead th {\n",
       "        text-align: right;\n",
       "    }\n",
       "</style>\n",
       "<table border=\"1\" class=\"dataframe\">\n",
       "  <thead>\n",
       "    <tr style=\"text-align: right;\">\n",
       "      <th></th>\n",
       "      <th>subset</th>\n",
       "      <th>valid_simulated_na</th>\n",
       "      <th>test_simulated_na</th>\n",
       "    </tr>\n",
       "    <tr>\n",
       "      <th>model</th>\n",
       "      <th>metric_name</th>\n",
       "      <th></th>\n",
       "      <th></th>\n",
       "    </tr>\n",
       "  </thead>\n",
       "  <tbody>\n",
       "    <tr>\n",
       "      <th rowspan=\"4\" valign=\"top\">CF</th>\n",
       "      <th>MSE</th>\n",
       "      <td>0.472</td>\n",
       "      <td>0.492</td>\n",
       "    </tr>\n",
       "    <tr>\n",
       "      <th>MAE</th>\n",
       "      <td>0.470</td>\n",
       "      <td>0.475</td>\n",
       "    </tr>\n",
       "    <tr>\n",
       "      <th>N</th>\n",
       "      <td>12,600.000</td>\n",
       "      <td>12,600.000</td>\n",
       "    </tr>\n",
       "    <tr>\n",
       "      <th>prop</th>\n",
       "      <td>1.000</td>\n",
       "      <td>1.000</td>\n",
       "    </tr>\n",
       "  </tbody>\n",
       "</table>\n",
       "</div>"
      ],
      "text/plain": [
       "subset             valid_simulated_na  test_simulated_na\n",
       "model metric_name                                       \n",
       "CF    MSE                       0.472              0.492\n",
       "      MAE                       0.470              0.475\n",
       "      N                    12,600.000         12,600.000\n",
       "      prop                      1.000              1.000"
      ]
     },
     "execution_count": 26,
     "metadata": {},
     "output_type": "execute_result"
    }
   ],
   "source": [
    "metrics_df = models.get_df_from_nested_dict(\n",
    "    d_metrics.metrics, column_levels=['model', 'metric_name']).T\n",
    "metrics_df"
   ]
  },
  {
   "cell_type": "markdown",
   "id": "5d8d6b3e-1316-4795-bc3d-4bdf270b890e",
   "metadata": {
    "papermill": {
     "duration": 0.008739,
     "end_time": "2024-09-18T04:06:23.043594",
     "exception": false,
     "start_time": "2024-09-18T04:06:23.034855",
     "status": "completed"
    },
    "tags": []
   },
   "source": [
    "## Save predictions"
   ]
  },
  {
   "cell_type": "code",
   "execution_count": 27,
   "id": "782636ac-c979-4f8b-9fc0-66fd0c7a3a8b",
   "metadata": {
    "execution": {
     "iopub.execute_input": "2024-09-18T04:06:23.062086Z",
     "iopub.status.busy": "2024-09-18T04:06:23.061731Z",
     "iopub.status.idle": "2024-09-18T04:06:23.119835Z",
     "shell.execute_reply": "2024-09-18T04:06:23.119273Z"
    },
    "papermill": {
     "duration": 0.0691,
     "end_time": "2024-09-18T04:06:23.121452",
     "exception": false,
     "start_time": "2024-09-18T04:06:23.052352",
     "status": "completed"
    },
    "tags": [
     "hide-input"
    ]
   },
   "outputs": [],
   "source": [
    "# save simulated missing values for both splits\n",
    "val_pred_simulated_na.to_csv(args.out_preds / f\"pred_val_{args.model_key}.csv\")\n",
    "test_pred_simulated_na.to_csv(args.out_preds / f\"pred_test_{args.model_key}.csv\")"
   ]
  },
  {
   "cell_type": "markdown",
   "id": "42f2c184-e9ef-42be-ae87-7cbf52a0c0b6",
   "metadata": {
    "papermill": {
     "duration": 0.011567,
     "end_time": "2024-09-18T04:06:23.145276",
     "exception": false,
     "start_time": "2024-09-18T04:06:23.133709",
     "status": "completed"
    },
    "tags": []
   },
   "source": [
    "## Config"
   ]
  },
  {
   "cell_type": "code",
   "execution_count": 28,
   "id": "0f13cb38-abf0-4b56-9399-3d11d32f7fbc",
   "metadata": {
    "execution": {
     "iopub.execute_input": "2024-09-18T04:06:23.179220Z",
     "iopub.status.busy": "2024-09-18T04:06:23.178913Z",
     "iopub.status.idle": "2024-09-18T04:06:23.185805Z",
     "shell.execute_reply": "2024-09-18T04:06:23.185240Z"
    },
    "papermill": {
     "duration": 0.027113,
     "end_time": "2024-09-18T04:06:23.188337",
     "exception": false,
     "start_time": "2024-09-18T04:06:23.161224",
     "status": "completed"
    },
    "tags": [
     "hide-input"
    ]
   },
   "outputs": [
    {
     "data": {
      "text/plain": [
       "{'M': 1421,\n",
       " 'batch_size': 1024,\n",
       " 'cuda': False,\n",
       " 'data': Path('runs/alzheimer_study/data'),\n",
       " 'epoch_trained': 16,\n",
       " 'epochs_max': 100,\n",
       " 'file_format': 'csv',\n",
       " 'fn_rawfile_metadata': 'https://raw.githubusercontent.com/RasmussenLab/njab/HEAD/docs/tutorial/data/alzheimer/meta.csv',\n",
       " 'folder_data': '',\n",
       " 'folder_experiment': Path('runs/alzheimer_study'),\n",
       " 'latent_dim': 50,\n",
       " 'model': 'CF',\n",
       " 'model_key': 'CF',\n",
       " 'n_params': 83283,\n",
       " 'out_figures': Path('runs/alzheimer_study/figures'),\n",
       " 'out_folder': Path('runs/alzheimer_study'),\n",
       " 'out_metrics': Path('runs/alzheimer_study'),\n",
       " 'out_models': Path('runs/alzheimer_study'),\n",
       " 'out_preds': Path('runs/alzheimer_study/preds'),\n",
       " 'patience': 1,\n",
       " 'sample_idx_position': 0,\n",
       " 'save_pred_real_na': True}"
      ]
     },
     "execution_count": 28,
     "metadata": {},
     "output_type": "execute_result"
    }
   ],
   "source": [
    "args.dump(fname=args.out_models / f\"model_config_{args.model_key}.yaml\")\n",
    "args"
   ]
  },
  {
   "cell_type": "code",
   "execution_count": null,
   "id": "408b261a",
   "metadata": {
    "papermill": {
     "duration": 0.017294,
     "end_time": "2024-09-18T04:06:23.220969",
     "exception": false,
     "start_time": "2024-09-18T04:06:23.203675",
     "status": "completed"
    },
    "tags": [
     "hide-input"
    ]
   },
   "outputs": [],
   "source": []
  }
 ],
 "metadata": {
  "jupytext": {
   "formats": "ipynb,py:percent"
  },
  "kernelspec": {
   "display_name": "Python 3",
   "language": "python",
   "name": "python3"
  },
  "language_info": {
   "codemirror_mode": {
    "name": "ipython",
    "version": 3
   },
   "file_extension": ".py",
   "mimetype": "text/x-python",
   "name": "python",
   "nbconvert_exporter": "python",
   "pygments_lexer": "ipython3",
   "version": "3.12.0"
  },
  "papermill": {
   "default_parameters": {},
   "duration": 37.899491,
   "end_time": "2024-09-18T04:06:24.356882",
   "environment_variables": {},
   "exception": null,
   "input_path": "01_1_train_CF.ipynb",
   "output_path": "runs/alzheimer_study/01_1_train_CF.ipynb",
   "parameters": {
    "batch_size": 1024,
    "cuda": false,
    "epochs_max": 100,
    "fn_rawfile_metadata": "https://raw.githubusercontent.com/RasmussenLab/njab/HEAD/docs/tutorial/data/alzheimer/meta.csv",
    "folder_experiment": "runs/alzheimer_study",
    "latent_dim": 50,
    "model": "CF",
    "model_key": "CF",
    "sample_idx_position": 0,
    "save_pred_real_na": true
   },
   "start_time": "2024-09-18T04:05:46.457391",
   "version": "2.6.0"
  },
  "toc-autonumbering": true,
  "vscode": {
   "interpreter": {
    "hash": "cf83e9cb890c7f96eb0ae04f39a82254555f56a1a0ed2f03b23a8b40fe6cd31c"
   }
  }
 },
 "nbformat": 4,
 "nbformat_minor": 5
}