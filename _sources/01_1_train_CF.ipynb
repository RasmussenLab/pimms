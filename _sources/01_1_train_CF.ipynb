{
 "cells": [
  {
   "cell_type": "markdown",
   "id": "f0e1208b-9b36-4294-b3fd-910e05a82f2e",
   "metadata": {
    "papermill": {
     "duration": 0.005423,
     "end_time": "2024-04-29T16:01:56.973863",
     "exception": false,
     "start_time": "2024-04-29T16:01:56.968440",
     "status": "completed"
    },
    "tags": []
   },
   "source": [
    "# Collaborative Filtering"
   ]
  },
  {
   "cell_type": "code",
   "execution_count": 1,
   "id": "18b5d571-2956-4112-b22c-43d6c2146b06",
   "metadata": {
    "execution": {
     "iopub.execute_input": "2024-04-29T16:01:56.984186Z",
     "iopub.status.busy": "2024-04-29T16:01:56.983707Z",
     "iopub.status.idle": "2024-04-29T16:01:58.533344Z",
     "shell.execute_reply": "2024-04-29T16:01:58.532726Z"
    },
    "papermill": {
     "duration": 1.556283,
     "end_time": "2024-04-29T16:01:58.534646",
     "exception": false,
     "start_time": "2024-04-29T16:01:56.978363",
     "status": "completed"
    },
    "tags": []
   },
   "outputs": [
    {
     "name": "stdout",
     "output_type": "stream",
     "text": [
      "vaep - INFO     Experiment 03 - Analysis of latent spaces and performance comparisions\n"
     ]
    }
   ],
   "source": [
    "import logging\n",
    "\n",
    "from pprint import pprint\n",
    "\n",
    "import matplotlib.pyplot as plt\n",
    "\n",
    "# from fastai.basics import *\n",
    "# from fastai.callback.all import *\n",
    "# from fastai.torch_basics import *\n",
    "# from fastai.data.all import *\n",
    "\n",
    "from fastai.tabular.all import *\n",
    "from fastai.collab import *\n",
    "\n",
    "from fastai.collab import (EmbeddingDotBias, Learner, MSELossFlat, EarlyStoppingCallback, default_device)\n",
    "\n",
    "import vaep\n",
    "import vaep.model\n",
    "import vaep.models as models\n",
    "from vaep.models import plot_loss, RecorderDump\n",
    "\n",
    "import vaep.nb\n",
    "from vaep import sampling\n",
    "from vaep.io import datasplits\n",
    "\n",
    "from vaep.logging import setup_logger\n",
    "\n",
    "# overwriting Recorder callback with custom plot_loss\n",
    "from fastai import learner\n",
    "learner.Recorder.plot_loss = plot_loss\n",
    "# import fastai.callback.hook # Learner.summary\n",
    "\n",
    "\n",
    "logger = setup_logger(logger=logging.getLogger('vaep'))\n",
    "logger.info(\n",
    "    \"Experiment 03 - Analysis of latent spaces and performance comparisions\")\n",
    "\n",
    "figures = {}  # collection of ax or figures"
   ]
  },
  {
   "cell_type": "markdown",
   "id": "43f062bb-8d2c-4afa-8a81-9e2a328050fe",
   "metadata": {
    "papermill": {
     "duration": 0.004405,
     "end_time": "2024-04-29T16:01:58.543835",
     "exception": false,
     "start_time": "2024-04-29T16:01:58.539430",
     "status": "completed"
    },
    "tags": []
   },
   "source": [
    "Papermill script parameters:"
   ]
  },
  {
   "cell_type": "code",
   "execution_count": 2,
   "id": "85c7d6f9",
   "metadata": {
    "execution": {
     "iopub.execute_input": "2024-04-29T16:01:58.554393Z",
     "iopub.status.busy": "2024-04-29T16:01:58.553895Z",
     "iopub.status.idle": "2024-04-29T16:01:58.557163Z",
     "shell.execute_reply": "2024-04-29T16:01:58.556560Z"
    },
    "papermill": {
     "duration": 0.009633,
     "end_time": "2024-04-29T16:01:58.558410",
     "exception": false,
     "start_time": "2024-04-29T16:01:58.548777",
     "status": "completed"
    },
    "tags": []
   },
   "outputs": [],
   "source": [
    "# catch passed parameters\n",
    "args = None\n",
    "args = dict(globals()).keys()"
   ]
  },
  {
   "cell_type": "code",
   "execution_count": 3,
   "id": "297f14bc-3c37-43fa-8217-f790f0593d78",
   "metadata": {
    "execution": {
     "iopub.execute_input": "2024-04-29T16:01:58.568588Z",
     "iopub.status.busy": "2024-04-29T16:01:58.568056Z",
     "iopub.status.idle": "2024-04-29T16:01:58.573575Z",
     "shell.execute_reply": "2024-04-29T16:01:58.572924Z"
    },
    "papermill": {
     "duration": 0.01197,
     "end_time": "2024-04-29T16:01:58.574831",
     "exception": false,
     "start_time": "2024-04-29T16:01:58.562861",
     "status": "completed"
    },
    "tags": [
     "parameters"
    ]
   },
   "outputs": [],
   "source": [
    "# files and folders\n",
    "# Datasplit folder with data for experiment\n",
    "folder_experiment: str = 'runs/example'\n",
    "folder_data: str = ''  # specify data directory if needed\n",
    "file_format: str = 'csv'  # change default to pickled files\n",
    "# training\n",
    "epochs_max: int = 20  # Maximum number of epochs\n",
    "# early_stopping:bool = True # Wheather to use early stopping or not\n",
    "patience: int = 1  # Patience for early stopping\n",
    "batch_size: int = 32_768  # Batch size for training (and evaluation)\n",
    "cuda: bool = True  # Use the GPU for training?\n",
    "# model\n",
    "# Dimensionality of encoding dimension (latent space of model)\n",
    "latent_dim: int = 10\n",
    "# hidden_layers:str = '128_64' # Underscore separated string of layers, '128 64' for the encoder, reversed for decoder\n",
    "sample_idx_position: int = 0  # position of index which is sample ID\n",
    "model: str = 'CF'  # model name\n",
    "model_key: str = 'CF'  # potentially alternative key for model (grid search)\n",
    "save_pred_real_na: bool = True  # Save all predictions for missing values"
   ]
  },
  {
   "cell_type": "code",
   "execution_count": 4,
   "id": "b241d685",
   "metadata": {
    "execution": {
     "iopub.execute_input": "2024-04-29T16:01:58.584543Z",
     "iopub.status.busy": "2024-04-29T16:01:58.584352Z",
     "iopub.status.idle": "2024-04-29T16:01:58.587820Z",
     "shell.execute_reply": "2024-04-29T16:01:58.587157Z"
    },
    "papermill": {
     "duration": 0.010229,
     "end_time": "2024-04-29T16:01:58.589501",
     "exception": false,
     "start_time": "2024-04-29T16:01:58.579272",
     "status": "completed"
    },
    "tags": [
     "injected-parameters"
    ]
   },
   "outputs": [],
   "source": [
    "# Parameters\n",
    "folder_experiment = \"runs/example\"\n",
    "file_format = \"csv\"\n",
    "latent_dim = 50\n",
    "batch_size = 4096\n",
    "epochs_max = 3\n",
    "sample_idx_position = 0\n",
    "cuda = False\n",
    "save_pred_real_na = True\n",
    "fn_rawfile_metadata = \"data/dev_datasets/HeLa_6070/files_selected_metadata_N50.csv\"\n",
    "model_key = \"CF\"\n"
   ]
  },
  {
   "cell_type": "markdown",
   "id": "1da8e04b-2eb2-4ecb-b1d1-2de871cd0a56",
   "metadata": {
    "papermill": {
     "duration": 0.008442,
     "end_time": "2024-04-29T16:01:58.606596",
     "exception": false,
     "start_time": "2024-04-29T16:01:58.598154",
     "status": "completed"
    },
    "tags": []
   },
   "source": [
    "Some argument transformations"
   ]
  },
  {
   "cell_type": "code",
   "execution_count": 5,
   "id": "0746e70f-0259-48d5-90ef-25fe4b59f9ac",
   "metadata": {
    "execution": {
     "iopub.execute_input": "2024-04-29T16:01:58.624596Z",
     "iopub.status.busy": "2024-04-29T16:01:58.624385Z",
     "iopub.status.idle": "2024-04-29T16:01:58.630823Z",
     "shell.execute_reply": "2024-04-29T16:01:58.630317Z"
    },
    "papermill": {
     "duration": 0.016893,
     "end_time": "2024-04-29T16:01:58.631963",
     "exception": false,
     "start_time": "2024-04-29T16:01:58.615070",
     "status": "completed"
    },
    "tags": []
   },
   "outputs": [
    {
     "data": {
      "text/plain": [
       "{'folder_experiment': 'runs/example',\n",
       " 'folder_data': '',\n",
       " 'file_format': 'csv',\n",
       " 'epochs_max': 3,\n",
       " 'patience': 1,\n",
       " 'batch_size': 4096,\n",
       " 'cuda': False,\n",
       " 'latent_dim': 50,\n",
       " 'sample_idx_position': 0,\n",
       " 'model': 'CF',\n",
       " 'model_key': 'CF',\n",
       " 'save_pred_real_na': True,\n",
       " 'fn_rawfile_metadata': 'data/dev_datasets/HeLa_6070/files_selected_metadata_N50.csv'}"
      ]
     },
     "execution_count": 5,
     "metadata": {},
     "output_type": "execute_result"
    }
   ],
   "source": [
    "args = vaep.nb.get_params(args, globals=globals())\n",
    "args"
   ]
  },
  {
   "cell_type": "code",
   "execution_count": 6,
   "id": "100bbf80",
   "metadata": {
    "execution": {
     "iopub.execute_input": "2024-04-29T16:01:58.641992Z",
     "iopub.status.busy": "2024-04-29T16:01:58.641762Z",
     "iopub.status.idle": "2024-04-29T16:01:58.646590Z",
     "shell.execute_reply": "2024-04-29T16:01:58.646018Z"
    },
    "lines_to_next_cell": 2,
    "papermill": {
     "duration": 0.011137,
     "end_time": "2024-04-29T16:01:58.647743",
     "exception": false,
     "start_time": "2024-04-29T16:01:58.636606",
     "status": "completed"
    },
    "tags": []
   },
   "outputs": [
    {
     "data": {
      "text/plain": [
       "{'batch_size': 4096,\n",
       " 'cuda': False,\n",
       " 'data': Path('runs/example/data'),\n",
       " 'epochs_max': 3,\n",
       " 'file_format': 'csv',\n",
       " 'fn_rawfile_metadata': 'data/dev_datasets/HeLa_6070/files_selected_metadata_N50.csv',\n",
       " 'folder_data': '',\n",
       " 'folder_experiment': Path('runs/example'),\n",
       " 'latent_dim': 50,\n",
       " 'model': 'CF',\n",
       " 'model_key': 'CF',\n",
       " 'out_figures': Path('runs/example/figures'),\n",
       " 'out_folder': Path('runs/example'),\n",
       " 'out_metrics': Path('runs/example'),\n",
       " 'out_models': Path('runs/example'),\n",
       " 'out_preds': Path('runs/example/preds'),\n",
       " 'patience': 1,\n",
       " 'sample_idx_position': 0,\n",
       " 'save_pred_real_na': True}"
      ]
     },
     "execution_count": 6,
     "metadata": {},
     "output_type": "execute_result"
    }
   ],
   "source": [
    "args = vaep.nb.args_from_dict(args)\n",
    "\n",
    "# # Currently not needed -> DotProduct used, not a FNN\n",
    "# if isinstance(args.hidden_layers, str):\n",
    "#     args.overwrite_entry(\"hidden_layers\", [int(x) for x in args.hidden_layers.split('_')])\n",
    "# else:\n",
    "#     raise ValueError(f\"hidden_layers is of unknown type {type(args.hidden_layers)}\")\n",
    "args"
   ]
  },
  {
   "cell_type": "markdown",
   "id": "3d59f6d8-9cb1-461a-8d62-2ab4458cab60",
   "metadata": {
    "papermill": {
     "duration": 0.004659,
     "end_time": "2024-04-29T16:01:58.657196",
     "exception": false,
     "start_time": "2024-04-29T16:01:58.652537",
     "status": "completed"
    },
    "tags": []
   },
   "source": [
    "Some naming conventions"
   ]
  },
  {
   "cell_type": "code",
   "execution_count": 7,
   "id": "a19fe098-a029-4f71-b7fb-e652a9c16ac7",
   "metadata": {
    "execution": {
     "iopub.execute_input": "2024-04-29T16:01:58.667580Z",
     "iopub.status.busy": "2024-04-29T16:01:58.667112Z",
     "iopub.status.idle": "2024-04-29T16:01:58.670034Z",
     "shell.execute_reply": "2024-04-29T16:01:58.669488Z"
    },
    "lines_to_next_cell": 2,
    "papermill": {
     "duration": 0.009448,
     "end_time": "2024-04-29T16:01:58.671289",
     "exception": false,
     "start_time": "2024-04-29T16:01:58.661841",
     "status": "completed"
    },
    "tags": []
   },
   "outputs": [],
   "source": [
    "TEMPLATE_MODEL_PARAMS = 'model_params_{}.json'\n",
    "\n",
    "if not args.cuda:\n",
    "    default_device(use=False)  # set to cpu"
   ]
  },
  {
   "cell_type": "markdown",
   "id": "976cc005-0c5f-4e88-9656-c549e613ca68",
   "metadata": {
    "papermill": {
     "duration": 0.004586,
     "end_time": "2024-04-29T16:01:58.680593",
     "exception": false,
     "start_time": "2024-04-29T16:01:58.676007",
     "status": "completed"
    },
    "tags": []
   },
   "source": [
    "## Load data in long format"
   ]
  },
  {
   "cell_type": "code",
   "execution_count": 8,
   "id": "6d9cc7bd-6b6f-40b9-8db7-c8228e4b03e3",
   "metadata": {
    "execution": {
     "iopub.execute_input": "2024-04-29T16:01:58.690974Z",
     "iopub.status.busy": "2024-04-29T16:01:58.690528Z",
     "iopub.status.idle": "2024-04-29T16:01:58.717117Z",
     "shell.execute_reply": "2024-04-29T16:01:58.716632Z"
    },
    "papermill": {
     "duration": 0.033001,
     "end_time": "2024-04-29T16:01:58.718330",
     "exception": false,
     "start_time": "2024-04-29T16:01:58.685329",
     "status": "completed"
    },
    "tags": []
   },
   "outputs": [
    {
     "name": "stdout",
     "output_type": "stream",
     "text": [
      "vaep.io.datasplits - INFO     Loaded 'train_X' from file: runs/example/data/train_X.csv\n"
     ]
    },
    {
     "name": "stdout",
     "output_type": "stream",
     "text": [
      "vaep.io.datasplits - INFO     Loaded 'val_y' from file: runs/example/data/val_y.csv\n"
     ]
    },
    {
     "name": "stdout",
     "output_type": "stream",
     "text": [
      "vaep.io.datasplits - INFO     Loaded 'test_y' from file: runs/example/data/test_y.csv\n"
     ]
    }
   ],
   "source": [
    "data = datasplits.DataSplits.from_folder(\n",
    "    args.data, file_format=args.file_format)"
   ]
  },
  {
   "cell_type": "markdown",
   "id": "3ca12fc2-bf34-42ac-99b2-a78ff9fe7722",
   "metadata": {
    "papermill": {
     "duration": 0.004783,
     "end_time": "2024-04-29T16:01:58.728271",
     "exception": false,
     "start_time": "2024-04-29T16:01:58.723488",
     "status": "completed"
    },
    "tags": []
   },
   "source": [
    "data is loaded in long format"
   ]
  },
  {
   "cell_type": "code",
   "execution_count": 9,
   "id": "02bb6bf5-0eb1-4c73-9723-414b14eaf7c8",
   "metadata": {
    "execution": {
     "iopub.execute_input": "2024-04-29T16:01:58.739203Z",
     "iopub.status.busy": "2024-04-29T16:01:58.738789Z",
     "iopub.status.idle": "2024-04-29T16:01:58.745003Z",
     "shell.execute_reply": "2024-04-29T16:01:58.744469Z"
    },
    "papermill": {
     "duration": 0.013011,
     "end_time": "2024-04-29T16:01:58.746167",
     "exception": false,
     "start_time": "2024-04-29T16:01:58.733156",
     "status": "completed"
    },
    "tags": []
   },
   "outputs": [
    {
     "data": {
      "text/plain": [
       "Sample ID                                       Gene Names\n",
       "2019_12_18_14_35_Q-Exactive-HF-X-Orbitrap_6070  AAR2         27.248\n",
       "                                                ABCB6        24.472\n",
       "                                                ABHD11       25.714\n",
       "                                                ACAD9        28.542\n",
       "                                                ACTL6A       29.335\n",
       "                                                              ...  \n",
       "2020_06_02_09_41_Q-Exactive-HF-X-Orbitrap_6070  WNK1         27.444\n",
       "                                                YBX1         32.605\n",
       "                                                YTHDF1       25.548\n",
       "                                                YWHAH        30.419\n",
       "                                                ZNF326       29.720\n",
       "Name: intensity, Length: 15466, dtype: float64"
      ]
     },
     "execution_count": 9,
     "metadata": {},
     "output_type": "execute_result"
    }
   ],
   "source": [
    "data.train_X"
   ]
  },
  {
   "cell_type": "code",
   "execution_count": 10,
   "id": "f3311709",
   "metadata": {
    "execution": {
     "iopub.execute_input": "2024-04-29T16:01:58.757167Z",
     "iopub.status.busy": "2024-04-29T16:01:58.756743Z",
     "iopub.status.idle": "2024-04-29T16:01:58.759420Z",
     "shell.execute_reply": "2024-04-29T16:01:58.758881Z"
    },
    "papermill": {
     "duration": 0.009359,
     "end_time": "2024-04-29T16:01:58.760537",
     "exception": false,
     "start_time": "2024-04-29T16:01:58.751178",
     "status": "completed"
    },
    "tags": []
   },
   "outputs": [],
   "source": [
    "# ! add check that specified data is available\n",
    "# silent error in fastai if e.g. target column is not available"
   ]
  },
  {
   "cell_type": "markdown",
   "id": "6045414b",
   "metadata": {
    "papermill": {
     "duration": 0.004837,
     "end_time": "2024-04-29T16:01:58.770566",
     "exception": false,
     "start_time": "2024-04-29T16:01:58.765729",
     "status": "completed"
    },
    "tags": []
   },
   "source": [
    "Infer index names from long format"
   ]
  },
  {
   "cell_type": "code",
   "execution_count": 11,
   "id": "44958473",
   "metadata": {
    "execution": {
     "iopub.execute_input": "2024-04-29T16:01:58.781403Z",
     "iopub.status.busy": "2024-04-29T16:01:58.781056Z",
     "iopub.status.idle": "2024-04-29T16:01:58.785494Z",
     "shell.execute_reply": "2024-04-29T16:01:58.784956Z"
    },
    "lines_to_next_cell": 2,
    "papermill": {
     "duration": 0.011183,
     "end_time": "2024-04-29T16:01:58.786673",
     "exception": false,
     "start_time": "2024-04-29T16:01:58.775490",
     "status": "completed"
    },
    "tags": []
   },
   "outputs": [
    {
     "name": "stdout",
     "output_type": "stream",
     "text": [
      "vaep - INFO     sample_id = 'Sample ID', single feature: index_column = 'Gene Names'\n"
     ]
    }
   ],
   "source": [
    "index_columns = list(data.train_X.index.names)\n",
    "sample_id = index_columns.pop(args.sample_idx_position)\n",
    "if len(index_columns) == 1:\n",
    "    index_column = index_columns.pop()\n",
    "    index_columns = None\n",
    "    logger.info(f\"{sample_id = }, single feature: {index_column = }\")\n",
    "else:\n",
    "    logger.info(f\"{sample_id = }, multiple features: {index_columns = }\")\n",
    "\n",
    "if not index_columns:\n",
    "    index_columns = [sample_id, index_column]\n",
    "else:\n",
    "    raise NotImplementedError(\n",
    "        \"More than one feature: Needs to be implemented. see above logging output.\")"
   ]
  },
  {
   "cell_type": "markdown",
   "id": "a94ae06d-64dd-4f4f-abde-8485a8c8458e",
   "metadata": {
    "papermill": {
     "duration": 0.004957,
     "end_time": "2024-04-29T16:01:58.796739",
     "exception": false,
     "start_time": "2024-04-29T16:01:58.791782",
     "status": "completed"
    },
    "tags": []
   },
   "source": [
    "### Use some simulated missing for evaluation"
   ]
  },
  {
   "cell_type": "markdown",
   "id": "760dbbf8",
   "metadata": {
    "papermill": {
     "duration": 0.004835,
     "end_time": "2024-04-29T16:01:58.806493",
     "exception": false,
     "start_time": "2024-04-29T16:01:58.801658",
     "status": "completed"
    },
    "tags": []
   },
   "source": [
    "The validation simulated NA is used to by all models to evaluate training performance."
   ]
  },
  {
   "cell_type": "code",
   "execution_count": 12,
   "id": "b5b945aa-9b4e-4487-8b09-dca289e64d9d",
   "metadata": {
    "execution": {
     "iopub.execute_input": "2024-04-29T16:01:58.817639Z",
     "iopub.status.busy": "2024-04-29T16:01:58.817175Z",
     "iopub.status.idle": "2024-04-29T16:01:58.827149Z",
     "shell.execute_reply": "2024-04-29T16:01:58.826640Z"
    },
    "papermill": {
     "duration": 0.016912,
     "end_time": "2024-04-29T16:01:58.828331",
     "exception": false,
     "start_time": "2024-04-29T16:01:58.811419",
     "status": "completed"
    },
    "tags": []
   },
   "outputs": [
    {
     "data": {
      "text/html": [
       "<div>\n",
       "<style scoped>\n",
       "    .dataframe tbody tr th:only-of-type {\n",
       "        vertical-align: middle;\n",
       "    }\n",
       "\n",
       "    .dataframe tbody tr th {\n",
       "        vertical-align: top;\n",
       "    }\n",
       "\n",
       "    .dataframe thead th {\n",
       "        text-align: right;\n",
       "    }\n",
       "</style>\n",
       "<table border=\"1\" class=\"dataframe\">\n",
       "  <thead>\n",
       "    <tr style=\"text-align: right;\">\n",
       "      <th></th>\n",
       "      <th></th>\n",
       "      <th>observed</th>\n",
       "    </tr>\n",
       "    <tr>\n",
       "      <th>Sample ID</th>\n",
       "      <th>Gene Names</th>\n",
       "      <th></th>\n",
       "    </tr>\n",
       "  </thead>\n",
       "  <tbody>\n",
       "    <tr>\n",
       "      <th>2019_12_18_14_35_Q-Exactive-HF-X-Orbitrap_6070</th>\n",
       "      <th>GEMIN5</th>\n",
       "      <td>30.946</td>\n",
       "    </tr>\n",
       "    <tr>\n",
       "      <th>2020_02_28_12_27_Q-Exactive-HF-X-Orbitrap_6070</th>\n",
       "      <th>AAR2</th>\n",
       "      <td>27.248</td>\n",
       "    </tr>\n",
       "    <tr>\n",
       "      <th>2020_02_13_03_11_Q-Exactive-HF-X-Orbitrap_6070</th>\n",
       "      <th>ADAM10</th>\n",
       "      <td>29.310</td>\n",
       "    </tr>\n",
       "    <tr>\n",
       "      <th>2020_01_04_14_59_Q-Exactive-HF-X-Orbitrap_6070</th>\n",
       "      <th>NDUFAF4</th>\n",
       "      <td>24.352</td>\n",
       "    </tr>\n",
       "    <tr>\n",
       "      <th>2020_05_27_13_57_Q-Exactive-HF-X-Orbitrap_6070</th>\n",
       "      <th>EPN1</th>\n",
       "      <td>29.250</td>\n",
       "    </tr>\n",
       "    <tr>\n",
       "      <th>...</th>\n",
       "      <th>...</th>\n",
       "      <td>...</td>\n",
       "    </tr>\n",
       "    <tr>\n",
       "      <th>2020_03_01_23_00_Q-Exactive-HF-X-Orbitrap_6070</th>\n",
       "      <th>PRRC2B</th>\n",
       "      <td>24.294</td>\n",
       "    </tr>\n",
       "    <tr>\n",
       "      <th>2020_01_04_04_23_Q-Exactive-HF-X-Orbitrap_6070</th>\n",
       "      <th>ARGLU1</th>\n",
       "      <td>28.471</td>\n",
       "    </tr>\n",
       "    <tr>\n",
       "      <th>2020_02_18_18_55_Q-Exactive-HF-X-Orbitrap_6070</th>\n",
       "      <th>GBF1</th>\n",
       "      <td>29.470</td>\n",
       "    </tr>\n",
       "    <tr>\n",
       "      <th>2019_12_18_14_35_Q-Exactive-HF-X-Orbitrap_6070</th>\n",
       "      <th>DENR</th>\n",
       "      <td>27.902</td>\n",
       "    </tr>\n",
       "    <tr>\n",
       "      <th>2020_05_12_21_07_Q-Exactive-HF-X-Orbitrap_6070</th>\n",
       "      <th>SNRPF</th>\n",
       "      <td>27.487</td>\n",
       "    </tr>\n",
       "  </tbody>\n",
       "</table>\n",
       "<p>859 rows × 1 columns</p>\n",
       "</div>"
      ],
      "text/plain": [
       "                                                           observed\n",
       "Sample ID                                      Gene Names          \n",
       "2019_12_18_14_35_Q-Exactive-HF-X-Orbitrap_6070 GEMIN5        30.946\n",
       "2020_02_28_12_27_Q-Exactive-HF-X-Orbitrap_6070 AAR2          27.248\n",
       "2020_02_13_03_11_Q-Exactive-HF-X-Orbitrap_6070 ADAM10        29.310\n",
       "2020_01_04_14_59_Q-Exactive-HF-X-Orbitrap_6070 NDUFAF4       24.352\n",
       "2020_05_27_13_57_Q-Exactive-HF-X-Orbitrap_6070 EPN1          29.250\n",
       "...                                                             ...\n",
       "2020_03_01_23_00_Q-Exactive-HF-X-Orbitrap_6070 PRRC2B        24.294\n",
       "2020_01_04_04_23_Q-Exactive-HF-X-Orbitrap_6070 ARGLU1        28.471\n",
       "2020_02_18_18_55_Q-Exactive-HF-X-Orbitrap_6070 GBF1          29.470\n",
       "2019_12_18_14_35_Q-Exactive-HF-X-Orbitrap_6070 DENR          27.902\n",
       "2020_05_12_21_07_Q-Exactive-HF-X-Orbitrap_6070 SNRPF         27.487\n",
       "\n",
       "[859 rows x 1 columns]"
      ]
     },
     "execution_count": 12,
     "metadata": {},
     "output_type": "execute_result"
    }
   ],
   "source": [
    "val_pred_simulated_na = data.val_y.to_frame(name='observed')\n",
    "val_pred_simulated_na"
   ]
  },
  {
   "cell_type": "code",
   "execution_count": 13,
   "id": "98558b10",
   "metadata": {
    "execution": {
     "iopub.execute_input": "2024-04-29T16:01:58.840077Z",
     "iopub.status.busy": "2024-04-29T16:01:58.839670Z",
     "iopub.status.idle": "2024-04-29T16:01:58.847756Z",
     "shell.execute_reply": "2024-04-29T16:01:58.847190Z"
    },
    "lines_to_next_cell": 2,
    "papermill": {
     "duration": 0.015234,
     "end_time": "2024-04-29T16:01:58.848948",
     "exception": false,
     "start_time": "2024-04-29T16:01:58.833714",
     "status": "completed"
    },
    "tags": []
   },
   "outputs": [
    {
     "data": {
      "text/html": [
       "<div>\n",
       "<style scoped>\n",
       "    .dataframe tbody tr th:only-of-type {\n",
       "        vertical-align: middle;\n",
       "    }\n",
       "\n",
       "    .dataframe tbody tr th {\n",
       "        vertical-align: top;\n",
       "    }\n",
       "\n",
       "    .dataframe thead th {\n",
       "        text-align: right;\n",
       "    }\n",
       "</style>\n",
       "<table border=\"1\" class=\"dataframe\">\n",
       "  <thead>\n",
       "    <tr style=\"text-align: right;\">\n",
       "      <th></th>\n",
       "      <th>observed</th>\n",
       "    </tr>\n",
       "  </thead>\n",
       "  <tbody>\n",
       "    <tr>\n",
       "      <th>count</th>\n",
       "      <td>859.000</td>\n",
       "    </tr>\n",
       "    <tr>\n",
       "      <th>mean</th>\n",
       "      <td>28.270</td>\n",
       "    </tr>\n",
       "    <tr>\n",
       "      <th>std</th>\n",
       "      <td>2.543</td>\n",
       "    </tr>\n",
       "    <tr>\n",
       "      <th>min</th>\n",
       "      <td>22.254</td>\n",
       "    </tr>\n",
       "    <tr>\n",
       "      <th>25%</th>\n",
       "      <td>26.477</td>\n",
       "    </tr>\n",
       "    <tr>\n",
       "      <th>50%</th>\n",
       "      <td>28.068</td>\n",
       "    </tr>\n",
       "    <tr>\n",
       "      <th>75%</th>\n",
       "      <td>30.064</td>\n",
       "    </tr>\n",
       "    <tr>\n",
       "      <th>max</th>\n",
       "      <td>35.919</td>\n",
       "    </tr>\n",
       "  </tbody>\n",
       "</table>\n",
       "</div>"
      ],
      "text/plain": [
       "       observed\n",
       "count   859.000\n",
       "mean     28.270\n",
       "std       2.543\n",
       "min      22.254\n",
       "25%      26.477\n",
       "50%      28.068\n",
       "75%      30.064\n",
       "max      35.919"
      ]
     },
     "execution_count": 13,
     "metadata": {},
     "output_type": "execute_result"
    }
   ],
   "source": [
    "test_pred_simulated_na = data.test_y.to_frame(name='observed')\n",
    "test_pred_simulated_na.describe()"
   ]
  },
  {
   "cell_type": "markdown",
   "id": "d00ea8e9-7f48-4f72-b013-7010666aa1a2",
   "metadata": {
    "papermill": {
     "duration": 0.00529,
     "end_time": "2024-04-29T16:01:58.859692",
     "exception": false,
     "start_time": "2024-04-29T16:01:58.854402",
     "status": "completed"
    },
    "tags": []
   },
   "source": [
    "## Collaborative Filtering\n",
    "\n",
    "- save custom collab batch size (increase AE batch size by a factor), could be setup separately.\n",
    "- the test data is used to evaluate the performance after training"
   ]
  },
  {
   "cell_type": "code",
   "execution_count": 14,
   "id": "3ee54305-266a-479a-b677-f151ddde250a",
   "metadata": {
    "execution": {
     "iopub.execute_input": "2024-04-29T16:01:58.871899Z",
     "iopub.status.busy": "2024-04-29T16:01:58.871433Z",
     "iopub.status.idle": "2024-04-29T16:01:58.911375Z",
     "shell.execute_reply": "2024-04-29T16:01:58.910768Z"
    },
    "papermill": {
     "duration": 0.047632,
     "end_time": "2024-04-29T16:01:58.912848",
     "exception": false,
     "start_time": "2024-04-29T16:01:58.865216",
     "status": "completed"
    },
    "tags": []
   },
   "outputs": [],
   "source": [
    "# larger mini-batches speed up training\n",
    "ana_collab = models.collab.CollabAnalysis(\n",
    "    datasplits=data,\n",
    "    sample_column=sample_id,\n",
    "    item_column=index_column,  # not generic\n",
    "    target_column='intensity',\n",
    "    model_kwargs=dict(n_factors=args.latent_dim,\n",
    "                      y_range=(int(data.train_X.min()),\n",
    "                               int(data.train_X.max()) + 1)\n",
    "                      ),\n",
    "    batch_size=args.batch_size)"
   ]
  },
  {
   "cell_type": "code",
   "execution_count": 15,
   "id": "12ffa243-151e-4220-a1d5-247f8aba3429",
   "metadata": {
    "execution": {
     "iopub.execute_input": "2024-04-29T16:01:58.925537Z",
     "iopub.status.busy": "2024-04-29T16:01:58.925113Z",
     "iopub.status.idle": "2024-04-29T16:01:58.928216Z",
     "shell.execute_reply": "2024-04-29T16:01:58.927622Z"
    },
    "lines_to_next_cell": 2,
    "papermill": {
     "duration": 0.010728,
     "end_time": "2024-04-29T16:01:58.929489",
     "exception": false,
     "start_time": "2024-04-29T16:01:58.918761",
     "status": "completed"
    },
    "tags": []
   },
   "outputs": [
    {
     "name": "stdout",
     "output_type": "stream",
     "text": [
      "Args:\n",
      "{'n_factors': 50, 'y_range': (20, 37)}\n"
     ]
    }
   ],
   "source": [
    "print(\"Args:\")\n",
    "pprint(ana_collab.model_kwargs)"
   ]
  },
  {
   "cell_type": "code",
   "execution_count": 16,
   "id": "4a02e061-6789-4f3d-8031-a40879c496c8",
   "metadata": {
    "execution": {
     "iopub.execute_input": "2024-04-29T16:01:58.941231Z",
     "iopub.status.busy": "2024-04-29T16:01:58.941037Z",
     "iopub.status.idle": "2024-04-29T16:01:58.947653Z",
     "shell.execute_reply": "2024-04-29T16:01:58.947043Z"
    },
    "papermill": {
     "duration": 0.013889,
     "end_time": "2024-04-29T16:01:58.948832",
     "exception": false,
     "start_time": "2024-04-29T16:01:58.934943",
     "status": "completed"
    },
    "tags": []
   },
   "outputs": [],
   "source": [
    "ana_collab.model = EmbeddingDotBias.from_classes(\n",
    "    classes=ana_collab.dls.classes,\n",
    "    **ana_collab.model_kwargs)\n",
    "\n",
    "args.n_params = models.calc_net_weight_count(ana_collab.model)\n",
    "ana_collab.params['n_parameters'] = args.n_params\n",
    "ana_collab.learn = Learner(dls=ana_collab.dls, model=ana_collab.model, loss_func=MSELossFlat(),\n",
    "                           cbs=EarlyStoppingCallback(patience=args.patience),\n",
    "                           model_dir=args.out_models)\n",
    "if args.cuda:\n",
    "    ana_collab.learn.model = ana_collab.learn.model.cuda()\n",
    "else:\n",
    "    # try to set explicitly cpu in case not cuda\n",
    "    # MPS logic might not work properly in fastai yet https://github.com/fastai/fastai/pull/3858\n",
    "    ana_collab.learn.model = ana_collab.learn.model.cpu()\n",
    "\n",
    "# learn.summary() # see comment at DAE"
   ]
  },
  {
   "cell_type": "markdown",
   "id": "f82a7346-0b44-44a4-b995-d655e05656f8",
   "metadata": {
    "papermill": {
     "duration": 0.005442,
     "end_time": "2024-04-29T16:01:58.959815",
     "exception": false,
     "start_time": "2024-04-29T16:01:58.954373",
     "status": "completed"
    },
    "tags": []
   },
   "source": [
    "### Training"
   ]
  },
  {
   "cell_type": "code",
   "execution_count": 17,
   "id": "8317c9e1-d128-4ab4-8d60-775cb85ef535",
   "metadata": {
    "execution": {
     "iopub.execute_input": "2024-04-29T16:01:58.972465Z",
     "iopub.status.busy": "2024-04-29T16:01:58.972251Z",
     "iopub.status.idle": "2024-04-29T16:02:02.050975Z",
     "shell.execute_reply": "2024-04-29T16:02:02.050366Z"
    },
    "papermill": {
     "duration": 3.086815,
     "end_time": "2024-04-29T16:02:02.052513",
     "exception": false,
     "start_time": "2024-04-29T16:01:58.965698",
     "status": "completed"
    },
    "tags": []
   },
   "outputs": [
    {
     "data": {
      "text/html": [
       "\n",
       "<style>\n",
       "    /* Turns off some styling */\n",
       "    progress {\n",
       "        /* gets rid of default border in Firefox and Opera. */\n",
       "        border: none;\n",
       "        /* Needs to be in here for Safari polyfill so background images work as expected. */\n",
       "        background-size: auto;\n",
       "    }\n",
       "    progress:not([value]), progress:not([value])::-webkit-progress-bar {\n",
       "        background: repeating-linear-gradient(45deg, #7e7e7e, #7e7e7e 10px, #5c5c5c 10px, #5c5c5c 20px);\n",
       "    }\n",
       "    .progress-bar-interrupted, .progress-bar-interrupted::-webkit-progress-bar {\n",
       "        background: #F44336;\n",
       "    }\n",
       "</style>\n"
      ],
      "text/plain": [
       "<IPython.core.display.HTML object>"
      ]
     },
     "metadata": {},
     "output_type": "display_data"
    },
    {
     "data": {
      "text/html": [],
      "text/plain": [
       "<IPython.core.display.HTML object>"
      ]
     },
     "metadata": {},
     "output_type": "display_data"
    },
    {
     "name": "stdout",
     "output_type": "stream",
     "text": [
      "suggested_lr.valley = 0.00631\n"
     ]
    },
    {
     "data": {
      "text/html": [
       "\n",
       "<style>\n",
       "    /* Turns off some styling */\n",
       "    progress {\n",
       "        /* gets rid of default border in Firefox and Opera. */\n",
       "        border: none;\n",
       "        /* Needs to be in here for Safari polyfill so background images work as expected. */\n",
       "        background-size: auto;\n",
       "    }\n",
       "    progress:not([value]), progress:not([value])::-webkit-progress-bar {\n",
       "        background: repeating-linear-gradient(45deg, #7e7e7e, #7e7e7e 10px, #5c5c5c 10px, #5c5c5c 20px);\n",
       "    }\n",
       "    .progress-bar-interrupted, .progress-bar-interrupted::-webkit-progress-bar {\n",
       "        background: #F44336;\n",
       "    }\n",
       "</style>\n"
      ],
      "text/plain": [
       "<IPython.core.display.HTML object>"
      ]
     },
     "metadata": {},
     "output_type": "display_data"
    },
    {
     "data": {
      "text/html": [
       "<table border=\"1\" class=\"dataframe\">\n",
       "  <thead>\n",
       "    <tr style=\"text-align: left;\">\n",
       "      <th>epoch</th>\n",
       "      <th>train_loss</th>\n",
       "      <th>valid_loss</th>\n",
       "      <th>time</th>\n",
       "    </tr>\n",
       "  </thead>\n",
       "  <tbody>\n",
       "    <tr>\n",
       "      <td>0</td>\n",
       "      <td>6.687868</td>\n",
       "      <td>5.976648</td>\n",
       "      <td>00:00</td>\n",
       "    </tr>\n",
       "    <tr>\n",
       "      <td>1</td>\n",
       "      <td>6.595750</td>\n",
       "      <td>5.662388</td>\n",
       "      <td>00:00</td>\n",
       "    </tr>\n",
       "    <tr>\n",
       "      <td>2</td>\n",
       "      <td>6.355245</td>\n",
       "      <td>5.517292</td>\n",
       "      <td>00:00</td>\n",
       "    </tr>\n",
       "  </tbody>\n",
       "</table>"
      ],
      "text/plain": [
       "<IPython.core.display.HTML object>"
      ]
     },
     "metadata": {},
     "output_type": "display_data"
    },
    {
     "name": "stdout",
     "output_type": "stream",
     "text": [
      "vaep.plotting - INFO     Saved Figures to runs/example/figures/collab_training\n"
     ]
    },
    {
     "data": {
      "image/png": "[encoded data removed]",
      "text/plain": [
       "<Figure size 2352x1029 with 1 Axes>"
      ]
     },
     "metadata": {},
     "output_type": "display_data"
    },
    {
     "data": {
      "image/png": "[encoded data removed]",
      "text/plain": [
       "<Figure size 2205x1176 with 1 Axes>"
      ]
     },
     "metadata": {},
     "output_type": "display_data"
    }
   ],
   "source": [
    "# papermill_description=train_collab\n",
    "suggested_lr = ana_collab.learn.lr_find()\n",
    "print(f\"{suggested_lr.valley = :.5f}\")\n",
    "ana_collab.learn.fit_one_cycle(args.epochs_max, lr_max=suggested_lr.valley)\n",
    "args.epoch_trained = ana_collab.learn.epoch + 1\n",
    "# ana_collab.learn.fit_one_cycle(args.epochs_max, lr_max=1e-3)\n",
    "ana_collab.model_kwargs['suggested_inital_lr'] = suggested_lr.valley\n",
    "ana_collab.learn.save('collab_model')\n",
    "fig, ax = plt.subplots(figsize=(15, 8))\n",
    "ax.set_title('CF loss: Reconstruction loss')\n",
    "ana_collab.learn.recorder.plot_loss(skip_start=5, ax=ax)\n",
    "recorder_dump = RecorderDump(\n",
    "    recorder=ana_collab.learn.recorder, name='CF')\n",
    "recorder_dump.save(args.out_figures)\n",
    "del recorder_dump\n",
    "vaep.savefig(fig, name='collab_training',\n",
    "             folder=args.out_figures)\n",
    "ana_collab.model_kwargs['batch_size'] = ana_collab.batch_size\n",
    "vaep.io.dump_json(ana_collab.model_kwargs, args.out_models /\n",
    "                  TEMPLATE_MODEL_PARAMS.format('CF'))"
   ]
  },
  {
   "cell_type": "markdown",
   "id": "e979b7f0-a673-4d3d-9d53-6ac02618eaed",
   "metadata": {
    "papermill": {
     "duration": 0.007248,
     "end_time": "2024-04-29T16:02:02.067536",
     "exception": false,
     "start_time": "2024-04-29T16:02:02.060288",
     "status": "completed"
    },
    "tags": []
   },
   "source": [
    "### Predictions"
   ]
  },
  {
   "cell_type": "markdown",
   "id": "6ee5b225-d50a-4189-9995-ad99c4d47a45",
   "metadata": {
    "papermill": {
     "duration": 0.007269,
     "end_time": "2024-04-29T16:02:02.082122",
     "exception": false,
     "start_time": "2024-04-29T16:02:02.074853",
     "status": "completed"
    },
    "tags": []
   },
   "source": [
    "Compare simulated_na data predictions to original values"
   ]
  },
  {
   "cell_type": "code",
   "execution_count": 18,
   "id": "bb76e6c5-e135-41c4-95e8-a56c3764c731",
   "metadata": {
    "execution": {
     "iopub.execute_input": "2024-04-29T16:02:02.097490Z",
     "iopub.status.busy": "2024-04-29T16:02:02.097219Z",
     "iopub.status.idle": "2024-04-29T16:02:02.125187Z",
     "shell.execute_reply": "2024-04-29T16:02:02.124655Z"
    },
    "lines_to_next_cell": 2,
    "papermill": {
     "duration": 0.037125,
     "end_time": "2024-04-29T16:02:02.126396",
     "exception": false,
     "start_time": "2024-04-29T16:02:02.089271",
     "status": "completed"
    },
    "tags": []
   },
   "outputs": [
    {
     "data": {
      "text/html": [
       "\n",
       "<style>\n",
       "    /* Turns off some styling */\n",
       "    progress {\n",
       "        /* gets rid of default border in Firefox and Opera. */\n",
       "        border: none;\n",
       "        /* Needs to be in here for Safari polyfill so background images work as expected. */\n",
       "        background-size: auto;\n",
       "    }\n",
       "    progress:not([value]), progress:not([value])::-webkit-progress-bar {\n",
       "        background: repeating-linear-gradient(45deg, #7e7e7e, #7e7e7e 10px, #5c5c5c 10px, #5c5c5c 20px);\n",
       "    }\n",
       "    .progress-bar-interrupted, .progress-bar-interrupted::-webkit-progress-bar {\n",
       "        background: #F44336;\n",
       "    }\n",
       "</style>\n"
      ],
      "text/plain": [
       "<IPython.core.display.HTML object>"
      ]
     },
     "metadata": {},
     "output_type": "display_data"
    },
    {
     "data": {
      "text/html": [],
      "text/plain": [
       "<IPython.core.display.HTML object>"
      ]
     },
     "metadata": {},
     "output_type": "display_data"
    },
    {
     "data": {
      "text/html": [
       "<div>\n",
       "<style scoped>\n",
       "    .dataframe tbody tr th:only-of-type {\n",
       "        vertical-align: middle;\n",
       "    }\n",
       "\n",
       "    .dataframe tbody tr th {\n",
       "        vertical-align: top;\n",
       "    }\n",
       "\n",
       "    .dataframe thead th {\n",
       "        text-align: right;\n",
       "    }\n",
       "</style>\n",
       "<table border=\"1\" class=\"dataframe\">\n",
       "  <thead>\n",
       "    <tr style=\"text-align: right;\">\n",
       "      <th></th>\n",
       "      <th></th>\n",
       "      <th>observed</th>\n",
       "      <th>CF</th>\n",
       "    </tr>\n",
       "    <tr>\n",
       "      <th>Sample ID</th>\n",
       "      <th>Gene Names</th>\n",
       "      <th></th>\n",
       "      <th></th>\n",
       "    </tr>\n",
       "  </thead>\n",
       "  <tbody>\n",
       "    <tr>\n",
       "      <th>2019_12_18_14_35_Q-Exactive-HF-X-Orbitrap_6070</th>\n",
       "      <th>GEMIN5</th>\n",
       "      <td>30.946</td>\n",
       "      <td>28.616</td>\n",
       "    </tr>\n",
       "    <tr>\n",
       "      <th>2020_02_28_12_27_Q-Exactive-HF-X-Orbitrap_6070</th>\n",
       "      <th>AAR2</th>\n",
       "      <td>27.248</td>\n",
       "      <td>28.307</td>\n",
       "    </tr>\n",
       "    <tr>\n",
       "      <th>2020_02_13_03_11_Q-Exactive-HF-X-Orbitrap_6070</th>\n",
       "      <th>ADAM10</th>\n",
       "      <td>29.310</td>\n",
       "      <td>28.477</td>\n",
       "    </tr>\n",
       "    <tr>\n",
       "      <th>2020_01_04_14_59_Q-Exactive-HF-X-Orbitrap_6070</th>\n",
       "      <th>NDUFAF4</th>\n",
       "      <td>24.352</td>\n",
       "      <td>28.258</td>\n",
       "    </tr>\n",
       "    <tr>\n",
       "      <th>2020_05_27_13_57_Q-Exactive-HF-X-Orbitrap_6070</th>\n",
       "      <th>EPN1</th>\n",
       "      <td>29.250</td>\n",
       "      <td>28.411</td>\n",
       "    </tr>\n",
       "    <tr>\n",
       "      <th>...</th>\n",
       "      <th>...</th>\n",
       "      <td>...</td>\n",
       "      <td>...</td>\n",
       "    </tr>\n",
       "    <tr>\n",
       "      <th>2020_03_01_23_00_Q-Exactive-HF-X-Orbitrap_6070</th>\n",
       "      <th>PRRC2B</th>\n",
       "      <td>24.294</td>\n",
       "      <td>28.282</td>\n",
       "    </tr>\n",
       "    <tr>\n",
       "      <th>2020_01_04_04_23_Q-Exactive-HF-X-Orbitrap_6070</th>\n",
       "      <th>ARGLU1</th>\n",
       "      <td>28.471</td>\n",
       "      <td>28.518</td>\n",
       "    </tr>\n",
       "    <tr>\n",
       "      <th>2020_02_18_18_55_Q-Exactive-HF-X-Orbitrap_6070</th>\n",
       "      <th>GBF1</th>\n",
       "      <td>29.470</td>\n",
       "      <td>28.467</td>\n",
       "    </tr>\n",
       "    <tr>\n",
       "      <th>2019_12_18_14_35_Q-Exactive-HF-X-Orbitrap_6070</th>\n",
       "      <th>DENR</th>\n",
       "      <td>27.902</td>\n",
       "      <td>28.262</td>\n",
       "    </tr>\n",
       "    <tr>\n",
       "      <th>2020_05_12_21_07_Q-Exactive-HF-X-Orbitrap_6070</th>\n",
       "      <th>SNRPF</th>\n",
       "      <td>27.487</td>\n",
       "      <td>28.535</td>\n",
       "    </tr>\n",
       "  </tbody>\n",
       "</table>\n",
       "<p>859 rows × 2 columns</p>\n",
       "</div>"
      ],
      "text/plain": [
       "                                                           observed     CF\n",
       "Sample ID                                      Gene Names                 \n",
       "2019_12_18_14_35_Q-Exactive-HF-X-Orbitrap_6070 GEMIN5        30.946 28.616\n",
       "2020_02_28_12_27_Q-Exactive-HF-X-Orbitrap_6070 AAR2          27.248 28.307\n",
       "2020_02_13_03_11_Q-Exactive-HF-X-Orbitrap_6070 ADAM10        29.310 28.477\n",
       "2020_01_04_14_59_Q-Exactive-HF-X-Orbitrap_6070 NDUFAF4       24.352 28.258\n",
       "2020_05_27_13_57_Q-Exactive-HF-X-Orbitrap_6070 EPN1          29.250 28.411\n",
       "...                                                             ...    ...\n",
       "2020_03_01_23_00_Q-Exactive-HF-X-Orbitrap_6070 PRRC2B        24.294 28.282\n",
       "2020_01_04_04_23_Q-Exactive-HF-X-Orbitrap_6070 ARGLU1        28.471 28.518\n",
       "2020_02_18_18_55_Q-Exactive-HF-X-Orbitrap_6070 GBF1          29.470 28.467\n",
       "2019_12_18_14_35_Q-Exactive-HF-X-Orbitrap_6070 DENR          27.902 28.262\n",
       "2020_05_12_21_07_Q-Exactive-HF-X-Orbitrap_6070 SNRPF         27.487 28.535\n",
       "\n",
       "[859 rows x 2 columns]"
      ]
     },
     "execution_count": 18,
     "metadata": {},
     "output_type": "execute_result"
    }
   ],
   "source": [
    "# this could be done using the validation data laoder now\n",
    "ana_collab.test_dl = ana_collab.dls.test_dl(\n",
    "    data.val_y.reset_index())  # test_dl is here validation data\n",
    "val_pred_simulated_na['CF'], _ = ana_collab.learn.get_preds(\n",
    "    dl=ana_collab.test_dl)\n",
    "val_pred_simulated_na"
   ]
  },
  {
   "cell_type": "markdown",
   "id": "bd22f63f-be3f-4f25-ad60-bafd6b028bd7",
   "metadata": {
    "papermill": {
     "duration": 0.02725,
     "end_time": "2024-04-29T16:02:02.161402",
     "exception": false,
     "start_time": "2024-04-29T16:02:02.134152",
     "status": "completed"
    },
    "tags": []
   },
   "source": [
    "select test data predictions"
   ]
  },
  {
   "cell_type": "code",
   "execution_count": 19,
   "id": "c7f0c597-d3c7-42d0-a6ef-3bc4c13121b8",
   "metadata": {
    "execution": {
     "iopub.execute_input": "2024-04-29T16:02:02.177880Z",
     "iopub.status.busy": "2024-04-29T16:02:02.177407Z",
     "iopub.status.idle": "2024-04-29T16:02:02.202246Z",
     "shell.execute_reply": "2024-04-29T16:02:02.201644Z"
    },
    "papermill": {
     "duration": 0.034597,
     "end_time": "2024-04-29T16:02:02.203533",
     "exception": false,
     "start_time": "2024-04-29T16:02:02.168936",
     "status": "completed"
    },
    "tags": []
   },
   "outputs": [
    {
     "data": {
      "text/html": [
       "\n",
       "<style>\n",
       "    /* Turns off some styling */\n",
       "    progress {\n",
       "        /* gets rid of default border in Firefox and Opera. */\n",
       "        border: none;\n",
       "        /* Needs to be in here for Safari polyfill so background images work as expected. */\n",
       "        background-size: auto;\n",
       "    }\n",
       "    progress:not([value]), progress:not([value])::-webkit-progress-bar {\n",
       "        background: repeating-linear-gradient(45deg, #7e7e7e, #7e7e7e 10px, #5c5c5c 10px, #5c5c5c 20px);\n",
       "    }\n",
       "    .progress-bar-interrupted, .progress-bar-interrupted::-webkit-progress-bar {\n",
       "        background: #F44336;\n",
       "    }\n",
       "</style>\n"
      ],
      "text/plain": [
       "<IPython.core.display.HTML object>"
      ]
     },
     "metadata": {},
     "output_type": "display_data"
    },
    {
     "data": {
      "text/html": [],
      "text/plain": [
       "<IPython.core.display.HTML object>"
      ]
     },
     "metadata": {},
     "output_type": "display_data"
    },
    {
     "data": {
      "text/html": [
       "<div>\n",
       "<style scoped>\n",
       "    .dataframe tbody tr th:only-of-type {\n",
       "        vertical-align: middle;\n",
       "    }\n",
       "\n",
       "    .dataframe tbody tr th {\n",
       "        vertical-align: top;\n",
       "    }\n",
       "\n",
       "    .dataframe thead th {\n",
       "        text-align: right;\n",
       "    }\n",
       "</style>\n",
       "<table border=\"1\" class=\"dataframe\">\n",
       "  <thead>\n",
       "    <tr style=\"text-align: right;\">\n",
       "      <th></th>\n",
       "      <th></th>\n",
       "      <th>observed</th>\n",
       "      <th>CF</th>\n",
       "    </tr>\n",
       "    <tr>\n",
       "      <th>Sample ID</th>\n",
       "      <th>Gene Names</th>\n",
       "      <th></th>\n",
       "      <th></th>\n",
       "    </tr>\n",
       "  </thead>\n",
       "  <tbody>\n",
       "    <tr>\n",
       "      <th rowspan=\"5\" valign=\"top\">2019_12_18_14_35_Q-Exactive-HF-X-Orbitrap_6070</th>\n",
       "      <th>ARAF</th>\n",
       "      <td>23.248</td>\n",
       "      <td>28.281</td>\n",
       "    </tr>\n",
       "    <tr>\n",
       "      <th>CENPH</th>\n",
       "      <td>25.045</td>\n",
       "      <td>28.270</td>\n",
       "    </tr>\n",
       "    <tr>\n",
       "      <th>CLPP</th>\n",
       "      <td>27.745</td>\n",
       "      <td>28.351</td>\n",
       "    </tr>\n",
       "    <tr>\n",
       "      <th>GNAI1</th>\n",
       "      <td>24.335</td>\n",
       "      <td>28.280</td>\n",
       "    </tr>\n",
       "    <tr>\n",
       "      <th>KIAA1143</th>\n",
       "      <td>26.901</td>\n",
       "      <td>28.351</td>\n",
       "    </tr>\n",
       "    <tr>\n",
       "      <th>...</th>\n",
       "      <th>...</th>\n",
       "      <td>...</td>\n",
       "      <td>...</td>\n",
       "    </tr>\n",
       "    <tr>\n",
       "      <th rowspan=\"5\" valign=\"top\">2020_06_02_09_41_Q-Exactive-HF-X-Orbitrap_6070</th>\n",
       "      <th>NUDT9</th>\n",
       "      <td>27.658</td>\n",
       "      <td>28.522</td>\n",
       "    </tr>\n",
       "    <tr>\n",
       "      <th>PTPN1</th>\n",
       "      <td>29.024</td>\n",
       "      <td>28.608</td>\n",
       "    </tr>\n",
       "    <tr>\n",
       "      <th>RDH13</th>\n",
       "      <td>28.720</td>\n",
       "      <td>28.492</td>\n",
       "    </tr>\n",
       "    <tr>\n",
       "      <th>RNASEH2C</th>\n",
       "      <td>26.742</td>\n",
       "      <td>28.505</td>\n",
       "    </tr>\n",
       "    <tr>\n",
       "      <th>SH3BGRL3</th>\n",
       "      <td>29.162</td>\n",
       "      <td>28.790</td>\n",
       "    </tr>\n",
       "  </tbody>\n",
       "</table>\n",
       "<p>859 rows × 2 columns</p>\n",
       "</div>"
      ],
      "text/plain": [
       "                                                           observed     CF\n",
       "Sample ID                                      Gene Names                 \n",
       "2019_12_18_14_35_Q-Exactive-HF-X-Orbitrap_6070 ARAF          23.248 28.281\n",
       "                                               CENPH         25.045 28.270\n",
       "                                               CLPP          27.745 28.351\n",
       "                                               GNAI1         24.335 28.280\n",
       "                                               KIAA1143      26.901 28.351\n",
       "...                                                             ...    ...\n",
       "2020_06_02_09_41_Q-Exactive-HF-X-Orbitrap_6070 NUDT9         27.658 28.522\n",
       "                                               PTPN1         29.024 28.608\n",
       "                                               RDH13         28.720 28.492\n",
       "                                               RNASEH2C      26.742 28.505\n",
       "                                               SH3BGRL3      29.162 28.790\n",
       "\n",
       "[859 rows x 2 columns]"
      ]
     },
     "execution_count": 19,
     "metadata": {},
     "output_type": "execute_result"
    }
   ],
   "source": [
    "ana_collab.test_dl = ana_collab.dls.test_dl(data.test_y.reset_index())\n",
    "test_pred_simulated_na['CF'], _ = ana_collab.learn.get_preds(dl=ana_collab.test_dl)\n",
    "test_pred_simulated_na"
   ]
  },
  {
   "cell_type": "code",
   "execution_count": 20,
   "id": "1cd76df6",
   "metadata": {
    "execution": {
     "iopub.execute_input": "2024-04-29T16:02:02.221080Z",
     "iopub.status.busy": "2024-04-29T16:02:02.220557Z",
     "iopub.status.idle": "2024-04-29T16:02:02.260917Z",
     "shell.execute_reply": "2024-04-29T16:02:02.260297Z"
    },
    "lines_to_next_cell": 2,
    "papermill": {
     "duration": 0.050551,
     "end_time": "2024-04-29T16:02:02.262293",
     "exception": false,
     "start_time": "2024-04-29T16:02:02.211742",
     "status": "completed"
    },
    "tags": []
   },
   "outputs": [
    {
     "data": {
      "text/html": [
       "\n",
       "<style>\n",
       "    /* Turns off some styling */\n",
       "    progress {\n",
       "        /* gets rid of default border in Firefox and Opera. */\n",
       "        border: none;\n",
       "        /* Needs to be in here for Safari polyfill so background images work as expected. */\n",
       "        background-size: auto;\n",
       "    }\n",
       "    progress:not([value]), progress:not([value])::-webkit-progress-bar {\n",
       "        background: repeating-linear-gradient(45deg, #7e7e7e, #7e7e7e 10px, #5c5c5c 10px, #5c5c5c 20px);\n",
       "    }\n",
       "    .progress-bar-interrupted, .progress-bar-interrupted::-webkit-progress-bar {\n",
       "        background: #F44336;\n",
       "    }\n",
       "</style>\n"
      ],
      "text/plain": [
       "<IPython.core.display.HTML object>"
      ]
     },
     "metadata": {},
     "output_type": "display_data"
    },
    {
     "data": {
      "text/html": [],
      "text/plain": [
       "<IPython.core.display.HTML object>"
      ]
     },
     "metadata": {},
     "output_type": "display_data"
    }
   ],
   "source": [
    "if args.save_pred_real_na:\n",
    "    pred_real_na = models.collab.get_missing_values(\n",
    "        df_train_long=data.train_X,\n",
    "        val_idx=data.val_y.index,\n",
    "        test_idx=data.test_y.index,\n",
    "        analysis_collab=ana_collab)\n",
    "    pred_real_na.to_csv(args.out_preds / f\"pred_real_na_{args.model_key}.csv\")"
   ]
  },
  {
   "cell_type": "markdown",
   "id": "49eced7a-6cd7-414e-b974-4bd1dbe3a787",
   "metadata": {
    "papermill": {
     "duration": 0.007826,
     "end_time": "2024-04-29T16:02:02.278380",
     "exception": false,
     "start_time": "2024-04-29T16:02:02.270554",
     "status": "completed"
    },
    "tags": []
   },
   "source": [
    "## Data in wide format\n",
    "\n",
    "- Autoencoder need data in wide format"
   ]
  },
  {
   "cell_type": "code",
   "execution_count": 21,
   "id": "cff8caf4-ccc9-4a36-a992-2cc596abe51a",
   "metadata": {
    "execution": {
     "iopub.execute_input": "2024-04-29T16:02:02.295738Z",
     "iopub.status.busy": "2024-04-29T16:02:02.295129Z",
     "iopub.status.idle": "2024-04-29T16:02:02.309684Z",
     "shell.execute_reply": "2024-04-29T16:02:02.309115Z"
    },
    "lines_to_next_cell": 2,
    "papermill": {
     "duration": 0.024668,
     "end_time": "2024-04-29T16:02:02.310907",
     "exception": false,
     "start_time": "2024-04-29T16:02:02.286239",
     "status": "completed"
    },
    "tags": []
   },
   "outputs": [
    {
     "data": {
      "text/html": [
       "<div>\n",
       "<style scoped>\n",
       "    .dataframe tbody tr th:only-of-type {\n",
       "        vertical-align: middle;\n",
       "    }\n",
       "\n",
       "    .dataframe tbody tr th {\n",
       "        vertical-align: top;\n",
       "    }\n",
       "\n",
       "    .dataframe thead th {\n",
       "        text-align: right;\n",
       "    }\n",
       "</style>\n",
       "<table border=\"1\" class=\"dataframe\">\n",
       "  <thead>\n",
       "    <tr style=\"text-align: right;\">\n",
       "      <th>Gene Names</th>\n",
       "      <th>AAR2</th>\n",
       "      <th>ABCB6</th>\n",
       "      <th>ABHD11</th>\n",
       "      <th>ACAD9</th>\n",
       "      <th>ACTL6A</th>\n",
       "      <th>ACTN1</th>\n",
       "      <th>ACTR3</th>\n",
       "      <th>ADAM10</th>\n",
       "      <th>AHSA1</th>\n",
       "      <th>AK3</th>\n",
       "      <th>...</th>\n",
       "      <th>WBSCR16</th>\n",
       "      <th>WDR18</th>\n",
       "      <th>WDR33</th>\n",
       "      <th>WDR36</th>\n",
       "      <th>WDR61</th>\n",
       "      <th>WNK1</th>\n",
       "      <th>YBX1</th>\n",
       "      <th>YTHDF1</th>\n",
       "      <th>YWHAH</th>\n",
       "      <th>ZNF326</th>\n",
       "    </tr>\n",
       "    <tr>\n",
       "      <th>Sample ID</th>\n",
       "      <th></th>\n",
       "      <th></th>\n",
       "      <th></th>\n",
       "      <th></th>\n",
       "      <th></th>\n",
       "      <th></th>\n",
       "      <th></th>\n",
       "      <th></th>\n",
       "      <th></th>\n",
       "      <th></th>\n",
       "      <th></th>\n",
       "      <th></th>\n",
       "      <th></th>\n",
       "      <th></th>\n",
       "      <th></th>\n",
       "      <th></th>\n",
       "      <th></th>\n",
       "      <th></th>\n",
       "      <th></th>\n",
       "      <th></th>\n",
       "      <th></th>\n",
       "    </tr>\n",
       "  </thead>\n",
       "  <tbody>\n",
       "    <tr>\n",
       "      <th>2019_12_18_14_35_Q-Exactive-HF-X-Orbitrap_6070</th>\n",
       "      <td>27.248</td>\n",
       "      <td>24.472</td>\n",
       "      <td>25.714</td>\n",
       "      <td>28.542</td>\n",
       "      <td>29.335</td>\n",
       "      <td>30.837</td>\n",
       "      <td>29.713</td>\n",
       "      <td>26.702</td>\n",
       "      <td>31.696</td>\n",
       "      <td>26.337</td>\n",
       "      <td>...</td>\n",
       "      <td>26.360</td>\n",
       "      <td>28.258</td>\n",
       "      <td>25.507</td>\n",
       "      <td>30.009</td>\n",
       "      <td>28.345</td>\n",
       "      <td>27.701</td>\n",
       "      <td>32.374</td>\n",
       "      <td>24.925</td>\n",
       "      <td>29.609</td>\n",
       "      <td>28.756</td>\n",
       "    </tr>\n",
       "    <tr>\n",
       "      <th>2019_12_19_19_48_Q-Exactive-HF-X-Orbitrap_6070</th>\n",
       "      <td>27.211</td>\n",
       "      <td>23.775</td>\n",
       "      <td>NaN</td>\n",
       "      <td>28.437</td>\n",
       "      <td>29.692</td>\n",
       "      <td>30.635</td>\n",
       "      <td>30.340</td>\n",
       "      <td>25.929</td>\n",
       "      <td>31.296</td>\n",
       "      <td>25.415</td>\n",
       "      <td>...</td>\n",
       "      <td>NaN</td>\n",
       "      <td>NaN</td>\n",
       "      <td>23.620</td>\n",
       "      <td>29.348</td>\n",
       "      <td>28.728</td>\n",
       "      <td>NaN</td>\n",
       "      <td>NaN</td>\n",
       "      <td>NaN</td>\n",
       "      <td>29.027</td>\n",
       "      <td>28.393</td>\n",
       "    </tr>\n",
       "    <tr>\n",
       "      <th>2019_12_20_14_15_Q-Exactive-HF-X-Orbitrap_6070</th>\n",
       "      <td>27.377</td>\n",
       "      <td>26.852</td>\n",
       "      <td>26.046</td>\n",
       "      <td>28.907</td>\n",
       "      <td>30.369</td>\n",
       "      <td>31.252</td>\n",
       "      <td>30.715</td>\n",
       "      <td>26.403</td>\n",
       "      <td>NaN</td>\n",
       "      <td>25.554</td>\n",
       "      <td>...</td>\n",
       "      <td>27.147</td>\n",
       "      <td>28.335</td>\n",
       "      <td>NaN</td>\n",
       "      <td>30.563</td>\n",
       "      <td>28.859</td>\n",
       "      <td>28.405</td>\n",
       "      <td>32.328</td>\n",
       "      <td>25.498</td>\n",
       "      <td>30.170</td>\n",
       "      <td>29.208</td>\n",
       "    </tr>\n",
       "    <tr>\n",
       "      <th>2019_12_27_12_29_Q-Exactive-HF-X-Orbitrap_6070</th>\n",
       "      <td>NaN</td>\n",
       "      <td>24.047</td>\n",
       "      <td>24.788</td>\n",
       "      <td>27.894</td>\n",
       "      <td>29.359</td>\n",
       "      <td>29.996</td>\n",
       "      <td>29.686</td>\n",
       "      <td>NaN</td>\n",
       "      <td>30.882</td>\n",
       "      <td>22.498</td>\n",
       "      <td>...</td>\n",
       "      <td>NaN</td>\n",
       "      <td>28.228</td>\n",
       "      <td>NaN</td>\n",
       "      <td>29.497</td>\n",
       "      <td>27.716</td>\n",
       "      <td>27.349</td>\n",
       "      <td>31.794</td>\n",
       "      <td>24.701</td>\n",
       "      <td>29.232</td>\n",
       "      <td>28.139</td>\n",
       "    </tr>\n",
       "    <tr>\n",
       "      <th>2019_12_29_15_06_Q-Exactive-HF-X-Orbitrap_6070</th>\n",
       "      <td>26.520</td>\n",
       "      <td>NaN</td>\n",
       "      <td>NaN</td>\n",
       "      <td>NaN</td>\n",
       "      <td>30.164</td>\n",
       "      <td>33.143</td>\n",
       "      <td>30.985</td>\n",
       "      <td>25.824</td>\n",
       "      <td>31.145</td>\n",
       "      <td>29.210</td>\n",
       "      <td>...</td>\n",
       "      <td>NaN</td>\n",
       "      <td>NaN</td>\n",
       "      <td>26.818</td>\n",
       "      <td>29.374</td>\n",
       "      <td>29.407</td>\n",
       "      <td>28.900</td>\n",
       "      <td>32.443</td>\n",
       "      <td>NaN</td>\n",
       "      <td>30.615</td>\n",
       "      <td>29.189</td>\n",
       "    </tr>\n",
       "  </tbody>\n",
       "</table>\n",
       "<p>5 rows × 376 columns</p>\n",
       "</div>"
      ],
      "text/plain": [
       "Gene Names                                       AAR2  ABCB6  ABHD11  ACAD9  \\\n",
       "Sample ID                                                                     \n",
       "2019_12_18_14_35_Q-Exactive-HF-X-Orbitrap_6070 27.248 24.472  25.714 28.542   \n",
       "2019_12_19_19_48_Q-Exactive-HF-X-Orbitrap_6070 27.211 23.775     NaN 28.437   \n",
       "2019_12_20_14_15_Q-Exactive-HF-X-Orbitrap_6070 27.377 26.852  26.046 28.907   \n",
       "2019_12_27_12_29_Q-Exactive-HF-X-Orbitrap_6070    NaN 24.047  24.788 27.894   \n",
       "2019_12_29_15_06_Q-Exactive-HF-X-Orbitrap_6070 26.520    NaN     NaN    NaN   \n",
       "\n",
       "Gene Names                                      ACTL6A  ACTN1  ACTR3  ADAM10  \\\n",
       "Sample ID                                                                      \n",
       "2019_12_18_14_35_Q-Exactive-HF-X-Orbitrap_6070  29.335 30.837 29.713  26.702   \n",
       "2019_12_19_19_48_Q-Exactive-HF-X-Orbitrap_6070  29.692 30.635 30.340  25.929   \n",
       "2019_12_20_14_15_Q-Exactive-HF-X-Orbitrap_6070  30.369 31.252 30.715  26.403   \n",
       "2019_12_27_12_29_Q-Exactive-HF-X-Orbitrap_6070  29.359 29.996 29.686     NaN   \n",
       "2019_12_29_15_06_Q-Exactive-HF-X-Orbitrap_6070  30.164 33.143 30.985  25.824   \n",
       "\n",
       "Gene Names                                      AHSA1    AK3  ...  WBSCR16  \\\n",
       "Sample ID                                                     ...            \n",
       "2019_12_18_14_35_Q-Exactive-HF-X-Orbitrap_6070 31.696 26.337  ...   26.360   \n",
       "2019_12_19_19_48_Q-Exactive-HF-X-Orbitrap_6070 31.296 25.415  ...      NaN   \n",
       "2019_12_20_14_15_Q-Exactive-HF-X-Orbitrap_6070    NaN 25.554  ...   27.147   \n",
       "2019_12_27_12_29_Q-Exactive-HF-X-Orbitrap_6070 30.882 22.498  ...      NaN   \n",
       "2019_12_29_15_06_Q-Exactive-HF-X-Orbitrap_6070 31.145 29.210  ...      NaN   \n",
       "\n",
       "Gene Names                                      WDR18  WDR33  WDR36  WDR61  \\\n",
       "Sample ID                                                                    \n",
       "2019_12_18_14_35_Q-Exactive-HF-X-Orbitrap_6070 28.258 25.507 30.009 28.345   \n",
       "2019_12_19_19_48_Q-Exactive-HF-X-Orbitrap_6070    NaN 23.620 29.348 28.728   \n",
       "2019_12_20_14_15_Q-Exactive-HF-X-Orbitrap_6070 28.335    NaN 30.563 28.859   \n",
       "2019_12_27_12_29_Q-Exactive-HF-X-Orbitrap_6070 28.228    NaN 29.497 27.716   \n",
       "2019_12_29_15_06_Q-Exactive-HF-X-Orbitrap_6070    NaN 26.818 29.374 29.407   \n",
       "\n",
       "Gene Names                                       WNK1   YBX1  YTHDF1  YWHAH  \\\n",
       "Sample ID                                                                     \n",
       "2019_12_18_14_35_Q-Exactive-HF-X-Orbitrap_6070 27.701 32.374  24.925 29.609   \n",
       "2019_12_19_19_48_Q-Exactive-HF-X-Orbitrap_6070    NaN    NaN     NaN 29.027   \n",
       "2019_12_20_14_15_Q-Exactive-HF-X-Orbitrap_6070 28.405 32.328  25.498 30.170   \n",
       "2019_12_27_12_29_Q-Exactive-HF-X-Orbitrap_6070 27.349 31.794  24.701 29.232   \n",
       "2019_12_29_15_06_Q-Exactive-HF-X-Orbitrap_6070 28.900 32.443     NaN 30.615   \n",
       "\n",
       "Gene Names                                      ZNF326  \n",
       "Sample ID                                               \n",
       "2019_12_18_14_35_Q-Exactive-HF-X-Orbitrap_6070  28.756  \n",
       "2019_12_19_19_48_Q-Exactive-HF-X-Orbitrap_6070  28.393  \n",
       "2019_12_20_14_15_Q-Exactive-HF-X-Orbitrap_6070  29.208  \n",
       "2019_12_27_12_29_Q-Exactive-HF-X-Orbitrap_6070  28.139  \n",
       "2019_12_29_15_06_Q-Exactive-HF-X-Orbitrap_6070  29.189  \n",
       "\n",
       "[5 rows x 376 columns]"
      ]
     },
     "execution_count": 21,
     "metadata": {},
     "output_type": "execute_result"
    }
   ],
   "source": [
    "data.to_wide_format()\n",
    "args.M = data.train_X.shape[-1]\n",
    "data.train_X.head()"
   ]
  },
  {
   "cell_type": "markdown",
   "id": "861b9b3c-11d0-4cda-98c9-fadea16e47c4",
   "metadata": {
    "papermill": {
     "duration": 0.00806,
     "end_time": "2024-04-29T16:02:02.327450",
     "exception": false,
     "start_time": "2024-04-29T16:02:02.319390",
     "status": "completed"
    },
    "tags": []
   },
   "source": [
    "### Validation data\n",
    "\n",
    "- all measured (identified, observed) peptides in validation data\n",
    "\n",
    "> Does not make to much sense to compare collab and AEs,\n",
    "> as the setup differs of training and validation data differs"
   ]
  },
  {
   "cell_type": "code",
   "execution_count": 22,
   "id": "d825e38e-f3d6-4bca-b621-150267e7b7bc",
   "metadata": {
    "execution": {
     "iopub.execute_input": "2024-04-29T16:02:02.345287Z",
     "iopub.status.busy": "2024-04-29T16:02:02.345028Z",
     "iopub.status.idle": "2024-04-29T16:02:02.347995Z",
     "shell.execute_reply": "2024-04-29T16:02:02.347494Z"
    },
    "papermill": {
     "duration": 0.013523,
     "end_time": "2024-04-29T16:02:02.349156",
     "exception": false,
     "start_time": "2024-04-29T16:02:02.335633",
     "status": "completed"
    },
    "tags": []
   },
   "outputs": [],
   "source": [
    "# papermill_description=metrics\n",
    "d_metrics = models.Metrics()"
   ]
  },
  {
   "cell_type": "markdown",
   "id": "55b9b887-a644-4086-8399-e27b533bd22a",
   "metadata": {
    "papermill": {
     "duration": 0.008024,
     "end_time": "2024-04-29T16:02:02.365341",
     "exception": false,
     "start_time": "2024-04-29T16:02:02.357317",
     "status": "completed"
    },
    "tags": []
   },
   "source": [
    "The simulated NA for the validation step are real test data (not used for training nor early stopping)"
   ]
  },
  {
   "cell_type": "code",
   "execution_count": 23,
   "id": "855a7a6f-93fd-4612-9d8d-96541a2441be",
   "metadata": {
    "execution": {
     "iopub.execute_input": "2024-04-29T16:02:02.382863Z",
     "iopub.status.busy": "2024-04-29T16:02:02.382346Z",
     "iopub.status.idle": "2024-04-29T16:02:02.391023Z",
     "shell.execute_reply": "2024-04-29T16:02:02.390519Z"
    },
    "papermill": {
     "duration": 0.018695,
     "end_time": "2024-04-29T16:02:02.392137",
     "exception": false,
     "start_time": "2024-04-29T16:02:02.373442",
     "status": "completed"
    },
    "tags": []
   },
   "outputs": [
    {
     "name": "stdout",
     "output_type": "stream",
     "text": [
      "Selected as truth to compare to: observed\n"
     ]
    },
    {
     "data": {
      "text/plain": [
       "{'CF': {'MSE': 5.517291917908869,\n",
       "  'MAE': 1.8828639659281792,\n",
       "  'N': 859,\n",
       "  'prop': 1.0}}"
      ]
     },
     "execution_count": 23,
     "metadata": {},
     "output_type": "execute_result"
    }
   ],
   "source": [
    "added_metrics = d_metrics.add_metrics(val_pred_simulated_na, 'valid_simulated_na')\n",
    "added_metrics"
   ]
  },
  {
   "cell_type": "markdown",
   "id": "80fda7f1-3024-46bc-a3c1-17f509016bd4",
   "metadata": {
    "papermill": {
     "duration": 0.008247,
     "end_time": "2024-04-29T16:02:02.408897",
     "exception": false,
     "start_time": "2024-04-29T16:02:02.400650",
     "status": "completed"
    },
    "tags": []
   },
   "source": [
    "### Test Datasplit\n",
    "\n",
    "Simulated NAs : Artificially created NAs. Some data was sampled and set\n",
    "explicitly to misssing before it was fed to the model for\n",
    "reconstruction."
   ]
  },
  {
   "cell_type": "code",
   "execution_count": 24,
   "id": "571ac8d4-bb5d-45db-bba8-59817e476304",
   "metadata": {
    "execution": {
     "iopub.execute_input": "2024-04-29T16:02:02.426794Z",
     "iopub.status.busy": "2024-04-29T16:02:02.426330Z",
     "iopub.status.idle": "2024-04-29T16:02:02.434504Z",
     "shell.execute_reply": "2024-04-29T16:02:02.434005Z"
    },
    "papermill": {
     "duration": 0.01848,
     "end_time": "2024-04-29T16:02:02.435660",
     "exception": false,
     "start_time": "2024-04-29T16:02:02.417180",
     "status": "completed"
    },
    "tags": []
   },
   "outputs": [
    {
     "name": "stdout",
     "output_type": "stream",
     "text": [
      "Selected as truth to compare to: observed\n"
     ]
    },
    {
     "data": {
      "text/plain": [
       "{'CF': {'MSE': 5.886958704790071,\n",
       "  'MAE': 1.963240954156819,\n",
       "  'N': 859,\n",
       "  'prop': 1.0}}"
      ]
     },
     "execution_count": 24,
     "metadata": {},
     "output_type": "execute_result"
    }
   ],
   "source": [
    "added_metrics = d_metrics.add_metrics(test_pred_simulated_na, 'test_simulated_na')\n",
    "added_metrics"
   ]
  },
  {
   "cell_type": "markdown",
   "id": "b388de9d-0387-486a-9481-d673e0fec88b",
   "metadata": {
    "papermill": {
     "duration": 0.008456,
     "end_time": "2024-04-29T16:02:02.452794",
     "exception": false,
     "start_time": "2024-04-29T16:02:02.444338",
     "status": "completed"
    },
    "tags": []
   },
   "source": [
    "Save all metrics as json"
   ]
  },
  {
   "cell_type": "code",
   "execution_count": 25,
   "id": "87910434-7d07-4e8e-8380-c92fc515bd16",
   "metadata": {
    "execution": {
     "iopub.execute_input": "2024-04-29T16:02:02.471119Z",
     "iopub.status.busy": "2024-04-29T16:02:02.470516Z",
     "iopub.status.idle": "2024-04-29T16:02:02.474010Z",
     "shell.execute_reply": "2024-04-29T16:02:02.473521Z"
    },
    "lines_to_next_cell": 2,
    "papermill": {
     "duration": 0.014025,
     "end_time": "2024-04-29T16:02:02.475206",
     "exception": false,
     "start_time": "2024-04-29T16:02:02.461181",
     "status": "completed"
    },
    "tags": []
   },
   "outputs": [],
   "source": [
    "vaep.io.dump_json(d_metrics.metrics, args.out_metrics /\n",
    "                  f'metrics_{args.model_key}.json')"
   ]
  },
  {
   "cell_type": "code",
   "execution_count": 26,
   "id": "7d99deb9-9aad-4ba9-b79d-e4b3c6c7f023",
   "metadata": {
    "execution": {
     "iopub.execute_input": "2024-04-29T16:02:02.493186Z",
     "iopub.status.busy": "2024-04-29T16:02:02.492809Z",
     "iopub.status.idle": "2024-04-29T16:02:02.500704Z",
     "shell.execute_reply": "2024-04-29T16:02:02.500126Z"
    },
    "papermill": {
     "duration": 0.018226,
     "end_time": "2024-04-29T16:02:02.501986",
     "exception": false,
     "start_time": "2024-04-29T16:02:02.483760",
     "status": "completed"
    },
    "tags": []
   },
   "outputs": [
    {
     "data": {
      "text/html": [
       "<div>\n",
       "<style scoped>\n",
       "    .dataframe tbody tr th:only-of-type {\n",
       "        vertical-align: middle;\n",
       "    }\n",
       "\n",
       "    .dataframe tbody tr th {\n",
       "        vertical-align: top;\n",
       "    }\n",
       "\n",
       "    .dataframe thead th {\n",
       "        text-align: right;\n",
       "    }\n",
       "</style>\n",
       "<table border=\"1\" class=\"dataframe\">\n",
       "  <thead>\n",
       "    <tr style=\"text-align: right;\">\n",
       "      <th></th>\n",
       "      <th>subset</th>\n",
       "      <th>valid_simulated_na</th>\n",
       "      <th>test_simulated_na</th>\n",
       "    </tr>\n",
       "    <tr>\n",
       "      <th>model</th>\n",
       "      <th>metric_name</th>\n",
       "      <th></th>\n",
       "      <th></th>\n",
       "    </tr>\n",
       "  </thead>\n",
       "  <tbody>\n",
       "    <tr>\n",
       "      <th rowspan=\"4\" valign=\"top\">CF</th>\n",
       "      <th>MSE</th>\n",
       "      <td>5.517</td>\n",
       "      <td>5.887</td>\n",
       "    </tr>\n",
       "    <tr>\n",
       "      <th>MAE</th>\n",
       "      <td>1.883</td>\n",
       "      <td>1.963</td>\n",
       "    </tr>\n",
       "    <tr>\n",
       "      <th>N</th>\n",
       "      <td>859.000</td>\n",
       "      <td>859.000</td>\n",
       "    </tr>\n",
       "    <tr>\n",
       "      <th>prop</th>\n",
       "      <td>1.000</td>\n",
       "      <td>1.000</td>\n",
       "    </tr>\n",
       "  </tbody>\n",
       "</table>\n",
       "</div>"
      ],
      "text/plain": [
       "subset             valid_simulated_na  test_simulated_na\n",
       "model metric_name                                       \n",
       "CF    MSE                       5.517              5.887\n",
       "      MAE                       1.883              1.963\n",
       "      N                       859.000            859.000\n",
       "      prop                      1.000              1.000"
      ]
     },
     "execution_count": 26,
     "metadata": {},
     "output_type": "execute_result"
    }
   ],
   "source": [
    "metrics_df = models.get_df_from_nested_dict(\n",
    "    d_metrics.metrics, column_levels=['model', 'metric_name']).T\n",
    "metrics_df"
   ]
  },
  {
   "cell_type": "markdown",
   "id": "5d8d6b3e-1316-4795-bc3d-4bdf270b890e",
   "metadata": {
    "papermill": {
     "duration": 0.008488,
     "end_time": "2024-04-29T16:02:02.519192",
     "exception": false,
     "start_time": "2024-04-29T16:02:02.510704",
     "status": "completed"
    },
    "tags": []
   },
   "source": [
    "## Save predictions"
   ]
  },
  {
   "cell_type": "code",
   "execution_count": 27,
   "id": "782636ac-c979-4f8b-9fc0-66fd0c7a3a8b",
   "metadata": {
    "execution": {
     "iopub.execute_input": "2024-04-29T16:02:02.537390Z",
     "iopub.status.busy": "2024-04-29T16:02:02.536989Z",
     "iopub.status.idle": "2024-04-29T16:02:02.546479Z",
     "shell.execute_reply": "2024-04-29T16:02:02.546009Z"
    },
    "papermill": {
     "duration": 0.01999,
     "end_time": "2024-04-29T16:02:02.547743",
     "exception": false,
     "start_time": "2024-04-29T16:02:02.527753",
     "status": "completed"
    },
    "tags": []
   },
   "outputs": [],
   "source": [
    "# save simulated missing values for both splits\n",
    "val_pred_simulated_na.to_csv(args.out_preds / f\"pred_val_{args.model_key}.csv\")\n",
    "test_pred_simulated_na.to_csv(args.out_preds / f\"pred_test_{args.model_key}.csv\")"
   ]
  },
  {
   "cell_type": "markdown",
   "id": "42f2c184-e9ef-42be-ae87-7cbf52a0c0b6",
   "metadata": {
    "papermill": {
     "duration": 0.008479,
     "end_time": "2024-04-29T16:02:02.565007",
     "exception": false,
     "start_time": "2024-04-29T16:02:02.556528",
     "status": "completed"
    },
    "tags": []
   },
   "source": [
    "## Config"
   ]
  },
  {
   "cell_type": "code",
   "execution_count": 28,
   "id": "0f13cb38-abf0-4b56-9399-3d11d32f7fbc",
   "metadata": {
    "execution": {
     "iopub.execute_input": "2024-04-29T16:02:02.583442Z",
     "iopub.status.busy": "2024-04-29T16:02:02.582997Z",
     "iopub.status.idle": "2024-04-29T16:02:02.588693Z",
     "shell.execute_reply": "2024-04-29T16:02:02.588141Z"
    },
    "papermill": {
     "duration": 0.016252,
     "end_time": "2024-04-29T16:02:02.589825",
     "exception": false,
     "start_time": "2024-04-29T16:02:02.573573",
     "status": "completed"
    },
    "tags": []
   },
   "outputs": [
    {
     "data": {
      "text/plain": [
       "{'M': 376,\n",
       " 'batch_size': 4096,\n",
       " 'cuda': False,\n",
       " 'data': Path('runs/example/data'),\n",
       " 'epoch_trained': 3,\n",
       " 'epochs_max': 3,\n",
       " 'file_format': 'csv',\n",
       " 'fn_rawfile_metadata': 'data/dev_datasets/HeLa_6070/files_selected_metadata_N50.csv',\n",
       " 'folder_data': '',\n",
       " 'folder_experiment': Path('runs/example'),\n",
       " 'latent_dim': 50,\n",
       " 'model': 'CF',\n",
       " 'model_key': 'CF',\n",
       " 'n_params': 21828,\n",
       " 'out_figures': Path('runs/example/figures'),\n",
       " 'out_folder': Path('runs/example'),\n",
       " 'out_metrics': Path('runs/example'),\n",
       " 'out_models': Path('runs/example'),\n",
       " 'out_preds': Path('runs/example/preds'),\n",
       " 'patience': 1,\n",
       " 'sample_idx_position': 0,\n",
       " 'save_pred_real_na': True}"
      ]
     },
     "execution_count": 28,
     "metadata": {},
     "output_type": "execute_result"
    }
   ],
   "source": [
    "args.dump(fname=args.out_models / f\"model_config_{args.model_key}.yaml\")\n",
    "args"
   ]
  },
  {
   "cell_type": "code",
   "execution_count": null,
   "id": "408b261a",
   "metadata": {
    "papermill": {
     "duration": 0.00867,
     "end_time": "2024-04-29T16:02:02.607281",
     "exception": false,
     "start_time": "2024-04-29T16:02:02.598611",
     "status": "completed"
    },
    "tags": []
   },
   "outputs": [],
   "source": []
  }
 ],
 "metadata": {
  "jupytext": {
   "formats": "ipynb,py:percent"
  },
  "kernelspec": {
   "display_name": "Python 3",
   "language": "python",
   "name": "python3"
  },
  "language_info": {
   "codemirror_mode": {
    "name": "ipython",
    "version": 3
   },
   "file_extension": ".py",
   "mimetype": "text/x-python",
   "name": "python",
   "nbconvert_exporter": "python",
   "pygments_lexer": "ipython3",
   "version": "3.8.19"
  },
  "papermill": {
   "default_parameters": {},
   "duration": 7.0874,
   "end_time": "2024-04-29T16:02:03.233328",
   "environment_variables": {},
   "exception": null,
   "input_path": "01_1_train_CF.ipynb",
   "output_path": "runs/example/01_1_train_CF.ipynb",
   "parameters": {
    "batch_size": 4096,
    "cuda": false,
    "epochs_max": 3,
    "file_format": "csv",
    "fn_rawfile_metadata": "data/dev_datasets/HeLa_6070/files_selected_metadata_N50.csv",
    "folder_experiment": "runs/example",
    "latent_dim": 50,
    "model_key": "CF",
    "sample_idx_position": 0,
    "save_pred_real_na": true
   },
   "start_time": "2024-04-29T16:01:56.145928",
   "version": "2.6.0"
  },
  "toc-autonumbering": true,
  "vscode": {
   "interpreter": {
    "hash": "cf83e9cb890c7f96eb0ae04f39a82254555f56a1a0ed2f03b23a8b40fe6cd31c"
   }
  }
 },
 "nbformat": 4,
 "nbformat_minor": 5
}