{
 "cells": [
  {
   "cell_type": "code",
   "execution_count": 1,
   "id": "e470a0a5",
   "metadata": {
    "execution": {
     "iopub.execute_input": "2025-02-05T04:05:02.955881Z",
     "iopub.status.busy": "2025-02-05T04:05:02.953380Z",
     "iopub.status.idle": "2025-02-05T04:05:02.998778Z",
     "shell.execute_reply": "2025-02-05T04:05:02.997399Z"
    },
    "papermill": {
     "duration": 0.068787,
     "end_time": "2025-02-05T04:05:03.000192",
     "exception": false,
     "start_time": "2025-02-05T04:05:02.931405",
     "status": "completed"
    },
    "tags": [
     "parameters"
    ],
    "vscode": {
     "languageId": "r"
    }
   },
   "outputs": [],
   "source": [
    "methods = 'KNN_IMPUTE,msImpute'"
   ]
  },
  {
   "cell_type": "code",
   "execution_count": 2,
   "id": "33220ba5",
   "metadata": {
    "execution": {
     "iopub.execute_input": "2025-02-05T04:05:03.028157Z",
     "iopub.status.busy": "2025-02-05T04:05:03.003343Z",
     "iopub.status.idle": "2025-02-05T04:05:03.037693Z",
     "shell.execute_reply": "2025-02-05T04:05:03.036394Z"
    },
    "papermill": {
     "duration": 0.037714,
     "end_time": "2025-02-05T04:05:03.039106",
     "exception": false,
     "start_time": "2025-02-05T04:05:03.001392",
     "status": "completed"
    },
    "tags": [
     "injected-parameters"
    ]
   },
   "outputs": [],
   "source": [
    "# Parameters\n",
    "methods = \"BPCA,COLMEDIAN,IMPSEQ,IMPSEQROB,IRM,KNN_IMPUTE,LLS,MINDET,MINIMUM,MINPROB,MLE,PI,QRILC,RF,ROWMEDIAN,SVDMETHOD,TRKNN,ZERO\"\n"
   ]
  },
  {
   "cell_type": "code",
   "execution_count": 3,
   "id": "7ffb0a1b",
   "metadata": {
    "execution": {
     "iopub.execute_input": "2025-02-05T04:05:03.043186Z",
     "iopub.status.busy": "2025-02-05T04:05:03.042064Z",
     "iopub.status.idle": "2025-02-05T04:05:10.900510Z",
     "shell.execute_reply": "2025-02-05T04:05:10.899399Z"
    },
    "lines_to_next_cell": 2,
    "papermill": {
     "duration": 7.86183,
     "end_time": "2025-02-05T04:05:10.901895",
     "exception": false,
     "start_time": "2025-02-05T04:05:03.040065",
     "status": "completed"
    },
    "tags": [
     "hide-input"
    ],
    "vscode": {
     "languageId": "r"
    }
   },
   "outputs": [
    {
     "name": "stderr",
     "output_type": "stream",
     "text": [
      "Loading required package: BiocManager\n",
      "\n"
     ]
    },
    {
     "name": "stderr",
     "output_type": "stream",
     "text": [
      "Warning message in library(package, lib.loc = lib.loc, character.only = TRUE, logical.return = TRUE, :\n",
      "“there is no package called ‘BiocManager’”\n"
     ]
    },
    {
     "name": "stderr",
     "output_type": "stream",
     "text": [
      "Updating HTML index of packages in '.Library'\n",
      "\n"
     ]
    },
    {
     "name": "stderr",
     "output_type": "stream",
     "text": [
      "Making 'packages.html' ...\n"
     ]
    },
    {
     "name": "stderr",
     "output_type": "stream",
     "text": [
      " done\n",
      "\n"
     ]
    },
    {
     "name": "stderr",
     "output_type": "stream",
     "text": [
      "Loading required package: reshape2\n",
      "\n"
     ]
    },
    {
     "name": "stderr",
     "output_type": "stream",
     "text": [
      "Loading required package: data.table\n",
      "\n"
     ]
    },
    {
     "name": "stderr",
     "output_type": "stream",
     "text": [
      "\n",
      "Attaching package: ‘data.table’\n",
      "\n",
      "\n"
     ]
    },
    {
     "name": "stderr",
     "output_type": "stream",
     "text": [
      "The following objects are masked from ‘package:reshape2’:\n",
      "\n",
      "    dcast, melt\n",
      "\n",
      "\n"
     ]
    },
    {
     "name": "stderr",
     "output_type": "stream",
     "text": [
      "Loading required package: readr\n",
      "\n"
     ]
    },
    {
     "name": "stderr",
     "output_type": "stream",
     "text": [
      "Loading required package: tibble\n",
      "\n"
     ]
    }
   ],
   "source": [
    "# options(\"install.lock\"=FALSE)\n",
    "\n",
    "packages_base_R <-\n",
    "  c(\"BiocManager\", \"reshape2\", \"data.table\", \"readr\", \"tibble\")\n",
    "\n",
    "install_rpackage  <- function(pkg) {\n",
    "  # If not installed, install the package\n",
    "  if (!require(pkg, character.only = TRUE)) {\n",
    "    install.packages(pkg)\n",
    "    library(pkg, character.only = TRUE)\n",
    "  }\n",
    "  \n",
    "}\n",
    "\n",
    "# used in the large imputation function for two packages\n",
    "install_bioconductor  <- function(pkg) {\n",
    "  # If not installed, install the package\n",
    "  if (!require(pkg, character.only = TRUE)) {\n",
    "    BiocManager::install(pkg)\n",
    "    library(pkg, character.only = TRUE)\n",
    "  }\n",
    "  \n",
    "}\n",
    "\n",
    "\n",
    "nafunctions <- function(method = \"zero\") {\n",
    "  method <- tolower(method)\n",
    "  if (method == \"zero\") {\n",
    "  }\n",
    "  else if (method == \"minimum\") {\n",
    "  }\n",
    "  else if (method == \"colmedian\") {\n",
    "    install_rpackage('e1071')\n",
    "  }\n",
    "  else if (method == \"rowmedian\") {\n",
    "    install_rpackage('e1071')\n",
    "  }\n",
    "  else if (method == \"knn_impute\") {\n",
    "    install_bioconductor('impute')\n",
    "  }\n",
    "  else if (method == \"seqknn\") {\n",
    "    if (!require(SeqKnn)) {\n",
    "      install.packages(\"src/R_NAGuideR/SeqKnn_1.0.1.tar.gz\",\n",
    "                       repos = NULL,\n",
    "                       type = \"source\")\n",
    "    }\n",
    "  }\n",
    "  else if (method == \"bpca\") {\n",
    "    install_bioconductor('pcaMethods')\n",
    "  }\n",
    "  else if (method == \"svdmethod\") {\n",
    "    install_bioconductor('pcaMethods')\n",
    "  }\n",
    "  else if (method == \"lls\") {\n",
    "    install_bioconductor('pcaMethods')\n",
    "  }\n",
    "  else if (method == \"mle\") {\n",
    "    install_rpackage('norm')\n",
    "  }\n",
    "  else if (method == \"qrilc\") {\n",
    "    install_bioconductor(\"impute\")\n",
    "    install_bioconductor(\"pcaMethods\")\n",
    "    install_rpackage('gmm')\n",
    "    install_rpackage('imputeLCMD')\n",
    "  }\n",
    "  else if (method == \"mindet\") {\n",
    "    install_bioconductor(\"impute\")\n",
    "    install_bioconductor(\"pcaMethods\")\n",
    "    install_rpackage('gmm')\n",
    "    install_rpackage('imputeLCMD')\n",
    "  }\n",
    "  else if (method == \"minprob\") {\n",
    "    install_bioconductor(\"impute\")\n",
    "    install_bioconductor(\"pcaMethods\")\n",
    "    install_rpackage('gmm')\n",
    "    install_rpackage('imputeLCMD')\n",
    "  }\n",
    "  else if (method == \"irm\") {\n",
    "    install_rpackage('VIM')\n",
    "  }\n",
    "  else if (method == \"impseq\") {\n",
    "    install_rpackage('rrcovNA')\n",
    "  }\n",
    "  else if (method == \"impseqrob\") {\n",
    "    install_rpackage('rrcovNA')\n",
    "  }\n",
    "  else if (method == \"mice-norm\") {\n",
    "    install_rpackage('mice')\n",
    "  }\n",
    "  else if (method == \"mice-cart\") {\n",
    "    install_rpackage('mice')\n",
    "  }\n",
    "  else if (method == \"trknn\") {\n",
    "    source('src/R_NAGuideR/Imput_funcs.r')\n",
    "  }\n",
    "  else if (method == \"rf\") {\n",
    "    install_rpackage(\"missForest\")\n",
    "  }\n",
    "  else if (method == \"pi\") {\n",
    "  }\n",
    "  # else if(method==\"grr\"){\n",
    "  #   library(DreamAI)\n",
    "  #   df<-impute.RegImpute(data=as.matrix(df1), fillmethod = \"row_mean\", maxiter_RegImpute = 10,conv_nrmse = 1e-03)\n",
    "  # }\n",
    "  else if (method == \"gms\") {\n",
    "    # install.packages('GMSimpute')\n",
    "    if (!require(GMSimpute)) {\n",
    "      install.packages(\n",
    "        \"src/R_NAGuideR/GMSimpute_0.0.1.1.tar.gz\",\n",
    "        repos = NULL,\n",
    "        type = \"source\"\n",
    "      )\n",
    "      }\n",
    "  }\n",
    "  else if (method == \"msimpute\") {\n",
    "    install_bioconductor(\"msImpute\")\n",
    "  }\n",
    "  else if (method == \"msimpute_mnar\") {\n",
    "    install_bioconductor(\"msImpute\")\n",
    "  }\n",
    "  else if (method == \"gsimp\") {\n",
    "    options(stringsAsFactors = F)\n",
    "    # dependencies parly for sourced file\n",
    "    \n",
    "    install_bioconductor(\"impute\")\n",
    "    install_bioconductor(\"pcaMethods\")\n",
    "    install_rpackage('gmm')\n",
    "    install_rpackage('imputeLCMD')\n",
    "    install_rpackage(\"magrittr\")\n",
    "    install_rpackage(\"glmnet\")\n",
    "    install_rpackage(\"abind\")\n",
    "    install_rpackage(\"foreach\")\n",
    "    install_rpackage(\"doParallel\")\n",
    "    source('src/R_NAGuideR/GSimp.R')\n",
    "    \n",
    "    } \n",
    "  else{\n",
    "    stop(paste(\"Unspported methods so far: \", method))\n",
    "  }\n",
    "  df <- as.data.frame(df)\n",
    "  df\n",
    "}\n",
    "\n",
    "\n",
    "for (package in packages_base_R) {\n",
    "  # Check if the package is already installed\n",
    "  install_rpackage(pkg = package)\n",
    "}\n",
    "\n",
    "if (!require(\"BiocManager\", quietly = TRUE))\n",
    "    install.packages(\"BiocManager\")"
   ]
  },
  {
   "cell_type": "code",
   "execution_count": 4,
   "id": "1d65b5d9",
   "metadata": {
    "execution": {
     "iopub.execute_input": "2025-02-05T04:05:10.909459Z",
     "iopub.status.busy": "2025-02-05T04:05:10.908180Z",
     "iopub.status.idle": "2025-02-05T04:05:58.230995Z",
     "shell.execute_reply": "2025-02-05T04:05:58.221429Z"
    },
    "papermill": {
     "duration": 47.333723,
     "end_time": "2025-02-05T04:05:58.238531",
     "exception": false,
     "start_time": "2025-02-05T04:05:10.904808",
     "status": "completed"
    },
    "tags": [],
    "vscode": {
     "languageId": "r"
    }
   },
   "outputs": [
    {
     "name": "stderr",
     "output_type": "stream",
     "text": [
      "Loading required package: pcaMethods\n",
      "\n"
     ]
    },
    {
     "name": "stderr",
     "output_type": "stream",
     "text": [
      "Warning message in library(package, lib.loc = lib.loc, character.only = TRUE, logical.return = TRUE, :\n",
      "“there is no package called ‘pcaMethods’”\n"
     ]
    },
    {
     "name": "stderr",
     "output_type": "stream",
     "text": [
      "'getOption(\"repos\")' replaces Bioconductor standard repositories, see\n",
      "'help(\"repositories\", package = \"BiocManager\")' for details.\n",
      "Replacement repositories:\n",
      "    CRAN: https://cran.r-project.org\n",
      "\n"
     ]
    },
    {
     "name": "stderr",
     "output_type": "stream",
     "text": [
      "Bioconductor version 3.20 (BiocManager 1.30.25), R 4.4.2 (2024-10-31)\n",
      "\n"
     ]
    },
    {
     "name": "stderr",
     "output_type": "stream",
     "text": [
      "Installing package(s) 'BiocVersion', 'pcaMethods'\n",
      "\n"
     ]
    },
    {
     "name": "stderr",
     "output_type": "stream",
     "text": [
      "also installing the dependencies ‘Biobase’, ‘BiocGenerics’\n",
      "\n",
      "\n"
     ]
    },
    {
     "name": "stderr",
     "output_type": "stream",
     "text": [
      "Updating HTML index of packages in '.Library'\n",
      "\n"
     ]
    },
    {
     "name": "stderr",
     "output_type": "stream",
     "text": [
      "Making 'packages.html' ...\n"
     ]
    },
    {
     "name": "stderr",
     "output_type": "stream",
     "text": [
      " done\n",
      "\n"
     ]
    },
    {
     "name": "stderr",
     "output_type": "stream",
     "text": [
      "Old packages: 'abind', 'bit64', 'caret', 'clock', 'curl', 'gower', 'igraph',\n",
      "  'lme4', 'openssl', 'testthat', 'textshaping'\n",
      "\n"
     ]
    },
    {
     "name": "stderr",
     "output_type": "stream",
     "text": [
      "Loading required package: Biobase\n",
      "\n"
     ]
    },
    {
     "name": "stderr",
     "output_type": "stream",
     "text": [
      "Loading required package: BiocGenerics\n",
      "\n"
     ]
    },
    {
     "name": "stderr",
     "output_type": "stream",
     "text": [
      "\n",
      "Attaching package: ‘BiocGenerics’\n",
      "\n",
      "\n"
     ]
    },
    {
     "name": "stderr",
     "output_type": "stream",
     "text": [
      "The following objects are masked from ‘package:stats’:\n",
      "\n",
      "    IQR, mad, sd, var, xtabs\n",
      "\n",
      "\n"
     ]
    },
    {
     "name": "stderr",
     "output_type": "stream",
     "text": [
      "The following objects are masked from ‘package:base’:\n",
      "\n",
      "    anyDuplicated, aperm, append, as.data.frame, basename, cbind,\n",
      "    colnames, dirname, do.call, duplicated, eval, evalq, Filter, Find,\n",
      "    get, grep, grepl, intersect, is.unsorted, lapply, Map, mapply,\n",
      "    match, mget, order, paste, pmax, pmax.int, pmin, pmin.int,\n",
      "    Position, rank, rbind, Reduce, rownames, sapply, saveRDS, setdiff,\n",
      "    table, tapply, union, unique, unsplit, which.max, which.min\n",
      "\n",
      "\n"
     ]
    },
    {
     "name": "stderr",
     "output_type": "stream",
     "text": [
      "Welcome to Bioconductor\n",
      "\n",
      "    Vignettes contain introductory material; view with\n",
      "    'browseVignettes()'. To cite Bioconductor, see\n",
      "    'citation(\"Biobase\")', and for packages 'citation(\"pkgname\")'.\n",
      "\n",
      "\n"
     ]
    },
    {
     "name": "stderr",
     "output_type": "stream",
     "text": [
      "\n",
      "Attaching package: ‘pcaMethods’\n",
      "\n",
      "\n"
     ]
    },
    {
     "name": "stderr",
     "output_type": "stream",
     "text": [
      "The following object is masked from ‘package:stats’:\n",
      "\n",
      "    loadings\n",
      "\n",
      "\n"
     ]
    },
    {
     "name": "stderr",
     "output_type": "stream",
     "text": [
      "Loading required package: e1071\n",
      "\n"
     ]
    },
    {
     "name": "stderr",
     "output_type": "stream",
     "text": [
      "Loading required package: rrcovNA\n",
      "\n"
     ]
    },
    {
     "name": "stderr",
     "output_type": "stream",
     "text": [
      "Warning message in library(package, lib.loc = lib.loc, character.only = TRUE, logical.return = TRUE, :\n",
      "“there is no package called ‘rrcovNA’”\n"
     ]
    },
    {
     "name": "stderr",
     "output_type": "stream",
     "text": [
      "Updating HTML index of packages in '.Library'\n",
      "\n"
     ]
    },
    {
     "name": "stderr",
     "output_type": "stream",
     "text": [
      "Making 'packages.html' ...\n"
     ]
    },
    {
     "name": "stderr",
     "output_type": "stream",
     "text": [
      " done\n",
      "\n"
     ]
    },
    {
     "name": "stderr",
     "output_type": "stream",
     "text": [
      "Loading required package: rrcov\n",
      "\n"
     ]
    },
    {
     "name": "stderr",
     "output_type": "stream",
     "text": [
      "Loading required package: robustbase\n",
      "\n"
     ]
    },
    {
     "name": "stderr",
     "output_type": "stream",
     "text": [
      "\n",
      "Attaching package: ‘robustbase’\n",
      "\n",
      "\n"
     ]
    },
    {
     "name": "stderr",
     "output_type": "stream",
     "text": [
      "The following object is masked from ‘package:Biobase’:\n",
      "\n",
      "    rowMedians\n",
      "\n",
      "\n"
     ]
    },
    {
     "name": "stderr",
     "output_type": "stream",
     "text": [
      "Scalable Robust Estimators with High Breakdown Point (version 1.7-6)\n",
      "\n",
      "\n"
     ]
    },
    {
     "name": "stderr",
     "output_type": "stream",
     "text": [
      "Scalable Robust Estimators with High Breakdown Point for\n",
      "Incomplete Data (version 0.5-2)\n",
      "\n",
      "\n"
     ]
    },
    {
     "name": "stderr",
     "output_type": "stream",
     "text": [
      "Loading required package: VIM\n",
      "\n"
     ]
    },
    {
     "name": "stderr",
     "output_type": "stream",
     "text": [
      "Loading required package: colorspace\n",
      "\n"
     ]
    },
    {
     "name": "stderr",
     "output_type": "stream",
     "text": [
      "Loading required package: grid\n",
      "\n"
     ]
    },
    {
     "name": "stderr",
     "output_type": "stream",
     "text": [
      "VIM is ready to use.\n",
      "\n",
      "\n"
     ]
    },
    {
     "name": "stderr",
     "output_type": "stream",
     "text": [
      "Suggestions and bug-reports can be submitted at: https://github.com/statistikat/VIM/issues\n",
      "\n"
     ]
    },
    {
     "name": "stderr",
     "output_type": "stream",
     "text": [
      "\n",
      "Attaching package: ‘VIM’\n",
      "\n",
      "\n"
     ]
    },
    {
     "name": "stderr",
     "output_type": "stream",
     "text": [
      "The following object is masked from ‘package:datasets’:\n",
      "\n",
      "    sleep\n",
      "\n",
      "\n"
     ]
    },
    {
     "name": "stderr",
     "output_type": "stream",
     "text": [
      "Loading required package: impute\n",
      "\n"
     ]
    },
    {
     "name": "stderr",
     "output_type": "stream",
     "text": [
      "Warning message in library(package, lib.loc = lib.loc, character.only = TRUE, logical.return = TRUE, :\n",
      "“there is no package called ‘impute’”\n"
     ]
    },
    {
     "name": "stderr",
     "output_type": "stream",
     "text": [
      "'getOption(\"repos\")' replaces Bioconductor standard repositories, see\n",
      "'help(\"repositories\", package = \"BiocManager\")' for details.\n",
      "Replacement repositories:\n",
      "    CRAN: https://cran.r-project.org\n",
      "\n"
     ]
    },
    {
     "name": "stderr",
     "output_type": "stream",
     "text": [
      "Bioconductor version 3.20 (BiocManager 1.30.25), R 4.4.2 (2024-10-31)\n",
      "\n"
     ]
    },
    {
     "name": "stderr",
     "output_type": "stream",
     "text": [
      "Installing package(s) 'impute'\n",
      "\n"
     ]
    },
    {
     "name": "stderr",
     "output_type": "stream",
     "text": [
      "Updating HTML index of packages in '.Library'\n",
      "\n"
     ]
    },
    {
     "name": "stderr",
     "output_type": "stream",
     "text": [
      "Making 'packages.html' ...\n"
     ]
    },
    {
     "name": "stderr",
     "output_type": "stream",
     "text": [
      " done\n",
      "\n"
     ]
    },
    {
     "name": "stderr",
     "output_type": "stream",
     "text": [
      "Old packages: 'abind', 'bit64', 'caret', 'clock', 'curl', 'gower', 'igraph',\n",
      "  'lme4', 'openssl', 'testthat', 'textshaping'\n",
      "\n"
     ]
    },
    {
     "name": "stderr",
     "output_type": "stream",
     "text": [
      "Loading required package: gmm\n",
      "\n"
     ]
    },
    {
     "name": "stderr",
     "output_type": "stream",
     "text": [
      "Loading required package: sandwich\n",
      "\n"
     ]
    },
    {
     "name": "stderr",
     "output_type": "stream",
     "text": [
      "Loading required package: imputeLCMD\n",
      "\n"
     ]
    },
    {
     "name": "stderr",
     "output_type": "stream",
     "text": [
      "Warning message in library(package, lib.loc = lib.loc, character.only = TRUE, logical.return = TRUE, :\n",
      "“there is no package called ‘imputeLCMD’”\n"
     ]
    },
    {
     "name": "stderr",
     "output_type": "stream",
     "text": [
      "Updating HTML index of packages in '.Library'\n",
      "\n"
     ]
    },
    {
     "name": "stderr",
     "output_type": "stream",
     "text": [
      "Making 'packages.html' ...\n"
     ]
    },
    {
     "name": "stderr",
     "output_type": "stream",
     "text": [
      " done\n",
      "\n"
     ]
    },
    {
     "name": "stderr",
     "output_type": "stream",
     "text": [
      "Loading required package: tmvtnorm\n",
      "\n"
     ]
    },
    {
     "name": "stderr",
     "output_type": "stream",
     "text": [
      "Loading required package: mvtnorm\n",
      "\n"
     ]
    },
    {
     "name": "stderr",
     "output_type": "stream",
     "text": [
      "Loading required package: Matrix\n",
      "\n"
     ]
    },
    {
     "name": "stderr",
     "output_type": "stream",
     "text": [
      "Loading required package: stats4\n",
      "\n"
     ]
    },
    {
     "name": "stderr",
     "output_type": "stream",
     "text": [
      "Loading required package: norm\n",
      "\n"
     ]
    },
    {
     "name": "stderr",
     "output_type": "stream",
     "text": [
      "This package has some major limitations\n",
      "(for example, it does not work reliably when\n",
      "the number of variables exceeds 30),\n",
      "and has been superseded by the norm2 package.\n",
      "\n"
     ]
    },
    {
     "name": "stderr",
     "output_type": "stream",
     "text": [
      "Loading required package: missForest\n",
      "\n"
     ]
    },
    {
     "name": "stderr",
     "output_type": "stream",
     "text": [
      "\n",
      "Attaching package: ‘missForest’\n",
      "\n",
      "\n"
     ]
    },
    {
     "name": "stderr",
     "output_type": "stream",
     "text": [
      "The following object is masked from ‘package:VIM’:\n",
      "\n",
      "    nrmse\n",
      "\n",
      "\n"
     ]
    }
   ],
   "source": [
    "methods = unlist(strsplit(methods, split = \",\"))\n",
    "for (package in methods) {\n",
    "  # Check if the package is already installed, otherwise install\n",
    "  nafunctions(method = package)\n",
    "}\n"
   ]
  }
 ],
 "metadata": {
  "jupytext": {
   "formats": "ipynb,R:light"
  },
  "kernelspec": {
   "display_name": "R",
   "language": "R",
   "name": "ir"
  },
  "language_info": {
   "codemirror_mode": "r",
   "file_extension": ".r",
   "mimetype": "text/x-r-source",
   "name": "R",
   "pygments_lexer": "r",
   "version": "4.4.2"
  },
  "papermill": {
   "default_parameters": {},
   "duration": 56.309116,
   "end_time": "2025-02-05T04:05:58.368238",
   "environment_variables": {},
   "exception": null,
   "input_path": "01_0_install_R_packages.ipynb",
   "output_path": "runs/alzheimer_study/01_0_install_R_packages.ipynb",
   "parameters": {
    "methods": "BPCA,COLMEDIAN,IMPSEQ,IMPSEQROB,IRM,KNN_IMPUTE,LLS,MINDET,MINIMUM,MINPROB,MLE,PI,QRILC,RF,ROWMEDIAN,SVDMETHOD,TRKNN,ZERO"
   },
   "start_time": "2025-02-05T04:05:02.059122",
   "version": "2.6.0"
  }
 },
 "nbformat": 4,
 "nbformat_minor": 5
}