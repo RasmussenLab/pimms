{
 "cells": [
  {
   "cell_type": "markdown",
   "id": "c7aa5cba",
   "metadata": {
    "papermill": {
     "duration": 0.008652,
     "end_time": "2024-08-14T14:04:52.789654",
     "exception": false,
     "start_time": "2024-08-14T14:04:52.781002",
     "status": "completed"
    },
    "tags": []
   },
   "source": [
    "# K- Nearest Neighbors (KNN)"
   ]
  },
  {
   "cell_type": "code",
   "execution_count": 1,
   "id": "76e01f3e",
   "metadata": {
    "execution": {
     "iopub.execute_input": "2024-08-14T14:04:52.808030Z",
     "iopub.status.busy": "2024-08-14T14:04:52.807717Z",
     "iopub.status.idle": "2024-08-14T14:04:56.524764Z",
     "shell.execute_reply": "2024-08-14T14:04:56.524119Z"
    },
    "lines_to_next_cell": 2,
    "papermill": {
     "duration": 3.72727,
     "end_time": "2024-08-14T14:04:56.526492",
     "exception": false,
     "start_time": "2024-08-14T14:04:52.799222",
     "status": "completed"
    },
    "tags": [
     "hide-input"
    ]
   },
   "outputs": [
    {
     "name": "stdout",
     "output_type": "stream",
     "text": [
      "pimmslearn - INFO     Experiment 03 - Analysis of latent spaces and performance comparisions\n"
     ]
    }
   ],
   "source": [
    "import logging\n",
    "\n",
    "import pandas as pd\n",
    "import sklearn\n",
    "import sklearn.impute\n",
    "from IPython.display import display\n",
    "\n",
    "import pimmslearn\n",
    "import pimmslearn.model\n",
    "import pimmslearn.models as models\n",
    "import pimmslearn.nb\n",
    "from pimmslearn import sampling\n",
    "from pimmslearn.io import datasplits\n",
    "from pimmslearn.models import ae\n",
    "\n",
    "logger = pimmslearn.logging.setup_logger(logging.getLogger('pimmslearn'))\n",
    "logger.info(\"Experiment 03 - Analysis of latent spaces and performance comparisions\")\n",
    "\n",
    "figures = {}  # collection of ax or figures"
   ]
  },
  {
   "cell_type": "code",
   "execution_count": 2,
   "id": "3fb29f3e",
   "metadata": {
    "execution": {
     "iopub.execute_input": "2024-08-14T14:04:56.542952Z",
     "iopub.status.busy": "2024-08-14T14:04:56.542514Z",
     "iopub.status.idle": "2024-08-14T14:04:56.545778Z",
     "shell.execute_reply": "2024-08-14T14:04:56.545265Z"
    },
    "papermill": {
     "duration": 0.013686,
     "end_time": "2024-08-14T14:04:56.547895",
     "exception": false,
     "start_time": "2024-08-14T14:04:56.534209",
     "status": "completed"
    },
    "tags": [
     "hide-input"
    ]
   },
   "outputs": [],
   "source": [
    "# catch passed parameters\n",
    "args = None\n",
    "args = dict(globals()).keys()"
   ]
  },
  {
   "cell_type": "markdown",
   "id": "97cabfc2",
   "metadata": {
    "papermill": {
     "duration": 0.007112,
     "end_time": "2024-08-14T14:04:56.562320",
     "exception": false,
     "start_time": "2024-08-14T14:04:56.555208",
     "status": "completed"
    },
    "tags": []
   },
   "source": [
    "Papermill script parameters:"
   ]
  },
  {
   "cell_type": "code",
   "execution_count": 3,
   "id": "50f19abc",
   "metadata": {
    "execution": {
     "iopub.execute_input": "2024-08-14T14:04:56.578121Z",
     "iopub.status.busy": "2024-08-14T14:04:56.577883Z",
     "iopub.status.idle": "2024-08-14T14:04:56.582234Z",
     "shell.execute_reply": "2024-08-14T14:04:56.581710Z"
    },
    "papermill": {
     "duration": 0.014117,
     "end_time": "2024-08-14T14:04:56.584374",
     "exception": false,
     "start_time": "2024-08-14T14:04:56.570257",
     "status": "completed"
    },
    "tags": [
     "parameters"
    ]
   },
   "outputs": [],
   "source": [
    "# files and folders\n",
    "folder_experiment: str = 'runs/example'  # Datasplit folder with data for experiment\n",
    "folder_data: str = ''  # specify data directory if needed\n",
    "file_format: str = 'csv'  # file format of create splits, default pickle (pkl)\n",
    "# Machine parsed metadata from rawfile workflow\n",
    "fn_rawfile_metadata: str = 'data/dev_datasets/HeLa_6070/files_selected_metadata_N50.csv'\n",
    "# training\n",
    "epochs_max: int = 50  # Maximum number of epochs\n",
    "# early_stopping:bool = True # Wheather to use early stopping or not\n",
    "batch_size: int = 64  # Batch size for training (and evaluation)\n",
    "cuda: bool = True  # Whether to use a GPU for training\n",
    "# model\n",
    "neighbors: int = 3  # number of neigherst neighbors to use\n",
    "force_train: bool = True  # Force training when saved model could be used. Per default re-train model\n",
    "sample_idx_position: int = 0  # position of index which is sample ID\n",
    "model: str = 'KNN'  # model name\n",
    "model_key: str = 'KNN'  # potentially alternative key for model (grid search)\n",
    "save_pred_real_na: bool = True  # Save all predictions for missing values\n",
    "# metadata -> defaults for metadata extracted from machine data\n",
    "meta_date_col: str = None  # date column in meta data\n",
    "meta_cat_col: str = None  # category column in meta data"
   ]
  },
  {
   "cell_type": "code",
   "execution_count": 4,
   "id": "5c3bf1b0",
   "metadata": {
    "execution": {
     "iopub.execute_input": "2024-08-14T14:04:56.601563Z",
     "iopub.status.busy": "2024-08-14T14:04:56.601287Z",
     "iopub.status.idle": "2024-08-14T14:04:56.604614Z",
     "shell.execute_reply": "2024-08-14T14:04:56.604075Z"
    },
    "papermill": {
     "duration": 0.014894,
     "end_time": "2024-08-14T14:04:56.607085",
     "exception": false,
     "start_time": "2024-08-14T14:04:56.592191",
     "status": "completed"
    },
    "tags": [
     "injected-parameters"
    ]
   },
   "outputs": [],
   "source": [
    "# Parameters\n",
    "model = \"KNN\"\n",
    "neighbors = 5\n",
    "file_format = \"csv\"\n",
    "fn_rawfile_metadata = \"https://raw.githubusercontent.com/RasmussenLab/njab/HEAD/docs/tutorial/data/alzheimer/meta.csv\"\n",
    "folder_experiment = \"runs/alzheimer_study\"\n",
    "model_key = \"KNN5\"\n"
   ]
  },
  {
   "cell_type": "markdown",
   "id": "0f24fd6a",
   "metadata": {
    "papermill": {
     "duration": 0.006635,
     "end_time": "2024-08-14T14:04:56.639959",
     "exception": false,
     "start_time": "2024-08-14T14:04:56.633324",
     "status": "completed"
    },
    "tags": []
   },
   "source": [
    "Some argument transformations"
   ]
  },
  {
   "cell_type": "code",
   "execution_count": 5,
   "id": "10dfbb95",
   "metadata": {
    "execution": {
     "iopub.execute_input": "2024-08-14T14:04:56.655960Z",
     "iopub.status.busy": "2024-08-14T14:04:56.655689Z",
     "iopub.status.idle": "2024-08-14T14:04:56.665917Z",
     "shell.execute_reply": "2024-08-14T14:04:56.665315Z"
    },
    "lines_to_next_cell": 2,
    "papermill": {
     "duration": 0.019786,
     "end_time": "2024-08-14T14:04:56.667557",
     "exception": false,
     "start_time": "2024-08-14T14:04:56.647771",
     "status": "completed"
    },
    "tags": [
     "hide-input"
    ]
   },
   "outputs": [
    {
     "data": {
      "text/plain": [
       "{'batch_size': 64,\n",
       " 'cuda': True,\n",
       " 'data': Path('runs/alzheimer_study/data'),\n",
       " 'epochs_max': 50,\n",
       " 'file_format': 'csv',\n",
       " 'fn_rawfile_metadata': 'https://raw.githubusercontent.com/RasmussenLab/njab/HEAD/docs/tutorial/data/alzheimer/meta.csv',\n",
       " 'folder_data': '',\n",
       " 'folder_experiment': Path('runs/alzheimer_study'),\n",
       " 'force_train': True,\n",
       " 'meta_cat_col': None,\n",
       " 'meta_date_col': None,\n",
       " 'model': 'KNN',\n",
       " 'model_key': 'KNN5',\n",
       " 'neighbors': 5,\n",
       " 'out_figures': Path('runs/alzheimer_study/figures'),\n",
       " 'out_folder': Path('runs/alzheimer_study'),\n",
       " 'out_metrics': Path('runs/alzheimer_study'),\n",
       " 'out_models': Path('runs/alzheimer_study'),\n",
       " 'out_preds': Path('runs/alzheimer_study/preds'),\n",
       " 'sample_idx_position': 0,\n",
       " 'save_pred_real_na': True}"
      ]
     },
     "execution_count": 5,
     "metadata": {},
     "output_type": "execute_result"
    }
   ],
   "source": [
    "args = pimmslearn.nb.get_params(args, globals=globals())\n",
    "args = pimmslearn.nb.args_from_dict(args)\n",
    "args"
   ]
  },
  {
   "cell_type": "markdown",
   "id": "9e9b0881",
   "metadata": {
    "papermill": {
     "duration": 0.008173,
     "end_time": "2024-08-14T14:04:56.684247",
     "exception": false,
     "start_time": "2024-08-14T14:04:56.676074",
     "status": "completed"
    },
    "tags": []
   },
   "source": [
    "Some naming conventions"
   ]
  },
  {
   "cell_type": "code",
   "execution_count": 6,
   "id": "b0f78a72",
   "metadata": {
    "execution": {
     "iopub.execute_input": "2024-08-14T14:04:56.700960Z",
     "iopub.status.busy": "2024-08-14T14:04:56.700694Z",
     "iopub.status.idle": "2024-08-14T14:04:56.703714Z",
     "shell.execute_reply": "2024-08-14T14:04:56.703188Z"
    },
    "papermill": {
     "duration": 0.013695,
     "end_time": "2024-08-14T14:04:56.705954",
     "exception": false,
     "start_time": "2024-08-14T14:04:56.692259",
     "status": "completed"
    },
    "tags": [
     "hide-input"
    ]
   },
   "outputs": [],
   "source": [
    "TEMPLATE_MODEL_PARAMS = 'model_params_{}.json'"
   ]
  },
  {
   "cell_type": "markdown",
   "id": "76172671",
   "metadata": {
    "papermill": {
     "duration": 0.007278,
     "end_time": "2024-08-14T14:04:56.720597",
     "exception": false,
     "start_time": "2024-08-14T14:04:56.713319",
     "status": "completed"
    },
    "tags": []
   },
   "source": [
    "## Load data in long format"
   ]
  },
  {
   "cell_type": "code",
   "execution_count": 7,
   "id": "a7a2208e",
   "metadata": {
    "execution": {
     "iopub.execute_input": "2024-08-14T14:04:56.738971Z",
     "iopub.status.busy": "2024-08-14T14:04:56.738698Z",
     "iopub.status.idle": "2024-08-14T14:04:56.980876Z",
     "shell.execute_reply": "2024-08-14T14:04:56.980357Z"
    },
    "papermill": {
     "duration": 0.253887,
     "end_time": "2024-08-14T14:04:56.982504",
     "exception": false,
     "start_time": "2024-08-14T14:04:56.728617",
     "status": "completed"
    },
    "tags": [
     "hide-input"
    ]
   },
   "outputs": [
    {
     "name": "stdout",
     "output_type": "stream",
     "text": [
      "pimmslearn.io.datasplits - INFO     Loaded 'train_X' from file: runs/alzheimer_study/data/train_X.csv\n"
     ]
    },
    {
     "name": "stdout",
     "output_type": "stream",
     "text": [
      "pimmslearn.io.datasplits - INFO     Loaded 'val_y' from file: runs/alzheimer_study/data/val_y.csv\n"
     ]
    },
    {
     "name": "stdout",
     "output_type": "stream",
     "text": [
      "pimmslearn.io.datasplits - INFO     Loaded 'test_y' from file: runs/alzheimer_study/data/test_y.csv\n"
     ]
    }
   ],
   "source": [
    "data = datasplits.DataSplits.from_folder(args.data, file_format=args.file_format)"
   ]
  },
  {
   "cell_type": "markdown",
   "id": "74d14c1a",
   "metadata": {
    "papermill": {
     "duration": 0.007395,
     "end_time": "2024-08-14T14:04:56.998259",
     "exception": false,
     "start_time": "2024-08-14T14:04:56.990864",
     "status": "completed"
    },
    "tags": []
   },
   "source": [
    "data is loaded in long format"
   ]
  },
  {
   "cell_type": "code",
   "execution_count": 8,
   "id": "34b79387",
   "metadata": {
    "execution": {
     "iopub.execute_input": "2024-08-14T14:04:57.014659Z",
     "iopub.status.busy": "2024-08-14T14:04:57.014370Z",
     "iopub.status.idle": "2024-08-14T14:04:57.030005Z",
     "shell.execute_reply": "2024-08-14T14:04:57.029441Z"
    },
    "papermill": {
     "duration": 0.025703,
     "end_time": "2024-08-14T14:04:57.031644",
     "exception": false,
     "start_time": "2024-08-14T14:04:57.005941",
     "status": "completed"
    },
    "tags": [
     "hide-input"
    ]
   },
   "outputs": [
    {
     "data": {
      "text/plain": [
       "Sample ID   protein groups                            \n",
       "Sample_024  Q99983                                       18.487\n",
       "Sample_191  P47972                                       17.310\n",
       "Sample_023  Q14393;Q14393-2;Q14393-3;Q14393-4;Q14393-5   17.565\n",
       "Sample_153  Q13641                                       14.221\n",
       "Sample_189  P23435                                       15.036\n",
       "Name: intensity, dtype: float64"
      ]
     },
     "execution_count": 8,
     "metadata": {},
     "output_type": "execute_result"
    }
   ],
   "source": [
    "data.train_X.sample(5)"
   ]
  },
  {
   "cell_type": "markdown",
   "id": "3f0bb10e",
   "metadata": {
    "papermill": {
     "duration": 0.007782,
     "end_time": "2024-08-14T14:04:57.047329",
     "exception": false,
     "start_time": "2024-08-14T14:04:57.039547",
     "status": "completed"
    },
    "tags": []
   },
   "source": [
    "load meta data for splits"
   ]
  },
  {
   "cell_type": "code",
   "execution_count": 9,
   "id": "a61f7f70",
   "metadata": {
    "execution": {
     "iopub.execute_input": "2024-08-14T14:04:57.064122Z",
     "iopub.status.busy": "2024-08-14T14:04:57.063801Z",
     "iopub.status.idle": "2024-08-14T14:04:57.130510Z",
     "shell.execute_reply": "2024-08-14T14:04:57.129803Z"
    },
    "papermill": {
     "duration": 0.077194,
     "end_time": "2024-08-14T14:04:57.132308",
     "exception": false,
     "start_time": "2024-08-14T14:04:57.055114",
     "status": "completed"
    },
    "tags": [
     "hide-input"
    ]
   },
   "outputs": [
    {
     "data": {
      "text/html": [
       "<div>\n",
       "<style scoped>\n",
       "    .dataframe tbody tr th:only-of-type {\n",
       "        vertical-align: middle;\n",
       "    }\n",
       "\n",
       "    .dataframe tbody tr th {\n",
       "        vertical-align: top;\n",
       "    }\n",
       "\n",
       "    .dataframe thead th {\n",
       "        text-align: right;\n",
       "    }\n",
       "</style>\n",
       "<table border=\"1\" class=\"dataframe\">\n",
       "  <thead>\n",
       "    <tr style=\"text-align: right;\">\n",
       "      <th></th>\n",
       "      <th>_collection site</th>\n",
       "      <th>_age at CSF collection</th>\n",
       "      <th>_gender</th>\n",
       "      <th>_t-tau [ng/L]</th>\n",
       "      <th>_p-tau [ng/L]</th>\n",
       "      <th>_Abeta-42 [ng/L]</th>\n",
       "      <th>_Abeta-40 [ng/L]</th>\n",
       "      <th>_Abeta-42/Abeta-40 ratio</th>\n",
       "      <th>_primary biochemical AD classification</th>\n",
       "      <th>_clinical AD diagnosis</th>\n",
       "      <th>_MMSE score</th>\n",
       "    </tr>\n",
       "    <tr>\n",
       "      <th>Sample ID</th>\n",
       "      <th></th>\n",
       "      <th></th>\n",
       "      <th></th>\n",
       "      <th></th>\n",
       "      <th></th>\n",
       "      <th></th>\n",
       "      <th></th>\n",
       "      <th></th>\n",
       "      <th></th>\n",
       "      <th></th>\n",
       "      <th></th>\n",
       "    </tr>\n",
       "  </thead>\n",
       "  <tbody>\n",
       "    <tr>\n",
       "      <th>Sample_000</th>\n",
       "      <td>Sweden</td>\n",
       "      <td>71.000</td>\n",
       "      <td>f</td>\n",
       "      <td>703.000</td>\n",
       "      <td>85.000</td>\n",
       "      <td>562.000</td>\n",
       "      <td>NaN</td>\n",
       "      <td>NaN</td>\n",
       "      <td>biochemical control</td>\n",
       "      <td>NaN</td>\n",
       "      <td>NaN</td>\n",
       "    </tr>\n",
       "    <tr>\n",
       "      <th>Sample_001</th>\n",
       "      <td>Sweden</td>\n",
       "      <td>77.000</td>\n",
       "      <td>m</td>\n",
       "      <td>518.000</td>\n",
       "      <td>91.000</td>\n",
       "      <td>334.000</td>\n",
       "      <td>NaN</td>\n",
       "      <td>NaN</td>\n",
       "      <td>biochemical AD</td>\n",
       "      <td>NaN</td>\n",
       "      <td>NaN</td>\n",
       "    </tr>\n",
       "    <tr>\n",
       "      <th>Sample_002</th>\n",
       "      <td>Sweden</td>\n",
       "      <td>75.000</td>\n",
       "      <td>m</td>\n",
       "      <td>974.000</td>\n",
       "      <td>87.000</td>\n",
       "      <td>515.000</td>\n",
       "      <td>NaN</td>\n",
       "      <td>NaN</td>\n",
       "      <td>biochemical AD</td>\n",
       "      <td>NaN</td>\n",
       "      <td>NaN</td>\n",
       "    </tr>\n",
       "    <tr>\n",
       "      <th>Sample_003</th>\n",
       "      <td>Sweden</td>\n",
       "      <td>72.000</td>\n",
       "      <td>f</td>\n",
       "      <td>950.000</td>\n",
       "      <td>109.000</td>\n",
       "      <td>394.000</td>\n",
       "      <td>NaN</td>\n",
       "      <td>NaN</td>\n",
       "      <td>biochemical AD</td>\n",
       "      <td>NaN</td>\n",
       "      <td>NaN</td>\n",
       "    </tr>\n",
       "    <tr>\n",
       "      <th>Sample_004</th>\n",
       "      <td>Sweden</td>\n",
       "      <td>63.000</td>\n",
       "      <td>f</td>\n",
       "      <td>873.000</td>\n",
       "      <td>88.000</td>\n",
       "      <td>234.000</td>\n",
       "      <td>NaN</td>\n",
       "      <td>NaN</td>\n",
       "      <td>biochemical AD</td>\n",
       "      <td>NaN</td>\n",
       "      <td>NaN</td>\n",
       "    </tr>\n",
       "    <tr>\n",
       "      <th>...</th>\n",
       "      <td>...</td>\n",
       "      <td>...</td>\n",
       "      <td>...</td>\n",
       "      <td>...</td>\n",
       "      <td>...</td>\n",
       "      <td>...</td>\n",
       "      <td>...</td>\n",
       "      <td>...</td>\n",
       "      <td>...</td>\n",
       "      <td>...</td>\n",
       "      <td>...</td>\n",
       "    </tr>\n",
       "    <tr>\n",
       "      <th>Sample_205</th>\n",
       "      <td>Berlin</td>\n",
       "      <td>69.000</td>\n",
       "      <td>f</td>\n",
       "      <td>1,945.000</td>\n",
       "      <td>NaN</td>\n",
       "      <td>699.000</td>\n",
       "      <td>12,140.000</td>\n",
       "      <td>0.058</td>\n",
       "      <td>biochemical AD</td>\n",
       "      <td>AD</td>\n",
       "      <td>17.000</td>\n",
       "    </tr>\n",
       "    <tr>\n",
       "      <th>Sample_206</th>\n",
       "      <td>Berlin</td>\n",
       "      <td>73.000</td>\n",
       "      <td>m</td>\n",
       "      <td>299.000</td>\n",
       "      <td>NaN</td>\n",
       "      <td>1,420.000</td>\n",
       "      <td>16,571.000</td>\n",
       "      <td>0.086</td>\n",
       "      <td>biochemical control</td>\n",
       "      <td>non-AD</td>\n",
       "      <td>28.000</td>\n",
       "    </tr>\n",
       "    <tr>\n",
       "      <th>Sample_207</th>\n",
       "      <td>Berlin</td>\n",
       "      <td>71.000</td>\n",
       "      <td>f</td>\n",
       "      <td>262.000</td>\n",
       "      <td>NaN</td>\n",
       "      <td>639.000</td>\n",
       "      <td>9,663.000</td>\n",
       "      <td>0.066</td>\n",
       "      <td>biochemical control</td>\n",
       "      <td>non-AD</td>\n",
       "      <td>28.000</td>\n",
       "    </tr>\n",
       "    <tr>\n",
       "      <th>Sample_208</th>\n",
       "      <td>Berlin</td>\n",
       "      <td>83.000</td>\n",
       "      <td>m</td>\n",
       "      <td>289.000</td>\n",
       "      <td>NaN</td>\n",
       "      <td>1,436.000</td>\n",
       "      <td>11,285.000</td>\n",
       "      <td>0.127</td>\n",
       "      <td>biochemical control</td>\n",
       "      <td>non-AD</td>\n",
       "      <td>24.000</td>\n",
       "    </tr>\n",
       "    <tr>\n",
       "      <th>Sample_209</th>\n",
       "      <td>Berlin</td>\n",
       "      <td>63.000</td>\n",
       "      <td>f</td>\n",
       "      <td>591.000</td>\n",
       "      <td>NaN</td>\n",
       "      <td>1,299.000</td>\n",
       "      <td>11,232.000</td>\n",
       "      <td>0.116</td>\n",
       "      <td>biochemical control</td>\n",
       "      <td>non-AD</td>\n",
       "      <td>29.000</td>\n",
       "    </tr>\n",
       "  </tbody>\n",
       "</table>\n",
       "<p>210 rows × 11 columns</p>\n",
       "</div>"
      ],
      "text/plain": [
       "           _collection site  _age at CSF collection _gender  _t-tau [ng/L]  \\\n",
       "Sample ID                                                                    \n",
       "Sample_000           Sweden                  71.000       f        703.000   \n",
       "Sample_001           Sweden                  77.000       m        518.000   \n",
       "Sample_002           Sweden                  75.000       m        974.000   \n",
       "Sample_003           Sweden                  72.000       f        950.000   \n",
       "Sample_004           Sweden                  63.000       f        873.000   \n",
       "...                     ...                     ...     ...            ...   \n",
       "Sample_205           Berlin                  69.000       f      1,945.000   \n",
       "Sample_206           Berlin                  73.000       m        299.000   \n",
       "Sample_207           Berlin                  71.000       f        262.000   \n",
       "Sample_208           Berlin                  83.000       m        289.000   \n",
       "Sample_209           Berlin                  63.000       f        591.000   \n",
       "\n",
       "            _p-tau [ng/L]  _Abeta-42 [ng/L]  _Abeta-40 [ng/L]  \\\n",
       "Sample ID                                                       \n",
       "Sample_000         85.000           562.000               NaN   \n",
       "Sample_001         91.000           334.000               NaN   \n",
       "Sample_002         87.000           515.000               NaN   \n",
       "Sample_003        109.000           394.000               NaN   \n",
       "Sample_004         88.000           234.000               NaN   \n",
       "...                   ...               ...               ...   \n",
       "Sample_205            NaN           699.000        12,140.000   \n",
       "Sample_206            NaN         1,420.000        16,571.000   \n",
       "Sample_207            NaN           639.000         9,663.000   \n",
       "Sample_208            NaN         1,436.000        11,285.000   \n",
       "Sample_209            NaN         1,299.000        11,232.000   \n",
       "\n",
       "            _Abeta-42/Abeta-40 ratio _primary biochemical AD classification  \\\n",
       "Sample ID                                                                     \n",
       "Sample_000                       NaN                    biochemical control   \n",
       "Sample_001                       NaN                         biochemical AD   \n",
       "Sample_002                       NaN                         biochemical AD   \n",
       "Sample_003                       NaN                         biochemical AD   \n",
       "Sample_004                       NaN                         biochemical AD   \n",
       "...                              ...                                    ...   \n",
       "Sample_205                     0.058                         biochemical AD   \n",
       "Sample_206                     0.086                    biochemical control   \n",
       "Sample_207                     0.066                    biochemical control   \n",
       "Sample_208                     0.127                    biochemical control   \n",
       "Sample_209                     0.116                    biochemical control   \n",
       "\n",
       "           _clinical AD diagnosis  _MMSE score  \n",
       "Sample ID                                       \n",
       "Sample_000                    NaN          NaN  \n",
       "Sample_001                    NaN          NaN  \n",
       "Sample_002                    NaN          NaN  \n",
       "Sample_003                    NaN          NaN  \n",
       "Sample_004                    NaN          NaN  \n",
       "...                           ...          ...  \n",
       "Sample_205                     AD       17.000  \n",
       "Sample_206                 non-AD       28.000  \n",
       "Sample_207                 non-AD       28.000  \n",
       "Sample_208                 non-AD       24.000  \n",
       "Sample_209                 non-AD       29.000  \n",
       "\n",
       "[210 rows x 11 columns]"
      ]
     },
     "metadata": {},
     "output_type": "display_data"
    }
   ],
   "source": [
    "if args.fn_rawfile_metadata:\n",
    "    df_meta = pd.read_csv(args.fn_rawfile_metadata, index_col=0)\n",
    "    display(df_meta.loc[data.train_X.index.levels[0]])\n",
    "else:\n",
    "    df_meta = None"
   ]
  },
  {
   "cell_type": "markdown",
   "id": "ea35dc4c",
   "metadata": {
    "papermill": {
     "duration": 0.00722,
     "end_time": "2024-08-14T14:04:57.149902",
     "exception": false,
     "start_time": "2024-08-14T14:04:57.142682",
     "status": "completed"
    },
    "tags": []
   },
   "source": [
    "## Initialize Comparison"
   ]
  },
  {
   "cell_type": "code",
   "execution_count": 10,
   "id": "5e1a277f",
   "metadata": {
    "execution": {
     "iopub.execute_input": "2024-08-14T14:04:57.170411Z",
     "iopub.status.busy": "2024-08-14T14:04:57.170102Z",
     "iopub.status.idle": "2024-08-14T14:04:57.225239Z",
     "shell.execute_reply": "2024-08-14T14:04:57.224557Z"
    },
    "papermill": {
     "duration": 0.068423,
     "end_time": "2024-08-14T14:04:57.227039",
     "exception": false,
     "start_time": "2024-08-14T14:04:57.158616",
     "status": "completed"
    },
    "tags": [
     "hide-input"
    ]
   },
   "outputs": [
    {
     "data": {
      "text/plain": [
       "protein groups\n",
       "A0A024QZX5;A0A087X1N8;P35237                                                     180\n",
       "A0A024R0T9;K7ER74;P02655                                                         196\n",
       "A0A024R3W6;A0A024R412;O60462;O60462-2;O60462-3;O60462-4;O60462-5;Q7LBX6;X5D2Q8   170\n",
       "A0A024R644;A0A0A0MRU5;A0A1B0GWI2;O75503                                          194\n",
       "A0A075B6H7                                                                        87\n",
       "Name: intensity, dtype: int64"
      ]
     },
     "execution_count": 10,
     "metadata": {},
     "output_type": "execute_result"
    }
   ],
   "source": [
    "freq_feat = sampling.frequency_by_index(data.train_X, 0)\n",
    "freq_feat.head()  # training data"
   ]
  },
  {
   "cell_type": "markdown",
   "id": "15fd461b",
   "metadata": {
    "papermill": {
     "duration": 0.010342,
     "end_time": "2024-08-14T14:04:57.248266",
     "exception": false,
     "start_time": "2024-08-14T14:04:57.237924",
     "status": "completed"
    },
    "tags": []
   },
   "source": [
    "### Simulated missing values"
   ]
  },
  {
   "cell_type": "markdown",
   "id": "382b887d",
   "metadata": {
    "papermill": {
     "duration": 0.010313,
     "end_time": "2024-08-14T14:04:57.269463",
     "exception": false,
     "start_time": "2024-08-14T14:04:57.259150",
     "status": "completed"
    },
    "tags": []
   },
   "source": [
    "The validation fake NA is used to by all models to evaluate training performance."
   ]
  },
  {
   "cell_type": "code",
   "execution_count": 11,
   "id": "d056fb82",
   "metadata": {
    "execution": {
     "iopub.execute_input": "2024-08-14T14:04:57.291101Z",
     "iopub.status.busy": "2024-08-14T14:04:57.290771Z",
     "iopub.status.idle": "2024-08-14T14:04:57.302881Z",
     "shell.execute_reply": "2024-08-14T14:04:57.302270Z"
    },
    "papermill": {
     "duration": 0.025131,
     "end_time": "2024-08-14T14:04:57.304617",
     "exception": false,
     "start_time": "2024-08-14T14:04:57.279486",
     "status": "completed"
    },
    "tags": [
     "hide-input"
    ]
   },
   "outputs": [
    {
     "data": {
      "text/html": [
       "<div>\n",
       "<style scoped>\n",
       "    .dataframe tbody tr th:only-of-type {\n",
       "        vertical-align: middle;\n",
       "    }\n",
       "\n",
       "    .dataframe tbody tr th {\n",
       "        vertical-align: top;\n",
       "    }\n",
       "\n",
       "    .dataframe thead th {\n",
       "        text-align: right;\n",
       "    }\n",
       "</style>\n",
       "<table border=\"1\" class=\"dataframe\">\n",
       "  <thead>\n",
       "    <tr style=\"text-align: right;\">\n",
       "      <th></th>\n",
       "      <th></th>\n",
       "      <th>observed</th>\n",
       "    </tr>\n",
       "    <tr>\n",
       "      <th>Sample ID</th>\n",
       "      <th>protein groups</th>\n",
       "      <th></th>\n",
       "    </tr>\n",
       "  </thead>\n",
       "  <tbody>\n",
       "    <tr>\n",
       "      <th>Sample_158</th>\n",
       "      <th>Q9UN70;Q9UN70-2</th>\n",
       "      <td>14.630</td>\n",
       "    </tr>\n",
       "    <tr>\n",
       "      <th>Sample_050</th>\n",
       "      <th>Q9Y287</th>\n",
       "      <td>15.755</td>\n",
       "    </tr>\n",
       "    <tr>\n",
       "      <th>Sample_107</th>\n",
       "      <th>Q8N475;Q8N475-2</th>\n",
       "      <td>15.029</td>\n",
       "    </tr>\n",
       "    <tr>\n",
       "      <th>Sample_199</th>\n",
       "      <th>P06307</th>\n",
       "      <td>19.376</td>\n",
       "    </tr>\n",
       "    <tr>\n",
       "      <th>Sample_067</th>\n",
       "      <th>Q5VUB5</th>\n",
       "      <td>15.309</td>\n",
       "    </tr>\n",
       "    <tr>\n",
       "      <th>...</th>\n",
       "      <th>...</th>\n",
       "      <td>...</td>\n",
       "    </tr>\n",
       "    <tr>\n",
       "      <th>Sample_111</th>\n",
       "      <th>F6SYF8;Q9UBP4</th>\n",
       "      <td>22.822</td>\n",
       "    </tr>\n",
       "    <tr>\n",
       "      <th>Sample_002</th>\n",
       "      <th>A0A0A0MT36</th>\n",
       "      <td>18.165</td>\n",
       "    </tr>\n",
       "    <tr>\n",
       "      <th>Sample_049</th>\n",
       "      <th>Q8WY21;Q8WY21-2;Q8WY21-3;Q8WY21-4</th>\n",
       "      <td>15.525</td>\n",
       "    </tr>\n",
       "    <tr>\n",
       "      <th>Sample_182</th>\n",
       "      <th>Q8NFT8</th>\n",
       "      <td>14.379</td>\n",
       "    </tr>\n",
       "    <tr>\n",
       "      <th>Sample_123</th>\n",
       "      <th>Q16853;Q16853-2</th>\n",
       "      <td>14.504</td>\n",
       "    </tr>\n",
       "  </tbody>\n",
       "</table>\n",
       "<p>12600 rows × 1 columns</p>\n",
       "</div>"
      ],
      "text/plain": [
       "                                              observed\n",
       "Sample ID  protein groups                             \n",
       "Sample_158 Q9UN70;Q9UN70-2                      14.630\n",
       "Sample_050 Q9Y287                               15.755\n",
       "Sample_107 Q8N475;Q8N475-2                      15.029\n",
       "Sample_199 P06307                               19.376\n",
       "Sample_067 Q5VUB5                               15.309\n",
       "...                                                ...\n",
       "Sample_111 F6SYF8;Q9UBP4                        22.822\n",
       "Sample_002 A0A0A0MT36                           18.165\n",
       "Sample_049 Q8WY21;Q8WY21-2;Q8WY21-3;Q8WY21-4    15.525\n",
       "Sample_182 Q8NFT8                               14.379\n",
       "Sample_123 Q16853;Q16853-2                      14.504\n",
       "\n",
       "[12600 rows x 1 columns]"
      ]
     },
     "execution_count": 11,
     "metadata": {},
     "output_type": "execute_result"
    }
   ],
   "source": [
    "val_pred_fake_na = data.val_y.to_frame(name='observed')\n",
    "val_pred_fake_na"
   ]
  },
  {
   "cell_type": "code",
   "execution_count": 12,
   "id": "ade74bab",
   "metadata": {
    "execution": {
     "iopub.execute_input": "2024-08-14T14:04:57.325836Z",
     "iopub.status.busy": "2024-08-14T14:04:57.325493Z",
     "iopub.status.idle": "2024-08-14T14:04:57.339065Z",
     "shell.execute_reply": "2024-08-14T14:04:57.338458Z"
    },
    "lines_to_next_cell": 2,
    "papermill": {
     "duration": 0.026257,
     "end_time": "2024-08-14T14:04:57.340817",
     "exception": false,
     "start_time": "2024-08-14T14:04:57.314560",
     "status": "completed"
    },
    "tags": [
     "hide-input"
    ]
   },
   "outputs": [
    {
     "data": {
      "text/html": [
       "<div>\n",
       "<style scoped>\n",
       "    .dataframe tbody tr th:only-of-type {\n",
       "        vertical-align: middle;\n",
       "    }\n",
       "\n",
       "    .dataframe tbody tr th {\n",
       "        vertical-align: top;\n",
       "    }\n",
       "\n",
       "    .dataframe thead th {\n",
       "        text-align: right;\n",
       "    }\n",
       "</style>\n",
       "<table border=\"1\" class=\"dataframe\">\n",
       "  <thead>\n",
       "    <tr style=\"text-align: right;\">\n",
       "      <th></th>\n",
       "      <th>observed</th>\n",
       "    </tr>\n",
       "  </thead>\n",
       "  <tbody>\n",
       "    <tr>\n",
       "      <th>count</th>\n",
       "      <td>12,600.000</td>\n",
       "    </tr>\n",
       "    <tr>\n",
       "      <th>mean</th>\n",
       "      <td>16.339</td>\n",
       "    </tr>\n",
       "    <tr>\n",
       "      <th>std</th>\n",
       "      <td>2.741</td>\n",
       "    </tr>\n",
       "    <tr>\n",
       "      <th>min</th>\n",
       "      <td>7.209</td>\n",
       "    </tr>\n",
       "    <tr>\n",
       "      <th>25%</th>\n",
       "      <td>14.412</td>\n",
       "    </tr>\n",
       "    <tr>\n",
       "      <th>50%</th>\n",
       "      <td>15.935</td>\n",
       "    </tr>\n",
       "    <tr>\n",
       "      <th>75%</th>\n",
       "      <td>17.910</td>\n",
       "    </tr>\n",
       "    <tr>\n",
       "      <th>max</th>\n",
       "      <td>30.140</td>\n",
       "    </tr>\n",
       "  </tbody>\n",
       "</table>\n",
       "</div>"
      ],
      "text/plain": [
       "        observed\n",
       "count 12,600.000\n",
       "mean      16.339\n",
       "std        2.741\n",
       "min        7.209\n",
       "25%       14.412\n",
       "50%       15.935\n",
       "75%       17.910\n",
       "max       30.140"
      ]
     },
     "execution_count": 12,
     "metadata": {},
     "output_type": "execute_result"
    }
   ],
   "source": [
    "test_pred_fake_na = data.test_y.to_frame(name='observed')\n",
    "test_pred_fake_na.describe()"
   ]
  },
  {
   "cell_type": "markdown",
   "id": "e21c5c7d",
   "metadata": {
    "papermill": {
     "duration": 0.01058,
     "end_time": "2024-08-14T14:04:57.361923",
     "exception": false,
     "start_time": "2024-08-14T14:04:57.351343",
     "status": "completed"
    },
    "tags": []
   },
   "source": [
    "## Data in wide format"
   ]
  },
  {
   "cell_type": "code",
   "execution_count": 13,
   "id": "4a75a078",
   "metadata": {
    "execution": {
     "iopub.execute_input": "2024-08-14T14:04:57.385465Z",
     "iopub.status.busy": "2024-08-14T14:04:57.385141Z",
     "iopub.status.idle": "2024-08-14T14:04:57.440270Z",
     "shell.execute_reply": "2024-08-14T14:04:57.439630Z"
    },
    "papermill": {
     "duration": 0.068879,
     "end_time": "2024-08-14T14:04:57.442089",
     "exception": false,
     "start_time": "2024-08-14T14:04:57.373210",
     "status": "completed"
    },
    "tags": [
     "hide-input"
    ]
   },
   "outputs": [
    {
     "data": {
      "text/html": [
       "<div>\n",
       "<style scoped>\n",
       "    .dataframe tbody tr th:only-of-type {\n",
       "        vertical-align: middle;\n",
       "    }\n",
       "\n",
       "    .dataframe tbody tr th {\n",
       "        vertical-align: top;\n",
       "    }\n",
       "\n",
       "    .dataframe thead th {\n",
       "        text-align: right;\n",
       "    }\n",
       "</style>\n",
       "<table border=\"1\" class=\"dataframe\">\n",
       "  <thead>\n",
       "    <tr style=\"text-align: right;\">\n",
       "      <th>protein groups</th>\n",
       "      <th>A0A024QZX5;A0A087X1N8;P35237</th>\n",
       "      <th>A0A024R0T9;K7ER74;P02655</th>\n",
       "      <th>A0A024R3W6;A0A024R412;O60462;O60462-2;O60462-3;O60462-4;O60462-5;Q7LBX6;X5D2Q8</th>\n",
       "      <th>A0A024R644;A0A0A0MRU5;A0A1B0GWI2;O75503</th>\n",
       "      <th>A0A075B6H7</th>\n",
       "      <th>A0A075B6H9</th>\n",
       "      <th>A0A075B6I0</th>\n",
       "      <th>A0A075B6I1</th>\n",
       "      <th>A0A075B6I6</th>\n",
       "      <th>A0A075B6I9</th>\n",
       "      <th>...</th>\n",
       "      <th>Q9Y653;Q9Y653-2;Q9Y653-3</th>\n",
       "      <th>Q9Y696</th>\n",
       "      <th>Q9Y6C2</th>\n",
       "      <th>Q9Y6N6</th>\n",
       "      <th>Q9Y6N7;Q9Y6N7-2;Q9Y6N7-4</th>\n",
       "      <th>Q9Y6R7</th>\n",
       "      <th>Q9Y6X5</th>\n",
       "      <th>Q9Y6Y8;Q9Y6Y8-2</th>\n",
       "      <th>Q9Y6Y9</th>\n",
       "      <th>S4R3U6</th>\n",
       "    </tr>\n",
       "    <tr>\n",
       "      <th>Sample ID</th>\n",
       "      <th></th>\n",
       "      <th></th>\n",
       "      <th></th>\n",
       "      <th></th>\n",
       "      <th></th>\n",
       "      <th></th>\n",
       "      <th></th>\n",
       "      <th></th>\n",
       "      <th></th>\n",
       "      <th></th>\n",
       "      <th></th>\n",
       "      <th></th>\n",
       "      <th></th>\n",
       "      <th></th>\n",
       "      <th></th>\n",
       "      <th></th>\n",
       "      <th></th>\n",
       "      <th></th>\n",
       "      <th></th>\n",
       "      <th></th>\n",
       "      <th></th>\n",
       "    </tr>\n",
       "  </thead>\n",
       "  <tbody>\n",
       "    <tr>\n",
       "      <th>Sample_000</th>\n",
       "      <td>15.912</td>\n",
       "      <td>16.852</td>\n",
       "      <td>15.570</td>\n",
       "      <td>16.481</td>\n",
       "      <td>17.301</td>\n",
       "      <td>20.246</td>\n",
       "      <td>16.764</td>\n",
       "      <td>17.584</td>\n",
       "      <td>16.988</td>\n",
       "      <td>20.054</td>\n",
       "      <td>...</td>\n",
       "      <td>16.012</td>\n",
       "      <td>15.178</td>\n",
       "      <td>NaN</td>\n",
       "      <td>15.050</td>\n",
       "      <td>16.842</td>\n",
       "      <td>NaN</td>\n",
       "      <td>NaN</td>\n",
       "      <td>19.563</td>\n",
       "      <td>NaN</td>\n",
       "      <td>12.805</td>\n",
       "    </tr>\n",
       "    <tr>\n",
       "      <th>Sample_001</th>\n",
       "      <td>NaN</td>\n",
       "      <td>16.874</td>\n",
       "      <td>15.519</td>\n",
       "      <td>16.387</td>\n",
       "      <td>NaN</td>\n",
       "      <td>19.941</td>\n",
       "      <td>18.786</td>\n",
       "      <td>17.144</td>\n",
       "      <td>NaN</td>\n",
       "      <td>19.067</td>\n",
       "      <td>...</td>\n",
       "      <td>15.528</td>\n",
       "      <td>15.576</td>\n",
       "      <td>NaN</td>\n",
       "      <td>14.833</td>\n",
       "      <td>16.597</td>\n",
       "      <td>20.299</td>\n",
       "      <td>15.556</td>\n",
       "      <td>19.386</td>\n",
       "      <td>13.970</td>\n",
       "      <td>12.442</td>\n",
       "    </tr>\n",
       "    <tr>\n",
       "      <th>Sample_002</th>\n",
       "      <td>16.111</td>\n",
       "      <td>NaN</td>\n",
       "      <td>15.935</td>\n",
       "      <td>16.416</td>\n",
       "      <td>18.175</td>\n",
       "      <td>19.251</td>\n",
       "      <td>16.832</td>\n",
       "      <td>15.671</td>\n",
       "      <td>17.012</td>\n",
       "      <td>18.569</td>\n",
       "      <td>...</td>\n",
       "      <td>15.229</td>\n",
       "      <td>14.728</td>\n",
       "      <td>13.757</td>\n",
       "      <td>15.118</td>\n",
       "      <td>17.440</td>\n",
       "      <td>19.598</td>\n",
       "      <td>15.735</td>\n",
       "      <td>20.447</td>\n",
       "      <td>12.636</td>\n",
       "      <td>12.505</td>\n",
       "    </tr>\n",
       "    <tr>\n",
       "      <th>Sample_003</th>\n",
       "      <td>16.107</td>\n",
       "      <td>17.032</td>\n",
       "      <td>15.802</td>\n",
       "      <td>16.979</td>\n",
       "      <td>15.963</td>\n",
       "      <td>19.628</td>\n",
       "      <td>17.852</td>\n",
       "      <td>18.877</td>\n",
       "      <td>14.182</td>\n",
       "      <td>18.985</td>\n",
       "      <td>...</td>\n",
       "      <td>15.495</td>\n",
       "      <td>14.590</td>\n",
       "      <td>14.682</td>\n",
       "      <td>15.140</td>\n",
       "      <td>17.356</td>\n",
       "      <td>19.429</td>\n",
       "      <td>NaN</td>\n",
       "      <td>20.216</td>\n",
       "      <td>NaN</td>\n",
       "      <td>12.445</td>\n",
       "    </tr>\n",
       "    <tr>\n",
       "      <th>Sample_004</th>\n",
       "      <td>15.603</td>\n",
       "      <td>15.331</td>\n",
       "      <td>15.375</td>\n",
       "      <td>16.679</td>\n",
       "      <td>NaN</td>\n",
       "      <td>20.450</td>\n",
       "      <td>18.682</td>\n",
       "      <td>17.081</td>\n",
       "      <td>14.140</td>\n",
       "      <td>19.686</td>\n",
       "      <td>...</td>\n",
       "      <td>14.757</td>\n",
       "      <td>NaN</td>\n",
       "      <td>NaN</td>\n",
       "      <td>15.256</td>\n",
       "      <td>17.075</td>\n",
       "      <td>19.582</td>\n",
       "      <td>15.328</td>\n",
       "      <td>NaN</td>\n",
       "      <td>13.145</td>\n",
       "      <td>NaN</td>\n",
       "    </tr>\n",
       "  </tbody>\n",
       "</table>\n",
       "<p>5 rows × 1421 columns</p>\n",
       "</div>"
      ],
      "text/plain": [
       "protein groups  A0A024QZX5;A0A087X1N8;P35237  A0A024R0T9;K7ER74;P02655  \\\n",
       "Sample ID                                                                \n",
       "Sample_000                            15.912                    16.852   \n",
       "Sample_001                               NaN                    16.874   \n",
       "Sample_002                            16.111                       NaN   \n",
       "Sample_003                            16.107                    17.032   \n",
       "Sample_004                            15.603                    15.331   \n",
       "\n",
       "protein groups  A0A024R3W6;A0A024R412;O60462;O60462-2;O60462-3;O60462-4;O60462-5;Q7LBX6;X5D2Q8  \\\n",
       "Sample ID                                                                                        \n",
       "Sample_000                                                                              15.570   \n",
       "Sample_001                                                                              15.519   \n",
       "Sample_002                                                                              15.935   \n",
       "Sample_003                                                                              15.802   \n",
       "Sample_004                                                                              15.375   \n",
       "\n",
       "protein groups  A0A024R644;A0A0A0MRU5;A0A1B0GWI2;O75503  A0A075B6H7  \\\n",
       "Sample ID                                                             \n",
       "Sample_000                                       16.481      17.301   \n",
       "Sample_001                                       16.387         NaN   \n",
       "Sample_002                                       16.416      18.175   \n",
       "Sample_003                                       16.979      15.963   \n",
       "Sample_004                                       16.679         NaN   \n",
       "\n",
       "protein groups  A0A075B6H9  A0A075B6I0  A0A075B6I1  A0A075B6I6  A0A075B6I9  \\\n",
       "Sample ID                                                                    \n",
       "Sample_000          20.246      16.764      17.584      16.988      20.054   \n",
       "Sample_001          19.941      18.786      17.144         NaN      19.067   \n",
       "Sample_002          19.251      16.832      15.671      17.012      18.569   \n",
       "Sample_003          19.628      17.852      18.877      14.182      18.985   \n",
       "Sample_004          20.450      18.682      17.081      14.140      19.686   \n",
       "\n",
       "protein groups  ...  Q9Y653;Q9Y653-2;Q9Y653-3  Q9Y696  Q9Y6C2  Q9Y6N6  \\\n",
       "Sample ID       ...                                                     \n",
       "Sample_000      ...                    16.012  15.178     NaN  15.050   \n",
       "Sample_001      ...                    15.528  15.576     NaN  14.833   \n",
       "Sample_002      ...                    15.229  14.728  13.757  15.118   \n",
       "Sample_003      ...                    15.495  14.590  14.682  15.140   \n",
       "Sample_004      ...                    14.757     NaN     NaN  15.256   \n",
       "\n",
       "protein groups  Q9Y6N7;Q9Y6N7-2;Q9Y6N7-4  Q9Y6R7  Q9Y6X5  Q9Y6Y8;Q9Y6Y8-2  \\\n",
       "Sample ID                                                                   \n",
       "Sample_000                        16.842     NaN     NaN           19.563   \n",
       "Sample_001                        16.597  20.299  15.556           19.386   \n",
       "Sample_002                        17.440  19.598  15.735           20.447   \n",
       "Sample_003                        17.356  19.429     NaN           20.216   \n",
       "Sample_004                        17.075  19.582  15.328              NaN   \n",
       "\n",
       "protein groups  Q9Y6Y9  S4R3U6  \n",
       "Sample ID                       \n",
       "Sample_000         NaN  12.805  \n",
       "Sample_001      13.970  12.442  \n",
       "Sample_002      12.636  12.505  \n",
       "Sample_003         NaN  12.445  \n",
       "Sample_004      13.145     NaN  \n",
       "\n",
       "[5 rows x 1421 columns]"
      ]
     },
     "execution_count": 13,
     "metadata": {},
     "output_type": "execute_result"
    }
   ],
   "source": [
    "data.to_wide_format()\n",
    "args.M = data.train_X.shape[-1]\n",
    "data.train_X.head()"
   ]
  },
  {
   "attachments": {},
   "cell_type": "markdown",
   "id": "89465f1b",
   "metadata": {
    "papermill": {
     "duration": 0.011363,
     "end_time": "2024-08-14T14:04:57.464548",
     "exception": false,
     "start_time": "2024-08-14T14:04:57.453185",
     "status": "completed"
    },
    "tags": []
   },
   "source": [
    "## Train\n",
    "model = 'sklearn_knn'"
   ]
  },
  {
   "cell_type": "code",
   "execution_count": 14,
   "id": "58d3383c",
   "metadata": {
    "execution": {
     "iopub.execute_input": "2024-08-14T14:04:57.488811Z",
     "iopub.status.busy": "2024-08-14T14:04:57.488482Z",
     "iopub.status.idle": "2024-08-14T14:04:57.504661Z",
     "shell.execute_reply": "2024-08-14T14:04:57.504059Z"
    },
    "papermill": {
     "duration": 0.030231,
     "end_time": "2024-08-14T14:04:57.506322",
     "exception": false,
     "start_time": "2024-08-14T14:04:57.476091",
     "status": "completed"
    },
    "tags": [
     "hide-input"
    ]
   },
   "outputs": [],
   "source": [
    "knn_imputer = sklearn.impute.KNNImputer(n_neighbors=args.neighbors).fit(data.train_X)"
   ]
  },
  {
   "cell_type": "markdown",
   "id": "5ed614e9",
   "metadata": {
    "papermill": {
     "duration": 0.010996,
     "end_time": "2024-08-14T14:04:57.529736",
     "exception": false,
     "start_time": "2024-08-14T14:04:57.518740",
     "status": "completed"
    },
    "tags": []
   },
   "source": [
    "### Predictions\n",
    "\n",
    "- data of training data set and validation dataset to create predictions is the same as training data.\n",
    "- predictions include missing values (which are not further compared)\n",
    "\n",
    "create predictions and select for split entries"
   ]
  },
  {
   "cell_type": "code",
   "execution_count": 15,
   "id": "98a1cba0",
   "metadata": {
    "execution": {
     "iopub.execute_input": "2024-08-14T14:04:57.553501Z",
     "iopub.status.busy": "2024-08-14T14:04:57.553193Z",
     "iopub.status.idle": "2024-08-14T14:04:58.379104Z",
     "shell.execute_reply": "2024-08-14T14:04:58.378447Z"
    },
    "papermill": {
     "duration": 0.839625,
     "end_time": "2024-08-14T14:04:58.380703",
     "exception": false,
     "start_time": "2024-08-14T14:04:57.541078",
     "status": "completed"
    },
    "tags": [
     "hide-input"
    ]
   },
   "outputs": [
    {
     "data": {
      "text/plain": [
       "Sample ID   protein groups                                                                \n",
       "Sample_000  A0A024QZX5;A0A087X1N8;P35237                                                     15.912\n",
       "            A0A024R0T9;K7ER74;P02655                                                         16.852\n",
       "            A0A024R3W6;A0A024R412;O60462;O60462-2;O60462-3;O60462-4;O60462-5;Q7LBX6;X5D2Q8   15.570\n",
       "            A0A024R644;A0A0A0MRU5;A0A1B0GWI2;O75503                                          16.481\n",
       "            A0A075B6H7                                                                       17.301\n",
       "                                                                                              ...  \n",
       "Sample_209  Q9Y6R7                                                                           19.275\n",
       "            Q9Y6X5                                                                           15.732\n",
       "            Q9Y6Y8;Q9Y6Y8-2                                                                  19.577\n",
       "            Q9Y6Y9                                                                           11.042\n",
       "            S4R3U6                                                                           11.791\n",
       "Length: 298410, dtype: float64"
      ]
     },
     "execution_count": 15,
     "metadata": {},
     "output_type": "execute_result"
    }
   ],
   "source": [
    "pred = knn_imputer.transform(data.train_X)\n",
    "pred = pd.DataFrame(pred, index=data.train_X.index, columns=data.train_X.columns).stack()\n",
    "pred"
   ]
  },
  {
   "cell_type": "code",
   "execution_count": 16,
   "id": "5b24132c",
   "metadata": {
    "execution": {
     "iopub.execute_input": "2024-08-14T14:04:58.402393Z",
     "iopub.status.busy": "2024-08-14T14:04:58.402078Z",
     "iopub.status.idle": "2024-08-14T14:04:58.421462Z",
     "shell.execute_reply": "2024-08-14T14:04:58.420904Z"
    },
    "papermill": {
     "duration": 0.031819,
     "end_time": "2024-08-14T14:04:58.422880",
     "exception": false,
     "start_time": "2024-08-14T14:04:58.391061",
     "status": "completed"
    },
    "tags": [
     "hide-input"
    ]
   },
   "outputs": [
    {
     "data": {
      "text/html": [
       "<div>\n",
       "<style scoped>\n",
       "    .dataframe tbody tr th:only-of-type {\n",
       "        vertical-align: middle;\n",
       "    }\n",
       "\n",
       "    .dataframe tbody tr th {\n",
       "        vertical-align: top;\n",
       "    }\n",
       "\n",
       "    .dataframe thead th {\n",
       "        text-align: right;\n",
       "    }\n",
       "</style>\n",
       "<table border=\"1\" class=\"dataframe\">\n",
       "  <thead>\n",
       "    <tr style=\"text-align: right;\">\n",
       "      <th></th>\n",
       "      <th></th>\n",
       "      <th>observed</th>\n",
       "      <th>KNN5</th>\n",
       "    </tr>\n",
       "    <tr>\n",
       "      <th>Sample ID</th>\n",
       "      <th>protein groups</th>\n",
       "      <th></th>\n",
       "      <th></th>\n",
       "    </tr>\n",
       "  </thead>\n",
       "  <tbody>\n",
       "    <tr>\n",
       "      <th>Sample_158</th>\n",
       "      <th>Q9UN70;Q9UN70-2</th>\n",
       "      <td>14.630</td>\n",
       "      <td>15.449</td>\n",
       "    </tr>\n",
       "    <tr>\n",
       "      <th>Sample_050</th>\n",
       "      <th>Q9Y287</th>\n",
       "      <td>15.755</td>\n",
       "      <td>17.314</td>\n",
       "    </tr>\n",
       "    <tr>\n",
       "      <th>Sample_107</th>\n",
       "      <th>Q8N475;Q8N475-2</th>\n",
       "      <td>15.029</td>\n",
       "      <td>14.355</td>\n",
       "    </tr>\n",
       "    <tr>\n",
       "      <th>Sample_199</th>\n",
       "      <th>P06307</th>\n",
       "      <td>19.376</td>\n",
       "      <td>19.385</td>\n",
       "    </tr>\n",
       "    <tr>\n",
       "      <th>Sample_067</th>\n",
       "      <th>Q5VUB5</th>\n",
       "      <td>15.309</td>\n",
       "      <td>15.040</td>\n",
       "    </tr>\n",
       "    <tr>\n",
       "      <th>...</th>\n",
       "      <th>...</th>\n",
       "      <td>...</td>\n",
       "      <td>...</td>\n",
       "    </tr>\n",
       "    <tr>\n",
       "      <th>Sample_111</th>\n",
       "      <th>F6SYF8;Q9UBP4</th>\n",
       "      <td>22.822</td>\n",
       "      <td>22.899</td>\n",
       "    </tr>\n",
       "    <tr>\n",
       "      <th>Sample_002</th>\n",
       "      <th>A0A0A0MT36</th>\n",
       "      <td>18.165</td>\n",
       "      <td>16.142</td>\n",
       "    </tr>\n",
       "    <tr>\n",
       "      <th>Sample_049</th>\n",
       "      <th>Q8WY21;Q8WY21-2;Q8WY21-3;Q8WY21-4</th>\n",
       "      <td>15.525</td>\n",
       "      <td>15.574</td>\n",
       "    </tr>\n",
       "    <tr>\n",
       "      <th>Sample_182</th>\n",
       "      <th>Q8NFT8</th>\n",
       "      <td>14.379</td>\n",
       "      <td>13.480</td>\n",
       "    </tr>\n",
       "    <tr>\n",
       "      <th>Sample_123</th>\n",
       "      <th>Q16853;Q16853-2</th>\n",
       "      <td>14.504</td>\n",
       "      <td>14.627</td>\n",
       "    </tr>\n",
       "  </tbody>\n",
       "</table>\n",
       "<p>12600 rows × 2 columns</p>\n",
       "</div>"
      ],
      "text/plain": [
       "                                              observed   KNN5\n",
       "Sample ID  protein groups                                    \n",
       "Sample_158 Q9UN70;Q9UN70-2                      14.630 15.449\n",
       "Sample_050 Q9Y287                               15.755 17.314\n",
       "Sample_107 Q8N475;Q8N475-2                      15.029 14.355\n",
       "Sample_199 P06307                               19.376 19.385\n",
       "Sample_067 Q5VUB5                               15.309 15.040\n",
       "...                                                ...    ...\n",
       "Sample_111 F6SYF8;Q9UBP4                        22.822 22.899\n",
       "Sample_002 A0A0A0MT36                           18.165 16.142\n",
       "Sample_049 Q8WY21;Q8WY21-2;Q8WY21-3;Q8WY21-4    15.525 15.574\n",
       "Sample_182 Q8NFT8                               14.379 13.480\n",
       "Sample_123 Q16853;Q16853-2                      14.504 14.627\n",
       "\n",
       "[12600 rows x 2 columns]"
      ]
     },
     "execution_count": 16,
     "metadata": {},
     "output_type": "execute_result"
    }
   ],
   "source": [
    "val_pred_fake_na[args.model_key] = pred\n",
    "val_pred_fake_na"
   ]
  },
  {
   "cell_type": "code",
   "execution_count": 17,
   "id": "f8937bcc",
   "metadata": {
    "execution": {
     "iopub.execute_input": "2024-08-14T14:04:58.443378Z",
     "iopub.status.busy": "2024-08-14T14:04:58.443073Z",
     "iopub.status.idle": "2024-08-14T14:04:58.453981Z",
     "shell.execute_reply": "2024-08-14T14:04:58.453500Z"
    },
    "papermill": {
     "duration": 0.022572,
     "end_time": "2024-08-14T14:04:58.455256",
     "exception": false,
     "start_time": "2024-08-14T14:04:58.432684",
     "status": "completed"
    },
    "tags": [
     "hide-input"
    ]
   },
   "outputs": [
    {
     "data": {
      "text/html": [
       "<div>\n",
       "<style scoped>\n",
       "    .dataframe tbody tr th:only-of-type {\n",
       "        vertical-align: middle;\n",
       "    }\n",
       "\n",
       "    .dataframe tbody tr th {\n",
       "        vertical-align: top;\n",
       "    }\n",
       "\n",
       "    .dataframe thead th {\n",
       "        text-align: right;\n",
       "    }\n",
       "</style>\n",
       "<table border=\"1\" class=\"dataframe\">\n",
       "  <thead>\n",
       "    <tr style=\"text-align: right;\">\n",
       "      <th></th>\n",
       "      <th></th>\n",
       "      <th>observed</th>\n",
       "      <th>KNN5</th>\n",
       "    </tr>\n",
       "    <tr>\n",
       "      <th>Sample ID</th>\n",
       "      <th>protein groups</th>\n",
       "      <th></th>\n",
       "      <th></th>\n",
       "    </tr>\n",
       "  </thead>\n",
       "  <tbody>\n",
       "    <tr>\n",
       "      <th rowspan=\"5\" valign=\"top\">Sample_000</th>\n",
       "      <th>A0A075B6P5;P01615</th>\n",
       "      <td>17.016</td>\n",
       "      <td>17.207</td>\n",
       "    </tr>\n",
       "    <tr>\n",
       "      <th>A0A087X089;Q16627;Q16627-2</th>\n",
       "      <td>18.280</td>\n",
       "      <td>18.146</td>\n",
       "    </tr>\n",
       "    <tr>\n",
       "      <th>A0A0B4J2B5;S4R460</th>\n",
       "      <td>21.735</td>\n",
       "      <td>21.959</td>\n",
       "    </tr>\n",
       "    <tr>\n",
       "      <th>A0A140T971;O95865;Q5SRR8;Q5SSV3</th>\n",
       "      <td>14.603</td>\n",
       "      <td>15.143</td>\n",
       "    </tr>\n",
       "    <tr>\n",
       "      <th>A0A140TA33;A0A140TA41;A0A140TA52;P22105;P22105-3;P22105-4</th>\n",
       "      <td>16.143</td>\n",
       "      <td>16.743</td>\n",
       "    </tr>\n",
       "    <tr>\n",
       "      <th>...</th>\n",
       "      <th>...</th>\n",
       "      <td>...</td>\n",
       "      <td>...</td>\n",
       "    </tr>\n",
       "    <tr>\n",
       "      <th rowspan=\"5\" valign=\"top\">Sample_209</th>\n",
       "      <th>Q96ID5</th>\n",
       "      <td>16.074</td>\n",
       "      <td>15.981</td>\n",
       "    </tr>\n",
       "    <tr>\n",
       "      <th>Q9H492;Q9H492-2</th>\n",
       "      <td>13.173</td>\n",
       "      <td>13.432</td>\n",
       "    </tr>\n",
       "    <tr>\n",
       "      <th>Q9HC57</th>\n",
       "      <td>14.207</td>\n",
       "      <td>14.131</td>\n",
       "    </tr>\n",
       "    <tr>\n",
       "      <th>Q9NPH3;Q9NPH3-2;Q9NPH3-5</th>\n",
       "      <td>14.962</td>\n",
       "      <td>15.123</td>\n",
       "    </tr>\n",
       "    <tr>\n",
       "      <th>Q9UGM5;Q9UGM5-2</th>\n",
       "      <td>16.871</td>\n",
       "      <td>16.378</td>\n",
       "    </tr>\n",
       "  </tbody>\n",
       "</table>\n",
       "<p>12600 rows × 2 columns</p>\n",
       "</div>"
      ],
      "text/plain": [
       "                                                                      observed  \\\n",
       "Sample ID  protein groups                                                        \n",
       "Sample_000 A0A075B6P5;P01615                                            17.016   \n",
       "           A0A087X089;Q16627;Q16627-2                                   18.280   \n",
       "           A0A0B4J2B5;S4R460                                            21.735   \n",
       "           A0A140T971;O95865;Q5SRR8;Q5SSV3                              14.603   \n",
       "           A0A140TA33;A0A140TA41;A0A140TA52;P22105;P22105-3;P22105-4    16.143   \n",
       "...                                                                        ...   \n",
       "Sample_209 Q96ID5                                                       16.074   \n",
       "           Q9H492;Q9H492-2                                              13.173   \n",
       "           Q9HC57                                                       14.207   \n",
       "           Q9NPH3;Q9NPH3-2;Q9NPH3-5                                     14.962   \n",
       "           Q9UGM5;Q9UGM5-2                                              16.871   \n",
       "\n",
       "                                                                       KNN5  \n",
       "Sample ID  protein groups                                                    \n",
       "Sample_000 A0A075B6P5;P01615                                         17.207  \n",
       "           A0A087X089;Q16627;Q16627-2                                18.146  \n",
       "           A0A0B4J2B5;S4R460                                         21.959  \n",
       "           A0A140T971;O95865;Q5SRR8;Q5SSV3                           15.143  \n",
       "           A0A140TA33;A0A140TA41;A0A140TA52;P22105;P22105-3;P22105-4 16.743  \n",
       "...                                                                     ...  \n",
       "Sample_209 Q96ID5                                                    15.981  \n",
       "           Q9H492;Q9H492-2                                           13.432  \n",
       "           Q9HC57                                                    14.131  \n",
       "           Q9NPH3;Q9NPH3-2;Q9NPH3-5                                  15.123  \n",
       "           Q9UGM5;Q9UGM5-2                                           16.378  \n",
       "\n",
       "[12600 rows x 2 columns]"
      ]
     },
     "execution_count": 17,
     "metadata": {},
     "output_type": "execute_result"
    }
   ],
   "source": [
    "test_pred_fake_na[args.model_key] = pred\n",
    "test_pred_fake_na"
   ]
  },
  {
   "cell_type": "markdown",
   "id": "a7753205",
   "metadata": {
    "papermill": {
     "duration": 0.008513,
     "end_time": "2024-08-14T14:04:58.472739",
     "exception": false,
     "start_time": "2024-08-14T14:04:58.464226",
     "status": "completed"
    },
    "tags": []
   },
   "source": [
    "save missing values predictions"
   ]
  },
  {
   "cell_type": "code",
   "execution_count": 18,
   "id": "8a853343",
   "metadata": {
    "execution": {
     "iopub.execute_input": "2024-08-14T14:04:58.491481Z",
     "iopub.status.busy": "2024-08-14T14:04:58.490866Z",
     "iopub.status.idle": "2024-08-14T14:04:58.972668Z",
     "shell.execute_reply": "2024-08-14T14:04:58.972101Z"
    },
    "lines_to_next_cell": 2,
    "papermill": {
     "duration": 0.493209,
     "end_time": "2024-08-14T14:04:58.974610",
     "exception": false,
     "start_time": "2024-08-14T14:04:58.481401",
     "status": "completed"
    },
    "tags": [
     "hide-input"
    ]
   },
   "outputs": [
    {
     "data": {
      "text/plain": [
       "Sample ID   protein groups          \n",
       "Sample_000  A0A075B6J9                 15.591\n",
       "            A0A075B6Q5                 15.915\n",
       "            A0A075B6R2                 16.857\n",
       "            A0A075B6S5                 16.192\n",
       "            A0A087WSY4                 16.490\n",
       "                                        ...  \n",
       "Sample_209  Q9P1W8;Q9P1W8-2;Q9P1W8-4   15.979\n",
       "            Q9UI40;Q9UI40-2            16.704\n",
       "            Q9UIW2                     17.246\n",
       "            Q9UMX0;Q9UMX0-2;Q9UMX0-4   12.989\n",
       "            Q9UP79                     15.647\n",
       "Name: intensity, Length: 46401, dtype: float64"
      ]
     },
     "metadata": {},
     "output_type": "display_data"
    }
   ],
   "source": [
    "if args.save_pred_real_na:\n",
    "    pred_real_na = ae.get_missing_values(df_train_wide=data.train_X,\n",
    "                                         val_idx=val_pred_fake_na.index,\n",
    "                                         test_idx=test_pred_fake_na.index,\n",
    "                                         pred=pred)\n",
    "    display(pred_real_na)\n",
    "    pred_real_na.to_csv(args.out_preds / f\"pred_real_na_{args.model_key}.csv\")"
   ]
  },
  {
   "cell_type": "markdown",
   "id": "cb3686e1",
   "metadata": {
    "papermill": {
     "duration": 0.01049,
     "end_time": "2024-08-14T14:04:58.997146",
     "exception": false,
     "start_time": "2024-08-14T14:04:58.986656",
     "status": "completed"
    },
    "tags": []
   },
   "source": [
    "### Plots\n",
    "\n",
    "- validation data"
   ]
  },
  {
   "cell_type": "code",
   "execution_count": null,
   "id": "e7c0d93c",
   "metadata": {
    "papermill": {
     "duration": 0.010453,
     "end_time": "2024-08-14T14:04:59.017001",
     "exception": false,
     "start_time": "2024-08-14T14:04:59.006548",
     "status": "completed"
    },
    "tags": [
     "hide-input"
    ]
   },
   "outputs": [],
   "source": []
  },
  {
   "cell_type": "markdown",
   "id": "8881f26e",
   "metadata": {
    "papermill": {
     "duration": 0.008042,
     "end_time": "2024-08-14T14:04:59.034043",
     "exception": false,
     "start_time": "2024-08-14T14:04:59.026001",
     "status": "completed"
    },
    "tags": []
   },
   "source": [
    "## Comparisons\n"
   ]
  },
  {
   "cell_type": "markdown",
   "id": "5129e43f",
   "metadata": {
    "papermill": {
     "duration": 0.007871,
     "end_time": "2024-08-14T14:04:59.050565",
     "exception": false,
     "start_time": "2024-08-14T14:04:59.042694",
     "status": "completed"
    },
    "tags": []
   },
   "source": [
    "### Validation data\n",
    "\n",
    "- all measured (identified, observed) peptides in validation data\n",
    "\n",
    "> Does not make to much sense to compare collab and AEs,\n",
    "> as the setup differs of training and validation data differs"
   ]
  },
  {
   "cell_type": "code",
   "execution_count": 19,
   "id": "1d3a789e",
   "metadata": {
    "execution": {
     "iopub.execute_input": "2024-08-14T14:04:59.067738Z",
     "iopub.status.busy": "2024-08-14T14:04:59.067489Z",
     "iopub.status.idle": "2024-08-14T14:04:59.070182Z",
     "shell.execute_reply": "2024-08-14T14:04:59.069716Z"
    },
    "papermill": {
     "duration": 0.013491,
     "end_time": "2024-08-14T14:04:59.071949",
     "exception": false,
     "start_time": "2024-08-14T14:04:59.058458",
     "status": "completed"
    },
    "tags": [
     "hide-input"
    ]
   },
   "outputs": [],
   "source": [
    "# papermill_description=metrics\n",
    "d_metrics = models.Metrics()"
   ]
  },
  {
   "cell_type": "markdown",
   "id": "0fd9b72d",
   "metadata": {
    "papermill": {
     "duration": 0.007814,
     "end_time": "2024-08-14T14:04:59.087711",
     "exception": false,
     "start_time": "2024-08-14T14:04:59.079897",
     "status": "completed"
    },
    "tags": []
   },
   "source": [
    "The fake NA for the validation step are real test data (not used for training nor early stopping)"
   ]
  },
  {
   "cell_type": "code",
   "execution_count": 20,
   "id": "d56eb144",
   "metadata": {
    "execution": {
     "iopub.execute_input": "2024-08-14T14:04:59.107821Z",
     "iopub.status.busy": "2024-08-14T14:04:59.107559Z",
     "iopub.status.idle": "2024-08-14T14:04:59.126510Z",
     "shell.execute_reply": "2024-08-14T14:04:59.125997Z"
    },
    "papermill": {
     "duration": 0.0309,
     "end_time": "2024-08-14T14:04:59.127958",
     "exception": false,
     "start_time": "2024-08-14T14:04:59.097058",
     "status": "completed"
    },
    "tags": [
     "hide-input"
    ]
   },
   "outputs": [
    {
     "name": "stdout",
     "output_type": "stream",
     "text": [
      "Selected as truth to compare to: observed\n"
     ]
    },
    {
     "data": {
      "text/plain": [
       "{'KNN5': {'MSE': 0.5165599266763433,\n",
       "  'MAE': 0.4669947218139099,\n",
       "  'N': 12600,\n",
       "  'prop': 1.0}}"
      ]
     },
     "execution_count": 20,
     "metadata": {},
     "output_type": "execute_result"
    }
   ],
   "source": [
    "added_metrics = d_metrics.add_metrics(val_pred_fake_na, 'valid_fake_na')\n",
    "added_metrics"
   ]
  },
  {
   "cell_type": "markdown",
   "id": "b9b64c77",
   "metadata": {
    "papermill": {
     "duration": 0.009294,
     "end_time": "2024-08-14T14:04:59.147345",
     "exception": false,
     "start_time": "2024-08-14T14:04:59.138051",
     "status": "completed"
    },
    "tags": []
   },
   "source": [
    "### Test Datasplit\n",
    "\n",
    "Fake NAs : Artificially created NAs. Some data was sampled and set\n",
    "explicitly to misssing before it was fed to the model for\n",
    "reconstruction."
   ]
  },
  {
   "cell_type": "code",
   "execution_count": 21,
   "id": "3d0be628",
   "metadata": {
    "execution": {
     "iopub.execute_input": "2024-08-14T14:04:59.170247Z",
     "iopub.status.busy": "2024-08-14T14:04:59.169986Z",
     "iopub.status.idle": "2024-08-14T14:04:59.188777Z",
     "shell.execute_reply": "2024-08-14T14:04:59.188291Z"
    },
    "papermill": {
     "duration": 0.031815,
     "end_time": "2024-08-14T14:04:59.190143",
     "exception": false,
     "start_time": "2024-08-14T14:04:59.158328",
     "status": "completed"
    },
    "tags": [
     "hide-input"
    ]
   },
   "outputs": [
    {
     "name": "stdout",
     "output_type": "stream",
     "text": [
      "Selected as truth to compare to: observed\n"
     ]
    },
    {
     "data": {
      "text/plain": [
       "{'KNN5': {'MSE': 0.5179350572570403,\n",
       "  'MAE': 0.4692305010683213,\n",
       "  'N': 12600,\n",
       "  'prop': 1.0}}"
      ]
     },
     "execution_count": 21,
     "metadata": {},
     "output_type": "execute_result"
    }
   ],
   "source": [
    "added_metrics = d_metrics.add_metrics(test_pred_fake_na, 'test_fake_na')\n",
    "added_metrics"
   ]
  },
  {
   "cell_type": "markdown",
   "id": "896c9c3d",
   "metadata": {
    "papermill": {
     "duration": 0.011109,
     "end_time": "2024-08-14T14:04:59.213469",
     "exception": false,
     "start_time": "2024-08-14T14:04:59.202360",
     "status": "completed"
    },
    "tags": []
   },
   "source": [
    "Save all metrics as json"
   ]
  },
  {
   "cell_type": "code",
   "execution_count": 22,
   "id": "9f03ba1f",
   "metadata": {
    "execution": {
     "iopub.execute_input": "2024-08-14T14:04:59.235462Z",
     "iopub.status.busy": "2024-08-14T14:04:59.235217Z",
     "iopub.status.idle": "2024-08-14T14:04:59.239742Z",
     "shell.execute_reply": "2024-08-14T14:04:59.239254Z"
    },
    "papermill": {
     "duration": 0.01847,
     "end_time": "2024-08-14T14:04:59.242799",
     "exception": false,
     "start_time": "2024-08-14T14:04:59.224329",
     "status": "completed"
    },
    "tags": [
     "hide-input"
    ]
   },
   "outputs": [
    {
     "data": {
      "text/plain": [
       "{ 'test_fake_na': { 'KNN5': { 'MAE': 0.4692305010683213,\n",
       "                              'MSE': 0.5179350572570403,\n",
       "                              'N': 12600,\n",
       "                              'prop': 1.0}},\n",
       "  'valid_fake_na': { 'KNN5': { 'MAE': 0.4669947218139099,\n",
       "                               'MSE': 0.5165599266763433,\n",
       "                               'N': 12600,\n",
       "                               'prop': 1.0}}}"
      ]
     },
     "execution_count": 22,
     "metadata": {},
     "output_type": "execute_result"
    }
   ],
   "source": [
    "pimmslearn.io.dump_json(d_metrics.metrics, args.out_metrics / f'metrics_{args.model_key}.json')\n",
    "d_metrics"
   ]
  },
  {
   "cell_type": "code",
   "execution_count": 23,
   "id": "b962d322",
   "metadata": {
    "execution": {
     "iopub.execute_input": "2024-08-14T14:04:59.265295Z",
     "iopub.status.busy": "2024-08-14T14:04:59.265066Z",
     "iopub.status.idle": "2024-08-14T14:04:59.276355Z",
     "shell.execute_reply": "2024-08-14T14:04:59.275845Z"
    },
    "papermill": {
     "duration": 0.024409,
     "end_time": "2024-08-14T14:04:59.277802",
     "exception": false,
     "start_time": "2024-08-14T14:04:59.253393",
     "status": "completed"
    },
    "tags": [
     "hide-input"
    ]
   },
   "outputs": [
    {
     "data": {
      "text/html": [
       "<div>\n",
       "<style scoped>\n",
       "    .dataframe tbody tr th:only-of-type {\n",
       "        vertical-align: middle;\n",
       "    }\n",
       "\n",
       "    .dataframe tbody tr th {\n",
       "        vertical-align: top;\n",
       "    }\n",
       "\n",
       "    .dataframe thead th {\n",
       "        text-align: right;\n",
       "    }\n",
       "</style>\n",
       "<table border=\"1\" class=\"dataframe\">\n",
       "  <thead>\n",
       "    <tr style=\"text-align: right;\">\n",
       "      <th></th>\n",
       "      <th>subset</th>\n",
       "      <th>valid_fake_na</th>\n",
       "      <th>test_fake_na</th>\n",
       "    </tr>\n",
       "    <tr>\n",
       "      <th>model</th>\n",
       "      <th>metric_name</th>\n",
       "      <th></th>\n",
       "      <th></th>\n",
       "    </tr>\n",
       "  </thead>\n",
       "  <tbody>\n",
       "    <tr>\n",
       "      <th rowspan=\"4\" valign=\"top\">KNN5</th>\n",
       "      <th>MSE</th>\n",
       "      <td>0.517</td>\n",
       "      <td>0.518</td>\n",
       "    </tr>\n",
       "    <tr>\n",
       "      <th>MAE</th>\n",
       "      <td>0.467</td>\n",
       "      <td>0.469</td>\n",
       "    </tr>\n",
       "    <tr>\n",
       "      <th>N</th>\n",
       "      <td>12,600.000</td>\n",
       "      <td>12,600.000</td>\n",
       "    </tr>\n",
       "    <tr>\n",
       "      <th>prop</th>\n",
       "      <td>1.000</td>\n",
       "      <td>1.000</td>\n",
       "    </tr>\n",
       "  </tbody>\n",
       "</table>\n",
       "</div>"
      ],
      "text/plain": [
       "subset             valid_fake_na  test_fake_na\n",
       "model metric_name                             \n",
       "KNN5  MSE                  0.517         0.518\n",
       "      MAE                  0.467         0.469\n",
       "      N               12,600.000    12,600.000\n",
       "      prop                 1.000         1.000"
      ]
     },
     "execution_count": 23,
     "metadata": {},
     "output_type": "execute_result"
    }
   ],
   "source": [
    "metrics_df = models.get_df_from_nested_dict(d_metrics.metrics,\n",
    "                                            column_levels=['model', 'metric_name']).T\n",
    "metrics_df"
   ]
  },
  {
   "cell_type": "markdown",
   "id": "27654ab9",
   "metadata": {
    "papermill": {
     "duration": 0.010156,
     "end_time": "2024-08-14T14:04:59.299279",
     "exception": false,
     "start_time": "2024-08-14T14:04:59.289123",
     "status": "completed"
    },
    "tags": []
   },
   "source": [
    "## Save predictions"
   ]
  },
  {
   "cell_type": "code",
   "execution_count": 24,
   "id": "ce0fb347",
   "metadata": {
    "execution": {
     "iopub.execute_input": "2024-08-14T14:04:59.322316Z",
     "iopub.status.busy": "2024-08-14T14:04:59.322047Z",
     "iopub.status.idle": "2024-08-14T14:04:59.434764Z",
     "shell.execute_reply": "2024-08-14T14:04:59.434111Z"
    },
    "papermill": {
     "duration": 0.126666,
     "end_time": "2024-08-14T14:04:59.436522",
     "exception": false,
     "start_time": "2024-08-14T14:04:59.309856",
     "status": "completed"
    },
    "tags": [
     "hide-input"
    ]
   },
   "outputs": [],
   "source": [
    "# save simulated missing values for both splits\n",
    "val_pred_fake_na.to_csv(args.out_preds / f\"pred_val_{args.model_key}.csv\")\n",
    "test_pred_fake_na.to_csv(args.out_preds / f\"pred_test_{args.model_key}.csv\")"
   ]
  },
  {
   "cell_type": "markdown",
   "id": "954f03e4",
   "metadata": {
    "papermill": {
     "duration": 0.055529,
     "end_time": "2024-08-14T14:04:59.503855",
     "exception": false,
     "start_time": "2024-08-14T14:04:59.448326",
     "status": "completed"
    },
    "tags": []
   },
   "source": [
    "## Config"
   ]
  },
  {
   "cell_type": "code",
   "execution_count": 25,
   "id": "fc43a4e8",
   "metadata": {
    "execution": {
     "iopub.execute_input": "2024-08-14T14:04:59.528210Z",
     "iopub.status.busy": "2024-08-14T14:04:59.527943Z",
     "iopub.status.idle": "2024-08-14T14:04:59.531781Z",
     "shell.execute_reply": "2024-08-14T14:04:59.531317Z"
    },
    "papermill": {
     "duration": 0.019046,
     "end_time": "2024-08-14T14:04:59.534496",
     "exception": false,
     "start_time": "2024-08-14T14:04:59.515450",
     "status": "completed"
    },
    "tags": [
     "hide-input"
    ]
   },
   "outputs": [
    {
     "data": {
      "text/plain": [
       "{}"
      ]
     },
     "execution_count": 25,
     "metadata": {},
     "output_type": "execute_result"
    }
   ],
   "source": [
    "figures  # switch to fnames?"
   ]
  },
  {
   "cell_type": "code",
   "execution_count": 26,
   "id": "d3bbd037",
   "metadata": {
    "execution": {
     "iopub.execute_input": "2024-08-14T14:04:59.559221Z",
     "iopub.status.busy": "2024-08-14T14:04:59.558949Z",
     "iopub.status.idle": "2024-08-14T14:04:59.565707Z",
     "shell.execute_reply": "2024-08-14T14:04:59.565190Z"
    },
    "papermill": {
     "duration": 0.022178,
     "end_time": "2024-08-14T14:04:59.568618",
     "exception": false,
     "start_time": "2024-08-14T14:04:59.546440",
     "status": "completed"
    },
    "tags": [
     "hide-input"
    ]
   },
   "outputs": [
    {
     "data": {
      "text/plain": [
       "{'M': 1421,\n",
       " 'batch_size': 64,\n",
       " 'cuda': True,\n",
       " 'data': Path('runs/alzheimer_study/data'),\n",
       " 'epochs_max': 50,\n",
       " 'file_format': 'csv',\n",
       " 'fn_rawfile_metadata': 'https://raw.githubusercontent.com/RasmussenLab/njab/HEAD/docs/tutorial/data/alzheimer/meta.csv',\n",
       " 'folder_data': '',\n",
       " 'folder_experiment': Path('runs/alzheimer_study'),\n",
       " 'force_train': True,\n",
       " 'meta_cat_col': None,\n",
       " 'meta_date_col': None,\n",
       " 'model': 'KNN',\n",
       " 'model_key': 'KNN5',\n",
       " 'n_params': 1,\n",
       " 'neighbors': 5,\n",
       " 'out_figures': Path('runs/alzheimer_study/figures'),\n",
       " 'out_folder': Path('runs/alzheimer_study'),\n",
       " 'out_metrics': Path('runs/alzheimer_study'),\n",
       " 'out_models': Path('runs/alzheimer_study'),\n",
       " 'out_preds': Path('runs/alzheimer_study/preds'),\n",
       " 'sample_idx_position': 0,\n",
       " 'save_pred_real_na': True}"
      ]
     },
     "execution_count": 26,
     "metadata": {},
     "output_type": "execute_result"
    }
   ],
   "source": [
    "args.n_params = 1  # the number of neighbors to consider\n",
    "args.dump(fname=args.out_models / f\"model_config_{args.model_key}.yaml\")\n",
    "args"
   ]
  }
 ],
 "metadata": {
  "jupytext": {
   "formats": "ipynb,py:percent"
  },
  "kernelspec": {
   "display_name": "Python 3",
   "language": "python",
   "name": "python3"
  },
  "language_info": {
   "codemirror_mode": {
    "name": "ipython",
    "version": 3
   },
   "file_extension": ".py",
   "mimetype": "text/x-python",
   "name": "python",
   "nbconvert_exporter": "python",
   "pygments_lexer": "ipython3",
   "version": "3.12.0"
  },
  "papermill": {
   "default_parameters": {},
   "duration": 8.971047,
   "end_time": "2024-08-14T14:05:00.617953",
   "environment_variables": {},
   "exception": null,
   "input_path": "01_1_train_KNN.ipynb",
   "output_path": "runs/alzheimer_study/01_1_train_KNN5.ipynb",
   "parameters": {
    "file_format": "csv",
    "fn_rawfile_metadata": "https://raw.githubusercontent.com/RasmussenLab/njab/HEAD/docs/tutorial/data/alzheimer/meta.csv",
    "folder_experiment": "runs/alzheimer_study",
    "model": "KNN",
    "model_key": "KNN5",
    "neighbors": 5
   },
   "start_time": "2024-08-14T14:04:51.646906",
   "version": "2.6.0"
  }
 },
 "nbformat": 4,
 "nbformat_minor": 5
}