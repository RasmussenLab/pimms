{
 "cells": [
  {
   "cell_type": "markdown",
   "id": "bc2c7025",
   "metadata": {
    "papermill": {
     "duration": 0.010366,
     "end_time": "2024-06-10T07:15:18.726085",
     "exception": false,
     "start_time": "2024-06-10T07:15:18.715719",
     "status": "completed"
    },
    "tags": []
   },
   "source": [
    "# Variational Autoencoder"
   ]
  },
  {
   "cell_type": "code",
   "execution_count": 1,
   "id": "bdefddcb",
   "metadata": {
    "execution": {
     "iopub.execute_input": "2024-06-10T07:15:18.747273Z",
     "iopub.status.busy": "2024-06-10T07:15:18.746933Z",
     "iopub.status.idle": "2024-06-10T07:15:22.205173Z",
     "shell.execute_reply": "2024-06-10T07:15:22.204433Z"
    },
    "lines_to_next_cell": 2,
    "papermill": {
     "duration": 3.470457,
     "end_time": "2024-06-10T07:15:22.207269",
     "exception": false,
     "start_time": "2024-06-10T07:15:18.736812",
     "status": "completed"
    },
    "tags": [
     "hide-input"
    ]
   },
   "outputs": [
    {
     "name": "stdout",
     "output_type": "stream",
     "text": [
      "vaep - INFO     Median Imputation\n"
     ]
    }
   ],
   "source": [
    "import logging\n",
    "\n",
    "import pandas as pd\n",
    "from IPython.display import display\n",
    "\n",
    "import vaep\n",
    "import vaep.model\n",
    "import vaep.models as models\n",
    "import vaep.nb\n",
    "from vaep.io import datasplits\n",
    "\n",
    "logger = vaep.logging.setup_logger(logging.getLogger('vaep'))\n",
    "logger.info(\"Median Imputation\")\n",
    "\n",
    "figures = {}  # collection of ax or figures"
   ]
  },
  {
   "cell_type": "code",
   "execution_count": 2,
   "id": "82a53c81",
   "metadata": {
    "execution": {
     "iopub.execute_input": "2024-06-10T07:15:22.227406Z",
     "iopub.status.busy": "2024-06-10T07:15:22.226831Z",
     "iopub.status.idle": "2024-06-10T07:15:22.231088Z",
     "shell.execute_reply": "2024-06-10T07:15:22.230412Z"
    },
    "papermill": {
     "duration": 0.016006,
     "end_time": "2024-06-10T07:15:22.232998",
     "exception": false,
     "start_time": "2024-06-10T07:15:22.216992",
     "status": "completed"
    },
    "tags": [
     "hide-input"
    ]
   },
   "outputs": [],
   "source": [
    "# catch passed parameters\n",
    "args = None\n",
    "args = dict(globals()).keys()"
   ]
  },
  {
   "cell_type": "markdown",
   "id": "dbde4d85",
   "metadata": {
    "papermill": {
     "duration": 0.008138,
     "end_time": "2024-06-10T07:15:22.249550",
     "exception": false,
     "start_time": "2024-06-10T07:15:22.241412",
     "status": "completed"
    },
    "tags": []
   },
   "source": [
    "Papermill script parameters:"
   ]
  },
  {
   "cell_type": "code",
   "execution_count": 3,
   "id": "b151837c",
   "metadata": {
    "execution": {
     "iopub.execute_input": "2024-06-10T07:15:22.269349Z",
     "iopub.status.busy": "2024-06-10T07:15:22.269008Z",
     "iopub.status.idle": "2024-06-10T07:15:22.273977Z",
     "shell.execute_reply": "2024-06-10T07:15:22.273317Z"
    },
    "lines_to_next_cell": 2,
    "papermill": {
     "duration": 0.01805,
     "end_time": "2024-06-10T07:15:22.276841",
     "exception": false,
     "start_time": "2024-06-10T07:15:22.258791",
     "status": "completed"
    },
    "tags": [
     "parameters"
    ]
   },
   "outputs": [],
   "source": [
    "# files and folders\n",
    "folder_experiment: str = 'runs/example'  # Datasplit folder with data for experiment\n",
    "file_format: str = 'csv'  # file format of create splits, default pickle (pkl)\n",
    "fn_rawfile_metadata: str = 'data/dev_datasets/HeLa_6070/files_selected_metadata_N50.csv'  # Metadata for samples\n",
    "# model\n",
    "sample_idx_position: int = 0  # position of index which is sample ID\n",
    "model_key: str = 'Median'  # model key (lower cased version will be used for file names)\n",
    "model: str = 'Median'  # model name\n",
    "save_pred_real_na: bool = True  # Save all predictions for real na\n",
    "# metadata -> defaults for metadata extracted from machine data\n",
    "meta_date_col: str = None  # date column in meta data\n",
    "meta_cat_col: str = None  # category column in meta data"
   ]
  },
  {
   "cell_type": "code",
   "execution_count": 4,
   "id": "c5b9cb3f",
   "metadata": {
    "execution": {
     "iopub.execute_input": "2024-06-10T07:15:22.296708Z",
     "iopub.status.busy": "2024-06-10T07:15:22.296385Z",
     "iopub.status.idle": "2024-06-10T07:15:22.300258Z",
     "shell.execute_reply": "2024-06-10T07:15:22.299629Z"
    },
    "papermill": {
     "duration": 0.017027,
     "end_time": "2024-06-10T07:15:22.302939",
     "exception": false,
     "start_time": "2024-06-10T07:15:22.285912",
     "status": "completed"
    },
    "tags": [
     "injected-parameters"
    ]
   },
   "outputs": [],
   "source": [
    "# Parameters\n",
    "model = \"Median\"\n",
    "fn_rawfile_metadata = \"https://raw.githubusercontent.com/RasmussenLab/njab/HEAD/docs/tutorial/data/alzheimer/meta.csv\"\n",
    "folder_experiment = \"runs/alzheimer_study\"\n",
    "model_key = \"Median\"\n"
   ]
  },
  {
   "cell_type": "markdown",
   "id": "1bac9235",
   "metadata": {
    "lines_to_next_cell": 2,
    "papermill": {
     "duration": 0.00915,
     "end_time": "2024-06-10T07:15:22.321330",
     "exception": false,
     "start_time": "2024-06-10T07:15:22.312180",
     "status": "completed"
    },
    "tags": []
   },
   "source": [
    "Some argument transformations"
   ]
  },
  {
   "cell_type": "code",
   "execution_count": 5,
   "id": "17c49967",
   "metadata": {
    "execution": {
     "iopub.execute_input": "2024-06-10T07:15:22.340485Z",
     "iopub.status.busy": "2024-06-10T07:15:22.340198Z",
     "iopub.status.idle": "2024-06-10T07:15:22.347990Z",
     "shell.execute_reply": "2024-06-10T07:15:22.347431Z"
    },
    "papermill": {
     "duration": 0.020749,
     "end_time": "2024-06-10T07:15:22.351648",
     "exception": false,
     "start_time": "2024-06-10T07:15:22.330899",
     "status": "completed"
    },
    "tags": [
     "hide-input"
    ]
   },
   "outputs": [
    {
     "data": {
      "text/plain": [
       "{'folder_experiment': 'runs/alzheimer_study',\n",
       " 'file_format': 'csv',\n",
       " 'fn_rawfile_metadata': 'https://raw.githubusercontent.com/RasmussenLab/njab/HEAD/docs/tutorial/data/alzheimer/meta.csv',\n",
       " 'sample_idx_position': 0,\n",
       " 'model_key': 'Median',\n",
       " 'model': 'Median',\n",
       " 'save_pred_real_na': True,\n",
       " 'meta_date_col': None,\n",
       " 'meta_cat_col': None}"
      ]
     },
     "execution_count": 5,
     "metadata": {},
     "output_type": "execute_result"
    }
   ],
   "source": [
    "args = vaep.nb.get_params(args, globals=globals())\n",
    "args"
   ]
  },
  {
   "cell_type": "code",
   "execution_count": 6,
   "id": "071eb3aa",
   "metadata": {
    "execution": {
     "iopub.execute_input": "2024-06-10T07:15:22.371203Z",
     "iopub.status.busy": "2024-06-10T07:15:22.370889Z",
     "iopub.status.idle": "2024-06-10T07:15:22.377829Z",
     "shell.execute_reply": "2024-06-10T07:15:22.377123Z"
    },
    "lines_to_next_cell": 2,
    "papermill": {
     "duration": 0.01901,
     "end_time": "2024-06-10T07:15:22.379381",
     "exception": false,
     "start_time": "2024-06-10T07:15:22.360371",
     "status": "completed"
    },
    "tags": [
     "hide-input"
    ]
   },
   "outputs": [
    {
     "data": {
      "text/plain": [
       "{'data': Path('runs/alzheimer_study/data'),\n",
       " 'file_format': 'csv',\n",
       " 'fn_rawfile_metadata': 'https://raw.githubusercontent.com/RasmussenLab/njab/HEAD/docs/tutorial/data/alzheimer/meta.csv',\n",
       " 'folder_experiment': Path('runs/alzheimer_study'),\n",
       " 'meta_cat_col': None,\n",
       " 'meta_date_col': None,\n",
       " 'model': 'Median',\n",
       " 'model_key': 'Median',\n",
       " 'out_figures': Path('runs/alzheimer_study/figures'),\n",
       " 'out_folder': Path('runs/alzheimer_study'),\n",
       " 'out_metrics': Path('runs/alzheimer_study'),\n",
       " 'out_models': Path('runs/alzheimer_study'),\n",
       " 'out_preds': Path('runs/alzheimer_study/preds'),\n",
       " 'sample_idx_position': 0,\n",
       " 'save_pred_real_na': True}"
      ]
     },
     "execution_count": 6,
     "metadata": {},
     "output_type": "execute_result"
    }
   ],
   "source": [
    "args = vaep.nb.args_from_dict(args)\n",
    "args"
   ]
  },
  {
   "cell_type": "markdown",
   "id": "c50a9adc",
   "metadata": {
    "papermill": {
     "duration": 0.008514,
     "end_time": "2024-06-10T07:15:22.396210",
     "exception": false,
     "start_time": "2024-06-10T07:15:22.387696",
     "status": "completed"
    },
    "tags": []
   },
   "source": [
    "Some naming conventions"
   ]
  },
  {
   "cell_type": "code",
   "execution_count": 7,
   "id": "79bd3e3d",
   "metadata": {
    "execution": {
     "iopub.execute_input": "2024-06-10T07:15:22.414686Z",
     "iopub.status.busy": "2024-06-10T07:15:22.414375Z",
     "iopub.status.idle": "2024-06-10T07:15:22.417704Z",
     "shell.execute_reply": "2024-06-10T07:15:22.417109Z"
    },
    "papermill": {
     "duration": 0.015957,
     "end_time": "2024-06-10T07:15:22.420280",
     "exception": false,
     "start_time": "2024-06-10T07:15:22.404323",
     "status": "completed"
    },
    "tags": [
     "hide-input"
    ]
   },
   "outputs": [],
   "source": [
    "TEMPLATE_MODEL_PARAMS = 'model_params_{}.json'"
   ]
  },
  {
   "cell_type": "markdown",
   "id": "c7e52cdc",
   "metadata": {
    "papermill": {
     "duration": 0.008193,
     "end_time": "2024-06-10T07:15:22.436902",
     "exception": false,
     "start_time": "2024-06-10T07:15:22.428709",
     "status": "completed"
    },
    "tags": []
   },
   "source": [
    "## Load data in long format"
   ]
  },
  {
   "cell_type": "code",
   "execution_count": 8,
   "id": "fb8a27fa",
   "metadata": {
    "execution": {
     "iopub.execute_input": "2024-06-10T07:15:22.454778Z",
     "iopub.status.busy": "2024-06-10T07:15:22.454484Z",
     "iopub.status.idle": "2024-06-10T07:15:22.666387Z",
     "shell.execute_reply": "2024-06-10T07:15:22.665662Z"
    },
    "papermill": {
     "duration": 0.223115,
     "end_time": "2024-06-10T07:15:22.668225",
     "exception": false,
     "start_time": "2024-06-10T07:15:22.445110",
     "status": "completed"
    },
    "tags": [
     "hide-input"
    ]
   },
   "outputs": [
    {
     "name": "stdout",
     "output_type": "stream",
     "text": [
      "vaep.io.datasplits - INFO     Loaded 'train_X' from file: runs/alzheimer_study/data/train_X.csv\n"
     ]
    },
    {
     "name": "stdout",
     "output_type": "stream",
     "text": [
      "vaep.io.datasplits - INFO     Loaded 'val_y' from file: runs/alzheimer_study/data/val_y.csv\n"
     ]
    },
    {
     "name": "stdout",
     "output_type": "stream",
     "text": [
      "vaep.io.datasplits - INFO     Loaded 'test_y' from file: runs/alzheimer_study/data/test_y.csv\n"
     ]
    }
   ],
   "source": [
    "data = datasplits.DataSplits.from_folder(args.data, file_format=args.file_format)"
   ]
  },
  {
   "cell_type": "markdown",
   "id": "6d198001",
   "metadata": {
    "papermill": {
     "duration": 0.009228,
     "end_time": "2024-06-10T07:15:22.687416",
     "exception": false,
     "start_time": "2024-06-10T07:15:22.678188",
     "status": "completed"
    },
    "tags": []
   },
   "source": [
    "data is loaded in long format"
   ]
  },
  {
   "cell_type": "code",
   "execution_count": 9,
   "id": "0df21944",
   "metadata": {
    "execution": {
     "iopub.execute_input": "2024-06-10T07:15:22.703670Z",
     "iopub.status.busy": "2024-06-10T07:15:22.703091Z",
     "iopub.status.idle": "2024-06-10T07:15:22.717596Z",
     "shell.execute_reply": "2024-06-10T07:15:22.716864Z"
    },
    "papermill": {
     "duration": 0.026105,
     "end_time": "2024-06-10T07:15:22.719541",
     "exception": false,
     "start_time": "2024-06-10T07:15:22.693436",
     "status": "completed"
    },
    "tags": [
     "hide-input"
    ]
   },
   "outputs": [
    {
     "data": {
      "text/plain": [
       "Sample ID   protein groups\n",
       "Sample_110  P01742           19.401\n",
       "Sample_032  P01624           24.278\n",
       "Sample_062  F5H3H7;Q9Y644    14.986\n",
       "Sample_013  Q14118           21.199\n",
       "Sample_188  O94760           15.823\n",
       "Name: intensity, dtype: float64"
      ]
     },
     "execution_count": 9,
     "metadata": {},
     "output_type": "execute_result"
    }
   ],
   "source": [
    "data.train_X.sample(5)"
   ]
  },
  {
   "cell_type": "markdown",
   "id": "fa7dcd09",
   "metadata": {
    "papermill": {
     "duration": 0.00979,
     "end_time": "2024-06-10T07:15:22.739505",
     "exception": false,
     "start_time": "2024-06-10T07:15:22.729715",
     "status": "completed"
    },
    "tags": []
   },
   "source": [
    "Infer index names from long format"
   ]
  },
  {
   "cell_type": "code",
   "execution_count": 10,
   "id": "86b35447",
   "metadata": {
    "execution": {
     "iopub.execute_input": "2024-06-10T07:15:22.760729Z",
     "iopub.status.busy": "2024-06-10T07:15:22.760391Z",
     "iopub.status.idle": "2024-06-10T07:15:22.766530Z",
     "shell.execute_reply": "2024-06-10T07:15:22.765548Z"
    },
    "papermill": {
     "duration": 0.020792,
     "end_time": "2024-06-10T07:15:22.770159",
     "exception": false,
     "start_time": "2024-06-10T07:15:22.749367",
     "status": "completed"
    },
    "tags": [
     "hide-input"
    ]
   },
   "outputs": [
    {
     "name": "stdout",
     "output_type": "stream",
     "text": [
      "vaep - INFO     sample_id = 'Sample ID', single feature: index_column = 'protein groups'\n"
     ]
    }
   ],
   "source": [
    "index_columns = list(data.train_X.index.names)\n",
    "sample_id = index_columns.pop(args.sample_idx_position)\n",
    "if len(index_columns) == 1:\n",
    "    index_column = index_columns.pop()\n",
    "    index_columns = None\n",
    "    logger.info(f\"{sample_id = }, single feature: {index_column = }\")\n",
    "else:\n",
    "    logger.info(f\"{sample_id = }, multiple features: {index_columns = }\")\n",
    "\n",
    "if not index_columns:\n",
    "    index_columns = [sample_id, index_column]\n",
    "else:\n",
    "    raise NotImplementedError(\"More than one feature: Needs to be implemented. see above logging output.\")"
   ]
  },
  {
   "cell_type": "markdown",
   "id": "a38f3c5b",
   "metadata": {
    "papermill": {
     "duration": 0.008571,
     "end_time": "2024-06-10T07:15:22.787750",
     "exception": false,
     "start_time": "2024-06-10T07:15:22.779179",
     "status": "completed"
    },
    "tags": []
   },
   "source": [
    "load meta data for splits"
   ]
  },
  {
   "cell_type": "code",
   "execution_count": 11,
   "id": "efe75402",
   "metadata": {
    "execution": {
     "iopub.execute_input": "2024-06-10T07:15:22.806473Z",
     "iopub.status.busy": "2024-06-10T07:15:22.806085Z",
     "iopub.status.idle": "2024-06-10T07:15:22.856024Z",
     "shell.execute_reply": "2024-06-10T07:15:22.855289Z"
    },
    "papermill": {
     "duration": 0.061718,
     "end_time": "2024-06-10T07:15:22.857854",
     "exception": false,
     "start_time": "2024-06-10T07:15:22.796136",
     "status": "completed"
    },
    "tags": [
     "hide-input"
    ]
   },
   "outputs": [
    {
     "data": {
      "text/html": [
       "<div>\n",
       "<style scoped>\n",
       "    .dataframe tbody tr th:only-of-type {\n",
       "        vertical-align: middle;\n",
       "    }\n",
       "\n",
       "    .dataframe tbody tr th {\n",
       "        vertical-align: top;\n",
       "    }\n",
       "\n",
       "    .dataframe thead th {\n",
       "        text-align: right;\n",
       "    }\n",
       "</style>\n",
       "<table border=\"1\" class=\"dataframe\">\n",
       "  <thead>\n",
       "    <tr style=\"text-align: right;\">\n",
       "      <th></th>\n",
       "      <th>_collection site</th>\n",
       "      <th>_age at CSF collection</th>\n",
       "      <th>_gender</th>\n",
       "      <th>_t-tau [ng/L]</th>\n",
       "      <th>_p-tau [ng/L]</th>\n",
       "      <th>_Abeta-42 [ng/L]</th>\n",
       "      <th>_Abeta-40 [ng/L]</th>\n",
       "      <th>_Abeta-42/Abeta-40 ratio</th>\n",
       "      <th>_primary biochemical AD classification</th>\n",
       "      <th>_clinical AD diagnosis</th>\n",
       "      <th>_MMSE score</th>\n",
       "    </tr>\n",
       "    <tr>\n",
       "      <th>Sample ID</th>\n",
       "      <th></th>\n",
       "      <th></th>\n",
       "      <th></th>\n",
       "      <th></th>\n",
       "      <th></th>\n",
       "      <th></th>\n",
       "      <th></th>\n",
       "      <th></th>\n",
       "      <th></th>\n",
       "      <th></th>\n",
       "      <th></th>\n",
       "    </tr>\n",
       "  </thead>\n",
       "  <tbody>\n",
       "    <tr>\n",
       "      <th>Sample_000</th>\n",
       "      <td>Sweden</td>\n",
       "      <td>71.000</td>\n",
       "      <td>f</td>\n",
       "      <td>703.000</td>\n",
       "      <td>85.000</td>\n",
       "      <td>562.000</td>\n",
       "      <td>NaN</td>\n",
       "      <td>NaN</td>\n",
       "      <td>biochemical control</td>\n",
       "      <td>NaN</td>\n",
       "      <td>NaN</td>\n",
       "    </tr>\n",
       "    <tr>\n",
       "      <th>Sample_001</th>\n",
       "      <td>Sweden</td>\n",
       "      <td>77.000</td>\n",
       "      <td>m</td>\n",
       "      <td>518.000</td>\n",
       "      <td>91.000</td>\n",
       "      <td>334.000</td>\n",
       "      <td>NaN</td>\n",
       "      <td>NaN</td>\n",
       "      <td>biochemical AD</td>\n",
       "      <td>NaN</td>\n",
       "      <td>NaN</td>\n",
       "    </tr>\n",
       "    <tr>\n",
       "      <th>Sample_002</th>\n",
       "      <td>Sweden</td>\n",
       "      <td>75.000</td>\n",
       "      <td>m</td>\n",
       "      <td>974.000</td>\n",
       "      <td>87.000</td>\n",
       "      <td>515.000</td>\n",
       "      <td>NaN</td>\n",
       "      <td>NaN</td>\n",
       "      <td>biochemical AD</td>\n",
       "      <td>NaN</td>\n",
       "      <td>NaN</td>\n",
       "    </tr>\n",
       "    <tr>\n",
       "      <th>Sample_003</th>\n",
       "      <td>Sweden</td>\n",
       "      <td>72.000</td>\n",
       "      <td>f</td>\n",
       "      <td>950.000</td>\n",
       "      <td>109.000</td>\n",
       "      <td>394.000</td>\n",
       "      <td>NaN</td>\n",
       "      <td>NaN</td>\n",
       "      <td>biochemical AD</td>\n",
       "      <td>NaN</td>\n",
       "      <td>NaN</td>\n",
       "    </tr>\n",
       "    <tr>\n",
       "      <th>Sample_004</th>\n",
       "      <td>Sweden</td>\n",
       "      <td>63.000</td>\n",
       "      <td>f</td>\n",
       "      <td>873.000</td>\n",
       "      <td>88.000</td>\n",
       "      <td>234.000</td>\n",
       "      <td>NaN</td>\n",
       "      <td>NaN</td>\n",
       "      <td>biochemical AD</td>\n",
       "      <td>NaN</td>\n",
       "      <td>NaN</td>\n",
       "    </tr>\n",
       "    <tr>\n",
       "      <th>...</th>\n",
       "      <td>...</td>\n",
       "      <td>...</td>\n",
       "      <td>...</td>\n",
       "      <td>...</td>\n",
       "      <td>...</td>\n",
       "      <td>...</td>\n",
       "      <td>...</td>\n",
       "      <td>...</td>\n",
       "      <td>...</td>\n",
       "      <td>...</td>\n",
       "      <td>...</td>\n",
       "    </tr>\n",
       "    <tr>\n",
       "      <th>Sample_205</th>\n",
       "      <td>Berlin</td>\n",
       "      <td>69.000</td>\n",
       "      <td>f</td>\n",
       "      <td>1,945.000</td>\n",
       "      <td>NaN</td>\n",
       "      <td>699.000</td>\n",
       "      <td>12,140.000</td>\n",
       "      <td>0.058</td>\n",
       "      <td>biochemical AD</td>\n",
       "      <td>AD</td>\n",
       "      <td>17.000</td>\n",
       "    </tr>\n",
       "    <tr>\n",
       "      <th>Sample_206</th>\n",
       "      <td>Berlin</td>\n",
       "      <td>73.000</td>\n",
       "      <td>m</td>\n",
       "      <td>299.000</td>\n",
       "      <td>NaN</td>\n",
       "      <td>1,420.000</td>\n",
       "      <td>16,571.000</td>\n",
       "      <td>0.086</td>\n",
       "      <td>biochemical control</td>\n",
       "      <td>non-AD</td>\n",
       "      <td>28.000</td>\n",
       "    </tr>\n",
       "    <tr>\n",
       "      <th>Sample_207</th>\n",
       "      <td>Berlin</td>\n",
       "      <td>71.000</td>\n",
       "      <td>f</td>\n",
       "      <td>262.000</td>\n",
       "      <td>NaN</td>\n",
       "      <td>639.000</td>\n",
       "      <td>9,663.000</td>\n",
       "      <td>0.066</td>\n",
       "      <td>biochemical control</td>\n",
       "      <td>non-AD</td>\n",
       "      <td>28.000</td>\n",
       "    </tr>\n",
       "    <tr>\n",
       "      <th>Sample_208</th>\n",
       "      <td>Berlin</td>\n",
       "      <td>83.000</td>\n",
       "      <td>m</td>\n",
       "      <td>289.000</td>\n",
       "      <td>NaN</td>\n",
       "      <td>1,436.000</td>\n",
       "      <td>11,285.000</td>\n",
       "      <td>0.127</td>\n",
       "      <td>biochemical control</td>\n",
       "      <td>non-AD</td>\n",
       "      <td>24.000</td>\n",
       "    </tr>\n",
       "    <tr>\n",
       "      <th>Sample_209</th>\n",
       "      <td>Berlin</td>\n",
       "      <td>63.000</td>\n",
       "      <td>f</td>\n",
       "      <td>591.000</td>\n",
       "      <td>NaN</td>\n",
       "      <td>1,299.000</td>\n",
       "      <td>11,232.000</td>\n",
       "      <td>0.116</td>\n",
       "      <td>biochemical control</td>\n",
       "      <td>non-AD</td>\n",
       "      <td>29.000</td>\n",
       "    </tr>\n",
       "  </tbody>\n",
       "</table>\n",
       "<p>210 rows × 11 columns</p>\n",
       "</div>"
      ],
      "text/plain": [
       "           _collection site  _age at CSF collection _gender  _t-tau [ng/L]  \\\n",
       "Sample ID                                                                    \n",
       "Sample_000           Sweden                  71.000       f        703.000   \n",
       "Sample_001           Sweden                  77.000       m        518.000   \n",
       "Sample_002           Sweden                  75.000       m        974.000   \n",
       "Sample_003           Sweden                  72.000       f        950.000   \n",
       "Sample_004           Sweden                  63.000       f        873.000   \n",
       "...                     ...                     ...     ...            ...   \n",
       "Sample_205           Berlin                  69.000       f      1,945.000   \n",
       "Sample_206           Berlin                  73.000       m        299.000   \n",
       "Sample_207           Berlin                  71.000       f        262.000   \n",
       "Sample_208           Berlin                  83.000       m        289.000   \n",
       "Sample_209           Berlin                  63.000       f        591.000   \n",
       "\n",
       "            _p-tau [ng/L]  _Abeta-42 [ng/L]  _Abeta-40 [ng/L]  \\\n",
       "Sample ID                                                       \n",
       "Sample_000         85.000           562.000               NaN   \n",
       "Sample_001         91.000           334.000               NaN   \n",
       "Sample_002         87.000           515.000               NaN   \n",
       "Sample_003        109.000           394.000               NaN   \n",
       "Sample_004         88.000           234.000               NaN   \n",
       "...                   ...               ...               ...   \n",
       "Sample_205            NaN           699.000        12,140.000   \n",
       "Sample_206            NaN         1,420.000        16,571.000   \n",
       "Sample_207            NaN           639.000         9,663.000   \n",
       "Sample_208            NaN         1,436.000        11,285.000   \n",
       "Sample_209            NaN         1,299.000        11,232.000   \n",
       "\n",
       "            _Abeta-42/Abeta-40 ratio _primary biochemical AD classification  \\\n",
       "Sample ID                                                                     \n",
       "Sample_000                       NaN                    biochemical control   \n",
       "Sample_001                       NaN                         biochemical AD   \n",
       "Sample_002                       NaN                         biochemical AD   \n",
       "Sample_003                       NaN                         biochemical AD   \n",
       "Sample_004                       NaN                         biochemical AD   \n",
       "...                              ...                                    ...   \n",
       "Sample_205                     0.058                         biochemical AD   \n",
       "Sample_206                     0.086                    biochemical control   \n",
       "Sample_207                     0.066                    biochemical control   \n",
       "Sample_208                     0.127                    biochemical control   \n",
       "Sample_209                     0.116                    biochemical control   \n",
       "\n",
       "           _clinical AD diagnosis  _MMSE score  \n",
       "Sample ID                                       \n",
       "Sample_000                    NaN          NaN  \n",
       "Sample_001                    NaN          NaN  \n",
       "Sample_002                    NaN          NaN  \n",
       "Sample_003                    NaN          NaN  \n",
       "Sample_004                    NaN          NaN  \n",
       "...                           ...          ...  \n",
       "Sample_205                     AD       17.000  \n",
       "Sample_206                 non-AD       28.000  \n",
       "Sample_207                 non-AD       28.000  \n",
       "Sample_208                 non-AD       24.000  \n",
       "Sample_209                 non-AD       29.000  \n",
       "\n",
       "[210 rows x 11 columns]"
      ]
     },
     "metadata": {},
     "output_type": "display_data"
    }
   ],
   "source": [
    "if args.fn_rawfile_metadata:\n",
    "    df_meta = pd.read_csv(args.fn_rawfile_metadata, index_col=0)\n",
    "    display(df_meta.loc[data.train_X.index.levels[0]])\n",
    "else:\n",
    "    df_meta = None"
   ]
  },
  {
   "cell_type": "markdown",
   "id": "a4a93cdc",
   "metadata": {
    "papermill": {
     "duration": 0.011077,
     "end_time": "2024-06-10T07:15:22.880869",
     "exception": false,
     "start_time": "2024-06-10T07:15:22.869792",
     "status": "completed"
    },
    "tags": []
   },
   "source": [
    "## Initialize Comparison\n",
    "\n",
    "- replicates idea for truely missing values: Define truth as by using n=3 replicates to impute\n",
    "  each sample\n",
    "- real test data:\n",
    "    - Not used for predictions or early stopping.\n",
    "    - [x] add some additional NAs based on distribution of data"
   ]
  },
  {
   "cell_type": "code",
   "execution_count": 12,
   "id": "75aa1ac5",
   "metadata": {
    "execution": {
     "iopub.execute_input": "2024-06-10T07:15:22.902375Z",
     "iopub.status.busy": "2024-06-10T07:15:22.901514Z",
     "iopub.status.idle": "2024-06-10T07:15:22.909541Z",
     "shell.execute_reply": "2024-06-10T07:15:22.908861Z"
    },
    "papermill": {
     "duration": 0.021503,
     "end_time": "2024-06-10T07:15:22.911315",
     "exception": false,
     "start_time": "2024-06-10T07:15:22.889812",
     "status": "completed"
    },
    "tags": [
     "hide-input"
    ]
   },
   "outputs": [
    {
     "data": {
      "text/plain": [
       "protein groups\n",
       "A0A024QZX5;A0A087X1N8;P35237                                                     197\n",
       "A0A024R0T9;K7ER74;P02655                                                         208\n",
       "A0A024R3W6;A0A024R412;O60462;O60462-2;O60462-3;O60462-4;O60462-5;Q7LBX6;X5D2Q8   185\n",
       "A0A024R644;A0A0A0MRU5;A0A1B0GWI2;O75503                                          208\n",
       "A0A075B6H7                                                                        97\n",
       "Name: freq, dtype: int64"
      ]
     },
     "execution_count": 12,
     "metadata": {},
     "output_type": "execute_result"
    }
   ],
   "source": [
    "freq_feat = vaep.io.datasplits.load_freq(args.data)\n",
    "freq_feat.head()  # training data"
   ]
  },
  {
   "cell_type": "markdown",
   "id": "9134efcf",
   "metadata": {
    "papermill": {
     "duration": 0.010385,
     "end_time": "2024-06-10T07:15:22.933192",
     "exception": false,
     "start_time": "2024-06-10T07:15:22.922807",
     "status": "completed"
    },
    "tags": []
   },
   "source": [
    "### Produce some addional fake samples"
   ]
  },
  {
   "cell_type": "markdown",
   "id": "23ac9141",
   "metadata": {
    "papermill": {
     "duration": 0.010526,
     "end_time": "2024-06-10T07:15:22.954377",
     "exception": false,
     "start_time": "2024-06-10T07:15:22.943851",
     "status": "completed"
    },
    "tags": []
   },
   "source": [
    "The validation fake NA is used to by all models to evaluate training performance."
   ]
  },
  {
   "cell_type": "code",
   "execution_count": 13,
   "id": "16f53ce5",
   "metadata": {
    "execution": {
     "iopub.execute_input": "2024-06-10T07:15:23.016370Z",
     "iopub.status.busy": "2024-06-10T07:15:23.015813Z",
     "iopub.status.idle": "2024-06-10T07:15:23.031184Z",
     "shell.execute_reply": "2024-06-10T07:15:23.030414Z"
    },
    "papermill": {
     "duration": 0.028383,
     "end_time": "2024-06-10T07:15:23.033145",
     "exception": false,
     "start_time": "2024-06-10T07:15:23.004762",
     "status": "completed"
    },
    "tags": [
     "hide-input"
    ]
   },
   "outputs": [
    {
     "data": {
      "text/html": [
       "<div>\n",
       "<style scoped>\n",
       "    .dataframe tbody tr th:only-of-type {\n",
       "        vertical-align: middle;\n",
       "    }\n",
       "\n",
       "    .dataframe tbody tr th {\n",
       "        vertical-align: top;\n",
       "    }\n",
       "\n",
       "    .dataframe thead th {\n",
       "        text-align: right;\n",
       "    }\n",
       "</style>\n",
       "<table border=\"1\" class=\"dataframe\">\n",
       "  <thead>\n",
       "    <tr style=\"text-align: right;\">\n",
       "      <th></th>\n",
       "      <th></th>\n",
       "      <th>observed</th>\n",
       "    </tr>\n",
       "    <tr>\n",
       "      <th>Sample ID</th>\n",
       "      <th>protein groups</th>\n",
       "      <th></th>\n",
       "    </tr>\n",
       "  </thead>\n",
       "  <tbody>\n",
       "    <tr>\n",
       "      <th>Sample_158</th>\n",
       "      <th>Q9UN70;Q9UN70-2</th>\n",
       "      <td>14.630</td>\n",
       "    </tr>\n",
       "    <tr>\n",
       "      <th>Sample_050</th>\n",
       "      <th>Q9Y287</th>\n",
       "      <td>15.755</td>\n",
       "    </tr>\n",
       "    <tr>\n",
       "      <th>Sample_107</th>\n",
       "      <th>Q8N475;Q8N475-2</th>\n",
       "      <td>15.029</td>\n",
       "    </tr>\n",
       "    <tr>\n",
       "      <th>Sample_199</th>\n",
       "      <th>P06307</th>\n",
       "      <td>19.376</td>\n",
       "    </tr>\n",
       "    <tr>\n",
       "      <th>Sample_067</th>\n",
       "      <th>Q5VUB5</th>\n",
       "      <td>15.309</td>\n",
       "    </tr>\n",
       "    <tr>\n",
       "      <th>...</th>\n",
       "      <th>...</th>\n",
       "      <td>...</td>\n",
       "    </tr>\n",
       "    <tr>\n",
       "      <th>Sample_111</th>\n",
       "      <th>F6SYF8;Q9UBP4</th>\n",
       "      <td>22.822</td>\n",
       "    </tr>\n",
       "    <tr>\n",
       "      <th>Sample_002</th>\n",
       "      <th>A0A0A0MT36</th>\n",
       "      <td>18.165</td>\n",
       "    </tr>\n",
       "    <tr>\n",
       "      <th>Sample_049</th>\n",
       "      <th>Q8WY21;Q8WY21-2;Q8WY21-3;Q8WY21-4</th>\n",
       "      <td>15.525</td>\n",
       "    </tr>\n",
       "    <tr>\n",
       "      <th>Sample_182</th>\n",
       "      <th>Q8NFT8</th>\n",
       "      <td>14.379</td>\n",
       "    </tr>\n",
       "    <tr>\n",
       "      <th>Sample_123</th>\n",
       "      <th>Q16853;Q16853-2</th>\n",
       "      <td>14.504</td>\n",
       "    </tr>\n",
       "  </tbody>\n",
       "</table>\n",
       "<p>12600 rows × 1 columns</p>\n",
       "</div>"
      ],
      "text/plain": [
       "                                              observed\n",
       "Sample ID  protein groups                             \n",
       "Sample_158 Q9UN70;Q9UN70-2                      14.630\n",
       "Sample_050 Q9Y287                               15.755\n",
       "Sample_107 Q8N475;Q8N475-2                      15.029\n",
       "Sample_199 P06307                               19.376\n",
       "Sample_067 Q5VUB5                               15.309\n",
       "...                                                ...\n",
       "Sample_111 F6SYF8;Q9UBP4                        22.822\n",
       "Sample_002 A0A0A0MT36                           18.165\n",
       "Sample_049 Q8WY21;Q8WY21-2;Q8WY21-3;Q8WY21-4    15.525\n",
       "Sample_182 Q8NFT8                               14.379\n",
       "Sample_123 Q16853;Q16853-2                      14.504\n",
       "\n",
       "[12600 rows x 1 columns]"
      ]
     },
     "execution_count": 13,
     "metadata": {},
     "output_type": "execute_result"
    }
   ],
   "source": [
    "val_pred_fake_na = data.val_y.to_frame(name='observed')\n",
    "val_pred_fake_na"
   ]
  },
  {
   "cell_type": "code",
   "execution_count": 14,
   "id": "68ea1649",
   "metadata": {
    "execution": {
     "iopub.execute_input": "2024-06-10T07:15:23.058623Z",
     "iopub.status.busy": "2024-06-10T07:15:23.058288Z",
     "iopub.status.idle": "2024-06-10T07:15:23.070992Z",
     "shell.execute_reply": "2024-06-10T07:15:23.070263Z"
    },
    "lines_to_next_cell": 2,
    "papermill": {
     "duration": 0.027584,
     "end_time": "2024-06-10T07:15:23.072882",
     "exception": false,
     "start_time": "2024-06-10T07:15:23.045298",
     "status": "completed"
    },
    "tags": [
     "hide-input"
    ]
   },
   "outputs": [
    {
     "data": {
      "text/html": [
       "<div>\n",
       "<style scoped>\n",
       "    .dataframe tbody tr th:only-of-type {\n",
       "        vertical-align: middle;\n",
       "    }\n",
       "\n",
       "    .dataframe tbody tr th {\n",
       "        vertical-align: top;\n",
       "    }\n",
       "\n",
       "    .dataframe thead th {\n",
       "        text-align: right;\n",
       "    }\n",
       "</style>\n",
       "<table border=\"1\" class=\"dataframe\">\n",
       "  <thead>\n",
       "    <tr style=\"text-align: right;\">\n",
       "      <th></th>\n",
       "      <th>observed</th>\n",
       "    </tr>\n",
       "  </thead>\n",
       "  <tbody>\n",
       "    <tr>\n",
       "      <th>count</th>\n",
       "      <td>12,600.000</td>\n",
       "    </tr>\n",
       "    <tr>\n",
       "      <th>mean</th>\n",
       "      <td>16.339</td>\n",
       "    </tr>\n",
       "    <tr>\n",
       "      <th>std</th>\n",
       "      <td>2.741</td>\n",
       "    </tr>\n",
       "    <tr>\n",
       "      <th>min</th>\n",
       "      <td>7.209</td>\n",
       "    </tr>\n",
       "    <tr>\n",
       "      <th>25%</th>\n",
       "      <td>14.412</td>\n",
       "    </tr>\n",
       "    <tr>\n",
       "      <th>50%</th>\n",
       "      <td>15.935</td>\n",
       "    </tr>\n",
       "    <tr>\n",
       "      <th>75%</th>\n",
       "      <td>17.910</td>\n",
       "    </tr>\n",
       "    <tr>\n",
       "      <th>max</th>\n",
       "      <td>30.140</td>\n",
       "    </tr>\n",
       "  </tbody>\n",
       "</table>\n",
       "</div>"
      ],
      "text/plain": [
       "        observed\n",
       "count 12,600.000\n",
       "mean      16.339\n",
       "std        2.741\n",
       "min        7.209\n",
       "25%       14.412\n",
       "50%       15.935\n",
       "75%       17.910\n",
       "max       30.140"
      ]
     },
     "execution_count": 14,
     "metadata": {},
     "output_type": "execute_result"
    }
   ],
   "source": [
    "test_pred_fake_na = data.test_y.to_frame(name='observed')\n",
    "test_pred_fake_na.describe()"
   ]
  },
  {
   "cell_type": "markdown",
   "id": "774136d4",
   "metadata": {
    "papermill": {
     "duration": 0.011265,
     "end_time": "2024-06-10T07:15:23.096149",
     "exception": false,
     "start_time": "2024-06-10T07:15:23.084884",
     "status": "completed"
    },
    "tags": []
   },
   "source": [
    "## Data in wide format\n",
    "\n",
    "- Autoencoder need data in wide format"
   ]
  },
  {
   "cell_type": "code",
   "execution_count": 15,
   "id": "c679a1f9",
   "metadata": {
    "execution": {
     "iopub.execute_input": "2024-06-10T07:15:23.121875Z",
     "iopub.status.busy": "2024-06-10T07:15:23.121540Z",
     "iopub.status.idle": "2024-06-10T07:15:23.181087Z",
     "shell.execute_reply": "2024-06-10T07:15:23.180212Z"
    },
    "lines_to_next_cell": 2,
    "papermill": {
     "duration": 0.07645,
     "end_time": "2024-06-10T07:15:23.183297",
     "exception": false,
     "start_time": "2024-06-10T07:15:23.106847",
     "status": "completed"
    },
    "tags": [
     "hide-input"
    ]
   },
   "outputs": [
    {
     "data": {
      "text/html": [
       "<div>\n",
       "<style scoped>\n",
       "    .dataframe tbody tr th:only-of-type {\n",
       "        vertical-align: middle;\n",
       "    }\n",
       "\n",
       "    .dataframe tbody tr th {\n",
       "        vertical-align: top;\n",
       "    }\n",
       "\n",
       "    .dataframe thead th {\n",
       "        text-align: right;\n",
       "    }\n",
       "</style>\n",
       "<table border=\"1\" class=\"dataframe\">\n",
       "  <thead>\n",
       "    <tr style=\"text-align: right;\">\n",
       "      <th>protein groups</th>\n",
       "      <th>A0A024QZX5;A0A087X1N8;P35237</th>\n",
       "      <th>A0A024R0T9;K7ER74;P02655</th>\n",
       "      <th>A0A024R3W6;A0A024R412;O60462;O60462-2;O60462-3;O60462-4;O60462-5;Q7LBX6;X5D2Q8</th>\n",
       "      <th>A0A024R644;A0A0A0MRU5;A0A1B0GWI2;O75503</th>\n",
       "      <th>A0A075B6H7</th>\n",
       "      <th>A0A075B6H9</th>\n",
       "      <th>A0A075B6I0</th>\n",
       "      <th>A0A075B6I1</th>\n",
       "      <th>A0A075B6I6</th>\n",
       "      <th>A0A075B6I9</th>\n",
       "      <th>...</th>\n",
       "      <th>Q9Y653;Q9Y653-2;Q9Y653-3</th>\n",
       "      <th>Q9Y696</th>\n",
       "      <th>Q9Y6C2</th>\n",
       "      <th>Q9Y6N6</th>\n",
       "      <th>Q9Y6N7;Q9Y6N7-2;Q9Y6N7-4</th>\n",
       "      <th>Q9Y6R7</th>\n",
       "      <th>Q9Y6X5</th>\n",
       "      <th>Q9Y6Y8;Q9Y6Y8-2</th>\n",
       "      <th>Q9Y6Y9</th>\n",
       "      <th>S4R3U6</th>\n",
       "    </tr>\n",
       "    <tr>\n",
       "      <th>Sample ID</th>\n",
       "      <th></th>\n",
       "      <th></th>\n",
       "      <th></th>\n",
       "      <th></th>\n",
       "      <th></th>\n",
       "      <th></th>\n",
       "      <th></th>\n",
       "      <th></th>\n",
       "      <th></th>\n",
       "      <th></th>\n",
       "      <th></th>\n",
       "      <th></th>\n",
       "      <th></th>\n",
       "      <th></th>\n",
       "      <th></th>\n",
       "      <th></th>\n",
       "      <th></th>\n",
       "      <th></th>\n",
       "      <th></th>\n",
       "      <th></th>\n",
       "      <th></th>\n",
       "    </tr>\n",
       "  </thead>\n",
       "  <tbody>\n",
       "    <tr>\n",
       "      <th>Sample_000</th>\n",
       "      <td>15.912</td>\n",
       "      <td>16.852</td>\n",
       "      <td>15.570</td>\n",
       "      <td>16.481</td>\n",
       "      <td>17.301</td>\n",
       "      <td>20.246</td>\n",
       "      <td>16.764</td>\n",
       "      <td>17.584</td>\n",
       "      <td>16.988</td>\n",
       "      <td>20.054</td>\n",
       "      <td>...</td>\n",
       "      <td>16.012</td>\n",
       "      <td>15.178</td>\n",
       "      <td>NaN</td>\n",
       "      <td>15.050</td>\n",
       "      <td>16.842</td>\n",
       "      <td>NaN</td>\n",
       "      <td>NaN</td>\n",
       "      <td>19.563</td>\n",
       "      <td>NaN</td>\n",
       "      <td>12.805</td>\n",
       "    </tr>\n",
       "    <tr>\n",
       "      <th>Sample_001</th>\n",
       "      <td>NaN</td>\n",
       "      <td>16.874</td>\n",
       "      <td>15.519</td>\n",
       "      <td>16.387</td>\n",
       "      <td>NaN</td>\n",
       "      <td>19.941</td>\n",
       "      <td>18.786</td>\n",
       "      <td>17.144</td>\n",
       "      <td>NaN</td>\n",
       "      <td>19.067</td>\n",
       "      <td>...</td>\n",
       "      <td>15.528</td>\n",
       "      <td>15.576</td>\n",
       "      <td>NaN</td>\n",
       "      <td>14.833</td>\n",
       "      <td>16.597</td>\n",
       "      <td>20.299</td>\n",
       "      <td>15.556</td>\n",
       "      <td>19.386</td>\n",
       "      <td>13.970</td>\n",
       "      <td>12.442</td>\n",
       "    </tr>\n",
       "    <tr>\n",
       "      <th>Sample_002</th>\n",
       "      <td>16.111</td>\n",
       "      <td>NaN</td>\n",
       "      <td>15.935</td>\n",
       "      <td>16.416</td>\n",
       "      <td>18.175</td>\n",
       "      <td>19.251</td>\n",
       "      <td>16.832</td>\n",
       "      <td>15.671</td>\n",
       "      <td>17.012</td>\n",
       "      <td>18.569</td>\n",
       "      <td>...</td>\n",
       "      <td>15.229</td>\n",
       "      <td>14.728</td>\n",
       "      <td>13.757</td>\n",
       "      <td>15.118</td>\n",
       "      <td>17.440</td>\n",
       "      <td>19.598</td>\n",
       "      <td>15.735</td>\n",
       "      <td>20.447</td>\n",
       "      <td>12.636</td>\n",
       "      <td>12.505</td>\n",
       "    </tr>\n",
       "    <tr>\n",
       "      <th>Sample_003</th>\n",
       "      <td>16.107</td>\n",
       "      <td>17.032</td>\n",
       "      <td>15.802</td>\n",
       "      <td>16.979</td>\n",
       "      <td>15.963</td>\n",
       "      <td>19.628</td>\n",
       "      <td>17.852</td>\n",
       "      <td>18.877</td>\n",
       "      <td>14.182</td>\n",
       "      <td>18.985</td>\n",
       "      <td>...</td>\n",
       "      <td>15.495</td>\n",
       "      <td>14.590</td>\n",
       "      <td>14.682</td>\n",
       "      <td>15.140</td>\n",
       "      <td>17.356</td>\n",
       "      <td>19.429</td>\n",
       "      <td>NaN</td>\n",
       "      <td>20.216</td>\n",
       "      <td>NaN</td>\n",
       "      <td>12.445</td>\n",
       "    </tr>\n",
       "    <tr>\n",
       "      <th>Sample_004</th>\n",
       "      <td>15.603</td>\n",
       "      <td>15.331</td>\n",
       "      <td>15.375</td>\n",
       "      <td>16.679</td>\n",
       "      <td>NaN</td>\n",
       "      <td>20.450</td>\n",
       "      <td>18.682</td>\n",
       "      <td>17.081</td>\n",
       "      <td>14.140</td>\n",
       "      <td>19.686</td>\n",
       "      <td>...</td>\n",
       "      <td>14.757</td>\n",
       "      <td>NaN</td>\n",
       "      <td>NaN</td>\n",
       "      <td>15.256</td>\n",
       "      <td>17.075</td>\n",
       "      <td>19.582</td>\n",
       "      <td>15.328</td>\n",
       "      <td>NaN</td>\n",
       "      <td>13.145</td>\n",
       "      <td>NaN</td>\n",
       "    </tr>\n",
       "  </tbody>\n",
       "</table>\n",
       "<p>5 rows × 1421 columns</p>\n",
       "</div>"
      ],
      "text/plain": [
       "protein groups  A0A024QZX5;A0A087X1N8;P35237  A0A024R0T9;K7ER74;P02655  \\\n",
       "Sample ID                                                                \n",
       "Sample_000                            15.912                    16.852   \n",
       "Sample_001                               NaN                    16.874   \n",
       "Sample_002                            16.111                       NaN   \n",
       "Sample_003                            16.107                    17.032   \n",
       "Sample_004                            15.603                    15.331   \n",
       "\n",
       "protein groups  A0A024R3W6;A0A024R412;O60462;O60462-2;O60462-3;O60462-4;O60462-5;Q7LBX6;X5D2Q8  \\\n",
       "Sample ID                                                                                        \n",
       "Sample_000                                                                              15.570   \n",
       "Sample_001                                                                              15.519   \n",
       "Sample_002                                                                              15.935   \n",
       "Sample_003                                                                              15.802   \n",
       "Sample_004                                                                              15.375   \n",
       "\n",
       "protein groups  A0A024R644;A0A0A0MRU5;A0A1B0GWI2;O75503  A0A075B6H7  \\\n",
       "Sample ID                                                             \n",
       "Sample_000                                       16.481      17.301   \n",
       "Sample_001                                       16.387         NaN   \n",
       "Sample_002                                       16.416      18.175   \n",
       "Sample_003                                       16.979      15.963   \n",
       "Sample_004                                       16.679         NaN   \n",
       "\n",
       "protein groups  A0A075B6H9  A0A075B6I0  A0A075B6I1  A0A075B6I6  A0A075B6I9  \\\n",
       "Sample ID                                                                    \n",
       "Sample_000          20.246      16.764      17.584      16.988      20.054   \n",
       "Sample_001          19.941      18.786      17.144         NaN      19.067   \n",
       "Sample_002          19.251      16.832      15.671      17.012      18.569   \n",
       "Sample_003          19.628      17.852      18.877      14.182      18.985   \n",
       "Sample_004          20.450      18.682      17.081      14.140      19.686   \n",
       "\n",
       "protein groups  ...  Q9Y653;Q9Y653-2;Q9Y653-3  Q9Y696  Q9Y6C2  Q9Y6N6  \\\n",
       "Sample ID       ...                                                     \n",
       "Sample_000      ...                    16.012  15.178     NaN  15.050   \n",
       "Sample_001      ...                    15.528  15.576     NaN  14.833   \n",
       "Sample_002      ...                    15.229  14.728  13.757  15.118   \n",
       "Sample_003      ...                    15.495  14.590  14.682  15.140   \n",
       "Sample_004      ...                    14.757     NaN     NaN  15.256   \n",
       "\n",
       "protein groups  Q9Y6N7;Q9Y6N7-2;Q9Y6N7-4  Q9Y6R7  Q9Y6X5  Q9Y6Y8;Q9Y6Y8-2  \\\n",
       "Sample ID                                                                   \n",
       "Sample_000                        16.842     NaN     NaN           19.563   \n",
       "Sample_001                        16.597  20.299  15.556           19.386   \n",
       "Sample_002                        17.440  19.598  15.735           20.447   \n",
       "Sample_003                        17.356  19.429     NaN           20.216   \n",
       "Sample_004                        17.075  19.582  15.328              NaN   \n",
       "\n",
       "protein groups  Q9Y6Y9  S4R3U6  \n",
       "Sample ID                       \n",
       "Sample_000         NaN  12.805  \n",
       "Sample_001      13.970  12.442  \n",
       "Sample_002      12.636  12.505  \n",
       "Sample_003         NaN  12.445  \n",
       "Sample_004      13.145     NaN  \n",
       "\n",
       "[5 rows x 1421 columns]"
      ]
     },
     "execution_count": 15,
     "metadata": {},
     "output_type": "execute_result"
    }
   ],
   "source": [
    "data.to_wide_format()\n",
    "args.M = data.train_X.shape[-1]\n",
    "data.train_X.head()"
   ]
  },
  {
   "cell_type": "markdown",
   "id": "3cb9df3b",
   "metadata": {
    "papermill": {
     "duration": 0.01058,
     "end_time": "2024-06-10T07:15:23.205480",
     "exception": false,
     "start_time": "2024-06-10T07:15:23.194900",
     "status": "completed"
    },
    "tags": []
   },
   "source": [
    "### Add interpolation performance"
   ]
  },
  {
   "cell_type": "code",
   "execution_count": 16,
   "id": "71d667e3",
   "metadata": {
    "execution": {
     "iopub.execute_input": "2024-06-10T07:15:23.230279Z",
     "iopub.status.busy": "2024-06-10T07:15:23.229755Z",
     "iopub.status.idle": "2024-06-10T07:15:23.232942Z",
     "shell.execute_reply": "2024-06-10T07:15:23.232344Z"
    },
    "papermill": {
     "duration": 0.01881,
     "end_time": "2024-06-10T07:15:23.235348",
     "exception": false,
     "start_time": "2024-06-10T07:15:23.216538",
     "status": "completed"
    },
    "tags": [
     "hide-input"
    ]
   },
   "outputs": [],
   "source": [
    "# interpolated = vaep.pandas.interpolate(wide_df = data.train_X)\n",
    "# val_pred_fake_na['interpolated'] = interpolated\n",
    "# test_pred_fake_na['interpolated'] = interpolated\n",
    "# del interpolated\n",
    "# test_pred_fake_na"
   ]
  },
  {
   "cell_type": "code",
   "execution_count": 17,
   "id": "9fb6cea0",
   "metadata": {
    "execution": {
     "iopub.execute_input": "2024-06-10T07:15:23.255851Z",
     "iopub.status.busy": "2024-06-10T07:15:23.255556Z",
     "iopub.status.idle": "2024-06-10T07:15:23.296319Z",
     "shell.execute_reply": "2024-06-10T07:15:23.295645Z"
    },
    "lines_to_next_cell": 2,
    "papermill": {
     "duration": 0.05285,
     "end_time": "2024-06-10T07:15:23.298104",
     "exception": false,
     "start_time": "2024-06-10T07:15:23.245254",
     "status": "completed"
    },
    "tags": [
     "hide-input"
    ]
   },
   "outputs": [
    {
     "data": {
      "text/html": [
       "<div>\n",
       "<style scoped>\n",
       "    .dataframe tbody tr th:only-of-type {\n",
       "        vertical-align: middle;\n",
       "    }\n",
       "\n",
       "    .dataframe tbody tr th {\n",
       "        vertical-align: top;\n",
       "    }\n",
       "\n",
       "    .dataframe thead th {\n",
       "        text-align: right;\n",
       "    }\n",
       "</style>\n",
       "<table border=\"1\" class=\"dataframe\">\n",
       "  <thead>\n",
       "    <tr style=\"text-align: right;\">\n",
       "      <th></th>\n",
       "      <th></th>\n",
       "      <th>observed</th>\n",
       "      <th>Median</th>\n",
       "    </tr>\n",
       "    <tr>\n",
       "      <th>Sample ID</th>\n",
       "      <th>protein groups</th>\n",
       "      <th></th>\n",
       "      <th></th>\n",
       "    </tr>\n",
       "  </thead>\n",
       "  <tbody>\n",
       "    <tr>\n",
       "      <th>Sample_158</th>\n",
       "      <th>Q9UN70;Q9UN70-2</th>\n",
       "      <td>14.630</td>\n",
       "      <td>15.752</td>\n",
       "    </tr>\n",
       "    <tr>\n",
       "      <th>Sample_050</th>\n",
       "      <th>Q9Y287</th>\n",
       "      <td>15.755</td>\n",
       "      <td>17.221</td>\n",
       "    </tr>\n",
       "    <tr>\n",
       "      <th>Sample_107</th>\n",
       "      <th>Q8N475;Q8N475-2</th>\n",
       "      <td>15.029</td>\n",
       "      <td>14.846</td>\n",
       "    </tr>\n",
       "    <tr>\n",
       "      <th>Sample_199</th>\n",
       "      <th>P06307</th>\n",
       "      <td>19.376</td>\n",
       "      <td>18.973</td>\n",
       "    </tr>\n",
       "    <tr>\n",
       "      <th>Sample_067</th>\n",
       "      <th>Q5VUB5</th>\n",
       "      <td>15.309</td>\n",
       "      <td>14.726</td>\n",
       "    </tr>\n",
       "    <tr>\n",
       "      <th>...</th>\n",
       "      <th>...</th>\n",
       "      <td>...</td>\n",
       "      <td>...</td>\n",
       "    </tr>\n",
       "    <tr>\n",
       "      <th>Sample_111</th>\n",
       "      <th>F6SYF8;Q9UBP4</th>\n",
       "      <td>22.822</td>\n",
       "      <td>22.918</td>\n",
       "    </tr>\n",
       "    <tr>\n",
       "      <th>Sample_002</th>\n",
       "      <th>A0A0A0MT36</th>\n",
       "      <td>18.165</td>\n",
       "      <td>15.877</td>\n",
       "    </tr>\n",
       "    <tr>\n",
       "      <th>Sample_049</th>\n",
       "      <th>Q8WY21;Q8WY21-2;Q8WY21-3;Q8WY21-4</th>\n",
       "      <td>15.525</td>\n",
       "      <td>16.278</td>\n",
       "    </tr>\n",
       "    <tr>\n",
       "      <th>Sample_182</th>\n",
       "      <th>Q8NFT8</th>\n",
       "      <td>14.379</td>\n",
       "      <td>13.995</td>\n",
       "    </tr>\n",
       "    <tr>\n",
       "      <th>Sample_123</th>\n",
       "      <th>Q16853;Q16853-2</th>\n",
       "      <td>14.504</td>\n",
       "      <td>14.849</td>\n",
       "    </tr>\n",
       "  </tbody>\n",
       "</table>\n",
       "<p>12600 rows × 2 columns</p>\n",
       "</div>"
      ],
      "text/plain": [
       "                                              observed  Median\n",
       "Sample ID  protein groups                                     \n",
       "Sample_158 Q9UN70;Q9UN70-2                      14.630  15.752\n",
       "Sample_050 Q9Y287                               15.755  17.221\n",
       "Sample_107 Q8N475;Q8N475-2                      15.029  14.846\n",
       "Sample_199 P06307                               19.376  18.973\n",
       "Sample_067 Q5VUB5                               15.309  14.726\n",
       "...                                                ...     ...\n",
       "Sample_111 F6SYF8;Q9UBP4                        22.822  22.918\n",
       "Sample_002 A0A0A0MT36                           18.165  15.877\n",
       "Sample_049 Q8WY21;Q8WY21-2;Q8WY21-3;Q8WY21-4    15.525  16.278\n",
       "Sample_182 Q8NFT8                               14.379  13.995\n",
       "Sample_123 Q16853;Q16853-2                      14.504  14.849\n",
       "\n",
       "[12600 rows x 2 columns]"
      ]
     },
     "execution_count": 17,
     "metadata": {},
     "output_type": "execute_result"
    }
   ],
   "source": [
    "# Add median pred performance\n",
    "args.n_params = data.train_X.shape[-1]\n",
    "medians_train = data.train_X.median()\n",
    "medians_train.name = args.model\n",
    "pred = medians_train\n",
    "\n",
    "val_pred_fake_na = val_pred_fake_na.join(medians_train)\n",
    "test_pred_fake_na = test_pred_fake_na.join(medians_train)\n",
    "val_pred_fake_na"
   ]
  },
  {
   "cell_type": "code",
   "execution_count": 18,
   "id": "c05ecd3a",
   "metadata": {
    "execution": {
     "iopub.execute_input": "2024-06-10T07:15:23.321072Z",
     "iopub.status.busy": "2024-06-10T07:15:23.320767Z",
     "iopub.status.idle": "2024-06-10T07:15:23.910891Z",
     "shell.execute_reply": "2024-06-10T07:15:23.910231Z"
    },
    "lines_to_next_cell": 2,
    "papermill": {
     "duration": 0.603605,
     "end_time": "2024-06-10T07:15:23.912470",
     "exception": false,
     "start_time": "2024-06-10T07:15:23.308865",
     "status": "completed"
    },
    "tags": [
     "hide-input"
    ]
   },
   "outputs": [
    {
     "data": {
      "text/html": [
       "<div>\n",
       "<style scoped>\n",
       "    .dataframe tbody tr th:only-of-type {\n",
       "        vertical-align: middle;\n",
       "    }\n",
       "\n",
       "    .dataframe tbody tr th {\n",
       "        vertical-align: top;\n",
       "    }\n",
       "\n",
       "    .dataframe thead th {\n",
       "        text-align: right;\n",
       "    }\n",
       "</style>\n",
       "<table border=\"1\" class=\"dataframe\">\n",
       "  <thead>\n",
       "    <tr style=\"text-align: right;\">\n",
       "      <th></th>\n",
       "      <th></th>\n",
       "      <th>Median</th>\n",
       "    </tr>\n",
       "    <tr>\n",
       "      <th>Sample ID</th>\n",
       "      <th>protein groups</th>\n",
       "      <th></th>\n",
       "    </tr>\n",
       "  </thead>\n",
       "  <tbody>\n",
       "    <tr>\n",
       "      <th rowspan=\"5\" valign=\"top\">Sample_000</th>\n",
       "      <th>A0A075B6J9</th>\n",
       "      <td>16.691</td>\n",
       "    </tr>\n",
       "    <tr>\n",
       "      <th>A0A075B6Q5</th>\n",
       "      <td>16.503</td>\n",
       "    </tr>\n",
       "    <tr>\n",
       "      <th>A0A075B6R2</th>\n",
       "      <td>17.090</td>\n",
       "    </tr>\n",
       "    <tr>\n",
       "      <th>A0A075B6S5</th>\n",
       "      <td>16.203</td>\n",
       "    </tr>\n",
       "    <tr>\n",
       "      <th>A0A087WSY4</th>\n",
       "      <td>15.732</td>\n",
       "    </tr>\n",
       "    <tr>\n",
       "      <th>...</th>\n",
       "      <th>...</th>\n",
       "      <td>...</td>\n",
       "    </tr>\n",
       "    <tr>\n",
       "      <th rowspan=\"5\" valign=\"top\">Sample_209</th>\n",
       "      <th>Q9P1W8;Q9P1W8-2;Q9P1W8-4</th>\n",
       "      <td>16.019</td>\n",
       "    </tr>\n",
       "    <tr>\n",
       "      <th>Q9UI40;Q9UI40-2</th>\n",
       "      <td>16.744</td>\n",
       "    </tr>\n",
       "    <tr>\n",
       "      <th>Q9UIW2</th>\n",
       "      <td>15.057</td>\n",
       "    </tr>\n",
       "    <tr>\n",
       "      <th>Q9UMX0;Q9UMX0-2;Q9UMX0-4</th>\n",
       "      <td>13.739</td>\n",
       "    </tr>\n",
       "    <tr>\n",
       "      <th>Q9UP79</th>\n",
       "      <td>15.525</td>\n",
       "    </tr>\n",
       "  </tbody>\n",
       "</table>\n",
       "<p>46401 rows × 1 columns</p>\n",
       "</div>"
      ],
      "text/plain": [
       "                                     Median\n",
       "Sample ID  protein groups                  \n",
       "Sample_000 A0A075B6J9                16.691\n",
       "           A0A075B6Q5                16.503\n",
       "           A0A075B6R2                17.090\n",
       "           A0A075B6S5                16.203\n",
       "           A0A087WSY4                15.732\n",
       "...                                     ...\n",
       "Sample_209 Q9P1W8;Q9P1W8-2;Q9P1W8-4  16.019\n",
       "           Q9UI40;Q9UI40-2           16.744\n",
       "           Q9UIW2                    15.057\n",
       "           Q9UMX0;Q9UMX0-2;Q9UMX0-4  13.739\n",
       "           Q9UP79                    15.525\n",
       "\n",
       "[46401 rows x 1 columns]"
      ]
     },
     "metadata": {},
     "output_type": "display_data"
    }
   ],
   "source": [
    "if args.save_pred_real_na:\n",
    "    mask = data.train_X.isna().stack()\n",
    "    idx_real_na = mask.index[mask]\n",
    "    idx_real_na = (idx_real_na\n",
    "                   .drop(val_pred_fake_na.index)\n",
    "                   .drop(test_pred_fake_na.index))\n",
    "    # hacky, but works:\n",
    "    pred_real_na = (pd.Series(0, index=idx_real_na, name='placeholder')\n",
    "                    .to_frame()\n",
    "                    .join(medians_train)\n",
    "                    .drop('placeholder', axis=1))\n",
    "    # pred_real_na.name = 'intensity'\n",
    "    display(pred_real_na)\n",
    "    pred_real_na.to_csv(args.out_preds / f\"pred_real_na_{args.model_key}.csv\")"
   ]
  },
  {
   "cell_type": "markdown",
   "id": "ba2778ce",
   "metadata": {
    "lines_to_next_cell": 0,
    "papermill": {
     "duration": 0.011325,
     "end_time": "2024-06-10T07:15:23.933659",
     "exception": false,
     "start_time": "2024-06-10T07:15:23.922334",
     "status": "completed"
    },
    "tags": []
   },
   "source": [
    "### Plots\n"
   ]
  },
  {
   "cell_type": "code",
   "execution_count": 19,
   "id": "73648586",
   "metadata": {
    "execution": {
     "iopub.execute_input": "2024-06-10T07:15:23.958467Z",
     "iopub.status.busy": "2024-06-10T07:15:23.958166Z",
     "iopub.status.idle": "2024-06-10T07:15:24.236369Z",
     "shell.execute_reply": "2024-06-10T07:15:24.235553Z"
    },
    "papermill": {
     "duration": 0.294061,
     "end_time": "2024-06-10T07:15:24.238412",
     "exception": false,
     "start_time": "2024-06-10T07:15:23.944351",
     "status": "completed"
    },
    "tags": [
     "hide-input"
    ]
   },
   "outputs": [
    {
     "data": {
      "image/png": "[encoded data removed]",
      "text/plain": [
       "<Figure size 2352x1029 with 1 Axes>"
      ]
     },
     "metadata": {},
     "output_type": "display_data"
    }
   ],
   "source": [
    "feat_freq_val = val_pred_fake_na['observed'].groupby(level=-1).count()\n",
    "feat_freq_val.name = 'freq_val'\n",
    "ax = feat_freq_val.plot.box()"
   ]
  },
  {
   "cell_type": "code",
   "execution_count": 20,
   "id": "c3662d07",
   "metadata": {
    "execution": {
     "iopub.execute_input": "2024-06-10T07:15:24.268806Z",
     "iopub.status.busy": "2024-06-10T07:15:24.268447Z",
     "iopub.status.idle": "2024-06-10T07:15:24.272000Z",
     "shell.execute_reply": "2024-06-10T07:15:24.271283Z"
    },
    "papermill": {
     "duration": 0.022132,
     "end_time": "2024-06-10T07:15:24.275105",
     "exception": false,
     "start_time": "2024-06-10T07:15:24.252973",
     "status": "completed"
    },
    "tags": [
     "hide-input"
    ]
   },
   "outputs": [],
   "source": [
    "# # scatter plot between overall feature freq and split freq\n",
    "# freq_feat.to_frame('overall').join(feat_freq_val).plot.scatter(x='overall', y='freq_val')"
   ]
  },
  {
   "cell_type": "code",
   "execution_count": 21,
   "id": "3c72fe9c",
   "metadata": {
    "execution": {
     "iopub.execute_input": "2024-06-10T07:15:24.303512Z",
     "iopub.status.busy": "2024-06-10T07:15:24.303168Z",
     "iopub.status.idle": "2024-06-10T07:15:24.310679Z",
     "shell.execute_reply": "2024-06-10T07:15:24.309925Z"
    },
    "papermill": {
     "duration": 0.027207,
     "end_time": "2024-06-10T07:15:24.315076",
     "exception": false,
     "start_time": "2024-06-10T07:15:24.287869",
     "status": "completed"
    },
    "tags": [
     "hide-input"
    ]
   },
   "outputs": [
    {
     "data": {
      "text/plain": [
       "freq_val\n",
       "1    12\n",
       "2    18\n",
       "3    50\n",
       "4    82\n",
       "5   108\n",
       "Name: count, dtype: int64"
      ]
     },
     "execution_count": 21,
     "metadata": {},
     "output_type": "execute_result"
    }
   ],
   "source": [
    "feat_freq_val.value_counts().sort_index().head()  # require more than one feat?"
   ]
  },
  {
   "cell_type": "code",
   "execution_count": 22,
   "id": "786f8804",
   "metadata": {
    "execution": {
     "iopub.execute_input": "2024-06-10T07:15:24.345205Z",
     "iopub.status.busy": "2024-06-10T07:15:24.344868Z",
     "iopub.status.idle": "2024-06-10T07:15:24.818880Z",
     "shell.execute_reply": "2024-06-10T07:15:24.818106Z"
    },
    "papermill": {
     "duration": 0.491627,
     "end_time": "2024-06-10T07:15:24.821043",
     "exception": false,
     "start_time": "2024-06-10T07:15:24.329416",
     "status": "completed"
    },
    "tags": [
     "hide-input"
    ]
   },
   "outputs": [
    {
     "data": {
      "image/png": "[encoded data removed]",
      "text/plain": [
       "<Figure size 2205x1470 with 1 Axes>"
      ]
     },
     "metadata": {},
     "output_type": "display_data"
    }
   ],
   "source": [
    "errors_val = val_pred_fake_na.drop('observed', axis=1).sub(val_pred_fake_na['observed'], axis=0)\n",
    "errors_val = errors_val.abs().groupby(level=-1).mean()\n",
    "errors_val = errors_val.join(freq_feat).sort_values(by='freq', ascending=True)\n",
    "\n",
    "\n",
    "errors_val_smoothed = errors_val.copy()  # .loc[feat_freq_val > 1]\n",
    "errors_val_smoothed[errors_val.columns[:-\n",
    "                                       1]] = errors_val[errors_val.columns[:-\n",
    "                                                                           1]].rolling(window=200, min_periods=1).mean()\n",
    "ax = errors_val_smoothed.plot(x='freq', figsize=(15, 10))\n",
    "# errors_val_smoothed"
   ]
  },
  {
   "cell_type": "code",
   "execution_count": 23,
   "id": "6da29e33",
   "metadata": {
    "execution": {
     "iopub.execute_input": "2024-06-10T07:15:24.853228Z",
     "iopub.status.busy": "2024-06-10T07:15:24.852872Z",
     "iopub.status.idle": "2024-06-10T07:15:24.876084Z",
     "shell.execute_reply": "2024-06-10T07:15:24.875320Z"
    },
    "papermill": {
     "duration": 0.041272,
     "end_time": "2024-06-10T07:15:24.878015",
     "exception": false,
     "start_time": "2024-06-10T07:15:24.836743",
     "status": "completed"
    },
    "tags": [
     "hide-input"
    ]
   },
   "outputs": [
    {
     "data": {
      "text/html": [
       "<div>\n",
       "<style scoped>\n",
       "    .dataframe tbody tr th:only-of-type {\n",
       "        vertical-align: middle;\n",
       "    }\n",
       "\n",
       "    .dataframe tbody tr th {\n",
       "        vertical-align: top;\n",
       "    }\n",
       "\n",
       "    .dataframe thead tr th {\n",
       "        text-align: left;\n",
       "    }\n",
       "\n",
       "    .dataframe thead tr:last-of-type th {\n",
       "        text-align: right;\n",
       "    }\n",
       "</style>\n",
       "<table border=\"1\" class=\"dataframe\">\n",
       "  <thead>\n",
       "    <tr>\n",
       "      <th></th>\n",
       "      <th colspan=\"2\" halign=\"left\">Median</th>\n",
       "    </tr>\n",
       "    <tr>\n",
       "      <th></th>\n",
       "      <th>mean</th>\n",
       "      <th>count</th>\n",
       "    </tr>\n",
       "    <tr>\n",
       "      <th>protein groups</th>\n",
       "      <th></th>\n",
       "      <th></th>\n",
       "    </tr>\n",
       "  </thead>\n",
       "  <tbody>\n",
       "    <tr>\n",
       "      <th>A0A024QZX5;A0A087X1N8;P35237</th>\n",
       "      <td>0.270</td>\n",
       "      <td>7</td>\n",
       "    </tr>\n",
       "    <tr>\n",
       "      <th>A0A024R0T9;K7ER74;P02655</th>\n",
       "      <td>1.713</td>\n",
       "      <td>4</td>\n",
       "    </tr>\n",
       "    <tr>\n",
       "      <th>A0A024R3W6;A0A024R412;O60462;O60462-2;O60462-3;O60462-4;O60462-5;Q7LBX6;X5D2Q8</th>\n",
       "      <td>0.361</td>\n",
       "      <td>9</td>\n",
       "    </tr>\n",
       "    <tr>\n",
       "      <th>A0A024R644;A0A0A0MRU5;A0A1B0GWI2;O75503</th>\n",
       "      <td>0.451</td>\n",
       "      <td>6</td>\n",
       "    </tr>\n",
       "    <tr>\n",
       "      <th>A0A075B6H7</th>\n",
       "      <td>0.773</td>\n",
       "      <td>6</td>\n",
       "    </tr>\n",
       "    <tr>\n",
       "      <th>...</th>\n",
       "      <td>...</td>\n",
       "      <td>...</td>\n",
       "    </tr>\n",
       "    <tr>\n",
       "      <th>Q9Y6R7</th>\n",
       "      <td>0.489</td>\n",
       "      <td>10</td>\n",
       "    </tr>\n",
       "    <tr>\n",
       "      <th>Q9Y6X5</th>\n",
       "      <td>0.538</td>\n",
       "      <td>7</td>\n",
       "    </tr>\n",
       "    <tr>\n",
       "      <th>Q9Y6Y8;Q9Y6Y8-2</th>\n",
       "      <td>0.454</td>\n",
       "      <td>9</td>\n",
       "    </tr>\n",
       "    <tr>\n",
       "      <th>Q9Y6Y9</th>\n",
       "      <td>0.812</td>\n",
       "      <td>15</td>\n",
       "    </tr>\n",
       "    <tr>\n",
       "      <th>S4R3U6</th>\n",
       "      <td>0.518</td>\n",
       "      <td>24</td>\n",
       "    </tr>\n",
       "  </tbody>\n",
       "</table>\n",
       "<p>1419 rows × 2 columns</p>\n",
       "</div>"
      ],
      "text/plain": [
       "                                                                               Median  \\\n",
       "                                                                                 mean   \n",
       "protein groups                                                                          \n",
       "A0A024QZX5;A0A087X1N8;P35237                                                    0.270   \n",
       "A0A024R0T9;K7ER74;P02655                                                        1.713   \n",
       "A0A024R3W6;A0A024R412;O60462;O60462-2;O60462-3;O60462-4;O60462-5;Q7LBX6;X5D2Q8  0.361   \n",
       "A0A024R644;A0A0A0MRU5;A0A1B0GWI2;O75503                                         0.451   \n",
       "A0A075B6H7                                                                      0.773   \n",
       "...                                                                               ...   \n",
       "Q9Y6R7                                                                          0.489   \n",
       "Q9Y6X5                                                                          0.538   \n",
       "Q9Y6Y8;Q9Y6Y8-2                                                                 0.454   \n",
       "Q9Y6Y9                                                                          0.812   \n",
       "S4R3U6                                                                          0.518   \n",
       "\n",
       "                                                                                      \n",
       "                                                                               count  \n",
       "protein groups                                                                        \n",
       "A0A024QZX5;A0A087X1N8;P35237                                                       7  \n",
       "A0A024R0T9;K7ER74;P02655                                                           4  \n",
       "A0A024R3W6;A0A024R412;O60462;O60462-2;O60462-3;O60462-4;O60462-5;Q7LBX6;X5D2Q8     9  \n",
       "A0A024R644;A0A0A0MRU5;A0A1B0GWI2;O75503                                            6  \n",
       "A0A075B6H7                                                                         6  \n",
       "...                                                                              ...  \n",
       "Q9Y6R7                                                                            10  \n",
       "Q9Y6X5                                                                             7  \n",
       "Q9Y6Y8;Q9Y6Y8-2                                                                    9  \n",
       "Q9Y6Y9                                                                            15  \n",
       "S4R3U6                                                                            24  \n",
       "\n",
       "[1419 rows x 2 columns]"
      ]
     },
     "execution_count": 23,
     "metadata": {},
     "output_type": "execute_result"
    }
   ],
   "source": [
    "errors_val = val_pred_fake_na.drop('observed', axis=1).sub(val_pred_fake_na['observed'], axis=0)\n",
    "errors_val.abs().groupby(level=-1).agg(['mean', 'count'])"
   ]
  },
  {
   "cell_type": "code",
   "execution_count": 24,
   "id": "3565522f",
   "metadata": {
    "execution": {
     "iopub.execute_input": "2024-06-10T07:15:24.911657Z",
     "iopub.status.busy": "2024-06-10T07:15:24.911282Z",
     "iopub.status.idle": "2024-06-10T07:15:24.925767Z",
     "shell.execute_reply": "2024-06-10T07:15:24.924995Z"
    },
    "papermill": {
     "duration": 0.034823,
     "end_time": "2024-06-10T07:15:24.929150",
     "exception": false,
     "start_time": "2024-06-10T07:15:24.894327",
     "status": "completed"
    },
    "tags": [
     "hide-input"
    ]
   },
   "outputs": [
    {
     "data": {
      "text/html": [
       "<div>\n",
       "<style scoped>\n",
       "    .dataframe tbody tr th:only-of-type {\n",
       "        vertical-align: middle;\n",
       "    }\n",
       "\n",
       "    .dataframe tbody tr th {\n",
       "        vertical-align: top;\n",
       "    }\n",
       "\n",
       "    .dataframe thead th {\n",
       "        text-align: right;\n",
       "    }\n",
       "</style>\n",
       "<table border=\"1\" class=\"dataframe\">\n",
       "  <thead>\n",
       "    <tr style=\"text-align: right;\">\n",
       "      <th></th>\n",
       "      <th></th>\n",
       "      <th>Median</th>\n",
       "    </tr>\n",
       "    <tr>\n",
       "      <th>Sample ID</th>\n",
       "      <th>protein groups</th>\n",
       "      <th></th>\n",
       "    </tr>\n",
       "  </thead>\n",
       "  <tbody>\n",
       "    <tr>\n",
       "      <th>Sample_158</th>\n",
       "      <th>Q9UN70;Q9UN70-2</th>\n",
       "      <td>1.122</td>\n",
       "    </tr>\n",
       "    <tr>\n",
       "      <th>Sample_050</th>\n",
       "      <th>Q9Y287</th>\n",
       "      <td>1.466</td>\n",
       "    </tr>\n",
       "    <tr>\n",
       "      <th>Sample_107</th>\n",
       "      <th>Q8N475;Q8N475-2</th>\n",
       "      <td>-0.183</td>\n",
       "    </tr>\n",
       "    <tr>\n",
       "      <th>Sample_199</th>\n",
       "      <th>P06307</th>\n",
       "      <td>-0.403</td>\n",
       "    </tr>\n",
       "    <tr>\n",
       "      <th>Sample_067</th>\n",
       "      <th>Q5VUB5</th>\n",
       "      <td>-0.583</td>\n",
       "    </tr>\n",
       "    <tr>\n",
       "      <th>...</th>\n",
       "      <th>...</th>\n",
       "      <td>...</td>\n",
       "    </tr>\n",
       "    <tr>\n",
       "      <th>Sample_111</th>\n",
       "      <th>F6SYF8;Q9UBP4</th>\n",
       "      <td>0.096</td>\n",
       "    </tr>\n",
       "    <tr>\n",
       "      <th>Sample_002</th>\n",
       "      <th>A0A0A0MT36</th>\n",
       "      <td>-2.288</td>\n",
       "    </tr>\n",
       "    <tr>\n",
       "      <th>Sample_049</th>\n",
       "      <th>Q8WY21;Q8WY21-2;Q8WY21-3;Q8WY21-4</th>\n",
       "      <td>0.753</td>\n",
       "    </tr>\n",
       "    <tr>\n",
       "      <th>Sample_182</th>\n",
       "      <th>Q8NFT8</th>\n",
       "      <td>-0.383</td>\n",
       "    </tr>\n",
       "    <tr>\n",
       "      <th>Sample_123</th>\n",
       "      <th>Q16853;Q16853-2</th>\n",
       "      <td>0.345</td>\n",
       "    </tr>\n",
       "  </tbody>\n",
       "</table>\n",
       "<p>12600 rows × 1 columns</p>\n",
       "</div>"
      ],
      "text/plain": [
       "                                              Median\n",
       "Sample ID  protein groups                           \n",
       "Sample_158 Q9UN70;Q9UN70-2                     1.122\n",
       "Sample_050 Q9Y287                              1.466\n",
       "Sample_107 Q8N475;Q8N475-2                    -0.183\n",
       "Sample_199 P06307                             -0.403\n",
       "Sample_067 Q5VUB5                             -0.583\n",
       "...                                              ...\n",
       "Sample_111 F6SYF8;Q9UBP4                       0.096\n",
       "Sample_002 A0A0A0MT36                         -2.288\n",
       "Sample_049 Q8WY21;Q8WY21-2;Q8WY21-3;Q8WY21-4   0.753\n",
       "Sample_182 Q8NFT8                             -0.383\n",
       "Sample_123 Q16853;Q16853-2                     0.345\n",
       "\n",
       "[12600 rows x 1 columns]"
      ]
     },
     "execution_count": 24,
     "metadata": {},
     "output_type": "execute_result"
    }
   ],
   "source": [
    "errors_val"
   ]
  },
  {
   "cell_type": "markdown",
   "id": "ae345647",
   "metadata": {
    "papermill": {
     "duration": 0.015985,
     "end_time": "2024-06-10T07:15:24.961839",
     "exception": false,
     "start_time": "2024-06-10T07:15:24.945854",
     "status": "completed"
    },
    "tags": []
   },
   "source": [
    "## Comparisons"
   ]
  },
  {
   "cell_type": "markdown",
   "id": "b43adc40",
   "metadata": {
    "papermill": {
     "duration": 0.015589,
     "end_time": "2024-06-10T07:15:24.993466",
     "exception": false,
     "start_time": "2024-06-10T07:15:24.977877",
     "status": "completed"
    },
    "tags": []
   },
   "source": [
    "### Validation data\n"
   ]
  },
  {
   "cell_type": "code",
   "execution_count": 25,
   "id": "b017353a",
   "metadata": {
    "execution": {
     "iopub.execute_input": "2024-06-10T07:15:25.025805Z",
     "iopub.status.busy": "2024-06-10T07:15:25.025490Z",
     "iopub.status.idle": "2024-06-10T07:15:25.029102Z",
     "shell.execute_reply": "2024-06-10T07:15:25.028415Z"
    },
    "papermill": {
     "duration": 0.022984,
     "end_time": "2024-06-10T07:15:25.032226",
     "exception": false,
     "start_time": "2024-06-10T07:15:25.009242",
     "status": "completed"
    },
    "tags": [
     "hide-input"
    ]
   },
   "outputs": [],
   "source": [
    "# papermill_description=metrics\n",
    "d_metrics = models.Metrics()"
   ]
  },
  {
   "cell_type": "markdown",
   "id": "afdefc29",
   "metadata": {
    "papermill": {
     "duration": 0.014289,
     "end_time": "2024-06-10T07:15:25.067683",
     "exception": false,
     "start_time": "2024-06-10T07:15:25.053394",
     "status": "completed"
    },
    "tags": []
   },
   "source": [
    "The fake NA for the validation step are real test data (not used for training nor early stopping)"
   ]
  },
  {
   "cell_type": "code",
   "execution_count": 26,
   "id": "47caaf3b",
   "metadata": {
    "execution": {
     "iopub.execute_input": "2024-06-10T07:15:25.099067Z",
     "iopub.status.busy": "2024-06-10T07:15:25.098730Z",
     "iopub.status.idle": "2024-06-10T07:15:25.121738Z",
     "shell.execute_reply": "2024-06-10T07:15:25.121003Z"
    },
    "papermill": {
     "duration": 0.04127,
     "end_time": "2024-06-10T07:15:25.123614",
     "exception": false,
     "start_time": "2024-06-10T07:15:25.082344",
     "status": "completed"
    },
    "tags": [
     "hide-input"
    ]
   },
   "outputs": [
    {
     "name": "stdout",
     "output_type": "stream",
     "text": [
      "Selected as truth to compare to: observed\n"
     ]
    },
    {
     "data": {
      "text/plain": [
       "{'Median': {'MSE': 0.766059536868567,\n",
       "  'MAE': 0.5984580373149887,\n",
       "  'N': 12600,\n",
       "  'prop': 1.0}}"
      ]
     },
     "execution_count": 26,
     "metadata": {},
     "output_type": "execute_result"
    }
   ],
   "source": [
    "added_metrics = d_metrics.add_metrics(val_pred_fake_na, 'valid_fake_na')\n",
    "added_metrics"
   ]
  },
  {
   "cell_type": "markdown",
   "id": "1e9cc919",
   "metadata": {
    "papermill": {
     "duration": 0.012824,
     "end_time": "2024-06-10T07:15:25.151943",
     "exception": false,
     "start_time": "2024-06-10T07:15:25.139119",
     "status": "completed"
    },
    "tags": []
   },
   "source": [
    "### Test Datasplit\n",
    "\n",
    "Fake NAs : Artificially created NAs. Some data was sampled and set\n",
    "explicitly to misssing before it was fed to the model for\n",
    "reconstruction."
   ]
  },
  {
   "cell_type": "code",
   "execution_count": 27,
   "id": "4b45f076",
   "metadata": {
    "execution": {
     "iopub.execute_input": "2024-06-10T07:15:25.184937Z",
     "iopub.status.busy": "2024-06-10T07:15:25.184611Z",
     "iopub.status.idle": "2024-06-10T07:15:25.209286Z",
     "shell.execute_reply": "2024-06-10T07:15:25.208638Z"
    },
    "papermill": {
     "duration": 0.043157,
     "end_time": "2024-06-10T07:15:25.211096",
     "exception": false,
     "start_time": "2024-06-10T07:15:25.167939",
     "status": "completed"
    },
    "tags": [
     "hide-input"
    ]
   },
   "outputs": [
    {
     "name": "stdout",
     "output_type": "stream",
     "text": [
      "Selected as truth to compare to: observed\n"
     ]
    },
    {
     "data": {
      "text/plain": [
       "{'Median': {'MSE': 0.7764184180515228,\n",
       "  'MAE': 0.6020439727512931,\n",
       "  'N': 12600,\n",
       "  'prop': 1.0}}"
      ]
     },
     "execution_count": 27,
     "metadata": {},
     "output_type": "execute_result"
    }
   ],
   "source": [
    "added_metrics = d_metrics.add_metrics(test_pred_fake_na, 'test_fake_na')\n",
    "added_metrics"
   ]
  },
  {
   "cell_type": "markdown",
   "id": "140437f2",
   "metadata": {
    "papermill": {
     "duration": 0.015531,
     "end_time": "2024-06-10T07:15:25.243016",
     "exception": false,
     "start_time": "2024-06-10T07:15:25.227485",
     "status": "completed"
    },
    "tags": []
   },
   "source": [
    "The fake NA for the validation step are real test data (not used for training nor early stopping)"
   ]
  },
  {
   "cell_type": "code",
   "execution_count": null,
   "id": "d6a5da36",
   "metadata": {
    "papermill": {
     "duration": 0.015455,
     "end_time": "2024-06-10T07:15:25.274333",
     "exception": false,
     "start_time": "2024-06-10T07:15:25.258878",
     "status": "completed"
    },
    "tags": [
     "hide-input"
    ]
   },
   "outputs": [],
   "source": []
  },
  {
   "cell_type": "markdown",
   "id": "077a514b",
   "metadata": {
    "papermill": {
     "duration": 0.015048,
     "end_time": "2024-06-10T07:15:25.305078",
     "exception": false,
     "start_time": "2024-06-10T07:15:25.290030",
     "status": "completed"
    },
    "tags": []
   },
   "source": [
    "### Save all metrics as json"
   ]
  },
  {
   "cell_type": "code",
   "execution_count": 28,
   "id": "26be5fa4",
   "metadata": {
    "execution": {
     "iopub.execute_input": "2024-06-10T07:15:25.334973Z",
     "iopub.status.busy": "2024-06-10T07:15:25.334659Z",
     "iopub.status.idle": "2024-06-10T07:15:25.339892Z",
     "shell.execute_reply": "2024-06-10T07:15:25.339304Z"
    },
    "lines_to_next_cell": 2,
    "papermill": {
     "duration": 0.024178,
     "end_time": "2024-06-10T07:15:25.343480",
     "exception": false,
     "start_time": "2024-06-10T07:15:25.319302",
     "status": "completed"
    },
    "tags": [
     "hide-input"
    ]
   },
   "outputs": [
    {
     "data": {
      "text/plain": [
       "{ 'test_fake_na': { 'Median': { 'MAE': 0.6020439727512931,\n",
       "                                'MSE': 0.7764184180515228,\n",
       "                                'N': 12600,\n",
       "                                'prop': 1.0}},\n",
       "  'valid_fake_na': { 'Median': { 'MAE': 0.5984580373149887,\n",
       "                                 'MSE': 0.766059536868567,\n",
       "                                 'N': 12600,\n",
       "                                 'prop': 1.0}}}"
      ]
     },
     "execution_count": 28,
     "metadata": {},
     "output_type": "execute_result"
    }
   ],
   "source": [
    "vaep.io.dump_json(d_metrics.metrics, args.out_metrics / f'metrics_{args.model_key}.json')\n",
    "d_metrics"
   ]
  },
  {
   "cell_type": "code",
   "execution_count": 29,
   "id": "7fe80e9a",
   "metadata": {
    "execution": {
     "iopub.execute_input": "2024-06-10T07:15:25.372743Z",
     "iopub.status.busy": "2024-06-10T07:15:25.372433Z",
     "iopub.status.idle": "2024-06-10T07:15:25.384318Z",
     "shell.execute_reply": "2024-06-10T07:15:25.383696Z"
    },
    "papermill": {
     "duration": 0.028803,
     "end_time": "2024-06-10T07:15:25.386003",
     "exception": false,
     "start_time": "2024-06-10T07:15:25.357200",
     "status": "completed"
    },
    "tags": [
     "hide-input"
    ]
   },
   "outputs": [
    {
     "data": {
      "text/html": [
       "<div>\n",
       "<style scoped>\n",
       "    .dataframe tbody tr th:only-of-type {\n",
       "        vertical-align: middle;\n",
       "    }\n",
       "\n",
       "    .dataframe tbody tr th {\n",
       "        vertical-align: top;\n",
       "    }\n",
       "\n",
       "    .dataframe thead th {\n",
       "        text-align: right;\n",
       "    }\n",
       "</style>\n",
       "<table border=\"1\" class=\"dataframe\">\n",
       "  <thead>\n",
       "    <tr style=\"text-align: right;\">\n",
       "      <th></th>\n",
       "      <th>subset</th>\n",
       "      <th>valid_fake_na</th>\n",
       "      <th>test_fake_na</th>\n",
       "    </tr>\n",
       "    <tr>\n",
       "      <th>model</th>\n",
       "      <th>metric_name</th>\n",
       "      <th></th>\n",
       "      <th></th>\n",
       "    </tr>\n",
       "  </thead>\n",
       "  <tbody>\n",
       "    <tr>\n",
       "      <th rowspan=\"4\" valign=\"top\">Median</th>\n",
       "      <th>MSE</th>\n",
       "      <td>0.766</td>\n",
       "      <td>0.776</td>\n",
       "    </tr>\n",
       "    <tr>\n",
       "      <th>MAE</th>\n",
       "      <td>0.598</td>\n",
       "      <td>0.602</td>\n",
       "    </tr>\n",
       "    <tr>\n",
       "      <th>N</th>\n",
       "      <td>12,600.000</td>\n",
       "      <td>12,600.000</td>\n",
       "    </tr>\n",
       "    <tr>\n",
       "      <th>prop</th>\n",
       "      <td>1.000</td>\n",
       "      <td>1.000</td>\n",
       "    </tr>\n",
       "  </tbody>\n",
       "</table>\n",
       "</div>"
      ],
      "text/plain": [
       "subset              valid_fake_na  test_fake_na\n",
       "model  metric_name                             \n",
       "Median MSE                  0.766         0.776\n",
       "       MAE                  0.598         0.602\n",
       "       N               12,600.000    12,600.000\n",
       "       prop                 1.000         1.000"
      ]
     },
     "execution_count": 29,
     "metadata": {},
     "output_type": "execute_result"
    }
   ],
   "source": [
    "metrics_df = models.get_df_from_nested_dict(d_metrics.metrics, column_levels=['model', 'metric_name']).T\n",
    "metrics_df"
   ]
  },
  {
   "cell_type": "markdown",
   "id": "def60306",
   "metadata": {
    "papermill": {
     "duration": 0.013525,
     "end_time": "2024-06-10T07:15:25.414993",
     "exception": false,
     "start_time": "2024-06-10T07:15:25.401468",
     "status": "completed"
    },
    "tags": []
   },
   "source": [
    "## Save predictions"
   ]
  },
  {
   "cell_type": "code",
   "execution_count": 30,
   "id": "225dc1f0",
   "metadata": {
    "execution": {
     "iopub.execute_input": "2024-06-10T07:15:25.448461Z",
     "iopub.status.busy": "2024-06-10T07:15:25.448123Z",
     "iopub.status.idle": "2024-06-10T07:15:25.567741Z",
     "shell.execute_reply": "2024-06-10T07:15:25.566854Z"
    },
    "papermill": {
     "duration": 0.139358,
     "end_time": "2024-06-10T07:15:25.570314",
     "exception": false,
     "start_time": "2024-06-10T07:15:25.430956",
     "status": "completed"
    },
    "tags": [
     "hide-input"
    ]
   },
   "outputs": [],
   "source": [
    "# val\n",
    "fname = args.out_preds / f\"pred_val_{args.model_key}.csv\"\n",
    "setattr(args, fname.stem, fname.as_posix())  # add [] assignment?\n",
    "val_pred_fake_na.to_csv(fname)\n",
    "# test\n",
    "fname = args.out_preds / f\"pred_test_{args.model_key}.csv\"\n",
    "setattr(args, fname.stem, fname.as_posix())\n",
    "test_pred_fake_na.to_csv(fname)"
   ]
  },
  {
   "cell_type": "markdown",
   "id": "d575ba68",
   "metadata": {
    "papermill": {
     "duration": 0.017322,
     "end_time": "2024-06-10T07:15:25.605123",
     "exception": false,
     "start_time": "2024-06-10T07:15:25.587801",
     "status": "completed"
    },
    "tags": []
   },
   "source": [
    "## Config"
   ]
  },
  {
   "cell_type": "code",
   "execution_count": 31,
   "id": "64a39dc2",
   "metadata": {
    "execution": {
     "iopub.execute_input": "2024-06-10T07:15:25.641259Z",
     "iopub.status.busy": "2024-06-10T07:15:25.640918Z",
     "iopub.status.idle": "2024-06-10T07:15:25.645830Z",
     "shell.execute_reply": "2024-06-10T07:15:25.645169Z"
    },
    "papermill": {
     "duration": 0.027373,
     "end_time": "2024-06-10T07:15:25.650047",
     "exception": false,
     "start_time": "2024-06-10T07:15:25.622674",
     "status": "completed"
    },
    "tags": [
     "hide-input"
    ]
   },
   "outputs": [
    {
     "data": {
      "text/plain": [
       "{}"
      ]
     },
     "execution_count": 31,
     "metadata": {},
     "output_type": "execute_result"
    }
   ],
   "source": [
    "figures  # switch to fnames?"
   ]
  },
  {
   "cell_type": "code",
   "execution_count": 32,
   "id": "14983bf9",
   "metadata": {
    "execution": {
     "iopub.execute_input": "2024-06-10T07:15:25.685968Z",
     "iopub.status.busy": "2024-06-10T07:15:25.685643Z",
     "iopub.status.idle": "2024-06-10T07:15:25.693603Z",
     "shell.execute_reply": "2024-06-10T07:15:25.692919Z"
    },
    "papermill": {
     "duration": 0.030073,
     "end_time": "2024-06-10T07:15:25.697706",
     "exception": false,
     "start_time": "2024-06-10T07:15:25.667633",
     "status": "completed"
    },
    "tags": [
     "hide-input"
    ]
   },
   "outputs": [
    {
     "data": {
      "text/plain": [
       "{'M': 1421,\n",
       " 'data': Path('runs/alzheimer_study/data'),\n",
       " 'file_format': 'csv',\n",
       " 'fn_rawfile_metadata': 'https://raw.githubusercontent.com/RasmussenLab/njab/HEAD/docs/tutorial/data/alzheimer/meta.csv',\n",
       " 'folder_experiment': Path('runs/alzheimer_study'),\n",
       " 'meta_cat_col': None,\n",
       " 'meta_date_col': None,\n",
       " 'model': 'Median',\n",
       " 'model_key': 'Median',\n",
       " 'n_params': 1421,\n",
       " 'out_figures': Path('runs/alzheimer_study/figures'),\n",
       " 'out_folder': Path('runs/alzheimer_study'),\n",
       " 'out_metrics': Path('runs/alzheimer_study'),\n",
       " 'out_models': Path('runs/alzheimer_study'),\n",
       " 'out_preds': Path('runs/alzheimer_study/preds'),\n",
       " 'pred_test_Median': 'runs/alzheimer_study/preds/pred_test_Median.csv',\n",
       " 'pred_val_Median': 'runs/alzheimer_study/preds/pred_val_Median.csv',\n",
       " 'sample_idx_position': 0,\n",
       " 'save_pred_real_na': True}"
      ]
     },
     "execution_count": 32,
     "metadata": {},
     "output_type": "execute_result"
    }
   ],
   "source": [
    "args.dump(fname=args.out_models / f\"model_config_{args.model_key}.yaml\")\n",
    "args"
   ]
  }
 ],
 "metadata": {
  "jupytext": {
   "formats": "ipynb,py:percent"
  },
  "kernelspec": {
   "display_name": "Python 3",
   "language": "python",
   "name": "python3"
  },
  "language_info": {
   "codemirror_mode": {
    "name": "ipython",
    "version": 3
   },
   "file_extension": ".py",
   "mimetype": "text/x-python",
   "name": "python",
   "nbconvert_exporter": "python",
   "pygments_lexer": "ipython3",
   "version": "3.8.19"
  },
  "papermill": {
   "default_parameters": {},
   "duration": 9.046388,
   "end_time": "2024-06-10T07:15:26.636805",
   "environment_variables": {},
   "exception": null,
   "input_path": "01_1_train_Median.ipynb",
   "output_path": "runs/alzheimer_study/01_1_train_Median.ipynb",
   "parameters": {
    "fn_rawfile_metadata": "https://raw.githubusercontent.com/RasmussenLab/njab/HEAD/docs/tutorial/data/alzheimer/meta.csv",
    "folder_experiment": "runs/alzheimer_study",
    "model": "Median",
    "model_key": "Median"
   },
   "start_time": "2024-06-10T07:15:17.590417",
   "version": "2.6.0"
  }
 },
 "nbformat": 4,
 "nbformat_minor": 5
}