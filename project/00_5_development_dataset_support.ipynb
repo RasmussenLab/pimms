{
 "cells": [
  {
   "cell_type": "markdown",
   "id": "ea31410b-bc16-4cf4-9a0b-d48fd463b8ff",
   "metadata": {},
   "source": [
    "# Support of dumped data"
   ]
  },
  {
   "cell_type": "code",
   "execution_count": null,
   "id": "22244800-d388-4395-a107-a6c5c2d5038f",
   "metadata": {},
   "outputs": [],
   "source": [
    "import numpy as np\n",
    "import pandas as pd\n",
    "import plotly.express as px\n",
    "\n",
    "import vaep # set formatting defaults"
   ]
  },
  {
   "cell_type": "markdown",
   "id": "5fe86eb0-ecda-46ef-9f1b-86fa1152a73d",
   "metadata": {},
   "source": [
    "## Parameters"
   ]
  },
  {
   "cell_type": "code",
   "execution_count": null,
   "id": "b8220ff5-8af8-4881-9411-c9164576a9fb",
   "metadata": {
    "tags": [
     "parameters"
    ]
   },
   "outputs": [],
   "source": [
    "support_json: str = 'data\\dev_datasets\\df_intensities_proteinGroups_long\\Q_Exactive_HF_X_Orbitrap_6070_support.json' # Path to json support file"
   ]
  },
  {
   "cell_type": "markdown",
   "id": "ebaf7373-cc81-4cfa-9dea-eb518c059c9a",
   "metadata": {},
   "source": [
    "## Completeness of samples"
   ]
  },
  {
   "cell_type": "code",
   "execution_count": null,
   "id": "82710205-39ff-44da-a4fe-9fbdb489ef4d",
   "metadata": {},
   "outputs": [],
   "source": [
    "support = pd.read_json(support_json, typ='series').sort_values().to_frame('no. of features')\n",
    "support.head()"
   ]
  },
  {
   "cell_type": "code",
   "execution_count": null,
   "id": "4656af82",
   "metadata": {},
   "outputs": [],
   "source": [
    "support.describe(percentiles=np.linspace(0.1,1,10))"
   ]
  },
  {
   "cell_type": "code",
   "execution_count": null,
   "id": "e623a270-4044-4b58-a0a5-036985cb5e38",
   "metadata": {},
   "outputs": [],
   "source": [
    "ax = support.plot(rot=90, figsize=(20,10), legend=False)\n",
    "ax.set_ylabel('number of features')\n",
    "ax.yaxis.set_major_formatter(\"{x:,.0f}\")"
   ]
  },
  {
   "cell_type": "code",
   "execution_count": null,
   "id": "e60e883a-570c-430f-a7b7-dd4acc1fc4c8",
   "metadata": {},
   "outputs": [],
   "source": [
    "px.line(support, height=1000)"
   ]
  },
  {
   "cell_type": "markdown",
   "id": "dec709da-23c9-48bd-b233-1e0c6b3bf0c8",
   "metadata": {},
   "source": [
    "The one with very few identification are mainly fractions of entire samples"
   ]
  }
 ],
 "metadata": {
  "kernelspec": {
   "display_name": "vaep",
   "language": "python",
   "name": "python3"
  },
  "language_info": {
   "codemirror_mode": {
    "name": "ipython",
    "version": 3
   },
   "file_extension": ".py",
   "mimetype": "text/x-python",
   "name": "python",
   "nbconvert_exporter": "python",
   "pygments_lexer": "ipython3",
   "version": "3.8.13"
  }
 },
 "nbformat": 4,
 "nbformat_minor": 5
}
