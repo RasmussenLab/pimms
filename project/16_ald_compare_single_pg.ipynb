{
 "cells": [
  {
   "cell_type": "markdown",
   "id": "53fbb5ed-e86e-44a5-ba62-eabcd7b48565",
   "metadata": {},
   "source": [
    "# Compare predictions between model and RSN\n",
    "\n",
    "- see differences in imputation for diverging cases\n",
    "- dumps top5"
   ]
  },
  {
   "cell_type": "code",
   "execution_count": null,
   "id": "4ffa9d4c-622f-46c3-847a-7f7474082ee4",
   "metadata": {},
   "outputs": [],
   "source": [
    "from pathlib import Path\n",
    "\n",
    "import matplotlib.pyplot as plt\n",
    "import pandas as pd\n",
    "\n",
    "import vaep\n",
    "import vaep.analyzers\n",
    "import vaep.io.datasplits\n",
    "import vaep.imputation\n",
    "\n",
    "logger = vaep.logging.setup_nb_logger()"
   ]
  },
  {
   "cell_type": "markdown",
   "id": "e3192d11-2db7-440c-a80d-7a2e10799895",
   "metadata": {},
   "source": [
    "## Parameters"
   ]
  },
  {
   "cell_type": "code",
   "execution_count": null,
   "id": "e6ab3869-cc83-47ed-8ce2-0c8a470b96a6",
   "metadata": {},
   "outputs": [],
   "source": [
    "# catch passed parameters\n",
    "args = None\n",
    "args = dict(globals()).keys()"
   ]
  },
  {
   "cell_type": "code",
   "execution_count": null,
   "id": "8edfd1e5-719d-4905-a441-4a2a8ac5b14c",
   "metadata": {
    "tags": [
     "parameters"
    ]
   },
   "outputs": [],
   "source": [
    "folder_experiment = 'runs/appl_ald_data/plasma/proteinGroups'\n",
    "model_key = 'vae'\n",
    "target = 'kleiner'\n",
    "out_folder = 'diff_analysis'\n",
    "file_format='pkl'"
   ]
  },
  {
   "cell_type": "code",
   "execution_count": null,
   "id": "b85c6c2a-146c-48bd-9d7b-1fe4eec8a6ae",
   "metadata": {
    "tags": []
   },
   "outputs": [],
   "source": [
    "params = vaep.nb.get_params(args, globals=globals())\n",
    "params"
   ]
  },
  {
   "cell_type": "code",
   "execution_count": null,
   "id": "8c833157-e36e-476b-a3bd-d604b962ef04",
   "metadata": {},
   "outputs": [],
   "source": [
    "args = vaep.nb.Config()\n",
    "args.folder_experiment = Path(params[\"folder_experiment\"])\n",
    "args = vaep.nb.add_default_paths(args, out_root=args.folder_experiment /\n",
    "                                 params[\"out_folder\"]/params[\"target\"]/params[\"model_key\"])\n",
    "args.update_from_dict(params)\n",
    "args"
   ]
  },
  {
   "cell_type": "code",
   "execution_count": null,
   "id": "bc408ac3-85cc-4b39-be77-5202b23bbef7",
   "metadata": {},
   "outputs": [],
   "source": [
    "files_in= dict(diff_analysis=(args.out_folder /\n",
    " f'diff_analysis_compare_methods.xlsx'))\n",
    "files_in"
   ]
  },
  {
   "cell_type": "markdown",
   "id": "1a7ac4c7-3e2c-4a2f-9807-a9b1a8f2245f",
   "metadata": {},
   "source": [
    "## Load data for different decisions"
   ]
  },
  {
   "cell_type": "code",
   "execution_count": null,
   "id": "bfe00a5d-f883-4188-873e-07c8490be206",
   "metadata": {},
   "outputs": [],
   "source": [
    "differences = pd.read_excel(files_in['diff_analysis'], sheet_name='differences', index_col=[0,1], header=[0,1])\n",
    "differences[('comp','diff_qvalue')]  = (differences[('RSN', 'qvalue')] - differences[('VAE', 'qvalue')]).abs()\n",
    "differences = differences.sort_values(('comp','diff_qvalue'), ascending=False)\n",
    "differences"
   ]
  },
  {
   "cell_type": "markdown",
   "id": "acd5f980-5f3a-4a75-8479-a65c595e5220",
   "metadata": {},
   "source": [
    "## Measurments"
   ]
  },
  {
   "cell_type": "code",
   "execution_count": null,
   "id": "7083535b-9a06-479e-9909-935d49311b00",
   "metadata": {},
   "outputs": [],
   "source": [
    "data = vaep.io.datasplits.DataSplits.from_folder(\n",
    "    args.data, file_format=args.file_format)\n",
    "data = pd.concat([data.train_X, data.val_y, data.test_y]).unstack()\n",
    "data"
   ]
  },
  {
   "cell_type": "code",
   "execution_count": null,
   "id": "cfd936e9-eb56-4fb7-8010-d68092b925ad",
   "metadata": {},
   "outputs": [],
   "source": [
    "pred_real_na_imputed_normal = vaep.imputation.impute_shifted_normal(\n",
    "    df_wide=data)\n",
    "pred_real_na_imputed_normal = pred_real_na_imputed_normal.unstack()\n",
    "pred_real_na_imputed_normal"
   ]
  },
  {
   "cell_type": "code",
   "execution_count": null,
   "id": "26ecc0ed-c550-4a40-802b-25962d7edf7e",
   "metadata": {},
   "outputs": [],
   "source": [
    "template = 'pred_real_na_{}.csv'\n",
    "fname = args.out_preds / template.format(args.model_key)\n",
    "pred_real_na = vaep.analyzers.compare_predictions.load_single_csv_pred_file(fname)\n",
    "pred_real_na = pred_real_na.unstack()\n",
    "pred_real_na.sample(3)"
   ]
  },
  {
   "cell_type": "code",
   "execution_count": null,
   "id": "a3294f6a-65f3-4793-ad0c-4dd8ff11be47",
   "metadata": {},
   "outputs": [],
   "source": [
    "idx =  differences.index[0]\n",
    "pg_selected, gene_selected = idx # top feat\n",
    "pg_selected, gene_selected"
   ]
  },
  {
   "cell_type": "code",
   "execution_count": null,
   "id": "ee17d5eb-a132-4616-b505-4a68efa0e9e5",
   "metadata": {},
   "outputs": [],
   "source": [
    "feat_observed = data[pg_selected].dropna()"
   ]
  },
  {
   "cell_type": "code",
   "execution_count": null,
   "id": "043395a7-fa33-490e-9d9c-f8071274f0b5",
   "metadata": {},
   "outputs": [],
   "source": [
    "# axes = axes.ravel()\n",
    "folder = args.out_folder / 'intensities_for_diff_in_DA_decision'\n",
    "folder.mkdir(parents=True, exist_ok=True)\n",
    "for idx in differences.index:\n",
    "    pg_selected, gene_selected = idx # top feat\n",
    "    pg_selected, gene_selected\n",
    "    fig, ax = plt.subplots()\n",
    "    dfs = [data[pg_selected].dropna(), pred_real_na[pg_selected].dropna(), pred_real_na_imputed_normal[pg_selected].dropna()]\n",
    "    \n",
    "    bins = None\n",
    "    ax = None\n",
    "    _series = dfs[0]\n",
    "    _series_vae = dfs[1]\n",
    "    _series_rsn = dfs[2]\n",
    "\n",
    "    ax =_series.hist(ax=ax, bins=bins, label=f'measured (N={len(_series):,d})', color='grey', alpha=0.6)\n",
    "    ax = _series_vae.hist(ax=ax,bins=bins, label=f'{args.model_key} (N={len(_series_vae):,d})', color='green', alpha=1)\n",
    "    ax = _series_rsn.hist(ax=ax,bins=bins, label=f'RSN (N={len(_series_rsn):,d})', color='red', alpha=0.8)\n",
    "\n",
    "    ax.set_title(f'compare imputed vs observed measurments for gene {gene_selected} having a total of {len(data)} samples')\n",
    "    ax.set_ylabel('count measurments')\n",
    "    _ = ax.legend()\n",
    "    vaep.savefig(fig, folder / f'gene_{gene_selected}_pg_{pg_selected.split(\";\")[0]}.pdf')"
   ]
  }
 ],
 "metadata": {
  "kernelspec": {
   "display_name": "Python 3",
   "language": "python",
   "name": "python3"
  },
  "language_info": {
   "codemirror_mode": {
    "name": "ipython",
    "version": 3
   },
   "file_extension": ".py",
   "mimetype": "text/x-python",
   "name": "python",
   "nbconvert_exporter": "python",
   "pygments_lexer": "ipython3",
   "version": "3.8.13"
  }
 },
 "nbformat": 4,
 "nbformat_minor": 5
}
