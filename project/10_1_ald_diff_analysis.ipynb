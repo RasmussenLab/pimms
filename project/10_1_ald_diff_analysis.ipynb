{
 "cells": [
  {
   "cell_type": "markdown",
   "metadata": {},
   "source": [
    "# Differential Analysis - Compare model imputation with standard imputation\n",
    "\n",
    "- load missing values predictions\n",
    "- leave all other values as they were\n",
    "- compare missing values predicition by model with baseline method \n",
    "  (default: draw from shifted normal distribution. short RSN)"
   ]
  },
  {
   "cell_type": "code",
   "execution_count": null,
   "metadata": {},
   "outputs": [],
   "source": [
    "from pathlib import Path\n",
    "import matplotlib.pyplot as plt\n",
    "\n",
    "import pandas as pd\n",
    "\n",
    "import vaep\n",
    "import vaep.analyzers\n",
    "import vaep.io.datasplits\n",
    "import vaep.imputation\n",
    "import vaep.stats\n",
    "\n",
    "import vaep.nb\n",
    "\n",
    "logger = vaep.logging.setup_nb_logger()"
   ]
  },
  {
   "cell_type": "code",
   "execution_count": null,
   "metadata": {},
   "outputs": [],
   "source": [
    "# catch passed parameters\n",
    "args = None\n",
    "args = dict(globals()).keys()"
   ]
  },
  {
   "cell_type": "markdown",
   "metadata": {},
   "source": [
    "## Parameters"
   ]
  },
  {
   "cell_type": "code",
   "execution_count": null,
   "metadata": {
    "lines_to_next_cell": 2,
    "tags": [
     "parameters"
    ]
   },
   "outputs": [],
   "source": [
    "folder_experiment = \"runs/appl_ald_data/plasma/proteinGroups\"\n",
    "folder_data: str = ''  # specify data directory if needed\n",
    "fn_clinical_data = \"data/ALD_study/processed/ald_metadata_cli.csv\"\n",
    "fn_qc_samples = '' #'data/ALD_study/processed/qc_plasma_proteinGroups.pkl'\n",
    "\n",
    "\n",
    "target: str = 'kleiner'\n",
    "covar:str = 'age,bmi,gender_num,nas_steatosis_ordinal,abstinent_num'\n",
    "\n",
    "file_format = \"csv\"\n",
    "model_key = 'VAE' # model(s) to evaluate\n",
    "baseline = 'RSN' # default is RSN, but could be any other trained model\n",
    "value_name='intensity'\n",
    "out_folder='diff_analysis'\n",
    "template_pred = 'pred_real_na_{}.csv' # fixed, do not change"
   ]
  },
  {
   "cell_type": "code",
   "execution_count": null,
   "metadata": {},
   "outputs": [],
   "source": [
    "params = vaep.nb.get_params(args, globals=globals(), remove=True)\n",
    "params"
   ]
  },
  {
   "cell_type": "code",
   "execution_count": null,
   "metadata": {},
   "outputs": [],
   "source": [
    "args = vaep.nb.Config()\n",
    "args.fn_clinical_data = Path(params[\"fn_clinical_data\"])\n",
    "args.folder_experiment = Path(params[\"folder_experiment\"])\n",
    "args = vaep.nb.add_default_paths(args,\n",
    "                                 out_root=(args.folder_experiment\n",
    "                                           / params[\"out_folder\"]\n",
    "                                           / params[\"target\"]\n",
    "                                           ))\n",
    "args.covar = params[\"covar\"].split(',')\n",
    "args.update_from_dict(params)\n",
    "args"
   ]
  },
  {
   "cell_type": "markdown",
   "metadata": {},
   "source": [
    "Outputs of this notebook will be stored here"
   ]
  },
  {
   "cell_type": "code",
   "execution_count": null,
   "metadata": {},
   "outputs": [],
   "source": [
    "args.out_folder"
   ]
  },
  {
   "cell_type": "markdown",
   "metadata": {},
   "source": [
    "# Data"
   ]
  },
  {
   "cell_type": "markdown",
   "metadata": {},
   "source": [
    "## MS proteomics"
   ]
  },
  {
   "cell_type": "code",
   "execution_count": null,
   "metadata": {},
   "outputs": [],
   "source": [
    "data = vaep.io.datasplits.DataSplits.from_folder(\n",
    "    args.data, file_format=args.file_format)"
   ]
  },
  {
   "cell_type": "code",
   "execution_count": null,
   "metadata": {},
   "outputs": [],
   "source": [
    "observed = pd.concat([data.train_X, data.val_y, data.test_y])\n",
    "observed"
   ]
  },
  {
   "cell_type": "markdown",
   "metadata": {},
   "source": [
    "## Clinical data"
   ]
  },
  {
   "cell_type": "code",
   "execution_count": null,
   "metadata": {},
   "outputs": [],
   "source": [
    "df_clinic = pd.read_csv(args.fn_clinical_data, index_col=0)\n",
    "df_clinic = df_clinic.loc[observed.index.levels[0]]\n",
    "cols_clinic = vaep.pandas.get_columns_accessor(df_clinic) # pick Berlin as reference?\n",
    "df_clinic[[args.target, *args.covar]].describe()"
   ]
  },
  {
   "cell_type": "markdown",
   "metadata": {},
   "source": [
    "Entries with missing values\n",
    "- see how many rows have one missing values (for target and covariates)\n",
    "- only complete data is used for Differential Analysis\n",
    "- covariates are not imputed"
   ]
  },
  {
   "cell_type": "code",
   "execution_count": null,
   "metadata": {},
   "outputs": [],
   "source": [
    "df_clinic[[args.target, *args.covar]].isna().any(axis=1).sum()"
   ]
  },
  {
   "cell_type": "markdown",
   "metadata": {},
   "source": [
    "Data description of data used:"
   ]
  },
  {
   "cell_type": "code",
   "execution_count": null,
   "metadata": {},
   "outputs": [],
   "source": [
    "idx_complete_data = df_clinic[[args.target, *args.covar]].dropna().index\n",
    "df_clinic.loc[idx_complete_data, [args.target, *args.covar]].describe()"
   ]
  },
  {
   "cell_type": "code",
   "execution_count": null,
   "id": "7d96716e",
   "metadata": {},
   "outputs": [],
   "source": [
    "df_clinic.loc[idx_complete_data, args.target].value_counts()"
   ]
  },
  {
   "cell_type": "markdown",
   "metadata": {},
   "source": [
    "## ALD study approach using all measurments"
   ]
  },
  {
   "cell_type": "code",
   "execution_count": null,
   "metadata": {},
   "outputs": [],
   "source": [
    "DATA_COMPLETENESS = 0.6\n",
    "# MIN_N_PROTEIN_GROUPS: int = 200\n",
    "FRAC_PROTEIN_GROUPS: int = 0.622\n",
    "CV_QC_SAMPLE: float = 0.4 # Coef. of variation on 13 QC samples\n",
    "\n",
    "ald_study, cutoffs = vaep.analyzers.diff_analysis.select_raw_data(observed.unstack(\n",
    "), data_completeness=DATA_COMPLETENESS, frac_protein_groups=FRAC_PROTEIN_GROUPS)\n",
    "\n",
    "ald_study"
   ]
  },
  {
   "cell_type": "code",
   "execution_count": null,
   "metadata": {},
   "outputs": [],
   "source": [
    "if args.fn_qc_samples:\n",
    "    # Move this to data-preprocessing\n",
    "    qc_samples = pd.read_pickle(args.fn_qc_samples)\n",
    "    qc_cv_feat = qc_samples.std() / qc_samples.mean()\n",
    "    qc_cv_feat = qc_cv_feat.rename(qc_samples.columns.name)\n",
    "    fig, ax = plt.subplots(figsize=(4,7))\n",
    "    ax = qc_cv_feat.plot.box(ax=ax)\n",
    "    ax.set_ylabel('Coefficient of Variation')\n",
    "    vaep.savefig(fig, name='cv_qc_samples', folder=args.out_figures)\n",
    "    print((qc_cv_feat < CV_QC_SAMPLE).value_counts())\n",
    "    # only to ald_study data\n",
    "    ald_study = ald_study[vaep.analyzers.diff_analysis.select_feat(qc_samples[ald_study.columns])]\n",
    "    \n",
    "ald_study"
   ]
  },
  {
   "cell_type": "code",
   "execution_count": null,
   "metadata": {},
   "outputs": [],
   "source": [
    "freq_feat = observed.unstack().notna().sum()\n",
    "freq_feat.name = 'frequency'\n",
    "fname = args.folder_experiment / 'freq_features_observed.csv'\n",
    "logger.info(fname)\n",
    "freq_feat.to_csv(fname)\n",
    "freq_feat"
   ]
  },
  {
   "cell_type": "code",
   "execution_count": null,
   "metadata": {
    "lines_to_next_cell": 2
   },
   "outputs": [],
   "source": [
    "fig, axes = vaep.plotting.plot_cutoffs(observed.unstack(),\n",
    "             feat_completness_over_samples=cutoffs.feat_completness_over_samples,\n",
    "             min_feat_in_sample=cutoffs.min_feat_in_sample)\n",
    "vaep.savefig(fig, name='tresholds_normal_imputation', folder=args.out_figures)"
   ]
  },
  {
   "cell_type": "markdown",
   "metadata": {},
   "source": [
    "## load model predictions for (real) missing data"
   ]
  },
  {
   "cell_type": "code",
   "execution_count": null,
   "metadata": {},
   "outputs": [],
   "source": [
    "list(args.out_preds.iterdir())"
   ]
  },
  {
   "cell_type": "code",
   "execution_count": null,
   "id": "a0904ba3",
   "metadata": {},
   "outputs": [],
   "source": [
    "template_pred = str(args.out_preds / args.template_pred)\n",
    "template_pred"
   ]
  },
  {
   "cell_type": "code",
   "execution_count": null,
   "metadata": {},
   "outputs": [],
   "source": [
    "fname = args.out_preds / args.template_pred.format(args.model_key)\n",
    "fname "
   ]
  },
  {
   "cell_type": "markdown",
   "id": "6e514a17",
   "metadata": {
    "lines_to_next_cell": 0
   },
   "source": [
    "Baseline comparison\n",
    "In case of RSN -> use filtering as done in original paper (Niu et al. 2022)\n",
    "otherwise -> use all data\n",
    "\n",
    "- use columns which are provided by model"
   ]
  },
  {
   "cell_type": "code",
   "execution_count": null,
   "metadata": {
    "lines_to_next_cell": 2
   },
   "outputs": [],
   "source": [
    "# ALD study approach -> has access to simulated missing data!\n",
    "# (VAE model did not see this data)\n",
    "pred_real_na = None\n",
    "if args.model_key == 'RSN':\n",
    "    pred_real_na = vaep.imputation.impute_shifted_normal(\n",
    "        ald_study)\n",
    "    pred_real_na.to_csv(fname)\n",
    "elif args.model_key:\n",
    "    pred_real_na = (vaep\n",
    "                    .analyzers\n",
    "                    .compare_predictions\n",
    "                    .load_single_csv_pred_file(fname)\n",
    "                    )\n",
    "else:\n",
    "    logger.info('No model key provided -> no imputation of data.')\n",
    "pred_real_na"
   ]
  },
  {
   "cell_type": "markdown",
   "metadata": {
    "lines_to_next_cell": 2
   },
   "source": [
    "plot subsets to highlight differences"
   ]
  },
  {
   "cell_type": "code",
   "execution_count": null,
   "metadata": {},
   "outputs": [],
   "source": [
    "def plot_distributions(observed: pd.Series,\n",
    "                       imputation: pd.Series = None,\n",
    "                       model_key: str = 'MODEL',\n",
    "                       figsize=(4,3),\n",
    "                       sharex=True):\n",
    "    \"\"\"Plots distributions of intensities provided as dictionary of labels to pd.Series.\"\"\"\n",
    "    series_ = [observed, imputation] if imputation is not None else [observed]\n",
    "    min_bin, max_bin = vaep.plotting.data.get_min_max_iterable(series_)\n",
    "\n",
    "    if imputation is not None:\n",
    "        fig, axes = plt.subplots(len(series_), figsize=figsize, sharex=sharex)\n",
    "        ax = axes[0]\n",
    "    else:\n",
    "        fig, ax = plt.subplots(1, figsize=figsize, sharex=sharex)\n",
    "\n",
    "    bins = range(min_bin, max_bin+1, 1)\n",
    "    \n",
    "    label = 'observed measurments'\n",
    "    ax = observed.hist(ax=ax, bins=bins, color='grey')\n",
    "    ax.set_title(f'{label} (N={len(observed):,d})')\n",
    "    ax.set_ylabel('observations')\n",
    "    ax.locator_params(axis='y', integer=True)\n",
    "    ax.yaxis.set_major_formatter(\"{x:,.0f}\")\n",
    "\n",
    "\n",
    "    if imputation is not None:\n",
    "        ax = axes[1]\n",
    "        label = f'Missing values imputed using {model_key.upper()}'\n",
    "        ax = imputation.hist(ax=ax,bins=bins, color=f'C{1}')\n",
    "        ax.set_title(f'{label} (N={len(imputation):,d})')\n",
    "        ax.set_ylabel('observations')\n",
    "        ax.locator_params(axis='y', integer=True)\n",
    "        ax.yaxis.set_major_formatter(\"{x:,.0f}\")\n",
    "    return fig\n",
    "\n",
    "\n",
    "vaep.plotting.make_large_descriptors(5)\n",
    "fig = plot_distributions(observed,\n",
    "                         imputation=pred_real_na,\n",
    "                         model_key=args.model_key, figsize=(2.5, 2))\n",
    "fname = args.out_folder / 'dist_plots' / f'real_na_obs_vs_{args.model_key}.pdf'\n",
    "vaep.savefig(fig, name=fname)"
   ]
  },
  {
   "cell_type": "markdown",
   "metadata": {},
   "source": [
    "## Mean shift by model"
   ]
  },
  {
   "cell_type": "code",
   "execution_count": null,
   "metadata": {},
   "outputs": [],
   "source": [
    "if pred_real_na is not None:\n",
    "    shifts = (vaep.imputation.compute_moments_shift(observed, pred_real_na,\n",
    "                                                        names=('observed', args.model_key)))\n",
    "    display(pd.DataFrame(shifts).T)"
   ]
  },
  {
   "cell_type": "markdown",
   "metadata": {},
   "source": [
    "Or by averaging over the calculation by sample"
   ]
  },
  {
   "cell_type": "code",
   "execution_count": null,
   "metadata": {},
   "outputs": [],
   "source": [
    "if pred_real_na is not None:\n",
    "    index_level = 0  # per sample\n",
    "    mean_by_sample = pd.DataFrame(\n",
    "        {'observed': vaep.imputation.stats_by_level(observed, index_level=index_level),\n",
    "        args.model_key: vaep.imputation.stats_by_level(pred_real_na, index_level=index_level)\n",
    "    })\n",
    "    mean_by_sample.loc['mean_shift'] = (mean_by_sample.loc['mean', 'observed'] -\n",
    "                                        mean_by_sample.loc['mean']).abs() / mean_by_sample.loc['std', 'observed']\n",
    "    mean_by_sample.loc['std shrinkage'] = mean_by_sample.loc['std'] / \\\n",
    "        mean_by_sample.loc['std', 'observed']\n",
    "    display(mean_by_sample)"
   ]
  },
  {
   "cell_type": "markdown",
   "metadata": {},
   "source": [
    "# Differential analysis\n",
    "Impute missing values (or not)"
   ]
  },
  {
   "cell_type": "code",
   "execution_count": null,
   "metadata": {},
   "outputs": [],
   "source": [
    "df = pd.concat([observed, pred_real_na]).unstack()\n",
    "df.loc[idx_complete_data]"
   ]
  },
  {
   "cell_type": "code",
   "execution_count": null,
   "metadata": {},
   "outputs": [],
   "source": [
    "# if some features were not imputed -> drop them\n",
    "# could be changed: let a model decide if a feature should be imputed, otherwise don't.\n",
    "if pred_real_na is not None:\n",
    "    if df.isna().sum().sum():\n",
    "        logger.warning(\"DataFrame has missing entries after imputation.\")\n",
    "        logger.info(\"Drop columns with missing values.\")\n",
    "    df = df.dropna(axis=1)"
   ]
  },
  {
   "cell_type": "markdown",
   "metadata": {
    "lines_to_next_cell": 0
   },
   "source": [
    "Targets - Clinical variables"
   ]
  },
  {
   "cell_type": "code",
   "execution_count": null,
   "metadata": {
    "lines_to_next_cell": 2
   },
   "outputs": [],
   "source": [
    "scores = vaep.stats.diff_analysis.analyze(df_proteomics=df,\n",
    "        df_clinic=df_clinic,\n",
    "        target=args.target,\n",
    "        covar=args.covar,\n",
    "        value_name=args.value_name)\n",
    "\n",
    "scores.columns = pd.MultiIndex.from_product([[str(args.model_key)], scores.columns],\n",
    "                                            names=('model', 'var'))\n",
    "scores.loc[pd.IndexSlice[:, args.target], :]"
   ]
  },
  {
   "cell_type": "code",
   "execution_count": null,
   "metadata": {
    "lines_to_next_cell": 2
   },
   "outputs": [],
   "source": [
    "fname = args.out_folder/ 'scores' / f'diff_analysis_scores_{str(args.model_key)}.pkl'\n",
    "fname.parent.mkdir(exist_ok=True, parents=True)\n",
    "scores.to_pickle(fname)\n",
    "fname"
   ]
  },
  {
   "cell_type": "code",
   "execution_count": null,
   "metadata": {},
   "outputs": [],
   "source": [
    "list(args.out_folder.iterdir())"
   ]
  },
  {
   "cell_type": "code",
   "execution_count": null,
   "id": "d3734882",
   "metadata": {},
   "outputs": [],
   "source": []
  }
 ],
 "metadata": {
  "kernelspec": {
   "display_name": "Python 3",
   "language": "python",
   "name": "python3"
  },
  "language_info": {
   "codemirror_mode": {
    "name": "ipython",
    "version": 3
   },
   "file_extension": ".py",
   "mimetype": "text/x-python",
   "name": "python",
   "nbconvert_exporter": "python",
   "pygments_lexer": "ipython3",
   "version": "3.8.13"
  },
  "vscode": {
   "interpreter": {
    "hash": "cf83e9cb890c7f96eb0ae04f39a82254555f56a1a0ed2f03b23a8b40fe6cd31c"
   }
  }
 },
 "nbformat": 4,
 "nbformat_minor": 4
}
