{
 "cells": [
  {
   "cell_type": "markdown",
   "id": "f0e1208b-9b36-4294-b3fd-910e05a82f2e",
   "metadata": {},
   "source": [
    "# Latent space visualization"
   ]
  },
  {
   "cell_type": "code",
   "execution_count": null,
   "id": "18b5d571-2956-4112-b22c-43d6c2146b06",
   "metadata": {},
   "outputs": [],
   "source": [
    "import logging\n",
    "from pathlib import Path\n",
    "from pprint import pprint\n",
    "from src.nb_imports import *\n",
    "\n",
    "\n",
    "from fastai.losses import MSELossFlat\n",
    "from fastai.learner import Learner\n",
    "\n",
    "\n",
    "import fastai\n",
    "# from fastai.tabular.all import *\n",
    "\n",
    "from fastai.basics import *\n",
    "from fastai.callback.all import *\n",
    "from fastai.torch_basics import *\n",
    "from fastai.data.all import *\n",
    "\n",
    "from fastai.tabular.all import *\n",
    "from fastai.collab import *\n",
    "\n",
    "# import fastai.callback.hook # Learner.summary\n",
    "\n",
    "import sklearn\n",
    "from sklearn.impute import SimpleImputer\n",
    "from sklearn.preprocessing import StandardScaler\n",
    "from sklearn.preprocessing import MinMaxScaler\n",
    "\n",
    "import vaep\n",
    "from vaep.models import ae\n",
    "from vaep.io.datasets import DatasetWithTarget\n",
    "from vaep.transform import VaepPipeline\n",
    "from vaep.io import datasplits\n",
    "from vaep.io.dataloaders import get_dls, get_test_dl\n",
    "\n",
    "import src\n",
    "import src.analyzers as analyzers\n",
    "from src import config\n",
    "from src.logging import setup_logger\n",
    "logger = setup_logger(logger=logging.getLogger('vaep'))\n",
    "logger.info(\"Experiment 03 - Analysis of latent spaces and performance comparisions\")\n",
    "\n",
    "figures = {}  # collection of ax or figures"
   ]
  },
  {
   "cell_type": "markdown",
   "id": "43f062bb-8d2c-4afa-8a81-9e2a328050fe",
   "metadata": {},
   "source": [
    "Papermill script parameters:"
   ]
  },
  {
   "cell_type": "code",
   "execution_count": null,
   "id": "297f14bc-3c37-43fa-8217-f790f0593d78",
   "metadata": {
    "tags": [
     "parameters"
    ]
   },
   "outputs": [],
   "source": [
    "# folders\n",
    "data:str = 'data/msinstrument_in_QE4'\n",
    "out_folder:str = 'experiment_14'\n",
    "# training\n",
    "n_training_samples_max:int = 1000\n",
    "epochs_max:int = 10\n",
    "batch_size:int = 32\n",
    "cuda:bool=True\n",
    "# model\n",
    "latent_dim:int = 10\n",
    "hidden_layers:int = 1"
   ]
  },
  {
   "cell_type": "markdown",
   "id": "1da8e04b-2eb2-4ecb-b1d1-2de871cd0a56",
   "metadata": {},
   "source": [
    "Some argument transformations"
   ]
  },
  {
   "cell_type": "code",
   "execution_count": null,
   "id": "a7d8b3ee-48d9-40f7-8a92-579fc2e817db",
   "metadata": {},
   "outputs": [],
   "source": [
    "args = config.Config()\n",
    "args.data = Path(data); del data\n",
    "args.out_folder = Path(out_folder); del out_folder\n",
    "args.n_training_samples_max = n_training_samples_max; del n_training_samples_max\n",
    "args.epochs_max = epochs_max; del epochs_max\n",
    "args.batch_size = batch_size; del batch_size\n",
    "args.cuda = cuda; del cuda\n",
    "args.latent_dim = latent_dim; del latent_dim\n",
    "args.hidden_layers = hidden_layers; del hidden_layers\n",
    "\n",
    "args"
   ]
  },
  {
   "cell_type": "markdown",
   "id": "976cc005-0c5f-4e88-9656-c549e613ca68",
   "metadata": {},
   "source": [
    "## Load data in long format"
   ]
  },
  {
   "cell_type": "code",
   "execution_count": null,
   "id": "6d9cc7bd-6b6f-40b9-8db7-c8228e4b03e3",
   "metadata": {},
   "outputs": [],
   "source": [
    "data = datasplits.DataSplits.from_folder(args.data) \n",
    "# select max_train_samples"
   ]
  },
  {
   "cell_type": "markdown",
   "id": "5a63d930-7b68-4759-9090-e6c9c8112786",
   "metadata": {},
   "source": [
    "- data representation not to easy yet\n",
    "- should validation and test y (the imputed cases using replicates) be only generated in an application to \n",
    "  keep unmanipulated data separate from imputed values?"
   ]
  },
  {
   "cell_type": "code",
   "execution_count": null,
   "id": "82835aff-fb85-498a-91f3-565634aa5c5b",
   "metadata": {},
   "outputs": [],
   "source": [
    "# data # uncommet to see current representation"
   ]
  },
  {
   "cell_type": "markdown",
   "id": "3ca12fc2-bf34-42ac-99b2-a78ff9fe7722",
   "metadata": {},
   "source": [
    "data is loaded in long format"
   ]
  },
  {
   "cell_type": "code",
   "execution_count": null,
   "id": "02bb6bf5-0eb1-4c73-9723-414b14eaf7c8",
   "metadata": {},
   "outputs": [],
   "source": [
    "data.train_X.sample(5)"
   ]
  },
  {
   "cell_type": "markdown",
   "id": "a7ef773a-5588-4b11-9bd7-840b628eeaff",
   "metadata": {},
   "source": [
    "## Initialize Comparison\n",
    "\n",
    "- replicates idea for truely missing values: Define truth as by using n=3 replicates to impute\n",
    "  each sample\n",
    "- real test data: Not used for predictions or early stopping."
   ]
  },
  {
   "cell_type": "code",
   "execution_count": null,
   "id": "af21e64b-de62-413d-a755-2e26bcbe89b9",
   "metadata": {},
   "outputs": [],
   "source": [
    "# data.test_y\n",
    "test_pred_real_na = data.interpolate('test_X') # \"gold standard\"\n",
    "# data.test_y.index.difference(test_predictions_real_na.index) # empty\n",
    "# test_predictions_real_na.compare(data.test_y) # some wiered bug, maybe due to multi-index?\n",
    "# are indices exactly the same? seems so\n",
    "# sorting values and visual inspection: the values seem to be the same\n",
    "# conclusions: floating point differences, which can be savely ignored\n",
    "assert abs((test_pred_real_na - data.test_y).sum()) < 0.000001\n",
    "\n",
    "\n",
    "test_pred_real_na = test_pred_real_na.to_frame(name='replicated')\n",
    "# test_pred_real_na = data.test_y\n",
    "test_pred_real_na.sort_index(inplace=True)\n",
    "test_pred_real_na"
   ]
  },
  {
   "cell_type": "code",
   "execution_count": null,
   "id": "35d07aeb-038b-4161-acb6-39ec4487c0d5",
   "metadata": {},
   "outputs": [],
   "source": [
    "test_pred_observed = data.test_X.to_frame('measured')\n",
    "test_pred_observed.sort_index(inplace=True)"
   ]
  },
  {
   "cell_type": "code",
   "execution_count": null,
   "id": "3857b097-d67e-4dde-821a-d12d488e0987",
   "metadata": {},
   "outputs": [],
   "source": [
    "ana_train_X = analyzers.AnalyzePeptides(data=data.train_X, is_wide_format=False, ind_unstack='peptide')\n",
    "# ana_train_X.df.set_index('peptide', append=True, inplace=True)\n",
    "# ana_train_X.df.reset_index(inplace=True)\n",
    "figures['pca_train'] = ana_train_X.plot_pca()\n",
    "vaep.savefig(figures['pca_train'], args.out_folder / f'pca_plot_raw_data_{ana_train_X.fname_stub}')"
   ]
  },
  {
   "cell_type": "markdown",
   "id": "d00ea8e9-7f48-4f72-b013-7010666aa1a2",
   "metadata": {},
   "source": [
    "## Collaborative Filtering"
   ]
  },
  {
   "cell_type": "code",
   "execution_count": null,
   "id": "24233862-ea7d-4f6e-b47c-83fdabffef88",
   "metadata": {},
   "outputs": [],
   "source": [
    "# class CollabAnalysis(Analysis):   \n",
    "#     def __init__(datasplits:DataSplits,\n",
    "#                  sample_column='Sample ID',\n",
    "#                  item_column='peptide',\n",
    "#                  target_column='intensity')\n",
    "    \n",
    "ana_collab = Analysis()\n",
    "ana_collab.X = data.train_X.append(data.val_X).reset_index()\n",
    "\n",
    "# idx_splitter = IndexSplitter(list(range(len(data.train_X), len(data.train_X)+ len(data.val_X) )))\n",
    "# splits = idx_splitter(ana_collab.X)\n",
    "def get_splits(train_df, val_df):\n",
    "    N_train, N_valid = len(train_df), len(val_df)\n",
    "    return [list(range(0, N_train)), list(range(N_train, N_train, N_valid))]\n",
    "\n",
    "splits = get_splits(data.train_X, data.val_X)\n",
    "to = TabularCollab(df=ana_collab.X,\n",
    "                   procs=[Categorify],\n",
    "                   cat_names=['Sample ID','peptide'],\n",
    "                   y_names=['intensity'],\n",
    "                   y_block=TransformBlock(),\n",
    "                   splits=splits)\n",
    "ana_collab.dls = to.dataloaders(path='.')"
   ]
  },
  {
   "cell_type": "code",
   "execution_count": null,
   "id": "12ffa243-151e-4220-a1d5-247f8aba3429",
   "metadata": {},
   "outputs": [],
   "source": [
    "ana_collab.cat_columns = 'peptide,Sample ID'.split(',') \n",
    "ana_collab.target_column = 'intensity'.split(',') \n",
    "\n",
    "ana_collab.model_kwargs = dict()\n",
    "ana_collab.model_kwargs['n_samples'] = len(ana_collab.dls.classes['Sample ID'])\n",
    "ana_collab.model_kwargs['n_peptides'] = len(ana_collab.dls.classes['peptide'])\n",
    "ana_collab.model_kwargs['dim_latent_factors'] = args.latent_dim\n",
    "ana_collab.model_kwargs['y_range'] = (\n",
    "    int(data.train_X.min()),\n",
    "    int(data.train_X.max())+1)\n",
    "print(\"Args:\")\n",
    "pprint(ana_collab.model_kwargs)"
   ]
  },
  {
   "cell_type": "code",
   "execution_count": null,
   "id": "4a02e061-6789-4f3d-8031-a40879c496c8",
   "metadata": {},
   "outputs": [],
   "source": [
    "# model = EmbeddingDotBias.from_classes(**ana_collab.model_kwargs)\n",
    "model = EmbeddingDotBias.from_classes(\n",
    "    n_factors=ana_collab.model_kwargs['dim_latent_factors'],\n",
    "    classes=ana_collab.dls.classes,\n",
    "    y_range=ana_collab.model_kwargs['y_range'])\n",
    "learn = Learner(dls=ana_collab.dls, model=model, loss_func=MSELossFlat())\n",
    "if args.cuda:\n",
    "    learn.cuda()\n",
    "learn.summary()"
   ]
  },
  {
   "cell_type": "markdown",
   "id": "f82a7346-0b44-44a4-b995-d655e05656f8",
   "metadata": {},
   "source": [
    "## Training"
   ]
  },
  {
   "cell_type": "markdown",
   "id": "49eced7a-6cd7-414e-b974-4bd1dbe3a787",
   "metadata": {},
   "source": [
    "## Data in wide format\n",
    "\n",
    "- Autoencoder need data in wide format"
   ]
  },
  {
   "cell_type": "code",
   "execution_count": null,
   "id": "cff8caf4-ccc9-4a36-a992-2cc596abe51a",
   "metadata": {},
   "outputs": [],
   "source": [
    "data.to_wide_format()\n",
    "data.val_X.head()"
   ]
  },
  {
   "cell_type": "markdown",
   "id": "f65a44eb-47bf-4bfa-914f-cc6bcadaeee3",
   "metadata": {},
   "source": [
    "## Denoising Autoencoder"
   ]
  },
  {
   "cell_type": "markdown",
   "id": "8d839950-bbc3-4572-bd51-fcbd0c3a0d72",
   "metadata": {},
   "source": [
    "### DataLoaders"
   ]
  },
  {
   "cell_type": "code",
   "execution_count": null,
   "id": "7bbed0af-64bd-45d8-9be2-5b856cb25cce",
   "metadata": {},
   "outputs": [],
   "source": [
    "dae_default_pipeline = sklearn.pipeline.Pipeline(\n",
    "    [\n",
    "        ('normalize', StandardScaler()),\n",
    "        ('impute', SimpleImputer(add_indicator=False))\n",
    "    ])\n",
    "\n",
    "dae_transforms = VaepPipeline(\n",
    "    df_train=data.train_X, encode=dae_default_pipeline, decode=['normalize'])\n",
    "\n",
    "dls = get_dls(data.train_X, data.val_X, transformer=dae_transforms)"
   ]
  },
  {
   "cell_type": "markdown",
   "id": "6bc52fd6-e8ac-4718-8635-cb381bcdf6c6",
   "metadata": {},
   "source": [
    "### Model"
   ]
  },
  {
   "cell_type": "code",
   "execution_count": null,
   "id": "f62cb96b-9d7f-4fc1-ac3f-5e95669fc358",
   "metadata": {},
   "outputs": [],
   "source": [
    "M = data.train_X.shape[-1]\n",
    "\n",
    "model = ae.Autoencoder(n_features=M, n_neurons=int(\n",
    "    M/2), last_decoder_activation=None, dim_latent=args.latent_dim)"
   ]
  },
  {
   "cell_type": "markdown",
   "id": "a166a7ec-5bc3-435d-835d-987df45d0d35",
   "metadata": {},
   "source": [
    "### Learner"
   ]
  },
  {
   "cell_type": "code",
   "execution_count": null,
   "id": "cc0b1359-f42c-4e16-8553-acf88826a069",
   "metadata": {},
   "outputs": [],
   "source": [
    "learn = Learner(dls=dls, model=model,\n",
    "                loss_func=MSELossFlat(), cbs=ae.ModelAdapter())"
   ]
  },
  {
   "cell_type": "code",
   "execution_count": null,
   "id": "f67b9b98-15dc-49e4-b77a-1b66ff2ae625",
   "metadata": {},
   "outputs": [],
   "source": [
    "learn.show_training_loop()"
   ]
  },
  {
   "cell_type": "code",
   "execution_count": null,
   "id": "2c8ef035-a5b8-4f95-9955-b6cdb6974342",
   "metadata": {},
   "outputs": [],
   "source": [
    "learn.summary()"
   ]
  },
  {
   "cell_type": "code",
   "execution_count": null,
   "id": "2fad0a84-3d3a-4e77-9f80-58b7f45f5352",
   "metadata": {},
   "outputs": [],
   "source": [
    "suggested_lr = learn.lr_find()\n",
    "suggested_lr"
   ]
  },
  {
   "cell_type": "markdown",
   "id": "29a13295-7e39-40c2-a84b-bdd8da357a0b",
   "metadata": {},
   "source": [
    "### Training\n"
   ]
  },
  {
   "cell_type": "code",
   "execution_count": null,
   "id": "4c568fe5-adfb-401c-afed-fabce46be0fe",
   "metadata": {},
   "outputs": [],
   "source": [
    "learn.fit_one_cycle(args.epochs_max, lr_max=suggested_lr.valley)"
   ]
  },
  {
   "cell_type": "markdown",
   "id": "a2d1c0f6-f7ff-4c5c-a9fd-3c05cd3ed015",
   "metadata": {},
   "source": [
    "### Predictions\n",
    "- test dataset"
   ]
  },
  {
   "cell_type": "code",
   "execution_count": null,
   "id": "c0e33918-5d6b-4afd-aa31-892c26d13d2c",
   "metadata": {},
   "outputs": [],
   "source": [
    "dl_test = get_test_dl(df=data.test_X, transformer=dae_transforms, dataset=DatasetWithTarget)"
   ]
  },
  {
   "cell_type": "markdown",
   "id": "b50cc0d7-d8fb-4614-8a7f-470580ca93dd",
   "metadata": {},
   "source": [
    "Validation data"
   ]
  },
  {
   "cell_type": "code",
   "execution_count": null,
   "id": "82e39eff-d21c-479f-983e-e337a6e2f9f6",
   "metadata": {},
   "outputs": [],
   "source": [
    "pred, target = learn.get_preds(act=noop, concat_dim=0, reorder=False)\n",
    "len(pred), len(target)"
   ]
  },
  {
   "cell_type": "markdown",
   "id": "c9a8a2c7-f5e4-4e54-ade9-568ce39747c2",
   "metadata": {},
   "source": [
    "Test data"
   ]
  },
  {
   "cell_type": "code",
   "execution_count": null,
   "id": "03f4ba8e-bd58-4ef8-87b7-f7b6ddd58976",
   "metadata": {},
   "outputs": [],
   "source": [
    "pred, target = learn.get_preds(dl=dl_test, act=noop, concat_dim=0, reorder=False)\n",
    "len(pred), len(target)"
   ]
  },
  {
   "cell_type": "code",
   "execution_count": null,
   "id": "4d04a5e1-36a1-496a-b9c8-4443596e54e1",
   "metadata": {},
   "outputs": [],
   "source": [
    "\"\"\"\n",
    "Returns\n",
    "-------\n",
    "    (pred, target)\n",
    "\"\"\"\n",
    "def get_preds_from_df(df, learn, transformer, dataset=DatasetWithTarget):\n",
    "    dl = get_test_dl(df=df, transformer=transformer, dataset=dataset)\n",
    "    res = learn.get_preds(dl=dl_test, concat_dim=0, reorder=False)\n",
    "    res = L(res).map(lambda x: pd.DataFrame(x, index=df.index, columns=df.columns))\n",
    "    res = L(res).map(lambda x: transformer.inverse_transform(x))\n",
    "    return res\n",
    "\n",
    "res = get_preds_from_df(df=data.test_X, learn=learn, transformer=dae_transforms)\n",
    "\n",
    "# list(map(lambda x: x.shape, res))\n",
    "L(res).map(lambda x: x.shape)"
   ]
  },
  {
   "cell_type": "markdown",
   "id": "5cdc7c67-2a14-4a6d-947b-ba8c9213f756",
   "metadata": {},
   "source": [
    "Some sanity checks \n",
    "- needs to go into test"
   ]
  },
  {
   "cell_type": "code",
   "execution_count": null,
   "id": "c5295074-1301-4a18-b572-1748acec59fa",
   "metadata": {},
   "outputs": [],
   "source": [
    "pred, target = res\n",
    "assert len(data.test_X) == len(pred) == len(target)"
   ]
  },
  {
   "cell_type": "code",
   "execution_count": null,
   "id": "b05cdc22-5eff-419c-b245-61af1550eb24",
   "metadata": {},
   "outputs": [],
   "source": [
    "all(dl_test.dataset.mask_obs == data.test_X.isna())"
   ]
  },
  {
   "cell_type": "code",
   "execution_count": null,
   "id": "781982cb-0ed2-474e-bb37-44d1e4cfecbb",
   "metadata": {},
   "outputs": [],
   "source": [
    "# should this be a function?\n",
    "test_pred_observed_dae = pred[~dl_test.dataset.mask_obs].stack()\n",
    "test_pred_real_na_dae = pred[dl_test.dataset.mask_obs].stack()\n",
    "assert len(test_pred_real_na_dae) + len(test_pred_observed_dae) == reduce(mul, data.test_X.shape)\n",
    "\n",
    "_diff_index = test_pred_real_na_dae.index.difference(test_pred_real_na.index)\n",
    "if len(_diff_index):   \n",
    "    print(\"Some predictions couldn't be generated using the approach using artifical replicates.\\n\"\n",
    "         \"These will be omitted for evaluation.\")\n",
    "    for _index in _diff_index:\n",
    "        print(f\"{_index[0]:<40}\\t {_index[1]:<40}\")\n",
    "        \n",
    "test_pred_observed['DAE'] = test_pred_observed_dae\n",
    "test_pred_real_na['DAE'] = test_pred_real_na_dae"
   ]
  },
  {
   "cell_type": "markdown",
   "id": "15ef92e2-3791-43b4-b6d9-71fc4f7dfcc9",
   "metadata": {},
   "source": [
    "### Plots"
   ]
  },
  {
   "cell_type": "code",
   "execution_count": null,
   "id": "c5e799c9-f625-4bd2-b385-c364b40e60af",
   "metadata": {},
   "outputs": [],
   "source": []
  },
  {
   "cell_type": "markdown",
   "id": "6de7a68e-34a3-463f-a1b3-7c76a8855ca0",
   "metadata": {},
   "source": [
    "## Variational Autoencoder"
   ]
  },
  {
   "cell_type": "markdown",
   "id": "7f5c05d4-d0bb-476f-b955-ac5822c38f86",
   "metadata": {},
   "source": [
    "### DataLoaders"
   ]
  },
  {
   "cell_type": "code",
   "execution_count": null,
   "id": "e0d0d02f",
   "metadata": {},
   "outputs": [],
   "source": [
    "vae_default_pipeline = sklearn.pipeline.Pipeline(\n",
    "    [\n",
    "        ('normalize', MinMaxScaler()),\n",
    "        ('impute', SimpleImputer(add_indicator=False))\n",
    "    ])\n",
    "\n",
    "vae_transforms = VaepPipeline(\n",
    "    df_train=data.train_X, encode=vae_default_pipeline, decode=['normalize'])\n",
    "\n",
    "dls = get_dls(data.train_X, data.val_X, transformer=vae_transforms)"
   ]
  },
  {
   "cell_type": "markdown",
   "id": "ae2f194f-a879-4190-89b9-5b370a827212",
   "metadata": {},
   "source": [
    "### Model"
   ]
  },
  {
   "cell_type": "code",
   "execution_count": null,
   "id": "43d49b4a-00ec-4874-8839-28a3cbc0e3b3",
   "metadata": {},
   "outputs": [],
   "source": [
    "from torch.nn import Sigmoid\n",
    "\n",
    "M = data.train_X.shape[-1]\n",
    "model = ae.VAE(n_features=M,\n",
    "               n_neurons=int(M/2),\n",
    "               last_encoder_activation=None,\n",
    "               last_decoder_activation=Sigmoid,\n",
    "               dim_latent=args.latent_dim)"
   ]
  },
  {
   "cell_type": "markdown",
   "id": "ef5410d9-8b64-45bc-96d3-4b04145043c0",
   "metadata": {},
   "source": [
    "### Training"
   ]
  },
  {
   "cell_type": "code",
   "execution_count": null,
   "id": "f4b0aec2",
   "metadata": {},
   "outputs": [],
   "source": [
    "learn = Learner(dls=dls,\n",
    "                model=model,\n",
    "                loss_func=ae.loss_fct_vae,\n",
    "                cbs=ae.ModelAdapterVAE())\n",
    "\n",
    "learn.show_training_loop()\n",
    "learn.summary()"
   ]
  },
  {
   "cell_type": "code",
   "execution_count": null,
   "id": "563a1e0a",
   "metadata": {},
   "outputs": [],
   "source": [
    "suggested_lr = learn.lr_find()\n",
    "suggested_lr"
   ]
  },
  {
   "cell_type": "code",
   "execution_count": null,
   "id": "43d18ab6",
   "metadata": {},
   "outputs": [],
   "source": [
    "learn.fit_one_cycle(args.epochs_max, lr_max=suggested_lr.valley)"
   ]
  },
  {
   "cell_type": "markdown",
   "id": "9db46826-6ab0-47b5-942c-0edc08a15e35",
   "metadata": {},
   "source": [
    "### Predictions"
   ]
  },
  {
   "cell_type": "code",
   "execution_count": null,
   "id": "60fdc242-a2ea-4d87-81f3-0c11bfbb3e0e",
   "metadata": {},
   "outputs": [],
   "source": [
    "dl_test = get_test_dl(df=data.test_X, transformer=vae_transforms, dataset=DatasetWithTarget)\n",
    "\n",
    "pred, target = learn.get_preds(dl=dl_test, act=noop, concat_dim=0, reorder=False)\n",
    "len(pred[0]), len(target)"
   ]
  },
  {
   "cell_type": "code",
   "execution_count": null,
   "id": "89479838-94c7-4414-8845-848f7f204588",
   "metadata": {},
   "outputs": [],
   "source": [
    "def get_preds_from_df(df, learn, transformer, \n",
    "                      position_pred_tuple=None,\n",
    "                      dataset=DatasetWithTarget):\n",
    "    dl = get_test_dl(df=df, transformer=transformer, dataset=dataset)\n",
    "    res = learn.get_preds(dl=dl_test, concat_dim=0, reorder=False)\n",
    "    if position_pred_tuple is not None and issubclass(type(res[0]), tuple): \n",
    "        res = (res[0][position_pred_tuple], *res[1:])\n",
    "        print(\"done\")\n",
    "    res = L(res).map(lambda x: pd.DataFrame(x, index=df.index, columns=df.columns))\n",
    "    res = L(res).map(lambda x: transformer.inverse_transform(x))\n",
    "    return res\n",
    "\n",
    "res = get_preds_from_df(df=data.test_X, learn=learn, \n",
    "                        position_pred_tuple=0,\n",
    "                        transformer=vae_transforms)\n",
    "# res[1]"
   ]
  },
  {
   "cell_type": "code",
   "execution_count": null,
   "id": "f82a59ee-60b4-4735-b02b-be9a40f82ee6",
   "metadata": {},
   "outputs": [],
   "source": [
    "def split_prediction_by_mask(pred, mask, check_keeps_all:bool=False):\n",
    "    test_pred_observed = pred[~mask].stack()\n",
    "    test_pred_real_na = pred[mask].stack()\n",
    "    if check_keeps_all:\n",
    "        assert len(test_pred_real_na) + len(test_pred_observed) == reduce(mul, pred.shape)\n",
    "    return test_pred_observed, test_pred_real_na\n",
    "\n",
    "test_pred_observed_vae, test_pred_real_na_vae = split_prediction_by_mask(pred=res[0],\n",
    "                         mask=dl_test.dataset.mask_obs,\n",
    "                         check_keeps_all=True)\n",
    "\n",
    "def compare_indices(first_index, second_index):\n",
    "    _diff_index = first_index.difference(second_index)\n",
    "    if len(_diff_index):   \n",
    "        print(\"Some predictions couldn't be generated using the approach using artifical replicates.\\n\"\n",
    "             \"These will be omitted for evaluation.\")\n",
    "        for _index in _diff_index:\n",
    "            print(f\"{_index[0]:<40}\\t {_index[1]:<40}\")\n",
    "\n",
    "compare_indices(test_pred_real_na_vae.index, test_pred_real_na.index)\n",
    "\n",
    "test_pred_observed['VAE'] = test_pred_observed_vae\n",
    "test_pred_real_na['VAE'] = test_pred_real_na_vae"
   ]
  },
  {
   "cell_type": "markdown",
   "id": "d6c3dd2a-a30c-4e72-b5e8-7de2a7469eb2",
   "metadata": {},
   "source": [
    "### Plots"
   ]
  },
  {
   "cell_type": "markdown",
   "id": "29f16d62-f1c8-4447-bdd3-2d3161b6346f",
   "metadata": {},
   "source": [
    "## Comparison"
   ]
  },
  {
   "cell_type": "code",
   "execution_count": null,
   "id": "6639732f-ea19-4133-a59b-a0f87f2b5a47",
   "metadata": {},
   "outputs": [],
   "source": [
    "test_pred_observed.head()"
   ]
  },
  {
   "cell_type": "code",
   "execution_count": null,
   "id": "bec46972-20fe-4d49-81ee-ad0144303542",
   "metadata": {},
   "outputs": [],
   "source": [
    "# df_pred = test_pred_observed\n",
    "# y_true = df_pred.columns[0] # implicit assumption, default None\n",
    "# y_true = df_pred.iloc[:,0]\n",
    "# pred_columns = df_pred.columns[1:]\n",
    "\n",
    "import sklearn.metrics as sklm\n",
    "\n",
    "scoring = [('MSE', sklm.mean_squared_error),\n",
    "           ('MAE', sklm.mean_absolute_error)]\n",
    "\n",
    "def get_metrics_df(pred_df, true_col=None, scoring=scoring):\n",
    "    if not true_col:\n",
    "        # assume first column is truth if None is given\n",
    "        y_true = pred_df.iloc[:,0]\n",
    "        print(f'Selected as truth to compare to: {y_true.name}')\n",
    "        y_pred = pred_df.iloc[:,1:]\n",
    "    else:\n",
    "        if issubclass(type(true_col), int):\n",
    "            y_true = pred_df.iloc[:, true_col]\n",
    "            pred_df = pred_df.drop(y_true.name, axis=1)\n",
    "        elif issubclass(type(true_col), str):\n",
    "            y_true = pred_df[true_col]\n",
    "            pred_df = pred_df.drop(true_col, axis=1)   \n",
    "        else:\n",
    "            raise ValueError(f'true_col has to be of type str or int, not {type(true_col)}')\n",
    "    \n",
    "\n",
    "    metrics = {}\n",
    "    for model_key in y_pred:\n",
    "        model_pred = y_pred[model_key]\n",
    "        model_pred_no_na = model_pred.dropna()\n",
    "        if len(model_pred) > len(model_pred_no_na):\n",
    "            logger.info(\n",
    "                f\"Drop indices for {col}: {[(idx[0], idx[1]) for idx in model_pred.index.difference(model_pred_no_na.index)]}\")\n",
    "\n",
    "        metrics[model_key] = dict(\n",
    "            [(k, f(y_true=y_true.loc[model_pred_no_na.index], y_pred=model_pred_no_na))\n",
    "             for k, f in scoring]\n",
    "        )\n",
    "    metrics = pd.DataFrame(metrics)\n",
    "    return metrics\n",
    "# metrics.to_csv(folder / f'exp_02_metrics.csv',\n",
    "#                float_format='{:.3f}'.format)\n",
    "metrics = get_metrics_df(pred_df = test_pred_observed)\n",
    "metrics.sort_values(by=[k for k, f in scoring], axis=1)"
   ]
  },
  {
   "cell_type": "code",
   "execution_count": null,
   "id": "9589e42a-4487-40ab-8cf8-232df468c5cd",
   "metadata": {},
   "outputs": [],
   "source": [
    "metrics = get_metrics_df(pred_df = test_pred_real_na)\n",
    "metrics.sort_values(by=[k for k, f in scoring], axis=1)"
   ]
  },
  {
   "cell_type": "code",
   "execution_count": null,
   "id": "f94feacf-2666-46f8-8380-2198776e2af7",
   "metadata": {},
   "outputs": [],
   "source": [
    "# analysis per sample?\n",
    "# analysis per peptide?\n",
    "# (test_pred_real_na['replicated'] - test_pred_real_na['DAE']).sort_values().plot(rot=45)"
   ]
  },
  {
   "cell_type": "markdown",
   "id": "42f2c184-e9ef-42be-ae87-7cbf52a0c0b6",
   "metadata": {},
   "source": [
    "## Config"
   ]
  },
  {
   "cell_type": "code",
   "execution_count": null,
   "id": "0f13cb38-abf0-4b56-9399-3d11d32f7fbc",
   "metadata": {},
   "outputs": [],
   "source": [
    "args"
   ]
  },
  {
   "cell_type": "code",
   "execution_count": null,
   "id": "6951e075-ef0f-49f9-88d2-13c8e7123283",
   "metadata": {},
   "outputs": [],
   "source": []
  }
 ],
 "metadata": {
  "kernelspec": {
   "display_name": "vaep",
   "language": "python",
   "name": "vaep"
  },
  "language_info": {
   "codemirror_mode": {
    "name": "ipython",
    "version": 3
   },
   "file_extension": ".py",
   "mimetype": "text/x-python",
   "name": "python",
   "nbconvert_exporter": "python",
   "pygments_lexer": "ipython3",
   "version": "3.8.12"
  }
 },
 "nbformat": 4,
 "nbformat_minor": 5
}
