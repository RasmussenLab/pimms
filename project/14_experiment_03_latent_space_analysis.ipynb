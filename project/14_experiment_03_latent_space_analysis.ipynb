{
 "cells": [
  {
   "cell_type": "markdown",
   "id": "f0e1208b-9b36-4294-b3fd-910e05a82f2e",
   "metadata": {},
   "source": [
    "# Latent space visualization"
   ]
  },
  {
   "cell_type": "code",
   "execution_count": null,
   "id": "18b5d571-2956-4112-b22c-43d6c2146b06",
   "metadata": {},
   "outputs": [],
   "source": [
    "import logging\n",
    "from pathlib import Path\n",
    "from pprint import pprint\n",
    "from src.nb_imports import *\n",
    "\n",
    "\n",
    "from fastai.losses import MSELossFlat\n",
    "from fastai.learner import Learner\n",
    "\n",
    "\n",
    "import fastai\n",
    "# from fastai.tabular.all import *\n",
    "\n",
    "from fastai.basics import *\n",
    "from fastai.callback.all import *\n",
    "from fastai.torch_basics import *\n",
    "from fastai.data.all import *\n",
    "\n",
    "# import fastai.callback.hook # Learner.summary\n",
    "\n",
    "import sklearn\n",
    "from sklearn.impute import SimpleImputer\n",
    "from sklearn.preprocessing import StandardScaler\n",
    "\n",
    "import vaep.io_images\n",
    "from vaep.models import ae\n",
    "from vaep.transform import VaepPipeline\n",
    "from vaep.io import datasplits\n",
    "from vaep.io.dataloaders import get_dls\n",
    "\n",
    "import src\n",
    "import src.analyzers as analyzers\n",
    "from src import config\n",
    "from src.logging import setup_logger\n",
    "logger = setup_logger(logger=logging.getLogger('vaep'))\n",
    "logger.info(\"Experiment 03 - Analysis of latent spaces and performance comparisions\")\n",
    "\n",
    "figures = {}  # collection of ax or figures"
   ]
  },
  {
   "cell_type": "markdown",
   "id": "43f062bb-8d2c-4afa-8a81-9e2a328050fe",
   "metadata": {},
   "source": [
    "Papermill script parameters"
   ]
  },
  {
   "cell_type": "code",
   "execution_count": null,
   "id": "297f14bc-3c37-43fa-8217-f790f0593d78",
   "metadata": {},
   "outputs": [],
   "source": [
    "n_peptides = 50\n",
    "data = 'data/msinstrument_in_QE4'\n",
    "epochs_max = 30"
   ]
  },
  {
   "cell_type": "markdown",
   "id": "1da8e04b-2eb2-4ecb-b1d1-2de871cd0a56",
   "metadata": {},
   "source": [
    "Some argument transformations"
   ]
  },
  {
   "cell_type": "code",
   "execution_count": null,
   "id": "a7d8b3ee-48d9-40f7-8a92-579fc2e817db",
   "metadata": {},
   "outputs": [],
   "source": [
    "args = config.Config()\n",
    "args.data = Path(data)\n",
    "args.epochs_max = epochs_max"
   ]
  },
  {
   "cell_type": "markdown",
   "id": "976cc005-0c5f-4e88-9656-c549e613ca68",
   "metadata": {},
   "source": [
    "## Load data"
   ]
  },
  {
   "cell_type": "code",
   "execution_count": null,
   "id": "6d9cc7bd-6b6f-40b9-8db7-c8228e4b03e3",
   "metadata": {},
   "outputs": [],
   "source": [
    "data = datasplits.DataSplits.from_folder(args.data)"
   ]
  },
  {
   "cell_type": "markdown",
   "id": "3ca12fc2-bf34-42ac-99b2-a78ff9fe7722",
   "metadata": {},
   "source": [
    "data is loaded in long format"
   ]
  },
  {
   "cell_type": "code",
   "execution_count": null,
   "id": "02bb6bf5-0eb1-4c73-9723-414b14eaf7c8",
   "metadata": {},
   "outputs": [],
   "source": [
    "data.train_X.sample(5)"
   ]
  },
  {
   "cell_type": "markdown",
   "id": "a7ef773a-5588-4b11-9bd7-840b628eeaff",
   "metadata": {},
   "source": [
    "## Initialize Comparison\n",
    "\n",
    "- replicates idea for truely missing values: Define truth as by using n=3 replicates to impute\n",
    "  each sample\n",
    "- real test data: Not used for predictions or early stopping."
   ]
  },
  {
   "cell_type": "code",
   "execution_count": null,
   "id": "af21e64b-de62-413d-a755-2e26bcbe89b9",
   "metadata": {},
   "outputs": [],
   "source": [
    "# data.test_y\n",
    "test_pred_real_na = data.interpolate('test_X') # \"gold standard\"\n",
    "# data.test_y.index.difference(test_predictions_real_na.index) # empty\n",
    "# test_predictions_real_na.compare(data.test_y) # some wiered bug, maybe due to multi-index?\n",
    "# are indices exactly the same? seems so\n",
    "# sorting values and visual inspection: the values seem to be the same\n",
    "# conclusions: floating point differences, which can be savely ignored\n",
    "assert abs((test_pred_real_na - data.test_y).sum()) < 0.000001\n",
    "\n",
    "\n",
    "test_pred_real_na = test_pred_real_na.to_frame(name='replicated')\n",
    "# test_pred_real_na = data.test_y\n",
    "test_pred_real_na.sort_index(inplace=True)\n",
    "test_pred_real_na"
   ]
  },
  {
   "cell_type": "code",
   "execution_count": null,
   "id": "35d07aeb-038b-4161-acb6-39ec4487c0d5",
   "metadata": {},
   "outputs": [],
   "source": [
    "test_pred_observed = data.test_X.to_frame('measured')\n",
    "test_pred_observed.sort_index(inplace=True)"
   ]
  },
  {
   "cell_type": "code",
   "execution_count": null,
   "id": "d48b29ff-b245-4562-8e0a-2ecd683d959e",
   "metadata": {},
   "outputs": [],
   "source": []
  },
  {
   "cell_type": "code",
   "execution_count": null,
   "id": "3857b097-d67e-4dde-821a-d12d488e0987",
   "metadata": {},
   "outputs": [],
   "source": [
    "ana_train_X = analyzers.AnalyzePeptides(data=data.train_X, is_wide_format=False, ind_unstack='peptide')\n",
    "# ana_train_X.df.set_index('peptide', append=True, inplace=True)\n",
    "# ana_train_X.df.reset_index(inplace=True)\n",
    "figures['pca_train'] = ana_train_X.plot_pca()"
   ]
  },
  {
   "cell_type": "markdown",
   "id": "d00ea8e9-7f48-4f72-b013-7010666aa1a2",
   "metadata": {},
   "source": [
    "## Collaborative Filtering"
   ]
  },
  {
   "cell_type": "code",
   "execution_count": null,
   "id": "24233862-ea7d-4f6e-b47c-83fdabffef88",
   "metadata": {},
   "outputs": [],
   "source": []
  },
  {
   "cell_type": "markdown",
   "id": "49eced7a-6cd7-414e-b974-4bd1dbe3a787",
   "metadata": {},
   "source": [
    "## Data in wide format\n",
    "\n",
    "- Autoencoder need data in wide format"
   ]
  },
  {
   "cell_type": "code",
   "execution_count": null,
   "id": "cff8caf4-ccc9-4a36-a992-2cc596abe51a",
   "metadata": {},
   "outputs": [],
   "source": [
    "data.to_wide_format()\n",
    "data.val_X.head()"
   ]
  },
  {
   "cell_type": "markdown",
   "id": "f65a44eb-47bf-4bfa-914f-cc6bcadaeee3",
   "metadata": {},
   "source": [
    "## Denoising Autoencoder"
   ]
  },
  {
   "cell_type": "markdown",
   "id": "8d839950-bbc3-4572-bd51-fcbd0c3a0d72",
   "metadata": {},
   "source": [
    "### DataLoaders"
   ]
  },
  {
   "cell_type": "code",
   "execution_count": null,
   "id": "7bbed0af-64bd-45d8-9be2-5b856cb25cce",
   "metadata": {},
   "outputs": [],
   "source": [
    "dae_default_pipeline = sklearn.pipeline.Pipeline(\n",
    "    [\n",
    "        ('normalize', StandardScaler()),\n",
    "        ('impute', SimpleImputer(add_indicator=False))\n",
    "    ])\n",
    "\n",
    "dae_transforms = VaepPipeline(\n",
    "    df_train=data.train_X, encode=dae_default_pipeline, decode=['normalize'])\n",
    "\n",
    "dls = get_dls(data.train_X, data.val_X, transformer=dae_transforms)"
   ]
  },
  {
   "cell_type": "markdown",
   "id": "6bc52fd6-e8ac-4718-8635-cb381bcdf6c6",
   "metadata": {},
   "source": [
    "### Model"
   ]
  },
  {
   "cell_type": "code",
   "execution_count": null,
   "id": "f62cb96b-9d7f-4fc1-ac3f-5e95669fc358",
   "metadata": {},
   "outputs": [],
   "source": [
    "M = data.train_X.shape[-1]\n",
    "latent_dim = 30\n",
    "\n",
    "model = ae.Autoencoder(n_features=M, n_neurons=int(\n",
    "    M/2), last_decoder_activation=None, dim_latent=latent_dim)"
   ]
  },
  {
   "cell_type": "markdown",
   "id": "a166a7ec-5bc3-435d-835d-987df45d0d35",
   "metadata": {},
   "source": [
    "### Learner"
   ]
  },
  {
   "cell_type": "code",
   "execution_count": null,
   "id": "cc0b1359-f42c-4e16-8553-acf88826a069",
   "metadata": {},
   "outputs": [],
   "source": [
    "learn = Learner(dls=dls, model=model,\n",
    "                loss_func=MSELossFlat(), cbs=ae.ModelAdapter())"
   ]
  },
  {
   "cell_type": "code",
   "execution_count": null,
   "id": "f67b9b98-15dc-49e4-b77a-1b66ff2ae625",
   "metadata": {},
   "outputs": [],
   "source": [
    "learn.show_training_loop()"
   ]
  },
  {
   "cell_type": "code",
   "execution_count": null,
   "id": "2c8ef035-a5b8-4f95-9955-b6cdb6974342",
   "metadata": {},
   "outputs": [],
   "source": [
    "learn.summary()"
   ]
  },
  {
   "cell_type": "code",
   "execution_count": null,
   "id": "2fad0a84-3d3a-4e77-9f80-58b7f45f5352",
   "metadata": {},
   "outputs": [],
   "source": [
    "suggested_lr = learn.lr_find()\n",
    "suggested_lr"
   ]
  },
  {
   "cell_type": "markdown",
   "id": "29a13295-7e39-40c2-a84b-bdd8da357a0b",
   "metadata": {},
   "source": [
    "### Training\n"
   ]
  },
  {
   "cell_type": "code",
   "execution_count": null,
   "id": "4c568fe5-adfb-401c-afed-fabce46be0fe",
   "metadata": {},
   "outputs": [],
   "source": [
    "learn.fit_one_cycle(args.epochs_max, lr_max=suggested_lr.valley)"
   ]
  },
  {
   "cell_type": "markdown",
   "id": "a2d1c0f6-f7ff-4c5c-a9fd-3c05cd3ed015",
   "metadata": {},
   "source": [
    "### Predictions\n",
    "- test dataset"
   ]
  },
  {
   "cell_type": "code",
   "execution_count": null,
   "id": "c0e33918-5d6b-4afd-aa31-892c26d13d2c",
   "metadata": {},
   "outputs": [],
   "source": [
    "# dls.test_dl\n",
    "# needs to be part of setup procedure of a class\n",
    "from vaep.io.datasets import DatasetWithTarget\n",
    "def factory_test_dl(bs=64):\n",
    "    \n",
    "    def get_test_dl(df, transformer, dataset):\n",
    "        ds = dataset(df, transformer)\n",
    "        return DataLoader(ds, bs=bs)\n",
    "    return get_test_dl\n",
    "\n",
    "get_test_dl = factory_test_dl()\n",
    "dl_test = get_test_dl(df=data.test_X, transformer=dae_transforms, dataset=DatasetWithTarget)"
   ]
  },
  {
   "cell_type": "code",
   "execution_count": null,
   "id": "82e39eff-d21c-479f-983e-e337a6e2f9f6",
   "metadata": {},
   "outputs": [],
   "source": [
    "pred, target = learn.get_preds(act=noop, concat_dim=0, reorder=False)\n",
    "len(pred), len(target)"
   ]
  },
  {
   "cell_type": "code",
   "execution_count": null,
   "id": "03f4ba8e-bd58-4ef8-87b7-f7b6ddd58976",
   "metadata": {},
   "outputs": [],
   "source": [
    "pred, target = learn.get_preds(dl=dl_test, act=noop, concat_dim=0, reorder=False)\n",
    "len(pred), len(target)"
   ]
  },
  {
   "cell_type": "code",
   "execution_count": null,
   "id": "4d04a5e1-36a1-496a-b9c8-4443596e54e1",
   "metadata": {},
   "outputs": [],
   "source": [
    "\"\"\"\n",
    "Returns\n",
    "-------\n",
    "    (pred, target)\n",
    "\"\"\"\n",
    "def get_preds_from_df(df, learn, transformer, dataset=DatasetWithTarget):\n",
    "    dl = get_test_dl(df=df, transformer=transformer, dataset=dataset)\n",
    "    res = learn.get_preds(dl=dl_test, concat_dim=0, reorder=False)\n",
    "    res = L(res).map(lambda x: pd.DataFrame(x, index=df.index, columns=df.columns))\n",
    "    res = L(res).map(lambda x: transformer.inverse_transform(x))\n",
    "    return res\n",
    "\n",
    "res = get_preds_from_df(df=data.test_X, learn=learn, transformer=dae_transforms)\n",
    "\n",
    "# list(map(lambda x: x.shape, res))\n",
    "L(res).map(lambda x: x.shape)"
   ]
  },
  {
   "cell_type": "markdown",
   "id": "5cdc7c67-2a14-4a6d-947b-ba8c9213f756",
   "metadata": {},
   "source": [
    "Some sanity checks \n",
    "- needs to go into test"
   ]
  },
  {
   "cell_type": "code",
   "execution_count": null,
   "id": "c5295074-1301-4a18-b572-1748acec59fa",
   "metadata": {},
   "outputs": [],
   "source": [
    "pred, target = res\n",
    "assert len(data.test_X) == len(pred) == len(target)"
   ]
  },
  {
   "cell_type": "code",
   "execution_count": null,
   "id": "b05cdc22-5eff-419c-b245-61af1550eb24",
   "metadata": {},
   "outputs": [],
   "source": [
    "all(dl_test.dataset.mask_obs == data.test_X.isna())"
   ]
  },
  {
   "cell_type": "code",
   "execution_count": null,
   "id": "781982cb-0ed2-474e-bb37-44d1e4cfecbb",
   "metadata": {},
   "outputs": [],
   "source": [
    "# should this be a function?\n",
    "test_pred_observed_dae = pred[~dl_test.dataset.mask_obs].stack()\n",
    "test_pred_real_na_dae = pred[dl_test.dataset.mask_obs].stack()\n",
    "assert len(test_pred_real_na_dae) + len(test_pred_observed_dae) == reduce(mul, data.test_X.shape)\n",
    "\n",
    "_diff_index = test_pred_real_na_dae.index.difference(test_pred_real_na.index)\n",
    "if len(_diff_index):   \n",
    "    print(\"Some predictions couldn't be generated using the approach using artifical replicates.\\n\"\n",
    "         \"These will be omitted for evaluation.\")\n",
    "    for _index in _diff_index:\n",
    "        print(f\"{_index[0]:<40}\\t {_index[1]:<40}\")\n",
    "        \n",
    "test_pred_observed['DAE'] = test_pred_observed_dae\n",
    "test_pred_real_na['DAE'] = test_pred_real_na_dae"
   ]
  },
  {
   "cell_type": "markdown",
   "id": "15ef92e2-3791-43b4-b6d9-71fc4f7dfcc9",
   "metadata": {},
   "source": [
    "### Plots"
   ]
  },
  {
   "cell_type": "code",
   "execution_count": null,
   "id": "c5e799c9-f625-4bd2-b385-c364b40e60af",
   "metadata": {},
   "outputs": [],
   "source": []
  },
  {
   "cell_type": "markdown",
   "metadata": {},
   "source": [
    "## Comparison"
   ]
  },
  {
   "cell_type": "code",
   "execution_count": null,
   "id": "6639732f-ea19-4133-a59b-a0f87f2b5a47",
   "metadata": {},
   "outputs": [],
   "source": [
    "test_pred_observed.head()"
   ]
  },
  {
   "cell_type": "code",
   "execution_count": null,
   "id": "bec46972-20fe-4d49-81ee-ad0144303542",
   "metadata": {},
   "outputs": [],
   "source": [
    "# df_pred = test_pred_observed\n",
    "# y_true = df_pred.columns[0] # implicit assumption, default None\n",
    "# y_true = df_pred.iloc[:,0]\n",
    "# pred_columns = df_pred.columns[1:]\n",
    "\n",
    "import sklearn.metrics as sklm\n",
    "\n",
    "scoring = [('MSE', sklm.mean_squared_error),\n",
    "           ('MAE', sklm.mean_absolute_error)]\n",
    "\n",
    "def get_metrics_df(pred_df, true_col=None, scoring=scoring):\n",
    "    if not true_col:\n",
    "        # assume first column is truth if None is given\n",
    "        y_true = pred_df.iloc[:,0]\n",
    "        print(f'Selected as truth to compare to: {y_true.name}')\n",
    "        y_pred = pred_df.iloc[:,1:]\n",
    "    else:\n",
    "        if issubclass(type(true_col), int):\n",
    "            y_true = pred_df.iloc[:, true_col]\n",
    "            pred_df = pred_df.drop(y_true.name, axis=1)\n",
    "        elif issubclass(type(true_col), str):\n",
    "            y_true = pred_df[true_col]\n",
    "            pred_df = pred_df.drop(true_col, axis=1)   \n",
    "        else:\n",
    "            raise ValueError(f'true_col has to be of type str or int, not {type(true_col)}')\n",
    "    \n",
    "\n",
    "    metrics = {}\n",
    "    for model_key in y_pred:\n",
    "        model_pred = y_pred[model_key]\n",
    "        model_pred_no_na = model_pred.dropna()\n",
    "        if len(model_pred) > len(model_pred_no_na):\n",
    "            logger.info(\n",
    "                f\"Drop indices for {col}: {[(idx[0], idx[1]) for idx in model_pred.index.difference(model_pred_no_na.index)]}\")\n",
    "\n",
    "        metrics[model_key] = dict(\n",
    "            [(k, f(y_true=y_true.loc[model_pred_no_na.index], y_pred=model_pred_no_na))\n",
    "             for k, f in scoring]\n",
    "        )\n",
    "    metrics = pd.DataFrame(metrics)\n",
    "    return metrics\n",
    "# metrics.to_csv(folder / f'exp_02_metrics.csv',\n",
    "#                float_format='{:.3f}'.format)\n",
    "metrics = get_metrics_df(pred_df = test_pred_observed)\n",
    "metrics.sort_values(by=[k for k, f in scoring], axis=1)"
   ]
  },
  {
   "cell_type": "code",
   "execution_count": null,
   "id": "9589e42a-4487-40ab-8cf8-232df468c5cd",
   "metadata": {},
   "outputs": [],
   "source": [
    "metrics = get_metrics_df(pred_df = test_pred_real_na)\n",
    "metrics.sort_values(by=[k for k, f in scoring], axis=1)"
   ]
  },
  {
   "cell_type": "code",
   "execution_count": null,
   "id": "f94feacf-2666-46f8-8380-2198776e2af7",
   "metadata": {},
   "outputs": [],
   "source": [
    "# analysis per sample?\n",
    "# analysis per peptide?\n",
    "# (test_pred_real_na['replicated'] - test_pred_real_na['DAE']).sort_values().plot(rot=45)"
   ]
  },
  {
   "cell_type": "markdown",
   "id": "42f2c184-e9ef-42be-ae87-7cbf52a0c0b6",
   "metadata": {},
   "source": [
    "## Config"
   ]
  },
  {
   "cell_type": "code",
   "execution_count": null,
   "id": "0f13cb38-abf0-4b56-9399-3d11d32f7fbc",
   "metadata": {},
   "outputs": [],
   "source": [
    "args"
   ]
  },
  {
   "cell_type": "code",
   "execution_count": null,
   "id": "6951e075-ef0f-49f9-88d2-13c8e7123283",
   "metadata": {},
   "outputs": [],
   "source": []
  }
 ],
 "metadata": {
  "kernelspec": {
   "display_name": "vaep",
   "language": "python",
   "name": "vaep"
  },
  "language_info": {
   "codemirror_mode": {
    "name": "ipython",
    "version": 3
   },
   "file_extension": ".py",
   "mimetype": "text/x-python",
   "name": "python",
   "nbconvert_exporter": "python",
   "pygments_lexer": "ipython3",
   "version": "3.8.12"
  }
 },
 "nbformat": 4,
 "nbformat_minor": 5
}
