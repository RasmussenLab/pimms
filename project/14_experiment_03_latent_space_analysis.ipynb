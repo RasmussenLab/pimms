{
 "cells": [
  {
   "cell_type": "markdown",
   "id": "f0e1208b-9b36-4294-b3fd-910e05a82f2e",
   "metadata": {},
   "source": [
    "# Latent space visualization"
   ]
  },
  {
   "cell_type": "code",
   "execution_count": null,
   "id": "18b5d571-2956-4112-b22c-43d6c2146b06",
   "metadata": {},
   "outputs": [],
   "source": [
    "import logging\n",
    "from pathlib import Path\n",
    "from pprint import pprint\n",
    "from src.nb_imports import *\n",
    "\n",
    "from typing import Union\n",
    "\n",
    "from fastai.losses import MSELossFlat\n",
    "from fastai.learner import Learner\n",
    "\n",
    "\n",
    "import fastai\n",
    "# from fastai.tabular.all import *\n",
    "\n",
    "from fastai.basics import *\n",
    "from fastai.callback.all import *\n",
    "from fastai.torch_basics import *\n",
    "from fastai.data.all import *\n",
    "\n",
    "from fastai.tabular.all import *\n",
    "from fastai.collab import *\n",
    "\n",
    "# overwriting Recorder callback with custom plot_loss\n",
    "from vaep.models import plot_loss\n",
    "from fastai import learner\n",
    "learner.Recorder.plot_loss = plot_loss\n",
    "# import fastai.callback.hook # Learner.summary\n",
    "\n",
    "import sklearn\n",
    "from sklearn.impute import SimpleImputer\n",
    "from sklearn.preprocessing import StandardScaler\n",
    "from sklearn.preprocessing import MinMaxScaler\n",
    "\n",
    "import vaep\n",
    "import vaep.model\n",
    "import vaep.models as models\n",
    "from vaep.models import ae\n",
    "from vaep.models import collab as vaep_collab\n",
    "from vaep.io.datasets import DatasetWithTarget\n",
    "from vaep.transform import VaepPipeline\n",
    "from vaep.io import datasplits\n",
    "from vaep.io.dataloaders import get_dls, get_test_dl\n",
    "from vaep import sampling\n",
    "\n",
    "import src\n",
    "import src.analyzers as analyzers\n",
    "from src import config\n",
    "from src.logging import setup_logger\n",
    "logger = setup_logger(logger=logging.getLogger('vaep'))\n",
    "logger.info(\"Experiment 03 - Analysis of latent spaces and performance comparisions\")\n",
    "\n",
    "figures = {}  # collection of ax or figures"
   ]
  },
  {
   "cell_type": "markdown",
   "id": "43f062bb-8d2c-4afa-8a81-9e2a328050fe",
   "metadata": {},
   "source": [
    "Papermill script parameters:"
   ]
  },
  {
   "cell_type": "code",
   "execution_count": null,
   "id": "297f14bc-3c37-43fa-8217-f790f0593d78",
   "metadata": {
    "tags": [
     "parameters"
    ]
   },
   "outputs": [],
   "source": [
    "# folders\n",
    "data:str = 'data/msinstrument_in_QE4' # Datasplit folder with data for experiment\n",
    "out_folder:str = 'runs/experiment_14' # Output folder to store all figures and metrics\n",
    "# training\n",
    "n_training_samples_max:int = 1000 # Maximum number of training samples to use for training. Take most recent\n",
    "epochs_max:int = 10  # Maximum number of epochs\n",
    "early_stopping:bool = True # Wheather to use early stopping or not\n",
    "batch_size:int = 32 # Batch size for training (and evaluation)\n",
    "cuda:bool=True # Use the GPU for training?\n",
    "# model\n",
    "latent_dim:int = 10 # Dimensionality of encoding dimension (latent space of model)\n",
    "hidden_layers:Union[int,str] = 1 # A space separated string of layers, '50 20' for the encoder, reverse will be use for decoder\n",
    "force_train:bool = True # Force training when saved model could be uses"
   ]
  },
  {
   "cell_type": "markdown",
   "id": "1da8e04b-2eb2-4ecb-b1d1-2de871cd0a56",
   "metadata": {},
   "source": [
    "Some argument transformations"
   ]
  },
  {
   "cell_type": "code",
   "execution_count": null,
   "id": "0746e70f-0259-48d5-90ef-25fe4b59f9ac",
   "metadata": {},
   "outputs": [],
   "source": [
    "args = config.Config()\n",
    "args.data = Path(data); del data\n",
    "args.out_folder = Path(out_folder); del out_folder\n",
    "args.n_training_samples_max = n_training_samples_max; del n_training_samples_max\n",
    "args.epochs_max = epochs_max; del epochs_max\n",
    "args.batch_size = batch_size; del batch_size\n",
    "args.cuda = cuda; del cuda\n",
    "args.latent_dim = latent_dim; del latent_dim\n",
    "args.force_train = force_train; del force_train\n",
    "\n",
    "print(hidden_layers)\n",
    "if isinstance(hidden_layers, int):\n",
    "    args.hidden_layers = hidden_layers\n",
    "    \n",
    "elif isinstance(hidden_layers, str):\n",
    "    args.hidden_layers = hidden_layers.split()\n",
    "else:\n",
    "    raise ValueError(f\"hidden_layers is of unknown type {type(hidden_layers)}\")\n",
    "del hidden_layers\n",
    "args"
   ]
  },
  {
   "cell_type": "markdown",
   "id": "976cc005-0c5f-4e88-9656-c549e613ca68",
   "metadata": {},
   "source": [
    "## Load data in long format"
   ]
  },
  {
   "cell_type": "code",
   "execution_count": null,
   "id": "6d9cc7bd-6b6f-40b9-8db7-c8228e4b03e3",
   "metadata": {},
   "outputs": [],
   "source": [
    "data = datasplits.DataSplits.from_folder(args.data) \n",
    "# select max_train_samples"
   ]
  },
  {
   "cell_type": "markdown",
   "id": "5a63d930-7b68-4759-9090-e6c9c8112786",
   "metadata": {},
   "source": [
    "- data representation not to easy yet\n",
    "- should validation and test y (the imputed cases using replicates) be only generated in an application to \n",
    "  keep unmanipulated data separate from imputed values?"
   ]
  },
  {
   "cell_type": "code",
   "execution_count": null,
   "id": "82835aff-fb85-498a-91f3-565634aa5c5b",
   "metadata": {},
   "outputs": [],
   "source": [
    "# data # uncommet to see current representation"
   ]
  },
  {
   "cell_type": "markdown",
   "id": "3ca12fc2-bf34-42ac-99b2-a78ff9fe7722",
   "metadata": {},
   "source": [
    "data is loaded in long format"
   ]
  },
  {
   "cell_type": "code",
   "execution_count": null,
   "id": "02bb6bf5-0eb1-4c73-9723-414b14eaf7c8",
   "metadata": {},
   "outputs": [],
   "source": [
    "data.train_X.sample(5)"
   ]
  },
  {
   "cell_type": "markdown",
   "id": "a94ae06d-64dd-4f4f-abde-8485a8c8458e",
   "metadata": {},
   "source": [
    "meta data for splits"
   ]
  },
  {
   "cell_type": "code",
   "execution_count": null,
   "id": "b5b945aa-9b4e-4487-8b09-dca289e64d9d",
   "metadata": {},
   "outputs": [],
   "source": [
    "# data.train_meta # needs to be created"
   ]
  },
  {
   "cell_type": "markdown",
   "id": "a7ef773a-5588-4b11-9bd7-840b628eeaff",
   "metadata": {},
   "source": [
    "## Initialize Comparison\n",
    "\n",
    "- replicates idea for truely missing values: Define truth as by using n=3 replicates to impute\n",
    "  each sample\n",
    "- real test data:\n",
    "    - Not used for predictions or early stopping.\n",
    "    - [x] add some additional NAs based on distribution of data"
   ]
  },
  {
   "cell_type": "code",
   "execution_count": null,
   "id": "98f675b6-e619-45b6-8f04-b75237d212a7",
   "metadata": {},
   "outputs": [],
   "source": [
    "freq_peptides = sampling.frequency_by_index(data.train_X, 0)\n",
    "freq_peptides.head() # training data"
   ]
  },
  {
   "cell_type": "markdown",
   "id": "e02afb4e-ee91-4753-a118-7fa20fe621c9",
   "metadata": {},
   "source": [
    "Produce some addional fake samples"
   ]
  },
  {
   "cell_type": "code",
   "execution_count": null,
   "id": "a39c48ab-12fe-4aa6-82a5-844c6a39937a",
   "metadata": {},
   "outputs": [],
   "source": [
    "# execute only once, add to DataSplits?\n",
    "data.test_X, data.test_y_fake = sampling.sample_data(data.test_X, sample_index_to_drop=0, weights=freq_peptides)\n",
    "data.test_y_fake"
   ]
  },
  {
   "cell_type": "code",
   "execution_count": null,
   "id": "35212c02-c3aa-45e4-af5f-0b1381b51c10",
   "metadata": {},
   "outputs": [],
   "source": [
    "# data.test_y\n",
    "test_pred_ = data.interpolate('test_X') # \"gold standard\"\n",
    "# data.test_y.index.difference(test_predictions_real_na.index) # empty\n",
    "# test_predictions_real_na.compare(data.test_y) # some wiered bug, maybe due to multi-index?\n",
    "# are indices exactly the same? seems so\n",
    "# sorting values and visual inspection: the values seem to be the same\n",
    "# conclusions: floating point differences, which can be savely ignored\n",
    "# in_both = test_pred_.index.intersection(data.test_y.index)\n",
    "# don't stay the same as more missing values lead to a different interpolation\n",
    "# assert abs((test_pred_.loc[in_both] - data.test_y.loc[in_both]).dropna().sum()) < 0.000001\n",
    "\n",
    "test_pred_fake_na = data.test_y_fake.to_frame(name='observed')\n",
    "def in_both(a, b): return a.index.intersection(b.index)\n",
    "test_pred_fake_na['replicated'] = test_pred_.loc[in_both(test_pred_, test_pred_fake_na)] # interpolated?\n",
    "test_pred_fake_na"
   ]
  },
  {
   "cell_type": "code",
   "execution_count": null,
   "id": "9e997cee-c760-4da0-82ce-f2f5ae02f9e9",
   "metadata": {},
   "outputs": [],
   "source": [
    "data.test_y = test_pred_.loc[test_pred_.index.difference(data.test_y_fake.index)]\n",
    "test_pred_real_na = data.test_y.to_frame(name='replicated')\n",
    "# test_pred_real_na = data.test_y\n",
    "test_pred_real_na.sort_index(inplace=True)\n",
    "test_pred_real_na"
   ]
  },
  {
   "cell_type": "code",
   "execution_count": null,
   "id": "35d07aeb-038b-4161-acb6-39ec4487c0d5",
   "metadata": {},
   "outputs": [],
   "source": [
    "test_pred_observed = data.test_X.to_frame('measured')\n",
    "test_pred_observed.sort_index(inplace=True)"
   ]
  },
  {
   "cell_type": "markdown",
   "id": "ed03ebd7-c369-43a3-9120-6414f31f3365",
   "metadata": {},
   "source": [
    "And predictions on validation (to see if the test data performs worse than the validation data, which was only used for early stopping)\n",
    "- possibility to also mask some predictions for model"
   ]
  },
  {
   "cell_type": "code",
   "execution_count": null,
   "id": "7c2b6dd3-72bb-4509-b3a3-51278b003540",
   "metadata": {},
   "outputs": [],
   "source": [
    "valid_pred = data.val_X.to_frame('measured')\n",
    "valid_pred"
   ]
  },
  {
   "cell_type": "markdown",
   "id": "06b64f9f-ee45-455e-985a-4617c0d5f019",
   "metadata": {},
   "source": [
    "### PCA plot of training data\n",
    "\n",
    "- [x] add validation and test data in view"
   ]
  },
  {
   "cell_type": "code",
   "execution_count": null,
   "id": "3857b097-d67e-4dde-821a-d12d488e0987",
   "metadata": {},
   "outputs": [],
   "source": [
    "ana_train_X = analyzers.AnalyzePeptides(data=data.train_X, is_wide_format=False, ind_unstack='peptide')\n",
    "# ana_train_X.df.set_index('peptide', append=True, inplace=True)\n",
    "# ana_train_X.df.reset_index(inplace=True)\n",
    "figures['pca_train'] = ana_train_X.plot_pca()\n",
    "vaep.savefig(figures['pca_train'], args.out_folder / f'pca_plot_raw_data_{ana_train_X.fname_stub}')"
   ]
  },
  {
   "cell_type": "code",
   "execution_count": null,
   "id": "0c06adcd-d1ab-4e1f-b16f-3a68f6ba2355",
   "metadata": {},
   "outputs": [],
   "source": [
    "# add to DataSplits a inputs attribute\n",
    "data_dict = {'train': data.train_X, 'valid': data.val_X, 'test': data.test_X}\n",
    "PCs = pd.DataFrame()\n",
    "split_map = pd.Series(dtype='string')\n",
    "for key, df in data_dict.items():\n",
    "    df = df.unstack()\n",
    "    PCs = PCs.append(ana_train_X.calculate_PCs(df))\n",
    "    split_map = split_map.append(pd.Series(key, index=df.index))\n",
    "\n",
    "fig, ax = plt.subplots(figsize=(15,8))\n",
    "ax.legend(title='splits')\n",
    "analyzers.seaborn_scatter(PCs, fig, ax, meta=split_map,\n",
    "                          title='First two principal compements (based on training data PCA)')\n",
    "ax.get_legend().set_title(\"split\")"
   ]
  },
  {
   "cell_type": "markdown",
   "id": "38d07f0b-5e3e-4917-848f-e1b355f31053",
   "metadata": {},
   "source": [
    "For *Collaborative Filtering*, new samples could be initialized based on a KNN approach in the original sample space or the reduced PCA dimension.\n",
    "  - The sample embeddings of the K neighearst neighbours could be averaged for a new sample"
   ]
  },
  {
   "cell_type": "code",
   "execution_count": null,
   "id": "bbfdcdcb-cb0f-42bf-b66f-c3d3379f643a",
   "metadata": {},
   "outputs": [],
   "source": [
    "from sklearn.neighbors import NearestNeighbors\n",
    "\n",
    "train_PCs = ana_train_X.calculate_PCs(data.train_X.unstack())\n",
    "test_PCs = ana_train_X.calculate_PCs(data.test_X.unstack())\n",
    "nn = NearestNeighbors().fit(train_PCs)"
   ]
  },
  {
   "cell_type": "code",
   "execution_count": null,
   "id": "bbfca43a-1f57-4782-b950-e3665f20cfcf",
   "metadata": {},
   "outputs": [],
   "source": [
    "d, idx = nn.kneighbors(test_PCs.iloc[1:2])\n",
    "# test_PCs.iloc[1]\n",
    "idx"
   ]
  },
  {
   "cell_type": "code",
   "execution_count": null,
   "id": "4852cc8e-4fae-4809-a27e-8d868a2c270c",
   "metadata": {},
   "outputs": [],
   "source": [
    "train_PCs.iloc[idx[0]]"
   ]
  },
  {
   "cell_type": "markdown",
   "id": "d00ea8e9-7f48-4f72-b013-7010666aa1a2",
   "metadata": {},
   "source": [
    "## Collaborative Filtering"
   ]
  },
  {
   "cell_type": "code",
   "execution_count": null,
   "id": "24233862-ea7d-4f6e-b47c-83fdabffef88",
   "metadata": {},
   "outputs": [],
   "source": [
    "# class CollabAnalysis(Analysis):\n",
    "#     def __init__(datasplits:DataSplits,\n",
    "#                  sample_column='Sample ID',\n",
    "#                  item_column='peptide',\n",
    "#                  target_column='intensity')\n",
    "\n",
    "ana_collab = Analysis()\n",
    "ana_collab.X, ana_collab.frac = vaep_collab.combine_data(\n",
    "    data.train_X, data.val_X)\n",
    "\n",
    "# to = TabularCollab(df=ana_collab.X,\n",
    "#                    procs=[Categorify],\n",
    "#                    cat_names=['Sample ID','peptide'],\n",
    "#                    y_names=['intensity'],\n",
    "#                    y_block=TransformBlock(),\n",
    "#                    splits=ana_collab.splits)\n",
    "# ana_collab.dls = to.dataloaders(path='.')\n",
    "\n",
    "ana_collab.dls = CollabDataLoaders.from_df(ana_collab.X, valid_pct=ana_collab.frac, seed=42,\n",
    "                                   user_name='Sample ID', item_name='peptide', rating_name='intensity',\n",
    "                                   bs=args.batch_size*8)"
   ]
  },
  {
   "cell_type": "code",
   "execution_count": null,
   "id": "12ffa243-151e-4220-a1d5-247f8aba3429",
   "metadata": {},
   "outputs": [],
   "source": [
    "ana_collab.cat_columns = 'peptide,Sample ID'.split(',') \n",
    "ana_collab.target_column = 'intensity'.split(',') \n",
    "\n",
    "ana_collab.model_kwargs = dict()\n",
    "ana_collab.model_kwargs['n_samples'] = len(ana_collab.dls.classes['Sample ID'])\n",
    "ana_collab.model_kwargs['n_peptides'] = len(ana_collab.dls.classes['peptide'])\n",
    "ana_collab.model_kwargs['dim_latent_factors'] = args.latent_dim\n",
    "ana_collab.model_kwargs['y_range'] = (\n",
    "    int(data.train_X.min()),\n",
    "    int(data.train_X.max())+1)\n",
    "print(\"Args:\")\n",
    "pprint(ana_collab.model_kwargs)"
   ]
  },
  {
   "cell_type": "code",
   "execution_count": null,
   "id": "4a02e061-6789-4f3d-8031-a40879c496c8",
   "metadata": {},
   "outputs": [],
   "source": [
    "# model = EmbeddingDotBias.from_classes(**ana_collab.model_kwargs)\n",
    "model = EmbeddingDotBias.from_classes(\n",
    "    n_factors=ana_collab.model_kwargs['dim_latent_factors'],\n",
    "    classes=ana_collab.dls.classes,\n",
    "    y_range=ana_collab.model_kwargs['y_range'])\n",
    "learn = Learner(dls=ana_collab.dls, model=model, loss_func=MSELossFlat(), \n",
    "                cbs=EarlyStoppingCallback(patience=1),\n",
    "                   model_dir=args.out_folder)\n",
    "if args.cuda:\n",
    "    learn.cuda()\n",
    "# learn.summary() # see comment at DAE"
   ]
  },
  {
   "cell_type": "markdown",
   "id": "f82a7346-0b44-44a4-b995-d655e05656f8",
   "metadata": {},
   "source": [
    "### Training"
   ]
  },
  {
   "cell_type": "code",
   "execution_count": null,
   "id": "8317c9e1-d128-4ab4-8d60-775cb85ef535",
   "metadata": {},
   "outputs": [],
   "source": [
    "try:\n",
    "    if args.force_train:\n",
    "        raise FileNotFoundError\n",
    "    learn = learn.load('collab_model')\n",
    "    logger.info(\"Loaded saved model\")\n",
    "except FileNotFoundError:\n",
    "    suggested_lr = learn.lr_find()\n",
    "    print(f\"{suggested_lr.valley = :.5f}\")\n",
    "    learn.fit_one_cycle(args.epochs_max, lr_max=suggested_lr.valley)\n",
    "    # learn.fit_one_cycle(args.epochs_max, lr_max=1e-3)\n",
    "    learn.save('collab_model')"
   ]
  },
  {
   "cell_type": "code",
   "execution_count": null,
   "id": "f572a836-8e24-42de-b7b4-91b052e4858f",
   "metadata": {},
   "outputs": [],
   "source": [
    "fig, ax = plt.subplots(figsize=(15, 8))\n",
    "ax.set_title('Collab loss: Reconstruction loss')\n",
    "learn.recorder.plot_loss(skip_start=5, ax=ax)\n",
    "vaep.savefig(fig, name='collab_training',\n",
    "                        folder=args.out_folder)"
   ]
  },
  {
   "cell_type": "markdown",
   "id": "e979b7f0-a673-4d3d-9d53-6ac02618eaed",
   "metadata": {},
   "source": [
    "### Predictions\n",
    "- validation data for collab is a mix of peptides both from the original training and validation data set\n",
    "- comparison for collab model will therefore not be 1 to 1 comparable with the Autoencoder models on the **validation**  data split"
   ]
  },
  {
   "cell_type": "code",
   "execution_count": null,
   "id": "d343fc16-222e-4c49-8fce-876d8ba3e663",
   "metadata": {},
   "outputs": [],
   "source": [
    "valid_pred_collab = ana_collab.dls.valid_ds.new(ana_collab.dls.valid_ds.all_cols).decode().items\n",
    "pred, target = learn.get_preds()\n",
    "valid_pred_collab['intensity_predicted'] = pred.flatten().numpy()\n",
    "valid_pred_collab = valid_pred_collab.set_index(['Sample ID', 'peptide'])\n",
    "valid_pred_collab"
   ]
  },
  {
   "cell_type": "markdown",
   "id": "bd22f63f-be3f-4f25-ad60-bafd6b028bd7",
   "metadata": {},
   "source": [
    "For predictions on test data, the sample embedding vector has to be initialized manuelly"
   ]
  },
  {
   "cell_type": "code",
   "execution_count": null,
   "id": "037d3a6e-f1e3-42f7-95f9-c7c7a168411a",
   "metadata": {},
   "outputs": [],
   "source": [
    "learn.cpu()"
   ]
  },
  {
   "cell_type": "code",
   "execution_count": null,
   "id": "9d2da554-ec56-4cf5-b234-2845babb8418",
   "metadata": {},
   "outputs": [],
   "source": [
    "# learn.classes['Sample ID'].o2i\n",
    "# learn.classes['Sample ID'].map_ids([1,3])\n",
    "idx = learn.classes['Sample ID'].map_objs(\n",
    "    ['20130403_QE4_LC6_TW_QC_MNT_HeLa_2', '20130409_QE4_LC6_TW_QC_MNT_HeLa_2'])\n",
    "idx = torch.tensor(idx)\n",
    "idx"
   ]
  },
  {
   "cell_type": "code",
   "execution_count": null,
   "id": "c5df7b12-0980-47e4-a9a1-dd8ba92fdd96",
   "metadata": {},
   "outputs": [],
   "source": [
    "learn.u_bias(idx) #.mean(dim=0)"
   ]
  },
  {
   "cell_type": "code",
   "execution_count": null,
   "id": "9436d59d-6330-4488-8906-204409700658",
   "metadata": {},
   "outputs": [],
   "source": [
    "learn.u_weight(idx) #.mean(dim=0)"
   ]
  },
  {
   "cell_type": "code",
   "execution_count": null,
   "id": "8fd252b2-1acd-4084-af87-bbeb8654d945",
   "metadata": {},
   "outputs": [],
   "source": [
    "def collab_dot_product(sample_embeddings:torch.tensor, sample_bias:torch.tensor,\n",
    "            feat_embeddings:Embedding, feat_bias:Embedding, items:torch.tensor,\n",
    "            y_range=None):\n",
    "    dot = sample_embeddings * feat_embeddings(items)\n",
    "    res = dot.sum(1) + sample_bias.squeeze() + feat_bias(items).squeeze()\n",
    "    res = res.detach()\n",
    "    if y_range is None:\n",
    "        return res\n",
    "    return torch.sigmoid(res) * (y_range[1]-y_range[0]) + y_range[0]"
   ]
  },
  {
   "cell_type": "code",
   "execution_count": null,
   "id": "62179085-1c1c-455e-bd76-ab0d75733569",
   "metadata": {},
   "outputs": [],
   "source": [
    "collab_dot_product(learn.u_weight(idx), learn.u_bias(idx),\n",
    "                   learn.i_weight, learn.i_bias, idx, # this is abritrary\n",
    "                   y_range=learn.y_range)"
   ]
  },
  {
   "cell_type": "markdown",
   "id": "a116671f-b503-439c-85a5-197aec46e56e",
   "metadata": {},
   "source": [
    "build new embeddings for test data"
   ]
  },
  {
   "cell_type": "code",
   "execution_count": null,
   "id": "fa8a4a66-2249-4b23-9746-7dd674f08001",
   "metadata": {},
   "outputs": [],
   "source": [
    "d, idx = nn.kneighbors(test_PCs)\n",
    "idx = torch.from_numpy(idx)\n",
    "\n",
    "test_sample_embeddings = learn.u_weight(idx).sum(1)\n",
    "test_sample_biases     = learn.u_bias(idx).sum(1)\n",
    "\n",
    "test_sample_embeddings = torch.nn.Embedding.from_pretrained(test_sample_embeddings)\n",
    "test_sample_biases = torch.nn.Embedding.from_pretrained(test_sample_biases)"
   ]
  },
  {
   "cell_type": "code",
   "execution_count": null,
   "id": "a66bd365-e561-40a1-9c62-e78238cffa59",
   "metadata": {},
   "outputs": [],
   "source": [
    "# fixed ?\n",
    "feat_embeddings = learn.i_weight(torch.arange(1, 1001))\n",
    "feat_biases = learn.i_bias(torch.arange(1, 1001))"
   ]
  },
  {
   "cell_type": "code",
   "execution_count": null,
   "id": "37146696-211f-4b98-b4ad-4f87a77a6013",
   "metadata": {},
   "outputs": [],
   "source": [
    "test_pred_collab = []\n",
    "for i in range(test_sample_biases.num_embeddings):\n",
    "    x = collab_dot_product(test_sample_embeddings(torch.tensor(i)), test_sample_biases(torch.tensor(i)),\n",
    "                   learn.i_weight,  learn.i_bias, torch.arange(1, 1001),\n",
    "                   y_range=learn.y_range)\n",
    "    test_pred_collab.append(x)\n",
    "\n",
    "test_pred_collab = torch.vstack(test_pred_collab)\n",
    "test_pred_collab = pd.DataFrame(test_pred_collab, \n",
    "                         columns=pd.Index(list(learn.classes['peptide'].items[1:]), name='peptide'), \n",
    "                         index=test_PCs.index)\n",
    "test_pred_collab = test_pred_collab.stack()\n",
    "test_pred_collab.unstack()"
   ]
  },
  {
   "cell_type": "code",
   "execution_count": null,
   "id": "2fe10ee0-78e1-44c8-b81c-e0bdd97b245c",
   "metadata": {},
   "outputs": [],
   "source": [
    "test_pred_fake_na['collab'] = test_pred_collab\n",
    "test_pred_real_na['collab'] = test_pred_collab\n",
    "test_pred_observed['collab'] = test_pred_collab"
   ]
  },
  {
   "cell_type": "markdown",
   "id": "49eced7a-6cd7-414e-b974-4bd1dbe3a787",
   "metadata": {},
   "source": [
    "## Data in wide format\n",
    "\n",
    "- Autoencoder need data in wide format"
   ]
  },
  {
   "cell_type": "code",
   "execution_count": null,
   "id": "cff8caf4-ccc9-4a36-a992-2cc596abe51a",
   "metadata": {},
   "outputs": [],
   "source": [
    "data.to_wide_format()\n",
    "args.M = data.train_X.shape[-1]\n",
    "data.val_X.head()"
   ]
  },
  {
   "cell_type": "markdown",
   "id": "250715cb-42ae-4d15-bc05-4154519747ab",
   "metadata": {},
   "source": [
    "Calculate hidden layer dimensionality based on latent space dimension and number of hidden layers requested:"
   ]
  },
  {
   "cell_type": "code",
   "execution_count": null,
   "id": "c52bbe24-a349-4771-9af5-ab9969d59def",
   "metadata": {},
   "outputs": [],
   "source": [
    "if isinstance(args.hidden_layers , int):\n",
    "    args.overwrite_entry(entry='hidden_layers', \n",
    "                         value=list(\n",
    "                             np.linspace(args.latent_dim, \n",
    "                                         args.M,\n",
    "                                         2+args.hidden_layers, \n",
    "                                         endpoint=True\n",
    "                                        ).astype(int)[1:-1])\n",
    "    )\n",
    "args"
   ]
  },
  {
   "cell_type": "markdown",
   "id": "f65a44eb-47bf-4bfa-914f-cc6bcadaeee3",
   "metadata": {},
   "source": [
    "## Denoising Autoencoder"
   ]
  },
  {
   "cell_type": "markdown",
   "id": "8d839950-bbc3-4572-bd51-fcbd0c3a0d72",
   "metadata": {},
   "source": [
    "### DataLoaders"
   ]
  },
  {
   "cell_type": "code",
   "execution_count": null,
   "id": "7bbed0af-64bd-45d8-9be2-5b856cb25cce",
   "metadata": {},
   "outputs": [],
   "source": [
    "dae_default_pipeline = sklearn.pipeline.Pipeline(\n",
    "    [\n",
    "        ('normalize', StandardScaler()),\n",
    "        ('impute', SimpleImputer(add_indicator=False))\n",
    "    ])\n",
    "\n",
    "dae_transforms = VaepPipeline(\n",
    "    df_train=data.train_X, encode=dae_default_pipeline, decode=['normalize'])\n",
    "\n",
    "dls = get_dls(data.train_X, data.val_X, transformer=dae_transforms)"
   ]
  },
  {
   "cell_type": "markdown",
   "id": "6bc52fd6-e8ac-4718-8635-cb381bcdf6c6",
   "metadata": {},
   "source": [
    "### Model"
   ]
  },
  {
   "cell_type": "code",
   "execution_count": null,
   "id": "f62cb96b-9d7f-4fc1-ac3f-5e95669fc358",
   "metadata": {},
   "outputs": [],
   "source": [
    "M = data.train_X.shape[-1]\n",
    "\n",
    "model = ae.Autoencoder(n_features=M, n_neurons=args.hidden_layers,\n",
    "                       last_decoder_activation=None, dim_latent=args.latent_dim)\n",
    "model"
   ]
  },
  {
   "cell_type": "markdown",
   "id": "a166a7ec-5bc3-435d-835d-987df45d0d35",
   "metadata": {},
   "source": [
    "### Learner"
   ]
  },
  {
   "cell_type": "code",
   "execution_count": null,
   "id": "cc0b1359-f42c-4e16-8553-acf88826a069",
   "metadata": {},
   "outputs": [],
   "source": [
    "learn = Learner(dls=dls, model=model,\n",
    "                loss_func=MSELossFlat(), cbs=[EarlyStoppingCallback(), ae.ModelAdapter()])"
   ]
  },
  {
   "cell_type": "code",
   "execution_count": null,
   "id": "f67b9b98-15dc-49e4-b77a-1b66ff2ae625",
   "metadata": {},
   "outputs": [],
   "source": [
    "learn.show_training_loop()"
   ]
  },
  {
   "cell_type": "markdown",
   "id": "d895cedf-e2bd-43be-992b-f07596bac4ec",
   "metadata": {},
   "source": [
    "Adding a `EarlyStoppingCallback` results in an error.  Potential fix in [PR3509](https://github.com/fastai/fastai/pull/3509) is not yet in current version. Try again later"
   ]
  },
  {
   "cell_type": "code",
   "execution_count": null,
   "id": "2c8ef035-a5b8-4f95-9955-b6cdb6974342",
   "metadata": {},
   "outputs": [],
   "source": [
    "# learn.summary()"
   ]
  },
  {
   "cell_type": "code",
   "execution_count": null,
   "id": "2fad0a84-3d3a-4e77-9f80-58b7f45f5352",
   "metadata": {},
   "outputs": [],
   "source": [
    "suggested_lr = learn.lr_find()\n",
    "suggested_lr"
   ]
  },
  {
   "cell_type": "markdown",
   "id": "29a13295-7e39-40c2-a84b-bdd8da357a0b",
   "metadata": {},
   "source": [
    "### Training\n"
   ]
  },
  {
   "cell_type": "code",
   "execution_count": null,
   "id": "4c568fe5-adfb-401c-afed-fabce46be0fe",
   "metadata": {},
   "outputs": [],
   "source": [
    "learn.fit_one_cycle(args.epochs_max, lr_max=suggested_lr.valley)"
   ]
  },
  {
   "cell_type": "code",
   "execution_count": null,
   "id": "04c2c41f-e61d-4a64-8763-42ffb8f34b2a",
   "metadata": {},
   "outputs": [],
   "source": [
    "fig, ax = plt.subplots(figsize=(15, 8))\n",
    "ax.set_title('DAE loss: Reconstruction loss')\n",
    "learn.recorder.plot_loss(skip_start=5, ax=ax)\n",
    "vaep.savefig(fig, name='dae_training',\n",
    "                        folder=args.out_folder)"
   ]
  },
  {
   "cell_type": "markdown",
   "id": "018a39ee-6956-4428-8fdf-b58b22039e06",
   "metadata": {},
   "source": [
    "### Predictions\n",
    "\n",
    "- on validation dataset"
   ]
  },
  {
   "cell_type": "code",
   "execution_count": null,
   "id": "c965ca0f-5936-460d-b696-015d7db01d75",
   "metadata": {},
   "outputs": [],
   "source": [
    "pred, target =res = ae.get_preds_from_df(df=data.val_X, learn=learn, transformer=dae_transforms)\n",
    "\n",
    "valid_pred['DAE'] = pred.stack()"
   ]
  },
  {
   "cell_type": "markdown",
   "id": "d37cebf6-2bb0-4e3e-93cd-5e83ae8af4e6",
   "metadata": {},
   "source": [
    "- on test dataset"
   ]
  },
  {
   "cell_type": "code",
   "execution_count": null,
   "id": "4d04a5e1-36a1-496a-b9c8-4443596e54e1",
   "metadata": {},
   "outputs": [],
   "source": [
    "res = ae.get_preds_from_df(df=data.test_X, learn=learn, transformer=dae_transforms)\n",
    "\n",
    "pred, target = res\n",
    "assert len(data.test_X) == len(pred) == len(target)\n",
    "# list(map(lambda x: x.shape, res))\n",
    "L(res).map(lambda x: x.shape)"
   ]
  },
  {
   "cell_type": "markdown",
   "id": "5cdc7c67-2a14-4a6d-947b-ba8c9213f756",
   "metadata": {},
   "source": [
    "Some sanity checks \n",
    "- needs to go into test"
   ]
  },
  {
   "cell_type": "code",
   "execution_count": null,
   "id": "b05cdc22-5eff-419c-b245-61af1550eb24",
   "metadata": {},
   "outputs": [],
   "source": [
    "# dl_test = get_test_dl(df=data.test_X, transformer=dae_transforms, dataset=DatasetWithTarget)\n",
    "# all(dl_test.dataset.mask_obs == data.test_X.isna())"
   ]
  },
  {
   "cell_type": "code",
   "execution_count": null,
   "id": "781982cb-0ed2-474e-bb37-44d1e4cfecbb",
   "metadata": {},
   "outputs": [],
   "source": [
    "test_pred_observed_dae, test_pred_dae = models.split_prediction_by_mask(pred=pred,\n",
    "                         mask=data.test_X.isna(),\n",
    "                         check_keeps_all=True)\n",
    "test_pred_fake_na_dae = test_pred_dae.loc[test_pred_fake_na.index]\n",
    "test_pred_real_na_dae = test_pred_dae.loc[test_pred_dae.index.difference(test_pred_fake_na_dae.index)]\n",
    "_ = models.compare_indices(test_pred_real_na_dae.index, data.test_y.stack().index)\n",
    "\n",
    "test_pred_observed['DAE'] = test_pred_observed_dae\n",
    "test_pred_fake_na['DAE'] = test_pred_fake_na_dae\n",
    "test_pred_real_na['DAE'] = test_pred_real_na_dae"
   ]
  },
  {
   "cell_type": "markdown",
   "id": "15ef92e2-3791-43b4-b6d9-71fc4f7dfcc9",
   "metadata": {},
   "source": [
    "### Plots\n",
    "\n",
    "- validation data\n",
    "- [ ] add test data"
   ]
  },
  {
   "cell_type": "code",
   "execution_count": null,
   "id": "cc065c5f-7bba-48d5-bc87-e4cf90462a6f",
   "metadata": {},
   "outputs": [],
   "source": [
    "df_dae_latent = vaep.model.get_latent_space(model.encoder, dl=dls.valid, dl_index=dls.valid.data.index)\n",
    "df_dae_latent"
   ]
  },
  {
   "cell_type": "code",
   "execution_count": null,
   "id": "7b915728-5e84-45b7-bbc0-da32bc657091",
   "metadata": {},
   "outputs": [],
   "source": [
    "val_meta = analyzers.build_metadata_df(data.val_X.index)\n",
    "val_meta"
   ]
  },
  {
   "cell_type": "code",
   "execution_count": null,
   "id": "33404d1b-f553-4e05-be7e-821511883507",
   "metadata": {},
   "outputs": [],
   "source": [
    "ana_latent_dae = analyzers.LatentAnalysis(df_dae_latent, val_meta, 'DAE', folder=args.out_folder)\n",
    "figures['latent_DAE_by_date'], ax = ana_latent_dae.plot_by_date()"
   ]
  },
  {
   "cell_type": "code",
   "execution_count": null,
   "id": "106da46a-bfce-457d-b9dd-a873cf6cdd4a",
   "metadata": {},
   "outputs": [],
   "source": [
    "figures['latent_DAE_by_ms_instrument'], ax = ana_latent_dae.plot_by_category('ms_instrument')"
   ]
  },
  {
   "cell_type": "markdown",
   "id": "6de7a68e-34a3-463f-a1b3-7c76a8855ca0",
   "metadata": {},
   "source": [
    "## Variational Autoencoder"
   ]
  },
  {
   "cell_type": "markdown",
   "id": "7f5c05d4-d0bb-476f-b955-ac5822c38f86",
   "metadata": {},
   "source": [
    "### DataLoaders"
   ]
  },
  {
   "cell_type": "code",
   "execution_count": null,
   "id": "e0d0d02f",
   "metadata": {},
   "outputs": [],
   "source": [
    "vae_default_pipeline = sklearn.pipeline.Pipeline(\n",
    "    [\n",
    "        ('normalize', MinMaxScaler()),\n",
    "        ('impute', SimpleImputer(add_indicator=False))\n",
    "    ])\n",
    "\n",
    "vae_transforms = VaepPipeline(\n",
    "    df_train=data.train_X, encode=vae_default_pipeline, decode=['normalize'])\n",
    "\n",
    "dls = get_dls(data.train_X, data.val_X, transformer=vae_transforms)"
   ]
  },
  {
   "cell_type": "markdown",
   "id": "ae2f194f-a879-4190-89b9-5b370a827212",
   "metadata": {},
   "source": [
    "### Model"
   ]
  },
  {
   "cell_type": "code",
   "execution_count": null,
   "id": "43d49b4a-00ec-4874-8839-28a3cbc0e3b3",
   "metadata": {},
   "outputs": [],
   "source": [
    "from torch.nn import Sigmoid\n",
    "\n",
    "M = data.train_X.shape[-1]\n",
    "model = ae.VAE(n_features=M,\n",
    "               n_neurons=args.hidden_layers,\n",
    "               last_encoder_activation=None,\n",
    "               last_decoder_activation=Sigmoid,\n",
    "               dim_latent=args.latent_dim)\n",
    "model"
   ]
  },
  {
   "cell_type": "markdown",
   "id": "ef5410d9-8b64-45bc-96d3-4b04145043c0",
   "metadata": {},
   "source": [
    "### Training"
   ]
  },
  {
   "cell_type": "code",
   "execution_count": null,
   "id": "f4b0aec2",
   "metadata": {},
   "outputs": [],
   "source": [
    "learn = Learner(dls=dls,\n",
    "                model=model,\n",
    "                loss_func=ae.loss_fct_vae,\n",
    "                cbs=[ae.ModelAdapterVAE(), EarlyStoppingCallback()])\n",
    "\n",
    "learn.show_training_loop()\n",
    "# learn.summary() # see comment above under DAE"
   ]
  },
  {
   "cell_type": "code",
   "execution_count": null,
   "id": "563a1e0a",
   "metadata": {},
   "outputs": [],
   "source": [
    "suggested_lr = learn.lr_find()\n",
    "suggested_lr"
   ]
  },
  {
   "cell_type": "code",
   "execution_count": null,
   "id": "43d18ab6",
   "metadata": {},
   "outputs": [],
   "source": [
    "learn.fit_one_cycle(args.epochs_max, lr_max=suggested_lr.valley)"
   ]
  },
  {
   "cell_type": "markdown",
   "id": "9db46826-6ab0-47b5-942c-0edc08a15e35",
   "metadata": {},
   "source": [
    "### Predictions"
   ]
  },
  {
   "cell_type": "code",
   "execution_count": null,
   "id": "e73fb4dd-e73a-48df-82b7-b378fd3ee266",
   "metadata": {},
   "outputs": [],
   "source": [
    "pred, target =res = ae.get_preds_from_df(df=data.val_X, learn=learn, \n",
    "                                         position_pred_tuple=0, \n",
    "                                         transformer=vae_transforms)\n",
    "valid_pred['VAE'] = pred.stack()"
   ]
  },
  {
   "cell_type": "code",
   "execution_count": null,
   "id": "60fdc242-a2ea-4d87-81f3-0c11bfbb3e0e",
   "metadata": {},
   "outputs": [],
   "source": [
    "dl_test = get_test_dl(df=data.test_X, transformer=vae_transforms, dataset=DatasetWithTarget)\n",
    "\n",
    "pred, target = learn.get_preds(dl=dl_test, act=noop, concat_dim=0, reorder=False)\n",
    "len(pred[0]), len(target)"
   ]
  },
  {
   "cell_type": "code",
   "execution_count": null,
   "id": "89479838-94c7-4414-8845-848f7f204588",
   "metadata": {},
   "outputs": [],
   "source": [
    "res = ae.get_preds_from_df(df=data.test_X, learn=learn, \n",
    "                        position_pred_tuple=0,\n",
    "                        transformer=vae_transforms)\n",
    "# res[1]"
   ]
  },
  {
   "cell_type": "code",
   "execution_count": null,
   "id": "f82a59ee-60b4-4735-b02b-be9a40f82ee6",
   "metadata": {},
   "outputs": [],
   "source": [
    "test_pred_observed_vae, test_pred_vae = models.split_prediction_by_mask(pred=res[0],\n",
    "                         mask=dl_test.dataset.mask_obs,\n",
    "                         check_keeps_all=True)\n",
    "test_pred_fake_na_vae = test_pred_vae.loc[test_pred_fake_na.index]\n",
    "test_pred_real_na_vae = test_pred_vae.loc[test_pred_vae.index.difference(test_pred_fake_na_vae.index)]\n",
    "_ = models.compare_indices(test_pred_real_na_vae.index, test_pred_real_na.index)\n",
    "\n",
    "test_pred_observed['VAE'] = test_pred_observed_vae\n",
    "test_pred_fake_na['VAE'] = test_pred_fake_na_vae\n",
    "test_pred_real_na['VAE'] = test_pred_real_na_vae"
   ]
  },
  {
   "cell_type": "markdown",
   "id": "d6c3dd2a-a30c-4e72-b5e8-7de2a7469eb2",
   "metadata": {},
   "source": [
    "### Plots\n",
    "\n",
    "- validation data"
   ]
  },
  {
   "cell_type": "code",
   "execution_count": null,
   "id": "7999c89e-65fe-4c00-8e20-cb8ab88d1603",
   "metadata": {},
   "outputs": [],
   "source": [
    "df_vae_latent = vaep.model.get_latent_space(model.get_mu_and_logvar, dl=dls.valid, dl_index=dls.valid.data.index)\n",
    "df_vae_latent"
   ]
  },
  {
   "cell_type": "code",
   "execution_count": null,
   "id": "1fdd8f86-639e-4e0e-bb89-466f3ba0ef7b",
   "metadata": {},
   "outputs": [],
   "source": [
    "_model_key = 'VAE'\n",
    "ana_latent_vae = analyzers.LatentAnalysis(df_vae_latent, val_meta, _model_key, folder=args.out_folder)\n",
    "figures[f'latent_{_model_key}_by_date'], ax = ana_latent_vae.plot_by_date()"
   ]
  },
  {
   "cell_type": "code",
   "execution_count": null,
   "id": "763a5633-a9dd-4785-a0c0-91f588346c22",
   "metadata": {},
   "outputs": [],
   "source": [
    "_cat = 'ms_instrument'\n",
    "figures[f'latent_{_model_key}_by_{_cat}'], ax = ana_latent_vae.plot_by_category(_cat)"
   ]
  },
  {
   "cell_type": "markdown",
   "id": "29f16d62-f1c8-4447-bdd3-2d3161b6346f",
   "metadata": {},
   "source": [
    "## Comparisons"
   ]
  },
  {
   "cell_type": "markdown",
   "id": "6d10b788-ac62-4653-a4a3-24e350c8687e",
   "metadata": {},
   "source": []
  },
  {
   "cell_type": "markdown",
   "id": "861b9b3c-11d0-4cda-98c9-fadea16e47c4",
   "metadata": {},
   "source": [
    "### Validation data\n",
    "\n",
    "- all measured (identified, observed) peptides in validation data\n",
    "\n",
    "> Does not make to much sense to compare collab and AEs,  \n",
    "> as the setup differs of training and validation data differs"
   ]
  },
  {
   "cell_type": "code",
   "execution_count": null,
   "id": "1fd88e70-fb92-42e3-800d-52855c59df54",
   "metadata": {},
   "outputs": [],
   "source": [
    "metrics = models.get_metrics_df(pred_df = valid_pred_collab)\n",
    "# metrics.sort_values(by=[k for k, f in scoring], axis=1)\n",
    "metrics.to_csv(args.out_folder / f'metrics_valid_split_observed.csv',\n",
    "               float_format='{:.3f}'.format)\n",
    "metrics"
   ]
  },
  {
   "cell_type": "code",
   "execution_count": null,
   "id": "6639732f-ea19-4133-a59b-a0f87f2b5a47",
   "metadata": {},
   "outputs": [],
   "source": [
    "metrics = models.get_metrics_df(pred_df = valid_pred)\n",
    "# metrics.sort_values(by=[k for k, f in scoring], axis=1)\n",
    "metrics.to_csv(args.out_folder / f'metrics_valid_split_observed.csv',\n",
    "               float_format='{:.3f}'.format)\n",
    "metrics"
   ]
  },
  {
   "cell_type": "markdown",
   "id": "80fda7f1-3024-46bc-a3c1-17f509016bd4",
   "metadata": {},
   "source": [
    "### Test Datasplit\n",
    "\n",
    "Fake NAs : Artificially created NAs. Some data was sampled and set explicitly to misssing before it was fed to the model for reconstruction."
   ]
  },
  {
   "cell_type": "code",
   "execution_count": null,
   "id": "571ac8d4-bb5d-45db-bba8-59817e476304",
   "metadata": {},
   "outputs": [],
   "source": [
    "metrics = models.get_metrics_df(pred_df = test_pred_fake_na)\n",
    "# metrics.sort_values(by=[k for k, f in scoring], axis=1)\n",
    "metrics.to_csv(args.out_folder / f'metrics_fake_na.csv',\n",
    "               float_format='{:.3f}'.format)\n",
    "metrics"
   ]
  },
  {
   "cell_type": "markdown",
   "id": "6506b4d8-aeb3-4452-8f66-56b61f6ba39d",
   "metadata": {},
   "source": [
    "Non missing data, which was fed to the model"
   ]
  },
  {
   "cell_type": "code",
   "execution_count": null,
   "id": "bec46972-20fe-4d49-81ee-ad0144303542",
   "metadata": {},
   "outputs": [],
   "source": [
    "metrics = models.get_metrics_df(pred_df = test_pred_observed)\n",
    "# metrics.sort_values(by=[k for k, f in scoring], axis=1)\n",
    "metrics.to_csv(args.out_folder / f'metrics_observed.csv',\n",
    "               float_format='{:.3f}'.format)\n",
    "metrics"
   ]
  },
  {
   "cell_type": "markdown",
   "id": "72c19b74-bda3-4397-bf56-e77aae9f4cd2",
   "metadata": {},
   "source": [
    "True NA data which was interpolated by other samples\n",
    "> Comparing to imputation with each other might not be sensible"
   ]
  },
  {
   "cell_type": "code",
   "execution_count": null,
   "id": "9589e42a-4487-40ab-8cf8-232df468c5cd",
   "metadata": {},
   "outputs": [],
   "source": [
    "metrics = models.get_metrics_df(pred_df = test_pred_real_na)\n",
    "# metrics.sort_values(by=[k for k, f in scoring], axis=1)\n",
    "metrics.to_csv(args.out_folder / f'metrics_real_na.csv',\n",
    "               float_format='{:.3f}'.format)\n",
    "metrics"
   ]
  },
  {
   "cell_type": "code",
   "execution_count": null,
   "id": "f94feacf-2666-46f8-8380-2198776e2af7",
   "metadata": {},
   "outputs": [],
   "source": [
    "# analysis per sample?\n",
    "# analysis per peptide?\n",
    "# (test_pred_real_na['replicated'] - test_pred_real_na['DAE']).sort_values().plot(rot=45)"
   ]
  },
  {
   "cell_type": "code",
   "execution_count": null,
   "id": "6a65f450-e73a-456e-984b-b60c9f299222",
   "metadata": {},
   "outputs": [],
   "source": [
    "# mask = test_pred_observed > 29\n",
    "# test_pred_df = test_pred_observed.where(~mask, np.nan)\n",
    "# models.get_metrics_df(test_pred_df.dropna(subset=['measured']))"
   ]
  },
  {
   "cell_type": "markdown",
   "id": "42f2c184-e9ef-42be-ae87-7cbf52a0c0b6",
   "metadata": {},
   "source": [
    "## Config"
   ]
  },
  {
   "cell_type": "code",
   "execution_count": null,
   "id": "0f13cb38-abf0-4b56-9399-3d11d32f7fbc",
   "metadata": {},
   "outputs": [],
   "source": [
    "args.dump()\n",
    "args"
   ]
  },
  {
   "cell_type": "code",
   "execution_count": null,
   "id": "3244178a-d98c-4d81-bfe8-1c9f685a8633",
   "metadata": {},
   "outputs": [],
   "source": []
  }
 ],
 "metadata": {
  "interpreter": {
   "hash": "ca718f398b3a596c3df6787ca2afa269ec54c58eb9478d66aeb41db8e6cb8262"
  },
  "kernelspec": {
   "display_name": "vaep",
   "language": "python",
   "name": "vaep"
  },
  "language_info": {
   "codemirror_mode": {
    "name": "ipython",
    "version": 3
   },
   "file_extension": ".py",
   "mimetype": "text/x-python",
   "name": "python",
   "nbconvert_exporter": "python",
   "pygments_lexer": "ipython3",
   "version": "3.8.12"
  }
 },
 "nbformat": 4,
 "nbformat_minor": 5
}
