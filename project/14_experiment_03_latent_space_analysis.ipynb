{
 "cells": [
  {
   "cell_type": "markdown",
   "id": "f0e1208b-9b36-4294-b3fd-910e05a82f2e",
   "metadata": {},
   "source": [
    "# Latent space visualization"
   ]
  },
  {
   "cell_type": "code",
   "execution_count": null,
   "id": "18b5d571-2956-4112-b22c-43d6c2146b06",
   "metadata": {},
   "outputs": [],
   "source": [
    "import logging\n",
    "from pathlib import Path\n",
    "from pprint import pprint\n",
    "from src.nb_imports import *\n",
    "import plotly.express as px\n",
    "\n",
    "from typing import Union\n",
    "\n",
    "from fastai.losses import MSELossFlat\n",
    "from fastai.learner import Learner\n",
    "\n",
    "\n",
    "import fastai\n",
    "# from fastai.tabular.all import *\n",
    "\n",
    "from fastai.basics import *\n",
    "from fastai.callback.all import *\n",
    "from fastai.torch_basics import *\n",
    "from fastai.data.all import *\n",
    "\n",
    "from fastai.tabular.all import *\n",
    "from fastai.collab import *\n",
    "\n",
    "# overwriting Recorder callback with custom plot_loss\n",
    "from vaep.models import plot_loss, RecorderDump, calc_net_weight_count\n",
    "from fastai import learner\n",
    "learner.Recorder.plot_loss = plot_loss\n",
    "# import fastai.callback.hook # Learner.summary\n",
    "\n",
    "import sklearn\n",
    "from sklearn.impute import SimpleImputer\n",
    "from sklearn.preprocessing import StandardScaler\n",
    "from sklearn.preprocessing import MinMaxScaler\n",
    "\n",
    "import vaep\n",
    "import vaep.model\n",
    "import vaep.models as models\n",
    "from vaep.models import ae\n",
    "from vaep.models import collab as vaep_collab\n",
    "from vaep.io.datasets import DatasetWithTarget\n",
    "from vaep.transform import VaepPipeline\n",
    "from vaep.io import datasplits\n",
    "# from vaep.io.dataloaders import get_dls, get_test_dl\n",
    "from vaep import sampling\n",
    "\n",
    "import src\n",
    "from vaep.analyzers import analyzers\n",
    "from src import config\n",
    "from vaep.logging import setup_logger\n",
    "logger = setup_logger(logger=logging.getLogger('vaep'))\n",
    "logger.info(\"Experiment 03 - Analysis of latent spaces and performance comparisions\")\n",
    "\n",
    "figures = {}  # collection of ax or figures"
   ]
  },
  {
   "cell_type": "markdown",
   "id": "43f062bb-8d2c-4afa-8a81-9e2a328050fe",
   "metadata": {},
   "source": [
    "Papermill script parameters:"
   ]
  },
  {
   "cell_type": "code",
   "execution_count": null,
   "id": "297f14bc-3c37-43fa-8217-f790f0593d78",
   "metadata": {
    "tags": [
     "parameters"
    ]
   },
   "outputs": [],
   "source": [
    "# folders\n",
    "folder_experiment:str = 'runs/experiment_03/df_intensities_proteinGroups_long_2017_2018_2019_2020_N05015_M04547/Q_Exactive_HF_X_Orbitrap_Exactive_Series_slot_#6070' # Datasplit folder with data for experiment\n",
    "fn_rawfile_metadata: str = 'data/files_selected_metadata.csv' # Machine parsed metadata from rawfile workflow\n",
    "# out_folder:str = 'runs/experiment_03' # Output folder to store all figures and metrics\n",
    "# training\n",
    "# n_training_samples_max:int = 1000 # Maximum number of training samples to use for training. Take most recent\n",
    "epochs_max:int = 10  # Maximum number of epochs\n",
    "# early_stopping:bool = True # Wheather to use early stopping or not\n",
    "batch_size:int = 64 # Batch size for training (and evaluation)\n",
    "cuda:bool=True # Use the GPU for training?\n",
    "# model\n",
    "latent_dim:int = 10 # Dimensionality of encoding dimension (latent space of model)\n",
    "hidden_layers:Union[int,str] = 3 # A space separated string of layers, '50 20' for the encoder, reverse will be use for decoder\n",
    "force_train:bool = True # Force training when saved model could be used. Per default re-train model"
   ]
  },
  {
   "cell_type": "markdown",
   "id": "1da8e04b-2eb2-4ecb-b1d1-2de871cd0a56",
   "metadata": {},
   "source": [
    "Some argument transformations"
   ]
  },
  {
   "cell_type": "code",
   "execution_count": null,
   "id": "0746e70f-0259-48d5-90ef-25fe4b59f9ac",
   "metadata": {},
   "outputs": [],
   "source": [
    "args = config.Config()\n",
    "args.fn_rawfile_metadata = fn_rawfile_metadata; del fn_rawfile_metadata\n",
    "args.folder_experiment = Path(folder_experiment); del folder_experiment; args.folder_experiment.mkdir(exist_ok=True, parents=True)\n",
    "args.out_folder = args.folder_experiment\n",
    "args.data = args.folder_experiment / 'data'\n",
    "args.out_figures = args.folder_experiment / 'figures'; args.out_figures.mkdir(exist_ok=True)\n",
    "args.out_metrics = args.folder_experiment / 'metrics'; args.out_metrics.mkdir(exist_ok=True)\n",
    "args.out_models = args.folder_experiment / 'models' ; args.out_models.mkdir(exist_ok=True)\n",
    "# args.n_training_samples_max = n_training_samples_max; del n_training_samples_max\n",
    "args.epochs_max = epochs_max; del epochs_max\n",
    "args.batch_size = batch_size; del batch_size\n",
    "args.cuda = cuda; del cuda\n",
    "args.latent_dim = latent_dim; del latent_dim\n",
    "args.force_train = force_train; del force_train\n",
    "\n",
    "print(hidden_layers)\n",
    "if isinstance(hidden_layers, int):\n",
    "    args.hidden_layers = hidden_layers\n",
    "elif isinstance(hidden_layers, str):\n",
    "    args.hidden_layers = [int(x) for x in hidden_layers.split()]\n",
    "                         # list(map(int, hidden_layers.split()))\n",
    "else:\n",
    "    raise ValueError(f\"hidden_layers is of unknown type {type(hidden_layers)}\")\n",
    "del hidden_layers\n",
    "args"
   ]
  },
  {
   "cell_type": "markdown",
   "id": "3d59f6d8-9cb1-461a-8d62-2ab4458cab60",
   "metadata": {},
   "source": [
    "Some naming conventions"
   ]
  },
  {
   "cell_type": "code",
   "execution_count": null,
   "id": "a19fe098-a029-4f71-b7fb-e652a9c16ac7",
   "metadata": {},
   "outputs": [],
   "source": [
    "TEMPLATE_MODEL_PARAMS = 'model_params_{}.json'"
   ]
  },
  {
   "cell_type": "markdown",
   "id": "976cc005-0c5f-4e88-9656-c549e613ca68",
   "metadata": {},
   "source": [
    "## Load data in long format"
   ]
  },
  {
   "cell_type": "code",
   "execution_count": null,
   "id": "6d9cc7bd-6b6f-40b9-8db7-c8228e4b03e3",
   "metadata": {},
   "outputs": [],
   "source": [
    "data = datasplits.DataSplits.from_folder(args.data) \n",
    "# select max_train_samples"
   ]
  },
  {
   "cell_type": "markdown",
   "id": "5a63d930-7b68-4759-9090-e6c9c8112786",
   "metadata": {},
   "source": [
    "- data representation not to easy yet\n",
    "- should validation and test y (the imputed cases using replicates) be only generated in an application to \n",
    "  keep unmanipulated data separate from imputed values?"
   ]
  },
  {
   "cell_type": "code",
   "execution_count": null,
   "id": "82835aff-fb85-498a-91f3-565634aa5c5b",
   "metadata": {},
   "outputs": [],
   "source": [
    "# data # uncommet to see current representation"
   ]
  },
  {
   "cell_type": "markdown",
   "id": "3ca12fc2-bf34-42ac-99b2-a78ff9fe7722",
   "metadata": {},
   "source": [
    "data is loaded in long format"
   ]
  },
  {
   "cell_type": "code",
   "execution_count": null,
   "id": "02bb6bf5-0eb1-4c73-9723-414b14eaf7c8",
   "metadata": {},
   "outputs": [],
   "source": [
    "data.train_X.sample(5)"
   ]
  },
  {
   "cell_type": "markdown",
   "id": "a94ae06d-64dd-4f4f-abde-8485a8c8458e",
   "metadata": {},
   "source": [
    "meta data for splits"
   ]
  },
  {
   "cell_type": "code",
   "execution_count": null,
   "id": "b5b945aa-9b4e-4487-8b09-dca289e64d9d",
   "metadata": {},
   "outputs": [],
   "source": [
    "df_meta = pd.read_csv(args.fn_rawfile_metadata, index_col=0)\n",
    "df_meta.loc[data.train_X.index.levels[0]]"
   ]
  },
  {
   "cell_type": "markdown",
   "id": "a7ef773a-5588-4b11-9bd7-840b628eeaff",
   "metadata": {},
   "source": [
    "## Initialize Comparison\n",
    "\n",
    "- replicates idea for truely missing values: Define truth as by using n=3 replicates to impute\n",
    "  each sample\n",
    "- real test data:\n",
    "    - Not used for predictions or early stopping.\n",
    "    - [x] add some additional NAs based on distribution of data"
   ]
  },
  {
   "cell_type": "code",
   "execution_count": null,
   "id": "98f675b6-e619-45b6-8f04-b75237d212a7",
   "metadata": {},
   "outputs": [],
   "source": [
    "freq_peptides = sampling.frequency_by_index(data.train_X, 0)\n",
    "freq_peptides.head() # training data"
   ]
  },
  {
   "cell_type": "markdown",
   "id": "e02afb4e-ee91-4753-a118-7fa20fe621c9",
   "metadata": {},
   "source": [
    "### Produce some addional fake samples"
   ]
  },
  {
   "cell_type": "markdown",
   "id": "02d5763b-00fe-44ce-9dfa-b6e506045762",
   "metadata": {},
   "source": [
    "The validation fake NA could be used to by all models (although the collab model will have another \"validation\" data split"
   ]
  },
  {
   "cell_type": "code",
   "execution_count": null,
   "id": "19eebaff-0e1e-4e44-ae40-12d2f0e75c74",
   "metadata": {},
   "outputs": [],
   "source": [
    "val_pred_fake_na = data.val_y.to_frame(name='observed')\n",
    "# val_pred_fake_na['interpolated'] = data.interpolate('val_X')\n",
    "val_pred_fake_na"
   ]
  },
  {
   "cell_type": "code",
   "execution_count": null,
   "id": "3797a539-84d9-430a-8d16-7cc0eebfe9f5",
   "metadata": {},
   "outputs": [],
   "source": [
    "test_pred_fake_na = data.test_y.to_frame(name='observed')\n",
    "# test_pred_fake_na['interpolated'] = data.interpolate('test_X') # \"gold standard\"\n",
    "test_pred_fake_na.describe()"
   ]
  },
  {
   "cell_type": "markdown",
   "id": "98c16c4a-5363-406e-b180-bb58d83b5719",
   "metadata": {},
   "source": [
    "Real NA with all missing values or only with interpolated missing values\n",
    "\n",
    "- real NAs cannot be evaluated exactly. \n",
    "- One could use a gold standard (e.g. interpolation or MBRs) to do this\n",
    "- for now the interpolation is not exact enough"
   ]
  },
  {
   "cell_type": "code",
   "execution_count": null,
   "id": "19630070-ee12-4212-91e3-7d98bb25e4c2",
   "metadata": {},
   "outputs": [],
   "source": [
    "# test_pred_real_na = data.interpolate('test_X').to_frame('interpolated')\n",
    "# test_pred_real_na = test_pred_real_na.loc[test_pred_real_na.index.difference(test_pred_fake_na.index)]\n",
    "\n",
    "# test_pred_real_na # does not contain NAs"
   ]
  },
  {
   "cell_type": "code",
   "execution_count": null,
   "id": "35d07aeb-038b-4161-acb6-39ec4487c0d5",
   "metadata": {},
   "outputs": [],
   "source": [
    "# test_pred_observed = data.test_X.to_frame('measured')\n",
    "# test_pred_observed.sort_index(inplace=True)"
   ]
  },
  {
   "cell_type": "markdown",
   "id": "ed03ebd7-c369-43a3-9120-6414f31f3365",
   "metadata": {},
   "source": [
    "And predictions on validation (to see if the test data performs worse than the validation data, which was only used for early stopping)\n",
    "- possibility to also mask some predictions for model"
   ]
  },
  {
   "cell_type": "code",
   "execution_count": null,
   "id": "7c2b6dd3-72bb-4509-b3a3-51278b003540",
   "metadata": {},
   "outputs": [],
   "source": [
    "# valid_pred = data.val_X.to_frame('measured')\n",
    "# valid_pred"
   ]
  },
  {
   "cell_type": "markdown",
   "id": "06b64f9f-ee45-455e-985a-4617c0d5f019",
   "metadata": {},
   "source": [
    "### PCA plot of training data\n",
    "\n",
    " > moved to data selection notebook (`14_experiment_03_data.ipynb`)"
   ]
  },
  {
   "cell_type": "markdown",
   "id": "d00ea8e9-7f48-4f72-b013-7010666aa1a2",
   "metadata": {},
   "source": [
    "## Collaborative Filtering\n",
    "\n",
    "- save custom collab batch size (increase AE batch size by a factor), could be setup separately."
   ]
  },
  {
   "cell_type": "code",
   "execution_count": null,
   "id": "3ee54305-266a-479a-b677-f151ddde250a",
   "metadata": {},
   "outputs": [],
   "source": [
    "# larger mini-batches speed up training\n",
    "args.batch_size_collab = args.batch_size*64\n",
    "\n",
    "ana_collab = models.collab.CollabAnalysis(datasplits=data,\n",
    "                                          sample_column='Sample ID',\n",
    "                                          item_column='peptide',\n",
    "                                          target_column='intensity',\n",
    "                                          model_kwargs=dict(n_factors=args.latent_dim,\n",
    "                                                            y_range=(int(data.train_X.min()),\n",
    "                                                                     int(data.train_X.max())+1)\n",
    "                                                            ),\n",
    "                                          batch_size=args.batch_size_collab)"
   ]
  },
  {
   "cell_type": "code",
   "execution_count": null,
   "id": "12ffa243-151e-4220-a1d5-247f8aba3429",
   "metadata": {},
   "outputs": [],
   "source": [
    "print(\"Args:\")\n",
    "pprint(ana_collab.model_kwargs)"
   ]
  },
  {
   "cell_type": "code",
   "execution_count": null,
   "id": "4a02e061-6789-4f3d-8031-a40879c496c8",
   "metadata": {},
   "outputs": [],
   "source": [
    "ana_collab.model = EmbeddingDotBias.from_classes(\n",
    "    classes=ana_collab.dls.classes,\n",
    "    **ana_collab.model_kwargs)\n",
    "\n",
    "args.n_params_collab = models.calc_net_weight_count(ana_collab.model)\n",
    "ana_collab.params['n_parameters'] = args.n_params_collab\n",
    "ana_collab.learn = Learner(dls=ana_collab.dls, model=ana_collab.model, loss_func=MSELossFlat(),\n",
    "                cbs=EarlyStoppingCallback(patience=1),\n",
    "                model_dir=args.out_models)\n",
    "if args.cuda:\n",
    "    ana_collab.learn.model = ana_collab.learn.model.cuda()\n",
    "# learn.summary() # see comment at DAE"
   ]
  },
  {
   "cell_type": "markdown",
   "id": "f82a7346-0b44-44a4-b995-d655e05656f8",
   "metadata": {},
   "source": [
    "### Training"
   ]
  },
  {
   "cell_type": "code",
   "execution_count": null,
   "id": "8317c9e1-d128-4ab4-8d60-775cb85ef535",
   "metadata": {},
   "outputs": [],
   "source": [
    "#papermill_description=train_collab\n",
    "try:\n",
    "    if args.force_train:\n",
    "        raise FileNotFoundError\n",
    "    ana_collab.learn = ana_collab.learn.load('collab_model')\n",
    "    logger.info(\"Loaded saved model\")\n",
    "    recorder_loaded = RecorderDump.load(args.out_figures, \"collab\")\n",
    "    logger.info(\"Loaded dumped figure data.\")\n",
    "    recorder_loaded.plot_loss()\n",
    "    del recorder_loaded\n",
    "except FileNotFoundError:\n",
    "    suggested_lr = ana_collab.learn.lr_find()\n",
    "    print(f\"{suggested_lr.valley = :.5f}\")\n",
    "    ana_collab.learn.fit_one_cycle(args.epochs_max, lr_max=suggested_lr.valley)\n",
    "    # ana_collab.learn.fit_one_cycle(args.epochs_max, lr_max=1e-3)\n",
    "    ana_collab.model_kwargs['suggested_inital_lr'] = suggested_lr.valley\n",
    "    ana_collab.learn.save('collab_model')\n",
    "    fig, ax = plt.subplots(figsize=(15, 8))\n",
    "    ax.set_title('Collab loss: Reconstruction loss')\n",
    "    ana_collab.learn.recorder.plot_loss(skip_start=5, ax=ax)\n",
    "    recorder_dump = RecorderDump(recorder=ana_collab.learn.recorder, name='collab')\n",
    "    recorder_dump.save(args.out_figures)\n",
    "    del recorder_dump\n",
    "    vaep.savefig(fig, name='collab_training',\n",
    "                            folder=args.out_figures)\n",
    "    ana_collab.model_kwargs['batch_size'] = ana_collab.batch_size\n",
    "    vaep.io.dump_json(ana_collab.model_kwargs, args.out_models / TEMPLATE_MODEL_PARAMS.format(\"collab\"))"
   ]
  },
  {
   "cell_type": "markdown",
   "id": "e979b7f0-a673-4d3d-9d53-6ac02618eaed",
   "metadata": {
    "tags": []
   },
   "source": [
    "### Predictions\n",
    "- validation data for collab is a mix of peptides both from the original training and validation data set\n",
    "- compare these to the interpolated values based on the training data **as is** for the collab-model\n",
    "- comparison for collab model will therefore not be 1 to 1 comparable with the Autoencoder models on the **validation**  data split"
   ]
  },
  {
   "cell_type": "code",
   "execution_count": null,
   "id": "d343fc16-222e-4c49-8fce-876d8ba3e663",
   "metadata": {},
   "outputs": [],
   "source": [
    "# valid_pred_collab = ana_collab.dls.valid_ds.new(ana_collab.dls.valid_ds.all_cols).decode().items\n",
    "# pred, target = ana_collab.learn.get_preds()\n",
    "# valid_pred_collab['collab'] = pred.flatten().numpy()\n",
    "# index_columns = ['Sample ID', 'peptide']\n",
    "# valid_pred_collab = valid_pred_collab.set_index(index_columns)\n",
    "# valid_pred_collab"
   ]
  },
  {
   "cell_type": "code",
   "execution_count": null,
   "id": "c3c1415c-670f-4287-9a99-a6846f2921db",
   "metadata": {},
   "outputs": [],
   "source": [
    "index_columns = ['Sample ID', 'peptide']\n",
    "\n",
    "collab_train = ana_collab.dls.train_ds.new(ana_collab.dls.train_ds.all_cols).decode().items\n",
    "collab_train = collab_train.set_index(index_columns).unstack()\n",
    "val_pred_fake_na['interpolated'] = vaep.pandas.interpolate(wide_df = collab_train)"
   ]
  },
  {
   "cell_type": "markdown",
   "id": "6ee5b225-d50a-4189-9995-ad99c4d47a45",
   "metadata": {},
   "source": [
    "Compare fake_na data (not used for validation) based on original training and validation data"
   ]
  },
  {
   "cell_type": "code",
   "execution_count": null,
   "id": "bb76e6c5-e135-41c4-95e8-a56c3764c731",
   "metadata": {},
   "outputs": [],
   "source": [
    "ana_collab.test_dl = ana_collab.dls.test_dl(data.val_y.reset_index())\n",
    "val_pred_fake_na['collab'], _ = ana_collab.learn.get_preds(dl=ana_collab.test_dl)\n",
    "val_pred_fake_na"
   ]
  },
  {
   "cell_type": "markdown",
   "id": "bd22f63f-be3f-4f25-ad60-bafd6b028bd7",
   "metadata": {},
   "source": [
    "Move everything to cpu, to make sure all tensors will be compatible"
   ]
  },
  {
   "cell_type": "code",
   "execution_count": null,
   "id": "037d3a6e-f1e3-42f7-95f9-c7c7a168411a",
   "metadata": {},
   "outputs": [],
   "source": [
    "ana_collab.learn.cpu()"
   ]
  },
  {
   "cell_type": "markdown",
   "id": "a116671f-b503-439c-85a5-197aec46e56e",
   "metadata": {},
   "source": [
    "For predictions on test data, the sample embedding vector has to be initialized manuelly.\n",
    "Build new embeddings for test data.\n",
    "\n",
    "- for now: mean embeddings of closest k neighbours in training and validation data\n",
    "   - [ ] Recalculate KNN here, as for collab the training and validation samples are joined\n",
    "- optionally: weight mean by distance of training samples for new samples in PCA"
   ]
  },
  {
   "cell_type": "code",
   "execution_count": null,
   "id": "305ed1f8-7c73-42f1-8041-96bed4034a81",
   "metadata": {},
   "outputs": [],
   "source": [
    "# # KNN with ana_collab.X\n",
    "# ana_collab.K_neighbours = 2\n",
    "# ana_X = analyzers.AnalyzePeptides(data=ana_collab.X.set_index(['Sample ID', 'peptide']).squeeze(), is_wide_format=False, ind_unstack='peptide')\n",
    "# # this does compute it twice, maybe add optional \"get_model\"?\n",
    "# ana_X.df_meta = df_meta\n",
    "# _ = ana_X.get_PCA(n_components=ana_collab.K_neighbours)\n",
    "# ana_X.PCs = ana_X.calculate_PCs(ana_X.df)"
   ]
  },
  {
   "cell_type": "code",
   "execution_count": null,
   "id": "458c0658-e8ba-4311-aa05-270fa86fca27",
   "metadata": {},
   "outputs": [],
   "source": [
    "# from sklearn.neighbors import NearestNeighbors\n",
    "# nn = NearestNeighbors().fit(ana_X.PCs)"
   ]
  },
  {
   "cell_type": "code",
   "execution_count": null,
   "id": "fa8a4a66-2249-4b23-9746-7dd674f08001",
   "metadata": {},
   "outputs": [],
   "source": [
    "# test_PCs = ana_X.calculate_PCs(data.test_X.unstack())\n",
    "# d, idx = nn.kneighbors(test_PCs) # use K neighreast neighbors from training data (add validation?)\n",
    "# idx = torch.from_numpy(idx)\n",
    "\n",
    "# # # mean embeddings\n",
    "# test_sample_embeddings = ana_collab.learn.u_weight(idx).mean(1)\n",
    "# test_sample_biases     = ana_collab.learn.u_bias(idx).mean(1)\n",
    "# # # mean corresponds to equal weights summed\n",
    "# # w = np.ones(5)\n",
    "# # w = w / w.sum()\n",
    "# # w = np.expand_dims(w, axis=-1)\n",
    "\n",
    "\n",
    "# # # mean embeddings weighted by distance\n",
    "\n",
    "# # w = d / d.sum()\n",
    "# # w = np.expand_dims(w, axis=-1)\n",
    "\n",
    "# # test_sample_embeddings = (learn.u_weight(idx).detach() * w).sum(1)\n",
    "# # test_sample_biases     = (learn.u_bias(idx).detach() * w).sum(1)"
   ]
  },
  {
   "cell_type": "code",
   "execution_count": null,
   "id": "c7f0c597-d3c7-42d0-a6ef-3bc4c13121b8",
   "metadata": {},
   "outputs": [],
   "source": [
    "# test_pred_collab = vaep_collab.collab_prediction(idx_samples=idx,\n",
    "#                                      learn=ana_collab.learn,\n",
    "#                                      index_samples=test_PCs.index)\n",
    "# test_pred_collab\n",
    "\n",
    "ana_collab.test_dl = ana_collab.dls.test_dl(data.test_y.reset_index())\n",
    "test_pred_fake_na['collab'], _ = ana_collab.learn.get_preds(dl=ana_collab.test_dl)\n",
    "test_pred_fake_na"
   ]
  },
  {
   "cell_type": "code",
   "execution_count": null,
   "id": "2fe10ee0-78e1-44c8-b81c-e0bdd97b245c",
   "metadata": {},
   "outputs": [],
   "source": [
    "# test_pred_collab = test_pred_collab.stack()\n",
    "# test_pred_fake_na['collab'] = test_pred_collab\n",
    "# test_pred_real_na['collab'] = test_pred_collab\n",
    "# test_pred_observed['collab'] = test_pred_collab"
   ]
  },
  {
   "cell_type": "markdown",
   "id": "49eced7a-6cd7-414e-b974-4bd1dbe3a787",
   "metadata": {},
   "source": [
    "## Data in wide format\n",
    "\n",
    "- Autoencoder need data in wide format"
   ]
  },
  {
   "cell_type": "code",
   "execution_count": null,
   "id": "cff8caf4-ccc9-4a36-a992-2cc596abe51a",
   "metadata": {},
   "outputs": [],
   "source": [
    "data.to_wide_format()\n",
    "args.M = data.train_X.shape[-1]\n",
    "data.train_X.head()"
   ]
  },
  {
   "cell_type": "markdown",
   "id": "250715cb-42ae-4d15-bc05-4154519747ab",
   "metadata": {},
   "source": [
    "Calculate hidden layer dimensionality based on latent space dimension and number of hidden layers requested:"
   ]
  },
  {
   "cell_type": "code",
   "execution_count": null,
   "id": "c52bbe24-a349-4771-9af5-ab9969d59def",
   "metadata": {},
   "outputs": [],
   "source": [
    "if isinstance(args.hidden_layers, int):\n",
    "    args.overwrite_entry(entry='hidden_layers',\n",
    "                         value=ae.get_funnel_layers(dim_in=args.M, dim_latent=args.latent_dim, n_layers=args.hidden_layers))\n",
    "args"
   ]
  },
  {
   "cell_type": "markdown",
   "id": "f65a44eb-47bf-4bfa-914f-cc6bcadaeee3",
   "metadata": {},
   "source": [
    "## Denoising Autoencoder"
   ]
  },
  {
   "cell_type": "markdown",
   "id": "8d839950-bbc3-4572-bd51-fcbd0c3a0d72",
   "metadata": {},
   "source": [
    "### Analysis: DataLoaders, Model, transform"
   ]
  },
  {
   "cell_type": "code",
   "execution_count": null,
   "id": "7952fe13",
   "metadata": {},
   "outputs": [],
   "source": [
    "data.train_X"
   ]
  },
  {
   "cell_type": "code",
   "execution_count": null,
   "id": "9f0826f9",
   "metadata": {},
   "outputs": [],
   "source": [
    "data.val_y = pd.DataFrame(pd.NA, index=data.train_X.index, columns=data.train_X.columns).fillna(data.val_y)"
   ]
  },
  {
   "cell_type": "code",
   "execution_count": null,
   "id": "7bbed0af-64bd-45d8-9be2-5b856cb25cce",
   "metadata": {},
   "outputs": [],
   "source": [
    "dae_default_pipeline = sklearn.pipeline.Pipeline(\n",
    "    [\n",
    "        ('normalize', StandardScaler()),\n",
    "        ('impute', SimpleImputer(add_indicator=False))\n",
    "    ])\n",
    "\n",
    "ana_dae = ae.AutoEncoderAnalysis(#datasplits=data,\n",
    "                                 train_df=data.train_X,\n",
    "                                 val_df=data.val_y, # \n",
    "                                 model=ae.Autoencoder,\n",
    "                                 transform=dae_default_pipeline,\n",
    "                                 decode=['normalize'],\n",
    "                                 model_kwargs=dict(n_features=data.train_X.shape[-1],\n",
    "                                                     n_neurons=args.hidden_layers,\n",
    "                                                     last_decoder_activation=None,\n",
    "                                                     dim_latent=args.latent_dim),\n",
    "                                 bs=args.batch_size)\n",
    "args.n_params_dae = ana_dae.n_params_ae\n",
    "\n",
    "if args.cuda:\n",
    "    ana_dae.model = ana_dae.model.cuda()\n",
    "ana_dae.model"
   ]
  },
  {
   "cell_type": "code",
   "execution_count": null,
   "id": "fdae40f6",
   "metadata": {},
   "outputs": [],
   "source": [
    "# import importlib; importlib.reload(ae)"
   ]
  },
  {
   "cell_type": "code",
   "execution_count": null,
   "id": "400f99c1",
   "metadata": {},
   "outputs": [],
   "source": [
    "# ana_dae.dls.train_ds[0]"
   ]
  },
  {
   "cell_type": "code",
   "execution_count": null,
   "id": "8da4366a",
   "metadata": {},
   "outputs": [],
   "source": [
    "# t_mask, t_data, t_target = ana_dae.dls.valid_ds[1]\n",
    "# t_target[t_mask != 1]"
   ]
  },
  {
   "cell_type": "markdown",
   "id": "a166a7ec-5bc3-435d-835d-987df45d0d35",
   "metadata": {},
   "source": [
    "### Learner"
   ]
  },
  {
   "cell_type": "code",
   "execution_count": null,
   "id": "cc0b1359-f42c-4e16-8553-acf88826a069",
   "metadata": {},
   "outputs": [],
   "source": [
    "ana_dae.learn = Learner(dls=ana_dae.dls, model=ana_dae.model,\n",
    "                loss_func=MSELossFlat(),\n",
    "                cbs=[EarlyStoppingCallback(), ae.ModelAdapter()]\n",
    "                 )"
   ]
  },
  {
   "cell_type": "code",
   "execution_count": null,
   "id": "f67b9b98-15dc-49e4-b77a-1b66ff2ae625",
   "metadata": {},
   "outputs": [],
   "source": [
    "ana_dae.learn.show_training_loop()"
   ]
  },
  {
   "cell_type": "markdown",
   "id": "d895cedf-e2bd-43be-992b-f07596bac4ec",
   "metadata": {},
   "source": [
    "Adding a `EarlyStoppingCallback` results in an error.  Potential fix in [PR3509](https://github.com/fastai/fastai/pull/3509) is not yet in current version. Try again later"
   ]
  },
  {
   "cell_type": "code",
   "execution_count": null,
   "id": "d625fb88",
   "metadata": {},
   "outputs": [],
   "source": [
    "# learn.summary()"
   ]
  },
  {
   "cell_type": "code",
   "execution_count": null,
   "id": "2fad0a84-3d3a-4e77-9f80-58b7f45f5352",
   "metadata": {},
   "outputs": [],
   "source": [
    "suggested_lr = ana_dae.learn.lr_find()\n",
    "ana_dae.params['suggested_inital_lr'] = suggested_lr.valley\n",
    "suggested_lr"
   ]
  },
  {
   "cell_type": "code",
   "execution_count": null,
   "id": "99a5f505-7785-4152-8bed-73bd965f3ea8",
   "metadata": {},
   "outputs": [],
   "source": [
    "vaep.io.dump_json(ana_dae.params, args.out_models / TEMPLATE_MODEL_PARAMS.format(\"dae\"))"
   ]
  },
  {
   "cell_type": "markdown",
   "id": "29a13295-7e39-40c2-a84b-bdd8da357a0b",
   "metadata": {},
   "source": [
    "### Training\n"
   ]
  },
  {
   "cell_type": "code",
   "execution_count": null,
   "id": "4c568fe5-adfb-401c-afed-fabce46be0fe",
   "metadata": {},
   "outputs": [],
   "source": [
    "#papermill_description=train_dae\n",
    "ana_dae.learn.fit_one_cycle(args.epochs_max, lr_max=suggested_lr.valley)"
   ]
  },
  {
   "cell_type": "code",
   "execution_count": null,
   "id": "04c2c41f-e61d-4a64-8763-42ffb8f34b2a",
   "metadata": {},
   "outputs": [],
   "source": [
    "def plot_training_losses(learner:fastai.learner.Learner, name:str, ax=None, save_recorder:bool=True, folder='figures', figsize=(15,8)):\n",
    "        if ax is None:\n",
    "            fig, ax = plt.subplots(figsize=figsize)\n",
    "        else:\n",
    "            fig = ax.get_figure()\n",
    "        ax.set_title(f'{name} loss: Reconstruction loss')\n",
    "        learner.recorder.plot_loss(skip_start=5, ax=ax)\n",
    "        name = name.lower()\n",
    "        _ = RecorderDump(learner.recorder, name).save(args.out_figures)\n",
    "        vaep.savefig(fig, name=f'{name}_training',\n",
    "                        folder=folder)\n",
    "        return fig\n",
    "    \n",
    "fig = plot_training_losses(learner=ana_dae.learn, name='DAE', folder=args.out_figures)"
   ]
  },
  {
   "cell_type": "markdown",
   "id": "018a39ee-6956-4428-8fdf-b58b22039e06",
   "metadata": {},
   "source": [
    "### Predictions\n",
    "\n",
    "- data of training data set and validation dataset to create predictions is the same.\n",
    "- predictions include real NA (which are not further compared)\n",
    "\n",
    "- validation and test dataset could be combined, but performance is more or less equal\n",
    "- [ ] double check ModelAdapter"
   ]
  },
  {
   "cell_type": "code",
   "execution_count": null,
   "id": "c965ca0f-5936-460d-b696-015d7db01d75",
   "metadata": {},
   "outputs": [],
   "source": [
    "pred, target = ana_dae.get_preds_from_df(df_wide=data.train_X) # train_X \n",
    "pred = pred.stack()\n",
    "# valid_pred['DAE'] = pred.stack()\n",
    "val_pred_fake_na['DAE'] = pred\n",
    "val_pred_fake_na"
   ]
  },
  {
   "cell_type": "markdown",
   "id": "d37cebf6-2bb0-4e3e-93cd-5e83ae8af4e6",
   "metadata": {},
   "source": [
    "- on test dataset"
   ]
  },
  {
   "cell_type": "code",
   "execution_count": null,
   "id": "4d04a5e1-36a1-496a-b9c8-4443596e54e1",
   "metadata": {},
   "outputs": [],
   "source": [
    "# res = ae.get_preds_from_df(df=data.test_X, learn=ana_dae.learn, transformer=ana_dae.transform)\n",
    "# pred, target = res"
   ]
  },
  {
   "cell_type": "code",
   "execution_count": null,
   "id": "dc1ff5c3-f01b-4997-845a-ea72f041c96d",
   "metadata": {
    "tags": []
   },
   "outputs": [],
   "source": [
    "test_pred_fake_na['DAE'] = pred \n",
    "test_pred_fake_na"
   ]
  },
  {
   "cell_type": "markdown",
   "id": "15ef92e2-3791-43b4-b6d9-71fc4f7dfcc9",
   "metadata": {},
   "source": [
    "### Plots\n",
    "\n",
    "- validation data\n",
    "- [ ] add test data"
   ]
  },
  {
   "cell_type": "code",
   "execution_count": null,
   "id": "cc065c5f-7bba-48d5-bc87-e4cf90462a6f",
   "metadata": {},
   "outputs": [],
   "source": [
    "# could also be a method\n",
    "ana_dae.model = ana_dae.model.cpu()\n",
    "df_dae_latent = vaep.model.get_latent_space(ana_dae.model.encoder, dl=ana_dae.dls.valid, dl_index=ana_dae.dls.valid.data.index)\n",
    "df_dae_latent"
   ]
  },
  {
   "cell_type": "code",
   "execution_count": null,
   "id": "7b915728-5e84-45b7-bbc0-da32bc657091",
   "metadata": {},
   "outputs": [],
   "source": [
    "# val_meta = df_meta.loc[data.val_X.index]\n",
    "df_meta"
   ]
  },
  {
   "cell_type": "code",
   "execution_count": null,
   "id": "33404d1b-f553-4e05-be7e-821511883507",
   "metadata": {},
   "outputs": [],
   "source": [
    "ana_latent_dae = analyzers.LatentAnalysis(df_dae_latent, df_meta, 'DAE', folder=args.out_figures)\n",
    "figures['latent_DAE_by_date'], ax = ana_latent_dae.plot_by_date('Content Creation Date')"
   ]
  },
  {
   "cell_type": "code",
   "execution_count": null,
   "id": "106da46a-bfce-457d-b9dd-a873cf6cdd4a",
   "metadata": {},
   "outputs": [],
   "source": [
    "figures['latent_DAE_by_ms_instrument'], ax = ana_latent_dae.plot_by_category('instrument serial number')"
   ]
  },
  {
   "cell_type": "markdown",
   "id": "6de7a68e-34a3-463f-a1b3-7c76a8855ca0",
   "metadata": {},
   "source": [
    "## Variational Autoencoder"
   ]
  },
  {
   "cell_type": "markdown",
   "id": "7f5c05d4-d0bb-476f-b955-ac5822c38f86",
   "metadata": {},
   "source": [
    "### Transform of data"
   ]
  },
  {
   "cell_type": "code",
   "execution_count": null,
   "id": "e0d0d02f",
   "metadata": {},
   "outputs": [],
   "source": [
    "vae_default_pipeline = sklearn.pipeline.Pipeline(\n",
    "    [\n",
    "        ('normalize', MinMaxScaler()),\n",
    "        ('impute', SimpleImputer(add_indicator=False))\n",
    "    ])\n",
    "\n"
   ]
  },
  {
   "cell_type": "markdown",
   "id": "ae2f194f-a879-4190-89b9-5b370a827212",
   "metadata": {},
   "source": [
    "### Analysis: DataLoaders, Model"
   ]
  },
  {
   "cell_type": "code",
   "execution_count": null,
   "id": "43d49b4a-00ec-4874-8839-28a3cbc0e3b3",
   "metadata": {},
   "outputs": [],
   "source": [
    "from torch.nn import Sigmoid\n",
    "\n",
    "ana_vae = ae.AutoEncoderAnalysis(#datasplits=data,\n",
    "                                 train_df=data.train_X,\n",
    "                                 val_df=data.val_y, # \n",
    "                    model=ae.VAE,\n",
    "                    model_kwargs=dict(n_features=data.train_X.shape[-1],\n",
    "                                      n_neurons=args.hidden_layers,\n",
    "                                      last_encoder_activation=None,\n",
    "                                      last_decoder_activation=Sigmoid,\n",
    "                                      dim_latent=args.latent_dim),\n",
    "                   transform = vae_default_pipeline,\n",
    "                   decode=['normalize'])\n",
    "args.n_params_vae = ana_vae.n_params_ae\n",
    "if args.cuda:\n",
    "    ana_vae.model = ana_vae.model.cuda()\n",
    "ana_vae.model"
   ]
  },
  {
   "cell_type": "markdown",
   "id": "ef5410d9-8b64-45bc-96d3-4b04145043c0",
   "metadata": {},
   "source": [
    "### Training"
   ]
  },
  {
   "cell_type": "code",
   "execution_count": null,
   "id": "f4b0aec2",
   "metadata": {},
   "outputs": [],
   "source": [
    "#papermill_description=train_vae\n",
    "ana_vae.learn = Learner(dls=ana_vae.dls,\n",
    "                model=ana_vae.model,\n",
    "                loss_func=ae.loss_fct_vae,\n",
    "                cbs=[ae.ModelAdapterVAE(), EarlyStoppingCallback()])\n",
    "\n",
    "ana_vae.learn.show_training_loop()\n",
    "# learn.summary() # see comment above under DAE"
   ]
  },
  {
   "cell_type": "code",
   "execution_count": null,
   "id": "563a1e0a",
   "metadata": {},
   "outputs": [],
   "source": [
    "suggested_lr = ana_vae.learn.lr_find()\n",
    "ana_vae.params['suggested_inital_lr'] = suggested_lr.valley\n",
    "suggested_lr"
   ]
  },
  {
   "cell_type": "markdown",
   "id": "c0f4eaee-f308-4081-aa16-0579fe9df7fe",
   "metadata": {},
   "source": [
    "dump model config"
   ]
  },
  {
   "cell_type": "code",
   "execution_count": null,
   "id": "ec77d9e5-f619-4355-ab37-2bd44029236d",
   "metadata": {},
   "outputs": [],
   "source": [
    "# needs class as argument, not instance, but serialization needs instance\n",
    "ana_vae.params['last_decoder_activation'] = Sigmoid()\n",
    "\n",
    "vaep.io.dump_json(\n",
    "    vaep.io.parse_dict(\n",
    "        ana_vae.params, types=[\n",
    "            (torch.nn.modules.module.Module, lambda m: str(m))\n",
    "        ]),\n",
    "    args.out_models / TEMPLATE_MODEL_PARAMS.format(\"vae\"))\n",
    "\n",
    "# restore original value\n",
    "ana_vae.params['last_decoder_activation'] = Sigmoid"
   ]
  },
  {
   "cell_type": "code",
   "execution_count": null,
   "id": "43d18ab6",
   "metadata": {},
   "outputs": [],
   "source": [
    "ana_vae.learn.fit_one_cycle(args.epochs_max, lr_max=suggested_lr.valley)"
   ]
  },
  {
   "cell_type": "code",
   "execution_count": null,
   "id": "3a4f91f9-c1a2-40c5-99d4-c289fb89cff8",
   "metadata": {},
   "outputs": [],
   "source": [
    "fig = plot_training_losses(ana_vae.learn, 'VAE', folder=args.out_figures)"
   ]
  },
  {
   "cell_type": "markdown",
   "id": "9db46826-6ab0-47b5-942c-0edc08a15e35",
   "metadata": {},
   "source": [
    "### Predictions\n",
    "validation data set"
   ]
  },
  {
   "cell_type": "code",
   "execution_count": null,
   "id": "e73fb4dd-e73a-48df-82b7-b378fd3ee266",
   "metadata": {},
   "outputs": [],
   "source": [
    "pred, target =res = ae.get_preds_from_df(df=data.train_X, learn=ana_vae.learn, \n",
    "                                         position_pred_tuple=0, \n",
    "                                         transformer=ana_vae.transform)\n",
    "# valid_pred['VAE'] = pred.stack()\n",
    "val_pred_fake_na['VAE'] = pred.stack()"
   ]
  },
  {
   "cell_type": "markdown",
   "id": "2bee87a3-d33f-4a89-8224-3e2f7409db8f",
   "metadata": {},
   "source": [
    "test data set"
   ]
  },
  {
   "cell_type": "code",
   "execution_count": null,
   "id": "b4d1fd73-9eb7-4f25-ad81-c42c6a840e77",
   "metadata": {},
   "outputs": [],
   "source": [
    "# pred, target = ae.get_preds_from_df(df=data.test_X, learn=ana_vae.learn, \n",
    "#                         position_pred_tuple=0,\n",
    "#                         transformer=ana_vae.transform)\n",
    "\n",
    "# test_pred_observed['VAE'] = pred.stack()\n",
    "test_pred_fake_na['VAE']  = pred.stack()\n",
    "# test_pred_real_na['VAE']  = pred.stack()"
   ]
  },
  {
   "cell_type": "markdown",
   "id": "d6c3dd2a-a30c-4e72-b5e8-7de2a7469eb2",
   "metadata": {},
   "source": [
    "### Plots\n",
    "\n",
    "- validation data"
   ]
  },
  {
   "cell_type": "code",
   "execution_count": null,
   "id": "7999c89e-65fe-4c00-8e20-cb8ab88d1603",
   "metadata": {},
   "outputs": [],
   "source": [
    "ana_vae.model = ana_vae.model.cpu()\n",
    "df_vae_latent = vaep.model.get_latent_space(ana_vae.model.get_mu_and_logvar, dl=ana_vae.dls.valid, dl_index=ana_vae.dls.valid.data.index)\n",
    "df_vae_latent"
   ]
  },
  {
   "cell_type": "code",
   "execution_count": null,
   "id": "1fdd8f86-639e-4e0e-bb89-466f3ba0ef7b",
   "metadata": {},
   "outputs": [],
   "source": [
    "_model_key = 'VAE'\n",
    "ana_latent_vae = analyzers.LatentAnalysis(df_vae_latent, df_meta, _model_key, folder=args.out_figures)\n",
    "figures[f'latent_{_model_key}_by_date'], ax = ana_latent_vae.plot_by_date('Content Creation Date')"
   ]
  },
  {
   "cell_type": "code",
   "execution_count": null,
   "id": "763a5633-a9dd-4785-a0c0-91f588346c22",
   "metadata": {},
   "outputs": [],
   "source": [
    "_cat = 'ms_instrument' # Could be created in data as an ID from three instrument variables\n",
    "figures[f'latent_{_model_key}_by_{_cat}'], ax = ana_latent_vae.plot_by_category('instrument serial number')"
   ]
  },
  {
   "cell_type": "markdown",
   "id": "29f16d62-f1c8-4447-bdd3-2d3161b6346f",
   "metadata": {},
   "source": [
    "## Comparisons\n",
    "\n",
    "> Note: The interpolated values have less predictions for comparisons than the ones based on models (Collab, DAE, VAE)  \n",
    "> The comparison is therefore not 100% fair as the interpolated samples will have more common ones (especailly the sparser the data)  \n",
    "> Could be changed."
   ]
  },
  {
   "cell_type": "markdown",
   "id": "861b9b3c-11d0-4cda-98c9-fadea16e47c4",
   "metadata": {},
   "source": [
    "### Validation data\n",
    "\n",
    "- all measured (identified, observed) peptides in validation data\n",
    "\n",
    "> Does not make to much sense to compare collab and AEs,  \n",
    "> as the setup differs of training and validation data differs"
   ]
  },
  {
   "cell_type": "code",
   "execution_count": null,
   "id": "d825e38e-f3d6-4bca-b621-150267e7b7bc",
   "metadata": {},
   "outputs": [],
   "source": [
    "#papermill_description=metrics\n",
    "d_metrics = models.Metrics(no_na_key='NA interpolated', with_na_key='NA not interpolated')\n",
    "# added_metrics = d_metrics.add_metrics(valid_pred_collab, 'valid_collab')\n",
    "# pd.DataFrame(added_metrics['no_na'])"
   ]
  },
  {
   "cell_type": "code",
   "execution_count": null,
   "id": "e33ef0d8-a327-4106-af8b-ef028cc72941",
   "metadata": {
    "tags": []
   },
   "outputs": [],
   "source": [
    "# added_metrics = d_metrics.add_metrics(valid_pred_collab, 'valid_collab')\n",
    "# added_metrics"
   ]
  },
  {
   "cell_type": "code",
   "execution_count": null,
   "id": "d5c98c48-e7b2-4ad3-8541-52b131214c9f",
   "metadata": {
    "tags": []
   },
   "outputs": [],
   "source": [
    "# test_metrics = models.get_metrics_df(pred_df = valid_pred_collab.dropna())\n",
    "# assert test_metrics ==  added_metrics[d_metrics.no_na_key]"
   ]
  },
  {
   "cell_type": "code",
   "execution_count": null,
   "id": "6639732f-ea19-4133-a59b-a0f87f2b5a47",
   "metadata": {},
   "outputs": [],
   "source": [
    "# added_metrics = d_metrics.add_metrics(valid_pred, 'valid_ae_observed')\n",
    "# added_metrics"
   ]
  },
  {
   "cell_type": "markdown",
   "id": "55b9b887-a644-4086-8399-e27b533bd22a",
   "metadata": {},
   "source": [
    "The fake NA for the validation step are in fact real test data (not used for training nor early stopping), but to not confuse the test-data split with these, I omit it here. "
   ]
  },
  {
   "cell_type": "code",
   "execution_count": null,
   "id": "855a7a6f-93fd-4612-9d8d-96541a2441be",
   "metadata": {
    "tags": []
   },
   "outputs": [],
   "source": [
    "added_metrics = d_metrics.add_metrics(val_pred_fake_na, 'valid_fake_na')\n",
    "added_metrics"
   ]
  },
  {
   "cell_type": "markdown",
   "id": "80fda7f1-3024-46bc-a3c1-17f509016bd4",
   "metadata": {
    "tags": []
   },
   "source": [
    "### Test Datasplit\n",
    "\n",
    "Fake NAs : Artificially created NAs. Some data was sampled and set explicitly to misssing before it was fed to the model for reconstruction."
   ]
  },
  {
   "cell_type": "code",
   "execution_count": null,
   "id": "571ac8d4-bb5d-45db-bba8-59817e476304",
   "metadata": {
    "tags": []
   },
   "outputs": [],
   "source": [
    "added_metrics = d_metrics.add_metrics(test_pred_fake_na, 'test_fake_na')\n",
    "added_metrics"
   ]
  },
  {
   "cell_type": "markdown",
   "id": "6506b4d8-aeb3-4452-8f66-56b61f6ba39d",
   "metadata": {},
   "source": [
    "Non missing data, which was fed to the model"
   ]
  },
  {
   "cell_type": "code",
   "execution_count": null,
   "id": "bec46972-20fe-4d49-81ee-ad0144303542",
   "metadata": {},
   "outputs": [],
   "source": [
    "# added_metrics = d_metrics.add_metrics(test_pred_observed, 'test_observed')\n",
    "# added_metrics"
   ]
  },
  {
   "cell_type": "markdown",
   "id": "72c19b74-bda3-4397-bf56-e77aae9f4cd2",
   "metadata": {},
   "source": [
    "True NA data which was interpolated by other samples\n",
    "> Comparing to imputation with each other might not be sensible"
   ]
  },
  {
   "cell_type": "code",
   "execution_count": null,
   "id": "9589e42a-4487-40ab-8cf8-232df468c5cd",
   "metadata": {},
   "outputs": [],
   "source": [
    "# added_metrics = d_metrics.add_metrics(test_pred_real_na, 'test_real_na')\n",
    "# added_metrics"
   ]
  },
  {
   "cell_type": "code",
   "execution_count": null,
   "id": "f94feacf-2666-46f8-8380-2198776e2af7",
   "metadata": {},
   "outputs": [],
   "source": [
    "# analysis per sample?\n",
    "# analysis per peptide?\n",
    "# (test_pred_real_na['interpolated'] - test_pred_real_na['DAE']).sort_values().plot(rot=45)"
   ]
  },
  {
   "cell_type": "markdown",
   "id": "b388de9d-0387-486a-9481-d673e0fec88b",
   "metadata": {},
   "source": [
    "Save all metrics as json"
   ]
  },
  {
   "cell_type": "code",
   "execution_count": null,
   "id": "87910434-7d07-4e8e-8380-c92fc515bd16",
   "metadata": {
    "tags": []
   },
   "outputs": [],
   "source": [
    "vaep.io.dump_json(d_metrics.metrics, args.out_metrics / 'metrics.json')"
   ]
  },
  {
   "cell_type": "code",
   "execution_count": null,
   "id": "7d99deb9-9aad-4ba9-b79d-e4b3c6c7f023",
   "metadata": {
    "tags": []
   },
   "outputs": [],
   "source": [
    "def get_df_from_nested_dict(nested_dict, column_levels=['data_split', 'model', 'metric_name']):\n",
    "    metrics = {}\n",
    "    for k, run_metrics in nested_dict.items():\n",
    "        metrics[k] = vaep.pandas.flatten_dict_of_dicts(run_metrics)\n",
    "\n",
    "    metrics_dict_multikey = metrics\n",
    "\n",
    "    metrics = pd.DataFrame.from_dict(metrics, orient='index')\n",
    "    metrics.columns.names = column_levels\n",
    "    metrics.index.name = 'subset'\n",
    "    return metrics\n",
    "\n",
    "metrics_df = get_df_from_nested_dict(d_metrics.metrics).T\n",
    "metrics_df"
   ]
  },
  {
   "cell_type": "markdown",
   "id": "15a2c775-22b2-4169-9345-852d25564169",
   "metadata": {},
   "source": [
    "### Plot metrics"
   ]
  },
  {
   "cell_type": "code",
   "execution_count": null,
   "id": "414171e0-83d5-407c-98c0-8ab544e6b517",
   "metadata": {},
   "outputs": [],
   "source": [
    "plotly_view = metrics_df.stack().unstack(-2).set_index('N', append=True)\n",
    "plotly_view.head()"
   ]
  },
  {
   "cell_type": "code",
   "execution_count": null,
   "id": "ec7ffdac-5131-42e6-951f-6db4f7016e17",
   "metadata": {},
   "outputs": [],
   "source": [
    "plotly_view.loc[pd.IndexSlice[:, :, 'NA interpolated']]"
   ]
  },
  {
   "cell_type": "code",
   "execution_count": null,
   "id": "b2e9af56-6a0d-4cf9-9a0f-a7ec4142ebdf",
   "metadata": {},
   "outputs": [],
   "source": [
    "subset = 'NA interpolated'\n",
    "fig = px.scatter(plotly_view.loc[pd.IndexSlice[:, :, subset]].stack().to_frame('metric_value').reset_index(),\n",
    "                 x=\"data_split\",\n",
    "                 y='metric_value',\n",
    "                 color=\"model\",\n",
    "                 facet_row=\"metric_name\",\n",
    "                 # facet_col=\"subset\",\n",
    "                 hover_data='N',\n",
    "                 title=f'Performance for {subset}',\n",
    "                 labels={\"data_split\": \"data\",\n",
    "                         \"metric_value\": '', 'metric_name': 'metric'},\n",
    "                 height=500\n",
    "                 )\n",
    "fig.show()"
   ]
  },
  {
   "cell_type": "code",
   "execution_count": null,
   "id": "d554dff6-9e36-4444-9b82-dec2e2219da1",
   "metadata": {},
   "outputs": [],
   "source": [
    "plotly_view.loc[pd.IndexSlice[:, :, 'NA not interpolated']]"
   ]
  },
  {
   "cell_type": "code",
   "execution_count": null,
   "id": "b04efd95-4b02-43ec-9efb-4150f07ef430",
   "metadata": {},
   "outputs": [],
   "source": [
    "subset = 'NA not interpolated'\n",
    "fig = px.scatter(plotly_view.loc[pd.IndexSlice[:, :, subset]].stack().to_frame('metric_value').reset_index(),\n",
    "                 x=\"data_split\",\n",
    "                 y='metric_value',\n",
    "                 color=\"model\",\n",
    "                 facet_row=\"metric_name\",\n",
    "                 # facet_col=\"subset\",\n",
    "                 hover_data='N',\n",
    "                 title=f'Performance for {subset}',\n",
    "                 labels={\"data_split\": \"data\",\n",
    "                         \"metric_value\": '', 'metric_name': 'metric'},\n",
    "                 height=500\n",
    "                 )\n",
    "fig.show()"
   ]
  },
  {
   "cell_type": "markdown",
   "id": "42f2c184-e9ef-42be-ae87-7cbf52a0c0b6",
   "metadata": {
    "tags": []
   },
   "source": [
    "## Config"
   ]
  },
  {
   "cell_type": "code",
   "execution_count": null,
   "id": "0f13cb38-abf0-4b56-9399-3d11d32f7fbc",
   "metadata": {},
   "outputs": [],
   "source": [
    "args.dump()\n",
    "args"
   ]
  }
 ],
 "metadata": {
  "interpreter": {
   "hash": "cf83e9cb890c7f96eb0ae04f39a82254555f56a1a0ed2f03b23a8b40fe6cd31c"
  },
  "kernelspec": {
   "display_name": "Python 3.8.12 ('vaep')",
   "language": "python",
   "name": "python3"
  },
  "language_info": {
   "codemirror_mode": {
    "name": "ipython",
    "version": 3
   },
   "file_extension": ".py",
   "mimetype": "text/x-python",
   "name": "python",
   "nbconvert_exporter": "python",
   "pygments_lexer": "ipython3",
   "version": "3.8.12"
  }
 },
 "nbformat": 4,
 "nbformat_minor": 5
}
