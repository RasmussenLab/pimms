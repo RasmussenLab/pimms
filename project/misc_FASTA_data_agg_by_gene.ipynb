{
 "cells": [
  {
   "cell_type": "markdown",
   "metadata": {},
   "source": [
    "# Protein sequence aggregation by gene"
   ]
  },
  {
   "cell_type": "code",
   "execution_count": null,
   "metadata": {},
   "outputs": [],
   "source": [
    "from collections import defaultdict\n",
    "import json\n",
    "from tqdm.notebook import tqdm\n",
    "\n",
    "import numpy as np\n",
    "import pandas as pd\n",
    "\n",
    "from Bio import Align\n",
    "\n",
    "from config import FN_FASTA_DB\n",
    "from config import fasta_entry as fasta_keys"
   ]
  },
  {
   "cell_type": "code",
   "execution_count": null,
   "metadata": {},
   "outputs": [],
   "source": [
    "with open(FN_FASTA_DB) as f:\n",
    "    data_fasta = json.load(f)#, indent=4, sort_keys=False)\n",
    "len(data_fasta)"
   ]
  },
  {
   "cell_type": "code",
   "execution_count": null,
   "metadata": {},
   "outputs": [],
   "source": [
    "gene_isotopes = defaultdict(list)\n",
    "protein_wo_gene = []\n",
    "for key, fasta_entry in tqdm(data_fasta.items()):\n",
    "    gene = fasta_entry[fasta_keys.gene]\n",
    "    if gene:\n",
    "        gene_isotopes[gene].append(key)\n",
    "    else:\n",
    "        protein_wo_gene.append(key)\n",
    "\n",
    "print(f\"#{len(protein_wo_gene)} proteins have not gene associated: {', '.join(protein_wo_gene[:10])}, ...\")"
   ]
  },
  {
   "cell_type": "code",
   "execution_count": null,
   "metadata": {},
   "outputs": [],
   "source": [
    "gene = 'ACTG1' # Actin as a contaminant protein\n",
    "gene_isotopes[gene]"
   ]
  },
  {
   "cell_type": "code",
   "execution_count": null,
   "metadata": {},
   "outputs": [],
   "source": [
    "from pprint import pprint\n",
    "for isotope in gene_isotopes[gene]:\n",
    "    pprint(data_fasta[isotope])"
   ]
  },
  {
   "cell_type": "markdown",
   "metadata": {},
   "source": [
    "## Sequences"
   ]
  },
  {
   "cell_type": "code",
   "execution_count": null,
   "metadata": {},
   "outputs": [],
   "source": [
    "sequences = {}\n",
    "for isotope in gene_isotopes[gene]:\n",
    "    sequences[isotope] = data_fasta[isotope][fasta_keys.seq]\n",
    "sequences"
   ]
  },
  {
   "cell_type": "code",
   "execution_count": null,
   "metadata": {},
   "outputs": [],
   "source": [
    "sorted(sequences.values(), key=len)"
   ]
  },
  {
   "cell_type": "code",
   "execution_count": null,
   "metadata": {},
   "outputs": [],
   "source": [
    "sequences = pd.Series(sequences)\n",
    "sequences.str.len()"
   ]
  },
  {
   "cell_type": "code",
   "execution_count": null,
   "metadata": {},
   "outputs": [],
   "source": [
    "aligner = Align.PairwiseAligner()"
   ]
  },
  {
   "cell_type": "code",
   "execution_count": null,
   "metadata": {},
   "outputs": [],
   "source": [
    "alignments = aligner.align(sequences.loc['I3L1U9'], sequences.loc['I3L3I0']) # Identical? Maybe check if this is more than once the case?\n",
    "for alignment in alignments:\n",
    "    print(alignment)"
   ]
  },
  {
   "cell_type": "code",
   "execution_count": null,
   "metadata": {},
   "outputs": [],
   "source": [
    "data_fasta['I3L1U9'][fasta_keys.seq] == data_fasta['I3L3I0'][fasta_keys.seq]"
   ]
  },
  {
   "cell_type": "code",
   "execution_count": null,
   "metadata": {},
   "outputs": [],
   "source": [
    "alignments = aligner.align(sequences.loc['I3L1U9'], sequences.loc['I3L3R2']) # Identical?\n",
    "for alignment in alignments:\n",
    "    print(alignment)\n",
    "    break"
   ]
  },
  {
   "cell_type": "code",
   "execution_count": null,
   "metadata": {},
   "outputs": [],
   "source": [
    "alignments = aligner.align(sequences.loc['P63261'], sequences.loc['K7EM38']) # Identical?\n",
    "for alignment in alignments:\n",
    "    print(alignment)\n",
    "    break"
   ]
  },
  {
   "cell_type": "markdown",
   "metadata": {},
   "source": [
    "## Unique Peptides"
   ]
  },
  {
   "cell_type": "code",
   "execution_count": null,
   "metadata": {},
   "outputs": [],
   "source": [
    "import itertools\n",
    "peptides = {}\n",
    "for isotope in gene_isotopes[gene]:\n",
    "    sequences[isotope] = data_fasta[isotope][fasta_keys.peptides][0]\n",
    "\n",
    "for peptides in itertools.zip_longest(*sequences.values, fillvalue=''):\n",
    "    if len(set(peptides)) == 1: \n",
    "        print(f'all identical: {peptides[0]}')\n",
    "    else:\n",
    "        print('\\t'.join(peptides))"
   ]
  },
  {
   "cell_type": "code",
   "execution_count": null,
   "metadata": {},
   "outputs": [],
   "source": [
    "for j, peptides in enumerate(sequences.values):\n",
    "    if j==0:\n",
    "        set_overlap = set(peptides)\n",
    "    else:\n",
    "        set_overlap = set_overlap.intersection(peptides)\n",
    "set_overlap"
   ]
  },
  {
   "cell_type": "code",
   "execution_count": null,
   "metadata": {},
   "outputs": [],
   "source": []
  }
 ],
 "metadata": {
  "kernelspec": {
   "display_name": "vaep",
   "language": "python",
   "name": "vaep"
  },
  "language_info": {
   "codemirror_mode": {
    "name": "ipython",
    "version": 3
   },
   "file_extension": ".py",
   "mimetype": "text/x-python",
   "name": "python",
   "nbconvert_exporter": "python",
   "pygments_lexer": "ipython3",
   "version": "3.8.13"
  }
 },
 "nbformat": 4,
 "nbformat_minor": 4
}
