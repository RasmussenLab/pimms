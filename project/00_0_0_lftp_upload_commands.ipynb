{
 "cells": [
  {
   "cell_type": "markdown",
   "id": "56becfbb-813a-4ea4-b29f-c234b1c45098",
   "metadata": {},
   "source": [
    "# Rawfile and MaxQuant output folder renaming\n",
    "\n",
    "- generated using `workflows/metadata`\n",
    "- all raw files collected ~50,000\n",
    "- creates lftp upload commands"
   ]
  },
  {
   "cell_type": "code",
   "execution_count": null,
   "id": "0c1cab72-7447-473b-a3d5-1aee8c4815e8",
   "metadata": {},
   "outputs": [],
   "source": [
    "from pathlib import Path, PurePosixPath\n",
    "import pandas as pd\n",
    "import yaml\n",
    "\n",
    "\n",
    "def rename(fname, new_sample_id, new_folder=None, ext=None):\n",
    "    fname = PurePosixPath(fname)\n",
    "    if ext is None:\n",
    "        ext = fname.suffix\n",
    "    if new_folder is None:\n",
    "        new_folder = fname.parent\n",
    "    else:\n",
    "        new_folder = PurePosixPath(new_folder)\n",
    "    fname = new_folder / new_sample_id\n",
    "    fname = fname.with_suffix(ext)\n",
    "    return fname.as_posix()"
   ]
  },
  {
   "cell_type": "markdown",
   "id": "d195963d-21b6-4766-a82e-761f31b288bf",
   "metadata": {},
   "source": [
    "## Arguments"
   ]
  },
  {
   "cell_type": "code",
   "execution_count": null,
   "id": "7e1629d8-3768-4113-9835-3bed95f219a6",
   "metadata": {
    "tags": [
     "parameters"
    ]
   },
   "outputs": [],
   "source": [
    "fn_rawfile_metadata: str = 'data/rawfile_metadata.csv'  # Machine parsed metadata from rawfile workflow\n",
    "fn_mq_summaries: str = 'data/samples_selected_summaries.csv'  # MaxQuant summary files\n",
    "fn_files_selected: str = 'data/samples_selected.yaml'  # selected files based on threshold of identified peptides\n",
    "out_folder: str = 'data/rename'  # output folder\n",
    "fn_server_log: str = 'data/rename/mq_out_server.log'  # server log of all uploaded files"
   ]
  },
  {
   "cell_type": "code",
   "execution_count": null,
   "id": "06ff016b-f6e0-4cfd-bdd1-fcae5dfc05e9",
   "metadata": {},
   "outputs": [],
   "source": [
    "out_folder = Path(out_folder)\n",
    "out_folder.mkdir(exist_ok=True)\n",
    "\n",
    "files_out = dict()"
   ]
  },
  {
   "cell_type": "markdown",
   "id": "2232196d-7d24-419a-be70-2fac76428eae",
   "metadata": {},
   "source": [
    "### Machine metadata\n",
    "\n",
    "- read from file using [ThermoRawFileParser](https://github.com/compomics/ThermoRawFileParser)"
   ]
  },
  {
   "cell_type": "code",
   "execution_count": null,
   "id": "9869ac5e-fab3-4c66-a32c-48ae4fadc0a3",
   "metadata": {
    "lines_to_next_cell": 2,
    "tags": []
   },
   "outputs": [],
   "source": [
    "df_meta = pd.read_csv(fn_rawfile_metadata, header=[0, 1], index_col=0, low_memory=False)\n",
    "date_col = ('FileProperties', 'Content Creation Date')\n",
    "df_meta[date_col] = pd.to_datetime(\n",
    "    df_meta[date_col])\n",
    "df_meta.sort_values(date_col, inplace=True)\n",
    "msg = f\"A total of {len(df_meta)} raw files could be read using the ThermoFisherRawFileParser.\"\n",
    "print(msg)\n",
    "df_meta"
   ]
  },
  {
   "cell_type": "code",
   "execution_count": null,
   "id": "ab1b1bc2-c531-483c-b498-0fb0654bc7dc",
   "metadata": {},
   "outputs": [],
   "source": [
    "meta_stats = df_meta.describe(include='all')\n",
    "meta_stats.T"
   ]
  },
  {
   "cell_type": "markdown",
   "id": "a27b9295-47b4-487f-9ef3-84aa2890d843",
   "metadata": {},
   "source": [
    "# Erda Paths"
   ]
  },
  {
   "cell_type": "code",
   "execution_count": null,
   "id": "d1c30a7b-fe2e-4a71-a85a-d684cc62ce05",
   "metadata": {},
   "outputs": [],
   "source": [
    "cols_identifies = [('FileProperties', 'Pathname'),\n",
    "                   ('FileProperties', 'Version'),\n",
    "                   ('FileProperties', 'Content Creation Date'),\n",
    "                   ('InstrumentProperties', 'Thermo Scientific instrument model'),\n",
    "                   ('InstrumentProperties', 'instrument attribute'),\n",
    "                   ('InstrumentProperties', 'instrument serial number'),\n",
    "                   ('InstrumentProperties', 'Software Version'),\n",
    "                   ('InstrumentProperties', 'firmware version'),\n",
    "                   ]\n",
    "\n",
    "df_meta = df_meta[cols_identifies]\n",
    "df_meta.columns = [t[-1] for t in cols_identifies]\n",
    "df_meta"
   ]
  },
  {
   "cell_type": "markdown",
   "id": "7f61bf7b-3473-487b-b8eb-ac5a6191d507",
   "metadata": {},
   "source": [
    "Replace `tmp/` with `./` (artefact)"
   ]
  },
  {
   "cell_type": "code",
   "execution_count": null,
   "id": "17dc5955-3265-4709-a0ec-dc1df505e7d5",
   "metadata": {},
   "outputs": [],
   "source": [
    "df_meta['Pathname'] = df_meta['Pathname'].str.replace('tmp/', './')"
   ]
  },
  {
   "cell_type": "code",
   "execution_count": null,
   "id": "244501b8-2fbd-461a-844a-5df91b61e18d",
   "metadata": {},
   "outputs": [],
   "source": [
    "df_meta[\"Instrument_name\"] = (\n",
    "    df_meta[\"Thermo Scientific instrument model\"].str.replace(' ', '-')\n",
    "    + '_'\n",
    "    + df_meta[\"instrument serial number\"].str.split('#').str[-1]\n",
    ").str.replace(' ', '-')\n",
    "\n",
    "df_meta[\"Instrument_name\"].value_counts().index"
   ]
  },
  {
   "cell_type": "markdown",
   "id": "6add2fad-2c1c-4542-bcfb-efd1a0ea108f",
   "metadata": {},
   "source": [
    "Create new sample identifier"
   ]
  },
  {
   "cell_type": "code",
   "execution_count": null,
   "id": "b42f31ba-e0d5-4afc-8328-f5200213ff85",
   "metadata": {},
   "outputs": [],
   "source": [
    "date_col = \"Content Creation Date\"\n",
    "idx_all = (pd.to_datetime(df_meta[date_col]).dt.strftime(\"%Y_%m_%d_%H_%M\")\n",
    "           + '_'\n",
    "           + df_meta[\"Instrument_name\"]\n",
    "           ).str.replace(' ', '-')\n",
    "\n",
    "mask = idx_all.duplicated(keep=False)\n",
    "duplicated_sample_idx = idx_all.loc[mask].sort_values()  # duplicated dumps\n",
    "duplicated_sample_idx"
   ]
  },
  {
   "cell_type": "code",
   "execution_count": null,
   "id": "1ddbec78-97bf-4238-9b46-533d20605973",
   "metadata": {},
   "outputs": [],
   "source": [
    "df_meta['new_sample_id'] = idx_all\n",
    "\n",
    "\n",
    "_n = df_meta.groupby(\"new_sample_id\").cumcount().astype('string').str.replace('0', '')\n",
    "_n[_n != ''] = '_r' + _n[_n != '']\n",
    "_n.value_counts()\n",
    "\n",
    "df_meta.loc[mask, \"new_sample_id\"] = df_meta.loc[mask, \"new_sample_id\"] + _n\n",
    "\n",
    "\n",
    "df_meta.loc[mask, [\"Pathname\", \"new_sample_id\"]]"
   ]
  },
  {
   "cell_type": "code",
   "execution_count": null,
   "id": "21962b78-d9c8-4037-aea5-b13e0d5d84ca",
   "metadata": {
    "lines_to_next_cell": 2
   },
   "outputs": [],
   "source": [
    "df_meta.loc[~mask, [\"Pathname\", \"new_sample_id\"]]"
   ]
  },
  {
   "cell_type": "code",
   "execution_count": null,
   "id": "d4e0b289-ba7d-4c9b-a08b-c0aafc733855",
   "metadata": {},
   "outputs": [],
   "source": [
    "assert df_meta[\"Pathname\"].is_unique\n",
    "assert df_meta[\"new_sample_id\"].is_unique"
   ]
  },
  {
   "cell_type": "markdown",
   "id": "fb446855-eb2f-4000-8c22-a84e58ce8130",
   "metadata": {},
   "source": [
    "### Save new paths to disk"
   ]
  },
  {
   "cell_type": "code",
   "execution_count": null,
   "id": "bef2adce-afc7-4698-8aea-4c6415792133",
   "metadata": {},
   "outputs": [],
   "source": [
    "df_meta[\"Path_old\"] = df_meta[\"Pathname\"]\n",
    "\n",
    "df_meta[[\"Path_old\", \"new_sample_id\"]]"
   ]
  },
  {
   "cell_type": "code",
   "execution_count": null,
   "id": "a67ac714-c966-47ce-8faf-38ca8c94fca7",
   "metadata": {},
   "outputs": [],
   "source": [
    "df_meta"
   ]
  },
  {
   "cell_type": "markdown",
   "id": "3a738dd3-cb4b-4940-bf48-5192186e3614",
   "metadata": {},
   "source": [
    "## Selected Files"
   ]
  },
  {
   "cell_type": "code",
   "execution_count": null,
   "id": "d630ba07-0674-40b7-b6e9-92a34f4e4788",
   "metadata": {},
   "outputs": [],
   "source": [
    "with open(fn_files_selected) as f:\n",
    "    files_selected = yaml.safe_load(f)\n",
    "print(f'Threshold: {files_selected[\"threshold\"]:,d}')"
   ]
  },
  {
   "cell_type": "code",
   "execution_count": null,
   "id": "c2204d45-20b5-4b24-8af1-04614769b275",
   "metadata": {},
   "outputs": [],
   "source": [
    "df_meta.loc[files_selected[\"files\"]]"
   ]
  },
  {
   "cell_type": "code",
   "execution_count": null,
   "id": "f79366bc-38ba-415b-bccf-0a842241ca03",
   "metadata": {},
   "outputs": [],
   "source": [
    "mask = idx_all.duplicated()\n",
    "selected = df_meta.loc[~mask].index.intersection(files_selected[\"files\"])\n",
    "df_meta.loc[selected]"
   ]
  },
  {
   "cell_type": "code",
   "execution_count": null,
   "id": "ccb44ce0-253c-485b-8533-f6716e9855d3",
   "metadata": {},
   "outputs": [],
   "source": [
    "def build_instrument_name(s):\n",
    "    \"\"\"Process in order, only keep one name\"\"\"\n",
    "    ret = ''\n",
    "    used_before = set()\n",
    "    for string_w_withspaces in s:\n",
    "        strings_ = string_w_withspaces.split()\n",
    "        for string_ in strings_:\n",
    "            if string_ not in used_before:\n",
    "                ret += f'_{string_}'\n",
    "        used_before |= set(strings_)\n",
    "    ret = (ret[1:]  # remove _ from start\n",
    "           .replace('Slot_#', '')\n",
    "           .replace('slot_#', '')\n",
    "           )\n",
    "    return ret\n",
    "\n",
    "\n",
    "(df_meta[\n",
    "        [\n",
    "            \"Thermo Scientific instrument model\",\n",
    "            \"instrument attribute\",\n",
    "            \"instrument serial number\",\n",
    "        ]\n",
    "]\n",
    "    .sample(20)\n",
    "    .apply(build_instrument_name, axis=1)\n",
    ")"
   ]
  },
  {
   "cell_type": "code",
   "execution_count": null,
   "id": "d1a3d03d-e79d-4cb3-9f9e-7b415060f38b",
   "metadata": {},
   "outputs": [],
   "source": [
    "fname = out_folder / 'selected_old_new_id_mapping.csv'\n",
    "files_out[fname.name] = fname.as_posix()\n",
    "df_meta.loc[selected].to_csv(fname)\n",
    "fname"
   ]
  },
  {
   "cell_type": "markdown",
   "id": "b0c69dd0-53a5-480e-a7cc-bb43b49a09cb",
   "metadata": {},
   "source": [
    "### OS rename"
   ]
  },
  {
   "cell_type": "code",
   "execution_count": null,
   "id": "801ccc99-a0f6-44bb-9605-5cf01cf57d21",
   "metadata": {},
   "outputs": [],
   "source": [
    "df_meta.loc[selected][[\"Path_old\", \"new_sample_id\"]]"
   ]
  },
  {
   "cell_type": "code",
   "execution_count": null,
   "id": "447c9308",
   "metadata": {},
   "outputs": [],
   "source": [
    "(df_meta\n",
    " .loc[selected, \"Path_old\"]\n",
    " .iloc[:3]\n",
    " .to_csv(out_folder / 'rawfiles_to_checksum.txt',\n",
    "         index=False,\n",
    "         header=False)\n",
    " )"
   ]
  },
  {
   "cell_type": "markdown",
   "id": "f07d1e53-f017-4d61-970d-3eb4ca2905c5",
   "metadata": {},
   "source": [
    "Save summaries for selected files"
   ]
  },
  {
   "cell_type": "code",
   "execution_count": null,
   "id": "62c3084e",
   "metadata": {},
   "outputs": [],
   "source": [
    "df_summaries = pd.read_csv(fn_mq_summaries, index_col=0)\n",
    "df_summaries = df_summaries.loc[selected].rename(df_meta.loc[selected, 'new_sample_id'])\n",
    "df_summaries.to_csv(out_folder / 'mq_summaries.csv')\n",
    "del df_summaries"
   ]
  },
  {
   "cell_type": "markdown",
   "id": "556a7087",
   "metadata": {},
   "source": [
    "## Put files on PRgIDE FTP server\n",
    "\n",
    "rename using `new_sample_id`"
   ]
  },
  {
   "cell_type": "markdown",
   "id": "c9f014ce-8efc-48a0-9779-435385dfc792",
   "metadata": {},
   "source": [
    "### LFTP commands - raw files\n",
    "\n",
    "`-f` option allows to pass commands from a file\n",
    "One needs to at least an `open` as the first line to log in to an ftp server\n",
    "For pride one needs to additionally `cd` to the correct folder:\n",
    "```bash\n",
    "> open ...\n",
    "> cd ...\n",
    "```\n",
    "to allow parallell commands, use the runtime setting\n",
    "```bash\n",
    ">>> cat ~/.lftprc\n",
    "set cmd:parallel 2\n",
    "```"
   ]
  },
  {
   "cell_type": "markdown",
   "id": "8d5998e4",
   "metadata": {},
   "source": [
    "Create folders on pride for raw files"
   ]
  },
  {
   "cell_type": "code",
   "execution_count": null,
   "id": "080b3773",
   "metadata": {},
   "outputs": [],
   "source": [
    "df_meta[\"folder_raw\"] = \"./raw_files/\" + df_meta[\"Instrument_name\"]\n",
    "df_meta[\"folder_raw\"].unique()\n",
    "\n",
    "fname = out_folder / 'raw_file_directories.txt'\n",
    "\n",
    "commands = 'mkdir -p ' + df_meta.loc[selected, \"folder_raw\"].drop_duplicates()\n",
    "commands.to_csv(fname, header=False, index=False)"
   ]
  },
  {
   "cell_type": "markdown",
   "id": "1a124d24",
   "metadata": {},
   "source": [
    "Create upload commands of raw files to create folders (could be combined with above)"
   ]
  },
  {
   "cell_type": "code",
   "execution_count": null,
   "id": "790c66e2-1a1e-46e2-9fd9-5ad7b86fc793",
   "metadata": {
    "lines_to_next_cell": 2
   },
   "outputs": [],
   "source": [
    "commands = df_meta.loc[selected]\n",
    "commands = (\n",
    "    'put '\n",
    "    + commands['Path_old'].astype('string')\n",
    "    + ' -o '\n",
    "    + \"./raw_files/\"\n",
    "    + commands[\"Instrument_name\"]\n",
    "    + '/'\n",
    "    + commands['new_sample_id'] + '.raw'\n",
    ")\n",
    "print(commands.sample(10).to_csv(sep=' ', header=False, index=False))"
   ]
  },
  {
   "cell_type": "markdown",
   "id": "b8a6ebb2",
   "metadata": {},
   "source": [
    "write all to file"
   ]
  },
  {
   "cell_type": "code",
   "execution_count": null,
   "id": "9d1263b3",
   "metadata": {},
   "outputs": [],
   "source": [
    "fname = out_folder / 'lftp_commands_rawfiles.txt'\n",
    "commands.to_csv(fname, header=False, index=False)"
   ]
  },
  {
   "cell_type": "markdown",
   "id": "bddf9902-71fe-4b86-930e-ced060d867ff",
   "metadata": {},
   "source": [
    "### LFTP commands - MaxQuant output"
   ]
  },
  {
   "cell_type": "markdown",
   "id": "2b6faff1-92a4-46ff-a14f-f6fb241265d7",
   "metadata": {},
   "source": [
    "Create upload commands of MaxQuant output folders to pride using mirror\n",
    "\n",
    "- `mq_out` folder\n",
    "- move from `Sample ID` folder into `new_sample_id` on erda"
   ]
  },
  {
   "cell_type": "code",
   "execution_count": null,
   "id": "d60b149d-d32a-4d97-b908-1c778a58a224",
   "metadata": {},
   "outputs": [],
   "source": [
    "commands = df_meta.loc[selected]\n",
    "commands = (\n",
    "    \"mirror -R --only-missing --log log_lftp_mirror.log --exclude-glob *.pdf \"  # command\n",
    "    + \"mq_out/\" + commands.index  # source\n",
    "    + \" ./MQ_tables/\" + commands[\"Instrument_name\"] + \"/\" + commands[\"new_sample_id\"]  # dest\n",
    ")\n",
    "\n",
    "print(commands.sample(10).to_csv(header=False, index=False))"
   ]
  },
  {
   "cell_type": "markdown",
   "id": "6989ded5",
   "metadata": {},
   "source": [
    "write all to file"
   ]
  },
  {
   "cell_type": "code",
   "execution_count": null,
   "id": "83c04b90-0c4e-4fe7-88f6-ed02cef93a23",
   "metadata": {},
   "outputs": [],
   "source": [
    "fname = out_folder / 'lftp_commands_mq_output.txt'\n",
    "commands.to_csv(fname, header=False, index=False)"
   ]
  }
 ],
 "metadata": {
  "kernelspec": {
   "display_name": "Python 3",
   "language": "python",
   "name": "python3"
  },
  "language_info": {
   "codemirror_mode": {
    "name": "ipython",
    "version": 3
   },
   "file_extension": ".py",
   "mimetype": "text/x-python",
   "name": "python",
   "nbconvert_exporter": "python",
   "pygments_lexer": "ipython3",
   "version": "3.8.13"
  }
 },
 "nbformat": 4,
 "nbformat_minor": 5
}
