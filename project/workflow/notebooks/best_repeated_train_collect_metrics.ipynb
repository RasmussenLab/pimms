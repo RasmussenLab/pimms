{
 "cells": [
  {
   "cell_type": "code",
   "execution_count": null,
   "metadata": {},
   "outputs": [],
   "source": [
    "import json\n",
    "from pathlib import Path\n",
    "import pandas as pd\n",
    "import vaep.models.collect_dumps\n",
    "\n",
    "REPITITION_NAME = snakemake.params.repitition_name\n",
    "\n",
    "\n",
    "def select_content(s: str):\n",
    "    s = s.split(\"metrics_\")[1]\n",
    "    assert isinstance(s, str), f\"More than one split: {s}\"\n",
    "    model, repeat = s.split(\"_\")\n",
    "    return model, int(repeat)\n",
    "\n",
    "def key_from_fname(fname: Path):\n",
    "    _, repeat = select_content(fname.stem)\n",
    "    key = (fname.parent.name, repeat)\n",
    "    return key\n",
    "\n",
    "def load_metric_file(fname: Path, frist_split='metrics'):\n",
    "    fname = Path(fname)\n",
    "    with open(fname) as f:\n",
    "        loaded = json.load(f)\n",
    "    loaded = vaep.pandas.flatten_dict_of_dicts(loaded)\n",
    "    key = key_from_fname(fname) # '_'.join(key_from_fname(fname))\n",
    "    return key, loaded\n",
    "\n",
    "load_metric_file(snakemake.input.metrics[0])"
   ]
  },
  {
   "cell_type": "code",
   "execution_count": null,
   "metadata": {},
   "outputs": [],
   "source": [
    "\n",
    "\n",
    "all_metrics = vaep.models.collect_dumps.collect(snakemake.input.metrics, load_metric_file)\n",
    "metrics = pd.DataFrame(all_metrics)\n",
    "metrics = metrics.set_index('id')\n",
    "metrics.index = pd.MultiIndex.from_tuples(\n",
    "                            metrics.index,\n",
    "                            names=(\"data level\", REPITITION_NAME))\n",
    "metrics.columns = pd.MultiIndex.from_tuples(\n",
    "                                metrics.columns, \n",
    "                                names=('data_split', 'model', 'metric_name'))\n",
    "metrics = (metrics\n",
    "            .stack(['metric_name', 'model'])\n",
    "            .unstack(['model', 'metric_name'])\n",
    "            .T)\n",
    "metrics"
   ]
  },
  {
   "cell_type": "code",
   "execution_count": null,
   "metadata": {},
   "outputs": [],
   "source": [
    "metrics = metrics.loc[\n",
    "    pd.IndexSlice[\n",
    "        [\"valid_fake_na\", \"test_fake_na\"],\n",
    "        [\"CF\", \"DAE\", \"VAE\"],\n",
    "        :]\n",
    "]\n",
    "metrics"
   ]
  },
  {
   "cell_type": "code",
   "execution_count": null,
   "metadata": {},
   "outputs": [],
   "source": [
    "FOLDER = Path(snakemake.params.folder)\n",
    "fname = FOLDER / \"metrics.pkl\" \n",
    "metrics.to_csv(fname.with_suffix(\".csv\"))\n",
    "metrics.to_excel(fname.with_suffix(\".xlsx\"))\n",
    "metrics.to_pickle(fname)\n",
    "fname"
   ]
  }
 ],
 "metadata": {
  "kernelspec": {
   "display_name": "Python 3",
   "language": "python",
   "name": "python3"
  },
  "language_info": {
   "name": "python"
  }
 },
 "nbformat": 4,
 "nbformat_minor": 2
}
