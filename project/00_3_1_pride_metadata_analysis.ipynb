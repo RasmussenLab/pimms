{
 "cells": [
  {
   "cell_type": "code",
   "execution_count": null,
   "id": "d9988d7d",
   "metadata": {},
   "outputs": [],
   "source": []
  },
  {
   "cell_type": "markdown",
   "id": "58232092",
   "metadata": {},
   "source": [
    "## Output Excel for Analysis"
   ]
  },
  {
   "cell_type": "code",
   "execution_count": null,
   "id": "fba8c071",
   "metadata": {
    "lines_to_next_cell": 2
   },
   "outputs": [],
   "source": [
    "from pathlib import Path\n",
    "import matplotlib.pyplot as plt\n",
    "import pandas as pd\n",
    "import seaborn\n",
    "\n",
    "\n",
    "from vaep.io import thermo_raw_files\n",
    "import vaep.pandas\n",
    "\n",
    "plt.rcParams['figure.figsize'] = [4, 3]\n",
    "vaep.plotting.make_large_descriptors(5)"
   ]
  },
  {
   "cell_type": "code",
   "execution_count": null,
   "id": "af37ae56",
   "metadata": {
    "incorrectly_encoded_metadata": "[tags=[\"parameters\"]]"
   },
   "outputs": [],
   "source": [
    "fn_meta = 'data/pride_metadata.csv'\n",
    "date_col: str = 'Content Creation Date'\n",
    "out_folder: str = 'data/dev_datasets/pride_upload'"
   ]
  },
  {
   "cell_type": "markdown",
   "id": "e2dc3abc",
   "metadata": {},
   "source": [
    "## Prepare outputs"
   ]
  },
  {
   "cell_type": "code",
   "execution_count": null,
   "id": "53d6f5dd",
   "metadata": {},
   "outputs": [],
   "source": [
    "out_folder = Path(out_folder)\n",
    "out_folder.mkdir(exist_ok=True)\n",
    "files_out = dict()"
   ]
  },
  {
   "cell_type": "code",
   "execution_count": null,
   "id": "dc84eb5d",
   "metadata": {},
   "outputs": [],
   "source": [
    "df_meta = pd.read_csv(fn_meta, index_col=0)\n",
    "df_meta"
   ]
  },
  {
   "cell_type": "code",
   "execution_count": null,
   "id": "ce35f226",
   "metadata": {},
   "outputs": [],
   "source": [
    "\n",
    "df_meta['instrument_label'] = (\n",
    "    df_meta[\"Thermo Scientific instrument model\"].str.replace(' ', '-')\n",
    "    + '_'\n",
    "    + df_meta[\"instrument serial number\"].str.split('#').str[-1]\n",
    ")\n",
    "\n",
    "# {k: k.replace('-Orbitrap_', ' ').replace('-', ' ').replace('_', ' ')\n",
    "#  for k in df_meta['instrument_label'].unique()}\n",
    "# further small changes applied manually\n",
    "# based on https://www.ebi.ac.uk/ols4/\n",
    "#\n",
    "# Q Exactive HF-X MS:1002877\n",
    "# Q Exactive HF MS:1002523\n",
    "# Orbitrap Exploris 480 MS:1003028\n",
    "# Exactive Plus MS:1002526\n",
    "# Q Exactive MS:1001911\n",
    "# Orbitrap Fusion Lumos MS:1002732\n",
    "\n",
    "instrument_labels = {'Q-Exactive-Orbitrap_1': 'Q Exactive 1',\n",
    "                     'Q-Exactive-Plus-Orbitrap_1': 'Exactive Plus 1',\n",
    "                     'Q-Exactive-HF-Orbitrap_206': 'Q Exactive HF 206',\n",
    "                     'Q-Exactive-Plus-Orbitrap_143': 'Exactive Plus 143',\n",
    "                     'Q-Exactive-HF-Orbitrap_1': 'Q Exactive HF 1',\n",
    "                     'Q-Exactive-HF-Orbitrap_147': 'Q Exactive HF 147',\n",
    "                     'Q-Exactive-HF-Orbitrap_204': 'Q Exactive HF 204',\n",
    "                     'Q-Exactive-HF-Orbitrap_148': 'Q Exactive HF 148',\n",
    "                     'Q-Exactive-HF-Orbitrap_207': 'Q Exactive HF 207',\n",
    "                     'Q-Exactive-HF-Orbitrap_143': 'Q Exactive HF 143',\n",
    "                     'Orbitrap-Fusion-Lumos_FSN20115': 'Orbitrap Fusion Lumos FSN20115',\n",
    "                     'Q-Exactive-HF-Orbitrap_2612': 'Q Exactive HF 2612',\n",
    "                     'Q-Exactive-HF-X-Orbitrap_6016': 'Q Exactive HF-X 6016',\n",
    "                     'Q-Exactive-HF-X-Orbitrap_6004': 'Q Exactive HF-X 6004',\n",
    "                     'Q-Exactive-HF-X-Orbitrap_6075': 'Q Exactive HF-X 6075',\n",
    "                     'Q-Exactive-HF-X-Orbitrap_6078': 'Q Exactive HF-X 6078',\n",
    "                     'Q-Exactive-HF-X-Orbitrap_6070': 'Q Exactive HF-X 6070',\n",
    "                     'Q-Exactive-HF-X-Orbitrap_6071': 'Q Exactive HF-X 6071',\n",
    "                     'Q-Exactive-HF-X-Orbitrap_6011': 'Q Exactive HF-X 6011',\n",
    "                     'Q-Exactive-HF-X-Orbitrap_6073': 'Q Exactive HF-X 6073',\n",
    "                     'Q-Exactive-HF-X-Orbitrap_6101': 'Q Exactive HF-X 6101',\n",
    "                     'Q-Exactive-HF-X-Orbitrap_6096': 'Q Exactive HF-X 6096',\n",
    "                     'Exactive-Series-Orbitrap_6004': 'Exactive Series 6004',\n",
    "                     'Q-Exactive-HF-X-Orbitrap_6043': 'Q Exactive HF-X 6043',\n",
    "                     'Q-Exactive-HF-X-Orbitrap_6025': 'Q Exactive HF-X 6025',\n",
    "                     'Q-Exactive-HF-X-Orbitrap_6022': 'Q Exactive HF-X 6022',\n",
    "                     'Q-Exactive-HF-X-Orbitrap_6023': 'Q Exactive HF-X 6023',\n",
    "                     'Q-Exactive-HF-X-Orbitrap_6028': 'Q Exactive HF-X 6028',\n",
    "                     'Q-Exactive-HF-X-Orbitrap_6013': 'Q Exactive HF-X 6013',\n",
    "                     'Q-Exactive-HF-X-Orbitrap_6044': 'Q Exactive HF-X 6044',\n",
    "                     'Q-Exactive-HF-X-Orbitrap_6324': 'Q Exactive HF-X 6324',\n",
    "                     'Orbitrap-Exploris-480_Invalid_SN_0001': 'Orbitrap Exploris 480 Invalid SN 0001',\n",
    "                     'Orbitrap-Exploris-480_MA10134C': 'Orbitrap Exploris 480 MA10134C',\n",
    "                     'Orbitrap-Exploris-480_MA10132C': 'Orbitrap Exploris 480 MA10132C',\n",
    "                     'Orbitrap-Exploris-480_MA10130C': 'Orbitrap Exploris 480 MA10130C',\n",
    "                     'Orbitrap-Exploris-480_MA10215C': 'Orbitrap Exploris 480 MA10215C'}\n",
    "\n",
    "df_meta[\"instrument_label\"] = df_meta[\"instrument_label\"].replace(instrument_labels)"
   ]
  },
  {
   "cell_type": "code",
   "execution_count": null,
   "id": "5a6e9cd8",
   "metadata": {},
   "outputs": [],
   "source": [
    "writer_args = dict(float_format='%.3f')\n",
    "fname = out_folder / 'pride_data_infos.xlsx'\n",
    "files_out[fname.name] = fname.as_posix()\n",
    "excel_writer = pd.ExcelWriter(fname)"
   ]
  },
  {
   "cell_type": "markdown",
   "id": "afcf4bf8",
   "metadata": {},
   "source": [
    "## Varying data between runs"
   ]
  },
  {
   "cell_type": "code",
   "execution_count": null,
   "id": "17db54de",
   "metadata": {},
   "outputs": [],
   "source": [
    "meta_stats = df_meta.describe(include='all')\n",
    "meta_stats.T.to_excel(excel_writer, sheet_name='des_stats', **writer_args)\n",
    "\n",
    "view = meta_stats.loc[:, (meta_stats.loc['unique'] > 1)\n",
    "                      | (meta_stats.loc['std'] > 0.01)].T\n",
    "view.to_excel(excel_writer, sheet_name='des_stats_varying', **writer_args)"
   ]
  },
  {
   "cell_type": "markdown",
   "id": "fec4afa2",
   "metadata": {},
   "source": [
    "## Instruments in selection"
   ]
  },
  {
   "cell_type": "code",
   "execution_count": null,
   "id": "efce5cbd",
   "metadata": {},
   "outputs": [],
   "source": [
    "thermo_raw_files.cols_instrument"
   ]
  },
  {
   "cell_type": "code",
   "execution_count": null,
   "id": "577be1d5",
   "metadata": {},
   "outputs": [],
   "source": [
    "df_meta[date_col] = pd.to_datetime(df_meta[date_col])\n",
    "\n",
    "counts_instrument = (df_meta\n",
    "                     .groupby(thermo_raw_files.cols_instrument)[date_col]\n",
    "                     .agg(['count', 'min', 'max'])\n",
    "                     .sort_values(by=thermo_raw_files.cols_instrument[:2] + ['count'], ascending=False))\n",
    "\n",
    "counts_instrument = counts_instrument.join(\n",
    "    (df_meta\n",
    "     [[*thermo_raw_files.cols_instrument, 'instrument_label']]\n",
    "     .drop_duplicates()\n",
    "     .set_index(thermo_raw_files.cols_instrument)\n",
    "     )\n",
    "    .set_index('instrument_label', append=True)\n",
    ")\n",
    "counts_instrument.to_excel(\n",
    "    excel_writer, sheet_name='instruments', **writer_args)\n",
    "counts_instrument"
   ]
  },
  {
   "cell_type": "code",
   "execution_count": null,
   "id": "087c2c08",
   "metadata": {},
   "outputs": [],
   "source": [
    "top10_instruments = counts_instrument['count'].nlargest(10)\n",
    "top10_instruments"
   ]
  },
  {
   "cell_type": "code",
   "execution_count": null,
   "id": "7aceab19",
   "metadata": {
    "lines_to_next_cell": 2
   },
   "outputs": [],
   "source": [
    "mask_top10_instruments = (df_meta[thermo_raw_files.cols_instrument]\n",
    "                          .apply(\n",
    "    lambda x: tuple(x) in top10_instruments.index, axis=1))\n",
    "assert mask_top10_instruments.sum() == top10_instruments.sum()"
   ]
  },
  {
   "cell_type": "code",
   "execution_count": null,
   "id": "74377ab0",
   "metadata": {},
   "outputs": [],
   "source": [
    "# counts_instrument = (df_meta\n",
    "#                      .groupby(['instrument_label'])[date_col]\n",
    "#                      .agg(['count', 'min', 'max'])\n",
    "#                      .sort_values('count', ascending=False)\n",
    "#                      )\n",
    "counts_instrument = (counts_instrument\n",
    "                     .reset_index()\n",
    "                     .set_index('instrument_label')\n",
    "                     ['count']\n",
    "                     .sort_values(ascending=False)\n",
    "                     )\n",
    "counts_instrument"
   ]
  },
  {
   "cell_type": "code",
   "execution_count": null,
   "id": "2d48b585",
   "metadata": {},
   "outputs": [],
   "source": [
    "fig, ax = plt.subplots()\n",
    "ax = (counts_instrument\n",
    "      .plot\n",
    "      .bar(\n",
    "          ax=ax,\n",
    "      )\n",
    "      )\n",
    "ax.set_xlabel('')\n",
    "ax.set_ylabel('number of samples (runs)')\n",
    "fname = out_folder / 'number_of_samples_per_instrument.pdf'\n",
    "files_out[fname.name] = fname.as_posix()\n",
    "vaep.savefig(fig, fname)"
   ]
  },
  {
   "cell_type": "markdown",
   "id": "f44798a4",
   "metadata": {},
   "source": [
    "## File size and number of identifications"
   ]
  },
  {
   "cell_type": "code",
   "execution_count": null,
   "id": "254018bd",
   "metadata": {},
   "outputs": [],
   "source": [
    "cols = ['Peptide Sequences Identified', 'size_gb']\n",
    "\n",
    "mask = ((df_meta[cols[0]] < 20_000) & (df_meta[cols[1]] > 3.5)\n",
    "        | (df_meta[cols[1]] > 5)\n",
    "        )\n",
    "\n",
    "cols = ['Peptide Sequences Identified', 'size_gb']\n",
    "ax = (df_meta\n",
    "      .loc[~mask, cols]\n",
    "      .plot\n",
    "      .scatter(cols[0], cols[1],\n",
    "               label='large files',\n",
    "               s=2,\n",
    "               )\n",
    "      )\n",
    "ax = (df_meta\n",
    "      .loc[mask, cols]\n",
    "      .plot\n",
    "      .scatter(cols[0], cols[1],\n",
    "               color='orange',\n",
    "               label='normal files',\n",
    "               ylabel='filesize (in GB)',\n",
    "               ax=ax,\n",
    "               s=2,\n",
    "               )\n",
    "      )\n",
    "ax.xaxis.set_major_formatter(\"{x:,.0f}\")\n",
    "fname = out_folder / 'filesize_vs_iden_peptides.pdf'\n",
    "files_out[fname.name] = fname.as_posix()\n",
    "vaep.savefig(ax.get_figure(), fname)\n",
    "\n",
    "\n",
    "view = df_meta.loc[mask].sort_values(by=cols)\n",
    "view.to_excel(excel_writer, sheet_name='instrument_outliers', **writer_args)\n",
    "view"
   ]
  },
  {
   "cell_type": "code",
   "execution_count": null,
   "id": "c718ce51",
   "metadata": {},
   "outputs": [],
   "source": [
    "cols = ['Number of MS1 spectra', 'Number of MS2 spectra',\n",
    "        'Peptide Sequences Identified']\n",
    "cols = vaep.pandas.get_columns_accessor_from_iterable(cols)\n",
    "\n",
    "view = df_meta.loc[mask_top10_instruments]\n",
    "view[\"instrument_label+N\"] = view[\"instrument_label\"].replace(\n",
    "    counts_instrument.to_frame().apply(\n",
    "        lambda s: f\"{s.name} (N={s['count']:03d})\", axis=1))\n",
    "view"
   ]
  },
  {
   "cell_type": "code",
   "execution_count": null,
   "id": "f55d77d2",
   "metadata": {
    "lines_to_next_cell": 2
   },
   "outputs": [],
   "source": [
    "fig, ax = plt.subplots()\n",
    "\n",
    "ax = seaborn.scatterplot(view,\n",
    "                         x=cols.Number_of_MS1_spectra,\n",
    "                         y=cols.Number_of_MS2_spectra,\n",
    "                         hue='instrument_label+N',\n",
    "                         legend='brief',\n",
    "                         ax=ax,\n",
    "                         s=5,\n",
    "                         palette='deep')\n",
    "_ = ax.legend(fontsize=5,\n",
    "              title_fontsize=5,\n",
    "              markerscale=0.4,\n",
    "              title='instrument label',\n",
    "              loc='upper right',\n",
    "              # alignment='left',\n",
    "              )\n",
    "ax.xaxis.set_major_formatter(\"{x:,.0f}\")\n",
    "ax.yaxis.set_major_formatter(\"{x:,.0f}\")\n",
    "fname = out_folder / 'ms1_to_ms2_top10_instruments.pdf'\n",
    "files_out[fname.name] = fname.as_posix()\n",
    "vaep.savefig(fig, fname)"
   ]
  },
  {
   "cell_type": "code",
   "execution_count": null,
   "id": "e8873c50",
   "metadata": {},
   "outputs": [],
   "source": [
    "fig, ax = plt.subplots()\n",
    "ax = view.plot.scatter(x=cols.Peptide_Sequences_Identified,\n",
    "                       y=cols.Number_of_MS1_spectra,\n",
    "                       label=cols.Number_of_MS1_spectra,\n",
    "                       s=2,\n",
    "                       c='green',\n",
    "                       ax=ax)\n",
    "ax = view.plot.scatter(x=cols.Peptide_Sequences_Identified,\n",
    "                       y=cols.Number_of_MS2_spectra,\n",
    "                       label=cols.Number_of_MS2_spectra,\n",
    "                       ylabel='# spectra',\n",
    "                       s=2,\n",
    "                       ax=ax)\n",
    "fname = out_folder / 'ms1_vs_ms2.pdf'\n",
    "ax.xaxis.set_major_formatter(\"{x:,.0f}\")\n",
    "ax.yaxis.set_major_formatter(\"{x:,.0f}\")\n",
    "files_out[fname.name] = fname.as_posix()\n",
    "vaep.savefig(fig, fname)"
   ]
  },
  {
   "cell_type": "markdown",
   "id": "455debba",
   "metadata": {},
   "source": [
    "## run length to number of identified peptides"
   ]
  },
  {
   "cell_type": "code",
   "execution_count": null,
   "id": "5d50ea32",
   "metadata": {},
   "outputs": [],
   "source": [
    "df_meta.filter(like='RT', axis=1).describe()"
   ]
  },
  {
   "cell_type": "code",
   "execution_count": null,
   "id": "2ef17002",
   "metadata": {},
   "outputs": [],
   "source": [
    "cols = ['MS max RT',\n",
    "        'Peptide Sequences Identified']\n",
    "cols = vaep.pandas.get_columns_accessor_from_iterable(cols)\n",
    "\n",
    "fig, ax = plt.subplots()\n",
    "\n",
    "ax = seaborn.scatterplot(\n",
    "    view,\n",
    "    x=cols.MS_max_RT,\n",
    "    y=cols.Peptide_Sequences_Identified,\n",
    "    hue='instrument_label+N',\n",
    "    legend='brief',\n",
    "    ax=ax,\n",
    "    s=5,\n",
    "    palette='deep')\n",
    "_ = ax.legend(fontsize=5,\n",
    "              title_fontsize=5,\n",
    "              markerscale=0.4,\n",
    "              title='instrument label',\n",
    "              )\n",
    "ax.yaxis.set_major_formatter(\"{x:,.0f}\")\n",
    "fname = out_folder / 'RT_vs_identified_peptides_top10_instruments.pdf'\n",
    "files_out[fname.name] = fname.as_posix()\n",
    "vaep.savefig(ax.get_figure(), fname)"
   ]
  },
  {
   "cell_type": "markdown",
   "id": "e51b090d",
   "metadata": {},
   "source": [
    "## Outputs"
   ]
  },
  {
   "cell_type": "code",
   "execution_count": null,
   "id": "219fb5c9",
   "metadata": {},
   "outputs": [],
   "source": [
    "excel_writer.close()"
   ]
  },
  {
   "cell_type": "code",
   "execution_count": null,
   "id": "4eaaeba3",
   "metadata": {
    "lines_to_next_cell": 0
   },
   "outputs": [],
   "source": [
    "files_out"
   ]
  },
  {
   "cell_type": "code",
   "execution_count": null,
   "id": "2c79fa00",
   "metadata": {},
   "outputs": [],
   "source": []
  }
 ],
 "metadata": {
  "jupytext": {
   "cell_metadata_filter": "incorrectly_encoded_metadata,-all",
   "main_language": "python",
   "notebook_metadata_filter": "-all"
  }
 },
 "nbformat": 4,
 "nbformat_minor": 5
}
