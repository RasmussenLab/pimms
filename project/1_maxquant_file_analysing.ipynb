{
 "cells": [
  {
   "cell_type": "code",
   "execution_count": 1,
   "metadata": {},
   "outputs": [],
   "source": [
    "import os\n",
    "from time import perf_counter\n",
    "import pandas as pd\n",
    "from src/config import FOLDER_DATA\n",
    "\n",
    "result_folders = ['mq_out', 'Hela']"
   ]
  },
  {
   "cell_type": "code",
   "execution_count": 2,
   "metadata": {},
   "outputs": [
    {
     "name": "stdout",
     "output_type": "stream",
     "text": [
      "File loading took 17.1 seconds\n"
     ]
    },
    {
     "data": {
      "text/plain": [
       "dict_keys(['mq_out', 'Hela'])"
      ]
     },
     "execution_count": 2,
     "metadata": {},
     "output_type": "execute_result"
    }
   ],
   "source": [
    "peptides = {}\n",
    "t0 = perf_counter()\n",
    "for _folder in result_folders:\n",
    "    _file = os.path.join(FOLDER_DATA, _folder, 'peptide_intensities')\n",
    "    try: \n",
    "        peptides[_folder] = pd.read_pickle(_file + '.pkl')\n",
    "    except FileNotFoundError:\n",
    "        peptides[_folder] = pd.read_csv(_file)\n",
    "print(f\"File loading took {perf_counter() - t0:.1f} seconds\")\n",
    "peptides.keys()    "
   ]
  },
  {
   "cell_type": "code",
   "execution_count": 3,
   "metadata": {},
   "outputs": [
    {
     "data": {
      "text/html": [
       "<div>\n",
       "<style scoped>\n",
       "    .dataframe tbody tr th:only-of-type {\n",
       "        vertical-align: middle;\n",
       "    }\n",
       "\n",
       "    .dataframe tbody tr th {\n",
       "        vertical-align: top;\n",
       "    }\n",
       "\n",
       "    .dataframe thead th {\n",
       "        text-align: right;\n",
       "    }\n",
       "</style>\n",
       "<table border=\"1\" class=\"dataframe\">\n",
       "  <thead>\n",
       "    <tr style=\"text-align: right;\">\n",
       "      <th></th>\n",
       "      <th>mq_out</th>\n",
       "      <th>Hela</th>\n",
       "    </tr>\n",
       "  </thead>\n",
       "  <tbody>\n",
       "    <tr>\n",
       "      <th>count</th>\n",
       "      <td>291.000000</td>\n",
       "      <td>381.000000</td>\n",
       "    </tr>\n",
       "    <tr>\n",
       "      <th>mean</th>\n",
       "      <td>43904.529210</td>\n",
       "      <td>40865.601050</td>\n",
       "    </tr>\n",
       "    <tr>\n",
       "      <th>std</th>\n",
       "      <td>4990.084257</td>\n",
       "      <td>5480.106054</td>\n",
       "    </tr>\n",
       "    <tr>\n",
       "      <th>min</th>\n",
       "      <td>25393.000000</td>\n",
       "      <td>25122.000000</td>\n",
       "    </tr>\n",
       "    <tr>\n",
       "      <th>25%</th>\n",
       "      <td>40976.500000</td>\n",
       "      <td>37623.000000</td>\n",
       "    </tr>\n",
       "    <tr>\n",
       "      <th>50%</th>\n",
       "      <td>45237.000000</td>\n",
       "      <td>41808.000000</td>\n",
       "    </tr>\n",
       "    <tr>\n",
       "      <th>75%</th>\n",
       "      <td>47260.500000</td>\n",
       "      <td>44467.000000</td>\n",
       "    </tr>\n",
       "    <tr>\n",
       "      <th>max</th>\n",
       "      <td>54316.000000</td>\n",
       "      <td>53296.000000</td>\n",
       "    </tr>\n",
       "  </tbody>\n",
       "</table>\n",
       "</div>"
      ],
      "text/plain": [
       "             mq_out          Hela\n",
       "count    291.000000    381.000000\n",
       "mean   43904.529210  40865.601050\n",
       "std     4990.084257   5480.106054\n",
       "min    25393.000000  25122.000000\n",
       "25%    40976.500000  37623.000000\n",
       "50%    45237.000000  41808.000000\n",
       "75%    47260.500000  44467.000000\n",
       "max    54316.000000  53296.000000"
      ]
     },
     "execution_count": 3,
     "metadata": {},
     "output_type": "execute_result"
    }
   ],
   "source": [
    "MIN_N_PEPTIDES = 25000\n",
    "for i, (key, data_set) in enumerate(peptides.items()):\n",
    "    _df = data_set.notna().sum(axis=1).to_frame(name=key)\n",
    "    mask = _df[key] >= MIN_N_PEPTIDES\n",
    "    _df = _df.loc[mask].describe()\n",
    "    if i == 0:\n",
    "        df = _df\n",
    "    else:\n",
    "        df = df.join(_df)\n",
    "df"
   ]
  },
  {
   "cell_type": "code",
   "execution_count": 4,
   "metadata": {},
   "outputs": [],
   "source": [
    "with pd.ExcelWriter('tables/maxquant_file_analysis.xlsx') as writer:\n",
    "    df.to_excel(writer, sheet_name=f'min_{MIN_N_PEPTIDES}_pep', float_format=\"%.2f\")\n",
    "df.to_excel(f'tables/maxquant_file_analysis_min_{MIN_N_PEPTIDES}_pep.xlsx', float_format=\"%.2f\")"
   ]
  },
  {
   "cell_type": "code",
   "execution_count": 5,
   "metadata": {},
   "outputs": [
    {
     "name": "stdout",
     "output_type": "stream",
     "text": [
      "Peptide intesities in mq_out take up  377.85 MB of memory\n",
      "Peptide intesities in Hela   take up  750.95 MB of memory\n"
     ]
    }
   ],
   "source": [
    "for i, (key, data_set) in enumerate(peptides.items()):\n",
    "    print(f\"Peptide intesities in {key:6} take up {data_set.memory_usage(deep=False).sum() / 1000000:7.2f} MB of memory\")"
   ]
  },
  {
   "cell_type": "markdown",
   "metadata": {},
   "source": [
    ">Note: This should correspond to the size of the pickled DataFrame on disk."
   ]
  }
 ],
 "metadata": {
  "kernelspec": {
   "display_name": "vaep",
   "language": "python",
   "name": "vaep"
  },
  "language_info": {
   "codemirror_mode": {
    "name": "ipython",
    "version": 3
   },
   "file_extension": ".py",
   "mimetype": "text/x-python",
   "name": "python",
   "nbconvert_exporter": "python",
   "pygments_lexer": "ipython3",
   "version": "3.8.5"
  }
 },
 "nbformat": 4,
 "nbformat_minor": 4
}
