{
 "cells": [
  {
   "cell_type": "markdown",
   "id": "9a1b3230-1ff7-4a1e-bcb6-cb9d62a3e0ff",
   "metadata": {},
   "source": [
    "# Join aggregated configs from each model"
   ]
  },
  {
   "cell_type": "code",
   "execution_count": 2,
   "id": "1ffe589b-78ed-4a01-b86a-12e3a8397d4d",
   "metadata": {},
   "outputs": [],
   "source": [
    "import pandas as pd"
   ]
  },
  {
   "cell_type": "code",
   "execution_count": 3,
   "id": "637ee0a7",
   "metadata": {},
   "outputs": [],
   "source": [
    "filepaths_in = snakemake.input\n",
    "filepath_out = snakemake.output[0]\n",
    "filepaths_in"
   ]
  },
  {
   "cell_type": "code",
   "execution_count": 4,
   "id": "10a5e51d-e07d-4bc0-b5f3-7b8adfb285d5",
   "metadata": {},
   "outputs": [],
   "source": [
    "filepath_out"
   ]
  },
  {
   "cell_type": "markdown",
   "id": "a157625a-27e1-4f07-bc46-ba200644e1da",
   "metadata": {},
   "source": [
    "## Example\n",
    "\n",
    "- first file"
   ]
  },
  {
   "cell_type": "code",
   "execution_count": 27,
   "id": "43f30939-85cf-4e06-93b1-9efd581d831e",
   "metadata": {},
   "outputs": [],
   "source": [
    "pd.read_csv(filepaths_in[0], index_col=0)"
   ]
  },
  {
   "cell_type": "markdown",
   "id": "53034f5e-e1e4-4058-9369-ad5f989be933",
   "metadata": {},
   "source": [
    "## Load all model configs"
   ]
  },
  {
   "cell_type": "code",
   "execution_count": 30,
   "id": "10619727",
   "metadata": {},
   "outputs": [],
   "source": [
    "configs = pd.concat([\n",
    "    pd.read_csv(fname, index_col=0) for fname in filepaths_in\n",
    "])\n",
    "configs"
   ]
  },
  {
   "cell_type": "markdown",
   "id": "932aec75-b026-4c2b-b695-6224d751f94e",
   "metadata": {},
   "source": [
    "## Dump combined to disk"
   ]
  },
  {
   "cell_type": "code",
   "execution_count": 22,
   "id": "50993a5b-bb0f-485a-8722-4accc054c167",
   "metadata": {},
   "outputs": [],
   "source": [
    "_ = configs.to_csv(filepath_out)\n",
    "filepath_out"
   ]
  }
 ],
 "metadata": {
  "kernelspec": {
   "display_name": "Python 3",
   "language": "python",
   "name": "python3"
  },
  "language_info": {
   "codemirror_mode": {
    "name": "ipython",
    "version": 3
   },
   "file_extension": ".py",
   "mimetype": "text/x-python",
   "name": "python",
   "nbconvert_exporter": "python",
   "pygments_lexer": "ipython3",
   "version": "3.8.13"
  },
  "toc": {
   "base_numbering": 1,
   "nav_menu": {},
   "number_sections": true,
   "sideBar": true,
   "skip_h1_title": false,
   "title_cell": "Table of Contents",
   "title_sidebar": "Contents",
   "toc_cell": false,
   "toc_position": {},
   "toc_section_display": true,
   "toc_window_display": false
  },
  "vscode": {
   "interpreter": {
    "hash": "cf83e9cb890c7f96eb0ae04f39a82254555f56a1a0ed2f03b23a8b40fe6cd31c"
   }
  }
 },
 "nbformat": 4,
 "nbformat_minor": 5
}
