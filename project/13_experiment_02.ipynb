{
 "cells": [
  {
   "cell_type": "markdown",
   "metadata": {},
   "source": [
    "# Experiment 02\n",
    "\n",
    "- [ ] mask entries in larger dataset in long-format\n",
    "- [ ] mask peptides based on their frequency in samples (probability of being observed)\n",
    "- [ ] create training data set without masked values for each model\n",
    "    - Denoising AE\n",
    "    - FNN based on embeddings (Collaborative Filtering)\n",
    "    - VAE\n",
    "- [ ] restrict to only a training data split of consective data: Increase number of samples.\n",
    "    - focus on best reconstruction performance\n",
    "    - mean comparison\n",
    "    - "
   ]
  },
  {
   "cell_type": "code",
   "execution_count": null,
   "metadata": {},
   "outputs": [],
   "source": [
    "from src.nb_imports import *\n",
    "\n",
    "from pathlib import Path\n",
    "from src import metadata\n",
    "\n",
    "import logging\n",
    "from src.logging import setup_logger\n",
    "\n",
    "logger = setup_logger(logger=logging.getLogger('vaep'))\n",
    "logger.info(\"Experiment 02\")\n",
    "\n",
    "figures = {}  # collection of ax or figures\n",
    "\n",
    "ADD_TENSORBOARD = False"
   ]
  },
  {
   "cell_type": "markdown",
   "metadata": {},
   "source": [
    "## Raw data"
   ]
  },
  {
   "cell_type": "code",
   "execution_count": null,
   "metadata": {},
   "outputs": [],
   "source": [
    "# only some sample have many missings\n",
    "FN_PEPTIDE_INTENSITIES = Path('data') / 'df_intensities_N_07813_M01000'  # all\n",
    "FN_PEPTIDE_INTENSITIES = Path('data') / 'df_intensities_N_07637_M01000'  # 60%\n",
    "FN_PEPTIDE_INTENSITIES = Path('data') / 'df_intensities_N_07285_M01000'  # 90%"
   ]
  },
  {
   "cell_type": "code",
   "execution_count": null,
   "metadata": {},
   "outputs": [],
   "source": [
    "analysis = AnalyzePeptides(fname=FN_PEPTIDE_INTENSITIES, nrows=None)\n",
    "analysis.log_transform(np.log2)\n",
    "analysis"
   ]
  },
  {
   "cell_type": "code",
   "execution_count": null,
   "metadata": {},
   "outputs": [],
   "source": [
    "# some date are not possible in the indices\n",
    "rename_indices_w_wrong_dates = {'20161131_LUMOS1_nLC13_AH_MNT_HeLa_long_03': '20161130_LUMOS1_nLC13_AH_MNT_HeLa_long_03',\n",
    "                                '20180230_QE10_nLC0_MR_QC_MNT_Hela_12': '20180330_QE10_nLC0_MR_QC_MNT_Hela_12',\n",
    "                                '20161131_LUMOS1_nLC13_AH_MNT_HeLa_long_01': '20161130_LUMOS1_nLC13_AH_MNT_HeLa_long_01',\n",
    "                                '20180230_QE10_nLC0_MR_QC_MNT_Hela_11': '20180330_QE10_nLC0_MR_QC_MNT_Hela_11',\n",
    "                                '20161131_LUMOS1_nLC13_AH_MNT_HeLa_long_02': '20161130_LUMOS1_nLC13_AH_MNT_HeLa_long_02'}\n",
    "analysis.df.rename(index=rename_indices_w_wrong_dates, inplace=True)"
   ]
  },
  {
   "cell_type": "markdown",
   "metadata": {},
   "source": [
    "- biological stock differences in PCA plot. Show differences in models. Only see biological variance"
   ]
  },
  {
   "cell_type": "code",
   "execution_count": null,
   "metadata": {},
   "outputs": [],
   "source": [
    "d_meta = metadata.get_metadata_from_filenames(analysis.df.index)\n",
    "analysis.df_meta = pd.DataFrame.from_dict(\n",
    "    d_meta, orient='index')\n",
    "analysis.df_meta"
   ]
  },
  {
   "cell_type": "markdown",
   "metadata": {},
   "source": [
    "Use to find date parsing errors, used for renaming above."
   ]
  },
  {
   "cell_type": "code",
   "execution_count": null,
   "metadata": {},
   "outputs": [],
   "source": [
    "# invalid_dates = pd.to_datetime(analysis.df_meta.date, errors='coerce').isna()\n",
    "# display(analysis.df_meta.loc[invalid_dates])\n",
    "# {i : i for i in analysis.df_meta.loc[invalid_dates].index} # to rename"
   ]
  },
  {
   "cell_type": "code",
   "execution_count": null,
   "metadata": {},
   "outputs": [],
   "source": [
    "analysis.df_meta.describe()"
   ]
  },
  {
   "cell_type": "markdown",
   "metadata": {},
   "source": [
    "See rare instrument types (potential labeling errors)"
   ]
  },
  {
   "cell_type": "code",
   "execution_count": null,
   "metadata": {},
   "outputs": [],
   "source": [
    "N_MIN_INSTRUMENT = 10\n",
    "ms_instruments = analysis.df_meta.ms_instrument.value_counts()\n",
    "ms_instruments = ms_instruments[ms_instruments > N_MIN_INSTRUMENT].index\n",
    "mask = ~analysis.df_meta.ms_instrument.isin(ms_instruments)\n",
    "analysis.df_meta.loc[mask]"
   ]
  },
  {
   "cell_type": "markdown",
   "metadata": {},
   "source": [
    "### PCA plot of raw data"
   ]
  },
  {
   "cell_type": "code",
   "execution_count": null,
   "metadata": {},
   "outputs": [],
   "source": [
    "import itertools\n",
    "from sklearn.impute import SimpleImputer\n",
    "X = SimpleImputer().fit_transform(analysis.df)\n",
    "X = vaep.pandas._add_indices(X, analysis.df)\n",
    "assert X.isna().sum().sum() == 0\n",
    "\n",
    "pca = analyzers.run_pca(X)\n",
    "cols = list(pca.columns)\n",
    "\n",
    "fig, axes = plt.subplots(nrows=2, ncols=1, figsize=(\n",
    "    15, 20), constrained_layout=True)\n",
    "fig.suptitle('First two Principal Components of entire dataset', fontsize=30)\n",
    "\n",
    "\n",
    "# by instrument\n",
    "ax = axes[0]\n",
    "pca['ms_instrument'] = analysis.df_meta['ms_instrument'].astype('category')\n",
    "for name, group in pca.groupby('ms_instrument'):\n",
    "    ax.scatter(x=group[cols[0]], y=group[cols[1]], label=name)\n",
    "ax.set_title('by category', fontsize=18)\n",
    "ax.legend(loc='center right', bbox_to_anchor=(1.11, 0.5))\n",
    "\n",
    "# by dates\n",
    "ax = axes[1]\n",
    "ax.set_title('by date', fontsize=18)\n",
    "path_collection = analyzers.scatter_plot_w_dates(\n",
    "    ax, pca, dates=analysis.df_meta.date, errors='raise')\n",
    "path_collection = analyzers.add_date_colorbar(path_collection, fig)"
   ]
  },
  {
   "cell_type": "markdown",
   "metadata": {},
   "source": [
    "## Long format\n"
   ]
  },
  {
   "cell_type": "code",
   "execution_count": null,
   "metadata": {},
   "outputs": [],
   "source": [
    "def get_long_format(self, colname_values='intensity', inplace=False):\n",
    "    df = self.df\n",
    "    df_long = df.unstack().to_frame(colname_values)\n",
    "    df_long = df_long.reset_index('Sample ID')\n",
    "\n",
    "    if inplace:\n",
    "        self.df_long = df_long\n",
    "        return\n",
    "    return df_long\n",
    "\n",
    "get_long_format(analysis, inplace=True)\n",
    "analysis.df_long.head()"
   ]
  },
  {
   "cell_type": "code",
   "execution_count": null,
   "metadata": {},
   "outputs": [],
   "source": [
    "def get_wide_format(self, columns='Sample ID', name_values='intensity', inplace=False):\n",
    "    df_wide = self.df_long.pivot(columns=columns, values=name_values)\n",
    "    df_wide = df_wide.T\n",
    "    if inplace:\n",
    "        self.df_wide = df_wide\n",
    "        return\n",
    "    return df_wide\n",
    "\n",
    "get_wide_format(analysis, inplace=True)\n",
    "analysis.df_wide.head()"
   ]
  },
  {
   "cell_type": "markdown",
   "metadata": {},
   "source": [
    "### Sampling by index frequency"
   ]
  },
  {
   "cell_type": "code",
   "execution_count": null,
   "metadata": {},
   "outputs": [],
   "source": [
    "# freq_per_peptide = analysis.df.unstack().to_frame('intensity').reset_index(1, drop=True)\n",
    "freq_per_peptide = analysis.df_long['intensity']\n",
    "freq_per_peptide = freq_per_peptide.notna().groupby(level=0).sum()"
   ]
  },
  {
   "cell_type": "code",
   "execution_count": null,
   "metadata": {},
   "outputs": [],
   "source": [
    "# df_long = analysis.df.unstack().to_frame('intensity').reset_index(1)\n",
    "analysis.df_train = analysis.df_long.groupby(by='Sample ID').sample(frac=0.95, weights=freq_per_peptide)\n",
    "analysis.df_train"
   ]
  },
  {
   "cell_type": "code",
   "execution_count": null,
   "metadata": {},
   "outputs": [],
   "source": []
  }
 ],
 "metadata": {
  "kernelspec": {
   "display_name": "vaep",
   "language": "python",
   "name": "vaep"
  },
  "language_info": {
   "codemirror_mode": {
    "name": "ipython",
    "version": 3
   },
   "file_extension": ".py",
   "mimetype": "text/x-python",
   "name": "python",
   "nbconvert_exporter": "python",
   "pygments_lexer": "ipython3",
   "version": "3.8.5"
  }
 },
 "nbformat": 4,
 "nbformat_minor": 4
}
