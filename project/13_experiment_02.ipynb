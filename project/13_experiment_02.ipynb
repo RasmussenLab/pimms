{
 "cells": [
  {
   "cell_type": "markdown",
   "metadata": {},
   "source": [
    "# Experiment 02\n",
    "\n",
    "- [ ] mask entries in larger dataset in long-format\n",
    "- [ ] mask peptides based on their frequency in samples (probability of being observed)\n",
    "- [ ] create training data set without masked values for each model\n",
    "    - Denoising AE\n",
    "    - FNN based on embeddings (Collaborative Filtering)\n",
    "    - VAE\n",
    "- [ ] restrict to only a training data split of consective data: Increase number of samples.\n",
    "    - focus on best reconstruction performance\n",
    "    - mean comparison\n",
    "\n",
    "### Collaborative Filtering model\n",
    "- Cannot accomodate iid assumption of statistical test in current setup for embedding vectors.\n",
    "    - if pretrained model should be applied to an new batch of replicates (with a certain condition)\n",
    "      one would need to find a way to initialize the sample embeddings without fine-tuning the model"
   ]
  },
  {
   "cell_type": "code",
   "execution_count": null,
   "metadata": {},
   "outputs": [],
   "source": [
    "from pprint import pprint\n",
    "from src.nb_imports import *\n",
    "\n",
    "from pathlib import Path\n",
    "from src import metadata\n",
    "\n",
    "\n",
    "import logging\n",
    "from src.logging import setup_logger\n",
    "\n",
    "logger = setup_logger(logger=logging.getLogger('vaep'))\n",
    "logger.info(\"Experiment 02\")\n",
    "\n",
    "figures = {}  # collection of ax or figures\n",
    "\n",
    "ADD_TENSORBOARD = False"
   ]
  },
  {
   "cell_type": "code",
   "execution_count": null,
   "metadata": {},
   "outputs": [],
   "source": [
    "# None takes all\n",
    "N_SAMPLES = 500"
   ]
  },
  {
   "cell_type": "markdown",
   "metadata": {},
   "source": [
    "## Raw data"
   ]
  },
  {
   "cell_type": "code",
   "execution_count": null,
   "metadata": {},
   "outputs": [],
   "source": [
    "# only some sample have many missings\n",
    "\n",
    "FN_PEPTIDE_INTENSITIES = config.FOLDER_DATA / \\\n",
    "    'df_intensities_N_07813_M01000'  # all\n",
    "FN_PEPTIDE_INTENSITIES = config.FOLDER_DATA / \\\n",
    "    'df_intensities_N_07637_M01000'  # 60%\n",
    "FN_PEPTIDE_INTENSITIES = config.FOLDER_DATA / \\\n",
    "    'df_intensities_N_07285_M01000'  # 90%"
   ]
  },
  {
   "cell_type": "code",
   "execution_count": null,
   "metadata": {},
   "outputs": [],
   "source": [
    "analysis = AnalyzePeptides(fname=FN_PEPTIDE_INTENSITIES, nrows=None)\n",
    "analysis.df.columns.name = 'peptide'\n",
    "analysis.log_transform(np.log2)\n",
    "analysis"
   ]
  },
  {
   "cell_type": "code",
   "execution_count": null,
   "metadata": {},
   "outputs": [],
   "source": [
    "# some date are not possible in the indices\n",
    "rename_indices_w_wrong_dates = {'20161131_LUMOS1_nLC13_AH_MNT_HeLa_long_03': '20161130_LUMOS1_nLC13_AH_MNT_HeLa_long_03',\n",
    "                                '20180230_QE10_nLC0_MR_QC_MNT_Hela_12': '20180330_QE10_nLC0_MR_QC_MNT_Hela_12',\n",
    "                                '20161131_LUMOS1_nLC13_AH_MNT_HeLa_long_01': '20161130_LUMOS1_nLC13_AH_MNT_HeLa_long_01',\n",
    "                                '20180230_QE10_nLC0_MR_QC_MNT_Hela_11': '20180330_QE10_nLC0_MR_QC_MNT_Hela_11',\n",
    "                                '20161131_LUMOS1_nLC13_AH_MNT_HeLa_long_02': '20161130_LUMOS1_nLC13_AH_MNT_HeLa_long_02'}\n",
    "analysis.df.rename(index=rename_indices_w_wrong_dates, inplace=True)"
   ]
  },
  {
   "cell_type": "markdown",
   "metadata": {},
   "source": [
    "### Select N consecutive samples"
   ]
  },
  {
   "cell_type": "code",
   "execution_count": null,
   "metadata": {},
   "outputs": [],
   "source": [
    "# sort index\n",
    "analysis.df.sort_index(inplace=True)\n",
    "analysis.df_all = analysis.df"
   ]
  },
  {
   "cell_type": "code",
   "execution_count": null,
   "metadata": {},
   "outputs": [],
   "source": [
    "import random\n",
    "N_SAMPLES = min(len(analysis.df), N_SAMPLES) if N_SAMPLES else len(analysis.df)\n",
    "\n",
    "random.seed(42)\n",
    "\n",
    "\n",
    "def get_consecutive_data_indices(df, n_samples=N_SAMPLES):\n",
    "    index = df.sort_index().index\n",
    "    start_sample = len(index) - n_samples\n",
    "    start_sample = random.randint(0, start_sample)\n",
    "    return df.loc[index[start_sample:start_sample+n_samples]]\n",
    "\n",
    "\n",
    "_attr_name = f'df_{N_SAMPLES}'\n",
    "setattr(analysis, _attr_name, get_consecutive_data_indices(analysis.df_all))\n",
    "print(\"Training data stored under:\", _attr_name)\n",
    "analysis.df = getattr(analysis, _attr_name)\n",
    "analysis.df"
   ]
  },
  {
   "cell_type": "code",
   "execution_count": null,
   "metadata": {},
   "outputs": [],
   "source": [
    "assert not analysis.df._is_view"
   ]
  },
  {
   "cell_type": "markdown",
   "metadata": {},
   "source": [
    "- biological stock differences in PCA plot. Show differences in models. Only see biological variance"
   ]
  },
  {
   "cell_type": "code",
   "execution_count": null,
   "metadata": {},
   "outputs": [],
   "source": [
    "d_meta = metadata.get_metadata_from_filenames(analysis.df.index)\n",
    "analysis.df_meta = pd.DataFrame.from_dict(\n",
    "    d_meta, orient='index')\n",
    "analysis.df_meta"
   ]
  },
  {
   "cell_type": "markdown",
   "metadata": {},
   "source": [
    "Use to find date parsing errors, used for renaming above."
   ]
  },
  {
   "cell_type": "code",
   "execution_count": null,
   "metadata": {},
   "outputs": [],
   "source": [
    "# invalid_dates = pd.to_datetime(analysis.df_meta.date, errors='coerce').isna()\n",
    "# display(analysis.df_meta.loc[invalid_dates])\n",
    "# {i : i for i in analysis.df_meta.loc[invalid_dates].index} # to rename"
   ]
  },
  {
   "cell_type": "code",
   "execution_count": null,
   "metadata": {},
   "outputs": [],
   "source": [
    "analysis.df_meta.describe()"
   ]
  },
  {
   "cell_type": "markdown",
   "metadata": {},
   "source": [
    "See rare instrument types (potential labeling errors)"
   ]
  },
  {
   "cell_type": "code",
   "execution_count": null,
   "metadata": {},
   "outputs": [],
   "source": [
    "N_MIN_INSTRUMENT = 10\n",
    "ms_instruments = analysis.df_meta.ms_instrument.value_counts()\n",
    "ms_instruments = ms_instruments[ms_instruments > N_MIN_INSTRUMENT].index\n",
    "mask = ~analysis.df_meta.ms_instrument.isin(ms_instruments)\n",
    "analysis.df_meta.loc[mask]"
   ]
  },
  {
   "cell_type": "markdown",
   "metadata": {},
   "source": [
    "### PCA plot of raw data"
   ]
  },
  {
   "cell_type": "code",
   "execution_count": null,
   "metadata": {},
   "outputs": [],
   "source": [
    "import itertools\n",
    "from sklearn.impute import SimpleImputer\n",
    "X = SimpleImputer().fit_transform(analysis.df)\n",
    "X = vaep.pandas._add_indices(X, analysis.df)\n",
    "assert X.isna().sum().sum() == 0\n",
    "\n",
    "pca = analyzers.run_pca(X)\n",
    "cols = list(pca.columns)\n",
    "\n",
    "fig, axes = plt.subplots(nrows=2, ncols=1, figsize=(\n",
    "    15, 20), constrained_layout=True)\n",
    "fig.suptitle('First two Principal Components of entire dataset', fontsize=30)\n",
    "\n",
    "\n",
    "# by instrument\n",
    "ax = axes[0]\n",
    "pca['ms_instrument'] = analysis.df_meta['ms_instrument'].astype('category')\n",
    "for name, group in pca.groupby('ms_instrument'):\n",
    "    ax.scatter(x=group[cols[0]], y=group[cols[1]], label=name)\n",
    "ax.set_title('by category', fontsize=18)\n",
    "ax.legend(loc='center right', bbox_to_anchor=(1.11, 0.5))\n",
    "\n",
    "# by dates\n",
    "ax = axes[1]\n",
    "ax.set_title('by date', fontsize=18)\n",
    "path_collection = analyzers.scatter_plot_w_dates(\n",
    "    ax, pca, dates=analysis.df_meta.date, errors='raise')\n",
    "path_collection = analyzers.add_date_colorbar(path_collection, fig)"
   ]
  },
  {
   "cell_type": "markdown",
   "metadata": {},
   "source": [
    "## Long format\n",
    "\n",
    "- Data in long format: (peptide, sample_id, intensity)\n",
    "- no missing values kept\n",
    "- "
   ]
  },
  {
   "cell_type": "code",
   "execution_count": null,
   "metadata": {},
   "outputs": [],
   "source": [
    "def get_long_format(self, colname_values='intensity', inplace=False):\n",
    "    df = self.df\n",
    "    df_long = df.unstack().dropna().to_frame(colname_values)\n",
    "    df_long = df_long.reset_index('Sample ID')\n",
    "    if inplace:\n",
    "        self.df_long = df_long\n",
    "        return\n",
    "    return df_long\n",
    "\n",
    "\n",
    "get_long_format(analysis, inplace=True)\n",
    "analysis.df_long.head()"
   ]
  },
  {
   "cell_type": "code",
   "execution_count": null,
   "metadata": {},
   "outputs": [],
   "source": [
    "assert analysis.df_long.isna().sum().sum() == 0, \"There are still missing values in the long format.\""
   ]
  },
  {
   "cell_type": "code",
   "execution_count": null,
   "metadata": {},
   "outputs": [],
   "source": [
    "def get_wide_format(self, columns='Sample ID', name_values='intensity', inplace=False):\n",
    "    df_wide = self.df_long.pivot(columns=columns, values=name_values)\n",
    "    df_wide = df_wide.T\n",
    "    if inplace:\n",
    "        self.df_wide = df_wide\n",
    "        return\n",
    "    return df_wide\n",
    "\n",
    "\n",
    "get_wide_format(analysis, inplace=True)\n",
    "analysis.df_wide.head()"
   ]
  },
  {
   "cell_type": "code",
   "execution_count": null,
   "metadata": {},
   "outputs": [],
   "source": [
    "assert analysis.df_wide.isna().sum().sum() > 0, \"There are no missing values left in the wide format\""
   ]
  },
  {
   "cell_type": "markdown",
   "metadata": {},
   "source": [
    "### Sampling peptides by their frequency (important for later)\n",
    "\n",
    "- higher count, higher probability to be sampled into training data\n",
    "- missing peptides are sampled both into training as well as into validation dataset\n",
    "- everything not in training data is validation data"
   ]
  },
  {
   "cell_type": "code",
   "execution_count": null,
   "metadata": {},
   "outputs": [],
   "source": [
    "# freq_per_peptide = analysis.df.unstack().to_frame('intensity').reset_index(1, drop=True)\n",
    "freq_per_peptide = analysis.df_long['intensity']\n",
    "freq_per_peptide = freq_per_peptide.notna().groupby(level=0).sum()"
   ]
  },
  {
   "cell_type": "code",
   "execution_count": null,
   "metadata": {},
   "outputs": [],
   "source": [
    "# df_long = analysis.df.unstack().to_frame('intensity').reset_index(1)\n",
    "analysis.df_train = analysis.df_long.groupby(\n",
    "    by='Sample ID').sample(frac=0.95, weights=freq_per_peptide, random_state=42)\n",
    "analysis.df_train = analysis.df_train.reset_index().set_index([\n",
    "    'Sample ID', 'peptide'])\n",
    "analysis.df_train"
   ]
  },
  {
   "cell_type": "markdown",
   "metadata": {},
   "source": [
    "## MultiIndex \n",
    "\n",
    "- use mulitindex for obtaining validation split"
   ]
  },
  {
   "cell_type": "code",
   "execution_count": null,
   "metadata": {},
   "outputs": [],
   "source": [
    "analysis.df_long = analysis.df_long.reset_index(\n",
    ").set_index(['Sample ID', 'peptide'])\n",
    "analysis.df_long.head()"
   ]
  },
  {
   "cell_type": "code",
   "execution_count": null,
   "metadata": {},
   "outputs": [],
   "source": [
    "analysis.indices_valid = analysis.df_long.index.difference(\n",
    "    analysis.df_train.index)\n",
    "analysis.df_valid = analysis.df_long.loc[analysis.indices_valid]"
   ]
  },
  {
   "cell_type": "code",
   "execution_count": null,
   "metadata": {},
   "outputs": [],
   "source": [
    "assert len(analysis.df_long) == len(analysis.df_train) + len(analysis.df_valid)"
   ]
  },
  {
   "cell_type": "markdown",
   "metadata": {},
   "source": [
    "## Setup DL"
   ]
  },
  {
   "cell_type": "code",
   "execution_count": null,
   "metadata": {},
   "outputs": [],
   "source": [
    "import vaep.model as vaep_model\n",
    "from vaep.cmd import get_args\n",
    "\n",
    "BATCH_SIZE, EPOCHS = 128, 30\n",
    "args = get_args(batch_size=BATCH_SIZE, epochs=EPOCHS,\n",
    "                no_cuda=False)  # data transfer to GPU seems slow\n",
    "kwargs = {'num_workers': 2, 'pin_memory': True} if args.cuda else {}\n",
    "\n",
    "# torch.manual_seed(args.seed)\n",
    "device = torch.device(\"cuda\" if args.cuda else \"cpu\")\n",
    "device\n",
    "\n",
    "print(args, device, sep='\\n')"
   ]
  },
  {
   "cell_type": "markdown",
   "metadata": {},
   "source": [
    "Fastai default device for computation"
   ]
  },
  {
   "cell_type": "code",
   "execution_count": null,
   "metadata": {},
   "outputs": [],
   "source": [
    "import fastai.torch_core\n",
    "# # device = torch.device('cpu')\n",
    "# # fastai.torch_core.defaults.device = torch.device('cpu')\n",
    "# device = fastai.torch_core.defaults.device\n",
    "# device\n",
    "torch.cuda.is_available()"
   ]
  },
  {
   "cell_type": "code",
   "execution_count": null,
   "metadata": {},
   "outputs": [],
   "source": [
    "fastai.torch_core.defaults"
   ]
  },
  {
   "cell_type": "markdown",
   "metadata": {},
   "source": [
    "## Collaboritive filtering model"
   ]
  },
  {
   "cell_type": "code",
   "execution_count": null,
   "metadata": {},
   "outputs": [],
   "source": [
    "from fastai.collab import CollabDataLoaders, MSELossFlat, Learner\n",
    "\n",
    "analysis.collab = Analysis()\n",
    "collab = analysis.collab\n",
    "collab.columns = 'peptide,Sample ID,intensity'.split(',')"
   ]
  },
  {
   "cell_type": "markdown",
   "metadata": {},
   "source": [
    "Create data view for collaborative filtering\n",
    "\n",
    "- currently a bit hacky as the splitter does not support predefinded indices (create custum subclass providing splits to internal methods?)\n",
    "\n",
    "- Use the [`CollabDataLoaders`](https://docs.fast.ai/collab.html#CollabDataLoaders)  similar to the [`TabularDataLoaders`](https://docs.fast.ai/tabular.data.html#TabularDataLoaders).\n",
    "- Use the [`IndexSplitter`](https://docs.fast.ai/data.transforms.html#IndexSplitter) and provide splits to whatever is used in `CollabDataLoaders`\n"
   ]
  },
  {
   "cell_type": "code",
   "execution_count": null,
   "metadata": {},
   "outputs": [],
   "source": [
    "collab.df_train = analysis.df_train.reset_index()\n",
    "collab.df_valid = analysis.df_valid.reset_index()\n",
    "collab.df_train.head()"
   ]
  },
  {
   "cell_type": "code",
   "execution_count": null,
   "metadata": {},
   "outputs": [],
   "source": [
    "collab.df_valid.head()"
   ]
  },
  {
   "cell_type": "code",
   "execution_count": null,
   "metadata": {},
   "outputs": [],
   "source": [
    "assert (collab.df_train.intensity.isna().sum(),\n",
    "        collab.df_valid.intensity.isna().sum()) == (0, 0), \"Remove missing values.\""
   ]
  },
  {
   "cell_type": "markdown",
   "metadata": {},
   "source": [
    "Hacky part uses training data `Datasets` from dataloaders to recreate a custom `DataLoaders` instance"
   ]
  },
  {
   "cell_type": "code",
   "execution_count": null,
   "metadata": {},
   "outputs": [],
   "source": [
    "collab.dl_train = CollabDataLoaders.from_df(\n",
    "    collab.df_train, valid_pct=0.0, user_name='Sample ID', item_name='peptide', rating_name='intensity', bs=args.batch_size, device=device)\n",
    "collab.dl_valid = CollabDataLoaders.from_df(\n",
    "    collab.df_valid, valid_pct=0.0, user_name='Sample ID', item_name='peptide', rating_name='intensity', bs=args.batch_size, \n",
    "    shuffle=False, device=device)\n",
    "collab.dl_train.show_batch()"
   ]
  },
  {
   "cell_type": "code",
   "execution_count": null,
   "metadata": {},
   "outputs": [],
   "source": [
    "from fastai.data.core import DataLoaders\n",
    "collab.dls = DataLoaders(collab.dl_train.train, collab.dl_valid.train)\n",
    "if args.cuda:\n",
    "    collab.dls.cuda()"
   ]
  },
  {
   "cell_type": "code",
   "execution_count": null,
   "metadata": {},
   "outputs": [],
   "source": [
    "collab.dl_valid.show_batch()"
   ]
  },
  {
   "cell_type": "code",
   "execution_count": null,
   "metadata": {},
   "outputs": [],
   "source": [
    "len(collab.dls.classes['Sample ID']), len(collab.dls.classes['peptide'])"
   ]
  },
  {
   "cell_type": "code",
   "execution_count": null,
   "metadata": {},
   "outputs": [],
   "source": [
    "len(collab.dls.train), len(collab.dls.valid) # mini-batches"
   ]
  },
  {
   "cell_type": "markdown",
   "metadata": {},
   "source": [
    "Alternatively to the hacky version, one could use a factory method, but there the sampling/Splitting methods would need to be implemented (not using [`RandomSplitter`](https://docs.fast.ai/data.transforms.html#RandomSplitter) somehow)\n",
    "\n",
    " - [`TabDataLoader`](https://docs.fast.ai/tabular.core.html#TabDataLoader)\n",
    " - uses [`TabularPandas`](https://docs.fast.ai/tabular.core.html#TabularPandas)\n",
    " \n",
    " > Current problem: No custom splitter can be provided"
   ]
  },
  {
   "cell_type": "code",
   "execution_count": null,
   "metadata": {},
   "outputs": [],
   "source": [
    "# valid_idx = [analysis.df_long.index.get_loc(key=key) for key in analysis.indices_valid]\n",
    "# splitter = IndexSplitter([valid_idx])\n",
    "# splitter(collab.df.index)\n",
    "\n",
    "# # replace in CollabDataloaders for getting splits\n",
    "# # or directly in TabularCollab\n",
    "# CollabDataLoaders??"
   ]
  },
  {
   "cell_type": "code",
   "execution_count": null,
   "metadata": {},
   "outputs": [],
   "source": [
    "# # drop NAs before?\n",
    "#\n",
    "# from fastai.tabular.all import *\n",
    "# from fastai.tabular.data import TabularDataLoaders\n",
    "# collab.dls = TabularDataLoaders.from_df(\n",
    "#     df=analysis.df_long.reset_index(), \n",
    "#     procs=[Categorify],\n",
    "#     valid_idx=valid_idx,\n",
    "#     cat_names=['Sample ID', 'peptide'],\n",
    "#     y_names=['intensity'],\n",
    "#     with_cont=False,\n",
    "#     y_block=TransformBlock(),\n",
    "#     bs=64)\n",
    "# collab.dls.show_batch()\n",
    "# # Problem: this return a second empty df - > would need to adapt model."
   ]
  },
  {
   "cell_type": "markdown",
   "metadata": {},
   "source": [
    "A brief check that the values match roughly"
   ]
  },
  {
   "cell_type": "code",
   "execution_count": null,
   "metadata": {},
   "outputs": [],
   "source": [
    "# from numpy.testing import assert_almost_equal\n",
    "# UPTODECIMAL = 5\n",
    "# assert_almost_equal(\n",
    "#     collab.dls.valid_ds['intensity'].values, \n",
    "#     analysis.df_long.iloc[valid_idx]['intensity'],\n",
    "#     decimal=UPTODECIMAL\n",
    "# )\n",
    "# print(f\"Values match up to the {UPTODECIMAL} decimal.\")"
   ]
  },
  {
   "cell_type": "markdown",
   "metadata": {},
   "source": [
    "### Model"
   ]
  },
  {
   "cell_type": "code",
   "execution_count": null,
   "metadata": {},
   "outputs": [],
   "source": [
    "collab.model_args = {}\n",
    "collab.model_args['n_samples'] = len(collab.dls.classes['Sample ID'])\n",
    "collab.model_args['n_peptides'] = len(collab.dls.classes['peptide'])\n",
    "collab.model_args['dim_latent_factors'] = 20\n",
    "collab.model_args['y_range'] = (\n",
    "    int(analysis.df_train['intensity'].min()), int(analysis.df_train['intensity'].max())+1)\n",
    "\n",
    "print(\"Args:\")\n",
    "pprint(collab.model_args)\n",
    "\n",
    "\n",
    "model = vaep_model.DotProductBias(**collab.model_args)\n",
    "learn = Learner(dls=collab.dls, model=model, loss_func=MSELossFlat())\n",
    "if args.cuda:\n",
    "    learn.cuda()\n",
    "learn.summary()"
   ]
  },
  {
   "cell_type": "markdown",
   "metadata": {},
   "source": [
    "### Training"
   ]
  },
  {
   "cell_type": "code",
   "execution_count": null,
   "metadata": {},
   "outputs": [],
   "source": [
    "learn.fit_one_cycle(5, 5e-3)"
   ]
  },
  {
   "cell_type": "markdown",
   "metadata": {},
   "source": [
    "### Evaluation"
   ]
  },
  {
   "cell_type": "code",
   "execution_count": null,
   "metadata": {},
   "outputs": [],
   "source": [
    "collab.dls.valid_ds.items"
   ]
  },
  {
   "cell_type": "code",
   "execution_count": null,
   "metadata": {},
   "outputs": [],
   "source": [
    "# import pandas as pd\n",
    "# dtype = pd.CategoricalDtype(collab.dls.classes['peptide'], ordered=False)\n",
    "# pd.Categorical.from_codes(codes=collab.dls.valid_ds.items['Sample ID'], dtype=dtype)"
   ]
  },
  {
   "cell_type": "code",
   "execution_count": null,
   "metadata": {},
   "outputs": [],
   "source": [
    "# show False does not return results..\n",
    "res = learn.show_results(show=True)  # something similar with return"
   ]
  },
  {
   "cell_type": "code",
   "execution_count": null,
   "metadata": {},
   "outputs": [],
   "source": [
    "df_pred = collab.df_valid.copy()\n",
    "df_pred['intensity_pred_collab'] = pd.Series(pred.flatten().numpy(), index=collab.dls.valid_ds.items.index)\n",
    "\n",
    "def cast_object_to_category(df):\n",
    "    _dtypes = df.dtypes\n",
    "    _columns = _dtypes[_dtypes == 'object'].index\n",
    "    return df.astype({col: 'category' for col in _columns})\n",
    "\n",
    "df_pred = cast_object_to_category(df_pred)\n",
    "df_pred"
   ]
  },
  {
   "cell_type": "code",
   "execution_count": null,
   "metadata": {},
   "outputs": [],
   "source": [
    "# # Adapt to get prediction Dataframe\n",
    "# encodings, pred, target = learn.get_preds(\n",
    "#     with_input=True)  # per default validation data\n",
    "# pred_df = pd.DataFrame([{'Sample ID': collab.dls.classes['Sample ID'][obs[0]], 'peptide': collab.dls.classes['peptide']\n",
    "#                          [obs[1]], 'intensity_pred_collab': pred_intensity.item(), 'intensity': orig_intensity.item() } for obs, pred_intensity, orig_intensity in zip(encodings, pred, target)])\n",
    "# # pred_df = pred_df.pivot(index='Sample ID', columns='peptide')\n",
    "# pred_df.sort_values(by=['Sample ID', 'peptide'])"
   ]
  },
  {
   "cell_type": "code",
   "execution_count": null,
   "metadata": {},
   "outputs": [],
   "source": [
    "(abs(target - pred)).sum() / len(target)"
   ]
  },
  {
   "cell_type": "markdown",
   "metadata": {},
   "source": [
    "## Denoising Autoencoder (DAE)"
   ]
  },
  {
   "cell_type": "code",
   "execution_count": null,
   "metadata": {},
   "outputs": [],
   "source": [
    "from fastcore.transform import Transform\n",
    "class NormalizeShiftedMean(Transform):\n",
    "    def setups(self, df, shift_mu=0.5, scale_var=2.0):\n",
    "        #settattr()\n",
    "        self.mean, self.std = df.mean(), df.std()\n",
    "        self.shift_mu, self.scale_var = shift_mu, scale_var\n",
    "    def encodes(self, x): \n",
    "        x = (x - self.mean) / self.std \n",
    "        return x / self.scale_var + self.shift_mu\n",
    "    \n",
    "    def decodes(self, x): \n",
    "        x = (x - self.shift_mu) * self.scale_var\n",
    "        return x * self.std + self.mean\n",
    "\n",
    "norm_shifted = NormalizeShiftedMean()\n",
    "norm_shifted.setup(analysis.df)\n",
    "\n",
    "norm_shifted(analysis.df.iloc[:5])"
   ]
  },
  {
   "cell_type": "code",
   "execution_count": null,
   "metadata": {},
   "outputs": [],
   "source": [
    "# revert format\n",
    "analysis.df_train = analysis.df_train['intensity'].unstack()\n",
    "analysis.df_valid = analysis.df_valid['intensity'].unstack()"
   ]
  },
  {
   "cell_type": "code",
   "execution_count": null,
   "metadata": {},
   "outputs": [],
   "source": [
    "from fastai.data.transforms import Normalize\n",
    "norm = Normalize.from_stats(analysis.df.mean(),analysis.df.std())"
   ]
  },
  {
   "cell_type": "code",
   "execution_count": null,
   "metadata": {},
   "outputs": [],
   "source": [
    "from fastai.tabular.all import *"
   ]
  },
  {
   "cell_type": "code",
   "execution_count": null,
   "metadata": {},
   "outputs": [],
   "source": [
    "from fastai.tabular.core import TabularPandas\n",
    "# FillMissing adds mask -> need to adapt network?\n",
    "# https://docs.fast.ai/tabular.core.html#FillStrategy\n",
    "procs = [norm, FillMissing]\n",
    "cont_names = list(set(analysis.df))\n",
    "cat_names=None\n",
    "y_names=None\n",
    "splits=None\n",
    "y_block=None\n",
    "to = TabularPandas(analysis.df_train, procs, cat_names, cont_names, y_names, splits=splits, y_block=y_block)\n",
    "to.items"
   ]
  },
  {
   "cell_type": "code",
   "execution_count": null,
   "metadata": {},
   "outputs": [],
   "source": [
    "assert len(to.valid) == 0"
   ]
  },
  {
   "cell_type": "code",
   "execution_count": null,
   "metadata": {},
   "outputs": [],
   "source": [
    "\n",
    "# class MaskData(Callback):\n",
    "def after_batch(batch):\n",
    "    return (batch, batch)\n",
    "#         x_cat, x_cont, y = self.batch\n",
    "#         # first needs to be masked somehow\n",
    "#         self.learner.batch = x_cont, x_cont"
   ]
  },
  {
   "cell_type": "code",
   "execution_count": null,
   "metadata": {},
   "outputs": [],
   "source": [
    "args.batch_size\n",
    "dls = to.dataloaders(shuffle_train=True, shuffle=False, bs=args.batch_size, after_batch=after_batch)\n",
    "xb = dls.train.one_batch()\n",
    "len(xb)"
   ]
  },
  {
   "cell_type": "code",
   "execution_count": null,
   "metadata": {},
   "outputs": [],
   "source": [
    "# xb[0] # now there are imputed values and a mask"
   ]
  },
  {
   "cell_type": "code",
   "execution_count": null,
   "metadata": {},
   "outputs": [],
   "source": [
    "# from vaep.transform import ShiftedStandardScaler\n",
    "\n",
    "# args_ae = {}\n",
    "# args_ae['SCALER'] = StandardScaler\n",
    "# args_ae['SCALER'] = ShiftedStandardScaler\n",
    "\n",
    "# # select initial data: transformed vs not log transformed\n",
    "# scaler = args_ae['SCALER'](scale_var=2).fit(analysis.df_train)\n",
    "# # five examples from validation dataset\n",
    "# scaler.transform(analysis.df_train).describe(percentiles=[0.025, 0.975])"
   ]
  },
  {
   "cell_type": "code",
   "execution_count": null,
   "metadata": {},
   "outputs": [],
   "source": []
  },
  {
   "cell_type": "code",
   "execution_count": null,
   "metadata": {},
   "outputs": [],
   "source": [
    "# from torchvision import transforms\n",
    "# from torch.utils.data import DataLoader\n",
    "# from vaep.io.datasets import PeptideDatasetInMemoryMasked\n",
    "\n",
    "# # ToDo: replace with helper class (see below)\n",
    "# tf_norm = None  # replace with Normalizer\n",
    "\n",
    "# dataset_train = PeptideDatasetInMemoryMasked(\n",
    "#     data=scaler.transform(analysis.df_train.values))\n",
    "# dataset_valid = PeptideDatasetInMemoryMasked(\n",
    "#     data=scaler.transform(analysis.df_valid.values))\n",
    "# dl_train = DataLoader(dataset_train, batch_size=args.batch_size, shuffle=True)\n",
    "# dl_valid = DataLoader(dataset_valid, batch_size=args.batch_size, shuffle=False)"
   ]
  },
  {
   "cell_type": "code",
   "execution_count": null,
   "metadata": {},
   "outputs": [],
   "source": [
    "M = analysis.df_train.shape[-1]\n",
    "model = vaep_model.Autoencoder(n_features=M, n_neurons=int(\n",
    "    M/2), last_decoder_activation=None, dim_latent=30).double()\n",
    "criterion = torch.nn.MSELoss(reduction='sum')\n",
    "\n",
    "learning_rate = 1e-2\n",
    "\n",
    "optimizer = torch.optim.Adam(\n",
    "    model.parameters(),\n",
    "    lr=learning_rate,\n",
    ")"
   ]
  },
  {
   "cell_type": "code",
   "execution_count": null,
   "metadata": {},
   "outputs": [],
   "source": [
    "xb = learn.dls.train.one_batch()[:learn.dls.train.n_inp]\n",
    "type(xb)"
   ]
  },
  {
   "cell_type": "code",
   "execution_count": null,
   "metadata": {},
   "outputs": [],
   "source": [
    "# valid_idx = [analysis.df_long.index.get_loc(key=key) for key in analysis.indices_valid]\n",
    "# splitter = IndexSplitter([valid_idx])\n",
    "learn = Learner(dls=dls, model=model, loss_func=vaep_model.loss_function)\n",
    "learn.summary()"
   ]
  },
  {
   "cell_type": "code",
   "execution_count": null,
   "metadata": {},
   "outputs": [],
   "source": [
    "learn.fit_one_cycle(5, 5e-3)"
   ]
  },
  {
   "cell_type": "markdown",
   "metadata": {},
   "source": [
    "## Variational Autoencoder (VAE)"
   ]
  },
  {
   "cell_type": "code",
   "execution_count": null,
   "metadata": {},
   "outputs": [],
   "source": []
  },
  {
   "cell_type": "markdown",
   "metadata": {},
   "source": [
    "Save final prediction values with comparison."
   ]
  },
  {
   "cell_type": "code",
   "execution_count": null,
   "metadata": {},
   "outputs": [],
   "source": [
    "pred_df.to_csv(config.FOLDER_DATA / f\"{config.FOLDER_DATA}_valid_pred\")"
   ]
  }
 ],
 "metadata": {
  "kernelspec": {
   "display_name": "vaep",
   "language": "python",
   "name": "vaep"
  },
  "language_info": {
   "codemirror_mode": {
    "name": "ipython",
    "version": 3
   },
   "file_extension": ".py",
   "mimetype": "text/x-python",
   "name": "python",
   "nbconvert_exporter": "python",
   "pygments_lexer": "ipython3",
   "version": "3.8.5"
  }
 },
 "nbformat": 4,
 "nbformat_minor": 4
}
