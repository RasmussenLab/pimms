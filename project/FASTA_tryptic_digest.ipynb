{
 "cells": [
  {
   "cell_type": "markdown",
   "metadata": {},
   "source": [
    "# Process FASTA files\n",
    "- create theoretically considered peptides considere by search engines\n",
    "- dump results\n",
    "\n",
    "> Based on notebook received by [Annelaura Bach](https://www.cpr.ku.dk/staff/mann-group/?pure=en/persons/443836) and created by Johannes B. Müller \\[[scholar](https://scholar.google.com/citations?user=Rn1OS8oAAAAJ&hl=de), [MPI Biochemistry](https://www.biochem.mpg.de/person/93696/2253)\\]"
   ]
  },
  {
   "cell_type": "code",
   "execution_count": 1,
   "metadata": {},
   "outputs": [],
   "source": [
    "import json\n",
    "import logging\n",
    "import os\n",
    "\n",
    "import matplotlib.pyplot as plt\n",
    "import pandas as pd\n",
    "from tqdm.notebook import tqdm"
   ]
  },
  {
   "cell_type": "code",
   "execution_count": 2,
   "metadata": {},
   "outputs": [],
   "source": [
    "from vaep.fasta import cleave_to_tryptic"
   ]
  },
  {
   "cell_type": "markdown",
   "metadata": {},
   "source": [
    "## Core Functionality - Example\n",
    "\n",
    "- write tests for core functinality\n",
    "- refactor to file"
   ]
  },
  {
   "cell_type": "code",
   "execution_count": 3,
   "metadata": {},
   "outputs": [],
   "source": [
    "test_data = {\n",
    "    \"meta\": \">tr|A0A024R1R8|A0A024R1R8_HUMAN HCG2014768, isoform CRA_a OS=Homo sapiens OX=9606 GN=hCG_2014768 PE=4 SV=1\",\n",
    "    \"seq\": \"MSSHEGGKKKALKQPKKQAKEMDEEEKAFKQKQKEEQKKLEVLKAKVVGKGPLATGGIKKSGKK\",\n",
    "    \"peptides\": [\"MSSHEGGK\", \"EMDEEEK\", \"GPLATGGIK\"],\n",
    "}"
   ]
  },
  {
   "cell_type": "markdown",
   "metadata": {},
   "source": [
    "regex is slower than native string replacing and splitting in Python"
   ]
  },
  {
   "cell_type": "code",
   "execution_count": 4,
   "metadata": {},
   "outputs": [],
   "source": [
    "# import re\n",
    "# cut_by_trypsin = re.compile('([^K]+K)|([^R]+R)')\n",
    "# _res = cut_by_trypsin.split(test_data['seq'])\n",
    "# [_pep for _pep in _res if _pep != '' and _pep != None]"
   ]
  },
  {
   "cell_type": "markdown",
   "metadata": {},
   "source": [
    "\n",
    "- map peptide set of peptides (how to deal with mis-cleavages?)\n",
    "    - mis-cleavages can happen both to the peptide before and after.\n",
    "    > `pep1, pep2, pep3, pep4, pep5`  \n",
    "    > `pep1pep2, pep2pep3, pep3pep4, pep4pep5`\n",
    "    - sliding windows can pass trough the list of peptides - should work with recursion"
   ]
  },
  {
   "cell_type": "code",
   "execution_count": 5,
   "metadata": {},
   "outputs": [
    {
     "data": {
      "text/plain": [
       "['MSSHEGGK',\n",
       " 'K',\n",
       " 'K',\n",
       " 'ALK',\n",
       " 'QPK',\n",
       " 'K',\n",
       " 'QAK',\n",
       " 'EMDEEEK',\n",
       " 'AFK',\n",
       " 'QK',\n",
       " 'QK',\n",
       " 'EEQK',\n",
       " 'K',\n",
       " 'LEVLK',\n",
       " 'AK',\n",
       " 'VVGK',\n",
       " 'GPLATGGIK',\n",
       " 'K',\n",
       " 'SGK',\n",
       " 'K']"
      ]
     },
     "execution_count": 5,
     "metadata": {},
     "output_type": "execute_result"
    }
   ],
   "source": [
    "l_peptides = test_data[\"seq\"].replace(\"K\", \"K \").replace(\"R\", \"R \").split()\n",
    "l_peptides"
   ]
  },
  {
   "cell_type": "markdown",
   "metadata": {},
   "source": [
    "`add_rxk` should add pattern of starting R and trailing K ?  "
   ]
  },
  {
   "cell_type": "code",
   "execution_count": 6,
   "metadata": {},
   "outputs": [
    {
     "name": "stdout",
     "output_type": "stream",
     "text": [
      "KKALK\n",
      "KALKQPK\n",
      "KQAKEMDEEEK\n",
      "QKQKEEQK\n",
      "QKEEQKK\n",
      "KLEVLKAK\n",
      "AKVVGKGPLATGGIK\n",
      "KSGKK\n"
     ]
    },
    {
     "data": {
      "text/plain": [
       "['MSSHEGGKK',\n",
       " 'KK',\n",
       " 'KALK',\n",
       " 'KKALK',\n",
       " 'ALKQPK',\n",
       " 'KALKQPK',\n",
       " 'QPKK',\n",
       " 'KQAK',\n",
       " 'QAKEMDEEEK',\n",
       " 'KQAKEMDEEEK',\n",
       " 'EMDEEEKAFK',\n",
       " 'AFKQK',\n",
       " 'QKQK',\n",
       " 'QKEEQK',\n",
       " 'QKQKEEQK',\n",
       " 'EEQKK',\n",
       " 'QKEEQKK',\n",
       " 'KLEVLK',\n",
       " 'LEVLKAK',\n",
       " 'KLEVLKAK',\n",
       " 'AKVVGK',\n",
       " 'VVGKGPLATGGIK',\n",
       " 'AKVVGKGPLATGGIK',\n",
       " 'GPLATGGIKK',\n",
       " 'KSGK',\n",
       " 'SGKK',\n",
       " 'KSGKK']"
      ]
     },
     "execution_count": 6,
     "metadata": {},
     "output_type": "execute_result"
    }
   ],
   "source": [
    "last_pep = \"\"\n",
    "temp_peps = []\n",
    "num_missed_cleavages = 1\n",
    "add_rxk = True\n",
    "\n",
    "sec_last_pep = \"\"\n",
    "\n",
    "pep_rdx = []\n",
    "\n",
    "for pep in l_peptides:\n",
    "    if last_pep != \"\":\n",
    "        temp_peps.append(last_pep + pep)\n",
    "    if add_rxk and sec_last_pep != \"\" and len(sec_last_pep) <= 2:\n",
    "        _pep_rxk = sec_last_pep + last_pep + pep\n",
    "        print(_pep_rxk)\n",
    "        pep_rdx.append(_pep_rxk)\n",
    "        temp_peps.append(_pep_rxk)\n",
    "\n",
    "    sec_last_pep = last_pep  # sec_last_pep, last_pep = last_pep, pep ?\n",
    "    last_pep = pep\n",
    "temp_peps"
   ]
  },
  {
   "cell_type": "code",
   "execution_count": 7,
   "metadata": {},
   "outputs": [
    {
     "data": {
      "text/plain": [
       "\"['KKALK', 'KALKQPK', 'KQAKEMDEEEK', 'QKQKEEQK', 'QKEEQKK', 'KLEVLKAK', 'AKVVGKGPLATGGIK', 'KSGKK']\""
      ]
     },
     "execution_count": 7,
     "metadata": {},
     "output_type": "execute_result"
    }
   ],
   "source": [
    "repr(pep_rdx)"
   ]
  },
  {
   "cell_type": "markdown",
   "metadata": {},
   "source": [
    "Missed cleavages core functionality (adapted)"
   ]
  },
  {
   "cell_type": "code",
   "execution_count": 8,
   "metadata": {},
   "outputs": [
    {
     "name": "stdout",
     "output_type": "stream",
     "text": [
      "number of peptides:  [20, 19, 18]\n"
     ]
    },
    {
     "data": {
      "text/plain": [
       "['MSSHEGGKKK',\n",
       " 'KKALK',\n",
       " 'KALKQPK',\n",
       " 'ALKQPKK',\n",
       " 'QPKKQAK',\n",
       " 'KQAKEMDEEEK',\n",
       " 'QAKEMDEEEKAFK',\n",
       " 'EMDEEEKAFKQK',\n",
       " 'AFKQKQK',\n",
       " 'QKQKEEQK',\n",
       " 'QKEEQKK',\n",
       " 'EEQKKLEVLK',\n",
       " 'KLEVLKAK',\n",
       " 'LEVLKAKVVGK',\n",
       " 'AKVVGKGPLATGGIK',\n",
       " 'VVGKGPLATGGIKK',\n",
       " 'GPLATGGIKKSGK',\n",
       " 'KSGKK']"
      ]
     },
     "execution_count": 8,
     "metadata": {},
     "output_type": "execute_result"
    }
   ],
   "source": [
    "example_peptides_fasta = cleave_to_tryptic(\n",
    "    test_data[\"seq\"], num_missed_cleavages=2, add_rxk=True\n",
    ")\n",
    "print(\"number of peptides: \", [len(_l) for _l in example_peptides_fasta])\n",
    "example_peptides_fasta[-1]"
   ]
  },
  {
   "cell_type": "code",
   "execution_count": 9,
   "metadata": {},
   "outputs": [
    {
     "name": "stdout",
     "output_type": "stream",
     "text": [
      "MSSHEGGKKKALKQPKKQAKEMDEEEKAFKQKQKEEQKKLEVLKAKVVGKGPLATGGIKKSGKK\n",
      "['MSSHEGGK', 'K', 'K', 'ALK', 'QPK', 'K', 'QAK', 'EMDEEEK', 'AFK', 'QK', 'QK', 'EEQK', 'K', 'LEVLK', 'AK', 'VVGK', 'GPLATGGIK', 'K', 'SGK', 'K']\n",
      "['MSSHEGGKK', 'KK', 'KALK', 'ALKQPK', 'QPKK', 'KQAK', 'QAKEMDEEEK', 'EMDEEEKAFK', 'AFKQK', 'QKQK', 'QKEEQK', 'EEQKK', 'KLEVLK', 'LEVLKAK', 'AKVVGK', 'VVGKGPLATGGIK', 'GPLATGGIKK', 'KSGK', 'SGKK']\n",
      "['MSSHEGGKKK', 'KKALK', 'KALKQPK', 'ALKQPKK', 'QPKKQAK', 'KQAKEMDEEEK', 'QAKEMDEEEKAFK', 'EMDEEEKAFKQK', 'AFKQKQK', 'QKQKEEQK', 'QKEEQKK', 'EEQKKLEVLK', 'KLEVLKAK', 'LEVLKAKVVGK', 'AKVVGKGPLATGGIK', 'VVGKGPLATGGIKK', 'GPLATGGIKKSGK', 'KSGKK']\n"
     ]
    }
   ],
   "source": [
    "print(\"\".join(example_peptides_fasta[0]), *example_peptides_fasta, sep=\"\\n\")"
   ]
  },
  {
   "cell_type": "markdown",
   "metadata": {},
   "source": [
    "rdx peptides are a subset of two missed cleavage sites peptides. There are omitted when two and more cleavage site can be skipped."
   ]
  },
  {
   "cell_type": "code",
   "execution_count": 10,
   "metadata": {},
   "outputs": [
    {
     "name": "stdout",
     "output_type": "stream",
     "text": [
      "number of peptides:  [20, 19, 8]\n"
     ]
    },
    {
     "data": {
      "text/plain": [
       "['KKALK',\n",
       " 'KALKQPK',\n",
       " 'KQAKEMDEEEK',\n",
       " 'QKQKEEQK',\n",
       " 'QKEEQKK',\n",
       " 'KLEVLKAK',\n",
       " 'AKVVGKGPLATGGIK',\n",
       " 'KSGKK']"
      ]
     },
     "execution_count": 10,
     "metadata": {},
     "output_type": "execute_result"
    }
   ],
   "source": [
    "example_peptides_fasta = cleave_to_tryptic(\n",
    "    test_data[\"seq\"], num_missed_cleavages=1, add_rxk=True\n",
    ")\n",
    "print(\"number of peptides: \", [len(_l) for _l in example_peptides_fasta])\n",
    "example_peptides_fasta[-1]"
   ]
  },
  {
   "cell_type": "markdown",
   "metadata": {},
   "source": [
    "Data Structure is no a list of list. Maybe this could be improved. Information what kind of type the peptide is from, is still interesting."
   ]
  },
  {
   "cell_type": "markdown",
   "metadata": {},
   "source": [
    "### Original Code\n",
    "\n",
    "now adapted in `vaep.fasta.py`"
   ]
  },
  {
   "cell_type": "code",
   "execution_count": 11,
   "metadata": {},
   "outputs": [],
   "source": [
    "# def cleave_to_tryptic(seq=\"\", num_missed_cleavages=1, reversed=False):\n",
    "# #    Takes a sequence and returns an array of peptides cleaved C-term to R  and K\n",
    "# #    number of missed cleavages can be 0 or 1\n",
    "# #    works with single letter sequences\n",
    "# #    :param seq:\n",
    "# #    num_missed_cleavges,\n",
    "# #    reversed: boolean flag. If true, append the reversed peptide spequences as well\n",
    "# #    :return: list of strings\n",
    "#     if  0 < num_missed_cleavages > 2:\n",
    "#         raise NotImplementedError(\"`num_missed_cleavages` of missed cleavages can be 0 or 1\")\n",
    "#     if seq == \"\":\n",
    "#         return\n",
    "#     add_rxk = True  # flag for adding bonus peptides at patterns like KXR, which trypsin doesn't cleave efficiently\n",
    "\n",
    "#     seq.replace(' ', '')  # sequence must not contain whitespaces todo: all whitespaces\n",
    "#     seq = seq.upper()\n",
    "#     seq = seq.replace('K', 'K ').replace('R', 'R ')  # introduce a white space so we can split there\n",
    "#     pep_seqs = seq.split()\n",
    "\n",
    "#     last_pep = \"\"\n",
    "#     temp_peps = []\n",
    "#     if num_missed_cleavages == 0 and add_rxk:\n",
    "#         for pep in pep_seqs:\n",
    "#             if 0 < len(last_pep) <= 2:\n",
    "#                 temp_peps.append(last_pep+pep)\n",
    "#             last_pep = pep\n",
    "#         pep_seqs += temp_peps\n",
    "\n",
    "#     sec_last_pep = \"\"\n",
    "\n",
    "\n",
    "#     if num_missed_cleavages == 1:  # add joined peptides\n",
    "#         for pep in pep_seqs:\n",
    "#             if last_pep != \"\":\n",
    "#                 temp_peps.append(last_pep + pep)\n",
    "#             if add_rxk and sec_last_pep != \"\" and len(sec_last_pep) <= 2:\n",
    "#                 temp_peps.append(sec_last_pep + last_pep + pep)\n",
    "#             sec_last_pep = last_pep  # sec_last_pep, last_pep = last_pep, pep ?\n",
    "#             last_pep = pep\n",
    "#         pep_seqs += temp_peps\n",
    "#     # # if num_missed_cleavages == 2: todo: implement two missed cleavages\n",
    "#     # # add recursion to build peptides iteratively while iterating through peptide sequences\n",
    "\n",
    "\n",
    "#     if reversed:\n",
    "#         reversed_seqs = []\n",
    "#         for pep in pep_seqs:\n",
    "#             if str(pep).endswith('K'):  # change this to change the MW of the peptide\n",
    "#                 pep = pep[0:-1] + 'r'\n",
    "#             elif str(pep).endswith('R'):\n",
    "#                 pep = pep[0:-1] + 'k'\n",
    "#             rev_pep = pep[::-1]\n",
    "#             reversed_seqs.append(rev_pep)\n",
    "\n",
    "#         pep_seqs += reversed_seqs\n",
    "\n",
    "#     return pep_seqs"
   ]
  },
  {
   "cell_type": "markdown",
   "metadata": {},
   "source": [
    "Header is used to distinguish new entries in fasta files:"
   ]
  },
  {
   "cell_type": "code",
   "execution_count": 12,
   "metadata": {},
   "outputs": [],
   "source": [
    "# # #ToDo: Check if file-reader\n",
    "# def read_fasta(fp):\n",
    "#     \"\"\"Read a fasta file and yield continously header and sequences.\"\"\"\n",
    "#     header, seq = None, []\n",
    "#     for line in fp:\n",
    "#         line = line.rstrip()\n",
    "#         if line.startswith(\">\"):\n",
    "#             if header: yield (header, ''.join(seq))\n",
    "#             header, seq = line, []\n",
    "#         else:\n",
    "#             seq.append(line)\n",
    "#     if header: yield (header, ''.join(seq))"
   ]
  },
  {
   "cell_type": "markdown",
   "metadata": {},
   "source": [
    "Flattens a list of list using generators:"
   ]
  },
  {
   "cell_type": "code",
   "execution_count": 13,
   "metadata": {},
   "outputs": [],
   "source": [
    "# def iterFlatten(root):\n",
    "#     \"\"\"Flatten a nested structure.\"\"\"\n",
    "#     if isinstance(root, (list, tuple)):\n",
    "#         for element in root:\n",
    "#             for e in iterFlatten(element):\n",
    "#                 yield e\n",
    "#     else:\n",
    "#         yield root"
   ]
  },
  {
   "cell_type": "markdown",
   "metadata": {},
   "source": [
    "## Process Fasta Files\n",
    "\n",
    "First define input Folder and the file location of the created peptides:"
   ]
  },
  {
   "cell_type": "code",
   "execution_count": 14,
   "metadata": {},
   "outputs": [
    {
     "name": "stdout",
     "output_type": "stream",
     "text": [
      "data\\fasta\\UP000005640_9606.fasta\n",
      "data\\fasta\\UP000005640_9606_additional.fasta\n"
     ]
    }
   ],
   "source": [
    "from src.file_utils import search_files\n",
    "\n",
    "fasta_files = search_files(path=\".\", query=\".fasta\")\n",
    "print(\"\\n\".join(fasta_files.files))"
   ]
  },
  {
   "cell_type": "markdown",
   "metadata": {},
   "source": [
    "### Define Setup\n",
    "\n",
    "Set input FASTA, Output .txt name, lower legth cutoff, missed cleavages and if to report reverse. \n",
    "\n",
    "Tryptic digest of Fastas to Peptides >6 in list for matching with measured peptides  "
   ]
  },
  {
   "cell_type": "code",
   "execution_count": 15,
   "metadata": {},
   "outputs": [
    {
     "name": "stdout",
     "output_type": "stream",
     "text": [
      "The theoretical analysis of the fasta files gives an idea about how many possible peptides \n",
      "can be expected by cleaving proteins by peptides. The hyperparameters for peptide creation are \n",
      "to consider the minimal peptide length to be 7 amino acids, \n",
      "to consider a maximum of 2 missed cleavage sites (default in MaxQuant) and \n",
      "to not add decoy peptides by reversing peptide sequences. \n",
      "\n"
     ]
    }
   ],
   "source": [
    "CUTOFF_LEN_PEP = 7\n",
    "MAX_MISSED_CLEAVAGES = 2  # default in MaxQuant\n",
    "DECOY_REVERSE = False\n",
    "SUMMARY_FILE = \"tex/fasta_tryptic_analysis.tex\"\n",
    "\n",
    "_summary_text = (\n",
    "    \"The theoretical analysis of the fasta files gives an idea about how many possible peptides \\n\"\n",
    "    \"can be expected by cleaving proteins by peptides. The hyperparameters for peptide creation are \\n\"\n",
    "    f\"to consider the minimal peptide length to be {CUTOFF_LEN_PEP} amino acids, \\n\"\n",
    "    f\"to consider a maximum of {MAX_MISSED_CLEAVAGES} missed cleavage sites (default in MaxQuant) and \\n\"\n",
    "    f\"to {'not ' if not DECOY_REVERSE else ''}add decoy peptides by reversing peptide sequences. \\n\"\n",
    ")\n",
    "print(_summary_text, sep=\"\\n\")"
   ]
  },
  {
   "cell_type": "markdown",
   "metadata": {},
   "source": [
    "From the [Fasta Meta information](https://ebi14.uniprot.org/help/fasta-headers) the Identifier is extracted.\n",
    "\n",
    "```\n",
    ">db|UniqueIdentifier|EntryName ProteinName OS=OrganismName OX=OrganismIdentifier [GN=GeneName ]PE=ProteinExistence SV=SequenceVersion\n",
    "```\n",
    "- db is `sp` for UniProtKB/Swiss-Prot and `tr` for UniProtKB/TrEMBL.\n",
    "- `UniqueIdentifier` is the primary *accession number* of the UniProtKB entry. (seems to be used by MQ)\n",
    "- `EntryName` is the entry name of the UniProtKB entry.\n",
    "- `ProteinName` is the recommended name of the UniProtKB entry as annotated in the *RecName* field. For UniProtKB/TrEMBL entries without a *RecName* field, the *SubName* field is used. In case of multiple SubNames, the first one is used. The 'precursor' attribute is excluded, 'Fragment' is included with the name if applicable."
   ]
  },
  {
   "cell_type": "markdown",
   "metadata": {},
   "source": [
    "`>tr` or `>sp`"
   ]
  },
  {
   "cell_type": "code",
   "execution_count": 16,
   "metadata": {},
   "outputs": [
    {
     "data": {
      "application/vnd.jupyter.widget-view+json": {
       "model_id": "0aa0b90b8b564827a55cffc6b85bf7f4",
       "version_major": 2,
       "version_minor": 0
      },
      "text/plain": [
       "HBox(children=(FloatProgress(value=0.0, max=2.0), HTML(value='')))"
      ]
     },
     "metadata": {},
     "output_type": "display_data"
    },
    {
     "data": {
      "application/vnd.jupyter.widget-view+json": {
       "model_id": "3c5fba8c43774be5b01b9c80bc4eb93c",
       "version_major": 2,
       "version_minor": 0
      },
      "text/plain": [
       "HBox(children=(FloatProgress(value=1.0, bar_style='info', layout=Layout(width='20px'), max=1.0), HTML(value=''…"
      ]
     },
     "metadata": {},
     "output_type": "display_data"
    },
    {
     "name": "stdout",
     "output_type": "stream",
     "text": [
      "\n"
     ]
    },
    {
     "data": {
      "application/vnd.jupyter.widget-view+json": {
       "model_id": "cf4374a7378a4ebf965ad9ca5e0fb428",
       "version_major": 2,
       "version_minor": 0
      },
      "text/plain": [
       "HBox(children=(FloatProgress(value=1.0, bar_style='info', layout=Layout(width='20px'), max=1.0), HTML(value=''…"
      ]
     },
     "metadata": {},
     "output_type": "display_data"
    },
    {
     "name": "stdout",
     "output_type": "stream",
     "text": [
      "\n",
      "\n"
     ]
    }
   ],
   "source": [
    "from vaep.fasta import read_fasta\n",
    "\n",
    "data_fasta = {}\n",
    "\n",
    "for _fasta in tqdm(fasta_files.files):\n",
    "\n",
    "    with open(_fasta) as fp:\n",
    "        for i, (metainfo, seq) in tqdm(enumerate(read_fasta(fp))):\n",
    "            identifier = metainfo.split(\"|\")[1]\n",
    "            if identifier in data_fasta:\n",
    "                raise ValueError(\"Key seen before: {}\".format(identifier))\n",
    "            _all_peptides = cleave_to_tryptic(\n",
    "                seq, num_missed_cleavages=MAX_MISSED_CLEAVAGES, reversed=DECOY_REVERSE\n",
    "            )\n",
    "            data_fasta[identifier] = {\n",
    "                \"meta\": metainfo,\n",
    "                \"seq\": seq,\n",
    "                \"peptides\": [\n",
    "                    [_pep for _pep in _peptides if len(_pep) >= CUTOFF_LEN_PEP]\n",
    "                    for _peptides in _all_peptides\n",
    "                ],\n",
    "            }"
   ]
  },
  {
   "cell_type": "markdown",
   "metadata": {},
   "source": [
    "`fasta_data` holds all information to pick a subset of peptides from peptides intensity tables"
   ]
  },
  {
   "cell_type": "code",
   "execution_count": 17,
   "metadata": {},
   "outputs": [
    {
     "data": {
      "text/plain": [
       "{'meta': '>tr|A0A024R1R8|A0A024R1R8_HUMAN HCG2014768, isoform CRA_a OS=Homo sapiens OX=9606 GN=hCG_2014768 PE=4 SV=1',\n",
       " 'seq': 'MSSHEGGKKKALKQPKKQAKEMDEEEKAFKQKQKEEQKKLEVLKAKVVGKGPLATGGIKKSGKK',\n",
       " 'peptides': [['MSSHEGGK', 'EMDEEEK', 'GPLATGGIK'],\n",
       "  ['MSSHEGGKK',\n",
       "   'QAKEMDEEEK',\n",
       "   'EMDEEEKAFK',\n",
       "   'LEVLKAK',\n",
       "   'VVGKGPLATGGIK',\n",
       "   'GPLATGGIKK'],\n",
       "  ['MSSHEGGKKK',\n",
       "   'KALKQPK',\n",
       "   'ALKQPKK',\n",
       "   'QPKKQAK',\n",
       "   'KQAKEMDEEEK',\n",
       "   'QAKEMDEEEKAFK',\n",
       "   'EMDEEEKAFKQK',\n",
       "   'AFKQKQK',\n",
       "   'QKQKEEQK',\n",
       "   'QKEEQKK',\n",
       "   'EEQKKLEVLK',\n",
       "   'KLEVLKAK',\n",
       "   'LEVLKAKVVGK',\n",
       "   'AKVVGKGPLATGGIK',\n",
       "   'VVGKGPLATGGIKK',\n",
       "   'GPLATGGIKKSGK']]}"
      ]
     },
     "execution_count": 17,
     "metadata": {},
     "output_type": "execute_result"
    }
   ],
   "source": [
    "# from random import sample\n",
    "# sample_ids = sample(list(data_fasta), 10)\n",
    "# for _id in sample_ids:\n",
    "#     print(\"Unique Identifier: {}: \\n\\t AA-Seq: {} \\n\\t Header: {} \\n\\t Peptides: {}\\n\".format(_id, data_fasta[_id]['seq'], data_fasta[_id]['meta'], data_fasta[_id]['peptides']))\n",
    "data_fasta[\"A0A024R1R8\"]"
   ]
  },
  {
   "cell_type": "markdown",
   "metadata": {},
   "source": [
    "### Proteins' Isoforms"
   ]
  },
  {
   "cell_type": "markdown",
   "metadata": {},
   "source": [
    "Possible to join \"isoforms\" by joining all variants to one. Isoforms are numbered from the second on by appending `-i` for $i>1$, i.e. starting with `-2`. The gene name of which the protein (isoform) originate can be obtained by using [id mapping](https://www.uniprot.org/help/api_idmapping). Isoforms are not mapped automatically by Uniprot to its GENENAME, i.e. you have to strip all `-i`, e.g `-2`, `-3`, for querying. Here the protein, gene pairs are mapped to the unique protein identifiers."
   ]
  },
  {
   "cell_type": "code",
   "execution_count": 18,
   "metadata": {},
   "outputs": [
    {
     "data": {
      "text/plain": [
       "0        A0A024R1R8\n",
       "1        A0A024RBG1\n",
       "2        A0A075B6H5\n",
       "3        A0A075B6H7\n",
       "4        A0A075B6H8\n",
       "            ...    \n",
       "96413        U3KQU4\n",
       "96414        V9GXZ4\n",
       "96415        V9GYD0\n",
       "96416        V9GYS4\n",
       "96417        V9GZ69\n",
       "Length: 96418, dtype: object"
      ]
     },
     "execution_count": 18,
     "metadata": {},
     "output_type": "execute_result"
    }
   ],
   "source": [
    "prot_ids = list(data_fasta.keys())\n",
    "prot_ids = pd.Series(prot_ids)\n",
    "prot_ids"
   ]
  },
  {
   "cell_type": "code",
   "execution_count": 19,
   "metadata": {},
   "outputs": [
    {
     "data": {
      "text/plain": [
       "23363    A0A096LP49-2\n",
       "24288    A0A0B4J2D5-2\n",
       "26264    A0A0K2S4Q6-2\n",
       "26652    A0A140G945-2\n",
       "27673    A0A1B0GVQ0-2\n",
       "             ...     \n",
       "94596        Q9Y6Y9-2\n",
       "94597        Q9Y6Z4-2\n",
       "94598        Q9Y6Z5-2\n",
       "95829        W5XKT8-2\n",
       "95830        W5XKT8-3\n",
       "Length: 22002, dtype: object"
      ]
     },
     "execution_count": 19,
     "metadata": {},
     "output_type": "execute_result"
    }
   ],
   "source": [
    "mask = prot_ids.str.contains(\"-\")\n",
    "isoforms = prot_ids.copy().loc[mask]\n",
    "isoforms"
   ]
  },
  {
   "cell_type": "code",
   "execution_count": 20,
   "metadata": {},
   "outputs": [],
   "source": [
    "N_prot_with_isoform = isoforms.str.split(\"-\").str[0].nunique()"
   ]
  },
  {
   "cell_type": "code",
   "execution_count": 21,
   "metadata": {},
   "outputs": [
    {
     "name": "stdout",
     "output_type": "stream",
     "text": [
      "The theoretical analysis of the fasta files gives an idea about how many possible peptides \n",
      "can be expected by cleaving proteins by peptides. The hyperparameters for peptide creation are \n",
      "to consider the minimal peptide length to be 7 amino acids, \n",
      "to consider a maximum of 2 missed cleavage sites (default in MaxQuant) and \n",
      "to not add decoy peptides by reversing peptide sequences. \n",
      "\n",
      "A total of 10534 proteins have at least one more isoform. Collapsing isoforms into one protein results in 74416 proteins.\n"
     ]
    }
   ],
   "source": [
    "n_unique_proteins_wo_isoforms = len(prot_ids) - len(isoforms)\n",
    "_summary_text += \"\\nA total of {} proteins have at least one more isoform. \".format(\n",
    "    N_prot_with_isoform\n",
    ")\n",
    "_summary_text += f\"Collapsing isoforms into one protein results in {n_unique_proteins_wo_isoforms} proteins.\"\n",
    "print(_summary_text)"
   ]
  },
  {
   "cell_type": "markdown",
   "metadata": {},
   "source": [
    "Remove Isoforms from list. How to integrate this information before?\n",
    "\n",
    "fasta-data has to be merge one-to-many."
   ]
  },
  {
   "cell_type": "code",
   "execution_count": 22,
   "metadata": {},
   "outputs": [
    {
     "data": {
      "text/html": [
       "<div>\n",
       "<style scoped>\n",
       "    .dataframe tbody tr th:only-of-type {\n",
       "        vertical-align: middle;\n",
       "    }\n",
       "\n",
       "    .dataframe tbody tr th {\n",
       "        vertical-align: top;\n",
       "    }\n",
       "\n",
       "    .dataframe thead th {\n",
       "        text-align: right;\n",
       "    }\n",
       "</style>\n",
       "<table border=\"1\" class=\"dataframe\">\n",
       "  <thead>\n",
       "    <tr style=\"text-align: right;\">\n",
       "      <th></th>\n",
       "      <th>protein</th>\n",
       "    </tr>\n",
       "    <tr>\n",
       "      <th>prot_id</th>\n",
       "      <th></th>\n",
       "    </tr>\n",
       "  </thead>\n",
       "  <tbody>\n",
       "    <tr>\n",
       "      <th>A0A024R1R8</th>\n",
       "      <td>A0A024R1R8</td>\n",
       "    </tr>\n",
       "    <tr>\n",
       "      <th>A0A024RBG1</th>\n",
       "      <td>A0A024RBG1</td>\n",
       "    </tr>\n",
       "    <tr>\n",
       "      <th>A0A075B6H5</th>\n",
       "      <td>A0A075B6H5</td>\n",
       "    </tr>\n",
       "    <tr>\n",
       "      <th>A0A075B6H7</th>\n",
       "      <td>A0A075B6H7</td>\n",
       "    </tr>\n",
       "    <tr>\n",
       "      <th>A0A075B6H8</th>\n",
       "      <td>A0A075B6H8</td>\n",
       "    </tr>\n",
       "    <tr>\n",
       "      <th>...</th>\n",
       "      <td>...</td>\n",
       "    </tr>\n",
       "    <tr>\n",
       "      <th>U3KQU4</th>\n",
       "      <td>U3KQU4</td>\n",
       "    </tr>\n",
       "    <tr>\n",
       "      <th>V9GXZ4</th>\n",
       "      <td>V9GXZ4</td>\n",
       "    </tr>\n",
       "    <tr>\n",
       "      <th>V9GYD0</th>\n",
       "      <td>V9GYD0</td>\n",
       "    </tr>\n",
       "    <tr>\n",
       "      <th>V9GYS4</th>\n",
       "      <td>V9GYS4</td>\n",
       "    </tr>\n",
       "    <tr>\n",
       "      <th>V9GZ69</th>\n",
       "      <td>V9GZ69</td>\n",
       "    </tr>\n",
       "  </tbody>\n",
       "</table>\n",
       "<p>96418 rows × 1 columns</p>\n",
       "</div>"
      ],
      "text/plain": [
       "               protein\n",
       "prot_id               \n",
       "A0A024R1R8  A0A024R1R8\n",
       "A0A024RBG1  A0A024RBG1\n",
       "A0A075B6H5  A0A075B6H5\n",
       "A0A075B6H7  A0A075B6H7\n",
       "A0A075B6H8  A0A075B6H8\n",
       "...                ...\n",
       "U3KQU4          U3KQU4\n",
       "V9GXZ4          V9GXZ4\n",
       "V9GYD0          V9GYD0\n",
       "V9GYS4          V9GYS4\n",
       "V9GZ69          V9GZ69\n",
       "\n",
       "[96418 rows x 1 columns]"
      ]
     },
     "execution_count": 22,
     "metadata": {},
     "output_type": "execute_result"
    }
   ],
   "source": [
    "id_map = pd.DataFrame(\n",
    "    prot_ids.str.split(\"-\").str[0], columns=[\"protein\"]\n",
    ")  # , index=list(prot_ids))\n",
    "id_map.index = pd.Index(prot_ids, name=\"prot_id\")\n",
    "id_map"
   ]
  },
  {
   "cell_type": "code",
   "execution_count": 23,
   "metadata": {},
   "outputs": [
    {
     "data": {
      "text/html": [
       "<div>\n",
       "<style scoped>\n",
       "    .dataframe tbody tr th:only-of-type {\n",
       "        vertical-align: middle;\n",
       "    }\n",
       "\n",
       "    .dataframe tbody tr th {\n",
       "        vertical-align: top;\n",
       "    }\n",
       "\n",
       "    .dataframe thead th {\n",
       "        text-align: right;\n",
       "    }\n",
       "</style>\n",
       "<table border=\"1\" class=\"dataframe\">\n",
       "  <thead>\n",
       "    <tr style=\"text-align: right;\">\n",
       "      <th></th>\n",
       "      <th>protein</th>\n",
       "    </tr>\n",
       "    <tr>\n",
       "      <th>prot_id</th>\n",
       "      <th></th>\n",
       "    </tr>\n",
       "  </thead>\n",
       "  <tbody>\n",
       "    <tr>\n",
       "      <th>A0A096LP49</th>\n",
       "      <td>A0A096LP49</td>\n",
       "    </tr>\n",
       "    <tr>\n",
       "      <th>Q9Y6Z5</th>\n",
       "      <td>Q9Y6Z5</td>\n",
       "    </tr>\n",
       "    <tr>\n",
       "      <th>W5XKT8</th>\n",
       "      <td>W5XKT8</td>\n",
       "    </tr>\n",
       "    <tr>\n",
       "      <th>A0A096LP49-2</th>\n",
       "      <td>A0A096LP49</td>\n",
       "    </tr>\n",
       "    <tr>\n",
       "      <th>Q9Y6Z5-2</th>\n",
       "      <td>Q9Y6Z5</td>\n",
       "    </tr>\n",
       "    <tr>\n",
       "      <th>W5XKT8-2</th>\n",
       "      <td>W5XKT8</td>\n",
       "    </tr>\n",
       "    <tr>\n",
       "      <th>W5XKT8-3</th>\n",
       "      <td>W5XKT8</td>\n",
       "    </tr>\n",
       "  </tbody>\n",
       "</table>\n",
       "</div>"
      ],
      "text/plain": [
       "                 protein\n",
       "prot_id                 \n",
       "A0A096LP49    A0A096LP49\n",
       "Q9Y6Z5            Q9Y6Z5\n",
       "W5XKT8            W5XKT8\n",
       "A0A096LP49-2  A0A096LP49\n",
       "Q9Y6Z5-2          Q9Y6Z5\n",
       "W5XKT8-2          W5XKT8\n",
       "W5XKT8-3          W5XKT8"
      ]
     },
     "execution_count": 23,
     "metadata": {},
     "output_type": "execute_result"
    }
   ],
   "source": [
    "id_map.loc[id_map.index.str.contains(\"A0A096LP49|Q9Y6Z5|W5XKT8\")]"
   ]
  },
  {
   "cell_type": "code",
   "execution_count": 24,
   "metadata": {},
   "outputs": [
    {
     "name": "stdout",
     "output_type": "stream",
     "text": [
      "There are 74416 unique proteins without isoforms listed in the used fasta files.\n"
     ]
    }
   ],
   "source": [
    "l_proteins = id_map.protein.unique()\n",
    "print(\n",
    "    f\"There are {len(l_proteins)} unique proteins without isoforms listed in the used fasta files.\"\n",
    ")\n",
    "# Check with pervious result.\n",
    "assert n_unique_proteins_wo_isoforms == len(l_proteins)"
   ]
  },
  {
   "cell_type": "code",
   "execution_count": 25,
   "metadata": {},
   "outputs": [
    {
     "name": "stderr",
     "output_type": "stream",
     "text": [
      "WARNING:root:Loaded pre-cached map dict_protein_to_gene: data\\fasta\\uniprot_protein_gene_map.json\n"
     ]
    }
   ],
   "source": [
    "from config import FN_PROT_GENE_MAP\n",
    "\n",
    "from vaep.uniprot import query_uniprot_id_mapping\n",
    "\n",
    "try:\n",
    "    with open(FN_PROT_GENE_MAP) as f:\n",
    "        dict_protein_to_gene = json.load(f)\n",
    "    logging.warning(f\"Loaded pre-cached map dict_protein_to_gene: {FN_PROT_GENE_MAP}\")\n",
    "except FileNotFoundError:\n",
    "    dict_protein_to_gene = {}\n",
    "    start = 0\n",
    "    for end in list(range(10000, len(l_proteins), 10000)):\n",
    "        print(f\"Retrieve items {start+1:6} to {end:6}\")\n",
    "        _id_to_gene = query_uniprot_id_mapping(l_proteins[start:end])\n",
    "        print(f\"Found {len(_id_to_gene)} gene names\")\n",
    "        dict_protein_to_gene.update(_id_to_gene)\n",
    "        start = end\n",
    "    print(f\"Retrieve items {start:6} to {len(l_proteins):6}\")\n",
    "    _id_to_gene = query_uniprot_id_mapping(l_proteins[start:])\n",
    "    print(f\"Found {len(_id_to_gene)} gene names\")\n",
    "    dict_protein_to_gene.update(_id_to_gene)\n",
    "    with open(FN_PROT_GENE_MAP, \"w\") as f:\n",
    "        json.dump(dict_protein_to_gene, f, indent=4, sort_keys=False)"
   ]
  },
  {
   "cell_type": "code",
   "execution_count": 26,
   "metadata": {},
   "outputs": [
    {
     "data": {
      "text/plain": [
       "A0A024R1R8    hCG_2014768\n",
       "A0A024RBG1         NUDT4B\n",
       "A0A075B6H5    TRBV20OR9-2\n",
       "A0A075B6H7        IGKV3-7\n",
       "A0A075B6H8      IGKV1D-42\n",
       "                 ...     \n",
       "S4R3N1         HSPE1-MOB4\n",
       "S4R434        TLCD4-RWDD3\n",
       "U3KQ54         PMF1-BGLAP\n",
       "V9GXZ4        FPGT-TNNI3K\n",
       "V9GYD0         ARL2-SNX15\n",
       "Name: gene, Length: 72473, dtype: object"
      ]
     },
     "execution_count": 26,
     "metadata": {},
     "output_type": "execute_result"
    }
   ],
   "source": [
    "genes = pd.Series(dict_protein_to_gene, name=\"gene\")\n",
    "genes"
   ]
  },
  {
   "cell_type": "code",
   "execution_count": 27,
   "metadata": {},
   "outputs": [],
   "source": [
    "assert (\n",
    "    len(genes) == 72473\n",
    "), f\"The number of proteins associated to a gene found on 22.09.2020 was 72473, not it's {len(genes)}\""
   ]
  },
  {
   "cell_type": "code",
   "execution_count": 28,
   "metadata": {},
   "outputs": [
    {
     "data": {
      "text/html": [
       "<div>\n",
       "<style scoped>\n",
       "    .dataframe tbody tr th:only-of-type {\n",
       "        vertical-align: middle;\n",
       "    }\n",
       "\n",
       "    .dataframe tbody tr th {\n",
       "        vertical-align: top;\n",
       "    }\n",
       "\n",
       "    .dataframe thead th {\n",
       "        text-align: right;\n",
       "    }\n",
       "</style>\n",
       "<table border=\"1\" class=\"dataframe\">\n",
       "  <thead>\n",
       "    <tr style=\"text-align: right;\">\n",
       "      <th></th>\n",
       "      <th>protein</th>\n",
       "      <th>gene</th>\n",
       "    </tr>\n",
       "    <tr>\n",
       "      <th>prot_id</th>\n",
       "      <th></th>\n",
       "      <th></th>\n",
       "    </tr>\n",
       "  </thead>\n",
       "  <tbody>\n",
       "    <tr>\n",
       "      <th>M0R009</th>\n",
       "      <td>M0R009</td>\n",
       "      <td>A1BG</td>\n",
       "    </tr>\n",
       "    <tr>\n",
       "      <th>P04217</th>\n",
       "      <td>P04217</td>\n",
       "      <td>A1BG</td>\n",
       "    </tr>\n",
       "    <tr>\n",
       "      <th>P04217-2</th>\n",
       "      <td>P04217</td>\n",
       "      <td>A1BG</td>\n",
       "    </tr>\n",
       "    <tr>\n",
       "      <th>F8W9F8</th>\n",
       "      <td>F8W9F8</td>\n",
       "      <td>A1CF</td>\n",
       "    </tr>\n",
       "    <tr>\n",
       "      <th>Q5T0W7</th>\n",
       "      <td>Q5T0W7</td>\n",
       "      <td>A1CF</td>\n",
       "    </tr>\n",
       "    <tr>\n",
       "      <th>...</th>\n",
       "      <td>...</td>\n",
       "      <td>...</td>\n",
       "    </tr>\n",
       "    <tr>\n",
       "      <th>X6R787</th>\n",
       "      <td>X6R787</td>\n",
       "      <td>NaN</td>\n",
       "    </tr>\n",
       "    <tr>\n",
       "      <th>X6R8Y7</th>\n",
       "      <td>X6R8Y7</td>\n",
       "      <td>NaN</td>\n",
       "    </tr>\n",
       "    <tr>\n",
       "      <th>X6RBE4</th>\n",
       "      <td>X6RBE4</td>\n",
       "      <td>NaN</td>\n",
       "    </tr>\n",
       "    <tr>\n",
       "      <th>X6RGJ2</th>\n",
       "      <td>X6RGJ2</td>\n",
       "      <td>NaN</td>\n",
       "    </tr>\n",
       "    <tr>\n",
       "      <th>X6RKW4</th>\n",
       "      <td>X6RKW4</td>\n",
       "      <td>NaN</td>\n",
       "    </tr>\n",
       "  </tbody>\n",
       "</table>\n",
       "<p>96418 rows × 2 columns</p>\n",
       "</div>"
      ],
      "text/plain": [
       "         protein  gene\n",
       "prot_id               \n",
       "M0R009    M0R009  A1BG\n",
       "P04217    P04217  A1BG\n",
       "P04217-2  P04217  A1BG\n",
       "F8W9F8    F8W9F8  A1CF\n",
       "Q5T0W7    Q5T0W7  A1CF\n",
       "...          ...   ...\n",
       "X6R787    X6R787   NaN\n",
       "X6R8Y7    X6R8Y7   NaN\n",
       "X6RBE4    X6RBE4   NaN\n",
       "X6RGJ2    X6RGJ2   NaN\n",
       "X6RKW4    X6RKW4   NaN\n",
       "\n",
       "[96418 rows x 2 columns]"
      ]
     },
     "execution_count": 28,
     "metadata": {},
     "output_type": "execute_result"
    }
   ],
   "source": [
    "id_map = id_map.merge(genes, how=\"outer\", left_on=\"protein\", right_index=True)\n",
    "id_map.sort_values(by=[\"gene\", \"protein\"], inplace=True)\n",
    "id_map"
   ]
  },
  {
   "cell_type": "code",
   "execution_count": 29,
   "metadata": {},
   "outputs": [
    {
     "data": {
      "text/html": [
       "<div>\n",
       "<style scoped>\n",
       "    .dataframe tbody tr th:only-of-type {\n",
       "        vertical-align: middle;\n",
       "    }\n",
       "\n",
       "    .dataframe tbody tr th {\n",
       "        vertical-align: top;\n",
       "    }\n",
       "\n",
       "    .dataframe thead th {\n",
       "        text-align: right;\n",
       "    }\n",
       "</style>\n",
       "<table border=\"1\" class=\"dataframe\">\n",
       "  <thead>\n",
       "    <tr style=\"text-align: right;\">\n",
       "      <th></th>\n",
       "      <th>protein</th>\n",
       "      <th>gene</th>\n",
       "    </tr>\n",
       "    <tr>\n",
       "      <th>prot_id</th>\n",
       "      <th></th>\n",
       "      <th></th>\n",
       "    </tr>\n",
       "  </thead>\n",
       "  <tbody>\n",
       "    <tr>\n",
       "      <th>A0A024R341</th>\n",
       "      <td>A0A024R341</td>\n",
       "      <td>NaN</td>\n",
       "    </tr>\n",
       "    <tr>\n",
       "      <th>A0A024R368</th>\n",
       "      <td>A0A024R368</td>\n",
       "      <td>NaN</td>\n",
       "    </tr>\n",
       "    <tr>\n",
       "      <th>A0A024R442</th>\n",
       "      <td>A0A024R442</td>\n",
       "      <td>NaN</td>\n",
       "    </tr>\n",
       "    <tr>\n",
       "      <th>A0A075B6Q4</th>\n",
       "      <td>A0A075B6Q4</td>\n",
       "      <td>NaN</td>\n",
       "    </tr>\n",
       "    <tr>\n",
       "      <th>A0A075B6Q7</th>\n",
       "      <td>A0A075B6Q7</td>\n",
       "      <td>NaN</td>\n",
       "    </tr>\n",
       "    <tr>\n",
       "      <th>...</th>\n",
       "      <td>...</td>\n",
       "      <td>...</td>\n",
       "    </tr>\n",
       "    <tr>\n",
       "      <th>X6R787</th>\n",
       "      <td>X6R787</td>\n",
       "      <td>NaN</td>\n",
       "    </tr>\n",
       "    <tr>\n",
       "      <th>X6R8Y7</th>\n",
       "      <td>X6R8Y7</td>\n",
       "      <td>NaN</td>\n",
       "    </tr>\n",
       "    <tr>\n",
       "      <th>X6RBE4</th>\n",
       "      <td>X6RBE4</td>\n",
       "      <td>NaN</td>\n",
       "    </tr>\n",
       "    <tr>\n",
       "      <th>X6RGJ2</th>\n",
       "      <td>X6RGJ2</td>\n",
       "      <td>NaN</td>\n",
       "    </tr>\n",
       "    <tr>\n",
       "      <th>X6RKW4</th>\n",
       "      <td>X6RKW4</td>\n",
       "      <td>NaN</td>\n",
       "    </tr>\n",
       "  </tbody>\n",
       "</table>\n",
       "<p>1948 rows × 2 columns</p>\n",
       "</div>"
      ],
      "text/plain": [
       "               protein gene\n",
       "prot_id                    \n",
       "A0A024R341  A0A024R341  NaN\n",
       "A0A024R368  A0A024R368  NaN\n",
       "A0A024R442  A0A024R442  NaN\n",
       "A0A075B6Q4  A0A075B6Q4  NaN\n",
       "A0A075B6Q7  A0A075B6Q7  NaN\n",
       "...                ...  ...\n",
       "X6R787          X6R787  NaN\n",
       "X6R8Y7          X6R8Y7  NaN\n",
       "X6RBE4          X6RBE4  NaN\n",
       "X6RGJ2          X6RGJ2  NaN\n",
       "X6RKW4          X6RKW4  NaN\n",
       "\n",
       "[1948 rows x 2 columns]"
      ]
     },
     "execution_count": 29,
     "metadata": {},
     "output_type": "execute_result"
    }
   ],
   "source": [
    "mask_no_gene = id_map.gene.isna()\n",
    "id_map.loc[mask_no_gene]"
   ]
  },
  {
   "cell_type": "code",
   "execution_count": 30,
   "metadata": {},
   "outputs": [
    {
     "name": "stdout",
     "output_type": "stream",
     "text": [
      "The theoretical analysis of the fasta files gives an idea about how many possible peptides \n",
      "can be expected by cleaving proteins by peptides. The hyperparameters for peptide creation are \n",
      "to consider the minimal peptide length to be 7 amino acids, \n",
      "to consider a maximum of 2 missed cleavage sites (default in MaxQuant) and \n",
      "to not add decoy peptides by reversing peptide sequences. \n",
      "\n",
      "A total of 10534 proteins have at least one more isoform. Collapsing isoforms into one protein results in 74416 proteins.\n",
      "There are 1948 protein IDs (or 1943 proteins) without a gene associated to them in the current faste files.\n"
     ]
    }
   ],
   "source": [
    "_summary_text += (\n",
    "    f\"\\nThere are {id_map.gene.isna().sum()} protein IDs (or {id_map.loc[mask_no_gene].protein.nunique()} proteins) \"\n",
    "    \"without a gene associated to them in the current faste files.\"\n",
    ")\n",
    "print(_summary_text)"
   ]
  },
  {
   "cell_type": "markdown",
   "metadata": {},
   "source": [
    "### Isotopes mapping\n",
    "\n",
    "Isotopes are mapped now to a protein with the same name. The same can be achieved by just discarding everything behind the hypen `-`"
   ]
  },
  {
   "cell_type": "code",
   "execution_count": 31,
   "metadata": {},
   "outputs": [
    {
     "data": {
      "text/html": [
       "<div>\n",
       "<style scoped>\n",
       "    .dataframe tbody tr th:only-of-type {\n",
       "        vertical-align: middle;\n",
       "    }\n",
       "\n",
       "    .dataframe tbody tr th {\n",
       "        vertical-align: top;\n",
       "    }\n",
       "\n",
       "    .dataframe thead th {\n",
       "        text-align: right;\n",
       "    }\n",
       "</style>\n",
       "<table border=\"1\" class=\"dataframe\">\n",
       "  <thead>\n",
       "    <tr style=\"text-align: right;\">\n",
       "      <th></th>\n",
       "      <th>protein</th>\n",
       "      <th>gene</th>\n",
       "    </tr>\n",
       "    <tr>\n",
       "      <th>prot_id</th>\n",
       "      <th></th>\n",
       "      <th></th>\n",
       "    </tr>\n",
       "  </thead>\n",
       "  <tbody>\n",
       "    <tr>\n",
       "      <th>P04217-2</th>\n",
       "      <td>P04217</td>\n",
       "      <td>A1BG</td>\n",
       "    </tr>\n",
       "    <tr>\n",
       "      <th>Q9NQ94-2</th>\n",
       "      <td>Q9NQ94</td>\n",
       "      <td>A1CF</td>\n",
       "    </tr>\n",
       "    <tr>\n",
       "      <th>Q9NQ94-3</th>\n",
       "      <td>Q9NQ94</td>\n",
       "      <td>A1CF</td>\n",
       "    </tr>\n",
       "    <tr>\n",
       "      <th>Q9NQ94-4</th>\n",
       "      <td>Q9NQ94</td>\n",
       "      <td>A1CF</td>\n",
       "    </tr>\n",
       "    <tr>\n",
       "      <th>Q9NQ94-5</th>\n",
       "      <td>Q9NQ94</td>\n",
       "      <td>A1CF</td>\n",
       "    </tr>\n",
       "    <tr>\n",
       "      <th>...</th>\n",
       "      <td>...</td>\n",
       "      <td>...</td>\n",
       "    </tr>\n",
       "    <tr>\n",
       "      <th>A8MWP6-2</th>\n",
       "      <td>A8MWP6</td>\n",
       "      <td>NaN</td>\n",
       "    </tr>\n",
       "    <tr>\n",
       "      <th>A8MXK9-2</th>\n",
       "      <td>A8MXK9</td>\n",
       "      <td>NaN</td>\n",
       "    </tr>\n",
       "    <tr>\n",
       "      <th>Q4G0T1-2</th>\n",
       "      <td>Q4G0T1</td>\n",
       "      <td>NaN</td>\n",
       "    </tr>\n",
       "    <tr>\n",
       "      <th>Q4G0T1-3</th>\n",
       "      <td>Q4G0T1</td>\n",
       "      <td>NaN</td>\n",
       "    </tr>\n",
       "    <tr>\n",
       "      <th>Q8N2B8-2</th>\n",
       "      <td>Q8N2B8</td>\n",
       "      <td>NaN</td>\n",
       "    </tr>\n",
       "  </tbody>\n",
       "</table>\n",
       "<p>22002 rows × 2 columns</p>\n",
       "</div>"
      ],
      "text/plain": [
       "         protein  gene\n",
       "prot_id               \n",
       "P04217-2  P04217  A1BG\n",
       "Q9NQ94-2  Q9NQ94  A1CF\n",
       "Q9NQ94-3  Q9NQ94  A1CF\n",
       "Q9NQ94-4  Q9NQ94  A1CF\n",
       "Q9NQ94-5  Q9NQ94  A1CF\n",
       "...          ...   ...\n",
       "A8MWP6-2  A8MWP6   NaN\n",
       "A8MXK9-2  A8MXK9   NaN\n",
       "Q4G0T1-2  Q4G0T1   NaN\n",
       "Q4G0T1-3  Q4G0T1   NaN\n",
       "Q8N2B8-2  Q8N2B8   NaN\n",
       "\n",
       "[22002 rows x 2 columns]"
      ]
     },
     "execution_count": 31,
     "metadata": {},
     "output_type": "execute_result"
    }
   ],
   "source": [
    "id_map.loc[id_map.index.str.contains(\"-\")]"
   ]
  },
  {
   "cell_type": "markdown",
   "metadata": {},
   "source": [
    "Save id_map"
   ]
  },
  {
   "cell_type": "code",
   "execution_count": 32,
   "metadata": {},
   "outputs": [],
   "source": [
    "from config import FN_ID_MAP\n",
    "\n",
    "id_map.to_json(FN_ID_MAP, orient=\"split\", indent=4)"
   ]
  },
  {
   "cell_type": "markdown",
   "metadata": {},
   "source": [
    "### Most proteins with a missing gene are deleted\n",
    "\n",
    "If one checks manually some of the examples (e.g. the hundred provided here), one sees that all are deleted from Uniprot.\n",
    "\n",
    "> How to obtain different versions of UniProt?!"
   ]
  },
  {
   "cell_type": "code",
   "execution_count": 33,
   "metadata": {},
   "outputs": [
    {
     "name": "stdout",
     "output_type": "stream",
     "text": [
      "Not all ids are mapped.\n",
      "Number of protein identifiers not mapped to a gene: 1943\n",
      "Look at 100 examples: M0QYT0, A0A1B0GWB0, A0A3B3IT34, A0A0G2JM26, Q6AWC8, A0A2R8Y7P6, A0A2R8Y7U2, A0A2R8Y7B1, Q6ZT83, M0QZU9, A0A3B3IS89, A0A1B0GUR6, A0A1W2PQ90, A0A096LPE4, E7EPS2, H0YD56, A0A1W2PQD6, Q6JHZ5, A0A087WZA7, A0A2R8Y5N2, A0A286YES4, A0A0A6YYK5, A0A494C014, A0A494C0Y4, A8MUU9, K7EIZ5, Q4VXT4, Q6ZTK2, A8MUL9, B5MEG5, H7C4B7, G3V2T6, A0A2R8Y7E7, A0A0A0MT77, E7ERM8, K7ERU9, A0A2R8Y5H9, H0YKR5, A0A2R8Y6R3, A0A0D9SFL9, A0A2R8Y717, A0A2R8Y5W7, A0A2R8Y7I0, A0A2R8Y7C0, A0A2R8Y5M4, F8VNX2, A0A2R8Y7G1, Q5T241, A0A0G2JKW9, A0A0U1RQK1, F6UZH7, A0A087WVY6, J3KRJ5, A0A2R8Y6Q2, A0A096LPG2, A0A2R8Y7H0, A0A2R8Y5E0, A0A2R8Y6P0, A0A087WT57, A0A087WUR5, A0A1Y8EK32, A3QK37, A0A2R8Y5D3, A0A0G2JH32, Q8N377, Q6ZVH6, A0A2R8Y6H4, J3QQT5, A0A1W2PS62, K7EN00, J3QR06, A0A2R8Y6Y1, A0A0J9YWP7, A0A2R8Y655, H7C3F7, A0A2R8Y6C7, A0A2R8Y6F0, A0A1W2PRK1, A0A2R8Y5I4, H3BUN2, A0A2R8Y7L1, A0A2R8Y6I5, A0A2R8Y787, A0A2R8Y700, E9PNG2, A0A3B3IU11, A0A2R8Y7U6, F5GZI5, A1L4Q6, E5RFL4, C9JLH6, A0A2R8Y7M9, A0A1B0GWD3, A0A2R8Y6Y5, A0A0A0MTC6, H3BUX3, A0A0D9SFW1, J3KN87, A0A2R8Y740, A0A2R8Y7S3\n"
     ]
    }
   ],
   "source": [
    "from vaep.utils import sample_iterable\n",
    "\n",
    "if not len(dict_protein_to_gene) == len(l_proteins):\n",
    "    print(\"Not all ids are mapped.\")\n",
    "    _diff = set(l_proteins).difference(dict_protein_to_gene.keys())\n",
    "    print(f\"Number of protein identifiers not mapped to a gene: {len(_diff)}\")\n",
    "    print(f'Look at {100} examples: {\", \".join(sample_iterable(_diff, 100))}')"
   ]
  },
  {
   "cell_type": "code",
   "execution_count": 34,
   "metadata": {},
   "outputs": [
    {
     "name": "stdout",
     "output_type": "stream",
     "text": [
      "The theoretical analysis of the fasta files gives an idea about how many possible peptides \n",
      "can be expected by cleaving proteins by peptides. The hyperparameters for peptide creation are \n",
      "to consider the minimal peptide length to be 7 amino acids, \n",
      "to consider a maximum of 2 missed cleavage sites (default in MaxQuant) and \n",
      "to not add decoy peptides by reversing peptide sequences. \n",
      "\n",
      "A total of 10534 proteins have at least one more isoform. Collapsing isoforms into one protein results in 74416 proteins.\n",
      "There are 1948 protein IDs (or 1943 proteins) without a gene associated to them in the current faste files.\n",
      "Most of the 1943 proteins (2.61 percent of the unique proteins) not mapped to a gene name are deleted in the most current version of UniProt. The versioning of the fasta-files has to be investigated.\n",
      "Proteins are mapped to a total number of genes of 20492.\n",
      "\n"
     ]
    }
   ],
   "source": [
    "_summary_text += (\n",
    "    f\"\\nMost of the {len(_diff)} proteins ({len(_diff)/len(l_proteins)*100:.2f} percent of the unique proteins) \"\n",
    "    \"not mapped to a gene name are deleted in the most current version of UniProt. \"\n",
    "    \"The versioning of the fasta-files has to be investigated.\"\n",
    ")\n",
    "_summary_text += (\n",
    "    f\"\\nProteins are mapped to a total number of genes of {id_map.gene.nunique()}.\\n\"\n",
    ")\n",
    "print(_summary_text)"
   ]
  },
  {
   "cell_type": "code",
   "execution_count": 35,
   "metadata": {},
   "outputs": [
    {
     "data": {
      "text/plain": [
       "'Proteins are mapped to a total number of genes of 20492'"
      ]
     },
     "execution_count": 35,
     "metadata": {},
     "output_type": "execute_result"
    }
   ],
   "source": [
    "f\"Proteins are mapped to a total number of genes of {len(set(dict_protein_to_gene.values()))}\""
   ]
  },
  {
   "cell_type": "markdown",
   "metadata": {},
   "source": [
    "### Map peptide to either identifier, common protein or gene  \n"
   ]
  },
  {
   "cell_type": "code",
   "execution_count": 36,
   "metadata": {},
   "outputs": [
    {
     "data": {
      "application/vnd.jupyter.widget-view+json": {
       "model_id": "7277ae039e914eac87cc84d46bb003d7",
       "version_major": 2,
       "version_minor": 0
      },
      "text/plain": [
       "HBox(children=(FloatProgress(value=0.0, max=96418.0), HTML(value='')))"
      ]
     },
     "metadata": {},
     "output_type": "display_data"
    },
    {
     "name": "stdout",
     "output_type": "stream",
     "text": [
      "\n"
     ]
    }
   ],
   "source": [
    "from collections import defaultdict\n",
    "\n",
    "from vaep.fasta import iterFlatten\n",
    "\n",
    "peptide_to_prot = defaultdict(list)\n",
    "for _id, _data in tqdm(data_fasta.items()):\n",
    "    for _pep in iterFlatten(_data[\"peptides\"]):\n",
    "        peptide_to_prot[_pep].append(_id)\n",
    "\n",
    "_summary_text += f\"\\nConsidering {MAX_MISSED_CLEAVAGES} missed cleavage site(s) there are {len(peptide_to_prot):,d} unique peptides.\""
   ]
  },
  {
   "cell_type": "code",
   "execution_count": 37,
   "metadata": {},
   "outputs": [
    {
     "name": "stdout",
     "output_type": "stream",
     "text": [
      "The theoretical analysis of the fasta files gives an idea about how many possible peptides \n",
      "can be expected by cleaving proteins by peptides. The hyperparameters for peptide creation are \n",
      "to consider the minimal peptide length to be 7 amino acids, \n",
      "to consider a maximum of 2 missed cleavage sites (default in MaxQuant) and \n",
      "to not add decoy peptides by reversing peptide sequences. \n",
      "\n",
      "A total of 10534 proteins have at least one more isoform. Collapsing isoforms into one protein results in 74416 proteins.\n",
      "There are 1948 protein IDs (or 1943 proteins) without a gene associated to them in the current faste files.\n",
      "Most of the 1943 proteins (2.61 percent of the unique proteins) not mapped to a gene name are deleted in the most current version of UniProt. The versioning of the fasta-files has to be investigated.\n",
      "Proteins are mapped to a total number of genes of 20492.\n",
      "\n",
      "Considering 2 missed cleavage site(s) there are 3,210,677 unique peptides.\n"
     ]
    }
   ],
   "source": [
    "print(_summary_text)"
   ]
  },
  {
   "cell_type": "code",
   "execution_count": 38,
   "metadata": {},
   "outputs": [
    {
     "data": {
      "text/plain": [
       "{'NAVQIISSALDTDNESTKDTENTFVLGDVQK': ['Q6UB98', 'Q6UB98-2'],\n",
       " 'CLPMNFRAEDLASGILRER': ['Q9ULI0', 'Q9ULI0-2'],\n",
       " 'INSGEEVLRKR': ['O43422', 'O43422-2'],\n",
       " 'MAVSTGVK': ['Q15819', 'H0YBX6'],\n",
       " 'DICNAMGSKLTCEKIVK': ['Q8NDM7', 'H0Y4U9', 'H7BZT8', 'Q8NDM7-2'],\n",
       " 'HKEPGSGSGGGVYWVDSQQK': ['Q9NQT5', 'Q9NQT5-2'],\n",
       " 'MQTLTQDQSQAKLEDFFVYPAEQPQIGEVEESNPSAK': ['P51816',\n",
       "  'P51816-2',\n",
       "  'P51816-3',\n",
       "  'P51816-4',\n",
       "  'P51816-5',\n",
       "  'P51816-6'],\n",
       " 'SERQIQLIREMLMCDTSGSIQLSEEQK': ['F8VQF5', 'F8W1E5', 'F8W1T4'],\n",
       " 'LEESSPLNLDKSMSSWSQRGR': ['Q9BX84',\n",
       "  'Q9BX84-2',\n",
       "  'Q9BX84-3',\n",
       "  'Q9BX84-4',\n",
       "  'Q9BX84-5',\n",
       "  'Q9BX84-6',\n",
       "  'Q9BX84-7'],\n",
       " 'IPETKALK': ['P51816',\n",
       "  'P51816-2',\n",
       "  'P51816-3',\n",
       "  'P51816-5',\n",
       "  'P51816-6',\n",
       "  'P51816-7']}"
      ]
     },
     "execution_count": 38,
     "metadata": {},
     "output_type": "execute_result"
    }
   ],
   "source": [
    "{_key: peptide_to_prot[_key] for _key in sample_iterable(peptide_to_prot.keys())}"
   ]
  },
  {
   "cell_type": "code",
   "execution_count": 39,
   "metadata": {},
   "outputs": [],
   "source": [
    "%time\n",
    "from config import FN_PEP_TO_PROT\n",
    "\n",
    "with open(FN_PEP_TO_PROT, \"w\") as f:\n",
    "    json.dump(peptide_to_prot, f, indent=4, sort_keys=False)"
   ]
  },
  {
   "cell_type": "markdown",
   "metadata": {},
   "source": [
    "### Plot histograms for different levels of abstraction\n",
    "\n",
    "Plot counts of matched \n",
    "   1. protein IDs\n",
    "   2. proteins (joining isoforms)\n",
    "   3. genes\n",
    "   \n",
    "to their peptides. See how many unique peptides exist. The number of peptides should stay the same, so the counts do not have to be normalized."
   ]
  },
  {
   "cell_type": "code",
   "execution_count": 40,
   "metadata": {},
   "outputs": [
    {
     "name": "stderr",
     "output_type": "stream",
     "text": [
      "100%|█████████████████████████████████████████████████████████████████████████████████████████████████████████████████████████████████████████████████████████████████████████| 3210677/3210677 [00:02<00:00, 1393501.43it/s]\n",
      "100%|██████████████████████████████████████████████████████████████████████████████████████████████████████████████████████████████████████████████████████████████████████████| 3210677/3210677 [00:06<00:00, 532039.70it/s]\n",
      "100%|██████████████████████████████████████████████████████████████████████████████████████████████████████████████████████████████████████████████████████████████████████████| 3210677/3210677 [00:08<00:00, 398762.76it/s]\n",
      "WARNING:vaep.fasta:Missing protein to gene mapppings: 1943\n"
     ]
    }
   ],
   "source": [
    "from vaep.fasta import count_peptide_matches\n",
    "\n",
    "counters = {}\n",
    "levels = [\"protein_id\", \"protein\", \"gene\"]\n",
    "for level in levels:\n",
    "    counters[level] = pd.Series(\n",
    "        count_peptide_matches(peptide_to_prot, dict_protein_to_gene, level=level)\n",
    "    )"
   ]
  },
  {
   "cell_type": "code",
   "execution_count": 41,
   "metadata": {},
   "outputs": [
    {
     "name": "stdout",
     "output_type": "stream",
     "text": [
      "protein_id: 6\n",
      "protein: 5\n",
      "gene: 5\n"
     ]
    }
   ],
   "source": [
    "for level in levels:\n",
    "    print(f\"{level}: {counters[level]['AACLCFR']}\")"
   ]
  },
  {
   "cell_type": "code",
   "execution_count": 42,
   "metadata": {},
   "outputs": [
    {
     "data": {
      "text/plain": [
       "['A0A024RBG1', 'O95989', 'Q8NFP7', 'Q96G61', 'Q9NZJ9', 'Q9NZJ9-2']"
      ]
     },
     "execution_count": 42,
     "metadata": {},
     "output_type": "execute_result"
    }
   ],
   "source": [
    "peptide_to_prot[\"AACLCFR\"]"
   ]
  },
  {
   "cell_type": "code",
   "execution_count": 43,
   "metadata": {},
   "outputs": [
    {
     "data": {
      "text/plain": [
       "{'NUDT10', 'NUDT11', 'NUDT3', 'NUDT4', 'NUDT4B'}"
      ]
     },
     "execution_count": 43,
     "metadata": {},
     "output_type": "execute_result"
    }
   ],
   "source": [
    "_prots = {x.split(\"-\")[0] for x in peptide_to_prot[\"AACLCFR\"]}\n",
    "{dict_protein_to_gene[_prot] for _prot in _prots}"
   ]
  },
  {
   "cell_type": "code",
   "execution_count": 44,
   "metadata": {},
   "outputs": [
    {
     "data": {
      "text/html": [
       "<div>\n",
       "<style scoped>\n",
       "    .dataframe tbody tr th:only-of-type {\n",
       "        vertical-align: middle;\n",
       "    }\n",
       "\n",
       "    .dataframe tbody tr th {\n",
       "        vertical-align: top;\n",
       "    }\n",
       "\n",
       "    .dataframe thead th {\n",
       "        text-align: right;\n",
       "    }\n",
       "</style>\n",
       "<table border=\"1\" class=\"dataframe\">\n",
       "  <thead>\n",
       "    <tr style=\"text-align: right;\">\n",
       "      <th></th>\n",
       "      <th>protein_id</th>\n",
       "      <th>protein</th>\n",
       "      <th>gene</th>\n",
       "    </tr>\n",
       "  </thead>\n",
       "  <tbody>\n",
       "    <tr>\n",
       "      <th>0</th>\n",
       "      <td>0</td>\n",
       "      <td>0</td>\n",
       "      <td>19444</td>\n",
       "    </tr>\n",
       "    <tr>\n",
       "      <th>1</th>\n",
       "      <td>1173665</td>\n",
       "      <td>1758959</td>\n",
       "      <td>3105730</td>\n",
       "    </tr>\n",
       "    <tr>\n",
       "      <th>2</th>\n",
       "      <td>703064</td>\n",
       "      <td>749718</td>\n",
       "      <td>64634</td>\n",
       "    </tr>\n",
       "    <tr>\n",
       "      <th>3</th>\n",
       "      <td>469464</td>\n",
       "      <td>346667</td>\n",
       "      <td>11683</td>\n",
       "    </tr>\n",
       "    <tr>\n",
       "      <th>4</th>\n",
       "      <td>301013</td>\n",
       "      <td>153179</td>\n",
       "      <td>3670</td>\n",
       "    </tr>\n",
       "    <tr>\n",
       "      <th>...</th>\n",
       "      <td>...</td>\n",
       "      <td>...</td>\n",
       "      <td>...</td>\n",
       "    </tr>\n",
       "    <tr>\n",
       "      <th>311</th>\n",
       "      <td>1</td>\n",
       "      <td>0</td>\n",
       "      <td>0</td>\n",
       "    </tr>\n",
       "    <tr>\n",
       "      <th>387</th>\n",
       "      <td>2</td>\n",
       "      <td>0</td>\n",
       "      <td>0</td>\n",
       "    </tr>\n",
       "    <tr>\n",
       "      <th>609</th>\n",
       "      <td>1</td>\n",
       "      <td>0</td>\n",
       "      <td>0</td>\n",
       "    </tr>\n",
       "    <tr>\n",
       "      <th>712</th>\n",
       "      <td>1</td>\n",
       "      <td>0</td>\n",
       "      <td>0</td>\n",
       "    </tr>\n",
       "    <tr>\n",
       "      <th>805</th>\n",
       "      <td>1</td>\n",
       "      <td>0</td>\n",
       "      <td>0</td>\n",
       "    </tr>\n",
       "  </tbody>\n",
       "</table>\n",
       "<p>155 rows × 3 columns</p>\n",
       "</div>"
      ],
      "text/plain": [
       "     protein_id  protein     gene\n",
       "0             0        0    19444\n",
       "1       1173665  1758959  3105730\n",
       "2        703064   749718    64634\n",
       "3        469464   346667    11683\n",
       "4        301013   153179     3670\n",
       "..          ...      ...      ...\n",
       "311           1        0        0\n",
       "387           2        0        0\n",
       "609           1        0        0\n",
       "712           1        0        0\n",
       "805           1        0        0\n",
       "\n",
       "[155 rows x 3 columns]"
      ]
     },
     "execution_count": 44,
     "metadata": {},
     "output_type": "execute_result"
    }
   ],
   "source": [
    "import numpy as np\n",
    "\n",
    "from vaep.pandas import combine_value_counts\n",
    "\n",
    "counts_by_level = combine_value_counts(pd.DataFrame(counters))\n",
    "counts_by_level = counts_by_level.replace(np.nan, 0).astype(int)\n",
    "counts_by_level"
   ]
  },
  {
   "cell_type": "markdown",
   "metadata": {},
   "source": [
    "Interpretation: Peptides are assigned \\# of times to a protein_id, protein or gene respectively."
   ]
  },
  {
   "cell_type": "markdown",
   "metadata": {},
   "source": [
    "Check that for all levels the same number of peptides are counted."
   ]
  },
  {
   "cell_type": "code",
   "execution_count": 45,
   "metadata": {},
   "outputs": [
    {
     "data": {
      "text/plain": [
       "protein_id    3210677\n",
       "protein       3210677\n",
       "gene          3210677\n",
       "dtype: int64"
      ]
     },
     "execution_count": 45,
     "metadata": {},
     "output_type": "execute_result"
    }
   ],
   "source": [
    "counts_by_level.sum()"
   ]
  },
  {
   "cell_type": "markdown",
   "metadata": {},
   "source": [
    "Plot the frequency of matched proteins to one peptide sequence:"
   ]
  },
  {
   "cell_type": "code",
   "execution_count": 46,
   "metadata": {},
   "outputs": [
    {
     "data": {
      "image/png": "[encoded data removed]",
      "text/plain": [
       "<Figure size 936x504 with 1 Axes>"
      ]
     },
     "metadata": {
      "needs_background": "light"
     },
     "output_type": "display_data"
    }
   ],
   "source": [
    "import matplotlib\n",
    "\n",
    "fig, ax = plt.subplots(figsize=(13, 7))\n",
    "\n",
    "ax = counts_by_level.iloc[:5].plot(kind=\"bar\", ax=ax)\n",
    "ax.set_ylabel(\"peptide counts\")\n",
    "ax.set_xlabel(\"number of matched levels\")\n",
    "# ax.yaxis.set_major_locator(matplotlib.ticker.MaxNLocator(integer=True))\n",
    "# ax.yaxis.set_major_locator(matplotlib.ticker.FixedLocator(['0', '500,000', '1,000,000', '1,500,000', '2,000,000', '2,500,000', '3,000,000', '3,500,000']))\n",
    "ax.yaxis.set_major_formatter(\"{x:,}\")\n",
    "# _y_ticks = ax.set_yticklabels(['0', '500,000', '1,000,000', '1,500,000', '2,000,000', '2,500,000', '3,000,000', '3,500,000'])\n",
    "from vaep.io_images import _savefig\n",
    "\n",
    "_savefig(fig, folder=\"figures\", name=\"fasta_top4\")"
   ]
  },
  {
   "cell_type": "code",
   "execution_count": 47,
   "metadata": {},
   "outputs": [
    {
     "data": {
      "text/plain": [
       "[Text(0, 0.0, '0.0'),\n",
       " Text(0, 500000.0, '500,000.0'),\n",
       " Text(0, 1000000.0, '1,000,000.0'),\n",
       " Text(0, 1500000.0, '1,500,000.0'),\n",
       " Text(0, 2000000.0, '2,000,000.0'),\n",
       " Text(0, 2500000.0, '2,500,000.0'),\n",
       " Text(0, 3000000.0, '3,000,000.0'),\n",
       " Text(0, 3500000.0, '3,500,000.0')]"
      ]
     },
     "execution_count": 47,
     "metadata": {},
     "output_type": "execute_result"
    }
   ],
   "source": [
    "ax.get_yticklabels()"
   ]
  },
  {
   "cell_type": "code",
   "execution_count": 48,
   "metadata": {},
   "outputs": [
    {
     "name": "stderr",
     "output_type": "stream",
     "text": [
      "<ipython-input-48-5df54054dcfd>:6: UserWarning: FixedFormatter should only be used together with FixedLocator\n",
      "  axes[0].set_yticklabels(['0', '500,000', '1,000,000', '1,500,000', '2,000,000', '2,500,000', '3,000,000', '3,500,000'])\n"
     ]
    },
    {
     "data": {
      "image/png": "[encoded data removed]",
      "text/plain": [
       "<Figure size 1224x720 with 4 Axes>"
      ]
     },
     "metadata": {
      "needs_background": "light"
     },
     "output_type": "display_data"
    }
   ],
   "source": [
    "fig, axes = plt.subplots(2, 2, figsize=(17, 10))\n",
    "axes = axes.flatten()\n",
    "\n",
    "counts_by_level.iloc[:10].plot(kind=\"bar\", ax=axes[0])\n",
    "axes[0].set_title(\"up to 9 matches\")\n",
    "axes[0].set_yticklabels(\n",
    "    [\n",
    "        \"0\",\n",
    "        \"500,000\",\n",
    "        \"1,000,000\",\n",
    "        \"1,500,000\",\n",
    "        \"2,000,000\",\n",
    "        \"2,500,000\",\n",
    "        \"3,000,000\",\n",
    "        \"3,500,000\",\n",
    "    ]\n",
    ")\n",
    "\n",
    "_start = 10\n",
    "for i, _end in enumerate([31, 61], start=1):\n",
    "    counts_by_level.iloc[_start:_end].plot(kind=\"bar\", ax=axes[i])\n",
    "    axes[i].set_title(f\"{_start} to {_end-1} matches\")\n",
    "    _start = _end\n",
    "\n",
    "i += 1\n",
    "counts_by_level.iloc[-30:].plot(kind=\"bar\", ax=axes[i])\n",
    "axes[i].set_title(f\"{30} most frequent matches\")\n",
    "\n",
    "\n",
    "axes = axes.reshape((2, 2))\n",
    "\n",
    "pad = 5  #  in point\n",
    "for i in range(2):\n",
    "    axes[-1, i].set_xlabel(\"Count of number of matches for a peptide\")\n",
    "    axes[i, 0].set_ylabel(\"number of peptides\")\n",
    "\n",
    "_ = fig.suptitle(\n",
    "    \"Frequency of peptides matched to x items of protein IDs, proteins (combining isotopes) and genes\",\n",
    "    fontsize=16,\n",
    ")\n",
    "\n",
    "\n",
    "fig.tight_layout()\n",
    "_savefig(fig, folder=\"figures\", name=\"fasta_mapping_counts\")"
   ]
  },
  {
   "cell_type": "markdown",
   "metadata": {},
   "source": [
    "check for homology of sequences in python?"
   ]
  },
  {
   "cell_type": "markdown",
   "metadata": {},
   "source": [
    "## Create Automated report\n",
    "\n",
    "- paragraph in tex for report\n",
    "- summary table"
   ]
  },
  {
   "cell_type": "code",
   "execution_count": 49,
   "metadata": {},
   "outputs": [
    {
     "name": "stdout",
     "output_type": "stream",
     "text": [
      "The theoretical analysis of the fasta files gives an idea about how many possible peptides \n",
      "can be expected by cleaving proteins by peptides. The hyperparameters for peptide creation are \n",
      "to consider the minimal peptide length to be 7 amino acids, \n",
      "to consider a maximum of 2 missed cleavage sites (default in MaxQuant) and \n",
      "to not add decoy peptides by reversing peptide sequences. \n",
      "\n",
      "A total of 10534 proteins have at least one more isoform. Collapsing isoforms into one protein results in 74416 proteins.\n",
      "There are 1948 protein IDs (or 1943 proteins) without a gene associated to them in the current faste files.\n",
      "Most of the 1943 proteins (2.61 percent of the unique proteins) not mapped to a gene name are deleted in the most current version of UniProt. The versioning of the fasta-files has to be investigated.\n",
      "Proteins are mapped to a total number of genes of 20492.\n",
      "\n",
      "Considering 2 missed cleavage site(s) there are 3,210,677 unique peptides.\n"
     ]
    }
   ],
   "source": [
    "print(_summary_text)"
   ]
  },
  {
   "cell_type": "code",
   "execution_count": 50,
   "metadata": {},
   "outputs": [],
   "source": [
    "os.makedirs(os.path.dirname(SUMMARY_FILE), exist_ok=True)\n",
    "with open(SUMMARY_FILE, \"w\") as f:\n",
    "    f.write(_summary_text)"
   ]
  },
  {
   "cell_type": "markdown",
   "metadata": {},
   "source": [
    "## Save mappings as JSON\n",
    "\n",
    "Each `protein_id` is an entry with the following information:\n",
    "```\n",
    "'meta': <fasta-header>\n",
    "'seq': <protein-sequence>\n",
    "'peptides': <list of list of peptide sequences: [[0-missed-cleavages, 1-missed-cleavage, 2-missed-cleavage]]>\n",
    "```"
   ]
  },
  {
   "cell_type": "code",
   "execution_count": 53,
   "metadata": {},
   "outputs": [
    {
     "name": "stdout",
     "output_type": "stream",
     "text": [
      "Wall time: 23.1 s\n"
     ]
    }
   ],
   "source": [
    "%%time\n",
    "import json\n",
    "\n",
    "from config import FN_FASTA_DB\n",
    "\n",
    "with open(FN_FASTA_DB, \"w\") as f:\n",
    "    json.dump(data_fasta, f, indent=4, sort_keys=False)"
   ]
  },
  {
   "cell_type": "code",
   "execution_count": 54,
   "metadata": {},
   "outputs": [
    {
     "data": {
      "text/plain": [
       "455.389931678772"
      ]
     },
     "execution_count": 54,
     "metadata": {},
     "output_type": "execute_result"
    }
   ],
   "source": [
    "os.stat(FN_FASTA_DB).st_size / 1024 / 1024"
   ]
  }
 ],
 "metadata": {
  "kernelspec": {
   "display_name": "vaep",
   "language": "python",
   "name": "vaep"
  },
  "language_info": {
   "codemirror_mode": {
    "name": "ipython",
    "version": 3
   },
   "file_extension": ".py",
   "mimetype": "text/x-python",
   "name": "python",
   "nbconvert_exporter": "python",
   "pygments_lexer": "ipython3",
   "version": "3.8.5"
  },
  "toc-autonumbering": true
 },
 "nbformat": 4,
 "nbformat_minor": 4
}
