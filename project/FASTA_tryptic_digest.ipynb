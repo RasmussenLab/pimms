{
 "cells": [
  {
   "cell_type": "markdown",
   "metadata": {},
   "source": [
    "# Process FASTA files\n",
    "- create theoretically considered peptides considere by search engines\n",
    "- dump results\n",
    "\n",
    "> Based on notebook received by Annelaura Bach and created by"
   ]
  },
  {
   "cell_type": "code",
   "execution_count": 1,
   "metadata": {},
   "outputs": [],
   "source": [
    "import pandas as pd\n",
    "from tqdm.notebook import tqdm"
   ]
  },
  {
   "cell_type": "markdown",
   "metadata": {},
   "source": [
    "## Core Functionality"
   ]
  },
  {
   "cell_type": "code",
   "execution_count": 2,
   "metadata": {},
   "outputs": [],
   "source": [
    "def cleave_to_tryptic(seq=\"\", num_missed_cleavages=1, reversed=False):\n",
    "#    Takes a sequence and returns an array of peptides cleaved C-term to R  and K\n",
    "#    number of missed cleavages can be 0 or 1\n",
    "#    works with single letter sequences\n",
    "#    :param seq:\n",
    "#    num_missed_cleavges,\n",
    "#    reversed: boolean flag. If true, append the reversed peptide spequences as well\n",
    "#    :return: list of strings\n",
    "    \n",
    "    if seq == \"\":\n",
    "        return\n",
    "    add_rxk = True  # flag for adding bonus peptides at patterns like KXR, which trypsin doesn't cleave efficiently\n",
    "\n",
    "    seq.replace(' ', '')  # sequence must not contain whitespaces todo: all whitespaces\n",
    "    seq = seq.upper()\n",
    "    seq = seq.replace('K', 'K ')  # introduce a white space so we can split there\n",
    "    seq = seq.replace('R', 'R ')\n",
    "    pep_seqs = seq.split()\n",
    "\n",
    "    last_pep = \"\"\n",
    "    temp_peps = []\n",
    "    if num_missed_cleavages == 0 and add_rxk:\n",
    "        for pep in pep_seqs:\n",
    "            if 0 < len(last_pep) <= 2:\n",
    "                temp_peps.append(last_pep+pep)\n",
    "            last_pep = pep\n",
    "        pep_seqs += temp_peps\n",
    "        \n",
    "    sec_last_pep = \"\"\n",
    "    if num_missed_cleavages == 1:  # add joined peptides\n",
    "        for pep in pep_seqs:\n",
    "            if last_pep != \"\":\n",
    "                temp_peps.append(last_pep + pep)\n",
    "            if add_rxk and sec_last_pep != \"\" and len(sec_last_pep) <= 2:\n",
    "                temp_peps.append(sec_last_pep + last_pep + pep)\n",
    "            sec_last_pep = last_pep  # sec_last_pep, last_pep = last_pep, pep ?\n",
    "            last_pep = pep\n",
    "        pep_seqs += temp_peps\n",
    "    # # if num_missed_cleavages == 2: todo: implement two missed cleavages\n",
    "\n",
    "    if reversed:\n",
    "        reversed_seqs = []\n",
    "        for pep in pep_seqs:\n",
    "            if str(pep).endswith('K'):  # change this to change the MW of the peptide\n",
    "                pep = pep[0:-1] + 'r'\n",
    "            elif str(pep).endswith('R'):\n",
    "                pep = pep[0:-1] + 'k'\n",
    "            rev_pep = pep[::-1]\n",
    "            reversed_seqs.append(rev_pep)\n",
    "\n",
    "        pep_seqs += reversed_seqs\n",
    "\n",
    "    return pep_seqs"
   ]
  },
  {
   "cell_type": "code",
   "execution_count": 3,
   "metadata": {},
   "outputs": [],
   "source": [
    "def read_fasta(fp):\n",
    "    \"\"\"Read a fasta file.\"\"\"\n",
    "    name, seq = None, []\n",
    "    for line in fp:\n",
    "        line = line.rstrip()\n",
    "        if line.startswith(\">\"):\n",
    "            if name: yield (name, ''.join(seq))\n",
    "            name, seq = line, []\n",
    "        else:\n",
    "            seq.append(line)\n",
    "    if name: yield (name, ''.join(seq))"
   ]
  },
  {
   "cell_type": "code",
   "execution_count": 4,
   "metadata": {},
   "outputs": [],
   "source": [
    "def iterFlatten(root):\n",
    "    \"\"\"Flatten a nested structure.\"\"\"\n",
    "    if isinstance(root, (list, tuple)):\n",
    "        for element in root:\n",
    "            for e in iterFlatten(element):\n",
    "                yield e\n",
    "    else:\n",
    "        yield root"
   ]
  },
  {
   "cell_type": "markdown",
   "metadata": {},
   "source": [
    "## Process Fasta Files\n",
    "\n",
    "First define input Folder and the file location of the created peptides:"
   ]
  },
  {
   "cell_type": "code",
   "execution_count": 5,
   "metadata": {},
   "outputs": [],
   "source": [
    "DATA_DIR  = 'data/fasta'\n",
    "OUTPUT_FILE = 'data/tryptic_peptides.json'"
   ]
  },
  {
   "cell_type": "code",
   "execution_count": 6,
   "metadata": {},
   "outputs": [
    {
     "name": "stdout",
     "output_type": "stream",
     "text": [
      "data\\fasta\\UP000005640_9606.fasta\n",
      "data\\fasta\\UP000005640_9606_additional.fasta\n"
     ]
    }
   ],
   "source": [
    "from src.file_utils import search_files\n",
    "fasta_files = search_files(path='.', query='.fasta')\n",
    "print(\"\\n\".join(fasta_files))"
   ]
  },
  {
   "cell_type": "markdown",
   "metadata": {},
   "source": [
    "Set input FASTA, Output .txt name, lower legth cutoff, missed cleavages and if to report reverse"
   ]
  },
  {
   "cell_type": "markdown",
   "metadata": {},
   "source": [
    "Tryptic digest of Fastas to Peptides >6 in list for matching with measured peptides  "
   ]
  },
  {
   "cell_type": "code",
   "execution_count": 7,
   "metadata": {},
   "outputs": [
    {
     "name": "stdout",
     "output_type": "stream",
     "text": [
      "Set hyperparameters for peptide creation:\n",
      "Minimal peptide length: 2\n",
      "Considered maximum of missed cleavage sites: 1\n",
      "Decoy reverse?: False\n"
     ]
    }
   ],
   "source": [
    "CUTOFF_LEN_PEP = 6\n",
    "MAX_MISSED_CLEAVAGES = 1\n",
    "DECOY_REVERSE = False\n",
    "\n",
    "print(\n",
    "    \"Set hyperparameters for peptide creation:\\n\"\n",
    "    f\"Minimal peptide length: {MAX_MISSED_CLEAVAGES+1}\\n\"\n",
    "    f\"Considered maximum of missed cleavage sites: {MAX_MISSED_CLEAVAGES}\\n\"\n",
    "    f\"Decoy reverse?: {DECOY_REVERSE}\")"
   ]
  },
  {
   "cell_type": "markdown",
   "metadata": {},
   "source": [
    "From the [Fasta Meta information](https://ebi14.uniprot.org/help/fasta-headers) the Identifier is extracted."
   ]
  },
  {
   "cell_type": "code",
   "execution_count": 8,
   "metadata": {},
   "outputs": [
    {
     "data": {
      "application/vnd.jupyter.widget-view+json": {
       "model_id": "dc71ed1f00ab40bc97d07edd10b2e8c2",
       "version_major": 2,
       "version_minor": 0
      },
      "text/plain": [
       "HBox(children=(FloatProgress(value=0.0, max=2.0), HTML(value='')))"
      ]
     },
     "metadata": {},
     "output_type": "display_data"
    },
    {
     "data": {
      "application/vnd.jupyter.widget-view+json": {
       "model_id": "c0d04e977134452ea0ddde34228f3741",
       "version_major": 2,
       "version_minor": 0
      },
      "text/plain": [
       "HBox(children=(FloatProgress(value=1.0, bar_style='info', layout=Layout(width='20px'), max=1.0), HTML(value=''…"
      ]
     },
     "metadata": {},
     "output_type": "display_data"
    },
    {
     "name": "stdout",
     "output_type": "stream",
     "text": [
      "\n"
     ]
    },
    {
     "data": {
      "application/vnd.jupyter.widget-view+json": {
       "model_id": "b1e7896aad084b6281f8a5ce9e6d525d",
       "version_major": 2,
       "version_minor": 0
      },
      "text/plain": [
       "HBox(children=(FloatProgress(value=1.0, bar_style='info', layout=Layout(width='20px'), max=1.0), HTML(value=''…"
      ]
     },
     "metadata": {},
     "output_type": "display_data"
    },
    {
     "name": "stdout",
     "output_type": "stream",
     "text": [
      "\n",
      "\n"
     ]
    }
   ],
   "source": [
    "peptides = {}\n",
    "\n",
    "for _fasta in tqdm(fasta_files):\n",
    "    \n",
    "    with open(_fasta) as fp:\n",
    "        for i, (metainfo, seq) in tqdm(enumerate(read_fasta(fp))):\n",
    "            name = metainfo.split(\"|\")[1]\n",
    "            _all_peptides = cleave_to_tryptic(seq, num_missed_cleavages=MAX_MISSED_CLEAVAGES, reversed=DECOY_REVERSE)\n",
    "            # ToDo: Check for key: what happens if key exists?\n",
    "            peptides[name] = [_pep for _pep in _all_peptides if len(_pep)> CUTOFF_LEN_PEP]            "
   ]
  },
  {
   "cell_type": "code",
   "execution_count": 9,
   "metadata": {},
   "outputs": [
    {
     "name": "stdout",
     "output_type": "stream",
     "text": [
      "Wall time: 7.04 ms\n"
     ]
    },
    {
     "data": {
      "text/plain": [
       "['P04196',\n",
       " 'D6RB42',\n",
       " 'D6R9U1',\n",
       " 'F5H6T9',\n",
       " 'C9JH19',\n",
       " 'Q86WG5-3',\n",
       " 'H3BVD2',\n",
       " 'D6RJ89',\n",
       " 'P78364',\n",
       " 'O43423']"
      ]
     },
     "execution_count": 9,
     "metadata": {},
     "output_type": "execute_result"
    }
   ],
   "source": [
    "%%time\n",
    "from random import sample\n",
    "sample(list(peptides), 10)"
   ]
  },
  {
   "cell_type": "markdown",
   "metadata": {},
   "source": [
    "`>tr` or `>sp`"
   ]
  },
  {
   "cell_type": "code",
   "execution_count": 10,
   "metadata": {},
   "outputs": [
    {
     "name": "stdout",
     "output_type": "stream",
     "text": [
      "Wall time: 11.1 s\n"
     ]
    }
   ],
   "source": [
    "%%time\n",
    "import json\n",
    "\n",
    "with open(OUTPUT_FILE, 'w') as f:\n",
    "    json.dump(peptides, f)"
   ]
  }
 ],
 "metadata": {
  "kernelspec": {
   "display_name": "Python 3",
   "language": "python",
   "name": "python3"
  },
  "language_info": {
   "codemirror_mode": {
    "name": "ipython",
    "version": 3
   },
   "file_extension": ".py",
   "mimetype": "text/x-python",
   "name": "python",
   "nbconvert_exporter": "python",
   "pygments_lexer": "ipython3",
   "version": "3.7.7"
  }
 },
 "nbformat": 4,
 "nbformat_minor": 4
}
