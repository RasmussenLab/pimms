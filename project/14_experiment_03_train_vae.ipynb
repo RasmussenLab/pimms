{
 "cells": [
  {
   "cell_type": "markdown",
   "id": "f0e1208b-9b36-4294-b3fd-910e05a82f2e",
   "metadata": {},
   "source": [
    "# Variational Autoencoder"
   ]
  },
  {
   "cell_type": "code",
   "execution_count": null,
   "id": "18b5d571-2956-4112-b22c-43d6c2146b06",
   "metadata": {},
   "outputs": [],
   "source": [
    "import logging\n",
    "from pathlib import Path\n",
    "from pprint import pprint\n",
    "from typing import Union, List\n",
    "\n",
    "from src.nb_imports import *\n",
    "\n",
    "import plotly.express as px\n",
    "\n",
    "# from fastai.losses import MSELossFlat\n",
    "# from fastai.learner import Learner\n",
    "\n",
    "\n",
    "import fastai\n",
    "# from fastai.tabular.all import *\n",
    "\n",
    "from fastai.basics import *\n",
    "from fastai.callback.all import *\n",
    "from fastai.torch_basics import *\n",
    "from fastai.data.all import *\n",
    "\n",
    "from fastai.tabular.all import *\n",
    "from fastai.collab import *\n",
    "\n",
    "# overwriting Recorder callback with custom plot_loss\n",
    "from vaep.models import plot_loss, RecorderDump, calc_net_weight_count\n",
    "from fastai import learner\n",
    "learner.Recorder.plot_loss = plot_loss\n",
    "# import fastai.callback.hook # Learner.summary\n",
    "\n",
    "import sklearn\n",
    "from sklearn.impute import SimpleImputer\n",
    "from sklearn.preprocessing import StandardScaler\n",
    "from sklearn.preprocessing import MinMaxScaler\n",
    "\n",
    "import vaep\n",
    "from vaep.analyzers import analyzers\n",
    "import vaep.model\n",
    "import vaep.models as models\n",
    "from vaep.models import ae\n",
    "from vaep.models import collab as vaep_collab\n",
    "from vaep.io.datasets import DatasetWithTarget\n",
    "from vaep.transform import VaepPipeline\n",
    "from vaep.io import datasplits\n",
    "# from vaep.io.dataloaders import get_dls, get_test_dl\n",
    "from vaep import sampling\n",
    "\n",
    "import src\n",
    "from src import config\n",
    "from vaep.logging import setup_logger\n",
    "logger = setup_logger(logger=logging.getLogger('vaep'))\n",
    "logger.info(\"Experiment 03 - Analysis of latent spaces and performance comparisions\")\n",
    "\n",
    "figures = {}  # collection of ax or figures"
   ]
  },
  {
   "cell_type": "markdown",
   "id": "43f062bb-8d2c-4afa-8a81-9e2a328050fe",
   "metadata": {},
   "source": [
    "Papermill script parameters:"
   ]
  },
  {
   "cell_type": "code",
   "execution_count": null,
   "id": "297f14bc-3c37-43fa-8217-f790f0593d78",
   "metadata": {
    "tags": [
     "parameters"
    ]
   },
   "outputs": [],
   "source": [
    "# files and folders\n",
    "folder_experiment:str = 'runs/experiment_03/df_intensities_proteinGroups_long_2017_2018_2019_2020_N05015_M04547/Q_Exactive_HF_X_Orbitrap_Exactive_Series_slot_#6070' # Datasplit folder with data for experiment\n",
    "folder_data:str = '' # specify data directory if needed\n",
    "file_format: str = 'pkl' # change default to pickled files\n",
    "fn_rawfile_metadata: str = 'data/files_selected_metadata.csv' # Machine parsed metadata from rawfile workflow\n",
    "# training\n",
    "epochs_max:int = 50  # Maximum number of epochs\n",
    "# early_stopping:bool = True # Wheather to use early stopping or not\n",
    "batch_size:int = 64 # Batch size for training (and evaluation)\n",
    "cuda:bool=True # Use the GPU for training?\n",
    "# model\n",
    "latent_dim:int = 15 # Dimensionality of encoding dimension (latent space of model)\n",
    "hidden_layers:Union[int,str] = 3 # A space separated string of layers, '50 20' for the encoder, reverse will be use for decoder\n",
    "force_train:bool = True # Force training when saved model could be used. Per default re-train model\n",
    "sample_idx_position: int = 0 # position of index which is sample ID"
   ]
  },
  {
   "cell_type": "code",
   "execution_count": null,
   "id": "14b284f5-55cc-4a2c-bb72-31828888bcb6",
   "metadata": {},
   "outputs": [],
   "source": [
    "# # folder_experiment = \"runs/experiment_03/df_intensities_peptides_long_2017_2018_2019_2020_N05011_M42725/Q_Exactive_HF_X_Orbitrap_Exactive_Series_slot_#6070\"\n",
    "# folder_experiment = \"runs/experiment_03/df_intensities_evidence_long_2017_2018_2019_2020_N05015_M49321/Q_Exactive_HF_X_Orbitrap_Exactive_Series_slot_#6070\"\n",
    "# latent_dim = 30\n",
    "# hidden_layers = \"1024 512 256\" # huge input dimension\n",
    "# # epochs_max = 2\n",
    "# # force_train = False"
   ]
  },
  {
   "cell_type": "markdown",
   "id": "1da8e04b-2eb2-4ecb-b1d1-2de871cd0a56",
   "metadata": {},
   "source": [
    "Some argument transformations"
   ]
  },
  {
   "cell_type": "code",
   "execution_count": null,
   "id": "0746e70f-0259-48d5-90ef-25fe4b59f9ac",
   "metadata": {},
   "outputs": [],
   "source": [
    "args = config.Config()\n",
    "args.fn_rawfile_metadata = fn_rawfile_metadata\n",
    "del fn_rawfile_metadata\n",
    "args.folder_experiment = Path(folder_experiment)\n",
    "del folder_experiment\n",
    "args.folder_experiment.mkdir(exist_ok=True, parents=True)\n",
    "args.file_format = file_format\n",
    "del file_format\n",
    "args.out_folder = args.folder_experiment\n",
    "if folder_data:\n",
    "    args.data = Path(folder_data)\n",
    "else:\n",
    "    args.data = args.folder_experiment / 'data'\n",
    "assert args.data.exists(), f\"Directory not found: {args.data}\"\n",
    "del folder_data\n",
    "args.out_figures = args.folder_experiment / 'figures'\n",
    "args.out_figures.mkdir(exist_ok=True)\n",
    "args.out_metrics = args.folder_experiment / 'metrics'\n",
    "args.out_metrics.mkdir(exist_ok=True)\n",
    "args.out_models = args.folder_experiment / 'models'\n",
    "args.out_models.mkdir(exist_ok=True)\n",
    "args.out_preds = args.folder_experiment / 'preds'\n",
    "args.out_preds.mkdir(exist_ok=True)\n",
    "# args.n_training_samples_max = n_training_samples_max; del n_training_samples_max\n",
    "args.epochs_max = epochs_max\n",
    "del epochs_max\n",
    "args.batch_size = batch_size\n",
    "del batch_size\n",
    "args.cuda = cuda\n",
    "del cuda\n",
    "args.latent_dim = latent_dim\n",
    "del latent_dim\n",
    "args.force_train = force_train\n",
    "del force_train\n",
    "args.sample_idx_position = sample_idx_position\n",
    "del sample_idx_position\n",
    "\n",
    "print(hidden_layers)\n",
    "if isinstance(hidden_layers, int):\n",
    "    args.hidden_layers = hidden_layers\n",
    "elif isinstance(hidden_layers, str):\n",
    "    args.hidden_layers = [int(x) for x in hidden_layers.split('_')]\n",
    "    # list(map(int, hidden_layers.split()))\n",
    "else:\n",
    "    raise ValueError(f\"hidden_layers is of unknown type {type(hidden_layers)}\")\n",
    "del hidden_layers\n",
    "args"
   ]
  },
  {
   "cell_type": "markdown",
   "id": "3d59f6d8-9cb1-461a-8d62-2ab4458cab60",
   "metadata": {},
   "source": [
    "Some naming conventions"
   ]
  },
  {
   "cell_type": "code",
   "execution_count": null,
   "id": "a19fe098-a029-4f71-b7fb-e652a9c16ac7",
   "metadata": {},
   "outputs": [],
   "source": [
    "TEMPLATE_MODEL_PARAMS = 'model_params_{}.json'"
   ]
  },
  {
   "cell_type": "markdown",
   "id": "976cc005-0c5f-4e88-9656-c549e613ca68",
   "metadata": {},
   "source": [
    "## Load data in long format"
   ]
  },
  {
   "cell_type": "code",
   "execution_count": null,
   "id": "6d9cc7bd-6b6f-40b9-8db7-c8228e4b03e3",
   "metadata": {},
   "outputs": [],
   "source": [
    "data = datasplits.DataSplits.from_folder(args.data, file_format=args.file_format) "
   ]
  },
  {
   "cell_type": "markdown",
   "id": "3ca12fc2-bf34-42ac-99b2-a78ff9fe7722",
   "metadata": {},
   "source": [
    "data is loaded in long format"
   ]
  },
  {
   "cell_type": "code",
   "execution_count": null,
   "id": "02bb6bf5-0eb1-4c73-9723-414b14eaf7c8",
   "metadata": {},
   "outputs": [],
   "source": [
    "data.train_X.sample(5)"
   ]
  },
  {
   "cell_type": "markdown",
   "id": "6045414b",
   "metadata": {},
   "source": [
    "Infer index names from long format "
   ]
  },
  {
   "cell_type": "code",
   "execution_count": null,
   "id": "44958473",
   "metadata": {},
   "outputs": [],
   "source": [
    "index_columns = list(data.train_X.index.names)\n",
    "sample_id = index_columns.pop(args.sample_idx_position)\n",
    "if len(index_columns) == 1: \n",
    "    index_column = index_columns.pop()\n",
    "    index_columns = None\n",
    "    logger.info(f\"{sample_id = }, single feature: {index_column = }\")\n",
    "else:\n",
    "    logger.info(f\"{sample_id = }, multiple features: {index_columns = }\")\n",
    "\n",
    "if not index_columns:\n",
    "    index_columns = [sample_id, index_column]\n",
    "else:\n",
    "    raise NotImplementedError(\"More than one feature: Needs to be implemented. see above logging output.\")"
   ]
  },
  {
   "cell_type": "markdown",
   "id": "a94ae06d-64dd-4f4f-abde-8485a8c8458e",
   "metadata": {},
   "source": [
    "load meta data for splits"
   ]
  },
  {
   "cell_type": "code",
   "execution_count": null,
   "id": "b5b945aa-9b4e-4487-8b09-dca289e64d9d",
   "metadata": {},
   "outputs": [],
   "source": [
    "df_meta = pd.read_csv(args.fn_rawfile_metadata, index_col=0)\n",
    "df_meta.loc[data.train_X.index.levels[0]]"
   ]
  },
  {
   "cell_type": "code",
   "execution_count": null,
   "id": "3f4fe98b-9ed7-4b54-be7c-1f186af98e8d",
   "metadata": {},
   "outputs": [],
   "source": [
    "torch.cuda.current_device(), torch.cuda.memory_allocated() "
   ]
  },
  {
   "cell_type": "markdown",
   "id": "a7ef773a-5588-4b11-9bd7-840b628eeaff",
   "metadata": {},
   "source": [
    "## Initialize Comparison\n",
    "\n",
    "- replicates idea for truely missing values: Define truth as by using n=3 replicates to impute\n",
    "  each sample\n",
    "- real test data:\n",
    "    - Not used for predictions or early stopping.\n",
    "    - [x] add some additional NAs based on distribution of data"
   ]
  },
  {
   "cell_type": "code",
   "execution_count": null,
   "id": "98f675b6-e619-45b6-8f04-b75237d212a7",
   "metadata": {},
   "outputs": [],
   "source": [
    "freq_peptides = sampling.frequency_by_index(data.train_X, 0)\n",
    "freq_peptides.head() # training data"
   ]
  },
  {
   "cell_type": "markdown",
   "id": "e02afb4e-ee91-4753-a118-7fa20fe621c9",
   "metadata": {},
   "source": [
    "### Produce some addional fake samples"
   ]
  },
  {
   "cell_type": "markdown",
   "id": "02d5763b-00fe-44ce-9dfa-b6e506045762",
   "metadata": {},
   "source": [
    "The validation fake NA is used to by all models to evaluate training performance. "
   ]
  },
  {
   "cell_type": "code",
   "execution_count": null,
   "id": "19eebaff-0e1e-4e44-ae40-12d2f0e75c74",
   "metadata": {},
   "outputs": [],
   "source": [
    "val_pred_fake_na = data.val_y.to_frame(name='observed')\n",
    "val_pred_fake_na"
   ]
  },
  {
   "cell_type": "code",
   "execution_count": null,
   "id": "3797a539-84d9-430a-8d16-7cc0eebfe9f5",
   "metadata": {
    "lines_to_next_cell": 2
   },
   "outputs": [],
   "source": [
    "test_pred_fake_na = data.test_y.to_frame(name='observed')\n",
    "test_pred_fake_na.describe()"
   ]
  },
  {
   "cell_type": "markdown",
   "id": "49eced7a-6cd7-414e-b974-4bd1dbe3a787",
   "metadata": {},
   "source": [
    "## Data in wide format\n",
    "\n",
    "- Autoencoder need data in wide format"
   ]
  },
  {
   "cell_type": "code",
   "execution_count": null,
   "id": "cff8caf4-ccc9-4a36-a992-2cc596abe51a",
   "metadata": {},
   "outputs": [],
   "source": [
    "data.to_wide_format()\n",
    "args.M = data.train_X.shape[-1]\n",
    "data.train_X.head()"
   ]
  },
  {
   "cell_type": "markdown",
   "id": "250715cb-42ae-4d15-bc05-4154519747ab",
   "metadata": {},
   "source": [
    "Calculate hidden layer dimensionality based on latent space dimension and number of hidden layers requested:"
   ]
  },
  {
   "cell_type": "code",
   "execution_count": null,
   "id": "c52bbe24-a349-4771-9af5-ab9969d59def",
   "metadata": {},
   "outputs": [],
   "source": [
    "if isinstance(args.hidden_layers, int):\n",
    "    args.overwrite_entry(entry='hidden_layers',\n",
    "                         value=ae.get_funnel_layers(dim_in=args.M, dim_latent=args.latent_dim, n_layers=args.hidden_layers))\n",
    "args"
   ]
  },
  {
   "cell_type": "markdown",
   "id": "5cc46767-49c9-487e-bf2d-19aacc9114c3",
   "metadata": {},
   "source": [
    "### Add interpolation performance"
   ]
  },
  {
   "cell_type": "code",
   "execution_count": null,
   "id": "92e63726-f163-4007-81f9-ee12b1e35fcd",
   "metadata": {},
   "outputs": [],
   "source": [
    "interpolated = vaep.pandas.interpolate(wide_df = data.train_X) \n",
    "val_pred_fake_na['interpolated'] = interpolated\n",
    "test_pred_fake_na['interpolated'] = interpolated\n",
    "del interpolated\n",
    "test_pred_fake_na"
   ]
  },
  {
   "cell_type": "markdown",
   "id": "21681578-dfc5-4f3c-ac7d-a0758ed5417b",
   "metadata": {},
   "source": [
    "### Fill Validation data with potentially missing features"
   ]
  },
  {
   "cell_type": "code",
   "execution_count": null,
   "id": "7952fe13",
   "metadata": {},
   "outputs": [],
   "source": [
    "data.train_X"
   ]
  },
  {
   "cell_type": "code",
   "execution_count": null,
   "id": "a0a0bcd9-22af-4dd9-af56-b041931ee918",
   "metadata": {},
   "outputs": [],
   "source": [
    "data.val_y # potentially has less features"
   ]
  },
  {
   "cell_type": "code",
   "execution_count": null,
   "id": "9f0826f9",
   "metadata": {
    "tags": []
   },
   "outputs": [],
   "source": [
    "data.val_y = pd.DataFrame(pd.NA, index=data.train_X.index, columns=data.train_X.columns).fillna(data.val_y)\n",
    "data.val_y"
   ]
  },
  {
   "cell_type": "markdown",
   "id": "6de7a68e-34a3-463f-a1b3-7c76a8855ca0",
   "metadata": {},
   "source": [
    "## Variational Autoencoder"
   ]
  },
  {
   "cell_type": "markdown",
   "id": "7f5c05d4-d0bb-476f-b955-ac5822c38f86",
   "metadata": {},
   "source": [
    "### Transform of data"
   ]
  },
  {
   "cell_type": "code",
   "execution_count": null,
   "id": "e0d0d02f",
   "metadata": {},
   "outputs": [],
   "source": [
    "_model_key = 'VAE'\n",
    "\n",
    "vae_default_pipeline = sklearn.pipeline.Pipeline(\n",
    "    [\n",
    "        ('normalize', StandardScaler()),\n",
    "        ('impute', SimpleImputer(add_indicator=False))\n",
    "    ])"
   ]
  },
  {
   "cell_type": "markdown",
   "id": "ae2f194f-a879-4190-89b9-5b370a827212",
   "metadata": {},
   "source": [
    "### Analysis: DataLoaders, Model"
   ]
  },
  {
   "cell_type": "code",
   "execution_count": null,
   "id": "43d49b4a-00ec-4874-8839-28a3cbc0e3b3",
   "metadata": {},
   "outputs": [],
   "source": [
    "from torch.nn import Sigmoid\n",
    "\n",
    "ana_vae = ae.AutoEncoderAnalysis(  # datasplits=data,\n",
    "    train_df=data.train_X,\n",
    "    val_df=data.val_y,\n",
    "    model=ae.VAE,\n",
    "    model_kwargs=dict(n_features=data.train_X.shape[-1],\n",
    "                      n_neurons=args.hidden_layers,\n",
    "                      last_encoder_activation=None,\n",
    "                      last_decoder_activation=None,\n",
    "                      dim_latent=args.latent_dim),\n",
    "    transform=vae_default_pipeline,\n",
    "    decode=['normalize'])\n",
    "args.n_params_vae = ana_vae.n_params_ae\n",
    "if args.cuda:\n",
    "    ana_vae.model = ana_vae.model.cuda()\n",
    "ana_vae.model"
   ]
  },
  {
   "cell_type": "markdown",
   "id": "ef5410d9-8b64-45bc-96d3-4b04145043c0",
   "metadata": {},
   "source": [
    "### Training"
   ]
  },
  {
   "cell_type": "code",
   "execution_count": null,
   "id": "f4b0aec2",
   "metadata": {},
   "outputs": [],
   "source": [
    "# papermill_description=train_vae\n",
    "# import functools\n",
    "# loss_fct = functools.partial(ae.loss_fct_vae, reduction='mean')\n",
    "ana_vae.learn = Learner(dls=ana_vae.dls,\n",
    "                        model=ana_vae.model,\n",
    "                        loss_func=ae.loss_fct_vae, #loss_fct\n",
    "                        cbs=[ae.ModelAdapterVAE(), EarlyStoppingCallback()])\n",
    "\n",
    "ana_vae.learn.show_training_loop()\n",
    "# learn.summary() # see comment above under DAE"
   ]
  },
  {
   "cell_type": "code",
   "execution_count": null,
   "id": "563a1e0a",
   "metadata": {},
   "outputs": [],
   "source": [
    "suggested_lr = ana_vae.learn.lr_find()\n",
    "ana_vae.params['suggested_inital_lr'] = suggested_lr.valley\n",
    "suggested_lr"
   ]
  },
  {
   "cell_type": "markdown",
   "id": "c0f4eaee-f308-4081-aa16-0579fe9df7fe",
   "metadata": {},
   "source": [
    "dump model config"
   ]
  },
  {
   "cell_type": "code",
   "execution_count": null,
   "id": "ec77d9e5-f619-4355-ab37-2bd44029236d",
   "metadata": {},
   "outputs": [],
   "source": [
    "# needs class as argument, not instance, but serialization needs instance\n",
    "ana_vae.params['last_decoder_activation'] = Sigmoid()\n",
    "\n",
    "vaep.io.dump_json(\n",
    "    vaep.io.parse_dict(\n",
    "        ana_vae.params, types=[\n",
    "            (torch.nn.modules.module.Module, lambda m: str(m))\n",
    "        ]),\n",
    "    args.out_models / TEMPLATE_MODEL_PARAMS.format(_model_key.lower()))\n",
    "\n",
    "# restore original value\n",
    "ana_vae.params['last_decoder_activation'] = Sigmoid"
   ]
  },
  {
   "cell_type": "code",
   "execution_count": null,
   "id": "43d18ab6",
   "metadata": {
    "tags": []
   },
   "outputs": [],
   "source": [
    "ana_vae.learn.fit_one_cycle(args.epochs_max, lr_max=suggested_lr.valley)"
   ]
  },
  {
   "cell_type": "code",
   "execution_count": null,
   "id": "3a4f91f9-c1a2-40c5-99d4-c289fb89cff8",
   "metadata": {
    "tags": []
   },
   "outputs": [],
   "source": [
    "fig = models.plot_training_losses(ana_vae.learn, 'VAE', folder=args.out_figures)"
   ]
  },
  {
   "cell_type": "markdown",
   "id": "9db46826-6ab0-47b5-942c-0edc08a15e35",
   "metadata": {},
   "source": [
    "### Predictions\n",
    "create predictions and select validation data predictions"
   ]
  },
  {
   "cell_type": "code",
   "execution_count": null,
   "id": "e73fb4dd-e73a-48df-82b7-b378fd3ee266",
   "metadata": {},
   "outputs": [],
   "source": [
    "pred, target = res = ae.get_preds_from_df(df=data.train_X, learn=ana_vae.learn,\n",
    "                                          position_pred_tuple=0,\n",
    "                                          transformer=ana_vae.transform)\n",
    "val_pred_fake_na['VAE'] = pred.stack()\n",
    "val_pred_fake_na"
   ]
  },
  {
   "cell_type": "markdown",
   "id": "2bee87a3-d33f-4a89-8224-3e2f7409db8f",
   "metadata": {},
   "source": [
    "select test data predictions"
   ]
  },
  {
   "cell_type": "code",
   "execution_count": null,
   "id": "b4d1fd73-9eb7-4f25-ad81-c42c6a840e77",
   "metadata": {},
   "outputs": [],
   "source": [
    "test_pred_fake_na['VAE'] = pred.stack()\n",
    "test_pred_fake_na"
   ]
  },
  {
   "cell_type": "markdown",
   "id": "d6c3dd2a-a30c-4e72-b5e8-7de2a7469eb2",
   "metadata": {},
   "source": [
    "### Plots\n",
    "\n",
    "- validation data"
   ]
  },
  {
   "cell_type": "code",
   "execution_count": null,
   "id": "7999c89e-65fe-4c00-8e20-cb8ab88d1603",
   "metadata": {},
   "outputs": [],
   "source": [
    "ana_vae.model = ana_vae.model.cpu()\n",
    "df_vae_latent = vaep.model.get_latent_space(ana_vae.model.get_mu_and_logvar,\n",
    "                                            dl=ana_vae.dls.valid,\n",
    "                                            dl_index=ana_vae.dls.valid.data.index)\n",
    "df_vae_latent"
   ]
  },
  {
   "cell_type": "code",
   "execution_count": null,
   "id": "1fdd8f86-639e-4e0e-bb89-466f3ba0ef7b",
   "metadata": {},
   "outputs": [],
   "source": [
    "ana_latent_vae = analyzers.LatentAnalysis(df_vae_latent,\n",
    "                                          df_meta,\n",
    "                                          _model_key,\n",
    "                                          folder=args.out_figures)\n",
    "figures[f'latent_{_model_key.lower()}_by_date'], ax = ana_latent_vae.plot_by_date(\n",
    "    'Content Creation Date')"
   ]
  },
  {
   "cell_type": "code",
   "execution_count": null,
   "id": "763a5633-a9dd-4785-a0c0-91f588346c22",
   "metadata": {},
   "outputs": [],
   "source": [
    "# Could be created in data as an ID from three instrument variables\n",
    "_cat = 'ms_instrument'\n",
    "figures[f'latent_{_model_key.lower()}_by_{_cat}'], ax = ana_latent_vae.plot_by_category('instrument serial number')"
   ]
  },
  {
   "cell_type": "markdown",
   "id": "29f16d62-f1c8-4447-bdd3-2d3161b6346f",
   "metadata": {},
   "source": [
    "## Comparisons\n",
    "\n",
    "> Note: The interpolated values have less predictions for comparisons than the ones based on models (Collab, DAE, VAE)  \n",
    "> The comparison is therefore not 100% fair as the interpolated samples will have more common ones (especailly the sparser the data)  \n",
    "> Could be changed."
   ]
  },
  {
   "cell_type": "markdown",
   "id": "861b9b3c-11d0-4cda-98c9-fadea16e47c4",
   "metadata": {},
   "source": [
    "### Validation data\n",
    "\n",
    "- all measured (identified, observed) peptides in validation data\n",
    "\n",
    "> Does not make to much sense to compare collab and AEs,  \n",
    "> as the setup differs of training and validation data differs"
   ]
  },
  {
   "cell_type": "code",
   "execution_count": null,
   "id": "d825e38e-f3d6-4bca-b621-150267e7b7bc",
   "metadata": {},
   "outputs": [],
   "source": [
    "# papermill_description=metrics\n",
    "d_metrics = models.Metrics(no_na_key='NA interpolated', with_na_key='NA not interpolated')"
   ]
  },
  {
   "cell_type": "markdown",
   "id": "55b9b887-a644-4086-8399-e27b533bd22a",
   "metadata": {},
   "source": [
    "The fake NA for the validation step are real test data (not used for training nor early stopping)"
   ]
  },
  {
   "cell_type": "code",
   "execution_count": null,
   "id": "855a7a6f-93fd-4612-9d8d-96541a2441be",
   "metadata": {
    "tags": []
   },
   "outputs": [],
   "source": [
    "added_metrics = d_metrics.add_metrics(val_pred_fake_na, 'valid_fake_na')\n",
    "added_metrics"
   ]
  },
  {
   "cell_type": "markdown",
   "id": "80fda7f1-3024-46bc-a3c1-17f509016bd4",
   "metadata": {
    "tags": []
   },
   "source": [
    "### Test Datasplit\n",
    "\n",
    "Fake NAs : Artificially created NAs. Some data was sampled and set explicitly to misssing before it was fed to the model for reconstruction."
   ]
  },
  {
   "cell_type": "code",
   "execution_count": null,
   "id": "571ac8d4-bb5d-45db-bba8-59817e476304",
   "metadata": {
    "tags": []
   },
   "outputs": [],
   "source": [
    "added_metrics = d_metrics.add_metrics(test_pred_fake_na, 'test_fake_na')\n",
    "added_metrics"
   ]
  },
  {
   "cell_type": "markdown",
   "id": "b388de9d-0387-486a-9481-d673e0fec88b",
   "metadata": {},
   "source": [
    "Save all metrics as json"
   ]
  },
  {
   "cell_type": "code",
   "execution_count": null,
   "id": "87910434-7d07-4e8e-8380-c92fc515bd16",
   "metadata": {
    "tags": []
   },
   "outputs": [],
   "source": [
    "vaep.io.dump_json(d_metrics.metrics, args.out_metrics / f'metrics_{_model_key.lower()}.json')"
   ]
  },
  {
   "cell_type": "code",
   "execution_count": null,
   "id": "7d99deb9-9aad-4ba9-b79d-e4b3c6c7f023",
   "metadata": {
    "tags": []
   },
   "outputs": [],
   "source": [
    "def get_df_from_nested_dict(nested_dict, column_levels=['data_split', 'model', 'metric_name']):\n",
    "    metrics = {}\n",
    "    for k, run_metrics in nested_dict.items():\n",
    "        metrics[k] = vaep.pandas.flatten_dict_of_dicts(run_metrics)\n",
    "\n",
    "    metrics_dict_multikey = metrics\n",
    "\n",
    "    metrics = pd.DataFrame.from_dict(metrics, orient='index')\n",
    "    metrics.columns.names = column_levels\n",
    "    metrics.index.name = 'subset'\n",
    "    return metrics\n",
    "\n",
    "\n",
    "metrics_df = get_df_from_nested_dict(d_metrics.metrics).T\n",
    "metrics_df"
   ]
  },
  {
   "cell_type": "markdown",
   "id": "15a2c775-22b2-4169-9345-852d25564169",
   "metadata": {},
   "source": [
    "### Plot metrics"
   ]
  },
  {
   "cell_type": "code",
   "execution_count": null,
   "id": "414171e0-83d5-407c-98c0-8ab544e6b517",
   "metadata": {},
   "outputs": [],
   "source": [
    "plotly_view = metrics_df.stack().unstack(-2).set_index('N', append=True)\n",
    "plotly_view.head()"
   ]
  },
  {
   "cell_type": "markdown",
   "id": "3144d54a-fc7b-4967-bfdb-e32ae46ca788",
   "metadata": {},
   "source": [
    "#### Fake NA which could be interpolated\n",
    "\n",
    "- bulk of validation and test data"
   ]
  },
  {
   "cell_type": "code",
   "execution_count": null,
   "id": "ec7ffdac-5131-42e6-951f-6db4f7016e17",
   "metadata": {},
   "outputs": [],
   "source": [
    "plotly_view.loc[pd.IndexSlice[:, :, 'NA interpolated']]"
   ]
  },
  {
   "cell_type": "code",
   "execution_count": null,
   "id": "b2e9af56-6a0d-4cf9-9a0f-a7ec4142ebdf",
   "metadata": {},
   "outputs": [],
   "source": [
    "subset = 'NA interpolated'\n",
    "fig = px.scatter(plotly_view.loc[pd.IndexSlice[:, :, subset]].stack().to_frame('metric_value').reset_index(),\n",
    "                 x=\"data_split\",\n",
    "                 y='metric_value',\n",
    "                 color=\"model\",\n",
    "                 facet_row=\"metric_name\",\n",
    "                 # facet_col=\"subset\",\n",
    "                 hover_data='N',\n",
    "                 title=f'Performance for {subset}',\n",
    "                 labels={\"data_split\": \"data\",\n",
    "                         \"metric_value\": '', 'metric_name': 'metric'},\n",
    "                 height=500,\n",
    "                 width=300,\n",
    "                 )\n",
    "fig.show()"
   ]
  },
  {
   "cell_type": "markdown",
   "id": "03dcbcb2-5094-4d78-8a07-0e039e8d493f",
   "metadata": {},
   "source": [
    "#### Fake NA which could not be interpolated\n",
    "\n",
    "- small fraction of total validation and test data\n",
    "\n",
    "> not interpolated fake NA values are harder to predict for models  \n",
    "> Note however: fewer predicitons might mean more variability of results"
   ]
  },
  {
   "cell_type": "code",
   "execution_count": null,
   "id": "d554dff6-9e36-4444-9b82-dec2e2219da1",
   "metadata": {},
   "outputs": [],
   "source": [
    "plotly_view.loc[pd.IndexSlice[:, :, 'NA not interpolated']]"
   ]
  },
  {
   "cell_type": "code",
   "execution_count": null,
   "id": "b04efd95-4b02-43ec-9efb-4150f07ef430",
   "metadata": {},
   "outputs": [],
   "source": [
    "subset = 'NA not interpolated'\n",
    "fig = px.scatter(plotly_view.loc[pd.IndexSlice[:, :, subset]].stack().to_frame('metric_value').reset_index(),\n",
    "                 x=\"data_split\",\n",
    "                 y='metric_value',\n",
    "                 color=\"model\",\n",
    "                 facet_row=\"metric_name\",\n",
    "                 # facet_col=\"subset\",\n",
    "                 hover_data='N',\n",
    "                 title=f'Performance for {subset}',\n",
    "                 labels={\"data_split\": \"data\",\n",
    "                         \"metric_value\": '', 'metric_name': 'metric'},\n",
    "                 height=500,\n",
    "                 width=300,\n",
    "                 )\n",
    "fig.show()"
   ]
  },
  {
   "cell_type": "markdown",
   "id": "42f2c184-e9ef-42be-ae87-7cbf52a0c0b6",
   "metadata": {
    "tags": []
   },
   "source": [
    "## Config"
   ]
  },
  {
   "cell_type": "markdown",
   "id": "2b49894b-876e-428b-bbba-18229db8b984",
   "metadata": {},
   "source": [
    "## Save predictions"
   ]
  },
  {
   "cell_type": "code",
   "execution_count": null,
   "id": "782636ac-c979-4f8b-9fc0-66fd0c7a3a8b",
   "metadata": {},
   "outputs": [],
   "source": [
    "val_pred_fake_na.to_csv(args.out_preds / f\"pred_val_{_model_key.lower()}.csv\")\n",
    "test_pred_fake_na.to_csv(args.out_preds / f\"pred_test_{_model_key.lower()}.csv\")"
   ]
  },
  {
   "cell_type": "code",
   "execution_count": null,
   "id": "0f13cb38-abf0-4b56-9399-3d11d32f7fbc",
   "metadata": {},
   "outputs": [],
   "source": [
    "args.dump(fname=args.out_models/ f\"model_config_{_model_key.lower()}.yaml\")\n",
    "args"
   ]
  }
 ],
 "metadata": {
  "interpreter": {
   "hash": "cf83e9cb890c7f96eb0ae04f39a82254555f56a1a0ed2f03b23a8b40fe6cd31c"
  },
  "jupytext": {
   "formats": "ipynb,md,py:percent"
  },
  "kernelspec": {
   "display_name": "Python 3",
   "language": "python",
   "name": "python3"
  },
  "language_info": {
   "codemirror_mode": {
    "name": "ipython",
    "version": 3
   },
   "file_extension": ".py",
   "mimetype": "text/x-python",
   "name": "python",
   "nbconvert_exporter": "python",
   "pygments_lexer": "ipython3",
   "version": "3.8.13"
  },
  "toc-autonumbering": true
 },
 "nbformat": 4,
 "nbformat_minor": 5
}
