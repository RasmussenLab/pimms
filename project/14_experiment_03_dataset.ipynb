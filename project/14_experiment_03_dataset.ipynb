{
 "cells": [
  {
   "cell_type": "markdown",
   "metadata": {},
   "source": [
    "# Datasets\n",
    "\n",
    "Datasets are `Iterable` (through their `__getitem__` and `__len__` attribute).\n",
    "Datasets are provided to `DataLoaders` which perform the aggreation to batches."
   ]
  },
  {
   "cell_type": "code",
   "execution_count": 1,
   "metadata": {},
   "outputs": [],
   "source": [
    "import numpy as np\n",
    "import pandas as pd\n",
    "import vaep.io.datasets as datasets\n",
    "import vaep.tests.helpers as test_data"
   ]
  },
  {
   "cell_type": "code",
   "execution_count": 2,
   "metadata": {},
   "outputs": [],
   "source": [
    "N, M = 15, 7\n",
    "data = test_data.create_random_missing_data(N, M)"
   ]
  },
  {
   "cell_type": "markdown",
   "metadata": {},
   "source": [
    "## Datasets\n",
    "\n",
    "- `PeptideDatasetInMemory`\n",
    "- `PeptideDatasetInMemoryMasked`\n",
    "- `PeptideDatasetInMemoryNoMissings`"
   ]
  },
  {
   "cell_type": "markdown",
   "metadata": {
    "tags": []
   },
   "source": [
    "## `DatasetWithMaskAndNoTarget`"
   ]
  },
  {
   "cell_type": "code",
   "execution_count": 3,
   "metadata": {},
   "outputs": [
    {
     "data": {
      "text/plain": [
       "(tensor([24.2070, 23.3077, 21.1193, 22.3930, 21.7593, 26.0015,     nan],\n",
       "        dtype=torch.float64),\n",
       " tensor([False, False, False, False, False, False,  True]))"
      ]
     },
     "execution_count": 3,
     "metadata": {},
     "output_type": "execute_result"
    }
   ],
   "source": [
    "dataset = datasets.DatasetWithMaskAndNoTarget(df=pd.DataFrame(data))\n",
    "for _mask, _array in dataset:\n",
    "    break\n",
    "_array, _mask"
   ]
  },
  {
   "cell_type": "markdown",
   "metadata": {},
   "source": [
    "###  `PeptideDatasetInMemory`\n",
    "\n",
    "- with duplicated target in memory"
   ]
  },
  {
   "cell_type": "code",
   "execution_count": 4,
   "metadata": {},
   "outputs": [
    {
     "data": {
      "text/plain": [
       "(tensor([24.2070, 23.3077, 21.1193, 22.3930, 21.7593, 26.0015,  0.0000]),\n",
       " tensor([ True,  True,  True,  True,  True,  True, False]),\n",
       " tensor([24.2070, 23.3077, 21.1193, 22.3930, 21.7593, 26.0015,     nan]))"
      ]
     },
     "execution_count": 4,
     "metadata": {},
     "output_type": "execute_result"
    }
   ],
   "source": [
    "dataset = datasets.PeptideDatasetInMemory(data)\n",
    "for _array, _mask, _target in dataset:\n",
    "    break\n",
    "_array, _mask, _target"
   ]
  },
  {
   "cell_type": "code",
   "execution_count": 5,
   "metadata": {},
   "outputs": [
    {
     "data": {
      "text/plain": [
       "(1887755107280, 1887755189840, 1887755190160)"
      ]
     },
     "execution_count": 5,
     "metadata": {},
     "output_type": "execute_result"
    }
   ],
   "source": [
    "id(_array), id(_mask), id(_target) "
   ]
  },
  {
   "cell_type": "code",
   "execution_count": 6,
   "metadata": {},
   "outputs": [
    {
     "data": {
      "text/plain": [
       "False"
      ]
     },
     "execution_count": 6,
     "metadata": {},
     "output_type": "execute_result"
    }
   ],
   "source": [
    "_array is _target # should be true"
   ]
  },
  {
   "cell_type": "code",
   "execution_count": 7,
   "metadata": {},
   "outputs": [
    {
     "name": "stdout",
     "output_type": "stream",
     "text": [
      "tensor([False, False,  True, False, False, False,  True]) tensor([27.2777, 24.2437, 25.0000, 25.9134, 25.5872, 24.8014, 25.0000],\n",
      "       dtype=torch.float64)\n"
     ]
    }
   ],
   "source": [
    "data = test_data.create_random_missing_data(N, M, prop_missing=0.3)\n",
    "dataset = datasets.PeptideDatasetInMemoryMasked(df=pd.DataFrame(data), fill_na=25.0)\n",
    "\n",
    "for _array, _mask in dataset:\n",
    "    if any(_mask):\n",
    "        print(_array, _mask)\n",
    "        break"
   ]
  },
  {
   "cell_type": "markdown",
   "metadata": {},
   "source": [
    "### `DatasetWithTarget`"
   ]
  },
  {
   "cell_type": "code",
   "execution_count": 12,
   "metadata": {},
   "outputs": [
    {
     "name": "stdout",
     "output_type": "stream",
     "text": [
      "tensor([25.9559, 22.4594, 28.5827, 24.1366,     nan, 27.6225, 22.9695],\n",
      "       dtype=torch.float64)\n",
      "tensor([False, False, False, False,  True, False, False])\n",
      "tensor([25.9559, 22.4594, 28.5827, 24.1366,     nan, 27.6225, 22.9695],\n",
      "       dtype=torch.float64)\n"
     ]
    }
   ],
   "source": [
    "data = test_data.create_random_missing_data(N, M, prop_missing=0.3)\n",
    "dataset = datasets.DatasetWithTarget(df=pd.DataFrame(data))\n",
    "\n",
    "for _mask, _array, target in dataset:\n",
    "    if any(_mask):\n",
    "        print(_array, _mask, target, sep='\\n')\n",
    "        break"
   ]
  },
  {
   "cell_type": "markdown",
   "metadata": {},
   "source": [
    "### `PeptideDatasetInMemoryNoMissings`"
   ]
  },
  {
   "cell_type": "code",
   "execution_count": null,
   "metadata": {},
   "outputs": [],
   "source": [
    "# data and pd.DataFrame.data share the same memory\n",
    "try:\n",
    "    dataset = datasets.PeptideDatasetInMemoryNoMissings(data)\n",
    "    for _array in dataset:\n",
    "        print(_array)\n",
    "        break\n",
    "except AssertionError as e:\n",
    "    print(e)"
   ]
  },
  {
   "cell_type": "markdown",
   "metadata": {},
   "source": [
    "## DataLoaders\n",
    "\n",
    "FastAI DataLoaders accept pytorch datasets"
   ]
  },
  {
   "cell_type": "code",
   "execution_count": null,
   "metadata": {},
   "outputs": [],
   "source": [
    "from fastai.collab import CollabDataLoaders\n",
    "# , MSELossFlat, Learner\n",
    "# from fastai.collab import EmbeddingDotBias\n",
    "\n",
    "from vaep.io.datasplits import long_format\n",
    "\n",
    "\n",
    "\n",
    "df_long = long_format(pd.DataFrame(data))\n",
    "df_long.index.names = ('Sample ID', 'peptide')\n",
    "df_long.reset_index(inplace=True)\n",
    "df_long.head()"
   ]
  },
  {
   "cell_type": "code",
   "execution_count": null,
   "metadata": {},
   "outputs": [],
   "source": [
    "dls = CollabDataLoaders.from_df(df_long,  valid_pct=0.15, \n",
    "                                user_name='Sample ID', item_name='peptide', rating_name='intensity',\n",
    "                               bs=4)\n",
    "type(dls.dataset), dls.dataset._dl_type # no __mro__?"
   ]
  },
  {
   "cell_type": "markdown",
   "metadata": {},
   "source": [
    "Iterating over the dataset gives the column names"
   ]
  },
  {
   "cell_type": "code",
   "execution_count": null,
   "metadata": {},
   "outputs": [],
   "source": [
    "for x in dls.dataset:\n",
    "    print(x)"
   ]
  },
  {
   "cell_type": "markdown",
   "metadata": {},
   "source": [
    "Training DataFrame is hidden under items"
   ]
  },
  {
   "cell_type": "code",
   "execution_count": null,
   "metadata": {},
   "outputs": [],
   "source": [
    "dls.dataset.items"
   ]
  },
  {
   "cell_type": "code",
   "execution_count": null,
   "metadata": {},
   "outputs": [],
   "source": [
    "for x in dls.train_ds:\n",
    "    print(x)\n",
    "    break"
   ]
  },
  {
   "cell_type": "code",
   "execution_count": null,
   "metadata": {},
   "outputs": [],
   "source": [
    "dls.train_ds"
   ]
  },
  {
   "cell_type": "markdown",
   "metadata": {},
   "source": [
    "Iterating over the dataset returns columns, not single rows"
   ]
  },
  {
   "cell_type": "code",
   "execution_count": null,
   "metadata": {},
   "outputs": [],
   "source": [
    "dls.train_ds.__getitem__??"
   ]
  },
  {
   "cell_type": "code",
   "execution_count": null,
   "metadata": {},
   "outputs": [],
   "source": [
    "dls.train_ds.items['Sample ID']"
   ]
  },
  {
   "cell_type": "markdown",
   "metadata": {},
   "source": [
    "But the `DataLoader` return the numeric representation in batches:"
   ]
  },
  {
   "cell_type": "code",
   "execution_count": null,
   "metadata": {},
   "outputs": [],
   "source": [
    "for batch in dls.train:\n",
    "    break\n",
    "batch"
   ]
  },
  {
   "cell_type": "code",
   "execution_count": null,
   "metadata": {},
   "outputs": [],
   "source": [
    "dls.train.__iter__??"
   ]
  },
  {
   "cell_type": "code",
   "execution_count": null,
   "metadata": {},
   "outputs": [],
   "source": [
    "from torch.utils.data.dataloader import _SingleProcessDataLoaderIter\n",
    "_SingleProcessDataLoaderIter??"
   ]
  },
  {
   "cell_type": "markdown",
   "metadata": {},
   "source": [
    "So.. It seems too complicated\n",
    "- the `_collate_fn` seems to aggrete the data from the DataFrame\n",
    "- should be possible to keep track of that "
   ]
  },
  {
   "cell_type": "code",
   "execution_count": null,
   "metadata": {},
   "outputs": [],
   "source": [
    "next(iter(dls.dataset))\n"
   ]
  },
  {
   "cell_type": "code",
   "execution_count": null,
   "metadata": {},
   "outputs": [],
   "source": []
  }
 ],
 "metadata": {
  "interpreter": {
   "hash": "ca718f398b3a596c3df6787ca2afa269ec54c58eb9478d66aeb41db8e6cb8262"
  },
  "kernelspec": {
   "display_name": "vaep",
   "language": "python",
   "name": "vaep"
  },
  "language_info": {
   "codemirror_mode": {
    "name": "ipython",
    "version": 3
   },
   "file_extension": ".py",
   "mimetype": "text/x-python",
   "name": "python",
   "nbconvert_exporter": "python",
   "pygments_lexer": "ipython3",
   "version": "3.8.12"
  }
 },
 "nbformat": 4,
 "nbformat_minor": 4
}
