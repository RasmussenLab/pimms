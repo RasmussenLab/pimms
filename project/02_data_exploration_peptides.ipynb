{
 "cells": [
  {
   "cell_type": "markdown",
   "metadata": {
    "Collapsed": "false"
   },
   "source": [
    "# Peptides"
   ]
  },
  {
   "cell_type": "code",
   "execution_count": null,
   "metadata": {
    "Collapsed": "false"
   },
   "outputs": [],
   "source": [
    "import os\n",
    "from src import config\n",
    "from vaep.analyzers import analyzers"
   ]
  },
  {
   "cell_type": "code",
   "execution_count": null,
   "metadata": {
    "Collapsed": "false"
   },
   "outputs": [],
   "source": [
    "import numpy as np\n",
    "import pandas as pd\n",
    "import seaborn as sns\n",
    "import matplotlib.pyplot as plt\n",
    "\n",
    "from sklearn import preprocessing\n",
    "from sklearn.decomposition import PCA"
   ]
  },
  {
   "cell_type": "code",
   "execution_count": null,
   "metadata": {
    "Collapsed": "false"
   },
   "outputs": [],
   "source": [
    "pd.options.display.max_columns = 100\n",
    "pd.options.display.min_rows = 30"
   ]
  },
  {
   "cell_type": "markdown",
   "metadata": {},
   "source": [
    "Data file and other configurations:\n",
    "\n",
    "- [ ] file reader for peptide intensities"
   ]
  },
  {
   "cell_type": "code",
   "execution_count": null,
   "metadata": {},
   "outputs": [],
   "source": [
    "FN_PEPTIDE_INTENSITIES = config.FOLDER_DATA / 'df_intensities_N07813_M01000'\n",
    "\n",
    "analysis = analyzers.AnalyzePeptides.from_file(FN_PEPTIDE_INTENSITIES, index_col=0)\n",
    "peptides = analysis.df"
   ]
  },
  {
   "cell_type": "code",
   "execution_count": null,
   "metadata": {},
   "outputs": [],
   "source": [
    "analysis.df.iloc[:10, :10]"
   ]
  },
  {
   "cell_type": "code",
   "execution_count": null,
   "metadata": {
    "Collapsed": "false"
   },
   "outputs": [],
   "source": [
    "X = analysis.df\n",
    "INDEX_NAME = 'Sample ID'\n",
    "X.index.name = INDEX_NAME"
   ]
  },
  {
   "cell_type": "code",
   "execution_count": null,
   "metadata": {
    "Collapsed": "false"
   },
   "outputs": [],
   "source": [
    "N_MIN_OBS = 10\n",
    "mask_min_obsevation = X.notna().sum() >= N_MIN_OBS\n",
    "mask_min_obsevation.sum()"
   ]
  },
  {
   "cell_type": "markdown",
   "metadata": {},
   "source": [
    "## Cleaning step\n",
    "\n",
    "- remove fractionated samples (need to be re-run and added to the analysis)"
   ]
  },
  {
   "cell_type": "code",
   "execution_count": null,
   "metadata": {},
   "outputs": [],
   "source": [
    "queries = set()\n",
    "\n",
    "def find_indices_containing_query(query):\n",
    "    mask = X.index.str.contains(query)\n",
    "    X_query = X.loc[mask].sort_index()\n",
    "    queries.add(query)\n",
    "    return X_query"
   ]
  },
  {
   "cell_type": "code",
   "execution_count": null,
   "metadata": {},
   "outputs": [],
   "source": [
    "X_frac = find_indices_containing_query('[Ff]rac')\n",
    "X_frac.index"
   ]
  },
  {
   "cell_type": "code",
   "execution_count": null,
   "metadata": {},
   "outputs": [],
   "source": [
    "def get_unique_stub(X:pd.Index):\n",
    "    # X_frac_unique = sorted(list(set())) # matches too much\n",
    "    ret = X.str.split('frac').str[0].str.rsplit('_', n=1).str[0]\n",
    "    return sorted(list(set(ret)))\n",
    "\n",
    "X_frac_unique = get_unique_stub(X_frac.index)"
   ]
  },
  {
   "cell_type": "code",
   "execution_count": null,
   "metadata": {},
   "outputs": [],
   "source": [
    "from functools import partial\n",
    "import ipywidgets as widgets\n",
    "\n",
    "def show_fractions(stub:str, df):\n",
    "    subset = df[df.index.str.contains(stub)]\n",
    "    display(subset)\n",
    "    display(subset.notna().sum(axis=1))\n",
    "\n",
    "w_data = widgets.Dropdown(options=X_frac_unique, index=0)\n",
    "    \n",
    "# show_fractions(stub=X_frac_unique[2], df=X_frac)\n",
    "\n",
    "show_fractions = partial(show_fractions, df=X_frac)\n",
    "out_sel = widgets.interactive_output(show_fractions, {'stub': w_data})\n",
    "widgets.VBox([w_data, out_sel])"
   ]
  },
  {
   "cell_type": "markdown",
   "metadata": {},
   "source": [
    "- check for file names with `exp`. Some seem to be fractionated samples"
   ]
  },
  {
   "cell_type": "code",
   "execution_count": null,
   "metadata": {},
   "outputs": [],
   "source": [
    "X_exp = find_indices_containing_query('_exp\\d_')\n",
    "X_exp.index"
   ]
  },
  {
   "cell_type": "code",
   "execution_count": null,
   "metadata": {},
   "outputs": [],
   "source": [
    "assert find_indices_containing_query('[gG][pP][fF]').empty"
   ]
  },
  {
   "cell_type": "code",
   "execution_count": null,
   "metadata": {},
   "outputs": [],
   "source": [
    "find_indices_containing_query('[cC][vV]').index"
   ]
  },
  {
   "cell_type": "markdown",
   "metadata": {},
   "source": [
    "remove singe fraction samples (need to be quantified as one)"
   ]
  },
  {
   "cell_type": "code",
   "execution_count": null,
   "metadata": {},
   "outputs": [],
   "source": [
    "X.drop(labels=X_frac.index, inplace=True)\n",
    "X.drop(labels=X_exp.index, inplace=True)"
   ]
  },
  {
   "cell_type": "code",
   "execution_count": null,
   "metadata": {},
   "outputs": [],
   "source": [
    "# should be part of analysis\n",
    "mask_less_than_500 = X.notna().sum(axis=1) < 500\n",
    "print(X.loc[mask_less_than_500].sort_index().notna().sum(axis=1).to_string()) #'samples_potentially_fractionated.txt'"
   ]
  },
  {
   "cell_type": "code",
   "execution_count": null,
   "metadata": {},
   "outputs": [],
   "source": [
    "['concat', 'HpH', 'ingel']"
   ]
  },
  {
   "cell_type": "markdown",
   "metadata": {
    "Collapsed": "false"
   },
   "source": [
    "## Peptitome is spares"
   ]
  },
  {
   "cell_type": "code",
   "execution_count": null,
   "metadata": {
    "Collapsed": "false"
   },
   "outputs": [],
   "source": [
    "def get_sorted_not_missing(X:pd.DataFrame):\n",
    "    \"\"\"Return a Dataframe with missing values. Order columns by degree of completness \n",
    "    over columns from variables least to most shared among observations.\"\"\"\n",
    "    X = X.notna().astype(int)\n",
    "    return X[X.mean().sort_values().index]\n"
   ]
  },
  {
   "cell_type": "code",
   "execution_count": null,
   "metadata": {
    "Collapsed": "false",
    "tags": []
   },
   "outputs": [],
   "source": [
    "%time not_missing = get_sorted_not_missing(X)\n",
    "not_missing.iloc[:,-10:].describe()"
   ]
  },
  {
   "cell_type": "code",
   "execution_count": null,
   "metadata": {
    "Collapsed": "false"
   },
   "outputs": [],
   "source": [
    "not_missing.iloc[:10,-10:]"
   ]
  },
  {
   "cell_type": "code",
   "execution_count": null,
   "metadata": {
    "Collapsed": "false",
    "tags": []
   },
   "outputs": [],
   "source": [
    "grid_kws = {\"width_ratios\": (.9, .05), \"hspace\": 0.5}\n",
    "N_MOST_COMMON_PEPTIDES = 300\n",
    "data_to_visualize = not_missing.iloc[:, -N_MOST_COMMON_PEPTIDES:]\n",
    "print(f\"Look at missingness pattern of {N_MOST_COMMON_PEPTIDES} most common peptides across sample.\\n\"\n",
    "      f\"Data matrix dimension used for printing: { data_to_visualize.shape}\"  )\n",
    "\n",
    "fig_heatmap_missing, (axes_heatmap_missing, cbar_ax) = plt.subplots(1, 2, gridspec_kw=grid_kws, figsize=(12,8))\n",
    "axes_heatmap_missing = sns.heatmap(data_to_visualize, \n",
    "                                   ax=axes_heatmap_missing,\n",
    "                                   cbar_ax=cbar_ax,\n",
    "                                   cbar_kws={\"orientation\": \"vertical\"})\n"
   ]
  },
  {
   "cell_type": "markdown",
   "metadata": {},
   "source": [
    "White patches indicates that a peptide has been measured, black means it was not measured. Some samples (rows) have few of the most common peptides. This suggests to set a minimum of total peptides in a sample, which is common pratice. \n",
    "\n",
    "> An algorithm should work with the most common peptides and base it's inference capabilities after training on these."
   ]
  },
  {
   "cell_type": "code",
   "execution_count": null,
   "metadata": {
    "Collapsed": "false",
    "tags": []
   },
   "outputs": [],
   "source": [
    "# # This currently crashes if you want to have a pdf\n",
    "from datetime import datetime\n",
    "datetime_now = datetime.now()\n",
    "\n",
    "from vaep.plotting import _savefig\n",
    "_savefig(fig_heatmap_missing, f'peptides_heatmap_missing_{datetime_now:%y%m%d}', folder=config.FIGUREFOLDER, pdf=False)"
   ]
  },
  {
   "cell_type": "markdown",
   "metadata": {
    "Collapsed": "false"
   },
   "source": [
    "## Sample stats"
   ]
  },
  {
   "cell_type": "code",
   "execution_count": null,
   "metadata": {
    "Collapsed": "false"
   },
   "outputs": [],
   "source": [
    "TYPE = 'peptides'\n",
    "COL_NO_MISSING, COL_NO_IDENTIFIED = f'no_missing_{TYPE}', f'no_identified_{TYPE}'\n",
    "COL_PROP_SAMPLES = 'prop_samples'\n",
    "\n",
    "def compute_stats_missing(X):\n",
    "    \"\"\"Dataset of repeated samples indicating if an observation\n",
    "    has the variables observed or missing x\\in\\{0,1\\}\"\"\"\n",
    "    sample_stats = X.index.to_frame(index=False).reset_index()\n",
    "    sample_stats.columns = ['SampleID_int', 'INDEX']\n",
    "    sample_stats.set_index('INDEX', inplace=True)\n",
    "    \n",
    "    sample_stats[COL_NO_IDENTIFIED] = X.sum(axis=1)\n",
    "    sample_stats[COL_NO_MISSING] = (X == 0).sum(axis=1)\n",
    "\n",
    "    assert all(sample_stats[[COL_NO_IDENTIFIED, COL_NO_MISSING]].sum(axis=1) == X.shape[1])\n",
    "    sample_stats = sample_stats.sort_values(by=COL_NO_IDENTIFIED, ascending=False)\n",
    "    sample_stats[COL_PROP_SAMPLES] = np.array(range(1,len(sample_stats)+1)) / len(sample_stats)\n",
    "    return sample_stats\n",
    "\n",
    "sample_stats = compute_stats_missing(not_missing)"
   ]
  },
  {
   "cell_type": "code",
   "execution_count": null,
   "metadata": {
    "Collapsed": "false"
   },
   "outputs": [],
   "source": [
    "sample_stats"
   ]
  },
  {
   "cell_type": "code",
   "execution_count": null,
   "metadata": {
    "Collapsed": "false"
   },
   "outputs": [],
   "source": [
    "fig_ident = sns.relplot(x='SampleID_int', y=COL_NO_IDENTIFIED, data=sample_stats) \n",
    "fig_ident.set_axis_labels('Sample ID', f'Frequency of identified {TYPE}')\n",
    "fig_ident.fig.suptitle(f'Frequency of identified {TYPE} by sample id', y=1.03)\n",
    "_savefig(fig_ident, f'identified_{TYPE}_by_sample', folder=config.FIGUREFOLDER)\n",
    "\n",
    "fig_ident_dist = sns.relplot(x=COL_PROP_SAMPLES, y=COL_NO_IDENTIFIED, data=sample_stats)\n",
    "fig_ident_dist.set_axis_labels('Proportion of samples (sorted by frequency)', f'Frequency of identified {TYPE}')\n",
    "fig_ident_dist.fig.suptitle(f'Frequency of identified {TYPE} groups by sample id', y=1.03)\n",
    "_savefig(fig_ident_dist, f'identified_{TYPE}_ordered', folder=config.FIGUREFOLDER)"
   ]
  },
  {
   "cell_type": "code",
   "execution_count": null,
   "metadata": {
    "Collapsed": "false"
   },
   "outputs": [],
   "source": [
    "COL_NO_MISSING_PROP = COL_NO_MISSING + '_PROP'\n",
    "sample_stats[COL_NO_MISSING_PROP]= sample_stats[COL_NO_MISSING] / float(X.shape[1])\n",
    "\n",
    "# from ggplot import *\n",
    "# ggplot(aes(x='nan_proc'), data = nonnan) + geom_histogram(binwidth = 0.005) #+ ylim(0,0.025)\n",
    "sns.set(style=\"darkgrid\")\n",
    "g = sns.relplot(x='prop_samples', y=COL_NO_MISSING_PROP, data=sample_stats)\n",
    "plt.subplots_adjust(top=0.9)\n",
    "g.set_axis_labels(\"Proportion of samples (sorted by frequency)\", \"proportion missing\")\n",
    "g.fig.suptitle(f'Proportion of missing {TYPE} ordered')\n",
    "_savefig(g, \"proportion_proteins_missing\", folder=config.FIGUREFOLDER)"
   ]
  },
  {
   "cell_type": "markdown",
   "metadata": {
    "Collapsed": "false"
   },
   "source": [
    "## Look at sequences"
   ]
  },
  {
   "cell_type": "code",
   "execution_count": null,
   "metadata": {
    "Collapsed": "false"
   },
   "outputs": [],
   "source": [
    "class SequenceAnalyser():\n",
    "    \n",
    "    def __init__(self, sequences : pd.Series):\n",
    "        if not isinstance(sequences, pd.Series):\n",
    "            raise ValueError(\"Please provide a pandas.Series, not {}\".format(type(sequences)))\n",
    "        self.sequences = sequences\n",
    "    \n",
    "    def calc_counts(self,n_characters):\n",
    "        return self.sequences.str[:n_characters].value_counts()\n",
    "    \n",
    "    def length(self):\n",
    "        return self.sequences.str.len().sort_values()\n",
    "    "
   ]
  },
  {
   "cell_type": "code",
   "execution_count": null,
   "metadata": {
    "Collapsed": "false"
   },
   "outputs": [],
   "source": [
    "sequences = SequenceAnalyser(analysis.df.columns.to_series())\n",
    "sequences.length()"
   ]
  },
  {
   "cell_type": "code",
   "execution_count": null,
   "metadata": {
    "Collapsed": "false"
   },
   "outputs": [],
   "source": [
    "import ipywidgets as w\n",
    "w.interact(sequences.calc_counts, n_characters=w.IntSlider(value=4, min=1, max=55))"
   ]
  },
  {
   "cell_type": "code",
   "execution_count": null,
   "metadata": {
    "Collapsed": "false"
   },
   "outputs": [],
   "source": [
    "sequences_p4 = sequences.calc_counts(4)\n",
    "display(sequences_p4.head())\n",
    "sequences_p4.loc[sequences_p4.isin(('CON_','REV_'))].sort_index()"
   ]
  },
  {
   "cell_type": "markdown",
   "metadata": {
    "Collapsed": "false"
   },
   "source": [
    "What to do when \n",
    "\n",
    "\n",
    "```\n",
    "AAAAAAAAAAGAAGGRGSGPGR\n",
    "AAAAAAAAAAGAAGGRGSGPGRR\n",
    "\n",
    "AAAANSGSSLPLFDCPTWAGKPPPGLHLDVVK\n",
    "AAAANSGSSLPLFDCPTWAGKPPPGLHLDVVKGDK\n",
    "```\n",
    "\n"
   ]
  },
  {
   "cell_type": "markdown",
   "metadata": {
    "Collapsed": "false"
   },
   "source": [
    "## Select Proteins"
   ]
  },
  {
   "cell_type": "markdown",
   "metadata": {
    "Collapsed": "false"
   },
   "source": [
    "### Minumum required sample quality\n",
    "First define the minum requirement of a sample to be kept in "
   ]
  },
  {
   "cell_type": "code",
   "execution_count": null,
   "metadata": {
    "Collapsed": "false",
    "tags": []
   },
   "outputs": [],
   "source": [
    "import ipywidgets as w\n",
    "MIN_DEPTH_SAMPLE = 1500\n",
    "w_min_depth_sample = w.IntSlider(value=MIN_DEPTH_SAMPLE, min=0, max=max(sample_stats[COL_NO_IDENTIFIED]))\n",
    "print(f'Minimum {TYPE} per sample observed:')\n",
    "w_min_depth_sample"
   ]
  },
  {
   "cell_type": "code",
   "execution_count": null,
   "metadata": {
    "Collapsed": "false",
    "tags": []
   },
   "outputs": [],
   "source": [
    "mask_samples = sample_stats[COL_NO_IDENTIFIED] >= w_min_depth_sample.value\n",
    "print(f\"Selected {mask_samples.sum()} samples\")"
   ]
  },
  {
   "cell_type": "code",
   "execution_count": null,
   "metadata": {
    "Collapsed": "false"
   },
   "outputs": [],
   "source": [
    "from vaep.data_handling import coverage\n",
    "x_50 = coverage(X.loc[mask_samples], coverage_col=0.5, coverage_row=0.2)\n",
    "# x_50_pca = log_z_zeroone_na(x_50) # there is a huge difference if NA is set to low value or mean!!\n",
    "x_90 = coverage(X.loc[mask_samples], 0.9, 0.9)"
   ]
  },
  {
   "cell_type": "code",
   "execution_count": null,
   "metadata": {
    "Collapsed": "false"
   },
   "outputs": [],
   "source": [
    "x_50.shape, x_90.shape"
   ]
  },
  {
   "cell_type": "code",
   "execution_count": null,
   "metadata": {
    "Collapsed": "false"
   },
   "outputs": [],
   "source": [
    "x_90.sample()"
   ]
  },
  {
   "cell_type": "markdown",
   "metadata": {
    "Collapsed": "false"
   },
   "source": [
    "### Distribution of Intensity values\n",
    "- comparing non-transformed to $\\log_{10}$ transformed"
   ]
  },
  {
   "cell_type": "code",
   "execution_count": null,
   "metadata": {
    "Collapsed": "false",
    "tags": []
   },
   "outputs": [],
   "source": [
    "from vaep.transform import log\n",
    "from random import sample\n",
    "sample = x_50.sample()\n",
    "sample_id = int(sample_stats.loc[sample.index].SampleID_int)\n",
    "print(\"Sample ID:\", sample_id)\n",
    "sns.set(style=\"darkgrid\")\n",
    "\n",
    "fig, axes = plt.subplots(1,2, figsize=(10,3))\n",
    "sns.distplot(sample, bins=100, ax=axes[0])\n",
    "axes[0].set_title(\"Unnormalized distribution\")\n",
    "\n",
    "sample_log = log(sample) # natural logarithm, could also be base_2, base_10 logarithm\n",
    "sns.distplot(sample_log, bins=100, ax=axes[1])\n",
    "axes[1].set_title('log (ln) normalized distribution')\n",
    "\n",
    "_ = fig.suptitle(f\"Dynamic Range of measured intensities in sample {sample_id}\")\n",
    "fig.tight_layout(rect=[0, 0.03, 1, 0.95])\n",
    "_savefig(fig, 'distribution_peptides_sample_' + str(sample_id))"
   ]
  },
  {
   "cell_type": "code",
   "execution_count": null,
   "metadata": {
    "Collapsed": "false",
    "tags": []
   },
   "outputs": [],
   "source": [
    "from vaep.transform import log\n",
    "from random import sample\n",
    "sample = x_50.sample(axis=1)\n",
    "sample_id = sample.columns[0]\n",
    "print(\"Sample ID:\", sample_id)\n",
    "sns.set(style=\"darkgrid\")\n",
    "fig, axes = plt.subplots(1,2, figsize=(10,3))\n",
    "sns.distplot(sample, bins=100, ax=axes[0])\n",
    "axes[0].set_title(\"Unnormalized distribution\")\n",
    "\n",
    "sample_log = log(sample) # natural logarithm, could also be base_2, base_10 logarithm\n",
    "sns.distplot(sample_log, bins=100, ax=axes[1])\n",
    "axes[1].set_title('log (ln) normalized distribution')\n",
    "\n",
    "fig.suptitle(f\"Dynamic range of {sample_id} between samples\")\n",
    "fig.tight_layout(rect=[0, 0.03, 1, 0.95])\n",
    "_savefig(fig, 'distribution_peptides_sample_' + str(sample_id))"
   ]
  },
  {
   "cell_type": "markdown",
   "metadata": {
    "Collapsed": "false"
   },
   "source": [
    "### Reference table intensities (natural logarithm)\n",
    "\n",
    "14 to 23 spans a dynamic range of 3 orders of base 10"
   ]
  },
  {
   "cell_type": "code",
   "execution_count": null,
   "metadata": {
    "Collapsed": "false"
   },
   "outputs": [],
   "source": [
    "pd.set_option('precision', 2)\n",
    "\n",
    "dynamic_range = pd.DataFrame(range(14, 24), columns=['x'])\n",
    "dynamic_range['$e^x$'] = dynamic_range.x.apply(np.exp)\n",
    "dynamic_range.set_index('x', inplace=True)\n",
    "dynamic_range.index.name = ''\n",
    "dynamic_range.T"
   ]
  },
  {
   "cell_type": "markdown",
   "metadata": {
    "Collapsed": "false"
   },
   "source": [
    "## Next UP"
   ]
  },
  {
   "cell_type": "markdown",
   "metadata": {
    "Collapsed": "false"
   },
   "source": [
    "### Find Protein of Peptides\n",
    "- check with some reference list of peptides: This is created in `project\\FASTA_tryptic_digest.ipynb` "
   ]
  },
  {
   "cell_type": "code",
   "execution_count": null,
   "metadata": {
    "Collapsed": "false"
   },
   "outputs": [],
   "source": []
  },
  {
   "cell_type": "code",
   "execution_count": null,
   "metadata": {},
   "outputs": [],
   "source": []
  }
 ],
 "metadata": {
  "kernelspec": {
   "display_name": "vaep",
   "language": "python",
   "name": "vaep"
  },
  "language_info": {
   "codemirror_mode": {
    "name": "ipython",
    "version": 3
   },
   "file_extension": ".py",
   "mimetype": "text/x-python",
   "name": "python",
   "nbconvert_exporter": "python",
   "pygments_lexer": "ipython3",
   "version": "3.8.12"
  },
  "nbdime-conflicts": {
   "local_diff": [
    {
     "diff": [
      {
       "diff": [
        {
         "diff": [
          {
           "key": 4,
           "op": "addrange",
           "valuelist": "5"
          },
          {
           "key": 4,
           "length": 1,
           "op": "removerange"
          }
         ],
         "key": 0,
         "op": "patch"
        }
       ],
       "key": "version",
       "op": "patch"
      }
     ],
     "key": "language_info",
     "op": "patch"
    }
   ],
   "remote_diff": [
    {
     "diff": [
      {
       "diff": [
        {
         "key": 0,
         "length": 1,
         "op": "removerange"
        }
       ],
       "key": "version",
       "op": "patch"
      }
     ],
     "key": "language_info",
     "op": "patch"
    }
   ]
  }
 },
 "nbformat": 4,
 "nbformat_minor": 4
}
