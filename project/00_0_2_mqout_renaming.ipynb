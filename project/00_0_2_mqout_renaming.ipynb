{
 "cells": [
  {
   "cell_type": "markdown",
   "id": "349432fa",
   "metadata": {},
   "source": [
    "# Rename file names in MaxQuant output files\n",
    "renaming the folder of outputs does not delete all occurences of the names\n",
    "in the text files. This needs to be done manually by the PRIDE team using a shell script\n",
    "that uses `sed` to replace the old names with the new ones.\n",
    "\n",
    "uses the list of output as stored on pride dropbox server and meta data of old and new name"
   ]
  },
  {
   "cell_type": "code",
   "execution_count": null,
   "id": "8a10bc6a",
   "metadata": {
    "lines_to_next_cell": 2
   },
   "outputs": [],
   "source": [
    "from collections import defaultdict\n",
    "from pathlib import Path, PurePosixPath\n",
    "import pandas as pd"
   ]
  },
  {
   "cell_type": "code",
   "execution_count": null,
   "id": "614edb34",
   "metadata": {},
   "outputs": [],
   "source": [
    "FOLDER = Path('data/rename')\n",
    "meta_in = FOLDER / 'selected_old_new_id_mapping.csv'\n",
    "fn_server_log: str = 'data/rename/mq_out_server.log'  # server log of all uploaded files"
   ]
  },
  {
   "cell_type": "code",
   "execution_count": null,
   "id": "d67125f5",
   "metadata": {},
   "outputs": [],
   "source": [
    "df_meta = pd.read_csv(meta_in, index_col='new_sample_id')\n",
    "df_meta"
   ]
  },
  {
   "cell_type": "code",
   "execution_count": null,
   "id": "f1acf13f",
   "metadata": {
    "title": "[makrdown]"
   },
   "outputs": [],
   "source": [
    "# ## Create commands to rename file names in text files itself\n",
    "# - only subset of files contain original file names on exection of MaxQuant"
   ]
  },
  {
   "cell_type": "code",
   "execution_count": null,
   "id": "e700c55f",
   "metadata": {},
   "outputs": [],
   "source": [
    "files_types = [\"modificationSpecificPeptides.txt\",\n",
    "               \"mqpar.xml\",\n",
    "               \"mzRange.txt\",\n",
    "               \"Oxidation (M)Sites.txt\",\n",
    "               \"summary.txt\",]"
   ]
  },
  {
   "cell_type": "code",
   "execution_count": null,
   "id": "2c31e15b",
   "metadata": {},
   "outputs": [],
   "source": [
    "name_lookup = df_meta[\"Sample ID\"].reset_index().set_index(\"new_sample_id\")\n",
    "name_lookup"
   ]
  },
  {
   "cell_type": "code",
   "execution_count": null,
   "id": "4fff3884",
   "metadata": {},
   "outputs": [],
   "source": [
    "to_rename = list()\n",
    "command_template = 'sed -i \"s/{old_name}/{new_name}/g\" \"{fn}\"'\n",
    "counter = defaultdict(int)\n",
    "\n",
    "with open(fn_server_log) as f:\n",
    "    for line in f:\n",
    "        fname = PurePosixPath(line.strip())\n",
    "        if fname.name in files_types:\n",
    "            new_name = fname.parent.name\n",
    "            old_name = name_lookup.loc[new_name, 'Sample ID']\n",
    "            command = command_template.format(old_name=old_name,\n",
    "                                              new_name=new_name,\n",
    "                                              fn=fname)\n",
    "            to_rename.append(command)\n",
    "\n",
    "            counter[fname.name] += 1\n",
    "len(to_rename)"
   ]
  },
  {
   "cell_type": "code",
   "execution_count": null,
   "id": "87426e9a",
   "metadata": {},
   "outputs": [],
   "source": [
    "# mqpar.xml missing in some folders\n",
    "pd.Series(counter)  # maybe one folder has some missing?"
   ]
  },
  {
   "cell_type": "code",
   "execution_count": null,
   "id": "46727631",
   "metadata": {},
   "outputs": [],
   "source": [
    "with open(FOLDER / 'sed_rename_commands.sh', 'w') as f:\n",
    "    f.writelines('\\n'.join(to_rename))"
   ]
  }
 ],
 "metadata": {
  "jupytext": {
   "cell_metadata_filter": "title,-all",
   "notebook_metadata_filter": "-all"
  },
  "kernelspec": {
   "display_name": "vaep",
   "language": "python",
   "name": "vaep"
  },
  "language_info": {
   "codemirror_mode": {
    "name": "ipython",
    "version": 3
   },
   "file_extension": ".py",
   "mimetype": "text/x-python",
   "name": "python",
   "nbconvert_exporter": "python",
   "pygments_lexer": "ipython3",
   "version": "3.8.13"
  }
 },
 "nbformat": 4,
 "nbformat_minor": 5
}
