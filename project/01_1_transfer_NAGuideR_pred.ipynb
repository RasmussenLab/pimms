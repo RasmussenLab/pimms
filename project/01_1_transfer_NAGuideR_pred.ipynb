{
 "cells": [
  {
   "cell_type": "markdown",
   "id": "a75efcbe-2ae0-4609-872a-759fb5c80af1",
   "metadata": {},
   "source": [
    "# Transfer predictions from NAGuideR"
   ]
  },
  {
   "cell_type": "code",
   "execution_count": null,
   "id": "f29b93d1",
   "metadata": {},
   "outputs": [],
   "source": [
    "import logging\n",
    "import pandas as pd\n",
    "import seaborn as sns\n",
    "\n",
    "import vaep\n",
    "import vaep.models\n",
    "from vaep.io import datasplits\n",
    "import vaep.pandas\n",
    "from vaep.pandas import calc_errors\n",
    "\n",
    "\n",
    "logger = vaep.logging.setup_logger(logging.getLogger('vaep'))"
   ]
  },
  {
   "cell_type": "code",
   "execution_count": null,
   "id": "cbf23f02",
   "metadata": {},
   "outputs": [],
   "source": [
    "# catch passed parameters\n",
    "args = None\n",
    "args = dict(globals()).keys()"
   ]
  },
  {
   "cell_type": "markdown",
   "id": "8b02b864",
   "metadata": {},
   "source": [
    "Papermill script parameters:"
   ]
  },
  {
   "cell_type": "code",
   "execution_count": null,
   "id": "a08a34aa",
   "metadata": {
    "tags": [
     "parameters"
    ]
   },
   "outputs": [],
   "source": [
    "# files and folders\n",
    "# Datasplit folder with data for experiment\n",
    "folder_experiment: str = 'runs/example'\n",
    "folder_data: str = ''  # specify data directory if needed\n",
    "file_format: str = 'csv'  # file format of create splits, default pickle (csv)\n",
    "identifer_str: str = '_all_'  # identifier for prediction files to be filtered\n",
    "dumps: list = None  # list of dumps to be used"
   ]
  },
  {
   "cell_type": "markdown",
   "id": "26815da7",
   "metadata": {
    "lines_to_next_cell": 2
   },
   "source": [
    "Some argument transformations"
   ]
  },
  {
   "cell_type": "code",
   "execution_count": null,
   "id": "3d5c476b",
   "metadata": {},
   "outputs": [],
   "source": [
    "args = vaep.nb.get_params(args, globals=globals())\n",
    "args = vaep.nb.args_from_dict(args)\n",
    "args"
   ]
  },
  {
   "cell_type": "markdown",
   "id": "ba15118b",
   "metadata": {},
   "source": [
    "load data splits"
   ]
  },
  {
   "cell_type": "code",
   "execution_count": null,
   "id": "75341d2b",
   "metadata": {
    "lines_to_next_cell": 2
   },
   "outputs": [],
   "source": [
    "data = datasplits.DataSplits.from_folder(\n",
    "    args.data, file_format=args.file_format)"
   ]
  },
  {
   "cell_type": "markdown",
   "id": "dbef8da3",
   "metadata": {},
   "source": [
    "Validation and test data split of simulated missing values"
   ]
  },
  {
   "cell_type": "code",
   "execution_count": null,
   "id": "723eacd2",
   "metadata": {},
   "outputs": [],
   "source": [
    "val_pred_fake_na = data.val_y.to_frame(name='observed')\n",
    "val_pred_fake_na"
   ]
  },
  {
   "cell_type": "code",
   "execution_count": null,
   "id": "514d193f",
   "metadata": {},
   "outputs": [],
   "source": [
    "test_pred_fake_na = data.test_y.to_frame(name='observed')\n",
    "test_pred_fake_na.describe()"
   ]
  },
  {
   "cell_type": "code",
   "execution_count": null,
   "id": "204838b7",
   "metadata": {},
   "outputs": [],
   "source": [
    "# Find and load prediction files, filter for validation and test data"
   ]
  },
  {
   "cell_type": "code",
   "execution_count": null,
   "id": "c06dcd14",
   "metadata": {},
   "outputs": [],
   "source": [
    "if args.dumps is not None:\n",
    "    entire_pred = args.dumps.split(',')\n",
    "entire_pred"
   ]
  },
  {
   "cell_type": "code",
   "execution_count": null,
   "id": "e7dcbec7",
   "metadata": {},
   "outputs": [],
   "source": [
    "entire_pred = list(file for file in args.out_preds.iterdir()\n",
    "                   if '_all_' in str(file))\n",
    "entire_pred"
   ]
  },
  {
   "cell_type": "code",
   "execution_count": null,
   "id": "4a9e66bc",
   "metadata": {
    "lines_to_next_cell": 0
   },
   "outputs": [],
   "source": [
    "for fpath in entire_pred:\n",
    "    col_name = fpath.stem.split('_all_')[-1]\n",
    "    pred = pd.read_csv(fpath, index_col=[1,0])\n",
    "    # pred.columns = pred.columns.str[1:].str.replace(\n",
    "    #     '.', '-', regex=False)  # NaGuideR change the sample names\n",
    "    # pred.columns.name = test_pred_fake_na.index.names[0]\n",
    "    # pred.index.name = test_pred_fake_na.index.names[1]\n",
    "    # pred = pred.unstack()\n",
    "\n",
    "    val_pred_fake_na[col_name] = pred\n",
    "    val_pred_fake_na[['observed', col_name]].to_csv(\n",
    "        args.out_preds / f'pred_val_{col_name}.csv')\n",
    "\n",
    "    test_pred_fake_na[col_name] = pred\n",
    "    test_pred_fake_na[['observed', col_name]].to_csv(\n",
    "        args.out_preds / f'pred_test_{col_name}.csv')\n",
    "\n",
    "# del pred"
   ]
  },
  {
   "cell_type": "code",
   "execution_count": null,
   "id": "72adc8ec",
   "metadata": {},
   "outputs": [],
   "source": [
    "val_pred_fake_na"
   ]
  },
  {
   "cell_type": "markdown",
   "id": "655364c4",
   "metadata": {},
   "source": [
    "Metrics for simulated missing values (NA)"
   ]
  },
  {
   "cell_type": "code",
   "execution_count": null,
   "id": "d7c5dab0",
   "metadata": {},
   "outputs": [],
   "source": [
    "# papermill_description=metrics\n",
    "d_metrics = vaep.models.Metrics()"
   ]
  },
  {
   "cell_type": "code",
   "execution_count": null,
   "id": "773dcbbe",
   "metadata": {},
   "outputs": [],
   "source": [
    "added_metrics = d_metrics.add_metrics(val_pred_fake_na, 'valid_fake_na')\n",
    "added_metrics"
   ]
  },
  {
   "cell_type": "markdown",
   "id": "33fde68c",
   "metadata": {},
   "source": [
    "### Test Datasplit"
   ]
  },
  {
   "cell_type": "code",
   "execution_count": null,
   "id": "065e1e62",
   "metadata": {},
   "outputs": [],
   "source": [
    "added_metrics = d_metrics.add_metrics(test_pred_fake_na, 'test_fake_na')\n",
    "added_metrics"
   ]
  },
  {
   "cell_type": "code",
   "execution_count": null,
   "id": "37e8e515",
   "metadata": {},
   "outputs": [],
   "source": [
    "metrics_df = vaep.models.get_df_from_nested_dict(\n",
    "    d_metrics.metrics, column_levels=['model', 'metric_name']).T\n",
    "metrics_df\n",
    "\n",
    "errors = calc_errors.calc_errors_per_bin(val_pred_fake_na, target_col='observed')\n",
    "errors"
   ]
  },
  {
   "cell_type": "code",
   "execution_count": null,
   "id": "f1f0d12c",
   "metadata": {},
   "outputs": [],
   "source": [
    "top5 = errors.drop(['bin', 'n_obs'], axis=1).mean().sort_values().iloc[:5].index.to_list()\n",
    "errors[top5].describe()"
   ]
  },
  {
   "cell_type": "code",
   "execution_count": null,
   "id": "ddc5769b",
   "metadata": {},
   "outputs": [],
   "source": [
    "meta_cols = ['bin', 'n_obs']\n",
    "n_obs = errors[meta_cols].apply(\n",
    "        lambda x: f\"{x.bin} (N={x.n_obs:,d})\", axis=1\n",
    "        ).rename('bin').astype('category')\n",
    "\n",
    "errors_long = (errors[top5]\n",
    "               #.drop(meta_cols, axis=1)\n",
    "               .stack()\n",
    "               .to_frame('intensity')\n",
    "               .join(n_obs)\n",
    "               .reset_index()\n",
    ")\n",
    "errors_long.sample(5)"
   ]
  },
  {
   "cell_type": "code",
   "execution_count": null,
   "id": "e2b7b3a1",
   "metadata": {},
   "outputs": [],
   "source": [
    "ax = sns.barplot(data=errors_long,\n",
    "            x='bin', y='intensity', hue='model')\n",
    "ax.xaxis.set_tick_params(rotation=-90)\n",
    "\n",
    "fname = args.out_figures / 'NAGuideR_errors_per_bin.png'\n",
    "vaep.savefig(ax.get_figure(), fname)"
   ]
  },
  {
   "cell_type": "code",
   "execution_count": null,
   "id": "50e7ec57",
   "metadata": {},
   "outputs": [],
   "source": []
  }
 ],
 "metadata": {
  "jupytext": {
   "cell_metadata_filter": "title,tags,-all"
  },
  "kernelspec": {
   "display_name": "Python 3",
   "language": "python",
   "name": "python3"
  },
  "language_info": {
   "codemirror_mode": {
    "name": "ipython",
    "version": 3
   },
   "file_extension": ".py",
   "mimetype": "text/x-python",
   "name": "python",
   "nbconvert_exporter": "python",
   "pygments_lexer": "ipython3",
   "version": "3.8.13"
  }
 },
 "nbformat": 4,
 "nbformat_minor": 5
}
