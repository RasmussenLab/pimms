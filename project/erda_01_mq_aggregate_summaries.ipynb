{
 "cells": [
  {
   "cell_type": "markdown",
   "metadata": {
    "Collapsed": "false"
   },
   "source": [
    "# MaxQuant (MQ) Output-Files\n",
    "\n",
    "Files compared:\n",
    "1. `Summary.txt`\n",
    "2. `mqpar.xml`\n",
    "3. `peptides.txt`\n",
    "4. `proteins.txt`\n",
    "\n",
    "There is are many files more, where several files seem to be available in several times in different formats."
   ]
  },
  {
   "cell_type": "code",
   "execution_count": null,
   "metadata": {},
   "outputs": [],
   "source": [
    "import sys\n",
    "import logging\n",
    "from pathlib import Path, PurePosixPath\n",
    "import yaml\n",
    "import random\n",
    "\n",
    "##################\n",
    "### Logging ######\n",
    "##################\n",
    "\n",
    "# Setup logging in notebooks\n",
    "from vaep.logging import setup_nb_logger\n",
    "setup_nb_logger()\n",
    "logger = logging.getLogger()\n",
    "\n",
    "logging.info('Start with handlers: \\n' + \"\\n\".join(f\"- {repr(log_)}\" for log_ in logger.handlers))\n",
    "\n",
    "### Other imports\n",
    "\n",
    "import matplotlib.pyplot as plt\n",
    "import numpy as np\n",
    "import pandas as pd\n",
    "import ipywidgets as widgets\n",
    "\n",
    "from vaep.io.mq import MaxQuantOutputDynamic\n",
    "from vaep import plotting\n",
    "\n",
    "from vaep.io import data_objects\n",
    "from vaep.io.data_objects import MqAllSummaries \n",
    "\n",
    "##################\n",
    "##### CONFIG #####\n",
    "##################\n",
    "import src.config\n",
    "from src.config import FOLDER_MQ_TXT_DATA, FOLDER_PROCESSED\n",
    "\n",
    "ELIGABLE_FILES_YAML = Path('config/eligable_files.yaml')\n",
    "MAP_FOLDER_PATH = Path('config/file_paths')\n",
    "FPATH_ALL_SUMMARIES = FOLDER_PROCESSED / 'all_summaries.json'\n",
    "\n",
    "from src.config import FOLDER_DATA # project folder for storing the data\n",
    "logger.info(f\"Search Raw-Files on path: {FOLDER_MQ_TXT_DATA}\")"
   ]
  },
  {
   "cell_type": "code",
   "execution_count": null,
   "metadata": {
    "Collapsed": "false"
   },
   "outputs": [],
   "source": [
    "folders = [folder for folder in  Path(FOLDER_MQ_TXT_DATA).iterdir() if folder.is_dir() and not folder.name.startswith('.')]"
   ]
  },
  {
   "cell_type": "code",
   "execution_count": null,
   "metadata": {
    "Collapsed": "false"
   },
   "outputs": [],
   "source": [
    "folders_dict = {folder.name: folder for folder in sorted(folders)}\n",
    "assert len(folders_dict) == len(folders), \"Non unique file names\"\n",
    "\n",
    "with open(MAP_FOLDER_PATH, 'w') as f:\n",
    "    yaml.dump({ k: str(PurePosixPath(v)) for k, v in folders_dict.items()} , f)\n",
    "logger.info(f\"Save map of file names to file paths to: {str(MAP_FOLDER_PATH)}\")\n",
    "\n",
    "# w_file = widgets.Dropdown(options=[folder for folder in folders], description='View files')\n",
    "w_file = widgets.Dropdown(options=folders_dict, description='View files')\n",
    "w_file"
   ]
  },
  {
   "cell_type": "code",
   "execution_count": null,
   "metadata": {},
   "outputs": [],
   "source": [
    "mq_output = MaxQuantOutputDynamic(w_file.value)\n",
    "mq_output"
   ]
  },
  {
   "cell_type": "code",
   "execution_count": null,
   "metadata": {},
   "outputs": [],
   "source": [
    "print(f\"Results will be saved in subfolders in\\n\\t{str(FOLDER_PROCESSED.absolute())}\"\n",
    "      \"\\nusing the name of the specified input-folder per default. Change to your liking.\")"
   ]
  },
  {
   "cell_type": "markdown",
   "metadata": {},
   "source": [
    "> Go to the block you are interested in!"
   ]
  },
  {
   "cell_type": "markdown",
   "metadata": {
    "Collapsed": "false"
   },
   "source": [
    "### Summaries Data"
   ]
  },
  {
   "cell_type": "code",
   "execution_count": null,
   "metadata": {},
   "outputs": [],
   "source": [
    "%%time\n",
    "pd.options.display.max_columns = 49\n",
    "mq_all_summaries = MqAllSummaries(FPATH_ALL_SUMMARIES)\n",
    "mq_all_summaries.load_new_samples(folders=folders)"
   ]
  },
  {
   "cell_type": "code",
   "execution_count": null,
   "metadata": {
    "Collapsed": "false"
   },
   "outputs": [],
   "source": [
    "if mq_all_summaries.empty_folders:\n",
    "    print(mq_all_summaries.empty_folders)\n",
    "    with open('log_empty_folder.txt', 'a') as f:\n",
    "        f.writelines(mq_all_summaries.empty_folders)\n",
    "print(f\"In total processed: {len(mq_all_summaries):5}\")"
   ]
  },
  {
   "cell_type": "code",
   "execution_count": null,
   "metadata": {
    "Collapsed": "false"
   },
   "outputs": [],
   "source": [
    "pd.options.display.max_columns = len(mq_all_summaries.df.columns)"
   ]
  },
  {
   "cell_type": "code",
   "execution_count": null,
   "metadata": {},
   "outputs": [],
   "source": [
    "mq_all_summaries.df.info()"
   ]
  },
  {
   "cell_type": "markdown",
   "metadata": {},
   "source": [
    "- SIL - MS2 based on precursor which was a set of peaks\n",
    "- PEAK - MS2 scan based on a single peak on precursor spectrum\n",
    "- ISO - isotopic pattern detection\n"
   ]
  },
  {
   "cell_type": "code",
   "execution_count": null,
   "metadata": {},
   "outputs": [],
   "source": [
    "class col_summary:\n",
    "    MS1 = 'MS'\n",
    "    MS2 = 'MS/MS' \n",
    "    MS2_identified  = 'MS/MS Identified'\n",
    "    peptides_identified = 'Peptide Sequences Identified' # 'peptides.txt' should have this number of peptides\n",
    "\n",
    "df = mq_all_summaries.df\n",
    "if df is not None:\n",
    "    MS_spectra = df[[col_summary.MS1, col_summary.MS2, col_summary.MS2_identified, col_summary.peptides_identified]]\n",
    "\n",
    "    def compute_summary(threshold_identified):\n",
    "        mask  = MS_spectra[col_summary.peptides_identified] >= threshold_identified\n",
    "        display(MS_spectra.loc[mask].describe(np.linspace(0.05, 0.95, 10)))\n",
    "    \n",
    "    w_ions_range = widgets.IntSlider(value=15_000, min=.0, max=MS_spectra[col_summary.peptides_identified].max())\n",
    "    display(widgets.interactive(compute_summary, threshold_identified=w_ions_range))"
   ]
  },
  {
   "cell_type": "code",
   "execution_count": null,
   "metadata": {},
   "outputs": [],
   "source": [
    "mask  = MS_spectra[col_summary.peptides_identified] >= w_ions_range.value\n",
    "logger.warning(f\"Save {mask.sum()} file names to configuration file of selected samples: \"\n",
    "f\"{ELIGABLE_FILES_YAML} \"\n",
    "f\"based on  a minimum of {w_ions_range.value} peptides.\")\n",
    "MS_spectra.loc[mask]\n"
   ]
  },
  {
   "cell_type": "code",
   "execution_count": null,
   "metadata": {},
   "outputs": [],
   "source": [
    "with open(ELIGABLE_FILES_YAML, 'w') as f:\n",
    "    yaml.dump(data={'files': MS_spectra.loc[mask].index.to_list()}, stream=f)\n",
    "logger.info(f\"Dumped yaml file with eligable files under key 'files' to {str(ELIGABLE_FILES_YAML)}\")"
   ]
  },
  {
   "cell_type": "markdown",
   "metadata": {},
   "source": [
    "### Plot number of samples\n",
    "\n",
    "- binned by 10k steps"
   ]
  },
  {
   "cell_type": "code",
   "execution_count": null,
   "metadata": {},
   "outputs": [],
   "source": [
    "_max = MS_spectra[col_summary.peptides_identified].max() + 10_001\n",
    "fig, ax = plt.subplots(figsize=(10,10))\n",
    "_ = MS_spectra[col_summary.peptides_identified].hist(\n",
    "    bins=range(0,_max, 10_000),\n",
    "    legend=True,\n",
    "    ax = ax)\n",
    "fig.suptitle('Number of samples, binned in 10K steps.')\n",
    "fig.tight_layout()"
   ]
  },
  {
   "cell_type": "code",
   "execution_count": null,
   "metadata": {},
   "outputs": [],
   "source": [
    "MS_spectra[col_summary.peptides_identified].mean(), MS_spectra[col_summary.peptides_identified].std() # including folders with 0 identified peptides"
   ]
  },
  {
   "cell_type": "code",
   "execution_count": null,
   "metadata": {},
   "outputs": [],
   "source": [
    "def calc_cutoff(threshold=1):\n",
    "    s = MS_spectra[col_summary.peptides_identified]\n",
    "    mask = s >= threshold\n",
    "    s = s.loc[mask]\n",
    "    display(f\"Threshold selected (inclusive): {threshold} \")\n",
    "    display(f\"mean: {s.mean():.2f}, std-dev: {s.std():.2f}\")\n",
    "\n",
    "\n",
    "# calc_cutoff()\n",
    "display(widgets.interactive(calc_cutoff, threshold=widgets.IntSlider(value=10000.0, min=.0, max=MS_spectra[col_summary.peptides_identified].max())))"
   ]
  },
  {
   "cell_type": "code",
   "execution_count": null,
   "metadata": {},
   "outputs": [],
   "source": [
    "fig, axes = plt.subplots(2,2, figsize=(20,20), sharex=True)\n",
    "\n",
    "ylim_hist = (0,600)\n",
    "xlim_dens = (0, 70_000)\n",
    "\n",
    "ax = axes[0,0]\n",
    "ax = mq_all_summaries.df[col_summary.peptides_identified].plot(kind='hist', bins=50, title=\"Histogram including samples with zero identified peptides\", grid=True, ax=ax, ylim=ylim_hist)\n",
    "ax = axes[1,0]\n",
    "_ = mq_all_summaries.df[col_summary.peptides_identified].astype(float).plot.kde(ax=ax, title=\"Density plot including samples with zero identified peptides.\", xlim=xlim_dens)\n",
    "\n",
    "threshold_m2_identified = 15_000\n",
    "mask = mq_all_summaries.df[col_summary.peptides_identified] >= threshold_m2_identified\n",
    "\n",
    "ax = axes[0,1]\n",
    "ax = mq_all_summaries.df.loc[mask, col_summary.peptides_identified].plot(kind='hist', bins=40, title=f\"Histogram including samples with {threshold_m2_identified:,d} and more identified peptides\", grid=True, ax=ax, ylim=ylim_hist)\n",
    "ax = axes[1,1]\n",
    "_ = mq_all_summaries.df.loc[mask, col_summary.peptides_identified].astype(float).plot.kde(ax=ax, title=f\"Density plot including samples with {threshold_m2_identified:,d} and more identified peptides.\", xlim=xlim_dens)\n",
    "\n",
    "plotting._savefig(fig, name='distribution_peptides_in_samples', folder=src.config.FIGUREFOLDER)"
   ]
  }
 ],
 "metadata": {
  "file_extension": ".py",
  "kernelspec": {
   "display_name": "Python 3",
   "language": "python",
   "name": "python3"
  },
  "language_info": {
   "codemirror_mode": {
    "name": "ipython",
    "version": 3
   },
   "file_extension": ".py",
   "mimetype": "text/x-python",
   "name": "python",
   "nbconvert_exporter": "python",
   "pygments_lexer": "ipython3",
   "version": "3.8.12"
  },
  "mimetype": "text/x-python",
  "name": "python",
  "npconvert_exporter": "python",
  "pygments_lexer": "ipython3",
  "toc-autonumbering": true,
  "version": 3
 },
 "nbformat": 4,
 "nbformat_minor": 4
}
