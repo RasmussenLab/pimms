{
 "cells": [
  {
   "cell_type": "markdown",
   "id": "16ea454a-dbf5-4454-8ee2-753043c8ed18",
   "metadata": {},
   "source": [
    "# Combine tables"
   ]
  },
  {
   "cell_type": "code",
   "execution_count": 8,
   "id": "8aa9d1c8-175c-4c8e-93b3-5a6a67fa0edb",
   "metadata": {},
   "outputs": [],
   "source": [
    "from pathlib import Path\n",
    "import pandas as pd"
   ]
  },
  {
   "cell_type": "markdown",
   "id": "65ec82af-480a-46bc-9636-d3aa7c7b60a3",
   "metadata": {},
   "source": [
    "Use parent folder name as key"
   ]
  },
  {
   "cell_type": "code",
   "execution_count": 9,
   "id": "d3db97cc-cdc6-432c-b4f3-1000f8145b46",
   "metadata": {},
   "outputs": [],
   "source": [
    "files = {Path(f).parent.name: f for f in snakemake.input}\n",
    "files"
   ]
  },
  {
   "cell_type": "code",
   "execution_count": 21,
   "id": "3fb27955",
   "metadata": {},
   "outputs": [],
   "source": [
    "table = []\n",
    "for key, file in files.items():\n",
    "    df = pd.read_excel(file, sheet_name=-1, index_col=0)\n",
    "    df.columns = pd.MultiIndex.from_tuples([(key, x) for x in df.columns])\n",
    "    table.append(df)\n",
    "\n",
    "table = pd.concat(table, axis=1)\n",
    "table"
   ]
  },
  {
   "cell_type": "markdown",
   "id": "ec86b2b0-5b71-421d-9440-fb05db5d4a19",
   "metadata": {},
   "source": [
    "Order by average validation split performance"
   ]
  },
  {
   "cell_type": "code",
   "execution_count": 22,
   "id": "33cb23cc-8973-4460-b480-b1df109cef93",
   "metadata": {},
   "outputs": [],
   "source": [
    "order = (table\n",
    "         .loc[:, pd.IndexSlice[:, 'val']]\n",
    "         .mean(axis=1)\n",
    "         .sort_values()\n",
    "         )\n",
    "order"
   ]
  },
  {
   "cell_type": "code",
   "execution_count": 23,
   "id": "66f4f029-f19b-41a0-9b89-980a39aad841",
   "metadata": {},
   "outputs": [],
   "source": [
    "table = table.loc[order.index]\n",
    "table"
   ]
  },
  {
   "cell_type": "markdown",
   "id": "eb9a5c21-4e8b-4a22-8e84-c48a4ee12291",
   "metadata": {},
   "source": [
    "Save table"
   ]
  },
  {
   "cell_type": "code",
   "execution_count": 25,
   "id": "ca530514-23e8-47e9-ba7a-359a61da8a0c",
   "metadata": {},
   "outputs": [],
   "source": [
    "fname = snakemake.output.combined_xlsx\n",
    "table.to_excel(fname, float_format='%.4f')\n",
    "fname"
   ]
  }
 ],
 "metadata": {
  "kernelspec": {
   "display_name": "Python 3",
   "language": "python",
   "name": "python3"
  },
  "language_info": {
   "codemirror_mode": {
    "name": "ipython",
    "version": 3
   },
   "file_extension": ".py",
   "mimetype": "text/x-python",
   "name": "python",
   "nbconvert_exporter": "python",
   "pygments_lexer": "ipython3",
   "version": "3.8.13"
  }
 },
 "nbformat": 4,
 "nbformat_minor": 5
}
