{
 "cells": [
  {
   "cell_type": "markdown",
   "id": "188fc02b-2e9b-4b72-b906-77d35ba50dab",
   "metadata": {},
   "source": [
    "# Compare models"
   ]
  },
  {
   "cell_type": "code",
   "execution_count": null,
   "id": "a1e5f978-a0cb-4bb6-98d1-467eda257165",
   "metadata": {},
   "outputs": [],
   "source": [
    "import logging\n",
    "import random\n",
    "from pathlib import Path\n",
    "\n",
    "import matplotlib\n",
    "import matplotlib.pyplot as plt\n",
    "import numpy as np \n",
    "import pandas as pd\n",
    "\n",
    "pd.options.display.max_rows = 120\n",
    "pd.options.display.min_rows = 50\n",
    "\n",
    "import vaep\n",
    "import vaep.imputation\n",
    "from vaep import sampling\n",
    "from vaep.io import datasplits\n",
    "from vaep.analyzers import compare_predictions\n",
    "\n",
    "\n",
    "import vaep.nb\n",
    "matplotlib.rcParams['figure.figsize'] = [10.0, 8.0]\n",
    "\n",
    "\n",
    "logging.basicConfig(level=logging.INFO)"
   ]
  },
  {
   "cell_type": "code",
   "execution_count": null,
   "id": "e6e91c6b-20d6-402c-9577-a2bfd8ba592e",
   "metadata": {},
   "outputs": [],
   "source": [
    "models = ['collab', 'DAE', 'VAE']"
   ]
  },
  {
   "cell_type": "code",
   "execution_count": null,
   "id": "164eb4bd-b28a-4237-bcc7-349b8ca3fc00",
   "metadata": {
    "tags": [
     "parameters"
    ]
   },
   "outputs": [],
   "source": [
    "# files and folders\n",
    "folder_experiment:str = 'runs/experiment_03/df_intensities_proteinGroups_long_2017_2018_2019_2020_N05015_M04547/Q_Exactive_HF_X_Orbitrap_Exactive_Series_slot_#6070' # Datasplit folder with data for experiment\n",
    "folder_data:str = '' # specify data directory if needed\n",
    "file_format: str = 'pkl' # change default to pickled files\n",
    "fn_rawfile_metadata: str = 'data/files_selected_metadata.csv' # Machine parsed metadata from rawfile workflow"
   ]
  },
  {
   "cell_type": "code",
   "execution_count": null,
   "id": "ec1509e8-6908-43c3-8909-efbb0229c324",
   "metadata": {},
   "outputs": [],
   "source": [
    "args = vaep.nb.Config()\n",
    "\n",
    "args.fn_rawfile_metadata = fn_rawfile_metadata\n",
    "del fn_rawfile_metadata\n",
    "\n",
    "args.folder_experiment = Path(folder_experiment)\n",
    "del folder_experiment\n",
    "args.folder_experiment.mkdir(exist_ok=True, parents=True)\n",
    "\n",
    "args.file_format = file_format\n",
    "del file_format\n",
    "\n",
    "args = vaep.nb.add_default_paths(args, folder_data=folder_data)\n",
    "del folder_data\n",
    "\n",
    "args"
   ]
  },
  {
   "cell_type": "code",
   "execution_count": null,
   "id": "a4ba2a48-dedc-47a9-b2ea-79936dfc48ef",
   "metadata": {},
   "outputs": [],
   "source": [
    "data = datasplits.DataSplits.from_folder(args.data, file_format=args.file_format) "
   ]
  },
  {
   "cell_type": "code",
   "execution_count": null,
   "id": "c8f67ae1-40e9-4c2a-af0a-41e627703518",
   "metadata": {},
   "outputs": [],
   "source": [
    "fig, axes = plt.subplots(1, 2, sharey=True, figsize=(18,10))\n",
    "\n",
    "_ = data.val_y.unstack().notna().sum(axis=1).sort_values().plot(\n",
    "        rot=90,\n",
    "        ax=axes[0],\n",
    "        title='Validation data',\n",
    "        ylabel='number of feat')\n",
    "_ = data.test_y.unstack().notna().sum(axis=1).sort_values().plot(\n",
    "        rot=90,\n",
    "        ax=axes[1],\n",
    "        title='Test data')"
   ]
  },
  {
   "cell_type": "markdown",
   "id": "ffc6d140-f48e-4477-84f3-47a196e0a3d8",
   "metadata": {},
   "source": [
    "## Across data completeness"
   ]
  },
  {
   "cell_type": "code",
   "execution_count": null,
   "id": "2d043b40-5c74-40cc-a5cf-8d22ac5538a8",
   "metadata": {},
   "outputs": [],
   "source": [
    "freq_feat = sampling.frequency_by_index(data.train_X, 0)\n",
    "freq_feat.name = 'freq'\n",
    "freq_feat.head() # training data"
   ]
  },
  {
   "cell_type": "code",
   "execution_count": null,
   "id": "d8f8c3f4-9896-4f0e-8f93-780f90b22573",
   "metadata": {},
   "outputs": [],
   "source": [
    "prop = freq_feat / len(data.train_X.index.levels[0])\n",
    "prop.to_frame()"
   ]
  },
  {
   "cell_type": "markdown",
   "id": "e014084f-7101-4032-9be9-1cb9a4f00d53",
   "metadata": {},
   "source": [
    "## reference methods\n",
    "\n",
    "- drawing from shifted normal distribution\n",
    "- drawing from (-) normal distribution?\n",
    "- median imputation"
   ]
  },
  {
   "cell_type": "code",
   "execution_count": null,
   "id": "9a94ad00-78fd-4541-be5d-68391af99bd5",
   "metadata": {},
   "outputs": [],
   "source": [
    "data.to_wide_format()\n",
    "data.train_X"
   ]
  },
  {
   "cell_type": "code",
   "execution_count": null,
   "id": "f3e738bd-79e9-4714-af4d-f3d0d2893353",
   "metadata": {},
   "outputs": [],
   "source": [
    "mean = data.train_X.mean()\n",
    "std = data.train_X.std()\n",
    "\n",
    "imputed_shifted_normal = vaep.imputation.impute_shifted_normal(data.train_X)\n",
    "imputed_shifted_normal"
   ]
  },
  {
   "cell_type": "code",
   "execution_count": null,
   "id": "0a330bc5-7fd3-4334-bee1-8d58bf987669",
   "metadata": {},
   "outputs": [],
   "source": [
    "imputed_normal = vaep.imputation.impute_shifted_normal(data.train_X, mean_shift=0.0, std_shrinkage=1.0)\n",
    "imputed_normal"
   ]
  },
  {
   "cell_type": "code",
   "execution_count": null,
   "id": "b0550159-6f4e-4744-b3cd-36fad785b332",
   "metadata": {},
   "outputs": [],
   "source": [
    "medians_train = data.train_X.median()\n",
    "medians_train.name = 'median'"
   ]
  },
  {
   "cell_type": "markdown",
   "id": "e4edc203-3fac-4321-8193-a5cc39590665",
   "metadata": {},
   "source": [
    "## load predictions"
   ]
  },
  {
   "cell_type": "code",
   "execution_count": null,
   "id": "ef2eadff-327b-4914-ac58-a5365dcb348d",
   "metadata": {},
   "outputs": [],
   "source": [
    "split='test'\n",
    "pred_files =  [f for f in args.out_preds.iterdir() if split in f.name]\n",
    "pred_test = compare_predictions.load_predictions(pred_files)\n",
    "# pred_test = pred_test.join(medians_train, on=prop.index.name)\n",
    "pred_test['random shifted normal'] = imputed_shifted_normal\n",
    "pred_test['random normal'] = imputed_normal\n",
    "pred_test = pred_test.join(freq_feat, on=freq_feat.index.name)\n",
    "pred_test"
   ]
  },
  {
   "cell_type": "code",
   "execution_count": null,
   "id": "7bff3764-5063-4399-a182-3ba795fbe99d",
   "metadata": {},
   "outputs": [],
   "source": [
    "feature_names = pred_test.index.levels[-1]\n",
    "M = len(feature_names)\n",
    "pred_test.loc[pd.IndexSlice[:, feature_names[random.randint(0, M)]], :]"
   ]
  },
  {
   "cell_type": "code",
   "execution_count": null,
   "id": "c6145bd0-9b59-490e-9a0e-89475c18663b",
   "metadata": {},
   "outputs": [],
   "source": [
    "options = random.sample(set(freq_feat.index), 1)\n",
    "pred_test.loc[pd.IndexSlice[:, options[0]], :]"
   ]
  },
  {
   "cell_type": "code",
   "execution_count": null,
   "id": "1b55a16f-1f2d-4b3e-ba6d-ecd1987a67ae",
   "metadata": {},
   "outputs": [],
   "source": [
    "split='val'\n",
    "pred_files =  [f for f in args.out_preds.iterdir() if split in f.name]\n",
    "pred_val = compare_predictions.load_predictions(pred_files)\n",
    "# pred_val = pred_val.join(medians_train, on=freq_feat.index.name)\n",
    "pred_val['random shifted normal'] = imputed_shifted_normal\n",
    "# pred_val = pred_val.join(freq_feat, on=freq_feat.index.name)\n",
    "\n",
    "# \n",
    "errors_val = pred_val.drop('observed', axis=1).sub(pred_val['observed'], axis=0)\n",
    "errors_val.describe() # over all samples, and all features"
   ]
  },
  {
   "cell_type": "markdown",
   "id": "52d11428-4f9b-4918-9ec6-d20a298c6009",
   "metadata": {},
   "source": [
    "Describe absolute error"
   ]
  },
  {
   "cell_type": "code",
   "execution_count": null,
   "id": "47df94e9-2436-4cdd-9c6f-47062bac7bee",
   "metadata": {},
   "outputs": [],
   "source": [
    "errors_val.abs().describe() # over all samples, and all features"
   ]
  },
  {
   "cell_type": "code",
   "execution_count": null,
   "id": "52298acd-73c5-4574-b7fe-8fb6544708cf",
   "metadata": {},
   "outputs": [],
   "source": [
    "c_error_min = 4.5\n",
    "mask = (errors_val[models].abs() > c_error_min).any(axis=1)\n",
    "errors_val.loc[mask].sort_index(level=1)"
   ]
  },
  {
   "cell_type": "code",
   "execution_count": null,
   "id": "570fc505-ab27-4710-b4c2-adbe72b33898",
   "metadata": {},
   "outputs": [],
   "source": [
    "errors_val = errors_val.abs().groupby(freq_feat.index.name).mean() # absolute error\n",
    "errors_val = errors_val.join(freq_feat)\n",
    "errors_val = errors_val.sort_values(by=freq_feat.name, ascending=True)\n",
    "errors_val"
   ]
  },
  {
   "cell_type": "markdown",
   "id": "2eb9a8ea",
   "metadata": {},
   "source": [
    "Some interpolated features are missing"
   ]
  },
  {
   "cell_type": "code",
   "execution_count": null,
   "id": "ddc98a9f",
   "metadata": {},
   "outputs": [],
   "source": [
    "errors_val.describe()  # mean of means"
   ]
  },
  {
   "cell_type": "code",
   "execution_count": null,
   "id": "af4f0e81-e9af-4763-908d-f7bdf4a4fed7",
   "metadata": {},
   "outputs": [],
   "source": [
    "c_avg_error = 2\n",
    "mask = (errors_val[models] >= c_avg_error).any(axis=1)\n",
    "errors_val.loc[mask]"
   ]
  },
  {
   "cell_type": "code",
   "execution_count": null,
   "id": "e0a505e2-4d05-460e-a2c5-47edc5038dc7",
   "metadata": {},
   "outputs": [],
   "source": [
    "errors_val_smoothed = errors_val.copy()\n",
    "errors_val_smoothed[errors_val.columns[:-1]] = errors_val[errors_val.columns[:-1]].rolling(window=200, min_periods=1).mean()\n",
    "ax = errors_val_smoothed.plot(x=freq_feat.name, ylabel='rolling error average', ylim=(0,2))"
   ]
  },
  {
   "cell_type": "code",
   "execution_count": null,
   "id": "f8693e3d-37f8-4c7e-acf0-87ae7436eff7",
   "metadata": {},
   "outputs": [],
   "source": [
    "errors_val_smoothed.describe()"
   ]
  },
  {
   "cell_type": "code",
   "execution_count": null,
   "id": "1422aecb-eecc-4270-8891-5010e8b1ec5d",
   "metadata": {},
   "outputs": [],
   "source": [
    "vaep.savefig(\n",
    "    ax.get_figure(),\n",
    "    folder=args.out_figures,\n",
    "    name='performance_methods_by_completness')"
   ]
  },
  {
   "cell_type": "markdown",
   "id": "e9b7b878-6b1d-4b2d-b861-8e0bccbf88ff",
   "metadata": {},
   "source": [
    "### Average errors\n",
    "- see how smoothing is done, here `collab`\n",
    "- shows how features are distributed in training data"
   ]
  },
  {
   "cell_type": "code",
   "execution_count": null,
   "id": "6122a309-5435-44d2-a6f8-8e9d46b5afae",
   "metadata": {},
   "outputs": [],
   "source": [
    "# scatter plots to see spread\n",
    "model = models[0]\n",
    "ax = errors_val.plot.scatter(x=prop.name, y=model, c='darkblue', ylim=(0,2))"
   ]
  },
  {
   "cell_type": "markdown",
   "id": "d2b43585-3b2d-4821-8222-982795e45b72",
   "metadata": {},
   "source": [
    "- [ ] plotly plot with number of observations the mean for each feature is based on\n",
    "- [ ] "
   ]
  }
 ],
 "metadata": {
  "jupytext": {
   "formats": "ipynb,auto:percent"
  },
  "kernelspec": {
   "display_name": "vaep",
   "language": "python",
   "name": "vaep"
  },
  "language_info": {
   "codemirror_mode": {
    "name": "ipython",
    "version": 3
   },
   "file_extension": ".py",
   "mimetype": "text/x-python",
   "name": "python",
   "nbconvert_exporter": "python",
   "pygments_lexer": "ipython3",
   "version": "3.8.13"
  }
 },
 "nbformat": 4,
 "nbformat_minor": 5
}
