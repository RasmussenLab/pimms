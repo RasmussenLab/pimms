{
 "cells": [
  {
   "cell_type": "markdown",
   "id": "188fc02b-2e9b-4b72-b906-77d35ba50dab",
   "metadata": {},
   "source": [
    "# Compare models"
   ]
  },
  {
   "cell_type": "code",
   "execution_count": null,
   "id": "ba904588-e7f9-447f-8a73-e1b884f901f5",
   "metadata": {},
   "outputs": [],
   "source": [
    "import random\n",
    "from pathlib import Path\n",
    "\n",
    "import matplotlib.pyplot as plt\n",
    "import pandas as pd\n",
    "\n",
    "import vaep\n",
    "import vaep.imputation\n",
    "from vaep import sampling\n",
    "from vaep.io import datasplits\n",
    "\n",
    "from src import config"
   ]
  },
  {
   "cell_type": "code",
   "execution_count": null,
   "id": "164eb4bd-b28a-4237-bcc7-349b8ca3fc00",
   "metadata": {},
   "outputs": [],
   "source": [
    "# files and folders\n",
    "folder_experiment:str = 'runs/experiment_03/df_intensities_proteinGroups_long_2017_2018_2019_2020_N05015_M04547/Q_Exactive_HF_X_Orbitrap_Exactive_Series_slot_#6070' # Datasplit folder with data for experiment\n",
    "folder_data:str = '' # specify data directory if needed\n",
    "file_format: str = 'pkl' # change default to pickled files\n",
    "fn_rawfile_metadata: str = 'data/files_selected_metadata.csv' # Machine parsed metadata from rawfile workflow"
   ]
  },
  {
   "cell_type": "code",
   "execution_count": null,
   "id": "ec1509e8-6908-43c3-8909-efbb0229c324",
   "metadata": {},
   "outputs": [],
   "source": [
    "args = config.Config()\n",
    "args.fn_rawfile_metadata = fn_rawfile_metadata\n",
    "del fn_rawfile_metadata\n",
    "args.folder_experiment = Path(folder_experiment)\n",
    "del folder_experiment\n",
    "args.folder_experiment.mkdir(exist_ok=True, parents=True)\n",
    "args.file_format = file_format\n",
    "del file_format\n",
    "args.out_folder = args.folder_experiment\n",
    "if folder_data:\n",
    "    args.data = Path(folder_data)\n",
    "else:\n",
    "    args.data = args.folder_experiment / 'data'\n",
    "assert args.data.exists(), f\"Directory not found: {args.data}\"\n",
    "del folder_data\n",
    "args.out_figures = args.folder_experiment / 'figures'\n",
    "args.out_figures.mkdir(exist_ok=True)\n",
    "args.out_metrics = args.folder_experiment / 'metrics'\n",
    "args.out_metrics.mkdir(exist_ok=True)\n",
    "args.out_models = args.folder_experiment / 'models'\n",
    "args.out_models.mkdir(exist_ok=True)\n",
    "args.out_preds = args.folder_experiment / 'preds'\n",
    "args.out_preds.mkdir(exist_ok=True)\n",
    "args"
   ]
  },
  {
   "cell_type": "code",
   "execution_count": null,
   "id": "a4ba2a48-dedc-47a9-b2ea-79936dfc48ef",
   "metadata": {},
   "outputs": [],
   "source": [
    "data = datasplits.DataSplits.from_folder(args.data, file_format=args.file_format) "
   ]
  },
  {
   "cell_type": "code",
   "execution_count": null,
   "id": "c8f67ae1-40e9-4c2a-af0a-41e627703518",
   "metadata": {},
   "outputs": [],
   "source": [
    "fig, axes = plt.subplots(1, 2, sharey=True, figsize=(18,10))\n",
    "\n",
    "_ = data.val_y.unstack().notna().sum(axis=1).sort_values().plot(\n",
    "        rot=90,\n",
    "        ax=axes[0],\n",
    "        title='Validation data',\n",
    "        ylabel='number of feat')\n",
    "_ = data.test_y.unstack().notna().sum(axis=1).sort_values().plot(\n",
    "        rot=90,\n",
    "        ax=axes[1],\n",
    "        title='Test data')"
   ]
  },
  {
   "cell_type": "markdown",
   "id": "ffc6d140-f48e-4477-84f3-47a196e0a3d8",
   "metadata": {},
   "source": [
    "## Across data completeness"
   ]
  },
  {
   "cell_type": "code",
   "execution_count": null,
   "id": "2d043b40-5c74-40cc-a5cf-8d22ac5538a8",
   "metadata": {},
   "outputs": [],
   "source": [
    "freq_feat = sampling.frequency_by_index(data.train_X, 0)\n",
    "freq_feat.name = 'freq'\n",
    "freq_feat.head() # training data"
   ]
  },
  {
   "cell_type": "code",
   "execution_count": null,
   "id": "d8f8c3f4-9896-4f0e-8f93-780f90b22573",
   "metadata": {},
   "outputs": [],
   "source": [
    "prop = freq_feat / len(data.train_X.index.levels[0])\n",
    "prop.to_frame()"
   ]
  },
  {
   "cell_type": "markdown",
   "id": "e014084f-7101-4032-9be9-1cb9a4f00d53",
   "metadata": {},
   "source": [
    "## reference methods"
   ]
  },
  {
   "cell_type": "code",
   "execution_count": null,
   "id": "9a94ad00-78fd-4541-be5d-68391af99bd5",
   "metadata": {},
   "outputs": [],
   "source": [
    "data.to_wide_format()\n",
    "imputed_shifted_normal = data.train_X.apply(vaep.imputation.imputation_normal_distribution)\n",
    "imputed_shifted_normal = imputed_shifted_normal[data.train_X.isna()].stack()\n",
    "imputed_shifted_normal"
   ]
  },
  {
   "cell_type": "code",
   "execution_count": null,
   "id": "a1d923b0-02fa-429a-94dd-494f09d1bec7",
   "metadata": {},
   "outputs": [],
   "source": [
    "data.to_wide_format()\n",
    "data.train_X"
   ]
  },
  {
   "cell_type": "code",
   "execution_count": null,
   "id": "b0550159-6f4e-4744-b3cd-36fad785b332",
   "metadata": {},
   "outputs": [],
   "source": [
    "medians_train = data.train_X.median()\n",
    "medians_train.name = 'median'"
   ]
  },
  {
   "cell_type": "code",
   "execution_count": null,
   "id": "260c71c1-23e2-4d40-a354-48a014900cc7",
   "metadata": {},
   "outputs": [],
   "source": []
  },
  {
   "cell_type": "markdown",
   "id": "e4edc203-3fac-4321-8193-a5cc39590665",
   "metadata": {},
   "source": [
    "## load predictions"
   ]
  },
  {
   "cell_type": "code",
   "execution_count": null,
   "id": "ef2eadff-327b-4914-ac58-a5365dcb348d",
   "metadata": {},
   "outputs": [],
   "source": [
    "def load_predictions(split='test', folder:Path=args.out_preds):\n",
    "\n",
    "    _pred_files =  folder.iterdir()\n",
    "    \n",
    "    for fname in _pred_files:\n",
    "        if not split in fname.name:\n",
    "            continue\n",
    "        pred = pd.read_csv(fname, index_col=[0,1])\n",
    "        break\n",
    "    \n",
    "    shared_columns = ['observed', 'interpolated']\n",
    "\n",
    "    for fname in _pred_files:\n",
    "        if not split in fname.name:\n",
    "            continue\n",
    "        _pred_file = pd.read_csv(fname, index_col=[0,1])\n",
    "        assert all(pred[shared_columns] == _pred_file[shared_columns])\n",
    "        pred = pred.join(_pred_file.drop(shared_columns, axis=1))\n",
    "    return pred\n",
    "\n",
    "pred_test = load_predictions(split='test')\n",
    "pred_test = pred_test.join(medians_train, on=prop.index.name)\n",
    "pred_test['shifted normal'] = imputed_shifted_normal\n",
    "pred_test = pred_test.join(prop, on=prop.index.name)\n",
    "pred_test"
   ]
  },
  {
   "cell_type": "code",
   "execution_count": null,
   "id": "7bff3764-5063-4399-a182-3ba795fbe99d",
   "metadata": {},
   "outputs": [],
   "source": [
    "feature_names = pred_test.index.levels[-1] \n",
    "M = len(feature_names)\n",
    "pred_test.loc[pd.IndexSlice[:, feature_names[random.randint(0,M)]], :]"
   ]
  },
  {
   "cell_type": "code",
   "execution_count": null,
   "id": "5d4e63a0-ab72-4260-9256-e8cc204539f6",
   "metadata": {},
   "outputs": [],
   "source": [
    "pred_val = load_predictions(split='val')\n",
    "pred_val = pred_val.join(medians_train, on=prop.index.name)\n",
    "pred_val['shifted normal'] = imputed_shifted_normal\n",
    "# pred_val = pred_val.join(prop, on=prop.index.name)\n",
    "\n",
    "# \n",
    "errors_val = pred_val.drop('observed', axis=1).sub(pred_val['observed'], axis=0)\n",
    "errors_val = errors_val.abs().groupby(prop.index.name).mean() # absolute error\n",
    "errors_val = errors_val.join(prop)\n",
    "errors_val = errors_val.sort_values(by=prop.name, ascending=True)\n"
   ]
  },
  {
   "cell_type": "code",
   "execution_count": null,
   "id": "e0a505e2-4d05-460e-a2c5-47edc5038dc7",
   "metadata": {},
   "outputs": [],
   "source": [
    "errors_val[errors_val.columns[:-1]] = errors_val[errors_val.columns[:-1]].rolling(window=200, min_periods=1).mean()\n",
    "ax = errors_val.plot(x=prop.name)"
   ]
  },
  {
   "cell_type": "code",
   "execution_count": null,
   "id": "6122a309-5435-44d2-a6f8-8e9d46b5afae",
   "metadata": {},
   "outputs": [],
   "source": [
    "scatter plots to see spread\n",
    "errors_val.plot.scatter(x=prop.name, y='collab',  ylim=(0,4),)"
   ]
  }
 ],
 "metadata": {
  "kernelspec": {
   "display_name": "vaep",
   "language": "python",
   "name": "vaep"
  },
  "language_info": {
   "codemirror_mode": {
    "name": "ipython",
    "version": 3
   },
   "file_extension": ".py",
   "mimetype": "text/x-python",
   "name": "python",
   "nbconvert_exporter": "python",
   "pygments_lexer": "ipython3",
   "version": "3.8.13"
  }
 },
 "nbformat": 4,
 "nbformat_minor": 5
}
