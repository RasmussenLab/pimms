{
 "cells": [
  {
   "cell_type": "markdown",
   "id": "afa6aadb-bb6e-4fa2-8c91-b69d6ff9af43",
   "metadata": {},
   "source": [
    "# NAGuide R methods\n",
    "\n",
    "Setup basic methods and packages used for all methods\n",
    "\n",
    "- BiocManager could be moved to methods who are installed from BioConductor"
   ]
  },
  {
   "cell_type": "code",
   "execution_count": null,
   "id": "2e50ecba-a6ca-4a3a-bd45-e58752c168eb",
   "metadata": {
    "vscode": {
     "languageId": "r"
    }
   },
   "outputs": [],
   "source": [
    "packages_base_R <- c(\"BiocManager\", \"reshape2\", \"data.table\", \"readr\", \"tibble\")\n",
    "\n",
    "install_rpackage  <- function(pkg){\n",
    "    # If not installed, install the package\n",
    "    if (!require(pkg, character.only = TRUE)) {\n",
    "        install.packages(pkg)\n",
    "        library(pkg, character.only = TRUE)\n",
    "    }\n",
    "    \n",
    "}\n",
    "\n",
    "# used in the large imputation function for two packages\n",
    "install_bioconductor  <- function(pkg){\n",
    "    # If not installed, install the package\n",
    "    if (!require(pkg, character.only = TRUE)) {\n",
    "        BiocManager::install(pkg)\n",
    "        library(pkg, character.only = TRUE)\n",
    "    }\n",
    "    \n",
    "}\n",
    "\n",
    "for (package in packages_base_R) {\n",
    "  # Check if the package is already installed\n",
    "  install_rpackage(pkg=package)\n",
    "}\n"
   ]
  },
  {
   "cell_type": "markdown",
   "id": "edec29ae-208a-403a-aa77-82782bccba87",
   "metadata": {},
   "source": [
    "setup can be tricky... trying to integrate as much as possible into conda environment"
   ]
  },
  {
   "cell_type": "markdown",
   "id": "c2e51b96-2f46-42c7-a642-a94c628dec04",
   "metadata": {},
   "source": [
    "Copied from [NAGuideR's github](https://github.com/wangshisheng/NAguideR/blob/15ec86263d5821990ad39a8d9f378cf4d76b25fb/inst/NAguideRapp/app.R#L1705-L1849) RShiny application. Adapted to run as standalone function in context of the Snakemake workflow.\n",
    "\n",
    "- `df` and `df1` ?\n",
    "- seems quite hacky\n",
    "- code is only slightly adapted from repo to run here, mainly to install packages on the fly"
   ]
  },
  {
   "cell_type": "code",
   "execution_count": null,
   "id": "f9c48bf7-d31c-4073-895b-e9cf920ff1d3",
   "metadata": {
    "lines_to_next_cell": 2,
    "vscode": {
     "languageId": "r"
    }
   },
   "outputs": [],
   "source": [
    "nafunctions <- function(x,method=\"zero\"){\n",
    "    df<-df1<-as.data.frame(x)\n",
    "    method<-tolower(method)\n",
    "    if(method==\"zero\"){\n",
    "      df[is.na(df)]<-0\n",
    "    }\n",
    "    else if(method==\"minimum\"){\n",
    "      df[is.na(df)]<-min(df1,na.rm = TRUE)\n",
    "    }\n",
    "    else if(method==\"colmedian\"){\n",
    "      install_rpackage('e1071')\n",
    "      df<-impute(df1,what =\"median\")\n",
    "    }\n",
    "    else if(method==\"rowmedian\"){\n",
    "      install_rpackage('e1071')\n",
    "      dfx<-impute(t(df1),what =\"median\")\n",
    "      df<-t(dfx)\n",
    "    }\n",
    "    else if(method==\"knn_impute\"){\n",
    "      install_bioconductor('impute')\n",
    "      data_zero1<-impute.knn(as.matrix(df1),k = 10, rowmax = 1, colmax = 1)#rowmax = 0.9, colmax = 0.9\n",
    "      df<-data_zero1$data\n",
    "    }\n",
    "    else if(method==\"seqknn\"){\n",
    "        if(!require(SeqKnn)){\n",
    "            install.packages(\"src/R_NAGuideR/SeqKnn_1.0.1.tar.gz\", repos = NULL,type=\"source\")\n",
    "            library(SeqKnn)\n",
    "      }\n",
    "      df <- SeqKNN(df1,k = 10)\n",
    "    }\n",
    "    else if(method==\"bpca\"){\n",
    "      install_bioconductor('pcaMethods')\n",
    "      data_zero1<-pcaMethods::pca(as.matrix(df1), nPcs = ncol(df1)-1, method = \"bpca\", maxSteps =100)\n",
    "      df<-completeObs(data_zero1)\n",
    "    }\n",
    "    else if(method==\"svdmethod\"){\n",
    "      install_bioconductor('pcaMethods')\n",
    "      data_zero1<-pcaMethods::pca(as.matrix(df1), nPcs = ncol(df1)-1, method = \"svdImpute\")\n",
    "      df<-completeObs(data_zero1)\n",
    "    }\n",
    "    else if(method==\"lls\"){\n",
    "      install_bioconductor('pcaMethods')\n",
    "      data_zero1<-llsImpute(t(df1), k = 10)\n",
    "      df<-t(completeObs(data_zero1))\n",
    "    }\n",
    "    else if(method==\"mle\"){\n",
    "      install_rpackage('norm')\n",
    "      xxm<-as.matrix(df1)\n",
    "      ss <- norm::prelim.norm(xxm)\n",
    "      thx <- norm::em.norm(ss)\n",
    "      norm::rngseed(123)\n",
    "      df <- norm::imp.norm(ss, thx, xxm)\n",
    "    }\n",
    "    else if(method==\"qrilc\"){\n",
    "      install_bioconductor(\"impute\")\n",
    "      install_bioconductor(\"pcaMethods\")\n",
    "      install_rpackage('imputeLCMD')\n",
    "      xxm<-t(df1)\n",
    "      data_zero1 <- imputeLCMD::impute.QRILC(xxm, tune.sigma = 1)[[1]]\n",
    "      df<-t(data_zero1)\n",
    "    }\n",
    "    else if(method==\"mindet\"){\n",
    "      install_bioconductor(\"impute\")\n",
    "      install_bioconductor(\"pcaMethods\")\n",
    "      install_rpackage('imputeLCMD')\n",
    "      xxm<-as.matrix(df1)\n",
    "      df <- imputeLCMD::impute.MinDet(xxm, q = 0.01)\n",
    "    }\n",
    "    else if(method==\"minprob\"){\n",
    "      install_bioconductor(\"impute\")\n",
    "      install_bioconductor(\"pcaMethods\")\n",
    "      install_rpackage('imputeLCMD')\n",
    "      xxm<-as.matrix(df1)\n",
    "      df <- imputeLCMD::impute.MinProb(xxm, q = 0.01, tune.sigma = 1)\n",
    "    }\n",
    "    else if(method==\"irm\"){\n",
    "      install_rpackage('VIM')\n",
    "      df <- irmi(df1, trace = TRUE,imp_var=FALSE)\n",
    "      rownames(df)<-rownames(df1)\n",
    "    }\n",
    "    else if(method==\"impseq\"){\n",
    "      install_rpackage('rrcovNA')\n",
    "      df <- impSeq(df1)\n",
    "    }\n",
    "    else if(method==\"impseqrob\"){\n",
    "      install_rpackage('rrcovNA')\n",
    "      data_zero1 <- impSeqRob(df1, alpha=0.9)\n",
    "      df<-data_zero1$x\n",
    "    }\n",
    "    else if(method==\"mice-norm\"){\n",
    "      install_rpackage('mice')\n",
    "      minum<-5\n",
    "      datareadmi<-mice(df1,m=minum,seed = 1234, method =\"norm\")\n",
    "      newdatareadmi<-0\n",
    "      for (i in 1:minum) {\n",
    "        newdatareadmi<-complete(datareadmi,action = i)+newdatareadmi\n",
    "      }\n",
    "      df<-newdatareadmi/minum\n",
    "      rownames(df)<-rownames(df1)\n",
    "    }\n",
    "    else if(method==\"mice-cart\"){\n",
    "      install_rpackage('mice')\n",
    "      minum<-5\n",
    "      datareadmi<-mice(df1,m=minum,seed = 1234, method =\"cart\")\n",
    "      newdatareadmi<-0\n",
    "      for (i in 1:minum) {\n",
    "        newdatareadmi<-complete(datareadmi,action = i)+newdatareadmi\n",
    "      }\n",
    "      df<-newdatareadmi/minum\n",
    "      rownames(df)<-rownames(df1)\n",
    "    }\n",
    "    else if(method==\"trknn\"){\n",
    "      source('src/R_NAGuideR/Imput_funcs.r')\n",
    "      # sim_trKNN_wrapper <- function(data) {\n",
    "      #   result <- data %>% as.matrix %>% t %>% imputeKNN(., k=10, distance='truncation', perc=0) %>% t\n",
    "      #   return(result)\n",
    "      # }\n",
    "      # df1x <- sim_trKNN_wrapper(t(df1))\n",
    "      # df<-as.data.frame(t(df1x))\n",
    "      df <- imputeKNN(as.matrix(df), k=10, distance='truncation', perc=0)\n",
    "      df <- as.data.frame(df)\n",
    "    }\n",
    "    else if(method==\"rf\"){\n",
    "      install_rpackage(\"missForest\")\n",
    "      data_zero1 <- missForest(t(df1), maxiter =10,\n",
    "                               ntree = 20 # input$rfntrees\n",
    "                               ,mtry=floor(nrow(df1)^(1/3)),verbose = TRUE)\n",
    "      df<-t(data_zero1$ximp)\n",
    "    }\n",
    "    else if(method==\"pi\"){\n",
    "      width <- 0.3 # input$piwidth\n",
    "      downshift <- 1.8 # input$pidownshift\n",
    "      for(i in 1:ncol(df1)){\n",
    "        temp <- df1[[i]]\n",
    "        if(sum(is.na(temp))>0){\n",
    "          temp.sd <- width * sd(temp[!is.na(temp)], na.rm = TRUE)\n",
    "          temp.mean <- mean(temp[!is.na(temp)], na.rm = TRUE) - downshift * sd(temp[!is.na(temp)], na.rm = TRUE)\n",
    "          n.missing <- sum(is.na(temp))\n",
    "          temp[is.na(temp)] <- rnorm(n.missing, mean = temp.mean, sd = temp.sd)\n",
    "          df[[i]]<-temp\n",
    "        }\n",
    "      }\n",
    "      df\n",
    "    }\n",
    "    # else if(method==\"grr\"){\n",
    "    #   library(DreamAI)\n",
    "    #   df<-impute.RegImpute(data=as.matrix(df1), fillmethod = \"row_mean\", maxiter_RegImpute = 10,conv_nrmse = 1e-03)\n",
    "    # }\n",
    "    else if(method==\"gms\"){\n",
    "      # install.packages('GMSimpute')\n",
    "      if(!require(GMSimpute)){\n",
    "            install.packages(\"src/R_NAGuideR/GMSimpute_0.0.1.1.tar.gz\", repos = NULL, type=\"source\");\n",
    "          library(GMSimpute)\n",
    "      }\n",
    "      \n",
    "      df<-GMS.Lasso(df1,nfolds=3,log.scale=FALSE,TS.Lasso=TRUE)\n",
    "    }\n",
    "    else if(method==\"msimpute\"){\n",
    "       install_bioconductor(\"msImpute\")\n",
    "       df <- msImpute(as.matrix(df), method='v2')\n",
    "       df <- as.data.frame(df) \n",
    "    }\n",
    "    else{\n",
    "      stop(paste(\"Unspported methods so far: \", method))\n",
    "    }\n",
    "    df <- as.data.frame(df)\n",
    "    df\n",
    "  }"
   ]
  },
  {
   "cell_type": "markdown",
   "id": "7152239b-fad2-4e0f-8b3e-98d943cab264",
   "metadata": {},
   "source": [
    "## Parameters\n",
    "\n",
    "Choose one of the available methods. Some methods might fail for your dataset for unknown reasons (and the error won't always be easy to under)\n",
    "```method\n",
    "method = 'ZERO'\n",
    "method = 'MINIMUM'\n",
    "method = 'COLMEDIAN'\n",
    "method = 'ROWMEDIAN'\n",
    "method = 'KNN_IMPUTE'\n",
    "method = 'SEQKNN'\n",
    "method = 'BPCA'\n",
    "method = 'SVDMETHOD'\n",
    "method = 'LLS'\n",
    "method = 'MLE'\n",
    "mehtod = 'LLS'\n",
    "method = 'QRILC'\n",
    "method = 'MINDET'\n",
    "method = 'MINPROB'\n",
    "method = 'IRM'\n",
    "method = 'IMPSEQ'\n",
    "method = 'IMPSEQROB'\n",
    "method = 'MICE-NORM'\n",
    "method = 'MICE-CART'\n",
    "method = 'RF'\n",
    "method = 'PI'\n",
    "method = 'GMS'\n",
    "```"
   ]
  },
  {
   "cell_type": "code",
   "execution_count": null,
   "id": "71fa66c7-c8b0-4fa4-8596-525ba7821fe6",
   "metadata": {
    "tags": [
     "parameters"
    ],
    "vscode": {
     "languageId": "r"
    }
   },
   "outputs": [],
   "source": [
    "train_split = 'runs/example/data/data_wide_sample_cols.csv' # test\n",
    "folder_experiment = 'runs/example/'\n",
    "method = 'KNN_IMPUTE'"
   ]
  },
  {
   "cell_type": "markdown",
   "id": "fc7ef882-0cbd-40f7-a77f-cc87f7145171",
   "metadata": {},
   "source": [
    "## Dump predictions"
   ]
  },
  {
   "cell_type": "code",
   "execution_count": null,
   "id": "3f7c8d95-9bec-4964-8cd2-de1dea3eebeb",
   "metadata": {
    "tags": [],
    "vscode": {
     "languageId": "r"
    }
   },
   "outputs": [],
   "source": [
    "df <- utils::read.csv(train_split, row.names=1, header=TRUE, stringsAsFactors = FALSE)\n",
    "df"
   ]
  },
  {
   "cell_type": "markdown",
   "id": "3ed78a0c-2716-4629-bb15-8e3fd650576a",
   "metadata": {
    "tags": []
   },
   "source": [
    "- `data.frame` does not allow abritary column names, but only valid column names...\n",
    "- tibbles don't support rownames, and the imputation methods rely on normal `data.frame`s. Save the header row for later use."
   ]
  },
  {
   "cell_type": "code",
   "execution_count": null,
   "id": "48d44d19-847e-4e4d-87ae-4398875ec82c",
   "metadata": {
    "tags": [],
    "vscode": {
     "languageId": "r"
    }
   },
   "outputs": [],
   "source": [
    "original_header <- colnames(\n",
    "    readr::read_csv(train_split, n_max=1, col_names=TRUE, skip=0)\n",
    ")\n",
    "feat_name <- original_header[1]\n",
    "original_header[1:5]"
   ]
  },
  {
   "cell_type": "markdown",
   "id": "cba42154-6703-4c13-8d17-05b600bcb254",
   "metadata": {},
   "source": [
    "Uncomment to test certain methods (only for debugging, as at least one method per package is tested using Github Actions)"
   ]
  },
  {
   "cell_type": "code",
   "execution_count": null,
   "id": "162c5f7f-08f0-44ef-abf5-f0805ab58bb4",
   "metadata": {
    "vscode": {
     "languageId": "r"
    }
   },
   "outputs": [],
   "source": [
    "# to_test <- c(\n",
    " # 'ZERO',\n",
    " # 'MINIMUM',\n",
    " # 'COLMEDIAN',\n",
    " # 'ROWMEDIAN',\n",
    " # 'KNN_IMPUTE',\n",
    " # 'SEQKNN',\n",
    " # 'BPCA',\n",
    " # 'SVDMETHOD',\n",
    " # 'LLS',\n",
    " # 'MLE',\n",
    " # 'LLS',\n",
    " # 'QRILC',\n",
    " # 'MINDET',\n",
    " # 'MINPROB',\n",
    " # 'IRM',\n",
    " # 'IMPSEQ',\n",
    " # 'IMPSEQROB',\n",
    " # 'MICE-NORM',\n",
    " # 'MICE-CART',\n",
    " # 'RF',\n",
    " # 'PI',\n",
    " # 'GMS', # fails to install on Windows\n",
    " #  'trknn',\n",
    " #  'msimpute'\n",
    "# )\n",
    "\n",
    "# for (method in to_test) {\n",
    "#     print(method)\n",
    "#     pred <- nafunctions(df, method)\n",
    "# }"
   ]
  },
  {
   "cell_type": "markdown",
   "id": "ff4ff1c2-192e-4a48-b5b6-d80ab989b12e",
   "metadata": {},
   "source": [
    "Impute and save predictions with original feature and column names"
   ]
  },
  {
   "cell_type": "code",
   "execution_count": null,
   "id": "690d47c2-5666-41f2-b13f-9215334f197c",
   "metadata": {
    "lines_to_next_cell": 0,
    "tags": [],
    "vscode": {
     "languageId": "r"
    }
   },
   "outputs": [],
   "source": [
    "pred <- nafunctions(df, method)\n",
    "pred <- tibble::as_tibble(\n",
    "    cbind(rownames(pred), pred)\n",
    ")\n",
    "names(pred) <- original_header\n",
    "pred"
   ]
  },
  {
   "cell_type": "code",
   "execution_count": null,
   "id": "e0c8bff6-1630-4fa3-bf6e-91f3ae018d28",
   "metadata": {
    "tags": [],
    "vscode": {
     "languageId": "r"
    }
   },
   "outputs": [],
   "source": [
    "pred <- reshape2::melt(pred, id.vars=feat_name)\n",
    "names(pred) <- c(feat_name, 'Sample ID', method)\n",
    "pred <- pred[reshape2::melt(is.na(df))['value'] == TRUE, ]\n",
    "pred"
   ]
  },
  {
   "cell_type": "code",
   "execution_count": null,
   "id": "ff5196d2-0ecf-49da-b7eb-4075b8a73707",
   "metadata": {
    "vscode": {
     "languageId": "r"
    }
   },
   "outputs": [],
   "source": [
    "dim(pred)"
   ]
  },
  {
   "cell_type": "code",
   "execution_count": null,
   "id": "ffebedb9-02db-4a7f-a5f6-a54a2aa057fc",
   "metadata": {
    "vscode": {
     "languageId": "r"
    }
   },
   "outputs": [],
   "source": [
    "fname = file.path(folder_experiment, 'preds', paste0('pred_all_', toupper(method), '.csv'))\n",
    "fname"
   ]
  },
  {
   "cell_type": "code",
   "execution_count": null,
   "id": "df1a114a-166d-4bcc-8c10-3ac69570f96c",
   "metadata": {
    "vscode": {
     "languageId": "r"
    }
   },
   "outputs": [],
   "source": [
    "write_csv(pred, path=fname)"
   ]
  }
 ],
 "metadata": {
  "jupytext": {
   "formats": "ipynb,R:light"
  },
  "kernelspec": {
   "display_name": "R",
   "language": "R",
   "name": "ir"
  },
  "language_info": {
   "codemirror_mode": "r",
   "file_extension": ".r",
   "mimetype": "text/x-r-source",
   "name": "R",
   "pygments_lexer": "r",
   "version": "4.1.3"
  }
 },
 "nbformat": 4,
 "nbformat_minor": 5
}
