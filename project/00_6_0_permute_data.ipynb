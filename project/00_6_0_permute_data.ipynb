{
 "cells": [
  {
   "cell_type": "markdown",
   "id": "4f5b13ff",
   "metadata": {
    "lines_to_next_cell": 2
   },
   "source": [
    "# Permute featues in data"
   ]
  },
  {
   "cell_type": "code",
   "execution_count": null,
   "id": "18b096f6",
   "metadata": {},
   "outputs": [],
   "source": [
    "from pathlib import Path\n",
    "from typing import Union, List\n",
    "\n",
    "import numpy as np\n",
    "import vaep\n",
    "import vaep.analyzers.analyzers\n",
    "from vaep.utils import create_random_df\n",
    "\n",
    "logger = vaep.logging.setup_nb_logger()\n",
    "logger.info(\"Split data and make diagnostic plots\")"
   ]
  },
  {
   "cell_type": "code",
   "execution_count": null,
   "id": "dab87e08",
   "metadata": {},
   "outputs": [],
   "source": [
    "t = create_random_df(N=10, M=3)\n",
    "t = t.apply(lambda x: np.arange(len(x)))\n",
    "t"
   ]
  },
  {
   "cell_type": "code",
   "execution_count": null,
   "id": "c063477f",
   "metadata": {},
   "outputs": [],
   "source": [
    "rng = np.random.default_rng()\n",
    "t.apply(rng.permutation).sort_values(by='feat_0')"
   ]
  },
  {
   "cell_type": "code",
   "execution_count": null,
   "id": "b0214221",
   "metadata": {
    "lines_to_next_cell": 2
   },
   "outputs": [],
   "source": [
    "# catch passed parameters\n",
    "args = None\n",
    "args = dict(globals()).keys()"
   ]
  },
  {
   "cell_type": "code",
   "execution_count": null,
   "id": "3143355e",
   "metadata": {
    "tags": [
     "parameters"
    ]
   },
   "outputs": [],
   "source": [
    "FN_INTENSITIES: str = 'data/dev_datasets/df_intensities_proteinGroups_long/Q_Exactive_HF_X_Orbitrap_6070.pkl'  # Sample (rows) intensiites for features (columns)\n",
    "index_col: Union[str, int] = 0  # Can be either a string or position (typical 0 for first column), or a list of these.\n",
    "column_names: List[str] = [\"Gene Names\"]  # Manuelly set column names (of Index object in columns)\n",
    "out_folder: str = ''  # Output folder for permuted data, optional. Default is to save with suffix '_permuted' in same folder as input data\n",
    "random_seed: int = 42  # Random seed for reproducibility\n",
    "file_format: str = 'pkl'"
   ]
  },
  {
   "cell_type": "code",
   "execution_count": null,
   "id": "973be356",
   "metadata": {},
   "outputs": [],
   "source": [
    "args = vaep.nb.get_params(args, globals=globals())\n",
    "args"
   ]
  },
  {
   "cell_type": "code",
   "execution_count": null,
   "id": "d1b94fdf",
   "metadata": {
    "lines_to_next_cell": 2
   },
   "outputs": [],
   "source": [
    "args = vaep.nb.Config().from_dict(args)\n",
    "args"
   ]
  },
  {
   "cell_type": "code",
   "execution_count": null,
   "id": "4fde1c1f",
   "metadata": {},
   "outputs": [],
   "source": [
    "if isinstance(args.index_col, str) or isinstance(args.index_col, int):\n",
    "    args.overwrite_entry('index_col', [args.index_col])\n",
    "args.index_col  # make sure it is an iterable"
   ]
  },
  {
   "cell_type": "markdown",
   "id": "9f2595b5",
   "metadata": {},
   "source": [
    "## Raw data"
   ]
  },
  {
   "cell_type": "markdown",
   "id": "2f49deed",
   "metadata": {},
   "source": [
    "process arguments"
   ]
  },
  {
   "cell_type": "code",
   "execution_count": null,
   "id": "5c1107e4",
   "metadata": {},
   "outputs": [],
   "source": [
    "logger.info(f\"{args.FN_INTENSITIES = }\")\n",
    "\n",
    "\n",
    "FILE_FORMAT_TO_CONSTRUCTOR_IN = {'csv': 'from_csv',\n",
    "                                 'pkl': 'from_pickle',\n",
    "                                 'pickle': 'from_pickle',\n",
    "                                 }\n",
    "\n",
    "FILE_EXT = Path(args.FN_INTENSITIES).suffix[1:]\n",
    "logger.info(f\"File format (extension): {FILE_EXT}  (!specifies data loading function!)\")"
   ]
  },
  {
   "cell_type": "code",
   "execution_count": null,
   "id": "414b43aa",
   "metadata": {
    "lines_to_next_cell": 2
   },
   "outputs": [],
   "source": [
    "constructor = getattr(\n",
    "    vaep.analyzers.analyzers.AnalyzePeptides,\n",
    "    FILE_FORMAT_TO_CONSTRUCTOR_IN[FILE_EXT])  # AnalyzePeptides.from_csv\n",
    "analysis = constructor(fname=args.FN_INTENSITIES,\n",
    "                       index_col=args.index_col,\n",
    "                       )"
   ]
  },
  {
   "cell_type": "code",
   "execution_count": null,
   "id": "ae616a05",
   "metadata": {},
   "outputs": [],
   "source": [
    "analysis.df.iloc[:10, :5]"
   ]
  },
  {
   "cell_type": "code",
   "execution_count": null,
   "id": "a3ff02a2",
   "metadata": {
    "lines_to_next_cell": 0
   },
   "outputs": [],
   "source": [
    "rng = np.random.default_rng(seed=args.random_seed)\n",
    "df = analysis.df.apply(rng.permutation)\n",
    "\n",
    "df.iloc[:10, :5]"
   ]
  },
  {
   "cell_type": "code",
   "execution_count": null,
   "id": "a6b49e3a",
   "metadata": {
    "lines_to_next_cell": 0
   },
   "outputs": [],
   "source": [
    "FILE_FORMAT_TO_CONSTRUCTOR = {'csv': 'to_csv',\n",
    "                              'pkl': 'to_pickle',\n",
    "                              'pickle': 'to_pickle',\n",
    "                              }\n",
    "\n",
    "method = getattr(df, FILE_FORMAT_TO_CONSTRUCTOR.get(FILE_EXT))\n",
    "\n",
    "fname = vaep.utils.append_to_filepath(args.FN_INTENSITIES, 'permuted')\n",
    "method(fname)"
   ]
  },
  {
   "cell_type": "code",
   "execution_count": null,
   "id": "0a5cb34e",
   "metadata": {},
   "outputs": [],
   "source": [
    "constructor = getattr(\n",
    "    vaep.analyzers.analyzers.AnalyzePeptides,\n",
    "    FILE_FORMAT_TO_CONSTRUCTOR_IN[FILE_EXT])  # AnalyzePeptides.from_csv\n",
    "analysis = constructor(fname=args.FN_INTENSITIES,\n",
    "                       index_col=args.index_col,\n",
    "                       )"
   ]
  }
 ],
 "metadata": {
  "jupytext": {
   "cell_metadata_filter": "tags,-all",
   "formats": "ipynb,py:percent",
   "main_language": "python",
   "notebook_metadata_filter": "-all"
  },
  "kernelspec": {
   "display_name": "Python 3",
   "language": "python",
   "name": "python3"
  },
  "language_info": {
   "codemirror_mode": {
    "name": "ipython",
    "version": 3
   },
   "file_extension": ".py",
   "mimetype": "text/x-python",
   "name": "python",
   "nbconvert_exporter": "python",
   "pygments_lexer": "ipython3",
   "version": "3.8.17"
  }
 },
 "nbformat": 4,
 "nbformat_minor": 5
}
