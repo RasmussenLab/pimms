{
 "cells": [
  {
   "cell_type": "markdown",
   "id": "a899eeee-ceb5-499e-808f-50350e0ece28",
   "metadata": {},
   "source": [
    "# Pandas Categorical data type\n",
    "\n",
    "- unexpected behaviour in comparison to `object` or  `string` type, see [blog](https://towardsdatascience.com/staying-sane-while-adopting-pandas-categorical-datatypes-78dbd19dcd8a)\n"
   ]
  },
  {
   "cell_type": "code",
   "execution_count": 1,
   "id": "d6dd2297-d7cb-4682-87ba-a6acc8fe80d3",
   "metadata": {},
   "outputs": [
    {
     "data": {
      "text/html": [
       "<div>\n",
       "<style scoped>\n",
       "    .dataframe tbody tr th:only-of-type {\n",
       "        vertical-align: middle;\n",
       "    }\n",
       "\n",
       "    .dataframe tbody tr th {\n",
       "        vertical-align: top;\n",
       "    }\n",
       "\n",
       "    .dataframe thead th {\n",
       "        text-align: right;\n",
       "    }\n",
       "</style>\n",
       "<table border=\"1\" class=\"dataframe\">\n",
       "  <thead>\n",
       "    <tr style=\"text-align: right;\">\n",
       "      <th></th>\n",
       "      <th></th>\n",
       "      <th>intensity</th>\n",
       "    </tr>\n",
       "    <tr>\n",
       "      <th>Sample ID</th>\n",
       "      <th>peptide</th>\n",
       "      <th></th>\n",
       "    </tr>\n",
       "  </thead>\n",
       "  <tbody>\n",
       "    <tr>\n",
       "      <th rowspan=\"5\" valign=\"top\">0</th>\n",
       "      <th>0</th>\n",
       "      <td>23.362</td>\n",
       "    </tr>\n",
       "    <tr>\n",
       "      <th>1</th>\n",
       "      <td>25.403</td>\n",
       "    </tr>\n",
       "    <tr>\n",
       "      <th>2</th>\n",
       "      <td>25.592</td>\n",
       "    </tr>\n",
       "    <tr>\n",
       "      <th>3</th>\n",
       "      <td>21.950</td>\n",
       "    </tr>\n",
       "    <tr>\n",
       "      <th>4</th>\n",
       "      <td>26.262</td>\n",
       "    </tr>\n",
       "    <tr>\n",
       "      <th>...</th>\n",
       "      <th>...</th>\n",
       "      <td>...</td>\n",
       "    </tr>\n",
       "    <tr>\n",
       "      <th rowspan=\"5\" valign=\"top\">99</th>\n",
       "      <th>4</th>\n",
       "      <td>28.055</td>\n",
       "    </tr>\n",
       "    <tr>\n",
       "      <th>5</th>\n",
       "      <td>27.920</td>\n",
       "    </tr>\n",
       "    <tr>\n",
       "      <th>6</th>\n",
       "      <td>23.427</td>\n",
       "    </tr>\n",
       "    <tr>\n",
       "      <th>7</th>\n",
       "      <td>22.775</td>\n",
       "    </tr>\n",
       "    <tr>\n",
       "      <th>9</th>\n",
       "      <td>23.908</td>\n",
       "    </tr>\n",
       "  </tbody>\n",
       "</table>\n",
       "<p>907 rows × 1 columns</p>\n",
       "</div>"
      ],
      "text/plain": [
       "                   intensity\n",
       "Sample ID peptide           \n",
       "0         0           23.362\n",
       "          1           25.403\n",
       "          2           25.592\n",
       "          3           21.950\n",
       "          4           26.262\n",
       "...                      ...\n",
       "99        4           28.055\n",
       "          5           27.920\n",
       "          6           23.427\n",
       "          7           22.775\n",
       "          9           23.908\n",
       "\n",
       "[907 rows x 1 columns]"
      ]
     },
     "execution_count": 1,
     "metadata": {},
     "output_type": "execute_result"
    }
   ],
   "source": [
    "import pandas as pd\n",
    "from vaep import utils\n",
    "\n",
    "df_long = utils.create_long_df(100, 10)\n",
    "df_long = df_long.set_index(df_long.columns[:-1].to_list())\n",
    "df_long"
   ]
  },
  {
   "cell_type": "code",
   "execution_count": 2,
   "id": "c3e3b0a8-cf7a-4537-b4b7-8f20dbbae23a",
   "metadata": {},
   "outputs": [
    {
     "data": {
      "text/plain": [
       "Sample ID     object\n",
       "peptide       object\n",
       "intensity    float64\n",
       "dtype: object"
      ]
     },
     "execution_count": 2,
     "metadata": {},
     "output_type": "execute_result"
    }
   ],
   "source": [
    "idx_names = df_long.index.names\n",
    "df_long = df_long.reset_index()\n",
    "df_long[idx_names] = df_long[idx_names].astype(str)\n",
    "df_long.dtypes"
   ]
  },
  {
   "cell_type": "code",
   "execution_count": 3,
   "id": "addae156-55e5-4d4a-bc32-f6c6b7177fcc",
   "metadata": {},
   "outputs": [
    {
     "data": {
      "text/html": [
       "<div>\n",
       "<style scoped>\n",
       "    .dataframe tbody tr th:only-of-type {\n",
       "        vertical-align: middle;\n",
       "    }\n",
       "\n",
       "    .dataframe tbody tr th {\n",
       "        vertical-align: top;\n",
       "    }\n",
       "\n",
       "    .dataframe thead th {\n",
       "        text-align: right;\n",
       "    }\n",
       "</style>\n",
       "<table border=\"1\" class=\"dataframe\">\n",
       "  <thead>\n",
       "    <tr style=\"text-align: right;\">\n",
       "      <th></th>\n",
       "      <th></th>\n",
       "      <th>intensity</th>\n",
       "    </tr>\n",
       "    <tr>\n",
       "      <th>Sample ID</th>\n",
       "      <th>peptide</th>\n",
       "      <th></th>\n",
       "    </tr>\n",
       "  </thead>\n",
       "  <tbody>\n",
       "    <tr>\n",
       "      <th rowspan=\"10\" valign=\"top\">0</th>\n",
       "      <th>0</th>\n",
       "      <td>23.362</td>\n",
       "    </tr>\n",
       "    <tr>\n",
       "      <th>1</th>\n",
       "      <td>25.403</td>\n",
       "    </tr>\n",
       "    <tr>\n",
       "      <th>2</th>\n",
       "      <td>25.592</td>\n",
       "    </tr>\n",
       "    <tr>\n",
       "      <th>3</th>\n",
       "      <td>21.950</td>\n",
       "    </tr>\n",
       "    <tr>\n",
       "      <th>4</th>\n",
       "      <td>26.262</td>\n",
       "    </tr>\n",
       "    <tr>\n",
       "      <th>5</th>\n",
       "      <td>27.280</td>\n",
       "    </tr>\n",
       "    <tr>\n",
       "      <th>6</th>\n",
       "      <td>24.959</td>\n",
       "    </tr>\n",
       "    <tr>\n",
       "      <th>7</th>\n",
       "      <td>23.384</td>\n",
       "    </tr>\n",
       "    <tr>\n",
       "      <th>8</th>\n",
       "      <td>22.749</td>\n",
       "    </tr>\n",
       "    <tr>\n",
       "      <th>9</th>\n",
       "      <td>24.496</td>\n",
       "    </tr>\n",
       "    <tr>\n",
       "      <th rowspan=\"8\" valign=\"top\">98</th>\n",
       "      <th>0</th>\n",
       "      <td>26.852</td>\n",
       "    </tr>\n",
       "    <tr>\n",
       "      <th>1</th>\n",
       "      <td>22.311</td>\n",
       "    </tr>\n",
       "    <tr>\n",
       "      <th>2</th>\n",
       "      <td>27.162</td>\n",
       "    </tr>\n",
       "    <tr>\n",
       "      <th>4</th>\n",
       "      <td>27.101</td>\n",
       "    </tr>\n",
       "    <tr>\n",
       "      <th>5</th>\n",
       "      <td>23.197</td>\n",
       "    </tr>\n",
       "    <tr>\n",
       "      <th>7</th>\n",
       "      <td>26.191</td>\n",
       "    </tr>\n",
       "    <tr>\n",
       "      <th>8</th>\n",
       "      <td>24.499</td>\n",
       "    </tr>\n",
       "    <tr>\n",
       "      <th>9</th>\n",
       "      <td>25.188</td>\n",
       "    </tr>\n",
       "  </tbody>\n",
       "</table>\n",
       "</div>"
      ],
      "text/plain": [
       "                   intensity\n",
       "Sample ID peptide           \n",
       "0         0           23.362\n",
       "          1           25.403\n",
       "          2           25.592\n",
       "          3           21.950\n",
       "          4           26.262\n",
       "          5           27.280\n",
       "          6           24.959\n",
       "          7           23.384\n",
       "          8           22.749\n",
       "          9           24.496\n",
       "98        0           26.852\n",
       "          1           22.311\n",
       "          2           27.162\n",
       "          4           27.101\n",
       "          5           23.197\n",
       "          7           26.191\n",
       "          8           24.499\n",
       "          9           25.188"
      ]
     },
     "execution_count": 3,
     "metadata": {},
     "output_type": "execute_result"
    }
   ],
   "source": [
    "samples = [\"0\", \"98\"]\n",
    "df_long.set_index(idx_names).loc[samples]"
   ]
  },
  {
   "cell_type": "code",
   "execution_count": 4,
   "id": "7cf9fba8-66c4-48d2-80f7-71d6b228ed8d",
   "metadata": {},
   "outputs": [
    {
     "data": {
      "text/html": [
       "<div>\n",
       "<style scoped>\n",
       "    .dataframe tbody tr th:only-of-type {\n",
       "        vertical-align: middle;\n",
       "    }\n",
       "\n",
       "    .dataframe tbody tr th {\n",
       "        vertical-align: top;\n",
       "    }\n",
       "\n",
       "    .dataframe thead th {\n",
       "        text-align: right;\n",
       "    }\n",
       "</style>\n",
       "<table border=\"1\" class=\"dataframe\">\n",
       "  <thead>\n",
       "    <tr style=\"text-align: right;\">\n",
       "      <th></th>\n",
       "      <th></th>\n",
       "      <th>intensity</th>\n",
       "    </tr>\n",
       "    <tr>\n",
       "      <th>Sample ID</th>\n",
       "      <th>peptide</th>\n",
       "      <th></th>\n",
       "    </tr>\n",
       "  </thead>\n",
       "  <tbody>\n",
       "    <tr>\n",
       "      <th rowspan=\"10\" valign=\"top\">0</th>\n",
       "      <th>0</th>\n",
       "      <td>23.362</td>\n",
       "    </tr>\n",
       "    <tr>\n",
       "      <th>1</th>\n",
       "      <td>25.403</td>\n",
       "    </tr>\n",
       "    <tr>\n",
       "      <th>2</th>\n",
       "      <td>25.592</td>\n",
       "    </tr>\n",
       "    <tr>\n",
       "      <th>3</th>\n",
       "      <td>21.950</td>\n",
       "    </tr>\n",
       "    <tr>\n",
       "      <th>4</th>\n",
       "      <td>26.262</td>\n",
       "    </tr>\n",
       "    <tr>\n",
       "      <th>5</th>\n",
       "      <td>27.280</td>\n",
       "    </tr>\n",
       "    <tr>\n",
       "      <th>6</th>\n",
       "      <td>24.959</td>\n",
       "    </tr>\n",
       "    <tr>\n",
       "      <th>7</th>\n",
       "      <td>23.384</td>\n",
       "    </tr>\n",
       "    <tr>\n",
       "      <th>8</th>\n",
       "      <td>22.749</td>\n",
       "    </tr>\n",
       "    <tr>\n",
       "      <th>9</th>\n",
       "      <td>24.496</td>\n",
       "    </tr>\n",
       "    <tr>\n",
       "      <th rowspan=\"8\" valign=\"top\">98</th>\n",
       "      <th>0</th>\n",
       "      <td>26.852</td>\n",
       "    </tr>\n",
       "    <tr>\n",
       "      <th>1</th>\n",
       "      <td>22.311</td>\n",
       "    </tr>\n",
       "    <tr>\n",
       "      <th>2</th>\n",
       "      <td>27.162</td>\n",
       "    </tr>\n",
       "    <tr>\n",
       "      <th>4</th>\n",
       "      <td>27.101</td>\n",
       "    </tr>\n",
       "    <tr>\n",
       "      <th>5</th>\n",
       "      <td>23.197</td>\n",
       "    </tr>\n",
       "    <tr>\n",
       "      <th>7</th>\n",
       "      <td>26.191</td>\n",
       "    </tr>\n",
       "    <tr>\n",
       "      <th>8</th>\n",
       "      <td>24.499</td>\n",
       "    </tr>\n",
       "    <tr>\n",
       "      <th>9</th>\n",
       "      <td>25.188</td>\n",
       "    </tr>\n",
       "  </tbody>\n",
       "</table>\n",
       "</div>"
      ],
      "text/plain": [
       "                   intensity\n",
       "Sample ID peptide           \n",
       "0         0           23.362\n",
       "          1           25.403\n",
       "          2           25.592\n",
       "          3           21.950\n",
       "          4           26.262\n",
       "          5           27.280\n",
       "          6           24.959\n",
       "          7           23.384\n",
       "          8           22.749\n",
       "          9           24.496\n",
       "98        0           26.852\n",
       "          1           22.311\n",
       "          2           27.162\n",
       "          4           27.101\n",
       "          5           23.197\n",
       "          7           26.191\n",
       "          8           24.499\n",
       "          9           25.188"
      ]
     },
     "execution_count": 4,
     "metadata": {},
     "output_type": "execute_result"
    }
   ],
   "source": [
    "df_long[idx_names] = df_long[idx_names].astype('category')\n",
    "df_long.set_index(idx_names).loc[samples]"
   ]
  },
  {
   "cell_type": "code",
   "execution_count": 5,
   "id": "cd85c723-6bda-4d48-9d41-46b5eb3d2659",
   "metadata": {},
   "outputs": [],
   "source": [
    "idx = df_long.set_index(idx_names).index"
   ]
  },
  {
   "cell_type": "code",
   "execution_count": 6,
   "id": "621f5854-2427-4fff-be3e-30b65567855a",
   "metadata": {},
   "outputs": [
    {
     "data": {
      "text/plain": [
       "CategoricalDtype(categories=['0', '1', '10', '11', '12', '13', '14', '15', '16', '17',\n",
       "                  '18', '19', '2', '20', '21', '22', '23', '24', '25', '26',\n",
       "                  '27', '28', '29', '3', '30', '31', '32', '33', '34', '35',\n",
       "                  '36', '37', '38', '39', '4', '40', '41', '42', '43', '44',\n",
       "                  '45', '46', '47', '48', '49', '5', '50', '51', '52', '53',\n",
       "                  '54', '55', '56', '57', '58', '59', '6', '60', '61', '62',\n",
       "                  '63', '64', '65', '66', '67', '68', '69', '7', '70', '71',\n",
       "                  '72', '73', '74', '75', '76', '77', '78', '79', '8', '80',\n",
       "                  '81', '82', '83', '84', '85', '86', '87', '88', '89', '9',\n",
       "                  '90', '91', '92', '93', '94', '95', '96', '97', '98', '99'],\n",
       ", ordered=False)"
      ]
     },
     "execution_count": 6,
     "metadata": {},
     "output_type": "execute_result"
    }
   ],
   "source": [
    "SAMPLE_ID = 'Sample ID'\n",
    "df_long[SAMPLE_ID].dtype"
   ]
  },
  {
   "cell_type": "markdown",
   "id": "910dde66-769c-48c4-9a82-9343a451adfa",
   "metadata": {},
   "source": [
    "## Reuse a categorical dtype"
   ]
  },
  {
   "cell_type": "code",
   "execution_count": 7,
   "id": "f22a233a-e842-4e50-997a-68c85b7c58e5",
   "metadata": {},
   "outputs": [
    {
     "data": {
      "text/plain": [
       "0      1\n",
       "1     98\n",
       "2    NaN\n",
       "dtype: category\n",
       "Categories (100, object): ['0', '1', '10', '11', ..., '96', '97', '98', '99']"
      ]
     },
     "execution_count": 7,
     "metadata": {},
     "output_type": "execute_result"
    }
   ],
   "source": [
    "pd.Series(['1', '98', '200'], dtype=df_long[SAMPLE_ID].dtype)"
   ]
  },
  {
   "cell_type": "code",
   "execution_count": 8,
   "id": "62c78cf6-88a5-436b-998b-8232b0f26088",
   "metadata": {},
   "outputs": [
    {
     "data": {
      "text/plain": [
       "0      0\n",
       "1      0\n",
       "2      0\n",
       "3      0\n",
       "4      0\n",
       "      ..\n",
       "902   99\n",
       "903   99\n",
       "904   99\n",
       "905   99\n",
       "906   99\n",
       "Length: 907, dtype: int8"
      ]
     },
     "execution_count": 8,
     "metadata": {},
     "output_type": "execute_result"
    }
   ],
   "source": [
    "df_long[SAMPLE_ID].cat.codes # integer codes"
   ]
  },
  {
   "cell_type": "markdown",
   "id": "d76eb7bc-3475-4ce3-bda9-d5bb4c964501",
   "metadata": {},
   "source": [
    "## Ordered integers"
   ]
  },
  {
   "cell_type": "code",
   "execution_count": 9,
   "id": "9b857f13",
   "metadata": {},
   "outputs": [
    {
     "data": {
      "text/plain": [
       "count    30\n",
       "unique    3\n",
       "top      10\n",
       "freq     10\n",
       "dtype: int64"
      ]
     },
     "execution_count": 9,
     "metadata": {},
     "output_type": "execute_result"
    }
   ],
   "source": [
    "s = pd.Series([10, 50, 100] *10, dtype='category')\n",
    "s.describe()"
   ]
  },
  {
   "cell_type": "code",
   "execution_count": 10,
   "id": "0f654aa2",
   "metadata": {},
   "outputs": [
    {
     "data": {
      "text/plain": [
       "(Int64Index([10, 50, 100], dtype='int64'),\n",
       " [10, 50, 100]\n",
       " Categories (3, int64): [10, 50, 100])"
      ]
     },
     "execution_count": 10,
     "metadata": {},
     "output_type": "execute_result"
    }
   ],
   "source": [
    "s.cat.categories, s.unique()"
   ]
  },
  {
   "cell_type": "markdown",
   "id": "b74b0e0c",
   "metadata": {},
   "source": [
    "Insertion order is important for `object` and `string` categories\n",
    "\n",
    "> Codes are an array of integers which are the positions of the actual values in the categories array. ([src](https://pandas.pydata.org/docs/reference/api/pandas.Categorical.codes.html))"
   ]
  },
  {
   "cell_type": "code",
   "execution_count": 17,
   "id": "1c46abe1",
   "metadata": {},
   "outputs": [
    {
     "data": {
      "text/plain": [
       "(Int64Index([10, 50, 100], dtype='int64'),\n",
       " [100, 50, 10]\n",
       " Categories (3, int64): [100, 50, 10])"
      ]
     },
     "execution_count": 11,
     "metadata": {},
     "output_type": "execute_result"
    }
   ],
   "source": [
    "s = pd.Series([100, 50, 10] *10, dtype='category') # for integers order of data does not seem to matter\n",
    "s.cat.categories, s.unique()"
   ]
  },
  {
   "cell_type": "markdown",
   "id": "f5fc2152",
   "metadata": {},
   "source": [
    "Solution: Be specific and define categories upfront"
   ]
  },
  {
   "cell_type": "code",
   "execution_count": 12,
   "id": "230da2a3",
   "metadata": {},
   "outputs": [
    {
     "data": {
      "text/plain": [
       "(Int64Index([10, 50, 100], dtype='int64'),\n",
       " [100, 50, 10]\n",
       " Categories (3, int64): [100, 50, 10])"
      ]
     },
     "execution_count": 13,
     "metadata": {},
     "output_type": "execute_result"
    }
   ],
   "source": [
    "dtype = pd.CategoricalDtype([10, 50, 100], ordered=False)\n",
    "s = pd.Series([100, 50, 10] *10, dtype=dtype)\n",
    "s.cat.categories, s.unique()"
   ]
  },
  {
   "cell_type": "code",
   "execution_count": 14,
   "id": "0777d8c9",
   "metadata": {},
   "outputs": [
    {
     "data": {
      "text/plain": [
       "[100, 50, 10]\n",
       "Categories (3, int64): [100, 50, 10]"
      ]
     },
     "execution_count": 15,
     "metadata": {},
     "output_type": "execute_result"
    }
   ],
   "source": [
    "s.unique()"
   ]
  },
  {
   "cell_type": "markdown",
   "id": "cfc27724",
   "metadata": {},
   "source": [
    "The codes did change!"
   ]
  },
  {
   "cell_type": "code",
   "execution_count": 16,
   "id": "01bcd719",
   "metadata": {},
   "outputs": [
    {
     "data": {
      "text/plain": [
       "array([2, 1, 0], dtype=int8)"
      ]
     },
     "execution_count": 17,
     "metadata": {},
     "output_type": "execute_result"
    }
   ],
   "source": [
    "s.cat.codes.unique() # the codes are then not the original integers!"
   ]
  }
 ],
 "metadata": {
  "kernelspec": {
   "display_name": "vaep",
   "language": "python",
   "name": "vaep"
  },
  "language_info": {
   "codemirror_mode": {
    "name": "ipython",
    "version": 3
   },
   "file_extension": ".py",
   "mimetype": "text/x-python",
   "name": "python",
   "nbconvert_exporter": "python",
   "pygments_lexer": "ipython3",
   "version": "3.8.13"
  }
 },
 "nbformat": 4,
 "nbformat_minor": 5
}
