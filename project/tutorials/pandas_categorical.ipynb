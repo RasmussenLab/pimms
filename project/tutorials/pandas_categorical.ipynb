{
 "cells": [
  {
   "cell_type": "markdown",
   "id": "a899eeee-ceb5-499e-808f-50350e0ece28",
   "metadata": {},
   "source": [
    "# Pandas Categorical data type\n",
    "\n",
    "- unexpected behaviour in comparison to `object` or  `string` type, see [blog](https://towardsdatascience.com/staying-sane-while-adopting-pandas-categorical-datatypes-78dbd19dcd8a)\n"
   ]
  },
  {
   "cell_type": "code",
   "execution_count": null,
   "id": "d6dd2297-d7cb-4682-87ba-a6acc8fe80d3",
   "metadata": {},
   "outputs": [],
   "source": [
    "import pandas as pd\n",
    "from vaep import utils\n",
    "\n",
    "df_long = utils.create_long_df(100, 10)\n",
    "df_long = df_long.set_index(df_long.columns[:-1].to_list())\n",
    "df_long"
   ]
  },
  {
   "cell_type": "code",
   "execution_count": null,
   "id": "c3e3b0a8-cf7a-4537-b4b7-8f20dbbae23a",
   "metadata": {},
   "outputs": [],
   "source": [
    "idx_names = df_long.index.names\n",
    "df_long = df_long.reset_index()\n",
    "df_long[idx_names] = df_long[idx_names].astype(str)\n",
    "df_long.dtypes"
   ]
  },
  {
   "cell_type": "code",
   "execution_count": null,
   "id": "addae156-55e5-4d4a-bc32-f6c6b7177fcc",
   "metadata": {},
   "outputs": [],
   "source": [
    "samples = [\"0\", \"98\"]\n",
    "df_long.set_index(idx_names).loc[samples]"
   ]
  },
  {
   "cell_type": "code",
   "execution_count": null,
   "id": "7cf9fba8-66c4-48d2-80f7-71d6b228ed8d",
   "metadata": {},
   "outputs": [],
   "source": [
    "df_long[idx_names] = df_long[idx_names].astype('category')\n",
    "df_long.set_index(idx_names).loc[samples]"
   ]
  },
  {
   "cell_type": "code",
   "execution_count": null,
   "id": "cd85c723-6bda-4d48-9d41-46b5eb3d2659",
   "metadata": {},
   "outputs": [],
   "source": [
    "idx = df_long.set_index(idx_names).index"
   ]
  },
  {
   "cell_type": "code",
   "execution_count": null,
   "id": "621f5854-2427-4fff-be3e-30b65567855a",
   "metadata": {},
   "outputs": [],
   "source": [
    "SAMPLE_ID = 'Sample ID'\n",
    "df_long[SAMPLE_ID].dtype"
   ]
  },
  {
   "cell_type": "markdown",
   "id": "910dde66-769c-48c4-9a82-9343a451adfa",
   "metadata": {},
   "source": [
    "## Reuse a categorical dtype"
   ]
  },
  {
   "cell_type": "code",
   "execution_count": null,
   "id": "f22a233a-e842-4e50-997a-68c85b7c58e5",
   "metadata": {},
   "outputs": [],
   "source": [
    "pd.Series(['1', '98', '200'], dtype=df_long[SAMPLE_ID].dtype)"
   ]
  },
  {
   "cell_type": "code",
   "execution_count": null,
   "id": "62c78cf6-88a5-436b-998b-8232b0f26088",
   "metadata": {},
   "outputs": [],
   "source": [
    "df_long[SAMPLE_ID].cat.codes # integer codes"
   ]
  },
  {
   "cell_type": "code",
   "execution_count": null,
   "id": "d76eb7bc-3475-4ce3-bda9-d5bb4c964501",
   "metadata": {},
   "outputs": [],
   "source": []
  }
 ],
 "metadata": {
  "kernelspec": {
   "display_name": "vaep",
   "language": "python",
   "name": "vaep"
  },
  "language_info": {
   "codemirror_mode": {
    "name": "ipython",
    "version": 3
   },
   "file_extension": ".py",
   "mimetype": "text/x-python",
   "name": "python",
   "nbconvert_exporter": "python",
   "pygments_lexer": "ipython3",
   "version": "3.8.12"
  }
 },
 "nbformat": 4,
 "nbformat_minor": 5
}
