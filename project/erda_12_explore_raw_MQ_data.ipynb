{
 "cells": [
  {
   "cell_type": "markdown",
   "metadata": {},
   "source": [
    "# Explore MaxQuant (MQ) output files of single runs\n",
    "\n",
    "The `project/10_training_data.ipynb` notebook does extract information to be used as training data. File specific one could also use the retention time analysis to identify _valid_ co-occurring peptides to be use during training. Potentially this preprocessing step can be used at inference time.\n",
    "\n",
    "This notebook contains some relevant analysis for a specific `txt` output-folder in the current project\n",
    "\n",
    "##### Analysis overview\n",
    "\n",
    "> Report for example data\n",
    "\n",
    "- relation between `peptides.txt` and `evidence.txt`"
   ]
  },
  {
   "cell_type": "code",
   "execution_count": null,
   "metadata": {},
   "outputs": [],
   "source": [
    "import logging\n",
    "import os\n",
    "from pathlib import Path\n",
    "import random\n",
    "\n",
    "import ipywidgets as widgets\n",
    "import pandas as pd\n",
    "# pd.options.display.float_format = '{:,.1f}'.format\n",
    "\n",
    "from vaep.io.mq import FASTA_KEYS, MaxQuantOutput, MaxQuantOutputDynamic\n",
    "from vaep.io import search_files, search_subfolders\n",
    "\n",
    "##################\n",
    "##### CONFIG #####\n",
    "##################\n",
    "\n",
    "from config import FIGUREFOLDER\n",
    "from config import FOLDER_RAW_DATA\n",
    "from config import FOLDER_KEY  # defines how filenames are parsed for use as indices\n",
    "from config import FOLDER_DATA  # project folder for storing the data\n",
    "\n",
    "print(f\"Search Raw-Files on path: {FOLDER_RAW_DATA}\")"
   ]
  },
  {
   "cell_type": "code",
   "execution_count": null,
   "metadata": {},
   "outputs": [],
   "source": [
    "from datetime import datetime\n",
    "\n",
    "#Delete Jupyter notebook root logger handler\n",
    "logger = logging.getLogger()\n",
    "logger.handlers = []\n",
    "\n",
    "# logger = logging.getLogger(mq_output.folder.stem)\n",
    "logger = logging.getLogger('vaep')\n",
    "logger.setLevel(logging.INFO)\n",
    "\n",
    "c_handler = logging.StreamHandler()\n",
    "c_handler.setLevel(logging.INFO)\n",
    "\n",
    "\n",
    "date_log_file = \"{:%y%m%d_%H%M}\".format(datetime.now())\n",
    "f_handler = logging.FileHandler(f\"log_01_explore_raw_MQ_{date_log_file}.txt\")\n",
    "f_handler.setLevel(logging.INFO)\n",
    "\n",
    "c_format = logging.Formatter(\n",
    "    f'%(name)s - %(levelname)-8s %(message)s ')\n",
    "\n",
    "c_handler.setFormatter(c_format)\n",
    "f_handler.setFormatter(c_format)\n",
    "\n",
    "logger.handlers = []  #remove any handler in case you reexecute the cell\n",
    "logger.addHandler(c_handler)\n",
    "logger.addHandler(f_handler)"
   ]
  },
  {
   "cell_type": "code",
   "execution_count": null,
   "metadata": {},
   "outputs": [],
   "source": [
    "logger.handlers"
   ]
  },
  {
   "cell_type": "code",
   "execution_count": null,
   "metadata": {},
   "outputs": [],
   "source": [
    "folders = search_subfolders(path=FOLDER_RAW_DATA, depth=1, exclude_root=True)\n",
    "w_folder = widgets.Dropdown(options=folders, description='Select a folder')\n",
    "w_folder"
   ]
  },
  {
   "cell_type": "code",
   "execution_count": null,
   "metadata": {},
   "outputs": [],
   "source": [
    "mq_output = MaxQuantOutput(folder=w_folder.value)"
   ]
  },
  {
   "cell_type": "markdown",
   "metadata": {},
   "source": [
    "## Some important columns\n",
    "\n",
    "Grouped by a namedtuple allowing attribute access"
   ]
  },
  {
   "cell_type": "code",
   "execution_count": null,
   "metadata": {},
   "outputs": [],
   "source": [
    "from vaep.io.mq import mq_col\n",
    "mq_col"
   ]
  },
  {
   "cell_type": "markdown",
   "metadata": {},
   "source": [
    "## `peptides.txt`\n",
    "\n",
    "> For reference on final \"result\""
   ]
  },
  {
   "cell_type": "code",
   "execution_count": null,
   "metadata": {},
   "outputs": [],
   "source": [
    "pd.options.display.max_columns = len(mq_output.peptides.columns)\n",
    "mq_output.peptides"
   ]
  },
  {
   "cell_type": "markdown",
   "metadata": {},
   "source": [
    "`peptides.txt` contains aggregated peptides"
   ]
  },
  {
   "cell_type": "code",
   "execution_count": null,
   "metadata": {},
   "outputs": [],
   "source": [
    "intensities = mq_output.peptides.Intensity\n",
    "intensities"
   ]
  },
  {
   "cell_type": "markdown",
   "metadata": {},
   "source": [
    "Not all peptides are associated with a Protein or Gene by MQ, although there is evidence for the peptide. This is due to potential `CON_`taminants in the medium which is encouded by default by MQ."
   ]
  },
  {
   "cell_type": "code",
   "execution_count": null,
   "metadata": {},
   "outputs": [],
   "source": [
    "mq_output.peptides[FASTA_KEYS].isna().sum()"
   ]
  },
  {
   "cell_type": "markdown",
   "metadata": {},
   "source": [
    "## `evidence.txt` \n",
    "\n",
    "contains\n",
    "- retention time for peptides\n",
    "- has repeated measures of the same sequences, which are all aggregated in `peptides.txt`\n"
   ]
  },
  {
   "cell_type": "code",
   "execution_count": null,
   "metadata": {},
   "outputs": [],
   "source": [
    "pd.options.display.max_columns = len(mq_output.evidence.columns)\n",
    "mq_output.evidence"
   ]
  },
  {
   "cell_type": "code",
   "execution_count": null,
   "metadata": {},
   "outputs": [],
   "source": [
    "mq_output.evidence.Charge.value_counts().sort_index()"
   ]
  },
  {
   "cell_type": "code",
   "execution_count": null,
   "metadata": {},
   "outputs": [],
   "source": [
    "mask = mq_output.evidence[mq_col.RETENTION_TIME] != mq_output.evidence[mq_col.CALIBRATED_RETENTION_TIME]\n",
    "print(\"Number of non-matching retention times between calibrated and non-calibrated column:\", mask.sum())\n",
    "\n",
    "# try:\n",
    "#     assert mask.sum() == 0, \"More than one replica?\"\n",
    "# except AssertionError as e:\n",
    "#     logger.warning(e)\n",
    "assert mask.sum() == 0, \"More than one replica?\""
   ]
  },
  {
   "cell_type": "markdown",
   "metadata": {},
   "source": [
    "Using only one quality control sample, leaves the initial retention time as is."
   ]
  },
  {
   "cell_type": "code",
   "execution_count": null,
   "metadata": {},
   "outputs": [],
   "source": [
    "rt = mq_output.evidence[mq_col.CALIBRATED_RETENTION_TIME]"
   ]
  },
  {
   "cell_type": "code",
   "execution_count": null,
   "metadata": {},
   "outputs": [],
   "source": [
    "pep_measured_freq_in_evidence = rt.index.value_counts()\n",
    "pep_measured_freq_in_evidence.iloc[:10]  # top10 repeatedly measured peptides"
   ]
  },
  {
   "cell_type": "code",
   "execution_count": null,
   "metadata": {},
   "outputs": [],
   "source": [
    "max_observed_pep_evidence = pep_measured_freq_in_evidence.index[0]\n",
    "mq_output.evidence.loc[\n",
    "    max_observed_pep_evidence,\n",
    "    :\n",
    "]"
   ]
  },
  {
   "cell_type": "markdown",
   "metadata": {},
   "source": [
    "The retention time index is non-unique."
   ]
  },
  {
   "cell_type": "code",
   "execution_count": null,
   "metadata": {},
   "outputs": [],
   "source": [
    "print('The retention time index is unique: {}'.format(rt.index.is_unique))"
   ]
  },
  {
   "cell_type": "markdown",
   "metadata": {},
   "source": [
    "Peptides observed more than once at different times."
   ]
  },
  {
   "cell_type": "code",
   "execution_count": null,
   "metadata": {},
   "outputs": [],
   "source": [
    "mask_duplicated = rt.index.duplicated(keep=False)\n",
    "rt_duplicates = rt.loc[mask_duplicated]\n",
    "rt_duplicates"
   ]
  },
  {
   "cell_type": "code",
   "execution_count": null,
   "metadata": {},
   "outputs": [],
   "source": [
    "mq_output.evidence.loc[mask_duplicated, [\n",
    "    'Charge', 'Calibrated retention time', 'Intensity']]"
   ]
  },
  {
   "cell_type": "markdown",
   "metadata": {},
   "source": [
    "Calculate median intensity and calculate standard deviation"
   ]
  },
  {
   "cell_type": "code",
   "execution_count": null,
   "metadata": {},
   "outputs": [],
   "source": [
    "_agg_functions = ['median', 'std']\n",
    "\n",
    "rt_summary = rt.groupby(level=0).agg(_agg_functions)\n",
    "rt_summary"
   ]
  },
  {
   "cell_type": "markdown",
   "metadata": {},
   "source": [
    "Let's see several quartiles for both median and standard deviation (the columns are independent from each other) for the retention time"
   ]
  },
  {
   "cell_type": "code",
   "execution_count": null,
   "metadata": {},
   "outputs": [],
   "source": [
    "rt_summary.describe(percentiles=[0.8, 0.9, 0.95, 0.96, 0.97, 0.98, 0.99])"
   ]
  },
  {
   "cell_type": "code",
   "execution_count": null,
   "metadata": {},
   "outputs": [],
   "source": [
    "rt_summary['median']"
   ]
  },
  {
   "cell_type": "markdown",
   "metadata": {},
   "source": [
    "A large standard-deviation indicates that the intensity values originate from time points (in min) widely spread."
   ]
  },
  {
   "cell_type": "markdown",
   "metadata": {},
   "source": [
    "### Peptides observed several times a different points of experimental run"
   ]
  },
  {
   "cell_type": "code",
   "execution_count": null,
   "metadata": {},
   "outputs": [],
   "source": [
    "mask = rt_summary['std'] > 40.0\n",
    "mask_indices = mask[mask].index\n",
    "rt.loc[mask_indices]"
   ]
  },
  {
   "cell_type": "markdown",
   "metadata": {},
   "source": [
    "Peptides with differen RT have different charges."
   ]
  },
  {
   "cell_type": "code",
   "execution_count": null,
   "metadata": {},
   "outputs": [],
   "source": [
    "mq_output.evidence.loc[mask_indices]"
   ]
  },
  {
   "cell_type": "markdown",
   "metadata": {},
   "source": [
    "Model evaluation possibility: Discard samples with several measurements from an experiment and predict value. See which intensity measurement corresponds more closely. "
   ]
  },
  {
   "cell_type": "code",
   "execution_count": null,
   "metadata": {},
   "outputs": [],
   "source": [
    "from numpy import random\n",
    "_peptide = random.choice(mask_indices)"
   ]
  },
  {
   "cell_type": "code",
   "execution_count": null,
   "metadata": {},
   "outputs": [],
   "source": [
    "mq_output.evidence.loc[_peptide]"
   ]
  },
  {
   "cell_type": "markdown",
   "metadata": {},
   "source": [
    "`Type` column indicates if peptide is based on one or more MS-MS spectra."
   ]
  },
  {
   "cell_type": "code",
   "execution_count": null,
   "metadata": {},
   "outputs": [],
   "source": [
    "mq_output.peptides.loc[_peptide].to_frame().T"
   ]
  },
  {
   "cell_type": "markdown",
   "metadata": {},
   "source": [
    "## Differences in intensities b/w peptides.txt and evidence.txt\n",
    "\n",
    "\n",
    "The intensity reported in `peptides.txt` corresponds to roughly to the sum of the intensities found in different scans:"
   ]
  },
  {
   "cell_type": "code",
   "execution_count": null,
   "metadata": {},
   "outputs": [],
   "source": [
    "from numpy.testing import assert_almost_equal\n",
    "\n",
    "col_intensity = mq_col.INTENSITY\n",
    "try:\n",
    "\n",
    "    assert_almost_equal(\n",
    "        _pep_int_evidence := mq_output.evidence.loc[_peptide, col_intensity].sum(),\n",
    "        _pep_int_peptides := mq_output.peptides.loc[_peptide, col_intensity],\n",
    "        err_msg='Mismatch between evidence.txt summed peptide intensities to reported peptide intensities in peptides.txt')\n",
    "except AssertionError as e:\n",
    "    logging.error(\n",
    "        f\"{e}\\n Difference: {_pep_int_evidence - _pep_int_peptides:,.2f}\")"
   ]
  },
  {
   "cell_type": "code",
   "execution_count": null,
   "metadata": {},
   "outputs": [],
   "source": [
    "mq_output.evidence.loc[_peptide, col_intensity]"
   ]
  },
  {
   "cell_type": "code",
   "execution_count": null,
   "metadata": {},
   "outputs": [],
   "source": [
    "mq_output.peptides.loc[_peptide, col_intensity]"
   ]
  },
  {
   "cell_type": "markdown",
   "metadata": {},
   "source": [
    "Make this comparison for all peptides"
   ]
  },
  {
   "cell_type": "code",
   "execution_count": null,
   "metadata": {},
   "outputs": [],
   "source": [
    "_pep_int_evidence = mq_output.evidence.groupby(\n",
    "    level=0).agg({col_intensity: [sum, len]})\n",
    "_pep_int_evidence.columns = [col_intensity, 'count']\n",
    "_pep_int_evidence"
   ]
  },
  {
   "cell_type": "code",
   "execution_count": null,
   "metadata": {},
   "outputs": [],
   "source": [
    "_diff = _pep_int_evidence[col_intensity] - \\\n",
    "    mq_output.peptides[col_intensity].astype(float)\n",
    "mask_diff = _diff != 0.0\n",
    "_pep_int_evidence.loc[mask_diff].describe()"
   ]
  },
  {
   "cell_type": "code",
   "execution_count": null,
   "metadata": {},
   "outputs": [],
   "source": [
    "_diff.loc[mask_diff]"
   ]
  },
  {
   "cell_type": "code",
   "execution_count": null,
   "metadata": {},
   "outputs": [],
   "source": [
    "_diff[mask_diff].describe()"
   ]
  },
  {
   "cell_type": "markdown",
   "metadata": {},
   "source": [
    "Several smaller and larger differences in an intensity range way below the detection limit arise for some sequences. "
   ]
  },
  {
   "cell_type": "markdown",
   "metadata": {},
   "source": [
    "### Ideas on source of difference\n",
    " - Are all peptides (sequences) which are based on single observations in `evidence.txt` represented as is in `peptides.txt`?\n",
    " - how many peptides with more than one PTM have non-zero differences between the sum of intensity values in `evidence.txt` and the respective value in `peptides.txt`?\n",
    " - maybe some peptides are filtered based on assignment as contaminent (`CON__`)?"
   ]
  },
  {
   "cell_type": "code",
   "execution_count": null,
   "metadata": {},
   "outputs": [],
   "source": [
    "# ToDo see above"
   ]
  },
  {
   "cell_type": "code",
   "execution_count": null,
   "metadata": {},
   "outputs": [],
   "source": [
    "_diff_indices = _diff[mask_diff].index\n",
    "# some pep-seq in peptides.txt not in evidence.txt\n",
    "_diff_indices = _diff_indices.intersection(mq_output.evidence.index.unique())"
   ]
  },
  {
   "cell_type": "code",
   "execution_count": null,
   "metadata": {},
   "outputs": [],
   "source": [
    "from numpy import random\n",
    "sample_index = random.choice(_diff_indices)"
   ]
  },
  {
   "cell_type": "code",
   "execution_count": null,
   "metadata": {},
   "outputs": [],
   "source": [
    "mq_output.evidence.loc[sample_index]"
   ]
  },
  {
   "cell_type": "code",
   "execution_count": null,
   "metadata": {},
   "outputs": [],
   "source": [
    "mq_output.peptides.loc[sample_index].to_frame().T"
   ]
  },
  {
   "cell_type": "markdown",
   "metadata": {},
   "source": [
    "### Modifications"
   ]
  },
  {
   "cell_type": "code",
   "execution_count": null,
   "metadata": {},
   "outputs": [],
   "source": [
    "mq_output.evidence.Modifications.value_counts()"
   ]
  },
  {
   "cell_type": "markdown",
   "metadata": {},
   "source": [
    "### Potential contaminant peptides"
   ]
  },
  {
   "cell_type": "markdown",
   "metadata": {},
   "source": [
    "The `CON__` entries are possible contaminations resulting from sample preparation using a e.g. a serum:\n",
    "\n",
    "```python\n",
    "data_fasta['ENSEMBL:ENSBTAP00000024146']\n",
    "data_fasta['P12763'] # bovine serum protein -> present in cell cultures and in list of default contaminant in MQ\n",
    "data_fasta['P00735'] # also bovin serum protein\n",
    "```"
   ]
  },
  {
   "cell_type": "code",
   "execution_count": null,
   "metadata": {},
   "outputs": [],
   "source": [
    "mask = mq_output.peptides['Potential contaminant'].notna()\n",
    "mq_output.peptides.loc[mask]"
   ]
  },
  {
   "cell_type": "code",
   "execution_count": null,
   "metadata": {},
   "outputs": [],
   "source": []
  },
  {
   "cell_type": "markdown",
   "metadata": {},
   "source": [
    "### Aggregate identifiers in evidence.txt"
   ]
  },
  {
   "cell_type": "code",
   "execution_count": null,
   "metadata": {},
   "outputs": [],
   "source": [
    "fasta_keys = [\"Proteins\", \"Leading proteins\",\n",
    "              \"Leading razor protein\", \"Gene names\"]\n",
    "mq_output.evidence[fasta_keys]"
   ]
  },
  {
   "cell_type": "markdown",
   "metadata": {},
   "source": [
    "The protein assignment information is not entirely unique for each group of peptides."
   ]
  },
  {
   "cell_type": "markdown",
   "metadata": {},
   "source": [
    "## align intensities and retention time (RT) for peptides\n",
    "\n",
    "- intensities are values reported in `peptides.txt`\n",
    "- some (few) peptides in `peptides.txt` are not in `evidence.txt`, but then probably zero"
   ]
  },
  {
   "cell_type": "code",
   "execution_count": null,
   "metadata": {},
   "outputs": [],
   "source": [
    "intensities.index"
   ]
  },
  {
   "cell_type": "code",
   "execution_count": null,
   "metadata": {},
   "outputs": [],
   "source": [
    "seq_w_summed_intensities = intensities.to_frame().merge(\n",
    "    rt_summary, left_index=True, right_index=True, how='left')"
   ]
  },
  {
   "cell_type": "code",
   "execution_count": null,
   "metadata": {},
   "outputs": [],
   "source": [
    "seq_w_summed_intensities"
   ]
  },
  {
   "cell_type": "code",
   "execution_count": null,
   "metadata": {},
   "outputs": [],
   "source": [
    "mask = ~mq_output.evidence.reset_index(\n",
    ")[[\"Sequence\", \"Proteins\", \"Gene names\"]].duplicated()\n",
    "mask.index = mq_output.evidence.index"
   ]
  },
  {
   "cell_type": "code",
   "execution_count": null,
   "metadata": {},
   "outputs": [],
   "source": [
    "diff_ = seq_w_summed_intensities.index.unique().difference(mask.index.unique())\n",
    "diff_.to_list()"
   ]
  },
  {
   "cell_type": "code",
   "execution_count": null,
   "metadata": {},
   "outputs": [],
   "source": [
    "# mq_output.msms.set_index('Sequence').loc['GIPNMLLSEEETES']"
   ]
  },
  {
   "cell_type": "code",
   "execution_count": null,
   "metadata": {},
   "outputs": [],
   "source": [
    "# There is no evidence, but then it is reported in peptides?!\n",
    "# Is this the case for more than one MQ-RUN (last or first not written to file?)\n",
    "try:\n",
    "    if len(diff_) > 0:\n",
    "        mq_output.evidence.loc[diff_]\n",
    "except KeyError as e:\n",
    "    logging.error(e)"
   ]
  },
  {
   "cell_type": "code",
   "execution_count": null,
   "metadata": {},
   "outputs": [],
   "source": [
    "mq_output.peptides.loc[diff_]"
   ]
  },
  {
   "cell_type": "markdown",
   "metadata": {},
   "source": [
    "### Option: Peptide scan with highest score for repeatedly measured peptides\n",
    "\n",
    "- only select one of repeated peptide scans, namely the one with the highest score\n",
    "- discards information, no summation of peptide intensities\n",
    "- yields unique retention time per peptide, by discarding additional information"
   ]
  },
  {
   "cell_type": "code",
   "execution_count": null,
   "metadata": {},
   "outputs": [],
   "source": [
    "COL_SCORE = 'Score'\n",
    "mq_output.evidence.groupby(level=0)[COL_SCORE].max()"
   ]
  },
  {
   "cell_type": "code",
   "execution_count": null,
   "metadata": {},
   "outputs": [],
   "source": [
    "mask_max_per_seq = mq_output.evidence.groupby(\n",
    "    level=0)[COL_SCORE].transform(\"max\").eq(mq_output.evidence[COL_SCORE])\n",
    "mask_intensity_not_na = mq_output.evidence.Intensity.notna()\n",
    "mask = mask_max_per_seq & mask_intensity_not_na"
   ]
  },
  {
   "cell_type": "markdown",
   "metadata": {},
   "source": [
    "This leads to a non-unique mapping, as some scores are exactly the same for two peptides."
   ]
  },
  {
   "cell_type": "code",
   "execution_count": null,
   "metadata": {},
   "outputs": [],
   "source": [
    "mask_duplicates = mq_output.evidence.loc[mask].sort_values(\n",
    "    mq_col.INTENSITY).index.duplicated()\n",
    "sequences_duplicated = mq_output.evidence.loc[mask].index[mask_duplicates]\n",
    "mq_output.evidence.loc[mask].loc[sequences_duplicated, [\n",
    "    COL_SCORE, mq_col.INTENSITY, mq_col.RETENTION_TIME]]  # .groupby(level=0).agg({mq_col.INTENSITY : max})"
   ]
  },
  {
   "cell_type": "code",
   "execution_count": null,
   "metadata": {},
   "outputs": [],
   "source": [
    "mask = mq_output.evidence.reset_index().sort_values(\n",
    "    by=[\"Sequence\", \"Score\", mq_col.INTENSITY]).duplicated(subset=[\"Sequence\", \"Score\"], keep='last')\n",
    "_sequences = mq_output.evidence.index[mask]\n",
    "mq_output.evidence.loc[_sequences, [\n",
    "    \"Score\", \"Retention time\", mq_col.INTENSITY, \"Proteins\"]]"
   ]
  },
  {
   "cell_type": "markdown",
   "metadata": {},
   "source": [
    "- random, non missing intensity?"
   ]
  },
  {
   "cell_type": "code",
   "execution_count": null,
   "metadata": {},
   "outputs": [],
   "source": [
    "aggregators = [\"Sequence\", \"Score\", mq_col.INTENSITY]\n",
    "mask_intensity_not_na = mq_output.evidence.Intensity.notna()\n",
    "seq_max_score_max_intensity = mq_output.evidence.loc[mask_intensity_not_na].reset_index(\n",
    ")[aggregators+[\"Proteins\", \"Gene names\"]].sort_values(by=aggregators).set_index(\"Sequence\").groupby(level=0).last()\n",
    "seq_max_score_max_intensity"
   ]
  },
  {
   "cell_type": "code",
   "execution_count": null,
   "metadata": {},
   "outputs": [],
   "source": [
    "# drop NA intensities first.\n",
    "assert seq_max_score_max_intensity.Intensity.isna().sum() == 0"
   ]
  },
  {
   "cell_type": "markdown",
   "metadata": {},
   "source": [
    "Certain peptides have no Protein or gene assigned."
   ]
  },
  {
   "cell_type": "code",
   "execution_count": null,
   "metadata": {},
   "outputs": [],
   "source": [
    "seq_max_score_max_intensity.isna().sum()"
   ]
  },
  {
   "cell_type": "code",
   "execution_count": null,
   "metadata": {},
   "outputs": [],
   "source": [
    "mask_seq_selected_not_assigned = seq_max_score_max_intensity.Proteins.isna(\n",
    ") | seq_max_score_max_intensity[\"Gene names\"].isna()\n",
    "seq_max_score_max_intensity.loc[mask_seq_selected_not_assigned]"
   ]
  },
  {
   "cell_type": "markdown",
   "metadata": {},
   "source": [
    "These might be a candiate for evaluating predictions, as the information is measured, but unknown. If they cannot be assigned, the closest fit on different genes with model predictions could be a criterion for selection"
   ]
  },
  {
   "cell_type": "markdown",
   "metadata": {},
   "source": [
    "## Create dumps of intensities in `peptides.txt`"
   ]
  },
  {
   "cell_type": "code",
   "execution_count": null,
   "metadata": {},
   "outputs": [],
   "source": [
    "# mq_output.evidence.loc[\"AAAGGGGGGAAAAGR\"]"
   ]
  },
  {
   "cell_type": "code",
   "execution_count": null,
   "metadata": {},
   "outputs": [],
   "source": [
    "# ToDo: dump this?\n",
    "mq_output.dump_intensity(folder='data/peptides_txt_intensities/')"
   ]
  },
  {
   "cell_type": "markdown",
   "metadata": {},
   "source": [
    "## Create dumps per gene"
   ]
  },
  {
   "cell_type": "markdown",
   "metadata": {},
   "source": [
    "Some hundred peptides map to more than two genes "
   ]
  },
  {
   "cell_type": "code",
   "execution_count": null,
   "metadata": {},
   "outputs": [],
   "source": [
    "from vaep.pandas import length\n",
    "\n",
    "seq_max_score_max_intensity[mq_col.GENE_NAMES].str.split(\";\"\n",
    "                                                         ).apply(lambda x: length(x)\n",
    "                                                                 ).value_counts(\n",
    ").sort_index()"
   ]
  },
  {
   "cell_type": "markdown",
   "metadata": {},
   "source": [
    "Mostly unique genes associated with a peptide."
   ]
  },
  {
   "cell_type": "markdown",
   "metadata": {},
   "source": [
    "### Select sensible training data per gene\n",
    "- sequence coverage information?\n",
    "- minimal number or minimal sequence coverage, otherwise discared\n",
    "- multiple genes:\n",
    "    - select first and add reference in others\n",
    "    - split and dump repeatedly\n",
    "    \n",
    "Load fasta-file information"
   ]
  },
  {
   "cell_type": "code",
   "execution_count": null,
   "metadata": {},
   "outputs": [],
   "source": [
    "import json\n",
    "\n",
    "import config\n",
    "\n",
    "with open(src.config.FN_FASTA_DB) as f:\n",
    "    data_fasta = json.load(f)\n",
    "print(f'Number of proteins in fasta file DB: {len(data_fasta)}')"
   ]
  },
  {
   "cell_type": "code",
   "execution_count": null,
   "metadata": {},
   "outputs": [],
   "source": [
    "# schema validation? Load class with schema?\n",
    "# -> Fasta-File creation should save schema with it"
   ]
  },
  {
   "cell_type": "markdown",
   "metadata": {},
   "source": [
    "### Fasta Entries considered as contaminants by MQ"
   ]
  },
  {
   "cell_type": "code",
   "execution_count": null,
   "metadata": {},
   "outputs": [],
   "source": [
    "mask_potential_contaminant = mq_output.peptides['Potential contaminant'] == '+'\n",
    "contaminants = mq_output.peptides.loc[mask_potential_contaminant, [mq_col.PROTEINS, mq_col.LEADING_RAZOR_PROTEIN]]\n",
    "contaminants.head()"
   ]
  },
  {
   "cell_type": "code",
   "execution_count": null,
   "metadata": {},
   "outputs": [],
   "source": [
    "unique_cont = contaminants[mq_col.PROTEINS].str.split(';').to_list()\n",
    "set_all = set().union(*unique_cont)\n",
    "set_cont = {x.split('CON__')[-1] for x in set_all if 'CON__' in x}\n",
    "set_proteins_to_remove = set_all.intersection(set_cont)\n",
    "set_proteins_to_remove"
   ]
  },
  {
   "cell_type": "markdown",
   "metadata": {},
   "source": [
    "List of proteins which are both in the fasta file and potential contaminants"
   ]
  },
  {
   "cell_type": "code",
   "execution_count": null,
   "metadata": {},
   "outputs": [],
   "source": [
    "mask = mq_output.peptides[mq_col.LEADING_RAZOR_PROTEIN].isin(set_proteins_to_remove)\n",
    "mq_output.peptides.loc[mask, 'Potential contaminant'].value_counts() # ToDo: Remove potential contaminants, check evidence.txt"
   ]
  },
  {
   "cell_type": "markdown",
   "metadata": {},
   "source": [
    "### `id_map`: Find genes based on fasta file\n",
    "\n",
    "Using `ID_MAP`, all protein entries for that gene are queried and combined."
   ]
  },
  {
   "cell_type": "code",
   "execution_count": null,
   "metadata": {},
   "outputs": [],
   "source": [
    "# # slow! discarded for now\n",
    "\n",
    "# from config import FN_ID_MAP\n",
    "\n",
    "# with open(FN_ID_MAP) as f:\n",
    "#     id_map = json.load(f)\n",
    "# id_map = pd.read_json(FN_ID_MAP, orient=\"split\")\n",
    "\n",
    "# protein_groups_per_gene = id_map.groupby(by=\"gene\")\n",
    "# gene_found = []\n",
    "# for name, gene_data in protein_groups_per_gene:\n",
    "\n",
    "#     _peptides = set()\n",
    "#     for protein_id in gene_data.index:\n",
    "#         _peptides = _peptides.union(p for p_list in data_fasta[protein_id]['peptides']\n",
    "#                                       for p in p_list)\n",
    "\n",
    "#     # select intersection of theoretical peptides for gene with observed peptides\n",
    "#     _matched = mq_output.peptides.index.intersection(_peptides)\n",
    "#     # add completness?\n",
    "#     if not _matched.empty and len(_matched) > 3:\n",
    "#         gene_found.append(name)\n",
    "#         #\n",
    "#         if not len(gene_found) % 500 :\n",
    "#             print(f\"Found {len(gene_found):6}\")\n",
    "# print(f\"Total: {len(gene_found):5}\")"
   ]
  },
  {
   "cell_type": "markdown",
   "metadata": {},
   "source": [
    "Compare this with the entries in the `Gene names` column of `peptides.txt`\n",
    "\n",
    "> Mapping is non-unique. MQ has no treshold on number of identified peptides. (How many (unique) peptides does MQ need?)"
   ]
  },
  {
   "cell_type": "markdown",
   "metadata": {},
   "source": [
    "### `peptides.txt`: Multiple Genes per peptides\n",
    "\n",
    "- can gene name be collapsed meaningfully?\n",
    "- some gene groups share common stem -> can this be used?"
   ]
  },
  {
   "cell_type": "code",
   "execution_count": null,
   "metadata": {},
   "outputs": [],
   "source": [
    "mq_output.peptides[mq_col.GENE_NAMES].head(10)"
   ]
  },
  {
   "cell_type": "code",
   "execution_count": null,
   "metadata": {},
   "outputs": [],
   "source": [
    "import vaep.io.mq as mq\n",
    "\n",
    "gene_sets_unique = mq_output.peptides[\"Gene names\"].unique()\n",
    "\n",
    "N_GENE_SETS = len(gene_sets_unique)\n",
    "print(f'There are {N_GENE_SETS} unique sets of genes.')\n",
    "assert N_GENE_SETS != 0, 'No genes?'\n",
    "\n",
    "genes_single_unique = mq.get_set_of_genes(gene_sets_unique)\n",
    "N_GENE_SINGLE_UNIQUE = len(genes_single_unique)\n",
    "\n",
    "mq.validate_gene_set(N_GENE_SINGLE_UNIQUE, N_GENE_SETS)"
   ]
  },
  {
   "cell_type": "markdown",
   "metadata": {},
   "source": [
    "How often do genes names appear in unique sets?"
   ]
  },
  {
   "cell_type": "code",
   "execution_count": null,
   "metadata": {},
   "outputs": [],
   "source": [
    "genes_counted_each_in_unique_sets = pd.Series(mq.count_genes_in_sets(\n",
    "    gene_sets=gene_sets_unique))\n",
    "\n",
    "title_ = 'Frequency of counts for each gene in unique set of genes'\n",
    "\n",
    "ax = genes_counted_each_in_unique_sets.value_counts().sort_index().plot(\n",
    "    kind='bar',\n",
    "    title=title_,\n",
    "    xlabel='Count of a gene',\n",
    "    ylabel='Frequency of counts',\n",
    "    ax=None,\n",
    ")\n",
    "fig = ax.get_figure()\n",
    "\n",
    "fig_folder = FIGUREFOLDER / mq_output.folder.stem\n",
    "fig_folder.mkdir(exist_ok=True)\n",
    "fig.savefig(fig_folder / f'{title_}.pdf')"
   ]
  },
  {
   "cell_type": "markdown",
   "metadata": {},
   "source": [
    "Unique gene sets with more than one gene:"
   ]
  },
  {
   "cell_type": "code",
   "execution_count": null,
   "metadata": {},
   "outputs": [],
   "source": [
    "gene_sets_unique = pd.Series(gene_sets_unique).dropna()\n",
    "\n",
    "mask_more_than_one_gene = gene_sets_unique.str.contains(';')\n",
    "gene_sets_unique.loc[mask_more_than_one_gene]"
   ]
  },
  {
   "cell_type": "markdown",
   "metadata": {},
   "source": [
    "### Long format for genes - `peptides_with_single_gene`\n",
    "\n",
    "Expand the rows for sets of genes using [`pandas.DataFrame.explode`](https://pandas.pydata.org/pandas-docs/stable/reference/api/pandas.DataFrame.explode.html).\n",
    "\n",
    "Does a group of peptide only assigns unique set of genes? Genes can have more than one protein.\n",
    "  - first build groups\n",
    "  - then see matches (see further below)\n",
    "  "
   ]
  },
  {
   "cell_type": "code",
   "execution_count": null,
   "metadata": {},
   "outputs": [],
   "source": [
    "peptides_with_single_gene = mq.get_peptides_with_single_gene(\n",
    "    peptides=mq_output.peptides)\n",
    "peptides_with_single_gene"
   ]
  },
  {
   "cell_type": "code",
   "execution_count": null,
   "metadata": {},
   "outputs": [],
   "source": [
    "peptides_with_single_gene.dtypes"
   ]
  },
  {
   "cell_type": "code",
   "execution_count": null,
   "metadata": {},
   "outputs": [],
   "source": [
    "print(\n",
    "    f\"DataFrame has due to unfolding now {len(peptides_with_single_gene)} instead of {len(mq_output.peptides)} rows\")"
   ]
  },
  {
   "cell_type": "markdown",
   "metadata": {},
   "source": [
    "Should peptides from potential contaminants be considered?"
   ]
  },
  {
   "cell_type": "code",
   "execution_count": null,
   "metadata": {},
   "outputs": [],
   "source": [
    "mask = peptides_with_single_gene['Proteins'].str.contains('CON__')\n",
    "peptides_with_single_gene.loc[mask]"
   ]
  },
  {
   "cell_type": "code",
   "execution_count": null,
   "metadata": {},
   "outputs": [],
   "source": [
    "_mask_con = peptides_with_single_gene.loc[mask, mq_col.PROTEINS].str.split(\";\"\n",
    "                                                                           ).apply(lambda x: [True if \"CON_\" in item else False for item in x]\n",
    "                                                                                   ).apply(all)\n",
    "\n",
    "assert _mask_con.sum() == 0, \"There are peptides resulting only from possible confounders: {}\".format(\n",
    "    \", \".join(str(x) for x in peptides_with_single_gene.loc[mask, mq_col.PROTEINS].loc[_mask_con].index))"
   ]
  },
  {
   "cell_type": "code",
   "execution_count": null,
   "metadata": {},
   "outputs": [],
   "source": [
    "peptides_per_gene = peptides_with_single_gene.value_counts(mq_col.GENE_NAMES)\n",
    "peptides_per_gene"
   ]
  },
  {
   "cell_type": "markdown",
   "metadata": {},
   "source": [
    "\n",
    "#### Find genes based on `Gene names` column in elonged data-set\n",
    "\n",
    "More efficient as it does not query unnecessary data or data twice."
   ]
  },
  {
   "cell_type": "code",
   "execution_count": null,
   "metadata": {},
   "outputs": [],
   "source": [
    "protein_groups_per_gene = peptides_with_single_gene.groupby(\n",
    "    by=mq_col.GENE_NAMES, dropna=True)\n",
    "\n",
    "gene_data = protein_groups_per_gene.get_group(peptides_per_gene.index[3])\n",
    "gene_data"
   ]
  },
  {
   "cell_type": "code",
   "execution_count": null,
   "metadata": {},
   "outputs": [],
   "source": [
    "list_of_proteins = gene_data[mq_col.PROTEINS].str.split(';').to_list()\n",
    "set_of_proteins = set().union(*list_of_proteins)\n",
    "set_of_proteins = {x for x in set_of_proteins if 'CON__' not in x}\n",
    "set_of_proteins"
   ]
  },
  {
   "cell_type": "code",
   "execution_count": null,
   "metadata": {},
   "outputs": [],
   "source": [
    "gene_data[mq_col.PROTEINS].value_counts() # combine? select first in case of a CON_ as leading razor protein?"
   ]
  },
  {
   "cell_type": "code",
   "execution_count": null,
   "metadata": {},
   "outputs": [],
   "source": [
    "protein_id = set_of_proteins.pop()\n",
    "print(protein_id)\n",
    "data_fasta[protein_id]['seq']"
   ]
  },
  {
   "cell_type": "code",
   "execution_count": null,
   "metadata": {},
   "outputs": [],
   "source": [
    "data_fasta[protein_id]"
   ]
  },
  {
   "cell_type": "markdown",
   "metadata": {},
   "source": [
    "### Sample completeness\n",
    "Find a sample with a certain completeness level:"
   ]
  },
  {
   "cell_type": "code",
   "execution_count": null,
   "metadata": {},
   "outputs": [],
   "source": [
    "peps_exact_cleaved = mq.find_exact_cleaved_peptides_for_razor_protein(\n",
    "    gene_data, fasta_db=data_fasta)\n",
    "peps_exact_cleaved[:10]"
   ]
  },
  {
   "cell_type": "markdown",
   "metadata": {},
   "source": [
    "Then search the list of possible peptides originating from the fasta files assuming no miscleavages to the set of found peptides.\n",
    "\n",
    "- How many unique exact-cleaved peptides can be mapped to any peptide found in the sample (**completness**)?"
   ]
  },
  {
   "cell_type": "code",
   "execution_count": null,
   "metadata": {},
   "outputs": [],
   "source": [
    "peps_in_data = gene_data.index\n",
    "\n",
    "mq.calculate_completness_for_sample(\n",
    "    peps_exact_cleaved=peps_exact_cleaved, \n",
    "    peps_in_data=peps_in_data)"
   ]
  },
  {
   "cell_type": "markdown",
   "metadata": {},
   "source": [
    "The number of peptides found can be then used to calculate the completeness"
   ]
  },
  {
   "cell_type": "markdown",
   "metadata": {},
   "source": [
    "Select candidates by completeness of training data in single samples and save by experiment name"
   ]
  },
  {
   "cell_type": "code",
   "execution_count": null,
   "metadata": {},
   "outputs": [],
   "source": [
    "mq_output.folder.stem  # needs to go to root?"
   ]
  },
  {
   "cell_type": "markdown",
   "metadata": {},
   "source": [
    "### GeneData accessor?\n",
    "\n",
    "- [Registering custom accessors tutorial](https://pandas.pydata.org/pandas-docs/stable/development/extending.html#registering-custom-accessors)"
   ]
  },
  {
   "cell_type": "code",
   "execution_count": null,
   "metadata": {},
   "outputs": [],
   "source": [
    "# @pd.api.extensions.register_dataframe_accessor('gene')\n",
    "# class GeneDataAccessor:\n",
    "\n",
    "#     COL_INTENSITY  = mq_col.INTENSITY\n",
    "#     COL_RAZOR_PROT = 'Leading razor protein'\n",
    "#     COL_PROTEINS   = 'Proteins'\n",
    "#     COL_GENE_NAME  = 'Gene names'\n",
    "\n",
    "#     COLS_EXPECTED = {COL_INTENSITY, COL_RAZOR_PROT, COL_PROTEINS, COL_GENE_NAME}\n",
    "\n",
    "#     def __init__(self, pandas_df):\n",
    "#         self._validate(df=pandas_df)\n",
    "\n",
    "#     @classmethod\n",
    "#     def _validate(cls, df):\n",
    "#         \"\"\"Verify if expected columns and layout apply to panda.DataFrame (view)\"\"\"\n",
    "#         _found_columns = cls.COLS_EXPECTED.intersection(df.columns)\n",
    "#         if not _found_columns == cls.COLS_EXPECTED:\n",
    "#             raise AttributeError(\"Expected columns not in DataFrame: {}\".format(\n",
    "#                     list(cls.COLS_EXPECTED - _found_columns)))\n",
    "#         if not len(df[COL_RAZOR_PROT].unique()) != 1:\n",
    "\n",
    "\n",
    "# # GeneDataAccessor(gene_data.drop(mq_col.INTENSITY, axis=1))\n",
    "# # GeneDataAccessor(gene_data)\n",
    "# # gene_data.drop(mq_col.INTENSITY, axis=1).gene\n",
    "# gene_data.gene"
   ]
  },
  {
   "cell_type": "markdown",
   "metadata": {},
   "source": [
    "### Gene Data Mapper?"
   ]
  },
  {
   "cell_type": "code",
   "execution_count": null,
   "metadata": {},
   "outputs": [],
   "source": [
    "class GeneDataMapper:\n",
    "\n",
    "    COL_INTENSITY = mq_col.INTENSITY\n",
    "    COL_RAZOR_PROT = mq_col.LEADING_RAZOR_PROTEIN\n",
    "    COL_PROTEINS = mq_col.PROTEINS\n",
    "    COL_GENE_NAME = mq_col.GENE_NAMES\n",
    "\n",
    "    COLS_EXPECTED = {COL_INTENSITY, COL_RAZOR_PROT,\n",
    "                     COL_PROTEINS, COL_GENE_NAME}\n",
    "\n",
    "    def __init__(self, pandas_df, fasta_dict):\n",
    "        self._validate(df=pandas_df)\n",
    "        self._df = pandas_df\n",
    "        self._fasta_dict = fasta_dict\n",
    "\n",
    "        # self.log?\n",
    "\n",
    "    @classmethod\n",
    "    def _validate(cls, df):\n",
    "        \"\"\"Verify if expected columns and layout apply to panda.DataFrame (view)\"\"\"\n",
    "        _found_columns = cls.COLS_EXPECTED.intersection(df.columns)\n",
    "        if not _found_columns == cls.COLS_EXPECTED:\n",
    "            raise AttributeError(\"Expected columns not in DataFrame: {}\".format(\n",
    "                list(cls.COLS_EXPECTED - _found_columns)))\n",
    "        if len(df[cls.COL_RAZOR_PROT].unique()) != 1:\n",
    "            raise ValueError(\n",
    "                \"Non-unique razor-protein in DataFrame: \", df[cls.COL_RAZOR_PROT].unique())\n",
    "\n",
    "    def __repr__(self):\n",
    "        return f\"{self.__class__.__name__} at {id(self)}\"\n",
    "\n",
    "\n",
    "GeneDataMapper(gene_data, data_fasta)"
   ]
  },
  {
   "cell_type": "markdown",
   "metadata": {},
   "source": [
    "### Dump samples as json\n",
    "\n",
    "- select unique gene-names in set (have to be shared by all peptides)\n",
    "- dump peptide intensities as json from `peptides.txt`"
   ]
  },
  {
   "cell_type": "code",
   "execution_count": null,
   "metadata": {},
   "outputs": [],
   "source": [
    "peptides_with_single_gene  # long-format with repeated peptide information by gene"
   ]
  },
  {
   "cell_type": "code",
   "execution_count": null,
   "metadata": {},
   "outputs": [],
   "source": [
    "root_logger = logging.getLogger()\n",
    "root_logger.handlers = []\n",
    "root_logger.handlers"
   ]
  },
  {
   "cell_type": "code",
   "execution_count": null,
   "metadata": {},
   "outputs": [],
   "source": [
    "genes_counted_each_in_unique_sets = pd.Series(mq.count_genes_in_sets(\n",
    "    gene_sets=gene_sets_unique))\n",
    "\n",
    "# # ToDo: Develop\n",
    "# class MaxQuantTrainingDataExtractor():\n",
    "#     \"\"\"Class to extract training data from `MaxQuantOutput`.\"\"\"\n",
    "\n",
    "#     def __init__(self, out_folder):\n",
    "#         self.out_folder = Path(out_folder)\n",
    "#         self.out_folder.mkdir(exist_ok=True)\n",
    "#         self.fname_template = '{gene}.json'\n",
    "\n",
    "completeness_per_gene = mq.ExtractFromPeptidesTxt(\n",
    "    out_folder='train', mq_output_object=mq_output, fasta_db=data_fasta)()"
   ]
  },
  {
   "cell_type": "code",
   "execution_count": null,
   "metadata": {},
   "outputs": [],
   "source": [
    "# same code fails in `vaep.io.mq`, ABC needed?\n",
    "isinstance(mq_output, MaxQuantOutput), type(mq_output)"
   ]
  },
  {
   "cell_type": "markdown",
   "metadata": {},
   "source": [
    "#### Descriptics"
   ]
  },
  {
   "cell_type": "code",
   "execution_count": null,
   "metadata": {},
   "outputs": [],
   "source": [
    "s_completeness = pd.Series(completeness_per_gene,  name='completenes_by_gene')\n",
    "s_completeness.describe()"
   ]
  },
  {
   "cell_type": "code",
   "execution_count": null,
   "metadata": {},
   "outputs": [],
   "source": [
    "N_BINS = 20\n",
    "ax = s_completeness.plot(kind='hist',\n",
    "                         bins=N_BINS,\n",
    "                         xticks=[x/100 for x in range(0, 101, 5)],\n",
    "                         figsize=(10, 5),\n",
    "                         rot=90,\n",
    "                         title=f\"Frequency of proportion of observed exact peptides (completness) per razor protein from 0 to 1 in {N_BINS} bins\"\n",
    "                               f\"\\nin sample {mq_output.folder.stem}\")\n",
    "\n",
    "_ = ax.set_xlabel(\n",
    "    \"Proportion of exactly observed peptides (including up to 2 mis-cleavages)\")\n",
    "\n",
    "fig = ax.get_figure()\n",
    "fig.tight_layout()\n",
    "fig.savefig(FIGUREFOLDER / mq_output.folder.stem / 'freq_completeness.png')"
   ]
  },
  {
   "cell_type": "markdown",
   "metadata": {},
   "source": [
    "based on completeness, select valid training data"
   ]
  },
  {
   "cell_type": "code",
   "execution_count": null,
   "metadata": {},
   "outputs": [],
   "source": [
    "# continously decrease this number in the scope of the project\n",
    "mask = s_completeness > .6\n",
    "s_completeness.loc[mask]"
   ]
  }
 ],
 "metadata": {
  "kernelspec": {
   "display_name": "Python 3.8.12 ('vaep')",
   "language": "python",
   "name": "python3"
  },
  "language_info": {
   "codemirror_mode": {
    "name": "ipython",
    "version": 3
   },
   "file_extension": ".py",
   "mimetype": "text/x-python",
   "name": "python",
   "nbconvert_exporter": "python",
   "pygments_lexer": "ipython3",
   "version": "3.8.12"
  },
  "toc-autonumbering": false,
  "vscode": {
   "interpreter": {
    "hash": "79d0f0394ff693752da6f78eb84feea9ce495e5d1d56e189f7fad91f86783599"
   }
  }
 },
 "nbformat": 4,
 "nbformat_minor": 4
}
