{
 "cells": [
  {
   "cell_type": "markdown",
   "metadata": {},
   "source": [
    "# RawFiles Database\n",
    "\n",
    "- overview of raw files."
   ]
  },
  {
   "cell_type": "code",
   "execution_count": null,
   "metadata": {},
   "outputs": [],
   "source": [
    "from pathlib import Path\n",
    "from collections import namedtuple\n",
    "\n",
    "import pandas as pd\n",
    "\n",
    "from src import config\n",
    "\n",
    "RawFile = namedtuple('RawFile', 'name path bytes')\n",
    "fp = config.FOLDER_DATA / config.FN_ALL_RAW_FILES\n",
    "data = []\n",
    "with open(fp) as f:\n",
    "    for line in f:\n",
    "        line = line.split()\n",
    "        path = Path(line[-1])\n",
    "        data.append(RawFile(path.stem, path, int(line[4])))\n",
    "\n",
    "data = pd.DataFrame.from_records(\n",
    "    data, columns=RawFile._fields, index=RawFile._fields[0])\n",
    "data.head()"
   ]
  },
  {
   "cell_type": "code",
   "execution_count": null,
   "metadata": {},
   "outputs": [],
   "source": [
    "if data.index.is_unique:\n",
    "    print('Only unique files in index.')\n",
    "else:\n",
    "    non_unique = data.index.value_counts()\n",
    "    non_unique = non_unique[non_unique > 1]\n",
    "    # should this be browseable?\n",
    "    display('Non-unique files', non_unique)"
   ]
  },
  {
   "cell_type": "code",
   "execution_count": null,
   "metadata": {},
   "outputs": [],
   "source": [
    "data.loc[non_unique.index] if not data.index.is_unique else None"
   ]
  },
  {
   "cell_type": "code",
   "execution_count": null,
   "metadata": {},
   "outputs": [],
   "source": [
    "def size_gb(s):\n",
    "    s /= 1024 ** 3\n",
    "    return pd.Series(s, name='size_gb')\n",
    "\n",
    "\n",
    "data['size_gb'] = data['bytes'].apply(size_gb)\n",
    "data.head()"
   ]
  },
  {
   "cell_type": "code",
   "execution_count": null,
   "metadata": {},
   "outputs": [],
   "source": [
    "import matplotlib.pyplot as plt\n",
    "fig, axes = plt.subplots(ncols=2, gridspec_kw={\"width_ratios\": [\n",
    "                         5, 1], \"wspace\": 0.3}, figsize=(6, 8))\n",
    "data['size_gb'].plot.hist(bins=30, ax=axes[0])\n",
    "data['size_gb'].plot(kind='box', ax=axes[1])\n",
    "fig.savefig(config.FIGUREFOLDER / 'raw_file_overview.pdf')"
   ]
  },
  {
   "cell_type": "markdown",
   "metadata": {},
   "source": [
    "## For quantified samples\n",
    "- show scatter plot between sample size and number of quantified peptides"
   ]
  },
  {
   "cell_type": "code",
   "execution_count": null,
   "metadata": {},
   "outputs": [],
   "source": []
  }
 ],
 "metadata": {
  "kernelspec": {
   "display_name": "vaep",
   "language": "python",
   "name": "vaep"
  },
  "language_info": {
   "codemirror_mode": {
    "name": "ipython",
    "version": 3
   },
   "file_extension": ".py",
   "mimetype": "text/x-python",
   "name": "python",
   "nbconvert_exporter": "python",
   "pygments_lexer": "ipython3",
   "version": "3.8.5"
  }
 },
 "nbformat": 4,
 "nbformat_minor": 4
}
