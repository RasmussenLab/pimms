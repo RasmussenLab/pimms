{
 "cells": [
  {
   "cell_type": "markdown",
   "metadata": {},
   "source": [
    "# RawFiles Database\n",
    "\n",
    "- overview of raw files."
   ]
  },
  {
   "cell_type": "code",
   "execution_count": null,
   "metadata": {},
   "outputs": [],
   "source": [
    "from pathlib import Path, PurePosixPath\n",
    "from collections import namedtuple\n",
    "\n",
    "import pandas as pd\n",
    "\n",
    "from src import config\n",
    "\n",
    "RawFile = namedtuple('RawFile', 'name path bytes')\n",
    "fp = config.FOLDER_DATA / config.FN_ALL_RAW_FILES\n",
    "data = []\n",
    "with open(fp) as f:\n",
    "    for line in f:\n",
    "        line = line.split()\n",
    "        path = Path(line[-1])\n",
    "        data.append(RawFile(path.stem, path, int(line[4])))\n",
    "\n",
    "data = pd.DataFrame.from_records(\n",
    "    data, columns=RawFile._fields, index=RawFile._fields[0])\n",
    "data.head()"
   ]
  },
  {
   "cell_type": "code",
   "execution_count": null,
   "metadata": {},
   "outputs": [],
   "source": [
    "data['size_gb'] = data['bytes'] / 1024 ** 3\n",
    "data"
   ]
  },
  {
   "cell_type": "markdown",
   "metadata": {},
   "source": [
    "## Finding duplicates\n",
    "\n",
    "- add a numeric index column to identify samples"
   ]
  },
  {
   "cell_type": "code",
   "execution_count": null,
   "metadata": {},
   "outputs": [],
   "source": [
    "data['num_index'] = pd.RangeIndex(stop=len(data))"
   ]
  },
  {
   "cell_type": "code",
   "execution_count": null,
   "metadata": {},
   "outputs": [],
   "source": [
    "if data.index.is_unique:\n",
    "    print('Only unique files in index.')\n",
    "else:\n",
    "    non_unique = data.index.value_counts()\n",
    "    non_unique = non_unique[non_unique > 1]\n",
    "    # should this be browseable?\n",
    "    display('Non-unique files', non_unique)"
   ]
  },
  {
   "cell_type": "code",
   "execution_count": null,
   "metadata": {},
   "outputs": [],
   "source": [
    "data.loc[non_unique.index] if not data.index.is_unique else None"
   ]
  },
  {
   "cell_type": "markdown",
   "metadata": {},
   "source": [
    "Files with the same name and the same size are considered the same."
   ]
  },
  {
   "cell_type": "code",
   "execution_count": null,
   "metadata": {},
   "outputs": [],
   "source": [
    "mask_to_remove = data.loc[non_unique.index, 'bytes'].duplicated()\n",
    "# data.loc[mask_to_remove, 'path']\n",
    "data_to_remove = data.loc[non_unique.index][mask_to_remove]\n",
    "data_to_remove"
   ]
  },
  {
   "cell_type": "code",
   "execution_count": null,
   "metadata": {},
   "outputs": [],
   "source": [
    "print(f\"Save {data_to_remove['size_gb'].sum():1.0f} GB disk space\")"
   ]
  },
  {
   "cell_type": "code",
   "execution_count": null,
   "metadata": {},
   "outputs": [],
   "source": [
    "data_unique = data.reset_index().set_index('num_index').drop(data_to_remove.set_index('num_index').index).set_index('name')\n",
    "data_unique"
   ]
  },
  {
   "cell_type": "markdown",
   "metadata": {},
   "source": [
    "Export file paths to file to remove them, e.g using `rm $(<filenames.txt))` following [this description](https://stackoverflow.com/a/18618543/9684872)."
   ]
  },
  {
   "cell_type": "code",
   "execution_count": null,
   "metadata": {},
   "outputs": [],
   "source": [
    "fp = config.FOLDER_PROCESSED / f'{config.FN_ALL_RAW_FILES}'\n",
    "fp = fp.parent / f'{fp.stem}_duplicated{fp.suffix}'\n",
    "\n",
    "with open(fp, 'w') as f:\n",
    "    for _path in data_to_remove['path']:\n",
    "        _path = PurePosixPath(_path)\n",
    "        f.write(f'{_path}\\r\\n')"
   ]
  },
  {
   "cell_type": "code",
   "execution_count": null,
   "metadata": {},
   "outputs": [],
   "source": [
    "import matplotlib.pyplot as plt\n",
    "fig, axes = plt.subplots(ncols=2, gridspec_kw={\"width_ratios\": [\n",
    "                         5, 1], \"wspace\": 0.3}, figsize=(16, 8))\n",
    "data_unique['size_gb'].plot.hist(bins=30, ax=axes[0])\n",
    "data_unique['size_gb'].plot(kind='box', ax=axes[1])\n",
    "fig.savefig(config.FIGUREFOLDER / 'raw_file_overview.pdf')"
   ]
  },
  {
   "cell_type": "markdown",
   "metadata": {},
   "source": [
    "## For quantified samples\n",
    "- show scatter plot between sample size and number of quantified peptides"
   ]
  },
  {
   "cell_type": "code",
   "execution_count": null,
   "metadata": {},
   "outputs": [],
   "source": []
  }
 ],
 "metadata": {
  "kernelspec": {
   "display_name": "vaep",
   "language": "python",
   "name": "vaep"
  },
  "language_info": {
   "codemirror_mode": {
    "name": "ipython",
    "version": 3
   },
   "file_extension": ".py",
   "mimetype": "text/x-python",
   "name": "python",
   "nbconvert_exporter": "python",
   "pygments_lexer": "ipython3",
   "version": "3.8.5"
  }
 },
 "nbformat": 4,
 "nbformat_minor": 4
}
