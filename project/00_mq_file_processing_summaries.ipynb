{
 "cells": [
  {
   "cell_type": "markdown",
   "metadata": {
    "Collapsed": "false"
   },
   "source": [
    "# MaxQuant (MQ) Output-Files\n",
    "\n",
    "Files compared:\n",
    "1. `Summary.txt`\n",
    "2. `mqpar.xml`\n",
    "3. `peptides.txt`\n",
    "4. `proteins.txt`\n",
    "\n",
    "There is are many files more, where several files seem to be available in several times in different formats."
   ]
  },
  {
   "cell_type": "code",
   "execution_count": null,
   "metadata": {},
   "outputs": [],
   "source": [
    "# easiest way to add custom packages on erda.dk\n",
    "# import sys\n",
    "# sys.path.append('/home/jovyan/work/vaep/')"
   ]
  },
  {
   "cell_type": "code",
   "execution_count": null,
   "metadata": {
    "Collapsed": "false"
   },
   "outputs": [],
   "source": [
    "import os\n",
    "from pathlib import Path\n",
    "import random\n",
    "\n",
    "import pandas as pd\n",
    "import ipywidgets as widgets\n",
    "\n",
    "from vaep.io import search_files, search_subfolders, PathsList, dump_json\n",
    "from vaep.io.mq import MaxQuantOutputDynamic\n",
    "from vaep.io.mq import ExtractFromPeptidesTxt\n",
    "import vaep.io.mq as mq\n",
    "\n",
    "import src\n",
    "import src.file_utils as file_io\n",
    "from src.file_utils import check_for_key\n",
    "from src.file_utils import process_files\n",
    "from src.file_utils import load_summary, load_mqpar_xml\n",
    "\n",
    "##################\n",
    "##### CONFIG #####\n",
    "##################\n",
    "from config import FOLDER_MQ_TXT_DATA, FOLDER_PROCESSED\n",
    "from config import FOLDER_KEY  # defines how filenames are parsed for use as indices\n",
    "\n",
    "from config import FOLDER_DATA # project folder for storing the data\n",
    "print(f\"Search Raw-Files on path: {FOLDER_MQ_TXT_DATA}\")"
   ]
  },
  {
   "cell_type": "code",
   "execution_count": null,
   "metadata": {},
   "outputs": [],
   "source": [
    "import logging\n",
    "from datetime import datetime\n",
    "\n",
    "#Delete Jupyter notebook root logger handler\n",
    "logger = logging.getLogger()\n",
    "# logger.setLevel(logging.ERROR)\n",
    "logger.handlers = []\n",
    "\n",
    "# logger = logging.getLogger(mq_output.folder.stem)\n",
    "logger = logging.getLogger('vaep')\n",
    "logger.setLevel(logging.INFO)\n",
    "\n",
    "c_handler = logging.StreamHandler()\n",
    "c_handler.setLevel(logging.INFO)\n",
    "\n",
    "date_log_file = \"{:%y%m%d_%H%M}\".format(datetime.now())\n",
    "f_handler = logging.FileHandler(f\"log_01_maxquant_file_processing_{date_log_file}.txt\")\n",
    "f_handler.setLevel(logging.INFO)\n",
    "\n",
    "c_format = logging.Formatter(\n",
    "    f'%(name)s - %(levelname)-8s %(message)s ')\n",
    "\n",
    "c_handler.setFormatter(c_format)\n",
    "f_handler.setFormatter(c_format)\n",
    "\n",
    "logger.handlers = []  #remove any handler in case you reexecute the cell\n",
    "logger.addHandler(c_handler)\n",
    "logger.addHandler(f_handler)"
   ]
  },
  {
   "cell_type": "code",
   "execution_count": null,
   "metadata": {},
   "outputs": [],
   "source": [
    "import multiprocessing\n",
    "\n",
    "setup_multiprocessing = {}\n",
    "\n",
    "if os.cpu_count() > 8:\n",
    "    setup_multiprocessing['processes'] = 8\n",
    "else:\n",
    "    setup_multiprocessing['processes'] = os.cpu_count() - 1 # leave one cpu for different things\n",
    "    \n",
    "def f(x):\n",
    "    return x*x\n",
    "\n",
    "with multiprocessing.Pool(**setup_multiprocessing) as p:\n",
    "    print(p.map(f, range(100)))"
   ]
  },
  {
   "cell_type": "code",
   "execution_count": null,
   "metadata": {},
   "outputs": [],
   "source": [
    "folders_mq_txt_data = Path(FOLDER_MQ_TXT_DATA)"
   ]
  },
  {
   "cell_type": "code",
   "execution_count": null,
   "metadata": {
    "Collapsed": "false"
   },
   "outputs": [],
   "source": [
    "folders = [folder for folder in  Path(FOLDER_MQ_TXT_DATA).iterdir()]\n",
    "w_file = widgets.Dropdown(options=[folder for folder in folders], description='View files')\n",
    "w_file"
   ]
  },
  {
   "cell_type": "code",
   "execution_count": null,
   "metadata": {},
   "outputs": [],
   "source": [
    "mq_output = MaxQuantOutputDynamic(w_file.value)\n",
    "mq_output"
   ]
  },
  {
   "cell_type": "code",
   "execution_count": null,
   "metadata": {},
   "outputs": [],
   "source": [
    "print(f\"Results will be saved in subfolders in\\n\\t{str(FOLDER_PROCESSED.absolute())}\"\n",
    "      \"\\nusing the name of the specified input-folder per default. Change to your liking.\")\n",
    "# FOLDER_PROCESSED = Path('')"
   ]
  },
  {
   "cell_type": "markdown",
   "metadata": {},
   "source": [
    "> Go to the block you are interested in!"
   ]
  },
  {
   "cell_type": "markdown",
   "metadata": {
    "Collapsed": "false"
   },
   "source": [
    "### Summaries Data"
   ]
  },
  {
   "cell_type": "code",
   "execution_count": null,
   "metadata": {},
   "outputs": [],
   "source": [
    "from src.data_objects import MqAllSummaries    \n",
    "mq_all_summaries = MqAllSummaries()\n",
    "mq_all_summaries.load_new_samples(folders=folders, workers=8)"
   ]
  },
  {
   "cell_type": "code",
   "execution_count": null,
   "metadata": {
    "Collapsed": "false"
   },
   "outputs": [],
   "source": [
    "if mq_all_summaries.empty_folders:\n",
    "    print(empty_folders)\n",
    "    with open('log_empty_folder.txt', 'a') as f:\n",
    "        f.writelines(empty_folders)\n",
    "print(f\"In total processed: {len(mq_all_summaries):5}\")"
   ]
  },
  {
   "cell_type": "code",
   "execution_count": null,
   "metadata": {
    "Collapsed": "false"
   },
   "outputs": [],
   "source": [
    "pd.options.display.max_columns = len(mq_all_summaries.df.columns)"
   ]
  },
  {
   "cell_type": "code",
   "execution_count": null,
   "metadata": {},
   "outputs": [],
   "source": [
    "mq_all_summaries.df.info()"
   ]
  },
  {
   "cell_type": "code",
   "execution_count": null,
   "metadata": {},
   "outputs": [],
   "source": [
    "# assert df is mq_all_summaries.df , \"Object identity changed\"# same object"
   ]
  },
  {
   "cell_type": "markdown",
   "metadata": {},
   "source": [
    "- SIL - MS2 based on precursor which was a set of peaks\n",
    "- PEAK - MS2 scan based on a single peak on precursor spectrum\n",
    "- ISO - isotopic pattern detection\n"
   ]
  },
  {
   "cell_type": "code",
   "execution_count": null,
   "metadata": {},
   "outputs": [],
   "source": [
    "class col_summary:\n",
    "    MS = 'MS'\n",
    "    MS2 =  'MS/MS Identified'\n",
    "\n",
    "df = mq_all_summaries.df\n",
    "if df is not None:\n",
    "    MS_spectra = df[[col_summary.MS, col_summary.MS2]]\n",
    "    def compute_summary(threshold_ms2_identified):\n",
    "        mask  = MS_spectra[col_summary.MS2] > threshold_ms2_identified\n",
    "        display(MS_spectra.loc[mask].describe())\n",
    "    \n",
    "    w_ions_range = widgets.IntSlider(value=0.0, min=.0, max=MS_spectra[col_summary.MS2].max())\n",
    "    display(widgets.interactive(compute_summary, threshold_ms2_identified=w_ions_range))"
   ]
  }
 ],
 "metadata": {
  "file_extension": ".py",
  "kernelspec": {
   "display_name": "Python 3",
   "language": "python",
   "name": "python3"
  },
  "language_info": {
   "codemirror_mode": {
    "name": "ipython",
    "version": 3
   },
   "file_extension": ".py",
   "mimetype": "text/x-python",
   "name": "python",
   "nbconvert_exporter": "python",
   "pygments_lexer": "ipython3",
   "version": "3.7.6"
  },
  "mimetype": "text/x-python",
  "name": "python",
  "npconvert_exporter": "python",
  "pygments_lexer": "ipython3",
  "toc-autonumbering": true,
  "version": 3
 },
 "nbformat": 4,
 "nbformat_minor": 4
}
