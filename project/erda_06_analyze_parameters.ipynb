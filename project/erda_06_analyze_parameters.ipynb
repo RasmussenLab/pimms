{
 "cells": [
  {
   "cell_type": "markdown",
   "id": "8154dacf",
   "metadata": {},
   "source": [
    "# Analyzse and rename dumped parameters"
   ]
  },
  {
   "cell_type": "code",
   "execution_count": null,
   "id": "ad32c7c1",
   "metadata": {},
   "outputs": [],
   "source": [
    "import vaep\n",
    "import pandas as pd\n",
    "\n",
    "fname_mq_params = 'data/all_parameter_files.csv'\n",
    "fname_id_mappings = 'data/rename/selected_old_new_id_mapping.csv'\n",
    "\n",
    "fname_out = 'data/selected_parameter_files.csv'\n",
    "\n",
    "parameter_files = pd.read_csv(fname_mq_params, index_col=0, header=list(range(4))\n",
    "                              )\n",
    "parameter_files"
   ]
  },
  {
   "cell_type": "code",
   "execution_count": null,
   "id": "09d029d6",
   "metadata": {},
   "outputs": [],
   "source": [
    "# thread experiments...\n",
    "vaep.pandas.show_columns_with_variation(\n",
    "    parameter_files\n",
    "    .loc[parameter_files.index.duplicated(keep=False)])"
   ]
  },
  {
   "cell_type": "code",
   "execution_count": null,
   "id": "05f5fc43",
   "metadata": {},
   "outputs": [],
   "source": [
    "parameter_files = parameter_files.loc[~parameter_files.index.duplicated()]\n",
    "parameter_files"
   ]
  },
  {
   "cell_type": "code",
   "execution_count": null,
   "id": "b92ac981",
   "metadata": {},
   "outputs": [],
   "source": [
    "id_mappings = pd.read_csv(fname_id_mappings, index_col=0, usecols=['Sample ID', 'new_sample_id'])\n",
    "id_mappings.head()"
   ]
  },
  {
   "cell_type": "code",
   "execution_count": null,
   "id": "245e795a",
   "metadata": {},
   "outputs": [],
   "source": [
    "parameter_files.loc[id_mappings.index]"
   ]
  },
  {
   "cell_type": "code",
   "execution_count": null,
   "id": "ef8ffc10",
   "metadata": {},
   "outputs": [],
   "source": [
    "sel = (parameter_files\n",
    "       .loc[id_mappings.index]\n",
    "       .drop('filePaths', axis=1)\n",
    "       .rename(id_mappings['new_sample_id']))\n",
    "sel.to_csv(fname_out)\n",
    "sel"
   ]
  },
  {
   "cell_type": "markdown",
   "id": "b1f69026",
   "metadata": {},
   "source": [
    "-inf and + inf cannot be handled correctly (fullMinMz, fullMaxMz)\n",
    "number of Threads differs as the setting was varied in the beginning (most runs used 4 threads)"
   ]
  },
  {
   "cell_type": "code",
   "execution_count": null,
   "id": "6b5ae165",
   "metadata": {},
   "outputs": [],
   "source": [
    "sel_with_diffs = vaep.pandas.show_columns_with_variation(sel)\n",
    "sel_with_diffs"
   ]
  },
  {
   "cell_type": "code",
   "execution_count": null,
   "id": "15f413d3",
   "metadata": {},
   "outputs": [],
   "source": [
    "sel_with_diffs.describe()"
   ]
  },
  {
   "cell_type": "code",
   "execution_count": null,
   "id": "ee554c42",
   "metadata": {},
   "outputs": [],
   "source": [
    "sel[('numThreads', 'nan', 'nan', 'nan')].value_counts()"
   ]
  },
  {
   "cell_type": "code",
   "execution_count": null,
   "id": "8dc29350",
   "metadata": {},
   "outputs": [],
   "source": [
    "# 388 columns are identical\n",
    "sel.drop(sel_with_diffs.columns, axis=1\n",
    "         ).drop_duplicates()"
   ]
  }
 ],
 "metadata": {
  "jupytext": {
   "cell_metadata_filter": "-all",
   "main_language": "python",
   "notebook_metadata_filter": "-all"
  }
 },
 "nbformat": 4,
 "nbformat_minor": 5
}
