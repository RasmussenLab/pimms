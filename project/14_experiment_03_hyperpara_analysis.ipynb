{
 "cells": [
  {
   "cell_type": "markdown",
   "id": "149ddbfc-c339-4843-8801-9eca57b0ff5e",
   "metadata": {},
   "source": [
    "# Analyis of grid hyperparameter search"
   ]
  },
  {
   "cell_type": "code",
   "execution_count": null,
   "id": "f00a7b57-371d-4463-8da4-201e793f4401",
   "metadata": {},
   "outputs": [],
   "source": [
    "import json\n",
    "import pathlib\n",
    "import pandas as pd\n",
    "import vaep.pandas\n",
    "\n",
    "pd.options.display.max_columns = 30\n",
    "pd.options.display.multi_sparse = False"
   ]
  },
  {
   "cell_type": "code",
   "execution_count": null,
   "id": "c6189a40-cfe2-4a53-9ce9-d7f86080bf79",
   "metadata": {},
   "outputs": [],
   "source": [
    "fname = \"runs/experiment03/all_metrics.json\""
   ]
  },
  {
   "cell_type": "code",
   "execution_count": null,
   "id": "3cc31625-6f9d-4f96-b531-93561e7bafb3",
   "metadata": {},
   "outputs": [],
   "source": [
    "fname = pathlib.Path(fname)\n",
    "FOLDER = fname.parent\n",
    "with open(pathlib.Path(fname)) as f:\n",
    "    metrics_dict = json.load(f)"
   ]
  },
  {
   "cell_type": "code",
   "execution_count": null,
   "id": "41f324d3-48bf-43ef-aa2a-c0bd1ab9c188",
   "metadata": {},
   "outputs": [],
   "source": [
    "metrics = {}\n",
    "for k, run_metrics in metrics_dict.items():\n",
    "    metrics[k] = vaep.pandas.flatten_dict_of_dicts(run_metrics)\n",
    "\n",
    "metrics = pd.DataFrame.from_dict(metrics, orient='index')\n",
    "metrics"
   ]
  },
  {
   "cell_type": "markdown",
   "id": "2bef0010-3bec-4e5a-804c-5f861e975499",
   "metadata": {},
   "source": [
    "- options see [2Dline plot](https://matplotlib.org/stable/api/_as_gen/matplotlib.lines.Line2D.html#matplotlib.lines.Line2D)"
   ]
  },
  {
   "cell_type": "code",
   "execution_count": null,
   "id": "ddbb4643-91e2-4d40-b0e4-80b0fcf95861",
   "metadata": {},
   "outputs": [],
   "source": [
    "metrics[\"valid_pred_collab\"]['intensity_predicted'].sort_values(\n",
    "    'MSE').iloc[:10].plot(rot=90, \n",
    "                          x_compat=True, \n",
    "                          xticks=list(range(10)),\n",
    "                          marker='o',\n",
    "                          linestyle='',\n",
    "                          title='Top 10 results for hyperparameters'\n",
    "                         )"
   ]
  },
  {
   "cell_type": "markdown",
   "id": "1c7278b3-ef8a-43f8-ade0-d8777b9b41b4",
   "metadata": {},
   "source": [
    "## Metadata"
   ]
  },
  {
   "cell_type": "code",
   "execution_count": null,
   "id": "f4982941-06f5-4d68-b59b-4ab2b201ffc7",
   "metadata": {},
   "outputs": [],
   "source": [
    "from collections import namedtuple\n",
    "from typing import List\n",
    "\n",
    "\n",
    "class ExperimentTemplate():\n",
    "\n",
    "    def __init__(self, template: str, prefix='experiment', sep='_'):\n",
    "        self.template = template\n",
    "        self.prefix = prefix\n",
    "        self.sep = sep\n",
    "        self.Entry = namedtuple('Entry', 'key name')\n",
    "        self.keys = self.parse_template()\n",
    "        self.map = {entry.key: entry.name for entry in self.keys}\n",
    "\n",
    "    def parse_template(self) -> List[namedtuple]:\n",
    "        #         ret = self.template[self.template.find('_')+1:]\n",
    "        ret = self.template.split(f'{self.sep}', 1)[1]  # remove prefix\n",
    "        ret = ret[:-1]\n",
    "        ret = ret.split('}'+self.sep)\n",
    "        ret = [self.Entry(*x.split(self.sep + '{')) for x in ret]\n",
    "        return ret\n",
    "\n",
    "    def get_meta_data(self, index: pd.Index) -> dict:\n",
    "        meta = []\n",
    "        for str_index in index:\n",
    "            str_index = str_index.split(f'{self.sep}', 1)[1]\n",
    "            str_index = str_index.split(self.sep)\n",
    "            d = {str_index[i]:str_index[i+1] for i in range(0,len(str_index), 2)}\n",
    "            d = {self.map[k]: v for k,v in d.items()}\n",
    "            meta.append(d)\n",
    "        return meta\n",
    "\n",
    "\n",
    "name_template = \"experiment_HL_{hidden_layers}_LD_{latent_dim}_E_{epochs}_BS_{batch_size}\"\n",
    "\n",
    "experiment_template = ExperimentTemplate(name_template)\n",
    "meta_dict = experiment_template.get_meta_data(metrics.index)"
   ]
  },
  {
   "cell_type": "code",
   "execution_count": null,
   "id": "438b4ee0-a61f-40be-9e5d-dcf6c5e91810",
   "metadata": {},
   "outputs": [],
   "source": [
    "meta = pd.DataFrame(meta_dict, index=metrics.index)\n",
    "meta"
   ]
  },
  {
   "cell_type": "code",
   "execution_count": null,
   "id": "0fc40f89-177b-4750-8141-430ac49e5b3e",
   "metadata": {},
   "outputs": [],
   "source": [
    "metrics = metrics.set_index(pd.MultiIndex.from_frame(meta[['latent_dim', 'hidden_layers', 'batch_size']]))\n",
    "metrics_styled = metrics.sort_index().style.background_gradient(\n",
    "    # 'Greys',\n",
    "    # 'BuPu',\n",
    "    'viridis'\n",
    ")\n",
    "metrics_styled"
   ]
  },
  {
   "cell_type": "code",
   "execution_count": null,
   "id": "98751f1e-e3e3-42ba-87e2-0d1b33d71927",
   "metadata": {},
   "outputs": [],
   "source": [
    "metrics_styled.to_excel(FOLDER/ 'metrics_styled.xlsx')"
   ]
  },
  {
   "cell_type": "code",
   "execution_count": null,
   "id": "5ee241c3-ec2b-4a3c-bd7f-464dee83c750",
   "metadata": {},
   "outputs": [],
   "source": [
    "metrics[\"valid_pred_collab\"]['intensity_predicted'].sort_values(\n",
    "    'MSE').iloc[:10].plot(rot=90,\n",
    "                          x_compat=True,\n",
    "                          xticks=list(range(10)),\n",
    "                          marker='o',\n",
    "                          linestyle=''\n",
    "                          )"
   ]
  }
 ],
 "metadata": {
  "kernelspec": {
   "display_name": "vaep",
   "language": "python",
   "name": "vaep"
  },
  "language_info": {
   "codemirror_mode": {
    "name": "ipython",
    "version": 3
   },
   "file_extension": ".py",
   "mimetype": "text/x-python",
   "name": "python",
   "nbconvert_exporter": "python",
   "pygments_lexer": "ipython3",
   "version": "3.8.12"
  }
 },
 "nbformat": 4,
 "nbformat_minor": 5
}
