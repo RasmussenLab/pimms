{
 "cells": [
  {
   "cell_type": "markdown",
   "id": "149ddbfc-c339-4843-8801-9eca57b0ff5e",
   "metadata": {},
   "source": [
    "# Analyis of grid hyperparameter search"
   ]
  },
  {
   "cell_type": "code",
   "execution_count": null,
   "id": "f00a7b57-371d-4463-8da4-201e793f4401",
   "metadata": {},
   "outputs": [],
   "source": [
    "import json\n",
    "import pathlib\n",
    "import pandas as pd\n",
    "import vaep.pandas\n",
    "\n",
    "pd.options.display.max_columns = 30"
   ]
  },
  {
   "cell_type": "code",
   "execution_count": null,
   "id": "3cc31625-6f9d-4f96-b531-93561e7bafb3",
   "metadata": {},
   "outputs": [],
   "source": [
    "fname = \"runs/experiment03/all_metrics.json\"\n",
    "\n",
    "with open(pathlib.Path(fname)) as f:\n",
    "    metrics_dict = json.load(f)"
   ]
  },
  {
   "cell_type": "code",
   "execution_count": null,
   "id": "41f324d3-48bf-43ef-aa2a-c0bd1ab9c188",
   "metadata": {},
   "outputs": [],
   "source": [
    "metrics = {}\n",
    "for k, run_metrics in metrics_dict.items():\n",
    "    metrics[k] = vaep.pandas.flatten_dict_of_dicts(run_metrics)\n",
    "\n",
    "metrics = pd.DataFrame.from_dict(metrics, orient='index')\n",
    "metrics"
   ]
  },
  {
   "cell_type": "markdown",
   "id": "2bef0010-3bec-4e5a-804c-5f861e975499",
   "metadata": {},
   "source": [
    "- options see [2Dline plot](https://matplotlib.org/stable/api/_as_gen/matplotlib.lines.Line2D.html#matplotlib.lines.Line2D)"
   ]
  },
  {
   "cell_type": "code",
   "execution_count": null,
   "id": "ddbb4643-91e2-4d40-b0e4-80b0fcf95861",
   "metadata": {},
   "outputs": [],
   "source": [
    "metrics[\"valid_pred_collab\"]['intensity_predicted'].sort_values(\n",
    "    'MSE').iloc[:10].plot(rot=90, \n",
    "                          x_compat=True, \n",
    "                          xticks=list(range(10)),\n",
    "                          marker='o',\n",
    "                          linestyle=''\n",
    "                          \n",
    "                         )"
   ]
  }
 ],
 "metadata": {
  "kernelspec": {
   "display_name": "vaep",
   "language": "python",
   "name": "vaep"
  },
  "language_info": {
   "codemirror_mode": {
    "name": "ipython",
    "version": 3
   },
   "file_extension": ".py",
   "mimetype": "text/x-python",
   "name": "python",
   "nbconvert_exporter": "python",
   "pygments_lexer": "ipython3",
   "version": "3.8.12"
  }
 },
 "nbformat": 4,
 "nbformat_minor": 5
}
