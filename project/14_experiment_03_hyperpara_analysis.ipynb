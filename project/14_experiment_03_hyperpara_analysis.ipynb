{
 "cells": [
  {
   "cell_type": "markdown",
   "id": "149ddbfc-c339-4843-8801-9eca57b0ff5e",
   "metadata": {},
   "source": [
    "# Analyis of grid hyperparameter search"
   ]
  },
  {
   "cell_type": "code",
   "execution_count": null,
   "id": "f00a7b57-371d-4463-8da4-201e793f4401",
   "metadata": {},
   "outputs": [],
   "source": [
    "import json\n",
    "import pathlib\n",
    "import pandas as pd"
   ]
  },
  {
   "cell_type": "code",
   "execution_count": null,
   "id": "3cc31625-6f9d-4f96-b531-93561e7bafb3",
   "metadata": {},
   "outputs": [],
   "source": [
    "fname = \"runs/experiment03/all_metrics.json\"\n",
    "\n",
    "with open(pathlib.Path(fname)) as f:\n",
    "    all_metrics = json.load(f)"
   ]
  },
  {
   "cell_type": "code",
   "execution_count": null,
   "id": "fec7d8dd-b908-49f4-a5e9-1c4a09a8945b",
   "metadata": {},
   "outputs": [],
   "source": [
    "import collections.abc\n",
    "\n",
    "def flatten_dict_of_dicts(d, parent_key=''):\n",
    "    items = []\n",
    "    for k, v in d.items():\n",
    "        new_key = parent_key + (k,) if parent_key else (k,)\n",
    "        if isinstance(v, collections.abc.MutableMapping):\n",
    "            items.extend(flatten_dict_of_dicts(v, new_key).items())\n",
    "        else:\n",
    "            items.append((new_key, v))\n",
    "    return dict(items)\n",
    "\n",
    "\n",
    "flatten_dict_of_dicts({\n",
    "    \"a\": {'a1': {'a2': 1, 'a3': 2}},\n",
    "    \"b\": {'b1': {'b2': 3, 'b3': 4}}\n",
    "        })"
   ]
  },
  {
   "cell_type": "code",
   "execution_count": null,
   "id": "41f324d3-48bf-43ef-aa2a-c0bd1ab9c188",
   "metadata": {},
   "outputs": [],
   "source": [
    "data = {}\n",
    "for k, run_metrics in all_metrics.items():\n",
    "    data[k] = flatten_dict_of_dicts(run_metrics)\n",
    "\n",
    "pd.DataFrame.from_dict(data)"
   ]
  }
 ],
 "metadata": {
  "kernelspec": {
   "display_name": "vaep",
   "language": "python",
   "name": "vaep"
  },
  "language_info": {
   "codemirror_mode": {
    "name": "ipython",
    "version": 3
   },
   "file_extension": ".py",
   "mimetype": "text/x-python",
   "name": "python",
   "nbconvert_exporter": "python",
   "pygments_lexer": "ipython3",
   "version": "3.8.12"
  }
 },
 "nbformat": 4,
 "nbformat_minor": 5
}
