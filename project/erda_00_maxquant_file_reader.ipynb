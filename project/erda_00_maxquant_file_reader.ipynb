{
 "cells": [
  {
   "cell_type": "markdown",
   "metadata": {
    "Collapsed": "false"
   },
   "source": [
    "# MaxQuant (MQ) Output-Files\n",
    "\n",
    "Files compared:\n",
    "1. `Summary.txt`\n",
    "2. `mqpar.xml`\n",
    "3. `peptides.txt`\n",
    "4. `proteins.txt`\n",
    "\n",
    "There is are many files more, where several files seem to be available in several times in different formats."
   ]
  },
  {
   "cell_type": "code",
   "execution_count": null,
   "metadata": {
    "Collapsed": "false"
   },
   "outputs": [],
   "source": [
    "import os\n",
    "import sys\n",
    "import logging\n",
    "from pathlib import Path\n",
    "import random\n",
    "\n",
    "import pandas as pd\n",
    "import ipywidgets as widgets\n",
    "\n",
    "# sys.path.append('/home/jovyan/work/vaep/')\n",
    "from vaep.io import PathsList\n",
    "from vaep.io.mq import MaxQuantOutputDynamic\n",
    "from vaep.io.mq import ExtractFromPeptidesTxt\n",
    "import vaep.io.mq as mq\n",
    "\n",
    "import src\n",
    "from src.file_utils import process_files\n",
    "from src.file_utils import load_summary, load_mqpar_xml\n",
    "from src.logging import setup_logger_w_file\n",
    "\n",
    "##################\n",
    "##### CONFIG #####\n",
    "##################\n",
    "from src.config import FOLDER_MQ_TXT_DATA, FOLDER_PROCESSED\n",
    "from src.config import FOLDER_KEY  # defines how filenames are parsed for use as indices\n",
    "\n",
    "from src.config import FOLDER_DATA # project folder for storing the data\n",
    "print(f\"Search Raw-Files on path: {FOLDER_MQ_TXT_DATA}\")\n",
    "\n",
    "##################\n",
    "### Logging ######\n",
    "##################\n",
    "\n",
    "#Delete Jupyter notebook root logger handler\n",
    "root_logger = logging.getLogger()\n",
    "root_logger.handlers = []\n",
    "\n",
    "logger = logging.getLogger('vaep')\n",
    "logger = setup_logger_w_file(logger, fname_base='log_00_maxquant_file_reader')\n",
    "\n",
    "logger.info('Start with handlers: \\n' + \"\\n\".join(f\"- {repr(log_)}\" for log_ in logger.handlers))"
   ]
  },
  {
   "cell_type": "code",
   "execution_count": null,
   "metadata": {},
   "outputs": [],
   "source": [
    "folders_mq_txt_data = Path(FOLDER_MQ_TXT_DATA)"
   ]
  },
  {
   "cell_type": "code",
   "execution_count": null,
   "metadata": {
    "Collapsed": "false"
   },
   "outputs": [],
   "source": [
    "folders = [folder for folder in  Path(FOLDER_MQ_TXT_DATA).iterdir()]\n",
    "w_file = widgets.Dropdown(options=[folder for folder in folders], description='View files')\n",
    "w_file"
   ]
  },
  {
   "cell_type": "code",
   "execution_count": null,
   "metadata": {},
   "outputs": [],
   "source": [
    "mq_output = MaxQuantOutputDynamic(w_file.value)\n",
    "mq_output"
   ]
  },
  {
   "cell_type": "markdown",
   "metadata": {},
   "source": [
    "Results will be saved in a subfolder under `vaep/project/data` using the name of the specified input-folder per default. Change to your liking:"
   ]
  },
  {
   "cell_type": "markdown",
   "metadata": {},
   "source": [
    "> Go to the block you are interested in!"
   ]
  },
  {
   "cell_type": "markdown",
   "metadata": {
    "Collapsed": "false"
   },
   "source": [
    "## MQ Summary files"
   ]
  },
  {
   "cell_type": "code",
   "execution_count": null,
   "metadata": {},
   "outputs": [],
   "source": [
    "mq_output.summary.iloc[0].to_dict()"
   ]
  },
  {
   "cell_type": "markdown",
   "metadata": {
    "Collapsed": "false"
   },
   "source": [
    "### File Handler"
   ]
  },
  {
   "cell_type": "code",
   "execution_count": null,
   "metadata": {
    "Collapsed": "false"
   },
   "outputs": [],
   "source": [
    "# load_summary??"
   ]
  },
  {
   "cell_type": "markdown",
   "metadata": {
    "Collapsed": "false"
   },
   "source": [
    "### Summaries"
   ]
  },
  {
   "cell_type": "code",
   "execution_count": null,
   "metadata": {
    "Collapsed": "false"
   },
   "outputs": [],
   "source": [
    "if paths_summaries.files:\n",
    "    df, names, failed = process_files(handler_fct=load_summary, filepaths=paths_summaries.files, key=FOLDER_KEY, relative_to=paths_summaries.folder)\n",
    "    df.columns = names\n",
    "    print(f\"Number of failed reads: {len(failed)}\")\n",
    "    display(df)"
   ]
  },
  {
   "cell_type": "code",
   "execution_count": null,
   "metadata": {},
   "outputs": [],
   "source": [
    "if paths_summaries.files:\n",
    "    df.to_csv(os.path.join(FOLDER_PROCESSED, 'all_summary_txt.csv'))\n",
    "    df.to_pickle(os.path.join(FOLDER_PROCESSED, 'all_summary_txt.pkl'))"
   ]
  },
  {
   "cell_type": "markdown",
   "metadata": {},
   "source": [
    "- SIL - MS2 based on precursor which was a set of peaks\n",
    "- PEAK - MS2 scan based on a single peak on precursor spectrum\n",
    "- ISO - isotopic pattern detection\n"
   ]
  },
  {
   "cell_type": "code",
   "execution_count": null,
   "metadata": {},
   "outputs": [],
   "source": [
    "if paths_summaries.files:\n",
    "    MS_spectra = df.loc[['MS', 'MS/MS Identified']].T.astype('int64')\n",
    "    mask  = MS_spectra['MS/MS Identified'] > 0\n",
    "    display(MS_spectra.loc[mask].describe())\n",
    "    MS_spectra.to_csv(os.path.join(FOLDER_PROCESSED, 'overview_stats.csv'))"
   ]
  },
  {
   "cell_type": "markdown",
   "metadata": {
    "Collapsed": "false"
   },
   "source": [
    "## MaxQuant Parameter File"
   ]
  },
  {
   "cell_type": "code",
   "execution_count": null,
   "metadata": {
    "Collapsed": "false"
   },
   "outputs": [],
   "source": [
    "paths_parameters = PathsList(files=[file for file in all_files.files if '.xml' in file], folder=all_files.folder)\n",
    "w_file = widgets.Dropdown(options=paths_parameters.files, description='Select a file')\n",
    "w_file"
   ]
  },
  {
   "cell_type": "markdown",
   "metadata": {
    "Collapsed": "false"
   },
   "source": [
    "### Parameter Files"
   ]
  },
  {
   "cell_type": "code",
   "execution_count": null,
   "metadata": {
    "Collapsed": "false"
   },
   "outputs": [],
   "source": [
    "load_mqpar_xml??"
   ]
  },
  {
   "cell_type": "code",
   "execution_count": null,
   "metadata": {
    "Collapsed": "false"
   },
   "outputs": [],
   "source": [
    "fname_mqpar_xml = os.path.join(FOLDER_PROCESSED, 'peptide_intensities.{}')\n",
    "\n",
    "if paths_parameters.files:\n",
    "    df, col_names, failed = process_files(handler_fct=load_mqpar_xml, filepaths=paths_parameters.files, key=FOLDER_KEY, relative_to=paths_parameters.folder) \n",
    "    df.columns = col_names\n",
    "    print(f\"Number of failed reads: {len(failed)}\")\n",
    "    pd.set_option('max_rows', 160)\n",
    "    display(df)\n",
    "    df.to_pickle(fname_mqpar_xml.format(\"pkl\"))"
   ]
  },
  {
   "cell_type": "code",
   "execution_count": null,
   "metadata": {},
   "outputs": [],
   "source": [
    "del df"
   ]
  },
  {
   "cell_type": "markdown",
   "metadata": {
    "Collapsed": "false"
   },
   "source": [
    "## Peptides"
   ]
  },
  {
   "cell_type": "code",
   "execution_count": null,
   "metadata": {
    "Collapsed": "false"
   },
   "outputs": [],
   "source": [
    "paths_peptides = PathsList(files = [file for file in all_files.files if 'peptides.txt' in file], folder=all_files.folder)\n",
    "# paths_peptides"
   ]
  },
  {
   "cell_type": "code",
   "execution_count": null,
   "metadata": {
    "Collapsed": "false"
   },
   "outputs": [],
   "source": [
    "pd.set_option('max_columns', 60)\n",
    "\n",
    "mq_output = MaxQuantOutputDynamic(\n",
    "    folder=folders[random.randint(0, len(paths_peptides.files)-1)])\n",
    "mq_output.peptides"
   ]
  },
  {
   "cell_type": "code",
   "execution_count": null,
   "metadata": {},
   "outputs": [],
   "source": [
    "mq_output.peptides.Intensity # as is in peptides.txt, comma seperated thousands"
   ]
  },
  {
   "cell_type": "markdown",
   "metadata": {
    "Collapsed": "false"
   },
   "source": [
    "### Create peptide intensity dumps for each MQ outputfolder\n",
    "\n",
    "All folders are stored in a list"
   ]
  },
  {
   "cell_type": "code",
   "execution_count": null,
   "metadata": {},
   "outputs": [],
   "source": [
    "# folders[:10]"
   ]
  },
  {
   "cell_type": "markdown",
   "metadata": {},
   "source": [
    "Check if the output folder contains already parsed files"
   ]
  },
  {
   "cell_type": "code",
   "execution_count": null,
   "metadata": {},
   "outputs": [],
   "source": [
    "import json\n",
    "\n",
    "import config\n",
    "\n",
    "with open(config.FN_FASTA_DB) as f:\n",
    "    data_fasta = json.load(f)\n",
    "print(f'Number of proteins in fasta file DB: {len(data_fasta)}')"
   ]
  },
  {
   "cell_type": "code",
   "execution_count": null,
   "metadata": {},
   "outputs": [],
   "source": [
    "# 20170509_QE4_LC12_IAH_QC_MNT_HeLa_01 # trigger re-execution\n",
    "# 20130408_QE6_LC5_KBS_MNT_QC_HeLa_02  # reversed protein leading razor protein"
   ]
  },
  {
   "cell_type": "code",
   "execution_count": null,
   "metadata": {},
   "outputs": [],
   "source": [
    "%%time\n",
    "FOLDER_PROCESSED = Path(FOLDER_PROCESSED)\n",
    "set_previously_loaded =  {folder.name for folder in FOLDER_PROCESSED.iterdir()}\n",
    "\n",
    "FORCE = True\n",
    "\n",
    "for folder in folders:\n",
    "    if folder.name in set_previously_loaded and not FORCE and (folder / '0_completness_all_genes.json').exists():\n",
    "        pass\n",
    "    else:\n",
    "        logger.info('\\n\\nProcess: {folder.name}')\n",
    "        print(f\"Process: {folder.name}\")\n",
    "        mq_output = MaxQuantOutputDynamic(folder)\n",
    "        peptide_extractor = ExtractFromPeptidesTxt(\n",
    "            out_folder=FOLDER_PROCESSED, mq_output_object=mq_output, fasta_db=data_fasta)\n",
    "        completeness_per_gene = peptide_extractor()"
   ]
  },
  {
   "cell_type": "code",
   "execution_count": null,
   "metadata": {},
   "outputs": [],
   "source": [
    "# %debug"
   ]
  },
  {
   "cell_type": "markdown",
   "metadata": {
    "Collapsed": "false"
   },
   "source": [
    "## Theoretial Peptides from used fasta-file\n",
    "\n",
    "> `01_explore_FASTA.ipynb` (formely `01_FASTA_tryptic_digest.ipynb`)"
   ]
  },
  {
   "cell_type": "code",
   "execution_count": null,
   "metadata": {
    "Collapsed": "false"
   },
   "outputs": [],
   "source": []
  }
 ],
 "metadata": {
  "file_extension": ".py",
  "kernelspec": {
   "display_name": "Python 3",
   "language": "python",
   "name": "python3"
  },
  "language_info": {
   "codemirror_mode": {
    "name": "ipython",
    "version": 3
   },
   "file_extension": ".py",
   "mimetype": "text/x-python",
   "name": "python",
   "nbconvert_exporter": "python",
   "pygments_lexer": "ipython3",
   "version": "3.8.8"
  },
  "mimetype": "text/x-python",
  "name": "python",
  "npconvert_exporter": "python",
  "pygments_lexer": "ipython3",
  "toc-autonumbering": true,
  "version": 3
 },
 "nbformat": 4,
 "nbformat_minor": 4
}
