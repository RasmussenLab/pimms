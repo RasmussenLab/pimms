{
 "cells": [
  {
   "cell_type": "markdown",
   "metadata": {
    "Collapsed": "false"
   },
   "source": [
    "# MaxQuant (MQ) Output-Files\n",
    "\n",
    "Compare a single experiment\n",
    "\n",
    "Files compared:\n",
    "1. `Summary.txt`\n",
    "2. `mqpar.xml`\n",
    "3. `peptides.txt`\n",
    "4. `proteins.txt`\n",
    "\n",
    "There is are many files more, where several files seem to be available in several times in different formats."
   ]
  },
  {
   "cell_type": "code",
   "execution_count": null,
   "metadata": {},
   "outputs": [],
   "source": [
    "import os\n",
    "import sys\n",
    "import logging\n",
    "from pathlib import Path\n",
    "import random\n",
    "from tqdm.notebook import tqdm\n",
    "\n",
    "import pandas as pd\n",
    "import ipywidgets as widgets\n",
    "\n",
    "from vaep.io import PathsList\n",
    "from vaep.io.mq import MaxQuantOutputDynamic\n",
    "from vaep.io.mq import ExtractFromPeptidesTxt\n",
    "import vaep.io.mq as mq\n",
    "\n",
    "\n",
    "from src.file_utils import load_summary, load_mqpar_xml\n",
    "from vaep.logging import setup_logger_w_file\n",
    "\n",
    "##################\n",
    "##### CONFIG #####\n",
    "##################\n",
    "from config import FOLDER_MQ_TXT_DATA, FOLDER_PROCESSED\n",
    "from config import FOLDER_KEY  # defines how filenames are parsed for use as indices\n",
    "\n",
    "from config import FOLDER_DATA # project folder for storing the data\n",
    "print(f\"Search Raw-Files on path: {FOLDER_MQ_TXT_DATA}\")\n",
    "\n",
    "##################\n",
    "### Logging ######\n",
    "##################\n",
    "\n",
    "#Delete Jupyter notebook root logger handler\n",
    "root_logger = logging.getLogger()\n",
    "root_logger.handlers = []\n",
    "\n",
    "logger = logging.getLogger('vaep')\n",
    "logger = setup_logger_w_file(logger, fname_base='log_00_maxquant_file_reader')\n",
    "\n",
    "logger.info('Start with handlers: \\n' + \"\\n\".join(f\"- {repr(log_)}\" for log_ in logger.handlers))"
   ]
  },
  {
   "cell_type": "code",
   "execution_count": null,
   "metadata": {},
   "outputs": [],
   "source": [
    "folders = [folder for folder in  Path(FOLDER_MQ_TXT_DATA).iterdir() if folder.is_dir()]"
   ]
  },
  {
   "cell_type": "code",
   "execution_count": null,
   "metadata": {},
   "outputs": [],
   "source": [
    "folders_dict = {folder.name: folder for folder in sorted(folders) }\n",
    "assert len(folders_dict) == len(folders), \"Non unique file names\""
   ]
  },
  {
   "cell_type": "code",
   "execution_count": null,
   "metadata": {
    "Collapsed": "false"
   },
   "outputs": [],
   "source": [
    "# w_file = widgets.Dropdown(options=[folder for folder in folders], description='View files')\n",
    "w_file = widgets.Dropdown(options=folders_dict, description='View files')\n",
    "w_file"
   ]
  },
  {
   "cell_type": "code",
   "execution_count": null,
   "metadata": {},
   "outputs": [],
   "source": [
    "mq_output = MaxQuantOutputDynamic(w_file.value)\n",
    "mq_output"
   ]
  },
  {
   "cell_type": "markdown",
   "metadata": {},
   "source": [
    "Results will be saved in a subfolder under `vaep/project/data` using the name of the specified input-folder per default. Change to your liking:"
   ]
  },
  {
   "cell_type": "markdown",
   "metadata": {},
   "source": [
    "> Go to the block you are interested in!"
   ]
  },
  {
   "cell_type": "markdown",
   "metadata": {
    "Collapsed": "false"
   },
   "source": [
    "## MQ Summary files"
   ]
  },
  {
   "cell_type": "code",
   "execution_count": null,
   "metadata": {},
   "outputs": [],
   "source": [
    "mq_output.summary.iloc[0].to_dict()"
   ]
  },
  {
   "cell_type": "markdown",
   "metadata": {
    "Collapsed": "false"
   },
   "source": [
    "### File Handler\n",
    "\n",
    "- dictionary of run name to run output folder\n",
    "- find class with expected output folders"
   ]
  },
  {
   "cell_type": "code",
   "execution_count": null,
   "metadata": {
    "Collapsed": "false"
   },
   "outputs": [],
   "source": [
    "# load_summary??"
   ]
  },
  {
   "cell_type": "markdown",
   "metadata": {
    "Collapsed": "false"
   },
   "source": [
    "### Summaries\n",
    "\n",
    "- aggregated in `vaep/project/erda_01_mq_aggregate_summaries.ipynb` \n",
    "    - file selection based on summaries for further analysis thereafter"
   ]
  },
  {
   "cell_type": "code",
   "execution_count": null,
   "metadata": {},
   "outputs": [],
   "source": [
    "# paths_summaries = [str(folder / 'summary.txt') for folder in folders_dict.values()]"
   ]
  },
  {
   "cell_type": "code",
   "execution_count": null,
   "metadata": {
    "Collapsed": "false"
   },
   "outputs": [],
   "source": [
    "# # if paths_summaries.files:\n",
    "# if folders_dict:\n",
    "# #     df, names, failed = process_files(handler_fct=load_summary, filepaths=paths_summaries.files, key=FOLDER_KEY, relative_to='paths_summaries.folder')\n",
    "#     df, names, failed = process_files(handler_fct=load_summary, filepaths=paths_summaries, key=FOLDER_KEY, relative_to=None)\n",
    "#     df.columns = names\n",
    "#     print(f\"Number of failed reads: {len(failed)}\")\n",
    "#     display(df)"
   ]
  },
  {
   "cell_type": "code",
   "execution_count": null,
   "metadata": {},
   "outputs": [],
   "source": [
    "# # if paths_summaries.files:\n",
    "# if paths_summaries:\n",
    "#     df.to_csv(os.path.join(FOLDER_PROCESSED, 'all_summary_txt.csv'))\n",
    "#     df.to_pickle(os.path.join(FOLDER_PROCESSED, 'all_summary_txt.pkl'))"
   ]
  },
  {
   "cell_type": "markdown",
   "metadata": {},
   "source": [
    "- SIL - MS2 based on precursor which was a set of peaks\n",
    "- PEAK - MS2 scan based on a single peak on precursor spectrum\n",
    "- ISO - isotopic pattern detection\n"
   ]
  },
  {
   "cell_type": "code",
   "execution_count": null,
   "metadata": {},
   "outputs": [],
   "source": [
    "# # if paths_summaries.files:\n",
    "# if paths_summaries:\n",
    "#     MS_spectra = df.loc[['MS', 'MS/MS Identified']].T.astype('int64')\n",
    "#     mask  = MS_spectra['MS/MS Identified'] > 0\n",
    "#     display(MS_spectra.loc[mask].describe())\n",
    "#     MS_spectra.to_csv(os.path.join(FOLDER_PROCESSED, 'overview_stats.csv'))"
   ]
  },
  {
   "cell_type": "markdown",
   "metadata": {
    "Collapsed": "false"
   },
   "source": [
    "## MaxQuant Parameter File\n",
    "\n",
    "- partly in a separate subfolder\n",
    "- mainly in run folders\n",
    "- rebase on folders_dictionary (check for `.xml` files in all folders)"
   ]
  },
  {
   "cell_type": "code",
   "execution_count": null,
   "metadata": {},
   "outputs": [],
   "source": [
    "mqpar_files = (Path(FOLDER_DATA) / 'mqpar_files')\n",
    "\n",
    "mqpar_files  = [file for file in mqpar_files.iterdir() if file.suffix == '.xml']\n",
    "len(mqpar_files) # nested search needed"
   ]
  },
  {
   "cell_type": "code",
   "execution_count": null,
   "metadata": {
    "Collapsed": "false"
   },
   "outputs": [],
   "source": [
    "w_file = widgets.Dropdown(options=mqpar_files, description='Select a file')\n",
    "w_file"
   ]
  },
  {
   "cell_type": "markdown",
   "metadata": {
    "Collapsed": "false"
   },
   "source": [
    "### Parameter Files"
   ]
  },
  {
   "cell_type": "code",
   "execution_count": null,
   "metadata": {
    "Collapsed": "false"
   },
   "outputs": [],
   "source": [
    "fname_mqpar_xml = os.path.join(FOLDER_PROCESSED, 'peptide_intensities.{}')\n",
    "\n",
    "d_mqpar = dict()\n",
    "for file in tqdm(mqpar_files):\n",
    "    d_mqpar[file.stem] = load_mqpar_xml(file)['MaxQuantParams']\n",
    "    \n",
    "df_mqpar = pd.DataFrame(d_mqpar.values() , index=d_mqpar.keys()).convert_dtypes()\n",
    "df_mqpar"
   ]
  },
  {
   "cell_type": "markdown",
   "metadata": {},
   "source": [
    "The number of threads used might differ"
   ]
  },
  {
   "cell_type": "code",
   "execution_count": null,
   "metadata": {},
   "outputs": [],
   "source": [
    "df_mqpar['numThreads'].value_counts()"
   ]
  },
  {
   "cell_type": "markdown",
   "metadata": {},
   "source": [
    "The parameter files would need further parsing, which is skipped for now:\n",
    " - `OrderedDict` would need to be flattend\n",
    " - in the example below, it is not easy to see how entries should be easily combined\n",
    "    (list of `OrderedDict`s where only the `fastaFilePath` is different)"
   ]
  },
  {
   "cell_type": "code",
   "execution_count": null,
   "metadata": {},
   "outputs": [],
   "source": [
    "df_mqpar.iloc[0].loc['fastaFiles']"
   ]
  },
  {
   "cell_type": "markdown",
   "metadata": {},
   "source": [
    "in order to see if there are different setting based on the string columns, drop duplicates \n",
    "\n",
    "- only one should remain"
   ]
  },
  {
   "cell_type": "code",
   "execution_count": null,
   "metadata": {},
   "outputs": [],
   "source": [
    "df_mqpar.select_dtypes('string').drop('numThreads', axis=1).drop_duplicates()"
   ]
  },
  {
   "cell_type": "markdown",
   "metadata": {
    "Collapsed": "false"
   },
   "source": [
    "## Peptides\n",
    "\n",
    "- peptides combined (combining different charged states): `peptides`\n",
    "- single peptides (with differing charges): `evidence`"
   ]
  },
  {
   "cell_type": "code",
   "execution_count": null,
   "metadata": {
    "Collapsed": "false"
   },
   "outputs": [],
   "source": [
    "pd.set_option('max_columns', 60)\n",
    "\n",
    "# mq_output = MaxQuantOutputDynamic(\n",
    "#     folder=folders[random.randint(0, len(paths_peptides.files)-1)])\n",
    "mq_output.peptides"
   ]
  },
  {
   "cell_type": "code",
   "execution_count": null,
   "metadata": {},
   "outputs": [],
   "source": [
    "mq_output.evidence"
   ]
  },
  {
   "cell_type": "code",
   "execution_count": null,
   "metadata": {},
   "outputs": [],
   "source": [
    "mq_output.peptides.Intensity # as is in peptides.txt, comma seperated thousands"
   ]
  },
  {
   "cell_type": "markdown",
   "metadata": {
    "Collapsed": "false"
   },
   "source": [
    "### Create peptide intensity dumps for each MQ outputfolder\n",
    "\n",
    "- idea was: dump peptides found for each (unique) gene\n",
    "    - creates a `json` file for each gene with the gene contained\n",
    "\n",
    "- decision: discard\n",
    "    - rather dump peptide information per sample. Mapping of peptides to gene can be done\n",
    "      using the fasta file on the pytorch level."
   ]
  },
  {
   "cell_type": "code",
   "execution_count": null,
   "metadata": {},
   "outputs": [],
   "source": [
    "# folders[:10]"
   ]
  },
  {
   "cell_type": "markdown",
   "metadata": {},
   "source": [
    "Check if the output folder contains already parsed files"
   ]
  },
  {
   "cell_type": "code",
   "execution_count": null,
   "metadata": {},
   "outputs": [],
   "source": [
    "# import json\n",
    "\n",
    "# with open(src.config.FN_FASTA_DB) as f:\n",
    "#     data_fasta = json.load(f)\n",
    "# print(f'Number of proteins in fasta file DB: {len(data_fasta)}')"
   ]
  },
  {
   "cell_type": "code",
   "execution_count": null,
   "metadata": {},
   "outputs": [],
   "source": [
    "# %%time\n",
    "# FOLDER_PEP_PER_GENE = Path(FOLDER_PROCESSED) / 'agg_peptides_per_gene'\n",
    "# FOLDER_PEP_PER_GENE.mkdir(parents=True, exist_ok=True)\n",
    "# set_previously_loaded =  {folder.name for folder in FOLDER_PEP_PER_GENE.iterdir()}\n",
    "\n",
    "# FORCE = True\n",
    "\n",
    "# for folder in folders:\n",
    "#     if folder.name in set_previously_loaded and not FORCE and (folder / '0_completness_all_genes.json').exists():\n",
    "#         pass\n",
    "#     else:\n",
    "#         logger.info(f'\\n\\nProcess: {folder.name}')\n",
    "#         mq_output = MaxQuantOutputDynamic(folder)\n",
    "#         peptide_extractor = ExtractFromPeptidesTxt(\n",
    "#             out_folder=FOLDER_PEP_PER_GENE, mq_output_object=mq_output, fasta_db=data_fasta)\n",
    "#         completeness_per_gene = peptide_extractor()\n"
   ]
  },
  {
   "cell_type": "markdown",
   "metadata": {
    "Collapsed": "false"
   },
   "source": [
    "## Theoretial Peptides from used fasta-file\n",
    "\n",
    "> `01_explore_FASTA.ipynb` (formely `misc_FASTA_tryptic_digest.ipynb`)\n",
    "\n",
    "- check if peptides are part of theoretical peptides"
   ]
  },
  {
   "cell_type": "code",
   "execution_count": null,
   "metadata": {
    "Collapsed": "false"
   },
   "outputs": [],
   "source": []
  }
 ],
 "metadata": {
  "file_extension": ".py",
  "kernelspec": {
   "display_name": "Python 3 (ipykernel)",
   "language": "python",
   "name": "python3"
  },
  "language_info": {
   "codemirror_mode": {
    "name": "ipython",
    "version": 3
   },
   "file_extension": ".py",
   "mimetype": "text/x-python",
   "name": "python",
   "nbconvert_exporter": "python",
   "pygments_lexer": "ipython3",
   "version": "3.8.15"
  },
  "mimetype": "text/x-python",
  "name": "python",
  "npconvert_exporter": "python",
  "pygments_lexer": "ipython3",
  "toc-autonumbering": true,
  "version": 3,
  "vscode": {
   "interpreter": {
    "hash": "79d0f0394ff693752da6f78eb84feea9ce495e5d1d56e189f7fad91f86783599"
   }
  }
 },
 "nbformat": 4,
 "nbformat_minor": 4
}
