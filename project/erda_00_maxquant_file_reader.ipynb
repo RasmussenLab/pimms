{
 "cells": [
  {
   "cell_type": "markdown",
   "metadata": {
    "Collapsed": "false"
   },
   "source": [
    "# MaxQuant (MQ) Output-Files\n",
    "\n",
    "Compare a single experiment\n",
    "\n",
    "Files compared:\n",
    "1. `Summary.txt`\n",
    "2. `mqpar.xml`\n",
    "3. `peptides.txt`\n",
    "4. `proteins.txt`\n",
    "\n",
    "There is are many files more, where several files seem to be available in several times in different formats."
   ]
  },
  {
   "cell_type": "code",
   "execution_count": null,
   "metadata": {},
   "outputs": [],
   "source": [
    "folders = [folder for folder in  Path(FOLDER_MQ_TXT_DATA).iterdir()]"
   ]
  },
  {
   "cell_type": "code",
   "execution_count": null,
   "metadata": {},
   "outputs": [],
   "source": [
    "folders_dict = {folder.name: folder for folder in sorted(folders)}\n",
    "assert len(folders_dict) == len(folders), \"Non unique file names\""
   ]
  },
  {
   "cell_type": "code",
   "execution_count": null,
   "metadata": {
    "Collapsed": "false"
   },
   "outputs": [],
   "source": [
    "# w_file = widgets.Dropdown(options=[folder for folder in folders], description='View files')\n",
    "w_file = widgets.Dropdown(options=folders_dict, description='View files')\n",
    "w_file"
   ]
  },
  {
   "cell_type": "code",
   "execution_count": null,
   "metadata": {},
   "outputs": [],
   "source": [
    "mq_output = MaxQuantOutputDynamic(w_file.value)\n",
    "mq_output"
   ]
  },
  {
   "cell_type": "markdown",
   "metadata": {},
   "source": [
    "Results will be saved in a subfolder under `vaep/project/data` using the name of the specified input-folder per default. Change to your liking:"
   ]
  },
  {
   "cell_type": "markdown",
   "metadata": {},
   "source": [
    "> Go to the block you are interested in!"
   ]
  },
  {
   "cell_type": "markdown",
   "metadata": {
    "Collapsed": "false"
   },
   "source": [
    "## MQ Summary files"
   ]
  },
  {
   "cell_type": "code",
   "execution_count": null,
   "metadata": {},
   "outputs": [],
   "source": [
    "mq_output.summary.iloc[0].to_dict()"
   ]
  },
  {
   "cell_type": "markdown",
   "metadata": {
    "Collapsed": "false"
   },
   "source": [
    "### File Handler\n",
    "\n",
    "- dictionary of run name to run output folder\n",
    "- find class with expected output folders"
   ]
  },
  {
   "cell_type": "code",
   "execution_count": null,
   "metadata": {
    "Collapsed": "false"
   },
   "outputs": [],
   "source": [
    "# load_summary??"
   ]
  },
  {
   "cell_type": "markdown",
   "metadata": {
    "Collapsed": "false"
   },
   "source": [
    "### Summaries\n",
    "\n",
    "- aggregated in `vaep/project/erda_01_mq_aggregate_summaries.ipynb` \n",
    "    - file selection based on summaries for further analysis thereafter"
   ]
  },
  {
   "cell_type": "code",
   "execution_count": null,
   "metadata": {},
   "outputs": [],
   "source": [
    "# paths_summaries = [str(folder / 'summary.txt') for folder in folders_dict.values()]"
   ]
  },
  {
   "cell_type": "code",
   "execution_count": null,
   "metadata": {
    "Collapsed": "false"
   },
   "outputs": [],
   "source": [
    "# # if paths_summaries.files:\n",
    "# if folders_dict:\n",
    "# #     df, names, failed = process_files(handler_fct=load_summary, filepaths=paths_summaries.files, key=FOLDER_KEY, relative_to='paths_summaries.folder')\n",
    "#     df, names, failed = process_files(handler_fct=load_summary, filepaths=paths_summaries, key=FOLDER_KEY, relative_to=None)\n",
    "#     df.columns = names\n",
    "#     print(f\"Number of failed reads: {len(failed)}\")\n",
    "#     display(df)"
   ]
  },
  {
   "cell_type": "code",
   "execution_count": null,
   "metadata": {},
   "outputs": [],
   "source": [
    "# # if paths_summaries.files:\n",
    "# if paths_summaries:\n",
    "#     df.to_csv(os.path.join(FOLDER_PROCESSED, 'all_summary_txt.csv'))\n",
    "#     df.to_pickle(os.path.join(FOLDER_PROCESSED, 'all_summary_txt.pkl'))"
   ]
  },
  {
   "cell_type": "markdown",
   "metadata": {},
   "source": [
    "- SIL - MS2 based on precursor which was a set of peaks\n",
    "- PEAK - MS2 scan based on a single peak on precursor spectrum\n",
    "- ISO - isotopic pattern detection\n"
   ]
  },
  {
   "cell_type": "code",
   "execution_count": null,
   "metadata": {},
   "outputs": [],
   "source": [
    "# # if paths_summaries.files:\n",
    "# if paths_summaries:\n",
    "#     MS_spectra = df.loc[['MS', 'MS/MS Identified']].T.astype('int64')\n",
    "#     mask  = MS_spectra['MS/MS Identified'] > 0\n",
    "#     display(MS_spectra.loc[mask].describe())\n",
    "#     MS_spectra.to_csv(os.path.join(FOLDER_PROCESSED, 'overview_stats.csv'))"
   ]
  },
  {
   "cell_type": "markdown",
   "metadata": {
    "Collapsed": "false"
   },
   "source": [
    "## MaxQuant Parameter File\n",
    "\n",
    "- partly in a separate subfolder\n",
    "- mainly in run folders\n",
    "- rebase on folders_dictionary (check for `.xml` files in all folders)"
   ]
  },
  {
   "cell_type": "code",
   "execution_count": null,
   "metadata": {},
   "outputs": [],
   "source": [
    "mqpar_files = (Path(FOLDER_MQ_TXT_DATA) / 'mqpar_files')\n",
    "\n",
    "mqpar_files  = list(mqpar_files.iterdir())\n",
    "len(mqpar_files) # nested search needed"
   ]
  },
  {
   "cell_type": "code",
   "execution_count": null,
   "metadata": {
    "Collapsed": "false"
   },
   "outputs": [],
   "source": [
    "# paths_parameters = PathsList(files=[file for file in all_files.files if '.xml' in file], folder=all_files.folder)\n",
    "w_file = widgets.Dropdown(options=mqpar_files, description='Select a file')\n",
    "w_file"
   ]
  },
  {
   "cell_type": "markdown",
   "metadata": {
    "Collapsed": "false"
   },
   "source": [
    "### Parameter Files"
   ]
  },
  {
   "cell_type": "code",
   "execution_count": null,
   "metadata": {
    "Collapsed": "false"
   },
   "outputs": [],
   "source": [
    "load_mqpar_xml??"
   ]
  },
  {
   "cell_type": "code",
   "execution_count": null,
   "metadata": {
    "Collapsed": "false"
   },
   "outputs": [],
   "source": [
    "fname_mqpar_xml = os.path.join(FOLDER_PROCESSED, 'peptide_intensities.{}')\n",
    "\n",
    "if mqpar_files:\n",
    "    mqpar_files  = [str(file) for file in mqpar_files]\n",
    "    df_mqpar, col_names, failed = process_files(handler_fct=load_mqpar_xml, filepaths=mqpar_files, key=FOLDER_KEY, relative_to=None) \n",
    "    df_mqpar.columns = col_names\n",
    "    print(f\"Number of failed reads: {len(failed)}\")\n",
    "    pd.set_option('max_rows', 160)\n",
    "    display(df_mqpar)\n",
    "    df_mqpar.to_pickle(fname_mqpar_xml.format(\"pkl\"))"
   ]
  },
  {
   "cell_type": "code",
   "execution_count": null,
   "metadata": {},
   "outputs": [],
   "source": [
    "# df_mqpar.T.convert_dtypes().dtypes\n"
   ]
  },
  {
   "cell_type": "markdown",
   "metadata": {
    "Collapsed": "false"
   },
   "source": [
    "## Peptides"
   ]
  },
  {
   "cell_type": "code",
   "execution_count": null,
   "metadata": {
    "Collapsed": "false"
   },
   "outputs": [],
   "source": [
    "paths_peptides = PathsList(files = [file for file in all_files.files if 'peptides.txt' in file], folder=all_files.folder)\n",
    "# paths_peptides"
   ]
  },
  {
   "cell_type": "code",
   "execution_count": null,
   "metadata": {
    "Collapsed": "false"
   },
   "outputs": [],
   "source": [
    "pd.set_option('max_columns', 60)\n",
    "\n",
    "mq_output = MaxQuantOutputDynamic(\n",
    "    folder=folders[random.randint(0, len(paths_peptides.files)-1)])\n",
    "mq_output.peptides"
   ]
  },
  {
   "cell_type": "code",
   "execution_count": null,
   "metadata": {},
   "outputs": [],
   "source": [
    "mq_output.peptides.Intensity # as is in peptides.txt, comma seperated thousands"
   ]
  },
  {
   "cell_type": "markdown",
   "metadata": {
    "Collapsed": "false"
   },
   "source": [
    "### Create peptide intensity dumps for each MQ outputfolder\n",
    "\n",
    "All folders are stored in a list"
   ]
  },
  {
   "cell_type": "code",
   "execution_count": null,
   "metadata": {},
   "outputs": [],
   "source": [
    "# folders[:10]"
   ]
  },
  {
   "cell_type": "markdown",
   "metadata": {},
   "source": [
    "Check if the output folder contains already parsed files"
   ]
  },
  {
   "cell_type": "code",
   "execution_count": null,
   "metadata": {},
   "outputs": [],
   "source": [
    "import json\n",
    "\n",
    "import config\n",
    "\n",
    "with open(config.FN_FASTA_DB) as f:\n",
    "    data_fasta = json.load(f)\n",
    "print(f'Number of proteins in fasta file DB: {len(data_fasta)}')"
   ]
  },
  {
   "cell_type": "code",
   "execution_count": null,
   "metadata": {},
   "outputs": [],
   "source": [
    "# 20170509_QE4_LC12_IAH_QC_MNT_HeLa_01 # trigger re-execution\n",
    "# 20130408_QE6_LC5_KBS_MNT_QC_HeLa_02  # reversed protein leading razor protein"
   ]
  },
  {
   "cell_type": "code",
   "execution_count": null,
   "metadata": {},
   "outputs": [],
   "source": [
    "%%time\n",
    "FOLDER_PROCESSED = Path(FOLDER_PROCESSED)\n",
    "set_previously_loaded =  {folder.name for folder in FOLDER_PROCESSED.iterdir()}\n",
    "\n",
    "FORCE = True\n",
    "\n",
    "for folder in folders:\n",
    "    if folder.name in set_previously_loaded and not FORCE and (folder / '0_completness_all_genes.json').exists():\n",
    "        pass\n",
    "    else:\n",
    "        logger.info('\\n\\nProcess: {folder.name}')\n",
    "        print(f\"Process: {folder.name}\")\n",
    "        mq_output = MaxQuantOutputDynamic(folder)\n",
    "        peptide_extractor = ExtractFromPeptidesTxt(\n",
    "            out_folder=FOLDER_PROCESSED, mq_output_object=mq_output, fasta_db=data_fasta)\n",
    "        completeness_per_gene = peptide_extractor()"
   ]
  },
  {
   "cell_type": "code",
   "execution_count": null,
   "metadata": {},
   "outputs": [],
   "source": [
    "# %debug"
   ]
  },
  {
   "cell_type": "markdown",
   "metadata": {
    "Collapsed": "false"
   },
   "source": [
    "## Theoretial Peptides from used fasta-file\n",
    "\n",
    "> `01_explore_FASTA.ipynb` (formely `01_FASTA_tryptic_digest.ipynb`)\n",
    "\n",
    "- check if peptides are part of theoretical peptides"
   ]
  },
  {
   "cell_type": "code",
   "execution_count": null,
   "metadata": {
    "Collapsed": "false"
   },
   "outputs": [],
   "source": []
  }
 ],
 "metadata": {
  "file_extension": ".py",
  "kernelspec": {
   "display_name": "Python 3",
   "language": "python",
   "name": "python3"
  },
  "language_info": {
   "codemirror_mode": {
    "name": "ipython",
    "version": 3
   },
   "file_extension": ".py",
   "mimetype": "text/x-python",
   "name": "python",
   "nbconvert_exporter": "python",
   "pygments_lexer": "ipython3",
   "version": "3.8.8"
  },
  "mimetype": "text/x-python",
  "name": "python",
  "npconvert_exporter": "python",
  "pygments_lexer": "ipython3",
  "toc-autonumbering": true,
  "version": 3
 },
 "nbformat": 4,
 "nbformat_minor": 4
}
