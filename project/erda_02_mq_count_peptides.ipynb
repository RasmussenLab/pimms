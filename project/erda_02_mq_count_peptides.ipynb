{
 "cells": [
  {
   "cell_type": "markdown",
   "metadata": {},
   "source": [
    "# Count peptides over all files"
   ]
  },
  {
   "cell_type": "code",
   "execution_count": null,
   "metadata": {},
   "outputs": [],
   "source": [
    "import os\n",
    "import sys\n",
    "import logging\n",
    "from pathlib import Path\n",
    "import random\n",
    "\n",
    "import pandas as pd\n",
    "import ipywidgets as widgets\n",
    "\n",
    "sys.path.append('/home/jovyan/work/vaep/')\n",
    "from vaep.io.mq import MaxQuantOutputDynamic\n",
    "\n",
    "from src.logging import setup_logger_w_file\n",
    "from src.data_objects import MqAllSummaries\n",
    "from src.data_objects import PeptideCounter\n",
    "\n",
    "##################\n",
    "##### CONFIG #####\n",
    "##################\n",
    "from src.config import FOLDER_MQ_TXT_DATA, FOLDER_PROCESSED\n",
    "\n",
    "from src.config import FOLDER_DATA # project folder for storing the data\n",
    "print(f\"Search Raw-Files on path: {FOLDER_MQ_TXT_DATA}\")\n",
    "\n",
    "##################\n",
    "### Logging ######\n",
    "##################\n",
    "\n",
    "#Delete Jupyter notebook root logger handler\n",
    "root_logger = logging.getLogger()\n",
    "root_logger.handlers = []\n",
    "\n",
    "logger = logging.getLogger('vaep')\n",
    "logger = setup_logger_w_file(logger, fname_base='log_00_mq_count_peptides')\n",
    "\n",
    "logger.info('Start with handlers: \\n' + \"\\n\".join(f\"- {repr(log_)}\" for log_ in logger.handlers))\n",
    "\n",
    "# folders = [folder for folder in  Path(FOLDER_MQ_TXT_DATA).iterdir()]\n",
    "# w_file = widgets.Dropdown(options=[folder for folder in folders], description='View files')\n",
    "# w_file"
   ]
  },
  {
   "cell_type": "markdown",
   "metadata": {},
   "source": [
    "Use samples previously loaded."
   ]
  },
  {
   "cell_type": "code",
   "execution_count": null,
   "metadata": {},
   "outputs": [],
   "source": [
    "mq_all_summaries = MqAllSummaries()\n",
    "threshold_ms2_identified = 15_000\n",
    "folders = mq_all_summaries.get_files_w_min_MS2(threshold=threshold_ms2_identified)\n",
    "folders[:10]"
   ]
  },
  {
   "cell_type": "markdown",
   "metadata": {},
   "source": [
    "## Random example"
   ]
  },
  {
   "cell_type": "code",
   "execution_count": null,
   "metadata": {},
   "outputs": [],
   "source": [
    "import random\n",
    "pd.set_option('max_columns', 60)\n",
    "random_folder = folders[random.randint(0, len(folders)-1)]\n",
    "mq_output = MaxQuantOutputDynamic(random_folder)\n",
    "print(f\"peptides.txt from {random_folder!s}\")\n",
    "mq_output.peptides"
   ]
  },
  {
   "cell_type": "code",
   "execution_count": null,
   "metadata": {},
   "outputs": [],
   "source": [
    "use_columns = mq_output.peptides.columns[33:45]\n",
    "df = mq_output.peptides[use_columns].convert_dtypes() #.to_json('test.json')\n",
    "df"
   ]
  },
  {
   "cell_type": "code",
   "execution_count": null,
   "metadata": {},
   "outputs": [],
   "source": [
    "df_json_string = df.to_json(orient='index', indent=4)\n",
    "df_json_string[:1000]"
   ]
  },
  {
   "cell_type": "code",
   "execution_count": null,
   "metadata": {},
   "outputs": [],
   "source": [
    "df_csv = df.to_csv()\n",
    "df_csv[:1000]"
   ]
  },
  {
   "cell_type": "code",
   "execution_count": null,
   "metadata": {},
   "outputs": [],
   "source": [
    "pd.read_json(df_json_string, orient='index')"
   ]
  },
  {
   "cell_type": "code",
   "execution_count": null,
   "metadata": {},
   "outputs": [],
   "source": [
    "mq_output.peptides.Intensity # as is in peptides.txt, comma seperated thousands"
   ]
  },
  {
   "cell_type": "markdown",
   "metadata": {},
   "source": [
    "## Count peptides"
   ]
  },
  {
   "cell_type": "code",
   "execution_count": null,
   "metadata": {},
   "outputs": [],
   "source": [
    "peptide_counter = PeptideCounter()\n",
    "peptide_counter"
   ]
  },
  {
   "cell_type": "code",
   "execution_count": null,
   "metadata": {},
   "outputs": [],
   "source": [
    "try:\n",
    "    print(peptide_counter.counter.most_common(10),\n",
    "          len(peptide_counter.loaded),\n",
    "          sep='\\n')\n",
    "except AttributeError:\n",
    "    print('New file created.')"
   ]
  },
  {
   "cell_type": "code",
   "execution_count": null,
   "metadata": {},
   "outputs": [],
   "source": [
    "%%time\n",
    "c = peptide_counter.sum_over_files(folders=folders)"
   ]
  },
  {
   "cell_type": "code",
   "execution_count": null,
   "metadata": {},
   "outputs": [],
   "source": [
    "c.most_common(10) # peptide_counter.counter.most_common(10)"
   ]
  },
  {
   "cell_type": "code",
   "execution_count": null,
   "metadata": {},
   "outputs": [],
   "source": [
    "# To share as python file\n",
    "N = 1000\n",
    "with open(f'most_common_{10}_peptides.py', 'w') as f:\n",
    "    f.write('import pandas as pd\\n\\n')\n",
    "    \n",
    "    #pprint.pformat list -> do this using standardlibrary\n",
    "    # https://docs.python.org/3/library/pprint.html\n",
    "    f.write(f\"most_common = [\\n  \")\n",
    "    f.write(',\\n  '.join(f\"{str(t)}\" for t in c.most_common(N)))\n",
    "    f.write(\"\\n]\\n\\n\")\n",
    "    \n",
    "    #peptide_counter.loaded()\n",
    "    \n",
    "    f.write(\"pd.DataFrame.from_records(most_common, index='Sequence', columns=['Sequence', 'counts'])\\n\")"
   ]
  },
  {
   "cell_type": "markdown",
   "metadata": {},
   "source": [
    "Define missing pattern based on most abundant peptides (hope is to have only few cases in pattern)"
   ]
  },
  {
   "cell_type": "markdown",
   "metadata": {
    "Collapsed": "false"
   },
   "source": [
    "## Create peptide intensity dumps for each MQ outputfolder\n",
    "\n",
    "All folders are stored in a list"
   ]
  },
  {
   "cell_type": "markdown",
   "metadata": {},
   "source": [
    "Check if the output folder contains already parsed files\n",
    "\n",
    "maybe this should"
   ]
  },
  {
   "cell_type": "code",
   "execution_count": null,
   "metadata": {},
   "outputs": [],
   "source": [
    "# import json\n",
    "\n",
    "# import src.config\n",
    "\n",
    "# with open(src.config.FN_FASTA_DB) as f:\n",
    "#     data_fasta = json.load(f)\n",
    "# print(f'Number of proteins in fasta file DB: {len(data_fasta)}')"
   ]
  },
  {
   "cell_type": "markdown",
   "metadata": {},
   "source": [
    "Some files to investigate in more detail\n",
    "\n",
    "```\n",
    "20130408_QE6_LC5_KBS_MNT_QC_HeLa_02  # reversed protein leading razor protein\n",
    "``` "
   ]
  },
  {
   "cell_type": "code",
   "execution_count": null,
   "metadata": {},
   "outputs": [],
   "source": [
    "# %%time\n",
    "# FOLDER_PROCESSED = Path(FOLDER_PROCESSED)\n",
    "# set_previously_loaded =  {folder.name for folder in FOLDER_PROCESSED.iterdir()}\n",
    "\n",
    "# FORCE = True\n",
    "\n",
    "# for folder in folders:\n",
    "#     if folder.name in set_previously_loaded and not FORCE and (folder / '0_completness_all_genes.json').exists():\n",
    "#         pass\n",
    "#     else:\n",
    "#         logger.info('\\n\\nProcess: {folder.name}')\n",
    "#         print(f\"Process: {folder.name}\")\n",
    "#         mq_output = MaxQuantOutputDynamic(folder)\n",
    "#         peptide_extractor = ExtractFromPeptidesTxt(\n",
    "#             out_folder=FOLDER_PROCESSED, mq_output_object=mq_output, fasta_db=data_fasta)\n",
    "#         completeness_per_gene = peptide_extractor()"
   ]
  },
  {
   "cell_type": "code",
   "execution_count": null,
   "metadata": {},
   "outputs": [],
   "source": [
    "def load_peptides(folders):\n",
    "        #logger.info(f'\\n\\nProcess: {folder.name}')\n",
    "        #print(f\"Process: {folder.name}\")\n",
    "        peptides = pd.read_table(folder / 'peptides.txt' , usecols=[mq.mq_col.SEQUENCE, mq.mq_col.INTENSITY, \"Potential contaminant\"], index_col=0)\n",
    "        mask = (peptides[mq.mq_col.INTENSITY] == 0) | (peptides[\"Potential contaminant\"] == '+')\n",
    "        return {folder.stem: peptides.loc[~mask, mq.mq_col.INTENSITY].to_dict()}"
   ]
  },
  {
   "cell_type": "markdown",
   "metadata": {
    "Collapsed": "false"
   },
   "source": [
    "## Theoretial Peptides from used fasta-file\n",
    "\n",
    "> `01_explore_FASTA.ipynb` (formely `01_FASTA_tryptic_digest.ipynb`)"
   ]
  },
  {
   "cell_type": "code",
   "execution_count": null,
   "metadata": {
    "Collapsed": "false"
   },
   "outputs": [],
   "source": []
  }
 ],
 "metadata": {
  "kernelspec": {
   "display_name": "Python 3",
   "language": "python",
   "name": "python3"
  },
  "language_info": {
   "codemirror_mode": {
    "name": "ipython",
    "version": 3
   },
   "file_extension": ".py",
   "mimetype": "text/x-python",
   "name": "python",
   "nbconvert_exporter": "python",
   "pygments_lexer": "ipython3",
   "version": "3.8.8"
  }
 },
 "nbformat": 4,
 "nbformat_minor": 4
}
