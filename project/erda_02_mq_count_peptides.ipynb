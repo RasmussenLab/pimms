{
 "cells": [
  {
   "cell_type": "markdown",
   "metadata": {},
   "source": [
    "# Count peptides over all files"
   ]
  },
  {
   "cell_type": "code",
   "execution_count": null,
   "metadata": {},
   "outputs": [],
   "source": [
    "import os\n",
    "import sys\n",
    "import logging\n",
    "from pathlib import Path\n",
    "import random\n",
    "import yaml\n",
    "\n",
    "import pandas as pd\n",
    "import ipywidgets as widgets\n",
    "\n",
    "### Logging setup ######\n",
    "from vaep.logging import setup_nb_logger\n",
    "setup_nb_logger()\n",
    "\n",
    "### vaep imports ######\n",
    "from vaep.io.mq import MaxQuantOutputDynamic\n",
    "from vaep.io.data_objects import MqAllSummaries\n",
    "from vaep.io.data_objects import PeptideCounter\n",
    "import vaep.pandas\n",
    "\n",
    "##################\n",
    "##### CONFIG #####\n",
    "##################\n",
    "from src.config import FOLDER_MQ_TXT_DATA, FOLDER_PROCESSED\n",
    "\n",
    "from src.config import FOLDER_DATA # project folder for storing the data\n",
    "logging.info(f\"Search Raw-Files on path: {FOLDER_MQ_TXT_DATA}\")"
   ]
  },
  {
   "cell_type": "markdown",
   "metadata": {},
   "source": [
    "Use samples previously loaded."
   ]
  },
  {
   "cell_type": "code",
   "execution_count": null,
   "metadata": {},
   "outputs": [],
   "source": [
    "ELIGABLE_FILES_YAML = Path('config/eligable_files.yaml')\n",
    "MAP_FOLDER_PATH = Path('config/file_paths')\n",
    "\n",
    "with open(ELIGABLE_FILES_YAML) as f:\n",
    "    files = yaml.safe_load(f)['files']\n",
    "with open(MAP_FOLDER_PATH) as f:\n",
    "    folders_dict = yaml.safe_load(f)\n"
   ]
  },
  {
   "cell_type": "markdown",
   "metadata": {},
   "source": [
    "## Random example"
   ]
  },
  {
   "cell_type": "code",
   "execution_count": null,
   "metadata": {},
   "outputs": [],
   "source": [
    "import random\n",
    "pd.set_option('max_columns', 60)\n",
    "random_folder, random_path = random.sample(folders_dict.items(), 1)[0]\n",
    "mq_output = MaxQuantOutputDynamic(random_path)\n",
    "print(f\"peptides.txt from {random_folder!s}\")\n",
    "mq_output.peptides"
   ]
  },
  {
   "cell_type": "code",
   "execution_count": null,
   "metadata": {},
   "outputs": [],
   "source": [
    "use_columns = mq_output.peptides.columns[33:45]\n",
    "df = mq_output.peptides[use_columns].convert_dtypes() #.to_json('test.json')\n",
    "df"
   ]
  },
  {
   "cell_type": "code",
   "execution_count": null,
   "metadata": {},
   "outputs": [],
   "source": [
    "df_json_string = df.to_json(orient='index', indent=4)\n",
    "df_json_string[:1000]"
   ]
  },
  {
   "cell_type": "code",
   "execution_count": null,
   "metadata": {},
   "outputs": [],
   "source": [
    "df_csv = df.to_csv()\n",
    "df_csv[:1000]"
   ]
  },
  {
   "cell_type": "code",
   "execution_count": null,
   "metadata": {},
   "outputs": [],
   "source": [
    "pd.read_json(df_json_string, orient='index')"
   ]
  },
  {
   "cell_type": "code",
   "execution_count": null,
   "metadata": {},
   "outputs": [],
   "source": [
    "mq_output.peptides.Intensity # as is in peptides.txt, comma seperated thousands"
   ]
  },
  {
   "cell_type": "markdown",
   "metadata": {},
   "source": [
    "## Count aggregated peptides"
   ]
  },
  {
   "cell_type": "code",
   "execution_count": null,
   "metadata": {},
   "outputs": [],
   "source": [
    "peptide_counter = PeptideCounter('data/processed/count_all_peptides.json')\n",
    "peptide_counter"
   ]
  },
  {
   "cell_type": "code",
   "execution_count": null,
   "metadata": {},
   "outputs": [],
   "source": [
    "try:\n",
    "    print(peptide_counter.counter.most_common(10),\n",
    "          len(peptide_counter.loaded),\n",
    "          sep='\\n')\n",
    "except AttributeError:\n",
    "    print('New file created.')"
   ]
  },
  {
   "cell_type": "markdown",
   "metadata": {},
   "source": [
    "- creates peptide intensity dumps for each MQ outputfolder per default `count_peptides` function (default processing function for `PeptideCounter`)"
   ]
  },
  {
   "cell_type": "code",
   "execution_count": null,
   "metadata": {},
   "outputs": [],
   "source": [
    "%%time\n",
    "folders = [Path(folder_path) for folder_path in folders_dict.values()]\n",
    "c = peptide_counter.sum_over_files(folders=folders)"
   ]
  },
  {
   "cell_type": "code",
   "execution_count": null,
   "metadata": {},
   "outputs": [],
   "source": [
    "c.most_common(10) # peptide_counter.counter.most_common(10)"
   ]
  },
  {
   "cell_type": "code",
   "execution_count": null,
   "metadata": {},
   "outputs": [],
   "source": [
    "# To share as python file\n",
    "N = 1000\n",
    "with open(FOLDER_PROCESSED / f'most_common_{10}_peptides.py', 'w') as f:\n",
    "    f.write('import pandas as pd\\n\\n')\n",
    "    \n",
    "    #pprint.pformat list -> do this using standardlibrary\n",
    "    # https://docs.python.org/3/library/pprint.html\n",
    "    f.write(f\"most_common = [\\n  \")\n",
    "    f.write(',\\n  '.join(f\"{str(t)}\" for t in c.most_common(N)))\n",
    "    f.write(\"\\n]\\n\\n\")\n",
    "    \n",
    "    #peptide_counter.loaded()\n",
    "    \n",
    "    f.write(\"pd.DataFrame.from_records(most_common, index='Sequence', columns=['Sequence', 'counts'])\\n\")"
   ]
  },
  {
   "cell_type": "markdown",
   "metadata": {
    "Collapsed": "false"
   },
   "source": [
    "## Peptides by charge\n",
    "\n",
    "- count peptides by charge state (which are aggregated in `peptides.txt`)"
   ]
  },
  {
   "cell_type": "code",
   "execution_count": null,
   "metadata": {},
   "outputs": [],
   "source": [
    "evidence_cols = vaep.pandas.get_colums_accessor(mq_output.evidence.reset_index())\n",
    "evidence_cols # vaep.mq get this list"
   ]
  },
  {
   "cell_type": "code",
   "execution_count": null,
   "metadata": {},
   "outputs": [],
   "source": [
    "evidence = mq_output.evidence.set_index(evidence_cols.Charge, append=True)\n",
    "evidence"
   ]
  },
  {
   "cell_type": "code",
   "execution_count": null,
   "metadata": {},
   "outputs": [],
   "source": [
    "vaep.pandas.prop_unique_index(evidence)"
   ]
  },
  {
   "cell_type": "markdown",
   "metadata": {},
   "source": [
    "Using the protein AA sequence and it's charge as identifiers, does not yield a unique index.\n",
    "\n",
    "First potential contaminants and peptides with zero intensity (or missing intensity) can be removed from the table.\n",
    "\n",
    "These are apparently peptides identified by an MS2 spectrum but which could not be quantified by a MS1 scans"
   ]
  },
  {
   "cell_type": "code",
   "execution_count": null,
   "metadata": {},
   "outputs": [],
   "source": [
    "mask =  evidence[evidence_cols.Intensity].isna()\n",
    "evidence.loc[mask, evidence_cols.Type].value_counts()"
   ]
  },
  {
   "cell_type": "code",
   "execution_count": null,
   "metadata": {},
   "outputs": [],
   "source": [
    "def select_evidence(df_evidence):\n",
    "    mask = (df_evidence[evidence_cols.Potential_contaminant] == '+') | (df_evidence[evidence_cols.Intensity] == 0)\n",
    "    evidence = df_evidence.loc[~mask].drop(evidence_cols.Potential_contaminant, axis=1)\n",
    "    evidence = evidence.dropna(subset=[evidence_cols.Intensity])\n",
    "    return evidence\n",
    "\n",
    "use_cols = [evidence_cols.mz, evidence_cols.Protein_group_IDs, evidence_cols.Intensity, evidence_cols.Score, evidence_cols.Potential_contaminant]\n",
    "evidence_selected = select_evidence(evidence[use_cols])\n",
    "evidence_selected"
   ]
  },
  {
   "cell_type": "code",
   "execution_count": null,
   "metadata": {},
   "outputs": [],
   "source": [
    "evidence_selected = evidence_selected.sort_values(by=['Sequence', 'Charge', 'Score'], ascending=False)\n",
    "evidence_selected"
   ]
  },
  {
   "cell_type": "code",
   "execution_count": null,
   "metadata": {},
   "outputs": [],
   "source": [
    "evidence_selected = vaep.pandas.select_max_by(evidence_selected.reset_index(), [evidence_cols.Sequence, evidence_cols.Charge], evidence_cols.Score)\n",
    "evidence_selected"
   ]
  },
  {
   "cell_type": "code",
   "execution_count": null,
   "metadata": {},
   "outputs": [],
   "source": [
    "from collections import Counter\n",
    "c = Counter()\n",
    "c.update(evidence.index)\n",
    "c.most_common(10)"
   ]
  },
  {
   "cell_type": "code",
   "execution_count": null,
   "metadata": {},
   "outputs": [],
   "source": [
    "example = evidence.loc[c.most_common(10)[0][0]]\n",
    "\n",
    "vaep.pandas.show_columns_with_variation(example)"
   ]
  },
  {
   "cell_type": "markdown",
   "metadata": {},
   "source": [
    "- `Type`: only `MULTI-MSMS` and `MULIT-SECPEP` are quantified (does this mean a matching MS1 spectrum?)"
   ]
  },
  {
   "cell_type": "code",
   "execution_count": null,
   "metadata": {},
   "outputs": [],
   "source": [
    "evidence[evidence_cols.Type].value_counts()"
   ]
  },
  {
   "cell_type": "markdown",
   "metadata": {},
   "source": [
    "Some peptides can be assigned to different protein group IDs (razor peptides)\n",
    " - option: discared non-unique peptides (and Protein group IDs can be already a combination of several isotopes)\n",
    " - option: select on `Score` or `Intensity` (is there a relationship?)\n",
    " - option: select based on `Number of isotopic peaks`"
   ]
  },
  {
   "cell_type": "code",
   "execution_count": null,
   "metadata": {},
   "outputs": [],
   "source": [
    "evidence[evidence_cols.Protein_group_IDs].value_counts()"
   ]
  },
  {
   "cell_type": "markdown",
   "metadata": {},
   "source": [
    "### Count peptides based on evidence files"
   ]
  },
  {
   "cell_type": "code",
   "execution_count": null,
   "metadata": {},
   "outputs": [],
   "source": [
    "from typing import List\n",
    "from tqdm.notebook import tqdm\n",
    "\n",
    "idx_columns_evidence = [evidence_cols.Sequence, evidence_cols.Charge]\n",
    "\n",
    "def create_parent_folder_name(folder):\n",
    "    return folder.stem[:4]\n",
    "\n",
    "def count_evidence(folders:List[Path],\n",
    "                   select_by:str='Score',\n",
    "                   dump=True,\n",
    "                   parent_folder_fct:callable=create_parent_folder_name,\n",
    "                   outfolder=FOLDER_PROCESSED / 'evidence_dumps'):\n",
    "    outfolder = Path(outfolder)\n",
    "    outfolder.mkdir(exist_ok=True, parents=True)\n",
    "    c = Counter()\n",
    "    for folder in tqdm(folders):\n",
    "        folder = Path(folder)\n",
    "        evidence = pd.read_table(folder / 'evidence.txt',\n",
    "                usecols=idx_columns_evidence + use_cols)\n",
    "        evidence = select_evidence(evidence)\n",
    "        evidence = vaep.pandas.select_max_by(evidence, index_columns=idx_columns_evidence, selection_column=select_by)\n",
    "        evidence = evidence.sort_index()\n",
    "        c.update(evidence.index)\n",
    "        if dump:\n",
    "            fname = f\"{folder.stem}.csv\"\n",
    "            if parent_folder_fct is not None:\n",
    "                parent_folder = outfolder / parent_folder_fct(folder)\n",
    "                parent_folder.mkdir(exist_ok=True)\n",
    "                fname = parent_folder / fname\n",
    "            else:\n",
    "                fname = outfolder / fname\n",
    "            logging.info(f\"Dump to file: {fname}\")\n",
    "            evidence.to_csv(fname)\n",
    "\n",
    "    return c\n",
    "\n",
    "counts_evidence = count_evidence(folders)\n",
    "counts_evidence.most_common(10)"
   ]
  },
  {
   "cell_type": "markdown",
   "metadata": {
    "Collapsed": "false"
   },
   "source": [
    "## Theoretial Peptides from used fasta-file\n",
    "\n",
    "> `01_explore_FASTA.ipynb` (formely `01_FASTA_tryptic_digest.ipynb`)"
   ]
  },
  {
   "cell_type": "markdown",
   "metadata": {},
   "source": []
  }
 ],
 "metadata": {
  "kernelspec": {
   "display_name": "Python 3",
   "language": "python",
   "name": "python3"
  },
  "language_info": {
   "codemirror_mode": {
    "name": "ipython",
    "version": 3
   },
   "file_extension": ".py",
   "mimetype": "text/x-python",
   "name": "python",
   "nbconvert_exporter": "python",
   "pygments_lexer": "ipython3",
   "version": "3.8.12"
  }
 },
 "nbformat": 4,
 "nbformat_minor": 4
}
