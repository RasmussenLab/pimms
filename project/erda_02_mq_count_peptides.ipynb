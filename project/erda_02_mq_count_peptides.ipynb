{
 "cells": [
  {
   "cell_type": "markdown",
   "metadata": {},
   "source": [
    "# Count peptides over all files"
   ]
  },
  {
   "cell_type": "code",
   "execution_count": null,
   "metadata": {},
   "outputs": [],
   "source": [
    "import os\n",
    "import sys\n",
    "import logging\n",
    "from pathlib import Path\n",
    "import random\n",
    "import yaml\n",
    "\n",
    "import pandas as pd\n",
    "import ipywidgets as widgets\n",
    "\n",
    "### Logging setup ######\n",
    "from vaep.logging import setup_nb_logger\n",
    "setup_nb_logger()\n",
    "\n",
    "### vaep imports ######\n",
    "from vaep.io.mq import MaxQuantOutputDynamic\n",
    "from vaep.io.data_objects import MqAllSummaries\n",
    "from vaep.io.data_objects import PeptideCounter\n",
    "import vaep.pandas\n",
    "\n",
    "##################\n",
    "##### CONFIG #####\n",
    "##################\n",
    "from src.config import FOLDER_MQ_TXT_DATA, FOLDER_PROCESSED\n",
    "\n",
    "from src.config import FOLDER_DATA # project folder for storing the data\n",
    "logging.info(f\"Search Raw-Files on path: {FOLDER_MQ_TXT_DATA}\")"
   ]
  },
  {
   "cell_type": "markdown",
   "metadata": {},
   "source": [
    "Use samples previously loaded."
   ]
  },
  {
   "cell_type": "code",
   "execution_count": null,
   "metadata": {},
   "outputs": [],
   "source": [
    "ELIGABLE_FILES_YAML = Path('config/eligable_files.yaml')\n",
    "MAP_FOLDER_PATH = Path('config/file_paths')\n",
    "\n",
    "with open(ELIGABLE_FILES_YAML) as f:\n",
    "    files = yaml.safe_load(f)['files']\n",
    "with open(MAP_FOLDER_PATH) as f:\n",
    "    folders_dict = yaml.safe_load(f)\n"
   ]
  },
  {
   "cell_type": "markdown",
   "metadata": {},
   "source": [
    "## Random example"
   ]
  },
  {
   "cell_type": "code",
   "execution_count": null,
   "metadata": {},
   "outputs": [],
   "source": [
    "import random\n",
    "pd.set_option('max_columns', 60)\n",
    "random_folder, random_path = random.sample(folders_dict.items(), 1)[0]\n",
    "mq_output = MaxQuantOutputDynamic(random_path)\n",
    "print(f\"peptides.txt from {random_folder!s}\")\n",
    "mq_output.peptides"
   ]
  },
  {
   "cell_type": "code",
   "execution_count": null,
   "metadata": {},
   "outputs": [],
   "source": [
    "use_columns = mq_output.peptides.columns[33:45]\n",
    "df = mq_output.peptides[use_columns].convert_dtypes() #.to_json('test.json')\n",
    "df"
   ]
  },
  {
   "cell_type": "code",
   "execution_count": null,
   "metadata": {},
   "outputs": [],
   "source": [
    "df_json_string = df.to_json(orient='index', indent=4)\n",
    "df_json_string[:1000]"
   ]
  },
  {
   "cell_type": "code",
   "execution_count": null,
   "metadata": {},
   "outputs": [],
   "source": [
    "df_csv = df.to_csv()\n",
    "df_csv[:1000]"
   ]
  },
  {
   "cell_type": "code",
   "execution_count": null,
   "metadata": {},
   "outputs": [],
   "source": [
    "pd.read_json(df_json_string, orient='index')"
   ]
  },
  {
   "cell_type": "code",
   "execution_count": null,
   "metadata": {},
   "outputs": [],
   "source": [
    "mq_output.peptides.Intensity # as is in peptides.txt, comma seperated thousands"
   ]
  },
  {
   "cell_type": "markdown",
   "metadata": {},
   "source": [
    "## Count aggregated peptides"
   ]
  },
  {
   "cell_type": "code",
   "execution_count": null,
   "metadata": {},
   "outputs": [],
   "source": [
    "peptide_counter = PeptideCounter('data/processed/count_all_peptides.json')\n",
    "peptide_counter"
   ]
  },
  {
   "cell_type": "code",
   "execution_count": null,
   "metadata": {},
   "outputs": [],
   "source": [
    "try:\n",
    "    print(peptide_counter.counter.most_common(10),\n",
    "          len(peptide_counter.loaded),\n",
    "          sep='\\n')\n",
    "except AttributeError:\n",
    "    print('New file created.')"
   ]
  },
  {
   "cell_type": "markdown",
   "metadata": {},
   "source": [
    "- creates peptide intensity dumps for each MQ outputfolder per default `count_peptides` function (default processing function for `PeptideCounter`)"
   ]
  },
  {
   "cell_type": "code",
   "execution_count": null,
   "metadata": {},
   "outputs": [],
   "source": [
    "%%time\n",
    "folders = [Path(folder_path) for folder_path in folders_dict.values()]\n",
    "c = peptide_counter.sum_over_files(folders=folders)"
   ]
  },
  {
   "cell_type": "code",
   "execution_count": null,
   "metadata": {},
   "outputs": [],
   "source": [
    "c.most_common(10) # peptide_counter.counter.most_common(10)"
   ]
  },
  {
   "cell_type": "code",
   "execution_count": null,
   "metadata": {},
   "outputs": [],
   "source": [
    "# To share as python file\n",
    "N = 1000\n",
    "with open(FOLDER_PROCESSED / f'most_common_{10}_peptides.py', 'w') as f:\n",
    "    f.write('import pandas as pd\\n\\n')\n",
    "    \n",
    "    #pprint.pformat list -> do this using standardlibrary\n",
    "    # https://docs.python.org/3/library/pprint.html\n",
    "    f.write(f\"most_common = [\\n  \")\n",
    "    f.write(',\\n  '.join(f\"{str(t)}\" for t in c.most_common(N)))\n",
    "    f.write(\"\\n]\\n\\n\")\n",
    "    \n",
    "    #peptide_counter.loaded()\n",
    "    \n",
    "    f.write(\"pd.DataFrame.from_records(most_common, index='Sequence', columns=['Sequence', 'counts'])\\n\")"
   ]
  },
  {
   "cell_type": "markdown",
   "metadata": {
    "Collapsed": "false"
   },
   "source": [
    "## Peptides by charge\n",
    "\n",
    "- count peptides by charge state (which are aggregated in `peptides.txt`)"
   ]
  },
  {
   "cell_type": "code",
   "execution_count": null,
   "metadata": {},
   "outputs": [],
   "source": [
    "evidence_cols = vaep.pandas.get_colums_accessor(mq_output.evidence.reset_index())\n",
    "evidence_cols # vaep.mq get this list"
   ]
  },
  {
   "cell_type": "code",
   "execution_count": null,
   "metadata": {},
   "outputs": [],
   "source": [
    "evidence = mq_output.evidence.set_index(evidence_cols.Charge, append=True)\n",
    "evidence"
   ]
  },
  {
   "cell_type": "markdown",
   "metadata": {},
   "source": [
    "Modifikationen könnten noch zum index hinzugefügt werden"
   ]
  },
  {
   "cell_type": "code",
   "execution_count": null,
   "metadata": {},
   "outputs": [],
   "source": [
    "evidence.Modifications.value_counts()"
   ]
  },
  {
   "cell_type": "code",
   "execution_count": null,
   "metadata": {},
   "outputs": [],
   "source": [
    "vaep.pandas.prop_unique_index(evidence)"
   ]
  },
  {
   "cell_type": "markdown",
   "metadata": {},
   "source": [
    "Using the protein AA sequence and it's charge as identifiers, does not yield a unique index.\n",
    "\n",
    "First potential contaminants and peptides with zero intensity (or missing intensity) can be removed from the table.\n",
    "\n",
    "These are apparently peptides identified by an MS2 spectrum but which could not be quantified by a MS1 scans"
   ]
  },
  {
   "cell_type": "code",
   "execution_count": null,
   "metadata": {},
   "outputs": [],
   "source": [
    "mask =  evidence[evidence_cols.Intensity].isna()\n",
    "evidence.loc[mask, evidence_cols.Type].value_counts()"
   ]
  },
  {
   "cell_type": "code",
   "execution_count": null,
   "metadata": {},
   "outputs": [],
   "source": [
    "evidence_cols = vaep.io.data_objects.evidence_cols\n",
    "use_cols = [evidence_cols.mz, evidence_cols.Protein_group_IDs, evidence_cols.Intensity, evidence_cols.Score, evidence_cols.Potential_contaminant]\n",
    "\n",
    "evidence_selected = vaep.io.data_objects.select_evidence(evidence[use_cols])\n",
    "evidence_selected"
   ]
  },
  {
   "cell_type": "code",
   "execution_count": null,
   "metadata": {},
   "outputs": [],
   "source": [
    "evidence_selected = evidence_selected.sort_values(by=['Sequence', 'Charge', 'Score'], ascending=False)\n",
    "evidence_selected"
   ]
  },
  {
   "cell_type": "code",
   "execution_count": null,
   "metadata": {},
   "outputs": [],
   "source": [
    "evidence_selected = vaep.pandas.select_max_by(evidence_selected.reset_index(), [evidence_cols.Sequence, evidence_cols.Charge], evidence_cols.Score)\n",
    "evidence_selected"
   ]
  },
  {
   "cell_type": "code",
   "execution_count": null,
   "metadata": {},
   "outputs": [],
   "source": [
    "from collections import Counter\n",
    "c = Counter()\n",
    "c.update(evidence.index)\n",
    "c.most_common(10)"
   ]
  },
  {
   "cell_type": "code",
   "execution_count": null,
   "metadata": {},
   "outputs": [],
   "source": [
    "example = evidence.loc[c.most_common(10)[0][0]]\n",
    "\n",
    "vaep.pandas.show_columns_with_variation(example)"
   ]
  },
  {
   "cell_type": "markdown",
   "metadata": {},
   "source": [
    "- `Type`: only `MULTI-MSMS` and `MULIT-SECPEP` are quantified (does this mean a matching MS1 spectrum?)"
   ]
  },
  {
   "cell_type": "code",
   "execution_count": null,
   "metadata": {},
   "outputs": [],
   "source": [
    "evidence[evidence_cols.Type].value_counts()"
   ]
  },
  {
   "cell_type": "markdown",
   "metadata": {},
   "source": [
    "Some peptides can be assigned to different protein group IDs (razor peptides)\n",
    " - option: discared non-unique peptides (and Protein group IDs can be already a combination of several isotopes)\n",
    " - option: select on `Score` or `Intensity` (is there a relationship?)\n",
    " - option: select based on `Number of isotopic peaks`"
   ]
  },
  {
   "cell_type": "code",
   "execution_count": null,
   "metadata": {},
   "outputs": [],
   "source": [
    "evidence[evidence_cols.Protein_group_IDs].value_counts()"
   ]
  },
  {
   "cell_type": "markdown",
   "metadata": {},
   "source": [
    "### Count peptides based on evidence files"
   ]
  },
  {
   "cell_type": "code",
   "execution_count": null,
   "metadata": {},
   "outputs": [],
   "source": [
    "evidence_counter = vaep.io.data_objects.EvidenceCounter('data/processed/count_all_evidences.json')\n",
    "c = evidence_counter.sum_over_files(folders=folders)"
   ]
  },
  {
   "cell_type": "markdown",
   "metadata": {},
   "source": [
    "## Protein Groups\n",
    "\n",
    "- protein groups between files\n",
    "    - aggregate by GENE ?\n",
    "    - "
   ]
  },
  {
   "cell_type": "code",
   "execution_count": null,
   "metadata": {},
   "outputs": [],
   "source": [
    "mq_output.proteinGroups.describe(include='all')"
   ]
  },
  {
   "cell_type": "code",
   "execution_count": null,
   "metadata": {},
   "outputs": [],
   "source": [
    "pg_cols = vaep.pandas.get_colums_accessor(mq_output.proteinGroups.reset_index())\n",
    "pg_cols"
   ]
  },
  {
   "cell_type": "code",
   "execution_count": null,
   "metadata": {},
   "outputs": [],
   "source": [
    "use_cols = [\n",
    "# pg_cols.Protein_IDs,\n",
    " pg_cols.Majority_protein_IDs,\n",
    " pg_cols.Gene_names,\n",
    " pg_cols.Evidence_IDs,\n",
    " pg_cols.Q_value,\n",
    " pg_cols.Score,\n",
    " pg_cols.Only_identified_by_site,\n",
    " pg_cols.Reverse,\n",
    " pg_cols.Potential_contaminant,\n",
    " pg_cols.Intensity,\n",
    "]\n",
    "\n",
    "pd.options.display.max_rows = 100\n",
    "pd.options.display.min_rows = 40\n",
    "mask = mq_output.proteinGroups[[pg_cols.Only_identified_by_site, pg_cols.Reverse, pg_cols.Potential_contaminant]].notna().sum(axis=1) > 0\n",
    "mq_output.proteinGroups.loc[mask, use_cols]"
   ]
  },
  {
   "cell_type": "code",
   "execution_count": null,
   "metadata": {},
   "outputs": [],
   "source": [
    "msg = \"Omitting the data drops {0:.3f} % of the data.\"\n",
    "print(msg.format(\n",
    "mask.sum() / len(mask) * 100\n",
    "))"
   ]
  },
  {
   "cell_type": "code",
   "execution_count": null,
   "metadata": {},
   "outputs": [],
   "source": [
    "selection = mq_output.proteinGroups.loc[~mask, use_cols]\n",
    "gene_counts = selection[pg_cols.Gene_names].value_counts() # Gene Names not unique\n",
    "msg = 'proportion of entries with non-unique genes: {:.3f}'\n",
    "print(msg.format(gene_counts.loc[gene_counts > 1].sum() / gene_counts.sum()))\n",
    "gene_counts.head(20)"
   ]
  },
  {
   "cell_type": "code",
   "execution_count": null,
   "metadata": {},
   "outputs": [],
   "source": [
    "mask = selection.Intensity > 0 \n",
    "msg = \"Proportion of non-zero Intensities: {:.3f} (zero_ count = {})\"\n",
    "print(msg.format(mask.sum() / len(mask), (~mask).sum()))\n",
    "selection.loc[~mask]"
   ]
  },
  {
   "cell_type": "code",
   "execution_count": null,
   "metadata": {},
   "outputs": [],
   "source": [
    "selection = selection.loc[mask]"
   ]
  },
  {
   "cell_type": "markdown",
   "metadata": {},
   "source": [
    "Some Proteins have no gene annotation\n",
    "  - P56181 -> mitochondrial\n",
    "\n",
    "In the online version of Uniprot these seems to be annotated (brief check). \n",
    "So latest version probably has a gene annotation, so therefore these files are kept"
   ]
  },
  {
   "cell_type": "code",
   "execution_count": null,
   "metadata": {},
   "outputs": [],
   "source": [
    "gene_set = selection[pg_cols.Gene_names].str.split(';')\n",
    "\n",
    "col_loc_gene_names = selection.columns.get_loc(pg_cols.Gene_names)\n",
    "_ = selection.insert(col_loc_gene_names+1, 'Number of Genes', gene_set.apply(vaep.pandas.length))\n",
    "\n",
    "mask = gene_set.isna()\n",
    "selection.loc[mask]"
   ]
  },
  {
   "cell_type": "code",
   "execution_count": null,
   "metadata": {},
   "outputs": [],
   "source": [
    "cols = vaep.pandas.get_colums_accessor(selection)\n",
    "gene_counts = vaep.pandas.counts_with_proportion(selection[cols.Number_of_Genes])\n",
    "gene_counts"
   ]
  },
  {
   "cell_type": "markdown",
   "metadata": {},
   "source": [
    "Most `proteinGroups` have single genes assigned to them. If one only looks at gene sets,\n",
    "one can increase uniquely identified `proteinGroups` further. \n",
    "\n",
    "> Can `geneGroups` (sets of `Gene Names`) be used instead of `proteinGroups`?"
   ]
  },
  {
   "cell_type": "code",
   "execution_count": null,
   "metadata": {},
   "outputs": [],
   "source": [
    "gene_sets_counts = selection[cols.Gene_names].value_counts()\n",
    "gene_sets_counts.value_counts()"
   ]
  },
  {
   "cell_type": "markdown",
   "metadata": {},
   "source": [
    "Potential solutions:\n",
    "- summarize intensity per gene. One of the isoforms seems to have the major proportion of intensity assigned.\n",
    "- select maximum by score (higher scores seem to be related to higher intensity)"
   ]
  },
  {
   "cell_type": "code",
   "execution_count": null,
   "metadata": {},
   "outputs": [],
   "source": [
    "non_unique_genes = gene_sets_counts.loc[gene_sets_counts > 1].index\n",
    "\n",
    "mask = selection[cols.Gene_names].isin(non_unique_genes)\n",
    "selection.loc[mask].reset_index().set_index(cols.Gene_names).sort_index()"
   ]
  },
  {
   "cell_type": "markdown",
   "metadata": {},
   "source": [
    "Protein Groups with Gene set with three and more genes:"
   ]
  },
  {
   "cell_type": "code",
   "execution_count": null,
   "metadata": {},
   "outputs": [],
   "source": [
    "selection.loc[selection[cols.Number_of_Genes] > 2]"
   ]
  },
  {
   "cell_type": "code",
   "execution_count": null,
   "metadata": {},
   "outputs": [],
   "source": [
    "logging.info(f\"Selection shape before dropping duplicates by gene: {selection.shape}\")\n",
    "selection = vaep.pandas.select_max_by(df=selection.reset_index(), index_columns=[pg_cols.Gene_names], selection_column=pg_cols.Score)\n",
    "logging.info(f\"Selection shape after  dropping duplicates by gene: {selection.shape}\")\n",
    "selection = selection.reset_index().set_index(pg_cols.Protein_IDs)\n",
    "mask = selection[cols.Gene_names].isin(non_unique_genes)\n",
    "selection.loc[mask]"
   ]
  },
  {
   "cell_type": "code",
   "execution_count": null,
   "metadata": {},
   "outputs": [],
   "source": [
    "protein_groups_counter = vaep.io.data_objects.ProteinGroupsCounter('data/processed/count_all_protein_groups.json', overwrite=True)\n",
    "c = protein_groups_counter.sum_over_files(folders=folders)"
   ]
  },
  {
   "cell_type": "code",
   "execution_count": null,
   "metadata": {},
   "outputs": [],
   "source": [
    "vaep.pandas.counts_with_proportion(pd.Series(c)) # Most proteinGroups are unique"
   ]
  },
  {
   "cell_type": "markdown",
   "metadata": {},
   "source": [
    "Genes sets could be used to identify common features.\n",
    "\n",
    "> The assignment of isoforms to one proteinGroup or another might be volatile.  \n",
    "> A single (unique) peptide could lead to different assignments.\n",
    "> Imputation on the evidence level could be a way to alleviate this problem\n",
    "\n",
    "- If genes set are not unique for a single run, one would have to decide which to take"
   ]
  },
  {
   "cell_type": "code",
   "execution_count": null,
   "metadata": {},
   "outputs": [],
   "source": [
    "def pg_idx_gene_fct(folder, use_cols=None):\n",
    "    logging.debug(f\"Load: {folder}\")\n",
    "    df = pd.read_csv(folder, index_col=pg_cols.Gene_names)\n",
    "    return df\n",
    "\n",
    "pg_dumps = vaep.io.search_files(FOLDER_PROCESSED / 'proteinGroups_dumps', '.csv')\n",
    "pg_dumps = [pg_dumps.folder / file for file in pg_dumps.files] # would be the better return, check usage\n",
    "\n",
    "gene_counter = vaep.io.data_objects.Count(process_folder_fct=pg_idx_gene_fct, dump=False)\n",
    "c_genes = gene_counter(folders=pg_dumps)\n",
    "vaep.pandas.counts_with_proportion(pd.Series(c_genes)) # Most proteinGroups are unique"
   ]
  },
  {
   "cell_type": "markdown",
   "metadata": {
    "Collapsed": "false"
   },
   "source": [
    "## Theoretial Peptides from used fasta-file\n",
    "\n",
    "> `01_explore_FASTA.ipynb` (formely `01_FASTA_tryptic_digest.ipynb`)"
   ]
  },
  {
   "cell_type": "markdown",
   "metadata": {},
   "source": []
  }
 ],
 "metadata": {
  "kernelspec": {
   "display_name": "Python 3",
   "language": "python",
   "name": "python3"
  },
  "language_info": {
   "codemirror_mode": {
    "name": "ipython",
    "version": 3
   },
   "file_extension": ".py",
   "mimetype": "text/x-python",
   "name": "python",
   "nbconvert_exporter": "python",
   "pygments_lexer": "ipython3",
   "version": "3.8.12"
  }
 },
 "nbformat": 4,
 "nbformat_minor": 4
}
