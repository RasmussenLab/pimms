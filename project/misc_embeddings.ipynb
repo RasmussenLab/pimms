{
 "cells": [
  {
   "cell_type": "markdown",
   "id": "134c0fed-ed2b-4d30-bf13-8896d86e44d6",
   "metadata": {},
   "source": [
    "## Understanding Embeddings"
   ]
  },
  {
   "cell_type": "code",
   "execution_count": 1,
   "id": "5198f57a-aa8e-4ae7-80c5-1e2f2f5e26cc",
   "metadata": {},
   "outputs": [],
   "source": [
    "from fastai.tabular.all import *\n",
    "from fastai.collab import *"
   ]
  },
  {
   "cell_type": "code",
   "execution_count": 2,
   "id": "1c0aa9bd-980c-496c-88de-610e35339d17",
   "metadata": {},
   "outputs": [
    {
     "data": {
      "text/plain": [
       "\u001b[1;31mInit signature:\u001b[0m \u001b[0mEmbedding\u001b[0m\u001b[1;33m(\u001b[0m\u001b[0mni\u001b[0m\u001b[1;33m,\u001b[0m \u001b[0mnf\u001b[0m\u001b[1;33m,\u001b[0m \u001b[0mstd\u001b[0m\u001b[1;33m=\u001b[0m\u001b[1;36m0.01\u001b[0m\u001b[1;33m)\u001b[0m\u001b[1;33m\u001b[0m\u001b[1;33m\u001b[0m\u001b[0m\n",
       "\u001b[1;31mDocstring:\u001b[0m      Embedding layer with truncated normal initialization\n",
       "\u001b[1;31mInit docstring:\u001b[0m Initializes internal Module state, shared by both nn.Module and ScriptModule.\n",
       "\u001b[1;31mFile:\u001b[0m           c:\\users\\kzl465\\anaconda3\\envs\\vaep\\lib\\site-packages\\fastai\\layers.py\n",
       "\u001b[1;31mType:\u001b[0m           type\n",
       "\u001b[1;31mSubclasses:\u001b[0m     \n"
      ]
     },
     "metadata": {},
     "output_type": "display_data"
    }
   ],
   "source": [
    "Embedding?"
   ]
  },
  {
   "cell_type": "code",
   "execution_count": 3,
   "id": "b41f7564-c5e3-4005-9a55-e20240b5aefc",
   "metadata": {},
   "outputs": [
    {
     "data": {
      "text/plain": [
       "fastai.layers.Embedding"
      ]
     },
     "execution_count": 3,
     "metadata": {},
     "output_type": "execute_result"
    }
   ],
   "source": [
    "Embedding"
   ]
  },
  {
   "cell_type": "code",
   "execution_count": 4,
   "id": "6a5282f6-3928-4ae4-8e05-719c51b1cd18",
   "metadata": {},
   "outputs": [],
   "source": [
    "e = Embedding(100, 10)"
   ]
  },
  {
   "cell_type": "code",
   "execution_count": 5,
   "id": "faaace52-b358-48f8-b69c-e66448e13598",
   "metadata": {},
   "outputs": [
    {
     "data": {
      "text/plain": [
       "array([[ 0.00426811, -0.00729851, -0.00754421, -0.0063938 , -0.00202749,\n",
       "        -0.01162564,  0.0014151 ,  0.00051208,  0.00312543, -0.01775265],\n",
       "       [-0.00362542,  0.0121997 , -0.00392033,  0.00382353,  0.00065926,\n",
       "        -0.00177175, -0.00568131,  0.00951451, -0.0084022 ,  0.01358536]],\n",
       "      dtype=float32)"
      ]
     },
     "execution_count": 5,
     "metadata": {},
     "output_type": "execute_result"
    }
   ],
   "source": [
    "idx = torch.tensor([1, 3])\n",
    "e(idx).detach().numpy()"
   ]
  },
  {
   "cell_type": "code",
   "execution_count": 6,
   "id": "26228d33-3f6b-4b28-bc7d-06792ad34c33",
   "metadata": {},
   "outputs": [
    {
     "data": {
      "text/plain": [
       "array([[ 0.00426811, -0.00729851, -0.00754421, -0.0063938 , -0.00202749,\n",
       "        -0.01162564,  0.0014151 ,  0.00051208,  0.00312543, -0.01775265],\n",
       "       [ 0.01254446, -0.01523298,  0.01289834,  0.01491223,  0.01613562,\n",
       "         0.01030466, -0.00036225, -0.00054391,  0.01592888, -0.00083232]],\n",
       "      dtype=float32)"
      ]
     },
     "execution_count": 6,
     "metadata": {},
     "output_type": "execute_result"
    }
   ],
   "source": [
    "idx = torch.tensor([1, 2])\n",
    "e(idx).detach().numpy()"
   ]
  },
  {
   "cell_type": "code",
   "execution_count": null,
   "id": "a3ae8d63-a358-4257-a412-6ce7ea62c3fd",
   "metadata": {},
   "outputs": [],
   "source": []
  }
 ],
 "metadata": {
  "kernelspec": {
   "display_name": "Python 3 (ipykernel)",
   "language": "python",
   "name": "python3"
  },
  "language_info": {
   "codemirror_mode": {
    "name": "ipython",
    "version": 3
   },
   "file_extension": ".py",
   "mimetype": "text/x-python",
   "name": "python",
   "nbconvert_exporter": "python",
   "pygments_lexer": "ipython3",
   "version": "3.8.13 (default, Mar 28 2022, 06:59:08) [MSC v.1916 64 bit (AMD64)]"
  }
 },
 "nbformat": 4,
 "nbformat_minor": 5
}
