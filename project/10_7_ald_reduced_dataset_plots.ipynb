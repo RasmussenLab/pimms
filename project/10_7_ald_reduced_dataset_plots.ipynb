{
 "cells": [
  {
   "cell_type": "markdown",
   "id": "3d22f4f8",
   "metadata": {},
   "source": [
    "# Plots for comparison on ALD dataset with 20% add MAR values"
   ]
  },
  {
   "cell_type": "code",
   "execution_count": null,
   "id": "1ba304ee",
   "metadata": {},
   "outputs": [],
   "source": [
    "from pathlib import Path\n",
    "\n",
    "import matplotlib.pyplot as plt\n",
    "import njab\n",
    "import pandas as pd\n",
    "\n",
    "import vaep\n",
    "\n",
    "plt.rcParams['figure.figsize'] = [4, 2]  # [16.0, 7.0] , [4, 3]\n",
    "vaep.plotting.make_large_descriptors(6)\n",
    "\n",
    "\n",
    "NONE_COL_NAME = 'No imputation\\n(None)'\n",
    "col_mapper = {'None':\n",
    "              NONE_COL_NAME}\n",
    "# overwrite for now to align with Fig. 3\n",
    "ORDER_MODELS = ['DAE', 'VAE', 'TRKNN', 'RF', 'CF', 'Median', 'QRILC', NONE_COL_NAME]\n",
    "REF_MODEL = 'None (100%)'\n",
    "CUTOFF = 0.05\n",
    "\n",
    "COLORS_TO_USE_MAPPTING = vaep.plotting.defaults.color_model_mapping\n",
    "COLORS_TO_USE_MAPPTING[NONE_COL_NAME] = COLORS_TO_USE_MAPPTING['None']\n",
    "\n",
    "COLORS_CONTIGENCY_TABLE = {\n",
    "    k: f'C{i}' for i, k in enumerate(['FP', 'TN', 'TP', 'FN'])\n",
    "}\n",
    "\n",
    "\n",
    "def plot_qvalues(df, x: str, y: list, ax=None, cutoff=0.05,\n",
    "                 alpha=1.0, style='.', markersize=3):\n",
    "    ax = df.plot.line(x=x,\n",
    "                      y=y,\n",
    "                      style=style,\n",
    "                      ax=ax,\n",
    "                      color=COLORS_TO_USE_MAPPTING,\n",
    "                      alpha=alpha,\n",
    "                      markersize=markersize)\n",
    "    _ = ax.hlines(cutoff,\n",
    "                  xmin=ax.get_xlim()[0],\n",
    "                  xmax=ax.get_xlim()[1],\n",
    "                  linestyles='dashed',\n",
    "                  color='grey',\n",
    "                  linewidth=1)\n",
    "    return ax"
   ]
  },
  {
   "cell_type": "markdown",
   "id": "9d21e1a1-7a46-49d4-8976-bc2031652ee4",
   "metadata": {
    "lines_to_next_cell": 0
   },
   "source": [
    "DA analysis"
   ]
  },
  {
   "cell_type": "code",
   "execution_count": null,
   "id": "1d41cf8a",
   "metadata": {},
   "outputs": [],
   "source": [
    "out_folder = 'runs/appl_ald_data_2023_11/plasma/proteinGroups_80perc_25MNAR/diff_analysis/kleiner/'\n",
    "out_folder = Path(out_folder)"
   ]
  },
  {
   "cell_type": "code",
   "execution_count": null,
   "id": "676766a0",
   "metadata": {
    "lines_to_next_cell": 2
   },
   "outputs": [],
   "source": [
    "files_out = dict()\n",
    "fname = out_folder / 'ald_reduced_dataset_plots.xlsx'\n",
    "files_out[fname.name] = fname.as_posix()\n",
    "writer = pd.ExcelWriter(fname)"
   ]
  },
  {
   "cell_type": "code",
   "execution_count": null,
   "id": "cd7ab8d5",
   "metadata": {
    "lines_to_next_cell": 2
   },
   "outputs": [],
   "source": []
  },
  {
   "cell_type": "markdown",
   "id": "700ff574-ab93-4b9d-b9d4-e79a05058616",
   "metadata": {},
   "source": [
    "Load dumps"
   ]
  },
  {
   "cell_type": "code",
   "execution_count": null,
   "id": "7c4b5c05",
   "metadata": {},
   "outputs": [],
   "source": [
    "da_target = (pd\n",
    "             .read_pickle(out_folder / 'equality_rejected_target.pkl').\n",
    "             rename(col_mapper, axis=1)\n",
    "             )\n",
    "da_target.describe()"
   ]
  },
  {
   "cell_type": "code",
   "execution_count": null,
   "id": "e8df4a84",
   "metadata": {},
   "outputs": [],
   "source": [
    "qvalues = (pd\n",
    "           .read_pickle(out_folder / 'qvalues_target.pkl')\n",
    "           .rename(col_mapper, axis=1)\n",
    "           )\n",
    "qvalues"
   ]
  },
  {
   "cell_type": "markdown",
   "id": "fb9f9eb5",
   "metadata": {},
   "source": [
    "take only those with different decisions"
   ]
  },
  {
   "cell_type": "code",
   "execution_count": null,
   "id": "c155428c",
   "metadata": {
    "lines_to_next_cell": 2
   },
   "outputs": [],
   "source": [
    "da_target = da_target.drop('RSN', axis=1)\n",
    "da_target_same = (da_target.sum(axis=1) == 0) | da_target.all(axis=1)\n",
    "da_target_same.value_counts()"
   ]
  },
  {
   "cell_type": "code",
   "execution_count": null,
   "id": "8293e1ed",
   "metadata": {},
   "outputs": [],
   "source": [
    "feat_idx_w_diff = da_target_same[~da_target_same].index\n",
    "feat_idx_w_diff"
   ]
  },
  {
   "cell_type": "code",
   "execution_count": null,
   "id": "56d62418",
   "metadata": {
    "lines_to_next_cell": 2
   },
   "outputs": [],
   "source": [
    "qvalues_sel = (qvalues\n",
    "               .loc[feat_idx_w_diff]\n",
    "               .sort_values((NONE_COL_NAME, 'qvalue')\n",
    "                            ))"
   ]
  },
  {
   "cell_type": "code",
   "execution_count": null,
   "id": "226182e3",
   "metadata": {},
   "outputs": [],
   "source": [
    "da_target_sel = da_target.loc[qvalues_sel.index]\n",
    "da_target_sel"
   ]
  },
  {
   "cell_type": "markdown",
   "id": "7ce9cfc0",
   "metadata": {},
   "source": [
    "## Diff. abundant => not diff. abundant"
   ]
  },
  {
   "cell_type": "code",
   "execution_count": null,
   "id": "21d1ea02",
   "metadata": {},
   "outputs": [],
   "source": [
    "mask_lost_sign = (\n",
    "    (da_target_sel[NONE_COL_NAME] == False)\n",
    "    & (da_target_sel[REF_MODEL])\n",
    ")\n",
    "sel = qvalues_sel.loc[mask_lost_sign.squeeze()]\n",
    "sel.columns = sel.columns.droplevel(-1)\n",
    "sel = sel[ORDER_MODELS + [REF_MODEL]].sort_values(REF_MODEL)\n",
    "sel.to_excel(writer, sheet_name='lost_signal_qvalues')\n",
    "sel"
   ]
  },
  {
   "cell_type": "code",
   "execution_count": null,
   "id": "3ad52e68",
   "metadata": {},
   "outputs": [],
   "source": [
    "# 0: FN\n",
    "# 1: TP\n",
    "da_target_sel_counts = (da_target_sel[ORDER_MODELS]\n",
    "                        .loc[mask_lost_sign.squeeze()]\n",
    "                        .astype(int)\n",
    "                        .replace(\n",
    "    {0: 'FN',\n",
    "     1: 'TP'}\n",
    ").droplevel(-1, axis=1)\n",
    ")\n",
    "da_target_sel_counts = njab.pandas.combine_value_counts(da_target_sel_counts)\n",
    "ax = da_target_sel_counts.T.plot.bar(ylabel='count',\n",
    "                                     color=[COLORS_CONTIGENCY_TABLE['FN'],\n",
    "                                            COLORS_CONTIGENCY_TABLE['TP']])\n",
    "ax.locator_params(axis='y', integer=True)\n",
    "fname = out_folder / 'lost_signal_da_counts.pdf'\n",
    "da_target_sel_counts.fillna(0).to_excel(writer, sheet_name=fname.stem)\n",
    "files_out[fname.name] = fname.as_posix()\n",
    "vaep.savefig(ax.figure, fname)"
   ]
  },
  {
   "cell_type": "code",
   "execution_count": null,
   "id": "5976b6bd",
   "metadata": {
    "lines_to_next_cell": 2
   },
   "outputs": [],
   "source": [
    "ax = plot_qvalues(df=sel,\n",
    "                  x=REF_MODEL,\n",
    "                  y=ORDER_MODELS,\n",
    "                  cutoff=CUTOFF)\n",
    "ax.set_xlim(-0.0005, CUTOFF + 0.015)\n",
    "ax.legend(loc='upper right')\n",
    "ax.set_xlabel(\"q-value using 100% of the data without imputation\")\n",
    "ax.set_ylabel(\"q-value using 80% of the data\")\n",
    "fname = out_folder / 'lost_signal_qvalues.pdf'\n",
    "files_out[fname.name] = fname.as_posix()\n",
    "vaep.savefig(ax.figure, fname)"
   ]
  },
  {
   "cell_type": "markdown",
   "id": "3474c365-5060-4238-a0b3-97c47a5f69db",
   "metadata": {},
   "source": [
    "## Not diff. abundant => diff. abundant"
   ]
  },
  {
   "cell_type": "code",
   "execution_count": null,
   "id": "3656e500",
   "metadata": {},
   "outputs": [],
   "source": [
    "mask_gained_signal = (\n",
    "    (da_target_sel[NONE_COL_NAME])\n",
    "    & (da_target_sel[REF_MODEL] == False)\n",
    ")\n",
    "sel = qvalues_sel.loc[mask_gained_signal.squeeze()]\n",
    "sel.columns = sel.columns.droplevel(-1)\n",
    "sel = sel[ORDER_MODELS + [REF_MODEL]].sort_values(REF_MODEL)\n",
    "sel.to_excel(writer, sheet_name='gained_signal_qvalues')\n",
    "sel"
   ]
  },
  {
   "cell_type": "code",
   "execution_count": null,
   "id": "871bcd91",
   "metadata": {},
   "outputs": [],
   "source": [
    "da_target_sel_counts = (da_target_sel[ORDER_MODELS]\n",
    "                        .loc[mask_gained_signal.squeeze()]\n",
    "                        .astype(int)\n",
    "                        .replace(\n",
    "    {0: 'TN',\n",
    "     1: 'FP'}\n",
    ").droplevel(-1, axis=1)\n",
    ")\n",
    "da_target_sel_counts = njab.pandas.combine_value_counts(da_target_sel_counts)\n",
    "ax = da_target_sel_counts.T.plot.bar(ylabel='count',\n",
    "                                     color=[COLORS_CONTIGENCY_TABLE['TN'],\n",
    "                                            COLORS_CONTIGENCY_TABLE['FP']])\n",
    "ax.locator_params(axis='y', integer=True)\n",
    "fname = out_folder / 'gained_signal_da_counts.pdf'\n",
    "da_target_sel_counts.fillna(0).to_excel(writer, sheet_name=fname.stem)\n",
    "files_out[fname.name] = fname.as_posix()\n",
    "vaep.savefig(ax.figure, fname)"
   ]
  },
  {
   "cell_type": "code",
   "execution_count": null,
   "id": "0ec46e8d",
   "metadata": {},
   "outputs": [],
   "source": [
    "ax = plot_qvalues(sel,\n",
    "                  x=REF_MODEL,\n",
    "                  y=ORDER_MODELS)\n",
    "# ax.set_xlim(CUTOFF - 0.005, sel[REF_MODEL].max() + 0.005)\n",
    "ax.set_xlabel(\"q-value using 100% of the data without imputation\")\n",
    "ax.set_ylabel(\"q-value using 80% of the data\")\n",
    "ax.legend(loc='upper right')\n",
    "fname = out_folder / 'gained_signal_qvalues.pdf'\n",
    "files_out[fname.name] = fname.as_posix()\n",
    "vaep.savefig(ax.figure, fname)"
   ]
  },
  {
   "cell_type": "markdown",
   "id": "321e5ff7-aec8-4293-85d5-c938e9c684b2",
   "metadata": {},
   "source": [
    "Saved files"
   ]
  },
  {
   "cell_type": "code",
   "execution_count": null,
   "id": "b446d95e",
   "metadata": {},
   "outputs": [],
   "source": [
    "writer.close()\n",
    "files_out"
   ]
  },
  {
   "cell_type": "code",
   "execution_count": null,
   "id": "47e6afe8",
   "metadata": {},
   "outputs": [],
   "source": []
  }
 ],
 "metadata": {
  "jupytext": {
   "cell_metadata_filter": "-all",
   "notebook_metadata_filter": "-all"
  },
  "kernelspec": {
   "display_name": "Python 3",
   "language": "python",
   "name": "python3"
  },
  "language_info": {
   "codemirror_mode": {
    "name": "ipython",
    "version": 3
   },
   "file_extension": ".py",
   "mimetype": "text/x-python",
   "name": "python",
   "nbconvert_exporter": "python",
   "pygments_lexer": "ipython3",
   "version": "3.8.13"
  }
 },
 "nbformat": 4,
 "nbformat_minor": 5
}
