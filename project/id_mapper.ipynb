{
 "cells": [
  {
   "cell_type": "markdown",
   "metadata": {},
   "source": [
    "# Analyse peptides\n",
    "\n",
    "## Specification\n",
    "- access different levels of peptides easily\n",
    "- select training data per gene easily\n"
   ]
  },
  {
   "cell_type": "code",
   "execution_count": null,
   "metadata": {},
   "outputs": [],
   "source": [
    "import json\n",
    "\n",
    "import pandas as pd\n",
    "from config import FN_FASTA_DB, FN_ID_MAP, FN_PEPTIDE_INTENSITIES\n",
    "\n",
    "id_map = pd.read_json(FN_ID_MAP, orient=\"split\")\n",
    "\n",
    "mask_no_gene = id_map.gene.isna()\n",
    "id_map.loc[mask_no_gene, \"gene\"] = \"-\"\n",
    "\n",
    "\n",
    "with open(FN_FASTA_DB) as f:\n",
    "    data_fasta = json.load(f)"
   ]
  },
  {
   "cell_type": "code",
   "execution_count": null,
   "metadata": {},
   "outputs": [],
   "source": [
    "id_map.loc['A0A024R1R8']"
   ]
  },
  {
   "cell_type": "code",
   "execution_count": null,
   "metadata": {},
   "outputs": [],
   "source": [
    "data_peptides = pd.read_pickle(FN_PEPTIDE_INTENSITIES)"
   ]
  },
  {
   "cell_type": "code",
   "execution_count": null,
   "metadata": {},
   "outputs": [],
   "source": [
    "set_peptides = set(data_peptides.columns)"
   ]
  },
  {
   "cell_type": "code",
   "execution_count": null,
   "metadata": {},
   "outputs": [],
   "source": [
    "import ipywidgets as w\n",
    "from config import KEY_FASTA_HEADER, KEY_FASTA_SEQ, KEY_PEPTIDES, KEY_GENE_NAME, KEY_GENE_NAME_FASTA\n",
    "\n",
    "TGREEN = \"\\033[32m\"  # Green Text\n",
    "RESET = \"\\033[0;0m\"\n",
    "\n",
    "w_first_letter = w.Dropdown(\n",
    "    options=id_map[KEY_GENE_NAME_FASTA].str[0].unique(), description=\"First letter of gene\"\n",
    ")\n",
    "w_genes = w.Dropdown(\n",
    "    options=id_map.gene.loc[id_map[KEY_GENE_NAME_FASTA].str[0] == w_first_letter.value].unique()\n",
    ")\n",
    "\n",
    "mask = id_map.gene == w_genes.value\n",
    "selected = id_map.loc[mask, \"protein\"]\n",
    "\n",
    "\n",
    "w_proteins_ids = w.Dropdown(options=selected.index)\n",
    "w_protein = w.Dropdown(options=selected.unique())\n",
    "\n",
    "\n",
    "def update_gene_list(first_letter):\n",
    "    mask_selected_genes = id_map[KEY_GENE_NAME_FASTA].str[0] == w_first_letter.value\n",
    "    w_genes.options = id_map.gene.loc[mask_selected_genes].unique()\n",
    "\n",
    "\n",
    "_ = w.interactive_output(update_gene_list, {\"first_letter\": w_first_letter})\n",
    "\n",
    "\n",
    "def update_protein_list(gene):\n",
    "    mask = id_map[KEY_GENE_NAME_FASTA] == gene\n",
    "    selected = id_map.loc[mask, \"protein\"]\n",
    "    w_proteins_ids.options = selected.index\n",
    "    w_protein.options = selected.unique()\n",
    "\n",
    "\n",
    "_ = w.interactive_output(update_protein_list, {\"gene\": w_genes})\n",
    "\n",
    "\n",
    "def show_sequences(prot_id):\n",
    "    _data = data_fasta[prot_id]\n",
    "    print(f\"Protein_ID on Uniport: {prot_id}\")\n",
    "    print(f\"HEADER: {_data[KEY_FASTA_HEADER]}\")\n",
    "    print(f\"Seq: {_data[KEY_FASTA_SEQ]}\")\n",
    "    annotate_seq = \"Peptides: \\n\"\n",
    "    for i, _l in enumerate(_data[KEY_PEPTIDES]):\n",
    "        annotate_seq += f\"No. of missed K or R: {i}\\n \"\n",
    "        for _pep in _l:\n",
    "            if _pep in set_peptides:\n",
    "                annotate_seq += TGREEN + f\"\\t{_pep},\\n\" + RESET\n",
    "            else:\n",
    "                annotate_seq += f\"\\t{_pep},\\n\"\n",
    "\n",
    "    print(annotate_seq)\n",
    "\n",
    "\n",
    "#     display(_data)\n",
    "\n",
    "\n",
    "w_out = w.interactive_output(show_sequences, {\"prot_id\": w_proteins_ids})\n",
    "\n",
    "panel_levels = w.VBox(\n",
    "    [w.HBox([w_first_letter, w_genes, w_protein, w_proteins_ids]), w_out]\n",
    ")\n",
    "panel_levels"
   ]
  },
  {
   "cell_type": "markdown",
   "metadata": {},
   "source": [
    "- `gene` `->` `Protein_ID` (contains information of `gene` `->` `protein_isotopes`\n",
    "- `protein_ID` `->` `sequences` (`FN_FASTA_DB`)"
   ]
  },
  {
   "cell_type": "code",
   "execution_count": null,
   "metadata": {},
   "outputs": [],
   "source": [
    "# from pprint import pprint\n",
    "# from vaep.utils import sample_iterable\n",
    "# for _protein_ID in sample_iterable(data_fasta.keys(), n=1):\n",
    "#     pprint({_protein_ID: data_fasta[_protein_ID]})"
   ]
  },
  {
   "cell_type": "markdown",
   "metadata": {},
   "source": [
    "## Connect to experimental peptide data"
   ]
  },
  {
   "cell_type": "code",
   "execution_count": null,
   "metadata": {},
   "outputs": [],
   "source": [
    "from tqdm.notebook import tqdm\n",
    "\n",
    "counts_observed_by_missed_cleavages = {}\n",
    "for _protein_id, _data in tqdm(data_fasta.items()):\n",
    "    _peptides = _data[KEY_PEPTIDES]\n",
    "    _counts = {}\n",
    "    for i, _l in enumerate(_peptides):\n",
    "        _counts[i] = 0\n",
    "        for _pep in _l:\n",
    "            if _pep in set_peptides:\n",
    "                _counts[i] += 1\n",
    "    counts_observed_by_missed_cleavages[_protein_id] = _counts"
   ]
  },
  {
   "cell_type": "code",
   "execution_count": null,
   "metadata": {},
   "outputs": [],
   "source": [
    "df_counts_observed_by_missed_cleavages = pd.DataFrame(\n",
    "    counts_observed_by_missed_cleavages\n",
    ").T"
   ]
  },
  {
   "cell_type": "code",
   "execution_count": null,
   "metadata": {},
   "outputs": [],
   "source": [
    "import matplotlib.pyplot as plt\n",
    "from matplotlib import table\n",
    "\n",
    "fig, axes = plt.subplots(ncols=2, gridspec_kw={\"width_ratios\": [5, 1], \"wspace\": 0.2}, figsize=(10,4))\n",
    "\n",
    "_counts_summed = df_counts_observed_by_missed_cleavages.sum()\n",
    "_counts_summed.name = \"frequency\"\n",
    "\n",
    "ax = axes[0]\n",
    "_ = _counts_summed.plot(kind=\"bar\", ax=ax)\n",
    "ax.set_xlabel(\"peptides from n miscleavages\")\n",
    "ax.set_ylabel(\"frequency\")\n",
    "\n",
    "ax = axes[1]\n",
    "ax.axis(\"off\")\n",
    "_ = pd.plotting.table(ax=ax, data=_counts_summed, loc=\"best\", colWidths=[1], edges='open')\n",
    "_ = fig.suptitle('Peptides frequencies')"
   ]
  },
  {
   "cell_type": "code",
   "execution_count": null,
   "metadata": {},
   "outputs": [],
   "source": [
    "mask = df_counts_observed_by_missed_cleavages != 0\n",
    "df_prot_observed = df_counts_observed_by_missed_cleavages.replace(0, pd.NA)"
   ]
  },
  {
   "cell_type": "code",
   "execution_count": null,
   "metadata": {},
   "outputs": [],
   "source": [
    "df_prot_observed = df_prot_observed.dropna(axis=0, how=\"all\")\n",
    "df_prot_observed = df_prot_observed.fillna(0)\n",
    "df_prot_observed = df_prot_observed.convert_dtypes()"
   ]
  },
  {
   "cell_type": "code",
   "execution_count": null,
   "metadata": {},
   "outputs": [],
   "source": [
    "from vaep.pandas import combine_value_counts\n",
    "\n",
    "combine_value_counts(df_prot_observed)"
   ]
  },
  {
   "cell_type": "code",
   "execution_count": null,
   "metadata": {},
   "outputs": [],
   "source": [
    "freq_pep_mapped_to_protID = df_prot_observed.sum(axis=1).value_counts()\n",
    "freq_pep_mapped_to_protID = freq_pep_mapped_to_protID.sort_index()"
   ]
  }
 ],
 "metadata": {
  "kernelspec": {
   "display_name": "vaep",
   "language": "python",
   "name": "vaep"
  },
  "language_info": {
   "codemirror_mode": {
    "name": "ipython",
    "version": 3
   },
   "file_extension": ".py",
   "mimetype": "text/x-python",
   "name": "python",
   "nbconvert_exporter": "python",
   "pygments_lexer": "ipython3",
   "version": "3.8.5"
  }
 },
 "nbformat": 4,
 "nbformat_minor": 4
}
