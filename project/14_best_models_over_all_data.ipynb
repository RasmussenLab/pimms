{
 "cells": [
  {
   "cell_type": "markdown",
   "id": "e5a0f3cf-c331-4f02-ab04-84827cd4c872",
   "metadata": {},
   "source": [
    "# Best model over datasets"
   ]
  },
  {
   "cell_type": "code",
   "execution_count": null,
   "id": "dbabc1a9-6ede-4538-9998-6a821be076d7",
   "metadata": {},
   "outputs": [],
   "source": [
    "from pathlib import Path\n",
    "import pandas as pd\n",
    "import matplotlib.pyplot as plt\n",
    "import plotly.express as px\n",
    "\n",
    "import vaep.plotting\n",
    "\n",
    "# import vaep.plotting.plotly\n",
    "\n",
    "import vaep.nb\n",
    "plt.rcParams['figure.figsize'] = [16.0, 7.0]\n",
    "\n",
    "vaep.plotting.make_large_descriptors()"
   ]
  },
  {
   "cell_type": "code",
   "execution_count": null,
   "id": "ee3d67f4-7734-46fd-892f-8fc29f529d10",
   "metadata": {},
   "outputs": [],
   "source": [
    "metrics_long = []\n",
    "\n",
    "for fname in snakemake.input:\n",
    "    print(f\"{fname = }\")\n",
    "    fname = Path(fname)\n",
    "    level = fname.parent.name\n",
    "\n",
    "    _df = pd.read_csv(fname)\n",
    "    _df['data level'] = level\n",
    "\n",
    "    metrics_long.append(_df)\n",
    "    del _df\n",
    "metrics_long = pd.concat(metrics_long)\n",
    "metrics_long['id'] = metrics_long['data level'] + metrics_long['id'].str[3:]\n",
    "metrics_long = metrics_long.set_index('id')\n",
    "metrics_long"
   ]
  },
  {
   "cell_type": "code",
   "execution_count": null,
   "id": "231f1cc9-ed4f-42d1-8d3c-b857917d6c97",
   "metadata": {},
   "outputs": [],
   "source": [
    "FOLDER = fname.parent.parent\n",
    "print(f\"{FOLDER =}\")"
   ]
  },
  {
   "cell_type": "code",
   "execution_count": null,
   "id": "aa40341f-48c0-4c3f-a3b5-2991292f6e00",
   "metadata": {},
   "outputs": [],
   "source": [
    "metrics_long['hidden_layers'] = metrics_long['hidden_layers'].fillna('-')\n",
    "metrics_long['text'] = 'LD: ' + metrics_long['latent_dim'].astype(str) + ' HL: ' + metrics_long['hidden_layers']\n",
    "metrics_long.loc[metrics_long['model'].isin(['interpolated', 'median']), 'text'] = '-'\n",
    "\n",
    "metrics_long[['latent_dim', 'hidden_layers', 'model', 'text', ]]"
   ]
  },
  {
   "cell_type": "code",
   "execution_count": null,
   "id": "accc970f-52f5-49ef-9067-3845b0c9d5ec",
   "metadata": {},
   "outputs": [],
   "source": [
    "group_by = ['data level', 'data_split', 'subset', 'metric_name', 'model']\n",
    "\n",
    "order_categories = {'data level': ['proteinGroups', 'aggPeptides', 'evidence'],\n",
    "                    'model': ['median', 'interpolated', 'collab', 'DAE', 'VAE']}\n",
    "IDX_ORDER = (['proteinGroups', 'aggPeptides', 'evidence'],\n",
    "             ['median', 'interpolated', 'collab', 'DAE', 'VAE'])\n",
    "METRIC = 'MAE'"
   ]
  },
  {
   "cell_type": "code",
   "execution_count": null,
   "id": "0843c10e-21db-4e24-8769-181eb6c43fc8",
   "metadata": {},
   "outputs": [],
   "source": [
    "# dataset = 'valid_fake_na'\n",
    "\n",
    "selected = metrics_long.reset_index(\n",
    "    ).groupby(by=group_by\n",
    "              ).apply(lambda df: df.sort_values(by='metric_value').iloc[0])\n",
    "selected"
   ]
  },
  {
   "cell_type": "code",
   "execution_count": null,
   "id": "faf8f1a6-793b-473e-94ed-dde10b8dade9",
   "metadata": {},
   "outputs": [],
   "source": [
    "_to_plot = selected.droplevel(['data level', 'model']).loc[[('valid_fake_na', 'NA interpolated', METRIC), ]]\n",
    "_to_plot = _to_plot.set_index(['data level', 'model'])['metric_value'].unstack()\n",
    "_to_plot = _to_plot.loc[IDX_ORDER]\n",
    "_to_plot.index.name = ''\n",
    "_to_plot"
   ]
  },
  {
   "cell_type": "code",
   "execution_count": null,
   "id": "d27c680a-1634-4b07-9e5b-635320c107b4",
   "metadata": {},
   "outputs": [],
   "source": [
    "ax = _to_plot.plot.bar(rot=90, ylabel=METRIC)"
   ]
  },
  {
   "cell_type": "code",
   "execution_count": null,
   "id": "e2fc9649-333e-4299-8e2e-6beb3e229589",
   "metadata": {},
   "outputs": [],
   "source": [
    "_to_plot = selected.droplevel(['data level', 'model']).loc[[('valid_fake_na', 'NA interpolated', METRIC), ]]\n",
    "_to_plot = _to_plot.set_index(['data level', 'model'])[\n",
    "                              ['metric_value', 'latent_dim', 'hidden_layers', 'text']].fillna('-')\n",
    "\n",
    "# _to_plot['text'] = 'LD: ' + _to_plot['latent_dim'].astype(str) + ' HL: ' + _to_plot['hidden_layers']\n",
    "# _to_plot.loc[pd.IndexSlice[:, ['interpolated', 'median']], 'text'] = ''\n",
    "\n",
    "_to_plot = _to_plot.loc[pd.IndexSlice[IDX_ORDER], :]\n",
    "_to_plot"
   ]
  },
  {
   "cell_type": "code",
   "execution_count": null,
   "id": "3b262a58-30b1-4cfe-b94f-69005d41cf40",
   "metadata": {},
   "outputs": [],
   "source": [
    "px.bar(_to_plot.reset_index(),\n",
    "       x='data level',\n",
    "       y='metric_value',\n",
    "       color='model',\n",
    "       barmode=\"group\",\n",
    "       text='text',\n",
    "       category_orders=order_categories,\n",
    "       height=600)"
   ]
  },
  {
   "cell_type": "markdown",
   "id": "3db95765-f5fa-4f6c-86b5-afb8226f8cb6",
   "metadata": {},
   "source": [
    "## Order by best model setup over all datasets"
   ]
  },
  {
   "cell_type": "code",
   "execution_count": null,
   "id": "c01b7c76-712c-40b8-b8a1-199bea1b6af8",
   "metadata": {},
   "outputs": [],
   "source": [
    "group_by = ['model', 'latent_dim', 'hidden_layers']\n",
    "\n",
    "best = metrics_long.query('data_split == \"valid_fake_na\"'\n",
    "                          ' & subset == \"NA interpolated\"'\n",
    "                          f' & metric_name == \"{METRIC}\"').reset_index(\n",
    "    ).groupby(by=group_by\n",
    "              )['metric_value'].mean()\n",
    "best"
   ]
  },
  {
   "cell_type": "code",
   "execution_count": null,
   "id": "a2e34eb6-d589-4262-9386-9de271ecb5a2",
   "metadata": {},
   "outputs": [],
   "source": [
    "best.loc['collab']"
   ]
  },
  {
   "cell_type": "code",
   "execution_count": null,
   "id": "1974943b-8216-45a7-9140-a281eda32e5b",
   "metadata": {},
   "outputs": [],
   "source": [
    "best = best.reset_index(level=group_by[1:]).groupby(group_by[0]).min().set_index(group_by[1:], append=True)\n",
    "best"
   ]
  },
  {
   "cell_type": "code",
   "execution_count": null,
   "id": "cc9f7c57-5ce7-4a14-b518-ce532a667c4a",
   "metadata": {},
   "outputs": [],
   "source": [
    "to_plot = metrics_long.query('data_split == \"valid_fake_na\"'\n",
    "                             ' & subset == \"NA interpolated\"'\n",
    "                             f' & metric_name == \"{METRIC}\"').reset_index().set_index(group_by).loc[best.index].reset_index().set_index(['model', 'data level']).loc[\n",
    "    pd.IndexSlice[order_categories['model'], order_categories['data level']], :]\n",
    "to_plot"
   ]
  },
  {
   "cell_type": "code",
   "execution_count": null,
   "id": "db0a4152-ce03-4854-8a2a-59f3fb40e394",
   "metadata": {},
   "outputs": [],
   "source": [
    "to_plot = to_plot.reset_index()\n",
    "to_plot['model annotated'] = to_plot['model'] + ' - ' + to_plot['text']\n",
    "order_model = to_plot['model annotated'].drop_duplicates().to_list()\n",
    "# to_plot = to_plot.set_index(['model annotated', 'data level'])\n",
    "# to_plot = to_plot['metric_value'].unstack().loc[order_model, order_categories['data level']]\n",
    "to_plot"
   ]
  },
  {
   "cell_type": "code",
   "execution_count": null,
   "id": "2f39a9a0-98ca-4d44-b900-62a8d6777db8",
   "metadata": {},
   "outputs": [],
   "source": [
    "ax = (to_plot\n",
    "      .set_index(['model annotated', 'data level'])['metric_value']\n",
    "      .unstack()\n",
    "      .loc[order_model, order_categories['data level']]\n",
    "      .plot.bar(\n",
    "          xlabel=\"model with overall best performance for all datasets\",\n",
    "          rot=45)\n",
    "      )"
   ]
  },
  {
   "cell_type": "code",
   "execution_count": null,
   "id": "d31f39fb-a7a0-4573-8833-3c16efe8f17e",
   "metadata": {},
   "outputs": [],
   "source": [
    "# ToDo\n",
    "# plot with annotation\n",
    "fig = px.bar(to_plot,\n",
    "             x='model',\n",
    "             y='metric_value',\n",
    "             color='data level',\n",
    "             barmode=\"group\",\n",
    "             text='text',\n",
    "             category_orders=order_categories,\n",
    "             height=600)"
   ]
  },
  {
   "cell_type": "code",
   "execution_count": null,
   "id": "c3ddff80-8990-4b9c-875c-4e4e9047a998",
   "metadata": {},
   "outputs": [],
   "source": [
    "fig.write_image(FOLDER / 'best_models_over_all_data.pdf')"
   ]
  }
 ],
 "metadata": {
  "jupytext": {
   "formats": "ipynb,py:percent"
  },
  "kernelspec": {
   "display_name": "vaep",
   "language": "python",
   "name": "vaep"
  },
  "language_info": {
   "codemirror_mode": {
    "name": "ipython",
    "version": 3
   },
   "file_extension": ".py",
   "mimetype": "text/x-python",
   "name": "python",
   "nbconvert_exporter": "python",
   "pygments_lexer": "ipython3",
   "version": "3.8.13"
  }
 },
 "nbformat": 4,
 "nbformat_minor": 5
}
