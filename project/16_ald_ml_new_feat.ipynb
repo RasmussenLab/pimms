{
 "cells": [
  {
   "cell_type": "markdown",
   "id": "9acfeaca-5f8c-42f3-9a8e-83ed737eb35c",
   "metadata": {},
   "source": [
    "# Compare outcomes from differential analysis based on different imputation methods\n",
    "\n",
    "- load scores based on `16_ald_diff_analysis`"
   ]
  },
  {
   "cell_type": "code",
   "execution_count": null,
   "id": "eec6f931-c04d-428c-b2b1-0424c50e6cd2",
   "metadata": {},
   "outputs": [],
   "source": [
    "from pathlib import Path\n",
    "\n",
    "import matplotlib.pyplot as plt\n",
    "import pandas as pd\n",
    "import seaborn as sns\n",
    "import sklearn\n",
    "\n",
    "import vaep\n",
    "import vaep.analyzers\n",
    "import vaep.imputation\n",
    "import vaep.io.datasplits\n",
    "\n",
    "\n",
    "import vaep.sklearn\n",
    "from vaep.sklearn.types import Splits\n",
    "from vaep.plotting.metrics import plot_split_auc, plot_split_prc\n",
    "\n",
    "\n",
    "logger = vaep.logging.setup_nb_logger()"
   ]
  },
  {
   "cell_type": "code",
   "execution_count": null,
   "id": "f4bf65da-0569-4a21-ba20-9cae7d3679e7",
   "metadata": {},
   "outputs": [],
   "source": [
    "# catch passed parameters\n",
    "args = None\n",
    "args = dict(globals()).keys()"
   ]
  },
  {
   "cell_type": "markdown",
   "id": "22c645fc-c7eb-4c69-a7aa-084fc733258f",
   "metadata": {},
   "source": [
    "## Parameters"
   ]
  },
  {
   "cell_type": "code",
   "execution_count": null,
   "id": "978876d0-b3cc-4847-8eab-dc0b89ddbbcd",
   "metadata": {
    "tags": [
     "parameters"
    ]
   },
   "outputs": [],
   "source": [
    "folder_experiment = \"runs/appl_ald_data/plasma/proteinGroups\"\n",
    "folder_data: str = ''  # specify data directory if needed\n",
    "fn_clinical_data = \"data/single_datasets/ald_metadata_cli.csv\"\n",
    "\n",
    "folder_experiment = \"runs/appl_ald_data/plasma/proteinGroups\"\n",
    "model_key = 'vae'\n",
    "target = 'kleiner'\n",
    "sample_id_col = 'Sample ID'\n",
    "cutoff_target:int = 2 # => for binarization target >= cutoff_target\n",
    "file_format = \"pkl\"\n",
    "out_folder='diff_analysis'"
   ]
  },
  {
   "cell_type": "code",
   "execution_count": null,
   "id": "a8016d79-e41a-40a2-bcbf-e11711c33b7d",
   "metadata": {},
   "outputs": [],
   "source": [
    "params = vaep.nb.get_params(args, globals=globals())\n",
    "params"
   ]
  },
  {
   "cell_type": "code",
   "execution_count": null,
   "id": "5ded6640-99aa-4759-a8ef-b67029f22766",
   "metadata": {},
   "outputs": [],
   "source": [
    "args = vaep.nb.Config()\n",
    "args.folder_experiment = Path(params[\"folder_experiment\"])\n",
    "args = vaep.nb.add_default_paths(args, out_root=args.folder_experiment/params[\"out_folder\"]/params[\"target\"]/params[\"model_key\"])\n",
    "args.update_from_dict(params)\n",
    "args"
   ]
  },
  {
   "cell_type": "markdown",
   "id": "ca55c85c-a4f7-483b-a738-61b914997c28",
   "metadata": {},
   "source": [
    "## Load new features"
   ]
  },
  {
   "cell_type": "code",
   "execution_count": null,
   "id": "5ea3d45d-1415-4709-b63b-3a82ae115828",
   "metadata": {
    "tags": []
   },
   "outputs": [],
   "source": [
    "target = pd.read_csv(args.fn_clinical_data, index_col=0, usecols=[args.sample_id_col, args.target])\n",
    "target = target.dropna()\n",
    "target"
   ]
  },
  {
   "cell_type": "code",
   "execution_count": null,
   "id": "8eaaad5a-254b-48f1-9251-a8ba37fad59f",
   "metadata": {},
   "outputs": [],
   "source": [
    "data = vaep.io.datasplits.DataSplits.from_folder(\n",
    "    args.data, file_format=args.file_format)\n",
    "data = pd.concat([data.train_X, data.val_y, data.test_y])\n",
    "# data.loc[df_clinic.index]"
   ]
  },
  {
   "cell_type": "code",
   "execution_count": null,
   "id": "0b8812c9-75ab-42ea-b28b-c963a24c44f3",
   "metadata": {},
   "outputs": [],
   "source": [
    "in_both = data.index.levels[0].intersection(target.index)\n",
    "assert not in_both.empty, f\"No shared indices: {data.index.levels[0]} and {target.index}\"\n",
    "print(f\"Samples available both in proteomics data and for target: {len(in_both)}\")\n",
    "target, data = target.loc[in_both], data.loc[in_both]"
   ]
  },
  {
   "cell_type": "code",
   "execution_count": null,
   "id": "e7dc0b85-470c-4492-aa8e-982c49f9265f",
   "metadata": {},
   "outputs": [],
   "source": [
    "DATA_COMPLETENESS = 0.6\n",
    "MIN_N_PROTEIN_GROUPS: int = 200\n",
    "FRAC_PROTEIN_GROUPS: int = 0.622\n",
    "\n",
    "ald_study, cutoffs = vaep.analyzers.diff_analysis.select_raw_data(data.unstack(\n",
    "), data_completeness=DATA_COMPLETENESS, frac_protein_groups=FRAC_PROTEIN_GROUPS)\n",
    "\n",
    "ald_study"
   ]
  },
  {
   "cell_type": "code",
   "execution_count": null,
   "id": "c9883f9b-6a00-4e7e-86ce-fa6c5ea24e8c",
   "metadata": {},
   "outputs": [],
   "source": [
    "template = 'pred_real_na_{}.csv'\n",
    "fname = args.out_preds / template.format(args.model_key)\n",
    "print(f\"REAL NA pred. by {args.model_key}: {fname}\")\n",
    "pred_real_na = vaep.analyzers.compare_predictions.load_single_csv_pred_file(fname).loc[in_both]\n",
    "pred_real_na.sample(3)"
   ]
  },
  {
   "cell_type": "code",
   "execution_count": null,
   "id": "ab0a7e68-1eb7-4258-8e9b-d9e0b5c7a9ed",
   "metadata": {},
   "outputs": [],
   "source": [
    "pred_real_na_imputed_normal = vaep.imputation.impute_shifted_normal(ald_study)"
   ]
  },
  {
   "cell_type": "markdown",
   "id": "67351de6-ed9e-45b7-8521-e97a3b00f600",
   "metadata": {},
   "source": [
    "# Model predictions\n",
    "\n",
    "General approach:\n",
    "  - use one train, test split of the data\n",
    "  - select best 10 features from training data `X_train`, `y_train` before binarization of target\n",
    "  - dichotomize (binarize) data into to groups (zero and 1)\n",
    "  - evaluate model on the test data `X_test`, `y_test`\n",
    " \n",
    "Repeat general approach for\n",
    " 1. all original ald data: all features justed in original ALD study\n",
    " 2. all model data: all features available my using the self supervised deep learning model\n",
    " 3. newly available feat only: the subset of features available from the self supervised deep learning model which were newly retained using the new approach"
   ]
  },
  {
   "cell_type": "code",
   "execution_count": null,
   "id": "fe560f12-fd1f-424c-9f38-92597aa7a380",
   "metadata": {},
   "outputs": [],
   "source": [
    "X = pd.concat([data, pred_real_na]).unstack()\n",
    "X"
   ]
  },
  {
   "cell_type": "code",
   "execution_count": null,
   "id": "0aaa164a-eabf-4784-aba6-69f2634ff74b",
   "metadata": {},
   "outputs": [],
   "source": [
    "ald_study = pd.concat([ald_study.stack(), pred_real_na_imputed_normal]).unstack()\n",
    "ald_study"
   ]
  },
  {
   "cell_type": "code",
   "execution_count": null,
   "id": "457accae-785c-4ec6-96c0-9708a6cf7449",
   "metadata": {},
   "outputs": [],
   "source": [
    "new_features = X.columns.difference(ald_study.columns)\n",
    "new_features"
   ]
  },
  {
   "cell_type": "markdown",
   "id": "f5b95a9a-ec90-47f0-962b-a276057c6dc9",
   "metadata": {},
   "source": [
    "## Train, test split"
   ]
  },
  {
   "cell_type": "code",
   "execution_count": null,
   "id": "36243e4a-9a2f-4198-aa1c-7619b058bdae",
   "metadata": {},
   "outputs": [],
   "source": [
    "X_train, X_test, y_train, y_test = sklearn.model_selection.train_test_split(X, target, stratify=target, random_state=42)\n",
    "idx_train = X_train.index\n",
    "idx_test = X_test.index"
   ]
  },
  {
   "cell_type": "code",
   "execution_count": null,
   "id": "8d528624-6d12-4f18-a695-bf294ac50a7e",
   "metadata": {},
   "outputs": [],
   "source": [
    "vaep.pandas.combine_value_counts(pd.concat([y_train, y_test], axis=1, ignore_index=True\n",
    "                                           ).rename(columns={0: 'train', 1: 'test'})\n",
    "                                 )"
   ]
  },
  {
   "cell_type": "markdown",
   "id": "078d7920-aa48-41e9-a609-b3b3b225938f",
   "metadata": {},
   "source": [
    "Binarize targets (stay the same for all three configurations of data to be tested)"
   ]
  },
  {
   "cell_type": "code",
   "execution_count": null,
   "id": "95b6a152-11b9-4822-87b8-c1d5e915a159",
   "metadata": {},
   "outputs": [],
   "source": [
    "y_train = y_train >= args.cutoff_target\n",
    "y_test = y_test >= args.cutoff_target"
   ]
  },
  {
   "cell_type": "code",
   "execution_count": null,
   "id": "acd5ca9d-6852-4904-a7aa-e3ef53cd9500",
   "metadata": {},
   "outputs": [],
   "source": [
    "vaep.pandas.combine_value_counts(pd.concat([y_train, y_test], axis=1, ignore_index=True\n",
    "                                           ).rename(columns={0: 'train', 1: 'test'})\n",
    "                                 )"
   ]
  },
  {
   "cell_type": "markdown",
   "id": "95b612e3-590d-4579-9e74-935b86387438",
   "metadata": {},
   "source": [
    "## Results\n",
    "\n",
    "- `run_model` returns dataclasses with the further needed results"
   ]
  },
  {
   "cell_type": "code",
   "execution_count": null,
   "id": "ac46dd73-1d83-4fde-911a-d5c28ed67cfd",
   "metadata": {},
   "outputs": [],
   "source": [
    "splits = Splits(X_train=X.loc[idx_train], X_test=X.loc[idx_test], y_train=y_train, y_test=y_test)\n",
    "results_model_full = vaep.sklearn.run_model(splits)\n",
    "results_model_full.name = f'{args.model_key} all'"
   ]
  },
  {
   "cell_type": "code",
   "execution_count": null,
   "id": "b3867ac0-ab8b-4ebf-9f93-7534df3657b1",
   "metadata": {},
   "outputs": [],
   "source": [
    "splits = Splits(X_train=X.loc[idx_train, new_features], X_test=X.loc[idx_test, new_features], y_train=y_train, y_test=y_test)\n",
    "results_model_new = vaep.sklearn.run_model(splits)\n",
    "results_model_new.name = f'{args.model_key} new'"
   ]
  },
  {
   "cell_type": "code",
   "execution_count": null,
   "id": "d9781182-c6f2-40ce-992a-2d948c3e6a92",
   "metadata": {},
   "outputs": [],
   "source": [
    "splits_ald = Splits(X_train=ald_study.loc[idx_train], X_test=ald_study.loc[idx_test], y_train=y_train, y_test=y_test)\n",
    "results_ald_full = vaep.sklearn.run_model(splits_ald)\n",
    "results_ald_full.name = 'ALD study all'"
   ]
  },
  {
   "cell_type": "markdown",
   "id": "76273279-52b7-4777-bce8-68d12d2ce322",
   "metadata": {},
   "source": [
    "- plot X_train PCA, map X_test"
   ]
  },
  {
   "cell_type": "code",
   "execution_count": null,
   "id": "c25c347b-193a-411d-a273-47727e545519",
   "metadata": {},
   "outputs": [],
   "source": [
    "figsize=(10,7)\n",
    "fig, ax = plt.subplots(1,1, figsize=figsize)\n",
    "plot_split_auc(results_ald_full.test, results_ald_full.name, ax)\n",
    "plot_split_auc(results_model_full.test, results_model_full.name, ax)\n",
    "plot_split_auc(results_model_new.test, results_model_new.name, ax)\n",
    "vaep.savefig(fig, name='auc_roc_curve', folder=args.out_folder)"
   ]
  },
  {
   "cell_type": "code",
   "execution_count": null,
   "id": "48106be7-8ed2-40a4-b9cf-ae24b7048b9a",
   "metadata": {},
   "outputs": [],
   "source": [
    "selected_features = pd.DataFrame([results_ald_full.selected_features, results_model_full.selected_features, results_model_new.selected_features], index=[results_ald_full.name, results_model_full.name, results_model_new.name]).T\n",
    "selected_features.index.name = 'rank'\n",
    "selected_features.to_excel(args.out_folder / 'mrmr_feat_by_model.xlsx')\n",
    "selected_features"
   ]
  },
  {
   "cell_type": "code",
   "execution_count": null,
   "id": "75e1ae68-5638-45c2-8fd9-4ec87d54e573",
   "metadata": {},
   "outputs": [],
   "source": [
    "col_name = f'full model (auc: {results_model_full.test.auc:.3f})'\n",
    "roc = pd.DataFrame(results_model_full.test.roc, index='fpr tpr cutoffs'.split()).rename({'tpr': col_name})\n",
    "ax = roc.T.plot('fpr', col_name, ylabel='tpr', ax=ax)"
   ]
  },
  {
   "cell_type": "code",
   "execution_count": null,
   "id": "01e08ee4-24b4-4548-a961-ddb162fb9f51",
   "metadata": {},
   "outputs": [],
   "source": [
    "fig, ax = plt.subplots(1,1, figsize=figsize)\n",
    "\n",
    "ax = plot_split_prc(results_ald_full.test, results_ald_full.name, ax)\n",
    "ax = plot_split_prc(results_model_full.test, results_model_full.name, ax)\n",
    "ax = plot_split_prc(results_model_new.test, results_model_new.name, ax)\n",
    "vaep.savefig(fig, name='prec_recall_curve', folder=args.out_folder)"
   ]
  }
 ],
 "metadata": {
  "kernelspec": {
   "display_name": "Python 3",
   "language": "python",
   "name": "python3"
  },
  "language_info": {
   "codemirror_mode": {
    "name": "ipython",
    "version": 3
   },
   "file_extension": ".py",
   "mimetype": "text/x-python",
   "name": "python",
   "nbconvert_exporter": "python",
   "pygments_lexer": "ipython3",
   "version": "3.8.13"
  }
 },
 "nbformat": 4,
 "nbformat_minor": 5
}
