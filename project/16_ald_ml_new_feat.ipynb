{
 "cells": [
  {
   "cell_type": "markdown",
   "id": "d5f8edbd",
   "metadata": {},
   "source": [
    "# Compare outcomes from differential analysis based on different imputation methods\n",
    "\n",
    "- load scores based on `16_ald_diff_analysis`"
   ]
  },
  {
   "cell_type": "code",
   "execution_count": null,
   "id": "8d8c6764",
   "metadata": {},
   "outputs": [],
   "source": [
    "from pathlib import Path\n",
    "\n",
    "import matplotlib.pyplot as plt\n",
    "import pandas as pd\n",
    "import seaborn as sns\n",
    "import sklearn\n",
    "\n",
    "import vaep\n",
    "import vaep.analyzers\n",
    "import vaep.imputation\n",
    "import vaep.io.datasplits\n",
    "\n",
    "\n",
    "import vaep.sklearn\n",
    "from vaep.sklearn.types import Splits\n",
    "from vaep.plotting.metrics import plot_split_auc, plot_split_prc\n",
    "\n",
    "\n",
    "logger = vaep.logging.setup_nb_logger()"
   ]
  },
  {
   "cell_type": "code",
   "execution_count": null,
   "id": "61a7353e",
   "metadata": {},
   "outputs": [],
   "source": [
    "# catch passed parameters\n",
    "args = None\n",
    "args = dict(globals()).keys()"
   ]
  },
  {
   "cell_type": "markdown",
   "id": "139c9ae8",
   "metadata": {},
   "source": [
    "## Parameters"
   ]
  },
  {
   "cell_type": "code",
   "execution_count": null,
   "id": "443cd83d",
   "metadata": {
    "tags": [
     "parameters"
    ]
   },
   "outputs": [],
   "source": [
    "folder_data: str = ''  # specify data directory if needed\n",
    "fn_clinical_data = \"data/ALD_study/processed/ald_metadata_cli.csv\"\n",
    "folder_experiment = \"runs/appl_ald_data/plasma/proteinGroups\"\n",
    "model_key = 'vae'\n",
    "target = 'kleiner'\n",
    "sample_id_col = 'Sample ID'\n",
    "cutoff_target:int = 2 # => for binarization target >= cutoff_target\n",
    "file_format = \"pkl\"\n",
    "out_folder='diff_analysis'\n",
    "fn_qc_samples = 'data/ALD_study/processed/qc_plasma_proteinGroups.pkl'"
   ]
  },
  {
   "cell_type": "code",
   "execution_count": null,
   "id": "13538b85",
   "metadata": {},
   "outputs": [],
   "source": [
    "params = vaep.nb.get_params(args, globals=globals())\n",
    "params"
   ]
  },
  {
   "cell_type": "code",
   "execution_count": null,
   "id": "92a4a7c0",
   "metadata": {},
   "outputs": [],
   "source": [
    "args = vaep.nb.Config()\n",
    "args.folder_experiment = Path(params[\"folder_experiment\"])\n",
    "args = vaep.nb.add_default_paths(args, out_root=args.folder_experiment/params[\"out_folder\"]/params[\"target\"]/params[\"model_key\"])\n",
    "args.update_from_dict(params)\n",
    "args"
   ]
  },
  {
   "cell_type": "markdown",
   "id": "07fb7cc9",
   "metadata": {},
   "source": [
    "## Load target"
   ]
  },
  {
   "cell_type": "code",
   "execution_count": null,
   "id": "09ba8ea3",
   "metadata": {
    "tags": []
   },
   "outputs": [],
   "source": [
    "target = pd.read_csv(args.fn_clinical_data, index_col=0, usecols=[args.sample_id_col, args.target])\n",
    "target = target.dropna()\n",
    "target"
   ]
  },
  {
   "cell_type": "markdown",
   "id": "02bbf2a2",
   "metadata": {},
   "source": [
    "### Measured data"
   ]
  },
  {
   "cell_type": "code",
   "execution_count": null,
   "id": "f4cd6005",
   "metadata": {},
   "outputs": [],
   "source": [
    "data = vaep.io.datasplits.DataSplits.from_folder(\n",
    "    args.data, file_format=args.file_format)\n",
    "data = pd.concat([data.train_X, data.val_y, data.test_y])\n",
    "data.sample(5)"
   ]
  },
  {
   "cell_type": "markdown",
   "id": "ac6b446e",
   "metadata": {},
   "source": [
    "Get overlap between independent features and target"
   ]
  },
  {
   "cell_type": "code",
   "execution_count": null,
   "id": "be8327f3",
   "metadata": {},
   "outputs": [],
   "source": [
    "in_both = data.index.levels[0].intersection(target.index)\n",
    "assert not in_both.empty, f\"No shared indices: {data.index.levels[0]} and {target.index}\"\n",
    "print(f\"Samples available both in proteomics data and for target: {len(in_both)}\")\n",
    "target, data = target.loc[in_both], data.loc[in_both]"
   ]
  },
  {
   "cell_type": "markdown",
   "id": "c79ad218",
   "metadata": {},
   "source": [
    "### Load ALD data or create"
   ]
  },
  {
   "cell_type": "code",
   "execution_count": null,
   "id": "3038462c",
   "metadata": {},
   "outputs": [],
   "source": [
    "DATA_COMPLETENESS = 0.6\n",
    "MIN_N_PROTEIN_GROUPS: int = 200\n",
    "FRAC_PROTEIN_GROUPS: int = 0.622\n",
    "CV_QC_SAMPLE: float = 0.4\n",
    "\n",
    "ald_study, cutoffs = vaep.analyzers.diff_analysis.select_raw_data(data.unstack(\n",
    "), data_completeness=DATA_COMPLETENESS, frac_protein_groups=FRAC_PROTEIN_GROUPS)\n",
    "\n",
    "if args.fn_qc_samples:\n",
    "    qc_samples = pd.read_pickle(args.fn_qc_samples)\n",
    "    qc_samples = qc_samples[ald_study.columns]\n",
    "    qc_cv_feat = qc_samples.std() / qc_samples.mean()\n",
    "    qc_cv_feat = qc_cv_feat.rename(qc_samples.columns.name)\n",
    "    fig, ax = plt.subplots(figsize=(4,7))\n",
    "    ax = qc_cv_feat.plot.box(ax=ax)\n",
    "    ax.set_ylabel('Coefficient of Variation')\n",
    "    print((qc_cv_feat < CV_QC_SAMPLE).value_counts())\n",
    "    ald_study = ald_study[vaep.analyzers.diff_analysis.select_feat(qc_samples)]\n",
    "\n",
    "column_name_first_prot_to_pg = {pg.split(';')[0]: pg for pg in data.unstack().columns}\n",
    "\n",
    "ald_study = ald_study.rename(columns=column_name_first_prot_to_pg)\n",
    "ald_study"
   ]
  },
  {
   "cell_type": "markdown",
   "id": "fcc05bf5",
   "metadata": {},
   "source": [
    "### Load semi-supervised model imputations"
   ]
  },
  {
   "cell_type": "code",
   "execution_count": null,
   "id": "5f072d5f",
   "metadata": {},
   "outputs": [],
   "source": [
    "template = 'pred_real_na_{}.csv'\n",
    "fname = args.out_preds / template.format(args.model_key)\n",
    "print(f\"missing values pred. by {args.model_key}: {fname}\")\n",
    "pred_real_na = vaep.analyzers.compare_predictions.load_single_csv_pred_file(fname).loc[in_both]\n",
    "pred_real_na.sample(3)"
   ]
  },
  {
   "cell_type": "code",
   "execution_count": null,
   "id": "0f2dd584",
   "metadata": {},
   "outputs": [],
   "source": [
    "pred_real_na_imputed_normal = vaep.imputation.impute_shifted_normal(ald_study)\n",
    "pred_real_na_imputed_normal"
   ]
  },
  {
   "cell_type": "markdown",
   "id": "8fa21c8b",
   "metadata": {},
   "source": [
    "# Model predictions\n",
    "\n",
    "General approach:\n",
    "  - use one train, test split of the data\n",
    "  - select best 10 features from training data `X_train`, `y_train` before binarization of target\n",
    "  - dichotomize (binarize) data into to groups (zero and 1)\n",
    "  - evaluate model on the test data `X_test`, `y_test`\n",
    " \n",
    "Repeat general approach for\n",
    " 1. all original ald data: all features justed in original ALD study\n",
    " 2. all model data: all features available my using the self supervised deep learning model\n",
    " 3. newly available feat only: the subset of features available from the self supervised deep learning model which were newly retained using the new approach"
   ]
  },
  {
   "cell_type": "code",
   "execution_count": null,
   "id": "f457863e",
   "metadata": {},
   "outputs": [],
   "source": [
    "X = pd.concat([data, pred_real_na]).unstack()\n",
    "X"
   ]
  },
  {
   "cell_type": "code",
   "execution_count": null,
   "id": "a387dd6f",
   "metadata": {},
   "outputs": [],
   "source": [
    "ald_study = pd.concat([ald_study.stack(), pred_real_na_imputed_normal]).unstack()\n",
    "ald_study"
   ]
  },
  {
   "cell_type": "code",
   "execution_count": null,
   "id": "12b9d002",
   "metadata": {},
   "outputs": [],
   "source": [
    "new_features = X.columns.difference(ald_study.columns)\n",
    "new_features"
   ]
  },
  {
   "cell_type": "markdown",
   "id": "a8e67247-a2a1-4a2f-b838-0bdc9f40cfa9",
   "metadata": {},
   "source": [
    "Binarize targets, but also keep groups for stratification\n"
   ]
  },
  {
   "cell_type": "code",
   "execution_count": null,
   "id": "4aa1f404-427a-4e78-b98d-cb26bb1d1ec4",
   "metadata": {},
   "outputs": [],
   "source": [
    "target_to_group = target.copy()\n",
    "target = target >= args.cutoff_target\n",
    "pd.crosstab(target.squeeze(), target_to_group.squeeze())"
   ]
  },
  {
   "cell_type": "markdown",
   "id": "bfab754f",
   "metadata": {},
   "source": [
    "## Best number of parameters by CV"
   ]
  },
  {
   "cell_type": "code",
   "execution_count": null,
   "id": "90e410d1",
   "metadata": {},
   "outputs": [],
   "source": [
    "cv_feat_ald = vaep.sklearn.find_n_best_features(X=ald_study, y=target, name=args.target,\n",
    "                                                groups=target_to_group)\n",
    "cv_feat_ald = cv_feat_ald.groupby('n_features').agg(['mean', 'std'])\n",
    "cv_feat_ald"
   ]
  },
  {
   "cell_type": "code",
   "execution_count": null,
   "id": "988dea31",
   "metadata": {},
   "outputs": [],
   "source": [
    "cv_feat_all = vaep.sklearn.find_n_best_features(X=X, y=target, name=args.target,\n",
    "                                               groups=target_to_group)\n",
    "cv_feat_all = cv_feat_all.groupby('n_features').agg(['mean', 'std'])\n",
    "cv_feat_all"
   ]
  },
  {
   "cell_type": "code",
   "execution_count": null,
   "id": "811f75d0",
   "metadata": {},
   "outputs": [],
   "source": [
    "cv_feat_new = vaep.sklearn.find_n_best_features(X=X.loc[:, new_features],\n",
    "                                                y=target, name=args.target,\n",
    "                                                groups=target_to_group)\n",
    "cv_feat_new = cv_feat_new.groupby('n_features').agg(['mean', 'std'])\n",
    "cv_feat_new"
   ]
  },
  {
   "cell_type": "code",
   "execution_count": null,
   "id": "72655713",
   "metadata": {},
   "outputs": [],
   "source": [
    "n_feat_best = pd.DataFrame({'ald': cv_feat_ald.loc[:, pd.IndexSlice[:,'mean']].idxmax(),\n",
    " 'all': cv_feat_all.loc[:, pd.IndexSlice[:,'mean']].idxmax(),\n",
    " 'new': cv_feat_new.loc[:, pd.IndexSlice[:,'mean']].idxmax()}).droplevel(-1)\n",
    "n_feat_best"
   ]
  },
  {
   "cell_type": "markdown",
   "id": "2efdc8bf",
   "metadata": {},
   "source": [
    "## Train, test split"
   ]
  },
  {
   "cell_type": "code",
   "execution_count": null,
   "id": "dc3d3b21",
   "metadata": {},
   "outputs": [],
   "source": [
    "X_train, X_test, y_train, y_test = sklearn.model_selection.train_test_split(\n",
    "    X, target, test_size=.2,\n",
    "    stratify=target_to_group, random_state=42)\n",
    "idx_train = X_train.index\n",
    "idx_test = X_test.index"
   ]
  },
  {
   "cell_type": "code",
   "execution_count": null,
   "id": "d3b4b394",
   "metadata": {},
   "outputs": [],
   "source": [
    "vaep.pandas.combine_value_counts(pd.concat([y_train, y_test], axis=1, ignore_index=True\n",
    "                                           ).rename(columns={0: 'train', 1: 'test'})\n",
    "                                 )"
   ]
  },
  {
   "cell_type": "code",
   "execution_count": null,
   "id": "3427cab3",
   "metadata": {},
   "outputs": [],
   "source": [
    "# y_train = y_train >= args.cutoff_target\n",
    "# y_test = y_test >= args.cutoff_target"
   ]
  },
  {
   "cell_type": "code",
   "execution_count": null,
   "id": "48f507a7",
   "metadata": {},
   "outputs": [],
   "source": [
    "vaep.pandas.combine_value_counts(pd.concat([y_train, y_test], axis=1, ignore_index=True\n",
    "                                           ).rename(columns={0: 'train', 1: 'test'})\n",
    "                                 )"
   ]
  },
  {
   "cell_type": "code",
   "execution_count": null,
   "id": "71879005",
   "metadata": {},
   "outputs": [],
   "source": [
    "y_train.value_counts()"
   ]
  },
  {
   "cell_type": "markdown",
   "id": "8b528b8e",
   "metadata": {},
   "source": [
    "## Results\n",
    "\n",
    "- `run_model` returns dataclasses with the further needed results\n",
    "- add mrmr selection of data (select best number of features to use instead of fixing it)"
   ]
  },
  {
   "cell_type": "code",
   "execution_count": null,
   "id": "baa9de8b",
   "metadata": {},
   "outputs": [],
   "source": [
    "splits = Splits(X_train=X.loc[idx_train], X_test=X.loc[idx_test], y_train=y_train, y_test=y_test)\n",
    "results_model_full = vaep.sklearn.run_model(splits, n_feat_to_select=n_feat_best.loc['test_roc_auc', 'all'])\n",
    "results_model_full.name = f'{args.model_key} all'"
   ]
  },
  {
   "cell_type": "code",
   "execution_count": null,
   "id": "18688a0c",
   "metadata": {},
   "outputs": [],
   "source": [
    "splits = Splits(X_train=X.loc[idx_train, new_features], X_test=X.loc[idx_test, new_features], y_train=y_train, y_test=y_test)\n",
    "results_model_new = vaep.sklearn.run_model(splits,  n_feat_to_select=n_feat_best.loc['test_roc_auc', 'new'])\n",
    "results_model_new.name = f'{args.model_key} new'"
   ]
  },
  {
   "cell_type": "code",
   "execution_count": null,
   "id": "78e72950",
   "metadata": {},
   "outputs": [],
   "source": [
    "splits_ald = Splits(X_train=ald_study.loc[idx_train], X_test=ald_study.loc[idx_test], y_train=y_train, y_test=y_test)\n",
    "results_ald_full = vaep.sklearn.run_model(splits_ald,  n_feat_to_select=n_feat_best.loc['test_roc_auc', 'ald'])\n",
    "results_ald_full.name = 'ALD study all'"
   ]
  },
  {
   "cell_type": "markdown",
   "id": "790b1db5",
   "metadata": {},
   "source": [
    "### ROC-AUC"
   ]
  },
  {
   "cell_type": "code",
   "execution_count": null,
   "id": "04b82583",
   "metadata": {},
   "outputs": [],
   "source": [
    "figsize=(8,8)\n",
    "fig, ax = plt.subplots(1,1, figsize=figsize)\n",
    "plot_split_auc(results_ald_full.test, results_ald_full.name, ax)\n",
    "plot_split_auc(results_model_full.test, results_model_full.name, ax)\n",
    "plot_split_auc(results_model_new.test, results_model_new.name, ax)\n",
    "vaep.savefig(fig, name='auc_roc_curve', folder=args.out_folder)"
   ]
  },
  {
   "cell_type": "markdown",
   "id": "46e9a3f2-89aa-4bd5-a083-d8e16815020a",
   "metadata": {},
   "source": [
    "### Features selected"
   ]
  },
  {
   "cell_type": "code",
   "execution_count": null,
   "id": "9e1bb173",
   "metadata": {},
   "outputs": [],
   "source": [
    "selected_features = pd.DataFrame([results_ald_full.selected_features, results_model_full.selected_features, results_model_new.selected_features], index=[results_ald_full.name, results_model_full.name, results_model_new.name]).T\n",
    "selected_features.index.name = 'rank'\n",
    "selected_features.to_excel(args.out_folder / 'mrmr_feat_by_model.xlsx')\n",
    "selected_features"
   ]
  },
  {
   "cell_type": "markdown",
   "id": "ce227174",
   "metadata": {},
   "source": [
    "### Precision-Recall plot"
   ]
  },
  {
   "cell_type": "code",
   "execution_count": null,
   "id": "56ea0d50",
   "metadata": {},
   "outputs": [],
   "source": [
    "fig, ax = plt.subplots(1,1, figsize=figsize)\n",
    "\n",
    "ax = plot_split_prc(results_ald_full.test, results_ald_full.name, ax)\n",
    "ax = plot_split_prc(results_model_full.test, results_model_full.name, ax)\n",
    "ax = plot_split_prc(results_model_new.test, results_model_new.name, ax)\n",
    "vaep.savefig(fig, name='prec_recall_curve', folder=args.out_folder)"
   ]
  },
  {
   "cell_type": "markdown",
   "id": "0ddf0913",
   "metadata": {},
   "source": [
    "## Train data plots"
   ]
  },
  {
   "cell_type": "code",
   "execution_count": null,
   "id": "6eb3ed77",
   "metadata": {},
   "outputs": [],
   "source": [
    "fig, ax = plt.subplots(1,1, figsize=figsize)\n",
    "\n",
    "ax = plot_split_prc(results_ald_full.train, results_ald_full.name, ax)\n",
    "ax = plot_split_prc(results_model_full.train, results_model_full.name, ax)\n",
    "ax = plot_split_prc(results_model_new.train, results_model_new.name, ax)\n",
    "vaep.savefig(fig, name='prec_recall_curve_train', folder=args.out_folder)"
   ]
  },
  {
   "cell_type": "code",
   "execution_count": null,
   "id": "64fee389",
   "metadata": {},
   "outputs": [],
   "source": [
    "figsize=(10,7)\n",
    "fig, ax = plt.subplots(1,1, figsize=figsize)\n",
    "plot_split_auc(results_ald_full.train, results_ald_full.name, ax)\n",
    "plot_split_auc(results_model_full.train, results_model_full.name, ax)\n",
    "plot_split_auc(results_model_new.train, results_model_new.name, ax)\n",
    "vaep.savefig(fig, name='auc_roc_curve_train', folder=args.out_folder)"
   ]
  },
  {
   "cell_type": "markdown",
   "id": "545b7a34",
   "metadata": {},
   "source": [
    "Options:\n",
    "- F1 results for test data for best cutoff on training data? \n",
    "  (select best cutoff of training data, evaluate on test data)\n",
    "- plot X_train PCA/UMAP, map X_test"
   ]
  }
 ],
 "metadata": {
  "kernelspec": {
   "display_name": "Python 3",
   "language": "python",
   "name": "python3"
  },
  "language_info": {
   "codemirror_mode": {
    "name": "ipython",
    "version": 3
   },
   "file_extension": ".py",
   "mimetype": "text/x-python",
   "name": "python",
   "nbconvert_exporter": "python",
   "pygments_lexer": "ipython3",
   "version": "3.8.13"
  }
 },
 "nbformat": 4,
 "nbformat_minor": 5
}
