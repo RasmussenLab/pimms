{
 "cells": [
  {
   "cell_type": "markdown",
   "id": "32e7034a-834d-4e54-bb83-922d75d02780",
   "metadata": {},
   "source": [
    "# Selected files\n",
    "\n",
    "- document metadata and file sizes of published dataset in Scientific Data Report \n",
    "\n",
    "## Contents\n",
    "\n",
    "1. Number of files per instrument\n",
    "2. Rawfile sizes per instrument\n",
    "3. peptide - rawfile map (protein group, precursor)?\n",
    "    - based on selected samples"
   ]
  },
  {
   "cell_type": "code",
   "execution_count": null,
   "id": "7005385d-66ae-42cc-aa16-348eeaca21b2",
   "metadata": {},
   "outputs": [],
   "source": [
    "from pathlib import Path\n",
    "import matplotlib.pyplot as plt\n",
    "import pandas as pd\n",
    "import seaborn\n",
    "\n",
    "\n",
    "from vaep.io import thermo_raw_files\n",
    "import vaep.pandas"
   ]
  },
  {
   "cell_type": "markdown",
   "id": "da566616-0786-4baf-a96d-1d0c6395baae",
   "metadata": {},
   "source": [
    "## PARAMETERS"
   ]
  },
  {
   "cell_type": "code",
   "execution_count": null,
   "id": "002ca52f-8e5b-4841-a67c-4645d49b1f4f",
   "metadata": {},
   "outputs": [],
   "source": [
    "fn_id_old_new: str = 'data/rename/selected_old_new_id_mapping.csv' # selected samples with pride and original id\n",
    "fn_raw_file_size: str = 'processed/all_raw_file_sizes.csv' # raw file sizes\n",
    "fn_rawfile_metadata: str = 'data/rawfile_metadata.csv'\n",
    "fn_summaries:str = 'data/processed/all_summaries.json'\n",
    "date_col:str = 'Content Creation Date'\n",
    "out_folder: str = 'data/dev_datasets/pride_upload'"
   ]
  },
  {
   "cell_type": "markdown",
   "id": "afebc91e-da56-4f48-a6aa-c5c613f0fb61",
   "metadata": {},
   "source": [
    "## Prepare outputs"
   ]
  },
  {
   "cell_type": "code",
   "execution_count": null,
   "id": "616a69ae-5668-43f8-8557-6cb8d9bc6f36",
   "metadata": {},
   "outputs": [],
   "source": [
    "out_folder = Path(out_folder)\n",
    "out_folder.mkdir(exist_ok=True)\n",
    "files_out = dict()"
   ]
  },
  {
   "cell_type": "markdown",
   "id": "2a289ef8-96fb-4c82-bed9-1b3fdcffadbf",
   "metadata": {},
   "source": [
    "## ID mapping\n",
    "\n",
    "- artefact of local vs pride data"
   ]
  },
  {
   "cell_type": "code",
   "execution_count": null,
   "id": "53483dfc-2bbe-43fc-8544-ad9d0f5155d3",
   "metadata": {},
   "outputs": [],
   "source": [
    "df_ids = pd.read_csv(fn_id_old_new, index_col=0)\n",
    "df_ids"
   ]
  },
  {
   "cell_type": "code",
   "execution_count": null,
   "id": "90425b52-523a-4f4a-9668-ed9d38114b8d",
   "metadata": {},
   "outputs": [],
   "source": [
    "df_ids.index.is_unique"
   ]
  },
  {
   "cell_type": "markdown",
   "id": "de565eb7-0f16-450f-a5dc-3b92dafb9106",
   "metadata": {},
   "source": [
    "## Raw file sizes"
   ]
  },
  {
   "cell_type": "code",
   "execution_count": null,
   "id": "9131ffa5-fbd8-4b11-bf72-1c488ee50541",
   "metadata": {},
   "outputs": [],
   "source": [
    "df_raw_file_size = pd.read_csv(fn_raw_file_size, index_col=0)\n",
    "df_raw_file_size"
   ]
  },
  {
   "cell_type": "code",
   "execution_count": null,
   "id": "b1831d06-ae6d-4599-bd87-2acb0b841b71",
   "metadata": {},
   "outputs": [],
   "source": [
    "df_raw_file_size.index.is_unique"
   ]
  },
  {
   "cell_type": "code",
   "execution_count": null,
   "id": "ee30f368-8df1-4798-9493-525efa5c9af5",
   "metadata": {},
   "outputs": [],
   "source": [
    "from pathlib import Path\n",
    "df_raw_file_size['path'] = df_raw_file_size['path'].apply(lambda x: Path(x).as_posix())\n",
    "df_raw_file_size = df_raw_file_size.reset_index().set_index('path')\n",
    "df_raw_file_size"
   ]
  },
  {
   "cell_type": "code",
   "execution_count": null,
   "id": "477d2b9a-9bfb-402a-a70d-2c5988fcac79",
   "metadata": {},
   "outputs": [],
   "source": [
    "df_raw_file_size = df_raw_file_size.loc[df_ids['Path_old'].str[2:].to_list()]\n",
    "df_raw_file_size"
   ]
  },
  {
   "cell_type": "code",
   "execution_count": null,
   "id": "c9b6b112-2601-4da6-ba26-937981f52544",
   "metadata": {},
   "outputs": [],
   "source": [
    "df_raw_file_size = df_raw_file_size.reset_index().set_index('name')"
   ]
  },
  {
   "cell_type": "markdown",
   "id": "b5e67f53-d77f-461f-9286-7fa01347f136",
   "metadata": {},
   "source": [
    "## Raw file metadata extracted from ThermoRawFileParser"
   ]
  },
  {
   "cell_type": "code",
   "execution_count": null,
   "id": "36e2c354-7bad-4ed3-908c-7eb8f1efc8eb",
   "metadata": {},
   "outputs": [],
   "source": [
    "df_meta = pd.read_csv(fn_rawfile_metadata, header=[0, 1], index_col=0, low_memory=False)\n",
    "assert df_meta.index.is_unique\n",
    "df_meta"
   ]
  },
  {
   "cell_type": "code",
   "execution_count": null,
   "id": "52536453-8285-4fd3-ba14-5c94d67b2184",
   "metadata": {},
   "outputs": [],
   "source": [
    "df_meta = df_meta.loc[df_ids.index]\n",
    "df_meta.columns = df_meta.columns.droplevel() # remove top level name\n",
    "df_meta"
   ]
  },
  {
   "cell_type": "markdown",
   "id": "04b81fe8-bc6a-43f9-8cbb-3d289beb075e",
   "metadata": {},
   "source": [
    "## Summary files from MaxQuant search"
   ]
  },
  {
   "cell_type": "code",
   "execution_count": null,
   "id": "ad89da6a-0b3d-4308-b358-f8737964140d",
   "metadata": {},
   "outputs": [],
   "source": [
    "df_summaries = pd.read_json(fn_summaries, orient='index')\n",
    "assert df_summaries.index.is_unique\n",
    "df_summaries = df_summaries.loc[df_meta.index]\n",
    "df_summaries"
   ]
  },
  {
   "cell_type": "markdown",
   "id": "d10c9759-a097-414a-a517-c7f81327c5dc",
   "metadata": {},
   "source": [
    "# Combine data and dump"
   ]
  },
  {
   "cell_type": "code",
   "execution_count": null,
   "id": "5e68253d-468e-49af-8921-57ea94cdaf9b",
   "metadata": {},
   "outputs": [],
   "source": [
    "df_meta = (df_ids\n",
    "           .join(df_raw_file_size)\n",
    "           .join(df_meta)\n",
    "           .join(df_summaries)\n",
    "          )\n",
    "df_meta"
   ]
  },
  {
   "cell_type": "code",
   "execution_count": null,
   "id": "fae56fa6-9901-40bc-9892-762acfda707d",
   "metadata": {},
   "outputs": [],
   "source": [
    "df_meta = df_meta.set_index('new_sample_id')\n",
    "df_meta.index.name = 'Sample ID'"
   ]
  },
  {
   "cell_type": "code",
   "execution_count": null,
   "id": "2e1f380e-470d-4fee-ab24-85da8b78a0a8",
   "metadata": {},
   "outputs": [],
   "source": [
    "df_meta = (df_meta\n",
    "           .drop(['Path_old', 'Pathname', 'path'], axis=1)\n",
    "           .rename({'Path_new':'Pathname'}, axis=1)\n",
    "           .dropna(how='all', axis=1)\n",
    "           .convert_dtypes()\n",
    "           .assign(**{date_col: lambda df_meta: pd.to_datetime(df_meta[date_col])})\n",
    ")\n",
    "df_meta"
   ]
  },
  {
   "cell_type": "markdown",
   "id": "dbf76caa-723c-4d29-91a2-b5c70d076e2f",
   "metadata": {},
   "source": [
    "Save curated data for dumped files"
   ]
  },
  {
   "cell_type": "code",
   "execution_count": null,
   "id": "6085ef11-e033-4d89-b72d-e6a62155fd40",
   "metadata": {},
   "outputs": [],
   "source": [
    "fname = out_folder / 'pride_metadata.csv'\n",
    "files_out[fname.name] = fname.as_posix()\n",
    "df_meta.to_csv(fname)\n",
    "\n",
    "fname = out_folder / 'pride_metadata_schema.json'\n",
    "files_out[fname.name] = fname.as_posix()\n",
    "df_meta.dtypes.astype('string').to_json(fname)"
   ]
  },
  {
   "cell_type": "markdown",
   "id": "41e2545f-abef-4172-9ce7-907d2d3a40ce",
   "metadata": {},
   "source": [
    "# Analysis"
   ]
  },
  {
   "cell_type": "markdown",
   "id": "f101112d-b495-4de7-a0db-cd370b6af603",
   "metadata": {},
   "source": [
    "How to load dumped file"
   ]
  },
  {
   "cell_type": "code",
   "execution_count": null,
   "id": "99468f8f-1d8b-44a2-892f-a3395b3ae5cb",
   "metadata": {},
   "outputs": [],
   "source": [
    "dtypes = pd.read_json(\n",
    "    files_out['pride_metadata_schema.json'],\n",
    "    orient='index'\n",
    "    ).squeeze()\n",
    "mask_dates = dtypes.str.contains('datetime') # date columns need to be provide separately\n",
    "pd.read_csv(files_out['pride_metadata.csv'],\n",
    "            parse_dates=mask_dates.loc[mask_dates].index.to_list(),\n",
    "            dtype=dtypes.loc[~mask_dates].to_dict()\n",
    ").dtypes"
   ]
  },
  {
   "cell_type": "markdown",
   "id": "e12a5e30-b0bf-4af0-bb8c-05e2cc356e64",
   "metadata": {},
   "source": [
    "## Output Excel for Analysis"
   ]
  },
  {
   "cell_type": "code",
   "execution_count": null,
   "id": "36533455-ba5f-43b0-ad03-e4e7baf6e5f3",
   "metadata": {},
   "outputs": [],
   "source": [
    "writer_args = dict(float_format='%.3f')\n",
    "fname = out_folder / 'pride_data_infos.xlsx'\n",
    "files_out[fname.name] = fname.as_posix()\n",
    "excel_writer = pd.ExcelWriter(fname)"
   ]
  },
  {
   "cell_type": "markdown",
   "id": "b90dbf64-8606-4623-a04f-dc7c4016d85e",
   "metadata": {},
   "source": [
    "## Varying data between runs"
   ]
  },
  {
   "cell_type": "code",
   "execution_count": null,
   "id": "d1891261-7676-4bc6-82dc-a95040ff77fc",
   "metadata": {},
   "outputs": [],
   "source": [
    "meta_stats = df_meta.describe(include='all', datetime_is_numeric=True)\n",
    "meta_stats.T.to_excel(excel_writer, sheet_name='des_stats', **writer_args)\n",
    "\n",
    "view = meta_stats.loc[:, (meta_stats.loc['unique'] > 1) |  (meta_stats.loc['std'] > 0.01)].T\n",
    "view.to_excel(excel_writer, sheet_name='des_stats_varying', **writer_args)"
   ]
  },
  {
   "cell_type": "markdown",
   "id": "148d739c-4450-444b-915b-0ad35dd19e7f",
   "metadata": {},
   "source": [
    "## Instruments in selection"
   ]
  },
  {
   "cell_type": "code",
   "execution_count": null,
   "id": "eca37dc0-d471-4f99-8710-5e2958076e12",
   "metadata": {},
   "outputs": [],
   "source": [
    "thermo_raw_files.cols_instrument"
   ]
  },
  {
   "cell_type": "code",
   "execution_count": null,
   "id": "d47c3297-64ce-4686-a5ff-84eef25dea3a",
   "metadata": {},
   "outputs": [],
   "source": [
    "df_meta[date_col] = pd.to_datetime(df_meta[date_col])\n",
    "\n",
    "counts_instrument = (df_meta\n",
    "                     .groupby(thermo_raw_files.cols_instrument)[date_col]\n",
    "                     .agg(['count', 'min', 'max'])\n",
    "                     .sort_values(by=thermo_raw_files.cols_instrument[:2] + ['count'], ascending=False))\n",
    "counts_instrument.to_excel(excel_writer, sheet_name='instruments', **writer_args)\n",
    "counts_instrument"
   ]
  },
  {
   "cell_type": "code",
   "execution_count": null,
   "id": "27526f31-26f1-4906-8efc-142a11737705",
   "metadata": {},
   "outputs": [],
   "source": [
    "top10_instruments = counts_instrument['count'].nlargest(10)\n",
    "top10_instruments"
   ]
  },
  {
   "cell_type": "code",
   "execution_count": null,
   "id": "9630b7ba-bcae-472c-aa11-eb944ffe8507",
   "metadata": {},
   "outputs": [],
   "source": [
    "mask_top10_instruments = df_meta[thermo_raw_files.cols_instrument].apply(lambda x: tuple(x) in top10_instruments.index, axis=1)\n",
    "assert mask_top10_instruments.sum() == top10_instruments.sum()"
   ]
  },
  {
   "cell_type": "markdown",
   "id": "e388a58e-c6f0-4a77-84cf-476d94f4b06b",
   "metadata": {},
   "source": [
    "## File size and number of identifications"
   ]
  },
  {
   "cell_type": "code",
   "execution_count": null,
   "id": "4fb95d33-7d60-47f5-8997-8f354164cec1",
   "metadata": {},
   "outputs": [],
   "source": [
    "cols = ['Peptide Sequences Identified', 'size_gb']\n",
    "\n",
    "mask = ((df_meta[cols[0]] < 20_000) & (df_meta[cols[1]] > 3.5)\n",
    "        | (df_meta[cols[1]] > 5)\n",
    "       )\n",
    "\n",
    "# df_meta[thermo_raw_files.cols_instrument + cols].query(f'({cols[1]} > 3.5'\n",
    "#                     f' & `{cols[0]}` < 25_000)'\n",
    "#                     f' | {cols[1]} > 5',\n",
    "#                     engine='python')\n",
    "\n",
    "\n",
    "cols = ['Peptide Sequences Identified', 'size_gb']\n",
    "ax = df_meta.loc[~mask, cols].plot.scatter(cols[0], cols[1], label='not selected')\n",
    "ax = df_meta.loc[mask, cols].plot.scatter(cols[0],  cols[1], color='orange',\n",
    "                                          label='selected',\n",
    "                                          ylabel='filesize (in GB)', ax=ax)\n",
    "\n",
    "fname = out_folder / 'filesize_vs_iden_peptides.pdf'\n",
    "files_out[fname.name] = fname\n",
    "vaep.savefig(ax.get_figure(), fname)\n",
    "\n",
    "\n",
    "view = df_meta.loc[mask, thermo_raw_files.cols_instrument + cols].sort_values(by=cols)\n",
    "view.to_excel(excel_writer, sheet_name='instrument_outliers', **writer_args)\n",
    "view"
   ]
  },
  {
   "cell_type": "code",
   "execution_count": null,
   "id": "e1c324fd-35e2-4859-b04e-a64c0ed74f2d",
   "metadata": {},
   "outputs": [],
   "source": [
    "cols = ['Number of MS1 spectra', 'Number of MS2 spectra',\n",
    "        'Peptide Sequences Identified']\n",
    "cols = vaep.pandas.get_columns_accessor_from_iterable(cols)\n",
    "\n",
    "view = df_meta.loc[mask_top10_instruments]\n",
    "# view = df_meta\n",
    "\n",
    "\n",
    "fig, ax = plt.subplots(figsize=(18,12))\n",
    "\n",
    "fig = ax.get_figure()\n",
    "\n",
    "ax = seaborn.scatterplot(view,\n",
    "                    x=cols.Number_of_MS1_spectra,\n",
    "                    y=cols.Number_of_MS2_spectra,\n",
    "                    hue='instrument serial number',\n",
    "                    legend='brief',\n",
    "                    ax=ax,\n",
    "                    palette='deep')\n",
    "l = ax.legend(loc='right', bbox_to_anchor=(1.35, 0.5), ncol=1)\n",
    "\n",
    "fname = out_folder / 'ms1_to_ms2_top10_instruments.pdf'\n",
    "files_out[fname.name] = fname.as_posix()\n",
    "vaep.savefig(fig, fname)\n",
    "# fig.savefig(fname)\n",
    "# fig.savefig(fname.with_suffix('.png'), dpi=600)"
   ]
  },
  {
   "cell_type": "code",
   "execution_count": null,
   "id": "8318b908-234c-4e27-a838-88968122b26c",
   "metadata": {},
   "outputs": [],
   "source": [
    "ax = view.plot.scatter(x=cols.Peptide_Sequences_Identified,\n",
    "                          y=cols.Number_of_MS1_spectra,\n",
    "                          label=cols.Number_of_MS1_spectra,\n",
    "                          c='green')\n",
    "ax = view.plot.scatter(x=cols.Peptide_Sequences_Identified,\n",
    "                          y=cols.Number_of_MS2_spectra,\n",
    "                          label=cols.Number_of_MS2_spectra,\n",
    "                          ylabel='# spectra',\n",
    "                          ax=ax)\n",
    "\n",
    "fname = out_folder / 'ms1_vs_ms2.pdf'\n",
    "files_out[fname.name] = fname\n",
    "vaep.savefig(ax.get_figure(), fname)"
   ]
  },
  {
   "cell_type": "markdown",
   "id": "7e580c9b-228b-4349-a555-3f16be0b2887",
   "metadata": {},
   "source": [
    "## run length to number of identified peptides"
   ]
  },
  {
   "cell_type": "code",
   "execution_count": null,
   "id": "a04e091f-7ede-42c5-9220-b45116375c14",
   "metadata": {},
   "outputs": [],
   "source": [
    "df_meta.filter(like='RT', axis=1).describe()"
   ]
  },
  {
   "cell_type": "code",
   "execution_count": null,
   "id": "d792f9d9-9246-4755-a897-e402d2cd5c94",
   "metadata": {},
   "outputs": [],
   "source": [
    "cols = ['MS max RT',\n",
    "        'Peptide Sequences Identified']\n",
    "cols = vaep.pandas.get_columns_accessor_from_iterable(cols)\n",
    "\n",
    "ax = view.plot.scatter(cols.MS_max_RT, cols.Peptide_Sequences_Identified)\n",
    "\n",
    "ax = ax = seaborn.scatterplot(\n",
    "                    view,\n",
    "                    x=cols.MS_max_RT,\n",
    "                    y=cols.Peptide_Sequences_Identified,\n",
    "                    hue='instrument serial number',\n",
    "                    legend='brief',\n",
    "                    ax=ax,\n",
    "                    palette='deep')\n",
    "l = ax.legend(loc='right', bbox_to_anchor=(1.4, 0.5), ncol=1)\n",
    "\n",
    "fname = out_folder / 'RT_vs_identified_peptides_top10_instruments.pdf'\n",
    "files_out[fname.name] = fname.as_posix()\n",
    "vaep.savefig(ax.get_figure(), fname)"
   ]
  },
  {
   "cell_type": "markdown",
   "id": "8d48d8c6-8590-49d9-b5e9-883fd0dc74cd",
   "metadata": {},
   "source": [
    "## Outputs"
   ]
  },
  {
   "cell_type": "code",
   "execution_count": null,
   "id": "baed76a3-35fb-4152-adea-cadebb5ddc11",
   "metadata": {},
   "outputs": [],
   "source": [
    "excel_writer.close()"
   ]
  },
  {
   "cell_type": "code",
   "execution_count": null,
   "id": "dadf829f-cff7-444e-929a-57e95be91bd4",
   "metadata": {},
   "outputs": [],
   "source": [
    "files_out"
   ]
  },
  {
   "cell_type": "code",
   "execution_count": null,
   "id": "68ec7f26-5614-417f-b2de-4a39733edaa6",
   "metadata": {},
   "outputs": [],
   "source": []
  }
 ],
 "metadata": {
  "kernelspec": {
   "display_name": "Python 3",
   "language": "python",
   "name": "python3"
  },
  "language_info": {
   "codemirror_mode": {
    "name": "ipython",
    "version": 3
   },
   "file_extension": ".py",
   "mimetype": "text/x-python",
   "name": "python",
   "nbconvert_exporter": "python",
   "pygments_lexer": "ipython3",
   "version": "3.8.13"
  }
 },
 "nbformat": 4,
 "nbformat_minor": 5
}
