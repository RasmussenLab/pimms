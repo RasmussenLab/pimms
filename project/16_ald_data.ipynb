{
 "cells": [
  {
   "cell_type": "markdown",
   "id": "88e88633-9d3f-4751-a0aa-a508fb015203",
   "metadata": {
    "tags": []
   },
   "source": [
    "# ALD Study"
   ]
  },
  {
   "cell_type": "code",
   "execution_count": null,
   "id": "837e3205-4974-4bd4-bb39-288408fcdddc",
   "metadata": {},
   "outputs": [],
   "source": [
    "from pathlib import Path\n",
    "import pandas as pd\n",
    "import vaep\n",
    "\n",
    "pd.options.display.max_columns = 50\n",
    "pd.options.display.max_rows = 100"
   ]
  },
  {
   "cell_type": "code",
   "execution_count": null,
   "id": "5a1961d4-16d0-4eec-81ad-cc609847e0a9",
   "metadata": {},
   "outputs": [],
   "source": [
    "folder_data = Path('data/applications/')\n",
    "folder_data_out = Path('data/single_datasets/')\n",
    "folder_run = Path('runs/appl_ald_data')\n",
    "folder_run.mkdir(parents=True, exist_ok=True)\n",
    "\n",
    "print(*(folder_data.iterdir()), sep='\\n')\n",
    "\n",
    "f_proteinGroups = folder_data / '20190620_210717_20190620_P0000005_Lili2Klibrary_Report.csv'\n",
    "f_proteome = folder_data / 'ald_proteome_spectronaut.tsv'\n",
    "f_annotations = folder_data / 'ald_experiment_annotations.csv'\n",
    "f_clinic = folder_data / 'ald_cli_164.csv'\n",
    "f_raw_meta = folder_data / 'ald_metadata_rawfiles.csv'"
   ]
  },
  {
   "cell_type": "markdown",
   "id": "cfe1c458-dc61-4890-b430-6efa7eb89e72",
   "metadata": {},
   "source": [
    "## (Aggregated) Peptide Data "
   ]
  },
  {
   "cell_type": "code",
   "execution_count": null,
   "id": "5909039c-1dec-4aaf-a889-d43d33e8a324",
   "metadata": {},
   "outputs": [],
   "source": [
    "peptides = pd.read_table(f_proteome, low_memory=False)\n",
    "peptides.shape"
   ]
  },
  {
   "cell_type": "code",
   "execution_count": null,
   "id": "1e15d6b3-2735-4f82-9eff-09097bbcc72e",
   "metadata": {},
   "outputs": [],
   "source": [
    "peptides"
   ]
  },
  {
   "cell_type": "code",
   "execution_count": null,
   "id": "15164e4e",
   "metadata": {},
   "outputs": [],
   "source": [
    "peptides.iloc[:, :8].describe(include='all')"
   ]
  },
  {
   "cell_type": "code",
   "execution_count": null,
   "id": "1e1afa3c",
   "metadata": {},
   "outputs": [],
   "source": [
    "column_types = peptides.iloc[:, 8:].columns.to_series().apply(lambda s: tuple(s.split('.')[-2:]))\n",
    "column_types.describe()  # .apply(lambda l: l[-1])"
   ]
  },
  {
   "cell_type": "code",
   "execution_count": null,
   "id": "96399cdc-beee-45ac-8f65-2bd7ca9d9f9a",
   "metadata": {},
   "outputs": [],
   "source": [
    "column_types = ['.'.join(x for x in tup) for tup in list(column_types.unique())]\n",
    "column_types"
   ]
  },
  {
   "cell_type": "code",
   "execution_count": null,
   "id": "5aa3fccb-57f7-47fc-a6aa-9028972cacee",
   "metadata": {},
   "outputs": [],
   "source": [
    "peptides = peptides.set_index(list(peptides.columns[:8])).sort_index(axis=1)"
   ]
  },
  {
   "cell_type": "code",
   "execution_count": null,
   "id": "d12c9ec4-66e7-4df5-bfa3-62e570c0ebf9",
   "metadata": {},
   "outputs": [],
   "source": [
    "peptides.loc[:, peptides.columns.str.contains(column_types[0])]"
   ]
  },
  {
   "cell_type": "code",
   "execution_count": null,
   "id": "5203a536-3838-44a0-bd18-b9d3b8a645af",
   "metadata": {},
   "outputs": [],
   "source": [
    "peptides.iloc[:20, :6]"
   ]
  },
  {
   "cell_type": "markdown",
   "id": "e471878b-6198-49d7-848f-cb2f62c56c95",
   "metadata": {},
   "source": [
    "create new multiindex from column"
   ]
  },
  {
   "cell_type": "code",
   "execution_count": null,
   "id": "faca2822",
   "metadata": {},
   "outputs": [],
   "source": [
    "peptides.columns = pd.MultiIndex.from_tuples(peptides.columns.str.split().str[1].str.split(\n",
    "    '.raw.').to_series().apply(tuple), names=['Sample ID', 'vars'])\n",
    "peptides = peptides.stack(0)\n",
    "peptides"
   ]
  },
  {
   "cell_type": "markdown",
   "id": "2ebd784a-9c35-41f3-beb0-711f8475a742",
   "metadata": {},
   "source": [
    "## Protein Group data"
   ]
  },
  {
   "cell_type": "code",
   "execution_count": null,
   "id": "a5ef1acb-1cb4-4e08-bad9-a44aef9c2a58",
   "metadata": {},
   "outputs": [],
   "source": [
    "pg = pd.read_csv(f_proteinGroups, low_memory=False)\n",
    "N_FRIST_META = 2\n",
    "pg"
   ]
  },
  {
   "cell_type": "code",
   "execution_count": null,
   "id": "0cf7a8e2-0540-49b4-97c3-d9c8efb59f8d",
   "metadata": {},
   "outputs": [],
   "source": [
    "pg.iloc[:, :N_FRIST_META].describe(include='all')"
   ]
  },
  {
   "cell_type": "code",
   "execution_count": null,
   "id": "1b811c28-d282-4c53-93a0-febef823e537",
   "metadata": {},
   "outputs": [],
   "source": [
    "column_types = pg.iloc[:, N_FRIST_META:].columns.to_series().apply(lambda s: tuple(s.split('.')[-2:]))\n",
    "column_types.describe()  # .apply(lambda l: l[-1])"
   ]
  },
  {
   "cell_type": "code",
   "execution_count": null,
   "id": "2e9611d6-575e-42ac-ac2f-650532b86b38",
   "metadata": {},
   "outputs": [],
   "source": [
    "column_types = ['.'.join(x for x in tup) for tup in list(column_types.unique())]\n",
    "column_types"
   ]
  },
  {
   "cell_type": "code",
   "execution_count": null,
   "id": "1a7030a5-0f0e-4dac-8aa7-8b85805a519a",
   "metadata": {},
   "outputs": [],
   "source": [
    "pg = pg.set_index(list(pg.columns[:N_FRIST_META])).sort_index(axis=1)\n",
    "pg.loc[:, pg.columns.str.contains(column_types[1])]"
   ]
  },
  {
   "cell_type": "code",
   "execution_count": null,
   "id": "75cbb2f8-7fde-421d-9b3d-d7ce1dfc5052",
   "metadata": {},
   "outputs": [],
   "source": [
    "pg.columns = pd.MultiIndex.from_tuples(pg.columns.str.split().str[1].str.split(\n",
    "    '.htrms.').to_series().apply(tuple), names=['Sample ID', 'vars'])\n",
    "pg = pg.stack(0)\n",
    "pg"
   ]
  },
  {
   "cell_type": "markdown",
   "id": "0090ae47-f574-4242-a7d3-98201a70d6fa",
   "metadata": {},
   "source": [
    "## Meta data\n",
    "\n",
    "- sample annotation (to select correct samples)\n",
    "- meta data from Spectronaut ouput\n",
    "- clinical data\n",
    "- meta data from raw files (MS machine recorded meta data)"
   ]
  },
  {
   "cell_type": "markdown",
   "id": "4698cfd0-59f0-44cd-aefa-1a5febc84a1e",
   "metadata": {},
   "source": [
    "### From Spectronaut file"
   ]
  },
  {
   "cell_type": "code",
   "execution_count": null,
   "id": "4b06426c-9f19-4602-9176-55778df36ead",
   "metadata": {},
   "outputs": [],
   "source": [
    "meta = peptides.index.to_frame().reset_index(drop=True)\n",
    "meta"
   ]
  },
  {
   "cell_type": "code",
   "execution_count": null,
   "id": "0964a2d2-2969-4754-9b74-f5a5b7a4d60c",
   "metadata": {},
   "outputs": [],
   "source": [
    "meta.describe()"
   ]
  },
  {
   "cell_type": "markdown",
   "id": "09f52877-df54-4c0d-baef-9dcb7c941b4d",
   "metadata": {},
   "source": [
    "### Sample annotations\n",
    "\n",
    "- `Groups`: more detailed (contains sub-batch information)\n",
    "- `Group2`: used to separate samples into cohorts for study\n",
    "- `Sample type`: There are liver biopsy samples measured -> select only Plasma samples"
   ]
  },
  {
   "cell_type": "code",
   "execution_count": null,
   "id": "c660fa74-9cf1-4aff-b8c1-9e55d5cc38a7",
   "metadata": {},
   "outputs": [],
   "source": [
    "annotations = pd.read_csv(f_annotations, index_col='Sample ID')\n",
    "annotations"
   ]
  },
  {
   "cell_type": "markdown",
   "id": "1524dead-b5bf-4ee7-acce-6a2dfad890e5",
   "metadata": {},
   "source": [
    "Select ALD subcohort"
   ]
  },
  {
   "cell_type": "code",
   "execution_count": null,
   "id": "ad24b48e-9a3f-4c51-9d73-b2a72ed35145",
   "metadata": {},
   "outputs": [],
   "source": [
    "# annotations.Groups.value_counts()\n",
    "annotations.Group2.value_counts()"
   ]
  },
  {
   "cell_type": "code",
   "execution_count": null,
   "id": "11ec53b9-0164-4489-a3fd-38124fc63be8",
   "metadata": {},
   "outputs": [],
   "source": [
    "groups = ['ALD']  # 'ALD-validation', 'HP'\n",
    "selected = (annotations.Group2.isin(['ALD'])) & (annotations['Sample type'] == 'Plasma')\n",
    "selected = selected.loc[selected].index\n",
    "annotations.loc[selected].describe(include=['object', 'string'])"
   ]
  },
  {
   "cell_type": "markdown",
   "id": "c33b7621-e672-42f5-b3e5-472d68e437ad",
   "metadata": {},
   "source": [
    "### Clinical data"
   ]
  },
  {
   "cell_type": "code",
   "execution_count": null,
   "id": "f3a67a35-f1fd-485f-91ad-2c66563d52dd",
   "metadata": {},
   "outputs": [],
   "source": [
    "clinic = pd.read_csv(f_clinic, index_col=0)\n",
    "clinic"
   ]
  },
  {
   "cell_type": "markdown",
   "id": "a6721cb5-b27e-4513-a596-c9be269262d3",
   "metadata": {},
   "source": [
    "- `idx_overlap`:  Will be used to select samples with data across datasets available"
   ]
  },
  {
   "cell_type": "code",
   "execution_count": null,
   "id": "45675ffe-50bd-47fd-8562-7b973fd804ab",
   "metadata": {
    "lines_to_next_cell": 2
   },
   "outputs": [],
   "source": [
    "print('Missing labels: ', selected.difference(clinic.index))\n",
    "idx_overlap = clinic.index.intersection(selected)"
   ]
  },
  {
   "cell_type": "code",
   "execution_count": null,
   "id": "e85ecd8e-f1dd-4b3a-81e8-0e28b1deb405",
   "metadata": {},
   "outputs": [],
   "source": [
    "clinic.loc[idx_overlap]"
   ]
  },
  {
   "cell_type": "markdown",
   "id": "47d1d427-8d36-44be-8fcb-1889a4aad157",
   "metadata": {},
   "source": [
    "### Rawfile information"
   ]
  },
  {
   "cell_type": "code",
   "execution_count": null,
   "id": "fffc83c3-1ee0-49eb-ab91-dba16ef5394c",
   "metadata": {},
   "outputs": [],
   "source": [
    "raw_meta = pd.read_csv(f_raw_meta, header=[0, 1], index_col=0)\n",
    "raw_meta.index.name = \"Sample ID (long)\"\n",
    "raw_meta"
   ]
  },
  {
   "cell_type": "markdown",
   "id": "18bfc336-5b95-41b4-8019-b806a1fd0db3",
   "metadata": {},
   "source": [
    "Measurements are super homogenous"
   ]
  },
  {
   "cell_type": "code",
   "execution_count": null,
   "id": "3aa3aef4-cb6f-4795-9ca1-6357b03f0375",
   "metadata": {},
   "outputs": [],
   "source": [
    "raw_meta.describe()"
   ]
  },
  {
   "cell_type": "code",
   "execution_count": null,
   "id": "c805b16d-e65b-470e-af34-aa8d7c39e9d9",
   "metadata": {},
   "outputs": [],
   "source": [
    "idx = raw_meta.index.to_series()\n",
    "idx = idx.str.extract(r'(Plate[\\d]_[A-H]\\d*)').squeeze()\n",
    "idx.name = 'Sample ID'\n",
    "idx.describe()"
   ]
  },
  {
   "cell_type": "code",
   "execution_count": null,
   "id": "55e66513-cd53-4bdd-940f-1bdfd87e4da2",
   "metadata": {},
   "outputs": [],
   "source": [
    "raw_meta = raw_meta.set_index(idx)\n",
    "raw_meta"
   ]
  },
  {
   "cell_type": "code",
   "execution_count": null,
   "id": "d452fc09-155b-4b48-9498-7bde9658fe86",
   "metadata": {},
   "outputs": [],
   "source": [
    "df_meta_rawfiles_columns = raw_meta.columns  # needs to go to Config which is not overwriteable by attribute selection\n",
    "meta_raw_names = raw_meta.columns.droplevel()\n",
    "assert meta_raw_names.is_unique\n",
    "meta_raw_names.name = None\n",
    "raw_meta.columns = meta_raw_names"
   ]
  },
  {
   "cell_type": "code",
   "execution_count": null,
   "id": "f1996dd1-8dca-4bd4-b7c5-a3b41b20ddfb",
   "metadata": {},
   "outputs": [],
   "source": [
    "raw_meta.loc[['Plate6_F2']]"
   ]
  },
  {
   "cell_type": "code",
   "execution_count": null,
   "id": "80878aca-78b3-4533-b338-a3fa935a7763",
   "metadata": {},
   "outputs": [],
   "source": [
    "print(\"Missing metadata in set of selected labels: \", idx_overlap.difference(raw_meta.index))\n",
    "idx_overlap = idx_overlap.intersection(raw_meta.index)  # proteomics data has to be part of metadata"
   ]
  },
  {
   "cell_type": "markdown",
   "id": "c09d2356-99bf-43f4-ae9b-831f0d011c92",
   "metadata": {},
   "source": [
    "Still save all metadata which is there, but subselect data samples accordingly"
   ]
  },
  {
   "cell_type": "code",
   "execution_count": null,
   "id": "5bedb3ea-454a-41eb-9b5b-576f39185cd2",
   "metadata": {},
   "outputs": [],
   "source": [
    "raw_meta.to_csv(folder_data_out / 'raw_meta.csv')"
   ]
  },
  {
   "cell_type": "markdown",
   "id": "36f9abaf-4e9c-48f0-ab7c-ebb12c06dbad",
   "metadata": {},
   "source": [
    "## Missing samples\n",
    "\n",
    "From the above we can note that there is\n",
    "- no clinical data for `Plate6_F2`\n",
    "- no metadata for `Plate2_C1`: re-measured sample which looks fine, but fails with error `\"Unable to access the RAW file using the native Thermo library\"`\n",
    "\n",
    "> see section below"
   ]
  },
  {
   "cell_type": "markdown",
   "id": "d28918f8-32b7-46af-8545-1f998bb3efc3",
   "metadata": {},
   "source": [
    "## Select aggregated peptide level data\n",
    "\n",
    "taken from [Spectronaut manuel](https://biognosys.com/resources/spectronaut-manual/)\n",
    "\n",
    "feature | description \n",
    "--- | ---\n",
    "PEP.IsProteinGroupSpecific | True or False. Tells you whether the peptide only belongs to one Protein Group.\n",
    "PEP.StrippedSequence | -\n",
    "PEP.IsProteotypic |  -\n",
    "PEP.PeptidePosition | -\n",
    "PG.Cscore | - \n",
    "PG.ProteinAccessions | -\n",
    "PG.Genes | - \n",
    "PEP.Quantity | The quantitative value for that peptide as defined in the settings.\n",
    "EG.PrecursorId | Unique Id for the precursor: [modified sequence] plus [charge] \n",
    "EG.Qvalue | The q-value (FDR) of the EG.\n",
    "EG.TotalQuantity (Settings) | The quantitative value for that EG as defined in the settings. \n",
    "\n",
    "> Headers related to Peptides (PEP) as defined in the settings. Many headers related to Peptides are self-explanatory. Here are the most relevant and some which are not too obvious. \n",
    "\n",
    "> Headers related to Peptides (PEP) as defined in the settings. Many headers related to Peptides are self-explanatory. Here are the most relevant and some which are not too obvious. \n",
    "\n",
    "After discussing with Lili, `PEP.Quantity` is the fitting entity for each unique aggregated Peptide. Duplicated entries are just to drop"
   ]
  },
  {
   "cell_type": "code",
   "execution_count": null,
   "id": "cbdb7430-0acd-43dc-a614-4ac3541a6422",
   "metadata": {},
   "outputs": [],
   "source": [
    "sel_cols = ['Sample ID', 'PEP.StrippedSequence', 'PEP.Quantity']\n",
    "sel_data = peptides.reset_index()[sel_cols].drop_duplicates().set_index(sel_cols[:2])\n",
    "sel_data"
   ]
  },
  {
   "cell_type": "code",
   "execution_count": null,
   "id": "6e83b172-e3c5-40f7-9a01-5a0a4c599aff",
   "metadata": {},
   "outputs": [],
   "source": [
    "sel_data = sel_data.squeeze().dropna().astype(float).unstack()\n",
    "sel_data"
   ]
  },
  {
   "cell_type": "code",
   "execution_count": null,
   "id": "26611512-f177-4ccc-9154-57a6e302871c",
   "metadata": {},
   "outputs": [],
   "source": [
    "idx = sel_data.index.to_series()\n",
    "idx = idx.str.extract(r'(Plate[\\d]_[A-H]\\d*)').squeeze()\n",
    "idx.name = 'Sample ID'\n",
    "idx.describe()"
   ]
  },
  {
   "cell_type": "markdown",
   "id": "b823acaf-2610-4b0a-91d8-2d6dd6ff4182",
   "metadata": {},
   "source": [
    "- rawfile metadata -> keep "
   ]
  },
  {
   "cell_type": "code",
   "execution_count": null,
   "id": "3eb9f6d4-8f0b-40d5-9913-67e9119124a8",
   "metadata": {},
   "outputs": [],
   "source": [
    "sel_data = sel_data.set_index(idx)\n",
    "sel_data = sel_data.loc[idx_overlap]\n",
    "sel_data"
   ]
  },
  {
   "cell_type": "code",
   "execution_count": null,
   "id": "8bc54752-de7b-4f2b-b573-92e2c068350c",
   "metadata": {},
   "outputs": [],
   "source": [
    "des_data = sel_data.describe()\n",
    "des_data"
   ]
  },
  {
   "cell_type": "markdown",
   "id": "8591f292-e983-4fce-90bb-f6dc75c5b482",
   "metadata": {},
   "source": [
    "### Check for metadata from rawfile overlap"
   ]
  },
  {
   "cell_type": "markdown",
   "id": "5dddafbb-edd7-4ef0-9787-3120b24d7f79",
   "metadata": {},
   "source": [
    "For one raw file no metadata could be extracted (`ERROR: Unable to access the RAW file using the native Thermo library.`)"
   ]
  },
  {
   "cell_type": "code",
   "execution_count": null,
   "id": "cca9d220-62a6-4dc4-8b45-70e67abce356",
   "metadata": {},
   "outputs": [],
   "source": [
    "idx_diff = sel_data.index.difference(raw_meta.index)\n",
    "annotations.loc[idx_diff]"
   ]
  },
  {
   "cell_type": "code",
   "execution_count": null,
   "id": "93f578c0-977e-416d-aeea-07e09b47ba4a",
   "metadata": {},
   "outputs": [],
   "source": [
    "kwargs = {'xlabel': 'peptide number ordered by completeness',\n",
    "          'ylabel': 'peptide was found in # samples',\n",
    "          'title': 'peptide measurement distribution'}\n",
    "\n",
    "ax = vaep.plotting.plot_counts(des_data.T.sort_values(by='count', ascending=False).reset_index(\n",
    "), feat_col_name='count', feature_name='Aggregated peptides', n_samples=len(sel_data), ax=None, **kwargs)\n",
    "\n",
    "fig = ax.get_figure()\n",
    "fig.tight_layout()\n",
    "vaep.savefig(fig, name='data_aggPeptides_completness', folder=folder_run)"
   ]
  },
  {
   "cell_type": "markdown",
   "id": "c9bf0653-6437-47c3-b41a-47c3eb41b6b0",
   "metadata": {},
   "source": [
    "### Select features which are present in at least 25% of the samples"
   ]
  },
  {
   "cell_type": "code",
   "execution_count": null,
   "id": "e579e397-d30f-48f7-8292-d71d0fe33819",
   "metadata": {},
   "outputs": [],
   "source": [
    "PROP_FEAT_OVER_SAMPLES = .25\n",
    "prop = des_data.loc['count'] / len(sel_data)\n",
    "selected = prop >= PROP_FEAT_OVER_SAMPLES\n",
    "selected.value_counts()"
   ]
  },
  {
   "cell_type": "code",
   "execution_count": null,
   "id": "1a7ae401-c498-43a7-85e2-7a8f5a322c76",
   "metadata": {},
   "outputs": [],
   "source": [
    "sel_data = sel_data.loc[:, selected]\n",
    "sel_data"
   ]
  },
  {
   "cell_type": "markdown",
   "id": "e78b6f3e-a097-4891-b7f2-2f9c185f226f",
   "metadata": {},
   "source": [
    "Dump selected data"
   ]
  },
  {
   "cell_type": "code",
   "execution_count": null,
   "id": "d3b25708-a88b-4c1d-9271-016614160dc5",
   "metadata": {},
   "outputs": [],
   "source": [
    "sel_data.to_pickle(folder_data_out / 'ald_aggPeptides_spectronaut.pkl')"
   ]
  },
  {
   "cell_type": "markdown",
   "id": "4cbaf13b-437c-4e93-8712-4cc3afb0497e",
   "metadata": {},
   "source": [
    "## Select Protein Group data"
   ]
  },
  {
   "cell_type": "code",
   "execution_count": null,
   "id": "d1aee006-8ecd-46c9-93e0-9b0e88d7f0dd",
   "metadata": {},
   "outputs": [],
   "source": [
    "sel_data = pg.drop('PG.NrOfStrippedSequencesUsedForQuantification', axis=1)\n",
    "sel_data"
   ]
  },
  {
   "cell_type": "code",
   "execution_count": null,
   "id": "f8634a22-41d4-40af-9670-785259a204c1",
   "metadata": {},
   "outputs": [],
   "source": [
    "mask = sel_data['PG.Quantity'] == 'Filtered'\n",
    "print(\"No. of Filtered entries: \", mask.sum())\n",
    "sel_data = sel_data.loc[~mask]\n",
    "sel_data"
   ]
  },
  {
   "cell_type": "code",
   "execution_count": null,
   "id": "a2117d12-130b-4661-829b-936cc96b6f62",
   "metadata": {},
   "outputs": [],
   "source": [
    "sel_data = sel_data.squeeze().dropna().astype(float).unstack()\n",
    "sel_data"
   ]
  },
  {
   "cell_type": "code",
   "execution_count": null,
   "id": "9d6d6f72-6157-4e42-b158-b5990b6bbf97",
   "metadata": {},
   "outputs": [],
   "source": [
    "gene_non_unique = sel_data.index.to_frame()[\"PG.Genes\"].value_counts() > 1\n",
    "gene_non_unique = gene_non_unique[gene_non_unique].index\n",
    "gene_non_unique"
   ]
  },
  {
   "cell_type": "code",
   "execution_count": null,
   "id": "891db190-a0db-40a3-8b5c-bd691ed71b7e",
   "metadata": {},
   "outputs": [],
   "source": [
    "sel_data.loc[pd.IndexSlice[:, gene_non_unique], :].T.describe()"
   ]
  },
  {
   "cell_type": "code",
   "execution_count": null,
   "id": "407793d5-fef3-43fe-85ad-f0d9669d3903",
   "metadata": {},
   "outputs": [],
   "source": [
    "sel_data = sel_data.T\n",
    "\n",
    "idx = sel_data.index.to_series()\n",
    "idx = idx.str.extract(r'(Plate[\\d]_[A-H]\\d*)').squeeze()\n",
    "idx.name = 'Sample ID'\n",
    "idx.describe()"
   ]
  },
  {
   "cell_type": "code",
   "execution_count": null,
   "id": "5ff59884-e385-4069-a88f-c6e77477b69d",
   "metadata": {},
   "outputs": [],
   "source": [
    "sel_data = sel_data.set_index(idx)\n",
    "sel_data = sel_data.loc[idx_overlap]\n",
    "sel_data"
   ]
  },
  {
   "cell_type": "code",
   "execution_count": null,
   "id": "369c0693-afb9-4493-8936-4bd59b05eaa1",
   "metadata": {},
   "outputs": [],
   "source": [
    "des_data = sel_data.describe()\n",
    "des_data"
   ]
  },
  {
   "cell_type": "markdown",
   "id": "2f31ff36-c456-427d-b2de-03f43bb51f16",
   "metadata": {},
   "source": [
    "### Check for metadata from rawfile overlap"
   ]
  },
  {
   "cell_type": "code",
   "execution_count": null,
   "id": "abb0778c-e611-476c-9272-78fd4ee35afc",
   "metadata": {},
   "outputs": [],
   "source": [
    "idx_diff = sel_data.index.difference(raw_meta.index)\n",
    "annotations.loc[idx_diff]"
   ]
  },
  {
   "cell_type": "code",
   "execution_count": null,
   "id": "8967480e-9657-4c9d-b42a-fb88e03c61b2",
   "metadata": {},
   "outputs": [],
   "source": [
    "kwargs = {'xlabel': 'protein group number ordered by completeness',\n",
    "          'ylabel': 'peptide was found in # samples',\n",
    "          'title': 'protein group measurement distribution'}\n",
    "\n",
    "ax = vaep.plotting.plot_counts(des_data.T.sort_values(by='count', ascending=False).reset_index(\n",
    "), feat_col_name='count', n_samples=len(sel_data), ax=None, **kwargs)\n",
    "\n",
    "fig = ax.get_figure()\n",
    "fig.tight_layout()\n",
    "vaep.savefig(fig, name='data_proteinGroups_completness', folder=folder_run)"
   ]
  },
  {
   "cell_type": "markdown",
   "id": "b64a1eb5-32ad-4b75-8dc9-0de6c873ff3d",
   "metadata": {},
   "source": [
    "### Select features which are present in at least 25% of the samples"
   ]
  },
  {
   "cell_type": "code",
   "execution_count": null,
   "id": "05f024ee-54bc-452e-beff-9518a82471c0",
   "metadata": {},
   "outputs": [],
   "source": [
    "PROP_FEAT_OVER_SAMPLES = .25\n",
    "prop = des_data.loc['count'] / len(sel_data)\n",
    "selected = prop >= PROP_FEAT_OVER_SAMPLES\n",
    "selected.value_counts()"
   ]
  },
  {
   "cell_type": "code",
   "execution_count": null,
   "id": "36bdad90-eae3-48d2-bbc8-87c65943cab5",
   "metadata": {},
   "outputs": [],
   "source": [
    "sel_data = sel_data.loc[:, selected]\n",
    "sel_data"
   ]
  },
  {
   "cell_type": "markdown",
   "id": "1df435a1-8e7e-4888-8bae-473748a1d9f2",
   "metadata": {},
   "source": [
    "Check for non unique genes after dropping uncommon protein groups."
   ]
  },
  {
   "cell_type": "code",
   "execution_count": null,
   "id": "e2f88083-4cf2-4f6d-9288-2d004bf83651",
   "metadata": {},
   "outputs": [],
   "source": [
    "gene_non_unique = sel_data.columns.to_frame()[\"PG.Genes\"].value_counts() > 1\n",
    "gene_non_unique = gene_non_unique[gene_non_unique].index\n",
    "gene_non_unique"
   ]
  },
  {
   "cell_type": "markdown",
   "id": "8bd35030-567c-414f-928a-6f643aa9fb33",
   "metadata": {},
   "source": [
    "- less often found -> less intensity on average and on maximum\n",
    "\n",
    "- [ ] decided if protein group should be subselected\n",
    "- alternative selection: per sample, select protein group with highest intensity per sample"
   ]
  },
  {
   "cell_type": "code",
   "execution_count": null,
   "id": "ec35a5e9-8c94-455a-aa8f-bb16433920f5",
   "metadata": {},
   "outputs": [],
   "source": [
    "sel_data.T.loc[pd.IndexSlice[:, gene_non_unique], :].T.describe()"
   ]
  },
  {
   "cell_type": "code",
   "execution_count": null,
   "id": "923929b3-6a35-4b36-ae32-a0e4eccadcc0",
   "metadata": {},
   "outputs": [],
   "source": [
    "sel_data = sel_data.droplevel(1, axis=1)"
   ]
  },
  {
   "cell_type": "code",
   "execution_count": null,
   "id": "c775b61b-90d7-4f0f-8c11-babb1596229d",
   "metadata": {},
   "outputs": [],
   "source": [
    "sel_data.to_pickle(folder_data_out / 'ald_proteinGroups_spectronaut.pkl')"
   ]
  },
  {
   "cell_type": "code",
   "execution_count": null,
   "id": "b29fcaaa-4291-4298-9f57-74cf41c3e25b",
   "metadata": {},
   "outputs": [],
   "source": []
  }
 ],
 "metadata": {
  "jupytext": {
   "formats": "ipynb,py:percent"
  },
  "kernelspec": {
   "display_name": "Python 3",
   "language": "python",
   "name": "python3"
  },
  "language_info": {
   "codemirror_mode": {
    "name": "ipython",
    "version": 3
   },
   "file_extension": ".py",
   "mimetype": "text/x-python",
   "name": "python",
   "nbconvert_exporter": "python",
   "pygments_lexer": "ipython3",
   "version": "3.8.13"
  }
 },
 "nbformat": 4,
 "nbformat_minor": 5
}
