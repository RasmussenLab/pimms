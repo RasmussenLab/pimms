{
 "cells": [
  {
   "cell_type": "markdown",
   "id": "88e88633-9d3f-4751-a0aa-a508fb015203",
   "metadata": {
    "tags": []
   },
   "source": [
    "# ALD Study"
   ]
  },
  {
   "cell_type": "code",
   "execution_count": null,
   "id": "837e3205-4974-4bd4-bb39-288408fcdddc",
   "metadata": {},
   "outputs": [],
   "source": [
    "from pathlib import Path\n",
    "import pandas as pd\n",
    "import vaep"
   ]
  },
  {
   "cell_type": "code",
   "execution_count": null,
   "id": "5a1961d4-16d0-4eec-81ad-cc609847e0a9",
   "metadata": {},
   "outputs": [],
   "source": [
    "file = 'data/applications/ald_proteome_spectronaut.tsv'"
   ]
  },
  {
   "cell_type": "code",
   "execution_count": null,
   "id": "5909039c-1dec-4aaf-a889-d43d33e8a324",
   "metadata": {},
   "outputs": [],
   "source": [
    "data = pd.read_table(file, low_memory=False)\n",
    "data.shape"
   ]
  },
  {
   "cell_type": "code",
   "execution_count": null,
   "id": "6259b16b-8c7c-45c9-b495-bf41b18769c7",
   "metadata": {},
   "outputs": [],
   "source": [
    "data"
   ]
  },
  {
   "cell_type": "code",
   "execution_count": null,
   "id": "0f43f0db-c4b4-4e40-ba64-46c7bd351903",
   "metadata": {},
   "outputs": [],
   "source": [
    "data.iloc[:,:8].describe(include='all')"
   ]
  },
  {
   "cell_type": "code",
   "execution_count": null,
   "id": "20f20498-6f8a-4da5-a5d3-f6d57ebd2ec6",
   "metadata": {},
   "outputs": [],
   "source": [
    "column_types = data.iloc[:,8:].columns.to_series().apply(lambda s: tuple(s.split('.')[-2:]))\n",
    "column_types.describe() ## .apply(lambda l: l[-1])"
   ]
  },
  {
   "cell_type": "code",
   "execution_count": null,
   "id": "96399cdc-beee-45ac-8f65-2bd7ca9d9f9a",
   "metadata": {},
   "outputs": [],
   "source": [
    "column_types = ['.'.join(x for x in tup) for tup in list(column_types.unique())]\n",
    "column_types"
   ]
  },
  {
   "cell_type": "code",
   "execution_count": null,
   "id": "5aa3fccb-57f7-47fc-a6aa-9028972cacee",
   "metadata": {},
   "outputs": [],
   "source": [
    "data = data.set_index(list(data.columns[:8])).sort_index(axis=1)"
   ]
  },
  {
   "cell_type": "code",
   "execution_count": null,
   "id": "d12c9ec4-66e7-4df5-bfa3-62e570c0ebf9",
   "metadata": {},
   "outputs": [],
   "source": [
    "data.loc[:,data.columns.str.contains(column_types[0])]"
   ]
  },
  {
   "cell_type": "code",
   "execution_count": null,
   "id": "5203a536-3838-44a0-bd18-b9d3b8a645af",
   "metadata": {},
   "outputs": [],
   "source": [
    "data.iloc[:20,:6]"
   ]
  },
  {
   "cell_type": "markdown",
   "id": "e471878b-6198-49d7-848f-cb2f62c56c95",
   "metadata": {},
   "source": [
    "create new multiindex from column"
   ]
  },
  {
   "cell_type": "code",
   "execution_count": null,
   "id": "1e15d6b3-2735-4f82-9eff-09097bbcc72e",
   "metadata": {},
   "outputs": [],
   "source": [
    "data.columns = pd.MultiIndex.from_tuples(data.columns.str.split().str[1].str.split('.raw.').to_series().apply(tuple), names = ['Sample ID', 'vars'])\n",
    "data = data.stack(0)\n",
    "data"
   ]
  },
  {
   "cell_type": "markdown",
   "id": "0090ae47-f574-4242-a7d3-98201a70d6fa",
   "metadata": {},
   "source": [
    "## Meta data"
   ]
  },
  {
   "cell_type": "code",
   "execution_count": null,
   "id": "4b06426c-9f19-4602-9176-55778df36ead",
   "metadata": {},
   "outputs": [],
   "source": [
    "meta = data.index.to_frame().reset_index(drop=True)\n",
    "meta"
   ]
  },
  {
   "cell_type": "code",
   "execution_count": null,
   "id": "0964a2d2-2969-4754-9b74-f5a5b7a4d60c",
   "metadata": {},
   "outputs": [],
   "source": [
    "meta.describe()"
   ]
  },
  {
   "cell_type": "markdown",
   "id": "d28918f8-32b7-46af-8545-1f998bb3efc3",
   "metadata": {},
   "source": [
    "## Data and metadata\n",
    "\n",
    "taken from [Spectronaut manuel](https://biognosys.com/resources/spectronaut-manual/)\n",
    "\n",
    "feature | description \n",
    "--- | ---\n",
    "PEP.IsProteinGroupSpecific | True or False. Tells you whether the peptide only belongs to one Protein Group.\n",
    "PEP.StrippedSequence | -\n",
    "PEP.IsProteotypic |  -\n",
    "PEP.PeptidePosition | -\n",
    "PG.Cscore | - \n",
    "PG.ProteinAccessions | -\n",
    "PG.Genes | - \n",
    "PEP.Quantity | The quantitative value for that peptide as defined in the settings.\n",
    "EG.PrecursorId | Unique Id for the precursor: [modified sequence] plus [charge] \n",
    "EG.Qvalue | The q-value (FDR) of the EG.\n",
    "EG.TotalQuantity (Settings) | The quantitative value for that EG as defined in the settings. \n",
    "\n",
    "> Headers related to Peptides (PEP) as defined in the settings. Many headers related to Peptides are self-explanatory. Here are the most relevant and some which are not too obvious. \n",
    "\n",
    "> Headers related to Peptides (PEP) as defined in the settings. Many headers related to Peptides are self-explanatory. Here are the most relevant and some which are not too obvious. \n",
    "\n",
    "After discussing with Lili, `PEP.Quantity` is the fitting entity for each unique aggregated Peptide. Duplicated entries are just to drop"
   ]
  },
  {
   "cell_type": "code",
   "execution_count": null,
   "id": "cbdb7430-0acd-43dc-a614-4ac3541a6422",
   "metadata": {},
   "outputs": [],
   "source": [
    "sel_cols = ['Sample ID', 'PEP.StrippedSequence', 'PEP.Quantity']\n",
    "sel_data = data.reset_index()[sel_cols].drop_duplicates().set_index(sel_cols[:2])\n",
    "sel_data"
   ]
  },
  {
   "cell_type": "code",
   "execution_count": null,
   "id": "6e83b172-e3c5-40f7-9a01-5a0a4c599aff",
   "metadata": {},
   "outputs": [],
   "source": [
    "sel_data = sel_data.squeeze().dropna().astype(float).unstack()\n",
    "sel_data"
   ]
  },
  {
   "cell_type": "code",
   "execution_count": null,
   "id": "26611512-f177-4ccc-9154-57a6e302871c",
   "metadata": {},
   "outputs": [],
   "source": [
    "idx = sel_data.index.to_series()\n",
    "idx = idx.str.extract(r'(Plate[\\d]_[A-H]\\d*)').squeeze()\n",
    "idx.name = 'Sample ID'\n",
    "idx.describe()"
   ]
  },
  {
   "cell_type": "code",
   "execution_count": null,
   "id": "4f1f4613",
   "metadata": {},
   "outputs": [],
   "source": [
    "sel_data = sel_data.set_index(idx)\n",
    "sel_data.to_pickle('data/single_datasets/ald_aggPeptides_spectronaut.pkl')"
   ]
  },
  {
   "cell_type": "code",
   "execution_count": null,
   "id": "35d593cf-5119-469c-ab2c-33b460476559",
   "metadata": {},
   "outputs": [],
   "source": []
  }
 ],
 "metadata": {
  "jupytext": {
   "formats": "ipynb,py:percent"
  },
  "kernelspec": {
   "display_name": "Python 3",
   "language": "python",
   "name": "python3"
  },
  "language_info": {
   "codemirror_mode": {
    "name": "ipython",
    "version": 3
   },
   "file_extension": ".py",
   "mimetype": "text/x-python",
   "name": "python",
   "nbconvert_exporter": "python",
   "pygments_lexer": "ipython3",
   "version": "3.8.13"
  }
 },
 "nbformat": 4,
 "nbformat_minor": 5
}
