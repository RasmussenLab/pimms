{
 "cells": [
  {
   "cell_type": "code",
   "execution_count": 2,
   "id": "031a2a3f-2367-469b-8186-836b53eacced",
   "metadata": {},
   "outputs": [],
   "source": [
    "from pathlib import Path\n",
    "import pandas as pd\n",
    "\n",
    "from vaep.models.collect_dumps import collect_metrics"
   ]
  },
  {
   "cell_type": "code",
   "execution_count": 8,
   "id": "c2e09620",
   "metadata": {},
   "outputs": [],
   "source": [
    "all_metrics = collect_metrics(snakemake.input)\n",
    "all_metrics"
   ]
  },
  {
   "cell_type": "code",
   "execution_count": 9,
   "id": "37441394-a387-46be-963d-a90897f592af",
   "metadata": {},
   "outputs": [],
   "source": [
    "fname = Path(snakemake.output.out)\n",
    "all_metrics = pd.DataFrame(all_metrics)\n",
    "all_metrics.to_json(fname)\n",
    "all_metrics"
   ]
  },
  {
   "cell_type": "code",
   "execution_count": 11,
   "id": "4268ea6b",
   "metadata": {},
   "outputs": [],
   "source": [
    "df_metrics_long = all_metrics.set_index('id')\n",
    "df_metrics_long.columns = pd.MultiIndex.from_tuples(df_metrics_long.columns)\n",
    "df_metrics_long.columns.names = ['data_split', 'model', 'metric_name']\n",
    "df_metrics_long.stack('model')"
   ]
  },
  {
   "cell_type": "code",
   "execution_count": 12,
   "id": "c8bc0f1d",
   "metadata": {},
   "outputs": [],
   "source": [
    "fname = fname.with_suffix('.csv')\n",
    "df_metrics_long.to_csv(fname)\n",
    "# pd.read_csv(fname, index_col=0, header=[0, 1, 2, 3]).stack('model')"
   ]
  }
 ],
 "metadata": {
  "kernelspec": {
   "display_name": "Python 3",
   "language": "python",
   "name": "python3"
  },
  "language_info": {
   "codemirror_mode": {
    "name": "ipython",
    "version": 3
   },
   "file_extension": ".py",
   "mimetype": "text/x-python",
   "name": "python",
   "nbconvert_exporter": "python",
   "pygments_lexer": "ipython3",
   "version": "3.8.13"
  },
  "toc": {
   "base_numbering": 1,
   "nav_menu": {},
   "number_sections": true,
   "sideBar": true,
   "skip_h1_title": false,
   "title_cell": "Table of Contents",
   "title_sidebar": "Contents",
   "toc_cell": false,
   "toc_position": {},
   "toc_section_display": true,
   "toc_window_display": false
  },
  "vscode": {
   "interpreter": {
    "hash": "7d773e1285093e5d1efa66e5c257432b552c5ab759d2ddd74cbe595bf26f7542"
   }
  }
 },
 "nbformat": 4,
 "nbformat_minor": 5
}
