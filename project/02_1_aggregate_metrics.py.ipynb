{
 "cells": [
  {
   "cell_type": "code",
   "execution_count": null,
   "id": "031a2a3f-2367-469b-8186-836b53eacced",
   "metadata": {},
   "outputs": [],
   "source": [
    "import pandas as pd\n",
    "\n",
    "from vaep.models.collect_dumps import collect_metrics"
   ]
  },
  {
   "cell_type": "code",
   "execution_count": null,
   "id": "c2e09620",
   "metadata": {},
   "outputs": [],
   "source": [
    "all_metrics = collect_metrics(snakemake.input)\n",
    "\n",
    "all_metrics = pd.DataFrame(all_metrics)\n",
    "all_metrics.to_json(snakemake.output.out)\n",
    "all_metrics"
   ]
  },
  {
   "cell_type": "code",
   "execution_count": null,
   "id": "37441394-a387-46be-963d-a90897f592af",
   "metadata": {},
   "outputs": [],
   "source": [
    "all_metrics"
   ]
  }
 ],
 "metadata": {
  "kernelspec": {
   "display_name": "Python 3",
   "language": "python",
   "name": "python3"
  },
  "language_info": {
   "codemirror_mode": {
    "name": "ipython",
    "version": 3
   },
   "file_extension": ".py",
   "mimetype": "text/x-python",
   "name": "python",
   "nbconvert_exporter": "python",
   "pygments_lexer": "ipython3",
   "version": "3.8.13"
  },
  "toc": {
   "base_numbering": 1,
   "nav_menu": {},
   "number_sections": true,
   "sideBar": true,
   "skip_h1_title": false,
   "title_cell": "Table of Contents",
   "title_sidebar": "Contents",
   "toc_cell": false,
   "toc_position": {},
   "toc_section_display": true,
   "toc_window_display": false
  },
  "vscode": {
   "interpreter": {
    "hash": "7d773e1285093e5d1efa66e5c257432b552c5ab759d2ddd74cbe595bf26f7542"
   }
  }
 },
 "nbformat": 4,
 "nbformat_minor": 5
}
