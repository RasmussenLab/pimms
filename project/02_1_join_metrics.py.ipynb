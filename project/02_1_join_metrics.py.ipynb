{
 "cells": [
  {
   "cell_type": "markdown",
   "id": "a5d082d2",
   "metadata": {},
   "outputs": [],
   "source": [
    "# Join aggregated configs from each model"
   ]
  },
  {
   "cell_type": "code",
   "execution_count": 2,
   "id": "d196e7af",
   "metadata": {},
   "outputs": [],
   "source": [
    "import pandas as pd"
   ]
  },
  {
   "cell_type": "code",
   "execution_count": 3,
   "id": "1f455f53",
   "metadata": {},
   "outputs": [],
   "source": [
    "filepaths_in = snakemake.input\n",
    "filepath_out = snakemake.output[0]\n",
    "filepaths_in"
   ]
  },
  {
   "cell_type": "code",
   "execution_count": 4,
   "id": "df472356",
   "metadata": {
    "lines_to_next_cell": 1
   },
   "outputs": [],
   "source": [
    "filepath_out"
   ]
  },
  {
   "cell_type": "markdown",
   "id": "61b74258",
   "metadata": {},
   "outputs": [],
   "source": [
    "## Example \n",
    "\n",
    "- first file"
   ]
  },
  {
   "cell_type": "code",
   "execution_count": 12,
   "id": "6ce11572",
   "metadata": {},
   "outputs": [],
   "source": [
    "def process(fpath: str) -> pd.DataFrame:\n",
    "    df = pd.read_csv(fpath, index_col=0, header=list(range(4)))\n",
    "    return df\n",
    "\n",
    "\n",
    "process(filepaths_in[0])"
   ]
  },
  {
   "cell_type": "markdown",
   "id": "a4395a52",
   "metadata": {},
   "outputs": [],
   "source": [
    "## Load all model configs"
   ]
  },
  {
   "cell_type": "code",
   "execution_count": 13,
   "id": "0472f6ba",
   "metadata": {},
   "outputs": [],
   "source": [
    "configs = pd.concat([\n",
    "    process(fpath) for fpath in filepaths_in\n",
    "])\n",
    "configs"
   ]
  },
  {
   "cell_type": "markdown",
   "id": "75b78be6",
   "metadata": {},
   "outputs": [],
   "source": [
    "## Dump combined to disk"
   ]
  },
  {
   "cell_type": "code",
   "execution_count": 15,
   "id": "dfd243ee",
   "metadata": {},
   "outputs": [],
   "source": [
    "_ = configs.to_csv(filepath_out)\n",
    "filepath_out"
   ]
  }
 ],
 "metadata": {
  "kernelspec": {
   "display_name": "Python 3",
   "language": "python",
   "name": "python3"
  },
  "language_info": {
   "codemirror_mode": {
    "name": "ipython",
    "version": 3
   },
   "file_extension": ".py",
   "mimetype": "text/x-python",
   "name": "python",
   "nbconvert_exporter": "python",
   "pygments_lexer": "ipython3",
   "version": "3.8.13"
  },
  "vscode": {
   "interpreter": {
    "hash": "cf83e9cb890c7f96eb0ae04f39a82254555f56a1a0ed2f03b23a8b40fe6cd31c"
   }
  }
 },
 "nbformat": 4,
 "nbformat_minor": 5
}
