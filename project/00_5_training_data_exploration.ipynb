{
 "cells": [
  {
   "cell_type": "markdown",
   "metadata": {},
   "source": [
    "# # Inspect data using plots\n",
    "- spread of intensities between samples\n",
    "- spread of intensities within samples\n",
    "- missing data plots: violin, box and histogram - both for features and samples\n",
    "   - optionally: plot proposed cutoffs (on per default)\n",
    "- correlation analysis: can linear correlation be picked up?\n",
    "-\n",
    "\n",
    "Does not save filtered data, this is done by splitting notebook. Only visualisations."
   ]
  },
  {
   "cell_type": "code",
   "execution_count": null,
   "metadata": {
    "lines_to_next_cell": 2
   },
   "outputs": [],
   "source": [
    "import json\n",
    "from pathlib import Path\n",
    "\n",
    "import numpy as np\n",
    "import pandas as pd\n",
    "import matplotlib.pyplot as plt\n",
    "import seaborn as sns\n",
    "\n",
    "import matplotlib\n",
    "\n",
    "import vaep\n",
    "from vaep import plotting\n",
    "from vaep.pandas import missing_data\n",
    "import vaep.data_handling\n",
    "from vaep.analyzers import analyzers\n",
    "\n",
    "matplotlib.rcParams.update({'font.size': 5,\n",
    "                            'figure.figsize': [4.0, 2.0]})"
   ]
  },
  {
   "attachments": {},
   "cell_type": "markdown",
   "metadata": {},
   "source": [
    "### Parameters"
   ]
  },
  {
   "cell_type": "code",
   "execution_count": null,
   "metadata": {
    "lines_to_next_cell": 2,
    "tags": [
     "parameters"
    ]
   },
   "outputs": [],
   "source": [
    "FN_INTENSITIES:str = 'data/dev_datasets/df_intensities_proteinGroups_long/Q_Exactive_HF_X_Orbitrap_6070.pkl'\n",
    "FOLDER_EXPERIMENT:str = 'runs/data_exploration/dev_datasets/proteins/Q_Exactive_HF_X_Orbitrap_6070'\n",
    "N_FIRST_ROWS = None # possibility to select N first rows\n",
    "log_transform: bool = True # log transform data\n",
    "INDEX_COL: list = [0,1] # list of integers or string denoting the index columns (used for csv)\n",
    "LONG_FORMAT: bool = True # if True, the data is expected to be in long format\n",
    "# Threshold used later for data filtering (here only for visualisation)\n",
    "COMPLETENESS_OVER_SAMPLES = 0.25  # 25% of samples have to have that features\n",
    "MIN_FEAT_PER_SAMPLE = .4  # 40% of features selected in first step"
   ]
  },
  {
   "cell_type": "code",
   "execution_count": null,
   "metadata": {},
   "outputs": [],
   "source": [
    "FOLDER_EXPERIMENT = Path(FOLDER_EXPERIMENT)\n",
    "FN_INTENSITIES = Path(FN_INTENSITIES)\n",
    "\n",
    "FIGUREFOLDER = FOLDER_EXPERIMENT / 'figures' \n",
    "FIGUREFOLDER.mkdir(exist_ok=True, parents=True)\n",
    "FIGUREFOLDER\n",
    "\n",
    "files_out = dict()"
   ]
  },
  {
   "cell_type": "code",
   "execution_count": null,
   "metadata": {
    "lines_to_next_cell": 0
   },
   "outputs": [],
   "source": [
    "if FN_INTENSITIES.suffix == '.pkl':\n",
    "    data = pd.read_pickle(FN_INTENSITIES)\n",
    "elif FN_INTENSITIES.suffix == '.csv':\n",
    "    data = pd.read_csv(FN_INTENSITIES, INDEX_COL=[0,1], nrows=N_FIRST_ROWS)\n",
    "data"
   ]
  },
  {
   "cell_type": "code",
   "execution_count": null,
   "id": "bf001d57",
   "metadata": {},
   "outputs": [],
   "source": [
    "if LONG_FORMAT:\n",
    "    data = data.unstack()\n",
    "data = np.log2(data)\n",
    "data"
   ]
  },
  {
   "cell_type": "code",
   "execution_count": null,
   "id": "844093bb",
   "metadata": {},
   "outputs": [],
   "source": [
    "records = dict(inital=missing_data.get_record(data))\n",
    "records"
   ]
  },
  {
   "cell_type": "markdown",
   "id": "02d785a7",
   "metadata": {},
   "source": [
    "- filtering based on many other samples?\n",
    "- low feature completeness threshold in comparison to other approaches"
   ]
  },
  {
   "cell_type": "code",
   "execution_count": null,
   "id": "809c0afe",
   "metadata": {},
   "outputs": [],
   "source": [
    "# maybe would be good to throw some terrible samples away (hard minimum treshold)\n",
    "# won't change a lot, but get rid of dummy samples\n",
    "# mask = data.notna().sum(axis=1) > 200\n",
    "# mask.sum()"
   ]
  },
  {
   "cell_type": "code",
   "execution_count": null,
   "id": "1c4948de",
   "metadata": {},
   "outputs": [],
   "source": [
    "min_samples_per_feat = int(len(data) * COMPLETENESS_OVER_SAMPLES)\n",
    "print(f\"{min_samples_per_feat = }\")\n",
    "mask = data.notna().sum(axis=0) > min_samples_per_feat\n",
    "print(f\"drop = {(~mask).sum()} features\")\n",
    "selected = data.loc[:, mask]\n",
    "selected.shape"
   ]
  },
  {
   "cell_type": "code",
   "execution_count": null,
   "id": "424b41ca",
   "metadata": {},
   "outputs": [],
   "source": [
    "min_feat_per_sample = int(selected.shape[-1] * MIN_FEAT_PER_SAMPLE)\n",
    "print(f\"{min_feat_per_sample = }\")\n",
    "samples_selected = selected.notna().sum(axis=1) >= min_feat_per_sample\n",
    "print(f\"drop = {(~samples_selected).sum()} samples\")\n",
    "selected = selected[samples_selected]\n",
    "selected.shape"
   ]
  },
  {
   "cell_type": "code",
   "execution_count": null,
   "id": "730dc74a",
   "metadata": {
    "lines_to_next_cell": 2
   },
   "outputs": [],
   "source": [
    "fig = plotting.data.plot_missing_dist_highdim(data,\n",
    "                                min_feat_per_sample=min_feat_per_sample,\n",
    "                                min_samples_per_feat=min_samples_per_feat)\n",
    "fname = FIGUREFOLDER / f'dist_all_lineplot.pdf'\n",
    "files_out[fname.name] = fname\n",
    "vaep.savefig(fig, name=fname)"
   ]
  },
  {
   "cell_type": "code",
   "execution_count": null,
   "id": "d389155f",
   "metadata": {},
   "outputs": [],
   "source": [
    "fig = plotting.data.plot_missing_pattern_histogram(data,\n",
    "                               min_feat_per_sample=min_feat_per_sample,\n",
    "                               min_samples_per_feat=min_samples_per_feat)\n",
    "fname = FIGUREFOLDER / f'dist_all_histogram.pdf'\n",
    "files_out[fname.name] = fname\n",
    "vaep.savefig(fig, name=fname)"
   ]
  },
  {
   "cell_type": "markdown",
   "id": "43483729",
   "metadata": {},
   "source": [
    "Boxplots"
   ]
  },
  {
   "cell_type": "code",
   "execution_count": null,
   "id": "9e9c52e3",
   "metadata": {},
   "outputs": [],
   "source": [
    "fig = plotting.data.plot_missing_dist_boxplots(data)\n",
    "fname = FIGUREFOLDER / f'dist_all_boxplots.pdf'\n",
    "files_out[fname.name] = fname\n",
    "vaep.savefig(fig, name=fname)"
   ]
  },
  {
   "cell_type": "code",
   "execution_count": null,
   "id": "6217141a",
   "metadata": {},
   "outputs": [],
   "source": [
    "fig = plotting.data.plot_missing_pattern_violinplot(\n",
    "    data, min_feat_per_sample, min_samples_per_feat)\n",
    "fname = FIGUREFOLDER / f'dist_all_violin_plot.pdf'\n",
    "files_out[fname.name] = fname\n",
    "vaep.savefig(fig, name=fname)"
   ]
  },
  {
   "cell_type": "code",
   "execution_count": null,
   "id": "da498111",
   "metadata": {
    "lines_to_next_cell": 0
   },
   "outputs": [],
   "source": []
  },
  {
   "cell_type": "code",
   "execution_count": null,
   "id": "3a007a53",
   "metadata": {},
   "outputs": [],
   "source": [
    "ax = plotting.data.plot_feat_median_over_prop_missing(data=data, type='scatter', s=1)\n",
    "fname = FIGUREFOLDER / 'intensity_median_vs_prop_missing_scatter'\n",
    "files_out[fname.stem] = fname\n",
    "vaep.savefig(ax.get_figure(), fname)"
   ]
  },
  {
   "cell_type": "code",
   "execution_count": null,
   "id": "b860175e",
   "metadata": {
    "lines_to_next_cell": 2
   },
   "outputs": [],
   "source": [
    "ax = plotting.data.plot_feat_median_over_prop_missing(data=data, type='boxplot', s=.8)\n",
    "fname = FIGUREFOLDER / 'intensity_median_vs_prop_missing_boxplot'\n",
    "files_out[fname.stem] = fname\n",
    "vaep.savefig(ax.get_figure(), fname)"
   ]
  },
  {
   "cell_type": "code",
   "execution_count": null,
   "id": "5512cc50",
   "metadata": {},
   "outputs": [],
   "source": [
    "records.update(\n",
    "    dict(filtered=missing_data.get_record(selected)))\n",
    "records.update({'params':\n",
    "                dict(MIN_FEAT_PER_SAMPLE=float(MIN_FEAT_PER_SAMPLE),\n",
    "                     COMPLETENESS_OVER_SAMPLES=float(\n",
    "                         COMPLETENESS_OVER_SAMPLES),\n",
    "                     min_feat_per_sample=int(min_feat_per_sample),\n",
    "                     min_samples_per_feat=int(min_samples_per_feat),)\n",
    "                })\n",
    "records"
   ]
  },
  {
   "cell_type": "code",
   "execution_count": null,
   "id": "f68ad7a3",
   "metadata": {
    "lines_to_next_cell": 2
   },
   "outputs": [],
   "source": [
    "fname = FOLDER_EXPERIMENT / 'records.json'\n",
    "files_out[fname.name] = fname\n",
    "with open(fname, 'w') as f:\n",
    "    json.dump(records, f, indent=4)"
   ]
  },
  {
   "cell_type": "markdown",
   "metadata": {},
   "source": [
    "## Correlation between peptides\n",
    "- linear correlation as indicator that there is some variation which could be used by models (or other heuristics)"
   ]
  },
  {
   "cell_type": "code",
   "execution_count": null,
   "metadata": {},
   "outputs": [],
   "source": [
    "%%time\n",
    "corr_lower_triangle = analyzers.corr_lower_triangle(data)\n",
    "fig, axes = analyzers.plot_corr_histogram(corr_lower_triangle, bins=40)\n",
    "fname = FIGUREFOLDER / f'corr_histogram_feat.pdf'\n",
    "files_out[fname.name] = fname\n",
    "vaep.savefig(fig, name=fname)"
   ]
  },
  {
   "cell_type": "markdown",
   "id": "52e6f743",
   "metadata": {},
   "source": [
    "### Coefficient of variation (CV) of features"
   ]
  },
  {
   "cell_type": "code",
   "execution_count": null,
   "metadata": {
    "lines_to_next_cell": 2
   },
   "outputs": [],
   "source": [
    "cv = data.std() / data.mean()\n",
    "# biological coefficient of variation: standard deviation (variation) w.r.t mean\n",
    "ax = cv.hist(bins=30)\n",
    "fname = FIGUREFOLDER / f'CV_histogram_features.pdf'\n",
    "files_out[fname.name] = fname\n",
    "vaep.savefig(ax.get_figure(), name=fname)"
   ]
  },
  {
   "cell_type": "code",
   "execution_count": null,
   "id": "43105b5c",
   "metadata": {},
   "outputs": [],
   "source": [
    "\n"
   ]
  },
  {
   "cell_type": "markdown",
   "metadata": {},
   "source": [
    "## Clustermap and heatmaps of missing values"
   ]
  },
  {
   "cell_type": "code",
   "execution_count": null,
   "metadata": {},
   "outputs": [],
   "source": [
    "# USE_CBAR = False\n",
    "\n",
    "# axes_heatmap_missing = sns.heatmap(data_to_visualize,\n",
    "#                                    ax=axes_heatmap_missing,\n",
    "#                                    cbar = USE_CBAR,\n",
    "#                                   )"
   ]
  },
  {
   "cell_type": "markdown",
   "metadata": {},
   "source": [
    "## Sample stats"
   ]
  },
  {
   "cell_type": "code",
   "execution_count": null,
   "metadata": {},
   "outputs": [],
   "source": [
    "TYPE = 'feat'\n",
    "COL_NO_MISSING, COL_NO_IDENTIFIED = f'no_missing_{TYPE}', f'no_identified_{TYPE}'\n",
    "COL_PROP_SAMPLES = 'prop_samples'\n",
    "\n",
    "\n",
    "sample_stats = vaep.data_handling.compute_stats_missing(data.notna(), COL_NO_MISSING, COL_NO_IDENTIFIED )\n",
    "sample_stats"
   ]
  },
  {
   "cell_type": "code",
   "execution_count": null,
   "metadata": {},
   "outputs": [],
   "source": [
    "fig_ident = sns.relplot(\n",
    "    x='SampleID_int', y=COL_NO_IDENTIFIED, data=sample_stats)\n",
    "fig_ident.set_axis_labels('Sample ID', f'Frequency of identified {TYPE}')\n",
    "fig_ident.fig.suptitle(f'Frequency of identified {TYPE} by sample id', y=1.03)\n",
    "vaep.savefig(fig_ident, f'identified_{TYPE}_by_sample', folder=FIGUREFOLDER)\n",
    "\n",
    "fig_ident_dist = sns.relplot(\n",
    "    x=COL_PROP_SAMPLES, y=COL_NO_IDENTIFIED, data=sample_stats)\n",
    "fig_ident_dist.set_axis_labels(\n",
    "    'Proportion of samples (sorted by frequency)', f'Frequency of identified {TYPE}')\n",
    "fig_ident_dist.fig.suptitle(\n",
    "    f'Frequency of identified {TYPE} groups by sample id', y=1.03)\n",
    "fname = FIGUREFOLDER / f'identified_{TYPE}_ordered.pdf'\n",
    "files_out[fname.name] = fname\n",
    "vaep.savefig(fig_ident_dist, fname)"
   ]
  },
  {
   "cell_type": "code",
   "execution_count": null,
   "metadata": {
    "lines_to_next_cell": 1
   },
   "outputs": [],
   "source": [
    "COL_NO_MISSING_PROP = COL_NO_MISSING + '_PROP'\n",
    "sample_stats[COL_NO_MISSING_PROP] = sample_stats[COL_NO_MISSING] / \\\n",
    "    float(data.shape[1])\n",
    "sns.set(style=\"white\")\n",
    "g = sns.relplot(x='prop_samples', y=COL_NO_MISSING_PROP, data=sample_stats)\n",
    "plt.subplots_adjust(top=0.9)\n",
    "g.set_axis_labels(\n",
    "    \"Proportion of samples (sorted by frequency)\", \"proportion missing\")\n",
    "g.fig.suptitle(f'Proportion of missing {TYPE} ordered')\n",
    "\n",
    "fname = FIGUREFOLDER / 'proportion_feat_missing.pdf'\n",
    "files_out[fname.name] = fname\n",
    "vaep.savefig(g, fname)"
   ]
  },
  {
   "cell_type": "markdown",
   "metadata": {},
   "source": [
    "### Reference table intensities (log2)"
   ]
  },
  {
   "cell_type": "code",
   "execution_count": null,
   "metadata": {
    "lines_to_next_cell": 2
   },
   "outputs": [],
   "source": [
    "def get_dynamic_range(min_max):\n",
    "    dynamic_range = pd.DataFrame(range(*min_max), columns=['x'])\n",
    "    dynamic_range['$2^x$'] = dynamic_range.x.apply(lambda x: 2**x)\n",
    "    dynamic_range.set_index('x', inplace=True)\n",
    "    dynamic_range.index.name = ''\n",
    "    dynamic_range = dynamic_range.T\n",
    "    return dynamic_range\n",
    "\n",
    "min_max = int(data.min().min()), int(data.max().max()) + 1\n",
    "dynamic_range = None\n",
    "if min_max[1] < 100:\n",
    "    dynamic_range = get_dynamic_range(min_max)\n",
    "dynamic_range"
   ]
  },
  {
   "cell_type": "code",
   "execution_count": null,
   "metadata": {},
   "outputs": [],
   "source": [
    "files_out"
   ]
  }
 ],
 "metadata": {
  "kernelspec": {
   "display_name": "vaep",
   "language": "python",
   "name": "vaep"
  },
  "language_info": {
   "codemirror_mode": {
    "name": "ipython",
    "version": 3
   },
   "file_extension": ".py",
   "mimetype": "text/x-python",
   "name": "python",
   "nbconvert_exporter": "python",
   "pygments_lexer": "ipython3",
   "version": "3.8.13 (default, Mar 28 2022, 06:59:08) [MSC v.1916 64 bit (AMD64)]"
  },
  "nbdime-conflicts": {
   "local_diff": [
    {
     "diff": [
      {
       "diff": [
        {
         "diff": [
          {
           "key": 4,
           "op": "addrange",
           "valuelist": "5"
          },
          {
           "key": 4,
           "length": 1,
           "op": "removerange"
          }
         ],
         "key": 0,
         "op": "patch"
        }
       ],
       "key": "version",
       "op": "patch"
      }
     ],
     "key": "language_info",
     "op": "patch"
    }
   ],
   "remote_diff": [
    {
     "diff": [
      {
       "diff": [
        {
         "key": 0,
         "length": 1,
         "op": "removerange"
        }
       ],
       "key": "version",
       "op": "patch"
      }
     ],
     "key": "language_info",
     "op": "patch"
    }
   ]
  }
 },
 "nbformat": 4,
 "nbformat_minor": 4
}
