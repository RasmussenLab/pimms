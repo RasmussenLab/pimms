{
 "cells": [
  {
   "cell_type": "markdown",
   "metadata": {},
   "source": [
    "# Inspect data using plots\n",
    "- spread of intensities between samples\n",
    "- spread of intensities within samples\n",
    "- missing data plots: violin, box and histogram - both for features and samples\n",
    "   - optionally: plot proposed cutoffs (on per default)\n",
    "- correlation analysis: can linear correlation be picked up?\n",
    "-\n",
    "\n",
    "Does not save filtered data, this is done by splitting notebook. Only visualisations."
   ]
  },
  {
   "cell_type": "code",
   "execution_count": null,
   "metadata": {},
   "outputs": [],
   "source": [
    "import json\n",
    "from pathlib import Path\n",
    "\n",
    "import numpy as np\n",
    "import pandas as pd\n",
    "import matplotlib.pyplot as plt\n",
    "import seaborn as sns\n",
    "\n",
    "import matplotlib\n",
    "\n",
    "import vaep\n",
    "from vaep import plotting\n",
    "from vaep.pandas import missing_data\n",
    "import vaep.data_handling\n",
    "from vaep.analyzers import analyzers\n",
    "\n",
    "logger = vaep.logging.setup_nb_logger()\n",
    "\n",
    "matplotlib.rcParams.update({'font.size': 5,\n",
    "                            'figure.figsize': [4.0, 2.0]})\n",
    "\n",
    "\n",
    "def only_every_x_ticks(ax, x=2):\n",
    "    \"\"\"Sparse out ticks on both axis by factor x\"\"\"\n",
    "    ax.set_xticks(ax.get_xticks()[::x])\n",
    "    ax.set_yticks(ax.get_yticks()[::x])\n",
    "    return ax\n",
    "\n",
    "\n",
    "def use_first_n_chars_in_labels(ax, x=2):\n",
    "    \"\"\"Take first N characters of labels and use them as new labels\"\"\"\n",
    "    # xaxis\n",
    "    _new_labels = [l.get_text()[:x]\n",
    "                   for l in ax.get_xticklabels()]\n",
    "    _ = ax.set_xticklabels(_new_labels)\n",
    "    # yaxis\n",
    "    _new_labels = [l.get_text()[:x] for l in ax.get_yticklabels()]\n",
    "    _ = ax.set_yticklabels(_new_labels)\n",
    "    return ax\n",
    "\n",
    "\n",
    "def split_xticklabels(ax, PG_SEPARATOR=';'):\n",
    "    \"\"\"Split labels by PG_SEPARATOR and only use first part\"\"\"\n",
    "    if PG_SEPARATOR is not None:\n",
    "        _new_labels = [l.get_text().split(PG_SEPARATOR)[0]\n",
    "                       for l in ax.get_xticklabels()]\n",
    "        _ = ax.set_xticklabels(_new_labels)\n",
    "    return ax\n",
    "\n",
    "\n",
    "def get_clustermap(data):\n",
    "    from sklearn.impute import SimpleImputer\n",
    "    from vaep.pandas import _add_indices\n",
    "    X = SimpleImputer().fit_transform(data)\n",
    "    X = _add_indices(X, data)\n",
    "    cg = sns.clustermap(X,\n",
    "                        z_score=0,\n",
    "                        cmap=\"vlag\",\n",
    "                        center=0,\n",
    "                        cbar_pos=(0.02, 0.83, 0.05, 0.15)\n",
    "                        )\n",
    "    return cg\n",
    "\n",
    "\n",
    "def get_dynamic_range(min_max):\n",
    "    dynamic_range = pd.DataFrame(range(*min_max), columns=['x'])\n",
    "    dynamic_range['$2^x$'] = dynamic_range.x.apply(lambda x: 2**x)\n",
    "    dynamic_range.set_index('x', inplace=True)\n",
    "    dynamic_range.index.name = ''\n",
    "    dynamic_range = dynamic_range.T\n",
    "    return dynamic_range"
   ]
  },
  {
   "cell_type": "markdown",
   "metadata": {},
   "source": [
    "## Parameters"
   ]
  },
  {
   "cell_type": "code",
   "execution_count": null,
   "metadata": {
    "lines_to_next_cell": 2,
    "tags": [
     "parameters"
    ]
   },
   "outputs": [],
   "source": [
    "FN_INTENSITIES: str = 'data/dev_datasets/HeLa_6070/protein_groups_wide_N50.csv'\n",
    "FOLDER_EXPERIMENT: str = 'runs/example/data_inspection'\n",
    "N_FIRST_ROWS = None  # possibility to select N first rows\n",
    "LOG_TRANSFORM: bool = True  # log transform data\n",
    "# list of integers or string denoting the index columns (used for csv)\n",
    "INDEX_COL: list = [0]\n",
    "LONG_FORMAT: bool = False  # if True, the data is expected to be in long format\n",
    "# Threshold used later for data filtering (here only for visualisation)\n",
    "COMPLETENESS_OVER_SAMPLES = 0.25  # 25% of samples have to have that features\n",
    "MIN_FEAT_PER_SAMPLE = .4  # 40% of features selected in first step\n",
    "# protein group separator, e.g.';'  (could also be gene groups)\n",
    "PG_SEPARATOR: str = ';'\n",
    "SAMPLE_FIRST_N_CHARS: int = 16  # number of characters used for sample names"
   ]
  },
  {
   "cell_type": "markdown",
   "metadata": {},
   "source": [
    "## Load and check data\n",
    "\n",
    "- supported for now: pickle and comma separated\n",
    "- transform long to wide data?\n",
    "- log transform data using logarithm of two?\n",
    "- remove entirely missing columns (features) or rows (samples)"
   ]
  },
  {
   "cell_type": "code",
   "execution_count": null,
   "metadata": {},
   "outputs": [],
   "source": [
    "FOLDER_EXPERIMENT = Path(FOLDER_EXPERIMENT)\n",
    "FN_INTENSITIES = Path(FN_INTENSITIES)\n",
    "\n",
    "FIGUREFOLDER = FOLDER_EXPERIMENT / 'figures'\n",
    "FIGUREFOLDER.mkdir(exist_ok=True, parents=True)\n",
    "FIGUREFOLDER\n",
    "\n",
    "files_out = dict()"
   ]
  },
  {
   "cell_type": "code",
   "execution_count": null,
   "metadata": {
    "lines_to_next_cell": 0
   },
   "outputs": [],
   "source": [
    "if FN_INTENSITIES.suffix == '.pkl':\n",
    "    data = pd.read_pickle(FN_INTENSITIES)\n",
    "elif FN_INTENSITIES.suffix == '.csv':\n",
    "    data = pd.read_csv(FN_INTENSITIES, index_col=INDEX_COL, nrows=N_FIRST_ROWS)\n",
    "data"
   ]
  },
  {
   "cell_type": "code",
   "execution_count": null,
   "metadata": {},
   "outputs": [],
   "source": [
    "if LONG_FORMAT:\n",
    "    data = data.squeeze().unstack()\n",
    "if LOG_TRANSFORM:\n",
    "    data = np.log2(data)\n",
    "\n",
    "# drop entrily missing rows or columns\n",
    "data = data.dropna(axis=0, how='all').dropna(axis=1, how='all')\n",
    "data"
   ]
  },
  {
   "cell_type": "code",
   "execution_count": null,
   "metadata": {},
   "outputs": [],
   "source": [
    "if len(data.columns.names) > 1:\n",
    "    _levels_dropped = data.columns.names[1:]\n",
    "    data.columns = data.columns.droplevel(_levels_dropped)\n",
    "    logger.warning(\"Drop multiindex level, kepp only first. Dropped: \"\n",
    "                   f\"{_levels_dropped}\")"
   ]
  },
  {
   "cell_type": "markdown",
   "metadata": {},
   "source": [
    "## Calculate cutoffs for visualization and stats"
   ]
  },
  {
   "cell_type": "markdown",
   "metadata": {},
   "source": [
    "- filtering based on many other samples?\n",
    "- low feature completeness threshold in comparison to other approaches"
   ]
  },
  {
   "cell_type": "code",
   "execution_count": null,
   "metadata": {},
   "outputs": [],
   "source": [
    "min_samples_per_feat = int(len(data) * COMPLETENESS_OVER_SAMPLES)\n",
    "print(f\"{min_samples_per_feat = }\")\n",
    "mask = data.notna().sum(axis=0) > min_samples_per_feat\n",
    "print(f\"drop = {(~mask).sum()} features\")\n",
    "selected = data.loc[:, mask]\n",
    "selected.shape"
   ]
  },
  {
   "cell_type": "code",
   "execution_count": null,
   "metadata": {},
   "outputs": [],
   "source": [
    "min_feat_per_sample = int(selected.shape[-1] * MIN_FEAT_PER_SAMPLE)\n",
    "print(f\"{min_feat_per_sample = }\")\n",
    "samples_selected = selected.notna().sum(axis=1) >= min_feat_per_sample\n",
    "print(f\"drop = {(~samples_selected).sum()} samples\")\n",
    "selected = selected[samples_selected]\n",
    "selected.shape"
   ]
  },
  {
   "cell_type": "markdown",
   "metadata": {},
   "source": [
    "### Update records if cutoffs would be used"
   ]
  },
  {
   "cell_type": "code",
   "execution_count": null,
   "metadata": {},
   "outputs": [],
   "source": [
    "records = dict(inital=missing_data.get_record(data))\n",
    "records"
   ]
  },
  {
   "cell_type": "code",
   "execution_count": null,
   "metadata": {},
   "outputs": [],
   "source": [
    "records.update(\n",
    "    dict(filtered=missing_data.get_record(selected)))\n",
    "records.update({'params':\n",
    "                dict(MIN_FEAT_PER_SAMPLE=float(MIN_FEAT_PER_SAMPLE),\n",
    "                     COMPLETENESS_OVER_SAMPLES=float(\n",
    "                         COMPLETENESS_OVER_SAMPLES),\n",
    "                     min_feat_per_sample=int(min_feat_per_sample),\n",
    "                     min_samples_per_feat=int(min_samples_per_feat),)\n",
    "                })\n",
    "records"
   ]
  },
  {
   "cell_type": "code",
   "execution_count": null,
   "metadata": {
    "lines_to_next_cell": 2
   },
   "outputs": [],
   "source": [
    "fname = FOLDER_EXPERIMENT / 'records.json'\n",
    "files_out[fname.name] = fname\n",
    "with open(fname, 'w') as f:\n",
    "    json.dump(records, f, indent=4)"
   ]
  },
  {
   "cell_type": "markdown",
   "metadata": {},
   "source": [
    "## Plot basic distribution present-absent pattern of features and samples\n",
    "\n",
    "### Line plots"
   ]
  },
  {
   "cell_type": "code",
   "execution_count": null,
   "metadata": {
    "lines_to_next_cell": 2
   },
   "outputs": [],
   "source": [
    "fig = plotting.data.plot_missing_dist_highdim(data,\n",
    "                                              min_feat_per_sample=min_feat_per_sample,\n",
    "                                              min_samples_per_feat=min_samples_per_feat)\n",
    "fname = FIGUREFOLDER / f'dist_all_lineplot.pdf'\n",
    "files_out[fname.name] = fname\n",
    "vaep.savefig(fig, name=fname)"
   ]
  },
  {
   "cell_type": "code",
   "execution_count": null,
   "metadata": {},
   "outputs": [],
   "source": [
    "fig = plotting.data.plot_missing_pattern_histogram(data,\n",
    "                                                   min_feat_per_sample=min_feat_per_sample,\n",
    "                                                   min_samples_per_feat=min_samples_per_feat)\n",
    "fname = FIGUREFOLDER / f'dist_all_histogram.pdf'\n",
    "files_out[fname.name] = fname\n",
    "vaep.savefig(fig, name=fname)"
   ]
  },
  {
   "cell_type": "markdown",
   "metadata": {},
   "source": [
    "### Boxplots"
   ]
  },
  {
   "cell_type": "code",
   "execution_count": null,
   "metadata": {},
   "outputs": [],
   "source": [
    "fig = plotting.data.plot_missing_dist_boxplots(data)\n",
    "fname = FIGUREFOLDER / f'dist_all_boxplots.pdf'\n",
    "files_out[fname.name] = fname\n",
    "vaep.savefig(fig, name=fname)"
   ]
  },
  {
   "cell_type": "markdown",
   "metadata": {},
   "source": [
    "### Violinplots"
   ]
  },
  {
   "cell_type": "code",
   "execution_count": null,
   "metadata": {},
   "outputs": [],
   "source": [
    "fig = plotting.data.plot_missing_pattern_violinplot(\n",
    "    data, min_feat_per_sample, min_samples_per_feat)\n",
    "fname = FIGUREFOLDER / f'dist_all_violin_plot.pdf'\n",
    "files_out[fname.name] = fname\n",
    "vaep.savefig(fig, name=fname)"
   ]
  },
  {
   "cell_type": "markdown",
   "metadata": {
    "lines_to_next_cell": 0
   },
   "source": [
    "## Feature medians over prop. of missing of feature"
   ]
  },
  {
   "cell_type": "code",
   "execution_count": null,
   "metadata": {},
   "outputs": [],
   "source": [
    "ax = plotting.data.plot_feat_median_over_prop_missing(\n",
    "    data=data, type='scatter', s=1)\n",
    "fname = FIGUREFOLDER / 'intensity_median_vs_prop_missing_scatter'\n",
    "files_out[fname.stem] = fname\n",
    "vaep.savefig(ax.get_figure(), fname)"
   ]
  },
  {
   "cell_type": "code",
   "execution_count": null,
   "metadata": {
    "lines_to_next_cell": 2
   },
   "outputs": [],
   "source": [
    "ax = plotting.data.plot_feat_median_over_prop_missing(\n",
    "    data=data, type='boxplot', s=.8)\n",
    "fname = FIGUREFOLDER / 'intensity_median_vs_prop_missing_boxplot'\n",
    "files_out[fname.stem] = fname\n",
    "vaep.savefig(ax.get_figure(), fname)"
   ]
  },
  {
   "cell_type": "markdown",
   "metadata": {},
   "source": [
    "## Correlation between peptides\n",
    "- linear correlation as indicator that there is some variation which could be used by models (or other heuristics)"
   ]
  },
  {
   "cell_type": "code",
   "execution_count": null,
   "metadata": {
    "lines_to_next_cell": 2
   },
   "outputs": [],
   "source": [
    "%%time\n",
    "corr_lower_triangle = analyzers.corr_lower_triangle(data)\n",
    "fig, axes = analyzers.plot_corr_histogram(corr_lower_triangle, bins=40)\n",
    "fname = FIGUREFOLDER / f'corr_histogram_feat.pdf'\n",
    "files_out[fname.name] = fname\n",
    "vaep.savefig(fig, name=fname)"
   ]
  },
  {
   "cell_type": "markdown",
   "metadata": {},
   "source": [
    "### Coefficient of variation (CV) of features"
   ]
  },
  {
   "cell_type": "code",
   "execution_count": null,
   "metadata": {},
   "outputs": [],
   "source": [
    "cv = data.std() / data.mean()\n",
    "# biological coefficient of variation: standard deviation (variation) w.r.t mean\n",
    "ax = cv.hist(bins=30)\n",
    "fname = FIGUREFOLDER / f'CV_histogram_features.pdf'\n",
    "files_out[fname.name] = fname\n",
    "vaep.savefig(ax.get_figure(), name=fname)"
   ]
  },
  {
   "cell_type": "markdown",
   "metadata": {},
   "source": [
    "## Clustermap and heatmaps of missing values"
   ]
  },
  {
   "cell_type": "code",
   "execution_count": null,
   "metadata": {},
   "outputs": [],
   "source": [
    "cg = sns.clustermap(data.notna(), cbar_pos=None)\n",
    "ax = cg.ax_heatmap\n",
    "if PG_SEPARATOR is not None:\n",
    "    _new_labels = [l.get_text().split(PG_SEPARATOR)[0]\n",
    "                   for l in ax.get_xticklabels()]\n",
    "    _ = ax.set_xticklabels(_new_labels)\n",
    "fname = FIGUREFOLDER / 'clustermap_present_absent_pattern.png'\n",
    "files_out[fname.name] = fname\n",
    "vaep.savefig(cg.fig,\n",
    "             name=fname,\n",
    "             pdf=False)"
   ]
  },
  {
   "cell_type": "markdown",
   "metadata": {},
   "source": [
    "based on cluster, plot heatmaps of features and samples"
   ]
  },
  {
   "cell_type": "code",
   "execution_count": null,
   "metadata": {},
   "outputs": [],
   "source": [
    "assert (len(cg.dendrogram_row.reordered_ind), len(\n",
    "    cg.dendrogram_col.reordered_ind)) == data.shape"
   ]
  },
  {
   "cell_type": "code",
   "execution_count": null,
   "metadata": {},
   "outputs": [],
   "source": [
    "vaep.plotting.make_large_descriptors(5)\n",
    "ax = sns.heatmap(\n",
    "    data.iloc[cg.dendrogram_row.reordered_ind,\n",
    "              cg.dendrogram_col.reordered_ind],\n",
    "    #    cbar = USE_CBAR,\n",
    ")\n",
    "only_every_x_ticks(ax, x=2)\n",
    "use_first_n_chars_in_labels(ax, x=SAMPLE_FIRST_N_CHARS)\n",
    "if PG_SEPARATOR is not None:\n",
    "    _new_labels = [l.get_text().split(PG_SEPARATOR)[0]\n",
    "                   for l in ax.get_xticklabels()]\n",
    "    _ = ax.set_xticklabels(_new_labels)\n",
    "fname = FIGUREFOLDER / 'heatmap_intensities_ordered_by_missing_pattern.png'\n",
    "files_out[fname.name] = fname\n",
    "vaep.savefig(ax.get_figure(), name=fname, pdf=False)\n",
    "# ax.get_figure().savefig(fname, dpi=300)"
   ]
  },
  {
   "cell_type": "markdown",
   "metadata": {},
   "source": [
    "### Heatmap of sample and feature correlation"
   ]
  },
  {
   "cell_type": "code",
   "execution_count": null,
   "metadata": {},
   "outputs": [],
   "source": [
    "fig, ax = plt.subplots(figsize=(4, 4))\n",
    "ax = sns.heatmap(\n",
    "    analyzers.corr_lower_triangle(\n",
    "        data.iloc[:, cg.dendrogram_col.reordered_ind]),\n",
    "    ax=ax,\n",
    "    square=True,\n",
    ")\n",
    "_ = only_every_x_ticks(ax, x=2)\n",
    "_ = use_first_n_chars_in_labels(ax, x=SAMPLE_FIRST_N_CHARS)\n",
    "if PG_SEPARATOR is not None:\n",
    "    _new_labels = [l.get_text().split(PG_SEPARATOR)[0]\n",
    "                   for l in ax.get_xticklabels()]\n",
    "    _ = ax.set_xticklabels(_new_labels)\n",
    "fname = FIGUREFOLDER / 'heatmap_feature_correlation.png'\n",
    "files_out[fname.name] = fname\n",
    "vaep.savefig(fig, name=fname, pdf=False)"
   ]
  },
  {
   "cell_type": "code",
   "execution_count": null,
   "metadata": {},
   "outputs": [],
   "source": [
    "fig, ax = plt.subplots(figsize=(4, 4))\n",
    "ax = sns.heatmap(\n",
    "    analyzers.corr_lower_triangle(\n",
    "        data.T.iloc[:, cg.dendrogram_row.reordered_ind]),\n",
    "    ax=ax,\n",
    "    square=True,\n",
    ")\n",
    "_ = only_every_x_ticks(ax, x=2)\n",
    "_ = use_first_n_chars_in_labels(ax, x=SAMPLE_FIRST_N_CHARS)\n",
    "fname = FIGUREFOLDER / 'heatmap_sample_correlation.png'\n",
    "files_out[fname.name] = fname\n",
    "vaep.savefig(fig, name=fname, pdf=False)"
   ]
  },
  {
   "cell_type": "code",
   "execution_count": null,
   "metadata": {},
   "outputs": [],
   "source": [
    "cg = get_clustermap(data)\n",
    "ax = cg.ax_heatmap\n",
    "if PG_SEPARATOR is not None:\n",
    "    _new_labels = [l.get_text().split(PG_SEPARATOR)[0]\n",
    "                   for l in ax.get_xticklabels()]\n",
    "    _ = ax.set_xticklabels(_new_labels)\n",
    "\n",
    "fname = FIGUREFOLDER / 'clustermap_intensities_normalized.png'\n",
    "files_out[fname.name] = fname\n",
    "cg.fig.savefig(fname, dpi=300)  # avoid tight_layout\n",
    "# tight_layout makes the cbar a bit ugly\n",
    "# vaep.savefig(cg.fig,\n",
    "#              name=fname,\n",
    "#              pdf=False)"
   ]
  },
  {
   "cell_type": "markdown",
   "metadata": {},
   "source": [
    "## Sample stats"
   ]
  },
  {
   "cell_type": "code",
   "execution_count": null,
   "metadata": {},
   "outputs": [],
   "source": [
    "TYPE = 'feat'\n",
    "COL_NO_MISSING, COL_NO_IDENTIFIED = f'no_missing_{TYPE}', f'no_identified_{TYPE}'\n",
    "COL_PROP_SAMPLES = 'prop_samples'\n",
    "\n",
    "sample_stats = vaep.data_handling.compute_stats_missing(\n",
    "    data.notna(), COL_NO_MISSING, COL_NO_IDENTIFIED)\n",
    "sample_stats"
   ]
  },
  {
   "cell_type": "code",
   "execution_count": null,
   "metadata": {},
   "outputs": [],
   "source": [
    "fig_ident = sns.relplot(\n",
    "    x='SampleID_int', y=COL_NO_IDENTIFIED, data=sample_stats)\n",
    "fig_ident.set_axis_labels('Sample ID', f'Frequency of identified {TYPE}')\n",
    "fig_ident.fig.suptitle(f'Frequency of identified {TYPE} by sample id', y=1.03)\n",
    "vaep.savefig(fig_ident, f'identified_{TYPE}_by_sample', folder=FIGUREFOLDER)\n",
    "\n",
    "fig_ident_dist = sns.relplot(\n",
    "    x=COL_PROP_SAMPLES, y=COL_NO_IDENTIFIED, data=sample_stats)\n",
    "fig_ident_dist.set_axis_labels(\n",
    "    'Proportion of samples (sorted by frequency)', f'Frequency of identified {TYPE}')\n",
    "fig_ident_dist.fig.suptitle(\n",
    "    f'Frequency of identified {TYPE} groups by sample id', y=1.03)\n",
    "fname = FIGUREFOLDER / f'identified_{TYPE}_ordered.pdf'\n",
    "files_out[fname.name] = fname\n",
    "vaep.savefig(fig_ident_dist, fname)"
   ]
  },
  {
   "cell_type": "code",
   "execution_count": null,
   "metadata": {},
   "outputs": [],
   "source": [
    "COL_NO_MISSING_PROP = COL_NO_MISSING + '_PROP'\n",
    "sample_stats[COL_NO_MISSING_PROP] = sample_stats[COL_NO_MISSING] / \\\n",
    "    float(data.shape[1])\n",
    "sns.set(style=\"white\")\n",
    "g = sns.relplot(x='prop_samples', y=COL_NO_MISSING_PROP, data=sample_stats)\n",
    "plt.subplots_adjust(top=0.9)\n",
    "plt.ylim(0, 1)\n",
    "g.set_axis_labels(\n",
    "    \"Proportion of samples (sorted by frequency)\", \"proportion missing\")\n",
    "g.fig.suptitle(f'Proportion of missing {TYPE} ordered')\n",
    "\n",
    "fname = FIGUREFOLDER / 'proportion_feat_missing.pdf'\n",
    "files_out[fname.name] = fname\n",
    "vaep.savefig(g, fname)"
   ]
  },
  {
   "cell_type": "markdown",
   "metadata": {},
   "source": [
    "### Reference table intensities (log2)"
   ]
  },
  {
   "cell_type": "code",
   "execution_count": null,
   "metadata": {
    "lines_to_next_cell": 2
   },
   "outputs": [],
   "source": [
    "min_max = int(data.min().min()), int(data.max().max()) + 1\n",
    "dynamic_range = None\n",
    "if min_max[1] < 100:\n",
    "    dynamic_range = get_dynamic_range(min_max)\n",
    "dynamic_range"
   ]
  },
  {
   "cell_type": "code",
   "execution_count": null,
   "metadata": {},
   "outputs": [],
   "source": [
    "files_out"
   ]
  }
 ],
 "metadata": {
  "kernelspec": {
   "display_name": "vaep",
   "language": "python",
   "name": "vaep"
  },
  "language_info": {
   "codemirror_mode": {
    "name": "ipython",
    "version": 3
   },
   "file_extension": ".py",
   "mimetype": "text/x-python",
   "name": "python",
   "nbconvert_exporter": "python",
   "pygments_lexer": "ipython3",
   "version": "3.8.13"
  },
  "nbdime-conflicts": {
   "local_diff": [
    {
     "diff": [
      {
       "diff": [
        {
         "diff": [
          {
           "key": 4,
           "op": "addrange",
           "valuelist": "5"
          },
          {
           "key": 4,
           "length": 1,
           "op": "removerange"
          }
         ],
         "key": 0,
         "op": "patch"
        }
       ],
       "key": "version",
       "op": "patch"
      }
     ],
     "key": "language_info",
     "op": "patch"
    }
   ],
   "remote_diff": [
    {
     "diff": [
      {
       "diff": [
        {
         "key": 0,
         "length": 1,
         "op": "removerange"
        }
       ],
       "key": "version",
       "op": "patch"
      }
     ],
     "key": "language_info",
     "op": "patch"
    }
   ]
  }
 },
 "nbformat": 4,
 "nbformat_minor": 4
}
