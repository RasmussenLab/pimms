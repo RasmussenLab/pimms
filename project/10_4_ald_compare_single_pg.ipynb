{
 "cells": [
  {
   "cell_type": "markdown",
   "id": "53fbb5ed-e86e-44a5-ba62-eabcd7b48565",
   "metadata": {},
   "source": [
    "# Compare predictions between model and RSN\n",
    "\n",
    "- see differences in imputation for diverging cases\n",
    "- dumps top5"
   ]
  },
  {
   "cell_type": "code",
   "execution_count": null,
   "id": "4ffa9d4c-622f-46c3-847a-7f7474082ee4",
   "metadata": {},
   "outputs": [],
   "source": [
    "from pathlib import Path\n",
    "\n",
    "import matplotlib.pyplot as plt\n",
    "import pandas as pd\n",
    "import seaborn\n",
    "\n",
    "import vaep\n",
    "import vaep.analyzers\n",
    "import vaep.io.datasplits\n",
    "import vaep.imputation\n",
    "\n",
    "logger = vaep.logging.setup_nb_logger()"
   ]
  },
  {
   "cell_type": "markdown",
   "id": "e3192d11-2db7-440c-a80d-7a2e10799895",
   "metadata": {},
   "source": [
    "## Parameters"
   ]
  },
  {
   "cell_type": "code",
   "execution_count": null,
   "id": "e6ab3869-cc83-47ed-8ce2-0c8a470b96a6",
   "metadata": {},
   "outputs": [],
   "source": [
    "# catch passed parameters\n",
    "args = None\n",
    "args = dict(globals()).keys()"
   ]
  },
  {
   "cell_type": "code",
   "execution_count": null,
   "id": "8edfd1e5-719d-4905-a441-4a2a8ac5b14c",
   "metadata": {
    "tags": [
     "parameters"
    ]
   },
   "outputs": [],
   "source": [
    "folder_experiment = 'runs/appl_ald_data/plasma/proteinGroups'\n",
    "fn_clinical_data = \"data/ALD_study/processed/ald_metadata_cli.csv\"\n",
    "model_key = 'VAE'\n",
    "sample_id_col = 'Sample ID'\n",
    "target = 'kleiner'\n",
    "cutoff_target: int = 2  # => for binarization target >= cutoff_target\n",
    "out_folder = 'diff_analysis'\n",
    "file_format = 'csv'\n",
    "baseline = 'RSN' # default is RSN, but could be any other trained model\n",
    "template_pred = 'pred_real_na_{}.csv' # fixed, do not change"
   ]
  },
  {
   "cell_type": "code",
   "execution_count": null,
   "id": "b85c6c2a-146c-48bd-9d7b-1fe4eec8a6ae",
   "metadata": {
    "tags": []
   },
   "outputs": [],
   "source": [
    "params = vaep.nb.get_params(args, globals=globals())\n",
    "params"
   ]
  },
  {
   "cell_type": "code",
   "execution_count": null,
   "id": "8c833157-e36e-476b-a3bd-d604b962ef04",
   "metadata": {},
   "outputs": [],
   "source": [
    "args = vaep.nb.Config()\n",
    "args.folder_experiment = Path(params[\"folder_experiment\"])\n",
    "args = vaep.nb.add_default_paths(args,\n",
    "                                 out_root=(args.folder_experiment\n",
    "                                           / params[\"out_folder\"]\n",
    "                                           / params[\"target\"]\n",
    "                                           / f\"{params['baseline']}_vs_{params['model_key']}\"))\n",
    "args.folder_scores = (args.folder_experiment\n",
    "                      / 'scores'\n",
    "                      / params[\"out_folder\"]\n",
    "                      / params[\"target\"]\n",
    "                      )\n",
    "args.update_from_dict(params)\n",
    "args"
   ]
  },
  {
   "cell_type": "code",
   "execution_count": null,
   "id": "bc408ac3-85cc-4b39-be77-5202b23bbef7",
   "metadata": {},
   "outputs": [],
   "source": [
    "files_in = dict(diff_analysis=(args.out_folder /\n",
    "                               f'diff_analysis_compare_methods.xlsx'))\n",
    "files_in"
   ]
  },
  {
   "cell_type": "markdown",
   "id": "1a7ac4c7-3e2c-4a2f-9807-a9b1a8f2245f",
   "metadata": {},
   "source": [
    "## Load data for different decisions"
   ]
  },
  {
   "cell_type": "code",
   "execution_count": null,
   "id": "bfe00a5d-f883-4188-873e-07c8490be206",
   "metadata": {},
   "outputs": [],
   "source": [
    "# blank index columns -> previous entry is used..\n",
    "differences = pd.read_excel(\n",
    "    files_in['diff_analysis'], sheet_name='differences', index_col=[0, 1], header=[0, 1])\n",
    "differences[('comp', 'diff_qvalue')] = (\n",
    "    differences[(args.baseline, 'qvalue')] - differences[(args.model_key, 'qvalue')]).abs()\n",
    "differences = differences.sort_values(('comp', 'diff_qvalue'), ascending=False)\n",
    "differences"
   ]
  },
  {
   "cell_type": "markdown",
   "id": "81224abe",
   "metadata": {},
   "source": [
    "## Load target"
   ]
  },
  {
   "cell_type": "code",
   "execution_count": null,
   "id": "624d3301",
   "metadata": {
    "tags": []
   },
   "outputs": [],
   "source": [
    "target = pd.read_csv(args.fn_clinical_data, index_col=0,\n",
    "                     usecols=[args.sample_id_col, args.target])\n",
    "target = target.dropna()\n",
    "target"
   ]
  },
  {
   "cell_type": "code",
   "execution_count": null,
   "id": "a160ab0c",
   "metadata": {},
   "outputs": [],
   "source": [
    "target_to_group = target.copy()\n",
    "target = target >= args.cutoff_target\n",
    "pd.crosstab(target.squeeze(), target_to_group.squeeze())"
   ]
  },
  {
   "cell_type": "markdown",
   "id": "acd5f980-5f3a-4a75-8479-a65c595e5220",
   "metadata": {},
   "source": [
    "## Measurments"
   ]
  },
  {
   "cell_type": "code",
   "execution_count": null,
   "id": "7083535b-9a06-479e-9909-935d49311b00",
   "metadata": {
    "lines_to_next_cell": 2
   },
   "outputs": [],
   "source": [
    "data = vaep.io.datasplits.DataSplits.from_folder(\n",
    "    args.data, file_format=args.file_format)\n",
    "data = pd.concat([data.train_X, data.val_y, data.test_y]).unstack()\n",
    "data"
   ]
  },
  {
   "cell_type": "markdown",
   "id": "9762ec2a",
   "metadata": {
    "lines_to_next_cell": 0
   },
   "source": [
    "better load RSN prediction\n",
    "- RSN prediction are based on all samples mean and std (N=455) as in original study\n",
    "- VAE also trained on all samples (self supervised)\n",
    "One could also reduce the selected data to only the samples with a valid target marker,\n",
    "but this was not done in the original study which considered several different target markers.\n",
    "\n",
    "RSN : shifted per sample, not per feature!"
   ]
  },
  {
   "cell_type": "code",
   "execution_count": null,
   "id": "cfd936e9-eb56-4fb7-8010-d68092b925ad",
   "metadata": {},
   "outputs": [],
   "source": [
    "# reload\n",
    "pred_real_na_imputed_baseline = vaep.imputation.impute_shifted_normal(\n",
    "    df_wide=data)\n",
    "pred_real_na_imputed_baseline = pred_real_na_imputed_baseline.unstack()\n",
    "pred_real_na_imputed_baseline"
   ]
  },
  {
   "cell_type": "code",
   "execution_count": null,
   "id": "26ecc0ed-c550-4a40-802b-25962d7edf7e",
   "metadata": {},
   "outputs": [],
   "source": [
    "fname = args.out_preds / args.template_pred.format(args.model_key)\n",
    "pred_real_na = vaep.analyzers.compare_predictions.load_single_csv_pred_file(\n",
    "    fname)\n",
    "pred_real_na = pred_real_na.unstack()\n",
    "pred_real_na.sample(3)"
   ]
  },
  {
   "cell_type": "markdown",
   "id": "b28e753f",
   "metadata": {},
   "source": [
    "Once imputation, reduce to target samples only (samples with target score)"
   ]
  },
  {
   "cell_type": "code",
   "execution_count": null,
   "id": "e422a7a8",
   "metadata": {
    "lines_to_next_cell": 2
   },
   "outputs": [],
   "source": [
    "# select samples with target information\n",
    "data = data.loc[target.index]\n",
    "pred_real_na_imputed_baseline = pred_real_na_imputed_baseline.loc[target.index]\n",
    "pred_real_na = pred_real_na.loc[target.index]\n",
    "\n",
    "assert len(data) == len(pred_real_na) == len(pred_real_na_imputed_baseline)"
   ]
  },
  {
   "cell_type": "code",
   "execution_count": null,
   "id": "a3294f6a-65f3-4793-ad0c-4dd8ff11be47",
   "metadata": {},
   "outputs": [],
   "source": [
    "idx = differences.index[0]\n",
    "pg_selected, gene_selected = idx  # top feat\n",
    "pg_selected, gene_selected"
   ]
  },
  {
   "cell_type": "code",
   "execution_count": null,
   "id": "ee17d5eb-a132-4616-b505-4a68efa0e9e5",
   "metadata": {},
   "outputs": [],
   "source": [
    "feat_observed = data[pg_selected].dropna()"
   ]
  },
  {
   "cell_type": "code",
   "execution_count": null,
   "id": "043395a7-fa33-490e-9d9c-f8071274f0b5",
   "metadata": {
    "lines_to_next_cell": 2
   },
   "outputs": [],
   "source": [
    "# axes = axes.ravel()\n",
    "# args.out_folder.parent / 'intensity_plots'\n",
    "# each feature -> one plot?\n",
    "# plot all which are at least for one method significant?\n",
    "folder = args.out_folder / 'intensities_for_diff_in_DA_decision'\n",
    "folder.mkdir(parents=True, exist_ok=True)"
   ]
  },
  {
   "cell_type": "code",
   "execution_count": null,
   "id": "f813f693",
   "metadata": {},
   "outputs": [],
   "source": [
    "min_y_int, max_y_int = vaep.plotting.data.get_min_max_iterable(\n",
    "    [data.stack(), pred_real_na.stack(), pred_real_na_imputed_baseline.stack()])\n",
    "min_max = min_y_int, max_y_int\n",
    "\n",
    "target_name = target.columns[0]\n",
    "\n",
    "min_max, target_name"
   ]
  },
  {
   "cell_type": "code",
   "execution_count": null,
   "id": "d03628eb",
   "metadata": {
    "lines_to_next_cell": 0
   },
   "outputs": [],
   "source": [
    "for idx in differences.index:\n",
    "    pg_selected, gene_selected = idx  # top feat\n",
    "    fig, ax = plt.subplots()\n",
    "    dfs = [data[pg_selected].dropna(), pred_real_na[pg_selected].dropna(),\n",
    "           pred_real_na_imputed_baseline[pg_selected].dropna()]\n",
    "\n",
    "    bins = None\n",
    "    ax = None\n",
    "    _series = dfs[0]\n",
    "    _series_vae = dfs[1]\n",
    "    _series_rsn = dfs[2]\n",
    "\n",
    "    ax, bins = vaep.plotting.data.plot_histogram_intensites(\n",
    "        _series,\n",
    "        ax=ax,\n",
    "        min_max=min_max,\n",
    "        label=f'measured (N={len(_series):,d})',\n",
    "        color='grey',\n",
    "        alpha=0.6)\n",
    "    ax, bins = vaep.plotting.data.plot_histogram_intensites(\n",
    "        _series_vae,\n",
    "        ax=ax,\n",
    "        min_max=min_max,\n",
    "        label=f'{args.model_key.upper()} (N={len(_series_vae):,d})',\n",
    "        color='green',\n",
    "        alpha=1)\n",
    "    ax, bins = vaep.plotting.data.plot_histogram_intensites(\n",
    "        _series_rsn,\n",
    "        ax=ax,\n",
    "        min_max=min_max,\n",
    "        label=f'{args.baseline.upper()} (N={len(_series_rsn):,d})',\n",
    "        color='red',\n",
    "        alpha=0.8)\n",
    "\n",
    "    ax.set_title(\n",
    "        f'Imputation for protein group {pg_selected.split(\";\")[0]} (gene: {gene_selected}) with target {target_name} (N= {len(data):,d} samples)')\n",
    "    ax.set_ylabel('count measurments')\n",
    "    _ = ax.legend()\n",
    "    vaep.savefig(\n",
    "        fig, folder / f'hist_{gene_selected}_pg_{pg_selected.split(\";\")[0]}.pdf')\n",
    "    plt.close(fig)"
   ]
  },
  {
   "cell_type": "markdown",
   "id": "b9db8a0e",
   "metadata": {},
   "source": [
    "## Compare with target annotation"
   ]
  },
  {
   "cell_type": "code",
   "execution_count": null,
   "id": "d819b0e0",
   "metadata": {
    "lines_to_next_cell": 2
   },
   "outputs": [],
   "source": [
    "# labels somehow?\n",
    "# target.replace({True: f' >={args.cutoff_target}', False: f'<{args.cutoff_target}'})\n",
    "\n",
    "for idx in differences.index:\n",
    "    pg_selected, gene_selected = idx  # top feat\n",
    "\n",
    "    _series, _series_vae, _series_rsn = (\n",
    "        data[pg_selected].dropna(),\n",
    "        pred_real_na[pg_selected].dropna(),\n",
    "        pred_real_na_imputed_baseline[pg_selected].dropna()\n",
    "    )\n",
    "    ax = None\n",
    "    groups_order = [f'Measured (N={len(_series):,d})',\n",
    "                    f'{args.model_key.upper()} (N={len(_series_vae):,d}, q={differences.loc[idx, (\"VAE\", \"qvalue\")]:.3f})',\n",
    "                    f'RSN (N={len(_series_rsn):,d}, q={differences.loc[idx, (\"RSN\", \"qvalue\")]:.3f})']\n",
    "    to_plot = pd.concat([\n",
    "        _series.to_frame('intensity').assign(\n",
    "            group=groups_order[0]),\n",
    "        _series_vae.to_frame('intensity').assign(\n",
    "            group=groups_order[1]),\n",
    "        _series_rsn.to_frame('intensity').assign(\n",
    "            group=groups_order[2]),\n",
    "    ]).join(target, how='inner')\n",
    "\n",
    "    ax = seaborn.swarmplot(data=to_plot,\n",
    "                           x='group',\n",
    "                           y='intensity',\n",
    "                           order=groups_order,\n",
    "                             hue=args.target)\n",
    "    fig = ax.get_figure()\n",
    "    ax.set_title(\n",
    "        f'Imputation for protein group {pg_selected.split(\";\")[0]} (gene: {gene_selected.split(\";\")[0]}) with target {target_name} (N= {len(data):,d} samples)')\n",
    "\n",
    "    _ = ax.legend()\n",
    "    _ = ax.set_ylim(min_y_int, max_y_int)\n",
    "    _ = ax.locator_params(axis='y', integer=True)\n",
    "    _ = ax.set_xlabel('')\n",
    "    fname = (folder /\n",
    "             f'swarmplot_{gene_selected.split(\";\")[0]}'\n",
    "             f'_pg_{pg_selected.split(\";\")[0]}.pdf')\n",
    "    vaep.savefig(\n",
    "        fig,\n",
    "        name=fname)\n",
    "    plt.close()"
   ]
  },
  {
   "cell_type": "markdown",
   "id": "08736a95",
   "metadata": {
    "lines_to_next_cell": 0
   },
   "source": [
    "- add non-imputed data q-value"
   ]
  },
  {
   "cell_type": "code",
   "execution_count": null,
   "id": "048852d4",
   "metadata": {},
   "outputs": [],
   "source": []
  }
 ],
 "metadata": {
  "kernelspec": {
   "display_name": "Python 3",
   "language": "python",
   "name": "python3"
  },
  "language_info": {
   "codemirror_mode": {
    "name": "ipython",
    "version": 3
   },
   "file_extension": ".py",
   "mimetype": "text/x-python",
   "name": "python",
   "nbconvert_exporter": "python",
   "pygments_lexer": "ipython3",
   "version": "3.8.13"
  }
 },
 "nbformat": 4,
 "nbformat_minor": 5
}
