{
 "cells": [
  {
   "cell_type": "markdown",
   "metadata": {
    "Collapsed": "false"
   },
   "source": [
    "# Denoising proteomics - data exploration"
   ]
  },
  {
   "cell_type": "code",
   "execution_count": 1,
   "metadata": {
    "Collapsed": "false"
   },
   "outputs": [],
   "source": [
    "import os\n",
    "from config import FN_PROTEIN_TSV \n",
    "from config import FOLDER_DATA, FIGUREFOLDER"
   ]
  },
  {
   "cell_type": "code",
   "execution_count": 2,
   "metadata": {
    "Collapsed": "false"
   },
   "outputs": [],
   "source": [
    "import numpy as np\n",
    "import pandas as pd\n",
    "import seaborn as sns\n",
    "import matplotlib.pyplot as plt\n",
    "\n",
    "from sklearn import preprocessing\n",
    "from sklearn.decomposition import PCA"
   ]
  },
  {
   "cell_type": "code",
   "execution_count": 3,
   "metadata": {
    "Collapsed": "false"
   },
   "outputs": [],
   "source": [
    "import os\n",
    "import logging\n",
    "logger = logging.getLogger()\n",
    "def _savefig(fig, name, folder=FIGUREFOLDER, pdf=True):\n",
    "    \"\"\"Save matplotlib Figure (having method `savefig`) as pdf and png.\"\"\"\n",
    "    filename = os.path.join(folder, name)\n",
    "    fig.savefig(filename + '.png')\n",
    "    if pdf: fig.savefig(filename + '.pdf')\n",
    "    logger.info(f\"Saved Figures to {filename}\")"
   ]
  },
  {
   "cell_type": "code",
   "execution_count": 4,
   "metadata": {
    "Collapsed": "false"
   },
   "outputs": [],
   "source": [
    "#coverage\n",
    "def coverage(X:pd.DataFrame, coverage_col:float, coverage_row:float):\n",
    "    \"\"\"Select proteins by column depending on their coverage. \n",
    "    Of these selected proteins, where the rows have a certain number of overall proteins.\n",
    "    \"\"\"\n",
    "    mask_col = X.isnull().mean() <= 1-coverage_col\n",
    "    df = X.loc[:,mask_col]\n",
    "    mask_row = df.isnull().mean(axis=1) <= 1-coverage_row\n",
    "    df = df.loc[mask_row,:]\n",
    "    return df"
   ]
  },
  {
   "cell_type": "markdown",
   "metadata": {
    "Collapsed": "false",
    "toc-hr-collapsed": false
   },
   "source": [
    "## Load Data"
   ]
  },
  {
   "cell_type": "code",
   "execution_count": 5,
   "metadata": {
    "Collapsed": "false"
   },
   "outputs": [],
   "source": [
    "df = pd.read_table(FN_PROTEIN_TSV, sep = '\\t')\n",
    "df.sort_values(by = ['Date'], inplace = True)"
   ]
  },
  {
   "cell_type": "code",
   "execution_count": 6,
   "metadata": {
    "Collapsed": "false"
   },
   "outputs": [
    {
     "data": {
      "text/html": [
       "<div>\n",
       "<style scoped>\n",
       "    .dataframe tbody tr th:only-of-type {\n",
       "        vertical-align: middle;\n",
       "    }\n",
       "\n",
       "    .dataframe tbody tr th {\n",
       "        vertical-align: top;\n",
       "    }\n",
       "\n",
       "    .dataframe thead th {\n",
       "        text-align: right;\n",
       "    }\n",
       "</style>\n",
       "<table border=\"1\" class=\"dataframe\">\n",
       "  <thead>\n",
       "    <tr style=\"text-align: right;\">\n",
       "      <th></th>\n",
       "      <th>index</th>\n",
       "      <th>Date</th>\n",
       "      <th>MS_instrument</th>\n",
       "      <th>LC</th>\n",
       "      <th>PID</th>\n",
       "      <th>ColumnLength</th>\n",
       "      <th>A0A024QZ33</th>\n",
       "      <th>A0A024QZ42</th>\n",
       "      <th>A0A024QZP7</th>\n",
       "      <th>A0A024QZX5</th>\n",
       "      <th>...</th>\n",
       "      <th>X6RK76</th>\n",
       "      <th>X6RK96</th>\n",
       "      <th>X6RKB4</th>\n",
       "      <th>X6RKL2</th>\n",
       "      <th>X6RKY7</th>\n",
       "      <th>X6RLL4</th>\n",
       "      <th>X6RLN4</th>\n",
       "      <th>X6RLR1</th>\n",
       "      <th>X6RLX0</th>\n",
       "      <th>X6RM59</th>\n",
       "    </tr>\n",
       "  </thead>\n",
       "  <tbody>\n",
       "    <tr>\n",
       "      <th>408</th>\n",
       "      <td>20180713_QE8_nLC5_ASD_QC_Hela1_proteinGroups.txt</td>\n",
       "      <td>20180713</td>\n",
       "      <td>QE8</td>\n",
       "      <td>nLC5</td>\n",
       "      <td>ASD</td>\n",
       "      <td>NaN</td>\n",
       "      <td>46239000.0</td>\n",
       "      <td>NaN</td>\n",
       "      <td>NaN</td>\n",
       "      <td>2.586900e+09</td>\n",
       "      <td>...</td>\n",
       "      <td>NaN</td>\n",
       "      <td>NaN</td>\n",
       "      <td>NaN</td>\n",
       "      <td>NaN</td>\n",
       "      <td>NaN</td>\n",
       "      <td>NaN</td>\n",
       "      <td>NaN</td>\n",
       "      <td>NaN</td>\n",
       "      <td>NaN</td>\n",
       "      <td>NaN</td>\n",
       "    </tr>\n",
       "    <tr>\n",
       "      <th>312</th>\n",
       "      <td>20180713_QE8_nLC5_ASD_QC_Hela2_proteinGroups.txt</td>\n",
       "      <td>20180713</td>\n",
       "      <td>QE8</td>\n",
       "      <td>nLC5</td>\n",
       "      <td>ASD</td>\n",
       "      <td>NaN</td>\n",
       "      <td>NaN</td>\n",
       "      <td>NaN</td>\n",
       "      <td>NaN</td>\n",
       "      <td>NaN</td>\n",
       "      <td>...</td>\n",
       "      <td>NaN</td>\n",
       "      <td>NaN</td>\n",
       "      <td>NaN</td>\n",
       "      <td>NaN</td>\n",
       "      <td>NaN</td>\n",
       "      <td>NaN</td>\n",
       "      <td>NaN</td>\n",
       "      <td>NaN</td>\n",
       "      <td>NaN</td>\n",
       "      <td>NaN</td>\n",
       "    </tr>\n",
       "    <tr>\n",
       "      <th>281</th>\n",
       "      <td>20180713_QE8_nLC5_ASD_QC_Hela2_20190226172112_...</td>\n",
       "      <td>20180713</td>\n",
       "      <td>QE8</td>\n",
       "      <td>nLC5</td>\n",
       "      <td>ASD</td>\n",
       "      <td>NaN</td>\n",
       "      <td>NaN</td>\n",
       "      <td>NaN</td>\n",
       "      <td>NaN</td>\n",
       "      <td>3.078800e+09</td>\n",
       "      <td>...</td>\n",
       "      <td>NaN</td>\n",
       "      <td>NaN</td>\n",
       "      <td>NaN</td>\n",
       "      <td>NaN</td>\n",
       "      <td>NaN</td>\n",
       "      <td>NaN</td>\n",
       "      <td>NaN</td>\n",
       "      <td>NaN</td>\n",
       "      <td>NaN</td>\n",
       "      <td>NaN</td>\n",
       "    </tr>\n",
       "    <tr>\n",
       "      <th>82</th>\n",
       "      <td>20190103_QE8_nLC0_LiNi_QC_MNT_15cm_Hela_02_pro...</td>\n",
       "      <td>20190103</td>\n",
       "      <td>QE8</td>\n",
       "      <td>nLC0</td>\n",
       "      <td>LiNi</td>\n",
       "      <td>15.0</td>\n",
       "      <td>NaN</td>\n",
       "      <td>NaN</td>\n",
       "      <td>NaN</td>\n",
       "      <td>NaN</td>\n",
       "      <td>...</td>\n",
       "      <td>NaN</td>\n",
       "      <td>NaN</td>\n",
       "      <td>NaN</td>\n",
       "      <td>NaN</td>\n",
       "      <td>NaN</td>\n",
       "      <td>NaN</td>\n",
       "      <td>NaN</td>\n",
       "      <td>NaN</td>\n",
       "      <td>NaN</td>\n",
       "      <td>NaN</td>\n",
       "    </tr>\n",
       "    <tr>\n",
       "      <th>161</th>\n",
       "      <td>20190103_QE8_nLC0_LiNi_QC_MNT_15cm_Hela_01_pro...</td>\n",
       "      <td>20190103</td>\n",
       "      <td>QE8</td>\n",
       "      <td>nLC0</td>\n",
       "      <td>LiNi</td>\n",
       "      <td>15.0</td>\n",
       "      <td>NaN</td>\n",
       "      <td>NaN</td>\n",
       "      <td>NaN</td>\n",
       "      <td>6.685000e+08</td>\n",
       "      <td>...</td>\n",
       "      <td>NaN</td>\n",
       "      <td>NaN</td>\n",
       "      <td>NaN</td>\n",
       "      <td>NaN</td>\n",
       "      <td>NaN</td>\n",
       "      <td>NaN</td>\n",
       "      <td>NaN</td>\n",
       "      <td>NaN</td>\n",
       "      <td>NaN</td>\n",
       "      <td>NaN</td>\n",
       "    </tr>\n",
       "  </tbody>\n",
       "</table>\n",
       "<p>5 rows × 25433 columns</p>\n",
       "</div>"
      ],
      "text/plain": [
       "                                                 index      Date  \\\n",
       "408   20180713_QE8_nLC5_ASD_QC_Hela1_proteinGroups.txt  20180713   \n",
       "312   20180713_QE8_nLC5_ASD_QC_Hela2_proteinGroups.txt  20180713   \n",
       "281  20180713_QE8_nLC5_ASD_QC_Hela2_20190226172112_...  20180713   \n",
       "82   20190103_QE8_nLC0_LiNi_QC_MNT_15cm_Hela_02_pro...  20190103   \n",
       "161  20190103_QE8_nLC0_LiNi_QC_MNT_15cm_Hela_01_pro...  20190103   \n",
       "\n",
       "    MS_instrument    LC   PID  ColumnLength  A0A024QZ33  A0A024QZ42  \\\n",
       "408           QE8  nLC5   ASD           NaN  46239000.0         NaN   \n",
       "312           QE8  nLC5   ASD           NaN         NaN         NaN   \n",
       "281           QE8  nLC5   ASD           NaN         NaN         NaN   \n",
       "82            QE8  nLC0  LiNi          15.0         NaN         NaN   \n",
       "161           QE8  nLC0  LiNi          15.0         NaN         NaN   \n",
       "\n",
       "     A0A024QZP7    A0A024QZX5  ...  X6RK76  X6RK96  X6RKB4  X6RKL2  X6RKY7  \\\n",
       "408         NaN  2.586900e+09  ...     NaN     NaN     NaN     NaN     NaN   \n",
       "312         NaN           NaN  ...     NaN     NaN     NaN     NaN     NaN   \n",
       "281         NaN  3.078800e+09  ...     NaN     NaN     NaN     NaN     NaN   \n",
       "82          NaN           NaN  ...     NaN     NaN     NaN     NaN     NaN   \n",
       "161         NaN  6.685000e+08  ...     NaN     NaN     NaN     NaN     NaN   \n",
       "\n",
       "     X6RLL4  X6RLN4  X6RLR1  X6RLX0  X6RM59  \n",
       "408     NaN     NaN     NaN     NaN     NaN  \n",
       "312     NaN     NaN     NaN     NaN     NaN  \n",
       "281     NaN     NaN     NaN     NaN     NaN  \n",
       "82      NaN     NaN     NaN     NaN     NaN  \n",
       "161     NaN     NaN     NaN     NaN     NaN  \n",
       "\n",
       "[5 rows x 25433 columns]"
      ]
     },
     "execution_count": 6,
     "metadata": {},
     "output_type": "execute_result"
    }
   ],
   "source": [
    "df.head()"
   ]
  },
  {
   "cell_type": "code",
   "execution_count": 7,
   "metadata": {
    "Collapsed": "false"
   },
   "outputs": [],
   "source": [
    "# import datetime \n",
    "# pd.to_datetime(df[\"Date\"],format='%Y%m%d') == datetime.datetime(2019, 4, 22)"
   ]
  },
  {
   "cell_type": "markdown",
   "metadata": {
    "Collapsed": "false"
   },
   "source": [
    "### Separate Data into proteome and meta-data"
   ]
  },
  {
   "cell_type": "code",
   "execution_count": 8,
   "metadata": {
    "Collapsed": "false"
   },
   "outputs": [],
   "source": [
    "labels = df.iloc[:,0:6]\n",
    "labels['shortdate']=labels['Date'].astype(str).str[:6]\n",
    "X = df.iloc[:,6:]  # ToDo: Rename everything from x to X -> code can be (potentially) copy-pasted\n",
    "X.columns.name = 'proteins'"
   ]
  },
  {
   "cell_type": "code",
   "execution_count": 9,
   "metadata": {
    "Collapsed": "false"
   },
   "outputs": [
    {
     "data": {
      "text/html": [
       "<div>\n",
       "<style scoped>\n",
       "    .dataframe tbody tr th:only-of-type {\n",
       "        vertical-align: middle;\n",
       "    }\n",
       "\n",
       "    .dataframe tbody tr th {\n",
       "        vertical-align: top;\n",
       "    }\n",
       "\n",
       "    .dataframe thead th {\n",
       "        text-align: right;\n",
       "    }\n",
       "</style>\n",
       "<table border=\"1\" class=\"dataframe\">\n",
       "  <thead>\n",
       "    <tr style=\"text-align: right;\">\n",
       "      <th>proteins</th>\n",
       "      <th>A0A024QZ33</th>\n",
       "      <th>A0A024QZ42</th>\n",
       "      <th>A0A024QZP7</th>\n",
       "      <th>A0A024QZX5</th>\n",
       "      <th>A0A024R161</th>\n",
       "      <th>A0A024R1R8</th>\n",
       "      <th>A0A024R341</th>\n",
       "      <th>A0A024R368</th>\n",
       "      <th>A0A024R3B9</th>\n",
       "      <th>A0A024R3M2</th>\n",
       "      <th>...</th>\n",
       "      <th>X6RK76</th>\n",
       "      <th>X6RK96</th>\n",
       "      <th>X6RKB4</th>\n",
       "      <th>X6RKL2</th>\n",
       "      <th>X6RKY7</th>\n",
       "      <th>X6RLL4</th>\n",
       "      <th>X6RLN4</th>\n",
       "      <th>X6RLR1</th>\n",
       "      <th>X6RLX0</th>\n",
       "      <th>X6RM59</th>\n",
       "    </tr>\n",
       "  </thead>\n",
       "  <tbody>\n",
       "    <tr>\n",
       "      <th>408</th>\n",
       "      <td>46239000.0</td>\n",
       "      <td>NaN</td>\n",
       "      <td>NaN</td>\n",
       "      <td>2.586900e+09</td>\n",
       "      <td>NaN</td>\n",
       "      <td>7.753100e+08</td>\n",
       "      <td>210280000.0</td>\n",
       "      <td>NaN</td>\n",
       "      <td>NaN</td>\n",
       "      <td>NaN</td>\n",
       "      <td>...</td>\n",
       "      <td>NaN</td>\n",
       "      <td>NaN</td>\n",
       "      <td>NaN</td>\n",
       "      <td>NaN</td>\n",
       "      <td>NaN</td>\n",
       "      <td>NaN</td>\n",
       "      <td>NaN</td>\n",
       "      <td>NaN</td>\n",
       "      <td>NaN</td>\n",
       "      <td>NaN</td>\n",
       "    </tr>\n",
       "    <tr>\n",
       "      <th>312</th>\n",
       "      <td>NaN</td>\n",
       "      <td>NaN</td>\n",
       "      <td>NaN</td>\n",
       "      <td>NaN</td>\n",
       "      <td>NaN</td>\n",
       "      <td>NaN</td>\n",
       "      <td>NaN</td>\n",
       "      <td>NaN</td>\n",
       "      <td>3154400.0</td>\n",
       "      <td>NaN</td>\n",
       "      <td>...</td>\n",
       "      <td>NaN</td>\n",
       "      <td>NaN</td>\n",
       "      <td>NaN</td>\n",
       "      <td>NaN</td>\n",
       "      <td>NaN</td>\n",
       "      <td>NaN</td>\n",
       "      <td>NaN</td>\n",
       "      <td>NaN</td>\n",
       "      <td>NaN</td>\n",
       "      <td>NaN</td>\n",
       "    </tr>\n",
       "    <tr>\n",
       "      <th>281</th>\n",
       "      <td>NaN</td>\n",
       "      <td>NaN</td>\n",
       "      <td>NaN</td>\n",
       "      <td>3.078800e+09</td>\n",
       "      <td>NaN</td>\n",
       "      <td>1.238300e+09</td>\n",
       "      <td>225030000.0</td>\n",
       "      <td>NaN</td>\n",
       "      <td>NaN</td>\n",
       "      <td>NaN</td>\n",
       "      <td>...</td>\n",
       "      <td>NaN</td>\n",
       "      <td>NaN</td>\n",
       "      <td>NaN</td>\n",
       "      <td>NaN</td>\n",
       "      <td>NaN</td>\n",
       "      <td>NaN</td>\n",
       "      <td>NaN</td>\n",
       "      <td>NaN</td>\n",
       "      <td>NaN</td>\n",
       "      <td>NaN</td>\n",
       "    </tr>\n",
       "    <tr>\n",
       "      <th>82</th>\n",
       "      <td>NaN</td>\n",
       "      <td>NaN</td>\n",
       "      <td>NaN</td>\n",
       "      <td>NaN</td>\n",
       "      <td>NaN</td>\n",
       "      <td>NaN</td>\n",
       "      <td>NaN</td>\n",
       "      <td>NaN</td>\n",
       "      <td>NaN</td>\n",
       "      <td>NaN</td>\n",
       "      <td>...</td>\n",
       "      <td>NaN</td>\n",
       "      <td>NaN</td>\n",
       "      <td>NaN</td>\n",
       "      <td>NaN</td>\n",
       "      <td>NaN</td>\n",
       "      <td>NaN</td>\n",
       "      <td>NaN</td>\n",
       "      <td>NaN</td>\n",
       "      <td>NaN</td>\n",
       "      <td>NaN</td>\n",
       "    </tr>\n",
       "    <tr>\n",
       "      <th>161</th>\n",
       "      <td>NaN</td>\n",
       "      <td>NaN</td>\n",
       "      <td>NaN</td>\n",
       "      <td>6.685000e+08</td>\n",
       "      <td>NaN</td>\n",
       "      <td>NaN</td>\n",
       "      <td>NaN</td>\n",
       "      <td>NaN</td>\n",
       "      <td>NaN</td>\n",
       "      <td>NaN</td>\n",
       "      <td>...</td>\n",
       "      <td>NaN</td>\n",
       "      <td>NaN</td>\n",
       "      <td>NaN</td>\n",
       "      <td>NaN</td>\n",
       "      <td>NaN</td>\n",
       "      <td>NaN</td>\n",
       "      <td>NaN</td>\n",
       "      <td>NaN</td>\n",
       "      <td>NaN</td>\n",
       "      <td>NaN</td>\n",
       "    </tr>\n",
       "  </tbody>\n",
       "</table>\n",
       "<p>5 rows × 25427 columns</p>\n",
       "</div>"
      ],
      "text/plain": [
       "proteins  A0A024QZ33  A0A024QZ42  A0A024QZP7    A0A024QZX5  A0A024R161  \\\n",
       "408       46239000.0         NaN         NaN  2.586900e+09         NaN   \n",
       "312              NaN         NaN         NaN           NaN         NaN   \n",
       "281              NaN         NaN         NaN  3.078800e+09         NaN   \n",
       "82               NaN         NaN         NaN           NaN         NaN   \n",
       "161              NaN         NaN         NaN  6.685000e+08         NaN   \n",
       "\n",
       "proteins    A0A024R1R8   A0A024R341  A0A024R368  A0A024R3B9  A0A024R3M2  ...  \\\n",
       "408       7.753100e+08  210280000.0         NaN         NaN         NaN  ...   \n",
       "312                NaN          NaN         NaN   3154400.0         NaN  ...   \n",
       "281       1.238300e+09  225030000.0         NaN         NaN         NaN  ...   \n",
       "82                 NaN          NaN         NaN         NaN         NaN  ...   \n",
       "161                NaN          NaN         NaN         NaN         NaN  ...   \n",
       "\n",
       "proteins  X6RK76  X6RK96  X6RKB4  X6RKL2  X6RKY7  X6RLL4  X6RLN4  X6RLR1  \\\n",
       "408          NaN     NaN     NaN     NaN     NaN     NaN     NaN     NaN   \n",
       "312          NaN     NaN     NaN     NaN     NaN     NaN     NaN     NaN   \n",
       "281          NaN     NaN     NaN     NaN     NaN     NaN     NaN     NaN   \n",
       "82           NaN     NaN     NaN     NaN     NaN     NaN     NaN     NaN   \n",
       "161          NaN     NaN     NaN     NaN     NaN     NaN     NaN     NaN   \n",
       "\n",
       "proteins  X6RLX0  X6RM59  \n",
       "408          NaN     NaN  \n",
       "312          NaN     NaN  \n",
       "281          NaN     NaN  \n",
       "82           NaN     NaN  \n",
       "161          NaN     NaN  \n",
       "\n",
       "[5 rows x 25427 columns]"
      ]
     },
     "execution_count": 9,
     "metadata": {},
     "output_type": "execute_result"
    }
   ],
   "source": [
    "X.head()"
   ]
  },
  {
   "cell_type": "code",
   "execution_count": 10,
   "metadata": {
    "Collapsed": "false"
   },
   "outputs": [
    {
     "data": {
      "text/html": [
       "<div>\n",
       "<style scoped>\n",
       "    .dataframe tbody tr th:only-of-type {\n",
       "        vertical-align: middle;\n",
       "    }\n",
       "\n",
       "    .dataframe tbody tr th {\n",
       "        vertical-align: top;\n",
       "    }\n",
       "\n",
       "    .dataframe thead th {\n",
       "        text-align: right;\n",
       "    }\n",
       "</style>\n",
       "<table border=\"1\" class=\"dataframe\">\n",
       "  <thead>\n",
       "    <tr style=\"text-align: right;\">\n",
       "      <th></th>\n",
       "      <th>index</th>\n",
       "      <th>Date</th>\n",
       "      <th>MS_instrument</th>\n",
       "      <th>LC</th>\n",
       "      <th>PID</th>\n",
       "      <th>ColumnLength</th>\n",
       "      <th>shortdate</th>\n",
       "    </tr>\n",
       "  </thead>\n",
       "  <tbody>\n",
       "    <tr>\n",
       "      <th>408</th>\n",
       "      <td>20180713_QE8_nLC5_ASD_QC_Hela1_proteinGroups.txt</td>\n",
       "      <td>20180713</td>\n",
       "      <td>QE8</td>\n",
       "      <td>nLC5</td>\n",
       "      <td>ASD</td>\n",
       "      <td>NaN</td>\n",
       "      <td>201807</td>\n",
       "    </tr>\n",
       "    <tr>\n",
       "      <th>312</th>\n",
       "      <td>20180713_QE8_nLC5_ASD_QC_Hela2_proteinGroups.txt</td>\n",
       "      <td>20180713</td>\n",
       "      <td>QE8</td>\n",
       "      <td>nLC5</td>\n",
       "      <td>ASD</td>\n",
       "      <td>NaN</td>\n",
       "      <td>201807</td>\n",
       "    </tr>\n",
       "    <tr>\n",
       "      <th>281</th>\n",
       "      <td>20180713_QE8_nLC5_ASD_QC_Hela2_20190226172112_...</td>\n",
       "      <td>20180713</td>\n",
       "      <td>QE8</td>\n",
       "      <td>nLC5</td>\n",
       "      <td>ASD</td>\n",
       "      <td>NaN</td>\n",
       "      <td>201807</td>\n",
       "    </tr>\n",
       "    <tr>\n",
       "      <th>82</th>\n",
       "      <td>20190103_QE8_nLC0_LiNi_QC_MNT_15cm_Hela_02_pro...</td>\n",
       "      <td>20190103</td>\n",
       "      <td>QE8</td>\n",
       "      <td>nLC0</td>\n",
       "      <td>LiNi</td>\n",
       "      <td>15.0</td>\n",
       "      <td>201901</td>\n",
       "    </tr>\n",
       "    <tr>\n",
       "      <th>161</th>\n",
       "      <td>20190103_QE8_nLC0_LiNi_QC_MNT_15cm_Hela_01_pro...</td>\n",
       "      <td>20190103</td>\n",
       "      <td>QE8</td>\n",
       "      <td>nLC0</td>\n",
       "      <td>LiNi</td>\n",
       "      <td>15.0</td>\n",
       "      <td>201901</td>\n",
       "    </tr>\n",
       "  </tbody>\n",
       "</table>\n",
       "</div>"
      ],
      "text/plain": [
       "                                                 index      Date  \\\n",
       "408   20180713_QE8_nLC5_ASD_QC_Hela1_proteinGroups.txt  20180713   \n",
       "312   20180713_QE8_nLC5_ASD_QC_Hela2_proteinGroups.txt  20180713   \n",
       "281  20180713_QE8_nLC5_ASD_QC_Hela2_20190226172112_...  20180713   \n",
       "82   20190103_QE8_nLC0_LiNi_QC_MNT_15cm_Hela_02_pro...  20190103   \n",
       "161  20190103_QE8_nLC0_LiNi_QC_MNT_15cm_Hela_01_pro...  20190103   \n",
       "\n",
       "    MS_instrument    LC   PID  ColumnLength shortdate  \n",
       "408           QE8  nLC5   ASD           NaN    201807  \n",
       "312           QE8  nLC5   ASD           NaN    201807  \n",
       "281           QE8  nLC5   ASD           NaN    201807  \n",
       "82            QE8  nLC0  LiNi          15.0    201901  \n",
       "161           QE8  nLC0  LiNi          15.0    201901  "
      ]
     },
     "execution_count": 10,
     "metadata": {},
     "output_type": "execute_result"
    }
   ],
   "source": [
    "labels.head()"
   ]
  },
  {
   "cell_type": "markdown",
   "metadata": {
    "Collapsed": "false",
    "toc-hr-collapsed": false
   },
   "source": [
    "### Proteome is sparse\n",
    "Proteins that are only identified for a minority of samples should be removed"
   ]
  },
  {
   "cell_type": "code",
   "execution_count": 11,
   "metadata": {
    "Collapsed": "false"
   },
   "outputs": [],
   "source": [
    "missingness = X.notnull().astype('int')\n",
    "missingness = missingness[missingness.mean().sort_values().index]\n",
    "missingness.index.name = 'SampleID'\n",
    "missingness_index_id = missingness.index.to_frame()\n",
    "missingness_index_id[\"DateID\"] = labels.Date\n",
    "missingness.index = labels.Date\n",
    "missingness.sort_index(inplace=True)"
   ]
  },
  {
   "cell_type": "code",
   "execution_count": 12,
   "metadata": {
    "Collapsed": "false"
   },
   "outputs": [
    {
     "data": {
      "image/png": "[encoded data removed]",
      "text/plain": [
       "<Figure size 864x576 with 2 Axes>"
      ]
     },
     "metadata": {
      "needs_background": "light"
     },
     "output_type": "display_data"
    }
   ],
   "source": [
    "grid_kws = {\"width_ratios\": (.9, .05), \"hspace\": 0.5}\n",
    "fig_heatmap_missing, (axes_heatmap_missing, cbar_ax) = plt.subplots(1, 2, gridspec_kw=grid_kws, figsize=(12,8))\n",
    "axes_heatmap_missing = sns.heatmap(missingness, ax=axes_heatmap_missing,\n",
    "                                   cbar_ax=cbar_ax,\n",
    "                                   cbar_kws={\"orientation\": \"vertical\"})"
   ]
  },
  {
   "cell_type": "code",
   "execution_count": 13,
   "metadata": {
    "Collapsed": "false"
   },
   "outputs": [],
   "source": [
    "# # This currently crashes if you want to have a pdf\n",
    "_savefig(fig_heatmap_missing, 'proteins_heatmap_missing', pdf=False)"
   ]
  },
  {
   "cell_type": "markdown",
   "metadata": {
    "Collapsed": "false"
   },
   "source": [
    "#### Samples have 6 to 4461 identified protein-groups\n",
    "- cutoff for minimum quality of peptide, e.g. at least 2500 identified proteins?\n",
    "- Proteome is not consistent over many runs"
   ]
  },
  {
   "cell_type": "code",
   "execution_count": 14,
   "metadata": {
    "Collapsed": "false"
   },
   "outputs": [
    {
     "data": {
      "text/html": [
       "<div>\n",
       "<style scoped>\n",
       "    .dataframe tbody tr th:only-of-type {\n",
       "        vertical-align: middle;\n",
       "    }\n",
       "\n",
       "    .dataframe tbody tr th {\n",
       "        vertical-align: top;\n",
       "    }\n",
       "\n",
       "    .dataframe thead th {\n",
       "        text-align: right;\n",
       "    }\n",
       "</style>\n",
       "<table border=\"1\" class=\"dataframe\">\n",
       "  <thead>\n",
       "    <tr style=\"text-align: right;\">\n",
       "      <th></th>\n",
       "      <th>SampleID</th>\n",
       "      <th>Date</th>\n",
       "      <th>no_identified_proteins</th>\n",
       "      <th>no_missing_proteins_of_proteome</th>\n",
       "      <th>prop_samples</th>\n",
       "    </tr>\n",
       "  </thead>\n",
       "  <tbody>\n",
       "    <tr>\n",
       "      <th>0</th>\n",
       "      <td>408</td>\n",
       "      <td>20190712</td>\n",
       "      <td>4461</td>\n",
       "      <td>20966</td>\n",
       "      <td>0.002114</td>\n",
       "    </tr>\n",
       "    <tr>\n",
       "      <th>1</th>\n",
       "      <td>312</td>\n",
       "      <td>20190712</td>\n",
       "      <td>4437</td>\n",
       "      <td>20990</td>\n",
       "      <td>0.004228</td>\n",
       "    </tr>\n",
       "    <tr>\n",
       "      <th>2</th>\n",
       "      <td>281</td>\n",
       "      <td>20190902</td>\n",
       "      <td>4304</td>\n",
       "      <td>21123</td>\n",
       "      <td>0.006342</td>\n",
       "    </tr>\n",
       "    <tr>\n",
       "      <th>3</th>\n",
       "      <td>82</td>\n",
       "      <td>20190910</td>\n",
       "      <td>4292</td>\n",
       "      <td>21135</td>\n",
       "      <td>0.008457</td>\n",
       "    </tr>\n",
       "    <tr>\n",
       "      <th>4</th>\n",
       "      <td>161</td>\n",
       "      <td>20190708</td>\n",
       "      <td>4281</td>\n",
       "      <td>21146</td>\n",
       "      <td>0.010571</td>\n",
       "    </tr>\n",
       "    <tr>\n",
       "      <th>...</th>\n",
       "      <td>...</td>\n",
       "      <td>...</td>\n",
       "      <td>...</td>\n",
       "      <td>...</td>\n",
       "      <td>...</td>\n",
       "    </tr>\n",
       "    <tr>\n",
       "      <th>468</th>\n",
       "      <td>407</td>\n",
       "      <td>20190306</td>\n",
       "      <td>16</td>\n",
       "      <td>25411</td>\n",
       "      <td>0.991543</td>\n",
       "    </tr>\n",
       "    <tr>\n",
       "      <th>469</th>\n",
       "      <td>71</td>\n",
       "      <td>20190303</td>\n",
       "      <td>10</td>\n",
       "      <td>25417</td>\n",
       "      <td>0.993658</td>\n",
       "    </tr>\n",
       "    <tr>\n",
       "      <th>470</th>\n",
       "      <td>12</td>\n",
       "      <td>20190413</td>\n",
       "      <td>9</td>\n",
       "      <td>25418</td>\n",
       "      <td>0.995772</td>\n",
       "    </tr>\n",
       "    <tr>\n",
       "      <th>471</th>\n",
       "      <td>375</td>\n",
       "      <td>20190702</td>\n",
       "      <td>8</td>\n",
       "      <td>25419</td>\n",
       "      <td>0.997886</td>\n",
       "    </tr>\n",
       "    <tr>\n",
       "      <th>472</th>\n",
       "      <td>33</td>\n",
       "      <td>20190906</td>\n",
       "      <td>6</td>\n",
       "      <td>25421</td>\n",
       "      <td>1.000000</td>\n",
       "    </tr>\n",
       "  </tbody>\n",
       "</table>\n",
       "<p>473 rows × 5 columns</p>\n",
       "</div>"
      ],
      "text/plain": [
       "     SampleID      Date  no_identified_proteins  \\\n",
       "0         408  20190712                    4461   \n",
       "1         312  20190712                    4437   \n",
       "2         281  20190902                    4304   \n",
       "3          82  20190910                    4292   \n",
       "4         161  20190708                    4281   \n",
       "..        ...       ...                     ...   \n",
       "468       407  20190306                      16   \n",
       "469        71  20190303                      10   \n",
       "470        12  20190413                       9   \n",
       "471       375  20190702                       8   \n",
       "472        33  20190906                       6   \n",
       "\n",
       "     no_missing_proteins_of_proteome  prop_samples  \n",
       "0                              20966      0.002114  \n",
       "1                              20990      0.004228  \n",
       "2                              21123      0.006342  \n",
       "3                              21135      0.008457  \n",
       "4                              21146      0.010571  \n",
       "..                               ...           ...  \n",
       "468                            25411      0.991543  \n",
       "469                            25417      0.993658  \n",
       "470                            25418      0.995772  \n",
       "471                            25419      0.997886  \n",
       "472                            25421      1.000000  \n",
       "\n",
       "[473 rows x 5 columns]"
      ]
     },
     "execution_count": 14,
     "metadata": {},
     "output_type": "execute_result"
    }
   ],
   "source": [
    "COL_NO_MISSING_PROT, COL_NO_IDENTIFIED_PROT ='no_missing_proteins_of_proteome', 'no_identified_proteins'\n",
    "COL_PROP_SAMPLES = 'prop_samples'\n",
    "\n",
    "sample_stats = missingness.sum(axis=1).to_frame(COL_NO_IDENTIFIED_PROT)\n",
    "sample_stats[COL_NO_MISSING_PROT] = (missingness == 0).sum(axis=1)\n",
    "\n",
    "assert all(sample_stats.sum(axis=1) == X.shape[1])\n",
    "sample_stats = sample_stats.sort_values(by=COL_NO_IDENTIFIED_PROT, ascending=False).reset_index()\n",
    "sample_stats[COL_PROP_SAMPLES] = np.array(range(1,len(sample_stats)+1)) / len(sample_stats)\n",
    "sample_stats = sample_stats.set_index(missingness_index_id.SampleID)\n",
    "sample_stats.reset_index(inplace=True)\n",
    "sample_stats"
   ]
  },
  {
   "cell_type": "code",
   "execution_count": 15,
   "metadata": {
    "Collapsed": "false"
   },
   "outputs": [
    {
     "data": {
      "image/png": "[encoded data removed]",
      "text/plain": [
       "<Figure size 360x360 with 1 Axes>"
      ]
     },
     "metadata": {
      "needs_background": "light"
     },
     "output_type": "display_data"
    },
    {
     "data": {
      "image/png": "[encoded data removed]",
      "text/plain": [
       "<Figure size 360x360 with 1 Axes>"
      ]
     },
     "metadata": {
      "needs_background": "light"
     },
     "output_type": "display_data"
    }
   ],
   "source": [
    "fig_ident_prot = sns.relplot(x='SampleID', y=COL_NO_IDENTIFIED_PROT, data=sample_stats) \n",
    "fig_ident_prot.set_axis_labels(\"Sample ID\", \"Frequency of identified proteins\")\n",
    "fig_ident_prot.fig.suptitle('Frequency of identified protein groups by sample id', y=1.03)\n",
    "_savefig(fig_ident_prot, 'identified_proteins_by_sample')\n",
    "\n",
    "fig_ident_prot_dist = sns.relplot(x=COL_PROP_SAMPLES, y=COL_NO_IDENTIFIED_PROT, data=sample_stats)\n",
    "fig_ident_prot_dist.set_axis_labels(\"Proportion of samples (sorted by frequency)\", \"Frequency of identified proteins\")\n",
    "fig_ident_prot_dist.fig.suptitle('Frequency of identified protein groups by sample id', y=1.03)\n",
    "_savefig(fig_ident_prot_dist, 'identified_proteins_ordered')"
   ]
  },
  {
   "cell_type": "markdown",
   "metadata": {
    "Collapsed": "false"
   },
   "source": [
    "### Protein-Groups do not match well\n",
    "- Are the assigned protein-group names sensible inbetween runs? \n",
    "    > Each sample has at least 80 percent missing values regarding all identified proteins\n",
    "- Clustering by MaxQuant into protein-groups is sample dependent and therefore some groups might represent a very similar set of peptides"
   ]
  },
  {
   "cell_type": "code",
   "execution_count": 16,
   "metadata": {
    "Collapsed": "false"
   },
   "outputs": [
    {
     "data": {
      "image/png": "[encoded data removed]",
      "text/plain": [
       "<Figure size 360x360 with 1 Axes>"
      ]
     },
     "metadata": {},
     "output_type": "display_data"
    }
   ],
   "source": [
    "COL_NO_MISSING_PROT_PROP = COL_NO_MISSING_PROT + '_PROP'\n",
    "sample_stats[COL_NO_MISSING_PROT_PROP]= sample_stats[COL_NO_MISSING_PROT] / float(X.shape[1])\n",
    "\n",
    "# from ggplot import *\n",
    "# ggplot(aes(x='nan_proc'), data = nonnan) + geom_histogram(binwidth = 0.005) #+ ylim(0,0.025)\n",
    "sns.set(style=\"darkgrid\")\n",
    "g = sns.relplot(x='prop_samples', y=COL_NO_MISSING_PROT_PROP, data=sample_stats)\n",
    "plt.subplots_adjust(top=0.9)\n",
    "g.set_axis_labels(\"Proportion of samples (sorted by frequency)\", \"proportion missing\")\n",
    "g.fig.suptitle('Proportion of missing values ordered')\n",
    "_savefig(g, \"proportion_proteins_missing.pdf\")"
   ]
  },
  {
   "cell_type": "markdown",
   "metadata": {
    "Collapsed": "false"
   },
   "source": [
    "### Protein-Groups"
   ]
  },
  {
   "cell_type": "code",
   "execution_count": 17,
   "metadata": {
    "Collapsed": "false"
   },
   "outputs": [],
   "source": [
    "protein_groups = X.columns.to_frame('proteins')"
   ]
  },
  {
   "cell_type": "markdown",
   "metadata": {
    "Collapsed": "false"
   },
   "source": [
    "Some protein groups are ensembles?"
   ]
  },
  {
   "cell_type": "code",
   "execution_count": 18,
   "metadata": {
    "Collapsed": "false"
   },
   "outputs": [
    {
     "data": {
      "text/plain": [
       "proteins\n",
       "X6RM59                              6\n",
       "K7EQF5                              6\n",
       "K7EQG1                              6\n",
       "K7EQG9                              6\n",
       "K7EQH1                              6\n",
       "                                   ..\n",
       "CON__ENSEMBL:ENSBTAP00000024462    31\n",
       "CON__ENSEMBL:ENSBTAP00000032840    31\n",
       "CON__ENSEMBL:ENSBTAP00000038329    31\n",
       "CON__ENSEMBL:ENSBTAP00000001528    31\n",
       "CON__ENSEMBL:ENSBTAP00000018229    31\n",
       "Name: proteins, Length: 25427, dtype: int64"
      ]
     },
     "execution_count": 18,
     "metadata": {},
     "output_type": "execute_result"
    }
   ],
   "source": [
    "protein_groups.proteins.str.len().sort_values()"
   ]
  },
  {
   "cell_type": "code",
   "execution_count": 19,
   "metadata": {
    "Collapsed": "false"
   },
   "outputs": [
    {
     "name": "stdout",
     "output_type": "stream",
     "text": [
      "Top 24 grouped by first characters\n"
     ]
    },
    {
     "data": {
      "application/vnd.jupyter.widget-view+json": {
       "model_id": "ce9bfeb6c8e34b8493d15e92a20bf337",
       "version_major": 2,
       "version_minor": 0
      },
      "text/plain": [
       "interactive(children=(IntSlider(value=4, description='n_characters', max=10, min=1), Output()), _dom_classes=(…"
      ]
     },
     "metadata": {},
     "output_type": "display_data"
    },
    {
     "data": {
      "text/plain": [
       "<function __main__.calc_counts(n_characters)>"
      ]
     },
     "execution_count": 19,
     "metadata": {},
     "output_type": "execute_result"
    }
   ],
   "source": [
    "import ipywidgets as w\n",
    "N=24\n",
    "print(f'Top {N} grouped by first characters')\n",
    "def calc_counts(n_characters):\n",
    "    return protein_groups.proteins.str[:n_characters].value_counts()[:N]\n",
    "w.interact(calc_counts, n_characters=w.IntSlider(value=4, min=1, max=10))"
   ]
  },
  {
   "cell_type": "markdown",
   "metadata": {
    "Collapsed": "false"
   },
   "source": [
    "How does the naming work?"
   ]
  },
  {
   "cell_type": "code",
   "execution_count": 20,
   "metadata": {
    "Collapsed": "false"
   },
   "outputs": [],
   "source": [
    "protein_groups['p4'] = protein_groups.proteins.str[:4]\n",
    "protein_groups['p8'] = protein_groups.proteins.str[:8]\n",
    "protein_groups['p9'] = protein_groups.proteins.str[:9]"
   ]
  },
  {
   "cell_type": "code",
   "execution_count": 21,
   "metadata": {
    "Collapsed": "false"
   },
   "outputs": [
    {
     "data": {
      "text/html": [
       "<div>\n",
       "<style scoped>\n",
       "    .dataframe tbody tr th:only-of-type {\n",
       "        vertical-align: middle;\n",
       "    }\n",
       "\n",
       "    .dataframe tbody tr th {\n",
       "        vertical-align: top;\n",
       "    }\n",
       "\n",
       "    .dataframe thead th {\n",
       "        text-align: right;\n",
       "    }\n",
       "</style>\n",
       "<table border=\"1\" class=\"dataframe\">\n",
       "  <thead>\n",
       "    <tr style=\"text-align: right;\">\n",
       "      <th></th>\n",
       "      <th>proteins</th>\n",
       "      <th>p4</th>\n",
       "      <th>p8</th>\n",
       "      <th>p9</th>\n",
       "    </tr>\n",
       "    <tr>\n",
       "      <th>proteins</th>\n",
       "      <th></th>\n",
       "      <th></th>\n",
       "      <th></th>\n",
       "      <th></th>\n",
       "    </tr>\n",
       "  </thead>\n",
       "  <tbody>\n",
       "    <tr>\n",
       "      <th>A0A024QZ33</th>\n",
       "      <td>A0A024QZ33</td>\n",
       "      <td>A0A0</td>\n",
       "      <td>A0A024QZ</td>\n",
       "      <td>A0A024QZ3</td>\n",
       "    </tr>\n",
       "    <tr>\n",
       "      <th>A0A024QZ42</th>\n",
       "      <td>A0A024QZ42</td>\n",
       "      <td>A0A0</td>\n",
       "      <td>A0A024QZ</td>\n",
       "      <td>A0A024QZ4</td>\n",
       "    </tr>\n",
       "    <tr>\n",
       "      <th>A0A024QZP7</th>\n",
       "      <td>A0A024QZP7</td>\n",
       "      <td>A0A0</td>\n",
       "      <td>A0A024QZ</td>\n",
       "      <td>A0A024QZP</td>\n",
       "    </tr>\n",
       "    <tr>\n",
       "      <th>A0A024QZX5</th>\n",
       "      <td>A0A024QZX5</td>\n",
       "      <td>A0A0</td>\n",
       "      <td>A0A024QZ</td>\n",
       "      <td>A0A024QZX</td>\n",
       "    </tr>\n",
       "    <tr>\n",
       "      <th>A0A024R161</th>\n",
       "      <td>A0A024R161</td>\n",
       "      <td>A0A0</td>\n",
       "      <td>A0A024R1</td>\n",
       "      <td>A0A024R16</td>\n",
       "    </tr>\n",
       "    <tr>\n",
       "      <th>...</th>\n",
       "      <td>...</td>\n",
       "      <td>...</td>\n",
       "      <td>...</td>\n",
       "      <td>...</td>\n",
       "    </tr>\n",
       "    <tr>\n",
       "      <th>X6RLL4</th>\n",
       "      <td>X6RLL4</td>\n",
       "      <td>X6RL</td>\n",
       "      <td>X6RLL4</td>\n",
       "      <td>X6RLL4</td>\n",
       "    </tr>\n",
       "    <tr>\n",
       "      <th>X6RLN4</th>\n",
       "      <td>X6RLN4</td>\n",
       "      <td>X6RL</td>\n",
       "      <td>X6RLN4</td>\n",
       "      <td>X6RLN4</td>\n",
       "    </tr>\n",
       "    <tr>\n",
       "      <th>X6RLR1</th>\n",
       "      <td>X6RLR1</td>\n",
       "      <td>X6RL</td>\n",
       "      <td>X6RLR1</td>\n",
       "      <td>X6RLR1</td>\n",
       "    </tr>\n",
       "    <tr>\n",
       "      <th>X6RLX0</th>\n",
       "      <td>X6RLX0</td>\n",
       "      <td>X6RL</td>\n",
       "      <td>X6RLX0</td>\n",
       "      <td>X6RLX0</td>\n",
       "    </tr>\n",
       "    <tr>\n",
       "      <th>X6RM59</th>\n",
       "      <td>X6RM59</td>\n",
       "      <td>X6RM</td>\n",
       "      <td>X6RM59</td>\n",
       "      <td>X6RM59</td>\n",
       "    </tr>\n",
       "  </tbody>\n",
       "</table>\n",
       "<p>25427 rows × 4 columns</p>\n",
       "</div>"
      ],
      "text/plain": [
       "              proteins    p4        p8         p9\n",
       "proteins                                         \n",
       "A0A024QZ33  A0A024QZ33  A0A0  A0A024QZ  A0A024QZ3\n",
       "A0A024QZ42  A0A024QZ42  A0A0  A0A024QZ  A0A024QZ4\n",
       "A0A024QZP7  A0A024QZP7  A0A0  A0A024QZ  A0A024QZP\n",
       "A0A024QZX5  A0A024QZX5  A0A0  A0A024QZ  A0A024QZX\n",
       "A0A024R161  A0A024R161  A0A0  A0A024R1  A0A024R16\n",
       "...                ...   ...       ...        ...\n",
       "X6RLL4          X6RLL4  X6RL    X6RLL4     X6RLL4\n",
       "X6RLN4          X6RLN4  X6RL    X6RLN4     X6RLN4\n",
       "X6RLR1          X6RLR1  X6RL    X6RLR1     X6RLR1\n",
       "X6RLX0          X6RLX0  X6RL    X6RLX0     X6RLX0\n",
       "X6RM59          X6RM59  X6RM    X6RM59     X6RM59\n",
       "\n",
       "[25427 rows x 4 columns]"
      ]
     },
     "execution_count": 21,
     "metadata": {},
     "output_type": "execute_result"
    }
   ],
   "source": [
    "protein_groups.sort_values('p8')"
   ]
  },
  {
   "cell_type": "markdown",
   "metadata": {
    "Collapsed": "false"
   },
   "source": [
    "Prefixed `CON__` or `REV__`"
   ]
  },
  {
   "cell_type": "code",
   "execution_count": 22,
   "metadata": {
    "Collapsed": "false"
   },
   "outputs": [
    {
     "data": {
      "text/html": [
       "<div>\n",
       "<style scoped>\n",
       "    .dataframe tbody tr th:only-of-type {\n",
       "        vertical-align: middle;\n",
       "    }\n",
       "\n",
       "    .dataframe tbody tr th {\n",
       "        vertical-align: top;\n",
       "    }\n",
       "\n",
       "    .dataframe thead th {\n",
       "        text-align: right;\n",
       "    }\n",
       "</style>\n",
       "<table border=\"1\" class=\"dataframe\">\n",
       "  <thead>\n",
       "    <tr style=\"text-align: right;\">\n",
       "      <th></th>\n",
       "      <th>proteins</th>\n",
       "      <th>p4</th>\n",
       "      <th>p8</th>\n",
       "      <th>p9</th>\n",
       "    </tr>\n",
       "    <tr>\n",
       "      <th>proteins</th>\n",
       "      <th></th>\n",
       "      <th></th>\n",
       "      <th></th>\n",
       "      <th></th>\n",
       "    </tr>\n",
       "  </thead>\n",
       "  <tbody>\n",
       "    <tr>\n",
       "      <th>CON__A2I7N0</th>\n",
       "      <td>CON__A2I7N0</td>\n",
       "      <td>CON_</td>\n",
       "      <td>CON__A2I</td>\n",
       "      <td>CON__A2I7</td>\n",
       "    </tr>\n",
       "    <tr>\n",
       "      <th>CON__A2I7N1</th>\n",
       "      <td>CON__A2I7N1</td>\n",
       "      <td>CON_</td>\n",
       "      <td>CON__A2I</td>\n",
       "      <td>CON__A2I7</td>\n",
       "    </tr>\n",
       "    <tr>\n",
       "      <th>CON__A2I7N3</th>\n",
       "      <td>CON__A2I7N3</td>\n",
       "      <td>CON_</td>\n",
       "      <td>CON__A2I</td>\n",
       "      <td>CON__A2I7</td>\n",
       "    </tr>\n",
       "    <tr>\n",
       "      <th>CON__ENSEMBL:ENSBTAP00000001528</th>\n",
       "      <td>CON__ENSEMBL:ENSBTAP00000001528</td>\n",
       "      <td>CON_</td>\n",
       "      <td>CON__ENS</td>\n",
       "      <td>CON__ENSE</td>\n",
       "    </tr>\n",
       "    <tr>\n",
       "      <th>CON__ENSEMBL:ENSBTAP00000006074</th>\n",
       "      <td>CON__ENSEMBL:ENSBTAP00000006074</td>\n",
       "      <td>CON_</td>\n",
       "      <td>CON__ENS</td>\n",
       "      <td>CON__ENSE</td>\n",
       "    </tr>\n",
       "    <tr>\n",
       "      <th>...</th>\n",
       "      <td>...</td>\n",
       "      <td>...</td>\n",
       "      <td>...</td>\n",
       "      <td>...</td>\n",
       "    </tr>\n",
       "    <tr>\n",
       "      <th>REV__Q96HY6</th>\n",
       "      <td>REV__Q96HY6</td>\n",
       "      <td>REV_</td>\n",
       "      <td>REV__Q96</td>\n",
       "      <td>REV__Q96H</td>\n",
       "    </tr>\n",
       "    <tr>\n",
       "      <th>REV__Q96HY6-2</th>\n",
       "      <td>REV__Q96HY6-2</td>\n",
       "      <td>REV_</td>\n",
       "      <td>REV__Q96</td>\n",
       "      <td>REV__Q96H</td>\n",
       "    </tr>\n",
       "    <tr>\n",
       "      <th>REV__Q96PE2</th>\n",
       "      <td>REV__Q96PE2</td>\n",
       "      <td>REV_</td>\n",
       "      <td>REV__Q96</td>\n",
       "      <td>REV__Q96P</td>\n",
       "    </tr>\n",
       "    <tr>\n",
       "      <th>REV__Q9BYP7-4</th>\n",
       "      <td>REV__Q9BYP7-4</td>\n",
       "      <td>REV_</td>\n",
       "      <td>REV__Q9B</td>\n",
       "      <td>REV__Q9BY</td>\n",
       "    </tr>\n",
       "    <tr>\n",
       "      <th>REV__Q9Y2X3</th>\n",
       "      <td>REV__Q9Y2X3</td>\n",
       "      <td>REV_</td>\n",
       "      <td>REV__Q9Y</td>\n",
       "      <td>REV__Q9Y2</td>\n",
       "    </tr>\n",
       "  </tbody>\n",
       "</table>\n",
       "<p>84 rows × 4 columns</p>\n",
       "</div>"
      ],
      "text/plain": [
       "                                                        proteins    p4  \\\n",
       "proteins                                                                 \n",
       "CON__A2I7N0                                          CON__A2I7N0  CON_   \n",
       "CON__A2I7N1                                          CON__A2I7N1  CON_   \n",
       "CON__A2I7N3                                          CON__A2I7N3  CON_   \n",
       "CON__ENSEMBL:ENSBTAP00000001528  CON__ENSEMBL:ENSBTAP00000001528  CON_   \n",
       "CON__ENSEMBL:ENSBTAP00000006074  CON__ENSEMBL:ENSBTAP00000006074  CON_   \n",
       "...                                                          ...   ...   \n",
       "REV__Q96HY6                                          REV__Q96HY6  REV_   \n",
       "REV__Q96HY6-2                                      REV__Q96HY6-2  REV_   \n",
       "REV__Q96PE2                                          REV__Q96PE2  REV_   \n",
       "REV__Q9BYP7-4                                      REV__Q9BYP7-4  REV_   \n",
       "REV__Q9Y2X3                                          REV__Q9Y2X3  REV_   \n",
       "\n",
       "                                       p8         p9  \n",
       "proteins                                              \n",
       "CON__A2I7N0                      CON__A2I  CON__A2I7  \n",
       "CON__A2I7N1                      CON__A2I  CON__A2I7  \n",
       "CON__A2I7N3                      CON__A2I  CON__A2I7  \n",
       "CON__ENSEMBL:ENSBTAP00000001528  CON__ENS  CON__ENSE  \n",
       "CON__ENSEMBL:ENSBTAP00000006074  CON__ENS  CON__ENSE  \n",
       "...                                   ...        ...  \n",
       "REV__Q96HY6                      REV__Q96  REV__Q96H  \n",
       "REV__Q96HY6-2                    REV__Q96  REV__Q96H  \n",
       "REV__Q96PE2                      REV__Q96  REV__Q96P  \n",
       "REV__Q9BYP7-4                    REV__Q9B  REV__Q9BY  \n",
       "REV__Q9Y2X3                      REV__Q9Y  REV__Q9Y2  \n",
       "\n",
       "[84 rows x 4 columns]"
      ]
     },
     "execution_count": 22,
     "metadata": {},
     "output_type": "execute_result"
    }
   ],
   "source": [
    "protein_groups.loc[protein_groups.p4.isin(('CON_','REV_'))].sort_index()"
   ]
  },
  {
   "cell_type": "markdown",
   "metadata": {
    "Collapsed": "false",
    "toc-hr-collapsed": false
   },
   "source": [
    "## Select Proteins"
   ]
  },
  {
   "cell_type": "markdown",
   "metadata": {
    "Collapsed": "false"
   },
   "source": [
    "### Minumum required sample quality\n",
    "First define the minum requirement of a sample to be kept in "
   ]
  },
  {
   "cell_type": "code",
   "execution_count": 23,
   "metadata": {
    "Collapsed": "false"
   },
   "outputs": [
    {
     "data": {
      "application/vnd.jupyter.widget-view+json": {
       "model_id": "5652baf0957f48ef99021159aee75fe3",
       "version_major": 2,
       "version_minor": 0
      },
      "text/plain": [
       "IntSlider(value=1500, max=4461)"
      ]
     },
     "metadata": {},
     "output_type": "display_data"
    }
   ],
   "source": [
    "import ipywidgets as w\n",
    "MIN_DEPTH_SAMPLE = 1500\n",
    "w_min_depth_sample = w.IntSlider(value=MIN_DEPTH_SAMPLE, min=0, max=max(sample_stats[COL_NO_IDENTIFIED_PROT]))\n",
    "w_min_depth_sample"
   ]
  },
  {
   "cell_type": "code",
   "execution_count": 24,
   "metadata": {
    "Collapsed": "false"
   },
   "outputs": [
    {
     "name": "stdout",
     "output_type": "stream",
     "text": [
      "Selected 413 samples\n"
     ]
    }
   ],
   "source": [
    "mask_samples = sample_stats[COL_NO_IDENTIFIED_PROT] >= w_min_depth_sample.value\n",
    "print(f\"Selected {mask_samples.sum()} samples\")"
   ]
  },
  {
   "cell_type": "code",
   "execution_count": 25,
   "metadata": {
    "Collapsed": "false"
   },
   "outputs": [],
   "source": [
    "# datasets with 50% and 90% coverage + log transformation, z-normalization and fill missingness (for pca)\n",
    "x_50 = coverage(X.loc[mask_samples], coverage_col=0.5, coverage_row=0.2)\n",
    "# x_50_pca = log_z_zeroone_na(x_50) # there is a huge difference if NA is set to low value or mean!!\n",
    "x_90 = coverage(X.loc[mask_samples], 0.9, 0.9)\n",
    "# x_90_pca = log_z_zeroone_na(x_90)"
   ]
  },
  {
   "cell_type": "code",
   "execution_count": 26,
   "metadata": {
    "Collapsed": "false"
   },
   "outputs": [
    {
     "data": {
      "text/html": [
       "<div>\n",
       "<style scoped>\n",
       "    .dataframe tbody tr th:only-of-type {\n",
       "        vertical-align: middle;\n",
       "    }\n",
       "\n",
       "    .dataframe tbody tr th {\n",
       "        vertical-align: top;\n",
       "    }\n",
       "\n",
       "    .dataframe thead th {\n",
       "        text-align: right;\n",
       "    }\n",
       "</style>\n",
       "<table border=\"1\" class=\"dataframe\">\n",
       "  <thead>\n",
       "    <tr style=\"text-align: right;\">\n",
       "      <th>proteins</th>\n",
       "      <th>A0A075B736</th>\n",
       "      <th>A0A087WYC1</th>\n",
       "      <th>A0A0A0MSI0</th>\n",
       "      <th>A0A0B4J2C3</th>\n",
       "      <th>A0A0C4DGZ5</th>\n",
       "      <th>A0A0J9YXZ5</th>\n",
       "      <th>A0A140T936</th>\n",
       "      <th>A0A2R8Y6G6</th>\n",
       "      <th>A0A3B3IS95</th>\n",
       "      <th>A0A494C1A5</th>\n",
       "      <th>...</th>\n",
       "      <th>Q9NYU2</th>\n",
       "      <th>Q9UG63-2</th>\n",
       "      <th>Q9UIG0</th>\n",
       "      <th>Q9UQ80-2</th>\n",
       "      <th>Q9Y265-2</th>\n",
       "      <th>Q9Y2W1</th>\n",
       "      <th>Q9Y3A5</th>\n",
       "      <th>Q9Y3F4-2</th>\n",
       "      <th>Q9Y617-2</th>\n",
       "      <th>V9GYZ6</th>\n",
       "    </tr>\n",
       "    <tr>\n",
       "      <th>SampleID</th>\n",
       "      <th></th>\n",
       "      <th></th>\n",
       "      <th></th>\n",
       "      <th></th>\n",
       "      <th></th>\n",
       "      <th></th>\n",
       "      <th></th>\n",
       "      <th></th>\n",
       "      <th></th>\n",
       "      <th></th>\n",
       "      <th></th>\n",
       "      <th></th>\n",
       "      <th></th>\n",
       "      <th></th>\n",
       "      <th></th>\n",
       "      <th></th>\n",
       "      <th></th>\n",
       "      <th></th>\n",
       "      <th></th>\n",
       "      <th></th>\n",
       "      <th></th>\n",
       "    </tr>\n",
       "  </thead>\n",
       "  <tbody>\n",
       "    <tr>\n",
       "      <th>8</th>\n",
       "      <td>2.257000e+09</td>\n",
       "      <td>4.630300e+10</td>\n",
       "      <td>1.383400e+11</td>\n",
       "      <td>2.232300e+10</td>\n",
       "      <td>1.554300e+10</td>\n",
       "      <td>4.390000e+10</td>\n",
       "      <td>2.025100e+10</td>\n",
       "      <td>2.889800e+11</td>\n",
       "      <td>1.090300e+11</td>\n",
       "      <td>3.493700e+10</td>\n",
       "      <td>...</td>\n",
       "      <td>2.272000e+09</td>\n",
       "      <td>1.636800e+10</td>\n",
       "      <td>8.111000e+09</td>\n",
       "      <td>5.147400e+10</td>\n",
       "      <td>1.253200e+10</td>\n",
       "      <td>7.201600e+09</td>\n",
       "      <td>5.729700e+09</td>\n",
       "      <td>1.356700e+10</td>\n",
       "      <td>1.721900e+10</td>\n",
       "      <td>5.427000e+10</td>\n",
       "    </tr>\n",
       "  </tbody>\n",
       "</table>\n",
       "<p>1 rows × 147 columns</p>\n",
       "</div>"
      ],
      "text/plain": [
       "proteins    A0A075B736    A0A087WYC1    A0A0A0MSI0    A0A0B4J2C3  \\\n",
       "SampleID                                                           \n",
       "8         2.257000e+09  4.630300e+10  1.383400e+11  2.232300e+10   \n",
       "\n",
       "proteins    A0A0C4DGZ5    A0A0J9YXZ5    A0A140T936    A0A2R8Y6G6  \\\n",
       "SampleID                                                           \n",
       "8         1.554300e+10  4.390000e+10  2.025100e+10  2.889800e+11   \n",
       "\n",
       "proteins    A0A3B3IS95    A0A494C1A5  ...        Q9NYU2      Q9UG63-2  \\\n",
       "SampleID                              ...                               \n",
       "8         1.090300e+11  3.493700e+10  ...  2.272000e+09  1.636800e+10   \n",
       "\n",
       "proteins        Q9UIG0      Q9UQ80-2      Q9Y265-2        Q9Y2W1  \\\n",
       "SampleID                                                           \n",
       "8         8.111000e+09  5.147400e+10  1.253200e+10  7.201600e+09   \n",
       "\n",
       "proteins        Q9Y3A5      Q9Y3F4-2      Q9Y617-2        V9GYZ6  \n",
       "SampleID                                                          \n",
       "8         5.729700e+09  1.356700e+10  1.721900e+10  5.427000e+10  \n",
       "\n",
       "[1 rows x 147 columns]"
      ]
     },
     "execution_count": 26,
     "metadata": {},
     "output_type": "execute_result"
    }
   ],
   "source": [
    "x_90.sample()"
   ]
  },
  {
   "cell_type": "markdown",
   "metadata": {
    "Collapsed": "false"
   },
   "source": [
    "### Distribution of Intensity values\n",
    "- comparing non-transformed to $\\log_{10}$ transformed"
   ]
  },
  {
   "cell_type": "code",
   "execution_count": 27,
   "metadata": {
    "Collapsed": "false"
   },
   "outputs": [
    {
     "name": "stdout",
     "output_type": "stream",
     "text": [
      "Sample ID: 366\n"
     ]
    },
    {
     "data": {
      "image/png": "[encoded data removed]",
      "text/plain": [
       "<Figure size 720x216 with 2 Axes>"
      ]
     },
     "metadata": {},
     "output_type": "display_data"
    }
   ],
   "source": [
    "from vaep.transform import log\n",
    "from random import sample\n",
    "sample = x_50.sample()\n",
    "sample_id = sample.index[0]\n",
    "print(\"Sample ID:\", sample_id)\n",
    "sns.set(style=\"darkgrid\")\n",
    "fig, axes = plt.subplots(1,2, figsize=(10,3))\n",
    "sns.distplot(sample, bins=100, ax=axes[0])\n",
    "sample_log = log(sample) # natural logarithm, could also be base_2, base_10 logarithm\n",
    "sns.distplot(sample_log, bins=100, ax=axes[1])\n",
    "_ = fig.suptitle(\"Normalized vs. log (ln) normalized distribution\")\n",
    "plt.tight_layout()\n",
    "_savefig(fig, 'distribution_sample_' + str(sample_id))"
   ]
  },
  {
   "cell_type": "markdown",
   "metadata": {
    "Collapsed": "false"
   },
   "source": [
    "ToDo: Select a logarithm for the transformation which is either interpretable or gives best to normal distribution:\n",
    "1. $log_2$: Interpretable as continous doubling of the intensity\n",
    "2. KDensity measure of goodness of fit to normal distribution."
   ]
  },
  {
   "cell_type": "code",
   "execution_count": 28,
   "metadata": {
    "Collapsed": "false"
   },
   "outputs": [],
   "source": [
    "x_50 = x_50.apply(log)\n",
    "x_90 = x_90.apply(log)"
   ]
  },
  {
   "cell_type": "code",
   "execution_count": 29,
   "metadata": {
    "Collapsed": "false"
   },
   "outputs": [
    {
     "data": {
      "text/html": [
       "<div>\n",
       "<style scoped>\n",
       "    .dataframe tbody tr th:only-of-type {\n",
       "        vertical-align: middle;\n",
       "    }\n",
       "\n",
       "    .dataframe tbody tr th {\n",
       "        vertical-align: top;\n",
       "    }\n",
       "\n",
       "    .dataframe thead th {\n",
       "        text-align: right;\n",
       "    }\n",
       "</style>\n",
       "<table border=\"1\" class=\"dataframe\">\n",
       "  <thead>\n",
       "    <tr style=\"text-align: right;\">\n",
       "      <th>proteins</th>\n",
       "      <th>A0A075B6E2</th>\n",
       "      <th>A0A075B6F9</th>\n",
       "      <th>A0A075B6Q0</th>\n",
       "      <th>A0A075B736</th>\n",
       "      <th>A0A087WSY9</th>\n",
       "      <th>A0A087WTB8</th>\n",
       "      <th>A0A087WTW0</th>\n",
       "      <th>A0A087WUC6</th>\n",
       "      <th>A0A087WUE9</th>\n",
       "      <th>A0A087WUZ3</th>\n",
       "      <th>...</th>\n",
       "      <th>U3KQ85</th>\n",
       "      <th>V5IRT4</th>\n",
       "      <th>V9GYP5</th>\n",
       "      <th>V9GYY3</th>\n",
       "      <th>V9GYZ6</th>\n",
       "      <th>X6R8A1</th>\n",
       "      <th>X6RA14</th>\n",
       "      <th>X6RA30</th>\n",
       "      <th>X6RAC9</th>\n",
       "      <th>X6RFL8</th>\n",
       "    </tr>\n",
       "    <tr>\n",
       "      <th>SampleID</th>\n",
       "      <th></th>\n",
       "      <th></th>\n",
       "      <th></th>\n",
       "      <th></th>\n",
       "      <th></th>\n",
       "      <th></th>\n",
       "      <th></th>\n",
       "      <th></th>\n",
       "      <th></th>\n",
       "      <th></th>\n",
       "      <th></th>\n",
       "      <th></th>\n",
       "      <th></th>\n",
       "      <th></th>\n",
       "      <th></th>\n",
       "      <th></th>\n",
       "      <th></th>\n",
       "      <th></th>\n",
       "      <th></th>\n",
       "      <th></th>\n",
       "      <th></th>\n",
       "    </tr>\n",
       "  </thead>\n",
       "  <tbody>\n",
       "    <tr>\n",
       "      <th>408</th>\n",
       "      <td>23.308922</td>\n",
       "      <td>20.591288</td>\n",
       "      <td>18.533920</td>\n",
       "      <td>23.161081</td>\n",
       "      <td>22.947067</td>\n",
       "      <td>20.541624</td>\n",
       "      <td>20.204559</td>\n",
       "      <td>20.240315</td>\n",
       "      <td>20.737957</td>\n",
       "      <td>23.491972</td>\n",
       "      <td>...</td>\n",
       "      <td>19.931491</td>\n",
       "      <td>18.116395</td>\n",
       "      <td>21.109820</td>\n",
       "      <td>23.612748</td>\n",
       "      <td>23.453599</td>\n",
       "      <td>20.901161</td>\n",
       "      <td>21.535884</td>\n",
       "      <td>19.928905</td>\n",
       "      <td>20.952471</td>\n",
       "      <td>NaN</td>\n",
       "    </tr>\n",
       "    <tr>\n",
       "      <th>281</th>\n",
       "      <td>23.300296</td>\n",
       "      <td>20.422080</td>\n",
       "      <td>18.915926</td>\n",
       "      <td>23.133718</td>\n",
       "      <td>22.899255</td>\n",
       "      <td>20.769386</td>\n",
       "      <td>20.397771</td>\n",
       "      <td>20.534681</td>\n",
       "      <td>20.707055</td>\n",
       "      <td>23.667126</td>\n",
       "      <td>...</td>\n",
       "      <td>19.519326</td>\n",
       "      <td>17.810771</td>\n",
       "      <td>21.169361</td>\n",
       "      <td>23.753593</td>\n",
       "      <td>23.717998</td>\n",
       "      <td>20.958180</td>\n",
       "      <td>21.893951</td>\n",
       "      <td>19.753284</td>\n",
       "      <td>NaN</td>\n",
       "      <td>NaN</td>\n",
       "    </tr>\n",
       "    <tr>\n",
       "      <th>82</th>\n",
       "      <td>22.241750</td>\n",
       "      <td>NaN</td>\n",
       "      <td>NaN</td>\n",
       "      <td>22.498286</td>\n",
       "      <td>NaN</td>\n",
       "      <td>19.459437</td>\n",
       "      <td>18.806895</td>\n",
       "      <td>18.969438</td>\n",
       "      <td>19.873956</td>\n",
       "      <td>22.474429</td>\n",
       "      <td>...</td>\n",
       "      <td>20.963935</td>\n",
       "      <td>17.666934</td>\n",
       "      <td>NaN</td>\n",
       "      <td>NaN</td>\n",
       "      <td>22.381437</td>\n",
       "      <td>19.978657</td>\n",
       "      <td>NaN</td>\n",
       "      <td>18.560182</td>\n",
       "      <td>NaN</td>\n",
       "      <td>NaN</td>\n",
       "    </tr>\n",
       "    <tr>\n",
       "      <th>161</th>\n",
       "      <td>22.241465</td>\n",
       "      <td>NaN</td>\n",
       "      <td>NaN</td>\n",
       "      <td>22.683572</td>\n",
       "      <td>NaN</td>\n",
       "      <td>19.933145</td>\n",
       "      <td>18.912018</td>\n",
       "      <td>NaN</td>\n",
       "      <td>19.671671</td>\n",
       "      <td>22.149430</td>\n",
       "      <td>...</td>\n",
       "      <td>NaN</td>\n",
       "      <td>NaN</td>\n",
       "      <td>20.086215</td>\n",
       "      <td>NaN</td>\n",
       "      <td>22.413638</td>\n",
       "      <td>19.699251</td>\n",
       "      <td>NaN</td>\n",
       "      <td>18.398496</td>\n",
       "      <td>NaN</td>\n",
       "      <td>NaN</td>\n",
       "    </tr>\n",
       "    <tr>\n",
       "      <th>251</th>\n",
       "      <td>20.808342</td>\n",
       "      <td>NaN</td>\n",
       "      <td>18.821200</td>\n",
       "      <td>22.698971</td>\n",
       "      <td>NaN</td>\n",
       "      <td>20.193631</td>\n",
       "      <td>19.569891</td>\n",
       "      <td>NaN</td>\n",
       "      <td>20.333197</td>\n",
       "      <td>NaN</td>\n",
       "      <td>...</td>\n",
       "      <td>NaN</td>\n",
       "      <td>18.384494</td>\n",
       "      <td>NaN</td>\n",
       "      <td>23.117336</td>\n",
       "      <td>22.467130</td>\n",
       "      <td>20.543469</td>\n",
       "      <td>NaN</td>\n",
       "      <td>19.538115</td>\n",
       "      <td>NaN</td>\n",
       "      <td>NaN</td>\n",
       "    </tr>\n",
       "  </tbody>\n",
       "</table>\n",
       "<p>5 rows × 1897 columns</p>\n",
       "</div>"
      ],
      "text/plain": [
       "proteins  A0A075B6E2  A0A075B6F9  A0A075B6Q0  A0A075B736  A0A087WSY9  \\\n",
       "SampleID                                                               \n",
       "408        23.308922   20.591288   18.533920   23.161081   22.947067   \n",
       "281        23.300296   20.422080   18.915926   23.133718   22.899255   \n",
       "82         22.241750         NaN         NaN   22.498286         NaN   \n",
       "161        22.241465         NaN         NaN   22.683572         NaN   \n",
       "251        20.808342         NaN   18.821200   22.698971         NaN   \n",
       "\n",
       "proteins  A0A087WTB8  A0A087WTW0  A0A087WUC6  A0A087WUE9  A0A087WUZ3  ...  \\\n",
       "SampleID                                                              ...   \n",
       "408        20.541624   20.204559   20.240315   20.737957   23.491972  ...   \n",
       "281        20.769386   20.397771   20.534681   20.707055   23.667126  ...   \n",
       "82         19.459437   18.806895   18.969438   19.873956   22.474429  ...   \n",
       "161        19.933145   18.912018         NaN   19.671671   22.149430  ...   \n",
       "251        20.193631   19.569891         NaN   20.333197         NaN  ...   \n",
       "\n",
       "proteins     U3KQ85     V5IRT4     V9GYP5     V9GYY3     V9GYZ6     X6R8A1  \\\n",
       "SampleID                                                                     \n",
       "408       19.931491  18.116395  21.109820  23.612748  23.453599  20.901161   \n",
       "281       19.519326  17.810771  21.169361  23.753593  23.717998  20.958180   \n",
       "82        20.963935  17.666934        NaN        NaN  22.381437  19.978657   \n",
       "161             NaN        NaN  20.086215        NaN  22.413638  19.699251   \n",
       "251             NaN  18.384494        NaN  23.117336  22.467130  20.543469   \n",
       "\n",
       "proteins     X6RA14     X6RA30     X6RAC9  X6RFL8  \n",
       "SampleID                                           \n",
       "408       21.535884  19.928905  20.952471     NaN  \n",
       "281       21.893951  19.753284        NaN     NaN  \n",
       "82              NaN  18.560182        NaN     NaN  \n",
       "161             NaN  18.398496        NaN     NaN  \n",
       "251             NaN  19.538115        NaN     NaN  \n",
       "\n",
       "[5 rows x 1897 columns]"
      ]
     },
     "execution_count": 29,
     "metadata": {},
     "output_type": "execute_result"
    }
   ],
   "source": [
    "x_50.head()"
   ]
  },
  {
   "cell_type": "markdown",
   "metadata": {
    "Collapsed": "false"
   },
   "source": [
    "## Imputing missing values in log-transformed space\n",
    "\n",
    "Options:\n",
    "1. Mean Imputation\n",
    "2. Zero Imputation\n",
    "2. Shifted Mean Imputation (and randomization)"
   ]
  },
  {
   "cell_type": "code",
   "execution_count": 30,
   "metadata": {
    "Collapsed": "false"
   },
   "outputs": [],
   "source": [
    "from vaep.imputation import imputation_normal_distribution\n",
    "_manuael_imputed = imputation_normal_distribution(x_50.iloc[:,0])\n",
    "_applied_imputed = x_50.iloc[:,:3].apply(imputation_normal_distribution).iloc[:,0]\n",
    "assert _manuael_imputed.equals(_applied_imputed), \"You got apply wrong\""
   ]
  },
  {
   "cell_type": "code",
   "execution_count": 31,
   "metadata": {
    "Collapsed": "false"
   },
   "outputs": [],
   "source": [
    "from vaep.imputation import imputation_normal_distribution\n",
    "x_50 = x_50.apply(imputation_normal_distribution)\n",
    "x_90 = x_90.apply(imputation_normal_distribution)"
   ]
  },
  {
   "cell_type": "code",
   "execution_count": 32,
   "metadata": {
    "Collapsed": "false"
   },
   "outputs": [],
   "source": [
    "from config import PROCESSED_DATA, PREFIX_IMPUTED, PREFIX_META\n",
    "x_50.to_pickle(os.path.join(PROCESSED_DATA, PREFIX_IMPUTED+'_50.pkl'))\n",
    "x_90.to_pickle(os.path.join(PROCESSED_DATA, PREFIX_IMPUTED+'_90.pkl'))"
   ]
  },
  {
   "cell_type": "code",
   "execution_count": 33,
   "metadata": {
    "Collapsed": "false"
   },
   "outputs": [],
   "source": [
    "labels.to_pickle(os.path.join(PROCESSED_DATA, PREFIX_META + '.pkl'))"
   ]
  },
  {
   "cell_type": "code",
   "execution_count": null,
   "metadata": {
    "Collapsed": "false"
   },
   "outputs": [],
   "source": []
  }
 ],
 "metadata": {
  "kernelspec": {
   "display_name": "vaep",
   "language": "python",
   "name": "vaep"
  },
  "language_info": {
   "codemirror_mode": {
    "name": "ipython",
    "version": 3
   },
   "file_extension": ".py",
   "mimetype": "text/x-python",
   "name": "python",
   "nbconvert_exporter": "python",
   "pygments_lexer": "ipython3",
   "version": "3.8.5"
  }
 },
 "nbformat": 4,
 "nbformat_minor": 4
}
