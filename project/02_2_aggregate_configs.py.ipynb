{
 "cells": [
  {
   "cell_type": "code",
   "execution_count": null,
   "id": "c0616abd",
   "metadata": {},
   "outputs": [],
   "source": [
    "import pandas as pd\n",
    "pd.options.display.max_columns = 30 \n",
    "\n",
    "from vaep.models.collect_dumps import collect_configs\n",
    "from vaep.logging import setup_nb_logger\n",
    "logger = setup_nb_logger()"
   ]
  },
  {
   "cell_type": "code",
   "execution_count": null,
   "id": "3152399a",
   "metadata": {},
   "outputs": [],
   "source": [
    "\n",
    "all_configs = collect_configs(snakemake.input)\n",
    "all_config = pd.DataFrame(all_configs)\n",
    "all_config.T"
   ]
  },
  {
   "cell_type": "code",
   "execution_count": null,
   "id": "3e20d7ad-f23b-4c07-abea-62aca0ca19e5",
   "metadata": {},
   "outputs": [],
   "source": [
    "all_config.to_json(snakemake.output.out)"
   ]
  },
  {
   "cell_type": "code",
   "execution_count": null,
   "id": "51c81244-46fb-4f4a-a442-8298b0d8956f",
   "metadata": {},
   "outputs": [],
   "source": []
  }
 ],
 "metadata": {
  "kernelspec": {
   "display_name": "Python 3",
   "language": "python",
   "name": "python3"
  },
  "language_info": {
   "codemirror_mode": {
    "name": "ipython",
    "version": 3
   },
   "file_extension": ".py",
   "mimetype": "text/x-python",
   "name": "python",
   "nbconvert_exporter": "python",
   "pygments_lexer": "ipython3",
   "version": "3.8.13"
  },
  "vscode": {
   "interpreter": {
    "hash": "7d773e1285093e5d1efa66e5c257432b552c5ab759d2ddd74cbe595bf26f7542"
   }
  }
 },
 "nbformat": 4,
 "nbformat_minor": 5
}
