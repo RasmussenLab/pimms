{
 "cells": [
  {
   "cell_type": "markdown",
   "id": "671679d5-7063-445a-931f-bfe12fdf35fd",
   "metadata": {},
   "outputs": [],
   "source": [
    "# Collect config of model\n",
    "\n",
    "- dumped arguments of all model runs"
   ]
  },
  {
   "cell_type": "code",
   "execution_count": null,
   "id": "c0616abd",
   "metadata": {},
   "outputs": [],
   "source": [
    "from pathlib import Path\n",
    "import pandas as pd\n",
    "\n",
    "from vaep.logging import setup_nb_logger\n",
    "from vaep.models.collect_dumps import collect_configs\n",
    "\n",
    "pd.options.display.max_columns = 30\n",
    "\n",
    "logger = setup_nb_logger()"
   ]
  },
  {
   "cell_type": "code",
   "execution_count": null,
   "id": "bdb62c98-786b-4bf2-9342-931369a63fc2",
   "metadata": {},
   "outputs": [],
   "source": [
    "snakemake.input[:10]"
   ]
  },
  {
   "cell_type": "code",
   "execution_count": null,
   "id": "3152399a",
   "metadata": {},
   "outputs": [],
   "source": [
    "all_configs = collect_configs(snakemake.input)\n",
    "df_config = pd.DataFrame(all_configs).set_index('id')\n",
    "df_config"
   ]
  },
  {
   "cell_type": "code",
   "execution_count": null,
   "id": "c05b84c4-2be2-4b4a-876d-ddfe3c3a6e8e",
   "metadata": {},
   "outputs": [],
   "source": [
    "fname = Path(snakemake.output.out)\n",
    "fname"
   ]
  },
  {
   "cell_type": "code",
   "execution_count": null,
   "id": "80786ea1-12b1-41b7-bb28-f9df01f2a6c8",
   "metadata": {},
   "outputs": [],
   "source": [
    "df_config.reset_index().to_json()\n",
    "df_config = df_config.set_index('model', append=True)\n",
    "df_config.to_csv(fname.with_suffix('.csv'))\n",
    "df_config"
   ]
  }
 ],
 "metadata": {
  "kernelspec": {
   "display_name": "Python 3",
   "language": "python",
   "name": "python3"
  },
  "language_info": {
   "codemirror_mode": {
    "name": "ipython",
    "version": 3
   },
   "file_extension": ".py",
   "mimetype": "text/x-python",
   "name": "python",
   "nbconvert_exporter": "python",
   "pygments_lexer": "ipython3",
   "version": "3.8.13"
  },
  "vscode": {
   "interpreter": {
    "hash": "7d773e1285093e5d1efa66e5c257432b552c5ab759d2ddd74cbe595bf26f7542"
   }
  }
 },
 "nbformat": 4,
 "nbformat_minor": 5
}
