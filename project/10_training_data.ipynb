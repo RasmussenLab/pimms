{
 "cells": [
  {
   "cell_type": "markdown",
   "metadata": {},
   "source": [
    "# Build a set of training data\n",
    "\n",
    "Use a set of (most) common peptides to create inital data sets"
   ]
  },
  {
   "cell_type": "code",
   "execution_count": null,
   "metadata": {},
   "outputs": [],
   "source": [
    "import random  # shuffle, seed\n",
    "\n",
    "import pandas as pd\n",
    "from tqdm.notebook import tqdm\n",
    "\n",
    "import src.config as config\n",
    "from src.config import FOLDER_PROCESSED\n",
    "from src.data_objects import PeptideCounter"
   ]
  },
  {
   "cell_type": "code",
   "execution_count": null,
   "metadata": {},
   "outputs": [],
   "source": [
    "RANDOM_SEED = 42\n",
    "M = 5_000 # Number of features to select\n",
    "N = 10_000 # Number of max samples"
   ]
  },
  {
   "cell_type": "code",
   "execution_count": null,
   "metadata": {},
   "outputs": [],
   "source": [
    "training_data = [folder for folder in FOLDER_PROCESSED.iterdir() if folder.suffix == '.csv']\n",
    "random.seed(RANDOM_SEED)\n",
    "random.shuffle(training_data)\n",
    "training_data[:10]"
   ]
  },
  {
   "cell_type": "code",
   "execution_count": null,
   "metadata": {},
   "outputs": [],
   "source": [
    "peptide_counter = PeptideCounter()\n",
    "selected_peptides = peptide_counter.counter.most_common(M)\n",
    "selected_peptides[:10]"
   ]
  },
  {
   "cell_type": "code",
   "execution_count": null,
   "metadata": {},
   "outputs": [],
   "source": [
    "selected_peptides = {k: v for k, v in selected_peptides}"
   ]
  },
  {
   "cell_type": "code",
   "execution_count": null,
   "metadata": {},
   "outputs": [],
   "source": [
    "from pathlib import Path\n",
    "\n",
    "d_dtypes_training_sample = {\n",
    "    #     'Sequence': pd.StringDtype(),\n",
    "    'Proteins': pd.StringDtype(),\n",
    "    'Leading razor protein': pd.StringDtype(),\n",
    "    'Gene names': pd.StringDtype(),\n",
    "    'Intensity': pd.Int64Dtype()\n",
    "}\n",
    "\n",
    "\n",
    "def load_training_sample(fpath):\n",
    "    fpath = Path(fpath)\n",
    "    peptides = pd.read_csv(fpath, index_col=0, dtype=d_dtypes_training_sample)\n",
    "    return peptides\n",
    "\n",
    "# peptides = load_training_sample(training_data[0])"
   ]
  },
  {
   "cell_type": "code",
   "execution_count": null,
   "metadata": {},
   "outputs": [],
   "source": [
    "%%time\n",
    "N = min(len(training_data), N)\n",
    "\n",
    "data_intensity = {}\n",
    "data_genes = {}\n",
    "support = {}\n",
    "# again with multiprocessing? await functions?\n",
    "for fp_training_sample in tqdm(training_data[:N]):\n",
    "    sample_name = fp_training_sample.stem\n",
    "    peptides = load_training_sample(fp_training_sample)\n",
    "    sequences_available = peptides.index.intersection(selected_peptides.keys())\n",
    "    support[sample_name] = len(sequences_available)\n",
    "    data_intensity[sample_name] = peptides.loc[sequences_available,\n",
    "                                               'Intensity'].to_dict()\n",
    "    data_genes[sample_name] = peptides.loc[sequences_available,\n",
    "                                           'Gene names'].to_dict()"
   ]
  },
  {
   "cell_type": "code",
   "execution_count": null,
   "metadata": {},
   "outputs": [],
   "source": [
    "df_intensities = pd.DataFrame.from_dict(data_intensity).T\n",
    "df_intensities.sort_index(inplace=True)\n",
    "df_intensities.to_csv(config.FOLDER_DATA /\n",
    "                      config.build_df_fname(df_intensities, 'df_intensities'))\n",
    "df_intensities"
   ]
  },
  {
   "cell_type": "code",
   "execution_count": null,
   "metadata": {},
   "outputs": [],
   "source": [
    "df_genes = pd.DataFrame.from_dict(data_genes).T\n",
    "df_genes.to_csv(config.FOLDER_DATA / \n",
    "                config.build_df_fname(df_genes, 'df_genes'))\n",
    "df_genes"
   ]
  }
 ],
 "metadata": {
  "kernelspec": {
   "display_name": "Python 3",
   "language": "python",
   "name": "python3"
  },
  "language_info": {
   "codemirror_mode": {
    "name": "ipython",
    "version": 3
   },
   "file_extension": ".py",
   "mimetype": "text/x-python",
   "name": "python",
   "nbconvert_exporter": "python",
   "pygments_lexer": "ipython3",
   "version": "3.7.6"
  }
 },
 "nbformat": 4,
 "nbformat_minor": 4
}
