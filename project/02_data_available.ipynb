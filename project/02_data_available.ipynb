{
 "cells": [
  {
   "cell_type": "code",
   "execution_count": 1,
   "id": "a1cac16d-ce04-4573-b98b-ac87f1abdf4c",
   "metadata": {},
   "outputs": [
    {
     "name": "stdout",
     "output_type": "stream",
     "text": [
      "FOLDER_MQ_TXT_DATA = data\\mq_out\n"
     ]
    },
    {
     "data": {
      "text/plain": [
       "(WindowsPath('data/processed/count_all_peptides.json'),\n",
       " WindowsPath('data/processed/count_all_evidences.json'),\n",
       " WindowsPath('data/processed/count_all_protein_groups.json'),\n",
       " WindowsPath('data/processed/count_all_genes.json'))"
      ]
     },
     "execution_count": 1,
     "metadata": {},
     "output_type": "execute_result"
    }
   ],
   "source": [
    "import matplotlib\n",
    "import matplotlib.pyplot as plt\n",
    "import numpy as np\n",
    "import pandas as pd\n",
    "\n",
    "import vaep\n",
    "from vaep.io import data_objects\n",
    "\n",
    "from src.config import FNAME_C_PEPTIDES, FNAME_C_EVIDENCE, FNAME_C_PG, FNAME_C_GENES\n",
    "\n",
    "FNAME_C_PEPTIDES, FNAME_C_EVIDENCE, FNAME_C_PG, FNAME_C_GENES"
   ]
  },
  {
   "cell_type": "markdown",
   "id": "1a3645b4",
   "metadata": {},
   "source": [
    "## Aggregated Peptides"
   ]
  },
  {
   "cell_type": "code",
   "execution_count": 2,
   "id": "81592213",
   "metadata": {},
   "outputs": [],
   "source": [
    "peptide_counter = data_objects.PeptideCounter(FNAME_C_PEPTIDES)\n",
    "N_SAMPLES = len(peptide_counter.loaded)"
   ]
  },
  {
   "cell_type": "code",
   "execution_count": 3,
   "id": "c3532c20",
   "metadata": {},
   "outputs": [
    {
     "data": {
      "text/plain": [
       "PeptideCounter(fp_counter=data\\processed\\count_all_peptides.json)"
      ]
     },
     "execution_count": 3,
     "metadata": {},
     "output_type": "execute_result"
    }
   ],
   "source": [
    "peptide_counter"
   ]
  },
  {
   "cell_type": "code",
   "execution_count": 4,
   "id": "cecb0d20",
   "metadata": {},
   "outputs": [
    {
     "data": {
      "text/html": [
       "<div>\n",
       "<style scoped>\n",
       "    .dataframe tbody tr th:only-of-type {\n",
       "        vertical-align: middle;\n",
       "    }\n",
       "\n",
       "    .dataframe tbody tr th {\n",
       "        vertical-align: top;\n",
       "    }\n",
       "\n",
       "    .dataframe thead th {\n",
       "        text-align: right;\n",
       "    }\n",
       "</style>\n",
       "<table border=\"1\" class=\"dataframe\">\n",
       "  <thead>\n",
       "    <tr style=\"text-align: right;\">\n",
       "      <th></th>\n",
       "      <th>Sequence</th>\n",
       "      <th>counts</th>\n",
       "      <th>proportion</th>\n",
       "    </tr>\n",
       "    <tr>\n",
       "      <th>consecutive count</th>\n",
       "      <th></th>\n",
       "      <th></th>\n",
       "      <th></th>\n",
       "    </tr>\n",
       "  </thead>\n",
       "  <tbody>\n",
       "    <tr>\n",
       "      <th>0</th>\n",
       "      <td>YVELFLNSTAGASGGAYEHR</td>\n",
       "      <td>6</td>\n",
       "      <td>1.000</td>\n",
       "    </tr>\n",
       "    <tr>\n",
       "      <th>1</th>\n",
       "      <td>LIEECISQIVLHK</td>\n",
       "      <td>6</td>\n",
       "      <td>1.000</td>\n",
       "    </tr>\n",
       "    <tr>\n",
       "      <th>2</th>\n",
       "      <td>LCWFLDEAAAR</td>\n",
       "      <td>6</td>\n",
       "      <td>1.000</td>\n",
       "    </tr>\n",
       "    <tr>\n",
       "      <th>3</th>\n",
       "      <td>LCVQNSPQEAR</td>\n",
       "      <td>6</td>\n",
       "      <td>1.000</td>\n",
       "    </tr>\n",
       "    <tr>\n",
       "      <th>4</th>\n",
       "      <td>LCVPAMNVNDSVTK</td>\n",
       "      <td>6</td>\n",
       "      <td>1.000</td>\n",
       "    </tr>\n",
       "  </tbody>\n",
       "</table>\n",
       "</div>"
      ],
      "text/plain": [
       "                               Sequence  counts  proportion\n",
       "consecutive count                                          \n",
       "0                  YVELFLNSTAGASGGAYEHR       6       1.000\n",
       "1                         LIEECISQIVLHK       6       1.000\n",
       "2                           LCWFLDEAAAR       6       1.000\n",
       "3                           LCVQNSPQEAR       6       1.000\n",
       "4                        LCVPAMNVNDSVTK       6       1.000"
      ]
     },
     "execution_count": 4,
     "metadata": {},
     "output_type": "execute_result"
    }
   ],
   "source": [
    "peptide_counts = peptide_counter.get_df_counts()\n",
    "# peptide_counts.index += 1 \n",
    "peptide_counts.head()"
   ]
  },
  {
   "cell_type": "code",
   "execution_count": 5,
   "id": "c439cd61",
   "metadata": {},
   "outputs": [
    {
     "data": {
      "text/plain": [
       "'consecutive count'"
      ]
     },
     "execution_count": 5,
     "metadata": {},
     "output_type": "execute_result"
    }
   ],
   "source": [
    "peptide_counts.index.name"
   ]
  },
  {
   "cell_type": "code",
   "execution_count": 6,
   "id": "dec794c3-5b0f-481a-a14f-e84c231c6365",
   "metadata": {},
   "outputs": [
    {
     "data": {
      "text/html": [
       "<div>\n",
       "<style scoped>\n",
       "    .dataframe tbody tr th:only-of-type {\n",
       "        vertical-align: middle;\n",
       "    }\n",
       "\n",
       "    .dataframe tbody tr th {\n",
       "        vertical-align: top;\n",
       "    }\n",
       "\n",
       "    .dataframe thead th {\n",
       "        text-align: right;\n",
       "    }\n",
       "</style>\n",
       "<table border=\"1\" class=\"dataframe\">\n",
       "  <thead>\n",
       "    <tr style=\"text-align: right;\">\n",
       "      <th></th>\n",
       "      <th>counts</th>\n",
       "      <th>proportion</th>\n",
       "    </tr>\n",
       "  </thead>\n",
       "  <tbody>\n",
       "    <tr>\n",
       "      <th>count</th>\n",
       "      <td>78,073.000</td>\n",
       "      <td>78,073.000</td>\n",
       "    </tr>\n",
       "    <tr>\n",
       "      <th>mean</th>\n",
       "      <td>2.745</td>\n",
       "      <td>0.457</td>\n",
       "    </tr>\n",
       "    <tr>\n",
       "      <th>std</th>\n",
       "      <td>1.640</td>\n",
       "      <td>0.273</td>\n",
       "    </tr>\n",
       "    <tr>\n",
       "      <th>min</th>\n",
       "      <td>1.000</td>\n",
       "      <td>0.167</td>\n",
       "    </tr>\n",
       "    <tr>\n",
       "      <th>10%</th>\n",
       "      <td>1.000</td>\n",
       "      <td>0.167</td>\n",
       "    </tr>\n",
       "    <tr>\n",
       "      <th>20%</th>\n",
       "      <td>1.000</td>\n",
       "      <td>0.167</td>\n",
       "    </tr>\n",
       "    <tr>\n",
       "      <th>30%</th>\n",
       "      <td>1.000</td>\n",
       "      <td>0.167</td>\n",
       "    </tr>\n",
       "    <tr>\n",
       "      <th>40%</th>\n",
       "      <td>2.000</td>\n",
       "      <td>0.333</td>\n",
       "    </tr>\n",
       "    <tr>\n",
       "      <th>50%</th>\n",
       "      <td>2.000</td>\n",
       "      <td>0.333</td>\n",
       "    </tr>\n",
       "    <tr>\n",
       "      <th>60%</th>\n",
       "      <td>3.000</td>\n",
       "      <td>0.500</td>\n",
       "    </tr>\n",
       "    <tr>\n",
       "      <th>70%</th>\n",
       "      <td>4.000</td>\n",
       "      <td>0.667</td>\n",
       "    </tr>\n",
       "    <tr>\n",
       "      <th>80%</th>\n",
       "      <td>4.000</td>\n",
       "      <td>0.667</td>\n",
       "    </tr>\n",
       "    <tr>\n",
       "      <th>90%</th>\n",
       "      <td>5.000</td>\n",
       "      <td>0.833</td>\n",
       "    </tr>\n",
       "    <tr>\n",
       "      <th>100%</th>\n",
       "      <td>6.000</td>\n",
       "      <td>1.000</td>\n",
       "    </tr>\n",
       "    <tr>\n",
       "      <th>max</th>\n",
       "      <td>6.000</td>\n",
       "      <td>1.000</td>\n",
       "    </tr>\n",
       "  </tbody>\n",
       "</table>\n",
       "</div>"
      ],
      "text/plain": [
       "          counts  proportion\n",
       "count 78,073.000  78,073.000\n",
       "mean       2.745       0.457\n",
       "std        1.640       0.273\n",
       "min        1.000       0.167\n",
       "10%        1.000       0.167\n",
       "20%        1.000       0.167\n",
       "30%        1.000       0.167\n",
       "40%        2.000       0.333\n",
       "50%        2.000       0.333\n",
       "60%        3.000       0.500\n",
       "70%        4.000       0.667\n",
       "80%        4.000       0.667\n",
       "90%        5.000       0.833\n",
       "100%       6.000       1.000\n",
       "max        6.000       1.000"
      ]
     },
     "execution_count": 6,
     "metadata": {},
     "output_type": "execute_result"
    }
   ],
   "source": [
    "peptide_counts.describe(percentiles=np.linspace(0.1,1,10))"
   ]
  },
  {
   "cell_type": "code",
   "execution_count": 7,
   "id": "fc5d608f-4969-4964-b03f-923d706a5b33",
   "metadata": {},
   "outputs": [
    {
     "data": {
      "image/png": "[encoded data removed]",
      "text/plain": [
       "<Figure size 1080x720 with 2 Axes>"
      ]
     },
     "metadata": {
      "needs_background": "light"
     },
     "output_type": "display_data"
    }
   ],
   "source": [
    "def plot_feat_counts(df_counts, feat_name, n_samples,\n",
    "                     ax=None, figsize=(15, 10),\n",
    "                     count_col='counts'):\n",
    "\n",
    "    ax = df_counts[count_col].plot(\n",
    "        figsize=figsize,\n",
    "        ylabel='counts',\n",
    "        xlabel=f'{feat_name} count ordered by completeness',\n",
    "        title=f'Count and proportion of {len(df_counts):,d} {feat_name}s over {n_samples:,d} samples',\n",
    "        grid=True,\n",
    "        ax=ax)\n",
    "\n",
    "    # default nearly okay, but rather customize to see minimal and maxium proportion\n",
    "    # ax = df_counts['proportion'].plot(secondary_y=True, style='b')\n",
    "\n",
    "    ax2 = vaep.plotting.add_prop_as_second_yaxis(ax=ax, n_samples=n_samples)\n",
    "    ax2.set_ylabel('proportion')\n",
    "    ax = vaep.plotting.format_large_numbers(ax=ax)\n",
    "    return ax\n",
    "\n",
    "\n",
    "ax = plot_feat_counts(\n",
    "    peptide_counts, feat_name='aggregated peptide', n_samples=N_SAMPLES)\n"
   ]
  },
  {
   "cell_type": "markdown",
   "id": "6d75c390",
   "metadata": {},
   "source": [
    "## Evidence - Peptides by charge and modifications\n",
    "\n"
   ]
  },
  {
   "cell_type": "code",
   "execution_count": null,
   "id": "2edab869",
   "metadata": {},
   "outputs": [],
   "source": [
    "evidence_counter = data_objects.EvidenceCounter(FNAME_C_EVIDENCE)\n",
    "evidence_count = evidence_counter.get_df_counts()\n",
    "evidence_count.head()"
   ]
  },
  {
   "cell_type": "markdown",
   "id": "8a9f11bd",
   "metadata": {},
   "source": []
  },
  {
   "cell_type": "markdown",
   "id": "9a980a8e",
   "metadata": {},
   "source": [
    "## Protein Groups"
   ]
  },
  {
   "cell_type": "code",
   "execution_count": null,
   "id": "85264cf5",
   "metadata": {},
   "outputs": [],
   "source": [
    "pg_counter = data_objects.ProteinGroupsCounter(FNAME_C_PG)\n",
    "pg_count = pg_counter.get_df_counts()\n",
    "pg_count.head()"
   ]
  },
  {
   "cell_type": "markdown",
   "id": "cf95d49f",
   "metadata": {},
   "source": [
    "## Genes"
   ]
  },
  {
   "cell_type": "code",
   "execution_count": null,
   "id": "30623792",
   "metadata": {},
   "outputs": [],
   "source": [
    "gene_counter = data_objects.GeneCounter(FNAME_C_GENES)\n",
    "gene_count = gene_counter.get_df_counts()\n",
    "gene_count.head() # remove NaN entry\n"
   ]
  },
  {
   "cell_type": "code",
   "execution_count": null,
   "id": "18f788c4",
   "metadata": {},
   "outputs": [],
   "source": [
    "gene_count = gene_count.iloc[1:]\n",
    "gene_count.head() "
   ]
  }
 ],
 "metadata": {
  "kernelspec": {
   "display_name": "vaep",
   "language": "python",
   "name": "vaep"
  },
  "language_info": {
   "codemirror_mode": {
    "name": "ipython",
    "version": 3
   },
   "file_extension": ".py",
   "mimetype": "text/x-python",
   "name": "python",
   "nbconvert_exporter": "python",
   "pygments_lexer": "ipython3",
   "version": "3.8.12"
  }
 },
 "nbformat": 4,
 "nbformat_minor": 5
}
