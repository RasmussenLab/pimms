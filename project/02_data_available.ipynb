{
 "cells": [
  {
   "cell_type": "code",
   "execution_count": null,
   "id": "a1cac16d-ce04-4573-b98b-ac87f1abdf4c",
   "metadata": {},
   "outputs": [],
   "source": [
    "import logging\n",
    "import matplotlib\n",
    "import matplotlib.pyplot as plt\n",
    "import numpy as np\n",
    "import pandas as pd\n",
    "\n",
    "import vaep\n",
    "from vaep.io import data_objects\n",
    "from vaep.logging import setup_nb_logger\n",
    "setup_nb_logger(level=logging.INFO)\n",
    "\n",
    "from config import FNAME_C_PEPTIDES, FNAME_C_EVIDENCE, FNAME_C_PG, FNAME_C_GENES\n",
    "\n",
    "FNAME_C_PEPTIDES, FNAME_C_EVIDENCE, FNAME_C_PG, FNAME_C_GENES"
   ]
  },
  {
   "cell_type": "markdown",
   "id": "1a3645b4",
   "metadata": {},
   "source": [
    "## Aggregated Peptides"
   ]
  },
  {
   "cell_type": "code",
   "execution_count": null,
   "id": "81592213",
   "metadata": {},
   "outputs": [],
   "source": [
    "peptide_counter = data_objects.PeptideCounter(FNAME_C_PEPTIDES)\n",
    "N_SAMPLES = len(peptide_counter.loaded)"
   ]
  },
  {
   "cell_type": "code",
   "execution_count": null,
   "id": "c3532c20",
   "metadata": {},
   "outputs": [],
   "source": [
    "peptide_counter"
   ]
  },
  {
   "cell_type": "code",
   "execution_count": null,
   "id": "cecb0d20",
   "metadata": {},
   "outputs": [],
   "source": [
    "peptide_counts = peptide_counter.get_df_counts()\n",
    "# peptide_counts.index += 1 \n",
    "peptide_counts.head()"
   ]
  },
  {
   "cell_type": "code",
   "execution_count": null,
   "id": "dec794c3-5b0f-481a-a14f-e84c231c6365",
   "metadata": {},
   "outputs": [],
   "source": [
    "peptide_counts.describe(percentiles=np.linspace(0.1,1,10))"
   ]
  },
  {
   "cell_type": "code",
   "execution_count": null,
   "id": "fc5d608f-4969-4964-b03f-923d706a5b33",
   "metadata": {},
   "outputs": [],
   "source": [
    "vaep.plotting.make_large_descriptors()\n",
    "ax = peptide_counter.plot_counts()"
   ]
  },
  {
   "cell_type": "markdown",
   "id": "6d75c390",
   "metadata": {},
   "source": [
    "## Evidence - Peptides by charge and modifications\n",
    "\n"
   ]
  },
  {
   "cell_type": "code",
   "execution_count": null,
   "id": "2edab869",
   "metadata": {},
   "outputs": [],
   "source": [
    "evidence_counter = data_objects.EvidenceCounter(FNAME_C_EVIDENCE)\n",
    "evidence_count = evidence_counter.get_df_counts()\n",
    "evidence_count.head()"
   ]
  },
  {
   "cell_type": "code",
   "execution_count": null,
   "id": "8a9f11bd",
   "metadata": {},
   "outputs": [],
   "source": [
    "ax = evidence_counter.plot_counts()"
   ]
  },
  {
   "cell_type": "markdown",
   "id": "9a980a8e",
   "metadata": {},
   "source": [
    "## Protein Groups"
   ]
  },
  {
   "cell_type": "code",
   "execution_count": null,
   "id": "85264cf5",
   "metadata": {},
   "outputs": [],
   "source": [
    "pg_counter = data_objects.ProteinGroupsCounter(FNAME_C_PG)\n",
    "pg_count = pg_counter.get_df_counts()\n",
    "pg_count.head()"
   ]
  },
  {
   "cell_type": "code",
   "execution_count": null,
   "id": "6d060cd5",
   "metadata": {},
   "outputs": [],
   "source": [
    "ax = pg_counter.plot_counts()"
   ]
  },
  {
   "cell_type": "markdown",
   "id": "cf95d49f",
   "metadata": {},
   "source": [
    "## Genes"
   ]
  },
  {
   "cell_type": "code",
   "execution_count": null,
   "id": "30623792",
   "metadata": {},
   "outputs": [],
   "source": [
    "gene_counter = data_objects.GeneCounter(FNAME_C_GENES)\n",
    "gene_count = gene_counter.get_df_counts()\n",
    "gene_count.head() # remove NaN entry\n"
   ]
  },
  {
   "cell_type": "code",
   "execution_count": null,
   "id": "18f788c4",
   "metadata": {},
   "outputs": [],
   "source": [
    "gene_count = gene_count.iloc[1:]\n",
    "gene_count.head() "
   ]
  },
  {
   "cell_type": "code",
   "execution_count": null,
   "id": "805a3ccc",
   "metadata": {},
   "outputs": [],
   "source": [
    "ax = gene_counter.plot_counts(df_counts=gene_count) # provide manuelly manipulated gene counts"
   ]
  }
 ],
 "metadata": {
  "kernelspec": {
   "display_name": "vaep",
   "language": "python",
   "name": "vaep"
  },
  "language_info": {
   "codemirror_mode": {
    "name": "ipython",
    "version": 3
   },
   "file_extension": ".py",
   "mimetype": "text/x-python",
   "name": "python",
   "nbconvert_exporter": "python",
   "pygments_lexer": "ipython3",
   "version": "3.8.12"
  }
 },
 "nbformat": 4,
 "nbformat_minor": 5
}
