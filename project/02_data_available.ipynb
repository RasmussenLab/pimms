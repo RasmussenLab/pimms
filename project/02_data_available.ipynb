{
 "cells": [
  {
   "cell_type": "code",
   "execution_count": null,
   "id": "a1cac16d-ce04-4573-b98b-ac87f1abdf4c",
   "metadata": {},
   "outputs": [],
   "source": [
    "import matplotlib\n",
    "import matplotlib.pyplot as plt\n",
    "import numpy as np\n",
    "import pandas as pd\n",
    "\n",
    "import vaep\n",
    "from vaep.io.data_objects import PeptideCounter\n",
    "\n",
    "peptide_counter = PeptideCounter('data/processed/count_all_peptides.json')\n",
    "\n",
    "N_SAMPLES = len(peptide_counter.loaded)"
   ]
  },
  {
   "cell_type": "code",
   "execution_count": null,
   "id": "bb529fd6-6e1c-49b2-9cb5-6a9341617708",
   "metadata": {},
   "outputs": [],
   "source": [
    "peptide_counts = pd.Series(peptide_counter.counter).sort_values(ascending=False).to_frame('counts')\n",
    "peptide_counts['proportion'] = peptide_counts / N_SAMPLES\n",
    "peptide_counts.reset_index(inplace=True)\n",
    "peptide_counts.index.name = 'consecutive count'\n",
    "peptide_counts.reset_index(inplace=True)\n",
    "peptide_counts"
   ]
  },
  {
   "cell_type": "code",
   "execution_count": null,
   "id": "dec794c3-5b0f-481a-a14f-e84c231c6365",
   "metadata": {},
   "outputs": [],
   "source": [
    "peptide_counts.describe()"
   ]
  },
  {
   "cell_type": "code",
   "execution_count": null,
   "id": "d3f97743-f769-45e0-ab63-19aeb53cc3b0",
   "metadata": {},
   "outputs": [],
   "source": [
    "peptide_counts.head()"
   ]
  },
  {
   "cell_type": "code",
   "execution_count": null,
   "id": "fc5d608f-4969-4964-b03f-923d706a5b33",
   "metadata": {},
   "outputs": [],
   "source": [
    "ax = peptide_counts['counts'].plot(\n",
    "    figsize=(15, 10),\n",
    "    ylabel='counts',\n",
    "    xlabel='peptide count ordered by completeness',\n",
    "    title='Count and proportion of ~half a million peptides over sample.',\n",
    "    grid=True)\n",
    "\n",
    "# default nearly okay, but rather customize to see minimal and maxium proportion\n",
    "# ax = peptide_counts['proportion'].plot(secondary_y=True, style='b')\n",
    "\n",
    "ax2 = vaep.plotting.add_prop_as_second_yaxis(ax=ax, n_samples=N_SAMPLES)\n",
    "ax2.set_ylabel('proportion')\n",
    "ax = vaep.plotting.format_large_numbers(ax=ax)\n"
   ]
  }
 ],
 "metadata": {
  "kernelspec": {
   "display_name": "vaep",
   "language": "python",
   "name": "vaep"
  },
  "language_info": {
   "codemirror_mode": {
    "name": "ipython",
    "version": 3
   },
   "file_extension": ".py",
   "mimetype": "text/x-python",
   "name": "python",
   "nbconvert_exporter": "python",
   "pygments_lexer": "ipython3",
   "version": "3.8.12"
  }
 },
 "nbformat": 4,
 "nbformat_minor": 5
}
