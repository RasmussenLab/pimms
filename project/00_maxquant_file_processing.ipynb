{
 "cells": [
  {
   "cell_type": "markdown",
   "metadata": {
    "Collapsed": "false"
   },
   "source": [
    "# MaxQuant (MQ) Output-Files\n",
    "\n",
    "Files compared:\n",
    "1. `Summary.txt`\n",
    "2. `mqpar.xml`\n",
    "3. `peptides.txt`\n",
    "4. `proteins.txt`\n",
    "\n",
    "There is are many files more, where several files seem to be available in several times in different formats."
   ]
  },
  {
   "cell_type": "code",
   "execution_count": null,
   "metadata": {},
   "outputs": [],
   "source": [
    "# # easiest way to add custom packages on erda.dk\n",
    "# import sys\n",
    "# sys.path.append('/home/jovyan/work/vaep/')"
   ]
  },
  {
   "cell_type": "code",
   "execution_count": null,
   "metadata": {
    "Collapsed": "false"
   },
   "outputs": [],
   "source": [
    "import os\n",
    "from pathlib import Path\n",
    "import random\n",
    "\n",
    "import pandas as pd\n",
    "import ipywidgets as widgets\n",
    "\n",
    "from vaep.io import search_files, search_subfolders, PathsList, dump_json\n",
    "from vaep.io.mq import MaxQuantOutputDynamic\n",
    "from vaep.io.mq import ExtractFromPeptidesTxt, MaxQuantOutputDynamic\n",
    "import vaep.io.mq as mq\n",
    "\n",
    "import src\n",
    "import src.file_utils as file_io\n",
    "from src.file_utils import check_for_key\n",
    "from src.file_utils import process_files\n",
    "from src.file_utils import load_summary, load_mqpar_xml\n",
    "\n",
    "##################\n",
    "##### CONFIG #####\n",
    "##################\n",
    "from config import FOLDER_MQ_TXT_DATA, FOLDER_PROCESSED\n",
    "from config import FOLDER_KEY  # defines how filenames are parsed for use as indices\n",
    "\n",
    "from config import FOLDER_DATA # project folder for storing the data\n",
    "print(f\"Search Raw-Files on path: {FOLDER_MQ_TXT_DATA}\")"
   ]
  },
  {
   "cell_type": "code",
   "execution_count": null,
   "metadata": {},
   "outputs": [],
   "source": [
    "import logging\n",
    "from datetime import datetime\n",
    "\n",
    "#Delete Jupyter notebook root logger handler\n",
    "logger = logging.getLogger()\n",
    "# logger.setLevel(logging.ERROR)\n",
    "logger.handlers = []\n",
    "\n",
    "# logger = logging.getLogger(mq_output.folder.stem)\n",
    "logger = logging.getLogger('vaep')\n",
    "logger.setLevel(logging.INFO)\n",
    "\n",
    "c_handler = logging.StreamHandler()\n",
    "c_handler.setLevel(logging.INFO)\n",
    "\n",
    "date_log_file = \"{:%y%m%d_%H%M}\".format(datetime.now())\n",
    "f_handler = logging.FileHandler(f\"log_01_maxquant_file_processing_{date_log_file}.txt\")\n",
    "f_handler.setLevel(logging.INFO)\n",
    "\n",
    "c_format = logging.Formatter(\n",
    "    f'%(name)s - %(levelname)-8s %(message)s ')\n",
    "\n",
    "c_handler.setFormatter(c_format)\n",
    "f_handler.setFormatter(c_format)\n",
    "\n",
    "logger.handlers = []  #remove any handler in case you reexecute the cell\n",
    "logger.addHandler(c_handler)\n",
    "logger.addHandler(f_handler)"
   ]
  },
  {
   "cell_type": "code",
   "execution_count": null,
   "metadata": {},
   "outputs": [],
   "source": [
    "folders_mq_txt_data = Path(FOLDER_MQ_TXT_DATA)"
   ]
  },
  {
   "cell_type": "code",
   "execution_count": null,
   "metadata": {
    "Collapsed": "false"
   },
   "outputs": [],
   "source": [
    "folders = [folder for folder in  Path(FOLDER_MQ_TXT_DATA).iterdir()]\n",
    "w_file = widgets.Dropdown(options=[folder for folder in folders], description='View files')\n",
    "w_file"
   ]
  },
  {
   "cell_type": "code",
   "execution_count": null,
   "metadata": {},
   "outputs": [],
   "source": [
    "mq_output = MaxQuantOutputDynamic(w_file.value)\n",
    "mq_output"
   ]
  },
  {
   "cell_type": "code",
   "execution_count": null,
   "metadata": {},
   "outputs": [],
   "source": [
    "print(f\"Results will be saved in subfolders in\\n\\t{str(FOLDER_PROCESSED.absolute())}\"\n",
    "      \"\\nusing the name of the specified input-folder per default. Change to your liking.\")\n",
    "# FOLDER_PROCESSED = Path('')"
   ]
  },
  {
   "cell_type": "markdown",
   "metadata": {},
   "source": [
    "> Go to the block you are interested in!"
   ]
  },
  {
   "cell_type": "code",
   "execution_count": null,
   "metadata": {},
   "outputs": [],
   "source": [
    "mq_output.folder.stem"
   ]
  },
  {
   "cell_type": "markdown",
   "metadata": {
    "Collapsed": "false"
   },
   "source": [
    "### Summaries Data"
   ]
  },
  {
   "cell_type": "code",
   "execution_count": null,
   "metadata": {},
   "outputs": [],
   "source": [
    "fp_summaries = Path(FOLDER_PROCESSED) / 'all_summaries.json'\n",
    "if fp_summaries.exists():\n",
    "    df_summaries = pd.read_json(fp_summaries, orient='index')\n",
    "    display(df_summaries.head())\n",
    "    d_summaries = df_summaries.to_dict(orient='index')\n",
    "else:\n",
    "    d_summaries = {}\n",
    "print(f\"Use {len(d_summaries)} previously loaded files.\")"
   ]
  },
  {
   "cell_type": "code",
   "execution_count": null,
   "metadata": {
    "Collapsed": "false"
   },
   "outputs": [],
   "source": [
    "empty_folders = []\n",
    "i = len(d_summaries)\n",
    "N_MAX = 5000\n",
    "\n",
    "for folder in folders:\n",
    "    try:\n",
    "        folder_name = folder.stem\n",
    "        if not folder_name  in d_summaries:\n",
    "            mq_output = MaxQuantOutputDynamic(folder)\n",
    "            d_summaries[folder_name] = mq_output.summary.iloc[0].to_dict()\n",
    "            i += 1\n",
    "            if i % 50 == 0:\n",
    "                logger.info(f'Processed: {len(d_summaries):5}')\n",
    "            if i > N_MAX:\n",
    "                break\n",
    "    except FileNotFoundError as e:\n",
    "        if not mq_output.files and len(list(mq_output.folder.iterdir())) == 0 :\n",
    "            mq_output.folder.rmdir()\n",
    "            logger.warning(f'Remove empty folder: {mq_output}')\n",
    "            folders.remove(folder)\n",
    "            empty_folders.append(f\"{folder_name}\\n\")\n",
    "        else:\n",
    "            logger.error(f\"{mq_output}, No summary and not empty.\")\n",
    "\n",
    "if empty_folders:\n",
    "    print(empty_folders)\n",
    "    with open('log_empty_folder.txt', 'a') as f:\n",
    "        f.writelines(empty_folders)\n",
    "print(f\"In total processed: {len(d_summaries):5}\")"
   ]
  },
  {
   "cell_type": "code",
   "execution_count": null,
   "metadata": {
    "Collapsed": "false"
   },
   "outputs": [],
   "source": [
    "df = pd.DataFrame.from_dict(d_summaries, orient='index')\n",
    "pd.options.display.max_columns = len(df.columns)"
   ]
  },
  {
   "cell_type": "code",
   "execution_count": null,
   "metadata": {},
   "outputs": [],
   "source": [
    "df = df.convert_dtypes()\n",
    "l_string_columns = df.columns[df.dtypes == 'string']\n",
    "df[l_string_columns] = df[l_string_columns].astype('category')\n",
    "df.info()"
   ]
  },
  {
   "cell_type": "code",
   "execution_count": null,
   "metadata": {},
   "outputs": [],
   "source": [
    "df.to_json(fp_summaries, orient='index')\n",
    "df.to_pickle(fp_summaries.parent / f\"{fp_summaries.stem}.pkl\")"
   ]
  },
  {
   "cell_type": "markdown",
   "metadata": {},
   "source": [
    "- SIL - MS2 based on precursor which was a set of peaks\n",
    "- PEAK - MS2 scan based on a single peak on precursor spectrum\n",
    "- ISO - isotopic pattern detection\n"
   ]
  },
  {
   "cell_type": "code",
   "execution_count": null,
   "metadata": {},
   "outputs": [],
   "source": [
    "class col_summary:\n",
    "    MS = 'MS'\n",
    "    MS2 =  'MS/MS Identified'\n",
    "\n",
    "if 'df' in globals():\n",
    "    MS_spectra = df[[col_summary.MS, col_summary.MS2]]\n",
    "    def compute_summary(threshold_ms2_identified):\n",
    "        mask  = MS_spectra[col_summary.MS2] > threshold_ms2_identified\n",
    "        display(MS_spectra.loc[mask].describe())\n",
    "    \n",
    "    w_ions_range = widgets.IntSlider(value=0.0, min=.0, max=df[col_summary.MS2].max())\n",
    "    display(widgets.interactive(compute_summary, threshold_ms2_identified=w_ions_range))"
   ]
  },
  {
   "cell_type": "markdown",
   "metadata": {
    "Collapsed": "false"
   },
   "source": [
    "## MaxQuant Parameter File"
   ]
  },
  {
   "cell_type": "code",
   "execution_count": null,
   "metadata": {
    "Collapsed": "false"
   },
   "outputs": [],
   "source": [
    "# paths_parameters = PathsList(files=[file for file in all_files.files if '.xml' in file], folder=all_files.folder)\n",
    "# w_file = widgets.Dropdown(options=paths_parameters.files, description='Select a file')\n",
    "# w_file"
   ]
  },
  {
   "cell_type": "markdown",
   "metadata": {
    "Collapsed": "false"
   },
   "source": [
    "### Parameter Files"
   ]
  },
  {
   "cell_type": "code",
   "execution_count": null,
   "metadata": {
    "Collapsed": "false"
   },
   "outputs": [],
   "source": [
    "# load_mqpar_xml??"
   ]
  },
  {
   "cell_type": "code",
   "execution_count": null,
   "metadata": {
    "Collapsed": "false"
   },
   "outputs": [],
   "source": [
    "# fname_mqpar_xml = os.path.join(FOLDER_PROCESSED, 'peptide_intensities.{}')\n",
    "\n",
    "# if paths_parameters.files:\n",
    "#     df, col_names, failed = process_files(handler_fct=load_mqpar_xml, filepaths=paths_parameters.files, key=FOLDER_KEY, relative_to=paths_parameters.folder) \n",
    "#     df.columns = col_names\n",
    "#     print(f\"Number of failed reads: {len(failed)}\")\n",
    "#     pd.set_option('max_rows', 160)\n",
    "#     display(df)\n",
    "#     df.to_pickle(fname_mqpar_xml.format(\"pkl\"))"
   ]
  },
  {
   "cell_type": "code",
   "execution_count": null,
   "metadata": {},
   "outputs": [],
   "source": [
    "# del df"
   ]
  },
  {
   "cell_type": "markdown",
   "metadata": {
    "Collapsed": "false"
   },
   "source": [
    "## Peptides"
   ]
  },
  {
   "cell_type": "code",
   "execution_count": null,
   "metadata": {
    "Collapsed": "false"
   },
   "outputs": [],
   "source": [
    "pd.set_option('max_columns', 60)\n",
    "\n",
    "mq_output.peptides"
   ]
  },
  {
   "cell_type": "code",
   "execution_count": null,
   "metadata": {},
   "outputs": [],
   "source": [
    "mq_output.peptides.Intensity # as is in peptides.txt, comma seperated thousands"
   ]
  },
  {
   "cell_type": "markdown",
   "metadata": {
    "Collapsed": "false"
   },
   "source": [
    "### Create peptide intensity dumps for each MQ outputfolder\n",
    "\n",
    "All folders are stored in a list"
   ]
  },
  {
   "cell_type": "code",
   "execution_count": null,
   "metadata": {},
   "outputs": [],
   "source": [
    "folders[:10]"
   ]
  },
  {
   "cell_type": "markdown",
   "metadata": {},
   "source": [
    "Check if the output folder contains already parsed files"
   ]
  },
  {
   "cell_type": "code",
   "execution_count": null,
   "metadata": {},
   "outputs": [],
   "source": [
    "import json\n",
    "\n",
    "import config\n",
    "\n",
    "with open(config.FN_FASTA_DB) as f:\n",
    "    data_fasta = json.load(f)\n",
    "print(f'Number of proteins in fasta file DB: {len(data_fasta)}')"
   ]
  },
  {
   "cell_type": "markdown",
   "metadata": {},
   "source": [
    "Some files to investigate in more detail\n",
    "\n",
    "```\n",
    "20130408_QE6_LC5_KBS_MNT_QC_HeLa_02  # reversed protein leading razor protein\n",
    "``` "
   ]
  },
  {
   "cell_type": "code",
   "execution_count": null,
   "metadata": {},
   "outputs": [],
   "source": [
    "%%time\n",
    "FOLDER_PROCESSED = Path(FOLDER_PROCESSED)\n",
    "set_previously_loaded =  {folder.name for folder in FOLDER_PROCESSED.iterdir()}\n",
    "\n",
    "FORCE = True\n",
    "\n",
    "for folder in folders:\n",
    "    if folder.name in set_previously_loaded and not FORCE and (folder / '0_completness_all_genes.json').exists():\n",
    "        pass\n",
    "    else:\n",
    "        logger.info('\\n\\nProcess: {folder.name}')\n",
    "        print(f\"Process: {folder.name}\")\n",
    "        mq_output = MaxQuantOutputDynamic(folder)\n",
    "        peptide_extractor = ExtractFromPeptidesTxt(\n",
    "            out_folder=FOLDER_PROCESSED, mq_output_object=mq_output, fasta_db=data_fasta)\n",
    "        completeness_per_gene = peptide_extractor()"
   ]
  },
  {
   "cell_type": "markdown",
   "metadata": {
    "Collapsed": "false"
   },
   "source": [
    "## Theoretial Peptides from used fasta-file\n",
    "\n",
    "> `01_explore_FASTA.ipynb` (formely `01_FASTA_tryptic_digest.ipynb`)"
   ]
  },
  {
   "cell_type": "code",
   "execution_count": null,
   "metadata": {
    "Collapsed": "false"
   },
   "outputs": [],
   "source": []
  }
 ],
 "metadata": {
  "file_extension": ".py",
  "kernelspec": {
   "display_name": "Python 3",
   "language": "python",
   "name": "python3"
  },
  "language_info": {
   "codemirror_mode": {
    "name": "ipython",
    "version": 3
   },
   "file_extension": ".py",
   "mimetype": "text/x-python",
   "name": "python",
   "nbconvert_exporter": "python",
   "pygments_lexer": "ipython3",
   "version": "3.7.6"
  },
  "mimetype": "text/x-python",
  "name": "python",
  "npconvert_exporter": "python",
  "pygments_lexer": "ipython3",
  "toc-autonumbering": true,
  "version": 3
 },
 "nbformat": 4,
 "nbformat_minor": 4
}
