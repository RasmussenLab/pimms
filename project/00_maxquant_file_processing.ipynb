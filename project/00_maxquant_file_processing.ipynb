{
 "cells": [
  {
   "cell_type": "markdown",
   "metadata": {
    "Collapsed": "false"
   },
   "source": [
    "# MaxQuant (MQ) Output-Files\n",
    "\n",
    "Files compared:\n",
    "1. `Summary.txt`\n",
    "2. `mqpar.xml`\n",
    "3. `peptides.txt`\n",
    "4. `proteins.txt`\n",
    "\n",
    "There is are many files more, where several files seem to be available in several times in different formats."
   ]
  },
  {
   "cell_type": "code",
   "execution_count": null,
   "metadata": {
    "Collapsed": "false"
   },
   "outputs": [],
   "source": [
    "import os\n",
    "from pathlib import Path\n",
    "\n",
    "import pandas as pd\n",
    "import ipywidgets as widgets\n",
    "\n",
    "import src\n",
    "import src.file_utils as file_io\n",
    "from src.file_utils import search_files, search_subfolders, check_for_key\n",
    "from src.file_utils import process_files\n",
    "from src.file_utils import load_summary, load_mqpar_xml, load_peptide_intensities, load_protein_intensities\n",
    "\n",
    "##################\n",
    "##### CONFIG #####\n",
    "##################\n",
    "\n",
    "FILEPATH_UTILS = 'src/file_utils.py'\n",
    "\n",
    "\n",
    "from config import FOLDER_RAW_DATA \n",
    "from config import FOLDER_KEY  # defines how filenames are parsed for use as indices\n",
    "\n",
    "from config import FOLDER_DATA # project folder for storing the data\n",
    "print(f\"Search Raw-Files on path: {FOLDER_RAW_DATA}\")"
   ]
  },
  {
   "cell_type": "code",
   "execution_count": null,
   "metadata": {
    "Collapsed": "false"
   },
   "outputs": [],
   "source": [
    "folders= search_subfolders(path=FOLDER_RAW_DATA, depth=1)\n",
    "w_folder = widgets.Dropdown(options=folders, description='Select a folder')\n",
    "w_folder"
   ]
  },
  {
   "cell_type": "markdown",
   "metadata": {},
   "source": [
    "Results will be saved in a subfolder under `vaep/project/data` using the name of the specified input-folder per default. Change to your liking:"
   ]
  },
  {
   "cell_type": "code",
   "execution_count": null,
   "metadata": {},
   "outputs": [],
   "source": [
    "FOLDER_PROCESSED = w_folder.value\n",
    "FOLDER_PROCESSED = os.path.join(FOLDER_DATA, FOLDER_PROCESSED.name)\n",
    "print(f\"Save all output of this notebook to : {FOLDER_PROCESSED}\")\n",
    "os.makedirs(FOLDER_PROCESSED, exist_ok=True)"
   ]
  },
  {
   "cell_type": "markdown",
   "metadata": {},
   "source": [
    "> Go to the block you are interested in!"
   ]
  },
  {
   "cell_type": "markdown",
   "metadata": {
    "Collapsed": "false"
   },
   "source": [
    "## MQ Summary files"
   ]
  },
  {
   "cell_type": "code",
   "execution_count": null,
   "metadata": {
    "Collapsed": "false"
   },
   "outputs": [],
   "source": [
    "paths_summaries = search_files(path=w_folder.value, query='summary.txt')\n",
    "w_file = widgets.Dropdown(options=paths_summaries.files, description='View files')\n",
    "w_file"
   ]
  },
  {
   "cell_type": "markdown",
   "metadata": {
    "Collapsed": "false"
   },
   "source": [
    "### File Handler"
   ]
  },
  {
   "cell_type": "code",
   "execution_count": null,
   "metadata": {
    "Collapsed": "false"
   },
   "outputs": [],
   "source": [
    "load_summary??"
   ]
  },
  {
   "cell_type": "markdown",
   "metadata": {
    "Collapsed": "false"
   },
   "source": [
    "### Summaries"
   ]
  },
  {
   "cell_type": "code",
   "execution_count": null,
   "metadata": {
    "Collapsed": "false"
   },
   "outputs": [],
   "source": [
    "if paths_summaries.files:\n",
    "    df, names, failed = process_files(handler_fct=load_summary, filepaths=paths_summaries.files, key=FOLDER_KEY, relative_to=paths_summaries.folder)\n",
    "    df.columns = names\n",
    "    print(f\"Number of failed reads: {len(failed)}\")\n",
    "    display(df)"
   ]
  },
  {
   "cell_type": "code",
   "execution_count": null,
   "metadata": {},
   "outputs": [],
   "source": [
    "if paths_summaries.files:\n",
    "    df.to_csv(os.path.join(FOLDER_PROCESSED, 'all_summary_txt.csv'))\n",
    "    df.to_pickle(os.path.join(FOLDER_PROCESSED, 'all_summary_txt.pkl'))"
   ]
  },
  {
   "cell_type": "markdown",
   "metadata": {},
   "source": [
    "- SIL - MS2 based on precursor which was a set of peaks\n",
    "- PEAK - MS2 scan based on a single peak on precursor spectrum\n",
    "- ISO - isotopic pattern detection\n"
   ]
  },
  {
   "cell_type": "code",
   "execution_count": null,
   "metadata": {},
   "outputs": [],
   "source": [
    "if paths_summaries.files:\n",
    "    MS_spectra = df.loc[['MS', 'MS/MS Identified']].T.astype('int64')\n",
    "    mask  = MS_spectra['MS/MS Identified'] > 0\n",
    "    display(MS_spectra.loc[mask].describe())\n",
    "    MS_spectra.to_csv(os.path.join(FOLDER_PROCESSED, 'overview_stats.csv'))"
   ]
  },
  {
   "cell_type": "markdown",
   "metadata": {
    "Collapsed": "false"
   },
   "source": [
    "## MaxQuant Parameter File"
   ]
  },
  {
   "cell_type": "code",
   "execution_count": null,
   "metadata": {
    "Collapsed": "false"
   },
   "outputs": [],
   "source": [
    "paths_parameters = search_files(path=w_folder.value, query='.xml')\n",
    "w_file = widgets.Dropdown(options=paths_parameters.files, description='Select a file')\n",
    "w_file"
   ]
  },
  {
   "cell_type": "markdown",
   "metadata": {
    "Collapsed": "false"
   },
   "source": [
    "### Parameter Files"
   ]
  },
  {
   "cell_type": "code",
   "execution_count": null,
   "metadata": {
    "Collapsed": "false"
   },
   "outputs": [],
   "source": [
    "load_mqpar_xml??"
   ]
  },
  {
   "cell_type": "code",
   "execution_count": null,
   "metadata": {
    "Collapsed": "false"
   },
   "outputs": [],
   "source": [
    "if paths_parameters.files:\n",
    "    df, col_names, failed = process_files(handler_fct=load_mqpar_xml, filepaths=paths_parameters.files, key=FOLDER_KEY, relative_to=paths_parameters.folder) \n",
    "    df.columns = col_names\n",
    "    print(f\"Number of failed reads: {len(failed)}\")\n",
    "    pd.set_option('max_rows', 160)\n",
    "    display(df)"
   ]
  },
  {
   "cell_type": "markdown",
   "metadata": {
    "Collapsed": "false"
   },
   "source": [
    "## Peptides"
   ]
  },
  {
   "cell_type": "code",
   "execution_count": null,
   "metadata": {
    "Collapsed": "false"
   },
   "outputs": [],
   "source": [
    "%%time \n",
    "paths_peptides = search_files(path=w_folder.value, query='peptides.txt')"
   ]
  },
  {
   "cell_type": "code",
   "execution_count": null,
   "metadata": {},
   "outputs": [],
   "source": [
    "import random\n",
    "random.randint(0, len(paths_peptides.files))"
   ]
  },
  {
   "cell_type": "code",
   "execution_count": null,
   "metadata": {
    "Collapsed": "false"
   },
   "outputs": [],
   "source": [
    "df = pd.read_table(os.path.join(paths_peptides.folder, \n",
    "                                paths_peptides.files[random.randint(0, len(paths_peptides.files))]),\n",
    "                   index_col='Sequence')\n",
    "pd.set_option('max_columns', 60)\n",
    "# types = dict(df.dtypes)\n",
    "df"
   ]
  },
  {
   "cell_type": "markdown",
   "metadata": {
    "Collapsed": "false"
   },
   "source": [
    "### File-Handler"
   ]
  },
  {
   "cell_type": "code",
   "execution_count": null,
   "metadata": {
    "Collapsed": "false"
   },
   "outputs": [],
   "source": [
    "load_peptide_intensities??"
   ]
  },
  {
   "cell_type": "markdown",
   "metadata": {
    "Collapsed": "false"
   },
   "source": [
    "### Load Peptide Intensities"
   ]
  },
  {
   "cell_type": "code",
   "execution_count": null,
   "metadata": {
    "Collapsed": "false"
   },
   "outputs": [],
   "source": [
    "import logging\n",
    "logger = logging.getLogger()\n",
    "logger.setLevel(level=logging.INFO)\n",
    "\n",
    "fname_peptides = os.path.join(FOLDER_PROCESSED, 'peptide_intensities.{}')\n",
    "\n",
    "def get_intensities(paths_peptides, \n",
    "                    fname_peptides=os.path.join(FOLDER_PROCESSED, 'peptide_intensities.{}')\n",
    "                   ):\n",
    "    \"\"\"Take a path namedtuple and check if files have been loaded previously.\"\"\"\n",
    "    try:\n",
    "        peptides = pd.read_pickle(fname_peptides.format('pkl'))\n",
    "        logging.info(f\"Previously processed files: {len(peptides)}\")\n",
    "        set_files_already_processed = {os.path.join(_folder, 'peptides.txt') for _folder in peptides.index}\n",
    "        paths_peptides_to_do = list(set(paths_peptides.files) - set_files_already_processed)\n",
    "    except:\n",
    "        logging.info(f'No file such file: {fname_peptides.format(\"pkl\")}')\n",
    "        paths_peptides_to_do = paths_peptides.files\n",
    "        peptides = None\n",
    "    #ToDo: add more functionality   names\n",
    "    _peptides, _names, _failed = process_files(handler_fct=load_peptide_intensities,\n",
    "                                        filepaths=paths_peptides_to_do,\n",
    "                                        key=FOLDER_KEY,\n",
    "                                        relative_to=paths_peptides.folder) \n",
    "    if _failed:\n",
    "        logging.info(f'Failed: {\", \".join(_failed)}')\n",
    "    _peptides.columns = _names\n",
    "    \n",
    "    if peptides is not None:\n",
    "        return peptides.T.join(_peptides, how='outer').T\n",
    "    else:\n",
    "        return _peptides.T\n",
    "    \n",
    "peptides = get_intensities(paths_peptides)"
   ]
  },
  {
   "cell_type": "code",
   "execution_count": null,
   "metadata": {
    "Collapsed": "false"
   },
   "outputs": [],
   "source": [
    "print(f\"Peptide intesities take up {peptides.memory_usage(deep=False).sum() / 1000000:7.2f} MB of memory\")"
   ]
  },
  {
   "cell_type": "code",
   "execution_count": null,
   "metadata": {
    "Collapsed": "false"
   },
   "outputs": [],
   "source": [
    "pd.options.display.float_format = '{:,.0f}'.format\n",
    "peptides"
   ]
  },
  {
   "cell_type": "code",
   "execution_count": null,
   "metadata": {},
   "outputs": [],
   "source": [
    "peptides.to_csv(os.path.join(FOLDER_PROCESSED, 'peptide_intensities.csv'))\n",
    "peptides.to_pickle(os.path.join(FOLDER_PROCESSED, 'peptide_intensities.pkl'))"
   ]
  },
  {
   "cell_type": "code",
   "execution_count": null,
   "metadata": {
    "Collapsed": "false"
   },
   "outputs": [],
   "source": [
    "peptides.sort_values(by='AAAAAAAAAPAAAATAPTTAATTAATAAQ')"
   ]
  },
  {
   "cell_type": "code",
   "execution_count": null,
   "metadata": {
    "Collapsed": "false"
   },
   "outputs": [],
   "source": [
    "peptides_ordered_by_availability = peptides.notna().sum().sort_values(ascending=False)\n",
    "peptides_ordered_by_availability"
   ]
  },
  {
   "cell_type": "code",
   "execution_count": null,
   "metadata": {},
   "outputs": [],
   "source": [
    "N_peptides_notna = (peptides_ordered_by_availability >= max(peptides_ordered_by_availability)).sum()\n",
    "print(f'A total of {N_peptides_notna} peptides have been identified in {max(peptides_ordered_by_availability)} samples (max identification).')"
   ]
  },
  {
   "cell_type": "code",
   "execution_count": null,
   "metadata": {
    "Collapsed": "false"
   },
   "outputs": [],
   "source": [
    "N_CONSIDER_FIRST = 2000\n",
    "peptides = peptides[peptides_ordered_by_availability.index]\n",
    "peptides.sort_values(by=list(peptides_ordered_by_availability.index[:N_CONSIDER_FIRST]))"
   ]
  },
  {
   "cell_type": "markdown",
   "metadata": {},
   "source": [
    "### Identified Peptides by sample (reconstructed)"
   ]
  },
  {
   "cell_type": "code",
   "execution_count": null,
   "metadata": {},
   "outputs": [],
   "source": [
    "#In case no summary.txt is available or for comparison\n",
    "ms_ms_identified = peptides.notna().sum(axis=1).to_frame(name='MS/MS Identified')\n",
    "ms_ms_identified.describe()"
   ]
  },
  {
   "cell_type": "markdown",
   "metadata": {
    "Collapsed": "false"
   },
   "source": [
    "### Peptide sequences\n",
    "- average length, max, min, etc.\n",
    "- overlap"
   ]
  },
  {
   "cell_type": "code",
   "execution_count": null,
   "metadata": {
    "Collapsed": "false"
   },
   "outputs": [],
   "source": [
    "peptides.columns.to_series()"
   ]
  },
  {
   "cell_type": "markdown",
   "metadata": {
    "Collapsed": "false"
   },
   "source": [
    "### Comparison Intensities (e.g. between MaxQuant v1.6.0.1 and v1.6.1.12, if you have it)"
   ]
  },
  {
   "cell_type": "code",
   "execution_count": null,
   "metadata": {
    "Collapsed": "false"
   },
   "outputs": [],
   "source": [
    "# peptides_1601  = peptides.loc['MQ1.6.0.1_20190103_QE8_nLC0_LiNi_QC_MNT_15cm_Hela_01_200327']\n",
    "# peptides_16112 =  peptides.loc['MQ1.6.1.12_20190103_QE8_nLC0_LiNi_QC_MNT_15cm_Hela_01_200330']"
   ]
  },
  {
   "cell_type": "code",
   "execution_count": null,
   "metadata": {
    "Collapsed": "false"
   },
   "outputs": [],
   "source": [
    "# mask_diff = peptides_1601 == peptides_16112\n",
    "# mask_diff.sum()"
   ]
  },
  {
   "cell_type": "code",
   "execution_count": null,
   "metadata": {
    "Collapsed": "false"
   },
   "outputs": [],
   "source": [
    "# differences = pd.DataFrame([peptides_1601[~mask_diff], peptides_16112[~mask_diff]])\n",
    "# differences = differences.dropna(axis=1, how='all')\n",
    "# differences"
   ]
  },
  {
   "cell_type": "markdown",
   "metadata": {
    "Collapsed": "false"
   },
   "source": [
    "Amount of _overall_ assigned intensity is not the same."
   ]
  },
  {
   "cell_type": "code",
   "execution_count": null,
   "metadata": {
    "Collapsed": "false"
   },
   "outputs": [],
   "source": [
    "# differences.sum(axis=1)"
   ]
  },
  {
   "cell_type": "markdown",
   "metadata": {
    "Collapsed": "false"
   },
   "source": [
    "## Proteins"
   ]
  },
  {
   "cell_type": "code",
   "execution_count": null,
   "metadata": {
    "Collapsed": "false"
   },
   "outputs": [],
   "source": [
    "paths_proteins = search_files(path=w_folder.value, query='proteinGroups.txt')"
   ]
  },
  {
   "cell_type": "code",
   "execution_count": null,
   "metadata": {
    "Collapsed": "false"
   },
   "outputs": [],
   "source": [
    "run_protein = pd.read_table(os.path.join(paths_proteins.folder, paths_proteins.files[2]))\n",
    "run_protein"
   ]
  },
  {
   "cell_type": "markdown",
   "metadata": {
    "Collapsed": "false"
   },
   "source": [
    "### Most proteins are grouped\n",
    "- How many proteins are grouped together for one intensity value?\n",
    "- Are proteins uniquely placed into one of the protein groups?"
   ]
  },
  {
   "cell_type": "code",
   "execution_count": null,
   "metadata": {
    "Collapsed": "false"
   },
   "outputs": [],
   "source": [
    "ax = run_protein[\"Number of proteins\"].value_counts().sort_index().plot(kind='bar', title='Counts of protein-groups\\' sizes')\n",
    "ax.set_xlabel('Number of proteins in group (group size)')\n",
    "ax.set_ylabel('Frequency')"
   ]
  },
  {
   "cell_type": "code",
   "execution_count": null,
   "metadata": {
    "Collapsed": "false"
   },
   "outputs": [],
   "source": [
    "protein_index = run_protein[\"Protein IDs\"].str.split(';').apply(set)\n",
    "protein_index.apply(len).sum()"
   ]
  },
  {
   "cell_type": "code",
   "execution_count": null,
   "metadata": {
    "Collapsed": "false"
   },
   "outputs": [],
   "source": [
    "protein_index.apply(len)"
   ]
  },
  {
   "cell_type": "code",
   "execution_count": null,
   "metadata": {
    "Collapsed": "false"
   },
   "outputs": [],
   "source": [
    "protein_index_set = set()\n",
    "for _set in protein_index:\n",
    "    protein_index_set = protein_index_set.union(_set)\n",
    "len(protein_index_set)"
   ]
  },
  {
   "cell_type": "markdown",
   "metadata": {
    "Collapsed": "false"
   },
   "source": [
    "Unique entries"
   ]
  },
  {
   "cell_type": "markdown",
   "metadata": {
    "Collapsed": "false"
   },
   "source": [
    "### Load Protein Intensities\n",
    "- by all proteins\n",
    "- by majority proteins"
   ]
  },
  {
   "cell_type": "code",
   "execution_count": null,
   "metadata": {
    "Collapsed": "false"
   },
   "outputs": [],
   "source": [
    "dtypes_proteins = run_protein.dtypes.to_dict()\n",
    "dtypes_proteins"
   ]
  },
  {
   "cell_type": "code",
   "execution_count": null,
   "metadata": {
    "Collapsed": "false"
   },
   "outputs": [],
   "source": [
    "load_protein_intensities??"
   ]
  },
  {
   "cell_type": "code",
   "execution_count": null,
   "metadata": {
    "Collapsed": "false"
   },
   "outputs": [],
   "source": [
    "proteins, col_names, failed = process_files(handler_fct=load_protein_intensities, filepaths=paths_proteins.files[:20], key=FOLDER_KEY, relative_to=paths_proteins.folder) "
   ]
  },
  {
   "cell_type": "code",
   "execution_count": null,
   "metadata": {
    "Collapsed": "false"
   },
   "outputs": [],
   "source": [
    "proteins.columns = col_names"
   ]
  },
  {
   "cell_type": "code",
   "execution_count": null,
   "metadata": {
    "Collapsed": "false"
   },
   "outputs": [],
   "source": [
    "proteins"
   ]
  },
  {
   "cell_type": "code",
   "execution_count": null,
   "metadata": {
    "Collapsed": "false"
   },
   "outputs": [],
   "source": [
    "proteins.isna().sum()"
   ]
  },
  {
   "cell_type": "markdown",
   "metadata": {
    "Collapsed": "false"
   },
   "source": [
    "## Verify: ~500 proteins have no unique peptides\n",
    "Theoretical analysis has established that roughly ~500 out of the ~20000 human proteins have no unique peptides using trypsin as protease. \n",
    "\n",
    "- ask Marie"
   ]
  },
  {
   "cell_type": "markdown",
   "metadata": {
    "Collapsed": "false"
   },
   "source": [
    "## Theoretial Peptides from used fasta-file"
   ]
  },
  {
   "cell_type": "code",
   "execution_count": null,
   "metadata": {
    "Collapsed": "false"
   },
   "outputs": [],
   "source": []
  }
 ],
 "metadata": {
  "file_extension": ".py",
  "kernelspec": {
   "display_name": "vaep",
   "language": "python",
   "name": "vaep"
  },
  "language_info": {
   "codemirror_mode": {
    "name": "ipython",
    "version": 3
   },
   "file_extension": ".py",
   "mimetype": "text/x-python",
   "name": "python",
   "nbconvert_exporter": "python",
   "pygments_lexer": "ipython3",
   "version": "3.8.5"
  },
  "mimetype": "text/x-python",
  "name": "python",
  "npconvert_exporter": "python",
  "pygments_lexer": "ipython3",
  "toc-autonumbering": true,
  "version": 3
 },
 "nbformat": 4,
 "nbformat_minor": 4
}
