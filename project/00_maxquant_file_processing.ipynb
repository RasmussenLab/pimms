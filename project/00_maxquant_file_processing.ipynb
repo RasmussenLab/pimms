{
 "cells": [
  {
   "cell_type": "markdown",
   "metadata": {
    "Collapsed": "false"
   },
   "source": [
    "# MaxQuant (MQ) Output-Files\n",
    "\n",
    "Files compared:\n",
    "1. `Summary.txt`\n",
    "2. `mqpar.xml`\n",
    "3. `peptides.txt`\n",
    "4. `proteins.txt`\n",
    "\n",
    "There is are many files more, where several files seem to be available in several times in different formats."
   ]
  },
  {
   "cell_type": "code",
   "execution_count": null,
   "metadata": {
    "Collapsed": "false"
   },
   "outputs": [],
   "source": [
    "import os\n",
    "import logging\n",
    "from pathlib import Path\n",
    "\n",
    "import pandas as pd\n",
    "import ipywidgets as widgets\n",
    "\n",
    "from vaep.io import search_files, search_subfolders, PathsList\n",
    "\n",
    "import src\n",
    "import src.file_utils as file_io\n",
    "from src.file_utils import check_for_key\n",
    "from src.file_utils import process_files\n",
    "from src.file_utils import load_summary, load_mqpar_xml\n",
    "\n",
    "##################\n",
    "##### CONFIG #####\n",
    "##################\n",
    "from config import FOLDER_RAW_DATA, FOLDER_PROCESSED\n",
    "from config import FOLDER_KEY  # defines how filenames are parsed for use as indices\n",
    "\n",
    "from config import FOLDER_DATA # project folder for storing the data\n",
    "print(f\"Search Raw-Files on path: {FOLDER_RAW_DATA}\")"
   ]
  },
  {
   "cell_type": "code",
   "execution_count": null,
   "metadata": {},
   "outputs": [],
   "source": [
    "from datetime import datetime\n",
    "\n",
    "#Delete Jupyter notebook root logger handler\n",
    "logger = logging.getLogger()\n",
    "logger.handlers = []\n",
    "\n",
    "# logger = logging.getLogger(mq_output.folder.stem)\n",
    "logger = logging.getLogger('vaep')\n",
    "logger.setLevel(logging.INFO)\n",
    "\n",
    "# c_handler = logging.StreamHandler()\n",
    "# c_handler.setLevel(logging.INFO)\n",
    "\n",
    "date_log_file = \"{:%y%m%d_%H%M}\".format(datetime.now())\n",
    "f_handler = logging.FileHandler(f\"log_01_maxquant_file_processing_{date_log_file}.txt\")\n",
    "f_handler.setLevel(logging.INFO)\n",
    "\n",
    "c_format = logging.Formatter(\n",
    "    f'%(name)s - %(levelname)-8s %(message)s ')\n",
    "\n",
    "# c_handler.setFormatter(c_format)\n",
    "f_handler.setFormatter(c_format)\n",
    "\n",
    "logger.handlers = []  #remove any handler in case you reexecute the cell\n",
    "# logger.addHandler(c_handler)\n",
    "logger.addHandler(f_handler)"
   ]
  },
  {
   "cell_type": "code",
   "execution_count": null,
   "metadata": {
    "Collapsed": "false"
   },
   "outputs": [],
   "source": [
    "folders= search_subfolders(path=FOLDER_RAW_DATA, depth=1, exclude_root=True)\n",
    "folders[:10]"
   ]
  },
  {
   "cell_type": "markdown",
   "metadata": {},
   "source": [
    "Results will be saved in a subfolder under `vaep/project/data` using the name of the specified input-folder per default. Change to your liking:"
   ]
  },
  {
   "cell_type": "code",
   "execution_count": null,
   "metadata": {},
   "outputs": [],
   "source": [
    "all_files = search_files(path=FOLDER_RAW_DATA, query='')"
   ]
  },
  {
   "cell_type": "code",
   "execution_count": null,
   "metadata": {},
   "outputs": [],
   "source": [
    "all_files.folder"
   ]
  },
  {
   "cell_type": "code",
   "execution_count": null,
   "metadata": {},
   "outputs": [],
   "source": [
    "all_files.files[:10]"
   ]
  },
  {
   "cell_type": "markdown",
   "metadata": {},
   "source": [
    "> Go to the block you are interested in!"
   ]
  },
  {
   "cell_type": "markdown",
   "metadata": {
    "Collapsed": "false"
   },
   "source": [
    "## MQ Summary files"
   ]
  },
  {
   "cell_type": "code",
   "execution_count": null,
   "metadata": {
    "Collapsed": "false"
   },
   "outputs": [],
   "source": [
    "paths_summaries = PathsList([file for file in all_files.files if 'summary.txt' in file], folder=all_files.folder)\n",
    "w_file = widgets.Dropdown(options=paths_summaries.files, description='View files')\n",
    "w_file"
   ]
  },
  {
   "cell_type": "markdown",
   "metadata": {
    "Collapsed": "false"
   },
   "source": [
    "### File Handler"
   ]
  },
  {
   "cell_type": "code",
   "execution_count": null,
   "metadata": {
    "Collapsed": "false"
   },
   "outputs": [],
   "source": [
    "load_summary??"
   ]
  },
  {
   "cell_type": "markdown",
   "metadata": {
    "Collapsed": "false"
   },
   "source": [
    "### Summaries"
   ]
  },
  {
   "cell_type": "code",
   "execution_count": null,
   "metadata": {
    "Collapsed": "false"
   },
   "outputs": [],
   "source": [
    "if paths_summaries.files:\n",
    "    df, names, failed = process_files(handler_fct=load_summary, filepaths=paths_summaries.files, key=FOLDER_KEY, relative_to=paths_summaries.folder)\n",
    "    df.columns = names\n",
    "    print(f\"Number of failed reads: {len(failed)}\")\n",
    "    display(df)"
   ]
  },
  {
   "cell_type": "code",
   "execution_count": null,
   "metadata": {},
   "outputs": [],
   "source": [
    "if paths_summaries.files:\n",
    "    df.to_csv(os.path.join(FOLDER_PROCESSED, 'all_summary_txt.csv'))\n",
    "    df.to_pickle(os.path.join(FOLDER_PROCESSED, 'all_summary_txt.pkl'))"
   ]
  },
  {
   "cell_type": "markdown",
   "metadata": {},
   "source": [
    "- SIL - MS2 based on precursor which was a set of peaks\n",
    "- PEAK - MS2 scan based on a single peak on precursor spectrum\n",
    "- ISO - isotopic pattern detection\n"
   ]
  },
  {
   "cell_type": "code",
   "execution_count": null,
   "metadata": {},
   "outputs": [],
   "source": [
    "if paths_summaries.files:\n",
    "    MS_spectra = df.loc[['MS', 'MS/MS Identified']].T.astype('int64')\n",
    "    mask  = MS_spectra['MS/MS Identified'] > 0\n",
    "    display(MS_spectra.loc[mask].describe())\n",
    "    MS_spectra.to_csv(os.path.join(FOLDER_PROCESSED, 'overview_stats.csv'))"
   ]
  },
  {
   "cell_type": "markdown",
   "metadata": {
    "Collapsed": "false"
   },
   "source": [
    "## MaxQuant Parameter File"
   ]
  },
  {
   "cell_type": "code",
   "execution_count": null,
   "metadata": {
    "Collapsed": "false"
   },
   "outputs": [],
   "source": [
    "paths_parameters = PathsList(files=[file for file in all_files.files if '.xml' in file], folder=all_files.folder)\n",
    "w_file = widgets.Dropdown(options=paths_parameters.files, description='Select a file')\n",
    "w_file"
   ]
  },
  {
   "cell_type": "markdown",
   "metadata": {
    "Collapsed": "false"
   },
   "source": [
    "### Parameter Files"
   ]
  },
  {
   "cell_type": "code",
   "execution_count": null,
   "metadata": {
    "Collapsed": "false"
   },
   "outputs": [],
   "source": [
    "load_mqpar_xml??"
   ]
  },
  {
   "cell_type": "code",
   "execution_count": null,
   "metadata": {
    "Collapsed": "false"
   },
   "outputs": [],
   "source": [
    "fname_mqpar_xml = os.path.join(FOLDER_PROCESSED, 'peptide_intensities.{}')\n",
    "\n",
    "if paths_parameters.files:\n",
    "    df, col_names, failed = process_files(handler_fct=load_mqpar_xml, filepaths=paths_parameters.files, key=FOLDER_KEY, relative_to=paths_parameters.folder) \n",
    "    df.columns = col_names\n",
    "    print(f\"Number of failed reads: {len(failed)}\")\n",
    "    pd.set_option('max_rows', 160)\n",
    "    display(df)\n",
    "    df.to_pickle(fname_mqpar_xml.format(\"pkl\"))"
   ]
  },
  {
   "cell_type": "code",
   "execution_count": null,
   "metadata": {},
   "outputs": [],
   "source": [
    "del df"
   ]
  },
  {
   "cell_type": "markdown",
   "metadata": {
    "Collapsed": "false"
   },
   "source": [
    "## Peptides"
   ]
  },
  {
   "cell_type": "code",
   "execution_count": null,
   "metadata": {
    "Collapsed": "false"
   },
   "outputs": [],
   "source": [
    "paths_peptides = PathsList(files = [file for file in all_files.files if 'peptides.txt' in file], folder=all_files.folder)\n",
    "# paths_peptides"
   ]
  },
  {
   "cell_type": "code",
   "execution_count": null,
   "metadata": {
    "Collapsed": "false"
   },
   "outputs": [],
   "source": [
    "import random\n",
    "from vaep.io.mq import MaxQuantOutputDynamic\n",
    "pd.set_option('max_columns', 60)\n",
    "\n",
    "mq_output = MaxQuantOutputDynamic(\n",
    "    folder=folders[random.randint(0, len(paths_peptides.files)-1)])\n",
    "mq_output.peptides"
   ]
  },
  {
   "cell_type": "code",
   "execution_count": null,
   "metadata": {},
   "outputs": [],
   "source": [
    "mq_output.peptides.Intensity # as is in peptides.txt, comma seperated thousands"
   ]
  },
  {
   "cell_type": "markdown",
   "metadata": {
    "Collapsed": "false"
   },
   "source": [
    "### Create peptide intensity dumps for each MQ outputfolder\n",
    "\n",
    "All folders are stored in a list"
   ]
  },
  {
   "cell_type": "code",
   "execution_count": null,
   "metadata": {},
   "outputs": [],
   "source": [
    "folders[:10]"
   ]
  },
  {
   "cell_type": "markdown",
   "metadata": {},
   "source": [
    "Check if the output folder contains already parsed files"
   ]
  },
  {
   "cell_type": "code",
   "execution_count": null,
   "metadata": {},
   "outputs": [],
   "source": [
    "import json\n",
    "\n",
    "import config\n",
    "\n",
    "with open(config.FN_FASTA_DB) as f:\n",
    "    data_fasta = json.load(f)\n",
    "print(f'Number of proteins in fasta file DB: {len(data_fasta)}')"
   ]
  },
  {
   "cell_type": "code",
   "execution_count": null,
   "metadata": {},
   "outputs": [],
   "source": [
    "# root_logger = logging.getLogger()\n",
    "# root_logger.handlers = []\n",
    "# root_logger.handlers"
   ]
  },
  {
   "cell_type": "code",
   "execution_count": null,
   "metadata": {},
   "outputs": [],
   "source": [
    "%%time\n",
    "from pathlib import Path\n",
    "from vaep.io.mq import ExtractFromPeptidesTxt\n",
    "\n",
    "FOLDER_PROCESSED = Path(FOLDER_PROCESSED)\n",
    "set_previously_loaded =  {folder.name for folder in FOLDER_PROCESSED.iterdir()}\n",
    "\n",
    "FORCE = True\n",
    "\n",
    "for folder in folders:\n",
    "    if folder.name in set_previously_loaded and not FORCE:\n",
    "        pass\n",
    "    else:\n",
    "        print(f\"Process: {folder.name}\")\n",
    "        mq_output = MaxQuantOutputDynamic(folder)\n",
    "        peptide_extractor = ExtractFromPeptidesTxt(\n",
    "            out_folder=FOLDER_PROCESSED, mq_output_object=mq_output, fasta_db=data_fasta)\n",
    "        completeness_per_gene = peptide_extractor()"
   ]
  },
  {
   "cell_type": "markdown",
   "metadata": {
    "Collapsed": "false"
   },
   "source": [
    "## Theoretial Peptides from used fasta-file\n",
    "\n",
    "> `01_explore_FASTA.ipynb` (formely `01_FASTA_tryptic_digest.ipynb`)"
   ]
  },
  {
   "cell_type": "code",
   "execution_count": null,
   "metadata": {
    "Collapsed": "false"
   },
   "outputs": [],
   "source": []
  }
 ],
 "metadata": {
  "file_extension": ".py",
  "kernelspec": {
   "display_name": "Python 3",
   "language": "python",
   "name": "python3"
  },
  "language_info": {
   "codemirror_mode": {
    "name": "ipython",
    "version": 3
   },
   "file_extension": ".py",
   "mimetype": "text/x-python",
   "name": "python",
   "nbconvert_exporter": "python",
   "pygments_lexer": "ipython3",
   "version": "3.8.3"
  },
  "mimetype": "text/x-python",
  "name": "python",
  "npconvert_exporter": "python",
  "pygments_lexer": "ipython3",
  "toc-autonumbering": true,
  "version": 3
 },
 "nbformat": 4,
 "nbformat_minor": 4
}
