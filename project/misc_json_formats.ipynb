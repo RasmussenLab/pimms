{
 "cells": [
  {
   "cell_type": "markdown",
   "metadata": {},
   "source": [
    "# Json Formats\n",
    "\n",
    "- object is loaded with the correct conversions (but this is re-computed)\n",
    "- can shared information be saved as \"meta\" information?\n",
    "\n",
    "- [`pd.json_normalize`](https://pandas.pydata.org/pandas-docs/stable/reference/api/pandas.json_normalize.html) should be able to efficiently combine information"
   ]
  },
  {
   "cell_type": "code",
   "execution_count": null,
   "metadata": {},
   "outputs": [],
   "source": [
    "import pandas as pd\n",
    "from vaep.io.data_objects import MqAllSummaries\n",
    "from vaep.pandas import get_unique_non_unique_columns\n",
    "\n",
    "mq_all_summaries = MqAllSummaries()"
   ]
  },
  {
   "cell_type": "markdown",
   "metadata": {},
   "source": [
    "## summaries.json"
   ]
  },
  {
   "cell_type": "markdown",
   "metadata": {},
   "source": [
    "### Table format with schema"
   ]
  },
  {
   "cell_type": "code",
   "execution_count": null,
   "metadata": {},
   "outputs": [],
   "source": [
    "# json format with categories\n",
    "columns = get_unique_non_unique_columns(mq_all_summaries.df)\n",
    "columns.unique[:2]"
   ]
  },
  {
   "cell_type": "code",
   "execution_count": null,
   "metadata": {},
   "outputs": [],
   "source": [
    "mq_all_summaries.df[columns.unique[:3]].dtypes"
   ]
  },
  {
   "cell_type": "code",
   "execution_count": null,
   "metadata": {},
   "outputs": [],
   "source": [
    "type(mq_all_summaries.df.iloc[0,3])"
   ]
  },
  {
   "cell_type": "code",
   "execution_count": null,
   "metadata": {},
   "outputs": [],
   "source": [
    "meta = mq_all_summaries.df[columns.unique].iloc[0].to_json(indent=4, orient='table')\n",
    "# print(meta)"
   ]
  },
  {
   "cell_type": "code",
   "execution_count": null,
   "metadata": {},
   "outputs": [],
   "source": [
    "pd.read_json(meta, orient='table').T.convert_dtypes()"
   ]
  },
  {
   "cell_type": "code",
   "execution_count": null,
   "metadata": {},
   "outputs": [],
   "source": [
    "pd.read_json(meta, orient='table') # produce errors when having int columns has NaN"
   ]
  },
  {
   "cell_type": "code",
   "execution_count": null,
   "metadata": {},
   "outputs": [],
   "source": [
    "pd.options.display.max_columns = len(columns.non_unique)\n",
    "# mq_all_summaries.df[columns.non_unique]"
   ]
  },
  {
   "cell_type": "code",
   "execution_count": null,
   "metadata": {},
   "outputs": [],
   "source": [
    "data = mq_all_summaries.df[columns.non_unique].iloc[0:3].to_json()\n",
    "data = pd.read_json(data)\n",
    "data"
   ]
  },
  {
   "cell_type": "code",
   "execution_count": null,
   "metadata": {},
   "outputs": [],
   "source": [
    "mq_all_summaries.fp_summaries.parent /  mq_all_summaries.fp_summaries.stem / '_meta.json'"
   ]
  },
  {
   "cell_type": "code",
   "execution_count": null,
   "metadata": {},
   "outputs": [],
   "source": [
    "meta = mq_all_summaries.df[columns.unique].iloc[0].to_json(indent=4)\n",
    "meta = pd.read_json(meta, typ='series')\n",
    "meta"
   ]
  },
  {
   "cell_type": "code",
   "execution_count": null,
   "metadata": {},
   "outputs": [],
   "source": [
    "for col, value in meta.items():\n",
    "    data[col] = value    "
   ]
  },
  {
   "cell_type": "code",
   "execution_count": null,
   "metadata": {},
   "outputs": [],
   "source": [
    "data"
   ]
  },
  {
   "cell_type": "markdown",
   "metadata": {},
   "source": [
    "## Table schema bug\n",
    "\n",
    "- filed bug report on pandas [#40255](https://github.com/pandas-dev/pandas/issues/40255)"
   ]
  },
  {
   "cell_type": "code",
   "execution_count": null,
   "metadata": {},
   "outputs": [],
   "source": [
    "pd.show_versions()"
   ]
  },
  {
   "cell_type": "code",
   "execution_count": null,
   "metadata": {},
   "outputs": [],
   "source": [
    "pd.__version__"
   ]
  },
  {
   "cell_type": "code",
   "execution_count": null,
   "metadata": {},
   "outputs": [],
   "source": [
    "import traceback\n",
    "import pandas \n",
    "data = {'A' : [1, 2, 2, pd.NA, 4, 8, 8, 8, 8, 9],\n",
    " 'B': [pd.NA] * 10}\n",
    "data = pd.DataFrame(data)\n",
    "data = data.astype(pd.Int64Dtype()) # in my example I get this from data.convert_dtypes()\n",
    "data_json = data.to_json(orient='table', indent=4)\n",
    "try:\n",
    "    pd.read_json(data_json, orient='table') #ValueError: Cannot convert non-finite values (NA or inf) to integer\n",
    "except ValueError as e:\n",
    "    print(e)\n",
    "    traceback.print_exc()"
   ]
  },
  {
   "cell_type": "code",
   "execution_count": null,
   "metadata": {},
   "outputs": [],
   "source": [
    "print(data.to_string())"
   ]
  },
  {
   "cell_type": "code",
   "execution_count": null,
   "metadata": {},
   "outputs": [],
   "source": [
    "N = 3\n",
    "meta = mq_all_summaries.df[columns.unique[:N]].iloc[0:2].reset_index(drop=True)\n",
    "meta.to_dict()"
   ]
  }
 ],
 "metadata": {
  "kernelspec": {
   "display_name": "Python 3 (ipykernel)",
   "language": "python",
   "name": "python3"
  },
  "language_info": {
   "codemirror_mode": {
    "name": "ipython",
    "version": 3
   },
   "file_extension": ".py",
   "mimetype": "text/x-python",
   "name": "python",
   "nbconvert_exporter": "python",
   "pygments_lexer": "ipython3",
   "version": "3.8.5"
  }
 },
 "nbformat": 4,
 "nbformat_minor": 4
}
