{
 "cells": [
  {
   "cell_type": "code",
   "execution_count": null,
   "id": "82ca8952",
   "metadata": {
    "lines_to_next_cell": 2
   },
   "outputs": [],
   "source": [
    "import yaml\n",
    "from pathlib import Path\n",
    "import pandas as pd\n",
    "\n",
    "import matplotlib\n",
    "import matplotlib.pyplot as plt\n",
    "import seaborn as sns\n",
    "\n",
    "import vaep.plotting\n",
    "import vaep.pandas\n",
    "import vaep.nb\n",
    "\n",
    "import logging\n",
    "from vaep.logging import setup_logger\n",
    "logger = setup_logger(logger=logging.getLogger('vaep'), level=10)"
   ]
  },
  {
   "cell_type": "code",
   "execution_count": null,
   "id": "7e3fa34b",
   "metadata": {},
   "outputs": [],
   "source": [
    "# parameters\n",
    "FOLDER = Path('runs/mnar_mcar/')\n",
    "SIZE = 'l'\n",
    "files_in = {\n",
    "    'protein groups': FOLDER / 'pg_l_25MNAR/figures/2_1_performance_test_sel.csv',\n",
    "    'peptides': FOLDER / 'pep_l_25MNAR/figures/2_1_performance_test.csv',\n",
    "    'precursors': FOLDER / 'evi_l_25MNAR/figures/2_1_performance_test.csv'\n",
    "}"
   ]
  },
  {
   "cell_type": "code",
   "execution_count": null,
   "id": "7295143f",
   "metadata": {},
   "outputs": [],
   "source": [
    "FOLDER = Path('runs/mnar_mcar/')\n",
    "SIZE = 'm'\n",
    "files_in = {\n",
    "    'protein groups': FOLDER / 'pg_m_25MNAR/figures/2_1_performance_test_sel.csv',\n",
    "    'peptides': FOLDER / 'pep_m_25MNAR/figures/2_1_performance_test_sel.csv',\n",
    "    'precursors': FOLDER / 'evi_m_25MNAR/figures/2_1_performance_test_sel.csv'\n",
    "}"
   ]
  },
  {
   "cell_type": "code",
   "execution_count": null,
   "id": "eb2cf090",
   "metadata": {},
   "outputs": [],
   "source": [
    "METRIC = 'MAE'"
   ]
  },
  {
   "cell_type": "code",
   "execution_count": null,
   "id": "50921173",
   "metadata": {},
   "outputs": [],
   "source": [
    "df = list()\n",
    "for key, file_in in files_in.items():\n",
    "    _ = pd.read_csv(file_in)\n",
    "    _['data level'] = key\n",
    "    df.append(_)\n",
    "df = pd.concat(df, axis=0)\n",
    "df.columns = ['model', *df.columns[1:]]\n",
    "df = df.set_index(list(df.columns[:2]))\n",
    "df"
   ]
  },
  {
   "cell_type": "markdown",
   "id": "aca35ca0",
   "metadata": {},
   "source": [
    "color mapping globally defined for article figures"
   ]
  },
  {
   "cell_type": "code",
   "execution_count": null,
   "id": "d33d3ba4",
   "metadata": {},
   "outputs": [],
   "source": [
    "COLORS_TO_USE_MAPPTING = vaep.plotting.defaults.color_model_mapping\n",
    "print(COLORS_TO_USE_MAPPTING.keys())\n",
    "sns.color_palette(palette=COLORS_TO_USE_MAPPTING.values())"
   ]
  },
  {
   "cell_type": "code",
   "execution_count": null,
   "id": "bc835722",
   "metadata": {},
   "outputs": [],
   "source": [
    "data_levels_annotated = dict()\n",
    "for key, fname in files_in.items():\n",
    "    fname = fname.parents[1] / 'data_config.yaml'\n",
    "    with open(fname) as f:\n",
    "        data_config = yaml.safe_load(f)\n",
    "    data_levels_annotated[key] = f\"{key} \\n (N={data_config['N']:,d}, M={data_config['M']:,d})\"\n",
    "    # print(pd.read_csv(file).mean())\n",
    "# data_levels_annotated\n",
    "ORDER_DATA = list(data_levels_annotated.values())\n",
    "df = df.rename(index=data_levels_annotated)\n",
    "df"
   ]
  },
  {
   "cell_type": "code",
   "execution_count": null,
   "id": "7dfc4de4",
   "metadata": {
    "lines_to_next_cell": 2
   },
   "outputs": [],
   "source": [
    "fname = FOLDER / f'best_models_{SIZE}_test_mpl.pdf'\n",
    "metrics = df['metric_value'].unstack('model')\n",
    "ORDER_MODELS = metrics.mean().sort_values().index.to_list()\n",
    "metrics = metrics.loc[ORDER_DATA, ORDER_MODELS]\n",
    "\n",
    "plt.rcParams['figure.figsize'] = [4.0, 2.0]\n",
    "matplotlib.rcParams.update({'font.size': 6})\n",
    "\n",
    "ax = (metrics\n",
    "      .plot\n",
    "      .bar(rot=0,\n",
    "           xlabel='',\n",
    "           ylabel=f\"{METRIC} (log2 intensities)\",\n",
    "           color=COLORS_TO_USE_MAPPTING,\n",
    "           width=.85,\n",
    "           fontsize=7\n",
    "           ))\n",
    "\n",
    "\n",
    "ax = vaep.plotting.add_height_to_barplot(ax, size=6, rotated=True)\n",
    "ax.set_ylim((0, 0.75))\n",
    "ax.legend(fontsize=5, loc='lower right')\n",
    "text = (\n",
    "    df['text']\n",
    "    .unstack()\n",
    "    .fillna('')\n",
    "    .stack().loc[pd.IndexSlice[ORDER_MODELS, ORDER_DATA]]\n",
    "\n",
    ")\n",
    "ax = vaep.plotting.add_text_to_barplot(ax, text, size=6)\n",
    "fig = ax.get_figure()\n",
    "fig.tight_layout()\n",
    "vaep.savefig(fig, fname)"
   ]
  },
  {
   "cell_type": "code",
   "execution_count": null,
   "id": "ae3c407f",
   "metadata": {},
   "outputs": [],
   "source": [
    "df = metrics.fillna(0.0).stack().to_frame(\n",
    "    'metric_value').join(text.rename('text'))\n",
    "df.to_excel(fname.with_suffix('.xlsx'))"
   ]
  },
  {
   "cell_type": "markdown",
   "id": "4ee3ca0b",
   "metadata": {},
   "source": [
    "# aggregate all mean results"
   ]
  },
  {
   "cell_type": "code",
   "execution_count": null,
   "id": "b81849a4",
   "metadata": {},
   "outputs": [],
   "source": [
    "files_perf = {k: f.parent.parent /\n",
    "              '01_2_performance_summary.xlsx' for k, f in files_in.items()}\n",
    "files_perf"
   ]
  },
  {
   "cell_type": "code",
   "execution_count": null,
   "id": "f26a7324",
   "metadata": {},
   "outputs": [],
   "source": [
    "perf = dict()\n",
    "for k, f in files_perf.items():\n",
    "    df = pd.read_excel(f, index_col=0, sheet_name=1)\n",
    "    perf[(k, 'val')] = df.loc['mean']\n",
    "    df = pd.read_excel(f, index_col=0, sheet_name=2)\n",
    "    perf[(k, 'test')] = df.loc['mean']\n",
    "\n",
    "perf = pd.DataFrame(perf)\n",
    "order = (perf\n",
    "         .loc[:, pd.IndexSlice[:, 'val']]\n",
    "         .mean(axis=1)\n",
    "         .sort_values()\n",
    "         .index)\n",
    "perf = perf.loc[order]\n",
    "perf"
   ]
  },
  {
   "cell_type": "code",
   "execution_count": null,
   "id": "1072fe64",
   "metadata": {},
   "outputs": [],
   "source": [
    "fname = FOLDER / f'performance_summary_{SIZE}.xlsx'\n",
    "perf.to_excel(fname)\n",
    "fname.as_posix()"
   ]
  },
  {
   "cell_type": "code",
   "execution_count": null,
   "id": "d97a66a0",
   "metadata": {},
   "outputs": [],
   "source": []
  }
 ],
 "metadata": {
  "jupytext": {
   "formats": "ipynb,py:percent"
  },
  "kernelspec": {
   "display_name": "Python 3",
   "language": "python",
   "name": "python3"
  }
 },
 "nbformat": 4,
 "nbformat_minor": 5
}
