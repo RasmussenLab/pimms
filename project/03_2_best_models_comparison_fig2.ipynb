{
 "cells": [
  {
   "cell_type": "code",
   "execution_count": null,
   "id": "82ca8952",
   "metadata": {},
   "outputs": [],
   "source": [
    "from pathlib import Path\n",
    "import pandas as pd\n",
    "\n",
    "import matplotlib\n",
    "import matplotlib.pyplot as plt\n",
    "import seaborn as sns\n",
    "\n",
    "import vaep.plotting\n",
    "import vaep.pandas\n",
    "import vaep.nb\n",
    "\n",
    "import logging\n",
    "from vaep.logging import setup_logger\n",
    "logger = setup_logger(logger=logging.getLogger('vaep'), level=10)\n",
    "\n"
   ]
  },
  {
   "cell_type": "code",
   "execution_count": null,
   "id": "7e3fa34b",
   "metadata": {},
   "outputs": [],
   "source": [
    "# parameters\n",
    "FOLDER = Path('runs/Q_Exactive_HF_X_Orbitrap_6070/')\n",
    "files_in = {\n",
    "      'protein groups': FOLDER / 'proteinGroups/figures/performance_test.csv',\n",
    "      'peptides': FOLDER / 'peptides/figures/performance_test.csv',\n",
    "      'precursors': FOLDER / 'evidence/figures/performance_test.csv'\n",
    "}"
   ]
  },
  {
   "cell_type": "code",
   "execution_count": null,
   "id": "7295143f",
   "metadata": {},
   "outputs": [],
   "source": [
    "# FOLDER = Path('runs/dev_dataset_small/')\n",
    "# files_in = {\n",
    "#       'protein groups': Path('runs/example') / 'figures/performance_test.csv',\n",
    "#       'peptides': FOLDER / 'peptides_N50/figures/performance_test.csv',\n",
    "#       'precursors': FOLDER / 'evidence_N50/figures/performance_test.csv'\n",
    "# }"
   ]
  },
  {
   "cell_type": "code",
   "execution_count": null,
   "id": "eb2cf090",
   "metadata": {},
   "outputs": [],
   "source": [
    "ORDER_DATA = list(files_in.keys())\n",
    "METRIC = 'MAE'"
   ]
  },
  {
   "cell_type": "code",
   "execution_count": null,
   "id": "50921173",
   "metadata": {},
   "outputs": [],
   "source": [
    "df = list()\n",
    "for key, file_in in files_in.items():\n",
    "    _ = pd.read_csv(file_in)\n",
    "    _['data level'] = key\n",
    "    df.append(_)\n",
    "df = pd.concat(df, axis=0)\n",
    "df.columns = ['model', *df.columns[1:]]\n",
    "df = df.set_index(list(df.columns[:2]))\n",
    "df"
   ]
  },
  {
   "cell_type": "code",
   "execution_count": null,
   "id": "d33d3ba4",
   "metadata": {
    "lines_to_next_cell": 2
   },
   "outputs": [],
   "source": [
    "fname = FOLDER / 'best_models_1_test_mpl.pdf'\n",
    "metrics = df['metric_value'].unstack('model')\n",
    "ORDER_MODELS = metrics.mean().sort_values().index.to_list()\n",
    "metrics = metrics.loc[ORDER_DATA, ORDER_MODELS]\n",
    "\n",
    "plt.rcParams['figure.figsize'] = [4.0, 3.0]\n",
    "matplotlib.rcParams.update({'font.size': 5})\n",
    "\n",
    "ax = (metrics\n",
    "      .plot\n",
    "      .bar(rot=0,\n",
    "            xlabel='',\n",
    "            ylabel=f\"{METRIC} (log2 intensities)\",\n",
    "            # position=0.1,\n",
    "            width=.85))\n",
    "\n",
    "ax = vaep.plotting.add_height_to_barplot(ax, size=5)\n",
    "ax.legend(fontsize=5, loc='lower right')\n",
    "text = (\n",
    "    df['text']\n",
    "    .unstack()\n",
    "    .fillna('')\n",
    "    .stack().loc[pd.IndexSlice[ORDER_MODELS, ORDER_DATA]]\n",
    "\n",
    ")\n",
    "ax = vaep.plotting.add_text_to_barplot(ax, text, size=5)\n",
    "fig = ax.get_figure()\n",
    "fig.tight_layout()\n",
    "vaep.savefig(fig, fname)"
   ]
  },
  {
   "cell_type": "code",
   "execution_count": null,
   "id": "ae3c407f",
   "metadata": {},
   "outputs": [],
   "source": [
    "df = metrics.fillna(0.0).stack().to_frame('metric_value').join(text.rename('text'))\n",
    "df.to_excel(fname.with_suffix('.xlsx'))"
   ]
  }
 ],
 "metadata": {
  "jupytext": {
   "formats": "ipynb,py:percent"
  },
  "kernelspec": {
   "display_name": "Python 3",
   "language": "python",
   "name": "python3"
  }
 },
 "nbformat": 4,
 "nbformat_minor": 5
}
