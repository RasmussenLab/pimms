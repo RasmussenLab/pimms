{
 "cells": [
  {
   "cell_type": "markdown",
   "id": "56becfbb-813a-4ea4-b29f-c234b1c45098",
   "metadata": {},
   "source": [
    "# Rawfile Renaming\n",
    "\n",
    "- generated using `workflows/metadata`\n",
    "- all raw files collected ~50,000"
   ]
  },
  {
   "cell_type": "code",
   "execution_count": null,
   "id": "0c1cab72-7447-473b-a3d5-1aee8c4815e8",
   "metadata": {},
   "outputs": [],
   "source": [
    "from collections import namedtuple\n",
    "from collections import defaultdict\n",
    "\n",
    "import yaml\n",
    "from pathlib import PurePosixPath, Path\n",
    "\n",
    "import numpy as np\n",
    "import pandas as pd\n",
    "\n",
    "import vaep.pandas\n",
    "\n",
    "\n",
    "def rename(fname, new_sample_id, ext=None):\n",
    "    fname = PurePosixPath(fname)\n",
    "    if ext is None:\n",
    "        ext = fname.suffix\n",
    "    fname = fname.parent / new_sample_id\n",
    "    fname = fname.with_suffix(ext)\n",
    "    return fname\n"
   ]
  },
  {
   "cell_type": "markdown",
   "id": "d195963d-21b6-4766-a82e-761f31b288bf",
   "metadata": {},
   "source": [
    "## Arguments"
   ]
  },
  {
   "cell_type": "code",
   "execution_count": null,
   "id": "7e1629d8-3768-4113-9835-3bed95f219a6",
   "metadata": {
    "tags": [
     "parameters"
    ]
   },
   "outputs": [],
   "source": [
    "fn_rawfile_metadata: str = 'data/rawfile_metadata.csv' # Machine parsed metadata from rawfile workflow\n",
    "fn_files_per_instrument: str = 'data/files_per_instrument.yaml' # All parsed raw files nested by instrument (model, attribute, serial number)\n",
    "fn_files_selected: str = 'data/samples_selected.yaml' # selected files based on threshold of identified peptides\n",
    "fn_filer_per_instrument_selected: str = 'data/files_selected_per_instrument.yaml' # Selected parsed raw files nested by instrument (model, attribute, serial number)\n",
    "out_folder: str = 'data/rename'"
   ]
  },
  {
   "cell_type": "code",
   "execution_count": null,
   "id": "06ff016b-f6e0-4cfd-bdd1-fcae5dfc05e9",
   "metadata": {},
   "outputs": [],
   "source": [
    "out_folder = Path(out_folder)\n",
    "out_folder.mkdir(exist_ok=True)\n",
    "\n",
    "files_out = dict()"
   ]
  },
  {
   "cell_type": "markdown",
   "id": "2232196d-7d24-419a-be70-2fac76428eae",
   "metadata": {},
   "source": [
    "### Machine metadata\n",
    "\n",
    "- read from file using [ThermoRawFileParser](https://github.com/compomics/ThermoRawFileParser)"
   ]
  },
  {
   "cell_type": "code",
   "execution_count": null,
   "id": "9869ac5e-fab3-4c66-a32c-48ae4fadc0a3",
   "metadata": {
    "tags": []
   },
   "outputs": [],
   "source": [
    "df_meta = pd.read_csv(fn_rawfile_metadata, header=[0, 1], index_col=0)\n",
    "date_col = ('FileProperties', 'Content Creation Date')\n",
    "df_meta[date_col] = pd.to_datetime(\n",
    "    df_meta[date_col])\n",
    "df_meta.sort_values(date_col, inplace=True)\n",
    "df_meta\n",
    "msg = f\"A total of {len(df_meta)} raw files could be read using the ThermoFisherRawFileParser.\" "
   ]
  },
  {
   "cell_type": "code",
   "execution_count": null,
   "id": "ab1b1bc2-c531-483c-b498-0fb0654bc7dc",
   "metadata": {},
   "outputs": [],
   "source": [
    "meta_stats = df_meta.describe(include='all', datetime_is_numeric=True)\n",
    "meta_stats.T"
   ]
  },
  {
   "cell_type": "markdown",
   "id": "a27b9295-47b4-487f-9ef3-84aa2890d843",
   "metadata": {},
   "source": [
    "# Erda Paths"
   ]
  },
  {
   "cell_type": "code",
   "execution_count": null,
   "id": "d1c30a7b-fe2e-4a71-a85a-d684cc62ce05",
   "metadata": {},
   "outputs": [],
   "source": [
    "cols_identifies = [('FileProperties', 'Pathname'),\n",
    " ('FileProperties', 'Version'),\n",
    " ('FileProperties', 'Content Creation Date'),\n",
    " ('InstrumentProperties', 'Thermo Scientific instrument model'),\n",
    " ('InstrumentProperties', 'instrument attribute'),\n",
    " ('InstrumentProperties', 'instrument serial number'),\n",
    " ('InstrumentProperties', 'Software Version'),\n",
    " ('InstrumentProperties', 'firmware version'),\n",
    "]\n",
    "\n",
    "df_meta = df_meta[cols_identifies]\n",
    "df_meta.columns = [t[-1] for t in cols_identifies]\n",
    "df_meta"
   ]
  },
  {
   "cell_type": "markdown",
   "id": "7f61bf7b-3473-487b-b8eb-ac5a6191d507",
   "metadata": {},
   "source": [
    "Replace `tmp/` with `./` (artefact)"
   ]
  },
  {
   "cell_type": "code",
   "execution_count": null,
   "id": "17dc5955-3265-4709-a0ec-dc1df505e7d5",
   "metadata": {},
   "outputs": [],
   "source": [
    "df_meta['Pathname'] = df_meta['Pathname'].str.replace('tmp/', './')"
   ]
  },
  {
   "cell_type": "markdown",
   "id": "6add2fad-2c1c-4542-bcfb-efd1a0ea108f",
   "metadata": {},
   "source": [
    "Create new sample identifier"
   ]
  },
  {
   "cell_type": "code",
   "execution_count": null,
   "id": "b42f31ba-e0d5-4afc-8328-f5200213ff85",
   "metadata": {},
   "outputs": [],
   "source": [
    "idx_all = (pd.to_datetime(df_meta[\"Content Creation Date\"]).dt.strftime(\"%Y_%m_%d_%H_%M\")\n",
    "        + '_'\n",
    "        + df_meta[\"Thermo Scientific instrument model\"].str.replace(' ', '-')\n",
    "        + '_'\n",
    "        + df_meta[\"instrument serial number\"].str.split('#').str[-1]).str.replace(' ', '-')\n",
    "\n",
    "mask = idx_all.duplicated(keep=False)\n",
    "duplicated_sample_idx = idx_all.loc[mask].sort_values()  # duplicated dumps\n",
    "duplicated_sample_idx"
   ]
  },
  {
   "cell_type": "code",
   "execution_count": null,
   "id": "1ddbec78-97bf-4238-9b46-533d20605973",
   "metadata": {},
   "outputs": [],
   "source": [
    "df_meta['new_sample_id'] =  idx_all\n",
    "\n",
    "\n",
    "df_meta[\"Path_new\"] = df_meta[[\"Pathname\", \"new_sample_id\"]].apply(lambda s: rename(*s), axis=1)\n",
    "\n",
    "\n",
    "_n = df_meta.groupby(\"new_sample_id\").cumcount().astype('string').str.replace('0', '')\n",
    "_n[_n != ''] = '_r' + _n[_n != '']\n",
    "_n.value_counts()\n",
    "\n",
    "df_meta.loc[mask, \"new_sample_id\"] = df_meta.loc[mask, \"new_sample_id\"] + _n\n",
    "\n",
    "\n",
    "df_meta.loc[mask, [\"Pathname\", \"new_sample_id\"]]"
   ]
  },
  {
   "cell_type": "code",
   "execution_count": null,
   "id": "21962b78-d9c8-4037-aea5-b13e0d5d84ca",
   "metadata": {},
   "outputs": [],
   "source": [
    "df_meta.loc[~mask, [\"Pathname\", \"new_sample_id\"]]"
   ]
  },
  {
   "cell_type": "code",
   "execution_count": null,
   "id": "d4e0b289-ba7d-4c9b-a08b-c0aafc733855",
   "metadata": {},
   "outputs": [],
   "source": [
    "df_meta[\"Path_new\"] = df_meta[[\"Pathname\", \"new_sample_id\"]].apply(lambda s: rename(*s), axis=1)"
   ]
  },
  {
   "cell_type": "code",
   "execution_count": null,
   "id": "1a1c0a1d-b706-41c1-a082-7a7dc766ea2f",
   "metadata": {},
   "outputs": [],
   "source": [
    "assert df_meta[\"Pathname\"].is_unique\n",
    "assert df_meta[\"Path_new\"].is_unique\n",
    "assert df_meta[\"new_sample_id\"].is_unique"
   ]
  },
  {
   "cell_type": "markdown",
   "id": "fb446855-eb2f-4000-8c22-a84e58ce8130",
   "metadata": {},
   "source": [
    "### Save new paths to disk"
   ]
  },
  {
   "cell_type": "code",
   "execution_count": null,
   "id": "bef2adce-afc7-4698-8aea-4c6415792133",
   "metadata": {},
   "outputs": [],
   "source": [
    "df_meta[\"Path_old\"] = df_meta[\"Pathname\"]\n",
    "\n",
    "df_meta[[\"Path_old\", \"Path_new\", \"new_sample_id\"]]"
   ]
  },
  {
   "cell_type": "markdown",
   "id": "3a738dd3-cb4b-4940-bf48-5192186e3614",
   "metadata": {},
   "source": [
    "## Selected Files"
   ]
  },
  {
   "cell_type": "code",
   "execution_count": null,
   "id": "d630ba07-0674-40b7-b6e9-92a34f4e4788",
   "metadata": {},
   "outputs": [],
   "source": [
    "with open(fn_files_selected) as f:\n",
    "    files_selected = yaml.safe_load(f)\n",
    "print(f'Threshold: {files_selected[\"threshold\"]:,d}')\n"
   ]
  },
  {
   "cell_type": "code",
   "execution_count": null,
   "id": "c2204d45-20b5-4b24-8af1-04614769b275",
   "metadata": {},
   "outputs": [],
   "source": [
    "df_meta.loc[files_selected[\"files\"]]"
   ]
  },
  {
   "cell_type": "code",
   "execution_count": null,
   "id": "f79366bc-38ba-415b-bccf-0a842241ca03",
   "metadata": {},
   "outputs": [],
   "source": [
    "mask = idx_all.duplicated()\n",
    "selected = df_meta.loc[~mask].index.intersection(files_selected[\"files\"])\n",
    "df_meta.loc[selected]"
   ]
  },
  {
   "cell_type": "code",
   "execution_count": null,
   "id": "d1a3d03d-e79d-4cb3-9f9e-7b415060f38b",
   "metadata": {},
   "outputs": [],
   "source": [
    "fname = out_folder / 'selected_old_new_id_mapping.csv'\n",
    "files_out[fname.name] = fname\n",
    "df_meta.loc[selected, [\"Path_old\", \"Path_new\", \"new_sample_id\"]].to_csv(fname)\n",
    "fname"
   ]
  },
  {
   "cell_type": "markdown",
   "id": "b0c69dd0-53a5-480e-a7cc-bb43b49a09cb",
   "metadata": {},
   "source": [
    "### OS rename"
   ]
  },
  {
   "cell_type": "code",
   "execution_count": null,
   "id": "801ccc99-a0f6-44bb-9605-5cf01cf57d21",
   "metadata": {},
   "outputs": [],
   "source": [
    "# df_meta[\"Path_old\"] = df_meta[\"Pathname\"]\n",
    "df_meta.loc[selected][[\"Path_old\", \"Path_new\", \"new_sample_id\"]]"
   ]
  },
  {
   "cell_type": "code",
   "execution_count": null,
   "id": "4e702472-df96-4659-987e-efe76f3032de",
   "metadata": {},
   "outputs": [],
   "source": [
    "import os"
   ]
  },
  {
   "cell_type": "code",
   "execution_count": null,
   "id": "5ebcbc77-59d7-44f1-8c88-5af9ee110434",
   "metadata": {},
   "outputs": [],
   "source": [
    "# For all file names?\n",
    "os.rename?"
   ]
  },
  {
   "cell_type": "code",
   "execution_count": null,
   "id": "0cbcd745-eb0c-423f-a9bc-6864424d5a2c",
   "metadata": {},
   "outputs": [],
   "source": [
    "# For MQ output?\n",
    "os.renames?"
   ]
  },
  {
   "cell_type": "markdown",
   "id": "f07d1e53-f017-4d61-970d-3eb4ca2905c5",
   "metadata": {},
   "source": [
    "Selected path_old -> path_new"
   ]
  },
  {
   "cell_type": "markdown",
   "id": "c9f014ce-8efc-48a0-9779-435385dfc792",
   "metadata": {},
   "source": [
    "### SFTP command"
   ]
  },
  {
   "cell_type": "code",
   "execution_count": null,
   "id": "790c66e2-1a1e-46e2-9fd9-5ad7b86fc793",
   "metadata": {},
   "outputs": [],
   "source": [
    "commands = df_meta.loc[selected]\n",
    "commands = '!put ' + commands['Path_old'].astype('string') + ' ' + commands['Path_new'].astype('string')\n",
    "print(commands.sample(10).to_csv(sep=' ', header=False, index=False))"
   ]
  },
  {
   "cell_type": "markdown",
   "id": "bdacce3e-dd65-4017-9f12-3f4e1891d3a8",
   "metadata": {},
   "source": [
    "write all"
   ]
  },
  {
   "cell_type": "code",
   "execution_count": null,
   "id": "2a6d01bd-cd8c-4663-a506-78ca69533e83",
   "metadata": {},
   "outputs": [],
   "source": [
    "fname = out_folder / 'sftp_commands_rawfiles'\n",
    "commands.to_csv(fname, sep=' ', header=False, index=False)"
   ]
  },
  {
   "cell_type": "markdown",
   "id": "2b6faff1-92a4-46ff-a14f-f6fb241265d7",
   "metadata": {},
   "source": [
    "## Put output files on PRIDE\n",
    "\n",
    "- `mq_out` folder\n",
    "- move from `Sample ID` folder into `new_sample_id` on erda"
   ]
  },
  {
   "cell_type": "code",
   "execution_count": null,
   "id": "d60b149d-d32a-4d97-b908-1c778a58a224",
   "metadata": {},
   "outputs": [],
   "source": [
    "commands = df_meta.loc[selected]\n",
    "commands = '!put ' + commands.index + '/* ' + commands[\"new_sample_id\"] + '/*'\n",
    "  \n",
    "print(commands.sample(10).to_csv(sep=' ', header=False, index=False))"
   ]
  },
  {
   "cell_type": "code",
   "execution_count": null,
   "id": "83c04b90-0c4e-4fe7-88f6-ed02cef93a23",
   "metadata": {},
   "outputs": [],
   "source": [
    "fname = out_folder / 'sftp_commands_mq_output'\n",
    "commands.to_csv(fname, sep=' ', header=False, index=False)"
   ]
  }
 ],
 "metadata": {
  "kernelspec": {
   "display_name": "Python 3",
   "language": "python",
   "name": "python3"
  },
  "language_info": {
   "codemirror_mode": {
    "name": "ipython",
    "version": 3
   },
   "file_extension": ".py",
   "mimetype": "text/x-python",
   "name": "python",
   "nbconvert_exporter": "python",
   "pygments_lexer": "ipython3",
   "version": "3.8.13"
  }
 },
 "nbformat": 4,
 "nbformat_minor": 5
}
