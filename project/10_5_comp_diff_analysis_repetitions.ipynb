{
 "cells": [
  {
   "cell_type": "code",
   "execution_count": null,
   "id": "2549116b-ee73-4d12-b071-69ba928be57e",
   "metadata": {},
   "outputs": [],
   "source": [
    "from pathlib import Path\n",
    "\n",
    "import njab\n",
    "import pandas as pd\n",
    "\n",
    "import vaep"
   ]
  },
  {
   "cell_type": "code",
   "execution_count": null,
   "id": "3a48f9cc-082f-4658-9cad-6e4d4f555657",
   "metadata": {},
   "outputs": [],
   "source": [
    "pickled_qvalues = snakemake.input.qvalues\n",
    "pickled_qvalues"
   ]
  },
  {
   "cell_type": "code",
   "execution_count": null,
   "id": "8bef6cd3-fef6-4499-85cb-63bd524c9edc",
   "metadata": {},
   "outputs": [],
   "source": [
    "files_out = dict()\n",
    "folder_out = Path(snakemake.params.folder_experiment)\n",
    "fname = folder_out / 'agg_differences_compared.xlsx'\n",
    "writer = pd.ExcelWriter(fname)\n",
    "fname"
   ]
  },
  {
   "cell_type": "code",
   "execution_count": null,
   "id": "13d00541-c857-4338-83ca-090e47323b74",
   "metadata": {},
   "outputs": [],
   "source": [
    "\n",
    "\n",
    "def _load_pickle(pfath, run: int):\n",
    "    df = pd.read_pickle(pfath)\n",
    "    df['run'] = f'run{run:02d}'\n",
    "    df = df.set_index('run', append=True)\n",
    "    return df\n",
    "\n",
    "\n",
    "df_long_qvalues = pd.concat(\n",
    "    [_load_pickle(f, i) for i, f in enumerate(pickled_qvalues)]\n",
    ")\n",
    "df_long_qvalues"
   ]
  },
  {
   "cell_type": "markdown",
   "id": "f90af715",
   "metadata": {},
   "outputs": [],
   "source": [
    "Q-values for features across runs"
   ]
  },
  {
   "cell_type": "code",
   "execution_count": null,
   "id": "45236d80-ab6d-40dd-bde8-fa82f6235947",
   "metadata": {},
   "outputs": [],
   "source": [
    "qvalue_stats = df_long_qvalues.groupby(level=0).agg(['mean', 'std'])\n",
    "qvalue_stats.to_excel(writer,\n",
    "                      sheet_name='all_qvalue_stats',\n",
    "                      float_format='%3.5f')\n",
    "qvalue_stats"
   ]
  },
  {
   "cell_type": "code",
   "execution_count": null,
   "id": "f9b791b4",
   "metadata": {},
   "outputs": [],
   "source": [
    "decisions_da_target = snakemake.input.equality_rejected_target\n",
    "decisions_da_target"
   ]
  },
  {
   "cell_type": "code",
   "execution_count": null,
   "id": "90ca9b48",
   "metadata": {},
   "outputs": [],
   "source": [
    "da_counts = sum(pd.read_pickle(f) for f in decisions_da_target)\n",
    "da_counts.to_excel(writer,\n",
    "                   sheet_name='all_rejected_counts')\n",
    "da_counts"
   ]
  },
  {
   "cell_type": "markdown",
   "id": "0c171552",
   "metadata": {},
   "outputs": [],
   "source": [
    "Option: set custom qvalue threshold"
   ]
  },
  {
   "cell_type": "code",
   "execution_count": null,
   "id": "b542efe2",
   "metadata": {},
   "outputs": [],
   "source": [
    "qvalue_treshold = 0.05\n",
    "da_counts = sum(pd.read_pickle(f) < qvalue_treshold for f in pickled_qvalues)\n",
    "da_counts"
   ]
  },
  {
   "cell_type": "code",
   "execution_count": null,
   "id": "c2966514",
   "metadata": {},
   "outputs": [],
   "source": [
    "da_target_same = (da_counts.sum(axis=1) == 0) | da_counts.all(axis=1)\n",
    "da_target_same.value_counts()"
   ]
  },
  {
   "cell_type": "code",
   "execution_count": null,
   "id": "5be9bc4a",
   "metadata": {},
   "outputs": [],
   "source": [
    "idx_different = (da_target_same\n",
    "                 [~da_target_same]\n",
    "                 .index\n",
    "                 .get_level_values(0)\n",
    "                 )"
   ]
  },
  {
   "cell_type": "code",
   "execution_count": null,
   "id": "a26aff18",
   "metadata": {},
   "outputs": [],
   "source": [
    "da_counts = da_counts.loc[idx_different]\n",
    "da_counts"
   ]
  },
  {
   "cell_type": "markdown",
   "id": "8bdf906b",
   "metadata": {},
   "outputs": [],
   "source": [
    "Order by mean qvalue of non-imputed comparison"
   ]
  },
  {
   "cell_type": "code",
   "execution_count": null,
   "id": "0641c9cf",
   "metadata": {},
   "outputs": [],
   "source": [
    "qvalue_stats = (qvalue_stats\n",
    "                .loc[idx_different]\n",
    "                .sort_values(('None', 'qvalue', 'mean'))\n",
    "                )\n",
    "qvalue_stats"
   ]
  },
  {
   "cell_type": "markdown",
   "id": "c7d1315c",
   "metadata": {},
   "outputs": [],
   "source": [
    "save more verbose index on scores, transfer to counts"
   ]
  },
  {
   "cell_type": "code",
   "execution_count": null,
   "id": "9e3aa228",
   "metadata": {
    "lines_to_next_cell": 2
   },
   "outputs": [],
   "source": [
    "da_counts = da_counts.loc[qvalue_stats.index]\n",
    "# da_counts.to_excel(writer,\n",
    "#                    sheet_name='different_rejected_counts')\n",
    "qvalue_stats.index = da_counts.index\n",
    "# qvalue_stats.to_excel(writer,\n",
    "#                       sheet_name='different_qvalue_stats',\n",
    "#                       float_format='%3.5f'\n",
    "#                       )"
   ]
  },
  {
   "cell_type": "code",
   "execution_count": null,
   "id": "e94f42b9",
   "metadata": {},
   "outputs": [],
   "source": [
    "da_counts = da_counts.droplevel(-1, axis=1)\n",
    "da_counts"
   ]
  },
  {
   "cell_type": "markdown",
   "id": "24c61879",
   "metadata": {},
   "source": [
    "- case: feature omitted in original study\n",
    "- case: feature added: drop RSN as it does not make sense.\n",
    "        (or assing None value -> that's what counts)"
   ]
  },
  {
   "cell_type": "code",
   "execution_count": null,
   "id": "3502b8aa",
   "metadata": {},
   "outputs": [],
   "source": [
    "mask_pgs_included_in_ald_study = qvalue_stats[('RSN', 'qvalue', 'mean')].notna()\n",
    "mask_pgs_included_in_ald_study"
   ]
  },
  {
   "cell_type": "code",
   "execution_count": null,
   "id": "cb2891bb",
   "metadata": {},
   "outputs": [],
   "source": [
    "# pgs included in original ald study\n",
    "tab_diff_rejec_counts_old = (da_counts\n",
    "                             .loc[mask_pgs_included_in_ald_study]\n",
    "                             .reset_index()\n",
    "                             .groupby(\n",
    "                                 by=da_counts.columns.to_list())\n",
    "                             .size()\n",
    "                             .to_frame('N')\n",
    "                             )\n",
    "tab_diff_rejec_counts_old.to_excel(writer,\n",
    "                                   sheet_name='tab_diff_rejec_counts_old')\n",
    "tab_diff_rejec_counts_old"
   ]
  },
  {
   "cell_type": "code",
   "execution_count": null,
   "id": "5dbbae62",
   "metadata": {},
   "outputs": [],
   "source": [
    "da_counts.loc[mask_pgs_included_in_ald_study\n",
    "              ].to_excel(writer,\n",
    "                         sheet_name='diff_rejec_counts_old')\n",
    "qvalue_stats.loc[mask_pgs_included_in_ald_study\n",
    "                 ].to_excel(writer,\n",
    "                            sheet_name='diff_qvalue_stats_old',\n",
    "                            float_format='%3.5f'\n",
    "                            )"
   ]
  },
  {
   "cell_type": "code",
   "execution_count": null,
   "id": "eb04ebeb",
   "metadata": {},
   "outputs": [],
   "source": [
    "# new pgs\n",
    "tab_diff_rejec_counts_new = (da_counts\n",
    "                             .loc[~mask_pgs_included_in_ald_study]\n",
    "                             .reset_index()\n",
    "                             .drop('RSN', axis=1)\n",
    "                             .groupby(\n",
    "                                 by=[m for m in da_counts.columns if m != 'RSN'])\n",
    "                             .size()\n",
    "                             .to_frame('N')\n",
    "                             )\n",
    "tab_diff_rejec_counts_new.to_excel(writer,\n",
    "                                   sheet_name='tab_diff_rejec_counts_new')\n",
    "tab_diff_rejec_counts_new"
   ]
  },
  {
   "cell_type": "code",
   "execution_count": null,
   "id": "f7d387bd",
   "metadata": {},
   "outputs": [],
   "source": [
    "da_counts.loc[~mask_pgs_included_in_ald_study\n",
    "              ].to_excel(writer,\n",
    "                         sheet_name='diff_rejec_counts_new')\n",
    "qvalue_stats.loc[~mask_pgs_included_in_ald_study\n",
    "                 ].to_excel(writer,\n",
    "                            sheet_name='diff_qvalue_stats_new',\n",
    "                            float_format='%3.5f'\n",
    "                            )"
   ]
  },
  {
   "cell_type": "code",
   "execution_count": null,
   "id": "88aa8c77",
   "metadata": {},
   "outputs": [],
   "source": [
    "mask_new_da_with_imp = mask_new_da_with_imputation = ((~mask_pgs_included_in_ald_study)\n",
    "                                                      & (da_counts['None'] != 10))\n",
    "\n",
    "tab_new_da_with_imp = njab.pandas.combine_value_counts(\n",
    "    da_counts\n",
    "    .loc[mask_new_da_with_imputation]\n",
    ").fillna(0).astype(int)\n",
    "tab_new_da_with_imp.index.name = 'number of reps'\n",
    "tab_new_da_with_imp.columns.name = 'DA decisions by method'\n",
    "tab_new_da_with_imp.to_excel(writer, sheet_name='tab_new_da_with_imp')\n",
    "tab_new_da_with_imp"
   ]
  },
  {
   "cell_type": "code",
   "execution_count": null,
   "id": "aedd0dc8-3da8-4b07-a5ae-e884449bea9d",
   "metadata": {},
   "outputs": [],
   "source": [
    "writer.close()\n",
    "fname"
   ]
  },
  {
   "cell_type": "code",
   "execution_count": null,
   "id": "df88f4ac",
   "metadata": {},
   "outputs": [],
   "source": []
  }
 ],
 "metadata": {
  "kernelspec": {
   "display_name": "vaep",
   "language": "python",
   "name": "vaep"
  },
  "language_info": {
   "codemirror_mode": {
    "name": "ipython",
    "version": 3
   },
   "file_extension": ".py",
   "mimetype": "text/x-python",
   "name": "python",
   "nbconvert_exporter": "python",
   "pygments_lexer": "ipython3",
   "version": "3.8.13"
  },
  "toc": {
   "base_numbering": 1,
   "nav_menu": {},
   "number_sections": true,
   "sideBar": true,
   "skip_h1_title": false,
   "title_cell": "Table of Contents",
   "title_sidebar": "Contents",
   "toc_cell": false,
   "toc_position": {},
   "toc_section_display": true,
   "toc_window_display": false
  }
 },
 "nbformat": 4,
 "nbformat_minor": 5
}
