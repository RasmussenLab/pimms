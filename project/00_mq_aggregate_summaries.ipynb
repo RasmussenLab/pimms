{
 "cells": [
  {
   "cell_type": "markdown",
   "metadata": {
    "Collapsed": "false"
   },
   "source": [
    "# MaxQuant (MQ) Output-Files\n",
    "\n",
    "Files compared:\n",
    "1. `Summary.txt`\n",
    "2. `mqpar.xml`\n",
    "3. `peptides.txt`\n",
    "4. `proteins.txt`\n",
    "\n",
    "There is are many files more, where several files seem to be available in several times in different formats."
   ]
  },
  {
   "cell_type": "code",
   "execution_count": null,
   "metadata": {},
   "outputs": [],
   "source": [
    "import os\n",
    "import sys\n",
    "import logging\n",
    "from pathlib import Path\n",
    "import random\n",
    "\n",
    "import pandas as pd\n",
    "import ipywidgets as widgets\n",
    "\n",
    "sys.path.append('/home/jovyan/work/vaep/')\n",
    "from vaep.io.mq import MaxQuantOutputDynamic\n",
    "from vaep import io_images\n",
    "\n",
    "from src.logging import setup_logger_w_file\n",
    "from src.data_objects import MqAllSummaries \n",
    "\n",
    "##################\n",
    "##### CONFIG #####\n",
    "##################\n",
    "import config\n",
    "from config import FOLDER_MQ_TXT_DATA, FOLDER_PROCESSED\n",
    "\n",
    "from config import FOLDER_DATA # project folder for storing the data\n",
    "print(f\"Search Raw-Files on path: {FOLDER_MQ_TXT_DATA}\")\n",
    "\n",
    "##################\n",
    "### Logging ######\n",
    "##################\n",
    "\n",
    "#Delete Jupyter notebook root logger handler\n",
    "root_logger = logging.getLogger()\n",
    "root_logger.handlers = []\n",
    "\n",
    "logger = logging.getLogger('vaep')\n",
    "logger = setup_logger_w_file(logger, fname_base='log_00_mq_aggregate_summaries')\n",
    "\n",
    "logger.info('Start with handlers: \\n' + \"\\n\".join(f\"- {repr(log_)}\" for log_ in logger.handlers))"
   ]
  },
  {
   "cell_type": "code",
   "execution_count": null,
   "metadata": {
    "Collapsed": "false"
   },
   "outputs": [],
   "source": [
    "folders = [folder for folder in  Path(FOLDER_MQ_TXT_DATA).iterdir() if folder.is_dir()]\n",
    "w_file = widgets.Dropdown(options=[folder for folder in folders], description='View files')\n",
    "w_file"
   ]
  },
  {
   "cell_type": "code",
   "execution_count": null,
   "metadata": {},
   "outputs": [],
   "source": [
    "mq_output = MaxQuantOutputDynamic(w_file.value)\n",
    "mq_output"
   ]
  },
  {
   "cell_type": "code",
   "execution_count": null,
   "metadata": {},
   "outputs": [],
   "source": [
    "print(f\"Results will be saved in subfolders in\\n\\t{str(FOLDER_PROCESSED.absolute())}\"\n",
    "      \"\\nusing the name of the specified input-folder per default. Change to your liking.\")\n",
    "# FOLDER_PROCESSED = Path('')"
   ]
  },
  {
   "cell_type": "markdown",
   "metadata": {},
   "source": [
    "> Go to the block you are interested in!"
   ]
  },
  {
   "cell_type": "markdown",
   "metadata": {
    "Collapsed": "false"
   },
   "source": [
    "### Summaries Data"
   ]
  },
  {
   "cell_type": "code",
   "execution_count": null,
   "metadata": {},
   "outputs": [],
   "source": [
    "%%time\n",
    "mq_all_summaries = MqAllSummaries()\n",
    "mq_all_summaries.load_new_samples(folders=folders)"
   ]
  },
  {
   "cell_type": "code",
   "execution_count": null,
   "metadata": {
    "Collapsed": "false"
   },
   "outputs": [],
   "source": [
    "if mq_all_summaries.empty_folders:\n",
    "    print(empty_folders)\n",
    "    with open('log_empty_folder.txt', 'a') as f:\n",
    "        f.writelines(empty_folders)\n",
    "print(f\"In total processed: {len(mq_all_summaries):5}\")"
   ]
  },
  {
   "cell_type": "code",
   "execution_count": null,
   "metadata": {
    "Collapsed": "false"
   },
   "outputs": [],
   "source": [
    "pd.options.display.max_columns = len(mq_all_summaries.df.columns)"
   ]
  },
  {
   "cell_type": "code",
   "execution_count": null,
   "metadata": {},
   "outputs": [],
   "source": [
    "mq_all_summaries.df.info()"
   ]
  },
  {
   "cell_type": "markdown",
   "metadata": {},
   "source": [
    "- SIL - MS2 based on precursor which was a set of peaks\n",
    "- PEAK - MS2 scan based on a single peak on precursor spectrum\n",
    "- ISO - isotopic pattern detection\n"
   ]
  },
  {
   "cell_type": "code",
   "execution_count": null,
   "metadata": {},
   "outputs": [],
   "source": [
    "class col_summary:\n",
    "    MS = 'MS'\n",
    "    MS2 =  'MS/MS Identified'\n",
    "\n",
    "df = mq_all_summaries.df\n",
    "if df is not None:\n",
    "    MS_spectra = df[[col_summary.MS, col_summary.MS2]]\n",
    "    def compute_summary(threshold_ms2_identified):\n",
    "        mask  = MS_spectra[col_summary.MS2] > threshold_ms2_identified\n",
    "        display(MS_spectra.loc[mask].describe())\n",
    "    \n",
    "    w_ions_range = widgets.IntSlider(value=10000.0, min=.0, max=MS_spectra[col_summary.MS2].max())\n",
    "    display(widgets.interactive(compute_summary, threshold_ms2_identified=w_ions_range))"
   ]
  },
  {
   "cell_type": "code",
   "execution_count": null,
   "metadata": {},
   "outputs": [],
   "source": [
    "MS_spectra[col_summary.MS2].mean(), MS_spectra[col_summary.MS2].std() # including folders with 0 identified peptides"
   ]
  },
  {
   "cell_type": "code",
   "execution_count": null,
   "metadata": {},
   "outputs": [],
   "source": [
    "def calc_cutoff(threshold=1):\n",
    "    s = MS_spectra[col_summary.MS2]\n",
    "    mask = s >= threshold\n",
    "    s = s.loc[mask]\n",
    "    display(f\"Threshold selected (inclusive): {threshold} \")\n",
    "    display(f\"mean: {s.mean():.2f}, std-dev: {s.std():.2f}\")\n",
    "\n",
    "\n",
    "# calc_cutoff()\n",
    "display(widgets.interactive(calc_cutoff, threshold=widgets.IntSlider(value=10000.0, min=.0, max=MS_spectra[col_summary.MS2].max())))"
   ]
  },
  {
   "cell_type": "code",
   "execution_count": null,
   "metadata": {},
   "outputs": [],
   "source": [
    "import matplotlib.pyplot as plt\n",
    "fig, axes = plt.subplots(2,2, figsize=(20,20), sharex=True)\n",
    "\n",
    "ylim_hist = (0,600)\n",
    "xlim_dens = (0, 70_000)\n",
    "\n",
    "ax = axes[0,0]\n",
    "ax = mq_all_summaries.df[col_summary.MS2].plot(kind='hist', bins=50, title=\"Histogram including samples with zero identified peptides\", grid=True, ax=ax, ylim=ylim_hist)\n",
    "ax = axes[1,0]\n",
    "_ = mq_all_summaries.df[col_summary.MS2].astype(float).plot.kde(ax=ax, title=\"Density plot including samples with zero identified peptides.\", xlim=xlim_dens)\n",
    "\n",
    "threshold_m2_identified = 15_000\n",
    "mask = mq_all_summaries.df[col_summary.MS2] >= threshold_m2_identified\n",
    "\n",
    "ax = axes[0,1]\n",
    "ax = mq_all_summaries.df.loc[mask, col_summary.MS2].plot(kind='hist', bins=40, title=f\"Histogram including samples with {threshold_m2_identified:,d} and more identified peptides\", grid=True, ax=ax, ylim=ylim_hist)\n",
    "ax = axes[1,1]\n",
    "_ = mq_all_summaries.df.loc[mask, col_summary.MS2].astype(float).plot.kde(ax=ax, title=f\"Density plot including samples with {threshold_m2_identified:,d} and more identified peptides.\", xlim=xlim_dens)\n",
    "\n",
    "io_images._savefig(fig, name='distribution_peptides_in_samples', folder=config.FIGUREFOLDER)"
   ]
  }
 ],
 "metadata": {
  "file_extension": ".py",
  "kernelspec": {
   "display_name": "Python 3",
   "language": "python",
   "name": "python3"
  },
  "language_info": {
   "codemirror_mode": {
    "name": "ipython",
    "version": 3
   },
   "file_extension": ".py",
   "mimetype": "text/x-python",
   "name": "python",
   "nbconvert_exporter": "python",
   "pygments_lexer": "ipython3",
   "version": "3.7.6"
  },
  "mimetype": "text/x-python",
  "name": "python",
  "npconvert_exporter": "python",
  "pygments_lexer": "ipython3",
  "toc-autonumbering": true,
  "version": 3
 },
 "nbformat": 4,
 "nbformat_minor": 4
}
