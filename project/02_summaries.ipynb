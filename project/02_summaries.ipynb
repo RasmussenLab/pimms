{
 "cells": [
  {
   "cell_type": "markdown",
   "metadata": {},
   "source": [
    "# Analysis of `summaries.txt` information\n",
    "\n",
    "- number of raw files (no here)\n",
    "- number of raw files with MQ-Output\n",
    "- MS1 per file\n",
    "- MS2 per file"
   ]
  },
  {
   "cell_type": "code",
   "execution_count": null,
   "metadata": {},
   "outputs": [],
   "source": [
    "import ipywidgets as widgets\n",
    "import yaml\n",
    "import numpy as np\n",
    "from src.data_objects import MqAllSummaries\n",
    "import vaep\n",
    "\n",
    "from src.config import FN_ALL_SUMMARIES\n",
    "\n",
    "mq_all_summaries = MqAllSummaries(FN_ALL_SUMMARIES)\n",
    "mq_all_summaries.df.describe().T"
   ]
  },
  {
   "cell_type": "markdown",
   "metadata": {},
   "source": [
    "Find unique columns, see [post](https://stackoverflow.com/a/54405767/9684872)"
   ]
  },
  {
   "cell_type": "code",
   "execution_count": null,
   "metadata": {},
   "outputs": [],
   "source": [
    "from vaep.pandas import unique_cols\n",
    "unique_cols(mq_all_summaries.df.Multiplicity), unique_cols(\n",
    "    mq_all_summaries.df[\"Variable modifications first search\"])  # int, NA"
   ]
  },
  {
   "cell_type": "code",
   "execution_count": null,
   "metadata": {},
   "outputs": [],
   "source": [
    "from vaep.pandas import get_unique_non_unique_columns\n",
    "columns = get_unique_non_unique_columns(mq_all_summaries.df)\n",
    "mq_all_summaries.df[columns.unique]"
   ]
  },
  {
   "cell_type": "code",
   "execution_count": null,
   "metadata": {},
   "outputs": [],
   "source": [
    "mq_all_summaries.df[columns.unique].dtypes"
   ]
  },
  {
   "cell_type": "code",
   "execution_count": null,
   "metadata": {},
   "outputs": [],
   "source": [
    "mq_all_summaries.df[columns.unique].iloc[0, :]"
   ]
  },
  {
   "cell_type": "markdown",
   "metadata": {},
   "source": [
    "## Analysis of completeness"
   ]
  },
  {
   "cell_type": "code",
   "execution_count": null,
   "metadata": {},
   "outputs": [],
   "source": [
    "class col_summary:\n",
    "    MS1 = 'MS'\n",
    "    MS2 = 'MS/MS' \n",
    "    MS2_identified  = 'MS/MS Identified'\n",
    "    peptides_identified = 'Peptide Sequences Identified'\n",
    "\n",
    "if mq_all_summaries.df is None:\n",
    "    raise ValueError(\"No data assigned\")\n",
    "    \n",
    "MS_spectra = mq_all_summaries.df[[col_summary.MS1, col_summary.MS2, col_summary.MS2_identified, col_summary.peptides_identified]]\n",
    "\n",
    "def compute_summary(threshold_identified):\n",
    "    mask  = MS_spectra[col_summary.peptides_identified] >= threshold_identified\n",
    "    display(MS_spectra.loc[mask].describe(np.linspace(0.05, 0.95, 10)))\n",
    "\n",
    "w_ions_range = widgets.IntSlider(value=15_000, min=.0, max=MS_spectra[col_summary.peptides_identified].max())\n",
    "display(widgets.interactive(compute_summary, threshold_identified=w_ions_range))"
   ]
  },
  {
   "cell_type": "markdown",
   "metadata": {},
   "source": [
    "List of samples without any identified peptides:"
   ]
  },
  {
   "cell_type": "code",
   "execution_count": null,
   "metadata": {},
   "outputs": [],
   "source": [
    "mask = (MS_spectra < 1).any(axis=1)\n",
    "MS_spectra.loc[mask]"
   ]
  },
  {
   "cell_type": "markdown",
   "metadata": {},
   "source": [
    "## Export selected list of quantified samples\n",
    "\n",
    "Based on threshold, save a list of the specified samples"
   ]
  },
  {
   "cell_type": "code",
   "execution_count": null,
   "metadata": {},
   "outputs": [],
   "source": [
    "dump_dict = {'threshold': int(w_ions_range.value)}\n",
    "mask = MS_spectra[col_summary.peptides_identified] >= w_ions_range.value\n",
    "dump_dict['files'] = MS_spectra.loc[mask].index.to_list()\n",
    "\n",
    "with open('data/samples_selected.yaml', 'w') as f:\n",
    "    yaml.dump(dump_dict, stream=f)"
   ]
  }
 ],
 "metadata": {
  "kernelspec": {
   "display_name": "vaep",
   "language": "python",
   "name": "vaep"
  },
  "language_info": {
   "codemirror_mode": {
    "name": "ipython",
    "version": 3
   },
   "file_extension": ".py",
   "mimetype": "text/x-python",
   "name": "python",
   "nbconvert_exporter": "python",
   "pygments_lexer": "ipython3",
   "version": "3.8.12"
  }
 },
 "nbformat": 4,
 "nbformat_minor": 4
}
