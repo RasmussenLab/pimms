{
 "cells": [
  {
   "cell_type": "markdown",
   "metadata": {},
   "source": [
    "# Analysis of `summaries.txt` information\n",
    "\n",
    "- number of raw files (no here)\n",
    "- number of raw files with MQ-Output\n",
    "- MS1 per file\n",
    "- MS2 per file"
   ]
  },
  {
   "cell_type": "code",
   "execution_count": null,
   "metadata": {},
   "outputs": [],
   "source": [
    "import ipywidgets as widgets\n",
    "\n",
    "from src.data_objects import MqAllSummaries\n",
    "import vaep\n",
    "\n",
    "from src.config import FN_ALL_SUMMARIES\n",
    "\n",
    "mq_all_summaries = MqAllSummaries()\n",
    "mq_all_summaries.df.describe().T"
   ]
  },
  {
   "cell_type": "markdown",
   "metadata": {},
   "source": [
    "Find unique columns, see [post](https://stackoverflow.com/a/54405767/9684872)"
   ]
  },
  {
   "cell_type": "code",
   "execution_count": null,
   "metadata": {},
   "outputs": [],
   "source": [
    "from vaep.pandas import unique_cols\n",
    "unique_cols(mq_all_summaries.df.Multiplicity), unique_cols(\n",
    "    mq_all_summaries.df[\"Variable modifications first search\"])  # int, NA"
   ]
  },
  {
   "cell_type": "code",
   "execution_count": null,
   "metadata": {},
   "outputs": [],
   "source": [
    "from vaep.pandas import get_unique_non_unique_columns\n",
    "columns = get_unique_non_unique_columns(mq_all_summaries.df)\n",
    "mq_all_summaries.df[columns.unique]"
   ]
  },
  {
   "cell_type": "code",
   "execution_count": null,
   "metadata": {},
   "outputs": [],
   "source": [
    "mq_all_summaries.df[columns.unique].dtypes"
   ]
  },
  {
   "cell_type": "code",
   "execution_count": null,
   "metadata": {},
   "outputs": [],
   "source": [
    "mq_all_summaries.df[columns.unique].iloc[0, :]"
   ]
  },
  {
   "cell_type": "markdown",
   "metadata": {},
   "source": [
    "## Analysis of completeness"
   ]
  },
  {
   "cell_type": "code",
   "execution_count": null,
   "metadata": {},
   "outputs": [],
   "source": [
    "class col_summary:\n",
    "    MS = 'MS'\n",
    "    MS2 = 'MS/MS Identified'\n",
    "\n",
    "\n",
    "MS_spectra = mq_all_summaries.df[[col_summary.MS, col_summary.MS2]]\n",
    "\n",
    "\n",
    "def compute_summary(threshold_ms2_identified):\n",
    "    mask = MS_spectra[col_summary.MS2] >= threshold_ms2_identified\n",
    "    display(MS_spectra.loc[mask].describe())\n",
    "\n",
    "\n",
    "w_ions_range = widgets.IntSlider(\n",
    "    value=0.0, min=.0, max=MS_spectra[col_summary.MS2].max())\n",
    "display(widgets.interactive(compute_summary,\n",
    "                            threshold_ms2_identified=w_ions_range))"
   ]
  },
  {
   "cell_type": "code",
   "execution_count": null,
   "metadata": {},
   "outputs": [],
   "source": [
    "mask = (MS_spectra < 1).any(axis=1)\n",
    "MS_spectra.loc[mask]"
   ]
  },
  {
   "cell_type": "code",
   "execution_count": null,
   "metadata": {},
   "outputs": [],
   "source": []
  }
 ],
 "metadata": {
  "kernelspec": {
   "display_name": "vaep",
   "language": "python",
   "name": "vaep"
  },
  "language_info": {
   "codemirror_mode": {
    "name": "ipython",
    "version": 3
   },
   "file_extension": ".py",
   "mimetype": "text/x-python",
   "name": "python",
   "nbconvert_exporter": "python",
   "pygments_lexer": "ipython3",
   "version": "3.8.10"
  }
 },
 "nbformat": 4,
 "nbformat_minor": 4
}
