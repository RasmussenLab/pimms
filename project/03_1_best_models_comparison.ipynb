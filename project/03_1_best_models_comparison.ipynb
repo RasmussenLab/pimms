{
 "cells": [
  {
   "cell_type": "code",
   "execution_count": null,
   "metadata": {},
   "outputs": [],
   "source": [
    "import logging\n",
    "from pathlib import Path\n",
    "\n",
    "import matplotlib.pyplot as plt\n",
    "import pandas as pd\n",
    "import seaborn as sns\n",
    "\n",
    "import vaep.nb\n",
    "import vaep.pandas\n",
    "import vaep.plotting\n",
    "from vaep.logging import setup_logger\n",
    "\n",
    "logger = setup_logger(logger=logging.getLogger('vaep'), level=10)\n",
    "\n",
    "plt.rcParams['figure.figsize'] = [4.0, 2.0]\n",
    "vaep.plotting.make_large_descriptors(7)"
   ]
  },
  {
   "cell_type": "code",
   "execution_count": null,
   "metadata": {},
   "outputs": [],
   "source": [
    "IDX = [['proteinGroups', 'peptides', 'evidence'],\n",
    "       ['CF', 'DAE', 'VAE']]\n",
    "\n",
    "REPITITION_NAME = snakemake.params.repitition_name  # 'dataset', 'repeat'\n",
    "\n",
    "metrics_fname = Path(snakemake.input.metrics)\n",
    "metrics_fname"
   ]
  },
  {
   "cell_type": "code",
   "execution_count": null,
   "metadata": {},
   "outputs": [],
   "source": [
    "FOLDER = metrics_fname.parent\n",
    "FOLDER"
   ]
  },
  {
   "cell_type": "code",
   "execution_count": null,
   "metadata": {},
   "outputs": [],
   "source": [
    "metrics = pd.read_pickle(metrics_fname)\n",
    "metrics"
   ]
  },
  {
   "cell_type": "code",
   "execution_count": null,
   "metadata": {},
   "outputs": [],
   "source": [
    "fname = FOLDER / \"model_performance_repeated_runs.xlsx\"\n",
    "writer = pd.ExcelWriter(fname)"
   ]
  },
  {
   "cell_type": "code",
   "execution_count": null,
   "id": "3def68ba",
   "metadata": {},
   "outputs": [],
   "source": [
    "split = 'test_fake_na'\n",
    "selected = metrics.loc[pd.IndexSlice[\n",
    "    split,\n",
    "    :, :]].stack()\n",
    "selected"
   ]
  },
  {
   "cell_type": "code",
   "execution_count": null,
   "id": "0133f707",
   "metadata": {},
   "outputs": [],
   "source": [
    "min_max_MAE = (selected\n",
    "               .loc[pd.IndexSlice[:, 'MAE', :]]\n",
    "               .groupby('model')\n",
    "               .agg(['min', 'max'])\n",
    "               .stack()\n",
    "               .T\n",
    "               .loc[IDX[0]])\n",
    "min_max_MAE.to_excel(writer, sheet_name='min_max_MAE')\n",
    "min_max_MAE"
   ]
  },
  {
   "cell_type": "code",
   "execution_count": null,
   "metadata": {},
   "outputs": [],
   "source": [
    "to_plot = selected.loc[pd.IndexSlice[:, 'MAE', :]]\n",
    "to_plot = to_plot.stack().unstack(\n",
    "    REPITITION_NAME).T.describe().loc[['mean', 'std']].T.unstack(0)\n",
    "to_plot = to_plot.loc[IDX[0], pd.IndexSlice[:, IDX[1]]]\n",
    "to_plot"
   ]
  },
  {
   "cell_type": "code",
   "execution_count": null,
   "metadata": {},
   "outputs": [],
   "source": [
    "logger.setLevel(20)  # reset debug\n",
    "ax = to_plot['mean'].plot.bar(rot=0,\n",
    "                              width=.8,\n",
    "                              color=vaep.plotting.defaults.color_model_mapping,\n",
    "                              yerr=to_plot['std'])\n",
    "ax.set_xlabel('')"
   ]
  },
  {
   "cell_type": "code",
   "execution_count": null,
   "id": "6a23753c",
   "metadata": {
    "lines_to_next_cell": 2
   },
   "outputs": [],
   "source": [
    "to_dump = to_plot.swaplevel(1, 0, axis=1).sort_index(axis=1)\n",
    "to_dump.to_excel(writer, sheet_name='avg')\n",
    "fname = FOLDER / \"model_performance_repeated_runs_avg.csv\"\n",
    "to_dump.to_csv(fname)"
   ]
  },
  {
   "cell_type": "code",
   "execution_count": null,
   "metadata": {},
   "outputs": [],
   "source": [
    "selected = metrics.loc[pd.IndexSlice[\n",
    "    split,\n",
    "    :, 'MAE']].stack(1)\n",
    "view_long = (selected.stack()\n",
    "             .to_frame('MAE')\n",
    "             .reset_index())\n",
    "view_long"
   ]
  },
  {
   "cell_type": "code",
   "execution_count": null,
   "metadata": {},
   "outputs": [],
   "source": [
    "# individual points overlaid on bar plot:\n",
    "# seaborn 12.2\n",
    "# https://stackoverflow.com/a/69398767/9684872\n",
    "sns.set_theme(context='paper', )  # font_scale=.8)\n",
    "sns.set_style(\"whitegrid\")\n",
    "g = sns.catplot(x=\"data level\", y=\"MAE\", hue='model', data=view_long,\n",
    "                kind=\"bar\",\n",
    "                errorbar=\"ci\",  # ! 95% confidence interval bootstrapped (using 1000 draws by default)\n",
    "                edgecolor=\"black\",\n",
    "                errcolor=\"black\",\n",
    "                hue_order=IDX[1],\n",
    "                order=IDX[0],\n",
    "                palette=vaep.plotting.defaults.color_model_mapping,\n",
    "                alpha=0.9,\n",
    "                height=2,  # set the height of the figure\n",
    "                aspect=1.8  # set the aspect ratio of the figure\n",
    "                )\n",
    "\n",
    "# map data to stripplot\n",
    "g.map(sns.stripplot, 'data level', 'MAE', 'model',\n",
    "      hue_order=IDX[1], order=IDX[0],\n",
    "      palette=vaep.plotting.defaults.color_model_mapping,\n",
    "      dodge=True, alpha=1, ec='k', linewidth=1,\n",
    "      s=2)\n",
    "\n",
    "fig = g.figure\n",
    "ax = fig.get_axes()[0]\n",
    "_ = ax.set_xlabel('')"
   ]
  },
  {
   "cell_type": "code",
   "execution_count": null,
   "metadata": {},
   "outputs": [],
   "source": [
    "vaep.savefig(fig, FOLDER / \"model_performance_repeated_runs.pdf\", tight_layout=False)"
   ]
  },
  {
   "cell_type": "code",
   "execution_count": null,
   "id": "0813889a",
   "metadata": {},
   "outputs": [],
   "source": [
    "writer.close()"
   ]
  },
  {
   "cell_type": "code",
   "execution_count": null,
   "id": "831ac8cb",
   "metadata": {},
   "outputs": [],
   "source": []
  }
 ],
 "metadata": {
  "jupytext": {
   "formats": "ipynb,py:percent"
  },
  "kernelspec": {
   "display_name": "Python 3",
   "language": "python",
   "name": "python3"
  },
  "language_info": {
   "codemirror_mode": {
    "name": "ipython",
    "version": 3
   },
   "file_extension": ".py",
   "mimetype": "text/x-python",
   "name": "python",
   "nbconvert_exporter": "python",
   "pygments_lexer": "ipython3",
   "version": "3.8.13 (default, Mar 28 2022, 06:59:08) [MSC v.1916 64 bit (AMD64)]"
  },
  "vscode": {
   "interpreter": {
    "hash": "cf83e9cb890c7f96eb0ae04f39a82254555f56a1a0ed2f03b23a8b40fe6cd31c"
   }
  }
 },
 "nbformat": 4,
 "nbformat_minor": 4
}
