{
 "cells": [
  {
   "cell_type": "markdown",
   "id": "823351d5",
   "metadata": {},
   "source": [
    "# Selected files\n",
    "\n",
    "- document metadata and file sizes of published dataset in Scientific Data Report\n",
    "\n",
    "## Contents\n",
    "\n",
    "1. Number of files per instrument\n",
    "2. Rawfile sizes per instrument\n",
    "3. peptide - rawfile map (protein group, precursor)?\n",
    "    - based on selected samples"
   ]
  },
  {
   "cell_type": "code",
   "execution_count": null,
   "id": "123e3468",
   "metadata": {
    "lines_to_next_cell": 2
   },
   "outputs": [],
   "source": [
    "from pathlib import Path\n",
    "import pandas as pd"
   ]
  },
  {
   "cell_type": "markdown",
   "id": "6f7c2327",
   "metadata": {},
   "source": [
    "## PARAMETERS"
   ]
  },
  {
   "cell_type": "code",
   "execution_count": null,
   "id": "7e148b4a",
   "metadata": {},
   "outputs": [],
   "source": [
    "fn_id_old_new: str = 'data/rename/selected_old_new_id_mapping.csv'  # selected samples with pride and original id\n",
    "fn_raw_file_size: str = 'processed/all_raw_file_sizes.csv'  # raw file sizes\n",
    "fn_rawfile_metadata: str = 'data/rawfile_metadata.csv'\n",
    "fn_summaries: str = 'data/processed/all_summaries.json'\n",
    "date_col: str = 'Content Creation Date'\n",
    "out_folder: str = 'data/dev_datasets/pride_upload'"
   ]
  },
  {
   "cell_type": "markdown",
   "id": "5ff07632",
   "metadata": {},
   "source": [
    "## Prepare outputs"
   ]
  },
  {
   "cell_type": "code",
   "execution_count": null,
   "id": "14eedb3e",
   "metadata": {},
   "outputs": [],
   "source": [
    "out_folder = Path(out_folder)\n",
    "out_folder.mkdir(exist_ok=True)\n",
    "files_out = dict()"
   ]
  },
  {
   "cell_type": "markdown",
   "id": "9d43c889",
   "metadata": {},
   "source": [
    "## ID mapping\n",
    "\n",
    "- artefact of local vs pride data"
   ]
  },
  {
   "cell_type": "code",
   "execution_count": null,
   "id": "12762362",
   "metadata": {},
   "outputs": [],
   "source": [
    "df_ids = pd.read_csv(fn_id_old_new, index_col=0)\n",
    "df_ids"
   ]
  },
  {
   "cell_type": "code",
   "execution_count": null,
   "id": "d7b493f5",
   "metadata": {},
   "outputs": [],
   "source": [
    "df_ids.index.is_unique"
   ]
  },
  {
   "cell_type": "markdown",
   "id": "9defcf5a",
   "metadata": {},
   "source": [
    "## Raw file sizes"
   ]
  },
  {
   "cell_type": "code",
   "execution_count": null,
   "id": "fe25de60",
   "metadata": {},
   "outputs": [],
   "source": [
    "df_raw_file_size = pd.read_csv(fn_raw_file_size, index_col=0)\n",
    "df_raw_file_size"
   ]
  },
  {
   "cell_type": "code",
   "execution_count": null,
   "id": "c08a9411",
   "metadata": {},
   "outputs": [],
   "source": [
    "df_raw_file_size.index.is_unique"
   ]
  },
  {
   "cell_type": "code",
   "execution_count": null,
   "id": "36527734",
   "metadata": {},
   "outputs": [],
   "source": [
    "df_raw_file_size['path'] = df_raw_file_size['path'].apply(lambda x: Path(x).as_posix())\n",
    "df_raw_file_size = df_raw_file_size.reset_index().set_index('path')\n",
    "df_raw_file_size"
   ]
  },
  {
   "cell_type": "code",
   "execution_count": null,
   "id": "a8b484c0",
   "metadata": {},
   "outputs": [],
   "source": [
    "df_raw_file_size = df_raw_file_size.loc[df_ids['Path_old'].str[2:].to_list()]\n",
    "df_raw_file_size"
   ]
  },
  {
   "cell_type": "code",
   "execution_count": null,
   "id": "6f0ac8b4",
   "metadata": {},
   "outputs": [],
   "source": [
    "df_raw_file_size = df_raw_file_size.reset_index().set_index('name')"
   ]
  },
  {
   "cell_type": "markdown",
   "id": "6d63ff8a",
   "metadata": {},
   "source": [
    "## Raw file metadata extracted from ThermoRawFileParser"
   ]
  },
  {
   "cell_type": "code",
   "execution_count": null,
   "id": "1fab8bf8",
   "metadata": {},
   "outputs": [],
   "source": [
    "df_meta = pd.read_csv(fn_rawfile_metadata, header=[0, 1], index_col=0, low_memory=False)\n",
    "assert df_meta.index.is_unique\n",
    "df_meta"
   ]
  },
  {
   "cell_type": "code",
   "execution_count": null,
   "id": "476ecb97",
   "metadata": {},
   "outputs": [],
   "source": [
    "df_meta = df_meta.loc[df_ids.index]\n",
    "df_meta.columns = df_meta.columns.droplevel()  # remove top level name\n",
    "df_meta"
   ]
  },
  {
   "cell_type": "markdown",
   "id": "a97c9046",
   "metadata": {},
   "source": [
    "## Summary files from MaxQuant search"
   ]
  },
  {
   "cell_type": "code",
   "execution_count": null,
   "id": "11a6f39c",
   "metadata": {},
   "outputs": [],
   "source": [
    "df_summaries = pd.read_json(fn_summaries, orient='index')\n",
    "assert df_summaries.index.is_unique\n",
    "df_summaries = df_summaries.loc[df_meta.index]\n",
    "df_summaries"
   ]
  },
  {
   "cell_type": "markdown",
   "id": "934fca92",
   "metadata": {},
   "source": [
    "# Combine data and dump"
   ]
  },
  {
   "cell_type": "code",
   "execution_count": null,
   "id": "63e0cf03",
   "metadata": {},
   "outputs": [],
   "source": [
    "df_meta = (df_ids\n",
    "           .join(df_raw_file_size)\n",
    "           .join(df_meta)\n",
    "           .join(df_summaries)\n",
    "           )\n",
    "df_meta"
   ]
  },
  {
   "cell_type": "code",
   "execution_count": null,
   "id": "febfc785",
   "metadata": {},
   "outputs": [],
   "source": [
    "df_meta = df_meta.set_index('new_sample_id')\n",
    "df_meta.index.name = 'Sample ID'"
   ]
  },
  {
   "cell_type": "code",
   "execution_count": null,
   "id": "ee5caddf",
   "metadata": {},
   "outputs": [],
   "source": [
    "df_meta = (df_meta\n",
    "           .drop(['Path_old', 'Pathname', 'path'], axis=1)\n",
    "           .rename({'Path_new': 'Pathname'}, axis=1)\n",
    "           .dropna(how='all', axis=1)\n",
    "           .convert_dtypes()\n",
    "           .assign(**{date_col: lambda df_meta: pd.to_datetime(df_meta[date_col])})\n",
    "           )\n",
    "df_meta"
   ]
  },
  {
   "cell_type": "markdown",
   "id": "99fc9713",
   "metadata": {},
   "source": [
    "Save curated data for dumped files"
   ]
  },
  {
   "cell_type": "code",
   "execution_count": null,
   "id": "717eb728",
   "metadata": {},
   "outputs": [],
   "source": [
    "fname = out_folder / 'pride_metadata.csv'\n",
    "files_out[fname.name] = fname.as_posix()\n",
    "df_meta.to_csv(fname)\n",
    "\n",
    "fname = out_folder / 'pride_metadata_schema.json'\n",
    "files_out[fname.name] = fname.as_posix()\n",
    "df_meta.dtypes.astype('string').to_json(fname)"
   ]
  },
  {
   "cell_type": "markdown",
   "id": "a68385fe",
   "metadata": {},
   "source": [
    "# Analysis"
   ]
  },
  {
   "cell_type": "markdown",
   "id": "01760dca",
   "metadata": {},
   "source": [
    "How to load dumped file"
   ]
  },
  {
   "cell_type": "code",
   "execution_count": null,
   "id": "9a7c801e",
   "metadata": {
    "lines_to_next_cell": 2
   },
   "outputs": [],
   "source": [
    "dtypes = pd.read_json(\n",
    "    files_out['pride_metadata_schema.json'],\n",
    "    orient='index'\n",
    ").squeeze()\n",
    "mask_dates = dtypes.str.contains('datetime')  # date columns need to be provide separately\n",
    "pd.read_csv(files_out['pride_metadata.csv'],\n",
    "            parse_dates=mask_dates.loc[mask_dates].index.to_list(),\n",
    "            dtype=dtypes.loc[~mask_dates].to_dict()\n",
    "            ).dtypes"
   ]
  },
  {
   "cell_type": "code",
   "execution_count": null,
   "id": "566cf8b6",
   "metadata": {},
   "outputs": [],
   "source": [
    "files_out"
   ]
  },
  {
   "cell_type": "code",
   "execution_count": null,
   "id": "67d001a5",
   "metadata": {},
   "outputs": [],
   "source": []
  }
 ],
 "metadata": {
  "kernelspec": {
   "display_name": "Python 3",
   "language": "python",
   "name": "python3"
  }
 },
 "nbformat": 4,
 "nbformat_minor": 5
}
