{
 "cells": [
  {
   "cell_type": "code",
   "execution_count": null,
   "metadata": {},
   "outputs": [],
   "source": [
    "import json\n",
    "from pathlib import Path\n",
    "import pandas as pd\n",
    "\n",
    "import matplotlib.pyplot as plt\n",
    "import seaborn as sns\n",
    "\n",
    "import vaep.pandas\n",
    "import vaep.nb\n",
    "\n",
    "import logging\n",
    "from vaep.logging import setup_logger\n",
    "logger = setup_logger(logger=logging.getLogger('vaep'), level=10)\n",
    "\n",
    "sns.set_theme()\n",
    "\n",
    "plt.rcParams['figure.figsize'] = [16.0, 7.0]"
   ]
  },
  {
   "cell_type": "code",
   "execution_count": null,
   "metadata": {
    "lines_to_next_cell": 1
   },
   "outputs": [],
   "source": [
    "IDX =[['proteinGroups', 'aggPeptides', 'evidence'],\n",
    "      ['median', 'interpolated', 'collab', 'DAE', 'VAE']]\n",
    "\n",
    "REPITITION_NAME = snakemake.params.repitition_name # 'dataset', 'repeat'\n",
    "\n",
    "metrics_fname = Path(snakemake.input.metrics)"
   ]
  },
  {
   "cell_type": "code",
   "execution_count": null,
   "metadata": {},
   "outputs": [],
   "source": [
    "FOLDER = metrics_fname.parent\n",
    "FOLDER"
   ]
  },
  {
   "cell_type": "code",
   "execution_count": null,
   "metadata": {},
   "outputs": [],
   "source": [
    "metrics = pd.read_pickle(metrics_fname)\n",
    "metrics"
   ]
  },
  {
   "cell_type": "code",
   "execution_count": null,
   "metadata": {},
   "outputs": [],
   "source": [
    "level, split = 'NA interpolated', 'valid_fake_na'\n",
    "selected = metrics.loc[pd.IndexSlice[level,\n",
    "                          split,\n",
    "                          :, :]].stack()\n",
    "selected"
   ]
  },
  {
   "cell_type": "code",
   "execution_count": null,
   "metadata": {},
   "outputs": [],
   "source": [
    "to_plot = selected.loc[level].loc[split].loc[pd.IndexSlice[:,'MAE',:]]\n",
    "to_plot = to_plot.stack().unstack(REPITITION_NAME).T.describe().loc[['mean','std']].T.unstack(0)\n",
    "to_plot = to_plot.loc[IDX[0], pd.IndexSlice[:, IDX[1]]]\n",
    "to_plot.to_csv(FOLDER/ \"model_performance_repeated_runs_avg.csv\")\n",
    "to_plot.to_excel(FOLDER/ \"model_performance_repeated_runs_avg.xlsx\")\n",
    "to_plot"
   ]
  },
  {
   "cell_type": "code",
   "execution_count": null,
   "metadata": {},
   "outputs": [],
   "source": [
    "logger.setLevel(20) # reset debug\n",
    "ax = to_plot['mean'].plot.bar(rot=0, width=.8, yerr=to_plot['std'])"
   ]
  },
  {
   "cell_type": "code",
   "execution_count": null,
   "metadata": {},
   "outputs": [],
   "source": [
    "level, split = 'NA interpolated', 'valid_fake_na'\n",
    "selected = metrics.loc[pd.IndexSlice[level,\n",
    "                          split,\n",
    "                          :, 'MAE']].stack(1)\n",
    "selected.index.names = ('x', 'split', 'model', 'metric', REPITITION_NAME)\n",
    "selected.stack().to_frame('MAE').reset_index()"
   ]
  },
  {
   "cell_type": "code",
   "execution_count": null,
   "metadata": {},
   "outputs": [],
   "source": [
    "fig = sns.barplot(x='data level',\n",
    "            y='MAE',\n",
    "            hue='model',\n",
    "            order = IDX[0],\n",
    "            ci=95,\n",
    "            data=selected.stack().to_frame('MAE').reset_index())\n",
    "fig = ax.get_figure()"
   ]
  },
  {
   "cell_type": "code",
   "execution_count": null,
   "metadata": {},
   "outputs": [],
   "source": [
    "vaep.savefig(fig, FOLDER/ \"model_performance_repeated_runs.pdf\" )"
   ]
  }
 ],
 "metadata": {
  "jupytext": {
   "formats": "ipynb,py:percent"
  },
  "kernelspec": {
   "display_name": "Python 3",
   "language": "python",
   "name": "python3"
  },
  "language_info": {
   "codemirror_mode": {
    "name": "ipython",
    "version": 3
   },
   "file_extension": ".py",
   "mimetype": "text/x-python",
   "name": "python",
   "nbconvert_exporter": "python",
   "pygments_lexer": "ipython3",
   "version": "3.8.13"
  },
  "vscode": {
   "interpreter": {
    "hash": "cf83e9cb890c7f96eb0ae04f39a82254555f56a1a0ed2f03b23a8b40fe6cd31c"
   }
  }
 },
 "nbformat": 4,
 "nbformat_minor": 4
}
