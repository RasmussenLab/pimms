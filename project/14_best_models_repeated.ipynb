{
 "cells": [
  {
   "cell_type": "code",
   "execution_count": null,
   "metadata": {},
   "outputs": [],
   "source": [
    "import json\n",
    "from pathlib import Path\n",
    "import pandas as pd\n",
    "\n",
    "import matplotlib.pyplot as plt\n",
    "import seaborn as sns\n",
    "\n",
    "import vaep.pandas\n",
    "import vaep.nb\n",
    "\n",
    "import logging\n",
    "from vaep.logging import setup_logger\n",
    "logger = setup_logger(logger=logging.getLogger('vaep'))\n",
    "\n",
    "sns.set_theme()\n",
    "\n",
    "plt.rcParams['figure.figsize'] = [16.0, 7.0]"
   ]
  },
  {
   "cell_type": "code",
   "execution_count": null,
   "metadata": {},
   "outputs": [],
   "source": [
    "IDX =[['proteinGroups', 'aggPeptides', 'evidence'],\n",
    "      ['median', 'interpolated', 'collab', 'DAE', 'VAE']]"
   ]
  },
  {
   "cell_type": "code",
   "execution_count": null,
   "metadata": {},
   "outputs": [],
   "source": [
    "def select_content(s:str):\n",
    "    s = s.split('metrics_')[1]\n",
    "    assert isinstance(s, str), f\"More than one split: {s}\"\n",
    "    model, repeat = s.split('_')\n",
    "    return model, int(repeat)\n",
    "    \n",
    "test_cases = ['model_metrics_DAE_0',\n",
    "              'model_metrics_VAE_3',\n",
    "              'model_metrics_collab_2']\n",
    " \n",
    "for test_case in test_cases:\n",
    "    print(f\"{test_case} = {select_content(test_case)}\")"
   ]
  },
  {
   "cell_type": "code",
   "execution_count": null,
   "metadata": {},
   "outputs": [],
   "source": [
    "all_metrics = {}\n",
    "for fname in snakemake.input.metrics:\n",
    "    fname = Path(fname)\n",
    "    logger.info(f\"Load file: {fname = }\")\n",
    "    model, repeat = select_content(fname.stem)\n",
    "    # key = f\"{fname.parents[1].name}_{model}_{repeat}\"\n",
    "    key = (fname.parents[1].name, repeat)\n",
    "    # if key in all_metrics:\n",
    "    #     raise KeyError(f\"Key already in use: {key}\")\n",
    "        \n",
    "    logger.debug(f\"{key = }\")\n",
    "    with open(fname) as f:\n",
    "        loaded = json.load(f)\n",
    "    loaded = vaep.pandas.flatten_dict_of_dicts(loaded)\n",
    "    # all_metrics[key] = loaded\n",
    "    if key not in all_metrics:\n",
    "        all_metrics[key] = loaded\n",
    "        continue\n",
    "    for k, v in loaded.items():\n",
    "        if k in all_metrics[key]:\n",
    "            logger.debug(f\"Found existing key: {k = } \")\n",
    "            assert all_metrics[key][k] == v, \"Diverging values for {k}: {v1} vs {v2}\".format(\n",
    "                k=k,\n",
    "                v1=all_metrics[key][k],\n",
    "                v2=v)\n",
    "        else:\n",
    "            all_metrics[key][k] = v\n",
    "        # raise ValueError()\n",
    "metrics = pd.DataFrame(all_metrics).T\n",
    "metrics.index.names = ('data level', 'repeat')\n",
    "metrics"
   ]
  },
  {
   "cell_type": "code",
   "execution_count": null,
   "metadata": {},
   "outputs": [],
   "source": [
    "FOLDER = fname.parent.parent.parent\n",
    "FOLDER"
   ]
  },
  {
   "cell_type": "code",
   "execution_count": null,
   "metadata": {},
   "outputs": [],
   "source": [
    "metrics = metrics.T.sort_index().loc[pd.IndexSlice[['NA interpolated', 'NA not interpolated'],\n",
    "                                         ['valid_fake_na', 'test_fake_na'],\n",
    "                                         ['median', 'interpolated', 'collab', 'DAE', 'VAE'],\n",
    "                                         :]]\n",
    "metrics.to_csv(FOLDER/ \"metrics.csv\")\n",
    "metrics.to_excel(FOLDER/ \"metrics.xlsx\")\n",
    "metrics"
   ]
  },
  {
   "cell_type": "code",
   "execution_count": null,
   "metadata": {},
   "outputs": [],
   "source": [
    "level, split = 'NA interpolated', 'valid_fake_na'\n",
    "selected = metrics.loc[pd.IndexSlice[level,\n",
    "                          split,\n",
    "                          :, :]].stack()\n",
    "selected"
   ]
  },
  {
   "cell_type": "code",
   "execution_count": null,
   "metadata": {},
   "outputs": [],
   "source": [
    "to_plot = selected.loc[level].loc[split].loc[pd.IndexSlice[:,'MAE',:]]\n",
    "to_plot = to_plot.stack().unstack('repeat').T.describe().loc[['mean','std']].T.unstack(0)\n",
    "to_plot = to_plot.loc[IDX[0], pd.IndexSlice[:, IDX[1]]]\n",
    "to_plot.to_csv(FOLDER/ \"model_performance_repeated_runs_avg.csv\")\n",
    "to_plot.to_excel(FOLDER/ \"model_performance_repeated_runs_avg.xlsx\")\n",
    "to_plot"
   ]
  },
  {
   "cell_type": "code",
   "execution_count": null,
   "metadata": {},
   "outputs": [],
   "source": [
    "ax = to_plot['mean'].plot.bar(rot=0, width=.8, yerr=to_plot['std'])"
   ]
  },
  {
   "cell_type": "code",
   "execution_count": null,
   "metadata": {},
   "outputs": [],
   "source": [
    "level, split = 'NA interpolated', 'valid_fake_na'\n",
    "selected = metrics.loc[pd.IndexSlice[level,\n",
    "                          split,\n",
    "                          :, 'MAE']].stack(1)\n",
    "selected.index.names = ('x', 'split', 'model', 'metric', 'repeat')\n",
    "# # selected.reset_index()\n",
    "selected.stack().to_frame('MAE').reset_index()"
   ]
  },
  {
   "cell_type": "code",
   "execution_count": null,
   "metadata": {},
   "outputs": [],
   "source": [
    "fig = sns.barplot(x='data level',\n",
    "            y='MAE',\n",
    "            hue='model',\n",
    "            order = IDX[0],\n",
    "            ci=95,\n",
    "            data=selected.stack().to_frame('MAE').reset_index())\n",
    "fig = ax.get_figure()"
   ]
  },
  {
   "cell_type": "code",
   "execution_count": null,
   "metadata": {},
   "outputs": [],
   "source": [
    "vaep.savefig(fig, FOLDER/ \"model_performance_repeated_runs.pdf\" )"
   ]
  },
  {
   "cell_type": "code",
   "execution_count": null,
   "metadata": {},
   "outputs": [],
   "source": []
  }
 ],
 "metadata": {
  "jupytext": {
   "formats": "ipynb,py:percent"
  },
  "kernelspec": {
   "display_name": "Python 3",
   "language": "python",
   "name": "python3"
  },
  "language_info": {
   "codemirror_mode": {
    "name": "ipython",
    "version": 3
   },
   "file_extension": ".py",
   "mimetype": "text/x-python",
   "name": "python",
   "nbconvert_exporter": "python",
   "pygments_lexer": "ipython3",
   "version": "3.8.13"
  },
  "vscode": {
   "interpreter": {
    "hash": "cf83e9cb890c7f96eb0ae04f39a82254555f56a1a0ed2f03b23a8b40fe6cd31c"
   }
  }
 },
 "nbformat": 4,
 "nbformat_minor": 4
}
