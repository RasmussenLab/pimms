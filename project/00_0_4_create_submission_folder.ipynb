{
 "cells": [
  {
   "cell_type": "markdown",
   "id": "5466db14",
   "metadata": {
    "lines_to_next_cell": 2
   },
   "source": [
    "# Submission file"
   ]
  },
  {
   "cell_type": "code",
   "execution_count": null,
   "id": "74dcae2a",
   "metadata": {
    "lines_to_next_cell": 2
   },
   "outputs": [],
   "source": [
    "import pandas as pd\n",
    "import numpy as np\n",
    "from collections import defaultdict\n",
    "from pathlib import Path, PurePosixPath"
   ]
  },
  {
   "cell_type": "code",
   "execution_count": null,
   "id": "5e780185",
   "metadata": {},
   "outputs": [],
   "source": [
    "# Parameters\n",
    "FOLDER = Path('data/rename')"
   ]
  },
  {
   "cell_type": "code",
   "execution_count": null,
   "id": "b5c99d62",
   "metadata": {},
   "outputs": [],
   "source": [
    "file = FOLDER / 'files_on_pride.log'\n",
    "# file = FOLDER / 'files_pride_server_toplevel.log'"
   ]
  },
  {
   "cell_type": "code",
   "execution_count": null,
   "id": "2f71d21a",
   "metadata": {},
   "outputs": [],
   "source": [
    "counts = defaultdict(int)\n",
    "with open(file) as f:\n",
    "    for line in f:\n",
    "        fname = line.strip()\n",
    "        suffix = PurePosixPath(fname).suffix\n",
    "        counts[suffix] += 1\n",
    "dict(counts)"
   ]
  },
  {
   "cell_type": "markdown",
   "id": "2f18e74e",
   "metadata": {},
   "source": [
    "Only create a few files for creation a submission.px template...\n",
    "\n",
    "# %%\n",
    "SUBMISSON_FOLDER = Path('data/rename/submission')\n",
    "SUBMISSON_FOLDER.mkdir(exist_ok=True)\n",
    "with open(file) as f:\n",
    "    hash = 'placeholder'\n",
    "    for line in f:\n",
    "        # fname = line.strip().split()\n",
    "        fname = line.strip()\n",
    "        fname = PurePosixPath(fname).name\n",
    "        with open(SUBMISSON_FOLDER / fname, 'w') as f_out:\n",
    "            f_out.write(f'{hash}  {fname}')\n",
    "# %%\n",
    "files = list(SUBMISSON_FOLDER.iterdir())\n",
    "print(f\"{len(files) = :,d}\")"
   ]
  },
  {
   "cell_type": "markdown",
   "id": "80f86e6a",
   "metadata": {},
   "source": [
    "7444 raw files\n",
    "7444 zip files with MaxQuant results\n",
    "3 zip files with aggregated MaxQuant results\n",
    "1 SDRF file as tsv\n",
    "2 csv files with metadata of the raw files and the MaxQuant results summaries"
   ]
  },
  {
   "cell_type": "code",
   "execution_count": null,
   "id": "91903d5e",
   "metadata": {},
   "outputs": [],
   "source": [
    "# len(files) == 7444*2 + 6  # expected number of files"
   ]
  },
  {
   "cell_type": "markdown",
   "id": "64114469",
   "metadata": {},
   "source": [
    "This was not really necessary..."
   ]
  },
  {
   "cell_type": "code",
   "execution_count": null,
   "id": "5d8ccc0f",
   "metadata": {},
   "outputs": [],
   "source": [
    "file_types = {'.zip': 'SEARCH',\n",
    "              '.raw': 'RAW',\n",
    "              '.csv': 'SEARCH',\n",
    "              '.tsv': 'EXPERIMENTAL_DESIGN'}"
   ]
  },
  {
   "cell_type": "code",
   "execution_count": null,
   "id": "92389c3b",
   "metadata": {
    "lines_to_next_cell": 0
   },
   "outputs": [],
   "source": [
    "files = pd.DataFrame(columns='FMH\tfile_id\tfile_type\tfile_path\tfile_mapping'.split('\\t'))\n",
    "files['file_path'] = pd.read_csv(file, header=None)\n",
    "files['FMH'] = 'FMH'\n",
    "files['file_id'] = files.index\n",
    "files['file_type'] = files['file_path'].map(lambda x: file_types[Path(x).suffix])\n",
    "files['file_mapping'] = files['file_id'] - 1\n",
    "files.loc[\n",
    "    files['file_type'] != 'SEARCH', 'file_mapping'] = np.nan\n",
    "files = files.astype({'file_id': int, 'file_mapping': pd.Int32Dtype()})\n",
    "files"
   ]
  },
  {
   "cell_type": "code",
   "execution_count": null,
   "id": "249d011d",
   "metadata": {
    "lines_to_next_cell": 0
   },
   "outputs": [],
   "source": [
    "files.to_csv(FOLDER / 'submiss.px_to_add.tsv', sep='\\t', index=False)"
   ]
  },
  {
   "cell_type": "markdown",
   "id": "9107e219",
   "metadata": {},
   "source": [
    "Some manuel adding of the last files still required..."
   ]
  }
 ],
 "metadata": {
  "jupytext": {
   "cell_metadata_filter": "-all",
   "main_language": "python",
   "notebook_metadata_filter": "-all"
  }
 },
 "nbformat": 4,
 "nbformat_minor": 5
}
