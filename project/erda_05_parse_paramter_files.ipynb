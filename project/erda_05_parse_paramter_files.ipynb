{
 "cells": [
  {
   "cell_type": "markdown",
   "id": "368f6451-9bec-4ca6-9921-c5ab69c23153",
   "metadata": {},
   "source": [
    "# Parse parameter files"
   ]
  },
  {
   "cell_type": "code",
   "execution_count": null,
   "id": "3c3a8745-20e5-4353-a3d6-950a3bc1dd6c",
   "metadata": {
    "tags": []
   },
   "outputs": [],
   "source": [
    "from pprint import pprint\n",
    "import collections\n",
    "from pathlib import Path\n",
    "from tqdm.notebook import tqdm\n",
    "\n",
    "import pandas as pd"
   ]
  },
  {
   "cell_type": "code",
   "execution_count": null,
   "id": "92c20a10-a814-4a50-8186-d05fa1e14498",
   "metadata": {
    "tags": []
   },
   "outputs": [],
   "source": [
    "import logging\n",
    "\n",
    "import xml.etree.ElementTree as ET\n",
    "\n",
    "logger = logging.getLogger()\n",
    "\n",
    "test_file = 'data/mqpar_example.xml'"
   ]
  },
  {
   "cell_type": "code",
   "execution_count": null,
   "id": "e1645c86-7799-46db-92cd-cd5157cd11d8",
   "metadata": {
    "tags": []
   },
   "outputs": [],
   "source": [
    "def extend_tuple(t, target_length: int):\n",
    "    if not isinstance(t, tuple):\n",
    "        raise TypeError(\n",
    "            f\"Wrong type provided. Expected tuple, got {type(t)} : {t!r}\")\n",
    "    if len(t) > target_length:\n",
    "        raise ValueError(\n",
    "            f\"Tuple is too long (got {len(t)}, expected {target_length}: {t!r}\")\n",
    "    return t + (None,) * (target_length - len(t))\n",
    "# extend_tuple(\"test\", 4)\n",
    "# extend_tuple(('k1', 'k2'), 1)"
   ]
  },
  {
   "cell_type": "code",
   "execution_count": null,
   "id": "4341046b-13d2-49c5-924c-a73fd9f366d1",
   "metadata": {
    "tags": []
   },
   "outputs": [],
   "source": [
    "def extend_tuples_with_none(list_of_tuples, target_length):\n",
    "    extended_tuples = []\n",
    "    for tuple_ in list_of_tuples:\n",
    "        # if len(tuple_) > target_length:\n",
    "        #     raise ValueError(f\"tuple is too long: {len(tuple_)}\")\n",
    "        extended_tuple = extend_tuple(tuple_, target_length)\n",
    "        extended_tuples.append(extended_tuple)\n",
    "    return extended_tuples\n",
    "\n",
    "\n",
    "list_of_tuples = [(1, 2), (3, 4, 5), (6,)]\n",
    "extend_tuples_with_none(list_of_tuples, 3)"
   ]
  },
  {
   "cell_type": "code",
   "execution_count": null,
   "id": "8691214b-65a1-4c27-92d7-f927dbac61bf",
   "metadata": {
    "tags": []
   },
   "outputs": [],
   "source": [
    "\n",
    "\n",
    "def add_record(data, tag, record):\n",
    "    if tag in data:\n",
    "        if isinstance(data[tag], list):\n",
    "            data[tag].append(record)\n",
    "        else:\n",
    "            data[tag] = [data[tag], record]\n",
    "    else:\n",
    "        data[tag] = record\n",
    "    return data\n",
    "\n",
    "\n",
    "def read_xml_record(element):\n",
    "    data = dict()\n",
    "    for child in element:\n",
    "        if len(child) > 1 and child.tag:\n",
    "            # if there is a list, process each element one by one\n",
    "            # either nested or a plain text\n",
    "            data[child.tag] = [add_record(dict(), tag=child.tag, record=read_xml_record(child) if not (\n",
    "                child.text and child.text.strip()) else child.text.strip()) for child in child]\n",
    "        elif child.text and child.text.strip():\n",
    "            # just plain text record\n",
    "            data = add_record(data=data, tag=child.tag,\n",
    "                              record=child.text.strip())\n",
    "        else:\n",
    "            record = read_xml_record(child)\n",
    "            data = add_record(data, child.tag, record)\n",
    "    if not data:\n",
    "        # empty strings and None are normalzied to None\n",
    "        return None\n",
    "    return data\n",
    "\n",
    "\n",
    "tree = ET.parse(test_file)\n",
    "root = tree.getroot()\n",
    "\n",
    "record_example = read_xml_record(root)\n",
    "record_example"
   ]
  },
  {
   "cell_type": "code",
   "execution_count": null,
   "id": "10f3103a-8133-4d01-9c6a-efcc75d85295",
   "metadata": {
    "tags": []
   },
   "outputs": [],
   "source": [
    "\n",
    "\n",
    "def flatten_dict_of_dicts(d: dict, parent_key: str = '') -> dict:\n",
    "    \"\"\"Build tuples for nested dictionaries for use as `pandas.MultiIndex`.\n",
    "\n",
    "    Parameters\n",
    "    ----------\n",
    "    d : dict\n",
    "        Nested dictionary for which all keys are flattened to tuples.\n",
    "    parent_key : str, optional\n",
    "        Outer key (used for recursion), by default ''\n",
    "\n",
    "    Returns\n",
    "    -------\n",
    "    dict\n",
    "        Flattend dictionary with tuple keys: {(outer_key, ..., inner_key) : value}\n",
    "    \"\"\"\n",
    "    # simplified and adapted from: https://stackoverflow.com/a/6027615/9684872\n",
    "    items = []\n",
    "    for k, v in d.items():\n",
    "        new_key = parent_key + (k,) if parent_key else (k,)\n",
    "        if isinstance(v, collections.abc.MutableMapping):\n",
    "            items.extend(flatten_dict_of_dicts(v, parent_key=new_key))\n",
    "        elif isinstance(v, list):\n",
    "            for item in v:\n",
    "                if isinstance(item, collections.abc.MutableMapping):\n",
    "                    items.extend(flatten_dict_of_dicts(\n",
    "                        item, parent_key=new_key))\n",
    "                elif isinstance(item, str):\n",
    "                    items.append((new_key, item))\n",
    "                else:\n",
    "                    raise ValueError(f\"Unknown item: {item:r}\")\n",
    "        else:\n",
    "            items.append((new_key, v))\n",
    "    return items\n",
    "\n",
    "\n",
    "case_1 = {'k': 'v'}\n",
    "case_2 = {'k1': {'k2': 'v1', 'k3': 'v2'}}\n",
    "case_3 = {'k1': {'k2': [{'k4': 'v1'}, {'k4': 'v2'}]}}\n",
    "case_4 = {'k1': [{'k2': {'k4': 'v1', 'k5': 'v2'}},\n",
    "                 {'k2': {'k4': 'v1', 'k5': 'v2'}}]}\n",
    "case_5 = {'restrictMods': [{'string': 'Oxidation (M)'},\n",
    "                           {'string': 'Acetyl (Protein N-term)'}]}\n",
    "case_6 = {'variableModifications': {\n",
    "    'string': ['Oxidation (M)',\n",
    "               'Acetyl (Protein N-term)']}}\n",
    "\n",
    "test_cases = [case_1, case_2, case_3, case_4, case_5, case_6]\n",
    "\n",
    "for case in (test_cases):\n",
    "    pprint(flatten_dict_of_dicts(case))"
   ]
  },
  {
   "cell_type": "code",
   "execution_count": null,
   "id": "c8e19d55-d012-44be-8869-0271e16a7093",
   "metadata": {
    "tags": []
   },
   "outputs": [],
   "source": [
    "entries = list()\n",
    "for case in test_cases:\n",
    "    entries.extend(flatten_dict_of_dicts(case))\n",
    "[(extend_tuple(k, 4), v) for (k, v) in entries]"
   ]
  },
  {
   "cell_type": "code",
   "execution_count": null,
   "id": "76092ebb-e31e-4bf2-b350-090c51d1e1bc",
   "metadata": {
    "tags": []
   },
   "outputs": [],
   "source": [
    "def build_Series_from_records(records, index_length=4):\n",
    "    records = flatten_dict_of_dicts(records)\n",
    "    idx = pd.MultiIndex.from_tuples(\n",
    "        (extend_tuple(k, index_length) for (k, v) in records))\n",
    "    return pd.Series((v for (k, v) in records), index=idx)\n",
    "\n",
    "\n",
    "tree = ET.parse(test_file)\n",
    "root = tree.getroot()\n",
    "\n",
    "record_example = read_xml_record(root)\n",
    "flattend = build_Series_from_records(record_example, 4)\n",
    "flattend.to_frame('example')"
   ]
  },
  {
   "cell_type": "markdown",
   "id": "e63a712a-a6e8-46dc-befc-bc6a98a6a153",
   "metadata": {},
   "source": [
    "## Parameters"
   ]
  },
  {
   "cell_type": "code",
   "execution_count": null,
   "id": "e718825e-428a-4d99-81e6-03cce50da2fc",
   "metadata": {
    "tags": []
   },
   "outputs": [],
   "source": [
    "# folders to check\n",
    "folder_w_params = Path('/home/jovyan/work/mqpar_files')\n",
    "root = Path('/home/jovyan/work/')\n",
    "dumped_folder = 'mq_out'\n",
    "dumped_folder_names = 'mq_out_folder.txt'\n",
    "# out\n",
    "fname_out = 'data/all_parameter_files.csv'"
   ]
  },
  {
   "cell_type": "markdown",
   "id": "891ee5ec-03a2-4d66-845b-a2938c9018f7",
   "metadata": {},
   "source": [
    "## Dump of some parameter files"
   ]
  },
  {
   "cell_type": "code",
   "execution_count": null,
   "id": "fbdc4c32-9995-43ae-aff3-9b6358cf9ea2",
   "metadata": {
    "tags": []
   },
   "outputs": [],
   "source": [
    "def read_file(file, name, idx_levels=4) -> pd.Series:\n",
    "    tree = ET.parse(file)\n",
    "    root = tree.getroot()\n",
    "    record = read_xml_record(root)\n",
    "    s = build_Series_from_records(record, idx_levels)\n",
    "    s.name = name\n",
    "    return s"
   ]
  },
  {
   "cell_type": "code",
   "execution_count": null,
   "id": "c779378e-8b0c-440b-a43a-c1a10939cf8f",
   "metadata": {
    "tags": []
   },
   "outputs": [],
   "source": [
    "parameter_files_part_1 = list()\n",
    "for file in tqdm(folder_w_params.iterdir()):\n",
    "    s_parameters = read_file(file, name=file.stem[6:])\n",
    "    parameter_files_part_1.append(s_parameters)\n",
    "\n",
    "parameter_files_part_1 = pd.concat(parameter_files_part_1, axis=1).T\n",
    "parameter_files_part_1"
   ]
  },
  {
   "cell_type": "markdown",
   "id": "a5db69d3-89ed-4670-ae9a-d5e548e43106",
   "metadata": {},
   "source": [
    "## Search for parameter files in output folders\n",
    "\n",
    "- read folders from dump (for stable execution on erda)"
   ]
  },
  {
   "cell_type": "code",
   "execution_count": null,
   "id": "6dea94bd-dc1b-4e5b-ad99-0c6f1dc34682",
   "metadata": {
    "tags": []
   },
   "outputs": [],
   "source": [
    "# # read as generator if file does not exist:\n",
    "# folders = list(Path('/home/jovyan/work/mq_out').iterdir())\n",
    "\n",
    "root = Path('/home/jovyan/work/')\n",
    "with open(root / dumped_folder_names) as f:\n",
    "    folders = list()\n",
    "    for line in f:\n",
    "        fpath = root / dumped_folder / line.strip()\n",
    "        folders.append(fpath)"
   ]
  },
  {
   "cell_type": "markdown",
   "id": "fd65f35b-7818-4275-961f-816aedfaa486",
   "metadata": {},
   "source": [
    "read paramter files:"
   ]
  },
  {
   "cell_type": "code",
   "execution_count": null,
   "id": "32add481-89ba-4c22-b419-f025f98c2f2c",
   "metadata": {
    "tags": []
   },
   "outputs": [],
   "source": [
    "parameter_files_part_2 = list()\n",
    "i = 0\n",
    "for folder in tqdm(folders):\n",
    "    for file in folder.iterdir():\n",
    "        if file.suffix == '.xml':\n",
    "            s_parameters = read_file(file, file.parent.name)\n",
    "            parameter_files_part_2.append(s_parameters)\n",
    "            i += 1\n",
    "\n",
    "parameter_files_part_2 = pd.concat(parameter_files_part_2, axis=1).T\n",
    "parameter_files_part_2"
   ]
  },
  {
   "cell_type": "code",
   "execution_count": null,
   "id": "bd945d90-8416-4ddd-9b46-ab7e47ed1840",
   "metadata": {
    "tags": []
   },
   "outputs": [],
   "source": [
    "print(f\"Found {i} parameter files\")"
   ]
  },
  {
   "cell_type": "markdown",
   "id": "71cf0a35-0cf9-4fb1-9abc-08cad21d4fae",
   "metadata": {},
   "source": [
    "## Combine both sets"
   ]
  },
  {
   "cell_type": "code",
   "execution_count": null,
   "id": "985d4fab-49ad-45b7-ae2d-de66cbdae5a4",
   "metadata": {
    "tags": []
   },
   "outputs": [],
   "source": [
    "parameter_files = pd.concat([parameter_files_part_1, parameter_files_part_2])\n",
    "# del parameter_files_part_1, parameter_files_part_2\n",
    "parameter_files"
   ]
  },
  {
   "cell_type": "code",
   "execution_count": null,
   "id": "81944709-5e74-4067-ab4a-d20e2054ecd0",
   "metadata": {
    "tags": []
   },
   "outputs": [],
   "source": [
    "# 11066"
   ]
  },
  {
   "cell_type": "code",
   "execution_count": null,
   "id": "48197990-124f-4abc-8c42-3b4982f3cd4b",
   "metadata": {
    "tags": []
   },
   "outputs": [],
   "source": [
    "parameter_files = parameter_files.infer_objects()\n",
    "parameter_files.dtypes.value_counts()"
   ]
  },
  {
   "cell_type": "code",
   "execution_count": null,
   "id": "4e0627e5-22c2-4b08-be5b-b57866b15d13",
   "metadata": {
    "tags": []
   },
   "outputs": [],
   "source": [
    "parameter_files.to_csv(fname_out)"
   ]
  },
  {
   "cell_type": "markdown",
   "id": "33bbf09d-6059-4abc-96d6-677f1dfb3eb5",
   "metadata": {},
   "source": [
    "Read aggregated parameters dump"
   ]
  },
  {
   "cell_type": "code",
   "execution_count": null,
   "id": "d749fdc5-9f56-45ab-879c-1e01977e733a",
   "metadata": {
    "tags": []
   },
   "outputs": [],
   "source": [
    "parameter_files = pd.read_csv(fname_out, index_col=0, header=list(range(4)))\n",
    "parameter_files"
   ]
  },
  {
   "cell_type": "code",
   "execution_count": null,
   "id": "858a7dbf-a5e3-47d3-98e4-f130306cfbf0",
   "metadata": {
    "tags": []
   },
   "outputs": [],
   "source": [
    "parameter_files.dtypes.value_counts()"
   ]
  },
  {
   "cell_type": "code",
   "execution_count": null,
   "id": "88c9f10e-5a4d-4653-b6f8-cfe6152f1b5a",
   "metadata": {
    "tags": []
   },
   "outputs": [],
   "source": [
    "parameter_files.loc[:, parameter_files.dtypes == 'object']"
   ]
  },
  {
   "cell_type": "code",
   "execution_count": null,
   "id": "9a6c70d1-c5eb-49ab-82f1-fe919a8b60e7",
   "metadata": {
    "tags": []
   },
   "outputs": [],
   "source": [
    "parameter_files['fastaFiles']"
   ]
  },
  {
   "cell_type": "code",
   "execution_count": null,
   "id": "319e99f2-9236-406c-b95a-493864dcbf03",
   "metadata": {
    "tags": []
   },
   "outputs": [],
   "source": [
    "parameter_files.droplevel(-1, axis=1)['fastaFiles']"
   ]
  },
  {
   "cell_type": "code",
   "execution_count": null,
   "id": "1f1a185a-b0e8-40bd-b35c-4c9be49099f7",
   "metadata": {
    "tags": []
   },
   "outputs": [],
   "source": [
    "parameter_files.columns.to_list()"
   ]
  },
  {
   "cell_type": "code",
   "execution_count": null,
   "id": "5319b502-58ac-4a5c-94dc-4c9915f302ee",
   "metadata": {},
   "outputs": [],
   "source": []
  }
 ],
 "metadata": {
  "kernelspec": {
   "display_name": "Python 3 (ipykernel)",
   "language": "python",
   "name": "python3"
  },
  "language_info": {
   "codemirror_mode": {
    "name": "ipython",
    "version": 3
   },
   "file_extension": ".py",
   "mimetype": "text/x-python",
   "name": "python",
   "nbconvert_exporter": "python",
   "pygments_lexer": "ipython3",
   "version": "3.10.12"
  }
 },
 "nbformat": 4,
 "nbformat_minor": 5
}
