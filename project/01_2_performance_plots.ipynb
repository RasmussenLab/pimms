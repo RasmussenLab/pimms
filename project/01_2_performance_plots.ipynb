{
 "cells": [
  {
   "cell_type": "markdown",
   "id": "188fc02b-2e9b-4b72-b906-77d35ba50dab",
   "metadata": {},
   "source": [
    "# Compare models\n",
    "\n",
    "1. Load available configurations\n",
    "2. Load validation predictions\n",
    "    - calculate absolute error\n",
    "    - select top N for plotting by MAE from smallest (best) to largest (worst) (top N as specified, default 5)\n",
    "    - correlation per sample, correlation per feat, correlation overall\n",
    "    - MAE plots\n",
    "3. Load test data predictions\n",
    "    - as for validation data\n",
    "    - top N based on validation data"
   ]
  },
  {
   "cell_type": "code",
   "execution_count": null,
   "id": "a1e5f978-a0cb-4bb6-98d1-467eda257165",
   "metadata": {},
   "outputs": [],
   "source": [
    "import random\n",
    "from pathlib import Path\n",
    "\n",
    "import matplotlib.pyplot as plt\n",
    "import numpy as np \n",
    "import pandas as pd\n",
    "import seaborn as sns\n",
    "\n",
    "import vaep\n",
    "import vaep.imputation\n",
    "import vaep.models\n",
    "from vaep.io import datasplits\n",
    "from vaep.analyzers import compare_predictions\n",
    "import vaep.nb\n",
    "\n",
    "pd.options.display.max_rows = 120\n",
    "pd.options.display.min_rows = 50\n",
    "pd.options.display.max_colwidth = 100\n",
    "\n",
    "logger = vaep.logging.setup_nb_logger()"
   ]
  },
  {
   "cell_type": "code",
   "execution_count": null,
   "id": "67f5161a",
   "metadata": {},
   "outputs": [],
   "source": [
    "# catch passed parameters\n",
    "args = None\n",
    "args = dict(globals()).keys()"
   ]
  },
  {
   "cell_type": "markdown",
   "id": "2c962bc4",
   "metadata": {},
   "source": [
    "Papermill script parameters:"
   ]
  },
  {
   "cell_type": "code",
   "execution_count": null,
   "id": "e6e91c6b-20d6-402c-9577-a2bfd8ba592e",
   "metadata": {
    "tags": [
     "parameters"
    ]
   },
   "outputs": [],
   "source": [
    "# files and folders\n",
    "folder_experiment:str = 'runs/example' # Datasplit folder with data for experiment\n",
    "folder_data:str = '' # specify data directory if needed\n",
    "file_format: str = 'csv' # change default to pickled files\n",
    "fn_rawfile_metadata: str = 'data/dev_datasets/HeLa_6070/files_selected_metadata_N50.csv' # Machine parsed metadata from rawfile workflow\n",
    "models: str = 'Median,CF,DAE,VAE'  # picked models to compare (comma separated)\n",
    "plot_to_n:int = 5 # Restrict plotting to top N methods for imputation based on error of validation data, maximum 10"
   ]
  },
  {
   "cell_type": "markdown",
   "id": "bc38df73",
   "metadata": {},
   "source": [
    "Some argument transformations"
   ]
  },
  {
   "cell_type": "code",
   "execution_count": null,
   "id": "ec1509e8-6908-43c3-8909-efbb0229c324",
   "metadata": {},
   "outputs": [],
   "source": [
    "args = vaep.nb.get_params(args, globals=globals())\n",
    "args"
   ]
  },
  {
   "cell_type": "code",
   "execution_count": null,
   "id": "19b33594",
   "metadata": {},
   "outputs": [],
   "source": [
    "args = vaep.nb.args_from_dict(args)\n",
    "args"
   ]
  },
  {
   "cell_type": "code",
   "execution_count": null,
   "id": "59081f60",
   "metadata": {},
   "outputs": [],
   "source": [
    "figures = {}\n",
    "dumps = {}"
   ]
  },
  {
   "cell_type": "code",
   "execution_count": null,
   "id": "c3e124fb",
   "metadata": {},
   "outputs": [],
   "source": [
    "TARGET_COL = 'observed'\n",
    "METRIC = 'MAE'\n",
    "MIN_FREQ = None\n",
    "MODELS_PASSED = args.models.split(',')\n",
    "MODELS = MODELS_PASSED.copy()\n",
    "\n",
    "# MODELS = args.models.split(',')\n",
    "# ORDER_MODELS = ['RSN', *MODELS]"
   ]
  },
  {
   "cell_type": "code",
   "execution_count": null,
   "id": "747d5e4a",
   "metadata": {
    "lines_to_next_cell": 1
   },
   "outputs": [],
   "source": [
    "# list(sns.color_palette().as_hex()) # string representation of colors\n",
    "if args.plot_to_n > 10:\n",
    "    logger.warning(\"Set maximum of models to 10 (maximum)\")\n",
    "    args.overwrite_entry('plot_to_n', 10)\n",
    "COLORS_TO_USE = [sns.color_palette()[5] ,*sns.color_palette()[:5]]"
   ]
  },
  {
   "cell_type": "code",
   "execution_count": null,
   "id": "fbe02625",
   "metadata": {},
   "outputs": [],
   "source": [
    "def assign_colors(models):\n",
    "    color_model_mapping = {\n",
    "    'CF': sns.color_palette()[1],\n",
    "    'DAE': sns.color_palette()[2],\n",
    "    'VAE': sns.color_palette()[3]\n",
    "    }\n",
    "    other_colors = [sns.color_palette()[0] ,*sns.color_palette()[4:]]\n",
    "    i=0\n",
    "    ret_colors = list()\n",
    "    for model in models:\n",
    "        if model in color_model_mapping:\n",
    "            ret_colors.append(color_model_mapping[model])\n",
    "        else:\n",
    "            pos = i % len(other_colors)\n",
    "            ret_colors.append(other_colors[pos])\n",
    "            i+=1\n",
    "    if i > len(other_colors):\n",
    "        logger.info(\"Reused some colors!\")\n",
    "    return ret_colors\n",
    "\n",
    "assign_colors(['CF', 'DAE', 'knn', 'VAE'])"
   ]
  },
  {
   "cell_type": "code",
   "execution_count": null,
   "id": "a4ba2a48-dedc-47a9-b2ea-79936dfc48ef",
   "metadata": {},
   "outputs": [],
   "source": [
    "data = datasplits.DataSplits.from_folder(args.data, file_format=args.file_format)"
   ]
  },
  {
   "cell_type": "code",
   "execution_count": null,
   "id": "611a8edf",
   "metadata": {},
   "outputs": [],
   "source": [
    "vaep.plotting.make_large_descriptors('x-large')\n",
    "fig, axes = plt.subplots(1, 2, sharey=True)\n",
    "\n",
    "vaep.plotting.data.plot_observations(data.val_y.unstack(), ax=axes[0],\n",
    "                                     title='Validation split',)\n",
    "vaep.plotting.data.plot_observations(data.test_y.unstack(), ax=axes[1],\n",
    "                                     title='Test split',)\n",
    "\n",
    "fig.suptitle(\"Simulated missing values per sample\", size=20)\n",
    "\n",
    "fname = args.out_figures / 'fake_na_val_test_splits.png'\n",
    "figures[fname.stem] = fname\n",
    "vaep.savefig(fig, name=fname)\n",
    "vaep.plotting.make_large_descriptors('xx-large')"
   ]
  },
  {
   "cell_type": "markdown",
   "id": "ffc6d140-f48e-4477-84f3-47a196e0a3d8",
   "metadata": {},
   "source": [
    "## Across data completeness"
   ]
  },
  {
   "cell_type": "code",
   "execution_count": null,
   "id": "2d043b40-5c74-40cc-a5cf-8d22ac5538a8",
   "metadata": {},
   "outputs": [],
   "source": [
    "# load frequency of training features... \n",
    "freq_feat = vaep.io.datasplits.load_freq(args.data, file='freq_features.json')   # needs to be pickle -> index.name needed\n",
    "\n",
    "freq_feat.head() # training data"
   ]
  },
  {
   "cell_type": "code",
   "execution_count": null,
   "id": "d8f8c3f4-9896-4f0e-8f93-780f90b22573",
   "metadata": {},
   "outputs": [],
   "source": [
    "prop = freq_feat / len(data.train_X.index.levels[0])\n",
    "prop.to_frame()"
   ]
  },
  {
   "cell_type": "code",
   "execution_count": null,
   "id": "9a94ad00-78fd-4541-be5d-68391af99bd5",
   "metadata": {},
   "outputs": [],
   "source": [
    "data.to_wide_format()\n",
    "data.train_X"
   ]
  },
  {
   "cell_type": "code",
   "execution_count": null,
   "id": "526626c0-98c7-4741-abae-b6fc8c218f23",
   "metadata": {},
   "outputs": [],
   "source": [
    "N_SAMPLES, M_FEAT = data.train_X.shape\n",
    "print(f\"N samples: {N_SAMPLES:,d}, M features: {M_FEAT}\")"
   ]
  },
  {
   "cell_type": "code",
   "execution_count": null,
   "id": "f3e738bd-79e9-4714-af4d-f3d0d2893353",
   "metadata": {},
   "outputs": [],
   "source": [
    "fname = args.folder_experiment / '01_2_performance_summary.xlsx'\n",
    "dumps[fname.stem] = fname\n",
    "writer = pd.ExcelWriter(fname)"
   ]
  },
  {
   "cell_type": "markdown",
   "id": "bbe028c4-190d-4d50-b8a7-d109817d7b98",
   "metadata": {},
   "source": [
    "# Model specifications\n",
    "- used for bar plot annotations"
   ]
  },
  {
   "cell_type": "code",
   "execution_count": null,
   "id": "91bc1e12-8477-4eda-a4c2-1f132e468616",
   "metadata": {},
   "outputs": [],
   "source": [
    "import yaml\n",
    "from vaep.models.collect_dumps import collect, select_content\n",
    "\n",
    "def load_config_file(fname: Path, first_split='config_') -> dict:\n",
    "    with open(fname) as f:\n",
    "        loaded = yaml.safe_load(f)\n",
    "    key = f\"{select_content(fname.stem, first_split=first_split)}\"\n",
    "    return key, loaded\n",
    "\n",
    "\n",
    "# model_key could be used as key from config file\n",
    "# load only specified configs?\n",
    "# case: no config file available?\n",
    "all_configs = collect(\n",
    "    paths=(fname for fname in args.out_models.iterdir()\n",
    "           if fname.suffix == '.yaml'\n",
    "           and 'model_config' in fname.name),\n",
    "    load_fn=load_config_file\n",
    ")\n",
    "model_configs = pd.DataFrame(all_configs).set_index('model')\n",
    "model_configs.T.to_excel(writer, sheet_name='model_params')\n",
    "model_configs.T"
   ]
  },
  {
   "cell_type": "markdown",
   "id": "40a64b82-a99e-48c9-b5bf-591f48d19fe8",
   "metadata": {},
   "source": [
    "Set Feature name (columns are features, rows are samples)"
   ]
  },
  {
   "cell_type": "code",
   "execution_count": null,
   "id": "af8c112f-fb4f-4dcd-b729-9c9558715d88",
   "metadata": {},
   "outputs": [],
   "source": [
    "# index name\n",
    "freq_feat.index.name = data.train_X.columns.name"
   ]
  },
  {
   "cell_type": "code",
   "execution_count": null,
   "id": "8088a91f-6aaa-4b9d-b855-332d2bbf5780",
   "metadata": {},
   "outputs": [],
   "source": [
    "# index name\n",
    "sample_index_name = data.train_X.index.name"
   ]
  },
  {
   "cell_type": "markdown",
   "id": "e4edc203-3fac-4321-8193-a5cc39590665",
   "metadata": {},
   "source": [
    "# Load predictions on validation and test data split\n"
   ]
  },
  {
   "cell_type": "markdown",
   "id": "808110cf",
   "metadata": {},
   "source": [
    "## Validation data\n",
    "- set top N models to plot based on validation data split"
   ]
  },
  {
   "cell_type": "code",
   "execution_count": null,
   "id": "4efc3fe6",
   "metadata": {},
   "outputs": [],
   "source": [
    "pred_val = compare_predictions.load_split_prediction_by_modelkey(\n",
    "    experiment_folder=args.folder_experiment,\n",
    "    split='val',\n",
    "    model_keys=MODELS_PASSED,\n",
    "    shared_columns=[TARGET_COL])\n",
    "pred_val[MODELS]"
   ]
  },
  {
   "cell_type": "code",
   "execution_count": null,
   "id": "d5196bcc",
   "metadata": {},
   "outputs": [],
   "source": [
    "errors_val = (pred_val\n",
    "              .drop(TARGET_COL, axis=1)\n",
    "              .sub(pred_val[TARGET_COL], axis=0)\n",
    "              [MODELS])\n",
    "errors_val.describe() # over all samples, and all features"
   ]
  },
  {
   "cell_type": "markdown",
   "id": "ad1e732c-235f-4fd9-95cc-a64a2ec09f6c",
   "metadata": {},
   "source": [
    "Describe absolute error"
   ]
  },
  {
   "cell_type": "code",
   "execution_count": null,
   "id": "47df94e9-2436-4cdd-9c6f-47062bac7bee",
   "metadata": {},
   "outputs": [],
   "source": [
    "errors_val.abs().describe() # over all samples, and all features"
   ]
  },
  {
   "cell_type": "markdown",
   "id": "b11fc897",
   "metadata": {
    "lines_to_next_cell": 0
   },
   "source": [
    "## Select top N for plotting and set colors"
   ]
  },
  {
   "cell_type": "code",
   "execution_count": null,
   "id": "e94d9dd6-d97d-4e1c-b877-48dc1ae9c7c7",
   "metadata": {},
   "outputs": [],
   "source": [
    "ORDER_MODELS = (errors_val\n",
    "                .abs()\n",
    "                .mean()\n",
    "                .sort_values()\n",
    "                .index\n",
    "                .to_list())\n",
    "ORDER_MODELS"
   ]
  },
  {
   "cell_type": "code",
   "execution_count": null,
   "id": "4d6417fc",
   "metadata": {
    "lines_to_next_cell": 1
   },
   "outputs": [],
   "source": [
    "mae_stats_ordered = errors_val.abs().describe()[ORDER_MODELS]\n",
    "mae_stats_ordered.to_excel(writer, sheet_name='mae_stats_ordered')\n",
    "writer.close()\n",
    "mae_stats_ordered"
   ]
  },
  {
   "cell_type": "markdown",
   "id": "f5b33f93",
   "metadata": {
    "lines_to_next_cell": 0
   },
   "source": [
    "Hack color order, by assing CF, DAE and VAE unique colors no matter their order\n",
    "Could be extended to all supported imputation methods"
   ]
  },
  {
   "cell_type": "code",
   "execution_count": null,
   "id": "36e078fb-2268-41dd-a069-4ca3dc5ca6cf",
   "metadata": {},
   "outputs": [],
   "source": [
    "def assign_colors(models):\n",
    "    color_model_mapping = {\n",
    "        'CF': sns.color_palette()[2],\n",
    "        'DAE': sns.color_palette()[3],\n",
    "        'VAE': sns.color_palette()[4]\n",
    "    }\n",
    "    other_colors = [*sns.color_palette()[:2], *sns.color_palette()[5:]]\n",
    "    i = 0\n",
    "    ret_colors = list()\n",
    "    for model in models:\n",
    "        if model in color_model_mapping:\n",
    "            ret_colors.append(color_model_mapping[model])\n",
    "        else:\n",
    "            pos = i % len(other_colors)\n",
    "            ret_colors.append(other_colors[pos])\n",
    "            i += 1\n",
    "    if i > len(other_colors):\n",
    "        logger.info(\"Reused some colors!\")\n",
    "    return ret_colors\n",
    "\n",
    "\n",
    "expected = [(0.17254901960784313, 0.6274509803921569, 0.17254901960784313),\n",
    "            (0.8392156862745098, 0.15294117647058825, 0.1568627450980392),\n",
    "            (0.12156862745098039, 0.4666666666666667, 0.7058823529411765),\n",
    "            (0.5803921568627451, 0.403921568627451, 0.7411764705882353),\n",
    "            (1.0, 0.4980392156862745, 0.054901960784313725)]\n",
    "\n",
    "actual = assign_colors(['CF', 'DAE', 'knn', 'VAE', 'lls'])\n",
    "\n",
    "assert expected == actual\n",
    "\n",
    "COLORS_TO_USE = assign_colors(ORDER_MODELS)"
   ]
  },
  {
   "cell_type": "code",
   "execution_count": null,
   "id": "a2440887-b5f2-45a1-90cd-d15ef9bfa0a7",
   "metadata": {},
   "outputs": [],
   "source": [
    "# For top_N -> define colors\n",
    "TOP_N_ORDER = ORDER_MODELS[:args.plot_to_n]\n",
    "\n",
    "TOP_N_COLOR_PALETTE = {model: color for model,\n",
    "                       color in zip(TOP_N_ORDER, COLORS_TO_USE)}\n",
    "\n",
    "TOP_N_ORDER"
   ]
  },
  {
   "cell_type": "markdown",
   "id": "dd6818ca-460a-4f14-be85-c4309057e161",
   "metadata": {},
   "source": [
    "### Correlation overall"
   ]
  },
  {
   "cell_type": "code",
   "execution_count": null,
   "id": "3aa7831e-ebf3-4de4-af6c-c4b2a8b00373",
   "metadata": {},
   "outputs": [],
   "source": [
    "pred_val_corr = pred_val.corr()\n",
    "ax = (pred_val_corr\n",
    "      .loc[TARGET_COL, ORDER_MODELS]\n",
    "      .plot\n",
    "      .bar(\n",
    "          # title='Correlation between Fake NA and model predictions on validation data',\n",
    "          ylabel='correlation overall'))\n",
    "ax = vaep.plotting.add_height_to_barplot(ax)\n",
    "ax.set_xticklabels(ax.get_xticklabels(), rotation=45, horizontalalignment='right')\n",
    "fname = args.out_figures / 'pred_corr_val_overall.pdf'\n",
    "figures[fname.stem] = fname\n",
    "vaep.savefig(ax.get_figure(), name=fname)\n",
    "pred_val_corr"
   ]
  },
  {
   "cell_type": "markdown",
   "id": "0ac5f058-c580-4676-83c8-768bdb30f526",
   "metadata": {},
   "source": [
    "### Correlation per sample"
   ]
  },
  {
   "cell_type": "code",
   "execution_count": null,
   "id": "cea24eb1",
   "metadata": {},
   "outputs": [],
   "source": [
    "corr_per_sample_val = (pred_val\n",
    "                       .groupby(sample_index_name)\n",
    "                       .aggregate(\n",
    "                           lambda df: df.corr().loc[TARGET_COL]\n",
    "                       )[ORDER_MODELS])\n",
    "\n",
    "kwargs = dict(ylim=(0.7, 1), rot=90,\n",
    "              # title='Corr. betw. fake NA and model pred. per sample on validation data',\n",
    "              ylabel='correlation per sample')\n",
    "ax = corr_per_sample_val[TOP_N_ORDER].plot.box(**kwargs)\n",
    "ax.set_xticklabels(ax.get_xticklabels(), rotation=45,\n",
    "                   horizontalalignment='right')\n",
    "fname = args.out_figures / 'pred_corr_val_per_sample.pdf'\n",
    "figures[fname.stem] = fname\n",
    "vaep.savefig(ax.get_figure(), name=fname)\n",
    "\n",
    "fname = args.out_figures/'pred_corr_val_per_sample.xlsx'\n",
    "dumps[fname.stem] = fname\n",
    "with pd.ExcelWriter(fname) as writer:\n",
    "    corr_per_sample_val.describe().to_excel(writer, sheet_name='summary')\n",
    "    corr_per_sample_val.to_excel(writer, sheet_name='correlations')"
   ]
  },
  {
   "cell_type": "markdown",
   "id": "6682b3e4-7841-4348-8be2-b63bfd371f65",
   "metadata": {},
   "source": [
    "identify samples which are below lower whisker for models"
   ]
  },
  {
   "cell_type": "code",
   "execution_count": null,
   "id": "4068d91f-856e-4aa6-9c62-5f1f77a77c4c",
   "metadata": {},
   "outputs": [],
   "source": [
    "treshold = vaep.pandas.get_lower_whiskers(corr_per_sample_val[TOP_N_ORDER]).min()\n",
    "mask = (corr_per_sample_val[TOP_N_ORDER] < treshold).any(axis=1)\n",
    "corr_per_sample_val.loc[mask].style.highlight_min(axis=1) if mask.sum() else 'Nothing to display'"
   ]
  },
  {
   "cell_type": "markdown",
   "id": "d5575e14-3b49-4821-90e2-17ad0bc2acb1",
   "metadata": {},
   "source": [
    "### Error plot"
   ]
  },
  {
   "cell_type": "code",
   "execution_count": null,
   "id": "52298acd-73c5-4574-b7fe-8fb6544708cf",
   "metadata": {},
   "outputs": [],
   "source": [
    "c_error_min = 4.5\n",
    "mask = (errors_val[MODELS].abs() > c_error_min).any(axis=1)\n",
    "errors_val.loc[mask].sort_index(level=1)"
   ]
  },
  {
   "cell_type": "code",
   "execution_count": null,
   "id": "570fc505-ab27-4710-b4c2-adbe72b33898",
   "metadata": {},
   "outputs": [],
   "source": [
    "errors_val = errors_val.abs().groupby(freq_feat.index.name).mean() # absolute error\n",
    "errors_val = errors_val.join(freq_feat)\n",
    "errors_val = errors_val.sort_values(by=freq_feat.name, ascending=True)\n",
    "errors_val"
   ]
  },
  {
   "cell_type": "markdown",
   "id": "2eb9a8ea",
   "metadata": {},
   "source": [
    "Some interpolated features are missing"
   ]
  },
  {
   "cell_type": "code",
   "execution_count": null,
   "id": "ddc98a9f",
   "metadata": {},
   "outputs": [],
   "source": [
    "errors_val.describe()  # mean of means"
   ]
  },
  {
   "cell_type": "code",
   "execution_count": null,
   "id": "af4f0e81-e9af-4763-908d-f7bdf4a4fed7",
   "metadata": {},
   "outputs": [],
   "source": [
    "c_avg_error = 2\n",
    "mask = (errors_val[MODELS] >= c_avg_error).any(axis=1)\n",
    "errors_val.loc[mask]"
   ]
  },
  {
   "cell_type": "code",
   "execution_count": null,
   "id": "e0a505e2-4d05-460e-a2c5-47edc5038dc7",
   "metadata": {
    "lines_to_next_cell": 2
   },
   "outputs": [],
   "source": [
    "ax = vaep.plotting.plot_rolling_error(errors_val[TOP_N_ORDER + ['freq']],\n",
    "                                      metric_name=METRIC,\n",
    "                                      window=int(len(errors_val)/15),\n",
    "                                      min_freq=MIN_FREQ,\n",
    "                                      colors_to_use=COLORS_TO_USE)"
   ]
  },
  {
   "cell_type": "code",
   "execution_count": null,
   "id": "1422aecb-eecc-4270-8891-5010e8b1ec5d",
   "metadata": {
    "lines_to_next_cell": 2
   },
   "outputs": [],
   "source": [
    "fname = args.out_figures / 'performance_methods_by_completness.pdf'\n",
    "figures[fname.stem] = fname\n",
    "vaep.savefig(\n",
    "    ax.get_figure(),\n",
    "    name=fname)"
   ]
  },
  {
   "cell_type": "markdown",
   "id": "6696849c-15ee-47ba-b1b8-cbf2312d66bb",
   "metadata": {},
   "source": [
    "### Error by non-decimal number of intensity\n",
    "- number of observations in parentheses. "
   ]
  },
  {
   "cell_type": "code",
   "execution_count": null,
   "id": "df6923c5-e6f7-4a14-aa8e-d55bf66cf817",
   "metadata": {},
   "outputs": [],
   "source": [
    "ax, errors_binned = vaep.plotting.errors.plot_errors_binned(\n",
    "    pred_val[\n",
    "        ['observed']+TOP_N_ORDER\n",
    "    ],\n",
    "    palette=TOP_N_COLOR_PALETTE)\n",
    "fname = args.out_figures / 'errors_binned_by_int_val.pdf'\n",
    "figures[fname.stem] = fname\n",
    "vaep.savefig(ax.get_figure(), name=fname)"
   ]
  },
  {
   "cell_type": "code",
   "execution_count": null,
   "id": "6122a309-5435-44d2-a6f8-8e9d46b5afae",
   "metadata": {},
   "outputs": [],
   "source": [
    "errors_binned.head()\n",
    "dumps[fname.stem] = fname.with_suffix('.csv')\n",
    "errors_binned.to_csv(fname.with_suffix('.csv'))\n",
    "errors_binned.head()"
   ]
  },
  {
   "cell_type": "markdown",
   "id": "15313cc9-5f1c-4c25-a22b-6c93b2e4364f",
   "metadata": {},
   "source": [
    "## test data"
   ]
  },
  {
   "cell_type": "code",
   "execution_count": null,
   "id": "1dc848c6-d39e-4092-9b72-3f6a0e1949e2",
   "metadata": {},
   "outputs": [],
   "source": [
    "pred_test = compare_predictions.load_split_prediction_by_modelkey(\n",
    "    experiment_folder=args.folder_experiment,\n",
    "    split='test',\n",
    "    model_keys=MODELS_PASSED,\n",
    "    shared_columns=[TARGET_COL])\n",
    "pred_test = pred_test.join(freq_feat, on=freq_feat.index.name)\n",
    "SAMPLE_ID, FEAT_NAME = pred_test.index.names\n",
    "pred_test"
   ]
  },
  {
   "cell_type": "markdown",
   "id": "116a7b7e",
   "metadata": {},
   "source": [
    "### Correlation overall"
   ]
  },
  {
   "cell_type": "code",
   "execution_count": null,
   "id": "b42efaec-4556-45e9-a813-66da159e771c",
   "metadata": {},
   "outputs": [],
   "source": [
    "pred_test_corr = pred_test.corr()\n",
    "ax = pred_test_corr.loc[TARGET_COL, ORDER_MODELS].plot.bar(\n",
    "    # title='Corr. between Fake NA and model predictions on test data',\n",
    "    ylabel='correlation coefficient overall',\n",
    "    ylim=(0.7,1)\n",
    ")\n",
    "ax = vaep.plotting.add_height_to_barplot(ax)\n",
    "ax.set_xticklabels(ax.get_xticklabels(), rotation=45, horizontalalignment='right')\n",
    "fname = args.out_figures / 'pred_corr_test_overall.pdf'\n",
    "figures[fname.stem] = fname\n",
    "vaep.savefig(ax.get_figure(), name=fname)\n",
    "pred_test_corr"
   ]
  },
  {
   "cell_type": "markdown",
   "id": "a1dc6066-441d-40c9-be3b-45529a6fd41e",
   "metadata": {},
   "source": [
    "### Correlation per sample"
   ]
  },
  {
   "cell_type": "code",
   "execution_count": null,
   "id": "ee088a12-ee60-45d1-bf5a-e07b76413c56",
   "metadata": {},
   "outputs": [],
   "source": [
    "corr_per_sample_test = (pred_test\n",
    "                        .groupby(sample_index_name)\n",
    "                        .aggregate(lambda df: df.corr().loc[TARGET_COL])\n",
    "                        [ORDER_MODELS])\n",
    "corr_per_sample_test = corr_per_sample_test.join(\n",
    "    pred_test\n",
    "    .groupby(sample_index_name)[TARGET_COL]\n",
    "    .count()\n",
    "    .rename('n_obs')\n",
    ")\n",
    "too_few_obs = corr_per_sample_test['n_obs'] < 3\n",
    "corr_per_sample_test.loc[~too_few_obs].describe()"
   ]
  },
  {
   "cell_type": "code",
   "execution_count": null,
   "id": "825efac2",
   "metadata": {},
   "outputs": [],
   "source": [
    "kwargs = dict(ylim=(0.7,1), rot=90,\n",
    "              # title='Corr. betw. fake NA and model predictions per sample on test data',\n",
    "              ylabel='correlation per sample')\n",
    "ax = (corr_per_sample_test\n",
    "      .loc[~too_few_obs, TOP_N_ORDER]\n",
    "      .plot\n",
    "      .box(**kwargs))\n",
    "ax.set_xticklabels(ax.get_xticklabels(), rotation=45, horizontalalignment='right')\n",
    "fname = args.out_figures / 'pred_corr_test_per_sample.pdf'\n",
    "figures[fname.stem] = fname\n",
    "vaep.savefig(ax.get_figure(), name=fname)\n",
    "\n",
    "dumps[fname.stem] = fname.with_suffix('.xlsx')\n",
    "with pd.ExcelWriter(fname.with_suffix('.xlsx')) as writer:   \n",
    "    corr_per_sample_test.describe().to_excel(writer, sheet_name='summary')\n",
    "    corr_per_sample_test.to_excel(writer, sheet_name='correlations')"
   ]
  },
  {
   "cell_type": "markdown",
   "id": "742ed838-c46c-431e-a3ae-a05c8285a7a7",
   "metadata": {},
   "source": [
    "identify samples which are below lower whisker for models"
   ]
  },
  {
   "cell_type": "code",
   "execution_count": null,
   "id": "77b846e1-00b8-4f61-b5cd-cdc1692787de",
   "metadata": {},
   "outputs": [],
   "source": [
    "treshold = vaep.pandas.get_lower_whiskers(corr_per_sample_test[TOP_N_ORDER]).min()\n",
    "mask = (corr_per_sample_test[TOP_N_ORDER] < treshold).any(axis=1)\n",
    "corr_per_sample_test.loc[mask].style.highlight_min(axis=1) if mask.sum() else 'Nothing to display'"
   ]
  },
  {
   "cell_type": "code",
   "execution_count": null,
   "id": "7bff3764-5063-4399-a182-3ba795fbe99d",
   "metadata": {},
   "outputs": [],
   "source": [
    "feature_names = pred_test.index.levels[-1]\n",
    "N_SAMPLES = pred_test.index\n",
    "M = len(feature_names)\n",
    "pred_test.loc[pd.IndexSlice[:, feature_names[random.randint(0, M)]], :]"
   ]
  },
  {
   "cell_type": "code",
   "execution_count": null,
   "id": "c6145bd0-9b59-490e-9a0e-89475c18663b",
   "metadata": {},
   "outputs": [],
   "source": [
    "options = random.sample(set(feature_names), 1)\n",
    "pred_test.loc[pd.IndexSlice[:, options[0]], :]"
   ]
  },
  {
   "cell_type": "markdown",
   "id": "53038e08-e7df-4758-bff0-1e1b6e61cdd2",
   "metadata": {},
   "source": [
    "### Correlation per feature"
   ]
  },
  {
   "cell_type": "code",
   "execution_count": null,
   "id": "6ee92128-4f78-45e9-a607-8e6c4163181a",
   "metadata": {},
   "outputs": [],
   "source": [
    "corr_per_feat_test = pred_test.groupby(FEAT_NAME).aggregate(lambda df: df.corr().loc[TARGET_COL])[ORDER_MODELS]\n",
    "corr_per_feat_test = corr_per_feat_test.join(pred_test.groupby(FEAT_NAME)[\n",
    "                                   TARGET_COL].count().rename('n_obs'))\n",
    "\n",
    "too_few_obs = corr_per_feat_test['n_obs'] < 3\n",
    "corr_per_feat_test.loc[~too_few_obs].describe()"
   ]
  },
  {
   "cell_type": "code",
   "execution_count": null,
   "id": "8e45b324-eaa0-43e4-b28b-b0f839f91955",
   "metadata": {},
   "outputs": [],
   "source": [
    "corr_per_feat_test.loc[too_few_obs].dropna(thresh=3, axis=0)"
   ]
  },
  {
   "cell_type": "code",
   "execution_count": null,
   "id": "4c9a9ecc-526a-41ac-8a4d-d3a389ea6c07",
   "metadata": {},
   "outputs": [],
   "source": [
    "kwargs = dict(rot=90,\n",
    "              # title=f'Corr. per {FEAT_NAME} on test data',\n",
    "              ylabel=f'correlation per {FEAT_NAME}')\n",
    "ax = (corr_per_feat_test\n",
    "      .loc[~too_few_obs, TOP_N_ORDER]\n",
    "      .plot\n",
    "      .box(**kwargs)\n",
    "      )\n",
    "_ = ax.set_xticklabels(ax.get_xticklabels(), rotation=45, horizontalalignment='right')\n",
    "fname = args.out_figures / 'pred_corr_test_per_feat.pdf'\n",
    "figures[fname.stem] = fname\n",
    "vaep.savefig(ax.get_figure(), name=fname)\n",
    "dumps[fname.stem] = fname.with_suffix('.xlsx')\n",
    "with pd.ExcelWriter(fname.with_suffix('.xlsx')) as writer:\n",
    "    corr_per_feat_test.loc[~too_few_obs].describe().to_excel(writer, sheet_name='summary')\n",
    "    corr_per_feat_test.to_excel(writer, sheet_name='correlations')"
   ]
  },
  {
   "cell_type": "code",
   "execution_count": null,
   "id": "b38ffdfc-b1b0-4ae0-a47d-5881c534881f",
   "metadata": {},
   "outputs": [],
   "source": [
    "feat_count_test = data.test_y.stack().groupby(FEAT_NAME).count()\n",
    "feat_count_test.name = 'count'\n",
    "feat_count_test.head()"
   ]
  },
  {
   "cell_type": "code",
   "execution_count": null,
   "id": "9993d145-8b78-4769-838a-01721900a3c7",
   "metadata": {
    "lines_to_next_cell": 0
   },
   "outputs": [],
   "source": [
    "treshold = vaep.pandas.get_lower_whiskers(corr_per_feat_test[TOP_N_ORDER]).min()\n",
    "mask = (corr_per_feat_test[TOP_N_ORDER] < treshold).any(axis=1)\n",
    "\n",
    "def highlight_min(s, color, tolerence=0.00001):\n",
    "    return np.where((s - s.min()).abs() < tolerence, f\"background-color: {color};\", None)\n",
    "\n",
    "view = (corr_per_feat_test\n",
    "  .join(feat_count_test)\n",
    "  .loc[mask]\n",
    "  .sort_values('count'))\n",
    "\n",
    "if not view.empty:\n",
    "    display(view\n",
    "        .style.\n",
    "        apply(highlight_min, color='yellow', axis=1, subset=corr_per_feat_test.columns)\n",
    "    )\n",
    "else:\n",
    "    print(\"None found\")"
   ]
  },
  {
   "cell_type": "markdown",
   "id": "7cbb1b61-0499-4c29-90dd-ddf69a177a11",
   "metadata": {},
   "source": [
    "### Error plot"
   ]
  },
  {
   "cell_type": "code",
   "execution_count": null,
   "id": "829ebc82-587d-47c6-8422-03c610855211",
   "metadata": {},
   "outputs": [],
   "source": [
    "metrics = vaep.models.Metrics()\n",
    "test_metrics = metrics.add_metrics(pred_test.drop('freq', axis=1), key='test data')\n",
    "test_metrics = pd.DataFrame(test_metrics)[TOP_N_ORDER]\n",
    "test_metrics"
   ]
  },
  {
   "cell_type": "code",
   "execution_count": null,
   "id": "f8269d00-9048-4e70-9f39-dab95e103c32",
   "metadata": {},
   "outputs": [],
   "source": [
    "n_in_comparison = int(test_metrics.loc['N'].unique()[0])\n",
    "n_in_comparison"
   ]
  },
  {
   "cell_type": "code",
   "execution_count": null,
   "id": "096083d1-bcd2-44a2-94fe-a89b7d204b66",
   "metadata": {
    "lines_to_next_cell": 1
   },
   "outputs": [],
   "source": [
    "_to_plot = test_metrics.loc[METRIC].to_frame().T\n",
    "_to_plot.index = [feature_names.name]\n",
    "_to_plot"
   ]
  },
  {
   "cell_type": "code",
   "execution_count": null,
   "id": "05a259ef-48bd-4dd0-8dfe-9e2750579383",
   "metadata": {
    "lines_to_next_cell": 2
   },
   "outputs": [],
   "source": [
    "def build_text(s):\n",
    "    ret = ''\n",
    "    if not np.isnan(s[\"latent_dim\"]):\n",
    "        ret += f'LD: {int(s[\"latent_dim\"])} '\n",
    "    if not np.isnan(s[\"hidden_layers\"]):\n",
    "        t = \",\".join(str(x) for x in s[\"hidden_layers\"])\n",
    "        ret += f\"HL: {t}\"\n",
    "    return ret\n",
    "\n",
    "text = model_configs[[\"latent_dim\", \"hidden_layers\"]].apply(\n",
    "    build_text,\n",
    "    axis=1)\n",
    "\n",
    "_to_plot.loc[\"text\"] = text\n",
    "_to_plot = _to_plot.fillna('')\n",
    "_to_plot"
   ]
  },
  {
   "cell_type": "code",
   "execution_count": null,
   "id": "d3dd53c0-4068-4eac-a5c3-7aaa608e5f8f",
   "metadata": {},
   "outputs": [],
   "source": [
    "fig, ax = plt.subplots(figsize=(10,8))\n",
    "ax = _to_plot.loc[[feature_names.name]].plot.bar(rot=0,\n",
    "                                                 ylabel=f\"{METRIC} for {feature_names.name} (based on {n_in_comparison:,} log2 intensities)\",\n",
    "                                                 # title=f'performance on test data (based on {n_in_comparison:,} measurements)',\n",
    "                                                 color=COLORS_TO_USE,\n",
    "                                                 ax=ax,\n",
    "                                                 width=.8)\n",
    "ax = vaep.plotting.add_height_to_barplot(ax)\n",
    "ax = vaep.plotting.add_text_to_barplot(ax, _to_plot.loc[\"text\"], size=16)\n",
    "ax.set_xticklabels([])\n",
    "fname = args.out_figures / 'performance_test.pdf'\n",
    "figures[fname.stem] = fname\n",
    "vaep.savefig(fig, name=fname)"
   ]
  },
  {
   "cell_type": "code",
   "execution_count": null,
   "id": "ef92551d",
   "metadata": {},
   "outputs": [],
   "source": [
    "dumps[fname.stem] = fname.with_suffix('.csv')\n",
    "_to_plot_long = _to_plot.T\n",
    "_to_plot_long = _to_plot_long.rename({feature_names.name: 'metric_value'}, axis=1)\n",
    "_to_plot_long['data level'] = feature_names.name\n",
    "_to_plot_long = _to_plot_long.set_index('data level', append=True)\n",
    "_to_plot_long.to_csv(fname.with_suffix('.csv'))"
   ]
  },
  {
   "cell_type": "code",
   "execution_count": null,
   "id": "4daa35b4-26f5-4172-a1ca-768434b9782e",
   "metadata": {
    "lines_to_next_cell": 0
   },
   "outputs": [],
   "source": [
    "errors_test = vaep.pandas.calc_errors_per_feat(pred_test.drop(\"freq\", axis=1), freq_feat=freq_feat)[[*TOP_N_ORDER, 'freq']]\n",
    "errors_test"
   ]
  },
  {
   "cell_type": "markdown",
   "id": "668770d0-462e-4a0e-95f5-fdef4023976f",
   "metadata": {},
   "source": [
    "### Error plot by frequency"
   ]
  },
  {
   "cell_type": "code",
   "execution_count": null,
   "id": "2221dedf-43df-4b5f-b93a-4a4238d45a6b",
   "metadata": {
    "lines_to_next_cell": 2
   },
   "outputs": [],
   "source": [
    "ax = vaep.plotting.plot_rolling_error(\n",
    "    errors_test,\n",
    "    metric_name=METRIC,\n",
    "    window=int(len(errors_test)/15),\n",
    "    min_freq=MIN_FREQ, \n",
    "    colors_to_use=COLORS_TO_USE)\n",
    "fname = args.out_figures / 'errors_rolling_avg_test.pdf'\n",
    "figures[fname.stem] = fname\n",
    "vaep.savefig(ax.get_figure(), name=fname)"
   ]
  },
  {
   "cell_type": "markdown",
   "id": "549236ca-9e89-47aa-905c-c97a45d4dc2b",
   "metadata": {},
   "source": [
    "### Error by non-decimal number of intensity\n",
    "\n",
    "- number of observations in parentheses. "
   ]
  },
  {
   "cell_type": "code",
   "execution_count": null,
   "id": "3339df97-230f-4cbd-b61d-7aef9a7495e8",
   "metadata": {},
   "outputs": [],
   "source": [
    "ax, errors_bind = vaep.plotting.errors.plot_errors_binned(\n",
    "    pred_test[\n",
    "        ['observed']+TOP_N_ORDER\n",
    "    ],\n",
    "    palette=TOP_N_COLOR_PALETTE)\n",
    "fname = args.out_figures / 'errors_binned_by_int_test.pdf'\n",
    "figures[fname.stem] = fname\n",
    "vaep.savefig(ax.get_figure(), name=fname)"
   ]
  },
  {
   "cell_type": "code",
   "execution_count": null,
   "id": "095f64eb-1c4f-47ae-9a01-d5b05a795779",
   "metadata": {
    "lines_to_next_cell": 0
   },
   "outputs": [],
   "source": [
    "dumps[fname.stem] = fname.with_suffix('.csv')\n",
    "errors_bind.to_csv(fname.with_suffix('.csv'))\n",
    "errors_bind.head()"
   ]
  },
  {
   "cell_type": "markdown",
   "id": "a05f8957",
   "metadata": {
    "lines_to_next_cell": 0
   },
   "source": [
    "## Figures dumped to disk"
   ]
  },
  {
   "cell_type": "code",
   "execution_count": null,
   "id": "c8f67ae1-40e9-4c2a-af0a-41e627703518",
   "metadata": {
    "lines_to_next_cell": 0
   },
   "outputs": [],
   "source": [
    "figures"
   ]
  },
  {
   "cell_type": "code",
   "execution_count": null,
   "id": "b08b442f",
   "metadata": {},
   "outputs": [],
   "source": [
    "dumps"
   ]
  },
  {
   "cell_type": "code",
   "execution_count": null,
   "id": "c2f3ebc5",
   "metadata": {},
   "outputs": [],
   "source": []
  }
 ],
 "metadata": {
  "jupytext": {
   "formats": "ipynb,py:percent"
  },
  "kernelspec": {
   "display_name": "Python 3",
   "language": "python",
   "name": "python3"
  },
  "language_info": {
   "codemirror_mode": {
    "name": "ipython",
    "version": 3
   },
   "file_extension": ".py",
   "mimetype": "text/x-python",
   "name": "python",
   "nbconvert_exporter": "python",
   "pygments_lexer": "ipython3",
   "version": "3.8.13"
  },
  "toc-autonumbering": true,
  "vscode": {
   "interpreter": {
    "hash": "cf83e9cb890c7f96eb0ae04f39a82254555f56a1a0ed2f03b23a8b40fe6cd31c"
   }
  }
 },
 "nbformat": 4,
 "nbformat_minor": 5
}
