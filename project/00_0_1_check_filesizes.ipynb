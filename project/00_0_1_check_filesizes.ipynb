{
 "cells": [
  {
   "cell_type": "markdown",
   "id": "f581713e",
   "metadata": {},
   "source": [
    "# Check if filesizes of local and uploaded files match\n",
    "- could be replaced with checksums, but it's too slow on erda\n",
    "- instead: compare if filesizes in bytes more or less match (tolerance of 5 bytes)\n",
    "\n",
    "many things could be refactored in case a tool should be created from this"
   ]
  },
  {
   "cell_type": "code",
   "execution_count": null,
   "id": "e3e033c1",
   "metadata": {
    "lines_to_next_cell": 2
   },
   "outputs": [],
   "source": [
    "from collections import namedtuple\n",
    "from pathlib import Path, PurePosixPath\n",
    "import pandas as pd"
   ]
  },
  {
   "cell_type": "code",
   "execution_count": null,
   "id": "7ad76c5a",
   "metadata": {
    "lines_to_next_cell": 2
   },
   "outputs": [],
   "source": [
    "# Parameters\n",
    "FOLDER = Path('data/rename')\n",
    "fname_mq_out_pride = FOLDER / 'mq_out_filesizes_pride.log'\n",
    "fname_mq_out_erda = FOLDER / 'mq_out_filesizes_erda.log'\n",
    "fname_rawfiles_pride = FOLDER / 'rawfiles_filesizes_pride.log'\n",
    "fname_rawfiles_erda = FOLDER / 'rawfiles_filesizes_erda.log'\n",
    "fname_filenames_mapping = FOLDER / 'selected_old_new_id_mapping.csv'"
   ]
  },
  {
   "cell_type": "code",
   "execution_count": null,
   "id": "eb2fab6a",
   "metadata": {},
   "outputs": [],
   "source": [
    "df_meta = pd.read_csv(fname_filenames_mapping, index_col='Path_old')\n",
    "df_meta"
   ]
  },
  {
   "cell_type": "code",
   "execution_count": null,
   "id": "1f1a85ce",
   "metadata": {},
   "outputs": [],
   "source": [
    "df_meta['path_pride'] = 'raw_files/' + df_meta['Instrument_name'] + '/' + df_meta[\"new_sample_id\"] + '.raw'"
   ]
  },
  {
   "cell_type": "code",
   "execution_count": null,
   "id": "cd5f1ae0",
   "metadata": {},
   "outputs": [],
   "source": [
    "entries = list()\n",
    "Entry = namedtuple('Entry', 'size_erda fname name_erda')\n",
    "with open(fname_rawfiles_erda) as f:\n",
    "    for line in f:\n",
    "        size, fname = line.strip().split('\\t')\n",
    "        fname = PurePosixPath(fname)\n",
    "        if fname.suffix:\n",
    "            entry = Entry(int(size), str(fname).replace('share_hela_raw/', './'), fname.name)\n",
    "            if entry.fname in df_meta.index:\n",
    "                entries.append(entry)\n",
    "print(f\"{len(entries) =: }\")\n",
    "entries[:3]"
   ]
  },
  {
   "cell_type": "code",
   "execution_count": null,
   "id": "0494dd62",
   "metadata": {
    "lines_to_next_cell": 2
   },
   "outputs": [],
   "source": [
    "entries = pd.DataFrame(entries).set_index('fname')\n",
    "entries = (entries\n",
    "           .join(df_meta.loc[entries.index, 'path_pride'])\n",
    "           .reset_index()\n",
    "           .set_index('path_pride')\n",
    "           .sort_index())"
   ]
  },
  {
   "cell_type": "code",
   "execution_count": null,
   "id": "27b0c5ff",
   "metadata": {},
   "outputs": [],
   "source": [
    "entries_pride = list()\n",
    "Entry = namedtuple('Entry', ['size_pride', 'path_pride', 'name_pride', 'instrument'])\n",
    "with open(fname_rawfiles_pride) as f:\n",
    "    for line in f:\n",
    "        size, fname = line.strip().split()\n",
    "        fname = PurePosixPath(fname)\n",
    "        if fname.suffix:\n",
    "            entry = Entry(int(size), str(fname), fname.name, fname.parent.name)\n",
    "            entries_pride.append(entry)\n",
    "print(f\"{len(entries_pride) =: }\")\n",
    "entries_pride[:3]"
   ]
  },
  {
   "cell_type": "code",
   "execution_count": null,
   "id": "507995c3",
   "metadata": {},
   "outputs": [],
   "source": [
    "entries_pride = pd.DataFrame(entries_pride).set_index('path_pride').sort_index()\n",
    "entries_pride"
   ]
  },
  {
   "cell_type": "code",
   "execution_count": null,
   "id": "b37640f7",
   "metadata": {},
   "outputs": [],
   "source": [
    "entries = entries.join(entries_pride, on='path_pride', how='left')"
   ]
  },
  {
   "cell_type": "code",
   "execution_count": null,
   "id": "720feda4",
   "metadata": {},
   "outputs": [],
   "source": [
    "mask = (entries['size_pride'] - entries['size_erda']).abs() > 5\n",
    "to_redo = entries.loc[mask].reset_index()\n",
    "to_redo "
   ]
  },
  {
   "cell_type": "code",
   "execution_count": null,
   "id": "8aff71d9",
   "metadata": {},
   "outputs": [],
   "source": [
    "commands = 'put ' + to_redo['fname'] + ' -o ' + to_redo['path_pride']\n",
    "print(commands.to_csv(header=False, index=False))"
   ]
  },
  {
   "cell_type": "markdown",
   "id": "b6087751",
   "metadata": {},
   "source": [
    "## Check MaxQuant output filesizes "
   ]
  },
  {
   "cell_type": "code",
   "execution_count": null,
   "id": "4290a2b6",
   "metadata": {
    "lines_to_next_cell": 2
   },
   "outputs": [],
   "source": [
    "df_meta = df_meta.reset_index().set_index('Sample ID')"
   ]
  },
  {
   "cell_type": "code",
   "execution_count": null,
   "id": "a32ac1ba",
   "metadata": {},
   "outputs": [],
   "source": [
    "files = list()\n",
    "folder = set()\n",
    "Entry = namedtuple('Entry', 'size_erda path_erda id_old filename')\n",
    "with open(fname_mq_out_erda) as f:\n",
    "    for line in f:\n",
    "        size, fname = line.strip().split('\\t')\n",
    "        fname = PurePosixPath(fname)\n",
    "        if fname.suffix and fname.suffix != '.pdf':\n",
    "            entry = Entry(int(size), str(fname), fname.parent.name, fname.name)\n",
    "            if entry.id_old in df_meta.index:\n",
    "                files.append(entry)\n",
    "                if entry.id_old not in folder:\n",
    "                    folder.add(entry.id_old)\n",
    "            \n",
    "print(f\"{len(folder) =: }\")\n",
    "print(f\"{len(files) =: }\")\n",
    "files[:3]"
   ]
  },
  {
   "cell_type": "code",
   "execution_count": null,
   "id": "d63f458a",
   "metadata": {},
   "outputs": [],
   "source": [
    "files = pd.DataFrame(files).set_index('id_old')\n",
    "files = files.join(df_meta[['Instrument_name', 'new_sample_id']])\n",
    "files"
   ]
  },
  {
   "cell_type": "code",
   "execution_count": null,
   "id": "082e1cc9",
   "metadata": {
    "lines_to_next_cell": 2
   },
   "outputs": [],
   "source": [
    "files['path_pride'] = ('MQ_tables/'\n",
    "                        + files['Instrument_name']\n",
    "                          + '/' \n",
    "                          + files[\"new_sample_id\"]\n",
    "                          + '/'\n",
    "                          + files[\"filename\"])\n",
    "files['path_pride'].iloc[:4].to_list()"
   ]
  },
  {
   "cell_type": "code",
   "execution_count": null,
   "id": "4a27d1e1",
   "metadata": {},
   "outputs": [],
   "source": [
    "files['filename'].value_counts() # except mqpar.xml all present on erda"
   ]
  },
  {
   "cell_type": "code",
   "execution_count": null,
   "id": "111c6607",
   "metadata": {},
   "outputs": [],
   "source": [
    "files_pride = list()\n",
    "Entry = namedtuple('Entry', ['size_pride', 'path_pride', 'id_new', 'instrument'])\n",
    "with open(fname_mq_out_pride) as f:\n",
    "    for line in f:\n",
    "        size, fname = line.strip().split('\\t')\n",
    "        fname = PurePosixPath(fname)\n",
    "        if fname.suffix:\n",
    "            entry = Entry(int(size), str(fname), fname.parent.name, fname.parent.parent.name)\n",
    "            files_pride.append(entry)\n",
    "print(f\"{len(files_pride) =: }\")\n",
    "files_pride[:3]"
   ]
  },
  {
   "cell_type": "code",
   "execution_count": null,
   "id": "b7776e97",
   "metadata": {
    "lines_to_next_cell": 0
   },
   "outputs": [],
   "source": [
    "files_pride = pd.DataFrame(files_pride).set_index('path_pride')\n",
    "files_pride"
   ]
  },
  {
   "cell_type": "code",
   "execution_count": null,
   "id": "d82d3a19",
   "metadata": {
    "lines_to_next_cell": 0
   },
   "outputs": [],
   "source": [
    "files = files.set_index('path_pride').join(files_pride, how='left')"
   ]
  },
  {
   "cell_type": "code",
   "execution_count": null,
   "id": "93722b9a",
   "metadata": {
    "lines_to_next_cell": 0
   },
   "outputs": [],
   "source": [
    "missing_on_pride = files.loc[files['size_pride'].isna()]\n",
    "missing_on_pride"
   ]
  },
  {
   "cell_type": "code",
   "execution_count": null,
   "id": "42059238",
   "metadata": {
    "lines_to_next_cell": 2
   },
   "outputs": [],
   "source": [
    "missing_on_pride['filename'].value_counts()"
   ]
  },
  {
   "cell_type": "code",
   "execution_count": null,
   "id": "466e2ba8",
   "metadata": {
    "lines_to_next_cell": 0
   },
   "outputs": [],
   "source": [
    "files['size_diff'] = files['size_pride'] - files['size_erda']\n",
    "files['size_diff'].abs().describe()"
   ]
  },
  {
   "cell_type": "code",
   "execution_count": null,
   "id": "f7e03424",
   "metadata": {},
   "outputs": [],
   "source": [
    "files_redo = files.loc[files['size_diff'].abs() > 5]\n",
    "files_redo"
   ]
  },
  {
   "cell_type": "markdown",
   "id": "59bbd393",
   "metadata": {},
   "source": [
    "ensure quoted paths as they might contain whitespaces"
   ]
  },
  {
   "cell_type": "code",
   "execution_count": null,
   "id": "3fc22aef",
   "metadata": {
    "lines_to_next_cell": 2
   },
   "outputs": [],
   "source": [
    "to_do = pd.concat([missing_on_pride, files_redo])\n",
    "commands = 'put -e \\'' + to_do['path_erda'] + \"' -o '\" + to_do.index + \"'\"\n",
    "commands.to_csv(FOLDER / 'mq_out_remaining.txt', header=False, index=False)"
   ]
  }
 ],
 "metadata": {
  "jupytext": {
   "cell_metadata_filter": "-all",
   "notebook_metadata_filter": "-all"
  },
  "kernelspec": {
   "display_name": "vaep",
   "language": "python",
   "name": "vaep"
  },
  "language_info": {
   "codemirror_mode": {
    "name": "ipython",
    "version": 3
   },
   "file_extension": ".py",
   "mimetype": "text/x-python",
   "name": "python",
   "nbconvert_exporter": "python",
   "pygments_lexer": "ipython3",
   "version": "3.8.13"
  }
 },
 "nbformat": 4,
 "nbformat_minor": 5
}
