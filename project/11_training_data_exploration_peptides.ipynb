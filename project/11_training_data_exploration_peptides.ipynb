{
 "cells": [
  {
   "cell_type": "markdown",
   "metadata": {
    "Collapsed": "false"
   },
   "source": [
    "# Peptides\n",
    "\n",
    "Load peptides selected for training"
   ]
  },
  {
   "cell_type": "code",
   "execution_count": null,
   "metadata": {
    "Collapsed": "false"
   },
   "outputs": [],
   "source": [
    "import numpy as np\n",
    "import pandas as pd\n",
    "import matplotlib.pyplot as plt\n",
    "\n",
    "from src import config\n",
    "from src import analyzers\n",
    "\n",
    "# from sklearn import preprocessing\n",
    "# from sklearn.decomposition import PCA\n",
    "import seaborn as sns\n",
    "\n",
    "import vaep\n",
    "\n",
    "pd.options.display.max_columns = 100\n",
    "pd.options.display.min_rows = 30"
   ]
  },
  {
   "cell_type": "markdown",
   "metadata": {},
   "source": [
    "## Descriptive Statistics (Linear case)\n",
    "\n",
    "- spread of peptide quantifications between samples\n",
    "- spread of quantifications within samples\n",
    "- correlation analysis: can linear correlation be picked up?\n"
   ]
  },
  {
   "cell_type": "markdown",
   "metadata": {},
   "source": [
    "### Peptides"
   ]
  },
  {
   "cell_type": "code",
   "execution_count": null,
   "metadata": {},
   "outputs": [],
   "source": [
    "FNAME = 'df_intensities_N07813_M01000'\n",
    "FN_PEPTIDE_INTENSITIES = config.FOLDER_DATA / FNAME\n",
    "FIGUREFOLDER = config.FIGUREFOLDER / FNAME\n",
    "FIGUREFOLDER.mkdir(exist_ok=True)"
   ]
  },
  {
   "cell_type": "code",
   "execution_count": null,
   "metadata": {},
   "outputs": [],
   "source": [
    "N_FIRST_ROWS = None # possibility to select N first rows\n",
    "analysis = analyzers.AnalyzePeptides.from_file(fname=FN_PEPTIDE_INTENSITIES, index_col=0,nrows=N_FIRST_ROWS)\n",
    "analysis.describe_peptides(sample_n=30)"
   ]
  },
  {
   "cell_type": "code",
   "execution_count": null,
   "metadata": {},
   "outputs": [],
   "source": [
    "sample = analysis.df.sample(n=30, axis=1)\n",
    "# ToDo func is assigned to df\n",
    "corr_lower_triangle = analyzers.corr_lower_triangle(sample)\n",
    "corr_lower_triangle"
   ]
  },
  {
   "cell_type": "code",
   "execution_count": null,
   "metadata": {},
   "outputs": [],
   "source": [
    "fig, axes = analyzers.plot_corr_histogram(corr_lower_triangle, bins=40)"
   ]
  },
  {
   "cell_type": "markdown",
   "metadata": {},
   "source": [
    "### Samples"
   ]
  },
  {
   "cell_type": "code",
   "execution_count": null,
   "metadata": {},
   "outputs": [],
   "source": [
    "analysis.df.sample(30, axis=0).T.describe()"
   ]
  },
  {
   "cell_type": "markdown",
   "metadata": {},
   "source": [
    "### Peptides (all)"
   ]
  },
  {
   "cell_type": "code",
   "execution_count": null,
   "metadata": {},
   "outputs": [],
   "source": [
    "stats = analysis.describe_peptides()"
   ]
  },
  {
   "cell_type": "code",
   "execution_count": null,
   "metadata": {},
   "outputs": [],
   "source": [
    "_ = stats.loc['CV'].hist(figsize=(10, 4)) # biological coefficient of variation: standard deviation (variation) w.r.t mean"
   ]
  },
  {
   "cell_type": "code",
   "execution_count": null,
   "metadata": {},
   "outputs": [],
   "source": [
    "_ = stats.loc['count'].hist(figsize=(10,4))"
   ]
  },
  {
   "cell_type": "code",
   "execution_count": null,
   "metadata": {
    "Collapsed": "false"
   },
   "outputs": [],
   "source": [
    "INDEX_NAME = 'Sample ID'\n",
    "analysis.df.index.name = INDEX_NAME"
   ]
  },
  {
   "cell_type": "code",
   "execution_count": null,
   "metadata": {
    "Collapsed": "false"
   },
   "outputs": [],
   "source": [
    "analysis.df"
   ]
  },
  {
   "cell_type": "code",
   "execution_count": null,
   "metadata": {
    "Collapsed": "false"
   },
   "outputs": [],
   "source": [
    "N_MIN_OBS = 800 # here: present in 80% of the samples\n",
    "mask_min_obsevation = analysis.df.notna().sum() >= N_MIN_OBS\n",
    "mask_min_obsevation.sum()"
   ]
  },
  {
   "cell_type": "markdown",
   "metadata": {},
   "source": [
    "Reference analysis.df as `X`"
   ]
  },
  {
   "cell_type": "code",
   "execution_count": null,
   "metadata": {},
   "outputs": [],
   "source": [
    "X = analysis.df"
   ]
  },
  {
   "cell_type": "markdown",
   "metadata": {
    "Collapsed": "false"
   },
   "source": [
    "## Completeness of peptides"
   ]
  },
  {
   "cell_type": "code",
   "execution_count": null,
   "metadata": {
    "Collapsed": "false"
   },
   "outputs": [],
   "source": [
    "def get_sorted_not_missing(X: pd.DataFrame):\n",
    "    \"\"\"Return a Dataframe with missing values. Order columns by degree of completness \n",
    "    over columns from variables least to most shared among observations.\"\"\"\n",
    "    X = X.notna().astype(int)\n",
    "    return X[X.mean().sort_values().index]"
   ]
  },
  {
   "cell_type": "code",
   "execution_count": null,
   "metadata": {
    "Collapsed": "false",
    "tags": []
   },
   "outputs": [],
   "source": [
    "%time not_missing = get_sorted_not_missing(X)\n",
    "not_missing.iloc[:, -10:].describe()"
   ]
  },
  {
   "cell_type": "code",
   "execution_count": null,
   "metadata": {
    "Collapsed": "false"
   },
   "outputs": [],
   "source": [
    "sample_completeness = not_missing.sum(axis=1).sort_values() / X.shape[-1]\n",
    "sample_completeness"
   ]
  },
  {
   "cell_type": "code",
   "execution_count": null,
   "metadata": {
    "Collapsed": "false",
    "tags": []
   },
   "outputs": [],
   "source": [
    "N_MOST_COMMON_PEPTIDES = 300\n",
    "data_to_visualize = not_missing.iloc[:, -N_MOST_COMMON_PEPTIDES:]\n",
    "data_to_visualize = data_to_visualize.loc[sample_completeness.index]\n",
    "print(f\"Look at missingness pattern of {N_MOST_COMMON_PEPTIDES} most common peptides across sample.\\n\"\n",
    "      f\"Data matrix dimension used for printing: { data_to_visualize.shape}\")\n",
    "\n",
    "\n",
    "# grid_kws = {\"width_ratios\": (.9, .05), \"hspace\": 0.5}\n",
    "# fig_heatmap_missing, (axes_heatmap_missing, cbar_ax) = plt.subplots(\n",
    "#     1, 1, gridspec_kw=grid_kws, figsize=(12, 8))\n",
    "# USE_CBAR = True\n",
    "\n",
    "fig_heatmap_missing, axes_heatmap_missing = plt.subplots(\n",
    "    1, 1, figsize=(12, 8))\n",
    "USE_CBAR = False\n",
    "\n",
    "axes_heatmap_missing = sns.heatmap(data_to_visualize,\n",
    "                                   ax=axes_heatmap_missing,\n",
    "                                   cbar = USE_CBAR,\n",
    "#                                    cbar_ax=cbar_ax,\n",
    "#                                    cbar_kws={\"orientation\": \"vertical\"},\n",
    "                                  )"
   ]
  },
  {
   "cell_type": "markdown",
   "metadata": {},
   "source": [
    "White patches indicates that a peptide has been measured, black means it was not measured. Some samples (rows) have few of the most common peptides. This suggests to set a minimum of total peptides in a sample, which is common pratice. \n",
    "\n",
    "> An algorithm should work with the most common peptides and base it's inference capabilities after training on these."
   ]
  },
  {
   "cell_type": "code",
   "execution_count": null,
   "metadata": {},
   "outputs": [],
   "source": [
    "data_to_visualize.sum(axis=1).nsmallest(20) # Samplest with the fewest measurements out of the seletion"
   ]
  },
  {
   "cell_type": "code",
   "execution_count": null,
   "metadata": {
    "Collapsed": "false",
    "tags": []
   },
   "outputs": [],
   "source": [
    "# # This currently crashes if you want to have a pdf\n",
    "from vaep.io_images import _savefig\n",
    "from datetime import datetime\n",
    "datetime_now = datetime.now()\n",
    "\n",
    "from functools import partial\n",
    "_savefig = partial(_savefig, folder=FIGUREFOLDER)\n",
    "\n",
    "\n",
    "_savefig(fig_heatmap_missing,\n",
    "         f'peptides_heatmap_missing_{datetime_now:%y%m%d}', pdf=False)"
   ]
  },
  {
   "cell_type": "markdown",
   "metadata": {
    "Collapsed": "false"
   },
   "source": [
    "## Sample stats"
   ]
  },
  {
   "cell_type": "code",
   "execution_count": null,
   "metadata": {
    "Collapsed": "false"
   },
   "outputs": [],
   "source": [
    "TYPE = 'peptides'\n",
    "COL_NO_MISSING, COL_NO_IDENTIFIED = f'no_missing_{TYPE}', f'no_identified_{TYPE}'\n",
    "COL_PROP_SAMPLES = 'prop_samples'\n",
    "\n",
    "\n",
    "def compute_stats_missing(X):\n",
    "    \"\"\"Dataset of repeated samples indicating if an observation\n",
    "    has the variables observed or missing x\\in\\{0,1\\}\"\"\"\n",
    "    sample_stats = X.index.to_frame(index=False).reset_index()\n",
    "    sample_stats.columns = ['SampleID_int', 'INDEX']\n",
    "    sample_stats.set_index('INDEX', inplace=True)\n",
    "\n",
    "    sample_stats[COL_NO_IDENTIFIED] = X.sum(axis=1)\n",
    "    sample_stats[COL_NO_MISSING] = (X == 0).sum(axis=1)\n",
    "\n",
    "    assert all(sample_stats[[COL_NO_IDENTIFIED, COL_NO_MISSING]].sum(\n",
    "        axis=1) == X.shape[1])\n",
    "    sample_stats = sample_stats.sort_values(\n",
    "        by=COL_NO_IDENTIFIED, ascending=False)\n",
    "    sample_stats[COL_PROP_SAMPLES] = np.array(\n",
    "        range(1, len(sample_stats)+1)) / len(sample_stats)\n",
    "    return sample_stats\n",
    "\n",
    "\n",
    "sample_stats = compute_stats_missing(not_missing)"
   ]
  },
  {
   "cell_type": "code",
   "execution_count": null,
   "metadata": {
    "Collapsed": "false"
   },
   "outputs": [],
   "source": [
    "sample_stats"
   ]
  },
  {
   "cell_type": "code",
   "execution_count": null,
   "metadata": {
    "Collapsed": "false"
   },
   "outputs": [],
   "source": [
    "fig_ident = sns.relplot(\n",
    "    x='SampleID_int', y=COL_NO_IDENTIFIED, data=sample_stats)\n",
    "fig_ident.set_axis_labels('Sample ID', f'Frequency of identified {TYPE}')\n",
    "fig_ident.fig.suptitle(f'Frequency of identified {TYPE} by sample id', y=1.03)\n",
    "_savefig(fig_ident, f'identified_{TYPE}_by_sample', folder=FIGUREFOLDER)\n",
    "\n",
    "fig_ident_dist = sns.relplot(\n",
    "    x=COL_PROP_SAMPLES, y=COL_NO_IDENTIFIED, data=sample_stats)\n",
    "fig_ident_dist.set_axis_labels(\n",
    "    'Proportion of samples (sorted by frequency)', f'Frequency of identified {TYPE}')\n",
    "fig_ident_dist.fig.suptitle(\n",
    "    f'Frequency of identified {TYPE} groups by sample id', y=1.03)\n",
    "_savefig(fig_ident_dist, f'identified_{TYPE}_ordered', folder=FIGUREFOLDER)"
   ]
  },
  {
   "cell_type": "code",
   "execution_count": null,
   "metadata": {
    "Collapsed": "false"
   },
   "outputs": [],
   "source": [
    "COL_NO_MISSING_PROP = COL_NO_MISSING + '_PROP'\n",
    "sample_stats[COL_NO_MISSING_PROP] = sample_stats[COL_NO_MISSING] / \\\n",
    "    float(X.shape[1])\n",
    "\n",
    "# from ggplot import *\n",
    "# ggplot(aes(x='nan_proc'), data = nonnan) + geom_histogram(binwidth = 0.005) #+ ylim(0,0.025)\n",
    "sns.set(style=\"darkgrid\")\n",
    "g = sns.relplot(x='prop_samples', y=COL_NO_MISSING_PROP, data=sample_stats)\n",
    "plt.subplots_adjust(top=0.9)\n",
    "g.set_axis_labels(\n",
    "    \"Proportion of samples (sorted by frequency)\", \"proportion missing\")\n",
    "g.fig.suptitle(f'Proportion of missing {TYPE} ordered')\n",
    "_savefig(g, \"proportion_proteins_missing\")"
   ]
  },
  {
   "cell_type": "markdown",
   "metadata": {
    "Collapsed": "false"
   },
   "source": [
    "## Look at sequences"
   ]
  },
  {
   "cell_type": "code",
   "execution_count": null,
   "metadata": {
    "Collapsed": "false"
   },
   "outputs": [],
   "source": [
    "class SequenceAnalyser():\n",
    "\n",
    "    def __init__(self, sequences: pd.Series):\n",
    "        if not isinstance(sequences, pd.Series):\n",
    "            raise ValueError(\n",
    "                \"Please provide a pandas.Series, not {}\".format(type(sequences)))\n",
    "        self.sequences = sequences\n",
    "\n",
    "    def calc_counts(self, n_characters):\n",
    "        return self.sequences.str[:n_characters].value_counts()\n",
    "\n",
    "    def length(self):\n",
    "        return self.sequences.str.len().sort_values()"
   ]
  },
  {
   "cell_type": "code",
   "execution_count": null,
   "metadata": {
    "Collapsed": "false"
   },
   "outputs": [],
   "source": [
    "sequences = SequenceAnalyser(X.columns.to_series())\n",
    "sequences.length()"
   ]
  },
  {
   "cell_type": "code",
   "execution_count": null,
   "metadata": {
    "Collapsed": "false"
   },
   "outputs": [],
   "source": [
    "import ipywidgets as w\n",
    "_ = w.interact(sequences.calc_counts,\n",
    "           n_characters=w.IntSlider(value=4, min=1, max=55))"
   ]
  },
  {
   "cell_type": "code",
   "execution_count": null,
   "metadata": {
    "Collapsed": "false"
   },
   "outputs": [],
   "source": [
    "sequences_p4 = sequences.calc_counts(4)\n",
    "display(sequences_p4.head())\n",
    "sequences_p4.loc[sequences_p4.isin(('CON_', 'REV_'))].sort_index()"
   ]
  },
  {
   "cell_type": "markdown",
   "metadata": {
    "Collapsed": "false"
   },
   "source": [
    "What to do when \n",
    "\n",
    "\n",
    "```\n",
    "AAAAAAAAAAGAAGGRGSGPGR\n",
    "AAAAAAAAAAGAAGGRGSGPGRR\n",
    "\n",
    "AAAANSGSSLPLFDCPTWAGKPPPGLHLDVVK\n",
    "AAAANSGSSLPLFDCPTWAGKPPPGLHLDVVKGDK\n",
    "```\n",
    "\n"
   ]
  },
  {
   "cell_type": "markdown",
   "metadata": {
    "Collapsed": "false"
   },
   "source": [
    "## Select Training Data"
   ]
  },
  {
   "cell_type": "markdown",
   "metadata": {
    "Collapsed": "false"
   },
   "source": [
    "### Minumum required sample quality\n",
    "First define the minum requirement of a sample to be kept in "
   ]
  },
  {
   "cell_type": "code",
   "execution_count": null,
   "metadata": {
    "Collapsed": "false",
    "tags": []
   },
   "outputs": [],
   "source": [
    "import ipywidgets as w\n",
    "range_peps = (0,  max(sample_stats[COL_NO_IDENTIFIED]))\n",
    "MIN_DEPTH_SAMPLE = int(range_peps[1] * 0.6)\n",
    "w_min_depth_sample = w.IntSlider(\n",
    "    value=MIN_DEPTH_SAMPLE, min=0, max=range_peps[1])\n",
    "print(f'Minimum {TYPE} per sample observed:')\n",
    "w_min_depth_sample"
   ]
  },
  {
   "cell_type": "code",
   "execution_count": null,
   "metadata": {
    "Collapsed": "false",
    "tags": []
   },
   "outputs": [],
   "source": [
    "mask_samples = sample_stats[COL_NO_IDENTIFIED] >= w_min_depth_sample.value\n",
    "print(f\"Selected {mask_samples.sum()} samples\")"
   ]
  },
  {
   "cell_type": "code",
   "execution_count": null,
   "metadata": {
    "Collapsed": "false"
   },
   "outputs": [],
   "source": [
    "from vaep.data_handling import coverage\n",
    "x_50 = coverage(X.loc[mask_samples], coverage_col=0.5, coverage_row=0.2)\n",
    "# x_50_pca = log_z_zeroone_na(x_50) # there is a huge difference if NA is set to low value or mean!!\n",
    "x_90 = coverage(X.loc[mask_samples], 0.9, 0.9)"
   ]
  },
  {
   "cell_type": "code",
   "execution_count": null,
   "metadata": {
    "Collapsed": "false"
   },
   "outputs": [],
   "source": [
    "x_50.shape, x_90.shape"
   ]
  },
  {
   "cell_type": "code",
   "execution_count": null,
   "metadata": {
    "Collapsed": "false"
   },
   "outputs": [],
   "source": [
    "x_90.sample()"
   ]
  },
  {
   "cell_type": "code",
   "execution_count": null,
   "metadata": {},
   "outputs": [],
   "source": [
    "from src.data_objects import get_fname\n",
    "fname = config.FOLDER_DATA / get_fname(*x_90.shape)\n",
    "print(fname)\n",
    "x_90.to_csv(fname)\n",
    "fname = config.FOLDER_DATA / get_fname(*x_50.shape)\n",
    "print(fname)\n",
    "x_50.to_csv(fname)"
   ]
  },
  {
   "cell_type": "markdown",
   "metadata": {
    "Collapsed": "false"
   },
   "source": [
    "### Distribution of Intensity values\n",
    "- comparing non-transformed to $\\log_{10}$ transformed"
   ]
  },
  {
   "cell_type": "code",
   "execution_count": null,
   "metadata": {
    "Collapsed": "false",
    "tags": []
   },
   "outputs": [],
   "source": [
    "from vaep.transform import log\n",
    "from random import sample\n",
    "sample = x_50.sample().iloc[0]\n",
    "sample_id = sample.name \n",
    "print(\"Sample ID:\", sample_id)\n",
    "sns.set(style=\"darkgrid\")\n",
    "\n",
    "fig, axes = plt.subplots(1, 2, figsize=(12, 5))\n",
    "sns.histplot(sample, bins=100, ax=axes[0])\n",
    "axes[0].set_title(\"Unnormalized distribution\")\n",
    "\n",
    "# natural logarithm, could also be base_2, base_10 logarithm\n",
    "sample_log = log(sample)\n",
    "sns.histplot(sample_log, bins=100, ax=axes[1])\n",
    "axes[1].set_title('log (ln) normalized distribution')\n",
    "\n",
    "_ = fig.suptitle(\n",
    "    f\"Dynamic Range of measured intensities in sample {sample_id}\")\n",
    "fig.tight_layout(rect=[0, 0.03, 1, 0.95])\n",
    "_savefig(fig, 'distribution_peptides_sample_' + str(sample_id))"
   ]
  },
  {
   "cell_type": "code",
   "execution_count": null,
   "metadata": {
    "Collapsed": "false",
    "tags": []
   },
   "outputs": [],
   "source": [
    "from vaep.transform import log\n",
    "from random import sample\n",
    "sample = x_50.sample(axis=1)\n",
    "sample_id = sample.columns[0]\n",
    "print(\"Sample ID:\", sample_id)\n",
    "sns.set(style=\"darkgrid\")\n",
    "fig, axes = plt.subplots(1, 2, figsize=(12, 5))\n",
    "sns.histplot(sample, bins=100, ax=axes[0])\n",
    "axes[0].set_title(\"Unnormalized distribution\")\n",
    "\n",
    "# natural logarithm, could also be base_2, base_10 logarithm\n",
    "sample_log = log(sample)\n",
    "sns.histplot(sample_log, bins=100, ax=axes[1])\n",
    "axes[1].set_title('log (ln) normalized distribution')\n",
    "\n",
    "fig.suptitle(f\"Dynamic range of {sample_id} between samples\")\n",
    "fig.tight_layout(rect=[0, 0.03, 1, 0.95])\n",
    "_savefig(fig, 'distribution_peptides_sample_' + str(sample_id))"
   ]
  },
  {
   "cell_type": "markdown",
   "metadata": {
    "Collapsed": "false"
   },
   "source": [
    "### Reference table intensities (natural logarithm)\n",
    "\n",
    "14 to 23 spans a dynamic range of 3 orders of base 10"
   ]
  },
  {
   "cell_type": "code",
   "execution_count": null,
   "metadata": {
    "Collapsed": "false"
   },
   "outputs": [],
   "source": [
    "pd.set_option('precision', 2)\n",
    "\n",
    "dynamic_range = pd.DataFrame(range(14, 24), columns=['x'])\n",
    "dynamic_range['$e^x$'] = dynamic_range.x.apply(np.exp)\n",
    "dynamic_range.set_index('x', inplace=True)\n",
    "dynamic_range.index.name = ''\n",
    "dynamic_range.T"
   ]
  },
  {
   "cell_type": "markdown",
   "metadata": {
    "Collapsed": "false"
   },
   "source": [
    "## Next UP"
   ]
  },
  {
   "cell_type": "markdown",
   "metadata": {
    "Collapsed": "false"
   },
   "source": [
    "### Find Protein of Peptides\n",
    "- check with some reference list of peptides: This is created in `project\\FASTA_tryptic_digest.ipynb` "
   ]
  },
  {
   "cell_type": "code",
   "execution_count": null,
   "metadata": {},
   "outputs": [],
   "source": []
  }
 ],
 "metadata": {
  "kernelspec": {
   "display_name": "vaep",
   "language": "python",
   "name": "vaep"
  },
  "language_info": {
   "codemirror_mode": {
    "name": "ipython",
    "version": 3
   },
   "file_extension": ".py",
   "mimetype": "text/x-python",
   "name": "python",
   "nbconvert_exporter": "python",
   "pygments_lexer": "ipython3",
   "version": "3.8.12"
  },
  "nbdime-conflicts": {
   "local_diff": [
    {
     "diff": [
      {
       "diff": [
        {
         "diff": [
          {
           "key": 4,
           "op": "addrange",
           "valuelist": "5"
          },
          {
           "key": 4,
           "length": 1,
           "op": "removerange"
          }
         ],
         "key": 0,
         "op": "patch"
        }
       ],
       "key": "version",
       "op": "patch"
      }
     ],
     "key": "language_info",
     "op": "patch"
    }
   ],
   "remote_diff": [
    {
     "diff": [
      {
       "diff": [
        {
         "key": 0,
         "length": 1,
         "op": "removerange"
        }
       ],
       "key": "version",
       "op": "patch"
      }
     ],
     "key": "language_info",
     "op": "patch"
    }
   ]
  }
 },
 "nbformat": 4,
 "nbformat_minor": 4
}
