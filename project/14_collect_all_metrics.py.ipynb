{
 "cells": [
  {
   "cell_type": "code",
   "execution_count": null,
   "id": "031a2a3f-2367-469b-8186-836b53eacced",
   "metadata": {},
   "outputs": [],
   "source": [
    "import json\n",
    "from pathlib import Path\n",
    "import pandas as pd\n",
    "import vaep.pandas"
   ]
  },
  {
   "cell_type": "code",
   "execution_count": null,
   "id": "c2e09620",
   "metadata": {},
   "outputs": [],
   "source": [
    "def select_content(s:str):\n",
    "    s = s.split('metrics_')[1]\n",
    "    assert isinstance(s, str), f\"More than one split: {s}\"\n",
    "    entries = s.split('_')\n",
    "    if len(entries) > 1:\n",
    "        s = '_'.join(entries[:-1])\n",
    "    return s\n",
    "    \n",
    "test_cases = ['model_metrics_HL_1024_512_256_dae',\n",
    "              'model_metrics_HL_1024_512_vae',\n",
    "              'model_metrics_collab']\n",
    " \n",
    "for test_case in test_cases:\n",
    "    print(f\"{test_case} = {select_content(test_case)}\")"
   ]
  },
  {
   "cell_type": "code",
   "execution_count": null,
   "id": "3a6d0fdf-66d4-4a4b-9408-02c25db97652",
   "metadata": {},
   "outputs": [],
   "source": [
    "all_metrics = {}\n",
    "for fname in snakemake.input:\n",
    "    fname = Path(fname)\n",
    "    # \"grandparent\" directory gives name beside name of file\n",
    "    key = f\"{fname.parents[1].name}_{select_content(fname.stem)}\"\n",
    "    print(f\"{key = }\")\n",
    "    with open(fname) as f:\n",
    "        loaded = json.load(f)\n",
    "    loaded = vaep.pandas.flatten_dict_of_dicts(loaded)\n",
    "    if key not in all_metrics:\n",
    "        all_metrics[key] = loaded\n",
    "        continue\n",
    "    for k, v in loaded.items():\n",
    "        if k in all_metrics[key]:\n",
    "            assert all_metrics[key][k] == v, \"Diverging values for {k}: {v1} vs {v2}\".format(\n",
    "                k=k,\n",
    "                v1=all_metrics[key][k],\n",
    "                v2=v)\n",
    "        else:\n",
    "            all_metrics[key][k] = v\n",
    "\n",
    "pd.DataFrame(all_metrics).to_json(snakemake.output.out)"
   ]
  },
  {
   "cell_type": "code",
   "execution_count": null,
   "id": "37441394-a387-46be-963d-a90897f592af",
   "metadata": {},
   "outputs": [],
   "source": [
    "all_metrics"
   ]
  },
  {
   "cell_type": "code",
   "execution_count": null,
   "id": "34acfab8",
   "metadata": {},
   "outputs": [],
   "source": []
  }
 ],
 "metadata": {
  "kernelspec": {
   "display_name": "vaep",
   "language": "python",
   "name": "vaep"
  },
  "language_info": {
   "codemirror_mode": {
    "name": "ipython",
    "version": 3
   },
   "file_extension": ".py",
   "mimetype": "text/x-python",
   "name": "python",
   "nbconvert_exporter": "python",
   "pygments_lexer": "ipython3",
   "version": "3.8.13"
  },
  "toc": {
   "base_numbering": 1,
   "nav_menu": {},
   "number_sections": true,
   "sideBar": true,
   "skip_h1_title": false,
   "title_cell": "Table of Contents",
   "title_sidebar": "Contents",
   "toc_cell": false,
   "toc_position": {},
   "toc_section_display": true,
   "toc_window_display": false
  }
 },
 "nbformat": 4,
 "nbformat_minor": 5
}
