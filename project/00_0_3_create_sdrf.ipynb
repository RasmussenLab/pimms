{
 "cells": [
  {
   "cell_type": "markdown",
   "id": "da553f6b",
   "metadata": {},
   "source": [
    "# Create SDRF file\n",
    "- [example](https://github.com/bigbio/proteomics-sample-metadata/blob/6f31044f0bcf545ae2da6e853f8ccad011ea4703/annotated-projects/PXD000895/PXD000895.sdrf.tsv)"
   ]
  },
  {
   "cell_type": "code",
   "execution_count": null,
   "id": "85a2d719",
   "metadata": {
    "lines_to_next_cell": 2
   },
   "outputs": [],
   "source": [
    "from pathlib import Path\n",
    "import pandas as pd"
   ]
  },
  {
   "cell_type": "code",
   "execution_count": null,
   "id": "2e9e102d",
   "metadata": {
    "lines_to_next_cell": 2
   },
   "outputs": [],
   "source": [
    "fn_sdrf_cellline_template = Path('data') / 'sdrf-cell-line-template.tsv'\n",
    "fn_meta = Path('data/rename') / 'selected_old_new_id_mapping.csv'"
   ]
  },
  {
   "cell_type": "code",
   "execution_count": null,
   "id": "8426e2f1",
   "metadata": {},
   "outputs": [],
   "source": [
    "df_meta = pd.read_csv(fn_meta, index_col='new_sample_id')\n",
    "df_meta"
   ]
  },
  {
   "cell_type": "code",
   "execution_count": null,
   "id": "6712b0d9",
   "metadata": {
    "lines_to_next_cell": 0
   },
   "outputs": [],
   "source": [
    "sdrf = pd.DataFrame()  # pd.read_table(fn_sdrf_cellline_template)\n",
    "sdrf['source name'] = df_meta.index\n",
    "sdrf = sdrf.set_index('source name')\n",
    "sdrf['characteristics[organism]'] = 'Homo sapiens'\n",
    "sdrf['characteristics[organism part]'] = 'cervex'\n",
    "sdrf['characteristics[ancestry category]'] = 'Black'\n",
    "sdrf['characteristics[age]'] = '31Y'\n",
    "sdrf['characteristics[developmental stage]'] = 'adult'\n",
    "sdrf['characteristics[sex]'] = 'female'\n",
    "sdrf['characteristics[cell line]'] = 'HeLa cells'\n",
    "sdrf['characteristics[cell type]'] = 'epithelial'\n",
    "sdrf['characteristics[disease]'] = 'adenocarcinoma'\n",
    "sdrf['characteristics[cell line]'] = 'HeLa cells'\n",
    "sdrf['characteristics[biological replicate]'] = 1\n",
    "sdrf['assay name'] = sdrf.index\n",
    "sdrf['technology type'] = 'proteomic profiling by mass spectrometer'\n",
    "sdrf['comment[technical replicate]'] = range(0, len(sdrf))\n",
    "sdrf['comment[data file]'] = sdrf.index + '.raw'\n",
    "sdrf['comment[fraction identifier]'] = 1\n",
    "sdrf['comment[label]'] = 'NT=label free sample;AC=MS:1002038'  # To check\n",
    "sdrf['comment[cleavage agent details]'] = 'NT=Trypsin;AC=MS:1001251'\n",
    "sdrf['comment[instrument]'] = df_meta['Instrument_name']\n",
    "\n",
    "sdrf"
   ]
  },
  {
   "cell_type": "code",
   "execution_count": null,
   "id": "c14ca4f0",
   "metadata": {},
   "outputs": [],
   "source": [
    "# based on https://www.ebi.ac.uk/ols4/\n",
    "#\n",
    "# Q Exactive HF-X MS:1002877\n",
    "# Q Exactive HF MS:1002523\n",
    "# Orbitrap Exploris 480 MS:1003028\n",
    "# Exactive Plus MS:1002526\n",
    "# Q Exactive MS:1001911\n",
    "# Orbitrap Fusion Lumos MS:1002732\n",
    "\n",
    "\n",
    "instrument_ms_mapping = {\n",
    "    'Q-Exactive-HF-X-Orbitrap_6070': 'NT=Q Exactive HF-X;AC=MS:1002877:',\n",
    "    'Q-Exactive-HF-X-Orbitrap_6071': 'NT=Q Exactive HF-X;AC=MS:1002877:',\n",
    "    'Q-Exactive-HF-X-Orbitrap_6075': 'NT=Q Exactive HF-X;AC=MS:1002877:',\n",
    "    'Q-Exactive-HF-X-Orbitrap_6101': 'NT=Q Exactive HF-X;AC=MS:1002877:',\n",
    "    'Q-Exactive-HF-Orbitrap_207': 'NT=Q Exactive HF;AC=MS:1002523',\n",
    "    'Q-Exactive-HF-X-Orbitrap_6096': 'NT=Q Exactive HF-X;AC=MS:1002877:',\n",
    "    'Q-Exactive-HF-X-Orbitrap_6078': 'NT=Q Exactive HF-X;AC=MS:1002877:',\n",
    "    'Q-Exactive-HF-Orbitrap_147': 'NT=Q Exactive HF;AC=MS:1002523',\n",
    "    'Q-Exactive-Orbitrap_1': 'NT=Q Exactive;AC=MS:1001911',\n",
    "    'Q-Exactive-HF-Orbitrap_143': 'NT=Q Exactive HF;AC=MS:1002523',\n",
    "    'Q-Exactive-HF-Orbitrap_204': 'NT=Q Exactive HF;AC=MS:1002523',\n",
    "    'Q-Exactive-HF-X-Orbitrap_6011': 'NT=Q Exactive HF-X;AC=MS:1002877:',\n",
    "    'Q-Exactive-HF-Orbitrap_206': 'NT=Q Exactive HF;AC=MS:1002523',\n",
    "    'Q-Exactive-HF-X-Orbitrap_6073': 'NT=Q Exactive HF-X;AC=MS:1002877:',\n",
    "    'Q-Exactive-HF-Orbitrap_1': 'NT=Q Exactive HF;AC=MS:1002523',\n",
    "    'Q-Exactive-HF-Orbitrap_148': 'NT=Q Exactive HF;AC=MS:1002523',\n",
    "    'Orbitrap-Fusion-Lumos_FSN20115': 'NT=Orbitrap Fusion Lumos;AC=MS:1002732',\n",
    "    'Q-Exactive-HF-X-Orbitrap_6016': 'NT=Q Exactive HF-X;AC=MS:1002877:',\n",
    "    'Q-Exactive-HF-X-Orbitrap_6004': 'NT=Q Exactive HF-X;AC=MS:1002877:',\n",
    "    'Orbitrap-Exploris-480_MA10132C': 'NT=Orbitrap Exploris 480;AC=MS:1003028',\n",
    "    'Q-Exactive-HF-X-Orbitrap_6028': 'NT=Q Exactive HF-X;AC=MS:1002877:',\n",
    "    'Q-Exactive-HF-X-Orbitrap_6044': 'NT=Q Exactive HF-X;AC=MS:1002877:',\n",
    "    'Q-Exactive-HF-X-Orbitrap_6025': 'NT=Q Exactive HF-X;AC=MS:1002877:',\n",
    "    'Q-Exactive-HF-X-Orbitrap_6324': 'NT=Q Exactive HF-X;AC=MS:1002877:',\n",
    "    'Orbitrap-Exploris-480_MA10134C': 'NT=Orbitrap Exploris 480;AC=MS:1003028',\n",
    "    'Q-Exactive-HF-X-Orbitrap_6022': 'NT=Q Exactive HF-X;AC=MS:1002877:',\n",
    "    'Q-Exactive-HF-X-Orbitrap_6043': 'NT=Q Exactive HF-X;AC=MS:1002877:',\n",
    "    'Q-Exactive-HF-X-Orbitrap_6013': 'NT=Q Exactive HF-X;AC=MS:1002877:',\n",
    "    'Q-Exactive-HF-X-Orbitrap_6023': 'NT=Q Exactive HF-X;AC=MS:1002877:',\n",
    "    'Exactive-Series-Orbitrap_6004': 'NT=Q Exactive;AC=MS:1001911',\n",
    "    'Orbitrap-Exploris-480_Invalid_SN_0001': 'NT=Orbitrap Exploris 480;AC=MS:1003028',\n",
    "    'Orbitrap-Exploris-480_MA10215C': 'NT=Orbitrap Exploris 480;AC=MS:1003028',\n",
    "    'Q-Exactive-HF-Orbitrap_2612': 'NT=Q Exactive HF;AC=MS:1002523',\n",
    "    'Q-Exactive-Plus-Orbitrap_1': 'NT=Exactive Plus;AC=MS:1002526',\n",
    "    'Q-Exactive-Plus-Orbitrap_143': 'NT=Exactive Plus;AC=MS:1002526',\n",
    "    'Orbitrap-Exploris-480_MA10130C': 'NT=Orbitrap Exploris 480;AC=MS:1003028',\n",
    "}\n",
    "sdrf['comment[instrument]'] = sdrf['comment[instrument]'].replace(\n",
    "    instrument_ms_mapping)"
   ]
  },
  {
   "cell_type": "code",
   "execution_count": null,
   "id": "57c38cb7",
   "metadata": {},
   "outputs": [],
   "source": [
    "# change order: The column `technology type`` cannot be before the `assay name`` -- ERROR\n",
    "# template has wrong order (open PR)\n",
    "# -> done now above\n",
    "# order = ['characteristics[organism]',\n",
    "#          'characteristics[organism part]',\n",
    "#          'characteristics[ancestry category]',\n",
    "#          'characteristics[cell type]',\n",
    "#          'characteristics[disease]',\n",
    "#          'characteristics[cell line]',\n",
    "#          'characteristics[biological replicate]',\n",
    "#          'assay name',\n",
    "#          'technology type',\n",
    "#          'comment[technical replicate]',\n",
    "#          'comment[data file]',\n",
    "#          'comment[fraction identifier]',\n",
    "#          'comment[label]',\n",
    "#          'comment[cleavage agent details]',\n",
    "#          'comment[instrument]']\n",
    "\n",
    "# sdrf = sdrf[order]"
   ]
  },
  {
   "cell_type": "code",
   "execution_count": null,
   "id": "d81cff5f",
   "metadata": {
    "lines_to_next_cell": 0
   },
   "outputs": [],
   "source": [
    "fname = Path('data') / 'dev_datasets' / 'Experimental-Design.sdrf.tsv'\n",
    "sdrf.to_csv(fname, sep='\\t')\n",
    "fname"
   ]
  },
  {
   "cell_type": "markdown",
   "id": "b80c5166",
   "metadata": {},
   "source": [
    "## Validate SDRF file\n",
    "```\n",
    "pip install sdrf-pipelines\n",
    "parse_sdrf validate-sdrf --sdrf_file project\\data\\dev_datasets\\sdrf.tsv\n",
    "```"
   ]
  }
 ],
 "metadata": {
  "jupytext": {
   "cell_metadata_filter": "-all",
   "main_language": "python",
   "notebook_metadata_filter": "-all"
  }
 },
 "nbformat": 4,
 "nbformat_minor": 5
}
