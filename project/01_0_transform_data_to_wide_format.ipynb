{
 "cells": [
  {
   "cell_type": "markdown",
   "id": "0b3a8726",
   "metadata": {},
   "source": [
    "# Transfer data for NAGuideR format\n"
   ]
  },
  {
   "cell_type": "code",
   "execution_count": null,
   "id": "9aacaba7",
   "metadata": {
    "tags": [
     "hide-input"
    ]
   },
   "outputs": [],
   "source": [
    "import pandas as pd\n",
    "\n",
    "import vaep\n",
    "import vaep.models\n",
    "from vaep.io import datasplits"
   ]
  },
  {
   "cell_type": "code",
   "execution_count": null,
   "id": "d01a155d",
   "metadata": {
    "tags": [
     "hide-input"
    ]
   },
   "outputs": [],
   "source": [
    "# catch passed parameters\n",
    "args = None\n",
    "args = dict(globals()).keys()"
   ]
  },
  {
   "cell_type": "markdown",
   "id": "55e364af",
   "metadata": {},
   "source": [
    "Papermill script parameters:"
   ]
  },
  {
   "cell_type": "code",
   "execution_count": null,
   "id": "394d0bb1",
   "metadata": {
    "tags": [
     "parameters"
    ]
   },
   "outputs": [],
   "source": [
    "# files and folders\n",
    "# Datasplit folder with data for experiment\n",
    "folder_experiment: str = 'runs/example'\n",
    "folder_data: str = ''  # specify data directory if needed\n",
    "file_format_in: str = 'csv'  # file format of original splits, default pickle (pkl)\n",
    "file_format_out: str = 'csv'  # file format of transformed splits, default csv"
   ]
  },
  {
   "cell_type": "code",
   "execution_count": null,
   "id": "43ff9ae3",
   "metadata": {
    "tags": [
     "hide-input"
    ]
   },
   "outputs": [],
   "source": [
    "args = vaep.nb.get_params(args, globals=globals())\n",
    "args"
   ]
  },
  {
   "cell_type": "code",
   "execution_count": null,
   "id": "11e46901",
   "metadata": {
    "tags": [
     "hide-input"
    ]
   },
   "outputs": [],
   "source": [
    "params = vaep.nb.args_from_dict(args)\n",
    "# params = OmegaConf.create(args)\n",
    "params"
   ]
  },
  {
   "cell_type": "code",
   "execution_count": null,
   "id": "1194de4e",
   "metadata": {
    "tags": [
     "hide-input"
    ]
   },
   "outputs": [],
   "source": [
    "splits = datasplits.DataSplits.from_folder(params.data, file_format=params.file_format_in)"
   ]
  },
  {
   "cell_type": "code",
   "execution_count": null,
   "id": "197708a1",
   "metadata": {
    "lines_to_next_cell": 2,
    "tags": [
     "hide-input"
    ]
   },
   "outputs": [],
   "source": [
    "train_data = splits.train_X.unstack()\n",
    "train_data"
   ]
  },
  {
   "cell_type": "markdown",
   "id": "6dfbf01a",
   "metadata": {
    "lines_to_next_cell": 2
   },
   "source": [
    "Save placeholder sample annotation for use in NAGuideR app which requires such a file"
   ]
  },
  {
   "cell_type": "code",
   "execution_count": null,
   "id": "feeae52b",
   "metadata": {
    "tags": [
     "hide-input"
    ]
   },
   "outputs": [],
   "source": [
    "annotation = pd.Series('test', train_data.index).to_frame('group')\n",
    "annotation.index.name = 'Samples'\n",
    "annotation"
   ]
  },
  {
   "cell_type": "code",
   "execution_count": null,
   "id": "57546236",
   "metadata": {
    "tags": [
     "hide-input"
    ]
   },
   "outputs": [],
   "source": [
    "fname = params.data / 'sample_annotation_placeholder.csv'\n",
    "annotation.to_csv(fname)\n",
    "fname"
   ]
  },
  {
   "cell_type": "code",
   "execution_count": null,
   "id": "5de37038",
   "metadata": {
    "title": "[markdo]"
   },
   "outputs": [],
   "source": [
    "# Save with samples in columns"
   ]
  },
  {
   "cell_type": "code",
   "execution_count": null,
   "id": "ce749fdb",
   "metadata": {
    "lines_to_next_cell": 2,
    "tags": [
     "hide-input"
    ]
   },
   "outputs": [],
   "source": [
    "fname = params.data / 'data_wide_sample_cols.csv'\n",
    "# fillna('Filtered')\n",
    "train_data.T.to_csv(fname)\n",
    "fname"
   ]
  },
  {
   "cell_type": "code",
   "execution_count": null,
   "id": "8ce12421",
   "metadata": {
    "tags": [
     "hide-input"
    ]
   },
   "outputs": [],
   "source": [
    "# 'data_wide_sample_cols.csv'"
   ]
  }
 ],
 "metadata": {
  "jupytext": {
   "cell_metadata_filter": "title,tags,-all"
  },
  "kernelspec": {
   "display_name": "Python 3",
   "language": "python",
   "name": "python3"
  }
 },
 "nbformat": 4,
 "nbformat_minor": 5
}
