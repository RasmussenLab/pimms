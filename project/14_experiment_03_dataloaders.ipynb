{
 "cells": [
  {
   "cell_type": "markdown",
   "id": "3167ddaa-c624-4561-807d-9a42b389bee5",
   "metadata": {},
   "source": [
    "# `DataLoaders` for feeding data into models"
   ]
  },
  {
   "cell_type": "code",
   "execution_count": null,
   "id": "a2a88a17-0004-44e8-950d-1696907025c1",
   "metadata": {},
   "outputs": [],
   "source": [
    "from src.setup_logging import *\n",
    "from vaep.io.datasplits import DataSplits\n",
    "\n",
    "data = DataSplits.from_folder(folder='data/msinstrument_in_QE4', use_wide_format=True)\n",
    "data.test_X"
   ]
  },
  {
   "cell_type": "markdown",
   "id": "526ea1e3-22b6-4720-8ced-b1295220c97e",
   "metadata": {},
   "source": [
    "## Collab"
   ]
  },
  {
   "cell_type": "code",
   "execution_count": null,
   "id": "3de36c59-1201-4f71-a476-0ca9f88762a8",
   "metadata": {},
   "outputs": [],
   "source": []
  },
  {
   "cell_type": "markdown",
   "id": "7b5aab60-049b-45a7-860e-1a572c014556",
   "metadata": {},
   "source": [
    "## Denoising Autoencoder"
   ]
  },
  {
   "cell_type": "code",
   "execution_count": null,
   "id": "cf81f67a-c918-43f5-b0d1-5423d289f625",
   "metadata": {},
   "outputs": [],
   "source": [
    "from fastai.tabular.core import Normalize\n",
    "from fastai.tabular.core import FillMissing\n",
    "from fastai.tabular.core import TabularPandas"
   ]
  },
  {
   "cell_type": "code",
   "execution_count": null,
   "id": "1543e815-72e6-411c-afcf-237103e3cce8",
   "metadata": {},
   "outputs": [],
   "source": [
    "to = TabularPandas(data.train_X, procs=None, cont_names=None)\n",
    "print(\"Tabular object:\", type(to))"
   ]
  },
  {
   "cell_type": "markdown",
   "id": "1c49cf8c-6e0a-4b4b-8e75-3bc5ab5d3781",
   "metadata": {},
   "source": [
    "## Variational Autoencoder"
   ]
  },
  {
   "cell_type": "code",
   "execution_count": null,
   "id": "59138366-9028-4a19-8b76-222f0d232270",
   "metadata": {},
   "outputs": [],
   "source": []
  }
 ],
 "metadata": {
  "kernelspec": {
   "display_name": "vaep",
   "language": "python",
   "name": "vaep"
  },
  "language_info": {
   "codemirror_mode": {
    "name": "ipython",
    "version": 3
   },
   "file_extension": ".py",
   "mimetype": "text/x-python",
   "name": "python",
   "nbconvert_exporter": "python",
   "pygments_lexer": "ipython3",
   "version": "3.8.12"
  }
 },
 "nbformat": 4,
 "nbformat_minor": 5
}
