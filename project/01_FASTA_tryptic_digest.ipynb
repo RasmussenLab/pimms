{
 "cells": [
  {
   "cell_type": "markdown",
   "metadata": {},
   "source": [
    "# Process FASTA files\n",
    "> uses only the provided fasta files in `src/config.py` by `FOLDER_FASTA` \n",
    "\n",
    "- create theoretically considered peptides considered by search engines\n",
    "- dump results as human readable json to `FN_FASTA_DB` file specifed in src/config.\n",
    "\n",
    "> Based on notebook received by [Annelaura Bach](https://www.cpr.ku.dk/staff/mann-group/?pure=en/persons/443836) and created by Johannes B. Müller \\[[scholar](https://scholar.google.com/citations?user=Rn1OS8oAAAAJ&hl=de), [MPI Biochemistry](https://www.biochem.mpg.de/person/93696/2253)\\]"
   ]
  },
  {
   "cell_type": "code",
   "execution_count": null,
   "metadata": {},
   "outputs": [],
   "source": [
    "import json\n",
    "import logging\n",
    "from pathlib import Path\n",
    "import os\n",
    "\n",
    "from src/config import FIGUREFOLDER\n",
    "\n",
    "import matplotlib.pyplot as plt\n",
    "import pandas as pd\n",
    "from tqdm.notebook import tqdm"
   ]
  },
  {
   "cell_type": "code",
   "execution_count": null,
   "metadata": {},
   "outputs": [],
   "source": [
    "from vaep.fasta import cleave_to_tryptic"
   ]
  },
  {
   "cell_type": "markdown",
   "metadata": {},
   "source": [
    "## Core Functionality - Example\n",
    "\n",
    "- write tests for core functinality\n",
    "- refactor to file"
   ]
  },
  {
   "cell_type": "code",
   "execution_count": null,
   "metadata": {},
   "outputs": [],
   "source": [
    "test_data = {\n",
    "    \"meta\": \">tr|A0A024R1R8|A0A024R1R8_HUMAN HCG2014768, isoform CRA_a OS=Homo sapiens OX=9606 GN=hCG_2014768 PE=4 SV=1\",\n",
    "    \"seq\": \"MSSHEGGKKKALKQPKKQAKEMDEEEKAFKQKQKEEQKKLEVLKAKVVGKGPLATGGIKKSGKK\",\n",
    "    \"peptides\": [\"MSSHEGGK\", \"EMDEEEK\", \"GPLATGGIK\"],\n",
    "}"
   ]
  },
  {
   "cell_type": "markdown",
   "metadata": {},
   "source": [
    "regex is slower than native string replacing and splitting in Python"
   ]
  },
  {
   "cell_type": "code",
   "execution_count": null,
   "metadata": {},
   "outputs": [],
   "source": [
    "# import re\n",
    "# cut_by_trypsin = re.compile('([^K]+K)|([^R]+R)')\n",
    "# _res = cut_by_trypsin.split(test_data['seq'])\n",
    "# [_pep for _pep in _res if _pep != '' and _pep != None]"
   ]
  },
  {
   "cell_type": "markdown",
   "metadata": {},
   "source": [
    "\n",
    "- map peptide set of peptides (how to deal with mis-cleavages?)\n",
    "    - mis-cleavages can happen both to the peptide before and after.\n",
    "    > `pep1, pep2, pep3, pep4, pep5`  \n",
    "    > `pep1pep2, pep2pep3, pep3pep4, pep4pep5`\n",
    "    - sliding windows can pass trough the list of peptides - should work with recursion"
   ]
  },
  {
   "cell_type": "code",
   "execution_count": null,
   "metadata": {},
   "outputs": [],
   "source": [
    "l_peptides = test_data[\"seq\"].replace(\"K\", \"K \").replace(\"R\", \"R \").split()\n",
    "l_peptides"
   ]
  },
  {
   "cell_type": "markdown",
   "metadata": {},
   "source": [
    "`add_rxk` should add pattern of starting R and trailing K ?  "
   ]
  },
  {
   "cell_type": "code",
   "execution_count": null,
   "metadata": {},
   "outputs": [],
   "source": [
    "last_pep = \"\"\n",
    "temp_peps = []\n",
    "num_missed_cleavages = 1\n",
    "add_rxk = True\n",
    "\n",
    "sec_last_pep = \"\"\n",
    "\n",
    "pep_rdx = []\n",
    "\n",
    "for pep in l_peptides:\n",
    "    if last_pep != \"\":\n",
    "        temp_peps.append(last_pep + pep)\n",
    "    if add_rxk and sec_last_pep != \"\" and len(sec_last_pep) <= 2:\n",
    "        _pep_rxk = sec_last_pep + last_pep + pep\n",
    "        print(_pep_rxk)\n",
    "        pep_rdx.append(_pep_rxk)\n",
    "        temp_peps.append(_pep_rxk)\n",
    "\n",
    "    sec_last_pep = last_pep  # sec_last_pep, last_pep = last_pep, pep ?\n",
    "    last_pep = pep\n",
    "temp_peps"
   ]
  },
  {
   "cell_type": "code",
   "execution_count": null,
   "metadata": {},
   "outputs": [],
   "source": [
    "repr(pep_rdx)"
   ]
  },
  {
   "cell_type": "markdown",
   "metadata": {},
   "source": [
    "Missed cleavages core functionality (adapted)"
   ]
  },
  {
   "cell_type": "code",
   "execution_count": null,
   "metadata": {},
   "outputs": [],
   "source": [
    "example_peptides_fasta = cleave_to_tryptic(\n",
    "    test_data[\"seq\"], num_missed_cleavages=2, add_rxk=True\n",
    ")\n",
    "print(\"number of peptides: \", [len(_l) for _l in example_peptides_fasta])\n",
    "example_peptides_fasta[-1]"
   ]
  },
  {
   "cell_type": "code",
   "execution_count": null,
   "metadata": {},
   "outputs": [],
   "source": [
    "print(\"\".join(example_peptides_fasta[0]), *example_peptides_fasta, sep=\"\\n\")"
   ]
  },
  {
   "cell_type": "markdown",
   "metadata": {},
   "source": [
    "rdx peptides are a subset of two missed cleavage sites peptides. There are omitted when two and more cleavage site can be skipped."
   ]
  },
  {
   "cell_type": "code",
   "execution_count": null,
   "metadata": {},
   "outputs": [],
   "source": [
    "example_peptides_fasta = cleave_to_tryptic(\n",
    "    test_data[\"seq\"], num_missed_cleavages=1, add_rxk=True\n",
    ")\n",
    "print(\"number of peptides: \", [len(_l) for _l in example_peptides_fasta])\n",
    "example_peptides_fasta[-1]"
   ]
  },
  {
   "cell_type": "markdown",
   "metadata": {},
   "source": [
    "Data Structure is no a list of list. Maybe this could be improved. Information what kind of type the peptide is from, is still interesting."
   ]
  },
  {
   "cell_type": "markdown",
   "metadata": {},
   "source": [
    "### Original Code\n",
    "\n",
    "now adapted in `vaep.fasta.py`"
   ]
  },
  {
   "cell_type": "code",
   "execution_count": null,
   "metadata": {},
   "outputs": [],
   "source": [
    "# def cleave_to_tryptic(seq=\"\", num_missed_cleavages=1, reversed=False):\n",
    "# #    Takes a sequence and returns an array of peptides cleaved C-term to R  and K\n",
    "# #    number of missed cleavages can be 0 or 1\n",
    "# #    works with single letter sequences\n",
    "# #    :param seq:\n",
    "# #    num_missed_cleavges,\n",
    "# #    reversed: boolean flag. If true, append the reversed peptide spequences as well\n",
    "# #    :return: list of strings\n",
    "#     if  0 < num_missed_cleavages > 2:\n",
    "#         raise NotImplementedError(\"`num_missed_cleavages` of missed cleavages can be 0 or 1\")\n",
    "#     if seq == \"\":\n",
    "#         return\n",
    "#     add_rxk = True  # flag for adding bonus peptides at patterns like KXR, which trypsin doesn't cleave efficiently\n",
    "\n",
    "#     seq.replace(' ', '')  # sequence must not contain whitespaces todo: all whitespaces\n",
    "#     seq = seq.upper()\n",
    "#     seq = seq.replace('K', 'K ').replace('R', 'R ')  # introduce a white space so we can split there\n",
    "#     pep_seqs = seq.split()\n",
    "\n",
    "#     last_pep = \"\"\n",
    "#     temp_peps = []\n",
    "#     if num_missed_cleavages == 0 and add_rxk:\n",
    "#         for pep in pep_seqs:\n",
    "#             if 0 < len(last_pep) <= 2:\n",
    "#                 temp_peps.append(last_pep+pep)\n",
    "#             last_pep = pep\n",
    "#         pep_seqs += temp_peps\n",
    "\n",
    "#     sec_last_pep = \"\"\n",
    "\n",
    "\n",
    "#     if num_missed_cleavages == 1:  # add joined peptides\n",
    "#         for pep in pep_seqs:\n",
    "#             if last_pep != \"\":\n",
    "#                 temp_peps.append(last_pep + pep)\n",
    "#             if add_rxk and sec_last_pep != \"\" and len(sec_last_pep) <= 2:\n",
    "#                 temp_peps.append(sec_last_pep + last_pep + pep)\n",
    "#             sec_last_pep = last_pep  # sec_last_pep, last_pep = last_pep, pep ?\n",
    "#             last_pep = pep\n",
    "#         pep_seqs += temp_peps\n",
    "#     # # if num_missed_cleavages == 2: todo: implement two missed cleavages\n",
    "#     # # add recursion to build peptides iteratively while iterating through peptide sequences\n",
    "\n",
    "\n",
    "#     if reversed:\n",
    "#         reversed_seqs = []\n",
    "#         for pep in pep_seqs:\n",
    "#             if str(pep).endswith('K'):  # change this to change the MW of the peptide\n",
    "#                 pep = pep[0:-1] + 'r'\n",
    "#             elif str(pep).endswith('R'):\n",
    "#                 pep = pep[0:-1] + 'k'\n",
    "#             rev_pep = pep[::-1]\n",
    "#             reversed_seqs.append(rev_pep)\n",
    "\n",
    "#         pep_seqs += reversed_seqs\n",
    "\n",
    "#     return pep_seqs"
   ]
  },
  {
   "cell_type": "markdown",
   "metadata": {},
   "source": [
    "Header is used to distinguish new entries in fasta files:"
   ]
  },
  {
   "cell_type": "code",
   "execution_count": null,
   "metadata": {},
   "outputs": [],
   "source": [
    "# # #ToDo: Check if file-reader\n",
    "# def read_fasta(fp):\n",
    "#     \"\"\"Read a fasta file and yield continously header and sequences.\"\"\"\n",
    "#     header, seq = None, []\n",
    "#     for line in fp:\n",
    "#         line = line.rstrip()\n",
    "#         if line.startswith(\">\"):\n",
    "#             if header: yield (header, ''.join(seq))\n",
    "#             header, seq = line, []\n",
    "#         else:\n",
    "#             seq.append(line)\n",
    "#     if header: yield (header, ''.join(seq))"
   ]
  },
  {
   "cell_type": "markdown",
   "metadata": {},
   "source": [
    "Flattens a list of list using generators:"
   ]
  },
  {
   "cell_type": "code",
   "execution_count": null,
   "metadata": {},
   "outputs": [],
   "source": [
    "# def iterFlatten(root):\n",
    "#     \"\"\"Flatten a nested structure.\"\"\"\n",
    "#     if isinstance(root, (list, tuple)):\n",
    "#         for element in root:\n",
    "#             for e in iterFlatten(element):\n",
    "#                 yield e\n",
    "#     else:\n",
    "#         yield root"
   ]
  },
  {
   "cell_type": "markdown",
   "metadata": {},
   "source": [
    "## Process Fasta Files\n",
    "\n",
    "First define input Folder and the file location of the created peptides:"
   ]
  },
  {
   "cell_type": "code",
   "execution_count": null,
   "metadata": {},
   "outputs": [],
   "source": [
    "from vaep.io import search_files\n",
    "\n",
    "fasta_files = search_files(path=\".\", query=\".fasta\")\n",
    "print(\"\\n\".join(fasta_files.files))"
   ]
  },
  {
   "cell_type": "markdown",
   "metadata": {},
   "source": [
    "### Define Setup\n",
    "\n",
    "Set input FASTA, Output .txt name, lower legth cutoff, missed cleavages and if to report reverse. \n",
    "\n",
    "Tryptic digest of Fastas to Peptides >6 in list for matching with measured peptides  "
   ]
  },
  {
   "cell_type": "code",
   "execution_count": null,
   "metadata": {},
   "outputs": [],
   "source": [
    "CUTOFF_LEN_PEP = 7\n",
    "MAX_MISSED_CLEAVAGES = 2  # default in MaxQuant\n",
    "DECOY_REVERSE = False\n",
    "SUMMARY_FILE = \"tex/fasta_tryptic_analysis.tex\"\n",
    "\n",
    "_summary_text = (\n",
    "    \"The theoretical analysis of the fasta files gives an idea about how many possible peptides \\n\"\n",
    "    \"can be expected by cleaving proteins using trypsin. The hyperparameters for peptide creation are \\n\"\n",
    "    f\"to consider the minimal peptide length to be {CUTOFF_LEN_PEP} amino acids, \\n\"\n",
    "    f\"to consider a maximum of {MAX_MISSED_CLEAVAGES} missed cleavage sites (default in MaxQuant) and \\n\"\n",
    "    f\"to {'not ' if not DECOY_REVERSE else ''}add decoy peptides by reversing peptide sequences. \\n\"\n",
    ")\n",
    "print(_summary_text, sep=\"\\n\")"
   ]
  },
  {
   "cell_type": "markdown",
   "metadata": {},
   "source": [
    "From the [Fasta Meta information](https://ebi14.uniprot.org/help/fasta-headers) the Identifier is extracted.\n",
    "\n",
    "```\n",
    ">db|UniqueIdentifier|EntryName ProteinName OS=OrganismName OX=OrganismIdentifier [GN=GeneName ]PE=ProteinExistence SV=SequenceVersion\n",
    "```\n",
    "- db is `sp` for UniProtKB/Swiss-Prot and `tr` for UniProtKB/TrEMBL.\n",
    "- `UniqueIdentifier` is the primary *accession number* of the UniProtKB entry. (seems to be used by MQ)\n",
    "- `EntryName` is the entry name of the UniProtKB entry.\n",
    "- `ProteinName` is the recommended name of the UniProtKB entry as annotated in the *RecName* field. For UniProtKB/TrEMBL entries without a *RecName* field, the *SubName* field is used. In case of multiple SubNames, the first one is used. The 'precursor' attribute is excluded, 'Fragment' is included with the name if applicable."
   ]
  },
  {
   "cell_type": "markdown",
   "metadata": {},
   "source": [
    "`>tr` or `>sp`"
   ]
  },
  {
   "cell_type": "markdown",
   "metadata": {},
   "source": [
    "### Schema for single fasta entry"
   ]
  },
  {
   "cell_type": "code",
   "execution_count": null,
   "metadata": {},
   "outputs": [],
   "source": [
    "from src/config import KEY_FASTA_HEADER, KEY_FASTA_SEQ, KEY_GENE_NAME, KEY_PEPTIDES\n",
    "\n",
    "from vaep.fasta import read_fasta\n",
    "\n",
    "data_fasta = {}\n",
    "\n",
    "# # add Schema?\n",
    "# schema_fasta_entry = {\n",
    "#                       KEY_FASTA_HEADER: str,\n",
    "#                       KEY_GENE_NAME: str,\n",
    "#                       KEY_FASTA_SEQ: str,\n",
    "#                       KEY_PEPTIDES: (list, (2,2))\n",
    "#                      }\n",
    "# # or dataclass\n",
    "# from dataclasses import make_dataclass\n",
    "# FastaEntry = make_dataclass(cls_name='FastaEntry', \n",
    "#                             fields=[\n",
    "#                                 (KEY_FASTA_HEADER, 'str'),\n",
    "#                                 (KEY_GENE_NAME, 'str'),\n",
    "#                                 (KEY_FASTA_SEQ, 'str'),\n",
    "#                                 (KEY_PEPTIDES, list)\n",
    "#                             ])\n",
    "# # or namedtuple\n",
    "# FastaEntry = namedtuple('FastaEntry', [KEY_FASTA_HEADER, KEY_GENE_NAME, KEY_FASTA_SEQ, KEY_PEPTIDES])"
   ]
  },
  {
   "cell_type": "markdown",
   "metadata": {},
   "source": [
    "How to validate schema of fasta entry stored as dictionary?\n",
    "- [schema](https://stackoverflow.com/questions/45812387/how-to-validate-structure-or-schema-of-dictionary-in-python) validation in python discussion"
   ]
  },
  {
   "cell_type": "markdown",
   "metadata": {},
   "source": [
    "### Process Fasta file"
   ]
  },
  {
   "cell_type": "code",
   "execution_count": null,
   "metadata": {},
   "outputs": [],
   "source": [
    "for _fasta in tqdm(fasta_files.files):\n",
    "\n",
    "    with open(_fasta) as fp:\n",
    "        for i, (metainfo, seq) in tqdm(enumerate(read_fasta(fp))):\n",
    "            identifier = metainfo.split(\"|\")[1]\n",
    "            gene = \"|\".join([x.split(\"=\")[-1] for x in metainfo.split() if \"GN=\" in x])\n",
    "            if identifier in data_fasta:\n",
    "                raise ValueError(\"Key seen before: {}\".format(identifier))\n",
    "            _all_peptides = cleave_to_tryptic(\n",
    "                seq, num_missed_cleavages=MAX_MISSED_CLEAVAGES, reversed=DECOY_REVERSE\n",
    "            )\n",
    "            data_fasta[identifier] = {\n",
    "                KEY_FASTA_HEADER: metainfo,\n",
    "                KEY_GENE_NAME: gene,\n",
    "                KEY_FASTA_SEQ: seq,\n",
    "                KEY_PEPTIDES: [\n",
    "                    [_pep for _pep in _peptides if len(_pep) >= CUTOFF_LEN_PEP]\n",
    "                    for _peptides in _all_peptides\n",
    "                ],\n",
    "            }"
   ]
  },
  {
   "cell_type": "markdown",
   "metadata": {},
   "source": [
    "`fasta_data` holds all information to pick a subset of peptides from peptides intensity tables"
   ]
  },
  {
   "cell_type": "code",
   "execution_count": null,
   "metadata": {},
   "outputs": [],
   "source": [
    "# from random import sample\n",
    "# sample_ids = sample(list(data_fasta), 10)\n",
    "# for _id in sample_ids:\n",
    "#     print(\"Unique Identifier: {}: \\n\\t AA-Seq: {} \\n\\t Header: {} \\n\\t Peptides: {}\\n\".format(_id, data_fasta[_id]['seq'], data_fasta[_id]['meta'], data_fasta[_id]['peptides']))\n",
    "data_fasta[\"A0A024R1R8\"]"
   ]
  },
  {
   "cell_type": "code",
   "execution_count": null,
   "metadata": {},
   "outputs": [],
   "source": [
    "d_seq_length = {}\n",
    "for _key, _data in data_fasta.items():\n",
    "    d_seq_length[_key] = len(_data[KEY_FASTA_SEQ])"
   ]
  },
  {
   "cell_type": "code",
   "execution_count": null,
   "metadata": {},
   "outputs": [],
   "source": [
    "d_seq_length = pd.Series(d_seq_length)\n",
    "d_seq_length.describe()"
   ]
  },
  {
   "cell_type": "code",
   "execution_count": null,
   "metadata": {},
   "outputs": [],
   "source": [
    "test_series = pd.Series({\"A\": 4, \"B\": 1, \"C\": 0, \"D\": 4})\n",
    "\n",
    "\n",
    "def get_indices_with_value(s: pd.Series, value):\n",
    "    \"\"\"Return indices for with the value is true\"\"\"\n",
    "    return s[s == value].index\n",
    "\n",
    "\n",
    "get_indices_with_value(test_series, 4)"
   ]
  },
  {
   "cell_type": "markdown",
   "metadata": {},
   "source": [
    "Boolean Indexing, remember to set [parantheses](https://pandas.pydata.org/pandas-docs/stable/user_guide/indexing.html#boolean-indexing)"
   ]
  },
  {
   "cell_type": "code",
   "execution_count": null,
   "metadata": {},
   "outputs": [],
   "source": [
    "MIN_AA_IN_SEQ = 10\n",
    "MAX_AA_IN_SEQ = 2000\n",
    "mask_min = d_seq_length < MIN_AA_IN_SEQ\n",
    "mask_max = d_seq_length > MAX_AA_IN_SEQ\n",
    "# _summary_text += f\"\\nThe FASTA file contain {sum(mask_min)} proteins with less than {MIN_AA_IN_SEQ} amino acids (AAs) and {sum(mask_max)} with more than {MAX_AA_IN_SEQ} AAs.\"\n",
    "_summary_text += (\n",
    "    f\"The minimal AA sequence length is {min(d_seq_length)} of UniProt ID {', '.join(get_indices_with_value(d_seq_length, min(d_seq_length)))} \"\n",
    "    f\"and the maximal sequence lenght is {max(d_seq_length)} for UniProt ID {', '.join(get_indices_with_value(d_seq_length, max(d_seq_length)))}\"\n",
    ")\n",
    "print(_summary_text)"
   ]
  },
  {
   "cell_type": "code",
   "execution_count": null,
   "metadata": {},
   "outputs": [],
   "source": [
    "d_seq_length.loc[(~mask_max)].to_frame(name=\"AA Seq Length\").plot.hist(bins=200)"
   ]
  },
  {
   "cell_type": "code",
   "execution_count": null,
   "metadata": {},
   "outputs": [],
   "source": [
    "l_genes = []\n",
    "n_set = 0\n",
    "for _key, _data in data_fasta.items():\n",
    "    _gene_name = _data[KEY_GENE_NAME]\n",
    "    if _gene_name:\n",
    "        l_genes.append(_gene_name)\n",
    "        n_set += 1"
   ]
  },
  {
   "cell_type": "code",
   "execution_count": null,
   "metadata": {},
   "outputs": [],
   "source": [
    "_summary_text += (\n",
    "    f\"\\nIn the FASTA header file {n_set} proteins have a set gene of a total of {len(data_fasta)} proteins,\"\n",
    "    f\" i.e. {len(data_fasta) - n_set} have an undefined origin. There are {len(set(l_genes))} unique gene names in the FASTA file specified.\\n\"\n",
    ")\n",
    "print(_summary_text)"
   ]
  },
  {
   "cell_type": "code",
   "execution_count": null,
   "metadata": {},
   "outputs": [],
   "source": [
    "len(set(l_genes))"
   ]
  },
  {
   "cell_type": "markdown",
   "metadata": {},
   "source": [
    "## Number of well-defined peptides per protein (isotope)\n",
    "\n",
    "- well-defined peptides := no cleavage site is missed"
   ]
  },
  {
   "cell_type": "code",
   "execution_count": null,
   "metadata": {},
   "outputs": [],
   "source": [
    "from collections import defaultdict\n",
    "\n",
    "peps_exact_count_freq = defaultdict(int)\n",
    "\n",
    "for key, d_data in data_fasta.items():\n",
    "    _N = len(d_data[KEY_PEPTIDES][0])\n",
    "    # if _N == 0:\n",
    "    #     print(key)\n",
    "    #     print(d_data)\n",
    "    peps_exact_count_freq[_N] += 1\n",
    "peps_exact_count_freq = pd.Series(dict(peps_exact_count_freq)).sort_index()\n",
    "peps_exact_count_freq"
   ]
  },
  {
   "cell_type": "code",
   "execution_count": null,
   "metadata": {},
   "outputs": [],
   "source": [
    "n_first = 40\n",
    "ax = peps_exact_count_freq.iloc[:n_first].plot(kind='bar',\n",
    "                                               figsize=(20, 5),\n",
    "                                               title=f'Frequency of number of exact peptides (up to {peps_exact_count_freq.iloc[:40].index[-1]})'\n",
    "                                               f' representing {peps_exact_count_freq.iloc[:40].sum()} proteins out of '\n",
    "                                               f'{peps_exact_count_freq.sum()} ({peps_exact_count_freq.iloc[:40].sum()/peps_exact_count_freq.sum():.2f}%)',\n",
    "                                               xlabel=\"Number of exact peptides (considered) in protein sequence\",\n",
    "                                               ylabel=\"Number of protein(s) (incl. isotopes)\",\n",
    "                                               fontsize=10)"
   ]
  },
  {
   "cell_type": "code",
   "execution_count": null,
   "metadata": {},
   "outputs": [],
   "source": [
    "peps_exact_count_freq = pd.Series(dict(peps_exact_count_freq)).sort_index()\n",
    "fig = ax.get_figure()\n",
    "fig.savefig(Path(FIGUREFOLDER) / 'fasta_exact_peptide_count_freq.png')\n",
    "fig.savefig(Path(FIGUREFOLDER) / 'fasta_exact_peptide_count_freq.pdf')"
   ]
  },
  {
   "cell_type": "markdown",
   "metadata": {},
   "source": [
    "### Proteins' Isoforms"
   ]
  },
  {
   "cell_type": "markdown",
   "metadata": {},
   "source": [
    "Possible to join \"isoforms\" by joining all variants to one. Isoforms are numbered from the second on by appending `-i` for $i>1$, i.e. starting with `-2`. The gene name of which the protein (isoform) originate can be obtained by using [id mapping](https://www.uniprot.org/help/api_idmapping). Isoforms are not mapped automatically by Uniprot to its GENENAME, i.e. you have to strip all `-i`, e.g `-2`, `-3`, for querying. Here the protein, gene pairs are mapped to the unique protein identifiers."
   ]
  },
  {
   "cell_type": "code",
   "execution_count": null,
   "metadata": {},
   "outputs": [],
   "source": [
    "prot_ids = list(data_fasta.keys())\n",
    "prot_ids = pd.Series(prot_ids)\n",
    "prot_ids"
   ]
  },
  {
   "cell_type": "code",
   "execution_count": null,
   "metadata": {},
   "outputs": [],
   "source": [
    "mask = prot_ids.str.contains(\"-\")\n",
    "isoforms = prot_ids.copy().loc[mask]\n",
    "isoforms"
   ]
  },
  {
   "cell_type": "code",
   "execution_count": null,
   "metadata": {},
   "outputs": [],
   "source": [
    "N_prot_with_isoform = isoforms.str.split(\"-\").str[0].nunique()"
   ]
  },
  {
   "cell_type": "code",
   "execution_count": null,
   "metadata": {},
   "outputs": [],
   "source": [
    "n_unique_proteins_wo_isoforms = len(prot_ids) - len(isoforms)\n",
    "_summary_text += \"\\nA total of {} proteins have at least one more isoform. \".format(\n",
    "    N_prot_with_isoform\n",
    ")\n",
    "_summary_text += f\"Collapsing isoforms into one protein results in {n_unique_proteins_wo_isoforms} proteins.\"\n",
    "print(_summary_text)"
   ]
  },
  {
   "cell_type": "markdown",
   "metadata": {},
   "source": [
    "Remove Isoforms from list. How to integrate this information before?\n",
    "\n",
    "fasta-data has to be merge one-to-many."
   ]
  },
  {
   "cell_type": "code",
   "execution_count": null,
   "metadata": {},
   "outputs": [],
   "source": [
    "id_map = pd.DataFrame(\n",
    "    prot_ids.str.split(\"-\").str[0], columns=[\"protein\"]\n",
    ")  # , index=list(prot_ids))\n",
    "id_map.index = pd.Index(prot_ids, name=\"prot_id\")\n",
    "id_map"
   ]
  },
  {
   "cell_type": "code",
   "execution_count": null,
   "metadata": {},
   "outputs": [],
   "source": [
    "id_map.loc[id_map.index.str.contains(\"A0A096LP49|Q9Y6Z5|W5XKT8\")]"
   ]
  },
  {
   "cell_type": "code",
   "execution_count": null,
   "metadata": {},
   "outputs": [],
   "source": [
    "l_proteins = id_map.protein.unique()\n",
    "print(\n",
    "    f\"There are {len(l_proteins)} unique proteins without isoforms listed in the used fasta files.\"\n",
    ")\n",
    "# Check with pervious result.\n",
    "assert n_unique_proteins_wo_isoforms == len(l_proteins)"
   ]
  },
  {
   "cell_type": "code",
   "execution_count": null,
   "metadata": {},
   "outputs": [],
   "source": [
    "from src/config import FN_PROT_GENE_MAP\n",
    "\n",
    "from vaep.uniprot import query_uniprot_id_mapping\n",
    "\n",
    "try:\n",
    "    with open(FN_PROT_GENE_MAP) as f:\n",
    "        dict_protein_to_gene = json.load(f)\n",
    "    logging.warning(f\"Loaded pre-cached map dict_protein_to_gene: {FN_PROT_GENE_MAP}\")\n",
    "except FileNotFoundError:\n",
    "    dict_protein_to_gene = {}\n",
    "    start = 0\n",
    "    for end in list(range(10000, len(l_proteins), 10000)):\n",
    "        print(f\"Retrieve items {start+1:6} to {end:6}\")\n",
    "        _id_to_gene = query_uniprot_id_mapping(l_proteins[start:end])\n",
    "        print(f\"Found {len(_id_to_gene)} gene names\")\n",
    "        dict_protein_to_gene.update(_id_to_gene)\n",
    "        start = end\n",
    "    print(f\"Retrieve items {start:6} to {len(l_proteins):6}\")\n",
    "    _id_to_gene = query_uniprot_id_mapping(l_proteins[start:])\n",
    "    print(f\"Found {len(_id_to_gene)} gene names\")\n",
    "    dict_protein_to_gene.update(_id_to_gene)\n",
    "    with open(FN_PROT_GENE_MAP, \"w\") as f:\n",
    "        json.dump(dict_protein_to_gene, f, indent=4, sort_keys=False)"
   ]
  },
  {
   "cell_type": "code",
   "execution_count": null,
   "metadata": {},
   "outputs": [],
   "source": [
    "genes = pd.Series(dict_protein_to_gene, name=\"gene\")\n",
    "genes"
   ]
  },
  {
   "cell_type": "code",
   "execution_count": null,
   "metadata": {},
   "outputs": [],
   "source": [
    "assert (\n",
    "    len(genes) == 72471\n",
    "), f\"The number of proteins associated to a gene found on 11.11.2020 was 72471, now it's {len(genes)}\""
   ]
  },
  {
   "cell_type": "markdown",
   "metadata": {},
   "source": [
    "Add gene names from UniProt to `id_map` DataFrame by an outer join (keeping all information based on the protein names shared by isotopes)"
   ]
  },
  {
   "cell_type": "code",
   "execution_count": null,
   "metadata": {},
   "outputs": [],
   "source": [
    "id_map = id_map.merge(genes, how=\"outer\", left_on=\"protein\", right_index=True)\n",
    "id_map.sort_values(by=[\"gene\", \"protein\"], inplace=True)\n",
    "id_map"
   ]
  },
  {
   "cell_type": "code",
   "execution_count": null,
   "metadata": {},
   "outputs": [],
   "source": [
    "import numpy as np\n",
    "id_map.replace('', np.nan)"
   ]
  },
  {
   "cell_type": "markdown",
   "metadata": {},
   "source": [
    "Add the gene name collected previously from the Fasta Header"
   ]
  },
  {
   "cell_type": "code",
   "execution_count": null,
   "metadata": {},
   "outputs": [],
   "source": [
    "genes_fasta_offline = pd.DataFrame(\n",
    "        ((_key, _data[KEY_GENE_NAME]) for _key, _data in data_fasta.items()),\n",
    "        columns=[\"prot_id\", \"gene_fasta\"],\n",
    "    ).set_index(\"prot_id\"\n",
    "    ).replace('', np.nan)\n",
    "genes_fasta_offline.loc[genes_fasta_offline.gene_fasta.isna()]"
   ]
  },
  {
   "cell_type": "code",
   "execution_count": null,
   "metadata": {},
   "outputs": [],
   "source": [
    "id_map = id_map.merge(\n",
    "    genes_fasta_offline,\n",
    "    how=\"outer\",\n",
    "    left_index=True,\n",
    "    right_index=True)\n",
    "id_map.sort_values(by=[\"gene\", \"protein\"], inplace=True)\n",
    "id_map"
   ]
  },
  {
   "cell_type": "code",
   "execution_count": null,
   "metadata": {},
   "outputs": [],
   "source": [
    "mask_no_gene = id_map.gene.isna()\n",
    "id_map.loc[mask_no_gene]"
   ]
  },
  {
   "cell_type": "markdown",
   "metadata": {},
   "source": [
    "Using the genes from the fasta file header reduces the number of missing genes, but additionally other differences arise in the comparison to the lastest version."
   ]
  },
  {
   "cell_type": "code",
   "execution_count": null,
   "metadata": {},
   "outputs": [],
   "source": [
    "mask_gene_diffs = id_map.gene != id_map.gene_fasta\n",
    "id_map.loc[mask_gene_diffs]"
   ]
  },
  {
   "cell_type": "code",
   "execution_count": null,
   "metadata": {},
   "outputs": [],
   "source": [
    "id_map.gene.isna().sum(), id_map.gene_fasta.isna()"
   ]
  },
  {
   "cell_type": "code",
   "execution_count": null,
   "metadata": {},
   "outputs": [],
   "source": [
    "id_map.loc[(id_map.gene.isna()) & (id_map.gene_fasta.isna())]"
   ]
  },
  {
   "cell_type": "code",
   "execution_count": null,
   "metadata": {},
   "outputs": [],
   "source": [
    "_summary_text += (\n",
    "    f\"\\nThere are {id_map.gene.isna().sum()} protein IDs (or {id_map.loc[mask_no_gene].protein.nunique()} proteins) \"\n",
    "    \"without a gene associated to them in the current online version of UniProt, \"\n",
    "    f\"whereas there are no genes for only {id_map.gene_fasta.isna().sum()} in the headers of proteins in the used FASTA files.\"\n",
    ")\n",
    "print(_summary_text)"
   ]
  },
  {
   "cell_type": "markdown",
   "metadata": {},
   "source": [
    "### Isotopes mapping\n",
    "\n",
    "Isotopes are mapped now to a protein with the same name. The same can be achieved by just discarding everything behind the hypen `-`"
   ]
  },
  {
   "cell_type": "code",
   "execution_count": null,
   "metadata": {},
   "outputs": [],
   "source": [
    "id_map.loc[id_map.index.str.contains(\"-\")]"
   ]
  },
  {
   "cell_type": "markdown",
   "metadata": {},
   "source": [
    "Save id_map"
   ]
  },
  {
   "cell_type": "code",
   "execution_count": null,
   "metadata": {},
   "outputs": [],
   "source": [
    "from src/config import FN_ID_MAP\n",
    "\n",
    "id_map.to_json(FN_ID_MAP, orient=\"split\", indent=4)"
   ]
  },
  {
   "cell_type": "markdown",
   "metadata": {},
   "source": [
    "### Most proteins with a missing gene are deleted\n",
    "\n",
    "If one checks manually some of the examples (e.g. the hundred provided here), one sees that all are deleted from Uniprot.\n",
    "\n",
    "> How to obtain different versions of UniProt?!"
   ]
  },
  {
   "cell_type": "code",
   "execution_count": null,
   "metadata": {},
   "outputs": [],
   "source": [
    "from vaep.utils import sample_iterable\n",
    "\n",
    "if not len(dict_protein_to_gene) == len(l_proteins):\n",
    "    print(\"Not all ids are mapped.\")\n",
    "    _diff = set(l_proteins).difference(dict_protein_to_gene.keys())\n",
    "    print(f\"Number of protein identifiers not mapped to a gene in UniProt online: {len(_diff)}\")\n",
    "    print(f'Look at {100} examples: {\", \".join(sample_iterable(_diff, 100))}')"
   ]
  },
  {
   "cell_type": "code",
   "execution_count": null,
   "metadata": {},
   "outputs": [],
   "source": [
    "_summary_text += (\n",
    "    f\"\\nMost of the {len(_diff)} proteins ({len(_diff)/len(l_proteins)*100:.2f} percent of the unique proteins) \"\n",
    "    \"not mapped to a gene name are deleted in the most current version of UniProt (online). \"\n",
    "    \"The versioning of the fasta-files has to be investigated, as there arise differences over time due to updates.\"\n",
    ")\n",
    "_summary_text += (\n",
    "    f\"\\nProteins are mapped to a total number of genes of {id_map.gene.nunique()} in the online UniProt version and {id_map.gene_fasta.nunique()} in the offline used one.\\n\"\n",
    ")\n",
    "print(_summary_text)"
   ]
  },
  {
   "cell_type": "code",
   "execution_count": null,
   "metadata": {},
   "outputs": [],
   "source": [
    "f\"Proteins are mapped to a total number of genes of {len(set(dict_protein_to_gene.values()))}\""
   ]
  },
  {
   "cell_type": "markdown",
   "metadata": {},
   "source": [
    "### Map peptide to either identifier, common protein or gene  \n"
   ]
  },
  {
   "cell_type": "code",
   "execution_count": null,
   "metadata": {},
   "outputs": [],
   "source": [
    "from collections import defaultdict\n",
    "\n",
    "from vaep.fasta import iterFlatten\n",
    "\n",
    "peptide_to_prot = defaultdict(list)\n",
    "for _id, _data in tqdm(data_fasta.items()):\n",
    "    for _pep in iterFlatten(_data[\"peptides\"]):\n",
    "        peptide_to_prot[_pep].append(_id)\n",
    "\n",
    "_summary_text += f\"\\nConsidering {MAX_MISSED_CLEAVAGES} missed cleavage site(s) there are {len(peptide_to_prot):,d} unique peptides.\""
   ]
  },
  {
   "cell_type": "code",
   "execution_count": null,
   "metadata": {},
   "outputs": [],
   "source": [
    "print(_summary_text)"
   ]
  },
  {
   "cell_type": "code",
   "execution_count": null,
   "metadata": {},
   "outputs": [],
   "source": [
    "{_key: peptide_to_prot[_key] for _key in sample_iterable(peptide_to_prot.keys())}"
   ]
  },
  {
   "cell_type": "code",
   "execution_count": null,
   "metadata": {},
   "outputs": [],
   "source": [
    "%%time\n",
    "from src/config import FN_PEP_TO_PROT\n",
    "\n",
    "with open(FN_PEP_TO_PROT, \"w\") as f:\n",
    "    json.dump(peptide_to_prot, f, indent=4, sort_keys=False)"
   ]
  },
  {
   "cell_type": "markdown",
   "metadata": {},
   "source": [
    "### Plot histograms for different levels of abstraction\n",
    "\n",
    "Plot counts of matched \n",
    "   1. protein IDs\n",
    "   2. proteins (joining isoforms)\n",
    "   3. genes\n",
    "   \n",
    "to their peptides. See how many unique peptides exist. The number of peptides should stay the same, so the counts do not have to be normalized."
   ]
  },
  {
   "cell_type": "code",
   "execution_count": null,
   "metadata": {},
   "outputs": [],
   "source": [
    "USE_OFFLINE_FASTA_GENES = True\n",
    "if USE_OFFLINE_FASTA_GENES:\n",
    "    dict_protein_to_gene = genes_fasta_offline.loc[~genes_fasta_offline.index.str.contains('-')]\n",
    "    dict_protein_to_gene = dict_protein_to_gene.dropna().to_dict()['gene_fasta']"
   ]
  },
  {
   "cell_type": "code",
   "execution_count": null,
   "metadata": {},
   "outputs": [],
   "source": [
    "{_key: dict_protein_to_gene[_key] for _key in sample_iterable(dict_protein_to_gene.keys(), 10)}"
   ]
  },
  {
   "cell_type": "code",
   "execution_count": null,
   "metadata": {},
   "outputs": [],
   "source": [
    "len(dict_protein_to_gene)"
   ]
  },
  {
   "cell_type": "code",
   "execution_count": null,
   "metadata": {},
   "outputs": [],
   "source": [
    "from vaep.fasta import count_peptide_matches\n",
    "\n",
    "counters = {}\n",
    "levels = [\"protein_id\", \"protein\", \"gene\"]\n",
    "for level in levels:\n",
    "    counters[level] = pd.Series(\n",
    "        count_peptide_matches(peptide_to_prot, dict_protein_to_gene, level=level)\n",
    "    )"
   ]
  },
  {
   "cell_type": "code",
   "execution_count": null,
   "metadata": {},
   "outputs": [],
   "source": [
    "for level in levels:\n",
    "    print(f\"{level}: {counters[level]['AACLCFR']}\")"
   ]
  },
  {
   "cell_type": "code",
   "execution_count": null,
   "metadata": {},
   "outputs": [],
   "source": [
    "peptide_to_prot[\"AACLCFR\"]"
   ]
  },
  {
   "cell_type": "code",
   "execution_count": null,
   "metadata": {},
   "outputs": [],
   "source": [
    "_prots = {x.split(\"-\")[0] for x in peptide_to_prot[\"AACLCFR\"]}\n",
    "{dict_protein_to_gene[_prot] for _prot in _prots}"
   ]
  },
  {
   "cell_type": "code",
   "execution_count": null,
   "metadata": {},
   "outputs": [],
   "source": [
    "import numpy as np\n",
    "\n",
    "from vaep.pandas import combine_value_counts\n",
    "\n",
    "counts_by_level = combine_value_counts(pd.DataFrame(counters))\n",
    "counts_by_level = counts_by_level.replace(np.nan, 0).astype(int)\n",
    "counts_by_level"
   ]
  },
  {
   "cell_type": "markdown",
   "metadata": {},
   "source": [
    "Interpretation: Peptides are assigned \\# of times to a protein_id, protein or gene respectively."
   ]
  },
  {
   "cell_type": "markdown",
   "metadata": {},
   "source": [
    "Check that for all levels the same number of peptides are counted."
   ]
  },
  {
   "cell_type": "code",
   "execution_count": null,
   "metadata": {},
   "outputs": [],
   "source": [
    "counts_by_level.sum()"
   ]
  },
  {
   "cell_type": "markdown",
   "metadata": {},
   "source": [
    "Plot the frequency of matched proteins to one peptide sequence:"
   ]
  },
  {
   "cell_type": "code",
   "execution_count": null,
   "metadata": {},
   "outputs": [],
   "source": [
    "import matplotlib\n",
    "\n",
    "fig, ax = plt.subplots(figsize=(13, 7))\n",
    "\n",
    "ax = counts_by_level.iloc[:5].plot(kind=\"bar\", ax=ax)\n",
    "ax.set_ylabel(\"peptide counts\")\n",
    "ax.set_xlabel(\"number of matched levels\")\n",
    "# ax.yaxis.set_major_formatter(\"{x:,}\")\n",
    "_y_ticks = ax.set_yticks(list(range(0, 3_500_000, 500_000))) # is there a ways to transform float to int in matplotlib?\n",
    "_y_ticks_labels = ax.set_yticklabels([f\"{x:,}\" for x in range(0, 3_500_000, 500_000)])\n",
    "from vaep.io_images import _savefig\n",
    "\n",
    "_savefig(fig, folder=\"figures\", name=\"fasta_top4\")"
   ]
  },
  {
   "cell_type": "code",
   "execution_count": null,
   "metadata": {},
   "outputs": [],
   "source": [
    "fig, axes = plt.subplots(2, 2, figsize=(17, 10))\n",
    "axes = axes.flatten()\n",
    "\n",
    "counts_by_level.iloc[:10].plot(kind=\"bar\", ax=axes[0])\n",
    "axes[0].set_title(\"up to 9 matches\")\n",
    "axes[0].set_yticks(list(range(0, 3_500_000, 500_000)))\n",
    "axes[0].set_yticklabels(['0', '500,000', '1,000,000', '1,500,000', '2,000,000', '2,500,000', '3,000,000'])\n",
    "\n",
    "_start = 10\n",
    "for i, _end in enumerate([31, 61], start=1):\n",
    "    counts_by_level.iloc[_start:_end].plot(kind=\"bar\", ax=axes[i])\n",
    "    axes[i].set_title(f\"{_start} to {_end-1} matches\")\n",
    "    _start = _end\n",
    "\n",
    "i += 1\n",
    "counts_by_level.iloc[-30:].plot(kind=\"bar\", ax=axes[i])\n",
    "axes[i].set_title(f\"{30} most frequent matches\")\n",
    "\n",
    "\n",
    "axes = axes.reshape((2, 2))\n",
    "\n",
    "pad = 5  #  in point\n",
    "for i in range(2):\n",
    "    axes[-1, i].set_xlabel(\"Count of number of matches for a peptide\")\n",
    "    axes[i, 0].set_ylabel(\"number of peptides\")\n",
    "\n",
    "_ = fig.suptitle(\n",
    "    \"Frequency of peptides matched to x items of protein IDs, proteins (combining isotopes) and genes\",\n",
    "    fontsize=16,\n",
    ")\n",
    "\n",
    "\n",
    "fig.tight_layout()\n",
    "_savefig(fig, folder=\"figures\", name=\"fasta_mapping_counts\")"
   ]
  },
  {
   "cell_type": "markdown",
   "metadata": {},
   "source": [
    "check for homology of sequences in python?"
   ]
  },
  {
   "cell_type": "markdown",
   "metadata": {},
   "source": [
    "## Create Automated report\n",
    "\n",
    "- paragraph in tex for report\n",
    "- summary table"
   ]
  },
  {
   "cell_type": "code",
   "execution_count": null,
   "metadata": {},
   "outputs": [],
   "source": [
    "print(_summary_text)"
   ]
  },
  {
   "cell_type": "code",
   "execution_count": null,
   "metadata": {},
   "outputs": [],
   "source": [
    "os.makedirs(os.path.dirname(SUMMARY_FILE), exist_ok=True)\n",
    "with open(SUMMARY_FILE, \"w\") as f:\n",
    "    f.write(_summary_text)"
   ]
  },
  {
   "cell_type": "markdown",
   "metadata": {},
   "source": [
    "## Save mappings as JSON\n",
    "\n",
    "Each `protein_id` is an entry with the following information:\n",
    "```\n",
    "'meta': <fasta-header>\n",
    "'seq': <protein-sequence>\n",
    "'peptides': <list of list of peptide sequences: [[0-missed-cleavages, 1-missed-cleavage, 2-missed-cleavage]]>\n",
    "```"
   ]
  },
  {
   "cell_type": "code",
   "execution_count": null,
   "metadata": {},
   "outputs": [],
   "source": [
    "%%time\n",
    "import json\n",
    "\n",
    "from src/config import FN_FASTA_DB\n",
    "\n",
    "with open(FN_FASTA_DB, \"w\") as f:\n",
    "    json.dump(data_fasta, f, indent=4, sort_keys=False)"
   ]
  },
  {
   "cell_type": "code",
   "execution_count": null,
   "metadata": {},
   "outputs": [],
   "source": [
    "os.stat(FN_FASTA_DB).st_size / 1024 / 1024"
   ]
  }
 ],
 "metadata": {
  "kernelspec": {
   "display_name": "vaep",
   "language": "python",
   "name": "vaep"
  },
  "language_info": {
   "codemirror_mode": {
    "name": "ipython",
    "version": 3
   },
   "file_extension": ".py",
   "mimetype": "text/x-python",
   "name": "python",
   "nbconvert_exporter": "python",
   "pygments_lexer": "ipython3",
   "version": "3.8.5"
  },
  "toc-autonumbering": true
 },
 "nbformat": 4,
 "nbformat_minor": 4
}
