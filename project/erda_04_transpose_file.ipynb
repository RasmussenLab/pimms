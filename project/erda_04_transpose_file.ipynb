{
 "cells": [
  {
   "cell_type": "markdown",
   "id": "8460a0bd-e679-4d04-ac84-ab0998900099",
   "metadata": {},
   "source": [
    "# Transpose file"
   ]
  },
  {
   "cell_type": "code",
   "execution_count": null,
   "id": "76501fbd-b7fe-4010-8137-bb4cba2bee99",
   "metadata": {},
   "outputs": [],
   "source": [
    "from pathlib import Path\n",
    "import pandas as pd\n",
    "\n",
    "import vaep\n",
    "\n",
    "import config"
   ]
  },
  {
   "cell_type": "markdown",
   "id": "23dabaa3-4ffb-41ff-8931-92f0684dd617",
   "metadata": {},
   "source": [
    "Paramters"
   ]
  },
  {
   "cell_type": "code",
   "execution_count": null,
   "id": "98952a84-2e8b-4416-a079-1ad9c755cfe5",
   "metadata": {},
   "outputs": [],
   "source": [
    "out_folder = Path('data/selected/peptides') \n",
    "fname = out_folder / 'intensities_wide_selected_N42881_M07441.pkl'"
   ]
  },
  {
   "cell_type": "code",
   "execution_count": null,
   "id": "ffe6a395-66a7-4b50-9f58-d58746666122",
   "metadata": {},
   "outputs": [],
   "source": [
    "def get_template(fname, split='_N'):\n",
    "    ext = fname.suffix\n",
    "    stem = fname.stem.split(split)[0]\n",
    "    return f\"{stem}{{}}{ext}\"\n",
    "\n",
    "def memory_usage_in_mb(df):\n",
    "    return df.memory_usage(deep=True).sum() / (2**20)\n",
    "\n",
    "template = get_template(fname)\n",
    "template"
   ]
  },
  {
   "cell_type": "code",
   "execution_count": null,
   "id": "d4abfa6d-7398-4c1f-8dac-bbf055931b70",
   "metadata": {},
   "outputs": [],
   "source": [
    "files_out = {}"
   ]
  },
  {
   "cell_type": "code",
   "execution_count": null,
   "id": "771acfc5-f9d1-4aaf-8f3c-a5b2298ab559",
   "metadata": {},
   "outputs": [],
   "source": [
    "%%time\n",
    "df = pd.read_pickle(fname)\n",
    "df.head()"
   ]
  },
  {
   "cell_type": "code",
   "execution_count": null,
   "id": "1f2d73d4-96f3-4883-89a2-4085433a71c4",
   "metadata": {},
   "outputs": [],
   "source": [
    "df.memory_usage(deep=True).sum() / (2**20)"
   ]
  },
  {
   "cell_type": "markdown",
   "id": "eb613ede-5949-4c04-a5c5-a3e9b112de0d",
   "metadata": {},
   "source": [
    "Here reading the csv file is slightly faster and consumes less memory.\n",
    "\n",
    "- dtype: `float64` -> missing values as `np.nan`\n",
    "- but: saving to csv will be larger."
   ]
  },
  {
   "cell_type": "code",
   "execution_count": null,
   "id": "2ac14afc-7e94-45b3-b1c4-008ca8db5f00",
   "metadata": {},
   "outputs": [],
   "source": [
    "# %%time\n",
    "# df = pd.read_csv(fname.with_suffix('.csv'), index_col=0)\n",
    "# df.memory_usage(deep=True).sum() / (2**20) "
   ]
  },
  {
   "cell_type": "code",
   "execution_count": null,
   "id": "632fa73a-1db4-410f-b513-2f80b549948a",
   "metadata": {},
   "outputs": [],
   "source": [
    "%%time\n",
    "count_samples = df.notna().sum()\n",
    "\n",
    "fname = out_folder / 'count_samples.json'\n",
    "count_samples.to_json(fname)\n",
    "\n",
    "vaep.plotting.make_large_descriptors(size='medium')\n",
    "\n",
    "ax = count_samples.sort_values().plot(rot=90, ylabel='observations')\n",
    "vaep.savefig(ax.get_figure(), fname)"
   ]
  },
  {
   "cell_type": "code",
   "execution_count": null,
   "id": "57eca231-2bfe-4939-bc93-3b31836a0379",
   "metadata": {},
   "outputs": [],
   "source": [
    "%%time\n",
    "df = df.T\n",
    "df.memory_usage(deep=True).sum() / (2**20)"
   ]
  },
  {
   "cell_type": "code",
   "execution_count": null,
   "id": "11e30e15-d802-41fb-9cba-7e08d91eaf9d",
   "metadata": {},
   "outputs": [],
   "source": [
    "%%time\n",
    "fname = out_folder / config.insert_shape(df, template=template)\n",
    "files_out[fname.name] = fname.as_posix()\n",
    "df.to_pickle(fname)"
   ]
  },
  {
   "cell_type": "code",
   "execution_count": null,
   "id": "cc4f2a51-0c7e-4394-bb34-eda4146844ff",
   "metadata": {},
   "outputs": [],
   "source": [
    "%%time\n",
    "fname = fname.with_suffix('.csv')\n",
    "files_out[fname.name] = fname.as_posix()\n",
    "df.to_csv(fname, chunksize=1_000)"
   ]
  },
  {
   "cell_type": "code",
   "execution_count": null,
   "id": "3bc9250b-9a0c-4a44-b375-e1c06d9881b3",
   "metadata": {},
   "outputs": [],
   "source": [
    "count_features = df.notna().sum()\n",
    "fname = out_folder / 'count_feat.json'\n",
    "count_features.to_json(fname)\n",
    "\n",
    "ax = count_features.sort_values().plot(rot=90, ylabel='observations') \n",
    "vaep.savefig(ax.get_figure(), fname)"
   ]
  },
  {
   "cell_type": "markdown",
   "id": "448678a9-f239-4fc0-89a5-afbf6fea62f8",
   "metadata": {},
   "source": [
    "## Present abesent pattern"
   ]
  },
  {
   "cell_type": "code",
   "execution_count": null,
   "id": "02f74eb0-2ffd-4014-9d52-583f33ba4e29",
   "metadata": {},
   "outputs": [],
   "source": [
    "df = df.notna().astype(pd.Int8Dtype())\n",
    "df"
   ]
  },
  {
   "cell_type": "code",
   "execution_count": null,
   "id": "017e027a-6503-4033-947d-d306a08e7a27",
   "metadata": {},
   "outputs": [],
   "source": [
    "%%time\n",
    "fname = out_folder / config.insert_shape(df,  'absent_0_present_1_selected{}.pkl')\n",
    "\n",
    "files_out[fname.name] = fname.as_posix()\n",
    "df.to_pickle(fname)"
   ]
  },
  {
   "cell_type": "code",
   "execution_count": null,
   "id": "d3fa48d3-cc66-4f90-8081-c42cced74d72",
   "metadata": {},
   "outputs": [],
   "source": [
    "files_outfname = fname.with_suffix('.csv')\n",
    "files_out[fname.name] = fname.as_posix()\n",
    "df.replace(0, pd.NA).to_csv(fname.with_suffix('.csv'), chunksize=1_000)"
   ]
  },
  {
   "cell_type": "markdown",
   "id": "4b565b50-13fd-48ac-a0c2-c52ce31d10a5",
   "metadata": {},
   "source": [
    "## Files written"
   ]
  },
  {
   "cell_type": "code",
   "execution_count": null,
   "id": "8cd67887-c1b8-4718-910c-7d0871f71f71",
   "metadata": {},
   "outputs": [],
   "source": [
    "files_out"
   ]
  }
 ],
 "metadata": {
  "kernelspec": {
   "display_name": "Python 3 (ipykernel)",
   "language": "python",
   "name": "python3"
  },
  "language_info": {
   "codemirror_mode": {
    "name": "ipython",
    "version": 3
   },
   "file_extension": ".py",
   "mimetype": "text/x-python",
   "name": "python",
   "nbconvert_exporter": "python",
   "pygments_lexer": "ipython3",
   "version": "3.8.15"
  }
 },
 "nbformat": 4,
 "nbformat_minor": 5
}
