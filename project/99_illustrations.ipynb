{
 "cells": [
  {
   "cell_type": "markdown",
   "metadata": {},
   "source": [
    "# Figures for Illustration of concepts"
   ]
  },
  {
   "cell_type": "code",
   "execution_count": null,
   "metadata": {},
   "outputs": [],
   "source": [
    "import matplotlib.pyplot as plt\n",
    "import numpy as np\n",
    "import pandas as pd\n",
    "import scipy.stats"
   ]
  },
  {
   "cell_type": "code",
   "execution_count": null,
   "metadata": {},
   "outputs": [],
   "source": [
    "import src.config as cfg"
   ]
  },
  {
   "cell_type": "code",
   "execution_count": null,
   "metadata": {},
   "outputs": [],
   "source": [
    "plt.rcParams.update({'xtick.labelsize': 'xx-large',\n",
    "                     'ytick.labelsize': 'xx-large',\n",
    "                     'axes.titlesize' : 'xx-large',\n",
    "                     'axes.labelsize' : 'xx-large',\n",
    "                    })\n",
    "# {k:v for k,v in plt.rcParams.items() if 'tick' in k and 'size' in k}"
   ]
  },
  {
   "cell_type": "markdown",
   "metadata": {},
   "source": [
    "## Imputation by random draw from normal distribution\n",
    "\n",
    "- currently commenly used approach at NNF CPR for downstream experimentation task\n",
    "- see also illustrations in [Lazar 2016, Figure 1](https://pubs.acs.org/doi/10.1021/acs.jproteome.5b00981#fig1)"
   ]
  },
  {
   "cell_type": "code",
   "execution_count": null,
   "metadata": {},
   "outputs": [],
   "source": [
    "mu = 25.0\n",
    "stddev = 1.0\n",
    "\n",
    "x = np.linspace(mu -5, mu + 5, num=101)\n",
    "\n",
    "y_normal = scipy.stats.norm.pdf(x, loc=mu, scale=stddev)\n",
    "\n",
    "mu_shifted = mu - (1.8*stddev)\n",
    "stddev_shifted = 0.3*stddev\n",
    "print(f\"Downshifted: {mu_shifted = }, {stddev_shifted = }\")\n",
    "y_impute = scipy.stats.norm.pdf(x, loc=mu - (1.8*stddev), scale=0.3*stddev)\n",
    "\n",
    "colors = plt.cm.viridis([0.25,0.75])    \n",
    "\n",
    "fig, ax = plt.subplots(1, 1, figsize=(30, 15))\n",
    "\n",
    "for y, c in zip([y_normal, y_impute], colors):\n",
    "    ax.plot(x, y, color=c,)\n",
    "    ax.fill_between(x, y, color=c)\n",
    "    ax.set_xlabel('log2 intensity')\n",
    "    ax.set_ylabel('density')\n",
    "    ax.set_label(\"test\")\n",
    "    ax.legend([\"original\", \"down shifted\"])"
   ]
  },
  {
   "cell_type": "code",
   "execution_count": null,
   "metadata": {},
   "outputs": [],
   "source": [
    "fig.savefig(cfg.FIGUREFOLDER / 'illustration_normal_imputation')\n",
    "fig.savefig(cfg.FIGUREFOLDER / 'illustration_normal_imputation_highres', dpi=600)"
   ]
  }
 ],
 "metadata": {
  "interpreter": {
   "hash": "a3c193f136b3677f7a0d8b8f2344336d9d9fbcf8449c7b9fd96c2b5d44d3d77c"
  },
  "kernelspec": {
   "display_name": "Python 3",
   "language": "python",
   "name": "python3"
  },
  "language_info": {
   "codemirror_mode": {
    "name": "ipython",
    "version": 3
   },
   "file_extension": ".py",
   "mimetype": "text/x-python",
   "name": "python",
   "nbconvert_exporter": "python",
   "pygments_lexer": "ipython3",
   "version": "3.8.8"
  }
 },
 "nbformat": 4,
 "nbformat_minor": 4
}
