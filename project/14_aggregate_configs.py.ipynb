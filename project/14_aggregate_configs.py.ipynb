{
 "cells": [
  {
   "cell_type": "code",
   "execution_count": null,
   "id": "c0616abd",
   "metadata": {},
   "outputs": [],
   "source": [
    "# start coding here\n",
    "import yaml\n",
    "from pathlib import Path\n",
    "import vaep.pandas\n",
    "import pandas as pd\n",
    "all_configs = {}\n",
    "for fname in snakemake.input:\n",
    "    key = Path(fname).parents[1].name  # \"grandparent\" directory gives name\n",
    "    with open(fname) as f:\n",
    "        loaded = yaml.safe_load(f)   \n",
    "    if key not in all_configs:\n",
    "        all_configs[key] = loaded\n",
    "        continue\n",
    "    for k, v in loaded.items():\n",
    "        if k in all_configs[key]:\n",
    "            if not all_configs[key][k] == v:\n",
    "                print(\n",
    "                    \"Diverging values for {k}: {v1} vs {v2}\".format(\n",
    "                k=k,\n",
    "                v1=all_configs[key][k],\n",
    "                v2=v)\n",
    "                )\n",
    "        else:\n",
    "            all_configs[key][k] = v"
   ]
  },
  {
   "cell_type": "code",
   "execution_count": null,
   "id": "457692fa-c7e8-4414-a959-ebbfbd056716",
   "metadata": {},
   "outputs": [],
   "source": [
    "all_config = pd.DataFrame(all_configs)\n",
    "all_config.T"
   ]
  },
  {
   "cell_type": "code",
   "execution_count": null,
   "id": "3e20d7ad-f23b-4c07-abea-62aca0ca19e5",
   "metadata": {},
   "outputs": [],
   "source": [
    "all_config.to_json(snakemake.output.out)"
   ]
  }
 ],
 "metadata": {
  "kernelspec": {
   "display_name": "vaep",
   "language": "python",
   "name": "vaep"
  },
  "language_info": {
   "codemirror_mode": {
    "name": "ipython",
    "version": 3
   },
   "file_extension": ".py",
   "mimetype": "text/x-python",
   "name": "python",
   "nbconvert_exporter": "python",
   "pygments_lexer": "ipython3",
   "version": "3.8.13"
  }
 },
 "nbformat": 4,
 "nbformat_minor": 5
}
