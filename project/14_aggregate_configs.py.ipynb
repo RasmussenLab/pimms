{
 "cells": [
  {
   "cell_type": "code",
   "execution_count": null,
   "id": "c0616abd",
   "metadata": {},
   "outputs": [],
   "source": [
    "# start coding here\n",
    "import yaml\n",
    "from pathlib import Path\n",
    "import vaep.pandas\n",
    "import pandas as pd\n",
    "pd.options.display.max_columns = 30 \n",
    "all_configs = {}"
   ]
  },
  {
   "cell_type": "code",
   "execution_count": null,
   "id": "3152399a",
   "metadata": {},
   "outputs": [],
   "source": [
    "def select_content(s:str, first_split='metrics_'):\n",
    "    s = s.split(first_split)[1]\n",
    "    assert isinstance(s, str), f\"More than one split: {s}\"\n",
    "    entries = s.split('_')\n",
    "    if len(entries) > 1:\n",
    "        s = '_'.join(entries[:-1])\n",
    "    return s\n",
    "    \n",
    "test_cases = ['model_metrics_HL_1024_512_256_dae',\n",
    "              'model_metrics_HL_1024_512_vae',\n",
    "              'model_metrics_collab']\n",
    " \n",
    "for test_case in test_cases:\n",
    "    print(f\"{test_case} = {select_content(test_case)}\")"
   ]
  },
  {
   "cell_type": "code",
   "execution_count": null,
   "id": "e69dc3dd",
   "metadata": {},
   "outputs": [],
   "source": [
    "for fname in snakemake.input:\n",
    "    fname = Path(fname)\n",
    "    # \"grandparent\" directory gives name beside name of file\n",
    "    key = f\"{fname.parents[1].name}_{select_content(fname.stem, 'config_')}\"\n",
    "    print(f\"{key = }\")\n",
    "    with open(fname) as f:\n",
    "        loaded = yaml.safe_load(f)   \n",
    "    if key not in all_configs:\n",
    "        all_configs[key] = loaded\n",
    "        continue\n",
    "    for k, v in loaded.items():\n",
    "        if k in all_configs[key]:\n",
    "            if not all_configs[key][k] == v:\n",
    "                print(\n",
    "                    \"Diverging values for {k}: {v1} vs {v2}\".format(\n",
    "                k=k,\n",
    "                v1=all_configs[key][k],\n",
    "                v2=v)\n",
    "                )\n",
    "        else:\n",
    "            all_configs[key][k] = v"
   ]
  },
  {
   "cell_type": "code",
   "execution_count": null,
   "id": "457692fa-c7e8-4414-a959-ebbfbd056716",
   "metadata": {},
   "outputs": [],
   "source": [
    "all_config = pd.DataFrame(all_configs)\n",
    "all_config.T"
   ]
  },
  {
   "cell_type": "code",
   "execution_count": null,
   "id": "3e20d7ad-f23b-4c07-abea-62aca0ca19e5",
   "metadata": {},
   "outputs": [],
   "source": [
    "all_config.to_json(snakemake.output.out)"
   ]
  }
 ],
 "metadata": {
  "kernelspec": {
   "display_name": "vaep",
   "language": "python",
   "name": "vaep"
  },
  "language_info": {
   "codemirror_mode": {
    "name": "ipython",
    "version": 3
   },
   "file_extension": ".py",
   "mimetype": "text/x-python",
   "name": "python",
   "nbconvert_exporter": "python",
   "pygments_lexer": "ipython3",
   "version": "3.8.13"
  }
 },
 "nbformat": 4,
 "nbformat_minor": 5
}
