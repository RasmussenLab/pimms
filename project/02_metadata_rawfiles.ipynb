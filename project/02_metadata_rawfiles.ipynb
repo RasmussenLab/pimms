{
 "cells": [
  {
   "cell_type": "markdown",
   "id": "8d7f70a2-ce2b-450c-ad95-9e2c879cbdae",
   "metadata": {},
   "source": [
    "# Rawfile metadata\n",
    "\n",
    "- generated using `workflows/metadata`\n",
    "- currently: all processed files by MQ (11,000 out of 50,000) raw files"
   ]
  },
  {
   "cell_type": "code",
   "execution_count": null,
   "id": "18bc909e-536b-430d-984e-ddf45cf16726",
   "metadata": {},
   "outputs": [],
   "source": [
    "from collections import namedtuple\n",
    "from collections import defaultdict\n",
    "\n",
    "import yaml\n",
    "import numpy as np\n",
    "import pandas as pd\n",
    "\n",
    "import vaep.pandas"
   ]
  },
  {
   "cell_type": "markdown",
   "id": "3ce6c1cc-6ffc-411c-b3e4-8780939028e0",
   "metadata": {},
   "source": [
    "## Arguments"
   ]
  },
  {
   "cell_type": "code",
   "execution_count": null,
   "id": "12a35849-1f04-435c-8dd0-645612c37d70",
   "metadata": {
    "tags": [
     "parameters"
    ]
   },
   "outputs": [],
   "source": [
    "# FN_PEPTIDE_INTENSITIES: str = 'data/df_intensities_N07813_M10000.csv'  # Samples metadata extraced from erda\n",
    "# FN_PEPTIDE_FREQ: str = 'data/processed/count_all_peptides.json' # Peptide counts for all parsed files on erda (for data selection)\n",
    "fn_rawfile_metadata: str = 'data/rawfile_metadata.csv' # Machine parsed metadata from rawfile workflow\n",
    "out_folder: str = 'data'"
   ]
  },
  {
   "cell_type": "markdown",
   "id": "f1ff9c99-9162-4a53-99c5-b5691ee0b12a",
   "metadata": {},
   "source": [
    "### Machine metadata\n",
    "\n",
    "- read from file using [ThermoRawFileParser](https://github.com/compomics/ThermoRawFileParser)"
   ]
  },
  {
   "cell_type": "code",
   "execution_count": null,
   "id": "39c2b9ea-2524-4bbd-9780-127873a2c18b",
   "metadata": {
    "tags": []
   },
   "outputs": [],
   "source": [
    "df_meta_rawfiles = pd.read_csv(fn_rawfile_metadata, header=[0, 1], index_col=0)\n",
    "date_col = ('FileProperties', 'Content Creation Date')\n",
    "df_meta_rawfiles[date_col] = pd.to_datetime(\n",
    "    df_meta_rawfiles[date_col])\n",
    "df_meta_rawfiles.sort_values(date_col, inplace=True)\n",
    "df_meta_rawfiles\n",
    "msg = f\"A total of {len(df_meta_rawfiles)} raw files could be read using the ThermoFisherRawFileParser.\" "
   ]
  },
  {
   "cell_type": "code",
   "execution_count": null,
   "id": "083e076f-f584-4236-9b9c-0bbd1dfa34bf",
   "metadata": {},
   "outputs": [],
   "source": [
    "meta_stats = df_meta_rawfiles.describe(include='all', datetime_is_numeric=True)\n",
    "meta_stats"
   ]
  },
  {
   "cell_type": "markdown",
   "id": "0b3ef962-fe95-4af7-9d8e-4427a5950a78",
   "metadata": {},
   "source": [
    "subset with variation"
   ]
  },
  {
   "cell_type": "code",
   "execution_count": null,
   "id": "5f63f93e-4bbf-4445-80c4-de7a11fe3fee",
   "metadata": {},
   "outputs": [],
   "source": [
    "meta_stats.loc[:, (meta_stats.loc['unique'] > 1) |  (meta_stats.loc['std'] > 0.1)]"
   ]
  },
  {
   "cell_type": "code",
   "execution_count": null,
   "id": "abc0cef2-e8d1-4178-b6ea-e073cc9bcd8a",
   "metadata": {},
   "outputs": [],
   "source": [
    "df_meta_rawfiles_columns = df_meta_rawfiles.columns # needs to go to Config which is not overwriteable by attribute selection\n",
    "meta_raw_names = df_meta_rawfiles.columns.droplevel()\n",
    "assert meta_raw_names.is_unique\n",
    "df_meta_rawfiles.columns = meta_raw_names\n",
    "df_meta_rawfiles"
   ]
  },
  {
   "cell_type": "code",
   "execution_count": null,
   "id": "2fe29d9e-a7af-4bc1-95c0-67c492431ed1",
   "metadata": {},
   "outputs": [],
   "source": [
    "meta_raw_selected = [\n",
    " 'Content Creation Date', \n",
    " 'Thermo Scientific instrument model',\n",
    " 'instrument serial number',\n",
    " 'Software Version', \n",
    " 'Number of MS1 spectra',\n",
    " 'Number of MS2 spectra', \n",
    " 'Number of scans',\n",
    " 'MS max charge',\n",
    " 'MS max RT',\n",
    " 'MS min MZ',\n",
    " 'MS max MZ',\n",
    " 'MS scan range', \n",
    " 'mass resolution',\n",
    " 'Retention time range',\n",
    " 'Mz range',\n",
    " 'beam-type collision-induced dissociation', \n",
    " 'injection volume setting',\n",
    " 'dilution factor',\n",
    "]\n",
    "df_meta_rawfiles[meta_raw_selected].describe(percentiles=np.linspace(0.05, 0.95, 10))"
   ]
  },
  {
   "cell_type": "markdown",
   "id": "ab323148-8af6-4ca8-99dc-0c5e9ef86714",
   "metadata": {},
   "source": [
    "- `MS min MZ`: outlier clearly shifts means\n",
    "- `mass resolution` is unique (can this be?)\n",
    "- `dillution factor` is unique (can this be?)"
   ]
  },
  {
   "cell_type": "markdown",
   "id": "7a34bb67-6e9b-4f6f-a79c-c953afc0aa4d",
   "metadata": {},
   "source": [
    "## Instrument type and settings\n",
    "\n",
    "check some columns describing settings\n",
    "  - quite some variation due to `MS max charge`: Is it a parameter?"
   ]
  },
  {
   "cell_type": "code",
   "execution_count": null,
   "id": "9accd23f-06f5-47ef-b9fd-110fbdb12752",
   "metadata": {},
   "outputs": [],
   "source": [
    "MetaRawSettings = namedtuple('MetaRawSettings', 'ms_model ms_attr ms_sn ms_firmware max_charge mass_res cid_type inject_volume dill_factor') \n",
    "meta_raw_settings = [\n",
    "    'Thermo Scientific instrument model',\n",
    "    'instrument attribute',\n",
    "    'instrument serial number',\n",
    "    'Software Version',\n",
    "    'MS max charge',\n",
    "    'mass resolution',\n",
    "    'beam-type collision-induced dissociation',\n",
    "    'injection volume setting',\n",
    "    'dilution factor',\n",
    "]\n",
    "meta_raw_settings = MetaRawSettings(*meta_raw_settings)\n",
    "meta_raw_settings"
   ]
  },
  {
   "cell_type": "code",
   "execution_count": null,
   "id": "9a7cbb3b-f97c-42c2-a094-4842d9b722dd",
   "metadata": {},
   "outputs": [],
   "source": [
    "# index gives first example with this combination\n",
    "# df_meta_rawfiles[list(meta_raw_settings)].drop_duplicates()\n",
    "df_meta_rawfiles[list(meta_raw_settings)].drop_duplicates(ignore_index=True)"
   ]
  },
  {
   "cell_type": "markdown",
   "id": "50f85fa8-a0c5-4c4b-b292-22721989c21a",
   "metadata": {},
   "source": [
    "view without `MS max charge`:\n",
    "  - software can be updated\n",
    "  - variation by `injection volume setting` and instrument over time\n",
    "  - missing `dilution factor`\n",
    "  "
   ]
  },
  {
   "cell_type": "code",
   "execution_count": null,
   "id": "35682fcc-503c-444f-ace9-4d50a1726ca3",
   "metadata": {},
   "outputs": [],
   "source": [
    "to_drop = ['MS max charge']\n",
    "# df_meta_rawfiles[list(meta_raw_settings)].drop(to_drop, axis=1).drop_duplicates(ignore_index=False) # index gives first example with this combination\n",
    "df_meta_rawfiles[list(meta_raw_settings)].drop(to_drop, axis=1).drop_duplicates(ignore_index=True)"
   ]
  },
  {
   "cell_type": "markdown",
   "id": "031c4e4e-600d-48cb-b025-af851b4d5e26",
   "metadata": {},
   "source": [
    "Relatively big samples for different machines of the same kind running with the same firmware:"
   ]
  },
  {
   "cell_type": "code",
   "execution_count": null,
   "id": "8cf957f5-d3e6-46c2-b15e-f82cd37e5488",
   "metadata": {},
   "outputs": [],
   "source": [
    "df_meta_rawfiles.groupby([meta_raw_settings.ms_model, meta_raw_settings.ms_firmware])[meta_raw_settings.ms_model].count().sort_values().tail(10)"
   ]
  },
  {
   "cell_type": "markdown",
   "id": "b890cf2f-3d6e-4a87-adda-0bf947900971",
   "metadata": {},
   "source": [
    "Ignoring instrument software"
   ]
  },
  {
   "cell_type": "code",
   "execution_count": null,
   "id": "0caecd7f-a804-4b11-b761-58f68bbc6a20",
   "metadata": {},
   "outputs": [],
   "source": [
    "grouping = df_meta_rawfiles.groupby(list(meta_raw_settings[:3]))\n",
    "instrument_counts = grouping[meta_raw_settings.ms_model].count().sort_values()\n",
    "msg += (f\" There are a total of {len(instrument_counts)} unique instruments in the entire dataset (based on the instrument name, attributs and serial number)\"\n",
    "        f\", of which {(instrument_counts >= 1000).sum()} have 1,000 rawfiles assigned to them. Note that the entire dataset contains fractionated measurements.\"\n",
    "       )\n",
    "instrument_counts"
   ]
  },
  {
   "cell_type": "code",
   "execution_count": null,
   "id": "e763c1f0-3ca4-404f-a5f5-28a9acbea6f5",
   "metadata": {},
   "outputs": [],
   "source": [
    "ms_groups = vaep.pandas.create_dict_of_dicts(grouping.groups, verbose=True, transform_values=list)"
   ]
  },
  {
   "cell_type": "code",
   "execution_count": null,
   "id": "29e8caa4-5a7e-46b6-9758-26661548cf18",
   "metadata": {},
   "outputs": [],
   "source": [
    "# d = dict()\n",
    "# for (k1, k2, k3), v in grouping.groups.items():\n",
    "#     print(f\"{str((k1,k2,k3)):90}: {len(v):>5}\")\n",
    "#     if not k1 in d:\n",
    "#         d[k1] = dict()\n",
    "#     if not k2 in d[k1]:\n",
    "#         d[k1][k2] = dict()\n",
    "#     d[k1][k2][k3] = list(v)\n",
    "# assert ms_groups == d"
   ]
  },
  {
   "cell_type": "markdown",
   "id": "5719cd88-f9dc-4edb-a5f0-61d27cf67599",
   "metadata": {},
   "source": [
    "Save selection yaml"
   ]
  },
  {
   "cell_type": "code",
   "execution_count": null,
   "id": "163089c0-8889-4421-ba88-00ec28594d3b",
   "metadata": {},
   "outputs": [],
   "source": [
    "with open('data/files_per_instrument_nested.yaml', 'w') as f:\n",
    "    yaml.dump(ms_groups, f)    "
   ]
  },
  {
   "cell_type": "code",
   "execution_count": null,
   "id": "d4d50dcb-0715-4eaf-8d47-ce16385e362e",
   "metadata": {},
   "outputs": [],
   "source": [
    "print(msg)"
   ]
  }
 ],
 "metadata": {
  "kernelspec": {
   "display_name": "Python 3",
   "language": "python",
   "name": "python3"
  },
  "language_info": {
   "codemirror_mode": {
    "name": "ipython",
    "version": 3
   },
   "file_extension": ".py",
   "mimetype": "text/x-python",
   "name": "python",
   "nbconvert_exporter": "python",
   "pygments_lexer": "ipython3",
   "version": "3.8.12"
  }
 },
 "nbformat": 4,
 "nbformat_minor": 5
}
