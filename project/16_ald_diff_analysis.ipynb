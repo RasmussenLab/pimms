{
 "cells": [
  {
   "cell_type": "code",
   "execution_count": null,
   "metadata": {},
   "outputs": [],
   "source": [
    "from pathlib import Path\n",
    "\n",
    "import pandas as pd\n",
    "import matplotlib.pyplot as plt\n",
    "\n",
    "import vaep\n",
    "import vaep.analyzers\n",
    "import vaep.io.datasplits\n",
    "# from vaep.analyzers import analyzers\n",
    "\n",
    "import vaep.nb as config\n",
    "\n",
    "logger = vaep.logging.setup_nb_logger()"
   ]
  },
  {
   "cell_type": "code",
   "execution_count": null,
   "metadata": {},
   "outputs": [],
   "source": [
    "folder_experiment = \"runs/appl_ald_data/proteinGroups\"\n",
    "folder_data:str = '' # specify data directory if needed\n",
    "fn_rawfile_metadata = \"data/single_datasets/raw_meta.csv\"\n",
    "\n",
    "file_format = \"pkl\"\n",
    "model_key='vae'"
   ]
  },
  {
   "cell_type": "code",
   "execution_count": null,
   "metadata": {},
   "outputs": [],
   "source": [
    "args = config.Config()\n",
    "args.fn_rawfile_metadata = Path(fn_rawfile_metadata)\n",
    "del fn_rawfile_metadata\n",
    "args.folder_experiment = Path(folder_experiment)\n",
    "del folder_experiment\n",
    "args.file_format = file_format\n",
    "del file_format\n",
    "args = vaep.nb.add_default_paths(args, folder_data=folder_data)\n",
    "del folder_data\n",
    "args.model_key = model_key\n",
    "# del model_key"
   ]
  },
  {
   "cell_type": "code",
   "execution_count": null,
   "metadata": {},
   "outputs": [],
   "source": [
    "data = vaep.io.datasplits.DataSplits.from_folder(args.data, file_format=args.file_format) "
   ]
  },
  {
   "cell_type": "code",
   "execution_count": null,
   "metadata": {},
   "outputs": [],
   "source": [
    "observed = pd.concat([data.train_X, data.val_y, data.test_y])\n",
    "observed"
   ]
  },
  {
   "cell_type": "code",
   "execution_count": null,
   "metadata": {},
   "outputs": [],
   "source": [
    "DATA_COMPLETENESS = 0.6\n",
    "MIN_N_PROTEIN_GROUPS: int = 200\n",
    "FRAC_PROTEIN_GROUPS: int = 0.622\n",
    "\n",
    "from collections import namedtuple\n",
    "\n",
    "def select_raw_data(df: pd.DataFrame, data_completeness: float, frac_protein_groups: int):\n",
    "    msg = 'N samples: {}, M feat: {}'\n",
    "    N, M = df.shape\n",
    "    logger.info(\"Initally: \" + msg.format(N, M))\n",
    "    treshold_completeness = int(M * data_completeness)\n",
    "    df = df.dropna(axis=1, thresh=treshold_completeness)\n",
    "    logger.info(\n",
    "        f\"Dropped features quantified in less than {int(treshold_completeness)} samples.\")\n",
    "    N, M = df.shape\n",
    "    logger.info(\"After feat selection: \" + msg.format(N, M))\n",
    "    min_n_protein_groups = int(M * frac_protein_groups)\n",
    "    logger.info(\n",
    "        f\"Min No. of Protein-Groups in single sample: {min_n_protein_groups}\")\n",
    "    df = df.dropna(axis=0, thresh=MIN_N_PROTEIN_GROUPS)\n",
    "    logger.info(\"Finally: \" + msg.format(*df.shape))\n",
    "    Cutoffs = namedtuple('Cutoffs', 'feat_completness_over_samples min_feat_in_sample')\n",
    "    return df, Cutoffs(treshold_completeness, min_n_protein_groups)\n",
    "\n",
    "ald_study, cutoffs = select_raw_data(observed.unstack(), data_completeness=DATA_COMPLETENESS, frac_protein_groups=FRAC_PROTEIN_GROUPS)"
   ]
  },
  {
   "cell_type": "code",
   "execution_count": null,
   "metadata": {},
   "outputs": [],
   "source": [
    "def plot_cutoffs(df, feat_completness_over_samples=None, min_feat_in_sample=None):\n",
    "    notna = df.notna()\n",
    "    fig, axes = plt.subplots(1, 2)\n",
    "    ax  = axes[0]\n",
    "    notna.sum(axis=0).sort_values().plot(rot=90, ax=ax, ylabel='count')\n",
    "    if min_feat_in_sample is not None:\n",
    "        ax.axhline(min_feat_in_sample)\n",
    "    ax  = axes[1]\n",
    "    notna.sum(axis=1).sort_values().plot(rot=90, ax=ax)\n",
    "    if feat_completness_over_samples is not None:\n",
    "        ax.axhline(feat_completness_over_samples)\n",
    "\n",
    "plot_cutoffs(observed.unstack(), feat_completness_over_samples=cutoffs.feat_completness_over_samples, min_feat_in_sample=cutoffs.min_feat_in_sample)"
   ]
  },
  {
   "cell_type": "markdown",
   "metadata": {},
   "source": [
    "## load predictions for (real) missing data"
   ]
  },
  {
   "cell_type": "code",
   "execution_count": null,
   "metadata": {},
   "outputs": [],
   "source": [
    "list(args.out_preds.iterdir())"
   ]
  },
  {
   "cell_type": "code",
   "execution_count": null,
   "metadata": {},
   "outputs": [],
   "source": [
    "template = 'pred_real_na_{}.csv'\n",
    "\n",
    "def load_pred(model_key):\n",
    "    pred_real_na = pd.read_csv(args.out_preds / template.format(model_key))\n",
    "    pred_real_na = pred_real_na.set_index(pred_real_na.columns[:-1].tolist())\n",
    "    pred_real_na = pred_real_na.squeeze()\n",
    "    pred_real_na.name = 'intensity'\n",
    "    return pred_real_na\n"
   ]
  },
  {
   "cell_type": "code",
   "execution_count": null,
   "metadata": {},
   "outputs": [],
   "source": [
    "pred_real_na = load_pred(model_key=args.model_key)\n",
    "pred_real_na.sample(3)\n"
   ]
  },
  {
   "cell_type": "code",
   "execution_count": null,
   "metadata": {},
   "outputs": [],
   "source": [
    "ax = pred_real_na.hist()"
   ]
  },
  {
   "cell_type": "code",
   "execution_count": null,
   "metadata": {},
   "outputs": [],
   "source": [
    "ax = observed.hist()"
   ]
  },
  {
   "cell_type": "code",
   "execution_count": null,
   "metadata": {},
   "outputs": [],
   "source": [
    "df = pd.concat([data.train_X, data.val_y, data.test_y, pred_real_na]).unstack()\n",
    "df"
   ]
  },
  {
   "cell_type": "code",
   "execution_count": null,
   "metadata": {},
   "outputs": [],
   "source": [
    "assert df.isna().sum().sum() == 0, \"DataFrame has missing entries\""
   ]
  },
  {
   "cell_type": "code",
   "execution_count": null,
   "metadata": {},
   "outputs": [],
   "source": []
  }
 ],
 "metadata": {
  "kernelspec": {
   "display_name": "Python 3",
   "language": "python",
   "name": "python3"
  },
  "language_info": {
   "codemirror_mode": {
    "name": "ipython",
    "version": 3
   },
   "file_extension": ".py",
   "mimetype": "text/x-python",
   "name": "python",
   "nbconvert_exporter": "python",
   "pygments_lexer": "ipython3",
   "version": "3.8.13"
  },
  "vscode": {
   "interpreter": {
    "hash": "cf83e9cb890c7f96eb0ae04f39a82254555f56a1a0ed2f03b23a8b40fe6cd31c"
   }
  }
 },
 "nbformat": 4,
 "nbformat_minor": 4
}
