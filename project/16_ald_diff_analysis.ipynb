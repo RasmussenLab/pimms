{
 "cells": [
  {
   "cell_type": "markdown",
   "metadata": {},
   "source": [
    "# Differential Analysis - Compare model imputation with standard imputation\n",
    "\n",
    "- load real NA predictions\n",
    "- leave all other values as they were\n",
    "- compare real NA predicition by model with standard method (draw from shifted normal distribution)"
   ]
  },
  {
   "cell_type": "code",
   "execution_count": null,
   "metadata": {},
   "outputs": [],
   "source": [
    "from pathlib import Path\n",
    "import yaml\n",
    "from collections import namedtuple\n",
    "\n",
    "import matplotlib.pyplot as plt\n",
    "\n",
    "import numpy as np\n",
    "import pandas as pd\n",
    "import pingouin as pg\n",
    "\n",
    "import statsmodels.stats.multitest\n",
    "\n",
    "\n",
    "import vaep\n",
    "import vaep.analyzers\n",
    "import vaep.io.datasplits\n",
    "import vaep.imputation\n",
    "import vaep.stats\n",
    "\n",
    "import vaep.nb\n",
    "\n",
    "logger = vaep.logging.setup_nb_logger()"
   ]
  },
  {
   "cell_type": "code",
   "execution_count": null,
   "metadata": {},
   "outputs": [],
   "source": [
    "# catch passed parameters\n",
    "args = None\n",
    "args = dict(globals()).keys()"
   ]
  },
  {
   "cell_type": "markdown",
   "metadata": {},
   "source": [
    "## Parameters"
   ]
  },
  {
   "cell_type": "code",
   "execution_count": null,
   "metadata": {
    "tags": [
     "parameters"
    ]
   },
   "outputs": [],
   "source": [
    "folder_experiment = \"runs/appl_ald_data/plasma/proteinGroups\"\n",
    "folder_data: str = ''  # specify data directory if needed\n",
    "fn_clinical_data = \"data/single_datasets/ald_metadata_cli.csv\"\n",
    "fn_qc_samples = 'data/single_datasets/qc_plasma_proteinGroups.pkl'\n",
    "\n",
    "\n",
    "target: str = 'kleiner'\n",
    "covar:str = 'age,bmi,gender_num,nas_steatosis_ordinal,abstinent_num'\n",
    "\n",
    "file_format = \"pkl\"\n",
    "model_key = 'vae'\n",
    "value_name='intensity'\n",
    "out_folder='diff_analysis'"
   ]
  },
  {
   "cell_type": "code",
   "execution_count": null,
   "metadata": {},
   "outputs": [],
   "source": [
    "params = vaep.nb.get_params(args, globals=globals(), remove=True)\n",
    "params"
   ]
  },
  {
   "cell_type": "code",
   "execution_count": null,
   "metadata": {},
   "outputs": [],
   "source": [
    "args = vaep.nb.Config()\n",
    "args.fn_clinical_data = Path(params[\"fn_clinical_data\"])\n",
    "args.folder_experiment = Path(params[\"folder_experiment\"])\n",
    "args = vaep.nb.add_default_paths(args, out_root=args.folder_experiment/params[\"out_folder\"]/params[\"target\"]/params[\"model_key\"])\n",
    "args.covar = params[\"covar\"].split(',')\n",
    "args.update_from_dict(params)\n",
    "args"
   ]
  },
  {
   "cell_type": "markdown",
   "metadata": {},
   "source": [
    "Outputs of this notebook will be stored here"
   ]
  },
  {
   "cell_type": "code",
   "execution_count": null,
   "metadata": {},
   "outputs": [],
   "source": [
    "args.out_folder"
   ]
  },
  {
   "cell_type": "markdown",
   "metadata": {},
   "source": [
    "# Data"
   ]
  },
  {
   "cell_type": "markdown",
   "metadata": {},
   "source": [
    "## MS proteomics"
   ]
  },
  {
   "cell_type": "code",
   "execution_count": null,
   "metadata": {},
   "outputs": [],
   "source": [
    "data = vaep.io.datasplits.DataSplits.from_folder(\n",
    "    args.data, file_format=args.file_format)"
   ]
  },
  {
   "cell_type": "code",
   "execution_count": null,
   "metadata": {},
   "outputs": [],
   "source": [
    "observed = pd.concat([data.train_X, data.val_y, data.test_y])\n",
    "observed"
   ]
  },
  {
   "cell_type": "markdown",
   "metadata": {},
   "source": [
    "## Clinical data"
   ]
  },
  {
   "cell_type": "code",
   "execution_count": null,
   "metadata": {},
   "outputs": [],
   "source": [
    "df_clinic = pd.read_csv(args.fn_clinical_data, index_col=0)\n",
    "df_clinic = df_clinic.loc[observed.index.levels[0]]\n",
    "df_clinic['abstinent_num'] = (df_clinic[\"currentalc\"] == 0.00).astype(int)\n",
    "cols_clinic = vaep.pandas.get_columns_accessor(df_clinic)\n",
    "df_clinic[[args.target, *args.covar]].describe()"
   ]
  },
  {
   "cell_type": "markdown",
   "metadata": {},
   "source": [
    "Entries with missing values\n",
    "- see how many rows have one missing values (for target and covariates)\n",
    "- only complete data is used for Differential Analysis\n",
    "- covariates are not imputed"
   ]
  },
  {
   "cell_type": "code",
   "execution_count": null,
   "metadata": {},
   "outputs": [],
   "source": [
    "df_clinic[[args.target, *args.covar]].isna().any(axis=1).sum()"
   ]
  },
  {
   "cell_type": "markdown",
   "metadata": {},
   "source": [
    "Data description of data used:"
   ]
  },
  {
   "cell_type": "code",
   "execution_count": null,
   "metadata": {},
   "outputs": [],
   "source": [
    "idx_complete_data = df_clinic[[args.target, *args.covar]].dropna().index\n",
    "df_clinic.loc[idx_complete_data, [args.target, *args.covar]].describe()"
   ]
  },
  {
   "cell_type": "markdown",
   "metadata": {},
   "source": [
    "## ALD study approach using all measurments"
   ]
  },
  {
   "cell_type": "code",
   "execution_count": null,
   "metadata": {},
   "outputs": [],
   "source": [
    "DATA_COMPLETENESS = 0.6\n",
    "# MIN_N_PROTEIN_GROUPS: int = 200\n",
    "FRAC_PROTEIN_GROUPS: int = 0.622\n",
    "CV_QC_SAMPLE: float = 0.4 # Coef. of variation on 13 QC samples\n",
    "\n",
    "ald_study, cutoffs = vaep.analyzers.diff_analysis.select_raw_data(observed.unstack(\n",
    "), data_completeness=DATA_COMPLETENESS, frac_protein_groups=FRAC_PROTEIN_GROUPS)\n",
    "\n",
    "ald_study"
   ]
  },
  {
   "cell_type": "code",
   "execution_count": null,
   "metadata": {},
   "outputs": [],
   "source": [
    "if args.fn_qc_samples:\n",
    "    qc_samples = pd.read_pickle(args.fn_qc_samples)\n",
    "    qc_samples = qc_samples[ald_study.columns]\n",
    "    qc_cv_feat = qc_samples.std() / qc_samples.mean()\n",
    "    qc_cv_feat = qc_cv_feat.rename(qc_samples.columns.name)\n",
    "    fig, ax = plt.subplots(figsize=(4,7))\n",
    "    ax = qc_cv_feat.plot.box(ax=ax)\n",
    "    ax.set_ylabel('Coefficient of Variation')\n",
    "    print((qc_cv_feat < CV_QC_SAMPLE).value_counts())\n",
    "    ald_study = ald_study[vaep.analyzers.diff_analysis.select_feat(qc_samples)]\n",
    "    vaep.savefig(fig, name='cv_qc_samples', folder=args.out_figures)\n",
    "ald_study"
   ]
  },
  {
   "cell_type": "code",
   "execution_count": null,
   "metadata": {},
   "outputs": [],
   "source": [
    "freq_feat = observed.unstack().notna().sum()\n",
    "freq_feat.name = 'frequency'\n",
    "fname = args.folder_experiment / 'freq_features_observed.csv'\n",
    "logger.info(fname)\n",
    "freq_feat.to_csv(fname)\n",
    "freq_feat"
   ]
  },
  {
   "cell_type": "code",
   "execution_count": null,
   "metadata": {},
   "outputs": [],
   "source": [
    "fig, axes = vaep.plotting.plot_cutoffs(observed.unstack(), feat_completness_over_samples=cutoffs.feat_completness_over_samples,\n",
    "             min_feat_in_sample=cutoffs.min_feat_in_sample)\n",
    "vaep.savefig(fig, name='tresholds_normal_imputation', folder=args.out_figures)"
   ]
  },
  {
   "cell_type": "code",
   "execution_count": null,
   "metadata": {},
   "outputs": [],
   "source": [
    "pred_real_na_imputed_normal = vaep.imputation.impute_shifted_normal(\n",
    "    ald_study)"
   ]
  },
  {
   "cell_type": "markdown",
   "metadata": {},
   "source": [
    "## load model predictions for (real) missing data"
   ]
  },
  {
   "cell_type": "code",
   "execution_count": null,
   "metadata": {},
   "outputs": [],
   "source": [
    "list(args.out_preds.iterdir())"
   ]
  },
  {
   "cell_type": "code",
   "execution_count": null,
   "metadata": {},
   "outputs": [],
   "source": [
    "template = 'pred_real_na_{}.csv'\n",
    "fname = args.out_preds / template.format(args.model_key)\n",
    "fname"
   ]
  },
  {
   "cell_type": "code",
   "execution_count": null,
   "metadata": {
    "lines_to_next_cell": 2
   },
   "outputs": [],
   "source": [
    "pred_real_na = vaep.analyzers.compare_predictions.load_single_csv_pred_file(fname)\n",
    "pred_real_na.sample(3)"
   ]
  },
  {
   "cell_type": "code",
   "execution_count": null,
   "metadata": {},
   "outputs": [],
   "source": [
    "min_bin, max_bin = (int(min(pred_real_na.min(), observed.min(), pred_real_na_imputed_normal.min())),\n",
    "(int(max(pred_real_na.max(), observed.max(), pred_real_na_imputed_normal.max()))) + 1)\n",
    "min_bin, max_bin"
   ]
  },
  {
   "cell_type": "code",
   "execution_count": null,
   "metadata": {},
   "outputs": [],
   "source": [
    "fig, axes = plt.subplots(3, figsize=(10, 10), sharex=True)\n",
    "\n",
    "# axes = axes.ravel()\n",
    "bins = range(min_bin, max_bin+1, 1)\n",
    "ax = axes[0]\n",
    "ax = observed.hist(ax=ax, bins=bins, color='grey')\n",
    "ax.set_title(f'observed measurments (N={len(observed):,d})')\n",
    "ax.set_ylabel('count measurments')\n",
    "\n",
    "ax = axes[1]\n",
    "ax = pred_real_na.hist(ax=ax,bins=bins, label=f'all (N={len(pred_real_na):,d})')\n",
    "ax.set_title(f'real na imputed using {args.model_key} (N={len(pred_real_na):,d})')\n",
    "ax.set_ylabel('count measurments')\n",
    "\n",
    "idx_new_model = pred_real_na.index.difference(pred_real_na_imputed_normal.index)\n",
    "ax = pred_real_na.loc[idx_new_model].hist(ax=ax,bins=bins, label=f'new (N={len(idx_new_model):,d})', color='green', alpha=0.9)\n",
    "ax.legend()\n",
    "\n",
    "ax = axes[2]\n",
    "ax = pred_real_na.loc[pred_real_na_imputed_normal.index].hist(ax=ax,bins=bins, label=args.model_key)\n",
    "ax = pred_real_na_imputed_normal.hist(ax=ax, bins=bins, label='shifted normal')\n",
    "\n",
    "ax.set_title(f'real na imputed by shifted normal distribution (N={len(pred_real_na_imputed_normal):,d})')\n",
    "ax.set_ylabel('count measurments')\n",
    "ax.set_xlabel(args.value_name)\n",
    "ax.legend(fontsize='xx-large')\n",
    "\n",
    "vaep.savefig(fig, name=f'real_na_obs_vs_default_vs_{args.model_key}_v2', folder=args.out_folder)"
   ]
  },
  {
   "cell_type": "markdown",
   "metadata": {},
   "source": [
    "plot subsets to highlight differences"
   ]
  },
  {
   "cell_type": "code",
   "execution_count": null,
   "metadata": {},
   "outputs": [],
   "source": [
    "fig, axes = plt.subplots(3, figsize=(10, 10), sharex=True)\n",
    "\n",
    "ax = axes[0]\n",
    "ax = observed.hist(ax=ax, bins=bins, color='grey')\n",
    "ax.set_title(f'observed measurments (N={len(observed):,d})')\n",
    "ax.set_ylabel('count measurments')\n",
    "\n",
    "ax = axes[1]\n",
    "bins = range(min_bin, max_bin+1, 1)\n",
    "ax = pred_real_na.hist(ax=ax,bins=bins)\n",
    "ax.set_title(f'real na imputed using {args.model_key} (N={len(pred_real_na):,d})')\n",
    "ax.set_ylabel('count measurments')\n",
    "\n",
    "ax = axes[2]\n",
    "ax = pred_real_na_imputed_normal.hist(ax=ax, bins=bins, color='C1')\n",
    "ax.set_title(f'real na imputed using shifted normal distribution (N={len(pred_real_na_imputed_normal):,d})')\n",
    "ax.set_ylabel('count measurments')\n",
    "ax.set_xlabel(args.value_name)\n",
    "\n",
    "vaep.savefig(fig, name=f'real_na_obs_vs_default_vs_{args.model_key}', folder=args.out_folder)"
   ]
  },
  {
   "cell_type": "markdown",
   "metadata": {},
   "source": [
    "## Mean shift by method"
   ]
  },
  {
   "cell_type": "code",
   "execution_count": null,
   "metadata": {},
   "outputs": [],
   "source": [
    "observed.mean(), observed.std(), pred_real_na.mean(), pred_real_na.std(), pred_real_na_imputed_normal.mean(), pred_real_na_imputed_normal.std()"
   ]
  },
  {
   "cell_type": "code",
   "execution_count": null,
   "metadata": {},
   "outputs": [],
   "source": [
    "shifts = vaep.imputation.compute_moments_shift(observed, pred_real_na_imputed_normal, names=('observed', 'shifted normal'))\n",
    "shifts.update(vaep.imputation.compute_moments_shift(observed, pred_real_na, names=('observed', args.model_key)))\n",
    "pd.DataFrame(shifts).T"
   ]
  },
  {
   "cell_type": "markdown",
   "metadata": {},
   "source": [
    "Or by averaging over the calculation by sample"
   ]
  },
  {
   "cell_type": "code",
   "execution_count": null,
   "metadata": {},
   "outputs": [],
   "source": [
    "index_level = 0 # per sample\n",
    "mean_by_sample = {}\n",
    "mean_by_sample['observed'] = vaep.imputation.stats_by_level(observed, index_level=index_level)\n",
    "mean_by_sample['shifted normal'] = vaep.imputation.stats_by_level(pred_real_na_imputed_normal, index_level=index_level)\n",
    "mean_by_sample['vae'] = vaep.imputation.stats_by_level(pred_real_na, index_level=index_level)\n",
    "mean_by_sample = pd.DataFrame(mean_by_sample)\n",
    "mean_by_sample.loc['mean_shift'] = (mean_by_sample.loc['mean', 'observed'] - mean_by_sample.loc['mean']).abs() / mean_by_sample.loc['std', 'observed']\n",
    "mean_by_sample.loc['std shrinkage'] = mean_by_sample.loc['std'] / mean_by_sample.loc['std', 'observed']\n",
    "mean_by_sample"
   ]
  },
  {
   "cell_type": "markdown",
   "metadata": {},
   "source": [
    "# Differential analysis"
   ]
  },
  {
   "cell_type": "markdown",
   "metadata": {},
   "source": [
    "## Model imputation"
   ]
  },
  {
   "cell_type": "code",
   "execution_count": null,
   "metadata": {},
   "outputs": [],
   "source": [
    "df = pd.concat([observed, pred_real_na]).unstack()\n",
    "df.loc[idx_complete_data]"
   ]
  },
  {
   "cell_type": "code",
   "execution_count": null,
   "metadata": {},
   "outputs": [],
   "source": [
    "assert df.isna().sum().sum() == 0, \"DataFrame has missing entries\""
   ]
  },
  {
   "cell_type": "markdown",
   "metadata": {
    "lines_to_next_cell": 0
   },
   "source": [
    "Targets - Clinical variables"
   ]
  },
  {
   "cell_type": "code",
   "execution_count": null,
   "metadata": {
    "lines_to_next_cell": 2
   },
   "outputs": [],
   "source": [
    "scores = vaep.stats.diff_analysis.analyze(df_proteomics=df,\n",
    "        df_clinic=df_clinic,\n",
    "        target=args.target,\n",
    "        covar=args.covar,\n",
    "        value_name=args.value_name)\n",
    "\n",
    "scores.columns = pd.MultiIndex.from_product([[args.model_key], scores.columns],\n",
    "                                            names=('model', 'var'))\n",
    "scores"
   ]
  },
  {
   "cell_type": "markdown",
   "metadata": {},
   "source": [
    "## Shifted normal distribution\n",
    "- select protein groups which were in original study\n",
    "- loaded from config"
   ]
  },
  {
   "cell_type": "code",
   "execution_count": null,
   "metadata": {},
   "outputs": [],
   "source": [
    "df = pd.concat([ald_study.stack(), pred_real_na_imputed_normal]).unstack()\n",
    "ald_study_feat = df.columns.to_list()\n",
    "df = df.loc[idx_complete_data]\n",
    "df"
   ]
  },
  {
   "cell_type": "code",
   "execution_count": null,
   "metadata": {
    "lines_to_next_cell": 0
   },
   "outputs": [],
   "source": [
    "_scores = vaep.stats.diff_analysis.analyze(df_proteomics=df,\n",
    "        df_clinic=df_clinic,\n",
    "        target=args.target,\n",
    "        covar=args.covar,\n",
    "        value_name=args.value_name)\n",
    "_scores.columns = pd.MultiIndex.from_product([['random shifted_imputation'], _scores.columns],\n",
    "                                            names=('model', 'var'))\n",
    "_scores"
   ]
  },
  {
   "cell_type": "markdown",
   "metadata": {},
   "source": [
    "# Combine scores"
   ]
  },
  {
   "cell_type": "code",
   "execution_count": null,
   "metadata": {},
   "outputs": [],
   "source": [
    "scores=scores.join(_scores)"
   ]
  },
  {
   "cell_type": "code",
   "execution_count": null,
   "metadata": {},
   "outputs": [],
   "source": [
    "scores.describe()"
   ]
  },
  {
   "cell_type": "code",
   "execution_count": null,
   "metadata": {},
   "outputs": [],
   "source": [
    "fname = args.out_folder/f'diff_analysis_scores.pkl'\n",
    "scores.to_pickle(fname)\n",
    "fname"
   ]
  },
  {
   "cell_type": "markdown",
   "metadata": {},
   "source": [
    "## Save new features with target for further use"
   ]
  },
  {
   "cell_type": "code",
   "execution_count": null,
   "metadata": {},
   "outputs": [],
   "source": [
    "df = pd.concat([observed, pred_real_na]).unstack()\n",
    "df = df[df.columns.difference(ald_study_feat)]\n",
    "df = df.join(df_clinic[args.target]).dropna()\n",
    "df.to_pickle(args.out_folder / f'new_features.pkl')\n",
    "df"
   ]
  },
  {
   "cell_type": "code",
   "execution_count": null,
   "metadata": {},
   "outputs": [],
   "source": [
    "list(args.out_folder.iterdir())"
   ]
  }
 ],
 "metadata": {
  "kernelspec": {
   "display_name": "Python 3",
   "language": "python",
   "name": "python3"
  },
  "language_info": {
   "codemirror_mode": {
    "name": "ipython",
    "version": 3
   },
   "file_extension": ".py",
   "mimetype": "text/x-python",
   "name": "python",
   "nbconvert_exporter": "python",
   "pygments_lexer": "ipython3",
   "version": "3.8.13"
  },
  "vscode": {
   "interpreter": {
    "hash": "cf83e9cb890c7f96eb0ae04f39a82254555f56a1a0ed2f03b23a8b40fe6cd31c"
   }
  }
 },
 "nbformat": 4,
 "nbformat_minor": 4
}
