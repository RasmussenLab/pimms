{
 "cells": [
  {
   "cell_type": "markdown",
   "id": "9acfeaca-5f8c-42f3-9a8e-83ed737eb35c",
   "metadata": {},
   "source": [
    "# Compare outcomes from differential analysis based on different imputation methods\n",
    "\n",
    "- load scores based on `16_ald_diff_analysis`"
   ]
  },
  {
   "cell_type": "code",
   "execution_count": null,
   "id": "eec6f931-c04d-428c-b2b1-0424c50e6cd2",
   "metadata": {},
   "outputs": [],
   "source": [
    "from pathlib import Path\n",
    "\n",
    "import matplotlib.pyplot as plt\n",
    "import pandas as pd\n",
    "import seaborn as sns\n",
    "\n",
    "import vaep\n",
    "import vaep.databases.diseases\n",
    "logger = vaep.logging.setup_nb_logger()"
   ]
  },
  {
   "cell_type": "code",
   "execution_count": null,
   "id": "f4bf65da-0569-4a21-ba20-9cae7d3679e7",
   "metadata": {},
   "outputs": [],
   "source": [
    "# catch passed parameters\n",
    "args = None\n",
    "args = dict(globals()).keys()"
   ]
  },
  {
   "cell_type": "markdown",
   "id": "22c645fc-c7eb-4c69-a7aa-084fc733258f",
   "metadata": {},
   "source": [
    "## Parameters"
   ]
  },
  {
   "cell_type": "code",
   "execution_count": null,
   "id": "978876d0-b3cc-4847-8eab-dc0b89ddbbcd",
   "metadata": {
    "tags": [
     "parameters"
    ]
   },
   "outputs": [],
   "source": [
    "folder_experiment = 'runs/appl_ald_data/plasma/proteinGroups'\n",
    "model_key = 'vae'\n",
    "target = 'kleiner'\n",
    "out_folder = 'diff_analysis'\n",
    "\n",
    "disease_ontology = 5082  # code from https://disease-ontology.org/\n",
    "f_annotations = 'data/single_datasets/ald_plasma_proteinGroups_annotations.csv' # snakemake -> copy to experiment folder\n",
    "annotaitons_gene_col = 'PG.Genes'"
   ]
  },
  {
   "cell_type": "code",
   "execution_count": null,
   "id": "a8016d79-e41a-40a2-bcbf-e11711c33b7d",
   "metadata": {},
   "outputs": [],
   "source": [
    "params = vaep.nb.get_params(args, globals=globals())\n",
    "params"
   ]
  },
  {
   "cell_type": "code",
   "execution_count": null,
   "id": "5ded6640-99aa-4759-a8ef-b67029f22766",
   "metadata": {},
   "outputs": [],
   "source": [
    "args = vaep.nb.Config()\n",
    "args.folder_experiment = Path(params[\"folder_experiment\"])\n",
    "args = vaep.nb.add_default_paths(args, out_root=args.folder_experiment /\n",
    "                                 params[\"out_folder\"]/params[\"target\"]/params[\"model_key\"])\n",
    "args.update_from_dict(params)\n",
    "args"
   ]
  },
  {
   "cell_type": "code",
   "execution_count": null,
   "id": "112dd9f2-6219-452a-9c6a-b1712dabb164",
   "metadata": {},
   "outputs": [],
   "source": [
    "files_in = {'freq_features_observed.csv': args.folder_experiment / 'freq_features_observed.csv',\n",
    "            'diff_analysis_scores.pkl': args.out_folder / f'diff_analysis_scores.pkl'}\n",
    "files_in"
   ]
  },
  {
   "cell_type": "markdown",
   "id": "c74bcc21-3fb2-4b8d-823a-72a3b6b6e847",
   "metadata": {},
   "source": [
    "## Excel file for exports"
   ]
  },
  {
   "cell_type": "code",
   "execution_count": null,
   "id": "12009c54-c45f-4ee0-a9b3-b0e8e5f3cff2",
   "metadata": {},
   "outputs": [],
   "source": [
    "files_out = dict()"
   ]
  },
  {
   "cell_type": "code",
   "execution_count": null,
   "id": "8ef71b04-d4a5-4def-ad63-866d8bba4a1e",
   "metadata": {},
   "outputs": [],
   "source": [
    "writer_args = dict(float_format='%.3f')\n",
    "\n",
    "files_out['diff_analysis_compare_methods.xlsx'] = (args.out_folder /\n",
    "                                                   f'diff_analysis_compare_methods.xlsx')\n",
    "writer = pd.ExcelWriter(files_out['diff_analysis_compare_methods.xlsx'])"
   ]
  },
  {
   "cell_type": "markdown",
   "id": "770d1f76-e86f-4ae3-9d7b-ceef9b9e9a22",
   "metadata": {},
   "source": [
    "# Load scores "
   ]
  },
  {
   "cell_type": "code",
   "execution_count": null,
   "id": "e8bbada7-8b8e-4399-b0d3-b66c40905839",
   "metadata": {},
   "outputs": [],
   "source": [
    "[x for x in args.out_folder.iterdir() if 'scores' in str(x)]"
   ]
  },
  {
   "cell_type": "code",
   "execution_count": null,
   "id": "97221134-5f61-4158-bfc5-ea30077140b8",
   "metadata": {},
   "outputs": [],
   "source": [
    "scores = pd.read_pickle(files_in['diff_analysis_scores.pkl'])\n",
    "scores"
   ]
  },
  {
   "cell_type": "code",
   "execution_count": null,
   "id": "9d636b2a-a911-4973-a240-2ce076944eda",
   "metadata": {},
   "outputs": [],
   "source": [
    "# ToDo: change in library\n",
    "names = {'vae': 'VAE', 'random shifted_imputation': 'RSN'}\n",
    "scores = scores.rename(names, axis=1)\n",
    "scores.head()"
   ]
  },
  {
   "cell_type": "code",
   "execution_count": null,
   "id": "34d243d1-3ab4-40e7-9eb8-f9efc828b82d",
   "metadata": {},
   "outputs": [],
   "source": [
    "models = vaep.nb.Config.from_dict(\n",
    "    vaep.pandas.index_to_dict(scores.columns.levels[0]))\n",
    "vars(models)"
   ]
  },
  {
   "cell_type": "code",
   "execution_count": null,
   "id": "56f2fa67-7490-462c-b852-0430f5460031",
   "metadata": {},
   "outputs": [],
   "source": [
    "assert args.model_key.upper() in models.keys(\n",
    "), f\"Missing model key which was expected: {args.model_key}\""
   ]
  },
  {
   "cell_type": "code",
   "execution_count": null,
   "id": "0fee8f5d-fa52-4369-a1f9-fcfd518ab6bd",
   "metadata": {},
   "outputs": [],
   "source": [
    "scores.describe()"
   ]
  },
  {
   "cell_type": "code",
   "execution_count": null,
   "id": "c6e5a0a6-343b-4f07-8d9d-2cd5cf95ae1f",
   "metadata": {},
   "outputs": [],
   "source": [
    "scores = scores.loc[pd.IndexSlice[:, args.target], :]\n",
    "scores.to_excel(writer, 'scores', **writer_args)\n",
    "scores"
   ]
  },
  {
   "cell_type": "code",
   "execution_count": null,
   "id": "0e45e80a-32d8-4c6c-b0a4-5ce8b7f9e121",
   "metadata": {},
   "outputs": [],
   "source": [
    "scores.describe()"
   ]
  },
  {
   "cell_type": "code",
   "execution_count": null,
   "id": "53bd5597-221c-4d54-abf2-82956db42594",
   "metadata": {},
   "outputs": [],
   "source": [
    "scores.describe(include=['bool', 'O'])"
   ]
  },
  {
   "cell_type": "markdown",
   "id": "bef83742-05e5-473b-892e-dd286cb3a31f",
   "metadata": {},
   "source": [
    "## Load frequencies of observed features"
   ]
  },
  {
   "cell_type": "code",
   "execution_count": null,
   "id": "2a926ba1-0f3b-4089-a349-b6d66128cf37",
   "metadata": {},
   "outputs": [],
   "source": [
    "freq_feat = pd.read_csv(files_in['freq_features_observed.csv'], index_col=0)\n",
    "freq_feat"
   ]
  },
  {
   "cell_type": "markdown",
   "id": "408eacfe-770f-42ff-9057-2a98274e1ae3",
   "metadata": {},
   "source": [
    "# Compare shared features"
   ]
  },
  {
   "cell_type": "code",
   "execution_count": null,
   "id": "5b2dfb0f-195b-4044-a228-2d784ea2a458",
   "metadata": {},
   "outputs": [],
   "source": [
    "scores_common = scores.dropna().reset_index(-1, drop=True)\n",
    "scores_common[('data', 'freq')] = freq_feat\n",
    "scores_common"
   ]
  },
  {
   "cell_type": "code",
   "execution_count": null,
   "id": "80cf4145-070d-457a-bb74-ee64299809e7",
   "metadata": {},
   "outputs": [],
   "source": [
    "def annotate_decision(scores, model, model_column):\n",
    "    return scores[(model_column, 'rejected')].replace({False: f'{model} (no) ', True: f'{model} (yes)'})\n",
    "\n",
    "\n",
    "annotations = None\n",
    "for model, model_column in models.items():\n",
    "    if not annotations is None:\n",
    "        annotations += ' - '\n",
    "        annotations += annotate_decision(scores_common,\n",
    "                                         model=model, model_column=model_column)\n",
    "    else:\n",
    "        annotations = annotate_decision(\n",
    "            scores_common, model=model, model_column=model_column)\n",
    "annotations.name = 'Differential Analysis Comparison'\n",
    "annotations.value_counts()"
   ]
  },
  {
   "cell_type": "code",
   "execution_count": null,
   "id": "cda5ffa4-9a97-4a49-aaba-34e83ef7940a",
   "metadata": {},
   "outputs": [],
   "source": [
    "mask_different = ((scores_common.loc[:, pd.IndexSlice[:, 'rejected']].any(axis=1)) &\n",
    "                  ~(scores_common.loc[:, pd.IndexSlice[:, 'rejected']].all(\n",
    "                      axis=1))\n",
    "                  )\n",
    "\n",
    "scores_common.loc[mask_different]"
   ]
  },
  {
   "cell_type": "code",
   "execution_count": null,
   "id": "b9e2739b-a09a-4113-a3f8-f29d6ed398b7",
   "metadata": {},
   "outputs": [],
   "source": [
    "scores_common.loc[mask_different].to_excel(\n",
    "    writer, 'differences', **writer_args)"
   ]
  },
  {
   "cell_type": "code",
   "execution_count": null,
   "id": "5b2e5341-b054-40c3-b45a-44ae6ca46cfb",
   "metadata": {},
   "outputs": [],
   "source": [
    "var = 'qvalue'\n",
    "to_plot = [scores_common[v][var] for k, v in models.items()]\n",
    "for s, k in zip(to_plot, models.keys()):\n",
    "    s.name = k.replace('_', ' ')\n",
    "to_plot.append(freq_feat.loc[scores_common.index])\n",
    "to_plot.append(annotations)\n",
    "to_plot = pd.concat(to_plot, axis=1)\n",
    "to_plot"
   ]
  },
  {
   "cell_type": "markdown",
   "id": "e715954e-2d62-4cd9-b4b0-063524bca495",
   "metadata": {},
   "source": [
    "## Differences plotted\n",
    "\n",
    "- first only using created annotations"
   ]
  },
  {
   "cell_type": "code",
   "execution_count": null,
   "id": "a20d356d-c397-4440-b70e-9d899aa200fd",
   "metadata": {},
   "outputs": [],
   "source": [
    "figsize = (8, 8)\n",
    "fig, ax = plt.subplots(figsize=figsize)\n",
    "x_col = to_plot.columns[0]\n",
    "y_col = to_plot.columns[1]\n",
    "ax = sns.scatterplot(data=to_plot,\n",
    "                     x=x_col,\n",
    "                     y=y_col,\n",
    "                     hue='Differential Analysis Comparison',\n",
    "                     ax=ax)\n",
    "ax.set_xlabel(f\"qvalue for {x_col}\")\n",
    "ax.set_ylabel(f\"qvalue for {y_col}\")\n",
    "ax.hlines(0.05, 0, 1, color='grey', linestyles='dotted')\n",
    "ax.vlines(0.05, 0, 1, color='grey', linestyles='dotted')\n",
    "sns.move_legend(ax, \"upper right\")\n",
    "files_out[f'diff_analysis_comparision_1_{args.model_key}'] = (args.out_folder /\n",
    "                                                              f'diff_analysis_comparision_1_{args.model_key}')\n",
    "fname = files_out[f'diff_analysis_comparision_1_{args.model_key}']\n",
    "vaep.savefig(fig, name=fname)"
   ]
  },
  {
   "cell_type": "markdown",
   "id": "d8849c76-c5f6-4618-87c0-f2635dc9ac66",
   "metadata": {},
   "source": [
    "- showing how many features were measured (\"observed\")"
   ]
  },
  {
   "cell_type": "code",
   "execution_count": null,
   "id": "1cf258f8-9dcb-40bb-af66-b600f8d413f6",
   "metadata": {},
   "outputs": [],
   "source": [
    "fig, ax = plt.subplots(figsize=figsize)\n",
    "ax = sns.scatterplot(data=to_plot, x=to_plot.columns[0], y=to_plot.columns[1],\n",
    "                     palette='Set2',\n",
    "                     size='frequency', hue='Differential Analysis Comparison')\n",
    "ax.set_xlabel(f\"qvalue for {x_col}\")\n",
    "ax.set_ylabel(f\"qvalue for {y_col}\")\n",
    "ax.hlines(0.05, 0, 1, color='grey', linestyles='dotted')\n",
    "ax.vlines(0.05, 0, 1, color='grey', linestyles='dotted')\n",
    "sns.move_legend(ax, \"upper right\")\n",
    "files_out[f'diff_analysis_comparision_2_{args.model_key}'] = (\n",
    "    args.out_folder / f'diff_analysis_comparision_2_{args.model_key}')\n",
    "vaep.savefig(\n",
    "    fig, name=files_out[f'diff_analysis_comparision_2_{args.model_key}'])"
   ]
  },
  {
   "cell_type": "markdown",
   "id": "1fee3a21-d8b3-40c6-aea2-4774dfe855ca",
   "metadata": {},
   "source": [
    "# Only features contained in model"
   ]
  },
  {
   "cell_type": "code",
   "execution_count": null,
   "id": "c4e23a01-fd37-4496-a518-445a9ef38db1",
   "metadata": {},
   "outputs": [],
   "source": [
    "scores_model_only = scores.reset_index(level=-1, drop=True)\n",
    "scores_model_only = (scores_model_only\n",
    "                     .loc[\n",
    "                         scores_model_only.index.difference(\n",
    "                             scores_common.index),\n",
    "                         args.model_key.upper()]\n",
    "                     .sort_values(by='qvalue', ascending=True)\n",
    "                     .join(freq_feat)\n",
    "                     )\n",
    "scores_model_only"
   ]
  },
  {
   "cell_type": "code",
   "execution_count": null,
   "id": "f668bef4-e2b9-46fb-828f-e7c6a0e23627",
   "metadata": {},
   "outputs": [],
   "source": [
    "scores_model_only.rejected.value_counts()"
   ]
  },
  {
   "cell_type": "code",
   "execution_count": null,
   "id": "419ec0b5-24c4-4366-8a03-48fec3aeb29b",
   "metadata": {},
   "outputs": [],
   "source": [
    "scores_model_only.to_excel(writer, 'only_model', **writer_args)"
   ]
  },
  {
   "cell_type": "code",
   "execution_count": null,
   "id": "814b8f38-81ef-4546-9182-f65b124e8858",
   "metadata": {},
   "outputs": [],
   "source": [
    "scores_model_only_rejected = scores_model_only.loc[scores_model_only.rejected]\n",
    "scores_model_only_rejected.to_excel(\n",
    "    writer, 'only_model_rejected', **writer_args)"
   ]
  },
  {
   "cell_type": "markdown",
   "id": "6868984c-1ebf-4183-bebe-35a48b92e479",
   "metadata": {
    "tags": []
   },
   "source": [
    "# Feature lookup"
   ]
  },
  {
   "cell_type": "code",
   "execution_count": null,
   "id": "d93a9242-0ef4-4fc7-bd98-226a93639f58",
   "metadata": {},
   "outputs": [],
   "source": [
    "data = vaep.databases.diseases.get_disease_association(\n",
    "    doid=args.disease_ontology, limit=10000)\n",
    "data = pd.DataFrame.from_dict(data, orient='index').rename_axis('ENSP', axis=0)\n",
    "data = data.rename(columns={'name': args.annotaitons_gene_col}).reset_index(\n",
    ").set_index(args.annotaitons_gene_col)\n",
    "data"
   ]
  },
  {
   "cell_type": "markdown",
   "id": "efe22443-2613-46ad-83c2-41048e13dd57",
   "metadata": {},
   "source": [
    "## Shared features"
   ]
  },
  {
   "cell_type": "code",
   "execution_count": null,
   "id": "9ca6f7dc-70d2-4c02-afed-9ddbdb140d37",
   "metadata": {},
   "outputs": [],
   "source": [
    "feat_name = scores_common.index.name\n",
    "annotations = pd.read_csv(args.f_annotations, usecols=[\n",
    "                          feat_name, args.annotaitons_gene_col])\n",
    "annotations = annotations.drop_duplicates().set_index(args.annotaitons_gene_col)\n",
    "annotations"
   ]
  },
  {
   "cell_type": "code",
   "execution_count": null,
   "id": "d9e76def-b48a-458d-a90b-765e6e70f7a4",
   "metadata": {},
   "outputs": [],
   "source": [
    "disease_associations_all = data.join(\n",
    "    annotations).dropna().reset_index().set_index(feat_name)\n",
    "disease_associations_all"
   ]
  },
  {
   "cell_type": "markdown",
   "id": "217972a3-ba4a-4f28-ab8f-25dc0f5e9ede",
   "metadata": {},
   "source": [
    "## only by model"
   ]
  },
  {
   "cell_type": "code",
   "execution_count": null,
   "id": "8e9d6944-87ba-4c41-af14-fb5ed93262f0",
   "metadata": {},
   "outputs": [],
   "source": [
    "idx = disease_associations_all.index.intersection(scores_model_only.index)\n",
    "disease_assocications_new = disease_associations_all.loc[idx].sort_values(\n",
    "    'score', ascending=False)\n",
    "disease_assocications_new.head(20)"
   ]
  },
  {
   "cell_type": "code",
   "execution_count": null,
   "id": "ceefc483-b889-4bab-b207-c8d5fd97fa4a",
   "metadata": {},
   "outputs": [],
   "source": [
    "mask = disease_assocications_new.loc[idx, 'score'] >= 2.0\n",
    "disease_assocications_new.loc[idx].loc[mask]"
   ]
  },
  {
   "cell_type": "markdown",
   "id": "f85eede2-7b61-4285-ba8c-745f77f6ab22",
   "metadata": {},
   "source": [
    "## Only by model which were significant"
   ]
  },
  {
   "cell_type": "code",
   "execution_count": null,
   "id": "4644759b-8cc2-4f99-a16c-16419cfb915c",
   "metadata": {},
   "outputs": [],
   "source": [
    "idx = disease_associations_all.index.intersection(\n",
    "    scores_model_only_rejected.index)\n",
    "disease_assocications_new_rejected = disease_associations_all.loc[idx].sort_values(\n",
    "    'score', ascending=False)\n",
    "disease_assocications_new_rejected.head(20)"
   ]
  },
  {
   "cell_type": "code",
   "execution_count": null,
   "id": "365d8641-97a8-464f-b69b-270af9ae6e2d",
   "metadata": {},
   "outputs": [],
   "source": [
    "mask = disease_assocications_new_rejected.loc[idx, 'score'] >= 2.0\n",
    "disease_assocications_new_rejected.loc[idx].loc[mask]"
   ]
  },
  {
   "cell_type": "markdown",
   "id": "9d72708d-ad27-435b-b672-7dfe35283601",
   "metadata": {},
   "source": [
    "## Write to excel"
   ]
  },
  {
   "cell_type": "code",
   "execution_count": null,
   "id": "91e7fbb7-69fd-4b4c-9bc2-40e8dd1907b3",
   "metadata": {},
   "outputs": [],
   "source": [
    "disease_associations_all.to_excel(\n",
    "    writer, sheet_name='disease_assoc_all', **writer_args)\n",
    "disease_assocications_new.to_excel(\n",
    "    writer, sheet_name='disease_assoc_new', **writer_args)\n",
    "disease_assocications_new_rejected.to_excel(\n",
    "    writer, sheet_name='disease_assoc_new_rejected', **writer_args)"
   ]
  },
  {
   "cell_type": "markdown",
   "id": "52a42028-7e2d-47d5-be02-52f7ff1f3665",
   "metadata": {},
   "source": [
    "# Outputs"
   ]
  },
  {
   "cell_type": "code",
   "execution_count": null,
   "id": "7f3a7433-3bf1-4168-8f16-eb6d415ef17f",
   "metadata": {},
   "outputs": [],
   "source": [
    "files_out"
   ]
  }
 ],
 "metadata": {
  "kernelspec": {
   "display_name": "Python 3",
   "language": "python",
   "name": "python3"
  },
  "language_info": {
   "codemirror_mode": {
    "name": "ipython",
    "version": 3
   },
   "file_extension": ".py",
   "mimetype": "text/x-python",
   "name": "python",
   "nbconvert_exporter": "python",
   "pygments_lexer": "ipython3",
   "version": "3.8.13"
  }
 },
 "nbformat": 4,
 "nbformat_minor": 5
}
