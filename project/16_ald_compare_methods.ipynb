{
 "cells": [
  {
   "cell_type": "markdown",
   "id": "9acfeaca-5f8c-42f3-9a8e-83ed737eb35c",
   "metadata": {},
   "source": [
    "# Compare outcomes from differential analysis based on different imputation methods\n",
    "\n",
    "- load scores based on `16_ald_diff_analysis`"
   ]
  },
  {
   "cell_type": "code",
   "execution_count": null,
   "id": "eec6f931-c04d-428c-b2b1-0424c50e6cd2",
   "metadata": {},
   "outputs": [],
   "source": [
    "from pathlib import Path\n",
    "\n",
    "import pandas as pd\n",
    "import seaborn as sns\n",
    "\n",
    "import vaep\n",
    "logger = vaep.logging.setup_nb_logger()"
   ]
  },
  {
   "cell_type": "code",
   "execution_count": null,
   "id": "f4bf65da-0569-4a21-ba20-9cae7d3679e7",
   "metadata": {},
   "outputs": [],
   "source": [
    "# catch passed parameters\n",
    "args = None\n",
    "args = dict(globals()).keys()"
   ]
  },
  {
   "cell_type": "markdown",
   "id": "22c645fc-c7eb-4c69-a7aa-084fc733258f",
   "metadata": {},
   "source": [
    "## Parameters"
   ]
  },
  {
   "cell_type": "code",
   "execution_count": null,
   "id": "978876d0-b3cc-4847-8eab-dc0b89ddbbcd",
   "metadata": {},
   "outputs": [],
   "source": [
    "folder_experiment = \"runs/appl_ald_data/proteinGroups\"\n",
    "model_key = 'vae'\n",
    "target = 'kleiner'\n",
    "out_folder='diff_analysis'"
   ]
  },
  {
   "cell_type": "code",
   "execution_count": null,
   "id": "a8016d79-e41a-40a2-bcbf-e11711c33b7d",
   "metadata": {},
   "outputs": [],
   "source": [
    "params = vaep.nb.get_params(args, globals=globals())\n",
    "params"
   ]
  },
  {
   "cell_type": "code",
   "execution_count": null,
   "id": "5ded6640-99aa-4759-a8ef-b67029f22766",
   "metadata": {},
   "outputs": [],
   "source": [
    "args = vaep.nb.Config()\n",
    "args.folder_experiment = Path(params[\"folder_experiment\"])\n",
    "args = vaep.nb.add_default_paths(args, out_root=args.folder_experiment/params[\"out_folder\"]/params[\"target\"]/params[\"model_key\"])\n",
    "args.update_from_dict(params)\n",
    "args"
   ]
  },
  {
   "cell_type": "markdown",
   "id": "770d1f76-e86f-4ae3-9d7b-ceef9b9e9a22",
   "metadata": {},
   "source": [
    "# Load scores "
   ]
  },
  {
   "cell_type": "code",
   "execution_count": null,
   "id": "e8bbada7-8b8e-4399-b0d3-b66c40905839",
   "metadata": {},
   "outputs": [],
   "source": [
    "[x for x in args.out_folder.iterdir() if 'scores' in str(x)]"
   ]
  },
  {
   "cell_type": "code",
   "execution_count": null,
   "id": "aa415905-ab96-40a4-a494-9bf46adf552a",
   "metadata": {},
   "outputs": [],
   "source": [
    "fname = args.out_folder / f'diff_analysis_scores.pkl'\n",
    "fname"
   ]
  },
  {
   "cell_type": "code",
   "execution_count": null,
   "id": "97221134-5f61-4158-bfc5-ea30077140b8",
   "metadata": {},
   "outputs": [],
   "source": [
    "scores = pd.read_pickle(fname)\n",
    "scores"
   ]
  },
  {
   "cell_type": "code",
   "execution_count": null,
   "id": "34d243d1-3ab4-40e7-9eb8-f9efc828b82d",
   "metadata": {},
   "outputs": [],
   "source": [
    "import omegaconf\n",
    "models = vaep.nb.Config.from_dict(vaep.pandas.index_to_dict(scores.columns.levels[0]))\n",
    "vars(models)"
   ]
  },
  {
   "cell_type": "code",
   "execution_count": null,
   "id": "56f2fa67-7490-462c-b852-0430f5460031",
   "metadata": {},
   "outputs": [],
   "source": [
    "assert args.model_key in models.keys(), f\"Missing model key which was expected: {args.model_key}\""
   ]
  },
  {
   "cell_type": "code",
   "execution_count": null,
   "id": "0fee8f5d-fa52-4369-a1f9-fcfd518ab6bd",
   "metadata": {},
   "outputs": [],
   "source": [
    "scores.describe()"
   ]
  },
  {
   "cell_type": "code",
   "execution_count": null,
   "id": "c6e5a0a6-343b-4f07-8d9d-2cd5cf95ae1f",
   "metadata": {},
   "outputs": [],
   "source": [
    "scores = scores.loc[pd.IndexSlice[:, args.target], :]\n",
    "scores"
   ]
  },
  {
   "cell_type": "code",
   "execution_count": null,
   "id": "0e45e80a-32d8-4c6c-b0a4-5ce8b7f9e121",
   "metadata": {},
   "outputs": [],
   "source": [
    "scores.describe()"
   ]
  },
  {
   "cell_type": "markdown",
   "id": "bef83742-05e5-473b-892e-dd286cb3a31f",
   "metadata": {},
   "source": [
    "## Load frequencies of observed features"
   ]
  },
  {
   "cell_type": "code",
   "execution_count": null,
   "id": "2a926ba1-0f3b-4089-a349-b6d66128cf37",
   "metadata": {},
   "outputs": [],
   "source": [
    "fname = args.folder_experiment / 'freq_features_observed.csv'\n",
    "freq_feat = pd.read_csv(fname, index_col=0)\n",
    "freq_feat"
   ]
  },
  {
   "cell_type": "markdown",
   "id": "408eacfe-770f-42ff-9057-2a98274e1ae3",
   "metadata": {},
   "source": [
    "# Compare shared features"
   ]
  },
  {
   "cell_type": "code",
   "execution_count": null,
   "id": "5b2dfb0f-195b-4044-a228-2d784ea2a458",
   "metadata": {},
   "outputs": [],
   "source": [
    "scores_common = scores.dropna().reset_index(-1, drop=True)\n",
    "scores_common"
   ]
  },
  {
   "cell_type": "code",
   "execution_count": null,
   "id": "80cf4145-070d-457a-bb74-ee64299809e7",
   "metadata": {},
   "outputs": [],
   "source": [
    "def annotate_decision(scores, model):\n",
    "    return scores[(model, 'rejected')].replace({False: f'{model} ->  no', True: f'{model} -> yes'})\n",
    "\n",
    "annotations = None\n",
    "for model, model_column in models.items():\n",
    "    if not annotations is None:\n",
    "        annotations += ' - '\n",
    "        annotations += scores_common[(model_column, 'rejected')].replace({False: f'{model} ->  no', True: f'{model} -> yes'})\n",
    "    else:\n",
    "        annotations= scores_common[(model_column, 'rejected')].replace({False: f'{model} ->  no', True: f'{model} -> yes'})\n",
    "annotations.name = 'Differential Analysis Comparison'\n",
    "annotations.value_counts()"
   ]
  },
  {
   "cell_type": "code",
   "execution_count": null,
   "id": "cda5ffa4-9a97-4a49-aaba-34e83ef7940a",
   "metadata": {},
   "outputs": [],
   "source": [
    "mask_different = ( (scores_common.loc[:, pd.IndexSlice[:, 'rejected']].any(axis=1)) & \n",
    " ~(scores_common.loc[:, pd.IndexSlice[:, 'rejected']].all(axis=1))\n",
    ")\n",
    "\n",
    "scores_common.loc[mask_different]"
   ]
  },
  {
   "cell_type": "code",
   "execution_count": null,
   "id": "b9e2739b-a09a-4113-a3f8-f29d6ed398b7",
   "metadata": {},
   "outputs": [],
   "source": [
    "fname = args.out_folder / f'diff_analysis_differences.xlsx'\n",
    "scores_common.loc[mask_different].to_excel(fname)\n",
    "fname"
   ]
  },
  {
   "cell_type": "code",
   "execution_count": null,
   "id": "5b2e5341-b054-40c3-b45a-44ae6ca46cfb",
   "metadata": {},
   "outputs": [],
   "source": [
    "var = 'qvalue'\n",
    "to_plot = [scores_common[v][var] for k,v in models.items()]\n",
    "for s, k in zip(to_plot, models.keys()): s.name = k.replace('_', ' ') \n",
    "to_plot.append(freq_feat.loc[scores_common.index])\n",
    "to_plot.append(annotations)\n",
    "to_plot = pd.concat(to_plot, axis=1)\n",
    "to_plot"
   ]
  },
  {
   "cell_type": "markdown",
   "id": "e715954e-2d62-4cd9-b4b0-063524bca495",
   "metadata": {},
   "source": [
    "## Differences plotted\n",
    "\n",
    "- first only using created annotations"
   ]
  },
  {
   "cell_type": "code",
   "execution_count": null,
   "id": "a20d356d-c397-4440-b70e-9d899aa200fd",
   "metadata": {},
   "outputs": [],
   "source": [
    "ax = sns.scatterplot(data=to_plot, x=to_plot.columns[0], y=to_plot.columns[1], hue='Differential Analysis Comparison')\n",
    "fname = args.out_folder / f'diff_analysis_comparision_1_{args.model_key}'\n",
    "fig = ax.get_figure()\n",
    "vaep.savefig(fig, name = fname)"
   ]
  },
  {
   "cell_type": "markdown",
   "id": "d8849c76-c5f6-4618-87c0-f2635dc9ac66",
   "metadata": {},
   "source": [
    "- showing how many features were measured (\"observed\")"
   ]
  },
  {
   "cell_type": "code",
   "execution_count": null,
   "id": "1cf258f8-9dcb-40bb-af66-b600f8d413f6",
   "metadata": {},
   "outputs": [],
   "source": [
    "ax = sns.scatterplot(data=to_plot, x=to_plot.columns[0], y=to_plot.columns[1],  size='frequency', hue='Differential Analysis Comparison')\n",
    "fig = ax.get_figure()\n",
    "fname = args.out_folder / f'diff_analysis_comparision_2_{args.model_key}'\n",
    "vaep.savefig(fig, name=fname)"
   ]
  },
  {
   "cell_type": "markdown",
   "id": "1fee3a21-d8b3-40c6-aea2-4774dfe855ca",
   "metadata": {},
   "source": [
    "# Only features contained in model"
   ]
  },
  {
   "cell_type": "code",
   "execution_count": null,
   "id": "c4e23a01-fd37-4496-a518-445a9ef38db1",
   "metadata": {},
   "outputs": [],
   "source": [
    "scores_model_only = scores.reset_index(level=-1, drop=True)\n",
    "scores_model_only = (scores_model_only\n",
    "                     .loc[\n",
    "                         scores_model_only.index.difference(scores_common.index),\n",
    "                         args.model_key]\n",
    "                     .sort_values(by='qvalue', ascending=True)\n",
    "                     .join(freq_feat)\n",
    "                     )\n",
    "scores_model_only"
   ]
  },
  {
   "cell_type": "code",
   "execution_count": null,
   "id": "f668bef4-e2b9-46fb-828f-e7c6a0e23627",
   "metadata": {},
   "outputs": [],
   "source": [
    "scores_model_only.rejected.value_counts()"
   ]
  },
  {
   "cell_type": "code",
   "execution_count": null,
   "id": "419ec0b5-24c4-4366-8a03-48fec3aeb29b",
   "metadata": {},
   "outputs": [],
   "source": [
    "fname = args.out_folder / 'diff_analysis_only_model.xlsx'\n",
    "scores_model_only.to_excel(fname)\n",
    "fname"
   ]
  },
  {
   "cell_type": "code",
   "execution_count": null,
   "id": "dbfbf53c-5b41-45ef-b332-bdc65ea39d14",
   "metadata": {},
   "outputs": [],
   "source": [
    "from IPython.display import IFrame\n",
    "display(IFrame('https://www.uniprot.org/', width=900,height=500))"
   ]
  },
  {
   "cell_type": "code",
   "execution_count": null,
   "id": "d83499e9-4b17-4ad4-94d6-adac1caab83a",
   "metadata": {},
   "outputs": [],
   "source": [
    "%%html\n",
    "<iframe \n",
    "  style=\"transform-origin: 0px 0px 0px; transform: scale(1.5); width: 600px; height: 600px;\" \n",
    "  src='https://diseases.jensenlab.org/Search'\n",
    "  name=\"iFrame\"\n",
    "  scrolling=\"no\">\n",
    "</iframe>"
   ]
  }
 ],
 "metadata": {
  "kernelspec": {
   "display_name": "Python 3",
   "language": "python",
   "name": "python3"
  },
  "language_info": {
   "codemirror_mode": {
    "name": "ipython",
    "version": 3
   },
   "file_extension": ".py",
   "mimetype": "text/x-python",
   "name": "python",
   "nbconvert_exporter": "python",
   "pygments_lexer": "ipython3",
   "version": "3.8.13"
  }
 },
 "nbformat": 4,
 "nbformat_minor": 5
}
