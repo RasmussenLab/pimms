{
 "cells": [
  {
   "cell_type": "markdown",
   "source": [
    "# Peptides"
   ],
   "metadata": {
    "Collapsed": "false"
   }
  },
  {
   "cell_type": "code",
   "execution_count": null,
   "source": [
    "import os\r\n",
    "from src import config\r\n",
    "from src import analyzers"
   ],
   "outputs": [],
   "metadata": {
    "Collapsed": "false"
   }
  },
  {
   "cell_type": "code",
   "execution_count": null,
   "source": [
    "import numpy as np\r\n",
    "import pandas as pd\r\n",
    "import seaborn as sns\r\n",
    "import matplotlib.pyplot as plt\r\n",
    "\r\n",
    "from sklearn import preprocessing\r\n",
    "from sklearn.decomposition import PCA"
   ],
   "outputs": [],
   "metadata": {
    "Collapsed": "false"
   }
  },
  {
   "cell_type": "code",
   "execution_count": null,
   "source": [
    "pd.options.display.max_columns = 100\r\n",
    "pd.options.display.min_rows = 30"
   ],
   "outputs": [],
   "metadata": {
    "Collapsed": "false"
   }
  },
  {
   "cell_type": "markdown",
   "source": [
    "Data file and other configurations:\r\n",
    "\r\n",
    "- [ ] file reader for peptide intensities"
   ],
   "metadata": {}
  },
  {
   "cell_type": "code",
   "execution_count": null,
   "source": [
    "FN_PEPTIDE_INTENSITIES = config.FOLDER_DATA / 'df_intensities_N07813_M01000'\r\n",
    "\r\n",
    "analysis = analyzers.AnalyzePeptides(FN_PEPTIDE_INTENSITIES)\r\n",
    "peptides = analysis.df"
   ],
   "outputs": [],
   "metadata": {}
  },
  {
   "cell_type": "code",
   "execution_count": null,
   "source": [
    "analysis.df.iloc[:10, :10]"
   ],
   "outputs": [],
   "metadata": {}
  },
  {
   "cell_type": "code",
   "execution_count": null,
   "source": [
    "X = analysis.df\r\n",
    "INDEX_NAME = 'Sample ID'\r\n",
    "X.index.name = INDEX_NAME"
   ],
   "outputs": [],
   "metadata": {
    "Collapsed": "false"
   }
  },
  {
   "cell_type": "code",
   "execution_count": null,
   "source": [
    "N_MIN_OBS = 10\r\n",
    "mask_min_obsevation = X.notna().sum() >= N_MIN_OBS\r\n",
    "mask_min_obsevation.sum()"
   ],
   "outputs": [],
   "metadata": {
    "Collapsed": "false"
   }
  },
  {
   "cell_type": "markdown",
   "source": [
    "## Cleaning step\r\n",
    "\r\n",
    "- remove fractionated samples (need to be re-run and added to the analysis)"
   ],
   "metadata": {}
  },
  {
   "cell_type": "code",
   "execution_count": null,
   "source": [
    "queries = set()\r\n",
    "\r\n",
    "def find_indices_containing_query(query):\r\n",
    "    mask = X.index.str.contains(query)\r\n",
    "    X_query = X.loc[mask].sort_index()\r\n",
    "    queries.add(query)\r\n",
    "    return X_query"
   ],
   "outputs": [],
   "metadata": {}
  },
  {
   "cell_type": "code",
   "execution_count": null,
   "source": [
    "X_frac = find_indices_containing_query('[Ff]rac')\r\n",
    "X_frac.index"
   ],
   "outputs": [],
   "metadata": {}
  },
  {
   "cell_type": "code",
   "execution_count": null,
   "source": [
    "def get_unique_stub(X:pd.Index):\r\n",
    "    # X_frac_unique = sorted(list(set())) # matches too much\r\n",
    "    ret = X.str.split('frac').str[0].str.rsplit('_', n=1).str[0]\r\n",
    "    return sorted(list(set(ret)))\r\n",
    "\r\n",
    "X_frac_unique = get_unique_stub(X_frac.index)"
   ],
   "outputs": [],
   "metadata": {}
  },
  {
   "cell_type": "code",
   "execution_count": null,
   "source": [
    "from functools import partial\r\n",
    "import ipywidgets as widgets\r\n",
    "\r\n",
    "def show_fractions(stub:str, df):\r\n",
    "    subset = df[df.index.str.contains(stub)]\r\n",
    "    display(subset)\r\n",
    "    display(subset.notna().sum(axis=1))\r\n",
    "\r\n",
    "w_data = widgets.Dropdown(options=X_frac_unique, index=0)\r\n",
    "    \r\n",
    "# show_fractions(stub=X_frac_unique[2], df=X_frac)\r\n",
    "\r\n",
    "show_fractions = partial(show_fractions, df=X_frac)\r\n",
    "out_sel = widgets.interactive_output(show_fractions, {'stub': w_data})\r\n",
    "widgets.VBox([w_data, out_sel])"
   ],
   "outputs": [],
   "metadata": {}
  },
  {
   "cell_type": "markdown",
   "source": [
    "- check for file names with `exp`. Some seem to be fractionated samples"
   ],
   "metadata": {}
  },
  {
   "cell_type": "code",
   "execution_count": null,
   "source": [
    "X_exp = find_indices_containing_query('_exp\\d_')\r\n",
    "X_exp.index"
   ],
   "outputs": [],
   "metadata": {}
  },
  {
   "cell_type": "code",
   "execution_count": null,
   "source": [
    "assert find_indices_containing_query('[gG][pP][fF]').empty"
   ],
   "outputs": [],
   "metadata": {}
  },
  {
   "cell_type": "code",
   "execution_count": null,
   "source": [
    "find_indices_containing_query('[cC][vV]').index"
   ],
   "outputs": [],
   "metadata": {}
  },
  {
   "cell_type": "markdown",
   "source": [
    "remove singe fraction samples (need to be quantified as one)"
   ],
   "metadata": {}
  },
  {
   "cell_type": "code",
   "execution_count": null,
   "source": [
    "X.drop(labels=X_frac.index, inplace=True)\r\n",
    "X.drop(labels=X_exp.index, inplace=True)"
   ],
   "outputs": [],
   "metadata": {}
  },
  {
   "cell_type": "code",
   "execution_count": null,
   "source": [
    "# should be part of analysis\r\n",
    "mask_less_than_500 = X.notna().sum(axis=1) < 500\r\n",
    "print(X.loc[mask_less_than_500].sort_index().notna().sum(axis=1).to_string()) #'samples_potentially_fractionated.txt'"
   ],
   "outputs": [],
   "metadata": {}
  },
  {
   "cell_type": "code",
   "execution_count": null,
   "source": [
    "['concat', 'HpH', 'ingel']"
   ],
   "outputs": [],
   "metadata": {}
  },
  {
   "cell_type": "markdown",
   "source": [
    "## Peptitome is spares"
   ],
   "metadata": {
    "Collapsed": "false"
   }
  },
  {
   "cell_type": "code",
   "execution_count": null,
   "source": [
    "def get_sorted_not_missing(X:pd.DataFrame):\r\n",
    "    \"\"\"Return a Dataframe with missing values. Order columns by degree of completness \r\n",
    "    over columns from variables least to most shared among observations.\"\"\"\r\n",
    "    X = X.notna().astype(int)\r\n",
    "    return X[X.mean().sort_values().index]\r\n"
   ],
   "outputs": [],
   "metadata": {
    "Collapsed": "false"
   }
  },
  {
   "cell_type": "code",
   "execution_count": null,
   "source": [
    "%time not_missing = get_sorted_not_missing(X)\r\n",
    "not_missing.iloc[:,-10:].describe()"
   ],
   "outputs": [],
   "metadata": {
    "Collapsed": "false",
    "tags": []
   }
  },
  {
   "cell_type": "code",
   "execution_count": null,
   "source": [
    "not_missing.iloc[:10,-10:]"
   ],
   "outputs": [],
   "metadata": {
    "Collapsed": "false"
   }
  },
  {
   "cell_type": "code",
   "execution_count": null,
   "source": [
    "grid_kws = {\"width_ratios\": (.9, .05), \"hspace\": 0.5}\r\n",
    "N_MOST_COMMON_PEPTIDES = 300\r\n",
    "data_to_visualize = not_missing.iloc[:, -N_MOST_COMMON_PEPTIDES:]\r\n",
    "print(f\"Look at missingness pattern of {N_MOST_COMMON_PEPTIDES} most common peptides across sample.\\n\"\r\n",
    "      f\"Data matrix dimension used for printing: { data_to_visualize.shape}\"  )\r\n",
    "\r\n",
    "fig_heatmap_missing, (axes_heatmap_missing, cbar_ax) = plt.subplots(1, 2, gridspec_kw=grid_kws, figsize=(12,8))\r\n",
    "axes_heatmap_missing = sns.heatmap(data_to_visualize, \r\n",
    "                                   ax=axes_heatmap_missing,\r\n",
    "                                   cbar_ax=cbar_ax,\r\n",
    "                                   cbar_kws={\"orientation\": \"vertical\"})\r\n"
   ],
   "outputs": [],
   "metadata": {
    "Collapsed": "false",
    "tags": []
   }
  },
  {
   "cell_type": "markdown",
   "source": [
    "White patches indicates that a peptide has been measured, black means it was not measured. Some samples (rows) have few of the most common peptides. This suggests to set a minimum of total peptides in a sample, which is common pratice. \r\n",
    "\r\n",
    "> An algorithm should work with the most common peptides and base it's inference capabilities after training on these."
   ],
   "metadata": {}
  },
  {
   "cell_type": "code",
   "execution_count": null,
   "source": [
    "# # This currently crashes if you want to have a pdf\n",
    "from datetime import datetime\n",
    "datetime_now = datetime.now()\n",
    "\n",
    "from vaep.io_images import _savefig\n",
    "_savefig(fig_heatmap_missing, f'peptides_heatmap_missing_{datetime_now:%y%m%d}', folder=config.FIGUREFOLDER, pdf=False)"
   ],
   "outputs": [],
   "metadata": {
    "Collapsed": "false",
    "tags": []
   }
  },
  {
   "cell_type": "markdown",
   "source": [
    "## Sample stats"
   ],
   "metadata": {
    "Collapsed": "false"
   }
  },
  {
   "cell_type": "code",
   "execution_count": null,
   "source": [
    "TYPE = 'peptides'\n",
    "COL_NO_MISSING, COL_NO_IDENTIFIED = f'no_missing_{TYPE}', f'no_identified_{TYPE}'\n",
    "COL_PROP_SAMPLES = 'prop_samples'\n",
    "\n",
    "def compute_stats_missing(X):\n",
    "    \"\"\"Dataset of repeated samples indicating if an observation\n",
    "    has the variables observed or missing x\\in\\{0,1\\}\"\"\"\n",
    "    sample_stats = X.index.to_frame(index=False).reset_index()\n",
    "    sample_stats.columns = ['SampleID_int', 'INDEX']\n",
    "    sample_stats.set_index('INDEX', inplace=True)\n",
    "    \n",
    "    sample_stats[COL_NO_IDENTIFIED] = X.sum(axis=1)\n",
    "    sample_stats[COL_NO_MISSING] = (X == 0).sum(axis=1)\n",
    "\n",
    "    assert all(sample_stats[[COL_NO_IDENTIFIED, COL_NO_MISSING]].sum(axis=1) == X.shape[1])\n",
    "    sample_stats = sample_stats.sort_values(by=COL_NO_IDENTIFIED, ascending=False)\n",
    "    sample_stats[COL_PROP_SAMPLES] = np.array(range(1,len(sample_stats)+1)) / len(sample_stats)\n",
    "    return sample_stats\n",
    "\n",
    "sample_stats = compute_stats_missing(not_missing)"
   ],
   "outputs": [],
   "metadata": {
    "Collapsed": "false"
   }
  },
  {
   "cell_type": "code",
   "execution_count": null,
   "source": [
    "sample_stats"
   ],
   "outputs": [],
   "metadata": {
    "Collapsed": "false"
   }
  },
  {
   "cell_type": "code",
   "execution_count": null,
   "source": [
    "fig_ident = sns.relplot(x='SampleID_int', y=COL_NO_IDENTIFIED, data=sample_stats) \n",
    "fig_ident.set_axis_labels('Sample ID', f'Frequency of identified {TYPE}')\n",
    "fig_ident.fig.suptitle(f'Frequency of identified {TYPE} by sample id', y=1.03)\n",
    "_savefig(fig_ident, f'identified_{TYPE}_by_sample', folder=config.FIGUREFOLDER)\n",
    "\n",
    "fig_ident_dist = sns.relplot(x=COL_PROP_SAMPLES, y=COL_NO_IDENTIFIED, data=sample_stats)\n",
    "fig_ident_dist.set_axis_labels('Proportion of samples (sorted by frequency)', f'Frequency of identified {TYPE}')\n",
    "fig_ident_dist.fig.suptitle(f'Frequency of identified {TYPE} groups by sample id', y=1.03)\n",
    "_savefig(fig_ident_dist, f'identified_{TYPE}_ordered', folder=config.FIGUREFOLDER)"
   ],
   "outputs": [],
   "metadata": {
    "Collapsed": "false"
   }
  },
  {
   "cell_type": "code",
   "execution_count": null,
   "source": [
    "COL_NO_MISSING_PROP = COL_NO_MISSING + '_PROP'\n",
    "sample_stats[COL_NO_MISSING_PROP]= sample_stats[COL_NO_MISSING] / float(X.shape[1])\n",
    "\n",
    "# from ggplot import *\n",
    "# ggplot(aes(x='nan_proc'), data = nonnan) + geom_histogram(binwidth = 0.005) #+ ylim(0,0.025)\n",
    "sns.set(style=\"darkgrid\")\n",
    "g = sns.relplot(x='prop_samples', y=COL_NO_MISSING_PROP, data=sample_stats)\n",
    "plt.subplots_adjust(top=0.9)\n",
    "g.set_axis_labels(\"Proportion of samples (sorted by frequency)\", \"proportion missing\")\n",
    "g.fig.suptitle(f'Proportion of missing {TYPE} ordered')\n",
    "_savefig(g, \"proportion_proteins_missing\", folder=config.FIGUREFOLDER)"
   ],
   "outputs": [],
   "metadata": {
    "Collapsed": "false"
   }
  },
  {
   "cell_type": "markdown",
   "source": [
    "## Look at sequences"
   ],
   "metadata": {
    "Collapsed": "false"
   }
  },
  {
   "cell_type": "code",
   "execution_count": null,
   "source": [
    "class SequenceAnalyser():\n",
    "    \n",
    "    def __init__(self, sequences : pd.Series):\n",
    "        if not isinstance(sequences, pd.Series):\n",
    "            raise ValueError(\"Please provide a pandas.Series, not {}\".format(type(sequences)))\n",
    "        self.sequences = sequences\n",
    "    \n",
    "    def calc_counts(self,n_characters):\n",
    "        return self.sequences.str[:n_characters].value_counts()\n",
    "    \n",
    "    def length(self):\n",
    "        return self.sequences.str.len().sort_values()\n",
    "    "
   ],
   "outputs": [],
   "metadata": {
    "Collapsed": "false"
   }
  },
  {
   "cell_type": "code",
   "execution_count": null,
   "source": [
    "sequences = SequenceAnalyser(analysis.df.columns.to_series())\n",
    "sequences.length()"
   ],
   "outputs": [],
   "metadata": {
    "Collapsed": "false"
   }
  },
  {
   "cell_type": "code",
   "execution_count": null,
   "source": [
    "import ipywidgets as w\n",
    "w.interact(sequences.calc_counts, n_characters=w.IntSlider(value=4, min=1, max=55))"
   ],
   "outputs": [],
   "metadata": {
    "Collapsed": "false"
   }
  },
  {
   "cell_type": "code",
   "execution_count": null,
   "source": [
    "sequences_p4 = sequences.calc_counts(4)\n",
    "display(sequences_p4.head())\n",
    "sequences_p4.loc[sequences_p4.isin(('CON_','REV_'))].sort_index()"
   ],
   "outputs": [],
   "metadata": {
    "Collapsed": "false"
   }
  },
  {
   "cell_type": "markdown",
   "source": [
    "What to do when \n",
    "\n",
    "\n",
    "```\n",
    "AAAAAAAAAAGAAGGRGSGPGR\n",
    "AAAAAAAAAAGAAGGRGSGPGRR\n",
    "\n",
    "AAAANSGSSLPLFDCPTWAGKPPPGLHLDVVK\n",
    "AAAANSGSSLPLFDCPTWAGKPPPGLHLDVVKGDK\n",
    "```\n",
    "\n"
   ],
   "metadata": {
    "Collapsed": "false"
   }
  },
  {
   "cell_type": "markdown",
   "source": [
    "## Select Proteins"
   ],
   "metadata": {
    "Collapsed": "false"
   }
  },
  {
   "cell_type": "markdown",
   "source": [
    "### Minumum required sample quality\r\n",
    "First define the minum requirement of a sample to be kept in "
   ],
   "metadata": {
    "Collapsed": "false"
   }
  },
  {
   "cell_type": "code",
   "execution_count": null,
   "source": [
    "import ipywidgets as w\r\n",
    "MIN_DEPTH_SAMPLE = 1500\r\n",
    "w_min_depth_sample = w.IntSlider(value=MIN_DEPTH_SAMPLE, min=0, max=max(sample_stats[COL_NO_IDENTIFIED]))\r\n",
    "print(f'Minimum {TYPE} per sample observed:')\r\n",
    "w_min_depth_sample"
   ],
   "outputs": [],
   "metadata": {
    "Collapsed": "false",
    "tags": []
   }
  },
  {
   "cell_type": "code",
   "execution_count": null,
   "source": [
    "mask_samples = sample_stats[COL_NO_IDENTIFIED] >= w_min_depth_sample.value\r\n",
    "print(f\"Selected {mask_samples.sum()} samples\")"
   ],
   "outputs": [],
   "metadata": {
    "Collapsed": "false",
    "tags": []
   }
  },
  {
   "cell_type": "code",
   "execution_count": null,
   "source": [
    "from vaep.data_handling import coverage\r\n",
    "x_50 = coverage(X.loc[mask_samples], coverage_col=0.5, coverage_row=0.2)\r\n",
    "# x_50_pca = log_z_zeroone_na(x_50) # there is a huge difference if NA is set to low value or mean!!\r\n",
    "x_90 = coverage(X.loc[mask_samples], 0.9, 0.9)"
   ],
   "outputs": [],
   "metadata": {
    "Collapsed": "false"
   }
  },
  {
   "cell_type": "code",
   "execution_count": null,
   "source": [
    "x_50.shape, x_90.shape"
   ],
   "outputs": [],
   "metadata": {
    "Collapsed": "false"
   }
  },
  {
   "cell_type": "code",
   "execution_count": null,
   "source": [
    "x_90.sample()"
   ],
   "outputs": [],
   "metadata": {
    "Collapsed": "false"
   }
  },
  {
   "cell_type": "markdown",
   "source": [
    "### Distribution of Intensity values\r\n",
    "- comparing non-transformed to $\\log_{10}$ transformed"
   ],
   "metadata": {
    "Collapsed": "false"
   }
  },
  {
   "cell_type": "code",
   "execution_count": null,
   "source": [
    "from vaep.transform import log\r\n",
    "from random import sample\r\n",
    "sample = x_50.sample()\r\n",
    "sample_id = int(sample_stats.loc[sample.index].SampleID_int)\r\n",
    "print(\"Sample ID:\", sample_id)\r\n",
    "sns.set(style=\"darkgrid\")\r\n",
    "\r\n",
    "fig, axes = plt.subplots(1,2, figsize=(10,3))\r\n",
    "sns.distplot(sample, bins=100, ax=axes[0])\r\n",
    "axes[0].set_title(\"Unnormalized distribution\")\r\n",
    "\r\n",
    "sample_log = log(sample) # natural logarithm, could also be base_2, base_10 logarithm\r\n",
    "sns.distplot(sample_log, bins=100, ax=axes[1])\r\n",
    "axes[1].set_title('log (ln) normalized distribution')\r\n",
    "\r\n",
    "_ = fig.suptitle(f\"Dynamic Range of measured intensities in sample {sample_id}\")\r\n",
    "fig.tight_layout(rect=[0, 0.03, 1, 0.95])\r\n",
    "_savefig(fig, 'distribution_peptides_sample_' + str(sample_id))"
   ],
   "outputs": [],
   "metadata": {
    "Collapsed": "false",
    "tags": []
   }
  },
  {
   "cell_type": "code",
   "execution_count": null,
   "source": [
    "from vaep.transform import log\r\n",
    "from random import sample\r\n",
    "sample = x_50.sample(axis=1)\r\n",
    "sample_id = sample.columns[0]\r\n",
    "print(\"Sample ID:\", sample_id)\r\n",
    "sns.set(style=\"darkgrid\")\r\n",
    "fig, axes = plt.subplots(1,2, figsize=(10,3))\r\n",
    "sns.distplot(sample, bins=100, ax=axes[0])\r\n",
    "axes[0].set_title(\"Unnormalized distribution\")\r\n",
    "\r\n",
    "sample_log = log(sample) # natural logarithm, could also be base_2, base_10 logarithm\r\n",
    "sns.distplot(sample_log, bins=100, ax=axes[1])\r\n",
    "axes[1].set_title('log (ln) normalized distribution')\r\n",
    "\r\n",
    "fig.suptitle(f\"Dynamic range of {sample_id} between samples\")\r\n",
    "fig.tight_layout(rect=[0, 0.03, 1, 0.95])\r\n",
    "_savefig(fig, 'distribution_peptides_sample_' + str(sample_id))"
   ],
   "outputs": [],
   "metadata": {
    "Collapsed": "false",
    "tags": []
   }
  },
  {
   "cell_type": "markdown",
   "source": [
    "### Reference table intensities (natural logarithm)\r\n",
    "\r\n",
    "14 to 23 spans a dynamic range of 3 orders of base 10"
   ],
   "metadata": {
    "Collapsed": "false"
   }
  },
  {
   "cell_type": "code",
   "execution_count": null,
   "source": [
    "pd.set_option('precision', 2)\r\n",
    "\r\n",
    "dynamic_range = pd.DataFrame(range(14, 24), columns=['x'])\r\n",
    "dynamic_range['$e^x$'] = dynamic_range.x.apply(np.exp)\r\n",
    "dynamic_range.set_index('x', inplace=True)\r\n",
    "dynamic_range.index.name = ''\r\n",
    "dynamic_range.T"
   ],
   "outputs": [],
   "metadata": {
    "Collapsed": "false"
   }
  },
  {
   "cell_type": "markdown",
   "source": [
    "## Next UP"
   ],
   "metadata": {
    "Collapsed": "false"
   }
  },
  {
   "cell_type": "markdown",
   "source": [
    "### Find Protein of Peptides\n",
    "- check with some reference list of peptides: This is created in `project\\FASTA_tryptic_digest.ipynb` "
   ],
   "metadata": {
    "Collapsed": "false"
   }
  },
  {
   "cell_type": "code",
   "execution_count": null,
   "source": [],
   "outputs": [],
   "metadata": {
    "Collapsed": "false"
   }
  },
  {
   "cell_type": "code",
   "execution_count": null,
   "source": [],
   "outputs": [],
   "metadata": {}
  }
 ],
 "metadata": {
  "kernelspec": {
   "display_name": "vaep",
   "language": "python",
   "name": "vaep"
  },
  "language_info": {
   "codemirror_mode": {
    "name": "ipython",
    "version": 3
   },
   "file_extension": ".py",
   "mimetype": "text/x-python",
   "name": "python",
   "nbconvert_exporter": "python",
   "pygments_lexer": "ipython3",
   "version": "3.8.5"
  },
  "nbdime-conflicts": {
   "local_diff": [
    {
     "diff": [
      {
       "diff": [
        {
         "diff": [
          {
           "key": 4,
           "op": "addrange",
           "valuelist": "5"
          },
          {
           "key": 4,
           "length": 1,
           "op": "removerange"
          }
         ],
         "key": 0,
         "op": "patch"
        }
       ],
       "key": "version",
       "op": "patch"
      }
     ],
     "key": "language_info",
     "op": "patch"
    }
   ],
   "remote_diff": [
    {
     "diff": [
      {
       "diff": [
        {
         "key": 0,
         "length": 1,
         "op": "removerange"
        }
       ],
       "key": "version",
       "op": "patch"
      }
     ],
     "key": "language_info",
     "op": "patch"
    }
   ]
  }
 },
 "nbformat": 4,
 "nbformat_minor": 4
}