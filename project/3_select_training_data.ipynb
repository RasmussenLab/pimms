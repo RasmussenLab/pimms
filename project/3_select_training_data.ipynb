{
 "cells": [
  {
   "cell_type": "code",
   "execution_count": null,
   "metadata": {},
   "outputs": [],
   "source": [
    "import json\n",
    "from pathlib import Path\n",
    "\n",
    "import pandas as pd"
   ]
  },
  {
   "cell_type": "code",
   "execution_count": null,
   "metadata": {},
   "outputs": [],
   "source": [
    "from src.src.config import FN_FASTA_DB\n",
    "from src.src.config import FOLDER_PROCESSED, FOLDER_DATA, FOLDER_TRAINING\n",
    "\n",
    "class Data:\n",
    "    pass\n",
    "data = Data()"
   ]
  },
  {
   "cell_type": "code",
   "execution_count": null,
   "metadata": {},
   "outputs": [],
   "source": [
    "data.sample_folders = [folder for folder in FOLDER_PROCESSED.iterdir() if folder.is_dir() ]\n",
    "data.sample_folders[-10:]"
   ]
  },
  {
   "cell_type": "code",
   "execution_count": null,
   "metadata": {},
   "outputs": [],
   "source": [
    "data.data_completeness = {}\n",
    "for folder in data.sample_folders:\n",
    "    key = folder.stem\n",
    "    try:\n",
    "        d = (folder / '0_completeness_all_genes.json').read_text()\n",
    "        d = json.loads(d)\n",
    "        data.data_completeness[key] = d\n",
    "    except FileNotFoundError:\n",
    "        print(f\"skip: {key}\")\n",
    "data.data_completeness = pd.DataFrame.from_dict(data.data_completeness, orient='index')"
   ]
  },
  {
   "cell_type": "code",
   "execution_count": null,
   "metadata": {},
   "outputs": [],
   "source": [
    "data.samples_per_gene = data.data_completeness.count().sort_values(ascending=False)\n",
    "data.samples_per_gene[:10]"
   ]
  },
  {
   "cell_type": "code",
   "execution_count": null,
   "metadata": {},
   "outputs": [],
   "source": [
    "gene = data.samples_per_gene.index[1]\n",
    "gene"
   ]
  },
  {
   "cell_type": "code",
   "execution_count": null,
   "metadata": {},
   "outputs": [],
   "source": [
    "class Analysis:\n",
    "    \n",
    "    def __init__(self, gene):\n",
    "        self.gene = gene\n",
    "\n",
    "analysis_gene = Analysis(gene)"
   ]
  },
  {
   "cell_type": "code",
   "execution_count": null,
   "metadata": {},
   "outputs": [],
   "source": [
    "setattr(data , gene, {})\n",
    "current_dict = getattr(data, gene)\n",
    "for folder in data.sample_folders:\n",
    "    key = folder.stem\n",
    "    try:\n",
    "        d = (folder / f\"{gene}.json\").read_text()\n",
    "        d = json.loads(d)\n",
    "        current_dict[key] = d['Intensity']\n",
    "    except FileNotFoundError:\n",
    "        print(f\"No dump of {gene} for {key}\")\n",
    "\n",
    "setattr(analysis_gene, 'data', pd.DataFrame.from_dict(current_dict, orient='index'))"
   ]
  },
  {
   "cell_type": "code",
   "execution_count": null,
   "metadata": {},
   "outputs": [],
   "source": [
    "analysis_gene.data.count().sort_values()"
   ]
  },
  {
   "cell_type": "markdown",
   "metadata": {},
   "source": [
    "## Select subset of peptides\n",
    "\n",
    "- peptides with few measurements might be non-unique (filter non-gene unqiue peptides?!)\n",
    "- aggregate peptides in a future step using\n",
    "    - fill NA values of well-cleave peptides based on miscleavages?\n",
    "    - discard non-often measured peptides?"
   ]
  },
  {
   "cell_type": "code",
   "execution_count": null,
   "metadata": {},
   "outputs": [],
   "source": [
    "c = analysis_gene.data.count().sort_index()\n",
    "c /= c.max()\n",
    "c.plot(kind='hist')"
   ]
  },
  {
   "cell_type": "code",
   "execution_count": null,
   "metadata": {},
   "outputs": [],
   "source": [
    "analysis_gene.peptides = c[c > 0.6 ].index\n",
    "len(analysis_gene.peptides)"
   ]
  },
  {
   "cell_type": "code",
   "execution_count": null,
   "metadata": {},
   "outputs": [],
   "source": [
    "analysis_gene.features_per_sample = analysis_gene.data[analysis_gene.peptides].notna().sum(axis=1)\n",
    "\n",
    "analysis_gene.features_per_sample.hist()"
   ]
  },
  {
   "cell_type": "code",
   "execution_count": null,
   "metadata": {},
   "outputs": [],
   "source": [
    "analysis_gene.peptides_per_run = analysis_gene.data.notna().sum(axis=1)\n",
    "\n",
    "_ = analysis_gene.peptides_per_run.plot(kind='hist', bins=10)\n",
    "analysis_gene.peptides_per_run.sort_values()"
   ]
  },
  {
   "cell_type": "code",
   "execution_count": null,
   "metadata": {},
   "outputs": [],
   "source": [
    "with open(FOLDER_TRAINING / f'{gene}.json', 'w') as f:\n",
    "    analysis_gene.data.loc[analysis_gene.peptides_per_run > 11].to_json(f)"
   ]
  },
  {
   "cell_type": "code",
   "execution_count": null,
   "metadata": {},
   "outputs": [],
   "source": [
    "analysis_gene.data.loc[analysis_gene.peptides_per_run > 11]"
   ]
  }
 ],
 "metadata": {
  "kernelspec": {
   "display_name": "vaep",
   "language": "python",
   "name": "vaep"
  },
  "language_info": {
   "codemirror_mode": {
    "name": "ipython",
    "version": 3
   },
   "file_extension": ".py",
   "mimetype": "text/x-python",
   "name": "python",
   "nbconvert_exporter": "python",
   "pygments_lexer": "ipython3",
   "version": "3.8.5"
  }
 },
 "nbformat": 4,
 "nbformat_minor": 4
}
