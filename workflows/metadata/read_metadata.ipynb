{
 "cells": [
  {
   "cell_type": "markdown",
   "metadata": {},
   "source": [
    "# Machine metadata in pandas DataFrame"
   ]
  },
  {
   "cell_type": "code",
   "execution_count": null,
   "metadata": {},
   "outputs": [],
   "source": [
    "import json\n",
    "import pathlib\n",
    "import pprint\n",
    "\n",
    "import pandas as pd\n",
    "pd.options.display.max_columns = 32\n",
    "\n",
    "import vaep.utils\n",
    "import vaep.pandas"
   ]
  },
  {
   "cell_type": "markdown",
   "metadata": {},
   "source": [
    "configs:"
   ]
  },
  {
   "cell_type": "code",
   "execution_count": null,
   "metadata": {},
   "outputs": [],
   "source": [
    "DATA_PROJECT = pathlib.Path('../../project/data')\n",
    "\n",
    "rawfile_metadata_in = 'rawfile_metadata.json'\n",
    "rawfile_metadata_out = DATA_PROJECT / 'rawfile_metadata.csv'\n",
    "rawfile_metadata_in"
   ]
  },
  {
   "cell_type": "markdown",
   "metadata": {},
   "source": [
    "read raw file created by snakemake workflow"
   ]
  },
  {
   "cell_type": "code",
   "execution_count": null,
   "metadata": {},
   "outputs": [],
   "source": [
    "with open(rawfile_metadata_in) as f:\n",
    "    data = json.load(f)\n",
    "\n",
    "key_sampled = vaep.utils.sample_iterable(data, 1)[0]\n",
    "sample = data[key_sampled]\n",
    "pprint.pprint(sample)"
   ]
  },
  {
   "cell_type": "code",
   "execution_count": null,
   "metadata": {},
   "outputs": [],
   "source": [
    "sample.keys()"
   ]
  },
  {
   "cell_type": "markdown",
   "metadata": {},
   "source": [
    "- essentially the all data is a dictionary with for keys: `['accession', 'cvLabel', 'name', 'value']`\n",
    "- pick for each type of entry in  `['FileProperties', 'InstrumentProperties', 'MsData', 'ScanSettings', 'SampleData']` \n",
    "    - the `name` and `value` for a single in a list of entries"
   ]
  },
  {
   "cell_type": "code",
   "execution_count": null,
   "metadata": {},
   "outputs": [],
   "source": [
    "parsed = {}\n",
    "for sample_id, meta_json in data.items():\n",
    "    selected = {}\n",
    "    for k, entries in meta_json.items():\n",
    "        for entry in entries:\n",
    "            selected[k, entry['name']] = entry['value']\n",
    "    parsed[sample_id] = selected\n",
    "pprint.pprint(parsed[sample_id])"
   ]
  },
  {
   "cell_type": "code",
   "execution_count": null,
   "metadata": {},
   "outputs": [],
   "source": [
    "# simple strings (not as shown by pprint)\n",
    "(parsed[sample_id][('InstrumentProperties', 'instrument serial number')],\n",
    " parsed[sample_id][('InstrumentProperties', 'Thermo Scientific instrument model')])"
   ]
  },
  {
   "cell_type": "markdown",
   "metadata": {},
   "source": [
    "Explicitly specifying the default dtypese here once. These are set when the data is read from the json file created in this script `rawfile_metadata_out`."
   ]
  },
  {
   "cell_type": "code",
   "execution_count": null,
   "metadata": {},
   "outputs": [],
   "source": [
    "# # df.dtypes.to_dict() needed parsing\n",
    "# from numpy import dtype\n",
    "# types = {\n",
    "#     ('FileProperties', 'Pathname'): dtype('O'),\n",
    "#     ('FileProperties', 'Version'): dtype('int64'),\n",
    "#     ('FileProperties', 'Content Creation Date'): dtype('O'),\n",
    "#     ('InstrumentProperties', 'Thermo Scientific instrument model'): dtype('O'),\n",
    "#     ('InstrumentProperties', 'instrument attribute'): dtype('O'),\n",
    "#     ('InstrumentProperties', 'instrument serial number'): dtype('O'),\n",
    "#     ('InstrumentProperties', 'Software Version'): dtype('O'),\n",
    "#     ('InstrumentProperties', 'firmware version'): dtype('O'),\n",
    "#     ('MsData', 'Number of MS1 spectra'): dtype('int64'),\n",
    "#     ('MsData', 'Number of MS2 spectra'): dtype('float64'),\n",
    "#     ('MsData', 'MS min charge'): dtype('int64'),\n",
    "#     ('MsData', 'MS max charge'): dtype('int64'),\n",
    "#     ('MsData', 'MS min RT'): dtype('float64'),\n",
    "#     ('MsData', 'MS max RT'): dtype('float64'),\n",
    "#     ('MsData', 'MS min MZ'): dtype('float64'),\n",
    "#     ('MsData', 'MS max MZ'): dtype('float64'),\n",
    "#     ('ScanSettings', 'scan start time'): dtype('float64'),\n",
    "#     ('ScanSettings', 'mass resolution'): dtype('float64'),\n",
    "#     ('ScanSettings', 'mass unit'): dtype('O'),\n",
    "#     ('ScanSettings', 'Number of scans'): dtype('int64'),\n",
    "#     ('ScanSettings', 'MS scan range'): dtype('O'),\n",
    "#     ('ScanSettings', 'Retention time range'): dtype('O'),\n",
    "#     ('ScanSettings', 'Mz range'): dtype('O'),\n",
    "#     ('ScanSettings', 'beam-type collision-induced dissociation'): dtype('O'),\n",
    "#     ('SampleData', 'sample number'): dtype('O'),\n",
    "#     ('SampleData', 'Type'): dtype('O'),\n",
    "#     ('SampleData', 'Vial'): dtype('O'),\n",
    "#     ('SampleData', 'injection volume setting'): dtype('float64'),\n",
    "#     ('SampleData', 'Row'): dtype('float64'),\n",
    "#     ('SampleData', 'dilution factor'): dtype('int64'), # fails with NA\n",
    "#     ('SampleData', 'sample name'): dtype('O'),\n",
    "#     ('SampleData', 'Comment'): dtype('O'),\n",
    "# }"
   ]
  },
  {
   "cell_type": "code",
   "execution_count": null,
   "metadata": {},
   "outputs": [],
   "source": [
    "df = pd.DataFrame.from_dict(parsed, orient='index')\n",
    "df.columns.names = ['category', 'item']\n",
    "df.index.name = 'Sample ID'\n",
    "\n",
    "# df = df.astype(types)\n",
    "\n",
    "# write and read to check that this works and convert dtypes directly\n",
    "# jso n format cannot preserve multiindex columns\n",
    "df.to_csv(rawfile_metadata_out)\n",
    "df =  pd.read_csv(rawfile_metadata_out, header=[0,1], index_col=0) # read data elsewhere, set dtypes automatically, multiindex headers\n",
    "df.describe(include='all')"
   ]
  },
  {
   "cell_type": "code",
   "execution_count": null,
   "metadata": {},
   "outputs": [],
   "source": [
    "df"
   ]
  },
  {
   "cell_type": "code",
   "execution_count": null,
   "metadata": {},
   "outputs": [],
   "source": [
    "df.dtypes"
   ]
  },
  {
   "cell_type": "code",
   "execution_count": null,
   "metadata": {},
   "outputs": [],
   "source": [
    "columns_selected = [\n",
    "    #  ('FileProperties', 'Pathname'),\n",
    "    #  ('FileProperties', 'Version'),\n",
    "    #  ('FileProperties', 'Content Creation Date'),\n",
    "    ('InstrumentProperties', 'Thermo Scientific instrument model'),\n",
    "    ('InstrumentProperties', 'instrument attribute'),\n",
    "    ('InstrumentProperties', 'instrument serial number'),\n",
    "    #  ('InstrumentProperties', 'Software Version'),\n",
    "    #  ('InstrumentProperties', 'firmware version'),\n",
    "    #  ('MsData', 'Number of MS1 spectra'),\n",
    "    #  ('MsData', 'Number of MS2 spectra')\n",
    "    ('MsData', 'MS min charge'),\n",
    "    ('MsData', 'MS max charge'),\n",
    "    ('MsData', 'MS min RT'),\n",
    "    ('MsData', 'MS max RT'),\n",
    "    ('MsData', 'MS min MZ'),\n",
    "    ('MsData', 'MS max MZ'),\n",
    "    #  ('ScanSettings', 'scan start time'),\n",
    "    ('ScanSettings', 'mass resolution'),\n",
    "    #  ('ScanSettings', 'mass unit'),\n",
    "    #  ('ScanSettings', 'Number of scans'),\n",
    "    #  ('ScanSettings', 'MS scan range'),\n",
    "    ('ScanSettings', 'Retention time range'),\n",
    "    ('ScanSettings', 'Mz range'),\n",
    "    ('ScanSettings', 'beam-type collision-induced dissociation'),\n",
    "    ('SampleData', 'sample number'),\n",
    "    ('SampleData', 'Type'),\n",
    "    ('SampleData', 'Vial'),\n",
    "    ('SampleData', 'injection volume setting'),\n",
    "    ('SampleData', 'Row'),\n",
    "    ('SampleData', 'dilution factor'),\n",
    "    #  ('SampleData', 'sample name'),\n",
    "    #  ('SampleData', 'Comment')\n",
    "]\n",
    "\n",
    "df[columns_selected]"
   ]
  },
  {
   "cell_type": "code",
   "execution_count": null,
   "metadata": {},
   "outputs": [],
   "source": [
    "df[columns_selected].describe(include='all')"
   ]
  },
  {
   "cell_type": "markdown",
   "metadata": {},
   "source": [
    "Test that dtypes of reloaded data are the same. Documents how to load metadata"
   ]
  },
  {
   "cell_type": "code",
   "execution_count": null,
   "metadata": {},
   "outputs": [],
   "source": [
    "# import numpy.testing as npt\n",
    "\n",
    "# desired = df.dtypes.to_dict()\n",
    "# # read data elsewhere, set dtypes automatically\n",
    "# df_new = pd.read_csv(rawfile_metadata_out, header=[0, 1], index_col=0)\n",
    "# actual = df_new.dtypes.to_dict()\n",
    "# npt.assert_equal(actual, desired)"
   ]
  },
  {
   "cell_type": "code",
   "execution_count": null,
   "metadata": {},
   "outputs": [],
   "source": []
  }
 ],
 "metadata": {
  "interpreter": {
   "hash": "a3c193f136b3677f7a0d8b8f2344336d9d9fbcf8449c7b9fd96c2b5d44d3d77c"
  },
  "kernelspec": {
   "display_name": "Python 3",
   "language": "python",
   "name": "python3"
  },
  "language_info": {
   "codemirror_mode": {
    "name": "ipython",
    "version": 3
   },
   "file_extension": ".py",
   "mimetype": "text/x-python",
   "name": "python",
   "nbconvert_exporter": "python",
   "pygments_lexer": "ipython3",
   "version": "3.8.12"
  }
 },
 "nbformat": 4,
 "nbformat_minor": 4
}
