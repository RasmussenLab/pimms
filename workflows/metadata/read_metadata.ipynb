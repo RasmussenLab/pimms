{
 "cells": [
  {
   "cell_type": "code",
   "execution_count": null,
   "metadata": {},
   "outputs": [],
   "source": [
    "import pprint\n",
    "import json\n",
    "import pandas as pd\n",
    "pd.options.display.max_columns = 32\n",
    "\n",
    "import vaep.pandas\n",
    "import vaep.utils"
   ]
  },
  {
   "cell_type": "code",
   "execution_count": null,
   "metadata": {},
   "outputs": [],
   "source": [
    "rawfile_metadata = 'rawfile_metadata.json'\n",
    "rawfile_metadata"
   ]
  },
  {
   "cell_type": "code",
   "execution_count": null,
   "metadata": {},
   "outputs": [],
   "source": [
    "with open(rawfile_metadata) as f:\n",
    "    data = json.load(f)\n",
    "\n",
    "key_sampled = vaep.utils.sample_iterable(data, 1)[0]\n",
    "sample = data[key_sampled]\n",
    "pprint.pprint(sample)"
   ]
  },
  {
   "cell_type": "code",
   "execution_count": null,
   "metadata": {},
   "outputs": [],
   "source": [
    "sample.keys()"
   ]
  },
  {
   "cell_type": "markdown",
   "metadata": {},
   "source": [
    "- essentially the all data is a dictionary with for keys: `['accession', 'cvLabel', 'name', 'value']`\n",
    "- pick for each type of entry in  `['FileProperties', 'InstrumentProperties', 'MsData', 'ScanSettings', 'SampleData']` \n",
    "    - the `name` and `value` for a single in a list of entries"
   ]
  },
  {
   "cell_type": "code",
   "execution_count": null,
   "metadata": {},
   "outputs": [],
   "source": [
    "parsed = {}\n",
    "for sample_id, meta_json in data.items():\n",
    "    selected = {}\n",
    "    for k, entries in meta_json.items():\n",
    "        for entry in entries:            \n",
    "            selected[k, entry['name']] = entry['value']\n",
    "    parsed[sample_id] = selected\n",
    "\n",
    "\n",
    "df = pd.DataFrame.from_dict(parsed, orient='index')\n",
    "df.describe()\n",
    "    "
   ]
  },
  {
   "cell_type": "code",
   "execution_count": null,
   "metadata": {},
   "outputs": [],
   "source": [
    "df"
   ]
  }
 ],
 "metadata": {
  "interpreter": {
   "hash": "a3c193f136b3677f7a0d8b8f2344336d9d9fbcf8449c7b9fd96c2b5d44d3d77c"
  },
  "kernelspec": {
   "display_name": "Python 3.8.12 ('vaep')",
   "language": "python",
   "name": "python3"
  },
  "language_info": {
   "codemirror_mode": {
    "name": "ipython",
    "version": 3
   },
   "file_extension": ".py",
   "mimetype": "text/x-python",
   "name": "python",
   "nbconvert_exporter": "python",
   "pygments_lexer": "ipython3",
   "version": "3.8.12"
  },
  "orig_nbformat": 4
 },
 "nbformat": 4,
 "nbformat_minor": 2
}
